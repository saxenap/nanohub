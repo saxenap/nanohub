{
 "cells": [
  {
   "cell_type": "markdown",
   "metadata": {
    "papermill": {
     "duration": 0.022947,
     "end_time": "2021-01-22T18:22:22.235678",
     "exception": false,
     "start_time": "2021-01-22T18:22:22.212731",
     "status": "completed"
    },
    "tags": []
   },
   "source": [
    "# Builds GH's 2 year scorecard"
   ]
  },
  {
   "cell_type": "code",
   "execution_count": 1,
   "metadata": {
    "execution": {
     "iopub.execute_input": "2021-01-22T18:22:22.285292Z",
     "iopub.status.busy": "2021-01-22T18:22:22.284653Z",
     "iopub.status.idle": "2021-01-22T18:22:22.287075Z",
     "shell.execute_reply": "2021-01-22T18:22:22.287529Z"
    },
    "papermill": {
     "duration": 0.03086,
     "end_time": "2021-01-22T18:22:22.287763",
     "exception": false,
     "start_time": "2021-01-22T18:22:22.256903",
     "status": "completed"
    },
    "tags": []
   },
   "outputs": [],
   "source": [
    "# API settings\n",
    "api_url = '/services/data/v43.0/sobjects'\n",
    "external_id = 'Name'\n",
    "object_id = 'ContactToolAssociation__c'\n",
    "\n",
    "# login parameters to be handled by Papermill\n",
    "sql_login_params = {\"username\": \"wang2506_ro\", \"password\": \"fnVnwcCS7iT45EsA\"}\n",
    "sf_login_params = {\n",
    "    \"grant_type\": \"password\",\n",
    "    \"client_id\": \"3MVG95jctIhbyCppj0SNJ75IsZ1y8UPGZtSNF4j8FNVXz.De8Lu4jHm3rjRosAtsHy6qjHx3i4S_QbQzvBePG\",\n",
    "    \"client_secret\": \"D1623C6D3607D4FC8004B92C761DFB6C1F70CCD129C5501E357028DFA00F5764\",\n",
    "    \"username\":\"wang2506@purdue.edu\",\n",
    "    \"password\":\"sf2021shitOPmlIiFMLnrudgC6oSX0WV1T\",   \n",
    "}\n",
    "    #\"username\": \"wang159-4j1v@force.com\",\n",
    "    #\"password\": \"napoleon0eZ3PQpQqE3C3z4wWqEqKGhQ8\","
   ]
  },
  {
   "cell_type": "code",
   "execution_count": 2,
   "metadata": {
    "execution": {
     "iopub.execute_input": "2021-01-22T18:22:22.332145Z",
     "iopub.status.busy": "2021-01-22T18:22:22.331532Z",
     "iopub.status.idle": "2021-01-22T18:22:22.723452Z",
     "shell.execute_reply": "2021-01-22T18:22:22.723909Z"
    },
    "papermill": {
     "duration": 0.416526,
     "end_time": "2021-01-22T18:22:22.724090",
     "exception": false,
     "start_time": "2021-01-22T18:22:22.307564",
     "status": "completed"
    },
    "tags": []
   },
   "outputs": [],
   "source": [
    "import sys\n",
    "sys.path.append('/home/users/wang2506/nanohub_salesforce_integ/salesforce')\n",
    "\n",
    "import pandas as pd\n",
    "import time\n",
    "import datetime\n",
    "\n",
    "from DB2SalesforceAPI import DB2SalesforceAPI"
   ]
  },
  {
   "cell_type": "markdown",
   "metadata": {
    "papermill": {
     "duration": 0.020049,
     "end_time": "2021-01-22T18:22:22.764311",
     "exception": false,
     "start_time": "2021-01-22T18:22:22.744262",
     "status": "completed"
    },
    "tags": []
   },
   "source": [
    "## Pull data from SF"
   ]
  },
  {
   "cell_type": "code",
   "execution_count": 3,
   "metadata": {
    "execution": {
     "iopub.execute_input": "2021-01-22T18:22:22.808016Z",
     "iopub.status.busy": "2021-01-22T18:22:22.807451Z",
     "iopub.status.idle": "2021-01-22T18:22:22.810279Z",
     "shell.execute_reply": "2021-01-22T18:22:22.809675Z"
    },
    "papermill": {
     "duration": 0.026262,
     "end_time": "2021-01-22T18:22:22.810439",
     "exception": false,
     "start_time": "2021-01-22T18:22:22.784177",
     "status": "completed"
    },
    "tags": []
   },
   "outputs": [],
   "source": [
    "##########################################################################################\n",
    "## 1 - Pull all tool_usage_cluster__c information\n",
    "##     i) ID\n",
    "##     ii) Ending_Date__c\n",
    "##     iii) Starting_Date__c\n",
    "##     iv) Organization__c\n",
    "##     v) Estimated_cluster_size__c\n",
    "##     vi) Estimated_number_of_tools__c\n",
    "##########################################################################################"
   ]
  },
  {
   "cell_type": "code",
   "execution_count": 4,
   "metadata": {
    "execution": {
     "iopub.execute_input": "2021-01-22T18:22:22.854951Z",
     "iopub.status.busy": "2021-01-22T18:22:22.854378Z",
     "iopub.status.idle": "2021-01-22T18:22:23.197110Z",
     "shell.execute_reply": "2021-01-22T18:22:23.196656Z"
    },
    "papermill": {
     "duration": 0.367244,
     "end_time": "2021-01-22T18:22:23.197248",
     "exception": false,
     "start_time": "2021-01-22T18:22:22.830004",
     "status": "completed"
    },
    "tags": []
   },
   "outputs": [
    {
     "name": "stdout",
     "output_type": "stream",
     "text": [
      "Obtained Salesforce access token ...... True\n",
      "Obtained Salesforce access token ...... True\n"
     ]
    }
   ],
   "source": [
    "db_1 = DB2SalesforceAPI(sf_login_params)\n",
    "db_2 = DB2SalesforceAPI(sf_login_params)"
   ]
  },
  {
   "cell_type": "code",
   "execution_count": 5,
   "metadata": {
    "execution": {
     "iopub.execute_input": "2021-01-22T18:22:23.245524Z",
     "iopub.status.busy": "2021-01-22T18:22:23.244938Z",
     "iopub.status.idle": "2021-01-22T18:22:35.003152Z",
     "shell.execute_reply": "2021-01-22T18:22:35.002127Z"
    },
    "papermill": {
     "duration": 11.783976,
     "end_time": "2021-01-22T18:22:35.003388",
     "exception": false,
     "start_time": "2021-01-22T18:22:23.219412",
     "status": "completed"
    },
    "tags": []
   },
   "outputs": [
    {
     "name": "stdout",
     "output_type": "stream",
     "text": [
      "[Success] Bulk job creation successful. Job ID = 7505w00000VprABAAZ\n",
      "{\"id\":\"7505w00000VprABAAZ\",\"operation\":\"query\",\"object\":\"tool_usage_cluster__c\",\"createdById\":\"0055w00000DM5bOAAT\",\"createdDate\":\"2021-04-27T03:59:44.000+0000\",\"systemModstamp\":\"2021-04-27T03:59:44.000+0000\",\"state\":\"UploadComplete\",\"concurrencyMode\":\"Parallel\",\"contentType\":\"CSV\",\"apiVersion\":47.0,\"jobType\":\"V2Query\",\"lineEnding\":\"LF\",\"columnDelimiter\":\"COMMA\",\"retries\":0,\"totalProcessingTime\":0}\n",
      "{\"id\":\"7505w00000VprABAAZ\",\"operation\":\"query\",\"object\":\"tool_usage_cluster__c\",\"createdById\":\"0055w00000DM5bOAAT\",\"createdDate\":\"2021-04-27T03:59:44.000+0000\",\"systemModstamp\":\"2021-04-27T03:59:47.000+0000\",\"state\":\"JobComplete\",\"concurrencyMode\":\"Parallel\",\"contentType\":\"CSV\",\"apiVersion\":47.0,\"jobType\":\"V2Query\",\"lineEnding\":\"LF\",\"columnDelimiter\":\"COMMA\",\"numberRecordsProcessed\":4290,\"retries\":0,\"totalProcessingTime\":820}\n",
      "[Success] Bulk job completed successfully.\n"
     ]
    }
   ],
   "source": [
    "tool_cluster_df = db_1.query_data('Select ID, Ending_Date__c, Starting_Date__c, Organization__c,Estimated_cluster_size__c, \\\n",
    "                        Estimated_number_of_tools__c from tool_usage_cluster__c')"
   ]
  },
  {
   "cell_type": "code",
   "execution_count": 6,
   "metadata": {
    "execution": {
     "iopub.execute_input": "2021-01-22T18:22:35.091173Z",
     "iopub.status.busy": "2021-01-22T18:22:35.090562Z",
     "iopub.status.idle": "2021-01-22T18:22:35.098064Z",
     "shell.execute_reply": "2021-01-22T18:22:35.098656Z"
    },
    "papermill": {
     "duration": 0.050217,
     "end_time": "2021-01-22T18:22:35.098829",
     "exception": false,
     "start_time": "2021-01-22T18:22:35.048612",
     "status": "completed"
    },
    "tags": []
   },
   "outputs": [
    {
     "data": {
      "text/html": [
       "<div>\n",
       "<style scoped>\n",
       "    .dataframe tbody tr th:only-of-type {\n",
       "        vertical-align: middle;\n",
       "    }\n",
       "\n",
       "    .dataframe tbody tr th {\n",
       "        vertical-align: top;\n",
       "    }\n",
       "\n",
       "    .dataframe thead th {\n",
       "        text-align: right;\n",
       "    }\n",
       "</style>\n",
       "<table border=\"1\" class=\"dataframe\">\n",
       "  <thead>\n",
       "    <tr style=\"text-align: right;\">\n",
       "      <th></th>\n",
       "      <th>Ending_Date__c</th>\n",
       "      <th>Estimated_cluster_size__c</th>\n",
       "      <th>Estimated_number_of_tools__c</th>\n",
       "      <th>Id</th>\n",
       "      <th>Organization__c</th>\n",
       "      <th>Starting_Date__c</th>\n",
       "    </tr>\n",
       "  </thead>\n",
       "  <tbody>\n",
       "    <tr>\n",
       "      <th>0</th>\n",
       "      <td>2011-01-30</td>\n",
       "      <td>12.0</td>\n",
       "      <td>5.0</td>\n",
       "      <td>a0w5w000009Q7CuAAK</td>\n",
       "      <td>NaN</td>\n",
       "      <td>2010-09-05</td>\n",
       "    </tr>\n",
       "    <tr>\n",
       "      <th>1</th>\n",
       "      <td>2018-11-30</td>\n",
       "      <td>5.0</td>\n",
       "      <td>1.0</td>\n",
       "      <td>a0w5w000009Q7CvAAK</td>\n",
       "      <td>a0r5w00000V42iyAAB</td>\n",
       "      <td>2018-11-29</td>\n",
       "    </tr>\n",
       "    <tr>\n",
       "      <th>2</th>\n",
       "      <td>2019-11-28</td>\n",
       "      <td>39.0</td>\n",
       "      <td>3.0</td>\n",
       "      <td>a0w5w000009Q7CwAAK</td>\n",
       "      <td>a0r5w00000V42iyAAB</td>\n",
       "      <td>2019-11-04</td>\n",
       "    </tr>\n",
       "    <tr>\n",
       "      <th>3</th>\n",
       "      <td>2017-12-16</td>\n",
       "      <td>44.0</td>\n",
       "      <td>2.0</td>\n",
       "      <td>a0w5w000009Q7CxAAK</td>\n",
       "      <td>a0r5w00000V42cCAAR</td>\n",
       "      <td>2017-10-03</td>\n",
       "    </tr>\n",
       "    <tr>\n",
       "      <th>4</th>\n",
       "      <td>2018-01-21</td>\n",
       "      <td>18.0</td>\n",
       "      <td>1.0</td>\n",
       "      <td>a0w5w000009Q7CyAAK</td>\n",
       "      <td>a0r5w00000V42cCAAR</td>\n",
       "      <td>2018-01-15</td>\n",
       "    </tr>\n",
       "  </tbody>\n",
       "</table>\n",
       "</div>"
      ],
      "text/plain": [
       "  Ending_Date__c  Estimated_cluster_size__c  Estimated_number_of_tools__c  \\\n",
       "0     2011-01-30                       12.0                           5.0   \n",
       "1     2018-11-30                        5.0                           1.0   \n",
       "2     2019-11-28                       39.0                           3.0   \n",
       "3     2017-12-16                       44.0                           2.0   \n",
       "4     2018-01-21                       18.0                           1.0   \n",
       "\n",
       "                   Id     Organization__c Starting_Date__c  \n",
       "0  a0w5w000009Q7CuAAK                 NaN       2010-09-05  \n",
       "1  a0w5w000009Q7CvAAK  a0r5w00000V42iyAAB       2018-11-29  \n",
       "2  a0w5w000009Q7CwAAK  a0r5w00000V42iyAAB       2019-11-04  \n",
       "3  a0w5w000009Q7CxAAK  a0r5w00000V42cCAAR       2017-10-03  \n",
       "4  a0w5w000009Q7CyAAK  a0r5w00000V42cCAAR       2018-01-15  "
      ]
     },
     "metadata": {},
     "output_type": "display_data"
    },
    {
     "name": "stdout",
     "output_type": "stream",
     "text": [
      "(4290, 6)\n"
     ]
    }
   ],
   "source": [
    "display(tool_cluster_df.head(5))\n",
    "print(tool_cluster_df.shape)"
   ]
  },
  {
   "cell_type": "code",
   "execution_count": 7,
   "metadata": {},
   "outputs": [],
   "source": [
    "tool_cluster_df.to_csv('backup_tool_cluster_df.csv')"
   ]
  },
  {
   "cell_type": "code",
   "execution_count": 8,
   "metadata": {
    "execution": {
     "iopub.execute_input": "2021-01-22T18:22:35.149536Z",
     "iopub.status.busy": "2021-01-22T18:22:35.148933Z",
     "iopub.status.idle": "2021-01-22T18:22:48.485345Z",
     "shell.execute_reply": "2021-01-22T18:22:48.484734Z"
    },
    "papermill": {
     "duration": 13.363479,
     "end_time": "2021-01-22T18:22:48.485502",
     "exception": false,
     "start_time": "2021-01-22T18:22:35.122023",
     "status": "completed"
    },
    "tags": []
   },
   "outputs": [
    {
     "name": "stdout",
     "output_type": "stream",
     "text": [
      "[Success] Bulk job creation successful. Job ID = 7505w00000VprALAAZ\n",
      "{\"id\":\"7505w00000VprALAAZ\",\"operation\":\"query\",\"object\":\"ContactToolClusterAssociation__c\",\"createdById\":\"0055w00000DM5bOAAT\",\"createdDate\":\"2021-04-27T03:59:56.000+0000\",\"systemModstamp\":\"2021-04-27T03:59:56.000+0000\",\"state\":\"InProgress\",\"concurrencyMode\":\"Parallel\",\"contentType\":\"CSV\",\"apiVersion\":47.0,\"jobType\":\"V2Query\",\"lineEnding\":\"LF\",\"columnDelimiter\":\"COMMA\",\"numberRecordsProcessed\":0,\"retries\":0,\"totalProcessingTime\":0}\n",
      "{\"id\":\"7505w00000VprALAAZ\",\"operation\":\"query\",\"object\":\"ContactToolClusterAssociation__c\",\"createdById\":\"0055w00000DM5bOAAT\",\"createdDate\":\"2021-04-27T03:59:56.000+0000\",\"systemModstamp\":\"2021-04-27T03:59:56.000+0000\",\"state\":\"InProgress\",\"concurrencyMode\":\"Parallel\",\"contentType\":\"CSV\",\"apiVersion\":47.0,\"jobType\":\"V2Query\",\"lineEnding\":\"LF\",\"columnDelimiter\":\"COMMA\",\"numberRecordsProcessed\":0,\"retries\":0,\"totalProcessingTime\":0}\n",
      "{\"id\":\"7505w00000VprALAAZ\",\"operation\":\"query\",\"object\":\"ContactToolClusterAssociation__c\",\"createdById\":\"0055w00000DM5bOAAT\",\"createdDate\":\"2021-04-27T03:59:56.000+0000\",\"systemModstamp\":\"2021-04-27T04:00:15.000+0000\",\"state\":\"JobComplete\",\"concurrencyMode\":\"Parallel\",\"contentType\":\"CSV\",\"apiVersion\":47.0,\"jobType\":\"V2Query\",\"lineEnding\":\"LF\",\"columnDelimiter\":\"COMMA\",\"numberRecordsProcessed\":98079,\"retries\":0,\"totalProcessingTime\":18381}\n",
      "[Success] Bulk job completed successfully.\n"
     ]
    }
   ],
   "source": [
    "## pull the list of contacts within each cluster   \n",
    "# contacts_in_cluster_df = db_2.query_data('Select Contact__c, Tool_Usage_Cluster__c from ContactToolClusterAssociation__c')\n",
    "lim_val = 5*10**6\n",
    "contacts_in_cluster_df = db_1.query_data('Select Contact__c,Tool_Usage_Cluster__c from ContactToolClusterAssociation__c limit '\\\n",
    "                +str(lim_val))"
   ]
  },
  {
   "cell_type": "code",
   "execution_count": 9,
   "metadata": {
    "execution": {
     "iopub.execute_input": "2021-01-22T18:22:48.540669Z",
     "iopub.status.busy": "2021-01-22T18:22:48.540028Z",
     "iopub.status.idle": "2021-01-22T18:22:48.544024Z",
     "shell.execute_reply": "2021-01-22T18:22:48.544660Z"
    },
    "papermill": {
     "duration": 0.036426,
     "end_time": "2021-01-22T18:22:48.544874",
     "exception": false,
     "start_time": "2021-01-22T18:22:48.508448",
     "status": "completed"
    },
    "tags": []
   },
   "outputs": [
    {
     "data": {
      "text/html": [
       "<div>\n",
       "<style scoped>\n",
       "    .dataframe tbody tr th:only-of-type {\n",
       "        vertical-align: middle;\n",
       "    }\n",
       "\n",
       "    .dataframe tbody tr th {\n",
       "        vertical-align: top;\n",
       "    }\n",
       "\n",
       "    .dataframe thead th {\n",
       "        text-align: right;\n",
       "    }\n",
       "</style>\n",
       "<table border=\"1\" class=\"dataframe\">\n",
       "  <thead>\n",
       "    <tr style=\"text-align: right;\">\n",
       "      <th></th>\n",
       "      <th>Contact__c</th>\n",
       "      <th>Tool_Usage_Cluster__c</th>\n",
       "    </tr>\n",
       "  </thead>\n",
       "  <tbody>\n",
       "    <tr>\n",
       "      <th>0</th>\n",
       "      <td>0035w00003NeIaTAAV</td>\n",
       "      <td>a0w5w00000AXc7TAAT</td>\n",
       "    </tr>\n",
       "    <tr>\n",
       "      <th>1</th>\n",
       "      <td>0035w00003NeIaFAAV</td>\n",
       "      <td>a0w5w00000AXc7TAAT</td>\n",
       "    </tr>\n",
       "    <tr>\n",
       "      <th>2</th>\n",
       "      <td>0035w00003NeIaXAAV</td>\n",
       "      <td>a0w5w00000AXc7TAAT</td>\n",
       "    </tr>\n",
       "    <tr>\n",
       "      <th>3</th>\n",
       "      <td>0035w00003NeIaEAAV</td>\n",
       "      <td>a0w5w00000AXc7TAAT</td>\n",
       "    </tr>\n",
       "    <tr>\n",
       "      <th>4</th>\n",
       "      <td>0035w00003NeIaeAAF</td>\n",
       "      <td>a0w5w00000AXc7TAAT</td>\n",
       "    </tr>\n",
       "  </tbody>\n",
       "</table>\n",
       "</div>"
      ],
      "text/plain": [
       "           Contact__c Tool_Usage_Cluster__c\n",
       "0  0035w00003NeIaTAAV    a0w5w00000AXc7TAAT\n",
       "1  0035w00003NeIaFAAV    a0w5w00000AXc7TAAT\n",
       "2  0035w00003NeIaXAAV    a0w5w00000AXc7TAAT\n",
       "3  0035w00003NeIaEAAV    a0w5w00000AXc7TAAT\n",
       "4  0035w00003NeIaeAAF    a0w5w00000AXc7TAAT"
      ]
     },
     "metadata": {},
     "output_type": "display_data"
    }
   ],
   "source": [
    "display(contacts_in_cluster_df.head(5))\n",
    "# contacts_in_cluster_df.to_csv('backup_contacts_in_clusters.csv')"
   ]
  },
  {
   "cell_type": "code",
   "execution_count": 10,
   "metadata": {
    "execution": {
     "iopub.execute_input": "2021-01-22T18:22:48.598116Z",
     "iopub.status.busy": "2021-01-22T18:22:48.597565Z",
     "iopub.status.idle": "2021-01-22T18:22:48.600712Z",
     "shell.execute_reply": "2021-01-22T18:22:48.600103Z"
    },
    "papermill": {
     "duration": 0.031699,
     "end_time": "2021-01-22T18:22:48.600843",
     "exception": false,
     "start_time": "2021-01-22T18:22:48.569144",
     "status": "completed"
    },
    "tags": []
   },
   "outputs": [
    {
     "data": {
      "text/plain": [
       "(98079, 2)"
      ]
     },
     "execution_count": 10,
     "metadata": {},
     "output_type": "execute_result"
    }
   ],
   "source": [
    "contacts_in_cluster_df.shape"
   ]
  },
  {
   "cell_type": "code",
   "execution_count": 11,
   "metadata": {
    "execution": {
     "iopub.execute_input": "2021-01-22T18:22:48.654713Z",
     "iopub.status.busy": "2021-01-22T18:22:48.654131Z",
     "iopub.status.idle": "2021-01-22T18:22:48.657231Z",
     "shell.execute_reply": "2021-01-22T18:22:48.657657Z"
    },
    "papermill": {
     "duration": 0.031957,
     "end_time": "2021-01-22T18:22:48.657824",
     "exception": false,
     "start_time": "2021-01-22T18:22:48.625867",
     "status": "completed"
    },
    "tags": []
   },
   "outputs": [
    {
     "name": "stdout",
     "output_type": "stream",
     "text": [
      "2021-04-27 00:00:20.089087\n"
     ]
    }
   ],
   "source": [
    "## filter by dates, keep only most recent two years worth of data\n",
    "import datetime\n",
    "print(datetime.datetime.now())"
   ]
  },
  {
   "cell_type": "code",
   "execution_count": 12,
   "metadata": {
    "execution": {
     "iopub.execute_input": "2021-01-22T18:22:48.711839Z",
     "iopub.status.busy": "2021-01-22T18:22:48.711243Z",
     "iopub.status.idle": "2021-01-22T18:22:48.713555Z",
     "shell.execute_reply": "2021-01-22T18:22:48.714116Z"
    },
    "papermill": {
     "duration": 0.031635,
     "end_time": "2021-01-22T18:22:48.714278",
     "exception": false,
     "start_time": "2021-01-22T18:22:48.682643",
     "status": "completed"
    },
    "tags": []
   },
   "outputs": [],
   "source": [
    "now = datetime.datetime.now() \n",
    "date_diff = datetime.timedelta(days=365*4+7) #4 years instead of two years now, +1 week due to current week errors\n",
    "earliest = now-date_diff"
   ]
  },
  {
   "cell_type": "code",
   "execution_count": 13,
   "metadata": {
    "execution": {
     "iopub.execute_input": "2021-01-22T18:22:48.769293Z",
     "iopub.status.busy": "2021-01-22T18:22:48.768723Z",
     "iopub.status.idle": "2021-01-22T18:22:48.772580Z",
     "shell.execute_reply": "2021-01-22T18:22:48.771884Z"
    },
    "papermill": {
     "duration": 0.033863,
     "end_time": "2021-01-22T18:22:48.772716",
     "exception": false,
     "start_time": "2021-01-22T18:22:48.738853",
     "status": "completed"
    },
    "tags": []
   },
   "outputs": [],
   "source": [
    "earliest_string = '{year}-{month}-{day}'.format(year=earliest.year, month = earliest.month, day = earliest.day)\n",
    "earliest_date = datetime.datetime.strptime(earliest_string,'%Y-%m-%d')"
   ]
  },
  {
   "cell_type": "code",
   "execution_count": 14,
   "metadata": {
    "execution": {
     "iopub.execute_input": "2021-01-22T18:22:48.851398Z",
     "iopub.status.busy": "2021-01-22T18:22:48.850795Z",
     "iopub.status.idle": "2021-01-22T18:22:48.863306Z",
     "shell.execute_reply": "2021-01-22T18:22:48.863960Z"
    },
    "papermill": {
     "duration": 0.066878,
     "end_time": "2021-01-22T18:22:48.864157",
     "exception": false,
     "start_time": "2021-01-22T18:22:48.797279",
     "status": "completed"
    },
    "tags": []
   },
   "outputs": [
    {
     "name": "stdout",
     "output_type": "stream",
     "text": [
      "1954\n"
     ]
    }
   ],
   "source": [
    "row_indexes = []\n",
    "starting = tool_cluster_df['Starting_Date__c'].to_list()\n",
    "#ending = tool_cluster_df['Ending_Date__c'].to_list()\n",
    "\n",
    "#check starting dates 2 years\n",
    "for i,j in enumerate(starting):\n",
    "    j = datetime.datetime.strptime(j,'%Y-%m-%d')\n",
    "    \n",
    "    if j >= earliest:\n",
    "        row_indexes.append(i)\n",
    "\n",
    "print(len(row_indexes))"
   ]
  },
  {
   "cell_type": "code",
   "execution_count": 15,
   "metadata": {
    "execution": {
     "iopub.execute_input": "2021-01-22T18:22:48.920691Z",
     "iopub.status.busy": "2021-01-22T18:22:48.918982Z",
     "iopub.status.idle": "2021-01-22T18:22:48.933470Z",
     "shell.execute_reply": "2021-01-22T18:22:48.933877Z"
    },
    "papermill": {
     "duration": 0.044791,
     "end_time": "2021-01-22T18:22:48.934047",
     "exception": false,
     "start_time": "2021-01-22T18:22:48.889256",
     "status": "completed"
    },
    "tags": []
   },
   "outputs": [
    {
     "data": {
      "text/html": [
       "<div>\n",
       "<style scoped>\n",
       "    .dataframe tbody tr th:only-of-type {\n",
       "        vertical-align: middle;\n",
       "    }\n",
       "\n",
       "    .dataframe tbody tr th {\n",
       "        vertical-align: top;\n",
       "    }\n",
       "\n",
       "    .dataframe thead th {\n",
       "        text-align: right;\n",
       "    }\n",
       "</style>\n",
       "<table border=\"1\" class=\"dataframe\">\n",
       "  <thead>\n",
       "    <tr style=\"text-align: right;\">\n",
       "      <th></th>\n",
       "      <th>Ending_Date__c</th>\n",
       "      <th>Estimated_cluster_size__c</th>\n",
       "      <th>Estimated_number_of_tools__c</th>\n",
       "      <th>Id</th>\n",
       "      <th>Organization__c</th>\n",
       "      <th>Starting_Date__c</th>\n",
       "    </tr>\n",
       "  </thead>\n",
       "  <tbody>\n",
       "    <tr>\n",
       "      <th>0</th>\n",
       "      <td>2018-11-30</td>\n",
       "      <td>5.0</td>\n",
       "      <td>1.0</td>\n",
       "      <td>a0w5w000009Q7CvAAK</td>\n",
       "      <td>a0r5w00000V42iyAAB</td>\n",
       "      <td>2018-11-29</td>\n",
       "    </tr>\n",
       "    <tr>\n",
       "      <th>1</th>\n",
       "      <td>2019-11-28</td>\n",
       "      <td>39.0</td>\n",
       "      <td>3.0</td>\n",
       "      <td>a0w5w000009Q7CwAAK</td>\n",
       "      <td>a0r5w00000V42iyAAB</td>\n",
       "      <td>2019-11-04</td>\n",
       "    </tr>\n",
       "    <tr>\n",
       "      <th>2</th>\n",
       "      <td>2017-12-16</td>\n",
       "      <td>44.0</td>\n",
       "      <td>2.0</td>\n",
       "      <td>a0w5w000009Q7CxAAK</td>\n",
       "      <td>a0r5w00000V42cCAAR</td>\n",
       "      <td>2017-10-03</td>\n",
       "    </tr>\n",
       "    <tr>\n",
       "      <th>3</th>\n",
       "      <td>2018-01-21</td>\n",
       "      <td>18.0</td>\n",
       "      <td>1.0</td>\n",
       "      <td>a0w5w000009Q7CyAAK</td>\n",
       "      <td>a0r5w00000V42cCAAR</td>\n",
       "      <td>2018-01-15</td>\n",
       "    </tr>\n",
       "    <tr>\n",
       "      <th>4</th>\n",
       "      <td>2018-04-19</td>\n",
       "      <td>45.0</td>\n",
       "      <td>3.0</td>\n",
       "      <td>a0w5w000009Q7CzAAK</td>\n",
       "      <td>a0r5w00000V42cCAAR</td>\n",
       "      <td>2018-02-05</td>\n",
       "    </tr>\n",
       "  </tbody>\n",
       "</table>\n",
       "</div>"
      ],
      "text/plain": [
       "  Ending_Date__c  Estimated_cluster_size__c  Estimated_number_of_tools__c  \\\n",
       "0     2018-11-30                        5.0                           1.0   \n",
       "1     2019-11-28                       39.0                           3.0   \n",
       "2     2017-12-16                       44.0                           2.0   \n",
       "3     2018-01-21                       18.0                           1.0   \n",
       "4     2018-04-19                       45.0                           3.0   \n",
       "\n",
       "                   Id     Organization__c Starting_Date__c  \n",
       "0  a0w5w000009Q7CvAAK  a0r5w00000V42iyAAB       2018-11-29  \n",
       "1  a0w5w000009Q7CwAAK  a0r5w00000V42iyAAB       2019-11-04  \n",
       "2  a0w5w000009Q7CxAAK  a0r5w00000V42cCAAR       2017-10-03  \n",
       "3  a0w5w000009Q7CyAAK  a0r5w00000V42cCAAR       2018-01-15  \n",
       "4  a0w5w000009Q7CzAAK  a0r5w00000V42cCAAR       2018-02-05  "
      ]
     },
     "metadata": {},
     "output_type": "display_data"
    }
   ],
   "source": [
    "tool_cluster_df2 = tool_cluster_df.iloc[row_indexes,:].reset_index().drop(columns='index')\n",
    "display(tool_cluster_df2.head(5))"
   ]
  },
  {
   "cell_type": "code",
   "execution_count": 16,
   "metadata": {
    "execution": {
     "iopub.execute_input": "2021-01-22T18:22:48.989002Z",
     "iopub.status.busy": "2021-01-22T18:22:48.988447Z",
     "iopub.status.idle": "2021-01-22T18:22:48.990794Z",
     "shell.execute_reply": "2021-01-22T18:22:48.991217Z"
    },
    "papermill": {
     "duration": 0.032196,
     "end_time": "2021-01-22T18:22:48.991401",
     "exception": false,
     "start_time": "2021-01-22T18:22:48.959205",
     "status": "completed"
    },
    "tags": []
   },
   "outputs": [],
   "source": [
    "interested_ids = tool_cluster_df2['Id'].to_list()"
   ]
  },
  {
   "cell_type": "code",
   "execution_count": 17,
   "metadata": {
    "execution": {
     "iopub.execute_input": "2021-01-22T18:22:49.076148Z",
     "iopub.status.busy": "2021-01-22T18:22:49.071092Z",
     "iopub.status.idle": "2021-01-22T18:22:49.128664Z",
     "shell.execute_reply": "2021-01-22T18:22:49.128196Z"
    },
    "papermill": {
     "duration": 0.111661,
     "end_time": "2021-01-22T18:22:49.128804",
     "exception": false,
     "start_time": "2021-01-22T18:22:49.017143",
     "status": "completed"
    },
    "tags": []
   },
   "outputs": [
    {
     "name": "stdout",
     "output_type": "stream",
     "text": [
      "40075\n"
     ]
    }
   ],
   "source": [
    "## filter contacts_in_cluster_df to keep only those contacts with a valid cluster ID\n",
    "cluster_indexes = []\n",
    "for i,j in enumerate(contacts_in_cluster_df['Tool_Usage_Cluster__c'].to_list()):\n",
    "    if j in interested_ids:\n",
    "        cluster_indexes.append(i)\n",
    "print(len(cluster_indexes))"
   ]
  },
  {
   "cell_type": "code",
   "execution_count": 18,
   "metadata": {
    "execution": {
     "iopub.execute_input": "2021-01-22T18:22:49.189483Z",
     "iopub.status.busy": "2021-01-22T18:22:49.188836Z",
     "iopub.status.idle": "2021-01-22T18:22:49.196325Z",
     "shell.execute_reply": "2021-01-22T18:22:49.196885Z"
    },
    "papermill": {
     "duration": 0.041121,
     "end_time": "2021-01-22T18:22:49.197090",
     "exception": false,
     "start_time": "2021-01-22T18:22:49.155969",
     "status": "completed"
    },
    "tags": []
   },
   "outputs": [
    {
     "data": {
      "text/html": [
       "<div>\n",
       "<style scoped>\n",
       "    .dataframe tbody tr th:only-of-type {\n",
       "        vertical-align: middle;\n",
       "    }\n",
       "\n",
       "    .dataframe tbody tr th {\n",
       "        vertical-align: top;\n",
       "    }\n",
       "\n",
       "    .dataframe thead th {\n",
       "        text-align: right;\n",
       "    }\n",
       "</style>\n",
       "<table border=\"1\" class=\"dataframe\">\n",
       "  <thead>\n",
       "    <tr style=\"text-align: right;\">\n",
       "      <th></th>\n",
       "      <th>Contact__c</th>\n",
       "      <th>Tool_Usage_Cluster__c</th>\n",
       "    </tr>\n",
       "  </thead>\n",
       "  <tbody>\n",
       "    <tr>\n",
       "      <th>0</th>\n",
       "      <td>0035w00003NeIaTAAV</td>\n",
       "      <td>a0w5w00000AXc7TAAT</td>\n",
       "    </tr>\n",
       "    <tr>\n",
       "      <th>1</th>\n",
       "      <td>0035w00003NeIaFAAV</td>\n",
       "      <td>a0w5w00000AXc7TAAT</td>\n",
       "    </tr>\n",
       "  </tbody>\n",
       "</table>\n",
       "</div>"
      ],
      "text/plain": [
       "           Contact__c Tool_Usage_Cluster__c\n",
       "0  0035w00003NeIaTAAV    a0w5w00000AXc7TAAT\n",
       "1  0035w00003NeIaFAAV    a0w5w00000AXc7TAAT"
      ]
     },
     "metadata": {},
     "output_type": "display_data"
    }
   ],
   "source": [
    "contacts_in_cluster_df2 = contacts_in_cluster_df.iloc[cluster_indexes,:].reset_index().drop(columns='index')\n",
    "display(contacts_in_cluster_df2.head(2))"
   ]
  },
  {
   "cell_type": "code",
   "execution_count": 19,
   "metadata": {
    "execution": {
     "iopub.execute_input": "2021-01-22T18:22:49.256558Z",
     "iopub.status.busy": "2021-01-22T18:22:49.255966Z",
     "iopub.status.idle": "2021-01-22T18:23:47.191848Z",
     "shell.execute_reply": "2021-01-22T18:23:47.191318Z"
    },
    "papermill": {
     "duration": 57.967385,
     "end_time": "2021-01-22T18:23:47.191994",
     "exception": false,
     "start_time": "2021-01-22T18:22:49.224609",
     "status": "completed"
    },
    "tags": []
   },
   "outputs": [
    {
     "name": "stdout",
     "output_type": "stream",
     "text": [
      "[Success] Bulk job creation successful. Job ID = 7505w00000VprARAAZ\n",
      "{\"id\":\"7505w00000VprARAAZ\",\"operation\":\"query\",\"object\":\"Contact\",\"createdById\":\"0055w00000DM5bOAAT\",\"createdDate\":\"2021-04-27T04:00:23.000+0000\",\"systemModstamp\":\"2021-04-27T04:00:23.000+0000\",\"state\":\"UploadComplete\",\"concurrencyMode\":\"Parallel\",\"contentType\":\"CSV\",\"apiVersion\":47.0,\"jobType\":\"V2Query\",\"lineEnding\":\"LF\",\"columnDelimiter\":\"COMMA\",\"retries\":0,\"totalProcessingTime\":0}\n",
      "{\"id\":\"7505w00000VprARAAZ\",\"operation\":\"query\",\"object\":\"Contact\",\"createdById\":\"0055w00000DM5bOAAT\",\"createdDate\":\"2021-04-27T04:00:23.000+0000\",\"systemModstamp\":\"2021-04-27T04:00:29.000+0000\",\"state\":\"InProgress\",\"concurrencyMode\":\"Parallel\",\"contentType\":\"CSV\",\"apiVersion\":47.0,\"jobType\":\"V2Query\",\"lineEnding\":\"LF\",\"columnDelimiter\":\"COMMA\",\"numberRecordsProcessed\":0,\"retries\":0,\"totalProcessingTime\":0}\n",
      "{\"id\":\"7505w00000VprARAAZ\",\"operation\":\"query\",\"object\":\"Contact\",\"createdById\":\"0055w00000DM5bOAAT\",\"createdDate\":\"2021-04-27T04:00:23.000+0000\",\"systemModstamp\":\"2021-04-27T04:00:45.000+0000\",\"state\":\"JobComplete\",\"concurrencyMode\":\"Parallel\",\"contentType\":\"CSV\",\"apiVersion\":47.0,\"jobType\":\"V2Query\",\"lineEnding\":\"LF\",\"columnDelimiter\":\"COMMA\",\"numberRecordsProcessed\":245156,\"retries\":0,\"totalProcessingTime\":13387}\n",
      "[Success] Bulk job completed successfully.\n"
     ]
    }
   ],
   "source": [
    "# pull contacts from SF to obtain their nanohub usernames\n",
    "#earliest_string_sf = '{year}-{month}-{day}'.format(year=earliest.year, month = earliest.month, day = earliest.day)\n",
    "contacts_df = db_1.query_data('Select Id, nanoHUB_username__c,nanoHUB_last_active_date__c from Contact') #\\\n",
    "    #where nanoHUB_last_active_date__c >='+earliest_string_sf)"
   ]
  },
  {
   "cell_type": "code",
   "execution_count": 20,
   "metadata": {
    "execution": {
     "iopub.execute_input": "2021-01-22T18:23:47.280929Z",
     "iopub.status.busy": "2021-01-22T18:23:47.280320Z",
     "iopub.status.idle": "2021-01-22T18:23:47.311279Z",
     "shell.execute_reply": "2021-01-22T18:23:47.310314Z"
    },
    "papermill": {
     "duration": 0.089702,
     "end_time": "2021-01-22T18:23:47.311511",
     "exception": false,
     "start_time": "2021-01-22T18:23:47.221809",
     "status": "completed"
    },
    "tags": []
   },
   "outputs": [
    {
     "name": "stdout",
     "output_type": "stream",
     "text": [
      "(238401, 3)\n",
      "<bound method NDFrame.head of                         Id nanoHUB_last_active_date__c nanoHUB_username__c\n",
      "0       0035w000031Vsp1AAC                  2014-11-13             hubrepo\n",
      "1       0035w000031Vsp2AAC                  2008-11-19             support\n",
      "2       0035w000031Vsp3AAC                  2020-02-14            gridstat\n",
      "3       0035w000031Vsp4AAC                  2008-11-11                 ncn\n",
      "4       0035w000031Vsp5AAC                  2014-06-26             nanohub\n",
      "...                    ...                         ...                 ...\n",
      "245151  0035w00003NhXKuAAN                  2021-04-26             -167844\n",
      "245152  0035w00003NhXKvAAN                  2021-04-26             hiruy89\n",
      "245153  0035w00003NhXKwAAN                  2021-04-26             -167846\n",
      "245154  0035w00003NhXKxAAN                  2021-04-26          sudeshna15\n",
      "245155  0035w00003NhXKyAAN                  2021-04-25        rene007psalm\n",
      "\n",
      "[238401 rows x 3 columns]>\n"
     ]
    }
   ],
   "source": [
    "contacts_df = contacts_df.dropna()\n",
    "print(contacts_df.shape)\n",
    "print(contacts_df.head)"
   ]
  },
  {
   "cell_type": "code",
   "execution_count": 21,
   "metadata": {
    "execution": {
     "iopub.execute_input": "2021-01-22T18:23:47.418835Z",
     "iopub.status.busy": "2021-01-22T18:23:47.398096Z",
     "iopub.status.idle": "2021-01-22T18:23:49.164923Z",
     "shell.execute_reply": "2021-01-22T18:23:49.164407Z"
    },
    "papermill": {
     "duration": 1.815637,
     "end_time": "2021-01-22T18:23:49.165064",
     "exception": false,
     "start_time": "2021-01-22T18:23:47.349427",
     "status": "completed"
    },
    "tags": []
   },
   "outputs": [],
   "source": [
    "contact_sf_indexes =[]\n",
    "for i,j in enumerate(contacts_df['nanoHUB_last_active_date__c'].to_list()):\n",
    "    if datetime.datetime.strptime(j,'%Y-%m-%d') >= earliest_date:\n",
    "        contact_sf_indexes.append(i)"
   ]
  },
  {
   "cell_type": "code",
   "execution_count": 22,
   "metadata": {
    "execution": {
     "iopub.execute_input": "2021-01-22T18:23:49.229531Z",
     "iopub.status.busy": "2021-01-22T18:23:49.228915Z",
     "iopub.status.idle": "2021-01-22T18:23:49.232069Z",
     "shell.execute_reply": "2021-01-22T18:23:49.232505Z"
    },
    "papermill": {
     "duration": 0.037504,
     "end_time": "2021-01-22T18:23:49.232670",
     "exception": false,
     "start_time": "2021-01-22T18:23:49.195166",
     "status": "completed"
    },
    "tags": []
   },
   "outputs": [
    {
     "data": {
      "text/plain": [
       "106443"
      ]
     },
     "execution_count": 22,
     "metadata": {},
     "output_type": "execute_result"
    }
   ],
   "source": [
    "len(contact_sf_indexes)"
   ]
  },
  {
   "cell_type": "code",
   "execution_count": 23,
   "metadata": {
    "execution": {
     "iopub.execute_input": "2021-01-22T18:23:49.304196Z",
     "iopub.status.busy": "2021-01-22T18:23:49.303620Z",
     "iopub.status.idle": "2021-01-22T18:23:49.327409Z",
     "shell.execute_reply": "2021-01-22T18:23:49.327880Z"
    },
    "papermill": {
     "duration": 0.066024,
     "end_time": "2021-01-22T18:23:49.328055",
     "exception": false,
     "start_time": "2021-01-22T18:23:49.262031",
     "status": "completed"
    },
    "tags": []
   },
   "outputs": [
    {
     "data": {
      "text/html": [
       "<div>\n",
       "<style scoped>\n",
       "    .dataframe tbody tr th:only-of-type {\n",
       "        vertical-align: middle;\n",
       "    }\n",
       "\n",
       "    .dataframe tbody tr th {\n",
       "        vertical-align: top;\n",
       "    }\n",
       "\n",
       "    .dataframe thead th {\n",
       "        text-align: right;\n",
       "    }\n",
       "</style>\n",
       "<table border=\"1\" class=\"dataframe\">\n",
       "  <thead>\n",
       "    <tr style=\"text-align: right;\">\n",
       "      <th></th>\n",
       "      <th>Id</th>\n",
       "      <th>nanoHUB_last_active_date__c</th>\n",
       "      <th>nanoHUB_username__c</th>\n",
       "    </tr>\n",
       "  </thead>\n",
       "  <tbody>\n",
       "    <tr>\n",
       "      <th>0</th>\n",
       "      <td>0035w000031Vsp3AAC</td>\n",
       "      <td>2020-02-14</td>\n",
       "      <td>gridstat</td>\n",
       "    </tr>\n",
       "    <tr>\n",
       "      <th>1</th>\n",
       "      <td>0035w000031Vt9BAAS</td>\n",
       "      <td>2020-12-08</td>\n",
       "      <td>sheelan</td>\n",
       "    </tr>\n",
       "  </tbody>\n",
       "</table>\n",
       "</div>"
      ],
      "text/plain": [
       "                   Id nanoHUB_last_active_date__c nanoHUB_username__c\n",
       "0  0035w000031Vsp3AAC                  2020-02-14            gridstat\n",
       "1  0035w000031Vt9BAAS                  2020-12-08             sheelan"
      ]
     },
     "metadata": {},
     "output_type": "display_data"
    }
   ],
   "source": [
    "contacts_df2 = contacts_df.iloc[contact_sf_indexes,:].reset_index().drop(columns='index')\n",
    "display(contacts_df2.head(2))"
   ]
  },
  {
   "cell_type": "code",
   "execution_count": null,
   "metadata": {
    "papermill": {
     "duration": 0.029525,
     "end_time": "2021-01-22T18:23:49.387781",
     "exception": false,
     "start_time": "2021-01-22T18:23:49.358256",
     "status": "completed"
    },
    "tags": []
   },
   "outputs": [],
   "source": []
  },
  {
   "cell_type": "markdown",
   "metadata": {
    "papermill": {
     "duration": 0.029026,
     "end_time": "2021-01-22T18:23:49.445583",
     "exception": false,
     "start_time": "2021-01-22T18:23:49.416557",
     "status": "completed"
    },
    "tags": []
   },
   "source": [
    "## algorithm\n",
    "    1. for each week, pull toolstart dataframe from db2\n",
    "    2. from usernames get ids\n",
    "    3. from ids see if they belong to some cluster\n",
    "    4. if yes, record (increment) the simulation use and the person as a novel individual"
   ]
  },
  {
   "cell_type": "code",
   "execution_count": null,
   "metadata": {
    "papermill": {
     "duration": 0.031292,
     "end_time": "2021-01-22T18:23:49.509188",
     "exception": false,
     "start_time": "2021-01-22T18:23:49.477896",
     "status": "completed"
    },
    "tags": []
   },
   "outputs": [],
   "source": []
  },
  {
   "cell_type": "code",
   "execution_count": 24,
   "metadata": {
    "execution": {
     "iopub.execute_input": "2021-01-22T18:23:49.574735Z",
     "iopub.status.busy": "2021-01-22T18:23:49.574079Z",
     "iopub.status.idle": "2021-01-22T18:23:49.576723Z",
     "shell.execute_reply": "2021-01-22T18:23:49.577352Z"
    },
    "papermill": {
     "duration": 0.037753,
     "end_time": "2021-01-22T18:23:49.577556",
     "exception": false,
     "start_time": "2021-01-22T18:23:49.539803",
     "status": "completed"
    },
    "tags": []
   },
   "outputs": [
    {
     "name": "stdout",
     "output_type": "stream",
     "text": [
      "2021-04-16 00:00:20.097901\n"
     ]
    }
   ],
   "source": [
    "## filter the starting and ending dates into weeks\n",
    "week = datetime.timedelta(days=7) #a week\n",
    "\n",
    "## build dataframe from earliest date all the way to the end\n",
    "## the end is whatever is left + the previous week\n",
    "ending_week = (365*4)%7 + 7 #timedelta this\n",
    "ending_week_start = now-datetime.timedelta(days=ending_week)\n",
    "print(ending_week_start)"
   ]
  },
  {
   "cell_type": "code",
   "execution_count": 25,
   "metadata": {
    "execution": {
     "iopub.execute_input": "2021-01-22T18:23:49.648495Z",
     "iopub.status.busy": "2021-01-22T18:23:49.647871Z",
     "iopub.status.idle": "2021-01-22T18:23:49.650140Z",
     "shell.execute_reply": "2021-01-22T18:23:49.650767Z"
    },
    "papermill": {
     "duration": 0.041606,
     "end_time": "2021-01-22T18:23:49.650938",
     "exception": false,
     "start_time": "2021-01-22T18:23:49.609332",
     "status": "completed"
    },
    "tags": []
   },
   "outputs": [],
   "source": [
    "week_construct = int(365*4/7)+1 #now we do 4 years\n",
    "\n",
    "# build dataframe\n",
    "weekly_df = pd.DataFrame(columns=['Week Start','Number_Unique_Institutions','Number_Unique_Users',\\\n",
    "                                  'Number_Unique_Classes','Number_Cluster_Simulations','Total_Simulations_All'])"
   ]
  },
  {
   "cell_type": "code",
   "execution_count": 26,
   "metadata": {},
   "outputs": [],
   "source": [
    "earliest_date = datetime.datetime.strptime('2017-1-23','%Y-%m-%d')"
   ]
  },
  {
   "cell_type": "code",
   "execution_count": 27,
   "metadata": {
    "execution": {
     "iopub.execute_input": "2021-01-22T18:23:49.716950Z",
     "iopub.status.busy": "2021-01-22T18:23:49.716360Z",
     "iopub.status.idle": "2021-01-22T18:23:49.719302Z",
     "shell.execute_reply": "2021-01-22T18:23:49.719724Z"
    },
    "papermill": {
     "duration": 0.039463,
     "end_time": "2021-01-22T18:23:49.719890",
     "exception": false,
     "start_time": "2021-01-22T18:23:49.680427",
     "status": "completed"
    },
    "tags": []
   },
   "outputs": [
    {
     "name": "stdout",
     "output_type": "stream",
     "text": [
      "['2017-1-30', '2017-2-6']\n",
      "['2021-1-18', '2021-1-25']\n"
     ]
    }
   ],
   "source": [
    "# build week start\n",
    "week_start = []\n",
    "\n",
    "temp = earliest_date+week\n",
    "for i,j in enumerate(range(week_construct)):\n",
    "    if i == 0:\n",
    "        temp = earliest_date+week\n",
    "    else:\n",
    "        temp += week\n",
    "    temp_string = '{year}-{month}-{day}'.format(year=temp.year, month = temp.month, day = temp.day)\n",
    "    week_start.append(temp_string)    \n",
    "    \n",
    "print(week_start[:2])\n",
    "print(week_start[-2:])"
   ]
  },
  {
   "cell_type": "code",
   "execution_count": 28,
   "metadata": {
    "execution": {
     "iopub.execute_input": "2021-01-22T18:23:49.793765Z",
     "iopub.status.busy": "2021-01-22T18:23:49.788556Z",
     "iopub.status.idle": "2021-01-22T18:23:49.797044Z",
     "shell.execute_reply": "2021-01-22T18:23:49.797480Z"
    },
    "papermill": {
     "duration": 0.048025,
     "end_time": "2021-01-22T18:23:49.797648",
     "exception": false,
     "start_time": "2021-01-22T18:23:49.749623",
     "status": "completed"
    },
    "tags": []
   },
   "outputs": [
    {
     "data": {
      "text/html": [
       "<div>\n",
       "<style scoped>\n",
       "    .dataframe tbody tr th:only-of-type {\n",
       "        vertical-align: middle;\n",
       "    }\n",
       "\n",
       "    .dataframe tbody tr th {\n",
       "        vertical-align: top;\n",
       "    }\n",
       "\n",
       "    .dataframe thead th {\n",
       "        text-align: right;\n",
       "    }\n",
       "</style>\n",
       "<table border=\"1\" class=\"dataframe\">\n",
       "  <thead>\n",
       "    <tr style=\"text-align: right;\">\n",
       "      <th></th>\n",
       "      <th>Week Start</th>\n",
       "      <th>Number_Unique_Institutions</th>\n",
       "      <th>Number_Unique_Users</th>\n",
       "      <th>Number_Unique_Classes</th>\n",
       "      <th>Number_Cluster_Simulations</th>\n",
       "      <th>Total_Simulations_All</th>\n",
       "    </tr>\n",
       "  </thead>\n",
       "  <tbody>\n",
       "    <tr>\n",
       "      <th>0</th>\n",
       "      <td>2017-1-30</td>\n",
       "      <td>0</td>\n",
       "      <td>0</td>\n",
       "      <td>0</td>\n",
       "      <td>0</td>\n",
       "      <td>0</td>\n",
       "    </tr>\n",
       "    <tr>\n",
       "      <th>1</th>\n",
       "      <td>2017-2-6</td>\n",
       "      <td>0</td>\n",
       "      <td>0</td>\n",
       "      <td>0</td>\n",
       "      <td>0</td>\n",
       "      <td>0</td>\n",
       "    </tr>\n",
       "  </tbody>\n",
       "</table>\n",
       "</div>"
      ],
      "text/plain": [
       "  Week Start  Number_Unique_Institutions  Number_Unique_Users  \\\n",
       "0  2017-1-30                           0                    0   \n",
       "1   2017-2-6                           0                    0   \n",
       "\n",
       "   Number_Unique_Classes  Number_Cluster_Simulations  Total_Simulations_All  \n",
       "0                      0                           0                      0  \n",
       "1                      0                           0                      0  "
      ]
     },
     "metadata": {},
     "output_type": "display_data"
    }
   ],
   "source": [
    "weekly_df['Week Start'] = week_start\n",
    "weekly_df['Number_Unique_Institutions'] = 0\n",
    "weekly_df['Number_Unique_Users'] = 0\n",
    "weekly_df['Number_Unique_Classes'] = 0\n",
    "weekly_df['Number_Cluster_Simulations'] = 0\n",
    "weekly_df['Total_Simulations_All'] = 0\n",
    "display(weekly_df.head(2))"
   ]
  },
  {
   "cell_type": "code",
   "execution_count": 29,
   "metadata": {
    "execution": {
     "iopub.execute_input": "2021-01-22T18:23:49.875307Z",
     "iopub.status.busy": "2021-01-22T18:23:49.865866Z",
     "iopub.status.idle": "2021-01-22T18:23:49.878552Z",
     "shell.execute_reply": "2021-01-22T18:23:49.878980Z"
    },
    "papermill": {
     "duration": 0.05144,
     "end_time": "2021-01-22T18:23:49.879153",
     "exception": false,
     "start_time": "2021-01-22T18:23:49.827713",
     "status": "completed"
    },
    "tags": []
   },
   "outputs": [
    {
     "data": {
      "text/html": [
       "<div>\n",
       "<style scoped>\n",
       "    .dataframe tbody tr th:only-of-type {\n",
       "        vertical-align: middle;\n",
       "    }\n",
       "\n",
       "    .dataframe tbody tr th {\n",
       "        vertical-align: top;\n",
       "    }\n",
       "\n",
       "    .dataframe thead th {\n",
       "        text-align: right;\n",
       "    }\n",
       "</style>\n",
       "<table border=\"1\" class=\"dataframe\">\n",
       "  <thead>\n",
       "    <tr style=\"text-align: right;\">\n",
       "      <th></th>\n",
       "      <th>Ending_Date__c</th>\n",
       "      <th>Estimated_cluster_size__c</th>\n",
       "      <th>Estimated_number_of_tools__c</th>\n",
       "      <th>Id</th>\n",
       "      <th>Organization__c</th>\n",
       "      <th>Starting_Date__c</th>\n",
       "    </tr>\n",
       "  </thead>\n",
       "  <tbody>\n",
       "    <tr>\n",
       "      <th>0</th>\n",
       "      <td>2018-11-30</td>\n",
       "      <td>5.0</td>\n",
       "      <td>1.0</td>\n",
       "      <td>a0w5w000009Q7CvAAK</td>\n",
       "      <td>a0r5w00000V42iyAAB</td>\n",
       "      <td>2018-11-29</td>\n",
       "    </tr>\n",
       "    <tr>\n",
       "      <th>1</th>\n",
       "      <td>2019-11-28</td>\n",
       "      <td>39.0</td>\n",
       "      <td>3.0</td>\n",
       "      <td>a0w5w000009Q7CwAAK</td>\n",
       "      <td>a0r5w00000V42iyAAB</td>\n",
       "      <td>2019-11-04</td>\n",
       "    </tr>\n",
       "  </tbody>\n",
       "</table>\n",
       "</div>"
      ],
      "text/plain": [
       "  Ending_Date__c  Estimated_cluster_size__c  Estimated_number_of_tools__c  \\\n",
       "0     2018-11-30                        5.0                           1.0   \n",
       "1     2019-11-28                       39.0                           3.0   \n",
       "\n",
       "                   Id     Organization__c Starting_Date__c  \n",
       "0  a0w5w000009Q7CvAAK  a0r5w00000V42iyAAB       2018-11-29  \n",
       "1  a0w5w000009Q7CwAAK  a0r5w00000V42iyAAB       2019-11-04  "
      ]
     },
     "metadata": {},
     "output_type": "display_data"
    }
   ],
   "source": [
    "# use the filter\n",
    "new_df = tool_cluster_df.iloc[row_indexes,:].reset_index().drop(columns='index')\n",
    "display(new_df.head(2))"
   ]
  },
  {
   "cell_type": "raw",
   "metadata": {
    "execution": {
     "iopub.execute_input": "2021-01-22T18:23:49.948920Z",
     "iopub.status.busy": "2021-01-22T18:23:49.948094Z",
     "iopub.status.idle": "2021-01-22T18:23:49.950390Z",
     "shell.execute_reply": "2021-01-22T18:23:49.950936Z"
    },
    "papermill": {
     "duration": 0.039542,
     "end_time": "2021-01-22T18:23:49.951102",
     "exception": false,
     "start_time": "2021-01-22T18:23:49.911560",
     "status": "completed"
    },
    "tags": []
   },
   "source": [
    "ws_dt = datetime.datetime.strptime('2019-11-28','%Y-%m-%d')\n",
    "\n",
    "ws_dt1 = datetime.datetime.strptime('2019-10-28','%Y-%m-%d')\n",
    "ws_dt2 = datetime.datetime.strptime('2019-12-28','%Y-%m-%d')"
   ]
  },
  {
   "cell_type": "code",
   "execution_count": 30,
   "metadata": {
    "execution": {
     "iopub.execute_input": "2021-01-22T18:23:50.071648Z",
     "iopub.status.busy": "2021-01-22T18:23:50.055425Z",
     "iopub.status.idle": "2021-01-22T18:23:54.814728Z",
     "shell.execute_reply": "2021-01-22T18:23:54.814000Z"
    },
    "papermill": {
     "duration": 4.832429,
     "end_time": "2021-01-22T18:23:54.814952",
     "exception": false,
     "start_time": "2021-01-22T18:23:49.982523",
     "status": "completed"
    },
    "tags": []
   },
   "outputs": [],
   "source": [
    "# search \n",
    "clusters_in_week = {}\n",
    "for i,j in enumerate(week_start):\n",
    "    clusters_in_week_inner = []\n",
    "    \n",
    "    # convert to datetime\n",
    "    ws_dt = datetime.datetime.strptime(j,'%Y-%m-%d')\n",
    "    ws_dt_4week = ws_dt - datetime.timedelta(days=7*4)\n",
    "    \n",
    "    org_list = [] #to keep track of unique orgs\n",
    "    \n",
    "    # iterate through dataframe\n",
    "    for k,h in enumerate(new_df['Starting_Date__c'].to_list()): \n",
    "        # case 1 ()[], case 2 []()\n",
    "        end_date_dt = datetime.datetime.strptime(new_df.iloc[k,0],'%Y-%m-%d')\n",
    "        start_date_dt = datetime.datetime.strptime(h,'%Y-%m-%d')\n",
    "        \n",
    "        if end_date_dt >= ws_dt_4week and start_date_dt <= (ws_dt+week):\n",
    "        # demorgan's law end_date_dt < ws_dt or start_date_dt > (ws_dt+week): \n",
    "            # add information to weekly_df\n",
    "            #weekly_df.iloc[i,2] += new_df.iloc[k,1] ## this guy double counted\n",
    "            weekly_df.iloc[i,3] += 1\n",
    "        \n",
    "            org_list.append(new_df.iloc[k,-2])\n",
    "            \n",
    "            clusters_in_week_inner.append(new_df.iloc[k,-3])\n",
    "            \n",
    "    org_list = set(org_list)\n",
    "    weekly_df.iloc[i,1] = len(org_list)\n",
    "    clusters_in_week[i] = clusters_in_week_inner"
   ]
  },
  {
   "cell_type": "code",
   "execution_count": 31,
   "metadata": {
    "execution": {
     "iopub.execute_input": "2021-01-22T18:23:54.899652Z",
     "iopub.status.busy": "2021-01-22T18:23:54.899054Z",
     "iopub.status.idle": "2021-01-22T18:23:54.904484Z",
     "shell.execute_reply": "2021-01-22T18:23:54.905069Z"
    },
    "papermill": {
     "duration": 0.054916,
     "end_time": "2021-01-22T18:23:54.905239",
     "exception": false,
     "start_time": "2021-01-22T18:23:54.850323",
     "status": "completed"
    },
    "tags": []
   },
   "outputs": [
    {
     "data": {
      "text/html": [
       "<div>\n",
       "<style scoped>\n",
       "    .dataframe tbody tr th:only-of-type {\n",
       "        vertical-align: middle;\n",
       "    }\n",
       "\n",
       "    .dataframe tbody tr th {\n",
       "        vertical-align: top;\n",
       "    }\n",
       "\n",
       "    .dataframe thead th {\n",
       "        text-align: right;\n",
       "    }\n",
       "</style>\n",
       "<table border=\"1\" class=\"dataframe\">\n",
       "  <thead>\n",
       "    <tr style=\"text-align: right;\">\n",
       "      <th></th>\n",
       "      <th>Week Start</th>\n",
       "      <th>Number_Unique_Institutions</th>\n",
       "      <th>Number_Unique_Users</th>\n",
       "      <th>Number_Unique_Classes</th>\n",
       "      <th>Number_Cluster_Simulations</th>\n",
       "      <th>Total_Simulations_All</th>\n",
       "    </tr>\n",
       "  </thead>\n",
       "  <tbody>\n",
       "    <tr>\n",
       "      <th>0</th>\n",
       "      <td>2017-1-30</td>\n",
       "      <td>0</td>\n",
       "      <td>0</td>\n",
       "      <td>0</td>\n",
       "      <td>0</td>\n",
       "      <td>0</td>\n",
       "    </tr>\n",
       "    <tr>\n",
       "      <th>1</th>\n",
       "      <td>2017-2-6</td>\n",
       "      <td>0</td>\n",
       "      <td>0</td>\n",
       "      <td>0</td>\n",
       "      <td>0</td>\n",
       "      <td>0</td>\n",
       "    </tr>\n",
       "    <tr>\n",
       "      <th>2</th>\n",
       "      <td>2017-2-13</td>\n",
       "      <td>0</td>\n",
       "      <td>0</td>\n",
       "      <td>0</td>\n",
       "      <td>0</td>\n",
       "      <td>0</td>\n",
       "    </tr>\n",
       "    <tr>\n",
       "      <th>3</th>\n",
       "      <td>2017-2-20</td>\n",
       "      <td>0</td>\n",
       "      <td>0</td>\n",
       "      <td>0</td>\n",
       "      <td>0</td>\n",
       "      <td>0</td>\n",
       "    </tr>\n",
       "    <tr>\n",
       "      <th>4</th>\n",
       "      <td>2017-2-27</td>\n",
       "      <td>0</td>\n",
       "      <td>0</td>\n",
       "      <td>0</td>\n",
       "      <td>0</td>\n",
       "      <td>0</td>\n",
       "    </tr>\n",
       "  </tbody>\n",
       "</table>\n",
       "</div>"
      ],
      "text/plain": [
       "  Week Start  Number_Unique_Institutions  Number_Unique_Users  \\\n",
       "0  2017-1-30                           0                    0   \n",
       "1   2017-2-6                           0                    0   \n",
       "2  2017-2-13                           0                    0   \n",
       "3  2017-2-20                           0                    0   \n",
       "4  2017-2-27                           0                    0   \n",
       "\n",
       "   Number_Unique_Classes  Number_Cluster_Simulations  Total_Simulations_All  \n",
       "0                      0                           0                      0  \n",
       "1                      0                           0                      0  \n",
       "2                      0                           0                      0  \n",
       "3                      0                           0                      0  \n",
       "4                      0                           0                      0  "
      ]
     },
     "metadata": {},
     "output_type": "display_data"
    }
   ],
   "source": [
    "display(weekly_df.head(5))"
   ]
  },
  {
   "cell_type": "markdown",
   "metadata": {
    "papermill": {
     "duration": 0.033962,
     "end_time": "2021-01-22T18:23:54.980635",
     "exception": false,
     "start_time": "2021-01-22T18:23:54.946673",
     "status": "completed"
    },
    "tags": []
   },
   "source": [
    "### populate number of unique users + number simulations"
   ]
  },
  {
   "cell_type": "code",
   "execution_count": 32,
   "metadata": {
    "execution": {
     "iopub.execute_input": "2021-01-22T18:23:55.055250Z",
     "iopub.status.busy": "2021-01-22T18:23:55.054597Z",
     "iopub.status.idle": "2021-01-22T18:23:55.164250Z",
     "shell.execute_reply": "2021-01-22T18:23:55.163715Z"
    },
    "papermill": {
     "duration": 0.148802,
     "end_time": "2021-01-22T18:23:55.164407",
     "exception": false,
     "start_time": "2021-01-22T18:23:55.015605",
     "status": "completed"
    },
    "tags": []
   },
   "outputs": [],
   "source": [
    "# connect with DB2\n",
    "import sqlalchemy as sql\n",
    "\n",
    "engine = sql.create_engine('mysql+pymysql://%s:%s@127.0.0.1/nanohub_metrics' \\\n",
    "                                               %(sql_login_params['username'], sql_login_params['password']))"
   ]
  },
  {
   "cell_type": "code",
   "execution_count": 33,
   "metadata": {
    "execution": {
     "iopub.execute_input": "2021-01-22T18:23:55.234919Z",
     "iopub.status.busy": "2021-01-22T18:23:55.234321Z",
     "iopub.status.idle": "2021-01-22T18:23:55.236349Z",
     "shell.execute_reply": "2021-01-22T18:23:55.236910Z"
    },
    "papermill": {
     "duration": 0.040523,
     "end_time": "2021-01-22T18:23:55.237082",
     "exception": false,
     "start_time": "2021-01-22T18:23:55.196559",
     "status": "completed"
    },
    "tags": []
   },
   "outputs": [],
   "source": [
    "import re #regex pattern match time\n",
    "from copy import deepcopy\n",
    "import time"
   ]
  },
  {
   "cell_type": "code",
   "execution_count": 34,
   "metadata": {
    "execution": {
     "iopub.execute_input": "2021-01-22T18:23:55.308251Z",
     "iopub.status.busy": "2021-01-22T18:23:55.307688Z",
     "iopub.status.idle": "2021-01-22T18:23:55.310792Z",
     "shell.execute_reply": "2021-01-22T18:23:55.310134Z"
    },
    "papermill": {
     "duration": 0.040361,
     "end_time": "2021-01-22T18:23:55.310954",
     "exception": false,
     "start_time": "2021-01-22T18:23:55.270593",
     "status": "completed"
    },
    "tags": []
   },
   "outputs": [],
   "source": [
    "start_seconds = time.time()"
   ]
  },
  {
   "cell_type": "raw",
   "metadata": {},
   "source": [
    "## now need to save all of the data within the weekly information in order to do\n",
    "# (i) 4 week moving averages\n",
    "# (ii) 12 month moving averages\n",
    "user_week = {j:[] for i,j in enumerate(week_start)}\n",
    "orgs_week = {j:[] for i,j in enumerate(week_start)}\n",
    "sims_week = {j:[] for i,j in enumerate(week_start)}"
   ]
  },
  {
   "cell_type": "code",
   "execution_count": 35,
   "metadata": {
    "execution": {
     "iopub.execute_input": "2021-01-22T18:23:55.396451Z",
     "iopub.status.busy": "2021-01-22T18:23:55.395807Z",
     "iopub.status.idle": "2021-01-22T18:29:32.652750Z",
     "shell.execute_reply": "2021-01-22T18:29:32.652008Z"
    },
    "papermill": {
     "duration": 337.305619,
     "end_time": "2021-01-22T18:29:32.652906",
     "exception": false,
     "start_time": "2021-01-22T18:23:55.347287",
     "status": "completed"
    },
    "scrolled": true,
    "tags": []
   },
   "outputs": [
    {
     "name": "stderr",
     "output_type": "stream",
     "text": [
      "C:\\Users\\ch5b2\\anaconda3\\lib\\site-packages\\ipykernel_launcher.py:25: FutureWarning: The pandas.np module is deprecated and will be removed from pandas in a future version. Import numpy directly instead\n"
     ]
    },
    {
     "ename": "KeyboardInterrupt",
     "evalue": "",
     "output_type": "error",
     "traceback": [
      "\u001b[1;31m---------------------------------------------------------------------------\u001b[0m",
      "\u001b[1;31mKeyboardInterrupt\u001b[0m                         Traceback (most recent call last)",
      "\u001b[1;32m<ipython-input-35-d495858919d3>\u001b[0m in \u001b[0;36m<module>\u001b[1;34m\u001b[0m\n\u001b[0;32m      9\u001b[0m     \u001b[0msql_query\u001b[0m \u001b[1;33m=\u001b[0m \u001b[1;34m\"select user, tool from toolstart where datetime between '{init_date}' and '{end_date}';\"\u001b[0m\u001b[1;33m.\u001b[0m\u001b[0mformat\u001b[0m\u001b[1;33m(\u001b[0m\u001b[0minit_date\u001b[0m\u001b[1;33m=\u001b[0m\u001b[0mj\u001b[0m\u001b[1;33m,\u001b[0m\u001b[0mend_date\u001b[0m \u001b[1;33m=\u001b[0m \u001b[0mweek_start\u001b[0m\u001b[1;33m[\u001b[0m\u001b[0mi\u001b[0m\u001b[1;33m+\u001b[0m\u001b[1;36m1\u001b[0m\u001b[1;33m]\u001b[0m\u001b[1;33m)\u001b[0m\u001b[1;33m\u001b[0m\u001b[1;33m\u001b[0m\u001b[0m\n\u001b[0;32m     10\u001b[0m \u001b[1;33m\u001b[0m\u001b[0m\n\u001b[1;32m---> 11\u001b[1;33m     \u001b[0mtoolstart_df\u001b[0m \u001b[1;33m=\u001b[0m \u001b[0mpd\u001b[0m\u001b[1;33m.\u001b[0m\u001b[0mread_sql_query\u001b[0m\u001b[1;33m(\u001b[0m\u001b[0msql_query\u001b[0m\u001b[1;33m,\u001b[0m \u001b[0mengine\u001b[0m\u001b[1;33m)\u001b[0m\u001b[1;33m\u001b[0m\u001b[1;33m\u001b[0m\u001b[0m\n\u001b[0m\u001b[0;32m     12\u001b[0m \u001b[1;33m\u001b[0m\u001b[0m\n\u001b[0;32m     13\u001b[0m     \u001b[0mgood_ts_indexes\u001b[0m \u001b[1;33m=\u001b[0m \u001b[1;33m[\u001b[0m\u001b[1;33m]\u001b[0m\u001b[1;33m\u001b[0m\u001b[1;33m\u001b[0m\u001b[0m\n",
      "\u001b[1;32m~\\anaconda3\\lib\\site-packages\\pandas\\io\\sql.py\u001b[0m in \u001b[0;36mread_sql_query\u001b[1;34m(sql, con, index_col, coerce_float, params, parse_dates, chunksize)\u001b[0m\n\u001b[0;32m    330\u001b[0m         \u001b[0mcoerce_float\u001b[0m\u001b[1;33m=\u001b[0m\u001b[0mcoerce_float\u001b[0m\u001b[1;33m,\u001b[0m\u001b[1;33m\u001b[0m\u001b[1;33m\u001b[0m\u001b[0m\n\u001b[0;32m    331\u001b[0m         \u001b[0mparse_dates\u001b[0m\u001b[1;33m=\u001b[0m\u001b[0mparse_dates\u001b[0m\u001b[1;33m,\u001b[0m\u001b[1;33m\u001b[0m\u001b[1;33m\u001b[0m\u001b[0m\n\u001b[1;32m--> 332\u001b[1;33m         \u001b[0mchunksize\u001b[0m\u001b[1;33m=\u001b[0m\u001b[0mchunksize\u001b[0m\u001b[1;33m,\u001b[0m\u001b[1;33m\u001b[0m\u001b[1;33m\u001b[0m\u001b[0m\n\u001b[0m\u001b[0;32m    333\u001b[0m     )\n\u001b[0;32m    334\u001b[0m \u001b[1;33m\u001b[0m\u001b[0m\n",
      "\u001b[1;32m~\\anaconda3\\lib\\site-packages\\pandas\\io\\sql.py\u001b[0m in \u001b[0;36mread_query\u001b[1;34m(self, sql, index_col, coerce_float, parse_dates, params, chunksize)\u001b[0m\n\u001b[0;32m   1216\u001b[0m         \u001b[0margs\u001b[0m \u001b[1;33m=\u001b[0m \u001b[0m_convert_params\u001b[0m\u001b[1;33m(\u001b[0m\u001b[0msql\u001b[0m\u001b[1;33m,\u001b[0m \u001b[0mparams\u001b[0m\u001b[1;33m)\u001b[0m\u001b[1;33m\u001b[0m\u001b[1;33m\u001b[0m\u001b[0m\n\u001b[0;32m   1217\u001b[0m \u001b[1;33m\u001b[0m\u001b[0m\n\u001b[1;32m-> 1218\u001b[1;33m         \u001b[0mresult\u001b[0m \u001b[1;33m=\u001b[0m \u001b[0mself\u001b[0m\u001b[1;33m.\u001b[0m\u001b[0mexecute\u001b[0m\u001b[1;33m(\u001b[0m\u001b[1;33m*\u001b[0m\u001b[0margs\u001b[0m\u001b[1;33m)\u001b[0m\u001b[1;33m\u001b[0m\u001b[1;33m\u001b[0m\u001b[0m\n\u001b[0m\u001b[0;32m   1219\u001b[0m         \u001b[0mcolumns\u001b[0m \u001b[1;33m=\u001b[0m \u001b[0mresult\u001b[0m\u001b[1;33m.\u001b[0m\u001b[0mkeys\u001b[0m\u001b[1;33m(\u001b[0m\u001b[1;33m)\u001b[0m\u001b[1;33m\u001b[0m\u001b[1;33m\u001b[0m\u001b[0m\n\u001b[0;32m   1220\u001b[0m \u001b[1;33m\u001b[0m\u001b[0m\n",
      "\u001b[1;32m~\\anaconda3\\lib\\site-packages\\pandas\\io\\sql.py\u001b[0m in \u001b[0;36mexecute\u001b[1;34m(self, *args, **kwargs)\u001b[0m\n\u001b[0;32m   1085\u001b[0m     \u001b[1;32mdef\u001b[0m \u001b[0mexecute\u001b[0m\u001b[1;33m(\u001b[0m\u001b[0mself\u001b[0m\u001b[1;33m,\u001b[0m \u001b[1;33m*\u001b[0m\u001b[0margs\u001b[0m\u001b[1;33m,\u001b[0m \u001b[1;33m**\u001b[0m\u001b[0mkwargs\u001b[0m\u001b[1;33m)\u001b[0m\u001b[1;33m:\u001b[0m\u001b[1;33m\u001b[0m\u001b[1;33m\u001b[0m\u001b[0m\n\u001b[0;32m   1086\u001b[0m         \u001b[1;34m\"\"\"Simple passthrough to SQLAlchemy connectable\"\"\"\u001b[0m\u001b[1;33m\u001b[0m\u001b[1;33m\u001b[0m\u001b[0m\n\u001b[1;32m-> 1087\u001b[1;33m         \u001b[1;32mreturn\u001b[0m \u001b[0mself\u001b[0m\u001b[1;33m.\u001b[0m\u001b[0mconnectable\u001b[0m\u001b[1;33m.\u001b[0m\u001b[0mexecute\u001b[0m\u001b[1;33m(\u001b[0m\u001b[1;33m*\u001b[0m\u001b[0margs\u001b[0m\u001b[1;33m,\u001b[0m \u001b[1;33m**\u001b[0m\u001b[0mkwargs\u001b[0m\u001b[1;33m)\u001b[0m\u001b[1;33m\u001b[0m\u001b[1;33m\u001b[0m\u001b[0m\n\u001b[0m\u001b[0;32m   1088\u001b[0m \u001b[1;33m\u001b[0m\u001b[0m\n\u001b[0;32m   1089\u001b[0m     def read_table(\n",
      "\u001b[1;32m~\\anaconda3\\lib\\site-packages\\sqlalchemy\\engine\\base.py\u001b[0m in \u001b[0;36mexecute\u001b[1;34m(self, statement, *multiparams, **params)\u001b[0m\n\u001b[0;32m   2236\u001b[0m \u001b[1;33m\u001b[0m\u001b[0m\n\u001b[0;32m   2237\u001b[0m         \u001b[0mconnection\u001b[0m \u001b[1;33m=\u001b[0m \u001b[0mself\u001b[0m\u001b[1;33m.\u001b[0m\u001b[0m_contextual_connect\u001b[0m\u001b[1;33m(\u001b[0m\u001b[0mclose_with_result\u001b[0m\u001b[1;33m=\u001b[0m\u001b[1;32mTrue\u001b[0m\u001b[1;33m)\u001b[0m\u001b[1;33m\u001b[0m\u001b[1;33m\u001b[0m\u001b[0m\n\u001b[1;32m-> 2238\u001b[1;33m         \u001b[1;32mreturn\u001b[0m \u001b[0mconnection\u001b[0m\u001b[1;33m.\u001b[0m\u001b[0mexecute\u001b[0m\u001b[1;33m(\u001b[0m\u001b[0mstatement\u001b[0m\u001b[1;33m,\u001b[0m \u001b[1;33m*\u001b[0m\u001b[0mmultiparams\u001b[0m\u001b[1;33m,\u001b[0m \u001b[1;33m**\u001b[0m\u001b[0mparams\u001b[0m\u001b[1;33m)\u001b[0m\u001b[1;33m\u001b[0m\u001b[1;33m\u001b[0m\u001b[0m\n\u001b[0m\u001b[0;32m   2239\u001b[0m \u001b[1;33m\u001b[0m\u001b[0m\n\u001b[0;32m   2240\u001b[0m     \u001b[1;32mdef\u001b[0m \u001b[0mscalar\u001b[0m\u001b[1;33m(\u001b[0m\u001b[0mself\u001b[0m\u001b[1;33m,\u001b[0m \u001b[0mstatement\u001b[0m\u001b[1;33m,\u001b[0m \u001b[1;33m*\u001b[0m\u001b[0mmultiparams\u001b[0m\u001b[1;33m,\u001b[0m \u001b[1;33m**\u001b[0m\u001b[0mparams\u001b[0m\u001b[1;33m)\u001b[0m\u001b[1;33m:\u001b[0m\u001b[1;33m\u001b[0m\u001b[1;33m\u001b[0m\u001b[0m\n",
      "\u001b[1;32m~\\anaconda3\\lib\\site-packages\\sqlalchemy\\engine\\base.py\u001b[0m in \u001b[0;36mexecute\u001b[1;34m(self, object_, *multiparams, **params)\u001b[0m\n\u001b[0;32m   1004\u001b[0m         \"\"\"\n\u001b[0;32m   1005\u001b[0m         \u001b[1;32mif\u001b[0m \u001b[0misinstance\u001b[0m\u001b[1;33m(\u001b[0m\u001b[0mobject_\u001b[0m\u001b[1;33m,\u001b[0m \u001b[0mutil\u001b[0m\u001b[1;33m.\u001b[0m\u001b[0mstring_types\u001b[0m\u001b[1;33m[\u001b[0m\u001b[1;36m0\u001b[0m\u001b[1;33m]\u001b[0m\u001b[1;33m)\u001b[0m\u001b[1;33m:\u001b[0m\u001b[1;33m\u001b[0m\u001b[1;33m\u001b[0m\u001b[0m\n\u001b[1;32m-> 1006\u001b[1;33m             \u001b[1;32mreturn\u001b[0m \u001b[0mself\u001b[0m\u001b[1;33m.\u001b[0m\u001b[0m_execute_text\u001b[0m\u001b[1;33m(\u001b[0m\u001b[0mobject_\u001b[0m\u001b[1;33m,\u001b[0m \u001b[0mmultiparams\u001b[0m\u001b[1;33m,\u001b[0m \u001b[0mparams\u001b[0m\u001b[1;33m)\u001b[0m\u001b[1;33m\u001b[0m\u001b[1;33m\u001b[0m\u001b[0m\n\u001b[0m\u001b[0;32m   1007\u001b[0m         \u001b[1;32mtry\u001b[0m\u001b[1;33m:\u001b[0m\u001b[1;33m\u001b[0m\u001b[1;33m\u001b[0m\u001b[0m\n\u001b[0;32m   1008\u001b[0m             \u001b[0mmeth\u001b[0m \u001b[1;33m=\u001b[0m \u001b[0mobject_\u001b[0m\u001b[1;33m.\u001b[0m\u001b[0m_execute_on_connection\u001b[0m\u001b[1;33m\u001b[0m\u001b[1;33m\u001b[0m\u001b[0m\n",
      "\u001b[1;32m~\\anaconda3\\lib\\site-packages\\sqlalchemy\\engine\\base.py\u001b[0m in \u001b[0;36m_execute_text\u001b[1;34m(self, statement, multiparams, params)\u001b[0m\n\u001b[0;32m   1179\u001b[0m             \u001b[0mparameters\u001b[0m\u001b[1;33m,\u001b[0m\u001b[1;33m\u001b[0m\u001b[1;33m\u001b[0m\u001b[0m\n\u001b[0;32m   1180\u001b[0m             \u001b[0mstatement\u001b[0m\u001b[1;33m,\u001b[0m\u001b[1;33m\u001b[0m\u001b[1;33m\u001b[0m\u001b[0m\n\u001b[1;32m-> 1181\u001b[1;33m             \u001b[0mparameters\u001b[0m\u001b[1;33m,\u001b[0m\u001b[1;33m\u001b[0m\u001b[1;33m\u001b[0m\u001b[0m\n\u001b[0m\u001b[0;32m   1182\u001b[0m         )\n\u001b[0;32m   1183\u001b[0m         \u001b[1;32mif\u001b[0m \u001b[0mself\u001b[0m\u001b[1;33m.\u001b[0m\u001b[0m_has_events\u001b[0m \u001b[1;32mor\u001b[0m \u001b[0mself\u001b[0m\u001b[1;33m.\u001b[0m\u001b[0mengine\u001b[0m\u001b[1;33m.\u001b[0m\u001b[0m_has_events\u001b[0m\u001b[1;33m:\u001b[0m\u001b[1;33m\u001b[0m\u001b[1;33m\u001b[0m\u001b[0m\n",
      "\u001b[1;32m~\\anaconda3\\lib\\site-packages\\sqlalchemy\\engine\\base.py\u001b[0m in \u001b[0;36m_execute_context\u001b[1;34m(self, dialect, constructor, statement, parameters, *args)\u001b[0m\n\u001b[0;32m   1316\u001b[0m         \u001b[1;32mexcept\u001b[0m \u001b[0mBaseException\u001b[0m \u001b[1;32mas\u001b[0m \u001b[0me\u001b[0m\u001b[1;33m:\u001b[0m\u001b[1;33m\u001b[0m\u001b[1;33m\u001b[0m\u001b[0m\n\u001b[0;32m   1317\u001b[0m             self._handle_dbapi_exception(\n\u001b[1;32m-> 1318\u001b[1;33m                 \u001b[0me\u001b[0m\u001b[1;33m,\u001b[0m \u001b[0mstatement\u001b[0m\u001b[1;33m,\u001b[0m \u001b[0mparameters\u001b[0m\u001b[1;33m,\u001b[0m \u001b[0mcursor\u001b[0m\u001b[1;33m,\u001b[0m \u001b[0mcontext\u001b[0m\u001b[1;33m\u001b[0m\u001b[1;33m\u001b[0m\u001b[0m\n\u001b[0m\u001b[0;32m   1319\u001b[0m             )\n\u001b[0;32m   1320\u001b[0m \u001b[1;33m\u001b[0m\u001b[0m\n",
      "\u001b[1;32m~\\anaconda3\\lib\\site-packages\\sqlalchemy\\engine\\base.py\u001b[0m in \u001b[0;36m_handle_dbapi_exception\u001b[1;34m(self, e, statement, parameters, cursor, context)\u001b[0m\n\u001b[0;32m   1513\u001b[0m                 )\n\u001b[0;32m   1514\u001b[0m             \u001b[1;32melse\u001b[0m\u001b[1;33m:\u001b[0m\u001b[1;33m\u001b[0m\u001b[1;33m\u001b[0m\u001b[0m\n\u001b[1;32m-> 1515\u001b[1;33m                 \u001b[0mutil\u001b[0m\u001b[1;33m.\u001b[0m\u001b[0mraise_\u001b[0m\u001b[1;33m(\u001b[0m\u001b[0mexc_info\u001b[0m\u001b[1;33m[\u001b[0m\u001b[1;36m1\u001b[0m\u001b[1;33m]\u001b[0m\u001b[1;33m,\u001b[0m \u001b[0mwith_traceback\u001b[0m\u001b[1;33m=\u001b[0m\u001b[0mexc_info\u001b[0m\u001b[1;33m[\u001b[0m\u001b[1;36m2\u001b[0m\u001b[1;33m]\u001b[0m\u001b[1;33m)\u001b[0m\u001b[1;33m\u001b[0m\u001b[1;33m\u001b[0m\u001b[0m\n\u001b[0m\u001b[0;32m   1516\u001b[0m \u001b[1;33m\u001b[0m\u001b[0m\n\u001b[0;32m   1517\u001b[0m         \u001b[1;32mfinally\u001b[0m\u001b[1;33m:\u001b[0m\u001b[1;33m\u001b[0m\u001b[1;33m\u001b[0m\u001b[0m\n",
      "\u001b[1;32m~\\anaconda3\\lib\\site-packages\\sqlalchemy\\util\\compat.py\u001b[0m in \u001b[0;36mraise_\u001b[1;34m(***failed resolving arguments***)\u001b[0m\n\u001b[0;32m    176\u001b[0m \u001b[1;33m\u001b[0m\u001b[0m\n\u001b[0;32m    177\u001b[0m         \u001b[1;32mtry\u001b[0m\u001b[1;33m:\u001b[0m\u001b[1;33m\u001b[0m\u001b[1;33m\u001b[0m\u001b[0m\n\u001b[1;32m--> 178\u001b[1;33m             \u001b[1;32mraise\u001b[0m \u001b[0mexception\u001b[0m\u001b[1;33m\u001b[0m\u001b[1;33m\u001b[0m\u001b[0m\n\u001b[0m\u001b[0;32m    179\u001b[0m         \u001b[1;32mfinally\u001b[0m\u001b[1;33m:\u001b[0m\u001b[1;33m\u001b[0m\u001b[1;33m\u001b[0m\u001b[0m\n\u001b[0;32m    180\u001b[0m             \u001b[1;31m# credit to\u001b[0m\u001b[1;33m\u001b[0m\u001b[1;33m\u001b[0m\u001b[1;33m\u001b[0m\u001b[0m\n",
      "\u001b[1;32m~\\anaconda3\\lib\\site-packages\\sqlalchemy\\engine\\base.py\u001b[0m in \u001b[0;36m_execute_context\u001b[1;34m(self, dialect, constructor, statement, parameters, *args)\u001b[0m\n\u001b[0;32m   1276\u001b[0m                 \u001b[1;32mif\u001b[0m \u001b[1;32mnot\u001b[0m \u001b[0mevt_handled\u001b[0m\u001b[1;33m:\u001b[0m\u001b[1;33m\u001b[0m\u001b[1;33m\u001b[0m\u001b[0m\n\u001b[0;32m   1277\u001b[0m                     self.dialect.do_execute(\n\u001b[1;32m-> 1278\u001b[1;33m                         \u001b[0mcursor\u001b[0m\u001b[1;33m,\u001b[0m \u001b[0mstatement\u001b[0m\u001b[1;33m,\u001b[0m \u001b[0mparameters\u001b[0m\u001b[1;33m,\u001b[0m \u001b[0mcontext\u001b[0m\u001b[1;33m\u001b[0m\u001b[1;33m\u001b[0m\u001b[0m\n\u001b[0m\u001b[0;32m   1279\u001b[0m                     )\n\u001b[0;32m   1280\u001b[0m \u001b[1;33m\u001b[0m\u001b[0m\n",
      "\u001b[1;32m~\\anaconda3\\lib\\site-packages\\sqlalchemy\\engine\\default.py\u001b[0m in \u001b[0;36mdo_execute\u001b[1;34m(self, cursor, statement, parameters, context)\u001b[0m\n\u001b[0;32m    591\u001b[0m \u001b[1;33m\u001b[0m\u001b[0m\n\u001b[0;32m    592\u001b[0m     \u001b[1;32mdef\u001b[0m \u001b[0mdo_execute\u001b[0m\u001b[1;33m(\u001b[0m\u001b[0mself\u001b[0m\u001b[1;33m,\u001b[0m \u001b[0mcursor\u001b[0m\u001b[1;33m,\u001b[0m \u001b[0mstatement\u001b[0m\u001b[1;33m,\u001b[0m \u001b[0mparameters\u001b[0m\u001b[1;33m,\u001b[0m \u001b[0mcontext\u001b[0m\u001b[1;33m=\u001b[0m\u001b[1;32mNone\u001b[0m\u001b[1;33m)\u001b[0m\u001b[1;33m:\u001b[0m\u001b[1;33m\u001b[0m\u001b[1;33m\u001b[0m\u001b[0m\n\u001b[1;32m--> 593\u001b[1;33m         \u001b[0mcursor\u001b[0m\u001b[1;33m.\u001b[0m\u001b[0mexecute\u001b[0m\u001b[1;33m(\u001b[0m\u001b[0mstatement\u001b[0m\u001b[1;33m,\u001b[0m \u001b[0mparameters\u001b[0m\u001b[1;33m)\u001b[0m\u001b[1;33m\u001b[0m\u001b[1;33m\u001b[0m\u001b[0m\n\u001b[0m\u001b[0;32m    594\u001b[0m \u001b[1;33m\u001b[0m\u001b[0m\n\u001b[0;32m    595\u001b[0m     \u001b[1;32mdef\u001b[0m \u001b[0mdo_execute_no_params\u001b[0m\u001b[1;33m(\u001b[0m\u001b[0mself\u001b[0m\u001b[1;33m,\u001b[0m \u001b[0mcursor\u001b[0m\u001b[1;33m,\u001b[0m \u001b[0mstatement\u001b[0m\u001b[1;33m,\u001b[0m \u001b[0mcontext\u001b[0m\u001b[1;33m=\u001b[0m\u001b[1;32mNone\u001b[0m\u001b[1;33m)\u001b[0m\u001b[1;33m:\u001b[0m\u001b[1;33m\u001b[0m\u001b[1;33m\u001b[0m\u001b[0m\n",
      "\u001b[1;32m~\\anaconda3\\lib\\site-packages\\pymysql\\cursors.py\u001b[0m in \u001b[0;36mexecute\u001b[1;34m(self, query, args)\u001b[0m\n\u001b[0;32m    146\u001b[0m         \u001b[0mquery\u001b[0m \u001b[1;33m=\u001b[0m \u001b[0mself\u001b[0m\u001b[1;33m.\u001b[0m\u001b[0mmogrify\u001b[0m\u001b[1;33m(\u001b[0m\u001b[0mquery\u001b[0m\u001b[1;33m,\u001b[0m \u001b[0margs\u001b[0m\u001b[1;33m)\u001b[0m\u001b[1;33m\u001b[0m\u001b[1;33m\u001b[0m\u001b[0m\n\u001b[0;32m    147\u001b[0m \u001b[1;33m\u001b[0m\u001b[0m\n\u001b[1;32m--> 148\u001b[1;33m         \u001b[0mresult\u001b[0m \u001b[1;33m=\u001b[0m \u001b[0mself\u001b[0m\u001b[1;33m.\u001b[0m\u001b[0m_query\u001b[0m\u001b[1;33m(\u001b[0m\u001b[0mquery\u001b[0m\u001b[1;33m)\u001b[0m\u001b[1;33m\u001b[0m\u001b[1;33m\u001b[0m\u001b[0m\n\u001b[0m\u001b[0;32m    149\u001b[0m         \u001b[0mself\u001b[0m\u001b[1;33m.\u001b[0m\u001b[0m_executed\u001b[0m \u001b[1;33m=\u001b[0m \u001b[0mquery\u001b[0m\u001b[1;33m\u001b[0m\u001b[1;33m\u001b[0m\u001b[0m\n\u001b[0;32m    150\u001b[0m         \u001b[1;32mreturn\u001b[0m \u001b[0mresult\u001b[0m\u001b[1;33m\u001b[0m\u001b[1;33m\u001b[0m\u001b[0m\n",
      "\u001b[1;32m~\\anaconda3\\lib\\site-packages\\pymysql\\cursors.py\u001b[0m in \u001b[0;36m_query\u001b[1;34m(self, q)\u001b[0m\n\u001b[0;32m    308\u001b[0m         \u001b[0mself\u001b[0m\u001b[1;33m.\u001b[0m\u001b[0m_last_executed\u001b[0m \u001b[1;33m=\u001b[0m \u001b[0mq\u001b[0m\u001b[1;33m\u001b[0m\u001b[1;33m\u001b[0m\u001b[0m\n\u001b[0;32m    309\u001b[0m         \u001b[0mself\u001b[0m\u001b[1;33m.\u001b[0m\u001b[0m_clear_result\u001b[0m\u001b[1;33m(\u001b[0m\u001b[1;33m)\u001b[0m\u001b[1;33m\u001b[0m\u001b[1;33m\u001b[0m\u001b[0m\n\u001b[1;32m--> 310\u001b[1;33m         \u001b[0mconn\u001b[0m\u001b[1;33m.\u001b[0m\u001b[0mquery\u001b[0m\u001b[1;33m(\u001b[0m\u001b[0mq\u001b[0m\u001b[1;33m)\u001b[0m\u001b[1;33m\u001b[0m\u001b[1;33m\u001b[0m\u001b[0m\n\u001b[0m\u001b[0;32m    311\u001b[0m         \u001b[0mself\u001b[0m\u001b[1;33m.\u001b[0m\u001b[0m_do_get_result\u001b[0m\u001b[1;33m(\u001b[0m\u001b[1;33m)\u001b[0m\u001b[1;33m\u001b[0m\u001b[1;33m\u001b[0m\u001b[0m\n\u001b[0;32m    312\u001b[0m         \u001b[1;32mreturn\u001b[0m \u001b[0mself\u001b[0m\u001b[1;33m.\u001b[0m\u001b[0mrowcount\u001b[0m\u001b[1;33m\u001b[0m\u001b[1;33m\u001b[0m\u001b[0m\n",
      "\u001b[1;32m~\\anaconda3\\lib\\site-packages\\pymysql\\connections.py\u001b[0m in \u001b[0;36mquery\u001b[1;34m(self, sql, unbuffered)\u001b[0m\n\u001b[0;32m    546\u001b[0m             \u001b[0msql\u001b[0m \u001b[1;33m=\u001b[0m \u001b[0msql\u001b[0m\u001b[1;33m.\u001b[0m\u001b[0mencode\u001b[0m\u001b[1;33m(\u001b[0m\u001b[0mself\u001b[0m\u001b[1;33m.\u001b[0m\u001b[0mencoding\u001b[0m\u001b[1;33m,\u001b[0m \u001b[1;34m\"surrogateescape\"\u001b[0m\u001b[1;33m)\u001b[0m\u001b[1;33m\u001b[0m\u001b[1;33m\u001b[0m\u001b[0m\n\u001b[0;32m    547\u001b[0m         \u001b[0mself\u001b[0m\u001b[1;33m.\u001b[0m\u001b[0m_execute_command\u001b[0m\u001b[1;33m(\u001b[0m\u001b[0mCOMMAND\u001b[0m\u001b[1;33m.\u001b[0m\u001b[0mCOM_QUERY\u001b[0m\u001b[1;33m,\u001b[0m \u001b[0msql\u001b[0m\u001b[1;33m)\u001b[0m\u001b[1;33m\u001b[0m\u001b[1;33m\u001b[0m\u001b[0m\n\u001b[1;32m--> 548\u001b[1;33m         \u001b[0mself\u001b[0m\u001b[1;33m.\u001b[0m\u001b[0m_affected_rows\u001b[0m \u001b[1;33m=\u001b[0m \u001b[0mself\u001b[0m\u001b[1;33m.\u001b[0m\u001b[0m_read_query_result\u001b[0m\u001b[1;33m(\u001b[0m\u001b[0munbuffered\u001b[0m\u001b[1;33m=\u001b[0m\u001b[0munbuffered\u001b[0m\u001b[1;33m)\u001b[0m\u001b[1;33m\u001b[0m\u001b[1;33m\u001b[0m\u001b[0m\n\u001b[0m\u001b[0;32m    549\u001b[0m         \u001b[1;32mreturn\u001b[0m \u001b[0mself\u001b[0m\u001b[1;33m.\u001b[0m\u001b[0m_affected_rows\u001b[0m\u001b[1;33m\u001b[0m\u001b[1;33m\u001b[0m\u001b[0m\n\u001b[0;32m    550\u001b[0m \u001b[1;33m\u001b[0m\u001b[0m\n",
      "\u001b[1;32m~\\anaconda3\\lib\\site-packages\\pymysql\\connections.py\u001b[0m in \u001b[0;36m_read_query_result\u001b[1;34m(self, unbuffered)\u001b[0m\n\u001b[0;32m    773\u001b[0m         \u001b[1;32melse\u001b[0m\u001b[1;33m:\u001b[0m\u001b[1;33m\u001b[0m\u001b[1;33m\u001b[0m\u001b[0m\n\u001b[0;32m    774\u001b[0m             \u001b[0mresult\u001b[0m \u001b[1;33m=\u001b[0m \u001b[0mMySQLResult\u001b[0m\u001b[1;33m(\u001b[0m\u001b[0mself\u001b[0m\u001b[1;33m)\u001b[0m\u001b[1;33m\u001b[0m\u001b[1;33m\u001b[0m\u001b[0m\n\u001b[1;32m--> 775\u001b[1;33m             \u001b[0mresult\u001b[0m\u001b[1;33m.\u001b[0m\u001b[0mread\u001b[0m\u001b[1;33m(\u001b[0m\u001b[1;33m)\u001b[0m\u001b[1;33m\u001b[0m\u001b[1;33m\u001b[0m\u001b[0m\n\u001b[0m\u001b[0;32m    776\u001b[0m         \u001b[0mself\u001b[0m\u001b[1;33m.\u001b[0m\u001b[0m_result\u001b[0m \u001b[1;33m=\u001b[0m \u001b[0mresult\u001b[0m\u001b[1;33m\u001b[0m\u001b[1;33m\u001b[0m\u001b[0m\n\u001b[0;32m    777\u001b[0m         \u001b[1;32mif\u001b[0m \u001b[0mresult\u001b[0m\u001b[1;33m.\u001b[0m\u001b[0mserver_status\u001b[0m \u001b[1;32mis\u001b[0m \u001b[1;32mnot\u001b[0m \u001b[1;32mNone\u001b[0m\u001b[1;33m:\u001b[0m\u001b[1;33m\u001b[0m\u001b[1;33m\u001b[0m\u001b[0m\n",
      "\u001b[1;32m~\\anaconda3\\lib\\site-packages\\pymysql\\connections.py\u001b[0m in \u001b[0;36mread\u001b[1;34m(self)\u001b[0m\n\u001b[0;32m   1161\u001b[0m                 \u001b[0mself\u001b[0m\u001b[1;33m.\u001b[0m\u001b[0m_read_load_local_packet\u001b[0m\u001b[1;33m(\u001b[0m\u001b[0mfirst_packet\u001b[0m\u001b[1;33m)\u001b[0m\u001b[1;33m\u001b[0m\u001b[1;33m\u001b[0m\u001b[0m\n\u001b[0;32m   1162\u001b[0m             \u001b[1;32melse\u001b[0m\u001b[1;33m:\u001b[0m\u001b[1;33m\u001b[0m\u001b[1;33m\u001b[0m\u001b[0m\n\u001b[1;32m-> 1163\u001b[1;33m                 \u001b[0mself\u001b[0m\u001b[1;33m.\u001b[0m\u001b[0m_read_result_packet\u001b[0m\u001b[1;33m(\u001b[0m\u001b[0mfirst_packet\u001b[0m\u001b[1;33m)\u001b[0m\u001b[1;33m\u001b[0m\u001b[1;33m\u001b[0m\u001b[0m\n\u001b[0m\u001b[0;32m   1164\u001b[0m         \u001b[1;32mfinally\u001b[0m\u001b[1;33m:\u001b[0m\u001b[1;33m\u001b[0m\u001b[1;33m\u001b[0m\u001b[0m\n\u001b[0;32m   1165\u001b[0m             \u001b[0mself\u001b[0m\u001b[1;33m.\u001b[0m\u001b[0mconnection\u001b[0m \u001b[1;33m=\u001b[0m \u001b[1;32mNone\u001b[0m\u001b[1;33m\u001b[0m\u001b[1;33m\u001b[0m\u001b[0m\n",
      "\u001b[1;32m~\\anaconda3\\lib\\site-packages\\pymysql\\connections.py\u001b[0m in \u001b[0;36m_read_result_packet\u001b[1;34m(self, first_packet)\u001b[0m\n\u001b[0;32m   1234\u001b[0m         \u001b[0mself\u001b[0m\u001b[1;33m.\u001b[0m\u001b[0mfield_count\u001b[0m \u001b[1;33m=\u001b[0m \u001b[0mfirst_packet\u001b[0m\u001b[1;33m.\u001b[0m\u001b[0mread_length_encoded_integer\u001b[0m\u001b[1;33m(\u001b[0m\u001b[1;33m)\u001b[0m\u001b[1;33m\u001b[0m\u001b[1;33m\u001b[0m\u001b[0m\n\u001b[0;32m   1235\u001b[0m         \u001b[0mself\u001b[0m\u001b[1;33m.\u001b[0m\u001b[0m_get_descriptions\u001b[0m\u001b[1;33m(\u001b[0m\u001b[1;33m)\u001b[0m\u001b[1;33m\u001b[0m\u001b[1;33m\u001b[0m\u001b[0m\n\u001b[1;32m-> 1236\u001b[1;33m         \u001b[0mself\u001b[0m\u001b[1;33m.\u001b[0m\u001b[0m_read_rowdata_packet\u001b[0m\u001b[1;33m(\u001b[0m\u001b[1;33m)\u001b[0m\u001b[1;33m\u001b[0m\u001b[1;33m\u001b[0m\u001b[0m\n\u001b[0m\u001b[0;32m   1237\u001b[0m \u001b[1;33m\u001b[0m\u001b[0m\n\u001b[0;32m   1238\u001b[0m     \u001b[1;32mdef\u001b[0m \u001b[0m_read_rowdata_packet_unbuffered\u001b[0m\u001b[1;33m(\u001b[0m\u001b[0mself\u001b[0m\u001b[1;33m)\u001b[0m\u001b[1;33m:\u001b[0m\u001b[1;33m\u001b[0m\u001b[1;33m\u001b[0m\u001b[0m\n",
      "\u001b[1;32m~\\anaconda3\\lib\\site-packages\\pymysql\\connections.py\u001b[0m in \u001b[0;36m_read_rowdata_packet\u001b[1;34m(self)\u001b[0m\n\u001b[0;32m   1268\u001b[0m         \u001b[0mrows\u001b[0m \u001b[1;33m=\u001b[0m \u001b[1;33m[\u001b[0m\u001b[1;33m]\u001b[0m\u001b[1;33m\u001b[0m\u001b[1;33m\u001b[0m\u001b[0m\n\u001b[0;32m   1269\u001b[0m         \u001b[1;32mwhile\u001b[0m \u001b[1;32mTrue\u001b[0m\u001b[1;33m:\u001b[0m\u001b[1;33m\u001b[0m\u001b[1;33m\u001b[0m\u001b[0m\n\u001b[1;32m-> 1270\u001b[1;33m             \u001b[0mpacket\u001b[0m \u001b[1;33m=\u001b[0m \u001b[0mself\u001b[0m\u001b[1;33m.\u001b[0m\u001b[0mconnection\u001b[0m\u001b[1;33m.\u001b[0m\u001b[0m_read_packet\u001b[0m\u001b[1;33m(\u001b[0m\u001b[1;33m)\u001b[0m\u001b[1;33m\u001b[0m\u001b[1;33m\u001b[0m\u001b[0m\n\u001b[0m\u001b[0;32m   1271\u001b[0m             \u001b[1;32mif\u001b[0m \u001b[0mself\u001b[0m\u001b[1;33m.\u001b[0m\u001b[0m_check_packet_is_eof\u001b[0m\u001b[1;33m(\u001b[0m\u001b[0mpacket\u001b[0m\u001b[1;33m)\u001b[0m\u001b[1;33m:\u001b[0m\u001b[1;33m\u001b[0m\u001b[1;33m\u001b[0m\u001b[0m\n\u001b[0;32m   1272\u001b[0m                 \u001b[0mself\u001b[0m\u001b[1;33m.\u001b[0m\u001b[0mconnection\u001b[0m \u001b[1;33m=\u001b[0m \u001b[1;32mNone\u001b[0m  \u001b[1;31m# release reference to kill cyclic reference.\u001b[0m\u001b[1;33m\u001b[0m\u001b[1;33m\u001b[0m\u001b[0m\n",
      "\u001b[1;32m~\\anaconda3\\lib\\site-packages\\pymysql\\connections.py\u001b[0m in \u001b[0;36m_read_packet\u001b[1;34m(self, packet_type)\u001b[0m\n\u001b[0;32m    690\u001b[0m         \u001b[0mbuff\u001b[0m \u001b[1;33m=\u001b[0m \u001b[0mbytearray\u001b[0m\u001b[1;33m(\u001b[0m\u001b[1;33m)\u001b[0m\u001b[1;33m\u001b[0m\u001b[1;33m\u001b[0m\u001b[0m\n\u001b[0;32m    691\u001b[0m         \u001b[1;32mwhile\u001b[0m \u001b[1;32mTrue\u001b[0m\u001b[1;33m:\u001b[0m\u001b[1;33m\u001b[0m\u001b[1;33m\u001b[0m\u001b[0m\n\u001b[1;32m--> 692\u001b[1;33m             \u001b[0mpacket_header\u001b[0m \u001b[1;33m=\u001b[0m \u001b[0mself\u001b[0m\u001b[1;33m.\u001b[0m\u001b[0m_read_bytes\u001b[0m\u001b[1;33m(\u001b[0m\u001b[1;36m4\u001b[0m\u001b[1;33m)\u001b[0m\u001b[1;33m\u001b[0m\u001b[1;33m\u001b[0m\u001b[0m\n\u001b[0m\u001b[0;32m    693\u001b[0m             \u001b[1;31m# if DEBUG: dump_packet(packet_header)\u001b[0m\u001b[1;33m\u001b[0m\u001b[1;33m\u001b[0m\u001b[1;33m\u001b[0m\u001b[0m\n\u001b[0;32m    694\u001b[0m \u001b[1;33m\u001b[0m\u001b[0m\n",
      "\u001b[1;32m~\\anaconda3\\lib\\site-packages\\pymysql\\connections.py\u001b[0m in \u001b[0;36m_read_bytes\u001b[1;34m(self, num_bytes)\u001b[0m\n\u001b[0;32m    727\u001b[0m \u001b[1;33m\u001b[0m\u001b[0m\n\u001b[0;32m    728\u001b[0m     \u001b[1;32mdef\u001b[0m \u001b[0m_read_bytes\u001b[0m\u001b[1;33m(\u001b[0m\u001b[0mself\u001b[0m\u001b[1;33m,\u001b[0m \u001b[0mnum_bytes\u001b[0m\u001b[1;33m)\u001b[0m\u001b[1;33m:\u001b[0m\u001b[1;33m\u001b[0m\u001b[1;33m\u001b[0m\u001b[0m\n\u001b[1;32m--> 729\u001b[1;33m         \u001b[0mself\u001b[0m\u001b[1;33m.\u001b[0m\u001b[0m_sock\u001b[0m\u001b[1;33m.\u001b[0m\u001b[0msettimeout\u001b[0m\u001b[1;33m(\u001b[0m\u001b[0mself\u001b[0m\u001b[1;33m.\u001b[0m\u001b[0m_read_timeout\u001b[0m\u001b[1;33m)\u001b[0m\u001b[1;33m\u001b[0m\u001b[1;33m\u001b[0m\u001b[0m\n\u001b[0m\u001b[0;32m    730\u001b[0m         \u001b[1;32mwhile\u001b[0m \u001b[1;32mTrue\u001b[0m\u001b[1;33m:\u001b[0m\u001b[1;33m\u001b[0m\u001b[1;33m\u001b[0m\u001b[0m\n\u001b[0;32m    731\u001b[0m             \u001b[1;32mtry\u001b[0m\u001b[1;33m:\u001b[0m\u001b[1;33m\u001b[0m\u001b[1;33m\u001b[0m\u001b[0m\n",
      "\u001b[1;31mKeyboardInterrupt\u001b[0m: "
     ]
    }
   ],
   "source": [
    "# for each week run a separate sql query\n",
    "for i,j in enumerate(week_start):#[:-1]):#[:-1]):\n",
    "    j = datetime.datetime.strptime(j,'%Y-%m-%d') - datetime.timedelta(days=4*7)\n",
    "    j = '{year}-{month}-{day}'.format(year=j.year, month = j.month, day = j.day)\n",
    "#     print(j)\n",
    "#     print(type(j))\n",
    "    #print(week_start[i+1])\n",
    "    \n",
    "    sql_query = \"select user, tool from toolstart where datetime between '{init_date}' and '{end_date}';\".format(init_date=j,end_date = week_start[i+1])\n",
    "\n",
    "    toolstart_df = pd.read_sql_query(sql_query, engine)\n",
    "    \n",
    "    good_ts_indexes = []\n",
    "    temp_ts_df = toolstart_df['user'].to_list()\n",
    "    #print(len(temp_ts_df))\n",
    "\n",
    "    for ind_temp,val_temp in enumerate(temp_ts_df):\n",
    "        if val_temp  != 'gridstat' and val_temp  != 'instanton':\n",
    "            good_ts_indexes.append(ind_temp)\n",
    "\n",
    "    toolstart_df = toolstart_df.iloc[good_ts_indexes,:]    \n",
    "#     display(toolstart_df.head(5))\n",
    "    \n",
    "    ## filter for empty strings and nans\n",
    "    toolstart_df['user'].replace('', pd.np.nan, inplace=True)\n",
    "    toolstart_df2 = toolstart_df.dropna()\n",
    "#     display(toolstart_df2.head(2))\n",
    "    \n",
    "    ## build set of unique usernames, and get their SF IDs\n",
    "    toolstart_df_users = []\n",
    "    for k,kk in enumerate(toolstart_df2['user'].to_list()): #this is a botleneck, crosscheck massive lists\n",
    "        if kk not in toolstart_df_users: #with k not in ... this works, let me try speedup via kk\n",
    "            toolstart_df_users.append(kk)\n",
    "#     print(len(toolstart_df_users))\n",
    "    \n",
    "    master_sf_username_list = contacts_df['nanoHUB_username__c'].to_list()\n",
    "    master_sf_id_list = contacts_df['Id'].to_list()\n",
    "    \n",
    "    ## pull SF ids\n",
    "    toolstart_df_user_ids = [] # one-to-one inplace matching to toolstart_df_users\n",
    "\n",
    "    desired_toolstart_users = []\n",
    "    desired_toolstart_ids = []\n",
    "\n",
    "    contacts_in_clusters = contacts_in_cluster_df2['Contact__c'].to_list()\n",
    "    for k,kk in enumerate(toolstart_df_users): \n",
    "        #toolstart_df_user_ids.append(master_sf_id_list[master_sf_username_list.index(j)])  \n",
    "        \n",
    "        ## check which ids are in clusters\n",
    "        try:\n",
    "            if master_sf_id_list[master_sf_username_list.index(kk)] in contacts_in_clusters:\n",
    "                desired_toolstart_users.append(kk)    \n",
    "                desired_toolstart_ids.append(master_sf_id_list[master_sf_username_list.index(kk)])\n",
    "        except:\n",
    "            garb = 1 #print('user not in SF')\n",
    "\n",
    "    ## was their class at this time? not necessarily [they may not have been in a class/cluster]\n",
    "    ## build a filter for these users\n",
    "    filtered_desired_toolstart_ids = []\n",
    "    filtered_desired_toolstart_users = []\n",
    "    \n",
    "    #print(len(desired_toolstart_users))\n",
    "    \n",
    "    weeks_user_directory = ['init']\n",
    "    for h,hh in enumerate(clusters_in_week[i]): #{i:[]} where i = week no, [] clusters active for that week\n",
    "#         for m,mm in enumerate(contacts_in_cluster_df2['Tool_Usage_Cluster__c'].to_list()):\n",
    "#             #print(hh),print(mm)\n",
    "#             #print('new')\n",
    "#             if mm == hh:\n",
    "#                 temp = contacts_in_clusters[m]\n",
    "#                 weeks_user_directory += temp\n",
    "        \n",
    "        temp = [contacts_in_clusters[m] for m,mm in enumerate(contacts_in_cluster_df2['Tool_Usage_Cluster__c'])\\\n",
    "               if mm == hh]\n",
    "\n",
    "        weeks_user_directory += (temp)\n",
    "\n",
    "    if weeks_user_directory[0] == 'init':\n",
    "        del weeks_user_directory[0]\n",
    "    \n",
    "    for k,kk in enumerate(desired_toolstart_ids): #cross check all toolstart ids with week's cluster active ids\n",
    "        if kk in weeks_user_directory:\n",
    "            filtered_desired_toolstart_users.append(master_sf_username_list[master_sf_id_list.index(kk)])\n",
    "            filtered_desired_toolstart_ids.append(kk)\n",
    "            \n",
    "    \n",
    "    ## pick out the total simulation usage among these filtered_desired users\n",
    "    # sum up instances of toolstart_df2 with said username\n",
    "    sim_sum = 0\n",
    "    sim_use = toolstart_df2['user'] #each occurence of name indicates one novel use\n",
    "    sim_use_string = ''.join(sim_use)\n",
    "    \n",
    "    ## filtered_desired_toolstart_users contains duplicate people\n",
    "    filtered_desired_toolstart_users2 = set(filtered_desired_toolstart_users)\n",
    "    \n",
    "    for k,kk in enumerate(filtered_desired_toolstart_users2):\n",
    "        match = re.findall(kk,sim_use_string)\n",
    "        sim_sum += len(match)\n",
    "    \n",
    "    ## populate weekly_df\n",
    "    weekly_df.iloc[i,2] = len(set(filtered_desired_toolstart_users)) #users active within clusters\n",
    "    weekly_df.iloc[i,-2] = deepcopy(sim_sum) #sim usage\n",
    "    weekly_df.iloc[i,-1] = len(toolstart_df2['user'].to_list())#len(toolstart_df_users)\n",
    "    "
   ]
  },
  {
   "cell_type": "raw",
   "metadata": {},
   "source": [
    "weeks_user_directory = ['init']\n",
    "for h,hh in enumerate(clusters_in_week[i]): #{i:[]} where i = week no, [] clusters active for that week\n",
    "    for m,mm in enumerate(contacts_in_cluster_df2['Tool_Usage_Cluster__c'].to_list()):\n",
    "        #print(hh),print(mm)\n",
    "        #print('new')\n",
    "        if mm == hh:\n",
    "            temp = contacts_in_clusters[m]\n",
    "            print(temp)\n",
    "            weeks_user_directory += (temp)\n",
    "# print(weeks_user_directory)"
   ]
  },
  {
   "cell_type": "code",
   "execution_count": null,
   "metadata": {},
   "outputs": [],
   "source": []
  },
  {
   "cell_type": "code",
   "execution_count": null,
   "metadata": {
    "execution": {
     "iopub.execute_input": "2021-01-22T18:29:32.738705Z",
     "iopub.status.busy": "2021-01-22T18:29:32.738131Z",
     "iopub.status.idle": "2021-01-22T18:29:32.741702Z",
     "shell.execute_reply": "2021-01-22T18:29:32.742134Z"
    },
    "papermill": {
     "duration": 0.052818,
     "end_time": "2021-01-22T18:29:32.742304",
     "exception": false,
     "start_time": "2021-01-22T18:29:32.689486",
     "status": "completed"
    },
    "tags": []
   },
   "outputs": [],
   "source": [
    "end_seconds = time.time()\n",
    "diff = start_seconds-end_seconds\n",
    "print(diff)"
   ]
  },
  {
   "cell_type": "code",
   "execution_count": null,
   "metadata": {
    "execution": {
     "iopub.execute_input": "2021-01-22T18:29:32.819765Z",
     "iopub.status.busy": "2021-01-22T18:29:32.819163Z",
     "iopub.status.idle": "2021-01-22T18:29:32.823298Z",
     "shell.execute_reply": "2021-01-22T18:29:32.822856Z"
    },
    "papermill": {
     "duration": 0.04805,
     "end_time": "2021-01-22T18:29:32.823459",
     "exception": false,
     "start_time": "2021-01-22T18:29:32.775409",
     "status": "completed"
    },
    "tags": []
   },
   "outputs": [],
   "source": [
    "display(weekly_df.head(5))"
   ]
  },
  {
   "cell_type": "code",
   "execution_count": null,
   "metadata": {
    "execution": {
     "iopub.execute_input": "2021-01-22T18:29:32.898905Z",
     "iopub.status.busy": "2021-01-22T18:29:32.898314Z",
     "iopub.status.idle": "2021-01-22T18:29:32.900487Z",
     "shell.execute_reply": "2021-01-22T18:29:32.901033Z"
    },
    "papermill": {
     "duration": 0.042564,
     "end_time": "2021-01-22T18:29:32.901203",
     "exception": false,
     "start_time": "2021-01-22T18:29:32.858639",
     "status": "completed"
    },
    "tags": []
   },
   "outputs": [],
   "source": [
    "import os\n",
    "cwd = os.getcwd()"
   ]
  },
  {
   "cell_type": "code",
   "execution_count": null,
   "metadata": {
    "execution": {
     "iopub.execute_input": "2021-01-22T18:29:32.978777Z",
     "iopub.status.busy": "2021-01-22T18:29:32.978181Z",
     "iopub.status.idle": "2021-01-22T18:29:32.984823Z",
     "shell.execute_reply": "2021-01-22T18:29:32.985313Z"
    },
    "papermill": {
     "duration": 0.04809,
     "end_time": "2021-01-22T18:29:32.985517",
     "exception": false,
     "start_time": "2021-01-22T18:29:32.937427",
     "status": "completed"
    },
    "tags": []
   },
   "outputs": [],
   "source": [
    "weekly_df.to_csv(cwd+'/scorecard_4week.csv')"
   ]
  },
  {
   "cell_type": "code",
   "execution_count": null,
   "metadata": {
    "papermill": {
     "duration": 0.035957,
     "end_time": "2021-01-22T18:29:33.077946",
     "exception": false,
     "start_time": "2021-01-22T18:29:33.041989",
     "status": "completed"
    },
    "tags": []
   },
   "outputs": [],
   "source": []
  },
  {
   "cell_type": "code",
   "execution_count": null,
   "metadata": {},
   "outputs": [],
   "source": []
  }
 ],
 "metadata": {
  "kernelspec": {
   "display_name": "Python 3",
   "language": "python",
   "name": "python3"
  },
  "language_info": {
   "codemirror_mode": {
    "name": "ipython",
    "version": 3
   },
   "file_extension": ".py",
   "mimetype": "text/x-python",
   "name": "python",
   "nbconvert_exporter": "python",
   "pygments_lexer": "ipython3",
   "version": "3.7.10"
  },
  "papermill": {
   "duration": 432.143599,
   "end_time": "2021-01-22T18:29:33.521807",
   "environment_variables": {},
   "exception": null,
   "input_path": "/home/users/wang2506/nanohub_salesforce_integ/salesforce/2_year_scorecard.ipynb",
   "output_path": "/home/users/wang2506/nanohub_salesforce_integ/salesforce/2_year_scorecard.ipynb",
   "parameters": {},
   "start_time": "2021-01-22T18:22:21.378208",
   "version": "2.1.1"
  }
 },
 "nbformat": 4,
 "nbformat_minor": 4
}
