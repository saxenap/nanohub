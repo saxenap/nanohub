{
 "cells": [
  {
   "cell_type": "markdown",
   "metadata": {},
   "source": [
    "# DB2-Salesforce connector: pull in new email flags from DB2"
   ]
  },
  {
   "cell_type": "code",
   "execution_count": 1,
   "metadata": {},
   "outputs": [],
   "source": [
    "# Parameters\n",
    "# API settings\n",
    "api_url = '/services/data/v43.0/sobjects'\n",
    "external_id = 'nanoHUB_user_ID__c'\n",
    "object_id = 'Contact'\n",
    "\n",
    "# login parameters to be handled by Papermill\n",
    "sql_login_params = {\"username\": \"wang2506_ro\", \"password\": \"fnVnwcCS7iT45EsA\"}\n",
    "sf_login_params = {\n",
    "    \"grant_type\": \"password\",\n",
    "    \"client_id\": \"3MVG95jctIhbyCppj0SNJ75IsZ1y8UPGZtSNF4j8FNVXz.De8Lu4jHm3rjRosAtsHy6qjHx3i4S_QbQzvBePG\",\n",
    "    \"client_secret\": \"D1623C6D3607D4FC8004B92C761DFB6C1F70CCD129C5501E357028DFA00F5764\",\n",
    "    \"username\":\"wang2506@purdue.edu\",\n",
    "    \"password\":\"shit9927289sSYTkLiGvyK2UrazHFmjFUGU\",#GqnyixN6W3zVDAFXk80lgMAR4\n",
    "} "
   ]
  },
  {
   "cell_type": "code",
   "execution_count": 2,
   "metadata": {},
   "outputs": [],
   "source": [
    "import sys\n",
    "sys.path.append('/home/users/wang2506/nanohub_salesforce_integ/salesforce')\n",
    "\n",
    "import pandas as pd\n",
    "import datetime"
   ]
  },
  {
   "cell_type": "markdown",
   "metadata": {},
   "source": [
    "## Get the latest email opt in/out data from DB2\n"
   ]
  },
  {
   "cell_type": "code",
   "execution_count": 3,
   "metadata": {},
   "outputs": [],
   "source": [
    "# connect with DB2\n",
    "import sqlalchemy as sql\n",
    "\n",
    "engine = sql.create_engine('mysql+pymysql://%s:%s@127.0.0.1/nanohub' \\\n",
    "                                               %(sql_login_params['username'], sql_login_params['password']))\n",
    "\n",
    "# get new preferences for users\n",
    "pcomms = pd.read_sql_query(\"select id, user_id, profile_key, profile_value from jos_user_profiles \\\n",
    "where profile_key in ('personalizedcommunication') order by rand() limit 50000;\",engine) #and modifiedDate >= '2019-08-08' \n",
    "\n",
    "up_news = pd.read_sql_query(\"select id, user_id, profile_key, profile_value from jos_user_profiles \\\n",
    "where profile_key in ('updates_news') order by rand() limit 50000;\",engine)"
   ]
  },
  {
   "cell_type": "code",
   "execution_count": 4,
   "metadata": {},
   "outputs": [
    {
     "data": {
      "text/html": [
       "<div>\n",
       "<style scoped>\n",
       "    .dataframe tbody tr th:only-of-type {\n",
       "        vertical-align: middle;\n",
       "    }\n",
       "\n",
       "    .dataframe tbody tr th {\n",
       "        vertical-align: top;\n",
       "    }\n",
       "\n",
       "    .dataframe thead th {\n",
       "        text-align: right;\n",
       "    }\n",
       "</style>\n",
       "<table border=\"1\" class=\"dataframe\">\n",
       "  <thead>\n",
       "    <tr style=\"text-align: right;\">\n",
       "      <th></th>\n",
       "      <th>id</th>\n",
       "      <th>user_id</th>\n",
       "      <th>profile_key</th>\n",
       "      <th>profile_value</th>\n",
       "    </tr>\n",
       "  </thead>\n",
       "  <tbody>\n",
       "    <tr>\n",
       "      <th>0</th>\n",
       "      <td>1798861</td>\n",
       "      <td>162479</td>\n",
       "      <td>personalizedcommunication</td>\n",
       "      <td>Yes, I would like to receive personalized comm...</td>\n",
       "    </tr>\n",
       "    <tr>\n",
       "      <th>1</th>\n",
       "      <td>1906955</td>\n",
       "      <td>260680</td>\n",
       "      <td>personalizedcommunication</td>\n",
       "      <td>Yes, I would like to receive personalized comm...</td>\n",
       "    </tr>\n",
       "  </tbody>\n",
       "</table>\n",
       "</div>"
      ],
      "text/plain": [
       "        id  user_id                profile_key  \\\n",
       "0  1798861   162479  personalizedcommunication   \n",
       "1  1906955   260680  personalizedcommunication   \n",
       "\n",
       "                                       profile_value  \n",
       "0  Yes, I would like to receive personalized comm...  \n",
       "1  Yes, I would like to receive personalized comm...  "
      ]
     },
     "metadata": {},
     "output_type": "display_data"
    },
    {
     "data": {
      "text/html": [
       "<div>\n",
       "<style scoped>\n",
       "    .dataframe tbody tr th:only-of-type {\n",
       "        vertical-align: middle;\n",
       "    }\n",
       "\n",
       "    .dataframe tbody tr th {\n",
       "        vertical-align: top;\n",
       "    }\n",
       "\n",
       "    .dataframe thead th {\n",
       "        text-align: right;\n",
       "    }\n",
       "</style>\n",
       "<table border=\"1\" class=\"dataframe\">\n",
       "  <thead>\n",
       "    <tr style=\"text-align: right;\">\n",
       "      <th></th>\n",
       "      <th>id</th>\n",
       "      <th>user_id</th>\n",
       "      <th>profile_key</th>\n",
       "      <th>profile_value</th>\n",
       "    </tr>\n",
       "  </thead>\n",
       "  <tbody>\n",
       "    <tr>\n",
       "      <th>49998</th>\n",
       "      <td>1637079</td>\n",
       "      <td>60477</td>\n",
       "      <td>personalizedcommunication</td>\n",
       "      <td>Yes, I would like to receive personalized comm...</td>\n",
       "    </tr>\n",
       "    <tr>\n",
       "      <th>49999</th>\n",
       "      <td>1792365</td>\n",
       "      <td>158390</td>\n",
       "      <td>personalizedcommunication</td>\n",
       "      <td>Yes, I would like to receive personalized comm...</td>\n",
       "    </tr>\n",
       "  </tbody>\n",
       "</table>\n",
       "</div>"
      ],
      "text/plain": [
       "            id  user_id                profile_key  \\\n",
       "49998  1637079    60477  personalizedcommunication   \n",
       "49999  1792365   158390  personalizedcommunication   \n",
       "\n",
       "                                           profile_value  \n",
       "49998  Yes, I would like to receive personalized comm...  \n",
       "49999  Yes, I would like to receive personalized comm...  "
      ]
     },
     "metadata": {},
     "output_type": "display_data"
    },
    {
     "data": {
      "text/html": [
       "<div>\n",
       "<style scoped>\n",
       "    .dataframe tbody tr th:only-of-type {\n",
       "        vertical-align: middle;\n",
       "    }\n",
       "\n",
       "    .dataframe tbody tr th {\n",
       "        vertical-align: top;\n",
       "    }\n",
       "\n",
       "    .dataframe thead th {\n",
       "        text-align: right;\n",
       "    }\n",
       "</style>\n",
       "<table border=\"1\" class=\"dataframe\">\n",
       "  <thead>\n",
       "    <tr style=\"text-align: right;\">\n",
       "      <th></th>\n",
       "      <th>id</th>\n",
       "      <th>user_id</th>\n",
       "      <th>profile_key</th>\n",
       "      <th>profile_value</th>\n",
       "    </tr>\n",
       "  </thead>\n",
       "  <tbody>\n",
       "    <tr>\n",
       "      <th>0</th>\n",
       "      <td>1593640</td>\n",
       "      <td>38367</td>\n",
       "      <td>updates_news</td>\n",
       "      <td>No, I do not want to receive updates and news</td>\n",
       "    </tr>\n",
       "    <tr>\n",
       "      <th>1</th>\n",
       "      <td>1827364</td>\n",
       "      <td>181427</td>\n",
       "      <td>updates_news</td>\n",
       "      <td>No, I do not want to receive updates and news</td>\n",
       "    </tr>\n",
       "  </tbody>\n",
       "</table>\n",
       "</div>"
      ],
      "text/plain": [
       "        id  user_id   profile_key  \\\n",
       "0  1593640    38367  updates_news   \n",
       "1  1827364   181427  updates_news   \n",
       "\n",
       "                                   profile_value  \n",
       "0  No, I do not want to receive updates and news  \n",
       "1  No, I do not want to receive updates and news  "
      ]
     },
     "metadata": {},
     "output_type": "display_data"
    },
    {
     "data": {
      "text/html": [
       "<div>\n",
       "<style scoped>\n",
       "    .dataframe tbody tr th:only-of-type {\n",
       "        vertical-align: middle;\n",
       "    }\n",
       "\n",
       "    .dataframe tbody tr th {\n",
       "        vertical-align: top;\n",
       "    }\n",
       "\n",
       "    .dataframe thead th {\n",
       "        text-align: right;\n",
       "    }\n",
       "</style>\n",
       "<table border=\"1\" class=\"dataframe\">\n",
       "  <thead>\n",
       "    <tr style=\"text-align: right;\">\n",
       "      <th></th>\n",
       "      <th>id</th>\n",
       "      <th>user_id</th>\n",
       "      <th>profile_key</th>\n",
       "      <th>profile_value</th>\n",
       "    </tr>\n",
       "  </thead>\n",
       "  <tbody>\n",
       "    <tr>\n",
       "      <th>49998</th>\n",
       "      <td>1942102</td>\n",
       "      <td>286426</td>\n",
       "      <td>updates_news</td>\n",
       "      <td>No, I do not want to receive updates and news</td>\n",
       "    </tr>\n",
       "    <tr>\n",
       "      <th>49999</th>\n",
       "      <td>1923630</td>\n",
       "      <td>273776</td>\n",
       "      <td>updates_news</td>\n",
       "      <td>No, I do not want to receive updates and news</td>\n",
       "    </tr>\n",
       "  </tbody>\n",
       "</table>\n",
       "</div>"
      ],
      "text/plain": [
       "            id  user_id   profile_key  \\\n",
       "49998  1942102   286426  updates_news   \n",
       "49999  1923630   273776  updates_news   \n",
       "\n",
       "                                       profile_value  \n",
       "49998  No, I do not want to receive updates and news  \n",
       "49999  No, I do not want to receive updates and news  "
      ]
     },
     "metadata": {},
     "output_type": "display_data"
    }
   ],
   "source": [
    "display(pcomms.head(2))\n",
    "display(pcomms.tail(2))\n",
    "display(up_news.head(2))\n",
    "display(up_news.tail(2))"
   ]
  },
  {
   "cell_type": "code",
   "execution_count": 5,
   "metadata": {},
   "outputs": [
    {
     "data": {
      "text/html": [
       "<div>\n",
       "<style scoped>\n",
       "    .dataframe tbody tr th:only-of-type {\n",
       "        vertical-align: middle;\n",
       "    }\n",
       "\n",
       "    .dataframe tbody tr th {\n",
       "        vertical-align: top;\n",
       "    }\n",
       "\n",
       "    .dataframe thead th {\n",
       "        text-align: right;\n",
       "    }\n",
       "</style>\n",
       "<table border=\"1\" class=\"dataframe\">\n",
       "  <thead>\n",
       "    <tr style=\"text-align: right;\">\n",
       "      <th></th>\n",
       "      <th>user_id</th>\n",
       "      <th>profile_value</th>\n",
       "    </tr>\n",
       "  </thead>\n",
       "  <tbody>\n",
       "    <tr>\n",
       "      <th>0</th>\n",
       "      <td>162479</td>\n",
       "      <td>Yes, I would like to receive personalized comm...</td>\n",
       "    </tr>\n",
       "    <tr>\n",
       "      <th>1</th>\n",
       "      <td>260680</td>\n",
       "      <td>Yes, I would like to receive personalized comm...</td>\n",
       "    </tr>\n",
       "  </tbody>\n",
       "</table>\n",
       "</div>"
      ],
      "text/plain": [
       "   user_id                                      profile_value\n",
       "0   162479  Yes, I would like to receive personalized comm...\n",
       "1   260680  Yes, I would like to receive personalized comm..."
      ]
     },
     "metadata": {},
     "output_type": "display_data"
    },
    {
     "data": {
      "text/html": [
       "<div>\n",
       "<style scoped>\n",
       "    .dataframe tbody tr th:only-of-type {\n",
       "        vertical-align: middle;\n",
       "    }\n",
       "\n",
       "    .dataframe tbody tr th {\n",
       "        vertical-align: top;\n",
       "    }\n",
       "\n",
       "    .dataframe thead th {\n",
       "        text-align: right;\n",
       "    }\n",
       "</style>\n",
       "<table border=\"1\" class=\"dataframe\">\n",
       "  <thead>\n",
       "    <tr style=\"text-align: right;\">\n",
       "      <th></th>\n",
       "      <th>user_id</th>\n",
       "      <th>profile_value</th>\n",
       "    </tr>\n",
       "  </thead>\n",
       "  <tbody>\n",
       "    <tr>\n",
       "      <th>0</th>\n",
       "      <td>38367</td>\n",
       "      <td>No, I do not want to receive updates and news</td>\n",
       "    </tr>\n",
       "    <tr>\n",
       "      <th>1</th>\n",
       "      <td>181427</td>\n",
       "      <td>No, I do not want to receive updates and news</td>\n",
       "    </tr>\n",
       "  </tbody>\n",
       "</table>\n",
       "</div>"
      ],
      "text/plain": [
       "   user_id                                  profile_value\n",
       "0    38367  No, I do not want to receive updates and news\n",
       "1   181427  No, I do not want to receive updates and news"
      ]
     },
     "metadata": {},
     "output_type": "display_data"
    }
   ],
   "source": [
    "## adjusting new_email dataframe for the new email optin values \n",
    "# 0 or 1\n",
    "pcomms_t = pcomms[['user_id','profile_value']]\n",
    "up_news_t = up_news[['user_id','profile_value']]\n",
    "\n",
    "display(pcomms_t.head(2))\n",
    "display(up_news_t.head(2))\n"
   ]
  },
  {
   "cell_type": "code",
   "execution_count": 6,
   "metadata": {},
   "outputs": [
    {
     "name": "stderr",
     "output_type": "stream",
     "text": [
      "C:\\Users\\henry\\Anaconda3\\envs\\tf\\lib\\site-packages\\pandas\\core\\indexing.py:494: SettingWithCopyWarning: \n",
      "A value is trying to be set on a copy of a slice from a DataFrame.\n",
      "Try using .loc[row_indexer,col_indexer] = value instead\n",
      "\n",
      "See the caveats in the documentation: http://pandas.pydata.org/pandas-docs/stable/user_guide/indexing.html#returning-a-view-versus-a-copy\n",
      "  self.obj[item] = s\n"
     ]
    }
   ],
   "source": [
    "## filtering pcomms_t with 0 or 1\n",
    "ptt = pcomms_t['profile_value'].to_list()\n",
    "\n",
    "for index, val in enumerate(ptt):\n",
    "    val = val.split(',')[0]\n",
    "    if val == 'Yes':\n",
    "        ptt[index] = 1 # 1 indicates opt-in\n",
    "    else:\n",
    "        ptt[index] = 0 # 1 indicates opt-out\n",
    "\n",
    "pcomms_t.loc[:,'profile_value'] = ptt\n"
   ]
  },
  {
   "cell_type": "code",
   "execution_count": 7,
   "metadata": {},
   "outputs": [],
   "source": [
    "## filtering up news t with 0 or 1\n",
    "untt = up_news_t['profile_value'].to_list()\n",
    "\n",
    "for index, val in enumerate(untt):\n",
    "    val = val.split(',')[0]\n",
    "    if val == 'Yes':\n",
    "        untt[index] = 1 # 1 indicates opt-in\n",
    "    else:\n",
    "        untt[index] = 0 # 1 indicates opt-out\n",
    "\n",
    "up_news_t.loc[:,'profile_value'] = untt\n"
   ]
  },
  {
   "cell_type": "code",
   "execution_count": 8,
   "metadata": {},
   "outputs": [
    {
     "data": {
      "text/html": [
       "<div>\n",
       "<style scoped>\n",
       "    .dataframe tbody tr th:only-of-type {\n",
       "        vertical-align: middle;\n",
       "    }\n",
       "\n",
       "    .dataframe tbody tr th {\n",
       "        vertical-align: top;\n",
       "    }\n",
       "\n",
       "    .dataframe thead th {\n",
       "        text-align: right;\n",
       "    }\n",
       "</style>\n",
       "<table border=\"1\" class=\"dataframe\">\n",
       "  <thead>\n",
       "    <tr style=\"text-align: right;\">\n",
       "      <th></th>\n",
       "      <th>user_id</th>\n",
       "      <th>profile_value</th>\n",
       "    </tr>\n",
       "  </thead>\n",
       "  <tbody>\n",
       "    <tr>\n",
       "      <th>0</th>\n",
       "      <td>162479</td>\n",
       "      <td>1</td>\n",
       "    </tr>\n",
       "    <tr>\n",
       "      <th>1</th>\n",
       "      <td>260680</td>\n",
       "      <td>1</td>\n",
       "    </tr>\n",
       "  </tbody>\n",
       "</table>\n",
       "</div>"
      ],
      "text/plain": [
       "   user_id  profile_value\n",
       "0   162479              1\n",
       "1   260680              1"
      ]
     },
     "metadata": {},
     "output_type": "display_data"
    },
    {
     "data": {
      "text/html": [
       "<div>\n",
       "<style scoped>\n",
       "    .dataframe tbody tr th:only-of-type {\n",
       "        vertical-align: middle;\n",
       "    }\n",
       "\n",
       "    .dataframe tbody tr th {\n",
       "        vertical-align: top;\n",
       "    }\n",
       "\n",
       "    .dataframe thead th {\n",
       "        text-align: right;\n",
       "    }\n",
       "</style>\n",
       "<table border=\"1\" class=\"dataframe\">\n",
       "  <thead>\n",
       "    <tr style=\"text-align: right;\">\n",
       "      <th></th>\n",
       "      <th>user_id</th>\n",
       "      <th>profile_value</th>\n",
       "    </tr>\n",
       "  </thead>\n",
       "  <tbody>\n",
       "    <tr>\n",
       "      <th>49998</th>\n",
       "      <td>60477</td>\n",
       "      <td>1</td>\n",
       "    </tr>\n",
       "    <tr>\n",
       "      <th>49999</th>\n",
       "      <td>158390</td>\n",
       "      <td>1</td>\n",
       "    </tr>\n",
       "  </tbody>\n",
       "</table>\n",
       "</div>"
      ],
      "text/plain": [
       "       user_id  profile_value\n",
       "49998    60477              1\n",
       "49999   158390              1"
      ]
     },
     "metadata": {},
     "output_type": "display_data"
    },
    {
     "data": {
      "text/html": [
       "<div>\n",
       "<style scoped>\n",
       "    .dataframe tbody tr th:only-of-type {\n",
       "        vertical-align: middle;\n",
       "    }\n",
       "\n",
       "    .dataframe tbody tr th {\n",
       "        vertical-align: top;\n",
       "    }\n",
       "\n",
       "    .dataframe thead th {\n",
       "        text-align: right;\n",
       "    }\n",
       "</style>\n",
       "<table border=\"1\" class=\"dataframe\">\n",
       "  <thead>\n",
       "    <tr style=\"text-align: right;\">\n",
       "      <th></th>\n",
       "      <th>user_id</th>\n",
       "      <th>profile_value</th>\n",
       "    </tr>\n",
       "  </thead>\n",
       "  <tbody>\n",
       "    <tr>\n",
       "      <th>0</th>\n",
       "      <td>38367</td>\n",
       "      <td>0</td>\n",
       "    </tr>\n",
       "    <tr>\n",
       "      <th>1</th>\n",
       "      <td>181427</td>\n",
       "      <td>0</td>\n",
       "    </tr>\n",
       "  </tbody>\n",
       "</table>\n",
       "</div>"
      ],
      "text/plain": [
       "   user_id  profile_value\n",
       "0    38367              0\n",
       "1   181427              0"
      ]
     },
     "metadata": {},
     "output_type": "display_data"
    },
    {
     "data": {
      "text/html": [
       "<div>\n",
       "<style scoped>\n",
       "    .dataframe tbody tr th:only-of-type {\n",
       "        vertical-align: middle;\n",
       "    }\n",
       "\n",
       "    .dataframe tbody tr th {\n",
       "        vertical-align: top;\n",
       "    }\n",
       "\n",
       "    .dataframe thead th {\n",
       "        text-align: right;\n",
       "    }\n",
       "</style>\n",
       "<table border=\"1\" class=\"dataframe\">\n",
       "  <thead>\n",
       "    <tr style=\"text-align: right;\">\n",
       "      <th></th>\n",
       "      <th>user_id</th>\n",
       "      <th>profile_value</th>\n",
       "    </tr>\n",
       "  </thead>\n",
       "  <tbody>\n",
       "    <tr>\n",
       "      <th>49998</th>\n",
       "      <td>286426</td>\n",
       "      <td>0</td>\n",
       "    </tr>\n",
       "    <tr>\n",
       "      <th>49999</th>\n",
       "      <td>273776</td>\n",
       "      <td>0</td>\n",
       "    </tr>\n",
       "  </tbody>\n",
       "</table>\n",
       "</div>"
      ],
      "text/plain": [
       "       user_id  profile_value\n",
       "49998   286426              0\n",
       "49999   273776              0"
      ]
     },
     "metadata": {},
     "output_type": "display_data"
    }
   ],
   "source": [
    "## display\n",
    "display(pcomms_t.head(2))\n",
    "display(pcomms_t.tail(2))\n",
    "display(up_news_t.head(2))\n",
    "display(up_news_t.tail(2))"
   ]
  },
  {
   "cell_type": "code",
   "execution_count": 9,
   "metadata": {},
   "outputs": [],
   "source": [
    "## create new dataframe\n",
    "new_opts = pd.DataFrame()\n",
    "\n",
    "new_opts['nanoHUB_user_ID__c'] = pcomms_t['user_id']\n",
    "new_opts['personalizedcommunication__c'] = pcomms_t['profile_value']\n",
    "new_opts['updatesnews__c'] = up_news_t['profile_value']\n"
   ]
  },
  {
   "cell_type": "code",
   "execution_count": 10,
   "metadata": {},
   "outputs": [
    {
     "data": {
      "text/html": [
       "<div>\n",
       "<style scoped>\n",
       "    .dataframe tbody tr th:only-of-type {\n",
       "        vertical-align: middle;\n",
       "    }\n",
       "\n",
       "    .dataframe tbody tr th {\n",
       "        vertical-align: top;\n",
       "    }\n",
       "\n",
       "    .dataframe thead th {\n",
       "        text-align: right;\n",
       "    }\n",
       "</style>\n",
       "<table border=\"1\" class=\"dataframe\">\n",
       "  <thead>\n",
       "    <tr style=\"text-align: right;\">\n",
       "      <th></th>\n",
       "      <th>nanoHUB_user_ID__c</th>\n",
       "      <th>personalizedcommunication__c</th>\n",
       "      <th>updatesnews__c</th>\n",
       "    </tr>\n",
       "  </thead>\n",
       "  <tbody>\n",
       "    <tr>\n",
       "      <th>0</th>\n",
       "      <td>162479</td>\n",
       "      <td>1</td>\n",
       "      <td>0</td>\n",
       "    </tr>\n",
       "    <tr>\n",
       "      <th>1</th>\n",
       "      <td>260680</td>\n",
       "      <td>1</td>\n",
       "      <td>0</td>\n",
       "    </tr>\n",
       "  </tbody>\n",
       "</table>\n",
       "</div>"
      ],
      "text/plain": [
       "   nanoHUB_user_ID__c  personalizedcommunication__c  updatesnews__c\n",
       "0              162479                             1               0\n",
       "1              260680                             1               0"
      ]
     },
     "metadata": {},
     "output_type": "display_data"
    },
    {
     "name": "stdout",
     "output_type": "stream",
     "text": [
      "<class 'pandas.core.frame.DataFrame'>\n"
     ]
    }
   ],
   "source": [
    "display(new_opts.head(2))\n",
    "print(type(new_opts))"
   ]
  },
  {
   "cell_type": "markdown",
   "metadata": {},
   "source": [
    "## Send to SF"
   ]
  },
  {
   "cell_type": "code",
   "execution_count": 14,
   "metadata": {},
   "outputs": [
    {
     "name": "stdout",
     "output_type": "stream",
     "text": [
      "Obtained Salesforce access token ...... True\n"
     ]
    }
   ],
   "source": [
    "from DB2SalesforceAPI import DB2SalesforceAPI\n",
    "\n",
    "# create DB2 to Salesforce API object\n",
    "db_s = DB2SalesforceAPI(sf_login_params)\n"
   ]
  },
  {
   "cell_type": "code",
   "execution_count": 15,
   "metadata": {},
   "outputs": [
    {
     "name": "stdout",
     "output_type": "stream",
     "text": [
      "[Success] Bulk job creation successful. Job ID = 7505w00000QNT5AAAX\n",
      "hello\n",
      "[Success] CSV upload successful. Job ID = 7505w00000QNT5AAAX\n",
      "[Success] Closing job successful. Job ID = 7505w00000QNT5AAAX\n"
     ]
    }
   ],
   "source": [
    "db_s.object_id = object_id\n",
    "db_s.external_id = external_id\n",
    "\n",
    "# send data to Salesforce\n",
    "db_s.send_data(new_opts)\n"
   ]
  },
  {
   "cell_type": "code",
   "execution_count": 18,
   "metadata": {},
   "outputs": [
    {
     "data": {
      "text/plain": [
       "{'id': '7505w00000QNT5AAAX',\n",
       " 'operation': 'upsert',\n",
       " 'object': 'Contact',\n",
       " 'createdById': '0055w00000DM5bOAAT',\n",
       " 'createdDate': '2020-09-27T23:58:30.000+0000',\n",
       " 'systemModstamp': '2020-09-28T00:00:32.000+0000',\n",
       " 'state': 'JobComplete',\n",
       " 'externalIdFieldName': 'nanoHUB_user_ID__c',\n",
       " 'concurrencyMode': 'Parallel',\n",
       " 'contentType': 'CSV',\n",
       " 'apiVersion': 47.0,\n",
       " 'jobType': 'V2Ingest',\n",
       " 'lineEnding': 'LF',\n",
       " 'columnDelimiter': 'COMMA',\n",
       " 'numberRecordsProcessed': 50000,\n",
       " 'numberRecordsFailed': 36,\n",
       " 'retries': 0,\n",
       " 'totalProcessingTime': 485746,\n",
       " 'apiActiveProcessingTime': 438708,\n",
       " 'apexProcessingTime': 4260084}"
      ]
     },
     "execution_count": 18,
     "metadata": {},
     "output_type": "execute_result"
    }
   ],
   "source": [
    "# check status\n",
    "db_s.check_bulk_status()"
   ]
  },
  {
   "cell_type": "code",
   "execution_count": 19,
   "metadata": {},
   "outputs": [
    {
     "name": "stdout",
     "output_type": "stream",
     "text": [
      "('\"sf__Id\",\"sf__Error\",nanoHUB_user_ID__c,personalizedcommunication__c,updatesnews__c\\n'\n",
      " '\"\",\"REQUIRED_FIELD_MISSING:Required fields are missing: [LastName]:LastName '\n",
      " '--\",\"105411.0\",\"true\",\"false\"\\n'\n",
      " '\"\",\"REQUIRED_FIELD_MISSING:Required fields are missing: [LastName]:LastName '\n",
      " '--\",\"300187.0\",\"false\",\"false\"\\n'\n",
      " '\"\",\"REQUIRED_FIELD_MISSING:Required fields are missing: [LastName]:LastName '\n",
      " '--\",\"298538.0\",\"true\",\"false\"\\n'\n",
      " '\"\",\"REQUIRED_FIELD_MISSING:Required fields are missing: [LastName]:LastName '\n",
      " '--\",\"297246.0\",\"true\",\"false\"\\n'\n",
      " '\"\",\"REQUIRED_FIELD_MISSING:Required fields are missing: [LastName]:LastName '\n",
      " '--\",\"299670.0\",\"true\",\"false\"\\n'\n",
      " '\"\",\"REQUIRED_FIELD_MISSING:Required fields are missing: [LastName]:LastName '\n",
      " '--\",\"299325.0\",\"false\",\"false\"\\n'\n",
      " '\"\",\"REQUIRED_FIELD_MISSING:Required fields are missing: [LastName]:LastName '\n",
      " '--\",\"300595.0\",\"false\",\"false\"\\n'\n",
      " '\"\",\"REQUIRED_FIELD_MISSING:Required fields are missing: [LastName]:LastName '\n",
      " '--\",\"297476.0\",\"true\",\"false\"\\n'\n",
      " '\"\",\"REQUIRED_FIELD_MISSING:Required fields are missing: [LastName]:LastName '\n",
      " '--\",\"300929.0\",\"true\",\"false\"\\n'\n",
      " '\"\",\"REQUIRED_FIELD_MISSING:Required fields are missing: [LastName]:LastName '\n",
      " '--\",\"298708.0\",\"true\",\"false\"\\n'\n",
      " '\"\",\"REQUIRED_FIELD_MISSING:Required fields are missing: [LastName]:LastName '\n",
      " '--\",\"299676.0\",\"false\",\"false\"\\n'\n",
      " '\"\",\"REQUIRED_FIELD_MISSING:Required fields are missing: [LastName]:LastName '\n",
      " '--\",\"297474.0\",\"true\",\"false\"\\n'\n",
      " '\"\",\"REQUIRED_FIELD_MISSING:Required fields are missing: [LastName]:LastName '\n",
      " '--\",\"297397.0\",\"true\",\"true\"\\n'\n",
      " '\"\",\"REQUIRED_FIELD_MISSING:Required fields are missing: [LastName]:LastName '\n",
      " '--\",\"298709.0\",\"true\",\"false\"\\n'\n",
      " '\"\",\"REQUIRED_FIELD_MISSING:Required fields are missing: [LastName]:LastName '\n",
      " '--\",\"298057.0\",\"true\",\"true\"\\n'\n",
      " '\"\",\"REQUIRED_FIELD_MISSING:Required fields are missing: [LastName]:LastName '\n",
      " '--\",\"297409.0\",\"true\",\"false\"\\n'\n",
      " '\"\",\"REQUIRED_FIELD_MISSING:Required fields are missing: [LastName]:LastName '\n",
      " '--\",\"298238.0\",\"true\",\"false\"\\n'\n",
      " '\"\",\"REQUIRED_FIELD_MISSING:Required fields are missing: [LastName]:LastName '\n",
      " '--\",\"185228.0\",\"true\",\"false\"\\n'\n",
      " '\"\",\"REQUIRED_FIELD_MISSING:Required fields are missing: [LastName]:LastName '\n",
      " '--\",\"4749.0\",\"true\",\"false\"\\n'\n",
      " '\"\",\"REQUIRED_FIELD_MISSING:Required fields are missing: [LastName]:LastName '\n",
      " '--\",\"298784.0\",\"false\",\"false\"\\n'\n",
      " '\"\",\"REQUIRED_FIELD_MISSING:Required fields are missing: [LastName]:LastName '\n",
      " '--\",\"298596.0\",\"true\",\"false\"\\n'\n",
      " '\"\",\"REQUIRED_FIELD_MISSING:Required fields are missing: [LastName]:LastName '\n",
      " '--\",\"298534.0\",\"false\",\"true\"\\n'\n",
      " '\"\",\"REQUIRED_FIELD_MISSING:Required fields are missing: [LastName]:LastName '\n",
      " '--\",\"298585.0\",\"false\",\"true\"\\n'\n",
      " '\"\",\"REQUIRED_FIELD_MISSING:Required fields are missing: [LastName]:LastName '\n",
      " '--\",\"301323.0\",\"false\",\"false\"\\n'\n",
      " '\"\",\"REQUIRED_FIELD_MISSING:Required fields are missing: [LastName]:LastName '\n",
      " '--\",\"300785.0\",\"true\",\"false\"\\n'\n",
      " '\"\",\"REQUIRED_FIELD_MISSING:Required fields are missing: [LastName]:LastName '\n",
      " '--\",\"20159.0\",\"true\",\"false\"\\n'\n",
      " '\"\",\"REQUIRED_FIELD_MISSING:Required fields are missing: [LastName]:LastName '\n",
      " '--\",\"299677.0\",\"false\",\"true\"\\n'\n",
      " '\"\",\"REQUIRED_FIELD_MISSING:Required fields are missing: [LastName]:LastName '\n",
      " '--\",\"300720.0\",\"true\",\"false\"\\n'\n",
      " '\"\",\"REQUIRED_FIELD_MISSING:Required fields are missing: [LastName]:LastName '\n",
      " '--\",\"300153.0\",\"true\",\"false\"\\n'\n",
      " '\"\",\"REQUIRED_FIELD_MISSING:Required fields are missing: [LastName]:LastName '\n",
      " '--\",\"297711.0\",\"true\",\"true\"\\n'\n",
      " '\"\",\"REQUIRED_FIELD_MISSING:Required fields are missing: [LastName]:LastName '\n",
      " '--\",\"299944.0\",\"false\",\"false\"\\n'\n",
      " '\"\",\"REQUIRED_FIELD_MISSING:Required fields are missing: [LastName]:LastName '\n",
      " '--\",\"6027.0\",\"true\",\"false\"\\n'\n",
      " '\"\",\"REQUIRED_FIELD_MISSING:Required fields are missing: [LastName]:LastName '\n",
      " '--\",\"297637.0\",\"true\",\"false\"\\n'\n",
      " '\"\",\"REQUIRED_FIELD_MISSING:Required fields are missing: [LastName]:LastName '\n",
      " '--\",\"298798.0\",\"true\",\"false\"\\n'\n",
      " '\"\",\"REQUIRED_FIELD_MISSING:Required fields are missing: [LastName]:LastName '\n",
      " '--\",\"300934.0\",\"true\",\"true\"\\n'\n",
      " '\"\",\"REQUIRED_FIELD_MISSING:Required fields are missing: [LastName]:LastName '\n",
      " '--\",\"298793.0\",\"true\",\"false\"\\n')\n"
     ]
    }
   ],
   "source": [
    "# check status\n",
    "from pprint import pprint\n",
    "\n",
    "pprint(db_s.check_bulk_failed_results())"
   ]
  },
  {
   "cell_type": "code",
   "execution_count": null,
   "metadata": {},
   "outputs": [],
   "source": []
  }
 ],
 "metadata": {
  "kernelspec": {
   "display_name": "Python 3",
   "language": "python",
   "name": "python3"
  },
  "language_info": {
   "codemirror_mode": {
    "name": "ipython",
    "version": 3
   },
   "file_extension": ".py",
   "mimetype": "text/x-python",
   "name": "python",
   "nbconvert_exporter": "python",
   "pygments_lexer": "ipython3",
   "version": "3.7.7"
  }
 },
 "nbformat": 4,
 "nbformat_minor": 4
}
