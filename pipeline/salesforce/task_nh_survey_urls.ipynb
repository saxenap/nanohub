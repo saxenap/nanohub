{
 "cells": [
  {
   "cell_type": "markdown",
   "metadata": {
    "papermill": {
     "duration": 0.013989,
     "end_time": "2021-01-21T08:30:03.545516",
     "exception": false,
     "start_time": "2021-01-21T08:30:03.531527",
     "status": "completed"
    },
    "tags": []
   },
   "source": [
    "# DB2-Salesforce populate survey URLs obtain from DB2"
   ]
  },
  {
   "cell_type": "code",
   "execution_count": 1,
   "metadata": {
    "execution": {
     "iopub.execute_input": "2021-01-21T08:30:03.569860Z",
     "iopub.status.busy": "2021-01-21T08:30:03.569197Z",
     "iopub.status.idle": "2021-01-21T08:30:03.571517Z",
     "shell.execute_reply": "2021-01-21T08:30:03.570856Z"
    },
    "papermill": {
     "duration": 0.01654,
     "end_time": "2021-01-21T08:30:03.571657",
     "exception": false,
     "start_time": "2021-01-21T08:30:03.555117",
     "status": "completed"
    },
    "tags": []
   },
   "outputs": [],
   "source": [
    "# Parameters\n",
    "# API settings\n",
    "api_url = '/services/data/v43.0/sobjects'\n",
    "external_id = 'nanoHUB_user_ID__c'\n",
    "object_id = 'Contact'\n",
    "\n",
    "# login parameters to be handled by Papermill\n",
    "sql_login_params = {\"username\": \"wang2506_ro\", \"password\": \"fnVnwcCS7iT45EsA\"}\n",
    "sf_login_params = {\n",
    "    \"grant_type\": \"password\",\n",
    "    \"client_id\": \"3MVG95jctIhbyCppj0SNJ75IsZ1y8UPGZtSNF4j8FNVXz.De8Lu4jHm3rjRosAtsHy6qjHx3i4S_QbQzvBePG\",\n",
    "    \"client_secret\": \"D1623C6D3607D4FC8004B92C761DFB6C1F70CCD129C5501E357028DFA00F5764\",\n",
    "    \"username\":\"wang2506@purdue.edu\",\n",
    "    \"password\":\"purdue99272844vp8Z6qq0teuPQmirGaaPAt4\",  \n",
    "} "
   ]
  },
  {
   "cell_type": "code",
   "execution_count": 2,
   "metadata": {
    "execution": {
     "iopub.execute_input": "2021-01-21T08:30:03.601596Z",
     "iopub.status.busy": "2021-01-21T08:30:03.600990Z",
     "iopub.status.idle": "2021-01-21T08:30:03.875611Z",
     "shell.execute_reply": "2021-01-21T08:30:03.875097Z"
    },
    "papermill": {
     "duration": 0.293444,
     "end_time": "2021-01-21T08:30:03.875746",
     "exception": false,
     "start_time": "2021-01-21T08:30:03.582302",
     "status": "completed"
    },
    "tags": []
   },
   "outputs": [],
   "source": [
    "import sys\n",
    "sys.path.append('/home/users/wang2506/nanohub_salesforce_integ/salesforce')\n",
    "\n",
    "import pandas as pd\n",
    "import datetime"
   ]
  },
  {
   "cell_type": "markdown",
   "metadata": {
    "papermill": {
     "duration": 0.009039,
     "end_time": "2021-01-21T08:30:03.894552",
     "exception": false,
     "start_time": "2021-01-21T08:30:03.885513",
     "status": "completed"
    },
    "tags": []
   },
   "source": [
    "## Get the URL code from DB2\n"
   ]
  },
  {
   "cell_type": "code",
   "execution_count": 3,
   "metadata": {
    "execution": {
     "iopub.execute_input": "2021-01-21T08:30:03.917907Z",
     "iopub.status.busy": "2021-01-21T08:30:03.917336Z",
     "iopub.status.idle": "2021-01-21T08:30:05.980296Z",
     "shell.execute_reply": "2021-01-21T08:30:05.980726Z"
    },
    "papermill": {
     "duration": 2.07753,
     "end_time": "2021-01-21T08:30:05.980896",
     "exception": false,
     "start_time": "2021-01-21T08:30:03.903366",
     "status": "completed"
    },
    "tags": []
   },
   "outputs": [],
   "source": [
    "# connect with DB2\n",
    "import sqlalchemy as sql\n",
    "\n",
    "engine = sql.create_engine('mysql+pymysql://%s:%s@127.0.0.1/nanohub' \\\n",
    "                                               %(sql_login_params['username'], sql_login_params['password']))\n",
    "\n",
    "# page_id indicates the question\n",
    "url_code_df = pd.read_sql_query(\"select user_id, code from jos_reply_access_codes \\\n",
    "where page_id = 2 order by user_id desc limit 5000;\",engine)\n",
    "\n",
    "new_pref_code_df = pd.read_sql_query(\"select user_id, code from jos_reply_access_codes \\\n",
    "where page_id = 1 order by user_id desc limit 5000;\",engine)"
   ]
  },
  {
   "cell_type": "code",
   "execution_count": 4,
   "metadata": {
    "execution": {
     "iopub.execute_input": "2021-01-21T08:30:06.012334Z",
     "iopub.status.busy": "2021-01-21T08:30:06.009232Z",
     "iopub.status.idle": "2021-01-21T08:30:06.019412Z",
     "shell.execute_reply": "2021-01-21T08:30:06.018817Z"
    },
    "papermill": {
     "duration": 0.029093,
     "end_time": "2021-01-21T08:30:06.019554",
     "exception": false,
     "start_time": "2021-01-21T08:30:05.990461",
     "status": "completed"
    },
    "tags": []
   },
   "outputs": [
    {
     "data": {
      "text/html": [
       "<div>\n",
       "<style scoped>\n",
       "    .dataframe tbody tr th:only-of-type {\n",
       "        vertical-align: middle;\n",
       "    }\n",
       "\n",
       "    .dataframe tbody tr th {\n",
       "        vertical-align: top;\n",
       "    }\n",
       "\n",
       "    .dataframe thead th {\n",
       "        text-align: right;\n",
       "    }\n",
       "</style>\n",
       "<table border=\"1\" class=\"dataframe\">\n",
       "  <thead>\n",
       "    <tr style=\"text-align: right;\">\n",
       "      <th></th>\n",
       "      <th>user_id</th>\n",
       "      <th>code</th>\n",
       "    </tr>\n",
       "  </thead>\n",
       "  <tbody>\n",
       "    <tr>\n",
       "      <th>0</th>\n",
       "      <td>313413</td>\n",
       "      <td>800b2bbb2aed45a961a0104eedeae4151850601e88aeff...</td>\n",
       "    </tr>\n",
       "    <tr>\n",
       "      <th>1</th>\n",
       "      <td>313412</td>\n",
       "      <td>79b1d5f002e7f72688e67f847246ca43f6ab240b1e5f6e...</td>\n",
       "    </tr>\n",
       "  </tbody>\n",
       "</table>\n",
       "</div>"
      ],
      "text/plain": [
       "   user_id                                               code\n",
       "0   313413  800b2bbb2aed45a961a0104eedeae4151850601e88aeff...\n",
       "1   313412  79b1d5f002e7f72688e67f847246ca43f6ab240b1e5f6e..."
      ]
     },
     "metadata": {},
     "output_type": "display_data"
    }
   ],
   "source": [
    "display(url_code_df.head(2))"
   ]
  },
  {
   "cell_type": "code",
   "execution_count": 5,
   "metadata": {
    "execution": {
     "iopub.execute_input": "2021-01-21T08:30:06.046737Z",
     "iopub.status.busy": "2021-01-21T08:30:06.046148Z",
     "iopub.status.idle": "2021-01-21T08:30:06.049843Z",
     "shell.execute_reply": "2021-01-21T08:30:06.049119Z"
    },
    "papermill": {
     "duration": 0.020501,
     "end_time": "2021-01-21T08:30:06.049985",
     "exception": false,
     "start_time": "2021-01-21T08:30:06.029484",
     "status": "completed"
    },
    "tags": []
   },
   "outputs": [
    {
     "name": "stdout",
     "output_type": "stream",
     "text": [
      "https://nanohub.org/reply/pages/2?code=800b2bbb2aed45a961a0104eedeae4151850601e88aeff11ecf59d78feb7d7aa\n"
     ]
    }
   ],
   "source": [
    "## populating full url codes\n",
    "url_base = \"https://nanohub.org/reply/pages/2?code=\"\n",
    "\n",
    "from copy import deepcopy\n",
    "codes = deepcopy(url_code_df['code'])\n",
    "\n",
    "#import time\n",
    "#st = time.time()\n",
    "codes = codes.apply(lambda x: url_base+x)\n",
    "#tt = st-time.time()\n",
    "#print(tt)\n",
    "print(codes[0])\n"
   ]
  },
  {
   "cell_type": "code",
   "execution_count": 6,
   "metadata": {
    "execution": {
     "iopub.execute_input": "2021-01-21T08:30:06.075393Z",
     "iopub.status.busy": "2021-01-21T08:30:06.074634Z",
     "iopub.status.idle": "2021-01-21T08:30:06.084543Z",
     "shell.execute_reply": "2021-01-21T08:30:06.085267Z"
    },
    "papermill": {
     "duration": 0.025204,
     "end_time": "2021-01-21T08:30:06.085433",
     "exception": false,
     "start_time": "2021-01-21T08:30:06.060229",
     "status": "completed"
    },
    "tags": []
   },
   "outputs": [
    {
     "data": {
      "text/html": [
       "<div>\n",
       "<style scoped>\n",
       "    .dataframe tbody tr th:only-of-type {\n",
       "        vertical-align: middle;\n",
       "    }\n",
       "\n",
       "    .dataframe tbody tr th {\n",
       "        vertical-align: top;\n",
       "    }\n",
       "\n",
       "    .dataframe thead th {\n",
       "        text-align: right;\n",
       "    }\n",
       "</style>\n",
       "<table border=\"1\" class=\"dataframe\">\n",
       "  <thead>\n",
       "    <tr style=\"text-align: right;\">\n",
       "      <th></th>\n",
       "      <th>nanoHUB_user_ID__c</th>\n",
       "      <th>nh_use_survey_link__c</th>\n",
       "    </tr>\n",
       "  </thead>\n",
       "  <tbody>\n",
       "    <tr>\n",
       "      <th>0</th>\n",
       "      <td>313413</td>\n",
       "      <td>https://nanohub.org/reply/pages/2?code=800b2bb...</td>\n",
       "    </tr>\n",
       "    <tr>\n",
       "      <th>1</th>\n",
       "      <td>313412</td>\n",
       "      <td>https://nanohub.org/reply/pages/2?code=79b1d5f...</td>\n",
       "    </tr>\n",
       "  </tbody>\n",
       "</table>\n",
       "</div>"
      ],
      "text/plain": [
       "   nanoHUB_user_ID__c                              nh_use_survey_link__c\n",
       "0              313413  https://nanohub.org/reply/pages/2?code=800b2bb...\n",
       "1              313412  https://nanohub.org/reply/pages/2?code=79b1d5f..."
      ]
     },
     "metadata": {},
     "output_type": "display_data"
    }
   ],
   "source": [
    "## add the new code to the dataframe\n",
    "url_code_df['code'] = codes\n",
    "url_code_df = url_code_df.rename(columns={\"user_id\": \"nanoHUB_user_ID__c\", \"code\":\"nh_use_survey_link__c\"})\n",
    "display(url_code_df.head(2))"
   ]
  },
  {
   "cell_type": "code",
   "execution_count": 7,
   "metadata": {
    "execution": {
     "iopub.execute_input": "2021-01-21T08:30:06.111493Z",
     "iopub.status.busy": "2021-01-21T08:30:06.110916Z",
     "iopub.status.idle": "2021-01-21T08:30:06.115946Z",
     "shell.execute_reply": "2021-01-21T08:30:06.116477Z"
    },
    "papermill": {
     "duration": 0.019689,
     "end_time": "2021-01-21T08:30:06.116634",
     "exception": false,
     "start_time": "2021-01-21T08:30:06.096945",
     "status": "completed"
    },
    "tags": []
   },
   "outputs": [
    {
     "name": "stdout",
     "output_type": "stream",
     "text": [
      "https://nanohub.org/reply/email-subscriptions?code=d9b4c91d12f7a43a858f10f627dda4d65af0ebfc281aae0d3f19b9ff5cc94bf4\n"
     ]
    }
   ],
   "source": [
    "## determining the new url survey links\n",
    "url_base1 = 'https://nanohub.org/reply/email-subscriptions?code='\n",
    "\n",
    "codes = deepcopy(new_pref_code_df['code'])\n",
    "\n",
    "codes = codes.apply(lambda x: url_base1+x)\n",
    "\n",
    "#print(tt)\n",
    "print(codes[0])\n"
   ]
  },
  {
   "cell_type": "code",
   "execution_count": 8,
   "metadata": {
    "execution": {
     "iopub.execute_input": "2021-01-21T08:30:06.147108Z",
     "iopub.status.busy": "2021-01-21T08:30:06.146553Z",
     "iopub.status.idle": "2021-01-21T08:30:06.150731Z",
     "shell.execute_reply": "2021-01-21T08:30:06.151575Z"
    },
    "papermill": {
     "duration": 0.024643,
     "end_time": "2021-01-21T08:30:06.151735",
     "exception": false,
     "start_time": "2021-01-21T08:30:06.127092",
     "status": "completed"
    },
    "tags": []
   },
   "outputs": [
    {
     "data": {
      "text/html": [
       "<div>\n",
       "<style scoped>\n",
       "    .dataframe tbody tr th:only-of-type {\n",
       "        vertical-align: middle;\n",
       "    }\n",
       "\n",
       "    .dataframe tbody tr th {\n",
       "        vertical-align: top;\n",
       "    }\n",
       "\n",
       "    .dataframe thead th {\n",
       "        text-align: right;\n",
       "    }\n",
       "</style>\n",
       "<table border=\"1\" class=\"dataframe\">\n",
       "  <thead>\n",
       "    <tr style=\"text-align: right;\">\n",
       "      <th></th>\n",
       "      <th>nanoHUB_user_ID__c</th>\n",
       "      <th>nh_use_survey_link__c</th>\n",
       "      <th>new_preferences_survey_url__c</th>\n",
       "    </tr>\n",
       "  </thead>\n",
       "  <tbody>\n",
       "    <tr>\n",
       "      <th>0</th>\n",
       "      <td>313413</td>\n",
       "      <td>https://nanohub.org/reply/pages/2?code=800b2bb...</td>\n",
       "      <td>https://nanohub.org/reply/email-subscriptions?...</td>\n",
       "    </tr>\n",
       "    <tr>\n",
       "      <th>1</th>\n",
       "      <td>313412</td>\n",
       "      <td>https://nanohub.org/reply/pages/2?code=79b1d5f...</td>\n",
       "      <td>https://nanohub.org/reply/email-subscriptions?...</td>\n",
       "    </tr>\n",
       "  </tbody>\n",
       "</table>\n",
       "</div>"
      ],
      "text/plain": [
       "   nanoHUB_user_ID__c                              nh_use_survey_link__c  \\\n",
       "0              313413  https://nanohub.org/reply/pages/2?code=800b2bb...   \n",
       "1              313412  https://nanohub.org/reply/pages/2?code=79b1d5f...   \n",
       "\n",
       "                       new_preferences_survey_url__c  \n",
       "0  https://nanohub.org/reply/email-subscriptions?...  \n",
       "1  https://nanohub.org/reply/email-subscriptions?...  "
      ]
     },
     "metadata": {},
     "output_type": "display_data"
    }
   ],
   "source": [
    "## append the new survey urls to the base df\n",
    "url_code_df['new_preferences_survey_url__c'] = codes\n",
    "display(url_code_df.head(2))"
   ]
  },
  {
   "cell_type": "markdown",
   "metadata": {
    "papermill": {
     "duration": 0.010113,
     "end_time": "2021-01-21T08:30:06.172465",
     "exception": false,
     "start_time": "2021-01-21T08:30:06.162352",
     "status": "completed"
    },
    "tags": []
   },
   "source": [
    "## Send to SF"
   ]
  },
  {
   "cell_type": "code",
   "execution_count": 9,
   "metadata": {
    "execution": {
     "iopub.execute_input": "2021-01-21T08:30:06.197020Z",
     "iopub.status.busy": "2021-01-21T08:30:06.196492Z",
     "iopub.status.idle": "2021-01-21T08:30:06.566904Z",
     "shell.execute_reply": "2021-01-21T08:30:06.567578Z"
    },
    "papermill": {
     "duration": 0.385283,
     "end_time": "2021-01-21T08:30:06.567807",
     "exception": false,
     "start_time": "2021-01-21T08:30:06.182524",
     "status": "completed"
    },
    "tags": []
   },
   "outputs": [
    {
     "name": "stdout",
     "output_type": "stream",
     "text": [
      "Obtained Salesforce access token ...... True\n"
     ]
    }
   ],
   "source": [
    "from DB2SalesforceAPI import DB2SalesforceAPI\n",
    "\n",
    "# create DB2 to Salesforce API object\n",
    "db_s = DB2SalesforceAPI(sf_login_params)\n"
   ]
  },
  {
   "cell_type": "code",
   "execution_count": 10,
   "metadata": {
    "execution": {
     "iopub.execute_input": "2021-01-21T08:30:06.596004Z",
     "iopub.status.busy": "2021-01-21T08:30:06.595445Z",
     "iopub.status.idle": "2021-01-21T08:30:08.930262Z",
     "shell.execute_reply": "2021-01-21T08:30:08.929718Z"
    },
    "papermill": {
     "duration": 2.350932,
     "end_time": "2021-01-21T08:30:08.930389",
     "exception": false,
     "start_time": "2021-01-21T08:30:06.579457",
     "status": "completed"
    },
    "tags": []
   },
   "outputs": [
    {
     "name": "stdout",
     "output_type": "stream",
     "text": [
      "[Success] Bulk job creation successful. Job ID = 7505w00000TmKWiAAN\n",
      "hello\n"
     ]
    },
    {
     "name": "stdout",
     "output_type": "stream",
     "text": [
      "[Success] CSV upload successful. Job ID = 7505w00000TmKWiAAN\n"
     ]
    },
    {
     "name": "stdout",
     "output_type": "stream",
     "text": [
      "[Success] Closing job successful. Job ID = 7505w00000TmKWiAAN\n"
     ]
    }
   ],
   "source": [
    "db_s.object_id = object_id\n",
    "db_s.external_id = external_id\n",
    "\n",
    "# send data to Salesforce\n",
    "db_s.send_data(url_code_df)"
   ]
  },
  {
   "cell_type": "code",
   "execution_count": 11,
   "metadata": {
    "execution": {
     "iopub.execute_input": "2021-01-21T08:30:08.958605Z",
     "iopub.status.busy": "2021-01-21T08:30:08.958007Z",
     "iopub.status.idle": "2021-01-21T08:30:09.342362Z",
     "shell.execute_reply": "2021-01-21T08:30:09.341652Z"
    },
    "papermill": {
     "duration": 0.400081,
     "end_time": "2021-01-21T08:30:09.342531",
     "exception": false,
     "start_time": "2021-01-21T08:30:08.942450",
     "status": "completed"
    },
    "tags": []
   },
   "outputs": [
    {
     "data": {
      "text/plain": [
       "{'id': '7505w00000TmKWiAAN',\n",
       " 'operation': 'upsert',\n",
       " 'object': 'Contact',\n",
       " 'createdById': '0055w00000DM5bOAAT',\n",
       " 'createdDate': '2021-01-21T08:30:07.000+0000',\n",
       " 'systemModstamp': '2021-01-21T08:30:09.000+0000',\n",
       " 'state': 'InProgress',\n",
       " 'externalIdFieldName': 'nanoHUB_user_ID__c',\n",
       " 'concurrencyMode': 'Parallel',\n",
       " 'contentType': 'CSV',\n",
       " 'apiVersion': 47.0,\n",
       " 'jobType': 'V2Ingest',\n",
       " 'lineEnding': 'LF',\n",
       " 'columnDelimiter': 'COMMA',\n",
       " 'numberRecordsProcessed': 0,\n",
       " 'numberRecordsFailed': 0,\n",
       " 'retries': 0,\n",
       " 'totalProcessingTime': 0,\n",
       " 'apiActiveProcessingTime': 0,\n",
       " 'apexProcessingTime': 0}"
      ]
     },
     "execution_count": 11,
     "metadata": {},
     "output_type": "execute_result"
    }
   ],
   "source": [
    "# check status\n",
    "db_s.check_bulk_status()"
   ]
  },
  {
   "cell_type": "code",
   "execution_count": 12,
   "metadata": {
    "execution": {
     "iopub.execute_input": "2021-01-21T08:30:09.373673Z",
     "iopub.status.busy": "2021-01-21T08:30:09.373033Z",
     "iopub.status.idle": "2021-01-21T08:30:09.562775Z",
     "shell.execute_reply": "2021-01-21T08:30:09.563407Z"
    },
    "papermill": {
     "duration": 0.208133,
     "end_time": "2021-01-21T08:30:09.563575",
     "exception": false,
     "start_time": "2021-01-21T08:30:09.355442",
     "status": "completed"
    },
    "tags": []
   },
   "outputs": [
    {
     "name": "stdout",
     "output_type": "stream",
     "text": [
      "''\n"
     ]
    }
   ],
   "source": [
    "# check status\n",
    "from pprint import pprint\n",
    "\n",
    "pprint(db_s.check_bulk_failed_results())"
   ]
  },
  {
   "cell_type": "code",
   "execution_count": null,
   "metadata": {
    "papermill": {
     "duration": 0.011859,
     "end_time": "2021-01-21T08:30:09.587616",
     "exception": false,
     "start_time": "2021-01-21T08:30:09.575757",
     "status": "completed"
    },
    "tags": []
   },
   "outputs": [],
   "source": []
  }
 ],
 "metadata": {
  "kernelspec": {
   "display_name": "Python 3",
   "language": "python",
   "name": "python3"
  },
  "language_info": {
   "codemirror_mode": {
    "name": "ipython",
    "version": 3
   },
   "file_extension": ".py",
   "mimetype": "text/x-python",
   "name": "python",
   "nbconvert_exporter": "python",
   "pygments_lexer": "ipython3",
   "version": "3.7.6"
  },
  "papermill": {
   "duration": 8.097029,
   "end_time": "2021-01-21T08:30:10.887628",
   "environment_variables": {},
   "exception": null,
   "input_path": "/home/users/wang2506/nanohub_salesforce_integ/salesforce/task_nh_survey_urls.ipynb",
   "output_path": "/home/users/wang2506/nanohub_salesforce_integ/salesforce/task_nh_survey_urls.ipynb",
   "parameters": {},
   "start_time": "2021-01-21T08:30:02.790599",
   "version": "2.1.1"
  }
 },
 "nbformat": 4,
 "nbformat_minor": 4
}