{
 "cells": [
  {
   "cell_type": "markdown",
   "metadata": {},
   "source": [
    "# DB2-Salesforce populate survey URLs obtain from DB2"
   ]
  },
  {
   "cell_type": "code",
   "execution_count": 1,
   "metadata": {},
   "outputs": [],
   "source": [
    "# Parameters\n",
    "# API settings\n",
    "api_url = '/services/data/v43.0/sobjects'\n",
    "external_id = 'nanoHUB_user_ID__c'\n",
    "object_id = 'Contact'\n",
    "\n",
    "# login parameters to be handled by Papermill\n",
    "sql_login_params = {\"username\": \"wang2506_ro\", \"password\": \"fnVnwcCS7iT45EsA\"}\n",
    "sf_login_params = {\n",
    "    \"grant_type\": \"password\",\n",
    "    \"client_id\": \"3MVG95jctIhbyCppj0SNJ75IsZ1y8UPGZtSNF4j8FNVXz.De8Lu4jHm3rjRosAtsHy6qjHx3i4S_QbQzvBePG\",\n",
    "    \"client_secret\": \"D1623C6D3607D4FC8004B92C761DFB6C1F70CCD129C5501E357028DFA00F5764\",\n",
    "    \"username\":\"wang2506@purdue.edu\",\n",
    "    \"password\":\"shit9927289sSYTkLiGvyK2UrazHFmjFUGU\",\n",
    "} "
   ]
  },
  {
   "cell_type": "code",
   "execution_count": 2,
   "metadata": {},
   "outputs": [],
   "source": [
    "import sys\n",
    "sys.path.append('/home/users/wang2506/nanohub_salesforce_integ/salesforce')\n",
    "\n",
    "import pandas as pd\n",
    "import datetime"
   ]
  },
  {
   "cell_type": "markdown",
   "metadata": {},
   "source": [
    "## Get the URL code from DB2\n"
   ]
  },
  {
   "cell_type": "code",
   "execution_count": 3,
   "metadata": {},
   "outputs": [],
   "source": [
    "# connect with DB2\n",
    "import sqlalchemy as sql\n",
    "\n",
    "engine = sql.create_engine('mysql+pymysql://%s:%s@127.0.0.1/nanohub' \\\n",
    "                                               %(sql_login_params['username'], sql_login_params['password']))\n",
    "\n",
    "# page_id indicates the question\n",
    "url_code_df = pd.read_sql_query(\"select user_id, code from jos_reply_access_codes \\\n",
    "where page_id = 2 order by user_id desc limit 5000;\",engine)\n"
   ]
  },
  {
   "cell_type": "code",
   "execution_count": 4,
   "metadata": {},
   "outputs": [
    {
     "data": {
      "text/html": [
       "<div>\n",
       "<style scoped>\n",
       "    .dataframe tbody tr th:only-of-type {\n",
       "        vertical-align: middle;\n",
       "    }\n",
       "\n",
       "    .dataframe tbody tr th {\n",
       "        vertical-align: top;\n",
       "    }\n",
       "\n",
       "    .dataframe thead th {\n",
       "        text-align: right;\n",
       "    }\n",
       "</style>\n",
       "<table border=\"1\" class=\"dataframe\">\n",
       "  <thead>\n",
       "    <tr style=\"text-align: right;\">\n",
       "      <th></th>\n",
       "      <th>user_id</th>\n",
       "      <th>code</th>\n",
       "    </tr>\n",
       "  </thead>\n",
       "  <tbody>\n",
       "    <tr>\n",
       "      <th>0</th>\n",
       "      <td>998</td>\n",
       "      <td>rWB03lnQxP7z2r1pE0LBIIC9QwgNDGkFMSH3gSTpnMtgoO...</td>\n",
       "    </tr>\n",
       "    <tr>\n",
       "      <th>1</th>\n",
       "      <td>1000</td>\n",
       "      <td>ejjJycB4jtnhde8xQDO0t1zXFtvpzsQxSG9Sprku66EjYv...</td>\n",
       "    </tr>\n",
       "  </tbody>\n",
       "</table>\n",
       "</div>"
      ],
      "text/plain": [
       "   user_id                                               code\n",
       "0      998  rWB03lnQxP7z2r1pE0LBIIC9QwgNDGkFMSH3gSTpnMtgoO...\n",
       "1     1000  ejjJycB4jtnhde8xQDO0t1zXFtvpzsQxSG9Sprku66EjYv..."
      ]
     },
     "metadata": {},
     "output_type": "display_data"
    }
   ],
   "source": [
    "display(url_code_df.head(2))"
   ]
  },
  {
   "cell_type": "code",
   "execution_count": 5,
   "metadata": {},
   "outputs": [
    {
     "name": "stdout",
     "output_type": "stream",
     "text": [
      "https://nanohub.org/reply/pages/2?code=rWB03lnQxP7z2r1pE0LBIIC9QwgNDGkFMSH3gSTpnMtgoO8t8EBf8dLN9pFKjXj7\n"
     ]
    }
   ],
   "source": [
    "## populating full url codes\n",
    "url_base = \"https://nanohub.org/reply/pages/2?code=\"\n",
    "\n",
    "from copy import deepcopy\n",
    "codes = deepcopy(url_code_df['code'])\n",
    "\n",
    "#import time\n",
    "#st = time.time()\n",
    "codes = codes.apply(lambda x: url_base+x)\n",
    "#tt = st-time.time()\n",
    "#print(tt)\n",
    "print(codes[0])\n"
   ]
  },
  {
   "cell_type": "code",
   "execution_count": 6,
   "metadata": {},
   "outputs": [
    {
     "data": {
      "text/html": [
       "<div>\n",
       "<style scoped>\n",
       "    .dataframe tbody tr th:only-of-type {\n",
       "        vertical-align: middle;\n",
       "    }\n",
       "\n",
       "    .dataframe tbody tr th {\n",
       "        vertical-align: top;\n",
       "    }\n",
       "\n",
       "    .dataframe thead th {\n",
       "        text-align: right;\n",
       "    }\n",
       "</style>\n",
       "<table border=\"1\" class=\"dataframe\">\n",
       "  <thead>\n",
       "    <tr style=\"text-align: right;\">\n",
       "      <th></th>\n",
       "      <th>nanoHUB_user_ID__c</th>\n",
       "      <th>nh_use_survey_link__c</th>\n",
       "    </tr>\n",
       "  </thead>\n",
       "  <tbody>\n",
       "    <tr>\n",
       "      <th>0</th>\n",
       "      <td>998</td>\n",
       "      <td>https://nanohub.org/reply/pages/2?code=rWB03ln...</td>\n",
       "    </tr>\n",
       "    <tr>\n",
       "      <th>1</th>\n",
       "      <td>1000</td>\n",
       "      <td>https://nanohub.org/reply/pages/2?code=ejjJycB...</td>\n",
       "    </tr>\n",
       "  </tbody>\n",
       "</table>\n",
       "</div>"
      ],
      "text/plain": [
       "   nanoHUB_user_ID__c                              nh_use_survey_link__c\n",
       "0                 998  https://nanohub.org/reply/pages/2?code=rWB03ln...\n",
       "1                1000  https://nanohub.org/reply/pages/2?code=ejjJycB..."
      ]
     },
     "metadata": {},
     "output_type": "display_data"
    }
   ],
   "source": [
    "## add the new code to the dataframe\n",
    "url_code_df['code'] = codes\n",
    "url_code_df = url_code_df.rename(columns={\"user_id\": \"nanoHUB_user_ID__c\", \"code\":\"nh_use_survey_link__c\"})\n",
    "display(url_code_df.head(2))"
   ]
  },
  {
   "cell_type": "markdown",
   "metadata": {},
   "source": [
    "## Send to SF"
   ]
  },
  {
   "cell_type": "code",
   "execution_count": 9,
   "metadata": {},
   "outputs": [
    {
     "name": "stdout",
     "output_type": "stream",
     "text": [
      "Obtained Salesforce access token ...... True\n"
     ]
    }
   ],
   "source": [
    "from DB2SalesforceAPI import DB2SalesforceAPI\n",
    "\n",
    "# create DB2 to Salesforce API object\n",
    "db_s = DB2SalesforceAPI(sf_login_params)\n"
   ]
  },
  {
   "cell_type": "code",
   "execution_count": 10,
   "metadata": {},
   "outputs": [
    {
     "name": "stdout",
     "output_type": "stream",
     "text": [
      "[Success] Bulk job creation successful. Job ID = 7505w00000PTdsFAAT\n",
      "hello\n",
      "[Success] CSV upload successful. Job ID = 7505w00000PTdsFAAT\n",
      "[Success] Closing job successful. Job ID = 7505w00000PTdsFAAT\n"
     ]
    }
   ],
   "source": [
    "db_s.object_id = object_id\n",
    "db_s.external_id = external_id\n",
    "\n",
    "# send data to Salesforce\n",
    "db_s.send_data(url_code_df)"
   ]
  },
  {
   "cell_type": "code",
   "execution_count": 23,
   "metadata": {},
   "outputs": [
    {
     "data": {
      "text/plain": [
       "{'id': '7505w00000PTdsFAAT',\n",
       " 'operation': 'upsert',\n",
       " 'object': 'Contact',\n",
       " 'createdById': '0055w00000DM5bOAAT',\n",
       " 'createdDate': '2020-08-26T19:32:07.000+0000',\n",
       " 'systemModstamp': '2020-08-26T19:41:29.000+0000',\n",
       " 'state': 'JobComplete',\n",
       " 'externalIdFieldName': 'nanoHUB_user_ID__c',\n",
       " 'concurrencyMode': 'Parallel',\n",
       " 'contentType': 'CSV',\n",
       " 'apiVersion': 47.0,\n",
       " 'jobType': 'V2Ingest',\n",
       " 'lineEnding': 'LF',\n",
       " 'columnDelimiter': 'COMMA',\n",
       " 'numberRecordsProcessed': 216919,\n",
       " 'numberRecordsFailed': 18,\n",
       " 'retries': 0,\n",
       " 'totalProcessingTime': 2244470,\n",
       " 'apiActiveProcessingTime': 2049434,\n",
       " 'apexProcessingTime': 21749601}"
      ]
     },
     "execution_count": 23,
     "metadata": {},
     "output_type": "execute_result"
    }
   ],
   "source": [
    "# check status\n",
    "db_s.check_bulk_status()"
   ]
  },
  {
   "cell_type": "code",
   "execution_count": 24,
   "metadata": {},
   "outputs": [
    {
     "name": "stdout",
     "output_type": "stream",
     "text": [
      "('\"sf__Id\",\"sf__Error\",nanoHUB_user_ID__c,nh_use_survey_link__c\\n'\n",
      " '\"\",\"REQUIRED_FIELD_MISSING:Required fields are missing: [LastName]:LastName '\n",
      " '--\",\"62873.0\",\"https://nanohub.org/reply/pages/2?code=uw6ThU98ORPE1ZwqgtQQafU2ZCpifupapFYwobnNDFsdO4wlLDM7NJYft7OxdRWt\"\\n'\n",
      " '\"\",\"REQUIRED_FIELD_MISSING:Required fields are missing: [LastName]:LastName '\n",
      " '--\",\"185228.0\",\"https://nanohub.org/reply/pages/2?code=9aY0c9CvjqYB4S8c82gNXs2EQJl9RllFwCeskuTHytejoV0fe8DTCxEUdNxL2hLC\"\\n'\n",
      " '\"\",\"REQUIRED_FIELD_MISSING:Required fields are missing: [LastName]:LastName '\n",
      " '--\",\"1000.0\",\"https://nanohub.org/reply/pages/2?code=ejjJycB4jtnhde8xQDO0t1zXFtvpzsQxSG9Sprku66EjYvMVpwaXy3udNb2eEw6C\"\\n'\n",
      " '\"\",\"REQUIRED_FIELD_MISSING:Required fields are missing: [LastName]:LastName '\n",
      " '--\",\"1819.0\",\"https://nanohub.org/reply/pages/2?code=gadZ6YRCzsTnrBxChNlIn2taLjL5l2RbHl2Vtn6MJXL3r3V6WZbniuVjI5SPCKOM\"\\n'\n",
      " '\"\",\"REQUIRED_FIELD_MISSING:Required fields are missing: [LastName]:LastName '\n",
      " '--\",\"4311.0\",\"https://nanohub.org/reply/pages/2?code=4Ve1jgDuzFbuPdTNEKfqBniKxJ5MjhFwFack4v17t9U3jz5Z39008ZVZchcByMtU\"\\n'\n",
      " '\"\",\"REQUIRED_FIELD_MISSING:Required fields are missing: [LastName]:LastName '\n",
      " '--\",\"4343.0\",\"https://nanohub.org/reply/pages/2?code=t818ozMfcpqSnIpTNVEW2GlC7KQIKY8fzztCaGL3oXcdtlTYQWlGRqfRe3nXTTj0\"\\n'\n",
      " '\"\",\"REQUIRED_FIELD_MISSING:Required fields are missing: [LastName]:LastName '\n",
      " '--\",\"4749.0\",\"https://nanohub.org/reply/pages/2?code=qmWuTZTMurV53kkhVBEITTfb4ZHbyeJiaS9M6epFdymsKVHrdpaS8iMr2zRoJ40p\"\\n'\n",
      " '\"\",\"REQUIRED_FIELD_MISSING:Required fields are missing: [LastName]:LastName '\n",
      " '--\",\"4857.0\",\"https://nanohub.org/reply/pages/2?code=5aKSebSl0T8k8s7mK21iNqzQsOx4V5QGevPfPxKeX4F8XeOM94K4w4BPRCh5UP0J\"\\n'\n",
      " '\"\",\"REQUIRED_FIELD_MISSING:Required fields are missing: [LastName]:LastName '\n",
      " '--\",\"5094.0\",\"https://nanohub.org/reply/pages/2?code=pOJDLBfpNurw0LTDGIW93BJK7rf5QWKkEx8hgW0UxttKmitnrNp0ltg71Browoqf\"\\n'\n",
      " '\"\",\"REQUIRED_FIELD_MISSING:Required fields are missing: [LastName]:LastName '\n",
      " '--\",\"6027.0\",\"https://nanohub.org/reply/pages/2?code=tMTt7Ndi1hlXncuysXj0QgNPQQSIb1OHSkCInpyjtQcxf6Niiadk4PB2cKWkIa2X\"\\n'\n",
      " '\"\",\"REQUIRED_FIELD_MISSING:Required fields are missing: [LastName]:LastName '\n",
      " '--\",\"8106.0\",\"https://nanohub.org/reply/pages/2?code=q4zDQqNLJLVpkUhBKm1v64LJknBJ12Qu5sjYKZpub0C0K12TJXyTKVyr7NLoHkft\"\\n'\n",
      " '\"\",\"REQUIRED_FIELD_MISSING:Required fields are missing: [LastName]:LastName '\n",
      " '--\",\"20159.0\",\"https://nanohub.org/reply/pages/2?code=QeGsfVoYas7294zPR2jMjkWygciINNewMmXT8XmoEEISd8zUBpFkcRljNBCIt3QV\"\\n'\n",
      " '\"\",\"REQUIRED_FIELD_MISSING:Required fields are missing: [LastName]:LastName '\n",
      " '--\",\"40187.0\",\"https://nanohub.org/reply/pages/2?code=vh4MVXwvWaIfG0uW8xZOKwWpnfOnvqGiQ5tnqxbeVvkWwxPPNCDhgj4B1ok4HpyD\"\\n'\n",
      " '\"\",\"REQUIRED_FIELD_MISSING:Required fields are missing: [LastName]:LastName '\n",
      " '--\",\"273803.0\",\"https://nanohub.org/reply/pages/2?code=2ZQdlEKLqJj8pUVQNlEr4bvCnZt4d6e0F0DP1H95BuUNZGDb8EDsiK0YfHTwg8MN\"\\n'\n",
      " '\"\",\"REQUIRED_FIELD_MISSING:Required fields are missing: [LastName]:LastName '\n",
      " '--\",\"81398.0\",\"https://nanohub.org/reply/pages/2?code=sbiSnv5GENaVvdKsBxgSE1GwNwKDRRUPOLqjUcTSLMlwNTgOjWzGbkKtz6T7YMEk\"\\n'\n",
      " '\"\",\"REQUIRED_FIELD_MISSING:Required fields are missing: [LastName]:LastName '\n",
      " '--\",\"105411.0\",\"https://nanohub.org/reply/pages/2?code=wv6fbZkbmoCuUcyyStGLLJauzFuTiaEDglegjrsYfatsJTulo1D6GUa16QUnoefu\"\\n'\n",
      " '\"\",\"REQUIRED_FIELD_MISSING:Required fields are missing: [LastName]:LastName '\n",
      " '--\",\"276144.0\",\"https://nanohub.org/reply/pages/2?code=0fahFlllR6m8kmuPcjOUgg7NdPyMZSCmHDcQSRcrvkJe0XTmgpDSBnSKqx1GIo84\"\\n'\n",
      " '\"\",\"REQUIRED_FIELD_MISSING:Required fields are missing: [LastName]:LastName '\n",
      " '--\",\"284031.0\",\"https://nanohub.org/reply/pages/2?code=8Pcu6WJcMdropzp4DDergoSjEFwTe8dd7tFyVOsmFVx3EfZlnypFqV0tWozDfEM2\"\\n')\n"
     ]
    }
   ],
   "source": [
    "# check status\n",
    "from pprint import pprint\n",
    "\n",
    "pprint(db_s.check_bulk_failed_results())"
   ]
  },
  {
   "cell_type": "code",
   "execution_count": null,
   "metadata": {},
   "outputs": [],
   "source": []
  }
 ],
 "metadata": {
  "kernelspec": {
   "display_name": "Python 3",
   "language": "python",
   "name": "python3"
  },
  "language_info": {
   "codemirror_mode": {
    "name": "ipython",
    "version": 3
   },
   "file_extension": ".py",
   "mimetype": "text/x-python",
   "name": "python",
   "nbconvert_exporter": "python",
   "pygments_lexer": "ipython3",
   "version": "3.7.7"
  }
 },
 "nbformat": 4,
 "nbformat_minor": 4
}
