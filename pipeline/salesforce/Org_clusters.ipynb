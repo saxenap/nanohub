{
 "cells": [
  {
   "cell_type": "code",
   "execution_count": 1,
   "metadata": {},
   "outputs": [],
   "source": [
    "## temp file for GH's presentations\n"
   ]
  },
  {
   "cell_type": "code",
   "execution_count": 2,
   "metadata": {},
   "outputs": [],
   "source": [
    "# API settings\n",
    "api_url = '/services/data/v43.0/sobjects'\n",
    "external_id = 'Name'\n",
    "object_id = 'ContactToolAssociation__c'\n",
    "\n",
    "# login parameters to be handled by Papermill\n",
    "sql_login_params = {\"username\": \"wang2506_ro\", \"password\": \"fnVnwcCS7iT45EsA\"}\n",
    "sf_login_params = {\n",
    "    \"grant_type\": \"password\",\n",
    "    \"client_id\": \"3MVG95jctIhbyCppj0SNJ75IsZ1y8UPGZtSNF4j8FNVXz.De8Lu4jHm3rjRosAtsHy6qjHx3i4S_QbQzvBePG\",\n",
    "    \"client_secret\": \"D1623C6D3607D4FC8004B92C761DFB6C1F70CCD129C5501E357028DFA00F5764\",\n",
    "    \"username\":\"wang2506@purdue.edu\",\n",
    "    \"password\":\"sf2021shitOPmlIiFMLnrudgC6oSX0WV1T\",   \n",
    "} \n",
    "    #\"username\": \"wang159-4j1v@force.com\",\n",
    "    #\"password\": \"napoleon0eZ3PQpQqE3C3z4wWqEqKGhQ8\","
   ]
  },
  {
   "cell_type": "code",
   "execution_count": 3,
   "metadata": {},
   "outputs": [],
   "source": [
    "import sys\n",
    "sys.path.append('/home/users/wang2506/nanohub_salesforce_integ/salesforce')\n",
    "    \n",
    "import pandas as pd\n",
    "import time\n",
    "import datetime\n",
    "\n",
    "from DB2SalesforceAPI import DB2SalesforceAPI"
   ]
  },
  {
   "cell_type": "code",
   "execution_count": 4,
   "metadata": {},
   "outputs": [
    {
     "name": "stdout",
     "output_type": "stream",
     "text": [
      "Obtained Salesforce access token ...... True\n",
      "Obtained Salesforce access token ...... True\n"
     ]
    }
   ],
   "source": [
    "db_1 = DB2SalesforceAPI(sf_login_params)\n",
    "db_2 = DB2SalesforceAPI(sf_login_params)"
   ]
  },
  {
   "cell_type": "code",
   "execution_count": 5,
   "metadata": {},
   "outputs": [
    {
     "name": "stdout",
     "output_type": "stream",
     "text": [
      "[Success] Bulk job creation successful. Job ID = 7505w00000TpyJcAAJ\n",
      "{\"id\":\"7505w00000TpyJcAAJ\",\"operation\":\"query\",\"object\":\"tool_usage_cluster__c\",\"createdById\":\"0055w00000DM5bOAAT\",\"createdDate\":\"2021-02-09T17:04:09.000+0000\",\"systemModstamp\":\"2021-02-09T17:04:09.000+0000\",\"state\":\"UploadComplete\",\"concurrencyMode\":\"Parallel\",\"contentType\":\"CSV\",\"apiVersion\":47.0,\"jobType\":\"V2Query\",\"lineEnding\":\"LF\",\"columnDelimiter\":\"COMMA\",\"retries\":0,\"totalProcessingTime\":0}\n",
      "{\"id\":\"7505w00000TpyJcAAJ\",\"operation\":\"query\",\"object\":\"tool_usage_cluster__c\",\"createdById\":\"0055w00000DM5bOAAT\",\"createdDate\":\"2021-02-09T17:04:09.000+0000\",\"systemModstamp\":\"2021-02-09T17:04:17.000+0000\",\"state\":\"JobComplete\",\"concurrencyMode\":\"Parallel\",\"contentType\":\"CSV\",\"apiVersion\":47.0,\"jobType\":\"V2Query\",\"lineEnding\":\"LF\",\"columnDelimiter\":\"COMMA\",\"numberRecordsProcessed\":3841,\"retries\":0,\"totalProcessingTime\":903}\n",
      "[Success] Bulk job completed successfully.\n"
     ]
    }
   ],
   "source": [
    "tool_cluster_df = db_1.query_data('Select ID, Ending_Date__c, Starting_Date__c, Organization__c,Estimated_cluster_size__c, \\\n",
    "                        Estimated_number_of_tools__c from tool_usage_cluster__c')"
   ]
  },
  {
   "cell_type": "code",
   "execution_count": 6,
   "metadata": {},
   "outputs": [
    {
     "data": {
      "text/html": [
       "<div>\n",
       "<style scoped>\n",
       "    .dataframe tbody tr th:only-of-type {\n",
       "        vertical-align: middle;\n",
       "    }\n",
       "\n",
       "    .dataframe tbody tr th {\n",
       "        vertical-align: top;\n",
       "    }\n",
       "\n",
       "    .dataframe thead th {\n",
       "        text-align: right;\n",
       "    }\n",
       "</style>\n",
       "<table border=\"1\" class=\"dataframe\">\n",
       "  <thead>\n",
       "    <tr style=\"text-align: right;\">\n",
       "      <th></th>\n",
       "      <th>Ending_Date__c</th>\n",
       "      <th>Estimated_cluster_size__c</th>\n",
       "      <th>Estimated_number_of_tools__c</th>\n",
       "      <th>Id</th>\n",
       "      <th>Organization__c</th>\n",
       "      <th>Starting_Date__c</th>\n",
       "    </tr>\n",
       "  </thead>\n",
       "  <tbody>\n",
       "    <tr>\n",
       "      <th>0</th>\n",
       "      <td>2011-01-30</td>\n",
       "      <td>0.0</td>\n",
       "      <td>0.0</td>\n",
       "      <td>a0w5w000009Q7CuAAK</td>\n",
       "      <td>NaN</td>\n",
       "      <td>2010-09-05</td>\n",
       "    </tr>\n",
       "    <tr>\n",
       "      <th>1</th>\n",
       "      <td>2018-11-30</td>\n",
       "      <td>0.0</td>\n",
       "      <td>0.0</td>\n",
       "      <td>a0w5w000009Q7CvAAK</td>\n",
       "      <td>a0r5w00000V42iyAAB</td>\n",
       "      <td>2018-11-29</td>\n",
       "    </tr>\n",
       "    <tr>\n",
       "      <th>2</th>\n",
       "      <td>2019-11-28</td>\n",
       "      <td>0.0</td>\n",
       "      <td>0.0</td>\n",
       "      <td>a0w5w000009Q7CwAAK</td>\n",
       "      <td>a0r5w00000V42iyAAB</td>\n",
       "      <td>2019-11-04</td>\n",
       "    </tr>\n",
       "    <tr>\n",
       "      <th>3</th>\n",
       "      <td>2017-12-16</td>\n",
       "      <td>0.0</td>\n",
       "      <td>0.0</td>\n",
       "      <td>a0w5w000009Q7CxAAK</td>\n",
       "      <td>a0r5w00000V42cCAAR</td>\n",
       "      <td>2017-10-03</td>\n",
       "    </tr>\n",
       "    <tr>\n",
       "      <th>4</th>\n",
       "      <td>2018-01-21</td>\n",
       "      <td>0.0</td>\n",
       "      <td>0.0</td>\n",
       "      <td>a0w5w000009Q7CyAAK</td>\n",
       "      <td>a0r5w00000V42cCAAR</td>\n",
       "      <td>2018-01-15</td>\n",
       "    </tr>\n",
       "  </tbody>\n",
       "</table>\n",
       "</div>"
      ],
      "text/plain": [
       "  Ending_Date__c  Estimated_cluster_size__c  Estimated_number_of_tools__c  \\\n",
       "0     2011-01-30                        0.0                           0.0   \n",
       "1     2018-11-30                        0.0                           0.0   \n",
       "2     2019-11-28                        0.0                           0.0   \n",
       "3     2017-12-16                        0.0                           0.0   \n",
       "4     2018-01-21                        0.0                           0.0   \n",
       "\n",
       "                   Id     Organization__c Starting_Date__c  \n",
       "0  a0w5w000009Q7CuAAK                 NaN       2010-09-05  \n",
       "1  a0w5w000009Q7CvAAK  a0r5w00000V42iyAAB       2018-11-29  \n",
       "2  a0w5w000009Q7CwAAK  a0r5w00000V42iyAAB       2019-11-04  \n",
       "3  a0w5w000009Q7CxAAK  a0r5w00000V42cCAAR       2017-10-03  \n",
       "4  a0w5w000009Q7CyAAK  a0r5w00000V42cCAAR       2018-01-15  "
      ]
     },
     "metadata": {},
     "output_type": "display_data"
    },
    {
     "name": "stdout",
     "output_type": "stream",
     "text": [
      "(3841, 6)\n"
     ]
    }
   ],
   "source": [
    "display(tool_cluster_df.head(5))\n",
    "print(tool_cluster_df.shape)"
   ]
  },
  {
   "cell_type": "code",
   "execution_count": 7,
   "metadata": {},
   "outputs": [
    {
     "name": "stdout",
     "output_type": "stream",
     "text": [
      "[Success] Bulk job creation successful. Job ID = 7505w00000TpyJhAAJ\n",
      "{\"id\":\"7505w00000TpyJhAAJ\",\"operation\":\"query\",\"object\":\"ContactToolClusterAssociation__c\",\"createdById\":\"0055w00000DM5bOAAT\",\"createdDate\":\"2021-02-09T17:04:21.000+0000\",\"systemModstamp\":\"2021-02-09T17:04:21.000+0000\",\"state\":\"UploadComplete\",\"concurrencyMode\":\"Parallel\",\"contentType\":\"CSV\",\"apiVersion\":47.0,\"jobType\":\"V2Query\",\"lineEnding\":\"LF\",\"columnDelimiter\":\"COMMA\",\"retries\":0,\"totalProcessingTime\":0}\n",
      "{\"id\":\"7505w00000TpyJhAAJ\",\"operation\":\"query\",\"object\":\"ContactToolClusterAssociation__c\",\"createdById\":\"0055w00000DM5bOAAT\",\"createdDate\":\"2021-02-09T17:04:21.000+0000\",\"systemModstamp\":\"2021-02-09T17:04:22.000+0000\",\"state\":\"InProgress\",\"concurrencyMode\":\"Parallel\",\"contentType\":\"CSV\",\"apiVersion\":47.0,\"jobType\":\"V2Query\",\"lineEnding\":\"LF\",\"columnDelimiter\":\"COMMA\",\"numberRecordsProcessed\":1200,\"retries\":0,\"totalProcessingTime\":6343}\n",
      "{\"id\":\"7505w00000TpyJhAAJ\",\"operation\":\"query\",\"object\":\"ContactToolClusterAssociation__c\",\"createdById\":\"0055w00000DM5bOAAT\",\"createdDate\":\"2021-02-09T17:04:21.000+0000\",\"systemModstamp\":\"2021-02-09T17:04:37.000+0000\",\"state\":\"JobComplete\",\"concurrencyMode\":\"Parallel\",\"contentType\":\"CSV\",\"apiVersion\":47.0,\"jobType\":\"V2Query\",\"lineEnding\":\"LF\",\"columnDelimiter\":\"COMMA\",\"numberRecordsProcessed\":1262,\"retries\":0,\"totalProcessingTime\":12757}\n",
      "[Success] Bulk job completed successfully.\n"
     ]
    }
   ],
   "source": [
    "## pull the list of contacts within each cluster   \n",
    "contacts_in_cluster_df = db_2.query_data('Select Contact__c, Tool_Usage_Cluster__c from ContactToolClusterAssociation__c')"
   ]
  },
  {
   "cell_type": "code",
   "execution_count": 10,
   "metadata": {},
   "outputs": [
    {
     "data": {
      "text/html": [
       "<div>\n",
       "<style scoped>\n",
       "    .dataframe tbody tr th:only-of-type {\n",
       "        vertical-align: middle;\n",
       "    }\n",
       "\n",
       "    .dataframe tbody tr th {\n",
       "        vertical-align: top;\n",
       "    }\n",
       "\n",
       "    .dataframe thead th {\n",
       "        text-align: right;\n",
       "    }\n",
       "</style>\n",
       "<table border=\"1\" class=\"dataframe\">\n",
       "  <thead>\n",
       "    <tr style=\"text-align: right;\">\n",
       "      <th></th>\n",
       "      <th>Contact__c</th>\n",
       "      <th>Tool_Usage_Cluster__c</th>\n",
       "    </tr>\n",
       "  </thead>\n",
       "  <tbody>\n",
       "    <tr>\n",
       "      <th>0</th>\n",
       "      <td>0035w000034JlPmAAK</td>\n",
       "      <td>a0w5w00000A8UGwAAN</td>\n",
       "    </tr>\n",
       "    <tr>\n",
       "      <th>1</th>\n",
       "      <td>0035w000034JOZ4AAO</td>\n",
       "      <td>a0w5w000009Q8AEAA0</td>\n",
       "    </tr>\n",
       "    <tr>\n",
       "      <th>2</th>\n",
       "      <td>0035w000034JOZ4AAO</td>\n",
       "      <td>a0w5w00000A4L1HAAV</td>\n",
       "    </tr>\n",
       "    <tr>\n",
       "      <th>3</th>\n",
       "      <td>0035w000034K3MaAAK</td>\n",
       "      <td>a0w5w000009Q8SLAA0</td>\n",
       "    </tr>\n",
       "    <tr>\n",
       "      <th>4</th>\n",
       "      <td>0035w000034JJ7LAAW</td>\n",
       "      <td>a0w5w000009Q7tWAAS</td>\n",
       "    </tr>\n",
       "  </tbody>\n",
       "</table>\n",
       "</div>"
      ],
      "text/plain": [
       "           Contact__c Tool_Usage_Cluster__c\n",
       "0  0035w000034JlPmAAK    a0w5w00000A8UGwAAN\n",
       "1  0035w000034JOZ4AAO    a0w5w000009Q8AEAA0\n",
       "2  0035w000034JOZ4AAO    a0w5w00000A4L1HAAV\n",
       "3  0035w000034K3MaAAK    a0w5w000009Q8SLAA0\n",
       "4  0035w000034JJ7LAAW    a0w5w000009Q7tWAAS"
      ]
     },
     "metadata": {},
     "output_type": "display_data"
    }
   ],
   "source": [
    "display(contacts_in_cluster_df.head(5))\n",
    "# contacts_in_cluster_df.to_csv('backup_contacts_in_clusters.csv')"
   ]
  },
  {
   "cell_type": "code",
   "execution_count": 11,
   "metadata": {},
   "outputs": [
    {
     "data": {
      "text/plain": [
       "(62, 2)"
      ]
     },
     "execution_count": 11,
     "metadata": {},
     "output_type": "execute_result"
    }
   ],
   "source": [
    "contacts_in_cluster_df.shape"
   ]
  },
  {
   "cell_type": "code",
   "execution_count": 13,
   "metadata": {},
   "outputs": [],
   "source": [
    "if contacts_in_cluster_df.shape[0] < 100: #SF bugged once again\n",
    "    contacts_in_cluster_df = pd.read_csv('backup_contacts_in_clusters.csv')\n",
    "    print(contacts_in_cluster_df.shape)\n",
    "    "
   ]
  },
  {
   "cell_type": "code",
   "execution_count": 14,
   "metadata": {},
   "outputs": [
    {
     "data": {
      "text/plain": [
       "(92586, 3)"
      ]
     },
     "execution_count": 14,
     "metadata": {},
     "output_type": "execute_result"
    }
   ],
   "source": [
    "contacts_in_cluster_df.shape"
   ]
  },
  {
   "cell_type": "markdown",
   "metadata": {},
   "source": [
    "## determine the earliest cluster for an organization"
   ]
  },
  {
   "cell_type": "code",
   "execution_count": 16,
   "metadata": {},
   "outputs": [
    {
     "name": "stdout",
     "output_type": "stream",
     "text": [
      "['a0r5w00000V42c0AAB', 'a0r5w00000V42c0AAB', 'a0r5w00000V42c0AAB', 'a0r5w00000V42c0AAB', 'a0r5w00000V42c0AAB', 'a0r5w00000V42c0AAB', 'a0r5w00000V42c0AAB', 'a0r5w00000V42c1AAB', 'a0r5w00000V42c1AAB', 'a0r5w00000V42c1AAB', 'a0r5w00000V42c1AAB', 'a0r5w00000V42c1AAB', 'a0r5w00000V42c1AAB', 'a0r5w00000V42c1AAB', 'a0r5w00000V42c1AAB', 'a0r5w00000V42c1AAB', 'a0r5w00000V42c1AAB', 'a0r5w00000V42c1AAB', 'a0r5w00000V42c1AAB', 'a0r5w00000V42c1AAB', 'a0r5w00000V42c1AAB', 'a0r5w00000V42c1AAB', 'a0r5w00000V42c3AAB', 'a0r5w00000V42c3AAB', 'a0r5w00000V42c3AAB', 'a0r5w00000V42c3AAB', 'a0r5w00000V42c4AAB', 'a0r5w00000V42cBAAR', 'a0r5w00000V42cBAAR', 'a0r5w00000V42cBAAR', 'a0r5w00000V42cBAAR', 'a0r5w00000V42cBAAR', 'a0r5w00000V42cCAAR', 'a0r5w00000V42cCAAR', 'a0r5w00000V42cCAAR', 'a0r5w00000V42cCAAR', 'a0r5w00000V42cCAAR', 'a0r5w00000V42cCAAR', 'a0r5w00000V42cCAAR', 'a0r5w00000V42cCAAR', 'a0r5w00000V42cCAAR', 'a0r5w00000V42cCAAR', 'a0r5w00000V42cCAAR', 'a0r5w00000V42cCAAR', 'a0r5w00000V42cCAAR', 'a0r5w00000V42cCAAR', 'a0r5w00000V42cCAAR', 'a0r5w00000V42cCAAR', 'a0r5w00000V42cCAAR', 'a0r5w00000V42cCAAR', 'a0r5w00000V42cCAAR', 'a0r5w00000V42cCAAR', 'a0r5w00000V42cCAAR', 'a0r5w00000V42cCAAR', 'a0r5w00000V42cCAAR', 'a0r5w00000V42cCAAR', 'a0r5w00000V42cCAAR', 'a0r5w00000V42cCAAR', 'a0r5w00000V42cCAAR', 'a0r5w00000V42cCAAR', 'a0r5w00000V42cCAAR', 'a0r5w00000V42cCAAR', 'a0r5w00000V42cCAAR', 'a0r5w00000V42cCAAR', 'a0r5w00000V42cCAAR', 'a0r5w00000V42cCAAR', 'a0r5w00000V42cCAAR', 'a0r5w00000V42cCAAR', 'a0r5w00000V42cCAAR', 'a0r5w00000V42cCAAR', 'a0r5w00000V42cCAAR', 'a0r5w00000V42cCAAR', 'a0r5w00000V42cCAAR', 'a0r5w00000V42cCAAR', 'a0r5w00000V42cCAAR', 'a0r5w00000V42cCAAR', 'a0r5w00000V42cCAAR', 'a0r5w00000V42cCAAR', 'a0r5w00000V42cCAAR', 'a0r5w00000V42cCAAR', 'a0r5w00000V42cCAAR', 'a0r5w00000V42cCAAR', 'a0r5w00000V42cCAAR', 'a0r5w00000V42cCAAR', 'a0r5w00000V42cCAAR', 'a0r5w00000V42cCAAR', 'a0r5w00000V42cCAAR', 'a0r5w00000V42cCAAR', 'a0r5w00000V42cCAAR', 'a0r5w00000V42cCAAR', 'a0r5w00000V42cCAAR', 'a0r5w00000V42cCAAR', 'a0r5w00000V42cCAAR', 'a0r5w00000V42cCAAR', 'a0r5w00000V42cCAAR', 'a0r5w00000V42cCAAR', 'a0r5w00000V42cCAAR', 'a0r5w00000V42cCAAR', 'a0r5w00000V42cCAAR', 'a0r5w00000V42cCAAR', 'a0r5w00000V42cCAAR', 'a0r5w00000V42cCAAR', 'a0r5w00000V42cCAAR', 'a0r5w00000V42cCAAR', 'a0r5w00000V42cCAAR', 'a0r5w00000V42cCAAR', 'a0r5w00000V42cCAAR', 'a0r5w00000V42cCAAR', 'a0r5w00000V42cCAAR', 'a0r5w00000V42cCAAR', 'a0r5w00000V42cCAAR', 'a0r5w00000V42cCAAR', 'a0r5w00000V42cCAAR', 'a0r5w00000V42cCAAR', 'a0r5w00000V42cCAAR', 'a0r5w00000V42cCAAR', 'a0r5w00000V42cCAAR', 'a0r5w00000V42cCAAR', 'a0r5w00000V42cCAAR', 'a0r5w00000V42cCAAR', 'a0r5w00000V42cCAAR', 'a0r5w00000V42cCAAR', 'a0r5w00000V42cCAAR', 'a0r5w00000V42cCAAR', 'a0r5w00000V42cCAAR', 'a0r5w00000V42cCAAR', 'a0r5w00000V42cCAAR', 'a0r5w00000V42cCAAR', 'a0r5w00000V42cCAAR', 'a0r5w00000V42cCAAR', 'a0r5w00000V42cCAAR', 'a0r5w00000V42cCAAR', 'a0r5w00000V42cCAAR', 'a0r5w00000V42cCAAR', 'a0r5w00000V42cCAAR', 'a0r5w00000V42cCAAR', 'a0r5w00000V42cCAAR', 'a0r5w00000V42cCAAR', 'a0r5w00000V42cCAAR', 'a0r5w00000V42cCAAR', 'a0r5w00000V42cCAAR', 'a0r5w00000V42cCAAR', 'a0r5w00000V42cCAAR', 'a0r5w00000V42cCAAR', 'a0r5w00000V42cCAAR', 'a0r5w00000V42cCAAR', 'a0r5w00000V42cCAAR', 'a0r5w00000V42cCAAR', 'a0r5w00000V42cCAAR', 'a0r5w00000V42cCAAR', 'a0r5w00000V42cCAAR', 'a0r5w00000V42cCAAR', 'a0r5w00000V42cCAAR', 'a0r5w00000V42cCAAR', 'a0r5w00000V42cCAAR', 'a0r5w00000V42cCAAR', 'a0r5w00000V42cCAAR', 'a0r5w00000V42cCAAR', 'a0r5w00000V42cCAAR', 'a0r5w00000V42cCAAR', 'a0r5w00000V42cCAAR', 'a0r5w00000V42cCAAR', 'a0r5w00000V42cCAAR', 'a0r5w00000V42cCAAR', 'a0r5w00000V42cCAAR', 'a0r5w00000V42cCAAR', 'a0r5w00000V42cCAAR', 'a0r5w00000V42cCAAR', 'a0r5w00000V42cCAAR', 'a0r5w00000V42cCAAR', 'a0r5w00000V42cCAAR', 'a0r5w00000V42cCAAR', 'a0r5w00000V42cCAAR', 'a0r5w00000V42cCAAR', 'a0r5w00000V42cCAAR', 'a0r5w00000V42cCAAR', 'a0r5w00000V42cCAAR', 'a0r5w00000V42cCAAR', 'a0r5w00000V42cCAAR', 'a0r5w00000V42cCAAR', 'a0r5w00000V42cCAAR', 'a0r5w00000V42cCAAR', 'a0r5w00000V42cCAAR', 'a0r5w00000V42cCAAR', 'a0r5w00000V42cCAAR', 'a0r5w00000V42cCAAR', 'a0r5w00000V42cCAAR', 'a0r5w00000V42cCAAR', 'a0r5w00000V42cCAAR', 'a0r5w00000V42cCAAR', 'a0r5w00000V42cCAAR', 'a0r5w00000V42cCAAR', 'a0r5w00000V42cCAAR', 'a0r5w00000V42cCAAR', 'a0r5w00000V42cCAAR', 'a0r5w00000V42cCAAR', 'a0r5w00000V42cCAAR', 'a0r5w00000V42cCAAR', 'a0r5w00000V42cCAAR', 'a0r5w00000V42cCAAR', 'a0r5w00000V42cCAAR', 'a0r5w00000V42cCAAR', 'a0r5w00000V42cCAAR', 'a0r5w00000V42cCAAR', 'a0r5w00000V42cCAAR', 'a0r5w00000V42cCAAR', 'a0r5w00000V42cCAAR', 'a0r5w00000V42cCAAR', 'a0r5w00000V42cCAAR', 'a0r5w00000V42cCAAR', 'a0r5w00000V42cCAAR', 'a0r5w00000V42cCAAR', 'a0r5w00000V42cCAAR', 'a0r5w00000V42cCAAR', 'a0r5w00000V42cCAAR', 'a0r5w00000V42cCAAR', 'a0r5w00000V42cCAAR', 'a0r5w00000V42cCAAR', 'a0r5w00000V42cCAAR', 'a0r5w00000V42cCAAR', 'a0r5w00000V42cCAAR', 'a0r5w00000V42cCAAR', 'a0r5w00000V42cCAAR', 'a0r5w00000V42cCAAR', 'a0r5w00000V42cCAAR', 'a0r5w00000V42cCAAR', 'a0r5w00000V42cCAAR', 'a0r5w00000V42cCAAR', 'a0r5w00000V42cCAAR', 'a0r5w00000V42cCAAR', 'a0r5w00000V42cCAAR', 'a0r5w00000V42cCAAR', 'a0r5w00000V42cCAAR', 'a0r5w00000V42cCAAR', 'a0r5w00000V42cCAAR', 'a0r5w00000V42cCAAR', 'a0r5w00000V42cCAAR', 'a0r5w00000V42cCAAR', 'a0r5w00000V42cCAAR', 'a0r5w00000V42cCAAR', 'a0r5w00000V42cCAAR', 'a0r5w00000V42cCAAR', 'a0r5w00000V42cCAAR', 'a0r5w00000V42cCAAR', 'a0r5w00000V42cCAAR', 'a0r5w00000V42cCAAR', 'a0r5w00000V42cCAAR', 'a0r5w00000V42cCAAR', 'a0r5w00000V42cCAAR', 'a0r5w00000V42cCAAR', 'a0r5w00000V42cCAAR', 'a0r5w00000V42cCAAR', 'a0r5w00000V42cCAAR', 'a0r5w00000V42cCAAR', 'a0r5w00000V42cCAAR', 'a0r5w00000V42cCAAR', 'a0r5w00000V42cCAAR', 'a0r5w00000V42cCAAR', 'a0r5w00000V42cCAAR', 'a0r5w00000V42cCAAR', 'a0r5w00000V42cCAAR', 'a0r5w00000V42cCAAR', 'a0r5w00000V42cCAAR', 'a0r5w00000V42cCAAR', 'a0r5w00000V42cCAAR', 'a0r5w00000V42cCAAR', 'a0r5w00000V42cCAAR', 'a0r5w00000V42cCAAR', 'a0r5w00000V42cCAAR', 'a0r5w00000V42cCAAR', 'a0r5w00000V42cCAAR', 'a0r5w00000V42cCAAR', 'a0r5w00000V42cCAAR', 'a0r5w00000V42cCAAR', 'a0r5w00000V42cCAAR', 'a0r5w00000V42cCAAR', 'a0r5w00000V42cCAAR', 'a0r5w00000V42cCAAR', 'a0r5w00000V42cCAAR', 'a0r5w00000V42cCAAR', 'a0r5w00000V42cCAAR', 'a0r5w00000V42cCAAR', 'a0r5w00000V42cCAAR', 'a0r5w00000V42cCAAR', 'a0r5w00000V42cCAAR', 'a0r5w00000V42cCAAR', 'a0r5w00000V42cCAAR', 'a0r5w00000V42cCAAR', 'a0r5w00000V42cCAAR', 'a0r5w00000V42cCAAR', 'a0r5w00000V42cCAAR', 'a0r5w00000V42cCAAR', 'a0r5w00000V42cCAAR', 'a0r5w00000V42cCAAR', 'a0r5w00000V42cCAAR', 'a0r5w00000V42cCAAR', 'a0r5w00000V42cCAAR', 'a0r5w00000V42cCAAR', 'a0r5w00000V42cCAAR', 'a0r5w00000V42cCAAR', 'a0r5w00000V42cCAAR', 'a0r5w00000V42cCAAR', 'a0r5w00000V42cCAAR', 'a0r5w00000V42cCAAR', 'a0r5w00000V42cCAAR', 'a0r5w00000V42cCAAR', 'a0r5w00000V42cCAAR', 'a0r5w00000V42cCAAR', 'a0r5w00000V42cCAAR', 'a0r5w00000V42cCAAR', 'a0r5w00000V42cCAAR', 'a0r5w00000V42cCAAR', 'a0r5w00000V42cCAAR', 'a0r5w00000V42cCAAR', 'a0r5w00000V42cCAAR', 'a0r5w00000V42cCAAR', 'a0r5w00000V42cCAAR', 'a0r5w00000V42cCAAR', 'a0r5w00000V42cCAAR', 'a0r5w00000V42cCAAR', 'a0r5w00000V42cCAAR', 'a0r5w00000V42cCAAR', 'a0r5w00000V42cCAAR', 'a0r5w00000V42cCAAR', 'a0r5w00000V42cCAAR', 'a0r5w00000V42cCAAR', 'a0r5w00000V42cCAAR', 'a0r5w00000V42cCAAR', 'a0r5w00000V42cCAAR', 'a0r5w00000V42cCAAR', 'a0r5w00000V42cCAAR', 'a0r5w00000V42cCAAR', 'a0r5w00000V42cCAAR', 'a0r5w00000V42cCAAR', 'a0r5w00000V42cCAAR', 'a0r5w00000V42cCAAR', 'a0r5w00000V42cCAAR', 'a0r5w00000V42cCAAR', 'a0r5w00000V42cCAAR', 'a0r5w00000V42cCAAR', 'a0r5w00000V42cCAAR', 'a0r5w00000V42cCAAR', 'a0r5w00000V42cCAAR', 'a0r5w00000V42cCAAR', 'a0r5w00000V42cCAAR', 'a0r5w00000V42cCAAR', 'a0r5w00000V42cCAAR', 'a0r5w00000V42cCAAR', 'a0r5w00000V42cCAAR', 'a0r5w00000V42cCAAR', 'a0r5w00000V42cCAAR', 'a0r5w00000V42cCAAR', 'a0r5w00000V42cCAAR', 'a0r5w00000V42cCAAR', 'a0r5w00000V42cCAAR', 'a0r5w00000V42cCAAR', 'a0r5w00000V42cCAAR', 'a0r5w00000V42cCAAR', 'a0r5w00000V42cCAAR', 'a0r5w00000V42cCAAR', 'a0r5w00000V42cCAAR', 'a0r5w00000V42cCAAR', 'a0r5w00000V42cCAAR', 'a0r5w00000V42cCAAR', 'a0r5w00000V42cCAAR', 'a0r5w00000V42cCAAR', 'a0r5w00000V42cCAAR', 'a0r5w00000V42cCAAR', 'a0r5w00000V42cCAAR', 'a0r5w00000V42cCAAR', 'a0r5w00000V42cCAAR', 'a0r5w00000V42cCAAR', 'a0r5w00000V42cCAAR', 'a0r5w00000V42cCAAR', 'a0r5w00000V42cCAAR', 'a0r5w00000V42cCAAR', 'a0r5w00000V42cCAAR', 'a0r5w00000V42cCAAR', 'a0r5w00000V42cCAAR', 'a0r5w00000V42cCAAR', 'a0r5w00000V42cCAAR', 'a0r5w00000V42cCAAR', 'a0r5w00000V42cCAAR', 'a0r5w00000V42cCAAR', 'a0r5w00000V42cCAAR', 'a0r5w00000V42cCAAR', 'a0r5w00000V42cCAAR', 'a0r5w00000V42cCAAR', 'a0r5w00000V42cCAAR', 'a0r5w00000V42cCAAR', 'a0r5w00000V42cCAAR', 'a0r5w00000V42cCAAR', 'a0r5w00000V42cCAAR', 'a0r5w00000V42cCAAR', 'a0r5w00000V42cCAAR', 'a0r5w00000V42cCAAR', 'a0r5w00000V42cCAAR', 'a0r5w00000V42cCAAR', 'a0r5w00000V42cCAAR', 'a0r5w00000V42cCAAR', 'a0r5w00000V42cCAAR', 'a0r5w00000V42cCAAR', 'a0r5w00000V42cCAAR', 'a0r5w00000V42cCAAR', 'a0r5w00000V42cCAAR', 'a0r5w00000V42cCAAR', 'a0r5w00000V42cCAAR', 'a0r5w00000V42cCAAR', 'a0r5w00000V42cCAAR', 'a0r5w00000V42cCAAR', 'a0r5w00000V42cCAAR', 'a0r5w00000V42cCAAR', 'a0r5w00000V42cCAAR', 'a0r5w00000V42cCAAR', 'a0r5w00000V42cCAAR', 'a0r5w00000V42cCAAR', 'a0r5w00000V42cCAAR', 'a0r5w00000V42cCAAR', 'a0r5w00000V42cCAAR', 'a0r5w00000V42cCAAR', 'a0r5w00000V42cCAAR', 'a0r5w00000V42cCAAR', 'a0r5w00000V42cCAAR', 'a0r5w00000V42cCAAR', 'a0r5w00000V42cCAAR', 'a0r5w00000V42cCAAR', 'a0r5w00000V42cCAAR', 'a0r5w00000V42cCAAR', 'a0r5w00000V42cCAAR', 'a0r5w00000V42cCAAR', 'a0r5w00000V42cCAAR', 'a0r5w00000V42cCAAR', 'a0r5w00000V42cCAAR', 'a0r5w00000V42cCAAR', 'a0r5w00000V42cCAAR', 'a0r5w00000V42cCAAR', 'a0r5w00000V42cCAAR', 'a0r5w00000V42cCAAR', 'a0r5w00000V42cCAAR', 'a0r5w00000V42cCAAR', 'a0r5w00000V42cCAAR', 'a0r5w00000V42cCAAR', 'a0r5w00000V42cCAAR', 'a0r5w00000V42cCAAR', 'a0r5w00000V42cCAAR', 'a0r5w00000V42cCAAR', 'a0r5w00000V42cCAAR', 'a0r5w00000V42cCAAR', 'a0r5w00000V42cCAAR', 'a0r5w00000V42cCAAR', 'a0r5w00000V42cCAAR', 'a0r5w00000V42cCAAR', 'a0r5w00000V42cCAAR', 'a0r5w00000V42cCAAR', 'a0r5w00000V42cCAAR', 'a0r5w00000V42cCAAR', 'a0r5w00000V42cCAAR', 'a0r5w00000V42cCAAR', 'a0r5w00000V42cCAAR', 'a0r5w00000V42cCAAR', 'a0r5w00000V42cCAAR', 'a0r5w00000V42cCAAR', 'a0r5w00000V42cCAAR', 'a0r5w00000V42cCAAR', 'a0r5w00000V42cCAAR', 'a0r5w00000V42cCAAR', 'a0r5w00000V42cCAAR', 'a0r5w00000V42cCAAR', 'a0r5w00000V42cCAAR', 'a0r5w00000V42cCAAR', 'a0r5w00000V42cCAAR', 'a0r5w00000V42cCAAR', 'a0r5w00000V42cCAAR', 'a0r5w00000V42cCAAR', 'a0r5w00000V42cCAAR', 'a0r5w00000V42cCAAR', 'a0r5w00000V42cCAAR', 'a0r5w00000V42cCAAR', 'a0r5w00000V42cCAAR', 'a0r5w00000V42cCAAR', 'a0r5w00000V42cCAAR', 'a0r5w00000V42cCAAR', 'a0r5w00000V42cCAAR', 'a0r5w00000V42cCAAR', 'a0r5w00000V42cCAAR', 'a0r5w00000V42cCAAR', 'a0r5w00000V42cCAAR', 'a0r5w00000V42cCAAR', 'a0r5w00000V42cCAAR', 'a0r5w00000V42cCAAR', 'a0r5w00000V42cCAAR', 'a0r5w00000V42cCAAR', 'a0r5w00000V42cCAAR', 'a0r5w00000V42cCAAR', 'a0r5w00000V42cCAAR', 'a0r5w00000V42cCAAR', 'a0r5w00000V42cCAAR', 'a0r5w00000V42cCAAR', 'a0r5w00000V42cCAAR', 'a0r5w00000V42cCAAR', 'a0r5w00000V42cCAAR', 'a0r5w00000V42cCAAR', 'a0r5w00000V42cCAAR', 'a0r5w00000V42cCAAR', 'a0r5w00000V42cCAAR', 'a0r5w00000V42cCAAR', 'a0r5w00000V42cCAAR', 'a0r5w00000V42cCAAR', 'a0r5w00000V42cCAAR', 'a0r5w00000V42cCAAR', 'a0r5w00000V42cCAAR', 'a0r5w00000V42cCAAR', 'a0r5w00000V42cCAAR', 'a0r5w00000V42cCAAR', 'a0r5w00000V42cCAAR', 'a0r5w00000V42cCAAR', 'a0r5w00000V42cCAAR', 'a0r5w00000V42cCAAR', 'a0r5w00000V42cCAAR', 'a0r5w00000V42cCAAR', 'a0r5w00000V42cCAAR', 'a0r5w00000V42cCAAR', 'a0r5w00000V42cCAAR', 'a0r5w00000V42cCAAR', 'a0r5w00000V42cCAAR', 'a0r5w00000V42cCAAR', 'a0r5w00000V42cCAAR', 'a0r5w00000V42cCAAR', 'a0r5w00000V42cCAAR', 'a0r5w00000V42cCAAR', 'a0r5w00000V42cCAAR', 'a0r5w00000V42cCAAR', 'a0r5w00000V42cCAAR', 'a0r5w00000V42cCAAR', 'a0r5w00000V42cCAAR', 'a0r5w00000V42cCAAR', 'a0r5w00000V42cCAAR', 'a0r5w00000V42cCAAR', 'a0r5w00000V42cCAAR', 'a0r5w00000V42cCAAR', 'a0r5w00000V42cCAAR', 'a0r5w00000V42cCAAR', 'a0r5w00000V42cCAAR', 'a0r5w00000V42cCAAR', 'a0r5w00000V42cCAAR', 'a0r5w00000V42cCAAR', 'a0r5w00000V42cCAAR', 'a0r5w00000V42cCAAR', 'a0r5w00000V42cCAAR', 'a0r5w00000V42cCAAR', 'a0r5w00000V42cCAAR', 'a0r5w00000V42cCAAR', 'a0r5w00000V42cCAAR', 'a0r5w00000V42cCAAR', 'a0r5w00000V42cCAAR', 'a0r5w00000V42cCAAR', 'a0r5w00000V42cCAAR', 'a0r5w00000V42cCAAR', 'a0r5w00000V42cCAAR', 'a0r5w00000V42cCAAR', 'a0r5w00000V42cCAAR', 'a0r5w00000V42cCAAR', 'a0r5w00000V42cCAAR', 'a0r5w00000V42cCAAR', 'a0r5w00000V42cCAAR', 'a0r5w00000V42cCAAR', 'a0r5w00000V42cCAAR', 'a0r5w00000V42cCAAR', 'a0r5w00000V42cCAAR', 'a0r5w00000V42cCAAR', 'a0r5w00000V42cCAAR', 'a0r5w00000V42cCAAR', 'a0r5w00000V42cCAAR', 'a0r5w00000V42cCAAR', 'a0r5w00000V42cCAAR', 'a0r5w00000V42cCAAR', 'a0r5w00000V42cCAAR', 'a0r5w00000V42cCAAR', 'a0r5w00000V42cCAAR', 'a0r5w00000V42cCAAR', 'a0r5w00000V42cCAAR', 'a0r5w00000V42cCAAR', 'a0r5w00000V42cCAAR', 'a0r5w00000V42cCAAR', 'a0r5w00000V42cCAAR', 'a0r5w00000V42cCAAR', 'a0r5w00000V42cCAAR', 'a0r5w00000V42cCAAR', 'a0r5w00000V42cCAAR', 'a0r5w00000V42cCAAR', 'a0r5w00000V42cCAAR', 'a0r5w00000V42cCAAR', 'a0r5w00000V42cCAAR', 'a0r5w00000V42cCAAR', 'a0r5w00000V42cCAAR', 'a0r5w00000V42cCAAR', 'a0r5w00000V42cCAAR', 'a0r5w00000V42cCAAR', 'a0r5w00000V42cCAAR', 'a0r5w00000V42cCAAR', 'a0r5w00000V42cCAAR', 'a0r5w00000V42cCAAR', 'a0r5w00000V42cCAAR', 'a0r5w00000V42cCAAR', 'a0r5w00000V42cCAAR', 'a0r5w00000V42cCAAR', 'a0r5w00000V42cCAAR', 'a0r5w00000V42cCAAR', 'a0r5w00000V42cCAAR', 'a0r5w00000V42cCAAR', 'a0r5w00000V42cCAAR', 'a0r5w00000V42cCAAR', 'a0r5w00000V42cCAAR', 'a0r5w00000V42cCAAR', 'a0r5w00000V42cCAAR', 'a0r5w00000V42cCAAR', 'a0r5w00000V42cCAAR', 'a0r5w00000V42cCAAR', 'a0r5w00000V42cCAAR', 'a0r5w00000V42cCAAR', 'a0r5w00000V42cCAAR', 'a0r5w00000V42cCAAR', 'a0r5w00000V42cCAAR', 'a0r5w00000V42cCAAR', 'a0r5w00000V42cCAAR', 'a0r5w00000V42cCAAR', 'a0r5w00000V42cCAAR', 'a0r5w00000V42cCAAR', 'a0r5w00000V42cCAAR', 'a0r5w00000V42cCAAR', 'a0r5w00000V42cCAAR', 'a0r5w00000V42cCAAR', 'a0r5w00000V42cCAAR', 'a0r5w00000V42cCAAR', 'a0r5w00000V42cCAAR', 'a0r5w00000V42iXAAR', 'a0r5w00000V42iXAAR', 'a0r5w00000V42iXAAR', 'a0r5w00000V42iXAAR', 'a0r5w00000V42iXAAR', 'a0r5w00000V42iXAAR', 'a0r5w00000V42iXAAR', 'a0r5w00000V42iXAAR', 'a0r5w00000V42iXAAR', 'a0r5w00000V42iXAAR', 'a0r5w00000V42iXAAR', 'a0r5w00000V42iXAAR', 'a0r5w00000V42iXAAR', 'a0r5w00000V42iXAAR', 'a0r5w00000V42iXAAR', 'a0r5w00000V42iXAAR', 'a0r5w00000V42iXAAR', 'a0r5w00000V42iXAAR', 'a0r5w00000V42iXAAR', 'a0r5w00000V42iXAAR', 'a0r5w00000V42iXAAR', 'a0r5w00000V42iXAAR', 'a0r5w00000V42iXAAR', 'a0r5w00000V42iXAAR', 'a0r5w00000V42iXAAR', 'a0r5w00000V42iXAAR', 'a0r5w00000V42iXAAR', 'a0r5w00000V42iXAAR', 'a0r5w00000V42iXAAR', 'a0r5w00000V42iXAAR', 'a0r5w00000V42iXAAR', 'a0r5w00000V42iXAAR', 'a0r5w00000V42iXAAR', 'a0r5w00000V42iXAAR', 'a0r5w00000V42iXAAR', 'a0r5w00000V42iXAAR', 'a0r5w00000V42iXAAR', 'a0r5w00000V42iXAAR', 'a0r5w00000V42iXAAR', 'a0r5w00000V42iXAAR', 'a0r5w00000V42iXAAR', 'a0r5w00000V42iXAAR', 'a0r5w00000V42iXAAR', 'a0r5w00000V42iXAAR', 'a0r5w00000V42iXAAR', 'a0r5w00000V42iXAAR', 'a0r5w00000V42iXAAR', 'a0r5w00000V42iXAAR', 'a0r5w00000V42iXAAR', 'a0r5w00000V42iXAAR', 'a0r5w00000V42iXAAR', 'a0r5w00000V42iXAAR', 'a0r5w00000V42iXAAR', 'a0r5w00000V42iXAAR', 'a0r5w00000V42iXAAR', 'a0r5w00000V42iXAAR', 'a0r5w00000V42iXAAR', 'a0r5w00000V42iXAAR', 'a0r5w00000V42iXAAR', 'a0r5w00000V42iXAAR', 'a0r5w00000V42iXAAR', 'a0r5w00000V42iXAAR', 'a0r5w00000V42iXAAR', 'a0r5w00000V42iXAAR', 'a0r5w00000V42iXAAR', 'a0r5w00000V42iXAAR', 'a0r5w00000V42iXAAR', 'a0r5w00000V42iXAAR', 'a0r5w00000V42iXAAR', 'a0r5w00000V42iXAAR', 'a0r5w00000V42iXAAR', 'a0r5w00000V42iXAAR', 'a0r5w00000V42iXAAR', 'a0r5w00000V42iXAAR', 'a0r5w00000V42iXAAR', 'a0r5w00000V42iXAAR', 'a0r5w00000V42iXAAR', 'a0r5w00000V42iXAAR', 'a0r5w00000V42iXAAR', 'a0r5w00000V42iXAAR', 'a0r5w00000V42iXAAR', 'a0r5w00000V42iXAAR', 'a0r5w00000V42iXAAR', 'a0r5w00000V42iXAAR', 'a0r5w00000V42iXAAR', 'a0r5w00000V42iXAAR', 'a0r5w00000V42iXAAR', 'a0r5w00000V42iXAAR', 'a0r5w00000V42iXAAR', 'a0r5w00000V42iXAAR', 'a0r5w00000V42iXAAR', 'a0r5w00000V42iXAAR', 'a0r5w00000V42iXAAR', 'a0r5w00000V42iXAAR', 'a0r5w00000V42iXAAR', 'a0r5w00000V42iXAAR', 'a0r5w00000V42iXAAR', 'a0r5w00000V42iXAAR', 'a0r5w00000V42iXAAR', 'a0r5w00000V42iXAAR', 'a0r5w00000V42iXAAR', 'a0r5w00000V42iXAAR', 'a0r5w00000V42iXAAR', 'a0r5w00000V42iXAAR', 'a0r5w00000V42iXAAR', 'a0r5w00000V42iXAAR', 'a0r5w00000V42iXAAR', 'a0r5w00000V42iXAAR', 'a0r5w00000V42iXAAR', 'a0r5w00000V42iXAAR', 'a0r5w00000V42iXAAR', 'a0r5w00000V42iXAAR', 'a0r5w00000V42iXAAR', 'a0r5w00000V42iXAAR', 'a0r5w00000V42iXAAR', 'a0r5w00000V42iXAAR', 'a0r5w00000V42iXAAR', 'a0r5w00000V42iXAAR', 'a0r5w00000V42iXAAR', 'a0r5w00000V42iXAAR', 'a0r5w00000V42iXAAR', 'a0r5w00000V42iXAAR', 'a0r5w00000V42iXAAR', 'a0r5w00000V42iXAAR', 'a0r5w00000V42iXAAR', 'a0r5w00000V42iXAAR', 'a0r5w00000V42iXAAR', 'a0r5w00000V42iXAAR', 'a0r5w00000V42iXAAR', 'a0r5w00000V42iXAAR', 'a0r5w00000V42iXAAR', 'a0r5w00000V42iXAAR', 'a0r5w00000V42iXAAR', 'a0r5w00000V42iXAAR', 'a0r5w00000V42iXAAR', 'a0r5w00000V42iXAAR', 'a0r5w00000V42iXAAR', 'a0r5w00000V42iXAAR', 'a0r5w00000V42iXAAR', 'a0r5w00000V42iXAAR', 'a0r5w00000V42iXAAR', 'a0r5w00000V42iXAAR', 'a0r5w00000V42iXAAR', 'a0r5w00000V42iXAAR', 'a0r5w00000V42iXAAR', 'a0r5w00000V42iXAAR', 'a0r5w00000V42iXAAR', 'a0r5w00000V42iXAAR', 'a0r5w00000V42iXAAR', 'a0r5w00000V42iXAAR', 'a0r5w00000V42iXAAR', 'a0r5w00000V42iXAAR', 'a0r5w00000V42iXAAR', 'a0r5w00000V42iXAAR', 'a0r5w00000V42iXAAR', 'a0r5w00000V42iXAAR', 'a0r5w00000V42iXAAR', 'a0r5w00000V42iXAAR', 'a0r5w00000V42iXAAR', 'a0r5w00000V42iXAAR', 'a0r5w00000V42iXAAR', 'a0r5w00000V42iXAAR', 'a0r5w00000V42iXAAR', 'a0r5w00000V42iXAAR', 'a0r5w00000V42iXAAR', 'a0r5w00000V42iXAAR', 'a0r5w00000V42iXAAR', 'a0r5w00000V42iXAAR', 'a0r5w00000V42iXAAR', 'a0r5w00000V42iXAAR', 'a0r5w00000V42iXAAR', 'a0r5w00000V42iXAAR', 'a0r5w00000V42iZAAR', 'a0r5w00000V42iZAAR', 'a0r5w00000V42iZAAR', 'a0r5w00000V42iZAAR', 'a0r5w00000V42iZAAR', 'a0r5w00000V42iZAAR', 'a0r5w00000V42iZAAR', 'a0r5w00000V42iZAAR', 'a0r5w00000V42iZAAR', 'a0r5w00000V42iZAAR', 'a0r5w00000V42iaAAB', 'a0r5w00000V42iaAAB', 'a0r5w00000V42iaAAB', 'a0r5w00000V42iaAAB', 'a0r5w00000V42ibAAB', 'a0r5w00000V42ibAAB', 'a0r5w00000V42ibAAB', 'a0r5w00000V42ibAAB', 'a0r5w00000V42ibAAB', 'a0r5w00000V42ibAAB', 'a0r5w00000V42ibAAB', 'a0r5w00000V42ibAAB', 'a0r5w00000V42ibAAB', 'a0r5w00000V42ibAAB', 'a0r5w00000V42ibAAB', 'a0r5w00000V42ibAAB', 'a0r5w00000V42ibAAB', 'a0r5w00000V42ibAAB', 'a0r5w00000V42ibAAB', 'a0r5w00000V42ibAAB', 'a0r5w00000V42ibAAB', 'a0r5w00000V42ibAAB', 'a0r5w00000V42ibAAB', 'a0r5w00000V42ibAAB', 'a0r5w00000V42ibAAB', 'a0r5w00000V42ibAAB', 'a0r5w00000V42ibAAB', 'a0r5w00000V42ibAAB', 'a0r5w00000V42ibAAB', 'a0r5w00000V42ibAAB', 'a0r5w00000V42ibAAB', 'a0r5w00000V42ibAAB', 'a0r5w00000V42ibAAB', 'a0r5w00000V42icAAB', 'a0r5w00000V42icAAB', 'a0r5w00000V42icAAB', 'a0r5w00000V42idAAB', 'a0r5w00000V42idAAB', 'a0r5w00000V42idAAB', 'a0r5w00000V42idAAB', 'a0r5w00000V42idAAB', 'a0r5w00000V42idAAB', 'a0r5w00000V42idAAB', 'a0r5w00000V42idAAB', 'a0r5w00000V42idAAB', 'a0r5w00000V42idAAB', 'a0r5w00000V42ieAAB', 'a0r5w00000V42ieAAB', 'a0r5w00000V42ieAAB', 'a0r5w00000V42ieAAB', 'a0r5w00000V42ieAAB', 'a0r5w00000V42ieAAB', 'a0r5w00000V42ieAAB', 'a0r5w00000V42ieAAB', 'a0r5w00000V42ieAAB', 'a0r5w00000V42ieAAB', 'a0r5w00000V42ieAAB', 'a0r5w00000V42ieAAB', 'a0r5w00000V42ieAAB', 'a0r5w00000V42ieAAB', 'a0r5w00000V42ieAAB', 'a0r5w00000V42ieAAB', 'a0r5w00000V42ieAAB', 'a0r5w00000V42ihAAB', 'a0r5w00000V42ihAAB', 'a0r5w00000V42ihAAB', 'a0r5w00000V42ihAAB', 'a0r5w00000V42iiAAB', 'a0r5w00000V42iiAAB', 'a0r5w00000V42iiAAB', 'a0r5w00000V42iiAAB', 'a0r5w00000V42iiAAB', 'a0r5w00000V42iiAAB', 'a0r5w00000V42iiAAB', 'a0r5w00000V42iiAAB', 'a0r5w00000V42iiAAB', 'a0r5w00000V42iiAAB', 'a0r5w00000V42iiAAB', 'a0r5w00000V42ikAAB', 'a0r5w00000V42ikAAB', 'a0r5w00000V42ikAAB', 'a0r5w00000V42ikAAB', 'a0r5w00000V42ikAAB', 'a0r5w00000V42ikAAB', 'a0r5w00000V42ikAAB', 'a0r5w00000V42ikAAB', 'a0r5w00000V42ikAAB', 'a0r5w00000V42ikAAB', 'a0r5w00000V42ikAAB', 'a0r5w00000V42ikAAB', 'a0r5w00000V42ikAAB', 'a0r5w00000V42ikAAB', 'a0r5w00000V42ikAAB', 'a0r5w00000V42ikAAB', 'a0r5w00000V42ikAAB', 'a0r5w00000V42ikAAB', 'a0r5w00000V42ikAAB', 'a0r5w00000V42ikAAB', 'a0r5w00000V42ikAAB', 'a0r5w00000V42ikAAB', 'a0r5w00000V42ikAAB', 'a0r5w00000V42ikAAB', 'a0r5w00000V42ikAAB', 'a0r5w00000V42ikAAB', 'a0r5w00000V42ikAAB', 'a0r5w00000V42ikAAB', 'a0r5w00000V42ikAAB', 'a0r5w00000V42ikAAB', 'a0r5w00000V42ikAAB', 'a0r5w00000V42ikAAB', 'a0r5w00000V42ikAAB', 'a0r5w00000V42ikAAB', 'a0r5w00000V42ikAAB', 'a0r5w00000V42ikAAB', 'a0r5w00000V42ikAAB', 'a0r5w00000V42ikAAB', 'a0r5w00000V42ikAAB', 'a0r5w00000V42ikAAB', 'a0r5w00000V42ikAAB', 'a0r5w00000V42ikAAB', 'a0r5w00000V42ikAAB', 'a0r5w00000V42ikAAB', 'a0r5w00000V42ikAAB', 'a0r5w00000V42ikAAB', 'a0r5w00000V42ikAAB', 'a0r5w00000V42ikAAB', 'a0r5w00000V42ikAAB', 'a0r5w00000V42ikAAB', 'a0r5w00000V42ikAAB', 'a0r5w00000V42ikAAB', 'a0r5w00000V42ikAAB', 'a0r5w00000V42ikAAB', 'a0r5w00000V42ikAAB', 'a0r5w00000V42ikAAB', 'a0r5w00000V42ikAAB', 'a0r5w00000V42ikAAB', 'a0r5w00000V42ikAAB', 'a0r5w00000V42ikAAB', 'a0r5w00000V42ikAAB', 'a0r5w00000V42ikAAB', 'a0r5w00000V42ikAAB', 'a0r5w00000V42ikAAB', 'a0r5w00000V42ikAAB', 'a0r5w00000V42ikAAB', 'a0r5w00000V42ikAAB', 'a0r5w00000V42ikAAB', 'a0r5w00000V42ikAAB', 'a0r5w00000V42ikAAB', 'a0r5w00000V42ikAAB', 'a0r5w00000V42ikAAB', 'a0r5w00000V42ikAAB', 'a0r5w00000V42ikAAB', 'a0r5w00000V42ikAAB', 'a0r5w00000V42ikAAB', 'a0r5w00000V42ikAAB', 'a0r5w00000V42ikAAB', 'a0r5w00000V42ikAAB', 'a0r5w00000V42ikAAB', 'a0r5w00000V42ikAAB', 'a0r5w00000V42ikAAB', 'a0r5w00000V42ikAAB', 'a0r5w00000V42ikAAB', 'a0r5w00000V42ikAAB', 'a0r5w00000V42ikAAB', 'a0r5w00000V42ikAAB', 'a0r5w00000V42ikAAB', 'a0r5w00000V42ikAAB', 'a0r5w00000V42ikAAB', 'a0r5w00000V42ikAAB', 'a0r5w00000V42ikAAB', 'a0r5w00000V42ikAAB', 'a0r5w00000V42ikAAB', 'a0r5w00000V42ikAAB', 'a0r5w00000V42ikAAB', 'a0r5w00000V42ikAAB', 'a0r5w00000V42ikAAB', 'a0r5w00000V42ikAAB', 'a0r5w00000V42ikAAB', 'a0r5w00000V42ikAAB', 'a0r5w00000V42ikAAB', 'a0r5w00000V42ikAAB', 'a0r5w00000V42ikAAB', 'a0r5w00000V42ikAAB', 'a0r5w00000V42ikAAB', 'a0r5w00000V42ikAAB', 'a0r5w00000V42ilAAB', 'a0r5w00000V42ilAAB', 'a0r5w00000V42ilAAB', 'a0r5w00000V42ilAAB', 'a0r5w00000V42ilAAB', 'a0r5w00000V42ilAAB', 'a0r5w00000V42ilAAB', 'a0r5w00000V42ilAAB', 'a0r5w00000V42ilAAB', 'a0r5w00000V42ilAAB', 'a0r5w00000V42ilAAB', 'a0r5w00000V42ilAAB', 'a0r5w00000V42ilAAB', 'a0r5w00000V42ilAAB', 'a0r5w00000V42ilAAB', 'a0r5w00000V42ilAAB', 'a0r5w00000V42ilAAB', 'a0r5w00000V42ilAAB', 'a0r5w00000V42ilAAB', 'a0r5w00000V42ilAAB', 'a0r5w00000V42ilAAB', 'a0r5w00000V42ilAAB', 'a0r5w00000V42ilAAB', 'a0r5w00000V42ilAAB', 'a0r5w00000V42ilAAB', 'a0r5w00000V42ilAAB', 'a0r5w00000V42ilAAB', 'a0r5w00000V42ilAAB', 'a0r5w00000V42ilAAB', 'a0r5w00000V42ilAAB', 'a0r5w00000V42ilAAB', 'a0r5w00000V42imAAB', 'a0r5w00000V42imAAB', 'a0r5w00000V42ioAAB', 'a0r5w00000V42ioAAB', 'a0r5w00000V42ioAAB', 'a0r5w00000V42ioAAB', 'a0r5w00000V42ioAAB', 'a0r5w00000V42ioAAB', 'a0r5w00000V42ioAAB', 'a0r5w00000V42ioAAB', 'a0r5w00000V42ioAAB', 'a0r5w00000V42ioAAB', 'a0r5w00000V42ioAAB', 'a0r5w00000V42ioAAB', 'a0r5w00000V42ioAAB', 'a0r5w00000V42ioAAB', 'a0r5w00000V42ioAAB', 'a0r5w00000V42ioAAB', 'a0r5w00000V42ioAAB', 'a0r5w00000V42ioAAB', 'a0r5w00000V42ipAAB', 'a0r5w00000V42ipAAB', 'a0r5w00000V42ipAAB', 'a0r5w00000V42ipAAB', 'a0r5w00000V42ipAAB', 'a0r5w00000V42ipAAB', 'a0r5w00000V42ipAAB', 'a0r5w00000V42ipAAB', 'a0r5w00000V42ipAAB', 'a0r5w00000V42ipAAB', 'a0r5w00000V42ipAAB', 'a0r5w00000V42ipAAB', 'a0r5w00000V42ipAAB', 'a0r5w00000V42ipAAB', 'a0r5w00000V42irAAB', 'a0r5w00000V42isAAB', 'a0r5w00000V42isAAB', 'a0r5w00000V42isAAB', 'a0r5w00000V42isAAB', 'a0r5w00000V42isAAB', 'a0r5w00000V42isAAB', 'a0r5w00000V42isAAB', 'a0r5w00000V42isAAB', 'a0r5w00000V42isAAB', 'a0r5w00000V42itAAB', 'a0r5w00000V42itAAB', 'a0r5w00000V42iuAAB', 'a0r5w00000V42iuAAB', 'a0r5w00000V42iuAAB', 'a0r5w00000V42iuAAB', 'a0r5w00000V42iuAAB', 'a0r5w00000V42iuAAB', 'a0r5w00000V42iuAAB', 'a0r5w00000V42iuAAB', 'a0r5w00000V42iuAAB', 'a0r5w00000V42iuAAB', 'a0r5w00000V42iuAAB', 'a0r5w00000V42iuAAB', 'a0r5w00000V42iuAAB', 'a0r5w00000V42iuAAB', 'a0r5w00000V42iuAAB', 'a0r5w00000V42iuAAB', 'a0r5w00000V42iuAAB', 'a0r5w00000V42iuAAB', 'a0r5w00000V42iuAAB', 'a0r5w00000V42iuAAB', 'a0r5w00000V42iuAAB', 'a0r5w00000V42iuAAB', 'a0r5w00000V42iuAAB', 'a0r5w00000V42iuAAB', 'a0r5w00000V42iuAAB', 'a0r5w00000V42iuAAB', 'a0r5w00000V42iuAAB', 'a0r5w00000V42iuAAB', 'a0r5w00000V42iuAAB', 'a0r5w00000V42iuAAB', 'a0r5w00000V42iuAAB', 'a0r5w00000V42iuAAB', 'a0r5w00000V42iuAAB', 'a0r5w00000V42iuAAB', 'a0r5w00000V42iuAAB', 'a0r5w00000V42iuAAB', 'a0r5w00000V42iuAAB', 'a0r5w00000V42iuAAB', 'a0r5w00000V42iuAAB', 'a0r5w00000V42iuAAB', 'a0r5w00000V42iuAAB', 'a0r5w00000V42iuAAB', 'a0r5w00000V42iuAAB', 'a0r5w00000V42iuAAB', 'a0r5w00000V42iuAAB', 'a0r5w00000V42iuAAB', 'a0r5w00000V42iuAAB', 'a0r5w00000V42iuAAB', 'a0r5w00000V42iuAAB', 'a0r5w00000V42iuAAB', 'a0r5w00000V42iuAAB', 'a0r5w00000V42iuAAB', 'a0r5w00000V42iuAAB', 'a0r5w00000V42iuAAB', 'a0r5w00000V42iuAAB', 'a0r5w00000V42iuAAB', 'a0r5w00000V42iuAAB', 'a0r5w00000V42iuAAB', 'a0r5w00000V42iuAAB', 'a0r5w00000V42iuAAB', 'a0r5w00000V42iuAAB', 'a0r5w00000V42iuAAB', 'a0r5w00000V42iuAAB', 'a0r5w00000V42ivAAB', 'a0r5w00000V42ivAAB', 'a0r5w00000V42ixAAB', 'a0r5w00000V42ixAAB', 'a0r5w00000V42ixAAB', 'a0r5w00000V42ixAAB', 'a0r5w00000V42ixAAB', 'a0r5w00000V42ixAAB', 'a0r5w00000V42ixAAB', 'a0r5w00000V42ixAAB', 'a0r5w00000V42ixAAB', 'a0r5w00000V42ixAAB', 'a0r5w00000V42ixAAB', 'a0r5w00000V42iyAAB', 'a0r5w00000V42iyAAB', 'a0r5w00000V42iyAAB', 'a0r5w00000V42iyAAB', 'a0r5w00000V42iyAAB', 'a0r5w00000V42iyAAB', 'a0r5w00000V42iyAAB', 'a0r5w00000V42iyAAB', 'a0r5w00000V42iyAAB', 'a0r5w00000V42iyAAB', 'a0r5w00000V42iyAAB', 'a0r5w00000V42iyAAB', 'a0r5w00000V42iyAAB', 'a0r5w00000V42iyAAB', 'a0r5w00000V42iyAAB', 'a0r5w00000V42iyAAB', 'a0r5w00000V42iyAAB', 'a0r5w00000V42iyAAB', 'a0r5w00000V42iyAAB', 'a0r5w00000V42iyAAB', 'a0r5w00000V42j1AAB', 'a0r5w00000V42j1AAB', 'a0r5w00000V42j1AAB', 'a0r5w00000V42j1AAB', 'a0r5w00000V42j1AAB', 'a0r5w00000V42j1AAB', 'a0r5w00000V42j5AAB', 'a0r5w00000V42j5AAB', 'a0r5w00000V42j5AAB', 'a0r5w00000V42j5AAB', 'a0r5w00000V42j5AAB', 'a0r5w00000V42j5AAB', 'a0r5w00000V42j6AAB', 'a0r5w00000V42j7AAB', 'a0r5w00000V42j7AAB', 'a0r5w00000V42j7AAB', 'a0r5w00000V42j7AAB', 'a0r5w00000V42j7AAB', 'a0r5w00000V42j7AAB', 'a0r5w00000V42jAAAR', 'a0r5w00000V42jAAAR', 'a0r5w00000V42jAAAR', 'a0r5w00000V42jAAAR', 'a0r5w00000V42jAAAR', 'a0r5w00000V42jAAAR', 'a0r5w00000V42jAAAR', 'a0r5w00000V42jAAAR', 'a0r5w00000V42jAAAR', 'a0r5w00000V42jAAAR', 'a0r5w00000V42jAAAR', 'a0r5w00000V42jAAAR', 'a0r5w00000V42jBAAR', 'a0r5w00000V42jBAAR', 'a0r5w00000V42jBAAR', 'a0r5w00000V42jBAAR', 'a0r5w00000V42jCAAR', 'a0r5w00000V42jCAAR', 'a0r5w00000V42jCAAR', 'a0r5w00000V42jCAAR', 'a0r5w00000V42jCAAR', 'a0r5w00000V42jCAAR', 'a0r5w00000V42jCAAR', 'a0r5w00000V42jCAAR', 'a0r5w00000V42jCAAR', 'a0r5w00000V42jCAAR', 'a0r5w00000V42jCAAR', 'a0r5w00000V42jCAAR', 'a0r5w00000V42jCAAR', 'a0r5w00000V42jCAAR', 'a0r5w00000V42jCAAR', 'a0r5w00000V42jCAAR', 'a0r5w00000V42jCAAR', 'a0r5w00000V42jCAAR', 'a0r5w00000V42jCAAR', 'a0r5w00000V42jCAAR', 'a0r5w00000V42jCAAR', 'a0r5w00000V42jCAAR', 'a0r5w00000V42jCAAR', 'a0r5w00000V42jCAAR', 'a0r5w00000V42jCAAR', 'a0r5w00000V42jDAAR', 'a0r5w00000V42jDAAR', 'a0r5w00000V42jDAAR', 'a0r5w00000V42jDAAR', 'a0r5w00000V42jDAAR', 'a0r5w00000V42jDAAR', 'a0r5w00000V42jDAAR', 'a0r5w00000V42jDAAR', 'a0r5w00000V42jDAAR', 'a0r5w00000V42jDAAR', 'a0r5w00000V42jDAAR', 'a0r5w00000V42jDAAR', 'a0r5w00000V42jDAAR', 'a0r5w00000V42jDAAR', 'a0r5w00000V42jDAAR', 'a0r5w00000V42jDAAR', 'a0r5w00000V42jDAAR', 'a0r5w00000V42jDAAR', 'a0r5w00000V42jDAAR', 'a0r5w00000V42jDAAR', 'a0r5w00000V42jDAAR', 'a0r5w00000V42jDAAR', 'a0r5w00000V42jDAAR', 'a0r5w00000V42jDAAR', 'a0r5w00000V42jDAAR', 'a0r5w00000V42jDAAR', 'a0r5w00000V42jDAAR', 'a0r5w00000V42jDAAR', 'a0r5w00000V42jDAAR', 'a0r5w00000V42jDAAR', 'a0r5w00000V42jDAAR', 'a0r5w00000V42jDAAR', 'a0r5w00000V42jDAAR', 'a0r5w00000V42jDAAR', 'a0r5w00000V42jDAAR', 'a0r5w00000V42jDAAR', 'a0r5w00000V42jDAAR', 'a0r5w00000V42jDAAR', 'a0r5w00000V42jDAAR', 'a0r5w00000V42jDAAR', 'a0r5w00000V42jDAAR', 'a0r5w00000V42jDAAR', 'a0r5w00000V42jDAAR', 'a0r5w00000V42jDAAR', 'a0r5w00000V42jDAAR', 'a0r5w00000V42jDAAR', 'a0r5w00000V42jDAAR', 'a0r5w00000V42jDAAR', 'a0r5w00000V42jDAAR', 'a0r5w00000V42jDAAR', 'a0r5w00000V42jDAAR', 'a0r5w00000V42jDAAR', 'a0r5w00000V42jDAAR', 'a0r5w00000V42jDAAR', 'a0r5w00000V42jDAAR', 'a0r5w00000V42jDAAR', 'a0r5w00000V42jDAAR', 'a0r5w00000V42jDAAR', 'a0r5w00000V42jDAAR', 'a0r5w00000V42jDAAR', 'a0r5w00000V42jDAAR', 'a0r5w00000V42jDAAR', 'a0r5w00000V42jDAAR', 'a0r5w00000V42jDAAR', 'a0r5w00000V42jDAAR', 'a0r5w00000V42jDAAR', 'a0r5w00000V42jDAAR', 'a0r5w00000V42jDAAR', 'a0r5w00000V42jDAAR', 'a0r5w00000V42jDAAR', 'a0r5w00000V42jDAAR', 'a0r5w00000V42jDAAR', 'a0r5w00000V42jDAAR', 'a0r5w00000V42jDAAR', 'a0r5w00000V42jDAAR', 'a0r5w00000V42jDAAR', 'a0r5w00000V42jDAAR', 'a0r5w00000V42jDAAR', 'a0r5w00000V42jDAAR', 'a0r5w00000V42jDAAR', 'a0r5w00000V42jDAAR', 'a0r5w00000V42jDAAR', 'a0r5w00000V42jDAAR', 'a0r5w00000V42jDAAR', 'a0r5w00000V42jDAAR', 'a0r5w00000V42jDAAR', 'a0r5w00000V42jDAAR', 'a0r5w00000V42jDAAR', 'a0r5w00000V42jDAAR', 'a0r5w00000V42jDAAR', 'a0r5w00000V42jDAAR', 'a0r5w00000V42jDAAR', 'a0r5w00000V42jDAAR', 'a0r5w00000V42jDAAR', 'a0r5w00000V42jDAAR', 'a0r5w00000V42jDAAR', 'a0r5w00000V42jDAAR', 'a0r5w00000V42jDAAR', 'a0r5w00000V42jDAAR', 'a0r5w00000V42jDAAR', 'a0r5w00000V42jDAAR', 'a0r5w00000V42jDAAR', 'a0r5w00000V42jDAAR', 'a0r5w00000V42jDAAR', 'a0r5w00000V42jDAAR', 'a0r5w00000V42jDAAR', 'a0r5w00000V42jDAAR', 'a0r5w00000V42jDAAR', 'a0r5w00000V42jDAAR', 'a0r5w00000V42jDAAR', 'a0r5w00000V42jDAAR', 'a0r5w00000V42jDAAR', 'a0r5w00000V42jDAAR', 'a0r5w00000V42jDAAR', 'a0r5w00000V42jDAAR', 'a0r5w00000V42jDAAR', 'a0r5w00000V42jDAAR', 'a0r5w00000V42jDAAR', 'a0r5w00000V42jDAAR', 'a0r5w00000V42jDAAR', 'a0r5w00000V42jDAAR', 'a0r5w00000V42jDAAR', 'a0r5w00000V42jDAAR', 'a0r5w00000V42jDAAR', 'a0r5w00000V42jDAAR', 'a0r5w00000V42jDAAR', 'a0r5w00000V42jDAAR', 'a0r5w00000V42jDAAR', 'a0r5w00000V42jDAAR', 'a0r5w00000V42jIAAR', 'a0r5w00000V42jIAAR', 'a0r5w00000V42jJAAR', 'a0r5w00000V42jJAAR', 'a0r5w00000V42jJAAR', 'a0r5w00000V42jJAAR', 'a0r5w00000V42jJAAR', 'a0r5w00000V42jJAAR', 'a0r5w00000V42jJAAR', 'a0r5w00000V42jJAAR', 'a0r5w00000V42jJAAR', 'a0r5w00000V42jJAAR', 'a0r5w00000V42jJAAR', 'a0r5w00000V42jJAAR', 'a0r5w00000V42jJAAR', 'a0r5w00000V42jJAAR', 'a0r5w00000V42jJAAR', 'a0r5w00000V42jJAAR', 'a0r5w00000V42jJAAR', 'a0r5w00000V42jJAAR', 'a0r5w00000V42jJAAR', 'a0r5w00000V42jJAAR', 'a0r5w00000V42jJAAR', 'a0r5w00000V42jJAAR', 'a0r5w00000V42jJAAR', 'a0r5w00000V42jJAAR', 'a0r5w00000V42jJAAR', 'a0r5w00000V42jJAAR', 'a0r5w00000V42jJAAR', 'a0r5w00000V42jJAAR', 'a0r5w00000V42jJAAR', 'a0r5w00000V42jJAAR', 'a0r5w00000V42jJAAR', 'a0r5w00000V42jJAAR', 'a0r5w00000V42jMAAR', 'a0r5w00000V42jPAAR', 'a0r5w00000V42jPAAR', 'a0r5w00000V42jPAAR', 'a0r5w00000V42jPAAR', 'a0r5w00000V42jPAAR', 'a0r5w00000V42jPAAR', 'a0r5w00000V42jPAAR', 'a0r5w00000V42jPAAR', 'a0r5w00000V42jPAAR', 'a0r5w00000V42jPAAR', 'a0r5w00000V42jPAAR', 'a0r5w00000V42jPAAR', 'a0r5w00000V42jPAAR', 'a0r5w00000V42jPAAR', 'a0r5w00000V42jPAAR', 'a0r5w00000V42jPAAR', 'a0r5w00000V42jPAAR', 'a0r5w00000V42jPAAR', 'a0r5w00000V42jPAAR', 'a0r5w00000V42jPAAR', 'a0r5w00000V42jPAAR', 'a0r5w00000V42jQAAR', 'a0r5w00000V42jQAAR', 'a0r5w00000V42jQAAR', 'a0r5w00000V42jVAAR', 'a0r5w00000V42jVAAR', 'a0r5w00000V42jVAAR', 'a0r5w00000V42jYAAR', 'a0r5w00000V42jYAAR', 'a0r5w00000V42jYAAR', 'a0r5w00000V42jYAAR', 'a0r5w00000V42jYAAR', 'a0r5w00000V42jYAAR', 'a0r5w00000V42jYAAR', 'a0r5w00000V42jYAAR', 'a0r5w00000V42jYAAR', 'a0r5w00000V42jYAAR', 'a0r5w00000V42jYAAR', 'a0r5w00000V42jYAAR', 'a0r5w00000V42jYAAR', 'a0r5w00000V42jaAAB', 'a0r5w00000V42jbAAB', 'a0r5w00000V42jbAAB', 'a0r5w00000V42jbAAB', 'a0r5w00000V42jbAAB', 'a0r5w00000V42jbAAB', 'a0r5w00000V42jbAAB', 'a0r5w00000V42jfAAB', 'a0r5w00000V42jfAAB', 'a0r5w00000V42jfAAB', 'a0r5w00000V42jfAAB', 'a0r5w00000V42jfAAB', 'a0r5w00000V42jfAAB', 'a0r5w00000V42jfAAB', 'a0r5w00000V42jfAAB', 'a0r5w00000V42jgAAB', 'a0r5w00000V42jgAAB', 'a0r5w00000V42jgAAB', 'a0r5w00000V42jkAAB', 'a0r5w00000V42jkAAB', 'a0r5w00000V42jkAAB', 'a0r5w00000V42jkAAB', 'a0r5w00000V42jkAAB', 'a0r5w00000V42jkAAB', 'a0r5w00000V42jkAAB', 'a0r5w00000V42jkAAB', 'a0r5w00000V42jkAAB', 'a0r5w00000V42jkAAB', 'a0r5w00000V42jpAAB', 'a0r5w00000V42jqAAB', 'a0r5w00000V42jqAAB', 'a0r5w00000V42jqAAB', 'a0r5w00000V42jqAAB', 'a0r5w00000V42jqAAB', 'a0r5w00000V42jqAAB', 'a0r5w00000V42jqAAB', 'a0r5w00000V42jqAAB', 'a0r5w00000V42jvAAB', 'a0r5w00000V42jvAAB', 'a0r5w00000V42jvAAB', 'a0r5w00000V42jvAAB', 'a0r5w00000V42jxAAB', 'a0r5w00000V42jzAAB', 'a0r5w00000V42jzAAB', 'a0r5w00000V42jzAAB', 'a0r5w00000V42jzAAB', 'a0r5w00000V42jzAAB', 'a0r5w00000V42jzAAB', 'a0r5w00000V42k1AAB', 'a0r5w00000V42k8AAB', 'a0r5w00000V42k9AAB', 'a0r5w00000V42k9AAB', 'a0r5w00000V42k9AAB', 'a0r5w00000V42k9AAB', 'a0r5w00000V42k9AAB', 'a0r5w00000V42k9AAB', 'a0r5w00000V42k9AAB', 'a0r5w00000V42k9AAB', 'a0r5w00000V42k9AAB', 'a0r5w00000V42k9AAB', 'a0r5w00000V42k9AAB', 'a0r5w00000V42k9AAB', 'a0r5w00000V42k9AAB', 'a0r5w00000V42k9AAB', 'a0r5w00000V42k9AAB', 'a0r5w00000V42k9AAB', 'a0r5w00000V42k9AAB', 'a0r5w00000V42k9AAB', 'a0r5w00000V42k9AAB', 'a0r5w00000V42k9AAB', 'a0r5w00000V42k9AAB', 'a0r5w00000V42k9AAB', 'a0r5w00000V42k9AAB', 'a0r5w00000V42k9AAB', 'a0r5w00000V42k9AAB', 'a0r5w00000V42k9AAB', 'a0r5w00000V42k9AAB', 'a0r5w00000V42kAAAR', 'a0r5w00000V42kAAAR', 'a0r5w00000V42kAAAR', 'a0r5w00000V42kBAAR', 'a0r5w00000V42kBAAR', 'a0r5w00000V42kDAAR', 'a0r5w00000V42kEAAR', 'a0r5w00000V42kEAAR', 'a0r5w00000V42kEAAR', 'a0r5w00000V42kEAAR', 'a0r5w00000V42kEAAR', 'a0r5w00000V42kEAAR', 'a0r5w00000V42kEAAR', 'a0r5w00000V42kEAAR', 'a0r5w00000V42kEAAR', 'a0r5w00000V42kEAAR', 'a0r5w00000V42kEAAR', 'a0r5w00000V42kEAAR', 'a0r5w00000V42kEAAR', 'a0r5w00000V42kEAAR', 'a0r5w00000V42kEAAR', 'a0r5w00000V42kEAAR', 'a0r5w00000V42kGAAR', 'a0r5w00000V42kGAAR', 'a0r5w00000V42kGAAR', 'a0r5w00000V42kGAAR', 'a0r5w00000V42kGAAR', 'a0r5w00000V42kGAAR', 'a0r5w00000V42kGAAR', 'a0r5w00000V42kGAAR', 'a0r5w00000V42kGAAR', 'a0r5w00000V42kGAAR', 'a0r5w00000V42kGAAR', 'a0r5w00000V42kGAAR', 'a0r5w00000V42kGAAR', 'a0r5w00000V42kGAAR', 'a0r5w00000V42kIAAR', 'a0r5w00000V42kJAAR', 'a0r5w00000V42kJAAR', 'a0r5w00000V42kJAAR', 'a0r5w00000V42kJAAR', 'a0r5w00000V42kMAAR', 'a0r5w00000V42kMAAR', 'a0r5w00000V42kMAAR', 'a0r5w00000V42kMAAR', 'a0r5w00000V42kMAAR', 'a0r5w00000V42kMAAR', 'a0r5w00000V42kMAAR', 'a0r5w00000V42kMAAR', 'a0r5w00000V42kMAAR', 'a0r5w00000V42kTAAR', 'a0r5w00000V42kUAAR', 'a0r5w00000V42kUAAR', 'a0r5w00000V42kUAAR', 'a0r5w00000V42kYAAR', 'a0r5w00000V42kYAAR', 'a0r5w00000V42kYAAR', 'a0r5w00000V42kYAAR', 'a0r5w00000V42kYAAR', 'a0r5w00000V42kYAAR', 'a0r5w00000V42kYAAR', 'a0r5w00000V42kYAAR', 'a0r5w00000V42kYAAR', 'a0r5w00000V42kYAAR', 'a0r5w00000V42kYAAR', 'a0r5w00000V42kYAAR', 'a0r5w00000V42kYAAR', 'a0r5w00000V42kYAAR', 'a0r5w00000V42kYAAR', 'a0r5w00000V42kYAAR', 'a0r5w00000V42kYAAR', 'a0r5w00000V42kYAAR', 'a0r5w00000V42kYAAR', 'a0r5w00000V42kYAAR', 'a0r5w00000V42kYAAR', 'a0r5w00000V42kYAAR', 'a0r5w00000V42kYAAR', 'a0r5w00000V42kYAAR', 'a0r5w00000V42kYAAR', 'a0r5w00000V42kYAAR', 'a0r5w00000V42kYAAR', 'a0r5w00000V42kYAAR', 'a0r5w00000V42kYAAR', 'a0r5w00000V42kYAAR', 'a0r5w00000V42kYAAR', 'a0r5w00000V42kYAAR', 'a0r5w00000V42kYAAR', 'a0r5w00000V42kYAAR', 'a0r5w00000V42kYAAR', 'a0r5w00000V42kYAAR', 'a0r5w00000V42kYAAR', 'a0r5w00000V42kYAAR', 'a0r5w00000V42kYAAR', 'a0r5w00000V42kYAAR', 'a0r5w00000V42kYAAR', 'a0r5w00000V42kYAAR', 'a0r5w00000V42kYAAR', 'a0r5w00000V42kcAAB', 'a0r5w00000V42kcAAB', 'a0r5w00000V42kcAAB', 'a0r5w00000V42kcAAB', 'a0r5w00000V42kcAAB', 'a0r5w00000V42kcAAB', 'a0r5w00000V42kcAAB', 'a0r5w00000V42kcAAB', 'a0r5w00000V42kdAAB', 'a0r5w00000V42kgAAB', 'a0r5w00000V42kgAAB', 'a0r5w00000V42kgAAB', 'a0r5w00000V42kgAAB', 'a0r5w00000V42kgAAB', 'a0r5w00000V42kgAAB', 'a0r5w00000V42kgAAB', 'a0r5w00000V42kgAAB', 'a0r5w00000V42kgAAB', 'a0r5w00000V42kgAAB', 'a0r5w00000V42kgAAB', 'a0r5w00000V42kiAAB', 'a0r5w00000V42kkAAB', 'a0r5w00000V42klAAB', 'a0r5w00000V42klAAB', 'a0r5w00000V42klAAB', 'a0r5w00000V42klAAB', 'a0r5w00000V42klAAB', 'a0r5w00000V42klAAB', 'a0r5w00000V42klAAB', 'a0r5w00000V42klAAB', 'a0r5w00000V42klAAB', 'a0r5w00000V42krAAB', 'a0r5w00000V42krAAB', 'a0r5w00000V42krAAB', 'a0r5w00000V42krAAB', 'a0r5w00000V42krAAB', 'a0r5w00000V42krAAB', 'a0r5w00000V42krAAB', 'a0r5w00000V42krAAB', 'a0r5w00000V42krAAB', 'a0r5w00000V42krAAB', 'a0r5w00000V42krAAB', 'a0r5w00000V42krAAB', 'a0r5w00000V42krAAB', 'a0r5w00000V42krAAB', 'a0r5w00000V42krAAB', 'a0r5w00000V42krAAB', 'a0r5w00000V42krAAB', 'a0r5w00000V42krAAB', 'a0r5w00000V42krAAB', 'a0r5w00000V42krAAB', 'a0r5w00000V42krAAB', 'a0r5w00000V42krAAB', 'a0r5w00000V42krAAB', 'a0r5w00000V42krAAB', 'a0r5w00000V42krAAB', 'a0r5w00000V42krAAB', 'a0r5w00000V42krAAB', 'a0r5w00000V42krAAB', 'a0r5w00000V42krAAB', 'a0r5w00000V42krAAB', 'a0r5w00000V42krAAB', 'a0r5w00000V42krAAB', 'a0r5w00000V42krAAB', 'a0r5w00000V42kxAAB', 'a0r5w00000V42kxAAB', 'a0r5w00000V42kxAAB', 'a0r5w00000V42kxAAB', 'a0r5w00000V42kxAAB', 'a0r5w00000V42kxAAB', 'a0r5w00000V42kxAAB', 'a0r5w00000V42kxAAB', 'a0r5w00000V42kxAAB', 'a0r5w00000V42kxAAB', 'a0r5w00000V42kxAAB', 'a0r5w00000V42kxAAB', 'a0r5w00000V42kxAAB', 'a0r5w00000V42kxAAB', 'a0r5w00000V42kxAAB', 'a0r5w00000V42kxAAB', 'a0r5w00000V42kxAAB', 'a0r5w00000V42kxAAB', 'a0r5w00000V42kxAAB', 'a0r5w00000V42kxAAB', 'a0r5w00000V42kxAAB', 'a0r5w00000V42kxAAB', 'a0r5w00000V42kxAAB', 'a0r5w00000V42kxAAB', 'a0r5w00000V42kxAAB', 'a0r5w00000V42kxAAB', 'a0r5w00000V42kxAAB', 'a0r5w00000V42kxAAB', 'a0r5w00000V42kxAAB', 'a0r5w00000V42kxAAB', 'a0r5w00000V42kxAAB', 'a0r5w00000V42kxAAB', 'a0r5w00000V42l4AAB', 'a0r5w00000V42l4AAB', 'a0r5w00000V42l4AAB', 'a0r5w00000V42l4AAB', 'a0r5w00000V42l4AAB', 'a0r5w00000V42l4AAB', 'a0r5w00000V42l4AAB', 'a0r5w00000V42l4AAB', 'a0r5w00000V42l4AAB', 'a0r5w00000V42l4AAB', 'a0r5w00000V42l5AAB', 'a0r5w00000V42l5AAB', 'a0r5w00000V42l8AAB', 'a0r5w00000V42l8AAB', 'a0r5w00000V42l8AAB', 'a0r5w00000V42l8AAB', 'a0r5w00000V42l8AAB', 'a0r5w00000V42l8AAB', 'a0r5w00000V42l8AAB', 'a0r5w00000V42l8AAB', 'a0r5w00000V42l8AAB', 'a0r5w00000V42l8AAB', 'a0r5w00000V42l8AAB', 'a0r5w00000V42lCAAR', 'a0r5w00000V42lCAAR', 'a0r5w00000V42lCAAR', 'a0r5w00000V42lCAAR', 'a0r5w00000V42lCAAR', 'a0r5w00000V42lDAAR', 'a0r5w00000V42lDAAR', 'a0r5w00000V42lDAAR', 'a0r5w00000V42lDAAR', 'a0r5w00000V42lJAAR', 'a0r5w00000V42lJAAR', 'a0r5w00000V42lJAAR', 'a0r5w00000V42lJAAR', 'a0r5w00000V42lJAAR', 'a0r5w00000V42lJAAR', 'a0r5w00000V42lKAAR', 'a0r5w00000V42lNAAR', 'a0r5w00000V42lNAAR', 'a0r5w00000V42lNAAR', 'a0r5w00000V42lNAAR', 'a0r5w00000V42lNAAR', 'a0r5w00000V42lNAAR', 'a0r5w00000V42lNAAR', 'a0r5w00000V42lNAAR', 'a0r5w00000V42lSAAR', 'a0r5w00000V42lZAAR', 'a0r5w00000V42lbAAB', 'a0r5w00000V42lbAAB', 'a0r5w00000V42lbAAB', 'a0r5w00000V42lbAAB', 'a0r5w00000V42lbAAB', 'a0r5w00000V42lbAAB', 'a0r5w00000V42lbAAB', 'a0r5w00000V42lbAAB', 'a0r5w00000V42lbAAB', 'a0r5w00000V42lbAAB', 'a0r5w00000V42lbAAB', 'a0r5w00000V42lbAAB', 'a0r5w00000V42lbAAB', 'a0r5w00000V42lbAAB', 'a0r5w00000V42lbAAB', 'a0r5w00000V42lbAAB', 'a0r5w00000V42lbAAB', 'a0r5w00000V42lbAAB', 'a0r5w00000V42lbAAB', 'a0r5w00000V42leAAB', 'a0r5w00000V42leAAB', 'a0r5w00000V42liAAB', 'a0r5w00000V42liAAB', 'a0r5w00000V42liAAB', 'a0r5w00000V42liAAB', 'a0r5w00000V42liAAB', 'a0r5w00000V42liAAB', 'a0r5w00000V42liAAB', 'a0r5w00000V42liAAB', 'a0r5w00000V42liAAB', 'a0r5w00000V42liAAB', 'a0r5w00000V42liAAB', 'a0r5w00000V42liAAB', 'a0r5w00000V42liAAB', 'a0r5w00000V42liAAB', 'a0r5w00000V42liAAB', 'a0r5w00000V42liAAB', 'a0r5w00000V42liAAB', 'a0r5w00000V42liAAB', 'a0r5w00000V42liAAB', 'a0r5w00000V42liAAB', 'a0r5w00000V42liAAB', 'a0r5w00000V42liAAB', 'a0r5w00000V42liAAB', 'a0r5w00000V42liAAB', 'a0r5w00000V42liAAB', 'a0r5w00000V42liAAB', 'a0r5w00000V42liAAB', 'a0r5w00000V42liAAB', 'a0r5w00000V42liAAB', 'a0r5w00000V42liAAB', 'a0r5w00000V42liAAB', 'a0r5w00000V42liAAB', 'a0r5w00000V42liAAB', 'a0r5w00000V42liAAB', 'a0r5w00000V42liAAB', 'a0r5w00000V42liAAB', 'a0r5w00000V42liAAB', 'a0r5w00000V42liAAB', 'a0r5w00000V42liAAB', 'a0r5w00000V42liAAB', 'a0r5w00000V42liAAB', 'a0r5w00000V42liAAB', 'a0r5w00000V42liAAB', 'a0r5w00000V42liAAB', 'a0r5w00000V42liAAB', 'a0r5w00000V42liAAB', 'a0r5w00000V42liAAB', 'a0r5w00000V42liAAB', 'a0r5w00000V42liAAB', 'a0r5w00000V42liAAB', 'a0r5w00000V42liAAB', 'a0r5w00000V42liAAB', 'a0r5w00000V42liAAB', 'a0r5w00000V42liAAB', 'a0r5w00000V42liAAB', 'a0r5w00000V42liAAB', 'a0r5w00000V42liAAB', 'a0r5w00000V42liAAB', 'a0r5w00000V42liAAB', 'a0r5w00000V42liAAB', 'a0r5w00000V42liAAB', 'a0r5w00000V42liAAB', 'a0r5w00000V42liAAB', 'a0r5w00000V42liAAB', 'a0r5w00000V42liAAB', 'a0r5w00000V42liAAB', 'a0r5w00000V42liAAB', 'a0r5w00000V42liAAB', 'a0r5w00000V42liAAB', 'a0r5w00000V42liAAB', 'a0r5w00000V42liAAB', 'a0r5w00000V42liAAB', 'a0r5w00000V42liAAB', 'a0r5w00000V42liAAB', 'a0r5w00000V42liAAB', 'a0r5w00000V42liAAB', 'a0r5w00000V42liAAB', 'a0r5w00000V42liAAB', 'a0r5w00000V42liAAB', 'a0r5w00000V42liAAB', 'a0r5w00000V42liAAB', 'a0r5w00000V42liAAB', 'a0r5w00000V42liAAB', 'a0r5w00000V42liAAB', 'a0r5w00000V42liAAB', 'a0r5w00000V42liAAB', 'a0r5w00000V42liAAB', 'a0r5w00000V42liAAB', 'a0r5w00000V42liAAB', 'a0r5w00000V42liAAB', 'a0r5w00000V42liAAB', 'a0r5w00000V42liAAB', 'a0r5w00000V42liAAB', 'a0r5w00000V42liAAB', 'a0r5w00000V42liAAB', 'a0r5w00000V42liAAB', 'a0r5w00000V42liAAB', 'a0r5w00000V42liAAB', 'a0r5w00000V42liAAB', 'a0r5w00000V42liAAB', 'a0r5w00000V42liAAB', 'a0r5w00000V42liAAB', 'a0r5w00000V42liAAB', 'a0r5w00000V42liAAB', 'a0r5w00000V42liAAB', 'a0r5w00000V42liAAB', 'a0r5w00000V42liAAB', 'a0r5w00000V42liAAB', 'a0r5w00000V42liAAB', 'a0r5w00000V42liAAB', 'a0r5w00000V42liAAB', 'a0r5w00000V42liAAB', 'a0r5w00000V42liAAB', 'a0r5w00000V42liAAB', 'a0r5w00000V42liAAB', 'a0r5w00000V42liAAB', 'a0r5w00000V42liAAB', 'a0r5w00000V42liAAB', 'a0r5w00000V42liAAB', 'a0r5w00000V42liAAB', 'a0r5w00000V42liAAB', 'a0r5w00000V42liAAB', 'a0r5w00000V42liAAB', 'a0r5w00000V42liAAB', 'a0r5w00000V42liAAB', 'a0r5w00000V42liAAB', 'a0r5w00000V42liAAB', 'a0r5w00000V42liAAB', 'a0r5w00000V42liAAB', 'a0r5w00000V42liAAB', 'a0r5w00000V42liAAB', 'a0r5w00000V42liAAB', 'a0r5w00000V42liAAB', 'a0r5w00000V42liAAB', 'a0r5w00000V42liAAB', 'a0r5w00000V42liAAB', 'a0r5w00000V42liAAB', 'a0r5w00000V42liAAB', 'a0r5w00000V42liAAB', 'a0r5w00000V42liAAB', 'a0r5w00000V42liAAB', 'a0r5w00000V42liAAB', 'a0r5w00000V42liAAB', 'a0r5w00000V42liAAB', 'a0r5w00000V42liAAB', 'a0r5w00000V42liAAB', 'a0r5w00000V42liAAB', 'a0r5w00000V42liAAB', 'a0r5w00000V42liAAB', 'a0r5w00000V42liAAB', 'a0r5w00000V42liAAB', 'a0r5w00000V42liAAB', 'a0r5w00000V42liAAB', 'a0r5w00000V42liAAB', 'a0r5w00000V42liAAB', 'a0r5w00000V42liAAB', 'a0r5w00000V42liAAB', 'a0r5w00000V42liAAB', 'a0r5w00000V42liAAB', 'a0r5w00000V42liAAB', 'a0r5w00000V42liAAB', 'a0r5w00000V42liAAB', 'a0r5w00000V42liAAB', 'a0r5w00000V42liAAB', 'a0r5w00000V42liAAB', 'a0r5w00000V42liAAB', 'a0r5w00000V42liAAB', 'a0r5w00000V42liAAB', 'a0r5w00000V42liAAB', 'a0r5w00000V42liAAB', 'a0r5w00000V42liAAB', 'a0r5w00000V42liAAB', 'a0r5w00000V42liAAB', 'a0r5w00000V42liAAB', 'a0r5w00000V42liAAB', 'a0r5w00000V42liAAB', 'a0r5w00000V42liAAB', 'a0r5w00000V42liAAB', 'a0r5w00000V42liAAB', 'a0r5w00000V42liAAB', 'a0r5w00000V42liAAB', 'a0r5w00000V42liAAB', 'a0r5w00000V42liAAB', 'a0r5w00000V42liAAB', 'a0r5w00000V42liAAB', 'a0r5w00000V42liAAB', 'a0r5w00000V42liAAB', 'a0r5w00000V42liAAB', 'a0r5w00000V42liAAB', 'a0r5w00000V42liAAB', 'a0r5w00000V42liAAB', 'a0r5w00000V42liAAB', 'a0r5w00000V42liAAB', 'a0r5w00000V42liAAB', 'a0r5w00000V42liAAB', 'a0r5w00000V42liAAB', 'a0r5w00000V42liAAB', 'a0r5w00000V42liAAB', 'a0r5w00000V42liAAB', 'a0r5w00000V42liAAB', 'a0r5w00000V42liAAB', 'a0r5w00000V42liAAB', 'a0r5w00000V42liAAB', 'a0r5w00000V42liAAB', 'a0r5w00000V42liAAB', 'a0r5w00000V42liAAB', 'a0r5w00000V42liAAB', 'a0r5w00000V42liAAB', 'a0r5w00000V42liAAB', 'a0r5w00000V42liAAB', 'a0r5w00000V42liAAB', 'a0r5w00000V42liAAB', 'a0r5w00000V42liAAB', 'a0r5w00000V42liAAB', 'a0r5w00000V42liAAB', 'a0r5w00000V42liAAB', 'a0r5w00000V42liAAB', 'a0r5w00000V42liAAB', 'a0r5w00000V42liAAB', 'a0r5w00000V42liAAB', 'a0r5w00000V42liAAB', 'a0r5w00000V42liAAB', 'a0r5w00000V42liAAB', 'a0r5w00000V42liAAB', 'a0r5w00000V42liAAB', 'a0r5w00000V42liAAB', 'a0r5w00000V42liAAB', 'a0r5w00000V42liAAB', 'a0r5w00000V42liAAB', 'a0r5w00000V42liAAB', 'a0r5w00000V42liAAB', 'a0r5w00000V42liAAB', 'a0r5w00000V42liAAB', 'a0r5w00000V42lkAAB', 'a0r5w00000V42lkAAB', 'a0r5w00000V42lkAAB', 'a0r5w00000V42lkAAB', 'a0r5w00000V42lkAAB', 'a0r5w00000V42lkAAB', 'a0r5w00000V42lkAAB', 'a0r5w00000V42lpAAB', 'a0r5w00000V42lpAAB', 'a0r5w00000V42lpAAB', 'a0r5w00000V42lpAAB', 'a0r5w00000V42lpAAB', 'a0r5w00000V42lpAAB', 'a0r5w00000V42lpAAB', 'a0r5w00000V42lpAAB', 'a0r5w00000V42lpAAB', 'a0r5w00000V42lpAAB', 'a0r5w00000V42lvAAB', 'a0r5w00000V42lvAAB', 'a0r5w00000V42lvAAB', 'a0r5w00000V42lwAAB', 'a0r5w00000V42lwAAB', 'a0r5w00000V42lwAAB', 'a0r5w00000V42m3AAB', 'a0r5w00000V42m3AAB', 'a0r5w00000V42m3AAB', 'a0r5w00000V42m4AAB', 'a0r5w00000V42m4AAB', 'a0r5w00000V42mBAAR', 'a0r5w00000V42mBAAR', 'a0r5w00000V42mDAAR', 'a0r5w00000V42mFAAR', 'a0r5w00000V42mHAAR', 'a0r5w00000V42mHAAR', 'a0r5w00000V42mKAAR', 'a0r5w00000V42mKAAR', 'a0r5w00000V42mNAAR', 'a0r5w00000V42mNAAR', 'a0r5w00000V42mNAAR', 'a0r5w00000V42mNAAR', 'a0r5w00000V42mNAAR', 'a0r5w00000V42mNAAR', 'a0r5w00000V42mRAAR', 'a0r5w00000V42mRAAR', 'a0r5w00000V42mWAAR', 'a0r5w00000V42mbAAB', 'a0r5w00000V42mcAAB', 'a0r5w00000V42mgAAB', 'a0r5w00000V42mgAAB', 'a0r5w00000V42mgAAB', 'a0r5w00000V42mgAAB', 'a0r5w00000V42mgAAB', 'a0r5w00000V42mgAAB', 'a0r5w00000V42mgAAB', 'a0r5w00000V42mgAAB', 'a0r5w00000V42mgAAB', 'a0r5w00000V42mgAAB', 'a0r5w00000V42mhAAB', 'a0r5w00000V42mhAAB', 'a0r5w00000V42mhAAB', 'a0r5w00000V42mnAAB', 'a0r5w00000V42mnAAB', 'a0r5w00000V42n0AAB', 'a0r5w00000V42n0AAB', 'a0r5w00000V42n0AAB', 'a0r5w00000V42n0AAB', 'a0r5w00000V42n0AAB', 'a0r5w00000V42n0AAB', 'a0r5w00000V42nGAAR', 'a0r5w00000V42nGAAR', 'a0r5w00000V42nGAAR', 'a0r5w00000V42nGAAR', 'a0r5w00000V42nGAAR', 'a0r5w00000V42nGAAR', 'a0r5w00000V42nGAAR', 'a0r5w00000V42nGAAR', 'a0r5w00000V42nGAAR', 'a0r5w00000V42nGAAR', 'a0r5w00000V42nGAAR', 'a0r5w00000V42nGAAR', 'a0r5w00000V42nGAAR', 'a0r5w00000V42nGAAR', 'a0r5w00000V42nGAAR', 'a0r5w00000V42nGAAR', 'a0r5w00000V42nGAAR', 'a0r5w00000V42nGAAR', 'a0r5w00000V42nGAAR', 'a0r5w00000V42nVAAR', 'a0r5w00000V42nWAAR', 'a0r5w00000V42nWAAR', 'a0r5w00000V42nWAAR', 'a0r5w00000V42nWAAR', 'a0r5w00000V42nWAAR', 'a0r5w00000V42nWAAR', 'a0r5w00000V42nWAAR', 'a0r5w00000V42nWAAR', 'a0r5w00000V42nWAAR', 'a0r5w00000V42nWAAR', 'a0r5w00000V42nWAAR', 'a0r5w00000V42nWAAR', 'a0r5w00000V42nWAAR', 'a0r5w00000V42nWAAR', 'a0r5w00000V42nWAAR', 'a0r5w00000V42nWAAR', 'a0r5w00000V42nWAAR', 'a0r5w00000V42nWAAR', 'a0r5w00000V42nWAAR', 'a0r5w00000V42nWAAR', 'a0r5w00000V42nWAAR', 'a0r5w00000V42nWAAR', 'a0r5w00000V42nWAAR', 'a0r5w00000V42nWAAR', 'a0r5w00000V42nWAAR', 'a0r5w00000V42nWAAR', 'a0r5w00000V42nWAAR', 'a0r5w00000V42nWAAR', 'a0r5w00000V42nWAAR', 'a0r5w00000V42nWAAR', 'a0r5w00000V42nWAAR', 'a0r5w00000V42nWAAR', 'a0r5w00000V42nWAAR', 'a0r5w00000V42nWAAR', 'a0r5w00000V42nWAAR', 'a0r5w00000V42nWAAR', 'a0r5w00000V42nWAAR', 'a0r5w00000V42nWAAR', 'a0r5w00000V42nWAAR', 'a0r5w00000V42nWAAR', 'a0r5w00000V42nWAAR', 'a0r5w00000V42nWAAR', 'a0r5w00000V42nWAAR', 'a0r5w00000V42nWAAR', 'a0r5w00000V42nWAAR', 'a0r5w00000V42nYAAR', 'a0r5w00000V42nYAAR', 'a0r5w00000V42nYAAR', 'a0r5w00000V42nYAAR', 'a0r5w00000V42nYAAR', 'a0r5w00000V42naAAB', 'a0r5w00000V42naAAB', 'a0r5w00000V42nbAAB', 'a0r5w00000V42nbAAB', 'a0r5w00000V42nbAAB', 'a0r5w00000V42nfAAB', 'a0r5w00000V42nfAAB', 'a0r5w00000V42nfAAB', 'a0r5w00000V42nfAAB', 'a0r5w00000V42nfAAB', 'a0r5w00000V42nfAAB', 'a0r5w00000V42nfAAB', 'a0r5w00000V42nfAAB', 'a0r5w00000V42nfAAB', 'a0r5w00000V42nfAAB', 'a0r5w00000V42nfAAB', 'a0r5w00000V42nfAAB', 'a0r5w00000V42nfAAB', 'a0r5w00000V42nfAAB', 'a0r5w00000V42nuAAB', 'a0r5w00000V42nuAAB', 'a0r5w00000V42nzAAB', 'a0r5w00000V42o5AAB', 'a0r5w00000V42o5AAB', 'a0r5w00000V42o5AAB', 'a0r5w00000V42o5AAB', 'a0r5w00000V42o5AAB', 'a0r5w00000V42o5AAB', 'a0r5w00000V42o5AAB', 'a0r5w00000V42o9AAB', 'a0r5w00000V42o9AAB', 'a0r5w00000V42o9AAB', 'a0r5w00000V42o9AAB', 'a0r5w00000V42o9AAB', 'a0r5w00000V42o9AAB', 'a0r5w00000V42o9AAB', 'a0r5w00000V42o9AAB', 'a0r5w00000V42o9AAB', 'a0r5w00000V42o9AAB', 'a0r5w00000V42o9AAB', 'a0r5w00000V42o9AAB', 'a0r5w00000V42o9AAB', 'a0r5w00000V42o9AAB', 'a0r5w00000V42o9AAB', 'a0r5w00000V42o9AAB', 'a0r5w00000V42o9AAB', 'a0r5w00000V42o9AAB', 'a0r5w00000V42o9AAB', 'a0r5w00000V42o9AAB', 'a0r5w00000V42o9AAB', 'a0r5w00000V42o9AAB', 'a0r5w00000V42o9AAB', 'a0r5w00000V42o9AAB', 'a0r5w00000V42oDAAR', 'a0r5w00000V42oDAAR', 'a0r5w00000V42oDAAR', 'a0r5w00000V42oDAAR', 'a0r5w00000V42oDAAR', 'a0r5w00000V42oDAAR', 'a0r5w00000V42oDAAR', 'a0r5w00000V42oDAAR', 'a0r5w00000V42oDAAR', 'a0r5w00000V42oHAAR', 'a0r5w00000V42oQAAR', 'a0r5w00000V42oQAAR', 'a0r5w00000V42oQAAR', 'a0r5w00000V42oQAAR', 'a0r5w00000V42oQAAR', 'a0r5w00000V42oQAAR', 'a0r5w00000V42oQAAR', 'a0r5w00000V42oQAAR', 'a0r5w00000V42oQAAR', 'a0r5w00000V42oQAAR', 'a0r5w00000V42oQAAR', 'a0r5w00000V42oQAAR', 'a0r5w00000V42oQAAR', 'a0r5w00000V42oQAAR', 'a0r5w00000V42oQAAR', 'a0r5w00000V42oQAAR', 'a0r5w00000V42oQAAR', 'a0r5w00000V42oQAAR', 'a0r5w00000V42oQAAR', 'a0r5w00000V42oQAAR', 'a0r5w00000V42oQAAR', 'a0r5w00000V42oQAAR', 'a0r5w00000V42oQAAR', 'a0r5w00000V42oQAAR', 'a0r5w00000V42oQAAR', 'a0r5w00000V42oQAAR', 'a0r5w00000V42oQAAR', 'a0r5w00000V42ogAAB', 'a0r5w00000V42ogAAB', 'a0r5w00000V42ogAAB', 'a0r5w00000V42ogAAB', 'a0r5w00000V42ogAAB', 'a0r5w00000V42ogAAB', 'a0r5w00000V42ogAAB', 'a0r5w00000V42ogAAB', 'a0r5w00000V42ogAAB', 'a0r5w00000V42ogAAB', 'a0r5w00000V42ogAAB', 'a0r5w00000V42ogAAB', 'a0r5w00000V42ogAAB', 'a0r5w00000V42ogAAB', 'a0r5w00000V42ogAAB', 'a0r5w00000V42ogAAB', 'a0r5w00000V42ogAAB', 'a0r5w00000V42ogAAB', 'a0r5w00000V42ogAAB', 'a0r5w00000V42ogAAB', 'a0r5w00000V42ogAAB', 'a0r5w00000V42ogAAB', 'a0r5w00000V42ogAAB', 'a0r5w00000V42ogAAB', 'a0r5w00000V42ogAAB', 'a0r5w00000V42ogAAB', 'a0r5w00000V42ogAAB', 'a0r5w00000V42ogAAB', 'a0r5w00000V42ogAAB', 'a0r5w00000V42ogAAB', 'a0r5w00000V42ogAAB', 'a0r5w00000V42ogAAB', 'a0r5w00000V42ogAAB', 'a0r5w00000V42ogAAB', 'a0r5w00000V42ogAAB', 'a0r5w00000V42ogAAB', 'a0r5w00000V42ogAAB', 'a0r5w00000V42ogAAB', 'a0r5w00000V42ogAAB', 'a0r5w00000V42ogAAB', 'a0r5w00000V42ohAAB', 'a0r5w00000V42ohAAB', 'a0r5w00000V42ohAAB', 'a0r5w00000V42ohAAB', 'a0r5w00000V42ohAAB', 'a0r5w00000V42okAAB', 'a0r5w00000V42okAAB', 'a0r5w00000V42okAAB', 'a0r5w00000V42okAAB', 'a0r5w00000V42okAAB', 'a0r5w00000V42okAAB', 'a0r5w00000V42okAAB', 'a0r5w00000V42okAAB', 'a0r5w00000V42okAAB', 'a0r5w00000V42okAAB', 'a0r5w00000V42okAAB', 'a0r5w00000V42okAAB', 'a0r5w00000V42okAAB', 'a0r5w00000V42okAAB', 'a0r5w00000V42owAAB', 'a0r5w00000V42owAAB', 'a0r5w00000V42owAAB', 'a0r5w00000V42owAAB', 'a0r5w00000V42owAAB', 'a0r5w00000V42owAAB', 'a0r5w00000V42owAAB', 'a0r5w00000V42owAAB', 'a0r5w00000V42ozAAB', 'a0r5w00000V42ozAAB', 'a0r5w00000V42ozAAB', 'a0r5w00000V42ozAAB', 'a0r5w00000V42ozAAB', 'a0r5w00000V42ozAAB', 'a0r5w00000V42ozAAB', 'a0r5w00000V42ozAAB', 'a0r5w00000V42ozAAB', 'a0r5w00000V42p6AAB', 'a0r5w00000V42pDAAR', 'a0r5w00000V42pDAAR', 'a0r5w00000V42pEAAR', 'a0r5w00000V42pEAAR', 'a0r5w00000V42pEAAR', 'a0r5w00000V42pJAAR', 'a0r5w00000V42pJAAR', 'a0r5w00000V42pJAAR', 'a0r5w00000V42pJAAR', 'a0r5w00000V42pJAAR', 'a0r5w00000V42pJAAR', 'a0r5w00000V42pJAAR', 'a0r5w00000V42pJAAR', 'a0r5w00000V42pJAAR', 'a0r5w00000V42pJAAR', 'a0r5w00000V42pJAAR', 'a0r5w00000V42pJAAR', 'a0r5w00000V42pMAAR', 'a0r5w00000V42pMAAR', 'a0r5w00000V42pMAAR', 'a0r5w00000V42pSAAR', 'a0r5w00000V42pSAAR', 'a0r5w00000V42pSAAR', 'a0r5w00000V42pSAAR', 'a0r5w00000V42pSAAR', 'a0r5w00000V42pSAAR', 'a0r5w00000V42pSAAR', 'a0r5w00000V42pSAAR', 'a0r5w00000V42pSAAR', 'a0r5w00000V42pSAAR', 'a0r5w00000V42pSAAR', 'a0r5w00000V42pSAAR', 'a0r5w00000V42pSAAR', 'a0r5w00000V42pSAAR', 'a0r5w00000V42pSAAR', 'a0r5w00000V42pSAAR', 'a0r5w00000V42pSAAR', 'a0r5w00000V42pSAAR', 'a0r5w00000V42pSAAR', 'a0r5w00000V42pSAAR', 'a0r5w00000V42pSAAR', 'a0r5w00000V42pSAAR', 'a0r5w00000V42pSAAR', 'a0r5w00000V42pSAAR', 'a0r5w00000V42pSAAR', 'a0r5w00000V42pSAAR', 'a0r5w00000V42pSAAR', 'a0r5w00000V42pSAAR', 'a0r5w00000V42pSAAR', 'a0r5w00000V42pSAAR', 'a0r5w00000V42pSAAR', 'a0r5w00000V42pSAAR', 'a0r5w00000V42pSAAR', 'a0r5w00000V42pSAAR', 'a0r5w00000V42pSAAR', 'a0r5w00000V42pSAAR', 'a0r5w00000V42pSAAR', 'a0r5w00000V42pSAAR', 'a0r5w00000V42pSAAR', 'a0r5w00000V42pSAAR', 'a0r5w00000V42pSAAR', 'a0r5w00000V42pSAAR', 'a0r5w00000V42pSAAR', 'a0r5w00000V42pSAAR', 'a0r5w00000V42pSAAR', 'a0r5w00000V42pSAAR', 'a0r5w00000V42pSAAR', 'a0r5w00000V42pSAAR', 'a0r5w00000V42pSAAR', 'a0r5w00000V42pSAAR', 'a0r5w00000V42pSAAR', 'a0r5w00000V42pSAAR', 'a0r5w00000V42pSAAR', 'a0r5w00000V42pTAAR', 'a0r5w00000V42pTAAR', 'a0r5w00000V42pTAAR', 'a0r5w00000V42pTAAR', 'a0r5w00000V42pTAAR', 'a0r5w00000V42pTAAR', 'a0r5w00000V42pTAAR', 'a0r5w00000V42pTAAR', 'a0r5w00000V42pTAAR', 'a0r5w00000V42pTAAR', 'a0r5w00000V42pTAAR', 'a0r5w00000V42pTAAR', 'a0r5w00000V42pTAAR', 'a0r5w00000V42pTAAR', 'a0r5w00000V42pTAAR', 'a0r5w00000V42pTAAR', 'a0r5w00000V42pTAAR', 'a0r5w00000V42pTAAR', 'a0r5w00000V42pVAAR', 'a0r5w00000V42pVAAR', 'a0r5w00000V42pVAAR', 'a0r5w00000V42pVAAR', 'a0r5w00000V42pVAAR', 'a0r5w00000V42pVAAR', 'a0r5w00000V42pWAAR', 'a0r5w00000V42pWAAR', 'a0r5w00000V42pWAAR', 'a0r5w00000V42pWAAR', 'a0r5w00000V42pWAAR', 'a0r5w00000V42pWAAR', 'a0r5w00000V42pWAAR', 'a0r5w00000V42pWAAR', 'a0r5w00000V42pWAAR', 'a0r5w00000V42pWAAR', 'a0r5w00000V42pWAAR', 'a0r5w00000V42pWAAR', 'a0r5w00000V42pWAAR', 'a0r5w00000V42pWAAR', 'a0r5w00000V42pWAAR', 'a0r5w00000V42pWAAR', 'a0r5w00000V42pWAAR', 'a0r5w00000V42pYAAR', 'a0r5w00000V42pYAAR', 'a0r5w00000V42pYAAR', 'a0r5w00000V42pYAAR', 'a0r5w00000V42pYAAR', 'a0r5w00000V42pYAAR', 'a0r5w00000V42pYAAR', 'a0r5w00000V42pYAAR', 'a0r5w00000V42pYAAR', 'a0r5w00000V42pYAAR', 'a0r5w00000V42pYAAR', 'a0r5w00000V42pYAAR', 'a0r5w00000V42pYAAR', 'a0r5w00000V42pYAAR', 'a0r5w00000V42pYAAR', 'a0r5w00000V42peAAB', 'a0r5w00000V42pfAAB', 'a0r5w00000V42pnAAB', 'a0r5w00000V42pvAAB', 'a0r5w00000V42pxAAB', 'a0r5w00000V42pxAAB', 'a0r5w00000V42pxAAB', 'a0r5w00000V42pxAAB', 'a0r5w00000V42pxAAB', 'a0r5w00000V42pxAAB', 'a0r5w00000V42pxAAB', 'a0r5w00000V42pxAAB', 'a0r5w00000V42pxAAB', 'a0r5w00000V42pxAAB', 'a0r5w00000V42pxAAB', 'a0r5w00000V42pxAAB', 'a0r5w00000V42pxAAB', 'a0r5w00000V42pxAAB', 'a0r5w00000V42pxAAB', 'a0r5w00000V42pxAAB', 'a0r5w00000V42pxAAB', 'a0r5w00000V42pxAAB', 'a0r5w00000V42pxAAB', 'a0r5w00000V42pxAAB', 'a0r5w00000V42pxAAB', 'a0r5w00000V42pxAAB', 'a0r5w00000V42pxAAB', 'a0r5w00000V42pxAAB', 'a0r5w00000V42pxAAB', 'a0r5w00000V42pxAAB', 'a0r5w00000V42pxAAB', 'a0r5w00000V42pxAAB', 'a0r5w00000V42pxAAB', 'a0r5w00000V42pxAAB', 'a0r5w00000V42pxAAB', 'a0r5w00000V42pxAAB', 'a0r5w00000V42pxAAB', 'a0r5w00000V42q1AAB', 'a0r5w00000V42q1AAB', 'a0r5w00000V42q1AAB', 'a0r5w00000V42q5AAB', 'a0r5w00000V42q5AAB', 'a0r5w00000V42q5AAB', 'a0r5w00000V42qKAAR', 'a0r5w00000V42qNAAR', 'a0r5w00000V42qNAAR', 'a0r5w00000V42qNAAR', 'a0r5w00000V42qNAAR', 'a0r5w00000V42qOAAR', 'a0r5w00000V42qRAAR', 'a0r5w00000V42qUAAR', 'a0r5w00000V42qUAAR', 'a0r5w00000V42qUAAR', 'a0r5w00000V42qUAAR', 'a0r5w00000V42qUAAR', 'a0r5w00000V42qUAAR', 'a0r5w00000V42qUAAR', 'a0r5w00000V42qVAAR', 'a0r5w00000V42qVAAR', 'a0r5w00000V42qYAAR', 'a0r5w00000V42qYAAR', 'a0r5w00000V42qYAAR', 'a0r5w00000V42qcAAB', 'a0r5w00000V42qcAAB', 'a0r5w00000V42qcAAB', 'a0r5w00000V42qeAAB', 'a0r5w00000V42qeAAB', 'a0r5w00000V42qeAAB', 'a0r5w00000V42qhAAB', 'a0r5w00000V42qhAAB', 'a0r5w00000V42qhAAB', 'a0r5w00000V42qhAAB', 'a0r5w00000V42qhAAB', 'a0r5w00000V42qhAAB', 'a0r5w00000V42qhAAB', 'a0r5w00000V42qhAAB', 'a0r5w00000V42qhAAB', 'a0r5w00000V42qhAAB', 'a0r5w00000V42qhAAB', 'a0r5w00000V42qhAAB', 'a0r5w00000V42qhAAB', 'a0r5w00000V42qhAAB', 'a0r5w00000V42qmAAB', 'a0r5w00000V42qpAAB', 'a0r5w00000V42qpAAB', 'a0r5w00000V42qpAAB', 'a0r5w00000V42qpAAB', 'a0r5w00000V42qpAAB', 'a0r5w00000V42qpAAB', 'a0r5w00000V42qpAAB', 'a0r5w00000V42qpAAB', 'a0r5w00000V42qpAAB', 'a0r5w00000V42qpAAB', 'a0r5w00000V42qpAAB', 'a0r5w00000V42qpAAB', 'a0r5w00000V42qpAAB', 'a0r5w00000V42qpAAB', 'a0r5w00000V42qpAAB', 'a0r5w00000V42qsAAB', 'a0r5w00000V42qsAAB', 'a0r5w00000V42qsAAB', 'a0r5w00000V42qwAAB', 'a0r5w00000V42qyAAB', 'a0r5w00000V42qyAAB', 'a0r5w00000V42qyAAB', 'a0r5w00000V42qyAAB', 'a0r5w00000V42qyAAB', 'a0r5w00000V42qyAAB', 'a0r5w00000V42qyAAB', 'a0r5w00000V42qyAAB', 'a0r5w00000V42qyAAB', 'a0r5w00000V42qyAAB', 'a0r5w00000V42qyAAB', 'a0r5w00000V42qyAAB', 'a0r5w00000V42qyAAB', 'a0r5w00000V42qyAAB', 'a0r5w00000V42qyAAB', 'a0r5w00000V42qyAAB', 'a0r5w00000V42qyAAB', 'a0r5w00000V42qyAAB', 'a0r5w00000V42r2AAB', 'a0r5w00000V42rCAAR', 'a0r5w00000V42rLAAR', 'a0r5w00000V42rLAAR', 'a0r5w00000V42rLAAR', 'a0r5w00000V42rLAAR', 'a0r5w00000V42rLAAR', 'a0r5w00000V42rLAAR', 'a0r5w00000V42rLAAR', 'a0r5w00000V42rLAAR', 'a0r5w00000V42rLAAR', 'a0r5w00000V42rLAAR', 'a0r5w00000V42rVAAR', 'a0r5w00000V42ruAAB', 'a0r5w00000V42s2AAB', 'a0r5w00000V42s2AAB', 'a0r5w00000V42s4AAB', 'a0r5w00000V42s4AAB', 'a0r5w00000V42sFAAR', 'a0r5w00000V42sFAAR', 'a0r5w00000V42sFAAR', 'a0r5w00000V42sFAAR', 'a0r5w00000V42sFAAR', 'a0r5w00000V42sFAAR', 'a0r5w00000V42sFAAR', 'a0r5w00000V42sFAAR', 'a0r5w00000V42sFAAR', 'a0r5w00000V42sFAAR', 'a0r5w00000V42sFAAR', 'a0r5w00000V42sJAAR', 'a0r5w00000V42sKAAR', 'a0r5w00000V42sLAAR', 'a0r5w00000V42sLAAR', 'a0r5w00000V42sLAAR', 'a0r5w00000V42sLAAR', 'a0r5w00000V42sSAAR', 'a0r5w00000V42sSAAR', 'a0r5w00000V42sSAAR', 'a0r5w00000V42sSAAR', 'a0r5w00000V42sSAAR', 'a0r5w00000V42sSAAR', 'a0r5w00000V42sSAAR', 'a0r5w00000V42sSAAR', 'a0r5w00000V42sSAAR', 'a0r5w00000V42sSAAR', 'a0r5w00000V42sSAAR', 'a0r5w00000V42sSAAR', 'a0r5w00000V42sSAAR', 'a0r5w00000V42sfAAB', 'a0r5w00000V42sfAAB', 'a0r5w00000V42sfAAB', 'a0r5w00000V42sfAAB', 'a0r5w00000V42skAAB', 'a0r5w00000V42skAAB', 'a0r5w00000V42skAAB', 'a0r5w00000V42spAAB', 'a0r5w00000V42spAAB', 'a0r5w00000V42spAAB', 'a0r5w00000V42spAAB', 'a0r5w00000V42spAAB', 'a0r5w00000V42spAAB', 'a0r5w00000V42spAAB', 'a0r5w00000V42spAAB', 'a0r5w00000V42spAAB', 'a0r5w00000V42spAAB', 'a0r5w00000V42sqAAB', 'a0r5w00000V42sqAAB', 'a0r5w00000V42sqAAB', 'a0r5w00000V42sqAAB', 'a0r5w00000V42sqAAB', 'a0r5w00000V42sqAAB', 'a0r5w00000V42sqAAB', 'a0r5w00000V42sqAAB', 'a0r5w00000V42sqAAB', 'a0r5w00000V42sqAAB', 'a0r5w00000V42sqAAB', 'a0r5w00000V42sqAAB', 'a0r5w00000V42stAAB', 'a0r5w00000V42stAAB', 'a0r5w00000V42stAAB', 'a0r5w00000V42stAAB', 'a0r5w00000V42stAAB', 'a0r5w00000V42stAAB', 'a0r5w00000V42stAAB', 'a0r5w00000V42stAAB', 'a0r5w00000V42stAAB', 'a0r5w00000V42stAAB', 'a0r5w00000V42stAAB', 'a0r5w00000V42stAAB', 'a0r5w00000V42stAAB', 'a0r5w00000V42stAAB', 'a0r5w00000V42stAAB', 'a0r5w00000V42stAAB', 'a0r5w00000V42stAAB', 'a0r5w00000V42stAAB', 'a0r5w00000V42stAAB', 'a0r5w00000V42stAAB', 'a0r5w00000V42swAAB', 'a0r5w00000V42swAAB', 'a0r5w00000V42swAAB', 'a0r5w00000V42swAAB', 'a0r5w00000V42swAAB', 'a0r5w00000V42tBAAR', 'a0r5w00000V42tBAAR', 'a0r5w00000V42tBAAR', 'a0r5w00000V42tOAAR', 'a0r5w00000V42trAAB', 'a0r5w00000V42tvAAB', 'a0r5w00000V42tvAAB', 'a0r5w00000V42tvAAB', 'a0r5w00000V42tvAAB', 'a0r5w00000V42tvAAB', 'a0r5w00000V42tvAAB', 'a0r5w00000V42txAAB', 'a0r5w00000V42txAAB', 'a0r5w00000V42uOAAR', 'a0r5w00000V42uOAAR', 'a0r5w00000V42uOAAR', 'a0r5w00000V42uOAAR', 'a0r5w00000V42uOAAR', 'a0r5w00000V42uOAAR', 'a0r5w00000V42ugAAB', 'a0r5w00000V42vGAAR', 'a0r5w00000V42vHAAR', 'a0r5w00000V42vgAAB', 'a0r5w00000V42vkAAB', 'a0r5w00000V42vkAAB', 'a0r5w00000V42vrAAB', 'a0r5w00000V42vrAAB', 'a0r5w00000V42vrAAB', 'a0r5w00000V42vrAAB', 'a0r5w00000V42vrAAB', 'a0r5w00000V42vrAAB', 'a0r5w00000V42vrAAB', 'a0r5w00000V42vrAAB', 'a0r5w00000V42vrAAB', 'a0r5w00000V42vrAAB', 'a0r5w00000V42vrAAB', 'a0r5w00000V42vrAAB', 'a0r5w00000V42vrAAB', 'a0r5w00000V42vrAAB', 'a0r5w00000V42vrAAB', 'a0r5w00000V42vrAAB', 'a0r5w00000V42wdAAB', 'a0r5w00000V42wnAAB', 'a0r5w00000V42wnAAB', 'a0r5w00000V42wnAAB', 'a0r5w00000V42wnAAB', 'a0r5w00000V42wnAAB', 'a0r5w00000V42wnAAB', 'a0r5w00000V42wnAAB', 'a0r5w00000V42wqAAB', 'a0r5w00000V42wqAAB', 'a0r5w00000V42wqAAB', 'a0r5w00000V42wqAAB', 'a0r5w00000V42wqAAB', 'a0r5w00000V42wqAAB', 'a0r5w00000V42wqAAB', 'a0r5w00000V42wqAAB', 'a0r5w00000V42wqAAB', 'a0r5w00000V42wqAAB', 'a0r5w00000V42wqAAB', 'a0r5w00000V42wqAAB', 'a0r5w00000V42wqAAB', 'a0r5w00000V42wqAAB', 'a0r5w00000V42wqAAB', 'a0r5w00000V42x0AAB', 'a0r5w00000V42xHAAR', 'a0r5w00000V42xHAAR', 'a0r5w00000V42xHAAR', 'a0r5w00000V42xHAAR', 'a0r5w00000V42xHAAR', 'a0r5w00000V42xHAAR', 'a0r5w00000V42xHAAR', 'a0r5w00000V42xHAAR', 'a0r5w00000V42xLAAR', 'a0r5w00000V42xQAAR', 'a0r5w00000V42xQAAR', 'a0r5w00000V42xkAAB', 'a0r5w00000V42yDAAR', 'a0r5w00000V42yDAAR', 'a0r5w00000V42yDAAR', 'a0r5w00000V42yLAAR', 'a0r5w00000V42yLAAR', 'a0r5w00000V42yLAAR', 'a0r5w00000V42yLAAR', 'a0r5w00000V42z8AAB', 'a0r5w00000V42zaAAB', 'a0r5w00000V42zaAAB', 'a0r5w00000V42ziAAB', 'a0r5w00000V430FAAR', 'a0r5w00000V430bAAB', 'a0r5w00000V430bAAB', 'a0r5w00000V430bAAB', 'a0r5w00000V430bAAB', 'a0r5w00000V430bAAB', 'a0r5w00000V430bAAB', 'a0r5w00000V430bAAB', 'a0r5w00000V430bAAB', 'a0r5w00000V430bAAB', 'a0r5w00000V430bAAB', 'a0r5w00000V430bAAB', 'a0r5w00000V430dAAB', 'a0r5w00000V430dAAB', 'a0r5w00000V430jAAB', 'a0r5w00000V430jAAB', 'a0r5w00000V430jAAB', 'a0r5w00000V430pAAB', 'a0r5w00000V430uAAB', 'a0r5w00000V431CAAR', 'a0r5w00000V431CAAR', 'a0r5w00000V431CAAR', 'a0r5w00000V431CAAR', 'a0r5w00000V431DAAR', 'a0r5w00000V431DAAR', 'a0r5w00000V431DAAR', 'a0r5w00000V431PAAR', 'a0r5w00000V431PAAR', 'a0r5w00000V431aAAB', 'a0r5w00000V431hAAB', 'a0r5w00000V431hAAB', 'a0r5w00000V431hAAB', 'a0r5w00000V431hAAB', 'a0r5w00000V431hAAB', 'a0r5w00000V431hAAB', 'a0r5w00000V431hAAB', 'a0r5w00000V4325AAB', 'a0r5w00000V4325AAB', 'a0r5w00000V432aAAB', 'a0r5w00000V432aAAB', 'a0r5w00000V432lAAB', 'a0r5w00000V432lAAB', 'a0r5w00000V432lAAB', 'a0r5w00000V432lAAB', 'a0r5w00000V432lAAB', 'a0r5w00000V432lAAB', 'a0r5w00000V432lAAB', 'a0r5w00000V432lAAB', 'a0r5w00000V432lAAB', 'a0r5w00000V432lAAB', 'a0r5w00000V432mAAB', 'a0r5w00000V432rAAB', 'a0r5w00000V432vAAB', 'a0r5w00000V432vAAB', 'a0r5w00000V433MAAR', 'a0r5w00000V433WAAR', 'a0r5w00000V433WAAR', 'a0r5w00000V433YAAR', 'a0r5w00000V433YAAR', 'a0r5w00000V433YAAR', 'a0r5w00000V433YAAR', 'a0r5w00000V433YAAR', 'a0r5w00000V433YAAR', 'a0r5w00000V433YAAR', 'a0r5w00000V433YAAR', 'a0r5w00000V433YAAR', 'a0r5w00000V433YAAR', 'a0r5w00000V433YAAR', 'a0r5w00000V433YAAR', 'a0r5w00000V433YAAR', 'a0r5w00000V433YAAR', 'a0r5w00000V433YAAR', 'a0r5w00000V433YAAR', 'a0r5w00000V433YAAR', 'a0r5w00000V433oAAB', 'a0r5w00000V4342AAB', 'a0r5w00000V434AAAR', 'a0r5w00000V434AAAR', 'a0r5w00000V434AAAR', 'a0r5w00000V434GAAR', 'a0r5w00000V434GAAR', 'a0r5w00000V434eAAB', 'a0r5w00000V434eAAB', 'a0r5w00000V434lAAB', 'a0r5w00000V434lAAB', 'a0r5w00000V434nAAB', 'a0r5w00000V434nAAB', 'a0r5w00000V434nAAB', 'a0r5w00000V434nAAB', 'a0r5w00000V435MAAR', 'a0r5w00000V435MAAR', 'a0r5w00000V435MAAR', 'a0r5w00000V435MAAR', 'a0r5w00000V435MAAR', 'a0r5w00000V435MAAR', 'a0r5w00000V435MAAR', 'a0r5w00000V435MAAR', 'a0r5w00000V435MAAR', 'a0r5w00000V435MAAR', 'a0r5w00000V4368AAB', 'a0r5w00000V436HAAR', 'a0r5w00000V436HAAR', 'a0r5w00000V436HAAR', 'a0r5w00000V436HAAR', 'a0r5w00000V436HAAR', 'a0r5w00000V436HAAR', 'a0r5w00000V436HAAR', 'a0r5w00000V436HAAR', 'a0r5w00000V436HAAR', 'a0r5w00000V436KAAR', 'a0r5w00000V436QAAR', 'a0r5w00000V436QAAR', 'a0r5w00000V436QAAR', 'a0r5w00000V436QAAR', 'a0r5w00000V436QAAR', 'a0r5w00000V436QAAR', 'a0r5w00000V436QAAR', 'a0r5w00000V436QAAR', 'a0r5w00000V436QAAR', 'a0r5w00000V436QAAR', 'a0r5w00000V436QAAR', 'a0r5w00000V436QAAR', 'a0r5w00000V436QAAR', 'a0r5w00000V436QAAR', 'a0r5w00000V436QAAR', 'a0r5w00000V436XAAR', 'a0r5w00000V436XAAR', 'a0r5w00000V436XAAR', 'a0r5w00000V436XAAR', 'a0r5w00000V436XAAR', 'a0r5w00000V436XAAR', 'a0r5w00000V436ZAAR', 'a0r5w00000V436ZAAR', 'a0r5w00000V436ZAAR', 'a0r5w00000V436aAAB', 'a0r5w00000V436cAAB', 'a0r5w00000V436wAAB', 'a0r5w00000V437TAAR', 'a0r5w00000V437TAAR', 'a0r5w00000V437TAAR', 'a0r5w00000V437fAAB', 'a0r5w00000V437fAAB', 'a0r5w00000V437fAAB', 'a0r5w00000V437fAAB', 'a0r5w00000V437fAAB', 'a0r5w00000V437fAAB', 'a0r5w00000V437fAAB', 'a0r5w00000V437fAAB', 'a0r5w00000V437fAAB', 'a0r5w00000V437fAAB', 'a0r5w00000V437fAAB', 'a0r5w00000V437fAAB', 'a0r5w00000V437fAAB', 'a0r5w00000V437fAAB', 'a0r5w00000V437fAAB', 'a0r5w00000V437vAAB', 'a0r5w00000V438GAAR', 'a0r5w00000V438bAAB', 'a0r5w00000V438bAAB', 'a0r5w00000V438bAAB', 'a0r5w00000V438bAAB', 'a0r5w00000V438bAAB', 'a0r5w00000V438bAAB', 'a0r5w00000V438bAAB', 'a0r5w00000V438bAAB', 'a0r5w00000V438bAAB', 'a0r5w00000V438bAAB', 'a0r5w00000V438tAAB', 'a0r5w00000V438tAAB', 'a0r5w00000V438zAAB', 'a0r5w00000V439WAAR', 'a0r5w00000V439WAAR', 'a0r5w00000V43AMAAZ', 'a0r5w00000V43ATAAZ', 'a0r5w00000V43AgAAJ', 'a0r5w00000V43AgAAJ', 'a0r5w00000V43AgAAJ', 'a0r5w00000V43AgAAJ', 'a0r5w00000V43AgAAJ', 'a0r5w00000V43AgAAJ', 'a0r5w00000V43AgAAJ', 'a0r5w00000V43AgAAJ', 'a0r5w00000V43AgAAJ', 'a0r5w00000V43AgAAJ', 'a0r5w00000V43AgAAJ', 'a0r5w00000V43AgAAJ', 'a0r5w00000V43AnAAJ', 'a0r5w00000V43AnAAJ', 'a0r5w00000V43AnAAJ', 'a0r5w00000V43AnAAJ', 'a0r5w00000V43AnAAJ', 'a0r5w00000V43AnAAJ', 'a0r5w00000V43BTAAZ', 'a0r5w00000V43BTAAZ', 'a0r5w00000V43BTAAZ', 'a0r5w00000V43BTAAZ', 'a0r5w00000V43BTAAZ', 'a0r5w00000V43BmAAJ', 'a0r5w00000V43CGAAZ', 'a0r5w00000V43CGAAZ', 'a0r5w00000V43CGAAZ', 'a0r5w00000V43CGAAZ', 'a0r5w00000V43CGAAZ', 'a0r5w00000V43CRAAZ', 'a0r5w00000V43CcAAJ', 'a0r5w00000V43CcAAJ', 'a0r5w00000V43CwAAJ', 'a0r5w00000V43CwAAJ', 'a0r5w00000V43D2AAJ', 'a0r5w00000V43DFAAZ', 'a0r5w00000V43DMAAZ', 'a0r5w00000V43DMAAZ', 'a0r5w00000V43DMAAZ', 'a0r5w00000V43DWAAZ', 'a0r5w00000V43DfAAJ', 'a0r5w00000V43DhAAJ', 'a0r5w00000V43DhAAJ', 'a0r5w00000V43EMAAZ', 'a0r5w00000V43EMAAZ', 'a0r5w00000V43EMAAZ', 'a0r5w00000V43EMAAZ', 'a0r5w00000V43ERAAZ', 'a0r5w00000V43EdAAJ', 'a0r5w00000V43FRAAZ', 'a0r5w00000V43GaAAJ', 'a0r5w00000V43H8AAJ', 'a0r5w00000V43HPAAZ', 'a0r5w00000V43HQAAZ', 'a0r5w00000V43HTAAZ', 'a0r5w00000V43HTAAZ', 'a0r5w00000V43HsAAJ', 'a0r5w00000V43IAAAZ', 'a0r5w00000V43IAAAZ', 'a0r5w00000V43IAAAZ', 'a0r5w00000V43IIAAZ', 'a0r5w00000V43IIAAZ', 'a0r5w00000V43IIAAZ', 'a0r5w00000V43IIAAZ', 'a0r5w00000V43IIAAZ', 'a0r5w00000V43IIAAZ', 'a0r5w00000V43IIAAZ', 'a0r5w00000V43IKAAZ', 'a0r5w00000V43IKAAZ', 'a0r5w00000V43IKAAZ', 'a0r5w00000V43IKAAZ', 'a0r5w00000V43IyAAJ', 'a0r5w00000V43IyAAJ', 'a0r5w00000V43IyAAJ', 'a0r5w00000V43IyAAJ', 'a0r5w00000V43IyAAJ', 'a0r5w00000V43IyAAJ', 'a0r5w00000V43IyAAJ', 'a0r5w00000V43IyAAJ', 'a0r5w00000V43IyAAJ', 'a0r5w00000V43IyAAJ', 'a0r5w00000V43JYAAZ', 'a0r5w00000V43JcAAJ', 'a0r5w00000V43JwAAJ', 'a0r5w00000V43KRAAZ', 'a0r5w00000V43KTAAZ', 'a0r5w00000V43KcAAJ', 'a0r5w00000V43KcAAJ', 'a0r5w00000V43L5AAJ', 'a0r5w00000V43L5AAJ', 'a0r5w00000V43L5AAJ', 'a0r5w00000V43LCAAZ', 'a0r5w00000V43LCAAZ', 'a0r5w00000V43LCAAZ', 'a0r5w00000V43LCAAZ', 'a0r5w00000V43LCAAZ', 'a0r5w00000V43LCAAZ', 'a0r5w00000V43LCAAZ', 'a0r5w00000V43LCAAZ', 'a0r5w00000V43LCAAZ', 'a0r5w00000V43LCAAZ', 'a0r5w00000V43LCAAZ', 'a0r5w00000V43LDAAZ', 'a0r5w00000V43LDAAZ', 'a0r5w00000V43LDAAZ', 'a0r5w00000V43LKAAZ', 'a0r5w00000V43LKAAZ', 'a0r5w00000V43LKAAZ', 'a0r5w00000V43LTAAZ', 'a0r5w00000V43LTAAZ', 'a0r5w00000V43LUAAZ', 'a0r5w00000V43LuAAJ', 'a0r5w00000V43MMAAZ', 'a0r5w00000V43MMAAZ', 'a0r5w00000V43MMAAZ', 'a0r5w00000V43MMAAZ', 'a0r5w00000V43MMAAZ', 'a0r5w00000V43MMAAZ', 'a0r5w00000V43MZAAZ', 'a0r5w00000V43MjAAJ', 'a0r5w00000V43MjAAJ', 'a0r5w00000V43MjAAJ', 'a0r5w00000V43MjAAJ', 'a0r5w00000V43MjAAJ', 'a0r5w00000V43MjAAJ', 'a0r5w00000V43MjAAJ', 'a0r5w00000V43MjAAJ', 'a0r5w00000V43MjAAJ', 'a0r5w00000V43MjAAJ', 'a0r5w00000V43MjAAJ', 'a0r5w00000V43MjAAJ', 'a0r5w00000V43MjAAJ', 'a0r5w00000V43MjAAJ', 'a0r5w00000V43MjAAJ', 'a0r5w00000V43MjAAJ', 'a0r5w00000V43MjAAJ', 'a0r5w00000V43MjAAJ', 'a0r5w00000V43MjAAJ', 'a0r5w00000V43MjAAJ', 'a0r5w00000V43MjAAJ', 'a0r5w00000V43MjAAJ', 'a0r5w00000V43MjAAJ', 'a0r5w00000V43MjAAJ', 'a0r5w00000V43MjAAJ', 'a0r5w00000V43MjAAJ', 'a0r5w00000V43MjAAJ', 'a0r5w00000V43MjAAJ', 'a0r5w00000V43MjAAJ', 'a0r5w00000V43MjAAJ', 'a0r5w00000V43MjAAJ', 'a0r5w00000V43MjAAJ', 'a0r5w00000V43MjAAJ', 'a0r5w00000V43MjAAJ', 'a0r5w00000V43MjAAJ', 'a0r5w00000V43MjAAJ', 'a0r5w00000V43MjAAJ', 'a0r5w00000V43MjAAJ', 'a0r5w00000V43MjAAJ', 'a0r5w00000V43MjAAJ', 'a0r5w00000V43MjAAJ', 'a0r5w00000V43MjAAJ', 'a0r5w00000V43MjAAJ', 'a0r5w00000V43MjAAJ', 'a0r5w00000V43MjAAJ', 'a0r5w00000V43MjAAJ', 'a0r5w00000V43MjAAJ', 'a0r5w00000V43MjAAJ', 'a0r5w00000V43MjAAJ', 'a0r5w00000V43MjAAJ', 'a0r5w00000V43MjAAJ', 'a0r5w00000V43MjAAJ', 'a0r5w00000V43MjAAJ', 'a0r5w00000V43MjAAJ', 'a0r5w00000V43MjAAJ', 'a0r5w00000V43MjAAJ', 'a0r5w00000V43MjAAJ', 'a0r5w00000V43MjAAJ', 'a0r5w00000V43MjAAJ', 'a0r5w00000V43MjAAJ', 'a0r5w00000V43MjAAJ', 'a0r5w00000V43MjAAJ', 'a0r5w00000V43MjAAJ', 'a0r5w00000V43MjAAJ', 'a0r5w00000V43MjAAJ', 'a0r5w00000V43MjAAJ', 'a0r5w00000V43MjAAJ', 'a0r5w00000V43MjAAJ', 'a0r5w00000V43MjAAJ', 'a0r5w00000V43MjAAJ', 'a0r5w00000V43MjAAJ', 'a0r5w00000V43MjAAJ', 'a0r5w00000V43MjAAJ', 'a0r5w00000V43MjAAJ', 'a0r5w00000V43MjAAJ', 'a0r5w00000V43MjAAJ', 'a0r5w00000V43MjAAJ', 'a0r5w00000V43MjAAJ', 'a0r5w00000V43MjAAJ', 'a0r5w00000V43MjAAJ', 'a0r5w00000V43MjAAJ', 'a0r5w00000V43MjAAJ', 'a0r5w00000V43MjAAJ', 'a0r5w00000V43MjAAJ', 'a0r5w00000V43MjAAJ', 'a0r5w00000V43MjAAJ', 'a0r5w00000V43MjAAJ', 'a0r5w00000V43MjAAJ', 'a0r5w00000V43MjAAJ', 'a0r5w00000V43MjAAJ', 'a0r5w00000V43MjAAJ', 'a0r5w00000V43MjAAJ', 'a0r5w00000V43MmAAJ', 'a0r5w00000V43N4AAJ', 'a0r5w00000V43N4AAJ', 'a0r5w00000V43N4AAJ', 'a0r5w00000V43N4AAJ', 'a0r5w00000V43N4AAJ', 'a0r5w00000V43N4AAJ', 'a0r5w00000V43N4AAJ', 'a0r5w00000V43N4AAJ', 'a0r5w00000V43NuAAJ', 'a0r5w00000V43NuAAJ', 'a0r5w00000V43NuAAJ', 'a0r5w00000V43NuAAJ', 'a0r5w00000V43O0AAJ', 'a0r5w00000V43O0AAJ', 'a0r5w00000V43O0AAJ', 'a0r5w00000V43O3AAJ', 'a0r5w00000V43O3AAJ', 'a0r5w00000V43OEAAZ', 'a0r5w00000V43OSAAZ', 'a0r5w00000V43OSAAZ', 'a0r5w00000V43OSAAZ', 'a0r5w00000V43OSAAZ', 'a0r5w00000V43OSAAZ', 'a0r5w00000V43OSAAZ', 'a0r5w00000V43OSAAZ', 'a0r5w00000V43OSAAZ', 'a0r5w00000V43OSAAZ', 'a0r5w00000V43OSAAZ', 'a0r5w00000V43OSAAZ', 'a0r5w00000V43OSAAZ', 'a0r5w00000V43OSAAZ', 'a0r5w00000V43OSAAZ', 'a0r5w00000V43OZAAZ', 'a0r5w00000V43OZAAZ', 'a0r5w00000V43OZAAZ', 'a0r5w00000V43OZAAZ', 'a0r5w00000V43OZAAZ', 'a0r5w00000V43OZAAZ', 'a0r5w00000V43OZAAZ', 'a0r5w00000V43OZAAZ', 'a0r5w00000V43OZAAZ', 'a0r5w00000V43OZAAZ', 'a0r5w00000V43OZAAZ', 'a0r5w00000V43OZAAZ', 'a0r5w00000V43OZAAZ', 'a0r5w00000V43OZAAZ', 'a0r5w00000V43OdAAJ', 'a0r5w00000V43OdAAJ', 'a0r5w00000V43OdAAJ', 'a0r5w00000V43OdAAJ', 'a0r5w00000V43OdAAJ', 'a0r5w00000V43OkAAJ', 'a0r5w00000V43OkAAJ', 'a0r5w00000V43OmAAJ', 'a0r5w00000V43OmAAJ', 'a0r5w00000V43OmAAJ', 'a0r5w00000V43PIAAZ', 'a0r5w00000V43PPAAZ', 'a0r5w00000V43PPAAZ', 'a0r5w00000V43PdAAJ', 'a0r5w00000V43PtAAJ', 'a0r5w00000V43PtAAJ', 'a0r5w00000V43Q9AAJ', 'a0r5w00000V43QQAAZ', 'a0r5w00000V43TSAAZ', 'a0r5w00000V43UfAAJ', 'a0r5w00000V43VuAAJ', 'a0r5w00000V43VuAAJ', 'a0r5w00000V43VuAAJ', 'a0r5w00000V43VuAAJ', 'a0r5w00000V43VuAAJ', 'a0r5w00000V43WSAAZ', 'a0r5w00000V43WVAAZ', 'a0r5w00000V43WwAAJ', 'a0r5w00000V43WwAAJ', 'a0r5w00000V43WwAAJ', 'a0r5w00000V43X6AAJ', 'a0r5w00000V43ZLAAZ', 'a0r5w00000V43ZLAAZ', 'a0r5w00000V43ZLAAZ', 'a0r5w00000V43ZSAAZ', 'a0r5w00000V43ZhAAJ', 'a0r5w00000V43abAAB', 'a0r5w00000V43c8AAB', 'a0r5w00000V43c8AAB', 'a0r5w00000V43c8AAB', 'a0r5w00000V4GenAAF', 'a0r5w00000V4GenAAF', 'a0r5w00000V4GenAAF', 'a0r5w00000V4GenAAF', 'a0r5w00000V4GenAAF', 'a0r5w00000V4GenAAF', 'a0r5w00000V4GkGAAV', 'a0r5w00000V4GkGAAV', 'a0r5w00000V4GoqAAF', 'a0r5w00000V4H98AAF', 'a0r5w00000V4H99AAF', 'a0r5w00000V4H99AAF', 'a0r5w00000V4H99AAF', 'a0r5w00000V4H99AAF', 'a0r5w00000V4H99AAF', 'a0r5w00000V4H99AAF', 'a0r5w00000V4H99AAF', 'a0r5w00000V4HAeAAN', 'a0r5w00000V4HAeAAN', 'a0r5w00000V4HBuAAN', 'a0r5w00000V4HBuAAN', 'a0r5w00000V4HBuAAN', 'a0r5w00000V4HBuAAN', 'a0r5w00000V4HBuAAN', 'a0r5w00000V4HBuAAN', 'a0r5w00000V4HBuAAN', 'a0r5w00000V4HBuAAN', 'a0r5w00000V4HBuAAN', 'a0r5w00000V4HBuAAN', 'a0r5w00000V4HBuAAN', 'a0r5w00000V4HBuAAN', 'a0r5w00000VNgG2AAL']\n"
     ]
    }
   ],
   "source": [
    "# find all unique organizations\n",
    "org_sorts = sorted(tool_cluster_df['Organization__c'].dropna().to_list())\n",
    "print(org_sorts)"
   ]
  },
  {
   "cell_type": "code",
   "execution_count": 27,
   "metadata": {},
   "outputs": [],
   "source": [
    "import itertools \n",
    "org_sorts_grouped = itertools.groupby(org_sorts)"
   ]
  },
  {
   "cell_type": "code",
   "execution_count": 28,
   "metadata": {},
   "outputs": [],
   "source": [
    "unique_orgs = []\n",
    "for i,j in enumerate(org_sorts_grouped):\n",
    "    unique_orgs.append(j[0])"
   ]
  },
  {
   "cell_type": "code",
   "execution_count": 31,
   "metadata": {},
   "outputs": [],
   "source": [
    "import numpy as np\n",
    "import datetime"
   ]
  },
  {
   "cell_type": "code",
   "execution_count": 69,
   "metadata": {},
   "outputs": [],
   "source": [
    "# for each organization, determine the earliest date\n",
    "earliest_year = []\n",
    "full_orgs_sf = tool_cluster_df['Organization__c'].to_list()\n",
    "for i,j in enumerate(unique_orgs):\n",
    "    # determine all row indexes in tool_cluster_df that contain said organization\n",
    "    temp = np.in1d(full_orgs_sf,j)\n",
    "    row_inds = np.where(temp == True)\n",
    "    \n",
    "    dt_format = pd.DatetimeIndex(pd.to_datetime(tool_cluster_df['Starting_Date__c']).to_numpy()[row_inds])\n",
    "    earliest_year.append(dt_format[np.argmin(dt_format)].year)"
   ]
  },
  {
   "cell_type": "code",
   "execution_count": 71,
   "metadata": {},
   "outputs": [
    {
     "data": {
      "text/html": [
       "<div>\n",
       "<style scoped>\n",
       "    .dataframe tbody tr th:only-of-type {\n",
       "        vertical-align: middle;\n",
       "    }\n",
       "\n",
       "    .dataframe tbody tr th {\n",
       "        vertical-align: top;\n",
       "    }\n",
       "\n",
       "    .dataframe thead th {\n",
       "        text-align: right;\n",
       "    }\n",
       "</style>\n",
       "<table border=\"1\" class=\"dataframe\">\n",
       "  <thead>\n",
       "    <tr style=\"text-align: right;\">\n",
       "      <th></th>\n",
       "      <th>Organization__c</th>\n",
       "      <th>YearofF__c</th>\n",
       "    </tr>\n",
       "  </thead>\n",
       "  <tbody>\n",
       "    <tr>\n",
       "      <th>0</th>\n",
       "      <td>a0r5w00000V42c0AAB</td>\n",
       "      <td>2006</td>\n",
       "    </tr>\n",
       "    <tr>\n",
       "      <th>1</th>\n",
       "      <td>a0r5w00000V42c1AAB</td>\n",
       "      <td>2010</td>\n",
       "    </tr>\n",
       "    <tr>\n",
       "      <th>2</th>\n",
       "      <td>a0r5w00000V42c3AAB</td>\n",
       "      <td>2014</td>\n",
       "    </tr>\n",
       "    <tr>\n",
       "      <th>3</th>\n",
       "      <td>a0r5w00000V42c4AAB</td>\n",
       "      <td>2020</td>\n",
       "    </tr>\n",
       "    <tr>\n",
       "      <th>4</th>\n",
       "      <td>a0r5w00000V42cBAAR</td>\n",
       "      <td>2008</td>\n",
       "    </tr>\n",
       "  </tbody>\n",
       "</table>\n",
       "</div>"
      ],
      "text/plain": [
       "      Organization__c  YearofF__c\n",
       "0  a0r5w00000V42c0AAB        2006\n",
       "1  a0r5w00000V42c1AAB        2010\n",
       "2  a0r5w00000V42c3AAB        2014\n",
       "3  a0r5w00000V42c4AAB        2020\n",
       "4  a0r5w00000V42cBAAR        2008"
      ]
     },
     "metadata": {},
     "output_type": "display_data"
    },
    {
     "data": {
      "text/html": [
       "<div>\n",
       "<style scoped>\n",
       "    .dataframe tbody tr th:only-of-type {\n",
       "        vertical-align: middle;\n",
       "    }\n",
       "\n",
       "    .dataframe tbody tr th {\n",
       "        vertical-align: top;\n",
       "    }\n",
       "\n",
       "    .dataframe thead th {\n",
       "        text-align: right;\n",
       "    }\n",
       "</style>\n",
       "<table border=\"1\" class=\"dataframe\">\n",
       "  <thead>\n",
       "    <tr style=\"text-align: right;\">\n",
       "      <th></th>\n",
       "      <th>Organization__c</th>\n",
       "      <th>YearofF__c</th>\n",
       "    </tr>\n",
       "  </thead>\n",
       "  <tbody>\n",
       "    <tr>\n",
       "      <th>324</th>\n",
       "      <td>a0r5w00000V4H98AAF</td>\n",
       "      <td>2019</td>\n",
       "    </tr>\n",
       "    <tr>\n",
       "      <th>325</th>\n",
       "      <td>a0r5w00000V4H99AAF</td>\n",
       "      <td>2011</td>\n",
       "    </tr>\n",
       "    <tr>\n",
       "      <th>326</th>\n",
       "      <td>a0r5w00000V4HAeAAN</td>\n",
       "      <td>2017</td>\n",
       "    </tr>\n",
       "    <tr>\n",
       "      <th>327</th>\n",
       "      <td>a0r5w00000V4HBuAAN</td>\n",
       "      <td>2005</td>\n",
       "    </tr>\n",
       "    <tr>\n",
       "      <th>328</th>\n",
       "      <td>a0r5w00000VNgG2AAL</td>\n",
       "      <td>2012</td>\n",
       "    </tr>\n",
       "  </tbody>\n",
       "</table>\n",
       "</div>"
      ],
      "text/plain": [
       "        Organization__c  YearofF__c\n",
       "324  a0r5w00000V4H98AAF        2019\n",
       "325  a0r5w00000V4H99AAF        2011\n",
       "326  a0r5w00000V4HAeAAN        2017\n",
       "327  a0r5w00000V4HBuAAN        2005\n",
       "328  a0r5w00000VNgG2AAL        2012"
      ]
     },
     "metadata": {},
     "output_type": "display_data"
    }
   ],
   "source": [
    "## populate df's column with said entry\n",
    "sf_new_df = pd.DataFrame()\n",
    "sf_new_df['Organization__c'] = unique_orgs\n",
    "sf_new_df['YearofF__c'] = earliest_year\n",
    "display(sf_new_df.head(5))\n",
    "display(sf_new_df.tail(5))"
   ]
  },
  {
   "cell_type": "code",
   "execution_count": 93,
   "metadata": {},
   "outputs": [],
   "source": [
    "## populate total clusters per org\n",
    "org_sorts_grouped = itertools.groupby(org_sorts)"
   ]
  },
  {
   "cell_type": "code",
   "execution_count": 94,
   "metadata": {},
   "outputs": [],
   "source": [
    "counter = 0\n",
    "total_clusters = []\n",
    "for i,j in enumerate(org_sorts_grouped):\n",
    "    total_clusters.append(sum(1 for x in j[1]))\n",
    "    "
   ]
  },
  {
   "cell_type": "code",
   "execution_count": 95,
   "metadata": {},
   "outputs": [
    {
     "data": {
      "text/plain": [
       "329"
      ]
     },
     "execution_count": 95,
     "metadata": {},
     "output_type": "execute_result"
    }
   ],
   "source": [
    "len(total_clusters)"
   ]
  },
  {
   "cell_type": "code",
   "execution_count": 96,
   "metadata": {},
   "outputs": [
    {
     "data": {
      "text/html": [
       "<div>\n",
       "<style scoped>\n",
       "    .dataframe tbody tr th:only-of-type {\n",
       "        vertical-align: middle;\n",
       "    }\n",
       "\n",
       "    .dataframe tbody tr th {\n",
       "        vertical-align: top;\n",
       "    }\n",
       "\n",
       "    .dataframe thead th {\n",
       "        text-align: right;\n",
       "    }\n",
       "</style>\n",
       "<table border=\"1\" class=\"dataframe\">\n",
       "  <thead>\n",
       "    <tr style=\"text-align: right;\">\n",
       "      <th></th>\n",
       "      <th>Organization__c</th>\n",
       "      <th>YearofF__c</th>\n",
       "      <th>Total_Clusters__c</th>\n",
       "    </tr>\n",
       "  </thead>\n",
       "  <tbody>\n",
       "    <tr>\n",
       "      <th>0</th>\n",
       "      <td>a0r5w00000V42c0AAB</td>\n",
       "      <td>2006</td>\n",
       "      <td>7</td>\n",
       "    </tr>\n",
       "    <tr>\n",
       "      <th>1</th>\n",
       "      <td>a0r5w00000V42c1AAB</td>\n",
       "      <td>2010</td>\n",
       "      <td>15</td>\n",
       "    </tr>\n",
       "    <tr>\n",
       "      <th>2</th>\n",
       "      <td>a0r5w00000V42c3AAB</td>\n",
       "      <td>2014</td>\n",
       "      <td>4</td>\n",
       "    </tr>\n",
       "    <tr>\n",
       "      <th>3</th>\n",
       "      <td>a0r5w00000V42c4AAB</td>\n",
       "      <td>2020</td>\n",
       "      <td>1</td>\n",
       "    </tr>\n",
       "    <tr>\n",
       "      <th>4</th>\n",
       "      <td>a0r5w00000V42cBAAR</td>\n",
       "      <td>2008</td>\n",
       "      <td>5</td>\n",
       "    </tr>\n",
       "  </tbody>\n",
       "</table>\n",
       "</div>"
      ],
      "text/plain": [
       "      Organization__c  YearofF__c  Total_Clusters__c\n",
       "0  a0r5w00000V42c0AAB        2006                  7\n",
       "1  a0r5w00000V42c1AAB        2010                 15\n",
       "2  a0r5w00000V42c3AAB        2014                  4\n",
       "3  a0r5w00000V42c4AAB        2020                  1\n",
       "4  a0r5w00000V42cBAAR        2008                  5"
      ]
     },
     "metadata": {},
     "output_type": "display_data"
    },
    {
     "data": {
      "text/html": [
       "<div>\n",
       "<style scoped>\n",
       "    .dataframe tbody tr th:only-of-type {\n",
       "        vertical-align: middle;\n",
       "    }\n",
       "\n",
       "    .dataframe tbody tr th {\n",
       "        vertical-align: top;\n",
       "    }\n",
       "\n",
       "    .dataframe thead th {\n",
       "        text-align: right;\n",
       "    }\n",
       "</style>\n",
       "<table border=\"1\" class=\"dataframe\">\n",
       "  <thead>\n",
       "    <tr style=\"text-align: right;\">\n",
       "      <th></th>\n",
       "      <th>Organization__c</th>\n",
       "      <th>YearofF__c</th>\n",
       "      <th>Total_Clusters__c</th>\n",
       "    </tr>\n",
       "  </thead>\n",
       "  <tbody>\n",
       "    <tr>\n",
       "      <th>324</th>\n",
       "      <td>a0r5w00000V4H98AAF</td>\n",
       "      <td>2019</td>\n",
       "      <td>1</td>\n",
       "    </tr>\n",
       "    <tr>\n",
       "      <th>325</th>\n",
       "      <td>a0r5w00000V4H99AAF</td>\n",
       "      <td>2011</td>\n",
       "      <td>7</td>\n",
       "    </tr>\n",
       "    <tr>\n",
       "      <th>326</th>\n",
       "      <td>a0r5w00000V4HAeAAN</td>\n",
       "      <td>2017</td>\n",
       "      <td>2</td>\n",
       "    </tr>\n",
       "    <tr>\n",
       "      <th>327</th>\n",
       "      <td>a0r5w00000V4HBuAAN</td>\n",
       "      <td>2005</td>\n",
       "      <td>12</td>\n",
       "    </tr>\n",
       "    <tr>\n",
       "      <th>328</th>\n",
       "      <td>a0r5w00000VNgG2AAL</td>\n",
       "      <td>2012</td>\n",
       "      <td>1</td>\n",
       "    </tr>\n",
       "  </tbody>\n",
       "</table>\n",
       "</div>"
      ],
      "text/plain": [
       "        Organization__c  YearofF__c  Total_Clusters__c\n",
       "324  a0r5w00000V4H98AAF        2019                  1\n",
       "325  a0r5w00000V4H99AAF        2011                  7\n",
       "326  a0r5w00000V4HAeAAN        2017                  2\n",
       "327  a0r5w00000V4HBuAAN        2005                 12\n",
       "328  a0r5w00000VNgG2AAL        2012                  1"
      ]
     },
     "metadata": {},
     "output_type": "display_data"
    }
   ],
   "source": [
    "sf_new_df['Total_Clusters__c'] = total_clusters\n",
    "display(sf_new_df.head(5))\n",
    "display(sf_new_df.tail(5))"
   ]
  },
  {
   "cell_type": "code",
   "execution_count": 136,
   "metadata": {},
   "outputs": [],
   "source": [
    "## develop Clusters_Yr2020 and Clusters_Yr2019\n",
    "Clusters_Yr2020 = []\n",
    "Clusters_Yr2019 = []\n",
    "start_dates = pd.to_datetime(tool_cluster_df['Starting_Date__c'])\n",
    "end_dates = pd.to_datetime(tool_cluster_df['Ending_Date__c'])\n",
    "\n",
    "orgs_2020 = tool_cluster_df['Organization__c'][(start_dates >= '2020') & (start_dates < '2021')].reset_index()['Organization__c']\n",
    "orgs_2019 = tool_cluster_df['Organization__c'][(start_dates >= '2019') & (start_dates < '2020')].reset_index()['Organization__c']\n",
    "\n",
    "for i,j in enumerate(unique_orgs):\n",
    "    # find all relevant clusters\n",
    "    Clusters_Yr2020.append(sum([1 for i in np.where(np.in1d(orgs_2020,j) == True)[0]]))\n",
    "    Clusters_Yr2019.append(sum([1 for i in np.where(np.in1d(orgs_2019,j) == True)[0]]))"
   ]
  },
  {
   "cell_type": "code",
   "execution_count": 141,
   "metadata": {},
   "outputs": [],
   "source": [
    "sf_new_df['Clusters_Yr2020__c'] = Clusters_Yr2020\n",
    "sf_new_df['Clusters_Yr2019__c'] = Clusters_Yr2019"
   ]
  },
  {
   "cell_type": "code",
   "execution_count": 144,
   "metadata": {},
   "outputs": [
    {
     "data": {
      "text/html": [
       "<div>\n",
       "<style scoped>\n",
       "    .dataframe tbody tr th:only-of-type {\n",
       "        vertical-align: middle;\n",
       "    }\n",
       "\n",
       "    .dataframe tbody tr th {\n",
       "        vertical-align: top;\n",
       "    }\n",
       "\n",
       "    .dataframe thead th {\n",
       "        text-align: right;\n",
       "    }\n",
       "</style>\n",
       "<table border=\"1\" class=\"dataframe\">\n",
       "  <thead>\n",
       "    <tr style=\"text-align: right;\">\n",
       "      <th></th>\n",
       "      <th>Organization__c</th>\n",
       "      <th>YearofF__c</th>\n",
       "      <th>Total_Clusters__c</th>\n",
       "      <th>Clusters_Yr2020__c</th>\n",
       "      <th>Clusters_Yr2019__c</th>\n",
       "    </tr>\n",
       "  </thead>\n",
       "  <tbody>\n",
       "    <tr>\n",
       "      <th>0</th>\n",
       "      <td>a0r5w00000V42c0AAB</td>\n",
       "      <td>2006</td>\n",
       "      <td>7</td>\n",
       "      <td>1</td>\n",
       "      <td>0</td>\n",
       "    </tr>\n",
       "    <tr>\n",
       "      <th>1</th>\n",
       "      <td>a0r5w00000V42c1AAB</td>\n",
       "      <td>2010</td>\n",
       "      <td>15</td>\n",
       "      <td>4</td>\n",
       "      <td>2</td>\n",
       "    </tr>\n",
       "    <tr>\n",
       "      <th>2</th>\n",
       "      <td>a0r5w00000V42c3AAB</td>\n",
       "      <td>2014</td>\n",
       "      <td>4</td>\n",
       "      <td>0</td>\n",
       "      <td>0</td>\n",
       "    </tr>\n",
       "    <tr>\n",
       "      <th>3</th>\n",
       "      <td>a0r5w00000V42c4AAB</td>\n",
       "      <td>2020</td>\n",
       "      <td>1</td>\n",
       "      <td>1</td>\n",
       "      <td>0</td>\n",
       "    </tr>\n",
       "    <tr>\n",
       "      <th>4</th>\n",
       "      <td>a0r5w00000V42cBAAR</td>\n",
       "      <td>2008</td>\n",
       "      <td>5</td>\n",
       "      <td>0</td>\n",
       "      <td>1</td>\n",
       "    </tr>\n",
       "  </tbody>\n",
       "</table>\n",
       "</div>"
      ],
      "text/plain": [
       "      Organization__c  YearofF__c  Total_Clusters__c  Clusters_Yr2020__c  \\\n",
       "0  a0r5w00000V42c0AAB        2006                  7                   1   \n",
       "1  a0r5w00000V42c1AAB        2010                 15                   4   \n",
       "2  a0r5w00000V42c3AAB        2014                  4                   0   \n",
       "3  a0r5w00000V42c4AAB        2020                  1                   1   \n",
       "4  a0r5w00000V42cBAAR        2008                  5                   0   \n",
       "\n",
       "   Clusters_Yr2019__c  \n",
       "0                   0  \n",
       "1                   2  \n",
       "2                   0  \n",
       "3                   0  \n",
       "4                   1  "
      ]
     },
     "metadata": {},
     "output_type": "display_data"
    },
    {
     "data": {
      "text/html": [
       "<div>\n",
       "<style scoped>\n",
       "    .dataframe tbody tr th:only-of-type {\n",
       "        vertical-align: middle;\n",
       "    }\n",
       "\n",
       "    .dataframe tbody tr th {\n",
       "        vertical-align: top;\n",
       "    }\n",
       "\n",
       "    .dataframe thead th {\n",
       "        text-align: right;\n",
       "    }\n",
       "</style>\n",
       "<table border=\"1\" class=\"dataframe\">\n",
       "  <thead>\n",
       "    <tr style=\"text-align: right;\">\n",
       "      <th></th>\n",
       "      <th>Organization__c</th>\n",
       "      <th>YearofF__c</th>\n",
       "      <th>Total_Clusters__c</th>\n",
       "      <th>Clusters_Yr2020__c</th>\n",
       "      <th>Clusters_Yr2019__c</th>\n",
       "    </tr>\n",
       "  </thead>\n",
       "  <tbody>\n",
       "    <tr>\n",
       "      <th>324</th>\n",
       "      <td>a0r5w00000V4H98AAF</td>\n",
       "      <td>2019</td>\n",
       "      <td>1</td>\n",
       "      <td>0</td>\n",
       "      <td>1</td>\n",
       "    </tr>\n",
       "    <tr>\n",
       "      <th>325</th>\n",
       "      <td>a0r5w00000V4H99AAF</td>\n",
       "      <td>2011</td>\n",
       "      <td>7</td>\n",
       "      <td>0</td>\n",
       "      <td>1</td>\n",
       "    </tr>\n",
       "    <tr>\n",
       "      <th>326</th>\n",
       "      <td>a0r5w00000V4HAeAAN</td>\n",
       "      <td>2017</td>\n",
       "      <td>2</td>\n",
       "      <td>0</td>\n",
       "      <td>1</td>\n",
       "    </tr>\n",
       "    <tr>\n",
       "      <th>327</th>\n",
       "      <td>a0r5w00000V4HBuAAN</td>\n",
       "      <td>2005</td>\n",
       "      <td>12</td>\n",
       "      <td>0</td>\n",
       "      <td>0</td>\n",
       "    </tr>\n",
       "    <tr>\n",
       "      <th>328</th>\n",
       "      <td>a0r5w00000VNgG2AAL</td>\n",
       "      <td>2012</td>\n",
       "      <td>1</td>\n",
       "      <td>0</td>\n",
       "      <td>0</td>\n",
       "    </tr>\n",
       "  </tbody>\n",
       "</table>\n",
       "</div>"
      ],
      "text/plain": [
       "        Organization__c  YearofF__c  Total_Clusters__c  Clusters_Yr2020__c  \\\n",
       "324  a0r5w00000V4H98AAF        2019                  1                   0   \n",
       "325  a0r5w00000V4H99AAF        2011                  7                   0   \n",
       "326  a0r5w00000V4HAeAAN        2017                  2                   0   \n",
       "327  a0r5w00000V4HBuAAN        2005                 12                   0   \n",
       "328  a0r5w00000VNgG2AAL        2012                  1                   0   \n",
       "\n",
       "     Clusters_Yr2019__c  \n",
       "324                   1  \n",
       "325                   1  \n",
       "326                   1  \n",
       "327                   0  \n",
       "328                   0  "
      ]
     },
     "metadata": {},
     "output_type": "display_data"
    }
   ],
   "source": [
    "display(sf_new_df.head(5))\n",
    "display(sf_new_df.tail(5))"
   ]
  },
  {
   "cell_type": "code",
   "execution_count": null,
   "metadata": {},
   "outputs": [],
   "source": [
    "## building ClusteredUsers_2020__c and ClusteredUsers_2019__c"
   ]
  },
  {
   "cell_type": "code",
   "execution_count": 156,
   "metadata": {},
   "outputs": [],
   "source": [
    "## develop Clusters_Yr2020 and Clusters_Yr2019\n",
    "ClusteredUsers_2020__c = []\n",
    "ClusteredUsers_2019__c = []\n",
    "start_dates = pd.to_datetime(tool_cluster_df['Starting_Date__c'])\n",
    "end_dates = pd.to_datetime(tool_cluster_df['Ending_Date__c'])\n",
    "\n",
    "orgs_2020 = tool_cluster_df['Organization__c'][(start_dates >= '2020') & (start_dates < '2021')].reset_index()['Organization__c']\n",
    "orgs_2019 = tool_cluster_df['Organization__c'][(start_dates >= '2019') & (start_dates < '2020')].reset_index()['Organization__c']\n",
    "\n",
    "ids_2020 = tool_cluster_df['Id'][(start_dates >= '2020') & (start_dates < '2021')].reset_index()['Id']\n",
    "ids_2019 = tool_cluster_df['Id'][(start_dates >= '2019') & (start_dates < '2020')].reset_index()['Id']\n",
    "\n",
    "contacts_in_clusters = contacts_in_cluster_df['Tool_Usage_Cluster__c']\n",
    "\n",
    "for i,j in enumerate(unique_orgs):\n",
    "    # find all relevant clusters\n",
    "    temp_2020 = ids_2020[np.where(np.in1d(orgs_2020,j) == True)[0]]\n",
    "    temp_2019 = ids_2019[np.where(np.in1d(orgs_2019,j) == True)[0]]\n",
    "    \n",
    "    #print(np.where(np.in1d(contacts_in_clusters,temp_2020) == True))\n",
    "    #print(np.where(np.in1d(contacts_in_clusters,temp_2019) == True))\n",
    "    \n",
    "    ClusteredUsers_2020__c.append(sum([1 for i in np.where(np.in1d(contacts_in_clusters,temp_2020) == True)[0]]))\n",
    "    ClusteredUsers_2019__c.append(sum([1 for i in np.where(np.in1d(contacts_in_clusters,temp_2019) == True)[0]]))\n",
    "    "
   ]
  },
  {
   "cell_type": "code",
   "execution_count": 159,
   "metadata": {},
   "outputs": [
    {
     "data": {
      "text/html": [
       "<div>\n",
       "<style scoped>\n",
       "    .dataframe tbody tr th:only-of-type {\n",
       "        vertical-align: middle;\n",
       "    }\n",
       "\n",
       "    .dataframe tbody tr th {\n",
       "        vertical-align: top;\n",
       "    }\n",
       "\n",
       "    .dataframe thead th {\n",
       "        text-align: right;\n",
       "    }\n",
       "</style>\n",
       "<table border=\"1\" class=\"dataframe\">\n",
       "  <thead>\n",
       "    <tr style=\"text-align: right;\">\n",
       "      <th></th>\n",
       "      <th>Organization__c</th>\n",
       "      <th>YearofF__c</th>\n",
       "      <th>Total_Clusters__c</th>\n",
       "      <th>Clusters_Yr2020__c</th>\n",
       "      <th>Clusters_Yr2019__c</th>\n",
       "      <th>ClusteredUsers_2020__c</th>\n",
       "      <th>ClusteredUsers_2019__c</th>\n",
       "    </tr>\n",
       "  </thead>\n",
       "  <tbody>\n",
       "    <tr>\n",
       "      <th>0</th>\n",
       "      <td>a0r5w00000V42c0AAB</td>\n",
       "      <td>2006</td>\n",
       "      <td>7</td>\n",
       "      <td>1</td>\n",
       "      <td>0</td>\n",
       "      <td>5</td>\n",
       "      <td>0</td>\n",
       "    </tr>\n",
       "    <tr>\n",
       "      <th>1</th>\n",
       "      <td>a0r5w00000V42c1AAB</td>\n",
       "      <td>2010</td>\n",
       "      <td>15</td>\n",
       "      <td>4</td>\n",
       "      <td>2</td>\n",
       "      <td>54</td>\n",
       "      <td>32</td>\n",
       "    </tr>\n",
       "    <tr>\n",
       "      <th>2</th>\n",
       "      <td>a0r5w00000V42c3AAB</td>\n",
       "      <td>2014</td>\n",
       "      <td>4</td>\n",
       "      <td>0</td>\n",
       "      <td>0</td>\n",
       "      <td>0</td>\n",
       "      <td>0</td>\n",
       "    </tr>\n",
       "    <tr>\n",
       "      <th>3</th>\n",
       "      <td>a0r5w00000V42c4AAB</td>\n",
       "      <td>2020</td>\n",
       "      <td>1</td>\n",
       "      <td>1</td>\n",
       "      <td>0</td>\n",
       "      <td>11</td>\n",
       "      <td>0</td>\n",
       "    </tr>\n",
       "    <tr>\n",
       "      <th>4</th>\n",
       "      <td>a0r5w00000V42cBAAR</td>\n",
       "      <td>2008</td>\n",
       "      <td>5</td>\n",
       "      <td>0</td>\n",
       "      <td>1</td>\n",
       "      <td>0</td>\n",
       "      <td>9</td>\n",
       "    </tr>\n",
       "  </tbody>\n",
       "</table>\n",
       "</div>"
      ],
      "text/plain": [
       "      Organization__c  YearofF__c  Total_Clusters__c  Clusters_Yr2020__c  \\\n",
       "0  a0r5w00000V42c0AAB        2006                  7                   1   \n",
       "1  a0r5w00000V42c1AAB        2010                 15                   4   \n",
       "2  a0r5w00000V42c3AAB        2014                  4                   0   \n",
       "3  a0r5w00000V42c4AAB        2020                  1                   1   \n",
       "4  a0r5w00000V42cBAAR        2008                  5                   0   \n",
       "\n",
       "   Clusters_Yr2019__c  ClusteredUsers_2020__c  ClusteredUsers_2019__c  \n",
       "0                   0                       5                       0  \n",
       "1                   2                      54                      32  \n",
       "2                   0                       0                       0  \n",
       "3                   0                      11                       0  \n",
       "4                   1                       0                       9  "
      ]
     },
     "metadata": {},
     "output_type": "display_data"
    },
    {
     "data": {
      "text/html": [
       "<div>\n",
       "<style scoped>\n",
       "    .dataframe tbody tr th:only-of-type {\n",
       "        vertical-align: middle;\n",
       "    }\n",
       "\n",
       "    .dataframe tbody tr th {\n",
       "        vertical-align: top;\n",
       "    }\n",
       "\n",
       "    .dataframe thead th {\n",
       "        text-align: right;\n",
       "    }\n",
       "</style>\n",
       "<table border=\"1\" class=\"dataframe\">\n",
       "  <thead>\n",
       "    <tr style=\"text-align: right;\">\n",
       "      <th></th>\n",
       "      <th>Organization__c</th>\n",
       "      <th>YearofF__c</th>\n",
       "      <th>Total_Clusters__c</th>\n",
       "      <th>Clusters_Yr2020__c</th>\n",
       "      <th>Clusters_Yr2019__c</th>\n",
       "      <th>ClusteredUsers_2020__c</th>\n",
       "      <th>ClusteredUsers_2019__c</th>\n",
       "    </tr>\n",
       "  </thead>\n",
       "  <tbody>\n",
       "    <tr>\n",
       "      <th>324</th>\n",
       "      <td>a0r5w00000V4H98AAF</td>\n",
       "      <td>2019</td>\n",
       "      <td>1</td>\n",
       "      <td>0</td>\n",
       "      <td>1</td>\n",
       "      <td>0</td>\n",
       "      <td>10</td>\n",
       "    </tr>\n",
       "    <tr>\n",
       "      <th>325</th>\n",
       "      <td>a0r5w00000V4H99AAF</td>\n",
       "      <td>2011</td>\n",
       "      <td>7</td>\n",
       "      <td>0</td>\n",
       "      <td>1</td>\n",
       "      <td>0</td>\n",
       "      <td>24</td>\n",
       "    </tr>\n",
       "    <tr>\n",
       "      <th>326</th>\n",
       "      <td>a0r5w00000V4HAeAAN</td>\n",
       "      <td>2017</td>\n",
       "      <td>2</td>\n",
       "      <td>0</td>\n",
       "      <td>1</td>\n",
       "      <td>0</td>\n",
       "      <td>9</td>\n",
       "    </tr>\n",
       "    <tr>\n",
       "      <th>327</th>\n",
       "      <td>a0r5w00000V4HBuAAN</td>\n",
       "      <td>2005</td>\n",
       "      <td>12</td>\n",
       "      <td>0</td>\n",
       "      <td>0</td>\n",
       "      <td>0</td>\n",
       "      <td>0</td>\n",
       "    </tr>\n",
       "    <tr>\n",
       "      <th>328</th>\n",
       "      <td>a0r5w00000VNgG2AAL</td>\n",
       "      <td>2012</td>\n",
       "      <td>1</td>\n",
       "      <td>0</td>\n",
       "      <td>0</td>\n",
       "      <td>0</td>\n",
       "      <td>0</td>\n",
       "    </tr>\n",
       "  </tbody>\n",
       "</table>\n",
       "</div>"
      ],
      "text/plain": [
       "        Organization__c  YearofF__c  Total_Clusters__c  Clusters_Yr2020__c  \\\n",
       "324  a0r5w00000V4H98AAF        2019                  1                   0   \n",
       "325  a0r5w00000V4H99AAF        2011                  7                   0   \n",
       "326  a0r5w00000V4HAeAAN        2017                  2                   0   \n",
       "327  a0r5w00000V4HBuAAN        2005                 12                   0   \n",
       "328  a0r5w00000VNgG2AAL        2012                  1                   0   \n",
       "\n",
       "     Clusters_Yr2019__c  ClusteredUsers_2020__c  ClusteredUsers_2019__c  \n",
       "324                   1                       0                      10  \n",
       "325                   1                       0                      24  \n",
       "326                   1                       0                       9  \n",
       "327                   0                       0                       0  \n",
       "328                   0                       0                       0  "
      ]
     },
     "metadata": {},
     "output_type": "display_data"
    }
   ],
   "source": [
    "sf_new_df['ClusteredUsers_2020__c'] = ClusteredUsers_2020__c\n",
    "sf_new_df['ClusteredUsers_2019__c'] = ClusteredUsers_2019__c\n",
    "display(sf_new_df.head(5))\n",
    "display(sf_new_df.tail(5))"
   ]
  },
  {
   "cell_type": "code",
   "execution_count": 162,
   "metadata": {},
   "outputs": [],
   "source": [
    "sf_new_df = sf_new_df.rename(columns={'Organization__c':'Id'})"
   ]
  },
  {
   "cell_type": "code",
   "execution_count": 163,
   "metadata": {},
   "outputs": [
    {
     "data": {
      "text/html": [
       "<div>\n",
       "<style scoped>\n",
       "    .dataframe tbody tr th:only-of-type {\n",
       "        vertical-align: middle;\n",
       "    }\n",
       "\n",
       "    .dataframe tbody tr th {\n",
       "        vertical-align: top;\n",
       "    }\n",
       "\n",
       "    .dataframe thead th {\n",
       "        text-align: right;\n",
       "    }\n",
       "</style>\n",
       "<table border=\"1\" class=\"dataframe\">\n",
       "  <thead>\n",
       "    <tr style=\"text-align: right;\">\n",
       "      <th></th>\n",
       "      <th>Id</th>\n",
       "      <th>YearofF__c</th>\n",
       "      <th>Total_Clusters__c</th>\n",
       "      <th>Clusters_Yr2020__c</th>\n",
       "      <th>Clusters_Yr2019__c</th>\n",
       "      <th>ClusteredUsers_2020__c</th>\n",
       "      <th>ClusteredUsers_2019__c</th>\n",
       "    </tr>\n",
       "  </thead>\n",
       "  <tbody>\n",
       "    <tr>\n",
       "      <th>0</th>\n",
       "      <td>a0r5w00000V42c0AAB</td>\n",
       "      <td>2006</td>\n",
       "      <td>7</td>\n",
       "      <td>1</td>\n",
       "      <td>0</td>\n",
       "      <td>5</td>\n",
       "      <td>0</td>\n",
       "    </tr>\n",
       "    <tr>\n",
       "      <th>1</th>\n",
       "      <td>a0r5w00000V42c1AAB</td>\n",
       "      <td>2010</td>\n",
       "      <td>15</td>\n",
       "      <td>4</td>\n",
       "      <td>2</td>\n",
       "      <td>54</td>\n",
       "      <td>32</td>\n",
       "    </tr>\n",
       "    <tr>\n",
       "      <th>2</th>\n",
       "      <td>a0r5w00000V42c3AAB</td>\n",
       "      <td>2014</td>\n",
       "      <td>4</td>\n",
       "      <td>0</td>\n",
       "      <td>0</td>\n",
       "      <td>0</td>\n",
       "      <td>0</td>\n",
       "    </tr>\n",
       "    <tr>\n",
       "      <th>3</th>\n",
       "      <td>a0r5w00000V42c4AAB</td>\n",
       "      <td>2020</td>\n",
       "      <td>1</td>\n",
       "      <td>1</td>\n",
       "      <td>0</td>\n",
       "      <td>11</td>\n",
       "      <td>0</td>\n",
       "    </tr>\n",
       "    <tr>\n",
       "      <th>4</th>\n",
       "      <td>a0r5w00000V42cBAAR</td>\n",
       "      <td>2008</td>\n",
       "      <td>5</td>\n",
       "      <td>0</td>\n",
       "      <td>1</td>\n",
       "      <td>0</td>\n",
       "      <td>9</td>\n",
       "    </tr>\n",
       "    <tr>\n",
       "      <th>...</th>\n",
       "      <td>...</td>\n",
       "      <td>...</td>\n",
       "      <td>...</td>\n",
       "      <td>...</td>\n",
       "      <td>...</td>\n",
       "      <td>...</td>\n",
       "      <td>...</td>\n",
       "    </tr>\n",
       "    <tr>\n",
       "      <th>324</th>\n",
       "      <td>a0r5w00000V4H98AAF</td>\n",
       "      <td>2019</td>\n",
       "      <td>1</td>\n",
       "      <td>0</td>\n",
       "      <td>1</td>\n",
       "      <td>0</td>\n",
       "      <td>10</td>\n",
       "    </tr>\n",
       "    <tr>\n",
       "      <th>325</th>\n",
       "      <td>a0r5w00000V4H99AAF</td>\n",
       "      <td>2011</td>\n",
       "      <td>7</td>\n",
       "      <td>0</td>\n",
       "      <td>1</td>\n",
       "      <td>0</td>\n",
       "      <td>24</td>\n",
       "    </tr>\n",
       "    <tr>\n",
       "      <th>326</th>\n",
       "      <td>a0r5w00000V4HAeAAN</td>\n",
       "      <td>2017</td>\n",
       "      <td>2</td>\n",
       "      <td>0</td>\n",
       "      <td>1</td>\n",
       "      <td>0</td>\n",
       "      <td>9</td>\n",
       "    </tr>\n",
       "    <tr>\n",
       "      <th>327</th>\n",
       "      <td>a0r5w00000V4HBuAAN</td>\n",
       "      <td>2005</td>\n",
       "      <td>12</td>\n",
       "      <td>0</td>\n",
       "      <td>0</td>\n",
       "      <td>0</td>\n",
       "      <td>0</td>\n",
       "    </tr>\n",
       "    <tr>\n",
       "      <th>328</th>\n",
       "      <td>a0r5w00000VNgG2AAL</td>\n",
       "      <td>2012</td>\n",
       "      <td>1</td>\n",
       "      <td>0</td>\n",
       "      <td>0</td>\n",
       "      <td>0</td>\n",
       "      <td>0</td>\n",
       "    </tr>\n",
       "  </tbody>\n",
       "</table>\n",
       "<p>329 rows × 7 columns</p>\n",
       "</div>"
      ],
      "text/plain": [
       "                     Id  YearofF__c  Total_Clusters__c  Clusters_Yr2020__c  \\\n",
       "0    a0r5w00000V42c0AAB        2006                  7                   1   \n",
       "1    a0r5w00000V42c1AAB        2010                 15                   4   \n",
       "2    a0r5w00000V42c3AAB        2014                  4                   0   \n",
       "3    a0r5w00000V42c4AAB        2020                  1                   1   \n",
       "4    a0r5w00000V42cBAAR        2008                  5                   0   \n",
       "..                  ...         ...                ...                 ...   \n",
       "324  a0r5w00000V4H98AAF        2019                  1                   0   \n",
       "325  a0r5w00000V4H99AAF        2011                  7                   0   \n",
       "326  a0r5w00000V4HAeAAN        2017                  2                   0   \n",
       "327  a0r5w00000V4HBuAAN        2005                 12                   0   \n",
       "328  a0r5w00000VNgG2AAL        2012                  1                   0   \n",
       "\n",
       "     Clusters_Yr2019__c  ClusteredUsers_2020__c  ClusteredUsers_2019__c  \n",
       "0                     0                       5                       0  \n",
       "1                     2                      54                      32  \n",
       "2                     0                       0                       0  \n",
       "3                     0                      11                       0  \n",
       "4                     1                       0                       9  \n",
       "..                  ...                     ...                     ...  \n",
       "324                   1                       0                      10  \n",
       "325                   1                       0                      24  \n",
       "326                   1                       0                       9  \n",
       "327                   0                       0                       0  \n",
       "328                   0                       0                       0  \n",
       "\n",
       "[329 rows x 7 columns]"
      ]
     },
     "execution_count": 163,
     "metadata": {},
     "output_type": "execute_result"
    }
   ],
   "source": [
    "sf_new_df"
   ]
  },
  {
   "cell_type": "code",
   "execution_count": 164,
   "metadata": {},
   "outputs": [
    {
     "name": "stdout",
     "output_type": "stream",
     "text": [
      "Obtained Salesforce access token ...... True\n",
      "[Success] Bulk job creation successful. Job ID = 7505w00000TpzIkAAJ\n",
      "hello\n",
      "[Success] CSV upload successful. Job ID = 7505w00000TpzIkAAJ\n",
      "[Success] Closing job successful. Job ID = 7505w00000TpzIkAAJ\n"
     ]
    }
   ],
   "source": [
    "db_s = DB2SalesforceAPI(sf_login_params)\n",
    "\n",
    "db_s.object_id = 'Organization__c'\n",
    "db_s.external_id = 'Id'\n",
    "\n",
    "db_s.send_data(sf_new_df)"
   ]
  },
  {
   "cell_type": "code",
   "execution_count": 165,
   "metadata": {},
   "outputs": [
    {
     "data": {
      "text/plain": [
       "{'id': '7505w00000TpzIkAAJ',\n",
       " 'operation': 'upsert',\n",
       " 'object': 'organization__c',\n",
       " 'createdById': '0055w00000DM5bOAAT',\n",
       " 'createdDate': '2021-02-09T18:52:15.000+0000',\n",
       " 'systemModstamp': '2021-02-09T18:52:20.000+0000',\n",
       " 'state': 'JobComplete',\n",
       " 'externalIdFieldName': 'Id',\n",
       " 'concurrencyMode': 'Parallel',\n",
       " 'contentType': 'CSV',\n",
       " 'apiVersion': 47.0,\n",
       " 'jobType': 'V2Ingest',\n",
       " 'lineEnding': 'LF',\n",
       " 'columnDelimiter': 'COMMA',\n",
       " 'numberRecordsProcessed': 329,\n",
       " 'numberRecordsFailed': 0,\n",
       " 'retries': 0,\n",
       " 'totalProcessingTime': 1184,\n",
       " 'apiActiveProcessingTime': 957,\n",
       " 'apexProcessingTime': 0}"
      ]
     },
     "execution_count": 165,
     "metadata": {},
     "output_type": "execute_result"
    }
   ],
   "source": [
    "db_s.check_bulk_status()"
   ]
  },
  {
   "cell_type": "code",
   "execution_count": null,
   "metadata": {},
   "outputs": [],
   "source": []
  },
  {
   "cell_type": "code",
   "execution_count": null,
   "metadata": {},
   "outputs": [],
   "source": []
  },
  {
   "cell_type": "code",
   "execution_count": null,
   "metadata": {},
   "outputs": [],
   "source": []
  },
  {
   "cell_type": "code",
   "execution_count": null,
   "metadata": {},
   "outputs": [],
   "source": []
  },
  {
   "cell_type": "code",
   "execution_count": null,
   "metadata": {},
   "outputs": [],
   "source": []
  }
 ],
 "metadata": {
  "kernelspec": {
   "display_name": "Python 3",
   "language": "python",
   "name": "python3"
  },
  "language_info": {
   "codemirror_mode": {
    "name": "ipython",
    "version": 3
   },
   "file_extension": ".py",
   "mimetype": "text/x-python",
   "name": "python",
   "nbconvert_exporter": "python",
   "pygments_lexer": "ipython3",
   "version": "3.7.10"
  }
 },
 "nbformat": 4,
 "nbformat_minor": 4
}
