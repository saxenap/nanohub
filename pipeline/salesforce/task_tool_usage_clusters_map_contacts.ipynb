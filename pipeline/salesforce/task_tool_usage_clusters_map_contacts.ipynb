{
 "cells": [
  {
   "cell_type": "markdown",
   "metadata": {},
   "source": [
    "# DB2-Salesforce connector: Tool usage clusters mapping to users"
   ]
  },
  {
   "cell_type": "code",
   "execution_count": 1,
   "metadata": {
    "tags": [
     "parameters"
    ]
   },
   "outputs": [],
   "source": [
    "# API settings\n",
    "api_url = '/services/data/v43.0/sobjects'\n",
    "external_id = 'Name'\n",
    "object_id = 'ContactToolClusterAssociation__c'\n",
    "\n",
    "# login parameters to be handled by Papermill\n",
    "sql_login_params = {\"username\": \"wang2506_ro\", \"password\": \"fnVnwcCS7iT45EsA\"}\n",
    "sf_login_params = {\n",
    "    \"grant_type\": \"password\",\n",
    "    \"client_id\": \"3MVG95jctIhbyCppj0SNJ75IsZ1y8UPGZtSNF4j8FNVXz.De8Lu4jHm3rjRosAtsHy6qjHx3i4S_QbQzvBePG\",\n",
    "    \"client_secret\": \"D1623C6D3607D4FC8004B92C761DFB6C1F70CCD129C5501E357028DFA00F5764\",\n",
    "    \"username\": \"wang159-4j1v@force.com\",\n",
    "    \"password\": \"napoleon0eZ3PQpQqE3C3z4wWqEqKGhQ8\",\n",
    "} #6Cel800D5w000001jiQu8885w0000003U7mRvSj2dp1TvmgHngvv195i9eJLpzFNuMZBHkjibu07pj7Mk18p7MQxBEO318UtbzlBv7BpFQU"
   ]
  },
  {
   "cell_type": "code",
   "execution_count": 2,
   "metadata": {},
   "outputs": [],
   "source": [
    "import sys\n",
    "#sys.path.append(lib_dir)\n",
    "    \n",
    "import pandas as pd\n",
    "import time\n",
    "import datetime\n",
    "\n",
    "from DB2SalesforceAPI import DB2SalesforceAPI"
   ]
  },
  {
   "cell_type": "markdown",
   "metadata": {},
   "source": [
    "## Obtain tool information from DB2 "
   ]
  },
  {
   "cell_type": "code",
   "execution_count": 3,
   "metadata": {},
   "outputs": [],
   "source": [
    "# connect with DB2\n",
    "import sqlalchemy as sql\n",
    "\n",
    "engine = sql.create_engine('mysql+pymysql://%s:%s@127.0.0.1/wang159_myrmekes' \\\n",
    "                                               %(sql_login_params['username'], sql_login_params['password']))\n",
    "\n",
    "class_info_df = pd.read_sql_query('select * from cluster_class_info', engine)\n",
    "students_info_df = pd.read_sql_query('select * from cluster_students_info', engine)\n",
    "\n"
   ]
  },
  {
   "cell_type": "code",
   "execution_count": 4,
   "metadata": {},
   "outputs": [
    {
     "data": {
      "text/html": [
       "<div>\n",
       "<style scoped>\n",
       "    .dataframe tbody tr th:only-of-type {\n",
       "        vertical-align: middle;\n",
       "    }\n",
       "\n",
       "    .dataframe tbody tr th {\n",
       "        vertical-align: top;\n",
       "    }\n",
       "\n",
       "    .dataframe thead th {\n",
       "        text-align: right;\n",
       "    }\n",
       "</style>\n",
       "<table border=\"1\" class=\"dataframe\">\n",
       "  <thead>\n",
       "    <tr style=\"text-align: right;\">\n",
       "      <th></th>\n",
       "      <th>index</th>\n",
       "      <th>user</th>\n",
       "      <th>class_id</th>\n",
       "      <th>parti_rate</th>\n",
       "    </tr>\n",
       "  </thead>\n",
       "  <tbody>\n",
       "    <tr>\n",
       "      <th>0</th>\n",
       "      <td>0</td>\n",
       "      <td>salas</td>\n",
       "      <td>0</td>\n",
       "      <td>1.0</td>\n",
       "    </tr>\n",
       "    <tr>\n",
       "      <th>1</th>\n",
       "      <td>1</td>\n",
       "      <td>trohrbach</td>\n",
       "      <td>0</td>\n",
       "      <td>1.0</td>\n",
       "    </tr>\n",
       "    <tr>\n",
       "      <th>2</th>\n",
       "      <td>2</td>\n",
       "      <td>alqadia</td>\n",
       "      <td>0</td>\n",
       "      <td>1.0</td>\n",
       "    </tr>\n",
       "  </tbody>\n",
       "</table>\n",
       "</div>"
      ],
      "text/plain": [
       "   index       user  class_id  parti_rate\n",
       "0      0      salas         0         1.0\n",
       "1      1  trohrbach         0         1.0\n",
       "2      2    alqadia         0         1.0"
      ]
     },
     "execution_count": 4,
     "metadata": {},
     "output_type": "execute_result"
    }
   ],
   "source": [
    "students_info_df.head(3)"
   ]
  },
  {
   "cell_type": "markdown",
   "metadata": {},
   "source": [
    "## Obtain Salesforce IDs"
   ]
  },
  {
   "cell_type": "code",
   "execution_count": 5,
   "metadata": {},
   "outputs": [
    {
     "name": "stdout",
     "output_type": "stream",
     "text": [
      "Obtained Salesforce access token ...... True\n"
     ]
    }
   ],
   "source": [
    "# create DB2 to Salesforce API object\n",
    "db_s = DB2SalesforceAPI(sf_login_params)"
   ]
  },
  {
   "cell_type": "code",
   "execution_count": 6,
   "metadata": {},
   "outputs": [
    {
     "name": "stdout",
     "output_type": "stream",
     "text": [
      "[Success] Bulk job creation successful. Job ID = 7505w00000Mt5KwAAJ\n",
      "{\"id\":\"7505w00000Mt5KwAAJ\",\"operation\":\"query\",\"object\":\"Contact\",\"createdById\":\"0055w00000ArpYvAAJ\",\"createdDate\":\"2020-06-09T01:54:51.000+0000\",\"systemModstamp\":\"2020-06-09T01:54:52.000+0000\",\"state\":\"InProgress\",\"concurrencyMode\":\"Parallel\",\"contentType\":\"CSV\",\"apiVersion\":47.0,\"jobType\":\"V2Query\",\"lineEnding\":\"LF\",\"columnDelimiter\":\"COMMA\",\"numberRecordsProcessed\":0,\"retries\":0,\"totalProcessingTime\":0}\n",
      "{\"id\":\"7505w00000Mt5KwAAJ\",\"operation\":\"query\",\"object\":\"Contact\",\"createdById\":\"0055w00000ArpYvAAJ\",\"createdDate\":\"2020-06-09T01:54:51.000+0000\",\"systemModstamp\":\"2020-06-09T01:55:01.000+0000\",\"state\":\"JobComplete\",\"concurrencyMode\":\"Parallel\",\"contentType\":\"CSV\",\"apiVersion\":47.0,\"jobType\":\"V2Query\",\"lineEnding\":\"LF\",\"columnDelimiter\":\"COMMA\",\"numberRecordsProcessed\":218066,\"retries\":0,\"totalProcessingTime\":8618}\n",
      "[Success] Bulk job completed successfully.\n"
     ]
    }
   ],
   "source": [
    "# query the Salesforce IDs for contacts and citations. when updating junction objects, these IDs must be used\n",
    "\n",
    "# get Salesforce ID for contacts\n",
    "sf_username_df = db_s.query_data('SELECT Id, nanoHUB_username__c FROM Contact where nanoHUB_username__c != NULL')"
   ]
  },
  {
   "cell_type": "code",
   "execution_count": 7,
   "metadata": {},
   "outputs": [
    {
     "name": "stdout",
     "output_type": "stream",
     "text": [
      "[Success] Bulk job creation successful. Job ID = 7505w00000Mt5EJAAZ\n",
      "{\"id\":\"7505w00000Mt5EJAAZ\",\"operation\":\"query\",\"object\":\"tool_usage_cluster__c\",\"createdById\":\"0055w00000ArpYvAAJ\",\"createdDate\":\"2020-06-09T01:55:08.000+0000\",\"systemModstamp\":\"2020-06-09T01:55:08.000+0000\",\"state\":\"UploadComplete\",\"concurrencyMode\":\"Parallel\",\"contentType\":\"CSV\",\"apiVersion\":47.0,\"jobType\":\"V2Query\",\"lineEnding\":\"LF\",\"columnDelimiter\":\"COMMA\",\"retries\":0,\"totalProcessingTime\":0}\n",
      "{\"id\":\"7505w00000Mt5EJAAZ\",\"operation\":\"query\",\"object\":\"tool_usage_cluster__c\",\"createdById\":\"0055w00000ArpYvAAJ\",\"createdDate\":\"2020-06-09T01:55:08.000+0000\",\"systemModstamp\":\"2020-06-09T01:55:08.000+0000\",\"state\":\"UploadComplete\",\"concurrencyMode\":\"Parallel\",\"contentType\":\"CSV\",\"apiVersion\":47.0,\"jobType\":\"V2Query\",\"lineEnding\":\"LF\",\"columnDelimiter\":\"COMMA\",\"retries\":0,\"totalProcessingTime\":0}\n",
      "{\"id\":\"7505w00000Mt5EJAAZ\",\"operation\":\"query\",\"object\":\"tool_usage_cluster__c\",\"createdById\":\"0055w00000ArpYvAAJ\",\"createdDate\":\"2020-06-09T01:55:08.000+0000\",\"systemModstamp\":\"2020-06-09T01:55:27.000+0000\",\"state\":\"InProgress\",\"concurrencyMode\":\"Parallel\",\"contentType\":\"CSV\",\"apiVersion\":47.0,\"jobType\":\"V2Query\",\"lineEnding\":\"LF\",\"columnDelimiter\":\"COMMA\",\"numberRecordsProcessed\":0,\"retries\":0,\"totalProcessingTime\":0}\n",
      "{\"id\":\"7505w00000Mt5EJAAZ\",\"operation\":\"query\",\"object\":\"tool_usage_cluster__c\",\"createdById\":\"0055w00000ArpYvAAJ\",\"createdDate\":\"2020-06-09T01:55:08.000+0000\",\"systemModstamp\":\"2020-06-09T01:55:33.000+0000\",\"state\":\"JobComplete\",\"concurrencyMode\":\"Parallel\",\"contentType\":\"CSV\",\"apiVersion\":47.0,\"jobType\":\"V2Query\",\"lineEnding\":\"LF\",\"columnDelimiter\":\"COMMA\",\"numberRecordsProcessed\":3534,\"retries\":0,\"totalProcessingTime\":416}\n",
      "[Success] Bulk job completed successfully.\n"
     ]
    }
   ],
   "source": [
    "# get Salesforce ID for citations\n",
    "sf_clusterID_df = db_s.query_data('SELECT Id, ID__c FROM tool_usage_cluster__c')\n",
    "\n",
    "sf_clusterID_df['ID__c'] = sf_clusterID_df['ID__c'].astype('int')"
   ]
  },
  {
   "cell_type": "markdown",
   "metadata": {},
   "source": [
    "## Match data with Salesforce format"
   ]
  },
  {
   "cell_type": "code",
   "execution_count": 8,
   "metadata": {},
   "outputs": [
    {
     "data": {
      "text/html": [
       "<div>\n",
       "<style scoped>\n",
       "    .dataframe tbody tr th:only-of-type {\n",
       "        vertical-align: middle;\n",
       "    }\n",
       "\n",
       "    .dataframe tbody tr th {\n",
       "        vertical-align: top;\n",
       "    }\n",
       "\n",
       "    .dataframe thead th {\n",
       "        text-align: right;\n",
       "    }\n",
       "</style>\n",
       "<table border=\"1\" class=\"dataframe\">\n",
       "  <thead>\n",
       "    <tr style=\"text-align: right;\">\n",
       "      <th></th>\n",
       "      <th>index</th>\n",
       "      <th>user</th>\n",
       "      <th>class_id</th>\n",
       "      <th>parti_rate</th>\n",
       "    </tr>\n",
       "  </thead>\n",
       "  <tbody>\n",
       "    <tr>\n",
       "      <th>0</th>\n",
       "      <td>0</td>\n",
       "      <td>salas</td>\n",
       "      <td>0</td>\n",
       "      <td>1.0</td>\n",
       "    </tr>\n",
       "    <tr>\n",
       "      <th>1</th>\n",
       "      <td>1</td>\n",
       "      <td>trohrbach</td>\n",
       "      <td>0</td>\n",
       "      <td>1.0</td>\n",
       "    </tr>\n",
       "  </tbody>\n",
       "</table>\n",
       "</div>"
      ],
      "text/plain": [
       "   index       user  class_id  parti_rate\n",
       "0      0      salas         0         1.0\n",
       "1      1  trohrbach         0         1.0"
      ]
     },
     "metadata": {},
     "output_type": "display_data"
    },
    {
     "data": {
      "text/html": [
       "<div>\n",
       "<style scoped>\n",
       "    .dataframe tbody tr th:only-of-type {\n",
       "        vertical-align: middle;\n",
       "    }\n",
       "\n",
       "    .dataframe tbody tr th {\n",
       "        vertical-align: top;\n",
       "    }\n",
       "\n",
       "    .dataframe thead th {\n",
       "        text-align: right;\n",
       "    }\n",
       "</style>\n",
       "<table border=\"1\" class=\"dataframe\">\n",
       "  <thead>\n",
       "    <tr style=\"text-align: right;\">\n",
       "      <th></th>\n",
       "      <th>Id</th>\n",
       "      <th>nanoHUB_username__c</th>\n",
       "    </tr>\n",
       "  </thead>\n",
       "  <tbody>\n",
       "    <tr>\n",
       "      <th>0</th>\n",
       "      <td>0035w000031Vsp1AAC</td>\n",
       "      <td>hubrepo</td>\n",
       "    </tr>\n",
       "    <tr>\n",
       "      <th>1</th>\n",
       "      <td>0035w000031Vsp2AAC</td>\n",
       "      <td>support</td>\n",
       "    </tr>\n",
       "  </tbody>\n",
       "</table>\n",
       "</div>"
      ],
      "text/plain": [
       "                   Id nanoHUB_username__c\n",
       "0  0035w000031Vsp1AAC             hubrepo\n",
       "1  0035w000031Vsp2AAC             support"
      ]
     },
     "metadata": {},
     "output_type": "display_data"
    },
    {
     "data": {
      "text/html": [
       "<div>\n",
       "<style scoped>\n",
       "    .dataframe tbody tr th:only-of-type {\n",
       "        vertical-align: middle;\n",
       "    }\n",
       "\n",
       "    .dataframe tbody tr th {\n",
       "        vertical-align: top;\n",
       "    }\n",
       "\n",
       "    .dataframe thead th {\n",
       "        text-align: right;\n",
       "    }\n",
       "</style>\n",
       "<table border=\"1\" class=\"dataframe\">\n",
       "  <thead>\n",
       "    <tr style=\"text-align: right;\">\n",
       "      <th></th>\n",
       "      <th>ID__c</th>\n",
       "      <th>Id</th>\n",
       "    </tr>\n",
       "  </thead>\n",
       "  <tbody>\n",
       "    <tr>\n",
       "      <th>0</th>\n",
       "      <td>0</td>\n",
       "      <td>a0w5w000009Q7CqAAK</td>\n",
       "    </tr>\n",
       "    <tr>\n",
       "      <th>1</th>\n",
       "      <td>1</td>\n",
       "      <td>a0w5w000009Q7CrAAK</td>\n",
       "    </tr>\n",
       "  </tbody>\n",
       "</table>\n",
       "</div>"
      ],
      "text/plain": [
       "   ID__c                  Id\n",
       "0      0  a0w5w000009Q7CqAAK\n",
       "1      1  a0w5w000009Q7CrAAK"
      ]
     },
     "metadata": {},
     "output_type": "display_data"
    }
   ],
   "source": [
    "# Display\n",
    "display(students_info_df.head(2))\n",
    "display(sf_username_df.head(2))\n",
    "display(sf_clusterID_df.head(2))"
   ]
  },
  {
   "cell_type": "code",
   "execution_count": 9,
   "metadata": {},
   "outputs": [
    {
     "data": {
      "text/html": [
       "<div>\n",
       "<style scoped>\n",
       "    .dataframe tbody tr th:only-of-type {\n",
       "        vertical-align: middle;\n",
       "    }\n",
       "\n",
       "    .dataframe tbody tr th {\n",
       "        vertical-align: top;\n",
       "    }\n",
       "\n",
       "    .dataframe thead th {\n",
       "        text-align: right;\n",
       "    }\n",
       "</style>\n",
       "<table border=\"1\" class=\"dataframe\">\n",
       "  <thead>\n",
       "    <tr style=\"text-align: right;\">\n",
       "      <th></th>\n",
       "      <th>index</th>\n",
       "      <th>user</th>\n",
       "      <th>class_id</th>\n",
       "      <th>parti_rate</th>\n",
       "      <th>SF_ID_contact</th>\n",
       "      <th>nanoHUB_username__c</th>\n",
       "      <th>ID__c</th>\n",
       "      <th>SF_ID_cluster</th>\n",
       "    </tr>\n",
       "  </thead>\n",
       "  <tbody>\n",
       "    <tr>\n",
       "      <th>0</th>\n",
       "      <td>0</td>\n",
       "      <td>salas</td>\n",
       "      <td>0</td>\n",
       "      <td>1.0</td>\n",
       "      <td>0035w000034Jm4mAAC</td>\n",
       "      <td>salas</td>\n",
       "      <td>0</td>\n",
       "      <td>a0w5w000009Q7CqAAK</td>\n",
       "    </tr>\n",
       "    <tr>\n",
       "      <th>1</th>\n",
       "      <td>1</td>\n",
       "      <td>trohrbach</td>\n",
       "      <td>0</td>\n",
       "      <td>1.0</td>\n",
       "      <td>0035w000034Jm55AAC</td>\n",
       "      <td>trohrbach</td>\n",
       "      <td>0</td>\n",
       "      <td>a0w5w000009Q7CqAAK</td>\n",
       "    </tr>\n",
       "  </tbody>\n",
       "</table>\n",
       "</div>"
      ],
      "text/plain": [
       "   index       user  class_id  parti_rate       SF_ID_contact  \\\n",
       "0      0      salas         0         1.0  0035w000034Jm4mAAC   \n",
       "1      1  trohrbach         0         1.0  0035w000034Jm55AAC   \n",
       "\n",
       "  nanoHUB_username__c  ID__c       SF_ID_cluster  \n",
       "0               salas      0  a0w5w000009Q7CqAAK  \n",
       "1           trohrbach      0  a0w5w000009Q7CqAAK  "
      ]
     },
     "execution_count": 9,
     "metadata": {},
     "output_type": "execute_result"
    }
   ],
   "source": [
    "# merge dataframes\n",
    "cc_tolink_df = pd.merge(students_info_df, sf_username_df, how='inner', left_on='user', right_on='nanoHUB_username__c')\\\n",
    "                           .rename(columns={'Id':'SF_ID_contact'})\n",
    "\n",
    "cc_tolink_df = pd.merge(cc_tolink_df, sf_clusterID_df, how='inner', left_on='class_id', right_on='ID__c')\\\n",
    "                           .rename(columns={'Id':'SF_ID_cluster'})\n",
    "\n",
    "# display\n",
    "cc_tolink_df.head(2)"
   ]
  },
  {
   "cell_type": "code",
   "execution_count": 10,
   "metadata": {},
   "outputs": [],
   "source": [
    "# create a new column for object name\n",
    "cc_tolink_df['Name'] = cc_tolink_df.apply(lambda x: '%s_%d'%(x.nanoHUB_username__c, x.ID__c), axis=1)"
   ]
  },
  {
   "cell_type": "code",
   "execution_count": 11,
   "metadata": {},
   "outputs": [
    {
     "data": {
      "text/html": [
       "<div>\n",
       "<style scoped>\n",
       "    .dataframe tbody tr th:only-of-type {\n",
       "        vertical-align: middle;\n",
       "    }\n",
       "\n",
       "    .dataframe tbody tr th {\n",
       "        vertical-align: top;\n",
       "    }\n",
       "\n",
       "    .dataframe thead th {\n",
       "        text-align: right;\n",
       "    }\n",
       "</style>\n",
       "<table border=\"1\" class=\"dataframe\">\n",
       "  <thead>\n",
       "    <tr style=\"text-align: right;\">\n",
       "      <th></th>\n",
       "      <th>0</th>\n",
       "      <th>1</th>\n",
       "    </tr>\n",
       "  </thead>\n",
       "  <tbody>\n",
       "    <tr>\n",
       "      <th>Name</th>\n",
       "      <td>salas_0</td>\n",
       "      <td>trohrbach_0</td>\n",
       "    </tr>\n",
       "    <tr>\n",
       "      <th>Contact__c</th>\n",
       "      <td>0035w000034Jm4mAAC</td>\n",
       "      <td>0035w000034Jm55AAC</td>\n",
       "    </tr>\n",
       "    <tr>\n",
       "      <th>Tool_Usage_Cluster__c</th>\n",
       "      <td>a0w5w000009Q7CqAAK</td>\n",
       "      <td>a0w5w000009Q7CqAAK</td>\n",
       "    </tr>\n",
       "  </tbody>\n",
       "</table>\n",
       "</div>"
      ],
      "text/plain": [
       "                                        0                   1\n",
       "Name                              salas_0         trohrbach_0\n",
       "Contact__c             0035w000034Jm4mAAC  0035w000034Jm55AAC\n",
       "Tool_Usage_Cluster__c  a0w5w000009Q7CqAAK  a0w5w000009Q7CqAAK"
      ]
     },
     "execution_count": 11,
     "metadata": {},
     "output_type": "execute_result"
    }
   ],
   "source": [
    "df_sf = pd.DataFrame()\n",
    "\n",
    "# Make sure NaN and NaT values are taken care of here\n",
    "df_sf['Name']         = cc_tolink_df['Name']\n",
    "df_sf['Contact__c'] = cc_tolink_df['SF_ID_contact']\n",
    "df_sf['Tool_Usage_Cluster__c'] = cc_tolink_df['SF_ID_cluster']\n",
    "\n",
    "sf_original_fields = df_sf.columns\n",
    "\n",
    "# display\n",
    "df_sf.head(2).T"
   ]
  },
  {
   "cell_type": "markdown",
   "metadata": {},
   "source": [
    "## To Salesforce Sales Cloud CRM"
   ]
  },
  {
   "cell_type": "code",
   "execution_count": 12,
   "metadata": {},
   "outputs": [
    {
     "name": "stdout",
     "output_type": "stream",
     "text": [
      "Obtained Salesforce access token ...... True\n"
     ]
    }
   ],
   "source": [
    "# create DB2 to Salesforce API object\n",
    "db_s = DB2SalesforceAPI(sf_login_params)\n",
    "\n",
    "# specify Salesforce object ID and external ID\n",
    "db_s.object_id = object_id\n",
    "db_s.external_id = external_id"
   ]
  },
  {
   "cell_type": "code",
   "execution_count": 13,
   "metadata": {},
   "outputs": [
    {
     "name": "stdout",
     "output_type": "stream",
     "text": [
      "[Success] Bulk job creation successful. Job ID = 7505w00000Mt5MCAAZ\n",
      "hello\n",
      "[Success] CSV upload successful. Job ID = 7505w00000Mt5MCAAZ\n",
      "[Success] Closing job successful. Job ID = 7505w00000Mt5MCAAZ\n"
     ]
    }
   ],
   "source": [
    "# send data to Salesforce\n",
    "db_s.send_data(df_sf)"
   ]
  },
  {
   "cell_type": "code",
   "execution_count": 14,
   "metadata": {},
   "outputs": [
    {
     "name": "stdout",
     "output_type": "stream",
     "text": [
      "{'apexProcessingTime': 0,\n",
      " 'apiActiveProcessingTime': 0,\n",
      " 'apiVersion': 47.0,\n",
      " 'columnDelimiter': 'COMMA',\n",
      " 'concurrencyMode': 'Parallel',\n",
      " 'contentType': 'CSV',\n",
      " 'createdById': '0055w00000ArpYvAAJ',\n",
      " 'createdDate': '2020-06-09T01:55:45.000+0000',\n",
      " 'externalIdFieldName': 'Name',\n",
      " 'id': '7505w00000Mt5MCAAZ',\n",
      " 'jobType': 'V2Ingest',\n",
      " 'lineEnding': 'LF',\n",
      " 'numberRecordsFailed': 0,\n",
      " 'numberRecordsProcessed': 0,\n",
      " 'object': 'ContactToolClusterAssociation__c',\n",
      " 'operation': 'upsert',\n",
      " 'retries': 0,\n",
      " 'state': 'UploadComplete',\n",
      " 'systemModstamp': '2020-06-09T01:55:53.000+0000',\n",
      " 'totalProcessingTime': 0}\n"
     ]
    }
   ],
   "source": [
    "# check status\n",
    "from pprint import pprint\n",
    "\n",
    "pprint(db_s.check_bulk_status())"
   ]
  },
  {
   "cell_type": "code",
   "execution_count": null,
   "metadata": {},
   "outputs": [],
   "source": []
  }
 ],
 "metadata": {
  "celltoolbar": "Tags",
  "kernelspec": {
   "display_name": "Python 3",
   "language": "python",
   "name": "python3"
  },
  "language_info": {
   "codemirror_mode": {
    "name": "ipython",
    "version": 3
   },
   "file_extension": ".py",
   "mimetype": "text/x-python",
   "name": "python",
   "nbconvert_exporter": "python",
   "pygments_lexer": "ipython3",
   "version": "3.7.6"
  }
 },
 "nbformat": 4,
 "nbformat_minor": 4
}
