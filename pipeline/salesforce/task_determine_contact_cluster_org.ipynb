{
 "cells": [
  {
   "cell_type": "markdown",
   "metadata": {},
   "source": [
    "# DB2-Salesforce connector: Determine cluster organization"
   ]
  },
  {
   "cell_type": "code",
   "execution_count": 1,
   "metadata": {
    "tags": [
     "parameters"
    ]
   },
   "outputs": [],
   "source": [
    "# API settings\n",
    "api_url = '/services/data/v43.0/sobjects'\n",
    "external_id = 'nanoHUB_user_ID__c'\n",
    "object_id = 'Contact'\n",
    "\n",
    "# login parameters to be handled by Papermill\n",
    "sql_login_params = {\"username\": \"wang2506_ro\", \"password\": \"fnVnwcCS7iT45EsA\"}\n",
    "sf_login_params = {\n",
    "    \"grant_type\": \"password\",\n",
    "    \"client_id\": \"3MVG95jctIhbyCppj0SNJ75IsZ1y8UPGZtSNF4j8FNVXz.De8Lu4jHm3rjRosAtsHy6qjHx3i4S_QbQzvBePG\",\n",
    "    \"client_secret\": \"D1623C6D3607D4FC8004B92C761DFB6C1F70CCD129C5501E357028DFA00F5764\",\n",
    "    \"username\": \"wang159-4j1v@force.com\",\n",
    "    \"password\": \"napoleon0eZ3PQpQqE3C3z4wWqEqKGhQ8\",\n",
    "} #6Cel800D5w000001jiQu8885w0000003U7mRvSj2dp1TvmgHngvv195i9eJLpzFNuMZBHkjibu07pj7Mk18p7MQxBEO318UtbzlBv7BpFQU"
   ]
  },
  {
   "cell_type": "code",
   "execution_count": 2,
   "metadata": {},
   "outputs": [],
   "source": [
    "import sys\n",
    "#sys.path.append(lib_dir)\n",
    "    \n",
    "import pandas as pd\n",
    "import datetime"
   ]
  },
  {
   "cell_type": "markdown",
   "metadata": {},
   "source": [
    "## Obtain contacts from DB2 \n",
    "that have last visit date within range of interest specified by day_range"
   ]
  },
  {
   "cell_type": "raw",
   "metadata": {},
   "source": [
    "MariaDB [nanohub]> select id, name, label from jos_user_profile_fields;\n",
    "+----+-----------------+-------------------------------------------------------+\n",
    "| id | name            | label                                                 |\n",
    "+----+-----------------+-------------------------------------------------------+\n",
    "|  1 | organization    | Organization                                          |\n",
    "|  2 | orgtype         | Organization / Position Type                          |\n",
    "|  3 | countryresident | Residency                                             |\n",
    "|  4 | countryorigin   | Citizenship                                           |\n",
    "|  5 | url             | Website                                               |\n",
    "|  6 | phone           | Telephone                                             |\n",
    "|  7 | orcid           | ORCID                                                 |\n",
    "|  8 | gender          | Gender                                                |\n",
    "|  9 | race            | Racial Background                                     |\n",
    "| 10 | disability      | Disability                                            |\n",
    "| 11 | reason          | Reason                                                |\n",
    "| 12 | tags            | Interests                                             |\n",
    "| 13 | address         | Address                                               |\n",
    "| 14 | hispanic        | Hispanic Heritage                                     |\n",
    "| 15 | bio             | Biography                                             |\n",
    "| 16 | howdidyouhear   | How did you first hear about nanoHUB?                 |\n",
    "| 17 | purposeofvisit  | What is the primary purpose of your visit to nanoHUB? |\n",
    "+----+-----------------+-------------------------------------------------------+\n",
    "\n",
    "\n",
    "\n",
    "MariaDB [nanohub]> explain  jos_user_profiles;\n",
    "+---------------+------------------+------+-----+---------+----------------+\n",
    "| Field         | Type             | Null | Key | Default | Extra          |\n",
    "+---------------+------------------+------+-----+---------+----------------+\n",
    "| id            | int(11) unsigned | NO   | PRI | NULL    | auto_increment |\n",
    "| user_id       | int(11)          | NO   | MUL | NULL    |                |\n",
    "| profile_key   | varchar(100)     | NO   |     | NULL    |                |\n",
    "| profile_value | text             | NO   |     | NULL    |                |\n",
    "| ordering      | int(11)          | NO   |     | 0       |                |\n",
    "| access        | int(10)          | NO   |     | 0       |                |\n",
    "+---------------+------------------+------+-----+---------+----------------+"
   ]
  },
  {
   "cell_type": "code",
   "execution_count": 3,
   "metadata": {},
   "outputs": [
    {
     "name": "stdout",
     "output_type": "stream",
     "text": [
      "select id, name, username, block, email, sendEmail, registerDate, lastvisitDate                     from jos_users\n"
     ]
    }
   ],
   "source": [
    "# Depending on the task, use different query and cutoff\n",
    "\n",
    "sql_query = \"select id, name, username, block, email, sendEmail, registerDate, lastvisitDate \\\n",
    "                    from jos_users\"\n",
    "\n",
    "# display\n",
    "print(sql_query)"
   ]
  },
  {
   "cell_type": "code",
   "execution_count": 4,
   "metadata": {},
   "outputs": [],
   "source": [
    "# connect with DB2\n",
    "import sqlalchemy as sql\n",
    "\n",
    "engine = sql.create_engine('mysql+pymysql://%s:%s@127.0.0.1/nanohub' \\\n",
    "                                               %(sql_login_params['username'], sql_login_params['password']))\n",
    "df = pd.read_sql_query(sql_query, engine)\n",
    "\n",
    "# get user profile details\n",
    "profile_df = pd.read_sql_query(\"select * from jos_user_profiles where profile_key in ('orgtype', 'organization', 'orcid')\", engine)"
   ]
  },
  {
   "cell_type": "code",
   "execution_count": 5,
   "metadata": {},
   "outputs": [
    {
     "data": {
      "text/html": [
       "<div>\n",
       "<style scoped>\n",
       "    .dataframe tbody tr th:only-of-type {\n",
       "        vertical-align: middle;\n",
       "    }\n",
       "\n",
       "    .dataframe tbody tr th {\n",
       "        vertical-align: top;\n",
       "    }\n",
       "\n",
       "    .dataframe thead th {\n",
       "        text-align: right;\n",
       "    }\n",
       "</style>\n",
       "<table border=\"1\" class=\"dataframe\">\n",
       "  <thead>\n",
       "    <tr style=\"text-align: right;\">\n",
       "      <th></th>\n",
       "      <th>id</th>\n",
       "      <th>name</th>\n",
       "      <th>username</th>\n",
       "      <th>block</th>\n",
       "      <th>email</th>\n",
       "      <th>sendEmail</th>\n",
       "      <th>registerDate</th>\n",
       "      <th>lastvisitDate</th>\n",
       "    </tr>\n",
       "  </thead>\n",
       "  <tbody>\n",
       "    <tr>\n",
       "      <th>0</th>\n",
       "      <td>998</td>\n",
       "      <td>hubrepo hubrepo</td>\n",
       "      <td>hubrepo</td>\n",
       "      <td>0</td>\n",
       "      <td>nkissebe@gmail.com</td>\n",
       "      <td>0</td>\n",
       "      <td>2014-11-13 21:09:09</td>\n",
       "      <td>NaT</td>\n",
       "    </tr>\n",
       "  </tbody>\n",
       "</table>\n",
       "</div>"
      ],
      "text/plain": [
       "    id             name username  block               email  sendEmail  \\\n",
       "0  998  hubrepo hubrepo  hubrepo      0  nkissebe@gmail.com          0   \n",
       "\n",
       "         registerDate lastvisitDate  \n",
       "0 2014-11-13 21:09:09           NaT  "
      ]
     },
     "metadata": {},
     "output_type": "display_data"
    },
    {
     "data": {
      "text/html": [
       "<div>\n",
       "<style scoped>\n",
       "    .dataframe tbody tr th:only-of-type {\n",
       "        vertical-align: middle;\n",
       "    }\n",
       "\n",
       "    .dataframe tbody tr th {\n",
       "        vertical-align: top;\n",
       "    }\n",
       "\n",
       "    .dataframe thead th {\n",
       "        text-align: right;\n",
       "    }\n",
       "</style>\n",
       "<table border=\"1\" class=\"dataframe\">\n",
       "  <thead>\n",
       "    <tr style=\"text-align: right;\">\n",
       "      <th></th>\n",
       "      <th>id</th>\n",
       "      <th>user_id</th>\n",
       "      <th>profile_key</th>\n",
       "      <th>profile_value</th>\n",
       "      <th>ordering</th>\n",
       "      <th>access</th>\n",
       "    </tr>\n",
       "  </thead>\n",
       "  <tbody>\n",
       "    <tr>\n",
       "      <th>0</th>\n",
       "      <td>1</td>\n",
       "      <td>15623</td>\n",
       "      <td>orgtype</td>\n",
       "      <td>university</td>\n",
       "      <td>2</td>\n",
       "      <td>5</td>\n",
       "    </tr>\n",
       "  </tbody>\n",
       "</table>\n",
       "</div>"
      ],
      "text/plain": [
       "   id  user_id profile_key profile_value  ordering  access\n",
       "0   1    15623     orgtype    university         2       5"
      ]
     },
     "metadata": {},
     "output_type": "display_data"
    }
   ],
   "source": [
    "# display\n",
    "display(df.head(1))\n",
    "\n",
    "display(profile_df.head(1))"
   ]
  },
  {
   "cell_type": "code",
   "execution_count": 6,
   "metadata": {},
   "outputs": [
    {
     "data": {
      "text/html": [
       "<div>\n",
       "<style scoped>\n",
       "    .dataframe tbody tr th:only-of-type {\n",
       "        vertical-align: middle;\n",
       "    }\n",
       "\n",
       "    .dataframe tbody tr th {\n",
       "        vertical-align: top;\n",
       "    }\n",
       "\n",
       "    .dataframe thead th {\n",
       "        text-align: right;\n",
       "    }\n",
       "</style>\n",
       "<table border=\"1\" class=\"dataframe\">\n",
       "  <thead>\n",
       "    <tr style=\"text-align: right;\">\n",
       "      <th></th>\n",
       "      <th>id</th>\n",
       "      <th>name</th>\n",
       "      <th>username</th>\n",
       "      <th>block</th>\n",
       "      <th>email</th>\n",
       "      <th>sendEmail</th>\n",
       "      <th>registerDate</th>\n",
       "      <th>lastvisitDate</th>\n",
       "      <th>orgtype</th>\n",
       "      <th>organization</th>\n",
       "      <th>orcid</th>\n",
       "    </tr>\n",
       "  </thead>\n",
       "  <tbody>\n",
       "    <tr>\n",
       "      <th>0</th>\n",
       "      <td>998</td>\n",
       "      <td>hubrepo hubrepo</td>\n",
       "      <td>hubrepo</td>\n",
       "      <td>0</td>\n",
       "      <td>nkissebe@gmail.com</td>\n",
       "      <td>0</td>\n",
       "      <td>2014-11-13 21:09:09</td>\n",
       "      <td>NaT</td>\n",
       "      <td>NaN</td>\n",
       "      <td>NaN</td>\n",
       "      <td>NaN</td>\n",
       "    </tr>\n",
       "  </tbody>\n",
       "</table>\n",
       "</div>"
      ],
      "text/plain": [
       "    id             name username  block               email  sendEmail  \\\n",
       "0  998  hubrepo hubrepo  hubrepo      0  nkissebe@gmail.com          0   \n",
       "\n",
       "         registerDate lastvisitDate orgtype organization orcid  \n",
       "0 2014-11-13 21:09:09           NaT     NaN          NaN   NaN  "
      ]
     },
     "metadata": {},
     "output_type": "display_data"
    }
   ],
   "source": [
    "df = pd.merge(df, profile_df[profile_df['profile_key'] == 'orgtype'][['user_id', 'profile_value']],\\\n",
    "                         how='left', left_on='id', right_on='user_id')\\\n",
    "    .drop(columns=['user_id']).rename(columns={'profile_value':'orgtype'})\n",
    "\n",
    "df = pd.merge(df, profile_df[profile_df['profile_key'] == 'organization'][['user_id', 'profile_value']],\\\n",
    "                         how='left', left_on='id', right_on='user_id')\\\n",
    "    .drop(columns=['user_id']).rename(columns={'profile_value':'organization'})\n",
    "\n",
    "df = pd.merge(df, profile_df[profile_df['profile_key'] == 'orcid'][['user_id', 'profile_value']],\\\n",
    "                         how='left', left_on='id', right_on='user_id')\\\n",
    "    .drop(columns=['user_id']).rename(columns={'profile_value':'orcid'})\n",
    "\n",
    "# display\n",
    "display(df.head(1))"
   ]
  },
  {
   "cell_type": "code",
   "execution_count": 7,
   "metadata": {},
   "outputs": [],
   "source": [
    "# Obtain company domain information from DB2\n",
    "domain_df = pd.read_sql_query(\"select name as domain_name, domain, industry, `size range` as size, country \\\n",
    "from wang159_myrmekes.companies_email_domain\", engine)"
   ]
  },
  {
   "cell_type": "code",
   "execution_count": 8,
   "metadata": {},
   "outputs": [],
   "source": [
    "# make sure domain is unique and drop NaN\n",
    "domain_df = domain_df.drop_duplicates(subset='domain', keep='first').dropna()"
   ]
  },
  {
   "cell_type": "code",
   "execution_count": 9,
   "metadata": {},
   "outputs": [],
   "source": [
    "# get email domain of nanoHUB users\n",
    "def get_domain(this_email):\n",
    "    seg_list = this_email.split('@')\n",
    "    \n",
    "    if len(seg_list) == 2:\n",
    "        return seg_list[1].lower()\n",
    "    else:\n",
    "        return None\n",
    "    \n",
    "df['email_domain'] = df['email'].apply(get_domain)"
   ]
  },
  {
   "cell_type": "code",
   "execution_count": 10,
   "metadata": {},
   "outputs": [
    {
     "data": {
      "text/html": [
       "<div>\n",
       "<style scoped>\n",
       "    .dataframe tbody tr th:only-of-type {\n",
       "        vertical-align: middle;\n",
       "    }\n",
       "\n",
       "    .dataframe tbody tr th {\n",
       "        vertical-align: top;\n",
       "    }\n",
       "\n",
       "    .dataframe thead th {\n",
       "        text-align: right;\n",
       "    }\n",
       "</style>\n",
       "<table border=\"1\" class=\"dataframe\">\n",
       "  <thead>\n",
       "    <tr style=\"text-align: right;\">\n",
       "      <th></th>\n",
       "      <th>id</th>\n",
       "      <th>name</th>\n",
       "      <th>username</th>\n",
       "      <th>block</th>\n",
       "      <th>email</th>\n",
       "      <th>sendEmail</th>\n",
       "      <th>registerDate</th>\n",
       "      <th>lastvisitDate</th>\n",
       "      <th>orgtype</th>\n",
       "      <th>organization</th>\n",
       "      <th>orcid</th>\n",
       "      <th>email_domain</th>\n",
       "      <th>domain_name</th>\n",
       "      <th>domain</th>\n",
       "      <th>industry</th>\n",
       "      <th>size</th>\n",
       "      <th>country</th>\n",
       "    </tr>\n",
       "  </thead>\n",
       "  <tbody>\n",
       "    <tr>\n",
       "      <th>0</th>\n",
       "      <td>998</td>\n",
       "      <td>hubrepo hubrepo</td>\n",
       "      <td>hubrepo</td>\n",
       "      <td>0</td>\n",
       "      <td>nkissebe@gmail.com</td>\n",
       "      <td>0</td>\n",
       "      <td>2014-11-13 21:09:09</td>\n",
       "      <td>NaT</td>\n",
       "      <td>NaN</td>\n",
       "      <td>NaN</td>\n",
       "      <td>NaN</td>\n",
       "      <td>gmail.com</td>\n",
       "      <td>NaN</td>\n",
       "      <td>NaN</td>\n",
       "      <td>NaN</td>\n",
       "      <td>NaN</td>\n",
       "      <td>NaN</td>\n",
       "    </tr>\n",
       "    <tr>\n",
       "      <th>1</th>\n",
       "      <td>1000</td>\n",
       "      <td>CMS Admin Manager</td>\n",
       "      <td>admin</td>\n",
       "      <td>0</td>\n",
       "      <td>support@nanohub.org</td>\n",
       "      <td>0</td>\n",
       "      <td>NaT</td>\n",
       "      <td>NaT</td>\n",
       "      <td>NaN</td>\n",
       "      <td>NaN</td>\n",
       "      <td>NaN</td>\n",
       "      <td>nanohub.org</td>\n",
       "      <td>NaN</td>\n",
       "      <td>NaN</td>\n",
       "      <td>NaN</td>\n",
       "      <td>NaN</td>\n",
       "      <td>NaN</td>\n",
       "    </tr>\n",
       "  </tbody>\n",
       "</table>\n",
       "</div>"
      ],
      "text/plain": [
       "     id               name username  block                email  sendEmail  \\\n",
       "0   998    hubrepo hubrepo  hubrepo      0   nkissebe@gmail.com          0   \n",
       "1  1000  CMS Admin Manager    admin      0  support@nanohub.org          0   \n",
       "\n",
       "         registerDate lastvisitDate orgtype organization orcid email_domain  \\\n",
       "0 2014-11-13 21:09:09           NaT     NaN          NaN   NaN    gmail.com   \n",
       "1                 NaT           NaT     NaN          NaN   NaN  nanohub.org   \n",
       "\n",
       "  domain_name domain industry size country  \n",
       "0         NaN    NaN      NaN  NaN     NaN  \n",
       "1         NaN    NaN      NaN  NaN     NaN  "
      ]
     },
     "metadata": {},
     "output_type": "display_data"
    }
   ],
   "source": [
    "df = pd.merge(df, domain_df[domain_df.domain.isin(df['email_domain'].unique()) & ~domain_df.domain.isna()],\\\n",
    "         how='left', left_on='email_domain', right_on='domain')\n",
    "\n",
    "# display\n",
    "display(df.head(2))"
   ]
  },
  {
   "cell_type": "markdown",
   "metadata": {},
   "source": [
    "## Obtain newly updated organization IDs from Salesforce"
   ]
  },
  {
   "cell_type": "code",
   "execution_count": 11,
   "metadata": {},
   "outputs": [
    {
     "name": "stdout",
     "output_type": "stream",
     "text": [
      "Obtained Salesforce access token ...... True\n"
     ]
    }
   ],
   "source": [
    "from DB2SalesforceAPI import DB2SalesforceAPI\n",
    "\n",
    "# create DB2 to Salesforce API object\n",
    "db_s = DB2SalesforceAPI(sf_login_params)"
   ]
  },
  {
   "cell_type": "code",
   "execution_count": 12,
   "metadata": {},
   "outputs": [
    {
     "name": "stdout",
     "output_type": "stream",
     "text": [
      "[Success] Bulk job creation successful. Job ID = 7505w00000Mt5ksAAB\n",
      "{\"id\":\"7505w00000Mt5ksAAB\",\"operation\":\"query\",\"object\":\"ContactToolClusterAssociation__c\",\"createdById\":\"0055w00000ArpYvAAJ\",\"createdDate\":\"2020-06-09T02:49:21.000+0000\",\"systemModstamp\":\"2020-06-09T02:49:21.000+0000\",\"state\":\"InProgress\",\"concurrencyMode\":\"Parallel\",\"contentType\":\"CSV\",\"apiVersion\":47.0,\"jobType\":\"V2Query\",\"lineEnding\":\"LF\",\"columnDelimiter\":\"COMMA\",\"numberRecordsProcessed\":0,\"retries\":0,\"totalProcessingTime\":0}\n",
      "{\"id\":\"7505w00000Mt5ksAAB\",\"operation\":\"query\",\"object\":\"ContactToolClusterAssociation__c\",\"createdById\":\"0055w00000ArpYvAAJ\",\"createdDate\":\"2020-06-09T02:49:21.000+0000\",\"systemModstamp\":\"2020-06-09T02:49:26.000+0000\",\"state\":\"JobComplete\",\"concurrencyMode\":\"Parallel\",\"contentType\":\"CSV\",\"apiVersion\":47.0,\"jobType\":\"V2Query\",\"lineEnding\":\"LF\",\"columnDelimiter\":\"COMMA\",\"numberRecordsProcessed\":84982,\"retries\":0,\"totalProcessingTime\":5122}\n",
      "[Success] Bulk job completed successfully.\n"
     ]
    },
    {
     "data": {
      "text/html": [
       "<div>\n",
       "<style scoped>\n",
       "    .dataframe tbody tr th:only-of-type {\n",
       "        vertical-align: middle;\n",
       "    }\n",
       "\n",
       "    .dataframe tbody tr th {\n",
       "        vertical-align: top;\n",
       "    }\n",
       "\n",
       "    .dataframe thead th {\n",
       "        text-align: right;\n",
       "    }\n",
       "</style>\n",
       "<table border=\"1\" class=\"dataframe\">\n",
       "  <thead>\n",
       "    <tr style=\"text-align: right;\">\n",
       "      <th></th>\n",
       "      <th>Contact__c</th>\n",
       "      <th>Id</th>\n",
       "      <th>Tool_Usage_Cluster__c</th>\n",
       "    </tr>\n",
       "  </thead>\n",
       "  <tbody>\n",
       "    <tr>\n",
       "      <th>0</th>\n",
       "      <td>0035w000034JtebAAC</td>\n",
       "      <td>a0x5w00000ZtjVpAAJ</td>\n",
       "      <td>a0w5w000009Q7DnAAK</td>\n",
       "    </tr>\n",
       "    <tr>\n",
       "      <th>1</th>\n",
       "      <td>0035w000034I5Y6AAK</td>\n",
       "      <td>a0x5w00000ZtjVqAAJ</td>\n",
       "      <td>a0w5w000009Q8G8AAK</td>\n",
       "    </tr>\n",
       "    <tr>\n",
       "      <th>2</th>\n",
       "      <td>0035w000034JqhvAAC</td>\n",
       "      <td>a0x5w00000ZtjVrAAJ</td>\n",
       "      <td>a0w5w000009Q8G8AAK</td>\n",
       "    </tr>\n",
       "  </tbody>\n",
       "</table>\n",
       "</div>"
      ],
      "text/plain": [
       "           Contact__c                  Id Tool_Usage_Cluster__c\n",
       "0  0035w000034JtebAAC  a0x5w00000ZtjVpAAJ    a0w5w000009Q7DnAAK\n",
       "1  0035w000034I5Y6AAK  a0x5w00000ZtjVqAAJ    a0w5w000009Q8G8AAK\n",
       "2  0035w000034JqhvAAC  a0x5w00000ZtjVrAAJ    a0w5w000009Q8G8AAK"
      ]
     },
     "execution_count": 12,
     "metadata": {},
     "output_type": "execute_result"
    }
   ],
   "source": [
    "# get Salesforce ID for organizations\n",
    "sf_cluster_df = db_s.query_data('SELECT Id, Contact__c, Tool_Usage_Cluster__c FROM ContactToolClusterAssociation__c')\n",
    "\n",
    "# display\n",
    "sf_cluster_df.head(3)"
   ]
  },
  {
   "cell_type": "code",
   "execution_count": 13,
   "metadata": {},
   "outputs": [
    {
     "name": "stdout",
     "output_type": "stream",
     "text": [
      "[Success] Bulk job creation successful. Job ID = 7505w00000Mt5kxAAB\n",
      "{\"id\":\"7505w00000Mt5kxAAB\",\"operation\":\"query\",\"object\":\"Contact\",\"createdById\":\"0055w00000ArpYvAAJ\",\"createdDate\":\"2020-06-09T02:49:36.000+0000\",\"systemModstamp\":\"2020-06-09T02:49:36.000+0000\",\"state\":\"UploadComplete\",\"concurrencyMode\":\"Parallel\",\"contentType\":\"CSV\",\"apiVersion\":47.0,\"jobType\":\"V2Query\",\"lineEnding\":\"LF\",\"columnDelimiter\":\"COMMA\",\"numberRecordsProcessed\":0,\"retries\":0,\"totalProcessingTime\":0}\n",
      "{\"id\":\"7505w00000Mt5kxAAB\",\"operation\":\"query\",\"object\":\"Contact\",\"createdById\":\"0055w00000ArpYvAAJ\",\"createdDate\":\"2020-06-09T02:49:36.000+0000\",\"systemModstamp\":\"2020-06-09T02:49:36.000+0000\",\"state\":\"InProgress\",\"concurrencyMode\":\"Parallel\",\"contentType\":\"CSV\",\"apiVersion\":47.0,\"jobType\":\"V2Query\",\"lineEnding\":\"LF\",\"columnDelimiter\":\"COMMA\",\"numberRecordsProcessed\":0,\"retries\":0,\"totalProcessingTime\":0}\n",
      "{\"id\":\"7505w00000Mt5kxAAB\",\"operation\":\"query\",\"object\":\"Contact\",\"createdById\":\"0055w00000ArpYvAAJ\",\"createdDate\":\"2020-06-09T02:49:36.000+0000\",\"systemModstamp\":\"2020-06-09T02:49:49.000+0000\",\"state\":\"JobComplete\",\"concurrencyMode\":\"Parallel\",\"contentType\":\"CSV\",\"apiVersion\":47.0,\"jobType\":\"V2Query\",\"lineEnding\":\"LF\",\"columnDelimiter\":\"COMMA\",\"numberRecordsProcessed\":218085,\"retries\":0,\"totalProcessingTime\":12571}\n",
      "[Success] Bulk job completed successfully.\n"
     ]
    },
    {
     "data": {
      "text/html": [
       "<div>\n",
       "<style scoped>\n",
       "    .dataframe tbody tr th:only-of-type {\n",
       "        vertical-align: middle;\n",
       "    }\n",
       "\n",
       "    .dataframe tbody tr th {\n",
       "        vertical-align: top;\n",
       "    }\n",
       "\n",
       "    .dataframe thead th {\n",
       "        text-align: right;\n",
       "    }\n",
       "</style>\n",
       "<table border=\"1\" class=\"dataframe\">\n",
       "  <thead>\n",
       "    <tr style=\"text-align: right;\">\n",
       "      <th></th>\n",
       "      <th>Id</th>\n",
       "      <th>Organization_Overwrite__c</th>\n",
       "      <th>Organization__c</th>\n",
       "      <th>Organization_email_derived__c</th>\n",
       "    </tr>\n",
       "  </thead>\n",
       "  <tbody>\n",
       "    <tr>\n",
       "      <th>0</th>\n",
       "      <td>0035w000031Vsp1AAC</td>\n",
       "      <td>NaN</td>\n",
       "      <td>NaN</td>\n",
       "      <td>NaN</td>\n",
       "    </tr>\n",
       "    <tr>\n",
       "      <th>1</th>\n",
       "      <td>0035w000031Vsp2AAC</td>\n",
       "      <td>NaN</td>\n",
       "      <td>purdue university</td>\n",
       "      <td>a0r5w00000V42cCAAR</td>\n",
       "    </tr>\n",
       "    <tr>\n",
       "      <th>2</th>\n",
       "      <td>0035w000031Vsp3AAC</td>\n",
       "      <td>NaN</td>\n",
       "      <td>purdue university</td>\n",
       "      <td>a0r5w00000V42cCAAR</td>\n",
       "    </tr>\n",
       "  </tbody>\n",
       "</table>\n",
       "</div>"
      ],
      "text/plain": [
       "                   Id Organization_Overwrite__c    Organization__c  \\\n",
       "0  0035w000031Vsp1AAC                       NaN                NaN   \n",
       "1  0035w000031Vsp2AAC                       NaN  purdue university   \n",
       "2  0035w000031Vsp3AAC                       NaN  purdue university   \n",
       "\n",
       "  Organization_email_derived__c  \n",
       "0                           NaN  \n",
       "1            a0r5w00000V42cCAAR  \n",
       "2            a0r5w00000V42cCAAR  "
      ]
     },
     "execution_count": 13,
     "metadata": {},
     "output_type": "execute_result"
    }
   ],
   "source": [
    "# get Contacts from Salesforce\n",
    "sf_contact_df = db_s.query_data('SELECT Id, Organization__c, Organization_email_derived__c, Organization_Overwrite__c FROM Contact')\n",
    "\n",
    "# display\n",
    "sf_contact_df.head(3)"
   ]
  },
  {
   "cell_type": "code",
   "execution_count": 14,
   "metadata": {},
   "outputs": [
    {
     "name": "stdout",
     "output_type": "stream",
     "text": [
      "[Success] Bulk job creation successful. Job ID = 7505w00000Mt5l2AAB\n",
      "{\"id\":\"7505w00000Mt5l2AAB\",\"operation\":\"query\",\"object\":\"organization__c\",\"createdById\":\"0055w00000ArpYvAAJ\",\"createdDate\":\"2020-06-09T02:50:02.000+0000\",\"systemModstamp\":\"2020-06-09T02:50:02.000+0000\",\"state\":\"UploadComplete\",\"concurrencyMode\":\"Parallel\",\"contentType\":\"CSV\",\"apiVersion\":47.0,\"jobType\":\"V2Query\",\"lineEnding\":\"LF\",\"columnDelimiter\":\"COMMA\",\"retries\":0,\"totalProcessingTime\":0}\n",
      "{\"id\":\"7505w00000Mt5l2AAB\",\"operation\":\"query\",\"object\":\"organization__c\",\"createdById\":\"0055w00000ArpYvAAJ\",\"createdDate\":\"2020-06-09T02:50:02.000+0000\",\"systemModstamp\":\"2020-06-09T02:50:04.000+0000\",\"state\":\"JobComplete\",\"concurrencyMode\":\"Parallel\",\"contentType\":\"CSV\",\"apiVersion\":47.0,\"jobType\":\"V2Query\",\"lineEnding\":\"LF\",\"columnDelimiter\":\"COMMA\",\"numberRecordsProcessed\":6173,\"retries\":0,\"totalProcessingTime\":528}\n",
      "[Success] Bulk job completed successfully.\n"
     ]
    },
    {
     "data": {
      "text/html": [
       "<div>\n",
       "<style scoped>\n",
       "    .dataframe tbody tr th:only-of-type {\n",
       "        vertical-align: middle;\n",
       "    }\n",
       "\n",
       "    .dataframe tbody tr th {\n",
       "        vertical-align: top;\n",
       "    }\n",
       "\n",
       "    .dataframe thead th {\n",
       "        text-align: right;\n",
       "    }\n",
       "</style>\n",
       "<table border=\"1\" class=\"dataframe\">\n",
       "  <thead>\n",
       "    <tr style=\"text-align: right;\">\n",
       "      <th></th>\n",
       "      <th>Domain__c</th>\n",
       "      <th>Id</th>\n",
       "      <th>Name</th>\n",
       "    </tr>\n",
       "  </thead>\n",
       "  <tbody>\n",
       "    <tr>\n",
       "      <th>0</th>\n",
       "      <td>upenn.edu</td>\n",
       "      <td>a0r5w00000V42c0AAB</td>\n",
       "      <td>University of Pennsylvania</td>\n",
       "    </tr>\n",
       "    <tr>\n",
       "      <th>1</th>\n",
       "      <td>fer.hr</td>\n",
       "      <td>a0r5w00000V42c1AAB</td>\n",
       "      <td>fer</td>\n",
       "    </tr>\n",
       "    <tr>\n",
       "      <th>2</th>\n",
       "      <td>wheatoncollege.edu</td>\n",
       "      <td>a0r5w00000V42c2AAB</td>\n",
       "      <td>Wheaton College</td>\n",
       "    </tr>\n",
       "  </tbody>\n",
       "</table>\n",
       "</div>"
      ],
      "text/plain": [
       "            Domain__c                  Id                        Name\n",
       "0           upenn.edu  a0r5w00000V42c0AAB  University of Pennsylvania\n",
       "1              fer.hr  a0r5w00000V42c1AAB                         fer\n",
       "2  wheatoncollege.edu  a0r5w00000V42c2AAB             Wheaton College"
      ]
     },
     "execution_count": 14,
     "metadata": {},
     "output_type": "execute_result"
    }
   ],
   "source": [
    "# get organization from Salesforce\n",
    "sf_org_df = db_s.query_data('SELECT Id, Name, Domain__c FROM organization__c')\n",
    "\n",
    "# display\n",
    "sf_org_df.head(3)"
   ]
  },
  {
   "cell_type": "code",
   "execution_count": 15,
   "metadata": {},
   "outputs": [
    {
     "name": "stdout",
     "output_type": "stream",
     "text": [
      "[Success] Bulk job creation successful. Job ID = 7505w00000Mt5lCAAR\n",
      "{\"id\":\"7505w00000Mt5lCAAR\",\"operation\":\"query\",\"object\":\"contact_citation_asso__c\",\"createdById\":\"0055w00000ArpYvAAJ\",\"createdDate\":\"2020-06-09T02:50:15.000+0000\",\"systemModstamp\":\"2020-06-09T02:50:15.000+0000\",\"state\":\"UploadComplete\",\"concurrencyMode\":\"Parallel\",\"contentType\":\"CSV\",\"apiVersion\":47.0,\"jobType\":\"V2Query\",\"lineEnding\":\"LF\",\"columnDelimiter\":\"COMMA\",\"retries\":0,\"totalProcessingTime\":0}\n",
      "{\"id\":\"7505w00000Mt5lCAAR\",\"operation\":\"query\",\"object\":\"contact_citation_asso__c\",\"createdById\":\"0055w00000ArpYvAAJ\",\"createdDate\":\"2020-06-09T02:50:15.000+0000\",\"systemModstamp\":\"2020-06-09T02:50:16.000+0000\",\"state\":\"JobComplete\",\"concurrencyMode\":\"Parallel\",\"contentType\":\"CSV\",\"apiVersion\":47.0,\"jobType\":\"V2Query\",\"lineEnding\":\"LF\",\"columnDelimiter\":\"COMMA\",\"numberRecordsProcessed\":4885,\"retries\":0,\"totalProcessingTime\":463}\n",
      "[Success] Bulk job completed successfully.\n"
     ]
    },
    {
     "data": {
      "text/html": [
       "<div>\n",
       "<style scoped>\n",
       "    .dataframe tbody tr th:only-of-type {\n",
       "        vertical-align: middle;\n",
       "    }\n",
       "\n",
       "    .dataframe tbody tr th {\n",
       "        vertical-align: top;\n",
       "    }\n",
       "\n",
       "    .dataframe thead th {\n",
       "        text-align: right;\n",
       "    }\n",
       "</style>\n",
       "<table border=\"1\" class=\"dataframe\">\n",
       "  <thead>\n",
       "    <tr style=\"text-align: right;\">\n",
       "      <th></th>\n",
       "      <th>Contact__c</th>\n",
       "      <th>Id</th>\n",
       "      <th>Organization__c</th>\n",
       "    </tr>\n",
       "  </thead>\n",
       "  <tbody>\n",
       "    <tr>\n",
       "      <th>0</th>\n",
       "      <td>0035w000034JLpOAAW</td>\n",
       "      <td>a0u5w00000RhVhTAAV</td>\n",
       "      <td>a0r5w00000V42cCAAR</td>\n",
       "    </tr>\n",
       "    <tr>\n",
       "      <th>1</th>\n",
       "      <td>0035w000034JLpOAAW</td>\n",
       "      <td>a0u5w00000RhVhUAAV</td>\n",
       "      <td>a0r5w00000V42cCAAR</td>\n",
       "    </tr>\n",
       "    <tr>\n",
       "      <th>2</th>\n",
       "      <td>0035w000034JLpOAAW</td>\n",
       "      <td>a0u5w00000RhVhVAAV</td>\n",
       "      <td>a0r5w00000V42cCAAR</td>\n",
       "    </tr>\n",
       "  </tbody>\n",
       "</table>\n",
       "</div>"
      ],
      "text/plain": [
       "           Contact__c                  Id     Organization__c\n",
       "0  0035w000034JLpOAAW  a0u5w00000RhVhTAAV  a0r5w00000V42cCAAR\n",
       "1  0035w000034JLpOAAW  a0u5w00000RhVhUAAV  a0r5w00000V42cCAAR\n",
       "2  0035w000034JLpOAAW  a0u5w00000RhVhVAAV  a0r5w00000V42cCAAR"
      ]
     },
     "execution_count": 15,
     "metadata": {},
     "output_type": "execute_result"
    }
   ],
   "source": [
    "# get organization according to citation from Salesforce\n",
    "sf_cit_org_df = db_s.query_data('SELECT Id, Contact__c, Organization__c FROM contact_citation_asso__c')\n",
    "\n",
    "# display\n",
    "sf_cit_org_df.head(3)"
   ]
  },
  {
   "cell_type": "code",
   "execution_count": 16,
   "metadata": {},
   "outputs": [],
   "source": [
    "# rename Id of each Salesforce DF to avoid collision\n",
    "sf_cluster_df.rename(columns={'Id':'cluster_Id'}, inplace=True)\n",
    "sf_org_df.rename(columns={'Id':'org_Id'}, inplace=True)\n",
    "sf_contact_df.rename(columns={'Id':'contact_Id'}, inplace=True)\n",
    "sf_cit_org_df.rename(columns={'Id':'cit_org_Id'}, inplace=True)"
   ]
  },
  {
   "cell_type": "markdown",
   "metadata": {},
   "source": [
    "## Determine the most likely organization of each cluster"
   ]
  },
  {
   "cell_type": "code",
   "execution_count": 17,
   "metadata": {},
   "outputs": [
    {
     "data": {
      "text/plain": [
       "'sf_cluster_df'"
      ]
     },
     "metadata": {},
     "output_type": "display_data"
    },
    {
     "data": {
      "text/html": [
       "<div>\n",
       "<style scoped>\n",
       "    .dataframe tbody tr th:only-of-type {\n",
       "        vertical-align: middle;\n",
       "    }\n",
       "\n",
       "    .dataframe tbody tr th {\n",
       "        vertical-align: top;\n",
       "    }\n",
       "\n",
       "    .dataframe thead th {\n",
       "        text-align: right;\n",
       "    }\n",
       "</style>\n",
       "<table border=\"1\" class=\"dataframe\">\n",
       "  <thead>\n",
       "    <tr style=\"text-align: right;\">\n",
       "      <th></th>\n",
       "      <th>Contact__c</th>\n",
       "      <th>cluster_Id</th>\n",
       "      <th>Tool_Usage_Cluster__c</th>\n",
       "    </tr>\n",
       "  </thead>\n",
       "  <tbody>\n",
       "    <tr>\n",
       "      <th>0</th>\n",
       "      <td>0035w000034JtebAAC</td>\n",
       "      <td>a0x5w00000ZtjVpAAJ</td>\n",
       "      <td>a0w5w000009Q7DnAAK</td>\n",
       "    </tr>\n",
       "  </tbody>\n",
       "</table>\n",
       "</div>"
      ],
      "text/plain": [
       "           Contact__c          cluster_Id Tool_Usage_Cluster__c\n",
       "0  0035w000034JtebAAC  a0x5w00000ZtjVpAAJ    a0w5w000009Q7DnAAK"
      ]
     },
     "metadata": {},
     "output_type": "display_data"
    },
    {
     "data": {
      "text/plain": [
       "'sf_org_df'"
      ]
     },
     "metadata": {},
     "output_type": "display_data"
    },
    {
     "data": {
      "text/html": [
       "<div>\n",
       "<style scoped>\n",
       "    .dataframe tbody tr th:only-of-type {\n",
       "        vertical-align: middle;\n",
       "    }\n",
       "\n",
       "    .dataframe tbody tr th {\n",
       "        vertical-align: top;\n",
       "    }\n",
       "\n",
       "    .dataframe thead th {\n",
       "        text-align: right;\n",
       "    }\n",
       "</style>\n",
       "<table border=\"1\" class=\"dataframe\">\n",
       "  <thead>\n",
       "    <tr style=\"text-align: right;\">\n",
       "      <th></th>\n",
       "      <th>Domain__c</th>\n",
       "      <th>org_Id</th>\n",
       "      <th>Name</th>\n",
       "    </tr>\n",
       "  </thead>\n",
       "  <tbody>\n",
       "    <tr>\n",
       "      <th>0</th>\n",
       "      <td>upenn.edu</td>\n",
       "      <td>a0r5w00000V42c0AAB</td>\n",
       "      <td>University of Pennsylvania</td>\n",
       "    </tr>\n",
       "  </tbody>\n",
       "</table>\n",
       "</div>"
      ],
      "text/plain": [
       "   Domain__c              org_Id                        Name\n",
       "0  upenn.edu  a0r5w00000V42c0AAB  University of Pennsylvania"
      ]
     },
     "metadata": {},
     "output_type": "display_data"
    },
    {
     "data": {
      "text/plain": [
       "'sf_contact_df'"
      ]
     },
     "metadata": {},
     "output_type": "display_data"
    },
    {
     "data": {
      "text/html": [
       "<div>\n",
       "<style scoped>\n",
       "    .dataframe tbody tr th:only-of-type {\n",
       "        vertical-align: middle;\n",
       "    }\n",
       "\n",
       "    .dataframe tbody tr th {\n",
       "        vertical-align: top;\n",
       "    }\n",
       "\n",
       "    .dataframe thead th {\n",
       "        text-align: right;\n",
       "    }\n",
       "</style>\n",
       "<table border=\"1\" class=\"dataframe\">\n",
       "  <thead>\n",
       "    <tr style=\"text-align: right;\">\n",
       "      <th></th>\n",
       "      <th>contact_Id</th>\n",
       "      <th>Organization_Overwrite__c</th>\n",
       "      <th>Organization__c</th>\n",
       "      <th>Organization_email_derived__c</th>\n",
       "    </tr>\n",
       "  </thead>\n",
       "  <tbody>\n",
       "    <tr>\n",
       "      <th>0</th>\n",
       "      <td>0035w000031Vsp1AAC</td>\n",
       "      <td>NaN</td>\n",
       "      <td>NaN</td>\n",
       "      <td>NaN</td>\n",
       "    </tr>\n",
       "  </tbody>\n",
       "</table>\n",
       "</div>"
      ],
      "text/plain": [
       "           contact_Id Organization_Overwrite__c Organization__c  \\\n",
       "0  0035w000031Vsp1AAC                       NaN             NaN   \n",
       "\n",
       "  Organization_email_derived__c  \n",
       "0                           NaN  "
      ]
     },
     "metadata": {},
     "output_type": "display_data"
    },
    {
     "data": {
      "text/plain": [
       "'sf_cit_org_df'"
      ]
     },
     "metadata": {},
     "output_type": "display_data"
    },
    {
     "data": {
      "text/html": [
       "<div>\n",
       "<style scoped>\n",
       "    .dataframe tbody tr th:only-of-type {\n",
       "        vertical-align: middle;\n",
       "    }\n",
       "\n",
       "    .dataframe tbody tr th {\n",
       "        vertical-align: top;\n",
       "    }\n",
       "\n",
       "    .dataframe thead th {\n",
       "        text-align: right;\n",
       "    }\n",
       "</style>\n",
       "<table border=\"1\" class=\"dataframe\">\n",
       "  <thead>\n",
       "    <tr style=\"text-align: right;\">\n",
       "      <th></th>\n",
       "      <th>Contact__c</th>\n",
       "      <th>cit_org_Id</th>\n",
       "      <th>Organization__c</th>\n",
       "    </tr>\n",
       "  </thead>\n",
       "  <tbody>\n",
       "    <tr>\n",
       "      <th>0</th>\n",
       "      <td>0035w000034JLpOAAW</td>\n",
       "      <td>a0u5w00000RhVhTAAV</td>\n",
       "      <td>a0r5w00000V42cCAAR</td>\n",
       "    </tr>\n",
       "  </tbody>\n",
       "</table>\n",
       "</div>"
      ],
      "text/plain": [
       "           Contact__c          cit_org_Id     Organization__c\n",
       "0  0035w000034JLpOAAW  a0u5w00000RhVhTAAV  a0r5w00000V42cCAAR"
      ]
     },
     "metadata": {},
     "output_type": "display_data"
    }
   ],
   "source": [
    "# data given\n",
    "display('sf_cluster_df'); display(sf_cluster_df.head(1))\n",
    "display('sf_org_df'); display(sf_org_df.head(1))\n",
    "display('sf_contact_df'); display(sf_contact_df.head(1))\n",
    "display('sf_cit_org_df'); display(sf_cit_org_df.head(1))"
   ]
  },
  {
   "cell_type": "code",
   "execution_count": 18,
   "metadata": {},
   "outputs": [
    {
     "data": {
      "text/html": [
       "<div>\n",
       "<style scoped>\n",
       "    .dataframe tbody tr th:only-of-type {\n",
       "        vertical-align: middle;\n",
       "    }\n",
       "\n",
       "    .dataframe tbody tr th {\n",
       "        vertical-align: top;\n",
       "    }\n",
       "\n",
       "    .dataframe thead th {\n",
       "        text-align: right;\n",
       "    }\n",
       "</style>\n",
       "<table border=\"1\" class=\"dataframe\">\n",
       "  <thead>\n",
       "    <tr style=\"text-align: right;\">\n",
       "      <th></th>\n",
       "      <th>Contact__c</th>\n",
       "      <th>cluster_Id</th>\n",
       "      <th>Tool_Usage_Cluster__c</th>\n",
       "      <th>contact_Id</th>\n",
       "      <th>Organization_Overwrite__c</th>\n",
       "      <th>Organization__c</th>\n",
       "      <th>Organization_email_derived__c</th>\n",
       "    </tr>\n",
       "  </thead>\n",
       "  <tbody>\n",
       "    <tr>\n",
       "      <th>0</th>\n",
       "      <td>0035w000034JtebAAC</td>\n",
       "      <td>a0x5w00000ZtjVpAAJ</td>\n",
       "      <td>a0w5w000009Q7DnAAK</td>\n",
       "      <td>0035w000034JtebAAC</td>\n",
       "      <td>NaN</td>\n",
       "      <td>NaN</td>\n",
       "      <td>a0r5w00000V42jBAAR</td>\n",
       "    </tr>\n",
       "    <tr>\n",
       "      <th>1</th>\n",
       "      <td>0035w000034I5Y6AAK</td>\n",
       "      <td>a0x5w00000ZtjVqAAJ</td>\n",
       "      <td>a0w5w000009Q8G8AAK</td>\n",
       "      <td>0035w000034I5Y6AAK</td>\n",
       "      <td>NaN</td>\n",
       "      <td>university of southern california</td>\n",
       "      <td>a0r5w00000V42jBAAR</td>\n",
       "    </tr>\n",
       "    <tr>\n",
       "      <th>2</th>\n",
       "      <td>0035w000034JqhvAAC</td>\n",
       "      <td>a0x5w00000ZtjVrAAJ</td>\n",
       "      <td>a0w5w000009Q8G8AAK</td>\n",
       "      <td>0035w000034JqhvAAC</td>\n",
       "      <td>NaN</td>\n",
       "      <td>university of southern california</td>\n",
       "      <td>a0r5w00000V42jBAAR</td>\n",
       "    </tr>\n",
       "  </tbody>\n",
       "</table>\n",
       "</div>"
      ],
      "text/plain": [
       "           Contact__c          cluster_Id Tool_Usage_Cluster__c  \\\n",
       "0  0035w000034JtebAAC  a0x5w00000ZtjVpAAJ    a0w5w000009Q7DnAAK   \n",
       "1  0035w000034I5Y6AAK  a0x5w00000ZtjVqAAJ    a0w5w000009Q8G8AAK   \n",
       "2  0035w000034JqhvAAC  a0x5w00000ZtjVrAAJ    a0w5w000009Q8G8AAK   \n",
       "\n",
       "           contact_Id Organization_Overwrite__c  \\\n",
       "0  0035w000034JtebAAC                       NaN   \n",
       "1  0035w000034I5Y6AAK                       NaN   \n",
       "2  0035w000034JqhvAAC                       NaN   \n",
       "\n",
       "                     Organization__c Organization_email_derived__c  \n",
       "0                                NaN            a0r5w00000V42jBAAR  \n",
       "1  university of southern california            a0r5w00000V42jBAAR  \n",
       "2  university of southern california            a0r5w00000V42jBAAR  "
      ]
     },
     "metadata": {},
     "output_type": "display_data"
    }
   ],
   "source": [
    "# merge cluster with contact info\n",
    "cc_df = pd.merge(sf_cluster_df, sf_contact_df, how='left', left_on='Contact__c', right_on='contact_Id')\n",
    "\n",
    "# display\n",
    "display(cc_df.head(3))"
   ]
  },
  {
   "cell_type": "code",
   "execution_count": 19,
   "metadata": {},
   "outputs": [],
   "source": [
    "# apply overwrite\n",
    "cc_df['org_final'] = cc_df.fillna('').apply(lambda x: \\\n",
    "                    x['Organization_email_derived__c'] if x['Organization_Overwrite__c']=='' else x['Organization_Overwrite__c'],\\\n",
    "                                 axis=1)"
   ]
  },
  {
   "cell_type": "code",
   "execution_count": 20,
   "metadata": {},
   "outputs": [
    {
     "data": {
      "text/html": [
       "<div>\n",
       "<style scoped>\n",
       "    .dataframe tbody tr th:only-of-type {\n",
       "        vertical-align: middle;\n",
       "    }\n",
       "\n",
       "    .dataframe tbody tr th {\n",
       "        vertical-align: top;\n",
       "    }\n",
       "\n",
       "    .dataframe thead th {\n",
       "        text-align: right;\n",
       "    }\n",
       "</style>\n",
       "<table border=\"1\" class=\"dataframe\">\n",
       "  <thead>\n",
       "    <tr style=\"text-align: right;\">\n",
       "      <th></th>\n",
       "      <th>Tool_Usage_Cluster__c</th>\n",
       "      <th>Organization_email_derived__c</th>\n",
       "    </tr>\n",
       "  </thead>\n",
       "  <tbody>\n",
       "    <tr>\n",
       "      <th>0</th>\n",
       "      <td>a0w5w000009Q7CqAAK</td>\n",
       "      <td>a0r5w00000V42cCAAR</td>\n",
       "    </tr>\n",
       "    <tr>\n",
       "      <th>1</th>\n",
       "      <td>a0w5w000009Q7CrAAK</td>\n",
       "      <td>a0r5w00000V42cCAAR</td>\n",
       "    </tr>\n",
       "    <tr>\n",
       "      <th>2</th>\n",
       "      <td>a0w5w000009Q7CsAAK</td>\n",
       "      <td>a0r5w00000V42cCAAR</td>\n",
       "    </tr>\n",
       "  </tbody>\n",
       "</table>\n",
       "</div>"
      ],
      "text/plain": [
       "  Tool_Usage_Cluster__c Organization_email_derived__c\n",
       "0    a0w5w000009Q7CqAAK            a0r5w00000V42cCAAR\n",
       "1    a0w5w000009Q7CrAAK            a0r5w00000V42cCAAR\n",
       "2    a0w5w000009Q7CsAAK            a0r5w00000V42cCAAR"
      ]
     },
     "execution_count": 20,
     "metadata": {},
     "output_type": "execute_result"
    }
   ],
   "source": [
    "# find the most likely org within each cluster\n",
    "def get_likely_org(this_cluster_df):\n",
    "    non_empty_df = this_cluster_df[this_cluster_df.org_final != '']\n",
    "    \n",
    "    if non_empty_df.shape[0] > 0:\n",
    "        # there are non-empty organization information\n",
    "        return non_empty_df.org_final.mode().iloc[0]\n",
    "    else:\n",
    "        return ''\n",
    "\n",
    "        \n",
    "cluster_org_df = cc_df[['Tool_Usage_Cluster__c', 'org_final']].groupby('Tool_Usage_Cluster__c')\\\n",
    "                            .apply(get_likely_org).reset_index(name='Organization_email_derived__c')\n",
    "\n",
    "# display\n",
    "cluster_org_df.head(3)"
   ]
  },
  {
   "cell_type": "markdown",
   "metadata": {},
   "source": [
    "## Write to Salesforce"
   ]
  },
  {
   "cell_type": "code",
   "execution_count": 21,
   "metadata": {},
   "outputs": [
    {
     "data": {
      "text/html": [
       "<div>\n",
       "<style scoped>\n",
       "    .dataframe tbody tr th:only-of-type {\n",
       "        vertical-align: middle;\n",
       "    }\n",
       "\n",
       "    .dataframe tbody tr th {\n",
       "        vertical-align: top;\n",
       "    }\n",
       "\n",
       "    .dataframe thead th {\n",
       "        text-align: right;\n",
       "    }\n",
       "</style>\n",
       "<table border=\"1\" class=\"dataframe\">\n",
       "  <thead>\n",
       "    <tr style=\"text-align: right;\">\n",
       "      <th></th>\n",
       "      <th>0</th>\n",
       "      <th>1</th>\n",
       "    </tr>\n",
       "  </thead>\n",
       "  <tbody>\n",
       "    <tr>\n",
       "      <th>Id</th>\n",
       "      <td>a0w5w000009Q7CqAAK</td>\n",
       "      <td>a0w5w000009Q7CrAAK</td>\n",
       "    </tr>\n",
       "    <tr>\n",
       "      <th>Organization__c</th>\n",
       "      <td>a0r5w00000V42cCAAR</td>\n",
       "      <td>a0r5w00000V42cCAAR</td>\n",
       "    </tr>\n",
       "  </tbody>\n",
       "</table>\n",
       "</div>"
      ],
      "text/plain": [
       "                                  0                   1\n",
       "Id               a0w5w000009Q7CqAAK  a0w5w000009Q7CrAAK\n",
       "Organization__c  a0r5w00000V42cCAAR  a0r5w00000V42cCAAR"
      ]
     },
     "execution_count": 21,
     "metadata": {},
     "output_type": "execute_result"
    }
   ],
   "source": [
    "df_sf = pd.DataFrame()\n",
    "\n",
    "# Make sure NaN and NaT values are taken care of here\n",
    "df_sf['Id'] = cluster_org_df['Tool_Usage_Cluster__c']\n",
    "\n",
    "# derived information\n",
    "df_sf['Organization__c'] = cluster_org_df['Organization_email_derived__c']\n",
    "\n",
    "sf_original_fields = df_sf.columns\n",
    "\n",
    "# display\n",
    "df_sf.head(2).T"
   ]
  },
  {
   "cell_type": "code",
   "execution_count": 22,
   "metadata": {},
   "outputs": [
    {
     "name": "stdout",
     "output_type": "stream",
     "text": [
      "Obtained Salesforce access token ...... True\n"
     ]
    }
   ],
   "source": [
    "from DB2SalesforceAPI import DB2SalesforceAPI\n",
    "\n",
    "# create DB2 to Salesforce API object\n",
    "db_s = DB2SalesforceAPI(sf_login_params)\n",
    "\n",
    "db_s.object_id = 'tool_usage_cluster__c'\n",
    "db_s.external_id = 'Id'"
   ]
  },
  {
   "cell_type": "code",
   "execution_count": 23,
   "metadata": {},
   "outputs": [
    {
     "name": "stdout",
     "output_type": "stream",
     "text": [
      "[Success] Bulk job creation successful. Job ID = 7505w00000Mt5lMAAR\n",
      "hello\n",
      "[Success] CSV upload successful. Job ID = 7505w00000Mt5lMAAR\n",
      "[Success] Closing job successful. Job ID = 7505w00000Mt5lMAAR\n"
     ]
    }
   ],
   "source": [
    "# send data to Salesforce\n",
    "db_s.send_data(df_sf)"
   ]
  },
  {
   "cell_type": "code",
   "execution_count": 24,
   "metadata": {},
   "outputs": [
    {
     "data": {
      "text/plain": [
       "{'id': '7505w00000Mt5lMAAR',\n",
       " 'operation': 'upsert',\n",
       " 'object': 'tool_usage_cluster__c',\n",
       " 'createdById': '0055w00000ArpYvAAJ',\n",
       " 'createdDate': '2020-06-09T02:50:35.000+0000',\n",
       " 'systemModstamp': '2020-06-09T02:50:37.000+0000',\n",
       " 'state': 'InProgress',\n",
       " 'externalIdFieldName': 'Id',\n",
       " 'concurrencyMode': 'Parallel',\n",
       " 'contentType': 'CSV',\n",
       " 'apiVersion': 47.0,\n",
       " 'jobType': 'V2Ingest',\n",
       " 'lineEnding': 'LF',\n",
       " 'columnDelimiter': 'COMMA',\n",
       " 'numberRecordsProcessed': 0,\n",
       " 'numberRecordsFailed': 0,\n",
       " 'retries': 0,\n",
       " 'totalProcessingTime': 0,\n",
       " 'apiActiveProcessingTime': 0,\n",
       " 'apexProcessingTime': 0}"
      ]
     },
     "execution_count": 24,
     "metadata": {},
     "output_type": "execute_result"
    }
   ],
   "source": [
    "# check status\n",
    "db_s.check_bulk_status()"
   ]
  },
  {
   "cell_type": "markdown",
   "metadata": {},
   "source": [
    "## Determine the most likely organization of each contact"
   ]
  },
  {
   "cell_type": "markdown",
   "metadata": {},
   "source": [
    "### Rules\n",
    "\n",
    "In the following order:\n",
    "\n",
    "- If overwrite set, use overwrite\n",
    "- If citation exists, use citation\n",
    "- If email exists, use email\n",
    "- If cluster exists, use cluster\n",
    "- If none above, none"
   ]
  },
  {
   "cell_type": "code",
   "execution_count": 25,
   "metadata": {},
   "outputs": [
    {
     "data": {
      "text/plain": [
       "'sf_cluster_df'"
      ]
     },
     "metadata": {},
     "output_type": "display_data"
    },
    {
     "data": {
      "text/html": [
       "<div>\n",
       "<style scoped>\n",
       "    .dataframe tbody tr th:only-of-type {\n",
       "        vertical-align: middle;\n",
       "    }\n",
       "\n",
       "    .dataframe tbody tr th {\n",
       "        vertical-align: top;\n",
       "    }\n",
       "\n",
       "    .dataframe thead th {\n",
       "        text-align: right;\n",
       "    }\n",
       "</style>\n",
       "<table border=\"1\" class=\"dataframe\">\n",
       "  <thead>\n",
       "    <tr style=\"text-align: right;\">\n",
       "      <th></th>\n",
       "      <th>Contact__c</th>\n",
       "      <th>cluster_Id</th>\n",
       "      <th>Tool_Usage_Cluster__c</th>\n",
       "    </tr>\n",
       "  </thead>\n",
       "  <tbody>\n",
       "    <tr>\n",
       "      <th>0</th>\n",
       "      <td>0035w000034JtebAAC</td>\n",
       "      <td>a0x5w00000ZtjVpAAJ</td>\n",
       "      <td>a0w5w000009Q7DnAAK</td>\n",
       "    </tr>\n",
       "  </tbody>\n",
       "</table>\n",
       "</div>"
      ],
      "text/plain": [
       "           Contact__c          cluster_Id Tool_Usage_Cluster__c\n",
       "0  0035w000034JtebAAC  a0x5w00000ZtjVpAAJ    a0w5w000009Q7DnAAK"
      ]
     },
     "metadata": {},
     "output_type": "display_data"
    },
    {
     "data": {
      "text/plain": [
       "'sf_org_df'"
      ]
     },
     "metadata": {},
     "output_type": "display_data"
    },
    {
     "data": {
      "text/html": [
       "<div>\n",
       "<style scoped>\n",
       "    .dataframe tbody tr th:only-of-type {\n",
       "        vertical-align: middle;\n",
       "    }\n",
       "\n",
       "    .dataframe tbody tr th {\n",
       "        vertical-align: top;\n",
       "    }\n",
       "\n",
       "    .dataframe thead th {\n",
       "        text-align: right;\n",
       "    }\n",
       "</style>\n",
       "<table border=\"1\" class=\"dataframe\">\n",
       "  <thead>\n",
       "    <tr style=\"text-align: right;\">\n",
       "      <th></th>\n",
       "      <th>Domain__c</th>\n",
       "      <th>org_Id</th>\n",
       "      <th>Name</th>\n",
       "    </tr>\n",
       "  </thead>\n",
       "  <tbody>\n",
       "    <tr>\n",
       "      <th>0</th>\n",
       "      <td>upenn.edu</td>\n",
       "      <td>a0r5w00000V42c0AAB</td>\n",
       "      <td>University of Pennsylvania</td>\n",
       "    </tr>\n",
       "  </tbody>\n",
       "</table>\n",
       "</div>"
      ],
      "text/plain": [
       "   Domain__c              org_Id                        Name\n",
       "0  upenn.edu  a0r5w00000V42c0AAB  University of Pennsylvania"
      ]
     },
     "metadata": {},
     "output_type": "display_data"
    },
    {
     "data": {
      "text/plain": [
       "'sf_contact_df'"
      ]
     },
     "metadata": {},
     "output_type": "display_data"
    },
    {
     "data": {
      "text/html": [
       "<div>\n",
       "<style scoped>\n",
       "    .dataframe tbody tr th:only-of-type {\n",
       "        vertical-align: middle;\n",
       "    }\n",
       "\n",
       "    .dataframe tbody tr th {\n",
       "        vertical-align: top;\n",
       "    }\n",
       "\n",
       "    .dataframe thead th {\n",
       "        text-align: right;\n",
       "    }\n",
       "</style>\n",
       "<table border=\"1\" class=\"dataframe\">\n",
       "  <thead>\n",
       "    <tr style=\"text-align: right;\">\n",
       "      <th></th>\n",
       "      <th>contact_Id</th>\n",
       "      <th>Organization_Overwrite__c</th>\n",
       "      <th>Organization__c</th>\n",
       "      <th>Organization_email_derived__c</th>\n",
       "    </tr>\n",
       "  </thead>\n",
       "  <tbody>\n",
       "    <tr>\n",
       "      <th>0</th>\n",
       "      <td>0035w000031Vsp1AAC</td>\n",
       "      <td>NaN</td>\n",
       "      <td>NaN</td>\n",
       "      <td>NaN</td>\n",
       "    </tr>\n",
       "  </tbody>\n",
       "</table>\n",
       "</div>"
      ],
      "text/plain": [
       "           contact_Id Organization_Overwrite__c Organization__c  \\\n",
       "0  0035w000031Vsp1AAC                       NaN             NaN   \n",
       "\n",
       "  Organization_email_derived__c  \n",
       "0                           NaN  "
      ]
     },
     "metadata": {},
     "output_type": "display_data"
    },
    {
     "data": {
      "text/plain": [
       "'sf_cit_org_df'"
      ]
     },
     "metadata": {},
     "output_type": "display_data"
    },
    {
     "data": {
      "text/html": [
       "<div>\n",
       "<style scoped>\n",
       "    .dataframe tbody tr th:only-of-type {\n",
       "        vertical-align: middle;\n",
       "    }\n",
       "\n",
       "    .dataframe tbody tr th {\n",
       "        vertical-align: top;\n",
       "    }\n",
       "\n",
       "    .dataframe thead th {\n",
       "        text-align: right;\n",
       "    }\n",
       "</style>\n",
       "<table border=\"1\" class=\"dataframe\">\n",
       "  <thead>\n",
       "    <tr style=\"text-align: right;\">\n",
       "      <th></th>\n",
       "      <th>Contact__c</th>\n",
       "      <th>cit_org_Id</th>\n",
       "      <th>Organization__c</th>\n",
       "    </tr>\n",
       "  </thead>\n",
       "  <tbody>\n",
       "    <tr>\n",
       "      <th>0</th>\n",
       "      <td>0035w000034JLpOAAW</td>\n",
       "      <td>a0u5w00000RhVhTAAV</td>\n",
       "      <td>a0r5w00000V42cCAAR</td>\n",
       "    </tr>\n",
       "  </tbody>\n",
       "</table>\n",
       "</div>"
      ],
      "text/plain": [
       "           Contact__c          cit_org_Id     Organization__c\n",
       "0  0035w000034JLpOAAW  a0u5w00000RhVhTAAV  a0r5w00000V42cCAAR"
      ]
     },
     "metadata": {},
     "output_type": "display_data"
    },
    {
     "data": {
      "text/plain": [
       "'cluster_org_df'"
      ]
     },
     "metadata": {},
     "output_type": "display_data"
    },
    {
     "data": {
      "text/html": [
       "<div>\n",
       "<style scoped>\n",
       "    .dataframe tbody tr th:only-of-type {\n",
       "        vertical-align: middle;\n",
       "    }\n",
       "\n",
       "    .dataframe tbody tr th {\n",
       "        vertical-align: top;\n",
       "    }\n",
       "\n",
       "    .dataframe thead th {\n",
       "        text-align: right;\n",
       "    }\n",
       "</style>\n",
       "<table border=\"1\" class=\"dataframe\">\n",
       "  <thead>\n",
       "    <tr style=\"text-align: right;\">\n",
       "      <th></th>\n",
       "      <th>Tool_Usage_Cluster__c</th>\n",
       "      <th>Organization_email_derived__c</th>\n",
       "    </tr>\n",
       "  </thead>\n",
       "  <tbody>\n",
       "    <tr>\n",
       "      <th>0</th>\n",
       "      <td>a0w5w000009Q7CqAAK</td>\n",
       "      <td>a0r5w00000V42cCAAR</td>\n",
       "    </tr>\n",
       "  </tbody>\n",
       "</table>\n",
       "</div>"
      ],
      "text/plain": [
       "  Tool_Usage_Cluster__c Organization_email_derived__c\n",
       "0    a0w5w000009Q7CqAAK            a0r5w00000V42cCAAR"
      ]
     },
     "metadata": {},
     "output_type": "display_data"
    }
   ],
   "source": [
    "# data given\n",
    "display('sf_cluster_df'); display(sf_cluster_df.head(1))\n",
    "display('sf_org_df'); display(sf_org_df.head(1))\n",
    "display('sf_contact_df'); display(sf_contact_df.head(1))\n",
    "display('sf_cit_org_df'); display(sf_cit_org_df.head(1))\n",
    "display('cluster_org_df'); display(cluster_org_df.head(1))"
   ]
  },
  {
   "cell_type": "code",
   "execution_count": null,
   "metadata": {},
   "outputs": [],
   "source": []
  },
  {
   "cell_type": "code",
   "execution_count": 26,
   "metadata": {},
   "outputs": [
    {
     "data": {
      "text/html": [
       "<div>\n",
       "<style scoped>\n",
       "    .dataframe tbody tr th:only-of-type {\n",
       "        vertical-align: middle;\n",
       "    }\n",
       "\n",
       "    .dataframe tbody tr th {\n",
       "        vertical-align: top;\n",
       "    }\n",
       "\n",
       "    .dataframe thead th {\n",
       "        text-align: right;\n",
       "    }\n",
       "</style>\n",
       "<table border=\"1\" class=\"dataframe\">\n",
       "  <thead>\n",
       "    <tr style=\"text-align: right;\">\n",
       "      <th></th>\n",
       "      <th>Domain__c</th>\n",
       "      <th>org_Id</th>\n",
       "      <th>Name</th>\n",
       "    </tr>\n",
       "  </thead>\n",
       "  <tbody>\n",
       "    <tr>\n",
       "      <th>0</th>\n",
       "      <td>upenn.edu</td>\n",
       "      <td>a0r5w00000V42c0AAB</td>\n",
       "      <td>University of Pennsylvania</td>\n",
       "    </tr>\n",
       "    <tr>\n",
       "      <th>1</th>\n",
       "      <td>fer.hr</td>\n",
       "      <td>a0r5w00000V42c1AAB</td>\n",
       "      <td>fer</td>\n",
       "    </tr>\n",
       "  </tbody>\n",
       "</table>\n",
       "</div>"
      ],
      "text/plain": [
       "   Domain__c              org_Id                        Name\n",
       "0  upenn.edu  a0r5w00000V42c0AAB  University of Pennsylvania\n",
       "1     fer.hr  a0r5w00000V42c1AAB                         fer"
      ]
     },
     "metadata": {},
     "output_type": "display_data"
    }
   ],
   "source": [
    "display(sf_org_df.head(2))"
   ]
  },
  {
   "cell_type": "code",
   "execution_count": 27,
   "metadata": {},
   "outputs": [
    {
     "data": {
      "text/html": [
       "<div>\n",
       "<style scoped>\n",
       "    .dataframe tbody tr th:only-of-type {\n",
       "        vertical-align: middle;\n",
       "    }\n",
       "\n",
       "    .dataframe tbody tr th {\n",
       "        vertical-align: top;\n",
       "    }\n",
       "\n",
       "    .dataframe thead th {\n",
       "        text-align: right;\n",
       "    }\n",
       "</style>\n",
       "<table border=\"1\" class=\"dataframe\">\n",
       "  <thead>\n",
       "    <tr style=\"text-align: right;\">\n",
       "      <th></th>\n",
       "      <th>Domain__c</th>\n",
       "      <th>Salesforce_ID</th>\n",
       "    </tr>\n",
       "  </thead>\n",
       "  <tbody>\n",
       "    <tr>\n",
       "      <th>0</th>\n",
       "      <td>upenn.edu</td>\n",
       "      <td>a0r5w00000V42c0AAB</td>\n",
       "    </tr>\n",
       "    <tr>\n",
       "      <th>1</th>\n",
       "      <td>fer.hr</td>\n",
       "      <td>a0r5w00000V42c1AAB</td>\n",
       "    </tr>\n",
       "  </tbody>\n",
       "</table>\n",
       "</div>"
      ],
      "text/plain": [
       "   Domain__c       Salesforce_ID\n",
       "0  upenn.edu  a0r5w00000V42c0AAB\n",
       "1     fer.hr  a0r5w00000V42c1AAB"
      ]
     },
     "metadata": {},
     "output_type": "display_data"
    }
   ],
   "source": [
    "# build domain, org cluster ID as salesforce cluster\n",
    "sf_org_ID_df = pd.DataFrame()\n",
    "sf_org_ID_df['Domain__c'] = sf_org_df.iloc[:,0]\n",
    "sf_org_ID_df['Salesforce_ID'] = sf_org_df.iloc[:,1]\n",
    "display(sf_org_ID_df.head(2))\n"
   ]
  },
  {
   "cell_type": "code",
   "execution_count": 28,
   "metadata": {},
   "outputs": [],
   "source": [
    "# join salesforce ID back to contact DF\n",
    "df = pd.merge(sf_org_ID_df, df, how='right', left_on='Domain__c', right_on='domain').drop('Domain__c', axis=1)\\\n",
    "            .rename(columns={'Id':'Salesforce_ID'})"
   ]
  },
  {
   "cell_type": "code",
   "execution_count": 33,
   "metadata": {},
   "outputs": [
    {
     "data": {
      "text/html": [
       "<div>\n",
       "<style scoped>\n",
       "    .dataframe tbody tr th:only-of-type {\n",
       "        vertical-align: middle;\n",
       "    }\n",
       "\n",
       "    .dataframe tbody tr th {\n",
       "        vertical-align: top;\n",
       "    }\n",
       "\n",
       "    .dataframe thead th {\n",
       "        text-align: right;\n",
       "    }\n",
       "</style>\n",
       "<table border=\"1\" class=\"dataframe\">\n",
       "  <thead>\n",
       "    <tr style=\"text-align: right;\">\n",
       "      <th></th>\n",
       "      <th>Salesforce_ID</th>\n",
       "      <th>id</th>\n",
       "      <th>name</th>\n",
       "      <th>username</th>\n",
       "      <th>block</th>\n",
       "      <th>email</th>\n",
       "      <th>sendEmail</th>\n",
       "      <th>registerDate</th>\n",
       "      <th>lastvisitDate</th>\n",
       "      <th>orgtype</th>\n",
       "      <th>organization</th>\n",
       "      <th>orcid</th>\n",
       "      <th>email_domain</th>\n",
       "      <th>domain_name</th>\n",
       "      <th>domain</th>\n",
       "      <th>industry</th>\n",
       "      <th>size</th>\n",
       "      <th>country</th>\n",
       "    </tr>\n",
       "  </thead>\n",
       "  <tbody>\n",
       "    <tr>\n",
       "      <th>0</th>\n",
       "      <td>a0r5w00000V42c0AAB</td>\n",
       "      <td>128134</td>\n",
       "      <td>Yu, Chendi</td>\n",
       "      <td>chendiyu</td>\n",
       "      <td>0</td>\n",
       "      <td>chendiyu@upenn.edu</td>\n",
       "      <td>-1</td>\n",
       "      <td>2015-09-03 00:33:27</td>\n",
       "      <td>2016-07-04 14:29:33</td>\n",
       "      <td>NaN</td>\n",
       "      <td>NaN</td>\n",
       "      <td>NaN</td>\n",
       "      <td>upenn.edu</td>\n",
       "      <td>university of pennsylvania</td>\n",
       "      <td>upenn.edu</td>\n",
       "      <td>higher education</td>\n",
       "      <td>10001+</td>\n",
       "      <td>united states</td>\n",
       "    </tr>\n",
       "    <tr>\n",
       "      <th>1</th>\n",
       "      <td>a0r5w00000V42c0AAB</td>\n",
       "      <td>128913</td>\n",
       "      <td>Kameron Leo Oser</td>\n",
       "      <td>kamoser</td>\n",
       "      <td>0</td>\n",
       "      <td>kamoser@upenn.edu</td>\n",
       "      <td>-1</td>\n",
       "      <td>2015-09-13 02:38:17</td>\n",
       "      <td>2015-09-17 18:09:11</td>\n",
       "      <td>NaN</td>\n",
       "      <td>NaN</td>\n",
       "      <td>NaN</td>\n",
       "      <td>upenn.edu</td>\n",
       "      <td>university of pennsylvania</td>\n",
       "      <td>upenn.edu</td>\n",
       "      <td>higher education</td>\n",
       "      <td>10001+</td>\n",
       "      <td>united states</td>\n",
       "    </tr>\n",
       "  </tbody>\n",
       "</table>\n",
       "</div>"
      ],
      "text/plain": [
       "        Salesforce_ID      id              name  username  block  \\\n",
       "0  a0r5w00000V42c0AAB  128134        Yu, Chendi  chendiyu      0   \n",
       "1  a0r5w00000V42c0AAB  128913  Kameron Leo Oser   kamoser      0   \n",
       "\n",
       "                email  sendEmail        registerDate       lastvisitDate  \\\n",
       "0  chendiyu@upenn.edu         -1 2015-09-03 00:33:27 2016-07-04 14:29:33   \n",
       "1   kamoser@upenn.edu         -1 2015-09-13 02:38:17 2015-09-17 18:09:11   \n",
       "\n",
       "  orgtype organization orcid email_domain                 domain_name  \\\n",
       "0     NaN          NaN   NaN    upenn.edu  university of pennsylvania   \n",
       "1     NaN          NaN   NaN    upenn.edu  university of pennsylvania   \n",
       "\n",
       "      domain          industry    size        country  \n",
       "0  upenn.edu  higher education  10001+  united states  \n",
       "1  upenn.edu  higher education  10001+  united states  "
      ]
     },
     "metadata": {},
     "output_type": "display_data"
    }
   ],
   "source": [
    "# display\n",
    "display(df.head(2))"
   ]
  },
  {
   "cell_type": "markdown",
   "metadata": {},
   "source": [
    "## Match data with Salesforce format"
   ]
  },
  {
   "cell_type": "code",
   "execution_count": 31,
   "metadata": {},
   "outputs": [],
   "source": [
    "# split full name into first, middle, and last names\n",
    "def split_full_name(this_name):\n",
    "    this_name_list = list(filter(None, this_name.split(' ')))\n",
    "    \n",
    "    if len(this_name_list) == 1:\n",
    "        # single word name\n",
    "        return pd.Series([this_name_list[0],None, this_name_list[0]])\n",
    "    \n",
    "    elif len(this_name_list) > 1:\n",
    "        # multi word name\n",
    "        return pd.Series([this_name_list[0],' '.join(this_name_list[1:-1]),this_name_list[-1]])"
   ]
  },
  {
   "cell_type": "code",
   "execution_count": 32,
   "metadata": {},
   "outputs": [
    {
     "data": {
      "text/html": [
       "<div>\n",
       "<style scoped>\n",
       "    .dataframe tbody tr th:only-of-type {\n",
       "        vertical-align: middle;\n",
       "    }\n",
       "\n",
       "    .dataframe tbody tr th {\n",
       "        vertical-align: top;\n",
       "    }\n",
       "\n",
       "    .dataframe thead th {\n",
       "        text-align: right;\n",
       "    }\n",
       "</style>\n",
       "<table border=\"1\" class=\"dataframe\">\n",
       "  <thead>\n",
       "    <tr style=\"text-align: right;\">\n",
       "      <th></th>\n",
       "      <th>0</th>\n",
       "      <th>1</th>\n",
       "    </tr>\n",
       "  </thead>\n",
       "  <tbody>\n",
       "    <tr>\n",
       "      <th>firstname</th>\n",
       "      <td>Yu,</td>\n",
       "      <td>Kameron</td>\n",
       "    </tr>\n",
       "    <tr>\n",
       "      <th>Middle_name__c</th>\n",
       "      <td></td>\n",
       "      <td>Leo</td>\n",
       "    </tr>\n",
       "    <tr>\n",
       "      <th>lastname</th>\n",
       "      <td>Chendi</td>\n",
       "      <td>Oser</td>\n",
       "    </tr>\n",
       "    <tr>\n",
       "      <th>nanoHUB_user_ID__c</th>\n",
       "      <td>128134</td>\n",
       "      <td>128913</td>\n",
       "    </tr>\n",
       "    <tr>\n",
       "      <th>nanoHUB_username__c</th>\n",
       "      <td>chendiyu</td>\n",
       "      <td>kamoser</td>\n",
       "    </tr>\n",
       "    <tr>\n",
       "      <th>Email</th>\n",
       "      <td>chendiyu@upenn.edu</td>\n",
       "      <td>kamoser@upenn.edu</td>\n",
       "    </tr>\n",
       "    <tr>\n",
       "      <th>HasOptedOutOfEmail</th>\n",
       "      <td>1</td>\n",
       "      <td>1</td>\n",
       "    </tr>\n",
       "    <tr>\n",
       "      <th>nanoHUB_account_BLOCKED__c</th>\n",
       "      <td>0</td>\n",
       "      <td>0</td>\n",
       "    </tr>\n",
       "    <tr>\n",
       "      <th>nanoHUB_registration_date__c</th>\n",
       "      <td>2015-09-03</td>\n",
       "      <td>2015-09-13</td>\n",
       "    </tr>\n",
       "    <tr>\n",
       "      <th>nanoHUB_last_active_date__c</th>\n",
       "      <td>2016-07-04</td>\n",
       "      <td>2015-09-17</td>\n",
       "    </tr>\n",
       "    <tr>\n",
       "      <th>Detailed_user_timeline_to_Tableau__c</th>\n",
       "      <td>https://tableauqa.itap.purdue.edu/views/profil...</td>\n",
       "      <td>https://tableauqa.itap.purdue.edu/views/profil...</td>\n",
       "    </tr>\n",
       "    <tr>\n",
       "      <th>nanoHUB_user_page__c</th>\n",
       "      <td>https://nanohub.org/members/128134</td>\n",
       "      <td>https://nanohub.org/members/128913</td>\n",
       "    </tr>\n",
       "    <tr>\n",
       "      <th>ORCID__c</th>\n",
       "      <td></td>\n",
       "      <td></td>\n",
       "    </tr>\n",
       "    <tr>\n",
       "      <th>Organization__c</th>\n",
       "      <td></td>\n",
       "      <td></td>\n",
       "    </tr>\n",
       "    <tr>\n",
       "      <th>Organization_Type__c</th>\n",
       "      <td></td>\n",
       "      <td></td>\n",
       "    </tr>\n",
       "    <tr>\n",
       "      <th>Organization_email_derived__c</th>\n",
       "      <td>a0r5w00000V42c0AAB</td>\n",
       "      <td>a0r5w00000V42c0AAB</td>\n",
       "    </tr>\n",
       "  </tbody>\n",
       "</table>\n",
       "</div>"
      ],
      "text/plain": [
       "                                                                                      0  \\\n",
       "firstname                                                                           Yu,   \n",
       "Middle_name__c                                                                            \n",
       "lastname                                                                         Chendi   \n",
       "nanoHUB_user_ID__c                                                               128134   \n",
       "nanoHUB_username__c                                                            chendiyu   \n",
       "Email                                                                chendiyu@upenn.edu   \n",
       "HasOptedOutOfEmail                                                                    1   \n",
       "nanoHUB_account_BLOCKED__c                                                            0   \n",
       "nanoHUB_registration_date__c                                                 2015-09-03   \n",
       "nanoHUB_last_active_date__c                                                  2016-07-04   \n",
       "Detailed_user_timeline_to_Tableau__c  https://tableauqa.itap.purdue.edu/views/profil...   \n",
       "nanoHUB_user_page__c                                 https://nanohub.org/members/128134   \n",
       "ORCID__c                                                                                  \n",
       "Organization__c                                                                           \n",
       "Organization_Type__c                                                                      \n",
       "Organization_email_derived__c                                        a0r5w00000V42c0AAB   \n",
       "\n",
       "                                                                                      1  \n",
       "firstname                                                                       Kameron  \n",
       "Middle_name__c                                                                      Leo  \n",
       "lastname                                                                           Oser  \n",
       "nanoHUB_user_ID__c                                                               128913  \n",
       "nanoHUB_username__c                                                             kamoser  \n",
       "Email                                                                 kamoser@upenn.edu  \n",
       "HasOptedOutOfEmail                                                                    1  \n",
       "nanoHUB_account_BLOCKED__c                                                            0  \n",
       "nanoHUB_registration_date__c                                                 2015-09-13  \n",
       "nanoHUB_last_active_date__c                                                  2015-09-17  \n",
       "Detailed_user_timeline_to_Tableau__c  https://tableauqa.itap.purdue.edu/views/profil...  \n",
       "nanoHUB_user_page__c                                 https://nanohub.org/members/128913  \n",
       "ORCID__c                                                                                 \n",
       "Organization__c                                                                          \n",
       "Organization_Type__c                                                                     \n",
       "Organization_email_derived__c                                        a0r5w00000V42c0AAB  "
      ]
     },
     "execution_count": 32,
     "metadata": {},
     "output_type": "execute_result"
    }
   ],
   "source": [
    "df_sf = pd.DataFrame()\n",
    "\n",
    "# Make sure NaN and NaT values are taken care of here\n",
    "df_sf[['firstname', 'Middle_name__c', 'lastname']] = df['name'].apply(split_full_name)\n",
    "\n",
    "df_sf['nanoHUB_user_ID__c']            = df['id']\n",
    "df_sf['nanoHUB_username__c']           = df['username']\n",
    "df_sf['Email']                         = df['email'].fillna('').apply(lambda x: '' if '@invalid' in x else x)\n",
    "\n",
    "# for sendEmail: 0 = opt-out, 1 = receive email. For salesforce HasOptedOutOfEmail, it's exact opposite\n",
    "df_sf['HasOptedOutOfEmail']            = df['sendEmail'].apply(lambda x: 0 if x==1 else 1)\n",
    "df_sf['nanoHUB_account_BLOCKED__c']    = df['block'].fillna(0)\n",
    "\n",
    "# solidify time-related columns from datetime to string\n",
    "df_sf['nanoHUB_registration_date__c']  = df['registerDate'].dt.date.fillna('').astype('str')\n",
    "df_sf['nanoHUB_last_active_date__c']   = df['lastvisitDate'].dt.date.fillna('').astype('str')\n",
    "\n",
    "# Tableau detailed view\n",
    "df_sf['Detailed_user_timeline_to_Tableau__c'] = df_sf['Email'].apply(lambda x: 'https://tableauqa.itap.purdue.edu/views/profile/ProfileTimeline?Id%20Email='+x+'\\\n",
    "&:iframeSizedToWindow=true&:embed=y&:showAppBanner=false\\\n",
    "&:display_count=no&:showVizHome=no#6' if x != '' else '')\n",
    "\n",
    "# nanoHUB user profile\n",
    "df_sf['nanoHUB_user_page__c'] = df_sf['nanoHUB_user_ID__c'].apply(lambda x: 'https://nanohub.org/members/%d'%x if x != '' else '')\n",
    "\n",
    "df_sf['ORCID__c'] = df['orcid'].fillna('')\n",
    "df_sf['Organization__c'] = df['organization'].fillna('')\n",
    "df_sf['Organization_Type__c'] = df['orgtype'].fillna('')\n",
    "\n",
    "# derived information\n",
    "df_sf['Organization_email_derived__c'] = df['Salesforce_ID']\n",
    "\n",
    "sf_original_fields = df_sf.columns\n",
    "\n",
    "# display\n",
    "df_sf.head(2).T"
   ]
  },
  {
   "cell_type": "markdown",
   "metadata": {},
   "source": [
    "## To Salesforce Sales Cloud CRM"
   ]
  },
  {
   "cell_type": "code",
   "execution_count": 34,
   "metadata": {},
   "outputs": [
    {
     "name": "stdout",
     "output_type": "stream",
     "text": [
      "Obtained Salesforce access token ...... True\n"
     ]
    }
   ],
   "source": [
    "from DB2SalesforceAPI import DB2SalesforceAPI\n",
    "\n",
    "# create DB2 to Salesforce API object\n",
    "db_s = DB2SalesforceAPI(sf_login_params)\n",
    "\n",
    "db_s.object_id = object_id\n",
    "db_s.external_id = external_id"
   ]
  },
  {
   "cell_type": "code",
   "execution_count": 41,
   "metadata": {},
   "outputs": [
    {
     "data": {
      "text/html": [
       "<div>\n",
       "<style scoped>\n",
       "    .dataframe tbody tr th:only-of-type {\n",
       "        vertical-align: middle;\n",
       "    }\n",
       "\n",
       "    .dataframe tbody tr th {\n",
       "        vertical-align: top;\n",
       "    }\n",
       "\n",
       "    .dataframe thead th {\n",
       "        text-align: right;\n",
       "    }\n",
       "</style>\n",
       "<table border=\"1\" class=\"dataframe\">\n",
       "  <thead>\n",
       "    <tr style=\"text-align: right;\">\n",
       "      <th></th>\n",
       "      <th>firstname</th>\n",
       "      <th>Middle_name__c</th>\n",
       "      <th>lastname</th>\n",
       "      <th>nanoHUB_user_ID__c</th>\n",
       "      <th>nanoHUB_username__c</th>\n",
       "      <th>Email</th>\n",
       "      <th>HasOptedOutOfEmail</th>\n",
       "      <th>nanoHUB_account_BLOCKED__c</th>\n",
       "      <th>nanoHUB_registration_date__c</th>\n",
       "      <th>nanoHUB_last_active_date__c</th>\n",
       "      <th>Detailed_user_timeline_to_Tableau__c</th>\n",
       "      <th>nanoHUB_user_page__c</th>\n",
       "      <th>ORCID__c</th>\n",
       "      <th>Organization__c</th>\n",
       "      <th>Organization_Type__c</th>\n",
       "      <th>Organization_email_derived__c</th>\n",
       "    </tr>\n",
       "  </thead>\n",
       "  <tbody>\n",
       "    <tr>\n",
       "      <th>0</th>\n",
       "      <td>Yu,</td>\n",
       "      <td></td>\n",
       "      <td>Chendi</td>\n",
       "      <td>128134</td>\n",
       "      <td>chendiyu</td>\n",
       "      <td>chendiyu@upenn.edu</td>\n",
       "      <td>1</td>\n",
       "      <td>0</td>\n",
       "      <td>2015-09-03</td>\n",
       "      <td>2016-07-04</td>\n",
       "      <td>https://tableauqa.itap.purdue.edu/views/profil...</td>\n",
       "      <td>https://nanohub.org/members/128134</td>\n",
       "      <td></td>\n",
       "      <td></td>\n",
       "      <td></td>\n",
       "      <td>a0r5w00000V42c0AAB</td>\n",
       "    </tr>\n",
       "    <tr>\n",
       "      <th>1</th>\n",
       "      <td>Kameron</td>\n",
       "      <td>Leo</td>\n",
       "      <td>Oser</td>\n",
       "      <td>128913</td>\n",
       "      <td>kamoser</td>\n",
       "      <td>kamoser@upenn.edu</td>\n",
       "      <td>1</td>\n",
       "      <td>0</td>\n",
       "      <td>2015-09-13</td>\n",
       "      <td>2015-09-17</td>\n",
       "      <td>https://tableauqa.itap.purdue.edu/views/profil...</td>\n",
       "      <td>https://nanohub.org/members/128913</td>\n",
       "      <td></td>\n",
       "      <td></td>\n",
       "      <td></td>\n",
       "      <td>a0r5w00000V42c0AAB</td>\n",
       "    </tr>\n",
       "    <tr>\n",
       "      <th>2</th>\n",
       "      <td>Akshay</td>\n",
       "      <td></td>\n",
       "      <td>Ananthakrishnan</td>\n",
       "      <td>131613</td>\n",
       "      <td>akshay91</td>\n",
       "      <td>akshayan@upenn.edu</td>\n",
       "      <td>1</td>\n",
       "      <td>0</td>\n",
       "      <td>2015-10-19</td>\n",
       "      <td>2015-10-19</td>\n",
       "      <td>https://tableauqa.itap.purdue.edu/views/profil...</td>\n",
       "      <td>https://nanohub.org/members/131613</td>\n",
       "      <td></td>\n",
       "      <td>University of Pennsylvania</td>\n",
       "      <td>universitygraduate</td>\n",
       "      <td>a0r5w00000V42c0AAB</td>\n",
       "    </tr>\n",
       "    <tr>\n",
       "      <th>3</th>\n",
       "      <td>Azadi,</td>\n",
       "      <td></td>\n",
       "      <td>Mohsen</td>\n",
       "      <td>136731</td>\n",
       "      <td>azadi</td>\n",
       "      <td>azadi@upenn.edu</td>\n",
       "      <td>1</td>\n",
       "      <td>0</td>\n",
       "      <td>2015-12-28</td>\n",
       "      <td>2015-12-28</td>\n",
       "      <td>https://tableauqa.itap.purdue.edu/views/profil...</td>\n",
       "      <td>https://nanohub.org/members/136731</td>\n",
       "      <td></td>\n",
       "      <td></td>\n",
       "      <td></td>\n",
       "      <td>a0r5w00000V42c0AAB</td>\n",
       "    </tr>\n",
       "    <tr>\n",
       "      <th>4</th>\n",
       "      <td>Zhou,</td>\n",
       "      <td></td>\n",
       "      <td>Songsong</td>\n",
       "      <td>139502</td>\n",
       "      <td>songzhou</td>\n",
       "      <td>songzhou@upenn.edu</td>\n",
       "      <td>1</td>\n",
       "      <td>0</td>\n",
       "      <td>2016-02-10</td>\n",
       "      <td>2016-02-10</td>\n",
       "      <td>https://tableauqa.itap.purdue.edu/views/profil...</td>\n",
       "      <td>https://nanohub.org/members/139502</td>\n",
       "      <td></td>\n",
       "      <td></td>\n",
       "      <td></td>\n",
       "      <td>a0r5w00000V42c0AAB</td>\n",
       "    </tr>\n",
       "  </tbody>\n",
       "</table>\n",
       "</div>"
      ],
      "text/plain": [
       "  firstname Middle_name__c         lastname  nanoHUB_user_ID__c  \\\n",
       "0       Yu,                          Chendi              128134   \n",
       "1   Kameron            Leo             Oser              128913   \n",
       "2    Akshay                 Ananthakrishnan              131613   \n",
       "3    Azadi,                          Mohsen              136731   \n",
       "4     Zhou,                        Songsong              139502   \n",
       "\n",
       "  nanoHUB_username__c               Email  HasOptedOutOfEmail  \\\n",
       "0            chendiyu  chendiyu@upenn.edu                   1   \n",
       "1             kamoser   kamoser@upenn.edu                   1   \n",
       "2            akshay91  akshayan@upenn.edu                   1   \n",
       "3               azadi     azadi@upenn.edu                   1   \n",
       "4            songzhou  songzhou@upenn.edu                   1   \n",
       "\n",
       "   nanoHUB_account_BLOCKED__c nanoHUB_registration_date__c  \\\n",
       "0                           0                   2015-09-03   \n",
       "1                           0                   2015-09-13   \n",
       "2                           0                   2015-10-19   \n",
       "3                           0                   2015-12-28   \n",
       "4                           0                   2016-02-10   \n",
       "\n",
       "  nanoHUB_last_active_date__c  \\\n",
       "0                  2016-07-04   \n",
       "1                  2015-09-17   \n",
       "2                  2015-10-19   \n",
       "3                  2015-12-28   \n",
       "4                  2016-02-10   \n",
       "\n",
       "                Detailed_user_timeline_to_Tableau__c  \\\n",
       "0  https://tableauqa.itap.purdue.edu/views/profil...   \n",
       "1  https://tableauqa.itap.purdue.edu/views/profil...   \n",
       "2  https://tableauqa.itap.purdue.edu/views/profil...   \n",
       "3  https://tableauqa.itap.purdue.edu/views/profil...   \n",
       "4  https://tableauqa.itap.purdue.edu/views/profil...   \n",
       "\n",
       "                 nanoHUB_user_page__c ORCID__c             Organization__c  \\\n",
       "0  https://nanohub.org/members/128134                                        \n",
       "1  https://nanohub.org/members/128913                                        \n",
       "2  https://nanohub.org/members/131613           University of Pennsylvania   \n",
       "3  https://nanohub.org/members/136731                                        \n",
       "4  https://nanohub.org/members/139502                                        \n",
       "\n",
       "  Organization_Type__c Organization_email_derived__c  \n",
       "0                                 a0r5w00000V42c0AAB  \n",
       "1                                 a0r5w00000V42c0AAB  \n",
       "2   universitygraduate            a0r5w00000V42c0AAB  \n",
       "3                                 a0r5w00000V42c0AAB  \n",
       "4                                 a0r5w00000V42c0AAB  "
      ]
     },
     "metadata": {},
     "output_type": "display_data"
    }
   ],
   "source": [
    "## testing yahoo removal\n",
    "df_sf['Organization__c'] = df_sf['Organization__c'].replace(to_replace='yahoo',value='   ')\n",
    "display(df_sf.head(5))"
   ]
  },
  {
   "cell_type": "code",
   "execution_count": 42,
   "metadata": {},
   "outputs": [
    {
     "name": "stdout",
     "output_type": "stream",
     "text": [
      "[Success] Bulk job creation successful. Job ID = 7505w00000Mt5utAAB\n",
      "hello\n",
      "[Success] CSV upload successful. Job ID = 7505w00000Mt5utAAB\n",
      "[Success] Closing job successful. Job ID = 7505w00000Mt5utAAB\n"
     ]
    }
   ],
   "source": [
    "# send data to Salesforce\n",
    "db_s.send_data(df_sf)"
   ]
  },
  {
   "cell_type": "code",
   "execution_count": 43,
   "metadata": {},
   "outputs": [
    {
     "data": {
      "text/plain": [
       "{'id': '7505w00000Mt5utAAB',\n",
       " 'operation': 'upsert',\n",
       " 'object': 'Contact',\n",
       " 'createdById': '0055w00000ArpYvAAJ',\n",
       " 'createdDate': '2020-06-09T03:08:49.000+0000',\n",
       " 'systemModstamp': '2020-06-09T03:10:29.000+0000',\n",
       " 'state': 'InProgress',\n",
       " 'externalIdFieldName': 'nanoHUB_user_ID__c',\n",
       " 'concurrencyMode': 'Parallel',\n",
       " 'contentType': 'CSV',\n",
       " 'apiVersion': 47.0,\n",
       " 'jobType': 'V2Ingest',\n",
       " 'lineEnding': 'LF',\n",
       " 'columnDelimiter': 'COMMA',\n",
       " 'numberRecordsProcessed': 0,\n",
       " 'numberRecordsFailed': 0,\n",
       " 'retries': 0,\n",
       " 'totalProcessingTime': 0,\n",
       " 'apiActiveProcessingTime': 0,\n",
       " 'apexProcessingTime': 0}"
      ]
     },
     "execution_count": 43,
     "metadata": {},
     "output_type": "execute_result"
    }
   ],
   "source": [
    "# check status\n",
    "db_s.check_bulk_status()"
   ]
  },
  {
   "cell_type": "code",
   "execution_count": 44,
   "metadata": {},
   "outputs": [
    {
     "name": "stdout",
     "output_type": "stream",
     "text": [
      "''\n"
     ]
    }
   ],
   "source": [
    "# check status\n",
    "from pprint import pprint\n",
    "\n",
    "pprint(db_s.check_bulk_failed_results())"
   ]
  },
  {
   "cell_type": "code",
   "execution_count": null,
   "metadata": {},
   "outputs": [],
   "source": []
  }
 ],
 "metadata": {
  "celltoolbar": "Tags",
  "kernelspec": {
   "display_name": "Python 3",
   "language": "python",
   "name": "python3"
  },
  "language_info": {
   "codemirror_mode": {
    "name": "ipython",
    "version": 3
   },
   "file_extension": ".py",
   "mimetype": "text/x-python",
   "name": "python",
   "nbconvert_exporter": "python",
   "pygments_lexer": "ipython3",
   "version": "3.7.6"
  }
 },
 "nbformat": 4,
 "nbformat_minor": 4
}
