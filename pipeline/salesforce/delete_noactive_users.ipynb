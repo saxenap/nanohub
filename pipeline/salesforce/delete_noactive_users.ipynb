{
 "cells": [
  {
   "cell_type": "markdown",
   "metadata": {},
   "source": [
    "## Finding all users that have spam flags and deleting them from within salesforce"
   ]
  },
  {
   "cell_type": "code",
   "execution_count": 2,
   "metadata": {},
   "outputs": [],
   "source": [
    "## Parameters\n",
    "#hours_range = 24*365*1 # number of hours to look back\n",
    "\n",
    "# API settings\n",
    "api_url = '/services/data/v43.0/sobjects'\n",
    "external_id = 'nanoHUB_user_ID__c'\n",
    "object_id = 'Contact'\n",
    "\n",
    "# login credentials\n",
    "sql_login_params = {\"username\": \"wang2506_ro\", \"password\": \"fnVnwcCS7iT45EsA\"}\n",
    "sf_login_params = {\n",
    "    \"grant_type\": \"password\",\n",
    "    \"client_id\": \"3MVG95jctIhbyCppj0SNJ75IsZ1y8UPGZtSNF4j8FNVXz.De8Lu4jHm3rjRosAtsHy6qjHx3i4S_QbQzvBePG\",\n",
    "    \"client_secret\": \"D1623C6D3607D4FC8004B92C761DFB6C1F70CCD129C5501E357028DFA00F5764\",\n",
    "    \"username\":\"wang2506@purdue.edu\",\n",
    "    \"password\":\"sf2021shitOPmlIiFMLnrudgC6oSX0WV1T\",   \n",
    "} \n"
   ]
  },
  {
   "cell_type": "code",
   "execution_count": 1,
   "metadata": {},
   "outputs": [],
   "source": [
    "import sys\n",
    "#sys.path.append('/home/users/wang2506/nanohub_salesforce_integ/salesforce')\n",
    "\n",
    "import pandas as pd\n",
    "import datetime"
   ]
  },
  {
   "cell_type": "markdown",
   "metadata": {},
   "source": [
    "## Find all users that have block tags from salesforce\n"
   ]
  },
  {
   "cell_type": "code",
   "execution_count": 5,
   "metadata": {},
   "outputs": [
    {
     "name": "stdout",
     "output_type": "stream",
     "text": [
      "Obtained Salesforce access token ...... True\n"
     ]
    }
   ],
   "source": [
    "from DB2SalesforceAPI import DB2SalesforceAPI\n",
    "# create DB2 to Salesforce API object\n",
    "db_s = DB2SalesforceAPI(sf_login_params)"
   ]
  },
  {
   "cell_type": "code",
   "execution_count": 10,
   "metadata": {},
   "outputs": [
    {
     "name": "stdout",
     "output_type": "stream",
     "text": [
      "[Success] Bulk job creation successful. Job ID = 7505w00000OpRJ0AAN\n",
      "{\"id\":\"7505w00000OpRJ0AAN\",\"operation\":\"query\",\"object\":\"Contact\",\"createdById\":\"0055w00000DM5bOAAT\",\"createdDate\":\"2020-08-18T22:35:08.000+0000\",\"systemModstamp\":\"2020-08-18T22:35:08.000+0000\",\"state\":\"UploadComplete\",\"concurrencyMode\":\"Parallel\",\"contentType\":\"CSV\",\"apiVersion\":47.0,\"jobType\":\"V2Query\",\"lineEnding\":\"LF\",\"columnDelimiter\":\"COMMA\",\"retries\":0,\"totalProcessingTime\":0}\n",
      "{\"id\":\"7505w00000OpRJ0AAN\",\"operation\":\"query\",\"object\":\"Contact\",\"createdById\":\"0055w00000DM5bOAAT\",\"createdDate\":\"2020-08-18T22:35:08.000+0000\",\"systemModstamp\":\"2020-08-18T22:35:09.000+0000\",\"state\":\"InProgress\",\"concurrencyMode\":\"Parallel\",\"contentType\":\"CSV\",\"apiVersion\":47.0,\"jobType\":\"V2Query\",\"lineEnding\":\"LF\",\"columnDelimiter\":\"COMMA\",\"numberRecordsProcessed\":0,\"retries\":0,\"totalProcessingTime\":0}\n",
      "{\"id\":\"7505w00000OpRJ0AAN\",\"operation\":\"query\",\"object\":\"Contact\",\"createdById\":\"0055w00000DM5bOAAT\",\"createdDate\":\"2020-08-18T22:35:08.000+0000\",\"systemModstamp\":\"2020-08-18T22:35:26.000+0000\",\"state\":\"JobComplete\",\"concurrencyMode\":\"Parallel\",\"contentType\":\"CSV\",\"apiVersion\":47.0,\"jobType\":\"V2Query\",\"lineEnding\":\"LF\",\"columnDelimiter\":\"COMMA\",\"numberRecordsProcessed\":225062,\"retries\":0,\"totalProcessingTime\":15508}\n",
      "[Success] Bulk job completed successfully.\n"
     ]
    },
    {
     "data": {
      "text/html": [
       "<div>\n",
       "<style scoped>\n",
       "    .dataframe tbody tr th:only-of-type {\n",
       "        vertical-align: middle;\n",
       "    }\n",
       "\n",
       "    .dataframe tbody tr th {\n",
       "        vertical-align: top;\n",
       "    }\n",
       "\n",
       "    .dataframe thead th {\n",
       "        text-align: right;\n",
       "    }\n",
       "</style>\n",
       "<table border=\"1\" class=\"dataframe\">\n",
       "  <thead>\n",
       "    <tr style=\"text-align: right;\">\n",
       "      <th></th>\n",
       "      <th>FirstName</th>\n",
       "      <th>Id</th>\n",
       "      <th>LastName</th>\n",
       "      <th>nanoHUB_account_BLOCKED__c</th>\n",
       "      <th>nanoHUB_user_ID__c</th>\n",
       "    </tr>\n",
       "  </thead>\n",
       "  <tbody>\n",
       "    <tr>\n",
       "      <th>0</th>\n",
       "      <td>hubrepo</td>\n",
       "      <td>0035w000031Vsp1AAC</td>\n",
       "      <td>hubrepo</td>\n",
       "      <td>False</td>\n",
       "      <td>998.0</td>\n",
       "    </tr>\n",
       "    <tr>\n",
       "      <th>1</th>\n",
       "      <td>nanoHUB</td>\n",
       "      <td>0035w000031Vsp2AAC</td>\n",
       "      <td>support</td>\n",
       "      <td>False</td>\n",
       "      <td>1683.0</td>\n",
       "    </tr>\n",
       "    <tr>\n",
       "      <th>2</th>\n",
       "      <td>Grid</td>\n",
       "      <td>0035w000031Vsp3AAC</td>\n",
       "      <td>Statistics</td>\n",
       "      <td>False</td>\n",
       "      <td>1684.0</td>\n",
       "    </tr>\n",
       "  </tbody>\n",
       "</table>\n",
       "</div>"
      ],
      "text/plain": [
       "  FirstName                  Id    LastName  nanoHUB_account_BLOCKED__c  \\\n",
       "0   hubrepo  0035w000031Vsp1AAC     hubrepo                       False   \n",
       "1   nanoHUB  0035w000031Vsp2AAC     support                       False   \n",
       "2      Grid  0035w000031Vsp3AAC  Statistics                       False   \n",
       "\n",
       "   nanoHUB_user_ID__c  \n",
       "0               998.0  \n",
       "1              1683.0  \n",
       "2              1684.0  "
      ]
     },
     "execution_count": 10,
     "metadata": {},
     "output_type": "execute_result"
    }
   ],
   "source": [
    "# get Salesforce ID for organizations\n",
    "sf_contact_df = db_s.query_data('SELECT Id, firstname, lastname, nanoHUB_user_ID__c,nanoHUB_account_BLOCKED__c FROM Contact')\n",
    "\n",
    "# display\n",
    "sf_contact_df.head(3)"
   ]
  },
  {
   "cell_type": "code",
   "execution_count": 11,
   "metadata": {},
   "outputs": [
    {
     "data": {
      "text/html": [
       "<div>\n",
       "<style scoped>\n",
       "    .dataframe tbody tr th:only-of-type {\n",
       "        vertical-align: middle;\n",
       "    }\n",
       "\n",
       "    .dataframe tbody tr th {\n",
       "        vertical-align: top;\n",
       "    }\n",
       "\n",
       "    .dataframe thead th {\n",
       "        text-align: right;\n",
       "    }\n",
       "</style>\n",
       "<table border=\"1\" class=\"dataframe\">\n",
       "  <thead>\n",
       "    <tr style=\"text-align: right;\">\n",
       "      <th></th>\n",
       "      <th>FirstName</th>\n",
       "      <th>Id</th>\n",
       "      <th>LastName</th>\n",
       "      <th>nanoHUB_account_BLOCKED__c</th>\n",
       "      <th>nanoHUB_user_ID__c</th>\n",
       "    </tr>\n",
       "  </thead>\n",
       "  <tbody>\n",
       "    <tr>\n",
       "      <th>225059</th>\n",
       "      <td>Lucas</td>\n",
       "      <td>0035w00003BRmrsAAD</td>\n",
       "      <td>GC</td>\n",
       "      <td>False</td>\n",
       "      <td>297165.0</td>\n",
       "    </tr>\n",
       "    <tr>\n",
       "      <th>225060</th>\n",
       "      <td>Kilolilnolth</td>\n",
       "      <td>0035w00003BRmrtAAD</td>\n",
       "      <td>Kilolilnolth</td>\n",
       "      <td>False</td>\n",
       "      <td>297166.0</td>\n",
       "    </tr>\n",
       "    <tr>\n",
       "      <th>225061</th>\n",
       "      <td>NelsonFauri</td>\n",
       "      <td>0035w00003BRmruAAD</td>\n",
       "      <td>NelsonFauri</td>\n",
       "      <td>False</td>\n",
       "      <td>297167.0</td>\n",
       "    </tr>\n",
       "  </tbody>\n",
       "</table>\n",
       "</div>"
      ],
      "text/plain": [
       "           FirstName                  Id      LastName  \\\n",
       "225059         Lucas  0035w00003BRmrsAAD            GC   \n",
       "225060  Kilolilnolth  0035w00003BRmrtAAD  Kilolilnolth   \n",
       "225061   NelsonFauri  0035w00003BRmruAAD   NelsonFauri   \n",
       "\n",
       "        nanoHUB_account_BLOCKED__c  nanoHUB_user_ID__c  \n",
       "225059                       False            297165.0  \n",
       "225060                       False            297166.0  \n",
       "225061                       False            297167.0  "
      ]
     },
     "metadata": {},
     "output_type": "display_data"
    }
   ],
   "source": [
    "display(sf_contact_df.tail(3))"
   ]
  },
  {
   "cell_type": "code",
   "execution_count": 13,
   "metadata": {},
   "outputs": [
    {
     "data": {
      "text/html": [
       "<div>\n",
       "<style scoped>\n",
       "    .dataframe tbody tr th:only-of-type {\n",
       "        vertical-align: middle;\n",
       "    }\n",
       "\n",
       "    .dataframe tbody tr th {\n",
       "        vertical-align: top;\n",
       "    }\n",
       "\n",
       "    .dataframe thead th {\n",
       "        text-align: right;\n",
       "    }\n",
       "</style>\n",
       "<table border=\"1\" class=\"dataframe\">\n",
       "  <thead>\n",
       "    <tr style=\"text-align: right;\">\n",
       "      <th></th>\n",
       "      <th>FirstName</th>\n",
       "      <th>Id</th>\n",
       "      <th>LastName</th>\n",
       "      <th>nanoHUB_account_BLOCKED__c</th>\n",
       "      <th>nanoHUB_user_ID__c</th>\n",
       "    </tr>\n",
       "  </thead>\n",
       "  <tbody>\n",
       "    <tr>\n",
       "      <th>436</th>\n",
       "      <td>ÃÂÃ¢â¬ÂºÃâÃ¢â¬ËÃâÃâ ÃÂÃÂ°</td>\n",
       "      <td>0035w000031VtFeAAK</td>\n",
       "      <td>ÃÂÃ",
       "Â¡ÃÂÃÂ°ÃÂÃÂ¿ÃâÃâÃâÃÂÃâ...</td>\n",
       "      <td>True</td>\n",
       "      <td>43997.0</td>\n",
       "    </tr>\n",
       "    <tr>\n",
       "      <th>1219</th>\n",
       "      <td>Jeffrey</td>\n",
       "      <td>0035w000031VtSMAA0</td>\n",
       "      <td>Corgan</td>\n",
       "      <td>True</td>\n",
       "      <td>65047.0</td>\n",
       "    </tr>\n",
       "  </tbody>\n",
       "</table>\n",
       "</div>"
      ],
      "text/plain": [
       "                                      FirstName                  Id  \\\n",
       "436   ÃÂÃ¢â¬ÂºÃâÃ¢â¬ËÃâÃâ ÃÂÃÂ°  0035w000031VtFeAAK   \n",
       "1219                                    Jeffrey  0035w000031VtSMAA0   \n",
       "\n",
       "                                               LastName  \\\n",
       "436   ÃÂÃ\n",
       "Â¡ÃÂÃÂ°ÃÂÃÂ¿ÃâÃâÃâÃÂÃâ...   \n",
       "1219                                             Corgan   \n",
       "\n",
       "      nanoHUB_account_BLOCKED__c  nanoHUB_user_ID__c  \n",
       "436                         True             43997.0  \n",
       "1219                        True             65047.0  "
      ]
     },
     "metadata": {},
     "output_type": "display_data"
    },
    {
     "data": {
      "text/html": [
       "<div>\n",
       "<style scoped>\n",
       "    .dataframe tbody tr th:only-of-type {\n",
       "        vertical-align: middle;\n",
       "    }\n",
       "\n",
       "    .dataframe tbody tr th {\n",
       "        vertical-align: top;\n",
       "    }\n",
       "\n",
       "    .dataframe thead th {\n",
       "        text-align: right;\n",
       "    }\n",
       "</style>\n",
       "<table border=\"1\" class=\"dataframe\">\n",
       "  <thead>\n",
       "    <tr style=\"text-align: right;\">\n",
       "      <th></th>\n",
       "      <th>FirstName</th>\n",
       "      <th>Id</th>\n",
       "      <th>LastName</th>\n",
       "      <th>nanoHUB_account_BLOCKED__c</th>\n",
       "      <th>nanoHUB_user_ID__c</th>\n",
       "    </tr>\n",
       "  </thead>\n",
       "  <tbody>\n",
       "    <tr>\n",
       "      <th>225060</th>\n",
       "      <td>Kilolilnolth</td>\n",
       "      <td>0035w00003BRmrtAAD</td>\n",
       "      <td>Kilolilnolth</td>\n",
       "      <td>False</td>\n",
       "      <td>297166.0</td>\n",
       "    </tr>\n",
       "    <tr>\n",
       "      <th>225061</th>\n",
       "      <td>NelsonFauri</td>\n",
       "      <td>0035w00003BRmruAAD</td>\n",
       "      <td>NelsonFauri</td>\n",
       "      <td>False</td>\n",
       "      <td>297167.0</td>\n",
       "    </tr>\n",
       "  </tbody>\n",
       "</table>\n",
       "</div>"
      ],
      "text/plain": [
       "           FirstName                  Id      LastName  \\\n",
       "225060  Kilolilnolth  0035w00003BRmrtAAD  Kilolilnolth   \n",
       "225061   NelsonFauri  0035w00003BRmruAAD   NelsonFauri   \n",
       "\n",
       "        nanoHUB_account_BLOCKED__c  nanoHUB_user_ID__c  \n",
       "225060                       False            297166.0  \n",
       "225061                       False            297167.0  "
      ]
     },
     "metadata": {},
     "output_type": "display_data"
    }
   ],
   "source": [
    "## finding the spam IDs and non-spam IDs\n",
    "spam_rows = sf_contact_df[sf_contact_df['nanoHUB_account_BLOCKED__c'].astype(str).str.contains(\"True\")]\n",
    "good_rows = sf_contact_df[~sf_contact_df['nanoHUB_account_BLOCKED__c'].astype(str).str.contains('True')]\n",
    "display(spam_rows.head(2))\n",
    "display(good_rows.tail(2))"
   ]
  },
  {
   "cell_type": "markdown",
   "metadata": {},
   "source": [
    "## delete the spam contacts"
   ]
  },
  {
   "cell_type": "code",
   "execution_count": 118,
   "metadata": {},
   "outputs": [
    {
     "name": "stdout",
     "output_type": "stream",
     "text": [
      "The autoreload extension is already loaded. To reload it, use:\n",
      "  %reload_ext autoreload\n",
      "Obtained Salesforce access token ...... True\n"
     ]
    }
   ],
   "source": [
    "%load_ext autoreload\n",
    "%autoreload 2\n",
    "# create DB2 to Salesforce API object\n",
    "db_s = DB2SalesforceAPI(sf_login_params)\n",
    "\n",
    "db_s.object_id = 'Contact'\n",
    "#db_s.external_id = 'Id'"
   ]
  },
  {
   "cell_type": "code",
   "execution_count": 119,
   "metadata": {},
   "outputs": [
    {
     "data": {
      "text/html": [
       "<div>\n",
       "<style scoped>\n",
       "    .dataframe tbody tr th:only-of-type {\n",
       "        vertical-align: middle;\n",
       "    }\n",
       "\n",
       "    .dataframe tbody tr th {\n",
       "        vertical-align: top;\n",
       "    }\n",
       "\n",
       "    .dataframe thead th {\n",
       "        text-align: right;\n",
       "    }\n",
       "</style>\n",
       "<table border=\"1\" class=\"dataframe\">\n",
       "  <thead>\n",
       "    <tr style=\"text-align: right;\">\n",
       "      <th></th>\n",
       "      <th>Id</th>\n",
       "    </tr>\n",
       "  </thead>\n",
       "  <tbody>\n",
       "    <tr>\n",
       "      <th>0</th>\n",
       "      <td>0035w000031VtFeAAK</td>\n",
       "    </tr>\n",
       "    <tr>\n",
       "      <th>1</th>\n",
       "      <td>0035w000031VtSMAA0</td>\n",
       "    </tr>\n",
       "  </tbody>\n",
       "</table>\n",
       "</div>"
      ],
      "text/plain": [
       "                   Id\n",
       "0  0035w000031VtFeAAK\n",
       "1  0035w000031VtSMAA0"
      ]
     },
     "metadata": {},
     "output_type": "display_data"
    },
    {
     "name": "stdout",
     "output_type": "stream",
     "text": [
      "<class 'pandas.core.frame.DataFrame'>\n"
     ]
    }
   ],
   "source": [
    "# extract only the ids from spam_rows\n",
    "spam_ids = spam_rows['Id'].to_frame().reset_index().iloc[:,1].to_frame()\n",
    "\n",
    "display(spam_ids.head(2))\n",
    "print(type(spam_ids))"
   ]
  },
  {
   "cell_type": "code",
   "execution_count": 120,
   "metadata": {},
   "outputs": [
    {
     "data": {
      "text/html": [
       "<div>\n",
       "<style scoped>\n",
       "    .dataframe tbody tr th:only-of-type {\n",
       "        vertical-align: middle;\n",
       "    }\n",
       "\n",
       "    .dataframe tbody tr th {\n",
       "        vertical-align: top;\n",
       "    }\n",
       "\n",
       "    .dataframe thead th {\n",
       "        text-align: right;\n",
       "    }\n",
       "</style>\n",
       "<table border=\"1\" class=\"dataframe\">\n",
       "  <thead>\n",
       "    <tr style=\"text-align: right;\">\n",
       "      <th></th>\n",
       "      <th>Id</th>\n",
       "    </tr>\n",
       "  </thead>\n",
       "  <tbody>\n",
       "    <tr>\n",
       "      <th>0</th>\n",
       "      <td>0035w000031VtFeAAK</td>\n",
       "    </tr>\n",
       "  </tbody>\n",
       "</table>\n",
       "</div>"
      ],
      "text/plain": [
       "                   Id\n",
       "0  0035w000031VtFeAAK"
      ]
     },
     "execution_count": 120,
     "metadata": {},
     "output_type": "execute_result"
    }
   ],
   "source": [
    "#spam_ids.to_csv('test.csv',index=False,line_terminator='\\n',header=False)\n",
    "spam_ids.iloc[:1]"
   ]
  },
  {
   "cell_type": "code",
   "execution_count": 121,
   "metadata": {},
   "outputs": [
    {
     "name": "stdout",
     "output_type": "stream",
     "text": [
      "[Success] Bulk job creation successful. Job ID = 7505w00000OpRioAAF\n",
      "hello\n",
      "[Success] CSV upload successful. Job ID = 7505w00000OpRioAAF\n",
      "[Success] Closing job successful. Job ID = 7505w00000OpRioAAF\n"
     ]
    }
   ],
   "source": [
    "# send data to Salesforce\n",
    "db_s.delete_data(spam_ids)"
   ]
  },
  {
   "cell_type": "code",
   "execution_count": 125,
   "metadata": {},
   "outputs": [
    {
     "data": {
      "text/plain": [
       "{'id': '7505w00000OpRioAAF',\n",
       " 'operation': 'delete',\n",
       " 'object': 'Contact',\n",
       " 'createdById': '0055w00000DM5bOAAT',\n",
       " 'createdDate': '2020-08-18T23:00:34.000+0000',\n",
       " 'systemModstamp': '2020-08-18T23:03:23.000+0000',\n",
       " 'state': 'JobComplete',\n",
       " 'concurrencyMode': 'Parallel',\n",
       " 'contentType': 'CSV',\n",
       " 'apiVersion': 47.0,\n",
       " 'jobType': 'V2Ingest',\n",
       " 'lineEnding': 'LF',\n",
       " 'columnDelimiter': 'COMMA',\n",
       " 'numberRecordsProcessed': 8050,\n",
       " 'numberRecordsFailed': 1,\n",
       " 'retries': 0,\n",
       " 'totalProcessingTime': 116062,\n",
       " 'apiActiveProcessingTime': 107338,\n",
       " 'apexProcessingTime': 146097}"
      ]
     },
     "execution_count": 125,
     "metadata": {},
     "output_type": "execute_result"
    }
   ],
   "source": [
    "# check status\n",
    "db_s.check_bulk_status()"
   ]
  },
  {
   "cell_type": "code",
   "execution_count": 126,
   "metadata": {},
   "outputs": [
    {
     "data": {
      "text/plain": [
       "'\"sf__Id\",\"sf__Error\",Id\\n\"\",\"ENTITY_IS_DELETED:entity is deleted:--\",\"0035w000031VtFeAAK\"\\n'"
      ]
     },
     "execution_count": 126,
     "metadata": {},
     "output_type": "execute_result"
    }
   ],
   "source": [
    "db_s.check_bulk_failed_results()"
   ]
  },
  {
   "cell_type": "code",
   "execution_count": null,
   "metadata": {},
   "outputs": [],
   "source": []
  }
 ],
 "metadata": {
  "kernelspec": {
   "display_name": "Python 3",
   "language": "python",
   "name": "python3"
  },
  "language_info": {
   "codemirror_mode": {
    "name": "ipython",
    "version": 3
   },
   "file_extension": ".py",
   "mimetype": "text/x-python",
   "name": "python",
   "nbconvert_exporter": "python",
   "pygments_lexer": "ipython3",
   "version": "3.7.7"
  }
 },
 "nbformat": 4,
 "nbformat_minor": 4
}
