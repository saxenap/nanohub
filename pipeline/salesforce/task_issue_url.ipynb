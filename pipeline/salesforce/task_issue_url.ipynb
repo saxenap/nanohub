{
 "cells": [
  {
   "cell_type": "markdown",
   "metadata": {},
   "source": [
    "# DB2-Salesforce connector: URL issues"
   ]
  },
  {
   "cell_type": "code",
   "execution_count": 46,
   "metadata": {
    "tags": [
     "parameters"
    ]
   },
   "outputs": [],
   "source": [
    "# API settings\n",
    "api_url = '/services/data/v43.0/sobjects'\n",
    "object_id = 'nanoHUB_issue__c'\n",
    "external_id = 'Issue_ID__c'\n",
    "\n",
    "# login parameters to be handled by Papermill\n",
    "sql_login_params = {\"username\": \"wang2506_ro\", \"password\": \"fnVnwcCS7iT45EsA\"}\n",
    "sf_login_params = {\n",
    "    \"grant_type\": \"password\",\n",
    "    \"client_id\": \"3MVG95jctIhbyCppj0SNJ75IsZ1y8UPGZtSNF4j8FNVXz.De8Lu4jHm3rjRosAtsHy6qjHx3i4S_QbQzvBePG\",\n",
    "    \"client_secret\": \"D1623C6D3607D4FC8004B92C761DFB6C1F70CCD129C5501E357028DFA00F5764\",\n",
    "    \"username\":\"wang2506@purdue.edu\",\n",
    "    \"password\":\"mathisfun992728tXYwCb5yMm6XtohbTRw8ZdBbi\",    \n",
    "} \n",
    "    #\"username\": \"wang159-4j1v@force.com\",\n",
    "    #\"password\": \"napoleon0eZ3PQpQqE3C3z4wWqEqKGhQ8\","
   ]
  },
  {
   "cell_type": "code",
   "execution_count": 48,
   "metadata": {},
   "outputs": [],
   "source": [
    "import sys\n",
    "sys.path.append('/home/users/wang2506/nanohub_salesforce_integ/salesforce')\n",
    "    \n",
    "import pandas as pd\n",
    "import datetime"
   ]
  },
  {
   "cell_type": "markdown",
   "metadata": {},
   "source": [
    "## Obtain tool information from DB2 "
   ]
  },
  {
   "cell_type": "code",
   "execution_count": 49,
   "metadata": {
    "scrolled": true
   },
   "outputs": [
    {
     "name": "stdout",
     "output_type": "stream",
     "text": [
      "select * from issue_invalid_urls\n"
     ]
    }
   ],
   "source": [
    "# Basic tool information\n",
    "sql_query = \"select * from issue_invalid_urls\"\n",
    "\n",
    "# display\n",
    "print(sql_query)"
   ]
  },
  {
   "cell_type": "code",
   "execution_count": 50,
   "metadata": {},
   "outputs": [],
   "source": [
    "# connect with DB2\n",
    "import sqlalchemy as sql\n",
    "\n",
    "engine = sql.create_engine('mysql+pymysql://%s:%s@127.0.0.1/wang159_myrmekes' \\\n",
    "                                               %(sql_login_params['username'], sql_login_params['password']))\n",
    "df = pd.read_sql_query(sql_query, engine)"
   ]
  },
  {
   "cell_type": "code",
   "execution_count": 51,
   "metadata": {},
   "outputs": [
    {
     "data": {
      "text/html": [
       "<div>\n",
       "<style scoped>\n",
       "    .dataframe tbody tr th:only-of-type {\n",
       "        vertical-align: middle;\n",
       "    }\n",
       "\n",
       "    .dataframe tbody tr th {\n",
       "        vertical-align: top;\n",
       "    }\n",
       "\n",
       "    .dataframe thead th {\n",
       "        text-align: right;\n",
       "    }\n",
       "</style>\n",
       "<table border=\"1\" class=\"dataframe\">\n",
       "  <thead>\n",
       "    <tr style=\"text-align: right;\">\n",
       "      <th></th>\n",
       "      <th>index</th>\n",
       "      <th>resource_ID</th>\n",
       "      <th>href</th>\n",
       "      <th>href_text</th>\n",
       "      <th>status</th>\n",
       "    </tr>\n",
       "  </thead>\n",
       "  <tbody>\n",
       "    <tr>\n",
       "      <th>0</th>\n",
       "      <td>0</td>\n",
       "      <td>90</td>\n",
       "      <td>http://epics.ecn.purdue.edu/lspm</td>\n",
       "      <td>Lego Scanning Probe Microscope</td>\n",
       "      <td>404</td>\n",
       "    </tr>\n",
       "    <tr>\n",
       "      <th>1</th>\n",
       "      <td>1</td>\n",
       "      <td>90</td>\n",
       "      <td>http://www.inac.purdue.edu/education/lspm/exhi...</td>\n",
       "      <td>Lego SPM website</td>\n",
       "      <td>Connection error.</td>\n",
       "    </tr>\n",
       "  </tbody>\n",
       "</table>\n",
       "</div>"
      ],
      "text/plain": [
       "   index resource_ID                                               href  \\\n",
       "0      0          90                   http://epics.ecn.purdue.edu/lspm   \n",
       "1      1          90  http://www.inac.purdue.edu/education/lspm/exhi...   \n",
       "\n",
       "                        href_text             status  \n",
       "0  Lego Scanning Probe Microscope                404  \n",
       "1                Lego SPM website  Connection error.  "
      ]
     },
     "execution_count": 51,
     "metadata": {},
     "output_type": "execute_result"
    }
   ],
   "source": [
    "# display\n",
    "df.head(2)"
   ]
  },
  {
   "cell_type": "code",
   "execution_count": 66,
   "metadata": {},
   "outputs": [],
   "source": [
    "df_export = pd.DataFrame()\n",
    "\n",
    "# Make sure NaN and NaT values are taken care of here\n",
    "\n",
    "# construct a consistent ID for this issue\n",
    "df_export[external_id]      =  'Resource_URL::::'+df.resource_ID+'::::'+df.href+'::::'+df.href_text\n",
    "\n",
    "df_export['Resource ID'] = df['resource_ID']\n",
    "df_export['Resource URL'] = 'https://nanohub.org/resources/'+df['resource_ID']\n",
    "df_export['Reason']           = 'Invalid URL'\n",
    "\n",
    "df_export['Invalid URL label'] = df['href_text']\n",
    "df_export['Invalid URL'] = df['href']\n",
    "\n",
    "# display\n",
    "df_export.to_excel('./invalid_URL_export.xlsx', engine='xlsxwriter')"
   ]
  },
  {
   "cell_type": "markdown",
   "metadata": {},
   "source": [
    "## Match data with Salesforce format"
   ]
  },
  {
   "cell_type": "code",
   "execution_count": 52,
   "metadata": {},
   "outputs": [
    {
     "data": {
      "text/html": [
       "<div>\n",
       "<style scoped>\n",
       "    .dataframe tbody tr th:only-of-type {\n",
       "        vertical-align: middle;\n",
       "    }\n",
       "\n",
       "    .dataframe tbody tr th {\n",
       "        vertical-align: top;\n",
       "    }\n",
       "\n",
       "    .dataframe thead th {\n",
       "        text-align: right;\n",
       "    }\n",
       "</style>\n",
       "<table border=\"1\" class=\"dataframe\">\n",
       "  <thead>\n",
       "    <tr style=\"text-align: right;\">\n",
       "      <th></th>\n",
       "      <th>0</th>\n",
       "      <th>1</th>\n",
       "    </tr>\n",
       "  </thead>\n",
       "  <tbody>\n",
       "    <tr>\n",
       "      <th>Issue_ID__c</th>\n",
       "      <td>Resource_URL::::90::::http://epics.ecn.purdue....</td>\n",
       "      <td>Resource_URL::::90::::http://www.inac.purdue.e...</td>\n",
       "    </tr>\n",
       "    <tr>\n",
       "      <th>nanoHUB_resource_ID__c</th>\n",
       "      <td>90</td>\n",
       "      <td>90</td>\n",
       "    </tr>\n",
       "    <tr>\n",
       "      <th>Origin_URL__c</th>\n",
       "      <td>https://nanohub.org/resources/90</td>\n",
       "      <td>https://nanohub.org/resources/90</td>\n",
       "    </tr>\n",
       "    <tr>\n",
       "      <th>Type__c</th>\n",
       "      <td>Invalid URL</td>\n",
       "      <td>Invalid URL</td>\n",
       "    </tr>\n",
       "    <tr>\n",
       "      <th>Issue_message__c</th>\n",
       "      <td>Invalid URL found on page.&lt;br&gt;&lt;br&gt;         Lin...</td>\n",
       "      <td>Invalid URL found on page.&lt;br&gt;&lt;br&gt;         Lin...</td>\n",
       "    </tr>\n",
       "  </tbody>\n",
       "</table>\n",
       "</div>"
      ],
      "text/plain": [
       "                                                                        0  \\\n",
       "Issue_ID__c             Resource_URL::::90::::http://epics.ecn.purdue....   \n",
       "nanoHUB_resource_ID__c                                                 90   \n",
       "Origin_URL__c                            https://nanohub.org/resources/90   \n",
       "Type__c                                                       Invalid URL   \n",
       "Issue_message__c        Invalid URL found on page.<br><br>         Lin...   \n",
       "\n",
       "                                                                        1  \n",
       "Issue_ID__c             Resource_URL::::90::::http://www.inac.purdue.e...  \n",
       "nanoHUB_resource_ID__c                                                 90  \n",
       "Origin_URL__c                            https://nanohub.org/resources/90  \n",
       "Type__c                                                       Invalid URL  \n",
       "Issue_message__c        Invalid URL found on page.<br><br>         Lin...  "
      ]
     },
     "execution_count": 52,
     "metadata": {},
     "output_type": "execute_result"
    }
   ],
   "source": [
    "df_sf = pd.DataFrame()\n",
    "\n",
    "# Make sure NaN and NaT values are taken care of here\n",
    "\n",
    "# construct a consistent ID for this issue\n",
    "df_sf[external_id]      =  'Resource_URL::::'+df.resource_ID+'::::'+df.href+'::::'+df.href_text\n",
    "\n",
    "df_sf['nanoHUB_resource_ID__c'] = df['resource_ID']\n",
    "df_sf['Origin_URL__c'] = 'https://nanohub.org/resources/'+df['resource_ID']\n",
    "df_sf['Type__c']           = 'Invalid URL'\n",
    "\n",
    "df_sf['Issue_message__c'] = df.apply(lambda x: \\\n",
    "         'Invalid URL found on page.<br><br>\\\n",
    "         Link label: <p style=\"color:Tomato;\">%s</p><br>\\\n",
    "         Link: <p style=\"color:Tomato;\">%s</p>'%(x.href_text, x.href), axis=1)\n",
    "\n",
    "sf_original_fields = df_sf.columns\n",
    "\n",
    "# display\n",
    "df_sf.head(2).T"
   ]
  },
  {
   "cell_type": "markdown",
   "metadata": {},
   "source": [
    "## To Salesforce Sales Cloud CRM"
   ]
  },
  {
   "cell_type": "code",
   "execution_count": 57,
   "metadata": {},
   "outputs": [
    {
     "name": "stdout",
     "output_type": "stream",
     "text": [
      "Obtained Salesforce access token ...... True\n"
     ]
    }
   ],
   "source": [
    "from DB2SalesforceAPI import DB2SalesforceAPI\n",
    "\n",
    "# create DB2 to Salesforce API object\n",
    "db_s = DB2SalesforceAPI(sf_login_params)\n",
    "\n",
    "# specify Salesforce object ID and external ID\n",
    "db_s.object_id = object_id\n",
    "db_s.external_id = external_id"
   ]
  },
  {
   "cell_type": "code",
   "execution_count": 58,
   "metadata": {},
   "outputs": [
    {
     "name": "stdout",
     "output_type": "stream",
     "text": [
      "[Success] Bulk job creation successful. Job ID = 7505w00000M0insAAB\n",
      "[Success] CSV upload successful. Job ID = 7505w00000M0insAAB\n",
      "[Success] Closing job successful. Job ID = 7505w00000M0insAAB\n"
     ]
    }
   ],
   "source": [
    "# send data to Salesforce\n",
    "db_s.send_data(df_sf)"
   ]
  },
  {
   "cell_type": "code",
   "execution_count": 59,
   "metadata": {},
   "outputs": [
    {
     "data": {
      "text/plain": [
       "{'id': '7505w00000M0insAAB',\n",
       " 'operation': 'upsert',\n",
       " 'object': 'nanoHUB_issue__c',\n",
       " 'createdById': '0055w00000ArpYvAAJ',\n",
       " 'createdDate': '2020-05-11T05:19:25.000+0000',\n",
       " 'systemModstamp': '2020-05-11T05:19:30.000+0000',\n",
       " 'state': 'JobComplete',\n",
       " 'externalIdFieldName': 'Issue_ID__c',\n",
       " 'concurrencyMode': 'Parallel',\n",
       " 'contentType': 'CSV',\n",
       " 'apiVersion': 47.0,\n",
       " 'jobType': 'V2Ingest',\n",
       " 'lineEnding': 'LF',\n",
       " 'columnDelimiter': 'COMMA',\n",
       " 'numberRecordsProcessed': 1403,\n",
       " 'numberRecordsFailed': 26,\n",
       " 'retries': 0,\n",
       " 'totalProcessingTime': 3373,\n",
       " 'apiActiveProcessingTime': 2665,\n",
       " 'apexProcessingTime': 0}"
      ]
     },
     "execution_count": 59,
     "metadata": {},
     "output_type": "execute_result"
    }
   ],
   "source": [
    "# check status\n",
    "db_s.check_bulk_status()"
   ]
  },
  {
   "cell_type": "code",
   "execution_count": 60,
   "metadata": {},
   "outputs": [
    {
     "name": "stdout",
     "output_type": "stream",
     "text": [
      "('\"sf__Id\",\"sf__Error\",Issue_ID__c,Issue_message__c,Origin_URL__c,Type__c,nanoHUB_resource_ID__c\\n'\n",
      " '\"\",\"DUPLICATE_VALUE:Duplicate external id specified: '\n",
      " 'resource_url::::124::::http://www.elsevier.com/wps/product/cws_home/680682::::academic '\n",
      " 'press, 2003, isbn: 0-12-507060-8:Issue_ID__c '\n",
      " '--\",\"Resource_URL::::124::::http://www.elsevier.com/wps/product/cws_home/680682::::Academic '\n",
      " 'Press, 2003, ISBN: 0-12-507060-8\",\"Invalid URL found on '\n",
      " 'page.<br><br>         Link label: <p style=\"\"color:Tomato;\"\">Academic Press, '\n",
      " '2003, ISBN: 0-12-507060-8</p><br>         Link: <p '\n",
      " 'style=\"\"color:Tomato;\"\">http://www.elsevier.com/wps/product/cws_home/680682</p>\",\"https://nanohub.org/resources/124\",\"Invalid '\n",
      " 'URL\",\"124.0\"\\n'\n",
      " '\"\",\"DUPLICATE_VALUE:Duplicate external id specified: '\n",
      " 'resource_url::::124::::http://www.elsevier.com/wps/product/cws_home/680682::::academic '\n",
      " 'press, 2003, isbn: 0-12-507060-8:Issue_ID__c '\n",
      " '--\",\"Resource_URL::::124::::http://www.elsevier.com/wps/product/cws_home/680682::::Academic '\n",
      " 'Press, 2003, ISBN: 0-12-507060-8\",\"Invalid URL found on '\n",
      " 'page.<br><br>         Link label: <p style=\"\"color:Tomato;\"\">Academic Press, '\n",
      " '2003, ISBN: 0-12-507060-8</p><br>         Link: <p '\n",
      " 'style=\"\"color:Tomato;\"\">http://www.elsevier.com/wps/product/cws_home/680682</p>\",\"https://nanohub.org/resources/124\",\"Invalid '\n",
      " 'URL\",\"124.0\"\\n'\n",
      " '\"\",\"DUPLICATE_VALUE:Duplicate external id specified: '\n",
      " 'resource_url::::136::::/index.php?option=com_content&task=view&id=236&itemid=38::::python '\n",
      " 'tutorial:Issue_ID__c '\n",
      " '--\",\"Resource_URL::::136::::/index.php?option=com_content&task=view&id=236&Itemid=38::::Python '\n",
      " 'tutorial\",\"Invalid URL found on page.<br><br>         Link label: <p '\n",
      " 'style=\"\"color:Tomato;\"\">Python tutorial</p><br>         Link: <p '\n",
      " 'style=\"\"color:Tomato;\"\">/index.php?option=com_content&task=view&id=236&Itemid=38</p>\",\"https://nanohub.org/resources/136\",\"Invalid '\n",
      " 'URL\",\"136.0\"\\n'\n",
      " '\"\",\"DUPLICATE_VALUE:Duplicate external id specified: '\n",
      " 'resource_url::::136::::/index.php?option=com_content&task=view&id=236&itemid=38::::python '\n",
      " 'tutorial:Issue_ID__c '\n",
      " '--\",\"Resource_URL::::136::::/index.php?option=com_content&task=view&id=236&Itemid=38::::Python '\n",
      " 'tutorial\",\"Invalid URL found on page.<br><br>         Link label: <p '\n",
      " 'style=\"\"color:Tomato;\"\">Python tutorial</p><br>         Link: <p '\n",
      " 'style=\"\"color:Tomato;\"\">/index.php?option=com_content&task=view&id=236&Itemid=38</p>\",\"https://nanohub.org/resources/136\",\"Invalid '\n",
      " 'URL\",\"136.0\"\\n'\n",
      " '\"\",\"DUPLICATE_VALUE:Duplicate external id specified: '\n",
      " 'resource_url::::140::::/index.php?option=com_content&sectionid=4&task=view&id=463::::(see '\n",
      " 'program):Issue_ID__c '\n",
      " '--\",\"Resource_URL::::140::::/index.php?option=com_content&sectionid=4&task=view&id=463::::(see '\n",
      " 'program)\",\"Invalid URL found on page.<br><br>         Link label: <p '\n",
      " 'style=\"\"color:Tomato;\"\">(see program)</p><br>         Link: <p '\n",
      " 'style=\"\"color:Tomato;\"\">/index.php?option=com_content&sectionid=4&task=view&id=463</p>\",\"https://nanohub.org/resources/140\",\"Invalid '\n",
      " 'URL\",\"140.0\"\\n'\n",
      " '\"\",\"DUPLICATE_VALUE:Duplicate external id specified: '\n",
      " 'resource_url::::140::::/index.php?option=com_content&sectionid=4&task=view&id=463::::(see '\n",
      " 'program):Issue_ID__c '\n",
      " '--\",\"Resource_URL::::140::::/index.php?option=com_content&sectionid=4&task=view&id=463::::(see '\n",
      " 'program)\",\"Invalid URL found on page.<br><br>         Link label: <p '\n",
      " 'style=\"\"color:Tomato;\"\">(see program)</p><br>         Link: <p '\n",
      " 'style=\"\"color:Tomato;\"\">/index.php?option=com_content&sectionid=4&task=view&id=463</p>\",\"https://nanohub.org/resources/140\",\"Invalid '\n",
      " 'URL\",\"140.0\"\\n'\n",
      " '\"\",\"DUPLICATE_VALUE:Duplicate external id specified: '\n",
      " 'resource_url::::140::::/index.php?option=com_content&sectionid=4&task=view&id=463::::(see '\n",
      " 'program):Issue_ID__c '\n",
      " '--\",\"Resource_URL::::140::::/index.php?option=com_content&sectionid=4&task=view&id=463::::(see '\n",
      " 'program)\",\"Invalid URL found on page.<br><br>         Link label: <p '\n",
      " 'style=\"\"color:Tomato;\"\">(see program)</p><br>         Link: <p '\n",
      " 'style=\"\"color:Tomato;\"\">/index.php?option=com_content&sectionid=4&task=view&id=463</p>\",\"https://nanohub.org/resources/140\",\"Invalid '\n",
      " 'URL\",\"140.0\"\\n'\n",
      " '\"\",\"FIELD_INTEGRITY_EXCEPTION:Specified External ID for Issue_ID__c in '\n",
      " 'entity nanoHUB_issue__c value length is 278 (after normalization to '\n",
      " '\"resource_url::::3047::::http://www.sciencedirect.com/science?_ob=articleurl&_udi=b6twb-4m3rp60-2&_user=29441&_rdoc=1&_fmt=&_orig=search&_sort=d&view=c&_acct=c000003858&_version=1&_urlversion=0&_userid=29441&md5=a909c43f7d3d3b2b7c86fcbab6d4dcdc::::biomaterials '\n",
      " '28: 354â\\x80\\x93369, 2007.\") which exceeds maximum field length of '\n",
      " '255:--\",\"Resource_URL::::3047::::http://www.sciencedirect.com/science?_ob=ArticleURL&_udi=B6TWB-4M3RP60-2&_user=29441&_rdoc=1&_fmt=&_orig=search&_sort=d&view=c&_acct=C000003858&_version=1&_urlVersion=0&_userid=29441&md5=a909c43f7d3d3b2b7c86fcbab6d4dcdc::::Biomaterials '\n",
      " '28: 354â\\x80\\x93369, 2007. \",\"Invalid URL found on page.<br><br>         '\n",
      " 'Link label: <p style=\"\"color:Tomato;\"\">Biomaterials 28: 354â\\x80\\x93369, '\n",
      " '2007. </p><br>         Link: <p '\n",
      " 'style=\"\"color:Tomato;\"\">http://www.sciencedirect.com/science?_ob=ArticleURL&_udi=B6TWB-4M3RP60-2&_user=29441&_rdoc=1&_fmt=&_orig=search&_sort=d&view=c&_acct=C000003858&_version=1&_urlVersion=0&_userid=29441&md5=a909c43f7d3d3b2b7c86fcbab6d4dcdc</p>\",\"https://nanohub.org/resources/3047\",\"Invalid '\n",
      " 'URL\",\"3047.0\"\\n'\n",
      " '\"\",\"FIELD_INTEGRITY_EXCEPTION:Specified External ID for Issue_ID__c in '\n",
      " 'entity nanoHUB_issue__c value length is 300 (after normalization to '\n",
      " '\"resource_url::::3047::::http://www.sciencedirect.com/science?_ob=articleurl&_udi=b6t1j-4j3wghm-1&_user=29441&_rdoc=1&_fmt=&_orig=search&_sort=d&view=c&_acct=c000003858&_version=1&_urlversion=0&_userid=29441&md5=7b7442d825812b0c607ae9da46801e51:::: '\n",
      " 'european journal of pharmacology 533: 341â\\x80\\x93350, 2006.\") which exceeds '\n",
      " 'maximum field length of '\n",
      " '255:--\",\"Resource_URL::::3047::::http://www.sciencedirect.com/science?_ob=ArticleURL&_udi=B6T1J-4J3WGHM-1&_user=29441&_rdoc=1&_fmt=&_orig=search&_sort=d&view=c&_acct=C000003858&_version=1&_urlVersion=0&_userid=29441&md5=7b7442d825812b0c607ae9da46801e51:::: '\n",
      " 'European Journal of Pharmacology 533: 341â\\x80\\x93350, 2006. \",\"Invalid URL '\n",
      " 'found on page.<br><br>         Link label: <p style=\"\"color:Tomato;\"\"> '\n",
      " 'European Journal of Pharmacology 533: 341â\\x80\\x93350, 2006. '\n",
      " '</p><br>         Link: <p '\n",
      " 'style=\"\"color:Tomato;\"\">http://www.sciencedirect.com/science?_ob=ArticleURL&_udi=B6T1J-4J3WGHM-1&_user=29441&_rdoc=1&_fmt=&_orig=search&_sort=d&view=c&_acct=C000003858&_version=1&_urlVersion=0&_userid=29441&md5=7b7442d825812b0c607ae9da46801e51</p>\",\"https://nanohub.org/resources/3047\",\"Invalid '\n",
      " 'URL\",\"3047.0\"\\n'\n",
      " '\"\",\"FIELD_INTEGRITY_EXCEPTION:Specified External ID for Issue_ID__c in '\n",
      " 'entity nanoHUB_issue__c value length is 295 which exceeds maximum field '\n",
      " 'length of '\n",
      " '255:--\",\"Resource_URL::::3827::::http://scitation.aip.org/vsearch/servlet/VerityServlet?KEY=APPLAB&smode=results&maxdisp=10&possible1=klimeck&possible1zone=article&fromyear=1893&frommonth=Jan&toyear=2007&tomonth=Dec&OUTLOG=NO&viewabs=APPLAB&key=DISPLAY&docID=1&page=0&chapter=0::::Applied '\n",
      " 'Physics Letters\",\"Invalid URL found on page.<br><br>         Link label: <p '\n",
      " 'style=\"\"color:Tomato;\"\">Applied Physics Letters</p><br>         Link: <p '\n",
      " 'style=\"\"color:Tomato;\"\">http://scitation.aip.org/vsearch/servlet/VerityServlet?KEY=APPLAB&smode=results&maxdisp=10&possible1=klimeck&possible1zone=article&fromyear=1893&frommonth=Jan&toyear=2007&tomonth=Dec&OUTLOG=NO&viewabs=APPLAB&key=DISPLAY&docID=1&page=0&chapter=0</p>\",\"https://nanohub.org/resources/3827\",\"Invalid '\n",
      " 'URL\",\"3827.0\"\\n'\n",
      " '\"\",\"DUPLICATE_VALUE:Duplicate external id specified: '\n",
      " 'resource_url::::4963::::http://pimc.wiki.asu.edu::::â\\x80\\x9cpiâ\\x80\\x9d:Issue_ID__c '\n",
      " '--\",\"Resource_URL::::4963::::http://pimc.wiki.asu.edu::::â\\x80\\x9cpiâ\\x80\\x9d\",\"Invalid '\n",
      " 'URL found on page.<br><br>         Link label: <p '\n",
      " 'style=\"\"color:Tomato;\"\">â\\x80\\x9cpiâ\\x80\\x9d</p><br>         Link: <p '\n",
      " 'style=\"\"color:Tomato;\"\">http://pimc.wiki.asu.edu</p>\",\"https://nanohub.org/resources/4963\",\"Invalid '\n",
      " 'URL\",\"4963.0\"\\n'\n",
      " '\"\",\"DUPLICATE_VALUE:Duplicate external id specified: '\n",
      " 'resource_url::::4963::::http://pimc.wiki.asu.edu::::â\\x80\\x9cpiâ\\x80\\x9d:Issue_ID__c '\n",
      " '--\",\"Resource_URL::::4963::::http://pimc.wiki.asu.edu::::â\\x80\\x9cpiâ\\x80\\x9d\",\"Invalid '\n",
      " 'URL found on page.<br><br>         Link label: <p '\n",
      " 'style=\"\"color:Tomato;\"\">â\\x80\\x9cpiâ\\x80\\x9d</p><br>         Link: <p '\n",
      " 'style=\"\"color:Tomato;\"\">http://pimc.wiki.asu.edu</p>\",\"https://nanohub.org/resources/4963\",\"Invalid '\n",
      " 'URL\",\"4963.0\"\\n'\n",
      " '\"\",\"DUPLICATE_VALUE:Duplicate external id specified: '\n",
      " 'resource_url::::6129::::http://dynamo.ecn.purdue.edu/~gekco/pubs_src/j36_preprint.pdf::::pdf '\n",
      " 'of the preprint:Issue_ID__c '\n",
      " '--\",\"Resource_URL::::6129::::http://dynamo.ecn.purdue.edu/~gekco/pubs_src/J36_preprint.pdf::::pdf '\n",
      " 'of the preprint\",\"Invalid URL found on page.<br><br>         Link label: <p '\n",
      " 'style=\"\"color:Tomato;\"\">pdf of the preprint</p><br>         Link: <p '\n",
      " 'style=\"\"color:Tomato;\"\">http://dynamo.ecn.purdue.edu/~gekco/pubs_src/J36_preprint.pdf</p>\",\"https://nanohub.org/resources/6129\",\"Invalid '\n",
      " 'URL\",\"6129.0\"\\n'\n",
      " '\"\",\"DUPLICATE_VALUE:Duplicate external id specified: '\n",
      " 'resource_url::::6129::::http://dynamo.ecn.purdue.edu/~gekco/pubs_src/j36_preprint.pdf::::pdf '\n",
      " 'of the preprint:Issue_ID__c '\n",
      " '--\",\"Resource_URL::::6129::::http://dynamo.ecn.purdue.edu/~gekco/pubs_src/J36_preprint.pdf::::pdf '\n",
      " 'of the preprint\",\"Invalid URL found on page.<br><br>         Link label: <p '\n",
      " 'style=\"\"color:Tomato;\"\">pdf of the preprint</p><br>         Link: <p '\n",
      " 'style=\"\"color:Tomato;\"\">http://dynamo.ecn.purdue.edu/~gekco/pubs_src/J36_preprint.pdf</p>\",\"https://nanohub.org/resources/6129\",\"Invalid '\n",
      " 'URL\",\"6129.0\"\\n'\n",
      " '\"\",\"FIELD_INTEGRITY_EXCEPTION:Specified External ID for Issue_ID__c in '\n",
      " 'entity nanoHUB_issue__c value length is 493 which exceeds maximum field '\n",
      " 'length of '\n",
      " '255:--\",\"Resource_URL::::7698::::http://www.sciencedirect.com/science?_ob=ArticleURL&_udi=B6TVY-4HG6H74-1&_user=29441&_coverDate=10%2F31%2F2005&_rdoc=3&_fmt=high&_orig=browse&_origin=browse&_zone=rslt_list_item&_srch=doc-info%28%23toc%235547%232005%23999409998%23610723%23FLA%23display%23Volume%29&_cdi=5547&_sort=d&_docanchor=&view=c&_ct=3&_acct=C000003858&_version=1&_urlVersion=0&_userid=29441&md5=24257f2807d68d56e1118116ec126652&searchtype=a::::Surface '\n",
      " 'Science Reports, Vol. 59 (1-6), 1-152, 2005.\",\"Invalid URL found on '\n",
      " 'page.<br><br>         Link label: <p style=\"\"color:Tomato;\"\">Surface Science '\n",
      " 'Reports, Vol. 59 (1-6), 1-152, 2005.</p><br>         Link: <p '\n",
      " 'style=\"\"color:Tomato;\"\">http://www.sciencedirect.com/science?_ob=ArticleURL&_udi=B6TVY-4HG6H74-1&_user=29441&_coverDate=10%2F31%2F2005&_rdoc=3&_fmt=high&_orig=browse&_origin=browse&_zone=rslt_list_item&_srch=doc-info%28%23toc%235547%232005%23999409998%23610723%23FLA%23display%23Volume%29&_cdi=5547&_sort=d&_docanchor=&view=c&_ct=3&_acct=C000003858&_version=1&_urlVersion=0&_userid=29441&md5=24257f2807d68d56e1118116ec126652&searchtype=a</p>\",\"https://nanohub.org/resources/7698\",\"Invalid '\n",
      " 'URL\",\"7698.0\"\\n'\n",
      " '\"\",\"DUPLICATE_VALUE:Duplicate external id specified: '\n",
      " 'resource_url::::7878::::http://www.write-right.org/index.html::::writing '\n",
      " 'modern english:Issue_ID__c '\n",
      " '--\",\"Resource_URL::::7878::::http://www.write-right.org/index.html::::Writing '\n",
      " 'Modern English\",\"Invalid URL found on page.<br><br>         Link label: <p '\n",
      " 'style=\"\"color:Tomato;\"\">Writing Modern English</p><br>         Link: <p '\n",
      " 'style=\"\"color:Tomato;\"\">http://www.write-right.org/index.html</p>\",\"https://nanohub.org/resources/7878\",\"Invalid '\n",
      " 'URL\",\"7878.0\"\\n'\n",
      " '\"\",\"DUPLICATE_VALUE:Duplicate external id specified: '\n",
      " 'resource_url::::7878::::http://www.write-right.org/index.html::::writing '\n",
      " 'modern english:Issue_ID__c '\n",
      " '--\",\"Resource_URL::::7878::::http://www.write-right.org/index.html::::Writing '\n",
      " 'Modern English\",\"Invalid URL found on page.<br><br>         Link label: <p '\n",
      " 'style=\"\"color:Tomato;\"\">Writing Modern English</p><br>         Link: <p '\n",
      " 'style=\"\"color:Tomato;\"\">http://www.write-right.org/index.html</p>\",\"https://nanohub.org/resources/7878\",\"Invalid '\n",
      " 'URL\",\"7878.0\"\\n'\n",
      " '\"\",\"FIELD_INTEGRITY_EXCEPTION:Specified External ID for Issue_ID__c in '\n",
      " 'entity nanoHUB_issue__c value length is 493 which exceeds maximum field '\n",
      " 'length of '\n",
      " '255:--\",\"Resource_URL::::9713::::http://www.sciencedirect.com/science?_ob=ArticleURL&_udi=B6TVY-4HG6H74-1&_user=29441&_coverDate=10%2F31%2F2005&_rdoc=3&_fmt=high&_orig=browse&_origin=browse&_zone=rslt_list_item&_srch=doc-info%28%23toc%235547%232005%23999409998%23610723%23FLA%23display%23Volume%29&_cdi=5547&_sort=d&_docanchor=&view=c&_ct=3&_acct=C000003858&_version=1&_urlVersion=0&_userid=29441&md5=24257f2807d68d56e1118116ec126652&searchtype=a::::Surface '\n",
      " 'Science Reports, Vol. 59 (1-6), 1-152, 2005.\",\"Invalid URL found on '\n",
      " 'page.<br><br>         Link label: <p style=\"\"color:Tomato;\"\">Surface Science '\n",
      " 'Reports, Vol. 59 (1-6), 1-152, 2005.</p><br>         Link: <p '\n",
      " 'style=\"\"color:Tomato;\"\">http://www.sciencedirect.com/science?_ob=ArticleURL&_udi=B6TVY-4HG6H74-1&_user=29441&_coverDate=10%2F31%2F2005&_rdoc=3&_fmt=high&_orig=browse&_origin=browse&_zone=rslt_list_item&_srch=doc-info%28%23toc%235547%232005%23999409998%23610723%23FLA%23display%23Volume%29&_cdi=5547&_sort=d&_docanchor=&view=c&_ct=3&_acct=C000003858&_version=1&_urlVersion=0&_userid=29441&md5=24257f2807d68d56e1118116ec126652&searchtype=a</p>\",\"https://nanohub.org/resources/9713\",\"Invalid '\n",
      " 'URL\",\"9713.0\"\\n'\n",
      " '\"\",\"FIELD_INTEGRITY_EXCEPTION:Specified External ID for Issue_ID__c in '\n",
      " 'entity nanoHUB_issue__c value length is 443 which exceeds maximum field '\n",
      " 'length of '\n",
      " '255:--\",\"Resource_URL::::11965::::https://engineering.purdue.edu/Intranet%2FApps%2FEFDReview%2FDocuments/EFD_2-12%2FpyDownloadFile&rct=j&q=Leary%2C%20J.F.%20%22Nanotechnology%3A%20What%20is%20it%20and%20why%20is%20small%20so%20big%22%20%3Ci%3ECanadian%20Journal%20of%20Ophthalmology%3C%2Fi%3E%2045(5)%3A%20449-456%20(2010).&ei=lXdeToDWIIT50gGm6cDSAg&usg=AFQjCNEgRuxoDTCUVl6qgYzmFne_ZCWdnw&sig2=Jgcoc2Eq4EM6fv8mNgUu1g&cad=rj::::PDF '\n",
      " 'available from Purdue\",\"Invalid URL found on page.<br><br>         Link '\n",
      " 'label: <p style=\"\"color:Tomato;\"\">PDF available from Purdue</p><br>         '\n",
      " 'Link: <p '\n",
      " 'style=\"\"color:Tomato;\"\">https://engineering.purdue.edu/Intranet%2FApps%2FEFDReview%2FDocuments/EFD_2-12%2FpyDownloadFile&rct=j&q=Leary%2C%20J.F.%20%22Nanotechnology%3A%20What%20is%20it%20and%20why%20is%20small%20so%20big%22%20%3Ci%3ECanadian%20Journal%20of%20Ophthalmology%3C%2Fi%3E%2045(5)%3A%20449-456%20(2010).&ei=lXdeToDWIIT50gGm6cDSAg&usg=AFQjCNEgRuxoDTCUVl6qgYzmFne_ZCWdnw&sig2=Jgcoc2Eq4EM6fv8mNgUu1g&cad=rj</p>\",\"https://nanohub.org/resources/11965\",\"Invalid '\n",
      " 'URL\",\"11965.0\"\\n'\n",
      " '\"\",\"DUPLICATE_VALUE:Duplicate external id specified: '\n",
      " 'resource_url::::13013::::http://web.ics.purdue.edu/~kais/qc/::::quantum '\n",
      " 'information for quantum chemistry center:Issue_ID__c '\n",
      " '--\",\"Resource_URL::::13013::::http://web.ics.purdue.edu/~kais/qc/::::Quantum '\n",
      " 'Information for Quantum Chemistry Center\",\"Invalid URL found on '\n",
      " 'page.<br><br>         Link label: <p style=\"\"color:Tomato;\"\">Quantum '\n",
      " 'Information for Quantum Chemistry Center</p><br>         Link: <p '\n",
      " 'style=\"\"color:Tomato;\"\">http://web.ics.purdue.edu/~kais/qc/</p>\",\"https://nanohub.org/resources/13013\",\"Invalid '\n",
      " 'URL\",\"13013.0\"\\n'\n",
      " '\"\",\"DUPLICATE_VALUE:Duplicate external id specified: '\n",
      " 'resource_url::::13013::::http://web.ics.purdue.edu/~kais/qc/::::quantum '\n",
      " 'information for quantum chemistry center:Issue_ID__c '\n",
      " '--\",\"Resource_URL::::13013::::http://web.ics.purdue.edu/~kais/qc/::::Quantum '\n",
      " 'Information for Quantum Chemistry Center\",\"Invalid URL found on '\n",
      " 'page.<br><br>         Link label: <p style=\"\"color:Tomato;\"\">Quantum '\n",
      " 'Information for Quantum Chemistry Center</p><br>         Link: <p '\n",
      " 'style=\"\"color:Tomato;\"\">http://web.ics.purdue.edu/~kais/qc/</p>\",\"https://nanohub.org/resources/13013\",\"Invalid '\n",
      " 'URL\",\"13013.0\"\\n'\n",
      " '\"\",\"DUPLICATE_VALUE:Duplicate external id specified: '\n",
      " 'resource_url::::16153::::http://apl.aip.org/resource/1/applab/v98/i17/p173503_s1::::appl. '\n",
      " 'phys. lett. 98, 173503 (2011):Issue_ID__c '\n",
      " '--\",\"Resource_URL::::16153::::http://apl.aip.org/resource/1/applab/v98/i17/p173503_s1::::Appl. '\n",
      " 'Phys. Lett. 98, 173503 (2011)\",\"Invalid URL found on page.<br><br>         '\n",
      " 'Link label: <p style=\"\"color:Tomato;\"\">Appl. Phys. Lett. 98, 173503 '\n",
      " '(2011)</p><br>         Link: <p '\n",
      " 'style=\"\"color:Tomato;\"\">http://apl.aip.org/resource/1/applab/v98/i17/p173503_s1</p>\",\"https://nanohub.org/resources/16153\",\"Invalid '\n",
      " 'URL\",\"16153.0\"\\n'\n",
      " '\"\",\"DUPLICATE_VALUE:Duplicate external id specified: '\n",
      " 'resource_url::::16153::::http://apl.aip.org/resource/1/applab/v98/i17/p173503_s1::::appl. '\n",
      " 'phys. lett. 98, 173503 (2011):Issue_ID__c '\n",
      " '--\",\"Resource_URL::::16153::::http://apl.aip.org/resource/1/applab/v98/i17/p173503_s1::::Appl. '\n",
      " 'Phys. Lett. 98, 173503 (2011)\",\"Invalid URL found on page.<br><br>         '\n",
      " 'Link label: <p style=\"\"color:Tomato;\"\">Appl. Phys. Lett. 98, 173503 '\n",
      " '(2011)</p><br>         Link: <p '\n",
      " 'style=\"\"color:Tomato;\"\">http://apl.aip.org/resource/1/applab/v98/i17/p173503_s1</p>\",\"https://nanohub.org/resources/16153\",\"Invalid '\n",
      " 'URL\",\"16153.0\"\\n'\n",
      " '\"\",\"FIELD_INTEGRITY_EXCEPTION:Specified External ID for Issue_ID__c in '\n",
      " 'entity nanoHUB_issue__c value length is 281 which exceeds maximum field '\n",
      " 'length of '\n",
      " '255:--\",\"Resource_URL::::19755::::https://publish.illinois.edu/spie-uofi/2013/09/14/ioptics-seminars-by-professor-danial-wasserman-from-department-of-electrical-and-computer-engineering-10022013-1130am-1230-pm-at-beckman-2269-on-making-the-mid-infrared-nano-with-designer-plasmon/::::Source\",\"Invalid '\n",
      " 'URL found on page.<br><br>         Link label: <p '\n",
      " 'style=\"\"color:Tomato;\"\">Source</p><br>         Link: <p '\n",
      " 'style=\"\"color:Tomato;\"\">https://publish.illinois.edu/spie-uofi/2013/09/14/ioptics-seminars-by-professor-danial-wasserman-from-department-of-electrical-and-computer-engineering-10022013-1130am-1230-pm-at-beckman-2269-on-making-the-mid-infrared-nano-with-designer-plasmon/</p>\",\"https://nanohub.org/resources/19755\",\"Invalid '\n",
      " 'URL\",\"19755.0\"\\n'\n",
      " '\"\",\"DUPLICATE_VALUE:Duplicate external id specified: '\n",
      " 'resource_url::::22562::::http://www.ictp.trieste.it/::::abdus salam '\n",
      " 'international centre for theoretical physics :Issue_ID__c '\n",
      " '--\",\"Resource_URL::::22562::::http://www.ictp.trieste.it/::::Abdus Salam '\n",
      " 'International Centre for Theoretical PhysicsÂ\\xa0\",\"Invalid URL found on '\n",
      " 'page.<br><br>         Link label: <p style=\"\"color:Tomato;\"\">Abdus Salam '\n",
      " 'International Centre for Theoretical PhysicsÂ\\xa0</p><br>         Link: <p '\n",
      " 'style=\"\"color:Tomato;\"\">http://www.ictp.trieste.it/</p>\",\"https://nanohub.org/resources/22562\",\"Invalid '\n",
      " 'URL\",\"22562.0\"\\n'\n",
      " '\"\",\"DUPLICATE_VALUE:Duplicate external id specified: '\n",
      " 'resource_url::::22562::::http://www.ictp.trieste.it/::::abdus salam '\n",
      " 'international centre for theoretical physics :Issue_ID__c '\n",
      " '--\",\"Resource_URL::::22562::::http://www.ictp.trieste.it/::::Abdus Salam '\n",
      " 'International Centre for Theoretical PhysicsÂ\\xa0\",\"Invalid URL found on '\n",
      " 'page.<br><br>         Link label: <p style=\"\"color:Tomato;\"\">Abdus Salam '\n",
      " 'International Centre for Theoretical PhysicsÂ\\xa0</p><br>         Link: <p '\n",
      " 'style=\"\"color:Tomato;\"\">http://www.ictp.trieste.it/</p>\",\"https://nanohub.org/resources/22562\",\"Invalid '\n",
      " 'URL\",\"22562.0\"\\n')\n"
     ]
    }
   ],
   "source": [
    "from pprint import pprint\n",
    "pprint(db_s.check_bulk_failed_results())"
   ]
  },
  {
   "cell_type": "code",
   "execution_count": null,
   "metadata": {},
   "outputs": [],
   "source": []
  }
 ],
 "metadata": {
  "celltoolbar": "Tags",
  "kernelspec": {
   "display_name": "Python 3",
   "language": "python",
   "name": "python3"
  },
  "language_info": {
   "codemirror_mode": {
    "name": "ipython",
    "version": 3
   },
   "file_extension": ".py",
   "mimetype": "text/x-python",
   "name": "python",
   "nbconvert_exporter": "python",
   "pygments_lexer": "ipython3",
   "version": "3.7.7"
  }
 },
 "nbformat": 4,
 "nbformat_minor": 4
}
