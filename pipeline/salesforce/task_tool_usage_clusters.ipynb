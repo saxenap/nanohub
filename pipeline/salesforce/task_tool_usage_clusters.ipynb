{
 "cells": [
  {
   "cell_type": "markdown",
   "metadata": {
    "papermill": {
     "duration": 0.016499,
     "end_time": "2021-01-21T17:07:15.309371",
     "exception": false,
     "start_time": "2021-01-21T17:07:15.292872",
     "status": "completed"
    },
    "tags": []
   },
   "source": [
    "# DB2-Salesforce connector: Tool usage clusters information updates"
   ]
  },
  {
   "cell_type": "code",
   "execution_count": 1,
   "metadata": {
    "execution": {
     "iopub.execute_input": "2021-01-21T17:07:15.344449Z",
     "iopub.status.busy": "2021-01-21T17:07:15.343776Z",
     "iopub.status.idle": "2021-01-21T17:07:15.346374Z",
     "shell.execute_reply": "2021-01-21T17:07:15.345683Z"
    },
    "papermill": {
     "duration": 0.023383,
     "end_time": "2021-01-21T17:07:15.346522",
     "exception": false,
     "start_time": "2021-01-21T17:07:15.323139",
     "status": "completed"
    },
    "tags": [
     "parameters"
    ]
   },
   "outputs": [],
   "source": [
    "# API settings\n",
    "api_url = '/services/data/v43.0/sobjects'\n",
    "external_id = 'ID__c'\n",
    "object_id = 'tool_usage_cluster__c'\n",
    "\n",
    "# login parameters to be handled by Papermill\n",
    "sql_login_params = {\"username\": \"wang2506_ro\", \"password\": \"fnVnwcCS7iT45EsA\"}\n",
    "sf_login_params = {\n",
    "    \"grant_type\": \"password\",\n",
    "    \"client_id\": \"3MVG95jctIhbyCppj0SNJ75IsZ1y8UPGZtSNF4j8FNVXz.De8Lu4jHm3rjRosAtsHy6qjHx3i4S_QbQzvBePG\",\n",
    "    \"client_secret\": \"D1623C6D3607D4FC8004B92C761DFB6C1F70CCD129C5501E357028DFA00F5764\",\n",
    "    \"username\":\"wang2506@purdue.edu\",\n",
    "    \"password\":\"purdue99272844vp8Z6qq0teuPQmirGaaPAt4\",   \n",
    "} \n",
    "    #\"username\": \"wang159-4j1v@force.com\",\n",
    "    #\"password\": \"napoleon0eZ3PQpQqE3C3z4wWqEqKGhQ8\","
   ]
  },
  {
   "cell_type": "code",
   "execution_count": 2,
   "metadata": {
    "execution": {
     "iopub.execute_input": "2021-01-21T17:07:15.372083Z",
     "iopub.status.busy": "2021-01-21T17:07:15.371130Z",
     "iopub.status.idle": "2021-01-21T17:07:15.648542Z",
     "shell.execute_reply": "2021-01-21T17:07:15.647730Z"
    },
    "papermill": {
     "duration": 0.292641,
     "end_time": "2021-01-21T17:07:15.648683",
     "exception": false,
     "start_time": "2021-01-21T17:07:15.356042",
     "status": "completed"
    },
    "tags": []
   },
   "outputs": [],
   "source": [
    "import sys\n",
    "sys.path.append('/home/users/wang2506/nanohub_salesforce_integ/salesforce')\n",
    "    \n",
    "import pandas as pd\n",
    "import datetime"
   ]
  },
  {
   "cell_type": "markdown",
   "metadata": {
    "papermill": {
     "duration": 0.009461,
     "end_time": "2021-01-21T17:07:15.668525",
     "exception": false,
     "start_time": "2021-01-21T17:07:15.659064",
     "status": "completed"
    },
    "tags": []
   },
   "source": [
    "## Obtain cluster information from DB2 "
   ]
  },
  {
   "cell_type": "code",
   "execution_count": 3,
   "metadata": {
    "execution": {
     "iopub.execute_input": "2021-01-21T17:07:15.692376Z",
     "iopub.status.busy": "2021-01-21T17:07:15.691800Z",
     "iopub.status.idle": "2021-01-21T17:07:15.826663Z",
     "shell.execute_reply": "2021-01-21T17:07:15.827098Z"
    },
    "papermill": {
     "duration": 0.149039,
     "end_time": "2021-01-21T17:07:15.827271",
     "exception": false,
     "start_time": "2021-01-21T17:07:15.678232",
     "status": "completed"
    },
    "tags": []
   },
   "outputs": [],
   "source": [
    "# connect with DB2\n",
    "import sqlalchemy as sql\n",
    "\n",
    "engine = sql.create_engine('mysql+pymysql://%s:%s@127.0.0.1/wang159_myrmekes' \\\n",
    "                                               %(sql_login_params['username'], sql_login_params['password']))"
   ]
  },
  {
   "cell_type": "code",
   "execution_count": 4,
   "metadata": {
    "execution": {
     "iopub.execute_input": "2021-01-21T17:07:15.850421Z",
     "iopub.status.busy": "2021-01-21T17:07:15.849872Z",
     "iopub.status.idle": "2021-01-21T17:07:16.014934Z",
     "shell.execute_reply": "2021-01-21T17:07:16.014315Z"
    },
    "papermill": {
     "duration": 0.178248,
     "end_time": "2021-01-21T17:07:16.015071",
     "exception": false,
     "start_time": "2021-01-21T17:07:15.836823",
     "status": "completed"
    },
    "tags": []
   },
   "outputs": [
    {
     "data": {
      "text/html": [
       "<div>\n",
       "<style scoped>\n",
       "    .dataframe tbody tr th:only-of-type {\n",
       "        vertical-align: middle;\n",
       "    }\n",
       "\n",
       "    .dataframe tbody tr th {\n",
       "        vertical-align: top;\n",
       "    }\n",
       "\n",
       "    .dataframe thead th {\n",
       "        text-align: right;\n",
       "    }\n",
       "</style>\n",
       "<table border=\"1\" class=\"dataframe\">\n",
       "  <thead>\n",
       "    <tr style=\"text-align: right;\">\n",
       "      <th></th>\n",
       "      <th>index</th>\n",
       "      <th>class_id</th>\n",
       "      <th>start</th>\n",
       "      <th>end</th>\n",
       "      <th>lon</th>\n",
       "      <th>lat</th>\n",
       "      <th>size</th>\n",
       "    </tr>\n",
       "  </thead>\n",
       "  <tbody>\n",
       "    <tr>\n",
       "      <th>0</th>\n",
       "      <td>0</td>\n",
       "      <td>0</td>\n",
       "      <td>2013-09-13</td>\n",
       "      <td>2013-09-20</td>\n",
       "      <td>-86.907866</td>\n",
       "      <td>40.430972</td>\n",
       "      <td>93</td>\n",
       "    </tr>\n",
       "    <tr>\n",
       "      <th>1</th>\n",
       "      <td>1</td>\n",
       "      <td>1</td>\n",
       "      <td>2013-09-15</td>\n",
       "      <td>2013-09-20</td>\n",
       "      <td>-87.924079</td>\n",
       "      <td>42.019433</td>\n",
       "      <td>10</td>\n",
       "    </tr>\n",
       "  </tbody>\n",
       "</table>\n",
       "</div>"
      ],
      "text/plain": [
       "   index  class_id      start        end        lon        lat  size\n",
       "0      0         0 2013-09-13 2013-09-20 -86.907866  40.430972    93\n",
       "1      1         1 2013-09-15 2013-09-20 -87.924079  42.019433    10"
      ]
     },
     "metadata": {},
     "output_type": "display_data"
    }
   ],
   "source": [
    "class_info_df = pd.read_sql_query('select * from cluster_class_info', engine)\n",
    "#students_info_df = pd.read_sql_query('select * from cluster_students_info', engine)\n",
    "#classtool_info_df = pd.read_sql_query('select * from cluster_classtool_info', engine)\n",
    "\n",
    "# display\n",
    "display(class_info_df.head(2))\n",
    "#display(students_info_df.head(2))\n",
    "#display(classtool_info_df.head(2))"
   ]
  },
  {
   "cell_type": "code",
   "execution_count": 5,
   "metadata": {
    "execution": {
     "iopub.execute_input": "2021-01-21T17:07:16.043168Z",
     "iopub.status.busy": "2021-01-21T17:07:16.042598Z",
     "iopub.status.idle": "2021-01-21T17:07:16.044909Z",
     "shell.execute_reply": "2021-01-21T17:07:16.045305Z"
    },
    "papermill": {
     "duration": 0.020408,
     "end_time": "2021-01-21T17:07:16.045454",
     "exception": false,
     "start_time": "2021-01-21T17:07:16.025046",
     "status": "completed"
    },
    "tags": []
   },
   "outputs": [],
   "source": [
    "# convert and clean some columns, so we can, for example, sort values\n",
    "class_info_df['start'] = pd.to_datetime(class_info_df['start'], errors='coerce') \n",
    "class_info_df['end'] = pd.to_datetime(class_info_df['end'], errors='coerce')"
   ]
  },
  {
   "cell_type": "code",
   "execution_count": 6,
   "metadata": {
    "execution": {
     "iopub.execute_input": "2021-01-21T17:07:16.069272Z",
     "iopub.status.busy": "2021-01-21T17:07:16.068703Z",
     "iopub.status.idle": "2021-01-21T17:07:16.414247Z",
     "shell.execute_reply": "2021-01-21T17:07:16.414846Z"
    },
    "papermill": {
     "duration": 0.359868,
     "end_time": "2021-01-21T17:07:16.415021",
     "exception": false,
     "start_time": "2021-01-21T17:07:16.055153",
     "status": "completed"
    },
    "tags": []
   },
   "outputs": [],
   "source": [
    "# create geolocation Estimated_Location__c\n",
    "# {\"house\":{\"location__latitude__s\":34, \"location__longitude__s\":23}}\n",
    "\n",
    "class_info_df['Estimated_Location__c'] = class_info_df.apply(lambda x: {\"Estimated_Location__c\":\\\n",
    "                                                                 {\"location__latitude__s\":x.lat, \"location__longitude__s\":x.lon}}, axis=1)\n",
    "\n",
    "class_info_df['Map_Location__c'] = class_info_df\\\n",
    "      .apply(lambda x: 'https://www.google.com/maps/@?api=1&map_action=map&center=%f,%f&zoom=9'%(x.lat, x.lon), axis=1)"
   ]
  },
  {
   "cell_type": "code",
   "execution_count": 7,
   "metadata": {
    "execution": {
     "iopub.execute_input": "2021-01-21T17:07:16.458246Z",
     "iopub.status.busy": "2021-01-21T17:07:16.457663Z",
     "iopub.status.idle": "2021-01-21T17:07:16.461964Z",
     "shell.execute_reply": "2021-01-21T17:07:16.461492Z"
    },
    "papermill": {
     "duration": 0.031409,
     "end_time": "2021-01-21T17:07:16.462097",
     "exception": false,
     "start_time": "2021-01-21T17:07:16.430688",
     "status": "completed"
    },
    "tags": []
   },
   "outputs": [
    {
     "data": {
      "text/html": [
       "<div>\n",
       "<style scoped>\n",
       "    .dataframe tbody tr th:only-of-type {\n",
       "        vertical-align: middle;\n",
       "    }\n",
       "\n",
       "    .dataframe tbody tr th {\n",
       "        vertical-align: top;\n",
       "    }\n",
       "\n",
       "    .dataframe thead th {\n",
       "        text-align: right;\n",
       "    }\n",
       "</style>\n",
       "<table border=\"1\" class=\"dataframe\">\n",
       "  <thead>\n",
       "    <tr style=\"text-align: right;\">\n",
       "      <th></th>\n",
       "      <th>index</th>\n",
       "      <th>class_id</th>\n",
       "      <th>start</th>\n",
       "      <th>end</th>\n",
       "      <th>lon</th>\n",
       "      <th>lat</th>\n",
       "      <th>size</th>\n",
       "      <th>Estimated_Location__c</th>\n",
       "      <th>Map_Location__c</th>\n",
       "    </tr>\n",
       "  </thead>\n",
       "  <tbody>\n",
       "    <tr>\n",
       "      <th>0</th>\n",
       "      <td>0</td>\n",
       "      <td>0</td>\n",
       "      <td>2013-09-13</td>\n",
       "      <td>2013-09-20</td>\n",
       "      <td>-86.907866</td>\n",
       "      <td>40.430972</td>\n",
       "      <td>93</td>\n",
       "      <td>{'Estimated_Location__c': {'location__latitude...</td>\n",
       "      <td>https://www.google.com/maps/@?api=1&amp;map_action...</td>\n",
       "    </tr>\n",
       "    <tr>\n",
       "      <th>1</th>\n",
       "      <td>1</td>\n",
       "      <td>1</td>\n",
       "      <td>2013-09-15</td>\n",
       "      <td>2013-09-20</td>\n",
       "      <td>-87.924079</td>\n",
       "      <td>42.019433</td>\n",
       "      <td>10</td>\n",
       "      <td>{'Estimated_Location__c': {'location__latitude...</td>\n",
       "      <td>https://www.google.com/maps/@?api=1&amp;map_action...</td>\n",
       "    </tr>\n",
       "  </tbody>\n",
       "</table>\n",
       "</div>"
      ],
      "text/plain": [
       "   index  class_id      start        end        lon        lat  size  \\\n",
       "0      0         0 2013-09-13 2013-09-20 -86.907866  40.430972    93   \n",
       "1      1         1 2013-09-15 2013-09-20 -87.924079  42.019433    10   \n",
       "\n",
       "                               Estimated_Location__c  \\\n",
       "0  {'Estimated_Location__c': {'location__latitude...   \n",
       "1  {'Estimated_Location__c': {'location__latitude...   \n",
       "\n",
       "                                     Map_Location__c  \n",
       "0  https://www.google.com/maps/@?api=1&map_action...  \n",
       "1  https://www.google.com/maps/@?api=1&map_action...  "
      ]
     },
     "execution_count": 7,
     "metadata": {},
     "output_type": "execute_result"
    }
   ],
   "source": [
    "class_info_df.head(2)"
   ]
  },
  {
   "cell_type": "markdown",
   "metadata": {
    "papermill": {
     "duration": 0.014431,
     "end_time": "2021-01-21T17:07:16.490870",
     "exception": false,
     "start_time": "2021-01-21T17:07:16.476439",
     "status": "completed"
    },
    "tags": []
   },
   "source": [
    "## Match data with Salesforce format"
   ]
  },
  {
   "cell_type": "code",
   "execution_count": 8,
   "metadata": {
    "execution": {
     "iopub.execute_input": "2021-01-21T17:07:16.520196Z",
     "iopub.status.busy": "2021-01-21T17:07:16.518155Z",
     "iopub.status.idle": "2021-01-21T17:07:16.530769Z",
     "shell.execute_reply": "2021-01-21T17:07:16.531330Z"
    },
    "papermill": {
     "duration": 0.030535,
     "end_time": "2021-01-21T17:07:16.531493",
     "exception": false,
     "start_time": "2021-01-21T17:07:16.500958",
     "status": "completed"
    },
    "tags": []
   },
   "outputs": [
    {
     "data": {
      "text/html": [
       "<div>\n",
       "<style scoped>\n",
       "    .dataframe tbody tr th:only-of-type {\n",
       "        vertical-align: middle;\n",
       "    }\n",
       "\n",
       "    .dataframe tbody tr th {\n",
       "        vertical-align: top;\n",
       "    }\n",
       "\n",
       "    .dataframe thead th {\n",
       "        text-align: right;\n",
       "    }\n",
       "</style>\n",
       "<table border=\"1\" class=\"dataframe\">\n",
       "  <thead>\n",
       "    <tr style=\"text-align: right;\">\n",
       "      <th></th>\n",
       "      <th>0</th>\n",
       "      <th>1</th>\n",
       "    </tr>\n",
       "  </thead>\n",
       "  <tbody>\n",
       "    <tr>\n",
       "      <th>ID__c</th>\n",
       "      <td>0</td>\n",
       "      <td>1</td>\n",
       "    </tr>\n",
       "    <tr>\n",
       "      <th>Starting_Date__c</th>\n",
       "      <td>2013-09-13 00:00:00</td>\n",
       "      <td>2013-09-15 00:00:00</td>\n",
       "    </tr>\n",
       "    <tr>\n",
       "      <th>Ending_Date__c</th>\n",
       "      <td>2013-09-20 00:00:00</td>\n",
       "      <td>2013-09-20 00:00:00</td>\n",
       "    </tr>\n",
       "    <tr>\n",
       "      <th>Map_Location__c</th>\n",
       "      <td>https://www.google.com/maps/@?api=1&amp;map_action...</td>\n",
       "      <td>https://www.google.com/maps/@?api=1&amp;map_action...</td>\n",
       "    </tr>\n",
       "    <tr>\n",
       "      <th>Estimated_Location__latitude__s</th>\n",
       "      <td>40.431</td>\n",
       "      <td>42.0194</td>\n",
       "    </tr>\n",
       "    <tr>\n",
       "      <th>Estimated_Location__longitude__s</th>\n",
       "      <td>-86.9079</td>\n",
       "      <td>-87.9241</td>\n",
       "    </tr>\n",
       "  </tbody>\n",
       "</table>\n",
       "</div>"
      ],
      "text/plain": [
       "                                                                                  0  \\\n",
       "ID__c                                                                             0   \n",
       "Starting_Date__c                                                2013-09-13 00:00:00   \n",
       "Ending_Date__c                                                  2013-09-20 00:00:00   \n",
       "Map_Location__c                   https://www.google.com/maps/@?api=1&map_action...   \n",
       "Estimated_Location__latitude__s                                              40.431   \n",
       "Estimated_Location__longitude__s                                           -86.9079   \n",
       "\n",
       "                                                                                  1  \n",
       "ID__c                                                                             1  \n",
       "Starting_Date__c                                                2013-09-15 00:00:00  \n",
       "Ending_Date__c                                                  2013-09-20 00:00:00  \n",
       "Map_Location__c                   https://www.google.com/maps/@?api=1&map_action...  \n",
       "Estimated_Location__latitude__s                                             42.0194  \n",
       "Estimated_Location__longitude__s                                           -87.9241  "
      ]
     },
     "execution_count": 8,
     "metadata": {},
     "output_type": "execute_result"
    }
   ],
   "source": [
    "df_sf = pd.DataFrame()\n",
    "\n",
    "# Make sure NaN and NaT values are taken care of here\n",
    "\n",
    "df_sf['ID__c']                             = class_info_df['class_id']\n",
    "df_sf['Starting_Date__c']          = class_info_df['start']\n",
    "df_sf['Ending_Date__c']            = class_info_df['end']\n",
    "df_sf['Map_Location__c'] = class_info_df['Map_Location__c']\n",
    "df_sf['Estimated_Location__latitude__s'] = class_info_df['lat']\n",
    "df_sf['Estimated_Location__longitude__s'] = class_info_df['lon']\n",
    "\n",
    "sf_original_fields = df_sf.columns\n",
    "\n",
    "# display\n",
    "df_sf.head(2).T"
   ]
  },
  {
   "cell_type": "markdown",
   "metadata": {
    "papermill": {
     "duration": 0.01074,
     "end_time": "2021-01-21T17:07:16.552963",
     "exception": false,
     "start_time": "2021-01-21T17:07:16.542223",
     "status": "completed"
    },
    "tags": []
   },
   "source": [
    "## To Salesforce Sales Cloud CRM"
   ]
  },
  {
   "cell_type": "code",
   "execution_count": 9,
   "metadata": {
    "execution": {
     "iopub.execute_input": "2021-01-21T17:07:16.578375Z",
     "iopub.status.busy": "2021-01-21T17:07:16.577798Z",
     "iopub.status.idle": "2021-01-21T17:07:17.031654Z",
     "shell.execute_reply": "2021-01-21T17:07:17.031183Z"
    },
    "papermill": {
     "duration": 0.468465,
     "end_time": "2021-01-21T17:07:17.031846",
     "exception": false,
     "start_time": "2021-01-21T17:07:16.563381",
     "status": "completed"
    },
    "tags": []
   },
   "outputs": [
    {
     "name": "stdout",
     "output_type": "stream",
     "text": [
      "Obtained Salesforce access token ...... True\n"
     ]
    }
   ],
   "source": [
    "from DB2SalesforceAPI import DB2SalesforceAPI\n",
    "\n",
    "# create DB2 to Salesforce API object\n",
    "db_s = DB2SalesforceAPI(sf_login_params)\n",
    "\n",
    "# specify Salesforce object ID and external ID\n",
    "db_s.object_id = object_id\n",
    "db_s.external_id = external_id"
   ]
  },
  {
   "cell_type": "code",
   "execution_count": 10,
   "metadata": {
    "execution": {
     "iopub.execute_input": "2021-01-21T17:07:17.059111Z",
     "iopub.status.busy": "2021-01-21T17:07:17.058534Z",
     "iopub.status.idle": "2021-01-21T17:07:18.085539Z",
     "shell.execute_reply": "2021-01-21T17:07:18.085091Z"
    },
    "papermill": {
     "duration": 1.042793,
     "end_time": "2021-01-21T17:07:18.085677",
     "exception": false,
     "start_time": "2021-01-21T17:07:17.042884",
     "status": "completed"
    },
    "tags": []
   },
   "outputs": [
    {
     "name": "stdout",
     "output_type": "stream",
     "text": [
      "[Success] Bulk job creation successful. Job ID = 7505w00000TmOrQAAV\n",
      "hello\n"
     ]
    },
    {
     "name": "stdout",
     "output_type": "stream",
     "text": [
      "[Success] CSV upload successful. Job ID = 7505w00000TmOrQAAV\n",
      "[Success] Closing job successful. Job ID = 7505w00000TmOrQAAV\n"
     ]
    }
   ],
   "source": [
    "# send data to Salesforce\n",
    "db_s.send_data(df_sf)"
   ]
  },
  {
   "cell_type": "code",
   "execution_count": 11,
   "metadata": {
    "execution": {
     "iopub.execute_input": "2021-01-21T17:07:18.112876Z",
     "iopub.status.busy": "2021-01-21T17:07:18.111700Z",
     "iopub.status.idle": "2021-01-21T17:07:18.576443Z",
     "shell.execute_reply": "2021-01-21T17:07:18.576952Z"
    },
    "papermill": {
     "duration": 0.479947,
     "end_time": "2021-01-21T17:07:18.577121",
     "exception": false,
     "start_time": "2021-01-21T17:07:18.097174",
     "status": "completed"
    },
    "tags": []
   },
   "outputs": [
    {
     "data": {
      "text/plain": [
       "{'id': '7505w00000TmOrQAAV',\n",
       " 'operation': 'upsert',\n",
       " 'object': 'tool_usage_cluster__c',\n",
       " 'createdById': '0055w00000DM5bOAAT',\n",
       " 'createdDate': '2021-01-21T17:07:17.000+0000',\n",
       " 'systemModstamp': '2021-01-21T17:07:18.000+0000',\n",
       " 'state': 'UploadComplete',\n",
       " 'externalIdFieldName': 'ID__c',\n",
       " 'concurrencyMode': 'Parallel',\n",
       " 'contentType': 'CSV',\n",
       " 'apiVersion': 47.0,\n",
       " 'jobType': 'V2Ingest',\n",
       " 'lineEnding': 'LF',\n",
       " 'columnDelimiter': 'COMMA',\n",
       " 'numberRecordsProcessed': 0,\n",
       " 'numberRecordsFailed': 0,\n",
       " 'retries': 0,\n",
       " 'totalProcessingTime': 0,\n",
       " 'apiActiveProcessingTime': 0,\n",
       " 'apexProcessingTime': 0}"
      ]
     },
     "execution_count": 11,
     "metadata": {},
     "output_type": "execute_result"
    }
   ],
   "source": [
    "# check status\n",
    "db_s.check_bulk_status()"
   ]
  },
  {
   "cell_type": "code",
   "execution_count": 12,
   "metadata": {
    "execution": {
     "iopub.execute_input": "2021-01-21T17:07:18.606724Z",
     "iopub.status.busy": "2021-01-21T17:07:18.606090Z",
     "iopub.status.idle": "2021-01-21T17:07:18.775770Z",
     "shell.execute_reply": "2021-01-21T17:07:18.776344Z"
    },
    "papermill": {
     "duration": 0.187547,
     "end_time": "2021-01-21T17:07:18.776637",
     "exception": false,
     "start_time": "2021-01-21T17:07:18.589090",
     "status": "completed"
    },
    "tags": []
   },
   "outputs": [
    {
     "name": "stdout",
     "output_type": "stream",
     "text": [
      "''\n"
     ]
    }
   ],
   "source": [
    "from pprint import pprint\n",
    "pprint(db_s.check_bulk_failed_results())"
   ]
  },
  {
   "cell_type": "code",
   "execution_count": null,
   "metadata": {
    "papermill": {
     "duration": 0.012194,
     "end_time": "2021-01-21T17:07:18.801642",
     "exception": false,
     "start_time": "2021-01-21T17:07:18.789448",
     "status": "completed"
    },
    "tags": []
   },
   "outputs": [],
   "source": []
  },
  {
   "cell_type": "code",
   "execution_count": null,
   "metadata": {
    "papermill": {
     "duration": 0.011833,
     "end_time": "2021-01-21T17:07:18.827899",
     "exception": false,
     "start_time": "2021-01-21T17:07:18.816066",
     "status": "completed"
    },
    "tags": []
   },
   "outputs": [],
   "source": []
  }
 ],
 "metadata": {
  "celltoolbar": "Tags",
  "kernelspec": {
   "display_name": "Python 3",
   "language": "python",
   "name": "python3"
  },
  "language_info": {
   "codemirror_mode": {
    "name": "ipython",
    "version": 3
   },
   "file_extension": ".py",
   "mimetype": "text/x-python",
   "name": "python",
   "nbconvert_exporter": "python",
   "pygments_lexer": "ipython3",
   "version": "3.7.6"
  },
  "papermill": {
   "duration": 4.69178,
   "end_time": "2021-01-21T17:07:19.148719",
   "environment_variables": {},
   "exception": null,
   "input_path": "/home/users/wang2506/nanohub_salesforce_integ/salesforce/task_tool_usage_clusters.ipynb",
   "output_path": "/home/users/wang2506/nanohub_salesforce_integ/salesforce/task_tool_usage_clusters.ipynb",
   "parameters": {},
   "start_time": "2021-01-21T17:07:14.456939",
   "version": "2.1.1"
  }
 },
 "nbformat": 4,
 "nbformat_minor": 4
}