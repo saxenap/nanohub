{
 "cells": [
  {
   "cell_type": "markdown",
   "metadata": {},
   "source": [
    "## update user contributions\n"
   ]
  },
  {
   "cell_type": "code",
   "execution_count": null,
   "metadata": {},
   "outputs": [],
   "source": [
    "## should do this on a monthly basis because 1) this is will quickly use up BULK API's allotted quantity\n",
    "## and 2) db2 only updates some usage numbers on a yearly or monthly basis\n",
    "\n",
    "## currently this script takes over 25 minutes to upload to SF"
   ]
  },
  {
   "cell_type": "code",
   "execution_count": 87,
   "metadata": {},
   "outputs": [],
   "source": [
    "# API settings\n",
    "api_url = '/services/data/v43.0/sobjects'\n",
    "external_id = 'Name'\n",
    "object_id = 'ContactToolAssociation__c'\n",
    "\n",
    "# login parameters to be handled by Papermill\n",
    "sql_login_params = {\"username\": \"wang2506_ro\", \"password\": \"fnVnwcCS7iT45EsA\"}\n",
    "sf_login_params = {\n",
    "    \"grant_type\": \"password\",\n",
    "    \"client_id\": \"3MVG95jctIhbyCppj0SNJ75IsZ1y8UPGZtSNF4j8FNVXz.De8Lu4jHm3rjRosAtsHy6qjHx3i4S_QbQzvBePG\",\n",
    "    \"client_secret\": \"D1623C6D3607D4FC8004B92C761DFB6C1F70CCD129C5501E357028DFA00F5764\",\n",
    "    \"username\":\"wang2506@purdue.edu\",\n",
    "    \"password\":\"shit9927289sSYTkLiGvyK2UrazHFmjFUGU\",    \n",
    "} \n",
    "    #\"username\": \"wang159-4j1v@force.com\",\n",
    "    #\"password\": \"napoleon0eZ3PQpQqE3C3z4wWqEqKGhQ8\","
   ]
  },
  {
   "cell_type": "code",
   "execution_count": 88,
   "metadata": {},
   "outputs": [],
   "source": [
    "import sys\n",
    "#sys.path.append('/home/users/wang2506/nanohub_salesforce_integ/salesforce')\n",
    "    \n",
    "import pandas as pd\n",
    "import time\n",
    "import datetime\n",
    "\n",
    "from DB2SalesforceAPI import DB2SalesforceAPI"
   ]
  },
  {
   "cell_type": "markdown",
   "metadata": {},
   "source": [
    "## Obtain information from DB2 "
   ]
  },
  {
   "cell_type": "code",
   "execution_count": 89,
   "metadata": {},
   "outputs": [],
   "source": [
    "#pre-filtering queries using datetime\n",
    "date_temp = datetime.datetime.today()\n",
    "year = date_temp.year\n",
    "month = date_temp.month-1\n",
    "period = 14\n",
    "if month < 10:\n",
    "    date_str0 = str(year)+'-0'+str(month)+'-00'\n",
    "    date_str1 = str(year)+'-0'+str(month)+'-01'\n",
    "else:\n",
    "    date_str0 = str(year)+'-'+str(month)+'-00'\n",
    "    date_str1 = str(year)+'-'+str(month)+'-01'"
   ]
  },
  {
   "cell_type": "code",
   "execution_count": 90,
   "metadata": {},
   "outputs": [],
   "source": [
    "# connect with DB2\n",
    "import sqlalchemy as sql\n",
    "\n",
    "engine = sql.create_engine('mysql+pymysql://%s:%s@127.0.0.1/nanohub' \\\n",
    "                                               %(sql_login_params['username'], sql_login_params['password']))\n",
    "\n",
    "# getting the total number of contributions\n",
    "sql_query = \"select * from jos_real_contributors;\"\n",
    "\n",
    "num_contri_df = pd.read_sql_query(sql_query, engine)\n",
    "\n",
    "# getting the users that used the contributions\n",
    "## need to be selective here - only choose the previous month in the database, and pick period = 14\n",
    "sql_query = \"select * from jos_author_stats WHERE datetime between '2020-07-00' and '2020-07-01' and period = 14;\"\n",
    "\n",
    "result_users_df = pd.read_sql_query(sql_query, engine)\n"
   ]
  },
  {
   "cell_type": "code",
   "execution_count": 91,
   "metadata": {},
   "outputs": [
    {
     "data": {
      "text/html": [
       "<div>\n",
       "<style scoped>\n",
       "    .dataframe tbody tr th:only-of-type {\n",
       "        vertical-align: middle;\n",
       "    }\n",
       "\n",
       "    .dataframe tbody tr th {\n",
       "        vertical-align: top;\n",
       "    }\n",
       "\n",
       "    .dataframe thead th {\n",
       "        text-align: right;\n",
       "    }\n",
       "</style>\n",
       "<table border=\"1\" class=\"dataframe\">\n",
       "  <thead>\n",
       "    <tr style=\"text-align: right;\">\n",
       "      <th></th>\n",
       "      <th>uidNumber</th>\n",
       "      <th>resource_count</th>\n",
       "      <th>wiki_count</th>\n",
       "      <th>total_count</th>\n",
       "    </tr>\n",
       "  </thead>\n",
       "  <tbody>\n",
       "    <tr>\n",
       "      <th>0</th>\n",
       "      <td>-272</td>\n",
       "      <td>1</td>\n",
       "      <td>0</td>\n",
       "      <td>1</td>\n",
       "    </tr>\n",
       "    <tr>\n",
       "      <th>1</th>\n",
       "      <td>-271</td>\n",
       "      <td>0</td>\n",
       "      <td>0</td>\n",
       "      <td>0</td>\n",
       "    </tr>\n",
       "  </tbody>\n",
       "</table>\n",
       "</div>"
      ],
      "text/plain": [
       "   uidNumber  resource_count  wiki_count  total_count\n",
       "0       -272               1           0            1\n",
       "1       -271               0           0            0"
      ]
     },
     "metadata": {},
     "output_type": "display_data"
    },
    {
     "data": {
      "text/html": [
       "<div>\n",
       "<style scoped>\n",
       "    .dataframe tbody tr th:only-of-type {\n",
       "        vertical-align: middle;\n",
       "    }\n",
       "\n",
       "    .dataframe tbody tr th {\n",
       "        vertical-align: top;\n",
       "    }\n",
       "\n",
       "    .dataframe thead th {\n",
       "        text-align: right;\n",
       "    }\n",
       "</style>\n",
       "<table border=\"1\" class=\"dataframe\">\n",
       "  <thead>\n",
       "    <tr style=\"text-align: right;\">\n",
       "      <th></th>\n",
       "      <th>id</th>\n",
       "      <th>authorid</th>\n",
       "      <th>tool_users</th>\n",
       "      <th>andmore_users</th>\n",
       "      <th>total_users</th>\n",
       "      <th>datetime</th>\n",
       "      <th>period</th>\n",
       "    </tr>\n",
       "  </thead>\n",
       "  <tbody>\n",
       "    <tr>\n",
       "      <th>0</th>\n",
       "      <td>1130819</td>\n",
       "      <td>4843</td>\n",
       "      <td>3118.0</td>\n",
       "      <td>869</td>\n",
       "      <td>3967</td>\n",
       "      <td>2020-07-00 00:00:00</td>\n",
       "      <td>14</td>\n",
       "    </tr>\n",
       "    <tr>\n",
       "      <th>1</th>\n",
       "      <td>1130822</td>\n",
       "      <td>28115</td>\n",
       "      <td>1840.0</td>\n",
       "      <td>0</td>\n",
       "      <td>1840</td>\n",
       "      <td>2020-07-00 00:00:00</td>\n",
       "      <td>14</td>\n",
       "    </tr>\n",
       "  </tbody>\n",
       "</table>\n",
       "</div>"
      ],
      "text/plain": [
       "        id  authorid  tool_users  andmore_users  total_users  \\\n",
       "0  1130819      4843      3118.0            869         3967   \n",
       "1  1130822     28115      1840.0              0         1840   \n",
       "\n",
       "              datetime  period  \n",
       "0  2020-07-00 00:00:00      14  \n",
       "1  2020-07-00 00:00:00      14  "
      ]
     },
     "metadata": {},
     "output_type": "display_data"
    },
    {
     "name": "stdout",
     "output_type": "stream",
     "text": [
      "(3121, 7)\n"
     ]
    }
   ],
   "source": [
    "display(num_contri_df.head(2))\n",
    "display(result_users_df.head(2))\n",
    "print(result_users_df.shape)"
   ]
  },
  {
   "cell_type": "code",
   "execution_count": 92,
   "metadata": {},
   "outputs": [],
   "source": [
    "## get rid of all negative uidNumbers\n",
    "uids = num_contri_df['uidNumber']\n",
    "remove = []\n",
    "keep =[]\n",
    "for index,val in enumerate(uids):\n",
    "    if val <= 0:\n",
    "        remove.append(index)\n",
    "    else:\n",
    "        keep.append(index)\n",
    "contri_df = num_contri_df.iloc[keep,:]\n",
    "\n",
    "\n",
    "## get rid of all negative authorid\n",
    "ids = result_users_df['id']\n",
    "remove = []\n",
    "keep = []\n",
    "for index,val in enumerate(ids):\n",
    "    if val <= 0:\n",
    "        remove.append(index)\n",
    "    else:\n",
    "        keep.append(index)\n",
    "user_qty_df = result_users_df.iloc[keep,:]\n"
   ]
  },
  {
   "cell_type": "code",
   "execution_count": 93,
   "metadata": {},
   "outputs": [
    {
     "data": {
      "text/html": [
       "<div>\n",
       "<style scoped>\n",
       "    .dataframe tbody tr th:only-of-type {\n",
       "        vertical-align: middle;\n",
       "    }\n",
       "\n",
       "    .dataframe tbody tr th {\n",
       "        vertical-align: top;\n",
       "    }\n",
       "\n",
       "    .dataframe thead th {\n",
       "        text-align: right;\n",
       "    }\n",
       "</style>\n",
       "<table border=\"1\" class=\"dataframe\">\n",
       "  <thead>\n",
       "    <tr style=\"text-align: right;\">\n",
       "      <th></th>\n",
       "      <th>uidNumber</th>\n",
       "      <th>resource_count</th>\n",
       "      <th>wiki_count</th>\n",
       "      <th>total_count</th>\n",
       "    </tr>\n",
       "  </thead>\n",
       "  <tbody>\n",
       "    <tr>\n",
       "      <th>181</th>\n",
       "      <td>998</td>\n",
       "      <td>0</td>\n",
       "      <td>0</td>\n",
       "      <td>0</td>\n",
       "    </tr>\n",
       "    <tr>\n",
       "      <th>182</th>\n",
       "      <td>1000</td>\n",
       "      <td>0</td>\n",
       "      <td>0</td>\n",
       "      <td>0</td>\n",
       "    </tr>\n",
       "  </tbody>\n",
       "</table>\n",
       "</div>"
      ],
      "text/plain": [
       "     uidNumber  resource_count  wiki_count  total_count\n",
       "181        998               0           0            0\n",
       "182       1000               0           0            0"
      ]
     },
     "metadata": {},
     "output_type": "display_data"
    },
    {
     "data": {
      "text/html": [
       "<div>\n",
       "<style scoped>\n",
       "    .dataframe tbody tr th:only-of-type {\n",
       "        vertical-align: middle;\n",
       "    }\n",
       "\n",
       "    .dataframe tbody tr th {\n",
       "        vertical-align: top;\n",
       "    }\n",
       "\n",
       "    .dataframe thead th {\n",
       "        text-align: right;\n",
       "    }\n",
       "</style>\n",
       "<table border=\"1\" class=\"dataframe\">\n",
       "  <thead>\n",
       "    <tr style=\"text-align: right;\">\n",
       "      <th></th>\n",
       "      <th>id</th>\n",
       "      <th>authorid</th>\n",
       "      <th>tool_users</th>\n",
       "      <th>andmore_users</th>\n",
       "      <th>total_users</th>\n",
       "      <th>datetime</th>\n",
       "      <th>period</th>\n",
       "    </tr>\n",
       "  </thead>\n",
       "  <tbody>\n",
       "    <tr>\n",
       "      <th>3119</th>\n",
       "      <td>1140176</td>\n",
       "      <td>288999</td>\n",
       "      <td>3.0</td>\n",
       "      <td>0</td>\n",
       "      <td>3</td>\n",
       "      <td>2020-07-00 00:00:00</td>\n",
       "      <td>14</td>\n",
       "    </tr>\n",
       "    <tr>\n",
       "      <th>3120</th>\n",
       "      <td>1140179</td>\n",
       "      <td>288457</td>\n",
       "      <td>3.0</td>\n",
       "      <td>0</td>\n",
       "      <td>3</td>\n",
       "      <td>2020-07-00 00:00:00</td>\n",
       "      <td>14</td>\n",
       "    </tr>\n",
       "  </tbody>\n",
       "</table>\n",
       "</div>"
      ],
      "text/plain": [
       "           id  authorid  tool_users  andmore_users  total_users  \\\n",
       "3119  1140176    288999         3.0              0            3   \n",
       "3120  1140179    288457         3.0              0            3   \n",
       "\n",
       "                 datetime  period  \n",
       "3119  2020-07-00 00:00:00      14  \n",
       "3120  2020-07-00 00:00:00      14  "
      ]
     },
     "metadata": {},
     "output_type": "display_data"
    }
   ],
   "source": [
    "display(contri_df.head(2))\n",
    "display(user_qty_df.tail(2))"
   ]
  },
  {
   "cell_type": "code",
   "execution_count": 94,
   "metadata": {},
   "outputs": [
    {
     "name": "stdout",
     "output_type": "stream",
     "text": [
      "(76401, 4)\n",
      "(3121, 7)\n"
     ]
    }
   ],
   "source": [
    "print(contri_df.shape)\n",
    "print(user_qty_df.shape)"
   ]
  },
  {
   "cell_type": "code",
   "execution_count": 95,
   "metadata": {},
   "outputs": [],
   "source": [
    "# combine the two dataframes\n",
    "ids = contri_df['uidNumber']\n",
    "ovr_df = contri_df.set_index('uidNumber').join(user_qty_df.set_index('authorid'))"
   ]
  },
  {
   "cell_type": "code",
   "execution_count": 96,
   "metadata": {},
   "outputs": [
    {
     "data": {
      "text/html": [
       "<div>\n",
       "<style scoped>\n",
       "    .dataframe tbody tr th:only-of-type {\n",
       "        vertical-align: middle;\n",
       "    }\n",
       "\n",
       "    .dataframe tbody tr th {\n",
       "        vertical-align: top;\n",
       "    }\n",
       "\n",
       "    .dataframe thead th {\n",
       "        text-align: right;\n",
       "    }\n",
       "</style>\n",
       "<table border=\"1\" class=\"dataframe\">\n",
       "  <thead>\n",
       "    <tr style=\"text-align: right;\">\n",
       "      <th></th>\n",
       "      <th>uidNumber</th>\n",
       "      <th>resource_count</th>\n",
       "      <th>wiki_count</th>\n",
       "      <th>total_count</th>\n",
       "      <th>id</th>\n",
       "      <th>tool_users</th>\n",
       "      <th>andmore_users</th>\n",
       "      <th>total_users</th>\n",
       "      <th>datetime</th>\n",
       "      <th>period</th>\n",
       "    </tr>\n",
       "  </thead>\n",
       "  <tbody>\n",
       "    <tr>\n",
       "      <th>0</th>\n",
       "      <td>998</td>\n",
       "      <td>0</td>\n",
       "      <td>0</td>\n",
       "      <td>0</td>\n",
       "      <td>NaN</td>\n",
       "      <td>NaN</td>\n",
       "      <td>NaN</td>\n",
       "      <td>NaN</td>\n",
       "      <td>NaN</td>\n",
       "      <td>NaN</td>\n",
       "    </tr>\n",
       "    <tr>\n",
       "      <th>1</th>\n",
       "      <td>1000</td>\n",
       "      <td>0</td>\n",
       "      <td>0</td>\n",
       "      <td>0</td>\n",
       "      <td>NaN</td>\n",
       "      <td>NaN</td>\n",
       "      <td>NaN</td>\n",
       "      <td>NaN</td>\n",
       "      <td>NaN</td>\n",
       "      <td>NaN</td>\n",
       "    </tr>\n",
       "  </tbody>\n",
       "</table>\n",
       "</div>"
      ],
      "text/plain": [
       "   uidNumber  resource_count  wiki_count  total_count  id  tool_users  \\\n",
       "0        998               0           0            0 NaN         NaN   \n",
       "1       1000               0           0            0 NaN         NaN   \n",
       "\n",
       "   andmore_users  total_users datetime  period  \n",
       "0            NaN          NaN      NaN     NaN  \n",
       "1            NaN          NaN      NaN     NaN  "
      ]
     },
     "metadata": {},
     "output_type": "display_data"
    },
    {
     "data": {
      "text/html": [
       "<div>\n",
       "<style scoped>\n",
       "    .dataframe tbody tr th:only-of-type {\n",
       "        vertical-align: middle;\n",
       "    }\n",
       "\n",
       "    .dataframe tbody tr th {\n",
       "        vertical-align: top;\n",
       "    }\n",
       "\n",
       "    .dataframe thead th {\n",
       "        text-align: right;\n",
       "    }\n",
       "</style>\n",
       "<table border=\"1\" class=\"dataframe\">\n",
       "  <thead>\n",
       "    <tr style=\"text-align: right;\">\n",
       "      <th></th>\n",
       "      <th>uidNumber</th>\n",
       "      <th>resource_count</th>\n",
       "      <th>wiki_count</th>\n",
       "      <th>total_count</th>\n",
       "      <th>id</th>\n",
       "      <th>tool_users</th>\n",
       "      <th>andmore_users</th>\n",
       "      <th>total_users</th>\n",
       "      <th>datetime</th>\n",
       "      <th>period</th>\n",
       "    </tr>\n",
       "  </thead>\n",
       "  <tbody>\n",
       "    <tr>\n",
       "      <th>76399</th>\n",
       "      <td>81151</td>\n",
       "      <td>0</td>\n",
       "      <td>0</td>\n",
       "      <td>0</td>\n",
       "      <td>NaN</td>\n",
       "      <td>NaN</td>\n",
       "      <td>NaN</td>\n",
       "      <td>NaN</td>\n",
       "      <td>NaN</td>\n",
       "      <td>NaN</td>\n",
       "    </tr>\n",
       "    <tr>\n",
       "      <th>76400</th>\n",
       "      <td>81153</td>\n",
       "      <td>0</td>\n",
       "      <td>0</td>\n",
       "      <td>0</td>\n",
       "      <td>NaN</td>\n",
       "      <td>NaN</td>\n",
       "      <td>NaN</td>\n",
       "      <td>NaN</td>\n",
       "      <td>NaN</td>\n",
       "      <td>NaN</td>\n",
       "    </tr>\n",
       "  </tbody>\n",
       "</table>\n",
       "</div>"
      ],
      "text/plain": [
       "       uidNumber  resource_count  wiki_count  total_count  id  tool_users  \\\n",
       "76399      81151               0           0            0 NaN         NaN   \n",
       "76400      81153               0           0            0 NaN         NaN   \n",
       "\n",
       "       andmore_users  total_users datetime  period  \n",
       "76399            NaN          NaN      NaN     NaN  \n",
       "76400            NaN          NaN      NaN     NaN  "
      ]
     },
     "metadata": {},
     "output_type": "display_data"
    }
   ],
   "source": [
    "ovr_df = ovr_df.reset_index()\n",
    "display(ovr_df.head(2))\n",
    "display(ovr_df.tail(2))"
   ]
  },
  {
   "cell_type": "markdown",
   "metadata": {},
   "source": [
    "## Get the current nanohub user IDs and their tool counts from SF\n",
    "then begin the dataframe merge and post-processing"
   ]
  },
  {
   "cell_type": "code",
   "execution_count": 97,
   "metadata": {},
   "outputs": [
    {
     "name": "stdout",
     "output_type": "stream",
     "text": [
      "Obtained Salesforce access token ...... True\n"
     ]
    }
   ],
   "source": [
    "# create DB2 to Salesforce API object\n",
    "db_s = DB2SalesforceAPI(sf_login_params)"
   ]
  },
  {
   "cell_type": "code",
   "execution_count": 98,
   "metadata": {},
   "outputs": [
    {
     "name": "stdout",
     "output_type": "stream",
     "text": [
      "[Success] Bulk job creation successful. Job ID = 7505w00000Opm5GAAR\n",
      "{\"id\":\"7505w00000Opm5GAAR\",\"operation\":\"query\",\"object\":\"Contact\",\"createdById\":\"0055w00000DM5bOAAT\",\"createdDate\":\"2020-08-19T23:02:14.000+0000\",\"systemModstamp\":\"2020-08-19T23:02:14.000+0000\",\"state\":\"UploadComplete\",\"concurrencyMode\":\"Parallel\",\"contentType\":\"CSV\",\"apiVersion\":47.0,\"jobType\":\"V2Query\",\"lineEnding\":\"LF\",\"columnDelimiter\":\"COMMA\",\"retries\":0,\"totalProcessingTime\":0}\n",
      "{\"id\":\"7505w00000Opm5GAAR\",\"operation\":\"query\",\"object\":\"Contact\",\"createdById\":\"0055w00000DM5bOAAT\",\"createdDate\":\"2020-08-19T23:02:14.000+0000\",\"systemModstamp\":\"2020-08-19T23:02:21.000+0000\",\"state\":\"InProgress\",\"concurrencyMode\":\"Parallel\",\"contentType\":\"CSV\",\"apiVersion\":47.0,\"jobType\":\"V2Query\",\"lineEnding\":\"LF\",\"columnDelimiter\":\"COMMA\",\"numberRecordsProcessed\":0,\"retries\":0,\"totalProcessingTime\":0}\n",
      "{\"id\":\"7505w00000Opm5GAAR\",\"operation\":\"query\",\"object\":\"Contact\",\"createdById\":\"0055w00000DM5bOAAT\",\"createdDate\":\"2020-08-19T23:02:14.000+0000\",\"systemModstamp\":\"2020-08-19T23:02:32.000+0000\",\"state\":\"JobComplete\",\"concurrencyMode\":\"Parallel\",\"contentType\":\"CSV\",\"apiVersion\":47.0,\"jobType\":\"V2Query\",\"lineEnding\":\"LF\",\"columnDelimiter\":\"COMMA\",\"numberRecordsProcessed\":217015,\"retries\":0,\"totalProcessingTime\":9918}\n",
      "[Success] Bulk job completed successfully.\n"
     ]
    },
    {
     "data": {
      "text/html": [
       "<div>\n",
       "<style scoped>\n",
       "    .dataframe tbody tr th:only-of-type {\n",
       "        vertical-align: middle;\n",
       "    }\n",
       "\n",
       "    .dataframe tbody tr th {\n",
       "        vertical-align: top;\n",
       "    }\n",
       "\n",
       "    .dataframe thead th {\n",
       "        text-align: right;\n",
       "    }\n",
       "</style>\n",
       "<table border=\"1\" class=\"dataframe\">\n",
       "  <thead>\n",
       "    <tr style=\"text-align: right;\">\n",
       "      <th></th>\n",
       "      <th>Total_tool_contributions__c</th>\n",
       "      <th>nanoHUB_user_ID__c</th>\n",
       "    </tr>\n",
       "  </thead>\n",
       "  <tbody>\n",
       "    <tr>\n",
       "      <th>0</th>\n",
       "      <td>0.0</td>\n",
       "      <td>998.0</td>\n",
       "    </tr>\n",
       "    <tr>\n",
       "      <th>1</th>\n",
       "      <td>0.0</td>\n",
       "      <td>1683.0</td>\n",
       "    </tr>\n",
       "  </tbody>\n",
       "</table>\n",
       "</div>"
      ],
      "text/plain": [
       "   Total_tool_contributions__c  nanoHUB_user_ID__c\n",
       "0                          0.0               998.0\n",
       "1                          0.0              1683.0"
      ]
     },
     "metadata": {},
     "output_type": "display_data"
    },
    {
     "name": "stdout",
     "output_type": "stream",
     "text": [
      "(217015, 2)\n"
     ]
    }
   ],
   "source": [
    "# get nanohub ID for contacts to being matching and processing\n",
    "sf_username_df = db_s.query_data('SELECT nanoHUB_user_ID__c,Total_tool_contributions__c FROM Contact')\n",
    "\n",
    "# display\n",
    "display(sf_username_df.head(2))\n",
    "print(sf_username_df.shape)"
   ]
  },
  {
   "cell_type": "code",
   "execution_count": 99,
   "metadata": {},
   "outputs": [],
   "source": [
    "# join the two dataframes\n",
    "nover_df = sf_username_df.set_index('nanoHUB_user_ID__c').join(ovr_df.set_index('uidNumber'))"
   ]
  },
  {
   "cell_type": "code",
   "execution_count": 100,
   "metadata": {},
   "outputs": [
    {
     "data": {
      "text/html": [
       "<div>\n",
       "<style scoped>\n",
       "    .dataframe tbody tr th:only-of-type {\n",
       "        vertical-align: middle;\n",
       "    }\n",
       "\n",
       "    .dataframe tbody tr th {\n",
       "        vertical-align: top;\n",
       "    }\n",
       "\n",
       "    .dataframe thead th {\n",
       "        text-align: right;\n",
       "    }\n",
       "</style>\n",
       "<table border=\"1\" class=\"dataframe\">\n",
       "  <thead>\n",
       "    <tr style=\"text-align: right;\">\n",
       "      <th></th>\n",
       "      <th>Total_tool_contributions__c</th>\n",
       "      <th>resource_count</th>\n",
       "      <th>wiki_count</th>\n",
       "      <th>total_count</th>\n",
       "      <th>id</th>\n",
       "      <th>tool_users</th>\n",
       "      <th>andmore_users</th>\n",
       "      <th>total_users</th>\n",
       "      <th>datetime</th>\n",
       "      <th>period</th>\n",
       "    </tr>\n",
       "  </thead>\n",
       "  <tbody>\n",
       "    <tr>\n",
       "      <th>998.0</th>\n",
       "      <td>0.0</td>\n",
       "      <td>0.0</td>\n",
       "      <td>0.0</td>\n",
       "      <td>0.0</td>\n",
       "      <td>NaN</td>\n",
       "      <td>NaN</td>\n",
       "      <td>NaN</td>\n",
       "      <td>NaN</td>\n",
       "      <td>NaN</td>\n",
       "      <td>NaN</td>\n",
       "    </tr>\n",
       "    <tr>\n",
       "      <th>1683.0</th>\n",
       "      <td>0.0</td>\n",
       "      <td>0.0</td>\n",
       "      <td>0.0</td>\n",
       "      <td>0.0</td>\n",
       "      <td>NaN</td>\n",
       "      <td>NaN</td>\n",
       "      <td>NaN</td>\n",
       "      <td>NaN</td>\n",
       "      <td>NaN</td>\n",
       "      <td>NaN</td>\n",
       "    </tr>\n",
       "  </tbody>\n",
       "</table>\n",
       "</div>"
      ],
      "text/plain": [
       "        Total_tool_contributions__c  resource_count  wiki_count  total_count  \\\n",
       "998.0                           0.0             0.0         0.0          0.0   \n",
       "1683.0                          0.0             0.0         0.0          0.0   \n",
       "\n",
       "        id  tool_users  andmore_users  total_users datetime  period  \n",
       "998.0  NaN         NaN            NaN          NaN      NaN     NaN  \n",
       "1683.0 NaN         NaN            NaN          NaN      NaN     NaN  "
      ]
     },
     "metadata": {},
     "output_type": "display_data"
    }
   ],
   "source": [
    "display(nover_df.head(2))"
   ]
  },
  {
   "cell_type": "code",
   "execution_count": 101,
   "metadata": {},
   "outputs": [],
   "source": [
    "## calculate the non tool contributions\n",
    "# And_More_Contributions__c - total_count - tool_contributions\n",
    "nover_df['And_More_Contributions__c'] = nover_df['total_count']-nover_df['Total_tool_contributions__c']"
   ]
  },
  {
   "cell_type": "code",
   "execution_count": 102,
   "metadata": {},
   "outputs": [
    {
     "data": {
      "text/html": [
       "<div>\n",
       "<style scoped>\n",
       "    .dataframe tbody tr th:only-of-type {\n",
       "        vertical-align: middle;\n",
       "    }\n",
       "\n",
       "    .dataframe tbody tr th {\n",
       "        vertical-align: top;\n",
       "    }\n",
       "\n",
       "    .dataframe thead th {\n",
       "        text-align: right;\n",
       "    }\n",
       "</style>\n",
       "<table border=\"1\" class=\"dataframe\">\n",
       "  <thead>\n",
       "    <tr style=\"text-align: right;\">\n",
       "      <th></th>\n",
       "      <th>index</th>\n",
       "      <th>Total_tool_contributions__c</th>\n",
       "      <th>resource_count</th>\n",
       "      <th>wiki_count</th>\n",
       "      <th>total_count</th>\n",
       "      <th>id</th>\n",
       "      <th>tool_users</th>\n",
       "      <th>andmore_users</th>\n",
       "      <th>total_users</th>\n",
       "      <th>datetime</th>\n",
       "      <th>period</th>\n",
       "      <th>And_More_Contributions__c</th>\n",
       "    </tr>\n",
       "  </thead>\n",
       "  <tbody>\n",
       "    <tr>\n",
       "      <th>0</th>\n",
       "      <td>998.0</td>\n",
       "      <td>0.0</td>\n",
       "      <td>0.0</td>\n",
       "      <td>0.0</td>\n",
       "      <td>0.0</td>\n",
       "      <td>NaN</td>\n",
       "      <td>NaN</td>\n",
       "      <td>NaN</td>\n",
       "      <td>NaN</td>\n",
       "      <td>NaN</td>\n",
       "      <td>NaN</td>\n",
       "      <td>0.0</td>\n",
       "    </tr>\n",
       "    <tr>\n",
       "      <th>1</th>\n",
       "      <td>1683.0</td>\n",
       "      <td>0.0</td>\n",
       "      <td>0.0</td>\n",
       "      <td>0.0</td>\n",
       "      <td>0.0</td>\n",
       "      <td>NaN</td>\n",
       "      <td>NaN</td>\n",
       "      <td>NaN</td>\n",
       "      <td>NaN</td>\n",
       "      <td>NaN</td>\n",
       "      <td>NaN</td>\n",
       "      <td>0.0</td>\n",
       "    </tr>\n",
       "  </tbody>\n",
       "</table>\n",
       "</div>"
      ],
      "text/plain": [
       "    index  Total_tool_contributions__c  resource_count  wiki_count  \\\n",
       "0   998.0                          0.0             0.0         0.0   \n",
       "1  1683.0                          0.0             0.0         0.0   \n",
       "\n",
       "   total_count  id  tool_users  andmore_users  total_users datetime  period  \\\n",
       "0          0.0 NaN         NaN            NaN          NaN      NaN     NaN   \n",
       "1          0.0 NaN         NaN            NaN          NaN      NaN     NaN   \n",
       "\n",
       "   And_More_Contributions__c  \n",
       "0                        0.0  \n",
       "1                        0.0  "
      ]
     },
     "metadata": {},
     "output_type": "display_data"
    }
   ],
   "source": [
    "# recover nanohub ids \n",
    "nover_df = nover_df.reset_index()\n",
    "display(nover_df.head(2))"
   ]
  },
  {
   "cell_type": "code",
   "execution_count": 112,
   "metadata": {},
   "outputs": [
    {
     "data": {
      "text/plain": [
       "(216995, 12)"
      ]
     },
     "execution_count": 112,
     "metadata": {},
     "output_type": "execute_result"
    }
   ],
   "source": [
    "## remove NAN rows for index\n",
    "nover_df = nover_df.dropna(subset=['index'])\n",
    "nover_df.shape"
   ]
  },
  {
   "cell_type": "code",
   "execution_count": 113,
   "metadata": {},
   "outputs": [
    {
     "data": {
      "text/html": [
       "<div>\n",
       "<style scoped>\n",
       "    .dataframe tbody tr th:only-of-type {\n",
       "        vertical-align: middle;\n",
       "    }\n",
       "\n",
       "    .dataframe tbody tr th {\n",
       "        vertical-align: top;\n",
       "    }\n",
       "\n",
       "    .dataframe thead th {\n",
       "        text-align: right;\n",
       "    }\n",
       "</style>\n",
       "<table border=\"1\" class=\"dataframe\">\n",
       "  <thead>\n",
       "    <tr style=\"text-align: right;\">\n",
       "      <th></th>\n",
       "      <th>index</th>\n",
       "      <th>Total_tool_contributions__c</th>\n",
       "      <th>resource_count</th>\n",
       "      <th>wiki_count</th>\n",
       "      <th>total_count</th>\n",
       "      <th>id</th>\n",
       "      <th>tool_users</th>\n",
       "      <th>andmore_users</th>\n",
       "      <th>total_users</th>\n",
       "      <th>datetime</th>\n",
       "      <th>period</th>\n",
       "      <th>And_More_Contributions__c</th>\n",
       "    </tr>\n",
       "  </thead>\n",
       "  <tbody>\n",
       "    <tr>\n",
       "      <th>0</th>\n",
       "      <td>998</td>\n",
       "      <td>0.0</td>\n",
       "      <td>0.0</td>\n",
       "      <td>0.0</td>\n",
       "      <td>0.0</td>\n",
       "      <td>NaN</td>\n",
       "      <td>NaN</td>\n",
       "      <td>NaN</td>\n",
       "      <td>NaN</td>\n",
       "      <td>NaN</td>\n",
       "      <td>NaN</td>\n",
       "      <td>0.0</td>\n",
       "    </tr>\n",
       "    <tr>\n",
       "      <th>1</th>\n",
       "      <td>1683</td>\n",
       "      <td>0.0</td>\n",
       "      <td>0.0</td>\n",
       "      <td>0.0</td>\n",
       "      <td>0.0</td>\n",
       "      <td>NaN</td>\n",
       "      <td>NaN</td>\n",
       "      <td>NaN</td>\n",
       "      <td>NaN</td>\n",
       "      <td>NaN</td>\n",
       "      <td>NaN</td>\n",
       "      <td>0.0</td>\n",
       "    </tr>\n",
       "  </tbody>\n",
       "</table>\n",
       "</div>"
      ],
      "text/plain": [
       "   index  Total_tool_contributions__c  resource_count  wiki_count  \\\n",
       "0    998                          0.0             0.0         0.0   \n",
       "1   1683                          0.0             0.0         0.0   \n",
       "\n",
       "   total_count  id  tool_users  andmore_users  total_users datetime  period  \\\n",
       "0          0.0 NaN         NaN            NaN          NaN      NaN     NaN   \n",
       "1          0.0 NaN         NaN            NaN          NaN      NaN     NaN   \n",
       "\n",
       "   And_More_Contributions__c  \n",
       "0                        0.0  \n",
       "1                        0.0  "
      ]
     },
     "metadata": {},
     "output_type": "display_data"
    }
   ],
   "source": [
    "## then make the indexes integers\n",
    "import numpy as np\n",
    "nover_df['index'] = nover_df['index'].apply(lambda x: int(x))\n",
    "display(nover_df.head(2))"
   ]
  },
  {
   "cell_type": "markdown",
   "metadata": {},
   "source": [
    "## Fitting data to SF format"
   ]
  },
  {
   "cell_type": "code",
   "execution_count": 118,
   "metadata": {},
   "outputs": [
    {
     "data": {
      "text/html": [
       "<div>\n",
       "<style scoped>\n",
       "    .dataframe tbody tr th:only-of-type {\n",
       "        vertical-align: middle;\n",
       "    }\n",
       "\n",
       "    .dataframe tbody tr th {\n",
       "        vertical-align: top;\n",
       "    }\n",
       "\n",
       "    .dataframe thead th {\n",
       "        text-align: right;\n",
       "    }\n",
       "</style>\n",
       "<table border=\"1\" class=\"dataframe\">\n",
       "  <thead>\n",
       "    <tr style=\"text-align: right;\">\n",
       "      <th></th>\n",
       "      <th>nanoHUB_user_ID__c</th>\n",
       "      <th>And_More_Contributions__c</th>\n",
       "      <th>contributed_tool_usage__c</th>\n",
       "      <th>contributed_andmore_usage__c</th>\n",
       "    </tr>\n",
       "  </thead>\n",
       "  <tbody>\n",
       "    <tr>\n",
       "      <th>0</th>\n",
       "      <td>998</td>\n",
       "      <td>0</td>\n",
       "      <td>0</td>\n",
       "      <td>0</td>\n",
       "    </tr>\n",
       "    <tr>\n",
       "      <th>1</th>\n",
       "      <td>1683</td>\n",
       "      <td>0</td>\n",
       "      <td>0</td>\n",
       "      <td>0</td>\n",
       "    </tr>\n",
       "  </tbody>\n",
       "</table>\n",
       "</div>"
      ],
      "text/plain": [
       "   nanoHUB_user_ID__c  And_More_Contributions__c  contributed_tool_usage__c  \\\n",
       "0                 998                          0                          0   \n",
       "1                1683                          0                          0   \n",
       "\n",
       "   contributed_andmore_usage__c  \n",
       "0                             0  \n",
       "1                             0  "
      ]
     },
     "metadata": {},
     "output_type": "display_data"
    }
   ],
   "source": [
    "## creating and populating the sf dataframe\n",
    "df_sf = pd.DataFrame()\n",
    "temp_df = nover_df.fillna(0)\n",
    "\n",
    "# populating df_sf and make integers\n",
    "df_sf['nanoHUB_user_ID__c'] = temp_df['index'].apply(lambda x: int(x))\n",
    "df_sf['And_More_Contributions__c'] = temp_df['And_More_Contributions__c'].apply(lambda x: int(x))\n",
    "df_sf['contributed_tool_usage__c'] = temp_df['tool_users'].apply(lambda x: int(x))\n",
    "df_sf['contributed_andmore_usage__c'] = temp_df['andmore_users'].apply(lambda x: int(x))\n",
    "\n",
    "display(df_sf.head(2))"
   ]
  },
  {
   "cell_type": "markdown",
   "metadata": {},
   "source": [
    "## send data to SF"
   ]
  },
  {
   "cell_type": "code",
   "execution_count": 119,
   "metadata": {},
   "outputs": [
    {
     "name": "stdout",
     "output_type": "stream",
     "text": [
      "Obtained Salesforce access token ...... True\n"
     ]
    }
   ],
   "source": [
    "# create DB2 to Salesforce API object\n",
    "db_s = DB2SalesforceAPI(sf_login_params)\n",
    "\n",
    "# specify Salesforce object ID and external ID\n",
    "db_s.object_id = 'Contact'\n",
    "db_s.external_id = 'nanoHUB_user_ID__c'"
   ]
  },
  {
   "cell_type": "code",
   "execution_count": 120,
   "metadata": {},
   "outputs": [
    {
     "name": "stdout",
     "output_type": "stream",
     "text": [
      "[Success] Bulk job creation successful. Job ID = 7505w00000OpmVCAAZ\n",
      "hello\n",
      "[Success] CSV upload successful. Job ID = 7505w00000OpmVCAAZ\n",
      "[Success] Closing job successful. Job ID = 7505w00000OpmVCAAZ\n"
     ]
    }
   ],
   "source": [
    "# send data to Salesforce\n",
    "db_s.send_data(df_sf)"
   ]
  },
  {
   "cell_type": "code",
   "execution_count": 129,
   "metadata": {
    "scrolled": true
   },
   "outputs": [
    {
     "name": "stdout",
     "output_type": "stream",
     "text": [
      "{'apexProcessingTime': 21278941,\n",
      " 'apiActiveProcessingTime': 1993465,\n",
      " 'apiVersion': 47.0,\n",
      " 'columnDelimiter': 'COMMA',\n",
      " 'concurrencyMode': 'Parallel',\n",
      " 'contentType': 'CSV',\n",
      " 'createdById': '0055w00000DM5bOAAT',\n",
      " 'createdDate': '2020-08-19T23:12:28.000+0000',\n",
      " 'externalIdFieldName': 'nanoHUB_user_ID__c',\n",
      " 'id': '7505w00000OpmVCAAZ',\n",
      " 'jobType': 'V2Ingest',\n",
      " 'lineEnding': 'LF',\n",
      " 'numberRecordsFailed': 0,\n",
      " 'numberRecordsProcessed': 216995,\n",
      " 'object': 'Contact',\n",
      " 'operation': 'upsert',\n",
      " 'retries': 0,\n",
      " 'state': 'JobComplete',\n",
      " 'systemModstamp': '2020-08-19T23:21:17.000+0000',\n",
      " 'totalProcessingTime': 2188051}\n"
     ]
    }
   ],
   "source": [
    "# check status\n",
    "from pprint import pprint\n",
    "\n",
    "pprint(db_s.check_bulk_status())"
   ]
  },
  {
   "cell_type": "code",
   "execution_count": 130,
   "metadata": {},
   "outputs": [
    {
     "name": "stdout",
     "output_type": "stream",
     "text": [
      "'\"sf__Id\",\"sf__Error\",And_More_Contributions__c,contributed_andmore_usage__c,contributed_tool_usage__c,nanoHUB_user_ID__c\\n'\n"
     ]
    }
   ],
   "source": [
    "pprint(db_s.check_bulk_failed_results())"
   ]
  },
  {
   "cell_type": "code",
   "execution_count": null,
   "metadata": {},
   "outputs": [],
   "source": []
  }
 ],
 "metadata": {
  "kernelspec": {
   "display_name": "Python 3",
   "language": "python",
   "name": "python3"
  },
  "language_info": {
   "codemirror_mode": {
    "name": "ipython",
    "version": 3
   },
   "file_extension": ".py",
   "mimetype": "text/x-python",
   "name": "python",
   "nbconvert_exporter": "python",
   "pygments_lexer": "ipython3",
   "version": "3.7.7"
  }
 },
 "nbformat": 4,
 "nbformat_minor": 4
}
