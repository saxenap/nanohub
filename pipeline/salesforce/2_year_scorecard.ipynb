{
 "cells": [
  {
   "cell_type": "markdown",
   "metadata": {
    "papermill": {
     "duration": 0.022727,
     "end_time": "2021-01-22T17:11:23.781319",
     "exception": false,
     "start_time": "2021-01-22T17:11:23.758592",
     "status": "completed"
    },
    "tags": []
   },
   "source": [
    "# Builds GH's 2 year scorecard"
   ]
  },
  {
   "cell_type": "code",
   "execution_count": 1,
   "metadata": {
    "execution": {
     "iopub.execute_input": "2021-01-22T17:11:23.828135Z",
     "iopub.status.busy": "2021-01-22T17:11:23.827508Z",
     "iopub.status.idle": "2021-01-22T17:11:23.830790Z",
     "shell.execute_reply": "2021-01-22T17:11:23.830029Z"
    },
    "papermill": {
     "duration": 0.029804,
     "end_time": "2021-01-22T17:11:23.830935",
     "exception": false,
     "start_time": "2021-01-22T17:11:23.801131",
     "status": "completed"
    },
    "tags": []
   },
   "outputs": [],
   "source": [
    "# API settings\n",
    "api_url = '/services/data/v43.0/sobjects'\n",
    "external_id = 'Name'\n",
    "object_id = 'ContactToolAssociation__c'\n",
    "\n",
    "# login parameters to be handled by Papermill\n",
    "sql_login_params = {\"username\": \"wang2506_ro\", \"password\": \"fnVnwcCS7iT45EsA\"}\n",
    "sf_login_params = {\n",
    "    \"grant_type\": \"password\",\n",
    "    \"client_id\": \"3MVG95jctIhbyCppj0SNJ75IsZ1y8UPGZtSNF4j8FNVXz.De8Lu4jHm3rjRosAtsHy6qjHx3i4S_QbQzvBePG\",\n",
    "    \"client_secret\": \"D1623C6D3607D4FC8004B92C761DFB6C1F70CCD129C5501E357028DFA00F5764\",\n",
    "    \"username\":\"wang2506@purdue.edu\",\n",
    "    \"password\":\"purdue99272844vp8Z6qq0teuPQmirGaaPAt4\",   \n",
    "} \n",
    "    #\"username\": \"wang159-4j1v@force.com\",\n",
    "    #\"password\": \"napoleon0eZ3PQpQqE3C3z4wWqEqKGhQ8\","
   ]
  },
  {
   "cell_type": "code",
   "execution_count": 2,
   "metadata": {
    "execution": {
     "iopub.execute_input": "2021-01-22T17:11:23.874262Z",
     "iopub.status.busy": "2021-01-22T17:11:23.873669Z",
     "iopub.status.idle": "2021-01-22T17:11:26.835778Z",
     "shell.execute_reply": "2021-01-22T17:11:26.835264Z"
    },
    "papermill": {
     "duration": 2.985347,
     "end_time": "2021-01-22T17:11:26.835920",
     "exception": false,
     "start_time": "2021-01-22T17:11:23.850573",
     "status": "completed"
    },
    "tags": []
   },
   "outputs": [],
   "source": [
    "import sys\n",
    "sys.path.append('/home/users/wang2506/nanohub_salesforce_integ/salesforce')\n",
    "    \n",
    "import pandas as pd\n",
    "import time\n",
    "import datetime\n",
    "\n",
    "from DB2SalesforceAPI import DB2SalesforceAPI"
   ]
  },
  {
   "cell_type": "markdown",
   "metadata": {
    "papermill": {
     "duration": 0.019568,
     "end_time": "2021-01-22T17:11:26.875032",
     "exception": false,
     "start_time": "2021-01-22T17:11:26.855464",
     "status": "completed"
    },
    "tags": []
   },
   "source": [
    "## Pull data from SF"
   ]
  },
  {
   "cell_type": "code",
   "execution_count": 3,
   "metadata": {
    "execution": {
     "iopub.execute_input": "2021-01-22T17:11:26.918788Z",
     "iopub.status.busy": "2021-01-22T17:11:26.918171Z",
     "iopub.status.idle": "2021-01-22T17:11:26.921503Z",
     "shell.execute_reply": "2021-01-22T17:11:26.920851Z"
    },
    "papermill": {
     "duration": 0.027072,
     "end_time": "2021-01-22T17:11:26.921639",
     "exception": false,
     "start_time": "2021-01-22T17:11:26.894567",
     "status": "completed"
    },
    "tags": []
   },
   "outputs": [],
   "source": [
    "##########################################################################################\n",
    "## 1 - Pull all tool_usage_cluster__c information\n",
    "##     i) ID\n",
    "##     ii) Ending_Date__c\n",
    "##     iii) Starting_Date__c\n",
    "##     iv) Organization__c\n",
    "##     v) Estimated_cluster_size__c\n",
    "##     vi) Estimated_number_of_tools__c\n",
    "##########################################################################################"
   ]
  },
  {
   "cell_type": "code",
   "execution_count": 4,
   "metadata": {
    "execution": {
     "iopub.execute_input": "2021-01-22T17:11:26.965678Z",
     "iopub.status.busy": "2021-01-22T17:11:26.964980Z",
     "iopub.status.idle": "2021-01-22T17:11:27.310980Z",
     "shell.execute_reply": "2021-01-22T17:11:27.310478Z"
    },
    "papermill": {
     "duration": 0.369919,
     "end_time": "2021-01-22T17:11:27.311122",
     "exception": false,
     "start_time": "2021-01-22T17:11:26.941203",
     "status": "completed"
    },
    "tags": []
   },
   "outputs": [
    {
     "name": "stdout",
     "output_type": "stream",
     "text": [
      "Obtained Salesforce access token ...... True\n"
     ]
    }
   ],
   "source": [
    "db_1 = DB2SalesforceAPI(sf_login_params)"
   ]
  },
  {
   "cell_type": "code",
   "execution_count": 5,
   "metadata": {
    "execution": {
     "iopub.execute_input": "2021-01-22T17:11:27.360978Z",
     "iopub.status.busy": "2021-01-22T17:11:27.360386Z",
     "iopub.status.idle": "2021-01-22T17:11:39.555868Z",
     "shell.execute_reply": "2021-01-22T17:11:39.555069Z"
    },
    "papermill": {
     "duration": 12.223816,
     "end_time": "2021-01-22T17:11:39.556010",
     "exception": false,
     "start_time": "2021-01-22T17:11:27.332194",
     "status": "completed"
    },
    "tags": []
   },
   "outputs": [
    {
     "name": "stdout",
     "output_type": "stream",
     "text": [
      "[Success] Bulk job creation successful. Job ID = 7505w00000TmbqQAAR\n"
     ]
    },
    {
     "name": "stdout",
     "output_type": "stream",
     "text": [
      "{\"id\":\"7505w00000TmbqQAAR\",\"operation\":\"query\",\"object\":\"tool_usage_cluster__c\",\"createdById\":\"0055w00000DM5bOAAT\",\"createdDate\":\"2021-01-22T17:11:27.000+0000\",\"systemModstamp\":\"2021-01-22T17:11:27.000+0000\",\"state\":\"UploadComplete\",\"concurrencyMode\":\"Parallel\",\"contentType\":\"CSV\",\"apiVersion\":47.0,\"jobType\":\"V2Query\",\"lineEnding\":\"LF\",\"columnDelimiter\":\"COMMA\",\"retries\":0,\"totalProcessingTime\":0}\n"
     ]
    },
    {
     "name": "stdout",
     "output_type": "stream",
     "text": [
      "{\"id\":\"7505w00000TmbqQAAR\",\"operation\":\"query\",\"object\":\"tool_usage_cluster__c\",\"createdById\":\"0055w00000DM5bOAAT\",\"createdDate\":\"2021-01-22T17:11:27.000+0000\",\"systemModstamp\":\"2021-01-22T17:11:37.000+0000\",\"state\":\"JobComplete\",\"concurrencyMode\":\"Parallel\",\"contentType\":\"CSV\",\"apiVersion\":47.0,\"jobType\":\"V2Query\",\"lineEnding\":\"LF\",\"columnDelimiter\":\"COMMA\",\"numberRecordsProcessed\":3944,\"retries\":0,\"totalProcessingTime\":700}\n",
      "[Success] Bulk job completed successfully.\n"
     ]
    }
   ],
   "source": [
    "tool_cluster_df = db_1.query_data('Select ID, Ending_Date__c, Starting_Date__c, Organization__c,Estimated_cluster_size__c, \\\n",
    "                        Estimated_number_of_tools__c from tool_usage_cluster__c')"
   ]
  },
  {
   "cell_type": "code",
   "execution_count": 6,
   "metadata": {
    "execution": {
     "iopub.execute_input": "2021-01-22T17:11:39.622018Z",
     "iopub.status.busy": "2021-01-22T17:11:39.621440Z",
     "iopub.status.idle": "2021-01-22T17:11:39.631342Z",
     "shell.execute_reply": "2021-01-22T17:11:39.630662Z"
    },
    "papermill": {
     "duration": 0.051589,
     "end_time": "2021-01-22T17:11:39.631496",
     "exception": false,
     "start_time": "2021-01-22T17:11:39.579907",
     "status": "completed"
    },
    "tags": []
   },
   "outputs": [
    {
     "data": {
      "text/html": [
       "<div>\n",
       "<style scoped>\n",
       "    .dataframe tbody tr th:only-of-type {\n",
       "        vertical-align: middle;\n",
       "    }\n",
       "\n",
       "    .dataframe tbody tr th {\n",
       "        vertical-align: top;\n",
       "    }\n",
       "\n",
       "    .dataframe thead th {\n",
       "        text-align: right;\n",
       "    }\n",
       "</style>\n",
       "<table border=\"1\" class=\"dataframe\">\n",
       "  <thead>\n",
       "    <tr style=\"text-align: right;\">\n",
       "      <th></th>\n",
       "      <th>Ending_Date__c</th>\n",
       "      <th>Estimated_cluster_size__c</th>\n",
       "      <th>Estimated_number_of_tools__c</th>\n",
       "      <th>Id</th>\n",
       "      <th>Organization__c</th>\n",
       "      <th>Starting_Date__c</th>\n",
       "    </tr>\n",
       "  </thead>\n",
       "  <tbody>\n",
       "    <tr>\n",
       "      <th>0</th>\n",
       "      <td>2011-01-30</td>\n",
       "      <td>12.0</td>\n",
       "      <td>5.0</td>\n",
       "      <td>a0w5w000009Q7CuAAK</td>\n",
       "      <td>NaN</td>\n",
       "      <td>2010-09-05</td>\n",
       "    </tr>\n",
       "    <tr>\n",
       "      <th>1</th>\n",
       "      <td>2018-11-30</td>\n",
       "      <td>5.0</td>\n",
       "      <td>1.0</td>\n",
       "      <td>a0w5w000009Q7CvAAK</td>\n",
       "      <td>a0r5w00000V42iyAAB</td>\n",
       "      <td>2018-11-29</td>\n",
       "    </tr>\n",
       "    <tr>\n",
       "      <th>2</th>\n",
       "      <td>2019-11-28</td>\n",
       "      <td>39.0</td>\n",
       "      <td>3.0</td>\n",
       "      <td>a0w5w000009Q7CwAAK</td>\n",
       "      <td>a0r5w00000V42iyAAB</td>\n",
       "      <td>2019-11-04</td>\n",
       "    </tr>\n",
       "    <tr>\n",
       "      <th>3</th>\n",
       "      <td>2017-10-29</td>\n",
       "      <td>44.0</td>\n",
       "      <td>2.0</td>\n",
       "      <td>a0w5w000009Q7CxAAK</td>\n",
       "      <td>a0r5w00000V42cCAAR</td>\n",
       "      <td>2017-10-21</td>\n",
       "    </tr>\n",
       "    <tr>\n",
       "      <th>4</th>\n",
       "      <td>2018-01-21</td>\n",
       "      <td>18.0</td>\n",
       "      <td>1.0</td>\n",
       "      <td>a0w5w000009Q7CyAAK</td>\n",
       "      <td>a0r5w00000V42cCAAR</td>\n",
       "      <td>2018-01-15</td>\n",
       "    </tr>\n",
       "  </tbody>\n",
       "</table>\n",
       "</div>"
      ],
      "text/plain": [
       "  Ending_Date__c  Estimated_cluster_size__c  Estimated_number_of_tools__c  \\\n",
       "0     2011-01-30                       12.0                           5.0   \n",
       "1     2018-11-30                        5.0                           1.0   \n",
       "2     2019-11-28                       39.0                           3.0   \n",
       "3     2017-10-29                       44.0                           2.0   \n",
       "4     2018-01-21                       18.0                           1.0   \n",
       "\n",
       "                   Id     Organization__c Starting_Date__c  \n",
       "0  a0w5w000009Q7CuAAK                 NaN       2010-09-05  \n",
       "1  a0w5w000009Q7CvAAK  a0r5w00000V42iyAAB       2018-11-29  \n",
       "2  a0w5w000009Q7CwAAK  a0r5w00000V42iyAAB       2019-11-04  \n",
       "3  a0w5w000009Q7CxAAK  a0r5w00000V42cCAAR       2017-10-21  \n",
       "4  a0w5w000009Q7CyAAK  a0r5w00000V42cCAAR       2018-01-15  "
      ]
     },
     "metadata": {},
     "output_type": "display_data"
    }
   ],
   "source": [
    "display(tool_cluster_df.head(5))"
   ]
  },
  {
   "cell_type": "code",
   "execution_count": 7,
   "metadata": {
    "execution": {
     "iopub.execute_input": "2021-01-22T17:11:39.683666Z",
     "iopub.status.busy": "2021-01-22T17:11:39.683020Z",
     "iopub.status.idle": "2021-01-22T17:11:51.617588Z",
     "shell.execute_reply": "2021-01-22T17:11:51.617064Z"
    },
    "papermill": {
     "duration": 11.962799,
     "end_time": "2021-01-22T17:11:51.617741",
     "exception": false,
     "start_time": "2021-01-22T17:11:39.654942",
     "status": "completed"
    },
    "tags": []
   },
   "outputs": [
    {
     "name": "stdout",
     "output_type": "stream",
     "text": [
      "[Success] Bulk job creation successful. Job ID = 7505w00000TmbquAAB\n"
     ]
    },
    {
     "name": "stdout",
     "output_type": "stream",
     "text": [
      "{\"id\":\"7505w00000TmbquAAB\",\"operation\":\"query\",\"object\":\"ContactToolClusterAssociation__c\",\"createdById\":\"0055w00000DM5bOAAT\",\"createdDate\":\"2021-01-22T17:11:39.000+0000\",\"systemModstamp\":\"2021-01-22T17:11:39.000+0000\",\"state\":\"UploadComplete\",\"concurrencyMode\":\"Parallel\",\"contentType\":\"CSV\",\"apiVersion\":47.0,\"jobType\":\"V2Query\",\"lineEnding\":\"LF\",\"columnDelimiter\":\"COMMA\",\"retries\":0,\"totalProcessingTime\":0}\n"
     ]
    },
    {
     "name": "stdout",
     "output_type": "stream",
     "text": [
      "{\"id\":\"7505w00000TmbquAAB\",\"operation\":\"query\",\"object\":\"ContactToolClusterAssociation__c\",\"createdById\":\"0055w00000DM5bOAAT\",\"createdDate\":\"2021-01-22T17:11:39.000+0000\",\"systemModstamp\":\"2021-01-22T17:11:46.000+0000\",\"state\":\"JobComplete\",\"concurrencyMode\":\"Parallel\",\"contentType\":\"CSV\",\"apiVersion\":47.0,\"jobType\":\"V2Query\",\"lineEnding\":\"LF\",\"columnDelimiter\":\"COMMA\",\"numberRecordsProcessed\":92474,\"retries\":0,\"totalProcessingTime\":4416}\n",
      "[Success] Bulk job completed successfully.\n"
     ]
    }
   ],
   "source": [
    "## pull the list of contacts within each cluster\n",
    "contacts_in_cluster_df = db_1.query_data('Select Contact__c, Tool_Usage_Cluster__c from ContactToolClusterAssociation__c')"
   ]
  },
  {
   "cell_type": "code",
   "execution_count": 8,
   "metadata": {
    "execution": {
     "iopub.execute_input": "2021-01-22T17:11:51.675816Z",
     "iopub.status.busy": "2021-01-22T17:11:51.675201Z",
     "iopub.status.idle": "2021-01-22T17:11:51.678827Z",
     "shell.execute_reply": "2021-01-22T17:11:51.678152Z"
    },
    "papermill": {
     "duration": 0.037584,
     "end_time": "2021-01-22T17:11:51.678966",
     "exception": false,
     "start_time": "2021-01-22T17:11:51.641382",
     "status": "completed"
    },
    "tags": []
   },
   "outputs": [
    {
     "data": {
      "text/html": [
       "<div>\n",
       "<style scoped>\n",
       "    .dataframe tbody tr th:only-of-type {\n",
       "        vertical-align: middle;\n",
       "    }\n",
       "\n",
       "    .dataframe tbody tr th {\n",
       "        vertical-align: top;\n",
       "    }\n",
       "\n",
       "    .dataframe thead th {\n",
       "        text-align: right;\n",
       "    }\n",
       "</style>\n",
       "<table border=\"1\" class=\"dataframe\">\n",
       "  <thead>\n",
       "    <tr style=\"text-align: right;\">\n",
       "      <th></th>\n",
       "      <th>Contact__c</th>\n",
       "      <th>Tool_Usage_Cluster__c</th>\n",
       "    </tr>\n",
       "  </thead>\n",
       "  <tbody>\n",
       "    <tr>\n",
       "      <th>0</th>\n",
       "      <td>0035w000034I3dJAAS</td>\n",
       "      <td>a0w5w000009Q7ufAAC</td>\n",
       "    </tr>\n",
       "    <tr>\n",
       "      <th>1</th>\n",
       "      <td>0035w000034I3giAAC</td>\n",
       "      <td>a0w5w000009Q7ufAAC</td>\n",
       "    </tr>\n",
       "    <tr>\n",
       "      <th>2</th>\n",
       "      <td>0035w000034I3fOAAS</td>\n",
       "      <td>a0w5w000009Q7ufAAC</td>\n",
       "    </tr>\n",
       "    <tr>\n",
       "      <th>3</th>\n",
       "      <td>0035w000031VzX2AAK</td>\n",
       "      <td>a0w5w000009Q7ufAAC</td>\n",
       "    </tr>\n",
       "    <tr>\n",
       "      <th>4</th>\n",
       "      <td>0035w000034I3ffAAC</td>\n",
       "      <td>a0w5w000009Q7ufAAC</td>\n",
       "    </tr>\n",
       "  </tbody>\n",
       "</table>\n",
       "</div>"
      ],
      "text/plain": [
       "           Contact__c Tool_Usage_Cluster__c\n",
       "0  0035w000034I3dJAAS    a0w5w000009Q7ufAAC\n",
       "1  0035w000034I3giAAC    a0w5w000009Q7ufAAC\n",
       "2  0035w000034I3fOAAS    a0w5w000009Q7ufAAC\n",
       "3  0035w000031VzX2AAK    a0w5w000009Q7ufAAC\n",
       "4  0035w000034I3ffAAC    a0w5w000009Q7ufAAC"
      ]
     },
     "metadata": {},
     "output_type": "display_data"
    }
   ],
   "source": [
    "display(contacts_in_cluster_df.head(5))"
   ]
  },
  {
   "cell_type": "code",
   "execution_count": 9,
   "metadata": {
    "execution": {
     "iopub.execute_input": "2021-01-22T17:11:51.731826Z",
     "iopub.status.busy": "2021-01-22T17:11:51.731222Z",
     "iopub.status.idle": "2021-01-22T17:11:51.734945Z",
     "shell.execute_reply": "2021-01-22T17:11:51.734349Z"
    },
    "papermill": {
     "duration": 0.033148,
     "end_time": "2021-01-22T17:11:51.735079",
     "exception": false,
     "start_time": "2021-01-22T17:11:51.701931",
     "status": "completed"
    },
    "tags": []
   },
   "outputs": [
    {
     "data": {
      "text/plain": [
       "(4987, 2)"
      ]
     },
     "execution_count": 9,
     "metadata": {},
     "output_type": "execute_result"
    }
   ],
   "source": [
    "contacts_in_cluster_df.shape"
   ]
  },
  {
   "cell_type": "code",
   "execution_count": 10,
   "metadata": {
    "execution": {
     "iopub.execute_input": "2021-01-22T17:11:51.786389Z",
     "iopub.status.busy": "2021-01-22T17:11:51.785809Z",
     "iopub.status.idle": "2021-01-22T17:11:51.790815Z",
     "shell.execute_reply": "2021-01-22T17:11:51.790136Z"
    },
    "papermill": {
     "duration": 0.032419,
     "end_time": "2021-01-22T17:11:51.790950",
     "exception": false,
     "start_time": "2021-01-22T17:11:51.758531",
     "status": "completed"
    },
    "tags": []
   },
   "outputs": [
    {
     "name": "stdout",
     "output_type": "stream",
     "text": [
      "2021-01-22 12:11:51.784135\n"
     ]
    }
   ],
   "source": [
    "## filter by dates, keep only most recent two years worth of data\n",
    "import datetime\n",
    "print(datetime.datetime.now())"
   ]
  },
  {
   "cell_type": "code",
   "execution_count": 11,
   "metadata": {
    "execution": {
     "iopub.execute_input": "2021-01-22T17:11:51.842702Z",
     "iopub.status.busy": "2021-01-22T17:11:51.842099Z",
     "iopub.status.idle": "2021-01-22T17:11:51.844846Z",
     "shell.execute_reply": "2021-01-22T17:11:51.844178Z"
    },
    "papermill": {
     "duration": 0.030287,
     "end_time": "2021-01-22T17:11:51.844979",
     "exception": false,
     "start_time": "2021-01-22T17:11:51.814692",
     "status": "completed"
    },
    "tags": []
   },
   "outputs": [],
   "source": [
    "now = datetime.datetime.now() \n",
    "date_diff = datetime.timedelta(days=365*2)\n",
    "earliest = now-date_diff"
   ]
  },
  {
   "cell_type": "code",
   "execution_count": 12,
   "metadata": {
    "execution": {
     "iopub.execute_input": "2021-01-22T17:11:51.898109Z",
     "iopub.status.busy": "2021-01-22T17:11:51.897538Z",
     "iopub.status.idle": "2021-01-22T17:11:51.900646Z",
     "shell.execute_reply": "2021-01-22T17:11:51.899970Z"
    },
    "papermill": {
     "duration": 0.031602,
     "end_time": "2021-01-22T17:11:51.900778",
     "exception": false,
     "start_time": "2021-01-22T17:11:51.869176",
     "status": "completed"
    },
    "tags": []
   },
   "outputs": [],
   "source": [
    "earliest_string = '{year}-{month}-{day}'.format(year=earliest.year, month = earliest.month, day = earliest.day)\n",
    "earliest_date = datetime.datetime.strptime(earliest_string,'%Y-%m-%d')"
   ]
  },
  {
   "cell_type": "code",
   "execution_count": 13,
   "metadata": {
    "execution": {
     "iopub.execute_input": "2021-01-22T17:11:51.962706Z",
     "iopub.status.busy": "2021-01-22T17:11:51.962103Z",
     "iopub.status.idle": "2021-01-22T17:11:51.988646Z",
     "shell.execute_reply": "2021-01-22T17:11:51.987892Z"
    },
    "papermill": {
     "duration": 0.064487,
     "end_time": "2021-01-22T17:11:51.988785",
     "exception": false,
     "start_time": "2021-01-22T17:11:51.924298",
     "status": "completed"
    },
    "tags": []
   },
   "outputs": [
    {
     "name": "stdout",
     "output_type": "stream",
     "text": [
      "954\n"
     ]
    }
   ],
   "source": [
    "row_indexes = []\n",
    "starting = tool_cluster_df['Starting_Date__c'].to_list()\n",
    "#ending = tool_cluster_df['Ending_Date__c'].to_list()\n",
    "\n",
    "#check starting dates 2 years\n",
    "for i,j in enumerate(starting):\n",
    "    j = datetime.datetime.strptime(j,'%Y-%m-%d')\n",
    "    \n",
    "    if j >= earliest:\n",
    "        row_indexes.append(i)\n",
    "\n",
    "print(len(row_indexes))"
   ]
  },
  {
   "cell_type": "code",
   "execution_count": 14,
   "metadata": {
    "execution": {
     "iopub.execute_input": "2021-01-22T17:11:52.044557Z",
     "iopub.status.busy": "2021-01-22T17:11:52.043663Z",
     "iopub.status.idle": "2021-01-22T17:11:52.064019Z",
     "shell.execute_reply": "2021-01-22T17:11:52.062952Z"
    },
    "papermill": {
     "duration": 0.050813,
     "end_time": "2021-01-22T17:11:52.064159",
     "exception": false,
     "start_time": "2021-01-22T17:11:52.013346",
     "status": "completed"
    },
    "tags": []
   },
   "outputs": [
    {
     "data": {
      "text/html": [
       "<div>\n",
       "<style scoped>\n",
       "    .dataframe tbody tr th:only-of-type {\n",
       "        vertical-align: middle;\n",
       "    }\n",
       "\n",
       "    .dataframe tbody tr th {\n",
       "        vertical-align: top;\n",
       "    }\n",
       "\n",
       "    .dataframe thead th {\n",
       "        text-align: right;\n",
       "    }\n",
       "</style>\n",
       "<table border=\"1\" class=\"dataframe\">\n",
       "  <thead>\n",
       "    <tr style=\"text-align: right;\">\n",
       "      <th></th>\n",
       "      <th>Ending_Date__c</th>\n",
       "      <th>Estimated_cluster_size__c</th>\n",
       "      <th>Estimated_number_of_tools__c</th>\n",
       "      <th>Id</th>\n",
       "      <th>Organization__c</th>\n",
       "      <th>Starting_Date__c</th>\n",
       "    </tr>\n",
       "  </thead>\n",
       "  <tbody>\n",
       "    <tr>\n",
       "      <th>0</th>\n",
       "      <td>2019-11-28</td>\n",
       "      <td>39.0</td>\n",
       "      <td>3.0</td>\n",
       "      <td>a0w5w000009Q7CwAAK</td>\n",
       "      <td>a0r5w00000V42iyAAB</td>\n",
       "      <td>2019-11-04</td>\n",
       "    </tr>\n",
       "    <tr>\n",
       "      <th>1</th>\n",
       "      <td>2019-11-15</td>\n",
       "      <td>42.0</td>\n",
       "      <td>3.0</td>\n",
       "      <td>a0w5w000009Q7D4AAK</td>\n",
       "      <td>a0r5w00000V42cCAAR</td>\n",
       "      <td>2019-08-19</td>\n",
       "    </tr>\n",
       "    <tr>\n",
       "      <th>2</th>\n",
       "      <td>2019-02-24</td>\n",
       "      <td>9.0</td>\n",
       "      <td>1.0</td>\n",
       "      <td>a0w5w000009Q7ECAA0</td>\n",
       "      <td>a0r5w00000V43WSAAZ</td>\n",
       "      <td>2019-02-20</td>\n",
       "    </tr>\n",
       "    <tr>\n",
       "      <th>3</th>\n",
       "      <td>2019-08-20</td>\n",
       "      <td>12.0</td>\n",
       "      <td>2.0</td>\n",
       "      <td>a0w5w000009Q7EDAA0</td>\n",
       "      <td>a0r5w00000V42yLAAR</td>\n",
       "      <td>2019-08-03</td>\n",
       "    </tr>\n",
       "    <tr>\n",
       "      <th>4</th>\n",
       "      <td>2020-01-29</td>\n",
       "      <td>16.0</td>\n",
       "      <td>6.0</td>\n",
       "      <td>a0w5w000009Q7EEAA0</td>\n",
       "      <td>a0r5w00000V42c1AAB</td>\n",
       "      <td>2019-10-05</td>\n",
       "    </tr>\n",
       "  </tbody>\n",
       "</table>\n",
       "</div>"
      ],
      "text/plain": [
       "  Ending_Date__c  Estimated_cluster_size__c  Estimated_number_of_tools__c  \\\n",
       "0     2019-11-28                       39.0                           3.0   \n",
       "1     2019-11-15                       42.0                           3.0   \n",
       "2     2019-02-24                        9.0                           1.0   \n",
       "3     2019-08-20                       12.0                           2.0   \n",
       "4     2020-01-29                       16.0                           6.0   \n",
       "\n",
       "                   Id     Organization__c Starting_Date__c  \n",
       "0  a0w5w000009Q7CwAAK  a0r5w00000V42iyAAB       2019-11-04  \n",
       "1  a0w5w000009Q7D4AAK  a0r5w00000V42cCAAR       2019-08-19  \n",
       "2  a0w5w000009Q7ECAA0  a0r5w00000V43WSAAZ       2019-02-20  \n",
       "3  a0w5w000009Q7EDAA0  a0r5w00000V42yLAAR       2019-08-03  \n",
       "4  a0w5w000009Q7EEAA0  a0r5w00000V42c1AAB       2019-10-05  "
      ]
     },
     "metadata": {},
     "output_type": "display_data"
    }
   ],
   "source": [
    "tool_cluster_df2 = tool_cluster_df.iloc[row_indexes,:].reset_index().drop(columns='index')\n",
    "display(tool_cluster_df2.head(5))"
   ]
  },
  {
   "cell_type": "code",
   "execution_count": 15,
   "metadata": {
    "execution": {
     "iopub.execute_input": "2021-01-22T17:11:52.120070Z",
     "iopub.status.busy": "2021-01-22T17:11:52.119483Z",
     "iopub.status.idle": "2021-01-22T17:11:52.123538Z",
     "shell.execute_reply": "2021-01-22T17:11:52.122901Z"
    },
    "papermill": {
     "duration": 0.03454,
     "end_time": "2021-01-22T17:11:52.123677",
     "exception": false,
     "start_time": "2021-01-22T17:11:52.089137",
     "status": "completed"
    },
    "tags": []
   },
   "outputs": [],
   "source": [
    "interested_ids = tool_cluster_df2['Id'].to_list()"
   ]
  },
  {
   "cell_type": "code",
   "execution_count": 16,
   "metadata": {
    "execution": {
     "iopub.execute_input": "2021-01-22T17:11:52.190690Z",
     "iopub.status.busy": "2021-01-22T17:11:52.190061Z",
     "iopub.status.idle": "2021-01-22T17:11:52.259478Z",
     "shell.execute_reply": "2021-01-22T17:11:52.258787Z"
    },
    "papermill": {
     "duration": 0.110926,
     "end_time": "2021-01-22T17:11:52.259611",
     "exception": false,
     "start_time": "2021-01-22T17:11:52.148685",
     "status": "completed"
    },
    "tags": []
   },
   "outputs": [
    {
     "name": "stdout",
     "output_type": "stream",
     "text": [
      "496\n"
     ]
    }
   ],
   "source": [
    "## filter contacts_in_cluster_df to keep only those contacts with a valid cluster ID\n",
    "cluster_indexes = []\n",
    "for i,j in enumerate(contacts_in_cluster_df['Tool_Usage_Cluster__c'].to_list()):\n",
    "    if j in interested_ids:\n",
    "        cluster_indexes.append(i)\n",
    "print(len(cluster_indexes))"
   ]
  },
  {
   "cell_type": "code",
   "execution_count": 17,
   "metadata": {
    "execution": {
     "iopub.execute_input": "2021-01-22T17:11:52.320917Z",
     "iopub.status.busy": "2021-01-22T17:11:52.320296Z",
     "iopub.status.idle": "2021-01-22T17:11:52.326774Z",
     "shell.execute_reply": "2021-01-22T17:11:52.327195Z"
    },
    "papermill": {
     "duration": 0.043041,
     "end_time": "2021-01-22T17:11:52.327391",
     "exception": false,
     "start_time": "2021-01-22T17:11:52.284350",
     "status": "completed"
    },
    "tags": []
   },
   "outputs": [
    {
     "data": {
      "text/html": [
       "<div>\n",
       "<style scoped>\n",
       "    .dataframe tbody tr th:only-of-type {\n",
       "        vertical-align: middle;\n",
       "    }\n",
       "\n",
       "    .dataframe tbody tr th {\n",
       "        vertical-align: top;\n",
       "    }\n",
       "\n",
       "    .dataframe thead th {\n",
       "        text-align: right;\n",
       "    }\n",
       "</style>\n",
       "<table border=\"1\" class=\"dataframe\">\n",
       "  <thead>\n",
       "    <tr style=\"text-align: right;\">\n",
       "      <th></th>\n",
       "      <th>Contact__c</th>\n",
       "      <th>Tool_Usage_Cluster__c</th>\n",
       "    </tr>\n",
       "  </thead>\n",
       "  <tbody>\n",
       "    <tr>\n",
       "      <th>0</th>\n",
       "      <td>0035w000034JwAVAA0</td>\n",
       "      <td>a0w5w00000A8NYdAAN</td>\n",
       "    </tr>\n",
       "    <tr>\n",
       "      <th>1</th>\n",
       "      <td>0035w00003ECPbqAAH</td>\n",
       "      <td>a0w5w00000A8NYdAAN</td>\n",
       "    </tr>\n",
       "  </tbody>\n",
       "</table>\n",
       "</div>"
      ],
      "text/plain": [
       "           Contact__c Tool_Usage_Cluster__c\n",
       "0  0035w000034JwAVAA0    a0w5w00000A8NYdAAN\n",
       "1  0035w00003ECPbqAAH    a0w5w00000A8NYdAAN"
      ]
     },
     "metadata": {},
     "output_type": "display_data"
    }
   ],
   "source": [
    "contacts_in_cluster_df2 = contacts_in_cluster_df.iloc[cluster_indexes,:].reset_index().drop(columns='index')\n",
    "display(contacts_in_cluster_df2.head(2))"
   ]
  },
  {
   "cell_type": "code",
   "execution_count": 18,
   "metadata": {
    "execution": {
     "iopub.execute_input": "2021-01-22T17:11:52.385229Z",
     "iopub.status.busy": "2021-01-22T17:11:52.384594Z",
     "iopub.status.idle": "2021-01-22T17:12:29.591032Z",
     "shell.execute_reply": "2021-01-22T17:12:29.590515Z"
    },
    "papermill": {
     "duration": 37.237818,
     "end_time": "2021-01-22T17:12:29.591174",
     "exception": false,
     "start_time": "2021-01-22T17:11:52.353356",
     "status": "completed"
    },
    "tags": []
   },
   "outputs": [
    {
     "name": "stdout",
     "output_type": "stream",
     "text": [
      "[Success] Bulk job creation successful. Job ID = 7505w00000TmbrYAAR\n"
     ]
    },
    {
     "name": "stdout",
     "output_type": "stream",
     "text": [
      "{\"id\":\"7505w00000TmbrYAAR\",\"operation\":\"query\",\"object\":\"Contact\",\"createdById\":\"0055w00000DM5bOAAT\",\"createdDate\":\"2021-01-22T17:11:53.000+0000\",\"systemModstamp\":\"2021-01-22T17:11:53.000+0000\",\"state\":\"UploadComplete\",\"concurrencyMode\":\"Parallel\",\"contentType\":\"CSV\",\"apiVersion\":47.0,\"jobType\":\"V2Query\",\"lineEnding\":\"LF\",\"columnDelimiter\":\"COMMA\",\"retries\":0,\"totalProcessingTime\":0}\n"
     ]
    },
    {
     "name": "stdout",
     "output_type": "stream",
     "text": [
      "{\"id\":\"7505w00000TmbrYAAR\",\"operation\":\"query\",\"object\":\"Contact\",\"createdById\":\"0055w00000DM5bOAAT\",\"createdDate\":\"2021-01-22T17:11:53.000+0000\",\"systemModstamp\":\"2021-01-22T17:11:53.000+0000\",\"state\":\"InProgress\",\"concurrencyMode\":\"Parallel\",\"contentType\":\"CSV\",\"apiVersion\":47.0,\"jobType\":\"V2Query\",\"lineEnding\":\"LF\",\"columnDelimiter\":\"COMMA\",\"numberRecordsProcessed\":0,\"retries\":0,\"totalProcessingTime\":0}\n"
     ]
    },
    {
     "name": "stdout",
     "output_type": "stream",
     "text": [
      "{\"id\":\"7505w00000TmbrYAAR\",\"operation\":\"query\",\"object\":\"Contact\",\"createdById\":\"0055w00000DM5bOAAT\",\"createdDate\":\"2021-01-22T17:11:53.000+0000\",\"systemModstamp\":\"2021-01-22T17:11:53.000+0000\",\"state\":\"InProgress\",\"concurrencyMode\":\"Parallel\",\"contentType\":\"CSV\",\"apiVersion\":47.0,\"jobType\":\"V2Query\",\"lineEnding\":\"LF\",\"columnDelimiter\":\"COMMA\",\"numberRecordsProcessed\":0,\"retries\":0,\"totalProcessingTime\":0}\n"
     ]
    },
    {
     "name": "stdout",
     "output_type": "stream",
     "text": [
      "{\"id\":\"7505w00000TmbrYAAR\",\"operation\":\"query\",\"object\":\"Contact\",\"createdById\":\"0055w00000DM5bOAAT\",\"createdDate\":\"2021-01-22T17:11:53.000+0000\",\"systemModstamp\":\"2021-01-22T17:12:19.000+0000\",\"state\":\"JobComplete\",\"concurrencyMode\":\"Parallel\",\"contentType\":\"CSV\",\"apiVersion\":47.0,\"jobType\":\"V2Query\",\"lineEnding\":\"LF\",\"columnDelimiter\":\"COMMA\",\"numberRecordsProcessed\":236479,\"retries\":0,\"totalProcessingTime\":16953}\n",
      "[Success] Bulk job completed successfully.\n"
     ]
    }
   ],
   "source": [
    "# pull contacts from SF to obtain their nanohub usernames\n",
    "#earliest_string_sf = '{year}-{month}-{day}'.format(year=earliest.year, month = earliest.month, day = earliest.day)\n",
    "contacts_df = db_1.query_data('Select Id, nanoHUB_username__c,nanoHUB_last_active_date__c from Contact') #\\\n",
    "    #where nanoHUB_last_active_date__c >='+earliest_string_sf)"
   ]
  },
  {
   "cell_type": "code",
   "execution_count": 19,
   "metadata": {
    "execution": {
     "iopub.execute_input": "2021-01-22T17:12:29.677337Z",
     "iopub.status.busy": "2021-01-22T17:12:29.676729Z",
     "iopub.status.idle": "2021-01-22T17:12:29.709482Z",
     "shell.execute_reply": "2021-01-22T17:12:29.708747Z"
    },
    "papermill": {
     "duration": 0.090896,
     "end_time": "2021-01-22T17:12:29.709623",
     "exception": false,
     "start_time": "2021-01-22T17:12:29.618727",
     "status": "completed"
    },
    "tags": []
   },
   "outputs": [
    {
     "name": "stdout",
     "output_type": "stream",
     "text": [
      "(229720, 3)\n",
      "<bound method NDFrame.head of                         Id nanoHUB_last_active_date__c nanoHUB_username__c\n",
      "0       0035w000031Vsp1AAC                  2014-11-13             hubrepo\n",
      "1       0035w000031Vsp2AAC                  2008-11-19             support\n",
      "2       0035w000031Vsp3AAC                  2020-02-14            gridstat\n",
      "3       0035w000031Vsp4AAC                  2008-11-11                 ncn\n",
      "4       0035w000031Vsp5AAC                  2014-06-26             nanohub\n",
      "...                    ...                         ...                 ...\n",
      "236474  0035w00003KsD0DAAV                  2021-01-22             kim77ky\n",
      "236475  0035w00003KsD0EAAV                  2021-01-22       reddykusuma33\n",
      "236476  0035w00003KsD0FAAV                  2021-01-22         2017ceb1016\n",
      "236477  0035w00003KsD0GAAV                  2021-01-22    ayushisharma0825\n",
      "236478  0035w00003KsD0HAAV                  2021-01-22       celebritynews\n",
      "\n",
      "[229720 rows x 3 columns]>\n"
     ]
    }
   ],
   "source": [
    "contacts_df = contacts_df.dropna()\n",
    "print(contacts_df.shape)\n",
    "print(contacts_df.head)"
   ]
  },
  {
   "cell_type": "code",
   "execution_count": 20,
   "metadata": {
    "execution": {
     "iopub.execute_input": "2021-01-22T17:12:29.826036Z",
     "iopub.status.busy": "2021-01-22T17:12:29.790120Z",
     "iopub.status.idle": "2021-01-22T17:12:31.522440Z",
     "shell.execute_reply": "2021-01-22T17:12:31.522860Z"
    },
    "papermill": {
     "duration": 1.785333,
     "end_time": "2021-01-22T17:12:31.523034",
     "exception": false,
     "start_time": "2021-01-22T17:12:29.737701",
     "status": "completed"
    },
    "tags": []
   },
   "outputs": [],
   "source": [
    "contact_sf_indexes =[]\n",
    "for i,j in enumerate(contacts_df['nanoHUB_last_active_date__c'].to_list()):\n",
    "    if datetime.datetime.strptime(j,'%Y-%m-%d') >= earliest_date:\n",
    "        contact_sf_indexes.append(i)"
   ]
  },
  {
   "cell_type": "code",
   "execution_count": 21,
   "metadata": {
    "execution": {
     "iopub.execute_input": "2021-01-22T17:12:31.582384Z",
     "iopub.status.busy": "2021-01-22T17:12:31.581794Z",
     "iopub.status.idle": "2021-01-22T17:12:31.586108Z",
     "shell.execute_reply": "2021-01-22T17:12:31.585535Z"
    },
    "papermill": {
     "duration": 0.035758,
     "end_time": "2021-01-22T17:12:31.586241",
     "exception": false,
     "start_time": "2021-01-22T17:12:31.550483",
     "status": "completed"
    },
    "tags": []
   },
   "outputs": [
    {
     "data": {
      "text/plain": [
       "61357"
      ]
     },
     "execution_count": 21,
     "metadata": {},
     "output_type": "execute_result"
    }
   ],
   "source": [
    "len(contact_sf_indexes)"
   ]
  },
  {
   "cell_type": "code",
   "execution_count": 22,
   "metadata": {
    "execution": {
     "iopub.execute_input": "2021-01-22T17:12:31.653981Z",
     "iopub.status.busy": "2021-01-22T17:12:31.653307Z",
     "iopub.status.idle": "2021-01-22T17:12:31.679667Z",
     "shell.execute_reply": "2021-01-22T17:12:31.678983Z"
    },
    "papermill": {
     "duration": 0.06631,
     "end_time": "2021-01-22T17:12:31.679806",
     "exception": false,
     "start_time": "2021-01-22T17:12:31.613496",
     "status": "completed"
    },
    "tags": []
   },
   "outputs": [
    {
     "data": {
      "text/html": [
       "<div>\n",
       "<style scoped>\n",
       "    .dataframe tbody tr th:only-of-type {\n",
       "        vertical-align: middle;\n",
       "    }\n",
       "\n",
       "    .dataframe tbody tr th {\n",
       "        vertical-align: top;\n",
       "    }\n",
       "\n",
       "    .dataframe thead th {\n",
       "        text-align: right;\n",
       "    }\n",
       "</style>\n",
       "<table border=\"1\" class=\"dataframe\">\n",
       "  <thead>\n",
       "    <tr style=\"text-align: right;\">\n",
       "      <th></th>\n",
       "      <th>Id</th>\n",
       "      <th>nanoHUB_last_active_date__c</th>\n",
       "      <th>nanoHUB_username__c</th>\n",
       "    </tr>\n",
       "  </thead>\n",
       "  <tbody>\n",
       "    <tr>\n",
       "      <th>0</th>\n",
       "      <td>0035w000031Vsp3AAC</td>\n",
       "      <td>2020-02-14</td>\n",
       "      <td>gridstat</td>\n",
       "    </tr>\n",
       "    <tr>\n",
       "      <th>1</th>\n",
       "      <td>0035w000031Vt9BAAS</td>\n",
       "      <td>2020-12-08</td>\n",
       "      <td>sheelan</td>\n",
       "    </tr>\n",
       "  </tbody>\n",
       "</table>\n",
       "</div>"
      ],
      "text/plain": [
       "                   Id nanoHUB_last_active_date__c nanoHUB_username__c\n",
       "0  0035w000031Vsp3AAC                  2020-02-14            gridstat\n",
       "1  0035w000031Vt9BAAS                  2020-12-08             sheelan"
      ]
     },
     "metadata": {},
     "output_type": "display_data"
    }
   ],
   "source": [
    "contacts_df2 = contacts_df.iloc[contact_sf_indexes,:].reset_index().drop(columns='index')\n",
    "display(contacts_df2.head(2))"
   ]
  },
  {
   "cell_type": "code",
   "execution_count": null,
   "metadata": {
    "papermill": {
     "duration": 0.028628,
     "end_time": "2021-01-22T17:12:31.737659",
     "exception": false,
     "start_time": "2021-01-22T17:12:31.709031",
     "status": "completed"
    },
    "tags": []
   },
   "outputs": [],
   "source": []
  },
  {
   "cell_type": "markdown",
   "metadata": {
    "papermill": {
     "duration": 0.029455,
     "end_time": "2021-01-22T17:12:31.795735",
     "exception": false,
     "start_time": "2021-01-22T17:12:31.766280",
     "status": "completed"
    },
    "tags": []
   },
   "source": [
    "## algorithm\n",
    "    1. for each week, pull toolstart dataframe from db2\n",
    "    2. from usernames get ids\n",
    "    3. from ids see if they belong to some cluster\n",
    "    4. if yes, record (increment) the simulation use and the person as a novel individual"
   ]
  },
  {
   "cell_type": "code",
   "execution_count": null,
   "metadata": {
    "papermill": {
     "duration": 0.028233,
     "end_time": "2021-01-22T17:12:31.853149",
     "exception": false,
     "start_time": "2021-01-22T17:12:31.824916",
     "status": "completed"
    },
    "tags": []
   },
   "outputs": [],
   "source": []
  },
  {
   "cell_type": "code",
   "execution_count": 23,
   "metadata": {
    "execution": {
     "iopub.execute_input": "2021-01-22T17:12:31.914945Z",
     "iopub.status.busy": "2021-01-22T17:12:31.914349Z",
     "iopub.status.idle": "2021-01-22T17:12:31.918856Z",
     "shell.execute_reply": "2021-01-22T17:12:31.919268Z"
    },
    "papermill": {
     "duration": 0.037878,
     "end_time": "2021-01-22T17:12:31.919467",
     "exception": false,
     "start_time": "2021-01-22T17:12:31.881589",
     "status": "completed"
    },
    "tags": []
   },
   "outputs": [
    {
     "name": "stdout",
     "output_type": "stream",
     "text": [
      "2021-01-13 12:11:51.840904\n"
     ]
    }
   ],
   "source": [
    "## filter the starting and ending dates into weeks\n",
    "week = datetime.timedelta(days=7) #a week\n",
    "\n",
    "## build dataframe from earliest date all the way to the end\n",
    "## the end is whatever is left + the previous week\n",
    "ending_week = (365*2)%7 + 7 #timedelta this\n",
    "ending_week_start = now-datetime.timedelta(days=ending_week)\n",
    "print(ending_week_start)"
   ]
  },
  {
   "cell_type": "code",
   "execution_count": 24,
   "metadata": {
    "execution": {
     "iopub.execute_input": "2021-01-22T17:12:31.986180Z",
     "iopub.status.busy": "2021-01-22T17:12:31.985554Z",
     "iopub.status.idle": "2021-01-22T17:12:31.987818Z",
     "shell.execute_reply": "2021-01-22T17:12:31.987036Z"
    },
    "papermill": {
     "duration": 0.039942,
     "end_time": "2021-01-22T17:12:31.987975",
     "exception": false,
     "start_time": "2021-01-22T17:12:31.948033",
     "status": "completed"
    },
    "tags": []
   },
   "outputs": [],
   "source": [
    "week_construct = int(365*2/7)+1\n",
    "\n",
    "# build dataframe\n",
    "weekly_df = pd.DataFrame(columns=['Week Start','Number_Unique_Institutions','Number_Unique_Users',\\\n",
    "                                  'Number_Unique_Classes','Number_Cluster_Simulations','Total_Simulations_All'])"
   ]
  },
  {
   "cell_type": "code",
   "execution_count": 25,
   "metadata": {
    "execution": {
     "iopub.execute_input": "2021-01-22T17:12:32.054130Z",
     "iopub.status.busy": "2021-01-22T17:12:32.053448Z",
     "iopub.status.idle": "2021-01-22T17:12:32.056972Z",
     "shell.execute_reply": "2021-01-22T17:12:32.056328Z"
    },
    "papermill": {
     "duration": 0.040048,
     "end_time": "2021-01-22T17:12:32.057116",
     "exception": false,
     "start_time": "2021-01-22T17:12:32.017068",
     "status": "completed"
    },
    "tags": []
   },
   "outputs": [
    {
     "name": "stdout",
     "output_type": "stream",
     "text": [
      "['2019-1-30', '2019-2-6']\n",
      "['2021-1-20', '2021-1-27']\n"
     ]
    }
   ],
   "source": [
    "# build week start\n",
    "week_start = []\n",
    "\n",
    "temp = earliest_date+week\n",
    "for i,j in enumerate(range(week_construct)):\n",
    "    if i == 0:\n",
    "        temp = earliest_date+week\n",
    "    else:\n",
    "        temp += week\n",
    "    temp_string = '{year}-{month}-{day}'.format(year=temp.year, month = temp.month, day = temp.day)\n",
    "    week_start.append(temp_string)    \n",
    "    \n",
    "print(week_start[:2])\n",
    "print(week_start[-2:])"
   ]
  },
  {
   "cell_type": "code",
   "execution_count": 26,
   "metadata": {
    "execution": {
     "iopub.execute_input": "2021-01-22T17:12:32.131915Z",
     "iopub.status.busy": "2021-01-22T17:12:32.131305Z",
     "iopub.status.idle": "2021-01-22T17:12:32.138129Z",
     "shell.execute_reply": "2021-01-22T17:12:32.137644Z"
    },
    "papermill": {
     "duration": 0.051085,
     "end_time": "2021-01-22T17:12:32.138273",
     "exception": false,
     "start_time": "2021-01-22T17:12:32.087188",
     "status": "completed"
    },
    "tags": []
   },
   "outputs": [
    {
     "data": {
      "text/html": [
       "<div>\n",
       "<style scoped>\n",
       "    .dataframe tbody tr th:only-of-type {\n",
       "        vertical-align: middle;\n",
       "    }\n",
       "\n",
       "    .dataframe tbody tr th {\n",
       "        vertical-align: top;\n",
       "    }\n",
       "\n",
       "    .dataframe thead th {\n",
       "        text-align: right;\n",
       "    }\n",
       "</style>\n",
       "<table border=\"1\" class=\"dataframe\">\n",
       "  <thead>\n",
       "    <tr style=\"text-align: right;\">\n",
       "      <th></th>\n",
       "      <th>Week Start</th>\n",
       "      <th>Number_Unique_Institutions</th>\n",
       "      <th>Number_Unique_Users</th>\n",
       "      <th>Number_Unique_Classes</th>\n",
       "      <th>Number_Cluster_Simulations</th>\n",
       "      <th>Total_Simulations_All</th>\n",
       "    </tr>\n",
       "  </thead>\n",
       "  <tbody>\n",
       "    <tr>\n",
       "      <th>0</th>\n",
       "      <td>2019-1-30</td>\n",
       "      <td>0</td>\n",
       "      <td>0</td>\n",
       "      <td>0</td>\n",
       "      <td>0</td>\n",
       "      <td>NaN</td>\n",
       "    </tr>\n",
       "    <tr>\n",
       "      <th>1</th>\n",
       "      <td>2019-2-6</td>\n",
       "      <td>0</td>\n",
       "      <td>0</td>\n",
       "      <td>0</td>\n",
       "      <td>0</td>\n",
       "      <td>NaN</td>\n",
       "    </tr>\n",
       "  </tbody>\n",
       "</table>\n",
       "</div>"
      ],
      "text/plain": [
       "  Week Start  Number_Unique_Institutions  Number_Unique_Users  \\\n",
       "0  2019-1-30                           0                    0   \n",
       "1   2019-2-6                           0                    0   \n",
       "\n",
       "   Number_Unique_Classes  Number_Cluster_Simulations Total_Simulations_All  \n",
       "0                      0                           0                   NaN  \n",
       "1                      0                           0                   NaN  "
      ]
     },
     "metadata": {},
     "output_type": "display_data"
    }
   ],
   "source": [
    "weekly_df['Week Start'] = week_start\n",
    "weekly_df['Number_Unique_Institutions'] = 0\n",
    "weekly_df['Number_Unique_Users'] = 0\n",
    "weekly_df['Number_Unique_Classes'] = 0\n",
    "weekly_df['Number_Cluster_Simulations'] = 0\n",
    "display(weekly_df.head(2))"
   ]
  },
  {
   "cell_type": "code",
   "execution_count": 27,
   "metadata": {
    "execution": {
     "iopub.execute_input": "2021-01-22T17:12:32.206653Z",
     "iopub.status.busy": "2021-01-22T17:12:32.205703Z",
     "iopub.status.idle": "2021-01-22T17:12:32.218329Z",
     "shell.execute_reply": "2021-01-22T17:12:32.217640Z"
    },
    "papermill": {
     "duration": 0.049783,
     "end_time": "2021-01-22T17:12:32.218485",
     "exception": false,
     "start_time": "2021-01-22T17:12:32.168702",
     "status": "completed"
    },
    "tags": []
   },
   "outputs": [
    {
     "data": {
      "text/html": [
       "<div>\n",
       "<style scoped>\n",
       "    .dataframe tbody tr th:only-of-type {\n",
       "        vertical-align: middle;\n",
       "    }\n",
       "\n",
       "    .dataframe tbody tr th {\n",
       "        vertical-align: top;\n",
       "    }\n",
       "\n",
       "    .dataframe thead th {\n",
       "        text-align: right;\n",
       "    }\n",
       "</style>\n",
       "<table border=\"1\" class=\"dataframe\">\n",
       "  <thead>\n",
       "    <tr style=\"text-align: right;\">\n",
       "      <th></th>\n",
       "      <th>Ending_Date__c</th>\n",
       "      <th>Estimated_cluster_size__c</th>\n",
       "      <th>Estimated_number_of_tools__c</th>\n",
       "      <th>Id</th>\n",
       "      <th>Organization__c</th>\n",
       "      <th>Starting_Date__c</th>\n",
       "    </tr>\n",
       "  </thead>\n",
       "  <tbody>\n",
       "    <tr>\n",
       "      <th>0</th>\n",
       "      <td>2019-11-28</td>\n",
       "      <td>39.0</td>\n",
       "      <td>3.0</td>\n",
       "      <td>a0w5w000009Q7CwAAK</td>\n",
       "      <td>a0r5w00000V42iyAAB</td>\n",
       "      <td>2019-11-04</td>\n",
       "    </tr>\n",
       "    <tr>\n",
       "      <th>1</th>\n",
       "      <td>2019-11-15</td>\n",
       "      <td>42.0</td>\n",
       "      <td>3.0</td>\n",
       "      <td>a0w5w000009Q7D4AAK</td>\n",
       "      <td>a0r5w00000V42cCAAR</td>\n",
       "      <td>2019-08-19</td>\n",
       "    </tr>\n",
       "  </tbody>\n",
       "</table>\n",
       "</div>"
      ],
      "text/plain": [
       "  Ending_Date__c  Estimated_cluster_size__c  Estimated_number_of_tools__c  \\\n",
       "0     2019-11-28                       39.0                           3.0   \n",
       "1     2019-11-15                       42.0                           3.0   \n",
       "\n",
       "                   Id     Organization__c Starting_Date__c  \n",
       "0  a0w5w000009Q7CwAAK  a0r5w00000V42iyAAB       2019-11-04  \n",
       "1  a0w5w000009Q7D4AAK  a0r5w00000V42cCAAR       2019-08-19  "
      ]
     },
     "metadata": {},
     "output_type": "display_data"
    }
   ],
   "source": [
    "# use the filter\n",
    "new_df = tool_cluster_df.iloc[row_indexes,:].reset_index().drop(columns='index')\n",
    "display(new_df.head(2))"
   ]
  },
  {
   "cell_type": "code",
   "execution_count": 28,
   "metadata": {
    "execution": {
     "iopub.execute_input": "2021-01-22T17:12:32.285351Z",
     "iopub.status.busy": "2021-01-22T17:12:32.284769Z",
     "iopub.status.idle": "2021-01-22T17:12:32.287100Z",
     "shell.execute_reply": "2021-01-22T17:12:32.286529Z"
    },
    "papermill": {
     "duration": 0.037779,
     "end_time": "2021-01-22T17:12:32.287233",
     "exception": false,
     "start_time": "2021-01-22T17:12:32.249454",
     "status": "completed"
    },
    "tags": []
   },
   "outputs": [],
   "source": [
    "ws_dt = datetime.datetime.strptime('2019-11-28','%Y-%m-%d')\n",
    "\n",
    "ws_dt1 = datetime.datetime.strptime('2019-10-28','%Y-%m-%d')\n",
    "ws_dt2 = datetime.datetime.strptime('2019-12-28','%Y-%m-%d')"
   ]
  },
  {
   "cell_type": "code",
   "execution_count": 29,
   "metadata": {
    "execution": {
     "iopub.execute_input": "2021-01-22T17:12:32.446748Z",
     "iopub.status.busy": "2021-01-22T17:12:32.426627Z",
     "iopub.status.idle": "2021-01-22T17:12:36.822081Z",
     "shell.execute_reply": "2021-01-22T17:12:36.821244Z"
    },
    "papermill": {
     "duration": 4.50462,
     "end_time": "2021-01-22T17:12:36.822216",
     "exception": false,
     "start_time": "2021-01-22T17:12:32.317596",
     "status": "completed"
    },
    "tags": []
   },
   "outputs": [],
   "source": [
    "# search \n",
    "clusters_in_week = {}\n",
    "for i,j in enumerate(week_start):\n",
    "    clusters_in_week_inner = []\n",
    "    \n",
    "    # convert to datetime\n",
    "    ws_dt = datetime.datetime.strptime(j,'%Y-%m-%d')\n",
    "    \n",
    "    org_list = [] #to keep track of unique orgs\n",
    "    \n",
    "    # iterate through dataframe\n",
    "    for k,h in enumerate(new_df['Starting_Date__c'].to_list()): \n",
    "        # case 1 ()[], case 2 []()\n",
    "        end_date_dt = datetime.datetime.strptime(new_df.iloc[k,0],'%Y-%m-%d')\n",
    "        start_date_dt = datetime.datetime.strptime(h,'%Y-%m-%d')\n",
    "        \n",
    "        if end_date_dt >= ws_dt and start_date_dt <= (ws_dt+week):\n",
    "        # demorgan's law end_date_dt < ws_dt or start_date_dt > (ws_dt+week): \n",
    "            # add information to weekly_df\n",
    "            #weekly_df.iloc[i,2] += new_df.iloc[k,1] ## this guy double counted\n",
    "            weekly_df.iloc[i,3] += 1\n",
    "        \n",
    "            org_list.append(new_df.iloc[k,-2])\n",
    "            \n",
    "            clusters_in_week_inner.append(new_df.iloc[k,-3])\n",
    "            \n",
    "    org_list = set(org_list)\n",
    "    weekly_df.iloc[i,1] = len(org_list)\n",
    "    clusters_in_week[i] = clusters_in_week_inner"
   ]
  },
  {
   "cell_type": "code",
   "execution_count": 30,
   "metadata": {
    "execution": {
     "iopub.execute_input": "2021-01-22T17:12:36.893584Z",
     "iopub.status.busy": "2021-01-22T17:12:36.892948Z",
     "iopub.status.idle": "2021-01-22T17:12:36.899536Z",
     "shell.execute_reply": "2021-01-22T17:12:36.898903Z"
    },
    "papermill": {
     "duration": 0.046972,
     "end_time": "2021-01-22T17:12:36.899680",
     "exception": false,
     "start_time": "2021-01-22T17:12:36.852708",
     "status": "completed"
    },
    "tags": []
   },
   "outputs": [
    {
     "data": {
      "text/html": [
       "<div>\n",
       "<style scoped>\n",
       "    .dataframe tbody tr th:only-of-type {\n",
       "        vertical-align: middle;\n",
       "    }\n",
       "\n",
       "    .dataframe tbody tr th {\n",
       "        vertical-align: top;\n",
       "    }\n",
       "\n",
       "    .dataframe thead th {\n",
       "        text-align: right;\n",
       "    }\n",
       "</style>\n",
       "<table border=\"1\" class=\"dataframe\">\n",
       "  <thead>\n",
       "    <tr style=\"text-align: right;\">\n",
       "      <th></th>\n",
       "      <th>Week Start</th>\n",
       "      <th>Number_Unique_Institutions</th>\n",
       "      <th>Number_Unique_Users</th>\n",
       "      <th>Number_Unique_Classes</th>\n",
       "      <th>Number_Cluster_Simulations</th>\n",
       "      <th>Total_Simulations_All</th>\n",
       "    </tr>\n",
       "  </thead>\n",
       "  <tbody>\n",
       "    <tr>\n",
       "      <th>0</th>\n",
       "      <td>2019-1-30</td>\n",
       "      <td>13</td>\n",
       "      <td>0</td>\n",
       "      <td>18</td>\n",
       "      <td>0</td>\n",
       "      <td>NaN</td>\n",
       "    </tr>\n",
       "    <tr>\n",
       "      <th>1</th>\n",
       "      <td>2019-2-6</td>\n",
       "      <td>16</td>\n",
       "      <td>0</td>\n",
       "      <td>24</td>\n",
       "      <td>0</td>\n",
       "      <td>NaN</td>\n",
       "    </tr>\n",
       "    <tr>\n",
       "      <th>2</th>\n",
       "      <td>2019-2-13</td>\n",
       "      <td>20</td>\n",
       "      <td>0</td>\n",
       "      <td>27</td>\n",
       "      <td>0</td>\n",
       "      <td>NaN</td>\n",
       "    </tr>\n",
       "    <tr>\n",
       "      <th>3</th>\n",
       "      <td>2019-2-20</td>\n",
       "      <td>21</td>\n",
       "      <td>0</td>\n",
       "      <td>28</td>\n",
       "      <td>0</td>\n",
       "      <td>NaN</td>\n",
       "    </tr>\n",
       "    <tr>\n",
       "      <th>4</th>\n",
       "      <td>2019-2-27</td>\n",
       "      <td>18</td>\n",
       "      <td>0</td>\n",
       "      <td>28</td>\n",
       "      <td>0</td>\n",
       "      <td>NaN</td>\n",
       "    </tr>\n",
       "  </tbody>\n",
       "</table>\n",
       "</div>"
      ],
      "text/plain": [
       "  Week Start  Number_Unique_Institutions  Number_Unique_Users  \\\n",
       "0  2019-1-30                          13                    0   \n",
       "1   2019-2-6                          16                    0   \n",
       "2  2019-2-13                          20                    0   \n",
       "3  2019-2-20                          21                    0   \n",
       "4  2019-2-27                          18                    0   \n",
       "\n",
       "   Number_Unique_Classes  Number_Cluster_Simulations Total_Simulations_All  \n",
       "0                     18                           0                   NaN  \n",
       "1                     24                           0                   NaN  \n",
       "2                     27                           0                   NaN  \n",
       "3                     28                           0                   NaN  \n",
       "4                     28                           0                   NaN  "
      ]
     },
     "metadata": {},
     "output_type": "display_data"
    }
   ],
   "source": [
    "display(weekly_df.head(5))"
   ]
  },
  {
   "cell_type": "markdown",
   "metadata": {
    "papermill": {
     "duration": 0.032343,
     "end_time": "2021-01-22T17:12:36.964200",
     "exception": false,
     "start_time": "2021-01-22T17:12:36.931857",
     "status": "completed"
    },
    "tags": []
   },
   "source": [
    "### populate number of unique users + number simulations"
   ]
  },
  {
   "cell_type": "code",
   "execution_count": 31,
   "metadata": {
    "execution": {
     "iopub.execute_input": "2021-01-22T17:12:37.032658Z",
     "iopub.status.busy": "2021-01-22T17:12:37.032012Z",
     "iopub.status.idle": "2021-01-22T17:12:37.515616Z",
     "shell.execute_reply": "2021-01-22T17:12:37.515114Z"
    },
    "papermill": {
     "duration": 0.519576,
     "end_time": "2021-01-22T17:12:37.515754",
     "exception": false,
     "start_time": "2021-01-22T17:12:36.996178",
     "status": "completed"
    },
    "tags": []
   },
   "outputs": [],
   "source": [
    "# connect with DB2\n",
    "import sqlalchemy as sql\n",
    "\n",
    "engine = sql.create_engine('mysql+pymysql://%s:%s@127.0.0.1/nanohub_metrics' \\\n",
    "                                               %(sql_login_params['username'], sql_login_params['password']))"
   ]
  },
  {
   "cell_type": "code",
   "execution_count": 32,
   "metadata": {
    "execution": {
     "iopub.execute_input": "2021-01-22T17:12:37.583962Z",
     "iopub.status.busy": "2021-01-22T17:12:37.583358Z",
     "iopub.status.idle": "2021-01-22T17:12:37.585923Z",
     "shell.execute_reply": "2021-01-22T17:12:37.585263Z"
    },
    "papermill": {
     "duration": 0.039327,
     "end_time": "2021-01-22T17:12:37.586056",
     "exception": false,
     "start_time": "2021-01-22T17:12:37.546729",
     "status": "completed"
    },
    "tags": []
   },
   "outputs": [],
   "source": [
    "import re #regex pattern match time\n",
    "from copy import deepcopy\n",
    "import time"
   ]
  },
  {
   "cell_type": "code",
   "execution_count": 33,
   "metadata": {
    "execution": {
     "iopub.execute_input": "2021-01-22T17:12:37.652861Z",
     "iopub.status.busy": "2021-01-22T17:12:37.652280Z",
     "iopub.status.idle": "2021-01-22T17:12:37.655393Z",
     "shell.execute_reply": "2021-01-22T17:12:37.654728Z"
    },
    "papermill": {
     "duration": 0.038335,
     "end_time": "2021-01-22T17:12:37.655529",
     "exception": false,
     "start_time": "2021-01-22T17:12:37.617194",
     "status": "completed"
    },
    "tags": []
   },
   "outputs": [],
   "source": [
    "start_seconds = time.time()"
   ]
  },
  {
   "cell_type": "code",
   "execution_count": 34,
   "metadata": {
    "execution": {
     "iopub.execute_input": "2021-01-22T17:12:37.739725Z",
     "iopub.status.busy": "2021-01-22T17:12:37.739083Z",
     "iopub.status.idle": "2021-01-22T17:18:31.383995Z",
     "shell.execute_reply": "2021-01-22T17:18:31.384472Z"
    },
    "papermill": {
     "duration": 353.697398,
     "end_time": "2021-01-22T17:18:31.384680",
     "exception": false,
     "start_time": "2021-01-22T17:12:37.687282",
     "status": "completed"
    },
    "scrolled": true,
    "tags": []
   },
   "outputs": [
    {
     "name": "stderr",
     "output_type": "stream",
     "text": [
      "/home/users/wang2506/anaconda3/lib/python3.7/site-packages/ipykernel_launcher.py:10: FutureWarning: The pandas.np module is deprecated and will be removed from pandas in a future version. Import numpy directly instead\n",
      "  # Remove the CWD from sys.path while we load stuff.\n"
     ]
    }
   ],
   "source": [
    "# for each week run a separate sql query\n",
    "for i,j in enumerate(week_start[:1]):#[:-1]):\n",
    "    #print(j)\n",
    "    #print(week_start[i+1])\n",
    "    sql_query = \"select user, tool from toolstart where datetime between '{init_date}' and '{end_date}';\".format(init_date=j,end_date = week_start[i+1])\n",
    "\n",
    "    toolstart_df = pd.read_sql_query(sql_query, engine)\n",
    "    \n",
    "    ## filter for empty strings and nans\n",
    "    toolstart_df['user'].replace('', pd.np.nan, inplace=True)\n",
    "    toolstart_df2 = toolstart_df.dropna()\n",
    "    #display(toolstart_df2.head(2))\n",
    "    \n",
    "    ## build set of unique usernames, and get their SF IDs\n",
    "    toolstart_df_users = []\n",
    "    for k,kk in enumerate(toolstart_df2['user'].to_list()): #this is a botleneck, crosscheck massive lists\n",
    "        if k not in toolstart_df_users:\n",
    "            toolstart_df_users.append(kk)\n",
    "    #print(len(toolstart_df_users))\n",
    "    \n",
    "    master_sf_username_list = contacts_df['nanoHUB_username__c'].to_list()\n",
    "    master_sf_id_list = contacts_df['Id'].to_list()\n",
    "    \n",
    "    ## pull SF ids\n",
    "    toolstart_df_user_ids = [] # one-to-one inplace matching to toolstart_df_users\n",
    "\n",
    "    desired_toolstart_users = []\n",
    "    desired_toolstart_ids = []\n",
    "\n",
    "    contacts_in_clusters = contacts_in_cluster_df2['Contact__c'].to_list()\n",
    "    for k,kk in enumerate(toolstart_df_users): \n",
    "        #toolstart_df_user_ids.append(master_sf_id_list[master_sf_username_list.index(j)])  \n",
    "\n",
    "        ## check which ids are in clusters\n",
    "        try:\n",
    "            if master_sf_id_list[master_sf_username_list.index(kk)] in contacts_in_clusters:\n",
    "                desired_toolstart_users.append(kk)    \n",
    "                desired_toolstart_ids.append(master_sf_id_list[master_sf_username_list.index(kk)])\n",
    "        except:\n",
    "            garb = 1 #print('user not in SF')\n",
    "\n",
    "    ## was their class at this time? not necessarily [they may not have been in a class/cluster]\n",
    "    ## build a filter for these users\n",
    "    filtered_desired_toolstart_ids = []\n",
    "    filtered_desired_toolstart_users = []\n",
    "\n",
    "    weeks_user_directory = ['init']\n",
    "    for h,hh in enumerate(clusters_in_week[i]): #{i:[]} where i = week no, [] clusters active for that week\n",
    "        temp = [contacts_in_clusters[m] for m,mm in enumerate(contacts_in_cluster_df2['Tool_Usage_Cluster__c'])\\\n",
    "               if mm == hh]\n",
    "\n",
    "        weeks_user_directory += (temp)\n",
    "\n",
    "    if weeks_user_directory[0] == 'init':\n",
    "        del weeks_user_directory[0]\n",
    "    \n",
    "    for k,kk in enumerate(desired_toolstart_ids): #cross check all toolstart ids with week's cluster active ids\n",
    "        if kk in weeks_user_directory:\n",
    "            filtered_desired_toolstart_users.append(master_sf_username_list[master_sf_id_list.index(kk)])\n",
    "            filtered_desired_toolstart_ids.append(kk)\n",
    "            \n",
    "    \n",
    "    ## pick out the total simulation usage among these filtered_desired users\n",
    "    # sum up instances of toolstart_df2 with said username\n",
    "    sim_sum = 0\n",
    "    sim_use = toolstart_df2['user'] #each occurence of name indicates one novel use\n",
    "    sim_use_string = ''.join(sim_use)\n",
    "    \n",
    "    ## filtered_desired_toolstart_users contains duplicate people\n",
    "    filtered_desired_toolstart_users2 = set(filtered_desired_toolstart_users)\n",
    "    \n",
    "    for k,kk in enumerate(filtered_desired_toolstart_users2):\n",
    "        match = re.findall(kk,sim_use_string)\n",
    "        sim_sum += len(match)\n",
    "    \n",
    "    \n",
    "    ## populate weekly_df\n",
    "    weekly_df.iloc[i,2] = len(set(filtered_desired_toolstart_users)) #users active within clusters\n",
    "    weekly_df.iloc[i,-2] = deepcopy(sim_sum) #sim usage\n",
    "    weekly_df.iloc[i,-1] = len(toolstart_df_users)\n",
    "    "
   ]
  },
  {
   "cell_type": "code",
   "execution_count": 35,
   "metadata": {
    "execution": {
     "iopub.execute_input": "2021-01-22T17:18:31.457695Z",
     "iopub.status.busy": "2021-01-22T17:18:31.457079Z",
     "iopub.status.idle": "2021-01-22T17:18:31.460706Z",
     "shell.execute_reply": "2021-01-22T17:18:31.460027Z"
    },
    "papermill": {
     "duration": 0.041315,
     "end_time": "2021-01-22T17:18:31.460840",
     "exception": false,
     "start_time": "2021-01-22T17:18:31.419525",
     "status": "completed"
    },
    "tags": []
   },
   "outputs": [
    {
     "name": "stdout",
     "output_type": "stream",
     "text": [
      "-353.80388259887695\n"
     ]
    }
   ],
   "source": [
    "end_seconds = time.time()\n",
    "diff = start_seconds-end_seconds\n",
    "print(diff)"
   ]
  },
  {
   "cell_type": "code",
   "execution_count": 36,
   "metadata": {
    "execution": {
     "iopub.execute_input": "2021-01-22T17:18:31.530947Z",
     "iopub.status.busy": "2021-01-22T17:18:31.530358Z",
     "iopub.status.idle": "2021-01-22T17:18:31.532810Z",
     "shell.execute_reply": "2021-01-22T17:18:31.532132Z"
    },
    "papermill": {
     "duration": 0.03873,
     "end_time": "2021-01-22T17:18:31.532943",
     "exception": false,
     "start_time": "2021-01-22T17:18:31.494213",
     "status": "completed"
    },
    "tags": []
   },
   "outputs": [],
   "source": [
    "import os\n",
    "cwd = os.getcwd()"
   ]
  },
  {
   "cell_type": "code",
   "execution_count": 37,
   "metadata": {
    "execution": {
     "iopub.execute_input": "2021-01-22T17:18:31.603262Z",
     "iopub.status.busy": "2021-01-22T17:18:31.602677Z",
     "iopub.status.idle": "2021-01-22T17:18:31.644972Z",
     "shell.execute_reply": "2021-01-22T17:18:31.644263Z"
    },
    "papermill": {
     "duration": 0.079221,
     "end_time": "2021-01-22T17:18:31.645109",
     "exception": false,
     "start_time": "2021-01-22T17:18:31.565888",
     "status": "completed"
    },
    "tags": []
   },
   "outputs": [],
   "source": [
    "weekly_df.to_csv(cwd+'/scorecard.csv')"
   ]
  },
  {
   "cell_type": "code",
   "execution_count": null,
   "metadata": {
    "papermill": {
     "duration": 0.032657,
     "end_time": "2021-01-22T17:18:31.711238",
     "exception": false,
     "start_time": "2021-01-22T17:18:31.678581",
     "status": "completed"
    },
    "tags": []
   },
   "outputs": [],
   "source": []
  }
 ],
 "metadata": {
  "kernelspec": {
   "display_name": "Python 3",
   "language": "python",
   "name": "python3"
  },
  "language_info": {
   "codemirror_mode": {
    "name": "ipython",
    "version": 3
   },
   "file_extension": ".py",
   "mimetype": "text/x-python",
   "name": "python",
   "nbconvert_exporter": "python",
   "pygments_lexer": "ipython3",
   "version": "3.7.6"
  },
  "papermill": {
   "duration": 430.515285,
   "end_time": "2021-01-22T17:18:33.135690",
   "environment_variables": {},
   "exception": null,
   "input_path": "/home/users/wang2506/nanohub_salesforce_integ/salesforce/2_year_scorecard.ipynb",
   "output_path": "/home/users/wang2506/nanohub_salesforce_integ/salesforce/2_year_scorecard.ipynb",
   "parameters": {},
   "start_time": "2021-01-22T17:11:22.620405",
   "version": "2.1.1"
  }
 },
 "nbformat": 4,
 "nbformat_minor": 4
}