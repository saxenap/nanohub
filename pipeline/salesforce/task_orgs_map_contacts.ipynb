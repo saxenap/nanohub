{
 "cells": [
  {
   "cell_type": "markdown",
   "metadata": {},
   "source": [
    "# DB2-Salesforce connector: determine organization of each contact based on aggregated cluster and citation information.\n"
   ]
  },
  {
   "cell_type": "code",
   "execution_count": 6,
   "metadata": {
    "tags": [
     "parameters"
    ]
   },
   "outputs": [],
   "source": [
    "# API settings\n",
    "api_url = '/services/data/v43.0/sobjects'\n",
    "external_id = 'Name'\n",
    "object_id = 'contact_citation_asso__c'\n",
    "\n",
    "# login parameters to be handled by Papermill\n",
    "sql_login_params = {\"username\": \"wang2506_ro\", \"password\": \"fnVnwcCS7iT45EsA\"}\n",
    "sf_login_params = {\n",
    "    \"grant_type\": \"password\",\n",
    "    \"client_id\": \"3MVG95jctIhbyCppj0SNJ75IsZ1y8UPGZtSNF4j8FNVXz.De8Lu4jHm3rjRosAtsHy6qjHx3i4S_QbQzvBePG\",\n",
    "    \"client_secret\": \"D1623C6D3607D4FC8004B92C761DFB6C1F70CCD129C5501E357028DFA00F5764\",\n",
    "    \"username\": \"wang159-4j1v@force.com\",\n",
    "    \"password\": \"napoleon0eZ3PQpQqE3C3z4wWqEqKGhQ8\",\n",
    "} #6Cel800D5w000001jiQu8885w0000003U7mRvSj2dp1TvmgHngvv195i9eJLpzFNuMZBHkjibu07pj7Mk18p7MQxBEO318UtbzlBv7BpFQU"
   ]
  },
  {
   "cell_type": "code",
   "execution_count": 7,
   "metadata": {},
   "outputs": [],
   "source": [
    "import sys\n",
    "#sys.path.append(lib_dir)\n",
    "    \n",
    "import pandas as pd\n",
    "import time\n",
    "import datetime\n",
    "\n",
    "from DB2SalesforceAPI import DB2SalesforceAPI"
   ]
  },
  {
   "cell_type": "markdown",
   "metadata": {},
   "source": [
    "## Obtain tool information from DB2 "
   ]
  },
  {
   "cell_type": "markdown",
   "metadata": {},
   "source": [
    "## Obtain Salesforce IDs"
   ]
  },
  {
   "cell_type": "code",
   "execution_count": 8,
   "metadata": {},
   "outputs": [
    {
     "name": "stdout",
     "output_type": "stream",
     "text": [
      "Obtained Salesforce access token ...... True\n"
     ]
    }
   ],
   "source": [
    "# create DB2 to Salesforce API object\n",
    "db_s = DB2SalesforceAPI(sf_login_params)"
   ]
  },
  {
   "cell_type": "code",
   "execution_count": 9,
   "metadata": {},
   "outputs": [
    {
     "name": "stdout",
     "output_type": "stream",
     "text": [
      "[Success] Bulk job creation successful. Job ID = 7505w00000Mt5H7AAJ\n",
      "{\"id\":\"7505w00000Mt5H7AAJ\",\"operation\":\"query\",\"object\":\"contact_citation_asso__c\",\"createdById\":\"0055w00000ArpYvAAJ\",\"createdDate\":\"2020-06-09T01:45:14.000+0000\",\"systemModstamp\":\"2020-06-09T01:45:15.000+0000\",\"state\":\"UploadComplete\",\"concurrencyMode\":\"Parallel\",\"contentType\":\"CSV\",\"apiVersion\":47.0,\"jobType\":\"V2Query\",\"lineEnding\":\"LF\",\"columnDelimiter\":\"COMMA\",\"retries\":0,\"totalProcessingTime\":0}\n",
      "{\"id\":\"7505w00000Mt5H7AAJ\",\"operation\":\"query\",\"object\":\"contact_citation_asso__c\",\"createdById\":\"0055w00000ArpYvAAJ\",\"createdDate\":\"2020-06-09T01:45:14.000+0000\",\"systemModstamp\":\"2020-06-09T01:45:17.000+0000\",\"state\":\"JobComplete\",\"concurrencyMode\":\"Parallel\",\"contentType\":\"CSV\",\"apiVersion\":47.0,\"jobType\":\"V2Query\",\"lineEnding\":\"LF\",\"columnDelimiter\":\"COMMA\",\"numberRecordsProcessed\":4885,\"retries\":0,\"totalProcessingTime\":846}\n",
      "[Success] Bulk job completed successfully.\n"
     ]
    }
   ],
   "source": [
    "# get Salesforce ID for contact-citation associations\n",
    "sf_citation_asso_df = db_s.query_data('SELECT Id, Organization__c, Contact__c, Citation__c FROM contact_citation_asso__c')"
   ]
  },
  {
   "cell_type": "code",
   "execution_count": 10,
   "metadata": {
    "scrolled": true
   },
   "outputs": [
    {
     "name": "stdout",
     "output_type": "stream",
     "text": [
      "[Success] Bulk job creation successful. Job ID = 7505w00000Mt5HCAAZ\n",
      "{\"id\":\"7505w00000Mt5HCAAZ\",\"operation\":\"query\",\"object\":\"ContactToolClusterAssociation__c\",\"createdById\":\"0055w00000ArpYvAAJ\",\"createdDate\":\"2020-06-09T01:45:27.000+0000\",\"systemModstamp\":\"2020-06-09T01:45:27.000+0000\",\"state\":\"InProgress\",\"concurrencyMode\":\"Parallel\",\"contentType\":\"CSV\",\"apiVersion\":47.0,\"jobType\":\"V2Query\",\"lineEnding\":\"LF\",\"columnDelimiter\":\"COMMA\",\"numberRecordsProcessed\":0,\"retries\":0,\"totalProcessingTime\":0}\n",
      "{\"id\":\"7505w00000Mt5HCAAZ\",\"operation\":\"query\",\"object\":\"ContactToolClusterAssociation__c\",\"createdById\":\"0055w00000ArpYvAAJ\",\"createdDate\":\"2020-06-09T01:45:27.000+0000\",\"systemModstamp\":\"2020-06-09T01:45:35.000+0000\",\"state\":\"JobComplete\",\"concurrencyMode\":\"Parallel\",\"contentType\":\"CSV\",\"apiVersion\":47.0,\"jobType\":\"V2Query\",\"lineEnding\":\"LF\",\"columnDelimiter\":\"COMMA\",\"numberRecordsProcessed\":84869,\"retries\":0,\"totalProcessingTime\":7467}\n",
      "[Success] Bulk job completed successfully.\n"
     ]
    }
   ],
   "source": [
    "# get Salesforce ID for contact-cluster associations\n",
    "sf_cluster_asso_df = db_s.query_data('SELECT Id, Contact__c, Tool_Usage_Cluster__c FROM ContactToolClusterAssociation__c')"
   ]
  },
  {
   "cell_type": "code",
   "execution_count": 11,
   "metadata": {},
   "outputs": [
    {
     "name": "stdout",
     "output_type": "stream",
     "text": [
      "[Success] Bulk job creation successful. Job ID = 7505w00000Mt4fxAAB\n",
      "{\"id\":\"7505w00000Mt4fxAAB\",\"operation\":\"query\",\"object\":\"Contact\",\"createdById\":\"0055w00000ArpYvAAJ\",\"createdDate\":\"2020-06-09T01:45:41.000+0000\",\"systemModstamp\":\"2020-06-09T01:45:41.000+0000\",\"state\":\"UploadComplete\",\"concurrencyMode\":\"Parallel\",\"contentType\":\"CSV\",\"apiVersion\":47.0,\"jobType\":\"V2Query\",\"lineEnding\":\"LF\",\"columnDelimiter\":\"COMMA\",\"retries\":0,\"totalProcessingTime\":0}\n",
      "{\"id\":\"7505w00000Mt4fxAAB\",\"operation\":\"query\",\"object\":\"Contact\",\"createdById\":\"0055w00000ArpYvAAJ\",\"createdDate\":\"2020-06-09T01:45:41.000+0000\",\"systemModstamp\":\"2020-06-09T01:45:41.000+0000\",\"state\":\"InProgress\",\"concurrencyMode\":\"Parallel\",\"contentType\":\"CSV\",\"apiVersion\":47.0,\"jobType\":\"V2Query\",\"lineEnding\":\"LF\",\"columnDelimiter\":\"COMMA\",\"numberRecordsProcessed\":0,\"retries\":0,\"totalProcessingTime\":0}\n",
      "{\"id\":\"7505w00000Mt4fxAAB\",\"operation\":\"query\",\"object\":\"Contact\",\"createdById\":\"0055w00000ArpYvAAJ\",\"createdDate\":\"2020-06-09T01:45:41.000+0000\",\"systemModstamp\":\"2020-06-09T01:45:54.000+0000\",\"state\":\"JobComplete\",\"concurrencyMode\":\"Parallel\",\"contentType\":\"CSV\",\"apiVersion\":47.0,\"jobType\":\"V2Query\",\"lineEnding\":\"LF\",\"columnDelimiter\":\"COMMA\",\"numberRecordsProcessed\":218085,\"retries\":0,\"totalProcessingTime\":11902}\n",
      "[Success] Bulk job completed successfully.\n"
     ]
    }
   ],
   "source": [
    "# get Salesforce ID for contacts\n",
    "sf_contact_df = db_s.query_data('SELECT Id, Organization_Overwrite__c, Organization_email_derived__c FROM Contact')"
   ]
  },
  {
   "cell_type": "code",
   "execution_count": 12,
   "metadata": {},
   "outputs": [
    {
     "name": "stdout",
     "output_type": "stream",
     "text": [
      "[Success] Bulk job creation successful. Job ID = 7505w00000Mt5IpAAJ\n",
      "{\"id\":\"7505w00000Mt5IpAAJ\",\"operation\":\"query\",\"object\":\"nanoHUB_citations__c\",\"createdById\":\"0055w00000ArpYvAAJ\",\"createdDate\":\"2020-06-09T01:46:08.000+0000\",\"systemModstamp\":\"2020-06-09T01:46:08.000+0000\",\"state\":\"InProgress\",\"concurrencyMode\":\"Parallel\",\"contentType\":\"CSV\",\"apiVersion\":47.0,\"jobType\":\"V2Query\",\"lineEnding\":\"LF\",\"columnDelimiter\":\"COMMA\",\"numberRecordsProcessed\":0,\"retries\":0,\"totalProcessingTime\":0}\n",
      "{\"id\":\"7505w00000Mt5IpAAJ\",\"operation\":\"query\",\"object\":\"nanoHUB_citations__c\",\"createdById\":\"0055w00000ArpYvAAJ\",\"createdDate\":\"2020-06-09T01:46:08.000+0000\",\"systemModstamp\":\"2020-06-09T01:46:09.000+0000\",\"state\":\"JobComplete\",\"concurrencyMode\":\"Parallel\",\"contentType\":\"CSV\",\"apiVersion\":47.0,\"jobType\":\"V2Query\",\"lineEnding\":\"LF\",\"columnDelimiter\":\"COMMA\",\"numberRecordsProcessed\":2457,\"retries\":0,\"totalProcessingTime\":590}\n",
      "[Success] Bulk job completed successfully.\n"
     ]
    }
   ],
   "source": [
    "# get Salesforce ID for citations\n",
    "sf_citation_df = db_s.query_data('SELECT Id, Year__c FROM nanoHUB_citations__c')"
   ]
  },
  {
   "cell_type": "code",
   "execution_count": 13,
   "metadata": {},
   "outputs": [
    {
     "name": "stdout",
     "output_type": "stream",
     "text": [
      "[Success] Bulk job creation successful. Job ID = 7505w00000Mt5JNAAZ\n",
      "{\"id\":\"7505w00000Mt5JNAAZ\",\"operation\":\"query\",\"object\":\"tool_usage_cluster__c\",\"createdById\":\"0055w00000ArpYvAAJ\",\"createdDate\":\"2020-06-09T01:46:20.000+0000\",\"systemModstamp\":\"2020-06-09T01:46:20.000+0000\",\"state\":\"InProgress\",\"concurrencyMode\":\"Parallel\",\"contentType\":\"CSV\",\"apiVersion\":47.0,\"jobType\":\"V2Query\",\"lineEnding\":\"LF\",\"columnDelimiter\":\"COMMA\",\"numberRecordsProcessed\":0,\"retries\":0,\"totalProcessingTime\":0}\n",
      "{\"id\":\"7505w00000Mt5JNAAZ\",\"operation\":\"query\",\"object\":\"tool_usage_cluster__c\",\"createdById\":\"0055w00000ArpYvAAJ\",\"createdDate\":\"2020-06-09T01:46:20.000+0000\",\"systemModstamp\":\"2020-06-09T01:46:21.000+0000\",\"state\":\"JobComplete\",\"concurrencyMode\":\"Parallel\",\"contentType\":\"CSV\",\"apiVersion\":47.0,\"jobType\":\"V2Query\",\"lineEnding\":\"LF\",\"columnDelimiter\":\"COMMA\",\"numberRecordsProcessed\":3534,\"retries\":0,\"totalProcessingTime\":444}\n",
      "[Success] Bulk job completed successfully.\n"
     ]
    }
   ],
   "source": [
    "# get Salesforce ID for clusters\n",
    "sf_cluster_df = db_s.query_data('SELECT Id, Starting_Date__c FROM tool_usage_cluster__c')"
   ]
  },
  {
   "cell_type": "markdown",
   "metadata": {},
   "source": [
    "## Determine domain by citation by latest citation"
   ]
  },
  {
   "cell_type": "code",
   "execution_count": 14,
   "metadata": {
    "scrolled": true
   },
   "outputs": [
    {
     "data": {
      "text/html": [
       "<div>\n",
       "<style scoped>\n",
       "    .dataframe tbody tr th:only-of-type {\n",
       "        vertical-align: middle;\n",
       "    }\n",
       "\n",
       "    .dataframe tbody tr th {\n",
       "        vertical-align: top;\n",
       "    }\n",
       "\n",
       "    .dataframe thead th {\n",
       "        text-align: right;\n",
       "    }\n",
       "</style>\n",
       "<table border=\"1\" class=\"dataframe\">\n",
       "  <thead>\n",
       "    <tr style=\"text-align: right;\">\n",
       "      <th></th>\n",
       "      <th>Id</th>\n",
       "      <th>Year__c</th>\n",
       "    </tr>\n",
       "  </thead>\n",
       "  <tbody>\n",
       "    <tr>\n",
       "      <th>0</th>\n",
       "      <td>a0t5w000008p7pSAAQ</td>\n",
       "      <td>2012.0</td>\n",
       "    </tr>\n",
       "    <tr>\n",
       "      <th>1</th>\n",
       "      <td>a0t5w000008p7pTAAQ</td>\n",
       "      <td>2013.0</td>\n",
       "    </tr>\n",
       "  </tbody>\n",
       "</table>\n",
       "</div>"
      ],
      "text/plain": [
       "                   Id  Year__c\n",
       "0  a0t5w000008p7pSAAQ   2012.0\n",
       "1  a0t5w000008p7pTAAQ   2013.0"
      ]
     },
     "metadata": {},
     "output_type": "display_data"
    },
    {
     "data": {
      "text/html": [
       "<div>\n",
       "<style scoped>\n",
       "    .dataframe tbody tr th:only-of-type {\n",
       "        vertical-align: middle;\n",
       "    }\n",
       "\n",
       "    .dataframe tbody tr th {\n",
       "        vertical-align: top;\n",
       "    }\n",
       "\n",
       "    .dataframe thead th {\n",
       "        text-align: right;\n",
       "    }\n",
       "</style>\n",
       "<table border=\"1\" class=\"dataframe\">\n",
       "  <thead>\n",
       "    <tr style=\"text-align: right;\">\n",
       "      <th></th>\n",
       "      <th>Citation__c</th>\n",
       "      <th>Contact__c</th>\n",
       "      <th>Id</th>\n",
       "      <th>Organization__c</th>\n",
       "    </tr>\n",
       "  </thead>\n",
       "  <tbody>\n",
       "    <tr>\n",
       "      <th>0</th>\n",
       "      <td>a0t5w000008p7pSAAQ</td>\n",
       "      <td>0035w000034JLpOAAW</td>\n",
       "      <td>a0u5w00000RhVhTAAV</td>\n",
       "      <td>a0r5w00000V42cCAAR</td>\n",
       "    </tr>\n",
       "    <tr>\n",
       "      <th>1</th>\n",
       "      <td>a0t5w000008p7q1AAA</td>\n",
       "      <td>0035w000034JLpOAAW</td>\n",
       "      <td>a0u5w00000RhVhUAAV</td>\n",
       "      <td>a0r5w00000V42cCAAR</td>\n",
       "    </tr>\n",
       "  </tbody>\n",
       "</table>\n",
       "</div>"
      ],
      "text/plain": [
       "          Citation__c          Contact__c                  Id  \\\n",
       "0  a0t5w000008p7pSAAQ  0035w000034JLpOAAW  a0u5w00000RhVhTAAV   \n",
       "1  a0t5w000008p7q1AAA  0035w000034JLpOAAW  a0u5w00000RhVhUAAV   \n",
       "\n",
       "      Organization__c  \n",
       "0  a0r5w00000V42cCAAR  \n",
       "1  a0r5w00000V42cCAAR  "
      ]
     },
     "metadata": {},
     "output_type": "display_data"
    }
   ],
   "source": [
    "# display data used in this section\n",
    "display(sf_citation_df.head(2))\n",
    "display(sf_citation_asso_df.head(2))"
   ]
  },
  {
   "cell_type": "code",
   "execution_count": 15,
   "metadata": {},
   "outputs": [
    {
     "data": {
      "text/html": [
       "<div>\n",
       "<style scoped>\n",
       "    .dataframe tbody tr th:only-of-type {\n",
       "        vertical-align: middle;\n",
       "    }\n",
       "\n",
       "    .dataframe tbody tr th {\n",
       "        vertical-align: top;\n",
       "    }\n",
       "\n",
       "    .dataframe thead th {\n",
       "        text-align: right;\n",
       "    }\n",
       "</style>\n",
       "<table border=\"1\" class=\"dataframe\">\n",
       "  <thead>\n",
       "    <tr style=\"text-align: right;\">\n",
       "      <th></th>\n",
       "      <th>Id</th>\n",
       "      <th>Year__c</th>\n",
       "      <th>Citation__c</th>\n",
       "      <th>Contact__c</th>\n",
       "      <th>Id_citation_asso</th>\n",
       "      <th>Organization__c</th>\n",
       "    </tr>\n",
       "  </thead>\n",
       "  <tbody>\n",
       "    <tr>\n",
       "      <th>0</th>\n",
       "      <td>a0t5w000008p7pSAAQ</td>\n",
       "      <td>2012.0</td>\n",
       "      <td>a0t5w000008p7pSAAQ</td>\n",
       "      <td>0035w000034JLpOAAW</td>\n",
       "      <td>a0u5w00000RhVhTAAV</td>\n",
       "      <td>a0r5w00000V42cCAAR</td>\n",
       "    </tr>\n",
       "    <tr>\n",
       "      <th>1</th>\n",
       "      <td>a0t5w000008p7pSAAQ</td>\n",
       "      <td>2012.0</td>\n",
       "      <td>a0t5w000008p7pSAAQ</td>\n",
       "      <td>0035w000034JLfwAAG</td>\n",
       "      <td>a0u5w00000RhVi2AAF</td>\n",
       "      <td>a0r5w00000V42cCAAR</td>\n",
       "    </tr>\n",
       "  </tbody>\n",
       "</table>\n",
       "</div>"
      ],
      "text/plain": [
       "                   Id  Year__c         Citation__c          Contact__c  \\\n",
       "0  a0t5w000008p7pSAAQ   2012.0  a0t5w000008p7pSAAQ  0035w000034JLpOAAW   \n",
       "1  a0t5w000008p7pSAAQ   2012.0  a0t5w000008p7pSAAQ  0035w000034JLfwAAG   \n",
       "\n",
       "     Id_citation_asso     Organization__c  \n",
       "0  a0u5w00000RhVhTAAV  a0r5w00000V42cCAAR  \n",
       "1  a0u5w00000RhVi2AAF  a0r5w00000V42cCAAR  "
      ]
     },
     "execution_count": 15,
     "metadata": {},
     "output_type": "execute_result"
    }
   ],
   "source": [
    "overall_df = pd.merge(sf_citation_df, sf_citation_asso_df, \\\n",
    "                      how='inner', left_on='Id', right_on='Citation__c', suffixes=['', '_citation_asso'])\n",
    "\n",
    "# display\n",
    "overall_df.head(2)"
   ]
  },
  {
   "cell_type": "code",
   "execution_count": 16,
   "metadata": {
    "scrolled": true
   },
   "outputs": [
    {
     "data": {
      "text/html": [
       "<div>\n",
       "<style scoped>\n",
       "    .dataframe tbody tr th:only-of-type {\n",
       "        vertical-align: middle;\n",
       "    }\n",
       "\n",
       "    .dataframe tbody tr th {\n",
       "        vertical-align: top;\n",
       "    }\n",
       "\n",
       "    .dataframe thead th {\n",
       "        text-align: right;\n",
       "    }\n",
       "</style>\n",
       "<table border=\"1\" class=\"dataframe\">\n",
       "  <thead>\n",
       "    <tr style=\"text-align: right;\">\n",
       "      <th></th>\n",
       "      <th>Contact__c</th>\n",
       "      <th>Organization_citation_derived__c</th>\n",
       "    </tr>\n",
       "  </thead>\n",
       "  <tbody>\n",
       "    <tr>\n",
       "      <th>0</th>\n",
       "      <td>0035w000031Vt92AAC</td>\n",
       "      <td>a0r5w00000V42pJAAR</td>\n",
       "    </tr>\n",
       "    <tr>\n",
       "      <th>1</th>\n",
       "      <td>0035w000031Vt9kAAC</td>\n",
       "      <td>a0r5w00000V42nyAAB</td>\n",
       "    </tr>\n",
       "  </tbody>\n",
       "</table>\n",
       "</div>"
      ],
      "text/plain": [
       "           Contact__c Organization_citation_derived__c\n",
       "0  0035w000031Vt92AAC               a0r5w00000V42pJAAR\n",
       "1  0035w000031Vt9kAAC               a0r5w00000V42nyAAB"
      ]
     },
     "execution_count": 16,
     "metadata": {},
     "output_type": "execute_result"
    }
   ],
   "source": [
    "# infer contact's organziation by using latest citation organization\n",
    "org_from_citation_df = overall_df.groupby('Contact__c').apply(lambda x: \\\n",
    "                                                   x.sort_values(by=['Year__c'], ascending=False).head(1).Organization__c.iloc[0])\\\n",
    "                                            .dropna().reset_index(name='Organization_citation_derived__c')\n",
    "\n",
    "# display\n",
    "org_from_citation_df.head(2)"
   ]
  },
  {
   "cell_type": "code",
   "execution_count": 17,
   "metadata": {},
   "outputs": [
    {
     "data": {
      "text/html": [
       "<div>\n",
       "<style scoped>\n",
       "    .dataframe tbody tr th:only-of-type {\n",
       "        vertical-align: middle;\n",
       "    }\n",
       "\n",
       "    .dataframe tbody tr th {\n",
       "        vertical-align: top;\n",
       "    }\n",
       "\n",
       "    .dataframe thead th {\n",
       "        text-align: right;\n",
       "    }\n",
       "</style>\n",
       "<table border=\"1\" class=\"dataframe\">\n",
       "  <thead>\n",
       "    <tr style=\"text-align: right;\">\n",
       "      <th></th>\n",
       "      <th>0</th>\n",
       "      <th>1</th>\n",
       "    </tr>\n",
       "  </thead>\n",
       "  <tbody>\n",
       "    <tr>\n",
       "      <th>Id</th>\n",
       "      <td>0035w000031Vt92AAC</td>\n",
       "      <td>0035w000031Vt9kAAC</td>\n",
       "    </tr>\n",
       "    <tr>\n",
       "      <th>Organization_citation_derived__c</th>\n",
       "      <td>a0r5w00000V42pJAAR</td>\n",
       "      <td>a0r5w00000V42nyAAB</td>\n",
       "    </tr>\n",
       "  </tbody>\n",
       "</table>\n",
       "</div>"
      ],
      "text/plain": [
       "                                                   0                   1\n",
       "Id                                0035w000031Vt92AAC  0035w000031Vt9kAAC\n",
       "Organization_citation_derived__c  a0r5w00000V42pJAAR  a0r5w00000V42nyAAB"
      ]
     },
     "execution_count": 17,
     "metadata": {},
     "output_type": "execute_result"
    }
   ],
   "source": [
    "# Send data to Salesforce\n",
    "\n",
    "df_sf = pd.DataFrame()\n",
    "\n",
    "# Make sure NaN and NaT values are taken care of here\n",
    "df_sf['Id']         = org_from_citation_df['Contact__c']\n",
    "df_sf['Organization_citation_derived__c'] = org_from_citation_df['Organization_citation_derived__c']\n",
    "\n",
    "sf_original_fields = df_sf.columns\n",
    "\n",
    "# display\n",
    "df_sf.head(2).T"
   ]
  },
  {
   "cell_type": "code",
   "execution_count": 18,
   "metadata": {},
   "outputs": [
    {
     "name": "stdout",
     "output_type": "stream",
     "text": [
      "Obtained Salesforce access token ...... True\n"
     ]
    }
   ],
   "source": [
    "# create DB2 to Salesforce API object\n",
    "db_s = DB2SalesforceAPI(sf_login_params)\n",
    "\n",
    "# specify Salesforce object ID and external ID\n",
    "db_s.object_id = 'Contact'\n",
    "db_s.external_id = 'Id'"
   ]
  },
  {
   "cell_type": "code",
   "execution_count": 19,
   "metadata": {},
   "outputs": [
    {
     "name": "stdout",
     "output_type": "stream",
     "text": [
      "[Success] Bulk job creation successful. Job ID = 7505w00000Mt5JhAAJ\n",
      "hello\n",
      "[Success] CSV upload successful. Job ID = 7505w00000Mt5JhAAJ\n",
      "[Success] Closing job successful. Job ID = 7505w00000Mt5JhAAJ\n"
     ]
    }
   ],
   "source": [
    "# send data to Salesforce\n",
    "db_s.send_data(df_sf)"
   ]
  },
  {
   "cell_type": "code",
   "execution_count": 20,
   "metadata": {},
   "outputs": [
    {
     "name": "stdout",
     "output_type": "stream",
     "text": [
      "{'apexProcessingTime': 0,\n",
      " 'apiActiveProcessingTime': 0,\n",
      " 'apiVersion': 47.0,\n",
      " 'columnDelimiter': 'COMMA',\n",
      " 'concurrencyMode': 'Parallel',\n",
      " 'contentType': 'CSV',\n",
      " 'createdById': '0055w00000ArpYvAAJ',\n",
      " 'createdDate': '2020-06-09T01:46:35.000+0000',\n",
      " 'externalIdFieldName': 'Id',\n",
      " 'id': '7505w00000Mt5JhAAJ',\n",
      " 'jobType': 'V2Ingest',\n",
      " 'lineEnding': 'LF',\n",
      " 'numberRecordsFailed': 0,\n",
      " 'numberRecordsProcessed': 0,\n",
      " 'object': 'Contact',\n",
      " 'operation': 'upsert',\n",
      " 'retries': 0,\n",
      " 'state': 'InProgress',\n",
      " 'systemModstamp': '2020-06-09T01:46:37.000+0000',\n",
      " 'totalProcessingTime': 0}\n"
     ]
    }
   ],
   "source": [
    "# check status\n",
    "from pprint import pprint\n",
    "\n",
    "pprint(db_s.check_bulk_status())"
   ]
  },
  {
   "cell_type": "markdown",
   "metadata": {},
   "source": [
    "## Determine cluster's domain by contact information"
   ]
  },
  {
   "cell_type": "code",
   "execution_count": 21,
   "metadata": {},
   "outputs": [
    {
     "data": {
      "text/html": [
       "<div>\n",
       "<style scoped>\n",
       "    .dataframe tbody tr th:only-of-type {\n",
       "        vertical-align: middle;\n",
       "    }\n",
       "\n",
       "    .dataframe tbody tr th {\n",
       "        vertical-align: top;\n",
       "    }\n",
       "\n",
       "    .dataframe thead th {\n",
       "        text-align: right;\n",
       "    }\n",
       "</style>\n",
       "<table border=\"1\" class=\"dataframe\">\n",
       "  <thead>\n",
       "    <tr style=\"text-align: right;\">\n",
       "      <th></th>\n",
       "      <th>Contact__c</th>\n",
       "      <th>Id</th>\n",
       "      <th>Tool_Usage_Cluster__c</th>\n",
       "    </tr>\n",
       "  </thead>\n",
       "  <tbody>\n",
       "    <tr>\n",
       "      <th>0</th>\n",
       "      <td>0035w000034JtebAAC</td>\n",
       "      <td>a0x5w00000ZtjVpAAJ</td>\n",
       "      <td>a0w5w000009Q7DnAAK</td>\n",
       "    </tr>\n",
       "    <tr>\n",
       "      <th>1</th>\n",
       "      <td>0035w000034I5Y6AAK</td>\n",
       "      <td>a0x5w00000ZtjVqAAJ</td>\n",
       "      <td>a0w5w000009Q8G8AAK</td>\n",
       "    </tr>\n",
       "  </tbody>\n",
       "</table>\n",
       "</div>"
      ],
      "text/plain": [
       "           Contact__c                  Id Tool_Usage_Cluster__c\n",
       "0  0035w000034JtebAAC  a0x5w00000ZtjVpAAJ    a0w5w000009Q7DnAAK\n",
       "1  0035w000034I5Y6AAK  a0x5w00000ZtjVqAAJ    a0w5w000009Q8G8AAK"
      ]
     },
     "metadata": {},
     "output_type": "display_data"
    },
    {
     "data": {
      "text/html": [
       "<div>\n",
       "<style scoped>\n",
       "    .dataframe tbody tr th:only-of-type {\n",
       "        vertical-align: middle;\n",
       "    }\n",
       "\n",
       "    .dataframe tbody tr th {\n",
       "        vertical-align: top;\n",
       "    }\n",
       "\n",
       "    .dataframe thead th {\n",
       "        text-align: right;\n",
       "    }\n",
       "</style>\n",
       "<table border=\"1\" class=\"dataframe\">\n",
       "  <thead>\n",
       "    <tr style=\"text-align: right;\">\n",
       "      <th></th>\n",
       "      <th>Id</th>\n",
       "      <th>Organization_Overwrite__c</th>\n",
       "      <th>Organization_email_derived__c</th>\n",
       "    </tr>\n",
       "  </thead>\n",
       "  <tbody>\n",
       "    <tr>\n",
       "      <th>0</th>\n",
       "      <td>0035w000031Vsp1AAC</td>\n",
       "      <td>NaN</td>\n",
       "      <td>NaN</td>\n",
       "    </tr>\n",
       "    <tr>\n",
       "      <th>1</th>\n",
       "      <td>0035w000031Vsp2AAC</td>\n",
       "      <td>NaN</td>\n",
       "      <td>a0r5w00000V42cCAAR</td>\n",
       "    </tr>\n",
       "  </tbody>\n",
       "</table>\n",
       "</div>"
      ],
      "text/plain": [
       "                   Id Organization_Overwrite__c Organization_email_derived__c\n",
       "0  0035w000031Vsp1AAC                       NaN                           NaN\n",
       "1  0035w000031Vsp2AAC                       NaN            a0r5w00000V42cCAAR"
      ]
     },
     "metadata": {},
     "output_type": "display_data"
    }
   ],
   "source": [
    "# display data used in this section\n",
    "display(sf_cluster_asso_df.head(2))\n",
    "display(sf_contact_df.head(2))"
   ]
  },
  {
   "cell_type": "code",
   "execution_count": 22,
   "metadata": {},
   "outputs": [],
   "source": [
    "# Convert time to datetime in Pandas\n",
    "sf_cluster_df['Starting_Date__c'] = pd.to_datetime(sf_cluster_df.Starting_Date__c)"
   ]
  },
  {
   "cell_type": "code",
   "execution_count": 23,
   "metadata": {},
   "outputs": [
    {
     "data": {
      "text/html": [
       "<div>\n",
       "<style scoped>\n",
       "    .dataframe tbody tr th:only-of-type {\n",
       "        vertical-align: middle;\n",
       "    }\n",
       "\n",
       "    .dataframe tbody tr th {\n",
       "        vertical-align: top;\n",
       "    }\n",
       "\n",
       "    .dataframe thead th {\n",
       "        text-align: right;\n",
       "    }\n",
       "</style>\n",
       "<table border=\"1\" class=\"dataframe\">\n",
       "  <thead>\n",
       "    <tr style=\"text-align: right;\">\n",
       "      <th></th>\n",
       "      <th>Tool_Usage_Cluster__c</th>\n",
       "      <th>Organization_Overwrite__c</th>\n",
       "      <th>Organization_email_derived__c</th>\n",
       "    </tr>\n",
       "  </thead>\n",
       "  <tbody>\n",
       "    <tr>\n",
       "      <th>0</th>\n",
       "      <td>a0w5w000009Q7DnAAK</td>\n",
       "      <td>NaN</td>\n",
       "      <td>a0r5w00000V42jBAAR</td>\n",
       "    </tr>\n",
       "    <tr>\n",
       "      <th>1</th>\n",
       "      <td>a0w5w000009Q8G8AAK</td>\n",
       "      <td>NaN</td>\n",
       "      <td>a0r5w00000V42jBAAR</td>\n",
       "    </tr>\n",
       "  </tbody>\n",
       "</table>\n",
       "</div>"
      ],
      "text/plain": [
       "  Tool_Usage_Cluster__c Organization_Overwrite__c  \\\n",
       "0    a0w5w000009Q7DnAAK                       NaN   \n",
       "1    a0w5w000009Q8G8AAK                       NaN   \n",
       "\n",
       "  Organization_email_derived__c  \n",
       "0            a0r5w00000V42jBAAR  \n",
       "1            a0r5w00000V42jBAAR  "
      ]
     },
     "execution_count": 23,
     "metadata": {},
     "output_type": "execute_result"
    }
   ],
   "source": [
    "overall_df = pd.merge(sf_cluster_asso_df[['Contact__c', 'Tool_Usage_Cluster__c']], sf_contact_df, \\\n",
    "                                     how ='inner', left_on='Contact__c', right_on='Id' )\n",
    "\n",
    "overall_df.drop(columns=['Id', 'Contact__c'], inplace=True)\n",
    "\n",
    "# display\n",
    "overall_df.head(2)"
   ]
  },
  {
   "cell_type": "code",
   "execution_count": 24,
   "metadata": {},
   "outputs": [
    {
     "data": {
      "text/html": [
       "<div>\n",
       "<style scoped>\n",
       "    .dataframe tbody tr th:only-of-type {\n",
       "        vertical-align: middle;\n",
       "    }\n",
       "\n",
       "    .dataframe tbody tr th {\n",
       "        vertical-align: top;\n",
       "    }\n",
       "\n",
       "    .dataframe thead th {\n",
       "        text-align: right;\n",
       "    }\n",
       "</style>\n",
       "<table border=\"1\" class=\"dataframe\">\n",
       "  <thead>\n",
       "    <tr style=\"text-align: right;\">\n",
       "      <th></th>\n",
       "      <th>Tool_Usage_Cluster__c</th>\n",
       "      <th>Organization_Overwrite__c</th>\n",
       "      <th>Organization_email_derived__c</th>\n",
       "      <th>final_org</th>\n",
       "    </tr>\n",
       "  </thead>\n",
       "  <tbody>\n",
       "    <tr>\n",
       "      <th>0</th>\n",
       "      <td>a0w5w000009Q7DnAAK</td>\n",
       "      <td>NaN</td>\n",
       "      <td>a0r5w00000V42jBAAR</td>\n",
       "      <td>a0r5w00000V42jBAAR</td>\n",
       "    </tr>\n",
       "    <tr>\n",
       "      <th>1</th>\n",
       "      <td>a0w5w000009Q8G8AAK</td>\n",
       "      <td>NaN</td>\n",
       "      <td>a0r5w00000V42jBAAR</td>\n",
       "      <td>a0r5w00000V42jBAAR</td>\n",
       "    </tr>\n",
       "  </tbody>\n",
       "</table>\n",
       "</div>"
      ],
      "text/plain": [
       "  Tool_Usage_Cluster__c Organization_Overwrite__c  \\\n",
       "0    a0w5w000009Q7DnAAK                       NaN   \n",
       "1    a0w5w000009Q8G8AAK                       NaN   \n",
       "\n",
       "  Organization_email_derived__c           final_org  \n",
       "0            a0r5w00000V42jBAAR  a0r5w00000V42jBAAR  \n",
       "1            a0r5w00000V42jBAAR  a0r5w00000V42jBAAR  "
      ]
     },
     "execution_count": 24,
     "metadata": {},
     "output_type": "execute_result"
    }
   ],
   "source": [
    "# apply overwrite\n",
    "overall_df['final_org'] = overall_df.fillna('').apply(lambda x: \\\n",
    "                                    x.Organization_Overwrite__c if x.Organization_Overwrite__c!='' \\\n",
    "                                    else x.Organization_email_derived__c, axis=1)\n",
    "\n",
    "# display\n",
    "overall_df.head(2)"
   ]
  },
  {
   "cell_type": "code",
   "execution_count": 25,
   "metadata": {},
   "outputs": [
    {
     "data": {
      "text/html": [
       "<div>\n",
       "<style scoped>\n",
       "    .dataframe tbody tr th:only-of-type {\n",
       "        vertical-align: middle;\n",
       "    }\n",
       "\n",
       "    .dataframe tbody tr th {\n",
       "        vertical-align: top;\n",
       "    }\n",
       "\n",
       "    .dataframe thead th {\n",
       "        text-align: right;\n",
       "    }\n",
       "</style>\n",
       "<table border=\"1\" class=\"dataframe\">\n",
       "  <thead>\n",
       "    <tr style=\"text-align: right;\">\n",
       "      <th></th>\n",
       "      <th>Tool_Usage_Cluster__c</th>\n",
       "      <th>Organization__c</th>\n",
       "    </tr>\n",
       "  </thead>\n",
       "  <tbody>\n",
       "    <tr>\n",
       "      <th>0</th>\n",
       "      <td>a0w5w000009Q7CqAAK</td>\n",
       "      <td>a0r5w00000V42cCAAR</td>\n",
       "    </tr>\n",
       "    <tr>\n",
       "      <th>1</th>\n",
       "      <td>a0w5w000009Q7CrAAK</td>\n",
       "      <td>a0r5w00000V42cCAAR</td>\n",
       "    </tr>\n",
       "  </tbody>\n",
       "</table>\n",
       "</div>"
      ],
      "text/plain": [
       "  Tool_Usage_Cluster__c     Organization__c\n",
       "0    a0w5w000009Q7CqAAK  a0r5w00000V42cCAAR\n",
       "1    a0w5w000009Q7CrAAK  a0r5w00000V42cCAAR"
      ]
     },
     "execution_count": 25,
     "metadata": {},
     "output_type": "execute_result"
    }
   ],
   "source": [
    "# infer the organization of this cluster through majority vote\n",
    "org_from_cluster_df = overall_df.groupby('Tool_Usage_Cluster__c').final_org.apply(lambda x: \\\n",
    "                                                   x.mode().iloc[0])\\\n",
    "                                            .dropna().reset_index(name='Organization__c')\n",
    "\n",
    "# display\n",
    "org_from_cluster_df.head(2)"
   ]
  },
  {
   "cell_type": "code",
   "execution_count": 26,
   "metadata": {},
   "outputs": [
    {
     "data": {
      "text/html": [
       "<div>\n",
       "<style scoped>\n",
       "    .dataframe tbody tr th:only-of-type {\n",
       "        vertical-align: middle;\n",
       "    }\n",
       "\n",
       "    .dataframe tbody tr th {\n",
       "        vertical-align: top;\n",
       "    }\n",
       "\n",
       "    .dataframe thead th {\n",
       "        text-align: right;\n",
       "    }\n",
       "</style>\n",
       "<table border=\"1\" class=\"dataframe\">\n",
       "  <thead>\n",
       "    <tr style=\"text-align: right;\">\n",
       "      <th></th>\n",
       "      <th>0</th>\n",
       "      <th>1</th>\n",
       "    </tr>\n",
       "  </thead>\n",
       "  <tbody>\n",
       "    <tr>\n",
       "      <th>Id</th>\n",
       "      <td>a0w5w000009Q7CqAAK</td>\n",
       "      <td>a0w5w000009Q7CrAAK</td>\n",
       "    </tr>\n",
       "    <tr>\n",
       "      <th>Organization__c</th>\n",
       "      <td>a0r5w00000V42cCAAR</td>\n",
       "      <td>a0r5w00000V42cCAAR</td>\n",
       "    </tr>\n",
       "  </tbody>\n",
       "</table>\n",
       "</div>"
      ],
      "text/plain": [
       "                                  0                   1\n",
       "Id               a0w5w000009Q7CqAAK  a0w5w000009Q7CrAAK\n",
       "Organization__c  a0r5w00000V42cCAAR  a0r5w00000V42cCAAR"
      ]
     },
     "execution_count": 26,
     "metadata": {},
     "output_type": "execute_result"
    }
   ],
   "source": [
    "# Send data to Salesforce\n",
    "\n",
    "df_sf = pd.DataFrame()\n",
    "\n",
    "# Make sure NaN and NaT values are taken care of here\n",
    "df_sf['Id']         = org_from_cluster_df['Tool_Usage_Cluster__c']\n",
    "df_sf['Organization__c'] = org_from_cluster_df['Organization__c']\n",
    "\n",
    "sf_original_fields = df_sf.columns\n",
    "\n",
    "# display\n",
    "df_sf.head(2).T"
   ]
  },
  {
   "cell_type": "code",
   "execution_count": 27,
   "metadata": {},
   "outputs": [
    {
     "name": "stdout",
     "output_type": "stream",
     "text": [
      "Obtained Salesforce access token ...... True\n"
     ]
    }
   ],
   "source": [
    "# create DB2 to Salesforce API object\n",
    "db_s = DB2SalesforceAPI(sf_login_params)\n",
    "\n",
    "# specify Salesforce object ID and external ID\n",
    "db_s.object_id = 'tool_usage_cluster__c'\n",
    "db_s.external_id = 'Id'"
   ]
  },
  {
   "cell_type": "code",
   "execution_count": 28,
   "metadata": {},
   "outputs": [
    {
     "name": "stdout",
     "output_type": "stream",
     "text": [
      "[Success] Bulk job creation successful. Job ID = 7505w00000Mt5JmAAJ\n",
      "hello\n",
      "[Success] CSV upload successful. Job ID = 7505w00000Mt5JmAAJ\n",
      "[Success] Closing job successful. Job ID = 7505w00000Mt5JmAAJ\n"
     ]
    }
   ],
   "source": [
    "# send data to Salesforce\n",
    "db_s.send_data(df_sf)"
   ]
  },
  {
   "cell_type": "code",
   "execution_count": 29,
   "metadata": {},
   "outputs": [
    {
     "name": "stdout",
     "output_type": "stream",
     "text": [
      "{'apexProcessingTime': 0,\n",
      " 'apiActiveProcessingTime': 0,\n",
      " 'apiVersion': 47.0,\n",
      " 'columnDelimiter': 'COMMA',\n",
      " 'concurrencyMode': 'Parallel',\n",
      " 'contentType': 'CSV',\n",
      " 'createdById': '0055w00000ArpYvAAJ',\n",
      " 'createdDate': '2020-06-09T01:46:44.000+0000',\n",
      " 'externalIdFieldName': 'Id',\n",
      " 'id': '7505w00000Mt5JmAAJ',\n",
      " 'jobType': 'V2Ingest',\n",
      " 'lineEnding': 'LF',\n",
      " 'numberRecordsFailed': 0,\n",
      " 'numberRecordsProcessed': 0,\n",
      " 'object': 'tool_usage_cluster__c',\n",
      " 'operation': 'upsert',\n",
      " 'retries': 0,\n",
      " 'state': 'UploadComplete',\n",
      " 'systemModstamp': '2020-06-09T01:46:45.000+0000',\n",
      " 'totalProcessingTime': 0}\n"
     ]
    }
   ],
   "source": [
    "# check status\n",
    "from pprint import pprint\n",
    "\n",
    "pprint(db_s.check_bulk_status())"
   ]
  },
  {
   "cell_type": "markdown",
   "metadata": {},
   "source": [
    "## Determine domain by cluster by latest cluster"
   ]
  },
  {
   "cell_type": "code",
   "execution_count": 30,
   "metadata": {},
   "outputs": [
    {
     "data": {
      "text/html": [
       "<div>\n",
       "<style scoped>\n",
       "    .dataframe tbody tr th:only-of-type {\n",
       "        vertical-align: middle;\n",
       "    }\n",
       "\n",
       "    .dataframe tbody tr th {\n",
       "        vertical-align: top;\n",
       "    }\n",
       "\n",
       "    .dataframe thead th {\n",
       "        text-align: right;\n",
       "    }\n",
       "</style>\n",
       "<table border=\"1\" class=\"dataframe\">\n",
       "  <thead>\n",
       "    <tr style=\"text-align: right;\">\n",
       "      <th></th>\n",
       "      <th>Id</th>\n",
       "      <th>Starting_Date__c</th>\n",
       "    </tr>\n",
       "  </thead>\n",
       "  <tbody>\n",
       "    <tr>\n",
       "      <th>0</th>\n",
       "      <td>a0w5w000009Q7CqAAK</td>\n",
       "      <td>2013-09-13</td>\n",
       "    </tr>\n",
       "    <tr>\n",
       "      <th>1</th>\n",
       "      <td>a0w5w000009Q7CrAAK</td>\n",
       "      <td>2013-09-15</td>\n",
       "    </tr>\n",
       "  </tbody>\n",
       "</table>\n",
       "</div>"
      ],
      "text/plain": [
       "                   Id Starting_Date__c\n",
       "0  a0w5w000009Q7CqAAK       2013-09-13\n",
       "1  a0w5w000009Q7CrAAK       2013-09-15"
      ]
     },
     "metadata": {},
     "output_type": "display_data"
    },
    {
     "data": {
      "text/html": [
       "<div>\n",
       "<style scoped>\n",
       "    .dataframe tbody tr th:only-of-type {\n",
       "        vertical-align: middle;\n",
       "    }\n",
       "\n",
       "    .dataframe tbody tr th {\n",
       "        vertical-align: top;\n",
       "    }\n",
       "\n",
       "    .dataframe thead th {\n",
       "        text-align: right;\n",
       "    }\n",
       "</style>\n",
       "<table border=\"1\" class=\"dataframe\">\n",
       "  <thead>\n",
       "    <tr style=\"text-align: right;\">\n",
       "      <th></th>\n",
       "      <th>Contact__c</th>\n",
       "      <th>Id</th>\n",
       "      <th>Tool_Usage_Cluster__c</th>\n",
       "    </tr>\n",
       "  </thead>\n",
       "  <tbody>\n",
       "    <tr>\n",
       "      <th>0</th>\n",
       "      <td>0035w000034JtebAAC</td>\n",
       "      <td>a0x5w00000ZtjVpAAJ</td>\n",
       "      <td>a0w5w000009Q7DnAAK</td>\n",
       "    </tr>\n",
       "    <tr>\n",
       "      <th>1</th>\n",
       "      <td>0035w000034I5Y6AAK</td>\n",
       "      <td>a0x5w00000ZtjVqAAJ</td>\n",
       "      <td>a0w5w000009Q8G8AAK</td>\n",
       "    </tr>\n",
       "  </tbody>\n",
       "</table>\n",
       "</div>"
      ],
      "text/plain": [
       "           Contact__c                  Id Tool_Usage_Cluster__c\n",
       "0  0035w000034JtebAAC  a0x5w00000ZtjVpAAJ    a0w5w000009Q7DnAAK\n",
       "1  0035w000034I5Y6AAK  a0x5w00000ZtjVqAAJ    a0w5w000009Q8G8AAK"
      ]
     },
     "metadata": {},
     "output_type": "display_data"
    },
    {
     "data": {
      "text/html": [
       "<div>\n",
       "<style scoped>\n",
       "    .dataframe tbody tr th:only-of-type {\n",
       "        vertical-align: middle;\n",
       "    }\n",
       "\n",
       "    .dataframe tbody tr th {\n",
       "        vertical-align: top;\n",
       "    }\n",
       "\n",
       "    .dataframe thead th {\n",
       "        text-align: right;\n",
       "    }\n",
       "</style>\n",
       "<table border=\"1\" class=\"dataframe\">\n",
       "  <thead>\n",
       "    <tr style=\"text-align: right;\">\n",
       "      <th></th>\n",
       "      <th>Tool_Usage_Cluster__c</th>\n",
       "      <th>Organization__c</th>\n",
       "    </tr>\n",
       "  </thead>\n",
       "  <tbody>\n",
       "    <tr>\n",
       "      <th>0</th>\n",
       "      <td>a0w5w000009Q7CqAAK</td>\n",
       "      <td>a0r5w00000V42cCAAR</td>\n",
       "    </tr>\n",
       "    <tr>\n",
       "      <th>1</th>\n",
       "      <td>a0w5w000009Q7CrAAK</td>\n",
       "      <td>a0r5w00000V42cCAAR</td>\n",
       "    </tr>\n",
       "  </tbody>\n",
       "</table>\n",
       "</div>"
      ],
      "text/plain": [
       "  Tool_Usage_Cluster__c     Organization__c\n",
       "0    a0w5w000009Q7CqAAK  a0r5w00000V42cCAAR\n",
       "1    a0w5w000009Q7CrAAK  a0r5w00000V42cCAAR"
      ]
     },
     "metadata": {},
     "output_type": "display_data"
    },
    {
     "data": {
      "text/html": [
       "<div>\n",
       "<style scoped>\n",
       "    .dataframe tbody tr th:only-of-type {\n",
       "        vertical-align: middle;\n",
       "    }\n",
       "\n",
       "    .dataframe tbody tr th {\n",
       "        vertical-align: top;\n",
       "    }\n",
       "\n",
       "    .dataframe thead th {\n",
       "        text-align: right;\n",
       "    }\n",
       "</style>\n",
       "<table border=\"1\" class=\"dataframe\">\n",
       "  <thead>\n",
       "    <tr style=\"text-align: right;\">\n",
       "      <th></th>\n",
       "      <th>Id</th>\n",
       "      <th>Organization_Overwrite__c</th>\n",
       "      <th>Organization_email_derived__c</th>\n",
       "    </tr>\n",
       "  </thead>\n",
       "  <tbody>\n",
       "    <tr>\n",
       "      <th>0</th>\n",
       "      <td>0035w000031Vsp1AAC</td>\n",
       "      <td>NaN</td>\n",
       "      <td>NaN</td>\n",
       "    </tr>\n",
       "    <tr>\n",
       "      <th>1</th>\n",
       "      <td>0035w000031Vsp2AAC</td>\n",
       "      <td>NaN</td>\n",
       "      <td>a0r5w00000V42cCAAR</td>\n",
       "    </tr>\n",
       "  </tbody>\n",
       "</table>\n",
       "</div>"
      ],
      "text/plain": [
       "                   Id Organization_Overwrite__c Organization_email_derived__c\n",
       "0  0035w000031Vsp1AAC                       NaN                           NaN\n",
       "1  0035w000031Vsp2AAC                       NaN            a0r5w00000V42cCAAR"
      ]
     },
     "metadata": {},
     "output_type": "display_data"
    }
   ],
   "source": [
    "# display data used in this section\n",
    "display(sf_cluster_df.head(2))\n",
    "display(sf_cluster_asso_df.head(2))\n",
    "display(org_from_cluster_df.head(2))\n",
    "display(sf_contact_df.head(2))"
   ]
  },
  {
   "cell_type": "code",
   "execution_count": 31,
   "metadata": {},
   "outputs": [
    {
     "data": {
      "text/html": [
       "<div>\n",
       "<style scoped>\n",
       "    .dataframe tbody tr th:only-of-type {\n",
       "        vertical-align: middle;\n",
       "    }\n",
       "\n",
       "    .dataframe tbody tr th {\n",
       "        vertical-align: top;\n",
       "    }\n",
       "\n",
       "    .dataframe thead th {\n",
       "        text-align: right;\n",
       "    }\n",
       "</style>\n",
       "<table border=\"1\" class=\"dataframe\">\n",
       "  <thead>\n",
       "    <tr style=\"text-align: right;\">\n",
       "      <th></th>\n",
       "      <th>Contact__c</th>\n",
       "      <th>Tool_Usage_Cluster__c</th>\n",
       "      <th>Organization__c</th>\n",
       "      <th>Starting_Date__c</th>\n",
       "    </tr>\n",
       "  </thead>\n",
       "  <tbody>\n",
       "    <tr>\n",
       "      <th>0</th>\n",
       "      <td>0035w000034JtebAAC</td>\n",
       "      <td>a0w5w000009Q7DnAAK</td>\n",
       "      <td>a0r5w00000V42jBAAR</td>\n",
       "      <td>2014-10-16</td>\n",
       "    </tr>\n",
       "    <tr>\n",
       "      <th>1</th>\n",
       "      <td>0035w000034JtpPAAS</td>\n",
       "      <td>a0w5w000009Q7DnAAK</td>\n",
       "      <td>a0r5w00000V42jBAAR</td>\n",
       "      <td>2014-10-16</td>\n",
       "    </tr>\n",
       "  </tbody>\n",
       "</table>\n",
       "</div>"
      ],
      "text/plain": [
       "           Contact__c Tool_Usage_Cluster__c     Organization__c  \\\n",
       "0  0035w000034JtebAAC    a0w5w000009Q7DnAAK  a0r5w00000V42jBAAR   \n",
       "1  0035w000034JtpPAAS    a0w5w000009Q7DnAAK  a0r5w00000V42jBAAR   \n",
       "\n",
       "  Starting_Date__c  \n",
       "0       2014-10-16  \n",
       "1       2014-10-16  "
      ]
     },
     "execution_count": 31,
     "metadata": {},
     "output_type": "execute_result"
    }
   ],
   "source": [
    "overall_df = pd.merge(sf_cluster_asso_df, org_from_cluster_df,\\\n",
    "                      how='inner', left_on='Tool_Usage_Cluster__c', right_on='Tool_Usage_Cluster__c')\n",
    "overall_df.drop(columns='Id', inplace=True)\n",
    "\n",
    "# join cluster date\n",
    "overall_df = pd.merge(overall_df, sf_cluster_df, \\\n",
    "                     how='inner', left_on='Tool_Usage_Cluster__c', right_on='Id')\n",
    "overall_df.drop(columns='Id', inplace=True)\n",
    "\n",
    "# display\n",
    "overall_df.head(2)"
   ]
  },
  {
   "cell_type": "code",
   "execution_count": 32,
   "metadata": {},
   "outputs": [
    {
     "data": {
      "text/html": [
       "<div>\n",
       "<style scoped>\n",
       "    .dataframe tbody tr th:only-of-type {\n",
       "        vertical-align: middle;\n",
       "    }\n",
       "\n",
       "    .dataframe tbody tr th {\n",
       "        vertical-align: top;\n",
       "    }\n",
       "\n",
       "    .dataframe thead th {\n",
       "        text-align: right;\n",
       "    }\n",
       "</style>\n",
       "<table border=\"1\" class=\"dataframe\">\n",
       "  <thead>\n",
       "    <tr style=\"text-align: right;\">\n",
       "      <th></th>\n",
       "      <th>Contact__c</th>\n",
       "      <th>Organization_cluster_derived__c</th>\n",
       "    </tr>\n",
       "  </thead>\n",
       "  <tbody>\n",
       "    <tr>\n",
       "      <th>0</th>\n",
       "      <td>0035w000031Vsp8AAC</td>\n",
       "      <td>a0r5w00000V42cCAAR</td>\n",
       "    </tr>\n",
       "    <tr>\n",
       "      <th>1</th>\n",
       "      <td>0035w000031VspAAAS</td>\n",
       "      <td>a0r5w00000V42cCAAR</td>\n",
       "    </tr>\n",
       "  </tbody>\n",
       "</table>\n",
       "</div>"
      ],
      "text/plain": [
       "           Contact__c Organization_cluster_derived__c\n",
       "0  0035w000031Vsp8AAC              a0r5w00000V42cCAAR\n",
       "1  0035w000031VspAAAS              a0r5w00000V42cCAAR"
      ]
     },
     "execution_count": 32,
     "metadata": {},
     "output_type": "execute_result"
    }
   ],
   "source": [
    "# infer the organization of this cluster through majority vote\n",
    "contact_org_from_cluster_df = overall_df.groupby('Contact__c').apply(lambda x: \\\n",
    "                                                   x.sort_values(by=['Starting_Date__c'], ascending=False).head(1).Organization__c.iloc[0])\\\n",
    "                                            .dropna().reset_index(name='Organization_cluster_derived__c')\n",
    "\n",
    "# display\n",
    "contact_org_from_cluster_df.head(2)"
   ]
  },
  {
   "cell_type": "code",
   "execution_count": 33,
   "metadata": {},
   "outputs": [],
   "source": [
    "contact_org_from_cluster_df = contact_org_from_cluster_df[contact_org_from_cluster_df.Organization_cluster_derived__c!='']"
   ]
  },
  {
   "cell_type": "code",
   "execution_count": 34,
   "metadata": {},
   "outputs": [
    {
     "data": {
      "text/html": [
       "<div>\n",
       "<style scoped>\n",
       "    .dataframe tbody tr th:only-of-type {\n",
       "        vertical-align: middle;\n",
       "    }\n",
       "\n",
       "    .dataframe tbody tr th {\n",
       "        vertical-align: top;\n",
       "    }\n",
       "\n",
       "    .dataframe thead th {\n",
       "        text-align: right;\n",
       "    }\n",
       "</style>\n",
       "<table border=\"1\" class=\"dataframe\">\n",
       "  <thead>\n",
       "    <tr style=\"text-align: right;\">\n",
       "      <th></th>\n",
       "      <th>0</th>\n",
       "      <th>1</th>\n",
       "    </tr>\n",
       "  </thead>\n",
       "  <tbody>\n",
       "    <tr>\n",
       "      <th>Id</th>\n",
       "      <td>0035w000031Vsp8AAC</td>\n",
       "      <td>0035w000031VspAAAS</td>\n",
       "    </tr>\n",
       "    <tr>\n",
       "      <th>Organization_cluster_derived__c</th>\n",
       "      <td>a0r5w00000V42cCAAR</td>\n",
       "      <td>a0r5w00000V42cCAAR</td>\n",
       "    </tr>\n",
       "  </tbody>\n",
       "</table>\n",
       "</div>"
      ],
      "text/plain": [
       "                                                  0                   1\n",
       "Id                               0035w000031Vsp8AAC  0035w000031VspAAAS\n",
       "Organization_cluster_derived__c  a0r5w00000V42cCAAR  a0r5w00000V42cCAAR"
      ]
     },
     "execution_count": 34,
     "metadata": {},
     "output_type": "execute_result"
    }
   ],
   "source": [
    "# Send data to Salesforce\n",
    "\n",
    "df_sf = pd.DataFrame()\n",
    "\n",
    "# Make sure NaN and NaT values are taken care of here\n",
    "df_sf['Id']         = contact_org_from_cluster_df['Contact__c']\n",
    "df_sf['Organization_cluster_derived__c'] = contact_org_from_cluster_df['Organization_cluster_derived__c']\n",
    "\n",
    "sf_original_fields = df_sf.columns\n",
    "\n",
    "# display\n",
    "df_sf.head(2).T"
   ]
  },
  {
   "cell_type": "code",
   "execution_count": 35,
   "metadata": {},
   "outputs": [
    {
     "name": "stdout",
     "output_type": "stream",
     "text": [
      "Obtained Salesforce access token ...... True\n"
     ]
    }
   ],
   "source": [
    "# create DB2 to Salesforce API object\n",
    "db_s = DB2SalesforceAPI(sf_login_params)\n",
    "\n",
    "# specify Salesforce object ID and external ID\n",
    "db_s.object_id = 'Contact'\n",
    "db_s.external_id = 'Id'"
   ]
  },
  {
   "cell_type": "code",
   "execution_count": 36,
   "metadata": {},
   "outputs": [
    {
     "name": "stdout",
     "output_type": "stream",
     "text": [
      "[Success] Bulk job creation successful. Job ID = 7505w00000Mt5KVAAZ\n",
      "hello\n",
      "[Success] CSV upload successful. Job ID = 7505w00000Mt5KVAAZ\n",
      "[Success] Closing job successful. Job ID = 7505w00000Mt5KVAAZ\n"
     ]
    }
   ],
   "source": [
    "# send data to Salesforce\n",
    "db_s.send_data(df_sf)"
   ]
  },
  {
   "cell_type": "code",
   "execution_count": 37,
   "metadata": {},
   "outputs": [
    {
     "name": "stdout",
     "output_type": "stream",
     "text": [
      "{'apexProcessingTime': 0,\n",
      " 'apiActiveProcessingTime': 0,\n",
      " 'apiVersion': 47.0,\n",
      " 'columnDelimiter': 'COMMA',\n",
      " 'concurrencyMode': 'Parallel',\n",
      " 'contentType': 'CSV',\n",
      " 'createdById': '0055w00000ArpYvAAJ',\n",
      " 'createdDate': '2020-06-09T01:47:48.000+0000',\n",
      " 'externalIdFieldName': 'Id',\n",
      " 'id': '7505w00000Mt5KVAAZ',\n",
      " 'jobType': 'V2Ingest',\n",
      " 'lineEnding': 'LF',\n",
      " 'numberRecordsFailed': 0,\n",
      " 'numberRecordsProcessed': 0,\n",
      " 'object': 'Contact',\n",
      " 'operation': 'upsert',\n",
      " 'retries': 0,\n",
      " 'state': 'InProgress',\n",
      " 'systemModstamp': '2020-06-09T01:47:52.000+0000',\n",
      " 'totalProcessingTime': 0}\n"
     ]
    }
   ],
   "source": [
    "# check status\n",
    "from pprint import pprint\n",
    "\n",
    "pprint(db_s.check_bulk_status())"
   ]
  },
  {
   "cell_type": "markdown",
   "metadata": {},
   "source": [
    "## Determine domain by cluster by latest cluster"
   ]
  },
  {
   "cell_type": "code",
   "execution_count": 38,
   "metadata": {},
   "outputs": [
    {
     "name": "stdout",
     "output_type": "stream",
     "text": [
      "[Success] Bulk job creation successful. Job ID = 7505w00000Mt5KaAAJ\n",
      "{\"id\":\"7505w00000Mt5KaAAJ\",\"operation\":\"query\",\"object\":\"Contact\",\"createdById\":\"0055w00000ArpYvAAJ\",\"createdDate\":\"2020-06-09T01:47:52.000+0000\",\"systemModstamp\":\"2020-06-09T01:47:52.000+0000\",\"state\":\"UploadComplete\",\"concurrencyMode\":\"Parallel\",\"contentType\":\"CSV\",\"apiVersion\":47.0,\"jobType\":\"V2Query\",\"lineEnding\":\"LF\",\"columnDelimiter\":\"COMMA\",\"retries\":0,\"totalProcessingTime\":0}\n",
      "{\"id\":\"7505w00000Mt5KaAAJ\",\"operation\":\"query\",\"object\":\"Contact\",\"createdById\":\"0055w00000ArpYvAAJ\",\"createdDate\":\"2020-06-09T01:47:52.000+0000\",\"systemModstamp\":\"2020-06-09T01:47:52.000+0000\",\"state\":\"InProgress\",\"concurrencyMode\":\"Parallel\",\"contentType\":\"CSV\",\"apiVersion\":47.0,\"jobType\":\"V2Query\",\"lineEnding\":\"LF\",\"columnDelimiter\":\"COMMA\",\"numberRecordsProcessed\":0,\"retries\":0,\"totalProcessingTime\":0}\n",
      "{\"id\":\"7505w00000Mt5KaAAJ\",\"operation\":\"query\",\"object\":\"Contact\",\"createdById\":\"0055w00000ArpYvAAJ\",\"createdDate\":\"2020-06-09T01:47:52.000+0000\",\"systemModstamp\":\"2020-06-09T01:48:11.000+0000\",\"state\":\"JobComplete\",\"concurrencyMode\":\"Parallel\",\"contentType\":\"CSV\",\"apiVersion\":47.0,\"jobType\":\"V2Query\",\"lineEnding\":\"LF\",\"columnDelimiter\":\"COMMA\",\"numberRecordsProcessed\":218085,\"retries\":0,\"totalProcessingTime\":15439}\n",
      "[Success] Bulk job completed successfully.\n"
     ]
    }
   ],
   "source": [
    "# get Salesforce ID for contact-cluster associations\n",
    "sf_contact_domain_df = db_s.query_data('SELECT Id, Organization_citation_derived__c,\\\n",
    "Organization_cluster_derived__c, Organization_email_derived__c, Organization_Overwrite__c FROM Contact')"
   ]
  },
  {
   "cell_type": "code",
   "execution_count": 39,
   "metadata": {},
   "outputs": [
    {
     "data": {
      "text/html": [
       "<div>\n",
       "<style scoped>\n",
       "    .dataframe tbody tr th:only-of-type {\n",
       "        vertical-align: middle;\n",
       "    }\n",
       "\n",
       "    .dataframe tbody tr th {\n",
       "        vertical-align: top;\n",
       "    }\n",
       "\n",
       "    .dataframe thead th {\n",
       "        text-align: right;\n",
       "    }\n",
       "</style>\n",
       "<table border=\"1\" class=\"dataframe\">\n",
       "  <thead>\n",
       "    <tr style=\"text-align: right;\">\n",
       "      <th></th>\n",
       "      <th>0</th>\n",
       "      <th>1</th>\n",
       "    </tr>\n",
       "  </thead>\n",
       "  <tbody>\n",
       "    <tr>\n",
       "      <th>Id</th>\n",
       "      <td>0035w000031Vsp1AAC</td>\n",
       "      <td>0035w000031Vsp2AAC</td>\n",
       "    </tr>\n",
       "    <tr>\n",
       "      <th>Organization_Overwrite__c</th>\n",
       "      <td>NaN</td>\n",
       "      <td>NaN</td>\n",
       "    </tr>\n",
       "    <tr>\n",
       "      <th>Organization_citation_derived__c</th>\n",
       "      <td>NaN</td>\n",
       "      <td>NaN</td>\n",
       "    </tr>\n",
       "    <tr>\n",
       "      <th>Organization_cluster_derived__c</th>\n",
       "      <td>NaN</td>\n",
       "      <td>NaN</td>\n",
       "    </tr>\n",
       "    <tr>\n",
       "      <th>Organization_email_derived__c</th>\n",
       "      <td>NaN</td>\n",
       "      <td>a0r5w00000V42cCAAR</td>\n",
       "    </tr>\n",
       "  </tbody>\n",
       "</table>\n",
       "</div>"
      ],
      "text/plain": [
       "                                                   0                   1\n",
       "Id                                0035w000031Vsp1AAC  0035w000031Vsp2AAC\n",
       "Organization_Overwrite__c                        NaN                 NaN\n",
       "Organization_citation_derived__c                 NaN                 NaN\n",
       "Organization_cluster_derived__c                  NaN                 NaN\n",
       "Organization_email_derived__c                    NaN  a0r5w00000V42cCAAR"
      ]
     },
     "metadata": {},
     "output_type": "display_data"
    }
   ],
   "source": [
    "# display\n",
    "display(sf_contact_domain_df.head(2).T)"
   ]
  },
  {
   "cell_type": "code",
   "execution_count": 40,
   "metadata": {},
   "outputs": [
    {
     "data": {
      "text/html": [
       "<div>\n",
       "<style scoped>\n",
       "    .dataframe tbody tr th:only-of-type {\n",
       "        vertical-align: middle;\n",
       "    }\n",
       "\n",
       "    .dataframe tbody tr th {\n",
       "        vertical-align: top;\n",
       "    }\n",
       "\n",
       "    .dataframe thead th {\n",
       "        text-align: right;\n",
       "    }\n",
       "</style>\n",
       "<table border=\"1\" class=\"dataframe\">\n",
       "  <thead>\n",
       "    <tr style=\"text-align: right;\">\n",
       "      <th></th>\n",
       "      <th>1</th>\n",
       "      <th>2</th>\n",
       "      <th>3</th>\n",
       "      <th>4</th>\n",
       "    </tr>\n",
       "  </thead>\n",
       "  <tbody>\n",
       "    <tr>\n",
       "      <th>Id</th>\n",
       "      <td>0035w000031Vsp2AAC</td>\n",
       "      <td>0035w000031Vsp3AAC</td>\n",
       "      <td>0035w000031Vsp4AAC</td>\n",
       "      <td>0035w000031Vsp5AAC</td>\n",
       "    </tr>\n",
       "    <tr>\n",
       "      <th>Organization_Overwrite__c</th>\n",
       "      <td>NaN</td>\n",
       "      <td>NaN</td>\n",
       "      <td>NaN</td>\n",
       "      <td>NaN</td>\n",
       "    </tr>\n",
       "    <tr>\n",
       "      <th>Organization_citation_derived__c</th>\n",
       "      <td>NaN</td>\n",
       "      <td>NaN</td>\n",
       "      <td>NaN</td>\n",
       "      <td>NaN</td>\n",
       "    </tr>\n",
       "    <tr>\n",
       "      <th>Organization_cluster_derived__c</th>\n",
       "      <td>NaN</td>\n",
       "      <td>NaN</td>\n",
       "      <td>NaN</td>\n",
       "      <td>NaN</td>\n",
       "    </tr>\n",
       "    <tr>\n",
       "      <th>Organization_email_derived__c</th>\n",
       "      <td>a0r5w00000V42cCAAR</td>\n",
       "      <td>a0r5w00000V42cCAAR</td>\n",
       "      <td>a0r5w00000V42cCAAR</td>\n",
       "      <td>a0r5w00000V42cCAAR</td>\n",
       "    </tr>\n",
       "    <tr>\n",
       "      <th>Organization_composite__c</th>\n",
       "      <td>a0r5w00000V42cCAAR</td>\n",
       "      <td>a0r5w00000V42cCAAR</td>\n",
       "      <td>a0r5w00000V42cCAAR</td>\n",
       "      <td>a0r5w00000V42cCAAR</td>\n",
       "    </tr>\n",
       "  </tbody>\n",
       "</table>\n",
       "</div>"
      ],
      "text/plain": [
       "                                                   1                   2  \\\n",
       "Id                                0035w000031Vsp2AAC  0035w000031Vsp3AAC   \n",
       "Organization_Overwrite__c                        NaN                 NaN   \n",
       "Organization_citation_derived__c                 NaN                 NaN   \n",
       "Organization_cluster_derived__c                  NaN                 NaN   \n",
       "Organization_email_derived__c     a0r5w00000V42cCAAR  a0r5w00000V42cCAAR   \n",
       "Organization_composite__c         a0r5w00000V42cCAAR  a0r5w00000V42cCAAR   \n",
       "\n",
       "                                                   3                   4  \n",
       "Id                                0035w000031Vsp4AAC  0035w000031Vsp5AAC  \n",
       "Organization_Overwrite__c                        NaN                 NaN  \n",
       "Organization_citation_derived__c                 NaN                 NaN  \n",
       "Organization_cluster_derived__c                  NaN                 NaN  \n",
       "Organization_email_derived__c     a0r5w00000V42cCAAR  a0r5w00000V42cCAAR  \n",
       "Organization_composite__c         a0r5w00000V42cCAAR  a0r5w00000V42cCAAR  "
      ]
     },
     "execution_count": 40,
     "metadata": {},
     "output_type": "execute_result"
    }
   ],
   "source": [
    "def calc_final_domain(this_row):\n",
    "    \n",
    "    # if overwrite exists\n",
    "    if this_row.Organization_Overwrite__c != '':\n",
    "        return this_row.Organization_Overwrite__c\n",
    "    \n",
    "    # if citation exists\n",
    "    if this_row.Organization_citation_derived__c != '':\n",
    "        return this_row.Organization_citation_derived__c\n",
    "    \n",
    "    # if email exists\n",
    "    if this_row.Organization_email_derived__c != '':\n",
    "        return this_row.Organization_email_derived__c\n",
    "    \n",
    "    # if cluster exists\n",
    "    if this_row.Organization_cluster_derived__c != '':\n",
    "        return this_row.Organization_cluster_derived__c\n",
    "    \n",
    "    return None\n",
    "\n",
    "\n",
    "sf_contact_domain_df['Organization_composite__c'] = sf_contact_domain_df.fillna('').apply(calc_final_domain, axis=1)\n",
    "\n",
    "sf_contact_domain_df = sf_contact_domain_df[sf_contact_domain_df['Organization_composite__c'].notnull()]\n",
    "\n",
    "# display\n",
    "sf_contact_domain_df.head(4).T"
   ]
  },
  {
   "cell_type": "code",
   "execution_count": 41,
   "metadata": {},
   "outputs": [
    {
     "data": {
      "text/html": [
       "<div>\n",
       "<style scoped>\n",
       "    .dataframe tbody tr th:only-of-type {\n",
       "        vertical-align: middle;\n",
       "    }\n",
       "\n",
       "    .dataframe tbody tr th {\n",
       "        vertical-align: top;\n",
       "    }\n",
       "\n",
       "    .dataframe thead th {\n",
       "        text-align: right;\n",
       "    }\n",
       "</style>\n",
       "<table border=\"1\" class=\"dataframe\">\n",
       "  <thead>\n",
       "    <tr style=\"text-align: right;\">\n",
       "      <th></th>\n",
       "      <th>1</th>\n",
       "      <th>2</th>\n",
       "    </tr>\n",
       "  </thead>\n",
       "  <tbody>\n",
       "    <tr>\n",
       "      <th>Id</th>\n",
       "      <td>0035w000031Vsp2AAC</td>\n",
       "      <td>0035w000031Vsp3AAC</td>\n",
       "    </tr>\n",
       "    <tr>\n",
       "      <th>Organization_composite__c</th>\n",
       "      <td>a0r5w00000V42cCAAR</td>\n",
       "      <td>a0r5w00000V42cCAAR</td>\n",
       "    </tr>\n",
       "  </tbody>\n",
       "</table>\n",
       "</div>"
      ],
      "text/plain": [
       "                                            1                   2\n",
       "Id                         0035w000031Vsp2AAC  0035w000031Vsp3AAC\n",
       "Organization_composite__c  a0r5w00000V42cCAAR  a0r5w00000V42cCAAR"
      ]
     },
     "execution_count": 41,
     "metadata": {},
     "output_type": "execute_result"
    }
   ],
   "source": [
    "# Send data to Salesforce\n",
    "\n",
    "df_sf = pd.DataFrame()\n",
    "\n",
    "# Make sure NaN and NaT values are taken care of here\n",
    "df_sf['Id']         = sf_contact_domain_df['Id']\n",
    "df_sf['Organization_composite__c'] = sf_contact_domain_df['Organization_composite__c']\n",
    "\n",
    "sf_original_fields = df_sf.columns\n",
    "\n",
    "# display\n",
    "df_sf.head(2).T"
   ]
  },
  {
   "cell_type": "code",
   "execution_count": 42,
   "metadata": {},
   "outputs": [
    {
     "name": "stdout",
     "output_type": "stream",
     "text": [
      "Obtained Salesforce access token ...... True\n"
     ]
    }
   ],
   "source": [
    "# create DB2 to Salesforce API object\n",
    "db_s = DB2SalesforceAPI(sf_login_params)\n",
    "\n",
    "# specify Salesforce object ID and external ID\n",
    "db_s.object_id = 'Contact'\n",
    "db_s.external_id = 'Id'"
   ]
  },
  {
   "cell_type": "code",
   "execution_count": 43,
   "metadata": {},
   "outputs": [
    {
     "name": "stdout",
     "output_type": "stream",
     "text": [
      "[Success] Bulk job creation successful. Job ID = 7505w00000Mt5KkAAJ\n",
      "hello\n",
      "[Success] CSV upload successful. Job ID = 7505w00000Mt5KkAAJ\n",
      "[Success] Closing job successful. Job ID = 7505w00000Mt5KkAAJ\n"
     ]
    }
   ],
   "source": [
    "# send data to Salesforce\n",
    "db_s.send_data(df_sf)"
   ]
  },
  {
   "cell_type": "code",
   "execution_count": 44,
   "metadata": {},
   "outputs": [
    {
     "name": "stdout",
     "output_type": "stream",
     "text": [
      "{'apexProcessingTime': 0,\n",
      " 'apiActiveProcessingTime': 0,\n",
      " 'apiVersion': 47.0,\n",
      " 'columnDelimiter': 'COMMA',\n",
      " 'concurrencyMode': 'Parallel',\n",
      " 'contentType': 'CSV',\n",
      " 'createdById': '0055w00000ArpYvAAJ',\n",
      " 'createdDate': '2020-06-09T01:48:37.000+0000',\n",
      " 'externalIdFieldName': 'Id',\n",
      " 'id': '7505w00000Mt5KkAAJ',\n",
      " 'jobType': 'V2Ingest',\n",
      " 'lineEnding': 'LF',\n",
      " 'numberRecordsFailed': 0,\n",
      " 'numberRecordsProcessed': 0,\n",
      " 'object': 'Contact',\n",
      " 'operation': 'upsert',\n",
      " 'retries': 0,\n",
      " 'state': 'InProgress',\n",
      " 'systemModstamp': '2020-06-09T01:48:43.000+0000',\n",
      " 'totalProcessingTime': 0}\n"
     ]
    }
   ],
   "source": [
    "# check status\n",
    "from pprint import pprint\n",
    "\n",
    "pprint(db_s.check_bulk_status())"
   ]
  },
  {
   "cell_type": "code",
   "execution_count": null,
   "metadata": {},
   "outputs": [],
   "source": []
  }
 ],
 "metadata": {
  "celltoolbar": "Tags",
  "kernelspec": {
   "display_name": "Python 3",
   "language": "python",
   "name": "python3"
  },
  "language_info": {
   "codemirror_mode": {
    "name": "ipython",
    "version": 3
   },
   "file_extension": ".py",
   "mimetype": "text/x-python",
   "name": "python",
   "nbconvert_exporter": "python",
   "pygments_lexer": "ipython3",
   "version": "3.7.6"
  }
 },
 "nbformat": 4,
 "nbformat_minor": 4
}
