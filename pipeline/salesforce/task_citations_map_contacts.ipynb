{
 "cells": [
  {
   "cell_type": "markdown",
   "metadata": {
    "tags": [
     "papermill-error-cell-tag"
    ]
   },
   "source": [
    "<span style=\"color:red; font-family:Helvetica Neue, Helvetica, Arial, sans-serif; font-size:2em;\">An Exception was encountered at '<a href=\"#papermill-error-cell\">In [14]</a>'.</span>"
   ]
  },
  {
   "cell_type": "markdown",
   "metadata": {
    "papermill": {
     "duration": 0.054529,
     "end_time": "2021-01-21T06:30:34.811441",
     "exception": false,
     "start_time": "2021-01-21T06:30:34.756912",
     "status": "completed"
    },
    "tags": []
   },
   "source": [
    "# DB2-Salesforce connector: Citation mapping to users"
   ]
  },
  {
   "cell_type": "code",
   "execution_count": 1,
   "metadata": {
    "execution": {
     "iopub.execute_input": "2021-01-21T06:30:34.961390Z",
     "iopub.status.busy": "2021-01-21T06:30:34.960254Z",
     "iopub.status.idle": "2021-01-21T06:30:34.961938Z",
     "shell.execute_reply": "2021-01-21T06:30:34.960762Z"
    },
    "papermill": {
     "duration": 0.109568,
     "end_time": "2021-01-21T06:30:34.962075",
     "exception": false,
     "start_time": "2021-01-21T06:30:34.852507",
     "status": "completed"
    },
    "tags": [
     "parameters"
    ]
   },
   "outputs": [],
   "source": [
    "# API settings\n",
    "api_url = '/services/data/v43.0/sobjects'\n",
    "external_id = 'Name'\n",
    "object_id = 'contact_citation_asso__c'\n",
    "\n",
    "# login credentials\n",
    "sql_login_params = {\"username\": \"wang2506_ro\", \"password\": \"fnVnwcCS7iT45EsA\"}\n",
    "sf_login_params = {\n",
    "    \"grant_type\": \"password\",\n",
    "    \"client_id\": \"3MVG95jctIhbyCppj0SNJ75IsZ1y8UPGZtSNF4j8FNVXz.De8Lu4jHm3rjRosAtsHy6qjHx3i4S_QbQzvBePG\",\n",
    "    \"client_secret\": \"D1623C6D3607D4FC8004B92C761DFB6C1F70CCD129C5501E357028DFA00F5764\",\n",
    "    \"username\":\"wang2506@purdue.edu\",\n",
    "    \"password\":\"purdue99272844vp8Z6qq0teuPQmirGaaPAt4\",     \n",
    "} \n",
    "    #\"username\": \"wang159-4j1v@force.com\",\n",
    "    #\"password\": \"napoleon0eZ3PQpQqE3C3z4wWqEqKGhQ8\","
   ]
  },
  {
   "cell_type": "code",
   "execution_count": 2,
   "metadata": {
    "execution": {
     "iopub.execute_input": "2021-01-21T06:30:35.199674Z",
     "iopub.status.busy": "2021-01-21T06:30:35.199070Z",
     "iopub.status.idle": "2021-01-21T06:30:40.732192Z",
     "shell.execute_reply": "2021-01-21T06:30:40.731689Z"
    },
    "papermill": {
     "duration": 5.682217,
     "end_time": "2021-01-21T06:30:40.732331",
     "exception": false,
     "start_time": "2021-01-21T06:30:35.050114",
     "status": "completed"
    },
    "tags": []
   },
   "outputs": [],
   "source": [
    "import sys\n",
    "sys.path.append('/home/users/wang2506/nanohub_salesforce_integ/salesforce')\n",
    "    \n",
    "import pandas as pd\n",
    "import time\n",
    "import datetime\n",
    "\n",
    "from DB2SalesforceAPI import DB2SalesforceAPI"
   ]
  },
  {
   "cell_type": "markdown",
   "metadata": {
    "papermill": {
     "duration": 0.027134,
     "end_time": "2021-01-21T06:30:40.805177",
     "exception": false,
     "start_time": "2021-01-21T06:30:40.778043",
     "status": "completed"
    },
    "tags": []
   },
   "source": [
    "## Obtain tool information from DB2 "
   ]
  },
  {
   "cell_type": "code",
   "execution_count": 3,
   "metadata": {
    "execution": {
     "iopub.execute_input": "2021-01-21T06:30:40.864410Z",
     "iopub.status.busy": "2021-01-21T06:30:40.863792Z",
     "iopub.status.idle": "2021-01-21T06:30:45.579894Z",
     "shell.execute_reply": "2021-01-21T06:30:45.573297Z"
    },
    "papermill": {
     "duration": 4.753466,
     "end_time": "2021-01-21T06:30:45.580043",
     "exception": false,
     "start_time": "2021-01-21T06:30:40.826577",
     "status": "completed"
    },
    "tags": []
   },
   "outputs": [],
   "source": [
    "# connect with DB2\n",
    "import sqlalchemy as sql\n",
    "\n",
    "engine = sql.create_engine('mysql+pymysql://%s:%s@127.0.0.1/nanohub' \\\n",
    "                                               %(sql_login_params['username'], sql_login_params['password']))\n",
    "\n",
    "# Citations\n",
    "sql_query = \"select * from jos_citations\"\n",
    "\n",
    "citations_df = pd.read_sql_query(sql_query, engine)\n",
    "\n",
    "# Citation authors\n",
    "sql_query = \"select * from jos_citations_authors;\"\n",
    "\n",
    "authors_df = pd.read_sql_query(sql_query, engine)"
   ]
  },
  {
   "cell_type": "code",
   "execution_count": 4,
   "metadata": {
    "execution": {
     "iopub.execute_input": "2021-01-21T06:30:45.651549Z",
     "iopub.status.busy": "2021-01-21T06:30:45.650977Z",
     "iopub.status.idle": "2021-01-21T06:30:45.663388Z",
     "shell.execute_reply": "2021-01-21T06:30:45.662918Z"
    },
    "papermill": {
     "duration": 0.052121,
     "end_time": "2021-01-21T06:30:45.663519",
     "exception": false,
     "start_time": "2021-01-21T06:30:45.611398",
     "status": "completed"
    },
    "tags": []
   },
   "outputs": [],
   "source": [
    "# replace N/A and empty values with None\n",
    "authors_df.organization.replace('N/A', '', inplace=True)"
   ]
  },
  {
   "cell_type": "code",
   "execution_count": 5,
   "metadata": {
    "execution": {
     "iopub.execute_input": "2021-01-21T06:30:45.789081Z",
     "iopub.status.busy": "2021-01-21T06:30:45.788032Z",
     "iopub.status.idle": "2021-01-21T06:30:45.790558Z",
     "shell.execute_reply": "2021-01-21T06:30:45.788558Z"
    },
    "papermill": {
     "duration": 0.107241,
     "end_time": "2021-01-21T06:30:45.790684",
     "exception": false,
     "start_time": "2021-01-21T06:30:45.683443",
     "status": "completed"
    },
    "tags": []
   },
   "outputs": [
    {
     "data": {
      "text/plain": [
       "Index(['id', 'cid', 'author', 'authorid', 'uidNumber', 'ordering', 'givenName',\n",
       "       'middleName', 'surname', 'organization', 'org_dept', 'orgtype',\n",
       "       'countryresident', 'email', 'ip', 'host', 'countrySHORT', 'countryLONG',\n",
       "       'ipREGION', 'ipCITY', 'ipLATITUDE', 'ipLONGITUDE', 'in_network',\n",
       "       'orcid', 'research_id', 'gscholar_id', 'scopus_id', 'researchgate_id',\n",
       "       'notes'],\n",
       "      dtype='object')"
      ]
     },
     "execution_count": 5,
     "metadata": {},
     "output_type": "execute_result"
    }
   ],
   "source": [
    "authors_df.columns"
   ]
  },
  {
   "cell_type": "code",
   "execution_count": 6,
   "metadata": {
    "execution": {
     "iopub.execute_input": "2021-01-21T06:30:45.898718Z",
     "iopub.status.busy": "2021-01-21T06:30:45.898145Z",
     "iopub.status.idle": "2021-01-21T06:30:45.932074Z",
     "shell.execute_reply": "2021-01-21T06:30:45.931619Z"
    },
    "papermill": {
     "duration": 0.118148,
     "end_time": "2021-01-21T06:30:45.932224",
     "exception": false,
     "start_time": "2021-01-21T06:30:45.814076",
     "status": "completed"
    },
    "tags": []
   },
   "outputs": [
    {
     "data": {
      "text/html": [
       "<div>\n",
       "<style scoped>\n",
       "    .dataframe tbody tr th:only-of-type {\n",
       "        vertical-align: middle;\n",
       "    }\n",
       "\n",
       "    .dataframe tbody tr th {\n",
       "        vertical-align: top;\n",
       "    }\n",
       "\n",
       "    .dataframe thead th {\n",
       "        text-align: right;\n",
       "    }\n",
       "</style>\n",
       "<table border=\"1\" class=\"dataframe\">\n",
       "  <thead>\n",
       "    <tr style=\"text-align: right;\">\n",
       "      <th></th>\n",
       "      <th>citation_ID</th>\n",
       "      <th>nanohub_user_id</th>\n",
       "      <th>author_id</th>\n",
       "      <th>organization</th>\n",
       "      <th>orcid</th>\n",
       "      <th>research_id</th>\n",
       "      <th>gscholar_id</th>\n",
       "    </tr>\n",
       "  </thead>\n",
       "  <tbody>\n",
       "    <tr>\n",
       "      <th>0</th>\n",
       "      <td>10000003</td>\n",
       "      <td>10676</td>\n",
       "      <td>4613</td>\n",
       "      <td>Purdue University</td>\n",
       "      <td>None</td>\n",
       "      <td>None</td>\n",
       "      <td>None</td>\n",
       "    </tr>\n",
       "    <tr>\n",
       "      <th>1</th>\n",
       "      <td>10000003</td>\n",
       "      <td>0</td>\n",
       "      <td>4614</td>\n",
       "      <td>Purdue University</td>\n",
       "      <td>None</td>\n",
       "      <td>None</td>\n",
       "      <td>None</td>\n",
       "    </tr>\n",
       "    <tr>\n",
       "      <th>2</th>\n",
       "      <td>10000003</td>\n",
       "      <td>37033</td>\n",
       "      <td>4615</td>\n",
       "      <td>Purdue University</td>\n",
       "      <td>None</td>\n",
       "      <td>None</td>\n",
       "      <td>None</td>\n",
       "    </tr>\n",
       "  </tbody>\n",
       "</table>\n",
       "</div>"
      ],
      "text/plain": [
       "   citation_ID  nanohub_user_id  author_id       organization orcid  \\\n",
       "0     10000003            10676       4613  Purdue University  None   \n",
       "1     10000003                0       4614  Purdue University  None   \n",
       "2     10000003            37033       4615  Purdue University  None   \n",
       "\n",
       "  research_id gscholar_id  \n",
       "0        None        None  \n",
       "1        None        None  \n",
       "2        None        None  "
      ]
     },
     "execution_count": 6,
     "metadata": {},
     "output_type": "execute_result"
    }
   ],
   "source": [
    "# combining authors and citations\n",
    "ac_df = pd.merge(citations_df[['id']], authors_df[['cid', 'uidNumber','id','organization','orcid','research_id','gscholar_id']], how='inner',\\\n",
    "                 left_on='id', right_on='cid', suffixes=['_c', '_a'])\\\n",
    "                .drop(columns='id_c')\n",
    "\n",
    "ac_df.rename(columns={'cid':'citation_ID', 'uidNumber':'nanohub_user_id', 'id_a':'author_id'}, inplace=True)\n",
    "\n",
    "# display\n",
    "ac_df.head(3)"
   ]
  },
  {
   "cell_type": "code",
   "execution_count": 7,
   "metadata": {
    "execution": {
     "iopub.execute_input": "2021-01-21T06:30:46.018372Z",
     "iopub.status.busy": "2021-01-21T06:30:46.017782Z",
     "iopub.status.idle": "2021-01-21T06:34:15.441887Z",
     "shell.execute_reply": "2021-01-21T06:34:15.436340Z"
    },
    "papermill": {
     "duration": 209.478758,
     "end_time": "2021-01-21T06:34:15.442067",
     "exception": false,
     "start_time": "2021-01-21T06:30:45.963309",
     "status": "completed"
    },
    "tags": []
   },
   "outputs": [],
   "source": [
    "# Obtain company domain information from DB2\n",
    "domain_df = pd.read_sql_query(\"select name as domain_name, domain, industry, `size range` as size, country \\\n",
    "from wang159_myrmekes.companies_email_domain\", engine)\n",
    "\n",
    "# make sure domain is unique and drop NaN\n",
    "domain_df = domain_df.drop_duplicates(subset='domain', keep='first')"
   ]
  },
  {
   "cell_type": "code",
   "execution_count": 8,
   "metadata": {
    "execution": {
     "iopub.execute_input": "2021-01-21T06:34:15.524295Z",
     "iopub.status.busy": "2021-01-21T06:34:15.523697Z",
     "iopub.status.idle": "2021-01-21T06:34:28.739628Z",
     "shell.execute_reply": "2021-01-21T06:34:28.739122Z"
    },
    "papermill": {
     "duration": 13.277199,
     "end_time": "2021-01-21T06:34:28.739767",
     "exception": false,
     "start_time": "2021-01-21T06:34:15.462568",
     "status": "completed"
    },
    "tags": []
   },
   "outputs": [],
   "source": [
    "import nltk\n",
    "#nltk.download('stopwords')\n",
    "\n",
    "from nltk.corpus import stopwords\n",
    "s_words = stopwords.words('english')"
   ]
  },
  {
   "cell_type": "code",
   "execution_count": 9,
   "metadata": {
    "execution": {
     "iopub.execute_input": "2021-01-21T06:34:28.840845Z",
     "iopub.status.busy": "2021-01-21T06:34:28.840265Z",
     "iopub.status.idle": "2021-01-21T06:34:28.851483Z",
     "shell.execute_reply": "2021-01-21T06:34:28.851009Z"
    },
    "papermill": {
     "duration": 0.060898,
     "end_time": "2021-01-21T06:34:28.851633",
     "exception": false,
     "start_time": "2021-01-21T06:34:28.790735",
     "status": "completed"
    },
    "tags": []
   },
   "outputs": [],
   "source": [
    "import re\n",
    "\n",
    "def clean_domain(this_domain_name):\n",
    "    \n",
    "    if not this_domain_name:\n",
    "        return None\n",
    "    \n",
    "    # Replace all non-alphanumeric characters with space\n",
    "    this_domain_name = re.sub(\"[^0-9a-zA-Z]+\", \" \", this_domain_name.lower())\n",
    "    name_list = this_domain_name.split(' ')\n",
    "        \n",
    "    # remove all stop words\n",
    "    name_list = ['' if x in s_words else x for x in name_list]\n",
    "    \n",
    "    return set(filter(None, name_list))"
   ]
  },
  {
   "cell_type": "code",
   "execution_count": 10,
   "metadata": {
    "execution": {
     "iopub.execute_input": "2021-01-21T06:34:29.077949Z",
     "iopub.status.busy": "2021-01-21T06:34:29.077373Z",
     "iopub.status.idle": "2021-01-21T06:38:29.507635Z",
     "shell.execute_reply": "2021-01-21T06:38:29.508563Z"
    },
    "papermill": {
     "duration": 240.642913,
     "end_time": "2021-01-21T06:38:29.523206",
     "exception": false,
     "start_time": "2021-01-21T06:34:28.880293",
     "status": "completed"
    },
    "tags": []
   },
   "outputs": [],
   "source": [
    "# clean domain name\n",
    "domain_df['domain_cleaned_set'] = domain_df.domain_name.apply(clean_domain)\n",
    "\n",
    "# hash cleaned domain name\n",
    "domain_df['domain_cleaned_hash'] = domain_df['domain_cleaned_set'].apply(lambda x: '-'.join(sorted(list(x))) if x else None)"
   ]
  },
  {
   "cell_type": "code",
   "execution_count": 11,
   "metadata": {
    "execution": {
     "iopub.execute_input": "2021-01-21T06:38:30.046093Z",
     "iopub.status.busy": "2021-01-21T06:38:30.045478Z",
     "iopub.status.idle": "2021-01-21T06:38:32.612013Z",
     "shell.execute_reply": "2021-01-21T06:38:32.610715Z"
    },
    "papermill": {
     "duration": 3.017443,
     "end_time": "2021-01-21T06:38:32.612142",
     "exception": false,
     "start_time": "2021-01-21T06:38:29.594699",
     "status": "completed"
    },
    "tags": []
   },
   "outputs": [],
   "source": [
    "# clean domain name\n",
    "ac_df['domain_cleaned_set'] = ac_df.organization.apply(clean_domain)\n",
    "\n",
    "# hash cleaned domain name\n",
    "ac_df['domain_cleaned_hash'] = ac_df['domain_cleaned_set'].apply(lambda x: '-'.join(sorted(list(x))) if x else None)"
   ]
  },
  {
   "cell_type": "code",
   "execution_count": 12,
   "metadata": {
    "execution": {
     "iopub.execute_input": "2021-01-21T06:38:32.815933Z",
     "iopub.status.busy": "2021-01-21T06:38:32.799157Z",
     "iopub.status.idle": "2021-01-21T06:38:56.872930Z",
     "shell.execute_reply": "2021-01-21T06:38:56.873394Z"
    },
    "papermill": {
     "duration": 24.240054,
     "end_time": "2021-01-21T06:38:56.873600",
     "exception": false,
     "start_time": "2021-01-21T06:38:32.633546",
     "status": "completed"
    },
    "tags": []
   },
   "outputs": [],
   "source": [
    "# get domain subset that contains domain_cleaned_hash in authors_df\n",
    "domain_subset_df = domain_df[domain_df.domain_cleaned_hash.isin(ac_df.domain_cleaned_hash.unique())]\\\n",
    "                                        [['domain', 'domain_cleaned_hash']]\n",
    "domain_subset_df = domain_subset_df[domain_subset_df.domain.notnull()&domain_subset_df.domain_cleaned_hash.notnull()]\n",
    "\n",
    "domain_subset_all_df = domain_subset_df.rename(columns={'domain_cleaned_hash':'domain_hash'}).drop_duplicates()"
   ]
  },
  {
   "cell_type": "code",
   "execution_count": 13,
   "metadata": {
    "execution": {
     "iopub.execute_input": "2021-01-21T06:38:57.053749Z",
     "iopub.status.busy": "2021-01-21T06:38:57.053149Z",
     "iopub.status.idle": "2021-01-21T06:38:57.790359Z",
     "shell.execute_reply": "2021-01-21T06:38:57.790787Z"
    },
    "papermill": {
     "duration": 0.897343,
     "end_time": "2021-01-21T06:38:57.790944",
     "exception": false,
     "start_time": "2021-01-21T06:38:56.893601",
     "status": "completed"
    },
    "tags": []
   },
   "outputs": [
    {
     "data": {
      "text/html": [
       "<div>\n",
       "<style scoped>\n",
       "    .dataframe tbody tr th:only-of-type {\n",
       "        vertical-align: middle;\n",
       "    }\n",
       "\n",
       "    .dataframe tbody tr th {\n",
       "        vertical-align: top;\n",
       "    }\n",
       "\n",
       "    .dataframe thead th {\n",
       "        text-align: right;\n",
       "    }\n",
       "</style>\n",
       "<table border=\"1\" class=\"dataframe\">\n",
       "  <thead>\n",
       "    <tr style=\"text-align: right;\">\n",
       "      <th></th>\n",
       "      <th>7823</th>\n",
       "      <th>2892</th>\n",
       "      <th>6043</th>\n",
       "      <th>4646</th>\n",
       "      <th>16264</th>\n",
       "    </tr>\n",
       "  </thead>\n",
       "  <tbody>\n",
       "    <tr>\n",
       "      <th>citation_ID</th>\n",
       "      <td>2967</td>\n",
       "      <td>10000671</td>\n",
       "      <td>10001464</td>\n",
       "      <td>10001156</td>\n",
       "      <td>3186</td>\n",
       "    </tr>\n",
       "    <tr>\n",
       "      <th>nanohub_user_id</th>\n",
       "      <td>24835</td>\n",
       "      <td>0</td>\n",
       "      <td>3482</td>\n",
       "      <td>0</td>\n",
       "      <td>0</td>\n",
       "    </tr>\n",
       "    <tr>\n",
       "      <th>author_id</th>\n",
       "      <td>14183757</td>\n",
       "      <td>7468</td>\n",
       "      <td>10593</td>\n",
       "      <td>9196</td>\n",
       "      <td>14176233</td>\n",
       "    </tr>\n",
       "    <tr>\n",
       "      <th>organization</th>\n",
       "      <td>Purdue University</td>\n",
       "      <td>Purdue University</td>\n",
       "      <td>Purdue University</td>\n",
       "      <td>Purdue University</td>\n",
       "      <td>Synopsys Inc</td>\n",
       "    </tr>\n",
       "    <tr>\n",
       "      <th>orcid</th>\n",
       "      <td></td>\n",
       "      <td>None</td>\n",
       "      <td>None</td>\n",
       "      <td>None</td>\n",
       "      <td></td>\n",
       "    </tr>\n",
       "    <tr>\n",
       "      <th>research_id</th>\n",
       "      <td></td>\n",
       "      <td>None</td>\n",
       "      <td>None</td>\n",
       "      <td>None</td>\n",
       "      <td></td>\n",
       "    </tr>\n",
       "    <tr>\n",
       "      <th>gscholar_id</th>\n",
       "      <td></td>\n",
       "      <td>None</td>\n",
       "      <td>None</td>\n",
       "      <td>None</td>\n",
       "      <td></td>\n",
       "    </tr>\n",
       "    <tr>\n",
       "      <th>domain_cleaned_set</th>\n",
       "      <td>{university, purdue}</td>\n",
       "      <td>{university, purdue}</td>\n",
       "      <td>{university, purdue}</td>\n",
       "      <td>{university, purdue}</td>\n",
       "      <td>{inc, synopsys}</td>\n",
       "    </tr>\n",
       "    <tr>\n",
       "      <th>domain_cleaned_hash</th>\n",
       "      <td>purdue-university</td>\n",
       "      <td>purdue-university</td>\n",
       "      <td>purdue-university</td>\n",
       "      <td>purdue-university</td>\n",
       "      <td>inc-synopsys</td>\n",
       "    </tr>\n",
       "    <tr>\n",
       "      <th>domain_by_citation</th>\n",
       "      <td>purdue.edu</td>\n",
       "      <td>purdue.edu</td>\n",
       "      <td>purdue.edu</td>\n",
       "      <td>purdue.edu</td>\n",
       "      <td>NaN</td>\n",
       "    </tr>\n",
       "  </tbody>\n",
       "</table>\n",
       "</div>"
      ],
      "text/plain": [
       "                                    7823                  2892   \\\n",
       "citation_ID                          2967              10000671   \n",
       "nanohub_user_id                     24835                     0   \n",
       "author_id                        14183757                  7468   \n",
       "organization            Purdue University     Purdue University   \n",
       "orcid                                                      None   \n",
       "research_id                                                None   \n",
       "gscholar_id                                                None   \n",
       "domain_cleaned_set   {university, purdue}  {university, purdue}   \n",
       "domain_cleaned_hash     purdue-university     purdue-university   \n",
       "domain_by_citation             purdue.edu            purdue.edu   \n",
       "\n",
       "                                    6043                  4646   \\\n",
       "citation_ID                      10001464              10001156   \n",
       "nanohub_user_id                      3482                     0   \n",
       "author_id                           10593                  9196   \n",
       "organization            Purdue University     Purdue University   \n",
       "orcid                                None                  None   \n",
       "research_id                          None                  None   \n",
       "gscholar_id                          None                  None   \n",
       "domain_cleaned_set   {university, purdue}  {university, purdue}   \n",
       "domain_cleaned_hash     purdue-university     purdue-university   \n",
       "domain_by_citation             purdue.edu            purdue.edu   \n",
       "\n",
       "                               16264  \n",
       "citation_ID                     3186  \n",
       "nanohub_user_id                    0  \n",
       "author_id                   14176233  \n",
       "organization            Synopsys Inc  \n",
       "orcid                                 \n",
       "research_id                           \n",
       "gscholar_id                           \n",
       "domain_cleaned_set   {inc, synopsys}  \n",
       "domain_cleaned_hash     inc-synopsys  \n",
       "domain_by_citation               NaN  "
      ]
     },
     "execution_count": 13,
     "metadata": {},
     "output_type": "execute_result"
    }
   ],
   "source": [
    "# attempt direct join by hash\n",
    "derived_authors_df = pd.merge(ac_df, domain_subset_all_df\\\n",
    "                              ,how='left', left_on='domain_cleaned_hash', right_on='domain_hash')\\\n",
    "                              .drop('domain_hash', axis=1)\\\n",
    "                              .rename(columns={'domain':'domain_by_citation'})\n",
    "\n",
    "# display\n",
    "derived_authors_df.sample(5).T"
   ]
  },
  {
   "cell_type": "markdown",
   "metadata": {
    "tags": [
     "papermill-error-cell-tag"
    ]
   },
   "source": [
    "<span id=\"papermill-error-cell\" style=\"color:red; font-family:Helvetica Neue, Helvetica, Arial, sans-serif; font-size:2em;\">Execution using papermill encountered an exception here and stopped:</span>"
   ]
  },
  {
   "cell_type": "code",
   "execution_count": 14,
   "metadata": {
    "execution": {
     "iopub.execute_input": "2021-01-21T06:38:57.867287Z",
     "iopub.status.busy": "2021-01-21T06:38:57.866628Z",
     "iopub.status.idle": "2021-01-21T06:39:01.191926Z",
     "shell.execute_reply": "2021-01-21T06:39:01.191166Z"
    },
    "papermill": {
     "duration": 3.381547,
     "end_time": "2021-01-21T06:39:01.192100",
     "exception": false,
     "start_time": "2021-01-21T06:38:57.810553",
     "status": "completed"
    },
    "tags": []
   },
   "outputs": [
    {
     "ename": "TypeError",
     "evalue": "unhashable type: 'set'",
     "output_type": "error",
     "traceback": [
      "\u001b[0;31m---------------------------------------------------------------------------\u001b[0m",
      "\u001b[0;31mTypeError\u001b[0m                                 Traceback (most recent call last)",
      "\u001b[0;32mpandas/_libs/hashtable_class_helper.pxi\u001b[0m in \u001b[0;36mpandas._libs.hashtable.PyObjectHashTable.map_locations\u001b[0;34m()\u001b[0m\n",
      "\u001b[0;31mTypeError\u001b[0m: unhashable type: 'set'"
     ]
    },
    {
     "name": "stderr",
     "output_type": "stream",
     "text": [
      "Exception ignored in: 'pandas._libs.index.IndexEngine._call_map_locations'\n",
      "Traceback (most recent call last):\n",
      "  File \"pandas/_libs/hashtable_class_helper.pxi\", line 1652, in pandas._libs.hashtable.PyObjectHashTable.map_locations\n",
      "TypeError: unhashable type: 'set'\n"
     ]
    },
    {
     "data": {
      "text/plain": [
       "{university, south, wales, new}              263\n",
       "{institute, technology, california}          229\n",
       "{technology, university, delft}              153\n",
       "{systems, raytheon}                          103\n",
       "{state, pennsylvania, university}             96\n",
       "                                            ... \n",
       "{china, branch, crosslight, sofware, inc}      1\n",
       "{incheon, university, national}                1\n",
       "{consulting, omega, enterprises}               1\n",
       "{veritas, north, bureau, america}              1\n",
       "{pisa, di, uiversita}                          1\n",
       "Name: domain_cleaned_set, Length: 962, dtype: int64"
      ]
     },
     "execution_count": 14,
     "metadata": {},
     "output_type": "execute_result"
    }
   ],
   "source": [
    "# rank the nanoHUB profile institutions that cannot be directly matched by occurance\n",
    "\n",
    "derived_authors_subset_df = derived_authors_df[(derived_authors_df.domain_cleaned_hash.notnull() \\\n",
    "                                                                & derived_authors_df.domain_by_citation.isna())]\n",
    "\n",
    "most_common_sets = derived_authors_subset_df.domain_cleaned_set.value_counts()\n",
    "\n",
    "# display\n",
    "most_common_sets.sort_values(ascending=False)"
   ]
  },
  {
   "cell_type": "code",
   "execution_count": 15,
   "metadata": {
    "execution": {
     "iopub.execute_input": "2021-01-21T06:39:01.630085Z",
     "iopub.status.busy": "2021-01-21T06:39:01.629409Z",
     "iopub.status.idle": "2021-01-21T06:39:08.533437Z",
     "shell.execute_reply": "2021-01-21T06:39:08.532798Z"
    },
    "papermill": {
     "duration": 7.312794,
     "end_time": "2021-01-21T06:39:08.533575",
     "exception": false,
     "start_time": "2021-01-21T06:39:01.220781",
     "status": "completed"
    },
    "tags": []
   },
   "outputs": [],
   "source": [
    "# attempt to reduce domain_df size to speedup Jaccard calculation\n",
    "from itertools import chain\n",
    "\n",
    "all_word_set = set(chain.from_iterable(derived_authors_subset_df.domain_cleaned_set.values))\n",
    "\n",
    "# select the domain_df entry with words from all_word_set\n",
    "domain_subset_df = domain_df[domain_df.domain_cleaned_set.notnull()]\n",
    "domain_subset_df = domain_subset_df[domain_subset_df.domain_cleaned_set\\\n",
    "                             .apply(lambda x: True if len(x.intersection(all_word_set)) > 0 else False)]\n",
    "\n",
    "domain_subset_df = domain_subset_df[['domain_cleaned_set', 'domain']]"
   ]
  },
  {
   "cell_type": "code",
   "execution_count": 16,
   "metadata": {
    "execution": {
     "iopub.execute_input": "2021-01-21T06:39:08.687707Z",
     "iopub.status.busy": "2021-01-21T06:39:08.686665Z",
     "iopub.status.idle": "2021-01-21T07:34:22.773327Z",
     "shell.execute_reply": "2021-01-21T07:34:22.602261Z"
    },
    "papermill": {
     "duration": 3314.233632,
     "end_time": "2021-01-21T07:34:22.790406",
     "exception": false,
     "start_time": "2021-01-21T06:39:08.556774",
     "status": "completed"
    },
    "tags": []
   },
   "outputs": [],
   "source": [
    "# Time consuming part: calculating Jaccard similarity score\n",
    "def get_jaccard_score(a,b):\n",
    "    \n",
    "    if (not a) & (not b):\n",
    "        return 0\n",
    "    \n",
    "    score = len(a.intersection(b))/len(a.union(b))\n",
    "    \n",
    "    return score\n",
    "\n",
    "\n",
    "for this_set in most_common_sets.index:\n",
    "    # calculate the Jaccard similarity\n",
    "    max_index = domain_subset_df.domain_cleaned_set.apply(lambda x: get_jaccard_score(x, this_set)).idxmax()\n",
    "\n",
    "    derived_authors_df.loc[derived_authors_df.domain_cleaned_set == this_set, 'domain_by_citation'] \\\n",
    "                = domain_subset_df.loc[max_index, 'domain']"
   ]
  },
  {
   "cell_type": "code",
   "execution_count": 17,
   "metadata": {
    "execution": {
     "iopub.execute_input": "2021-01-21T07:34:23.485825Z",
     "iopub.status.busy": "2021-01-21T07:34:23.421545Z",
     "iopub.status.idle": "2021-01-21T07:34:23.987671Z",
     "shell.execute_reply": "2021-01-21T07:34:24.007680Z"
    },
    "papermill": {
     "duration": 0.93389,
     "end_time": "2021-01-21T07:34:24.007933",
     "exception": false,
     "start_time": "2021-01-21T07:34:23.074043",
     "status": "completed"
    },
    "tags": []
   },
   "outputs": [
    {
     "data": {
      "text/html": [
       "<div>\n",
       "<style scoped>\n",
       "    .dataframe tbody tr th:only-of-type {\n",
       "        vertical-align: middle;\n",
       "    }\n",
       "\n",
       "    .dataframe tbody tr th {\n",
       "        vertical-align: top;\n",
       "    }\n",
       "\n",
       "    .dataframe thead th {\n",
       "        text-align: right;\n",
       "    }\n",
       "</style>\n",
       "<table border=\"1\" class=\"dataframe\">\n",
       "  <thead>\n",
       "    <tr style=\"text-align: right;\">\n",
       "      <th></th>\n",
       "      <th>354</th>\n",
       "      <th>5116</th>\n",
       "      <th>2367</th>\n",
       "      <th>428</th>\n",
       "      <th>143</th>\n",
       "    </tr>\n",
       "  </thead>\n",
       "  <tbody>\n",
       "    <tr>\n",
       "      <th>citation_ID</th>\n",
       "      <td>10000077</td>\n",
       "      <td>10001257</td>\n",
       "      <td>10000556</td>\n",
       "      <td>10000096</td>\n",
       "      <td>10000035</td>\n",
       "    </tr>\n",
       "    <tr>\n",
       "      <th>nanohub_user_id</th>\n",
       "      <td>2862</td>\n",
       "      <td>3482</td>\n",
       "      <td>14521</td>\n",
       "      <td>0</td>\n",
       "      <td>20857</td>\n",
       "    </tr>\n",
       "    <tr>\n",
       "      <th>author_id</th>\n",
       "      <td>4965</td>\n",
       "      <td>9666</td>\n",
       "      <td>6947</td>\n",
       "      <td>5037</td>\n",
       "      <td>4754</td>\n",
       "    </tr>\n",
       "    <tr>\n",
       "      <th>organization</th>\n",
       "      <td>Purdue University</td>\n",
       "      <td>Purdue University</td>\n",
       "      <td>California Institute of Technology</td>\n",
       "      <td>University of California</td>\n",
       "      <td>Delft University of Technology</td>\n",
       "    </tr>\n",
       "    <tr>\n",
       "      <th>orcid</th>\n",
       "      <td>None</td>\n",
       "      <td>None</td>\n",
       "      <td>None</td>\n",
       "      <td>None</td>\n",
       "      <td>None</td>\n",
       "    </tr>\n",
       "    <tr>\n",
       "      <th>research_id</th>\n",
       "      <td>None</td>\n",
       "      <td>None</td>\n",
       "      <td>None</td>\n",
       "      <td>None</td>\n",
       "      <td>None</td>\n",
       "    </tr>\n",
       "    <tr>\n",
       "      <th>gscholar_id</th>\n",
       "      <td>None</td>\n",
       "      <td>None</td>\n",
       "      <td>None</td>\n",
       "      <td>None</td>\n",
       "      <td>None</td>\n",
       "    </tr>\n",
       "    <tr>\n",
       "      <th>domain_cleaned_set</th>\n",
       "      <td>{university, purdue}</td>\n",
       "      <td>{university, purdue}</td>\n",
       "      <td>{institute, technology, california}</td>\n",
       "      <td>{university, california}</td>\n",
       "      <td>{technology, university, delft}</td>\n",
       "    </tr>\n",
       "    <tr>\n",
       "      <th>domain_cleaned_hash</th>\n",
       "      <td>purdue-university</td>\n",
       "      <td>purdue-university</td>\n",
       "      <td>california-institute-technology</td>\n",
       "      <td>california-university</td>\n",
       "      <td>delft-technology-university</td>\n",
       "    </tr>\n",
       "    <tr>\n",
       "      <th>domain_by_citation</th>\n",
       "      <td>purdue.edu</td>\n",
       "      <td>purdue.edu</td>\n",
       "      <td>scitech.edu</td>\n",
       "      <td>universityofcalifornia.edu</td>\n",
       "      <td>sifedelft.nl</td>\n",
       "    </tr>\n",
       "  </tbody>\n",
       "</table>\n",
       "</div>"
      ],
      "text/plain": [
       "                                     354                   5116  \\\n",
       "citation_ID                      10000077              10001257   \n",
       "nanohub_user_id                      2862                  3482   \n",
       "author_id                            4965                  9666   \n",
       "organization            Purdue University     Purdue University   \n",
       "orcid                                None                  None   \n",
       "research_id                          None                  None   \n",
       "gscholar_id                          None                  None   \n",
       "domain_cleaned_set   {university, purdue}  {university, purdue}   \n",
       "domain_cleaned_hash     purdue-university     purdue-university   \n",
       "domain_by_citation             purdue.edu            purdue.edu   \n",
       "\n",
       "                                                    2367  \\\n",
       "citation_ID                                     10000556   \n",
       "nanohub_user_id                                    14521   \n",
       "author_id                                           6947   \n",
       "organization          California Institute of Technology   \n",
       "orcid                                               None   \n",
       "research_id                                         None   \n",
       "gscholar_id                                         None   \n",
       "domain_cleaned_set   {institute, technology, california}   \n",
       "domain_cleaned_hash      california-institute-technology   \n",
       "domain_by_citation                           scitech.edu   \n",
       "\n",
       "                                           428   \\\n",
       "citation_ID                            10000096   \n",
       "nanohub_user_id                               0   \n",
       "author_id                                  5037   \n",
       "organization           University of California   \n",
       "orcid                                      None   \n",
       "research_id                                None   \n",
       "gscholar_id                                None   \n",
       "domain_cleaned_set     {university, california}   \n",
       "domain_cleaned_hash       california-university   \n",
       "domain_by_citation   universityofcalifornia.edu   \n",
       "\n",
       "                                                143   \n",
       "citation_ID                                 10000035  \n",
       "nanohub_user_id                                20857  \n",
       "author_id                                       4754  \n",
       "organization          Delft University of Technology  \n",
       "orcid                                           None  \n",
       "research_id                                     None  \n",
       "gscholar_id                                     None  \n",
       "domain_cleaned_set   {technology, university, delft}  \n",
       "domain_cleaned_hash      delft-technology-university  \n",
       "domain_by_citation                      sifedelft.nl  "
      ]
     },
     "execution_count": 17,
     "metadata": {},
     "output_type": "execute_result"
    }
   ],
   "source": [
    "# display\n",
    "derived_authors_df.sample(5).T"
   ]
  },
  {
   "cell_type": "markdown",
   "metadata": {
    "papermill": {
     "duration": 0.021812,
     "end_time": "2021-01-21T07:34:24.055768",
     "exception": false,
     "start_time": "2021-01-21T07:34:24.033956",
     "status": "completed"
    },
    "tags": []
   },
   "source": [
    "## Obtain Salesforce IDs"
   ]
  },
  {
   "cell_type": "code",
   "execution_count": 18,
   "metadata": {
    "execution": {
     "iopub.execute_input": "2021-01-21T07:34:24.372503Z",
     "iopub.status.busy": "2021-01-21T07:34:24.319037Z",
     "iopub.status.idle": "2021-01-21T07:34:30.812359Z",
     "shell.execute_reply": "2021-01-21T07:34:30.811738Z"
    },
    "papermill": {
     "duration": 6.735039,
     "end_time": "2021-01-21T07:34:30.812493",
     "exception": false,
     "start_time": "2021-01-21T07:34:24.077454",
     "status": "completed"
    },
    "tags": []
   },
   "outputs": [
    {
     "name": "stdout",
     "output_type": "stream",
     "text": [
      "Obtained Salesforce access token ...... True\n"
     ]
    }
   ],
   "source": [
    "# create DB2 to Salesforce API object\n",
    "db_s = DB2SalesforceAPI(sf_login_params)"
   ]
  },
  {
   "cell_type": "code",
   "execution_count": 19,
   "metadata": {
    "execution": {
     "iopub.execute_input": "2021-01-21T07:34:30.907997Z",
     "iopub.status.busy": "2021-01-21T07:34:30.907428Z",
     "iopub.status.idle": "2021-01-21T07:34:57.333664Z",
     "shell.execute_reply": "2021-01-21T07:34:57.334293Z"
    },
    "papermill": {
     "duration": 26.50013,
     "end_time": "2021-01-21T07:34:57.334472",
     "exception": false,
     "start_time": "2021-01-21T07:34:30.834342",
     "status": "completed"
    },
    "tags": []
   },
   "outputs": [
    {
     "name": "stdout",
     "output_type": "stream",
     "text": [
      "[Success] Bulk job creation successful. Job ID = 7505w00000TmJghAAF\n"
     ]
    },
    {
     "name": "stdout",
     "output_type": "stream",
     "text": [
      "{\"id\":\"7505w00000TmJghAAF\",\"operation\":\"query\",\"object\":\"Contact\",\"createdById\":\"0055w00000DM5bOAAT\",\"createdDate\":\"2021-01-21T07:34:31.000+0000\",\"systemModstamp\":\"2021-01-21T07:34:31.000+0000\",\"state\":\"UploadComplete\",\"concurrencyMode\":\"Parallel\",\"contentType\":\"CSV\",\"apiVersion\":47.0,\"jobType\":\"V2Query\",\"lineEnding\":\"LF\",\"columnDelimiter\":\"COMMA\",\"retries\":0,\"totalProcessingTime\":0}\n"
     ]
    },
    {
     "name": "stdout",
     "output_type": "stream",
     "text": [
      "{\"id\":\"7505w00000TmJghAAF\",\"operation\":\"query\",\"object\":\"Contact\",\"createdById\":\"0055w00000DM5bOAAT\",\"createdDate\":\"2021-01-21T07:34:31.000+0000\",\"systemModstamp\":\"2021-01-21T07:34:32.000+0000\",\"state\":\"InProgress\",\"concurrencyMode\":\"Parallel\",\"contentType\":\"CSV\",\"apiVersion\":47.0,\"jobType\":\"V2Query\",\"lineEnding\":\"LF\",\"columnDelimiter\":\"COMMA\",\"numberRecordsProcessed\":0,\"retries\":0,\"totalProcessingTime\":0}\n"
     ]
    },
    {
     "name": "stdout",
     "output_type": "stream",
     "text": [
      "{\"id\":\"7505w00000TmJghAAF\",\"operation\":\"query\",\"object\":\"Contact\",\"createdById\":\"0055w00000DM5bOAAT\",\"createdDate\":\"2021-01-21T07:34:31.000+0000\",\"systemModstamp\":\"2021-01-21T07:34:44.000+0000\",\"state\":\"JobComplete\",\"concurrencyMode\":\"Parallel\",\"contentType\":\"CSV\",\"apiVersion\":47.0,\"jobType\":\"V2Query\",\"lineEnding\":\"LF\",\"columnDelimiter\":\"COMMA\",\"numberRecordsProcessed\":236376,\"retries\":0,\"totalProcessingTime\":11358}\n",
      "[Success] Bulk job completed successfully.\n"
     ]
    }
   ],
   "source": [
    "# query the Salesforce IDs for contacts and citations. when updating junction objects, these IDs must be used\n",
    "\n",
    "# get Salesforce ID for contacts\n",
    "sf_userID_df = db_s.query_data('SELECT Id, nanoHUB_user_ID__c FROM Contact where nanoHUB_user_ID__c != NULL')\n",
    "\n",
    "sf_userID_df['nanoHUB_user_ID__c'] = sf_userID_df['nanoHUB_user_ID__c'].astype('int')"
   ]
  },
  {
   "cell_type": "code",
   "execution_count": 20,
   "metadata": {
    "execution": {
     "iopub.execute_input": "2021-01-21T07:34:57.426568Z",
     "iopub.status.busy": "2021-01-21T07:34:57.425696Z",
     "iopub.status.idle": "2021-01-21T07:35:08.982022Z",
     "shell.execute_reply": "2021-01-21T07:35:08.981571Z"
    },
    "papermill": {
     "duration": 11.624954,
     "end_time": "2021-01-21T07:35:08.982192",
     "exception": false,
     "start_time": "2021-01-21T07:34:57.357238",
     "status": "completed"
    },
    "scrolled": true,
    "tags": []
   },
   "outputs": [
    {
     "name": "stdout",
     "output_type": "stream",
     "text": [
      "[Success] Bulk job creation successful. Job ID = 7505w00000TmJgmAAF\n"
     ]
    },
    {
     "name": "stdout",
     "output_type": "stream",
     "text": [
      "{\"id\":\"7505w00000TmJgmAAF\",\"operation\":\"query\",\"object\":\"nanoHUB_citations__c\",\"createdById\":\"0055w00000DM5bOAAT\",\"createdDate\":\"2021-01-21T07:34:57.000+0000\",\"systemModstamp\":\"2021-01-21T07:34:57.000+0000\",\"state\":\"InProgress\",\"concurrencyMode\":\"Parallel\",\"contentType\":\"CSV\",\"apiVersion\":47.0,\"jobType\":\"V2Query\",\"lineEnding\":\"LF\",\"columnDelimiter\":\"COMMA\",\"numberRecordsProcessed\":0,\"retries\":0,\"totalProcessingTime\":0}\n"
     ]
    },
    {
     "name": "stdout",
     "output_type": "stream",
     "text": [
      "{\"id\":\"7505w00000TmJgmAAF\",\"operation\":\"query\",\"object\":\"nanoHUB_citations__c\",\"createdById\":\"0055w00000DM5bOAAT\",\"createdDate\":\"2021-01-21T07:34:57.000+0000\",\"systemModstamp\":\"2021-01-21T07:34:58.000+0000\",\"state\":\"JobComplete\",\"concurrencyMode\":\"Parallel\",\"contentType\":\"CSV\",\"apiVersion\":47.0,\"jobType\":\"V2Query\",\"lineEnding\":\"LF\",\"columnDelimiter\":\"COMMA\",\"numberRecordsProcessed\":2507,\"retries\":0,\"totalProcessingTime\":330}\n",
      "[Success] Bulk job completed successfully.\n"
     ]
    }
   ],
   "source": [
    "# get Salesforce ID for citations\n",
    "sf_citationID_df = db_s.query_data('SELECT Id, Record_ID__c FROM nanoHUB_citations__c')\n",
    "\n",
    "sf_citationID_df['Record_ID__c'] = sf_citationID_df['Record_ID__c'].astype('int')"
   ]
  },
  {
   "cell_type": "code",
   "execution_count": 21,
   "metadata": {
    "execution": {
     "iopub.execute_input": "2021-01-21T07:35:09.060706Z",
     "iopub.status.busy": "2021-01-21T07:35:09.060021Z",
     "iopub.status.idle": "2021-01-21T07:35:20.528249Z",
     "shell.execute_reply": "2021-01-21T07:35:20.528658Z"
    },
    "papermill": {
     "duration": 11.520054,
     "end_time": "2021-01-21T07:35:20.528827",
     "exception": false,
     "start_time": "2021-01-21T07:35:09.008773",
     "status": "completed"
    },
    "tags": []
   },
   "outputs": [
    {
     "name": "stdout",
     "output_type": "stream",
     "text": [
      "[Success] Bulk job creation successful. Job ID = 7505w00000TmJhBAAV\n"
     ]
    },
    {
     "name": "stdout",
     "output_type": "stream",
     "text": [
      "{\"id\":\"7505w00000TmJhBAAV\",\"operation\":\"query\",\"object\":\"organization__c\",\"createdById\":\"0055w00000DM5bOAAT\",\"createdDate\":\"2021-01-21T07:35:09.000+0000\",\"systemModstamp\":\"2021-01-21T07:35:09.000+0000\",\"state\":\"UploadComplete\",\"concurrencyMode\":\"Parallel\",\"contentType\":\"CSV\",\"apiVersion\":47.0,\"jobType\":\"V2Query\",\"lineEnding\":\"LF\",\"columnDelimiter\":\"COMMA\",\"retries\":0,\"totalProcessingTime\":0}\n"
     ]
    },
    {
     "name": "stdout",
     "output_type": "stream",
     "text": [
      "{\"id\":\"7505w00000TmJhBAAV\",\"operation\":\"query\",\"object\":\"organization__c\",\"createdById\":\"0055w00000DM5bOAAT\",\"createdDate\":\"2021-01-21T07:35:09.000+0000\",\"systemModstamp\":\"2021-01-21T07:35:10.000+0000\",\"state\":\"JobComplete\",\"concurrencyMode\":\"Parallel\",\"contentType\":\"CSV\",\"apiVersion\":47.0,\"jobType\":\"V2Query\",\"lineEnding\":\"LF\",\"columnDelimiter\":\"COMMA\",\"numberRecordsProcessed\":6365,\"retries\":0,\"totalProcessingTime\":421}\n",
      "[Success] Bulk job completed successfully.\n"
     ]
    }
   ],
   "source": [
    "# get Salesforce ID for organizations\n",
    "sf_orgID_df = db_s.query_data('SELECT Id, Domain__c FROM organization__c')"
   ]
  },
  {
   "cell_type": "markdown",
   "metadata": {
    "papermill": {
     "duration": 0.023442,
     "end_time": "2021-01-21T07:35:20.575302",
     "exception": false,
     "start_time": "2021-01-21T07:35:20.551860",
     "status": "completed"
    },
    "tags": []
   },
   "source": [
    "## Match data with Salesforce format"
   ]
  },
  {
   "cell_type": "code",
   "execution_count": 22,
   "metadata": {
    "execution": {
     "iopub.execute_input": "2021-01-21T07:35:20.723178Z",
     "iopub.status.busy": "2021-01-21T07:35:20.722577Z",
     "iopub.status.idle": "2021-01-21T07:35:21.032754Z",
     "shell.execute_reply": "2021-01-21T07:35:21.030708Z"
    },
    "papermill": {
     "duration": 0.434185,
     "end_time": "2021-01-21T07:35:21.032891",
     "exception": false,
     "start_time": "2021-01-21T07:35:20.598706",
     "status": "completed"
    },
    "tags": []
   },
   "outputs": [
    {
     "data": {
      "text/html": [
       "<div>\n",
       "<style scoped>\n",
       "    .dataframe tbody tr th:only-of-type {\n",
       "        vertical-align: middle;\n",
       "    }\n",
       "\n",
       "    .dataframe tbody tr th {\n",
       "        vertical-align: top;\n",
       "    }\n",
       "\n",
       "    .dataframe thead th {\n",
       "        text-align: right;\n",
       "    }\n",
       "</style>\n",
       "<table border=\"1\" class=\"dataframe\">\n",
       "  <thead>\n",
       "    <tr style=\"text-align: right;\">\n",
       "      <th></th>\n",
       "      <th>citation_ID</th>\n",
       "      <th>nanohub_user_id</th>\n",
       "      <th>author_id</th>\n",
       "      <th>organization</th>\n",
       "      <th>orcid</th>\n",
       "      <th>research_id</th>\n",
       "      <th>gscholar_id</th>\n",
       "      <th>domain_cleaned_set</th>\n",
       "      <th>domain_cleaned_hash</th>\n",
       "      <th>domain_by_citation</th>\n",
       "    </tr>\n",
       "  </thead>\n",
       "  <tbody>\n",
       "    <tr>\n",
       "      <th>0</th>\n",
       "      <td>10000003</td>\n",
       "      <td>10676</td>\n",
       "      <td>4613</td>\n",
       "      <td>Purdue University</td>\n",
       "      <td>None</td>\n",
       "      <td>None</td>\n",
       "      <td>None</td>\n",
       "      <td>{university, purdue}</td>\n",
       "      <td>purdue-university</td>\n",
       "      <td>purdue.edu</td>\n",
       "    </tr>\n",
       "    <tr>\n",
       "      <th>2</th>\n",
       "      <td>10000003</td>\n",
       "      <td>37033</td>\n",
       "      <td>4615</td>\n",
       "      <td>Purdue University</td>\n",
       "      <td>None</td>\n",
       "      <td>None</td>\n",
       "      <td>None</td>\n",
       "      <td>{university, purdue}</td>\n",
       "      <td>purdue-university</td>\n",
       "      <td>purdue.edu</td>\n",
       "    </tr>\n",
       "  </tbody>\n",
       "</table>\n",
       "</div>"
      ],
      "text/plain": [
       "   citation_ID  nanohub_user_id  author_id       organization orcid  \\\n",
       "0     10000003            10676       4613  Purdue University  None   \n",
       "2     10000003            37033       4615  Purdue University  None   \n",
       "\n",
       "  research_id gscholar_id    domain_cleaned_set domain_cleaned_hash  \\\n",
       "0        None        None  {university, purdue}   purdue-university   \n",
       "2        None        None  {university, purdue}   purdue-university   \n",
       "\n",
       "  domain_by_citation  \n",
       "0         purdue.edu  \n",
       "2         purdue.edu  "
      ]
     },
     "metadata": {},
     "output_type": "display_data"
    },
    {
     "data": {
      "text/html": [
       "<div>\n",
       "<style scoped>\n",
       "    .dataframe tbody tr th:only-of-type {\n",
       "        vertical-align: middle;\n",
       "    }\n",
       "\n",
       "    .dataframe tbody tr th {\n",
       "        vertical-align: top;\n",
       "    }\n",
       "\n",
       "    .dataframe thead th {\n",
       "        text-align: right;\n",
       "    }\n",
       "</style>\n",
       "<table border=\"1\" class=\"dataframe\">\n",
       "  <thead>\n",
       "    <tr style=\"text-align: right;\">\n",
       "      <th></th>\n",
       "      <th>Id</th>\n",
       "      <th>Record_ID__c</th>\n",
       "    </tr>\n",
       "  </thead>\n",
       "  <tbody>\n",
       "    <tr>\n",
       "      <th>0</th>\n",
       "      <td>a0t5w000008p7pSAAQ</td>\n",
       "      <td>1279</td>\n",
       "    </tr>\n",
       "    <tr>\n",
       "      <th>1</th>\n",
       "      <td>a0t5w000008p7pTAAQ</td>\n",
       "      <td>1535</td>\n",
       "    </tr>\n",
       "  </tbody>\n",
       "</table>\n",
       "</div>"
      ],
      "text/plain": [
       "                   Id  Record_ID__c\n",
       "0  a0t5w000008p7pSAAQ          1279\n",
       "1  a0t5w000008p7pTAAQ          1535"
      ]
     },
     "metadata": {},
     "output_type": "display_data"
    },
    {
     "data": {
      "text/html": [
       "<div>\n",
       "<style scoped>\n",
       "    .dataframe tbody tr th:only-of-type {\n",
       "        vertical-align: middle;\n",
       "    }\n",
       "\n",
       "    .dataframe tbody tr th {\n",
       "        vertical-align: top;\n",
       "    }\n",
       "\n",
       "    .dataframe thead th {\n",
       "        text-align: right;\n",
       "    }\n",
       "</style>\n",
       "<table border=\"1\" class=\"dataframe\">\n",
       "  <thead>\n",
       "    <tr style=\"text-align: right;\">\n",
       "      <th></th>\n",
       "      <th>Id</th>\n",
       "      <th>nanoHUB_user_ID__c</th>\n",
       "    </tr>\n",
       "  </thead>\n",
       "  <tbody>\n",
       "    <tr>\n",
       "      <th>0</th>\n",
       "      <td>0035w000031Vsp1AAC</td>\n",
       "      <td>998</td>\n",
       "    </tr>\n",
       "    <tr>\n",
       "      <th>1</th>\n",
       "      <td>0035w000031Vsp2AAC</td>\n",
       "      <td>1683</td>\n",
       "    </tr>\n",
       "  </tbody>\n",
       "</table>\n",
       "</div>"
      ],
      "text/plain": [
       "                   Id  nanoHUB_user_ID__c\n",
       "0  0035w000031Vsp1AAC                 998\n",
       "1  0035w000031Vsp2AAC                1683"
      ]
     },
     "metadata": {},
     "output_type": "display_data"
    },
    {
     "data": {
      "text/html": [
       "<div>\n",
       "<style scoped>\n",
       "    .dataframe tbody tr th:only-of-type {\n",
       "        vertical-align: middle;\n",
       "    }\n",
       "\n",
       "    .dataframe tbody tr th {\n",
       "        vertical-align: top;\n",
       "    }\n",
       "\n",
       "    .dataframe thead th {\n",
       "        text-align: right;\n",
       "    }\n",
       "</style>\n",
       "<table border=\"1\" class=\"dataframe\">\n",
       "  <thead>\n",
       "    <tr style=\"text-align: right;\">\n",
       "      <th></th>\n",
       "      <th>Domain__c</th>\n",
       "      <th>Id</th>\n",
       "    </tr>\n",
       "  </thead>\n",
       "  <tbody>\n",
       "    <tr>\n",
       "      <th>0</th>\n",
       "      <td>upenn.edu</td>\n",
       "      <td>a0r5w00000V42c0AAB</td>\n",
       "    </tr>\n",
       "    <tr>\n",
       "      <th>1</th>\n",
       "      <td>fer.hr</td>\n",
       "      <td>a0r5w00000V42c1AAB</td>\n",
       "    </tr>\n",
       "  </tbody>\n",
       "</table>\n",
       "</div>"
      ],
      "text/plain": [
       "   Domain__c                  Id\n",
       "0  upenn.edu  a0r5w00000V42c0AAB\n",
       "1     fer.hr  a0r5w00000V42c1AAB"
      ]
     },
     "metadata": {},
     "output_type": "display_data"
    }
   ],
   "source": [
    "# valid citation - nanohub user links\n",
    "ac_tolink_df = derived_authors_df[derived_authors_df.nanohub_user_id != 0]\n",
    "\n",
    "display(ac_tolink_df.head(2))\n",
    "display(sf_citationID_df.head(2))\n",
    "display(sf_userID_df.head(2))\n",
    "display(sf_orgID_df.head(2))"
   ]
  },
  {
   "cell_type": "code",
   "execution_count": 23,
   "metadata": {
    "execution": {
     "iopub.execute_input": "2021-01-21T07:35:21.246042Z",
     "iopub.status.busy": "2021-01-21T07:35:21.245442Z",
     "iopub.status.idle": "2021-01-21T07:35:21.420031Z",
     "shell.execute_reply": "2021-01-21T07:35:21.420472Z"
    },
    "papermill": {
     "duration": 0.362638,
     "end_time": "2021-01-21T07:35:21.420646",
     "exception": false,
     "start_time": "2021-01-21T07:35:21.058008",
     "status": "completed"
    },
    "tags": []
   },
   "outputs": [
    {
     "data": {
      "text/html": [
       "<div>\n",
       "<style scoped>\n",
       "    .dataframe tbody tr th:only-of-type {\n",
       "        vertical-align: middle;\n",
       "    }\n",
       "\n",
       "    .dataframe tbody tr th {\n",
       "        vertical-align: top;\n",
       "    }\n",
       "\n",
       "    .dataframe thead th {\n",
       "        text-align: right;\n",
       "    }\n",
       "</style>\n",
       "<table border=\"1\" class=\"dataframe\">\n",
       "  <thead>\n",
       "    <tr style=\"text-align: right;\">\n",
       "      <th></th>\n",
       "      <th>citation_ID</th>\n",
       "      <th>nanohub_user_id</th>\n",
       "      <th>author_id</th>\n",
       "      <th>organization</th>\n",
       "      <th>orcid</th>\n",
       "      <th>research_id</th>\n",
       "      <th>gscholar_id</th>\n",
       "      <th>domain_cleaned_set</th>\n",
       "      <th>domain_cleaned_hash</th>\n",
       "      <th>domain_by_citation</th>\n",
       "      <th>SF_ID_citation</th>\n",
       "      <th>Record_ID__c</th>\n",
       "      <th>SF_ID_contact</th>\n",
       "      <th>nanoHUB_user_ID__c</th>\n",
       "      <th>Domain__c</th>\n",
       "      <th>SF_ID_organization</th>\n",
       "    </tr>\n",
       "  </thead>\n",
       "  <tbody>\n",
       "    <tr>\n",
       "      <th>0</th>\n",
       "      <td>2035</td>\n",
       "      <td>65635</td>\n",
       "      <td>14184931</td>\n",
       "      <td>Purdue University</td>\n",
       "      <td></td>\n",
       "      <td></td>\n",
       "      <td></td>\n",
       "      <td>{university, purdue}</td>\n",
       "      <td>purdue-university</td>\n",
       "      <td>purdue.edu</td>\n",
       "      <td>a0t5w000008p7qAAAQ</td>\n",
       "      <td>2035</td>\n",
       "      <td>0035w000031Vu0yAAC</td>\n",
       "      <td>65635</td>\n",
       "      <td>purdue.edu</td>\n",
       "      <td>a0r5w00000V42cCAAR</td>\n",
       "    </tr>\n",
       "    <tr>\n",
       "      <th>1</th>\n",
       "      <td>2856</td>\n",
       "      <td>65635</td>\n",
       "      <td>14184790</td>\n",
       "      <td>Purdue University</td>\n",
       "      <td></td>\n",
       "      <td></td>\n",
       "      <td></td>\n",
       "      <td>{university, purdue}</td>\n",
       "      <td>purdue-university</td>\n",
       "      <td>purdue.edu</td>\n",
       "      <td>a0t5w000008p8OtAAI</td>\n",
       "      <td>2856</td>\n",
       "      <td>0035w000031Vu0yAAC</td>\n",
       "      <td>65635</td>\n",
       "      <td>purdue.edu</td>\n",
       "      <td>a0r5w00000V42cCAAR</td>\n",
       "    </tr>\n",
       "  </tbody>\n",
       "</table>\n",
       "</div>"
      ],
      "text/plain": [
       "   citation_ID  nanohub_user_id  author_id       organization orcid  \\\n",
       "0         2035            65635   14184931  Purdue University         \n",
       "1         2856            65635   14184790  Purdue University         \n",
       "\n",
       "  research_id gscholar_id    domain_cleaned_set domain_cleaned_hash  \\\n",
       "0                          {university, purdue}   purdue-university   \n",
       "1                          {university, purdue}   purdue-university   \n",
       "\n",
       "  domain_by_citation      SF_ID_citation  Record_ID__c       SF_ID_contact  \\\n",
       "0         purdue.edu  a0t5w000008p7qAAAQ          2035  0035w000031Vu0yAAC   \n",
       "1         purdue.edu  a0t5w000008p8OtAAI          2856  0035w000031Vu0yAAC   \n",
       "\n",
       "   nanoHUB_user_ID__c   Domain__c  SF_ID_organization  \n",
       "0               65635  purdue.edu  a0r5w00000V42cCAAR  \n",
       "1               65635  purdue.edu  a0r5w00000V42cCAAR  "
      ]
     },
     "execution_count": 23,
     "metadata": {},
     "output_type": "execute_result"
    }
   ],
   "source": [
    "# merge SF citation and contact IDs into user-citation DF\n",
    "ac_tolink_df = pd.merge(ac_tolink_df, sf_citationID_df, how='inner', left_on='citation_ID', right_on='Record_ID__c')\\\n",
    "                           .rename(columns={'Id':'SF_ID_citation'})\n",
    "                                            \n",
    "ac_tolink_df = pd.merge(ac_tolink_df, sf_userID_df, how='inner', left_on='nanohub_user_id', right_on='nanoHUB_user_ID__c')\\\n",
    "                           .rename(columns={'Id':'SF_ID_contact'})\n",
    "\n",
    "ac_tolink_df = pd.merge(ac_tolink_df, sf_orgID_df, how='left', left_on='domain_by_citation', right_on='Domain__c')\\\n",
    "                           .rename(columns={'Id':'SF_ID_organization'})\n",
    "\n",
    "# display\n",
    "ac_tolink_df.head(2)"
   ]
  },
  {
   "cell_type": "code",
   "execution_count": 24,
   "metadata": {
    "execution": {
     "iopub.execute_input": "2021-01-21T07:35:21.561912Z",
     "iopub.status.busy": "2021-01-21T07:35:21.561337Z",
     "iopub.status.idle": "2021-01-21T07:35:21.979912Z",
     "shell.execute_reply": "2021-01-21T07:35:21.980585Z"
    },
    "papermill": {
     "duration": 0.534917,
     "end_time": "2021-01-21T07:35:21.980831",
     "exception": false,
     "start_time": "2021-01-21T07:35:21.445914",
     "status": "completed"
    },
    "tags": []
   },
   "outputs": [],
   "source": [
    "# create a new column for object name\n",
    "ac_tolink_df['Name'] = ac_tolink_df.apply(lambda x: '%d_%d'%(x.nanoHUB_user_ID__c, x.Record_ID__c), axis=1)"
   ]
  },
  {
   "cell_type": "code",
   "execution_count": 25,
   "metadata": {
    "execution": {
     "iopub.execute_input": "2021-01-21T07:35:22.213246Z",
     "iopub.status.busy": "2021-01-21T07:35:22.210214Z",
     "iopub.status.idle": "2021-01-21T07:35:22.237654Z",
     "shell.execute_reply": "2021-01-21T07:35:22.238126Z"
    },
    "papermill": {
     "duration": 0.228277,
     "end_time": "2021-01-21T07:35:22.238323",
     "exception": false,
     "start_time": "2021-01-21T07:35:22.010046",
     "status": "completed"
    },
    "tags": []
   },
   "outputs": [
    {
     "data": {
      "text/html": [
       "<div>\n",
       "<style scoped>\n",
       "    .dataframe tbody tr th:only-of-type {\n",
       "        vertical-align: middle;\n",
       "    }\n",
       "\n",
       "    .dataframe tbody tr th {\n",
       "        vertical-align: top;\n",
       "    }\n",
       "\n",
       "    .dataframe thead th {\n",
       "        text-align: right;\n",
       "    }\n",
       "</style>\n",
       "<table border=\"1\" class=\"dataframe\">\n",
       "  <thead>\n",
       "    <tr style=\"text-align: right;\">\n",
       "      <th></th>\n",
       "      <th>0</th>\n",
       "      <th>1</th>\n",
       "    </tr>\n",
       "  </thead>\n",
       "  <tbody>\n",
       "    <tr>\n",
       "      <th>Name</th>\n",
       "      <td>65635_2035</td>\n",
       "      <td>65635_2856</td>\n",
       "    </tr>\n",
       "    <tr>\n",
       "      <th>Contact__c</th>\n",
       "      <td>0035w000031Vu0yAAC</td>\n",
       "      <td>0035w000031Vu0yAAC</td>\n",
       "    </tr>\n",
       "    <tr>\n",
       "      <th>Citation__c</th>\n",
       "      <td>a0t5w000008p7qAAAQ</td>\n",
       "      <td>a0t5w000008p8OtAAI</td>\n",
       "    </tr>\n",
       "    <tr>\n",
       "      <th>gscholar_id__c</th>\n",
       "      <td></td>\n",
       "      <td></td>\n",
       "    </tr>\n",
       "    <tr>\n",
       "      <th>ORCID__c</th>\n",
       "      <td></td>\n",
       "      <td></td>\n",
       "    </tr>\n",
       "    <tr>\n",
       "      <th>Organization__c</th>\n",
       "      <td>a0r5w00000V42cCAAR</td>\n",
       "      <td>a0r5w00000V42cCAAR</td>\n",
       "    </tr>\n",
       "    <tr>\n",
       "      <th>Organization_nanohub__c</th>\n",
       "      <td>Purdue University</td>\n",
       "      <td>Purdue University</td>\n",
       "    </tr>\n",
       "    <tr>\n",
       "      <th>research_id__c</th>\n",
       "      <td></td>\n",
       "      <td></td>\n",
       "    </tr>\n",
       "  </tbody>\n",
       "</table>\n",
       "</div>"
      ],
      "text/plain": [
       "                                          0                   1\n",
       "Name                             65635_2035          65635_2856\n",
       "Contact__c               0035w000031Vu0yAAC  0035w000031Vu0yAAC\n",
       "Citation__c              a0t5w000008p7qAAAQ  a0t5w000008p8OtAAI\n",
       "gscholar_id__c                                                 \n",
       "ORCID__c                                                       \n",
       "Organization__c          a0r5w00000V42cCAAR  a0r5w00000V42cCAAR\n",
       "Organization_nanohub__c   Purdue University   Purdue University\n",
       "research_id__c                                                 "
      ]
     },
     "execution_count": 25,
     "metadata": {},
     "output_type": "execute_result"
    }
   ],
   "source": [
    "df_sf = pd.DataFrame()\n",
    "\n",
    "# Make sure NaN and NaT values are taken care of here\n",
    "df_sf['Name']         = ac_tolink_df['Name']\n",
    "df_sf['Contact__c'] = ac_tolink_df['SF_ID_contact']\n",
    "df_sf['Citation__c'] = ac_tolink_df['SF_ID_citation']\n",
    "\n",
    "df_sf['gscholar_id__c'] = ac_tolink_df['gscholar_id'].fillna('')\n",
    "df_sf['ORCID__c'] = ac_tolink_df['orcid'].fillna('')\n",
    "df_sf['Organization__c'] = ac_tolink_df['SF_ID_organization']\n",
    "df_sf['Organization_nanohub__c'] = ac_tolink_df['organization'].fillna('')\n",
    "df_sf['research_id__c'] = ac_tolink_df['research_id'].fillna('')\n",
    "\n",
    "sf_original_fields = df_sf.columns\n",
    "\n",
    "# display\n",
    "df_sf.head(2).T"
   ]
  },
  {
   "cell_type": "markdown",
   "metadata": {
    "papermill": {
     "duration": 0.026787,
     "end_time": "2021-01-21T07:35:22.292169",
     "exception": false,
     "start_time": "2021-01-21T07:35:22.265382",
     "status": "completed"
    },
    "tags": []
   },
   "source": [
    "## To Salesforce Sales Cloud CRM"
   ]
  },
  {
   "cell_type": "code",
   "execution_count": 26,
   "metadata": {
    "execution": {
     "iopub.execute_input": "2021-01-21T07:35:22.391686Z",
     "iopub.status.busy": "2021-01-21T07:35:22.390865Z",
     "iopub.status.idle": "2021-01-21T07:35:22.759715Z",
     "shell.execute_reply": "2021-01-21T07:35:22.758961Z"
    },
    "papermill": {
     "duration": 0.441413,
     "end_time": "2021-01-21T07:35:22.759879",
     "exception": false,
     "start_time": "2021-01-21T07:35:22.318466",
     "status": "completed"
    },
    "tags": []
   },
   "outputs": [
    {
     "name": "stdout",
     "output_type": "stream",
     "text": [
      "Obtained Salesforce access token ...... True\n"
     ]
    }
   ],
   "source": [
    "# create DB2 to Salesforce API object\n",
    "db_s = DB2SalesforceAPI(sf_login_params)\n",
    "\n",
    "# specify Salesforce object ID and external ID\n",
    "db_s.object_id = 'contact_citation_asso__c'\n",
    "db_s.external_id = 'Name'"
   ]
  },
  {
   "cell_type": "code",
   "execution_count": 27,
   "metadata": {
    "execution": {
     "iopub.execute_input": "2021-01-21T07:35:22.898176Z",
     "iopub.status.busy": "2021-01-21T07:35:22.897492Z",
     "iopub.status.idle": "2021-01-21T07:35:24.211924Z",
     "shell.execute_reply": "2021-01-21T07:35:24.212467Z"
    },
    "papermill": {
     "duration": 1.419453,
     "end_time": "2021-01-21T07:35:24.212627",
     "exception": false,
     "start_time": "2021-01-21T07:35:22.793174",
     "status": "completed"
    },
    "tags": []
   },
   "outputs": [
    {
     "name": "stdout",
     "output_type": "stream",
     "text": [
      "[Success] Bulk job creation successful. Job ID = 7505w00000TmJbiAAF\n",
      "hello\n"
     ]
    },
    {
     "name": "stdout",
     "output_type": "stream",
     "text": [
      "[Success] CSV upload successful. Job ID = 7505w00000TmJbiAAF\n"
     ]
    },
    {
     "name": "stdout",
     "output_type": "stream",
     "text": [
      "[Success] Closing job successful. Job ID = 7505w00000TmJbiAAF\n"
     ]
    }
   ],
   "source": [
    "# send data to Salesforce\n",
    "db_s.send_data(df_sf)"
   ]
  },
  {
   "cell_type": "code",
   "execution_count": 28,
   "metadata": {
    "execution": {
     "iopub.execute_input": "2021-01-21T07:35:24.278774Z",
     "iopub.status.busy": "2021-01-21T07:35:24.278166Z",
     "iopub.status.idle": "2021-01-21T07:35:24.671085Z",
     "shell.execute_reply": "2021-01-21T07:35:24.671644Z"
    },
    "papermill": {
     "duration": 0.431784,
     "end_time": "2021-01-21T07:35:24.671803",
     "exception": false,
     "start_time": "2021-01-21T07:35:24.240019",
     "status": "completed"
    },
    "tags": []
   },
   "outputs": [
    {
     "name": "stdout",
     "output_type": "stream",
     "text": [
      "{'apexProcessingTime': 0,\n",
      " 'apiActiveProcessingTime': 0,\n",
      " 'apiVersion': 47.0,\n",
      " 'columnDelimiter': 'COMMA',\n",
      " 'concurrencyMode': 'Parallel',\n",
      " 'contentType': 'CSV',\n",
      " 'createdById': '0055w00000DM5bOAAT',\n",
      " 'createdDate': '2021-01-21T07:35:23.000+0000',\n",
      " 'externalIdFieldName': 'Name',\n",
      " 'id': '7505w00000TmJbiAAF',\n",
      " 'jobType': 'V2Ingest',\n",
      " 'lineEnding': 'LF',\n",
      " 'numberRecordsFailed': 0,\n",
      " 'numberRecordsProcessed': 0,\n",
      " 'object': 'contact_citation_asso__c',\n",
      " 'operation': 'upsert',\n",
      " 'retries': 0,\n",
      " 'state': 'InProgress',\n",
      " 'systemModstamp': '2021-01-21T07:35:24.000+0000',\n",
      " 'totalProcessingTime': 0}\n"
     ]
    }
   ],
   "source": [
    "# check status\n",
    "from pprint import pprint\n",
    "\n",
    "pprint(db_s.check_bulk_status())"
   ]
  },
  {
   "cell_type": "code",
   "execution_count": 29,
   "metadata": {
    "execution": {
     "iopub.execute_input": "2021-01-21T07:35:24.748875Z",
     "iopub.status.busy": "2021-01-21T07:35:24.748319Z",
     "iopub.status.idle": "2021-01-21T07:35:24.879332Z",
     "shell.execute_reply": "2021-01-21T07:35:24.879725Z"
    },
    "papermill": {
     "duration": 0.180571,
     "end_time": "2021-01-21T07:35:24.879886",
     "exception": false,
     "start_time": "2021-01-21T07:35:24.699315",
     "status": "completed"
    },
    "tags": []
   },
   "outputs": [
    {
     "name": "stdout",
     "output_type": "stream",
     "text": [
      "''\n"
     ]
    }
   ],
   "source": [
    "# check status\n",
    "from pprint import pprint\n",
    "\n",
    "pprint(db_s.check_bulk_failed_results())"
   ]
  },
  {
   "cell_type": "code",
   "execution_count": null,
   "metadata": {
    "papermill": {
     "duration": 0.02719,
     "end_time": "2021-01-21T07:35:24.934568",
     "exception": false,
     "start_time": "2021-01-21T07:35:24.907378",
     "status": "completed"
    },
    "tags": []
   },
   "outputs": [],
   "source": []
  },
  {
   "cell_type": "code",
   "execution_count": null,
   "metadata": {
    "papermill": {
     "duration": 0.028306,
     "end_time": "2021-01-21T07:35:24.991565",
     "exception": false,
     "start_time": "2021-01-21T07:35:24.963259",
     "status": "completed"
    },
    "tags": []
   },
   "outputs": [],
   "source": []
  }
 ],
 "metadata": {
  "celltoolbar": "Tags",
  "kernelspec": {
   "display_name": "Python 3",
   "language": "python",
   "name": "python3"
  },
  "language_info": {
   "codemirror_mode": {
    "name": "ipython",
    "version": 3
   },
   "file_extension": ".py",
   "mimetype": "text/x-python",
   "name": "python",
   "nbconvert_exporter": "python",
   "pygments_lexer": "ipython3",
   "version": "3.7.6"
  },
  "papermill": {
   "duration": 3900.953283,
   "end_time": "2021-01-21T07:35:33.016782",
   "environment_variables": {},
   "exception": null,
   "input_path": "/home/users/wang2506/nanohub_salesforce_integ/salesforce/task_citations_map_contacts.ipynb",
   "output_path": "/home/users/wang2506/nanohub_salesforce_integ/salesforce/task_citations_map_contacts.ipynb",
   "parameters": {},
   "start_time": "2021-01-21T06:30:32.063499",
   "version": "2.1.1"
  }
 },
 "nbformat": 4,
 "nbformat_minor": 4
}