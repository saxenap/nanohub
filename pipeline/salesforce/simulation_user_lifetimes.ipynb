{
 "cells": [
  {
   "cell_type": "markdown",
   "metadata": {},
   "source": [
    "## simulation user lifetimes "
   ]
  },
  {
   "cell_type": "code",
   "execution_count": 1,
   "metadata": {},
   "outputs": [],
   "source": [
    "# API settings\n",
    "api_url = '/services/data/v43.0/sobjects'\n",
    "external_id = 'nanoHUB_username__c'\n",
    "object_id = 'Contact'\n",
    "\n",
    "# login parameters to be handled by Papermill\n",
    "sql_login_params = {\"username\": \"wang2506_ro\", \"password\": \"fnVnwcCS7iT45EsA\"}\n",
    "sf_login_params = {\n",
    "    \"grant_type\": \"password\",\n",
    "    \"client_id\": \"3MVG95jctIhbyCppj0SNJ75IsZ1y8UPGZtSNF4j8FNVXz.De8Lu4jHm3rjRosAtsHy6qjHx3i4S_QbQzvBePG\",\n",
    "    \"client_secret\": \"D1623C6D3607D4FC8004B92C761DFB6C1F70CCD129C5501E357028DFA00F5764\",\n",
    "    \"username\":\"wang2506@purdue.edu\",\n",
    "    \"password\":\"sf2021shitOPmlIiFMLnrudgC6oSX0WV1T\",   \n",
    "} "
   ]
  },
  {
   "cell_type": "code",
   "execution_count": 2,
   "metadata": {},
   "outputs": [],
   "source": [
    "import sys\n",
    "sys.path.append('/home/users/wang2506/nanohub_salesforce_integ/salesforce')\n",
    "    \n",
    "import pandas as pd\n",
    "import time\n",
    "import datetime\n",
    "import sqlalchemy as sql\n",
    "\n",
    "from DB2SalesforceAPI import DB2SalesforceAPI"
   ]
  },
  {
   "cell_type": "code",
   "execution_count": 3,
   "metadata": {},
   "outputs": [],
   "source": [
    "## read in data\n",
    "import os\n",
    "cwd = os.getcwd()\n",
    "clusters_df = pd.read_csv(cwd+'/manual_data_filters/clustered_users.csv')\n",
    "selfs_df = pd.read_csv(cwd+'/manual_data_filters/self_study_users.csv')\n",
    "researchers_df = pd.read_csv(cwd+'/manual_data_filters/researchers.csv')"
   ]
  },
  {
   "cell_type": "code",
   "execution_count": 4,
   "metadata": {},
   "outputs": [
    {
     "data": {
      "text/html": [
       "<div>\n",
       "<style scoped>\n",
       "    .dataframe tbody tr th:only-of-type {\n",
       "        vertical-align: middle;\n",
       "    }\n",
       "\n",
       "    .dataframe tbody tr th {\n",
       "        vertical-align: top;\n",
       "    }\n",
       "\n",
       "    .dataframe thead th {\n",
       "        text-align: right;\n",
       "    }\n",
       "</style>\n",
       "<table border=\"1\" class=\"dataframe\">\n",
       "  <thead>\n",
       "    <tr style=\"text-align: right;\">\n",
       "      <th></th>\n",
       "      <th>Unnamed: 0</th>\n",
       "      <th>username</th>\n",
       "    </tr>\n",
       "  </thead>\n",
       "  <tbody>\n",
       "    <tr>\n",
       "      <th>0</th>\n",
       "      <td>10813</td>\n",
       "      <td>0.yao.yuan</td>\n",
       "    </tr>\n",
       "    <tr>\n",
       "      <th>1</th>\n",
       "      <td>10817</td>\n",
       "      <td>008dilip</td>\n",
       "    </tr>\n",
       "    <tr>\n",
       "      <th>2</th>\n",
       "      <td>10821</td>\n",
       "      <td>01024461660a</td>\n",
       "    </tr>\n",
       "    <tr>\n",
       "      <th>3</th>\n",
       "      <td>10826</td>\n",
       "      <td>01luiyi</td>\n",
       "    </tr>\n",
       "    <tr>\n",
       "      <th>4</th>\n",
       "      <td>10828</td>\n",
       "      <td>0214moon</td>\n",
       "    </tr>\n",
       "  </tbody>\n",
       "</table>\n",
       "</div>"
      ],
      "text/plain": [
       "   Unnamed: 0      username\n",
       "0       10813    0.yao.yuan\n",
       "1       10817      008dilip\n",
       "2       10821  01024461660a\n",
       "3       10826       01luiyi\n",
       "4       10828      0214moon"
      ]
     },
     "execution_count": 4,
     "metadata": {},
     "output_type": "execute_result"
    }
   ],
   "source": [
    "clusters_df.head(5)"
   ]
  },
  {
   "cell_type": "code",
   "execution_count": 5,
   "metadata": {},
   "outputs": [
    {
     "data": {
      "text/html": [
       "<div>\n",
       "<style scoped>\n",
       "    .dataframe tbody tr th:only-of-type {\n",
       "        vertical-align: middle;\n",
       "    }\n",
       "\n",
       "    .dataframe tbody tr th {\n",
       "        vertical-align: top;\n",
       "    }\n",
       "\n",
       "    .dataframe thead th {\n",
       "        text-align: right;\n",
       "    }\n",
       "</style>\n",
       "<table border=\"1\" class=\"dataframe\">\n",
       "  <thead>\n",
       "    <tr style=\"text-align: right;\">\n",
       "      <th></th>\n",
       "      <th>Unnamed: 0</th>\n",
       "      <th>username</th>\n",
       "    </tr>\n",
       "  </thead>\n",
       "  <tbody>\n",
       "    <tr>\n",
       "      <th>0</th>\n",
       "      <td>0</td>\n",
       "      <td>-100005</td>\n",
       "    </tr>\n",
       "    <tr>\n",
       "      <th>1</th>\n",
       "      <td>1</td>\n",
       "      <td>-100024</td>\n",
       "    </tr>\n",
       "    <tr>\n",
       "      <th>2</th>\n",
       "      <td>2</td>\n",
       "      <td>-100026</td>\n",
       "    </tr>\n",
       "    <tr>\n",
       "      <th>3</th>\n",
       "      <td>3</td>\n",
       "      <td>-100032</td>\n",
       "    </tr>\n",
       "    <tr>\n",
       "      <th>4</th>\n",
       "      <td>4</td>\n",
       "      <td>-10006</td>\n",
       "    </tr>\n",
       "  </tbody>\n",
       "</table>\n",
       "</div>"
      ],
      "text/plain": [
       "   Unnamed: 0 username\n",
       "0           0  -100005\n",
       "1           1  -100024\n",
       "2           2  -100026\n",
       "3           3  -100032\n",
       "4           4   -10006"
      ]
     },
     "execution_count": 5,
     "metadata": {},
     "output_type": "execute_result"
    }
   ],
   "source": [
    "selfs_df.head(5)"
   ]
  },
  {
   "cell_type": "code",
   "execution_count": 6,
   "metadata": {},
   "outputs": [
    {
     "data": {
      "text/html": [
       "<div>\n",
       "<style scoped>\n",
       "    .dataframe tbody tr th:only-of-type {\n",
       "        vertical-align: middle;\n",
       "    }\n",
       "\n",
       "    .dataframe tbody tr th {\n",
       "        vertical-align: top;\n",
       "    }\n",
       "\n",
       "    .dataframe thead th {\n",
       "        text-align: right;\n",
       "    }\n",
       "</style>\n",
       "<table border=\"1\" class=\"dataframe\">\n",
       "  <thead>\n",
       "    <tr style=\"text-align: right;\">\n",
       "      <th></th>\n",
       "      <th>Unnamed: 0</th>\n",
       "      <th>usernames</th>\n",
       "    </tr>\n",
       "  </thead>\n",
       "  <tbody>\n",
       "    <tr>\n",
       "      <th>0</th>\n",
       "      <td>0</td>\n",
       "      <td>hspwong</td>\n",
       "    </tr>\n",
       "    <tr>\n",
       "      <th>1</th>\n",
       "      <td>1</td>\n",
       "      <td>onayfeh</td>\n",
       "    </tr>\n",
       "    <tr>\n",
       "      <th>2</th>\n",
       "      <td>2</td>\n",
       "      <td>accelrys</td>\n",
       "    </tr>\n",
       "    <tr>\n",
       "      <th>3</th>\n",
       "      <td>3</td>\n",
       "      <td>himadri</td>\n",
       "    </tr>\n",
       "    <tr>\n",
       "      <th>4</th>\n",
       "      <td>4</td>\n",
       "      <td>fossum</td>\n",
       "    </tr>\n",
       "  </tbody>\n",
       "</table>\n",
       "</div>"
      ],
      "text/plain": [
       "   Unnamed: 0 usernames\n",
       "0           0   hspwong\n",
       "1           1   onayfeh\n",
       "2           2  accelrys\n",
       "3           3   himadri\n",
       "4           4    fossum"
      ]
     },
     "execution_count": 6,
     "metadata": {},
     "output_type": "execute_result"
    }
   ],
   "source": [
    "researchers_df.head(5)"
   ]
  },
  {
   "cell_type": "code",
   "execution_count": 35,
   "metadata": {},
   "outputs": [],
   "source": [
    "sql_query = \"select min(datetime), max(datetime), user from toolstart group by user\"\n",
    "engine = sql.create_engine('mysql+pymysql://%s:%s@127.0.0.1/nanohub_metrics' \\\n",
    "                                               %('wang2506_ro', 'fnVnwcCS7iT45EsA'))"
   ]
  },
  {
   "cell_type": "code",
   "execution_count": 36,
   "metadata": {},
   "outputs": [],
   "source": [
    "lifetimes_df = pd.read_sql_query(sql_query,engine)"
   ]
  },
  {
   "cell_type": "code",
   "execution_count": 96,
   "metadata": {},
   "outputs": [
    {
     "data": {
      "text/html": [
       "<div>\n",
       "<style scoped>\n",
       "    .dataframe tbody tr th:only-of-type {\n",
       "        vertical-align: middle;\n",
       "    }\n",
       "\n",
       "    .dataframe tbody tr th {\n",
       "        vertical-align: top;\n",
       "    }\n",
       "\n",
       "    .dataframe thead th {\n",
       "        text-align: right;\n",
       "    }\n",
       "</style>\n",
       "<table border=\"1\" class=\"dataframe\">\n",
       "  <thead>\n",
       "    <tr style=\"text-align: right;\">\n",
       "      <th></th>\n",
       "      <th>min(datetime)</th>\n",
       "      <th>max(datetime)</th>\n",
       "      <th>user</th>\n",
       "    </tr>\n",
       "  </thead>\n",
       "  <tbody>\n",
       "    <tr>\n",
       "      <th>0</th>\n",
       "      <td>0000-00-00 00:00:00</td>\n",
       "      <td>2013-05-28 15:46:14</td>\n",
       "      <td></td>\n",
       "    </tr>\n",
       "    <tr>\n",
       "      <th>1</th>\n",
       "      <td>2017-03-08 10:15:23</td>\n",
       "      <td>2017-03-09 05:09:22</td>\n",
       "      <td>0.yao.yuan</td>\n",
       "    </tr>\n",
       "    <tr>\n",
       "      <th>2</th>\n",
       "      <td>2016-09-28 20:27:13</td>\n",
       "      <td>2016-10-12 23:50:56</td>\n",
       "      <td>008dilip</td>\n",
       "    </tr>\n",
       "    <tr>\n",
       "      <th>3</th>\n",
       "      <td>2013-11-19 00:53:23</td>\n",
       "      <td>2013-11-19 00:58:56</td>\n",
       "      <td>00ff</td>\n",
       "    </tr>\n",
       "    <tr>\n",
       "      <th>4</th>\n",
       "      <td>2017-03-20 09:46:36</td>\n",
       "      <td>2017-03-20 09:46:36</td>\n",
       "      <td>00thamizharasi00</td>\n",
       "    </tr>\n",
       "  </tbody>\n",
       "</table>\n",
       "</div>"
      ],
      "text/plain": [
       "         min(datetime)       max(datetime)              user\n",
       "0  0000-00-00 00:00:00 2013-05-28 15:46:14                  \n",
       "1  2017-03-08 10:15:23 2017-03-09 05:09:22        0.yao.yuan\n",
       "2  2016-09-28 20:27:13 2016-10-12 23:50:56          008dilip\n",
       "3  2013-11-19 00:53:23 2013-11-19 00:58:56              00ff\n",
       "4  2017-03-20 09:46:36 2017-03-20 09:46:36  00thamizharasi00"
      ]
     },
     "execution_count": 96,
     "metadata": {},
     "output_type": "execute_result"
    }
   ],
   "source": [
    "lifetimes_df.head(5)"
   ]
  },
  {
   "cell_type": "code",
   "execution_count": 97,
   "metadata": {},
   "outputs": [
    {
     "data": {
      "text/plain": [
       "(146785, 3)"
      ]
     },
     "execution_count": 97,
     "metadata": {},
     "output_type": "execute_result"
    }
   ],
   "source": [
    "lifetimes_df.shape"
   ]
  },
  {
   "cell_type": "code",
   "execution_count": 98,
   "metadata": {},
   "outputs": [],
   "source": [
    "# remove garbage usernames\n",
    "temp = lifetimes_df[lifetimes_df['user'] != '']"
   ]
  },
  {
   "cell_type": "code",
   "execution_count": 99,
   "metadata": {},
   "outputs": [
    {
     "data": {
      "text/html": [
       "<div>\n",
       "<style scoped>\n",
       "    .dataframe tbody tr th:only-of-type {\n",
       "        vertical-align: middle;\n",
       "    }\n",
       "\n",
       "    .dataframe tbody tr th {\n",
       "        vertical-align: top;\n",
       "    }\n",
       "\n",
       "    .dataframe thead th {\n",
       "        text-align: right;\n",
       "    }\n",
       "</style>\n",
       "<table border=\"1\" class=\"dataframe\">\n",
       "  <thead>\n",
       "    <tr style=\"text-align: right;\">\n",
       "      <th></th>\n",
       "      <th>min(datetime)</th>\n",
       "      <th>max(datetime)</th>\n",
       "      <th>user</th>\n",
       "    </tr>\n",
       "  </thead>\n",
       "  <tbody>\n",
       "    <tr>\n",
       "      <th>1</th>\n",
       "      <td>2017-03-08 10:15:23</td>\n",
       "      <td>2017-03-09 05:09:22</td>\n",
       "      <td>0.yao.yuan</td>\n",
       "    </tr>\n",
       "    <tr>\n",
       "      <th>2</th>\n",
       "      <td>2016-09-28 20:27:13</td>\n",
       "      <td>2016-10-12 23:50:56</td>\n",
       "      <td>008dilip</td>\n",
       "    </tr>\n",
       "    <tr>\n",
       "      <th>3</th>\n",
       "      <td>2013-11-19 00:53:23</td>\n",
       "      <td>2013-11-19 00:58:56</td>\n",
       "      <td>00ff</td>\n",
       "    </tr>\n",
       "    <tr>\n",
       "      <th>4</th>\n",
       "      <td>2017-03-20 09:46:36</td>\n",
       "      <td>2017-03-20 09:46:36</td>\n",
       "      <td>00thamizharasi00</td>\n",
       "    </tr>\n",
       "    <tr>\n",
       "      <th>5</th>\n",
       "      <td>2020-09-23 18:14:20</td>\n",
       "      <td>2020-12-11 02:58:30</td>\n",
       "      <td>01024461660a</td>\n",
       "    </tr>\n",
       "    <tr>\n",
       "      <th>...</th>\n",
       "      <td>...</td>\n",
       "      <td>...</td>\n",
       "      <td>...</td>\n",
       "    </tr>\n",
       "    <tr>\n",
       "      <th>146780</th>\n",
       "      <td>2016-07-13 00:40:03</td>\n",
       "      <td>2016-07-13 06:33:44</td>\n",
       "      <td>zzzstas</td>\n",
       "    </tr>\n",
       "    <tr>\n",
       "      <th>146781</th>\n",
       "      <td>2002-07-23 02:52:49</td>\n",
       "      <td>2002-07-23 03:04:24</td>\n",
       "      <td>z_depth</td>\n",
       "    </tr>\n",
       "    <tr>\n",
       "      <th>146782</th>\n",
       "      <td>2006-10-16 20:25:49</td>\n",
       "      <td>2006-10-16 20:27:53</td>\n",
       "      <td>Z_E_U_S</td>\n",
       "    </tr>\n",
       "    <tr>\n",
       "      <th>146783</th>\n",
       "      <td>2013-02-11 14:42:41</td>\n",
       "      <td>2013-02-19 01:53:39</td>\n",
       "      <td>z_henry35</td>\n",
       "    </tr>\n",
       "    <tr>\n",
       "      <th>146784</th>\n",
       "      <td>2008-07-09 22:51:51</td>\n",
       "      <td>2008-07-23 09:39:34</td>\n",
       "      <td>z_sath</td>\n",
       "    </tr>\n",
       "  </tbody>\n",
       "</table>\n",
       "<p>146784 rows × 3 columns</p>\n",
       "</div>"
      ],
      "text/plain": [
       "              min(datetime)       max(datetime)              user\n",
       "1       2017-03-08 10:15:23 2017-03-09 05:09:22        0.yao.yuan\n",
       "2       2016-09-28 20:27:13 2016-10-12 23:50:56          008dilip\n",
       "3       2013-11-19 00:53:23 2013-11-19 00:58:56              00ff\n",
       "4       2017-03-20 09:46:36 2017-03-20 09:46:36  00thamizharasi00\n",
       "5       2020-09-23 18:14:20 2020-12-11 02:58:30      01024461660a\n",
       "...                     ...                 ...               ...\n",
       "146780  2016-07-13 00:40:03 2016-07-13 06:33:44           zzzstas\n",
       "146781  2002-07-23 02:52:49 2002-07-23 03:04:24           z_depth\n",
       "146782  2006-10-16 20:25:49 2006-10-16 20:27:53           Z_E_U_S\n",
       "146783  2013-02-11 14:42:41 2013-02-19 01:53:39         z_henry35\n",
       "146784  2008-07-09 22:51:51 2008-07-23 09:39:34            z_sath\n",
       "\n",
       "[146784 rows x 3 columns]"
      ]
     },
     "execution_count": 99,
     "metadata": {},
     "output_type": "execute_result"
    }
   ],
   "source": [
    "temp"
   ]
  },
  {
   "cell_type": "code",
   "execution_count": 100,
   "metadata": {},
   "outputs": [
    {
     "data": {
      "text/plain": [
       "'0000-00-00 00:00:00'"
      ]
     },
     "execution_count": 100,
     "metadata": {},
     "output_type": "execute_result"
    }
   ],
   "source": [
    "lifetimes_df['min(datetime)'].to_numpy()[0]"
   ]
  },
  {
   "cell_type": "code",
   "execution_count": 101,
   "metadata": {},
   "outputs": [],
   "source": [
    "# replace 0000-00-00 with 2000-01-01\n",
    "temp2 = lifetimes_df['min(datetime)'].to_list()\n",
    "for i,j in enumerate(temp2):\n",
    "    if type(j) == str:\n",
    "        if j == '0000-00-00 00:00:00':\n",
    "            temp2[i] = '2000-01-01 00:10:10'\n"
   ]
  },
  {
   "cell_type": "code",
   "execution_count": 102,
   "metadata": {},
   "outputs": [
    {
     "data": {
      "text/plain": [
       "146785"
      ]
     },
     "execution_count": 102,
     "metadata": {},
     "output_type": "execute_result"
    }
   ],
   "source": [
    "len(temp2)"
   ]
  },
  {
   "cell_type": "code",
   "execution_count": 103,
   "metadata": {},
   "outputs": [
    {
     "data": {
      "text/plain": [
       "False"
      ]
     },
     "execution_count": 103,
     "metadata": {},
     "output_type": "execute_result"
    }
   ],
   "source": [
    "temp2[0] == '0000-00-00 00:00:00'"
   ]
  },
  {
   "cell_type": "code",
   "execution_count": 104,
   "metadata": {},
   "outputs": [
    {
     "name": "stderr",
     "output_type": "stream",
     "text": [
      "C:\\Users\\ch5b2\\anaconda3\\lib\\site-packages\\ipykernel_launcher.py:1: SettingWithCopyWarning: \n",
      "A value is trying to be set on a copy of a slice from a DataFrame.\n",
      "Try using .loc[row_indexer,col_indexer] = value instead\n",
      "\n",
      "See the caveats in the documentation: https://pandas.pydata.org/pandas-docs/stable/user_guide/indexing.html#returning-a-view-versus-a-copy\n",
      "  \"\"\"Entry point for launching an IPython kernel.\n",
      "C:\\Users\\ch5b2\\anaconda3\\lib\\site-packages\\ipykernel_launcher.py:2: SettingWithCopyWarning: \n",
      "A value is trying to be set on a copy of a slice from a DataFrame.\n",
      "Try using .loc[row_indexer,col_indexer] = value instead\n",
      "\n",
      "See the caveats in the documentation: https://pandas.pydata.org/pandas-docs/stable/user_guide/indexing.html#returning-a-view-versus-a-copy\n",
      "  \n",
      "C:\\Users\\ch5b2\\anaconda3\\lib\\site-packages\\ipykernel_launcher.py:3: SettingWithCopyWarning: \n",
      "A value is trying to be set on a copy of a slice from a DataFrame.\n",
      "Try using .loc[row_indexer,col_indexer] = value instead\n",
      "\n",
      "See the caveats in the documentation: https://pandas.pydata.org/pandas-docs/stable/user_guide/indexing.html#returning-a-view-versus-a-copy\n",
      "  This is separate from the ipykernel package so we can avoid doing imports until\n"
     ]
    }
   ],
   "source": [
    "temp['min(datetime)'] = temp2[1:]\n",
    "temp['min(datetime)'] = pd.to_datetime(temp['min(datetime)'])\n",
    "temp['max(datetime)'] = pd.to_datetime(temp['max(datetime)'])"
   ]
  },
  {
   "cell_type": "code",
   "execution_count": 129,
   "metadata": {},
   "outputs": [],
   "source": [
    "## calculate lifetimes\n",
    "lifetime_num = []\n",
    "min_dates = temp['min(datetime)'].to_list()\n",
    "for i,j in enumerate(temp['max(datetime)'].to_list()):\n",
    "    temp_time = j-min_dates[i]\n",
    "    lifetime_num.append(temp_time.days)\n"
   ]
  },
  {
   "cell_type": "code",
   "execution_count": 130,
   "metadata": {},
   "outputs": [
    {
     "data": {
      "text/plain": [
       "[0, 14, 0, 0, 78]"
      ]
     },
     "execution_count": 130,
     "metadata": {},
     "output_type": "execute_result"
    }
   ],
   "source": [
    "lifetime_num[:5]"
   ]
  },
  {
   "cell_type": "code",
   "execution_count": 131,
   "metadata": {},
   "outputs": [
    {
     "name": "stderr",
     "output_type": "stream",
     "text": [
      "C:\\Users\\ch5b2\\anaconda3\\lib\\site-packages\\ipykernel_launcher.py:1: SettingWithCopyWarning: \n",
      "A value is trying to be set on a copy of a slice from a DataFrame.\n",
      "Try using .loc[row_indexer,col_indexer] = value instead\n",
      "\n",
      "See the caveats in the documentation: https://pandas.pydata.org/pandas-docs/stable/user_guide/indexing.html#returning-a-view-versus-a-copy\n",
      "  \"\"\"Entry point for launching an IPython kernel.\n"
     ]
    }
   ],
   "source": [
    "temp['lifetimes'] = lifetime_num"
   ]
  },
  {
   "cell_type": "code",
   "execution_count": 132,
   "metadata": {},
   "outputs": [
    {
     "data": {
      "text/html": [
       "<div>\n",
       "<style scoped>\n",
       "    .dataframe tbody tr th:only-of-type {\n",
       "        vertical-align: middle;\n",
       "    }\n",
       "\n",
       "    .dataframe tbody tr th {\n",
       "        vertical-align: top;\n",
       "    }\n",
       "\n",
       "    .dataframe thead th {\n",
       "        text-align: right;\n",
       "    }\n",
       "</style>\n",
       "<table border=\"1\" class=\"dataframe\">\n",
       "  <thead>\n",
       "    <tr style=\"text-align: right;\">\n",
       "      <th></th>\n",
       "      <th>min(datetime)</th>\n",
       "      <th>max(datetime)</th>\n",
       "      <th>user</th>\n",
       "      <th>lifetimes</th>\n",
       "    </tr>\n",
       "  </thead>\n",
       "  <tbody>\n",
       "    <tr>\n",
       "      <th>1</th>\n",
       "      <td>2017-03-08 10:15:23</td>\n",
       "      <td>2017-03-09 05:09:22</td>\n",
       "      <td>0.yao.yuan</td>\n",
       "      <td>0</td>\n",
       "    </tr>\n",
       "    <tr>\n",
       "      <th>2</th>\n",
       "      <td>2016-09-28 20:27:13</td>\n",
       "      <td>2016-10-12 23:50:56</td>\n",
       "      <td>008dilip</td>\n",
       "      <td>14</td>\n",
       "    </tr>\n",
       "    <tr>\n",
       "      <th>3</th>\n",
       "      <td>2013-11-19 00:53:23</td>\n",
       "      <td>2013-11-19 00:58:56</td>\n",
       "      <td>00ff</td>\n",
       "      <td>0</td>\n",
       "    </tr>\n",
       "    <tr>\n",
       "      <th>4</th>\n",
       "      <td>2017-03-20 09:46:36</td>\n",
       "      <td>2017-03-20 09:46:36</td>\n",
       "      <td>00thamizharasi00</td>\n",
       "      <td>0</td>\n",
       "    </tr>\n",
       "    <tr>\n",
       "      <th>5</th>\n",
       "      <td>2020-09-23 18:14:20</td>\n",
       "      <td>2020-12-11 02:58:30</td>\n",
       "      <td>01024461660a</td>\n",
       "      <td>78</td>\n",
       "    </tr>\n",
       "  </tbody>\n",
       "</table>\n",
       "</div>"
      ],
      "text/plain": [
       "        min(datetime)       max(datetime)              user  lifetimes\n",
       "1 2017-03-08 10:15:23 2017-03-09 05:09:22        0.yao.yuan          0\n",
       "2 2016-09-28 20:27:13 2016-10-12 23:50:56          008dilip         14\n",
       "3 2013-11-19 00:53:23 2013-11-19 00:58:56              00ff          0\n",
       "4 2017-03-20 09:46:36 2017-03-20 09:46:36  00thamizharasi00          0\n",
       "5 2020-09-23 18:14:20 2020-12-11 02:58:30      01024461660a         78"
      ]
     },
     "metadata": {},
     "output_type": "display_data"
    },
    {
     "data": {
      "text/html": [
       "<div>\n",
       "<style scoped>\n",
       "    .dataframe tbody tr th:only-of-type {\n",
       "        vertical-align: middle;\n",
       "    }\n",
       "\n",
       "    .dataframe tbody tr th {\n",
       "        vertical-align: top;\n",
       "    }\n",
       "\n",
       "    .dataframe thead th {\n",
       "        text-align: right;\n",
       "    }\n",
       "</style>\n",
       "<table border=\"1\" class=\"dataframe\">\n",
       "  <thead>\n",
       "    <tr style=\"text-align: right;\">\n",
       "      <th></th>\n",
       "      <th>min(datetime)</th>\n",
       "      <th>max(datetime)</th>\n",
       "      <th>user</th>\n",
       "      <th>lifetimes</th>\n",
       "    </tr>\n",
       "  </thead>\n",
       "  <tbody>\n",
       "    <tr>\n",
       "      <th>146780</th>\n",
       "      <td>2016-07-13 00:40:03</td>\n",
       "      <td>2016-07-13 06:33:44</td>\n",
       "      <td>zzzstas</td>\n",
       "      <td>0</td>\n",
       "    </tr>\n",
       "    <tr>\n",
       "      <th>146781</th>\n",
       "      <td>2002-07-23 02:52:49</td>\n",
       "      <td>2002-07-23 03:04:24</td>\n",
       "      <td>z_depth</td>\n",
       "      <td>0</td>\n",
       "    </tr>\n",
       "    <tr>\n",
       "      <th>146782</th>\n",
       "      <td>2006-10-16 20:25:49</td>\n",
       "      <td>2006-10-16 20:27:53</td>\n",
       "      <td>Z_E_U_S</td>\n",
       "      <td>0</td>\n",
       "    </tr>\n",
       "    <tr>\n",
       "      <th>146783</th>\n",
       "      <td>2013-02-11 14:42:41</td>\n",
       "      <td>2013-02-19 01:53:39</td>\n",
       "      <td>z_henry35</td>\n",
       "      <td>7</td>\n",
       "    </tr>\n",
       "    <tr>\n",
       "      <th>146784</th>\n",
       "      <td>2008-07-09 22:51:51</td>\n",
       "      <td>2008-07-23 09:39:34</td>\n",
       "      <td>z_sath</td>\n",
       "      <td>13</td>\n",
       "    </tr>\n",
       "  </tbody>\n",
       "</table>\n",
       "</div>"
      ],
      "text/plain": [
       "             min(datetime)       max(datetime)       user  lifetimes\n",
       "146780 2016-07-13 00:40:03 2016-07-13 06:33:44    zzzstas          0\n",
       "146781 2002-07-23 02:52:49 2002-07-23 03:04:24    z_depth          0\n",
       "146782 2006-10-16 20:25:49 2006-10-16 20:27:53    Z_E_U_S          0\n",
       "146783 2013-02-11 14:42:41 2013-02-19 01:53:39  z_henry35          7\n",
       "146784 2008-07-09 22:51:51 2008-07-23 09:39:34     z_sath         13"
      ]
     },
     "metadata": {},
     "output_type": "display_data"
    }
   ],
   "source": [
    "display(temp.head(5))\n",
    "display(temp.tail(5))"
   ]
  },
  {
   "cell_type": "code",
   "execution_count": 133,
   "metadata": {},
   "outputs": [],
   "source": [
    "from copy import deepcopy"
   ]
  },
  {
   "cell_type": "code",
   "execution_count": 134,
   "metadata": {},
   "outputs": [],
   "source": [
    "send_df = deepcopy(temp)"
   ]
  },
  {
   "cell_type": "code",
   "execution_count": 135,
   "metadata": {},
   "outputs": [],
   "source": [
    "send_df = send_df.rename(columns={'user':'nanoHUB_username__c','lifetimes':'sim_lifetimes__c',\\\n",
    "                    'min(datetime)':'earliest_sim__c','max(datetime)':'latest_sim__c'})"
   ]
  },
  {
   "cell_type": "code",
   "execution_count": 136,
   "metadata": {},
   "outputs": [
    {
     "data": {
      "text/html": [
       "<div>\n",
       "<style scoped>\n",
       "    .dataframe tbody tr th:only-of-type {\n",
       "        vertical-align: middle;\n",
       "    }\n",
       "\n",
       "    .dataframe tbody tr th {\n",
       "        vertical-align: top;\n",
       "    }\n",
       "\n",
       "    .dataframe thead th {\n",
       "        text-align: right;\n",
       "    }\n",
       "</style>\n",
       "<table border=\"1\" class=\"dataframe\">\n",
       "  <thead>\n",
       "    <tr style=\"text-align: right;\">\n",
       "      <th></th>\n",
       "      <th>earliest_sim__c</th>\n",
       "      <th>latest_sim__c</th>\n",
       "      <th>nanoHUB_username__c</th>\n",
       "      <th>sim_lifetimes__c</th>\n",
       "    </tr>\n",
       "  </thead>\n",
       "  <tbody>\n",
       "    <tr>\n",
       "      <th>1</th>\n",
       "      <td>2017-03-08 10:15:23</td>\n",
       "      <td>2017-03-09 05:09:22</td>\n",
       "      <td>0.yao.yuan</td>\n",
       "      <td>0</td>\n",
       "    </tr>\n",
       "    <tr>\n",
       "      <th>2</th>\n",
       "      <td>2016-09-28 20:27:13</td>\n",
       "      <td>2016-10-12 23:50:56</td>\n",
       "      <td>008dilip</td>\n",
       "      <td>14</td>\n",
       "    </tr>\n",
       "    <tr>\n",
       "      <th>3</th>\n",
       "      <td>2013-11-19 00:53:23</td>\n",
       "      <td>2013-11-19 00:58:56</td>\n",
       "      <td>00ff</td>\n",
       "      <td>0</td>\n",
       "    </tr>\n",
       "    <tr>\n",
       "      <th>4</th>\n",
       "      <td>2017-03-20 09:46:36</td>\n",
       "      <td>2017-03-20 09:46:36</td>\n",
       "      <td>00thamizharasi00</td>\n",
       "      <td>0</td>\n",
       "    </tr>\n",
       "    <tr>\n",
       "      <th>5</th>\n",
       "      <td>2020-09-23 18:14:20</td>\n",
       "      <td>2020-12-11 02:58:30</td>\n",
       "      <td>01024461660a</td>\n",
       "      <td>78</td>\n",
       "    </tr>\n",
       "    <tr>\n",
       "      <th>...</th>\n",
       "      <td>...</td>\n",
       "      <td>...</td>\n",
       "      <td>...</td>\n",
       "      <td>...</td>\n",
       "    </tr>\n",
       "    <tr>\n",
       "      <th>146780</th>\n",
       "      <td>2016-07-13 00:40:03</td>\n",
       "      <td>2016-07-13 06:33:44</td>\n",
       "      <td>zzzstas</td>\n",
       "      <td>0</td>\n",
       "    </tr>\n",
       "    <tr>\n",
       "      <th>146781</th>\n",
       "      <td>2002-07-23 02:52:49</td>\n",
       "      <td>2002-07-23 03:04:24</td>\n",
       "      <td>z_depth</td>\n",
       "      <td>0</td>\n",
       "    </tr>\n",
       "    <tr>\n",
       "      <th>146782</th>\n",
       "      <td>2006-10-16 20:25:49</td>\n",
       "      <td>2006-10-16 20:27:53</td>\n",
       "      <td>Z_E_U_S</td>\n",
       "      <td>0</td>\n",
       "    </tr>\n",
       "    <tr>\n",
       "      <th>146783</th>\n",
       "      <td>2013-02-11 14:42:41</td>\n",
       "      <td>2013-02-19 01:53:39</td>\n",
       "      <td>z_henry35</td>\n",
       "      <td>7</td>\n",
       "    </tr>\n",
       "    <tr>\n",
       "      <th>146784</th>\n",
       "      <td>2008-07-09 22:51:51</td>\n",
       "      <td>2008-07-23 09:39:34</td>\n",
       "      <td>z_sath</td>\n",
       "      <td>13</td>\n",
       "    </tr>\n",
       "  </tbody>\n",
       "</table>\n",
       "<p>146784 rows × 4 columns</p>\n",
       "</div>"
      ],
      "text/plain": [
       "           earliest_sim__c       latest_sim__c nanoHUB_username__c  \\\n",
       "1      2017-03-08 10:15:23 2017-03-09 05:09:22          0.yao.yuan   \n",
       "2      2016-09-28 20:27:13 2016-10-12 23:50:56            008dilip   \n",
       "3      2013-11-19 00:53:23 2013-11-19 00:58:56                00ff   \n",
       "4      2017-03-20 09:46:36 2017-03-20 09:46:36    00thamizharasi00   \n",
       "5      2020-09-23 18:14:20 2020-12-11 02:58:30        01024461660a   \n",
       "...                    ...                 ...                 ...   \n",
       "146780 2016-07-13 00:40:03 2016-07-13 06:33:44             zzzstas   \n",
       "146781 2002-07-23 02:52:49 2002-07-23 03:04:24             z_depth   \n",
       "146782 2006-10-16 20:25:49 2006-10-16 20:27:53             Z_E_U_S   \n",
       "146783 2013-02-11 14:42:41 2013-02-19 01:53:39           z_henry35   \n",
       "146784 2008-07-09 22:51:51 2008-07-23 09:39:34              z_sath   \n",
       "\n",
       "        sim_lifetimes__c  \n",
       "1                      0  \n",
       "2                     14  \n",
       "3                      0  \n",
       "4                      0  \n",
       "5                     78  \n",
       "...                  ...  \n",
       "146780                 0  \n",
       "146781                 0  \n",
       "146782                 0  \n",
       "146783                 7  \n",
       "146784                13  \n",
       "\n",
       "[146784 rows x 4 columns]"
      ]
     },
     "execution_count": 136,
     "metadata": {},
     "output_type": "execute_result"
    }
   ],
   "source": [
    "send_df"
   ]
  },
  {
   "cell_type": "code",
   "execution_count": 138,
   "metadata": {},
   "outputs": [
    {
     "name": "stdout",
     "output_type": "stream",
     "text": [
      "Obtained Salesforce access token ...... True\n"
     ]
    }
   ],
   "source": [
    "db_s = DB2SalesforceAPI(sf_login_params)"
   ]
  },
  {
   "cell_type": "code",
   "execution_count": 139,
   "metadata": {},
   "outputs": [],
   "source": [
    "db_s.external_id = external_id\n",
    "db_s.object_id = object_id"
   ]
  },
  {
   "cell_type": "code",
   "execution_count": 140,
   "metadata": {},
   "outputs": [
    {
     "name": "stdout",
     "output_type": "stream",
     "text": [
      "[Success] Bulk job creation successful. Job ID = 7505w00000UBoazAAD\n",
      "hello\n",
      "[Success] CSV upload successful. Job ID = 7505w00000UBoazAAD\n",
      "[Success] Closing job successful. Job ID = 7505w00000UBoazAAD\n"
     ]
    }
   ],
   "source": [
    "db_s.send_data(send_df)"
   ]
  },
  {
   "cell_type": "code",
   "execution_count": 159,
   "metadata": {},
   "outputs": [
    {
     "data": {
      "text/plain": [
       "{'id': '7505w00000UBoazAAD',\n",
       " 'operation': 'upsert',\n",
       " 'object': 'Contact',\n",
       " 'createdById': '0055w00000DM5bOAAT',\n",
       " 'createdDate': '2021-02-13T22:16:44.000+0000',\n",
       " 'systemModstamp': '2021-02-13T22:22:23.000+0000',\n",
       " 'state': 'JobComplete',\n",
       " 'externalIdFieldName': 'nanoHUB_username__c',\n",
       " 'concurrencyMode': 'Parallel',\n",
       " 'contentType': 'CSV',\n",
       " 'apiVersion': 47.0,\n",
       " 'jobType': 'V2Ingest',\n",
       " 'lineEnding': 'LF',\n",
       " 'columnDelimiter': 'COMMA',\n",
       " 'numberRecordsProcessed': 146784,\n",
       " 'numberRecordsFailed': 784,\n",
       " 'retries': 0,\n",
       " 'totalProcessingTime': 1423096,\n",
       " 'apiActiveProcessingTime': 1277568,\n",
       " 'apexProcessingTime': 10870041}"
      ]
     },
     "execution_count": 159,
     "metadata": {},
     "output_type": "execute_result"
    }
   ],
   "source": [
    "db_s.check_bulk_status()"
   ]
  },
  {
   "cell_type": "code",
   "execution_count": 147,
   "metadata": {},
   "outputs": [
    {
     "name": "stdout",
     "output_type": "stream",
     "text": [
      "''\n"
     ]
    }
   ],
   "source": [
    "import pprint\n",
    "pprint.pprint(db_s.check_bulk_failed_results())"
   ]
  },
  {
   "cell_type": "code",
   "execution_count": null,
   "metadata": {},
   "outputs": [],
   "source": []
  }
 ],
 "metadata": {
  "kernelspec": {
   "display_name": "Python 3",
   "language": "python",
   "name": "python3"
  },
  "language_info": {
   "codemirror_mode": {
    "name": "ipython",
    "version": 3
   },
   "file_extension": ".py",
   "mimetype": "text/x-python",
   "name": "python",
   "nbconvert_exporter": "python",
   "pygments_lexer": "ipython3",
   "version": "3.7.10"
  }
 },
 "nbformat": 4,
 "nbformat_minor": 4
}
