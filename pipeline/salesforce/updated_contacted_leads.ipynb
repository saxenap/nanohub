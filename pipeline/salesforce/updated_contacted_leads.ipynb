{
 "cells": [
  {
   "cell_type": "markdown",
   "metadata": {},
   "source": [
    "# SF update contacted leads"
   ]
  },
  {
   "cell_type": "code",
   "execution_count": 1,
   "metadata": {
    "tags": [
     "parameters"
    ]
   },
   "outputs": [],
   "source": [
    "# API settings\n",
    "api_url = '/services/data/v43.0/sobjects'\n",
    "c_ext_id = 'nanoHUB_user_ID__c'\n",
    "c_obj_id = 'Contact'\n",
    "l_ext_id = 'SF_indexer'\n",
    "l_obj_id = 'Lead'\n",
    "\n",
    "\n",
    "# login parameters to be handled by Papermill\n",
    "sql_login_params = {\"username\": \"wang2506_ro\", \"password\": \"fnVnwcCS7iT45EsA\"}\n",
    "sf_login_params = {\n",
    "    \"grant_type\": \"password\",\n",
    "    \"client_id\": \"3MVG95jctIhbyCppj0SNJ75IsZ1y8UPGZtSNF4j8FNVXz.De8Lu4jHm3rjRosAtsHy6qjHx3i4S_QbQzvBePG\",\n",
    "    \"client_secret\": \"D1623C6D3607D4FC8004B92C761DFB6C1F70CCD129C5501E357028DFA00F5764\",\n",
    "    \"username\":\"wang2506@purdue.edu\",\n",
    "    \"password\":\"sf2021shitOPmlIiFMLnrudgC6oSX0WV1T\",  \n",
    "} "
   ]
  },
  {
   "cell_type": "code",
   "execution_count": 2,
   "metadata": {},
   "outputs": [],
   "source": [
    "import sys\n",
    "#sys.path.append(lib_dir)\n",
    "\n",
    "import pandas as pd\n",
    "import datetime"
   ]
  },
  {
   "cell_type": "markdown",
   "metadata": {},
   "source": [
    "## Obtain all contacts and leads from SF"
   ]
  },
  {
   "cell_type": "code",
   "execution_count": 4,
   "metadata": {},
   "outputs": [
    {
     "name": "stdout",
     "output_type": "stream",
     "text": [
      "Obtained Salesforce access token ...... True\n",
      "[Success] Bulk job creation successful. Job ID = 7505w00000RGS2QAAX\n",
      "{\"id\":\"7505w00000RGS2QAAX\",\"operation\":\"query\",\"object\":\"Lead\",\"createdById\":\"0055w00000DM5bOAAT\",\"createdDate\":\"2020-10-31T04:41:15.000+0000\",\"systemModstamp\":\"2020-10-31T04:41:15.000+0000\",\"state\":\"UploadComplete\",\"concurrencyMode\":\"Parallel\",\"contentType\":\"CSV\",\"apiVersion\":47.0,\"jobType\":\"V2Query\",\"lineEnding\":\"LF\",\"columnDelimiter\":\"COMMA\",\"retries\":0,\"totalProcessingTime\":0}\n",
      "{\"id\":\"7505w00000RGS2QAAX\",\"operation\":\"query\",\"object\":\"Lead\",\"createdById\":\"0055w00000DM5bOAAT\",\"createdDate\":\"2020-10-31T04:41:15.000+0000\",\"systemModstamp\":\"2020-10-31T04:41:15.000+0000\",\"state\":\"UploadComplete\",\"concurrencyMode\":\"Parallel\",\"contentType\":\"CSV\",\"apiVersion\":47.0,\"jobType\":\"V2Query\",\"lineEnding\":\"LF\",\"columnDelimiter\":\"COMMA\",\"retries\":0,\"totalProcessingTime\":0}\n",
      "{\"id\":\"7505w00000RGS2QAAX\",\"operation\":\"query\",\"object\":\"Lead\",\"createdById\":\"0055w00000DM5bOAAT\",\"createdDate\":\"2020-10-31T04:41:15.000+0000\",\"systemModstamp\":\"2020-10-31T04:41:15.000+0000\",\"state\":\"UploadComplete\",\"concurrencyMode\":\"Parallel\",\"contentType\":\"CSV\",\"apiVersion\":47.0,\"jobType\":\"V2Query\",\"lineEnding\":\"LF\",\"columnDelimiter\":\"COMMA\",\"retries\":0,\"totalProcessingTime\":0}\n",
      "{\"id\":\"7505w00000RGS2QAAX\",\"operation\":\"query\",\"object\":\"Lead\",\"createdById\":\"0055w00000DM5bOAAT\",\"createdDate\":\"2020-10-31T04:41:15.000+0000\",\"systemModstamp\":\"2020-10-31T04:41:15.000+0000\",\"state\":\"UploadComplete\",\"concurrencyMode\":\"Parallel\",\"contentType\":\"CSV\",\"apiVersion\":47.0,\"jobType\":\"V2Query\",\"lineEnding\":\"LF\",\"columnDelimiter\":\"COMMA\",\"retries\":0,\"totalProcessingTime\":0}\n",
      "{\"id\":\"7505w00000RGS2QAAX\",\"operation\":\"query\",\"object\":\"Lead\",\"createdById\":\"0055w00000DM5bOAAT\",\"createdDate\":\"2020-10-31T04:41:15.000+0000\",\"systemModstamp\":\"2020-10-31T04:41:55.000+0000\",\"state\":\"JobComplete\",\"concurrencyMode\":\"Parallel\",\"contentType\":\"CSV\",\"apiVersion\":47.0,\"jobType\":\"V2Query\",\"lineEnding\":\"LF\",\"columnDelimiter\":\"COMMA\",\"numberRecordsProcessed\":6794,\"retries\":0,\"totalProcessingTime\":750}\n",
      "[Success] Bulk job completed successfully.\n"
     ]
    }
   ],
   "source": [
    "from DB2SalesforceAPI import DB2SalesforceAPI\n",
    "\n",
    "db_s = DB2SalesforceAPI(sf_login_params)\n",
    "lead_df = db_s.query_data('SELECT Id, SF_indexer__c, Contact_Date__c, Email, NH_Registration_Date__c, \\\n",
    "Lead_Time__c, NH_ID__c, Contact_ID__c, Venue__c FROM Lead') #WHERE NH_ID__c = null')"
   ]
  },
  {
   "cell_type": "code",
   "execution_count": 5,
   "metadata": {},
   "outputs": [
    {
     "name": "stdout",
     "output_type": "stream",
     "text": [
      "['alex@bco.com', 'info@test.com', 'sandra@nationalseashores.com', 'bsanders@trekinc.com', 'a.hennawy@hotmail.com']\n",
      "alex@bco.com,info@test.com\n",
      "alex@bco.com,info@test.com,sandra@nationalseashore\n"
     ]
    }
   ],
   "source": [
    "lead_emails = lead_df['Email'].dropna().to_list()\n",
    "print(lead_emails[:5])\n",
    "test_email = '('+lead_emails[0]+','+lead_emails[1]+')'\n",
    "print(lead_emails[0]+','+lead_emails[1])\n",
    "print(','.join(lead_emails)[:50])"
   ]
  },
  {
   "cell_type": "code",
   "execution_count": 6,
   "metadata": {},
   "outputs": [
    {
     "name": "stdout",
     "output_type": "stream",
     "text": [
      "[Success] Bulk job creation successful. Job ID = 7505w00000RGS3dAAH\n",
      "{\"id\":\"7505w00000RGS3dAAH\",\"operation\":\"query\",\"object\":\"Contact\",\"createdById\":\"0055w00000DM5bOAAT\",\"createdDate\":\"2020-10-31T04:41:59.000+0000\",\"systemModstamp\":\"2020-10-31T04:41:59.000+0000\",\"state\":\"UploadComplete\",\"concurrencyMode\":\"Parallel\",\"contentType\":\"CSV\",\"apiVersion\":47.0,\"jobType\":\"V2Query\",\"lineEnding\":\"LF\",\"columnDelimiter\":\"COMMA\",\"retries\":0,\"totalProcessingTime\":0}\n",
      "{\"id\":\"7505w00000RGS3dAAH\",\"operation\":\"query\",\"object\":\"Contact\",\"createdById\":\"0055w00000DM5bOAAT\",\"createdDate\":\"2020-10-31T04:41:59.000+0000\",\"systemModstamp\":\"2020-10-31T04:41:59.000+0000\",\"state\":\"InProgress\",\"concurrencyMode\":\"Parallel\",\"contentType\":\"CSV\",\"apiVersion\":47.0,\"jobType\":\"V2Query\",\"lineEnding\":\"LF\",\"columnDelimiter\":\"COMMA\",\"numberRecordsProcessed\":0,\"retries\":0,\"totalProcessingTime\":0}\n",
      "{\"id\":\"7505w00000RGS3dAAH\",\"operation\":\"query\",\"object\":\"Contact\",\"createdById\":\"0055w00000DM5bOAAT\",\"createdDate\":\"2020-10-31T04:41:59.000+0000\",\"systemModstamp\":\"2020-10-31T04:41:59.000+0000\",\"state\":\"InProgress\",\"concurrencyMode\":\"Parallel\",\"contentType\":\"CSV\",\"apiVersion\":47.0,\"jobType\":\"V2Query\",\"lineEnding\":\"LF\",\"columnDelimiter\":\"COMMA\",\"numberRecordsProcessed\":0,\"retries\":0,\"totalProcessingTime\":0}\n",
      "{\"id\":\"7505w00000RGS3dAAH\",\"operation\":\"query\",\"object\":\"Contact\",\"createdById\":\"0055w00000DM5bOAAT\",\"createdDate\":\"2020-10-31T04:41:59.000+0000\",\"systemModstamp\":\"2020-10-31T04:42:29.000+0000\",\"state\":\"JobComplete\",\"concurrencyMode\":\"Parallel\",\"contentType\":\"CSV\",\"apiVersion\":47.0,\"jobType\":\"V2Query\",\"lineEnding\":\"LF\",\"columnDelimiter\":\"COMMA\",\"numberRecordsProcessed\":229457,\"retries\":0,\"totalProcessingTime\":28165}\n",
      "[Success] Bulk job completed successfully.\n"
     ]
    }
   ],
   "source": [
    "contact_df = db_s.query_data('SELECT Id, Email, Lead_Time__c, Lead_ID__c, Lead_Venue__c, Lead_Contact_Date__c, \\\n",
    "nanoHUB_user_ID__c, nanoHUB_registration_date__c FROM Contact')"
   ]
  },
  {
   "cell_type": "code",
   "execution_count": 7,
   "metadata": {},
   "outputs": [
    {
     "data": {
      "text/html": [
       "<div>\n",
       "<style scoped>\n",
       "    .dataframe tbody tr th:only-of-type {\n",
       "        vertical-align: middle;\n",
       "    }\n",
       "\n",
       "    .dataframe tbody tr th {\n",
       "        vertical-align: top;\n",
       "    }\n",
       "\n",
       "    .dataframe thead th {\n",
       "        text-align: right;\n",
       "    }\n",
       "</style>\n",
       "<table border=\"1\" class=\"dataframe\">\n",
       "  <thead>\n",
       "    <tr style=\"text-align: right;\">\n",
       "      <th></th>\n",
       "      <th>Contact_Date__c</th>\n",
       "      <th>Contact_ID__c</th>\n",
       "      <th>Email</th>\n",
       "      <th>Id</th>\n",
       "      <th>Lead_Time__c</th>\n",
       "      <th>NH_ID__c</th>\n",
       "      <th>NH_Registration_Date__c</th>\n",
       "      <th>SF_indexer__c</th>\n",
       "      <th>Venue__c</th>\n",
       "    </tr>\n",
       "  </thead>\n",
       "  <tbody>\n",
       "    <tr>\n",
       "      <th>0</th>\n",
       "      <td>NaN</td>\n",
       "      <td>NaN</td>\n",
       "      <td>alex@bco.com</td>\n",
       "      <td>00Q5w00001otOM1EAM</td>\n",
       "      <td>NaN</td>\n",
       "      <td>NaN</td>\n",
       "      <td>NaN</td>\n",
       "      <td>NaN</td>\n",
       "      <td>NaN</td>\n",
       "    </tr>\n",
       "    <tr>\n",
       "      <th>1</th>\n",
       "      <td>NaN</td>\n",
       "      <td>NaN</td>\n",
       "      <td>info@test.com</td>\n",
       "      <td>00Q5w00001otOM2EAM</td>\n",
       "      <td>NaN</td>\n",
       "      <td>NaN</td>\n",
       "      <td>NaN</td>\n",
       "      <td>NaN</td>\n",
       "      <td>NaN</td>\n",
       "    </tr>\n",
       "    <tr>\n",
       "      <th>2</th>\n",
       "      <td>NaN</td>\n",
       "      <td>NaN</td>\n",
       "      <td>NaN</td>\n",
       "      <td>00Q5w00001otOM3EAM</td>\n",
       "      <td>NaN</td>\n",
       "      <td>NaN</td>\n",
       "      <td>NaN</td>\n",
       "      <td>NaN</td>\n",
       "      <td>NaN</td>\n",
       "    </tr>\n",
       "    <tr>\n",
       "      <th>3</th>\n",
       "      <td>NaN</td>\n",
       "      <td>NaN</td>\n",
       "      <td>NaN</td>\n",
       "      <td>00Q5w00001otOM4EAM</td>\n",
       "      <td>NaN</td>\n",
       "      <td>NaN</td>\n",
       "      <td>NaN</td>\n",
       "      <td>NaN</td>\n",
       "      <td>NaN</td>\n",
       "    </tr>\n",
       "    <tr>\n",
       "      <th>4</th>\n",
       "      <td>NaN</td>\n",
       "      <td>NaN</td>\n",
       "      <td>sandra@nationalseashores.com</td>\n",
       "      <td>00Q5w00001otOM5EAM</td>\n",
       "      <td>NaN</td>\n",
       "      <td>NaN</td>\n",
       "      <td>NaN</td>\n",
       "      <td>NaN</td>\n",
       "      <td>NaN</td>\n",
       "    </tr>\n",
       "  </tbody>\n",
       "</table>\n",
       "</div>"
      ],
      "text/plain": [
       "   Contact_Date__c  Contact_ID__c                         Email  \\\n",
       "0              NaN            NaN                  alex@bco.com   \n",
       "1              NaN            NaN                 info@test.com   \n",
       "2              NaN            NaN                           NaN   \n",
       "3              NaN            NaN                           NaN   \n",
       "4              NaN            NaN  sandra@nationalseashores.com   \n",
       "\n",
       "                   Id  Lead_Time__c  NH_ID__c  NH_Registration_Date__c  \\\n",
       "0  00Q5w00001otOM1EAM           NaN       NaN                      NaN   \n",
       "1  00Q5w00001otOM2EAM           NaN       NaN                      NaN   \n",
       "2  00Q5w00001otOM3EAM           NaN       NaN                      NaN   \n",
       "3  00Q5w00001otOM4EAM           NaN       NaN                      NaN   \n",
       "4  00Q5w00001otOM5EAM           NaN       NaN                      NaN   \n",
       "\n",
       "   SF_indexer__c Venue__c  \n",
       "0            NaN      NaN  \n",
       "1            NaN      NaN  \n",
       "2            NaN      NaN  \n",
       "3            NaN      NaN  \n",
       "4            NaN      NaN  "
      ]
     },
     "metadata": {},
     "output_type": "display_data"
    },
    {
     "name": "stdout",
     "output_type": "stream",
     "text": [
      "(6794, 9)\n"
     ]
    }
   ],
   "source": [
    "display(lead_df.head(5))\n",
    "print(lead_df.shape)"
   ]
  },
  {
   "cell_type": "code",
   "execution_count": 8,
   "metadata": {},
   "outputs": [
    {
     "data": {
      "text/html": [
       "<div>\n",
       "<style scoped>\n",
       "    .dataframe tbody tr th:only-of-type {\n",
       "        vertical-align: middle;\n",
       "    }\n",
       "\n",
       "    .dataframe tbody tr th {\n",
       "        vertical-align: top;\n",
       "    }\n",
       "\n",
       "    .dataframe thead th {\n",
       "        text-align: right;\n",
       "    }\n",
       "</style>\n",
       "<table border=\"1\" class=\"dataframe\">\n",
       "  <thead>\n",
       "    <tr style=\"text-align: right;\">\n",
       "      <th></th>\n",
       "      <th>Email</th>\n",
       "      <th>Id</th>\n",
       "      <th>Lead_Contact_Date__c</th>\n",
       "      <th>Lead_ID__c</th>\n",
       "      <th>Lead_Time__c</th>\n",
       "      <th>Lead_Venue__c</th>\n",
       "      <th>nanoHUB_registration_date__c</th>\n",
       "      <th>nanoHUB_user_ID__c</th>\n",
       "    </tr>\n",
       "  </thead>\n",
       "  <tbody>\n",
       "    <tr>\n",
       "      <th>0</th>\n",
       "      <td>nkissebe@gmail.com</td>\n",
       "      <td>0035w000031Vsp1AAC</td>\n",
       "      <td>NaN</td>\n",
       "      <td>NaN</td>\n",
       "      <td>NaN</td>\n",
       "      <td>NaN</td>\n",
       "      <td>2014-11-13</td>\n",
       "      <td>998.0</td>\n",
       "    </tr>\n",
       "    <tr>\n",
       "      <th>1</th>\n",
       "      <td>support@nanohub.org</td>\n",
       "      <td>0035w000031Vsp2AAC</td>\n",
       "      <td>NaN</td>\n",
       "      <td>NaN</td>\n",
       "      <td>NaN</td>\n",
       "      <td>NaN</td>\n",
       "      <td>2008-11-19</td>\n",
       "      <td>1683.0</td>\n",
       "    </tr>\n",
       "    <tr>\n",
       "      <th>2</th>\n",
       "      <td>gridstat@nanohub.org</td>\n",
       "      <td>0035w000031Vsp3AAC</td>\n",
       "      <td>NaN</td>\n",
       "      <td>NaN</td>\n",
       "      <td>NaN</td>\n",
       "      <td>NaN</td>\n",
       "      <td>2008-11-18</td>\n",
       "      <td>1684.0</td>\n",
       "    </tr>\n",
       "    <tr>\n",
       "      <th>3</th>\n",
       "      <td>ncn@nanohub.org</td>\n",
       "      <td>0035w000031Vsp4AAC</td>\n",
       "      <td>NaN</td>\n",
       "      <td>NaN</td>\n",
       "      <td>NaN</td>\n",
       "      <td>NaN</td>\n",
       "      <td>2008-11-11</td>\n",
       "      <td>1685.0</td>\n",
       "    </tr>\n",
       "    <tr>\n",
       "      <th>4</th>\n",
       "      <td>apps@nanohub.org</td>\n",
       "      <td>0035w000031Vsp5AAC</td>\n",
       "      <td>NaN</td>\n",
       "      <td>NaN</td>\n",
       "      <td>NaN</td>\n",
       "      <td>NaN</td>\n",
       "      <td>2014-06-26</td>\n",
       "      <td>1686.0</td>\n",
       "    </tr>\n",
       "  </tbody>\n",
       "</table>\n",
       "</div>"
      ],
      "text/plain": [
       "                  Email                  Id  Lead_Contact_Date__c  Lead_ID__c  \\\n",
       "0    nkissebe@gmail.com  0035w000031Vsp1AAC                   NaN         NaN   \n",
       "1   support@nanohub.org  0035w000031Vsp2AAC                   NaN         NaN   \n",
       "2  gridstat@nanohub.org  0035w000031Vsp3AAC                   NaN         NaN   \n",
       "3       ncn@nanohub.org  0035w000031Vsp4AAC                   NaN         NaN   \n",
       "4      apps@nanohub.org  0035w000031Vsp5AAC                   NaN         NaN   \n",
       "\n",
       "   Lead_Time__c  Lead_Venue__c nanoHUB_registration_date__c  \\\n",
       "0           NaN            NaN                   2014-11-13   \n",
       "1           NaN            NaN                   2008-11-19   \n",
       "2           NaN            NaN                   2008-11-18   \n",
       "3           NaN            NaN                   2008-11-11   \n",
       "4           NaN            NaN                   2014-06-26   \n",
       "\n",
       "   nanoHUB_user_ID__c  \n",
       "0               998.0  \n",
       "1              1683.0  \n",
       "2              1684.0  \n",
       "3              1685.0  \n",
       "4              1686.0  "
      ]
     },
     "metadata": {},
     "output_type": "display_data"
    },
    {
     "name": "stdout",
     "output_type": "stream",
     "text": [
      "(229457, 8)\n"
     ]
    }
   ],
   "source": [
    "display(contact_df.head(5))\n",
    "print(contact_df.shape)"
   ]
  },
  {
   "cell_type": "markdown",
   "metadata": {},
   "source": [
    "## Find email address matches"
   ]
  },
  {
   "cell_type": "code",
   "execution_count": 9,
   "metadata": {},
   "outputs": [],
   "source": [
    "# find contacts and leads\n",
    "matches = {} #key:value - l_email index:c_email index\n",
    "\n",
    "c_emails = contact_df['Email'].to_list()\n",
    "l_emails = lead_df['Email'].fillna(' ').to_list()\n",
    "\n",
    "for i,j in enumerate(l_emails):\n",
    "    if j != ' ' and j in c_emails:\n",
    "        matches[i] = c_emails.index(j)"
   ]
  },
  {
   "cell_type": "code",
   "execution_count": 10,
   "metadata": {},
   "outputs": [
    {
     "name": "stdout",
     "output_type": "stream",
     "text": [
      "308\n",
      "308\n"
     ]
    }
   ],
   "source": [
    "# extract separate lists for indexes for leads and contacts\n",
    "l_inds = list(matches.keys())\n",
    "c_inds = list(matches.values())\n",
    "\n",
    "# ensure equal matches\n",
    "print(len(l_inds))\n",
    "print(len(c_inds))"
   ]
  },
  {
   "cell_type": "code",
   "execution_count": 15,
   "metadata": {},
   "outputs": [
    {
     "data": {
      "text/html": [
       "<div>\n",
       "<style scoped>\n",
       "    .dataframe tbody tr th:only-of-type {\n",
       "        vertical-align: middle;\n",
       "    }\n",
       "\n",
       "    .dataframe tbody tr th {\n",
       "        vertical-align: top;\n",
       "    }\n",
       "\n",
       "    .dataframe thead th {\n",
       "        text-align: right;\n",
       "    }\n",
       "</style>\n",
       "<table border=\"1\" class=\"dataframe\">\n",
       "  <thead>\n",
       "    <tr style=\"text-align: right;\">\n",
       "      <th></th>\n",
       "      <th>Email</th>\n",
       "      <th>Id</th>\n",
       "      <th>Lead_Contact_Date__c</th>\n",
       "      <th>Lead_ID__c</th>\n",
       "      <th>Lead_Time__c</th>\n",
       "      <th>Lead_Venue__c</th>\n",
       "      <th>nanoHUB_registration_date__c</th>\n",
       "      <th>nanoHUB_user_ID__c</th>\n",
       "    </tr>\n",
       "  </thead>\n",
       "  <tbody>\n",
       "    <tr>\n",
       "      <th>0</th>\n",
       "      <td>a-avila@uniandes.edu.co</td>\n",
       "      <td>0035w000034I2xnAAC</td>\n",
       "      <td>NaN</td>\n",
       "      <td>NaN</td>\n",
       "      <td>NaN</td>\n",
       "      <td>NaN</td>\n",
       "      <td>2011-03-29</td>\n",
       "      <td>53714.0</td>\n",
       "    </tr>\n",
       "    <tr>\n",
       "      <th>1</th>\n",
       "      <td>cosceev@mbe.uni-hannover.de</td>\n",
       "      <td>0035w000034JH9CAAW</td>\n",
       "      <td>NaN</td>\n",
       "      <td>NaN</td>\n",
       "      <td>NaN</td>\n",
       "      <td>NaN</td>\n",
       "      <td>2009-04-20</td>\n",
       "      <td>35724.0</td>\n",
       "    </tr>\n",
       "    <tr>\n",
       "      <th>2</th>\n",
       "      <td>arungoud@purdue.edu</td>\n",
       "      <td>0035w000034JMMCAA4</td>\n",
       "      <td>NaN</td>\n",
       "      <td>NaN</td>\n",
       "      <td>NaN</td>\n",
       "      <td>NaN</td>\n",
       "      <td>2010-01-12</td>\n",
       "      <td>40615.0</td>\n",
       "    </tr>\n",
       "    <tr>\n",
       "      <th>3</th>\n",
       "      <td>antonioramon.lazaro@urv.net</td>\n",
       "      <td>0035w000034JJbuAAG</td>\n",
       "      <td>NaN</td>\n",
       "      <td>NaN</td>\n",
       "      <td>NaN</td>\n",
       "      <td>NaN</td>\n",
       "      <td>2005-03-10</td>\n",
       "      <td>8578.0</td>\n",
       "    </tr>\n",
       "    <tr>\n",
       "      <th>4</th>\n",
       "      <td>antonio.martinez@glasgow.ac.uk</td>\n",
       "      <td>0035w000031VyEiAAK</td>\n",
       "      <td>NaN</td>\n",
       "      <td>NaN</td>\n",
       "      <td>NaN</td>\n",
       "      <td>NaN</td>\n",
       "      <td>2010-12-23</td>\n",
       "      <td>50339.0</td>\n",
       "    </tr>\n",
       "  </tbody>\n",
       "</table>\n",
       "</div>"
      ],
      "text/plain": [
       "                            Email                  Id  Lead_Contact_Date__c  \\\n",
       "0         a-avila@uniandes.edu.co  0035w000034I2xnAAC                   NaN   \n",
       "1     cosceev@mbe.uni-hannover.de  0035w000034JH9CAAW                   NaN   \n",
       "2             arungoud@purdue.edu  0035w000034JMMCAA4                   NaN   \n",
       "3     antonioramon.lazaro@urv.net  0035w000034JJbuAAG                   NaN   \n",
       "4  antonio.martinez@glasgow.ac.uk  0035w000031VyEiAAK                   NaN   \n",
       "\n",
       "   Lead_ID__c  Lead_Time__c  Lead_Venue__c nanoHUB_registration_date__c  \\\n",
       "0         NaN           NaN            NaN                   2011-03-29   \n",
       "1         NaN           NaN            NaN                   2009-04-20   \n",
       "2         NaN           NaN            NaN                   2010-01-12   \n",
       "3         NaN           NaN            NaN                   2005-03-10   \n",
       "4         NaN           NaN            NaN                   2010-12-23   \n",
       "\n",
       "   nanoHUB_user_ID__c  \n",
       "0             53714.0  \n",
       "1             35724.0  \n",
       "2             40615.0  \n",
       "3              8578.0  \n",
       "4             50339.0  "
      ]
     },
     "metadata": {},
     "output_type": "display_data"
    },
    {
     "data": {
      "text/html": [
       "<div>\n",
       "<style scoped>\n",
       "    .dataframe tbody tr th:only-of-type {\n",
       "        vertical-align: middle;\n",
       "    }\n",
       "\n",
       "    .dataframe tbody tr th {\n",
       "        vertical-align: top;\n",
       "    }\n",
       "\n",
       "    .dataframe thead th {\n",
       "        text-align: right;\n",
       "    }\n",
       "</style>\n",
       "<table border=\"1\" class=\"dataframe\">\n",
       "  <thead>\n",
       "    <tr style=\"text-align: right;\">\n",
       "      <th></th>\n",
       "      <th>Contact_Date__c</th>\n",
       "      <th>Contact_ID__c</th>\n",
       "      <th>Email</th>\n",
       "      <th>Id</th>\n",
       "      <th>Lead_Time__c</th>\n",
       "      <th>NH_ID__c</th>\n",
       "      <th>NH_Registration_Date__c</th>\n",
       "      <th>SF_indexer__c</th>\n",
       "      <th>Venue__c</th>\n",
       "    </tr>\n",
       "  </thead>\n",
       "  <tbody>\n",
       "    <tr>\n",
       "      <th>0</th>\n",
       "      <td>NaN</td>\n",
       "      <td>NaN</td>\n",
       "      <td>a-avila@uniandes.edu.co</td>\n",
       "      <td>00Q5w00001pSIHzEAO</td>\n",
       "      <td>NaN</td>\n",
       "      <td>NaN</td>\n",
       "      <td>NaN</td>\n",
       "      <td>NaN</td>\n",
       "      <td>NaN</td>\n",
       "    </tr>\n",
       "    <tr>\n",
       "      <th>1</th>\n",
       "      <td>NaN</td>\n",
       "      <td>NaN</td>\n",
       "      <td>cosceev@mbe.uni-hannover.de</td>\n",
       "      <td>00Q5w00001pSII6EAO</td>\n",
       "      <td>NaN</td>\n",
       "      <td>NaN</td>\n",
       "      <td>NaN</td>\n",
       "      <td>NaN</td>\n",
       "      <td>NaN</td>\n",
       "    </tr>\n",
       "    <tr>\n",
       "      <th>2</th>\n",
       "      <td>NaN</td>\n",
       "      <td>NaN</td>\n",
       "      <td>arungoud@purdue.edu</td>\n",
       "      <td>00Q5w00001pSIIFEA4</td>\n",
       "      <td>NaN</td>\n",
       "      <td>NaN</td>\n",
       "      <td>NaN</td>\n",
       "      <td>NaN</td>\n",
       "      <td>NaN</td>\n",
       "    </tr>\n",
       "    <tr>\n",
       "      <th>3</th>\n",
       "      <td>NaN</td>\n",
       "      <td>NaN</td>\n",
       "      <td>antonioramon.lazaro@urv.net</td>\n",
       "      <td>00Q5w00001pSIIUEA4</td>\n",
       "      <td>NaN</td>\n",
       "      <td>NaN</td>\n",
       "      <td>NaN</td>\n",
       "      <td>NaN</td>\n",
       "      <td>NaN</td>\n",
       "    </tr>\n",
       "    <tr>\n",
       "      <th>4</th>\n",
       "      <td>NaN</td>\n",
       "      <td>NaN</td>\n",
       "      <td>antonio.martinez@glasgow.ac.uk</td>\n",
       "      <td>00Q5w00001pSIIXEA4</td>\n",
       "      <td>NaN</td>\n",
       "      <td>NaN</td>\n",
       "      <td>NaN</td>\n",
       "      <td>NaN</td>\n",
       "      <td>NaN</td>\n",
       "    </tr>\n",
       "  </tbody>\n",
       "</table>\n",
       "</div>"
      ],
      "text/plain": [
       "   Contact_Date__c  Contact_ID__c                           Email  \\\n",
       "0              NaN            NaN         a-avila@uniandes.edu.co   \n",
       "1              NaN            NaN     cosceev@mbe.uni-hannover.de   \n",
       "2              NaN            NaN             arungoud@purdue.edu   \n",
       "3              NaN            NaN     antonioramon.lazaro@urv.net   \n",
       "4              NaN            NaN  antonio.martinez@glasgow.ac.uk   \n",
       "\n",
       "                   Id  Lead_Time__c  NH_ID__c  NH_Registration_Date__c  \\\n",
       "0  00Q5w00001pSIHzEAO           NaN       NaN                      NaN   \n",
       "1  00Q5w00001pSII6EAO           NaN       NaN                      NaN   \n",
       "2  00Q5w00001pSIIFEA4           NaN       NaN                      NaN   \n",
       "3  00Q5w00001pSIIUEA4           NaN       NaN                      NaN   \n",
       "4  00Q5w00001pSIIXEA4           NaN       NaN                      NaN   \n",
       "\n",
       "   SF_indexer__c Venue__c  \n",
       "0            NaN      NaN  \n",
       "1            NaN      NaN  \n",
       "2            NaN      NaN  \n",
       "3            NaN      NaN  \n",
       "4            NaN      NaN  "
      ]
     },
     "metadata": {},
     "output_type": "display_data"
    }
   ],
   "source": [
    "# extract dfs of interest\n",
    "c_df = contact_df.iloc[c_inds,:].reset_index(drop=True)\n",
    "l_df = lead_df.iloc[l_inds,:].reset_index(drop=True)\n",
    "\n",
    "display(c_df.head(5))\n",
    "display(l_df.head(5))"
   ]
  },
  {
   "cell_type": "code",
   "execution_count": 16,
   "metadata": {},
   "outputs": [],
   "source": [
    "# swap IDs\n",
    "c_df['Lead_ID__c'] = l_df['Id']\n",
    "l_df['Contact_ID__c'] = c_df['Id']\n",
    "\n",
    "# populate entries in c_df\n",
    "c_df['Lead_Venue__c'] = l_df['Venue__c']\n",
    "#c_df['Lead_Contact_Date__c'] = l_df['']\n",
    "\n",
    "# populate entries in l_df\n",
    "l_df['NH_Registration_Date__c'] = c_df['nanoHUB_registration_date__c']\n",
    "l_df['NH_ID__c'] = c_df['nanoHUB_user_ID__c']\n"
   ]
  },
  {
   "cell_type": "code",
   "execution_count": 17,
   "metadata": {},
   "outputs": [],
   "source": [
    "# calculate Lead_Time__c\n",
    "\n"
   ]
  },
  {
   "cell_type": "code",
   "execution_count": 18,
   "metadata": {},
   "outputs": [
    {
     "data": {
      "text/html": [
       "<div>\n",
       "<style scoped>\n",
       "    .dataframe tbody tr th:only-of-type {\n",
       "        vertical-align: middle;\n",
       "    }\n",
       "\n",
       "    .dataframe tbody tr th {\n",
       "        vertical-align: top;\n",
       "    }\n",
       "\n",
       "    .dataframe thead th {\n",
       "        text-align: right;\n",
       "    }\n",
       "</style>\n",
       "<table border=\"1\" class=\"dataframe\">\n",
       "  <thead>\n",
       "    <tr style=\"text-align: right;\">\n",
       "      <th></th>\n",
       "      <th>Contact_Date__c</th>\n",
       "      <th>Contact_ID__c</th>\n",
       "      <th>Email</th>\n",
       "      <th>Id</th>\n",
       "      <th>Lead_Time__c</th>\n",
       "      <th>NH_ID__c</th>\n",
       "      <th>NH_Registration_Date__c</th>\n",
       "      <th>SF_indexer__c</th>\n",
       "      <th>Venue__c</th>\n",
       "    </tr>\n",
       "  </thead>\n",
       "  <tbody>\n",
       "    <tr>\n",
       "      <th>0</th>\n",
       "      <td>NaN</td>\n",
       "      <td>0035w000034I2xnAAC</td>\n",
       "      <td>a-avila@uniandes.edu.co</td>\n",
       "      <td>00Q5w00001pSIHzEAO</td>\n",
       "      <td>NaN</td>\n",
       "      <td>53714.0</td>\n",
       "      <td>2011-03-29</td>\n",
       "      <td>NaN</td>\n",
       "      <td>NaN</td>\n",
       "    </tr>\n",
       "    <tr>\n",
       "      <th>1</th>\n",
       "      <td>NaN</td>\n",
       "      <td>0035w000034JH9CAAW</td>\n",
       "      <td>cosceev@mbe.uni-hannover.de</td>\n",
       "      <td>00Q5w00001pSII6EAO</td>\n",
       "      <td>NaN</td>\n",
       "      <td>35724.0</td>\n",
       "      <td>2009-04-20</td>\n",
       "      <td>NaN</td>\n",
       "      <td>NaN</td>\n",
       "    </tr>\n",
       "    <tr>\n",
       "      <th>2</th>\n",
       "      <td>NaN</td>\n",
       "      <td>0035w000034JMMCAA4</td>\n",
       "      <td>arungoud@purdue.edu</td>\n",
       "      <td>00Q5w00001pSIIFEA4</td>\n",
       "      <td>NaN</td>\n",
       "      <td>40615.0</td>\n",
       "      <td>2010-01-12</td>\n",
       "      <td>NaN</td>\n",
       "      <td>NaN</td>\n",
       "    </tr>\n",
       "    <tr>\n",
       "      <th>3</th>\n",
       "      <td>NaN</td>\n",
       "      <td>0035w000034JJbuAAG</td>\n",
       "      <td>antonioramon.lazaro@urv.net</td>\n",
       "      <td>00Q5w00001pSIIUEA4</td>\n",
       "      <td>NaN</td>\n",
       "      <td>8578.0</td>\n",
       "      <td>2005-03-10</td>\n",
       "      <td>NaN</td>\n",
       "      <td>NaN</td>\n",
       "    </tr>\n",
       "    <tr>\n",
       "      <th>4</th>\n",
       "      <td>NaN</td>\n",
       "      <td>0035w000031VyEiAAK</td>\n",
       "      <td>antonio.martinez@glasgow.ac.uk</td>\n",
       "      <td>00Q5w00001pSIIXEA4</td>\n",
       "      <td>NaN</td>\n",
       "      <td>50339.0</td>\n",
       "      <td>2010-12-23</td>\n",
       "      <td>NaN</td>\n",
       "      <td>NaN</td>\n",
       "    </tr>\n",
       "  </tbody>\n",
       "</table>\n",
       "</div>"
      ],
      "text/plain": [
       "   Contact_Date__c       Contact_ID__c                           Email  \\\n",
       "0              NaN  0035w000034I2xnAAC         a-avila@uniandes.edu.co   \n",
       "1              NaN  0035w000034JH9CAAW     cosceev@mbe.uni-hannover.de   \n",
       "2              NaN  0035w000034JMMCAA4             arungoud@purdue.edu   \n",
       "3              NaN  0035w000034JJbuAAG     antonioramon.lazaro@urv.net   \n",
       "4              NaN  0035w000031VyEiAAK  antonio.martinez@glasgow.ac.uk   \n",
       "\n",
       "                   Id  Lead_Time__c  NH_ID__c NH_Registration_Date__c  \\\n",
       "0  00Q5w00001pSIHzEAO           NaN   53714.0              2011-03-29   \n",
       "1  00Q5w00001pSII6EAO           NaN   35724.0              2009-04-20   \n",
       "2  00Q5w00001pSIIFEA4           NaN   40615.0              2010-01-12   \n",
       "3  00Q5w00001pSIIUEA4           NaN    8578.0              2005-03-10   \n",
       "4  00Q5w00001pSIIXEA4           NaN   50339.0              2010-12-23   \n",
       "\n",
       "   SF_indexer__c Venue__c  \n",
       "0            NaN      NaN  \n",
       "1            NaN      NaN  \n",
       "2            NaN      NaN  \n",
       "3            NaN      NaN  \n",
       "4            NaN      NaN  "
      ]
     },
     "metadata": {},
     "output_type": "display_data"
    },
    {
     "data": {
      "text/html": [
       "<div>\n",
       "<style scoped>\n",
       "    .dataframe tbody tr th:only-of-type {\n",
       "        vertical-align: middle;\n",
       "    }\n",
       "\n",
       "    .dataframe tbody tr th {\n",
       "        vertical-align: top;\n",
       "    }\n",
       "\n",
       "    .dataframe thead th {\n",
       "        text-align: right;\n",
       "    }\n",
       "</style>\n",
       "<table border=\"1\" class=\"dataframe\">\n",
       "  <thead>\n",
       "    <tr style=\"text-align: right;\">\n",
       "      <th></th>\n",
       "      <th>Email</th>\n",
       "      <th>Id</th>\n",
       "      <th>Lead_Contact_Date__c</th>\n",
       "      <th>Lead_ID__c</th>\n",
       "      <th>Lead_Time__c</th>\n",
       "      <th>Lead_Venue__c</th>\n",
       "      <th>nanoHUB_registration_date__c</th>\n",
       "      <th>nanoHUB_user_ID__c</th>\n",
       "    </tr>\n",
       "  </thead>\n",
       "  <tbody>\n",
       "    <tr>\n",
       "      <th>0</th>\n",
       "      <td>a-avila@uniandes.edu.co</td>\n",
       "      <td>0035w000034I2xnAAC</td>\n",
       "      <td>NaN</td>\n",
       "      <td>00Q5w00001pSIHzEAO</td>\n",
       "      <td>NaN</td>\n",
       "      <td>NaN</td>\n",
       "      <td>2011-03-29</td>\n",
       "      <td>53714.0</td>\n",
       "    </tr>\n",
       "    <tr>\n",
       "      <th>1</th>\n",
       "      <td>cosceev@mbe.uni-hannover.de</td>\n",
       "      <td>0035w000034JH9CAAW</td>\n",
       "      <td>NaN</td>\n",
       "      <td>00Q5w00001pSII6EAO</td>\n",
       "      <td>NaN</td>\n",
       "      <td>NaN</td>\n",
       "      <td>2009-04-20</td>\n",
       "      <td>35724.0</td>\n",
       "    </tr>\n",
       "    <tr>\n",
       "      <th>2</th>\n",
       "      <td>arungoud@purdue.edu</td>\n",
       "      <td>0035w000034JMMCAA4</td>\n",
       "      <td>NaN</td>\n",
       "      <td>00Q5w00001pSIIFEA4</td>\n",
       "      <td>NaN</td>\n",
       "      <td>NaN</td>\n",
       "      <td>2010-01-12</td>\n",
       "      <td>40615.0</td>\n",
       "    </tr>\n",
       "    <tr>\n",
       "      <th>3</th>\n",
       "      <td>antonioramon.lazaro@urv.net</td>\n",
       "      <td>0035w000034JJbuAAG</td>\n",
       "      <td>NaN</td>\n",
       "      <td>00Q5w00001pSIIUEA4</td>\n",
       "      <td>NaN</td>\n",
       "      <td>NaN</td>\n",
       "      <td>2005-03-10</td>\n",
       "      <td>8578.0</td>\n",
       "    </tr>\n",
       "    <tr>\n",
       "      <th>4</th>\n",
       "      <td>antonio.martinez@glasgow.ac.uk</td>\n",
       "      <td>0035w000031VyEiAAK</td>\n",
       "      <td>NaN</td>\n",
       "      <td>00Q5w00001pSIIXEA4</td>\n",
       "      <td>NaN</td>\n",
       "      <td>NaN</td>\n",
       "      <td>2010-12-23</td>\n",
       "      <td>50339.0</td>\n",
       "    </tr>\n",
       "  </tbody>\n",
       "</table>\n",
       "</div>"
      ],
      "text/plain": [
       "                            Email                  Id  Lead_Contact_Date__c  \\\n",
       "0         a-avila@uniandes.edu.co  0035w000034I2xnAAC                   NaN   \n",
       "1     cosceev@mbe.uni-hannover.de  0035w000034JH9CAAW                   NaN   \n",
       "2             arungoud@purdue.edu  0035w000034JMMCAA4                   NaN   \n",
       "3     antonioramon.lazaro@urv.net  0035w000034JJbuAAG                   NaN   \n",
       "4  antonio.martinez@glasgow.ac.uk  0035w000031VyEiAAK                   NaN   \n",
       "\n",
       "           Lead_ID__c  Lead_Time__c Lead_Venue__c  \\\n",
       "0  00Q5w00001pSIHzEAO           NaN           NaN   \n",
       "1  00Q5w00001pSII6EAO           NaN           NaN   \n",
       "2  00Q5w00001pSIIFEA4           NaN           NaN   \n",
       "3  00Q5w00001pSIIUEA4           NaN           NaN   \n",
       "4  00Q5w00001pSIIXEA4           NaN           NaN   \n",
       "\n",
       "  nanoHUB_registration_date__c  nanoHUB_user_ID__c  \n",
       "0                   2011-03-29             53714.0  \n",
       "1                   2009-04-20             35724.0  \n",
       "2                   2010-01-12             40615.0  \n",
       "3                   2005-03-10              8578.0  \n",
       "4                   2010-12-23             50339.0  "
      ]
     },
     "metadata": {},
     "output_type": "display_data"
    }
   ],
   "source": [
    "# verify\n",
    "display(l_df.head(5))\n",
    "display(c_df.head(5))"
   ]
  },
  {
   "cell_type": "markdown",
   "metadata": {},
   "source": [
    "## Upsert to SF"
   ]
  },
  {
   "cell_type": "code",
   "execution_count": 20,
   "metadata": {},
   "outputs": [
    {
     "name": "stdout",
     "output_type": "stream",
     "text": [
      "Obtained Salesforce access token ...... True\n",
      "[Success] Bulk job creation successful. Job ID = 7505w00000RGS4MAAX\n",
      "hello\n",
      "[Success] CSV upload successful. Job ID = 7505w00000RGS4MAAX\n",
      "[Success] Closing job successful. Job ID = 7505w00000RGS4MAAX\n"
     ]
    }
   ],
   "source": [
    "from DB2SalesforceAPI import DB2SalesforceAPI\n",
    "\n",
    "# create DB2 to Salesforce API object\n",
    "db_s_c = DB2SalesforceAPI(sf_login_params)\n",
    "\n",
    "db_s_c.object_id = 'Contact'\n",
    "db_s_c.external_id = 'Id'\n",
    "\n",
    "db_s_c.send_data(c_df)"
   ]
  },
  {
   "cell_type": "code",
   "execution_count": 27,
   "metadata": {},
   "outputs": [
    {
     "data": {
      "text/plain": [
       "{'id': '7505w00000RGS4MAAX',\n",
       " 'operation': 'upsert',\n",
       " 'object': 'Contact',\n",
       " 'createdById': '0055w00000DM5bOAAT',\n",
       " 'createdDate': '2020-10-31T04:46:26.000+0000',\n",
       " 'systemModstamp': '2020-10-31T04:46:31.000+0000',\n",
       " 'state': 'InProgress',\n",
       " 'externalIdFieldName': 'Id',\n",
       " 'concurrencyMode': 'Parallel',\n",
       " 'contentType': 'CSV',\n",
       " 'apiVersion': 47.0,\n",
       " 'jobType': 'V2Ingest',\n",
       " 'lineEnding': 'LF',\n",
       " 'columnDelimiter': 'COMMA',\n",
       " 'numberRecordsProcessed': 200,\n",
       " 'numberRecordsFailed': 6,\n",
       " 'retries': 0,\n",
       " 'totalProcessingTime': 0,\n",
       " 'apiActiveProcessingTime': 5154,\n",
       " 'apexProcessingTime': 2417}"
      ]
     },
     "execution_count": 27,
     "metadata": {},
     "output_type": "execute_result"
    }
   ],
   "source": [
    "# check status\n",
    "db_s_c.check_bulk_status()"
   ]
  },
  {
   "cell_type": "code",
   "execution_count": 28,
   "metadata": {},
   "outputs": [
    {
     "data": {
      "text/plain": [
       "'\"sf__Id\",\"sf__Error\",Email,Id,Lead_Contact_Date__c,Lead_ID__c,Lead_Time__c,Lead_Venue__c,nanoHUB_registration_date__c,nanoHUB_user_ID__c\\n\"0035w000031Vz0BAAS\",\"DUPLICATE_VALUE:Duplicate id specified:0035w000031Vz0BAAS:--\",\"jnunez@imse-cnm.csic.es\",\"0035w000031Vz0BAAS\",\"\",\"00Q5w00001pSJ6TEAW\",\"\",\"\",\"2011-01-28\",\"51117.0\"\\n\"0035w000031Vz0BAAS\",\"DUPLICATE_VALUE:Duplicate id specified:0035w000031Vz0BAAS:--\",\"jnunez@imse-cnm.csic.es\",\"0035w000031Vz0BAAS\",\"\",\"00Q5w00001pSJ6UEAW\",\"\",\"\",\"2011-01-28\",\"51117.0\"\\n\"0035w000034JyX4AAK\",\"DUPLICATE_VALUE:Duplicate id specified:0035w000034JyX4AAK:--\",\"m-hersam@northwestern.edu\",\"0035w000034JyX4AAK\",\"\",\"00Q5w00001pSJJ2EAO\",\"\",\"\",\"2018-12-19\",\"217252.0\"\\n\"0035w000034JyX4AAK\",\"DUPLICATE_VALUE:Duplicate id specified:0035w000034JyX4AAK:--\",\"m-hersam@northwestern.edu\",\"0035w000034JyX4AAK\",\"\",\"00Q5w00001pSJOWEA4\",\"\",\"\",\"2018-12-19\",\"217252.0\"\\n\"0035w000034JqAeAAK\",\"DUPLICATE_VALUE:Duplicate id specified:0035w000034JqAeAAK:--\",\"sergio.catalan@uam.es\",\"0035w000034JqAeAAK\",\"\",\"00Q5w00001pSJnOEAW\",\"\",\"\",\"2016-08-30\",\"150906.0\"\\n\"0035w000034JqAeAAK\",\"DUPLICATE_VALUE:Duplicate id specified:0035w000034JqAeAAK:--\",\"sergio.catalan@uam.es\",\"0035w000034JqAeAAK\",\"\",\"00Q5w00001qlpH9EAI\",\"\",\"\",\"2016-08-30\",\"150906.0\"\\n\"0035w00003BRTwzAAH\",\"DUPLICATE_VALUE:Duplicate id specified:0035w00003BRTwzAAH:--\",\"ta@asu.edu\",\"0035w00003BRTwzAAH\",\"\",\"00Q5w00001sJfR5EAK\",\"\",\"MSE Delivra Engagement\",\"2020-07-30\",\"295567.0\"\\n\"0035w000034K5VBAA0\",\"DUPLICATE_VALUE:Duplicate id specified:0035w000034K5VBAA0:--\",\"i.mirasifali@gmail.com\",\"0035w000034K5VBAA0\",\"\",\"00Q5w00001tJzwVEAS\",\"\",\"MSE SWS 2020 - A\",\"2018-11-14\",\"214226.0\"\\n\"0035w00003BRTwzAAH\",\"DUPLICATE_VALUE:Duplicate id specified:0035w00003BRTwzAAH:--\",\"ta@asu.edu\",\"0035w00003BRTwzAAH\",\"\",\"00Q5w00001tJzx2EAC\",\"\",\"MSE Delivra Engagement;MSE SWS 2020 - A\",\"2020-07-30\",\"295567.0\"\\n\"0035w000034K5VBAA0\",\"DUPLICATE_VALUE:Duplicate id specified:0035w000034K5VBAA0:--\",\"i.mirasifali@gmail.com\",\"0035w000034K5VBAA0\",\"\",\"00Q5w00001tLZcgEAG\",\"\",\"Citrine Material Science workshop - R\",\"2018-11-14\",\"214226.0\"\\n'"
      ]
     },
     "execution_count": 28,
     "metadata": {},
     "output_type": "execute_result"
    }
   ],
   "source": [
    "db_s_c.check_bulk_failed_results()"
   ]
  },
  {
   "cell_type": "code",
   "execution_count": 23,
   "metadata": {},
   "outputs": [
    {
     "name": "stdout",
     "output_type": "stream",
     "text": [
      "Obtained Salesforce access token ...... True\n",
      "[Success] Bulk job creation successful. Job ID = 7505w00000RGS4RAAX\n",
      "hello\n",
      "[Success] CSV upload successful. Job ID = 7505w00000RGS4RAAX\n",
      "[Success] Closing job successful. Job ID = 7505w00000RGS4RAAX\n"
     ]
    }
   ],
   "source": [
    "# create DB2 to Salesforce API object\n",
    "db_s_l = DB2SalesforceAPI(sf_login_params)\n",
    "\n",
    "db_s_l.object_id = 'Lead'\n",
    "db_s_l.external_id = 'Id'\n",
    "\n",
    "db_s_l.send_data(l_df)"
   ]
  },
  {
   "cell_type": "code",
   "execution_count": 29,
   "metadata": {},
   "outputs": [
    {
     "data": {
      "text/plain": [
       "{'id': '7505w00000RGS4RAAX',\n",
       " 'operation': 'upsert',\n",
       " 'object': 'Lead',\n",
       " 'createdById': '0055w00000DM5bOAAT',\n",
       " 'createdDate': '2020-10-31T04:46:29.000+0000',\n",
       " 'systemModstamp': '2020-10-31T04:46:32.000+0000',\n",
       " 'state': 'JobComplete',\n",
       " 'externalIdFieldName': 'Id',\n",
       " 'concurrencyMode': 'Parallel',\n",
       " 'contentType': 'CSV',\n",
       " 'apiVersion': 47.0,\n",
       " 'jobType': 'V2Ingest',\n",
       " 'lineEnding': 'LF',\n",
       " 'columnDelimiter': 'COMMA',\n",
       " 'numberRecordsProcessed': 308,\n",
       " 'numberRecordsFailed': 0,\n",
       " 'retries': 0,\n",
       " 'totalProcessingTime': 1253,\n",
       " 'apiActiveProcessingTime': 1080,\n",
       " 'apexProcessingTime': 239}"
      ]
     },
     "execution_count": 29,
     "metadata": {},
     "output_type": "execute_result"
    }
   ],
   "source": [
    "# check status\n",
    "db_s_l.check_bulk_status()"
   ]
  },
  {
   "cell_type": "code",
   "execution_count": 30,
   "metadata": {},
   "outputs": [
    {
     "data": {
      "text/plain": [
       "'\"sf__Id\",\"sf__Error\",Contact_Date__c,Contact_ID__c,Email,Id,Lead_Time__c,NH_ID__c,NH_Registration_Date__c,SF_indexer__c,Venue__c\\n'"
      ]
     },
     "execution_count": 30,
     "metadata": {},
     "output_type": "execute_result"
    }
   ],
   "source": [
    "db_s_l.check_bulk_failed_results()"
   ]
  },
  {
   "cell_type": "code",
   "execution_count": null,
   "metadata": {},
   "outputs": [],
   "source": []
  }
 ],
 "metadata": {
  "celltoolbar": "Tags",
  "kernelspec": {
   "display_name": "Python 3",
   "language": "python",
   "name": "python3"
  },
  "language_info": {
   "codemirror_mode": {
    "name": "ipython",
    "version": 3
   },
   "file_extension": ".py",
   "mimetype": "text/x-python",
   "name": "python",
   "nbconvert_exporter": "python",
   "pygments_lexer": "ipython3",
   "version": "3.7.7"
  }
 },
 "nbformat": 4,
 "nbformat_minor": 4
}
