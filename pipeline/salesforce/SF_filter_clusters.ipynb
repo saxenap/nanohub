{
 "cells": [
  {
   "cell_type": "markdown",
   "metadata": {
    "tags": [
     "papermill-error-cell-tag"
    ]
   },
   "source": [
    "<span style=\"color:red; font-family:Helvetica Neue, Helvetica, Arial, sans-serif; font-size:2em;\">An Exception was encountered at '<a href=\"#papermill-error-cell\">In [21]</a>'.</span>"
   ]
  },
  {
   "cell_type": "markdown",
   "metadata": {
    "papermill": {
     "duration": 0.052612,
     "end_time": "2021-01-21T17:11:41.914617",
     "exception": false,
     "start_time": "2021-01-21T17:11:41.862005",
     "status": "completed"
    },
    "tags": []
   },
   "source": [
    "# Filters and combines existing clusters based on tools used, start and end dates, and organization\n",
    "## Rebuilds all clusters (will need to run daily)"
   ]
  },
  {
   "cell_type": "code",
   "execution_count": 1,
   "metadata": {
    "execution": {
     "iopub.execute_input": "2021-01-21T17:11:42.015098Z",
     "iopub.status.busy": "2021-01-21T17:11:42.014444Z",
     "iopub.status.idle": "2021-01-21T17:11:42.017216Z",
     "shell.execute_reply": "2021-01-21T17:11:42.016638Z"
    },
    "papermill": {
     "duration": 0.055174,
     "end_time": "2021-01-21T17:11:42.017348",
     "exception": false,
     "start_time": "2021-01-21T17:11:41.962174",
     "status": "completed"
    },
    "tags": []
   },
   "outputs": [],
   "source": [
    "# API settings\n",
    "api_url = '/services/data/v43.0/sobjects'\n",
    "external_id = 'Name'\n",
    "object_id = 'ContactToolAssociation__c'\n",
    "\n",
    "# login parameters to be handled by Papermill\n",
    "sql_login_params = {\"username\": \"wang2506_ro\", \"password\": \"fnVnwcCS7iT45EsA\"}\n",
    "sf_login_params = {\n",
    "    \"grant_type\": \"password\",\n",
    "    \"client_id\": \"3MVG95jctIhbyCppj0SNJ75IsZ1y8UPGZtSNF4j8FNVXz.De8Lu4jHm3rjRosAtsHy6qjHx3i4S_QbQzvBePG\",\n",
    "    \"client_secret\": \"D1623C6D3607D4FC8004B92C761DFB6C1F70CCD129C5501E357028DFA00F5764\",\n",
    "    \"username\":\"wang2506@purdue.edu\",\n",
    "    \"password\":\"purdue99272844vp8Z6qq0teuPQmirGaaPAt4\",   \n",
    "} \n",
    "    #\"username\": \"wang159-4j1v@force.com\",\n",
    "    #\"password\": \"napoleon0eZ3PQpQqE3C3z4wWqEqKGhQ8\","
   ]
  },
  {
   "cell_type": "code",
   "execution_count": 2,
   "metadata": {
    "execution": {
     "iopub.execute_input": "2021-01-21T17:11:42.120052Z",
     "iopub.status.busy": "2021-01-21T17:11:42.119327Z",
     "iopub.status.idle": "2021-01-21T17:11:42.471485Z",
     "shell.execute_reply": "2021-01-21T17:11:42.471013Z"
    },
    "papermill": {
     "duration": 0.406017,
     "end_time": "2021-01-21T17:11:42.471642",
     "exception": false,
     "start_time": "2021-01-21T17:11:42.065625",
     "status": "completed"
    },
    "tags": []
   },
   "outputs": [],
   "source": [
    "import sys\n",
    "sys.path.append('/home/users/wang2506/nanohub_salesforce_integ/salesforce')\n",
    "    \n",
    "import pandas as pd\n",
    "import time\n",
    "import datetime\n",
    "\n",
    "from DB2SalesforceAPI import DB2SalesforceAPI"
   ]
  },
  {
   "cell_type": "markdown",
   "metadata": {
    "papermill": {
     "duration": 0.049524,
     "end_time": "2021-01-21T17:11:42.569410",
     "exception": false,
     "start_time": "2021-01-21T17:11:42.519886",
     "status": "completed"
    },
    "tags": []
   },
   "source": [
    "## Pull data from SF - this will be a post SF filter"
   ]
  },
  {
   "cell_type": "code",
   "execution_count": 3,
   "metadata": {
    "execution": {
     "iopub.execute_input": "2021-01-21T17:11:42.670033Z",
     "iopub.status.busy": "2021-01-21T17:11:42.669412Z",
     "iopub.status.idle": "2021-01-21T17:11:42.672015Z",
     "shell.execute_reply": "2021-01-21T17:11:42.671545Z"
    },
    "papermill": {
     "duration": 0.054658,
     "end_time": "2021-01-21T17:11:42.672146",
     "exception": false,
     "start_time": "2021-01-21T17:11:42.617488",
     "status": "completed"
    },
    "tags": []
   },
   "outputs": [],
   "source": [
    "##########################################################################################\n",
    "## 1 - Pull all tool_usage_cluster__c information\n",
    "##     i) ID\n",
    "##     ii) Ending_Date__c\n",
    "##     iii) Starting_Date__c\n",
    "##     iv) Organization__c\n",
    "##     v) Semester__c\n",
    "## 2 - Pull all ContactToolClusterAssociation__c information\n",
    "##     i) Tool_Usage_Cluster__c\n",
    "##     ii) Contact__c\n",
    "## 3 - Pull all ToolToolClusterAssociation__c information\n",
    "##     i) Tool_Usage_Cluster__c\n",
    "##     ii) Tool__c\n",
    "## 4 - determine which tool_usage_cluster__c are suspicious \n",
    "##     i) first, group tool_usage_cluster__c by tool__c used\n",
    "##     ii) check starting and ending dates - if they overlap, make a note of the tool_usage_clusters\n",
    "## 5 - combining tool_usage_cluster__c \n",
    "##     i) use one of the existing Ids, mark the others for deletion\n",
    "##     ii) when combining, pull the relevant Tool__c information and Contact__c information\n",
    "##\n",
    "##########################################################################################"
   ]
  },
  {
   "cell_type": "code",
   "execution_count": 4,
   "metadata": {
    "execution": {
     "iopub.execute_input": "2021-01-21T17:11:42.776814Z",
     "iopub.status.busy": "2021-01-21T17:11:42.776074Z",
     "iopub.status.idle": "2021-01-21T17:11:43.374639Z",
     "shell.execute_reply": "2021-01-21T17:11:43.374154Z"
    },
    "papermill": {
     "duration": 0.649365,
     "end_time": "2021-01-21T17:11:43.374777",
     "exception": false,
     "start_time": "2021-01-21T17:11:42.725412",
     "status": "completed"
    },
    "tags": []
   },
   "outputs": [
    {
     "name": "stdout",
     "output_type": "stream",
     "text": [
      "Obtained Salesforce access token ...... True\n"
     ]
    }
   ],
   "source": [
    "db_1 = DB2SalesforceAPI(sf_login_params)"
   ]
  },
  {
   "cell_type": "code",
   "execution_count": 5,
   "metadata": {
    "execution": {
     "iopub.execute_input": "2021-01-21T17:11:43.480535Z",
     "iopub.status.busy": "2021-01-21T17:11:43.479731Z",
     "iopub.status.idle": "2021-01-21T17:11:56.265695Z",
     "shell.execute_reply": "2021-01-21T17:11:56.266128Z"
    },
    "papermill": {
     "duration": 12.841728,
     "end_time": "2021-01-21T17:11:56.266299",
     "exception": false,
     "start_time": "2021-01-21T17:11:43.424571",
     "status": "completed"
    },
    "tags": []
   },
   "outputs": [
    {
     "name": "stdout",
     "output_type": "stream",
     "text": [
      "[Success] Bulk job creation successful. Job ID = 7505w00000TmOtWAAV\n"
     ]
    },
    {
     "name": "stdout",
     "output_type": "stream",
     "text": [
      "{\"id\":\"7505w00000TmOtWAAV\",\"operation\":\"query\",\"object\":\"tool_usage_cluster__c\",\"createdById\":\"0055w00000DM5bOAAT\",\"createdDate\":\"2021-01-21T17:11:43.000+0000\",\"systemModstamp\":\"2021-01-21T17:11:43.000+0000\",\"state\":\"UploadComplete\",\"concurrencyMode\":\"Parallel\",\"contentType\":\"CSV\",\"apiVersion\":47.0,\"jobType\":\"V2Query\",\"lineEnding\":\"LF\",\"columnDelimiter\":\"COMMA\",\"retries\":0,\"totalProcessingTime\":0}\n"
     ]
    },
    {
     "name": "stdout",
     "output_type": "stream",
     "text": [
      "{\"id\":\"7505w00000TmOtWAAV\",\"operation\":\"query\",\"object\":\"tool_usage_cluster__c\",\"createdById\":\"0055w00000DM5bOAAT\",\"createdDate\":\"2021-01-21T17:11:43.000+0000\",\"systemModstamp\":\"2021-01-21T17:11:47.000+0000\",\"state\":\"JobComplete\",\"concurrencyMode\":\"Parallel\",\"contentType\":\"CSV\",\"apiVersion\":47.0,\"jobType\":\"V2Query\",\"lineEnding\":\"LF\",\"columnDelimiter\":\"COMMA\",\"numberRecordsProcessed\":3944,\"retries\":0,\"totalProcessingTime\":696}\n",
      "[Success] Bulk job completed successfully.\n"
     ]
    }
   ],
   "source": [
    "tool_cluster_df = db_1.query_data('Select ID, Ending_Date__c, Starting_Date__c, Organization__c,Semester__c \\\n",
    "                        from tool_usage_cluster__c')"
   ]
  },
  {
   "cell_type": "code",
   "execution_count": 6,
   "metadata": {
    "execution": {
     "iopub.execute_input": "2021-01-21T17:11:56.380403Z",
     "iopub.status.busy": "2021-01-21T17:11:56.376056Z",
     "iopub.status.idle": "2021-01-21T17:11:56.383874Z",
     "shell.execute_reply": "2021-01-21T17:11:56.383269Z"
    },
    "papermill": {
     "duration": 0.069358,
     "end_time": "2021-01-21T17:11:56.384019",
     "exception": false,
     "start_time": "2021-01-21T17:11:56.314661",
     "status": "completed"
    },
    "tags": []
   },
   "outputs": [
    {
     "data": {
      "text/html": [
       "<div>\n",
       "<style scoped>\n",
       "    .dataframe tbody tr th:only-of-type {\n",
       "        vertical-align: middle;\n",
       "    }\n",
       "\n",
       "    .dataframe tbody tr th {\n",
       "        vertical-align: top;\n",
       "    }\n",
       "\n",
       "    .dataframe thead th {\n",
       "        text-align: right;\n",
       "    }\n",
       "</style>\n",
       "<table border=\"1\" class=\"dataframe\">\n",
       "  <thead>\n",
       "    <tr style=\"text-align: right;\">\n",
       "      <th></th>\n",
       "      <th>Ending_Date__c</th>\n",
       "      <th>Id</th>\n",
       "      <th>Organization__c</th>\n",
       "      <th>Semester__c</th>\n",
       "      <th>Starting_Date__c</th>\n",
       "    </tr>\n",
       "  </thead>\n",
       "  <tbody>\n",
       "    <tr>\n",
       "      <th>0</th>\n",
       "      <td>2011-01-30</td>\n",
       "      <td>a0w5w000009Q7CuAAK</td>\n",
       "      <td>NaN</td>\n",
       "      <td>Fall</td>\n",
       "      <td>2010-09-05</td>\n",
       "    </tr>\n",
       "    <tr>\n",
       "      <th>1</th>\n",
       "      <td>2018-11-30</td>\n",
       "      <td>a0w5w000009Q7CvAAK</td>\n",
       "      <td>a0r5w00000V42iyAAB</td>\n",
       "      <td>Fall</td>\n",
       "      <td>2018-11-29</td>\n",
       "    </tr>\n",
       "    <tr>\n",
       "      <th>2</th>\n",
       "      <td>2019-11-28</td>\n",
       "      <td>a0w5w000009Q7CwAAK</td>\n",
       "      <td>a0r5w00000V42iyAAB</td>\n",
       "      <td>Fall</td>\n",
       "      <td>2019-11-04</td>\n",
       "    </tr>\n",
       "    <tr>\n",
       "      <th>3</th>\n",
       "      <td>2017-10-29</td>\n",
       "      <td>a0w5w000009Q7CxAAK</td>\n",
       "      <td>a0r5w00000V42cCAAR</td>\n",
       "      <td>Fall</td>\n",
       "      <td>2017-10-21</td>\n",
       "    </tr>\n",
       "    <tr>\n",
       "      <th>4</th>\n",
       "      <td>2018-01-21</td>\n",
       "      <td>a0w5w000009Q7CyAAK</td>\n",
       "      <td>a0r5w00000V42cCAAR</td>\n",
       "      <td>Spring</td>\n",
       "      <td>2018-01-15</td>\n",
       "    </tr>\n",
       "  </tbody>\n",
       "</table>\n",
       "</div>"
      ],
      "text/plain": [
       "  Ending_Date__c                  Id     Organization__c Semester__c  \\\n",
       "0     2011-01-30  a0w5w000009Q7CuAAK                 NaN        Fall   \n",
       "1     2018-11-30  a0w5w000009Q7CvAAK  a0r5w00000V42iyAAB        Fall   \n",
       "2     2019-11-28  a0w5w000009Q7CwAAK  a0r5w00000V42iyAAB        Fall   \n",
       "3     2017-10-29  a0w5w000009Q7CxAAK  a0r5w00000V42cCAAR        Fall   \n",
       "4     2018-01-21  a0w5w000009Q7CyAAK  a0r5w00000V42cCAAR      Spring   \n",
       "\n",
       "  Starting_Date__c  \n",
       "0       2010-09-05  \n",
       "1       2018-11-29  \n",
       "2       2019-11-04  \n",
       "3       2017-10-21  \n",
       "4       2018-01-15  "
      ]
     },
     "metadata": {},
     "output_type": "display_data"
    }
   ],
   "source": [
    "display(tool_cluster_df.head(5))"
   ]
  },
  {
   "cell_type": "code",
   "execution_count": 7,
   "metadata": {
    "execution": {
     "iopub.execute_input": "2021-01-21T17:11:56.488025Z",
     "iopub.status.busy": "2021-01-21T17:11:56.487443Z",
     "iopub.status.idle": "2021-01-21T17:12:20.691569Z",
     "shell.execute_reply": "2021-01-21T17:12:20.690534Z"
    },
    "papermill": {
     "duration": 24.257871,
     "end_time": "2021-01-21T17:12:20.691775",
     "exception": false,
     "start_time": "2021-01-21T17:11:56.433904",
     "status": "completed"
    },
    "tags": []
   },
   "outputs": [
    {
     "name": "stdout",
     "output_type": "stream",
     "text": [
      "[Success] Bulk job creation successful. Job ID = 7505w00000TmOtqAAF\n"
     ]
    },
    {
     "name": "stdout",
     "output_type": "stream",
     "text": [
      "{\"id\":\"7505w00000TmOtqAAF\",\"operation\":\"query\",\"object\":\"ContactToolClusterAssociation__c\",\"createdById\":\"0055w00000DM5bOAAT\",\"createdDate\":\"2021-01-21T17:11:56.000+0000\",\"systemModstamp\":\"2021-01-21T17:11:56.000+0000\",\"state\":\"UploadComplete\",\"concurrencyMode\":\"Parallel\",\"contentType\":\"CSV\",\"apiVersion\":47.0,\"jobType\":\"V2Query\",\"lineEnding\":\"LF\",\"columnDelimiter\":\"COMMA\",\"retries\":0,\"totalProcessingTime\":0}\n"
     ]
    },
    {
     "name": "stdout",
     "output_type": "stream",
     "text": [
      "{\"id\":\"7505w00000TmOtqAAF\",\"operation\":\"query\",\"object\":\"ContactToolClusterAssociation__c\",\"createdById\":\"0055w00000DM5bOAAT\",\"createdDate\":\"2021-01-21T17:11:56.000+0000\",\"systemModstamp\":\"2021-01-21T17:11:58.000+0000\",\"state\":\"InProgress\",\"concurrencyMode\":\"Parallel\",\"contentType\":\"CSV\",\"apiVersion\":47.0,\"jobType\":\"V2Query\",\"lineEnding\":\"LF\",\"columnDelimiter\":\"COMMA\",\"numberRecordsProcessed\":0,\"retries\":0,\"totalProcessingTime\":162}\n"
     ]
    },
    {
     "name": "stdout",
     "output_type": "stream",
     "text": [
      "{\"id\":\"7505w00000TmOtqAAF\",\"operation\":\"query\",\"object\":\"ContactToolClusterAssociation__c\",\"createdById\":\"0055w00000DM5bOAAT\",\"createdDate\":\"2021-01-21T17:11:56.000+0000\",\"systemModstamp\":\"2021-01-21T17:12:07.000+0000\",\"state\":\"JobComplete\",\"concurrencyMode\":\"Parallel\",\"contentType\":\"CSV\",\"apiVersion\":47.0,\"jobType\":\"V2Query\",\"lineEnding\":\"LF\",\"columnDelimiter\":\"COMMA\",\"numberRecordsProcessed\":91675,\"retries\":0,\"totalProcessingTime\":7910}\n",
      "[Success] Bulk job completed successfully.\n"
     ]
    }
   ],
   "source": [
    "contact_in_cluster_df = db_1.query_data('Select Id, Name, Tool_Usage_Cluster__c, Contact__c from ContactToolClusterAssociation__c')"
   ]
  },
  {
   "cell_type": "code",
   "execution_count": 8,
   "metadata": {
    "execution": {
     "iopub.execute_input": "2021-01-21T17:12:20.861990Z",
     "iopub.status.busy": "2021-01-21T17:12:20.861389Z",
     "iopub.status.idle": "2021-01-21T17:12:20.864870Z",
     "shell.execute_reply": "2021-01-21T17:12:20.865451Z"
    },
    "papermill": {
     "duration": 0.077084,
     "end_time": "2021-01-21T17:12:20.865606",
     "exception": false,
     "start_time": "2021-01-21T17:12:20.788522",
     "status": "completed"
    },
    "tags": []
   },
   "outputs": [
    {
     "data": {
      "text/html": [
       "<div>\n",
       "<style scoped>\n",
       "    .dataframe tbody tr th:only-of-type {\n",
       "        vertical-align: middle;\n",
       "    }\n",
       "\n",
       "    .dataframe tbody tr th {\n",
       "        vertical-align: top;\n",
       "    }\n",
       "\n",
       "    .dataframe thead th {\n",
       "        text-align: right;\n",
       "    }\n",
       "</style>\n",
       "<table border=\"1\" class=\"dataframe\">\n",
       "  <thead>\n",
       "    <tr style=\"text-align: right;\">\n",
       "      <th></th>\n",
       "      <th>Contact__c</th>\n",
       "      <th>Id</th>\n",
       "      <th>Name</th>\n",
       "      <th>Tool_Usage_Cluster__c</th>\n",
       "    </tr>\n",
       "  </thead>\n",
       "  <tbody>\n",
       "    <tr>\n",
       "      <th>0</th>\n",
       "      <td>0035w000034I3dJAAS</td>\n",
       "      <td>a0x5w00000bwbMzAAI</td>\n",
       "      <td>blc070_988</td>\n",
       "      <td>a0w5w000009Q7ufAAC</td>\n",
       "    </tr>\n",
       "    <tr>\n",
       "      <th>1</th>\n",
       "      <td>0035w000034I3giAAC</td>\n",
       "      <td>a0x5w00000bwbN0AAI</td>\n",
       "      <td>michaeljh_988</td>\n",
       "      <td>a0w5w000009Q7ufAAC</td>\n",
       "    </tr>\n",
       "    <tr>\n",
       "      <th>2</th>\n",
       "      <td>0035w000034I3fOAAS</td>\n",
       "      <td>a0x5w00000bwbN1AAI</td>\n",
       "      <td>acadiak_988</td>\n",
       "      <td>a0w5w000009Q7ufAAC</td>\n",
       "    </tr>\n",
       "    <tr>\n",
       "      <th>3</th>\n",
       "      <td>0035w000031VzX2AAK</td>\n",
       "      <td>a0x5w00000bwbN2AAI</td>\n",
       "      <td>jbascom24_988</td>\n",
       "      <td>a0w5w000009Q7ufAAC</td>\n",
       "    </tr>\n",
       "    <tr>\n",
       "      <th>4</th>\n",
       "      <td>0035w000034I3ffAAC</td>\n",
       "      <td>a0x5w00000bwbN3AAI</td>\n",
       "      <td>davidwilliams2016_988</td>\n",
       "      <td>a0w5w000009Q7ufAAC</td>\n",
       "    </tr>\n",
       "  </tbody>\n",
       "</table>\n",
       "</div>"
      ],
      "text/plain": [
       "           Contact__c                  Id                   Name  \\\n",
       "0  0035w000034I3dJAAS  a0x5w00000bwbMzAAI             blc070_988   \n",
       "1  0035w000034I3giAAC  a0x5w00000bwbN0AAI          michaeljh_988   \n",
       "2  0035w000034I3fOAAS  a0x5w00000bwbN1AAI            acadiak_988   \n",
       "3  0035w000031VzX2AAK  a0x5w00000bwbN2AAI          jbascom24_988   \n",
       "4  0035w000034I3ffAAC  a0x5w00000bwbN3AAI  davidwilliams2016_988   \n",
       "\n",
       "  Tool_Usage_Cluster__c  \n",
       "0    a0w5w000009Q7ufAAC  \n",
       "1    a0w5w000009Q7ufAAC  \n",
       "2    a0w5w000009Q7ufAAC  \n",
       "3    a0w5w000009Q7ufAAC  \n",
       "4    a0w5w000009Q7ufAAC  "
      ]
     },
     "metadata": {},
     "output_type": "display_data"
    }
   ],
   "source": [
    "display(contact_in_cluster_df.head(5))"
   ]
  },
  {
   "cell_type": "code",
   "execution_count": 9,
   "metadata": {
    "execution": {
     "iopub.execute_input": "2021-01-21T17:12:20.974392Z",
     "iopub.status.busy": "2021-01-21T17:12:20.973823Z",
     "iopub.status.idle": "2021-01-21T17:12:32.812922Z",
     "shell.execute_reply": "2021-01-21T17:12:32.812251Z"
    },
    "papermill": {
     "duration": 11.895789,
     "end_time": "2021-01-21T17:12:32.813058",
     "exception": false,
     "start_time": "2021-01-21T17:12:20.917269",
     "status": "completed"
    },
    "tags": []
   },
   "outputs": [
    {
     "name": "stdout",
     "output_type": "stream",
     "text": [
      "[Success] Bulk job creation successful. Job ID = 7505w00000TmOuPAAV\n"
     ]
    },
    {
     "name": "stdout",
     "output_type": "stream",
     "text": [
      "{\"id\":\"7505w00000TmOuPAAV\",\"operation\":\"query\",\"object\":\"ToolToolClusterAssociation__c\",\"createdById\":\"0055w00000DM5bOAAT\",\"createdDate\":\"2021-01-21T17:12:21.000+0000\",\"systemModstamp\":\"2021-01-21T17:12:21.000+0000\",\"state\":\"UploadComplete\",\"concurrencyMode\":\"Parallel\",\"contentType\":\"CSV\",\"apiVersion\":47.0,\"jobType\":\"V2Query\",\"lineEnding\":\"LF\",\"columnDelimiter\":\"COMMA\",\"retries\":0,\"totalProcessingTime\":0}\n"
     ]
    },
    {
     "name": "stdout",
     "output_type": "stream",
     "text": [
      "{\"id\":\"7505w00000TmOuPAAV\",\"operation\":\"query\",\"object\":\"ToolToolClusterAssociation__c\",\"createdById\":\"0055w00000DM5bOAAT\",\"createdDate\":\"2021-01-21T17:12:21.000+0000\",\"systemModstamp\":\"2021-01-21T17:12:27.000+0000\",\"state\":\"JobComplete\",\"concurrencyMode\":\"Parallel\",\"contentType\":\"CSV\",\"apiVersion\":47.0,\"jobType\":\"V2Query\",\"lineEnding\":\"LF\",\"columnDelimiter\":\"COMMA\",\"numberRecordsProcessed\":6002,\"retries\":0,\"totalProcessingTime\":578}\n",
      "[Success] Bulk job completed successfully.\n"
     ]
    }
   ],
   "source": [
    "tools_in_cluster_df = db_1.query_data('Select Id, Name, Tool_Usage_Cluster__c, Tool__c from ToolToolClusterAssociation__c')"
   ]
  },
  {
   "cell_type": "code",
   "execution_count": 10,
   "metadata": {
    "execution": {
     "iopub.execute_input": "2021-01-21T17:12:32.925068Z",
     "iopub.status.busy": "2021-01-21T17:12:32.924476Z",
     "iopub.status.idle": "2021-01-21T17:12:32.927943Z",
     "shell.execute_reply": "2021-01-21T17:12:32.927341Z"
    },
    "papermill": {
     "duration": 0.064227,
     "end_time": "2021-01-21T17:12:32.928069",
     "exception": false,
     "start_time": "2021-01-21T17:12:32.863842",
     "status": "completed"
    },
    "tags": []
   },
   "outputs": [
    {
     "data": {
      "text/html": [
       "<div>\n",
       "<style scoped>\n",
       "    .dataframe tbody tr th:only-of-type {\n",
       "        vertical-align: middle;\n",
       "    }\n",
       "\n",
       "    .dataframe tbody tr th {\n",
       "        vertical-align: top;\n",
       "    }\n",
       "\n",
       "    .dataframe thead th {\n",
       "        text-align: right;\n",
       "    }\n",
       "</style>\n",
       "<table border=\"1\" class=\"dataframe\">\n",
       "  <thead>\n",
       "    <tr style=\"text-align: right;\">\n",
       "      <th></th>\n",
       "      <th>Id</th>\n",
       "      <th>Name</th>\n",
       "      <th>Tool_Usage_Cluster__c</th>\n",
       "      <th>Tool__c</th>\n",
       "    </tr>\n",
       "  </thead>\n",
       "  <tbody>\n",
       "    <tr>\n",
       "      <th>0</th>\n",
       "      <td>a0y5w00000MzuVXAAZ</td>\n",
       "      <td>nanocmos_103</td>\n",
       "      <td>a0w5w000009Q7EVAA0</td>\n",
       "      <td>a0s5w00000k5MQJAA2</td>\n",
       "    </tr>\n",
       "    <tr>\n",
       "      <th>1</th>\n",
       "      <td>a0y5w00000MzvUQAAZ</td>\n",
       "      <td>geneticalgo_1</td>\n",
       "      <td>a0w5w00000A8OFeAAN</td>\n",
       "      <td>a0s5w00000k5MXTAA2</td>\n",
       "    </tr>\n",
       "    <tr>\n",
       "      <th>2</th>\n",
       "      <td>a0y5w00000MzvURAAZ</td>\n",
       "      <td>geneticalgo_2</td>\n",
       "      <td>a0w5w00000A8OFfAAN</td>\n",
       "      <td>a0s5w00000k5MXTAA2</td>\n",
       "    </tr>\n",
       "    <tr>\n",
       "      <th>3</th>\n",
       "      <td>a0y5w00000MzvUSAAZ</td>\n",
       "      <td>geneticalgo_3</td>\n",
       "      <td>a0w5w00000A8OFgAAN</td>\n",
       "      <td>a0s5w00000k5MXTAA2</td>\n",
       "    </tr>\n",
       "    <tr>\n",
       "      <th>4</th>\n",
       "      <td>a0y5w00000MzvUTAAZ</td>\n",
       "      <td>bmcsuite_4</td>\n",
       "      <td>a0w5w000009Q7CuAAK</td>\n",
       "      <td>a0s5w00000k5MRtAAM</td>\n",
       "    </tr>\n",
       "  </tbody>\n",
       "</table>\n",
       "</div>"
      ],
      "text/plain": [
       "                   Id           Name Tool_Usage_Cluster__c             Tool__c\n",
       "0  a0y5w00000MzuVXAAZ   nanocmos_103    a0w5w000009Q7EVAA0  a0s5w00000k5MQJAA2\n",
       "1  a0y5w00000MzvUQAAZ  geneticalgo_1    a0w5w00000A8OFeAAN  a0s5w00000k5MXTAA2\n",
       "2  a0y5w00000MzvURAAZ  geneticalgo_2    a0w5w00000A8OFfAAN  a0s5w00000k5MXTAA2\n",
       "3  a0y5w00000MzvUSAAZ  geneticalgo_3    a0w5w00000A8OFgAAN  a0s5w00000k5MXTAA2\n",
       "4  a0y5w00000MzvUTAAZ     bmcsuite_4    a0w5w000009Q7CuAAK  a0s5w00000k5MRtAAM"
      ]
     },
     "metadata": {},
     "output_type": "display_data"
    }
   ],
   "source": [
    "display(tools_in_cluster_df.head(5))"
   ]
  },
  {
   "cell_type": "markdown",
   "metadata": {
    "papermill": {
     "duration": 0.05121,
     "end_time": "2021-01-21T17:12:33.030443",
     "exception": false,
     "start_time": "2021-01-21T17:12:32.979233",
     "status": "completed"
    },
    "tags": []
   },
   "source": [
    "### determining suspicious tool_usage_clusters__c"
   ]
  },
  {
   "cell_type": "code",
   "execution_count": 11,
   "metadata": {
    "execution": {
     "iopub.execute_input": "2021-01-21T17:12:33.139504Z",
     "iopub.status.busy": "2021-01-21T17:12:33.138945Z",
     "iopub.status.idle": "2021-01-21T17:12:33.141612Z",
     "shell.execute_reply": "2021-01-21T17:12:33.142063Z"
    },
    "papermill": {
     "duration": 0.061152,
     "end_time": "2021-01-21T17:12:33.142214",
     "exception": false,
     "start_time": "2021-01-21T17:12:33.081062",
     "status": "completed"
    },
    "tags": []
   },
   "outputs": [],
   "source": [
    "## overarching goal: determine the cluster IDs that need further investigation\n",
    "\n",
    "# grouping the clusters by tools used (i.e., clusters by tool)\n",
    "tools_dict = {j: [] for j in tools_in_cluster_df['Tool__c'].to_list()} #stores relevant indexes per org\n",
    "\n",
    "for i,j in enumerate(tools_in_cluster_df['Tool__c'].to_list()):\n",
    "    tools_dict[j].append(i)\n",
    "\n",
    "unique_tools = list(tools_dict.keys())"
   ]
  },
  {
   "cell_type": "code",
   "execution_count": 12,
   "metadata": {
    "execution": {
     "iopub.execute_input": "2021-01-21T17:12:33.248647Z",
     "iopub.status.busy": "2021-01-21T17:12:33.248005Z",
     "iopub.status.idle": "2021-01-21T17:12:33.250615Z",
     "shell.execute_reply": "2021-01-21T17:12:33.250057Z"
    },
    "papermill": {
     "duration": 0.057497,
     "end_time": "2021-01-21T17:12:33.250738",
     "exception": false,
     "start_time": "2021-01-21T17:12:33.193241",
     "status": "completed"
    },
    "tags": []
   },
   "outputs": [],
   "source": [
    "from copy import deepcopy"
   ]
  },
  {
   "cell_type": "code",
   "execution_count": 13,
   "metadata": {
    "execution": {
     "iopub.execute_input": "2021-01-21T17:12:33.385721Z",
     "iopub.status.busy": "2021-01-21T17:12:33.365101Z",
     "iopub.status.idle": "2021-01-21T17:13:50.654111Z",
     "shell.execute_reply": "2021-01-21T17:13:50.653427Z"
    },
    "papermill": {
     "duration": 77.352938,
     "end_time": "2021-01-21T17:13:50.654252",
     "exception": false,
     "start_time": "2021-01-21T17:12:33.301314",
     "status": "completed"
    },
    "tags": []
   },
   "outputs": [],
   "source": [
    "## check start and end dates for overlaps\n",
    "overlaps = ['init'] # del index 0 later\n",
    "\n",
    "cluster_ids = tools_in_cluster_df['Tool_Usage_Cluster__c'].to_list()\n",
    "tool_cluster_id_indexes = tool_cluster_df['Id'].to_list()\n",
    "\n",
    "for i,ii in enumerate(unique_tools):\n",
    "    for j in tools_dict[ii]: # this requires a sequential comparison\n",
    "        ## tools dict contains the tools_in_cluster_df index\n",
    "        temp_set = deepcopy(tools_dict[ii])\n",
    "        del temp_set[temp_set.index(j)]\n",
    "        \n",
    "        # pull id\n",
    "        current_index = tool_cluster_id_indexes.index(cluster_ids[j]) #integer index\n",
    "        \n",
    "        current_org = tool_cluster_df.iloc[current_index,2]\n",
    "        current_sem = tool_cluster_df.iloc[current_index,3]\n",
    "        current_start = datetime.datetime.strptime(tool_cluster_df.iloc[current_index,-1],'%Y-%m-%d')\n",
    "        current_stop = datetime.datetime.strptime(tool_cluster_df.iloc[current_index,0],'%Y-%m-%d')\n",
    "        \n",
    "        # sequential compare\n",
    "        for k in temp_set:\n",
    "            temp_index = tool_cluster_id_indexes.index(cluster_ids[k]) #integer index\n",
    "            \n",
    "            temp_org = tool_cluster_df.iloc[temp_index,2]\n",
    "            temp_sem = tool_cluster_df.iloc[temp_index,3]\n",
    "            temp_start = datetime.datetime.strptime(tool_cluster_df.iloc[temp_index,-1],'%Y-%m-%d')\n",
    "            temp_stop = datetime.datetime.strptime(tool_cluster_df.iloc[temp_index,0],'%Y-%m-%d')\n",
    "        \n",
    "            if temp_org == current_org and temp_sem == current_sem:\n",
    "                # now check dates for overlap - if there is overlap, assume same cluster\n",
    "                if temp_start > current_stop or temp_stop < current_start: #case 1 - () [], # case 2 - [] ()\n",
    "                    # do nothing\n",
    "                    filler = 0\n",
    "                else:\n",
    "                    # include the overlap as a tuple\n",
    "                    overlaps.append([cluster_ids[j],cluster_ids[k]])\n"
   ]
  },
  {
   "cell_type": "code",
   "execution_count": 14,
   "metadata": {
    "execution": {
     "iopub.execute_input": "2021-01-21T17:13:50.769128Z",
     "iopub.status.busy": "2021-01-21T17:13:50.768459Z",
     "iopub.status.idle": "2021-01-21T17:13:50.770996Z",
     "shell.execute_reply": "2021-01-21T17:13:50.771505Z"
    },
    "papermill": {
     "duration": 0.063321,
     "end_time": "2021-01-21T17:13:50.771673",
     "exception": false,
     "start_time": "2021-01-21T17:13:50.708352",
     "status": "completed"
    },
    "tags": []
   },
   "outputs": [],
   "source": [
    "## filter the set of overlaps\n",
    "if overlaps[0] == 'init':\n",
    "    del overlaps[0]\n",
    "\n",
    "for i,j in enumerate(overlaps):\n",
    "    j.sort()\n",
    "    overlaps[i] = j\n",
    "\n",
    "overlaps.sort()"
   ]
  },
  {
   "cell_type": "code",
   "execution_count": 15,
   "metadata": {
    "execution": {
     "iopub.execute_input": "2021-01-21T17:13:50.885519Z",
     "iopub.status.busy": "2021-01-21T17:13:50.884954Z",
     "iopub.status.idle": "2021-01-21T17:13:50.888452Z",
     "shell.execute_reply": "2021-01-21T17:13:50.887998Z"
    },
    "papermill": {
     "duration": 0.062208,
     "end_time": "2021-01-21T17:13:50.888603",
     "exception": false,
     "start_time": "2021-01-21T17:13:50.826395",
     "status": "completed"
    },
    "tags": []
   },
   "outputs": [
    {
     "data": {
      "text/plain": [
       "[]"
      ]
     },
     "execution_count": 15,
     "metadata": {},
     "output_type": "execute_result"
    }
   ],
   "source": [
    "overlaps[:5]"
   ]
  },
  {
   "cell_type": "code",
   "execution_count": 16,
   "metadata": {
    "execution": {
     "iopub.execute_input": "2021-01-21T17:13:51.001385Z",
     "iopub.status.busy": "2021-01-21T17:13:51.000785Z",
     "iopub.status.idle": "2021-01-21T17:13:51.004668Z",
     "shell.execute_reply": "2021-01-21T17:13:51.005122Z"
    },
    "papermill": {
     "duration": 0.062029,
     "end_time": "2021-01-21T17:13:51.005288",
     "exception": false,
     "start_time": "2021-01-21T17:13:50.943259",
     "status": "completed"
    },
    "tags": []
   },
   "outputs": [],
   "source": [
    "import itertools"
   ]
  },
  {
   "cell_type": "code",
   "execution_count": 17,
   "metadata": {
    "execution": {
     "iopub.execute_input": "2021-01-21T17:13:51.112449Z",
     "iopub.status.busy": "2021-01-21T17:13:51.111894Z",
     "iopub.status.idle": "2021-01-21T17:13:51.115425Z",
     "shell.execute_reply": "2021-01-21T17:13:51.115924Z"
    },
    "papermill": {
     "duration": 0.059168,
     "end_time": "2021-01-21T17:13:51.116083",
     "exception": false,
     "start_time": "2021-01-21T17:13:51.056915",
     "status": "completed"
    },
    "tags": []
   },
   "outputs": [],
   "source": [
    "overlaps2 = list(k for k,_ in itertools.groupby(overlaps))"
   ]
  },
  {
   "cell_type": "code",
   "execution_count": 18,
   "metadata": {
    "execution": {
     "iopub.execute_input": "2021-01-21T17:13:51.224847Z",
     "iopub.status.busy": "2021-01-21T17:13:51.224264Z",
     "iopub.status.idle": "2021-01-21T17:13:51.227256Z",
     "shell.execute_reply": "2021-01-21T17:13:51.227799Z"
    },
    "papermill": {
     "duration": 0.059204,
     "end_time": "2021-01-21T17:13:51.227977",
     "exception": false,
     "start_time": "2021-01-21T17:13:51.168773",
     "status": "completed"
    },
    "tags": []
   },
   "outputs": [
    {
     "data": {
      "text/plain": [
       "[]"
      ]
     },
     "execution_count": 18,
     "metadata": {},
     "output_type": "execute_result"
    }
   ],
   "source": [
    "overlaps2[:9]"
   ]
  },
  {
   "cell_type": "code",
   "execution_count": 19,
   "metadata": {
    "execution": {
     "iopub.execute_input": "2021-01-21T17:13:51.340775Z",
     "iopub.status.busy": "2021-01-21T17:13:51.340203Z",
     "iopub.status.idle": "2021-01-21T17:13:51.343797Z",
     "shell.execute_reply": "2021-01-21T17:13:51.343263Z"
    },
    "papermill": {
     "duration": 0.061951,
     "end_time": "2021-01-21T17:13:51.343937",
     "exception": false,
     "start_time": "2021-01-21T17:13:51.281986",
     "status": "completed"
    },
    "tags": []
   },
   "outputs": [
    {
     "name": "stdout",
     "output_type": "stream",
     "text": [
      "0 0\n"
     ]
    }
   ],
   "source": [
    "print(len(overlaps),len(overlaps2))"
   ]
  },
  {
   "cell_type": "markdown",
   "metadata": {
    "papermill": {
     "duration": 0.053626,
     "end_time": "2021-01-21T17:13:51.450600",
     "exception": false,
     "start_time": "2021-01-21T17:13:51.396974",
     "status": "completed"
    },
    "tags": []
   },
   "source": [
    "#### now that we have the set of overlapping clusters, we need to specify a main one"
   ]
  },
  {
   "cell_type": "code",
   "execution_count": 20,
   "metadata": {
    "execution": {
     "iopub.execute_input": "2021-01-21T17:13:51.560613Z",
     "iopub.status.busy": "2021-01-21T17:13:51.560054Z",
     "iopub.status.idle": "2021-01-21T17:13:51.564178Z",
     "shell.execute_reply": "2021-01-21T17:13:51.563374Z"
    },
    "papermill": {
     "duration": 0.061034,
     "end_time": "2021-01-21T17:13:51.564310",
     "exception": false,
     "start_time": "2021-01-21T17:13:51.503276",
     "status": "completed"
    },
    "tags": []
   },
   "outputs": [],
   "source": [
    "## main cluster characteristics\n",
    "## Part A\n",
    "## 1. combine overlaps together (i.e., three overlapping clusters combined into 1) \n",
    "## 2. decide the main cluster\n",
    "## Part B\n",
    "## 1. start and end dates realignment - i.e., should take the min of all the start dates and max of all the ends\n",
    "## 2. combine contacts\n",
    "## 3. create two DataFrames, one for upsert and the other for deletion"
   ]
  },
  {
   "cell_type": "markdown",
   "metadata": {
    "tags": [
     "papermill-error-cell-tag"
    ]
   },
   "source": [
    "<span id=\"papermill-error-cell\" style=\"color:red; font-family:Helvetica Neue, Helvetica, Arial, sans-serif; font-size:2em;\">Execution using papermill encountered an exception here and stopped:</span>"
   ]
  },
  {
   "cell_type": "code",
   "execution_count": 21,
   "metadata": {
    "execution": {
     "iopub.execute_input": "2021-01-21T17:13:51.676478Z",
     "iopub.status.busy": "2021-01-21T17:13:51.675902Z",
     "iopub.status.idle": "2021-01-21T17:13:51.856973Z",
     "shell.execute_reply": "2021-01-21T17:13:51.856035Z"
    },
    "papermill": {
     "duration": 0.24066,
     "end_time": "2021-01-21T17:13:51.857208",
     "exception": true,
     "start_time": "2021-01-21T17:13:51.616548",
     "status": "failed"
    },
    "tags": []
   },
   "outputs": [
    {
     "ename": "NameError",
     "evalue": "name 'overlaps_holder' is not defined",
     "output_type": "error",
     "traceback": [
      "\u001b[0;31m---------------------------------------------------------------------------\u001b[0m",
      "\u001b[0;31mNameError\u001b[0m                                 Traceback (most recent call last)",
      "\u001b[0;32m<ipython-input-21-8c39440de531>\u001b[0m in \u001b[0;36m<module>\u001b[0;34m\u001b[0m\n\u001b[1;32m     23\u001b[0m \u001b[0;34m\u001b[0m\u001b[0m\n\u001b[1;32m     24\u001b[0m \u001b[0;31m# final iteration\u001b[0m\u001b[0;34m\u001b[0m\u001b[0;34m\u001b[0m\u001b[0;34m\u001b[0m\u001b[0m\n\u001b[0;32m---> 25\u001b[0;31m \u001b[0moverlaps3\u001b[0m\u001b[0;34m.\u001b[0m\u001b[0mappend\u001b[0m\u001b[0;34m(\u001b[0m\u001b[0moverlaps_holder\u001b[0m\u001b[0;34m)\u001b[0m\u001b[0;34m\u001b[0m\u001b[0;34m\u001b[0m\u001b[0m\n\u001b[0m",
      "\u001b[0;31mNameError\u001b[0m: name 'overlaps_holder' is not defined"
     ]
    }
   ],
   "source": [
    "## Part A\n",
    "# collapse overlaps2\n",
    "overlaps3 = ['init']\n",
    "main_clusters = []\n",
    "\n",
    "running_temp_init = True\n",
    "\n",
    "for i,j in enumerate(overlaps2):\n",
    "    if running_temp_init == True:\n",
    "        main_clusters.append(j[0])\n",
    "        overlaps_holder = deepcopy(j)\n",
    "        running_temp_init = False\n",
    "    else:\n",
    "        if j[0] in overlaps_holder and j[1] not in overlaps_holder:\n",
    "            overlaps_holder.append(j[1])\n",
    "        else: \n",
    "            if j[0] not in overlaps_holder and j[1] not in overlaps_holder: #neither is in overlaps_holder\n",
    "                overlaps3.append(overlaps_holder)\n",
    "\n",
    "                # recalc\n",
    "                main_clusters.append(j[0])\n",
    "                overlaps_holder = deepcopy(j)\n",
    "\n",
    "# final iteration\n",
    "overlaps3.append(overlaps_holder)"
   ]
  },
  {
   "cell_type": "code",
   "execution_count": null,
   "metadata": {
    "execution": {
     "iopub.execute_input": "2021-01-21T16:58:35.812632Z",
     "iopub.status.busy": "2021-01-21T16:58:35.811999Z",
     "iopub.status.idle": "2021-01-21T16:58:35.815617Z",
     "shell.execute_reply": "2021-01-21T16:58:35.816293Z"
    },
    "papermill": {
     "duration": null,
     "end_time": null,
     "exception": null,
     "start_time": null,
     "status": "pending"
    },
    "tags": []
   },
   "outputs": [],
   "source": [
    "len(main_clusters)"
   ]
  },
  {
   "cell_type": "code",
   "execution_count": null,
   "metadata": {
    "execution": {
     "iopub.execute_input": "2021-01-21T16:58:35.934313Z",
     "iopub.status.busy": "2021-01-21T16:58:35.933709Z",
     "iopub.status.idle": "2021-01-21T16:58:35.937527Z",
     "shell.execute_reply": "2021-01-21T16:58:35.936888Z"
    },
    "papermill": {
     "duration": null,
     "end_time": null,
     "exception": null,
     "start_time": null,
     "status": "pending"
    },
    "tags": []
   },
   "outputs": [],
   "source": [
    "if overlaps3[0] == 'init':\n",
    "    del overlaps3[0]\n",
    "    \n",
    "print(len(overlaps3))"
   ]
  },
  {
   "cell_type": "code",
   "execution_count": null,
   "metadata": {
    "execution": {
     "iopub.execute_input": "2021-01-21T16:58:36.053311Z",
     "iopub.status.busy": "2021-01-21T16:58:36.052688Z",
     "iopub.status.idle": "2021-01-21T16:58:36.057903Z",
     "shell.execute_reply": "2021-01-21T16:58:36.058362Z"
    },
    "papermill": {
     "duration": null,
     "end_time": null,
     "exception": null,
     "start_time": null,
     "status": "pending"
    },
    "tags": []
   },
   "outputs": [],
   "source": [
    "display(main_clusters[:5])\n",
    "display(overlaps3[:5])"
   ]
  },
  {
   "cell_type": "markdown",
   "metadata": {
    "papermill": {
     "duration": null,
     "end_time": null,
     "exception": null,
     "start_time": null,
     "status": "pending"
    },
    "tags": []
   },
   "source": [
    "### Major step - building upsert and deletion dataframes\n",
    "### Build 3 upserts and 3 deletions [corresponds to tool_usage_cluster__c, ContactToolClusterAssociation__c, ToolToolClusterAssociation__c]"
   ]
  },
  {
   "cell_type": "code",
   "execution_count": null,
   "metadata": {
    "execution": {
     "iopub.execute_input": "2021-01-21T16:58:36.294700Z",
     "iopub.status.busy": "2021-01-21T16:58:36.294076Z",
     "iopub.status.idle": "2021-01-21T16:58:36.296246Z",
     "shell.execute_reply": "2021-01-21T16:58:36.296661Z"
    },
    "papermill": {
     "duration": null,
     "end_time": null,
     "exception": null,
     "start_time": null,
     "status": "pending"
    },
    "tags": []
   },
   "outputs": [],
   "source": [
    "## Part B\n",
    "### build the upsert dataframe first\n",
    "upsert_df = pd.DataFrame(columns=['Id','Ending_Date__c','Starting_Date__c']) #Id of the main cluster\n",
    "upsert_df['Id'] = deepcopy(main_clusters)"
   ]
  },
  {
   "cell_type": "code",
   "execution_count": null,
   "metadata": {
    "execution": {
     "iopub.execute_input": "2021-01-21T16:58:36.432009Z",
     "iopub.status.busy": "2021-01-21T16:58:36.424643Z",
     "iopub.status.idle": "2021-01-21T16:58:36.434637Z",
     "shell.execute_reply": "2021-01-21T16:58:36.434191Z"
    },
    "papermill": {
     "duration": null,
     "end_time": null,
     "exception": null,
     "start_time": null,
     "status": "pending"
    },
    "tags": []
   },
   "outputs": [],
   "source": [
    "for i,ii in enumerate(main_clusters):\n",
    "    main_c_index = tool_cluster_df['Id'].to_list()\n",
    "    c_start_date = tool_cluster_df.iloc[main_c_index.index(ii),-1]    \n",
    "    c_end_date = tool_cluster_df.iloc[main_c_index.index(ii),0]\n",
    "        \n",
    "    for j,jj in enumerate(overlaps3[i]):\n",
    "        j_start_date = tool_cluster_df.iloc[main_c_index.index(jj),-1]\n",
    "        j_end_date = tool_cluster_df.iloc[main_c_index.index(jj),0]\n",
    "        \n",
    "        if j_start_date < c_start_date:\n",
    "            c_start_date = deepcopy(j_start_date)\n",
    "        \n",
    "        if j_end_date > c_end_date:\n",
    "            c_end_date = deepcopy(j_end_date)\n",
    "        \n",
    "    upsert_df.iloc[i,1:] = [c_end_date,c_start_date]"
   ]
  },
  {
   "cell_type": "code",
   "execution_count": null,
   "metadata": {
    "execution": {
     "iopub.execute_input": "2021-01-21T16:58:36.555794Z",
     "iopub.status.busy": "2021-01-21T16:58:36.555220Z",
     "iopub.status.idle": "2021-01-21T16:58:36.564380Z",
     "shell.execute_reply": "2021-01-21T16:58:36.564780Z"
    },
    "papermill": {
     "duration": null,
     "end_time": null,
     "exception": null,
     "start_time": null,
     "status": "pending"
    },
    "tags": []
   },
   "outputs": [],
   "source": [
    "display(upsert_df.head(5))\n",
    "display(upsert_df.tail(5))"
   ]
  },
  {
   "cell_type": "code",
   "execution_count": null,
   "metadata": {
    "execution": {
     "iopub.execute_input": "2021-01-21T16:58:36.685393Z",
     "iopub.status.busy": "2021-01-21T16:58:36.684771Z",
     "iopub.status.idle": "2021-01-21T16:58:36.687032Z",
     "shell.execute_reply": "2021-01-21T16:58:36.687510Z"
    },
    "papermill": {
     "duration": null,
     "end_time": null,
     "exception": null,
     "start_time": null,
     "status": "pending"
    },
    "tags": []
   },
   "outputs": [],
   "source": [
    "### buliding the delete dataframe - should be all Ids in overlaps that are not main clusters\n",
    "deletion_df = pd.DataFrame(columns=['Id']) #Id of the main cluster\n",
    "\n",
    "deletion_ids = []\n",
    "\n",
    "for i,ii in enumerate(main_clusters):\n",
    "    for j in overlaps3[i][1:]:\n",
    "        deletion_ids.append(j)\n",
    "deletion_df['Id'] = deletion_ids"
   ]
  },
  {
   "cell_type": "code",
   "execution_count": null,
   "metadata": {
    "execution": {
     "iopub.execute_input": "2021-01-21T16:58:36.807056Z",
     "iopub.status.busy": "2021-01-21T16:58:36.806445Z",
     "iopub.status.idle": "2021-01-21T16:58:36.810937Z",
     "shell.execute_reply": "2021-01-21T16:58:36.810467Z"
    },
    "papermill": {
     "duration": null,
     "end_time": null,
     "exception": null,
     "start_time": null,
     "status": "pending"
    },
    "tags": []
   },
   "outputs": [],
   "source": [
    "display(deletion_df.head(3))"
   ]
  },
  {
   "cell_type": "code",
   "execution_count": null,
   "metadata": {
    "execution": {
     "iopub.execute_input": "2021-01-21T16:58:36.928639Z",
     "iopub.status.busy": "2021-01-21T16:58:36.928053Z",
     "iopub.status.idle": "2021-01-21T16:58:36.930560Z",
     "shell.execute_reply": "2021-01-21T16:58:36.931036Z"
    },
    "papermill": {
     "duration": null,
     "end_time": null,
     "exception": null,
     "start_time": null,
     "status": "pending"
    },
    "tags": []
   },
   "outputs": [],
   "source": [
    "## summary up to this point\n",
    "## upsert_df db.send_data(upsert_df)\n",
    "## db.object_id = 'tool_usage_cluster__c'\n",
    "## db.external_id = 'Id'\n",
    "\n",
    "## deletion_df db.delete_data(deletion_df)\n",
    "## db.object_id = 'tool_usage_cluster__c'\n",
    "## db.external_id = 'Id'"
   ]
  },
  {
   "cell_type": "code",
   "execution_count": null,
   "metadata": {
    "execution": {
     "iopub.execute_input": "2021-01-21T16:58:37.057036Z",
     "iopub.status.busy": "2021-01-21T16:58:37.056427Z",
     "iopub.status.idle": "2021-01-21T16:58:37.060365Z",
     "shell.execute_reply": "2021-01-21T16:58:37.060944Z"
    },
    "papermill": {
     "duration": null,
     "end_time": null,
     "exception": null,
     "start_time": null,
     "status": "pending"
    },
    "tags": []
   },
   "outputs": [],
   "source": [
    "## updating contact and cluster mapping\n",
    "display(contact_in_cluster_df.head(2))\n",
    "print(contact_in_cluster_df.shape)"
   ]
  },
  {
   "cell_type": "code",
   "execution_count": null,
   "metadata": {
    "execution": {
     "iopub.execute_input": "2021-01-21T16:58:37.180166Z",
     "iopub.status.busy": "2021-01-21T16:58:37.179259Z",
     "iopub.status.idle": "2021-01-21T16:58:37.182192Z",
     "shell.execute_reply": "2021-01-21T16:58:37.181672Z"
    },
    "papermill": {
     "duration": null,
     "end_time": null,
     "exception": null,
     "start_time": null,
     "status": "pending"
    },
    "tags": []
   },
   "outputs": [],
   "source": [
    "# NOTE: there are contacts that belong to non-overlapping clusters\n",
    "contact_usage_clusters = contact_in_cluster_df['Tool_Usage_Cluster__c'].to_list()\n",
    "contacts = contact_in_cluster_df['Contact__c'].to_list()\n",
    "change_indexes = []\n",
    "\n",
    "## check if current cluster belongs to overlaps3 - first need to convert overlaps3 into a direct list\n",
    "overlaps4 = list(itertools.chain.from_iterable(overlaps3))"
   ]
  },
  {
   "cell_type": "code",
   "execution_count": null,
   "metadata": {
    "execution": {
     "iopub.execute_input": "2021-01-21T16:58:37.303658Z",
     "iopub.status.busy": "2021-01-21T16:58:37.303070Z",
     "iopub.status.idle": "2021-01-21T16:58:37.306979Z",
     "shell.execute_reply": "2021-01-21T16:58:37.306480Z"
    },
    "papermill": {
     "duration": null,
     "end_time": null,
     "exception": null,
     "start_time": null,
     "status": "pending"
    },
    "tags": []
   },
   "outputs": [],
   "source": [
    "print(len(overlaps4))"
   ]
  },
  {
   "cell_type": "code",
   "execution_count": null,
   "metadata": {
    "execution": {
     "iopub.execute_input": "2021-01-21T16:58:37.430597Z",
     "iopub.status.busy": "2021-01-21T16:58:37.429730Z",
     "iopub.status.idle": "2021-01-21T16:58:37.433130Z",
     "shell.execute_reply": "2021-01-21T16:58:37.432407Z"
    },
    "papermill": {
     "duration": null,
     "end_time": null,
     "exception": null,
     "start_time": null,
     "status": "pending"
    },
    "tags": []
   },
   "outputs": [],
   "source": [
    "## populate the contacts that need changing\n",
    "for i,j in enumerate(contact_usage_clusters):\n",
    "    if j in overlaps4:\n",
    "        change_indexes.append(i)"
   ]
  },
  {
   "cell_type": "code",
   "execution_count": null,
   "metadata": {
    "execution": {
     "iopub.execute_input": "2021-01-21T16:58:37.553276Z",
     "iopub.status.busy": "2021-01-21T16:58:37.552575Z",
     "iopub.status.idle": "2021-01-21T16:58:37.557422Z",
     "shell.execute_reply": "2021-01-21T16:58:37.556955Z"
    },
    "papermill": {
     "duration": null,
     "end_time": null,
     "exception": null,
     "start_time": null,
     "status": "pending"
    },
    "tags": []
   },
   "outputs": [],
   "source": [
    "print(len(change_indexes))"
   ]
  },
  {
   "cell_type": "code",
   "execution_count": null,
   "metadata": {
    "execution": {
     "iopub.execute_input": "2021-01-21T16:58:37.682483Z",
     "iopub.status.busy": "2021-01-21T16:58:37.681886Z",
     "iopub.status.idle": "2021-01-21T16:58:37.684250Z",
     "shell.execute_reply": "2021-01-21T16:58:37.684660Z"
    },
    "papermill": {
     "duration": null,
     "end_time": null,
     "exception": null,
     "start_time": null,
     "status": "pending"
    },
    "tags": []
   },
   "outputs": [],
   "source": [
    "## search for each index that needs changing\n",
    "for i in change_indexes:\n",
    "    if contact_usage_clusters[i] not in main_clusters:\n",
    "        #print('testouter')\n",
    "        \n",
    "        # need to find its main_cluster\n",
    "        found_main = False\n",
    "        main_counter = 0\n",
    "        while found_main == False:\n",
    "            if contact_usage_clusters[i] in overlaps3[main_counter]:\n",
    "                #print('test')\n",
    "                found_main = True\n",
    "                contact_usage_clusters[i] = overlaps3[main_counter][0]\n",
    "            else:\n",
    "                main_counter += 1"
   ]
  },
  {
   "cell_type": "code",
   "execution_count": null,
   "metadata": {
    "execution": {
     "iopub.execute_input": "2021-01-21T16:58:37.810172Z",
     "iopub.status.busy": "2021-01-21T16:58:37.809590Z",
     "iopub.status.idle": "2021-01-21T16:58:37.811876Z",
     "shell.execute_reply": "2021-01-21T16:58:37.812285Z"
    },
    "papermill": {
     "duration": null,
     "end_time": null,
     "exception": null,
     "start_time": null,
     "status": "pending"
    },
    "tags": []
   },
   "outputs": [],
   "source": [
    "contact_in_cluster_df['Tool_Usage_Cluster__c'] = contact_usage_clusters"
   ]
  },
  {
   "cell_type": "code",
   "execution_count": null,
   "metadata": {
    "execution": {
     "iopub.execute_input": "2021-01-21T16:58:37.931417Z",
     "iopub.status.busy": "2021-01-21T16:58:37.930836Z",
     "iopub.status.idle": "2021-01-21T16:58:37.943359Z",
     "shell.execute_reply": "2021-01-21T16:58:37.943862Z"
    },
    "papermill": {
     "duration": null,
     "end_time": null,
     "exception": null,
     "start_time": null,
     "status": "pending"
    },
    "tags": []
   },
   "outputs": [],
   "source": [
    "## remove duplicates from contact_in_cluster_df\n",
    "contact_in_cluster_df = contact_in_cluster_df.drop_duplicates()\n",
    "display(contact_in_cluster_df.head(2))\n",
    "print(contact_in_cluster_df.shape)"
   ]
  },
  {
   "cell_type": "code",
   "execution_count": null,
   "metadata": {
    "execution": {
     "iopub.execute_input": "2021-01-21T16:58:38.068621Z",
     "iopub.status.busy": "2021-01-21T16:58:38.068029Z",
     "iopub.status.idle": "2021-01-21T16:58:38.071461Z",
     "shell.execute_reply": "2021-01-21T16:58:38.071881Z"
    },
    "papermill": {
     "duration": null,
     "end_time": null,
     "exception": null,
     "start_time": null,
     "status": "pending"
    },
    "tags": []
   },
   "outputs": [],
   "source": [
    "## tools - take max, i.e. set all constituent clusters of a main cluster to the main cluster\n",
    "## then remove duplicates\n",
    "display(tools_in_cluster_df.head(2))"
   ]
  },
  {
   "cell_type": "code",
   "execution_count": null,
   "metadata": {
    "execution": {
     "iopub.execute_input": "2021-01-21T16:58:38.199483Z",
     "iopub.status.busy": "2021-01-21T16:58:38.198902Z",
     "iopub.status.idle": "2021-01-21T16:58:38.201130Z",
     "shell.execute_reply": "2021-01-21T16:58:38.201527Z"
    },
    "papermill": {
     "duration": null,
     "end_time": null,
     "exception": null,
     "start_time": null,
     "status": "pending"
    },
    "tags": []
   },
   "outputs": [],
   "source": [
    "tuc = tools_in_cluster_df['Tool_Usage_Cluster__c'].to_list()\n",
    "\n",
    "# first find those cluster ids that are clustered\n",
    "tool_cluster_ids = []\n",
    "for i,j in enumerate(tuc):\n",
    "    if j in overlaps4:\n",
    "        tool_cluster_ids.append(i)"
   ]
  },
  {
   "cell_type": "code",
   "execution_count": null,
   "metadata": {
    "execution": {
     "iopub.execute_input": "2021-01-21T16:58:38.322059Z",
     "iopub.status.busy": "2021-01-21T16:58:38.321443Z",
     "iopub.status.idle": "2021-01-21T16:58:38.326027Z",
     "shell.execute_reply": "2021-01-21T16:58:38.326515Z"
    },
    "papermill": {
     "duration": null,
     "end_time": null,
     "exception": null,
     "start_time": null,
     "status": "pending"
    },
    "tags": []
   },
   "outputs": [],
   "source": [
    "print(len(tool_cluster_ids))"
   ]
  },
  {
   "cell_type": "code",
   "execution_count": null,
   "metadata": {
    "execution": {
     "iopub.execute_input": "2021-01-21T16:58:38.449693Z",
     "iopub.status.busy": "2021-01-21T16:58:38.449063Z",
     "iopub.status.idle": "2021-01-21T16:58:38.452175Z",
     "shell.execute_reply": "2021-01-21T16:58:38.451656Z"
    },
    "papermill": {
     "duration": null,
     "end_time": null,
     "exception": null,
     "start_time": null,
     "status": "pending"
    },
    "tags": []
   },
   "outputs": [],
   "source": [
    "for i in tool_cluster_ids:\n",
    "    if tuc[i] not in main_clusters: #then need to find its corresponding main cluster\n",
    "        found_main = False\n",
    "        main_counter = 0\n",
    "        \n",
    "        while found_main == False:\n",
    "            if tuc[i] in overlaps3[main_counter]:\n",
    "                #print('test')\n",
    "                found_main = True\n",
    "                tuc[i] = overlaps3[main_counter][0]\n",
    "            else:\n",
    "                main_counter += 1"
   ]
  },
  {
   "cell_type": "code",
   "execution_count": null,
   "metadata": {
    "execution": {
     "iopub.execute_input": "2021-01-21T16:58:38.580241Z",
     "iopub.status.busy": "2021-01-21T16:58:38.579598Z",
     "iopub.status.idle": "2021-01-21T16:58:38.583640Z",
     "shell.execute_reply": "2021-01-21T16:58:38.583152Z"
    },
    "papermill": {
     "duration": null,
     "end_time": null,
     "exception": null,
     "start_time": null,
     "status": "pending"
    },
    "tags": []
   },
   "outputs": [],
   "source": [
    "tools_in_cluster_df['Tool_Usage_Cluster__c'] = tuc\n",
    "display(tools_in_cluster_df.head(2))"
   ]
  },
  {
   "cell_type": "markdown",
   "metadata": {
    "papermill": {
     "duration": null,
     "end_time": null,
     "exception": null,
     "start_time": null,
     "status": "pending"
    },
    "tags": []
   },
   "source": [
    "## Send to SF"
   ]
  },
  {
   "cell_type": "code",
   "execution_count": null,
   "metadata": {
    "execution": {
     "iopub.execute_input": "2021-01-21T16:58:38.827425Z",
     "iopub.status.busy": "2021-01-21T16:58:38.826609Z",
     "iopub.status.idle": "2021-01-21T16:58:39.486224Z",
     "shell.execute_reply": "2021-01-21T16:58:39.486656Z"
    },
    "papermill": {
     "duration": null,
     "end_time": null,
     "exception": null,
     "start_time": null,
     "status": "pending"
    },
    "tags": []
   },
   "outputs": [],
   "source": [
    "db_upsert_del = DB2SalesforceAPI(sf_login_params)"
   ]
  },
  {
   "cell_type": "code",
   "execution_count": null,
   "metadata": {
    "execution": {
     "iopub.execute_input": "2021-01-21T16:58:39.614727Z",
     "iopub.status.busy": "2021-01-21T16:58:39.614175Z",
     "iopub.status.idle": "2021-01-21T16:58:39.616876Z",
     "shell.execute_reply": "2021-01-21T16:58:39.616384Z"
    },
    "papermill": {
     "duration": null,
     "end_time": null,
     "exception": null,
     "start_time": null,
     "status": "pending"
    },
    "tags": []
   },
   "outputs": [],
   "source": [
    "db_upsert_del.object_id = 'tool_usage_cluster__c'\n",
    "db_upsert_del.external_id = 'Id'"
   ]
  },
  {
   "cell_type": "code",
   "execution_count": null,
   "metadata": {
    "execution": {
     "iopub.execute_input": "2021-01-21T16:58:39.748385Z",
     "iopub.status.busy": "2021-01-21T16:58:39.747817Z",
     "iopub.status.idle": "2021-01-21T16:58:40.870752Z",
     "shell.execute_reply": "2021-01-21T16:58:40.871324Z"
    },
    "papermill": {
     "duration": null,
     "end_time": null,
     "exception": null,
     "start_time": null,
     "status": "pending"
    },
    "tags": []
   },
   "outputs": [],
   "source": [
    "db_upsert_del.send_data(upsert_df)"
   ]
  },
  {
   "cell_type": "code",
   "execution_count": null,
   "metadata": {
    "execution": {
     "iopub.execute_input": "2021-01-21T16:58:40.995734Z",
     "iopub.status.busy": "2021-01-21T16:58:40.995179Z",
     "iopub.status.idle": "2021-01-21T16:58:41.577000Z",
     "shell.execute_reply": "2021-01-21T16:58:41.576491Z"
    },
    "papermill": {
     "duration": null,
     "end_time": null,
     "exception": null,
     "start_time": null,
     "status": "pending"
    },
    "tags": []
   },
   "outputs": [],
   "source": [
    "db_upsert_del.check_bulk_status()"
   ]
  },
  {
   "cell_type": "code",
   "execution_count": null,
   "metadata": {
    "execution": {
     "iopub.execute_input": "2021-01-21T16:58:41.735141Z",
     "iopub.status.busy": "2021-01-21T16:58:41.734550Z",
     "iopub.status.idle": "2021-01-21T16:58:42.011799Z",
     "shell.execute_reply": "2021-01-21T16:58:42.011325Z"
    },
    "papermill": {
     "duration": null,
     "end_time": null,
     "exception": null,
     "start_time": null,
     "status": "pending"
    },
    "tags": []
   },
   "outputs": [],
   "source": [
    "from pprint import pprint\n",
    "pprint(db_upsert_del.check_bulk_failed_results())"
   ]
  },
  {
   "cell_type": "markdown",
   "metadata": {
    "papermill": {
     "duration": null,
     "end_time": null,
     "exception": null,
     "start_time": null,
     "status": "pending"
    },
    "tags": []
   },
   "source": [
    "#### upload contact_in_cluster_df"
   ]
  },
  {
   "cell_type": "code",
   "execution_count": null,
   "metadata": {
    "execution": {
     "iopub.execute_input": "2021-01-21T16:58:42.277899Z",
     "iopub.status.busy": "2021-01-21T16:58:42.277304Z",
     "iopub.status.idle": "2021-01-21T16:58:42.597082Z",
     "shell.execute_reply": "2021-01-21T16:58:42.596485Z"
    },
    "papermill": {
     "duration": null,
     "end_time": null,
     "exception": null,
     "start_time": null,
     "status": "pending"
    },
    "tags": []
   },
   "outputs": [],
   "source": [
    "db_contact_upsert = DB2SalesforceAPI(sf_login_params)"
   ]
  },
  {
   "cell_type": "code",
   "execution_count": null,
   "metadata": {
    "execution": {
     "iopub.execute_input": "2021-01-21T16:58:42.731241Z",
     "iopub.status.busy": "2021-01-21T16:58:42.730251Z",
     "iopub.status.idle": "2021-01-21T16:58:42.733271Z",
     "shell.execute_reply": "2021-01-21T16:58:42.732760Z"
    },
    "papermill": {
     "duration": null,
     "end_time": null,
     "exception": null,
     "start_time": null,
     "status": "pending"
    },
    "tags": []
   },
   "outputs": [],
   "source": [
    "## need to delete first, then upload\n",
    "contact_in_cluster_df_del = pd.DataFrame(contact_in_cluster_df['Id'])\n",
    "contact_in_cluster_df_up = contact_in_cluster_df.drop(columns='Id')"
   ]
  },
  {
   "cell_type": "code",
   "execution_count": null,
   "metadata": {
    "execution": {
     "iopub.execute_input": "2021-01-21T16:58:42.865543Z",
     "iopub.status.busy": "2021-01-21T16:58:42.864904Z",
     "iopub.status.idle": "2021-01-21T16:58:42.873030Z",
     "shell.execute_reply": "2021-01-21T16:58:42.873614Z"
    },
    "papermill": {
     "duration": null,
     "end_time": null,
     "exception": null,
     "start_time": null,
     "status": "pending"
    },
    "tags": []
   },
   "outputs": [],
   "source": [
    "display(contact_in_cluster_df_del.head(2))\n",
    "display(contact_in_cluster_df_up.head(2))"
   ]
  },
  {
   "cell_type": "code",
   "execution_count": null,
   "metadata": {
    "execution": {
     "iopub.execute_input": "2021-01-21T16:58:43.008165Z",
     "iopub.status.busy": "2021-01-21T16:58:43.007552Z",
     "iopub.status.idle": "2021-01-21T16:58:43.011011Z",
     "shell.execute_reply": "2021-01-21T16:58:43.010415Z"
    },
    "papermill": {
     "duration": null,
     "end_time": null,
     "exception": null,
     "start_time": null,
     "status": "pending"
    },
    "tags": []
   },
   "outputs": [],
   "source": [
    "db_contact_upsert.object_id = 'ContactToolClusterAssociation__c'\n",
    "db_contact_upsert.external_id = 'Id'"
   ]
  },
  {
   "cell_type": "code",
   "execution_count": null,
   "metadata": {
    "execution": {
     "iopub.execute_input": "2021-01-21T16:58:43.149402Z",
     "iopub.status.busy": "2021-01-21T16:58:43.148445Z",
     "iopub.status.idle": "2021-01-21T16:58:44.017933Z",
     "shell.execute_reply": "2021-01-21T16:58:44.018398Z"
    },
    "papermill": {
     "duration": null,
     "end_time": null,
     "exception": null,
     "start_time": null,
     "status": "pending"
    },
    "tags": []
   },
   "outputs": [],
   "source": [
    "db_contact_upsert.delete_data(contact_in_cluster_df_del)"
   ]
  },
  {
   "cell_type": "code",
   "execution_count": null,
   "metadata": {
    "execution": {
     "iopub.execute_input": "2021-01-21T16:58:44.161301Z",
     "iopub.status.busy": "2021-01-21T16:58:44.160620Z",
     "iopub.status.idle": "2021-01-21T16:58:44.530156Z",
     "shell.execute_reply": "2021-01-21T16:58:44.530579Z"
    },
    "papermill": {
     "duration": null,
     "end_time": null,
     "exception": null,
     "start_time": null,
     "status": "pending"
    },
    "tags": []
   },
   "outputs": [],
   "source": [
    "db_contact_upsert.check_bulk_status()"
   ]
  },
  {
   "cell_type": "code",
   "execution_count": null,
   "metadata": {
    "execution": {
     "iopub.execute_input": "2021-01-21T16:58:44.664269Z",
     "iopub.status.busy": "2021-01-21T16:58:44.663674Z",
     "iopub.status.idle": "2021-01-21T16:58:44.806900Z",
     "shell.execute_reply": "2021-01-21T16:58:44.807473Z"
    },
    "papermill": {
     "duration": null,
     "end_time": null,
     "exception": null,
     "start_time": null,
     "status": "pending"
    },
    "tags": []
   },
   "outputs": [],
   "source": [
    "pprint(db_contact_upsert.check_bulk_failed_results())"
   ]
  },
  {
   "cell_type": "code",
   "execution_count": null,
   "metadata": {
    "papermill": {
     "duration": null,
     "end_time": null,
     "exception": null,
     "start_time": null,
     "status": "pending"
    },
    "tags": []
   },
   "outputs": [],
   "source": []
  },
  {
   "cell_type": "code",
   "execution_count": null,
   "metadata": {
    "papermill": {
     "duration": null,
     "end_time": null,
     "exception": null,
     "start_time": null,
     "status": "pending"
    },
    "tags": []
   },
   "outputs": [],
   "source": []
  },
  {
   "cell_type": "code",
   "execution_count": null,
   "metadata": {
    "execution": {
     "iopub.execute_input": "2021-01-21T16:58:45.204998Z",
     "iopub.status.busy": "2021-01-21T16:58:45.204399Z",
     "iopub.status.idle": "2021-01-21T16:58:45.206483Z",
     "shell.execute_reply": "2021-01-21T16:58:45.207078Z"
    },
    "papermill": {
     "duration": null,
     "end_time": null,
     "exception": null,
     "start_time": null,
     "status": "pending"
    },
    "tags": []
   },
   "outputs": [],
   "source": [
    "db_contact_upsert.object_id = 'ContactToolClusterAssociation__c'\n",
    "db_contact_upsert.external_id = 'Name'"
   ]
  },
  {
   "cell_type": "code",
   "execution_count": null,
   "metadata": {
    "execution": {
     "iopub.execute_input": "2021-01-21T16:58:45.341914Z",
     "iopub.status.busy": "2021-01-21T16:58:45.341261Z",
     "iopub.status.idle": "2021-01-21T16:58:46.172727Z",
     "shell.execute_reply": "2021-01-21T16:58:46.173306Z"
    },
    "papermill": {
     "duration": null,
     "end_time": null,
     "exception": null,
     "start_time": null,
     "status": "pending"
    },
    "tags": []
   },
   "outputs": [],
   "source": [
    "db_contact_upsert.send_data(contact_in_cluster_df_up)"
   ]
  },
  {
   "cell_type": "code",
   "execution_count": null,
   "metadata": {
    "execution": {
     "iopub.execute_input": "2021-01-21T16:58:46.316376Z",
     "iopub.status.busy": "2021-01-21T16:58:46.315819Z",
     "iopub.status.idle": "2021-01-21T16:58:46.712601Z",
     "shell.execute_reply": "2021-01-21T16:58:46.712014Z"
    },
    "papermill": {
     "duration": null,
     "end_time": null,
     "exception": null,
     "start_time": null,
     "status": "pending"
    },
    "tags": []
   },
   "outputs": [],
   "source": [
    "db_contact_upsert.check_bulk_status()"
   ]
  },
  {
   "cell_type": "code",
   "execution_count": null,
   "metadata": {
    "execution": {
     "iopub.execute_input": "2021-01-21T16:58:46.850779Z",
     "iopub.status.busy": "2021-01-21T16:58:46.850129Z",
     "iopub.status.idle": "2021-01-21T16:58:46.987660Z",
     "shell.execute_reply": "2021-01-21T16:58:46.987203Z"
    },
    "papermill": {
     "duration": null,
     "end_time": null,
     "exception": null,
     "start_time": null,
     "status": "pending"
    },
    "tags": []
   },
   "outputs": [],
   "source": [
    "pprint(db_contact_upsert.check_bulk_failed_results())"
   ]
  },
  {
   "cell_type": "code",
   "execution_count": null,
   "metadata": {
    "papermill": {
     "duration": null,
     "end_time": null,
     "exception": null,
     "start_time": null,
     "status": "pending"
    },
    "tags": []
   },
   "outputs": [],
   "source": []
  },
  {
   "cell_type": "markdown",
   "metadata": {
    "papermill": {
     "duration": null,
     "end_time": null,
     "exception": null,
     "start_time": null,
     "status": "pending"
    },
    "tags": []
   },
   "source": [
    "#### tools_in_cluster_df"
   ]
  },
  {
   "cell_type": "code",
   "execution_count": null,
   "metadata": {
    "execution": {
     "iopub.execute_input": "2021-01-21T16:58:47.406485Z",
     "iopub.status.busy": "2021-01-21T16:58:47.405889Z",
     "iopub.status.idle": "2021-01-21T16:58:47.681883Z",
     "shell.execute_reply": "2021-01-21T16:58:47.681170Z"
    },
    "papermill": {
     "duration": null,
     "end_time": null,
     "exception": null,
     "start_time": null,
     "status": "pending"
    },
    "tags": []
   },
   "outputs": [],
   "source": [
    "db_tool_upsert = DB2SalesforceAPI(sf_login_params)"
   ]
  },
  {
   "cell_type": "code",
   "execution_count": null,
   "metadata": {
    "execution": {
     "iopub.execute_input": "2021-01-21T16:58:47.827149Z",
     "iopub.status.busy": "2021-01-21T16:58:47.826551Z",
     "iopub.status.idle": "2021-01-21T16:58:47.829692Z",
     "shell.execute_reply": "2021-01-21T16:58:47.829236Z"
    },
    "papermill": {
     "duration": null,
     "end_time": null,
     "exception": null,
     "start_time": null,
     "status": "pending"
    },
    "tags": []
   },
   "outputs": [],
   "source": [
    "## need to delete first, then upload\n",
    "db_tool_upsert_del = pd.DataFrame(tools_in_cluster_df['Id'])\n",
    "db_tool_upsert_up = tools_in_cluster_df.drop(columns='Id')"
   ]
  },
  {
   "cell_type": "code",
   "execution_count": null,
   "metadata": {
    "execution": {
     "iopub.execute_input": "2021-01-21T16:58:47.973295Z",
     "iopub.status.busy": "2021-01-21T16:58:47.972692Z",
     "iopub.status.idle": "2021-01-21T16:58:47.981650Z",
     "shell.execute_reply": "2021-01-21T16:58:47.982216Z"
    },
    "papermill": {
     "duration": null,
     "end_time": null,
     "exception": null,
     "start_time": null,
     "status": "pending"
    },
    "tags": []
   },
   "outputs": [],
   "source": [
    "display(db_tool_upsert_del.head(2))\n",
    "display(db_tool_upsert_up.head(2))"
   ]
  },
  {
   "cell_type": "code",
   "execution_count": null,
   "metadata": {
    "execution": {
     "iopub.execute_input": "2021-01-21T16:58:48.122871Z",
     "iopub.status.busy": "2021-01-21T16:58:48.122279Z",
     "iopub.status.idle": "2021-01-21T16:58:48.125057Z",
     "shell.execute_reply": "2021-01-21T16:58:48.124557Z"
    },
    "papermill": {
     "duration": null,
     "end_time": null,
     "exception": null,
     "start_time": null,
     "status": "pending"
    },
    "tags": []
   },
   "outputs": [],
   "source": [
    "db_tool_upsert.external_id = 'Id'\n",
    "db_tool_upsert.object_id = 'ToolToolClusterAssociation__c'"
   ]
  },
  {
   "cell_type": "code",
   "execution_count": null,
   "metadata": {
    "execution": {
     "iopub.execute_input": "2021-01-21T16:58:48.262368Z",
     "iopub.status.busy": "2021-01-21T16:58:48.261798Z",
     "iopub.status.idle": "2021-01-21T16:58:49.059627Z",
     "shell.execute_reply": "2021-01-21T16:58:49.059173Z"
    },
    "papermill": {
     "duration": null,
     "end_time": null,
     "exception": null,
     "start_time": null,
     "status": "pending"
    },
    "tags": []
   },
   "outputs": [],
   "source": [
    "db_tool_upsert.delete_data(db_tool_upsert_del)"
   ]
  },
  {
   "cell_type": "code",
   "execution_count": null,
   "metadata": {
    "execution": {
     "iopub.execute_input": "2021-01-21T16:58:49.199125Z",
     "iopub.status.busy": "2021-01-21T16:58:49.198531Z",
     "iopub.status.idle": "2021-01-21T16:58:49.552739Z",
     "shell.execute_reply": "2021-01-21T16:58:49.552006Z"
    },
    "papermill": {
     "duration": null,
     "end_time": null,
     "exception": null,
     "start_time": null,
     "status": "pending"
    },
    "tags": []
   },
   "outputs": [],
   "source": [
    "db_tool_upsert.check_bulk_status()"
   ]
  },
  {
   "cell_type": "code",
   "execution_count": null,
   "metadata": {
    "execution": {
     "iopub.execute_input": "2021-01-21T16:58:49.692689Z",
     "iopub.status.busy": "2021-01-21T16:58:49.689949Z",
     "iopub.status.idle": "2021-01-21T16:58:49.840923Z",
     "shell.execute_reply": "2021-01-21T16:58:49.841484Z"
    },
    "papermill": {
     "duration": null,
     "end_time": null,
     "exception": null,
     "start_time": null,
     "status": "pending"
    },
    "tags": []
   },
   "outputs": [],
   "source": [
    "pprint(db_tool_upsert.check_bulk_failed_results())"
   ]
  },
  {
   "cell_type": "code",
   "execution_count": null,
   "metadata": {
    "papermill": {
     "duration": null,
     "end_time": null,
     "exception": null,
     "start_time": null,
     "status": "pending"
    },
    "tags": []
   },
   "outputs": [],
   "source": []
  },
  {
   "cell_type": "code",
   "execution_count": null,
   "metadata": {
    "execution": {
     "iopub.execute_input": "2021-01-21T16:58:50.115438Z",
     "iopub.status.busy": "2021-01-21T16:58:50.114864Z",
     "iopub.status.idle": "2021-01-21T16:58:50.118510Z",
     "shell.execute_reply": "2021-01-21T16:58:50.118010Z"
    },
    "papermill": {
     "duration": null,
     "end_time": null,
     "exception": null,
     "start_time": null,
     "status": "pending"
    },
    "tags": []
   },
   "outputs": [],
   "source": [
    "## now upload"
   ]
  },
  {
   "cell_type": "code",
   "execution_count": null,
   "metadata": {
    "execution": {
     "iopub.execute_input": "2021-01-21T16:58:50.255397Z",
     "iopub.status.busy": "2021-01-21T16:58:50.254826Z",
     "iopub.status.idle": "2021-01-21T16:58:50.257205Z",
     "shell.execute_reply": "2021-01-21T16:58:50.256607Z"
    },
    "papermill": {
     "duration": null,
     "end_time": null,
     "exception": null,
     "start_time": null,
     "status": "pending"
    },
    "tags": []
   },
   "outputs": [],
   "source": [
    "db_tool_upsert.external_id = 'Name'\n",
    "db_tool_upsert.object_id = 'ToolToolClusterAssociation__c'"
   ]
  },
  {
   "cell_type": "code",
   "execution_count": null,
   "metadata": {
    "execution": {
     "iopub.execute_input": "2021-01-21T16:58:50.400026Z",
     "iopub.status.busy": "2021-01-21T16:58:50.398264Z",
     "iopub.status.idle": "2021-01-21T16:58:51.218080Z",
     "shell.execute_reply": "2021-01-21T16:58:51.217595Z"
    },
    "papermill": {
     "duration": null,
     "end_time": null,
     "exception": null,
     "start_time": null,
     "status": "pending"
    },
    "tags": []
   },
   "outputs": [],
   "source": [
    "db_tool_upsert.send_data(db_tool_upsert_up)"
   ]
  },
  {
   "cell_type": "code",
   "execution_count": null,
   "metadata": {
    "execution": {
     "iopub.execute_input": "2021-01-21T16:58:51.357388Z",
     "iopub.status.busy": "2021-01-21T16:58:51.356779Z",
     "iopub.status.idle": "2021-01-21T16:58:51.728022Z",
     "shell.execute_reply": "2021-01-21T16:58:51.727543Z"
    },
    "papermill": {
     "duration": null,
     "end_time": null,
     "exception": null,
     "start_time": null,
     "status": "pending"
    },
    "tags": []
   },
   "outputs": [],
   "source": [
    "db_tool_upsert.check_bulk_status()"
   ]
  },
  {
   "cell_type": "code",
   "execution_count": null,
   "metadata": {
    "execution": {
     "iopub.execute_input": "2021-01-21T16:58:51.917122Z",
     "iopub.status.busy": "2021-01-21T16:58:51.916515Z",
     "iopub.status.idle": "2021-01-21T16:58:53.973543Z",
     "shell.execute_reply": "2021-01-21T16:58:53.973037Z"
    },
    "papermill": {
     "duration": null,
     "end_time": null,
     "exception": null,
     "start_time": null,
     "status": "pending"
    },
    "tags": []
   },
   "outputs": [],
   "source": [
    "pprint(db_tool_upsert.check_bulk_failed_results())"
   ]
  },
  {
   "cell_type": "code",
   "execution_count": null,
   "metadata": {
    "papermill": {
     "duration": null,
     "end_time": null,
     "exception": null,
     "start_time": null,
     "status": "pending"
    },
    "tags": []
   },
   "outputs": [],
   "source": []
  },
  {
   "cell_type": "markdown",
   "metadata": {
    "papermill": {
     "duration": null,
     "end_time": null,
     "exception": null,
     "start_time": null,
     "status": "pending"
    },
    "tags": []
   },
   "source": [
    "#### delete clustered tool cluster ids"
   ]
  },
  {
   "cell_type": "code",
   "execution_count": null,
   "metadata": {
    "execution": {
     "iopub.execute_input": "2021-01-21T16:58:54.405431Z",
     "iopub.status.busy": "2021-01-21T16:58:54.404857Z",
     "iopub.status.idle": "2021-01-21T16:58:54.766198Z",
     "shell.execute_reply": "2021-01-21T16:58:54.765733Z"
    },
    "papermill": {
     "duration": null,
     "end_time": null,
     "exception": null,
     "start_time": null,
     "status": "pending"
    },
    "tags": []
   },
   "outputs": [],
   "source": [
    "db_del = DB2SalesforceAPI(sf_login_params)"
   ]
  },
  {
   "cell_type": "code",
   "execution_count": null,
   "metadata": {
    "execution": {
     "iopub.execute_input": "2021-01-21T16:58:54.908707Z",
     "iopub.status.busy": "2021-01-21T16:58:54.908144Z",
     "iopub.status.idle": "2021-01-21T16:58:54.911121Z",
     "shell.execute_reply": "2021-01-21T16:58:54.910094Z"
    },
    "papermill": {
     "duration": null,
     "end_time": null,
     "exception": null,
     "start_time": null,
     "status": "pending"
    },
    "tags": []
   },
   "outputs": [],
   "source": [
    "db_del.object_id = 'tool_usage_cluster__c'\n",
    "db_del.external_id = 'id'"
   ]
  },
  {
   "cell_type": "code",
   "execution_count": null,
   "metadata": {
    "execution": {
     "iopub.execute_input": "2021-01-21T16:58:55.056187Z",
     "iopub.status.busy": "2021-01-21T16:58:55.055492Z",
     "iopub.status.idle": "2021-01-21T16:58:56.022527Z",
     "shell.execute_reply": "2021-01-21T16:58:56.022016Z"
    },
    "papermill": {
     "duration": null,
     "end_time": null,
     "exception": null,
     "start_time": null,
     "status": "pending"
    },
    "tags": []
   },
   "outputs": [],
   "source": [
    "db_del.delete_data(deletion_df)"
   ]
  },
  {
   "cell_type": "code",
   "execution_count": null,
   "metadata": {
    "execution": {
     "iopub.execute_input": "2021-01-21T16:58:56.173070Z",
     "iopub.status.busy": "2021-01-21T16:58:56.172453Z",
     "iopub.status.idle": "2021-01-21T16:58:56.177662Z",
     "shell.execute_reply": "2021-01-21T16:58:56.176867Z"
    },
    "papermill": {
     "duration": null,
     "end_time": null,
     "exception": null,
     "start_time": null,
     "status": "pending"
    },
    "tags": []
   },
   "outputs": [],
   "source": [
    "display(deletion_df.head(2))"
   ]
  },
  {
   "cell_type": "code",
   "execution_count": null,
   "metadata": {
    "execution": {
     "iopub.execute_input": "2021-01-21T16:58:56.321048Z",
     "iopub.status.busy": "2021-01-21T16:58:56.320425Z",
     "iopub.status.idle": "2021-01-21T16:58:57.551509Z",
     "shell.execute_reply": "2021-01-21T16:58:57.551047Z"
    },
    "papermill": {
     "duration": null,
     "end_time": null,
     "exception": null,
     "start_time": null,
     "status": "pending"
    },
    "tags": []
   },
   "outputs": [],
   "source": [
    "db_del.check_bulk_status()"
   ]
  },
  {
   "cell_type": "code",
   "execution_count": null,
   "metadata": {
    "execution": {
     "iopub.execute_input": "2021-01-21T16:58:57.704229Z",
     "iopub.status.busy": "2021-01-21T16:58:57.703421Z",
     "iopub.status.idle": "2021-01-21T16:58:57.862859Z",
     "shell.execute_reply": "2021-01-21T16:58:57.862122Z"
    },
    "papermill": {
     "duration": null,
     "end_time": null,
     "exception": null,
     "start_time": null,
     "status": "pending"
    },
    "tags": []
   },
   "outputs": [],
   "source": [
    "pprint(db_del.check_bulk_failed_results())"
   ]
  },
  {
   "cell_type": "code",
   "execution_count": null,
   "metadata": {
    "papermill": {
     "duration": null,
     "end_time": null,
     "exception": null,
     "start_time": null,
     "status": "pending"
    },
    "tags": []
   },
   "outputs": [],
   "source": []
  },
  {
   "cell_type": "code",
   "execution_count": null,
   "metadata": {
    "execution": {
     "iopub.execute_input": "2021-01-21T16:58:58.148900Z",
     "iopub.status.busy": "2021-01-21T16:58:58.148308Z",
     "iopub.status.idle": "2021-01-21T16:58:58.152441Z",
     "shell.execute_reply": "2021-01-21T16:58:58.151763Z"
    },
    "papermill": {
     "duration": null,
     "end_time": null,
     "exception": null,
     "start_time": null,
     "status": "pending"
    },
    "tags": []
   },
   "outputs": [],
   "source": [
    "### eventually, want to update DB2 with this information\n"
   ]
  },
  {
   "cell_type": "code",
   "execution_count": null,
   "metadata": {
    "papermill": {
     "duration": null,
     "end_time": null,
     "exception": null,
     "start_time": null,
     "status": "pending"
    },
    "tags": []
   },
   "outputs": [],
   "source": []
  },
  {
   "cell_type": "code",
   "execution_count": null,
   "metadata": {
    "papermill": {
     "duration": null,
     "end_time": null,
     "exception": null,
     "start_time": null,
     "status": "pending"
    },
    "tags": []
   },
   "outputs": [],
   "source": []
  },
  {
   "cell_type": "code",
   "execution_count": null,
   "metadata": {
    "papermill": {
     "duration": null,
     "end_time": null,
     "exception": null,
     "start_time": null,
     "status": "pending"
    },
    "tags": []
   },
   "outputs": [],
   "source": []
  },
  {
   "cell_type": "code",
   "execution_count": null,
   "metadata": {
    "papermill": {
     "duration": null,
     "end_time": null,
     "exception": null,
     "start_time": null,
     "status": "pending"
    },
    "tags": []
   },
   "outputs": [],
   "source": []
  }
 ],
 "metadata": {
  "kernelspec": {
   "display_name": "Python 3",
   "language": "python",
   "name": "python3"
  },
  "language_info": {
   "codemirror_mode": {
    "name": "ipython",
    "version": 3
   },
   "file_extension": ".py",
   "mimetype": "text/x-python",
   "name": "python",
   "nbconvert_exporter": "python",
   "pygments_lexer": "ipython3",
   "version": "3.7.6"
  },
  "papermill": {
   "duration": 132.172203,
   "end_time": "2021-01-21T17:13:53.164310",
   "environment_variables": {},
   "exception": true,
   "input_path": "/home/users/wang2506/nanohub_salesforce_integ/salesforce/SF_filter_clusters.ipynb",
   "output_path": "/home/users/wang2506/nanohub_salesforce_integ/salesforce/SF_filter_clusters.ipynb",
   "parameters": {},
   "start_time": "2021-01-21T17:11:40.992107",
   "version": "2.1.1"
  }
 },
 "nbformat": 4,
 "nbformat_minor": 4
}