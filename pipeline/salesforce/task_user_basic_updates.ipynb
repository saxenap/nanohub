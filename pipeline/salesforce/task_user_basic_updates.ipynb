{
 "cells": [
  {
   "cell_type": "markdown",
   "metadata": {
    "papermill": {
     "duration": 0.036469,
     "end_time": "2020-08-18T23:28:36.927628",
     "exception": false,
     "start_time": "2020-08-18T23:28:36.891159",
     "status": "completed"
    },
    "tags": []
   },
   "source": [
    "# DB2-Salesforce connector: Basic user information updates"
   ]
  },
  {
   "cell_type": "markdown",
   "metadata": {
    "papermill": {
     "duration": 0.03067,
     "end_time": "2020-08-18T23:28:36.989143",
     "exception": false,
     "start_time": "2020-08-18T23:28:36.958473",
     "status": "completed"
    },
    "tags": []
   },
   "source": [
    "%load_ext autoreload\n",
    "%autoreload 2"
   ]
  },
  {
   "cell_type": "code",
   "execution_count": 1,
   "metadata": {
    "execution": {
     "iopub.execute_input": "2020-08-18T23:28:37.057282Z",
     "iopub.status.busy": "2020-08-18T23:28:37.056675Z",
     "iopub.status.idle": "2020-08-18T23:28:37.059501Z",
     "shell.execute_reply": "2020-08-18T23:28:37.058883Z"
    },
    "papermill": {
     "duration": 0.039904,
     "end_time": "2020-08-18T23:28:37.059630",
     "exception": false,
     "start_time": "2020-08-18T23:28:37.019726",
     "status": "completed"
    },
    "tags": [
     "parameters"
    ]
   },
   "outputs": [],
   "source": [
    "# Parameters\n",
    "hours_range = 24*365*1 # number of hours to look back\n",
    "\n",
    "# API settings\n",
    "api_url = '/services/data/v43.0/sobjects'\n",
    "external_id = 'nanoHUB_user_ID__c'\n",
    "object_id = 'Contact'\n",
    "\n",
    "# login credentials\n",
    "sql_login_params = {\"username\": \"wang2506_ro\", \"password\": \"fnVnwcCS7iT45EsA\"}\n",
    "sf_login_params = {\n",
    "    \"grant_type\": \"password\",\n",
    "    \"client_id\": \"3MVG95jctIhbyCppj0SNJ75IsZ1y8UPGZtSNF4j8FNVXz.De8Lu4jHm3rjRosAtsHy6qjHx3i4S_QbQzvBePG\",\n",
    "    \"client_secret\": \"D1623C6D3607D4FC8004B92C761DFB6C1F70CCD129C5501E357028DFA00F5764\",\n",
    "    \"username\":\"wang2506@purdue.edu\",\n",
    "    \"password\":\"mathisfun992728tXYwCb5yMm6XtohbTRw8ZdBbi\",    \n",
    "} \n",
    "    #\"username\": \"wang159-4j1v@force.com\",\n",
    "    #\"password\": \"napoleon0eZ3PQpQqE3C3z4wWqEqKGhQ8\",\n"
   ]
  },
  {
   "cell_type": "code",
   "execution_count": 2,
   "metadata": {
    "execution": {
     "iopub.execute_input": "2020-08-18T23:28:37.125371Z",
     "iopub.status.busy": "2020-08-18T23:28:37.124685Z",
     "iopub.status.idle": "2020-08-18T23:28:39.636909Z",
     "shell.execute_reply": "2020-08-18T23:28:39.636426Z"
    },
    "papermill": {
     "duration": 2.546375,
     "end_time": "2020-08-18T23:28:39.637057",
     "exception": false,
     "start_time": "2020-08-18T23:28:37.090682",
     "status": "completed"
    },
    "tags": []
   },
   "outputs": [],
   "source": [
    "import sys\n",
    "#sys.path.append('/home/users/wang2506/nanohub_salesforce_integ/salesforce')\n",
    "\n",
    "import pandas as pd\n",
    "import datetime"
   ]
  },
  {
   "cell_type": "markdown",
   "metadata": {
    "papermill": {
     "duration": 0.032781,
     "end_time": "2020-08-18T23:28:39.701797",
     "exception": false,
     "start_time": "2020-08-18T23:28:39.669016",
     "status": "completed"
    },
    "tags": []
   },
   "source": [
    "## Obtain contacts from DB2 \n",
    "that have last visit date within range of interest specified by day_range"
   ]
  },
  {
   "cell_type": "raw",
   "metadata": {
    "papermill": {
     "duration": 0.032634,
     "end_time": "2020-08-18T23:28:39.765967",
     "exception": false,
     "start_time": "2020-08-18T23:28:39.733333",
     "status": "completed"
    },
    "tags": []
   },
   "source": [
    "MariaDB [nanohub]> select id, name, label from jos_user_profile_fields;\n",
    "+----+-----------------+-------------------------------------------------------+\n",
    "| id | name            | label                                                 |\n",
    "+----+-----------------+-------------------------------------------------------+\n",
    "|  1 | organization    | Organization                                          |\n",
    "|  2 | orgtype         | Organization / Position Type                          |\n",
    "|  3 | countryresident | Residency                                             |\n",
    "|  4 | countryorigin   | Citizenship                                           |\n",
    "|  5 | url             | Website                                               |\n",
    "|  6 | phone           | Telephone                                             |\n",
    "|  7 | orcid           | ORCID                                                 |\n",
    "|  8 | gender          | Gender                                                |\n",
    "|  9 | race            | Racial Background                                     |\n",
    "| 10 | disability      | Disability                                            |\n",
    "| 11 | reason          | Reason                                                |\n",
    "| 12 | tags            | Interests                                             |\n",
    "| 13 | address         | Address                                               |\n",
    "| 14 | hispanic        | Hispanic Heritage                                     |\n",
    "| 15 | bio             | Biography                                             |\n",
    "| 16 | howdidyouhear   | How did you first hear about nanoHUB?                 |\n",
    "| 17 | purposeofvisit  | What is the primary purpose of your visit to nanoHUB? |\n",
    "+----+-----------------+-------------------------------------------------------+\n",
    "\n",
    "\n",
    "\n",
    "MariaDB [nanohub]> explain  jos_user_profiles;\n",
    "+---------------+------------------+------+-----+---------+----------------+\n",
    "| Field         | Type             | Null | Key | Default | Extra          |\n",
    "+---------------+------------------+------+-----+---------+----------------+\n",
    "| id            | int(11) unsigned | NO   | PRI | NULL    | auto_increment |\n",
    "| user_id       | int(11)          | NO   | MUL | NULL    |                |\n",
    "| profile_key   | varchar(100)     | NO   |     | NULL    |                |\n",
    "| profile_value | text             | NO   |     | NULL    |                |\n",
    "| ordering      | int(11)          | NO   |     | 0       |                |\n",
    "| access        | int(10)          | NO   |     | 0       |                |\n",
    "+---------------+------------------+------+-----+---------+----------------+"
   ]
  },
  {
   "cell_type": "code",
   "execution_count": 3,
   "metadata": {
    "execution": {
     "iopub.execute_input": "2020-08-18T23:28:39.836731Z",
     "iopub.status.busy": "2020-08-18T23:28:39.836173Z",
     "iopub.status.idle": "2020-08-18T23:28:39.839046Z",
     "shell.execute_reply": "2020-08-18T23:28:39.839448Z"
    },
    "papermill": {
     "duration": 0.039157,
     "end_time": "2020-08-18T23:28:39.839604",
     "exception": false,
     "start_time": "2020-08-18T23:28:39.800447",
     "status": "completed"
    },
    "scrolled": true,
    "tags": []
   },
   "outputs": [
    {
     "name": "stdout",
     "output_type": "stream",
     "text": [
      "select id, name, username, block, email, sendEmail, registerDate, lastvisitDate                     from jos_users where registerDate >= '2019-08-19'\n"
     ]
    }
   ],
   "source": [
    "# Depending on the task, use different query and cutoff\n",
    "\n",
    "# Hourly update for new registrations\n",
    "date_cutoff = (datetime.datetime.today().date() - datetime.timedelta(hours=hours_range))\\\n",
    "                    .strftime('%Y-%m-%d')\n",
    "sql_query = \"select id, name, username, block, email, sendEmail, registerDate, lastvisitDate \\\n",
    "                    from jos_users where registerDate >= '%s'\" % date_cutoff\n",
    "\n",
    "# display\n",
    "print(sql_query)"
   ]
  },
  {
   "cell_type": "code",
   "execution_count": 4,
   "metadata": {
    "execution": {
     "iopub.execute_input": "2020-08-18T23:28:39.907186Z",
     "iopub.status.busy": "2020-08-18T23:28:39.906487Z",
     "iopub.status.idle": "2020-08-18T23:28:46.383797Z",
     "shell.execute_reply": "2020-08-18T23:28:46.384273Z"
    },
    "papermill": {
     "duration": 6.513749,
     "end_time": "2020-08-18T23:28:46.384447",
     "exception": false,
     "start_time": "2020-08-18T23:28:39.870698",
     "status": "completed"
    },
    "tags": []
   },
   "outputs": [],
   "source": [
    "# connect with DB2\n",
    "import sqlalchemy as sql\n",
    "\n",
    "engine = sql.create_engine('mysql+pymysql://%s:%s@127.0.0.1/nanohub' \\\n",
    "                                               %(sql_login_params['username'], sql_login_params['password']))\n",
    "df = pd.read_sql_query(sql_query, engine)\n",
    "\n",
    "# get user profile details\n",
    "profile_df = pd.read_sql_query(\"select * from jos_user_profiles where profile_key in ('orgtype', 'organization', 'orcid')\", engine)"
   ]
  },
  {
   "cell_type": "code",
   "execution_count": 5,
   "metadata": {
    "execution": {
     "iopub.execute_input": "2020-08-18T23:28:46.464188Z",
     "iopub.status.busy": "2020-08-18T23:28:46.463605Z",
     "iopub.status.idle": "2020-08-18T23:28:46.477274Z",
     "shell.execute_reply": "2020-08-18T23:28:46.477809Z"
    },
    "papermill": {
     "duration": 0.060731,
     "end_time": "2020-08-18T23:28:46.477975",
     "exception": false,
     "start_time": "2020-08-18T23:28:46.417244",
     "status": "completed"
    },
    "tags": []
   },
   "outputs": [
    {
     "data": {
      "text/html": [
       "<div>\n",
       "<style scoped>\n",
       "    .dataframe tbody tr th:only-of-type {\n",
       "        vertical-align: middle;\n",
       "    }\n",
       "\n",
       "    .dataframe tbody tr th {\n",
       "        vertical-align: top;\n",
       "    }\n",
       "\n",
       "    .dataframe thead th {\n",
       "        text-align: right;\n",
       "    }\n",
       "</style>\n",
       "<table border=\"1\" class=\"dataframe\">\n",
       "  <thead>\n",
       "    <tr style=\"text-align: right;\">\n",
       "      <th></th>\n",
       "      <th>id</th>\n",
       "      <th>name</th>\n",
       "      <th>username</th>\n",
       "      <th>block</th>\n",
       "      <th>email</th>\n",
       "      <th>sendEmail</th>\n",
       "      <th>registerDate</th>\n",
       "      <th>lastvisitDate</th>\n",
       "    </tr>\n",
       "  </thead>\n",
       "  <tbody>\n",
       "    <tr>\n",
       "      <th>0</th>\n",
       "      <td>258127</td>\n",
       "      <td>Abhijit Kumar Mukhopadhyay</td>\n",
       "      <td>abhijit4387</td>\n",
       "      <td>0</td>\n",
       "      <td>historyoptionalhelp@gmail.com</td>\n",
       "      <td>-1</td>\n",
       "      <td>2019-08-19 02:06:45</td>\n",
       "      <td>2019-08-20 14:49:24</td>\n",
       "    </tr>\n",
       "  </tbody>\n",
       "</table>\n",
       "</div>"
      ],
      "text/plain": [
       "       id                        name     username  block  \\\n",
       "0  258127  Abhijit Kumar Mukhopadhyay  abhijit4387      0   \n",
       "\n",
       "                           email  sendEmail        registerDate  \\\n",
       "0  historyoptionalhelp@gmail.com         -1 2019-08-19 02:06:45   \n",
       "\n",
       "        lastvisitDate  \n",
       "0 2019-08-20 14:49:24  "
      ]
     },
     "metadata": {},
     "output_type": "display_data"
    },
    {
     "data": {
      "text/html": [
       "<div>\n",
       "<style scoped>\n",
       "    .dataframe tbody tr th:only-of-type {\n",
       "        vertical-align: middle;\n",
       "    }\n",
       "\n",
       "    .dataframe tbody tr th {\n",
       "        vertical-align: top;\n",
       "    }\n",
       "\n",
       "    .dataframe thead th {\n",
       "        text-align: right;\n",
       "    }\n",
       "</style>\n",
       "<table border=\"1\" class=\"dataframe\">\n",
       "  <thead>\n",
       "    <tr style=\"text-align: right;\">\n",
       "      <th></th>\n",
       "      <th>id</th>\n",
       "      <th>user_id</th>\n",
       "      <th>profile_key</th>\n",
       "      <th>profile_value</th>\n",
       "      <th>ordering</th>\n",
       "      <th>access</th>\n",
       "    </tr>\n",
       "  </thead>\n",
       "  <tbody>\n",
       "    <tr>\n",
       "      <th>0</th>\n",
       "      <td>1</td>\n",
       "      <td>15623</td>\n",
       "      <td>orgtype</td>\n",
       "      <td>university</td>\n",
       "      <td>2</td>\n",
       "      <td>5</td>\n",
       "    </tr>\n",
       "  </tbody>\n",
       "</table>\n",
       "</div>"
      ],
      "text/plain": [
       "   id  user_id profile_key profile_value  ordering  access\n",
       "0   1    15623     orgtype    university         2       5"
      ]
     },
     "metadata": {},
     "output_type": "display_data"
    }
   ],
   "source": [
    "# display\n",
    "display(df.head(1))\n",
    "\n",
    "display(profile_df.head(1))"
   ]
  },
  {
   "cell_type": "code",
   "execution_count": 6,
   "metadata": {
    "execution": {
     "iopub.execute_input": "2020-08-18T23:28:46.563928Z",
     "iopub.status.busy": "2020-08-18T23:28:46.563269Z",
     "iopub.status.idle": "2020-08-18T23:28:46.731632Z",
     "shell.execute_reply": "2020-08-18T23:28:46.730996Z"
    },
    "papermill": {
     "duration": 0.220506,
     "end_time": "2020-08-18T23:28:46.731770",
     "exception": false,
     "start_time": "2020-08-18T23:28:46.511264",
     "status": "completed"
    },
    "tags": []
   },
   "outputs": [
    {
     "data": {
      "text/html": [
       "<div>\n",
       "<style scoped>\n",
       "    .dataframe tbody tr th:only-of-type {\n",
       "        vertical-align: middle;\n",
       "    }\n",
       "\n",
       "    .dataframe tbody tr th {\n",
       "        vertical-align: top;\n",
       "    }\n",
       "\n",
       "    .dataframe thead th {\n",
       "        text-align: right;\n",
       "    }\n",
       "</style>\n",
       "<table border=\"1\" class=\"dataframe\">\n",
       "  <thead>\n",
       "    <tr style=\"text-align: right;\">\n",
       "      <th></th>\n",
       "      <th>id</th>\n",
       "      <th>name</th>\n",
       "      <th>username</th>\n",
       "      <th>block</th>\n",
       "      <th>email</th>\n",
       "      <th>sendEmail</th>\n",
       "      <th>registerDate</th>\n",
       "      <th>lastvisitDate</th>\n",
       "      <th>orgtype</th>\n",
       "      <th>organization</th>\n",
       "    </tr>\n",
       "  </thead>\n",
       "  <tbody>\n",
       "    <tr>\n",
       "      <th>0</th>\n",
       "      <td>258127</td>\n",
       "      <td>Abhijit Kumar Mukhopadhyay</td>\n",
       "      <td>abhijit4387</td>\n",
       "      <td>0</td>\n",
       "      <td>historyoptionalhelp@gmail.com</td>\n",
       "      <td>-1</td>\n",
       "      <td>2019-08-19 02:06:45</td>\n",
       "      <td>2019-08-20 14:49:24</td>\n",
       "      <td>government</td>\n",
       "      <td>NaN</td>\n",
       "    </tr>\n",
       "  </tbody>\n",
       "</table>\n",
       "</div>"
      ],
      "text/plain": [
       "       id                        name     username  block  \\\n",
       "0  258127  Abhijit Kumar Mukhopadhyay  abhijit4387      0   \n",
       "\n",
       "                           email  sendEmail        registerDate  \\\n",
       "0  historyoptionalhelp@gmail.com         -1 2019-08-19 02:06:45   \n",
       "\n",
       "        lastvisitDate     orgtype organization  \n",
       "0 2019-08-20 14:49:24  government          NaN  "
      ]
     },
     "metadata": {},
     "output_type": "display_data"
    },
    {
     "data": {
      "text/html": [
       "<div>\n",
       "<style scoped>\n",
       "    .dataframe tbody tr th:only-of-type {\n",
       "        vertical-align: middle;\n",
       "    }\n",
       "\n",
       "    .dataframe tbody tr th {\n",
       "        vertical-align: top;\n",
       "    }\n",
       "\n",
       "    .dataframe thead th {\n",
       "        text-align: right;\n",
       "    }\n",
       "</style>\n",
       "<table border=\"1\" class=\"dataframe\">\n",
       "  <thead>\n",
       "    <tr style=\"text-align: right;\">\n",
       "      <th></th>\n",
       "      <th>id</th>\n",
       "      <th>name</th>\n",
       "      <th>username</th>\n",
       "      <th>block</th>\n",
       "      <th>email</th>\n",
       "      <th>sendEmail</th>\n",
       "      <th>registerDate</th>\n",
       "      <th>lastvisitDate</th>\n",
       "      <th>orgtype</th>\n",
       "      <th>organization</th>\n",
       "      <th>orcid</th>\n",
       "    </tr>\n",
       "  </thead>\n",
       "  <tbody>\n",
       "    <tr>\n",
       "      <th>0</th>\n",
       "      <td>258127</td>\n",
       "      <td>Abhijit Kumar Mukhopadhyay</td>\n",
       "      <td>abhijit4387</td>\n",
       "      <td>0</td>\n",
       "      <td>historyoptionalhelp@gmail.com</td>\n",
       "      <td>-1</td>\n",
       "      <td>2019-08-19 02:06:45</td>\n",
       "      <td>2019-08-20 14:49:24</td>\n",
       "      <td>government</td>\n",
       "      <td>NaN</td>\n",
       "      <td>NaN</td>\n",
       "    </tr>\n",
       "  </tbody>\n",
       "</table>\n",
       "</div>"
      ],
      "text/plain": [
       "       id                        name     username  block  \\\n",
       "0  258127  Abhijit Kumar Mukhopadhyay  abhijit4387      0   \n",
       "\n",
       "                           email  sendEmail        registerDate  \\\n",
       "0  historyoptionalhelp@gmail.com         -1 2019-08-19 02:06:45   \n",
       "\n",
       "        lastvisitDate     orgtype organization orcid  \n",
       "0 2019-08-20 14:49:24  government          NaN   NaN  "
      ]
     },
     "metadata": {},
     "output_type": "display_data"
    }
   ],
   "source": [
    "df = pd.merge(df, profile_df[profile_df['profile_key'] == 'orgtype'][['user_id', 'profile_value']],\\\n",
    "                         how='left', left_on='id', right_on='user_id')\\\n",
    "    .drop(columns=['user_id']).rename(columns={'profile_value':'orgtype'})\n",
    "\n",
    "df = pd.merge(df, profile_df[profile_df['profile_key'] == 'organization'][['user_id', 'profile_value']],\\\n",
    "                         how='left', left_on='id', right_on='user_id')\\\n",
    "    .drop(columns=['user_id']).rename(columns={'profile_value':'organization'})\n",
    "display(df.head(1))\n",
    "\n",
    "df = pd.merge(df, profile_df[profile_df['profile_key'] == 'orcid'][['user_id', 'profile_value']],\\\n",
    "                         how='left', left_on='id', right_on='user_id')\\\n",
    "    .drop(columns=['user_id']).rename(columns={'profile_value':'orcid'})\n",
    "\n",
    "# display\n",
    "display(df.head(1))"
   ]
  },
  {
   "cell_type": "code",
   "execution_count": 7,
   "metadata": {
    "execution": {
     "iopub.execute_input": "2020-08-18T23:28:46.804645Z",
     "iopub.status.busy": "2020-08-18T23:28:46.804097Z",
     "iopub.status.idle": "2020-08-18T23:31:18.269576Z",
     "shell.execute_reply": "2020-08-18T23:31:18.268957Z"
    },
    "papermill": {
     "duration": 151.504085,
     "end_time": "2020-08-18T23:31:18.269720",
     "exception": false,
     "start_time": "2020-08-18T23:28:46.765635",
     "status": "completed"
    },
    "tags": []
   },
   "outputs": [],
   "source": [
    "# Obtain company domain information from DB2\n",
    "domain_df = pd.read_sql_query(\"select name as domain_name, domain, industry, `size range` as size, country \\\n",
    "from wang159_myrmekes.companies_email_domain\", engine)"
   ]
  },
  {
   "cell_type": "code",
   "execution_count": 8,
   "metadata": {
    "execution": {
     "iopub.execute_input": "2020-08-18T23:31:24.363883Z",
     "iopub.status.busy": "2020-08-18T23:31:24.363266Z",
     "iopub.status.idle": "2020-08-18T23:31:31.471672Z",
     "shell.execute_reply": "2020-08-18T23:31:31.472153Z"
    },
    "papermill": {
     "duration": 13.165844,
     "end_time": "2020-08-18T23:31:31.472346",
     "exception": false,
     "start_time": "2020-08-18T23:31:18.306502",
     "status": "completed"
    },
    "tags": []
   },
   "outputs": [],
   "source": [
    "# make sure domain is unique and drop NaN\n",
    "domain_df = domain_df.drop_duplicates(subset='domain', keep='first').dropna()"
   ]
  },
  {
   "cell_type": "code",
   "execution_count": 9,
   "metadata": {
    "execution": {
     "iopub.execute_input": "2020-08-18T23:31:31.547588Z",
     "iopub.status.busy": "2020-08-18T23:31:31.547049Z",
     "iopub.status.idle": "2020-08-18T23:31:31.578289Z",
     "shell.execute_reply": "2020-08-18T23:31:31.577785Z"
    },
    "papermill": {
     "duration": 0.07108,
     "end_time": "2020-08-18T23:31:31.578420",
     "exception": false,
     "start_time": "2020-08-18T23:31:31.507340",
     "status": "completed"
    },
    "tags": []
   },
   "outputs": [],
   "source": [
    "# get email domain of nanoHUB users\n",
    "def get_domain(this_email):\n",
    "    seg_list = this_email.split('@')\n",
    "    \n",
    "    if len(seg_list) == 2:\n",
    "        return seg_list[1].lower()\n",
    "    else:\n",
    "        return None\n",
    "    \n",
    "df['email_host'] = df['email'].apply(get_domain)"
   ]
  },
  {
   "cell_type": "raw",
   "metadata": {
    "papermill": {
     "duration": 0.03426,
     "end_time": "2020-08-18T23:31:31.647655",
     "exception": false,
     "start_time": "2020-08-18T23:31:31.613395",
     "status": "completed"
    },
    "tags": []
   },
   "source": [
    "df = pd.merge(df, domain_df[domain_df.domain.isin(df['email_domain'].unique()) & ~domain_df.domain.isna()],\\\n",
    "         how='left', left_on='email_domain', right_on='domain')\n",
    "\n",
    "# display\n",
    "display(df.head(2))"
   ]
  },
  {
   "cell_type": "code",
   "execution_count": 10,
   "metadata": {
    "execution": {
     "iopub.execute_input": "2020-08-18T23:31:31.718337Z",
     "iopub.status.busy": "2020-08-18T23:31:31.717754Z",
     "iopub.status.idle": "2020-08-18T23:31:31.727713Z",
     "shell.execute_reply": "2020-08-18T23:31:31.727242Z"
    },
    "papermill": {
     "duration": 0.046444,
     "end_time": "2020-08-18T23:31:31.727845",
     "exception": false,
     "start_time": "2020-08-18T23:31:31.681401",
     "status": "completed"
    },
    "tags": []
   },
   "outputs": [],
   "source": [
    "# save a constuct for debugging\n",
    "from copy import deepcopy\n",
    "temp = deepcopy(df)"
   ]
  },
  {
   "cell_type": "code",
   "execution_count": 11,
   "metadata": {
    "execution": {
     "iopub.execute_input": "2020-08-18T23:31:31.800761Z",
     "iopub.status.busy": "2020-08-18T23:31:31.800220Z",
     "iopub.status.idle": "2020-08-18T23:31:32.264749Z",
     "shell.execute_reply": "2020-08-18T23:31:32.265194Z"
    },
    "papermill": {
     "duration": 0.503419,
     "end_time": "2020-08-18T23:31:32.265370",
     "exception": false,
     "start_time": "2020-08-18T23:31:31.761951",
     "status": "completed"
    },
    "tags": []
   },
   "outputs": [
    {
     "data": {
      "text/html": [
       "<div>\n",
       "<style scoped>\n",
       "    .dataframe tbody tr th:only-of-type {\n",
       "        vertical-align: middle;\n",
       "    }\n",
       "\n",
       "    .dataframe tbody tr th {\n",
       "        vertical-align: top;\n",
       "    }\n",
       "\n",
       "    .dataframe thead th {\n",
       "        text-align: right;\n",
       "    }\n",
       "</style>\n",
       "<table border=\"1\" class=\"dataframe\">\n",
       "  <thead>\n",
       "    <tr style=\"text-align: right;\">\n",
       "      <th></th>\n",
       "      <th>id</th>\n",
       "      <th>name</th>\n",
       "      <th>username</th>\n",
       "      <th>block</th>\n",
       "      <th>email</th>\n",
       "      <th>sendEmail</th>\n",
       "      <th>registerDate</th>\n",
       "      <th>lastvisitDate</th>\n",
       "      <th>orgtype</th>\n",
       "      <th>organization</th>\n",
       "      <th>orcid</th>\n",
       "      <th>email_host</th>\n",
       "    </tr>\n",
       "  </thead>\n",
       "  <tbody>\n",
       "    <tr>\n",
       "      <th>0</th>\n",
       "      <td>258127</td>\n",
       "      <td>Abhijit Kumar Mukhopadhyay</td>\n",
       "      <td>abhijit4387</td>\n",
       "      <td>0</td>\n",
       "      <td>historyoptionalhelp@gmail.com</td>\n",
       "      <td>-1</td>\n",
       "      <td>2019-08-19 02:06:45</td>\n",
       "      <td>2019-08-20 14:49:24</td>\n",
       "      <td>government</td>\n",
       "      <td>NaN</td>\n",
       "      <td>NaN</td>\n",
       "      <td>gmail.com</td>\n",
       "    </tr>\n",
       "    <tr>\n",
       "      <th>1</th>\n",
       "      <td>258133</td>\n",
       "      <td>Jiang Yuyu</td>\n",
       "      <td>yukarijyy</td>\n",
       "      <td>0</td>\n",
       "      <td>yukarijyy@gmail.com</td>\n",
       "      <td>-1</td>\n",
       "      <td>2019-08-19 06:04:21</td>\n",
       "      <td>2019-12-09 04:36:07</td>\n",
       "      <td>universitygraduate</td>\n",
       "      <td>Zhejiang University</td>\n",
       "      <td>NaN</td>\n",
       "      <td>gmail.com</td>\n",
       "    </tr>\n",
       "  </tbody>\n",
       "</table>\n",
       "</div>"
      ],
      "text/plain": [
       "       id                        name     username  block  \\\n",
       "0  258127  Abhijit Kumar Mukhopadhyay  abhijit4387      0   \n",
       "1  258133                  Jiang Yuyu    yukarijyy      0   \n",
       "\n",
       "                           email  sendEmail        registerDate  \\\n",
       "0  historyoptionalhelp@gmail.com         -1 2019-08-19 02:06:45   \n",
       "1            yukarijyy@gmail.com         -1 2019-08-19 06:04:21   \n",
       "\n",
       "        lastvisitDate             orgtype         organization orcid  \\\n",
       "0 2019-08-20 14:49:24          government                  NaN   NaN   \n",
       "1 2019-12-09 04:36:07  universitygraduate  Zhejiang University   NaN   \n",
       "\n",
       "  email_host  \n",
       "0  gmail.com  \n",
       "1  gmail.com  "
      ]
     },
     "metadata": {},
     "output_type": "display_data"
    }
   ],
   "source": [
    "# get domain by nanoHUB organization field\n",
    "df = deepcopy(temp)\n",
    "display(df.head(2))\n",
    "df['organization'] = df['organization'].str.lower()\n",
    "df = df.fillna('   ')\n",
    "\n",
    "df.loc[(df['organization']=='nan'),'organization'] = None\n",
    "df.loc[(df['organization']=='NaN'),'organization'] = None"
   ]
  },
  {
   "cell_type": "markdown",
   "metadata": {
    "papermill": {
     "duration": 0.03576,
     "end_time": "2020-08-18T23:31:32.337405",
     "exception": false,
     "start_time": "2020-08-18T23:31:32.301645",
     "status": "completed"
    },
    "tags": []
   },
   "source": [
    "display(df.tail())"
   ]
  },
  {
   "cell_type": "code",
   "execution_count": 12,
   "metadata": {
    "execution": {
     "iopub.execute_input": "2020-08-18T23:31:32.410433Z",
     "iopub.status.busy": "2020-08-18T23:31:32.409873Z",
     "iopub.status.idle": "2020-08-18T23:31:43.139760Z",
     "shell.execute_reply": "2020-08-18T23:31:43.139279Z"
    },
    "papermill": {
     "duration": 10.767726,
     "end_time": "2020-08-18T23:31:43.139928",
     "exception": false,
     "start_time": "2020-08-18T23:31:32.372202",
     "status": "completed"
    },
    "tags": []
   },
   "outputs": [],
   "source": [
    "import nltk\n",
    "#nltk.download('stopwords')\n",
    "\n",
    "from nltk.corpus import stopwords\n",
    "s_words = stopwords.words('english')"
   ]
  },
  {
   "cell_type": "code",
   "execution_count": 13,
   "metadata": {
    "execution": {
     "iopub.execute_input": "2020-08-18T23:31:43.220154Z",
     "iopub.status.busy": "2020-08-18T23:31:43.219547Z",
     "iopub.status.idle": "2020-08-18T23:31:43.222540Z",
     "shell.execute_reply": "2020-08-18T23:31:43.223225Z"
    },
    "papermill": {
     "duration": 0.043855,
     "end_time": "2020-08-18T23:31:43.223380",
     "exception": false,
     "start_time": "2020-08-18T23:31:43.179525",
     "status": "completed"
    },
    "tags": []
   },
   "outputs": [],
   "source": [
    "import re\n",
    "\n",
    "def clean_domain(this_domain_name):\n",
    "    \n",
    "    if not this_domain_name:\n",
    "        return None\n",
    "    \n",
    "    # Replace all non-alphanumeric characters with space\n",
    "    this_domain_name = re.sub(\"[^0-9a-zA-Z]+\", \" \", this_domain_name.lower())\n",
    "    name_list = this_domain_name.split(' ')\n",
    "        \n",
    "    # remove all stop words\n",
    "    name_list = ['' if x in s_words else x for x in name_list]\n",
    "    \n",
    "    return set(filter(None, name_list))"
   ]
  },
  {
   "cell_type": "code",
   "execution_count": 14,
   "metadata": {
    "execution": {
     "iopub.execute_input": "2020-08-18T23:31:43.302087Z",
     "iopub.status.busy": "2020-08-18T23:31:43.301512Z",
     "iopub.status.idle": "2020-08-18T23:31:43.304626Z",
     "shell.execute_reply": "2020-08-18T23:31:43.305180Z"
    },
    "papermill": {
     "duration": 0.046811,
     "end_time": "2020-08-18T23:31:43.305323",
     "exception": false,
     "start_time": "2020-08-18T23:31:43.258512",
     "status": "completed"
    },
    "tags": []
   },
   "outputs": [
    {
     "data": {
      "text/html": [
       "<div>\n",
       "<style scoped>\n",
       "    .dataframe tbody tr th:only-of-type {\n",
       "        vertical-align: middle;\n",
       "    }\n",
       "\n",
       "    .dataframe tbody tr th {\n",
       "        vertical-align: top;\n",
       "    }\n",
       "\n",
       "    .dataframe thead th {\n",
       "        text-align: right;\n",
       "    }\n",
       "</style>\n",
       "<table border=\"1\" class=\"dataframe\">\n",
       "  <thead>\n",
       "    <tr style=\"text-align: right;\">\n",
       "      <th></th>\n",
       "      <th>domain_name</th>\n",
       "      <th>domain</th>\n",
       "      <th>industry</th>\n",
       "      <th>size</th>\n",
       "      <th>country</th>\n",
       "    </tr>\n",
       "  </thead>\n",
       "  <tbody>\n",
       "    <tr>\n",
       "      <th>0</th>\n",
       "      <td>strategic interns</td>\n",
       "      <td>strategicinterns.com</td>\n",
       "      <td>education management</td>\n",
       "      <td>1-10</td>\n",
       "      <td>india</td>\n",
       "    </tr>\n",
       "    <tr>\n",
       "      <th>1</th>\n",
       "      <td>bosque y comunidad</td>\n",
       "      <td>bosqueycomunidad.org</td>\n",
       "      <td>non-profit organization management</td>\n",
       "      <td>1-10</td>\n",
       "      <td>spain</td>\n",
       "    </tr>\n",
       "  </tbody>\n",
       "</table>\n",
       "</div>"
      ],
      "text/plain": [
       "          domain_name                domain  \\\n",
       "0   strategic interns  strategicinterns.com   \n",
       "1  bosque y comunidad  bosqueycomunidad.org   \n",
       "\n",
       "                             industry  size country  \n",
       "0                education management  1-10   india  \n",
       "1  non-profit organization management  1-10   spain  "
      ]
     },
     "metadata": {},
     "output_type": "display_data"
    }
   ],
   "source": [
    "display(domain_df.head(2))"
   ]
  },
  {
   "cell_type": "code",
   "execution_count": 15,
   "metadata": {
    "execution": {
     "iopub.execute_input": "2020-08-18T23:31:43.378631Z",
     "iopub.status.busy": "2020-08-18T23:31:43.378061Z",
     "iopub.status.idle": "2020-08-18T23:32:39.380373Z",
     "shell.execute_reply": "2020-08-18T23:32:39.380811Z"
    },
    "papermill": {
     "duration": 56.041429,
     "end_time": "2020-08-18T23:32:39.380998",
     "exception": false,
     "start_time": "2020-08-18T23:31:43.339569",
     "status": "completed"
    },
    "tags": []
   },
   "outputs": [
    {
     "data": {
      "text/html": [
       "<div>\n",
       "<style scoped>\n",
       "    .dataframe tbody tr th:only-of-type {\n",
       "        vertical-align: middle;\n",
       "    }\n",
       "\n",
       "    .dataframe tbody tr th {\n",
       "        vertical-align: top;\n",
       "    }\n",
       "\n",
       "    .dataframe thead th {\n",
       "        text-align: right;\n",
       "    }\n",
       "</style>\n",
       "<table border=\"1\" class=\"dataframe\">\n",
       "  <thead>\n",
       "    <tr style=\"text-align: right;\">\n",
       "      <th></th>\n",
       "      <th>domain_name</th>\n",
       "      <th>domain</th>\n",
       "      <th>industry</th>\n",
       "      <th>size</th>\n",
       "      <th>country</th>\n",
       "      <th>domain_cleaned_set</th>\n",
       "    </tr>\n",
       "  </thead>\n",
       "  <tbody>\n",
       "    <tr>\n",
       "      <th>0</th>\n",
       "      <td>strategic interns</td>\n",
       "      <td>strategicinterns.com</td>\n",
       "      <td>education management</td>\n",
       "      <td>1-10</td>\n",
       "      <td>india</td>\n",
       "      <td>{interns, strategic}</td>\n",
       "    </tr>\n",
       "  </tbody>\n",
       "</table>\n",
       "</div>"
      ],
      "text/plain": [
       "         domain_name                domain              industry  size  \\\n",
       "0  strategic interns  strategicinterns.com  education management  1-10   \n",
       "\n",
       "  country    domain_cleaned_set  \n",
       "0   india  {interns, strategic}  "
      ]
     },
     "metadata": {},
     "output_type": "display_data"
    },
    {
     "data": {
      "text/html": [
       "<div>\n",
       "<style scoped>\n",
       "    .dataframe tbody tr th:only-of-type {\n",
       "        vertical-align: middle;\n",
       "    }\n",
       "\n",
       "    .dataframe tbody tr th {\n",
       "        vertical-align: top;\n",
       "    }\n",
       "\n",
       "    .dataframe thead th {\n",
       "        text-align: right;\n",
       "    }\n",
       "</style>\n",
       "<table border=\"1\" class=\"dataframe\">\n",
       "  <thead>\n",
       "    <tr style=\"text-align: right;\">\n",
       "      <th></th>\n",
       "      <th>id</th>\n",
       "      <th>name</th>\n",
       "      <th>username</th>\n",
       "      <th>block</th>\n",
       "      <th>email</th>\n",
       "      <th>sendEmail</th>\n",
       "      <th>registerDate</th>\n",
       "      <th>lastvisitDate</th>\n",
       "      <th>orgtype</th>\n",
       "      <th>organization</th>\n",
       "      <th>orcid</th>\n",
       "      <th>email_host</th>\n",
       "      <th>org_cleaned_set</th>\n",
       "    </tr>\n",
       "  </thead>\n",
       "  <tbody>\n",
       "    <tr>\n",
       "      <th>0</th>\n",
       "      <td>258127</td>\n",
       "      <td>Abhijit Kumar Mukhopadhyay</td>\n",
       "      <td>abhijit4387</td>\n",
       "      <td>0</td>\n",
       "      <td>historyoptionalhelp@gmail.com</td>\n",
       "      <td>-1</td>\n",
       "      <td>2019-08-19 02:06:45</td>\n",
       "      <td>2019-08-20 14:49:24</td>\n",
       "      <td>government</td>\n",
       "      <td></td>\n",
       "      <td></td>\n",
       "      <td>gmail.com</td>\n",
       "      <td>{}</td>\n",
       "    </tr>\n",
       "  </tbody>\n",
       "</table>\n",
       "</div>"
      ],
      "text/plain": [
       "       id                        name     username  block  \\\n",
       "0  258127  Abhijit Kumar Mukhopadhyay  abhijit4387      0   \n",
       "\n",
       "                           email  sendEmail        registerDate  \\\n",
       "0  historyoptionalhelp@gmail.com         -1 2019-08-19 02:06:45   \n",
       "\n",
       "         lastvisitDate     orgtype organization orcid email_host  \\\n",
       "0  2019-08-20 14:49:24  government                     gmail.com   \n",
       "\n",
       "  org_cleaned_set  \n",
       "0              {}  "
      ]
     },
     "metadata": {},
     "output_type": "display_data"
    }
   ],
   "source": [
    "# clean domain name\n",
    "domain_df['domain_cleaned_set'] = domain_df.domain_name.apply(clean_domain)\n",
    "display(domain_df.head(1))\n",
    "# clean nanohub org name\n",
    "df['org_cleaned_set'] = df.organization.apply(clean_domain)\n",
    "display(df.head(1))"
   ]
  },
  {
   "cell_type": "code",
   "execution_count": 16,
   "metadata": {
    "execution": {
     "iopub.execute_input": "2020-08-18T23:32:39.460004Z",
     "iopub.status.busy": "2020-08-18T23:32:39.459409Z",
     "iopub.status.idle": "2020-08-18T23:32:43.430081Z",
     "shell.execute_reply": "2020-08-18T23:32:43.429579Z"
    },
    "papermill": {
     "duration": 4.011794,
     "end_time": "2020-08-18T23:32:43.430227",
     "exception": false,
     "start_time": "2020-08-18T23:32:39.418433",
     "status": "completed"
    },
    "tags": []
   },
   "outputs": [],
   "source": [
    "# hash cleaned domain name\n",
    "domain_df['domain_cleaned_hash'] = domain_df['domain_cleaned_set'].apply(lambda x: '-'.join(sorted(list(x))) if x else None)\n",
    "\n",
    "# hash cleaned clean nanohub org name\n",
    "df['org_cleaned_hash'] = df['org_cleaned_set'].apply(lambda x: '-'.join(sorted(list(x))) if x else None)"
   ]
  },
  {
   "cell_type": "code",
   "execution_count": 17,
   "metadata": {
    "execution": {
     "iopub.execute_input": "2020-08-18T23:32:43.515918Z",
     "iopub.status.busy": "2020-08-18T23:32:43.515343Z",
     "iopub.status.idle": "2020-08-18T23:32:43.532031Z",
     "shell.execute_reply": "2020-08-18T23:32:43.531559Z"
    },
    "papermill": {
     "duration": 0.065226,
     "end_time": "2020-08-18T23:32:43.532171",
     "exception": false,
     "start_time": "2020-08-18T23:32:43.466945",
     "status": "completed"
    },
    "tags": []
   },
   "outputs": [
    {
     "data": {
      "text/html": [
       "<div>\n",
       "<style scoped>\n",
       "    .dataframe tbody tr th:only-of-type {\n",
       "        vertical-align: middle;\n",
       "    }\n",
       "\n",
       "    .dataframe tbody tr th {\n",
       "        vertical-align: top;\n",
       "    }\n",
       "\n",
       "    .dataframe thead th {\n",
       "        text-align: right;\n",
       "    }\n",
       "</style>\n",
       "<table border=\"1\" class=\"dataframe\">\n",
       "  <thead>\n",
       "    <tr style=\"text-align: right;\">\n",
       "      <th></th>\n",
       "      <th>domain_name</th>\n",
       "      <th>domain</th>\n",
       "      <th>industry</th>\n",
       "      <th>size</th>\n",
       "      <th>country</th>\n",
       "      <th>domain_cleaned_set</th>\n",
       "      <th>domain_cleaned_hash</th>\n",
       "    </tr>\n",
       "  </thead>\n",
       "  <tbody>\n",
       "    <tr>\n",
       "      <th>0</th>\n",
       "      <td>strategic interns</td>\n",
       "      <td>strategicinterns.com</td>\n",
       "      <td>education management</td>\n",
       "      <td>1-10</td>\n",
       "      <td>india</td>\n",
       "      <td>{interns, strategic}</td>\n",
       "      <td>interns-strategic</td>\n",
       "    </tr>\n",
       "  </tbody>\n",
       "</table>\n",
       "</div>"
      ],
      "text/plain": [
       "         domain_name                domain              industry  size  \\\n",
       "0  strategic interns  strategicinterns.com  education management  1-10   \n",
       "\n",
       "  country    domain_cleaned_set domain_cleaned_hash  \n",
       "0   india  {interns, strategic}   interns-strategic  "
      ]
     },
     "metadata": {},
     "output_type": "display_data"
    },
    {
     "data": {
      "text/html": [
       "<div>\n",
       "<style scoped>\n",
       "    .dataframe tbody tr th:only-of-type {\n",
       "        vertical-align: middle;\n",
       "    }\n",
       "\n",
       "    .dataframe tbody tr th {\n",
       "        vertical-align: top;\n",
       "    }\n",
       "\n",
       "    .dataframe thead th {\n",
       "        text-align: right;\n",
       "    }\n",
       "</style>\n",
       "<table border=\"1\" class=\"dataframe\">\n",
       "  <thead>\n",
       "    <tr style=\"text-align: right;\">\n",
       "      <th></th>\n",
       "      <th>id</th>\n",
       "      <th>name</th>\n",
       "      <th>username</th>\n",
       "      <th>block</th>\n",
       "      <th>email</th>\n",
       "      <th>sendEmail</th>\n",
       "      <th>registerDate</th>\n",
       "      <th>lastvisitDate</th>\n",
       "      <th>orgtype</th>\n",
       "      <th>organization</th>\n",
       "      <th>orcid</th>\n",
       "      <th>email_host</th>\n",
       "      <th>org_cleaned_set</th>\n",
       "      <th>org_cleaned_hash</th>\n",
       "    </tr>\n",
       "  </thead>\n",
       "  <tbody>\n",
       "    <tr>\n",
       "      <th>0</th>\n",
       "      <td>258127</td>\n",
       "      <td>Abhijit Kumar Mukhopadhyay</td>\n",
       "      <td>abhijit4387</td>\n",
       "      <td>0</td>\n",
       "      <td>historyoptionalhelp@gmail.com</td>\n",
       "      <td>-1</td>\n",
       "      <td>2019-08-19 02:06:45</td>\n",
       "      <td>2019-08-20 14:49:24</td>\n",
       "      <td>government</td>\n",
       "      <td></td>\n",
       "      <td></td>\n",
       "      <td>gmail.com</td>\n",
       "      <td>{}</td>\n",
       "      <td>None</td>\n",
       "    </tr>\n",
       "  </tbody>\n",
       "</table>\n",
       "</div>"
      ],
      "text/plain": [
       "       id                        name     username  block  \\\n",
       "0  258127  Abhijit Kumar Mukhopadhyay  abhijit4387      0   \n",
       "\n",
       "                           email  sendEmail        registerDate  \\\n",
       "0  historyoptionalhelp@gmail.com         -1 2019-08-19 02:06:45   \n",
       "\n",
       "         lastvisitDate     orgtype organization orcid email_host  \\\n",
       "0  2019-08-20 14:49:24  government                     gmail.com   \n",
       "\n",
       "  org_cleaned_set org_cleaned_hash  \n",
       "0              {}             None  "
      ]
     },
     "metadata": {},
     "output_type": "display_data"
    }
   ],
   "source": [
    "display(domain_df.head(1))\n",
    "display(df.head(1))"
   ]
  },
  {
   "cell_type": "markdown",
   "metadata": {
    "papermill": {
     "duration": 0.037587,
     "end_time": "2020-08-18T23:32:43.608744",
     "exception": false,
     "start_time": "2020-08-18T23:32:43.571157",
     "status": "completed"
    },
    "tags": []
   },
   "source": [
    "## Collaborative filtering for commerical email hosts"
   ]
  },
  {
   "cell_type": "code",
   "execution_count": 18,
   "metadata": {
    "execution": {
     "iopub.execute_input": "2020-08-18T23:32:43.691214Z",
     "iopub.status.busy": "2020-08-18T23:32:43.690631Z",
     "iopub.status.idle": "2020-08-18T23:32:45.944016Z",
     "shell.execute_reply": "2020-08-18T23:32:45.943509Z"
    },
    "papermill": {
     "duration": 2.297631,
     "end_time": "2020-08-18T23:32:45.944161",
     "exception": false,
     "start_time": "2020-08-18T23:32:43.646530",
     "status": "completed"
    },
    "tags": []
   },
   "outputs": [],
   "source": [
    "def predict_if_commerical(this_email_host_df):\n",
    "    # predict if this email host is commerical\n",
    "    top_cnt = this_email_host_df['org_cleaned_hash'].value_counts() #returns uniques in descending order\n",
    "    \n",
    "    if top_cnt.shape[0] > 0:\n",
    "        if (top_cnt.iloc[0]/top_cnt.sum()) < 0.2:\n",
    "            return True\n",
    "        else:\n",
    "            return False\n",
    "    \n",
    "    else:\n",
    "        return False\n",
    "    \n",
    "    \n",
    "is_email_commercial = df[['email_host', 'org_cleaned_hash']].groupby('email_host').apply(predict_if_commerical)"
   ]
  },
  {
   "cell_type": "code",
   "execution_count": 19,
   "metadata": {
    "execution": {
     "iopub.execute_input": "2020-08-18T23:32:46.023505Z",
     "iopub.status.busy": "2020-08-18T23:32:46.022944Z",
     "iopub.status.idle": "2020-08-18T23:32:46.030196Z",
     "shell.execute_reply": "2020-08-18T23:32:46.029690Z"
    },
    "papermill": {
     "duration": 0.048552,
     "end_time": "2020-08-18T23:32:46.030336",
     "exception": false,
     "start_time": "2020-08-18T23:32:45.981784",
     "status": "completed"
    },
    "tags": []
   },
   "outputs": [],
   "source": [
    "temp2 = deepcopy(df)"
   ]
  },
  {
   "cell_type": "code",
   "execution_count": 20,
   "metadata": {
    "execution": {
     "iopub.execute_input": "2020-08-18T23:32:46.110612Z",
     "iopub.status.busy": "2020-08-18T23:32:46.110057Z",
     "iopub.status.idle": "2020-08-18T23:32:46.119448Z",
     "shell.execute_reply": "2020-08-18T23:32:46.118990Z"
    },
    "papermill": {
     "duration": 0.050452,
     "end_time": "2020-08-18T23:32:46.119638",
     "exception": false,
     "start_time": "2020-08-18T23:32:46.069186",
     "status": "completed"
    },
    "tags": []
   },
   "outputs": [],
   "source": [
    "df = deepcopy(temp2)"
   ]
  },
  {
   "cell_type": "code",
   "execution_count": 21,
   "metadata": {
    "execution": {
     "iopub.execute_input": "2020-08-18T23:32:46.253374Z",
     "iopub.status.busy": "2020-08-18T23:32:46.211133Z",
     "iopub.status.idle": "2020-08-18T23:32:46.285640Z",
     "shell.execute_reply": "2020-08-18T23:32:46.285018Z"
    },
    "papermill": {
     "duration": 0.127926,
     "end_time": "2020-08-18T23:32:46.285786",
     "exception": false,
     "start_time": "2020-08-18T23:32:46.157860",
     "status": "completed"
    },
    "tags": []
   },
   "outputs": [],
   "source": [
    "# mark commerical email addresses\n",
    "df = pd.merge(df, is_email_commercial.reset_index(name='is_email_commercial'),\\\n",
    "         how='left', left_on='email_host', right_on='email_host' ,)"
   ]
  },
  {
   "cell_type": "code",
   "execution_count": 22,
   "metadata": {
    "execution": {
     "iopub.execute_input": "2020-08-18T23:32:46.379036Z",
     "iopub.status.busy": "2020-08-18T23:32:46.366245Z",
     "iopub.status.idle": "2020-08-18T23:32:46.382465Z",
     "shell.execute_reply": "2020-08-18T23:32:46.382031Z"
    },
    "papermill": {
     "duration": 0.057579,
     "end_time": "2020-08-18T23:32:46.382592",
     "exception": false,
     "start_time": "2020-08-18T23:32:46.325013",
     "status": "completed"
    },
    "tags": []
   },
   "outputs": [
    {
     "data": {
      "text/html": [
       "<div>\n",
       "<style scoped>\n",
       "    .dataframe tbody tr th:only-of-type {\n",
       "        vertical-align: middle;\n",
       "    }\n",
       "\n",
       "    .dataframe tbody tr th {\n",
       "        vertical-align: top;\n",
       "    }\n",
       "\n",
       "    .dataframe thead th {\n",
       "        text-align: right;\n",
       "    }\n",
       "</style>\n",
       "<table border=\"1\" class=\"dataframe\">\n",
       "  <thead>\n",
       "    <tr style=\"text-align: right;\">\n",
       "      <th></th>\n",
       "      <th>id</th>\n",
       "      <th>name</th>\n",
       "      <th>username</th>\n",
       "      <th>block</th>\n",
       "      <th>email</th>\n",
       "      <th>sendEmail</th>\n",
       "      <th>registerDate</th>\n",
       "      <th>lastvisitDate</th>\n",
       "      <th>orgtype</th>\n",
       "      <th>organization</th>\n",
       "      <th>orcid</th>\n",
       "      <th>email_host</th>\n",
       "      <th>org_cleaned_set</th>\n",
       "      <th>org_cleaned_hash</th>\n",
       "      <th>is_email_commercial</th>\n",
       "    </tr>\n",
       "  </thead>\n",
       "  <tbody>\n",
       "    <tr>\n",
       "      <th>28434</th>\n",
       "      <td>297170</td>\n",
       "      <td>sanaz vahidinia</td>\n",
       "      <td>sanaz</td>\n",
       "      <td>0</td>\n",
       "      <td>svahidinia@yahoo.com</td>\n",
       "      <td>0</td>\n",
       "      <td>2020-08-18 23:22:46</td>\n",
       "      <td>2020-08-18 23:25:08</td>\n",
       "      <td>government</td>\n",
       "      <td></td>\n",
       "      <td></td>\n",
       "      <td>yahoo.com</td>\n",
       "      <td>{}</td>\n",
       "      <td>None</td>\n",
       "      <td>True</td>\n",
       "    </tr>\n",
       "  </tbody>\n",
       "</table>\n",
       "</div>"
      ],
      "text/plain": [
       "           id             name username  block                 email  \\\n",
       "28434  297170  sanaz vahidinia    sanaz      0  svahidinia@yahoo.com   \n",
       "\n",
       "       sendEmail        registerDate        lastvisitDate     orgtype  \\\n",
       "28434          0 2020-08-18 23:22:46  2020-08-18 23:25:08  government   \n",
       "\n",
       "      organization orcid email_host org_cleaned_set org_cleaned_hash  \\\n",
       "28434                     yahoo.com              {}             None   \n",
       "\n",
       "       is_email_commercial  \n",
       "28434                 True  "
      ]
     },
     "metadata": {},
     "output_type": "display_data"
    }
   ],
   "source": [
    "display(df.tail(1))"
   ]
  },
  {
   "cell_type": "code",
   "execution_count": 23,
   "metadata": {
    "execution": {
     "iopub.execute_input": "2020-08-18T23:32:46.855940Z",
     "iopub.status.busy": "2020-08-18T23:32:46.854822Z",
     "iopub.status.idle": "2020-08-18T23:32:55.860499Z",
     "shell.execute_reply": "2020-08-18T23:32:55.859770Z"
    },
    "papermill": {
     "duration": 9.439486,
     "end_time": "2020-08-18T23:32:55.860637",
     "exception": false,
     "start_time": "2020-08-18T23:32:46.421151",
     "status": "completed"
    },
    "tags": []
   },
   "outputs": [
    {
     "data": {
      "text/html": [
       "<div>\n",
       "<style scoped>\n",
       "    .dataframe tbody tr th:only-of-type {\n",
       "        vertical-align: middle;\n",
       "    }\n",
       "\n",
       "    .dataframe tbody tr th {\n",
       "        vertical-align: top;\n",
       "    }\n",
       "\n",
       "    .dataframe thead th {\n",
       "        text-align: right;\n",
       "    }\n",
       "</style>\n",
       "<table border=\"1\" class=\"dataframe\">\n",
       "  <thead>\n",
       "    <tr style=\"text-align: right;\">\n",
       "      <th></th>\n",
       "      <th>0</th>\n",
       "      <th>1</th>\n",
       "    </tr>\n",
       "  </thead>\n",
       "  <tbody>\n",
       "    <tr>\n",
       "      <th>id</th>\n",
       "      <td>258127</td>\n",
       "      <td>258133</td>\n",
       "    </tr>\n",
       "    <tr>\n",
       "      <th>name</th>\n",
       "      <td>Abhijit Kumar Mukhopadhyay</td>\n",
       "      <td>Jiang Yuyu</td>\n",
       "    </tr>\n",
       "    <tr>\n",
       "      <th>username</th>\n",
       "      <td>abhijit4387</td>\n",
       "      <td>yukarijyy</td>\n",
       "    </tr>\n",
       "    <tr>\n",
       "      <th>block</th>\n",
       "      <td>0</td>\n",
       "      <td>0</td>\n",
       "    </tr>\n",
       "    <tr>\n",
       "      <th>email</th>\n",
       "      <td>historyoptionalhelp@gmail.com</td>\n",
       "      <td>yukarijyy@gmail.com</td>\n",
       "    </tr>\n",
       "    <tr>\n",
       "      <th>sendEmail</th>\n",
       "      <td>-1</td>\n",
       "      <td>-1</td>\n",
       "    </tr>\n",
       "    <tr>\n",
       "      <th>registerDate</th>\n",
       "      <td>2019-08-19 02:06:45</td>\n",
       "      <td>2019-08-19 06:04:21</td>\n",
       "    </tr>\n",
       "    <tr>\n",
       "      <th>lastvisitDate</th>\n",
       "      <td>2019-08-20 14:49:24</td>\n",
       "      <td>2019-12-09 04:36:07</td>\n",
       "    </tr>\n",
       "    <tr>\n",
       "      <th>orgtype</th>\n",
       "      <td>government</td>\n",
       "      <td>universitygraduate</td>\n",
       "    </tr>\n",
       "    <tr>\n",
       "      <th>organization</th>\n",
       "      <td></td>\n",
       "      <td>zhejiang university</td>\n",
       "    </tr>\n",
       "    <tr>\n",
       "      <th>orcid</th>\n",
       "      <td></td>\n",
       "      <td></td>\n",
       "    </tr>\n",
       "    <tr>\n",
       "      <th>email_host</th>\n",
       "      <td>gmail.com</td>\n",
       "      <td>gmail.com</td>\n",
       "    </tr>\n",
       "    <tr>\n",
       "      <th>org_cleaned_set</th>\n",
       "      <td>{}</td>\n",
       "      <td>{university, zhejiang}</td>\n",
       "    </tr>\n",
       "    <tr>\n",
       "      <th>org_cleaned_hash</th>\n",
       "      <td>None</td>\n",
       "      <td>university-zhejiang</td>\n",
       "    </tr>\n",
       "    <tr>\n",
       "      <th>is_email_commercial</th>\n",
       "      <td>True</td>\n",
       "      <td>True</td>\n",
       "    </tr>\n",
       "    <tr>\n",
       "      <th>domain_by_email</th>\n",
       "      <td>NaN</td>\n",
       "      <td>NaN</td>\n",
       "    </tr>\n",
       "  </tbody>\n",
       "</table>\n",
       "</div>"
      ],
      "text/plain": [
       "                                                 0                       1\n",
       "id                                          258127                  258133\n",
       "name                    Abhijit Kumar Mukhopadhyay              Jiang Yuyu\n",
       "username                               abhijit4387               yukarijyy\n",
       "block                                            0                       0\n",
       "email                historyoptionalhelp@gmail.com     yukarijyy@gmail.com\n",
       "sendEmail                                       -1                      -1\n",
       "registerDate                   2019-08-19 02:06:45     2019-08-19 06:04:21\n",
       "lastvisitDate                  2019-08-20 14:49:24     2019-12-09 04:36:07\n",
       "orgtype                                 government      universitygraduate\n",
       "organization                                           zhejiang university\n",
       "orcid                                                                     \n",
       "email_host                               gmail.com               gmail.com\n",
       "org_cleaned_set                                 {}  {university, zhejiang}\n",
       "org_cleaned_hash                              None     university-zhejiang\n",
       "is_email_commercial                           True                    True\n",
       "domain_by_email                                NaN                     NaN"
      ]
     },
     "metadata": {},
     "output_type": "display_data"
    }
   ],
   "source": [
    "# obtain domain estimation from email addresses\n",
    "df = pd.merge(df, domain_df[~domain_df.domain.isin(is_email_commercial[is_email_commercial].index)]['domain'],\\\n",
    "         how='left', left_on='email_host', right_on='domain').rename(columns={'domain':'domain_by_email'})\n",
    "\n",
    "# display\n",
    "display(df.head(2).T)"
   ]
  },
  {
   "cell_type": "markdown",
   "metadata": {
    "papermill": {
     "duration": 0.040145,
     "end_time": "2020-08-18T23:32:55.940350",
     "exception": false,
     "start_time": "2020-08-18T23:32:55.900205",
     "status": "completed"
    },
    "tags": []
   },
   "source": [
    "## Fuzzy derive organization from nanoHUB profiles"
   ]
  },
  {
   "cell_type": "code",
   "execution_count": 24,
   "metadata": {
    "execution": {
     "iopub.execute_input": "2020-08-18T23:32:56.026459Z",
     "iopub.status.busy": "2020-08-18T23:32:56.025885Z",
     "iopub.status.idle": "2020-08-18T23:32:56.663560Z",
     "shell.execute_reply": "2020-08-18T23:32:56.664149Z"
    },
    "papermill": {
     "duration": 0.685039,
     "end_time": "2020-08-18T23:32:56.664320",
     "exception": false,
     "start_time": "2020-08-18T23:32:55.979281",
     "status": "completed"
    },
    "tags": []
   },
   "outputs": [
    {
     "data": {
      "text/html": [
       "<div>\n",
       "<style scoped>\n",
       "    .dataframe tbody tr th:only-of-type {\n",
       "        vertical-align: middle;\n",
       "    }\n",
       "\n",
       "    .dataframe tbody tr th {\n",
       "        vertical-align: top;\n",
       "    }\n",
       "\n",
       "    .dataframe thead th {\n",
       "        text-align: right;\n",
       "    }\n",
       "</style>\n",
       "<table border=\"1\" class=\"dataframe\">\n",
       "  <thead>\n",
       "    <tr style=\"text-align: right;\">\n",
       "      <th></th>\n",
       "      <th>15614</th>\n",
       "      <th>13013</th>\n",
       "      <th>18596</th>\n",
       "      <th>14610</th>\n",
       "      <th>25530</th>\n",
       "    </tr>\n",
       "  </thead>\n",
       "  <tbody>\n",
       "    <tr>\n",
       "      <th>id</th>\n",
       "      <td>281613</td>\n",
       "      <td>278076</td>\n",
       "      <td>285137</td>\n",
       "      <td>280322</td>\n",
       "      <td>293649</td>\n",
       "    </tr>\n",
       "    <tr>\n",
       "      <th>name</th>\n",
       "      <td>Pence, Michael Andrew</td>\n",
       "      <td>Rohini Bhikaji Ghatage</td>\n",
       "      <td>山本夢弓</td>\n",
       "      <td>inkyu 손인규</td>\n",
       "      <td>Tien Truong</td>\n",
       "    </tr>\n",
       "    <tr>\n",
       "      <th>username</th>\n",
       "      <td>micpence</td>\n",
       "      <td>rohinighatage0459</td>\n",
       "      <td>-135519</td>\n",
       "      <td>siggy36</td>\n",
       "      <td>danieltruong124</td>\n",
       "    </tr>\n",
       "    <tr>\n",
       "      <th>block</th>\n",
       "      <td>0</td>\n",
       "      <td>0</td>\n",
       "      <td>0</td>\n",
       "      <td>0</td>\n",
       "      <td>0</td>\n",
       "    </tr>\n",
       "    <tr>\n",
       "      <th>email</th>\n",
       "      <td>micpence@iu.edu</td>\n",
       "      <td>rohinighatage0459@gmail.com</td>\n",
       "      <td>-135519@invalid</td>\n",
       "      <td>siggy36@yonsei.ac.kr</td>\n",
       "      <td>danieltruong124@gmail.com</td>\n",
       "    </tr>\n",
       "    <tr>\n",
       "      <th>sendEmail</th>\n",
       "      <td>0</td>\n",
       "      <td>-1</td>\n",
       "      <td>-1</td>\n",
       "      <td>-1</td>\n",
       "      <td>1</td>\n",
       "    </tr>\n",
       "    <tr>\n",
       "      <th>registerDate</th>\n",
       "      <td>2020-03-23 16:53:58</td>\n",
       "      <td>2020-02-10 10:39:09</td>\n",
       "      <td>2020-04-19 02:45:17</td>\n",
       "      <td>2020-03-08 14:02:25</td>\n",
       "      <td>2020-07-05 12:56:35</td>\n",
       "    </tr>\n",
       "    <tr>\n",
       "      <th>lastvisitDate</th>\n",
       "      <td>2020-03-24 18:06:39</td>\n",
       "      <td>2020-03-05 06:38:31</td>\n",
       "      <td>2020-04-19 02:45:18</td>\n",
       "      <td>2020-06-28 13:20:27</td>\n",
       "      <td>2020-07-05 12:56:36</td>\n",
       "    </tr>\n",
       "    <tr>\n",
       "      <th>orgtype</th>\n",
       "      <td>universityundergraduate</td>\n",
       "      <td>universitygraduate</td>\n",
       "      <td></td>\n",
       "      <td>universitygraduate</td>\n",
       "      <td>universityundergraduate</td>\n",
       "    </tr>\n",
       "    <tr>\n",
       "      <th>organization</th>\n",
       "      <td></td>\n",
       "      <td></td>\n",
       "      <td></td>\n",
       "      <td></td>\n",
       "      <td></td>\n",
       "    </tr>\n",
       "    <tr>\n",
       "      <th>orcid</th>\n",
       "      <td></td>\n",
       "      <td></td>\n",
       "      <td></td>\n",
       "      <td></td>\n",
       "      <td></td>\n",
       "    </tr>\n",
       "    <tr>\n",
       "      <th>email_host</th>\n",
       "      <td>iu.edu</td>\n",
       "      <td>gmail.com</td>\n",
       "      <td>invalid</td>\n",
       "      <td>yonsei.ac.kr</td>\n",
       "      <td>gmail.com</td>\n",
       "    </tr>\n",
       "    <tr>\n",
       "      <th>org_cleaned_set</th>\n",
       "      <td>{}</td>\n",
       "      <td>{}</td>\n",
       "      <td>{}</td>\n",
       "      <td>{}</td>\n",
       "      <td>{}</td>\n",
       "    </tr>\n",
       "    <tr>\n",
       "      <th>org_cleaned_hash</th>\n",
       "      <td>None</td>\n",
       "      <td>None</td>\n",
       "      <td>None</td>\n",
       "      <td>None</td>\n",
       "      <td>None</td>\n",
       "    </tr>\n",
       "    <tr>\n",
       "      <th>is_email_commercial</th>\n",
       "      <td>False</td>\n",
       "      <td>True</td>\n",
       "      <td>True</td>\n",
       "      <td>False</td>\n",
       "      <td>True</td>\n",
       "    </tr>\n",
       "    <tr>\n",
       "      <th>domain_by_email</th>\n",
       "      <td>iu.edu</td>\n",
       "      <td>NaN</td>\n",
       "      <td>NaN</td>\n",
       "      <td>yonsei.ac.kr</td>\n",
       "      <td>NaN</td>\n",
       "    </tr>\n",
       "    <tr>\n",
       "      <th>domain_by_profile</th>\n",
       "      <td>NaN</td>\n",
       "      <td>NaN</td>\n",
       "      <td>NaN</td>\n",
       "      <td>NaN</td>\n",
       "      <td>NaN</td>\n",
       "    </tr>\n",
       "  </tbody>\n",
       "</table>\n",
       "</div>"
      ],
      "text/plain": [
       "                                       15614                        13013  \\\n",
       "id                                    281613                       278076   \n",
       "name                   Pence, Michael Andrew       Rohini Bhikaji Ghatage   \n",
       "username                            micpence            rohinighatage0459   \n",
       "block                                      0                            0   \n",
       "email                        micpence@iu.edu  rohinighatage0459@gmail.com   \n",
       "sendEmail                                  0                           -1   \n",
       "registerDate             2020-03-23 16:53:58          2020-02-10 10:39:09   \n",
       "lastvisitDate            2020-03-24 18:06:39          2020-03-05 06:38:31   \n",
       "orgtype              universityundergraduate           universitygraduate   \n",
       "organization                                                                \n",
       "orcid                                                                       \n",
       "email_host                            iu.edu                    gmail.com   \n",
       "org_cleaned_set                           {}                           {}   \n",
       "org_cleaned_hash                        None                         None   \n",
       "is_email_commercial                    False                         True   \n",
       "domain_by_email                       iu.edu                          NaN   \n",
       "domain_by_profile                        NaN                          NaN   \n",
       "\n",
       "                                   18596                 14610  \\\n",
       "id                                285137                280322   \n",
       "name                                山本夢弓             inkyu 손인규   \n",
       "username                         -135519               siggy36   \n",
       "block                                  0                     0   \n",
       "email                    -135519@invalid  siggy36@yonsei.ac.kr   \n",
       "sendEmail                             -1                    -1   \n",
       "registerDate         2020-04-19 02:45:17   2020-03-08 14:02:25   \n",
       "lastvisitDate        2020-04-19 02:45:18   2020-06-28 13:20:27   \n",
       "orgtype                                     universitygraduate   \n",
       "organization                                                     \n",
       "orcid                                                            \n",
       "email_host                       invalid          yonsei.ac.kr   \n",
       "org_cleaned_set                       {}                    {}   \n",
       "org_cleaned_hash                    None                  None   \n",
       "is_email_commercial                 True                 False   \n",
       "domain_by_email                      NaN          yonsei.ac.kr   \n",
       "domain_by_profile                    NaN                   NaN   \n",
       "\n",
       "                                         25530  \n",
       "id                                      293649  \n",
       "name                               Tien Truong  \n",
       "username                       danieltruong124  \n",
       "block                                        0  \n",
       "email                danieltruong124@gmail.com  \n",
       "sendEmail                                    1  \n",
       "registerDate               2020-07-05 12:56:35  \n",
       "lastvisitDate              2020-07-05 12:56:36  \n",
       "orgtype                universityundergraduate  \n",
       "organization                                    \n",
       "orcid                                           \n",
       "email_host                           gmail.com  \n",
       "org_cleaned_set                             {}  \n",
       "org_cleaned_hash                          None  \n",
       "is_email_commercial                       True  \n",
       "domain_by_email                            NaN  \n",
       "domain_by_profile                          NaN  "
      ]
     },
     "execution_count": 24,
     "metadata": {},
     "output_type": "execute_result"
    }
   ],
   "source": [
    "# attempt direct join by hash\n",
    "domain_subset_df = domain_df[domain_df.domain.isin(df.email_host.unique())][['domain', 'domain_cleaned_hash']]\n",
    "# only take values that exist\n",
    "domain_subset_df = domain_subset_df[~domain_subset_df.domain.isna()&~domain_subset_df.domain_cleaned_hash.isna()]\n",
    "\n",
    "derived_df = pd.merge(df, domain_subset_df.rename(columns={'domain':'domain_by_profile'}),\\\n",
    "         how='left', left_on='org_cleaned_hash', right_on='domain_cleaned_hash')\\\n",
    "        .drop('domain_cleaned_hash', axis=1)\n",
    "\n",
    "# display\n",
    "derived_df.sample(5).T"
   ]
  },
  {
   "cell_type": "code",
   "execution_count": 25,
   "metadata": {
    "execution": {
     "iopub.execute_input": "2020-08-18T23:32:56.753057Z",
     "iopub.status.busy": "2020-08-18T23:32:56.752241Z",
     "iopub.status.idle": "2020-08-18T23:33:01.149449Z",
     "shell.execute_reply": "2020-08-18T23:33:01.148677Z"
    },
    "papermill": {
     "duration": 4.444104,
     "end_time": "2020-08-18T23:33:01.149586",
     "exception": false,
     "start_time": "2020-08-18T23:32:56.705482",
     "status": "completed"
    },
    "tags": []
   },
   "outputs": [],
   "source": [
    "# attempt to reduce domain_df size to speedup Jaccard calculation\n",
    "from itertools import chain\n",
    "\n",
    "all_word_set = set(chain.from_iterable(derived_df[(derived_df['domain_by_profile'].isna() & (~derived_df['organization'].isna()))]\\\n",
    "                    .org_cleaned_set.values))\n",
    "\n",
    "# select the domain_df entry with words from all_word_set\n",
    "domain_subset_df = domain_df[domain_df.domain_cleaned_set.notnull()]\n",
    "domain_subset_df = domain_subset_df[domain_subset_df.domain_cleaned_set\\\n",
    "                             .apply(lambda x: True if len(x.intersection(all_word_set)) > 0 else False)]"
   ]
  },
  {
   "cell_type": "code",
   "execution_count": 26,
   "metadata": {
    "execution": {
     "iopub.execute_input": "2020-08-18T23:33:01.256668Z",
     "iopub.status.busy": "2020-08-18T23:33:01.256129Z",
     "iopub.status.idle": "2020-08-18T23:33:01.259286Z",
     "shell.execute_reply": "2020-08-18T23:33:01.259709Z"
    },
    "papermill": {
     "duration": 0.067123,
     "end_time": "2020-08-18T23:33:01.259856",
     "exception": false,
     "start_time": "2020-08-18T23:33:01.192733",
     "status": "completed"
    },
    "tags": []
   },
   "outputs": [
    {
     "data": {
      "text/html": [
       "<div>\n",
       "<style scoped>\n",
       "    .dataframe tbody tr th:only-of-type {\n",
       "        vertical-align: middle;\n",
       "    }\n",
       "\n",
       "    .dataframe tbody tr th {\n",
       "        vertical-align: top;\n",
       "    }\n",
       "\n",
       "    .dataframe thead th {\n",
       "        text-align: right;\n",
       "    }\n",
       "</style>\n",
       "<table border=\"1\" class=\"dataframe\">\n",
       "  <thead>\n",
       "    <tr style=\"text-align: right;\">\n",
       "      <th></th>\n",
       "      <th>domain_name</th>\n",
       "      <th>domain</th>\n",
       "      <th>industry</th>\n",
       "      <th>size</th>\n",
       "      <th>country</th>\n",
       "      <th>domain_cleaned_set</th>\n",
       "      <th>domain_cleaned_hash</th>\n",
       "    </tr>\n",
       "  </thead>\n",
       "  <tbody>\n",
       "    <tr>\n",
       "      <th>4</th>\n",
       "      <td>cardinal strategies, llc</td>\n",
       "      <td>cardinal-strategies.com</td>\n",
       "      <td>civil engineering</td>\n",
       "      <td>11-50</td>\n",
       "      <td>united states</td>\n",
       "      <td>{cardinal, strategies, llc}</td>\n",
       "      <td>cardinal-llc-strategies</td>\n",
       "    </tr>\n",
       "    <tr>\n",
       "      <th>16</th>\n",
       "      <td>grail research</td>\n",
       "      <td>grailresearch.com</td>\n",
       "      <td>research</td>\n",
       "      <td>201-500</td>\n",
       "      <td>united states</td>\n",
       "      <td>{research, grail}</td>\n",
       "      <td>grail-research</td>\n",
       "    </tr>\n",
       "  </tbody>\n",
       "</table>\n",
       "</div>"
      ],
      "text/plain": [
       "                 domain_name                   domain           industry  \\\n",
       "4   cardinal strategies, llc  cardinal-strategies.com  civil engineering   \n",
       "16            grail research        grailresearch.com           research   \n",
       "\n",
       "       size        country           domain_cleaned_set  \\\n",
       "4     11-50  united states  {cardinal, strategies, llc}   \n",
       "16  201-500  united states            {research, grail}   \n",
       "\n",
       "        domain_cleaned_hash  \n",
       "4   cardinal-llc-strategies  \n",
       "16           grail-research  "
      ]
     },
     "metadata": {},
     "output_type": "display_data"
    }
   ],
   "source": [
    "display(domain_subset_df.head(2))"
   ]
  },
  {
   "cell_type": "code",
   "execution_count": 27,
   "metadata": {
    "execution": {
     "iopub.execute_input": "2020-08-18T23:33:01.348265Z",
     "iopub.status.busy": "2020-08-18T23:33:01.347712Z",
     "iopub.status.idle": "2020-08-18T23:33:02.842579Z",
     "shell.execute_reply": "2020-08-18T23:33:02.843053Z"
    },
    "papermill": {
     "duration": 1.542753,
     "end_time": "2020-08-18T23:33:02.843229",
     "exception": false,
     "start_time": "2020-08-18T23:33:01.300476",
     "status": "completed"
    },
    "tags": []
   },
   "outputs": [],
   "source": [
    "def get_org(this_df):\n",
    "    # look at the cohort with this label, do they have a commonly agreed domain_by_email? If so, use it\n",
    "    this_dbe_count = this_df.domain_by_email.value_counts()\n",
    "\n",
    "    if this_dbe_count.shape[0] < 1:\n",
    "        return None\n",
    "\n",
    "    this_top_dbe_perc = this_dbe_count.iloc[0]/this_dbe_count.sum()\n",
    "\n",
    "    # if top choice occupies majority of cases, then this cohort can be implied to this domain_by_email address\n",
    "    if this_top_dbe_perc > 0.5:\n",
    "        return this_dbe_count.index[0] \n",
    "\n",
    "\n",
    "derived_hash = derived_df.groupby('org_cleaned_hash').apply(get_org)"
   ]
  },
  {
   "cell_type": "code",
   "execution_count": 28,
   "metadata": {
    "execution": {
     "iopub.execute_input": "2020-08-18T23:33:02.932700Z",
     "iopub.status.busy": "2020-08-18T23:33:02.929759Z",
     "iopub.status.idle": "2020-08-18T23:33:02.974358Z",
     "shell.execute_reply": "2020-08-18T23:33:02.974769Z"
    },
    "papermill": {
     "duration": 0.090846,
     "end_time": "2020-08-18T23:33:02.974963",
     "exception": false,
     "start_time": "2020-08-18T23:33:02.884117",
     "status": "completed"
    },
    "tags": []
   },
   "outputs": [],
   "source": [
    "derived_df = pd.merge(derived_df, derived_hash.reset_index(name='domain_by_profile_infer')\\\n",
    "                      , how='left', left_on='org_cleaned_hash', right_on='org_cleaned_hash')"
   ]
  },
  {
   "cell_type": "code",
   "execution_count": 29,
   "metadata": {
    "execution": {
     "iopub.execute_input": "2020-08-18T23:33:03.110163Z",
     "iopub.status.busy": "2020-08-18T23:33:03.109570Z",
     "iopub.status.idle": "2020-08-18T23:33:04.487987Z",
     "shell.execute_reply": "2020-08-18T23:33:04.488464Z"
    },
    "papermill": {
     "duration": 1.426088,
     "end_time": "2020-08-18T23:33:04.488689",
     "exception": false,
     "start_time": "2020-08-18T23:33:03.062601",
     "status": "completed"
    },
    "tags": []
   },
   "outputs": [],
   "source": [
    "# calculate a composite domain based on domain_by_email, domain_by_profile, and domain_by_profile_infer\n",
    "def get_composite_domain(this_df):\n",
    "\n",
    "    # if domain found via profile with direct match, use it\n",
    "    if this_df.domain_by_profile != '':\n",
    "        return this_df.domain_by_profile\n",
    "    \n",
    "    # if domain found via email, use it\n",
    "    if this_df.domain_by_email != '':\n",
    "        return this_df.domain_by_email    \n",
    "    \n",
    "    # if domain found via profile but not with a direct match, use it\n",
    "    if this_df.domain_by_profile_infer != '':\n",
    "        return this_df.domain_by_profile_infer\n",
    "    \n",
    "    # else, no organization can be concluded, return none\n",
    "    return None\n",
    "\n",
    "    \n",
    "derived_df['domain_final'] = derived_df[['domain_by_email', 'domain_by_profile', 'domain_by_profile_infer']].fillna('')\\\n",
    "                                                        .apply(get_composite_domain, axis=1)"
   ]
  },
  {
   "cell_type": "code",
   "execution_count": 30,
   "metadata": {
    "execution": {
     "iopub.execute_input": "2020-08-18T23:33:04.592630Z",
     "iopub.status.busy": "2020-08-18T23:33:04.592096Z",
     "iopub.status.idle": "2020-08-18T23:33:04.595253Z",
     "shell.execute_reply": "2020-08-18T23:33:04.595785Z"
    },
    "papermill": {
     "duration": 0.063734,
     "end_time": "2020-08-18T23:33:04.595940",
     "exception": false,
     "start_time": "2020-08-18T23:33:04.532206",
     "status": "completed"
    },
    "tags": []
   },
   "outputs": [
    {
     "data": {
      "text/html": [
       "<div>\n",
       "<style scoped>\n",
       "    .dataframe tbody tr th:only-of-type {\n",
       "        vertical-align: middle;\n",
       "    }\n",
       "\n",
       "    .dataframe tbody tr th {\n",
       "        vertical-align: top;\n",
       "    }\n",
       "\n",
       "    .dataframe thead th {\n",
       "        text-align: right;\n",
       "    }\n",
       "</style>\n",
       "<table border=\"1\" class=\"dataframe\">\n",
       "  <thead>\n",
       "    <tr style=\"text-align: right;\">\n",
       "      <th></th>\n",
       "      <th>id</th>\n",
       "      <th>name</th>\n",
       "      <th>username</th>\n",
       "      <th>block</th>\n",
       "      <th>email</th>\n",
       "      <th>sendEmail</th>\n",
       "      <th>registerDate</th>\n",
       "      <th>lastvisitDate</th>\n",
       "      <th>orgtype</th>\n",
       "      <th>organization</th>\n",
       "      <th>orcid</th>\n",
       "      <th>email_host</th>\n",
       "      <th>org_cleaned_set</th>\n",
       "      <th>org_cleaned_hash</th>\n",
       "      <th>is_email_commercial</th>\n",
       "      <th>domain_by_email</th>\n",
       "      <th>domain_by_profile</th>\n",
       "      <th>domain_by_profile_infer</th>\n",
       "      <th>domain_final</th>\n",
       "    </tr>\n",
       "  </thead>\n",
       "  <tbody>\n",
       "    <tr>\n",
       "      <th>0</th>\n",
       "      <td>258127</td>\n",
       "      <td>Abhijit Kumar Mukhopadhyay</td>\n",
       "      <td>abhijit4387</td>\n",
       "      <td>0</td>\n",
       "      <td>historyoptionalhelp@gmail.com</td>\n",
       "      <td>-1</td>\n",
       "      <td>2019-08-19 02:06:45</td>\n",
       "      <td>2019-08-20 14:49:24</td>\n",
       "      <td>government</td>\n",
       "      <td></td>\n",
       "      <td></td>\n",
       "      <td>gmail.com</td>\n",
       "      <td>{}</td>\n",
       "      <td>None</td>\n",
       "      <td>True</td>\n",
       "      <td>NaN</td>\n",
       "      <td>NaN</td>\n",
       "      <td>NaN</td>\n",
       "      <td>None</td>\n",
       "    </tr>\n",
       "    <tr>\n",
       "      <th>1</th>\n",
       "      <td>258133</td>\n",
       "      <td>Jiang Yuyu</td>\n",
       "      <td>yukarijyy</td>\n",
       "      <td>0</td>\n",
       "      <td>yukarijyy@gmail.com</td>\n",
       "      <td>-1</td>\n",
       "      <td>2019-08-19 06:04:21</td>\n",
       "      <td>2019-12-09 04:36:07</td>\n",
       "      <td>universitygraduate</td>\n",
       "      <td>zhejiang university</td>\n",
       "      <td></td>\n",
       "      <td>gmail.com</td>\n",
       "      <td>{university, zhejiang}</td>\n",
       "      <td>university-zhejiang</td>\n",
       "      <td>True</td>\n",
       "      <td>NaN</td>\n",
       "      <td>zju.edu.cn</td>\n",
       "      <td>sina.com</td>\n",
       "      <td>zju.edu.cn</td>\n",
       "    </tr>\n",
       "  </tbody>\n",
       "</table>\n",
       "</div>"
      ],
      "text/plain": [
       "       id                        name     username  block  \\\n",
       "0  258127  Abhijit Kumar Mukhopadhyay  abhijit4387      0   \n",
       "1  258133                  Jiang Yuyu    yukarijyy      0   \n",
       "\n",
       "                           email  sendEmail        registerDate  \\\n",
       "0  historyoptionalhelp@gmail.com         -1 2019-08-19 02:06:45   \n",
       "1            yukarijyy@gmail.com         -1 2019-08-19 06:04:21   \n",
       "\n",
       "         lastvisitDate             orgtype         organization orcid  \\\n",
       "0  2019-08-20 14:49:24          government                              \n",
       "1  2019-12-09 04:36:07  universitygraduate  zhejiang university         \n",
       "\n",
       "  email_host         org_cleaned_set     org_cleaned_hash  \\\n",
       "0  gmail.com                      {}                 None   \n",
       "1  gmail.com  {university, zhejiang}  university-zhejiang   \n",
       "\n",
       "   is_email_commercial domain_by_email domain_by_profile  \\\n",
       "0                 True             NaN               NaN   \n",
       "1                 True             NaN        zju.edu.cn   \n",
       "\n",
       "  domain_by_profile_infer domain_final  \n",
       "0                     NaN         None  \n",
       "1                sina.com   zju.edu.cn  "
      ]
     },
     "metadata": {},
     "output_type": "display_data"
    }
   ],
   "source": [
    "display(derived_df.head(2))"
   ]
  },
  {
   "cell_type": "code",
   "execution_count": null,
   "metadata": {
    "papermill": {
     "duration": 0.041083,
     "end_time": "2020-08-18T23:33:04.678156",
     "exception": false,
     "start_time": "2020-08-18T23:33:04.637073",
     "status": "completed"
    },
    "tags": []
   },
   "outputs": [],
   "source": []
  },
  {
   "cell_type": "markdown",
   "metadata": {
    "papermill": {
     "duration": 0.040784,
     "end_time": "2020-08-18T23:33:04.759635",
     "exception": false,
     "start_time": "2020-08-18T23:33:04.718851",
     "status": "completed"
    },
    "tags": []
   },
   "source": [
    "## Update Salesforce institution "
   ]
  },
  {
   "cell_type": "code",
   "execution_count": 31,
   "metadata": {
    "execution": {
     "iopub.execute_input": "2020-08-18T23:33:04.848206Z",
     "iopub.status.busy": "2020-08-18T23:33:04.847635Z",
     "iopub.status.idle": "2020-08-18T23:33:09.385742Z",
     "shell.execute_reply": "2020-08-18T23:33:09.386197Z"
    },
    "papermill": {
     "duration": 4.584995,
     "end_time": "2020-08-18T23:33:09.386364",
     "exception": false,
     "start_time": "2020-08-18T23:33:04.801369",
     "status": "completed"
    },
    "tags": []
   },
   "outputs": [
    {
     "data": {
      "text/html": [
       "<div>\n",
       "<style scoped>\n",
       "    .dataframe tbody tr th:only-of-type {\n",
       "        vertical-align: middle;\n",
       "    }\n",
       "\n",
       "    .dataframe tbody tr th {\n",
       "        vertical-align: top;\n",
       "    }\n",
       "\n",
       "    .dataframe thead th {\n",
       "        text-align: right;\n",
       "    }\n",
       "</style>\n",
       "<table border=\"1\" class=\"dataframe\">\n",
       "  <thead>\n",
       "    <tr style=\"text-align: right;\">\n",
       "      <th></th>\n",
       "      <th>domain_name</th>\n",
       "      <th>domain</th>\n",
       "      <th>industry</th>\n",
       "      <th>size</th>\n",
       "      <th>country</th>\n",
       "    </tr>\n",
       "  </thead>\n",
       "  <tbody>\n",
       "    <tr>\n",
       "      <th>0</th>\n",
       "      <td>zhejiang university</td>\n",
       "      <td>zju.edu.cn</td>\n",
       "      <td>higher education</td>\n",
       "      <td>5001-10000</td>\n",
       "      <td>china</td>\n",
       "    </tr>\n",
       "    <tr>\n",
       "      <th>1</th>\n",
       "      <td>university of sheffield</td>\n",
       "      <td>sheffield.ac.uk</td>\n",
       "      <td>higher education</td>\n",
       "      <td>5001-10000</td>\n",
       "      <td>united kingdom</td>\n",
       "    </tr>\n",
       "  </tbody>\n",
       "</table>\n",
       "</div>"
      ],
      "text/plain": [
       "               domain_name           domain          industry        size  \\\n",
       "0      zhejiang university       zju.edu.cn  higher education  5001-10000   \n",
       "1  university of sheffield  sheffield.ac.uk  higher education  5001-10000   \n",
       "\n",
       "          country  \n",
       "0           china  \n",
       "1  united kingdom  "
      ]
     },
     "metadata": {},
     "output_type": "display_data"
    }
   ],
   "source": [
    "# get a unique list of organizations that appears in contact\n",
    "#org_df = derived_df[['domain_name', 'domain', 'industry', 'size', 'country']].drop_duplicates().dropna()\n",
    "org_df = pd.merge(derived_df[['domain_final']].drop_duplicates().dropna(), domain_df, how='inner', left_on='domain_final', right_on='domain') \n",
    "org_df = org_df[['domain_name', 'domain', 'industry', 'size', 'country']]\n",
    "\n",
    "# display\n",
    "display(org_df.head(2))"
   ]
  },
  {
   "cell_type": "code",
   "execution_count": 32,
   "metadata": {
    "execution": {
     "iopub.execute_input": "2020-08-18T23:33:09.488070Z",
     "iopub.status.busy": "2020-08-18T23:33:09.487495Z",
     "iopub.status.idle": "2020-08-18T23:33:09.490598Z",
     "shell.execute_reply": "2020-08-18T23:33:09.491056Z"
    },
    "papermill": {
     "duration": 0.062272,
     "end_time": "2020-08-18T23:33:09.491235",
     "exception": false,
     "start_time": "2020-08-18T23:33:09.428963",
     "status": "completed"
    },
    "tags": []
   },
   "outputs": [
    {
     "data": {
      "text/html": [
       "<div>\n",
       "<style scoped>\n",
       "    .dataframe tbody tr th:only-of-type {\n",
       "        vertical-align: middle;\n",
       "    }\n",
       "\n",
       "    .dataframe tbody tr th {\n",
       "        vertical-align: top;\n",
       "    }\n",
       "\n",
       "    .dataframe thead th {\n",
       "        text-align: right;\n",
       "    }\n",
       "</style>\n",
       "<table border=\"1\" class=\"dataframe\">\n",
       "  <thead>\n",
       "    <tr style=\"text-align: right;\">\n",
       "      <th></th>\n",
       "      <th>0</th>\n",
       "      <th>1</th>\n",
       "    </tr>\n",
       "  </thead>\n",
       "  <tbody>\n",
       "    <tr>\n",
       "      <th>Name</th>\n",
       "      <td>zhejiang university</td>\n",
       "      <td>university of sheffield</td>\n",
       "    </tr>\n",
       "    <tr>\n",
       "      <th>Size_Range__c</th>\n",
       "      <td>5001-10000</td>\n",
       "      <td>5001-10000</td>\n",
       "    </tr>\n",
       "    <tr>\n",
       "      <th>Country__c</th>\n",
       "      <td>china</td>\n",
       "      <td>united kingdom</td>\n",
       "    </tr>\n",
       "    <tr>\n",
       "      <th>Domain__c</th>\n",
       "      <td>zju.edu.cn</td>\n",
       "      <td>sheffield.ac.uk</td>\n",
       "    </tr>\n",
       "    <tr>\n",
       "      <th>Industry__c</th>\n",
       "      <td>higher education</td>\n",
       "      <td>higher education</td>\n",
       "    </tr>\n",
       "  </tbody>\n",
       "</table>\n",
       "</div>"
      ],
      "text/plain": [
       "                                 0                        1\n",
       "Name           zhejiang university  university of sheffield\n",
       "Size_Range__c           5001-10000               5001-10000\n",
       "Country__c                   china           united kingdom\n",
       "Domain__c               zju.edu.cn          sheffield.ac.uk\n",
       "Industry__c       higher education         higher education"
      ]
     },
     "execution_count": 32,
     "metadata": {},
     "output_type": "execute_result"
    }
   ],
   "source": [
    "df_sf = pd.DataFrame()\n",
    "\n",
    "# Make sure NaN and NaT values are taken care of here\n",
    "df_sf['Name'] = org_df['domain_name']\n",
    "\n",
    "df_sf['Size_Range__c'] = org_df['size'].fillna('Unknown')\n",
    "df_sf['Country__c'] = org_df['country']\n",
    "df_sf['Domain__c'] = org_df['domain']\n",
    "df_sf['Industry__c'] = org_df['industry']\n",
    "\n",
    "sf_original_fields = df_sf.columns\n",
    "\n",
    "# display\n",
    "df_sf.head(2).T"
   ]
  },
  {
   "cell_type": "code",
   "execution_count": 33,
   "metadata": {
    "execution": {
     "iopub.execute_input": "2020-08-18T23:33:09.580841Z",
     "iopub.status.busy": "2020-08-18T23:33:09.580290Z",
     "iopub.status.idle": "2020-08-18T23:33:11.603652Z",
     "shell.execute_reply": "2020-08-18T23:33:11.603212Z"
    },
    "papermill": {
     "duration": 2.070176,
     "end_time": "2020-08-18T23:33:11.603789",
     "exception": false,
     "start_time": "2020-08-18T23:33:09.533613",
     "status": "completed"
    },
    "tags": []
   },
   "outputs": [
    {
     "name": "stdout",
     "output_type": "stream",
     "text": [
      "Obtained Salesforce access token ...... True\n"
     ]
    }
   ],
   "source": [
    "from DB2SalesforceAPI import DB2SalesforceAPI\n",
    "\n",
    "# create DB2 to Salesforce API object\n",
    "db_s = DB2SalesforceAPI(sf_login_params)\n",
    "\n",
    "db_s.object_id = 'organization__c'\n",
    "db_s.external_id = 'Domain__c'"
   ]
  },
  {
   "cell_type": "code",
   "execution_count": 34,
   "metadata": {
    "execution": {
     "iopub.execute_input": "2020-08-18T23:33:11.699752Z",
     "iopub.status.busy": "2020-08-18T23:33:11.693240Z",
     "iopub.status.idle": "2020-08-18T23:33:11.709783Z",
     "shell.execute_reply": "2020-08-18T23:33:11.710408Z"
    },
    "papermill": {
     "duration": 0.063477,
     "end_time": "2020-08-18T23:33:11.710541",
     "exception": false,
     "start_time": "2020-08-18T23:33:11.647064",
     "status": "completed"
    },
    "tags": []
   },
   "outputs": [
    {
     "data": {
      "text/html": [
       "<div>\n",
       "<style scoped>\n",
       "    .dataframe tbody tr th:only-of-type {\n",
       "        vertical-align: middle;\n",
       "    }\n",
       "\n",
       "    .dataframe tbody tr th {\n",
       "        vertical-align: top;\n",
       "    }\n",
       "\n",
       "    .dataframe thead th {\n",
       "        text-align: right;\n",
       "    }\n",
       "</style>\n",
       "<table border=\"1\" class=\"dataframe\">\n",
       "  <thead>\n",
       "    <tr style=\"text-align: right;\">\n",
       "      <th></th>\n",
       "      <th>Name</th>\n",
       "      <th>Size_Range__c</th>\n",
       "      <th>Country__c</th>\n",
       "      <th>Domain__c</th>\n",
       "      <th>Industry__c</th>\n",
       "    </tr>\n",
       "  </thead>\n",
       "  <tbody>\n",
       "    <tr>\n",
       "      <th>0</th>\n",
       "      <td>zhejiang university</td>\n",
       "      <td>5001-10000</td>\n",
       "      <td>china</td>\n",
       "      <td>zju.edu.cn</td>\n",
       "      <td>higher education</td>\n",
       "    </tr>\n",
       "    <tr>\n",
       "      <th>1</th>\n",
       "      <td>university of sheffield</td>\n",
       "      <td>5001-10000</td>\n",
       "      <td>united kingdom</td>\n",
       "      <td>sheffield.ac.uk</td>\n",
       "      <td>higher education</td>\n",
       "    </tr>\n",
       "  </tbody>\n",
       "</table>\n",
       "</div>"
      ],
      "text/plain": [
       "                      Name Size_Range__c      Country__c        Domain__c  \\\n",
       "0      zhejiang university    5001-10000           china       zju.edu.cn   \n",
       "1  university of sheffield    5001-10000  united kingdom  sheffield.ac.uk   \n",
       "\n",
       "        Industry__c  \n",
       "0  higher education  \n",
       "1  higher education  "
      ]
     },
     "metadata": {},
     "output_type": "display_data"
    },
    {
     "data": {
      "text/html": [
       "<div>\n",
       "<style scoped>\n",
       "    .dataframe tbody tr th:only-of-type {\n",
       "        vertical-align: middle;\n",
       "    }\n",
       "\n",
       "    .dataframe tbody tr th {\n",
       "        vertical-align: top;\n",
       "    }\n",
       "\n",
       "    .dataframe thead th {\n",
       "        text-align: right;\n",
       "    }\n",
       "</style>\n",
       "<table border=\"1\" class=\"dataframe\">\n",
       "  <thead>\n",
       "    <tr style=\"text-align: right;\">\n",
       "      <th></th>\n",
       "      <th>Name</th>\n",
       "      <th>Size_Range__c</th>\n",
       "      <th>Country__c</th>\n",
       "      <th>Domain__c</th>\n",
       "      <th>Industry__c</th>\n",
       "    </tr>\n",
       "  </thead>\n",
       "  <tbody>\n",
       "    <tr>\n",
       "      <th>855</th>\n",
       "      <td>jerusalem college of engineering - india</td>\n",
       "      <td>11-50</td>\n",
       "      <td>india</td>\n",
       "      <td>jerusalemengg.ac.in</td>\n",
       "      <td>education management</td>\n",
       "    </tr>\n",
       "    <tr>\n",
       "      <th>856</th>\n",
       "      <td>karunya university</td>\n",
       "      <td>501-1000</td>\n",
       "      <td>india</td>\n",
       "      <td>karunya.edu</td>\n",
       "      <td>higher education</td>\n",
       "    </tr>\n",
       "  </tbody>\n",
       "</table>\n",
       "</div>"
      ],
      "text/plain": [
       "                                         Name Size_Range__c Country__c  \\\n",
       "855  jerusalem college of engineering - india         11-50      india   \n",
       "856                        karunya university      501-1000      india   \n",
       "\n",
       "               Domain__c           Industry__c  \n",
       "855  jerusalemengg.ac.in  education management  \n",
       "856          karunya.edu      higher education  "
      ]
     },
     "metadata": {},
     "output_type": "display_data"
    }
   ],
   "source": [
    "display(df_sf.head(2))\n",
    "display(df_sf.tail(2))\n"
   ]
  },
  {
   "cell_type": "code",
   "execution_count": 35,
   "metadata": {
    "execution": {
     "iopub.execute_input": "2020-08-18T23:33:11.804548Z",
     "iopub.status.busy": "2020-08-18T23:33:11.803868Z",
     "iopub.status.idle": "2020-08-18T23:33:11.807787Z",
     "shell.execute_reply": "2020-08-18T23:33:11.808205Z"
    },
    "papermill": {
     "duration": 0.054356,
     "end_time": "2020-08-18T23:33:11.808353",
     "exception": false,
     "start_time": "2020-08-18T23:33:11.753997",
     "status": "completed"
    },
    "tags": []
   },
   "outputs": [],
   "source": [
    "## correcting name overflows\n",
    "names = df_sf['Name'].str.len()\n",
    "\n",
    "sf_char_limit = 80\n",
    "name_indexes = names.index[names >= sf_char_limit].tolist()\n",
    "for index in name_indexes:\n",
    "    df_sf['Name'][index] =  df_sf['Name'][index][0:sf_char_limit]"
   ]
  },
  {
   "cell_type": "code",
   "execution_count": 36,
   "metadata": {
    "execution": {
     "iopub.execute_input": "2020-08-18T23:33:11.904573Z",
     "iopub.status.busy": "2020-08-18T23:33:11.904037Z",
     "iopub.status.idle": "2020-08-18T23:33:11.907780Z",
     "shell.execute_reply": "2020-08-18T23:33:11.907356Z"
    },
    "papermill": {
     "duration": 0.056389,
     "end_time": "2020-08-18T23:33:11.907917",
     "exception": false,
     "start_time": "2020-08-18T23:33:11.851528",
     "status": "completed"
    },
    "tags": []
   },
   "outputs": [
    {
     "data": {
      "text/html": [
       "<div>\n",
       "<style scoped>\n",
       "    .dataframe tbody tr th:only-of-type {\n",
       "        vertical-align: middle;\n",
       "    }\n",
       "\n",
       "    .dataframe tbody tr th {\n",
       "        vertical-align: top;\n",
       "    }\n",
       "\n",
       "    .dataframe thead th {\n",
       "        text-align: right;\n",
       "    }\n",
       "</style>\n",
       "<table border=\"1\" class=\"dataframe\">\n",
       "  <thead>\n",
       "    <tr style=\"text-align: right;\">\n",
       "      <th></th>\n",
       "      <th>Name</th>\n",
       "      <th>Size_Range__c</th>\n",
       "      <th>Country__c</th>\n",
       "      <th>Domain__c</th>\n",
       "      <th>Industry__c</th>\n",
       "    </tr>\n",
       "  </thead>\n",
       "  <tbody>\n",
       "    <tr>\n",
       "      <th>0</th>\n",
       "      <td>zhejiang university</td>\n",
       "      <td>5001-10000</td>\n",
       "      <td>china</td>\n",
       "      <td>zju.edu.cn</td>\n",
       "      <td>higher education</td>\n",
       "    </tr>\n",
       "    <tr>\n",
       "      <th>1</th>\n",
       "      <td>university of sheffield</td>\n",
       "      <td>5001-10000</td>\n",
       "      <td>united kingdom</td>\n",
       "      <td>sheffield.ac.uk</td>\n",
       "      <td>higher education</td>\n",
       "    </tr>\n",
       "  </tbody>\n",
       "</table>\n",
       "</div>"
      ],
      "text/plain": [
       "                      Name Size_Range__c      Country__c        Domain__c  \\\n",
       "0      zhejiang university    5001-10000           china       zju.edu.cn   \n",
       "1  university of sheffield    5001-10000  united kingdom  sheffield.ac.uk   \n",
       "\n",
       "        Industry__c  \n",
       "0  higher education  \n",
       "1  higher education  "
      ]
     },
     "metadata": {},
     "output_type": "display_data"
    }
   ],
   "source": [
    "display(df_sf.head(2))"
   ]
  },
  {
   "cell_type": "code",
   "execution_count": 37,
   "metadata": {
    "execution": {
     "iopub.execute_input": "2020-08-18T23:33:12.002028Z",
     "iopub.status.busy": "2020-08-18T23:33:12.000809Z",
     "iopub.status.idle": "2020-08-18T23:33:14.062526Z",
     "shell.execute_reply": "2020-08-18T23:33:14.061941Z"
    },
    "papermill": {
     "duration": 2.110192,
     "end_time": "2020-08-18T23:33:14.062663",
     "exception": false,
     "start_time": "2020-08-18T23:33:11.952471",
     "status": "completed"
    },
    "tags": []
   },
   "outputs": [
    {
     "name": "stdout",
     "output_type": "stream",
     "text": [
      "[Success] Bulk job creation successful. Job ID = 7505w00000OpSKOAA3\n",
      "hello\n"
     ]
    },
    {
     "name": "stdout",
     "output_type": "stream",
     "text": [
      "[Success] CSV upload successful. Job ID = 7505w00000OpSKOAA3\n"
     ]
    },
    {
     "name": "stdout",
     "output_type": "stream",
     "text": [
      "[Success] Closing job successful. Job ID = 7505w00000OpSKOAA3\n"
     ]
    }
   ],
   "source": [
    "# send data to Salesforce\n",
    "db_s.send_data(df_sf)"
   ]
  },
  {
   "cell_type": "code",
   "execution_count": 38,
   "metadata": {
    "execution": {
     "iopub.execute_input": "2020-08-18T23:33:14.158805Z",
     "iopub.status.busy": "2020-08-18T23:33:14.158255Z",
     "iopub.status.idle": "2020-08-18T23:33:14.517263Z",
     "shell.execute_reply": "2020-08-18T23:33:14.517915Z"
    },
    "papermill": {
     "duration": 0.409948,
     "end_time": "2020-08-18T23:33:14.518091",
     "exception": false,
     "start_time": "2020-08-18T23:33:14.108143",
     "status": "completed"
    },
    "tags": []
   },
   "outputs": [
    {
     "data": {
      "text/plain": [
       "{'id': '7505w00000OpSKOAA3',\n",
       " 'operation': 'upsert',\n",
       " 'object': 'organization__c',\n",
       " 'createdById': '0055w00000DM5bOAAT',\n",
       " 'createdDate': '2020-08-18T23:33:13.000+0000',\n",
       " 'systemModstamp': '2020-08-18T23:33:14.000+0000',\n",
       " 'state': 'UploadComplete',\n",
       " 'externalIdFieldName': 'Domain__c',\n",
       " 'concurrencyMode': 'Parallel',\n",
       " 'contentType': 'CSV',\n",
       " 'apiVersion': 47.0,\n",
       " 'jobType': 'V2Ingest',\n",
       " 'lineEnding': 'LF',\n",
       " 'columnDelimiter': 'COMMA',\n",
       " 'numberRecordsProcessed': 0,\n",
       " 'numberRecordsFailed': 0,\n",
       " 'retries': 0,\n",
       " 'totalProcessingTime': 0,\n",
       " 'apiActiveProcessingTime': 0,\n",
       " 'apexProcessingTime': 0}"
      ]
     },
     "execution_count": 38,
     "metadata": {},
     "output_type": "execute_result"
    }
   ],
   "source": [
    "# check status\n",
    "db_s.check_bulk_status()"
   ]
  },
  {
   "cell_type": "code",
   "execution_count": 39,
   "metadata": {
    "execution": {
     "iopub.execute_input": "2020-08-18T23:33:14.615891Z",
     "iopub.status.busy": "2020-08-18T23:33:14.615196Z",
     "iopub.status.idle": "2020-08-18T23:33:14.781872Z",
     "shell.execute_reply": "2020-08-18T23:33:14.781428Z"
    },
    "papermill": {
     "duration": 0.217336,
     "end_time": "2020-08-18T23:33:14.782026",
     "exception": false,
     "start_time": "2020-08-18T23:33:14.564690",
     "status": "completed"
    },
    "tags": []
   },
   "outputs": [
    {
     "name": "stdout",
     "output_type": "stream",
     "text": [
      "''\n"
     ]
    }
   ],
   "source": [
    "# check status\n",
    "from pprint import pprint\n",
    "\n",
    "pprint(db_s.check_bulk_failed_results())"
   ]
  },
  {
   "cell_type": "markdown",
   "metadata": {
    "papermill": {
     "duration": 0.046848,
     "end_time": "2020-08-18T23:33:14.876293",
     "exception": false,
     "start_time": "2020-08-18T23:33:14.829445",
     "status": "completed"
    },
    "tags": []
   },
   "source": [
    "## Obtain newly updated organization IDs from Salesforce"
   ]
  },
  {
   "cell_type": "code",
   "execution_count": 40,
   "metadata": {
    "execution": {
     "iopub.execute_input": "2020-08-18T23:33:14.975476Z",
     "iopub.status.busy": "2020-08-18T23:33:14.974917Z",
     "iopub.status.idle": "2020-08-18T23:33:15.337408Z",
     "shell.execute_reply": "2020-08-18T23:33:15.337852Z"
    },
    "papermill": {
     "duration": 0.414522,
     "end_time": "2020-08-18T23:33:15.338037",
     "exception": false,
     "start_time": "2020-08-18T23:33:14.923515",
     "status": "completed"
    },
    "tags": []
   },
   "outputs": [
    {
     "name": "stdout",
     "output_type": "stream",
     "text": [
      "Obtained Salesforce access token ...... True\n"
     ]
    }
   ],
   "source": [
    "# create DB2 to Salesforce API object\n",
    "db_s = DB2SalesforceAPI(sf_login_params)"
   ]
  },
  {
   "cell_type": "code",
   "execution_count": 41,
   "metadata": {
    "execution": {
     "iopub.execute_input": "2020-08-18T23:33:15.436730Z",
     "iopub.status.busy": "2020-08-18T23:33:15.436183Z",
     "iopub.status.idle": "2020-08-18T23:33:27.416542Z",
     "shell.execute_reply": "2020-08-18T23:33:27.417477Z"
    },
    "papermill": {
     "duration": 12.032326,
     "end_time": "2020-08-18T23:33:27.417648",
     "exception": false,
     "start_time": "2020-08-18T23:33:15.385322",
     "status": "completed"
    },
    "tags": []
   },
   "outputs": [
    {
     "name": "stdout",
     "output_type": "stream",
     "text": [
      "[Success] Bulk job creation successful. Job ID = 7505w00000OpSKTAA3\n"
     ]
    },
    {
     "name": "stdout",
     "output_type": "stream",
     "text": [
      "{\"id\":\"7505w00000OpSKTAA3\",\"operation\":\"query\",\"object\":\"organization__c\",\"createdById\":\"0055w00000DM5bOAAT\",\"createdDate\":\"2020-08-18T23:33:15.000+0000\",\"systemModstamp\":\"2020-08-18T23:33:15.000+0000\",\"state\":\"UploadComplete\",\"concurrencyMode\":\"Parallel\",\"contentType\":\"CSV\",\"apiVersion\":47.0,\"jobType\":\"V2Query\",\"lineEnding\":\"LF\",\"columnDelimiter\":\"COMMA\",\"retries\":0,\"totalProcessingTime\":0}\n"
     ]
    },
    {
     "name": "stdout",
     "output_type": "stream",
     "text": [
      "{\"id\":\"7505w00000OpSKTAA3\",\"operation\":\"query\",\"object\":\"organization__c\",\"createdById\":\"0055w00000DM5bOAAT\",\"createdDate\":\"2020-08-18T23:33:15.000+0000\",\"systemModstamp\":\"2020-08-18T23:33:20.000+0000\",\"state\":\"JobComplete\",\"concurrencyMode\":\"Parallel\",\"contentType\":\"CSV\",\"apiVersion\":47.0,\"jobType\":\"V2Query\",\"lineEnding\":\"LF\",\"columnDelimiter\":\"COMMA\",\"numberRecordsProcessed\":6257,\"retries\":0,\"totalProcessingTime\":602}\n",
      "[Success] Bulk job completed successfully.\n"
     ]
    },
    {
     "data": {
      "text/html": [
       "<div>\n",
       "<style scoped>\n",
       "    .dataframe tbody tr th:only-of-type {\n",
       "        vertical-align: middle;\n",
       "    }\n",
       "\n",
       "    .dataframe tbody tr th {\n",
       "        vertical-align: top;\n",
       "    }\n",
       "\n",
       "    .dataframe thead th {\n",
       "        text-align: right;\n",
       "    }\n",
       "</style>\n",
       "<table border=\"1\" class=\"dataframe\">\n",
       "  <thead>\n",
       "    <tr style=\"text-align: right;\">\n",
       "      <th></th>\n",
       "      <th>Domain__c</th>\n",
       "      <th>Id</th>\n",
       "    </tr>\n",
       "  </thead>\n",
       "  <tbody>\n",
       "    <tr>\n",
       "      <th>0</th>\n",
       "      <td>upenn.edu</td>\n",
       "      <td>a0r5w00000V42c0AAB</td>\n",
       "    </tr>\n",
       "    <tr>\n",
       "      <th>1</th>\n",
       "      <td>fer.hr</td>\n",
       "      <td>a0r5w00000V42c1AAB</td>\n",
       "    </tr>\n",
       "    <tr>\n",
       "      <th>2</th>\n",
       "      <td>wheatoncollege.edu</td>\n",
       "      <td>a0r5w00000V42c2AAB</td>\n",
       "    </tr>\n",
       "  </tbody>\n",
       "</table>\n",
       "</div>"
      ],
      "text/plain": [
       "            Domain__c                  Id\n",
       "0           upenn.edu  a0r5w00000V42c0AAB\n",
       "1              fer.hr  a0r5w00000V42c1AAB\n",
       "2  wheatoncollege.edu  a0r5w00000V42c2AAB"
      ]
     },
     "execution_count": 41,
     "metadata": {},
     "output_type": "execute_result"
    }
   ],
   "source": [
    "# get Salesforce ID for organizations\n",
    "sf_org_ID_df = db_s.query_data('SELECT Id, Domain__c FROM organization__c')\n",
    "\n",
    "# display\n",
    "sf_org_ID_df.head(3)"
   ]
  },
  {
   "cell_type": "code",
   "execution_count": 42,
   "metadata": {
    "execution": {
     "iopub.execute_input": "2020-08-18T23:33:27.521169Z",
     "iopub.status.busy": "2020-08-18T23:33:27.520577Z",
     "iopub.status.idle": "2020-08-18T23:33:27.633658Z",
     "shell.execute_reply": "2020-08-18T23:33:27.634106Z"
    },
    "papermill": {
     "duration": 0.167719,
     "end_time": "2020-08-18T23:33:27.634287",
     "exception": false,
     "start_time": "2020-08-18T23:33:27.466568",
     "status": "completed"
    },
    "tags": []
   },
   "outputs": [],
   "source": [
    "# join salesforce ID back to contact DF\n",
    "df = pd.merge(sf_org_ID_df, derived_df, how='right', left_on='Domain__c', right_on='domain_final')\\\n",
    "            .drop('Domain__c', axis=1)\\\n",
    "            .rename(columns={'Id':'Salesforce_org_ID'})"
   ]
  },
  {
   "cell_type": "code",
   "execution_count": 43,
   "metadata": {
    "execution": {
     "iopub.execute_input": "2020-08-18T23:33:27.750987Z",
     "iopub.status.busy": "2020-08-18T23:33:27.750413Z",
     "iopub.status.idle": "2020-08-18T23:33:27.755996Z",
     "shell.execute_reply": "2020-08-18T23:33:27.756395Z"
    },
    "papermill": {
     "duration": 0.073842,
     "end_time": "2020-08-18T23:33:27.756539",
     "exception": false,
     "start_time": "2020-08-18T23:33:27.682697",
     "status": "completed"
    },
    "tags": []
   },
   "outputs": [
    {
     "data": {
      "text/html": [
       "<div>\n",
       "<style scoped>\n",
       "    .dataframe tbody tr th:only-of-type {\n",
       "        vertical-align: middle;\n",
       "    }\n",
       "\n",
       "    .dataframe tbody tr th {\n",
       "        vertical-align: top;\n",
       "    }\n",
       "\n",
       "    .dataframe thead th {\n",
       "        text-align: right;\n",
       "    }\n",
       "</style>\n",
       "<table border=\"1\" class=\"dataframe\">\n",
       "  <thead>\n",
       "    <tr style=\"text-align: right;\">\n",
       "      <th></th>\n",
       "      <th>Salesforce_org_ID</th>\n",
       "      <th>id</th>\n",
       "      <th>name</th>\n",
       "      <th>username</th>\n",
       "      <th>block</th>\n",
       "      <th>email</th>\n",
       "      <th>sendEmail</th>\n",
       "      <th>registerDate</th>\n",
       "      <th>lastvisitDate</th>\n",
       "      <th>orgtype</th>\n",
       "      <th>organization</th>\n",
       "      <th>orcid</th>\n",
       "      <th>email_host</th>\n",
       "      <th>org_cleaned_set</th>\n",
       "      <th>org_cleaned_hash</th>\n",
       "      <th>is_email_commercial</th>\n",
       "      <th>domain_by_email</th>\n",
       "      <th>domain_by_profile</th>\n",
       "      <th>domain_by_profile_infer</th>\n",
       "      <th>domain_final</th>\n",
       "    </tr>\n",
       "  </thead>\n",
       "  <tbody>\n",
       "    <tr>\n",
       "      <th>0</th>\n",
       "      <td>a0r5w00000V42c0AAB</td>\n",
       "      <td>268121</td>\n",
       "      <td>Thiruvengadam, Rangarajan Narasimhan</td>\n",
       "      <td>nitin17</td>\n",
       "      <td>0</td>\n",
       "      <td>nitin17@upenn.edu</td>\n",
       "      <td>0</td>\n",
       "      <td>2019-10-09 16:00:08</td>\n",
       "      <td>2019-10-09 16:00:08</td>\n",
       "      <td>universitygraduate</td>\n",
       "      <td></td>\n",
       "      <td></td>\n",
       "      <td>upenn.edu</td>\n",
       "      <td>{}</td>\n",
       "      <td>None</td>\n",
       "      <td>False</td>\n",
       "      <td>upenn.edu</td>\n",
       "      <td>NaN</td>\n",
       "      <td>NaN</td>\n",
       "      <td>upenn.edu</td>\n",
       "    </tr>\n",
       "    <tr>\n",
       "      <th>1</th>\n",
       "      <td>a0r5w00000V42c0AAB</td>\n",
       "      <td>273295</td>\n",
       "      <td>Cai, Yiyu</td>\n",
       "      <td>caiyiyu</td>\n",
       "      <td>0</td>\n",
       "      <td>caiyiyu@seas.upenn.edu</td>\n",
       "      <td>0</td>\n",
       "      <td>2019-12-08 23:30:54</td>\n",
       "      <td>2020-03-27 22:12:53</td>\n",
       "      <td>universitystaff</td>\n",
       "      <td>university of pennsylvania</td>\n",
       "      <td></td>\n",
       "      <td>seas.upenn.edu</td>\n",
       "      <td>{university, pennsylvania}</td>\n",
       "      <td>pennsylvania-university</td>\n",
       "      <td>False</td>\n",
       "      <td>NaN</td>\n",
       "      <td>upenn.edu</td>\n",
       "      <td>None</td>\n",
       "      <td>upenn.edu</td>\n",
       "    </tr>\n",
       "  </tbody>\n",
       "</table>\n",
       "</div>"
      ],
      "text/plain": [
       "    Salesforce_org_ID      id                                  name username  \\\n",
       "0  a0r5w00000V42c0AAB  268121  Thiruvengadam, Rangarajan Narasimhan  nitin17   \n",
       "1  a0r5w00000V42c0AAB  273295                             Cai, Yiyu  caiyiyu   \n",
       "\n",
       "   block                   email  sendEmail        registerDate  \\\n",
       "0      0       nitin17@upenn.edu          0 2019-10-09 16:00:08   \n",
       "1      0  caiyiyu@seas.upenn.edu          0 2019-12-08 23:30:54   \n",
       "\n",
       "         lastvisitDate             orgtype                organization orcid  \\\n",
       "0  2019-10-09 16:00:08  universitygraduate                                     \n",
       "1  2020-03-27 22:12:53     universitystaff  university of pennsylvania         \n",
       "\n",
       "       email_host             org_cleaned_set         org_cleaned_hash  \\\n",
       "0       upenn.edu                          {}                     None   \n",
       "1  seas.upenn.edu  {university, pennsylvania}  pennsylvania-university   \n",
       "\n",
       "   is_email_commercial domain_by_email domain_by_profile  \\\n",
       "0                False       upenn.edu               NaN   \n",
       "1                False             NaN         upenn.edu   \n",
       "\n",
       "  domain_by_profile_infer domain_final  \n",
       "0                     NaN    upenn.edu  \n",
       "1                    None    upenn.edu  "
      ]
     },
     "metadata": {},
     "output_type": "display_data"
    }
   ],
   "source": [
    "# display\n",
    "display(df.head(2))"
   ]
  },
  {
   "cell_type": "markdown",
   "metadata": {
    "papermill": {
     "duration": 0.048456,
     "end_time": "2020-08-18T23:33:27.853948",
     "exception": false,
     "start_time": "2020-08-18T23:33:27.805492",
     "status": "completed"
    },
    "tags": []
   },
   "source": [
    "## Match data with Salesforce format"
   ]
  },
  {
   "cell_type": "code",
   "execution_count": 44,
   "metadata": {
    "execution": {
     "iopub.execute_input": "2020-08-18T23:33:27.956864Z",
     "iopub.status.busy": "2020-08-18T23:33:27.956311Z",
     "iopub.status.idle": "2020-08-18T23:33:27.958494Z",
     "shell.execute_reply": "2020-08-18T23:33:27.959066Z"
    },
    "papermill": {
     "duration": 0.056543,
     "end_time": "2020-08-18T23:33:27.959216",
     "exception": false,
     "start_time": "2020-08-18T23:33:27.902673",
     "status": "completed"
    },
    "tags": []
   },
   "outputs": [],
   "source": [
    "# split full name into first, middle, and last names\n",
    "def split_full_name(this_name):\n",
    "    this_name_list = list(filter(None, this_name.split(' ')))\n",
    "    \n",
    "    if len(this_name_list) == 1:\n",
    "        # single word name\n",
    "        return pd.Series([this_name_list[0],None, this_name_list[0]])\n",
    "    \n",
    "    elif len(this_name_list) > 1:\n",
    "        # multi word name\n",
    "        return pd.Series([this_name_list[0],' '.join(this_name_list[1:-1]),this_name_list[-1]])"
   ]
  },
  {
   "cell_type": "code",
   "execution_count": 45,
   "metadata": {
    "execution": {
     "iopub.execute_input": "2020-08-18T23:33:28.075022Z",
     "iopub.status.busy": "2020-08-18T23:33:28.074445Z",
     "iopub.status.idle": "2020-08-18T23:33:28.077714Z",
     "shell.execute_reply": "2020-08-18T23:33:28.078273Z"
    },
    "papermill": {
     "duration": 0.071015,
     "end_time": "2020-08-18T23:33:28.078421",
     "exception": false,
     "start_time": "2020-08-18T23:33:28.007406",
     "status": "completed"
    },
    "tags": []
   },
   "outputs": [
    {
     "data": {
      "text/html": [
       "<div>\n",
       "<style scoped>\n",
       "    .dataframe tbody tr th:only-of-type {\n",
       "        vertical-align: middle;\n",
       "    }\n",
       "\n",
       "    .dataframe tbody tr th {\n",
       "        vertical-align: top;\n",
       "    }\n",
       "\n",
       "    .dataframe thead th {\n",
       "        text-align: right;\n",
       "    }\n",
       "</style>\n",
       "<table border=\"1\" class=\"dataframe\">\n",
       "  <thead>\n",
       "    <tr style=\"text-align: right;\">\n",
       "      <th></th>\n",
       "      <th>Salesforce_org_ID</th>\n",
       "      <th>id</th>\n",
       "      <th>name</th>\n",
       "      <th>username</th>\n",
       "      <th>block</th>\n",
       "      <th>email</th>\n",
       "      <th>sendEmail</th>\n",
       "      <th>registerDate</th>\n",
       "      <th>lastvisitDate</th>\n",
       "      <th>orgtype</th>\n",
       "      <th>organization</th>\n",
       "      <th>orcid</th>\n",
       "      <th>email_host</th>\n",
       "      <th>org_cleaned_set</th>\n",
       "      <th>org_cleaned_hash</th>\n",
       "      <th>is_email_commercial</th>\n",
       "      <th>domain_by_email</th>\n",
       "      <th>domain_by_profile</th>\n",
       "      <th>domain_by_profile_infer</th>\n",
       "      <th>domain_final</th>\n",
       "    </tr>\n",
       "  </thead>\n",
       "  <tbody>\n",
       "    <tr>\n",
       "      <th>0</th>\n",
       "      <td>a0r5w00000V42c0AAB</td>\n",
       "      <td>268121</td>\n",
       "      <td>Thiruvengadam, Rangarajan Narasimhan</td>\n",
       "      <td>nitin17</td>\n",
       "      <td>0</td>\n",
       "      <td>nitin17@upenn.edu</td>\n",
       "      <td>0</td>\n",
       "      <td>2019-10-09 16:00:08</td>\n",
       "      <td>2019-10-09 16:00:08</td>\n",
       "      <td>universitygraduate</td>\n",
       "      <td></td>\n",
       "      <td></td>\n",
       "      <td>upenn.edu</td>\n",
       "      <td>{}</td>\n",
       "      <td>None</td>\n",
       "      <td>False</td>\n",
       "      <td>upenn.edu</td>\n",
       "      <td>NaN</td>\n",
       "      <td>NaN</td>\n",
       "      <td>upenn.edu</td>\n",
       "    </tr>\n",
       "  </tbody>\n",
       "</table>\n",
       "</div>"
      ],
      "text/plain": [
       "    Salesforce_org_ID      id                                  name username  \\\n",
       "0  a0r5w00000V42c0AAB  268121  Thiruvengadam, Rangarajan Narasimhan  nitin17   \n",
       "\n",
       "   block              email  sendEmail        registerDate  \\\n",
       "0      0  nitin17@upenn.edu          0 2019-10-09 16:00:08   \n",
       "\n",
       "         lastvisitDate             orgtype organization orcid email_host  \\\n",
       "0  2019-10-09 16:00:08  universitygraduate                     upenn.edu   \n",
       "\n",
       "  org_cleaned_set org_cleaned_hash  is_email_commercial domain_by_email  \\\n",
       "0              {}             None                False       upenn.edu   \n",
       "\n",
       "  domain_by_profile domain_by_profile_infer domain_final  \n",
       "0               NaN                     NaN    upenn.edu  "
      ]
     },
     "metadata": {},
     "output_type": "display_data"
    }
   ],
   "source": [
    "## stop here\n",
    "display(df.head(1))"
   ]
  },
  {
   "cell_type": "code",
   "execution_count": 46,
   "metadata": {
    "execution": {
     "iopub.execute_input": "2020-08-18T23:33:28.210511Z",
     "iopub.status.busy": "2020-08-18T23:33:28.209931Z",
     "iopub.status.idle": "2020-08-18T23:33:29.535743Z",
     "shell.execute_reply": "2020-08-18T23:33:29.536383Z"
    },
    "papermill": {
     "duration": 1.409296,
     "end_time": "2020-08-18T23:33:29.536577",
     "exception": false,
     "start_time": "2020-08-18T23:33:28.127281",
     "status": "completed"
    },
    "tags": []
   },
   "outputs": [
    {
     "data": {
      "text/html": [
       "<div>\n",
       "<style scoped>\n",
       "    .dataframe tbody tr th:only-of-type {\n",
       "        vertical-align: middle;\n",
       "    }\n",
       "\n",
       "    .dataframe tbody tr th {\n",
       "        vertical-align: top;\n",
       "    }\n",
       "\n",
       "    .dataframe thead th {\n",
       "        text-align: right;\n",
       "    }\n",
       "</style>\n",
       "<table border=\"1\" class=\"dataframe\">\n",
       "  <thead>\n",
       "    <tr style=\"text-align: right;\">\n",
       "      <th></th>\n",
       "      <th>Salesforce_org_ID</th>\n",
       "      <th>id</th>\n",
       "      <th>name</th>\n",
       "      <th>username</th>\n",
       "      <th>block</th>\n",
       "      <th>email</th>\n",
       "      <th>sendEmail</th>\n",
       "      <th>registerDate</th>\n",
       "      <th>lastvisitDate</th>\n",
       "      <th>orgtype</th>\n",
       "      <th>organization</th>\n",
       "      <th>orcid</th>\n",
       "      <th>email_host</th>\n",
       "      <th>org_cleaned_set</th>\n",
       "      <th>org_cleaned_hash</th>\n",
       "      <th>is_email_commercial</th>\n",
       "      <th>domain_by_email</th>\n",
       "      <th>domain_by_profile</th>\n",
       "      <th>domain_by_profile_infer</th>\n",
       "      <th>domain_final</th>\n",
       "    </tr>\n",
       "  </thead>\n",
       "  <tbody>\n",
       "    <tr>\n",
       "      <th>0</th>\n",
       "      <td>a0r5w00000V42c0AAB</td>\n",
       "      <td>268121</td>\n",
       "      <td>Thiruvengadam, Rangarajan Narasimhan</td>\n",
       "      <td>nitin17</td>\n",
       "      <td>0</td>\n",
       "      <td>nitin17@upenn.edu</td>\n",
       "      <td>0</td>\n",
       "      <td>2019-10-09 16:00:08</td>\n",
       "      <td>2019-10-09 16:00:08</td>\n",
       "      <td>universitygraduate</td>\n",
       "      <td></td>\n",
       "      <td></td>\n",
       "      <td>upenn.edu</td>\n",
       "      <td>{}</td>\n",
       "      <td>None</td>\n",
       "      <td>False</td>\n",
       "      <td>upenn.edu</td>\n",
       "      <td>NaN</td>\n",
       "      <td>NaN</td>\n",
       "      <td>upenn.edu</td>\n",
       "    </tr>\n",
       "    <tr>\n",
       "      <th>1</th>\n",
       "      <td>a0r5w00000V42c0AAB</td>\n",
       "      <td>273295</td>\n",
       "      <td>Cai, Yiyu</td>\n",
       "      <td>caiyiyu</td>\n",
       "      <td>0</td>\n",
       "      <td>caiyiyu@seas.upenn.edu</td>\n",
       "      <td>0</td>\n",
       "      <td>2019-12-08 23:30:54</td>\n",
       "      <td>2020-03-27 22:12:53</td>\n",
       "      <td>universitystaff</td>\n",
       "      <td>university of pennsylvania</td>\n",
       "      <td></td>\n",
       "      <td>seas.upenn.edu</td>\n",
       "      <td>{university, pennsylvania}</td>\n",
       "      <td>pennsylvania-university</td>\n",
       "      <td>False</td>\n",
       "      <td>NaN</td>\n",
       "      <td>upenn.edu</td>\n",
       "      <td>None</td>\n",
       "      <td>upenn.edu</td>\n",
       "    </tr>\n",
       "  </tbody>\n",
       "</table>\n",
       "</div>"
      ],
      "text/plain": [
       "    Salesforce_org_ID      id                                  name username  \\\n",
       "0  a0r5w00000V42c0AAB  268121  Thiruvengadam, Rangarajan Narasimhan  nitin17   \n",
       "1  a0r5w00000V42c0AAB  273295                             Cai, Yiyu  caiyiyu   \n",
       "\n",
       "   block                   email  sendEmail        registerDate  \\\n",
       "0      0       nitin17@upenn.edu          0 2019-10-09 16:00:08   \n",
       "1      0  caiyiyu@seas.upenn.edu          0 2019-12-08 23:30:54   \n",
       "\n",
       "         lastvisitDate             orgtype                organization orcid  \\\n",
       "0  2019-10-09 16:00:08  universitygraduate                                     \n",
       "1  2020-03-27 22:12:53     universitystaff  university of pennsylvania         \n",
       "\n",
       "       email_host             org_cleaned_set         org_cleaned_hash  \\\n",
       "0       upenn.edu                          {}                     None   \n",
       "1  seas.upenn.edu  {university, pennsylvania}  pennsylvania-university   \n",
       "\n",
       "   is_email_commercial domain_by_email domain_by_profile  \\\n",
       "0                False       upenn.edu               NaN   \n",
       "1                False             NaN         upenn.edu   \n",
       "\n",
       "  domain_by_profile_infer domain_final  \n",
       "0                     NaN    upenn.edu  \n",
       "1                    None    upenn.edu  "
      ]
     },
     "metadata": {},
     "output_type": "display_data"
    }
   ],
   "source": [
    "## if last visit date is empty - set it equal to the register date\n",
    "lvd = df.lastvisitDate.index[df.lastvisitDate == '   '].tolist()\n",
    "\n",
    "for i in lvd:\n",
    "    df.iloc[i,8] = df.iloc[i,7]\n",
    "\n",
    "display(df.head(2))"
   ]
  },
  {
   "cell_type": "code",
   "execution_count": 47,
   "metadata": {
    "execution": {
     "iopub.execute_input": "2020-08-18T23:33:29.648217Z",
     "iopub.status.busy": "2020-08-18T23:33:29.647631Z",
     "iopub.status.idle": "2020-08-18T23:33:37.177526Z",
     "shell.execute_reply": "2020-08-18T23:33:37.176945Z"
    },
    "papermill": {
     "duration": 7.590373,
     "end_time": "2020-08-18T23:33:37.177665",
     "exception": false,
     "start_time": "2020-08-18T23:33:29.587292",
     "status": "completed"
    },
    "tags": []
   },
   "outputs": [
    {
     "data": {
      "text/html": [
       "<div>\n",
       "<style scoped>\n",
       "    .dataframe tbody tr th:only-of-type {\n",
       "        vertical-align: middle;\n",
       "    }\n",
       "\n",
       "    .dataframe tbody tr th {\n",
       "        vertical-align: top;\n",
       "    }\n",
       "\n",
       "    .dataframe thead th {\n",
       "        text-align: right;\n",
       "    }\n",
       "</style>\n",
       "<table border=\"1\" class=\"dataframe\">\n",
       "  <thead>\n",
       "    <tr style=\"text-align: right;\">\n",
       "      <th></th>\n",
       "      <th>0</th>\n",
       "      <th>1</th>\n",
       "    </tr>\n",
       "  </thead>\n",
       "  <tbody>\n",
       "    <tr>\n",
       "      <th>firstname</th>\n",
       "      <td>Thiruvengadam,</td>\n",
       "      <td>Cai,</td>\n",
       "    </tr>\n",
       "    <tr>\n",
       "      <th>Middle_name__c</th>\n",
       "      <td>Rangarajan</td>\n",
       "      <td></td>\n",
       "    </tr>\n",
       "    <tr>\n",
       "      <th>lastname</th>\n",
       "      <td>Narasimhan</td>\n",
       "      <td>Yiyu</td>\n",
       "    </tr>\n",
       "    <tr>\n",
       "      <th>nanoHUB_user_ID__c</th>\n",
       "      <td>268121</td>\n",
       "      <td>273295</td>\n",
       "    </tr>\n",
       "    <tr>\n",
       "      <th>nanoHUB_username__c</th>\n",
       "      <td>nitin17</td>\n",
       "      <td>caiyiyu</td>\n",
       "    </tr>\n",
       "    <tr>\n",
       "      <th>Email</th>\n",
       "      <td>nitin17@upenn.edu</td>\n",
       "      <td>caiyiyu@seas.upenn.edu</td>\n",
       "    </tr>\n",
       "    <tr>\n",
       "      <th>HasOptedOutOfEmail</th>\n",
       "      <td>1</td>\n",
       "      <td>1</td>\n",
       "    </tr>\n",
       "    <tr>\n",
       "      <th>nanoHUB_account_BLOCKED__c</th>\n",
       "      <td>0</td>\n",
       "      <td>0</td>\n",
       "    </tr>\n",
       "    <tr>\n",
       "      <th>nanoHUB_registration_date__c</th>\n",
       "      <td>2019-10-09</td>\n",
       "      <td>2019-12-08</td>\n",
       "    </tr>\n",
       "    <tr>\n",
       "      <th>nanoHUB_last_active_date__c</th>\n",
       "      <td>2019-10-09</td>\n",
       "      <td>2020-03-27</td>\n",
       "    </tr>\n",
       "    <tr>\n",
       "      <th>Detailed_user_timeline_to_Tableau__c</th>\n",
       "      <td>https://tableauqa.itap.purdue.edu/views/profil...</td>\n",
       "      <td>https://tableauqa.itap.purdue.edu/views/profil...</td>\n",
       "    </tr>\n",
       "    <tr>\n",
       "      <th>nanoHUB_user_page__c</th>\n",
       "      <td>https://nanohub.org/members/268121</td>\n",
       "      <td>https://nanohub.org/members/273295</td>\n",
       "    </tr>\n",
       "    <tr>\n",
       "      <th>ORCID__c</th>\n",
       "      <td></td>\n",
       "      <td></td>\n",
       "    </tr>\n",
       "    <tr>\n",
       "      <th>Organization__c</th>\n",
       "      <td></td>\n",
       "      <td>university of pennsylvania</td>\n",
       "    </tr>\n",
       "    <tr>\n",
       "      <th>Organization_email_derived__c</th>\n",
       "      <td>a0r5w00000V42c0AAB</td>\n",
       "      <td>a0r5w00000V42c0AAB</td>\n",
       "    </tr>\n",
       "  </tbody>\n",
       "</table>\n",
       "</div>"
      ],
      "text/plain": [
       "                                                                                      0  \\\n",
       "firstname                                                                Thiruvengadam,   \n",
       "Middle_name__c                                                               Rangarajan   \n",
       "lastname                                                                     Narasimhan   \n",
       "nanoHUB_user_ID__c                                                               268121   \n",
       "nanoHUB_username__c                                                             nitin17   \n",
       "Email                                                                 nitin17@upenn.edu   \n",
       "HasOptedOutOfEmail                                                                    1   \n",
       "nanoHUB_account_BLOCKED__c                                                            0   \n",
       "nanoHUB_registration_date__c                                                 2019-10-09   \n",
       "nanoHUB_last_active_date__c                                                  2019-10-09   \n",
       "Detailed_user_timeline_to_Tableau__c  https://tableauqa.itap.purdue.edu/views/profil...   \n",
       "nanoHUB_user_page__c                                 https://nanohub.org/members/268121   \n",
       "ORCID__c                                                                                  \n",
       "Organization__c                                                                           \n",
       "Organization_email_derived__c                                        a0r5w00000V42c0AAB   \n",
       "\n",
       "                                                                                      1  \n",
       "firstname                                                                          Cai,  \n",
       "Middle_name__c                                                                           \n",
       "lastname                                                                           Yiyu  \n",
       "nanoHUB_user_ID__c                                                               273295  \n",
       "nanoHUB_username__c                                                             caiyiyu  \n",
       "Email                                                            caiyiyu@seas.upenn.edu  \n",
       "HasOptedOutOfEmail                                                                    1  \n",
       "nanoHUB_account_BLOCKED__c                                                            0  \n",
       "nanoHUB_registration_date__c                                                 2019-12-08  \n",
       "nanoHUB_last_active_date__c                                                  2020-03-27  \n",
       "Detailed_user_timeline_to_Tableau__c  https://tableauqa.itap.purdue.edu/views/profil...  \n",
       "nanoHUB_user_page__c                                 https://nanohub.org/members/273295  \n",
       "ORCID__c                                                                                 \n",
       "Organization__c                                              university of pennsylvania  \n",
       "Organization_email_derived__c                                        a0r5w00000V42c0AAB  "
      ]
     },
     "execution_count": 47,
     "metadata": {},
     "output_type": "execute_result"
    }
   ],
   "source": [
    "df_sf = pd.DataFrame()\n",
    "\n",
    "# Make sure NaN and NaT values are taken care of here\n",
    "df_sf[['firstname', 'Middle_name__c', 'lastname']] = df['name'].apply(split_full_name)\n",
    "\n",
    "df_sf['nanoHUB_user_ID__c']            = df['id']\n",
    "df_sf['nanoHUB_username__c']           = df['username']\n",
    "df_sf['Email']                         = df['email'].fillna('').apply(lambda x: '' if '@invalid' in x else x)\n",
    "\n",
    "# for sendEmail: 0 = opt-out, 1 = receive email. For salesforce HasOptedOutOfEmail, it's exact opposite\n",
    "df_sf['HasOptedOutOfEmail']            = df['sendEmail'].apply(lambda x: 0 if x==1 else 1)\n",
    "df_sf['nanoHUB_account_BLOCKED__c']    = df['block'].fillna(0)\n",
    "\n",
    "# solidify time-related columns from datetime to string\n",
    "df_sf['nanoHUB_registration_date__c']  = df['registerDate'].dt.date.fillna('').astype('str')\n",
    "df_sf['nanoHUB_last_active_date__c']   = df['lastvisitDate'].dt.date.fillna('').astype('str')\n",
    "\n",
    "# Tableau detailed view\n",
    "df_sf['Detailed_user_timeline_to_Tableau__c'] = df_sf['Email'].apply(lambda x: 'https://tableauqa.itap.purdue.edu/views/profile/ProfileTimeline?Id%20Email='+x+'\\\n",
    "&:iframeSizedToWindow=true&:embed=y&:showAppBanner=false\\\n",
    "&:display_count=no&:showVizHome=no#6' if x != '' else '')\n",
    "\n",
    "# nanoHUB user profile\n",
    "df_sf['nanoHUB_user_page__c'] = df_sf['nanoHUB_user_ID__c'].apply(lambda x: 'https://nanohub.org/members/%d'%x if x != '' else '')\n",
    "\n",
    "df_sf['ORCID__c'] = df['orcid'].fillna('')\n",
    "df_sf['Organization__c'] = df['organization'].fillna('')\n",
    "\n",
    "# derived information\n",
    "df_sf['Organization_email_derived__c'] = df['Salesforce_org_ID']\n",
    "\n",
    "sf_original_fields = df_sf.columns\n",
    "\n",
    "# display\n",
    "df_sf.head(2).T"
   ]
  },
  {
   "cell_type": "code",
   "execution_count": 48,
   "metadata": {
    "execution": {
     "iopub.execute_input": "2020-08-18T23:33:37.305138Z",
     "iopub.status.busy": "2020-08-18T23:33:37.304551Z",
     "iopub.status.idle": "2020-08-18T23:33:37.371117Z",
     "shell.execute_reply": "2020-08-18T23:33:37.370572Z"
    },
    "papermill": {
     "duration": 0.141868,
     "end_time": "2020-08-18T23:33:37.371261",
     "exception": false,
     "start_time": "2020-08-18T23:33:37.229393",
     "status": "completed"
    },
    "tags": []
   },
   "outputs": [],
   "source": [
    "## filtering out accounts that have positive block attributes\n",
    "spam_rows = df_sf[df_sf['nanoHUB_account_BLOCKED__c'].astype(str).str.contains(\"1\")]\n",
    "good_rows = df_sf[~df_sf['nanoHUB_account_BLOCKED__c'].astype(str).str.contains('1')]"
   ]
  },
  {
   "cell_type": "markdown",
   "metadata": {
    "papermill": {
     "duration": 0.0512,
     "end_time": "2020-08-18T23:33:37.474344",
     "exception": false,
     "start_time": "2020-08-18T23:33:37.423144",
     "status": "completed"
    },
    "tags": []
   },
   "source": [
    "## To Salesforce Sales Cloud CRM"
   ]
  },
  {
   "cell_type": "code",
   "execution_count": 49,
   "metadata": {
    "execution": {
     "iopub.execute_input": "2020-08-18T23:33:37.582423Z",
     "iopub.status.busy": "2020-08-18T23:33:37.581867Z",
     "iopub.status.idle": "2020-08-18T23:33:37.850192Z",
     "shell.execute_reply": "2020-08-18T23:33:37.849580Z"
    },
    "papermill": {
     "duration": 0.324873,
     "end_time": "2020-08-18T23:33:37.850330",
     "exception": false,
     "start_time": "2020-08-18T23:33:37.525457",
     "status": "completed"
    },
    "tags": []
   },
   "outputs": [
    {
     "name": "stdout",
     "output_type": "stream",
     "text": [
      "Obtained Salesforce access token ...... True\n"
     ]
    }
   ],
   "source": [
    "from DB2SalesforceAPI import DB2SalesforceAPI\n",
    "\n",
    "# create DB2 to Salesforce API object\n",
    "db_s = DB2SalesforceAPI(sf_login_params)\n",
    "\n",
    "db_s.object_id = object_id\n",
    "db_s.external_id = external_id"
   ]
  },
  {
   "cell_type": "code",
   "execution_count": 50,
   "metadata": {
    "execution": {
     "iopub.execute_input": "2020-08-18T23:33:37.973527Z",
     "iopub.status.busy": "2020-08-18T23:33:37.972973Z",
     "iopub.status.idle": "2020-08-18T23:33:37.990655Z",
     "shell.execute_reply": "2020-08-18T23:33:37.990217Z"
    },
    "papermill": {
     "duration": 0.086987,
     "end_time": "2020-08-18T23:33:37.990784",
     "exception": false,
     "start_time": "2020-08-18T23:33:37.903797",
     "status": "completed"
    },
    "tags": []
   },
   "outputs": [
    {
     "data": {
      "text/html": [
       "<div>\n",
       "<style scoped>\n",
       "    .dataframe tbody tr th:only-of-type {\n",
       "        vertical-align: middle;\n",
       "    }\n",
       "\n",
       "    .dataframe tbody tr th {\n",
       "        vertical-align: top;\n",
       "    }\n",
       "\n",
       "    .dataframe thead th {\n",
       "        text-align: right;\n",
       "    }\n",
       "</style>\n",
       "<table border=\"1\" class=\"dataframe\">\n",
       "  <thead>\n",
       "    <tr style=\"text-align: right;\">\n",
       "      <th></th>\n",
       "      <th>firstname</th>\n",
       "      <th>Middle_name__c</th>\n",
       "      <th>lastname</th>\n",
       "      <th>nanoHUB_user_ID__c</th>\n",
       "      <th>nanoHUB_username__c</th>\n",
       "      <th>Email</th>\n",
       "      <th>HasOptedOutOfEmail</th>\n",
       "      <th>nanoHUB_account_BLOCKED__c</th>\n",
       "      <th>nanoHUB_registration_date__c</th>\n",
       "      <th>nanoHUB_last_active_date__c</th>\n",
       "      <th>Detailed_user_timeline_to_Tableau__c</th>\n",
       "      <th>nanoHUB_user_page__c</th>\n",
       "      <th>ORCID__c</th>\n",
       "      <th>Organization__c</th>\n",
       "      <th>Organization_email_derived__c</th>\n",
       "    </tr>\n",
       "  </thead>\n",
       "  <tbody>\n",
       "    <tr>\n",
       "      <th>1032</th>\n",
       "      <td>Mark</td>\n",
       "      <td></td>\n",
       "      <td>Calaway</td>\n",
       "      <td>283456</td>\n",
       "      <td>markcalaway4</td>\n",
       "      <td>2r1st141@gmail.com</td>\n",
       "      <td>1</td>\n",
       "      <td>1</td>\n",
       "      <td>2020-04-07</td>\n",
       "      <td>2020-04-07</td>\n",
       "      <td>https://tableauqa.itap.purdue.edu/views/profil...</td>\n",
       "      <td>https://nanohub.org/members/283456</td>\n",
       "      <td></td>\n",
       "      <td>purdue university</td>\n",
       "      <td>a0r5w00000V42cCAAR</td>\n",
       "    </tr>\n",
       "    <tr>\n",
       "      <th>1341</th>\n",
       "      <td>John</td>\n",
       "      <td></td>\n",
       "      <td>Neesham</td>\n",
       "      <td>295831</td>\n",
       "      <td>neeshamvm</td>\n",
       "      <td>johnneeshamvm@gmail.com</td>\n",
       "      <td>0</td>\n",
       "      <td>1</td>\n",
       "      <td>2020-08-03</td>\n",
       "      <td>2020-08-03</td>\n",
       "      <td>https://tableauqa.itap.purdue.edu/views/profil...</td>\n",
       "      <td>https://nanohub.org/members/295831</td>\n",
       "      <td></td>\n",
       "      <td>purdue university</td>\n",
       "      <td>a0r5w00000V42cCAAR</td>\n",
       "    </tr>\n",
       "  </tbody>\n",
       "</table>\n",
       "</div>"
      ],
      "text/plain": [
       "     firstname Middle_name__c lastname  nanoHUB_user_ID__c  \\\n",
       "1032      Mark                 Calaway              283456   \n",
       "1341      John                 Neesham              295831   \n",
       "\n",
       "     nanoHUB_username__c                    Email  HasOptedOutOfEmail  \\\n",
       "1032        markcalaway4       2r1st141@gmail.com                   1   \n",
       "1341           neeshamvm  johnneeshamvm@gmail.com                   0   \n",
       "\n",
       "      nanoHUB_account_BLOCKED__c nanoHUB_registration_date__c  \\\n",
       "1032                           1                   2020-04-07   \n",
       "1341                           1                   2020-08-03   \n",
       "\n",
       "     nanoHUB_last_active_date__c  \\\n",
       "1032                  2020-04-07   \n",
       "1341                  2020-08-03   \n",
       "\n",
       "                   Detailed_user_timeline_to_Tableau__c  \\\n",
       "1032  https://tableauqa.itap.purdue.edu/views/profil...   \n",
       "1341  https://tableauqa.itap.purdue.edu/views/profil...   \n",
       "\n",
       "                    nanoHUB_user_page__c ORCID__c    Organization__c  \\\n",
       "1032  https://nanohub.org/members/283456           purdue university   \n",
       "1341  https://nanohub.org/members/295831           purdue university   \n",
       "\n",
       "     Organization_email_derived__c  \n",
       "1032            a0r5w00000V42cCAAR  \n",
       "1341            a0r5w00000V42cCAAR  "
      ]
     },
     "metadata": {},
     "output_type": "display_data"
    },
    {
     "data": {
      "text/html": [
       "<div>\n",
       "<style scoped>\n",
       "    .dataframe tbody tr th:only-of-type {\n",
       "        vertical-align: middle;\n",
       "    }\n",
       "\n",
       "    .dataframe tbody tr th {\n",
       "        vertical-align: top;\n",
       "    }\n",
       "\n",
       "    .dataframe thead th {\n",
       "        text-align: right;\n",
       "    }\n",
       "</style>\n",
       "<table border=\"1\" class=\"dataframe\">\n",
       "  <thead>\n",
       "    <tr style=\"text-align: right;\">\n",
       "      <th></th>\n",
       "      <th>firstname</th>\n",
       "      <th>Middle_name__c</th>\n",
       "      <th>lastname</th>\n",
       "      <th>nanoHUB_user_ID__c</th>\n",
       "      <th>nanoHUB_username__c</th>\n",
       "      <th>Email</th>\n",
       "      <th>HasOptedOutOfEmail</th>\n",
       "      <th>nanoHUB_account_BLOCKED__c</th>\n",
       "      <th>nanoHUB_registration_date__c</th>\n",
       "      <th>nanoHUB_last_active_date__c</th>\n",
       "      <th>Detailed_user_timeline_to_Tableau__c</th>\n",
       "      <th>nanoHUB_user_page__c</th>\n",
       "      <th>ORCID__c</th>\n",
       "      <th>Organization__c</th>\n",
       "      <th>Organization_email_derived__c</th>\n",
       "    </tr>\n",
       "  </thead>\n",
       "  <tbody>\n",
       "    <tr>\n",
       "      <th>28508</th>\n",
       "      <td>Kirk</td>\n",
       "      <td></td>\n",
       "      <td>McLean</td>\n",
       "      <td>297168</td>\n",
       "      <td>jahbless2</td>\n",
       "      <td>mcleankirk@yahoo.co.uk</td>\n",
       "      <td>1</td>\n",
       "      <td>0</td>\n",
       "      <td>2020-08-18</td>\n",
       "      <td>2020-08-18</td>\n",
       "      <td>https://tableauqa.itap.purdue.edu/views/profil...</td>\n",
       "      <td>https://nanohub.org/members/297168</td>\n",
       "      <td></td>\n",
       "      <td></td>\n",
       "      <td>NaN</td>\n",
       "    </tr>\n",
       "    <tr>\n",
       "      <th>28509</th>\n",
       "      <td>sanaz</td>\n",
       "      <td></td>\n",
       "      <td>vahidinia</td>\n",
       "      <td>297170</td>\n",
       "      <td>sanaz</td>\n",
       "      <td>svahidinia@yahoo.com</td>\n",
       "      <td>1</td>\n",
       "      <td>0</td>\n",
       "      <td>2020-08-18</td>\n",
       "      <td>2020-08-18</td>\n",
       "      <td>https://tableauqa.itap.purdue.edu/views/profil...</td>\n",
       "      <td>https://nanohub.org/members/297170</td>\n",
       "      <td></td>\n",
       "      <td></td>\n",
       "      <td>NaN</td>\n",
       "    </tr>\n",
       "  </tbody>\n",
       "</table>\n",
       "</div>"
      ],
      "text/plain": [
       "      firstname Middle_name__c   lastname  nanoHUB_user_ID__c  \\\n",
       "28508      Kirk                    McLean              297168   \n",
       "28509     sanaz                 vahidinia              297170   \n",
       "\n",
       "      nanoHUB_username__c                   Email  HasOptedOutOfEmail  \\\n",
       "28508           jahbless2  mcleankirk@yahoo.co.uk                   1   \n",
       "28509               sanaz    svahidinia@yahoo.com                   1   \n",
       "\n",
       "       nanoHUB_account_BLOCKED__c nanoHUB_registration_date__c  \\\n",
       "28508                           0                   2020-08-18   \n",
       "28509                           0                   2020-08-18   \n",
       "\n",
       "      nanoHUB_last_active_date__c  \\\n",
       "28508                  2020-08-18   \n",
       "28509                  2020-08-18   \n",
       "\n",
       "                    Detailed_user_timeline_to_Tableau__c  \\\n",
       "28508  https://tableauqa.itap.purdue.edu/views/profil...   \n",
       "28509  https://tableauqa.itap.purdue.edu/views/profil...   \n",
       "\n",
       "                     nanoHUB_user_page__c ORCID__c Organization__c  \\\n",
       "28508  https://nanohub.org/members/297168                            \n",
       "28509  https://nanohub.org/members/297170                            \n",
       "\n",
       "      Organization_email_derived__c  \n",
       "28508                           NaN  \n",
       "28509                           NaN  "
      ]
     },
     "metadata": {},
     "output_type": "display_data"
    }
   ],
   "source": [
    "display(spam_rows.head(2))\n",
    "display(good_rows.tail(2))"
   ]
  },
  {
   "cell_type": "code",
   "execution_count": 51,
   "metadata": {
    "execution": {
     "iopub.execute_input": "2020-08-18T23:33:38.102942Z",
     "iopub.status.busy": "2020-08-18T23:33:38.102376Z",
     "iopub.status.idle": "2020-08-18T23:33:40.285594Z",
     "shell.execute_reply": "2020-08-18T23:33:40.285113Z"
    },
    "papermill": {
     "duration": 2.240319,
     "end_time": "2020-08-18T23:33:40.285734",
     "exception": false,
     "start_time": "2020-08-18T23:33:38.045415",
     "status": "completed"
    },
    "tags": []
   },
   "outputs": [
    {
     "name": "stdout",
     "output_type": "stream",
     "text": [
      "[Success] Bulk job creation successful. Job ID = 7505w00000OpSKxAAN\n",
      "hello\n"
     ]
    },
    {
     "name": "stdout",
     "output_type": "stream",
     "text": [
      "[Success] CSV upload successful. Job ID = 7505w00000OpSKxAAN\n"
     ]
    },
    {
     "name": "stdout",
     "output_type": "stream",
     "text": [
      "[Success] Closing job successful. Job ID = 7505w00000OpSKxAAN\n"
     ]
    }
   ],
   "source": [
    "# send data to Salesforce\n",
    "db_s.send_data(good_rows)"
   ]
  },
  {
   "cell_type": "code",
   "execution_count": 52,
   "metadata": {
    "execution": {
     "iopub.execute_input": "2020-08-18T23:33:40.397727Z",
     "iopub.status.busy": "2020-08-18T23:33:40.397180Z",
     "iopub.status.idle": "2020-08-18T23:33:40.910156Z",
     "shell.execute_reply": "2020-08-18T23:33:40.910710Z"
    },
    "papermill": {
     "duration": 0.571323,
     "end_time": "2020-08-18T23:33:40.910881",
     "exception": false,
     "start_time": "2020-08-18T23:33:40.339558",
     "status": "completed"
    },
    "tags": []
   },
   "outputs": [
    {
     "data": {
      "text/plain": [
       "{'id': '7505w00000OpSKxAAN',\n",
       " 'operation': 'upsert',\n",
       " 'object': 'Contact',\n",
       " 'createdById': '0055w00000DM5bOAAT',\n",
       " 'createdDate': '2020-08-18T23:33:38.000+0000',\n",
       " 'systemModstamp': '2020-08-18T23:33:40.000+0000',\n",
       " 'state': 'UploadComplete',\n",
       " 'externalIdFieldName': 'nanoHUB_user_ID__c',\n",
       " 'concurrencyMode': 'Parallel',\n",
       " 'contentType': 'CSV',\n",
       " 'apiVersion': 47.0,\n",
       " 'jobType': 'V2Ingest',\n",
       " 'lineEnding': 'LF',\n",
       " 'columnDelimiter': 'COMMA',\n",
       " 'numberRecordsProcessed': 0,\n",
       " 'numberRecordsFailed': 0,\n",
       " 'retries': 0,\n",
       " 'totalProcessingTime': 0,\n",
       " 'apiActiveProcessingTime': 0,\n",
       " 'apexProcessingTime': 0}"
      ]
     },
     "execution_count": 52,
     "metadata": {},
     "output_type": "execute_result"
    }
   ],
   "source": [
    "# check status\n",
    "db_s.check_bulk_status()"
   ]
  },
  {
   "cell_type": "code",
   "execution_count": 53,
   "metadata": {
    "execution": {
     "iopub.execute_input": "2020-08-18T23:33:41.023483Z",
     "iopub.status.busy": "2020-08-18T23:33:41.022923Z",
     "iopub.status.idle": "2020-08-18T23:33:41.193353Z",
     "shell.execute_reply": "2020-08-18T23:33:41.192883Z"
    },
    "papermill": {
     "duration": 0.228316,
     "end_time": "2020-08-18T23:33:41.193493",
     "exception": false,
     "start_time": "2020-08-18T23:33:40.965177",
     "status": "completed"
    },
    "tags": []
   },
   "outputs": [
    {
     "name": "stdout",
     "output_type": "stream",
     "text": [
      "''\n"
     ]
    }
   ],
   "source": [
    "# check status\n",
    "from pprint import pprint\n",
    "\n",
    "pprint(db_s.check_bulk_failed_results())"
   ]
  },
  {
   "cell_type": "code",
   "execution_count": 54,
   "metadata": {
    "execution": {
     "iopub.execute_input": "2020-08-18T23:33:41.318818Z",
     "iopub.status.busy": "2020-08-18T23:33:41.318272Z",
     "iopub.status.idle": "2020-08-18T23:33:41.322043Z",
     "shell.execute_reply": "2020-08-18T23:33:41.321546Z"
    },
    "papermill": {
     "duration": 0.07407,
     "end_time": "2020-08-18T23:33:41.322173",
     "exception": false,
     "start_time": "2020-08-18T23:33:41.248103",
     "status": "completed"
    },
    "tags": []
   },
   "outputs": [
    {
     "data": {
      "text/html": [
       "<div>\n",
       "<style scoped>\n",
       "    .dataframe tbody tr th:only-of-type {\n",
       "        vertical-align: middle;\n",
       "    }\n",
       "\n",
       "    .dataframe tbody tr th {\n",
       "        vertical-align: top;\n",
       "    }\n",
       "\n",
       "    .dataframe thead th {\n",
       "        text-align: right;\n",
       "    }\n",
       "</style>\n",
       "<table border=\"1\" class=\"dataframe\">\n",
       "  <thead>\n",
       "    <tr style=\"text-align: right;\">\n",
       "      <th></th>\n",
       "      <th>firstname</th>\n",
       "      <th>Middle_name__c</th>\n",
       "      <th>lastname</th>\n",
       "      <th>nanoHUB_user_ID__c</th>\n",
       "      <th>nanoHUB_username__c</th>\n",
       "      <th>Email</th>\n",
       "      <th>HasOptedOutOfEmail</th>\n",
       "      <th>nanoHUB_account_BLOCKED__c</th>\n",
       "      <th>nanoHUB_registration_date__c</th>\n",
       "      <th>nanoHUB_last_active_date__c</th>\n",
       "      <th>Detailed_user_timeline_to_Tableau__c</th>\n",
       "      <th>nanoHUB_user_page__c</th>\n",
       "      <th>ORCID__c</th>\n",
       "      <th>Organization__c</th>\n",
       "      <th>Organization_email_derived__c</th>\n",
       "    </tr>\n",
       "  </thead>\n",
       "  <tbody>\n",
       "    <tr>\n",
       "      <th>28508</th>\n",
       "      <td>Kirk</td>\n",
       "      <td></td>\n",
       "      <td>McLean</td>\n",
       "      <td>297168</td>\n",
       "      <td>jahbless2</td>\n",
       "      <td>mcleankirk@yahoo.co.uk</td>\n",
       "      <td>1</td>\n",
       "      <td>0</td>\n",
       "      <td>2020-08-18</td>\n",
       "      <td>2020-08-18</td>\n",
       "      <td>https://tableauqa.itap.purdue.edu/views/profil...</td>\n",
       "      <td>https://nanohub.org/members/297168</td>\n",
       "      <td></td>\n",
       "      <td></td>\n",
       "      <td>NaN</td>\n",
       "    </tr>\n",
       "    <tr>\n",
       "      <th>28509</th>\n",
       "      <td>sanaz</td>\n",
       "      <td></td>\n",
       "      <td>vahidinia</td>\n",
       "      <td>297170</td>\n",
       "      <td>sanaz</td>\n",
       "      <td>svahidinia@yahoo.com</td>\n",
       "      <td>1</td>\n",
       "      <td>0</td>\n",
       "      <td>2020-08-18</td>\n",
       "      <td>2020-08-18</td>\n",
       "      <td>https://tableauqa.itap.purdue.edu/views/profil...</td>\n",
       "      <td>https://nanohub.org/members/297170</td>\n",
       "      <td></td>\n",
       "      <td></td>\n",
       "      <td>NaN</td>\n",
       "    </tr>\n",
       "  </tbody>\n",
       "</table>\n",
       "</div>"
      ],
      "text/plain": [
       "      firstname Middle_name__c   lastname  nanoHUB_user_ID__c  \\\n",
       "28508      Kirk                    McLean              297168   \n",
       "28509     sanaz                 vahidinia              297170   \n",
       "\n",
       "      nanoHUB_username__c                   Email  HasOptedOutOfEmail  \\\n",
       "28508           jahbless2  mcleankirk@yahoo.co.uk                   1   \n",
       "28509               sanaz    svahidinia@yahoo.com                   1   \n",
       "\n",
       "       nanoHUB_account_BLOCKED__c nanoHUB_registration_date__c  \\\n",
       "28508                           0                   2020-08-18   \n",
       "28509                           0                   2020-08-18   \n",
       "\n",
       "      nanoHUB_last_active_date__c  \\\n",
       "28508                  2020-08-18   \n",
       "28509                  2020-08-18   \n",
       "\n",
       "                    Detailed_user_timeline_to_Tableau__c  \\\n",
       "28508  https://tableauqa.itap.purdue.edu/views/profil...   \n",
       "28509  https://tableauqa.itap.purdue.edu/views/profil...   \n",
       "\n",
       "                     nanoHUB_user_page__c ORCID__c Organization__c  \\\n",
       "28508  https://nanohub.org/members/297168                            \n",
       "28509  https://nanohub.org/members/297170                            \n",
       "\n",
       "      Organization_email_derived__c  \n",
       "28508                           NaN  \n",
       "28509                           NaN  "
      ]
     },
     "metadata": {},
     "output_type": "display_data"
    }
   ],
   "source": [
    "display(df_sf.tail(2))"
   ]
  },
  {
   "cell_type": "markdown",
   "metadata": {
    "papermill": {
     "duration": 0.05453,
     "end_time": "2020-08-18T23:33:41.431110",
     "exception": false,
     "start_time": "2020-08-18T23:33:41.376580",
     "status": "completed"
    },
    "tags": []
   },
   "source": [
    "## Verification\n",
    "Checking to see if salesforce has updated contacts with the new users\n",
    "\n",
    "request name and nanohub_user_id"
   ]
  },
  {
   "cell_type": "code",
   "execution_count": 55,
   "metadata": {
    "execution": {
     "iopub.execute_input": "2020-08-18T23:33:41.546787Z",
     "iopub.status.busy": "2020-08-18T23:33:41.546220Z",
     "iopub.status.idle": "2020-08-18T23:33:41.911321Z",
     "shell.execute_reply": "2020-08-18T23:33:41.912026Z"
    },
    "papermill": {
     "duration": 0.42664,
     "end_time": "2020-08-18T23:33:41.912198",
     "exception": false,
     "start_time": "2020-08-18T23:33:41.485558",
     "status": "completed"
    },
    "tags": []
   },
   "outputs": [
    {
     "name": "stdout",
     "output_type": "stream",
     "text": [
      "Obtained Salesforce access token ...... True\n"
     ]
    }
   ],
   "source": [
    "# create DB2 to Salesforce API object\n",
    "db_s = DB2SalesforceAPI(sf_login_params)"
   ]
  },
  {
   "cell_type": "code",
   "execution_count": 56,
   "metadata": {
    "execution": {
     "iopub.execute_input": "2020-08-18T23:33:42.028345Z",
     "iopub.status.busy": "2020-08-18T23:33:42.027771Z",
     "iopub.status.idle": "2020-08-18T23:34:06.995966Z",
     "shell.execute_reply": "2020-08-18T23:34:06.995481Z"
    },
    "papermill": {
     "duration": 25.028845,
     "end_time": "2020-08-18T23:34:06.996110",
     "exception": false,
     "start_time": "2020-08-18T23:33:41.967265",
     "status": "completed"
    },
    "tags": []
   },
   "outputs": [
    {
     "name": "stdout",
     "output_type": "stream",
     "text": [
      "[Success] Bulk job creation successful. Job ID = 7505w00000OpRzgAAF\n"
     ]
    },
    {
     "name": "stdout",
     "output_type": "stream",
     "text": [
      "{\"id\":\"7505w00000OpRzgAAF\",\"operation\":\"query\",\"object\":\"Contact\",\"createdById\":\"0055w00000DM5bOAAT\",\"createdDate\":\"2020-08-18T23:33:42.000+0000\",\"systemModstamp\":\"2020-08-18T23:33:42.000+0000\",\"state\":\"UploadComplete\",\"concurrencyMode\":\"Parallel\",\"contentType\":\"CSV\",\"apiVersion\":47.0,\"jobType\":\"V2Query\",\"lineEnding\":\"LF\",\"columnDelimiter\":\"COMMA\",\"retries\":0,\"totalProcessingTime\":0}\n"
     ]
    },
    {
     "name": "stdout",
     "output_type": "stream",
     "text": [
      "{\"id\":\"7505w00000OpRzgAAF\",\"operation\":\"query\",\"object\":\"Contact\",\"createdById\":\"0055w00000DM5bOAAT\",\"createdDate\":\"2020-08-18T23:33:42.000+0000\",\"systemModstamp\":\"2020-08-18T23:33:45.000+0000\",\"state\":\"InProgress\",\"concurrencyMode\":\"Parallel\",\"contentType\":\"CSV\",\"apiVersion\":47.0,\"jobType\":\"V2Query\",\"lineEnding\":\"LF\",\"columnDelimiter\":\"COMMA\",\"numberRecordsProcessed\":0,\"retries\":0,\"totalProcessingTime\":0}\n"
     ]
    },
    {
     "name": "stdout",
     "output_type": "stream",
     "text": [
      "{\"id\":\"7505w00000OpRzgAAF\",\"operation\":\"query\",\"object\":\"Contact\",\"createdById\":\"0055w00000DM5bOAAT\",\"createdDate\":\"2020-08-18T23:33:42.000+0000\",\"systemModstamp\":\"2020-08-18T23:34:00.000+0000\",\"state\":\"JobComplete\",\"concurrencyMode\":\"Parallel\",\"contentType\":\"CSV\",\"apiVersion\":47.0,\"jobType\":\"V2Query\",\"lineEnding\":\"LF\",\"columnDelimiter\":\"COMMA\",\"numberRecordsProcessed\":217012,\"retries\":0,\"totalProcessingTime\":10198}\n",
      "[Success] Bulk job completed successfully.\n"
     ]
    },
    {
     "data": {
      "text/html": [
       "<div>\n",
       "<style scoped>\n",
       "    .dataframe tbody tr th:only-of-type {\n",
       "        vertical-align: middle;\n",
       "    }\n",
       "\n",
       "    .dataframe tbody tr th {\n",
       "        vertical-align: top;\n",
       "    }\n",
       "\n",
       "    .dataframe thead th {\n",
       "        text-align: right;\n",
       "    }\n",
       "</style>\n",
       "<table border=\"1\" class=\"dataframe\">\n",
       "  <thead>\n",
       "    <tr style=\"text-align: right;\">\n",
       "      <th></th>\n",
       "      <th>FirstName</th>\n",
       "      <th>Id</th>\n",
       "      <th>LastName</th>\n",
       "      <th>nanoHUB_user_ID__c</th>\n",
       "    </tr>\n",
       "  </thead>\n",
       "  <tbody>\n",
       "    <tr>\n",
       "      <th>0</th>\n",
       "      <td>hubrepo</td>\n",
       "      <td>0035w000031Vsp1AAC</td>\n",
       "      <td>hubrepo</td>\n",
       "      <td>998.0</td>\n",
       "    </tr>\n",
       "    <tr>\n",
       "      <th>1</th>\n",
       "      <td>nanoHUB</td>\n",
       "      <td>0035w000031Vsp2AAC</td>\n",
       "      <td>support</td>\n",
       "      <td>1683.0</td>\n",
       "    </tr>\n",
       "    <tr>\n",
       "      <th>2</th>\n",
       "      <td>Grid</td>\n",
       "      <td>0035w000031Vsp3AAC</td>\n",
       "      <td>Statistics</td>\n",
       "      <td>1684.0</td>\n",
       "    </tr>\n",
       "  </tbody>\n",
       "</table>\n",
       "</div>"
      ],
      "text/plain": [
       "  FirstName                  Id    LastName  nanoHUB_user_ID__c\n",
       "0   hubrepo  0035w000031Vsp1AAC     hubrepo               998.0\n",
       "1   nanoHUB  0035w000031Vsp2AAC     support              1683.0\n",
       "2      Grid  0035w000031Vsp3AAC  Statistics              1684.0"
      ]
     },
     "execution_count": 56,
     "metadata": {},
     "output_type": "execute_result"
    }
   ],
   "source": [
    "# get Salesforce ID for organizations\n",
    "sf_org_ID_df = db_s.query_data('SELECT Id, firstname, lastname, nanoHUB_user_ID__c FROM Contact')\n",
    "\n",
    "# display\n",
    "sf_org_ID_df.head(3)"
   ]
  },
  {
   "cell_type": "code",
   "execution_count": 57,
   "metadata": {
    "execution": {
     "iopub.execute_input": "2020-08-18T23:34:07.119663Z",
     "iopub.status.busy": "2020-08-18T23:34:07.119111Z",
     "iopub.status.idle": "2020-08-18T23:34:07.122350Z",
     "shell.execute_reply": "2020-08-18T23:34:07.122820Z"
    },
    "papermill": {
     "duration": 0.069886,
     "end_time": "2020-08-18T23:34:07.122995",
     "exception": false,
     "start_time": "2020-08-18T23:34:07.053109",
     "status": "completed"
    },
    "tags": []
   },
   "outputs": [
    {
     "data": {
      "text/html": [
       "<div>\n",
       "<style scoped>\n",
       "    .dataframe tbody tr th:only-of-type {\n",
       "        vertical-align: middle;\n",
       "    }\n",
       "\n",
       "    .dataframe tbody tr th {\n",
       "        vertical-align: top;\n",
       "    }\n",
       "\n",
       "    .dataframe thead th {\n",
       "        text-align: right;\n",
       "    }\n",
       "</style>\n",
       "<table border=\"1\" class=\"dataframe\">\n",
       "  <thead>\n",
       "    <tr style=\"text-align: right;\">\n",
       "      <th></th>\n",
       "      <th>FirstName</th>\n",
       "      <th>Id</th>\n",
       "      <th>LastName</th>\n",
       "      <th>nanoHUB_user_ID__c</th>\n",
       "    </tr>\n",
       "  </thead>\n",
       "  <tbody>\n",
       "    <tr>\n",
       "      <th>217007</th>\n",
       "      <td>Subhadeep</td>\n",
       "      <td>0035w00003BRmrqAAD</td>\n",
       "      <td>Dasgupta</td>\n",
       "      <td>297163.0</td>\n",
       "    </tr>\n",
       "    <tr>\n",
       "      <th>217008</th>\n",
       "      <td>Jennifer</td>\n",
       "      <td>0035w00003BRmrrAAD</td>\n",
       "      <td>Belew</td>\n",
       "      <td>297164.0</td>\n",
       "    </tr>\n",
       "    <tr>\n",
       "      <th>217009</th>\n",
       "      <td>Lucas</td>\n",
       "      <td>0035w00003BRmrsAAD</td>\n",
       "      <td>GC</td>\n",
       "      <td>297165.0</td>\n",
       "    </tr>\n",
       "    <tr>\n",
       "      <th>217010</th>\n",
       "      <td>Kilolilnolth</td>\n",
       "      <td>0035w00003BRmrtAAD</td>\n",
       "      <td>Kilolilnolth</td>\n",
       "      <td>297166.0</td>\n",
       "    </tr>\n",
       "    <tr>\n",
       "      <th>217011</th>\n",
       "      <td>NelsonFauri</td>\n",
       "      <td>0035w00003BRmruAAD</td>\n",
       "      <td>NelsonFauri</td>\n",
       "      <td>297167.0</td>\n",
       "    </tr>\n",
       "  </tbody>\n",
       "</table>\n",
       "</div>"
      ],
      "text/plain": [
       "           FirstName                  Id      LastName  nanoHUB_user_ID__c\n",
       "217007     Subhadeep  0035w00003BRmrqAAD      Dasgupta            297163.0\n",
       "217008      Jennifer  0035w00003BRmrrAAD         Belew            297164.0\n",
       "217009         Lucas  0035w00003BRmrsAAD            GC            297165.0\n",
       "217010  Kilolilnolth  0035w00003BRmrtAAD  Kilolilnolth            297166.0\n",
       "217011   NelsonFauri  0035w00003BRmruAAD   NelsonFauri            297167.0"
      ]
     },
     "metadata": {},
     "output_type": "display_data"
    }
   ],
   "source": [
    "display(sf_org_ID_df.tail(5))"
   ]
  },
  {
   "cell_type": "code",
   "execution_count": null,
   "metadata": {
    "papermill": {
     "duration": 0.057238,
     "end_time": "2020-08-18T23:34:07.237244",
     "exception": false,
     "start_time": "2020-08-18T23:34:07.180006",
     "status": "completed"
    },
    "tags": []
   },
   "outputs": [],
   "source": []
  },
  {
   "cell_type": "code",
   "execution_count": null,
   "metadata": {
    "papermill": {
     "duration": 0.057138,
     "end_time": "2020-08-18T23:34:07.352357",
     "exception": false,
     "start_time": "2020-08-18T23:34:07.295219",
     "status": "completed"
    },
    "tags": []
   },
   "outputs": [],
   "source": []
  },
  {
   "cell_type": "code",
   "execution_count": null,
   "metadata": {
    "papermill": {
     "duration": 0.056834,
     "end_time": "2020-08-18T23:34:07.466155",
     "exception": false,
     "start_time": "2020-08-18T23:34:07.409321",
     "status": "completed"
    },
    "tags": []
   },
   "outputs": [],
   "source": []
  },
  {
   "cell_type": "code",
   "execution_count": null,
   "metadata": {
    "papermill": {
     "duration": 0.057391,
     "end_time": "2020-08-18T23:34:07.580974",
     "exception": false,
     "start_time": "2020-08-18T23:34:07.523583",
     "status": "completed"
    },
    "tags": []
   },
   "outputs": [],
   "source": []
  }
 ],
 "metadata": {
  "celltoolbar": "Tags",
  "kernelspec": {
   "display_name": "Python 3",
   "language": "python",
   "name": "python3"
  },
  "language_info": {
   "codemirror_mode": {
    "name": "ipython",
    "version": 3
   },
   "file_extension": ".py",
   "mimetype": "text/x-python",
   "name": "python",
   "nbconvert_exporter": "python",
   "pygments_lexer": "ipython3",
   "version": "3.7.6"
  },
  "papermill": {
   "duration": 337.542523,
   "end_time": "2020-08-18T23:34:13.248039",
   "environment_variables": {},
   "exception": null,
   "input_path": "/home/users/wang2506/nanohub_salesforce_integ/salesforce/task_user_basic_updates.ipynb",
   "output_path": "/home/users/wang2506/nanohub_salesforce_integ/salesforce/task_user_basic_updates.ipynb",
   "parameters": {},
   "start_time": "2020-08-18T23:28:35.705516",
   "version": "2.1.1"
  }
 },
 "nbformat": 4,
 "nbformat_minor": 4
}