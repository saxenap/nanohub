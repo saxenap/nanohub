{
 "cells": [
  {
   "cell_type": "markdown",
   "metadata": {},
   "source": [
    "## Build user table containing hubspot contact informations"
   ]
  },
  {
   "cell_type": "code",
   "execution_count": 1,
   "metadata": {},
   "outputs": [],
   "source": [
    "import pandas as pd\n",
    "import os"
   ]
  },
  {
   "cell_type": "code",
   "execution_count": 2,
   "metadata": {},
   "outputs": [],
   "source": [
    "sql_login_params = {\"username\": \"wang2506_ro\", \"password\": \"fnVnwcCS7iT45EsA\"}\n",
    "sf_login_params = {\n",
    "    \"grant_type\": \"password\",\n",
    "    \"client_id\": \"3MVG95jctIhbyCppj0SNJ75IsZ1y8UPGZtSNF4j8FNVXz.De8Lu4jHm3rjRosAtsHy6qjHx3i4S_QbQzvBePG\",\n",
    "    \"client_secret\": \"D1623C6D3607D4FC8004B92C761DFB6C1F70CCD129C5501E357028DFA00F5764\",\n",
    "    \"username\":\"wang2506@purdue.edu\",\n",
    "    \"password\":\"mathisfun992728tXYwCb5yMm6XtohbTRw8ZdBbi\",\n",
    "}"
   ]
  },
  {
   "cell_type": "markdown",
   "metadata": {},
   "source": [
    "## Load input data EE Faculty Delivera full names\n",
    "\n",
    "EE data data: $ cwd+EE Faculty Delivra full names.xlsx"
   ]
  },
  {
   "cell_type": "code",
   "execution_count": 3,
   "metadata": {},
   "outputs": [
    {
     "name": "stdout",
     "output_type": "stream",
     "text": [
      "C:\\Users\\henry\\Desktop\\PhD Research\\Nanohub RA\\nanohub_salesforce_integ-master\\delivera_table_generation\n"
     ]
    }
   ],
   "source": [
    "#import data\n",
    "cwd = os.getcwd()\n",
    "print(cwd)\n",
    "temp = pd.read_excel('EE_delivra.xlsx')"
   ]
  },
  {
   "cell_type": "code",
   "execution_count": 4,
   "metadata": {},
   "outputs": [
    {
     "data": {
      "text/html": [
       "<div>\n",
       "<style scoped>\n",
       "    .dataframe tbody tr th:only-of-type {\n",
       "        vertical-align: middle;\n",
       "    }\n",
       "\n",
       "    .dataframe tbody tr th {\n",
       "        vertical-align: top;\n",
       "    }\n",
       "\n",
       "    .dataframe thead th {\n",
       "        text-align: right;\n",
       "    }\n",
       "</style>\n",
       "<table border=\"1\" class=\"dataframe\">\n",
       "  <thead>\n",
       "    <tr style=\"text-align: right;\">\n",
       "      <th></th>\n",
       "      <th>RecipientID</th>\n",
       "      <th>MemberID</th>\n",
       "      <th>engagement</th>\n",
       "      <th>UserName</th>\n",
       "      <th>Domain</th>\n",
       "      <th>EmailAddr_</th>\n",
       "      <th>MailingStatus</th>\n",
       "      <th>SendTry</th>\n",
       "      <th>Full Name</th>\n",
       "    </tr>\n",
       "  </thead>\n",
       "  <tbody>\n",
       "    <tr>\n",
       "      <th>0</th>\n",
       "      <td>19265625052</td>\n",
       "      <td>1558002285</td>\n",
       "      <td>0.0000</td>\n",
       "      <td>mchamanz</td>\n",
       "      <td>andrew.cmu.edu</td>\n",
       "      <td>mchamanz@andrew.cmu.edu</td>\n",
       "      <td>Success</td>\n",
       "      <td>1</td>\n",
       "      <td>maysam chamanzar</td>\n",
       "    </tr>\n",
       "    <tr>\n",
       "      <th>1</th>\n",
       "      <td>19265625108</td>\n",
       "      <td>1558002287</td>\n",
       "      <td>0.4167</td>\n",
       "      <td>qingli2</td>\n",
       "      <td>andrew.cmu.edu</td>\n",
       "      <td>qingli2@andrew.cmu.edu</td>\n",
       "      <td>Success</td>\n",
       "      <td>1</td>\n",
       "      <td>qing li</td>\n",
       "    </tr>\n",
       "  </tbody>\n",
       "</table>\n",
       "</div>"
      ],
      "text/plain": [
       "   RecipientID    MemberID  engagement  UserName          Domain  \\\n",
       "0  19265625052  1558002285      0.0000  mchamanz  andrew.cmu.edu   \n",
       "1  19265625108  1558002287      0.4167   qingli2  andrew.cmu.edu   \n",
       "\n",
       "                EmailAddr_ MailingStatus  SendTry         Full Name  \n",
       "0  mchamanz@andrew.cmu.edu       Success        1  maysam chamanzar  \n",
       "1   qingli2@andrew.cmu.edu       Success        1           qing li  "
      ]
     },
     "execution_count": 4,
     "metadata": {},
     "output_type": "execute_result"
    }
   ],
   "source": [
    "temp.head(2)"
   ]
  },
  {
   "cell_type": "markdown",
   "metadata": {},
   "source": [
    "### Split by mailingstatus"
   ]
  },
  {
   "cell_type": "code",
   "execution_count": 8,
   "metadata": {},
   "outputs": [],
   "source": [
    "# find row indices that have unsuccessful mailing status\n",
    "badindex = []\n",
    "goodindex = []\n",
    "for i,j in enumerate(temp['MailingStatus']):\n",
    "    if j != 'Success':\n",
    "        badindex.append(i)\n",
    "    else:\n",
    "        goodindex.append(i)"
   ]
  },
  {
   "cell_type": "code",
   "execution_count": 9,
   "metadata": {},
   "outputs": [],
   "source": [
    "# extract the entries with failure mailing status and save the result\n",
    "b_ee_df = temp.iloc[badindex,:]\n",
    "b_ee_df.to_csv(cwd+'\\ee_delivra_failures.csv')"
   ]
  },
  {
   "cell_type": "code",
   "execution_count": 10,
   "metadata": {},
   "outputs": [],
   "source": [
    "# reset the temporary holding dataframe\n",
    "temp = temp.iloc[goodindex,:]"
   ]
  },
  {
   "cell_type": "code",
   "execution_count": 11,
   "metadata": {},
   "outputs": [
    {
     "data": {
      "text/html": [
       "<div>\n",
       "<style scoped>\n",
       "    .dataframe tbody tr th:only-of-type {\n",
       "        vertical-align: middle;\n",
       "    }\n",
       "\n",
       "    .dataframe tbody tr th {\n",
       "        vertical-align: top;\n",
       "    }\n",
       "\n",
       "    .dataframe thead th {\n",
       "        text-align: right;\n",
       "    }\n",
       "</style>\n",
       "<table border=\"1\" class=\"dataframe\">\n",
       "  <thead>\n",
       "    <tr style=\"text-align: right;\">\n",
       "      <th></th>\n",
       "      <th>RecipientID</th>\n",
       "      <th>MemberID</th>\n",
       "      <th>engagement</th>\n",
       "      <th>UserName</th>\n",
       "      <th>Domain</th>\n",
       "      <th>EmailAddr_</th>\n",
       "      <th>MailingStatus</th>\n",
       "      <th>SendTry</th>\n",
       "      <th>Full Name</th>\n",
       "    </tr>\n",
       "  </thead>\n",
       "  <tbody>\n",
       "    <tr>\n",
       "      <th>0</th>\n",
       "      <td>19265625052</td>\n",
       "      <td>1558002285</td>\n",
       "      <td>0.0000</td>\n",
       "      <td>mchamanz</td>\n",
       "      <td>andrew.cmu.edu</td>\n",
       "      <td>mchamanz@andrew.cmu.edu</td>\n",
       "      <td>Success</td>\n",
       "      <td>1</td>\n",
       "      <td>maysam chamanzar</td>\n",
       "    </tr>\n",
       "    <tr>\n",
       "      <th>1</th>\n",
       "      <td>19265625108</td>\n",
       "      <td>1558002287</td>\n",
       "      <td>0.4167</td>\n",
       "      <td>qingli2</td>\n",
       "      <td>andrew.cmu.edu</td>\n",
       "      <td>qingli2@andrew.cmu.edu</td>\n",
       "      <td>Success</td>\n",
       "      <td>1</td>\n",
       "      <td>qing li</td>\n",
       "    </tr>\n",
       "  </tbody>\n",
       "</table>\n",
       "</div>"
      ],
      "text/plain": [
       "   RecipientID    MemberID  engagement  UserName          Domain  \\\n",
       "0  19265625052  1558002285      0.0000  mchamanz  andrew.cmu.edu   \n",
       "1  19265625108  1558002287      0.4167   qingli2  andrew.cmu.edu   \n",
       "\n",
       "                EmailAddr_ MailingStatus  SendTry         Full Name  \n",
       "0  mchamanz@andrew.cmu.edu       Success        1  maysam chamanzar  \n",
       "1   qingli2@andrew.cmu.edu       Success        1           qing li  "
      ]
     },
     "metadata": {},
     "output_type": "display_data"
    }
   ],
   "source": [
    "display(temp.head(2))"
   ]
  },
  {
   "cell_type": "markdown",
   "metadata": {},
   "source": [
    "### Filtering for salesforce import"
   ]
  },
  {
   "cell_type": "code",
   "execution_count": 12,
   "metadata": {},
   "outputs": [],
   "source": [
    "# filtering for 'engagement','EmailAddr_','MailingStatus','Full Name'\n",
    "t_list = []\n",
    "t_df = pd.DataFrame() #['engagement','EmailAddr_','MailingStatus','Full Name']\n",
    "t_df['Engagement'] = temp.loc[:,'engagement']\n",
    "t_df['Email'] = temp.loc[:,'EmailAddr_']\n",
    "t_df['fullname'] = temp.loc[:,'Full Name']"
   ]
  },
  {
   "cell_type": "code",
   "execution_count": 22,
   "metadata": {},
   "outputs": [],
   "source": [
    "# split full name into first and last name\n",
    "def first_name(this_name):\n",
    "    name_list = this_name.split(' ')\n",
    "\n",
    "    return pd.Series([name_list[0]])\n",
    "\n",
    "def last_name(this_name):\n",
    "    name_list = this_name.split(' ')\n",
    "    \n",
    "    return pd.Series([name_list[-1]])\n",
    "\n",
    "\n",
    "t_df['firstname'] = t_df['fullname'].apply(first_name)\n",
    "t_df['lastname'] = t_df['fullname'].apply(last_name)\n",
    "t_df['Name'] = t_df['firstname']+' '+t_df['lastname']\n",
    "t_df['contact_type'] = 'EE2019list'\n",
    "t_df['lead_source'] = 'EE Delivra Engagement'"
   ]
  },
  {
   "cell_type": "code",
   "execution_count": 23,
   "metadata": {},
   "outputs": [
    {
     "data": {
      "text/html": [
       "<div>\n",
       "<style scoped>\n",
       "    .dataframe tbody tr th:only-of-type {\n",
       "        vertical-align: middle;\n",
       "    }\n",
       "\n",
       "    .dataframe tbody tr th {\n",
       "        vertical-align: top;\n",
       "    }\n",
       "\n",
       "    .dataframe thead th {\n",
       "        text-align: right;\n",
       "    }\n",
       "</style>\n",
       "<table border=\"1\" class=\"dataframe\">\n",
       "  <thead>\n",
       "    <tr style=\"text-align: right;\">\n",
       "      <th></th>\n",
       "      <th>Engagement</th>\n",
       "      <th>Email</th>\n",
       "      <th>fullname</th>\n",
       "      <th>firstname</th>\n",
       "      <th>lastname</th>\n",
       "      <th>Name</th>\n",
       "      <th>contact_type</th>\n",
       "      <th>lead_source</th>\n",
       "    </tr>\n",
       "  </thead>\n",
       "  <tbody>\n",
       "    <tr>\n",
       "      <th>0</th>\n",
       "      <td>0.0000</td>\n",
       "      <td>mchamanz@andrew.cmu.edu</td>\n",
       "      <td>maysam chamanzar</td>\n",
       "      <td>maysam</td>\n",
       "      <td>chamanzar</td>\n",
       "      <td>maysam chamanzar</td>\n",
       "      <td>EE2019list</td>\n",
       "      <td>EE Delivra Engagement</td>\n",
       "    </tr>\n",
       "    <tr>\n",
       "      <th>1</th>\n",
       "      <td>0.4167</td>\n",
       "      <td>qingli2@andrew.cmu.edu</td>\n",
       "      <td>qing li</td>\n",
       "      <td>qing</td>\n",
       "      <td>li</td>\n",
       "      <td>qing li</td>\n",
       "      <td>EE2019list</td>\n",
       "      <td>EE Delivra Engagement</td>\n",
       "    </tr>\n",
       "  </tbody>\n",
       "</table>\n",
       "</div>"
      ],
      "text/plain": [
       "   Engagement                    Email          fullname firstname   lastname  \\\n",
       "0      0.0000  mchamanz@andrew.cmu.edu  maysam chamanzar    maysam  chamanzar   \n",
       "1      0.4167   qingli2@andrew.cmu.edu           qing li      qing         li   \n",
       "\n",
       "               Name contact_type            lead_source  \n",
       "0  maysam chamanzar   EE2019list  EE Delivra Engagement  \n",
       "1           qing li   EE2019list  EE Delivra Engagement  "
      ]
     },
     "metadata": {},
     "output_type": "display_data"
    },
    {
     "data": {
      "text/html": [
       "<div>\n",
       "<style scoped>\n",
       "    .dataframe tbody tr th:only-of-type {\n",
       "        vertical-align: middle;\n",
       "    }\n",
       "\n",
       "    .dataframe tbody tr th {\n",
       "        vertical-align: top;\n",
       "    }\n",
       "\n",
       "    .dataframe thead th {\n",
       "        text-align: right;\n",
       "    }\n",
       "</style>\n",
       "<table border=\"1\" class=\"dataframe\">\n",
       "  <thead>\n",
       "    <tr style=\"text-align: right;\">\n",
       "      <th></th>\n",
       "      <th>Engagement</th>\n",
       "      <th>Email</th>\n",
       "      <th>fullname</th>\n",
       "      <th>firstname</th>\n",
       "      <th>lastname</th>\n",
       "      <th>Name</th>\n",
       "      <th>contact_type</th>\n",
       "      <th>lead_source</th>\n",
       "    </tr>\n",
       "  </thead>\n",
       "  <tbody>\n",
       "    <tr>\n",
       "      <th>463</th>\n",
       "      <td>0.4167</td>\n",
       "      <td>mark.reed@yale.edu</td>\n",
       "      <td>mark a</td>\n",
       "      <td>mark</td>\n",
       "      <td>a</td>\n",
       "      <td>mark a</td>\n",
       "      <td>EE2019list</td>\n",
       "      <td>EE Delivra Engagement</td>\n",
       "    </tr>\n",
       "    <tr>\n",
       "      <th>464</th>\n",
       "      <td>0.8333</td>\n",
       "      <td>zypman@yu.edu</td>\n",
       "      <td>fredy zypman</td>\n",
       "      <td>fredy</td>\n",
       "      <td>zypman</td>\n",
       "      <td>fredy zypman</td>\n",
       "      <td>EE2019list</td>\n",
       "      <td>EE Delivra Engagement</td>\n",
       "    </tr>\n",
       "  </tbody>\n",
       "</table>\n",
       "</div>"
      ],
      "text/plain": [
       "     Engagement               Email      fullname firstname lastname  \\\n",
       "463      0.4167  mark.reed@yale.edu        mark a      mark        a   \n",
       "464      0.8333       zypman@yu.edu  fredy zypman     fredy   zypman   \n",
       "\n",
       "             Name contact_type            lead_source  \n",
       "463        mark a   EE2019list  EE Delivra Engagement  \n",
       "464  fredy zypman   EE2019list  EE Delivra Engagement  "
      ]
     },
     "metadata": {},
     "output_type": "display_data"
    }
   ],
   "source": [
    "display(t_df.head(2))\n",
    "display(t_df.tail(2))"
   ]
  },
  {
   "cell_type": "code",
   "execution_count": null,
   "metadata": {},
   "outputs": [],
   "source": []
  },
  {
   "cell_type": "markdown",
   "metadata": {},
   "source": [
    "## Import salesforce contacts - filter the data for contacts and leads"
   ]
  },
  {
   "cell_type": "code",
   "execution_count": 15,
   "metadata": {},
   "outputs": [
    {
     "name": "stdout",
     "output_type": "stream",
     "text": [
      "Obtained Salesforce access token ...... True\n"
     ]
    }
   ],
   "source": [
    "# Obtain contacts metadata from Salesforce\n",
    "from DB2SalesforceAPI import DB2SalesforceAPI\n",
    "\n",
    "# create DB2 to Salesforce API object\n",
    "db_s = DB2SalesforceAPI(sf_login_params)\n",
    "\n",
    "# specify Salesforce object ID and external ID\n",
    "contact_metadata = db_s.get_obj_metadata('Contact')"
   ]
  },
  {
   "cell_type": "code",
   "execution_count": 16,
   "metadata": {},
   "outputs": [
    {
     "name": "stdout",
     "output_type": "stream",
     "text": [
      "True\n"
     ]
    },
    {
     "data": {
      "text/plain": [
       "['Type',\n",
       " 'nanoHUB_user_ID',\n",
       " 'nanoHUB_username',\n",
       " 'Organization_Type',\n",
       " 'nanoHUB_registration_date']"
      ]
     },
     "metadata": {},
     "output_type": "display_data"
    }
   ],
   "source": [
    "import json\n",
    "\n",
    "# get all fields\n",
    "field_list = json.loads(contact_metadata)['fields']\n",
    "\n",
    "# list of available field API names\n",
    "available_fields = list()\n",
    "\n",
    "for this_field in field_list:\n",
    "    this_name = this_field['name']\n",
    "    \n",
    "    if 'Name' == this_name:\n",
    "        print(True)\n",
    "    \n",
    "    if len(this_name) > 3:\n",
    "        if this_name[-3:] == '__c':\n",
    "            # this is a custom-made field\n",
    "            available_fields.append(this_name[:-3])\n",
    "            \n",
    "# display\n",
    "display(available_fields[:5])"
   ]
  },
  {
   "cell_type": "code",
   "execution_count": 17,
   "metadata": {},
   "outputs": [
    {
     "name": "stdout",
     "output_type": "stream",
     "text": [
      "[Success] Bulk job creation successful. Job ID = 7505w00000O5R17AAF\n",
      "{\"id\":\"7505w00000O5R17AAF\",\"operation\":\"query\",\"object\":\"Contact\",\"createdById\":\"0055w00000DM5bOAAT\",\"createdDate\":\"2020-07-22T19:41:56.000+0000\",\"systemModstamp\":\"2020-07-22T19:41:57.000+0000\",\"state\":\"UploadComplete\",\"concurrencyMode\":\"Parallel\",\"contentType\":\"CSV\",\"apiVersion\":47.0,\"jobType\":\"V2Query\",\"lineEnding\":\"LF\",\"columnDelimiter\":\"COMMA\",\"retries\":0,\"totalProcessingTime\":0}\n",
      "{\"id\":\"7505w00000O5R17AAF\",\"operation\":\"query\",\"object\":\"Contact\",\"createdById\":\"0055w00000DM5bOAAT\",\"createdDate\":\"2020-07-22T19:41:56.000+0000\",\"systemModstamp\":\"2020-07-22T19:41:58.000+0000\",\"state\":\"InProgress\",\"concurrencyMode\":\"Parallel\",\"contentType\":\"CSV\",\"apiVersion\":47.0,\"jobType\":\"V2Query\",\"lineEnding\":\"LF\",\"columnDelimiter\":\"COMMA\",\"numberRecordsProcessed\":0,\"retries\":0,\"totalProcessingTime\":0}\n",
      "{\"id\":\"7505w00000O5R17AAF\",\"operation\":\"query\",\"object\":\"Contact\",\"createdById\":\"0055w00000DM5bOAAT\",\"createdDate\":\"2020-07-22T19:41:56.000+0000\",\"systemModstamp\":\"2020-07-22T19:41:58.000+0000\",\"state\":\"InProgress\",\"concurrencyMode\":\"Parallel\",\"contentType\":\"CSV\",\"apiVersion\":47.0,\"jobType\":\"V2Query\",\"lineEnding\":\"LF\",\"columnDelimiter\":\"COMMA\",\"numberRecordsProcessed\":0,\"retries\":0,\"totalProcessingTime\":0}\n",
      "{\"id\":\"7505w00000O5R17AAF\",\"operation\":\"query\",\"object\":\"Contact\",\"createdById\":\"0055w00000DM5bOAAT\",\"createdDate\":\"2020-07-22T19:41:56.000+0000\",\"systemModstamp\":\"2020-07-22T19:41:58.000+0000\",\"state\":\"InProgress\",\"concurrencyMode\":\"Parallel\",\"contentType\":\"CSV\",\"apiVersion\":47.0,\"jobType\":\"V2Query\",\"lineEnding\":\"LF\",\"columnDelimiter\":\"COMMA\",\"numberRecordsProcessed\":0,\"retries\":0,\"totalProcessingTime\":0}\n",
      "{\"id\":\"7505w00000O5R17AAF\",\"operation\":\"query\",\"object\":\"Contact\",\"createdById\":\"0055w00000DM5bOAAT\",\"createdDate\":\"2020-07-22T19:41:56.000+0000\",\"systemModstamp\":\"2020-07-22T19:42:29.000+0000\",\"state\":\"JobComplete\",\"concurrencyMode\":\"Parallel\",\"contentType\":\"CSV\",\"apiVersion\":47.0,\"jobType\":\"V2Query\",\"lineEnding\":\"LF\",\"columnDelimiter\":\"COMMA\",\"numberRecordsProcessed\":218085,\"retries\":0,\"totalProcessingTime\":8465}\n",
      "[Success] Bulk job completed successfully.\n"
     ]
    }
   ],
   "source": [
    "# salesforce queries for contact data\n",
    "sf_contact_email_df = db_s.query_data('SELECT Id, Email FROM Contact')"
   ]
  },
  {
   "cell_type": "code",
   "execution_count": 18,
   "metadata": {},
   "outputs": [
    {
     "data": {
      "text/html": [
       "<div>\n",
       "<style scoped>\n",
       "    .dataframe tbody tr th:only-of-type {\n",
       "        vertical-align: middle;\n",
       "    }\n",
       "\n",
       "    .dataframe tbody tr th {\n",
       "        vertical-align: top;\n",
       "    }\n",
       "\n",
       "    .dataframe thead th {\n",
       "        text-align: right;\n",
       "    }\n",
       "</style>\n",
       "<table border=\"1\" class=\"dataframe\">\n",
       "  <thead>\n",
       "    <tr style=\"text-align: right;\">\n",
       "      <th></th>\n",
       "      <th>Email</th>\n",
       "      <th>Id</th>\n",
       "    </tr>\n",
       "  </thead>\n",
       "  <tbody>\n",
       "    <tr>\n",
       "      <th>0</th>\n",
       "      <td>nkissebe@gmail.com</td>\n",
       "      <td>0035w000031Vsp1AAC</td>\n",
       "    </tr>\n",
       "    <tr>\n",
       "      <th>1</th>\n",
       "      <td>support@nanohub.org</td>\n",
       "      <td>0035w000031Vsp2AAC</td>\n",
       "    </tr>\n",
       "  </tbody>\n",
       "</table>\n",
       "</div>"
      ],
      "text/plain": [
       "                 Email                  Id\n",
       "0   nkissebe@gmail.com  0035w000031Vsp1AAC\n",
       "1  support@nanohub.org  0035w000031Vsp2AAC"
      ]
     },
     "execution_count": 18,
     "metadata": {},
     "output_type": "execute_result"
    }
   ],
   "source": [
    "sf_contact_email_df.head(2)"
   ]
  },
  {
   "cell_type": "code",
   "execution_count": 24,
   "metadata": {},
   "outputs": [],
   "source": [
    "# basically, if their email already exists as a contact, then drop them\n",
    "contact_index = []\n",
    "sf_id_contact = []\n",
    "lead_index = []\n",
    "\n",
    "sf_contacts = sf_contact_email_df['Email'].tolist()\n",
    "for i,j in enumerate(t_df['Email']):\n",
    "    if j in sf_contacts:\n",
    "        contact_index.append(i)\n",
    "        sf_id_contact.append(sf_contacts.index(j))\n",
    "    else:\n",
    "        lead_index.append(i)\n"
   ]
  },
  {
   "cell_type": "code",
   "execution_count": 25,
   "metadata": {},
   "outputs": [],
   "source": [
    "# for contacts, update their contacts page\n",
    "contacts_df = pd.DataFrame()\n",
    "contacts_df['Engagement__c'] = t_df['Engagement']\n",
    "contacts_df['LeadSource'] = t_df['lead_source']\n",
    "contacts_df['Email'] = t_df['Email']\n",
    "\n",
    "contacts_df = contacts_df.iloc[contact_index,:]\n",
    "contacts_df = contacts_df.reset_index(drop=True)\n",
    "\n",
    "ttc = sf_contact_email_df['Id'][sf_id_contact]\n",
    "ttc = ttc.reset_index(drop=True)\n",
    "contacts_df['Id'] = ttc\n"
   ]
  },
  {
   "cell_type": "code",
   "execution_count": 26,
   "metadata": {},
   "outputs": [
    {
     "data": {
      "text/html": [
       "<div>\n",
       "<style scoped>\n",
       "    .dataframe tbody tr th:only-of-type {\n",
       "        vertical-align: middle;\n",
       "    }\n",
       "\n",
       "    .dataframe tbody tr th {\n",
       "        vertical-align: top;\n",
       "    }\n",
       "\n",
       "    .dataframe thead th {\n",
       "        text-align: right;\n",
       "    }\n",
       "</style>\n",
       "<table border=\"1\" class=\"dataframe\">\n",
       "  <thead>\n",
       "    <tr style=\"text-align: right;\">\n",
       "      <th></th>\n",
       "      <th>Engagement__c</th>\n",
       "      <th>LeadSource</th>\n",
       "      <th>Email</th>\n",
       "      <th>Id</th>\n",
       "    </tr>\n",
       "  </thead>\n",
       "  <tbody>\n",
       "    <tr>\n",
       "      <th>0</th>\n",
       "      <td>0.4167</td>\n",
       "      <td>EE Delivra Engagement</td>\n",
       "      <td>stephen.goodnick@asu.edu</td>\n",
       "      <td>0035w000034JKc2AAG</td>\n",
       "    </tr>\n",
       "    <tr>\n",
       "      <th>1</th>\n",
       "      <td>0.4167</td>\n",
       "      <td>EE Delivra Engagement</td>\n",
       "      <td>t.thornton@asu.edu</td>\n",
       "      <td>0035w000034Joy5AAC</td>\n",
       "    </tr>\n",
       "  </tbody>\n",
       "</table>\n",
       "</div>"
      ],
      "text/plain": [
       "   Engagement__c             LeadSource                     Email  \\\n",
       "0         0.4167  EE Delivra Engagement  stephen.goodnick@asu.edu   \n",
       "1         0.4167  EE Delivra Engagement        t.thornton@asu.edu   \n",
       "\n",
       "                   Id  \n",
       "0  0035w000034JKc2AAG  \n",
       "1  0035w000034Joy5AAC  "
      ]
     },
     "execution_count": 26,
     "metadata": {},
     "output_type": "execute_result"
    }
   ],
   "source": [
    "contacts_df.head(2)"
   ]
  },
  {
   "cell_type": "code",
   "execution_count": 31,
   "metadata": {},
   "outputs": [
    {
     "data": {
      "text/html": [
       "<div>\n",
       "<style scoped>\n",
       "    .dataframe tbody tr th:only-of-type {\n",
       "        vertical-align: middle;\n",
       "    }\n",
       "\n",
       "    .dataframe tbody tr th {\n",
       "        vertical-align: top;\n",
       "    }\n",
       "\n",
       "    .dataframe thead th {\n",
       "        text-align: right;\n",
       "    }\n",
       "</style>\n",
       "<table border=\"1\" class=\"dataframe\">\n",
       "  <thead>\n",
       "    <tr style=\"text-align: right;\">\n",
       "      <th></th>\n",
       "      <th>Name</th>\n",
       "      <th>Email</th>\n",
       "      <th>Engagement__c</th>\n",
       "      <th>LeadSource</th>\n",
       "      <th>Contact_Type__c</th>\n",
       "    </tr>\n",
       "  </thead>\n",
       "  <tbody>\n",
       "    <tr>\n",
       "      <th>0</th>\n",
       "      <td>maysam chamanzar</td>\n",
       "      <td>mchamanz@andrew.cmu.edu</td>\n",
       "      <td>0.0000</td>\n",
       "      <td>EE Delivra Engagement</td>\n",
       "      <td>EE2019list</td>\n",
       "    </tr>\n",
       "    <tr>\n",
       "      <th>1</th>\n",
       "      <td>qing li</td>\n",
       "      <td>qingli2@andrew.cmu.edu</td>\n",
       "      <td>0.4167</td>\n",
       "      <td>EE Delivra Engagement</td>\n",
       "      <td>EE2019list</td>\n",
       "    </tr>\n",
       "  </tbody>\n",
       "</table>\n",
       "</div>"
      ],
      "text/plain": [
       "               Name                    Email  Engagement__c  \\\n",
       "0  maysam chamanzar  mchamanz@andrew.cmu.edu         0.0000   \n",
       "1           qing li   qingli2@andrew.cmu.edu         0.4167   \n",
       "\n",
       "              LeadSource Contact_Type__c  \n",
       "0  EE Delivra Engagement      EE2019list  \n",
       "1  EE Delivra Engagement      EE2019list  "
      ]
     },
     "metadata": {},
     "output_type": "display_data"
    }
   ],
   "source": [
    "# for leads, create lead_df\n",
    "lead_df = pd.DataFrame()\n",
    "lead_df['Name'] = t_df['Name']\n",
    "lead_df['Email'] = t_df['Email']\n",
    "lead_df['Engagement__c'] = t_df['Engagement']\n",
    "lead_df['LeadSource'] = t_df['lead_source']\n",
    "lead_df['Contact_Type__c'] = t_df['contact_type']\n",
    "lead_df = lead_df.reset_index(drop=True)\n",
    "display(lead_df.head(2))"
   ]
  },
  {
   "cell_type": "code",
   "execution_count": null,
   "metadata": {},
   "outputs": [],
   "source": []
  },
  {
   "cell_type": "markdown",
   "metadata": {},
   "source": [
    "## Match data with Salesforce format [CONTACTS]"
   ]
  },
  {
   "cell_type": "code",
   "execution_count": 32,
   "metadata": {},
   "outputs": [
    {
     "name": "stdout",
     "output_type": "stream",
     "text": [
      "Obtained Salesforce access token ...... True\n"
     ]
    }
   ],
   "source": [
    "external_id = 'Id'\n",
    "object_id = 'Contact'\n",
    "\n",
    "# create DB2 to Salesforce API object\n",
    "db_s = DB2SalesforceAPI(sf_login_params)\n",
    "\n",
    "# specify Salesforce object ID and external ID\n",
    "db_s.object_id = object_id \n",
    "db_s.external_id = external_id"
   ]
  },
  {
   "cell_type": "code",
   "execution_count": 33,
   "metadata": {},
   "outputs": [
    {
     "name": "stdout",
     "output_type": "stream",
     "text": [
      "[Success] Bulk job creation successful. Job ID = 7505w00000O5QyxAAF\n",
      "hello\n",
      "[Success] CSV upload successful. Job ID = 7505w00000O5QyxAAF\n",
      "[Success] Closing job successful. Job ID = 7505w00000O5QyxAAF\n"
     ]
    }
   ],
   "source": [
    "db_s.send_data(contacts_df)"
   ]
  },
  {
   "cell_type": "code",
   "execution_count": 34,
   "metadata": {},
   "outputs": [
    {
     "data": {
      "text/plain": [
       "{'id': '7505w00000O5QyxAAF',\n",
       " 'operation': 'upsert',\n",
       " 'object': 'Contact',\n",
       " 'createdById': '0055w00000DM5bOAAT',\n",
       " 'createdDate': '2020-07-22T19:50:29.000+0000',\n",
       " 'systemModstamp': '2020-07-22T19:50:30.000+0000',\n",
       " 'state': 'UploadComplete',\n",
       " 'externalIdFieldName': 'Id',\n",
       " 'concurrencyMode': 'Parallel',\n",
       " 'contentType': 'CSV',\n",
       " 'apiVersion': 47.0,\n",
       " 'jobType': 'V2Ingest',\n",
       " 'lineEnding': 'LF',\n",
       " 'columnDelimiter': 'COMMA',\n",
       " 'numberRecordsProcessed': 0,\n",
       " 'numberRecordsFailed': 0,\n",
       " 'retries': 0,\n",
       " 'totalProcessingTime': 0,\n",
       " 'apiActiveProcessingTime': 0,\n",
       " 'apexProcessingTime': 0}"
      ]
     },
     "execution_count": 34,
     "metadata": {},
     "output_type": "execute_result"
    }
   ],
   "source": [
    "# check status\n",
    "db_s.check_bulk_status()"
   ]
  },
  {
   "cell_type": "code",
   "execution_count": 35,
   "metadata": {},
   "outputs": [
    {
     "name": "stdout",
     "output_type": "stream",
     "text": [
      "''\n"
     ]
    }
   ],
   "source": [
    "# check status\n",
    "from pprint import pprint\n",
    "\n",
    "pprint(db_s.check_bulk_failed_results())"
   ]
  },
  {
   "cell_type": "code",
   "execution_count": null,
   "metadata": {},
   "outputs": [],
   "source": []
  },
  {
   "cell_type": "markdown",
   "metadata": {},
   "source": [
    "## Match data with Salesforce format [LEADS]"
   ]
  },
  {
   "cell_type": "code",
   "execution_count": 36,
   "metadata": {},
   "outputs": [
    {
     "name": "stdout",
     "output_type": "stream",
     "text": [
      "Obtained Salesforce access token ...... True\n"
     ]
    }
   ],
   "source": [
    "external_id = 'Email'\n",
    "object_id = 'Lead'\n",
    "# create DB2 to Salesforce API object\n",
    "db_s = DB2SalesforceAPI(sf_login_params)\n",
    "\n",
    "# specify Salesforce object ID and external ID\n",
    "db_s.object_id = object_id \n",
    "db_s.external_id = external_id"
   ]
  },
  {
   "cell_type": "code",
   "execution_count": 39,
   "metadata": {},
   "outputs": [
    {
     "name": "stdout",
     "output_type": "stream",
     "text": [
      "[Success] Bulk job creation successful. Job ID = 7505w00000O5R4LAAV\n",
      "hello\n",
      "[Success] CSV upload successful. Job ID = 7505w00000O5R4LAAV\n",
      "[Success] Closing job successful. Job ID = 7505w00000O5R4LAAV\n"
     ]
    }
   ],
   "source": [
    "db_s.send_data(lead_df)"
   ]
  },
  {
   "cell_type": "code",
   "execution_count": 40,
   "metadata": {},
   "outputs": [
    {
     "data": {
      "text/plain": [
       "{'id': '7505w00000O5R4LAAV',\n",
       " 'operation': 'upsert',\n",
       " 'object': 'Lead',\n",
       " 'createdById': '0055w00000DM5bOAAT',\n",
       " 'createdDate': '2020-07-22T19:53:39.000+0000',\n",
       " 'systemModstamp': '2020-07-22T19:53:40.000+0000',\n",
       " 'state': 'UploadComplete',\n",
       " 'externalIdFieldName': 'Email',\n",
       " 'concurrencyMode': 'Parallel',\n",
       " 'contentType': 'CSV',\n",
       " 'apiVersion': 47.0,\n",
       " 'jobType': 'V2Ingest',\n",
       " 'lineEnding': 'LF',\n",
       " 'columnDelimiter': 'COMMA',\n",
       " 'numberRecordsProcessed': 0,\n",
       " 'numberRecordsFailed': 0,\n",
       " 'retries': 0,\n",
       " 'totalProcessingTime': 0,\n",
       " 'apiActiveProcessingTime': 0,\n",
       " 'apexProcessingTime': 0}"
      ]
     },
     "execution_count": 40,
     "metadata": {},
     "output_type": "execute_result"
    }
   ],
   "source": [
    "# check status\n",
    "db_s.check_bulk_status()"
   ]
  },
  {
   "cell_type": "code",
   "execution_count": 41,
   "metadata": {},
   "outputs": [
    {
     "name": "stdout",
     "output_type": "stream",
     "text": [
      "''\n"
     ]
    }
   ],
   "source": [
    "# check status\n",
    "from pprint import pprint\n",
    "\n",
    "pprint(db_s.check_bulk_failed_results())"
   ]
  },
  {
   "cell_type": "code",
   "execution_count": null,
   "metadata": {},
   "outputs": [],
   "source": []
  }
 ],
 "metadata": {
  "kernelspec": {
   "display_name": "Python 3",
   "language": "python",
   "name": "python3"
  },
  "language_info": {
   "codemirror_mode": {
    "name": "ipython",
    "version": 3
   },
   "file_extension": ".py",
   "mimetype": "text/x-python",
   "name": "python",
   "nbconvert_exporter": "python",
   "pygments_lexer": "ipython3",
   "version": "3.7.6"
  }
 },
 "nbformat": 4,
 "nbformat_minor": 4
}
