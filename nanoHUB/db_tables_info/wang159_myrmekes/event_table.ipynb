{
 "cells": [
  {
   "cell_type": "markdown",
   "id": "e0802f52-21af-4dde-805a-949fa8f50f16",
   "metadata": {
    "tags": []
   },
   "source": [
    "##### Author: Praveen Saxena\n",
    "##### Email: saxep01@gmail.com\n",
    "##### Create Date: 7/24/2021\n",
    "##### Purpose: Analyze the table _**event\\_table**_ in database _**wang159\\_myrmekes**_."
   ]
  },
  {
   "cell_type": "markdown",
   "id": "a0169619-0d0f-4ee2-a6ec-891239222060",
   "metadata": {},
   "source": [
    "--------------------"
   ]
  },
  {
   "cell_type": "markdown",
   "id": "176c4f11-0bec-4ada-b616-f0d380b0c7c5",
   "metadata": {},
   "source": [
    "# Input"
   ]
  },
  {
   "cell_type": "code",
   "execution_count": 1,
   "id": "8677569b-843e-411b-9610-c47ec0503e50",
   "metadata": {},
   "outputs": [],
   "source": [
    "database = 'wang159_myrmekes'\n",
    "table = 'event_table'"
   ]
  },
  {
   "cell_type": "code",
   "execution_count": 2,
   "id": "3f2196cf-e0eb-4cd7-afc7-cb632d78c126",
   "metadata": {},
   "outputs": [
    {
     "name": "stdout",
     "output_type": "stream",
     "text": [
      "wang159_myrmekes.event_table\n"
     ]
    }
   ],
   "source": [
    "db_table = \"%s.%s\" % (database, table)\n",
    "print(db_table)"
   ]
  },
  {
   "cell_type": "markdown",
   "id": "29ef9802-bfc2-4422-905e-b955e2a8a646",
   "metadata": {},
   "source": [
    "--------------------"
   ]
  },
  {
   "cell_type": "markdown",
   "id": "010873a3-8fee-4150-9231-30209da9107c",
   "metadata": {},
   "source": [
    "# Preliminaries"
   ]
  },
  {
   "cell_type": "code",
   "execution_count": 3,
   "id": "aab3d33d-3b0a-497d-ae7a-d1b78d172f71",
   "metadata": {},
   "outputs": [],
   "source": [
    "%%capture \n",
    "\n",
    "import pandas as pd\n",
    "from pprint import pprint\n",
    "from IPython.display import display, Markdown\n",
    "import os\n",
    "\n",
    "from nanoHUB.application import Application\n",
    "\n",
    "application = Application.get_instance()\n",
    "engine = application.new_db_engine(database)"
   ]
  },
  {
   "cell_type": "markdown",
   "id": "cce7c003-723b-4fef-9e3c-badea49b0bc7",
   "metadata": {},
   "source": [
    "--------------------"
   ]
  },
  {
   "cell_type": "markdown",
   "id": "acd1fe5c-1ca7-44b0-b8bf-c593b46c8ca5",
   "metadata": {
    "tags": []
   },
   "source": [
    "# Table Information"
   ]
  },
  {
   "cell_type": "markdown",
   "id": "9791656f-0343-4feb-b618-816450f71657",
   "metadata": {
    "tags": []
   },
   "source": [
    "## Table Indexes"
   ]
  },
  {
   "cell_type": "code",
   "execution_count": 5,
   "id": "8de88577-d5be-4bb2-b308-ab535e409175",
   "metadata": {},
   "outputs": [
    {
     "data": {
      "text/html": [
       "<div>\n",
       "<style scoped>\n",
       "    .dataframe tbody tr th:only-of-type {\n",
       "        vertical-align: middle;\n",
       "    }\n",
       "\n",
       "    .dataframe tbody tr th {\n",
       "        vertical-align: top;\n",
       "    }\n",
       "\n",
       "    .dataframe thead th {\n",
       "        text-align: right;\n",
       "    }\n",
       "</style>\n",
       "<table border=\"1\" class=\"dataframe\">\n",
       "  <thead>\n",
       "    <tr style=\"text-align: right;\">\n",
       "      <th></th>\n",
       "      <th>Table</th>\n",
       "      <th>Non_unique</th>\n",
       "      <th>Key_name</th>\n",
       "      <th>Seq_in_index</th>\n",
       "      <th>Column_name</th>\n",
       "      <th>Collation</th>\n",
       "      <th>Cardinality</th>\n",
       "      <th>Sub_part</th>\n",
       "      <th>Packed</th>\n",
       "      <th>Null</th>\n",
       "      <th>Index_type</th>\n",
       "      <th>Comment</th>\n",
       "      <th>Index_comment</th>\n",
       "    </tr>\n",
       "  </thead>\n",
       "  <tbody>\n",
       "  </tbody>\n",
       "</table>\n",
       "</div>"
      ],
      "text/plain": [
       "Empty DataFrame\n",
       "Columns: [Table, Non_unique, Key_name, Seq_in_index, Column_name, Collation, Cardinality, Sub_part, Packed, Null, Index_type, Comment, Index_comment]\n",
       "Index: []"
      ]
     },
     "metadata": {},
     "output_type": "display_data"
    }
   ],
   "source": [
    "sql = '''\n",
    "SHOW INDEX FROM %s; \n",
    "'''\n",
    "\n",
    "df = pd.read_sql(sql % db_table, engine)\n",
    "display(df)"
   ]
  },
  {
   "cell_type": "markdown",
   "id": "b93cf7bd-8ddd-4b17-94fd-d328a033c271",
   "metadata": {
    "tags": []
   },
   "source": [
    "## Table Columns"
   ]
  },
  {
   "cell_type": "code",
   "execution_count": 6,
   "id": "33b7e6b8-7310-4d3a-b524-64b9e5ca283c",
   "metadata": {},
   "outputs": [
    {
     "data": {
      "text/html": [
       "<div>\n",
       "<style scoped>\n",
       "    .dataframe tbody tr th:only-of-type {\n",
       "        vertical-align: middle;\n",
       "    }\n",
       "\n",
       "    .dataframe tbody tr th {\n",
       "        vertical-align: top;\n",
       "    }\n",
       "\n",
       "    .dataframe thead th {\n",
       "        text-align: right;\n",
       "    }\n",
       "</style>\n",
       "<table border=\"1\" class=\"dataframe\">\n",
       "  <thead>\n",
       "    <tr style=\"text-align: right;\">\n",
       "      <th></th>\n",
       "      <th>Field</th>\n",
       "      <th>Type</th>\n",
       "      <th>Collation</th>\n",
       "      <th>Null</th>\n",
       "      <th>Key</th>\n",
       "      <th>Default</th>\n",
       "      <th>Extra</th>\n",
       "      <th>Privileges</th>\n",
       "      <th>Comment</th>\n",
       "    </tr>\n",
       "  </thead>\n",
       "  <tbody>\n",
       "    <tr>\n",
       "      <th>0</th>\n",
       "      <td>start_datetime</td>\n",
       "      <td>datetime</td>\n",
       "      <td>None</td>\n",
       "      <td>YES</td>\n",
       "      <td></td>\n",
       "      <td>None</td>\n",
       "      <td></td>\n",
       "      <td>select</td>\n",
       "      <td></td>\n",
       "    </tr>\n",
       "    <tr>\n",
       "      <th>1</th>\n",
       "      <td>end_datetime</td>\n",
       "      <td>datetime</td>\n",
       "      <td>None</td>\n",
       "      <td>YES</td>\n",
       "      <td></td>\n",
       "      <td>None</td>\n",
       "      <td></td>\n",
       "      <td>select</td>\n",
       "      <td></td>\n",
       "    </tr>\n",
       "    <tr>\n",
       "      <th>2</th>\n",
       "      <td>timeline_domain</td>\n",
       "      <td>varchar(100)</td>\n",
       "      <td>latin1_swedish_ci</td>\n",
       "      <td>YES</td>\n",
       "      <td></td>\n",
       "      <td>None</td>\n",
       "      <td></td>\n",
       "      <td>select</td>\n",
       "      <td></td>\n",
       "    </tr>\n",
       "    <tr>\n",
       "      <th>3</th>\n",
       "      <td>timeline_label</td>\n",
       "      <td>varchar(100)</td>\n",
       "      <td>latin1_swedish_ci</td>\n",
       "      <td>YES</td>\n",
       "      <td></td>\n",
       "      <td>None</td>\n",
       "      <td></td>\n",
       "      <td>select</td>\n",
       "      <td></td>\n",
       "    </tr>\n",
       "    <tr>\n",
       "      <th>4</th>\n",
       "      <td>id_nanohub</td>\n",
       "      <td>varchar(100)</td>\n",
       "      <td>latin1_swedish_ci</td>\n",
       "      <td>YES</td>\n",
       "      <td></td>\n",
       "      <td>None</td>\n",
       "      <td></td>\n",
       "      <td>select</td>\n",
       "      <td></td>\n",
       "    </tr>\n",
       "  </tbody>\n",
       "</table>\n",
       "</div>"
      ],
      "text/plain": [
       "             Field          Type          Collation Null Key Default Extra  \\\n",
       "0   start_datetime      datetime               None  YES        None         \n",
       "1     end_datetime      datetime               None  YES        None         \n",
       "2  timeline_domain  varchar(100)  latin1_swedish_ci  YES        None         \n",
       "3   timeline_label  varchar(100)  latin1_swedish_ci  YES        None         \n",
       "4       id_nanohub  varchar(100)  latin1_swedish_ci  YES        None         \n",
       "\n",
       "  Privileges Comment  \n",
       "0     select          \n",
       "1     select          \n",
       "2     select          \n",
       "3     select          \n",
       "4     select          "
      ]
     },
     "metadata": {},
     "output_type": "display_data"
    }
   ],
   "source": [
    "sql = '''\n",
    "SHOW FULL COLUMNS FROM %s;\n",
    "'''\n",
    "df = pd.read_sql(sql % db_table, engine)\n",
    "display(df.head())"
   ]
  },
  {
   "cell_type": "markdown",
   "id": "fdb4babd-642b-4ef0-9535-9f1359c5cfef",
   "metadata": {},
   "source": [
    "--------------------"
   ]
  },
  {
   "cell_type": "markdown",
   "id": "e8bd8e20-a1a0-4d2a-b0ab-8b4e3fd07621",
   "metadata": {},
   "source": [
    "# Data Information"
   ]
  },
  {
   "cell_type": "markdown",
   "id": "9a603671-98ab-40d3-8dfe-727e0515b1e5",
   "metadata": {
    "tags": []
   },
   "source": [
    "## Data Query"
   ]
  },
  {
   "cell_type": "code",
   "execution_count": 7,
   "id": "ecf55eb0-4801-4bf4-900a-f99eca0d0a89",
   "metadata": {},
   "outputs": [],
   "source": [
    "sql = '''\n",
    "SELECT *\n",
    "    FROM %s\n",
    "LIMIT 100;\n",
    "'''\n",
    "df = pd.read_sql(sql % db_table, engine)"
   ]
  },
  {
   "cell_type": "markdown",
   "id": "1f966f70-8670-493b-9f8c-75641638270a",
   "metadata": {},
   "source": [
    "## Data Info"
   ]
  },
  {
   "cell_type": "code",
   "execution_count": 8,
   "id": "16d56e6e-744b-4aba-94be-95fccb7c7c16",
   "metadata": {},
   "outputs": [
    {
     "name": "stdout",
     "output_type": "stream",
     "text": [
      "<class 'pandas.core.frame.DataFrame'>\n",
      "RangeIndex: 100 entries, 0 to 99\n",
      "Data columns (total 7 columns):\n",
      " #   Column           Non-Null Count  Dtype         \n",
      "---  ------           --------------  -----         \n",
      " 0   start_datetime   100 non-null    datetime64[ns]\n",
      " 1   end_datetime     100 non-null    datetime64[ns]\n",
      " 2   timeline_domain  100 non-null    object        \n",
      " 3   timeline_label   100 non-null    object        \n",
      " 4   id_nanohub       100 non-null    object        \n",
      " 5   id_email         100 non-null    object        \n",
      " 6   id_hubspot       100 non-null    object        \n",
      "dtypes: datetime64[ns](2), object(5)\n",
      "memory usage: 5.6+ KB\n"
     ]
    },
    {
     "data": {
      "text/plain": [
       "None"
      ]
     },
     "metadata": {},
     "output_type": "display_data"
    }
   ],
   "source": [
    "display(df.info())"
   ]
  },
  {
   "cell_type": "markdown",
   "id": "3abd03c0-68e2-4e72-a849-372780a9bdab",
   "metadata": {},
   "source": [
    "## Data Values"
   ]
  },
  {
   "cell_type": "code",
   "execution_count": 9,
   "id": "36d483d7-a3c4-467e-a853-dcd4ccee746c",
   "metadata": {},
   "outputs": [
    {
     "data": {
      "text/html": [
       "<div>\n",
       "<style scoped>\n",
       "    .dataframe tbody tr th:only-of-type {\n",
       "        vertical-align: middle;\n",
       "    }\n",
       "\n",
       "    .dataframe tbody tr th {\n",
       "        vertical-align: top;\n",
       "    }\n",
       "\n",
       "    .dataframe thead th {\n",
       "        text-align: right;\n",
       "    }\n",
       "</style>\n",
       "<table border=\"1\" class=\"dataframe\">\n",
       "  <thead>\n",
       "    <tr style=\"text-align: right;\">\n",
       "      <th></th>\n",
       "      <th>start_datetime</th>\n",
       "      <th>end_datetime</th>\n",
       "      <th>timeline_domain</th>\n",
       "      <th>timeline_label</th>\n",
       "      <th>id_nanohub</th>\n",
       "      <th>id_email</th>\n",
       "      <th>id_hubspot</th>\n",
       "    </tr>\n",
       "  </thead>\n",
       "  <tbody>\n",
       "    <tr>\n",
       "      <th>0</th>\n",
       "      <td>2015-04-07 11:54:42</td>\n",
       "      <td>2015-04-07 11:59:48</td>\n",
       "      <td>resources</td>\n",
       "      <td>-</td>\n",
       "      <td>102608</td>\n",
       "      <td>ibukhari@purdue.edu</td>\n",
       "      <td></td>\n",
       "    </tr>\n",
       "    <tr>\n",
       "      <th>1</th>\n",
       "      <td>2015-04-07 11:54:15</td>\n",
       "      <td>2015-04-07 12:00:08</td>\n",
       "      <td>home</td>\n",
       "      <td>-</td>\n",
       "      <td>102608</td>\n",
       "      <td>ibukhari@purdue.edu</td>\n",
       "      <td></td>\n",
       "    </tr>\n",
       "    <tr>\n",
       "      <th>2</th>\n",
       "      <td>2015-04-07 16:04:42</td>\n",
       "      <td>2015-04-07 16:04:42</td>\n",
       "      <td>login</td>\n",
       "      <td>login</td>\n",
       "      <td>102608</td>\n",
       "      <td>ibukhari@purdue.edu</td>\n",
       "      <td></td>\n",
       "    </tr>\n",
       "    <tr>\n",
       "      <th>3</th>\n",
       "      <td>2015-04-07 16:04:28</td>\n",
       "      <td>2015-04-07 16:45:57</td>\n",
       "      <td>home</td>\n",
       "      <td>-</td>\n",
       "      <td>102608</td>\n",
       "      <td>ibukhari@purdue.edu</td>\n",
       "      <td></td>\n",
       "    </tr>\n",
       "    <tr>\n",
       "      <th>4</th>\n",
       "      <td>2019-08-17 06:13:15</td>\n",
       "      <td>2019-08-17 06:19:50</td>\n",
       "      <td>members</td>\n",
       "      <td>user account page</td>\n",
       "      <td>258054</td>\n",
       "      <td>rabindraningthemcha@gmail.com</td>\n",
       "      <td></td>\n",
       "    </tr>\n",
       "  </tbody>\n",
       "</table>\n",
       "</div>"
      ],
      "text/plain": [
       "       start_datetime        end_datetime timeline_domain     timeline_label  \\\n",
       "0 2015-04-07 11:54:42 2015-04-07 11:59:48       resources                  -   \n",
       "1 2015-04-07 11:54:15 2015-04-07 12:00:08            home                  -   \n",
       "2 2015-04-07 16:04:42 2015-04-07 16:04:42           login              login   \n",
       "3 2015-04-07 16:04:28 2015-04-07 16:45:57            home                  -   \n",
       "4 2019-08-17 06:13:15 2019-08-17 06:19:50         members  user account page   \n",
       "\n",
       "  id_nanohub                       id_email id_hubspot  \n",
       "0     102608            ibukhari@purdue.edu             \n",
       "1     102608            ibukhari@purdue.edu             \n",
       "2     102608            ibukhari@purdue.edu             \n",
       "3     102608            ibukhari@purdue.edu             \n",
       "4     258054  rabindraningthemcha@gmail.com             "
      ]
     },
     "metadata": {},
     "output_type": "display_data"
    },
    {
     "data": {
      "text/html": [
       "<div>\n",
       "<style scoped>\n",
       "    .dataframe tbody tr th:only-of-type {\n",
       "        vertical-align: middle;\n",
       "    }\n",
       "\n",
       "    .dataframe tbody tr th {\n",
       "        vertical-align: top;\n",
       "    }\n",
       "\n",
       "    .dataframe thead th {\n",
       "        text-align: right;\n",
       "    }\n",
       "</style>\n",
       "<table border=\"1\" class=\"dataframe\">\n",
       "  <thead>\n",
       "    <tr style=\"text-align: right;\">\n",
       "      <th></th>\n",
       "      <th>start_datetime</th>\n",
       "      <th>end_datetime</th>\n",
       "      <th>timeline_domain</th>\n",
       "      <th>timeline_label</th>\n",
       "      <th>id_nanohub</th>\n",
       "      <th>id_email</th>\n",
       "      <th>id_hubspot</th>\n",
       "    </tr>\n",
       "  </thead>\n",
       "  <tbody>\n",
       "    <tr>\n",
       "      <th>95</th>\n",
       "      <td>2016-03-22 17:02:09</td>\n",
       "      <td>2016-03-22 17:10:09</td>\n",
       "      <td>resources</td>\n",
       "      <td>2005 Molecular Conduction and Sensors Workshop</td>\n",
       "      <td>105570</td>\n",
       "      <td>anjankumar.nitw@gmail.com</td>\n",
       "      <td></td>\n",
       "    </tr>\n",
       "    <tr>\n",
       "      <th>96</th>\n",
       "      <td>2016-03-22 17:03:17</td>\n",
       "      <td>2016-03-22 17:10:45</td>\n",
       "      <td>resources</td>\n",
       "      <td>edu_semi</td>\n",
       "      <td>105570</td>\n",
       "      <td>anjankumar.nitw@gmail.com</td>\n",
       "      <td></td>\n",
       "    </tr>\n",
       "    <tr>\n",
       "      <th>97</th>\n",
       "      <td>2016-03-22 17:03:39</td>\n",
       "      <td>2016-03-22 17:11:02</td>\n",
       "      <td>resources</td>\n",
       "      <td>Nanotechnology 501 Lecture Series</td>\n",
       "      <td>105570</td>\n",
       "      <td>anjankumar.nitw@gmail.com</td>\n",
       "      <td></td>\n",
       "    </tr>\n",
       "    <tr>\n",
       "      <th>98</th>\n",
       "      <td>2016-03-22 17:04:42</td>\n",
       "      <td>2016-03-22 17:09:57</td>\n",
       "      <td>tools</td>\n",
       "      <td>[abacus] Assembly of Basic Appliances for Coor...</td>\n",
       "      <td>105570</td>\n",
       "      <td>anjankumar.nitw@gmail.com</td>\n",
       "      <td></td>\n",
       "    </tr>\n",
       "    <tr>\n",
       "      <th>99</th>\n",
       "      <td>2016-11-21 11:31:27</td>\n",
       "      <td>2016-11-21 11:31:27</td>\n",
       "      <td>login</td>\n",
       "      <td>login</td>\n",
       "      <td>128214</td>\n",
       "      <td>ge24@purdue.edu</td>\n",
       "      <td></td>\n",
       "    </tr>\n",
       "  </tbody>\n",
       "</table>\n",
       "</div>"
      ],
      "text/plain": [
       "        start_datetime        end_datetime timeline_domain  \\\n",
       "95 2016-03-22 17:02:09 2016-03-22 17:10:09       resources   \n",
       "96 2016-03-22 17:03:17 2016-03-22 17:10:45       resources   \n",
       "97 2016-03-22 17:03:39 2016-03-22 17:11:02       resources   \n",
       "98 2016-03-22 17:04:42 2016-03-22 17:09:57           tools   \n",
       "99 2016-11-21 11:31:27 2016-11-21 11:31:27           login   \n",
       "\n",
       "                                       timeline_label id_nanohub  \\\n",
       "95     2005 Molecular Conduction and Sensors Workshop     105570   \n",
       "96                                           edu_semi     105570   \n",
       "97                  Nanotechnology 501 Lecture Series     105570   \n",
       "98  [abacus] Assembly of Basic Appliances for Coor...     105570   \n",
       "99                                              login     128214   \n",
       "\n",
       "                     id_email id_hubspot  \n",
       "95  anjankumar.nitw@gmail.com             \n",
       "96  anjankumar.nitw@gmail.com             \n",
       "97  anjankumar.nitw@gmail.com             \n",
       "98  anjankumar.nitw@gmail.com             \n",
       "99            ge24@purdue.edu             "
      ]
     },
     "metadata": {},
     "output_type": "display_data"
    }
   ],
   "source": [
    "display(df.head())\n",
    "display(df.tail())"
   ]
  },
  {
   "cell_type": "markdown",
   "id": "4e0fc7bb-57b1-4127-ae0f-4768cb07204b",
   "metadata": {},
   "source": [
    "## Timeline Domains & Labels"
   ]
  },
  {
   "cell_type": "code",
   "execution_count": null,
   "id": "d72747d4-6d82-4ecd-9161-beaf47ddbfb5",
   "metadata": {},
   "outputs": [],
   "source": []
  },
  {
   "cell_type": "code",
   "execution_count": 10,
   "id": "ebffcb1c-a600-42c0-b038-83d9fcb19459",
   "metadata": {},
   "outputs": [
    {
     "data": {
      "text/plain": [
       "'Timeline Domains'"
      ]
     },
     "metadata": {},
     "output_type": "display_data"
    },
    {
     "data": {
      "text/plain": [
       "array(['answers', 'courses', 'groups', 'home', 'kb', 'login', 'members',\n",
       "       'projects', 'publications', 'resources', 'search', 'support',\n",
       "       'tools', 'topics'], dtype=object)"
      ]
     },
     "metadata": {},
     "output_type": "display_data"
    },
    {
     "data": {
      "text/html": [
       "<div>\n",
       "<style scoped>\n",
       "    .dataframe tbody tr th:only-of-type {\n",
       "        vertical-align: middle;\n",
       "    }\n",
       "\n",
       "    .dataframe tbody tr th {\n",
       "        vertical-align: top;\n",
       "    }\n",
       "\n",
       "    .dataframe thead th {\n",
       "        text-align: right;\n",
       "    }\n",
       "</style>\n",
       "<table border=\"1\" class=\"dataframe\">\n",
       "  <thead>\n",
       "    <tr style=\"text-align: right;\">\n",
       "      <th></th>\n",
       "      <th>timeline_domain</th>\n",
       "      <th>timeline_label</th>\n",
       "    </tr>\n",
       "  </thead>\n",
       "  <tbody>\n",
       "    <tr>\n",
       "      <th>0</th>\n",
       "      <td>answers</td>\n",
       "      <td>[-]</td>\n",
       "    </tr>\n",
       "    <tr>\n",
       "      <th>1</th>\n",
       "      <td>courses</td>\n",
       "      <td>[nanoHUB-U: Fundamentals of Nanoelectronics - Part A:  Basic Concepts, 2nd Edition, nanoHUB-U: Thermoelectricity: From Atoms to Systems, ECE 659: Quantum Transport, ECE 595: Fundamentals of Nanoelectronics]</td>\n",
       "    </tr>\n",
       "    <tr>\n",
       "      <th>2</th>\n",
       "      <td>groups</td>\n",
       "      <td>[Mark Lundstrom Research Group Page, nanoHUB-U, -, Education, Quantum Dot Solar Cells (QDSC) First-Year Engineering Project, Photovoltaics HUB, NEEDS: New Era Electronic Devices and Systems]</td>\n",
       "    </tr>\n",
       "    <tr>\n",
       "      <th>3</th>\n",
       "      <td>home</td>\n",
       "      <td>[-]</td>\n",
       "    </tr>\n",
       "    <tr>\n",
       "      <th>4</th>\n",
       "      <td>kb</td>\n",
       "      <td>[Knowledge Base]</td>\n",
       "    </tr>\n",
       "    <tr>\n",
       "      <th>5</th>\n",
       "      <td>login</td>\n",
       "      <td>[login]</td>\n",
       "    </tr>\n",
       "    <tr>\n",
       "      <th>6</th>\n",
       "      <td>members</td>\n",
       "      <td>[user account page, member #232839, register]</td>\n",
       "    </tr>\n",
       "    <tr>\n",
       "      <th>7</th>\n",
       "      <td>projects</td>\n",
       "      <td>[-]</td>\n",
       "    </tr>\n",
       "    <tr>\n",
       "      <th>8</th>\n",
       "      <td>publications</td>\n",
       "      <td>[TAG Solar Cell Model]</td>\n",
       "    </tr>\n",
       "    <tr>\n",
       "      <th>9</th>\n",
       "      <td>resources</td>\n",
       "      <td>[-, courses, ECE 453 Lecture 30 Quantum Capacitance, index.php,  Illinois PHYS466 2013 Atomic Scale Simulations, prismspfmisfit, Exams for Semiconductor Device Fundamentals, ECE 606 Principles of Semiconductor Devices, Quick Review of Semiconductor Fundamentals, A Primer on Semiconductor Fundamentals, TAG Solar Cell Model p i n thin film 1 0 0, tedev, NEEDS UC Berkeley Workshop, The Berkeley Model Development Environment A MATLAB based Platform for Modeling and Analyzing Nanosc, NEEDS Seminar Series, The Role of Graphene in Semiconductor Technologies, ECE 656 Electronic Transport in Semiconductors Fall 2011 , Solar Cell Fundamentals, Solar Cells Operation and Modeling, NCN Nanophotonics Tutorials, semidop, Uniform versus delta doping in 1D heterostructures an Exercise, ECE 606 Solid State Devices, Illinois ECE 440 Solid State Electronic Devices, 2005 Molecular Conduction and Sensors Workshop, edu_semi, Nanotechnology 501 Lecture Series]</td>\n",
       "    </tr>\n",
       "    <tr>\n",
       "      <th>10</th>\n",
       "      <td>search</td>\n",
       "      <td>[-]</td>\n",
       "    </tr>\n",
       "    <tr>\n",
       "      <th>11</th>\n",
       "      <td>support</td>\n",
       "      <td>[[275984] This happened on dev.nanohub, -, [275989] I registered for an event through the group calendar for the NEEDS gro..., [275939] Can you tell me how to change the setting to Java instead.\\r\\n   The ver..., [275946] I am in the process of publishing \"plottool\" tool to nanohub, this too...]</td>\n",
       "    </tr>\n",
       "    <tr>\n",
       "      <th>12</th>\n",
       "      <td>tools</td>\n",
       "      <td>[[cndo] CNDO/INDO, [abacus] Assembly of Basic Appliances for Coordinated Understanding of Semiconductors, [1dhetero] 1D Heterostructure Tool, [wulffman] Equilibrium Wulff Shape Generator, [dopingsilicon] Effect of Doping on Semiconductors, , [semidop] Semiconductor Doping, dopingsilicon_r11]</td>\n",
       "    </tr>\n",
       "    <tr>\n",
       "      <th>13</th>\n",
       "      <td>topics</td>\n",
       "      <td>[-]</td>\n",
       "    </tr>\n",
       "  </tbody>\n",
       "</table>\n",
       "</div>"
      ],
      "text/plain": [
       "   timeline_domain  \\\n",
       "0          answers   \n",
       "1          courses   \n",
       "2           groups   \n",
       "3             home   \n",
       "4               kb   \n",
       "5            login   \n",
       "6          members   \n",
       "7         projects   \n",
       "8     publications   \n",
       "9        resources   \n",
       "10          search   \n",
       "11         support   \n",
       "12           tools   \n",
       "13          topics   \n",
       "\n",
       "                                                                                                                                                                                                                                                                                                                                                                                                                                                                                                                                                                                                                                                                                                                                                                                                                                                                                                                                                                            timeline_label  \n",
       "0                                                                                                                                                                                                                                                                                                                                                                                                                                                                                                                                                                                                                                                                                                                                                                                                                                                                                                                                                                                      [-]  \n",
       "1                                                                                                                                                                                                                                                                                                                                                                                                                                                                                                                                                                                                                                                                                                                                                                           [nanoHUB-U: Fundamentals of Nanoelectronics - Part A:  Basic Concepts, 2nd Edition, nanoHUB-U: Thermoelectricity: From Atoms to Systems, ECE 659: Quantum Transport, ECE 595: Fundamentals of Nanoelectronics]  \n",
       "2                                                                                                                                                                                                                                                                                                                                                                                                                                                                                                                                                                                                                                                                                                                                                                                           [Mark Lundstrom Research Group Page, nanoHUB-U, -, Education, Quantum Dot Solar Cells (QDSC) First-Year Engineering Project, Photovoltaics HUB, NEEDS: New Era Electronic Devices and Systems]  \n",
       "3                                                                                                                                                                                                                                                                                                                                                                                                                                                                                                                                                                                                                                                                                                                                                                                                                                                                                                                                                                                      [-]  \n",
       "4                                                                                                                                                                                                                                                                                                                                                                                                                                                                                                                                                                                                                                                                                                                                                                                                                                                                                                                                                                         [Knowledge Base]  \n",
       "5                                                                                                                                                                                                                                                                                                                                                                                                                                                                                                                                                                                                                                                                                                                                                                                                                                                                                                                                                                                  [login]  \n",
       "6                                                                                                                                                                                                                                                                                                                                                                                                                                                                                                                                                                                                                                                                                                                                                                                                                                                                                                                                            [user account page, member #232839, register]  \n",
       "7                                                                                                                                                                                                                                                                                                                                                                                                                                                                                                                                                                                                                                                                                                                                                                                                                                                                                                                                                                                      [-]  \n",
       "8                                                                                                                                                                                                                                                                                                                                                                                                                                                                                                                                                                                                                                                                                                                                                                                                                                                                                                                                                                   [TAG Solar Cell Model]  \n",
       "9   [-, courses, ECE 453 Lecture 30 Quantum Capacitance, index.php,  Illinois PHYS466 2013 Atomic Scale Simulations, prismspfmisfit, Exams for Semiconductor Device Fundamentals, ECE 606 Principles of Semiconductor Devices, Quick Review of Semiconductor Fundamentals, A Primer on Semiconductor Fundamentals, TAG Solar Cell Model p i n thin film 1 0 0, tedev, NEEDS UC Berkeley Workshop, The Berkeley Model Development Environment A MATLAB based Platform for Modeling and Analyzing Nanosc, NEEDS Seminar Series, The Role of Graphene in Semiconductor Technologies, ECE 656 Electronic Transport in Semiconductors Fall 2011 , Solar Cell Fundamentals, Solar Cells Operation and Modeling, NCN Nanophotonics Tutorials, semidop, Uniform versus delta doping in 1D heterostructures an Exercise, ECE 606 Solid State Devices, Illinois ECE 440 Solid State Electronic Devices, 2005 Molecular Conduction and Sensors Workshop, edu_semi, Nanotechnology 501 Lecture Series]  \n",
       "10                                                                                                                                                                                                                                                                                                                                                                                                                                                                                                                                                                                                                                                                                                                                                                                                                                                                                                                                                                                     [-]  \n",
       "11                                                                                                                                                                                                                                                                                                                                                                                                                                                                                                                                                                                                                                                                                [[275984] This happened on dev.nanohub, -, [275989] I registered for an event through the group calendar for the NEEDS gro..., [275939] Can you tell me how to change the setting to Java instead.\\r\\n   The ver..., [275946] I am in the process of publishing \"plottool\" tool to nanohub, this too...]  \n",
       "12                                                                                                                                                                                                                                                                                                                                                                                                                                                                                                                                                                                                                                                                                    [[cndo] CNDO/INDO, [abacus] Assembly of Basic Appliances for Coordinated Understanding of Semiconductors, [1dhetero] 1D Heterostructure Tool, [wulffman] Equilibrium Wulff Shape Generator, [dopingsilicon] Effect of Doping on Semiconductors, , [semidop] Semiconductor Doping, dopingsilicon_r11]  \n",
       "13                                                                                                                                                                                                                                                                                                                                                                                                                                                                                                                                                                                                                                                                                                                                                                                                                                                                                                                                                                                     [-]  "
      ]
     },
     "metadata": {},
     "output_type": "display_data"
    }
   ],
   "source": [
    "timeline_domains_df = df.groupby('timeline_domain')['timeline_label'].unique().reset_index()\n",
    "pd.options.display.max_colwidth = 5000\n",
    "display('Timeline Domains', timeline_domains_df['timeline_domain'].unique())\n",
    "display(timeline_domains_df)\n",
    "pd.reset_option('max_colwidth')"
   ]
  },
  {
   "cell_type": "markdown",
   "id": "afa1b0e9-dae3-4905-ae89-a25037530c04",
   "metadata": {},
   "source": [
    "## First & Last Points by DateTime"
   ]
  },
  {
   "cell_type": "code",
   "execution_count": 11,
   "id": "f3e38d34-155b-4419-9523-e6dc9a29c5dd",
   "metadata": {},
   "outputs": [],
   "source": [
    "sorted_start_datetime_df = df.sort_values(by='start_datetime')"
   ]
  },
  {
   "cell_type": "code",
   "execution_count": 12,
   "id": "42710755-d952-46b8-8ac8-eb48fb69ab33",
   "metadata": {},
   "outputs": [
    {
     "data": {
      "text/html": [
       "<div>\n",
       "<style scoped>\n",
       "    .dataframe tbody tr th:only-of-type {\n",
       "        vertical-align: middle;\n",
       "    }\n",
       "\n",
       "    .dataframe tbody tr th {\n",
       "        vertical-align: top;\n",
       "    }\n",
       "\n",
       "    .dataframe thead th {\n",
       "        text-align: right;\n",
       "    }\n",
       "</style>\n",
       "<table border=\"1\" class=\"dataframe\">\n",
       "  <thead>\n",
       "    <tr style=\"text-align: right;\">\n",
       "      <th></th>\n",
       "      <th>First Data Point</th>\n",
       "    </tr>\n",
       "  </thead>\n",
       "  <tbody>\n",
       "    <tr>\n",
       "      <th>start_datetime</th>\n",
       "      <td>2009-04-12 15:06:59</td>\n",
       "    </tr>\n",
       "    <tr>\n",
       "      <th>end_datetime</th>\n",
       "      <td>2009-04-12 15:06:59</td>\n",
       "    </tr>\n",
       "    <tr>\n",
       "      <th>timeline_domain</th>\n",
       "      <td>login</td>\n",
       "    </tr>\n",
       "    <tr>\n",
       "      <th>timeline_label</th>\n",
       "      <td>login</td>\n",
       "    </tr>\n",
       "    <tr>\n",
       "      <th>id_nanohub</th>\n",
       "      <td>13950</td>\n",
       "    </tr>\n",
       "    <tr>\n",
       "      <th>id_email</th>\n",
       "      <td>mluisier@purdue.edu</td>\n",
       "    </tr>\n",
       "    <tr>\n",
       "      <th>id_hubspot</th>\n",
       "      <td></td>\n",
       "    </tr>\n",
       "  </tbody>\n",
       "</table>\n",
       "</div>"
      ],
      "text/plain": [
       "                    First Data Point\n",
       "start_datetime   2009-04-12 15:06:59\n",
       "end_datetime     2009-04-12 15:06:59\n",
       "timeline_domain                login\n",
       "timeline_label                 login\n",
       "id_nanohub                     13950\n",
       "id_email         mluisier@purdue.edu\n",
       "id_hubspot                          "
      ]
     },
     "metadata": {},
     "output_type": "display_data"
    },
    {
     "data": {
      "text/html": [
       "<div>\n",
       "<style scoped>\n",
       "    .dataframe tbody tr th:only-of-type {\n",
       "        vertical-align: middle;\n",
       "    }\n",
       "\n",
       "    .dataframe tbody tr th {\n",
       "        vertical-align: top;\n",
       "    }\n",
       "\n",
       "    .dataframe thead th {\n",
       "        text-align: right;\n",
       "    }\n",
       "</style>\n",
       "<table border=\"1\" class=\"dataframe\">\n",
       "  <thead>\n",
       "    <tr style=\"text-align: right;\">\n",
       "      <th></th>\n",
       "      <th>Last Data Point</th>\n",
       "    </tr>\n",
       "  </thead>\n",
       "  <tbody>\n",
       "    <tr>\n",
       "      <th>start_datetime</th>\n",
       "      <td>2019-11-15 12:59:43</td>\n",
       "    </tr>\n",
       "    <tr>\n",
       "      <th>end_datetime</th>\n",
       "      <td>2019-11-15 13:04:46</td>\n",
       "    </tr>\n",
       "    <tr>\n",
       "      <th>timeline_domain</th>\n",
       "      <td>groups</td>\n",
       "    </tr>\n",
       "    <tr>\n",
       "      <th>timeline_label</th>\n",
       "      <td>nanoHUB-U</td>\n",
       "    </tr>\n",
       "    <tr>\n",
       "      <th>id_nanohub</th>\n",
       "      <td>73743</td>\n",
       "    </tr>\n",
       "    <tr>\n",
       "      <th>id_email</th>\n",
       "      <td>ekayser@purdue.edu</td>\n",
       "    </tr>\n",
       "    <tr>\n",
       "      <th>id_hubspot</th>\n",
       "      <td></td>\n",
       "    </tr>\n",
       "  </tbody>\n",
       "</table>\n",
       "</div>"
      ],
      "text/plain": [
       "                     Last Data Point\n",
       "start_datetime   2019-11-15 12:59:43\n",
       "end_datetime     2019-11-15 13:04:46\n",
       "timeline_domain               groups\n",
       "timeline_label             nanoHUB-U\n",
       "id_nanohub                     73743\n",
       "id_email          ekayser@purdue.edu\n",
       "id_hubspot                          "
      ]
     },
     "metadata": {},
     "output_type": "display_data"
    }
   ],
   "source": [
    "first = sorted_start_datetime_df.iloc[0]\n",
    "first = pd.Series(first, name='First Data Point').to_frame()\n",
    "display(first)\n",
    "\n",
    "last = sorted_start_datetime_df.iloc[-1]\n",
    "last = pd.Series(last, name='Last Data Point').to_frame()\n",
    "display(last)\n"
   ]
  },
  {
   "cell_type": "code",
   "execution_count": null,
   "id": "f4bb006e-6fb7-41bd-a5fd-87ef86e6bce3",
   "metadata": {},
   "outputs": [],
   "source": []
  }
 ],
 "metadata": {
  "kernelspec": {
   "display_name": "Python 3 (ipykernel)",
   "language": "python",
   "name": "python3"
  },
  "language_info": {
   "codemirror_mode": {
    "name": "ipython",
    "version": 3
   },
   "file_extension": ".py",
   "mimetype": "text/x-python",
   "name": "python",
   "nbconvert_exporter": "python",
   "pygments_lexer": "ipython3",
   "version": "3.8.10"
  }
 },
 "nbformat": 4,
 "nbformat_minor": 5
}
