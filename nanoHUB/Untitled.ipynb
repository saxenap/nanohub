{
 "cells": [
  {
   "cell_type": "code",
   "execution_count": 1,
   "id": "d4d7e5e5-bc1c-4f26-96f2-f32dc9b7a2e6",
   "metadata": {
    "execution": {
     "iopub.execute_input": "2022-07-30T03:44:54.130138Z",
     "iopub.status.busy": "2022-07-30T03:44:54.128958Z",
     "iopub.status.idle": "2022-07-30T03:44:58.545487Z",
     "shell.execute_reply": "2022-07-30T03:44:58.544263Z",
     "shell.execute_reply.started": "2022-07-30T03:44:54.129831Z"
    },
    "tags": [],
    "pycharm": {
     "name": "#%%\n"
    }
   },
   "outputs": [
    {
     "name": "stdout",
     "output_type": "stream",
     "text": [
      "\u001B[1mnanoHUB - Serving Students, Researchers & Instructors\u001B[0m\n"
     ]
    },
    {
     "name": "stderr",
     "output_type": "stream",
     "text": [
      "/home/saxenap/venv/lib/python3.8/site-packages/requests/__init__.py:102: RequestsDependencyWarning: urllib3 (1.26.9) or chardet (5.0.0)/charset_normalizer (2.0.12) doesn't match a supported version!\n",
      "  warnings.warn(\"urllib3 ({}) or chardet ({})/charset_normalizer ({}) doesn't match a supported \"\n"
     ]
    }
   ],
   "source": [
    "from pathlib import Path\n",
    "import pandas as pd\n",
    "import os \n",
    "import ast\n",
    "from datetime import datetime\n",
    "from nanoHUB.clustering.run_clustering import TwoSemesterTimeFrameGenerator"
   ]
  },
  {
   "cell_type": "code",
   "execution_count": 2,
   "id": "3b29cacf-277f-49f9-839c-42422d5f6eec",
   "metadata": {
    "execution": {
     "iopub.execute_input": "2022-07-28T21:20:04.844745Z",
     "iopub.status.busy": "2022-07-28T21:20:04.843605Z",
     "iopub.status.idle": "2022-07-28T21:20:04.857183Z",
     "shell.execute_reply": "2022-07-28T21:20:04.853384Z",
     "shell.execute_reply.started": "2022-07-28T21:20:04.844666Z"
    },
    "tags": [],
    "pycharm": {
     "name": "#%%\n"
    }
   },
   "outputs": [],
   "source": [
    "algorithm = 'xufeng'\n",
    "\n",
    "data_dir = Path(os.getenv('APP_DIR') + '/nanoHUB/clustering/output')\n",
    "results_dir = data_dir / algorithm / 'by_semester' \n",
    "file_path = results_dir / '2022-01-01_2022-07-01' / 'intra_tool_cluster_df.csv'"
   ]
  },
  {
   "cell_type": "code",
   "execution_count": 3,
   "id": "c83af044-0073-426e-b53f-6b115232bb33",
   "metadata": {
    "execution": {
     "iopub.execute_input": "2022-07-28T21:20:04.866010Z",
     "iopub.status.busy": "2022-07-28T21:20:04.865381Z",
     "iopub.status.idle": "2022-07-28T21:20:04.956824Z",
     "shell.execute_reply": "2022-07-28T21:20:04.953674Z",
     "shell.execute_reply.started": "2022-07-28T21:20:04.865954Z"
    },
    "tags": [],
    "pycharm": {
     "name": "#%%\n"
    }
   },
   "outputs": [
    {
     "data": {
      "text/html": [
       "<div>\n",
       "<style scoped>\n",
       "    .dataframe tbody tr th:only-of-type {\n",
       "        vertical-align: middle;\n",
       "    }\n",
       "\n",
       "    .dataframe tbody tr th {\n",
       "        vertical-align: top;\n",
       "    }\n",
       "\n",
       "    .dataframe thead th {\n",
       "        text-align: right;\n",
       "    }\n",
       "</style>\n",
       "<table border=\"1\" class=\"dataframe\">\n",
       "  <thead>\n",
       "    <tr style=\"text-align: right;\">\n",
       "      <th></th>\n",
       "      <th>Unnamed: 0</th>\n",
       "      <th>tool</th>\n",
       "      <th>start</th>\n",
       "      <th>end</th>\n",
       "      <th>mean_lon</th>\n",
       "      <th>mean_lat</th>\n",
       "      <th>user_set</th>\n",
       "      <th>ip_set</th>\n",
       "    </tr>\n",
       "  </thead>\n",
       "  <tbody>\n",
       "    <tr>\n",
       "      <th>0</th>\n",
       "      <td>0</td>\n",
       "      <td>0</td>\n",
       "      <td>2022-03-28</td>\n",
       "      <td>2022-04-01</td>\n",
       "      <td>-86.792</td>\n",
       "      <td>36.151501</td>\n",
       "      <td>{'petersongcy', 'adamfortner', 'valentjg', 'er...</td>\n",
       "      <td>{'129.59.122.23', '129.59.122.110', '107.142.1...</td>\n",
       "    </tr>\n",
       "    <tr>\n",
       "      <th>1</th>\n",
       "      <td>1</td>\n",
       "      <td>1</td>\n",
       "      <td>2022-04-02</td>\n",
       "      <td>2022-04-06</td>\n",
       "      <td>-86.792</td>\n",
       "      <td>36.151501</td>\n",
       "      <td>{'cheysirota', 'petersongcy', 'derek.d.mulholl...</td>\n",
       "      <td>{'129.59.122.23', '129.59.122.21', '129.59.122...</td>\n",
       "    </tr>\n",
       "  </tbody>\n",
       "</table>\n",
       "</div>"
      ],
      "text/plain": [
       "   Unnamed: 0  tool       start         end  mean_lon   mean_lat  \\\n",
       "0           0     0  2022-03-28  2022-04-01   -86.792  36.151501   \n",
       "1           1     1  2022-04-02  2022-04-06   -86.792  36.151501   \n",
       "\n",
       "                                            user_set  \\\n",
       "0  {'petersongcy', 'adamfortner', 'valentjg', 'er...   \n",
       "1  {'cheysirota', 'petersongcy', 'derek.d.mulholl...   \n",
       "\n",
       "                                              ip_set  \n",
       "0  {'129.59.122.23', '129.59.122.110', '107.142.1...  \n",
       "1  {'129.59.122.23', '129.59.122.21', '129.59.122...  "
      ]
     },
     "metadata": {},
     "output_type": "display_data"
    }
   ],
   "source": [
    "intra_tool_cluster_df = pd.read_csv(file_path)\n",
    "display(intra_tool_cluster_df.head(2))"
   ]
  },
  {
   "cell_type": "code",
   "execution_count": 4,
   "id": "7033328b-1c72-4a08-8245-0d90c899f4a5",
   "metadata": {
    "execution": {
     "iopub.execute_input": "2022-07-28T21:20:04.962284Z",
     "iopub.status.busy": "2022-07-28T21:20:04.960983Z",
     "iopub.status.idle": "2022-07-28T21:20:05.095532Z",
     "shell.execute_reply": "2022-07-28T21:20:05.085801Z",
     "shell.execute_reply.started": "2022-07-28T21:20:04.962134Z"
    },
    "tags": [],
    "pycharm": {
     "name": "#%%\n"
    }
   },
   "outputs": [
    {
     "data": {
      "text/html": [
       "<div>\n",
       "<style scoped>\n",
       "    .dataframe tbody tr th:only-of-type {\n",
       "        vertical-align: middle;\n",
       "    }\n",
       "\n",
       "    .dataframe tbody tr th {\n",
       "        vertical-align: top;\n",
       "    }\n",
       "\n",
       "    .dataframe thead th {\n",
       "        text-align: right;\n",
       "    }\n",
       "</style>\n",
       "<table border=\"1\" class=\"dataframe\">\n",
       "  <thead>\n",
       "    <tr style=\"text-align: right;\">\n",
       "      <th></th>\n",
       "      <th>1</th>\n",
       "      <th>2</th>\n",
       "      <th>3</th>\n",
       "      <th>4</th>\n",
       "      <th>5</th>\n",
       "      <th>6</th>\n",
       "      <th>7</th>\n",
       "      <th>8</th>\n",
       "      <th>9</th>\n",
       "      <th>10</th>\n",
       "      <th>...</th>\n",
       "      <th>197</th>\n",
       "      <th>198</th>\n",
       "      <th>199</th>\n",
       "      <th>200</th>\n",
       "      <th>201</th>\n",
       "      <th>202</th>\n",
       "      <th>203</th>\n",
       "      <th>204</th>\n",
       "      <th>205</th>\n",
       "      <th>206</th>\n",
       "    </tr>\n",
       "  </thead>\n",
       "  <tbody>\n",
       "    <tr>\n",
       "      <th>0</th>\n",
       "      <td>profcgdl</td>\n",
       "      <td>diana.florencio</td>\n",
       "      <td>matthew.j.mcgowan</td>\n",
       "      <td>alicemb00</td>\n",
       "      <td>andydu</td>\n",
       "      <td>valentjg</td>\n",
       "      <td>adamfortner</td>\n",
       "      <td>franked1</td>\n",
       "      <td>laurenc0621</td>\n",
       "      <td>lauren.m.grohowski</td>\n",
       "      <td>...</td>\n",
       "      <td>None</td>\n",
       "      <td>None</td>\n",
       "      <td>None</td>\n",
       "      <td>None</td>\n",
       "      <td>None</td>\n",
       "      <td>None</td>\n",
       "      <td>None</td>\n",
       "      <td>None</td>\n",
       "      <td>None</td>\n",
       "      <td>None</td>\n",
       "    </tr>\n",
       "    <tr>\n",
       "      <th>1</th>\n",
       "      <td>diana.florencio</td>\n",
       "      <td>adam.b.levin</td>\n",
       "      <td>eric.l.zhang</td>\n",
       "      <td>derek.d.mulholland</td>\n",
       "      <td>cheysirota</td>\n",
       "      <td>franked1</td>\n",
       "      <td>andrewjfish</td>\n",
       "      <td>paul.g.abdelmessih</td>\n",
       "      <td>kaelonmc</td>\n",
       "      <td>vinersj</td>\n",
       "      <td>...</td>\n",
       "      <td>None</td>\n",
       "      <td>None</td>\n",
       "      <td>None</td>\n",
       "      <td>None</td>\n",
       "      <td>None</td>\n",
       "      <td>None</td>\n",
       "      <td>None</td>\n",
       "      <td>None</td>\n",
       "      <td>None</td>\n",
       "      <td>None</td>\n",
       "    </tr>\n",
       "  </tbody>\n",
       "</table>\n",
       "<p>2 rows × 206 columns</p>\n",
       "</div>"
      ],
      "text/plain": [
       "                 1                2                  3                   4  \\\n",
       "0         profcgdl  diana.florencio  matthew.j.mcgowan           alicemb00   \n",
       "1  diana.florencio     adam.b.levin       eric.l.zhang  derek.d.mulholland   \n",
       "\n",
       "            5         6            7                   8            9  \\\n",
       "0      andydu  valentjg  adamfortner            franked1  laurenc0621   \n",
       "1  cheysirota  franked1  andrewjfish  paul.g.abdelmessih     kaelonmc   \n",
       "\n",
       "                   10  ...   197   198   199   200   201   202   203   204  \\\n",
       "0  lauren.m.grohowski  ...  None  None  None  None  None  None  None  None   \n",
       "1             vinersj  ...  None  None  None  None  None  None  None  None   \n",
       "\n",
       "    205   206  \n",
       "0  None  None  \n",
       "1  None  None  \n",
       "\n",
       "[2 rows x 206 columns]"
      ]
     },
     "metadata": {},
     "output_type": "display_data"
    }
   ],
   "source": [
    "columns = ['user_set']\n",
    "intra_tool_cluster_df[columns] = intra_tool_cluster_df[columns].applymap(lambda x: ast.literal_eval(x))\n",
    "\n",
    "df = pd.DataFrame(intra_tool_cluster_df['user_set'].values.tolist()) \\\n",
    "            .rename(columns = lambda x: '{}'.format(x+1))\n",
    "display(df.head(2))"
   ]
  },
  {
   "cell_type": "code",
   "execution_count": 5,
   "id": "abee3407-89ee-4176-b1f0-c8136daf02f2",
   "metadata": {
    "execution": {
     "iopub.execute_input": "2022-07-28T21:20:05.103549Z",
     "iopub.status.busy": "2022-07-28T21:20:05.101605Z",
     "iopub.status.idle": "2022-07-28T21:20:05.277559Z",
     "shell.execute_reply": "2022-07-28T21:20:05.275596Z",
     "shell.execute_reply.started": "2022-07-28T21:20:05.103461Z"
    },
    "tags": [],
    "pycharm": {
     "name": "#%%\n"
    }
   },
   "outputs": [],
   "source": [
    "df.to_csv(data_dir / 'reruns' / algorithm / '2022-01-01_2022-07-01.csv', header=None)"
   ]
  },
  {
   "cell_type": "code",
   "execution_count": 6,
   "id": "cdfc0592-87c0-485e-8055-d074e81a7ef9",
   "metadata": {
    "execution": {
     "iopub.execute_input": "2022-07-28T21:20:05.282072Z",
     "iopub.status.busy": "2022-07-28T21:20:05.281425Z",
     "iopub.status.idle": "2022-07-28T21:20:05.316384Z",
     "shell.execute_reply": "2022-07-28T21:20:05.312949Z",
     "shell.execute_reply.started": "2022-07-28T21:20:05.282013Z"
    },
    "tags": [],
    "pycharm": {
     "name": "#%%\n"
    }
   },
   "outputs": [
    {
     "data": {
      "text/html": [
       "<div>\n",
       "<style scoped>\n",
       "    .dataframe tbody tr th:only-of-type {\n",
       "        vertical-align: middle;\n",
       "    }\n",
       "\n",
       "    .dataframe tbody tr th {\n",
       "        vertical-align: top;\n",
       "    }\n",
       "\n",
       "    .dataframe thead th {\n",
       "        text-align: right;\n",
       "    }\n",
       "</style>\n",
       "<table border=\"1\" class=\"dataframe\">\n",
       "  <thead>\n",
       "    <tr style=\"text-align: right;\">\n",
       "      <th></th>\n",
       "      <th>1</th>\n",
       "    </tr>\n",
       "  </thead>\n",
       "  <tbody>\n",
       "    <tr>\n",
       "      <th>0</th>\n",
       "      <td>profcgdl</td>\n",
       "    </tr>\n",
       "    <tr>\n",
       "      <th>1</th>\n",
       "      <td>diana.florencio</td>\n",
       "    </tr>\n",
       "    <tr>\n",
       "      <th>2</th>\n",
       "      <td>aelajne</td>\n",
       "    </tr>\n",
       "    <tr>\n",
       "      <th>3</th>\n",
       "      <td>tinycutewxy</td>\n",
       "    </tr>\n",
       "    <tr>\n",
       "      <th>4</th>\n",
       "      <td>fouadamr60</td>\n",
       "    </tr>\n",
       "  </tbody>\n",
       "</table>\n",
       "</div>"
      ],
      "text/plain": [
       "                 1\n",
       "0         profcgdl\n",
       "1  diana.florencio\n",
       "2          aelajne\n",
       "3      tinycutewxy\n",
       "4       fouadamr60"
      ]
     },
     "metadata": {},
     "output_type": "display_data"
    }
   ],
   "source": [
    "df2 = pd.DataFrame(df['1'].values.tolist()) \\\n",
    "        .rename(columns = lambda x: '{}'.format(x+1)) \n",
    "display(df2.head())"
   ]
  },
  {
   "cell_type": "code",
   "execution_count": 7,
   "id": "a29bf0ba-50e3-44bb-b3b8-38e6cfaa91f3",
   "metadata": {
    "execution": {
     "iopub.execute_input": "2022-07-28T21:20:05.322843Z",
     "iopub.status.busy": "2022-07-28T21:20:05.321923Z",
     "iopub.status.idle": "2022-07-28T21:20:05.388324Z",
     "shell.execute_reply": "2022-07-28T21:20:05.386567Z",
     "shell.execute_reply.started": "2022-07-28T21:20:05.322771Z"
    },
    "tags": [],
    "pycharm": {
     "name": "#%%\n"
    }
   },
   "outputs": [
    {
     "data": {
      "text/html": [
       "<div>\n",
       "<style scoped>\n",
       "    .dataframe tbody tr th:only-of-type {\n",
       "        vertical-align: middle;\n",
       "    }\n",
       "\n",
       "    .dataframe tbody tr th {\n",
       "        vertical-align: top;\n",
       "    }\n",
       "\n",
       "    .dataframe thead th {\n",
       "        text-align: right;\n",
       "    }\n",
       "</style>\n",
       "<table border=\"1\" class=\"dataframe\">\n",
       "  <thead>\n",
       "    <tr style=\"text-align: right;\">\n",
       "      <th></th>\n",
       "      <th>2</th>\n",
       "      <th>3</th>\n",
       "      <th>4</th>\n",
       "      <th>5</th>\n",
       "      <th>6</th>\n",
       "      <th>7</th>\n",
       "      <th>8</th>\n",
       "      <th>9</th>\n",
       "      <th>10</th>\n",
       "      <th>11</th>\n",
       "      <th>...</th>\n",
       "      <th>198</th>\n",
       "      <th>199</th>\n",
       "      <th>200</th>\n",
       "      <th>201</th>\n",
       "      <th>202</th>\n",
       "      <th>203</th>\n",
       "      <th>204</th>\n",
       "      <th>205</th>\n",
       "      <th>206</th>\n",
       "      <th>0</th>\n",
       "    </tr>\n",
       "  </thead>\n",
       "  <tbody>\n",
       "    <tr>\n",
       "      <th>0</th>\n",
       "      <td>diana.florencio</td>\n",
       "      <td>matthew.j.mcgowan</td>\n",
       "      <td>alicemb00</td>\n",
       "      <td>andydu</td>\n",
       "      <td>valentjg</td>\n",
       "      <td>adamfortner</td>\n",
       "      <td>franked1</td>\n",
       "      <td>laurenc0621</td>\n",
       "      <td>lauren.m.grohowski</td>\n",
       "      <td>eric475</td>\n",
       "      <td>...</td>\n",
       "      <td>None</td>\n",
       "      <td>None</td>\n",
       "      <td>None</td>\n",
       "      <td>None</td>\n",
       "      <td>None</td>\n",
       "      <td>None</td>\n",
       "      <td>None</td>\n",
       "      <td>None</td>\n",
       "      <td>None</td>\n",
       "      <td>profcgdl</td>\n",
       "    </tr>\n",
       "    <tr>\n",
       "      <th>1</th>\n",
       "      <td>adam.b.levin</td>\n",
       "      <td>eric.l.zhang</td>\n",
       "      <td>derek.d.mulholland</td>\n",
       "      <td>cheysirota</td>\n",
       "      <td>franked1</td>\n",
       "      <td>andrewjfish</td>\n",
       "      <td>paul.g.abdelmessih</td>\n",
       "      <td>kaelonmc</td>\n",
       "      <td>vinersj</td>\n",
       "      <td>gdirienz</td>\n",
       "      <td>...</td>\n",
       "      <td>None</td>\n",
       "      <td>None</td>\n",
       "      <td>None</td>\n",
       "      <td>None</td>\n",
       "      <td>None</td>\n",
       "      <td>None</td>\n",
       "      <td>None</td>\n",
       "      <td>None</td>\n",
       "      <td>None</td>\n",
       "      <td>diana.florencio</td>\n",
       "    </tr>\n",
       "    <tr>\n",
       "      <th>2</th>\n",
       "      <td>tinycutewxy</td>\n",
       "      <td>ensoshin21</td>\n",
       "      <td>denizacil</td>\n",
       "      <td>stdy3c8</td>\n",
       "      <td>bzhang09</td>\n",
       "      <td>thivya.sivarajah</td>\n",
       "      <td>megon98</td>\n",
       "      <td>seb.will44</td>\n",
       "      <td>montanalee2018</td>\n",
       "      <td>roadrunner07.patrick</td>\n",
       "      <td>...</td>\n",
       "      <td>None</td>\n",
       "      <td>None</td>\n",
       "      <td>None</td>\n",
       "      <td>None</td>\n",
       "      <td>None</td>\n",
       "      <td>None</td>\n",
       "      <td>None</td>\n",
       "      <td>None</td>\n",
       "      <td>None</td>\n",
       "      <td>aelajne</td>\n",
       "    </tr>\n",
       "    <tr>\n",
       "      <th>3</th>\n",
       "      <td>nickyramos99</td>\n",
       "      <td>montanalee2018</td>\n",
       "      <td>pballentine</td>\n",
       "      <td>rhbarnette</td>\n",
       "      <td>simg48</td>\n",
       "      <td>stdy3c8</td>\n",
       "      <td>tw266</td>\n",
       "      <td>priyarathin123</td>\n",
       "      <td>None</td>\n",
       "      <td>None</td>\n",
       "      <td>...</td>\n",
       "      <td>None</td>\n",
       "      <td>None</td>\n",
       "      <td>None</td>\n",
       "      <td>None</td>\n",
       "      <td>None</td>\n",
       "      <td>None</td>\n",
       "      <td>None</td>\n",
       "      <td>None</td>\n",
       "      <td>None</td>\n",
       "      <td>tinycutewxy</td>\n",
       "    </tr>\n",
       "    <tr>\n",
       "      <th>4</th>\n",
       "      <td>karim25401</td>\n",
       "      <td>ahm_kam</td>\n",
       "      <td>noureldinseddik</td>\n",
       "      <td>mariammhaanyy</td>\n",
       "      <td>ahmed_khaled_samir</td>\n",
       "      <td>muhammadshaheen</td>\n",
       "      <td>fatma.hazem19</td>\n",
       "      <td>dinaatefff92</td>\n",
       "      <td>shehab2040</td>\n",
       "      <td>ibrahimshawky419</td>\n",
       "      <td>...</td>\n",
       "      <td>None</td>\n",
       "      <td>None</td>\n",
       "      <td>None</td>\n",
       "      <td>None</td>\n",
       "      <td>None</td>\n",
       "      <td>None</td>\n",
       "      <td>None</td>\n",
       "      <td>None</td>\n",
       "      <td>None</td>\n",
       "      <td>fouadamr60</td>\n",
       "    </tr>\n",
       "  </tbody>\n",
       "</table>\n",
       "<p>5 rows × 206 columns</p>\n",
       "</div>"
      ],
      "text/plain": [
       "                 2                  3                   4              5  \\\n",
       "0  diana.florencio  matthew.j.mcgowan           alicemb00         andydu   \n",
       "1     adam.b.levin       eric.l.zhang  derek.d.mulholland     cheysirota   \n",
       "2      tinycutewxy         ensoshin21           denizacil        stdy3c8   \n",
       "3     nickyramos99     montanalee2018         pballentine     rhbarnette   \n",
       "4       karim25401            ahm_kam     noureldinseddik  mariammhaanyy   \n",
       "\n",
       "                    6                 7                   8               9  \\\n",
       "0            valentjg       adamfortner            franked1     laurenc0621   \n",
       "1            franked1       andrewjfish  paul.g.abdelmessih        kaelonmc   \n",
       "2            bzhang09  thivya.sivarajah             megon98      seb.will44   \n",
       "3              simg48           stdy3c8               tw266  priyarathin123   \n",
       "4  ahmed_khaled_samir   muhammadshaheen       fatma.hazem19    dinaatefff92   \n",
       "\n",
       "                   10                    11  ...   198   199   200   201  \\\n",
       "0  lauren.m.grohowski               eric475  ...  None  None  None  None   \n",
       "1             vinersj              gdirienz  ...  None  None  None  None   \n",
       "2      montanalee2018  roadrunner07.patrick  ...  None  None  None  None   \n",
       "3                None                  None  ...  None  None  None  None   \n",
       "4          shehab2040      ibrahimshawky419  ...  None  None  None  None   \n",
       "\n",
       "    202   203   204   205   206                0  \n",
       "0  None  None  None  None  None         profcgdl  \n",
       "1  None  None  None  None  None  diana.florencio  \n",
       "2  None  None  None  None  None          aelajne  \n",
       "3  None  None  None  None  None      tinycutewxy  \n",
       "4  None  None  None  None  None       fouadamr60  \n",
       "\n",
       "[5 rows x 206 columns]"
      ]
     },
     "metadata": {},
     "output_type": "display_data"
    }
   ],
   "source": [
    "df3 = df.join(pd.DataFrame(df.pop('1').values.tolist()))\n",
    "display(df3.head())"
   ]
  },
  {
   "cell_type": "code",
   "execution_count": null,
   "id": "e012d8f6-c054-4f35-8f33-13767a6c134a",
   "metadata": {
    "pycharm": {
     "name": "#%%\n"
    }
   },
   "outputs": [],
   "source": []
  }
 ],
 "metadata": {
  "kernelspec": {
   "display_name": "Python 3 (ipykernel)",
   "language": "python",
   "name": "python3"
  },
  "language_info": {
   "codemirror_mode": {
    "name": "ipython",
    "version": 3
   },
   "file_extension": ".py",
   "mimetype": "text/x-python",
   "name": "python",
   "nbconvert_exporter": "python",
   "pygments_lexer": "ipython3",
   "version": "3.8.10"
  }
 },
 "nbformat": 4,
 "nbformat_minor": 5
}