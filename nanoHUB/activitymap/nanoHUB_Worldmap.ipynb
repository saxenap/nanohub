{
 "cells": [
  {
   "cell_type": "markdown",
   "metadata": {},
   "source": [
    "# Import libraries \n",
    "matplotlib, cartopy, numpy, pandas and ffmpeg are used"
   ]
  },
  {
   "cell_type": "code",
   "execution_count": null,
   "metadata": {
    "tags": []
   },
   "outputs": [],
   "source": [
    "from datetime import datetime, timedelta\n",
    "from cartopy.feature.nightshade import Nightshade\n",
    "from matplotlib.image import imread\n",
    "from PIL import Image \n",
    "import ffmpeg\n",
    "import cartopy.crs as ccrs\n",
    "import matplotlib.pyplot as plt\n",
    "import pandas as pd\n",
    "import requests\n",
    "import json\n",
    "import numpy as np\n",
    "import os\n",
    "import math"
   ]
  },
  {
   "cell_type": "markdown",
   "metadata": {},
   "source": [
    "# Date configuration\n",
    "Change parameters to match the day in the logs and DB queries, SIZE is the output dimension"
   ]
  },
  {
   "cell_type": "code",
   "execution_count": null,
   "metadata": {
    "tags": []
   },
   "outputs": [],
   "source": [
    "month = 1\n",
    "day = 10\n",
    "year = 2021\n",
    "SIZE = [1440, 720] "
   ]
  },
  {
   "cell_type": "markdown",
   "metadata": {},
   "source": [
    "# Load geo-location from IP\n",
    "geolocation is taken from https://geolocation-db.com/, can be modified to a different source, the IPS.txt included have the ips needed for \"1-10-2021\" map"
   ]
  },
  {
   "cell_type": "code",
   "execution_count": null,
   "metadata": {
    "tags": []
   },
   "outputs": [],
   "source": [
    "IPS = {}\n",
    "with open('IPS.txt') as f:\n",
    "    IPS = json.load(f)\n",
    "TOTAL = 0\n",
    "\n",
    "def isfloat(value):\n",
    "    if isinstance(value, float) or  isinstance(value, int):\n",
    "        return True\n",
    "    elif isinstance(value, str):\n",
    "        try:\n",
    "            float(value)\n",
    "            return True\n",
    "        except ValueError:\n",
    "            return False\n",
    "    else :\n",
    "        return False\n",
    "\n",
    "\n",
    "TOTAL = 0\n",
    "def getLocation(ip):\n",
    "    global IPS, TOTAL\n",
    "    if ip not in IPS:\n",
    "        ipt = requests.get(\"https://geolocation-db.com/json/\"+ ip + \"&position=true\").json()\n",
    "        IPS[ip] = ipt\n",
    "        with open('IPS.txt', 'w') as outfile:\n",
    "            json.dump(IPS, outfile)        \n",
    "    TOTAL = TOTAL +1\n",
    "    return IPS[ip]\n",
    "#len(IPS)"
   ]
  },
  {
   "cell_type": "markdown",
   "metadata": {},
   "source": [
    "# Database queries\n",
    "All txt files are in \"MariaDB report format\" (copy-paste from console) \"|column1|column2|.....|\", different formats have to be loaded differently on pandas dataframes"
   ]
  },
  {
   "cell_type": "markdown",
   "metadata": {},
   "source": [
    "### Sessions"
   ]
  },
  {
   "cell_type": "code",
   "execution_count": null,
   "metadata": {},
   "outputs": [],
   "source": [
    "#   SELECT sessnum, remoteip, walltime, start \n",
    "#   FROM narwhal.sessionlog \n",
    "#   WHERE start >= '2021-01-10 00:00:00' \n",
    "#   AND start <= '2021-01-10 23:59:59' \n",
    "#   ORDER by start DESC;\n",
    "\n",
    "file1 = open('sessions', 'r')\n",
    "Lines = file1.readlines()\n",
    "sessions=[]\n",
    "for line in Lines:\n",
    "    cols = line.split(\"|\")\n",
    "    if len(cols) > 5 and cols[1].strip().isdigit():\n",
    "        sessions.append({\"sessnum\":cols[1].strip(),\"remoteip\":cols[2].strip(),\"walltime\":float(cols[3].strip()),\"start\":cols[4].strip()})\n",
    "sessions= pd.DataFrame(sessions)\n",
    "sessions['start'] = pd.to_datetime(sessions['start'])\n",
    "sessions['end'] = sessions.apply(lambda x: x['start'] + timedelta(seconds=x['walltime']), axis=1)\n",
    "sessions['geo'] = sessions['remoteip'].apply(lambda x: getLocation(x)) \n",
    "sessions['latitude'] = sessions['geo'].apply(lambda x: float(x['latitude']) if isfloat(x['latitude']) else math.nan)\n",
    "sessions['longitude'] = sessions['geo'].apply(lambda x: float(x['longitude']) if isfloat(x['longitude']) else math.nan)\n",
    "#sessions\n"
   ]
  },
  {
   "cell_type": "markdown",
   "metadata": {},
   "source": [
    "### Jobs"
   ]
  },
  {
   "cell_type": "code",
   "execution_count": null,
   "metadata": {},
   "outputs": [],
   "source": [
    "#   SELECT sessnum, start, walltime \n",
    "#   FROM narwhal.joblog\n",
    "#   WHERE start >= '2021-01-10 00:00:00' \n",
    "#   AND start <= '2021-01-10 23:59:59' \n",
    "#   ORDER by start DESC;\n",
    "\n",
    "file1 = open('jobs', 'r')\n",
    "Lines = file1.readlines()\n",
    "jobs=[]\n",
    "for line in Lines:\n",
    "    cols = line.split(\"|\")\n",
    "    if len(cols) > 4 and cols[1].strip().isdigit():\n",
    "        jobs.append({\"sessnum\":cols[1].strip(),\"start\":cols[2].strip(),\"walltime\":float(cols[3].strip())})\n",
    "jobs= pd.DataFrame(jobs)\n",
    "jobs = pd.merge(jobs,sessions, how=\"inner\", on=\"sessnum\")\n",
    "jobs['start'] = pd.to_datetime(jobs['start_x'])\n",
    "jobs['end'] = jobs.apply(lambda x: x['start'] + timedelta(seconds=x['walltime_x']), axis=1)\n",
    "#jobs"
   ]
  },
  {
   "cell_type": "markdown",
   "metadata": {},
   "source": [
    "### Resources\n",
    "not completely sure this table (jos_media_tracking_detailed) is the most relevant to get information about resources"
   ]
  },
  {
   "cell_type": "code",
   "execution_count": null,
   "metadata": {},
   "outputs": [],
   "source": [
    "#   SELECT ip_address, current_position_timestamp, farthest_position_timestamp \n",
    "#   FROM nanohub.jos_media_tracking_detailed \n",
    "#   WHERE current_position_timestamp >= '2021-01-10 00:00:00' \n",
    "#   AND current_position_timestamp <= '2021-01-10 23:59:59';\n",
    "\n",
    "file1 = open('resources', 'r')\n",
    "Lines = file1.readlines()\n",
    "resources=[]\n",
    "for line in Lines:\n",
    "    cols = line.split(\"|\")\n",
    "    if len(cols) > 4 and cols[1].strip() != \"ip_address\":\n",
    "        resources.append({\"remoteip\":cols[1].strip(),\"start\":cols[3].strip(),\"end\":(cols[2].strip())})\n",
    "resources= pd.DataFrame(resources)\n",
    "resources['start'] = pd.to_datetime(resources['start'])\n",
    "resources['end'] = pd.to_datetime(resources['end'])\n",
    "resources['geo'] = resources['remoteip'].apply(lambda x: getLocation(x)) \n",
    "resources['latitude'] = resources['geo'].apply(lambda x: float(x['latitude']) if isfloat(x['latitude']) else math.nan)\n",
    "resources['longitude'] = resources['geo'].apply(lambda x: float(x['longitude']) if isfloat(x['longitude']) else math.nan)\n",
    "\n",
    "#resources"
   ]
  },
  {
   "cell_type": "markdown",
   "metadata": {},
   "source": [
    "### Activity\n",
    "Logs from apache web server, extracted from .gz archived log files"
   ]
  },
  {
   "cell_type": "code",
   "execution_count": null,
   "metadata": {},
   "outputs": [],
   "source": [
    "file1 = open('nanohub-access.log-20210110', 'r')\n",
    "Lines = file1.readlines()\n",
    "activity=[]\n",
    "for line in Lines:\n",
    "    if \"bot\" in line:\n",
    "        pass;\n",
    "    else:\n",
    "        cols = line.split(\" \")\n",
    "        activity.append({\"start\":cols[0].strip() + \" \" + cols[1].strip(), \"remoteip\": cols[10].strip()})\n",
    "activity= pd.DataFrame(activity)\n",
    "activity = activity[activity['remoteip']!=\"\\\"-\\\"\"]\n",
    "activity['start'] = pd.to_datetime(activity['start'])\n",
    "activity['geo'] = activity['remoteip'].apply(lambda x: getLocation(x)) \n",
    "activity['latitude'] = activity['geo'].apply(lambda x: float(x['latitude']) if isfloat(x['latitude']) else math.nan)\n",
    "activity['longitude'] = activity['geo'].apply(lambda x: float(x['longitude']) if isfloat(x['longitude']) else math.nan)\n",
    "#activity"
   ]
  },
  {
   "cell_type": "markdown",
   "metadata": {},
   "source": [
    "# Functions\n",
    "Day-night algorthims modified from https://codegolf.stackexchange.com/questions/24326/is-it-dark-outside-draw-a-sun-map\n",
    "images from https://blue-marble.de/night/Earthlights_2002.png, https://neo.sci.gsfc.nasa.gov/view.php?datasetId=BlueMarbleNG, https://neo.sci.gsfc.nasa.gov/"
   ]
  },
  {
   "cell_type": "code",
   "execution_count": null,
   "metadata": {},
   "outputs": [],
   "source": [
    "def deg2rad(x) :\n",
    "    return math.radians(x)\n",
    "    return x / 180.0 * math.pi;\n",
    "\n",
    "def rad2deg(x) :\n",
    "    return math.degrees(x)\n",
    "    return x * 180.0 / math.pi;\n",
    "\n",
    "def sind(x):\n",
    "    return math.sin(deg2rad(x))\n",
    "\n",
    "def cosd(x):\n",
    "    return math.cos(deg2rad(x))\n",
    "\n",
    "def asind(x):\n",
    "    return rad2deg(math.asin(x))\n",
    "\n",
    "def elevation(latitude, longitude, yday, hours, mins, secs):\n",
    "    fd = (hours + (mins + (secs / 60.0) ) / 60.0) / 24.0;\n",
    "    fyd = 360.0 * (yday + fd) / 366.0;\n",
    "\n",
    "    m = fyd - 3.943;\n",
    "    ta = -1.914 * sind(m) + 2.468 * sind(2 * m + 205.6);\n",
    "    hourangle = (fd - 0.5) * 360.0 + longitude + ta;\n",
    "    decl = 0.396 - 22.913 * cosd(fyd) + 4.025 * sind(fyd) - 0.387 * cosd(2 * fyd) + 0.052 * sind(2 * fyd) - 0.155 * cosd(3 * fyd) + 0.085 * sind(3 * fyd);\n",
    "\n",
    "    return asind(cosd(hourangle) * cosd(decl) * cosd(latitude) + sind(decl) * sind(latitude));\n",
    "\n",
    "\n",
    "def createImage(yday, hourt, mint, sect):\n",
    "    global SIZE\n",
    "    newsize = SIZE\n",
    "    day = Image.open('BG/50-natural-earth-1-downsampled.png') \n",
    "    #day = Image.open('BG/BM.jpg') \n",
    "    #day = Image.open('BG/VI.jpg') \n",
    "    day = day.resize(newsize) \n",
    "\n",
    "    night =  Image.open('BG/night.png') \n",
    "    night = night.resize(newsize) \n",
    "\n",
    "    out = Image.new(\"RGB\", newsize)\n",
    "\n",
    "    width, height = day.size\n",
    "    for y in range(height):\n",
    "        latitude = 90.0 - 180.0 * (y + 0.5) / height\n",
    "        for x in range(width):\n",
    "            longitude = -180.0 + 360.0 * (x + 0.5) / width\n",
    "            elev = elevation(latitude, longitude, yday, hourt, mint, sect)\n",
    "            if (elev > 0): \n",
    "                nf = 0.0 \n",
    "            elif elev > -8 : \n",
    "                nf = 1-(8+elev)/8\n",
    "                #nf = 0.5 \n",
    "            else:\n",
    "                nf = 1.0\n",
    "            df = 1.0 - nf\n",
    "            dc = day.getpixel((x, y))\n",
    "            nc = night.getpixel((x, y))\n",
    "            px = (math.floor(df * dc[0] + nf * nc[0]), \n",
    "                  math.floor(df * dc[1] + nf * nc[1]), \n",
    "                  math.floor(df * dc[2] + nf * nc[2]))\n",
    "            out.putpixel((x, y), px) \n",
    "    return out\n",
    "\n"
   ]
  },
  {
   "cell_type": "markdown",
   "metadata": {},
   "source": [
    "### Main \n",
    "Modify the delta variable by default is every 00:07:30, the folder 'out' is required, create it before run this cell (mkdir out)"
   ]
  },
  {
   "cell_type": "code",
   "execution_count": null,
   "metadata": {
    "tags": []
   },
   "outputs": [],
   "source": [
    "%matplotlib auto\n",
    "image_cnt = 0\n",
    "date_init = datetime(year, month, day)\n",
    "date_stop = date_init + timedelta(days=1)\n",
    "delta = timedelta(hours=0, minutes=7, seconds=30)\n",
    "\n",
    "while (date_init < date_stop):\n",
    "    date_start = date_init\n",
    "    date_end = date_start + delta\n",
    "\n",
    "    sess_filter = sessions[sessions['end'] >= date_start]\n",
    "    sess_filter = sess_filter[sess_filter['start'] <= date_end]\n",
    "    sess_filter_counts = sess_filter.groupby(['latitude', 'longitude']).count()\n",
    "    index = list(sess_filter_counts.index)\n",
    "    longs_0 = [each[1] for each in index]\n",
    "    lats_0 = [each[0] for each in index]\n",
    "    sizes_0 = sess_filter_counts['start']*200\n",
    "\n",
    "    job_filter = jobs[jobs['end'] >= date_start]\n",
    "    job_filter = job_filter[job_filter['start'] < date_end]\n",
    "    job_filter_counts = job_filter.groupby(['latitude', 'longitude']).count()\n",
    "    index = list(job_filter_counts.index)\n",
    "    longs_1 = [each[1] for each in index]\n",
    "    lats_1 = [each[0] for each in index]\n",
    "    sizes_1 = job_filter_counts['start']*20\n",
    "\n",
    "    resources_filter = resources[resources['end'] >= date_start]\n",
    "    resources_filter = resources_filter[resources_filter['start'] < date_end]\n",
    "    resources_filter_counts = resources_filter.groupby(['latitude', 'longitude']).count()\n",
    "    index = list(resources_filter_counts.index)\n",
    "    longs_2 = [each[1] for each in index]\n",
    "    lats_2 = [each[0] for each in index]\n",
    "    sizes_2 = resources_filter_counts['start']*50\n",
    "\n",
    "    activity_filter = activity[activity['start'] >= date_start]\n",
    "    activity_filter = activity_filter[activity_filter['start'] < date_end]\n",
    "    activity_filter_counts = activity_filter.groupby(['latitude', 'longitude']).count()\n",
    "    index = list(activity_filter_counts.index)\n",
    "    longs_3 = [each[1] for each in index]\n",
    "    lats_3 = [each[0] for each in index]\n",
    "    sizes_3 = activity_filter_counts['start']*3 #10 for each 30 seconds\n",
    "\n",
    "\n",
    "    fig = plt.figure(figsize=(20, 10))\n",
    "    ax = fig.add_subplot(1, 1, 1, projection=ccrs.PlateCarree())\n",
    "    ax.set_title('nanoHUB.org usage {} PST'.format(date_start), y=1, pad=-24, fontsize=18, color=\"w\")\n",
    "    date_base = date_start + timedelta(hours=8)\n",
    "    img = np.asarray(createImage(date_base.timetuple().tm_yday,date_base.hour,date_base.minute,date_base.second))\n",
    "    ax.imshow(img, origin='upper', transform=ccrs.PlateCarree(), extent=[-180, 180, -90, 90])\n",
    "\n",
    "    ax.scatter(longs_3, lats_3, s=sizes_3, alpha=0.5,\n",
    "                   transform=ccrs.PlateCarree(), color=\"g\", label=\"Activity\")\n",
    "\n",
    "    ax.scatter(longs_0, lats_0, s=sizes_0, alpha=0.5,\n",
    "                   transform=ccrs.PlateCarree(), color=\"b\", label=\"Session\")\n",
    "\n",
    "    ax.scatter(longs_1, lats_1, s=sizes_1, alpha=0.5,\n",
    "                   transform=ccrs.PlateCarree(), color=\"r\", label=\"Job\")\n",
    "\n",
    "    ax.scatter(longs_2, lats_2, s=sizes_2, alpha=0.5,\n",
    "                   transform=ccrs.PlateCarree(), color=\"k\", label=\"Resource\")\n",
    "\n",
    "\n",
    "    #ax.add_feature(cartopy.feature.OCEAN, zorder=0)\n",
    "    #ax.add_feature(Nightshade(date, alpha=0.5, color='k'))\n",
    "    lgnd = ax.legend(loc=\"lower center\", fontsize=18, ncol=2)\n",
    "    lgnd.legendHandles[0]._sizes = [50]\n",
    "    lgnd.legendHandles[1]._sizes = [50]\n",
    "    lgnd.legendHandles[2]._sizes = [50]\n",
    "    lgnd.legendHandles[3]._sizes = [50]\n",
    "    plt.margins(0,0)\n",
    "    plt.gca().xaxis.set_major_locator(plt.NullLocator())\n",
    "    plt.gca().yaxis.set_major_locator(plt.NullLocator())\n",
    "    plt.savefig(\"out/out\" + str(image_cnt) + \".png\", format=\"png\", bbox_inches = 'tight',\n",
    "    pad_inches = 0, dpi=100)\n",
    "    image_cnt = image_cnt + 1\n",
    "    print (image_cnt)\n",
    "    date_init = date_end\n",
    "    #plt.show()\n",
    "    plt.close()"
   ]
  },
  {
   "cell_type": "markdown",
   "metadata": {},
   "source": [
    "# Video\n",
    "Create a video using all images in the out folder, it seems the ffmpeg library has some glitch on the final video, run the command on console to better results (ffmpeg -f image2 -i out%d.png -pix_fmt yuv420p -vf scale=1440:720 video.mp4)"
   ]
  },
  {
   "cell_type": "code",
   "execution_count": null,
   "metadata": {
    "tags": []
   },
   "outputs": [],
   "source": [
    "#ffmpeg -f image2 -i out%d.png -pix_fmt yuv420p -vf scale=1440:720 video.mp4\n",
    "(\n",
    "    ffmpeg\n",
    "    .input('out/*.png', \n",
    "           pattern_type='glob', \n",
    "           framerate=25\n",
    "    )\n",
    "    .output('out/movie.mp4',\n",
    "           pix_fmt=\"yuv420p\",\n",
    "           vf = \"scale=\"+str(SIZE[0])+\":\"+str(SIZE[1]),\n",
    "           r=24\n",
    "    )\n",
    "    .run(overwrite_output=True)\n",
    ")"
   ]
  },
  {
   "cell_type": "code",
   "execution_count": null,
   "metadata": {},
   "outputs": [],
   "source": []
  }
 ],
 "metadata": {
  "kernelspec": {
   "display_name": "Python 3 (ipykernel)",
   "language": "python",
   "name": "python3"
  },
  "language_info": {
   "codemirror_mode": {
    "name": "ipython",
    "version": 3
   },
   "file_extension": ".py",
   "mimetype": "text/x-python",
   "name": "python",
   "nbconvert_exporter": "python",
   "pygments_lexer": "ipython3",
   "version": "3.8.10"
  }
 },
 "nbformat": 4,
 "nbformat_minor": 4
}
