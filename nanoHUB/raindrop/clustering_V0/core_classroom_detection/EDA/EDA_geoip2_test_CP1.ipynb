{
 "cells": [
  {
   "cell_type": "markdown",
   "metadata": {},
   "source": [
    "# EDA: Sychrony detection for classroom activities\n",
    "\n",
    "File: 'core_classroom_analysis.py'\n",
    "\n",
    "Checkpoint: 1"
   ]
  },
  {
   "cell_type": "markdown",
   "metadata": {},
   "source": [
    "## Load data"
   ]
  },
  {
   "cell_type": "code",
   "execution_count": 6,
   "metadata": {},
   "outputs": [],
   "source": [
    "pkl_filepath = '/home/wang159/nanoHUB/projects/online_users_ts_analysis/temp/core_classroom_analysis_cp1.pkl'"
   ]
  },
  {
   "cell_type": "code",
   "execution_count": 7,
   "metadata": {},
   "outputs": [],
   "source": [
    "from pprint import pprint\n",
    "import pandas as pd\n",
    "import numpy as np\n",
    "import logging\n",
    "import datetime\n",
    "\n",
    "from dask import dataframe as dd\n",
    "from dask.multiprocessing import get\n",
    "from dask.diagnostics import ProgressBar\n",
    "pbar = ProgressBar()\n",
    "pbar.register()\n",
    "\n",
    "from sklearn.cluster import AgglomerativeClustering\n",
    "from sklearn.metrics import pairwise_distances\n",
    "\n",
    "import geoip2.database"
   ]
  },
  {
   "cell_type": "code",
   "execution_count": 8,
   "metadata": {},
   "outputs": [],
   "source": [
    "# Load checkpoint shelve\n",
    "import pickle\n",
    "with open(pkl_filepath, 'rb') as f:\n",
    "    inparams = pickle.load(f)"
   ]
  },
  {
   "cell_type": "code",
   "execution_count": 19,
   "metadata": {},
   "outputs": [],
   "source": [
    "def get_geo_data(ip):\n",
    "    \n",
    "    reader = geoip2.database.Reader(inparams[0].geoip2_mmdb_filepath)\n",
    "    response = reader.city(ip)\n",
    "    \n",
    "    pprint(response.__dict__)\n",
    "    \n",
    "    return "
   ]
  },
  {
   "cell_type": "code",
   "execution_count": 20,
   "metadata": {},
   "outputs": [
    {
     "name": "stdout",
     "output_type": "stream",
     "text": [
      "{'_locales': ['en'],\n",
      " 'city': geoip2.records.City(_locales=['en'], names={'en': 'West Lafayette', 'ja': 'ウェストラファイエット', 'ru': 'Уэст-Лафейетт'}, geoname_id=4928096, confidence=None),\n",
      " 'continent': geoip2.records.Continent(_locales=['en'], names={'de': 'Nordamerika', 'en': 'North America', 'es': 'Norteamérica', 'fr': 'Amérique du Nord', 'ja': '北アメリカ', 'pt-BR': 'América do Norte', 'ru': 'Северная Америка', 'zh-CN': '北美洲'}, code='NA', geoname_id=6255149),\n",
      " 'country': geoip2.records.Country(_locales=['en'], confidence=None, is_in_european_union=False, iso_code='US', names={'de': 'USA', 'en': 'United States', 'es': 'Estados Unidos', 'fr': 'États-Unis', 'ja': 'アメリカ合衆国', 'pt-BR': 'Estados Unidos', 'ru': 'США', 'zh-CN': '美国'}, geoname_id=6252001),\n",
      " 'location': geoip2.records.Location(postal_code=None, postal_confidence=None, latitude=40.4251, population_density=None, average_income=None, metro_code=582, time_zone='America/Indiana/Indianapolis', longitude=-86.9147, accuracy_radius=5),\n",
      " 'maxmind': geoip2.records.MaxMind(queries_remaining=None),\n",
      " 'postal': geoip2.records.Postal(code='47907', confidence=None),\n",
      " 'raw': {'city': {'geoname_id': 4928096,\n",
      "                  'names': {'en': 'West Lafayette',\n",
      "                            'ja': 'ウェストラファイエット',\n",
      "                            'ru': 'Уэст-Лафейетт'}},\n",
      "         'continent': {'code': 'NA',\n",
      "                       'geoname_id': 6255149,\n",
      "                       'names': {'de': 'Nordamerika',\n",
      "                                 'en': 'North America',\n",
      "                                 'es': 'Norteamérica',\n",
      "                                 'fr': 'Amérique du Nord',\n",
      "                                 'ja': '北アメリカ',\n",
      "                                 'pt-BR': 'América do Norte',\n",
      "                                 'ru': 'Северная Америка',\n",
      "                                 'zh-CN': '北美洲'}},\n",
      "         'country': {'geoname_id': 6252001,\n",
      "                     'iso_code': 'US',\n",
      "                     'names': {'de': 'USA',\n",
      "                               'en': 'United States',\n",
      "                               'es': 'Estados Unidos',\n",
      "                               'fr': 'États-Unis',\n",
      "                               'ja': 'アメリカ合衆国',\n",
      "                               'pt-BR': 'Estados Unidos',\n",
      "                               'ru': 'США',\n",
      "                               'zh-CN': '美国'}},\n",
      "         'location': {'accuracy_radius': 5,\n",
      "                      'latitude': 40.4251,\n",
      "                      'longitude': -86.9147,\n",
      "                      'metro_code': 582,\n",
      "                      'time_zone': 'America/Indiana/Indianapolis'},\n",
      "         'postal': {'code': '47907'},\n",
      "         'registered_country': {'geoname_id': 6252001,\n",
      "                                'iso_code': 'US',\n",
      "                                'names': {'de': 'USA',\n",
      "                                          'en': 'United States',\n",
      "                                          'es': 'Estados Unidos',\n",
      "                                          'fr': 'États-Unis',\n",
      "                                          'ja': 'アメリカ合衆国',\n",
      "                                          'pt-BR': 'Estados Unidos',\n",
      "                                          'ru': 'США',\n",
      "                                          'zh-CN': '美国'}},\n",
      "         'subdivisions': [{'geoname_id': 4921868,\n",
      "                           'iso_code': 'IN',\n",
      "                           'names': {'en': 'Indiana',\n",
      "                                     'es': 'Indiana',\n",
      "                                     'fr': 'Indiana',\n",
      "                                     'ja': 'インディアナ州',\n",
      "                                     'ru': 'Индиана',\n",
      "                                     'zh-CN': '印第安纳州'}}],\n",
      "         'traits': {'ip_address': '128.46.78.247'}},\n",
      " 'registered_country': geoip2.records.Country(_locales=['en'], confidence=None, is_in_european_union=False, iso_code='US', names={'de': 'USA', 'en': 'United States', 'es': 'Estados Unidos', 'fr': 'États-Unis', 'ja': 'アメリカ合衆国', 'pt-BR': 'Estados Unidos', 'ru': 'США', 'zh-CN': '美国'}, geoname_id=6252001),\n",
      " 'represented_country': geoip2.records.RepresentedCountry(_locales=['en'], confidence=None, type=None, is_in_european_union=False, iso_code=None, names={}, geoname_id=None),\n",
      " 'subdivisions': (geoip2.records.Subdivision(_locales=['en'], names={'en': 'Indiana', 'es': 'Indiana', 'fr': 'Indiana', 'ja': 'インディアナ州', 'ru': 'Индиана', 'zh-CN': '印第安纳州'}, iso_code='IN', geoname_id=4921868, confidence=None),),\n",
      " 'traits': geoip2.records.Traits(autonomous_system_number=None, connection_type=None, domain=None, isp=None, ip_address='128.46.78.247', autonomous_system_organization=None, is_public_proxy=False, is_legitimate_proxy=False, is_satellite_provider=False, organization=None, user_type=None, is_hosting_provider=False, is_tor_exit_node=False, is_anonymous_proxy=False, is_anonymous_vpn=False, is_anonymous=False)}\n"
     ]
    }
   ],
   "source": [
    "get_geo_data('128.46.78.247')"
   ]
  },
  {
   "cell_type": "code",
   "execution_count": null,
   "metadata": {},
   "outputs": [],
   "source": []
  }
 ],
 "metadata": {
  "kernelspec": {
   "display_name": "Python 3",
   "language": "python",
   "name": "python3"
  },
  "language_info": {
   "codemirror_mode": {
    "name": "ipython",
    "version": 3
   },
   "file_extension": ".py",
   "mimetype": "text/x-python",
   "name": "python",
   "nbconvert_exporter": "python",
   "pygments_lexer": "ipython3",
   "version": "3.7.5"
  }
 },
 "nbformat": 4,
 "nbformat_minor": 4
}
