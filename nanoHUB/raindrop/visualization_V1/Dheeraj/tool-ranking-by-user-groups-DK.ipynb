{
 "cells": [
  {
   "cell_type": "code",
   "execution_count": null,
   "id": "ab776a92-15b9-4fba-9bc2-b8f317a30f1c",
   "metadata": {
    "execution": {
     "iopub.status.busy": "2022-05-25T19:06:35.196535Z",
     "iopub.status.idle": "2022-05-25T19:06:35.196822Z",
     "shell.execute_reply": "2022-05-25T19:06:35.196712Z",
     "shell.execute_reply.started": "2022-05-25T19:06:35.196690Z"
    },
    "tags": []
   },
   "outputs": [],
   "source": [
    "import pandas as pd\n",
    "import numpy as np\n",
    "import csv\n",
    "from pprint import pprint\n",
    "from nanoHUB.application import Application\n",
    "from nanoHUB.configuration import ClusteringConfiguration\n",
    "from nanoHUB.pipeline.geddes.data import get_default_s3_client\n",
    "from nanoHUB.dataaccess.lake import S3FileMapper\n",
    "from nanoHUB.clustering.infra import create_clusters_repository, get_tool_users, get_user_tools, add_cluster_info, get_clustered_one_day_users, get_unclassified_one_day_users\n",
    "from ast import literal_eval\n",
    "import os\n",
    "\n",
    "\n",
    "pd.set_option('display.max_columns', None)\n",
    "\n",
    "# logger.debug('Testing')\n",
    "application = Application.get_instance()\n",
    "nanohub_db = application.new_db_engine('nanohub')\n",
    "\n",
    "#salesforce = application.new_salesforce_engine()\n",
    "\n",
    "s3_client = get_default_s3_client(application)\n",
    "raw_mapper = S3FileMapper(s3_client, ClusteringConfiguration().bucket_name_raw)\n",
    "processed_mapper = S3FileMapper(s3_client, ClusteringConfiguration().bucket_name_processed)\n",
    "\n",
    "cluster_repo = create_clusters_repository(application, ClusteringConfiguration().bucket_name_processed)\n",
    "\n",
    "derived_data_file_path = 'derived_data_for_users_with_one_day_users.csv'"
   ]
  },
  {
   "cell_type": "code",
   "execution_count": null,
   "id": "4709a6a5-5402-405e-b387-40c5630a08a1",
   "metadata": {
    "execution": {
     "iopub.status.busy": "2022-05-25T19:06:35.198282Z",
     "iopub.status.idle": "2022-05-25T19:06:35.198411Z",
     "shell.execute_reply": "2022-05-25T19:06:35.198355Z",
     "shell.execute_reply.started": "2022-05-25T19:06:35.198350Z"
    },
    "tags": []
   },
   "outputs": [],
   "source": [
    "tool_users_df = get_tool_users(processed_mapper)\n",
    "display(tool_users_df)\n",
    "len(tool_users_df)\n",
    "#display(tool_users_df['names_users'])"
   ]
  },
  {
   "cell_type": "code",
   "execution_count": null,
   "id": "d6f62859-82b5-4b6d-a660-20e4fc8552cb",
   "metadata": {
    "execution": {
     "iopub.status.busy": "2022-05-25T19:06:35.200767Z",
     "iopub.status.idle": "2022-05-25T19:06:35.200919Z",
     "shell.execute_reply": "2022-05-25T19:06:35.200854Z",
     "shell.execute_reply.started": "2022-05-25T19:06:35.200847Z"
    },
    "tags": []
   },
   "outputs": [],
   "source": [
    "#tool_names_query = input(\"Enter a tool name?\")\n",
    "for index in tool_users_df.index:\n",
    "    if tool_users_df['toolname'][index] == 'zeno':\n",
    "        display(tool_users_df.at[index,'names_users'])\n",
    "        "
   ]
  },
  {
   "cell_type": "code",
   "execution_count": null,
   "id": "86da59c1-33a2-4251-9f45-fd56ad72dbf1",
   "metadata": {
    "execution": {
     "iopub.status.busy": "2022-05-25T19:06:35.195242Z",
     "iopub.status.idle": "2022-05-25T19:06:35.195386Z",
     "shell.execute_reply": "2022-05-25T19:06:35.195323Z",
     "shell.execute_reply.started": "2022-05-25T19:06:35.195316Z"
    },
    "tags": []
   },
   "outputs": [],
   "source": [
    "#tool_users_df.at[index,'names_users'].to_csv('/nanoHUB/class-cluster/visualization_V1/Dheeraj/tool-ranking-by-user-groups.csv')"
   ]
  },
  {
   "cell_type": "code",
   "execution_count": null,
   "id": "cbc16893-1a49-47ec-aa3f-1634671d430a",
   "metadata": {
    "execution": {
     "iopub.status.busy": "2022-05-25T19:06:35.195862Z",
     "iopub.status.idle": "2022-05-25T19:06:35.195979Z",
     "shell.execute_reply": "2022-05-25T19:06:35.195928Z",
     "shell.execute_reply.started": "2022-05-25T19:06:35.195922Z"
    },
    "tags": []
   },
   "outputs": [],
   "source": [
    "current_dir = os.getcwd()\n",
    "\n",
    "dict = {\"names_of_users\":tool_users_df.at[index,'names_users']}\n",
    "sirs = pd.DataFrame(dict)\n",
    "sirs.to_csv(current_dir + '/Dheeraj.csv')\n",
    "\n",
    "# list_rows = tool_users_df.at[index,'names_users']\n",
    "# np.savetxt(\"nanoHUB/class-cluster/visualization_V1/Dheeraj.csv\", list_rows, delimiter =\",\",fmt ='% s')\n",
    "\n",
    "\n",
    "\n",
    "#with open('/nanoHUB/class-cluster/visualization_V1/Dheeraj.csv', 'w', newline=' ') as f:\n",
    "#    writer = csv.writer(f)\n",
    "#    writer.writerows(tool_users_df.at[index,'names_users'])"
   ]
  },
  {
   "cell_type": "code",
   "execution_count": null,
   "id": "6d3a8500-f947-49bf-ac2f-7f5b850a5662",
   "metadata": {},
   "outputs": [],
   "source": []
  },
  {
   "cell_type": "code",
   "execution_count": null,
   "id": "101526f2-d1bd-4314-91a9-2a6fb43f3d9f",
   "metadata": {},
   "outputs": [],
   "source": []
  },
  {
   "cell_type": "code",
   "execution_count": null,
   "id": "3cb50107-1719-422e-a2e1-00cf2f745a12",
   "metadata": {},
   "outputs": [],
   "source": []
  },
  {
   "cell_type": "code",
   "execution_count": null,
   "id": "cf3518cf-ce8e-4db3-a85c-998cb142121d",
   "metadata": {
    "execution": {
     "iopub.status.busy": "2022-05-25T18:35:59.855227Z",
     "iopub.status.idle": "2022-05-25T18:35:59.855391Z",
     "shell.execute_reply": "2022-05-25T18:35:59.855336Z",
     "shell.execute_reply.started": "2022-05-25T18:35:59.855327Z"
    }
   },
   "outputs": [],
   "source": [
    "\n",
    "display(tool_users_df['names_users'])\n"
   ]
  },
  {
   "cell_type": "code",
   "execution_count": null,
   "id": "44123faa-9eec-4915-9023-6f2b396a4b73",
   "metadata": {
    "execution": {
     "iopub.status.busy": "2022-05-25T18:35:59.857053Z",
     "iopub.status.idle": "2022-05-25T18:35:59.857206Z",
     "shell.execute_reply": "2022-05-25T18:35:59.857143Z",
     "shell.execute_reply.started": "2022-05-25T18:35:59.857133Z"
    },
    "tags": []
   },
   "outputs": [],
   "source": [
    "for 'toolnames' in tools_users_df:\n",
    "    if tool_users_df.at[2,'toolname'] == '1dfdmht':\n",
    "        display(tool_users_df.at[117,'names_users'])"
   ]
  },
  {
   "cell_type": "code",
   "execution_count": null,
   "id": "627b22e3-645c-49f0-bd9c-c8a9566a0c4c",
   "metadata": {
    "execution": {
     "iopub.status.busy": "2022-05-25T18:35:59.858071Z",
     "iopub.status.idle": "2022-05-25T18:35:59.858224Z",
     "shell.execute_reply": "2022-05-25T18:35:59.858166Z",
     "shell.execute_reply.started": "2022-05-25T18:35:59.858159Z"
    },
    "tags": []
   },
   "outputs": [],
   "source": [
    "display(tool_users_df.head())"
   ]
  },
  {
   "cell_type": "code",
   "execution_count": null,
   "id": "e7ce834c-4198-4a16-9603-24cd59e94e72",
   "metadata": {
    "execution": {
     "iopub.status.busy": "2022-05-25T18:35:59.858654Z",
     "iopub.status.idle": "2022-05-25T18:35:59.858754Z",
     "shell.execute_reply": "2022-05-25T18:35:59.858707Z",
     "shell.execute_reply.started": "2022-05-25T18:35:59.858701Z"
    },
    "tags": []
   },
   "outputs": [],
   "source": [
    "if tool_users_df.at[2,'toolname'] == '1dfdmht':\n",
    "    display(tool_users_df.at[2,'names_users'])\n",
    "    \n",
    "    "
   ]
  },
  {
   "cell_type": "code",
   "execution_count": null,
   "id": "707aaa01-0180-49d6-b854-34d41ab555cf",
   "metadata": {
    "execution": {
     "iopub.status.busy": "2022-05-25T18:35:59.859931Z",
     "iopub.status.idle": "2022-05-25T18:35:59.860059Z",
     "shell.execute_reply": "2022-05-25T18:35:59.860005Z",
     "shell.execute_reply.started": "2022-05-25T18:35:59.859999Z"
    },
    "tags": []
   },
   "outputs": [],
   "source": [
    "display(tool_users_df.at[117,'names_users'])"
   ]
  },
  {
   "cell_type": "code",
   "execution_count": null,
   "id": "a677cf06-0d0c-4a4f-ba9e-cd58efa49590",
   "metadata": {},
   "outputs": [],
   "source": []
  },
  {
   "cell_type": "code",
   "execution_count": null,
   "id": "ef1ab197-d7a5-471a-b8c7-73085e5e2f6b",
   "metadata": {
    "execution": {
     "iopub.status.busy": "2022-05-25T18:35:59.860861Z",
     "iopub.status.idle": "2022-05-25T18:35:59.860977Z",
     "shell.execute_reply": "2022-05-25T18:35:59.860928Z",
     "shell.execute_reply.started": "2022-05-25T18:35:59.860923Z"
    },
    "tags": []
   },
   "outputs": [],
   "source": [
    "classified_one_day_users_df = get_clustered_one_day_users(processed_mapper)\n",
    "\n",
    "display(len(classified_one_day_users_df))\n",
    "display(classified_one_day_users_df.head())\n",
    "display(classified_one_day_users_df.tail())"
   ]
  },
  {
   "cell_type": "code",
   "execution_count": null,
   "id": "51ef87d4-b7a9-45e9-a659-b58d64830b96",
   "metadata": {
    "execution": {
     "iopub.status.busy": "2022-05-25T18:35:59.862012Z",
     "iopub.status.idle": "2022-05-25T18:35:59.862132Z",
     "shell.execute_reply": "2022-05-25T18:35:59.862080Z",
     "shell.execute_reply.started": "2022-05-25T18:35:59.862074Z"
    },
    "tags": []
   },
   "outputs": [],
   "source": [
    "unclassified_one_day_users_df = get_unclassified_one_day_users(processed_mapper)\n",
    "\n",
    "display(len(unclassified_one_day_users_df))\n",
    "display(unclassified_one_day_users_df.head())\n",
    "display(unclassified_one_day_users_df.tail())"
   ]
  },
  {
   "cell_type": "code",
   "execution_count": null,
   "id": "316c48ef-a53f-499b-8a97-168b927a306d",
   "metadata": {
    "execution": {
     "iopub.status.busy": "2022-05-25T18:35:59.863004Z",
     "iopub.status.idle": "2022-05-25T18:35:59.863217Z",
     "shell.execute_reply": "2022-05-25T18:35:59.863136Z",
     "shell.execute_reply.started": "2022-05-25T18:35:59.863123Z"
    },
    "tags": []
   },
   "outputs": [],
   "source": [
    "unclassified_user_tools_df = tool_users_df.loc[tool_users_df['user'].isin(unclassified_one_day_users_df['username']),:]\n",
    "\n",
    "display(len(unclassified_user_tools_df))\n",
    "display(unclassified_user_tools_df.head())\n",
    "display(unclassified_user_tools_df.tail())"
   ]
  },
  {
   "cell_type": "code",
   "execution_count": null,
   "id": "42802a48-8cb3-45f9-82aa-dab24502d639",
   "metadata": {
    "execution": {
     "iopub.status.busy": "2022-05-25T18:35:59.863985Z",
     "iopub.status.idle": "2022-05-25T18:35:59.864134Z",
     "shell.execute_reply": "2022-05-25T18:35:59.864077Z",
     "shell.execute_reply.started": "2022-05-25T18:35:59.864069Z"
    },
    "tags": []
   },
   "outputs": [],
   "source": [
    "a = pd.Series([item for sublist in unclassified_user_tools_df['names_tools'] for item in sublist])\n",
    "df = a.groupby(a).size().rename_axis('names_tools').reset_index(name='frequency')\n",
    "\n",
    "\n",
    "display(df.head(10))"
   ]
  },
  {
   "cell_type": "code",
   "execution_count": null,
   "id": "0a2b7d51-4307-4f04-ac98-8ca84538898a",
   "metadata": {
    "execution": {
     "iopub.status.busy": "2022-05-25T18:35:59.864929Z",
     "iopub.status.idle": "2022-05-25T18:35:59.865070Z",
     "shell.execute_reply": "2022-05-25T18:35:59.865014Z",
     "shell.execute_reply.started": "2022-05-25T18:35:59.865007Z"
    },
    "tags": []
   },
   "outputs": [],
   "source": [
    "sorted_tool_count_for_unclassfied_users = df.sort_values('frequency', ascending=False)\n",
    "sorted_tool_count_for_unclassfied_users = sorted_tool_count_for_unclassfied_users.set_index('names_tools').reset_index()\n",
    "display(sorted_tool_count_for_unclassfied_users)\n",
    "\n",
    "sorted_tool_count_for_unclassfied_users.to_csv('sorted_tool_count_for_unclassified_one_day_users.csv', index=False)"
   ]
  },
  {
   "cell_type": "code",
   "execution_count": null,
   "id": "6c294617-944e-4ad4-a141-6ab047c2d73a",
   "metadata": {
    "tags": []
   },
   "outputs": [],
   "source": []
  },
  {
   "cell_type": "code",
   "execution_count": null,
   "id": "f9fb9dfe-2e9f-4ded-8f38-1d79f150ce26",
   "metadata": {
    "execution": {
     "iopub.status.busy": "2022-05-25T18:35:59.866811Z",
     "iopub.status.idle": "2022-05-25T18:35:59.867394Z",
     "shell.execute_reply": "2022-05-25T18:35:59.867294Z",
     "shell.execute_reply.started": "2022-05-25T18:35:59.867000Z"
    },
    "tags": []
   },
   "outputs": [],
   "source": [
    "classified_user_tools_df = tool_users_df.loc[tool_users_df['user'].isin(classified_one_day_users_df['username']),:]\n",
    "\n",
    "display(len(classified_user_tools_df))\n",
    "display(classified_user_tools_df.head())\n",
    "display(classified_user_tools_df.tail())"
   ]
  },
  {
   "cell_type": "code",
   "execution_count": null,
   "id": "b4b1838c-f811-463b-9436-55d95b5477c5",
   "metadata": {
    "execution": {
     "iopub.status.busy": "2022-05-25T18:35:59.868351Z",
     "iopub.status.idle": "2022-05-25T18:35:59.868478Z",
     "shell.execute_reply": "2022-05-25T18:35:59.868422Z",
     "shell.execute_reply.started": "2022-05-25T18:35:59.868416Z"
    }
   },
   "outputs": [],
   "source": [
    "a = pd.Series([item for sublist in classified_user_tools_df['names_tools'] for item in sublist])\n",
    "df = a.groupby(a).size().rename_axis('names_tools').reset_index(name='frequency')\n",
    "\n",
    "\n",
    "display(df.head(10))"
   ]
  },
  {
   "cell_type": "code",
   "execution_count": null,
   "id": "67ebd031-a47c-4acf-8aaf-a0876277e7e6",
   "metadata": {
    "execution": {
     "iopub.status.busy": "2022-05-25T18:35:59.869246Z",
     "iopub.status.idle": "2022-05-25T18:35:59.869402Z",
     "shell.execute_reply": "2022-05-25T18:35:59.869340Z",
     "shell.execute_reply.started": "2022-05-25T18:35:59.869331Z"
    }
   },
   "outputs": [],
   "source": [
    "sorted_tool_count_for_clustered_users = df.sort_values('frequency', ascending=False)\n",
    "sorted_tool_count_for_clustered_users = sorted_tool_count_for_clustered_users.set_index('names_tools').reset_index()\n",
    "display(sorted_tool_count_for_clustered_users)\n",
    "\n",
    "sorted_tool_count_for_clustered_users.to_csv('sorted_tool_count_for_clustered_one_day_users.csv', index=False)"
   ]
  },
  {
   "cell_type": "code",
   "execution_count": null,
   "id": "48aae9b6-7e71-44f8-8017-bfd6c081ca10",
   "metadata": {},
   "outputs": [],
   "source": []
  },
  {
   "cell_type": "code",
   "execution_count": null,
   "id": "d1bc1411-1103-40b7-9751-c85abe834036",
   "metadata": {
    "execution": {
     "iopub.status.busy": "2022-05-25T18:35:59.871292Z",
     "iopub.status.idle": "2022-05-25T18:35:59.871430Z",
     "shell.execute_reply": "2022-05-25T18:35:59.871377Z",
     "shell.execute_reply.started": "2022-05-25T18:35:59.871370Z"
    },
    "tags": []
   },
   "outputs": [],
   "source": [
    "sorted_tools_unclassified_users = sorted_tool_count_for_unclassfied_users['names_tools'].to_list()\n",
    "sorted_tools_clustered_users = sorted_tool_count_for_clustered_users['names_tools'].to_list()"
   ]
  },
  {
   "cell_type": "code",
   "execution_count": null,
   "id": "d302578e-1e27-4689-bfee-cc7595bd6f6c",
   "metadata": {
    "execution": {
     "iopub.status.busy": "2022-05-25T18:35:59.871689Z",
     "iopub.status.idle": "2022-05-25T18:35:59.871784Z",
     "shell.execute_reply": "2022-05-25T18:35:59.871740Z",
     "shell.execute_reply.started": "2022-05-25T18:35:59.871735Z"
    },
    "tags": []
   },
   "outputs": [],
   "source": [
    "import difflib\n",
    "sm = difflib.SequenceMatcher(None, sorted_tools_unclassified_users, sorted_tools_clustered_users)\n",
    "similarity_ratio = sm.ratio()\n",
    "\n",
    "display(similarity_ratio)"
   ]
  },
  {
   "cell_type": "code",
   "execution_count": null,
   "id": "7c4b3592-6240-42da-a2a2-bdc8bdf815dc",
   "metadata": {
    "execution": {
     "iopub.status.busy": "2022-05-25T18:35:59.872368Z",
     "iopub.status.idle": "2022-05-25T18:35:59.872683Z",
     "shell.execute_reply": "2022-05-25T18:35:59.872494Z",
     "shell.execute_reply.started": "2022-05-25T18:35:59.872486Z"
    },
    "tags": []
   },
   "outputs": [],
   "source": [
    "common_tools = list(set(sorted_tools_unclassified_users) & set(sorted_tools_clustered_users))\n",
    "\n",
    "display(len(common_tools))\n",
    "# display(common_tools)"
   ]
  },
  {
   "cell_type": "code",
   "execution_count": null,
   "id": "6cb08e9e-8d61-4885-909b-75aa41a6360b",
   "metadata": {
    "execution": {
     "iopub.status.busy": "2022-05-25T18:35:59.874064Z",
     "iopub.status.idle": "2022-05-25T18:35:59.874185Z",
     "shell.execute_reply": "2022-05-25T18:35:59.874131Z",
     "shell.execute_reply.started": "2022-05-25T18:35:59.874125Z"
    },
    "tags": []
   },
   "outputs": [],
   "source": [
    "total_tools_count = len(sorted_tools_clustered_users + sorted_tools_unclassified_users)\n",
    "common_tools_count = len(common_tools)\n",
    "\n",
    "percentage_common_tools = (common_tools_count*100)/total_tools_count\n",
    "\n",
    "display(percentage_common_tools)"
   ]
  },
  {
   "cell_type": "code",
   "execution_count": null,
   "id": "d29564ad-e051-424b-9ffc-0ddd5a931fb9",
   "metadata": {},
   "outputs": [],
   "source": []
  },
  {
   "cell_type": "code",
   "execution_count": null,
   "id": "3c321b4c-e157-44e9-9e1e-64c7b0be055e",
   "metadata": {},
   "outputs": [],
   "source": []
  },
  {
   "cell_type": "code",
   "execution_count": null,
   "id": "e65b2182-4909-471b-a189-f70bff5368a3",
   "metadata": {},
   "outputs": [],
   "source": []
  },
  {
   "cell_type": "code",
   "execution_count": null,
   "id": "51d6bc4a-5667-4369-a6e0-3db713e84ff6",
   "metadata": {},
   "outputs": [],
   "source": []
  }
 ],
 "metadata": {
  "kernelspec": {
   "display_name": "Python 3 (ipykernel)",
   "language": "python",
   "name": "python3"
  },
  "language_info": {
   "codemirror_mode": {
    "name": "ipython",
    "version": 3
   },
   "file_extension": ".py",
   "mimetype": "text/x-python",
   "name": "python",
   "nbconvert_exporter": "python",
   "pygments_lexer": "ipython3",
   "version": "3.8.10"
  }
 },
 "nbformat": 4,
 "nbformat_minor": 5
}
