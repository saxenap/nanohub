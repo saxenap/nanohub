{
 "cells": [
  {
   "cell_type": "markdown",
   "id": "fa7df901-7b35-442f-a638-ad33c58a36ea",
   "metadata": {},
   "source": [
    "##### Author: Praveen Saxena\n",
    "##### Email: saxep01@gmail.com\n",
    "##### Create Date: 7/16/2021\n",
    "##### Purpose: Validate the need for certain indexes on _nanohub.jos_users_ & _nanohub_metrics.userlogin_."
   ]
  },
  {
   "cell_type": "markdown",
   "id": "8e8c70e2-5e53-4810-aaf5-be7759bf458b",
   "metadata": {},
   "source": [
    "----"
   ]
  },
  {
   "cell_type": "markdown",
   "id": "38a12e7b-b664-4775-9fb6-c8cd55d61fe4",
   "metadata": {},
   "source": [
    "Some preliminaries."
   ]
  },
  {
   "cell_type": "code",
   "execution_count": 5,
   "id": "7bdbf15b-d4ca-4c8d-b38a-7f828781a63a",
   "metadata": {},
   "outputs": [],
   "source": [
    "import pandas as pd\n",
    "from pprint import pprint\n",
    "from IPython.display import display, Markdown"
   ]
  },
  {
   "cell_type": "code",
   "execution_count": 6,
   "id": "462ebafe-9d97-4783-bb78-6a7828d579c9",
   "metadata": {},
   "outputs": [
    {
     "name": "stdout",
     "output_type": "stream",
     "text": [
      "/home/nanoHUB-user/app\n"
     ]
    }
   ],
   "source": [
    "import os\n",
    "\n",
    "print(os.getenv('APP_DIR'))"
   ]
  },
  {
   "cell_type": "code",
   "execution_count": 7,
   "id": "9def0532-a6cf-4ce5-b98a-a7d6b3a6341d",
   "metadata": {},
   "outputs": [
    {
     "ename": "ModuleNotFoundError",
     "evalue": "No module named 'nanoHUB'",
     "output_type": "error",
     "traceback": [
      "\u001b[0;31m---------------------------------------------------------------------------\u001b[0m",
      "\u001b[0;31mModuleNotFoundError\u001b[0m                       Traceback (most recent call last)",
      "\u001b[0;32m/tmp/ipykernel_63/708483933.py\u001b[0m in \u001b[0;36m<module>\u001b[0;34m\u001b[0m\n\u001b[0;32m----> 1\u001b[0;31m \u001b[0;32mfrom\u001b[0m \u001b[0mnanoHUB\u001b[0m\u001b[0;34m.\u001b[0m\u001b[0mapplication\u001b[0m \u001b[0;32mimport\u001b[0m \u001b[0mApplication\u001b[0m\u001b[0;34m\u001b[0m\u001b[0;34m\u001b[0m\u001b[0m\n\u001b[0m\u001b[1;32m      2\u001b[0m \u001b[0;34m\u001b[0m\u001b[0m\n\u001b[1;32m      3\u001b[0m \u001b[0mapplication\u001b[0m \u001b[0;34m=\u001b[0m \u001b[0mApplication\u001b[0m\u001b[0;34m.\u001b[0m\u001b[0mget_instance\u001b[0m\u001b[0;34m(\u001b[0m\u001b[0;34m)\u001b[0m\u001b[0;34m\u001b[0m\u001b[0;34m\u001b[0m\u001b[0m\n\u001b[1;32m      4\u001b[0m \u001b[0mnanohub_db\u001b[0m \u001b[0;34m=\u001b[0m \u001b[0mapplication\u001b[0m\u001b[0;34m.\u001b[0m\u001b[0mnew_db_engine\u001b[0m\u001b[0;34m(\u001b[0m\u001b[0;34m'nanohub'\u001b[0m\u001b[0;34m)\u001b[0m\u001b[0;34m\u001b[0m\u001b[0;34m\u001b[0m\u001b[0m\n\u001b[1;32m      5\u001b[0m \u001b[0mnanohub_metrics_db\u001b[0m \u001b[0;34m=\u001b[0m \u001b[0mapplication\u001b[0m\u001b[0;34m.\u001b[0m\u001b[0mnew_db_engine\u001b[0m\u001b[0;34m(\u001b[0m\u001b[0;34m'nanohub_metrics'\u001b[0m\u001b[0;34m)\u001b[0m\u001b[0;34m\u001b[0m\u001b[0;34m\u001b[0m\u001b[0m\n",
      "\u001b[0;31mModuleNotFoundError\u001b[0m: No module named 'nanoHUB'"
     ]
    }
   ],
   "source": [
    "%%capture \n",
    "\n",
    "from nanoHUB.application import Application\n",
    "\n",
    "application = Application.get_instance()\n",
    "nanohub_db = application.new_db_engine('nanohub')\n",
    "nanohub_metrics_db = application.new_db_engine('nanohub_metrics')"
   ]
  },
  {
   "cell_type": "markdown",
   "id": "23ead3f4-8e19-41c2-8cd4-23131080a8f2",
   "metadata": {},
   "source": [
    "We start with a basic query that finds all the users except for the one-day users.\n",
    "One-day users are users who registered with nanoHUB but never logged in after their first 24 hours of registration."
   ]
  },
  {
   "cell_type": "code",
   "execution_count": 3,
   "id": "040eb90b-a2ff-448a-9812-0b920b865bd2",
   "metadata": {},
   "outputs": [
    {
     "ename": "NameError",
     "evalue": "name 'nanohub_db' is not defined",
     "output_type": "error",
     "traceback": [
      "\u001b[0;31m---------------------------------------------------------------------------\u001b[0m",
      "\u001b[0;31mNameError\u001b[0m                                 Traceback (most recent call last)",
      "\u001b[0;32m/tmp/ipykernel_63/986809404.py\u001b[0m in \u001b[0;36m<module>\u001b[0;34m\u001b[0m\n\u001b[1;32m      5\u001b[0m \u001b[0mLIMIT\u001b[0m \u001b[0;36m100\u001b[0m\u001b[0;34m;\u001b[0m\u001b[0;34m\u001b[0m\u001b[0;34m\u001b[0m\u001b[0m\n\u001b[1;32m      6\u001b[0m '''\n\u001b[0;32m----> 7\u001b[0;31m \u001b[0mdf\u001b[0m \u001b[0;34m=\u001b[0m \u001b[0mpd\u001b[0m\u001b[0;34m.\u001b[0m\u001b[0mread_sql\u001b[0m\u001b[0;34m(\u001b[0m\u001b[0msql\u001b[0m\u001b[0;34m,\u001b[0m \u001b[0mnanohub_db\u001b[0m\u001b[0;34m)\u001b[0m\u001b[0;34m\u001b[0m\u001b[0;34m\u001b[0m\u001b[0m\n\u001b[0m\u001b[1;32m      8\u001b[0m \u001b[0mdf\u001b[0m\u001b[0;34m.\u001b[0m\u001b[0mhead\u001b[0m\u001b[0;34m(\u001b[0m\u001b[0;34m)\u001b[0m\u001b[0;34m\u001b[0m\u001b[0;34m\u001b[0m\u001b[0m\n",
      "\u001b[0;31mNameError\u001b[0m: name 'nanohub_db' is not defined"
     ]
    }
   ],
   "source": [
    "sql = '''\n",
    "SELECT registerDate, lastvisitDate\n",
    "    FROM nanohub.jos_users\n",
    "    WHERE registerDate <= DATE_SUB(lastvisitDate, INTERVAL 1 DAY)\n",
    "LIMIT 100;\n",
    "'''\n",
    "df = pd.read_sql(sql, nanohub_db)\n",
    "df.head()"
   ]
  },
  {
   "cell_type": "markdown",
   "id": "db6e7d4a-9fee-44cd-b7e5-452df6cd230d",
   "metadata": {},
   "source": [
    "Let's run a _EXPLAIN_ query on this."
   ]
  },
  {
   "cell_type": "code",
   "execution_count": null,
   "id": "04e53ec7-d56f-4fb8-9a8a-2877ca6e4ef2",
   "metadata": {},
   "outputs": [],
   "source": [
    "sql = '''\n",
    "EXPLAIN SELECT registerDate, lastvisitDate\n",
    "    FROM nanohub.jos_users\n",
    "    WHERE registerDate <= DATE_SUB(lastvisitDate, INTERVAL 1 DAY)\n",
    "LIMIT 100;\n",
    "'''\n",
    "df = pd.read_sql(sql, nanohub_db)\n",
    "df.head()"
   ]
  },
  {
   "cell_type": "markdown",
   "id": "b6ebf254-7236-46a5-9b7b-a6fc2b436aaa",
   "metadata": {},
   "source": [
    "We can see that the query uses the much maligned _all_ type. This, and the fact that the query plan includes all the 263425 rows indicates the lack of appropriate indexes. In this case, the needed index would be on _registerDate_ and possibly _lastvisitDate_."
   ]
  },
  {
   "cell_type": "markdown",
   "id": "3d3ae7ad-8c9c-40d6-8e4e-d2514ee29525",
   "metadata": {},
   "source": [
    "-----"
   ]
  },
  {
   "cell_type": "markdown",
   "id": "a30795db-9763-4c67-88be-a299026cbc77",
   "metadata": {},
   "source": [
    "Let's take it up a notch. This time we will execute a query to find the _FREQUENCY_ of user visits as the average number of times a user performed an action over his/her lifetime on nanoHUB (now - registerDate). We can use their last day on nanoHUB instead of now() but for our purposes, we will use now()."
   ]
  },
  {
   "cell_type": "code",
   "execution_count": null,
   "id": "415653e1-fb67-4a04-9d9b-fa98bddb1cb4",
   "metadata": {},
   "outputs": [],
   "source": [
    "\n",
    "sql = '''\n",
    "EXPLAIN SELECT DISTINCT users.id, users.name, users.registerDate,\n",
    "        COUNT(action) AS `num_actions`, COUNT(DISTINCT DATE(datetime)) as `distinct_days`,\n",
    "        DATEDIFF (NOW(), users.registerDate)/COUNT(DISTINCT DATE(datetime)) as Frequency\n",
    "    FROM nanohub.jos_users AS users\n",
    "        LEFT JOIN nanohub_metrics.userlogin as logins ON logins.uidnumber = users.id\n",
    "        WHERE logins.uidnumber != 0 \n",
    "            && logins.uidnumber IS NOT NULL\n",
    "            &&  registerDate <= DATE_SUB(lastvisitDate, INTERVAL 1 DAY)\n",
    "LIMIT 10\n",
    ";\n",
    "'''\n",
    "\n",
    "df = pd.read_sql(sql, nanohub_db)\n",
    "df"
   ]
  },
  {
   "cell_type": "markdown",
   "id": "af993b59-b1f4-473e-803c-87b9d530a310",
   "metadata": {},
   "source": [
    "We can see again the need for indexes as the entire index tree is scanned to find matching rows. The needed index would be on _nanohub_metrics.userlogin.uidnumber_.\n",
    "\n",
    "Let's see which columns on _nanohub_metrics.userlogin_ do have an index."
   ]
  },
  {
   "cell_type": "code",
   "execution_count": null,
   "id": "dea1b849-ce25-49b8-97c4-301af0d4f6ee",
   "metadata": {},
   "outputs": [],
   "source": [
    "sql = '''\n",
    "SHOW INDEX FROM nanohub_metrics.userlogin; \n",
    "'''\n",
    "\n",
    "df = pd.read_sql(sql, nanohub_db)\n",
    "df"
   ]
  },
  {
   "cell_type": "markdown",
   "id": "d11bd867-1449-47c6-ac1f-7d9ce9e42a95",
   "metadata": {},
   "source": [
    "So _userlogin_ has a multi-column index on _datetime, user, uidnumber, ip,_ and _action_ because we want to make sure that specific combination of column values is unique. Unfortunately, indexes work like a yellowbook. A yellowbook is essentially indexed by lastname, firstname. This is really great when we need to find someone by their last name first. But what if we had to find people by their first names, first?\n",
    "\n",
    "So having a multi-column index that includes _uidnumber_ as the 3rd column doesn't help us. We need a separate index on _uidnumber_."
   ]
  },
  {
   "cell_type": "markdown",
   "id": "52f46502-bb50-4cd5-ab6f-f83bb7cc59b9",
   "metadata": {},
   "source": [
    "-----"
   ]
  },
  {
   "cell_type": "markdown",
   "id": "920de064-76ce-4cb5-9de8-52325dfb1ae8",
   "metadata": {},
   "source": [
    "The conclusion is that we desperately need indexes on:\n",
    "\n",
    "1. nanohub_metrics.userlogin.uidnumber\n",
    "2. nanohub_metrics.userlogin.datetime\n",
    "3. nanohub.jos_users.registerDate\n",
    "4. nanohub.jos_users.lastvisitDate"
   ]
  },
  {
   "cell_type": "markdown",
   "id": "62318ef1-1bdb-480e-b08d-e8bd04673c9c",
   "metadata": {},
   "source": [
    "----"
   ]
  }
 ],
 "metadata": {
  "kernelspec": {
   "display_name": "Python 3 (ipykernel)",
   "language": "python",
   "name": "python3"
  },
  "language_info": {
   "codemirror_mode": {
    "name": "ipython",
    "version": 3
   },
   "file_extension": ".py",
   "mimetype": "text/x-python",
   "name": "python",
   "nbconvert_exporter": "python",
   "pygments_lexer": "ipython3",
   "version": "3.8.10"
  }
 },
 "nbformat": 4,
 "nbformat_minor": 5
}
