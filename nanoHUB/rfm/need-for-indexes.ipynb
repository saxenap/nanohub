{
 "cells": [
  {
   "cell_type": "markdown",
   "id": "fa7df901-7b35-442f-a638-ad33c58a36ea",
   "metadata": {},
   "source": [
    "##### Author: Praveen Saxena\n",
    "##### Email: saxep01@gmail.com\n",
    "##### Create Date: 7/16/2021\n",
    "##### Purpose: Validate the need for certain indexes on _nanohub.jos_users_ & _nanohub_metrics.userlogin_."
   ]
  },
  {
   "cell_type": "markdown",
   "id": "8e8c70e2-5e53-4810-aaf5-be7759bf458b",
   "metadata": {},
   "source": [
    "----"
   ]
  },
  {
   "cell_type": "markdown",
   "id": "38a12e7b-b664-4775-9fb6-c8cd55d61fe4",
   "metadata": {},
   "source": [
    "Some preliminaries."
   ]
  },
  {
   "cell_type": "code",
   "execution_count": 1,
   "id": "7bdbf15b-d4ca-4c8d-b38a-7f828781a63a",
   "metadata": {},
   "outputs": [],
   "source": [
    "import pandas as pd\n",
    "from pprint import pprint\n",
    "from IPython.display import display, Markdown"
   ]
  },
  {
   "cell_type": "code",
   "execution_count": 2,
   "id": "9def0532-a6cf-4ce5-b98a-a7d6b3a6341d",
   "metadata": {},
   "outputs": [],
   "source": [
    "%%capture \n",
    "\n",
    "from nanoHUB.application import Application\n",
    "\n",
    "application = Application.get_instance()\n",
    "nanohub_db = application.new_db_engine('nanohub')\n",
    "nanohub_metrics_db = application.new_db_engine('nanohub_metrics')"
   ]
  },
  {
   "cell_type": "markdown",
   "id": "23ead3f4-8e19-41c2-8cd4-23131080a8f2",
   "metadata": {},
   "source": [
    "We start with a basic query that finds all the users except for the one-day users.\n",
    "One-day users are users who registered with nanoHUB but never logged in after their first 24 hours of registration."
   ]
  },
  {
   "cell_type": "code",
   "execution_count": 3,
   "id": "040eb90b-a2ff-448a-9812-0b920b865bd2",
   "metadata": {},
   "outputs": [
    {
     "data": {
      "text/html": [
       "<div>\n",
       "<style scoped>\n",
       "    .dataframe tbody tr th:only-of-type {\n",
       "        vertical-align: middle;\n",
       "    }\n",
       "\n",
       "    .dataframe tbody tr th {\n",
       "        vertical-align: top;\n",
       "    }\n",
       "\n",
       "    .dataframe thead th {\n",
       "        text-align: right;\n",
       "    }\n",
       "</style>\n",
       "<table border=\"1\" class=\"dataframe\">\n",
       "  <thead>\n",
       "    <tr style=\"text-align: right;\">\n",
       "      <th></th>\n",
       "      <th>registerDate</th>\n",
       "      <th>lastvisitDate</th>\n",
       "    </tr>\n",
       "  </thead>\n",
       "  <tbody>\n",
       "    <tr>\n",
       "      <th>0</th>\n",
       "      <td>2008-11-18 17:29:56</td>\n",
       "      <td>2020-02-14 18:50:14</td>\n",
       "    </tr>\n",
       "    <tr>\n",
       "      <th>1</th>\n",
       "      <td>2007-01-29 09:34:45</td>\n",
       "      <td>2019-03-15 09:00:31</td>\n",
       "    </tr>\n",
       "    <tr>\n",
       "      <th>2</th>\n",
       "      <td>2005-07-28 01:28:13</td>\n",
       "      <td>2015-02-18 17:03:45</td>\n",
       "    </tr>\n",
       "    <tr>\n",
       "      <th>3</th>\n",
       "      <td>2002-04-17 09:43:44</td>\n",
       "      <td>2010-06-02 20:22:00</td>\n",
       "    </tr>\n",
       "    <tr>\n",
       "      <th>4</th>\n",
       "      <td>2005-07-29 18:24:36</td>\n",
       "      <td>2012-10-02 17:22:20</td>\n",
       "    </tr>\n",
       "  </tbody>\n",
       "</table>\n",
       "</div>"
      ],
      "text/plain": [
       "         registerDate       lastvisitDate\n",
       "0 2008-11-18 17:29:56 2020-02-14 18:50:14\n",
       "1 2007-01-29 09:34:45 2019-03-15 09:00:31\n",
       "2 2005-07-28 01:28:13 2015-02-18 17:03:45\n",
       "3 2002-04-17 09:43:44 2010-06-02 20:22:00\n",
       "4 2005-07-29 18:24:36 2012-10-02 17:22:20"
      ]
     },
     "execution_count": 3,
     "metadata": {},
     "output_type": "execute_result"
    }
   ],
   "source": [
    "sql = '''\n",
    "SELECT registerDate, lastvisitDate\n",
    "    FROM nanohub.jos_users\n",
    "    WHERE registerDate <= DATE_SUB(lastvisitDate, INTERVAL 1 DAY)\n",
    "LIMIT 100;\n",
    "'''\n",
    "df = pd.read_sql(sql, nanohub_db)\n",
    "df.head()"
   ]
  },
  {
   "cell_type": "markdown",
   "id": "db6e7d4a-9fee-44cd-b7e5-452df6cd230d",
   "metadata": {},
   "source": [
    "Let's run a _EXPLAIN_ query on this."
   ]
  },
  {
   "cell_type": "code",
   "execution_count": 4,
   "id": "04e53ec7-d56f-4fb8-9a8a-2877ca6e4ef2",
   "metadata": {},
   "outputs": [
    {
     "data": {
      "text/html": [
       "<div>\n",
       "<style scoped>\n",
       "    .dataframe tbody tr th:only-of-type {\n",
       "        vertical-align: middle;\n",
       "    }\n",
       "\n",
       "    .dataframe tbody tr th {\n",
       "        vertical-align: top;\n",
       "    }\n",
       "\n",
       "    .dataframe thead th {\n",
       "        text-align: right;\n",
       "    }\n",
       "</style>\n",
       "<table border=\"1\" class=\"dataframe\">\n",
       "  <thead>\n",
       "    <tr style=\"text-align: right;\">\n",
       "      <th></th>\n",
       "      <th>id</th>\n",
       "      <th>select_type</th>\n",
       "      <th>table</th>\n",
       "      <th>type</th>\n",
       "      <th>possible_keys</th>\n",
       "      <th>key</th>\n",
       "      <th>key_len</th>\n",
       "      <th>ref</th>\n",
       "      <th>rows</th>\n",
       "      <th>Extra</th>\n",
       "    </tr>\n",
       "  </thead>\n",
       "  <tbody>\n",
       "    <tr>\n",
       "      <th>0</th>\n",
       "      <td>1</td>\n",
       "      <td>SIMPLE</td>\n",
       "      <td>jos_users</td>\n",
       "      <td>ALL</td>\n",
       "      <td>None</td>\n",
       "      <td>None</td>\n",
       "      <td>None</td>\n",
       "      <td>None</td>\n",
       "      <td>263425</td>\n",
       "      <td>Using where</td>\n",
       "    </tr>\n",
       "  </tbody>\n",
       "</table>\n",
       "</div>"
      ],
      "text/plain": [
       "   id select_type      table type possible_keys   key key_len   ref    rows  \\\n",
       "0   1      SIMPLE  jos_users  ALL          None  None    None  None  263425   \n",
       "\n",
       "         Extra  \n",
       "0  Using where  "
      ]
     },
     "execution_count": 4,
     "metadata": {},
     "output_type": "execute_result"
    }
   ],
   "source": [
    "sql = '''\n",
    "EXPLAIN SELECT registerDate, lastvisitDate\n",
    "    FROM nanohub.jos_users\n",
    "    WHERE registerDate <= DATE_SUB(lastvisitDate, INTERVAL 1 DAY)\n",
    "LIMIT 100;\n",
    "'''\n",
    "df = pd.read_sql(sql, nanohub_db)\n",
    "df.head()"
   ]
  },
  {
   "cell_type": "markdown",
   "id": "b6ebf254-7236-46a5-9b7b-a6fc2b436aaa",
   "metadata": {},
   "source": [
    "We can see that the query uses the much maligned _all_ type. This, and the fact that the query plan includes all the 263425 rows indicates the lack of appropriate indexes. In this case, the needed index would be on _registerDate_ and possibly _lastvisitDate_."
   ]
  },
  {
   "cell_type": "markdown",
   "id": "3d3ae7ad-8c9c-40d6-8e4e-d2514ee29525",
   "metadata": {},
   "source": [
    "-----"
   ]
  },
  {
   "cell_type": "markdown",
   "id": "a30795db-9763-4c67-88be-a299026cbc77",
   "metadata": {},
   "source": [
    "Let's take it up a notch. This time we will execute a query to find the _FREQUENCY_ of user visits as the average number of times a user performed an action over his/her lifetime on nanoHUB (now - registerDate). We can use their last day on nanoHUB instead of now() but for our purposes, we will use now()."
   ]
  },
  {
   "cell_type": "code",
   "execution_count": 5,
   "id": "415653e1-fb67-4a04-9d9b-fa98bddb1cb4",
   "metadata": {},
   "outputs": [
    {
     "data": {
      "text/html": [
       "<div>\n",
       "<style scoped>\n",
       "    .dataframe tbody tr th:only-of-type {\n",
       "        vertical-align: middle;\n",
       "    }\n",
       "\n",
       "    .dataframe tbody tr th {\n",
       "        vertical-align: top;\n",
       "    }\n",
       "\n",
       "    .dataframe thead th {\n",
       "        text-align: right;\n",
       "    }\n",
       "</style>\n",
       "<table border=\"1\" class=\"dataframe\">\n",
       "  <thead>\n",
       "    <tr style=\"text-align: right;\">\n",
       "      <th></th>\n",
       "      <th>id</th>\n",
       "      <th>select_type</th>\n",
       "      <th>table</th>\n",
       "      <th>type</th>\n",
       "      <th>possible_keys</th>\n",
       "      <th>key</th>\n",
       "      <th>key_len</th>\n",
       "      <th>ref</th>\n",
       "      <th>rows</th>\n",
       "      <th>Extra</th>\n",
       "    </tr>\n",
       "  </thead>\n",
       "  <tbody>\n",
       "    <tr>\n",
       "      <th>0</th>\n",
       "      <td>1</td>\n",
       "      <td>SIMPLE</td>\n",
       "      <td>logins</td>\n",
       "      <td>index</td>\n",
       "      <td>None</td>\n",
       "      <td>userlogin</td>\n",
       "      <td>951</td>\n",
       "      <td>None</td>\n",
       "      <td>484906592</td>\n",
       "      <td>Using where; Using index</td>\n",
       "    </tr>\n",
       "    <tr>\n",
       "      <th>1</th>\n",
       "      <td>1</td>\n",
       "      <td>SIMPLE</td>\n",
       "      <td>users</td>\n",
       "      <td>eq_ref</td>\n",
       "      <td>PRIMARY</td>\n",
       "      <td>PRIMARY</td>\n",
       "      <td>4</td>\n",
       "      <td>nanohub_metrics.logins.uidnumber</td>\n",
       "      <td>1</td>\n",
       "      <td>Using where</td>\n",
       "    </tr>\n",
       "  </tbody>\n",
       "</table>\n",
       "</div>"
      ],
      "text/plain": [
       "   id select_type   table    type possible_keys        key key_len  \\\n",
       "0   1      SIMPLE  logins   index          None  userlogin     951   \n",
       "1   1      SIMPLE   users  eq_ref       PRIMARY    PRIMARY       4   \n",
       "\n",
       "                                ref       rows                     Extra  \n",
       "0                              None  484906592  Using where; Using index  \n",
       "1  nanohub_metrics.logins.uidnumber          1               Using where  "
      ]
     },
     "execution_count": 5,
     "metadata": {},
     "output_type": "execute_result"
    }
   ],
   "source": [
    "\n",
    "sql = '''\n",
    "EXPLAIN SELECT DISTINCT users.id, users.name, users.registerDate,\n",
    "        COUNT(action) AS `num_actions`, COUNT(DISTINCT DATE(datetime)) as `distinct_days`,\n",
    "        DATEDIFF (NOW(), users.registerDate)/COUNT(DISTINCT DATE(datetime)) as Frequency\n",
    "    FROM nanohub.jos_users AS users\n",
    "        LEFT JOIN nanohub_metrics.userlogin as logins ON logins.uidnumber = users.id\n",
    "        WHERE logins.uidnumber != 0 \n",
    "            && logins.uidnumber IS NOT NULL\n",
    "            &&  registerDate <= DATE_SUB(lastvisitDate, INTERVAL 1 DAY)\n",
    "LIMIT 10\n",
    ";\n",
    "'''\n",
    "\n",
    "df = pd.read_sql(sql, nanohub_db)\n",
    "df"
   ]
  },
  {
   "cell_type": "markdown",
   "id": "af993b59-b1f4-473e-803c-87b9d530a310",
   "metadata": {},
   "source": [
    "We can see again the need for indexes as the entire index tree is scanned to find matching rows. The needed index would be on _nanohub_metrics.userlogin.uidnumber_.\n",
    "\n",
    "Let's see which columns on _nanohub_metrics.userlogin_ do have an index."
   ]
  },
  {
   "cell_type": "code",
   "execution_count": 6,
   "id": "dea1b849-ce25-49b8-97c4-301af0d4f6ee",
   "metadata": {},
   "outputs": [
    {
     "data": {
      "text/html": [
       "<div>\n",
       "<style scoped>\n",
       "    .dataframe tbody tr th:only-of-type {\n",
       "        vertical-align: middle;\n",
       "    }\n",
       "\n",
       "    .dataframe tbody tr th {\n",
       "        vertical-align: top;\n",
       "    }\n",
       "\n",
       "    .dataframe thead th {\n",
       "        text-align: right;\n",
       "    }\n",
       "</style>\n",
       "<table border=\"1\" class=\"dataframe\">\n",
       "  <thead>\n",
       "    <tr style=\"text-align: right;\">\n",
       "      <th></th>\n",
       "      <th>Table</th>\n",
       "      <th>Non_unique</th>\n",
       "      <th>Key_name</th>\n",
       "      <th>Seq_in_index</th>\n",
       "      <th>Column_name</th>\n",
       "      <th>Collation</th>\n",
       "      <th>Cardinality</th>\n",
       "      <th>Sub_part</th>\n",
       "      <th>Packed</th>\n",
       "      <th>Null</th>\n",
       "      <th>Index_type</th>\n",
       "      <th>Comment</th>\n",
       "      <th>Index_comment</th>\n",
       "    </tr>\n",
       "  </thead>\n",
       "  <tbody>\n",
       "    <tr>\n",
       "      <th>0</th>\n",
       "      <td>userlogin</td>\n",
       "      <td>0</td>\n",
       "      <td>PRIMARY</td>\n",
       "      <td>1</td>\n",
       "      <td>id</td>\n",
       "      <td>A</td>\n",
       "      <td>484906592</td>\n",
       "      <td>None</td>\n",
       "      <td>None</td>\n",
       "      <td></td>\n",
       "      <td>BTREE</td>\n",
       "      <td></td>\n",
       "      <td></td>\n",
       "    </tr>\n",
       "    <tr>\n",
       "      <th>1</th>\n",
       "      <td>userlogin</td>\n",
       "      <td>0</td>\n",
       "      <td>userlogin</td>\n",
       "      <td>1</td>\n",
       "      <td>datetime</td>\n",
       "      <td>A</td>\n",
       "      <td>242453296</td>\n",
       "      <td>None</td>\n",
       "      <td>None</td>\n",
       "      <td></td>\n",
       "      <td>BTREE</td>\n",
       "      <td></td>\n",
       "      <td></td>\n",
       "    </tr>\n",
       "    <tr>\n",
       "      <th>2</th>\n",
       "      <td>userlogin</td>\n",
       "      <td>0</td>\n",
       "      <td>userlogin</td>\n",
       "      <td>2</td>\n",
       "      <td>user</td>\n",
       "      <td>A</td>\n",
       "      <td>242453296</td>\n",
       "      <td>None</td>\n",
       "      <td>None</td>\n",
       "      <td></td>\n",
       "      <td>BTREE</td>\n",
       "      <td></td>\n",
       "      <td></td>\n",
       "    </tr>\n",
       "    <tr>\n",
       "      <th>3</th>\n",
       "      <td>userlogin</td>\n",
       "      <td>0</td>\n",
       "      <td>userlogin</td>\n",
       "      <td>3</td>\n",
       "      <td>uidnumber</td>\n",
       "      <td>A</td>\n",
       "      <td>242453296</td>\n",
       "      <td>None</td>\n",
       "      <td>None</td>\n",
       "      <td>YES</td>\n",
       "      <td>BTREE</td>\n",
       "      <td></td>\n",
       "      <td></td>\n",
       "    </tr>\n",
       "    <tr>\n",
       "      <th>4</th>\n",
       "      <td>userlogin</td>\n",
       "      <td>0</td>\n",
       "      <td>userlogin</td>\n",
       "      <td>4</td>\n",
       "      <td>ip</td>\n",
       "      <td>A</td>\n",
       "      <td>484906592</td>\n",
       "      <td>None</td>\n",
       "      <td>None</td>\n",
       "      <td></td>\n",
       "      <td>BTREE</td>\n",
       "      <td></td>\n",
       "      <td></td>\n",
       "    </tr>\n",
       "    <tr>\n",
       "      <th>5</th>\n",
       "      <td>userlogin</td>\n",
       "      <td>0</td>\n",
       "      <td>userlogin</td>\n",
       "      <td>5</td>\n",
       "      <td>action</td>\n",
       "      <td>A</td>\n",
       "      <td>484906592</td>\n",
       "      <td>None</td>\n",
       "      <td>None</td>\n",
       "      <td></td>\n",
       "      <td>BTREE</td>\n",
       "      <td></td>\n",
       "      <td></td>\n",
       "    </tr>\n",
       "    <tr>\n",
       "      <th>6</th>\n",
       "      <td>userlogin</td>\n",
       "      <td>1</td>\n",
       "      <td>username</td>\n",
       "      <td>1</td>\n",
       "      <td>user</td>\n",
       "      <td>A</td>\n",
       "      <td>630567</td>\n",
       "      <td>None</td>\n",
       "      <td>None</td>\n",
       "      <td></td>\n",
       "      <td>BTREE</td>\n",
       "      <td></td>\n",
       "      <td></td>\n",
       "    </tr>\n",
       "  </tbody>\n",
       "</table>\n",
       "</div>"
      ],
      "text/plain": [
       "       Table  Non_unique   Key_name  Seq_in_index Column_name Collation  \\\n",
       "0  userlogin           0    PRIMARY             1          id         A   \n",
       "1  userlogin           0  userlogin             1    datetime         A   \n",
       "2  userlogin           0  userlogin             2        user         A   \n",
       "3  userlogin           0  userlogin             3   uidnumber         A   \n",
       "4  userlogin           0  userlogin             4          ip         A   \n",
       "5  userlogin           0  userlogin             5      action         A   \n",
       "6  userlogin           1   username             1        user         A   \n",
       "\n",
       "   Cardinality Sub_part Packed Null Index_type Comment Index_comment  \n",
       "0    484906592     None   None           BTREE                        \n",
       "1    242453296     None   None           BTREE                        \n",
       "2    242453296     None   None           BTREE                        \n",
       "3    242453296     None   None  YES      BTREE                        \n",
       "4    484906592     None   None           BTREE                        \n",
       "5    484906592     None   None           BTREE                        \n",
       "6       630567     None   None           BTREE                        "
      ]
     },
     "execution_count": 6,
     "metadata": {},
     "output_type": "execute_result"
    }
   ],
   "source": [
    "sql = '''\n",
    "SHOW INDEX FROM nanohub_metrics.userlogin; \n",
    "'''\n",
    "\n",
    "df = pd.read_sql(sql, nanohub_db)\n",
    "df"
   ]
  },
  {
   "cell_type": "markdown",
   "id": "d11bd867-1449-47c6-ac1f-7d9ce9e42a95",
   "metadata": {},
   "source": [
    "So _userlogin_ has a multi-column index on _datetime, user, uidnumber, ip,_ and _action_ because we want to make sure that specific combination of column values is unique. Unfortunately, indexes work like a yellowbook. A yellowbook is essentially indexed by lastname, firstname. This is really great when we need to find someone by their last name first. But what if we had to find people by their first names, first?\n",
    "\n",
    "So having a multi-column index that includes _uidnumber_ as the 3rd column doesn't help us. We need a separate index on _uidnumber_."
   ]
  },
  {
   "cell_type": "markdown",
   "id": "52f46502-bb50-4cd5-ab6f-f83bb7cc59b9",
   "metadata": {},
   "source": [
    "-----"
   ]
  },
  {
   "cell_type": "markdown",
   "id": "920de064-76ce-4cb5-9de8-52325dfb1ae8",
   "metadata": {},
   "source": [
    "The conclusion is that we desperately need indexes on:\n",
    "\n",
    "1. nanohub_metrics.userlogin.uidnumber\n",
    "2. nanohub_metrics.userlogin.datetime\n",
    "3. nanohub.jos_users.registerDate\n",
    "4. nanohub.jos_users.lastvisitDate"
   ]
  },
  {
   "cell_type": "markdown",
   "id": "62318ef1-1bdb-480e-b08d-e8bd04673c9c",
   "metadata": {},
   "source": [
    "----"
   ]
  }
 ],
 "metadata": {
  "kernelspec": {
   "display_name": "Python 3 (ipykernel)",
   "language": "python",
   "name": "python3"
  },
  "language_info": {
   "codemirror_mode": {
    "name": "ipython",
    "version": 3
   },
   "file_extension": ".py",
   "mimetype": "text/x-python",
   "name": "python",
   "nbconvert_exporter": "python",
   "pygments_lexer": "ipython3",
   "version": "3.8.10"
  }
 },
 "nbformat": 4,
 "nbformat_minor": 5
}
