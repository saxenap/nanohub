{
 "cells": [
  {
   "cell_type": "code",
   "execution_count": 1,
   "id": "c9884ea5-164f-4e9c-94ae-9b4767d5885e",
   "metadata": {},
   "outputs": [],
   "source": [
    "from google.cloud import storage\n",
    "import os\n",
    "from io import StringIO # if going with no saving csv file\n",
    "import gcsfs\n",
    "import dask.dataframe as dd\n",
    "from dask.delayed import delayed\n",
    "from pathlib import Path\n",
    "import pandas as pd\n",
    "import os"
   ]
  },
  {
   "cell_type": "code",
   "execution_count": 2,
   "id": "8f79d7af-c801-408f-9632-e90ff4d15fd4",
   "metadata": {},
   "outputs": [],
   "source": [
    "data_dir = Path(os.getenv('APP_DIR') + '/data')\n",
    "\n",
    "userlogin_datadir = Path(data_dir, 'nanohub_metrics/userlogin')\n",
    "jos_users_datadir = Path(data_dir, 'nanohub/jos_users')"
   ]
  },
  {
   "cell_type": "code",
   "execution_count": 3,
   "id": "47080696-49eb-49b5-8dfa-4911f2df388f",
   "metadata": {},
   "outputs": [],
   "source": [
    "%load_ext memory_profiler"
   ]
  },
  {
   "cell_type": "code",
   "execution_count": 4,
   "id": "91bc321e-04df-4424-998a-6f5b7c3f3cd2",
   "metadata": {},
   "outputs": [
    {
     "name": "stdout",
     "output_type": "stream",
     "text": [
      "peak memory: 33799.30 MiB, increment: 33632.58 MiB\n",
      "peak memory: 48501.38 MiB, increment: 32570.80 MiB\n",
      "peak memory: 48474.27 MiB, increment: 33110.76 MiB\n",
      "peak memory: 48406.99 MiB, increment: 33012.30 MiB\n",
      "peak memory: 48437.77 MiB, increment: 32949.85 MiB\n",
      "peak memory: 48359.65 MiB, increment: 32867.53 MiB\n",
      "peak memory: 48330.62 MiB, increment: 32762.37 MiB\n",
      "peak memory: 48412.21 MiB, increment: 32842.75 MiB\n",
      "1min 10s ± 852 ms per loop (mean ± std. dev. of 7 runs, 1 loop each)\n"
     ]
    }
   ],
   "source": [
    "%%timeit\n",
    "%%memit\n",
    "\n",
    "full_df = pd.concat(\n",
    "    pd.read_parquet(parquet_file)\n",
    "    for parquet_file in userlogin_datadir.glob('*.parquet.gzip')\n",
    ")"
   ]
  },
  {
   "cell_type": "code",
   "execution_count": 5,
   "id": "084a9114-c4b2-4d8f-a11f-f21a6f1ff696",
   "metadata": {},
   "outputs": [
    {
     "name": "stdout",
     "output_type": "stream",
     "text": [
      "                     datetime user  uidnumber              ip  action\n",
      "id                                                                   \n",
      "264497646 2018-02-19 04:39:48    -          0   157.55.39.123  detect\n",
      "264497647 2018-02-19 04:39:49    -          0  14.139.181.229  detect\n",
      "264497648 2018-02-19 04:39:49    -          0   46.229.168.80  detect\n",
      "264497649 2018-02-19 04:39:50    -          0   118.185.164.5  detect\n",
      "264497650 2018-02-19 04:39:51    -          0  14.139.181.229  detect\n"
     ]
    }
   ],
   "source": [
    "print(full_df.head())"
   ]
  },
  {
   "cell_type": "code",
   "execution_count": 6,
   "id": "a71f8371-3b09-4df1-93a1-c2786b6865fc",
   "metadata": {},
   "outputs": [
    {
     "name": "stdout",
     "output_type": "stream",
     "text": [
      "peak memory: 15817.86 MiB, increment: 183.86 MiB\n",
      "peak memory: 15862.20 MiB, increment: 44.34 MiB\n",
      "peak memory: 15878.77 MiB, increment: 16.57 MiB\n",
      "peak memory: 15842.35 MiB, increment: -12.44 MiB\n",
      "peak memory: 15829.26 MiB, increment: 9.00 MiB\n",
      "peak memory: 15822.76 MiB, increment: 26.04 MiB\n",
      "peak memory: 15841.28 MiB, increment: 40.35 MiB\n",
      "peak memory: 15817.43 MiB, increment: -0.79 MiB\n",
      "520 ms ± 18 ms per loop (mean ± std. dev. of 7 runs, 1 loop each)\n"
     ]
    }
   ],
   "source": [
    "%%timeit\n",
    "%%memit\n",
    "\n",
    "\n",
    "filenames = userlogin_datadir.glob('*.parquet.gzip')\n",
    "dfs = [delayed(pd.read_parquet)(fn) for fn in filenames]\n",
    "\n",
    "dask_df = dd.from_delayed(dfs) "
   ]
  },
  {
   "cell_type": "code",
   "execution_count": 7,
   "id": "172450ee-b5d9-4a72-a43e-ff388c45f726",
   "metadata": {},
   "outputs": [
    {
     "name": "stdout",
     "output_type": "stream",
     "text": [
      "                     datetime user  uidnumber              ip  action\n",
      "id                                                                   \n",
      "264497646 2018-02-19 04:39:48    -          0   157.55.39.123  detect\n",
      "264497647 2018-02-19 04:39:49    -          0  14.139.181.229  detect\n",
      "264497648 2018-02-19 04:39:49    -          0   46.229.168.80  detect\n",
      "264497649 2018-02-19 04:39:50    -          0   118.185.164.5  detect\n",
      "264497650 2018-02-19 04:39:51    -          0  14.139.181.229  detect\n"
     ]
    }
   ],
   "source": [
    "print(dask_df.head())\n",
    "df = dask_df.compute()"
   ]
  },
  {
   "cell_type": "code",
   "execution_count": null,
   "id": "7830502d-fc27-4711-95d0-5d8846450d3c",
   "metadata": {},
   "outputs": [],
   "source": []
  },
  {
   "cell_type": "code",
   "execution_count": null,
   "id": "42e8b719-438b-4091-9580-14b01bd91871",
   "metadata": {},
   "outputs": [],
   "source": [
    "%%timeit\n",
    "%%memit\n",
    "\n",
    "from multiprocessing import Pool\n",
    "\n",
    "def reader(filename):\n",
    "    return pd.read_parquet(filename)\n",
    "\n",
    "def main(data_dir):\n",
    "    pool = Pool(16) # number of cores you want to use\n",
    "    file_list = data_dir.glob('*.parquet.gzip')\n",
    "    df_list = pool.map(reader, file_list) #creates a list of the loaded df's\n",
    "    return pd.concat(df_list) # concatenates all the df's into a single df\n",
    "\n",
    "df = main(userlogin_datadir)"
   ]
  },
  {
   "cell_type": "code",
   "execution_count": null,
   "id": "3783d0e7-5f87-4d8a-b1bc-5ae8c10f95eb",
   "metadata": {},
   "outputs": [],
   "source": [
    "print(df.head())\n",
    "print(df.tail())"
   ]
  },
  {
   "cell_type": "code",
   "execution_count": null,
   "id": "4ee496ba-c68a-4e0c-968b-2cdcbfc45075",
   "metadata": {},
   "outputs": [],
   "source": []
  }
 ],
 "metadata": {
  "kernelspec": {
   "display_name": "Python 3 (ipykernel)",
   "language": "python",
   "name": "python3"
  },
  "language_info": {
   "codemirror_mode": {
    "name": "ipython",
    "version": 3
   },
   "file_extension": ".py",
   "mimetype": "text/x-python",
   "name": "python",
   "nbconvert_exporter": "python",
   "pygments_lexer": "ipython3",
   "version": "3.8.10"
  }
 },
 "nbformat": 4,
 "nbformat_minor": 5
}
