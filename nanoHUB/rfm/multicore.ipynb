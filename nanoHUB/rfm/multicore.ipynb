{
 "cells": [
  {
   "cell_type": "code",
   "execution_count": null,
   "id": "c9884ea5-164f-4e9c-94ae-9b4767d5885e",
   "metadata": {},
   "outputs": [],
   "source": [
    "from google.cloud import storage\n",
    "import os\n",
    "from io import StringIO # if going with no saving csv file\n",
    "import gcsfs\n",
    "import dask.dataframe as dd\n",
    "from dask.delayed import delayed\n",
    "from pathlib import Path\n",
    "import pandas as pd\n",
    "import os"
   ]
  },
  {
   "cell_type": "code",
   "execution_count": null,
   "id": "8f79d7af-c801-408f-9632-e90ff4d15fd4",
   "metadata": {},
   "outputs": [],
   "source": [
    "data_dir = Path(os.getenv('APP_DIR') + '/nanohub_metrics/userlogin')"
   ]
  },
  {
   "cell_type": "code",
   "execution_count": null,
   "id": "91bc321e-04df-4424-998a-6f5b7c3f3cd2",
   "metadata": {},
   "outputs": [],
   "source": [
    "%%timeit\n",
    "\n",
    "full_df = pd.concat(\n",
    "    pd.read_parquet(parquet_file)\n",
    "    for parquet_file in data_dir.glob('*.parquet.gzip')\n",
    ")"
   ]
  },
  {
   "cell_type": "code",
   "execution_count": null,
   "id": "084a9114-c4b2-4d8f-a11f-f21a6f1ff696",
   "metadata": {},
   "outputs": [],
   "source": [
    "print(full_df.head())"
   ]
  },
  {
   "cell_type": "code",
   "execution_count": null,
   "id": "a71f8371-3b09-4df1-93a1-c2786b6865fc",
   "metadata": {},
   "outputs": [],
   "source": [
    "%%timeit\n",
    "\n",
    "\n",
    "filenames = data_dir.glob('*.parquet.gzip')\n",
    "dfs = [delayed(pd.read_parquet)(fn) for fn in filenames]\n",
    "\n",
    "dask_df = dd.from_delayed(dfs) "
   ]
  },
  {
   "cell_type": "code",
   "execution_count": null,
   "id": "172450ee-b5d9-4a72-a43e-ff388c45f726",
   "metadata": {},
   "outputs": [],
   "source": [
    "print(dask_df.head())\n",
    "df = dask_df.compute()"
   ]
  },
  {
   "cell_type": "code",
   "execution_count": null,
   "id": "7830502d-fc27-4711-95d0-5d8846450d3c",
   "metadata": {},
   "outputs": [],
   "source": []
  },
  {
   "cell_type": "code",
   "execution_count": null,
   "id": "42e8b719-438b-4091-9580-14b01bd91871",
   "metadata": {},
   "outputs": [],
   "source": [
    "%%timeit\n",
    "\n",
    "from multiprocessing import Pool\n",
    "\n",
    "def reader(filename):\n",
    "    return pd.read_parquet(filename)\n",
    "\n",
    "def main():\n",
    "    pool = Pool(16) # number of cores you want to use\n",
    "    file_list = data_dir.glob('*.parquet.gzip')\n",
    "    df_list = pool.map(reader, file_list) #creates a list of the loaded df's\n",
    "    return pd.concat(df_list) # concatenates all the df's into a single df\n",
    "\n",
    "df = main()"
   ]
  },
  {
   "cell_type": "code",
   "execution_count": null,
   "id": "3783d0e7-5f87-4d8a-b1bc-5ae8c10f95eb",
   "metadata": {},
   "outputs": [],
   "source": [
    "print(df.head())\n",
    "print(df.tail())"
   ]
  },
  {
   "cell_type": "code",
   "execution_count": null,
   "id": "4ee496ba-c68a-4e0c-968b-2cdcbfc45075",
   "metadata": {},
   "outputs": [],
   "source": []
  }
 ],
 "metadata": {
  "kernelspec": {
   "display_name": "Python 3 (ipykernel)",
   "language": "python",
   "name": "python3"
  },
  "language_info": {
   "codemirror_mode": {
    "name": "ipython",
    "version": 3
   },
   "file_extension": ".py",
   "mimetype": "text/x-python",
   "name": "python",
   "nbconvert_exporter": "python",
   "pygments_lexer": "ipython3",
   "version": "3.8.10"
  }
 },
 "nbformat": 4,
 "nbformat_minor": 5
}
