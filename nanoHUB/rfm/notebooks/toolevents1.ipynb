{
 "cells": [
  {
   "cell_type": "code",
   "execution_count": 1,
   "id": "c42d5c86-d536-43f4-90c0-47fc70e84e08",
   "metadata": {
    "pycharm": {
     "name": "#%%\n"
    }
   },
   "outputs": [
    {
     "name": "stdout",
     "output_type": "stream",
     "text": [
      "\u001B[1mnanoHUB - Serving Students, Researchers & Instructors\u001B[0m\n"
     ]
    }
   ],
   "source": [
    "from pathlib import Path\n",
    "from functools import reduce\n",
    "import pandas as pd\n",
    "import numpy as np\n",
    "import os\n",
    "from datetime import datetime\n",
    "\n",
    "from nanoHUB.application import Application\n",
    "from nanoHUB.rfm.model import LastUpdateRecord, TempUserDescriptors, UserDescriptors\n",
    "\n",
    "from sqlalchemy import select\n",
    "from sqlalchemy.orm import Session\n",
    "\n",
    "application = Application.get_instance()"
   ]
  },
  {
   "cell_type": "code",
   "execution_count": 2,
   "id": "96e722c4-7d81-430e-a2af-3f6c912e4026",
   "metadata": {
    "pycharm": {
     "name": "#%%\n"
    }
   },
   "outputs": [],
   "source": [
    "CACHE_DIR = Path(Path(os.getenv('APP_DIR')), '.cache')\n",
    "NANOHUB_CACHE = Path(CACHE_DIR, 'nanohub')\n",
    "NANOHUB_METRICS_CACHE = Path(CACHE_DIR, 'nanohub_metrics')"
   ]
  },
  {
   "cell_type": "code",
   "execution_count": null,
   "id": "f2e01feb-715f-47bd-baa5-7a5350ce71ad",
   "metadata": {
    "pycharm": {
     "name": "#%%\n"
    }
   },
   "outputs": [],
   "source": []
  },
  {
   "cell_type": "code",
   "execution_count": 3,
   "id": "0015da90-a28b-4e1d-b0b6-180f61ba449d",
   "metadata": {
    "pycharm": {
     "name": "#%%\n"
    }
   },
   "outputs": [],
   "source": [
    "def get_toolevents_df() -> pd.DataFrame:\n",
    "    return pd.read_parquet(Path(NANOHUB_METRICS_CACHE, 'toolevents'))\n",
    "\n",
    "def filter_nulls(df: pd.DataFrame, col_name: str) -> pd.DataFrame:\n",
    "    df[col_name] = df[col_name].str.strip()\n",
    "    df = df[~df[col_name].isna()]\n",
    "    return df[df[col_name] != '']\n"
   ]
  },
  {
   "cell_type": "code",
   "execution_count": null,
   "id": "399a9674-1017-4df0-8587-1c64331ccba1",
   "metadata": {
    "pycharm": {
     "name": "#%%\n"
    }
   },
   "outputs": [],
   "source": [
    "df = get_toolevents_df()\n",
    "display(df)"
   ]
  },
  {
   "cell_type": "code",
   "execution_count": null,
   "id": "64d6bd53-75a3-4bf6-ac82-1cf08be59f5e",
   "metadata": {
    "pycharm": {
     "name": "#%%\n"
    }
   },
   "outputs": [],
   "source": [
    "display(df.superjob != 0)"
   ]
  },
  {
   "cell_type": "code",
   "execution_count": null,
   "id": "f42e31be-db30-477a-9a18-665bb277f246",
   "metadata": {
    "pycharm": {
     "name": "#%%\n"
    }
   },
   "outputs": [],
   "source": []
  },
  {
   "cell_type": "code",
   "execution_count": null,
   "id": "a7382fcb-e35c-440d-9240-41c98060074a",
   "metadata": {
    "pycharm": {
     "name": "#%%\n"
    }
   },
   "outputs": [],
   "source": [
    "df1 = df[(df.superjob != 0) & (~df['tool'].isin(['nanowire', '1dhetero_r742']))]\n",
    "display(df1)"
   ]
  },
  {
   "cell_type": "code",
   "execution_count": null,
   "id": "315e67a8-e62b-4eec-8c97-9ad54d885d7e",
   "metadata": {
    "pycharm": {
     "name": "#%%\n"
    }
   },
   "outputs": [],
   "source": [
    "all_sources = df[\"source\"].unique()\n",
    "display(all_sources)"
   ]
  },
  {
   "cell_type": "code",
   "execution_count": null,
   "id": "6b8335d7-0724-4b87-b833-be63d14a0973",
   "metadata": {
    "pycharm": {
     "name": "#%%\n"
    }
   },
   "outputs": [],
   "source": [
    "all_superjobs = df[\"superjob\"].unique()\n",
    "display(all_superjobs)"
   ]
  },
  {
   "cell_type": "code",
   "execution_count": null,
   "id": "ea3f7aa9-0119-4a24-a37c-c4242691004d",
   "metadata": {
    "pycharm": {
     "name": "#%%\n"
    }
   },
   "outputs": [],
   "source": [
    "df1 = df[(df.superjob == 1218)]\n",
    "display(df1)"
   ]
  },
  {
   "cell_type": "code",
   "execution_count": null,
   "id": "55d56488-38d2-4de6-901b-84c5e1ee6068",
   "metadata": {
    "pycharm": {
     "name": "#%%\n"
    }
   },
   "outputs": [],
   "source": [
    "display(df['superjob'].value_counts())"
   ]
  },
  {
   "cell_type": "code",
   "execution_count": null,
   "id": "4761ff64-cadc-4e7a-973d-a1dd41feaadc",
   "metadata": {
    "pycharm": {
     "name": "#%%\n"
    }
   },
   "outputs": [],
   "source": [
    "display(len(df['superjob'].unique()))"
   ]
  },
  {
   "cell_type": "code",
   "execution_count": null,
   "id": "1c8fd69f-67af-448d-8938-55f1aa24800f",
   "metadata": {
    "pycharm": {
     "name": "#%%\n"
    }
   },
   "outputs": [],
   "source": [
    "display(len(df['user'].unique()))"
   ]
  },
  {
   "cell_type": "code",
   "execution_count": null,
   "id": "04774c1f-3ddd-49f4-9870-eeb957330066",
   "metadata": {
    "pycharm": {
     "name": "#%%\n"
    }
   },
   "outputs": [],
   "source": [
    "df_filtered = filter_nulls(df, 'user')\n",
    "display(len(df_filtered['user'].unique()))"
   ]
  },
  {
   "cell_type": "code",
   "execution_count": null,
   "id": "9d0f6e31-3e5b-4fd6-9893-7f6f22808b30",
   "metadata": {
    "pycharm": {
     "name": "#%%\n"
    }
   },
   "outputs": [],
   "source": [
    "df1 = df[(df.source == 'from toolstart')]\n",
    "display(df1)"
   ]
  },
  {
   "cell_type": "code",
   "execution_count": null,
   "id": "2c18fc97-eb73-410c-80c9-1d7d43c8ca6e",
   "metadata": {
    "pycharm": {
     "name": "#%%\n"
    }
   },
   "outputs": [],
   "source": []
  },
  {
   "cell_type": "code",
   "execution_count": null,
   "id": "7a1b1a41-ff4c-4441-b4b9-3e3bfb53f963",
   "metadata": {
    "pycharm": {
     "name": "#%%\n"
    }
   },
   "outputs": [],
   "source": [
    "df_users = df.groupby(['user'])['start'].count()\n",
    "display(df_users)"
   ]
  },
  {
   "cell_type": "code",
   "execution_count": null,
   "id": "c6bc7e11-1ca2-4a41-9a15-531ccadcf981",
   "metadata": {
    "pycharm": {
     "name": "#%%\n"
    }
   },
   "outputs": [],
   "source": [
    "df_users = df.groupby(['user'])['finish'].count()\n",
    "display(df_users)"
   ]
  },
  {
   "cell_type": "code",
   "execution_count": null,
   "id": "3834586e-a744-4850-82c3-688b0e1521fe",
   "metadata": {
    "pycharm": {
     "name": "#%%\n"
    }
   },
   "outputs": [],
   "source": [
    "df1 = df[(df.start >= '2008-07-03 04:53:38')]\n",
    "display(df1)\n",
    "display(df1.describe())"
   ]
  },
  {
   "cell_type": "code",
   "execution_count": null,
   "id": "21831635-523a-44c0-8260-85435a93f232",
   "metadata": {
    "pycharm": {
     "name": "#%%\n"
    }
   },
   "outputs": [],
   "source": [
    "df1 = df[(df.start >= '2008-07-03 04:53:38')]['user']\n",
    "display(df1)"
   ]
  },
  {
   "cell_type": "code",
   "execution_count": null,
   "id": "4b20ab57-1088-42c7-bfbe-734afde0f854",
   "metadata": {
    "pycharm": {
     "name": "#%%\n"
    }
   },
   "outputs": [],
   "source": [
    "active_users = df.loc[df.start >= '2008-07-03 04:53:38', 'user'].unique()\n",
    "display(active_users)\n",
    "display(len(active_users))"
   ]
  },
  {
   "cell_type": "code",
   "execution_count": null,
   "id": "6182082f-055b-4421-af18-52eb5b4a41bb",
   "metadata": {
    "pycharm": {
     "name": "#%%\n"
    }
   },
   "outputs": [],
   "source": [
    "df2 = df[df['user'].isin(active_users)]"
   ]
  },
  {
   "cell_type": "code",
   "execution_count": null,
   "id": "cf469cdb-42a4-4e28-9481-c1d22d004fe0",
   "metadata": {
    "pycharm": {
     "name": "#%%\n"
    }
   },
   "outputs": [],
   "source": [
    "display(df2)"
   ]
  },
  {
   "cell_type": "code",
   "execution_count": null,
   "id": "c50e9fff-b319-46db-a7cb-003b40ba7d5f",
   "metadata": {
    "pycharm": {
     "name": "#%%\n"
    }
   },
   "outputs": [],
   "source": [
    "display(len(df2['user'].unique()))"
   ]
  },
  {
   "cell_type": "code",
   "execution_count": null,
   "id": "1401a6a8-6905-4b3b-b92d-126b3a290935",
   "metadata": {
    "pycharm": {
     "name": "#%%\n"
    }
   },
   "outputs": [],
   "source": [
    "df_users = df2.groupby(['user'])['start'].count()\n",
    "display(df_users)"
   ]
  },
  {
   "cell_type": "code",
   "execution_count": null,
   "id": "140ed940-a39d-42aa-b895-934023b8300f",
   "metadata": {
    "pycharm": {
     "name": "#%%\n"
    }
   },
   "outputs": [],
   "source": [
    "df_start_max_min = df.groupby(['user']).agg(first_start_date=('start', np.min), last_start_date=('start', np.max)).reset_index()\n",
    "display(df_start_max_min)"
   ]
  },
  {
   "cell_type": "code",
   "execution_count": null,
   "id": "950f2133-34f4-4efd-b27e-e0407478b558",
   "metadata": {
    "pycharm": {
     "name": "#%%\n"
    }
   },
   "outputs": [],
   "source": []
  },
  {
   "cell_type": "code",
   "execution_count": null,
   "id": "02115a7f-43ff-4520-82d8-10b6b36e664f",
   "metadata": {
    "pycharm": {
     "name": "#%%\n"
    }
   },
   "outputs": [],
   "source": [
    "df_finish_max_min = df.groupby(['user']).agg(first_finish_date=('finish', np.min), last_finish_date=('finish', np.max)).reset_index()\n",
    "display(df_finish_max_min)"
   ]
  },
  {
   "cell_type": "code",
   "execution_count": null,
   "id": "a5403c8d-c737-464c-86bc-21e6f4591c00",
   "metadata": {
    "pycharm": {
     "name": "#%%\n"
    }
   },
   "outputs": [],
   "source": []
  },
  {
   "cell_type": "code",
   "execution_count": null,
   "id": "3f0ca4fa-0874-4b40-8a99-97dc71a487d8",
   "metadata": {
    "pycharm": {
     "name": "#%%\n"
    }
   },
   "outputs": [],
   "source": [
    "df_merged = reduce(lambda left,right: pd.merge(left, right, on=['user'], how='outer'), [\n",
    "        df_start_max_min,\n",
    "        df_finish_max_min\n",
    "    ])\n",
    "display(df_merged)"
   ]
  },
  {
   "cell_type": "code",
   "execution_count": null,
   "id": "dc68eb08-5ea8-42d4-86a0-e2a7717c6680",
   "metadata": {
    "pycharm": {
     "name": "#%%\n"
    }
   },
   "outputs": [],
   "source": [
    "df_merged['toolevents__lifetime'] = (df_merged['last_finish_date'] - df_merged['first_start_date']).dt.days\n",
    "display(df_merged)"
   ]
  },
  {
   "cell_type": "code",
   "execution_count": null,
   "id": "485aefcd-bed1-425a-bff3-36c4333d9cfc",
   "metadata": {
    "pycharm": {
     "name": "#%%\n"
    }
   },
   "outputs": [],
   "source": [
    "df_merged['toolevents__lifetime'] = (df_merged['last_finish_date'] - df_merged['first_start_date']).dt.days\n",
    "display(df_merged)"
   ]
  },
  {
   "cell_type": "code",
   "execution_count": null,
   "id": "60374b67-8ae5-4476-88cb-0de7b6698cee",
   "metadata": {
    "pycharm": {
     "name": "#%%\n"
    }
   },
   "outputs": [],
   "source": [
    "df1 = df[(df.source == 'from toolstart')]\n",
    "display(df1)"
   ]
  }
 ],
 "metadata": {
  "kernelspec": {
   "display_name": "Python 3 (ipykernel)",
   "language": "python",
   "name": "python3"
  },
  "language_info": {
   "codemirror_mode": {
    "name": "ipython",
    "version": 3
   },
   "file_extension": ".py",
   "mimetype": "text/x-python",
   "name": "python",
   "nbconvert_exporter": "python",
   "pygments_lexer": "ipython3",
   "version": "3.8.10"
  }
 },
 "nbformat": 4,
 "nbformat_minor": 5
}