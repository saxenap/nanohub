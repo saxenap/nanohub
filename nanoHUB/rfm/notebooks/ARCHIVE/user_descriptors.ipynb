{
 "cells": [
  {
   "cell_type": "code",
   "execution_count": 1,
   "id": "5cbec32a-56d1-4181-bce0-35612a67b512",
   "metadata": {},
   "outputs": [],
   "source": [
    "import os\n",
    "from pathlib import Path, PurePath\n",
    "import pandas as pd"
   ]
  },
  {
   "cell_type": "code",
   "execution_count": 2,
   "id": "c802afcc-1bb6-49cd-85d1-e84b22998b0e",
   "metadata": {},
   "outputs": [],
   "source": [
    "from pprint import pprint, pp\n",
    "from IPython.display import display, Markdown\n",
    "from icecream import ic"
   ]
  },
  {
   "cell_type": "code",
   "execution_count": 3,
   "id": "e1b3388a-b0d5-4bc1-8ade-15c15a3019c5",
   "metadata": {},
   "outputs": [],
   "source": [
    "%%capture \n",
    "\n",
    "from nanoHUB.application import Application\n",
    "application = Application.get_instance()\n",
    "cache_dir = Path(os.getenv('APP_DIR') + '/.cache')"
   ]
  },
  {
   "cell_type": "code",
   "execution_count": 4,
   "id": "368b1266-302b-4478-b9fc-0c189f6b15f3",
   "metadata": {},
   "outputs": [],
   "source": [
    "%%capture \n",
    "\n",
    "rfm_engine = application.new_db_engine('rfm_data')\n",
    "metrics_engine = application.new_db_engine('nanohub_metrics')"
   ]
  },
  {
   "cell_type": "code",
   "execution_count": 5,
   "id": "8607d485-fe51-48bb-9d99-98f551e03e3e",
   "metadata": {
    "tags": []
   },
   "outputs": [],
   "source": [
    "# sql = '''\n",
    "# SELECT \n",
    "#     MIN(datetime) AS min_datetime, \n",
    "#     MAX(datetime) AS max_datetime, \n",
    "#     user \n",
    "# FROM toolstart \n",
    "# WHERE user != ''\n",
    "# GROUP BY user\n",
    "# '''"
   ]
  },
  {
   "cell_type": "code",
   "execution_count": 6,
   "id": "959e4b70-3ef0-4032-b489-82b67cbdceda",
   "metadata": {},
   "outputs": [],
   "source": [
    "# lifetimes_df = pd.read_sql_query(sql,metrics_engine)\n",
    "# lifetimes_df['min_datetime'] = pd.to_datetime(lifetimes_df['min_datetime'],errors='coerce')\n",
    "# lifetimes_df['max_datetime'] = pd.to_datetime(lifetimes_df['max_datetime'],errors='coerce')\n",
    "# lifetimes_df.to_parquet(PurePath(cache_dir, 'toolstart'), compression='gzip')"
   ]
  },
  {
   "cell_type": "code",
   "execution_count": 7,
   "id": "a60ccf49-2fc0-4b00-9962-101719a0eba9",
   "metadata": {},
   "outputs": [],
   "source": [
    "sql = '''\n",
    "SELECT \n",
    "    *\n",
    "FROM toolstart \n",
    "'''"
   ]
  },
  {
   "cell_type": "code",
   "execution_count": null,
   "id": "9c461dcc-8348-4a49-8dc5-611e7aa7470d",
   "metadata": {},
   "outputs": [],
   "source": [
    "lifetimes_df = pd.read_sql_query(sql,metrics_engine)\n",
    "lifetimes_df['datetime'] = pd.to_datetime(lifetimes_df['datetime'],errors='coerce')\n",
    "lifetimes_df.to_parquet(PurePath(cache_dir, 'toolstart_new'), compression='gzip')"
   ]
  },
  {
   "cell_type": "code",
   "execution_count": null,
   "id": "bc9c425f-64af-4135-a561-656248a01b0b",
   "metadata": {},
   "outputs": [],
   "source": []
  },
  {
   "cell_type": "code",
   "execution_count": null,
   "id": "30c50ee9-4f4c-4528-b260-57e56b7e3d15",
   "metadata": {},
   "outputs": [],
   "source": [
    "lifetimes_df = pd.read_parquet(PurePath(cache_dir, 'toolstart_new'))"
   ]
  },
  {
   "cell_type": "code",
   "execution_count": null,
   "id": "a681b4a7-fe3a-47c4-afa6-f204b24f9cf4",
   "metadata": {},
   "outputs": [],
   "source": [
    "display(lifetimes_df.head())"
   ]
  },
  {
   "cell_type": "code",
   "execution_count": null,
   "id": "e5f9a8ac-4b93-47ae-9ac4-93249e0884bd",
   "metadata": {},
   "outputs": [],
   "source": [
    "display(lifetimes_df.tail())"
   ]
  },
  {
   "cell_type": "code",
   "execution_count": null,
   "id": "17f11c6b-d364-4df6-a5f2-e5727bfafa98",
   "metadata": {},
   "outputs": [],
   "source": [
    "display(lifetimes_df.info())"
   ]
  },
  {
   "cell_type": "code",
   "execution_count": null,
   "id": "334195c4-c517-466c-a17e-4beec6f9c11a",
   "metadata": {},
   "outputs": [],
   "source": [
    "lifetimes_df.loc[lifetimes_df.min_datetime == '0000-00-00 00:00:00', 'datetime'] = '2000-01-01 00:10:10'"
   ]
  },
  {
   "cell_type": "code",
   "execution_count": null,
   "id": "2cc1a9bb-6894-4a7f-a48c-daa070c9d620",
   "metadata": {},
   "outputs": [],
   "source": [
    "display(lifetimes_df.dtypes)"
   ]
  },
  {
   "cell_type": "code",
   "execution_count": null,
   "id": "dcd2d0cd-a8a8-41ea-908a-ca0a459cab8c",
   "metadata": {},
   "outputs": [],
   "source": [
    "lifetimes_df['user_lifetime'] = (lifetimes_df['max_datetime'] - lifetimes_df['min_datetime']).dt.days"
   ]
  },
  {
   "cell_type": "code",
   "execution_count": null,
   "id": "7ceeef50-b0b8-447b-a252-095d5ca41ff3",
   "metadata": {},
   "outputs": [],
   "source": [
    "display(lifetimes_df)"
   ]
  },
  {
   "cell_type": "code",
   "execution_count": null,
   "id": "5e585be7-c35a-4cae-8604-69ac879233c5",
   "metadata": {},
   "outputs": [],
   "source": []
  },
  {
   "cell_type": "code",
   "execution_count": null,
   "id": "4ab92522-4daf-45ab-b2a3-2930e4ae982f",
   "metadata": {},
   "outputs": [],
   "source": []
  },
  {
   "cell_type": "code",
   "execution_count": null,
   "id": "8eb75351-7043-4ef9-b8b7-73a4cef34bca",
   "metadata": {},
   "outputs": [],
   "source": [
    "new_df = pd.read_parquet(PurePath(cache_dir, 'nanohub_metrics/toolstart'))"
   ]
  },
  {
   "cell_type": "code",
   "execution_count": null,
   "id": "af48cc62-fdcb-4474-864e-c681fe1a7691",
   "metadata": {},
   "outputs": [],
   "source": []
  },
  {
   "cell_type": "code",
   "execution_count": null,
   "id": "80567da3-026e-4554-81af-c409ce1398bd",
   "metadata": {},
   "outputs": [],
   "source": []
  }
 ],
 "metadata": {
  "kernelspec": {
   "display_name": "Python 3 (ipykernel)",
   "language": "python",
   "name": "python3"
  },
  "language_info": {
   "codemirror_mode": {
    "name": "ipython",
    "version": 3
   },
   "file_extension": ".py",
   "mimetype": "text/x-python",
   "name": "python",
   "nbconvert_exporter": "python",
   "pygments_lexer": "ipython3",
   "version": "3.8.10"
  }
 },
 "nbformat": 4,
 "nbformat_minor": 5
}
