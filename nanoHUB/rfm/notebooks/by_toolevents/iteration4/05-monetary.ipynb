{
 "cells": [
  {
   "cell_type": "code",
   "execution_count": 1,
   "id": "d467e86a-ec0f-4da4-a1bc-47f9ca90386d",
   "metadata": {
    "execution": {
     "iopub.execute_input": "2021-08-24T19:14:17.764015Z",
     "iopub.status.busy": "2021-08-24T19:14:17.763468Z",
     "iopub.status.idle": "2021-08-24T19:14:19.263139Z",
     "shell.execute_reply": "2021-08-24T19:14:19.262437Z",
     "shell.execute_reply.started": "2021-08-24T19:14:17.763943Z"
    },
    "tags": []
   },
   "outputs": [
    {
     "name": "stdout",
     "output_type": "stream",
     "text": [
      "\u001b[1mnanoHUB - Serving Students, Researchers & Instructors\u001b[0m\n"
     ]
    }
   ],
   "source": [
    "from pathlib import Path\n",
    "import os\n",
    "import pandas as pd\n",
    "\n",
    "import seaborn as sns\n",
    "from sklearn.cluster import KMeans\n",
    "from sklearn.preprocessing import StandardScaler\n",
    "from sklearn.preprocessing import MinMaxScaler\n",
    "from sklearn.manifold import TSNE\n",
    "from sklearn.metrics import silhouette_score\n",
    "from sklearn.metrics import davies_bouldin_score,v_measure_score\n",
    "from yellowbrick.cluster import SilhouetteVisualizer\n",
    "import matplotlib.pyplot as plt\n",
    "\n",
    "from nanoHUB.rfm.functions import CacheDirs, elbow_curve, display_cluster_info"
   ]
  },
  {
   "cell_type": "code",
   "execution_count": 2,
   "id": "ff5c56ea-f959-4a2e-bbd7-5ac1698cea82",
   "metadata": {
    "execution": {
     "iopub.execute_input": "2021-08-24T19:14:19.265181Z",
     "iopub.status.busy": "2021-08-24T19:14:19.264667Z",
     "iopub.status.idle": "2021-08-24T19:14:19.270144Z",
     "shell.execute_reply": "2021-08-24T19:14:19.269346Z",
     "shell.execute_reply.started": "2021-08-24T19:14:19.265153Z"
    }
   },
   "outputs": [],
   "source": [
    "cached_dirs = CacheDirs()\n",
    "data_dir = Path(cached_dirs.cache_dir, 'rfm/by_toolevents/iteration4')"
   ]
  },
  {
   "cell_type": "code",
   "execution_count": 3,
   "id": "d4f3391b-4a89-4521-9e70-5de0e3d5d22a",
   "metadata": {
    "execution": {
     "iopub.execute_input": "2021-08-24T19:14:19.273866Z",
     "iopub.status.busy": "2021-08-24T19:14:19.272628Z",
     "iopub.status.idle": "2021-08-24T19:14:19.539991Z",
     "shell.execute_reply": "2021-08-24T19:14:19.538674Z",
     "shell.execute_reply.started": "2021-08-24T19:14:19.273828Z"
    },
    "tags": []
   },
   "outputs": [],
   "source": [
    "df = pd.read_csv(\n",
    "    Path(cached_dirs.cache_dir, 'unclassified_user_data.csv'),\n",
    "    index_col=False\n",
    ")"
   ]
  },
  {
   "cell_type": "code",
   "execution_count": null,
   "id": "9d4eecf8-b037-46e6-93c2-49822a456228",
   "metadata": {
    "tags": []
   },
   "outputs": [],
   "source": []
  },
  {
   "cell_type": "code",
   "execution_count": 4,
   "id": "061dfdf2-fe13-49c5-bb3d-4eab3735fda2",
   "metadata": {
    "execution": {
     "iopub.execute_input": "2021-08-24T19:14:19.542521Z",
     "iopub.status.busy": "2021-08-24T19:14:19.541892Z",
     "iopub.status.idle": "2021-08-24T19:14:19.556653Z",
     "shell.execute_reply": "2021-08-24T19:14:19.555820Z",
     "shell.execute_reply.started": "2021-08-24T19:14:19.542494Z"
    },
    "tags": []
   },
   "outputs": [],
   "source": [
    "users = pd.DataFrame(df['user'].unique())\n",
    "users.columns = ['user']"
   ]
  },
  {
   "cell_type": "code",
   "execution_count": 5,
   "id": "ace3e288-4add-4d01-a5f2-02296c73156d",
   "metadata": {
    "execution": {
     "iopub.execute_input": "2021-08-24T19:14:19.560292Z",
     "iopub.status.busy": "2021-08-24T19:14:19.558506Z",
     "iopub.status.idle": "2021-08-24T19:14:19.652011Z",
     "shell.execute_reply": "2021-08-24T19:14:19.648637Z",
     "shell.execute_reply.started": "2021-08-24T19:14:19.560215Z"
    },
    "tags": []
   },
   "outputs": [
    {
     "data": {
      "text/html": [
       "<div>\n",
       "<style scoped>\n",
       "    .dataframe tbody tr th:only-of-type {\n",
       "        vertical-align: middle;\n",
       "    }\n",
       "\n",
       "    .dataframe tbody tr th {\n",
       "        vertical-align: top;\n",
       "    }\n",
       "\n",
       "    .dataframe thead th {\n",
       "        text-align: right;\n",
       "    }\n",
       "</style>\n",
       "<table border=\"1\" class=\"dataframe\">\n",
       "  <thead>\n",
       "    <tr style=\"text-align: right;\">\n",
       "      <th></th>\n",
       "      <th>user</th>\n",
       "      <th>job_count</th>\n",
       "      <th>job_event_days</th>\n",
       "      <th>Monetary</th>\n",
       "    </tr>\n",
       "  </thead>\n",
       "  <tbody>\n",
       "    <tr>\n",
       "      <th>0</th>\n",
       "      <td>0117tomboy</td>\n",
       "      <td>20</td>\n",
       "      <td>5</td>\n",
       "      <td>4.000000</td>\n",
       "    </tr>\n",
       "    <tr>\n",
       "      <th>1</th>\n",
       "      <td>0190matze</td>\n",
       "      <td>20</td>\n",
       "      <td>3</td>\n",
       "      <td>6.666667</td>\n",
       "    </tr>\n",
       "    <tr>\n",
       "      <th>2</th>\n",
       "      <td>061962588x</td>\n",
       "      <td>40</td>\n",
       "      <td>5</td>\n",
       "      <td>8.000000</td>\n",
       "    </tr>\n",
       "    <tr>\n",
       "      <th>3</th>\n",
       "      <td>061972018x</td>\n",
       "      <td>66</td>\n",
       "      <td>4</td>\n",
       "      <td>16.500000</td>\n",
       "    </tr>\n",
       "    <tr>\n",
       "      <th>4</th>\n",
       "      <td>0808wodlr</td>\n",
       "      <td>13</td>\n",
       "      <td>2</td>\n",
       "      <td>6.500000</td>\n",
       "    </tr>\n",
       "    <tr>\n",
       "      <th>...</th>\n",
       "      <td>...</td>\n",
       "      <td>...</td>\n",
       "      <td>...</td>\n",
       "      <td>...</td>\n",
       "    </tr>\n",
       "    <tr>\n",
       "      <th>36533</th>\n",
       "      <td>zzpnm003</td>\n",
       "      <td>11</td>\n",
       "      <td>2</td>\n",
       "      <td>5.500000</td>\n",
       "    </tr>\n",
       "    <tr>\n",
       "      <th>36534</th>\n",
       "      <td>zzxhuang</td>\n",
       "      <td>21</td>\n",
       "      <td>3</td>\n",
       "      <td>7.000000</td>\n",
       "    </tr>\n",
       "    <tr>\n",
       "      <th>36535</th>\n",
       "      <td>zzxtcwz</td>\n",
       "      <td>4</td>\n",
       "      <td>2</td>\n",
       "      <td>2.000000</td>\n",
       "    </tr>\n",
       "    <tr>\n",
       "      <th>36536</th>\n",
       "      <td>zzyang19891221</td>\n",
       "      <td>82</td>\n",
       "      <td>13</td>\n",
       "      <td>6.307692</td>\n",
       "    </tr>\n",
       "    <tr>\n",
       "      <th>36537</th>\n",
       "      <td>zzz1ttt</td>\n",
       "      <td>60</td>\n",
       "      <td>6</td>\n",
       "      <td>10.000000</td>\n",
       "    </tr>\n",
       "  </tbody>\n",
       "</table>\n",
       "<p>36538 rows × 4 columns</p>\n",
       "</div>"
      ],
      "text/plain": [
       "                 user  job_count  job_event_days   Monetary\n",
       "0          0117tomboy         20               5   4.000000\n",
       "1           0190matze         20               3   6.666667\n",
       "2          061962588x         40               5   8.000000\n",
       "3          061972018x         66               4  16.500000\n",
       "4           0808wodlr         13               2   6.500000\n",
       "...               ...        ...             ...        ...\n",
       "36533        zzpnm003         11               2   5.500000\n",
       "36534        zzxhuang         21               3   7.000000\n",
       "36535         zzxtcwz          4               2   2.000000\n",
       "36536  zzyang19891221         82              13   6.307692\n",
       "36537         zzz1ttt         60               6  10.000000\n",
       "\n",
       "[36538 rows x 4 columns]"
      ]
     },
     "metadata": {},
     "output_type": "display_data"
    }
   ],
   "source": [
    "monetary_df = df[['user', 'job_count', 'job_event_days']].copy()\n",
    "monetary_df['Monetary'] = monetary_df['job_count']/monetary_df['job_event_days']\n",
    "\n",
    "users = pd.merge(users, monetary_df, on='user')\n",
    "display(monetary_df)"
   ]
  },
  {
   "cell_type": "code",
   "execution_count": 6,
   "id": "02537400-74b0-4fa9-9f78-a702854c942d",
   "metadata": {
    "execution": {
     "iopub.execute_input": "2021-08-24T19:14:19.654143Z",
     "iopub.status.busy": "2021-08-24T19:14:19.653391Z",
     "iopub.status.idle": "2021-08-24T19:14:22.068227Z",
     "shell.execute_reply": "2021-08-24T19:14:22.066298Z",
     "shell.execute_reply.started": "2021-08-24T19:14:19.654106Z"
    }
   },
   "outputs": [
    {
     "name": "stderr",
     "output_type": "stream",
     "text": [
      "findfont: Font family ['sans-serif'] not found. Falling back to DejaVu Sans.\n",
      "findfont: Generic family 'sans-serif' not found because none of the following families were found: Arial, Liberation Sans, Bitstream Vera Sans, sans-serif\n",
      "findfont: Font family ['sans-serif'] not found. Falling back to DejaVu Sans.\n",
      "findfont: Generic family 'sans-serif' not found because none of the following families were found: Arial, Liberation Sans, Bitstream Vera Sans, sans-serif\n",
      "findfont: Font family ['sans-serif'] not found. Falling back to DejaVu Sans.\n",
      "findfont: Generic family 'sans-serif' not found because none of the following families were found: Arial, Liberation Sans, Bitstream Vera Sans, sans-serif\n"
     ]
    },
    {
     "data": {
      "image/png": "[encoded data removed]",
      "text/plain": [
       "<Figure size 576x396 with 1 Axes>"
      ]
     },
     "metadata": {},
     "output_type": "display_data"
    }
   ],
   "source": [
    "elbow_curve(users[['Monetary']])"
   ]
  },
  {
   "cell_type": "code",
   "execution_count": 7,
   "id": "ac0e51d2-9bc8-42d8-838a-45443c20f23d",
   "metadata": {
    "execution": {
     "iopub.execute_input": "2021-08-24T19:14:22.070252Z",
     "iopub.status.busy": "2021-08-24T19:14:22.069405Z",
     "iopub.status.idle": "2021-08-24T19:14:22.318933Z",
     "shell.execute_reply": "2021-08-24T19:14:22.317993Z",
     "shell.execute_reply.started": "2021-08-24T19:14:22.070225Z"
    },
    "tags": []
   },
   "outputs": [
    {
     "data": {
      "text/html": [
       "<div>\n",
       "<style scoped>\n",
       "    .dataframe tbody tr th:only-of-type {\n",
       "        vertical-align: middle;\n",
       "    }\n",
       "\n",
       "    .dataframe tbody tr th {\n",
       "        vertical-align: top;\n",
       "    }\n",
       "\n",
       "    .dataframe thead th {\n",
       "        text-align: right;\n",
       "    }\n",
       "</style>\n",
       "<table border=\"1\" class=\"dataframe\">\n",
       "  <thead>\n",
       "    <tr style=\"text-align: right;\">\n",
       "      <th></th>\n",
       "      <th>count</th>\n",
       "      <th>mean</th>\n",
       "      <th>std</th>\n",
       "      <th>min</th>\n",
       "      <th>25%</th>\n",
       "      <th>50%</th>\n",
       "      <th>75%</th>\n",
       "      <th>max</th>\n",
       "    </tr>\n",
       "    <tr>\n",
       "      <th>MonetaryCluster</th>\n",
       "      <th></th>\n",
       "      <th></th>\n",
       "      <th></th>\n",
       "      <th></th>\n",
       "      <th></th>\n",
       "      <th></th>\n",
       "      <th></th>\n",
       "      <th></th>\n",
       "    </tr>\n",
       "  </thead>\n",
       "  <tbody>\n",
       "    <tr>\n",
       "      <th>0</th>\n",
       "      <td>36534.0</td>\n",
       "      <td>109.838013</td>\n",
       "      <td>605.026807</td>\n",
       "      <td>1.0</td>\n",
       "      <td>3.200000</td>\n",
       "      <td>6.000000</td>\n",
       "      <td>14.250000</td>\n",
       "      <td>24040.000000</td>\n",
       "    </tr>\n",
       "    <tr>\n",
       "      <th>1</th>\n",
       "      <td>1.0</td>\n",
       "      <td>745208.000000</td>\n",
       "      <td>NaN</td>\n",
       "      <td>745208.0</td>\n",
       "      <td>745208.000000</td>\n",
       "      <td>745208.000000</td>\n",
       "      <td>745208.000000</td>\n",
       "      <td>745208.000000</td>\n",
       "    </tr>\n",
       "    <tr>\n",
       "      <th>2</th>\n",
       "      <td>3.0</td>\n",
       "      <td>88107.284076</td>\n",
       "      <td>13183.555444</td>\n",
       "      <td>77899.5</td>\n",
       "      <td>80665.118421</td>\n",
       "      <td>83430.736842</td>\n",
       "      <td>93211.176113</td>\n",
       "      <td>102991.615385</td>\n",
       "    </tr>\n",
       "  </tbody>\n",
       "</table>\n",
       "</div>"
      ],
      "text/plain": [
       "                   count           mean           std       min  \\\n",
       "MonetaryCluster                                                   \n",
       "0                36534.0     109.838013    605.026807       1.0   \n",
       "1                    1.0  745208.000000           NaN  745208.0   \n",
       "2                    3.0   88107.284076  13183.555444   77899.5   \n",
       "\n",
       "                           25%            50%            75%            max  \n",
       "MonetaryCluster                                                              \n",
       "0                     3.200000       6.000000      14.250000   24040.000000  \n",
       "1                745208.000000  745208.000000  745208.000000  745208.000000  \n",
       "2                 80665.118421   83430.736842   93211.176113  102991.615385  "
      ]
     },
     "metadata": {},
     "output_type": "display_data"
    },
    {
     "data": {
      "text/html": [
       "<div>\n",
       "<style scoped>\n",
       "    .dataframe tbody tr th:only-of-type {\n",
       "        vertical-align: middle;\n",
       "    }\n",
       "\n",
       "    .dataframe tbody tr th {\n",
       "        vertical-align: top;\n",
       "    }\n",
       "\n",
       "    .dataframe thead tr th {\n",
       "        text-align: left;\n",
       "    }\n",
       "\n",
       "    .dataframe thead tr:last-of-type th {\n",
       "        text-align: right;\n",
       "    }\n",
       "</style>\n",
       "<table border=\"1\" class=\"dataframe\">\n",
       "  <thead>\n",
       "    <tr>\n",
       "      <th></th>\n",
       "      <th colspan=\"8\" halign=\"left\">job_count</th>\n",
       "      <th colspan=\"8\" halign=\"left\">job_event_days</th>\n",
       "    </tr>\n",
       "    <tr>\n",
       "      <th></th>\n",
       "      <th>count</th>\n",
       "      <th>mean</th>\n",
       "      <th>std</th>\n",
       "      <th>min</th>\n",
       "      <th>25%</th>\n",
       "      <th>50%</th>\n",
       "      <th>75%</th>\n",
       "      <th>max</th>\n",
       "      <th>count</th>\n",
       "      <th>mean</th>\n",
       "      <th>std</th>\n",
       "      <th>min</th>\n",
       "      <th>25%</th>\n",
       "      <th>50%</th>\n",
       "      <th>75%</th>\n",
       "      <th>max</th>\n",
       "    </tr>\n",
       "    <tr>\n",
       "      <th>MonetaryCluster</th>\n",
       "      <th></th>\n",
       "      <th></th>\n",
       "      <th></th>\n",
       "      <th></th>\n",
       "      <th></th>\n",
       "      <th></th>\n",
       "      <th></th>\n",
       "      <th></th>\n",
       "      <th></th>\n",
       "      <th></th>\n",
       "      <th></th>\n",
       "      <th></th>\n",
       "      <th></th>\n",
       "      <th></th>\n",
       "      <th></th>\n",
       "      <th></th>\n",
       "    </tr>\n",
       "  </thead>\n",
       "  <tbody>\n",
       "    <tr>\n",
       "      <th>0</th>\n",
       "      <td>36534.0</td>\n",
       "      <td>9.656983e+02</td>\n",
       "      <td>13435.493592</td>\n",
       "      <td>2.0</td>\n",
       "      <td>10.0</td>\n",
       "      <td>26.0</td>\n",
       "      <td>104.0</td>\n",
       "      <td>1336224.0</td>\n",
       "      <td>36534.0</td>\n",
       "      <td>6.966962</td>\n",
       "      <td>13.821539</td>\n",
       "      <td>2.0</td>\n",
       "      <td>2.0</td>\n",
       "      <td>4.0</td>\n",
       "      <td>7.0</td>\n",
       "      <td>966.0</td>\n",
       "    </tr>\n",
       "    <tr>\n",
       "      <th>1</th>\n",
       "      <td>1.0</td>\n",
       "      <td>8.942496e+06</td>\n",
       "      <td>NaN</td>\n",
       "      <td>8942496.0</td>\n",
       "      <td>8942496.0</td>\n",
       "      <td>8942496.0</td>\n",
       "      <td>8942496.0</td>\n",
       "      <td>8942496.0</td>\n",
       "      <td>1.0</td>\n",
       "      <td>12.000000</td>\n",
       "      <td>NaN</td>\n",
       "      <td>12.0</td>\n",
       "      <td>12.0</td>\n",
       "      <td>12.0</td>\n",
       "      <td>12.0</td>\n",
       "      <td>12.0</td>\n",
       "    </tr>\n",
       "    <tr>\n",
       "      <th>2</th>\n",
       "      <td>3.0</td>\n",
       "      <td>1.026625e+06</td>\n",
       "      <td>764145.317827</td>\n",
       "      <td>155799.0</td>\n",
       "      <td>747345.0</td>\n",
       "      <td>1338891.0</td>\n",
       "      <td>1462037.5</td>\n",
       "      <td>1585184.0</td>\n",
       "      <td>3.0</td>\n",
       "      <td>11.333333</td>\n",
       "      <td>8.621678</td>\n",
       "      <td>2.0</td>\n",
       "      <td>7.5</td>\n",
       "      <td>13.0</td>\n",
       "      <td>16.0</td>\n",
       "      <td>19.0</td>\n",
       "    </tr>\n",
       "  </tbody>\n",
       "</table>\n",
       "</div>"
      ],
      "text/plain": [
       "                job_count                                                     \\\n",
       "                    count          mean            std        min        25%   \n",
       "MonetaryCluster                                                                \n",
       "0                 36534.0  9.656983e+02   13435.493592        2.0       10.0   \n",
       "1                     1.0  8.942496e+06            NaN  8942496.0  8942496.0   \n",
       "2                     3.0  1.026625e+06  764145.317827   155799.0   747345.0   \n",
       "\n",
       "                                                 job_event_days             \\\n",
       "                       50%        75%        max          count       mean   \n",
       "MonetaryCluster                                                              \n",
       "0                     26.0      104.0  1336224.0        36534.0   6.966962   \n",
       "1                8942496.0  8942496.0  8942496.0            1.0  12.000000   \n",
       "2                1338891.0  1462037.5  1585184.0            3.0  11.333333   \n",
       "\n",
       "                                                           \n",
       "                       std   min   25%   50%   75%    max  \n",
       "MonetaryCluster                                            \n",
       "0                13.821539   2.0   2.0   4.0   7.0  966.0  \n",
       "1                      NaN  12.0  12.0  12.0  12.0   12.0  \n",
       "2                 8.621678   2.0   7.5  13.0  16.0   19.0  "
      ]
     },
     "metadata": {},
     "output_type": "display_data"
    }
   ],
   "source": [
    "kmeans = KMeans(n_clusters=3)\n",
    "kmeans.fit(users[['Monetary']])\n",
    "users['MonetaryCluster'] = kmeans.predict(users[['Monetary']])\n",
    "\n",
    "display(users.groupby('MonetaryCluster')['Monetary'].describe())\n",
    "display(users.groupby('MonetaryCluster')[['job_count', 'job_event_days']].describe())"
   ]
  },
  {
   "cell_type": "code",
   "execution_count": 8,
   "id": "69050de1-5894-4608-93f2-13d7e22664fc",
   "metadata": {
    "execution": {
     "iopub.execute_input": "2021-08-24T19:14:22.321186Z",
     "iopub.status.busy": "2021-08-24T19:14:22.319806Z",
     "iopub.status.idle": "2021-08-24T19:14:22.498346Z",
     "shell.execute_reply": "2021-08-24T19:14:22.497824Z",
     "shell.execute_reply.started": "2021-08-24T19:14:22.321091Z"
    }
   },
   "outputs": [
    {
     "data": {
      "text/html": [
       "<div>\n",
       "<style scoped>\n",
       "    .dataframe tbody tr th:only-of-type {\n",
       "        vertical-align: middle;\n",
       "    }\n",
       "\n",
       "    .dataframe tbody tr th {\n",
       "        vertical-align: top;\n",
       "    }\n",
       "\n",
       "    .dataframe thead tr th {\n",
       "        text-align: left;\n",
       "    }\n",
       "\n",
       "    .dataframe thead tr:last-of-type th {\n",
       "        text-align: right;\n",
       "    }\n",
       "</style>\n",
       "<table border=\"1\" class=\"dataframe\">\n",
       "  <thead>\n",
       "    <tr>\n",
       "      <th></th>\n",
       "      <th colspan=\"8\" halign=\"left\">job_count</th>\n",
       "      <th colspan=\"8\" halign=\"left\">job_event_days</th>\n",
       "    </tr>\n",
       "    <tr>\n",
       "      <th></th>\n",
       "      <th>count</th>\n",
       "      <th>mean</th>\n",
       "      <th>std</th>\n",
       "      <th>min</th>\n",
       "      <th>25%</th>\n",
       "      <th>50%</th>\n",
       "      <th>75%</th>\n",
       "      <th>max</th>\n",
       "      <th>count</th>\n",
       "      <th>mean</th>\n",
       "      <th>std</th>\n",
       "      <th>min</th>\n",
       "      <th>25%</th>\n",
       "      <th>50%</th>\n",
       "      <th>75%</th>\n",
       "      <th>max</th>\n",
       "    </tr>\n",
       "    <tr>\n",
       "      <th>MonetaryCluster</th>\n",
       "      <th></th>\n",
       "      <th></th>\n",
       "      <th></th>\n",
       "      <th></th>\n",
       "      <th></th>\n",
       "      <th></th>\n",
       "      <th></th>\n",
       "      <th></th>\n",
       "      <th></th>\n",
       "      <th></th>\n",
       "      <th></th>\n",
       "      <th></th>\n",
       "      <th></th>\n",
       "      <th></th>\n",
       "      <th></th>\n",
       "      <th></th>\n",
       "    </tr>\n",
       "  </thead>\n",
       "  <tbody>\n",
       "    <tr>\n",
       "      <th>0</th>\n",
       "      <td>36212.0</td>\n",
       "      <td>5.631219e+02</td>\n",
       "      <td>5897.473944</td>\n",
       "      <td>2.0</td>\n",
       "      <td>10.00</td>\n",
       "      <td>26.0</td>\n",
       "      <td>98.00</td>\n",
       "      <td>603974.0</td>\n",
       "      <td>36212.0</td>\n",
       "      <td>6.952889</td>\n",
       "      <td>13.800567</td>\n",
       "      <td>2.0</td>\n",
       "      <td>2.0</td>\n",
       "      <td>4.0</td>\n",
       "      <td>7.00</td>\n",
       "      <td>966.0</td>\n",
       "    </tr>\n",
       "    <tr>\n",
       "      <th>1</th>\n",
       "      <td>1.0</td>\n",
       "      <td>8.942496e+06</td>\n",
       "      <td>NaN</td>\n",
       "      <td>8942496.0</td>\n",
       "      <td>8942496.00</td>\n",
       "      <td>8942496.0</td>\n",
       "      <td>8942496.00</td>\n",
       "      <td>8942496.0</td>\n",
       "      <td>1.0</td>\n",
       "      <td>12.000000</td>\n",
       "      <td>NaN</td>\n",
       "      <td>12.0</td>\n",
       "      <td>12.0</td>\n",
       "      <td>12.0</td>\n",
       "      <td>12.00</td>\n",
       "      <td>12.0</td>\n",
       "    </tr>\n",
       "    <tr>\n",
       "      <th>2</th>\n",
       "      <td>3.0</td>\n",
       "      <td>1.026625e+06</td>\n",
       "      <td>764145.317827</td>\n",
       "      <td>155799.0</td>\n",
       "      <td>747345.00</td>\n",
       "      <td>1338891.0</td>\n",
       "      <td>1462037.50</td>\n",
       "      <td>1585184.0</td>\n",
       "      <td>3.0</td>\n",
       "      <td>11.333333</td>\n",
       "      <td>8.621678</td>\n",
       "      <td>2.0</td>\n",
       "      <td>7.5</td>\n",
       "      <td>13.0</td>\n",
       "      <td>16.00</td>\n",
       "      <td>19.0</td>\n",
       "    </tr>\n",
       "    <tr>\n",
       "      <th>3</th>\n",
       "      <td>322.0</td>\n",
       "      <td>4.623929e+04</td>\n",
       "      <td>120608.082767</td>\n",
       "      <td>4992.0</td>\n",
       "      <td>10892.75</td>\n",
       "      <td>17264.5</td>\n",
       "      <td>32173.25</td>\n",
       "      <td>1336224.0</td>\n",
       "      <td>322.0</td>\n",
       "      <td>8.549689</td>\n",
       "      <td>15.951221</td>\n",
       "      <td>2.0</td>\n",
       "      <td>3.0</td>\n",
       "      <td>4.0</td>\n",
       "      <td>7.75</td>\n",
       "      <td>176.0</td>\n",
       "    </tr>\n",
       "  </tbody>\n",
       "</table>\n",
       "</div>"
      ],
      "text/plain": [
       "                job_count                                                      \\\n",
       "                    count          mean            std        min         25%   \n",
       "MonetaryCluster                                                                 \n",
       "0                 36212.0  5.631219e+02    5897.473944        2.0       10.00   \n",
       "1                     1.0  8.942496e+06            NaN  8942496.0  8942496.00   \n",
       "2                     3.0  1.026625e+06  764145.317827   155799.0   747345.00   \n",
       "3                   322.0  4.623929e+04  120608.082767     4992.0    10892.75   \n",
       "\n",
       "                                                  job_event_days             \\\n",
       "                       50%         75%        max          count       mean   \n",
       "MonetaryCluster                                                               \n",
       "0                     26.0       98.00   603974.0        36212.0   6.952889   \n",
       "1                8942496.0  8942496.00  8942496.0            1.0  12.000000   \n",
       "2                1338891.0  1462037.50  1585184.0            3.0  11.333333   \n",
       "3                  17264.5    32173.25  1336224.0          322.0   8.549689   \n",
       "\n",
       "                                                            \n",
       "                       std   min   25%   50%    75%    max  \n",
       "MonetaryCluster                                             \n",
       "0                13.800567   2.0   2.0   4.0   7.00  966.0  \n",
       "1                      NaN  12.0  12.0  12.0  12.00   12.0  \n",
       "2                 8.621678   2.0   7.5  13.0  16.00   19.0  \n",
       "3                15.951221   2.0   3.0   4.0   7.75  176.0  "
      ]
     },
     "metadata": {},
     "output_type": "display_data"
    }
   ],
   "source": [
    "kmeans = KMeans(n_clusters=4)\n",
    "kmeans.fit(users[['Monetary']])\n",
    "users['MonetaryCluster'] = kmeans.predict(users[['Monetary']])\n",
    "\n",
    "display(users.groupby('MonetaryCluster')[['job_count', 'job_event_days']].describe())"
   ]
  },
  {
   "cell_type": "code",
   "execution_count": 9,
   "id": "f1cea7c2-9c7e-4732-84fe-436113edded3",
   "metadata": {
    "execution": {
     "iopub.execute_input": "2021-08-24T19:14:22.501377Z",
     "iopub.status.busy": "2021-08-24T19:14:22.500043Z",
     "iopub.status.idle": "2021-08-24T19:14:22.680211Z",
     "shell.execute_reply": "2021-08-24T19:14:22.679421Z",
     "shell.execute_reply.started": "2021-08-24T19:14:22.501305Z"
    }
   },
   "outputs": [
    {
     "data": {
      "text/html": [
       "<div>\n",
       "<style scoped>\n",
       "    .dataframe tbody tr th:only-of-type {\n",
       "        vertical-align: middle;\n",
       "    }\n",
       "\n",
       "    .dataframe tbody tr th {\n",
       "        vertical-align: top;\n",
       "    }\n",
       "\n",
       "    .dataframe thead tr th {\n",
       "        text-align: left;\n",
       "    }\n",
       "\n",
       "    .dataframe thead tr:last-of-type th {\n",
       "        text-align: right;\n",
       "    }\n",
       "</style>\n",
       "<table border=\"1\" class=\"dataframe\">\n",
       "  <thead>\n",
       "    <tr>\n",
       "      <th></th>\n",
       "      <th colspan=\"8\" halign=\"left\">job_count</th>\n",
       "      <th colspan=\"8\" halign=\"left\">job_event_days</th>\n",
       "    </tr>\n",
       "    <tr>\n",
       "      <th></th>\n",
       "      <th>count</th>\n",
       "      <th>mean</th>\n",
       "      <th>std</th>\n",
       "      <th>min</th>\n",
       "      <th>25%</th>\n",
       "      <th>50%</th>\n",
       "      <th>75%</th>\n",
       "      <th>max</th>\n",
       "      <th>count</th>\n",
       "      <th>mean</th>\n",
       "      <th>std</th>\n",
       "      <th>min</th>\n",
       "      <th>25%</th>\n",
       "      <th>50%</th>\n",
       "      <th>75%</th>\n",
       "      <th>max</th>\n",
       "    </tr>\n",
       "    <tr>\n",
       "      <th>MonetaryCluster</th>\n",
       "      <th></th>\n",
       "      <th></th>\n",
       "      <th></th>\n",
       "      <th></th>\n",
       "      <th></th>\n",
       "      <th></th>\n",
       "      <th></th>\n",
       "      <th></th>\n",
       "      <th></th>\n",
       "      <th></th>\n",
       "      <th></th>\n",
       "      <th></th>\n",
       "      <th></th>\n",
       "      <th></th>\n",
       "      <th></th>\n",
       "      <th></th>\n",
       "    </tr>\n",
       "  </thead>\n",
       "  <tbody>\n",
       "    <tr>\n",
       "      <th>0</th>\n",
       "      <td>35847.0</td>\n",
       "      <td>4.113535e+02</td>\n",
       "      <td>4227.445593</td>\n",
       "      <td>2.0</td>\n",
       "      <td>10.0</td>\n",
       "      <td>25.0</td>\n",
       "      <td>93.00</td>\n",
       "      <td>603974.0</td>\n",
       "      <td>35847.0</td>\n",
       "      <td>6.936089</td>\n",
       "      <td>13.690292</td>\n",
       "      <td>2.0</td>\n",
       "      <td>2.0</td>\n",
       "      <td>4.0</td>\n",
       "      <td>7.0</td>\n",
       "      <td>966.0</td>\n",
       "    </tr>\n",
       "    <tr>\n",
       "      <th>1</th>\n",
       "      <td>1.0</td>\n",
       "      <td>8.942496e+06</td>\n",
       "      <td>NaN</td>\n",
       "      <td>8942496.0</td>\n",
       "      <td>8942496.0</td>\n",
       "      <td>8942496.0</td>\n",
       "      <td>8942496.00</td>\n",
       "      <td>8942496.0</td>\n",
       "      <td>1.0</td>\n",
       "      <td>12.000000</td>\n",
       "      <td>NaN</td>\n",
       "      <td>12.0</td>\n",
       "      <td>12.0</td>\n",
       "      <td>12.0</td>\n",
       "      <td>12.0</td>\n",
       "      <td>12.0</td>\n",
       "    </tr>\n",
       "    <tr>\n",
       "      <th>2</th>\n",
       "      <td>3.0</td>\n",
       "      <td>1.026625e+06</td>\n",
       "      <td>764145.317827</td>\n",
       "      <td>155799.0</td>\n",
       "      <td>747345.0</td>\n",
       "      <td>1338891.0</td>\n",
       "      <td>1462037.50</td>\n",
       "      <td>1585184.0</td>\n",
       "      <td>3.0</td>\n",
       "      <td>11.333333</td>\n",
       "      <td>8.621678</td>\n",
       "      <td>2.0</td>\n",
       "      <td>7.5</td>\n",
       "      <td>13.0</td>\n",
       "      <td>16.0</td>\n",
       "      <td>19.0</td>\n",
       "    </tr>\n",
       "    <tr>\n",
       "      <th>3</th>\n",
       "      <td>36.0</td>\n",
       "      <td>1.617048e+05</td>\n",
       "      <td>253624.205119</td>\n",
       "      <td>16384.0</td>\n",
       "      <td>34504.0</td>\n",
       "      <td>55357.0</td>\n",
       "      <td>138807.75</td>\n",
       "      <td>1336224.0</td>\n",
       "      <td>36.0</td>\n",
       "      <td>11.500000</td>\n",
       "      <td>16.983185</td>\n",
       "      <td>2.0</td>\n",
       "      <td>3.0</td>\n",
       "      <td>5.0</td>\n",
       "      <td>11.5</td>\n",
       "      <td>89.0</td>\n",
       "    </tr>\n",
       "    <tr>\n",
       "      <th>4</th>\n",
       "      <td>651.0</td>\n",
       "      <td>2.260163e+04</td>\n",
       "      <td>61478.865948</td>\n",
       "      <td>2743.0</td>\n",
       "      <td>6245.5</td>\n",
       "      <td>11224.0</td>\n",
       "      <td>19700.50</td>\n",
       "      <td>1201055.0</td>\n",
       "      <td>651.0</td>\n",
       "      <td>8.416283</td>\n",
       "      <td>19.550258</td>\n",
       "      <td>2.0</td>\n",
       "      <td>3.0</td>\n",
       "      <td>4.0</td>\n",
       "      <td>8.0</td>\n",
       "      <td>301.0</td>\n",
       "    </tr>\n",
       "  </tbody>\n",
       "</table>\n",
       "</div>"
      ],
      "text/plain": [
       "                job_count                                                     \\\n",
       "                    count          mean            std        min        25%   \n",
       "MonetaryCluster                                                                \n",
       "0                 35847.0  4.113535e+02    4227.445593        2.0       10.0   \n",
       "1                     1.0  8.942496e+06            NaN  8942496.0  8942496.0   \n",
       "2                     3.0  1.026625e+06  764145.317827   155799.0   747345.0   \n",
       "3                    36.0  1.617048e+05  253624.205119    16384.0    34504.0   \n",
       "4                   651.0  2.260163e+04   61478.865948     2743.0     6245.5   \n",
       "\n",
       "                                                  job_event_days             \\\n",
       "                       50%         75%        max          count       mean   \n",
       "MonetaryCluster                                                               \n",
       "0                     25.0       93.00   603974.0        35847.0   6.936089   \n",
       "1                8942496.0  8942496.00  8942496.0            1.0  12.000000   \n",
       "2                1338891.0  1462037.50  1585184.0            3.0  11.333333   \n",
       "3                  55357.0   138807.75  1336224.0           36.0  11.500000   \n",
       "4                  11224.0    19700.50  1201055.0          651.0   8.416283   \n",
       "\n",
       "                                                           \n",
       "                       std   min   25%   50%   75%    max  \n",
       "MonetaryCluster                                            \n",
       "0                13.690292   2.0   2.0   4.0   7.0  966.0  \n",
       "1                      NaN  12.0  12.0  12.0  12.0   12.0  \n",
       "2                 8.621678   2.0   7.5  13.0  16.0   19.0  \n",
       "3                16.983185   2.0   3.0   5.0  11.5   89.0  \n",
       "4                19.550258   2.0   3.0   4.0   8.0  301.0  "
      ]
     },
     "metadata": {},
     "output_type": "display_data"
    }
   ],
   "source": [
    "kmeans = KMeans(n_clusters=5)\n",
    "kmeans.fit(users[['Monetary']])\n",
    "users['MonetaryCluster'] = kmeans.predict(users[['Monetary']])\n",
    "\n",
    "display(users.groupby('MonetaryCluster')[['job_count', 'job_event_days']].describe())"
   ]
  },
  {
   "cell_type": "code",
   "execution_count": null,
   "id": "da6fde4c-b3f3-431c-b289-7cf32ed524e1",
   "metadata": {},
   "outputs": [],
   "source": []
  },
  {
   "cell_type": "code",
   "execution_count": 10,
   "id": "30c81147-f46b-460f-b1fe-6722cc672e1c",
   "metadata": {
    "execution": {
     "iopub.execute_input": "2021-08-24T19:14:22.682131Z",
     "iopub.status.busy": "2021-08-24T19:14:22.681152Z",
     "iopub.status.idle": "2021-08-24T19:14:22.816638Z",
     "shell.execute_reply": "2021-08-24T19:14:22.815762Z",
     "shell.execute_reply.started": "2021-08-24T19:14:22.682100Z"
    }
   },
   "outputs": [],
   "source": [
    "users.to_csv(\n",
    "    Path(data_dir, \"monetary.csv\"),\n",
    "    index=False,\n",
    "    index_label=False\n",
    ")"
   ]
  },
  {
   "cell_type": "code",
   "execution_count": 11,
   "id": "f04603b0-ee60-4d66-b728-4b317e03f16e",
   "metadata": {
    "execution": {
     "iopub.execute_input": "2021-08-24T19:14:22.819014Z",
     "iopub.status.busy": "2021-08-24T19:14:22.818829Z",
     "iopub.status.idle": "2021-08-24T19:14:22.829327Z",
     "shell.execute_reply": "2021-08-24T19:14:22.828751Z",
     "shell.execute_reply.started": "2021-08-24T19:14:22.818996Z"
    },
    "tags": []
   },
   "outputs": [],
   "source": [
    "scaler = MinMaxScaler()\n",
    "X_scaled=scaler.fit_transform(users[['Monetary']])"
   ]
  },
  {
   "cell_type": "code",
   "execution_count": 12,
   "id": "4076b8da-1e3e-4a33-beb2-ef09bab9664d",
   "metadata": {
    "execution": {
     "iopub.execute_input": "2021-08-24T19:14:22.831631Z",
     "iopub.status.busy": "2021-08-24T19:14:22.830773Z",
     "iopub.status.idle": "2021-08-24T19:25:15.120567Z",
     "shell.execute_reply": "2021-08-24T19:25:15.118374Z",
     "shell.execute_reply.started": "2021-08-24T19:14:22.831596Z"
    },
    "tags": []
   },
   "outputs": [
    {
     "name": "stdout",
     "output_type": "stream",
     "text": [
      "Score for number of cluster(s) 2: -0.06653575652814395\n",
      "Silhouette score for number of cluster(s) 2: 0.9996830853958429\n",
      "Davies Bouldin score for number of cluster(s) 2: 0.0002568733495439076\n"
     ]
    },
    {
     "data": {
      "text/plain": [
       "'Centroids - '"
      ]
     },
     "metadata": {},
     "output_type": "display_data"
    },
    {
     "name": "stdout",
     "output_type": "stream",
     "text": [
      "[[1.55746465e-04]\n",
      " [1.00000000e+00]]\n",
      "----------------------------------------------------------------------------------------------------\n",
      "Score for number of cluster(s) 3: -0.02470729625859818\n",
      "Silhouette score for number of cluster(s) 3: 0.9976337909111062\n",
      "Davies Bouldin score for number of cluster(s) 3: 0.0815615488270159\n"
     ]
    },
    {
     "data": {
      "text/plain": [
       "'Centroids - '"
      ]
     },
     "metadata": {},
     "output_type": "display_data"
    },
    {
     "name": "stdout",
     "output_type": "stream",
     "text": [
      "[[1.46050712e-04]\n",
      " [1.00000000e+00]\n",
      " [1.18230618e-01]]\n",
      "----------------------------------------------------------------------------------------------------\n",
      "Score for number of cluster(s) 4: -0.011610152265508766\n",
      "Silhouette score for number of cluster(s) 4: 0.9663376909574637\n",
      "Davies Bouldin score for number of cluster(s) 4: 0.281501210324489\n"
     ]
    },
    {
     "data": {
      "text/plain": [
       "'Centroids - '"
      ]
     },
     "metadata": {},
     "output_type": "display_data"
    },
    {
     "name": "stdout",
     "output_type": "stream",
     "text": [
      "[[8.88011495e-05]\n",
      " [1.00000000e+00]\n",
      " [1.18230618e-01]\n",
      " [6.40770004e-03]]\n",
      "----------------------------------------------------------------------------------------------------\n",
      "Score for number of cluster(s) 5: -0.005724091888385769\n",
      "Silhouette score for number of cluster(s) 5: 0.9530560073264969\n",
      "Davies Bouldin score for number of cluster(s) 5: 0.3138327800236326\n"
     ]
    },
    {
     "data": {
      "text/plain": [
       "'Centroids - '"
      ]
     },
     "metadata": {},
     "output_type": "display_data"
    },
    {
     "name": "stdout",
     "output_type": "stream",
     "text": [
      "[[6.52902512e-05]\n",
      " [1.00000000e+00]\n",
      " [1.18230618e-01]\n",
      " [3.57317797e-03]\n",
      " [1.76149822e-02]]\n",
      "----------------------------------------------------------------------------------------------------\n",
      "Score for number of cluster(s) 6: -0.00372266770023796\n",
      "Silhouette score for number of cluster(s) 6: 0.934385458676372\n",
      "Davies Bouldin score for number of cluster(s) 6: 0.3592571052940037\n"
     ]
    },
    {
     "data": {
      "text/plain": [
       "'Centroids - '"
      ]
     },
     "metadata": {},
     "output_type": "display_data"
    },
    {
     "name": "stdout",
     "output_type": "stream",
     "text": [
      "[[4.04619248e-05]\n",
      " [1.00000000e+00]\n",
      " [1.18230618e-01]\n",
      " [5.60396428e-03]\n",
      " [1.72429215e-03]\n",
      " [1.88981111e-02]]\n",
      "----------------------------------------------------------------------------------------------------\n",
      "Score for number of cluster(s) 7: -0.0024453032784213474\n",
      "Silhouette score for number of cluster(s) 7: 0.9309391197077345\n",
      "Davies Bouldin score for number of cluster(s) 7: 0.35325014116399583\n"
     ]
    },
    {
     "data": {
      "text/plain": [
       "'Centroids - '"
      ]
     },
     "metadata": {},
     "output_type": "display_data"
    },
    {
     "name": "stdout",
     "output_type": "stream",
     "text": [
      "[[3.63884483e-05]\n",
      " [1.00000000e+00]\n",
      " [1.18230618e-01]\n",
      " [4.62784813e-03]\n",
      " [1.16428999e-02]\n",
      " [1.49201043e-03]\n",
      " [2.64394422e-02]]\n",
      "----------------------------------------------------------------------------------------------------\n",
      "Score for number of cluster(s) 8: -0.0018481958079843654\n",
      "Silhouette score for number of cluster(s) 8: 0.9311129175116128\n",
      "Davies Bouldin score for number of cluster(s) 8: 0.31514476169503636\n"
     ]
    },
    {
     "data": {
      "text/plain": [
       "'Centroids - '"
      ]
     },
     "metadata": {},
     "output_type": "display_data"
    },
    {
     "name": "stdout",
     "output_type": "stream",
     "text": [
      "[[3.72406143e-05]\n",
      " [1.00000000e+00]\n",
      " [1.38204036e-01]\n",
      " [4.65448517e-03]\n",
      " [1.16428999e-02]\n",
      " [1.52165882e-03]\n",
      " [2.64394422e-02]\n",
      " [1.08243909e-01]]\n",
      "----------------------------------------------------------------------------------------------------\n",
      "Score for number of cluster(s) 9: -0.0012498681402549434\n",
      "Silhouette score for number of cluster(s) 9: 0.9222533455083078\n",
      "Davies Bouldin score for number of cluster(s) 9: 0.32916135754795794\n"
     ]
    },
    {
     "data": {
      "text/plain": [
       "'Centroids - '"
      ]
     },
     "metadata": {},
     "output_type": "display_data"
    },
    {
     "name": "stdout",
     "output_type": "stream",
     "text": [
      "[[2.67007833e-05]\n",
      " [1.00000000e+00]\n",
      " [1.08243909e-01]\n",
      " [6.38393616e-03]\n",
      " [2.98801537e-03]\n",
      " [2.70688115e-02]\n",
      " [1.00672034e-03]\n",
      " [1.38473639e-02]\n",
      " [1.38204036e-01]]\n",
      "----------------------------------------------------------------------------------------------------\n",
      "Score for number of cluster(s) 10: -0.0009015415240870145\n",
      "Silhouette score for number of cluster(s) 10: 0.9159897843227779\n",
      "Davies Bouldin score for number of cluster(s) 10: 0.34664660681111875\n"
     ]
    },
    {
     "data": {
      "text/plain": [
       "'Centroids - '"
      ]
     },
     "metadata": {},
     "output_type": "display_data"
    },
    {
     "name": "stdout",
     "output_type": "stream",
     "text": [
      "[[1.90228136e-05]\n",
      " [1.00000000e+00]\n",
      " [1.08243909e-01]\n",
      " [7.01753765e-03]\n",
      " [2.70688115e-02]\n",
      " [1.88091044e-03]\n",
      " [1.38204036e-01]\n",
      " [3.86560893e-03]\n",
      " [1.39788940e-02]\n",
      " [6.68974735e-04]]\n",
      "----------------------------------------------------------------------------------------------------\n"
     ]
    },
    {
     "data": {
      "image/png": "[encoded data removed]",
      "text/plain": [
       "<Figure size 1080x576 with 10 Axes>"
      ]
     },
     "metadata": {},
     "output_type": "display_data"
    }
   ],
   "source": [
    "display_cluster_info(X_scaled)"
   ]
  }
 ],
 "metadata": {
  "kernelspec": {
   "display_name": "Python 3 (ipykernel)",
   "language": "python",
   "name": "python3"
  },
  "language_info": {
   "codemirror_mode": {
    "name": "ipython",
    "version": 3
   },
   "file_extension": ".py",
   "mimetype": "text/x-python",
   "name": "python",
   "nbconvert_exporter": "python",
   "pygments_lexer": "ipython3",
   "version": "3.8.10"
  }
 },
 "nbformat": 4,
 "nbformat_minor": 5
}
