{
 "cells": [
  {
   "cell_type": "code",
   "execution_count": 1,
   "id": "d467e86a-ec0f-4da4-a1bc-47f9ca90386d",
   "metadata": {
    "execution": {
     "iopub.execute_input": "2021-08-24T19:17:24.782201Z",
     "iopub.status.busy": "2021-08-24T19:17:24.781884Z",
     "iopub.status.idle": "2021-08-24T19:17:29.662175Z",
     "shell.execute_reply": "2021-08-24T19:17:29.661644Z",
     "shell.execute_reply.started": "2021-08-24T19:17:24.782135Z"
    },
    "tags": []
   },
   "outputs": [
    {
     "name": "stdout",
     "output_type": "stream",
     "text": [
      "\u001b[1mnanoHUB - Serving Students, Researchers & Instructors\u001b[0m\n"
     ]
    }
   ],
   "source": [
    "from pathlib import Path\n",
    "import os\n",
    "import pandas as pd\n",
    "\n",
    "import seaborn as sns\n",
    "from sklearn.cluster import KMeans\n",
    "from sklearn.preprocessing import StandardScaler\n",
    "from sklearn.preprocessing import MinMaxScaler\n",
    "from sklearn.manifold import TSNE\n",
    "from sklearn.metrics import silhouette_score\n",
    "from sklearn.metrics import davies_bouldin_score,v_measure_score\n",
    "from yellowbrick.cluster import SilhouetteVisualizer\n",
    "import matplotlib.pyplot as plt\n",
    "\n",
    "\n",
    "from nanoHUB.rfm.functions import CacheDirs, elbow_curve, display_cluster_info"
   ]
  },
  {
   "cell_type": "code",
   "execution_count": 2,
   "id": "278c5d9b-149e-4e61-91b6-69312eb984a3",
   "metadata": {
    "execution": {
     "iopub.execute_input": "2021-08-24T19:17:29.663828Z",
     "iopub.status.busy": "2021-08-24T19:17:29.663269Z",
     "iopub.status.idle": "2021-08-24T19:17:29.667994Z",
     "shell.execute_reply": "2021-08-24T19:17:29.667430Z",
     "shell.execute_reply.started": "2021-08-24T19:17:29.663792Z"
    }
   },
   "outputs": [],
   "source": [
    "cached_dirs = CacheDirs()\n",
    "data_dir = Path(cached_dirs.cache_dir, 'rfm/by_toolevents/iteration4')"
   ]
  },
  {
   "cell_type": "code",
   "execution_count": 3,
   "id": "d4f3391b-4a89-4521-9e70-5de0e3d5d22a",
   "metadata": {
    "execution": {
     "iopub.execute_input": "2021-08-24T19:17:29.670886Z",
     "iopub.status.busy": "2021-08-24T19:17:29.669817Z",
     "iopub.status.idle": "2021-08-24T19:17:29.841129Z",
     "shell.execute_reply": "2021-08-24T19:17:29.839676Z",
     "shell.execute_reply.started": "2021-08-24T19:17:29.670853Z"
    },
    "tags": []
   },
   "outputs": [],
   "source": [
    "df = pd.read_csv(\n",
    "    Path(cached_dirs.cache_dir, 'unclassified_user_data.csv'),\n",
    "    index_col=False\n",
    ")"
   ]
  },
  {
   "cell_type": "code",
   "execution_count": 4,
   "id": "061dfdf2-fe13-49c5-bb3d-4eab3735fda2",
   "metadata": {
    "execution": {
     "iopub.execute_input": "2021-08-24T19:17:29.851343Z",
     "iopub.status.busy": "2021-08-24T19:17:29.850047Z",
     "iopub.status.idle": "2021-08-24T19:17:29.867719Z",
     "shell.execute_reply": "2021-08-24T19:17:29.867157Z",
     "shell.execute_reply.started": "2021-08-24T19:17:29.851284Z"
    }
   },
   "outputs": [],
   "source": [
    "users = pd.DataFrame(df['user'].unique())\n",
    "users.columns = ['user']"
   ]
  },
  {
   "cell_type": "code",
   "execution_count": 5,
   "id": "8ae78bfc-c021-40aa-bffb-e19f3f9c909e",
   "metadata": {
    "execution": {
     "iopub.execute_input": "2021-08-24T19:17:29.872831Z",
     "iopub.status.busy": "2021-08-24T19:17:29.872293Z",
     "iopub.status.idle": "2021-08-24T19:17:29.916779Z",
     "shell.execute_reply": "2021-08-24T19:17:29.915847Z",
     "shell.execute_reply.started": "2021-08-24T19:17:29.872804Z"
    }
   },
   "outputs": [],
   "source": [
    "frequency_df = df[['user', 'job_event_days', 'toolevents__lifetime']].copy()\n",
    "frequency_df['Frequency'] = frequency_df['job_event_days']/frequency_df['toolevents__lifetime']\n",
    "\n",
    "users = pd.merge(users, frequency_df, on='user')"
   ]
  },
  {
   "cell_type": "code",
   "execution_count": 6,
   "id": "e5dcb525-8a7b-4727-9aae-f5edf9397d91",
   "metadata": {
    "execution": {
     "iopub.execute_input": "2021-08-24T19:17:29.922081Z",
     "iopub.status.busy": "2021-08-24T19:17:29.921691Z",
     "iopub.status.idle": "2021-08-24T19:17:33.839524Z",
     "shell.execute_reply": "2021-08-24T19:17:33.838454Z",
     "shell.execute_reply.started": "2021-08-24T19:17:29.922057Z"
    }
   },
   "outputs": [
    {
     "name": "stderr",
     "output_type": "stream",
     "text": [
      "findfont: Font family ['sans-serif'] not found. Falling back to DejaVu Sans.\n",
      "findfont: Generic family 'sans-serif' not found because none of the following families were found: Arial, Liberation Sans, Bitstream Vera Sans, sans-serif\n",
      "findfont: Font family ['sans-serif'] not found. Falling back to DejaVu Sans.\n",
      "findfont: Generic family 'sans-serif' not found because none of the following families were found: Arial, Liberation Sans, Bitstream Vera Sans, sans-serif\n",
      "findfont: Font family ['sans-serif'] not found. Falling back to DejaVu Sans.\n",
      "findfont: Generic family 'sans-serif' not found because none of the following families were found: Arial, Liberation Sans, Bitstream Vera Sans, sans-serif\n"
     ]
    },
    {
     "data": {
      "image/png": "[encoded data removed]",
      "text/plain": [
       "<Figure size 576x396 with 1 Axes>"
      ]
     },
     "metadata": {},
     "output_type": "display_data"
    }
   ],
   "source": [
    "elbow_curve(users[['Frequency']])"
   ]
  },
  {
   "cell_type": "code",
   "execution_count": 7,
   "id": "ace3e288-4add-4d01-a5f2-02296c73156d",
   "metadata": {
    "execution": {
     "iopub.execute_input": "2021-08-24T19:17:33.843047Z",
     "iopub.status.busy": "2021-08-24T19:17:33.841091Z",
     "iopub.status.idle": "2021-08-24T19:17:34.557592Z",
     "shell.execute_reply": "2021-08-24T19:17:34.556075Z",
     "shell.execute_reply.started": "2021-08-24T19:17:33.842583Z"
    },
    "tags": []
   },
   "outputs": [],
   "source": [
    "\n",
    "\n",
    "kmeans = KMeans(n_clusters=4)\n",
    "kmeans.fit(users[['Frequency']])\n",
    "users['FrequencyCluster'] = kmeans.predict(users[['Frequency']])"
   ]
  },
  {
   "cell_type": "code",
   "execution_count": 8,
   "id": "ac0e51d2-9bc8-42d8-838a-45443c20f23d",
   "metadata": {
    "execution": {
     "iopub.execute_input": "2021-08-24T19:17:34.559452Z",
     "iopub.status.busy": "2021-08-24T19:17:34.558944Z",
     "iopub.status.idle": "2021-08-24T19:17:34.724076Z",
     "shell.execute_reply": "2021-08-24T19:17:34.721491Z",
     "shell.execute_reply.started": "2021-08-24T19:17:34.559411Z"
    },
    "tags": []
   },
   "outputs": [
    {
     "data": {
      "text/html": [
       "<div>\n",
       "<style scoped>\n",
       "    .dataframe tbody tr th:only-of-type {\n",
       "        vertical-align: middle;\n",
       "    }\n",
       "\n",
       "    .dataframe tbody tr th {\n",
       "        vertical-align: top;\n",
       "    }\n",
       "\n",
       "    .dataframe thead th {\n",
       "        text-align: right;\n",
       "    }\n",
       "</style>\n",
       "<table border=\"1\" class=\"dataframe\">\n",
       "  <thead>\n",
       "    <tr style=\"text-align: right;\">\n",
       "      <th></th>\n",
       "      <th>count</th>\n",
       "      <th>mean</th>\n",
       "      <th>std</th>\n",
       "      <th>min</th>\n",
       "      <th>25%</th>\n",
       "      <th>50%</th>\n",
       "      <th>75%</th>\n",
       "      <th>max</th>\n",
       "    </tr>\n",
       "    <tr>\n",
       "      <th>FrequencyCluster</th>\n",
       "      <th></th>\n",
       "      <th></th>\n",
       "      <th></th>\n",
       "      <th></th>\n",
       "      <th></th>\n",
       "      <th></th>\n",
       "      <th></th>\n",
       "      <th></th>\n",
       "    </tr>\n",
       "  </thead>\n",
       "  <tbody>\n",
       "    <tr>\n",
       "      <th>0</th>\n",
       "      <td>23799.0</td>\n",
       "      <td>0.037228</td>\n",
       "      <td>0.039833</td>\n",
       "      <td>0.000357</td>\n",
       "      <td>0.006376</td>\n",
       "      <td>0.019324</td>\n",
       "      <td>0.058140</td>\n",
       "      <td>0.148148</td>\n",
       "    </tr>\n",
       "    <tr>\n",
       "      <th>1</th>\n",
       "      <td>2334.0</td>\n",
       "      <td>1.107689</td>\n",
       "      <td>0.220624</td>\n",
       "      <td>0.857143</td>\n",
       "      <td>1.000000</td>\n",
       "      <td>1.000000</td>\n",
       "      <td>1.000000</td>\n",
       "      <td>2.000000</td>\n",
       "    </tr>\n",
       "    <tr>\n",
       "      <th>2</th>\n",
       "      <td>3416.0</td>\n",
       "      <td>0.592214</td>\n",
       "      <td>0.110283</td>\n",
       "      <td>0.427083</td>\n",
       "      <td>0.500000</td>\n",
       "      <td>0.600000</td>\n",
       "      <td>0.666667</td>\n",
       "      <td>0.833333</td>\n",
       "    </tr>\n",
       "    <tr>\n",
       "      <th>3</th>\n",
       "      <td>6989.0</td>\n",
       "      <td>0.260304</td>\n",
       "      <td>0.078183</td>\n",
       "      <td>0.148325</td>\n",
       "      <td>0.190476</td>\n",
       "      <td>0.250000</td>\n",
       "      <td>0.333333</td>\n",
       "      <td>0.425532</td>\n",
       "    </tr>\n",
       "  </tbody>\n",
       "</table>\n",
       "</div>"
      ],
      "text/plain": [
       "                    count      mean       std       min       25%       50%  \\\n",
       "FrequencyCluster                                                              \n",
       "0                 23799.0  0.037228  0.039833  0.000357  0.006376  0.019324   \n",
       "1                  2334.0  1.107689  0.220624  0.857143  1.000000  1.000000   \n",
       "2                  3416.0  0.592214  0.110283  0.427083  0.500000  0.600000   \n",
       "3                  6989.0  0.260304  0.078183  0.148325  0.190476  0.250000   \n",
       "\n",
       "                       75%       max  \n",
       "FrequencyCluster                      \n",
       "0                 0.058140  0.148148  \n",
       "1                 1.000000  2.000000  \n",
       "2                 0.666667  0.833333  \n",
       "3                 0.333333  0.425532  "
      ]
     },
     "metadata": {},
     "output_type": "display_data"
    }
   ],
   "source": [
    "display(users.groupby('FrequencyCluster')['Frequency'].describe())"
   ]
  },
  {
   "cell_type": "code",
   "execution_count": 9,
   "id": "7f7e316d-6669-44fc-a521-99181f11f94b",
   "metadata": {
    "execution": {
     "iopub.execute_input": "2021-08-24T19:17:34.732682Z",
     "iopub.status.busy": "2021-08-24T19:17:34.732336Z",
     "iopub.status.idle": "2021-08-24T19:17:34.948394Z",
     "shell.execute_reply": "2021-08-24T19:17:34.947349Z",
     "shell.execute_reply.started": "2021-08-24T19:17:34.732650Z"
    }
   },
   "outputs": [],
   "source": [
    "users.to_csv(\n",
    "    Path(data_dir, \"frequency.csv\"),\n",
    "    index=False,\n",
    "    index_label=False\n",
    ")"
   ]
  },
  {
   "cell_type": "code",
   "execution_count": 10,
   "id": "0a8e86c1-daf9-4156-981f-48490b2bcc17",
   "metadata": {
    "execution": {
     "iopub.execute_input": "2021-08-24T19:17:34.954606Z",
     "iopub.status.busy": "2021-08-24T19:17:34.954381Z",
     "iopub.status.idle": "2021-08-24T19:17:34.967807Z",
     "shell.execute_reply": "2021-08-24T19:17:34.966424Z",
     "shell.execute_reply.started": "2021-08-24T19:17:34.954586Z"
    }
   },
   "outputs": [],
   "source": [
    "scaler = MinMaxScaler()\n",
    "X_scaled=scaler.fit_transform(users[['Frequency']])"
   ]
  },
  {
   "cell_type": "code",
   "execution_count": 11,
   "id": "da6fde4c-b3f3-431c-b289-7cf32ed524e1",
   "metadata": {
    "execution": {
     "iopub.execute_input": "2021-08-24T19:17:34.971863Z",
     "iopub.status.busy": "2021-08-24T19:17:34.971638Z",
     "iopub.status.idle": "2021-08-24T19:28:06.946429Z",
     "shell.execute_reply": "2021-08-24T19:28:06.944732Z",
     "shell.execute_reply.started": "2021-08-24T19:17:34.971842Z"
    },
    "tags": []
   },
   "outputs": [
    {
     "name": "stdout",
     "output_type": "stream",
     "text": [
      "Score for number of cluster(s) 2: -215.76795253247624\n",
      "Silhouette score for number of cluster(s) 2: 0.7808945185569502\n",
      "Davies Bouldin score for number of cluster(s) 2: 0.45136258574487875\n"
     ]
    },
    {
     "data": {
      "text/plain": [
       "'Centroids - '"
      ]
     },
     "metadata": {},
     "output_type": "display_data"
    },
    {
     "name": "stdout",
     "output_type": "stream",
     "text": [
      "[[0.04609041]\n",
      " [0.41490321]]\n",
      "----------------------------------------------------------------------------------------------------\n",
      "Score for number of cluster(s) 3: -98.06686847236281\n",
      "Silhouette score for number of cluster(s) 3: 0.7369057865308236\n",
      "Davies Bouldin score for number of cluster(s) 3: 0.4624026942169041\n"
     ]
    },
    {
     "data": {
      "text/plain": [
       "'Centroids - '"
      ]
     },
     "metadata": {},
     "output_type": "display_data"
    },
    {
     "name": "stdout",
     "output_type": "stream",
     "text": [
      "[[0.22865837]\n",
      " [0.02966037]\n",
      " [0.54158685]]\n",
      "----------------------------------------------------------------------------------------------------\n",
      "Score for number of cluster(s) 4: -58.77092754094463\n",
      "Silhouette score for number of cluster(s) 4: 0.7056920558240393\n",
      "Davies Bouldin score for number of cluster(s) 4: 0.4937987967440035\n"
     ]
    },
    {
     "data": {
      "text/plain": [
       "'Centroids - '"
      ]
     },
     "metadata": {},
     "output_type": "display_data"
    },
    {
     "name": "stdout",
     "output_type": "stream",
     "text": [
      "[[0.01926686]\n",
      " [0.30390533]\n",
      " [0.55512157]\n",
      " [0.13598338]]\n",
      "----------------------------------------------------------------------------------------------------\n",
      "Score for number of cluster(s) 5: -33.5353180611793\n",
      "Silhouette score for number of cluster(s) 5: 0.7155406253781478\n",
      "Davies Bouldin score for number of cluster(s) 5: 0.38867372848565734\n"
     ]
    },
    {
     "data": {
      "text/plain": [
       "'Centroids - '"
      ]
     },
     "metadata": {},
     "output_type": "display_data"
    },
    {
     "name": "stdout",
     "output_type": "stream",
     "text": [
      "[[0.01929827]\n",
      " [0.49044648]\n",
      " [0.13581758]\n",
      " [0.74709082]\n",
      " [0.29607161]]\n",
      "----------------------------------------------------------------------------------------------------\n",
      "Score for number of cluster(s) 6: -20.047447972991844\n",
      "Silhouette score for number of cluster(s) 6: 0.7036386985259945\n",
      "Davies Bouldin score for number of cluster(s) 6: 0.36670647703769704\n"
     ]
    },
    {
     "data": {
      "text/plain": [
       "'Centroids - '"
      ]
     },
     "metadata": {},
     "output_type": "display_data"
    },
    {
     "name": "stdout",
     "output_type": "stream",
     "text": [
      "[[0.09202643]\n",
      " [0.33611668]\n",
      " [0.74709082]\n",
      " [0.49903006]\n",
      " [0.201749  ]\n",
      " [0.01346761]]\n",
      "----------------------------------------------------------------------------------------------------\n",
      "Score for number of cluster(s) 7: -13.478154931332805\n",
      "Silhouette score for number of cluster(s) 7: 0.6915923322598132\n",
      "Davies Bouldin score for number of cluster(s) 7: 0.38660706276834994\n"
     ]
    },
    {
     "data": {
      "text/plain": [
       "'Centroids - '"
      ]
     },
     "metadata": {},
     "output_type": "display_data"
    },
    {
     "name": "stdout",
     "output_type": "stream",
     "text": [
      "[[0.01031949]\n",
      " [0.49903006]\n",
      " [0.22301203]\n",
      " [0.13712932]\n",
      " [0.06572764]\n",
      " [0.74709082]\n",
      " [0.33853313]]\n",
      "----------------------------------------------------------------------------------------------------\n",
      "Score for number of cluster(s) 8: -10.77686258466829\n",
      "Silhouette score for number of cluster(s) 8: 0.6686522821974601\n",
      "Davies Bouldin score for number of cluster(s) 8: 0.4047721926283277\n"
     ]
    },
    {
     "data": {
      "text/plain": [
       "'Centroids - '"
      ]
     },
     "metadata": {},
     "output_type": "display_data"
    },
    {
     "name": "stdout",
     "output_type": "stream",
     "text": [
      "[[0.00729617]\n",
      " [0.49903006]\n",
      " [0.22472771]\n",
      " [0.74709082]\n",
      " [0.0873891 ]\n",
      " [0.33868358]\n",
      " [0.14650866]\n",
      " [0.04179707]]\n",
      "----------------------------------------------------------------------------------------------------\n",
      "Score for number of cluster(s) 9: -8.227453771289401\n",
      "Silhouette score for number of cluster(s) 9: 0.6700325660644797\n",
      "Davies Bouldin score for number of cluster(s) 9: 0.37199840903629466\n"
     ]
    },
    {
     "data": {
      "text/plain": [
       "'Centroids - '"
      ]
     },
     "metadata": {},
     "output_type": "display_data"
    },
    {
     "name": "stdout",
     "output_type": "stream",
     "text": [
      "[[0.22472771]\n",
      " [0.00726781]\n",
      " [0.49903006]\n",
      " [0.72751416]\n",
      " [0.14650866]\n",
      " [0.33868358]\n",
      " [0.0416046 ]\n",
      " [0.087234  ]\n",
      " [1.        ]]\n",
      "----------------------------------------------------------------------------------------------------\n",
      "Score for number of cluster(s) 10: -6.379941509315461\n",
      "Silhouette score for number of cluster(s) 10: 0.6711304394280712\n",
      "Davies Bouldin score for number of cluster(s) 10: 0.36749728672896687\n"
     ]
    },
    {
     "data": {
      "text/plain": [
       "'Centroids - '"
      ]
     },
     "metadata": {},
     "output_type": "display_data"
    },
    {
     "name": "stdout",
     "output_type": "stream",
     "text": [
      "[[0.49903006]\n",
      " [0.08336449]\n",
      " [0.00739453]\n",
      " [0.34260757]\n",
      " [0.18730746]\n",
      " [0.72751416]\n",
      " [0.13133137]\n",
      " [0.25157727]\n",
      " [0.04174944]\n",
      " [1.        ]]\n",
      "----------------------------------------------------------------------------------------------------\n"
     ]
    },
    {
     "data": {
      "image/png": "[encoded data removed]",
      "text/plain": [
       "<Figure size 1080x576 with 10 Axes>"
      ]
     },
     "metadata": {},
     "output_type": "display_data"
    }
   ],
   "source": [
    " display_cluster_info(X_scaled)"
   ]
  }
 ],
 "metadata": {
  "kernelspec": {
   "display_name": "Python 3 (ipykernel)",
   "language": "python",
   "name": "python3"
  },
  "language_info": {
   "codemirror_mode": {
    "name": "ipython",
    "version": 3
   },
   "file_extension": ".py",
   "mimetype": "text/x-python",
   "name": "python",
   "nbconvert_exporter": "python",
   "pygments_lexer": "ipython3",
   "version": "3.8.10"
  }
 },
 "nbformat": 4,
 "nbformat_minor": 5
}
