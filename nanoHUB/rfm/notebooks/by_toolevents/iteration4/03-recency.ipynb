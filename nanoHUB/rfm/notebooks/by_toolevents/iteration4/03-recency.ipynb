{
 "cells": [
  {
   "cell_type": "code",
   "execution_count": 1,
   "id": "d467e86a-ec0f-4da4-a1bc-47f9ca90386d",
   "metadata": {
    "execution": {
     "iopub.execute_input": "2021-08-24T18:53:47.044788Z",
     "iopub.status.busy": "2021-08-24T18:53:47.044608Z",
     "iopub.status.idle": "2021-08-24T18:53:48.478750Z",
     "shell.execute_reply": "2021-08-24T18:53:48.477251Z",
     "shell.execute_reply.started": "2021-08-24T18:53:47.044740Z"
    },
    "tags": []
   },
   "outputs": [
    {
     "name": "stdout",
     "output_type": "stream",
     "text": [
      "\u001b[1mnanoHUB - Serving Students, Researchers & Instructors\u001b[0m\n"
     ]
    }
   ],
   "source": [
    "from pathlib import Path\n",
    "import os\n",
    "import pandas as pd\n",
    "\n",
    "import seaborn as sns\n",
    "from sklearn.cluster import KMeans\n",
    "from sklearn.preprocessing import StandardScaler\n",
    "from sklearn.preprocessing import MinMaxScaler\n",
    "from sklearn.manifold import TSNE\n",
    "from sklearn.metrics import silhouette_score\n",
    "from sklearn.metrics import davies_bouldin_score,v_measure_score\n",
    "from yellowbrick.cluster import SilhouetteVisualizer\n",
    "import matplotlib.pyplot as plt\n",
    "\n",
    "from nanoHUB.rfm.functions import CacheDirs, elbow_curve, display_cluster_info"
   ]
  },
  {
   "cell_type": "code",
   "execution_count": 2,
   "id": "f1a9afec-311b-413d-a51a-1b64417cdbfb",
   "metadata": {
    "execution": {
     "iopub.execute_input": "2021-08-24T18:53:48.481190Z",
     "iopub.status.busy": "2021-08-24T18:53:48.480812Z",
     "iopub.status.idle": "2021-08-24T18:53:48.486842Z",
     "shell.execute_reply": "2021-08-24T18:53:48.484420Z",
     "shell.execute_reply.started": "2021-08-24T18:53:48.481163Z"
    }
   },
   "outputs": [],
   "source": [
    "cached_dirs = CacheDirs()"
   ]
  },
  {
   "cell_type": "code",
   "execution_count": 3,
   "id": "d4f3391b-4a89-4521-9e70-5de0e3d5d22a",
   "metadata": {
    "execution": {
     "iopub.execute_input": "2021-08-24T18:53:48.490838Z",
     "iopub.status.busy": "2021-08-24T18:53:48.490612Z",
     "iopub.status.idle": "2021-08-24T18:53:48.541782Z",
     "shell.execute_reply": "2021-08-24T18:53:48.540078Z",
     "shell.execute_reply.started": "2021-08-24T18:53:48.490819Z"
    },
    "tags": []
   },
   "outputs": [
    {
     "data": {
      "text/html": [
       "<div>\n",
       "<style scoped>\n",
       "    .dataframe tbody tr th:only-of-type {\n",
       "        vertical-align: middle;\n",
       "    }\n",
       "\n",
       "    .dataframe tbody tr th {\n",
       "        vertical-align: top;\n",
       "    }\n",
       "\n",
       "    .dataframe thead th {\n",
       "        text-align: right;\n",
       "    }\n",
       "</style>\n",
       "<table border=\"1\" class=\"dataframe\">\n",
       "  <thead>\n",
       "    <tr style=\"text-align: right;\">\n",
       "      <th></th>\n",
       "      <th>index</th>\n",
       "      <th>Unnamed: 0</th>\n",
       "      <th>user</th>\n",
       "      <th>first_start_date</th>\n",
       "      <th>last_start_date</th>\n",
       "      <th>first_finish_date</th>\n",
       "      <th>last_finish_date</th>\n",
       "      <th>job_count</th>\n",
       "      <th>superjob_count</th>\n",
       "      <th>job_event_days</th>\n",
       "      <th>superjob_event_days</th>\n",
       "      <th>last_superjob_start_date</th>\n",
       "      <th>toolevents__lifetime</th>\n",
       "      <th>start_datetime</th>\n",
       "    </tr>\n",
       "  </thead>\n",
       "  <tbody>\n",
       "    <tr>\n",
       "      <th>0</th>\n",
       "      <td>19</td>\n",
       "      <td>19</td>\n",
       "      <td>061962588x</td>\n",
       "      <td>2021-04-28 01:54:30</td>\n",
       "      <td>2021-05-27 01:09:33</td>\n",
       "      <td>2021-04-28 03:31:52</td>\n",
       "      <td>2021-05-27 11:19:13</td>\n",
       "      <td>40</td>\n",
       "      <td>NaN</td>\n",
       "      <td>5</td>\n",
       "      <td>NaN</td>\n",
       "      <td>NaN</td>\n",
       "      <td>29</td>\n",
       "      <td>2021-04-28 01:54:30</td>\n",
       "    </tr>\n",
       "    <tr>\n",
       "      <th>1</th>\n",
       "      <td>20</td>\n",
       "      <td>20</td>\n",
       "      <td>061972018x</td>\n",
       "      <td>2021-04-28 02:17:04</td>\n",
       "      <td>2021-05-27 01:13:31</td>\n",
       "      <td>2021-04-28 02:40:49</td>\n",
       "      <td>2021-05-28 01:20:45</td>\n",
       "      <td>66</td>\n",
       "      <td>NaN</td>\n",
       "      <td>4</td>\n",
       "      <td>NaN</td>\n",
       "      <td>NaN</td>\n",
       "      <td>29</td>\n",
       "      <td>2021-04-28 02:17:04</td>\n",
       "    </tr>\n",
       "    <tr>\n",
       "      <th>2</th>\n",
       "      <td>26</td>\n",
       "      <td>26</td>\n",
       "      <td>0808wodlr</td>\n",
       "      <td>2020-11-10 00:04:08</td>\n",
       "      <td>2020-12-08 23:24:41</td>\n",
       "      <td>2020-11-11 00:12:54</td>\n",
       "      <td>2020-12-09 23:28:55</td>\n",
       "      <td>13</td>\n",
       "      <td>NaN</td>\n",
       "      <td>2</td>\n",
       "      <td>NaN</td>\n",
       "      <td>NaN</td>\n",
       "      <td>29</td>\n",
       "      <td>2020-11-10 00:04:08</td>\n",
       "    </tr>\n",
       "    <tr>\n",
       "      <th>3</th>\n",
       "      <td>92</td>\n",
       "      <td>92</td>\n",
       "      <td>12422rahulkumar</td>\n",
       "      <td>2020-09-25 04:02:01</td>\n",
       "      <td>2021-01-05 04:31:11</td>\n",
       "      <td>2020-09-26 07:49:27</td>\n",
       "      <td>2021-01-06 04:38:54</td>\n",
       "      <td>172</td>\n",
       "      <td>NaN</td>\n",
       "      <td>6</td>\n",
       "      <td>NaN</td>\n",
       "      <td>NaN</td>\n",
       "      <td>103</td>\n",
       "      <td>2020-09-25 04:02:01</td>\n",
       "    </tr>\n",
       "    <tr>\n",
       "      <th>4</th>\n",
       "      <td>110</td>\n",
       "      <td>110</td>\n",
       "      <td>13rahul129</td>\n",
       "      <td>2021-05-13 00:20:48</td>\n",
       "      <td>2021-06-04 12:43:29</td>\n",
       "      <td>2021-05-14 00:23:50</td>\n",
       "      <td>2021-06-04 12:58:37</td>\n",
       "      <td>125</td>\n",
       "      <td>NaN</td>\n",
       "      <td>9</td>\n",
       "      <td>NaN</td>\n",
       "      <td>NaN</td>\n",
       "      <td>22</td>\n",
       "      <td>2021-05-13 00:20:48</td>\n",
       "    </tr>\n",
       "    <tr>\n",
       "      <th>...</th>\n",
       "      <td>...</td>\n",
       "      <td>...</td>\n",
       "      <td>...</td>\n",
       "      <td>...</td>\n",
       "      <td>...</td>\n",
       "      <td>...</td>\n",
       "      <td>...</td>\n",
       "      <td>...</td>\n",
       "      <td>...</td>\n",
       "      <td>...</td>\n",
       "      <td>...</td>\n",
       "      <td>...</td>\n",
       "      <td>...</td>\n",
       "      <td>...</td>\n",
       "    </tr>\n",
       "    <tr>\n",
       "      <th>4981</th>\n",
       "      <td>155160</td>\n",
       "      <td>155160</td>\n",
       "      <td>zy2421</td>\n",
       "      <td>2021-02-14 04:29:11</td>\n",
       "      <td>2021-02-16 09:13:55</td>\n",
       "      <td>2021-02-14 21:40:06</td>\n",
       "      <td>2021-02-24 14:01:43</td>\n",
       "      <td>372</td>\n",
       "      <td>NaN</td>\n",
       "      <td>3</td>\n",
       "      <td>NaN</td>\n",
       "      <td>NaN</td>\n",
       "      <td>10</td>\n",
       "      <td>2021-02-14 04:29:11</td>\n",
       "    </tr>\n",
       "    <tr>\n",
       "      <th>4982</th>\n",
       "      <td>155226</td>\n",
       "      <td>155226</td>\n",
       "      <td>zyzhu</td>\n",
       "      <td>2021-01-30 00:58:07</td>\n",
       "      <td>2021-06-16 11:26:48</td>\n",
       "      <td>2021-01-31 01:11:58</td>\n",
       "      <td>2021-06-17 11:27:52</td>\n",
       "      <td>7</td>\n",
       "      <td>NaN</td>\n",
       "      <td>2</td>\n",
       "      <td>NaN</td>\n",
       "      <td>NaN</td>\n",
       "      <td>138</td>\n",
       "      <td>2021-01-30 00:58:07</td>\n",
       "    </tr>\n",
       "    <tr>\n",
       "      <th>4983</th>\n",
       "      <td>155258</td>\n",
       "      <td>155258</td>\n",
       "      <td>zzhang81</td>\n",
       "      <td>2020-08-26 12:11:38</td>\n",
       "      <td>2020-09-02 12:22:57</td>\n",
       "      <td>2020-08-26 12:12:35</td>\n",
       "      <td>2020-09-03 13:50:35</td>\n",
       "      <td>193</td>\n",
       "      <td>NaN</td>\n",
       "      <td>2</td>\n",
       "      <td>NaN</td>\n",
       "      <td>NaN</td>\n",
       "      <td>8</td>\n",
       "      <td>2020-08-26 12:11:38</td>\n",
       "    </tr>\n",
       "    <tr>\n",
       "      <th>4984</th>\n",
       "      <td>155268</td>\n",
       "      <td>155268</td>\n",
       "      <td>zzhou436</td>\n",
       "      <td>2021-06-21 06:37:27</td>\n",
       "      <td>2021-07-25 08:57:28</td>\n",
       "      <td>2021-06-22 06:37:51</td>\n",
       "      <td>2021-07-26 10:37:37</td>\n",
       "      <td>28</td>\n",
       "      <td>NaN</td>\n",
       "      <td>8</td>\n",
       "      <td>NaN</td>\n",
       "      <td>NaN</td>\n",
       "      <td>35</td>\n",
       "      <td>2021-06-21 06:37:27</td>\n",
       "    </tr>\n",
       "    <tr>\n",
       "      <th>4985</th>\n",
       "      <td>155277</td>\n",
       "      <td>155277</td>\n",
       "      <td>zzmola</td>\n",
       "      <td>2020-10-11 12:21:03</td>\n",
       "      <td>2020-12-09 12:17:22</td>\n",
       "      <td>2020-10-11 12:26:42</td>\n",
       "      <td>2020-12-10 15:57:55</td>\n",
       "      <td>8</td>\n",
       "      <td>NaN</td>\n",
       "      <td>2</td>\n",
       "      <td>NaN</td>\n",
       "      <td>NaN</td>\n",
       "      <td>60</td>\n",
       "      <td>2020-10-11 12:21:03</td>\n",
       "    </tr>\n",
       "  </tbody>\n",
       "</table>\n",
       "<p>4986 rows × 14 columns</p>\n",
       "</div>"
      ],
      "text/plain": [
       "       index  Unnamed: 0             user     first_start_date  \\\n",
       "0         19          19       061962588x  2021-04-28 01:54:30   \n",
       "1         20          20       061972018x  2021-04-28 02:17:04   \n",
       "2         26          26        0808wodlr  2020-11-10 00:04:08   \n",
       "3         92          92  12422rahulkumar  2020-09-25 04:02:01   \n",
       "4        110         110       13rahul129  2021-05-13 00:20:48   \n",
       "...      ...         ...              ...                  ...   \n",
       "4981  155160      155160           zy2421  2021-02-14 04:29:11   \n",
       "4982  155226      155226            zyzhu  2021-01-30 00:58:07   \n",
       "4983  155258      155258         zzhang81  2020-08-26 12:11:38   \n",
       "4984  155268      155268         zzhou436  2021-06-21 06:37:27   \n",
       "4985  155277      155277           zzmola  2020-10-11 12:21:03   \n",
       "\n",
       "          last_start_date    first_finish_date     last_finish_date  \\\n",
       "0     2021-05-27 01:09:33  2021-04-28 03:31:52  2021-05-27 11:19:13   \n",
       "1     2021-05-27 01:13:31  2021-04-28 02:40:49  2021-05-28 01:20:45   \n",
       "2     2020-12-08 23:24:41  2020-11-11 00:12:54  2020-12-09 23:28:55   \n",
       "3     2021-01-05 04:31:11  2020-09-26 07:49:27  2021-01-06 04:38:54   \n",
       "4     2021-06-04 12:43:29  2021-05-14 00:23:50  2021-06-04 12:58:37   \n",
       "...                   ...                  ...                  ...   \n",
       "4981  2021-02-16 09:13:55  2021-02-14 21:40:06  2021-02-24 14:01:43   \n",
       "4982  2021-06-16 11:26:48  2021-01-31 01:11:58  2021-06-17 11:27:52   \n",
       "4983  2020-09-02 12:22:57  2020-08-26 12:12:35  2020-09-03 13:50:35   \n",
       "4984  2021-07-25 08:57:28  2021-06-22 06:37:51  2021-07-26 10:37:37   \n",
       "4985  2020-12-09 12:17:22  2020-10-11 12:26:42  2020-12-10 15:57:55   \n",
       "\n",
       "      job_count  superjob_count  job_event_days  superjob_event_days  \\\n",
       "0            40             NaN               5                  NaN   \n",
       "1            66             NaN               4                  NaN   \n",
       "2            13             NaN               2                  NaN   \n",
       "3           172             NaN               6                  NaN   \n",
       "4           125             NaN               9                  NaN   \n",
       "...         ...             ...             ...                  ...   \n",
       "4981        372             NaN               3                  NaN   \n",
       "4982          7             NaN               2                  NaN   \n",
       "4983        193             NaN               2                  NaN   \n",
       "4984         28             NaN               8                  NaN   \n",
       "4985          8             NaN               2                  NaN   \n",
       "\n",
       "     last_superjob_start_date  toolevents__lifetime       start_datetime  \n",
       "0                         NaN                    29  2021-04-28 01:54:30  \n",
       "1                         NaN                    29  2021-04-28 02:17:04  \n",
       "2                         NaN                    29  2020-11-10 00:04:08  \n",
       "3                         NaN                   103  2020-09-25 04:02:01  \n",
       "4                         NaN                    22  2021-05-13 00:20:48  \n",
       "...                       ...                   ...                  ...  \n",
       "4981                      NaN                    10  2021-02-14 04:29:11  \n",
       "4982                      NaN                   138  2021-01-30 00:58:07  \n",
       "4983                      NaN                     8  2020-08-26 12:11:38  \n",
       "4984                      NaN                    35  2021-06-21 06:37:27  \n",
       "4985                      NaN                    60  2020-10-11 12:21:03  \n",
       "\n",
       "[4986 rows x 14 columns]"
      ]
     },
     "metadata": {},
     "output_type": "display_data"
    }
   ],
   "source": [
    "df = pd.read_csv(\n",
    "    Path(cached_dirs.cache_dir, 'rfm/by_toolevents/iteration4/unclassified_user_data.csv'),\n",
    "    index_col=False\n",
    ")\n",
    "display(df)"
   ]
  },
  {
   "cell_type": "code",
   "execution_count": 4,
   "id": "061dfdf2-fe13-49c5-bb3d-4eab3735fda2",
   "metadata": {
    "execution": {
     "iopub.execute_input": "2021-08-24T18:53:48.543331Z",
     "iopub.status.busy": "2021-08-24T18:53:48.543113Z",
     "iopub.status.idle": "2021-08-24T18:53:48.550684Z",
     "shell.execute_reply": "2021-08-24T18:53:48.549438Z",
     "shell.execute_reply.started": "2021-08-24T18:53:48.543312Z"
    },
    "tags": []
   },
   "outputs": [],
   "source": [
    "users = pd.DataFrame(df['user'].unique())\n",
    "users.columns = ['user']"
   ]
  },
  {
   "cell_type": "code",
   "execution_count": 5,
   "id": "ace3e288-4add-4d01-a5f2-02296c73156d",
   "metadata": {
    "execution": {
     "iopub.execute_input": "2021-08-24T18:53:48.552946Z",
     "iopub.status.busy": "2021-08-24T18:53:48.552528Z",
     "iopub.status.idle": "2021-08-24T18:53:48.568737Z",
     "shell.execute_reply": "2021-08-24T18:53:48.567285Z",
     "shell.execute_reply.started": "2021-08-24T18:53:48.552919Z"
    },
    "tags": []
   },
   "outputs": [],
   "source": [
    "recency_df = df[['user', 'toolevents__lifetime']].copy()\n",
    "recency_df['Recency'] = recency_df['toolevents__lifetime']\n",
    "\n",
    "users = pd.merge(users, recency_df[['user','Recency', 'toolevents__lifetime']], on='user')"
   ]
  },
  {
   "cell_type": "code",
   "execution_count": 6,
   "id": "11abe91d-b0ad-41fe-9484-b4bfb2fc1e27",
   "metadata": {
    "execution": {
     "iopub.execute_input": "2021-08-24T18:53:48.570091Z",
     "iopub.status.busy": "2021-08-24T18:53:48.569862Z",
     "iopub.status.idle": "2021-08-24T18:53:49.646557Z",
     "shell.execute_reply": "2021-08-24T18:53:49.645356Z",
     "shell.execute_reply.started": "2021-08-24T18:53:48.570072Z"
    },
    "tags": []
   },
   "outputs": [
    {
     "name": "stderr",
     "output_type": "stream",
     "text": [
      "findfont: Font family ['sans-serif'] not found. Falling back to DejaVu Sans.\n",
      "findfont: Generic family 'sans-serif' not found because none of the following families were found: Arial, Liberation Sans, Bitstream Vera Sans, sans-serif\n",
      "findfont: Font family ['sans-serif'] not found. Falling back to DejaVu Sans.\n",
      "findfont: Generic family 'sans-serif' not found because none of the following families were found: Arial, Liberation Sans, Bitstream Vera Sans, sans-serif\n",
      "findfont: Font family ['sans-serif'] not found. Falling back to DejaVu Sans.\n",
      "findfont: Generic family 'sans-serif' not found because none of the following families were found: Arial, Liberation Sans, Bitstream Vera Sans, sans-serif\n"
     ]
    },
    {
     "data": {
      "image/png": "[encoded data removed]",
      "text/plain": [
       "<Figure size 576x396 with 1 Axes>"
      ]
     },
     "metadata": {},
     "output_type": "display_data"
    }
   ],
   "source": [
    "elbow_curve(users[['Recency']])"
   ]
  },
  {
   "cell_type": "code",
   "execution_count": 7,
   "id": "14f4a2f7-1a13-44b2-b9a1-8bc17ad8b539",
   "metadata": {
    "execution": {
     "iopub.execute_input": "2021-08-24T18:53:49.649357Z",
     "iopub.status.busy": "2021-08-24T18:53:49.649150Z",
     "iopub.status.idle": "2021-08-24T18:53:49.717147Z",
     "shell.execute_reply": "2021-08-24T18:53:49.715978Z",
     "shell.execute_reply.started": "2021-08-24T18:53:49.649335Z"
    }
   },
   "outputs": [],
   "source": [
    "kmeans = KMeans(n_clusters=3)\n",
    "kmeans.fit(users[['Recency']])\n",
    "users['RecencyCluster'] = kmeans.predict(users[['Recency']])"
   ]
  },
  {
   "cell_type": "code",
   "execution_count": 8,
   "id": "ac0e51d2-9bc8-42d8-838a-45443c20f23d",
   "metadata": {
    "execution": {
     "iopub.execute_input": "2021-08-24T18:53:49.721675Z",
     "iopub.status.busy": "2021-08-24T18:53:49.721374Z",
     "iopub.status.idle": "2021-08-24T18:53:49.755727Z",
     "shell.execute_reply": "2021-08-24T18:53:49.754162Z",
     "shell.execute_reply.started": "2021-08-24T18:53:49.721651Z"
    },
    "tags": []
   },
   "outputs": [
    {
     "data": {
      "text/html": [
       "<div>\n",
       "<style scoped>\n",
       "    .dataframe tbody tr th:only-of-type {\n",
       "        vertical-align: middle;\n",
       "    }\n",
       "\n",
       "    .dataframe tbody tr th {\n",
       "        vertical-align: top;\n",
       "    }\n",
       "\n",
       "    .dataframe thead th {\n",
       "        text-align: right;\n",
       "    }\n",
       "</style>\n",
       "<table border=\"1\" class=\"dataframe\">\n",
       "  <thead>\n",
       "    <tr style=\"text-align: right;\">\n",
       "      <th></th>\n",
       "      <th>count</th>\n",
       "      <th>mean</th>\n",
       "      <th>std</th>\n",
       "      <th>min</th>\n",
       "      <th>25%</th>\n",
       "      <th>50%</th>\n",
       "      <th>75%</th>\n",
       "      <th>max</th>\n",
       "    </tr>\n",
       "    <tr>\n",
       "      <th>RecencyCluster</th>\n",
       "      <th></th>\n",
       "      <th></th>\n",
       "      <th></th>\n",
       "      <th></th>\n",
       "      <th></th>\n",
       "      <th></th>\n",
       "      <th></th>\n",
       "      <th></th>\n",
       "    </tr>\n",
       "  </thead>\n",
       "  <tbody>\n",
       "    <tr>\n",
       "      <th>0</th>\n",
       "      <td>3505.0</td>\n",
       "      <td>17.081027</td>\n",
       "      <td>13.700159</td>\n",
       "      <td>2.0</td>\n",
       "      <td>5.0</td>\n",
       "      <td>13.0</td>\n",
       "      <td>27.0</td>\n",
       "      <td>51.0</td>\n",
       "    </tr>\n",
       "    <tr>\n",
       "      <th>1</th>\n",
       "      <td>421.0</td>\n",
       "      <td>204.909739</td>\n",
       "      <td>46.473407</td>\n",
       "      <td>146.0</td>\n",
       "      <td>166.0</td>\n",
       "      <td>195.0</td>\n",
       "      <td>237.0</td>\n",
       "      <td>338.0</td>\n",
       "    </tr>\n",
       "    <tr>\n",
       "      <th>2</th>\n",
       "      <td>1060.0</td>\n",
       "      <td>85.904717</td>\n",
       "      <td>24.363151</td>\n",
       "      <td>52.0</td>\n",
       "      <td>66.0</td>\n",
       "      <td>82.0</td>\n",
       "      <td>102.0</td>\n",
       "      <td>145.0</td>\n",
       "    </tr>\n",
       "  </tbody>\n",
       "</table>\n",
       "</div>"
      ],
      "text/plain": [
       "                 count        mean        std    min    25%    50%    75%  \\\n",
       "RecencyCluster                                                              \n",
       "0               3505.0   17.081027  13.700159    2.0    5.0   13.0   27.0   \n",
       "1                421.0  204.909739  46.473407  146.0  166.0  195.0  237.0   \n",
       "2               1060.0   85.904717  24.363151   52.0   66.0   82.0  102.0   \n",
       "\n",
       "                  max  \n",
       "RecencyCluster         \n",
       "0                51.0  \n",
       "1               338.0  \n",
       "2               145.0  "
      ]
     },
     "metadata": {},
     "output_type": "display_data"
    }
   ],
   "source": [
    "display(users.groupby('RecencyCluster')['Recency'].describe())"
   ]
  },
  {
   "cell_type": "code",
   "execution_count": 9,
   "id": "f6c39546-d72e-44dc-904f-7d066f3137e4",
   "metadata": {
    "execution": {
     "iopub.execute_input": "2021-08-24T18:53:49.757850Z",
     "iopub.status.busy": "2021-08-24T18:53:49.757264Z",
     "iopub.status.idle": "2021-08-24T18:53:50.017982Z",
     "shell.execute_reply": "2021-08-24T18:53:50.017364Z",
     "shell.execute_reply.started": "2021-08-24T18:53:49.757805Z"
    }
   },
   "outputs": [
    {
     "data": {
      "text/html": [
       "<div>\n",
       "<style scoped>\n",
       "    .dataframe tbody tr th:only-of-type {\n",
       "        vertical-align: middle;\n",
       "    }\n",
       "\n",
       "    .dataframe tbody tr th {\n",
       "        vertical-align: top;\n",
       "    }\n",
       "\n",
       "    .dataframe thead th {\n",
       "        text-align: right;\n",
       "    }\n",
       "</style>\n",
       "<table border=\"1\" class=\"dataframe\">\n",
       "  <thead>\n",
       "    <tr style=\"text-align: right;\">\n",
       "      <th></th>\n",
       "      <th>count</th>\n",
       "      <th>mean</th>\n",
       "      <th>std</th>\n",
       "      <th>min</th>\n",
       "      <th>25%</th>\n",
       "      <th>50%</th>\n",
       "      <th>75%</th>\n",
       "      <th>max</th>\n",
       "    </tr>\n",
       "    <tr>\n",
       "      <th>RecencyCluster</th>\n",
       "      <th></th>\n",
       "      <th></th>\n",
       "      <th></th>\n",
       "      <th></th>\n",
       "      <th></th>\n",
       "      <th></th>\n",
       "      <th></th>\n",
       "      <th></th>\n",
       "    </tr>\n",
       "  </thead>\n",
       "  <tbody>\n",
       "    <tr>\n",
       "      <th>0</th>\n",
       "      <td>412.0</td>\n",
       "      <td>145.733010</td>\n",
       "      <td>23.955790</td>\n",
       "      <td>108.0</td>\n",
       "      <td>125.0</td>\n",
       "      <td>145.5</td>\n",
       "      <td>165.0</td>\n",
       "      <td>193.0</td>\n",
       "    </tr>\n",
       "    <tr>\n",
       "      <th>1</th>\n",
       "      <td>3269.0</td>\n",
       "      <td>14.917712</td>\n",
       "      <td>11.452831</td>\n",
       "      <td>2.0</td>\n",
       "      <td>5.0</td>\n",
       "      <td>12.0</td>\n",
       "      <td>23.0</td>\n",
       "      <td>42.0</td>\n",
       "    </tr>\n",
       "    <tr>\n",
       "      <th>2</th>\n",
       "      <td>215.0</td>\n",
       "      <td>242.074419</td>\n",
       "      <td>34.823910</td>\n",
       "      <td>194.0</td>\n",
       "      <td>213.5</td>\n",
       "      <td>236.0</td>\n",
       "      <td>268.0</td>\n",
       "      <td>338.0</td>\n",
       "    </tr>\n",
       "    <tr>\n",
       "      <th>3</th>\n",
       "      <td>1090.0</td>\n",
       "      <td>70.037615</td>\n",
       "      <td>18.382165</td>\n",
       "      <td>43.0</td>\n",
       "      <td>54.0</td>\n",
       "      <td>69.0</td>\n",
       "      <td>85.0</td>\n",
       "      <td>107.0</td>\n",
       "    </tr>\n",
       "  </tbody>\n",
       "</table>\n",
       "</div>"
      ],
      "text/plain": [
       "                 count        mean        std    min    25%    50%    75%  \\\n",
       "RecencyCluster                                                              \n",
       "0                412.0  145.733010  23.955790  108.0  125.0  145.5  165.0   \n",
       "1               3269.0   14.917712  11.452831    2.0    5.0   12.0   23.0   \n",
       "2                215.0  242.074419  34.823910  194.0  213.5  236.0  268.0   \n",
       "3               1090.0   70.037615  18.382165   43.0   54.0   69.0   85.0   \n",
       "\n",
       "                  max  \n",
       "RecencyCluster         \n",
       "0               193.0  \n",
       "1                42.0  \n",
       "2               338.0  \n",
       "3               107.0  "
      ]
     },
     "metadata": {},
     "output_type": "display_data"
    }
   ],
   "source": [
    "kmeans = KMeans(n_clusters=4)\n",
    "kmeans.fit(users[['Recency']])\n",
    "users['RecencyCluster'] = kmeans.predict(users[['Recency']])\n",
    "display(users.groupby('RecencyCluster')['Recency'].describe())"
   ]
  },
  {
   "cell_type": "code",
   "execution_count": 10,
   "id": "a6ddb551-12c0-447e-9ad4-f983fc7f788f",
   "metadata": {
    "execution": {
     "iopub.execute_input": "2021-08-24T18:53:50.019374Z",
     "iopub.status.busy": "2021-08-24T18:53:50.018905Z",
     "iopub.status.idle": "2021-08-24T18:53:50.056695Z",
     "shell.execute_reply": "2021-08-24T18:53:50.055261Z",
     "shell.execute_reply.started": "2021-08-24T18:53:50.019184Z"
    }
   },
   "outputs": [],
   "source": [
    "users.to_csv(\n",
    "    Path(cached_dirs.cache_dir, \"rfm/by_toolevents/iteration4/recency-clustered.csv\"),\n",
    "    index=False,\n",
    "    index_label=False\n",
    ")"
   ]
  },
  {
   "cell_type": "code",
   "execution_count": null,
   "id": "da6fde4c-b3f3-431c-b289-7cf32ed524e1",
   "metadata": {},
   "outputs": [],
   "source": []
  },
  {
   "cell_type": "code",
   "execution_count": 11,
   "id": "f04603b0-ee60-4d66-b728-4b317e03f16e",
   "metadata": {
    "execution": {
     "iopub.execute_input": "2021-08-24T18:53:50.061196Z",
     "iopub.status.busy": "2021-08-24T18:53:50.060173Z",
     "iopub.status.idle": "2021-08-24T18:53:50.074362Z",
     "shell.execute_reply": "2021-08-24T18:53:50.073444Z",
     "shell.execute_reply.started": "2021-08-24T18:53:50.061147Z"
    }
   },
   "outputs": [
    {
     "data": {
      "text/plain": [
       "array([[0.08035714],\n",
       "       [0.08035714],\n",
       "       [0.08035714],\n",
       "       ...,\n",
       "       [0.01785714],\n",
       "       [0.09821429],\n",
       "       [0.17261905]])"
      ]
     },
     "metadata": {},
     "output_type": "display_data"
    }
   ],
   "source": [
    "scaler = MinMaxScaler()\n",
    "X_scaled=scaler.fit_transform(users[['Recency']])\n",
    "display(X_scaled)"
   ]
  },
  {
   "cell_type": "code",
   "execution_count": 12,
   "id": "4076b8da-1e3e-4a33-beb2-ef09bab9664d",
   "metadata": {
    "execution": {
     "iopub.execute_input": "2021-08-24T18:53:50.077349Z",
     "iopub.status.busy": "2021-08-24T18:53:50.076510Z",
     "iopub.status.idle": "2021-08-24T18:54:04.395466Z",
     "shell.execute_reply": "2021-08-24T18:54:04.394374Z",
     "shell.execute_reply.started": "2021-08-24T18:53:50.077295Z"
    },
    "tags": []
   },
   "outputs": [
    {
     "name": "stdout",
     "output_type": "stream",
     "text": [
      "Score for number of cluster(s) 2: -44.5298252018257\n",
      "Silhouette score for number of cluster(s) 2: 0.7408121767989908\n",
      "Davies Bouldin score for number of cluster(s) 2: 0.4795916146572145\n"
     ]
    },
    {
     "data": {
      "text/plain": [
       "'Centroids - '"
      ]
     },
     "metadata": {},
     "output_type": "display_data"
    },
    {
     "name": "stdout",
     "output_type": "stream",
     "text": [
      "[[0.48925464]\n",
      " [0.07331581]]\n",
      "----------------------------------------------------------------------------------------------------\n",
      "Score for number of cluster(s) 3: -19.42824311568851\n",
      "Silhouette score for number of cluster(s) 3: 0.6845588978293684\n",
      "Davies Bouldin score for number of cluster(s) 3: 0.48405848831321197\n"
     ]
    },
    {
     "data": {
      "text/plain": [
       "'Centroids - '"
      ]
     },
     "metadata": {},
     "output_type": "display_data"
    },
    {
     "name": "stdout",
     "output_type": "stream",
     "text": [
      "[[0.04488401]\n",
      " [0.60389803]\n",
      " [0.24971642]]\n",
      "----------------------------------------------------------------------------------------------------\n",
      "Score for number of cluster(s) 4: -11.44926559506903\n",
      "Silhouette score for number of cluster(s) 4: 0.6676020229849415\n",
      "Davies Bouldin score for number of cluster(s) 4: 0.48509071749010413\n"
     ]
    },
    {
     "data": {
      "text/plain": [
       "'Centroids - '"
      ]
     },
     "metadata": {},
     "output_type": "display_data"
    },
    {
     "name": "stdout",
     "output_type": "stream",
     "text": [
      "[[0.43635644]\n",
      " [0.03935595]\n",
      " [0.20703837]\n",
      " [0.72200338]]\n",
      "----------------------------------------------------------------------------------------------------\n",
      "Score for number of cluster(s) 5: -7.179968137534328\n",
      "Silhouette score for number of cluster(s) 5: 0.623186164621827\n",
      "Davies Bouldin score for number of cluster(s) 5: 0.4969361803618623\n"
     ]
    },
    {
     "data": {
      "text/plain": [
       "'Centroids - '"
      ]
     },
     "metadata": {},
     "output_type": "display_data"
    },
    {
     "name": "stdout",
     "output_type": "stream",
     "text": [
      "[[0.24474529]\n",
      " [0.02262403]\n",
      " [0.72408789]\n",
      " [0.11016464]\n",
      " [0.45030416]]\n",
      "----------------------------------------------------------------------------------------------------\n",
      "Score for number of cluster(s) 6: -5.215491158607867\n",
      "Silhouette score for number of cluster(s) 6: 0.6181610125102692\n",
      "Davies Bouldin score for number of cluster(s) 6: 0.5118259745716451\n"
     ]
    },
    {
     "data": {
      "text/plain": [
       "'Centroids - '"
      ]
     },
     "metadata": {},
     "output_type": "display_data"
    },
    {
     "name": "stdout",
     "output_type": "stream",
     "text": [
      "[[0.02184111]\n",
      " [0.57019897]\n",
      " [0.23399145]\n",
      " [0.10663344]\n",
      " [0.79140787]\n",
      " [0.39263816]]\n",
      "----------------------------------------------------------------------------------------------------\n",
      "Score for number of cluster(s) 7: -3.6351451957841476\n",
      "Silhouette score for number of cluster(s) 7: 0.6148393190229284\n",
      "Davies Bouldin score for number of cluster(s) 7: 0.4896154942704869\n"
     ]
    },
    {
     "data": {
      "text/plain": [
       "'Centroids - '"
      ]
     },
     "metadata": {},
     "output_type": "display_data"
    },
    {
     "name": "stdout",
     "output_type": "stream",
     "text": [
      "[[0.28836276]\n",
      " [0.01840584]\n",
      " [0.83184524]\n",
      " [0.62878945]\n",
      " [0.08682056]\n",
      " [0.17935681]\n",
      " [0.4464952 ]]\n",
      "----------------------------------------------------------------------------------------------------\n",
      "Score for number of cluster(s) 8: -2.8585258557911155\n",
      "Silhouette score for number of cluster(s) 8: 0.6160887208683027\n",
      "Davies Bouldin score for number of cluster(s) 8: 0.4897548420308917\n"
     ]
    },
    {
     "data": {
      "text/plain": [
       "'Centroids - '"
      ]
     },
     "metadata": {},
     "output_type": "display_data"
    },
    {
     "name": "stdout",
     "output_type": "stream",
     "text": [
      "[[0.01909506]\n",
      " [0.39791154]\n",
      " [0.17598749]\n",
      " [0.51912986]\n",
      " [0.66449606]\n",
      " [0.08820722]\n",
      " [0.84825938]\n",
      " [0.27275619]]\n",
      "----------------------------------------------------------------------------------------------------\n",
      "Score for number of cluster(s) 9: -2.2025575158385853\n",
      "Silhouette score for number of cluster(s) 9: 0.5884217394311294\n",
      "Davies Bouldin score for number of cluster(s) 9: 0.5026137817075704\n"
     ]
    },
    {
     "data": {
      "text/plain": [
       "'Centroids - '"
      ]
     },
     "metadata": {},
     "output_type": "display_data"
    },
    {
     "name": "stdout",
     "output_type": "stream",
     "text": [
      "[[0.05758633]\n",
      " [0.40059256]\n",
      " [0.19380474]\n",
      " [0.51912986]\n",
      " [0.84825938]\n",
      " [0.01170838]\n",
      " [0.11680152]\n",
      " [0.2798163 ]\n",
      " [0.66449606]]\n",
      "----------------------------------------------------------------------------------------------------\n",
      "Score for number of cluster(s) 10: -1.833152569929315\n",
      "Silhouette score for number of cluster(s) 10: 0.5832625727491071\n",
      "Davies Bouldin score for number of cluster(s) 10: 0.5048204566976098\n"
     ]
    },
    {
     "data": {
      "text/plain": [
       "'Centroids - '"
      ]
     },
     "metadata": {},
     "output_type": "display_data"
    },
    {
     "name": "stdout",
     "output_type": "stream",
     "text": [
      "[[0.0941428 ]\n",
      " [0.42046778]\n",
      " [0.66856685]\n",
      " [0.00975602]\n",
      " [0.23341941]\n",
      " [0.85105097]\n",
      " [0.52821003]\n",
      " [0.16020796]\n",
      " [0.31492192]\n",
      " [0.04604286]]\n",
      "----------------------------------------------------------------------------------------------------\n"
     ]
    },
    {
     "data": {
      "image/png": "[encoded data removed]",
      "text/plain": [
       "<Figure size 1080x576 with 10 Axes>"
      ]
     },
     "metadata": {},
     "output_type": "display_data"
    }
   ],
   "source": [
    "display_cluster_info(X_scaled)"
   ]
  }
 ],
 "metadata": {
  "kernelspec": {
   "display_name": "Python 3 (ipykernel)",
   "language": "python",
   "name": "python3"
  },
  "language_info": {
   "codemirror_mode": {
    "name": "ipython",
    "version": 3
   },
   "file_extension": ".py",
   "mimetype": "text/x-python",
   "name": "python",
   "nbconvert_exporter": "python",
   "pygments_lexer": "ipython3",
   "version": "3.8.10"
  }
 },
 "nbformat": 4,
 "nbformat_minor": 5
}
