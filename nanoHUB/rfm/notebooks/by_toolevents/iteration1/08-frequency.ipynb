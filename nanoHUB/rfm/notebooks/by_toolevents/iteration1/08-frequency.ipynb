{
 "cells": [
  {
   "cell_type": "code",
   "execution_count": 1,
   "id": "d467e86a-ec0f-4da4-a1bc-47f9ca90386d",
   "metadata": {
    "execution": {
     "iopub.execute_input": "2021-08-12T20:52:37.887042Z",
     "iopub.status.busy": "2021-08-12T20:52:37.885774Z",
     "iopub.status.idle": "2021-08-12T20:52:41.216368Z",
     "shell.execute_reply": "2021-08-12T20:52:41.214888Z",
     "shell.execute_reply.started": "2021-08-12T20:52:37.886948Z"
    },
    "tags": []
   },
   "outputs": [],
   "source": [
    "from pathlib import Path\n",
    "import os\n",
    "import pandas as pd\n",
    "\n",
    "import seaborn as sns\n",
    "from sklearn.cluster import KMeans\n",
    "from sklearn.preprocessing import StandardScaler\n",
    "from sklearn.preprocessing import MinMaxScaler\n",
    "from sklearn.manifold import TSNE\n",
    "from sklearn.metrics import silhouette_score\n",
    "from sklearn.metrics import davies_bouldin_score,v_measure_score\n",
    "from yellowbrick.cluster import SilhouetteVisualizer\n",
    "import matplotlib.pyplot as plt\n",
    "\n",
    "CACHE_DIR = Path(Path(os.getenv('APP_DIR')), '.cache')\n",
    "NANOHUB_CACHE = Path(CACHE_DIR, 'nanohub')\n",
    "NANOHUB_METRICS_CACHE = Path(CACHE_DIR, 'nanohub_metrics')\n",
    "\n",
    "\n",
    "def create_silhouette_visual(sample, kmeans: KMeans, clusters: list = [2,3,4,5]):\n",
    "    fig, ax = plt.subplots(2, 2, figsize=(15,8))\n",
    "    for i in clusters:\n",
    "        q, mod = divmod(i, 2)\n",
    "\n",
    "        visualizer = SilhouetteVisualizer(kmeans, colors='yellowbrick', ax=ax[q-1][mod])\n",
    "        visualizer.fit(sample)\n",
    "        \n",
    "        \n",
    "def display_cluster_info(X_scaled, clusters: [] = [2,3,4,5,6,7,8,9,10]):\n",
    "    km_scores= []\n",
    "    km_silhouette = []\n",
    "    vmeasure_score =[]\n",
    "    db_score = []\n",
    "    \n",
    "    fig, ax = plt.subplots(5, 2, figsize=(15,8))\n",
    "\n",
    "    for i in clusters:\n",
    "        kmeans = KMeans(n_clusters=i)\n",
    "        kmeans.fit(X_scaled)\n",
    "        preds = kmeans.predict(X_scaled)\n",
    "        km_scores.append(-kmeans.score(X_scaled))\n",
    "        print(\"Score for number of cluster(s) {}: {}\".format(i,kmeans.score(X_scaled)))\n",
    "        km_scores.append(-kmeans.score(X_scaled))\n",
    "\n",
    "        silhouette = silhouette_score(X_scaled,preds)\n",
    "        km_silhouette.append(silhouette)\n",
    "        print(\"Silhouette score for number of cluster(s) {}: {}\".format(i,silhouette))\n",
    "\n",
    "        db = davies_bouldin_score(X_scaled,preds)\n",
    "        db_score.append(db)\n",
    "        print(\"Davies Bouldin score for number of cluster(s) {}: {}\".format(i,db))\n",
    "\n",
    "        display(\"Centroids - \")\n",
    "        print(kmeans.cluster_centers_)\n",
    "        \n",
    "        q, mod = divmod(i, 2)\n",
    "    \n",
    "        visualizer = SilhouetteVisualizer(kmeans, colors='yellowbrick', ax=ax[q-1][mod])\n",
    "        visualizer.fit(X_scaled)\n",
    "\n",
    "        print(\"-\"*100) \n",
    "\n",
    "\n"
   ]
  },
  {
   "cell_type": "code",
   "execution_count": null,
   "id": "278c5d9b-149e-4e61-91b6-69312eb984a3",
   "metadata": {},
   "outputs": [],
   "source": []
  },
  {
   "cell_type": "code",
   "execution_count": 2,
   "id": "d4f3391b-4a89-4521-9e70-5de0e3d5d22a",
   "metadata": {
    "execution": {
     "iopub.execute_input": "2021-08-12T20:52:41.218272Z",
     "iopub.status.busy": "2021-08-12T20:52:41.218017Z",
     "iopub.status.idle": "2021-08-12T20:52:41.519648Z",
     "shell.execute_reply": "2021-08-12T20:52:41.515972Z",
     "shell.execute_reply.started": "2021-08-12T20:52:41.218241Z"
    },
    "tags": []
   },
   "outputs": [],
   "source": [
    "df = pd.read_csv(\n",
    "    Path(CACHE_DIR, 'unclassified_user_data.csv'),\n",
    "    index_col=False\n",
    ")"
   ]
  },
  {
   "cell_type": "code",
   "execution_count": 3,
   "id": "061dfdf2-fe13-49c5-bb3d-4eab3735fda2",
   "metadata": {
    "execution": {
     "iopub.execute_input": "2021-08-12T20:52:41.524262Z",
     "iopub.status.busy": "2021-08-12T20:52:41.523853Z",
     "iopub.status.idle": "2021-08-12T20:52:41.551752Z",
     "shell.execute_reply": "2021-08-12T20:52:41.550782Z",
     "shell.execute_reply.started": "2021-08-12T20:52:41.524217Z"
    }
   },
   "outputs": [],
   "source": [
    "users = pd.DataFrame(df['user'].unique())\n",
    "users.columns = ['user']"
   ]
  },
  {
   "cell_type": "code",
   "execution_count": 4,
   "id": "ace3e288-4add-4d01-a5f2-02296c73156d",
   "metadata": {
    "execution": {
     "iopub.execute_input": "2021-08-12T20:52:41.553091Z",
     "iopub.status.busy": "2021-08-12T20:52:41.552827Z",
     "iopub.status.idle": "2021-08-12T20:52:42.697006Z",
     "shell.execute_reply": "2021-08-12T20:52:42.691710Z",
     "shell.execute_reply.started": "2021-08-12T20:52:41.553056Z"
    },
    "tags": []
   },
   "outputs": [],
   "source": [
    "frequency_df = df[['user', 'job_event_days']].copy()\n",
    "frequency_df['Frequency'] = frequency_df['job_event_days']\n",
    "\n",
    "users = pd.merge(users, frequency_df, on='user')\n",
    "\n",
    "kmeans = KMeans(n_clusters=4)\n",
    "kmeans.fit(users[['Frequency']])\n",
    "users['FrequencyCluster'] = kmeans.predict(users[['Frequency']])"
   ]
  },
  {
   "cell_type": "code",
   "execution_count": 5,
   "id": "ac0e51d2-9bc8-42d8-838a-45443c20f23d",
   "metadata": {
    "execution": {
     "iopub.execute_input": "2021-08-12T20:52:42.704072Z",
     "iopub.status.busy": "2021-08-12T20:52:42.703681Z",
     "iopub.status.idle": "2021-08-12T20:52:42.779217Z",
     "shell.execute_reply": "2021-08-12T20:52:42.778616Z",
     "shell.execute_reply.started": "2021-08-12T20:52:42.704039Z"
    },
    "tags": []
   },
   "outputs": [
    {
     "data": {
      "text/html": [
       "<div>\n",
       "<style scoped>\n",
       "    .dataframe tbody tr th:only-of-type {\n",
       "        vertical-align: middle;\n",
       "    }\n",
       "\n",
       "    .dataframe tbody tr th {\n",
       "        vertical-align: top;\n",
       "    }\n",
       "\n",
       "    .dataframe thead th {\n",
       "        text-align: right;\n",
       "    }\n",
       "</style>\n",
       "<table border=\"1\" class=\"dataframe\">\n",
       "  <thead>\n",
       "    <tr style=\"text-align: right;\">\n",
       "      <th></th>\n",
       "      <th>count</th>\n",
       "      <th>mean</th>\n",
       "      <th>std</th>\n",
       "      <th>min</th>\n",
       "      <th>25%</th>\n",
       "      <th>50%</th>\n",
       "      <th>75%</th>\n",
       "      <th>max</th>\n",
       "    </tr>\n",
       "    <tr>\n",
       "      <th>FrequencyCluster</th>\n",
       "      <th></th>\n",
       "      <th></th>\n",
       "      <th></th>\n",
       "      <th></th>\n",
       "      <th></th>\n",
       "      <th></th>\n",
       "      <th></th>\n",
       "      <th></th>\n",
       "    </tr>\n",
       "  </thead>\n",
       "  <tbody>\n",
       "    <tr>\n",
       "      <th>0</th>\n",
       "      <td>34178.0</td>\n",
       "      <td>4.693165</td>\n",
       "      <td>3.445237</td>\n",
       "      <td>2.0</td>\n",
       "      <td>2.0</td>\n",
       "      <td>3.0</td>\n",
       "      <td>6.00</td>\n",
       "      <td>18.0</td>\n",
       "    </tr>\n",
       "    <tr>\n",
       "      <th>1</th>\n",
       "      <td>2154.0</td>\n",
       "      <td>31.771588</td>\n",
       "      <td>12.590953</td>\n",
       "      <td>19.0</td>\n",
       "      <td>22.0</td>\n",
       "      <td>28.0</td>\n",
       "      <td>38.00</td>\n",
       "      <td>71.0</td>\n",
       "    </tr>\n",
       "    <tr>\n",
       "      <th>2</th>\n",
       "      <td>200.0</td>\n",
       "      <td>111.585000</td>\n",
       "      <td>43.282905</td>\n",
       "      <td>72.0</td>\n",
       "      <td>81.0</td>\n",
       "      <td>98.5</td>\n",
       "      <td>127.25</td>\n",
       "      <td>317.0</td>\n",
       "    </tr>\n",
       "    <tr>\n",
       "      <th>3</th>\n",
       "      <td>6.0</td>\n",
       "      <td>570.166667</td>\n",
       "      <td>230.376576</td>\n",
       "      <td>359.0</td>\n",
       "      <td>426.5</td>\n",
       "      <td>477.5</td>\n",
       "      <td>668.00</td>\n",
       "      <td>966.0</td>\n",
       "    </tr>\n",
       "  </tbody>\n",
       "</table>\n",
       "</div>"
      ],
      "text/plain": [
       "                    count        mean         std    min    25%    50%  \\\n",
       "FrequencyCluster                                                         \n",
       "0                 34178.0    4.693165    3.445237    2.0    2.0    3.0   \n",
       "1                  2154.0   31.771588   12.590953   19.0   22.0   28.0   \n",
       "2                   200.0  111.585000   43.282905   72.0   81.0   98.5   \n",
       "3                     6.0  570.166667  230.376576  359.0  426.5  477.5   \n",
       "\n",
       "                     75%    max  \n",
       "FrequencyCluster                 \n",
       "0                   6.00   18.0  \n",
       "1                  38.00   71.0  \n",
       "2                 127.25  317.0  \n",
       "3                 668.00  966.0  "
      ]
     },
     "metadata": {},
     "output_type": "display_data"
    }
   ],
   "source": [
    "display(users.groupby('FrequencyCluster')['Frequency'].describe())"
   ]
  },
  {
   "cell_type": "code",
   "execution_count": 6,
   "id": "7f7e316d-6669-44fc-a521-99181f11f94b",
   "metadata": {
    "execution": {
     "iopub.execute_input": "2021-08-12T20:52:42.780285Z",
     "iopub.status.busy": "2021-08-12T20:52:42.780077Z",
     "iopub.status.idle": "2021-08-12T20:52:42.958216Z",
     "shell.execute_reply": "2021-08-12T20:52:42.957576Z",
     "shell.execute_reply.started": "2021-08-12T20:52:42.780256Z"
    }
   },
   "outputs": [],
   "source": [
    "users.to_csv(\n",
    "    Path(CACHE_DIR, \"frequency.csv\"),\n",
    "    index=False,\n",
    "    index_label=False\n",
    ")"
   ]
  },
  {
   "cell_type": "code",
   "execution_count": 7,
   "id": "0a8e86c1-daf9-4156-981f-48490b2bcc17",
   "metadata": {
    "execution": {
     "iopub.execute_input": "2021-08-12T20:52:42.967181Z",
     "iopub.status.busy": "2021-08-12T20:52:42.963886Z",
     "iopub.status.idle": "2021-08-12T20:52:42.990993Z",
     "shell.execute_reply": "2021-08-12T20:52:42.990256Z",
     "shell.execute_reply.started": "2021-08-12T20:52:42.964285Z"
    }
   },
   "outputs": [],
   "source": [
    "scaler = MinMaxScaler()\n",
    "X_scaled=scaler.fit_transform(users[['Frequency']])"
   ]
  },
  {
   "cell_type": "code",
   "execution_count": 8,
   "id": "da6fde4c-b3f3-431c-b289-7cf32ed524e1",
   "metadata": {
    "execution": {
     "iopub.execute_input": "2021-08-12T20:52:43.004896Z",
     "iopub.status.busy": "2021-08-12T20:52:42.996991Z",
     "iopub.status.idle": "2021-08-12T21:10:05.816753Z",
     "shell.execute_reply": "2021-08-12T21:10:05.813818Z",
     "shell.execute_reply.started": "2021-08-12T20:52:43.004825Z"
    }
   },
   "outputs": [
    {
     "name": "stdout",
     "output_type": "stream",
     "text": [
      "Score for number of cluster(s) 2: -4.154690951542588\n",
      "Silhouette score for number of cluster(s) 2: 0.9151897141300026\n",
      "Davies Bouldin score for number of cluster(s) 2: 0.4962419260003622\n"
     ]
    },
    {
     "data": {
      "text/plain": [
       "'Centroids - '"
      ]
     },
     "metadata": {},
     "output_type": "display_data"
    },
    {
     "name": "stdout",
     "output_type": "stream",
     "text": [
      "[[0.00394979]\n",
      " [0.08148368]]\n",
      "----------------------------------------------------------------------------------------------------\n",
      "Score for number of cluster(s) 3: -2.4671703378110035\n",
      "Silhouette score for number of cluster(s) 3: 0.8877062297966146\n",
      "Davies Bouldin score for number of cluster(s) 3: 0.47449863926685043\n"
     ]
    },
    {
     "data": {
      "text/plain": [
       "'Centroids - '"
      ]
     },
     "metadata": {},
     "output_type": "display_data"
    },
    {
     "name": "stdout",
     "output_type": "stream",
     "text": [
      "[[0.00349771]\n",
      " [0.05606039]\n",
      " [0.49769479]]\n",
      "----------------------------------------------------------------------------------------------------\n",
      "Score for number of cluster(s) 4: -1.488661413199219\n",
      "Silhouette score for number of cluster(s) 4: 0.8290571638572565\n",
      "Davies Bouldin score for number of cluster(s) 4: 0.49636567775481977\n"
     ]
    },
    {
     "data": {
      "text/plain": [
       "'Centroids - '"
      ]
     },
     "metadata": {},
     "output_type": "display_data"
    },
    {
     "name": "stdout",
     "output_type": "stream",
     "text": [
      "[[0.00271535]\n",
      " [0.58938451]\n",
      " [0.0294411 ]\n",
      " [0.11072083]]\n",
      "----------------------------------------------------------------------------------------------------\n",
      "Score for number of cluster(s) 5: -1.006379160280505\n",
      "Silhouette score for number of cluster(s) 5: 0.7656625859937136\n",
      "Davies Bouldin score for number of cluster(s) 5: 0.4997104039852581\n"
     ]
    },
    {
     "data": {
      "text/plain": [
       "'Centroids - '"
      ]
     },
     "metadata": {},
     "output_type": "display_data"
    },
    {
     "name": "stdout",
     "output_type": "stream",
     "text": [
      "[[0.0163536 ]\n",
      " [0.05487271]\n",
      " [0.00195052]\n",
      " [0.63319502]\n",
      " [0.15304366]]\n",
      "----------------------------------------------------------------------------------------------------\n",
      "Score for number of cluster(s) 6: -0.7090211293241093\n",
      "Silhouette score for number of cluster(s) 6: 0.7517349586015847\n",
      "Davies Bouldin score for number of cluster(s) 6: 0.4734049171046067\n"
     ]
    },
    {
     "data": {
      "text/plain": [
       "'Centroids - '"
      ]
     },
     "metadata": {},
     "output_type": "display_data"
    },
    {
     "name": "stdout",
     "output_type": "stream",
     "text": [
      "[[0.01436333]\n",
      " [0.87188797]\n",
      " [0.12859777]\n",
      " [0.00180103]\n",
      " [0.39078245]\n",
      " [0.04715455]]\n",
      "----------------------------------------------------------------------------------------------------\n",
      "Score for number of cluster(s) 7: -0.49150035259164077\n",
      "Silhouette score for number of cluster(s) 7: 0.7318466752181647\n",
      "Davies Bouldin score for number of cluster(s) 7: 0.4695027165855218\n"
     ]
    },
    {
     "data": {
      "text/plain": [
       "'Centroids - '"
      ]
     },
     "metadata": {},
     "output_type": "display_data"
    },
    {
     "name": "stdout",
     "output_type": "stream",
     "text": [
      "[[0.00162789]\n",
      " [0.39078245]\n",
      " [0.07021696]\n",
      " [0.01172831]\n",
      " [0.03234892]\n",
      " [0.15032968]\n",
      " [0.87188797]]\n",
      "----------------------------------------------------------------------------------------------------\n",
      "Score for number of cluster(s) 8: -0.3776959397718128\n",
      "Silhouette score for number of cluster(s) 8: 0.6962371714866706\n",
      "Davies Bouldin score for number of cluster(s) 8: 0.48065781391742274\n"
     ]
    },
    {
     "data": {
      "text/plain": [
       "'Centroids - '"
      ]
     },
     "metadata": {},
     "output_type": "display_data"
    },
    {
     "name": "stdout",
     "output_type": "stream",
     "text": [
      "[[0.00124051]\n",
      " [0.07551069]\n",
      " [0.87188797]\n",
      " [0.01987997]\n",
      " [0.15140845]\n",
      " [0.00798937]\n",
      " [0.39078245]\n",
      " [0.03996951]]\n",
      "----------------------------------------------------------------------------------------------------\n",
      "Score for number of cluster(s) 9: -0.30373289563509687\n",
      "Silhouette score for number of cluster(s) 9: 0.6521018307041079\n",
      "Davies Bouldin score for number of cluster(s) 9: 0.4990509612631471\n"
     ]
    },
    {
     "data": {
      "text/plain": [
       "'Centroids - '"
      ]
     },
     "metadata": {},
     "output_type": "display_data"
    },
    {
     "name": "stdout",
     "output_type": "stream",
     "text": [
      "[[7.22267763e-04]\n",
      " [6.22375857e-02]\n",
      " [8.71887967e-01]\n",
      " [1.61371888e-02]\n",
      " [1.78301196e-01]\n",
      " [3.38371311e-02]\n",
      " [3.90782454e-01]\n",
      " [5.41511615e-03]\n",
      " [1.09028105e-01]]\n",
      "----------------------------------------------------------------------------------------------------\n",
      "Score for number of cluster(s) 10: -0.2497282297318458\n",
      "Silhouette score for number of cluster(s) 10: 0.6605708159088582\n",
      "Davies Bouldin score for number of cluster(s) 10: 0.49800867656548187\n"
     ]
    },
    {
     "data": {
      "text/plain": [
       "'Centroids - '"
      ]
     },
     "metadata": {},
     "output_type": "display_data"
    },
    {
     "name": "stdout",
     "output_type": "stream",
     "text": [
      "[[4.88661825e-03]\n",
      " [7.05157354e-02]\n",
      " [8.71887967e-01]\n",
      " [2.64489482e-02]\n",
      " [3.90782454e-01]\n",
      " [1.87599745e-01]\n",
      " [7.22267763e-04]\n",
      " [1.30392033e-02]\n",
      " [1.17002798e-01]\n",
      " [4.45761054e-02]]\n"
     ]
    },
    {
     "name": "stderr",
     "output_type": "stream",
     "text": [
      "findfont: Font family ['sans-serif'] not found. Falling back to DejaVu Sans.\n",
      "findfont: Generic family 'sans-serif' not found because none of the following families were found: Arial, Liberation Sans, Bitstream Vera Sans, sans-serif\n"
     ]
    },
    {
     "name": "stdout",
     "output_type": "stream",
     "text": [
      "----------------------------------------------------------------------------------------------------\n"
     ]
    },
    {
     "data": {
      "image/png": "[encoded data removed]",
      "text/plain": [
       "<Figure size 1080x576 with 10 Axes>"
      ]
     },
     "metadata": {},
     "output_type": "display_data"
    }
   ],
   "source": [
    " display_cluster_info(X_scaled)"
   ]
  }
 ],
 "metadata": {
  "kernelspec": {
   "display_name": "Python 3 (ipykernel)",
   "language": "python",
   "name": "python3"
  },
  "language_info": {
   "codemirror_mode": {
    "name": "ipython",
    "version": 3
   },
   "file_extension": ".py",
   "mimetype": "text/x-python",
   "name": "python",
   "nbconvert_exporter": "python",
   "pygments_lexer": "ipython3",
   "version": "3.8.10"
  }
 },
 "nbformat": 4,
 "nbformat_minor": 5
}
