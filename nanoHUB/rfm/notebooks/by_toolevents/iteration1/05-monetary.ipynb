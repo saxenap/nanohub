{
 "cells": [
  {
   "cell_type": "code",
   "execution_count": 1,
   "id": "d467e86a-ec0f-4da4-a1bc-47f9ca90386d",
   "metadata": {
    "execution": {
     "iopub.execute_input": "2021-08-13T02:28:47.913776Z",
     "iopub.status.busy": "2021-08-13T02:28:47.911522Z",
     "iopub.status.idle": "2021-08-13T02:28:48.925000Z",
     "shell.execute_reply": "2021-08-13T02:28:48.924415Z",
     "shell.execute_reply.started": "2021-08-13T02:28:47.913594Z"
    },
    "tags": []
   },
   "outputs": [],
   "source": [
    "from pathlib import Path\n",
    "import os\n",
    "import pandas as pd\n",
    "\n",
    "import seaborn as sns\n",
    "from sklearn.cluster import KMeans\n",
    "from sklearn.preprocessing import StandardScaler\n",
    "from sklearn.preprocessing import MinMaxScaler\n",
    "from sklearn.manifold import TSNE\n",
    "from sklearn.metrics import silhouette_score\n",
    "from sklearn.metrics import davies_bouldin_score,v_measure_score\n",
    "from yellowbrick.cluster import SilhouetteVisualizer\n",
    "import matplotlib.pyplot as plt\n",
    "\n",
    "CACHE_DIR = Path(Path(os.getenv('APP_DIR')), '.cache')\n",
    "NANOHUB_CACHE = Path(CACHE_DIR, 'nanohub')\n",
    "NANOHUB_METRICS_CACHE = Path(CACHE_DIR, 'nanohub_metrics')\n",
    "\n",
    "\n",
    "def create_silhouette_visual(sample, kmeans: KMeans, clusters: list = [2,3,4,5]):\n",
    "    fig, ax = plt.subplots(2, 2, figsize=(15,8))\n",
    "    for i in clusters:\n",
    "        q, mod = divmod(i, 2)\n",
    "\n",
    "        visualizer = SilhouetteVisualizer(kmeans, colors='yellowbrick', ax=ax[q-1][mod])\n",
    "        visualizer.fit(sample)\n",
    "        \n",
    "        \n",
    "def display_cluster_info(X_scaled, clusters: [] = [2,3,4,5,6,7,8,9,10]):\n",
    "    km_scores= []\n",
    "    km_silhouette = []\n",
    "    vmeasure_score =[]\n",
    "    db_score = []\n",
    "    \n",
    "    fig, ax = plt.subplots(5, 2, figsize=(15,8))\n",
    "\n",
    "    for i in clusters:\n",
    "        kmeans = KMeans(n_clusters=i)\n",
    "        kmeans.fit(X_scaled)\n",
    "        preds = kmeans.predict(X_scaled)\n",
    "        km_scores.append(-kmeans.score(X_scaled))\n",
    "        print(\"Score for number of cluster(s) {}: {}\".format(i,kmeans.score(X_scaled)))\n",
    "        km_scores.append(-kmeans.score(X_scaled))\n",
    "\n",
    "        silhouette = silhouette_score(X_scaled,preds)\n",
    "        km_silhouette.append(silhouette)\n",
    "        print(\"Silhouette score for number of cluster(s) {}: {}\".format(i,silhouette))\n",
    "\n",
    "        db = davies_bouldin_score(X_scaled,preds)\n",
    "        db_score.append(db)\n",
    "        print(\"Davies Bouldin score for number of cluster(s) {}: {}\".format(i,db))\n",
    "\n",
    "        display(\"Centroids - \")\n",
    "        print(kmeans.cluster_centers_)\n",
    "        \n",
    "        q, mod = divmod(i, 2)\n",
    "    \n",
    "        visualizer = SilhouetteVisualizer(kmeans, colors='yellowbrick', ax=ax[q-1][mod])\n",
    "        visualizer.fit(X_scaled)\n",
    "\n",
    "        print(\"-\"*100) \n",
    "\n"
   ]
  },
  {
   "cell_type": "code",
   "execution_count": 2,
   "id": "d4f3391b-4a89-4521-9e70-5de0e3d5d22a",
   "metadata": {
    "execution": {
     "iopub.execute_input": "2021-08-13T02:28:48.927090Z",
     "iopub.status.busy": "2021-08-13T02:28:48.925928Z",
     "iopub.status.idle": "2021-08-13T02:28:49.054197Z",
     "shell.execute_reply": "2021-08-13T02:28:49.053181Z",
     "shell.execute_reply.started": "2021-08-13T02:28:48.927063Z"
    },
    "tags": []
   },
   "outputs": [],
   "source": [
    "df = pd.read_csv(\n",
    "    Path(CACHE_DIR, 'unclassified_user_data.csv'),\n",
    "    index_col=False\n",
    ")"
   ]
  },
  {
   "cell_type": "code",
   "execution_count": null,
   "id": "9d4eecf8-b037-46e6-93c2-49822a456228",
   "metadata": {
    "tags": []
   },
   "outputs": [],
   "source": []
  },
  {
   "cell_type": "code",
   "execution_count": 3,
   "id": "061dfdf2-fe13-49c5-bb3d-4eab3735fda2",
   "metadata": {
    "execution": {
     "iopub.execute_input": "2021-08-13T02:28:49.056097Z",
     "iopub.status.busy": "2021-08-13T02:28:49.055507Z",
     "iopub.status.idle": "2021-08-13T02:28:49.066771Z",
     "shell.execute_reply": "2021-08-13T02:28:49.066169Z",
     "shell.execute_reply.started": "2021-08-13T02:28:49.056071Z"
    },
    "tags": []
   },
   "outputs": [],
   "source": [
    "users = pd.DataFrame(df['user'].unique())\n",
    "users.columns = ['user']"
   ]
  },
  {
   "cell_type": "code",
   "execution_count": 4,
   "id": "ace3e288-4add-4d01-a5f2-02296c73156d",
   "metadata": {
    "execution": {
     "iopub.execute_input": "2021-08-13T02:28:49.069278Z",
     "iopub.status.busy": "2021-08-13T02:28:49.067839Z",
     "iopub.status.idle": "2021-08-13T02:28:49.094664Z",
     "shell.execute_reply": "2021-08-13T02:28:49.094145Z",
     "shell.execute_reply.started": "2021-08-13T02:28:49.069227Z"
    },
    "tags": []
   },
   "outputs": [],
   "source": [
    "monetary_df = df[['user', 'job_count']].copy()\n",
    "monetary_df['Monetary'] = monetary_df['job_count']\n",
    "\n",
    "users = pd.merge(users, monetary_df, on='user')"
   ]
  },
  {
   "cell_type": "code",
   "execution_count": 5,
   "id": "ac0e51d2-9bc8-42d8-838a-45443c20f23d",
   "metadata": {
    "execution": {
     "iopub.execute_input": "2021-08-13T02:28:49.096867Z",
     "iopub.status.busy": "2021-08-13T02:28:49.095612Z",
     "iopub.status.idle": "2021-08-13T02:28:49.307350Z",
     "shell.execute_reply": "2021-08-13T02:28:49.306604Z",
     "shell.execute_reply.started": "2021-08-13T02:28:49.096833Z"
    },
    "tags": []
   },
   "outputs": [],
   "source": [
    "\n",
    "kmeans = KMeans(n_clusters=8)\n",
    "kmeans.fit(users[['Monetary']])\n",
    "users['MonetaryCluster'] = kmeans.predict(users[['Monetary']])"
   ]
  },
  {
   "cell_type": "code",
   "execution_count": 6,
   "id": "da6fde4c-b3f3-431c-b289-7cf32ed524e1",
   "metadata": {
    "execution": {
     "iopub.execute_input": "2021-08-13T02:28:49.308454Z",
     "iopub.status.busy": "2021-08-13T02:28:49.308182Z",
     "iopub.status.idle": "2021-08-13T02:28:49.348549Z",
     "shell.execute_reply": "2021-08-13T02:28:49.347315Z",
     "shell.execute_reply.started": "2021-08-13T02:28:49.308429Z"
    }
   },
   "outputs": [
    {
     "data": {
      "text/html": [
       "<div>\n",
       "<style scoped>\n",
       "    .dataframe tbody tr th:only-of-type {\n",
       "        vertical-align: middle;\n",
       "    }\n",
       "\n",
       "    .dataframe tbody tr th {\n",
       "        vertical-align: top;\n",
       "    }\n",
       "\n",
       "    .dataframe thead th {\n",
       "        text-align: right;\n",
       "    }\n",
       "</style>\n",
       "<table border=\"1\" class=\"dataframe\">\n",
       "  <thead>\n",
       "    <tr style=\"text-align: right;\">\n",
       "      <th></th>\n",
       "      <th>count</th>\n",
       "      <th>mean</th>\n",
       "      <th>std</th>\n",
       "      <th>min</th>\n",
       "      <th>25%</th>\n",
       "      <th>50%</th>\n",
       "      <th>75%</th>\n",
       "      <th>max</th>\n",
       "    </tr>\n",
       "    <tr>\n",
       "      <th>MonetaryCluster</th>\n",
       "      <th></th>\n",
       "      <th></th>\n",
       "      <th></th>\n",
       "      <th></th>\n",
       "      <th></th>\n",
       "      <th></th>\n",
       "      <th></th>\n",
       "      <th></th>\n",
       "    </tr>\n",
       "  </thead>\n",
       "  <tbody>\n",
       "    <tr>\n",
       "      <th>0</th>\n",
       "      <td>36019.0</td>\n",
       "      <td>3.308406e+02</td>\n",
       "      <td>1141.794981</td>\n",
       "      <td>2.0</td>\n",
       "      <td>10.0</td>\n",
       "      <td>25.0</td>\n",
       "      <td>95.0</td>\n",
       "      <td>11869.0</td>\n",
       "    </tr>\n",
       "    <tr>\n",
       "      <th>1</th>\n",
       "      <td>1.0</td>\n",
       "      <td>8.942496e+06</td>\n",
       "      <td>NaN</td>\n",
       "      <td>8942496.0</td>\n",
       "      <td>8942496.0</td>\n",
       "      <td>8942496.0</td>\n",
       "      <td>8942496.0</td>\n",
       "      <td>8942496.0</td>\n",
       "    </tr>\n",
       "    <tr>\n",
       "      <th>2</th>\n",
       "      <td>3.0</td>\n",
       "      <td>1.292057e+06</td>\n",
       "      <td>78821.036052</td>\n",
       "      <td>1201055.0</td>\n",
       "      <td>1268639.5</td>\n",
       "      <td>1336224.0</td>\n",
       "      <td>1337557.5</td>\n",
       "      <td>1338891.0</td>\n",
       "    </tr>\n",
       "    <tr>\n",
       "      <th>3</th>\n",
       "      <td>11.0</td>\n",
       "      <td>2.614315e+05</td>\n",
       "      <td>49594.404840</td>\n",
       "      <td>203289.0</td>\n",
       "      <td>229217.0</td>\n",
       "      <td>242015.0</td>\n",
       "      <td>283512.0</td>\n",
       "      <td>361523.0</td>\n",
       "    </tr>\n",
       "    <tr>\n",
       "      <th>4</th>\n",
       "      <td>33.0</td>\n",
       "      <td>1.128230e+05</td>\n",
       "      <td>27871.140140</td>\n",
       "      <td>70478.0</td>\n",
       "      <td>84326.0</td>\n",
       "      <td>118089.0</td>\n",
       "      <td>134210.0</td>\n",
       "      <td>170888.0</td>\n",
       "    </tr>\n",
       "    <tr>\n",
       "      <th>5</th>\n",
       "      <td>7.0</td>\n",
       "      <td>5.032369e+05</td>\n",
       "      <td>103539.557393</td>\n",
       "      <td>408693.0</td>\n",
       "      <td>447209.5</td>\n",
       "      <td>456760.0</td>\n",
       "      <td>535614.5</td>\n",
       "      <td>691557.0</td>\n",
       "    </tr>\n",
       "    <tr>\n",
       "      <th>6</th>\n",
       "      <td>463.0</td>\n",
       "      <td>2.345838e+04</td>\n",
       "      <td>11482.748141</td>\n",
       "      <td>11970.0</td>\n",
       "      <td>14945.0</td>\n",
       "      <td>19115.0</td>\n",
       "      <td>28594.5</td>\n",
       "      <td>65359.0</td>\n",
       "    </tr>\n",
       "    <tr>\n",
       "      <th>7</th>\n",
       "      <td>1.0</td>\n",
       "      <td>1.585184e+06</td>\n",
       "      <td>NaN</td>\n",
       "      <td>1585184.0</td>\n",
       "      <td>1585184.0</td>\n",
       "      <td>1585184.0</td>\n",
       "      <td>1585184.0</td>\n",
       "      <td>1585184.0</td>\n",
       "    </tr>\n",
       "  </tbody>\n",
       "</table>\n",
       "</div>"
      ],
      "text/plain": [
       "                   count          mean            std        min        25%  \\\n",
       "MonetaryCluster                                                               \n",
       "0                36019.0  3.308406e+02    1141.794981        2.0       10.0   \n",
       "1                    1.0  8.942496e+06            NaN  8942496.0  8942496.0   \n",
       "2                    3.0  1.292057e+06   78821.036052  1201055.0  1268639.5   \n",
       "3                   11.0  2.614315e+05   49594.404840   203289.0   229217.0   \n",
       "4                   33.0  1.128230e+05   27871.140140    70478.0    84326.0   \n",
       "5                    7.0  5.032369e+05  103539.557393   408693.0   447209.5   \n",
       "6                  463.0  2.345838e+04   11482.748141    11970.0    14945.0   \n",
       "7                    1.0  1.585184e+06            NaN  1585184.0  1585184.0   \n",
       "\n",
       "                       50%        75%        max  \n",
       "MonetaryCluster                                   \n",
       "0                     25.0       95.0    11869.0  \n",
       "1                8942496.0  8942496.0  8942496.0  \n",
       "2                1336224.0  1337557.5  1338891.0  \n",
       "3                 242015.0   283512.0   361523.0  \n",
       "4                 118089.0   134210.0   170888.0  \n",
       "5                 456760.0   535614.5   691557.0  \n",
       "6                  19115.0    28594.5    65359.0  \n",
       "7                1585184.0  1585184.0  1585184.0  "
      ]
     },
     "metadata": {},
     "output_type": "display_data"
    }
   ],
   "source": [
    "display(users.groupby('MonetaryCluster')['job_count'].describe())"
   ]
  },
  {
   "cell_type": "code",
   "execution_count": 7,
   "id": "30c81147-f46b-460f-b1fe-6722cc672e1c",
   "metadata": {
    "execution": {
     "iopub.execute_input": "2021-08-13T02:28:49.351869Z",
     "iopub.status.busy": "2021-08-13T02:28:49.350549Z",
     "iopub.status.idle": "2021-08-13T02:28:49.478218Z",
     "shell.execute_reply": "2021-08-13T02:28:49.477616Z",
     "shell.execute_reply.started": "2021-08-13T02:28:49.351825Z"
    }
   },
   "outputs": [],
   "source": [
    "users.to_csv(\n",
    "    Path(CACHE_DIR, \"monetary.csv\"),\n",
    "    index=False,\n",
    "    index_label=False\n",
    ")"
   ]
  },
  {
   "cell_type": "code",
   "execution_count": 8,
   "id": "f04603b0-ee60-4d66-b728-4b317e03f16e",
   "metadata": {
    "execution": {
     "iopub.execute_input": "2021-08-13T02:28:49.483145Z",
     "iopub.status.busy": "2021-08-13T02:28:49.482213Z",
     "iopub.status.idle": "2021-08-13T02:28:49.494179Z",
     "shell.execute_reply": "2021-08-13T02:28:49.493510Z",
     "shell.execute_reply.started": "2021-08-13T02:28:49.483111Z"
    },
    "jupyter": {
     "source_hidden": true
    },
    "tags": []
   },
   "outputs": [],
   "source": [
    "scaler = MinMaxScaler()\n",
    "X_scaled=scaler.fit_transform(users[['Monetary']])"
   ]
  },
  {
   "cell_type": "code",
   "execution_count": null,
   "id": "4076b8da-1e3e-4a33-beb2-ef09bab9664d",
   "metadata": {
    "execution": {
     "iopub.execute_input": "2021-08-13T02:28:49.497058Z",
     "iopub.status.busy": "2021-08-13T02:28:49.496376Z"
    },
    "tags": []
   },
   "outputs": [
    {
     "name": "stdout",
     "output_type": "stream",
     "text": [
      "Score for number of cluster(s) 2: -0.13653138165288012\n",
      "Silhouette score for number of cluster(s) 2: 0.9997457019946906\n",
      "Davies Bouldin score for number of cluster(s) 2: 0.0001977298740985461\n"
     ]
    },
    {
     "data": {
      "text/plain": [
       "'Centroids - '"
      ]
     },
     "metadata": {},
     "output_type": "display_data"
    },
    {
     "name": "stdout",
     "output_type": "stream",
     "text": [
      "[[1.17183604e-04]\n",
      " [1.00000000e+00]]\n",
      "----------------------------------------------------------------------------------------------------\n",
      "Score for number of cluster(s) 3: -0.04153968472884043\n",
      "Silhouette score for number of cluster(s) 3: 0.9983732993507506\n",
      "Davies Bouldin score for number of cluster(s) 3: 0.20339215106435704\n"
     ]
    },
    {
     "data": {
      "text/plain": [
       "'Centroids - '"
      ]
     },
     "metadata": {},
     "output_type": "display_data"
    },
    {
     "name": "stdout",
     "output_type": "stream",
     "text": [
      "[[9.65192790e-05]\n",
      " [1.00000000e+00]\n",
      " [1.25931927e-01]]\n",
      "----------------------------------------------------------------------------------------------------\n",
      "Score for number of cluster(s) 4: -0.015108412961479235\n",
      "Silhouette score for number of cluster(s) 4: 0.9957013134801992\n",
      "Davies Bouldin score for number of cluster(s) 4: 0.2240664159429704\n"
     ]
    },
    {
     "data": {
      "text/plain": [
       "'Centroids - '"
      ]
     },
     "metadata": {},
     "output_type": "display_data"
    },
    {
     "name": "stdout",
     "output_type": "stream",
     "text": [
      "[[8.09343359e-05]\n",
      " [1.00000000e+00]\n",
      " [1.52679610e-01]\n",
      " [3.97500903e-02]]\n",
      "----------------------------------------------------------------------------------------------------\n",
      "Score for number of cluster(s) 5: -0.00856090976041935\n",
      "Silhouette score for number of cluster(s) 5: 0.9909895236798973\n",
      "Davies Bouldin score for number of cluster(s) 5: 0.268529485184249\n"
     ]
    },
    {
     "data": {
      "text/plain": [
       "'Centroids - '"
      ]
     },
     "metadata": {},
     "output_type": "display_data"
    },
    {
     "name": "stdout",
     "output_type": "stream",
     "text": [
      "[[7.06923783e-05]\n",
      " [1.00000000e+00]\n",
      " [1.52679610e-01]\n",
      " [1.67724750e-02]\n",
      " [5.23205023e-02]]\n",
      "----------------------------------------------------------------------------------------------------\n",
      "Score for number of cluster(s) 6: -0.005215387264278033\n",
      "Silhouette score for number of cluster(s) 6: 0.9668109342187621\n",
      "Davies Bouldin score for number of cluster(s) 6: 0.3217432283548465\n"
     ]
    },
    {
     "data": {
      "text/plain": [
       "'Centroids - '"
      ]
     },
     "metadata": {},
     "output_type": "display_data"
    },
    {
     "name": "stdout",
     "output_type": "stream",
     "text": [
      "[[3.93500146e-05]\n",
      " [1.00000000e+00]\n",
      " [1.52679610e-01]\n",
      " [5.23205023e-02]\n",
      " [1.84304401e-02]\n",
      " [3.00744253e-03]]\n",
      "----------------------------------------------------------------------------------------------------\n",
      "Score for number of cluster(s) 7: -0.0037329547056020283\n",
      "Silhouette score for number of cluster(s) 7: 0.964453118697194\n",
      "Davies Bouldin score for number of cluster(s) 7: 0.35685132541326203\n"
     ]
    },
    {
     "data": {
      "text/plain": [
       "'Centroids - '"
      ]
     },
     "metadata": {},
     "output_type": "display_data"
    },
    {
     "name": "stdout",
     "output_type": "stream",
     "text": [
      "[[3.68089388e-05]\n",
      " [1.00000000e+00]\n",
      " [1.52679610e-01]\n",
      " [2.92345229e-02]\n",
      " [5.62745535e-02]\n",
      " [2.62580514e-03]\n",
      " [1.26162825e-02]]\n"
     ]
    }
   ],
   "source": [
    "display_cluster_info(X_scaled)"
   ]
  }
 ],
 "metadata": {
  "kernelspec": {
   "display_name": "Python 3 (ipykernel)",
   "language": "python",
   "name": "python3"
  },
  "language_info": {
   "codemirror_mode": {
    "name": "ipython",
    "version": 3
   },
   "file_extension": ".py",
   "mimetype": "text/x-python",
   "name": "python",
   "nbconvert_exporter": "python",
   "pygments_lexer": "ipython3",
   "version": "3.8.10"
  }
 },
 "nbformat": 4,
 "nbformat_minor": 5
}
