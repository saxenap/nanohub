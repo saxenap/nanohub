{
 "cells": [
  {
   "cell_type": "code",
   "execution_count": null,
   "id": "d467e86a-ec0f-4da4-a1bc-47f9ca90386d",
   "metadata": {
    "execution": {
     "iopub.execute_input": "2021-08-12T20:52:22.292212Z",
     "iopub.status.busy": "2021-08-12T20:52:22.287164Z"
    },
    "tags": []
   },
   "outputs": [],
   "source": [
    "from pathlib import Path\n",
    "import os\n",
    "import pandas as pd\n",
    "\n",
    "import seaborn as sns\n",
    "from sklearn.cluster import KMeans\n",
    "from sklearn.preprocessing import StandardScaler\n",
    "from sklearn.preprocessing import MinMaxScaler\n",
    "from sklearn.manifold import TSNE\n",
    "from sklearn.metrics import silhouette_score\n",
    "from sklearn.metrics import davies_bouldin_score,v_measure_score\n",
    "from yellowbrick.cluster import SilhouetteVisualizer\n",
    "import matplotlib.pyplot as plt\n",
    "\n",
    "CACHE_DIR = Path(Path(os.getenv('APP_DIR')), '.cache')\n",
    "NANOHUB_CACHE = Path(CACHE_DIR, 'nanohub')\n",
    "NANOHUB_METRICS_CACHE = Path(CACHE_DIR, 'nanohub_metrics')\n",
    "\n",
    "\n",
    "def create_silhouette_visual(sample, kmeans: KMeans, clusters: list = [2,3,4,5]):\n",
    "    fig, ax = plt.subplots(2, 2, figsize=(15,8))\n",
    "    for i in clusters:\n",
    "        q, mod = divmod(i, 2)\n",
    "\n",
    "        visualizer = SilhouetteVisualizer(kmeans, colors='yellowbrick', ax=ax[q-1][mod])\n",
    "        visualizer.fit(sample)\n",
    "        \n",
    "        \n",
    "def display_cluster_info(X_scaled, clusters: [] = [2,3,4,5,6,7,8,9,10]):\n",
    "    km_scores= []\n",
    "    km_silhouette = []\n",
    "    vmeasure_score =[]\n",
    "    db_score = []\n",
    "    \n",
    "    fig, ax = plt.subplots(5, 2, figsize=(15,8))\n",
    "\n",
    "    for i in clusters:\n",
    "        kmeans = KMeans(n_clusters=i)\n",
    "        kmeans.fit(X_scaled)\n",
    "        preds = kmeans.predict(X_scaled)\n",
    "        km_scores.append(-kmeans.score(X_scaled))\n",
    "        print(\"Score for number of cluster(s) {}: {}\".format(i,kmeans.score(X_scaled)))\n",
    "        km_scores.append(-kmeans.score(X_scaled))\n",
    "\n",
    "        silhouette = silhouette_score(X_scaled,preds)\n",
    "        km_silhouette.append(silhouette)\n",
    "        print(\"Silhouette score for number of cluster(s) {}: {}\".format(i,silhouette))\n",
    "\n",
    "        db = davies_bouldin_score(X_scaled,preds)\n",
    "        db_score.append(db)\n",
    "        print(\"Davies Bouldin score for number of cluster(s) {}: {}\".format(i,db))\n",
    "\n",
    "        display(\"Centroids - \")\n",
    "        print(kmeans.cluster_centers_)\n",
    "        \n",
    "        q, mod = divmod(i, 2)\n",
    "    \n",
    "        visualizer = SilhouetteVisualizer(kmeans, colors='yellowbrick', ax=ax[q-1][mod])\n",
    "        visualizer.fit(X_scaled)\n",
    "\n",
    "        print(\"-\"*100) \n",
    "\n",
    "\n"
   ]
  },
  {
   "cell_type": "code",
   "execution_count": null,
   "id": "d4f3391b-4a89-4521-9e70-5de0e3d5d22a",
   "metadata": {
    "execution": {
     "iopub.execute_input": "2021-08-12T20:52:26.534437Z",
     "iopub.status.busy": "2021-08-12T20:52:26.534194Z",
     "iopub.status.idle": "2021-08-12T20:52:26.937681Z",
     "shell.execute_reply": "2021-08-12T20:52:26.931968Z",
     "shell.execute_reply.started": "2021-08-12T20:52:26.534413Z"
    },
    "tags": []
   },
   "outputs": [
    {
     "data": {
      "text/html": [
       "<div>\n",
       "<style scoped>\n",
       "    .dataframe tbody tr th:only-of-type {\n",
       "        vertical-align: middle;\n",
       "    }\n",
       "\n",
       "    .dataframe tbody tr th {\n",
       "        vertical-align: top;\n",
       "    }\n",
       "\n",
       "    .dataframe thead th {\n",
       "        text-align: right;\n",
       "    }\n",
       "</style>\n",
       "<table border=\"1\" class=\"dataframe\">\n",
       "  <thead>\n",
       "    <tr style=\"text-align: right;\">\n",
       "      <th></th>\n",
       "      <th>index</th>\n",
       "      <th>Unnamed: 0</th>\n",
       "      <th>user</th>\n",
       "      <th>first_start_date</th>\n",
       "      <th>last_start_date</th>\n",
       "      <th>first_finish_date</th>\n",
       "      <th>last_finish_date</th>\n",
       "      <th>job_count</th>\n",
       "      <th>superjob_count</th>\n",
       "      <th>job_event_days</th>\n",
       "      <th>superjob_event_days</th>\n",
       "      <th>last_superjob_start_date</th>\n",
       "      <th>toolevents__lifetime</th>\n",
       "    </tr>\n",
       "  </thead>\n",
       "  <tbody>\n",
       "    <tr>\n",
       "      <th>0</th>\n",
       "      <td>6</td>\n",
       "      <td>6</td>\n",
       "      <td>0117tomboy</td>\n",
       "      <td>2019-09-26 22:12:11</td>\n",
       "      <td>2019-10-28 00:20:58</td>\n",
       "      <td>2019-09-26 22:43:17</td>\n",
       "      <td>2019-10-29 00:36:43</td>\n",
       "      <td>20</td>\n",
       "      <td>NaN</td>\n",
       "      <td>5</td>\n",
       "      <td>NaN</td>\n",
       "      <td>NaN</td>\n",
       "      <td>32</td>\n",
       "    </tr>\n",
       "    <tr>\n",
       "      <th>1</th>\n",
       "      <td>7</td>\n",
       "      <td>7</td>\n",
       "      <td>0190matze</td>\n",
       "      <td>2012-03-20 07:05:13</td>\n",
       "      <td>2012-06-21 02:49:03</td>\n",
       "      <td>2012-03-20 07:10:15</td>\n",
       "      <td>2012-06-21 14:07:48</td>\n",
       "      <td>20</td>\n",
       "      <td>NaN</td>\n",
       "      <td>3</td>\n",
       "      <td>NaN</td>\n",
       "      <td>NaN</td>\n",
       "      <td>93</td>\n",
       "    </tr>\n",
       "    <tr>\n",
       "      <th>2</th>\n",
       "      <td>19</td>\n",
       "      <td>19</td>\n",
       "      <td>061962588x</td>\n",
       "      <td>2021-04-28 01:54:30</td>\n",
       "      <td>2021-05-27 01:09:33</td>\n",
       "      <td>2021-04-28 03:31:52</td>\n",
       "      <td>2021-05-27 11:19:13</td>\n",
       "      <td>40</td>\n",
       "      <td>NaN</td>\n",
       "      <td>5</td>\n",
       "      <td>NaN</td>\n",
       "      <td>NaN</td>\n",
       "      <td>29</td>\n",
       "    </tr>\n",
       "    <tr>\n",
       "      <th>3</th>\n",
       "      <td>20</td>\n",
       "      <td>20</td>\n",
       "      <td>061972018x</td>\n",
       "      <td>2021-04-28 02:17:04</td>\n",
       "      <td>2021-05-27 01:13:31</td>\n",
       "      <td>2021-04-28 02:40:49</td>\n",
       "      <td>2021-05-28 01:20:45</td>\n",
       "      <td>66</td>\n",
       "      <td>NaN</td>\n",
       "      <td>4</td>\n",
       "      <td>NaN</td>\n",
       "      <td>NaN</td>\n",
       "      <td>29</td>\n",
       "    </tr>\n",
       "    <tr>\n",
       "      <th>4</th>\n",
       "      <td>26</td>\n",
       "      <td>26</td>\n",
       "      <td>0808wodlr</td>\n",
       "      <td>2020-11-10 00:04:08</td>\n",
       "      <td>2020-12-08 23:24:41</td>\n",
       "      <td>2020-11-11 00:12:54</td>\n",
       "      <td>2020-12-09 23:28:55</td>\n",
       "      <td>13</td>\n",
       "      <td>NaN</td>\n",
       "      <td>2</td>\n",
       "      <td>NaN</td>\n",
       "      <td>NaN</td>\n",
       "      <td>29</td>\n",
       "    </tr>\n",
       "    <tr>\n",
       "      <th>...</th>\n",
       "      <td>...</td>\n",
       "      <td>...</td>\n",
       "      <td>...</td>\n",
       "      <td>...</td>\n",
       "      <td>...</td>\n",
       "      <td>...</td>\n",
       "      <td>...</td>\n",
       "      <td>...</td>\n",
       "      <td>...</td>\n",
       "      <td>...</td>\n",
       "      <td>...</td>\n",
       "      <td>...</td>\n",
       "      <td>...</td>\n",
       "    </tr>\n",
       "    <tr>\n",
       "      <th>36533</th>\n",
       "      <td>155284</td>\n",
       "      <td>155284</td>\n",
       "      <td>zzpnm003</td>\n",
       "      <td>2010-05-26 11:06:40</td>\n",
       "      <td>2010-09-08 00:21:42</td>\n",
       "      <td>2010-05-26 11:07:18</td>\n",
       "      <td>2010-09-08 00:21:42</td>\n",
       "      <td>11</td>\n",
       "      <td>NaN</td>\n",
       "      <td>2</td>\n",
       "      <td>NaN</td>\n",
       "      <td>NaN</td>\n",
       "      <td>104</td>\n",
       "    </tr>\n",
       "    <tr>\n",
       "      <th>36534</th>\n",
       "      <td>155296</td>\n",
       "      <td>155296</td>\n",
       "      <td>zzxhuang</td>\n",
       "      <td>2013-05-29 01:18:56</td>\n",
       "      <td>2016-01-18 22:31:47</td>\n",
       "      <td>2013-05-29 01:47:10</td>\n",
       "      <td>2016-01-20 04:03:50</td>\n",
       "      <td>21</td>\n",
       "      <td>NaN</td>\n",
       "      <td>3</td>\n",
       "      <td>NaN</td>\n",
       "      <td>NaN</td>\n",
       "      <td>966</td>\n",
       "    </tr>\n",
       "    <tr>\n",
       "      <th>36535</th>\n",
       "      <td>155297</td>\n",
       "      <td>155297</td>\n",
       "      <td>zzxtcwz</td>\n",
       "      <td>2018-02-01 12:05:31</td>\n",
       "      <td>2018-02-07 08:56:30</td>\n",
       "      <td>2018-02-01 12:34:29</td>\n",
       "      <td>2018-02-13 13:55:38</td>\n",
       "      <td>4</td>\n",
       "      <td>NaN</td>\n",
       "      <td>2</td>\n",
       "      <td>NaN</td>\n",
       "      <td>NaN</td>\n",
       "      <td>12</td>\n",
       "    </tr>\n",
       "    <tr>\n",
       "      <th>36536</th>\n",
       "      <td>155299</td>\n",
       "      <td>155299</td>\n",
       "      <td>zzyang19891221</td>\n",
       "      <td>2011-11-22 11:18:10</td>\n",
       "      <td>2013-09-23 22:33:59</td>\n",
       "      <td>2011-11-22 11:18:11</td>\n",
       "      <td>2013-09-23 22:33:59</td>\n",
       "      <td>82</td>\n",
       "      <td>NaN</td>\n",
       "      <td>13</td>\n",
       "      <td>NaN</td>\n",
       "      <td>NaN</td>\n",
       "      <td>671</td>\n",
       "    </tr>\n",
       "    <tr>\n",
       "      <th>36537</th>\n",
       "      <td>155303</td>\n",
       "      <td>155303</td>\n",
       "      <td>zzz1ttt</td>\n",
       "      <td>2015-10-21 21:42:30</td>\n",
       "      <td>2015-12-17 06:47:37</td>\n",
       "      <td>2015-10-21 21:44:26</td>\n",
       "      <td>2015-12-17 09:14:10</td>\n",
       "      <td>60</td>\n",
       "      <td>NaN</td>\n",
       "      <td>6</td>\n",
       "      <td>NaN</td>\n",
       "      <td>NaN</td>\n",
       "      <td>56</td>\n",
       "    </tr>\n",
       "  </tbody>\n",
       "</table>\n",
       "<p>36538 rows × 13 columns</p>\n",
       "</div>"
      ],
      "text/plain": [
       "        index  Unnamed: 0            user     first_start_date  \\\n",
       "0           6           6      0117tomboy  2019-09-26 22:12:11   \n",
       "1           7           7       0190matze  2012-03-20 07:05:13   \n",
       "2          19          19      061962588x  2021-04-28 01:54:30   \n",
       "3          20          20      061972018x  2021-04-28 02:17:04   \n",
       "4          26          26       0808wodlr  2020-11-10 00:04:08   \n",
       "...       ...         ...             ...                  ...   \n",
       "36533  155284      155284        zzpnm003  2010-05-26 11:06:40   \n",
       "36534  155296      155296        zzxhuang  2013-05-29 01:18:56   \n",
       "36535  155297      155297         zzxtcwz  2018-02-01 12:05:31   \n",
       "36536  155299      155299  zzyang19891221  2011-11-22 11:18:10   \n",
       "36537  155303      155303         zzz1ttt  2015-10-21 21:42:30   \n",
       "\n",
       "           last_start_date    first_finish_date     last_finish_date  \\\n",
       "0      2019-10-28 00:20:58  2019-09-26 22:43:17  2019-10-29 00:36:43   \n",
       "1      2012-06-21 02:49:03  2012-03-20 07:10:15  2012-06-21 14:07:48   \n",
       "2      2021-05-27 01:09:33  2021-04-28 03:31:52  2021-05-27 11:19:13   \n",
       "3      2021-05-27 01:13:31  2021-04-28 02:40:49  2021-05-28 01:20:45   \n",
       "4      2020-12-08 23:24:41  2020-11-11 00:12:54  2020-12-09 23:28:55   \n",
       "...                    ...                  ...                  ...   \n",
       "36533  2010-09-08 00:21:42  2010-05-26 11:07:18  2010-09-08 00:21:42   \n",
       "36534  2016-01-18 22:31:47  2013-05-29 01:47:10  2016-01-20 04:03:50   \n",
       "36535  2018-02-07 08:56:30  2018-02-01 12:34:29  2018-02-13 13:55:38   \n",
       "36536  2013-09-23 22:33:59  2011-11-22 11:18:11  2013-09-23 22:33:59   \n",
       "36537  2015-12-17 06:47:37  2015-10-21 21:44:26  2015-12-17 09:14:10   \n",
       "\n",
       "       job_count  superjob_count  job_event_days  superjob_event_days  \\\n",
       "0             20             NaN               5                  NaN   \n",
       "1             20             NaN               3                  NaN   \n",
       "2             40             NaN               5                  NaN   \n",
       "3             66             NaN               4                  NaN   \n",
       "4             13             NaN               2                  NaN   \n",
       "...          ...             ...             ...                  ...   \n",
       "36533         11             NaN               2                  NaN   \n",
       "36534         21             NaN               3                  NaN   \n",
       "36535          4             NaN               2                  NaN   \n",
       "36536         82             NaN              13                  NaN   \n",
       "36537         60             NaN               6                  NaN   \n",
       "\n",
       "      last_superjob_start_date  toolevents__lifetime  \n",
       "0                          NaN                    32  \n",
       "1                          NaN                    93  \n",
       "2                          NaN                    29  \n",
       "3                          NaN                    29  \n",
       "4                          NaN                    29  \n",
       "...                        ...                   ...  \n",
       "36533                      NaN                   104  \n",
       "36534                      NaN                   966  \n",
       "36535                      NaN                    12  \n",
       "36536                      NaN                   671  \n",
       "36537                      NaN                    56  \n",
       "\n",
       "[36538 rows x 13 columns]"
      ]
     },
     "metadata": {},
     "output_type": "display_data"
    }
   ],
   "source": [
    "CACHE_DIR = Path(Path(os.getenv('APP_DIR')), '.cache')\n",
    "NANOHUB_CACHE = Path(CACHE_DIR, 'nanohub')\n",
    "NANOHUB_METRICS_CACHE = Path(CACHE_DIR, 'nanohub_metrics')\n",
    "\n",
    "USERS_TO_REMOVE = ['mmc', 'clarksm', 'gridstat', 'instanton']\n",
    "\n",
    "df = pd.read_csv(\n",
    "    Path(CACHE_DIR, 'unclassified_user_data.csv'),\n",
    "    index_col=False\n",
    ")\n",
    "display(df)"
   ]
  },
  {
   "cell_type": "code",
   "execution_count": null,
   "id": "061dfdf2-fe13-49c5-bb3d-4eab3735fda2",
   "metadata": {
    "execution": {
     "iopub.execute_input": "2021-08-12T20:52:26.947757Z",
     "iopub.status.busy": "2021-08-12T20:52:26.946137Z",
     "iopub.status.idle": "2021-08-12T20:52:26.979259Z",
     "shell.execute_reply": "2021-08-12T20:52:26.977046Z",
     "shell.execute_reply.started": "2021-08-12T20:52:26.947676Z"
    }
   },
   "outputs": [],
   "source": [
    "users = pd.DataFrame(df['user'].unique())\n",
    "users.columns = ['user']"
   ]
  },
  {
   "cell_type": "code",
   "execution_count": null,
   "id": "ace3e288-4add-4d01-a5f2-02296c73156d",
   "metadata": {
    "execution": {
     "iopub.execute_input": "2021-08-12T20:52:26.981057Z",
     "iopub.status.busy": "2021-08-12T20:52:26.980797Z"
    },
    "tags": []
   },
   "outputs": [],
   "source": [
    "recency_df = df[['user', 'last_finish_date']].copy()\n",
    "recency_df['last_finish_date'] = pd.to_datetime(recency_df['last_finish_date'])\n",
    "recency_df['Recency'] = (pd.Timestamp.now().normalize() - recency_df['last_finish_date']).dt.days\n",
    "\n",
    "users = pd.merge(users, recency_df[['user','Recency', 'last_finish_date']], on='user')\n",
    "\n",
    "kmeans = KMeans(n_clusters=4)\n",
    "kmeans.fit(users[['Recency']])\n",
    "users['RecencyCluster'] = kmeans.predict(users[['Recency']])"
   ]
  },
  {
   "cell_type": "code",
   "execution_count": null,
   "id": "ac0e51d2-9bc8-42d8-838a-45443c20f23d",
   "metadata": {
    "execution": {
     "iopub.execute_input": "2021-08-12T20:52:29.000905Z",
     "iopub.status.busy": "2021-08-12T20:52:29.000374Z",
     "iopub.status.idle": "2021-08-12T20:52:29.071762Z",
     "shell.execute_reply": "2021-08-12T20:52:29.070720Z",
     "shell.execute_reply.started": "2021-08-12T20:52:29.000872Z"
    },
    "tags": []
   },
   "outputs": [
    {
     "data": {
      "text/html": [
       "<div>\n",
       "<style scoped>\n",
       "    .dataframe tbody tr th:only-of-type {\n",
       "        vertical-align: middle;\n",
       "    }\n",
       "\n",
       "    .dataframe tbody tr th {\n",
       "        vertical-align: top;\n",
       "    }\n",
       "\n",
       "    .dataframe thead th {\n",
       "        text-align: right;\n",
       "    }\n",
       "</style>\n",
       "<table border=\"1\" class=\"dataframe\">\n",
       "  <thead>\n",
       "    <tr style=\"text-align: right;\">\n",
       "      <th></th>\n",
       "      <th>count</th>\n",
       "      <th>mean</th>\n",
       "      <th>std</th>\n",
       "      <th>min</th>\n",
       "      <th>25%</th>\n",
       "      <th>50%</th>\n",
       "      <th>75%</th>\n",
       "      <th>max</th>\n",
       "    </tr>\n",
       "    <tr>\n",
       "      <th>RecencyCluster</th>\n",
       "      <th></th>\n",
       "      <th></th>\n",
       "      <th></th>\n",
       "      <th></th>\n",
       "      <th></th>\n",
       "      <th></th>\n",
       "      <th></th>\n",
       "      <th></th>\n",
       "    </tr>\n",
       "  </thead>\n",
       "  <tbody>\n",
       "    <tr>\n",
       "      <th>0</th>\n",
       "      <td>8171.0</td>\n",
       "      <td>3016.419655</td>\n",
       "      <td>399.254454</td>\n",
       "      <td>2325.0</td>\n",
       "      <td>2676.00</td>\n",
       "      <td>3014.0</td>\n",
       "      <td>3359.0</td>\n",
       "      <td>3761.0</td>\n",
       "    </tr>\n",
       "    <tr>\n",
       "      <th>1</th>\n",
       "      <td>14113.0</td>\n",
       "      <td>367.959612</td>\n",
       "      <td>289.036980</td>\n",
       "      <td>4.0</td>\n",
       "      <td>107.00</td>\n",
       "      <td>298.0</td>\n",
       "      <td>566.0</td>\n",
       "      <td>1003.0</td>\n",
       "    </tr>\n",
       "    <tr>\n",
       "      <th>2</th>\n",
       "      <td>5320.0</td>\n",
       "      <td>4518.760526</td>\n",
       "      <td>534.916546</td>\n",
       "      <td>3762.0</td>\n",
       "      <td>4041.00</td>\n",
       "      <td>4452.5</td>\n",
       "      <td>4938.0</td>\n",
       "      <td>5728.0</td>\n",
       "    </tr>\n",
       "    <tr>\n",
       "      <th>3</th>\n",
       "      <td>8934.0</td>\n",
       "      <td>1636.293038</td>\n",
       "      <td>374.856980</td>\n",
       "      <td>1004.0</td>\n",
       "      <td>1321.25</td>\n",
       "      <td>1612.0</td>\n",
       "      <td>1947.0</td>\n",
       "      <td>2324.0</td>\n",
       "    </tr>\n",
       "  </tbody>\n",
       "</table>\n",
       "</div>"
      ],
      "text/plain": [
       "                  count         mean         std     min      25%     50%  \\\n",
       "RecencyCluster                                                              \n",
       "0                8171.0  3016.419655  399.254454  2325.0  2676.00  3014.0   \n",
       "1               14113.0   367.959612  289.036980     4.0   107.00   298.0   \n",
       "2                5320.0  4518.760526  534.916546  3762.0  4041.00  4452.5   \n",
       "3                8934.0  1636.293038  374.856980  1004.0  1321.25  1612.0   \n",
       "\n",
       "                   75%     max  \n",
       "RecencyCluster                  \n",
       "0               3359.0  3761.0  \n",
       "1                566.0  1003.0  \n",
       "2               4938.0  5728.0  \n",
       "3               1947.0  2324.0  "
      ]
     },
     "metadata": {},
     "output_type": "display_data"
    }
   ],
   "source": [
    "display(users.groupby('RecencyCluster')['Recency'].describe())"
   ]
  },
  {
   "cell_type": "code",
   "execution_count": null,
   "id": "a6ddb551-12c0-447e-9ad4-f983fc7f788f",
   "metadata": {
    "execution": {
     "iopub.execute_input": "2021-08-12T20:52:29.073297Z",
     "iopub.status.busy": "2021-08-12T20:52:29.073029Z",
     "iopub.status.idle": "2021-08-12T20:52:29.531697Z",
     "shell.execute_reply": "2021-08-12T20:52:29.530339Z",
     "shell.execute_reply.started": "2021-08-12T20:52:29.073268Z"
    }
   },
   "outputs": [],
   "source": [
    "users.to_csv(\n",
    "    Path(CACHE_DIR, \"recency.csv\"),\n",
    "    index=False,\n",
    "    index_label=False\n",
    ")"
   ]
  },
  {
   "cell_type": "code",
   "execution_count": null,
   "id": "da6fde4c-b3f3-431c-b289-7cf32ed524e1",
   "metadata": {},
   "outputs": [],
   "source": []
  },
  {
   "cell_type": "code",
   "execution_count": null,
   "id": "f04603b0-ee60-4d66-b728-4b317e03f16e",
   "metadata": {
    "execution": {
     "iopub.execute_input": "2021-08-12T20:52:29.542562Z",
     "iopub.status.busy": "2021-08-12T20:52:29.539548Z",
     "iopub.status.idle": "2021-08-12T20:52:29.558910Z",
     "shell.execute_reply": "2021-08-12T20:52:29.558161Z",
     "shell.execute_reply.started": "2021-08-12T20:52:29.542506Z"
    }
   },
   "outputs": [
    {
     "data": {
      "text/plain": [
       "array([[0.11320755],\n",
       "       [0.58245982],\n",
       "       [0.01257862],\n",
       "       ...,\n",
       "       [0.22204752],\n",
       "       [0.50227114],\n",
       "       [0.35988819]])"
      ]
     },
     "metadata": {},
     "output_type": "display_data"
    }
   ],
   "source": [
    "scaler = MinMaxScaler()\n",
    "X_scaled=scaler.fit_transform(users[['Recency']])\n",
    "display(X_scaled)"
   ]
  },
  {
   "cell_type": "code",
   "execution_count": null,
   "id": "4076b8da-1e3e-4a33-beb2-ef09bab9664d",
   "metadata": {
    "execution": {
     "iopub.execute_input": "2021-08-12T20:52:29.566765Z",
     "iopub.status.busy": "2021-08-12T20:52:29.563816Z"
    },
    "tags": []
   },
   "outputs": [
    {
     "name": "stdout",
     "output_type": "stream",
     "text": [
      "Score for number of cluster(s) 2: -642.6620380104592\n",
      "Silhouette score for number of cluster(s) 2: 0.6512614155577986\n",
      "Davies Bouldin score for number of cluster(s) 2: 0.4858847297240501\n"
     ]
    },
    {
     "data": {
      "text/plain": [
       "'Centroids - '"
      ]
     },
     "metadata": {},
     "output_type": "display_data"
    },
    {
     "name": "stdout",
     "output_type": "stream",
     "text": [
      "[[0.13941526]\n",
      " [0.61473304]]\n",
      "----------------------------------------------------------------------------------------------------\n",
      "Score for number of cluster(s) 3: -299.1941168029798\n",
      "Silhouette score for number of cluster(s) 3: 0.6065229199924238\n",
      "Davies Bouldin score for number of cluster(s) 3: 0.5220221409492692\n"
     ]
    },
    {
     "data": {
      "text/plain": [
       "'Centroids - '"
      ]
     },
     "metadata": {},
     "output_type": "display_data"
    },
    {
     "name": "stdout",
     "output_type": "stream",
     "text": [
      "[[0.40507996]\n",
      " [0.09068979]\n",
      " [0.73128291]]\n",
      "----------------------------------------------------------------------------------------------------\n",
      "Score for number of cluster(s) 4: -160.57842433106265\n",
      "Silhouette score for number of cluster(s) 4: 0.6040012504385566\n",
      "Davies Bouldin score for number of cluster(s) 4: 0.49791974511338133\n"
     ]
    },
    {
     "data": {
      "text/plain": [
       "'Centroids - '"
      ]
     },
     "metadata": {},
     "output_type": "display_data"
    },
    {
     "name": "stdout",
     "output_type": "stream",
     "text": [
      "[[0.79946651]\n",
      " [0.29296277]\n",
      " [0.06493131]\n",
      " [0.53928596]]\n",
      "----------------------------------------------------------------------------------------------------\n",
      "Score for number of cluster(s) 5: -103.02419607144826\n",
      "Silhouette score for number of cluster(s) 5: 0.5913027482633046\n",
      "Davies Bouldin score for number of cluster(s) 5: 0.4988137127102984\n"
     ]
    },
    {
     "data": {
      "text/plain": [
       "'Centroids - '"
      ]
     },
     "metadata": {},
     "output_type": "display_data"
    },
    {
     "name": "stdout",
     "output_type": "stream",
     "text": [
      "[[0.60948933]\n",
      " [0.04913635]\n",
      " [0.22328661]\n",
      " [0.41448909]\n",
      " [0.83866871]]\n",
      "----------------------------------------------------------------------------------------------------\n",
      "Score for number of cluster(s) 6: -70.30464792181252\n",
      "Silhouette score for number of cluster(s) 6: 0.5863878753607987\n",
      "Davies Bouldin score for number of cluster(s) 6: 0.4993290836491648\n"
     ]
    },
    {
     "data": {
      "text/plain": [
       "'Centroids - '"
      ]
     },
     "metadata": {},
     "output_type": "display_data"
    },
    {
     "name": "stdout",
     "output_type": "stream",
     "text": [
      "[[0.0427763 ]\n",
      " [0.4962253 ]\n",
      " [0.86074763]\n",
      " [0.18374302]\n",
      " [0.3322726 ]\n",
      " [0.65964881]]\n",
      "----------------------------------------------------------------------------------------------------\n",
      "Score for number of cluster(s) 7: -52.39948614990362\n",
      "Silhouette score for number of cluster(s) 7: 0.5758937568950233\n",
      "Davies Bouldin score for number of cluster(s) 7: 0.49794546788740796\n"
     ]
    },
    {
     "data": {
      "text/plain": [
       "'Centroids - '"
      ]
     },
     "metadata": {},
     "output_type": "display_data"
    },
    {
     "name": "stdout",
     "output_type": "stream",
     "text": [
      "[[0.16233703]\n",
      " [0.55864982]\n",
      " [0.0396855 ]\n",
      " [0.87616078]\n",
      " [0.42418463]\n",
      " [0.28754046]\n",
      " [0.70219926]]\n",
      "----------------------------------------------------------------------------------------------------\n",
      "Score for number of cluster(s) 8: -40.72140961979912\n",
      "Silhouette score for number of cluster(s) 8: 0.5684011301435444\n",
      "Davies Bouldin score for number of cluster(s) 8: 0.4989721589153314\n"
     ]
    },
    {
     "data": {
      "text/plain": [
       "'Centroids - '"
      ]
     },
     "metadata": {},
     "output_type": "display_data"
    },
    {
     "name": "stdout",
     "output_type": "stream",
     "text": [
      "[[0.72653904]\n",
      " [0.03709697]\n",
      " [0.25634636]\n",
      " [0.49028531]\n",
      " [0.88793049]\n",
      " [0.60064596]\n",
      " [0.14493183]\n",
      " [0.37291498]]\n",
      "----------------------------------------------------------------------------------------------------\n",
      "Score for number of cluster(s) 9: -32.42769645678228\n",
      "Silhouette score for number of cluster(s) 9: 0.5545666888630301\n",
      "Davies Bouldin score for number of cluster(s) 9: 0.5113499804120345\n"
     ]
    },
    {
     "data": {
      "text/plain": [
       "'Centroids - '"
      ]
     },
     "metadata": {},
     "output_type": "display_data"
    },
    {
     "name": "stdout",
     "output_type": "stream",
     "text": [
      "[[0.53137566]\n",
      " [0.10509028]\n",
      " [0.76217726]\n",
      " [0.42331304]\n",
      " [0.31144322]\n",
      " [0.02599186]\n",
      " [0.64251659]\n",
      " [0.20766053]\n",
      " [0.90078416]]\n",
      "----------------------------------------------------------------------------------------------------\n",
      "Score for number of cluster(s) 10: -25.81741535130615\n",
      "Silhouette score for number of cluster(s) 10: 0.5568590956443529\n",
      "Davies Bouldin score for number of cluster(s) 10: 0.5011182304368385\n"
     ]
    },
    {
     "data": {
      "text/plain": [
       "'Centroids - '"
      ]
     },
     "metadata": {},
     "output_type": "display_data"
    },
    {
     "name": "stdout",
     "output_type": "stream",
     "text": [
      "[[0.08863326]\n",
      " [0.66546823]\n",
      " [0.36078728]\n",
      " [0.77967047]\n",
      " [0.17464149]\n",
      " [0.55853242]\n",
      " [0.02320251]\n",
      " [0.2651478 ]\n",
      " [0.90746363]\n",
      " [0.46011398]]\n"
     ]
    },
    {
     "name": "stderr",
     "output_type": "stream",
     "text": [
      "findfont: Font family ['sans-serif'] not found. Falling back to DejaVu Sans.\n",
      "findfont: Generic family 'sans-serif' not found because none of the following families were found: Arial, Liberation Sans, Bitstream Vera Sans, sans-serif\n"
     ]
    },
    {
     "name": "stdout",
     "output_type": "stream",
     "text": [
      "----------------------------------------------------------------------------------------------------\n"
     ]
    },
    {
     "data": {
      "image/png": "[encoded data removed]",
      "text/plain": [
       "<Figure size 1080x576 with 10 Axes>"
      ]
     },
     "metadata": {},
     "output_type": "display_data"
    }
   ],
   "source": [
    "display_cluster_info(X_scaled)"
   ]
  }
 ],
 "metadata": {
  "kernelspec": {
   "display_name": "Python 3 (ipykernel)",
   "language": "python",
   "name": "python3"
  },
  "language_info": {
   "codemirror_mode": {
    "name": "ipython",
    "version": 3
   },
   "file_extension": ".py",
   "mimetype": "text/x-python",
   "name": "python",
   "nbconvert_exporter": "python",
   "pygments_lexer": "ipython3",
   "version": "3.8.10"
  }
 },
 "nbformat": 4,
 "nbformat_minor": 5
}
