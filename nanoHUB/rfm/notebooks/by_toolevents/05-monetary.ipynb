{
 "cells": [
  {
   "cell_type": "code",
   "execution_count": 1,
   "id": "d467e86a-ec0f-4da4-a1bc-47f9ca90386d",
   "metadata": {
    "execution": {
     "iopub.execute_input": "2021-08-13T01:34:36.193843Z",
     "iopub.status.busy": "2021-08-13T01:34:36.193482Z",
     "iopub.status.idle": "2021-08-13T01:34:37.323336Z",
     "shell.execute_reply": "2021-08-13T01:34:37.322558Z",
     "shell.execute_reply.started": "2021-08-13T01:34:36.193739Z"
    },
    "tags": []
   },
   "outputs": [],
   "source": [
    "from pathlib import Path\n",
    "import os\n",
    "import pandas as pd\n",
    "\n",
    "import seaborn as sns\n",
    "from sklearn.cluster import KMeans\n",
    "from sklearn.preprocessing import StandardScaler\n",
    "from sklearn.preprocessing import MinMaxScaler\n",
    "from sklearn.manifold import TSNE\n",
    "from sklearn.metrics import silhouette_score\n",
    "from sklearn.metrics import davies_bouldin_score,v_measure_score\n",
    "from yellowbrick.cluster import SilhouetteVisualizer\n",
    "import matplotlib.pyplot as plt\n",
    "\n",
    "CACHE_DIR = Path(Path(os.getenv('APP_DIR')), '.cache')\n",
    "NANOHUB_CACHE = Path(CACHE_DIR, 'nanohub')\n",
    "NANOHUB_METRICS_CACHE = Path(CACHE_DIR, 'nanohub_metrics')\n",
    "\n",
    "\n",
    "def create_silhouette_visual(sample, kmeans: KMeans, clusters: list = [2,3,4,5]):\n",
    "    fig, ax = plt.subplots(2, 2, figsize=(15,8))\n",
    "    for i in clusters:\n",
    "        q, mod = divmod(i, 2)\n",
    "\n",
    "        visualizer = SilhouetteVisualizer(kmeans, colors='yellowbrick', ax=ax[q-1][mod])\n",
    "        visualizer.fit(sample)\n",
    "        \n",
    "        \n",
    "def display_cluster_info(X_scaled, clusters: [] = [2,3,4,5,6,7,8,9,10]):\n",
    "    km_scores= []\n",
    "    km_silhouette = []\n",
    "    vmeasure_score =[]\n",
    "    db_score = []\n",
    "    \n",
    "    fig, ax = plt.subplots(5, 2, figsize=(15,8))\n",
    "\n",
    "    for i in clusters:\n",
    "        kmeans = KMeans(n_clusters=i)\n",
    "        kmeans.fit(X_scaled)\n",
    "        preds = kmeans.predict(X_scaled)\n",
    "        km_scores.append(-kmeans.score(X_scaled))\n",
    "        print(\"Score for number of cluster(s) {}: {}\".format(i,kmeans.score(X_scaled)))\n",
    "        km_scores.append(-kmeans.score(X_scaled))\n",
    "\n",
    "        silhouette = silhouette_score(X_scaled,preds)\n",
    "        km_silhouette.append(silhouette)\n",
    "        print(\"Silhouette score for number of cluster(s) {}: {}\".format(i,silhouette))\n",
    "\n",
    "        db = davies_bouldin_score(X_scaled,preds)\n",
    "        db_score.append(db)\n",
    "        print(\"Davies Bouldin score for number of cluster(s) {}: {}\".format(i,db))\n",
    "\n",
    "        display(\"Centroids - \")\n",
    "        print(kmeans.cluster_centers_)\n",
    "        \n",
    "        q, mod = divmod(i, 2)\n",
    "    \n",
    "        visualizer = SilhouetteVisualizer(kmeans, colors='yellowbrick', ax=ax[q-1][mod])\n",
    "        visualizer.fit(X_scaled)\n",
    "\n",
    "        print(\"-\"*100) \n",
    "\n"
   ]
  },
  {
   "cell_type": "code",
   "execution_count": 2,
   "id": "d4f3391b-4a89-4521-9e70-5de0e3d5d22a",
   "metadata": {
    "execution": {
     "iopub.execute_input": "2021-08-13T01:34:37.326734Z",
     "iopub.status.busy": "2021-08-13T01:34:37.325017Z",
     "iopub.status.idle": "2021-08-13T01:34:37.507959Z",
     "shell.execute_reply": "2021-08-13T01:34:37.507223Z",
     "shell.execute_reply.started": "2021-08-13T01:34:37.326687Z"
    },
    "tags": []
   },
   "outputs": [],
   "source": [
    "df = pd.read_csv(\n",
    "    Path(CACHE_DIR, 'unclassified_user_data.csv'),\n",
    "    index_col=False,\n",
    "    parse_dates=['last_start_date', 'first_start_date']\n",
    ")"
   ]
  },
  {
   "cell_type": "code",
   "execution_count": 3,
   "id": "9d4eecf8-b037-46e6-93c2-49822a456228",
   "metadata": {
    "execution": {
     "iopub.execute_input": "2021-08-13T01:34:37.511085Z",
     "iopub.status.busy": "2021-08-13T01:34:37.509627Z",
     "iopub.status.idle": "2021-08-13T01:34:37.544311Z",
     "shell.execute_reply": "2021-08-13T01:34:37.543386Z",
     "shell.execute_reply.started": "2021-08-13T01:34:37.510180Z"
    },
    "tags": []
   },
   "outputs": [
    {
     "data": {
      "text/html": [
       "<div>\n",
       "<style scoped>\n",
       "    .dataframe tbody tr th:only-of-type {\n",
       "        vertical-align: middle;\n",
       "    }\n",
       "\n",
       "    .dataframe tbody tr th {\n",
       "        vertical-align: top;\n",
       "    }\n",
       "\n",
       "    .dataframe thead th {\n",
       "        text-align: right;\n",
       "    }\n",
       "</style>\n",
       "<table border=\"1\" class=\"dataframe\">\n",
       "  <thead>\n",
       "    <tr style=\"text-align: right;\">\n",
       "      <th></th>\n",
       "      <th>index</th>\n",
       "      <th>Unnamed: 0</th>\n",
       "      <th>user</th>\n",
       "      <th>first_start_date</th>\n",
       "      <th>last_start_date</th>\n",
       "      <th>first_finish_date</th>\n",
       "      <th>last_finish_date</th>\n",
       "      <th>job_count</th>\n",
       "      <th>superjob_count</th>\n",
       "      <th>job_event_days</th>\n",
       "      <th>superjob_event_days</th>\n",
       "      <th>last_superjob_start_date</th>\n",
       "      <th>toolevents__lifetime</th>\n",
       "    </tr>\n",
       "  </thead>\n",
       "  <tbody>\n",
       "    <tr>\n",
       "      <th>0</th>\n",
       "      <td>6</td>\n",
       "      <td>6</td>\n",
       "      <td>0117tomboy</td>\n",
       "      <td>2019-09-26 22:12:11</td>\n",
       "      <td>2019-10-28 00:20:58</td>\n",
       "      <td>2019-09-26 22:43:17</td>\n",
       "      <td>2019-10-29 00:36:43</td>\n",
       "      <td>20</td>\n",
       "      <td>NaN</td>\n",
       "      <td>5</td>\n",
       "      <td>NaN</td>\n",
       "      <td>NaN</td>\n",
       "      <td>32</td>\n",
       "    </tr>\n",
       "    <tr>\n",
       "      <th>1</th>\n",
       "      <td>7</td>\n",
       "      <td>7</td>\n",
       "      <td>0190matze</td>\n",
       "      <td>2012-03-20 07:05:13</td>\n",
       "      <td>2012-06-21 02:49:03</td>\n",
       "      <td>2012-03-20 07:10:15</td>\n",
       "      <td>2012-06-21 14:07:48</td>\n",
       "      <td>20</td>\n",
       "      <td>NaN</td>\n",
       "      <td>3</td>\n",
       "      <td>NaN</td>\n",
       "      <td>NaN</td>\n",
       "      <td>93</td>\n",
       "    </tr>\n",
       "    <tr>\n",
       "      <th>2</th>\n",
       "      <td>19</td>\n",
       "      <td>19</td>\n",
       "      <td>061962588x</td>\n",
       "      <td>2021-04-28 01:54:30</td>\n",
       "      <td>2021-05-27 01:09:33</td>\n",
       "      <td>2021-04-28 03:31:52</td>\n",
       "      <td>2021-05-27 11:19:13</td>\n",
       "      <td>40</td>\n",
       "      <td>NaN</td>\n",
       "      <td>5</td>\n",
       "      <td>NaN</td>\n",
       "      <td>NaN</td>\n",
       "      <td>29</td>\n",
       "    </tr>\n",
       "    <tr>\n",
       "      <th>3</th>\n",
       "      <td>20</td>\n",
       "      <td>20</td>\n",
       "      <td>061972018x</td>\n",
       "      <td>2021-04-28 02:17:04</td>\n",
       "      <td>2021-05-27 01:13:31</td>\n",
       "      <td>2021-04-28 02:40:49</td>\n",
       "      <td>2021-05-28 01:20:45</td>\n",
       "      <td>66</td>\n",
       "      <td>NaN</td>\n",
       "      <td>4</td>\n",
       "      <td>NaN</td>\n",
       "      <td>NaN</td>\n",
       "      <td>29</td>\n",
       "    </tr>\n",
       "    <tr>\n",
       "      <th>4</th>\n",
       "      <td>26</td>\n",
       "      <td>26</td>\n",
       "      <td>0808wodlr</td>\n",
       "      <td>2020-11-10 00:04:08</td>\n",
       "      <td>2020-12-08 23:24:41</td>\n",
       "      <td>2020-11-11 00:12:54</td>\n",
       "      <td>2020-12-09 23:28:55</td>\n",
       "      <td>13</td>\n",
       "      <td>NaN</td>\n",
       "      <td>2</td>\n",
       "      <td>NaN</td>\n",
       "      <td>NaN</td>\n",
       "      <td>29</td>\n",
       "    </tr>\n",
       "    <tr>\n",
       "      <th>...</th>\n",
       "      <td>...</td>\n",
       "      <td>...</td>\n",
       "      <td>...</td>\n",
       "      <td>...</td>\n",
       "      <td>...</td>\n",
       "      <td>...</td>\n",
       "      <td>...</td>\n",
       "      <td>...</td>\n",
       "      <td>...</td>\n",
       "      <td>...</td>\n",
       "      <td>...</td>\n",
       "      <td>...</td>\n",
       "      <td>...</td>\n",
       "    </tr>\n",
       "    <tr>\n",
       "      <th>36533</th>\n",
       "      <td>155284</td>\n",
       "      <td>155284</td>\n",
       "      <td>zzpnm003</td>\n",
       "      <td>2010-05-26 11:06:40</td>\n",
       "      <td>2010-09-08 00:21:42</td>\n",
       "      <td>2010-05-26 11:07:18</td>\n",
       "      <td>2010-09-08 00:21:42</td>\n",
       "      <td>11</td>\n",
       "      <td>NaN</td>\n",
       "      <td>2</td>\n",
       "      <td>NaN</td>\n",
       "      <td>NaN</td>\n",
       "      <td>104</td>\n",
       "    </tr>\n",
       "    <tr>\n",
       "      <th>36534</th>\n",
       "      <td>155296</td>\n",
       "      <td>155296</td>\n",
       "      <td>zzxhuang</td>\n",
       "      <td>2013-05-29 01:18:56</td>\n",
       "      <td>2016-01-18 22:31:47</td>\n",
       "      <td>2013-05-29 01:47:10</td>\n",
       "      <td>2016-01-20 04:03:50</td>\n",
       "      <td>21</td>\n",
       "      <td>NaN</td>\n",
       "      <td>3</td>\n",
       "      <td>NaN</td>\n",
       "      <td>NaN</td>\n",
       "      <td>966</td>\n",
       "    </tr>\n",
       "    <tr>\n",
       "      <th>36535</th>\n",
       "      <td>155297</td>\n",
       "      <td>155297</td>\n",
       "      <td>zzxtcwz</td>\n",
       "      <td>2018-02-01 12:05:31</td>\n",
       "      <td>2018-02-07 08:56:30</td>\n",
       "      <td>2018-02-01 12:34:29</td>\n",
       "      <td>2018-02-13 13:55:38</td>\n",
       "      <td>4</td>\n",
       "      <td>NaN</td>\n",
       "      <td>2</td>\n",
       "      <td>NaN</td>\n",
       "      <td>NaN</td>\n",
       "      <td>12</td>\n",
       "    </tr>\n",
       "    <tr>\n",
       "      <th>36536</th>\n",
       "      <td>155299</td>\n",
       "      <td>155299</td>\n",
       "      <td>zzyang19891221</td>\n",
       "      <td>2011-11-22 11:18:10</td>\n",
       "      <td>2013-09-23 22:33:59</td>\n",
       "      <td>2011-11-22 11:18:11</td>\n",
       "      <td>2013-09-23 22:33:59</td>\n",
       "      <td>82</td>\n",
       "      <td>NaN</td>\n",
       "      <td>13</td>\n",
       "      <td>NaN</td>\n",
       "      <td>NaN</td>\n",
       "      <td>671</td>\n",
       "    </tr>\n",
       "    <tr>\n",
       "      <th>36537</th>\n",
       "      <td>155303</td>\n",
       "      <td>155303</td>\n",
       "      <td>zzz1ttt</td>\n",
       "      <td>2015-10-21 21:42:30</td>\n",
       "      <td>2015-12-17 06:47:37</td>\n",
       "      <td>2015-10-21 21:44:26</td>\n",
       "      <td>2015-12-17 09:14:10</td>\n",
       "      <td>60</td>\n",
       "      <td>NaN</td>\n",
       "      <td>6</td>\n",
       "      <td>NaN</td>\n",
       "      <td>NaN</td>\n",
       "      <td>56</td>\n",
       "    </tr>\n",
       "  </tbody>\n",
       "</table>\n",
       "<p>36538 rows × 13 columns</p>\n",
       "</div>"
      ],
      "text/plain": [
       "        index  Unnamed: 0            user    first_start_date  \\\n",
       "0           6           6      0117tomboy 2019-09-26 22:12:11   \n",
       "1           7           7       0190matze 2012-03-20 07:05:13   \n",
       "2          19          19      061962588x 2021-04-28 01:54:30   \n",
       "3          20          20      061972018x 2021-04-28 02:17:04   \n",
       "4          26          26       0808wodlr 2020-11-10 00:04:08   \n",
       "...       ...         ...             ...                 ...   \n",
       "36533  155284      155284        zzpnm003 2010-05-26 11:06:40   \n",
       "36534  155296      155296        zzxhuang 2013-05-29 01:18:56   \n",
       "36535  155297      155297         zzxtcwz 2018-02-01 12:05:31   \n",
       "36536  155299      155299  zzyang19891221 2011-11-22 11:18:10   \n",
       "36537  155303      155303         zzz1ttt 2015-10-21 21:42:30   \n",
       "\n",
       "          last_start_date    first_finish_date     last_finish_date  \\\n",
       "0     2019-10-28 00:20:58  2019-09-26 22:43:17  2019-10-29 00:36:43   \n",
       "1     2012-06-21 02:49:03  2012-03-20 07:10:15  2012-06-21 14:07:48   \n",
       "2     2021-05-27 01:09:33  2021-04-28 03:31:52  2021-05-27 11:19:13   \n",
       "3     2021-05-27 01:13:31  2021-04-28 02:40:49  2021-05-28 01:20:45   \n",
       "4     2020-12-08 23:24:41  2020-11-11 00:12:54  2020-12-09 23:28:55   \n",
       "...                   ...                  ...                  ...   \n",
       "36533 2010-09-08 00:21:42  2010-05-26 11:07:18  2010-09-08 00:21:42   \n",
       "36534 2016-01-18 22:31:47  2013-05-29 01:47:10  2016-01-20 04:03:50   \n",
       "36535 2018-02-07 08:56:30  2018-02-01 12:34:29  2018-02-13 13:55:38   \n",
       "36536 2013-09-23 22:33:59  2011-11-22 11:18:11  2013-09-23 22:33:59   \n",
       "36537 2015-12-17 06:47:37  2015-10-21 21:44:26  2015-12-17 09:14:10   \n",
       "\n",
       "       job_count  superjob_count  job_event_days  superjob_event_days  \\\n",
       "0             20             NaN               5                  NaN   \n",
       "1             20             NaN               3                  NaN   \n",
       "2             40             NaN               5                  NaN   \n",
       "3             66             NaN               4                  NaN   \n",
       "4             13             NaN               2                  NaN   \n",
       "...          ...             ...             ...                  ...   \n",
       "36533         11             NaN               2                  NaN   \n",
       "36534         21             NaN               3                  NaN   \n",
       "36535          4             NaN               2                  NaN   \n",
       "36536         82             NaN              13                  NaN   \n",
       "36537         60             NaN               6                  NaN   \n",
       "\n",
       "      last_superjob_start_date  toolevents__lifetime  \n",
       "0                          NaN                    32  \n",
       "1                          NaN                    93  \n",
       "2                          NaN                    29  \n",
       "3                          NaN                    29  \n",
       "4                          NaN                    29  \n",
       "...                        ...                   ...  \n",
       "36533                      NaN                   104  \n",
       "36534                      NaN                   966  \n",
       "36535                      NaN                    12  \n",
       "36536                      NaN                   671  \n",
       "36537                      NaN                    56  \n",
       "\n",
       "[36538 rows x 13 columns]"
      ]
     },
     "metadata": {},
     "output_type": "display_data"
    }
   ],
   "source": [
    "display(df)"
   ]
  },
  {
   "cell_type": "code",
   "execution_count": 4,
   "id": "061dfdf2-fe13-49c5-bb3d-4eab3735fda2",
   "metadata": {
    "execution": {
     "iopub.execute_input": "2021-08-13T01:34:37.551143Z",
     "iopub.status.busy": "2021-08-13T01:34:37.547935Z",
     "iopub.status.idle": "2021-08-13T01:34:37.569026Z",
     "shell.execute_reply": "2021-08-13T01:34:37.568440Z",
     "shell.execute_reply.started": "2021-08-13T01:34:37.551090Z"
    },
    "tags": []
   },
   "outputs": [],
   "source": [
    "users = pd.DataFrame(df['user'].unique())\n",
    "users.columns = ['user']"
   ]
  },
  {
   "cell_type": "code",
   "execution_count": 5,
   "id": "ace3e288-4add-4d01-a5f2-02296c73156d",
   "metadata": {
    "execution": {
     "iopub.execute_input": "2021-08-13T01:34:37.570785Z",
     "iopub.status.busy": "2021-08-13T01:34:37.570077Z",
     "iopub.status.idle": "2021-08-13T01:34:37.614201Z",
     "shell.execute_reply": "2021-08-13T01:34:37.613285Z",
     "shell.execute_reply.started": "2021-08-13T01:34:37.570693Z"
    },
    "tags": []
   },
   "outputs": [
    {
     "data": {
      "text/html": [
       "<div>\n",
       "<style scoped>\n",
       "    .dataframe tbody tr th:only-of-type {\n",
       "        vertical-align: middle;\n",
       "    }\n",
       "\n",
       "    .dataframe tbody tr th {\n",
       "        vertical-align: top;\n",
       "    }\n",
       "\n",
       "    .dataframe thead th {\n",
       "        text-align: right;\n",
       "    }\n",
       "</style>\n",
       "<table border=\"1\" class=\"dataframe\">\n",
       "  <thead>\n",
       "    <tr style=\"text-align: right;\">\n",
       "      <th></th>\n",
       "      <th>user</th>\n",
       "      <th>last_start_date</th>\n",
       "      <th>first_start_date</th>\n",
       "      <th>Monetary</th>\n",
       "      <th>job_lifetime</th>\n",
       "    </tr>\n",
       "  </thead>\n",
       "  <tbody>\n",
       "    <tr>\n",
       "      <th>0</th>\n",
       "      <td>0117tomboy</td>\n",
       "      <td>2019-10-28 00:20:58</td>\n",
       "      <td>2019-09-26 22:12:11</td>\n",
       "      <td>31</td>\n",
       "      <td>31</td>\n",
       "    </tr>\n",
       "    <tr>\n",
       "      <th>1</th>\n",
       "      <td>0190matze</td>\n",
       "      <td>2012-06-21 02:49:03</td>\n",
       "      <td>2012-03-20 07:05:13</td>\n",
       "      <td>92</td>\n",
       "      <td>92</td>\n",
       "    </tr>\n",
       "    <tr>\n",
       "      <th>2</th>\n",
       "      <td>061962588x</td>\n",
       "      <td>2021-05-27 01:09:33</td>\n",
       "      <td>2021-04-28 01:54:30</td>\n",
       "      <td>28</td>\n",
       "      <td>28</td>\n",
       "    </tr>\n",
       "    <tr>\n",
       "      <th>3</th>\n",
       "      <td>061972018x</td>\n",
       "      <td>2021-05-27 01:13:31</td>\n",
       "      <td>2021-04-28 02:17:04</td>\n",
       "      <td>28</td>\n",
       "      <td>28</td>\n",
       "    </tr>\n",
       "    <tr>\n",
       "      <th>4</th>\n",
       "      <td>0808wodlr</td>\n",
       "      <td>2020-12-08 23:24:41</td>\n",
       "      <td>2020-11-10 00:04:08</td>\n",
       "      <td>28</td>\n",
       "      <td>28</td>\n",
       "    </tr>\n",
       "    <tr>\n",
       "      <th>...</th>\n",
       "      <td>...</td>\n",
       "      <td>...</td>\n",
       "      <td>...</td>\n",
       "      <td>...</td>\n",
       "      <td>...</td>\n",
       "    </tr>\n",
       "    <tr>\n",
       "      <th>36533</th>\n",
       "      <td>zzpnm003</td>\n",
       "      <td>2010-09-08 00:21:42</td>\n",
       "      <td>2010-05-26 11:06:40</td>\n",
       "      <td>104</td>\n",
       "      <td>104</td>\n",
       "    </tr>\n",
       "    <tr>\n",
       "      <th>36534</th>\n",
       "      <td>zzxhuang</td>\n",
       "      <td>2016-01-18 22:31:47</td>\n",
       "      <td>2013-05-29 01:18:56</td>\n",
       "      <td>964</td>\n",
       "      <td>964</td>\n",
       "    </tr>\n",
       "    <tr>\n",
       "      <th>36535</th>\n",
       "      <td>zzxtcwz</td>\n",
       "      <td>2018-02-07 08:56:30</td>\n",
       "      <td>2018-02-01 12:05:31</td>\n",
       "      <td>5</td>\n",
       "      <td>5</td>\n",
       "    </tr>\n",
       "    <tr>\n",
       "      <th>36536</th>\n",
       "      <td>zzyang19891221</td>\n",
       "      <td>2013-09-23 22:33:59</td>\n",
       "      <td>2011-11-22 11:18:10</td>\n",
       "      <td>671</td>\n",
       "      <td>671</td>\n",
       "    </tr>\n",
       "    <tr>\n",
       "      <th>36537</th>\n",
       "      <td>zzz1ttt</td>\n",
       "      <td>2015-12-17 06:47:37</td>\n",
       "      <td>2015-10-21 21:42:30</td>\n",
       "      <td>56</td>\n",
       "      <td>56</td>\n",
       "    </tr>\n",
       "  </tbody>\n",
       "</table>\n",
       "<p>36538 rows × 5 columns</p>\n",
       "</div>"
      ],
      "text/plain": [
       "                 user     last_start_date    first_start_date  Monetary  \\\n",
       "0          0117tomboy 2019-10-28 00:20:58 2019-09-26 22:12:11        31   \n",
       "1           0190matze 2012-06-21 02:49:03 2012-03-20 07:05:13        92   \n",
       "2          061962588x 2021-05-27 01:09:33 2021-04-28 01:54:30        28   \n",
       "3          061972018x 2021-05-27 01:13:31 2021-04-28 02:17:04        28   \n",
       "4           0808wodlr 2020-12-08 23:24:41 2020-11-10 00:04:08        28   \n",
       "...               ...                 ...                 ...       ...   \n",
       "36533        zzpnm003 2010-09-08 00:21:42 2010-05-26 11:06:40       104   \n",
       "36534        zzxhuang 2016-01-18 22:31:47 2013-05-29 01:18:56       964   \n",
       "36535         zzxtcwz 2018-02-07 08:56:30 2018-02-01 12:05:31         5   \n",
       "36536  zzyang19891221 2013-09-23 22:33:59 2011-11-22 11:18:10       671   \n",
       "36537         zzz1ttt 2015-12-17 06:47:37 2015-10-21 21:42:30        56   \n",
       "\n",
       "       job_lifetime  \n",
       "0                31  \n",
       "1                92  \n",
       "2                28  \n",
       "3                28  \n",
       "4                28  \n",
       "...             ...  \n",
       "36533           104  \n",
       "36534           964  \n",
       "36535             5  \n",
       "36536           671  \n",
       "36537            56  \n",
       "\n",
       "[36538 rows x 5 columns]"
      ]
     },
     "metadata": {},
     "output_type": "display_data"
    }
   ],
   "source": [
    "monetary_df = df[['user', 'last_start_date', 'first_start_date']].copy()\n",
    "monetary_df['Monetary'] = (monetary_df['last_start_date'] - monetary_df['first_start_date']).dt.days\n",
    "monetary_df['job_lifetime'] = monetary_df['Monetary']\n",
    "\n",
    "users = pd.merge(users, monetary_df, on='user')\n",
    "display(users)"
   ]
  },
  {
   "cell_type": "code",
   "execution_count": 6,
   "id": "ac0e51d2-9bc8-42d8-838a-45443c20f23d",
   "metadata": {
    "execution": {
     "iopub.execute_input": "2021-08-13T01:34:37.616405Z",
     "iopub.status.busy": "2021-08-13T01:34:37.615407Z",
     "iopub.status.idle": "2021-08-13T01:34:38.314316Z",
     "shell.execute_reply": "2021-08-13T01:34:38.313651Z",
     "shell.execute_reply.started": "2021-08-13T01:34:37.616353Z"
    },
    "tags": []
   },
   "outputs": [],
   "source": [
    "\n",
    "kmeans = KMeans(n_clusters=8)\n",
    "kmeans.fit(users[['Monetary']])\n",
    "users['MonetaryCluster'] = kmeans.predict(users[['Monetary']])"
   ]
  },
  {
   "cell_type": "code",
   "execution_count": 7,
   "id": "da6fde4c-b3f3-431c-b289-7cf32ed524e1",
   "metadata": {
    "execution": {
     "iopub.execute_input": "2021-08-13T01:34:38.315449Z",
     "iopub.status.busy": "2021-08-13T01:34:38.315010Z",
     "iopub.status.idle": "2021-08-13T01:34:38.361472Z",
     "shell.execute_reply": "2021-08-13T01:34:38.360726Z",
     "shell.execute_reply.started": "2021-08-13T01:34:38.315423Z"
    }
   },
   "outputs": [
    {
     "data": {
      "text/html": [
       "<div>\n",
       "<style scoped>\n",
       "    .dataframe tbody tr th:only-of-type {\n",
       "        vertical-align: middle;\n",
       "    }\n",
       "\n",
       "    .dataframe tbody tr th {\n",
       "        vertical-align: top;\n",
       "    }\n",
       "\n",
       "    .dataframe thead th {\n",
       "        text-align: right;\n",
       "    }\n",
       "</style>\n",
       "<table border=\"1\" class=\"dataframe\">\n",
       "  <thead>\n",
       "    <tr style=\"text-align: right;\">\n",
       "      <th></th>\n",
       "      <th>count</th>\n",
       "      <th>mean</th>\n",
       "      <th>std</th>\n",
       "      <th>min</th>\n",
       "      <th>25%</th>\n",
       "      <th>50%</th>\n",
       "      <th>75%</th>\n",
       "      <th>max</th>\n",
       "    </tr>\n",
       "    <tr>\n",
       "      <th>MonetaryCluster</th>\n",
       "      <th></th>\n",
       "      <th></th>\n",
       "      <th></th>\n",
       "      <th></th>\n",
       "      <th></th>\n",
       "      <th></th>\n",
       "      <th></th>\n",
       "      <th></th>\n",
       "    </tr>\n",
       "  </thead>\n",
       "  <tbody>\n",
       "    <tr>\n",
       "      <th>0</th>\n",
       "      <td>3371.0</td>\n",
       "      <td>698.303471</td>\n",
       "      <td>124.325347</td>\n",
       "      <td>505.0</td>\n",
       "      <td>588.00</td>\n",
       "      <td>693.0</td>\n",
       "      <td>801.00</td>\n",
       "      <td>935.0</td>\n",
       "    </tr>\n",
       "    <tr>\n",
       "      <th>1</th>\n",
       "      <td>1484.0</td>\n",
       "      <td>1739.745957</td>\n",
       "      <td>178.546309</td>\n",
       "      <td>1458.0</td>\n",
       "      <td>1586.00</td>\n",
       "      <td>1734.5</td>\n",
       "      <td>1886.25</td>\n",
       "      <td>2084.0</td>\n",
       "    </tr>\n",
       "    <tr>\n",
       "      <th>2</th>\n",
       "      <td>22117.0</td>\n",
       "      <td>38.152688</td>\n",
       "      <td>42.846898</td>\n",
       "      <td>0.0</td>\n",
       "      <td>6.00</td>\n",
       "      <td>20.0</td>\n",
       "      <td>57.00</td>\n",
       "      <td>174.0</td>\n",
       "    </tr>\n",
       "    <tr>\n",
       "      <th>3</th>\n",
       "      <td>605.0</td>\n",
       "      <td>3309.484298</td>\n",
       "      <td>280.190578</td>\n",
       "      <td>2871.0</td>\n",
       "      <td>3067.00</td>\n",
       "      <td>3293.0</td>\n",
       "      <td>3536.00</td>\n",
       "      <td>3877.0</td>\n",
       "    </tr>\n",
       "    <tr>\n",
       "      <th>4</th>\n",
       "      <td>2136.0</td>\n",
       "      <td>1174.645599</td>\n",
       "      <td>149.791138</td>\n",
       "      <td>936.0</td>\n",
       "      <td>1047.75</td>\n",
       "      <td>1157.0</td>\n",
       "      <td>1304.00</td>\n",
       "      <td>1457.0</td>\n",
       "    </tr>\n",
       "    <tr>\n",
       "      <th>5</th>\n",
       "      <td>1040.0</td>\n",
       "      <td>2426.699038</td>\n",
       "      <td>221.696523</td>\n",
       "      <td>2085.0</td>\n",
       "      <td>2226.75</td>\n",
       "      <td>2408.0</td>\n",
       "      <td>2612.00</td>\n",
       "      <td>2869.0</td>\n",
       "    </tr>\n",
       "    <tr>\n",
       "      <th>6</th>\n",
       "      <td>294.0</td>\n",
       "      <td>4451.823129</td>\n",
       "      <td>411.212163</td>\n",
       "      <td>3885.0</td>\n",
       "      <td>4092.50</td>\n",
       "      <td>4412.5</td>\n",
       "      <td>4672.50</td>\n",
       "      <td>5606.0</td>\n",
       "    </tr>\n",
       "    <tr>\n",
       "      <th>7</th>\n",
       "      <td>5491.0</td>\n",
       "      <td>312.056092</td>\n",
       "      <td>94.033493</td>\n",
       "      <td>175.0</td>\n",
       "      <td>228.00</td>\n",
       "      <td>302.0</td>\n",
       "      <td>388.00</td>\n",
       "      <td>504.0</td>\n",
       "    </tr>\n",
       "  </tbody>\n",
       "</table>\n",
       "</div>"
      ],
      "text/plain": [
       "                   count         mean         std     min      25%     50%  \\\n",
       "MonetaryCluster                                                              \n",
       "0                 3371.0   698.303471  124.325347   505.0   588.00   693.0   \n",
       "1                 1484.0  1739.745957  178.546309  1458.0  1586.00  1734.5   \n",
       "2                22117.0    38.152688   42.846898     0.0     6.00    20.0   \n",
       "3                  605.0  3309.484298  280.190578  2871.0  3067.00  3293.0   \n",
       "4                 2136.0  1174.645599  149.791138   936.0  1047.75  1157.0   \n",
       "5                 1040.0  2426.699038  221.696523  2085.0  2226.75  2408.0   \n",
       "6                  294.0  4451.823129  411.212163  3885.0  4092.50  4412.5   \n",
       "7                 5491.0   312.056092   94.033493   175.0   228.00   302.0   \n",
       "\n",
       "                     75%     max  \n",
       "MonetaryCluster                   \n",
       "0                 801.00   935.0  \n",
       "1                1886.25  2084.0  \n",
       "2                  57.00   174.0  \n",
       "3                3536.00  3877.0  \n",
       "4                1304.00  1457.0  \n",
       "5                2612.00  2869.0  \n",
       "6                4672.50  5606.0  \n",
       "7                 388.00   504.0  "
      ]
     },
     "metadata": {},
     "output_type": "display_data"
    }
   ],
   "source": [
    "display(users.groupby('MonetaryCluster')['job_lifetime'].describe())"
   ]
  },
  {
   "cell_type": "code",
   "execution_count": 8,
   "id": "30c81147-f46b-460f-b1fe-6722cc672e1c",
   "metadata": {
    "execution": {
     "iopub.execute_input": "2021-08-13T01:34:38.363905Z",
     "iopub.status.busy": "2021-08-13T01:34:38.363302Z",
     "iopub.status.idle": "2021-08-13T01:34:38.901878Z",
     "shell.execute_reply": "2021-08-13T01:34:38.901052Z",
     "shell.execute_reply.started": "2021-08-13T01:34:38.363872Z"
    }
   },
   "outputs": [],
   "source": [
    "users.to_csv(\n",
    "    Path(CACHE_DIR, \"monetary.csv\"),\n",
    "    index=False,\n",
    "    index_label=False\n",
    ")"
   ]
  },
  {
   "cell_type": "code",
   "execution_count": 9,
   "id": "f04603b0-ee60-4d66-b728-4b317e03f16e",
   "metadata": {
    "execution": {
     "iopub.execute_input": "2021-08-13T01:34:38.903695Z",
     "iopub.status.busy": "2021-08-13T01:34:38.902723Z",
     "iopub.status.idle": "2021-08-13T01:34:38.914846Z",
     "shell.execute_reply": "2021-08-13T01:34:38.913223Z",
     "shell.execute_reply.started": "2021-08-13T01:34:38.903661Z"
    },
    "jupyter": {
     "source_hidden": true
    },
    "tags": []
   },
   "outputs": [],
   "source": [
    "scaler = MinMaxScaler()\n",
    "X_scaled=scaler.fit_transform(users[['Monetary']])"
   ]
  },
  {
   "cell_type": "code",
   "execution_count": 10,
   "id": "4076b8da-1e3e-4a33-beb2-ef09bab9664d",
   "metadata": {
    "execution": {
     "iopub.execute_input": "2021-08-13T01:34:38.918549Z",
     "iopub.status.busy": "2021-08-13T01:34:38.916622Z",
     "iopub.status.idle": "2021-08-13T01:44:19.642693Z",
     "shell.execute_reply": "2021-08-13T01:44:19.641234Z",
     "shell.execute_reply.started": "2021-08-13T01:34:38.918484Z"
    },
    "tags": []
   },
   "outputs": [
    {
     "name": "stdout",
     "output_type": "stream",
     "text": [
      "Score for number of cluster(s) 2: -192.21854290224528\n",
      "Silhouette score for number of cluster(s) 2: 0.8067303574306284\n",
      "Davies Bouldin score for number of cluster(s) 2: 0.45493360141355704\n"
     ]
    },
    {
     "data": {
      "text/plain": [
       "'Centroids - '"
      ]
     },
     "metadata": {},
     "output_type": "display_data"
    },
    {
     "name": "stdout",
     "output_type": "stream",
     "text": [
      "[[0.03460383]\n",
      " [0.39754545]]\n",
      "----------------------------------------------------------------------------------------------------\n",
      "Score for number of cluster(s) 3: -88.24561809708673\n",
      "Silhouette score for number of cluster(s) 3: 0.7661411873769897\n",
      "Davies Bouldin score for number of cluster(s) 3: 0.4971898373510622\n"
     ]
    },
    {
     "data": {
      "text/plain": [
       "'Centroids - '"
      ]
     },
     "metadata": {},
     "output_type": "display_data"
    },
    {
     "name": "stdout",
     "output_type": "stream",
     "text": [
      "[[0.21324828]\n",
      " [0.54047728]\n",
      " [0.02068967]]\n",
      "----------------------------------------------------------------------------------------------------\n",
      "Score for number of cluster(s) 4: -49.26348218113367\n",
      "Silhouette score for number of cluster(s) 4: 0.7461673010386366\n",
      "Davies Bouldin score for number of cluster(s) 4: 0.4869021860827352\n"
     ]
    },
    {
     "data": {
      "text/plain": [
       "'Centroids - '"
      ]
     },
     "metadata": {},
     "output_type": "display_data"
    },
    {
     "name": "stdout",
     "output_type": "stream",
     "text": [
      "[[0.01508928]\n",
      " [0.34662219]\n",
      " [0.14620711]\n",
      " [0.64567333]]\n",
      "----------------------------------------------------------------------------------------------------\n",
      "Score for number of cluster(s) 5: -31.591896427238492\n",
      "Silhouette score for number of cluster(s) 5: 0.7292405416064578\n",
      "Davies Bouldin score for number of cluster(s) 5: 0.4916137252407397\n"
     ]
    },
    {
     "data": {
      "text/plain": [
       "'Centroids - '"
      ]
     },
     "metadata": {},
     "output_type": "display_data"
    },
    {
     "name": "stdout",
     "output_type": "stream",
     "text": [
      "[[0.01146715]\n",
      " [0.43063006]\n",
      " [0.24590052]\n",
      " [0.69703231]\n",
      " [0.10684485]]\n",
      "----------------------------------------------------------------------------------------------------\n",
      "Score for number of cluster(s) 6: -22.2772302983249\n",
      "Silhouette score for number of cluster(s) 6: 0.717162029923044\n",
      "Davies Bouldin score for number of cluster(s) 6: 0.49715872978028103\n"
     ]
    },
    {
     "data": {
      "text/plain": [
       "'Centroids - '"
      ]
     },
     "metadata": {},
     "output_type": "display_data"
    },
    {
     "name": "stdout",
     "output_type": "stream",
     "text": [
      "[[0.00974592]\n",
      " [0.33103011]\n",
      " [0.74395384]\n",
      " [0.19310963]\n",
      " [0.08674895]\n",
      " [0.50518332]]\n",
      "----------------------------------------------------------------------------------------------------\n",
      "Score for number of cluster(s) 7: -16.138885608407115\n",
      "Silhouette score for number of cluster(s) 7: 0.7095472010712621\n",
      "Davies Bouldin score for number of cluster(s) 7: 0.48829943506349743\n"
     ]
    },
    {
     "data": {
      "text/plain": [
       "'Centroids - '"
      ]
     },
     "metadata": {},
     "output_type": "display_data"
    },
    {
     "name": "stdout",
     "output_type": "stream",
     "text": [
      "[[0.07219871]\n",
      " [0.40872561]\n",
      " [0.15973431]\n",
      " [0.7869805 ]\n",
      " [0.27220808]\n",
      " [0.00845873]\n",
      " [0.5758395 ]]\n",
      "----------------------------------------------------------------------------------------------------\n",
      "Score for number of cluster(s) 8: -12.23534332797873\n",
      "Silhouette score for number of cluster(s) 8: 0.6977180911473931\n",
      "Davies Bouldin score for number of cluster(s) 8: 0.49008261630688915\n"
     ]
    },
    {
     "data": {
      "text/plain": [
       "'Centroids - '"
      ]
     },
     "metadata": {},
     "output_type": "display_data"
    },
    {
     "name": "stdout",
     "output_type": "stream",
     "text": [
      "[[0.00712375]\n",
      " [0.43161731]\n",
      " [0.12681143]\n",
      " [0.79481011]\n",
      " [0.30924361]\n",
      " [0.05795067]\n",
      " [0.59003746]\n",
      " [0.21024661]]\n",
      "----------------------------------------------------------------------------------------------------\n",
      "Score for number of cluster(s) 9: -9.685931823173929\n",
      "Silhouette score for number of cluster(s) 9: 0.6889086769731432\n",
      "Davies Bouldin score for number of cluster(s) 9: 0.4914746642437327\n"
     ]
    },
    {
     "data": {
      "text/plain": [
       "'Centroids - '"
      ]
     },
     "metadata": {},
     "output_type": "display_data"
    },
    {
     "name": "stdout",
     "output_type": "stream",
     "text": [
      "[[0.00621998]\n",
      " [0.35252301]\n",
      " [0.61214304]\n",
      " [0.17228383]\n",
      " [0.048801  ]\n",
      " [0.80409483]\n",
      " [0.46815443]\n",
      " [0.25423474]\n",
      " [0.10545801]]\n",
      "----------------------------------------------------------------------------------------------------\n",
      "Score for number of cluster(s) 10: -7.841444410341902\n",
      "Silhouette score for number of cluster(s) 10: 0.6805484072810161\n",
      "Davies Bouldin score for number of cluster(s) 10: 0.49162563928344144\n"
     ]
    },
    {
     "data": {
      "text/plain": [
       "'Centroids - '"
      ]
     },
     "metadata": {},
     "output_type": "display_data"
    },
    {
     "name": "stdout",
     "output_type": "stream",
     "text": [
      "[[0.00562445]\n",
      " [0.49346069]\n",
      " [0.14640229]\n",
      " [0.82082218]\n",
      " [0.29407098]\n",
      " [0.08897642]\n",
      " [0.63552948]\n",
      " [0.04189727]\n",
      " [0.38471877]\n",
      " [0.21493666]]\n"
     ]
    },
    {
     "name": "stderr",
     "output_type": "stream",
     "text": [
      "findfont: Font family ['sans-serif'] not found. Falling back to DejaVu Sans.\n",
      "findfont: Generic family 'sans-serif' not found because none of the following families were found: Arial, Liberation Sans, Bitstream Vera Sans, sans-serif\n"
     ]
    },
    {
     "name": "stdout",
     "output_type": "stream",
     "text": [
      "----------------------------------------------------------------------------------------------------\n"
     ]
    },
    {
     "data": {
      "image/png": "[encoded data removed]",
      "text/plain": [
       "<Figure size 1080x576 with 10 Axes>"
      ]
     },
     "metadata": {},
     "output_type": "display_data"
    }
   ],
   "source": [
    "display_cluster_info(X_scaled)"
   ]
  }
 ],
 "metadata": {
  "kernelspec": {
   "display_name": "Python 3 (ipykernel)",
   "language": "python",
   "name": "python3"
  },
  "language_info": {
   "codemirror_mode": {
    "name": "ipython",
    "version": 3
   },
   "file_extension": ".py",
   "mimetype": "text/x-python",
   "name": "python",
   "nbconvert_exporter": "python",
   "pygments_lexer": "ipython3",
   "version": "3.8.10"
  }
 },
 "nbformat": 4,
 "nbformat_minor": 5
}
