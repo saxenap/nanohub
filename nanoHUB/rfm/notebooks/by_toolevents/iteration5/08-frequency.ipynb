{
 "cells": [
  {
   "cell_type": "code",
   "execution_count": 1,
   "id": "d467e86a-ec0f-4da4-a1bc-47f9ca90386d",
   "metadata": {
    "execution": {
     "iopub.execute_input": "2021-08-24T19:31:13.228632Z",
     "iopub.status.busy": "2021-08-24T19:31:13.228095Z",
     "iopub.status.idle": "2021-08-24T19:31:18.743920Z",
     "shell.execute_reply": "2021-08-24T19:31:18.739857Z",
     "shell.execute_reply.started": "2021-08-24T19:31:13.228522Z"
    },
    "tags": []
   },
   "outputs": [
    {
     "name": "stdout",
     "output_type": "stream",
     "text": [
      "\u001b[1mnanoHUB - Serving Students, Researchers & Instructors\u001b[0m\n"
     ]
    }
   ],
   "source": [
    "from pathlib import Path\n",
    "import os\n",
    "import pandas as pd\n",
    "\n",
    "import seaborn as sns\n",
    "from sklearn.cluster import KMeans\n",
    "from sklearn.preprocessing import StandardScaler\n",
    "from sklearn.preprocessing import MinMaxScaler\n",
    "from sklearn.manifold import TSNE\n",
    "from sklearn.metrics import silhouette_score\n",
    "from sklearn.metrics import davies_bouldin_score,v_measure_score\n",
    "from yellowbrick.cluster import SilhouetteVisualizer\n",
    "import matplotlib.pyplot as plt\n",
    "\n",
    "\n",
    "from nanoHUB.rfm.functions import CacheDirs, elbow_curve, display_cluster_info"
   ]
  },
  {
   "cell_type": "code",
   "execution_count": 2,
   "id": "278c5d9b-149e-4e61-91b6-69312eb984a3",
   "metadata": {
    "execution": {
     "iopub.execute_input": "2021-08-24T19:31:18.748097Z",
     "iopub.status.busy": "2021-08-24T19:31:18.747055Z",
     "iopub.status.idle": "2021-08-24T19:31:18.765827Z",
     "shell.execute_reply": "2021-08-24T19:31:18.762619Z",
     "shell.execute_reply.started": "2021-08-24T19:31:18.747944Z"
    }
   },
   "outputs": [],
   "source": [
    "cached_dirs = CacheDirs()\n",
    "data_dir = Path(cached_dirs.cache_dir, 'rfm/by_toolevents/iteration5')"
   ]
  },
  {
   "cell_type": "code",
   "execution_count": 3,
   "id": "d4f3391b-4a89-4521-9e70-5de0e3d5d22a",
   "metadata": {
    "execution": {
     "iopub.execute_input": "2021-08-24T19:31:18.772232Z",
     "iopub.status.busy": "2021-08-24T19:31:18.771698Z",
     "iopub.status.idle": "2021-08-24T19:31:18.960085Z",
     "shell.execute_reply": "2021-08-24T19:31:18.959298Z",
     "shell.execute_reply.started": "2021-08-24T19:31:18.772204Z"
    },
    "tags": []
   },
   "outputs": [],
   "source": [
    "df = pd.read_csv(\n",
    "    Path(data_dir, 'unclassified_user_data.csv'),\n",
    "    index_col=False\n",
    ")"
   ]
  },
  {
   "cell_type": "code",
   "execution_count": 4,
   "id": "061dfdf2-fe13-49c5-bb3d-4eab3735fda2",
   "metadata": {
    "execution": {
     "iopub.execute_input": "2021-08-24T19:31:18.964541Z",
     "iopub.status.busy": "2021-08-24T19:31:18.962018Z",
     "iopub.status.idle": "2021-08-24T19:31:18.989442Z",
     "shell.execute_reply": "2021-08-24T19:31:18.988477Z",
     "shell.execute_reply.started": "2021-08-24T19:31:18.962516Z"
    }
   },
   "outputs": [],
   "source": [
    "users = pd.DataFrame(df['user'].unique())\n",
    "users.columns = ['user']"
   ]
  },
  {
   "cell_type": "code",
   "execution_count": 5,
   "id": "8ae78bfc-c021-40aa-bffb-e19f3f9c909e",
   "metadata": {
    "execution": {
     "iopub.execute_input": "2021-08-24T19:31:18.996404Z",
     "iopub.status.busy": "2021-08-24T19:31:18.991308Z",
     "iopub.status.idle": "2021-08-24T19:31:19.043102Z",
     "shell.execute_reply": "2021-08-24T19:31:19.037668Z",
     "shell.execute_reply.started": "2021-08-24T19:31:18.996356Z"
    }
   },
   "outputs": [],
   "source": [
    "frequency_df = df[['user', 'job_event_days', 'toolevents__lifetime']].copy()\n",
    "frequency_df['Frequency'] = frequency_df['job_event_days']/frequency_df['toolevents__lifetime']\n",
    "\n",
    "users = pd.merge(users, frequency_df, on='user')"
   ]
  },
  {
   "cell_type": "code",
   "execution_count": 6,
   "id": "e5dcb525-8a7b-4727-9aae-f5edf9397d91",
   "metadata": {
    "execution": {
     "iopub.execute_input": "2021-08-24T19:31:19.044432Z",
     "iopub.status.busy": "2021-08-24T19:31:19.044170Z",
     "iopub.status.idle": "2021-08-24T19:31:22.765394Z",
     "shell.execute_reply": "2021-08-24T19:31:22.763869Z",
     "shell.execute_reply.started": "2021-08-24T19:31:19.044410Z"
    }
   },
   "outputs": [
    {
     "name": "stderr",
     "output_type": "stream",
     "text": [
      "findfont: Font family ['sans-serif'] not found. Falling back to DejaVu Sans.\n",
      "findfont: Generic family 'sans-serif' not found because none of the following families were found: Arial, Liberation Sans, Bitstream Vera Sans, sans-serif\n",
      "findfont: Font family ['sans-serif'] not found. Falling back to DejaVu Sans.\n",
      "findfont: Generic family 'sans-serif' not found because none of the following families were found: Arial, Liberation Sans, Bitstream Vera Sans, sans-serif\n",
      "findfont: Font family ['sans-serif'] not found. Falling back to DejaVu Sans.\n",
      "findfont: Generic family 'sans-serif' not found because none of the following families were found: Arial, Liberation Sans, Bitstream Vera Sans, sans-serif\n"
     ]
    },
    {
     "data": {
      "image/png": "[encoded data removed]",
      "text/plain": [
       "<Figure size 576x396 with 1 Axes>"
      ]
     },
     "metadata": {},
     "output_type": "display_data"
    }
   ],
   "source": [
    "elbow_curve(users[['Frequency']])"
   ]
  },
  {
   "cell_type": "code",
   "execution_count": 7,
   "id": "ace3e288-4add-4d01-a5f2-02296c73156d",
   "metadata": {
    "execution": {
     "iopub.execute_input": "2021-08-24T19:31:22.776101Z",
     "iopub.status.busy": "2021-08-24T19:31:22.772026Z",
     "iopub.status.idle": "2021-08-24T19:31:23.043273Z",
     "shell.execute_reply": "2021-08-24T19:31:23.042530Z",
     "shell.execute_reply.started": "2021-08-24T19:31:22.775979Z"
    },
    "tags": []
   },
   "outputs": [],
   "source": [
    "\n",
    "\n",
    "kmeans = KMeans(n_clusters=4)\n",
    "kmeans.fit(users[['Frequency']])\n",
    "users['FrequencyCluster'] = kmeans.predict(users[['Frequency']])"
   ]
  },
  {
   "cell_type": "code",
   "execution_count": 8,
   "id": "ac0e51d2-9bc8-42d8-838a-45443c20f23d",
   "metadata": {
    "execution": {
     "iopub.execute_input": "2021-08-24T19:31:23.057175Z",
     "iopub.status.busy": "2021-08-24T19:31:23.052307Z",
     "iopub.status.idle": "2021-08-24T19:31:23.205736Z",
     "shell.execute_reply": "2021-08-24T19:31:23.204365Z",
     "shell.execute_reply.started": "2021-08-24T19:31:23.056961Z"
    },
    "tags": []
   },
   "outputs": [
    {
     "data": {
      "text/html": [
       "<div>\n",
       "<style scoped>\n",
       "    .dataframe tbody tr th:only-of-type {\n",
       "        vertical-align: middle;\n",
       "    }\n",
       "\n",
       "    .dataframe tbody tr th {\n",
       "        vertical-align: top;\n",
       "    }\n",
       "\n",
       "    .dataframe thead th {\n",
       "        text-align: right;\n",
       "    }\n",
       "</style>\n",
       "<table border=\"1\" class=\"dataframe\">\n",
       "  <thead>\n",
       "    <tr style=\"text-align: right;\">\n",
       "      <th></th>\n",
       "      <th>count</th>\n",
       "      <th>mean</th>\n",
       "      <th>std</th>\n",
       "      <th>min</th>\n",
       "      <th>25%</th>\n",
       "      <th>50%</th>\n",
       "      <th>75%</th>\n",
       "      <th>max</th>\n",
       "    </tr>\n",
       "    <tr>\n",
       "      <th>FrequencyCluster</th>\n",
       "      <th></th>\n",
       "      <th></th>\n",
       "      <th></th>\n",
       "      <th></th>\n",
       "      <th></th>\n",
       "      <th></th>\n",
       "      <th></th>\n",
       "      <th></th>\n",
       "    </tr>\n",
       "  </thead>\n",
       "  <tbody>\n",
       "    <tr>\n",
       "      <th>0</th>\n",
       "      <td>518.0</td>\n",
       "      <td>1.058696</td>\n",
       "      <td>0.167938</td>\n",
       "      <td>0.833333</td>\n",
       "      <td>1.000000</td>\n",
       "      <td>1.000000</td>\n",
       "      <td>1.000000</td>\n",
       "      <td>2.000000</td>\n",
       "    </tr>\n",
       "    <tr>\n",
       "      <th>1</th>\n",
       "      <td>4879.0</td>\n",
       "      <td>0.043729</td>\n",
       "      <td>0.044648</td>\n",
       "      <td>0.000357</td>\n",
       "      <td>0.007194</td>\n",
       "      <td>0.024079</td>\n",
       "      <td>0.071429</td>\n",
       "      <td>0.158416</td>\n",
       "    </tr>\n",
       "    <tr>\n",
       "      <th>2</th>\n",
       "      <td>1673.0</td>\n",
       "      <td>0.272823</td>\n",
       "      <td>0.080641</td>\n",
       "      <td>0.158730</td>\n",
       "      <td>0.200000</td>\n",
       "      <td>0.255814</td>\n",
       "      <td>0.333333</td>\n",
       "      <td>0.437500</td>\n",
       "    </tr>\n",
       "    <tr>\n",
       "      <th>3</th>\n",
       "      <td>674.0</td>\n",
       "      <td>0.602295</td>\n",
       "      <td>0.102567</td>\n",
       "      <td>0.440476</td>\n",
       "      <td>0.500000</td>\n",
       "      <td>0.600000</td>\n",
       "      <td>0.666667</td>\n",
       "      <td>0.818182</td>\n",
       "    </tr>\n",
       "  </tbody>\n",
       "</table>\n",
       "</div>"
      ],
      "text/plain": [
       "                   count      mean       std       min       25%       50%  \\\n",
       "FrequencyCluster                                                             \n",
       "0                  518.0  1.058696  0.167938  0.833333  1.000000  1.000000   \n",
       "1                 4879.0  0.043729  0.044648  0.000357  0.007194  0.024079   \n",
       "2                 1673.0  0.272823  0.080641  0.158730  0.200000  0.255814   \n",
       "3                  674.0  0.602295  0.102567  0.440476  0.500000  0.600000   \n",
       "\n",
       "                       75%       max  \n",
       "FrequencyCluster                      \n",
       "0                 1.000000  2.000000  \n",
       "1                 0.071429  0.158416  \n",
       "2                 0.333333  0.437500  \n",
       "3                 0.666667  0.818182  "
      ]
     },
     "metadata": {},
     "output_type": "display_data"
    }
   ],
   "source": [
    "display(users.groupby('FrequencyCluster')['Frequency'].describe())"
   ]
  },
  {
   "cell_type": "code",
   "execution_count": 9,
   "id": "7f7e316d-6669-44fc-a521-99181f11f94b",
   "metadata": {
    "execution": {
     "iopub.execute_input": "2021-08-24T19:31:23.208729Z",
     "iopub.status.busy": "2021-08-24T19:31:23.207663Z",
     "iopub.status.idle": "2021-08-24T19:31:23.299374Z",
     "shell.execute_reply": "2021-08-24T19:31:23.297163Z",
     "shell.execute_reply.started": "2021-08-24T19:31:23.208667Z"
    }
   },
   "outputs": [],
   "source": [
    "users.to_csv(\n",
    "    Path(data_dir, \"frequency.csv\"),\n",
    "    index=False,\n",
    "    index_label=False\n",
    ")"
   ]
  },
  {
   "cell_type": "code",
   "execution_count": 10,
   "id": "0a8e86c1-daf9-4156-981f-48490b2bcc17",
   "metadata": {
    "execution": {
     "iopub.execute_input": "2021-08-24T19:31:23.302073Z",
     "iopub.status.busy": "2021-08-24T19:31:23.301083Z",
     "iopub.status.idle": "2021-08-24T19:31:23.315439Z",
     "shell.execute_reply": "2021-08-24T19:31:23.314164Z",
     "shell.execute_reply.started": "2021-08-24T19:31:23.302040Z"
    }
   },
   "outputs": [],
   "source": [
    "scaler = MinMaxScaler()\n",
    "X_scaled=scaler.fit_transform(users[['Frequency']])"
   ]
  },
  {
   "cell_type": "code",
   "execution_count": 11,
   "id": "da6fde4c-b3f3-431c-b289-7cf32ed524e1",
   "metadata": {
    "execution": {
     "iopub.execute_input": "2021-08-24T19:31:23.317423Z",
     "iopub.status.busy": "2021-08-24T19:31:23.316869Z",
     "iopub.status.idle": "2021-08-24T19:32:01.747929Z",
     "shell.execute_reply": "2021-08-24T19:32:01.746966Z",
     "shell.execute_reply.started": "2021-08-24T19:31:23.317395Z"
    },
    "tags": []
   },
   "outputs": [
    {
     "name": "stdout",
     "output_type": "stream",
     "text": [
      "Score for number of cluster(s) 2: -42.11514922529369\n",
      "Silhouette score for number of cluster(s) 2: 0.7662913903827867\n",
      "Davies Bouldin score for number of cluster(s) 2: 0.4494073671067162\n"
     ]
    },
    {
     "data": {
      "text/plain": [
       "'Centroids - '"
      ]
     },
     "metadata": {},
     "output_type": "display_data"
    },
    {
     "name": "stdout",
     "output_type": "stream",
     "text": [
      "[[0.40415426]\n",
      " [0.05162491]]\n",
      "----------------------------------------------------------------------------------------------------\n",
      "Score for number of cluster(s) 3: -18.67312635360019\n",
      "Silhouette score for number of cluster(s) 3: 0.7105519926697982\n",
      "Davies Bouldin score for number of cluster(s) 3: 0.43485838899802215\n"
     ]
    },
    {
     "data": {
      "text/plain": [
       "'Centroids - '"
      ]
     },
     "metadata": {},
     "output_type": "display_data"
    },
    {
     "name": "stdout",
     "output_type": "stream",
     "text": [
      "[[0.03333619]\n",
      " [0.21672768]\n",
      " [0.50481018]]\n",
      "----------------------------------------------------------------------------------------------------\n",
      "Score for number of cluster(s) 4: -10.567941149366678\n",
      "Silhouette score for number of cluster(s) 4: 0.6848104428687758\n",
      "Davies Bouldin score for number of cluster(s) 4: 0.4687239174508273\n"
     ]
    },
    {
     "data": {
      "text/plain": [
       "'Centroids - '"
      ]
     },
     "metadata": {},
     "output_type": "display_data"
    },
    {
     "name": "stdout",
     "output_type": "stream",
     "text": [
      "[[0.02125631]\n",
      " [0.52926418]\n",
      " [0.13481132]\n",
      " [0.30053473]]\n",
      "----------------------------------------------------------------------------------------------------\n",
      "Score for number of cluster(s) 5: -7.22947409153932\n",
      "Silhouette score for number of cluster(s) 5: 0.6752330577124216\n",
      "Davies Bouldin score for number of cluster(s) 5: 0.46200438507203484\n"
     ]
    },
    {
     "data": {
      "text/plain": [
       "'Centroids - '"
      ]
     },
     "metadata": {},
     "output_type": "display_data"
    },
    {
     "name": "stdout",
     "output_type": "stream",
     "text": [
      "[[0.20532099]\n",
      " [0.01566658]\n",
      " [0.53320237]\n",
      " [0.09660717]\n",
      " [0.34030022]]\n",
      "----------------------------------------------------------------------------------------------------\n",
      "Score for number of cluster(s) 6: -4.064235873595972\n",
      "Silhouette score for number of cluster(s) 6: 0.6865981463106485\n",
      "Davies Bouldin score for number of cluster(s) 6: 0.3765290966167123\n"
     ]
    },
    {
     "data": {
      "text/plain": [
       "'Centroids - '"
      ]
     },
     "metadata": {},
     "output_type": "display_data"
    },
    {
     "name": "stdout",
     "output_type": "stream",
     "text": [
      "[[0.33924304]\n",
      " [0.01579017]\n",
      " [0.49902461]\n",
      " [0.20532099]\n",
      " [0.72217267]\n",
      " [0.09691859]]\n",
      "----------------------------------------------------------------------------------------------------\n",
      "Score for number of cluster(s) 7: -2.601871371831096\n",
      "Silhouette score for number of cluster(s) 7: 0.6680971485571193\n",
      "Davies Bouldin score for number of cluster(s) 7: 0.4020416042131313\n"
     ]
    },
    {
     "data": {
      "text/plain": [
       "'Centroids - '"
      ]
     },
     "metadata": {},
     "output_type": "display_data"
    },
    {
     "name": "stdout",
     "output_type": "stream",
     "text": [
      "[[0.22025363]\n",
      " [0.01076115]\n",
      " [0.49902461]\n",
      " [0.06401839]\n",
      " [0.72217267]\n",
      " [0.34091184]\n",
      " [0.13141205]]\n",
      "----------------------------------------------------------------------------------------------------\n",
      "Score for number of cluster(s) 8: -1.9704335814461702\n",
      "Silhouette score for number of cluster(s) 8: 0.6506370833713795\n",
      "Davies Bouldin score for number of cluster(s) 8: 0.4214330616002747\n"
     ]
    },
    {
     "data": {
      "text/plain": [
       "'Centroids - '"
      ]
     },
     "metadata": {},
     "output_type": "display_data"
    },
    {
     "name": "stdout",
     "output_type": "stream",
     "text": [
      "[[0.49902461]\n",
      " [0.04641306]\n",
      " [0.23023412]\n",
      " [0.15172389]\n",
      " [0.00810221]\n",
      " [0.72217267]\n",
      " [0.34333966]\n",
      " [0.09269583]]\n",
      "----------------------------------------------------------------------------------------------------\n",
      "Score for number of cluster(s) 9: -1.4771437197095958\n",
      "Silhouette score for number of cluster(s) 9: 0.654137038999597\n",
      "Davies Bouldin score for number of cluster(s) 9: 0.4233145789509927\n"
     ]
    },
    {
     "data": {
      "text/plain": [
       "'Centroids - '"
      ]
     },
     "metadata": {},
     "output_type": "display_data"
    },
    {
     "name": "stdout",
     "output_type": "stream",
     "text": [
      "[[0.00686151]\n",
      " [0.35317142]\n",
      " [0.12839814]\n",
      " [0.49902461]\n",
      " [0.26253531]\n",
      " [0.72217267]\n",
      " [0.07890738]\n",
      " [0.18963726]\n",
      " [0.03820611]]\n",
      "----------------------------------------------------------------------------------------------------\n",
      "Score for number of cluster(s) 10: -1.1641666451882833\n",
      "Silhouette score for number of cluster(s) 10: 0.6609761485271894\n",
      "Davies Bouldin score for number of cluster(s) 10: 0.4123531292754161\n"
     ]
    },
    {
     "data": {
      "text/plain": [
       "'Centroids - '"
      ]
     },
     "metadata": {},
     "output_type": "display_data"
    },
    {
     "name": "stdout",
     "output_type": "stream",
     "text": [
      "[[0.00698882]\n",
      " [0.25050325]\n",
      " [0.50014996]\n",
      " [0.12759279]\n",
      " [0.72217267]\n",
      " [0.38816982]\n",
      " [0.07928288]\n",
      " [0.18727805]\n",
      " [0.32300262]\n",
      " [0.03892661]]\n",
      "----------------------------------------------------------------------------------------------------\n"
     ]
    },
    {
     "data": {
      "image/png": "[encoded data removed]",
      "text/plain": [
       "<Figure size 1080x576 with 10 Axes>"
      ]
     },
     "metadata": {},
     "output_type": "display_data"
    }
   ],
   "source": [
    " display_cluster_info(X_scaled)"
   ]
  }
 ],
 "metadata": {
  "kernelspec": {
   "display_name": "Python 3 (ipykernel)",
   "language": "python",
   "name": "python3"
  },
  "language_info": {
   "codemirror_mode": {
    "name": "ipython",
    "version": 3
   },
   "file_extension": ".py",
   "mimetype": "text/x-python",
   "name": "python",
   "nbconvert_exporter": "python",
   "pygments_lexer": "ipython3",
   "version": "3.8.10"
  }
 },
 "nbformat": 4,
 "nbformat_minor": 5
}
