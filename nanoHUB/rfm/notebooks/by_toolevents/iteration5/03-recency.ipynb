{
 "cells": [
  {
   "cell_type": "code",
   "execution_count": 1,
   "id": "d467e86a-ec0f-4da4-a1bc-47f9ca90386d",
   "metadata": {
    "execution": {
     "iopub.execute_input": "2021-08-24T19:33:03.883922Z",
     "iopub.status.busy": "2021-08-24T19:33:03.865173Z",
     "iopub.status.idle": "2021-08-24T19:33:08.689136Z",
     "shell.execute_reply": "2021-08-24T19:33:08.687670Z",
     "shell.execute_reply.started": "2021-08-24T19:33:03.883139Z"
    },
    "tags": [],
    "pycharm": {
     "name": "#%%\n"
    }
   },
   "outputs": [
    {
     "name": "stdout",
     "output_type": "stream",
     "text": [
      "\u001B[1mnanoHUB - Serving Students, Researchers & Instructors\u001B[0m\n"
     ]
    }
   ],
   "source": [
    "from pathlib import Path\n",
    "import os\n",
    "import pandas as pd\n",
    "\n",
    "import seaborn as sns\n",
    "from sklearn.cluster import KMeans\n",
    "from sklearn.preprocessing import StandardScaler\n",
    "from sklearn.preprocessing import MinMaxScaler\n",
    "from sklearn.manifold import TSNE\n",
    "from sklearn.metrics import silhouette_score\n",
    "from sklearn.metrics import davies_bouldin_score,v_measure_score\n",
    "from yellowbrick.cluster import SilhouetteVisualizer\n",
    "import matplotlib.pyplot as plt\n",
    "\n",
    "from nanoHUB.rfm.functions import CacheDirs, elbow_curve, display_cluster_info"
   ]
  },
  {
   "cell_type": "code",
   "execution_count": 2,
   "id": "f1a9afec-311b-413d-a51a-1b64417cdbfb",
   "metadata": {
    "execution": {
     "iopub.execute_input": "2021-08-24T19:33:08.693553Z",
     "iopub.status.busy": "2021-08-24T19:33:08.692894Z",
     "iopub.status.idle": "2021-08-24T19:33:08.709907Z",
     "shell.execute_reply": "2021-08-24T19:33:08.707181Z",
     "shell.execute_reply.started": "2021-08-24T19:33:08.693463Z"
    },
    "tags": [],
    "pycharm": {
     "name": "#%%\n"
    }
   },
   "outputs": [],
   "source": [
    "cached_dirs = CacheDirs()\n",
    "data_dir = Path(cached_dirs.cache_dir, 'rfm/by_toolevents/iteration5')"
   ]
  },
  {
   "cell_type": "code",
   "execution_count": 3,
   "id": "d4f3391b-4a89-4521-9e70-5de0e3d5d22a",
   "metadata": {
    "execution": {
     "iopub.execute_input": "2021-08-24T19:33:08.712123Z",
     "iopub.status.busy": "2021-08-24T19:33:08.711668Z",
     "iopub.status.idle": "2021-08-24T19:33:08.836474Z",
     "shell.execute_reply": "2021-08-24T19:33:08.834277Z",
     "shell.execute_reply.started": "2021-08-24T19:33:08.712066Z"
    },
    "tags": [],
    "pycharm": {
     "name": "#%%\n"
    }
   },
   "outputs": [
    {
     "data": {
      "text/html": [
       "<div>\n",
       "<style scoped>\n",
       "    .dataframe tbody tr th:only-of-type {\n",
       "        vertical-align: middle;\n",
       "    }\n",
       "\n",
       "    .dataframe tbody tr th {\n",
       "        vertical-align: top;\n",
       "    }\n",
       "\n",
       "    .dataframe thead th {\n",
       "        text-align: right;\n",
       "    }\n",
       "</style>\n",
       "<table border=\"1\" class=\"dataframe\">\n",
       "  <thead>\n",
       "    <tr style=\"text-align: right;\">\n",
       "      <th></th>\n",
       "      <th>index</th>\n",
       "      <th>Unnamed: 0</th>\n",
       "      <th>user</th>\n",
       "      <th>first_start_date</th>\n",
       "      <th>last_start_date</th>\n",
       "      <th>first_finish_date</th>\n",
       "      <th>last_finish_date</th>\n",
       "      <th>job_count</th>\n",
       "      <th>superjob_count</th>\n",
       "      <th>job_event_days</th>\n",
       "      <th>superjob_event_days</th>\n",
       "      <th>last_superjob_start_date</th>\n",
       "      <th>toolevents__lifetime</th>\n",
       "      <th>start_datetime</th>\n",
       "    </tr>\n",
       "  </thead>\n",
       "  <tbody>\n",
       "    <tr>\n",
       "      <th>0</th>\n",
       "      <td>19</td>\n",
       "      <td>19</td>\n",
       "      <td>061962588x</td>\n",
       "      <td>2021-04-28 01:54:30</td>\n",
       "      <td>2021-05-27 01:09:33</td>\n",
       "      <td>2021-04-28 03:31:52</td>\n",
       "      <td>2021-05-27 11:19:13</td>\n",
       "      <td>40</td>\n",
       "      <td>NaN</td>\n",
       "      <td>5</td>\n",
       "      <td>NaN</td>\n",
       "      <td>NaN</td>\n",
       "      <td>29</td>\n",
       "      <td>2021-05-27 01:09:33</td>\n",
       "    </tr>\n",
       "    <tr>\n",
       "      <th>1</th>\n",
       "      <td>20</td>\n",
       "      <td>20</td>\n",
       "      <td>061972018x</td>\n",
       "      <td>2021-04-28 02:17:04</td>\n",
       "      <td>2021-05-27 01:13:31</td>\n",
       "      <td>2021-04-28 02:40:49</td>\n",
       "      <td>2021-05-28 01:20:45</td>\n",
       "      <td>66</td>\n",
       "      <td>NaN</td>\n",
       "      <td>4</td>\n",
       "      <td>NaN</td>\n",
       "      <td>NaN</td>\n",
       "      <td>29</td>\n",
       "      <td>2021-05-27 01:13:31</td>\n",
       "    </tr>\n",
       "    <tr>\n",
       "      <th>2</th>\n",
       "      <td>26</td>\n",
       "      <td>26</td>\n",
       "      <td>0808wodlr</td>\n",
       "      <td>2020-11-10 00:04:08</td>\n",
       "      <td>2020-12-08 23:24:41</td>\n",
       "      <td>2020-11-11 00:12:54</td>\n",
       "      <td>2020-12-09 23:28:55</td>\n",
       "      <td>13</td>\n",
       "      <td>NaN</td>\n",
       "      <td>2</td>\n",
       "      <td>NaN</td>\n",
       "      <td>NaN</td>\n",
       "      <td>29</td>\n",
       "      <td>2020-12-08 23:24:41</td>\n",
       "    </tr>\n",
       "    <tr>\n",
       "      <th>3</th>\n",
       "      <td>92</td>\n",
       "      <td>92</td>\n",
       "      <td>12422rahulkumar</td>\n",
       "      <td>2020-09-25 04:02:01</td>\n",
       "      <td>2021-01-05 04:31:11</td>\n",
       "      <td>2020-09-26 07:49:27</td>\n",
       "      <td>2021-01-06 04:38:54</td>\n",
       "      <td>172</td>\n",
       "      <td>NaN</td>\n",
       "      <td>6</td>\n",
       "      <td>NaN</td>\n",
       "      <td>NaN</td>\n",
       "      <td>103</td>\n",
       "      <td>2021-01-05 04:31:11</td>\n",
       "    </tr>\n",
       "    <tr>\n",
       "      <th>4</th>\n",
       "      <td>110</td>\n",
       "      <td>110</td>\n",
       "      <td>13rahul129</td>\n",
       "      <td>2021-05-13 00:20:48</td>\n",
       "      <td>2021-06-04 12:43:29</td>\n",
       "      <td>2021-05-14 00:23:50</td>\n",
       "      <td>2021-06-04 12:58:37</td>\n",
       "      <td>125</td>\n",
       "      <td>NaN</td>\n",
       "      <td>9</td>\n",
       "      <td>NaN</td>\n",
       "      <td>NaN</td>\n",
       "      <td>22</td>\n",
       "      <td>2021-06-04 12:43:29</td>\n",
       "    </tr>\n",
       "    <tr>\n",
       "      <th>...</th>\n",
       "      <td>...</td>\n",
       "      <td>...</td>\n",
       "      <td>...</td>\n",
       "      <td>...</td>\n",
       "      <td>...</td>\n",
       "      <td>...</td>\n",
       "      <td>...</td>\n",
       "      <td>...</td>\n",
       "      <td>...</td>\n",
       "      <td>...</td>\n",
       "      <td>...</td>\n",
       "      <td>...</td>\n",
       "      <td>...</td>\n",
       "      <td>...</td>\n",
       "    </tr>\n",
       "    <tr>\n",
       "      <th>7739</th>\n",
       "      <td>155197</td>\n",
       "      <td>155197</td>\n",
       "      <td>zyliu06</td>\n",
       "      <td>2020-01-21 13:27:47</td>\n",
       "      <td>2021-07-24 03:28:53</td>\n",
       "      <td>2020-01-23 00:48:30</td>\n",
       "      <td>2021-07-25 08:39:07</td>\n",
       "      <td>509</td>\n",
       "      <td>NaN</td>\n",
       "      <td>7</td>\n",
       "      <td>NaN</td>\n",
       "      <td>NaN</td>\n",
       "      <td>550</td>\n",
       "      <td>2021-07-24 03:28:53</td>\n",
       "    </tr>\n",
       "    <tr>\n",
       "      <th>7740</th>\n",
       "      <td>155226</td>\n",
       "      <td>155226</td>\n",
       "      <td>zyzhu</td>\n",
       "      <td>2021-01-30 00:58:07</td>\n",
       "      <td>2021-06-16 11:26:48</td>\n",
       "      <td>2021-01-31 01:11:58</td>\n",
       "      <td>2021-06-17 11:27:52</td>\n",
       "      <td>7</td>\n",
       "      <td>NaN</td>\n",
       "      <td>2</td>\n",
       "      <td>NaN</td>\n",
       "      <td>NaN</td>\n",
       "      <td>138</td>\n",
       "      <td>2021-06-16 11:26:48</td>\n",
       "    </tr>\n",
       "    <tr>\n",
       "      <th>7741</th>\n",
       "      <td>155258</td>\n",
       "      <td>155258</td>\n",
       "      <td>zzhang81</td>\n",
       "      <td>2020-08-26 12:11:38</td>\n",
       "      <td>2020-09-02 12:22:57</td>\n",
       "      <td>2020-08-26 12:12:35</td>\n",
       "      <td>2020-09-03 13:50:35</td>\n",
       "      <td>193</td>\n",
       "      <td>NaN</td>\n",
       "      <td>2</td>\n",
       "      <td>NaN</td>\n",
       "      <td>NaN</td>\n",
       "      <td>8</td>\n",
       "      <td>2020-09-02 12:22:57</td>\n",
       "    </tr>\n",
       "    <tr>\n",
       "      <th>7742</th>\n",
       "      <td>155268</td>\n",
       "      <td>155268</td>\n",
       "      <td>zzhou436</td>\n",
       "      <td>2021-06-21 06:37:27</td>\n",
       "      <td>2021-07-25 08:57:28</td>\n",
       "      <td>2021-06-22 06:37:51</td>\n",
       "      <td>2021-07-26 10:37:37</td>\n",
       "      <td>28</td>\n",
       "      <td>NaN</td>\n",
       "      <td>8</td>\n",
       "      <td>NaN</td>\n",
       "      <td>NaN</td>\n",
       "      <td>35</td>\n",
       "      <td>2021-07-25 08:57:28</td>\n",
       "    </tr>\n",
       "    <tr>\n",
       "      <th>7743</th>\n",
       "      <td>155277</td>\n",
       "      <td>155277</td>\n",
       "      <td>zzmola</td>\n",
       "      <td>2020-10-11 12:21:03</td>\n",
       "      <td>2020-12-09 12:17:22</td>\n",
       "      <td>2020-10-11 12:26:42</td>\n",
       "      <td>2020-12-10 15:57:55</td>\n",
       "      <td>8</td>\n",
       "      <td>NaN</td>\n",
       "      <td>2</td>\n",
       "      <td>NaN</td>\n",
       "      <td>NaN</td>\n",
       "      <td>60</td>\n",
       "      <td>2020-12-09 12:17:22</td>\n",
       "    </tr>\n",
       "  </tbody>\n",
       "</table>\n",
       "<p>7744 rows × 14 columns</p>\n",
       "</div>"
      ],
      "text/plain": [
       "       index  Unnamed: 0             user     first_start_date  \\\n",
       "0         19          19       061962588x  2021-04-28 01:54:30   \n",
       "1         20          20       061972018x  2021-04-28 02:17:04   \n",
       "2         26          26        0808wodlr  2020-11-10 00:04:08   \n",
       "3         92          92  12422rahulkumar  2020-09-25 04:02:01   \n",
       "4        110         110       13rahul129  2021-05-13 00:20:48   \n",
       "...      ...         ...              ...                  ...   \n",
       "7739  155197      155197          zyliu06  2020-01-21 13:27:47   \n",
       "7740  155226      155226            zyzhu  2021-01-30 00:58:07   \n",
       "7741  155258      155258         zzhang81  2020-08-26 12:11:38   \n",
       "7742  155268      155268         zzhou436  2021-06-21 06:37:27   \n",
       "7743  155277      155277           zzmola  2020-10-11 12:21:03   \n",
       "\n",
       "          last_start_date    first_finish_date     last_finish_date  \\\n",
       "0     2021-05-27 01:09:33  2021-04-28 03:31:52  2021-05-27 11:19:13   \n",
       "1     2021-05-27 01:13:31  2021-04-28 02:40:49  2021-05-28 01:20:45   \n",
       "2     2020-12-08 23:24:41  2020-11-11 00:12:54  2020-12-09 23:28:55   \n",
       "3     2021-01-05 04:31:11  2020-09-26 07:49:27  2021-01-06 04:38:54   \n",
       "4     2021-06-04 12:43:29  2021-05-14 00:23:50  2021-06-04 12:58:37   \n",
       "...                   ...                  ...                  ...   \n",
       "7739  2021-07-24 03:28:53  2020-01-23 00:48:30  2021-07-25 08:39:07   \n",
       "7740  2021-06-16 11:26:48  2021-01-31 01:11:58  2021-06-17 11:27:52   \n",
       "7741  2020-09-02 12:22:57  2020-08-26 12:12:35  2020-09-03 13:50:35   \n",
       "7742  2021-07-25 08:57:28  2021-06-22 06:37:51  2021-07-26 10:37:37   \n",
       "7743  2020-12-09 12:17:22  2020-10-11 12:26:42  2020-12-10 15:57:55   \n",
       "\n",
       "      job_count  superjob_count  job_event_days  superjob_event_days  \\\n",
       "0            40             NaN               5                  NaN   \n",
       "1            66             NaN               4                  NaN   \n",
       "2            13             NaN               2                  NaN   \n",
       "3           172             NaN               6                  NaN   \n",
       "4           125             NaN               9                  NaN   \n",
       "...         ...             ...             ...                  ...   \n",
       "7739        509             NaN               7                  NaN   \n",
       "7740          7             NaN               2                  NaN   \n",
       "7741        193             NaN               2                  NaN   \n",
       "7742         28             NaN               8                  NaN   \n",
       "7743          8             NaN               2                  NaN   \n",
       "\n",
       "     last_superjob_start_date  toolevents__lifetime       start_datetime  \n",
       "0                         NaN                    29  2021-05-27 01:09:33  \n",
       "1                         NaN                    29  2021-05-27 01:13:31  \n",
       "2                         NaN                    29  2020-12-08 23:24:41  \n",
       "3                         NaN                   103  2021-01-05 04:31:11  \n",
       "4                         NaN                    22  2021-06-04 12:43:29  \n",
       "...                       ...                   ...                  ...  \n",
       "7739                      NaN                   550  2021-07-24 03:28:53  \n",
       "7740                      NaN                   138  2021-06-16 11:26:48  \n",
       "7741                      NaN                     8  2020-09-02 12:22:57  \n",
       "7742                      NaN                    35  2021-07-25 08:57:28  \n",
       "7743                      NaN                    60  2020-12-09 12:17:22  \n",
       "\n",
       "[7744 rows x 14 columns]"
      ]
     },
     "metadata": {},
     "output_type": "display_data"
    }
   ],
   "source": [
    "df = pd.read_csv(\n",
    "    Path(data_dir, 'unclassified_user_data.csv'),\n",
    "    index_col=False\n",
    ")\n",
    "display(df)"
   ]
  },
  {
   "cell_type": "code",
   "execution_count": 4,
   "id": "061dfdf2-fe13-49c5-bb3d-4eab3735fda2",
   "metadata": {
    "execution": {
     "iopub.execute_input": "2021-08-24T19:33:08.840729Z",
     "iopub.status.busy": "2021-08-24T19:33:08.840168Z",
     "iopub.status.idle": "2021-08-24T19:33:08.857450Z",
     "shell.execute_reply": "2021-08-24T19:33:08.853857Z",
     "shell.execute_reply.started": "2021-08-24T19:33:08.840677Z"
    },
    "tags": [],
    "pycharm": {
     "name": "#%%\n"
    }
   },
   "outputs": [],
   "source": [
    "users = pd.DataFrame(df['user'].unique())\n",
    "users.columns = ['user']"
   ]
  },
  {
   "cell_type": "code",
   "execution_count": 5,
   "id": "ace3e288-4add-4d01-a5f2-02296c73156d",
   "metadata": {
    "execution": {
     "iopub.execute_input": "2021-08-24T19:33:08.865233Z",
     "iopub.status.busy": "2021-08-24T19:33:08.861790Z",
     "iopub.status.idle": "2021-08-24T19:33:08.897620Z",
     "shell.execute_reply": "2021-08-24T19:33:08.896306Z",
     "shell.execute_reply.started": "2021-08-24T19:33:08.865044Z"
    },
    "tags": [],
    "pycharm": {
     "name": "#%%\n"
    }
   },
   "outputs": [],
   "source": [
    "recency_df = df[['user', 'toolevents__lifetime']].copy()\n",
    "recency_df['Recency'] = recency_df['toolevents__lifetime']\n",
    "\n",
    "users = pd.merge(users, recency_df[['user','Recency', 'toolevents__lifetime']], on='user')"
   ]
  },
  {
   "cell_type": "code",
   "execution_count": 6,
   "id": "11abe91d-b0ad-41fe-9484-b4bfb2fc1e27",
   "metadata": {
    "execution": {
     "iopub.execute_input": "2021-08-24T19:33:08.900665Z",
     "iopub.status.busy": "2021-08-24T19:33:08.898844Z",
     "iopub.status.idle": "2021-08-24T19:33:11.563157Z",
     "shell.execute_reply": "2021-08-24T19:33:11.561410Z",
     "shell.execute_reply.started": "2021-08-24T19:33:08.900615Z"
    },
    "tags": [],
    "pycharm": {
     "name": "#%%\n"
    }
   },
   "outputs": [
    {
     "name": "stderr",
     "output_type": "stream",
     "text": [
      "findfont: Font family ['sans-serif'] not found. Falling back to DejaVu Sans.\n",
      "findfont: Generic family 'sans-serif' not found because none of the following families were found: Arial, Liberation Sans, Bitstream Vera Sans, sans-serif\n",
      "findfont: Font family ['sans-serif'] not found. Falling back to DejaVu Sans.\n",
      "findfont: Generic family 'sans-serif' not found because none of the following families were found: Arial, Liberation Sans, Bitstream Vera Sans, sans-serif\n",
      "findfont: Font family ['sans-serif'] not found. Falling back to DejaVu Sans.\n",
      "findfont: Generic family 'sans-serif' not found because none of the following families were found: Arial, Liberation Sans, Bitstream Vera Sans, sans-serif\n"
     ]
    },
    {
     "data": {
      "image/png": "[encoded data removed]",
      "text/plain": [
       "<Figure size 576x396 with 1 Axes>"
      ]
     },
     "metadata": {},
     "output_type": "display_data"
    }
   ],
   "source": [
    "elbow_curve(users[['Recency']])"
   ]
  },
  {
   "cell_type": "code",
   "execution_count": 7,
   "id": "14f4a2f7-1a13-44b2-b9a1-8bc17ad8b539",
   "metadata": {
    "execution": {
     "iopub.execute_input": "2021-08-24T19:33:11.567408Z",
     "iopub.status.busy": "2021-08-24T19:33:11.565839Z",
     "iopub.status.idle": "2021-08-24T19:33:11.698361Z",
     "shell.execute_reply": "2021-08-24T19:33:11.696825Z",
     "shell.execute_reply.started": "2021-08-24T19:33:11.567330Z"
    },
    "pycharm": {
     "name": "#%%\n"
    }
   },
   "outputs": [],
   "source": [
    "kmeans = KMeans(n_clusters=3)\n",
    "kmeans.fit(users[['Recency']])\n",
    "users['RecencyCluster'] = kmeans.predict(users[['Recency']])"
   ]
  },
  {
   "cell_type": "code",
   "execution_count": 8,
   "id": "ac0e51d2-9bc8-42d8-838a-45443c20f23d",
   "metadata": {
    "execution": {
     "iopub.execute_input": "2021-08-24T19:33:11.702708Z",
     "iopub.status.busy": "2021-08-24T19:33:11.701234Z",
     "iopub.status.idle": "2021-08-24T19:33:11.766231Z",
     "shell.execute_reply": "2021-08-24T19:33:11.765067Z",
     "shell.execute_reply.started": "2021-08-24T19:33:11.702646Z"
    },
    "tags": [],
    "pycharm": {
     "name": "#%%\n"
    }
   },
   "outputs": [
    {
     "data": {
      "text/html": [
       "<div>\n",
       "<style scoped>\n",
       "    .dataframe tbody tr th:only-of-type {\n",
       "        vertical-align: middle;\n",
       "    }\n",
       "\n",
       "    .dataframe tbody tr th {\n",
       "        vertical-align: top;\n",
       "    }\n",
       "\n",
       "    .dataframe thead th {\n",
       "        text-align: right;\n",
       "    }\n",
       "</style>\n",
       "<table border=\"1\" class=\"dataframe\">\n",
       "  <thead>\n",
       "    <tr style=\"text-align: right;\">\n",
       "      <th></th>\n",
       "      <th>count</th>\n",
       "      <th>mean</th>\n",
       "      <th>std</th>\n",
       "      <th>min</th>\n",
       "      <th>25%</th>\n",
       "      <th>50%</th>\n",
       "      <th>75%</th>\n",
       "      <th>max</th>\n",
       "    </tr>\n",
       "    <tr>\n",
       "      <th>RecencyCluster</th>\n",
       "      <th></th>\n",
       "      <th></th>\n",
       "      <th></th>\n",
       "      <th></th>\n",
       "      <th></th>\n",
       "      <th></th>\n",
       "      <th></th>\n",
       "      <th></th>\n",
       "    </tr>\n",
       "  </thead>\n",
       "  <tbody>\n",
       "    <tr>\n",
       "      <th>0</th>\n",
       "      <td>6287.0</td>\n",
       "      <td>111.617942</td>\n",
       "      <td>161.704026</td>\n",
       "      <td>2.0</td>\n",
       "      <td>11.0</td>\n",
       "      <td>36.0</td>\n",
       "      <td>135.0</td>\n",
       "      <td>753.0</td>\n",
       "    </tr>\n",
       "    <tr>\n",
       "      <th>1</th>\n",
       "      <td>471.0</td>\n",
       "      <td>3569.619958</td>\n",
       "      <td>793.070297</td>\n",
       "      <td>2485.0</td>\n",
       "      <td>2905.0</td>\n",
       "      <td>3424.0</td>\n",
       "      <td>4104.5</td>\n",
       "      <td>5607.0</td>\n",
       "    </tr>\n",
       "    <tr>\n",
       "      <th>2</th>\n",
       "      <td>986.0</td>\n",
       "      <td>1394.429006</td>\n",
       "      <td>475.002903</td>\n",
       "      <td>755.0</td>\n",
       "      <td>990.5</td>\n",
       "      <td>1308.0</td>\n",
       "      <td>1747.5</td>\n",
       "      <td>2481.0</td>\n",
       "    </tr>\n",
       "  </tbody>\n",
       "</table>\n",
       "</div>"
      ],
      "text/plain": [
       "                 count         mean         std     min     25%     50%  \\\n",
       "RecencyCluster                                                            \n",
       "0               6287.0   111.617942  161.704026     2.0    11.0    36.0   \n",
       "1                471.0  3569.619958  793.070297  2485.0  2905.0  3424.0   \n",
       "2                986.0  1394.429006  475.002903   755.0   990.5  1308.0   \n",
       "\n",
       "                   75%     max  \n",
       "RecencyCluster                  \n",
       "0                135.0   753.0  \n",
       "1               4104.5  5607.0  \n",
       "2               1747.5  2481.0  "
      ]
     },
     "metadata": {},
     "output_type": "display_data"
    }
   ],
   "source": [
    "display(users.groupby('RecencyCluster')['Recency'].describe())"
   ]
  },
  {
   "cell_type": "code",
   "execution_count": 9,
   "id": "f6c39546-d72e-44dc-904f-7d066f3137e4",
   "metadata": {
    "execution": {
     "iopub.execute_input": "2021-08-24T19:33:11.770873Z",
     "iopub.status.busy": "2021-08-24T19:33:11.769111Z",
     "iopub.status.idle": "2021-08-24T19:33:12.040428Z",
     "shell.execute_reply": "2021-08-24T19:33:12.037182Z",
     "shell.execute_reply.started": "2021-08-24T19:33:11.770829Z"
    },
    "pycharm": {
     "name": "#%%\n"
    }
   },
   "outputs": [
    {
     "data": {
      "text/html": [
       "<div>\n",
       "<style scoped>\n",
       "    .dataframe tbody tr th:only-of-type {\n",
       "        vertical-align: middle;\n",
       "    }\n",
       "\n",
       "    .dataframe tbody tr th {\n",
       "        vertical-align: top;\n",
       "    }\n",
       "\n",
       "    .dataframe thead th {\n",
       "        text-align: right;\n",
       "    }\n",
       "</style>\n",
       "<table border=\"1\" class=\"dataframe\">\n",
       "  <thead>\n",
       "    <tr style=\"text-align: right;\">\n",
       "      <th></th>\n",
       "      <th>count</th>\n",
       "      <th>mean</th>\n",
       "      <th>std</th>\n",
       "      <th>min</th>\n",
       "      <th>25%</th>\n",
       "      <th>50%</th>\n",
       "      <th>75%</th>\n",
       "      <th>max</th>\n",
       "    </tr>\n",
       "    <tr>\n",
       "      <th>RecencyCluster</th>\n",
       "      <th></th>\n",
       "      <th></th>\n",
       "      <th></th>\n",
       "      <th></th>\n",
       "      <th></th>\n",
       "      <th></th>\n",
       "      <th></th>\n",
       "      <th></th>\n",
       "    </tr>\n",
       "  </thead>\n",
       "  <tbody>\n",
       "    <tr>\n",
       "      <th>0</th>\n",
       "      <td>952.0</td>\n",
       "      <td>992.713235</td>\n",
       "      <td>306.823803</td>\n",
       "      <td>540.0</td>\n",
       "      <td>732.00</td>\n",
       "      <td>945.0</td>\n",
       "      <td>1249.00</td>\n",
       "      <td>1642.0</td>\n",
       "    </tr>\n",
       "    <tr>\n",
       "      <th>1</th>\n",
       "      <td>472.0</td>\n",
       "      <td>2296.421610</td>\n",
       "      <td>437.019181</td>\n",
       "      <td>1644.0</td>\n",
       "      <td>1881.75</td>\n",
       "      <td>2229.0</td>\n",
       "      <td>2653.25</td>\n",
       "      <td>3157.0</td>\n",
       "    </tr>\n",
       "    <tr>\n",
       "      <th>2</th>\n",
       "      <td>297.0</td>\n",
       "      <td>4028.316498</td>\n",
       "      <td>636.204131</td>\n",
       "      <td>3163.0</td>\n",
       "      <td>3470.00</td>\n",
       "      <td>3878.0</td>\n",
       "      <td>4513.00</td>\n",
       "      <td>5607.0</td>\n",
       "    </tr>\n",
       "    <tr>\n",
       "      <th>3</th>\n",
       "      <td>6023.0</td>\n",
       "      <td>88.420389</td>\n",
       "      <td>119.599789</td>\n",
       "      <td>2.0</td>\n",
       "      <td>10.00</td>\n",
       "      <td>34.0</td>\n",
       "      <td>108.00</td>\n",
       "      <td>539.0</td>\n",
       "    </tr>\n",
       "  </tbody>\n",
       "</table>\n",
       "</div>"
      ],
      "text/plain": [
       "                 count         mean         std     min      25%     50%  \\\n",
       "RecencyCluster                                                             \n",
       "0                952.0   992.713235  306.823803   540.0   732.00   945.0   \n",
       "1                472.0  2296.421610  437.019181  1644.0  1881.75  2229.0   \n",
       "2                297.0  4028.316498  636.204131  3163.0  3470.00  3878.0   \n",
       "3               6023.0    88.420389  119.599789     2.0    10.00    34.0   \n",
       "\n",
       "                    75%     max  \n",
       "RecencyCluster                   \n",
       "0               1249.00  1642.0  \n",
       "1               2653.25  3157.0  \n",
       "2               4513.00  5607.0  \n",
       "3                108.00   539.0  "
      ]
     },
     "metadata": {},
     "output_type": "display_data"
    }
   ],
   "source": [
    "kmeans = KMeans(n_clusters=4)\n",
    "kmeans.fit(users[['Recency']])\n",
    "users['RecencyCluster'] = kmeans.predict(users[['Recency']])\n",
    "display(users.groupby('RecencyCluster')['Recency'].describe())"
   ]
  },
  {
   "cell_type": "code",
   "execution_count": 10,
   "id": "a6ddb551-12c0-447e-9ad4-f983fc7f788f",
   "metadata": {
    "execution": {
     "iopub.execute_input": "2021-08-24T19:33:12.049322Z",
     "iopub.status.busy": "2021-08-24T19:33:12.045127Z",
     "iopub.status.idle": "2021-08-24T19:33:12.168479Z",
     "shell.execute_reply": "2021-08-24T19:33:12.165390Z",
     "shell.execute_reply.started": "2021-08-24T19:33:12.049260Z"
    },
    "pycharm": {
     "name": "#%%\n"
    }
   },
   "outputs": [],
   "source": [
    "users.to_csv(\n",
    "    Path(data_dir, \"recency-clustered.csv\"),\n",
    "    index=False,\n",
    "    index_label=False\n",
    ")"
   ]
  },
  {
   "cell_type": "code",
   "execution_count": null,
   "id": "da6fde4c-b3f3-431c-b289-7cf32ed524e1",
   "metadata": {
    "pycharm": {
     "name": "#%%\n"
    }
   },
   "outputs": [],
   "source": []
  },
  {
   "cell_type": "code",
   "execution_count": 11,
   "id": "f04603b0-ee60-4d66-b728-4b317e03f16e",
   "metadata": {
    "execution": {
     "iopub.execute_input": "2021-08-24T19:33:12.172317Z",
     "iopub.status.busy": "2021-08-24T19:33:12.171183Z",
     "iopub.status.idle": "2021-08-24T19:33:12.317075Z",
     "shell.execute_reply": "2021-08-24T19:33:12.315065Z",
     "shell.execute_reply.started": "2021-08-24T19:33:12.172225Z"
    },
    "pycharm": {
     "name": "#%%\n"
    }
   },
   "outputs": [
    {
     "data": {
      "text/plain": [
       "array([[0.00481713],\n",
       "       [0.00481713],\n",
       "       [0.00481713],\n",
       "       ...,\n",
       "       [0.00107047],\n",
       "       [0.0058876 ],\n",
       "       [0.0103479 ]])"
      ]
     },
     "metadata": {},
     "output_type": "display_data"
    }
   ],
   "source": [
    "scaler = MinMaxScaler()\n",
    "X_scaled=scaler.fit_transform(users[['Recency']])\n",
    "display(X_scaled)"
   ]
  },
  {
   "cell_type": "code",
   "execution_count": 12,
   "id": "4076b8da-1e3e-4a33-beb2-ef09bab9664d",
   "metadata": {
    "execution": {
     "iopub.execute_input": "2021-08-24T19:33:12.320763Z",
     "iopub.status.busy": "2021-08-24T19:33:12.318815Z",
     "iopub.status.idle": "2021-08-24T19:33:46.803676Z",
     "shell.execute_reply": "2021-08-24T19:33:46.803143Z",
     "shell.execute_reply.started": "2021-08-24T19:33:12.320710Z"
    },
    "tags": [],
    "pycharm": {
     "name": "#%%\n"
    }
   },
   "outputs": [
    {
     "name": "stdout",
     "output_type": "stream",
     "text": [
      "Score for number of cluster(s) 2: -50.91711629264083\n",
      "Silhouette score for number of cluster(s) 2: 0.8386860155803045\n",
      "Davies Bouldin score for number of cluster(s) 2: 0.40174492595332456\n"
     ]
    },
    {
     "data": {
      "text/plain": [
       "'Centroids - '"
      ]
     },
     "metadata": {},
     "output_type": "display_data"
    },
    {
     "name": "stdout",
     "output_type": "stream",
     "text": [
      "[[0.03608837]\n",
      " [0.51716703]]\n",
      "----------------------------------------------------------------------------------------------------\n",
      "Score for number of cluster(s) 3: -21.71792568918902\n",
      "Silhouette score for number of cluster(s) 3: 0.8002363640012866\n",
      "Davies Bouldin score for number of cluster(s) 3: 0.45921160078079515\n"
     ]
    },
    {
     "data": {
      "text/plain": [
       "'Centroids - '"
      ]
     },
     "metadata": {},
     "output_type": "display_data"
    },
    {
     "name": "stdout",
     "output_type": "stream",
     "text": [
      "[[0.0192501 ]\n",
      " [0.63404792]\n",
      " [0.24529574]]\n",
      "----------------------------------------------------------------------------------------------------\n",
      "Score for number of cluster(s) 4: -12.269402106637207\n",
      "Silhouette score for number of cluster(s) 4: 0.7814322789013771\n",
      "Davies Bouldin score for number of cluster(s) 4: 0.4866042751808074\n"
     ]
    },
    {
     "data": {
      "text/plain": [
       "'Centroids - '"
      ]
     },
     "metadata": {},
     "output_type": "display_data"
    },
    {
     "name": "stdout",
     "output_type": "stream",
     "text": [
      "[[0.40689365]\n",
      " [0.01539177]\n",
      " [0.71525188]\n",
      " [0.17634184]]\n",
      "----------------------------------------------------------------------------------------------------\n",
      "Score for number of cluster(s) 5: -7.989061257087865\n",
      "Silhouette score for number of cluster(s) 5: 0.7596279804195719\n",
      "Davies Bouldin score for number of cluster(s) 5: 0.4920770903887831\n"
     ]
    },
    {
     "data": {
      "text/plain": [
       "'Centroids - '"
      ]
     },
     "metadata": {},
     "output_type": "display_data"
    },
    {
     "name": "stdout",
     "output_type": "stream",
     "text": [
      "[[0.01291247]\n",
      " [0.53388057]\n",
      " [0.30081792]\n",
      " [0.79500861]\n",
      " [0.1340377 ]]\n",
      "----------------------------------------------------------------------------------------------------\n",
      "Score for number of cluster(s) 6: -5.4530587616012\n",
      "Silhouette score for number of cluster(s) 6: 0.7445325837117338\n",
      "Davies Bouldin score for number of cluster(s) 6: 0.4783824374180126\n"
     ]
    },
    {
     "data": {
      "text/plain": [
       "'Centroids - '"
      ]
     },
     "metadata": {},
     "output_type": "display_data"
    },
    {
     "name": "stdout",
     "output_type": "stream",
     "text": [
      "[[0.82608841]\n",
      " [0.01059221]\n",
      " [0.24095319]\n",
      " [0.6019023 ]\n",
      " [0.10352573]\n",
      " [0.41187665]]\n",
      "----------------------------------------------------------------------------------------------------\n",
      "Score for number of cluster(s) 7: -3.868900195921282\n",
      "Silhouette score for number of cluster(s) 7: 0.7226161601491786\n",
      "Davies Bouldin score for number of cluster(s) 7: 0.48314370202556517\n"
     ]
    },
    {
     "data": {
      "text/plain": [
       "'Centroids - '"
      ]
     },
     "metadata": {},
     "output_type": "display_data"
    },
    {
     "name": "stdout",
     "output_type": "stream",
     "text": [
      "[[0.0077241 ]\n",
      " [0.44283161]\n",
      " [0.16356081]\n",
      " [0.84018848]\n",
      " [0.06716368]\n",
      " [0.28159622]\n",
      " [0.62615387]]\n",
      "----------------------------------------------------------------------------------------------------\n",
      "Score for number of cluster(s) 8: -2.927477390687657\n",
      "Silhouette score for number of cluster(s) 8: 0.7156405749559109\n",
      "Davies Bouldin score for number of cluster(s) 8: 0.4778679020507659\n"
     ]
    },
    {
     "data": {
      "text/plain": [
       "'Centroids - '"
      ]
     },
     "metadata": {},
     "output_type": "display_data"
    },
    {
     "name": "stdout",
     "output_type": "stream",
     "text": [
      "[[0.00685481]\n",
      " [0.48690222]\n",
      " [0.22895127]\n",
      " [0.64225071]\n",
      " [0.34763831]\n",
      " [0.13375548]\n",
      " [0.84473206]\n",
      " [0.056389  ]]\n",
      "----------------------------------------------------------------------------------------------------\n",
      "Score for number of cluster(s) 9: -2.3959478295355146\n",
      "Silhouette score for number of cluster(s) 9: 0.7160467703511375\n",
      "Davies Bouldin score for number of cluster(s) 9: 0.48278635081924004\n"
     ]
    },
    {
     "data": {
      "text/plain": [
       "'Centroids - '"
      ]
     },
     "metadata": {},
     "output_type": "display_data"
    },
    {
     "name": "stdout",
     "output_type": "stream",
     "text": [
      "[[0.00700075]\n",
      " [0.75174197]\n",
      " [0.23026543]\n",
      " [0.13609035]\n",
      " [0.05786074]\n",
      " [0.47354566]\n",
      " [0.90326428]\n",
      " [0.34562268]\n",
      " [0.6059153 ]]\n",
      "----------------------------------------------------------------------------------------------------\n",
      "Score for number of cluster(s) 10: -1.961905305935876\n",
      "Silhouette score for number of cluster(s) 10: 0.7120285101243199\n",
      "Davies Bouldin score for number of cluster(s) 10: 0.48462680491558296\n"
     ]
    },
    {
     "data": {
      "text/plain": [
       "'Centroids - '"
      ]
     },
     "metadata": {},
     "output_type": "display_data"
    },
    {
     "name": "stdout",
     "output_type": "stream",
     "text": [
      "[[0.00678648]\n",
      " [0.49104116]\n",
      " [0.12809614]\n",
      " [0.765835  ]\n",
      " [0.21166184]\n",
      " [0.05510333]\n",
      " [0.61973837]\n",
      " [0.38961885]\n",
      " [0.29682865]\n",
      " [0.90884924]]\n",
      "----------------------------------------------------------------------------------------------------\n"
     ]
    },
    {
     "data": {
      "image/png": "[encoded data removed]",
      "text/plain": [
       "<Figure size 1080x576 with 10 Axes>"
      ]
     },
     "metadata": {},
     "output_type": "display_data"
    }
   ],
   "source": [
    "display_cluster_info(X_scaled)"
   ]
  }
 ],
 "metadata": {
  "kernelspec": {
   "display_name": "Python 3 (ipykernel)",
   "language": "python",
   "name": "python3"
  },
  "language_info": {
   "codemirror_mode": {
    "name": "ipython",
    "version": 3
   },
   "file_extension": ".py",
   "mimetype": "text/x-python",
   "name": "python",
   "nbconvert_exporter": "python",
   "pygments_lexer": "ipython3",
   "version": "3.8.10"
  }
 },
 "nbformat": 4,
 "nbformat_minor": 5
}