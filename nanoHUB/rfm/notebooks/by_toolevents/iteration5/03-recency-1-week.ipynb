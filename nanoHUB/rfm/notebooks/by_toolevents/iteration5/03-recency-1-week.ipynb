{
 "cells": [
  {
   "cell_type": "code",
   "execution_count": 1,
   "id": "d467e86a-ec0f-4da4-a1bc-47f9ca90386d",
   "metadata": {
    "execution": {
     "iopub.execute_input": "2021-08-24T18:19:29.109414Z",
     "iopub.status.busy": "2021-08-24T18:19:29.109216Z",
     "iopub.status.idle": "2021-08-24T18:19:30.540508Z",
     "shell.execute_reply": "2021-08-24T18:19:30.539400Z",
     "shell.execute_reply.started": "2021-08-24T18:19:29.109357Z"
    },
    "tags": []
   },
   "outputs": [
    {
     "name": "stdout",
     "output_type": "stream",
     "text": [
      "\u001b[1mnanoHUB - Serving Students, Researchers & Instructors\u001b[0m\n"
     ]
    }
   ],
   "source": [
    "from pathlib import Path\n",
    "import os\n",
    "import pandas as pd\n",
    "\n",
    "import seaborn as sns\n",
    "from sklearn.cluster import KMeans\n",
    "from sklearn.preprocessing import StandardScaler\n",
    "from sklearn.preprocessing import MinMaxScaler\n",
    "from sklearn.manifold import TSNE\n",
    "from sklearn.metrics import silhouette_score\n",
    "from sklearn.metrics import davies_bouldin_score,v_measure_score\n",
    "from yellowbrick.cluster import SilhouetteVisualizer\n",
    "import matplotlib.pyplot as plt\n",
    "\n",
    "from nanoHUB.rfm.functions import CacheDirs, elbow_curve, display_cluster_info"
   ]
  },
  {
   "cell_type": "code",
   "execution_count": 2,
   "id": "f1a9afec-311b-413d-a51a-1b64417cdbfb",
   "metadata": {
    "execution": {
     "iopub.execute_input": "2021-08-24T18:19:30.541987Z",
     "iopub.status.busy": "2021-08-24T18:19:30.541782Z",
     "iopub.status.idle": "2021-08-24T18:19:30.547711Z",
     "shell.execute_reply": "2021-08-24T18:19:30.546381Z",
     "shell.execute_reply.started": "2021-08-24T18:19:30.541964Z"
    }
   },
   "outputs": [],
   "source": [
    "cached_dirs = CacheDirs()"
   ]
  },
  {
   "cell_type": "code",
   "execution_count": 3,
   "id": "d4f3391b-4a89-4521-9e70-5de0e3d5d22a",
   "metadata": {
    "execution": {
     "iopub.execute_input": "2021-08-24T18:19:30.550747Z",
     "iopub.status.busy": "2021-08-24T18:19:30.550509Z",
     "iopub.status.idle": "2021-08-24T18:19:30.609982Z",
     "shell.execute_reply": "2021-08-24T18:19:30.608380Z",
     "shell.execute_reply.started": "2021-08-24T18:19:30.550723Z"
    },
    "tags": []
   },
   "outputs": [
    {
     "data": {
      "text/html": [
       "<div>\n",
       "<style scoped>\n",
       "    .dataframe tbody tr th:only-of-type {\n",
       "        vertical-align: middle;\n",
       "    }\n",
       "\n",
       "    .dataframe tbody tr th {\n",
       "        vertical-align: top;\n",
       "    }\n",
       "\n",
       "    .dataframe thead th {\n",
       "        text-align: right;\n",
       "    }\n",
       "</style>\n",
       "<table border=\"1\" class=\"dataframe\">\n",
       "  <thead>\n",
       "    <tr style=\"text-align: right;\">\n",
       "      <th></th>\n",
       "      <th>index</th>\n",
       "      <th>Unnamed: 0</th>\n",
       "      <th>user</th>\n",
       "      <th>first_start_date</th>\n",
       "      <th>last_start_date</th>\n",
       "      <th>first_finish_date</th>\n",
       "      <th>last_finish_date</th>\n",
       "      <th>job_count</th>\n",
       "      <th>superjob_count</th>\n",
       "      <th>job_event_days</th>\n",
       "      <th>superjob_event_days</th>\n",
       "      <th>last_superjob_start_date</th>\n",
       "      <th>toolevents__lifetime</th>\n",
       "      <th>start_datetime</th>\n",
       "    </tr>\n",
       "  </thead>\n",
       "  <tbody>\n",
       "    <tr>\n",
       "      <th>0</th>\n",
       "      <td>19</td>\n",
       "      <td>19</td>\n",
       "      <td>061962588x</td>\n",
       "      <td>2021-04-28 01:54:30</td>\n",
       "      <td>2021-05-27 01:09:33</td>\n",
       "      <td>2021-04-28 03:31:52</td>\n",
       "      <td>2021-05-27 11:19:13</td>\n",
       "      <td>40</td>\n",
       "      <td>NaN</td>\n",
       "      <td>5</td>\n",
       "      <td>NaN</td>\n",
       "      <td>NaN</td>\n",
       "      <td>29</td>\n",
       "      <td>2021-04-28 01:54:30</td>\n",
       "    </tr>\n",
       "    <tr>\n",
       "      <th>1</th>\n",
       "      <td>20</td>\n",
       "      <td>20</td>\n",
       "      <td>061972018x</td>\n",
       "      <td>2021-04-28 02:17:04</td>\n",
       "      <td>2021-05-27 01:13:31</td>\n",
       "      <td>2021-04-28 02:40:49</td>\n",
       "      <td>2021-05-28 01:20:45</td>\n",
       "      <td>66</td>\n",
       "      <td>NaN</td>\n",
       "      <td>4</td>\n",
       "      <td>NaN</td>\n",
       "      <td>NaN</td>\n",
       "      <td>29</td>\n",
       "      <td>2021-04-28 02:17:04</td>\n",
       "    </tr>\n",
       "    <tr>\n",
       "      <th>2</th>\n",
       "      <td>26</td>\n",
       "      <td>26</td>\n",
       "      <td>0808wodlr</td>\n",
       "      <td>2020-11-10 00:04:08</td>\n",
       "      <td>2020-12-08 23:24:41</td>\n",
       "      <td>2020-11-11 00:12:54</td>\n",
       "      <td>2020-12-09 23:28:55</td>\n",
       "      <td>13</td>\n",
       "      <td>NaN</td>\n",
       "      <td>2</td>\n",
       "      <td>NaN</td>\n",
       "      <td>NaN</td>\n",
       "      <td>29</td>\n",
       "      <td>2020-11-10 00:04:08</td>\n",
       "    </tr>\n",
       "    <tr>\n",
       "      <th>3</th>\n",
       "      <td>92</td>\n",
       "      <td>92</td>\n",
       "      <td>12422rahulkumar</td>\n",
       "      <td>2020-09-25 04:02:01</td>\n",
       "      <td>2021-01-05 04:31:11</td>\n",
       "      <td>2020-09-26 07:49:27</td>\n",
       "      <td>2021-01-06 04:38:54</td>\n",
       "      <td>172</td>\n",
       "      <td>NaN</td>\n",
       "      <td>6</td>\n",
       "      <td>NaN</td>\n",
       "      <td>NaN</td>\n",
       "      <td>103</td>\n",
       "      <td>2020-09-25 04:02:01</td>\n",
       "    </tr>\n",
       "    <tr>\n",
       "      <th>4</th>\n",
       "      <td>110</td>\n",
       "      <td>110</td>\n",
       "      <td>13rahul129</td>\n",
       "      <td>2021-05-13 00:20:48</td>\n",
       "      <td>2021-06-04 12:43:29</td>\n",
       "      <td>2021-05-14 00:23:50</td>\n",
       "      <td>2021-06-04 12:58:37</td>\n",
       "      <td>125</td>\n",
       "      <td>NaN</td>\n",
       "      <td>9</td>\n",
       "      <td>NaN</td>\n",
       "      <td>NaN</td>\n",
       "      <td>22</td>\n",
       "      <td>2021-05-13 00:20:48</td>\n",
       "    </tr>\n",
       "    <tr>\n",
       "      <th>...</th>\n",
       "      <td>...</td>\n",
       "      <td>...</td>\n",
       "      <td>...</td>\n",
       "      <td>...</td>\n",
       "      <td>...</td>\n",
       "      <td>...</td>\n",
       "      <td>...</td>\n",
       "      <td>...</td>\n",
       "      <td>...</td>\n",
       "      <td>...</td>\n",
       "      <td>...</td>\n",
       "      <td>...</td>\n",
       "      <td>...</td>\n",
       "      <td>...</td>\n",
       "    </tr>\n",
       "    <tr>\n",
       "      <th>4985</th>\n",
       "      <td>155160</td>\n",
       "      <td>155160</td>\n",
       "      <td>zy2421</td>\n",
       "      <td>2021-02-14 04:29:11</td>\n",
       "      <td>2021-02-16 09:13:55</td>\n",
       "      <td>2021-02-14 21:40:06</td>\n",
       "      <td>2021-02-24 14:01:43</td>\n",
       "      <td>372</td>\n",
       "      <td>NaN</td>\n",
       "      <td>3</td>\n",
       "      <td>NaN</td>\n",
       "      <td>NaN</td>\n",
       "      <td>10</td>\n",
       "      <td>2021-02-14 04:29:11</td>\n",
       "    </tr>\n",
       "    <tr>\n",
       "      <th>4986</th>\n",
       "      <td>155226</td>\n",
       "      <td>155226</td>\n",
       "      <td>zyzhu</td>\n",
       "      <td>2021-01-30 00:58:07</td>\n",
       "      <td>2021-06-16 11:26:48</td>\n",
       "      <td>2021-01-31 01:11:58</td>\n",
       "      <td>2021-06-17 11:27:52</td>\n",
       "      <td>7</td>\n",
       "      <td>NaN</td>\n",
       "      <td>2</td>\n",
       "      <td>NaN</td>\n",
       "      <td>NaN</td>\n",
       "      <td>138</td>\n",
       "      <td>2021-01-30 00:58:07</td>\n",
       "    </tr>\n",
       "    <tr>\n",
       "      <th>4987</th>\n",
       "      <td>155258</td>\n",
       "      <td>155258</td>\n",
       "      <td>zzhang81</td>\n",
       "      <td>2020-08-26 12:11:38</td>\n",
       "      <td>2020-09-02 12:22:57</td>\n",
       "      <td>2020-08-26 12:12:35</td>\n",
       "      <td>2020-09-03 13:50:35</td>\n",
       "      <td>193</td>\n",
       "      <td>NaN</td>\n",
       "      <td>2</td>\n",
       "      <td>NaN</td>\n",
       "      <td>NaN</td>\n",
       "      <td>8</td>\n",
       "      <td>2020-08-26 12:11:38</td>\n",
       "    </tr>\n",
       "    <tr>\n",
       "      <th>4988</th>\n",
       "      <td>155268</td>\n",
       "      <td>155268</td>\n",
       "      <td>zzhou436</td>\n",
       "      <td>2021-06-21 06:37:27</td>\n",
       "      <td>2021-07-25 08:57:28</td>\n",
       "      <td>2021-06-22 06:37:51</td>\n",
       "      <td>2021-07-26 10:37:37</td>\n",
       "      <td>28</td>\n",
       "      <td>NaN</td>\n",
       "      <td>8</td>\n",
       "      <td>NaN</td>\n",
       "      <td>NaN</td>\n",
       "      <td>35</td>\n",
       "      <td>2021-06-21 06:37:27</td>\n",
       "    </tr>\n",
       "    <tr>\n",
       "      <th>4989</th>\n",
       "      <td>155277</td>\n",
       "      <td>155277</td>\n",
       "      <td>zzmola</td>\n",
       "      <td>2020-10-11 12:21:03</td>\n",
       "      <td>2020-12-09 12:17:22</td>\n",
       "      <td>2020-10-11 12:26:42</td>\n",
       "      <td>2020-12-10 15:57:55</td>\n",
       "      <td>8</td>\n",
       "      <td>NaN</td>\n",
       "      <td>2</td>\n",
       "      <td>NaN</td>\n",
       "      <td>NaN</td>\n",
       "      <td>60</td>\n",
       "      <td>2020-10-11 12:21:03</td>\n",
       "    </tr>\n",
       "  </tbody>\n",
       "</table>\n",
       "<p>4990 rows × 14 columns</p>\n",
       "</div>"
      ],
      "text/plain": [
       "       index  Unnamed: 0             user     first_start_date  \\\n",
       "0         19          19       061962588x  2021-04-28 01:54:30   \n",
       "1         20          20       061972018x  2021-04-28 02:17:04   \n",
       "2         26          26        0808wodlr  2020-11-10 00:04:08   \n",
       "3         92          92  12422rahulkumar  2020-09-25 04:02:01   \n",
       "4        110         110       13rahul129  2021-05-13 00:20:48   \n",
       "...      ...         ...              ...                  ...   \n",
       "4985  155160      155160           zy2421  2021-02-14 04:29:11   \n",
       "4986  155226      155226            zyzhu  2021-01-30 00:58:07   \n",
       "4987  155258      155258         zzhang81  2020-08-26 12:11:38   \n",
       "4988  155268      155268         zzhou436  2021-06-21 06:37:27   \n",
       "4989  155277      155277           zzmola  2020-10-11 12:21:03   \n",
       "\n",
       "          last_start_date    first_finish_date     last_finish_date  \\\n",
       "0     2021-05-27 01:09:33  2021-04-28 03:31:52  2021-05-27 11:19:13   \n",
       "1     2021-05-27 01:13:31  2021-04-28 02:40:49  2021-05-28 01:20:45   \n",
       "2     2020-12-08 23:24:41  2020-11-11 00:12:54  2020-12-09 23:28:55   \n",
       "3     2021-01-05 04:31:11  2020-09-26 07:49:27  2021-01-06 04:38:54   \n",
       "4     2021-06-04 12:43:29  2021-05-14 00:23:50  2021-06-04 12:58:37   \n",
       "...                   ...                  ...                  ...   \n",
       "4985  2021-02-16 09:13:55  2021-02-14 21:40:06  2021-02-24 14:01:43   \n",
       "4986  2021-06-16 11:26:48  2021-01-31 01:11:58  2021-06-17 11:27:52   \n",
       "4987  2020-09-02 12:22:57  2020-08-26 12:12:35  2020-09-03 13:50:35   \n",
       "4988  2021-07-25 08:57:28  2021-06-22 06:37:51  2021-07-26 10:37:37   \n",
       "4989  2020-12-09 12:17:22  2020-10-11 12:26:42  2020-12-10 15:57:55   \n",
       "\n",
       "      job_count  superjob_count  job_event_days  superjob_event_days  \\\n",
       "0            40             NaN               5                  NaN   \n",
       "1            66             NaN               4                  NaN   \n",
       "2            13             NaN               2                  NaN   \n",
       "3           172             NaN               6                  NaN   \n",
       "4           125             NaN               9                  NaN   \n",
       "...         ...             ...             ...                  ...   \n",
       "4985        372             NaN               3                  NaN   \n",
       "4986          7             NaN               2                  NaN   \n",
       "4987        193             NaN               2                  NaN   \n",
       "4988         28             NaN               8                  NaN   \n",
       "4989          8             NaN               2                  NaN   \n",
       "\n",
       "     last_superjob_start_date  toolevents__lifetime       start_datetime  \n",
       "0                         NaN                    29  2021-04-28 01:54:30  \n",
       "1                         NaN                    29  2021-04-28 02:17:04  \n",
       "2                         NaN                    29  2020-11-10 00:04:08  \n",
       "3                         NaN                   103  2020-09-25 04:02:01  \n",
       "4                         NaN                    22  2021-05-13 00:20:48  \n",
       "...                       ...                   ...                  ...  \n",
       "4985                      NaN                    10  2021-02-14 04:29:11  \n",
       "4986                      NaN                   138  2021-01-30 00:58:07  \n",
       "4987                      NaN                     8  2020-08-26 12:11:38  \n",
       "4988                      NaN                    35  2021-06-21 06:37:27  \n",
       "4989                      NaN                    60  2020-10-11 12:21:03  \n",
       "\n",
       "[4990 rows x 14 columns]"
      ]
     },
     "metadata": {},
     "output_type": "display_data"
    }
   ],
   "source": [
    "df = pd.read_csv(\n",
    "    Path(cached_dirs.cache_dir, 'unclassified_user_data_iteration5.csv'),\n",
    "    index_col=False\n",
    ")\n",
    "display(df)"
   ]
  },
  {
   "cell_type": "code",
   "execution_count": 4,
   "id": "061dfdf2-fe13-49c5-bb3d-4eab3735fda2",
   "metadata": {
    "execution": {
     "iopub.execute_input": "2021-08-24T18:19:30.612654Z",
     "iopub.status.busy": "2021-08-24T18:19:30.612164Z",
     "iopub.status.idle": "2021-08-24T18:19:30.625392Z",
     "shell.execute_reply": "2021-08-24T18:19:30.623252Z",
     "shell.execute_reply.started": "2021-08-24T18:19:30.612614Z"
    },
    "tags": []
   },
   "outputs": [],
   "source": [
    "users = pd.DataFrame(df['user'].unique())\n",
    "users.columns = ['user']"
   ]
  },
  {
   "cell_type": "code",
   "execution_count": 5,
   "id": "ace3e288-4add-4d01-a5f2-02296c73156d",
   "metadata": {
    "execution": {
     "iopub.execute_input": "2021-08-24T18:19:30.628851Z",
     "iopub.status.busy": "2021-08-24T18:19:30.626967Z",
     "iopub.status.idle": "2021-08-24T18:19:30.649807Z",
     "shell.execute_reply": "2021-08-24T18:19:30.647156Z",
     "shell.execute_reply.started": "2021-08-24T18:19:30.628816Z"
    },
    "tags": []
   },
   "outputs": [],
   "source": [
    "recency_df = df[['user', 'toolevents__lifetime']].copy()\n",
    "recency_df['Recency'] = recency_df['toolevents__lifetime']\n",
    "\n",
    "users = pd.merge(users, recency_df[['user','Recency', 'toolevents__lifetime']], on='user')"
   ]
  },
  {
   "cell_type": "code",
   "execution_count": 6,
   "id": "11abe91d-b0ad-41fe-9484-b4bfb2fc1e27",
   "metadata": {
    "execution": {
     "iopub.execute_input": "2021-08-24T18:19:30.652989Z",
     "iopub.status.busy": "2021-08-24T18:19:30.651313Z",
     "iopub.status.idle": "2021-08-24T18:19:31.858412Z",
     "shell.execute_reply": "2021-08-24T18:19:31.857248Z",
     "shell.execute_reply.started": "2021-08-24T18:19:30.652950Z"
    },
    "tags": []
   },
   "outputs": [
    {
     "name": "stderr",
     "output_type": "stream",
     "text": [
      "findfont: Font family ['sans-serif'] not found. Falling back to DejaVu Sans.\n",
      "findfont: Generic family 'sans-serif' not found because none of the following families were found: Arial, Liberation Sans, Bitstream Vera Sans, sans-serif\n",
      "findfont: Font family ['sans-serif'] not found. Falling back to DejaVu Sans.\n",
      "findfont: Generic family 'sans-serif' not found because none of the following families were found: Arial, Liberation Sans, Bitstream Vera Sans, sans-serif\n",
      "findfont: Font family ['sans-serif'] not found. Falling back to DejaVu Sans.\n",
      "findfont: Generic family 'sans-serif' not found because none of the following families were found: Arial, Liberation Sans, Bitstream Vera Sans, sans-serif\n"
     ]
    },
    {
     "data": {
      "image/png": "[encoded data removed]",
      "text/plain": [
       "<Figure size 576x396 with 1 Axes>"
      ]
     },
     "metadata": {},
     "output_type": "display_data"
    }
   ],
   "source": [
    "elbow_curve(users[['Recency']])"
   ]
  },
  {
   "cell_type": "code",
   "execution_count": 7,
   "id": "14f4a2f7-1a13-44b2-b9a1-8bc17ad8b539",
   "metadata": {
    "execution": {
     "iopub.execute_input": "2021-08-24T18:19:31.861068Z",
     "iopub.status.busy": "2021-08-24T18:19:31.859712Z",
     "iopub.status.idle": "2021-08-24T18:19:31.941703Z",
     "shell.execute_reply": "2021-08-24T18:19:31.941308Z",
     "shell.execute_reply.started": "2021-08-24T18:19:31.860934Z"
    }
   },
   "outputs": [],
   "source": [
    "kmeans = KMeans(n_clusters=3)\n",
    "kmeans.fit(users[['Recency']])\n",
    "users['RecencyCluster'] = kmeans.predict(users[['Recency']])"
   ]
  },
  {
   "cell_type": "code",
   "execution_count": 8,
   "id": "ac0e51d2-9bc8-42d8-838a-45443c20f23d",
   "metadata": {
    "execution": {
     "iopub.execute_input": "2021-08-24T18:19:31.942947Z",
     "iopub.status.busy": "2021-08-24T18:19:31.942651Z",
     "iopub.status.idle": "2021-08-24T18:19:31.975690Z",
     "shell.execute_reply": "2021-08-24T18:19:31.973891Z",
     "shell.execute_reply.started": "2021-08-24T18:19:31.942928Z"
    },
    "tags": []
   },
   "outputs": [
    {
     "data": {
      "text/html": [
       "<div>\n",
       "<style scoped>\n",
       "    .dataframe tbody tr th:only-of-type {\n",
       "        vertical-align: middle;\n",
       "    }\n",
       "\n",
       "    .dataframe tbody tr th {\n",
       "        vertical-align: top;\n",
       "    }\n",
       "\n",
       "    .dataframe thead th {\n",
       "        text-align: right;\n",
       "    }\n",
       "</style>\n",
       "<table border=\"1\" class=\"dataframe\">\n",
       "  <thead>\n",
       "    <tr style=\"text-align: right;\">\n",
       "      <th></th>\n",
       "      <th>count</th>\n",
       "      <th>mean</th>\n",
       "      <th>std</th>\n",
       "      <th>min</th>\n",
       "      <th>25%</th>\n",
       "      <th>50%</th>\n",
       "      <th>75%</th>\n",
       "      <th>max</th>\n",
       "    </tr>\n",
       "    <tr>\n",
       "      <th>RecencyCluster</th>\n",
       "      <th></th>\n",
       "      <th></th>\n",
       "      <th></th>\n",
       "      <th></th>\n",
       "      <th></th>\n",
       "      <th></th>\n",
       "      <th></th>\n",
       "      <th></th>\n",
       "    </tr>\n",
       "  </thead>\n",
       "  <tbody>\n",
       "    <tr>\n",
       "      <th>0</th>\n",
       "      <td>3505.0</td>\n",
       "      <td>17.081027</td>\n",
       "      <td>13.700159</td>\n",
       "      <td>2.0</td>\n",
       "      <td>5.0</td>\n",
       "      <td>13.0</td>\n",
       "      <td>27.0</td>\n",
       "      <td>51.0</td>\n",
       "    </tr>\n",
       "    <tr>\n",
       "      <th>1</th>\n",
       "      <td>422.0</td>\n",
       "      <td>204.933649</td>\n",
       "      <td>46.420779</td>\n",
       "      <td>146.0</td>\n",
       "      <td>166.0</td>\n",
       "      <td>195.0</td>\n",
       "      <td>237.0</td>\n",
       "      <td>338.0</td>\n",
       "    </tr>\n",
       "    <tr>\n",
       "      <th>2</th>\n",
       "      <td>1063.0</td>\n",
       "      <td>85.973659</td>\n",
       "      <td>24.365030</td>\n",
       "      <td>52.0</td>\n",
       "      <td>66.0</td>\n",
       "      <td>83.0</td>\n",
       "      <td>102.0</td>\n",
       "      <td>145.0</td>\n",
       "    </tr>\n",
       "  </tbody>\n",
       "</table>\n",
       "</div>"
      ],
      "text/plain": [
       "                 count        mean        std    min    25%    50%    75%  \\\n",
       "RecencyCluster                                                              \n",
       "0               3505.0   17.081027  13.700159    2.0    5.0   13.0   27.0   \n",
       "1                422.0  204.933649  46.420779  146.0  166.0  195.0  237.0   \n",
       "2               1063.0   85.973659  24.365030   52.0   66.0   83.0  102.0   \n",
       "\n",
       "                  max  \n",
       "RecencyCluster         \n",
       "0                51.0  \n",
       "1               338.0  \n",
       "2               145.0  "
      ]
     },
     "metadata": {},
     "output_type": "display_data"
    }
   ],
   "source": [
    "display(users.groupby('RecencyCluster')['Recency'].describe())"
   ]
  },
  {
   "cell_type": "code",
   "execution_count": 9,
   "id": "f6c39546-d72e-44dc-904f-7d066f3137e4",
   "metadata": {
    "execution": {
     "iopub.execute_input": "2021-08-24T18:19:31.979914Z",
     "iopub.status.busy": "2021-08-24T18:19:31.978169Z",
     "iopub.status.idle": "2021-08-24T18:19:32.189807Z",
     "shell.execute_reply": "2021-08-24T18:19:32.188857Z",
     "shell.execute_reply.started": "2021-08-24T18:19:31.979617Z"
    }
   },
   "outputs": [
    {
     "data": {
      "text/html": [
       "<div>\n",
       "<style scoped>\n",
       "    .dataframe tbody tr th:only-of-type {\n",
       "        vertical-align: middle;\n",
       "    }\n",
       "\n",
       "    .dataframe tbody tr th {\n",
       "        vertical-align: top;\n",
       "    }\n",
       "\n",
       "    .dataframe thead th {\n",
       "        text-align: right;\n",
       "    }\n",
       "</style>\n",
       "<table border=\"1\" class=\"dataframe\">\n",
       "  <thead>\n",
       "    <tr style=\"text-align: right;\">\n",
       "      <th></th>\n",
       "      <th>count</th>\n",
       "      <th>mean</th>\n",
       "      <th>std</th>\n",
       "      <th>min</th>\n",
       "      <th>25%</th>\n",
       "      <th>50%</th>\n",
       "      <th>75%</th>\n",
       "      <th>max</th>\n",
       "    </tr>\n",
       "    <tr>\n",
       "      <th>RecencyCluster</th>\n",
       "      <th></th>\n",
       "      <th></th>\n",
       "      <th></th>\n",
       "      <th></th>\n",
       "      <th></th>\n",
       "      <th></th>\n",
       "      <th></th>\n",
       "      <th></th>\n",
       "    </tr>\n",
       "  </thead>\n",
       "  <tbody>\n",
       "    <tr>\n",
       "      <th>0</th>\n",
       "      <td>1073.0</td>\n",
       "      <td>71.630009</td>\n",
       "      <td>18.513411</td>\n",
       "      <td>44.0</td>\n",
       "      <td>56.0</td>\n",
       "      <td>70.0</td>\n",
       "      <td>86.0</td>\n",
       "      <td>110.0</td>\n",
       "    </tr>\n",
       "    <tr>\n",
       "      <th>1</th>\n",
       "      <td>407.0</td>\n",
       "      <td>148.540541</td>\n",
       "      <td>24.189985</td>\n",
       "      <td>111.0</td>\n",
       "      <td>127.0</td>\n",
       "      <td>148.0</td>\n",
       "      <td>168.0</td>\n",
       "      <td>196.0</td>\n",
       "    </tr>\n",
       "    <tr>\n",
       "      <th>2</th>\n",
       "      <td>3305.0</td>\n",
       "      <td>15.223601</td>\n",
       "      <td>11.757432</td>\n",
       "      <td>2.0</td>\n",
       "      <td>5.0</td>\n",
       "      <td>12.0</td>\n",
       "      <td>24.0</td>\n",
       "      <td>43.0</td>\n",
       "    </tr>\n",
       "    <tr>\n",
       "      <th>3</th>\n",
       "      <td>205.0</td>\n",
       "      <td>244.448780</td>\n",
       "      <td>33.947098</td>\n",
       "      <td>197.0</td>\n",
       "      <td>216.0</td>\n",
       "      <td>238.0</td>\n",
       "      <td>269.0</td>\n",
       "      <td>338.0</td>\n",
       "    </tr>\n",
       "  </tbody>\n",
       "</table>\n",
       "</div>"
      ],
      "text/plain": [
       "                 count        mean        std    min    25%    50%    75%  \\\n",
       "RecencyCluster                                                              \n",
       "0               1073.0   71.630009  18.513411   44.0   56.0   70.0   86.0   \n",
       "1                407.0  148.540541  24.189985  111.0  127.0  148.0  168.0   \n",
       "2               3305.0   15.223601  11.757432    2.0    5.0   12.0   24.0   \n",
       "3                205.0  244.448780  33.947098  197.0  216.0  238.0  269.0   \n",
       "\n",
       "                  max  \n",
       "RecencyCluster         \n",
       "0               110.0  \n",
       "1               196.0  \n",
       "2                43.0  \n",
       "3               338.0  "
      ]
     },
     "metadata": {},
     "output_type": "display_data"
    }
   ],
   "source": [
    "kmeans = KMeans(n_clusters=4)\n",
    "kmeans.fit(users[['Recency']])\n",
    "users['RecencyCluster'] = kmeans.predict(users[['Recency']])\n",
    "display(users.groupby('RecencyCluster')['Recency'].describe())"
   ]
  },
  {
   "cell_type": "code",
   "execution_count": 10,
   "id": "a6ddb551-12c0-447e-9ad4-f983fc7f788f",
   "metadata": {
    "execution": {
     "iopub.execute_input": "2021-08-24T18:19:32.192544Z",
     "iopub.status.busy": "2021-08-24T18:19:32.191473Z",
     "iopub.status.idle": "2021-08-24T18:19:32.220647Z",
     "shell.execute_reply": "2021-08-24T18:19:32.219699Z",
     "shell.execute_reply.started": "2021-08-24T18:19:32.192424Z"
    }
   },
   "outputs": [],
   "source": [
    "users.to_csv(\n",
    "    Path(cached_dirs.cache_dir, \"recency_by_toolevent_iteration_5-1-week.csv\"),\n",
    "    index=False,\n",
    "    index_label=False\n",
    ")"
   ]
  },
  {
   "cell_type": "code",
   "execution_count": null,
   "id": "da6fde4c-b3f3-431c-b289-7cf32ed524e1",
   "metadata": {},
   "outputs": [],
   "source": []
  },
  {
   "cell_type": "code",
   "execution_count": 11,
   "id": "f04603b0-ee60-4d66-b728-4b317e03f16e",
   "metadata": {
    "execution": {
     "iopub.execute_input": "2021-08-24T18:19:32.223191Z",
     "iopub.status.busy": "2021-08-24T18:19:32.222355Z",
     "iopub.status.idle": "2021-08-24T18:19:32.237881Z",
     "shell.execute_reply": "2021-08-24T18:19:32.236358Z",
     "shell.execute_reply.started": "2021-08-24T18:19:32.223088Z"
    }
   },
   "outputs": [
    {
     "data": {
      "text/plain": [
       "array([[0.08035714],\n",
       "       [0.08035714],\n",
       "       [0.08035714],\n",
       "       ...,\n",
       "       [0.01785714],\n",
       "       [0.09821429],\n",
       "       [0.17261905]])"
      ]
     },
     "metadata": {},
     "output_type": "display_data"
    }
   ],
   "source": [
    "scaler = MinMaxScaler()\n",
    "X_scaled=scaler.fit_transform(users[['Recency']])\n",
    "display(X_scaled)"
   ]
  },
  {
   "cell_type": "code",
   "execution_count": 12,
   "id": "4076b8da-1e3e-4a33-beb2-ef09bab9664d",
   "metadata": {
    "execution": {
     "iopub.execute_input": "2021-08-24T18:19:32.240948Z",
     "iopub.status.busy": "2021-08-24T18:19:32.239615Z",
     "iopub.status.idle": "2021-08-24T18:19:44.942921Z",
     "shell.execute_reply": "2021-08-24T18:19:44.941462Z",
     "shell.execute_reply.started": "2021-08-24T18:19:32.240911Z"
    },
    "tags": []
   },
   "outputs": [
    {
     "name": "stdout",
     "output_type": "stream",
     "text": [
      "Score for number of cluster(s) 2: -44.639056570641195\n",
      "Silhouette score for number of cluster(s) 2: 0.7396747536087146\n",
      "Davies Bouldin score for number of cluster(s) 2: 0.4825915998538248\n"
     ]
    },
    {
     "data": {
      "text/plain": [
       "'Centroids - '"
      ]
     },
     "metadata": {},
     "output_type": "display_data"
    },
    {
     "name": "stdout",
     "output_type": "stream",
     "text": [
      "[[0.07287656]\n",
      " [0.48630561]]\n",
      "----------------------------------------------------------------------------------------------------\n",
      "Score for number of cluster(s) 3: -19.44577658151961\n",
      "Silhouette score for number of cluster(s) 3: 0.6846690075697603\n",
      "Davies Bouldin score for number of cluster(s) 3: 0.4838614669811207\n"
     ]
    },
    {
     "data": {
      "text/plain": [
       "'Centroids - '"
      ]
     },
     "metadata": {},
     "output_type": "display_data"
    },
    {
     "name": "stdout",
     "output_type": "stream",
     "text": [
      "[[0.04488401]\n",
      " [0.60396919]\n",
      " [0.24992161]]\n",
      "----------------------------------------------------------------------------------------------------\n",
      "Score for number of cluster(s) 4: -11.480913307981183\n",
      "Silhouette score for number of cluster(s) 4: 0.6637716757565575\n",
      "Davies Bouldin score for number of cluster(s) 4: 0.4897842299968748\n"
     ]
    },
    {
     "data": {
      "text/plain": [
       "'Centroids - '"
      ]
     },
     "metadata": {},
     "output_type": "display_data"
    },
    {
     "name": "stdout",
     "output_type": "stream",
     "text": [
      "[[0.42730619]\n",
      " [0.03844557]\n",
      " [0.71413415]\n",
      " [0.20258828]]\n",
      "----------------------------------------------------------------------------------------------------\n",
      "Score for number of cluster(s) 5: -7.211904281830841\n",
      "Silhouette score for number of cluster(s) 5: 0.6225968729747018\n",
      "Davies Bouldin score for number of cluster(s) 5: 0.49653753156209024\n"
     ]
    },
    {
     "data": {
      "text/plain": [
       "'Centroids - '"
      ]
     },
     "metadata": {},
     "output_type": "display_data"
    },
    {
     "name": "stdout",
     "output_type": "stream",
     "text": [
      "[[0.45030416]\n",
      " [0.10751179]\n",
      " [0.24341238]\n",
      " [0.72364156]\n",
      " [0.02184111]]\n",
      "----------------------------------------------------------------------------------------------------\n",
      "Score for number of cluster(s) 6: -5.237574441251812\n",
      "Silhouette score for number of cluster(s) 6: 0.6178056479819128\n",
      "Davies Bouldin score for number of cluster(s) 6: 0.5124997120454485\n"
     ]
    },
    {
     "data": {
      "text/plain": [
       "'Centroids - '"
      ]
     },
     "metadata": {},
     "output_type": "display_data"
    },
    {
     "name": "stdout",
     "output_type": "stream",
     "text": [
      "[[0.02262403]\n",
      " [0.57049677]\n",
      " [0.2340935 ]\n",
      " [0.79140787]\n",
      " [0.10825665]\n",
      " [0.39222433]]\n",
      "----------------------------------------------------------------------------------------------------\n",
      "Score for number of cluster(s) 7: -3.640292595190638\n",
      "Silhouette score for number of cluster(s) 7: 0.6152453937003354\n",
      "Davies Bouldin score for number of cluster(s) 7: 0.48527253098659173\n"
     ]
    },
    {
     "data": {
      "text/plain": [
       "'Centroids - '"
      ]
     },
     "metadata": {},
     "output_type": "display_data"
    },
    {
     "name": "stdout",
     "output_type": "stream",
     "text": [
      "[[0.83994709]\n",
      " [0.01840584]\n",
      " [0.28912602]\n",
      " [0.17935681]\n",
      " [0.4497549 ]\n",
      " [0.08682056]\n",
      " [0.63612611]]\n",
      "----------------------------------------------------------------------------------------------------\n",
      "Score for number of cluster(s) 8: -2.861790070651228\n",
      "Silhouette score for number of cluster(s) 8: 0.6143286332708425\n",
      "Davies Bouldin score for number of cluster(s) 8: 0.490195205964729\n"
     ]
    },
    {
     "data": {
      "text/plain": [
       "'Centroids - '"
      ]
     },
     "metadata": {},
     "output_type": "display_data"
    },
    {
     "name": "stdout",
     "output_type": "stream",
     "text": [
      "[[0.39768547]\n",
      " [0.01840584]\n",
      " [0.66426795]\n",
      " [0.17441233]\n",
      " [0.08593953]\n",
      " [0.27293707]\n",
      " [0.84825938]\n",
      " [0.51912986]]\n",
      "----------------------------------------------------------------------------------------------------\n",
      "Score for number of cluster(s) 9: -2.206908787966097\n",
      "Silhouette score for number of cluster(s) 9: 0.588012106016676\n",
      "Davies Bouldin score for number of cluster(s) 9: 0.5027097523125625\n"
     ]
    },
    {
     "data": {
      "text/plain": [
       "'Centroids - '"
      ]
     },
     "metadata": {},
     "output_type": "display_data"
    },
    {
     "name": "stdout",
     "output_type": "stream",
     "text": [
      "[[0.05659216]\n",
      " [0.51912986]\n",
      " [0.19229699]\n",
      " [0.27997835]\n",
      " [0.84688166]\n",
      " [0.11420032]\n",
      " [0.01170838]\n",
      " [0.66357859]\n",
      " [0.40034433]]\n",
      "----------------------------------------------------------------------------------------------------\n",
      "Score for number of cluster(s) 10: -1.809011166563569\n",
      "Silhouette score for number of cluster(s) 10: 0.5903685096076752\n",
      "Davies Bouldin score for number of cluster(s) 10: 0.4928465734988013\n"
     ]
    },
    {
     "data": {
      "text/plain": [
       "'Centroids - '"
      ]
     },
     "metadata": {},
     "output_type": "display_data"
    },
    {
     "name": "stdout",
     "output_type": "stream",
     "text": [
      "[[0.00975602]\n",
      " [0.29821618]\n",
      " [0.66357859]\n",
      " [0.14585956]\n",
      " [0.84688166]\n",
      " [0.21497674]\n",
      " [0.41286946]\n",
      " [0.08966127]\n",
      " [0.0451819 ]\n",
      " [0.5241307 ]]\n",
      "----------------------------------------------------------------------------------------------------\n"
     ]
    },
    {
     "data": {
      "image/png": "[encoded data removed]",
      "text/plain": [
       "<Figure size 1080x576 with 10 Axes>"
      ]
     },
     "metadata": {},
     "output_type": "display_data"
    }
   ],
   "source": [
    "display_cluster_info(X_scaled)"
   ]
  }
 ],
 "metadata": {
  "kernelspec": {
   "display_name": "Python 3 (ipykernel)",
   "language": "python",
   "name": "python3"
  },
  "language_info": {
   "codemirror_mode": {
    "name": "ipython",
    "version": 3
   },
   "file_extension": ".py",
   "mimetype": "text/x-python",
   "name": "python",
   "nbconvert_exporter": "python",
   "pygments_lexer": "ipython3",
   "version": "3.8.10"
  }
 },
 "nbformat": 4,
 "nbformat_minor": 5
}
