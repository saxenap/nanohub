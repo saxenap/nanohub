{
 "cells": [
  {
   "cell_type": "code",
   "execution_count": 1,
   "id": "d467e86a-ec0f-4da4-a1bc-47f9ca90386d",
   "metadata": {
    "execution": {
     "iopub.execute_input": "2021-08-26T15:21:07.345227Z",
     "iopub.status.busy": "2021-08-26T15:21:07.344861Z",
     "iopub.status.idle": "2021-08-26T15:21:09.600548Z",
     "shell.execute_reply": "2021-08-26T15:21:09.599229Z",
     "shell.execute_reply.started": "2021-08-26T15:21:07.345146Z"
    },
    "tags": []
   },
   "outputs": [],
   "source": [
    "from pathlib import Path\n",
    "import os\n",
    "import pandas as pd\n",
    "\n",
    "import seaborn as sns\n",
    "from sklearn.cluster import KMeans\n",
    "from sklearn.preprocessing import StandardScaler\n",
    "from sklearn.preprocessing import MinMaxScaler\n",
    "from sklearn.manifold import TSNE\n",
    "from sklearn.metrics import silhouette_score\n",
    "from sklearn.metrics import davies_bouldin_score,v_measure_score\n",
    "from yellowbrick.cluster import SilhouetteVisualizer\n",
    "import matplotlib.pyplot as plt\n",
    "\n",
    "CACHE_DIR = Path(Path(os.getenv('APP_DIR')), '.cache')\n",
    "NANOHUB_CACHE = Path(CACHE_DIR, 'nanohub')\n",
    "NANOHUB_METRICS_CACHE = Path(CACHE_DIR, 'nanohub_metrics')\n",
    "\n",
    "\n",
    "def create_silhouette_visual(sample, kmeans: KMeans, clusters: list = [2,3,4,5]):\n",
    "    fig, ax = plt.subplots(2, 2, figsize=(15,8))\n",
    "    for i in clusters:\n",
    "        q, mod = divmod(i, 2)\n",
    "\n",
    "        visualizer = SilhouetteVisualizer(kmeans, colors='yellowbrick', ax=ax[q-1][mod])\n",
    "        visualizer.fit(sample)\n",
    "        \n",
    "        \n",
    "def display_cluster_info(X_scaled, clusters: [] = [2,3,4,5,6,7,8,9,10]):\n",
    "    km_scores= []\n",
    "    km_silhouette = []\n",
    "    vmeasure_score =[]\n",
    "    db_score = []\n",
    "    \n",
    "    fig, ax = plt.subplots(5, 2, figsize=(15,8))\n",
    "\n",
    "    for i in clusters:\n",
    "        kmeans = KMeans(n_clusters=i)\n",
    "        kmeans.fit(X_scaled)\n",
    "        preds = kmeans.predict(X_scaled)\n",
    "        km_scores.append(-kmeans.score(X_scaled))\n",
    "        print(\"Score for number of cluster(s) {}: {}\".format(i,kmeans.score(X_scaled)))\n",
    "        km_scores.append(-kmeans.score(X_scaled))\n",
    "\n",
    "        silhouette = silhouette_score(X_scaled,preds)\n",
    "        km_silhouette.append(silhouette)\n",
    "        print(\"Silhouette score for number of cluster(s) {}: {}\".format(i,silhouette))\n",
    "\n",
    "        db = davies_bouldin_score(X_scaled,preds)\n",
    "        db_score.append(db)\n",
    "        print(\"Davies Bouldin score for number of cluster(s) {}: {}\".format(i,db))\n",
    "\n",
    "        display(\"Centroids - \")\n",
    "        print(kmeans.cluster_centers_)\n",
    "        \n",
    "        q, mod = divmod(i, 2)\n",
    "    \n",
    "        visualizer = SilhouetteVisualizer(kmeans, colors='yellowbrick', ax=ax[q-1][mod])\n",
    "        visualizer.fit(X_scaled)\n",
    "\n",
    "        print(\"-\"*100) \n",
    "\n"
   ]
  },
  {
   "cell_type": "code",
   "execution_count": 2,
   "id": "d4f3391b-4a89-4521-9e70-5de0e3d5d22a",
   "metadata": {
    "execution": {
     "iopub.execute_input": "2021-08-26T15:21:09.602053Z",
     "iopub.status.busy": "2021-08-26T15:21:09.601784Z",
     "iopub.status.idle": "2021-08-26T15:21:09.818422Z",
     "shell.execute_reply": "2021-08-26T15:21:09.815959Z",
     "shell.execute_reply.started": "2021-08-26T15:21:09.602029Z"
    },
    "tags": []
   },
   "outputs": [
    {
     "ename": "FileNotFoundError",
     "evalue": "[Errno 2] No such file or directory: '/home/gekco/nanoHUB/.cache/unclassified_user_data.csv'",
     "output_type": "error",
     "traceback": [
      "\u001b[0;31m---------------------------------------------------------------------------\u001b[0m",
      "\u001b[0;31mFileNotFoundError\u001b[0m                         Traceback (most recent call last)",
      "\u001b[0;32m/tmp/ipykernel_524/2692731974.py\u001b[0m in \u001b[0;36m<module>\u001b[0;34m\u001b[0m\n\u001b[0;32m----> 1\u001b[0;31m df = pd.read_csv(\n\u001b[0m\u001b[1;32m      2\u001b[0m     \u001b[0mPath\u001b[0m\u001b[0;34m(\u001b[0m\u001b[0mCACHE_DIR\u001b[0m\u001b[0;34m,\u001b[0m \u001b[0;34m'unclassified_user_data.csv'\u001b[0m\u001b[0;34m)\u001b[0m\u001b[0;34m,\u001b[0m\u001b[0;34m\u001b[0m\u001b[0;34m\u001b[0m\u001b[0m\n\u001b[1;32m      3\u001b[0m     \u001b[0mindex_col\u001b[0m\u001b[0;34m=\u001b[0m\u001b[0;32mFalse\u001b[0m\u001b[0;34m\u001b[0m\u001b[0;34m\u001b[0m\u001b[0m\n\u001b[1;32m      4\u001b[0m )\n",
      "\u001b[0;32m~/venv/lib/python3.8/site-packages/pandas/util/_decorators.py\u001b[0m in \u001b[0;36mwrapper\u001b[0;34m(*args, **kwargs)\u001b[0m\n\u001b[1;32m    309\u001b[0m                     \u001b[0mstacklevel\u001b[0m\u001b[0;34m=\u001b[0m\u001b[0mstacklevel\u001b[0m\u001b[0;34m,\u001b[0m\u001b[0;34m\u001b[0m\u001b[0;34m\u001b[0m\u001b[0m\n\u001b[1;32m    310\u001b[0m                 )\n\u001b[0;32m--> 311\u001b[0;31m             \u001b[0;32mreturn\u001b[0m \u001b[0mfunc\u001b[0m\u001b[0;34m(\u001b[0m\u001b[0;34m*\u001b[0m\u001b[0margs\u001b[0m\u001b[0;34m,\u001b[0m \u001b[0;34m**\u001b[0m\u001b[0mkwargs\u001b[0m\u001b[0;34m)\u001b[0m\u001b[0;34m\u001b[0m\u001b[0;34m\u001b[0m\u001b[0m\n\u001b[0m\u001b[1;32m    312\u001b[0m \u001b[0;34m\u001b[0m\u001b[0m\n\u001b[1;32m    313\u001b[0m         \u001b[0;32mreturn\u001b[0m \u001b[0mwrapper\u001b[0m\u001b[0;34m\u001b[0m\u001b[0;34m\u001b[0m\u001b[0m\n",
      "\u001b[0;32m~/venv/lib/python3.8/site-packages/pandas/io/parsers/readers.py\u001b[0m in \u001b[0;36mread_csv\u001b[0;34m(filepath_or_buffer, sep, delimiter, header, names, index_col, usecols, squeeze, prefix, mangle_dupe_cols, dtype, engine, converters, true_values, false_values, skipinitialspace, skiprows, skipfooter, nrows, na_values, keep_default_na, na_filter, verbose, skip_blank_lines, parse_dates, infer_datetime_format, keep_date_col, date_parser, dayfirst, cache_dates, iterator, chunksize, compression, thousands, decimal, lineterminator, quotechar, quoting, doublequote, escapechar, comment, encoding, encoding_errors, dialect, error_bad_lines, warn_bad_lines, on_bad_lines, delim_whitespace, low_memory, memory_map, float_precision, storage_options)\u001b[0m\n\u001b[1;32m    584\u001b[0m     \u001b[0mkwds\u001b[0m\u001b[0;34m.\u001b[0m\u001b[0mupdate\u001b[0m\u001b[0;34m(\u001b[0m\u001b[0mkwds_defaults\u001b[0m\u001b[0;34m)\u001b[0m\u001b[0;34m\u001b[0m\u001b[0;34m\u001b[0m\u001b[0m\n\u001b[1;32m    585\u001b[0m \u001b[0;34m\u001b[0m\u001b[0m\n\u001b[0;32m--> 586\u001b[0;31m     \u001b[0;32mreturn\u001b[0m \u001b[0m_read\u001b[0m\u001b[0;34m(\u001b[0m\u001b[0mfilepath_or_buffer\u001b[0m\u001b[0;34m,\u001b[0m \u001b[0mkwds\u001b[0m\u001b[0;34m)\u001b[0m\u001b[0;34m\u001b[0m\u001b[0;34m\u001b[0m\u001b[0m\n\u001b[0m\u001b[1;32m    587\u001b[0m \u001b[0;34m\u001b[0m\u001b[0m\n\u001b[1;32m    588\u001b[0m \u001b[0;34m\u001b[0m\u001b[0m\n",
      "\u001b[0;32m~/venv/lib/python3.8/site-packages/pandas/io/parsers/readers.py\u001b[0m in \u001b[0;36m_read\u001b[0;34m(filepath_or_buffer, kwds)\u001b[0m\n\u001b[1;32m    480\u001b[0m \u001b[0;34m\u001b[0m\u001b[0m\n\u001b[1;32m    481\u001b[0m     \u001b[0;31m# Create the parser.\u001b[0m\u001b[0;34m\u001b[0m\u001b[0;34m\u001b[0m\u001b[0;34m\u001b[0m\u001b[0m\n\u001b[0;32m--> 482\u001b[0;31m     \u001b[0mparser\u001b[0m \u001b[0;34m=\u001b[0m \u001b[0mTextFileReader\u001b[0m\u001b[0;34m(\u001b[0m\u001b[0mfilepath_or_buffer\u001b[0m\u001b[0;34m,\u001b[0m \u001b[0;34m**\u001b[0m\u001b[0mkwds\u001b[0m\u001b[0;34m)\u001b[0m\u001b[0;34m\u001b[0m\u001b[0;34m\u001b[0m\u001b[0m\n\u001b[0m\u001b[1;32m    483\u001b[0m \u001b[0;34m\u001b[0m\u001b[0m\n\u001b[1;32m    484\u001b[0m     \u001b[0;32mif\u001b[0m \u001b[0mchunksize\u001b[0m \u001b[0;32mor\u001b[0m \u001b[0miterator\u001b[0m\u001b[0;34m:\u001b[0m\u001b[0;34m\u001b[0m\u001b[0;34m\u001b[0m\u001b[0m\n",
      "\u001b[0;32m~/venv/lib/python3.8/site-packages/pandas/io/parsers/readers.py\u001b[0m in \u001b[0;36m__init__\u001b[0;34m(self, f, engine, **kwds)\u001b[0m\n\u001b[1;32m    809\u001b[0m             \u001b[0mself\u001b[0m\u001b[0;34m.\u001b[0m\u001b[0moptions\u001b[0m\u001b[0;34m[\u001b[0m\u001b[0;34m\"has_index_names\"\u001b[0m\u001b[0;34m]\u001b[0m \u001b[0;34m=\u001b[0m \u001b[0mkwds\u001b[0m\u001b[0;34m[\u001b[0m\u001b[0;34m\"has_index_names\"\u001b[0m\u001b[0;34m]\u001b[0m\u001b[0;34m\u001b[0m\u001b[0;34m\u001b[0m\u001b[0m\n\u001b[1;32m    810\u001b[0m \u001b[0;34m\u001b[0m\u001b[0m\n\u001b[0;32m--> 811\u001b[0;31m         \u001b[0mself\u001b[0m\u001b[0;34m.\u001b[0m\u001b[0m_engine\u001b[0m \u001b[0;34m=\u001b[0m \u001b[0mself\u001b[0m\u001b[0;34m.\u001b[0m\u001b[0m_make_engine\u001b[0m\u001b[0;34m(\u001b[0m\u001b[0mself\u001b[0m\u001b[0;34m.\u001b[0m\u001b[0mengine\u001b[0m\u001b[0;34m)\u001b[0m\u001b[0;34m\u001b[0m\u001b[0;34m\u001b[0m\u001b[0m\n\u001b[0m\u001b[1;32m    812\u001b[0m \u001b[0;34m\u001b[0m\u001b[0m\n\u001b[1;32m    813\u001b[0m     \u001b[0;32mdef\u001b[0m \u001b[0mclose\u001b[0m\u001b[0;34m(\u001b[0m\u001b[0mself\u001b[0m\u001b[0;34m)\u001b[0m\u001b[0;34m:\u001b[0m\u001b[0;34m\u001b[0m\u001b[0;34m\u001b[0m\u001b[0m\n",
      "\u001b[0;32m~/venv/lib/python3.8/site-packages/pandas/io/parsers/readers.py\u001b[0m in \u001b[0;36m_make_engine\u001b[0;34m(self, engine)\u001b[0m\n\u001b[1;32m   1038\u001b[0m             )\n\u001b[1;32m   1039\u001b[0m         \u001b[0;31m# error: Too many arguments for \"ParserBase\"\u001b[0m\u001b[0;34m\u001b[0m\u001b[0;34m\u001b[0m\u001b[0;34m\u001b[0m\u001b[0m\n\u001b[0;32m-> 1040\u001b[0;31m         \u001b[0;32mreturn\u001b[0m \u001b[0mmapping\u001b[0m\u001b[0;34m[\u001b[0m\u001b[0mengine\u001b[0m\u001b[0;34m]\u001b[0m\u001b[0;34m(\u001b[0m\u001b[0mself\u001b[0m\u001b[0;34m.\u001b[0m\u001b[0mf\u001b[0m\u001b[0;34m,\u001b[0m \u001b[0;34m**\u001b[0m\u001b[0mself\u001b[0m\u001b[0;34m.\u001b[0m\u001b[0moptions\u001b[0m\u001b[0;34m)\u001b[0m  \u001b[0;31m# type: ignore[call-arg]\u001b[0m\u001b[0;34m\u001b[0m\u001b[0;34m\u001b[0m\u001b[0m\n\u001b[0m\u001b[1;32m   1041\u001b[0m \u001b[0;34m\u001b[0m\u001b[0m\n\u001b[1;32m   1042\u001b[0m     \u001b[0;32mdef\u001b[0m \u001b[0m_failover_to_python\u001b[0m\u001b[0;34m(\u001b[0m\u001b[0mself\u001b[0m\u001b[0;34m)\u001b[0m\u001b[0;34m:\u001b[0m\u001b[0;34m\u001b[0m\u001b[0;34m\u001b[0m\u001b[0m\n",
      "\u001b[0;32m~/venv/lib/python3.8/site-packages/pandas/io/parsers/c_parser_wrapper.py\u001b[0m in \u001b[0;36m__init__\u001b[0;34m(self, src, **kwds)\u001b[0m\n\u001b[1;32m     49\u001b[0m \u001b[0;34m\u001b[0m\u001b[0m\n\u001b[1;32m     50\u001b[0m         \u001b[0;31m# open handles\u001b[0m\u001b[0;34m\u001b[0m\u001b[0;34m\u001b[0m\u001b[0;34m\u001b[0m\u001b[0m\n\u001b[0;32m---> 51\u001b[0;31m         \u001b[0mself\u001b[0m\u001b[0;34m.\u001b[0m\u001b[0m_open_handles\u001b[0m\u001b[0;34m(\u001b[0m\u001b[0msrc\u001b[0m\u001b[0;34m,\u001b[0m \u001b[0mkwds\u001b[0m\u001b[0;34m)\u001b[0m\u001b[0;34m\u001b[0m\u001b[0;34m\u001b[0m\u001b[0m\n\u001b[0m\u001b[1;32m     52\u001b[0m         \u001b[0;32massert\u001b[0m \u001b[0mself\u001b[0m\u001b[0;34m.\u001b[0m\u001b[0mhandles\u001b[0m \u001b[0;32mis\u001b[0m \u001b[0;32mnot\u001b[0m \u001b[0;32mNone\u001b[0m\u001b[0;34m\u001b[0m\u001b[0;34m\u001b[0m\u001b[0m\n\u001b[1;32m     53\u001b[0m \u001b[0;34m\u001b[0m\u001b[0m\n",
      "\u001b[0;32m~/venv/lib/python3.8/site-packages/pandas/io/parsers/base_parser.py\u001b[0m in \u001b[0;36m_open_handles\u001b[0;34m(self, src, kwds)\u001b[0m\n\u001b[1;32m    220\u001b[0m         \u001b[0mLet\u001b[0m \u001b[0mthe\u001b[0m \u001b[0mreaders\u001b[0m \u001b[0mopen\u001b[0m \u001b[0mIOHandles\u001b[0m \u001b[0mafter\u001b[0m \u001b[0mthey\u001b[0m \u001b[0mare\u001b[0m \u001b[0mdone\u001b[0m \u001b[0;32mwith\u001b[0m \u001b[0mtheir\u001b[0m \u001b[0mpotential\u001b[0m \u001b[0mraises\u001b[0m\u001b[0;34m.\u001b[0m\u001b[0;34m\u001b[0m\u001b[0;34m\u001b[0m\u001b[0m\n\u001b[1;32m    221\u001b[0m         \"\"\"\n\u001b[0;32m--> 222\u001b[0;31m         self.handles = get_handle(\n\u001b[0m\u001b[1;32m    223\u001b[0m             \u001b[0msrc\u001b[0m\u001b[0;34m,\u001b[0m\u001b[0;34m\u001b[0m\u001b[0;34m\u001b[0m\u001b[0m\n\u001b[1;32m    224\u001b[0m             \u001b[0;34m\"r\"\u001b[0m\u001b[0;34m,\u001b[0m\u001b[0;34m\u001b[0m\u001b[0;34m\u001b[0m\u001b[0m\n",
      "\u001b[0;32m~/venv/lib/python3.8/site-packages/pandas/io/common.py\u001b[0m in \u001b[0;36mget_handle\u001b[0;34m(path_or_buf, mode, encoding, compression, memory_map, is_text, errors, storage_options)\u001b[0m\n\u001b[1;32m    699\u001b[0m         \u001b[0;32mif\u001b[0m \u001b[0mioargs\u001b[0m\u001b[0;34m.\u001b[0m\u001b[0mencoding\u001b[0m \u001b[0;32mand\u001b[0m \u001b[0;34m\"b\"\u001b[0m \u001b[0;32mnot\u001b[0m \u001b[0;32min\u001b[0m \u001b[0mioargs\u001b[0m\u001b[0;34m.\u001b[0m\u001b[0mmode\u001b[0m\u001b[0;34m:\u001b[0m\u001b[0;34m\u001b[0m\u001b[0;34m\u001b[0m\u001b[0m\n\u001b[1;32m    700\u001b[0m             \u001b[0;31m# Encoding\u001b[0m\u001b[0;34m\u001b[0m\u001b[0;34m\u001b[0m\u001b[0;34m\u001b[0m\u001b[0m\n\u001b[0;32m--> 701\u001b[0;31m             handle = open(\n\u001b[0m\u001b[1;32m    702\u001b[0m                 \u001b[0mhandle\u001b[0m\u001b[0;34m,\u001b[0m\u001b[0;34m\u001b[0m\u001b[0;34m\u001b[0m\u001b[0m\n\u001b[1;32m    703\u001b[0m                 \u001b[0mioargs\u001b[0m\u001b[0;34m.\u001b[0m\u001b[0mmode\u001b[0m\u001b[0;34m,\u001b[0m\u001b[0;34m\u001b[0m\u001b[0;34m\u001b[0m\u001b[0m\n",
      "\u001b[0;31mFileNotFoundError\u001b[0m: [Errno 2] No such file or directory: '/home/gekco/nanoHUB/.cache/unclassified_user_data.csv'"
     ]
    }
   ],
   "source": [
    "df = pd.read_csv(\n",
    "    Path(CACHE_DIR, 'unclassified_user_data.csv'),\n",
    "    index_col=False\n",
    ")"
   ]
  },
  {
   "cell_type": "code",
   "execution_count": null,
   "id": "9d4eecf8-b037-46e6-93c2-49822a456228",
   "metadata": {
    "tags": []
   },
   "outputs": [],
   "source": []
  },
  {
   "cell_type": "code",
   "execution_count": null,
   "id": "061dfdf2-fe13-49c5-bb3d-4eab3735fda2",
   "metadata": {
    "execution": {
     "iopub.status.busy": "2021-08-26T15:21:09.819301Z",
     "iopub.status.idle": "2021-08-26T15:21:09.819926Z",
     "shell.execute_reply": "2021-08-26T15:21:09.819558Z",
     "shell.execute_reply.started": "2021-08-26T15:21:09.819520Z"
    },
    "tags": []
   },
   "outputs": [],
   "source": [
    "users = pd.DataFrame(df['user'].unique())\n",
    "users.columns = ['user']"
   ]
  },
  {
   "cell_type": "code",
   "execution_count": null,
   "id": "ace3e288-4add-4d01-a5f2-02296c73156d",
   "metadata": {
    "execution": {
     "iopub.status.busy": "2021-08-26T15:21:09.822503Z",
     "iopub.status.idle": "2021-08-26T15:21:09.823000Z",
     "shell.execute_reply": "2021-08-26T15:21:09.822813Z",
     "shell.execute_reply.started": "2021-08-26T15:21:09.822786Z"
    },
    "tags": []
   },
   "outputs": [],
   "source": [
    "monetary_df = df[['user', 'job_count']].copy()\n",
    "monetary_df['Monetary'] = monetary_df['job_count']\n",
    "\n",
    "users = pd.merge(users, monetary_df, on='user')"
   ]
  },
  {
   "cell_type": "code",
   "execution_count": null,
   "id": "ac0e51d2-9bc8-42d8-838a-45443c20f23d",
   "metadata": {
    "execution": {
     "iopub.status.busy": "2021-08-26T15:21:09.824614Z",
     "iopub.status.idle": "2021-08-26T15:21:09.825053Z",
     "shell.execute_reply": "2021-08-26T15:21:09.824886Z",
     "shell.execute_reply.started": "2021-08-26T15:21:09.824859Z"
    },
    "tags": []
   },
   "outputs": [],
   "source": [
    "\n",
    "kmeans = KMeans(n_clusters=8)\n",
    "kmeans.fit(users[['Monetary']])\n",
    "users['MonetaryCluster'] = kmeans.predict(users[['Monetary']])"
   ]
  },
  {
   "cell_type": "code",
   "execution_count": null,
   "id": "da6fde4c-b3f3-431c-b289-7cf32ed524e1",
   "metadata": {
    "execution": {
     "iopub.status.busy": "2021-08-26T15:21:09.827610Z",
     "iopub.status.idle": "2021-08-26T15:21:09.828353Z",
     "shell.execute_reply": "2021-08-26T15:21:09.828066Z",
     "shell.execute_reply.started": "2021-08-26T15:21:09.828027Z"
    }
   },
   "outputs": [],
   "source": [
    "display(users.groupby('MonetaryCluster')['job_count'].describe())"
   ]
  },
  {
   "cell_type": "code",
   "execution_count": null,
   "id": "30c81147-f46b-460f-b1fe-6722cc672e1c",
   "metadata": {
    "execution": {
     "iopub.status.busy": "2021-08-26T15:21:09.830404Z",
     "iopub.status.idle": "2021-08-26T15:21:09.831139Z",
     "shell.execute_reply": "2021-08-26T15:21:09.830848Z",
     "shell.execute_reply.started": "2021-08-26T15:21:09.830818Z"
    }
   },
   "outputs": [],
   "source": [
    "users.to_csv(\n",
    "    Path(CACHE_DIR, \"monetary.csv\"),\n",
    "    index=False,\n",
    "    index_label=False\n",
    ")"
   ]
  },
  {
   "cell_type": "code",
   "execution_count": null,
   "id": "f04603b0-ee60-4d66-b728-4b317e03f16e",
   "metadata": {
    "execution": {
     "iopub.status.busy": "2021-08-26T15:21:09.833291Z",
     "iopub.status.idle": "2021-08-26T15:21:09.834123Z",
     "shell.execute_reply": "2021-08-26T15:21:09.833655Z",
     "shell.execute_reply.started": "2021-08-26T15:21:09.833610Z"
    },
    "jupyter": {
     "source_hidden": true
    },
    "tags": []
   },
   "outputs": [],
   "source": [
    "scaler = MinMaxScaler()\n",
    "X_scaled=scaler.fit_transform(users[['Monetary']])"
   ]
  },
  {
   "cell_type": "code",
   "execution_count": null,
   "id": "4076b8da-1e3e-4a33-beb2-ef09bab9664d",
   "metadata": {
    "execution": {
     "iopub.status.busy": "2021-08-26T15:21:09.836978Z",
     "iopub.status.idle": "2021-08-26T15:21:09.837476Z",
     "shell.execute_reply": "2021-08-26T15:21:09.837252Z",
     "shell.execute_reply.started": "2021-08-26T15:21:09.837209Z"
    },
    "tags": []
   },
   "outputs": [],
   "source": [
    "display_cluster_info(X_scaled)"
   ]
  }
 ],
 "metadata": {
  "kernelspec": {
   "display_name": "Python 3 (ipykernel)",
   "language": "python",
   "name": "python3"
  },
  "language_info": {
   "codemirror_mode": {
    "name": "ipython",
    "version": 3
   },
   "file_extension": ".py",
   "mimetype": "text/x-python",
   "name": "python",
   "nbconvert_exporter": "python",
   "pygments_lexer": "ipython3",
   "version": "3.8.10"
  }
 },
 "nbformat": 4,
 "nbformat_minor": 5
}
