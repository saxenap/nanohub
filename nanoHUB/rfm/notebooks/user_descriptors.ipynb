{
 "cells": [
  {
   "cell_type": "code",
   "execution_count": 1,
   "id": "5cbec32a-56d1-4181-bce0-35612a67b512",
   "metadata": {},
   "outputs": [],
   "source": [
    "import os\n",
    "from pathlib import Path, PurePath\n",
    "import pandas as pd"
   ]
  },
  {
   "cell_type": "code",
   "execution_count": 2,
   "id": "c802afcc-1bb6-49cd-85d1-e84b22998b0e",
   "metadata": {},
   "outputs": [],
   "source": [
    "from pprint import pprint, pp\n",
    "from IPython.display import display, Markdown\n",
    "from icecream import ic"
   ]
  },
  {
   "cell_type": "code",
   "execution_count": 3,
   "id": "e1b3388a-b0d5-4bc1-8ade-15c15a3019c5",
   "metadata": {},
   "outputs": [],
   "source": [
    "%%capture \n",
    "\n",
    "from nanoHUB.application import Application\n",
    "application = Application.get_instance()\n",
    "cache_dir = Path(os.getenv('APP_DIR') + '/.cache')\n"
   ]
  },
  {
   "cell_type": "code",
   "execution_count": 5,
   "id": "368b1266-302b-4478-b9fc-0c189f6b15f3",
   "metadata": {},
   "outputs": [],
   "source": [
    "%%capture \n",
    "\n",
    "rfm_engine = application.new_db_engine('rfm_data')\n",
    "metrics_engine = application.new_db_engine('nanohub_metrics')"
   ]
  },
  {
   "cell_type": "code",
   "execution_count": 6,
   "id": "8607d485-fe51-48bb-9d99-98f551e03e3e",
   "metadata": {},
   "outputs": [],
   "source": [
    "sql = '''\n",
    "SELECT \n",
    "    MIN(datetime) AS min_datetime, \n",
    "    MAX(datetime) AS max_datetime, \n",
    "    user \n",
    "FROM toolstart \n",
    "WHERE user != ''\n",
    "GROUP BY user\n",
    "'''\n"
   ]
  },
  {
   "cell_type": "code",
   "execution_count": 7,
   "id": "9c461dcc-8348-4a49-8dc5-611e7aa7470d",
   "metadata": {},
   "outputs": [],
   "source": [
    "# lifetimes_df = pd.read_sql_query(sql,metrics_engine)\n",
    "# lifetimes_df['min_datetime'] = pd.to_datetime(lifetimes_df['min_datetime'],errors='coerce')\n",
    "# lifetimes_df['max_datetime'] = pd.to_datetime(lifetimes_df['max_datetime'],errors='coerce')"
   ]
  },
  {
   "cell_type": "code",
   "execution_count": 8,
   "id": "bc9c425f-64af-4135-a561-656248a01b0b",
   "metadata": {},
   "outputs": [],
   "source": [
    "# lifetimes_df.to_parquet(PurePath(cache_dir, 'toolstart'), compression='gzip')"
   ]
  },
  {
   "cell_type": "code",
   "execution_count": 9,
   "id": "30c50ee9-4f4c-4528-b260-57e56b7e3d15",
   "metadata": {},
   "outputs": [],
   "source": [
    "lifetimes_df = pd.read_parquet(PurePath(cache_dir, 'toolstart'))"
   ]
  },
  {
   "cell_type": "code",
   "execution_count": 10,
   "id": "a681b4a7-fe3a-47c4-afa6-f204b24f9cf4",
   "metadata": {},
   "outputs": [
    {
     "data": {
      "text/html": [
       "<div>\n",
       "<style scoped>\n",
       "    .dataframe tbody tr th:only-of-type {\n",
       "        vertical-align: middle;\n",
       "    }\n",
       "\n",
       "    .dataframe tbody tr th {\n",
       "        vertical-align: top;\n",
       "    }\n",
       "\n",
       "    .dataframe thead th {\n",
       "        text-align: right;\n",
       "    }\n",
       "</style>\n",
       "<table border=\"1\" class=\"dataframe\">\n",
       "  <thead>\n",
       "    <tr style=\"text-align: right;\">\n",
       "      <th></th>\n",
       "      <th>min_datetime</th>\n",
       "      <th>max_datetime</th>\n",
       "      <th>user</th>\n",
       "    </tr>\n",
       "  </thead>\n",
       "  <tbody>\n",
       "    <tr>\n",
       "      <th>0</th>\n",
       "      <td>2017-03-08 10:15:23</td>\n",
       "      <td>2017-03-09 05:09:22</td>\n",
       "      <td>0.yao.yuan</td>\n",
       "    </tr>\n",
       "    <tr>\n",
       "      <th>1</th>\n",
       "      <td>2016-09-28 20:27:13</td>\n",
       "      <td>2016-10-12 23:50:56</td>\n",
       "      <td>008dilip</td>\n",
       "    </tr>\n",
       "    <tr>\n",
       "      <th>2</th>\n",
       "      <td>2013-11-19 00:53:23</td>\n",
       "      <td>2013-11-19 00:58:56</td>\n",
       "      <td>00ff</td>\n",
       "    </tr>\n",
       "    <tr>\n",
       "      <th>3</th>\n",
       "      <td>2017-03-20 09:46:36</td>\n",
       "      <td>2017-03-20 09:46:36</td>\n",
       "      <td>00thamizharasi00</td>\n",
       "    </tr>\n",
       "    <tr>\n",
       "      <th>4</th>\n",
       "      <td>2020-09-23 18:14:20</td>\n",
       "      <td>2020-12-11 02:58:30</td>\n",
       "      <td>01024461660a</td>\n",
       "    </tr>\n",
       "  </tbody>\n",
       "</table>\n",
       "</div>"
      ],
      "text/plain": [
       "         min_datetime        max_datetime              user\n",
       "0 2017-03-08 10:15:23 2017-03-09 05:09:22        0.yao.yuan\n",
       "1 2016-09-28 20:27:13 2016-10-12 23:50:56          008dilip\n",
       "2 2013-11-19 00:53:23 2013-11-19 00:58:56              00ff\n",
       "3 2017-03-20 09:46:36 2017-03-20 09:46:36  00thamizharasi00\n",
       "4 2020-09-23 18:14:20 2020-12-11 02:58:30      01024461660a"
      ]
     },
     "metadata": {},
     "output_type": "display_data"
    }
   ],
   "source": [
    "display(lifetimes_df.head())"
   ]
  },
  {
   "cell_type": "code",
   "execution_count": 11,
   "id": "e5f9a8ac-4b93-47ae-9ac4-93249e0884bd",
   "metadata": {},
   "outputs": [
    {
     "data": {
      "text/html": [
       "<div>\n",
       "<style scoped>\n",
       "    .dataframe tbody tr th:only-of-type {\n",
       "        vertical-align: middle;\n",
       "    }\n",
       "\n",
       "    .dataframe tbody tr th {\n",
       "        vertical-align: top;\n",
       "    }\n",
       "\n",
       "    .dataframe thead th {\n",
       "        text-align: right;\n",
       "    }\n",
       "</style>\n",
       "<table border=\"1\" class=\"dataframe\">\n",
       "  <thead>\n",
       "    <tr style=\"text-align: right;\">\n",
       "      <th></th>\n",
       "      <th>min_datetime</th>\n",
       "      <th>max_datetime</th>\n",
       "      <th>user</th>\n",
       "    </tr>\n",
       "  </thead>\n",
       "  <tbody>\n",
       "    <tr>\n",
       "      <th>154783</th>\n",
       "      <td>2021-07-05 13:19:19</td>\n",
       "      <td>2021-07-05 13:27:28</td>\n",
       "      <td>zzzwmhq</td>\n",
       "    </tr>\n",
       "    <tr>\n",
       "      <th>154784</th>\n",
       "      <td>2002-07-23 02:52:49</td>\n",
       "      <td>2002-07-23 03:04:24</td>\n",
       "      <td>z_depth</td>\n",
       "    </tr>\n",
       "    <tr>\n",
       "      <th>154785</th>\n",
       "      <td>2006-10-16 20:25:49</td>\n",
       "      <td>2006-10-16 20:27:53</td>\n",
       "      <td>Z_E_U_S</td>\n",
       "    </tr>\n",
       "    <tr>\n",
       "      <th>154786</th>\n",
       "      <td>2013-02-11 14:42:41</td>\n",
       "      <td>2013-02-19 01:53:39</td>\n",
       "      <td>z_henry35</td>\n",
       "    </tr>\n",
       "    <tr>\n",
       "      <th>154787</th>\n",
       "      <td>2008-07-09 22:51:51</td>\n",
       "      <td>2008-07-23 09:39:34</td>\n",
       "      <td>z_sath</td>\n",
       "    </tr>\n",
       "  </tbody>\n",
       "</table>\n",
       "</div>"
      ],
      "text/plain": [
       "              min_datetime        max_datetime       user\n",
       "154783 2021-07-05 13:19:19 2021-07-05 13:27:28    zzzwmhq\n",
       "154784 2002-07-23 02:52:49 2002-07-23 03:04:24    z_depth\n",
       "154785 2006-10-16 20:25:49 2006-10-16 20:27:53    Z_E_U_S\n",
       "154786 2013-02-11 14:42:41 2013-02-19 01:53:39  z_henry35\n",
       "154787 2008-07-09 22:51:51 2008-07-23 09:39:34     z_sath"
      ]
     },
     "metadata": {},
     "output_type": "display_data"
    }
   ],
   "source": [
    "display(lifetimes_df.tail())"
   ]
  },
  {
   "cell_type": "code",
   "execution_count": 12,
   "id": "17f11c6b-d364-4df6-a5f2-e5727bfafa98",
   "metadata": {},
   "outputs": [
    {
     "name": "stdout",
     "output_type": "stream",
     "text": [
      "<class 'pandas.core.frame.DataFrame'>\n",
      "RangeIndex: 154788 entries, 0 to 154787\n",
      "Data columns (total 3 columns):\n",
      " #   Column        Non-Null Count   Dtype         \n",
      "---  ------        --------------   -----         \n",
      " 0   min_datetime  151078 non-null  datetime64[ns]\n",
      " 1   max_datetime  154788 non-null  datetime64[ns]\n",
      " 2   user          154788 non-null  object        \n",
      "dtypes: datetime64[ns](2), object(1)\n",
      "memory usage: 3.5+ MB\n"
     ]
    },
    {
     "data": {
      "text/plain": [
       "None"
      ]
     },
     "metadata": {},
     "output_type": "display_data"
    }
   ],
   "source": [
    "display(lifetimes_df.info())"
   ]
  },
  {
   "cell_type": "code",
   "execution_count": 13,
   "id": "334195c4-c517-466c-a17e-4beec6f9c11a",
   "metadata": {},
   "outputs": [],
   "source": [
    "lifetimes_df.loc[lifetimes_df.min_datetime == '0000-00-00 00:00:00', 'min_datetime'] = '2000-01-01 00:10:10'"
   ]
  },
  {
   "cell_type": "code",
   "execution_count": 14,
   "id": "2cc1a9bb-6894-4a7f-a48c-daa070c9d620",
   "metadata": {},
   "outputs": [
    {
     "data": {
      "text/plain": [
       "min_datetime    datetime64[ns]\n",
       "max_datetime    datetime64[ns]\n",
       "user                    object\n",
       "dtype: object"
      ]
     },
     "metadata": {},
     "output_type": "display_data"
    }
   ],
   "source": [
    "display(lifetimes_df.dtypes)"
   ]
  },
  {
   "cell_type": "code",
   "execution_count": 15,
   "id": "dcd2d0cd-a8a8-41ea-908a-ca0a459cab8c",
   "metadata": {},
   "outputs": [],
   "source": [
    "lifetimes_df['user_lifetime'] = (lifetimes_df['max_datetime'] - lifetimes_df['min_datetime']).dt.days"
   ]
  },
  {
   "cell_type": "code",
   "execution_count": 16,
   "id": "7ceeef50-b0b8-447b-a252-095d5ca41ff3",
   "metadata": {},
   "outputs": [
    {
     "data": {
      "text/html": [
       "<div>\n",
       "<style scoped>\n",
       "    .dataframe tbody tr th:only-of-type {\n",
       "        vertical-align: middle;\n",
       "    }\n",
       "\n",
       "    .dataframe tbody tr th {\n",
       "        vertical-align: top;\n",
       "    }\n",
       "\n",
       "    .dataframe thead th {\n",
       "        text-align: right;\n",
       "    }\n",
       "</style>\n",
       "<table border=\"1\" class=\"dataframe\">\n",
       "  <thead>\n",
       "    <tr style=\"text-align: right;\">\n",
       "      <th></th>\n",
       "      <th>min_datetime</th>\n",
       "      <th>max_datetime</th>\n",
       "      <th>user</th>\n",
       "      <th>user_lifetime</th>\n",
       "    </tr>\n",
       "  </thead>\n",
       "  <tbody>\n",
       "    <tr>\n",
       "      <th>0</th>\n",
       "      <td>2017-03-08 10:15:23</td>\n",
       "      <td>2017-03-09 05:09:22</td>\n",
       "      <td>0.yao.yuan</td>\n",
       "      <td>0.0</td>\n",
       "    </tr>\n",
       "    <tr>\n",
       "      <th>1</th>\n",
       "      <td>2016-09-28 20:27:13</td>\n",
       "      <td>2016-10-12 23:50:56</td>\n",
       "      <td>008dilip</td>\n",
       "      <td>14.0</td>\n",
       "    </tr>\n",
       "    <tr>\n",
       "      <th>2</th>\n",
       "      <td>2013-11-19 00:53:23</td>\n",
       "      <td>2013-11-19 00:58:56</td>\n",
       "      <td>00ff</td>\n",
       "      <td>0.0</td>\n",
       "    </tr>\n",
       "    <tr>\n",
       "      <th>3</th>\n",
       "      <td>2017-03-20 09:46:36</td>\n",
       "      <td>2017-03-20 09:46:36</td>\n",
       "      <td>00thamizharasi00</td>\n",
       "      <td>0.0</td>\n",
       "    </tr>\n",
       "    <tr>\n",
       "      <th>4</th>\n",
       "      <td>2020-09-23 18:14:20</td>\n",
       "      <td>2020-12-11 02:58:30</td>\n",
       "      <td>01024461660a</td>\n",
       "      <td>78.0</td>\n",
       "    </tr>\n",
       "    <tr>\n",
       "      <th>...</th>\n",
       "      <td>...</td>\n",
       "      <td>...</td>\n",
       "      <td>...</td>\n",
       "      <td>...</td>\n",
       "    </tr>\n",
       "    <tr>\n",
       "      <th>154783</th>\n",
       "      <td>2021-07-05 13:19:19</td>\n",
       "      <td>2021-07-05 13:27:28</td>\n",
       "      <td>zzzwmhq</td>\n",
       "      <td>0.0</td>\n",
       "    </tr>\n",
       "    <tr>\n",
       "      <th>154784</th>\n",
       "      <td>2002-07-23 02:52:49</td>\n",
       "      <td>2002-07-23 03:04:24</td>\n",
       "      <td>z_depth</td>\n",
       "      <td>0.0</td>\n",
       "    </tr>\n",
       "    <tr>\n",
       "      <th>154785</th>\n",
       "      <td>2006-10-16 20:25:49</td>\n",
       "      <td>2006-10-16 20:27:53</td>\n",
       "      <td>Z_E_U_S</td>\n",
       "      <td>0.0</td>\n",
       "    </tr>\n",
       "    <tr>\n",
       "      <th>154786</th>\n",
       "      <td>2013-02-11 14:42:41</td>\n",
       "      <td>2013-02-19 01:53:39</td>\n",
       "      <td>z_henry35</td>\n",
       "      <td>7.0</td>\n",
       "    </tr>\n",
       "    <tr>\n",
       "      <th>154787</th>\n",
       "      <td>2008-07-09 22:51:51</td>\n",
       "      <td>2008-07-23 09:39:34</td>\n",
       "      <td>z_sath</td>\n",
       "      <td>13.0</td>\n",
       "    </tr>\n",
       "  </tbody>\n",
       "</table>\n",
       "<p>154788 rows × 4 columns</p>\n",
       "</div>"
      ],
      "text/plain": [
       "              min_datetime        max_datetime              user  \\\n",
       "0      2017-03-08 10:15:23 2017-03-09 05:09:22        0.yao.yuan   \n",
       "1      2016-09-28 20:27:13 2016-10-12 23:50:56          008dilip   \n",
       "2      2013-11-19 00:53:23 2013-11-19 00:58:56              00ff   \n",
       "3      2017-03-20 09:46:36 2017-03-20 09:46:36  00thamizharasi00   \n",
       "4      2020-09-23 18:14:20 2020-12-11 02:58:30      01024461660a   \n",
       "...                    ...                 ...               ...   \n",
       "154783 2021-07-05 13:19:19 2021-07-05 13:27:28           zzzwmhq   \n",
       "154784 2002-07-23 02:52:49 2002-07-23 03:04:24           z_depth   \n",
       "154785 2006-10-16 20:25:49 2006-10-16 20:27:53           Z_E_U_S   \n",
       "154786 2013-02-11 14:42:41 2013-02-19 01:53:39         z_henry35   \n",
       "154787 2008-07-09 22:51:51 2008-07-23 09:39:34            z_sath   \n",
       "\n",
       "        user_lifetime  \n",
       "0                 0.0  \n",
       "1                14.0  \n",
       "2                 0.0  \n",
       "3                 0.0  \n",
       "4                78.0  \n",
       "...               ...  \n",
       "154783            0.0  \n",
       "154784            0.0  \n",
       "154785            0.0  \n",
       "154786            7.0  \n",
       "154787           13.0  \n",
       "\n",
       "[154788 rows x 4 columns]"
      ]
     },
     "metadata": {},
     "output_type": "display_data"
    }
   ],
   "source": [
    "display(lifetimes_df)"
   ]
  },
  {
   "cell_type": "code",
   "execution_count": null,
   "id": "5e585be7-c35a-4cae-8604-69ac879233c5",
   "metadata": {},
   "outputs": [],
   "source": []
  }
 ],
 "metadata": {
  "kernelspec": {
   "display_name": "Python 3 (ipykernel)",
   "language": "python",
   "name": "python3"
  },
  "language_info": {
   "codemirror_mode": {
    "name": "ipython",
    "version": 3
   },
   "file_extension": ".py",
   "mimetype": "text/x-python",
   "name": "python",
   "nbconvert_exporter": "python",
   "pygments_lexer": "ipython3",
   "version": "3.8.10"
  }
 },
 "nbformat": 4,
 "nbformat_minor": 5
}
