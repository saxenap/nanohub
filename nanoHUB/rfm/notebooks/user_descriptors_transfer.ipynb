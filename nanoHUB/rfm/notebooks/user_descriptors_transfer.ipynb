{
 "cells": [
  {
   "cell_type": "code",
   "execution_count": null,
   "id": "139949ba-a9ef-490e-8bee-4ccede581905",
   "metadata": {},
   "outputs": [],
   "source": []
  },
  {
   "cell_type": "code",
   "execution_count": 1,
   "id": "b3ba9123-695b-4eff-bf7c-dc4b12e1f683",
   "metadata": {},
   "outputs": [],
   "source": [
    "import os\n",
    "from io import StringIO # if going with no saving csv file\n",
    "import gcsfs\n",
    "import dask.dataframe as dd\n",
    "from dask.delayed import delayed\n",
    "from pathlib import Path\n",
    "import pandas as pd\n",
    "import os"
   ]
  },
  {
   "cell_type": "code",
   "execution_count": 2,
   "id": "2d06285c-da5b-46de-b48f-f263abe0245b",
   "metadata": {},
   "outputs": [],
   "source": [
    "from pprint import pprint, pp\n",
    "from IPython.display import display, Markdown\n",
    "from icecream import ic"
   ]
  },
  {
   "cell_type": "code",
   "execution_count": 3,
   "id": "ba69495d-3e8e-4c6d-b409-0ace4d91fc72",
   "metadata": {
    "papermill": {
     "duration": 2.093489,
     "end_time": "2021-07-19T19:16:34.733391",
     "exception": false,
     "start_time": "2021-07-19T19:16:32.639902",
     "status": "completed"
    },
    "tags": []
   },
   "outputs": [],
   "source": [
    "%%capture \n",
    "\n",
    "from nanoHUB.application import Application\n",
    "application = Application.get_instance()"
   ]
  },
  {
   "cell_type": "code",
   "execution_count": 4,
   "id": "a06adf95-b29f-4cff-a07c-560b01676a4d",
   "metadata": {},
   "outputs": [],
   "source": [
    "%%capture \n",
    "\n",
    "rfm_engine = application.new_db_engine('rfm_data')"
   ]
  },
  {
   "cell_type": "code",
   "execution_count": 5,
   "id": "7a47551c-ab77-457c-bf9b-cd3acd10abb6",
   "metadata": {},
   "outputs": [],
   "source": [
    "sql = '''\n",
    "INSERT INTO rfm_data.user_descriptors (id, username,name,email, lastvisitDate, registerDate)\n",
    "SELECT id, username, name, email, lastvisitDate, registerDate\n",
    "FROM nanohub.jos_users\n",
    "'''"
   ]
  },
  {
   "cell_type": "code",
   "execution_count": 6,
   "id": "26555d16-d908-4aae-a7e8-e005b529d034",
   "metadata": {},
   "outputs": [],
   "source": [
    "# with rfm_engine.connect() as connection:\n",
    "#     with connection.begin():\n",
    "#         connection.execute(sql)"
   ]
  },
  {
   "cell_type": "code",
   "execution_count": 21,
   "id": "4f59d809-2682-4b8e-a59c-19c2a4aaf737",
   "metadata": {},
   "outputs": [],
   "source": [
    "sql = '''\n",
    "INSERT INTO rfm_data.user_descriptors (id, username,name,email, lastvisitDate, registerDate, user_lifetime)\n",
    "SELECT id, username, name, email, lastvisitDate, registerDate, timestampdiff(DAY, registerDate, lastvisitDate)\n",
    "FROM nanohub.jos_users\n",
    "WHERE NOT EXISTS (SELECT 1 FROM rfm_data.user_descriptors WHERE rfm_data.user_descriptors.id = nanohub.jos_users.id)\n",
    "'''"
   ]
  },
  {
   "cell_type": "code",
   "execution_count": 22,
   "id": "81ce24f1-73e8-47de-852d-2ce9f15ae995",
   "metadata": {},
   "outputs": [],
   "source": [
    "with rfm_engine.connect() as connection:\n",
    "    with connection.begin():\n",
    "        connection.execute(sql)"
   ]
  },
  {
   "cell_type": "code",
   "execution_count": 20,
   "id": "62bd0819-7673-46ab-8aff-b010bf5b9739",
   "metadata": {},
   "outputs": [],
   "source": [
    "sql = '''\n",
    "UPDATE rfm_data.user_descriptors INNER JOIN nanohub.jos_users\n",
    "    ON rfm_data.user_descriptors.id = nanohub.jos_users.id\n",
    "SET rfm_data.user_descriptors.user_lifetime = timestampdiff(DAY, nanohub.jos_users.registerDate, nanohub.jos_users.lastvisitDate)\n",
    "WHERE rfm_data.user_descriptors.lastvisitDate != nanohub.jos_users.lastvisitDate\n",
    "'''"
   ]
  },
  {
   "cell_type": "code",
   "execution_count": 15,
   "id": "b90e1acb-4ffe-410b-8dd0-405e00d61258",
   "metadata": {},
   "outputs": [],
   "source": [
    "with rfm_engine.connect() as connection:\n",
    "    with connection.begin():\n",
    "        connection.execute(sql)"
   ]
  },
  {
   "cell_type": "code",
   "execution_count": null,
   "id": "78b3a0c3-fc74-49cd-9ccd-f23c7a4e0534",
   "metadata": {},
   "outputs": [],
   "source": []
  }
 ],
 "metadata": {
  "kernelspec": {
   "display_name": "Python 3 (ipykernel)",
   "language": "python",
   "name": "python3"
  },
  "language_info": {
   "codemirror_mode": {
    "name": "ipython",
    "version": 3
   },
   "file_extension": ".py",
   "mimetype": "text/x-python",
   "name": "python",
   "nbconvert_exporter": "python",
   "pygments_lexer": "ipython3",
   "version": "3.8.10"
  }
 },
 "nbformat": 4,
 "nbformat_minor": 5
}
