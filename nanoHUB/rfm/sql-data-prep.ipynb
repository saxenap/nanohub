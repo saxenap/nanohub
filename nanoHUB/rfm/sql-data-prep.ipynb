{
 "cells": [
  {
   "cell_type": "markdown",
   "id": "fe027604-16f8-4197-8d77-020bf5fd4411",
   "metadata": {},
   "source": [
    "##### Author: Praveen Saxena\n",
    "##### Email: saxep01@gmail.com\n",
    "##### Create Date: 7/14/2021"
   ]
  }
 ],
 "metadata": {
  "kernelspec": {
   "display_name": "Python 3 (ipykernel)",
   "language": "python",
   "name": "python3"
  },
  "language_info": {
   "codemirror_mode": {
    "name": "ipython",
    "version": 3
   },
   "file_extension": ".py",
   "mimetype": "text/x-python",
   "name": "python",
   "nbconvert_exporter": "python",
   "pygments_lexer": "ipython3",
   "version": "3.8.10"
  }
 },
 "nbformat": 4,
 "nbformat_minor": 5
}
