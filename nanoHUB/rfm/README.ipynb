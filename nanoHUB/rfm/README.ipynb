{
 "cells": [
  {
   "cell_type": "markdown",
   "id": "24846c55-e1be-4153-b517-502a5d9f8ce2",
   "metadata": {},
   "source": [
    "### Table Information\n",
    "\n",
    "\n",
    " | Tables                         | Row Length (M)  | Approx. Size (GB) | Engine |\n",
    " |:-------------------------------|----------------:|------------------:|:-------|\n",
    " | nanohub_metrics.userlogin      | 485 | 50 | MyISAM |\n",
    " | nanohub_metrics.userlogin_old  | 0.5 | 20.5 | MyISAM |\n",
    " | nanohub.users | 0.26 | 0.12 | InnoDB |"
   ]
  },
  {
   "cell_type": "code",
   "execution_count": null,
   "id": "3c2fe657-f0bd-4f92-a78a-feb99da70690",
   "metadata": {},
   "outputs": [],
   "source": []
  }
 ],
 "metadata": {
  "kernelspec": {
   "display_name": "Python 3 (ipykernel)",
   "language": "python",
   "name": "python3"
  },
  "language_info": {
   "codemirror_mode": {
    "name": "ipython",
    "version": 3
   },
   "file_extension": ".py",
   "mimetype": "text/x-python",
   "name": "python",
   "nbconvert_exporter": "python",
   "pygments_lexer": "ipython3",
   "version": "3.8.10"
  }
 },
 "nbformat": 4,
 "nbformat_minor": 5
}
