{
 "cells": [
  {
   "cell_type": "code",
   "execution_count": 2,
   "metadata": {
    "execution": {
     "iopub.execute_input": "2022-07-01T07:24:49.404413Z",
     "iopub.status.busy": "2022-07-01T07:24:49.401066Z",
     "iopub.status.idle": "2022-07-01T07:24:52.575282Z",
     "shell.execute_reply": "2022-07-01T07:24:52.573095Z",
     "shell.execute_reply.started": "2022-07-01T07:24:49.404326Z"
    },
    "tags": []
   },
   "outputs": [],
   "source": [
    "import csv\n",
    "import sys\n",
    "import os\n",
    "import pandas as pd\n",
    "\n",
    "from nanoHUB.application import Application\n",
    "\n",
    "application = Application.get_instance()\n",
    "nanohub_db = application.new_db_engine('nanohub') \n",
    "nanohubmetrics_db = application.new_db_engine('nanohub_metrics') "
   ]
  },
  {
   "cell_type": "code",
   "execution_count": 3,
   "metadata": {
    "execution": {
     "iopub.execute_input": "2022-07-01T07:24:55.879883Z",
     "iopub.status.busy": "2022-07-01T07:24:55.879383Z",
     "iopub.status.idle": "2022-07-01T07:24:55.888420Z",
     "shell.execute_reply": "2022-07-01T07:24:55.886663Z",
     "shell.execute_reply.started": "2022-07-01T07:24:55.879854Z"
    }
   },
   "outputs": [],
   "source": [
    "sql= '''\n",
    "SELECT id\n",
    "FROM nanohub.jos_users\n",
    "LIMIT 1\n",
    ";\n",
    "'''"
   ]
  },
  {
   "cell_type": "code",
   "execution_count": 4,
   "metadata": {
    "execution": {
     "iopub.execute_input": "2022-07-01T07:24:57.999168Z",
     "iopub.status.busy": "2022-07-01T07:24:57.998700Z",
     "iopub.status.idle": "2022-07-01T07:25:00.874848Z",
     "shell.execute_reply": "2022-07-01T07:25:00.873678Z",
     "shell.execute_reply.started": "2022-07-01T07:24:57.999141Z"
    }
   },
   "outputs": [
    {
     "data": {
      "text/html": [
       "<div>\n",
       "<style scoped>\n",
       "    .dataframe tbody tr th:only-of-type {\n",
       "        vertical-align: middle;\n",
       "    }\n",
       "\n",
       "    .dataframe tbody tr th {\n",
       "        vertical-align: top;\n",
       "    }\n",
       "\n",
       "    .dataframe thead th {\n",
       "        text-align: right;\n",
       "    }\n",
       "</style>\n",
       "<table border=\"1\" class=\"dataframe\">\n",
       "  <thead>\n",
       "    <tr style=\"text-align: right;\">\n",
       "      <th></th>\n",
       "      <th>id</th>\n",
       "    </tr>\n",
       "  </thead>\n",
       "  <tbody>\n",
       "    <tr>\n",
       "      <th>0</th>\n",
       "      <td>998</td>\n",
       "    </tr>\n",
       "  </tbody>\n",
       "</table>\n",
       "</div>"
      ],
      "text/plain": [
       "    id\n",
       "0  998"
      ]
     },
     "execution_count": 4,
     "metadata": {},
     "output_type": "execute_result"
    }
   ],
   "source": [
    "df = pd.read_sql_query(sql,nanohubmetrics_db)\n",
    "df.head()"
   ]
  },
  {
   "cell_type": "code",
   "execution_count": null,
   "metadata": {},
   "outputs": [],
   "source": []
  }
 ],
 "metadata": {
  "kernelspec": {
   "display_name": "Python 3 (ipykernel)",
   "language": "python",
   "name": "python3"
  },
  "language_info": {
   "codemirror_mode": {
    "name": "ipython",
    "version": 3
   },
   "file_extension": ".py",
   "mimetype": "text/x-python",
   "name": "python",
   "nbconvert_exporter": "python",
   "pygments_lexer": "ipython3",
   "version": "3.8.10"
  }
 },
 "nbformat": 4,
 "nbformat_minor": 4
}
