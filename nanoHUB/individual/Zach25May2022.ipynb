{
 "cells": [
  {
   "cell_type": "code",
   "execution_count": 15,
   "id": "889cf790-993d-4d20-b3af-cdc415eab61a",
   "metadata": {
    "execution": {
     "iopub.execute_input": "2022-05-25T17:44:48.319756Z",
     "iopub.status.busy": "2022-05-25T17:44:48.319048Z",
     "iopub.status.idle": "2022-05-25T17:44:48.986074Z",
     "shell.execute_reply": "2022-05-25T17:44:48.919187Z",
     "shell.execute_reply.started": "2022-05-25T17:44:48.319701Z"
    },
    "tags": []
   },
   "outputs": [
    {
     "data": {
      "text/html": [
       "<div>\n",
       "<style scoped>\n",
       "    .dataframe tbody tr th:only-of-type {\n",
       "        vertical-align: middle;\n",
       "    }\n",
       "\n",
       "    .dataframe tbody tr th {\n",
       "        vertical-align: top;\n",
       "    }\n",
       "\n",
       "    .dataframe thead th {\n",
       "        text-align: right;\n",
       "    }\n",
       "</style>\n",
       "<table border=\"1\" class=\"dataframe\">\n",
       "  <thead>\n",
       "    <tr style=\"text-align: right;\">\n",
       "      <th></th>\n",
       "      <th>user</th>\n",
       "    </tr>\n",
       "  </thead>\n",
       "  <tbody>\n",
       "    <tr>\n",
       "      <th>0</th>\n",
       "      <td>herre</td>\n",
       "    </tr>\n",
       "    <tr>\n",
       "      <th>1</th>\n",
       "      <td>donovan</td>\n",
       "    </tr>\n",
       "    <tr>\n",
       "      <th>2</th>\n",
       "      <td>donovan</td>\n",
       "    </tr>\n",
       "    <tr>\n",
       "      <th>3</th>\n",
       "      <td>donovan</td>\n",
       "    </tr>\n",
       "    <tr>\n",
       "      <th>4</th>\n",
       "      <td>donovan</td>\n",
       "    </tr>\n",
       "  </tbody>\n",
       "</table>\n",
       "</div>"
      ],
      "text/plain": [
       "      user\n",
       "0    herre\n",
       "1  donovan\n",
       "2  donovan\n",
       "3  donovan\n",
       "4  donovan"
      ]
     },
     "execution_count": 15,
     "metadata": {},
     "output_type": "execute_result"
    }
   ],
   "source": [
    "import csv\n",
    "import sys\n",
    "import os\n",
    "import pandas as pd\n",
    "\n",
    "from nanoHUB.application import Application\n",
    "\n",
    "application = Application.get_instance()\n",
    "nanohub_db = application.new_db_engine('nanohub') \n",
    "nanohubmet_db = application.new_db_engine('nanohub_metrics') \n",
    "#uses .env to connect to sql database/get librarys\n",
    "\n",
    "sql1 = '''\n",
    "SELECT username \n",
    "FROM nanohub.jos_users\n",
    "LIMIT 5\n",
    ";\n",
    "'''\n",
    "\n",
    "sql2 = '''\n",
    "SELECT user\n",
    "FROM nanohub_metrics.toolstart\n",
    "LIMIT 5\n",
    ";\n",
    "'''\n",
    "\n",
    "df2 = pd.read_sql(sql2, nanohubmet_db)\n",
    "df2"
   ]
  },
  {
   "cell_type": "code",
   "execution_count": null,
   "id": "e85c7d58-2ff5-4694-90c5-d40642250712",
   "metadata": {},
   "outputs": [],
   "source": []
  }
 ],
 "metadata": {
  "kernelspec": {
   "display_name": "Python 3 (ipykernel)",
   "language": "python",
   "name": "python3"
  },
  "language_info": {
   "codemirror_mode": {
    "name": "ipython",
    "version": 3
   },
   "file_extension": ".py",
   "mimetype": "text/x-python",
   "name": "python",
   "nbconvert_exporter": "python",
   "pygments_lexer": "ipython3",
   "version": "3.8.10"
  }
 },
 "nbformat": 4,
 "nbformat_minor": 5
}
