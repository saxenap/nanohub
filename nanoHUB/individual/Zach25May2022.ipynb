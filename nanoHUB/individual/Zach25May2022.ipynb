{
 "cells": [
  {
   "cell_type": "code",
   "execution_count": 1,
   "id": "889cf790-993d-4d20-b3af-cdc415eab61a",
   "metadata": {
    "execution": {
     "iopub.execute_input": "2022-05-25T17:44:48.319756Z",
     "iopub.status.busy": "2022-05-25T17:44:48.319048Z",
     "iopub.status.idle": "2022-05-25T17:44:48.986074Z",
     "shell.execute_reply": "2022-05-25T17:44:48.919187Z",
     "shell.execute_reply.started": "2022-05-25T17:44:48.319701Z"
    },
    "tags": [],
    "pycharm": {
     "name": "#%%\n"
    }
   },
   "outputs": [
    {
     "name": "stdout",
     "output_type": "stream",
     "text": [
      "\u001B[1mnanoHUB - Serving Students, Researchers & Instructors\u001B[0m\n"
     ]
    },
    {
     "data": {
      "text/plain": "     id\n0   998\n1  1000\n2  1683\n3  1684\n4  1685",
      "text/html": "<div>\n<style scoped>\n    .dataframe tbody tr th:only-of-type {\n        vertical-align: middle;\n    }\n\n    .dataframe tbody tr th {\n        vertical-align: top;\n    }\n\n    .dataframe thead th {\n        text-align: right;\n    }\n</style>\n<table border=\"1\" class=\"dataframe\">\n  <thead>\n    <tr style=\"text-align: right;\">\n      <th></th>\n      <th>id</th>\n    </tr>\n  </thead>\n  <tbody>\n    <tr>\n      <th>0</th>\n      <td>998</td>\n    </tr>\n    <tr>\n      <th>1</th>\n      <td>1000</td>\n    </tr>\n    <tr>\n      <th>2</th>\n      <td>1683</td>\n    </tr>\n    <tr>\n      <th>3</th>\n      <td>1684</td>\n    </tr>\n    <tr>\n      <th>4</th>\n      <td>1685</td>\n    </tr>\n  </tbody>\n</table>\n</div>"
     },
     "execution_count": 1,
     "metadata": {},
     "output_type": "execute_result"
    }
   ],
   "source": [
    "import csv\n",
    "import sys\n",
    "import os\n",
    "import pandas as pd\n",
    "\n",
    "from nanoHUB.application import Application\n",
    "\n",
    "application = Application.get_instance()\n",
    "nanohub_db = application.new_db_engine('nanohub') \n",
    "nanohubmet_db = application.new_db_engine('nanohub_metrics') \n",
    "#uses .env to connect to sql database/get librarys\n",
    "\n",
    "sql1 = '''\n",
    "SELECT id\n",
    "FROM nanohub.jos_users\n",
    "LIMIT 5\n",
    ";\n",
    "'''\n",
    "\n",
    "sql2 = '''\n",
    "SELECT user\n",
    "FROM nanohub_metrics.toolstart\n",
    "LIMIT 5\n",
    ";\n",
    "'''\n",
    "\n",
    "df2 = pd.read_sql(sql1, nanohub_db)\n",
    "df2"
   ]
  },
  {
   "cell_type": "code",
   "execution_count": 10,
   "outputs": [
    {
     "data": {
      "text/plain": "   MClusterID  XClusterID  MClusterSize  XClusterSize  OverlapSize  \\\n0           1         274           272            70           62   \n1           1         285           272            68           57   \n2           1         273           272            52            1   \n3           1         276           272            46           40   \n4           1         284           272            33           31   \n\n                                      OverlapMembers  MOnlySize  \\\n0  ['recepkaratoprak19', 'emreelma757', 'sencerka...        210   \n1  ['dm932051', 'aforanurag99', 'kartiknairvariar...        215   \n2                                     ['mattykleis']        271   \n3  ['duendo', 'tuafbogey', 'wolnypokoj', 'meltems...        232   \n4  ['pwmichalak', 'jcho1895', 'darrelly', 'john_s...        241   \n\n                                        MOnlyMembers  XOnlySize  \\\n0  ['guilherme.faveri', 'mertyamanoglu', 'creutzf...          7   \n1  ['mertyamanoglu', 'duendo', 'xerato', 'ricardo...         10   \n2  ['mertyamanoglu', 'duendo', 'kartiknairvariar6...         50   \n3  ['mertyamanoglu', 'kartiknairvariar6', 'xerato...          5   \n4  ['mertyamanoglu', 'duendo', 'kartiknairvariar6...          1   \n\n                                        XOnlyMembers  CombinedSize  \\\n0  ['tevfikdingecoglu', 'hobeto1000', 'esranurcen...           279   \n1  ['supreeth9', 'pranavpage33', 'poco20102018', ...           282   \n2  ['emppalms', 'lae26', 'samuelli.pk', 's4rahlim...           322   \n3  ['kelkulanzero', 'tevfikdingecoglu', 'esranurc...           277   \n4                                      ['evelynlhu']           273   \n\n                                     CombinedMembers  \n0  ['mertyamanoglu', 'duendo', 'kartiknairvariar6...  \n1  ['mertyamanoglu', 'duendo', 'kartiknairvariar6...  \n2  ['mertyamanoglu', 'duendo', 'kartiknairvariar6...  \n3  ['mertyamanoglu', 'duendo', 'kartiknairvariar6...  \n4  ['mertyamanoglu', 'duendo', 'kartiknairvariar6...  ",
      "text/html": "<div>\n<style scoped>\n    .dataframe tbody tr th:only-of-type {\n        vertical-align: middle;\n    }\n\n    .dataframe tbody tr th {\n        vertical-align: top;\n    }\n\n    .dataframe thead th {\n        text-align: right;\n    }\n</style>\n<table border=\"1\" class=\"dataframe\">\n  <thead>\n    <tr style=\"text-align: right;\">\n      <th></th>\n      <th>MClusterID</th>\n      <th>XClusterID</th>\n      <th>MClusterSize</th>\n      <th>XClusterSize</th>\n      <th>OverlapSize</th>\n      <th>OverlapMembers</th>\n      <th>MOnlySize</th>\n      <th>MOnlyMembers</th>\n      <th>XOnlySize</th>\n      <th>XOnlyMembers</th>\n      <th>CombinedSize</th>\n      <th>CombinedMembers</th>\n    </tr>\n  </thead>\n  <tbody>\n    <tr>\n      <th>0</th>\n      <td>1</td>\n      <td>274</td>\n      <td>272</td>\n      <td>70</td>\n      <td>62</td>\n      <td>['recepkaratoprak19', 'emreelma757', 'sencerka...</td>\n      <td>210</td>\n      <td>['guilherme.faveri', 'mertyamanoglu', 'creutzf...</td>\n      <td>7</td>\n      <td>['tevfikdingecoglu', 'hobeto1000', 'esranurcen...</td>\n      <td>279</td>\n      <td>['mertyamanoglu', 'duendo', 'kartiknairvariar6...</td>\n    </tr>\n    <tr>\n      <th>1</th>\n      <td>1</td>\n      <td>285</td>\n      <td>272</td>\n      <td>68</td>\n      <td>57</td>\n      <td>['dm932051', 'aforanurag99', 'kartiknairvariar...</td>\n      <td>215</td>\n      <td>['mertyamanoglu', 'duendo', 'xerato', 'ricardo...</td>\n      <td>10</td>\n      <td>['supreeth9', 'pranavpage33', 'poco20102018', ...</td>\n      <td>282</td>\n      <td>['mertyamanoglu', 'duendo', 'kartiknairvariar6...</td>\n    </tr>\n    <tr>\n      <th>2</th>\n      <td>1</td>\n      <td>273</td>\n      <td>272</td>\n      <td>52</td>\n      <td>1</td>\n      <td>['mattykleis']</td>\n      <td>271</td>\n      <td>['mertyamanoglu', 'duendo', 'kartiknairvariar6...</td>\n      <td>50</td>\n      <td>['emppalms', 'lae26', 'samuelli.pk', 's4rahlim...</td>\n      <td>322</td>\n      <td>['mertyamanoglu', 'duendo', 'kartiknairvariar6...</td>\n    </tr>\n    <tr>\n      <th>3</th>\n      <td>1</td>\n      <td>276</td>\n      <td>272</td>\n      <td>46</td>\n      <td>40</td>\n      <td>['duendo', 'tuafbogey', 'wolnypokoj', 'meltems...</td>\n      <td>232</td>\n      <td>['mertyamanoglu', 'kartiknairvariar6', 'xerato...</td>\n      <td>5</td>\n      <td>['kelkulanzero', 'tevfikdingecoglu', 'esranurc...</td>\n      <td>277</td>\n      <td>['mertyamanoglu', 'duendo', 'kartiknairvariar6...</td>\n    </tr>\n    <tr>\n      <th>4</th>\n      <td>1</td>\n      <td>284</td>\n      <td>272</td>\n      <td>33</td>\n      <td>31</td>\n      <td>['pwmichalak', 'jcho1895', 'darrelly', 'john_s...</td>\n      <td>241</td>\n      <td>['mertyamanoglu', 'duendo', 'kartiknairvariar6...</td>\n      <td>1</td>\n      <td>['evelynlhu']</td>\n      <td>273</td>\n      <td>['mertyamanoglu', 'duendo', 'kartiknairvariar6...</td>\n    </tr>\n  </tbody>\n</table>\n</div>"
     },
     "metadata": {},
     "output_type": "display_data"
    },
    {
     "data": {
      "text/plain": "     MClusterID  XClusterID  MClusterSize  XClusterSize  OverlapSize  \\\n371         158         367             6            21            5   \n372         158         368             6            20            4   \n373         158         369             6            18            5   \n374         158         376             6            18            1   \n375         158         110             6            17            5   \n\n                                        OverlapMembers  MOnlySize  \\\n371  ['sinjan1994', 'kwabena442', 'yuxuan', 'joy_ro...          0   \n372  ['joy_roy', 'kwabena442', 'sinjan1994', 'yuxuan']          1   \n373  ['sinjan1994', 'kwabena442', 'yuxuan', 'joy_ro...          0   \n374                                      ['sudhanano']          4   \n375  ['sinjan1994', 'kwabena442', 'yuxuan', 'joy_ro...          0   \n\n                                          MOnlyMembers  XOnlySize  \\\n371                                                 []         15   \n372                                      ['sudhanano']         15   \n373                                                 []         12   \n374  ['joy_roy', 'kwabena442', 'sinjan1994', 'yuxuan']         16   \n375                                                 []         11   \n\n                                          XOnlyMembers  CombinedSize  \\\n371  ['muztobarabbani', 'timalsinabikash', 'sakidja...            20   \n372  ['muztobarabbani', 'timalsinabikash', 'sakidja...            20   \n373  ['timalsinabikash', 'sakidja', 'nadib', 'alinb...            17   \n374  ['muztobarabbani', 'timalsinabikash', 'sakidja...            21   \n375  ['timalsinabikash', 'sakidja', 'tauhid93', 'na...            16   \n\n                                       CombinedMembers  \n371  ['sinjan1994', 'sakidja', 'tauhid93', 'alinbab...  \n372  ['sinjan1994', 'sakidja', 'tauhid93', 'alinbab...  \n373  ['sinjan1994', 'sakidja', 'alinbabu', 'maldito...  \n374  ['sinjan1994', 'sakidja', 'tauhid93', 'alinbab...  \n375  ['sinjan1994', 'sakidja', 'tauhid93', 'alinbab...  ",
      "text/html": "<div>\n<style scoped>\n    .dataframe tbody tr th:only-of-type {\n        vertical-align: middle;\n    }\n\n    .dataframe tbody tr th {\n        vertical-align: top;\n    }\n\n    .dataframe thead th {\n        text-align: right;\n    }\n</style>\n<table border=\"1\" class=\"dataframe\">\n  <thead>\n    <tr style=\"text-align: right;\">\n      <th></th>\n      <th>MClusterID</th>\n      <th>XClusterID</th>\n      <th>MClusterSize</th>\n      <th>XClusterSize</th>\n      <th>OverlapSize</th>\n      <th>OverlapMembers</th>\n      <th>MOnlySize</th>\n      <th>MOnlyMembers</th>\n      <th>XOnlySize</th>\n      <th>XOnlyMembers</th>\n      <th>CombinedSize</th>\n      <th>CombinedMembers</th>\n    </tr>\n  </thead>\n  <tbody>\n    <tr>\n      <th>371</th>\n      <td>158</td>\n      <td>367</td>\n      <td>6</td>\n      <td>21</td>\n      <td>5</td>\n      <td>['sinjan1994', 'kwabena442', 'yuxuan', 'joy_ro...</td>\n      <td>0</td>\n      <td>[]</td>\n      <td>15</td>\n      <td>['muztobarabbani', 'timalsinabikash', 'sakidja...</td>\n      <td>20</td>\n      <td>['sinjan1994', 'sakidja', 'tauhid93', 'alinbab...</td>\n    </tr>\n    <tr>\n      <th>372</th>\n      <td>158</td>\n      <td>368</td>\n      <td>6</td>\n      <td>20</td>\n      <td>4</td>\n      <td>['joy_roy', 'kwabena442', 'sinjan1994', 'yuxuan']</td>\n      <td>1</td>\n      <td>['sudhanano']</td>\n      <td>15</td>\n      <td>['muztobarabbani', 'timalsinabikash', 'sakidja...</td>\n      <td>20</td>\n      <td>['sinjan1994', 'sakidja', 'tauhid93', 'alinbab...</td>\n    </tr>\n    <tr>\n      <th>373</th>\n      <td>158</td>\n      <td>369</td>\n      <td>6</td>\n      <td>18</td>\n      <td>5</td>\n      <td>['sinjan1994', 'kwabena442', 'yuxuan', 'joy_ro...</td>\n      <td>0</td>\n      <td>[]</td>\n      <td>12</td>\n      <td>['timalsinabikash', 'sakidja', 'nadib', 'alinb...</td>\n      <td>17</td>\n      <td>['sinjan1994', 'sakidja', 'alinbabu', 'maldito...</td>\n    </tr>\n    <tr>\n      <th>374</th>\n      <td>158</td>\n      <td>376</td>\n      <td>6</td>\n      <td>18</td>\n      <td>1</td>\n      <td>['sudhanano']</td>\n      <td>4</td>\n      <td>['joy_roy', 'kwabena442', 'sinjan1994', 'yuxuan']</td>\n      <td>16</td>\n      <td>['muztobarabbani', 'timalsinabikash', 'sakidja...</td>\n      <td>21</td>\n      <td>['sinjan1994', 'sakidja', 'tauhid93', 'alinbab...</td>\n    </tr>\n    <tr>\n      <th>375</th>\n      <td>158</td>\n      <td>110</td>\n      <td>6</td>\n      <td>17</td>\n      <td>5</td>\n      <td>['sinjan1994', 'kwabena442', 'yuxuan', 'joy_ro...</td>\n      <td>0</td>\n      <td>[]</td>\n      <td>11</td>\n      <td>['timalsinabikash', 'sakidja', 'tauhid93', 'na...</td>\n      <td>16</td>\n      <td>['sinjan1994', 'sakidja', 'tauhid93', 'alinbab...</td>\n    </tr>\n  </tbody>\n</table>\n</div>"
     },
     "metadata": {},
     "output_type": "display_data"
    }
   ],
   "source": [
    "from nanoHUB.configuration import ClusteringConfiguration\n",
    "from nanoHUB.clustering.infra import create_mike_xufeng_overlap_repo, get_overlap_by_semester\n",
    "from nanoHUB.pandas_helper import remove_display_restrictions\n",
    "from nanoHUB.application import Application\n",
    "\n",
    "repo = create_mike_xufeng_overlap_repo(\n",
    "        Application.get_instance(), ClusteringConfiguration().bucket_name_processed\n",
    "    )\n",
    "\n",
    "data = get_overlap_by_semester(repo, 2019, 'fall')\n",
    "display(data.head())\n",
    "display(data.tail())"
   ],
   "metadata": {
    "collapsed": false,
    "pycharm": {
     "name": "#%%\n"
    }
   }
  },
  {
   "cell_type": "code",
   "execution_count": null,
   "outputs": [],
   "source": [],
   "metadata": {
    "collapsed": false,
    "pycharm": {
     "name": "#%%\n"
    }
   }
  }
 ],
 "metadata": {
  "kernelspec": {
   "display_name": "Python 3 (ipykernel)",
   "language": "python",
   "name": "python3"
  },
  "language_info": {
   "codemirror_mode": {
    "name": "ipython",
    "version": 3
   },
   "file_extension": ".py",
   "mimetype": "text/x-python",
   "name": "python",
   "nbconvert_exporter": "python",
   "pygments_lexer": "ipython3",
   "version": "3.8.10"
  }
 },
 "nbformat": 4,
 "nbformat_minor": 5
}