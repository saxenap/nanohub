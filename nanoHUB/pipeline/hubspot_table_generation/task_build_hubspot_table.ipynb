{
 "cells": [
  {
   "cell_type": "raw",
   "metadata": {},
   "source": [
    "## Build user table containing hubspot contact informations"
   ]
  },
  {
   "cell_type": "code",
   "execution_count": 226,
   "metadata": {},
   "outputs": [],
   "source": [
    "import pandas as pd\n",
    "import os"
   ]
  },
  {
   "cell_type": "code",
   "execution_count": 227,
   "metadata": {},
   "outputs": [],
   "source": [
    "sql_login_params = {\"username\": \"wang2506_ro\", \"password\": \"fnVnwcCS7iT45EsA\"}\n",
    "sf_login_params = {\n",
    "    \"grant_type\": \"password\",\n",
    "    \"client_id\": \"3MVG95jctIhbyCppj0SNJ75IsZ1y8UPGZtSNF4j8FNVXz.De8Lu4jHm3rjRosAtsHy6qjHx3i4S_QbQzvBePG\",\n",
    "    \"client_secret\": \"D1623C6D3607D4FC8004B92C761DFB6C1F70CCD129C5501E357028DFA00F5764\",\n",
    "    \"username\":\"wang2506@purdue.edu\",\n",
    "    \"password\":\"mathisfun992728tXYwCb5yMm6XtohbTRw8ZdBbi\",\n",
    "}"
   ]
  },
  {
   "cell_type": "markdown",
   "metadata": {},
   "source": [
    "## Load input data\n",
    "\n",
    "Hubspot data: $ cwd+all_contacts.xlsx"
   ]
  },
  {
   "cell_type": "code",
   "execution_count": 244,
   "metadata": {},
   "outputs": [
    {
     "name": "stdout",
     "output_type": "stream",
     "text": [
      "C:\\Users\\henry\\Desktop\\PhD Research\\Nanohub RA\\nanohub_salesforce_integ-master\\hubspot_table_generation\n"
     ]
    }
   ],
   "source": [
    "#import data\n",
    "cwd = os.getcwd()\n",
    "print(cwd)\n",
    "temp = pd.read_csv('all-contacts.csv',chunksize=1000)"
   ]
  },
  {
   "cell_type": "code",
   "execution_count": 245,
   "metadata": {},
   "outputs": [],
   "source": [
    "# filtering the full .csv file for only \n",
    "# firstname, lastname, champion status, Number of times contacted, Number of Sales Activities\n",
    "# lifecycle stage, last contacted?\n",
    "t_list = []\n",
    "for chunk in temp:\n",
    "    t_df = pd.DataFrame() #['First Name','Last Name','Champion','Disciplines','LinkedIn Bio','Venue','Contact Type']\n",
    "    t_df['FirstName'] = chunk.loc[:,'First Name']\n",
    "    t_df['LastName'] = chunk.loc[:,'Last Name']\n",
    "    t_df['Champion'] = chunk.loc[:,'Champion']\n",
    "    t_df['Linkedin_Bio'] = chunk.loc[:,'LinkedIn Bio']\n",
    "    t_df['Venue'] = chunk.loc[:,'Venue']\n",
    "    t_df['Contact_Type'] = chunk.loc[:,'Contact Type']\n",
    "    t_df['nanoHUB_user_ID'] = chunk.loc[:,'nanoHUB ID']\n",
    "    t_df['Email'] = chunk.loc[:,'Email']\n",
    "    \n",
    "    t_discplines = chunk.loc[:,'DISCIPLINES']\n",
    "    t_field_of_study = chunk.loc[:,'Field of study']\n",
    "    t_df['Disciplines'] = t_discplines+t_field_of_study\n",
    "    \n",
    "    t_list.append(t_df)"
   ]
  },
  {
   "cell_type": "code",
   "execution_count": 246,
   "metadata": {},
   "outputs": [
    {
     "data": {
      "text/html": [
       "<div>\n",
       "<style scoped>\n",
       "    .dataframe tbody tr th:only-of-type {\n",
       "        vertical-align: middle;\n",
       "    }\n",
       "\n",
       "    .dataframe tbody tr th {\n",
       "        vertical-align: top;\n",
       "    }\n",
       "\n",
       "    .dataframe thead th {\n",
       "        text-align: right;\n",
       "    }\n",
       "</style>\n",
       "<table border=\"1\" class=\"dataframe\">\n",
       "  <thead>\n",
       "    <tr style=\"text-align: right;\">\n",
       "      <th></th>\n",
       "      <th>FirstName</th>\n",
       "      <th>LastName</th>\n",
       "      <th>Champion</th>\n",
       "      <th>Linkedin_Bio</th>\n",
       "      <th>Venue</th>\n",
       "      <th>Contact_Type</th>\n",
       "      <th>nanoHUB_user_ID</th>\n",
       "      <th>Email</th>\n",
       "      <th>Disciplines</th>\n",
       "    </tr>\n",
       "  </thead>\n",
       "  <tbody>\n",
       "    <tr>\n",
       "      <th>0</th>\n",
       "      <td>ST</td>\n",
       "      <td>H Tawfick</td>\n",
       "      <td>NaN</td>\n",
       "      <td>NaN</td>\n",
       "      <td>NaN</td>\n",
       "      <td>nanoMFG</td>\n",
       "      <td>186599.0</td>\n",
       "      <td>tawfick@illinois.edu</td>\n",
       "      <td>NaN</td>\n",
       "    </tr>\n",
       "    <tr>\n",
       "      <th>1</th>\n",
       "      <td>Jay</td>\n",
       "      <td>R Roloff</td>\n",
       "      <td>NaN</td>\n",
       "      <td>NaN</td>\n",
       "      <td>NaN</td>\n",
       "      <td>nanoMFG</td>\n",
       "      <td>199490.0</td>\n",
       "      <td>jayr@illinois.edu</td>\n",
       "      <td>NaN</td>\n",
       "    </tr>\n",
       "    <tr>\n",
       "      <th>2</th>\n",
       "      <td>Elif</td>\n",
       "      <td>Ertekin</td>\n",
       "      <td>NaN</td>\n",
       "      <td>NaN</td>\n",
       "      <td>MRS Fall 2019</td>\n",
       "      <td>nanoMFG</td>\n",
       "      <td>171646.0</td>\n",
       "      <td>ertekin@illinois.edu</td>\n",
       "      <td>NaN</td>\n",
       "    </tr>\n",
       "    <tr>\n",
       "      <th>3</th>\n",
       "      <td>Travis</td>\n",
       "      <td>Merrick</td>\n",
       "      <td>NaN</td>\n",
       "      <td>NaN</td>\n",
       "      <td>NaN</td>\n",
       "      <td>Purdue NCN Associate; nanoBIO</td>\n",
       "      <td>206944.0</td>\n",
       "      <td>tmerric@purdue.edu</td>\n",
       "      <td>NaN</td>\n",
       "    </tr>\n",
       "    <tr>\n",
       "      <th>4</th>\n",
       "      <td>Paul</td>\n",
       "      <td>Macklin</td>\n",
       "      <td>NaN</td>\n",
       "      <td>NaN</td>\n",
       "      <td>NaN</td>\n",
       "      <td>nanoBIO</td>\n",
       "      <td>178498.0</td>\n",
       "      <td>macklinp@iu.edu</td>\n",
       "      <td>NaN</td>\n",
       "    </tr>\n",
       "    <tr>\n",
       "      <th>...</th>\n",
       "      <td>...</td>\n",
       "      <td>...</td>\n",
       "      <td>...</td>\n",
       "      <td>...</td>\n",
       "      <td>...</td>\n",
       "      <td>...</td>\n",
       "      <td>...</td>\n",
       "      <td>...</td>\n",
       "      <td>...</td>\n",
       "    </tr>\n",
       "    <tr>\n",
       "      <th>185000</th>\n",
       "      <td>Southwest</td>\n",
       "      <td>Center for Microsystems Education (SCME)</td>\n",
       "      <td>NaN</td>\n",
       "      <td>Reasearch Professor at University of New Mexico</td>\n",
       "      <td>NaN</td>\n",
       "      <td>NaN</td>\n",
       "      <td>144398.0</td>\n",
       "      <td>mpleil@unm.edu</td>\n",
       "      <td>NaN</td>\n",
       "    </tr>\n",
       "    <tr>\n",
       "      <th>185001</th>\n",
       "      <td>MJ</td>\n",
       "      <td>Willis</td>\n",
       "      <td>NaN</td>\n",
       "      <td>NaN</td>\n",
       "      <td>NaN</td>\n",
       "      <td>NaN</td>\n",
       "      <td>162177.0</td>\n",
       "      <td>mjwillis@comcast.net</td>\n",
       "      <td>NaN</td>\n",
       "    </tr>\n",
       "    <tr>\n",
       "      <th>185002</th>\n",
       "      <td>Barbara</td>\n",
       "      <td>Lopez</td>\n",
       "      <td>NaN</td>\n",
       "      <td>NaN</td>\n",
       "      <td>NaN</td>\n",
       "      <td>NaN</td>\n",
       "      <td>147235.0</td>\n",
       "      <td>botero@unm.edu</td>\n",
       "      <td>NaN</td>\n",
       "    </tr>\n",
       "    <tr>\n",
       "      <th>185003</th>\n",
       "      <td>Michael</td>\n",
       "      <td>Zentner</td>\n",
       "      <td>NaN</td>\n",
       "      <td>Senior Research Scientist at Purdue University</td>\n",
       "      <td>NaN</td>\n",
       "      <td>NaN</td>\n",
       "      <td>NaN</td>\n",
       "      <td>mzentner@purdue.edu</td>\n",
       "      <td>NaN</td>\n",
       "    </tr>\n",
       "    <tr>\n",
       "      <th>185004</th>\n",
       "      <td>Cool</td>\n",
       "      <td>Robot (Sample Contact)</td>\n",
       "      <td>NaN</td>\n",
       "      <td>NaN</td>\n",
       "      <td>NaN</td>\n",
       "      <td>NaN</td>\n",
       "      <td>NaN</td>\n",
       "      <td>coolrobot@hubspot.com</td>\n",
       "      <td>NaN</td>\n",
       "    </tr>\n",
       "  </tbody>\n",
       "</table>\n",
       "<p>185005 rows × 9 columns</p>\n",
       "</div>"
      ],
      "text/plain": [
       "        FirstName                                  LastName Champion  \\\n",
       "0              ST                                 H Tawfick      NaN   \n",
       "1             Jay                                  R Roloff      NaN   \n",
       "2            Elif                                   Ertekin      NaN   \n",
       "3          Travis                                   Merrick      NaN   \n",
       "4            Paul                                   Macklin      NaN   \n",
       "...           ...                                       ...      ...   \n",
       "185000  Southwest  Center for Microsystems Education (SCME)      NaN   \n",
       "185001         MJ                                    Willis      NaN   \n",
       "185002    Barbara                                     Lopez      NaN   \n",
       "185003    Michael                                   Zentner      NaN   \n",
       "185004       Cool                    Robot (Sample Contact)      NaN   \n",
       "\n",
       "                                           Linkedin_Bio          Venue  \\\n",
       "0                                                   NaN            NaN   \n",
       "1                                                   NaN            NaN   \n",
       "2                                                   NaN  MRS Fall 2019   \n",
       "3                                                   NaN            NaN   \n",
       "4                                                   NaN            NaN   \n",
       "...                                                 ...            ...   \n",
       "185000  Reasearch Professor at University of New Mexico            NaN   \n",
       "185001                                              NaN            NaN   \n",
       "185002                                              NaN            NaN   \n",
       "185003   Senior Research Scientist at Purdue University            NaN   \n",
       "185004                                              NaN            NaN   \n",
       "\n",
       "                         Contact_Type  nanoHUB_user_ID                  Email  \\\n",
       "0                             nanoMFG         186599.0   tawfick@illinois.edu   \n",
       "1                             nanoMFG         199490.0      jayr@illinois.edu   \n",
       "2                             nanoMFG         171646.0   ertekin@illinois.edu   \n",
       "3       Purdue NCN Associate; nanoBIO         206944.0     tmerric@purdue.edu   \n",
       "4                             nanoBIO         178498.0        macklinp@iu.edu   \n",
       "...                               ...              ...                    ...   \n",
       "185000                            NaN         144398.0         mpleil@unm.edu   \n",
       "185001                            NaN         162177.0   mjwillis@comcast.net   \n",
       "185002                            NaN         147235.0         botero@unm.edu   \n",
       "185003                            NaN              NaN    mzentner@purdue.edu   \n",
       "185004                            NaN              NaN  coolrobot@hubspot.com   \n",
       "\n",
       "       Disciplines  \n",
       "0              NaN  \n",
       "1              NaN  \n",
       "2              NaN  \n",
       "3              NaN  \n",
       "4              NaN  \n",
       "...            ...  \n",
       "185000         NaN  \n",
       "185001         NaN  \n",
       "185002         NaN  \n",
       "185003         NaN  \n",
       "185004         NaN  \n",
       "\n",
       "[185005 rows x 9 columns]"
      ]
     },
     "metadata": {},
     "output_type": "display_data"
    }
   ],
   "source": [
    "df_filter = pd.concat(t_list)\n",
    "df_filter = df_filter.dropna(subset=['FirstName','LastName'])\n",
    "df_filter = df_filter.reset_index(drop=True)\n",
    "display(df_filter.head(2))"
   ]
  },
  {
   "cell_type": "code",
   "execution_count": 247,
   "metadata": {},
   "outputs": [
    {
     "data": {
      "text/html": [
       "<div>\n",
       "<style scoped>\n",
       "    .dataframe tbody tr th:only-of-type {\n",
       "        vertical-align: middle;\n",
       "    }\n",
       "\n",
       "    .dataframe tbody tr th {\n",
       "        vertical-align: top;\n",
       "    }\n",
       "\n",
       "    .dataframe thead th {\n",
       "        text-align: right;\n",
       "    }\n",
       "</style>\n",
       "<table border=\"1\" class=\"dataframe\">\n",
       "  <thead>\n",
       "    <tr style=\"text-align: right;\">\n",
       "      <th></th>\n",
       "      <th>0</th>\n",
       "    </tr>\n",
       "  </thead>\n",
       "  <tbody>\n",
       "    <tr>\n",
       "      <th>0</th>\n",
       "      <td>Tawfick</td>\n",
       "    </tr>\n",
       "    <tr>\n",
       "      <th>1</th>\n",
       "      <td>Roloff</td>\n",
       "    </tr>\n",
       "    <tr>\n",
       "      <th>2</th>\n",
       "      <td>Ertekin</td>\n",
       "    </tr>\n",
       "    <tr>\n",
       "      <th>3</th>\n",
       "      <td>Merrick</td>\n",
       "    </tr>\n",
       "    <tr>\n",
       "      <th>4</th>\n",
       "      <td>Macklin</td>\n",
       "    </tr>\n",
       "    <tr>\n",
       "      <th>...</th>\n",
       "      <td>...</td>\n",
       "    </tr>\n",
       "    <tr>\n",
       "      <th>185000</th>\n",
       "      <td>(SCME)</td>\n",
       "    </tr>\n",
       "    <tr>\n",
       "      <th>185001</th>\n",
       "      <td>Willis</td>\n",
       "    </tr>\n",
       "    <tr>\n",
       "      <th>185002</th>\n",
       "      <td>Lopez</td>\n",
       "    </tr>\n",
       "    <tr>\n",
       "      <th>185003</th>\n",
       "      <td>Zentner</td>\n",
       "    </tr>\n",
       "    <tr>\n",
       "      <th>185004</th>\n",
       "      <td>Contact)</td>\n",
       "    </tr>\n",
       "  </tbody>\n",
       "</table>\n",
       "<p>185005 rows × 1 columns</p>\n",
       "</div>"
      ],
      "text/plain": [
       "               0\n",
       "0        Tawfick\n",
       "1         Roloff\n",
       "2        Ertekin\n",
       "3        Merrick\n",
       "4        Macklin\n",
       "...          ...\n",
       "185000    (SCME)\n",
       "185001    Willis\n",
       "185002     Lopez\n",
       "185003   Zentner\n",
       "185004  Contact)\n",
       "\n",
       "[185005 rows x 1 columns]"
      ]
     },
     "execution_count": 247,
     "metadata": {},
     "output_type": "execute_result"
    }
   ],
   "source": [
    "# split last name into middle and last name\n",
    "def split_name(this_name):\n",
    "    name_list = this_name.split(' ')\n",
    "    if len(name_list) == 1:\n",
    "        return pd.Series([name_list[0]])\n",
    "    else:\n",
    "        return pd.Series([name_list[-1]])\n",
    "\n",
    "df_filter['LastName'] = df_filter['LastName'].apply(split_name)"
   ]
  },
  {
   "cell_type": "code",
   "execution_count": 248,
   "metadata": {},
   "outputs": [
    {
     "name": "stderr",
     "output_type": "stream",
     "text": [
      "C:\\Users\\henry\\Anaconda3\\envs\\tf\\lib\\site-packages\\ipykernel_launcher.py:11: SettingWithCopyWarning: \n",
      "A value is trying to be set on a copy of a slice from a DataFrame\n",
      "\n",
      "See the caveats in the documentation: http://pandas.pydata.org/pandas-docs/stable/user_guide/indexing.html#returning-a-view-versus-a-copy\n",
      "  # This is added back by InteractiveShellApp.init_path()\n"
     ]
    }
   ],
   "source": [
    "# adjusting Champion - add HS in front\n",
    "def hs_add(champ):\n",
    "    if champ == 'Yes':\n",
    "        return pd.Series(['HS champion'])\n",
    "#df_filter['Champion'].apply(lambda x: 'HS champion' if x == 'Yes' else None)\n",
    "#df_filter['Champion'].apply(hs_add)\n",
    "#df_filter['Champion'][53] = 'HS champion'\n",
    "    \n",
    "for i,j in enumerate(df_filter['Champion']):\n",
    "    if j == 'Yes':\n",
    "        df_filter['Champion'][i] = 'HS champion'"
   ]
  },
  {
   "cell_type": "code",
   "execution_count": 249,
   "metadata": {},
   "outputs": [
    {
     "name": "stderr",
     "output_type": "stream",
     "text": [
      "C:\\Users\\henry\\Anaconda3\\envs\\tf\\lib\\site-packages\\ipykernel_launcher.py:4: SettingWithCopyWarning: \n",
      "A value is trying to be set on a copy of a slice from a DataFrame\n",
      "\n",
      "See the caveats in the documentation: http://pandas.pydata.org/pandas-docs/stable/user_guide/indexing.html#returning-a-view-versus-a-copy\n",
      "  after removing the cwd from sys.path.\n"
     ]
    },
    {
     "data": {
      "text/plain": [
       "0                 NaN\n",
       "1                 NaN\n",
       "2    HS MRS Fall 2019\n",
       "3                 NaN\n",
       "4                 NaN\n",
       "Name: Venue, dtype: object"
      ]
     },
     "execution_count": 249,
     "metadata": {},
     "output_type": "execute_result"
    }
   ],
   "source": [
    "# adjusting Venue column - add HS in front\n",
    "for i,j in enumerate(df_filter['Venue']):\n",
    "    if type(j) == str:\n",
    "        df_filter['Venue'][i] = 'HS '+ df_filter['Venue'][i]\n",
    "df_filter['Venue'].head(5)"
   ]
  },
  {
   "cell_type": "markdown",
   "metadata": {},
   "source": [
    "## split dataframe into two separate dataframes - one for leads, other for contacts"
   ]
  },
  {
   "cell_type": "code",
   "execution_count": 250,
   "metadata": {},
   "outputs": [
    {
     "name": "stdout",
     "output_type": "stream",
     "text": [
      "Obtained Salesforce access token ...... True\n"
     ]
    }
   ],
   "source": [
    "# Obtain contacts metadata from Salesforce\n",
    "from DB2SalesforceAPI import DB2SalesforceAPI\n",
    "\n",
    "# create DB2 to Salesforce API object\n",
    "db_s = DB2SalesforceAPI(sf_login_params)\n",
    "\n",
    "# specify Salesforce object ID and external ID\n",
    "contact_metadata = db_s.get_obj_metadata('Contact')"
   ]
  },
  {
   "cell_type": "code",
   "execution_count": 251,
   "metadata": {},
   "outputs": [
    {
     "data": {
      "text/plain": [
       "['Type',\n",
       " 'nanoHUB_user_ID',\n",
       " 'nanoHUB_username',\n",
       " 'Organization_Type',\n",
       " 'nanoHUB_registration_date']"
      ]
     },
     "metadata": {},
     "output_type": "display_data"
    }
   ],
   "source": [
    "import json\n",
    "\n",
    "# get all fields\n",
    "field_list = json.loads(contact_metadata)['fields']\n",
    "\n",
    "# list of available field API names\n",
    "available_fields = list()\n",
    "\n",
    "for this_field in field_list:\n",
    "    this_name = this_field['name']\n",
    "    \n",
    "    if len(this_name) > 3:\n",
    "        if this_name[-3:] == '__c':\n",
    "            # this is a custom-made field\n",
    "            available_fields.append(this_name[:-3])\n",
    "            \n",
    "# display\n",
    "display(available_fields[:5])"
   ]
  },
  {
   "cell_type": "code",
   "execution_count": 269,
   "metadata": {},
   "outputs": [],
   "source": [
    "#basically, if the name in df_filter has a non-NaN/Nonetype entry for nanoHUB_user_ID column\n",
    "#then they already exist as a contact\n",
    "ci1 = df_filter['nanoHUB_user_ID'].notna()\n",
    "ci2 = df_filter['Champion'].notna()\n",
    "contacts_indices = ci1|ci2\n",
    "\n",
    "import numpy as np\n",
    "leads_indices = np.ones(contacts_indices.shape[0],dtype=bool) ^ contacts_indices\n",
    "#leads_indices = df_filter['nanoHUB_user_ID'].isna() & df_filter['Champion'].isna()"
   ]
  },
  {
   "cell_type": "markdown",
   "metadata": {},
   "source": [
    "## Match data with Salesforce format [CONTACTS]"
   ]
  },
  {
   "cell_type": "code",
   "execution_count": 278,
   "metadata": {},
   "outputs": [
    {
     "data": {
      "text/plain": [
       "{'Champion',\n",
       " 'Contact_Type',\n",
       " 'Disciplines',\n",
       " 'Linkedin_Bio',\n",
       " 'Venue',\n",
       " 'nanoHUB_user_ID'}"
      ]
     },
     "metadata": {},
     "output_type": "display_data"
    }
   ],
   "source": [
    "# get contacts specific dataframe\n",
    "contacts_df = df_filter[contacts_indices]\n",
    "# find columns that have matched fields in Salesforce\n",
    "matched_columns = set(contacts_df.columns).intersection(set(available_fields))\n",
    "\n",
    "# display\n",
    "display(matched_columns)"
   ]
  },
  {
   "cell_type": "code",
   "execution_count": 279,
   "metadata": {},
   "outputs": [
    {
     "data": {
      "text/html": [
       "<div>\n",
       "<style scoped>\n",
       "    .dataframe tbody tr th:only-of-type {\n",
       "        vertical-align: middle;\n",
       "    }\n",
       "\n",
       "    .dataframe tbody tr th {\n",
       "        vertical-align: top;\n",
       "    }\n",
       "\n",
       "    .dataframe thead th {\n",
       "        text-align: right;\n",
       "    }\n",
       "</style>\n",
       "<table border=\"1\" class=\"dataframe\">\n",
       "  <thead>\n",
       "    <tr style=\"text-align: right;\">\n",
       "      <th></th>\n",
       "      <th>0</th>\n",
       "      <th>1</th>\n",
       "    </tr>\n",
       "  </thead>\n",
       "  <tbody>\n",
       "    <tr>\n",
       "      <th>firstname</th>\n",
       "      <td>ST</td>\n",
       "      <td>Jay</td>\n",
       "    </tr>\n",
       "    <tr>\n",
       "      <th>lastname</th>\n",
       "      <td>H Tawfick</td>\n",
       "      <td>R Roloff</td>\n",
       "    </tr>\n",
       "    <tr>\n",
       "      <th>nanoHUB_user_ID__c</th>\n",
       "      <td>186599</td>\n",
       "      <td>199490</td>\n",
       "    </tr>\n",
       "    <tr>\n",
       "      <th>Email</th>\n",
       "      <td>tawfick@illinois.edu</td>\n",
       "      <td>jayr@illinois.edu</td>\n",
       "    </tr>\n",
       "    <tr>\n",
       "      <th>Champion__c</th>\n",
       "      <td>NaN</td>\n",
       "      <td>NaN</td>\n",
       "    </tr>\n",
       "    <tr>\n",
       "      <th>Contact_Type__c</th>\n",
       "      <td>nanoMFG</td>\n",
       "      <td>nanoMFG</td>\n",
       "    </tr>\n",
       "    <tr>\n",
       "      <th>Venue__c</th>\n",
       "      <td>NaN</td>\n",
       "      <td>NaN</td>\n",
       "    </tr>\n",
       "    <tr>\n",
       "      <th>Linkedin_Bio__c</th>\n",
       "      <td>NaN</td>\n",
       "      <td>NaN</td>\n",
       "    </tr>\n",
       "    <tr>\n",
       "      <th>Disciplines__c</th>\n",
       "      <td>NaN</td>\n",
       "      <td>NaN</td>\n",
       "    </tr>\n",
       "  </tbody>\n",
       "</table>\n",
       "</div>"
      ],
      "text/plain": [
       "                                       0                  1\n",
       "firstname                             ST                Jay\n",
       "lastname                       H Tawfick           R Roloff\n",
       "nanoHUB_user_ID__c                186599             199490\n",
       "Email               tawfick@illinois.edu  jayr@illinois.edu\n",
       "Champion__c                          NaN                NaN\n",
       "Contact_Type__c                  nanoMFG            nanoMFG\n",
       "Venue__c                             NaN                NaN\n",
       "Linkedin_Bio__c                      NaN                NaN\n",
       "Disciplines__c                       NaN                NaN"
      ]
     },
     "execution_count": 279,
     "metadata": {},
     "output_type": "execute_result"
    }
   ],
   "source": [
    "df_sf_contacts = pd.DataFrame()\n",
    "\n",
    "# names, nanohub id, and email\n",
    "df_sf_contacts['firstname'] = contacts_df['FirstName']\n",
    "df_sf_contacts['lastname'] = contacts_df['LastName']\n",
    "df_sf_contacts['nanoHUB_user_ID__c']            = contacts_df['nanoHUB_user_ID']\n",
    "df_sf_contacts['Email']                         = contacts_df['Email'].fillna('').apply(lambda x: '' if '@invalid' in x else x)\n",
    "\n",
    "# hubspot specific qualities\n",
    "df_sf_contacts['Champion__c'] = contacts_df['Champion']\n",
    "df_sf_contacts['Contact_Type__c'] = contacts_df['Contact_Type']\n",
    "df_sf_contacts['Venue__c'] = contacts_df['Venue']\n",
    "df_sf_contacts['Linkedin_Bio__c'] = contacts_df['Linkedin_Bio']\n",
    "df_sf_contacts['Disciplines__c'] = contacts_df['Disciplines']\n",
    "\n",
    "\n",
    "# display\n",
    "df_sf_contacts.head(2).T"
   ]
  },
  {
   "cell_type": "code",
   "execution_count": 280,
   "metadata": {},
   "outputs": [
    {
     "name": "stdout",
     "output_type": "stream",
     "text": [
      "Obtained Salesforce access token ...... True\n"
     ]
    }
   ],
   "source": [
    "external_id = 'Email'\n",
    "object_id = 'Contact'\n",
    "\n",
    "# create DB2 to Salesforce API object\n",
    "db_s = DB2SalesforceAPI(sf_login_params)\n",
    "\n",
    "# specify Salesforce object ID and external ID\n",
    "db_s.object_id = object_id \n",
    "db_s.external_id = external_id"
   ]
  },
  {
   "cell_type": "code",
   "execution_count": 281,
   "metadata": {},
   "outputs": [
    {
     "name": "stdout",
     "output_type": "stream",
     "text": [
      "[Success] Bulk job creation successful. Job ID = 7505w00000O3dRZAAZ\n",
      "hello\n",
      "[Success] CSV upload successful. Job ID = 7505w00000O3dRZAAZ\n",
      "[Success] Closing job successful. Job ID = 7505w00000O3dRZAAZ\n"
     ]
    }
   ],
   "source": [
    "db_s.send_data(df_sf_contacts)"
   ]
  },
  {
   "cell_type": "code",
   "execution_count": 282,
   "metadata": {},
   "outputs": [
    {
     "data": {
      "text/plain": [
       "{'id': '7505w00000O3dRZAAZ',\n",
       " 'operation': 'upsert',\n",
       " 'object': 'Contact',\n",
       " 'createdById': '0055w00000DM5bOAAT',\n",
       " 'createdDate': '2020-07-15T18:05:47.000+0000',\n",
       " 'systemModstamp': '2020-07-15T18:06:02.000+0000',\n",
       " 'state': 'UploadComplete',\n",
       " 'externalIdFieldName': 'Email',\n",
       " 'concurrencyMode': 'Parallel',\n",
       " 'contentType': 'CSV',\n",
       " 'apiVersion': 47.0,\n",
       " 'jobType': 'V2Ingest',\n",
       " 'lineEnding': 'LF',\n",
       " 'columnDelimiter': 'COMMA',\n",
       " 'numberRecordsProcessed': 0,\n",
       " 'numberRecordsFailed': 0,\n",
       " 'retries': 0,\n",
       " 'totalProcessingTime': 0,\n",
       " 'apiActiveProcessingTime': 0,\n",
       " 'apexProcessingTime': 0}"
      ]
     },
     "execution_count": 282,
     "metadata": {},
     "output_type": "execute_result"
    }
   ],
   "source": [
    "# check status\n",
    "db_s.check_bulk_status()"
   ]
  },
  {
   "cell_type": "code",
   "execution_count": 283,
   "metadata": {},
   "outputs": [
    {
     "name": "stdout",
     "output_type": "stream",
     "text": [
      "''\n"
     ]
    }
   ],
   "source": [
    "# check status\n",
    "from pprint import pprint\n",
    "\n",
    "pprint(db_s.check_bulk_failed_results())"
   ]
  },
  {
   "cell_type": "raw",
   "metadata": {},
   "source": []
  },
  {
   "cell_type": "markdown",
   "metadata": {},
   "source": [
    "## Match data with Salesforce format [LEADS]"
   ]
  },
  {
   "cell_type": "code",
   "execution_count": 284,
   "metadata": {},
   "outputs": [
    {
     "data": {
      "text/plain": [
       "{'Champion',\n",
       " 'Contact_Type',\n",
       " 'Disciplines',\n",
       " 'Linkedin_Bio',\n",
       " 'Venue',\n",
       " 'nanoHUB_user_ID'}"
      ]
     },
     "metadata": {},
     "output_type": "display_data"
    }
   ],
   "source": [
    "# get leads specific dataframe\n",
    "leads_df = df_filter[leads_indices]\n",
    "# find columns that have matched fields in Salesforce\n",
    "matched_columns = set(leads_df.columns).intersection(set(available_fields))\n",
    "\n",
    "# display\n",
    "display(matched_columns)"
   ]
  },
  {
   "cell_type": "code",
   "execution_count": 296,
   "metadata": {},
   "outputs": [
    {
     "data": {
      "text/html": [
       "<div>\n",
       "<style scoped>\n",
       "    .dataframe tbody tr th:only-of-type {\n",
       "        vertical-align: middle;\n",
       "    }\n",
       "\n",
       "    .dataframe tbody tr th {\n",
       "        vertical-align: top;\n",
       "    }\n",
       "\n",
       "    .dataframe thead th {\n",
       "        text-align: right;\n",
       "    }\n",
       "</style>\n",
       "<table border=\"1\" class=\"dataframe\">\n",
       "  <thead>\n",
       "    <tr style=\"text-align: right;\">\n",
       "      <th></th>\n",
       "      <th>7</th>\n",
       "      <th>8</th>\n",
       "    </tr>\n",
       "  </thead>\n",
       "  <tbody>\n",
       "    <tr>\n",
       "      <th>firstname</th>\n",
       "      <td>Geoffrey</td>\n",
       "      <td>Hai</td>\n",
       "    </tr>\n",
       "    <tr>\n",
       "      <th>lastname</th>\n",
       "      <td>Fox</td>\n",
       "      <td>Pham</td>\n",
       "    </tr>\n",
       "    <tr>\n",
       "      <th>Venue__c</th>\n",
       "      <td>NaN</td>\n",
       "      <td>HS SACNAS 2019</td>\n",
       "    </tr>\n",
       "    <tr>\n",
       "      <th>Email</th>\n",
       "      <td>gcfexchange@gmail.com</td>\n",
       "      <td>haipham5050@gmail.com</td>\n",
       "    </tr>\n",
       "    <tr>\n",
       "      <th>Contact_Type__c</th>\n",
       "      <td>nanoBIO</td>\n",
       "      <td>URE Interest</td>\n",
       "    </tr>\n",
       "    <tr>\n",
       "      <th>Linkedin_Bio__c</th>\n",
       "      <td>NaN</td>\n",
       "      <td>NaN</td>\n",
       "    </tr>\n",
       "    <tr>\n",
       "      <th>LeadSource</th>\n",
       "      <td>Hubspot</td>\n",
       "      <td>Hubspot</td>\n",
       "    </tr>\n",
       "    <tr>\n",
       "      <th>Company</th>\n",
       "      <td>-</td>\n",
       "      <td>-</td>\n",
       "    </tr>\n",
       "  </tbody>\n",
       "</table>\n",
       "</div>"
      ],
      "text/plain": [
       "                                     7                      8\n",
       "firstname                     Geoffrey                    Hai\n",
       "lastname                           Fox                   Pham\n",
       "Venue__c                           NaN         HS SACNAS 2019\n",
       "Email            gcfexchange@gmail.com  haipham5050@gmail.com\n",
       "Contact_Type__c                nanoBIO           URE Interest\n",
       "Linkedin_Bio__c                    NaN                    NaN\n",
       "LeadSource                     Hubspot                Hubspot\n",
       "Company                              -                      -"
      ]
     },
     "execution_count": 296,
     "metadata": {},
     "output_type": "execute_result"
    }
   ],
   "source": [
    "df_sf_leads = pd.DataFrame()\n",
    "\n",
    "# create a new column for object name\n",
    "df_sf_leads['firstname'] = leads_df['FirstName']\n",
    "df_sf_leads['lastname'] = leads_df['LastName']\n",
    "df_sf_leads['Venue__c'] = leads_df['Venue']\n",
    "df_sf_leads['Email'] = leads_df['Email'].fillna('').apply(lambda x: '' if '@invalid' in x else x)\n",
    "df_sf_leads['Contact_Type__c'] = leads_df['Contact_Type']\n",
    "df_sf_leads['Linkedin_Bio__c'] = leads_df['Linkedin_Bio']\n",
    "df_sf_leads['LeadSource'] = 'Hubspot'\n",
    "\n",
    "df_sf_leads['Company'] = np.ones(leads_df['FirstName'].shape[0])*np.nan\n",
    "\n",
    "# Company cannot be empty\n",
    "df_sf_leads['Company'] = df_sf_leads['Company'].fillna('-')\n",
    "df_sf_leads['Company'] = df_sf_leads['Company'].apply(lambda x: x if len(x.strip())>0 else '-')\n",
    "\n",
    "\n",
    "# display\n",
    "df_sf_leads.head(2).T"
   ]
  },
  {
   "cell_type": "code",
   "execution_count": 297,
   "metadata": {},
   "outputs": [
    {
     "name": "stdout",
     "output_type": "stream",
     "text": [
      "Obtained Salesforce access token ...... True\n"
     ]
    }
   ],
   "source": [
    "external_id = 'Email'\n",
    "object_id = 'Lead'\n",
    "# create DB2 to Salesforce API object\n",
    "db_s = DB2SalesforceAPI(sf_login_params)\n",
    "\n",
    "# specify Salesforce object ID and external ID\n",
    "db_s.object_id = object_id \n",
    "db_s.external_id = external_id"
   ]
  },
  {
   "cell_type": "code",
   "execution_count": 298,
   "metadata": {},
   "outputs": [
    {
     "name": "stdout",
     "output_type": "stream",
     "text": [
      "[Success] Bulk job creation successful. Job ID = 7505w00000O3dizAAB\n",
      "hello\n",
      "[Success] CSV upload successful. Job ID = 7505w00000O3dizAAB\n",
      "[Success] Closing job successful. Job ID = 7505w00000O3dizAAB\n"
     ]
    }
   ],
   "source": [
    "db_s.send_data(df_sf_leads)"
   ]
  },
  {
   "cell_type": "code",
   "execution_count": 299,
   "metadata": {},
   "outputs": [
    {
     "data": {
      "text/plain": [
       "{'id': '7505w00000O3dizAAB',\n",
       " 'operation': 'upsert',\n",
       " 'object': 'Lead',\n",
       " 'createdById': '0055w00000DM5bOAAT',\n",
       " 'createdDate': '2020-07-15T18:23:07.000+0000',\n",
       " 'systemModstamp': '2020-07-15T18:23:08.000+0000',\n",
       " 'state': 'UploadComplete',\n",
       " 'externalIdFieldName': 'Email',\n",
       " 'concurrencyMode': 'Parallel',\n",
       " 'contentType': 'CSV',\n",
       " 'apiVersion': 47.0,\n",
       " 'jobType': 'V2Ingest',\n",
       " 'lineEnding': 'LF',\n",
       " 'columnDelimiter': 'COMMA',\n",
       " 'numberRecordsProcessed': 0,\n",
       " 'numberRecordsFailed': 0,\n",
       " 'retries': 0,\n",
       " 'totalProcessingTime': 0,\n",
       " 'apiActiveProcessingTime': 0,\n",
       " 'apexProcessingTime': 0}"
      ]
     },
     "execution_count": 299,
     "metadata": {},
     "output_type": "execute_result"
    }
   ],
   "source": [
    "# check status\n",
    "db_s.check_bulk_status()"
   ]
  },
  {
   "cell_type": "code",
   "execution_count": 294,
   "metadata": {},
   "outputs": [
    {
     "name": "stdout",
     "output_type": "stream",
     "text": [
      "''\n"
     ]
    }
   ],
   "source": [
    "# check status\n",
    "from pprint import pprint\n",
    "\n",
    "pprint(db_s.check_bulk_failed_results())"
   ]
  },
  {
   "cell_type": "code",
   "execution_count": null,
   "metadata": {},
   "outputs": [],
   "source": []
  }
 ],
 "metadata": {
  "kernelspec": {
   "display_name": "Python 3",
   "language": "python",
   "name": "python3"
  },
  "language_info": {
   "codemirror_mode": {
    "name": "ipython",
    "version": 3
   },
   "file_extension": ".py",
   "mimetype": "text/x-python",
   "name": "python",
   "nbconvert_exporter": "python",
   "pygments_lexer": "ipython3",
   "version": "3.7.6"
  }
 },
 "nbformat": 4,
 "nbformat_minor": 4
}
