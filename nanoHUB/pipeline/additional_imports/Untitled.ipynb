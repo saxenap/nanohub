{
 "cells": [
  {
   "cell_type": "code",
   "execution_count": 7,
   "metadata": {},
   "outputs": [],
   "source": [
    "import numpy as np\n",
    "import pandas as pd\n",
    "import os\n",
    "from DB2SalesforceAPI import DB2SalesforceAPI\n",
    "\n",
    "sql_login_params = {\"username\": \"wang2506_ro\", \"password\": \"fnVnwcCS7iT45EsA\"}\n",
    "sf_login_params = {\n",
    "    \"grant_type\": \"password\",\n",
    "    \"client_id\": \"3MVG95jctIhbyCppj0SNJ75IsZ1y8UPGZtSNF4j8FNVXz.De8Lu4jHm3rjRosAtsHy6qjHx3i4S_QbQzvBePG\",\n",
    "    \"client_secret\": \"D1623C6D3607D4FC8004B92C761DFB6C1F70CCD129C5501E357028DFA00F5764\",\n",
    "    \"username\":\"wang2506@purdue.edu\",\n",
    "    \"password\":\"sf2021shitOPmlIiFMLnrudgC6oSX0WV1T\", \n",
    "}"
   ]
  },
  {
   "cell_type": "code",
   "execution_count": 2,
   "metadata": {},
   "outputs": [],
   "source": [
    "cwd = os.getcwd()"
   ]
  },
  {
   "cell_type": "code",
   "execution_count": 3,
   "metadata": {},
   "outputs": [],
   "source": [
    "#input new filename here\n",
    "filename = 'NCN URE UCEE SURF SURI Contact List.xlsx' #'Citrine Webinar Sent.csv'\n",
    "f_type = filename.split('.')[-1]"
   ]
  },
  {
   "cell_type": "code",
   "execution_count": 4,
   "metadata": {},
   "outputs": [
    {
     "name": "stdout",
     "output_type": "stream",
     "text": [
      "['Contact List']\n",
      "     First Name Last Name                Email  Alternate email  \\\n",
      "0  Thomas James   Andrews  tjandrew@purdue.edu              NaN   \n",
      "1      Win Than      Aung  wwinthan@purdue.edu              NaN   \n",
      "\n",
      "   Participation year  \n",
      "0                2008  \n",
      "1                2008  \n"
     ]
    }
   ],
   "source": [
    "#pandas import\n",
    "if f_type == 'csv':\n",
    "    idf = pd.read_csv(cwd+'/Data Files/'+filename,encoding='utf-16',sep='\\t')\n",
    "                      #,encoding=\"cp1252\",error_bad_lines=False)#,usecols=[12])#col_fields)\n",
    "elif f_type == 'xlsx' or f_type == 'xls':\n",
    "    xl = pd.ExcelFile(cwd+'/Data Files/'+filename)\n",
    "    print(xl.sheet_names)# see all sheet names\n",
    "    sheet_names = xl.parse(xl.sheet_names) #this already performs an import\n",
    "    \n",
    "    idf = pd.read_excel(cwd+'/Data Files/'+filename,sheet_name=0,header=0)\n",
    "\n",
    "print(idf.head(2))"
   ]
  },
  {
   "cell_type": "code",
   "execution_count": 6,
   "metadata": {},
   "outputs": [
    {
     "data": {
      "text/html": [
       "<div>\n",
       "<style scoped>\n",
       "    .dataframe tbody tr th:only-of-type {\n",
       "        vertical-align: middle;\n",
       "    }\n",
       "\n",
       "    .dataframe tbody tr th {\n",
       "        vertical-align: top;\n",
       "    }\n",
       "\n",
       "    .dataframe thead th {\n",
       "        text-align: right;\n",
       "    }\n",
       "</style>\n",
       "<table border=\"1\" class=\"dataframe\">\n",
       "  <thead>\n",
       "    <tr style=\"text-align: right;\">\n",
       "      <th></th>\n",
       "      <th>First Name</th>\n",
       "      <th>Last Name</th>\n",
       "      <th>Email</th>\n",
       "      <th>Alternate email</th>\n",
       "      <th>Participation year</th>\n",
       "    </tr>\n",
       "  </thead>\n",
       "  <tbody>\n",
       "    <tr>\n",
       "      <th>0</th>\n",
       "      <td>Thomas James</td>\n",
       "      <td>Andrews</td>\n",
       "      <td>tjandrew@purdue.edu</td>\n",
       "      <td>NaN</td>\n",
       "      <td>2008</td>\n",
       "    </tr>\n",
       "    <tr>\n",
       "      <th>1</th>\n",
       "      <td>Win Than</td>\n",
       "      <td>Aung</td>\n",
       "      <td>wwinthan@purdue.edu</td>\n",
       "      <td>NaN</td>\n",
       "      <td>2008</td>\n",
       "    </tr>\n",
       "    <tr>\n",
       "      <th>2</th>\n",
       "      <td>Soumava</td>\n",
       "      <td>Bera</td>\n",
       "      <td>sbera@purdue.edu</td>\n",
       "      <td>NaN</td>\n",
       "      <td>2008</td>\n",
       "    </tr>\n",
       "    <tr>\n",
       "      <th>3</th>\n",
       "      <td>Gloria Wahyu</td>\n",
       "      <td>Budiman</td>\n",
       "      <td>gbudiman@purdue.edu</td>\n",
       "      <td>NaN</td>\n",
       "      <td>2008</td>\n",
       "    </tr>\n",
       "    <tr>\n",
       "      <th>4</th>\n",
       "      <td>Prachi R.</td>\n",
       "      <td>Goyal</td>\n",
       "      <td>goyalp@purdue.edu</td>\n",
       "      <td>NaN</td>\n",
       "      <td>2008</td>\n",
       "    </tr>\n",
       "    <tr>\n",
       "      <th>...</th>\n",
       "      <td>...</td>\n",
       "      <td>...</td>\n",
       "      <td>...</td>\n",
       "      <td>...</td>\n",
       "      <td>...</td>\n",
       "    </tr>\n",
       "    <tr>\n",
       "      <th>257</th>\n",
       "      <td>Cindy</td>\n",
       "      <td>Nguyen</td>\n",
       "      <td>clenguyen19@gmail.com</td>\n",
       "      <td>clenguyen19@gmail.com</td>\n",
       "      <td>2020</td>\n",
       "    </tr>\n",
       "    <tr>\n",
       "      <th>258</th>\n",
       "      <td>Jon</td>\n",
       "      <td>Nykiel</td>\n",
       "      <td>nykiel.4@osu.edu</td>\n",
       "      <td>jonathannykiel@gmail.com</td>\n",
       "      <td>2020</td>\n",
       "    </tr>\n",
       "    <tr>\n",
       "      <th>259</th>\n",
       "      <td>Nicole</td>\n",
       "      <td>Shuman</td>\n",
       "      <td>nshuman@ucdavis.edu</td>\n",
       "      <td>NaN</td>\n",
       "      <td>2020</td>\n",
       "    </tr>\n",
       "    <tr>\n",
       "      <th>260</th>\n",
       "      <td>Joseph</td>\n",
       "      <td>Williams</td>\n",
       "      <td>joseph.williams@ufl.edu</td>\n",
       "      <td>joseph.williams9811@gmail.com</td>\n",
       "      <td>2020</td>\n",
       "    </tr>\n",
       "    <tr>\n",
       "      <th>261</th>\n",
       "      <td>Mye'on</td>\n",
       "      <td>Williams</td>\n",
       "      <td>mwilliams0578@tuskegee.edu</td>\n",
       "      <td>NaN</td>\n",
       "      <td>2020</td>\n",
       "    </tr>\n",
       "  </tbody>\n",
       "</table>\n",
       "<p>262 rows × 5 columns</p>\n",
       "</div>"
      ],
      "text/plain": [
       "       First Name Last Name                      Email   \\\n",
       "0    Thomas James   Andrews        tjandrew@purdue.edu    \n",
       "1        Win Than      Aung        wwinthan@purdue.edu    \n",
       "2         Soumava      Bera           sbera@purdue.edu    \n",
       "3    Gloria Wahyu   Budiman        gbudiman@purdue.edu    \n",
       "4       Prachi R.     Goyal          goyalp@purdue.edu    \n",
       "..            ...       ...                         ...   \n",
       "257         Cindy    Nguyen       clenguyen19@gmail.com   \n",
       "258           Jon    Nykiel            nykiel.4@osu.edu   \n",
       "259        Nicole    Shuman         nshuman@ucdavis.edu   \n",
       "260        Joseph  Williams     joseph.williams@ufl.edu   \n",
       "261        Mye'on  Williams  mwilliams0578@tuskegee.edu   \n",
       "\n",
       "                   Alternate email  Participation year  \n",
       "0                              NaN                2008  \n",
       "1                              NaN                2008  \n",
       "2                              NaN                2008  \n",
       "3                              NaN                2008  \n",
       "4                              NaN                2008  \n",
       "..                             ...                 ...  \n",
       "257          clenguyen19@gmail.com                2020  \n",
       "258       jonathannykiel@gmail.com                2020  \n",
       "259                            NaN                2020  \n",
       "260  joseph.williams9811@gmail.com                2020  \n",
       "261                            NaN                2020  \n",
       "\n",
       "[262 rows x 5 columns]"
      ]
     },
     "metadata": {},
     "output_type": "display_data"
    }
   ],
   "source": [
    "#idf = idf.dropna(subset=['Email Address'])\n",
    "display(idf)"
   ]
  },
  {
   "cell_type": "code",
   "execution_count": 8,
   "metadata": {},
   "outputs": [
    {
     "name": "stdout",
     "output_type": "stream",
     "text": [
      "Obtained Salesforce access token ...... True\n"
     ]
    }
   ],
   "source": [
    "# salesforce queries for contact data\n",
    "db_s = DB2SalesforceAPI(sf_login_params)\n",
    "\n",
    "# deciding the queries\n",
    "from copy import deepcopy"
   ]
  },
  {
   "cell_type": "code",
   "execution_count": 10,
   "metadata": {},
   "outputs": [
    {
     "name": "stdout",
     "output_type": "stream",
     "text": [
      "[Success] Bulk job creation successful. Job ID = 7505w00000Uewo9AAB\n",
      "{\"id\":\"7505w00000Uewo9AAB\",\"operation\":\"query\",\"object\":\"Contact\",\"createdById\":\"0055w00000DM5bOAAT\",\"createdDate\":\"2021-03-05T16:08:35.000+0000\",\"systemModstamp\":\"2021-03-05T16:08:35.000+0000\",\"state\":\"UploadComplete\",\"concurrencyMode\":\"Parallel\",\"contentType\":\"CSV\",\"apiVersion\":47.0,\"jobType\":\"V2Query\",\"lineEnding\":\"LF\",\"columnDelimiter\":\"COMMA\",\"retries\":0,\"totalProcessingTime\":0}\n",
      "{\"id\":\"7505w00000Uewo9AAB\",\"operation\":\"query\",\"object\":\"Contact\",\"createdById\":\"0055w00000DM5bOAAT\",\"createdDate\":\"2021-03-05T16:08:35.000+0000\",\"systemModstamp\":\"2021-03-05T16:08:36.000+0000\",\"state\":\"InProgress\",\"concurrencyMode\":\"Parallel\",\"contentType\":\"CSV\",\"apiVersion\":47.0,\"jobType\":\"V2Query\",\"lineEnding\":\"LF\",\"columnDelimiter\":\"COMMA\",\"numberRecordsProcessed\":0,\"retries\":0,\"totalProcessingTime\":0}\n",
      "{\"id\":\"7505w00000Uewo9AAB\",\"operation\":\"query\",\"object\":\"Contact\",\"createdById\":\"0055w00000DM5bOAAT\",\"createdDate\":\"2021-03-05T16:08:35.000+0000\",\"systemModstamp\":\"2021-03-05T16:08:36.000+0000\",\"state\":\"InProgress\",\"concurrencyMode\":\"Parallel\",\"contentType\":\"CSV\",\"apiVersion\":47.0,\"jobType\":\"V2Query\",\"lineEnding\":\"LF\",\"columnDelimiter\":\"COMMA\",\"numberRecordsProcessed\":0,\"retries\":0,\"totalProcessingTime\":0}\n",
      "{\"id\":\"7505w00000Uewo9AAB\",\"operation\":\"query\",\"object\":\"Contact\",\"createdById\":\"0055w00000DM5bOAAT\",\"createdDate\":\"2021-03-05T16:08:35.000+0000\",\"systemModstamp\":\"2021-03-05T16:08:36.000+0000\",\"state\":\"InProgress\",\"concurrencyMode\":\"Parallel\",\"contentType\":\"CSV\",\"apiVersion\":47.0,\"jobType\":\"V2Query\",\"lineEnding\":\"LF\",\"columnDelimiter\":\"COMMA\",\"numberRecordsProcessed\":0,\"retries\":0,\"totalProcessingTime\":0}\n",
      "{\"id\":\"7505w00000Uewo9AAB\",\"operation\":\"query\",\"object\":\"Contact\",\"createdById\":\"0055w00000DM5bOAAT\",\"createdDate\":\"2021-03-05T16:08:35.000+0000\",\"systemModstamp\":\"2021-03-05T16:08:36.000+0000\",\"state\":\"InProgress\",\"concurrencyMode\":\"Parallel\",\"contentType\":\"CSV\",\"apiVersion\":47.0,\"jobType\":\"V2Query\",\"lineEnding\":\"LF\",\"columnDelimiter\":\"COMMA\",\"numberRecordsProcessed\":0,\"retries\":0,\"totalProcessingTime\":0}\n",
      "{\"id\":\"7505w00000Uewo9AAB\",\"operation\":\"query\",\"object\":\"Contact\",\"createdById\":\"0055w00000DM5bOAAT\",\"createdDate\":\"2021-03-05T16:08:35.000+0000\",\"systemModstamp\":\"2021-03-05T16:09:23.000+0000\",\"state\":\"JobComplete\",\"concurrencyMode\":\"Parallel\",\"contentType\":\"CSV\",\"apiVersion\":47.0,\"jobType\":\"V2Query\",\"lineEnding\":\"LF\",\"columnDelimiter\":\"COMMA\",\"numberRecordsProcessed\":240692,\"retries\":0,\"totalProcessingTime\":45242}\n",
      "[Success] Bulk job completed successfully.\n"
     ]
    }
   ],
   "source": [
    "sf_df = db_s.query_data('SELECT firstname, lastname, nanoHUB_user_ID__c, Email, Venue__c FROM Contact')"
   ]
  },
  {
   "cell_type": "code",
   "execution_count": 12,
   "metadata": {},
   "outputs": [
    {
     "data": {
      "text/html": [
       "<div>\n",
       "<style scoped>\n",
       "    .dataframe tbody tr th:only-of-type {\n",
       "        vertical-align: middle;\n",
       "    }\n",
       "\n",
       "    .dataframe tbody tr th {\n",
       "        vertical-align: top;\n",
       "    }\n",
       "\n",
       "    .dataframe thead th {\n",
       "        text-align: right;\n",
       "    }\n",
       "</style>\n",
       "<table border=\"1\" class=\"dataframe\">\n",
       "  <thead>\n",
       "    <tr style=\"text-align: right;\">\n",
       "      <th></th>\n",
       "      <th>Email</th>\n",
       "      <th>Venue__c</th>\n",
       "      <th>nanoHUB_user_ID__c</th>\n",
       "    </tr>\n",
       "  </thead>\n",
       "  <tbody>\n",
       "    <tr>\n",
       "      <th>0</th>\n",
       "      <td>nkissebe@gmail.com</td>\n",
       "      <td>NaN</td>\n",
       "      <td>998.0</td>\n",
       "    </tr>\n",
       "    <tr>\n",
       "      <th>1</th>\n",
       "      <td>support@nanohub.org</td>\n",
       "      <td>NaN</td>\n",
       "      <td>1683.0</td>\n",
       "    </tr>\n",
       "    <tr>\n",
       "      <th>2</th>\n",
       "      <td>gridstat@nanohub.org</td>\n",
       "      <td>NaN</td>\n",
       "      <td>1684.0</td>\n",
       "    </tr>\n",
       "    <tr>\n",
       "      <th>3</th>\n",
       "      <td>ncn@nanohub.org</td>\n",
       "      <td>NaN</td>\n",
       "      <td>1685.0</td>\n",
       "    </tr>\n",
       "    <tr>\n",
       "      <th>4</th>\n",
       "      <td>apps@nanohub.org</td>\n",
       "      <td>NaN</td>\n",
       "      <td>1686.0</td>\n",
       "    </tr>\n",
       "  </tbody>\n",
       "</table>\n",
       "</div>"
      ],
      "text/plain": [
       "                  Email Venue__c  nanoHUB_user_ID__c\n",
       "0    nkissebe@gmail.com      NaN               998.0\n",
       "1   support@nanohub.org      NaN              1683.0\n",
       "2  gridstat@nanohub.org      NaN              1684.0\n",
       "3       ncn@nanohub.org      NaN              1685.0\n",
       "4      apps@nanohub.org      NaN              1686.0"
      ]
     },
     "metadata": {},
     "output_type": "display_data"
    }
   ],
   "source": [
    "display(sf_df.head(5))"
   ]
  },
  {
   "cell_type": "code",
   "execution_count": null,
   "metadata": {},
   "outputs": [],
   "source": []
  },
  {
   "cell_type": "code",
   "execution_count": null,
   "metadata": {},
   "outputs": [],
   "source": []
  },
  {
   "cell_type": "code",
   "execution_count": null,
   "metadata": {},
   "outputs": [],
   "source": [
    "URE "
   ]
  },
  {
   "cell_type": "code",
   "execution_count": null,
   "metadata": {},
   "outputs": [],
   "source": []
  },
  {
   "cell_type": "code",
   "execution_count": null,
   "metadata": {},
   "outputs": [],
   "source": []
  },
  {
   "cell_type": "code",
   "execution_count": null,
   "metadata": {},
   "outputs": [],
   "source": []
  },
  {
   "cell_type": "code",
   "execution_count": null,
   "metadata": {},
   "outputs": [],
   "source": []
  },
  {
   "cell_type": "code",
   "execution_count": null,
   "metadata": {},
   "outputs": [],
   "source": []
  },
  {
   "cell_type": "code",
   "execution_count": null,
   "metadata": {},
   "outputs": [],
   "source": []
  }
 ],
 "metadata": {
  "kernelspec": {
   "display_name": "Python 3",
   "language": "python",
   "name": "python3"
  },
  "language_info": {
   "codemirror_mode": {
    "name": "ipython",
    "version": 3
   },
   "file_extension": ".py",
   "mimetype": "text/x-python",
   "name": "python",
   "nbconvert_exporter": "python",
   "pygments_lexer": "ipython3",
   "version": "3.7.7"
  }
 },
 "nbformat": 4,
 "nbformat_minor": 4
}
