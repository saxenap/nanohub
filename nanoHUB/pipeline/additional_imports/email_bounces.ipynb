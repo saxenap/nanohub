{
 "cells": [
  {
   "cell_type": "markdown",
   "metadata": {},
   "source": [
    "## import latest email bounces"
   ]
  },
  {
   "cell_type": "code",
   "execution_count": 1,
   "metadata": {},
   "outputs": [],
   "source": [
    "import numpy as np\n",
    "import pandas as pd\n",
    "import os\n",
    "from DB2SalesforceAPI import DB2SalesforceAPI\n",
    "\n",
    "sql_login_params = {\"username\": \"wang2506_ro\", \"password\": \"fnVnwcCS7iT45EsA\"}\n",
    "sf_login_params = {\n",
    "    \"grant_type\": \"password\",\n",
    "    \"client_id\": \"3MVG95jctIhbyCppj0SNJ75IsZ1y8UPGZtSNF4j8FNVXz.De8Lu4jHm3rjRosAtsHy6qjHx3i4S_QbQzvBePG\",\n",
    "    \"client_secret\": \"D1623C6D3607D4FC8004B92C761DFB6C1F70CCD129C5501E357028DFA00F5764\",\n",
    "    \"username\":\"wang2506@purdue.edu\",\n",
    "    \"password\":\"sf2021shitOPmlIiFMLnrudgC6oSX0WV1T\",\n",
    "}"
   ]
  },
  {
   "cell_type": "code",
   "execution_count": 2,
   "metadata": {},
   "outputs": [],
   "source": [
    "cwd = os.getcwd()"
   ]
  },
  {
   "cell_type": "code",
   "execution_count": 3,
   "metadata": {},
   "outputs": [
    {
     "data": {
      "text/html": [
       "<div>\n",
       "<style scoped>\n",
       "    .dataframe tbody tr th:only-of-type {\n",
       "        vertical-align: middle;\n",
       "    }\n",
       "\n",
       "    .dataframe tbody tr th {\n",
       "        vertical-align: top;\n",
       "    }\n",
       "\n",
       "    .dataframe thead th {\n",
       "        text-align: right;\n",
       "    }\n",
       "</style>\n",
       "<table border=\"1\" class=\"dataframe\">\n",
       "  <thead>\n",
       "    <tr style=\"text-align: right;\">\n",
       "      <th></th>\n",
       "      <th>SendTime</th>\n",
       "      <th>BounceTime</th>\n",
       "      <th>EmailAddress</th>\n",
       "      <th>ContactKey</th>\n",
       "      <th>ContactID</th>\n",
       "      <th>ListID</th>\n",
       "      <th>BatchID</th>\n",
       "      <th>JobID</th>\n",
       "    </tr>\n",
       "  </thead>\n",
       "  <tbody>\n",
       "    <tr>\n",
       "      <th>0</th>\n",
       "      <td>2/5/2021 1:30:47 PM</td>\n",
       "      <td>2/5/2021 1:57:23 PM</td>\n",
       "      <td>fparnold@chem.northwestern.edu</td>\n",
       "      <td>0035w000034JHbMAAW</td>\n",
       "      <td>135097783</td>\n",
       "      <td>221</td>\n",
       "      <td>5</td>\n",
       "      <td>362106</td>\n",
       "    </tr>\n",
       "    <tr>\n",
       "      <th>1</th>\n",
       "      <td>2/5/2021 1:30:47 PM</td>\n",
       "      <td>2/5/2021 1:36:03 PM</td>\n",
       "      <td>mjsteven@purdue.edu</td>\n",
       "      <td>0035w000034JHboAAG</td>\n",
       "      <td>135097786</td>\n",
       "      <td>221</td>\n",
       "      <td>5</td>\n",
       "      <td>362106</td>\n",
       "    </tr>\n",
       "    <tr>\n",
       "      <th>2</th>\n",
       "      <td>2/5/2021 1:30:47 PM</td>\n",
       "      <td>2/5/2021 1:30:59 PM</td>\n",
       "      <td>erehder@kopin.com</td>\n",
       "      <td>0035w000034JHbPAAW</td>\n",
       "      <td>135097789</td>\n",
       "      <td>221</td>\n",
       "      <td>5</td>\n",
       "      <td>362106</td>\n",
       "    </tr>\n",
       "    <tr>\n",
       "      <th>3</th>\n",
       "      <td>2/5/2021 1:30:47 PM</td>\n",
       "      <td>2/5/2021 1:36:04 PM</td>\n",
       "      <td>kapooro@purdue.edu</td>\n",
       "      <td>0035w000034JHcJAAW</td>\n",
       "      <td>135097839</td>\n",
       "      <td>221</td>\n",
       "      <td>5</td>\n",
       "      <td>362106</td>\n",
       "    </tr>\n",
       "    <tr>\n",
       "      <th>4</th>\n",
       "      <td>2/5/2021 1:30:47 PM</td>\n",
       "      <td>2/5/2021 1:36:00 PM</td>\n",
       "      <td>tewers@berkeley.edu</td>\n",
       "      <td>0035w000034JHclAAG</td>\n",
       "      <td>135097842</td>\n",
       "      <td>221</td>\n",
       "      <td>5</td>\n",
       "      <td>362106</td>\n",
       "    </tr>\n",
       "  </tbody>\n",
       "</table>\n",
       "</div>"
      ],
      "text/plain": [
       "              SendTime           BounceTime                    EmailAddress  \\\n",
       "0  2/5/2021 1:30:47 PM  2/5/2021 1:57:23 PM  fparnold@chem.northwestern.edu   \n",
       "1  2/5/2021 1:30:47 PM  2/5/2021 1:36:03 PM             mjsteven@purdue.edu   \n",
       "2  2/5/2021 1:30:47 PM  2/5/2021 1:30:59 PM               erehder@kopin.com   \n",
       "3  2/5/2021 1:30:47 PM  2/5/2021 1:36:04 PM              kapooro@purdue.edu   \n",
       "4  2/5/2021 1:30:47 PM  2/5/2021 1:36:00 PM             tewers@berkeley.edu   \n",
       "\n",
       "           ContactKey  ContactID  ListID  BatchID   JobID  \n",
       "0  0035w000034JHbMAAW  135097783     221        5  362106  \n",
       "1  0035w000034JHboAAG  135097786     221        5  362106  \n",
       "2  0035w000034JHbPAAW  135097789     221        5  362106  \n",
       "3  0035w000034JHcJAAW  135097839     221        5  362106  \n",
       "4  0035w000034JHclAAG  135097842     221        5  362106  "
      ]
     },
     "metadata": {},
     "output_type": "display_data"
    }
   ],
   "source": [
    "# import the dataset\n",
    "filename = cwd+'/SF email bounces/Email Bounces For Travis20210303.csv'#'JourneyEmailBounces20201112.csv'\n",
    "bounce_df = pd.read_csv(filename)\n",
    "display(bounce_df.head(5))"
   ]
  },
  {
   "cell_type": "code",
   "execution_count": 4,
   "metadata": {},
   "outputs": [
    {
     "data": {
      "text/html": [
       "<div>\n",
       "<style scoped>\n",
       "    .dataframe tbody tr th:only-of-type {\n",
       "        vertical-align: middle;\n",
       "    }\n",
       "\n",
       "    .dataframe tbody tr th {\n",
       "        vertical-align: top;\n",
       "    }\n",
       "\n",
       "    .dataframe thead th {\n",
       "        text-align: right;\n",
       "    }\n",
       "</style>\n",
       "<table border=\"1\" class=\"dataframe\">\n",
       "  <thead>\n",
       "    <tr style=\"text-align: right;\">\n",
       "      <th></th>\n",
       "      <th>Email</th>\n",
       "      <th>Id</th>\n",
       "    </tr>\n",
       "  </thead>\n",
       "  <tbody>\n",
       "    <tr>\n",
       "      <th>0</th>\n",
       "      <td>fparnold@chem.northwestern.edu</td>\n",
       "      <td>0035w000034JHbMAAW</td>\n",
       "    </tr>\n",
       "    <tr>\n",
       "      <th>1</th>\n",
       "      <td>mjsteven@purdue.edu</td>\n",
       "      <td>0035w000034JHboAAG</td>\n",
       "    </tr>\n",
       "    <tr>\n",
       "      <th>2</th>\n",
       "      <td>erehder@kopin.com</td>\n",
       "      <td>0035w000034JHbPAAW</td>\n",
       "    </tr>\n",
       "    <tr>\n",
       "      <th>3</th>\n",
       "      <td>kapooro@purdue.edu</td>\n",
       "      <td>0035w000034JHcJAAW</td>\n",
       "    </tr>\n",
       "    <tr>\n",
       "      <th>4</th>\n",
       "      <td>tewers@berkeley.edu</td>\n",
       "      <td>0035w000034JHclAAG</td>\n",
       "    </tr>\n",
       "  </tbody>\n",
       "</table>\n",
       "</div>"
      ],
      "text/plain": [
       "                            Email                  Id\n",
       "0  fparnold@chem.northwestern.edu  0035w000034JHbMAAW\n",
       "1             mjsteven@purdue.edu  0035w000034JHboAAG\n",
       "2               erehder@kopin.com  0035w000034JHbPAAW\n",
       "3              kapooro@purdue.edu  0035w000034JHcJAAW\n",
       "4             tewers@berkeley.edu  0035w000034JHclAAG"
      ]
     },
     "metadata": {},
     "output_type": "display_data"
    },
    {
     "name": "stdout",
     "output_type": "stream",
     "text": [
      "(39538, 2)\n"
     ]
    }
   ],
   "source": [
    "sparse_bdf = bounce_df[['EmailAddress','ContactKey']].rename(columns={'EmailAddress':'Email','ContactKey':'Id'}).drop_duplicates()\n",
    "display(sparse_bdf.head(5))\n",
    "print(sparse_bdf.shape)"
   ]
  },
  {
   "cell_type": "markdown",
   "metadata": {},
   "source": [
    "## Import SF contact data"
   ]
  },
  {
   "cell_type": "code",
   "execution_count": 5,
   "metadata": {},
   "outputs": [
    {
     "data": {
      "text/html": [
       "<div>\n",
       "<style scoped>\n",
       "    .dataframe tbody tr th:only-of-type {\n",
       "        vertical-align: middle;\n",
       "    }\n",
       "\n",
       "    .dataframe tbody tr th {\n",
       "        vertical-align: top;\n",
       "    }\n",
       "\n",
       "    .dataframe thead th {\n",
       "        text-align: right;\n",
       "    }\n",
       "</style>\n",
       "<table border=\"1\" class=\"dataframe\">\n",
       "  <thead>\n",
       "    <tr style=\"text-align: right;\">\n",
       "      <th></th>\n",
       "      <th>Email</th>\n",
       "      <th>Id</th>\n",
       "      <th>Email_Bounced__c</th>\n",
       "    </tr>\n",
       "  </thead>\n",
       "  <tbody>\n",
       "    <tr>\n",
       "      <th>0</th>\n",
       "      <td>fparnold@chem.northwestern.edu</td>\n",
       "      <td>0035w000034JHbMAAW</td>\n",
       "      <td>True</td>\n",
       "    </tr>\n",
       "    <tr>\n",
       "      <th>1</th>\n",
       "      <td>mjsteven@purdue.edu</td>\n",
       "      <td>0035w000034JHboAAG</td>\n",
       "      <td>True</td>\n",
       "    </tr>\n",
       "    <tr>\n",
       "      <th>2</th>\n",
       "      <td>erehder@kopin.com</td>\n",
       "      <td>0035w000034JHbPAAW</td>\n",
       "      <td>True</td>\n",
       "    </tr>\n",
       "    <tr>\n",
       "      <th>3</th>\n",
       "      <td>kapooro@purdue.edu</td>\n",
       "      <td>0035w000034JHcJAAW</td>\n",
       "      <td>True</td>\n",
       "    </tr>\n",
       "    <tr>\n",
       "      <th>4</th>\n",
       "      <td>tewers@berkeley.edu</td>\n",
       "      <td>0035w000034JHclAAG</td>\n",
       "      <td>True</td>\n",
       "    </tr>\n",
       "  </tbody>\n",
       "</table>\n",
       "</div>"
      ],
      "text/plain": [
       "                            Email                  Id  Email_Bounced__c\n",
       "0  fparnold@chem.northwestern.edu  0035w000034JHbMAAW              True\n",
       "1             mjsteven@purdue.edu  0035w000034JHboAAG              True\n",
       "2               erehder@kopin.com  0035w000034JHbPAAW              True\n",
       "3              kapooro@purdue.edu  0035w000034JHcJAAW              True\n",
       "4             tewers@berkeley.edu  0035w000034JHclAAG              True"
      ]
     },
     "metadata": {},
     "output_type": "display_data"
    }
   ],
   "source": [
    "## since the data already has contactkey, we can use that as ID and should be good\n",
    "sparse_bdf['Email_Bounced__c'] = True\n",
    "display(sparse_bdf.head(5))"
   ]
  },
  {
   "cell_type": "markdown",
   "metadata": {},
   "source": [
    "## Begin upsert to SF"
   ]
  },
  {
   "cell_type": "code",
   "execution_count": 6,
   "metadata": {},
   "outputs": [
    {
     "name": "stdout",
     "output_type": "stream",
     "text": [
      "Obtained Salesforce access token ...... True\n",
      "[Success] Bulk job creation successful. Job ID = 7505w00000UFXL9AAP\n",
      "[Success] CSV upload successful. Job ID = 7505w00000UFXL9AAP\n",
      "[Success] Closing job successful. Job ID = 7505w00000UFXL9AAP\n"
     ]
    }
   ],
   "source": [
    "# api object\n",
    "db_s = DB2SalesforceAPI(sf_login_params)\n",
    "\n",
    "# send data to SF\n",
    "db_s.object_id = 'Contact'\n",
    "db_s.external_id = 'Id'\n",
    "\n",
    "db_s.send_data(sparse_bdf)"
   ]
  },
  {
   "cell_type": "code",
   "execution_count": 11,
   "metadata": {},
   "outputs": [
    {
     "data": {
      "text/plain": [
       "{'id': '7505w00000UFXL9AAP',\n",
       " 'operation': 'upsert',\n",
       " 'object': 'Contact',\n",
       " 'createdById': '0055w00000DM5bOAAT',\n",
       " 'createdDate': '2021-03-04T16:06:14.000+0000',\n",
       " 'systemModstamp': '2021-03-04T16:08:30.000+0000',\n",
       " 'state': 'JobComplete',\n",
       " 'externalIdFieldName': 'Id',\n",
       " 'concurrencyMode': 'Parallel',\n",
       " 'contentType': 'CSV',\n",
       " 'apiVersion': 47.0,\n",
       " 'jobType': 'V2Ingest',\n",
       " 'lineEnding': 'LF',\n",
       " 'columnDelimiter': 'COMMA',\n",
       " 'numberRecordsProcessed': 39538,\n",
       " 'numberRecordsFailed': 29,\n",
       " 'retries': 0,\n",
       " 'totalProcessingTime': 474146,\n",
       " 'apiActiveProcessingTime': 430469,\n",
       " 'apexProcessingTime': 3458021}"
      ]
     },
     "execution_count": 11,
     "metadata": {},
     "output_type": "execute_result"
    }
   ],
   "source": [
    "# check status\n",
    "db_s.check_bulk_status()"
   ]
  },
  {
   "cell_type": "code",
   "execution_count": 12,
   "metadata": {},
   "outputs": [
    {
     "name": "stdout",
     "output_type": "stream",
     "text": [
      "('\"sf__Id\",\"sf__Error\",Email,Email_Bounced__c,Id\\n'\n",
      " '\"\",\"INVALID_ID_FIELD:\\'00Q5w00001tLZdF\\' is not a valid Salesforce ID for '\n",
      " 'the type '\n",
      " 'Contact:--\",\"inigo.anza@constellium.com\",\"true\",\"00Q5w00001tLZdFEAW\"\\n'\n",
      " '\"\",\"INVALID_ID_FIELD:\\'00Q5w00001uV9d0\\' is not a valid Salesforce ID for '\n",
      " 'the type Contact:--\",\"dmcilroy@uidaho.edu\",\"true\",\"00Q5w00001uV9d0EAC\"\\n'\n",
      " '\"\",\"INVALID_ID_FIELD:\\'00Q5w00001uV9hG\\' is not a valid Salesforce ID for '\n",
      " 'the type '\n",
      " 'Contact:--\",\"kratzer@fhi-berlin.mpg.de\",\"true\",\"00Q5w00001uV9hGEAS\"\\n'\n",
      " '\"\",\"INVALID_ID_FIELD:\\'00Q5w00001uV9hL\\' is not a valid Salesforce ID for '\n",
      " 'the type '\n",
      " 'Contact:--\",\"tarucha@phys.s.u-tokyo.ac.jp\",\"true\",\"00Q5w00001uV9hLEAS\"\\n'\n",
      " '\"\",\"INVALID_ID_FIELD:\\'00Q5w00001uV9d5\\' is not a valid Salesforce ID for '\n",
      " 'the type Contact:--\",\"fzahid@hku.hk\",\"true\",\"00Q5w00001uV9d5EAC\"\\n'\n",
      " '\"\",\"INVALID_ID_FIELD:\\'00Q5w00001uV9dK\\' is not a valid Salesforce ID for '\n",
      " 'the type '\n",
      " 'Contact:--\",\"romtabe@rie.shizuoka.ac.jp\",\"true\",\"00Q5w00001uV9dKEAS\"\\n'\n",
      " '\"\",\"INVALID_ID_FIELD:\\'00Q5w00001uV9hD\\' is not a valid Salesforce ID for '\n",
      " 'the type Contact:--\",\"firebaugh@cecd.umd.edu\",\"true\",\"00Q5w00001uV9hDEAS\"\\n'\n",
      " '\"\",\"INVALID_ID_FIELD:\\'00Q5w00001uV9hI\\' is not a valid Salesforce ID for '\n",
      " 'the type '\n",
      " 'Contact:--\",\"roland@oih.rwth-aachen.de\",\"true\",\"00Q5w00001uV9hIEAS\"\\n'\n",
      " '\"\",\"INVALID_ID_FIELD:\\'00Q5w00001uudah\\' is not a valid Salesforce ID for '\n",
      " 'the type Contact:--\",\"shumeykc@lafayette.edu\",\"true\",\"00Q5w00001uudahEAA\"\\n'\n",
      " '\"\",\"INVALID_ID_FIELD:\\'00Q5w00001uudZT\\' is not a valid Salesforce ID for '\n",
      " 'the type '\n",
      " 'Contact:--\",\"daiasuke.ando.c4@tohoku.ac.jp\",\"true\",\"00Q5w00001uudZTEAY\"\\n'\n",
      " '\"\",\"INVALID_ID_FIELD:\\'00Q5w00001tLZb5\\' is not a valid Salesforce ID for '\n",
      " 'the type Contact:--\",\"levelpeace@pku.edu.cn\",\"true\",\"00Q5w00001tLZb5EAG\"\\n'\n",
      " '\"\",\"INVALID_ID_FIELD:\\'00Q5w00001uudaj\\' is not a valid Salesforce ID for '\n",
      " 'the type Contact:--\",\"astebner@mines.edu\",\"true\",\"00Q5w00001uudajEAA\"\\n'\n",
      " '\"\",\"INVALID_ID_FIELD:\\'00Q5w00001tJzwv\\' is not a valid Salesforce ID for '\n",
      " 'the type Contact:--\",\"saiduzzaman@seu.edu.bd\",\"true\",\"00Q5w00001tJzwvEAC\"\\n'\n",
      " '\"\",\"INVALID_ID_FIELD:\\'00Q5w00001uuda7\\' is not a valid Salesforce ID for '\n",
      " 'the type '\n",
      " 'Contact:--\",\"peter.lee@manchester.ac.uk\",\"true\",\"00Q5w00001uuda7EAA\"\\n'\n",
      " '\"\",\"INVALID_ID_FIELD:\\'00Q5w00001uudad\\' is not a valid Salesforce ID for '\n",
      " 'the type Contact:--\",\"msaber@pdx.edu\",\"true\",\"00Q5w00001uudadEAA\"\\n'\n",
      " '\"\",\"INVALID_ID_FIELD:\\'00Q5w00001tLZcc\\' is not a valid Salesforce ID for '\n",
      " 'the type Contact:--\",\"amanning@citrine.io\",\"true\",\"00Q5w00001tLZccEAG\"\\n'\n",
      " '\"\",\"INVALID_ID_FIELD:\\'00Q5w00001uV9d3\\' is not a valid Salesforce ID for '\n",
      " 'the type Contact:--\",\"ersuhir@ersuhir.com\",\"true\",\"00Q5w00001uV9d3EAC\"\\n'\n",
      " '\"\",\"INVALID_ID_FIELD:\\'00Q5w00001uV9h1\\' is not a valid Salesforce ID for '\n",
      " 'the type '\n",
      " 'Contact:--\",\"ekhorenko@hlt.uni-duisburg.de\",\"true\",\"00Q5w00001uV9h1EAC\"\\n'\n",
      " '\"\",\"INVALID_ID_FIELD:\\'00Q5w00001uudZj\\' is not a valid Salesforce ID for '\n",
      " 'the type Contact:--\",\"elias@ime.b.br\",\"true\",\"00Q5w00001uudZjEAI\"\\n'\n",
      " '\"\",\"INVALID_ID_FIELD:\\'00Q5w00001tJzwA\\' is not a valid Salesforce ID for '\n",
      " 'the type Contact:--\",\"bb2ru@virginia.edu\",\"true\",\"00Q5w00001tJzwAEAS\"\\n'\n",
      " '\"\",\"INVALID_ID_FIELD:\\'00Q5w00001tM5XC\\' is not a valid Salesforce ID for '\n",
      " 'the type Contact:--\",\"jasubon3@nccu.edu\",\"true\",\"00Q5w00001tM5XCEA0\"\\n'\n",
      " '\"\",\"INVALID_ID_FIELD:\\'00Q5w00001uV9cz\\' is not a valid Salesforce ID for '\n",
      " 'the type Contact:--\",\"achung@postech.ac.kr\",\"true\",\"00Q5w00001uV9czEAC\"\\n'\n",
      " '\"\",\"INVALID_ID_FIELD:\\'00Q5w00001uV9dD\\' is not a valid Salesforce ID for '\n",
      " 'the type Contact:--\",\"sdurbin@buffalo.edu\",\"true\",\"00Q5w00001uV9dDEAS\"\\n'\n",
      " '\"\",\"INVALID_ID_FIELD:\\'00Q5w00001uV9h3\\' is not a valid Salesforce ID for '\n",
      " 'the type Contact:--\",\"mfahey@utk.edu\",\"true\",\"00Q5w00001uV9h3EAC\"\\n'\n",
      " '\"\",\"INVALID_ID_FIELD:\\'00Q5w00001uV9h6\\' is not a valid Salesforce ID for '\n",
      " 'the type '\n",
      " 'Contact:--\",\"g.p.lansbergen@tudelft.nl\",\"true\",\"00Q5w00001uV9h6EAC\"\\n'\n",
      " '\"\",\"INVALID_ID_FIELD:\\'00Q5w00001uV9h8\\' is not a valid Salesforce ID for '\n",
      " 'the type Contact:--\",\"hm2@ecs.soton.ac.uk\",\"true\",\"00Q5w00001uV9h8EAC\"\\n'\n",
      " '\"\",\"INVALID_ID_FIELD:\\'00Q5w00001uVA0l\\' is not a valid Salesforce ID for '\n",
      " 'the type '\n",
      " 'Contact:--\",\"prost@hlt.uni-duisburg.de\",\"true\",\"00Q5w00001uVA0lEAG\"\\n'\n",
      " '\"\",\"INVALID_ID_FIELD:\\'00Q5w00001uV9dG\\' is not a valid Salesforce ID for '\n",
      " 'the type Contact:--\",\"wiley.kirk@utdallas.edu\",\"true\",\"00Q5w00001uV9dGEAS\"\\n'\n",
      " '\"\",\"INVALID_ID_FIELD:\\'00Q5w00001uudb5\\' is not a valid Salesforce ID for '\n",
      " 'the type Contact:--\",\"zhouc@mst.edu\",\"true\",\"00Q5w00001uudb5EAA\"\\n')\n"
     ]
    }
   ],
   "source": [
    "from pprint import pprint\n",
    "\n",
    "pprint(db_s.check_bulk_failed_results())"
   ]
  },
  {
   "cell_type": "markdown",
   "metadata": {},
   "source": [
    "## lead email bounces"
   ]
  },
  {
   "cell_type": "code",
   "execution_count": 26,
   "metadata": {},
   "outputs": [
    {
     "name": "stdout",
     "output_type": "stream",
     "text": [
      "Obtained Salesforce access token ...... True\n",
      "[Success] Bulk job creation successful. Job ID = 7505w00000UFXlXAAX\n",
      "{\"id\":\"7505w00000UFXlXAAX\",\"operation\":\"query\",\"object\":\"Lead\",\"createdById\":\"0055w00000DM5bOAAT\",\"createdDate\":\"2021-03-04T16:29:42.000+0000\",\"systemModstamp\":\"2021-03-04T16:29:42.000+0000\",\"state\":\"UploadComplete\",\"concurrencyMode\":\"Parallel\",\"contentType\":\"CSV\",\"apiVersion\":47.0,\"jobType\":\"V2Query\",\"lineEnding\":\"LF\",\"columnDelimiter\":\"COMMA\",\"retries\":0,\"totalProcessingTime\":0}\n",
      "{\"id\":\"7505w00000UFXlXAAX\",\"operation\":\"query\",\"object\":\"Lead\",\"createdById\":\"0055w00000DM5bOAAT\",\"createdDate\":\"2021-03-04T16:29:42.000+0000\",\"systemModstamp\":\"2021-03-04T16:29:47.000+0000\",\"state\":\"JobComplete\",\"concurrencyMode\":\"Parallel\",\"contentType\":\"CSV\",\"apiVersion\":47.0,\"jobType\":\"V2Query\",\"lineEnding\":\"LF\",\"columnDelimiter\":\"COMMA\",\"numberRecordsProcessed\":7364,\"retries\":0,\"totalProcessingTime\":1130}\n",
      "[Success] Bulk job completed successfully.\n"
     ]
    }
   ],
   "source": [
    "#import all leads\n",
    "db_l = DB2SalesforceAPI(sf_login_params)\n",
    "\n",
    "sf_df = db_l.query_data(\"select id, Email__c from Lead\")"
   ]
  },
  {
   "cell_type": "code",
   "execution_count": 27,
   "metadata": {},
   "outputs": [
    {
     "data": {
      "text/html": [
       "<div>\n",
       "<style scoped>\n",
       "    .dataframe tbody tr th:only-of-type {\n",
       "        vertical-align: middle;\n",
       "    }\n",
       "\n",
       "    .dataframe tbody tr th {\n",
       "        vertical-align: top;\n",
       "    }\n",
       "\n",
       "    .dataframe thead th {\n",
       "        text-align: right;\n",
       "    }\n",
       "</style>\n",
       "<table border=\"1\" class=\"dataframe\">\n",
       "  <thead>\n",
       "    <tr style=\"text-align: right;\">\n",
       "      <th></th>\n",
       "      <th>Email__c</th>\n",
       "      <th>Id</th>\n",
       "    </tr>\n",
       "  </thead>\n",
       "  <tbody>\n",
       "    <tr>\n",
       "      <th>0</th>\n",
       "      <td>NaN</td>\n",
       "      <td>00Q5w00001otOM1EAM</td>\n",
       "    </tr>\n",
       "    <tr>\n",
       "      <th>1</th>\n",
       "      <td>NaN</td>\n",
       "      <td>00Q5w00001otOM2EAM</td>\n",
       "    </tr>\n",
       "    <tr>\n",
       "      <th>2</th>\n",
       "      <td>NaN</td>\n",
       "      <td>00Q5w00001otOM3EAM</td>\n",
       "    </tr>\n",
       "    <tr>\n",
       "      <th>3</th>\n",
       "      <td>NaN</td>\n",
       "      <td>00Q5w00001otOM4EAM</td>\n",
       "    </tr>\n",
       "    <tr>\n",
       "      <th>4</th>\n",
       "      <td>NaN</td>\n",
       "      <td>00Q5w00001otOM5EAM</td>\n",
       "    </tr>\n",
       "  </tbody>\n",
       "</table>\n",
       "</div>"
      ],
      "text/plain": [
       "  Email__c                  Id\n",
       "0      NaN  00Q5w00001otOM1EAM\n",
       "1      NaN  00Q5w00001otOM2EAM\n",
       "2      NaN  00Q5w00001otOM3EAM\n",
       "3      NaN  00Q5w00001otOM4EAM\n",
       "4      NaN  00Q5w00001otOM5EAM"
      ]
     },
     "metadata": {},
     "output_type": "display_data"
    }
   ],
   "source": [
    "display(sf_df.head(5))"
   ]
  },
  {
   "cell_type": "code",
   "execution_count": 43,
   "metadata": {},
   "outputs": [],
   "source": [
    "import numpy as np\n",
    "temp = np.where(np.in1d(sparse_bdf['Id'].to_numpy(),sf_df['Id'].to_numpy()) == True)"
   ]
  },
  {
   "cell_type": "code",
   "execution_count": 45,
   "metadata": {},
   "outputs": [
    {
     "data": {
      "text/plain": [
       "29"
      ]
     },
     "execution_count": 45,
     "metadata": {},
     "output_type": "execute_result"
    }
   ],
   "source": [
    "lead_ids = sparse_bdf['Id'].to_numpy()[temp]"
   ]
  },
  {
   "cell_type": "raw",
   "metadata": {},
   "source": [
    "lead_ids = []\n",
    "\n",
    "for i,j in enumerate(sparse_bdf['Id'].tolist()):\n",
    "    if j in sf_df['Id'].tolist():\n",
    "        lead_ids.append(j)\n",
    "    "
   ]
  },
  {
   "cell_type": "code",
   "execution_count": 47,
   "metadata": {},
   "outputs": [],
   "source": [
    "lead_df = pd.DataFrame()\n",
    "lead_df['Id'] = lead_ids\n",
    "lead_df['Email_Bounced__c'] = True"
   ]
  },
  {
   "cell_type": "code",
   "execution_count": 49,
   "metadata": {},
   "outputs": [
    {
     "data": {
      "text/html": [
       "<div>\n",
       "<style scoped>\n",
       "    .dataframe tbody tr th:only-of-type {\n",
       "        vertical-align: middle;\n",
       "    }\n",
       "\n",
       "    .dataframe tbody tr th {\n",
       "        vertical-align: top;\n",
       "    }\n",
       "\n",
       "    .dataframe thead th {\n",
       "        text-align: right;\n",
       "    }\n",
       "</style>\n",
       "<table border=\"1\" class=\"dataframe\">\n",
       "  <thead>\n",
       "    <tr style=\"text-align: right;\">\n",
       "      <th></th>\n",
       "      <th>Id</th>\n",
       "      <th>Email_Bounced__c</th>\n",
       "    </tr>\n",
       "  </thead>\n",
       "  <tbody>\n",
       "    <tr>\n",
       "      <th>0</th>\n",
       "      <td>00Q5w00001uV9dGEAS</td>\n",
       "      <td>True</td>\n",
       "    </tr>\n",
       "    <tr>\n",
       "      <th>1</th>\n",
       "      <td>00Q5w00001uudb5EAA</td>\n",
       "      <td>True</td>\n",
       "    </tr>\n",
       "    <tr>\n",
       "      <th>2</th>\n",
       "      <td>00Q5w00001tLZdFEAW</td>\n",
       "      <td>True</td>\n",
       "    </tr>\n",
       "    <tr>\n",
       "      <th>3</th>\n",
       "      <td>00Q5w00001uV9d0EAC</td>\n",
       "      <td>True</td>\n",
       "    </tr>\n",
       "    <tr>\n",
       "      <th>4</th>\n",
       "      <td>00Q5w00001uV9hGEAS</td>\n",
       "      <td>True</td>\n",
       "    </tr>\n",
       "  </tbody>\n",
       "</table>\n",
       "</div>"
      ],
      "text/plain": [
       "                   Id  Email_Bounced__c\n",
       "0  00Q5w00001uV9dGEAS              True\n",
       "1  00Q5w00001uudb5EAA              True\n",
       "2  00Q5w00001tLZdFEAW              True\n",
       "3  00Q5w00001uV9d0EAC              True\n",
       "4  00Q5w00001uV9hGEAS              True"
      ]
     },
     "metadata": {},
     "output_type": "display_data"
    }
   ],
   "source": [
    "display(lead_df.head(5))"
   ]
  },
  {
   "cell_type": "code",
   "execution_count": 50,
   "metadata": {},
   "outputs": [
    {
     "name": "stdout",
     "output_type": "stream",
     "text": [
      "Obtained Salesforce access token ...... True\n"
     ]
    }
   ],
   "source": [
    "db_l = DB2SalesforceAPI(sf_login_params)\n",
    "\n",
    "db_l.object_id = 'Lead'\n",
    "db_l.external_id = 'Id'"
   ]
  },
  {
   "cell_type": "code",
   "execution_count": 51,
   "metadata": {},
   "outputs": [
    {
     "name": "stdout",
     "output_type": "stream",
     "text": [
      "[Success] Bulk job creation successful. Job ID = 7505w00000UFXy6AAH\n",
      "[Success] CSV upload successful. Job ID = 7505w00000UFXy6AAH\n",
      "[Success] Closing job successful. Job ID = 7505w00000UFXy6AAH\n"
     ]
    }
   ],
   "source": [
    "db_l.send_data(lead_df)"
   ]
  },
  {
   "cell_type": "code",
   "execution_count": 54,
   "metadata": {},
   "outputs": [
    {
     "data": {
      "text/plain": [
       "{'id': '7505w00000UFXy6AAH',\n",
       " 'operation': 'upsert',\n",
       " 'object': 'Lead',\n",
       " 'createdById': '0055w00000DM5bOAAT',\n",
       " 'createdDate': '2021-03-04T16:38:55.000+0000',\n",
       " 'systemModstamp': '2021-03-04T16:39:01.000+0000',\n",
       " 'state': 'JobComplete',\n",
       " 'externalIdFieldName': 'Id',\n",
       " 'concurrencyMode': 'Parallel',\n",
       " 'contentType': 'CSV',\n",
       " 'apiVersion': 47.0,\n",
       " 'jobType': 'V2Ingest',\n",
       " 'lineEnding': 'LF',\n",
       " 'columnDelimiter': 'COMMA',\n",
       " 'numberRecordsProcessed': 29,\n",
       " 'numberRecordsFailed': 0,\n",
       " 'retries': 0,\n",
       " 'totalProcessingTime': 315,\n",
       " 'apiActiveProcessingTime': 229,\n",
       " 'apexProcessingTime': 58}"
      ]
     },
     "execution_count": 54,
     "metadata": {},
     "output_type": "execute_result"
    }
   ],
   "source": [
    "# check status\n",
    "db_l.check_bulk_status()"
   ]
  },
  {
   "cell_type": "code",
   "execution_count": null,
   "metadata": {},
   "outputs": [],
   "source": []
  }
 ],
 "metadata": {
  "kernelspec": {
   "display_name": "Python 3",
   "language": "python",
   "name": "python3"
  },
  "language_info": {
   "codemirror_mode": {
    "name": "ipython",
    "version": 3
   },
   "file_extension": ".py",
   "mimetype": "text/x-python",
   "name": "python",
   "nbconvert_exporter": "python",
   "pygments_lexer": "ipython3",
   "version": "3.7.7"
  }
 },
 "nbformat": 4,
 "nbformat_minor": 4
}
