{
 "cells": [
  {
   "cell_type": "code",
   "execution_count": 1,
   "metadata": {},
   "outputs": [],
   "source": [
    "## Correcting recent leads"
   ]
  },
  {
   "cell_type": "code",
   "execution_count": 9,
   "metadata": {},
   "outputs": [],
   "source": [
    "# Parameters\n",
    "api_url = '/services/data/v43.0/sobjects'\n",
    "\n",
    "# login parameters to be handled by Papermill\n",
    "sql_login_params = {\"username\": \"wang2506_ro\", \"password\": \"fnVnwcCS7iT45EsA\"}\n",
    "sf_login_params = {\n",
    "    \"grant_type\": \"password\",\n",
    "    \"client_id\": \"3MVG95jctIhbyCppj0SNJ75IsZ1y8UPGZtSNF4j8FNVXz.De8Lu4jHm3rjRosAtsHy6qjHx3i4S_QbQzvBePG\",\n",
    "    \"client_secret\": \"D1623C6D3607D4FC8004B92C761DFB6C1F70CCD129C5501E357028DFA00F5764\",\n",
    "    \"username\":\"wang2506@purdue.edu\",\n",
    "    \"password\":\"npass2021HDfJLhBGDx11xWCKlEbHQKhF\",    \n",
    "}\n",
    "    #\"username\": \"wang159-4j1v@force.com\",\n",
    "    #\"password\": \"napoleon0eZ3PQpQqE3C3z4wWqEqKGhQ8\","
   ]
  },
  {
   "cell_type": "code",
   "execution_count": 10,
   "metadata": {},
   "outputs": [],
   "source": [
    "import pandas as pd\n",
    "import datetime\n",
    "\n",
    "#stagnant reports\n",
    "import os\n",
    "cwd = os.getcwd()"
   ]
  },
  {
   "cell_type": "code",
   "execution_count": 11,
   "metadata": {},
   "outputs": [],
   "source": [
    "pd.set_option('display.max_columns', 500)"
   ]
  },
  {
   "cell_type": "code",
   "execution_count": 12,
   "metadata": {},
   "outputs": [],
   "source": [
    "#input new filename here\n",
    "filename = \"export_13650230[1].csv\"\n",
    "f_type = filename.split('.')[-1]"
   ]
  },
  {
   "cell_type": "code",
   "execution_count": 13,
   "metadata": {},
   "outputs": [
    {
     "name": "stdout",
     "output_type": "stream",
     "text": [
      "       Subscriber Key                   Email Address\n",
      "0  00Q5w00001tLZabEAG      309602099xinyang@gmail.com\n",
      "1  00Q5w00001tLZacEAG  sp1709@scarletmail.rutgers.edu\n"
     ]
    }
   ],
   "source": [
    "#pandas import\n",
    "if f_type == 'csv':\n",
    "    idf = pd.read_csv(cwd+'/Data Files/'+filename)#,encoding=\"cp1252\")#,encoding='utf-16',sep='\\t')\n",
    "                      #,encoding=\"cp1252\",error_bad_lines=False)#,usecols=[12])#col_fields)\n",
    "elif f_type == 'xlsx' or f_type == 'xls':\n",
    "    xl = pd.ExcelFile(cwd+'/Data Files/'+filename)\n",
    "    print(xl.sheet_names)# see all sheet names\n",
    "    sheet_names = xl.parse(xl.sheet_names) #this already performs an import\n",
    "    \n",
    "    idf = pd.read_excel(cwd+'/Data Files/'+filename,sheet_name=0,header=0,skiprows=1)\n",
    "\n",
    "print(idf.head(2))"
   ]
  },
  {
   "cell_type": "code",
   "execution_count": 14,
   "metadata": {},
   "outputs": [
    {
     "data": {
      "text/html": [
       "<div>\n",
       "<style scoped>\n",
       "    .dataframe tbody tr th:only-of-type {\n",
       "        vertical-align: middle;\n",
       "    }\n",
       "\n",
       "    .dataframe tbody tr th {\n",
       "        vertical-align: top;\n",
       "    }\n",
       "\n",
       "    .dataframe thead th {\n",
       "        text-align: right;\n",
       "    }\n",
       "</style>\n",
       "<table border=\"1\" class=\"dataframe\">\n",
       "  <thead>\n",
       "    <tr style=\"text-align: right;\">\n",
       "      <th></th>\n",
       "      <th>Id</th>\n",
       "      <th>Email</th>\n",
       "    </tr>\n",
       "  </thead>\n",
       "  <tbody>\n",
       "    <tr>\n",
       "      <th>0</th>\n",
       "      <td>00Q5w00001tLZabEAG</td>\n",
       "      <td>309602099xinyang@gmail.com</td>\n",
       "    </tr>\n",
       "    <tr>\n",
       "      <th>1</th>\n",
       "      <td>00Q5w00001tLZacEAG</td>\n",
       "      <td>sp1709@scarletmail.rutgers.edu</td>\n",
       "    </tr>\n",
       "  </tbody>\n",
       "</table>\n",
       "</div>"
      ],
      "text/plain": [
       "                   Id                           Email\n",
       "0  00Q5w00001tLZabEAG      309602099xinyang@gmail.com\n",
       "1  00Q5w00001tLZacEAG  sp1709@scarletmail.rutgers.edu"
      ]
     },
     "metadata": {},
     "output_type": "display_data"
    }
   ],
   "source": [
    "idf = idf.rename(columns={'Subscriber Key':'Id','Email Address':'Email'})\n",
    "display(idf.head(2))"
   ]
  },
  {
   "cell_type": "code",
   "execution_count": 15,
   "metadata": {},
   "outputs": [],
   "source": [
    "idf['Venue__c'] = 'Citrine Webinar 10/21/20 lead_registrant'"
   ]
  },
  {
   "cell_type": "code",
   "execution_count": 20,
   "metadata": {},
   "outputs": [
    {
     "name": "stdout",
     "output_type": "stream",
     "text": [
      "(214, 3)\n"
     ]
    }
   ],
   "source": [
    "print(idf.shape)"
   ]
  },
  {
   "cell_type": "code",
   "execution_count": 16,
   "metadata": {},
   "outputs": [
    {
     "name": "stdout",
     "output_type": "stream",
     "text": [
      "Obtained Salesforce access token ...... True\n",
      "[Success] Bulk job creation successful. Job ID = 7505w00000Wx0WNAAZ\n",
      "{\"id\":\"7505w00000Wx0WNAAZ\",\"operation\":\"query\",\"object\":\"Lead\",\"createdById\":\"0055w00000DM5bOAAT\",\"createdDate\":\"2021-06-15T17:16:49.000+0000\",\"systemModstamp\":\"2021-06-15T17:16:49.000+0000\",\"state\":\"UploadComplete\",\"concurrencyMode\":\"Parallel\",\"contentType\":\"CSV\",\"apiVersion\":47.0,\"jobType\":\"V2Query\",\"lineEnding\":\"LF\",\"columnDelimiter\":\"COMMA\",\"retries\":0,\"totalProcessingTime\":0}\n",
      "{\"id\":\"7505w00000Wx0WNAAZ\",\"operation\":\"query\",\"object\":\"Lead\",\"createdById\":\"0055w00000DM5bOAAT\",\"createdDate\":\"2021-06-15T17:16:49.000+0000\",\"systemModstamp\":\"2021-06-15T17:16:58.000+0000\",\"state\":\"InProgress\",\"concurrencyMode\":\"Parallel\",\"contentType\":\"CSV\",\"apiVersion\":47.0,\"jobType\":\"V2Query\",\"lineEnding\":\"LF\",\"columnDelimiter\":\"COMMA\",\"numberRecordsProcessed\":0,\"retries\":0,\"totalProcessingTime\":0}\n",
      "{\"id\":\"7505w00000Wx0WNAAZ\",\"operation\":\"query\",\"object\":\"Lead\",\"createdById\":\"0055w00000DM5bOAAT\",\"createdDate\":\"2021-06-15T17:16:49.000+0000\",\"systemModstamp\":\"2021-06-15T17:17:01.000+0000\",\"state\":\"JobComplete\",\"concurrencyMode\":\"Parallel\",\"contentType\":\"CSV\",\"apiVersion\":47.0,\"jobType\":\"V2Query\",\"lineEnding\":\"LF\",\"columnDelimiter\":\"COMMA\",\"numberRecordsProcessed\":7714,\"retries\":0,\"totalProcessingTime\":1096}\n",
      "[Success] Bulk job completed successfully.\n"
     ]
    }
   ],
   "source": [
    "# obtain list of all salesforce campaigns\n",
    "from DB2SalesforceAPI import DB2SalesforceAPI\n",
    "# obtain all campaign names\n",
    "db_c = DB2SalesforceAPI(sf_login_params)\n",
    "mod_lead = db_c.query_data('SELECT Id, SF_lead_indexer__c, FirstName, LastName, LastModifiedById, Venue__c FROM Lead')"
   ]
  },
  {
   "cell_type": "code",
   "execution_count": 17,
   "metadata": {},
   "outputs": [
    {
     "data": {
      "text/html": [
       "<div>\n",
       "<style scoped>\n",
       "    .dataframe tbody tr th:only-of-type {\n",
       "        vertical-align: middle;\n",
       "    }\n",
       "\n",
       "    .dataframe tbody tr th {\n",
       "        vertical-align: top;\n",
       "    }\n",
       "\n",
       "    .dataframe thead th {\n",
       "        text-align: right;\n",
       "    }\n",
       "</style>\n",
       "<table border=\"1\" class=\"dataframe\">\n",
       "  <thead>\n",
       "    <tr style=\"text-align: right;\">\n",
       "      <th></th>\n",
       "      <th>FirstName</th>\n",
       "      <th>Id</th>\n",
       "      <th>LastModifiedById</th>\n",
       "      <th>LastName</th>\n",
       "      <th>SF_lead_indexer__c</th>\n",
       "      <th>Venue__c</th>\n",
       "    </tr>\n",
       "  </thead>\n",
       "  <tbody>\n",
       "    <tr>\n",
       "      <th>0</th>\n",
       "      <td>Alex</td>\n",
       "      <td>00Q5w00001otOM1EAM</td>\n",
       "      <td>0055w00000ArpYvAAJ</td>\n",
       "      <td>Wolf (Sample)</td>\n",
       "      <td>1</td>\n",
       "      <td>NaN</td>\n",
       "    </tr>\n",
       "    <tr>\n",
       "      <th>1</th>\n",
       "      <td>John</td>\n",
       "      <td>00Q5w00001otOM2EAM</td>\n",
       "      <td>0055w00000ArpYvAAJ</td>\n",
       "      <td>Steele (Sample)</td>\n",
       "      <td>2</td>\n",
       "      <td>NaN</td>\n",
       "    </tr>\n",
       "  </tbody>\n",
       "</table>\n",
       "</div>"
      ],
      "text/plain": [
       "  FirstName                  Id    LastModifiedById         LastName  \\\n",
       "0      Alex  00Q5w00001otOM1EAM  0055w00000ArpYvAAJ    Wolf (Sample)   \n",
       "1      John  00Q5w00001otOM2EAM  0055w00000ArpYvAAJ  Steele (Sample)   \n",
       "\n",
       "   SF_lead_indexer__c Venue__c  \n",
       "0                   1      NaN  \n",
       "1                   2      NaN  "
      ]
     },
     "metadata": {},
     "output_type": "display_data"
    }
   ],
   "source": [
    "display(mod_lead.head(2))"
   ]
  },
  {
   "cell_type": "raw",
   "metadata": {},
   "source": [
    "cwd= os.getcwd()\n",
    "fpath = cwd+'/Registrants_Attendees/ML111120Registrants.csv'\n",
    "r_df = pd.read_csv(fpath, skipinitialspace=True, usecols=['Email'\\\n",
    "                                            ,'FirstName','LastName'],encoding='cp1252')\n",
    "display(r_df.head(2))"
   ]
  },
  {
   "cell_type": "code",
   "execution_count": 19,
   "metadata": {},
   "outputs": [
    {
     "name": "stdout",
     "output_type": "stream",
     "text": [
      "214\n"
     ]
    }
   ],
   "source": [
    "matches = []\n",
    "#r_ln = r_df['LastName'].to_list()\n",
    "for ind,val in enumerate(mod_lead['Id'].to_list()):\n",
    "    if val in idf['Id'].to_list():\n",
    "        matches.append(ind)\n",
    "print(len(matches))"
   ]
  },
  {
   "cell_type": "code",
   "execution_count": 21,
   "metadata": {},
   "outputs": [
    {
     "data": {
      "text/html": [
       "<div>\n",
       "<style scoped>\n",
       "    .dataframe tbody tr th:only-of-type {\n",
       "        vertical-align: middle;\n",
       "    }\n",
       "\n",
       "    .dataframe tbody tr th {\n",
       "        vertical-align: top;\n",
       "    }\n",
       "\n",
       "    .dataframe thead th {\n",
       "        text-align: right;\n",
       "    }\n",
       "</style>\n",
       "<table border=\"1\" class=\"dataframe\">\n",
       "  <thead>\n",
       "    <tr style=\"text-align: right;\">\n",
       "      <th></th>\n",
       "      <th>index</th>\n",
       "      <th>FirstName</th>\n",
       "      <th>Id</th>\n",
       "      <th>LastModifiedById</th>\n",
       "      <th>LastName</th>\n",
       "      <th>SF_lead_indexer__c</th>\n",
       "      <th>Venue__c</th>\n",
       "    </tr>\n",
       "  </thead>\n",
       "  <tbody>\n",
       "    <tr>\n",
       "      <th>0</th>\n",
       "      <td>6546</td>\n",
       "      <td>Srini</td>\n",
       "      <td>00Q5w00001tLZaJEAW</td>\n",
       "      <td>0055w00000CX7FfAAL</td>\n",
       "      <td>Raghavan</td>\n",
       "      <td>6547</td>\n",
       "      <td>Citrine Material Science workshop - R</td>\n",
       "    </tr>\n",
       "    <tr>\n",
       "      <th>1</th>\n",
       "      <td>6547</td>\n",
       "      <td>Roberta</td>\n",
       "      <td>00Q5w00001tLZaKEAW</td>\n",
       "      <td>0055w00000DM5bOAAT</td>\n",
       "      <td>Cappabianca</td>\n",
       "      <td>6548</td>\n",
       "      <td>Citrine Material Science workshop - R</td>\n",
       "    </tr>\n",
       "  </tbody>\n",
       "</table>\n",
       "</div>"
      ],
      "text/plain": [
       "   index FirstName                  Id    LastModifiedById     LastName  \\\n",
       "0   6546     Srini  00Q5w00001tLZaJEAW  0055w00000CX7FfAAL     Raghavan   \n",
       "1   6547   Roberta  00Q5w00001tLZaKEAW  0055w00000DM5bOAAT  Cappabianca   \n",
       "\n",
       "   SF_lead_indexer__c                               Venue__c  \n",
       "0                6547  Citrine Material Science workshop - R  \n",
       "1                6548  Citrine Material Science workshop - R  "
      ]
     },
     "metadata": {},
     "output_type": "display_data"
    },
    {
     "data": {
      "text/plain": [
       "(214, 7)"
      ]
     },
     "metadata": {},
     "output_type": "display_data"
    }
   ],
   "source": [
    "mod_lead2 = mod_lead.iloc[matches,:].reset_index()\n",
    "display(mod_lead2.head(2))\n",
    "display(mod_lead2.shape)"
   ]
  },
  {
   "cell_type": "code",
   "execution_count": 22,
   "metadata": {},
   "outputs": [
    {
     "data": {
      "text/plain": [
       "0                  Citrine Material Science workshop - R\n",
       "1                  Citrine Material Science workshop - R\n",
       "2                  Citrine Material Science workshop - R\n",
       "3                  Citrine Material Science workshop - R\n",
       "4      Citrine Material Science workshop - R;Citrine ...\n",
       "                             ...                        \n",
       "209                Citrine Material Science workshop - R\n",
       "210                Citrine Material Science workshop - R\n",
       "211                Citrine Material Science workshop - R\n",
       "212                Citrine Material Science workshop - R\n",
       "213                Citrine Material Science workshop - R\n",
       "Name: Venue__c, Length: 214, dtype: object"
      ]
     },
     "execution_count": 22,
     "metadata": {},
     "output_type": "execute_result"
    }
   ],
   "source": [
    "mod_lead2['Venue__c']"
   ]
  },
  {
   "cell_type": "code",
   "execution_count": 28,
   "metadata": {},
   "outputs": [],
   "source": [
    "tvc = mod_lead2['Venue__c'].to_list()\n",
    "from copy import deepcopy\n",
    "for i,j in enumerate(tvc):\n",
    "    j = j+';Citrine Webinar 10/21/20 lead_registrant'\n",
    "    tj = j.split(';')\n",
    "    tj2 = set(tj)\n",
    "    j = ';'.join(tj2)\n",
    "    tvc[i] = deepcopy(j)\n",
    "mod_lead2['Venue__c'] = tvc"
   ]
  },
  {
   "cell_type": "code",
   "execution_count": 29,
   "metadata": {},
   "outputs": [
    {
     "data": {
      "text/html": [
       "<div>\n",
       "<style scoped>\n",
       "    .dataframe tbody tr th:only-of-type {\n",
       "        vertical-align: middle;\n",
       "    }\n",
       "\n",
       "    .dataframe tbody tr th {\n",
       "        vertical-align: top;\n",
       "    }\n",
       "\n",
       "    .dataframe thead th {\n",
       "        text-align: right;\n",
       "    }\n",
       "</style>\n",
       "<table border=\"1\" class=\"dataframe\">\n",
       "  <thead>\n",
       "    <tr style=\"text-align: right;\">\n",
       "      <th></th>\n",
       "      <th>index</th>\n",
       "      <th>FirstName</th>\n",
       "      <th>Id</th>\n",
       "      <th>LastModifiedById</th>\n",
       "      <th>LastName</th>\n",
       "      <th>SF_lead_indexer__c</th>\n",
       "      <th>Venue__c</th>\n",
       "    </tr>\n",
       "  </thead>\n",
       "  <tbody>\n",
       "    <tr>\n",
       "      <th>0</th>\n",
       "      <td>6546</td>\n",
       "      <td>Srini</td>\n",
       "      <td>00Q5w00001tLZaJEAW</td>\n",
       "      <td>0055w00000CX7FfAAL</td>\n",
       "      <td>Raghavan</td>\n",
       "      <td>6547</td>\n",
       "      <td>Citrine Material Science workshop - R;Citrine ...</td>\n",
       "    </tr>\n",
       "    <tr>\n",
       "      <th>1</th>\n",
       "      <td>6547</td>\n",
       "      <td>Roberta</td>\n",
       "      <td>00Q5w00001tLZaKEAW</td>\n",
       "      <td>0055w00000DM5bOAAT</td>\n",
       "      <td>Cappabianca</td>\n",
       "      <td>6548</td>\n",
       "      <td>Citrine Material Science workshop - R;Citrine ...</td>\n",
       "    </tr>\n",
       "  </tbody>\n",
       "</table>\n",
       "</div>"
      ],
      "text/plain": [
       "   index FirstName                  Id    LastModifiedById     LastName  \\\n",
       "0   6546     Srini  00Q5w00001tLZaJEAW  0055w00000CX7FfAAL     Raghavan   \n",
       "1   6547   Roberta  00Q5w00001tLZaKEAW  0055w00000DM5bOAAT  Cappabianca   \n",
       "\n",
       "   SF_lead_indexer__c                                           Venue__c  \n",
       "0                6547  Citrine Material Science workshop - R;Citrine ...  \n",
       "1                6548  Citrine Material Science workshop - R;Citrine ...  "
      ]
     },
     "metadata": {},
     "output_type": "display_data"
    }
   ],
   "source": [
    "display(mod_lead2.head(2))"
   ]
  },
  {
   "cell_type": "code",
   "execution_count": 34,
   "metadata": {},
   "outputs": [
    {
     "data": {
      "text/html": [
       "<div>\n",
       "<style scoped>\n",
       "    .dataframe tbody tr th:only-of-type {\n",
       "        vertical-align: middle;\n",
       "    }\n",
       "\n",
       "    .dataframe tbody tr th {\n",
       "        vertical-align: top;\n",
       "    }\n",
       "\n",
       "    .dataframe thead th {\n",
       "        text-align: right;\n",
       "    }\n",
       "</style>\n",
       "<table border=\"1\" class=\"dataframe\">\n",
       "  <thead>\n",
       "    <tr style=\"text-align: right;\">\n",
       "      <th></th>\n",
       "      <th>index</th>\n",
       "      <th>FirstName</th>\n",
       "      <th>Id</th>\n",
       "      <th>LastName</th>\n",
       "      <th>SF_lead_indexer__c</th>\n",
       "      <th>Venue__c</th>\n",
       "    </tr>\n",
       "  </thead>\n",
       "  <tbody>\n",
       "    <tr>\n",
       "      <th>0</th>\n",
       "      <td>6546</td>\n",
       "      <td>Srini</td>\n",
       "      <td>00Q5w00001tLZaJEAW</td>\n",
       "      <td>Raghavan</td>\n",
       "      <td>6547</td>\n",
       "      <td>Citrine Material Science workshop - R;Citrine ...</td>\n",
       "    </tr>\n",
       "    <tr>\n",
       "      <th>1</th>\n",
       "      <td>6547</td>\n",
       "      <td>Roberta</td>\n",
       "      <td>00Q5w00001tLZaKEAW</td>\n",
       "      <td>Cappabianca</td>\n",
       "      <td>6548</td>\n",
       "      <td>Citrine Material Science workshop - R;Citrine ...</td>\n",
       "    </tr>\n",
       "  </tbody>\n",
       "</table>\n",
       "</div>"
      ],
      "text/plain": [
       "   index FirstName                  Id     LastName  SF_lead_indexer__c  \\\n",
       "0   6546     Srini  00Q5w00001tLZaJEAW     Raghavan                6547   \n",
       "1   6547   Roberta  00Q5w00001tLZaKEAW  Cappabianca                6548   \n",
       "\n",
       "                                            Venue__c  \n",
       "0  Citrine Material Science workshop - R;Citrine ...  \n",
       "1  Citrine Material Science workshop - R;Citrine ...  "
      ]
     },
     "metadata": {},
     "output_type": "display_data"
    }
   ],
   "source": [
    "mod_lead2 = mod_lead2.drop(columns=['LastModifiedById'])#,'index','Id'])\n",
    "display(mod_lead2.head(2))"
   ]
  },
  {
   "cell_type": "code",
   "execution_count": 39,
   "metadata": {},
   "outputs": [],
   "source": [
    "mod_lead2 = mod_lead2.drop(columns=['index','FirstName','Id','LastName'])"
   ]
  },
  {
   "cell_type": "code",
   "execution_count": 60,
   "metadata": {},
   "outputs": [
    {
     "data": {
      "text/plain": [
       "(214, 2)"
      ]
     },
     "execution_count": 60,
     "metadata": {},
     "output_type": "execute_result"
    }
   ],
   "source": [
    "mod_lead2.head(2)\n",
    "mod_lead2.shape"
   ]
  },
  {
   "cell_type": "code",
   "execution_count": 49,
   "metadata": {},
   "outputs": [
    {
     "name": "stdout",
     "output_type": "stream",
     "text": [
      "[Success] Bulk job creation successful. Job ID = 7505w00000Wx0ZWAAZ\n",
      "[Success] CSV upload successful. Job ID = 7505w00000Wx0ZWAAZ\n",
      "[Success] Closing job successful. Job ID = 7505w00000Wx0ZWAAZ\n"
     ]
    }
   ],
   "source": [
    "db_c.external_id = 'SF_lead_indexer__c'\n",
    "db_c.object_id = 'Lead'\n",
    "db_c.send_data(mod_lead2)"
   ]
  },
  {
   "cell_type": "code",
   "execution_count": 63,
   "metadata": {},
   "outputs": [
    {
     "data": {
      "text/plain": [
       "{'id': '7505w00000Wx0ZWAAZ',\n",
       " 'operation': 'upsert',\n",
       " 'object': 'Lead',\n",
       " 'createdById': '0055w00000DM5bOAAT',\n",
       " 'createdDate': '2021-06-15T17:24:05.000+0000',\n",
       " 'systemModstamp': '2021-06-15T17:25:45.000+0000',\n",
       " 'state': 'JobComplete',\n",
       " 'externalIdFieldName': 'SF_lead_indexer__c',\n",
       " 'concurrencyMode': 'Parallel',\n",
       " 'contentType': 'CSV',\n",
       " 'apiVersion': 47.0,\n",
       " 'jobType': 'V2Ingest',\n",
       " 'lineEnding': 'LF',\n",
       " 'columnDelimiter': 'COMMA',\n",
       " 'numberRecordsProcessed': 214,\n",
       " 'numberRecordsFailed': 0,\n",
       " 'retries': 0,\n",
       " 'totalProcessingTime': 734,\n",
       " 'apiActiveProcessingTime': 576,\n",
       " 'apexProcessingTime': 106}"
      ]
     },
     "execution_count": 63,
     "metadata": {},
     "output_type": "execute_result"
    }
   ],
   "source": [
    "db_c.check_bulk_status()"
   ]
  },
  {
   "cell_type": "code",
   "execution_count": 64,
   "metadata": {},
   "outputs": [
    {
     "name": "stdout",
     "output_type": "stream",
     "text": [
      "'\"sf__Id\",\"sf__Error\",SF_lead_indexer__c,Venue__c\\n'\n"
     ]
    }
   ],
   "source": [
    "from pprint import pprint\n",
    "\n",
    "pprint(db_c.check_bulk_failed_results())"
   ]
  },
  {
   "cell_type": "code",
   "execution_count": null,
   "metadata": {},
   "outputs": [],
   "source": []
  }
 ],
 "metadata": {
  "kernelspec": {
   "display_name": "Python 3",
   "language": "python",
   "name": "python3"
  },
  "language_info": {
   "codemirror_mode": {
    "name": "ipython",
    "version": 3
   },
   "file_extension": ".py",
   "mimetype": "text/x-python",
   "name": "python",
   "nbconvert_exporter": "python",
   "pygments_lexer": "ipython3",
   "version": "3.8.10"
  }
 },
 "nbformat": 4,
 "nbformat_minor": 4
}
