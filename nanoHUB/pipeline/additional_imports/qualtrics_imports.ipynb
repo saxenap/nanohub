{
 "cells": [
  {
   "cell_type": "markdown",
   "metadata": {},
   "source": [
    "## Various data imports"
   ]
  },
  {
   "cell_type": "code",
   "execution_count": 1,
   "metadata": {},
   "outputs": [],
   "source": [
    "import pandas as pd\n",
    "import os\n",
    "from DB2SalesforceAPI import DB2SalesforceAPI"
   ]
  },
  {
   "cell_type": "code",
   "execution_count": 2,
   "metadata": {},
   "outputs": [],
   "source": [
    "# login credentials\n",
    "sql_login_params = {\"username\": \"wang2506_ro\", \"password\": \"fnVnwcCS7iT45EsA\"}\n",
    "sf_login_params = {\n",
    "    \"grant_type\": \"password\",\n",
    "    \"client_id\": \"3MVG95jctIhbyCppj0SNJ75IsZ1y8UPGZtSNF4j8FNVXz.De8Lu4jHm3rjRosAtsHy6qjHx3i4S_QbQzvBePG\",\n",
    "    \"client_secret\": \"D1623C6D3607D4FC8004B92C761DFB6C1F70CCD129C5501E357028DFA00F5764\",\n",
    "    \"username\":\"wang2506@purdue.edu\",\n",
    "    \"password\":\"npass2021HDfJLhBGDx11xWCKlEbHQKhF\",\n",
    "}"
   ]
  },
  {
   "cell_type": "markdown",
   "metadata": {},
   "source": [
    "## Load input data "
   ]
  },
  {
   "cell_type": "code",
   "execution_count": 3,
   "metadata": {},
   "outputs": [
    {
     "name": "stdout",
     "output_type": "stream",
     "text": [
      "D:\\nanohub_salesforce_integ\\additional_imports\n",
      "csv\n"
     ]
    }
   ],
   "source": [
    "#import data\n",
    "cwd = os.getcwd()\n",
    "print(cwd)\n",
    "filename = 'nanoHUB_Learning_Management_System_Integration_Survey-Distribution_History.csv'\n",
    "f_end = filename[-3:]\n",
    "qual_flag = 2 #### change this based on needs\n",
    "print(f_end)"
   ]
  },
  {
   "cell_type": "code",
   "execution_count": 4,
   "metadata": {},
   "outputs": [],
   "source": [
    "if f_end == 'csv': #its a csv file\n",
    "    temp = pd.read_csv(cwd+'/Data Files/'+filename)\n",
    "else:\n",
    "    temp = pd.read_excel(cwd+'/Data Files/'+filename)"
   ]
  },
  {
   "cell_type": "code",
   "execution_count": 5,
   "metadata": {},
   "outputs": [
    {
     "data": {
      "text/html": [
       "<div>\n",
       "<style scoped>\n",
       "    .dataframe tbody tr th:only-of-type {\n",
       "        vertical-align: middle;\n",
       "    }\n",
       "\n",
       "    .dataframe tbody tr th {\n",
       "        vertical-align: top;\n",
       "    }\n",
       "\n",
       "    .dataframe thead th {\n",
       "        text-align: right;\n",
       "    }\n",
       "</style>\n",
       "<table border=\"1\" class=\"dataframe\">\n",
       "  <thead>\n",
       "    <tr style=\"text-align: right;\">\n",
       "      <th></th>\n",
       "      <th>Response ID</th>\n",
       "      <th>Last Name</th>\n",
       "      <th>First Name</th>\n",
       "      <th>External Data Reference</th>\n",
       "      <th>Email</th>\n",
       "      <th>Status</th>\n",
       "      <th>End Date</th>\n",
       "      <th>Link</th>\n",
       "      <th>Link Expiration</th>\n",
       "    </tr>\n",
       "  </thead>\n",
       "  <tbody>\n",
       "    <tr>\n",
       "      <th>0</th>\n",
       "      <td>NaN</td>\n",
       "      <td>Aagesen</td>\n",
       "      <td>Larry</td>\n",
       "      <td>NaN</td>\n",
       "      <td>laagesen@umich.edu</td>\n",
       "      <td>Email Not Sent Yet</td>\n",
       "      <td>NaN</td>\n",
       "      <td>https://purdue.ca1.qualtrics.com/jfe/form/SV_a...</td>\n",
       "      <td>2021-08-10 11:36:14</td>\n",
       "    </tr>\n",
       "    <tr>\n",
       "      <th>1</th>\n",
       "      <td>NaN</td>\n",
       "      <td>Acosta</td>\n",
       "      <td>Antonio</td>\n",
       "      <td>NaN</td>\n",
       "      <td>acojim@us.es</td>\n",
       "      <td>Email Not Sent Yet</td>\n",
       "      <td>NaN</td>\n",
       "      <td>https://purdue.ca1.qualtrics.com/jfe/form/SV_a...</td>\n",
       "      <td>2021-08-10 11:36:14</td>\n",
       "    </tr>\n",
       "  </tbody>\n",
       "</table>\n",
       "</div>"
      ],
      "text/plain": [
       "   Response ID Last Name First Name  External Data Reference  \\\n",
       "0          NaN   Aagesen      Larry                      NaN   \n",
       "1          NaN    Acosta    Antonio                      NaN   \n",
       "\n",
       "                Email              Status  End Date  \\\n",
       "0  laagesen@umich.edu  Email Not Sent Yet       NaN   \n",
       "1        acojim@us.es  Email Not Sent Yet       NaN   \n",
       "\n",
       "                                                Link      Link Expiration  \n",
       "0  https://purdue.ca1.qualtrics.com/jfe/form/SV_a...  2021-08-10 11:36:14  \n",
       "1  https://purdue.ca1.qualtrics.com/jfe/form/SV_a...  2021-08-10 11:36:14  "
      ]
     },
     "execution_count": 5,
     "metadata": {},
     "output_type": "execute_result"
    }
   ],
   "source": [
    "temp.head(2)"
   ]
  },
  {
   "cell_type": "code",
   "execution_count": 7,
   "metadata": {},
   "outputs": [
    {
     "data": {
      "text/plain": [
       "(85, 9)"
      ]
     },
     "execution_count": 7,
     "metadata": {},
     "output_type": "execute_result"
    }
   ],
   "source": [
    "temp.shape"
   ]
  },
  {
   "cell_type": "markdown",
   "metadata": {},
   "source": [
    "## Extract the qualtrics link"
   ]
  },
  {
   "cell_type": "code",
   "execution_count": 9,
   "metadata": {},
   "outputs": [],
   "source": [
    "df_sf = pd.DataFrame() \n",
    "link_name = 'LMS_Qualtrics_Survey__c'\n",
    "ext_id = 'Email'\n",
    "expiration = 'LMS_expiration_date__c'\n",
    "\n",
    "if qual_flag == 1:\n",
    "    df_sf[link_name] = temp['Link']\n",
    "    df_sf[ext_id] = temp[ext_id]\n",
    "    df_sf[expiration] = temp['Link Expiration']\n",
    "elif qual_flag == 2:\n",
    "    df_sf[link_name] = temp['Link']\n",
    "    df_sf[ext_id] = temp[ext_id]\n",
    "    df_sf[expiration] = temp['Link Expiration']    "
   ]
  },
  {
   "cell_type": "code",
   "execution_count": 10,
   "metadata": {},
   "outputs": [
    {
     "data": {
      "text/html": [
       "<div>\n",
       "<style scoped>\n",
       "    .dataframe tbody tr th:only-of-type {\n",
       "        vertical-align: middle;\n",
       "    }\n",
       "\n",
       "    .dataframe tbody tr th {\n",
       "        vertical-align: top;\n",
       "    }\n",
       "\n",
       "    .dataframe thead th {\n",
       "        text-align: right;\n",
       "    }\n",
       "</style>\n",
       "<table border=\"1\" class=\"dataframe\">\n",
       "  <thead>\n",
       "    <tr style=\"text-align: right;\">\n",
       "      <th></th>\n",
       "      <th>LMS_Qualtrics_Survey__c</th>\n",
       "      <th>Email</th>\n",
       "      <th>LMS_expiration_date__c</th>\n",
       "    </tr>\n",
       "  </thead>\n",
       "  <tbody>\n",
       "    <tr>\n",
       "      <th>0</th>\n",
       "      <td>https://purdue.ca1.qualtrics.com/jfe/form/SV_a...</td>\n",
       "      <td>laagesen@umich.edu</td>\n",
       "      <td>2021-08-10 11:36:14</td>\n",
       "    </tr>\n",
       "    <tr>\n",
       "      <th>1</th>\n",
       "      <td>https://purdue.ca1.qualtrics.com/jfe/form/SV_a...</td>\n",
       "      <td>acojim@us.es</td>\n",
       "      <td>2021-08-10 11:36:14</td>\n",
       "    </tr>\n",
       "  </tbody>\n",
       "</table>\n",
       "</div>"
      ],
      "text/plain": [
       "                             LMS_Qualtrics_Survey__c               Email  \\\n",
       "0  https://purdue.ca1.qualtrics.com/jfe/form/SV_a...  laagesen@umich.edu   \n",
       "1  https://purdue.ca1.qualtrics.com/jfe/form/SV_a...        acojim@us.es   \n",
       "\n",
       "  LMS_expiration_date__c  \n",
       "0    2021-08-10 11:36:14  \n",
       "1    2021-08-10 11:36:14  "
      ]
     },
     "metadata": {},
     "output_type": "display_data"
    }
   ],
   "source": [
    "display(df_sf.head(2))"
   ]
  },
  {
   "cell_type": "markdown",
   "metadata": {},
   "source": [
    "## Pull in all contacts from SF and obtain their contact IDs"
   ]
  },
  {
   "cell_type": "code",
   "execution_count": 11,
   "metadata": {},
   "outputs": [
    {
     "name": "stdout",
     "output_type": "stream",
     "text": [
      "Obtained Salesforce access token ...... True\n",
      "[Success] Bulk job creation successful. Job ID = 7505w00000Ww7cMAAR\n",
      "{\"id\":\"7505w00000Ww7cMAAR\",\"operation\":\"query\",\"object\":\"Contact\",\"createdById\":\"0055w00000DM5bOAAT\",\"createdDate\":\"2021-06-11T17:46:30.000+0000\",\"systemModstamp\":\"2021-06-11T17:46:31.000+0000\",\"state\":\"InProgress\",\"concurrencyMode\":\"Parallel\",\"contentType\":\"CSV\",\"apiVersion\":47.0,\"jobType\":\"V2Query\",\"lineEnding\":\"LF\",\"columnDelimiter\":\"COMMA\",\"numberRecordsProcessed\":0,\"retries\":0,\"totalProcessingTime\":0}\n",
      "{\"id\":\"7505w00000Ww7cMAAR\",\"operation\":\"query\",\"object\":\"Contact\",\"createdById\":\"0055w00000DM5bOAAT\",\"createdDate\":\"2021-06-11T17:46:30.000+0000\",\"systemModstamp\":\"2021-06-11T17:46:41.000+0000\",\"state\":\"JobComplete\",\"concurrencyMode\":\"Parallel\",\"contentType\":\"CSV\",\"apiVersion\":47.0,\"jobType\":\"V2Query\",\"lineEnding\":\"LF\",\"columnDelimiter\":\"COMMA\",\"numberRecordsProcessed\":248970,\"retries\":0,\"totalProcessingTime\":9433}\n",
      "[Success] Bulk job completed successfully.\n"
     ]
    }
   ],
   "source": [
    "# create DB2 to Salesforce API object\n",
    "db_pull = DB2SalesforceAPI(sf_login_params)\n",
    "\n",
    "sf_data = db_pull.query_data('select Id,Email from Contact')"
   ]
  },
  {
   "cell_type": "code",
   "execution_count": 12,
   "metadata": {},
   "outputs": [
    {
     "name": "stdout",
     "output_type": "stream",
     "text": [
      "(248970, 2)\n"
     ]
    }
   ],
   "source": [
    "print(sf_data.shape)"
   ]
  },
  {
   "cell_type": "code",
   "execution_count": 13,
   "metadata": {},
   "outputs": [],
   "source": [
    "from copy import deepcopy\n",
    "df_sf2 = deepcopy(df_sf)"
   ]
  },
  {
   "cell_type": "code",
   "execution_count": 14,
   "metadata": {},
   "outputs": [
    {
     "data": {
      "text/plain": [
       "(85, 3)"
      ]
     },
     "execution_count": 14,
     "metadata": {},
     "output_type": "execute_result"
    }
   ],
   "source": [
    "df_sf.shape"
   ]
  },
  {
   "cell_type": "code",
   "execution_count": 15,
   "metadata": {},
   "outputs": [
    {
     "data": {
      "text/html": [
       "<div>\n",
       "<style scoped>\n",
       "    .dataframe tbody tr th:only-of-type {\n",
       "        vertical-align: middle;\n",
       "    }\n",
       "\n",
       "    .dataframe tbody tr th {\n",
       "        vertical-align: top;\n",
       "    }\n",
       "\n",
       "    .dataframe thead th {\n",
       "        text-align: right;\n",
       "    }\n",
       "</style>\n",
       "<table border=\"1\" class=\"dataframe\">\n",
       "  <thead>\n",
       "    <tr style=\"text-align: right;\">\n",
       "      <th></th>\n",
       "      <th>LMS_Qualtrics_Survey__c</th>\n",
       "      <th>Email</th>\n",
       "      <th>LMS_expiration_date__c</th>\n",
       "      <th>Id</th>\n",
       "    </tr>\n",
       "  </thead>\n",
       "  <tbody>\n",
       "    <tr>\n",
       "      <th>0</th>\n",
       "      <td>https://purdue.ca1.qualtrics.com/jfe/form/SV_a...</td>\n",
       "      <td>laagesen@umich.edu</td>\n",
       "      <td>2021-08-10 11:36:14</td>\n",
       "      <td>0035w000031VuNCAA0</td>\n",
       "    </tr>\n",
       "    <tr>\n",
       "      <th>1</th>\n",
       "      <td>https://purdue.ca1.qualtrics.com/jfe/form/SV_a...</td>\n",
       "      <td>acojim@us.es</td>\n",
       "      <td>2021-08-10 11:36:14</td>\n",
       "      <td>0035w000034JucMAAS</td>\n",
       "    </tr>\n",
       "    <tr>\n",
       "      <th>2</th>\n",
       "      <td>https://purdue.ca1.qualtrics.com/jfe/form/SV_a...</td>\n",
       "      <td>agah@vt.edu</td>\n",
       "      <td>2021-08-10 11:36:14</td>\n",
       "      <td>0035w000034JJw8AAG</td>\n",
       "    </tr>\n",
       "    <tr>\n",
       "      <th>3</th>\n",
       "      <td>https://purdue.ca1.qualtrics.com/jfe/form/SV_a...</td>\n",
       "      <td>anstinedylan@gmail.com</td>\n",
       "      <td>2021-08-10 11:36:14</td>\n",
       "      <td>0035w000034ISm4AAG</td>\n",
       "    </tr>\n",
       "    <tr>\n",
       "      <th>4</th>\n",
       "      <td>https://purdue.ca1.qualtrics.com/jfe/form/SV_a...</td>\n",
       "      <td>brandon.blackstone@unlv.edu</td>\n",
       "      <td>2021-08-10 11:36:14</td>\n",
       "      <td>0035w000031VtDtAAK</td>\n",
       "    </tr>\n",
       "    <tr>\n",
       "      <th>...</th>\n",
       "      <td>...</td>\n",
       "      <td>...</td>\n",
       "      <td>...</td>\n",
       "      <td>...</td>\n",
       "    </tr>\n",
       "    <tr>\n",
       "      <th>89</th>\n",
       "      <td>https://purdue.ca1.qualtrics.com/jfe/form/SV_a...</td>\n",
       "      <td>xuejing19850906@gmail.com</td>\n",
       "      <td>2021-08-10 11:36:14</td>\n",
       "      <td>0035w000034JO47AAG</td>\n",
       "    </tr>\n",
       "    <tr>\n",
       "      <th>90</th>\n",
       "      <td>https://purdue.ca1.qualtrics.com/jfe/form/SV_a...</td>\n",
       "      <td>ykent0406@gmail.com</td>\n",
       "      <td>2021-08-10 11:36:14</td>\n",
       "      <td>0035w000034JNEFAA4</td>\n",
       "    </tr>\n",
       "    <tr>\n",
       "      <th>91</th>\n",
       "      <td>https://purdue.ca1.qualtrics.com/jfe/form/SV_a...</td>\n",
       "      <td>ferry@asu.edu</td>\n",
       "      <td>2021-08-10 11:36:14</td>\n",
       "      <td>0035w000034JGKfAAO</td>\n",
       "    </tr>\n",
       "    <tr>\n",
       "      <th>92</th>\n",
       "      <td>https://purdue.ca1.qualtrics.com/jfe/form/SV_a...</td>\n",
       "      <td>vasileska@asu.edu</td>\n",
       "      <td>2021-08-10 11:36:14</td>\n",
       "      <td>0035w000034JKq0AAG</td>\n",
       "    </tr>\n",
       "    <tr>\n",
       "      <th>93</th>\n",
       "      <td>https://purdue.ca1.qualtrics.com/jfe/form/SV_a...</td>\n",
       "      <td>vasileska@asu.edu</td>\n",
       "      <td>2021-08-10 11:36:14</td>\n",
       "      <td>0035w000034JLtpAAG</td>\n",
       "    </tr>\n",
       "  </tbody>\n",
       "</table>\n",
       "<p>94 rows × 4 columns</p>\n",
       "</div>"
      ],
      "text/plain": [
       "                              LMS_Qualtrics_Survey__c  \\\n",
       "0   https://purdue.ca1.qualtrics.com/jfe/form/SV_a...   \n",
       "1   https://purdue.ca1.qualtrics.com/jfe/form/SV_a...   \n",
       "2   https://purdue.ca1.qualtrics.com/jfe/form/SV_a...   \n",
       "3   https://purdue.ca1.qualtrics.com/jfe/form/SV_a...   \n",
       "4   https://purdue.ca1.qualtrics.com/jfe/form/SV_a...   \n",
       "..                                                ...   \n",
       "89  https://purdue.ca1.qualtrics.com/jfe/form/SV_a...   \n",
       "90  https://purdue.ca1.qualtrics.com/jfe/form/SV_a...   \n",
       "91  https://purdue.ca1.qualtrics.com/jfe/form/SV_a...   \n",
       "92  https://purdue.ca1.qualtrics.com/jfe/form/SV_a...   \n",
       "93  https://purdue.ca1.qualtrics.com/jfe/form/SV_a...   \n",
       "\n",
       "                          Email LMS_expiration_date__c                  Id  \n",
       "0            laagesen@umich.edu    2021-08-10 11:36:14  0035w000031VuNCAA0  \n",
       "1                  acojim@us.es    2021-08-10 11:36:14  0035w000034JucMAAS  \n",
       "2                   agah@vt.edu    2021-08-10 11:36:14  0035w000034JJw8AAG  \n",
       "3        anstinedylan@gmail.com    2021-08-10 11:36:14  0035w000034ISm4AAG  \n",
       "4   brandon.blackstone@unlv.edu    2021-08-10 11:36:14  0035w000031VtDtAAK  \n",
       "..                          ...                    ...                 ...  \n",
       "89    xuejing19850906@gmail.com    2021-08-10 11:36:14  0035w000034JO47AAG  \n",
       "90          ykent0406@gmail.com    2021-08-10 11:36:14  0035w000034JNEFAA4  \n",
       "91                ferry@asu.edu    2021-08-10 11:36:14  0035w000034JGKfAAO  \n",
       "92            vasileska@asu.edu    2021-08-10 11:36:14  0035w000034JKq0AAG  \n",
       "93            vasileska@asu.edu    2021-08-10 11:36:14  0035w000034JLtpAAG  \n",
       "\n",
       "[94 rows x 4 columns]"
      ]
     },
     "metadata": {},
     "output_type": "display_data"
    },
    {
     "name": "stdout",
     "output_type": "stream",
     "text": [
      "(94, 4)\n"
     ]
    }
   ],
   "source": [
    "df_sf2 = pd.merge(df_sf2,sf_data,how='left',on=['Email'])\n",
    "display(df_sf2)\n",
    "print(df_sf2.shape)"
   ]
  },
  {
   "cell_type": "code",
   "execution_count": 16,
   "metadata": {},
   "outputs": [],
   "source": [
    "df_sf2 = df_sf2.drop(columns=['Email'])"
   ]
  },
  {
   "cell_type": "code",
   "execution_count": 17,
   "metadata": {},
   "outputs": [
    {
     "data": {
      "text/html": [
       "<div>\n",
       "<style scoped>\n",
       "    .dataframe tbody tr th:only-of-type {\n",
       "        vertical-align: middle;\n",
       "    }\n",
       "\n",
       "    .dataframe tbody tr th {\n",
       "        vertical-align: top;\n",
       "    }\n",
       "\n",
       "    .dataframe thead th {\n",
       "        text-align: right;\n",
       "    }\n",
       "</style>\n",
       "<table border=\"1\" class=\"dataframe\">\n",
       "  <thead>\n",
       "    <tr style=\"text-align: right;\">\n",
       "      <th></th>\n",
       "      <th>LMS_Qualtrics_Survey__c</th>\n",
       "      <th>LMS_expiration_date__c</th>\n",
       "      <th>Id</th>\n",
       "    </tr>\n",
       "  </thead>\n",
       "  <tbody>\n",
       "    <tr>\n",
       "      <th>0</th>\n",
       "      <td>https://purdue.ca1.qualtrics.com/jfe/form/SV_a...</td>\n",
       "      <td>2021-08-10 11:36:14</td>\n",
       "      <td>0035w000031VuNCAA0</td>\n",
       "    </tr>\n",
       "    <tr>\n",
       "      <th>1</th>\n",
       "      <td>https://purdue.ca1.qualtrics.com/jfe/form/SV_a...</td>\n",
       "      <td>2021-08-10 11:36:14</td>\n",
       "      <td>0035w000034JucMAAS</td>\n",
       "    </tr>\n",
       "    <tr>\n",
       "      <th>2</th>\n",
       "      <td>https://purdue.ca1.qualtrics.com/jfe/form/SV_a...</td>\n",
       "      <td>2021-08-10 11:36:14</td>\n",
       "      <td>0035w000034JJw8AAG</td>\n",
       "    </tr>\n",
       "    <tr>\n",
       "      <th>3</th>\n",
       "      <td>https://purdue.ca1.qualtrics.com/jfe/form/SV_a...</td>\n",
       "      <td>2021-08-10 11:36:14</td>\n",
       "      <td>0035w000034ISm4AAG</td>\n",
       "    </tr>\n",
       "    <tr>\n",
       "      <th>4</th>\n",
       "      <td>https://purdue.ca1.qualtrics.com/jfe/form/SV_a...</td>\n",
       "      <td>2021-08-10 11:36:14</td>\n",
       "      <td>0035w000031VtDtAAK</td>\n",
       "    </tr>\n",
       "  </tbody>\n",
       "</table>\n",
       "</div>"
      ],
      "text/plain": [
       "                             LMS_Qualtrics_Survey__c LMS_expiration_date__c  \\\n",
       "0  https://purdue.ca1.qualtrics.com/jfe/form/SV_a...    2021-08-10 11:36:14   \n",
       "1  https://purdue.ca1.qualtrics.com/jfe/form/SV_a...    2021-08-10 11:36:14   \n",
       "2  https://purdue.ca1.qualtrics.com/jfe/form/SV_a...    2021-08-10 11:36:14   \n",
       "3  https://purdue.ca1.qualtrics.com/jfe/form/SV_a...    2021-08-10 11:36:14   \n",
       "4  https://purdue.ca1.qualtrics.com/jfe/form/SV_a...    2021-08-10 11:36:14   \n",
       "\n",
       "                   Id  \n",
       "0  0035w000031VuNCAA0  \n",
       "1  0035w000034JucMAAS  \n",
       "2  0035w000034JJw8AAG  \n",
       "3  0035w000034ISm4AAG  \n",
       "4  0035w000031VtDtAAK  "
      ]
     },
     "metadata": {},
     "output_type": "display_data"
    }
   ],
   "source": [
    "display(df_sf2.head(5))"
   ]
  },
  {
   "cell_type": "markdown",
   "metadata": {},
   "source": [
    "## Send to Salesforce"
   ]
  },
  {
   "cell_type": "code",
   "execution_count": 18,
   "metadata": {},
   "outputs": [
    {
     "name": "stdout",
     "output_type": "stream",
     "text": [
      "Obtained Salesforce access token ...... True\n"
     ]
    }
   ],
   "source": [
    "# external_id = 'nanoHUB_user_ID__c'\n",
    "object_id = 'Contact'\n",
    "\n",
    "# create DB2 to Salesforce API object\n",
    "db_s = DB2SalesforceAPI(sf_login_params)\n",
    "\n",
    "# specify Salesforce object ID and external ID\n",
    "db_s.object_id = object_id\n",
    "# db_s.external_id = external_id\n",
    "db_s.external_id = 'Id'"
   ]
  },
  {
   "cell_type": "code",
   "execution_count": 19,
   "metadata": {},
   "outputs": [
    {
     "name": "stdout",
     "output_type": "stream",
     "text": [
      "[Success] Bulk job creation successful. Job ID = 7505w00000Ww7egAAB\n",
      "[Success] CSV upload successful. Job ID = 7505w00000Ww7egAAB\n",
      "[Success] Closing job successful. Job ID = 7505w00000Ww7egAAB\n"
     ]
    }
   ],
   "source": [
    "db_s.send_data(df_sf2)"
   ]
  },
  {
   "cell_type": "code",
   "execution_count": 20,
   "metadata": {},
   "outputs": [
    {
     "data": {
      "text/plain": [
       "{'id': '7505w00000Ww7egAAB',\n",
       " 'operation': 'upsert',\n",
       " 'object': 'Contact',\n",
       " 'createdById': '0055w00000DM5bOAAT',\n",
       " 'createdDate': '2021-06-11T17:47:06.000+0000',\n",
       " 'systemModstamp': '2021-06-11T17:47:07.000+0000',\n",
       " 'state': 'UploadComplete',\n",
       " 'externalIdFieldName': 'Id',\n",
       " 'concurrencyMode': 'Parallel',\n",
       " 'contentType': 'CSV',\n",
       " 'apiVersion': 47.0,\n",
       " 'jobType': 'V2Ingest',\n",
       " 'lineEnding': 'LF',\n",
       " 'columnDelimiter': 'COMMA',\n",
       " 'numberRecordsProcessed': 0,\n",
       " 'numberRecordsFailed': 0,\n",
       " 'retries': 0,\n",
       " 'totalProcessingTime': 0,\n",
       " 'apiActiveProcessingTime': 0,\n",
       " 'apexProcessingTime': 0}"
      ]
     },
     "execution_count": 20,
     "metadata": {},
     "output_type": "execute_result"
    }
   ],
   "source": [
    "# check status\n",
    "db_s.check_bulk_status()"
   ]
  },
  {
   "cell_type": "code",
   "execution_count": 21,
   "metadata": {},
   "outputs": [
    {
     "name": "stdout",
     "output_type": "stream",
     "text": [
      "''\n"
     ]
    }
   ],
   "source": [
    "# check status\n",
    "from pprint import pprint\n",
    "\n",
    "pprint(db_s.check_bulk_failed_results())"
   ]
  },
  {
   "cell_type": "code",
   "execution_count": null,
   "metadata": {},
   "outputs": [],
   "source": []
  },
  {
   "cell_type": "code",
   "execution_count": null,
   "metadata": {},
   "outputs": [],
   "source": []
  }
 ],
 "metadata": {
  "kernelspec": {
   "display_name": "Python 3",
   "language": "python",
   "name": "python3"
  },
  "language_info": {
   "codemirror_mode": {
    "name": "ipython",
    "version": 3
   },
   "file_extension": ".py",
   "mimetype": "text/x-python",
   "name": "python",
   "nbconvert_exporter": "python",
   "pygments_lexer": "ipython3",
   "version": "3.8.10"
  }
 },
 "nbformat": 4,
 "nbformat_minor": 4
}
