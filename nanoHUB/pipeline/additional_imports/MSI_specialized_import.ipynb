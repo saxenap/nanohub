{
 "cells": [
  {
   "cell_type": "markdown",
   "metadata": {},
   "source": [
    "## general_import.py transposed to a .ipynb file for debugging"
   ]
  },
  {
   "cell_type": "code",
   "execution_count": 1,
   "metadata": {},
   "outputs": [],
   "source": [
    "import numpy as np\n",
    "import pandas as pd\n",
    "import os\n",
    "from DB2SalesforceAPI import DB2SalesforceAPI\n",
    "\n",
    "sql_login_params = {\"username\": \"wang2506_ro\", \"password\": \"fnVnwcCS7iT45EsA\"}\n",
    "sf_login_params = {\n",
    "    \"grant_type\": \"password\",\n",
    "    \"client_id\": \"3MVG95jctIhbyCppj0SNJ75IsZ1y8UPGZtSNF4j8FNVXz.De8Lu4jHm3rjRosAtsHy6qjHx3i4S_QbQzvBePG\",\n",
    "    \"client_secret\": \"D1623C6D3607D4FC8004B92C761DFB6C1F70CCD129C5501E357028DFA00F5764\",\n",
    "    \"username\":\"wang2506@purdue.edu\",\n",
    "    \"password\":\"purdue99272844vp8Z6qq0teuPQmirGaaPAt4\", \n",
    "}"
   ]
  },
  {
   "cell_type": "code",
   "execution_count": 2,
   "metadata": {},
   "outputs": [],
   "source": [
    "cwd = os.getcwd()"
   ]
  },
  {
   "cell_type": "code",
   "execution_count": 3,
   "metadata": {},
   "outputs": [],
   "source": [
    "#input new filename here\n",
    "filename = 'MSI Faculty information - MSI EE Faculty.csv'#'Citrine Webinar Sent.csv'\n",
    "f_type = filename.split('.')[-1]"
   ]
  },
  {
   "cell_type": "code",
   "execution_count": 4,
   "metadata": {},
   "outputs": [
    {
     "name": "stdout",
     "output_type": "stream",
     "text": [
      "                             College Unnamed: 1      Faculty            Email  \\\n",
      "0  university of illinois at chicago    uic.edu  Pai-Yen Chen  pychen@uic.edu   \n",
      "1  university of illinois at chicago    uic.edu  Mitra Dutta    dutta@uic.edu   \n",
      "\n",
      "             Phone                    Title  \\\n",
      "0  (312) 996-2648       Associate Professor   \n",
      "1  (312) 355-3221   Distinguished Professor   \n",
      "\n",
      "                                          Department  \\\n",
      "0  Department of Electrical and Computer Engineering   \n",
      "1  Department of Electrical and Computer Engineering   \n",
      "\n",
      "                                           Interests  \\\n",
      "0  Optics and Optoelectronics, Dr. Chen’s group c...   \n",
      "1  Optics and Optoelectronics, Optoelectronics de...   \n",
      "\n",
      "  Klimeck-personal-acquaintance Product/Marketing Offering  ...  \\\n",
      "0                           NaN              Nanophotonics  ...   \n",
      "1                            GK            Optoelectronics  ...   \n",
      "\n",
      "             Faculty Homepage or personal webpage  \\\n",
      "0  https://ece.uic.edu/profiles/pai-yen-chen-phd/   \n",
      "1                 https://www.ece.uic.edu/~dutta/   \n",
      "\n",
      "                                 Other home page Unnamed: 13   Unnamed: 14  \\\n",
      "0                        https://paiyenchen.com/         NaN  web_jennifer   \n",
      "1  https://ece.uic.edu/profiles/mitra-dutta-phd/         NaN  web_jennifer   \n",
      "\n",
      "  nanoHUB Account  Interest 1 Abacus  Photonics  Unnamed: 19  Unnamed: 20  \n",
      "0              NaN        NaN  False      False        False        False  \n",
      "1              NaN        NaN  False      False        False        False  \n",
      "\n",
      "[2 rows x 21 columns]\n"
     ]
    }
   ],
   "source": [
    "#pandas import\n",
    "if f_type == 'csv':\n",
    "    #idf = pd.read_csv(filename)\n",
    "    idf = pd.read_csv(filename)#,encoding=\"cp1252\")\n",
    "elif f_type == 'xlsx' or f_type == 'xls':\n",
    "    xl = pd.ExcelFile(filename)\n",
    "    print(xl.sheet_names)# see all sheet names\n",
    "    sheet_names = xl.parse(xl.sheet_names) #this already performs an import\n",
    "    \n",
    "    idf = pd.read_excel(filename,sheet_name=0,header=0)\n",
    "\n",
    "print(idf.head(2))"
   ]
  },
  {
   "cell_type": "code",
   "execution_count": 5,
   "metadata": {},
   "outputs": [
    {
     "data": {
      "text/html": [
       "<div>\n",
       "<style scoped>\n",
       "    .dataframe tbody tr th:only-of-type {\n",
       "        vertical-align: middle;\n",
       "    }\n",
       "\n",
       "    .dataframe tbody tr th {\n",
       "        vertical-align: top;\n",
       "    }\n",
       "\n",
       "    .dataframe thead th {\n",
       "        text-align: right;\n",
       "    }\n",
       "</style>\n",
       "<table border=\"1\" class=\"dataframe\">\n",
       "  <thead>\n",
       "    <tr style=\"text-align: right;\">\n",
       "      <th></th>\n",
       "      <th>Email</th>\n",
       "      <th>Faculty</th>\n",
       "      <th>Product/Marketing Offering</th>\n",
       "      <th>Product/Marketing Offering 2</th>\n",
       "    </tr>\n",
       "  </thead>\n",
       "  <tbody>\n",
       "    <tr>\n",
       "      <th>0</th>\n",
       "      <td>pychen@uic.edu</td>\n",
       "      <td>Pai-Yen Chen</td>\n",
       "      <td>Nanophotonics</td>\n",
       "      <td>NaN</td>\n",
       "    </tr>\n",
       "    <tr>\n",
       "      <th>1</th>\n",
       "      <td>dutta@uic.edu</td>\n",
       "      <td>Mitra Dutta</td>\n",
       "      <td>Optoelectronics</td>\n",
       "      <td>NaN</td>\n",
       "    </tr>\n",
       "  </tbody>\n",
       "</table>\n",
       "</div>"
      ],
      "text/plain": [
       "            Email       Faculty Product/Marketing Offering  \\\n",
       "0  pychen@uic.edu  Pai-Yen Chen              Nanophotonics   \n",
       "1   dutta@uic.edu  Mitra Dutta             Optoelectronics   \n",
       "\n",
       "  Product/Marketing Offering 2  \n",
       "0                          NaN  \n",
       "1                          NaN  "
      ]
     },
     "metadata": {},
     "output_type": "display_data"
    }
   ],
   "source": [
    "# selecting columns\n",
    "try:\n",
    "    idf = idf[['Email','Faculty','Product/Marketing Offering','Product/Marketing Offering 2']]\n",
    "except:\n",
    "    idf = idf[['Email','Faculty ','Product/Marketing Offering','Product/Marketing Offering 2']]\n",
    "    idf = idf.rename(columns={'Faculty ':'Faculty'})\n",
    "    \n",
    "display(idf.head(2))"
   ]
  },
  {
   "cell_type": "code",
   "execution_count": 6,
   "metadata": {},
   "outputs": [
    {
     "ename": "NameError",
     "evalue": "name 'name_flag' is not defined",
     "output_type": "error",
     "traceback": [
      "\u001b[1;31m---------------------------------------------------------------------------\u001b[0m",
      "\u001b[1;31mNameError\u001b[0m                                 Traceback (most recent call last)",
      "\u001b[1;32m<ipython-input-6-c8015b894cbe>\u001b[0m in \u001b[0;36m<module>\u001b[1;34m\u001b[0m\n\u001b[0;32m      4\u001b[0m \u001b[0midf\u001b[0m \u001b[1;33m=\u001b[0m \u001b[0midf\u001b[0m\u001b[1;33m.\u001b[0m\u001b[0mrename\u001b[0m\u001b[1;33m(\u001b[0m\u001b[0mcolumns\u001b[0m\u001b[1;33m=\u001b[0m\u001b[1;33m{\u001b[0m\u001b[1;34m'First Name'\u001b[0m\u001b[1;33m:\u001b[0m\u001b[1;34m'firstname'\u001b[0m\u001b[1;33m,\u001b[0m\u001b[1;34m'Last Name'\u001b[0m\u001b[1;33m:\u001b[0m\u001b[1;34m'lastname'\u001b[0m\u001b[1;33m}\u001b[0m\u001b[1;33m)\u001b[0m\u001b[1;33m\u001b[0m\u001b[1;33m\u001b[0m\u001b[0m\n\u001b[0;32m      5\u001b[0m \u001b[0midf\u001b[0m \u001b[1;33m=\u001b[0m \u001b[0midf\u001b[0m\u001b[1;33m.\u001b[0m\u001b[0mrename\u001b[0m\u001b[1;33m(\u001b[0m\u001b[0mcolumns\u001b[0m\u001b[1;33m=\u001b[0m\u001b[1;33m{\u001b[0m\u001b[1;36m0\u001b[0m\u001b[1;33m:\u001b[0m\u001b[1;34m'Email'\u001b[0m\u001b[1;33m}\u001b[0m\u001b[1;33m)\u001b[0m\u001b[1;33m\u001b[0m\u001b[1;33m\u001b[0m\u001b[0m\n\u001b[1;32m----> 6\u001b[1;33m \u001b[1;32mif\u001b[0m \u001b[0mname_flag\u001b[0m \u001b[1;33m==\u001b[0m \u001b[1;32mTrue\u001b[0m\u001b[1;33m:\u001b[0m\u001b[1;33m\u001b[0m\u001b[1;33m\u001b[0m\u001b[0m\n\u001b[0m\u001b[0;32m      7\u001b[0m     \u001b[0midf\u001b[0m \u001b[1;33m=\u001b[0m \u001b[0midf\u001b[0m\u001b[1;33m.\u001b[0m\u001b[0mdrop\u001b[0m\u001b[1;33m(\u001b[0m\u001b[0mcolumns\u001b[0m\u001b[1;33m=\u001b[0m\u001b[1;34m'Name'\u001b[0m\u001b[1;33m)\u001b[0m\u001b[1;31m#['NAME','LAST NAME','FIRST NAME'])\u001b[0m\u001b[1;33m\u001b[0m\u001b[1;33m\u001b[0m\u001b[0m\n",
      "\u001b[1;31mNameError\u001b[0m: name 'name_flag' is not defined"
     ]
    }
   ],
   "source": [
    "#rename columns\n",
    "idf = idf.rename(columns={'email':'Email','EMAIL':'Email'})\n",
    "idf = idf.rename(columns={'Engagement Venue':'Venue__c'})\n",
    "idf = idf.rename(columns={'First Name':'firstname','Last Name':'lastname'})\n",
    "idf = idf.rename(columns={0:'Email'})\n",
    "if name_flag == True:\n",
    "    idf = idf.drop(columns='Name')#['NAME','LAST NAME','FIRST NAME'])"
   ]
  },
  {
   "cell_type": "code",
   "execution_count": 7,
   "metadata": {},
   "outputs": [
    {
     "data": {
      "text/html": [
       "<div>\n",
       "<style scoped>\n",
       "    .dataframe tbody tr th:only-of-type {\n",
       "        vertical-align: middle;\n",
       "    }\n",
       "\n",
       "    .dataframe tbody tr th {\n",
       "        vertical-align: top;\n",
       "    }\n",
       "\n",
       "    .dataframe thead th {\n",
       "        text-align: right;\n",
       "    }\n",
       "</style>\n",
       "<table border=\"1\" class=\"dataframe\">\n",
       "  <thead>\n",
       "    <tr style=\"text-align: right;\">\n",
       "      <th></th>\n",
       "      <th>Email</th>\n",
       "      <th>Faculty</th>\n",
       "      <th>Product/Marketing Offering</th>\n",
       "      <th>Product/Marketing Offering 2</th>\n",
       "    </tr>\n",
       "  </thead>\n",
       "  <tbody>\n",
       "    <tr>\n",
       "      <th>0</th>\n",
       "      <td>pychen@uic.edu</td>\n",
       "      <td>Pai-Yen Chen</td>\n",
       "      <td>Nanophotonics</td>\n",
       "      <td>NaN</td>\n",
       "    </tr>\n",
       "    <tr>\n",
       "      <th>1</th>\n",
       "      <td>dutta@uic.edu</td>\n",
       "      <td>Mitra Dutta</td>\n",
       "      <td>Optoelectronics</td>\n",
       "      <td>NaN</td>\n",
       "    </tr>\n",
       "    <tr>\n",
       "      <th>2</th>\n",
       "      <td>mazumder@uic.edu</td>\n",
       "      <td>Sudip K. Mazumder</td>\n",
       "      <td>Optoelectronics</td>\n",
       "      <td>ABACUS</td>\n",
       "    </tr>\n",
       "    <tr>\n",
       "      <th>3</th>\n",
       "      <td>lucyshi@uic.edu</td>\n",
       "      <td>J. Lucy Shi</td>\n",
       "      <td>Optoelectronics</td>\n",
       "      <td>ABACUS</td>\n",
       "    </tr>\n",
       "    <tr>\n",
       "      <th>4</th>\n",
       "      <td>stroscio@uic.edu</td>\n",
       "      <td>Michael Stroscio</td>\n",
       "      <td>Optoelectronics</td>\n",
       "      <td>ABACUS</td>\n",
       "    </tr>\n",
       "  </tbody>\n",
       "</table>\n",
       "</div>"
      ],
      "text/plain": [
       "              Email            Faculty Product/Marketing Offering  \\\n",
       "0    pychen@uic.edu       Pai-Yen Chen              Nanophotonics   \n",
       "1     dutta@uic.edu       Mitra Dutta             Optoelectronics   \n",
       "2  mazumder@uic.edu  Sudip K. Mazumder            Optoelectronics   \n",
       "3   lucyshi@uic.edu        J. Lucy Shi            Optoelectronics   \n",
       "4  stroscio@uic.edu   Michael Stroscio            Optoelectronics   \n",
       "\n",
       "  Product/Marketing Offering 2  \n",
       "0                          NaN  \n",
       "1                          NaN  \n",
       "2                       ABACUS  \n",
       "3                       ABACUS  \n",
       "4                       ABACUS  "
      ]
     },
     "metadata": {},
     "output_type": "display_data"
    }
   ],
   "source": [
    "display(idf.head(5))"
   ]
  },
  {
   "cell_type": "code",
   "execution_count": 8,
   "metadata": {},
   "outputs": [
    {
     "name": "stdout",
     "output_type": "stream",
     "text": [
      "(467, 4)\n"
     ]
    }
   ],
   "source": [
    "idf = idf.dropna(subset=['Email'])\n",
    "print(idf.shape)"
   ]
  },
  {
   "cell_type": "code",
   "execution_count": 9,
   "metadata": {},
   "outputs": [
    {
     "name": "stdout",
     "output_type": "stream",
     "text": [
      "            Email       Faculty Product/Marketing Offering  \\\n",
      "0  pychen@uic.edu  Pai-Yen Chen              Nanophotonics   \n",
      "1   dutta@uic.edu  Mitra Dutta             Optoelectronics   \n",
      "\n",
      "  Product/Marketing Offering 2  \n",
      "0                          NaN  \n",
      "1                          NaN  \n"
     ]
    }
   ],
   "source": [
    "#email check rows\n",
    "grows = []\n",
    "brows = []\n",
    "for ind,val in enumerate(idf['Email'].to_list()):\n",
    "    if '@' in val:\n",
    "        grows.append(ind)\n",
    "    else:\n",
    "        brows.append(ind)    \n",
    "idf = idf.iloc[grows,:].reset_index().iloc[:,1:]\n",
    "print(idf.head(2))"
   ]
  },
  {
   "cell_type": "code",
   "execution_count": 10,
   "metadata": {},
   "outputs": [
    {
     "name": "stdout",
     "output_type": "stream",
     "text": [
      "467\n",
      "0\n"
     ]
    }
   ],
   "source": [
    "print(len(grows))\n",
    "print(len(brows))"
   ]
  },
  {
   "cell_type": "code",
   "execution_count": 11,
   "metadata": {},
   "outputs": [],
   "source": [
    "#firstname lastname split from faculty\n",
    "faculty_raw = idf['Faculty'].to_list()\n",
    "fnames = []\n",
    "lnames = []\n",
    "\n",
    "for ind,val in enumerate(faculty_raw):\n",
    "    t_val = val.split(' ')\n",
    "    if t_val[-1] == '':\n",
    "        t_val = t_val[:-1]\n",
    "    \n",
    "    lnames.append(t_val[-1])\n",
    "    fnames.append(' '.join(t_val[:-1]))\n",
    "    "
   ]
  },
  {
   "cell_type": "code",
   "execution_count": 12,
   "metadata": {},
   "outputs": [
    {
     "data": {
      "text/html": [
       "<div>\n",
       "<style scoped>\n",
       "    .dataframe tbody tr th:only-of-type {\n",
       "        vertical-align: middle;\n",
       "    }\n",
       "\n",
       "    .dataframe tbody tr th {\n",
       "        vertical-align: top;\n",
       "    }\n",
       "\n",
       "    .dataframe thead th {\n",
       "        text-align: right;\n",
       "    }\n",
       "</style>\n",
       "<table border=\"1\" class=\"dataframe\">\n",
       "  <thead>\n",
       "    <tr style=\"text-align: right;\">\n",
       "      <th></th>\n",
       "      <th>Email</th>\n",
       "      <th>Faculty</th>\n",
       "      <th>Product/Marketing Offering</th>\n",
       "      <th>Product/Marketing Offering 2</th>\n",
       "      <th>firstname</th>\n",
       "      <th>lastname</th>\n",
       "    </tr>\n",
       "  </thead>\n",
       "  <tbody>\n",
       "    <tr>\n",
       "      <th>0</th>\n",
       "      <td>pychen@uic.edu</td>\n",
       "      <td>Pai-Yen Chen</td>\n",
       "      <td>Nanophotonics</td>\n",
       "      <td>NaN</td>\n",
       "      <td>Pai-Yen</td>\n",
       "      <td>Chen</td>\n",
       "    </tr>\n",
       "    <tr>\n",
       "      <th>1</th>\n",
       "      <td>dutta@uic.edu</td>\n",
       "      <td>Mitra Dutta</td>\n",
       "      <td>Optoelectronics</td>\n",
       "      <td>NaN</td>\n",
       "      <td>Mitra</td>\n",
       "      <td>Dutta</td>\n",
       "    </tr>\n",
       "    <tr>\n",
       "      <th>2</th>\n",
       "      <td>mazumder@uic.edu</td>\n",
       "      <td>Sudip K. Mazumder</td>\n",
       "      <td>Optoelectronics</td>\n",
       "      <td>ABACUS</td>\n",
       "      <td>Sudip K.</td>\n",
       "      <td>Mazumder</td>\n",
       "    </tr>\n",
       "    <tr>\n",
       "      <th>3</th>\n",
       "      <td>lucyshi@uic.edu</td>\n",
       "      <td>J. Lucy Shi</td>\n",
       "      <td>Optoelectronics</td>\n",
       "      <td>ABACUS</td>\n",
       "      <td>J. Lucy</td>\n",
       "      <td>Shi</td>\n",
       "    </tr>\n",
       "    <tr>\n",
       "      <th>4</th>\n",
       "      <td>stroscio@uic.edu</td>\n",
       "      <td>Michael Stroscio</td>\n",
       "      <td>Optoelectronics</td>\n",
       "      <td>ABACUS</td>\n",
       "      <td>Michael</td>\n",
       "      <td>Stroscio</td>\n",
       "    </tr>\n",
       "  </tbody>\n",
       "</table>\n",
       "</div>"
      ],
      "text/plain": [
       "              Email            Faculty Product/Marketing Offering  \\\n",
       "0    pychen@uic.edu       Pai-Yen Chen              Nanophotonics   \n",
       "1     dutta@uic.edu       Mitra Dutta             Optoelectronics   \n",
       "2  mazumder@uic.edu  Sudip K. Mazumder            Optoelectronics   \n",
       "3   lucyshi@uic.edu        J. Lucy Shi            Optoelectronics   \n",
       "4  stroscio@uic.edu   Michael Stroscio            Optoelectronics   \n",
       "\n",
       "  Product/Marketing Offering 2 firstname  lastname  \n",
       "0                          NaN   Pai-Yen      Chen  \n",
       "1                          NaN     Mitra     Dutta  \n",
       "2                       ABACUS  Sudip K.  Mazumder  \n",
       "3                       ABACUS   J. Lucy       Shi  \n",
       "4                       ABACUS   Michael  Stroscio  "
      ]
     },
     "metadata": {},
     "output_type": "display_data"
    }
   ],
   "source": [
    "idf['firstname'] = fnames\n",
    "idf['lastname'] = lnames\n",
    "display(idf.head(5))"
   ]
  },
  {
   "cell_type": "code",
   "execution_count": 13,
   "metadata": {},
   "outputs": [
    {
     "name": "stdout",
     "output_type": "stream",
     "text": [
      "[2, 3, 4, 5, 6, 16, 17, 19, 20, 21, 22, 23, 29, 30, 32, 34, 35, 37, 38, 40, 42, 43, 47, 52, 59, 66, 77, 80, 82, 91, 92, 101, 123, 125, 129, 132, 133, 142, 146, 149, 152, 157, 158, 159, 160, 161, 164, 167, 171, 174, 179, 180, 181, 186, 187, 188, 189, 193, 194, 202, 203, 237, 243, 249, 253, 256, 257, 259, 260, 261, 262, 264, 266, 272, 298, 300, 309, 324, 325, 327, 337, 340, 341, 345, 348, 350, 354, 376, 387, 393, 411, 415, 417, 424, 426, 428, 429, 430, 443, 446, 447, 450, 451, 452, 453, 464, 465]\n"
     ]
    }
   ],
   "source": [
    "#check both in tandem\n",
    "pm_offers1 = idf['Product/Marketing Offering'].to_list()\n",
    "pm_offers2 = idf['Product/Marketing Offering 2'].to_list()\n",
    "keep_ind = []\n",
    "\n",
    "for ind,val in enumerate(pm_offers1):\n",
    "    if val == 'ABACUS' or pm_offers2[ind] == 'ABACUS':\n",
    "        keep_ind.append(ind)\n",
    "    \n",
    "print(keep_ind)"
   ]
  },
  {
   "cell_type": "code",
   "execution_count": 14,
   "metadata": {},
   "outputs": [
    {
     "data": {
      "text/html": [
       "<div>\n",
       "<style scoped>\n",
       "    .dataframe tbody tr th:only-of-type {\n",
       "        vertical-align: middle;\n",
       "    }\n",
       "\n",
       "    .dataframe tbody tr th {\n",
       "        vertical-align: top;\n",
       "    }\n",
       "\n",
       "    .dataframe thead th {\n",
       "        text-align: right;\n",
       "    }\n",
       "</style>\n",
       "<table border=\"1\" class=\"dataframe\">\n",
       "  <thead>\n",
       "    <tr style=\"text-align: right;\">\n",
       "      <th></th>\n",
       "      <th>Email</th>\n",
       "      <th>Faculty</th>\n",
       "      <th>Product/Marketing Offering</th>\n",
       "      <th>Product/Marketing Offering 2</th>\n",
       "      <th>firstname</th>\n",
       "      <th>lastname</th>\n",
       "    </tr>\n",
       "  </thead>\n",
       "  <tbody>\n",
       "    <tr>\n",
       "      <th>2</th>\n",
       "      <td>mazumder@uic.edu</td>\n",
       "      <td>Sudip K. Mazumder</td>\n",
       "      <td>Optoelectronics</td>\n",
       "      <td>ABACUS</td>\n",
       "      <td>Sudip K.</td>\n",
       "      <td>Mazumder</td>\n",
       "    </tr>\n",
       "    <tr>\n",
       "      <th>3</th>\n",
       "      <td>lucyshi@uic.edu</td>\n",
       "      <td>J. Lucy Shi</td>\n",
       "      <td>Optoelectronics</td>\n",
       "      <td>ABACUS</td>\n",
       "      <td>J. Lucy</td>\n",
       "      <td>Shi</td>\n",
       "    </tr>\n",
       "  </tbody>\n",
       "</table>\n",
       "</div>"
      ],
      "text/plain": [
       "              Email            Faculty Product/Marketing Offering  \\\n",
       "2  mazumder@uic.edu  Sudip K. Mazumder            Optoelectronics   \n",
       "3   lucyshi@uic.edu        J. Lucy Shi            Optoelectronics   \n",
       "\n",
       "  Product/Marketing Offering 2 firstname  lastname  \n",
       "2                       ABACUS  Sudip K.  Mazumder  \n",
       "3                       ABACUS   J. Lucy       Shi  "
      ]
     },
     "metadata": {},
     "output_type": "display_data"
    }
   ],
   "source": [
    "idf = idf.iloc[keep_ind,:]\n",
    "display(idf.head(2))"
   ]
  },
  {
   "cell_type": "code",
   "execution_count": 15,
   "metadata": {},
   "outputs": [],
   "source": [
    "idf = idf.reset_index()\n",
    "idf = idf.drop(columns=['index','Faculty','Product/Marketing Offering','Product/Marketing Offering 2'])\n"
   ]
  },
  {
   "cell_type": "code",
   "execution_count": 16,
   "metadata": {},
   "outputs": [
    {
     "data": {
      "text/html": [
       "<div>\n",
       "<style scoped>\n",
       "    .dataframe tbody tr th:only-of-type {\n",
       "        vertical-align: middle;\n",
       "    }\n",
       "\n",
       "    .dataframe tbody tr th {\n",
       "        vertical-align: top;\n",
       "    }\n",
       "\n",
       "    .dataframe thead th {\n",
       "        text-align: right;\n",
       "    }\n",
       "</style>\n",
       "<table border=\"1\" class=\"dataframe\">\n",
       "  <thead>\n",
       "    <tr style=\"text-align: right;\">\n",
       "      <th></th>\n",
       "      <th>Email</th>\n",
       "      <th>firstname</th>\n",
       "      <th>lastname</th>\n",
       "      <th>Venue__c</th>\n",
       "    </tr>\n",
       "  </thead>\n",
       "  <tbody>\n",
       "    <tr>\n",
       "      <th>0</th>\n",
       "      <td>mazumder@uic.edu</td>\n",
       "      <td>Sudip K.</td>\n",
       "      <td>Mazumder</td>\n",
       "      <td>ABACUS</td>\n",
       "    </tr>\n",
       "    <tr>\n",
       "      <th>1</th>\n",
       "      <td>lucyshi@uic.edu</td>\n",
       "      <td>J. Lucy</td>\n",
       "      <td>Shi</td>\n",
       "      <td>ABACUS</td>\n",
       "    </tr>\n",
       "  </tbody>\n",
       "</table>\n",
       "</div>"
      ],
      "text/plain": [
       "              Email firstname  lastname Venue__c\n",
       "0  mazumder@uic.edu  Sudip K.  Mazumder   ABACUS\n",
       "1   lucyshi@uic.edu   J. Lucy       Shi   ABACUS"
      ]
     },
     "metadata": {},
     "output_type": "display_data"
    }
   ],
   "source": [
    "idf['Venue__c'] = 'ABACUS'\n",
    "display(idf.head(2))"
   ]
  },
  {
   "cell_type": "code",
   "execution_count": null,
   "metadata": {},
   "outputs": [],
   "source": []
  },
  {
   "cell_type": "markdown",
   "metadata": {},
   "source": [
    "### Upsert Contacts with new Venue"
   ]
  },
  {
   "cell_type": "code",
   "execution_count": 17,
   "metadata": {},
   "outputs": [],
   "source": [
    "import os\n",
    "os_name = os.name\n",
    "import platform\n",
    "sys_name = platform.system() #Linux, Darwin, Windows"
   ]
  },
  {
   "cell_type": "code",
   "execution_count": 18,
   "metadata": {},
   "outputs": [],
   "source": [
    "sys_name = 'Linux'"
   ]
  },
  {
   "cell_type": "code",
   "execution_count": 19,
   "metadata": {},
   "outputs": [
    {
     "name": "stdout",
     "output_type": "stream",
     "text": [
      "Obtained Salesforce access token ...... True\n"
     ]
    }
   ],
   "source": [
    "# salesforce queries for contact data\n",
    "db_s = DB2SalesforceAPI(sf_login_params)\n",
    "\n",
    "# deciding the queries\n",
    "from copy import deepcopy\n",
    "import_df_cols = deepcopy(idf.columns)\n",
    "nh_id_flag = False\n",
    "email_flag = False\n",
    "if 'nanoHUB_user_ID__c' in import_df_cols:\n",
    "    nh_id_flag = True\n",
    "\n",
    "if 'Email' in import_df_cols:\n",
    "    email_flag = True"
   ]
  },
  {
   "cell_type": "code",
   "execution_count": 20,
   "metadata": {},
   "outputs": [
    {
     "name": "stdout",
     "output_type": "stream",
     "text": [
      "[Success] Bulk job creation successful. Job ID = 7505w00000ShIDLAA3\n",
      "{\"id\":\"7505w00000ShIDLAA3\",\"operation\":\"query\",\"object\":\"Contact\",\"createdById\":\"0055w00000DM5bOAAT\",\"createdDate\":\"2020-12-10T16:09:36.000+0000\",\"systemModstamp\":\"2020-12-10T16:09:36.000+0000\",\"state\":\"UploadComplete\",\"concurrencyMode\":\"Parallel\",\"contentType\":\"CSV\",\"apiVersion\":47.0,\"jobType\":\"V2Query\",\"lineEnding\":\"LF\",\"columnDelimiter\":\"COMMA\",\"retries\":0,\"totalProcessingTime\":0}\n",
      "{\"id\":\"7505w00000ShIDLAA3\",\"operation\":\"query\",\"object\":\"Contact\",\"createdById\":\"0055w00000DM5bOAAT\",\"createdDate\":\"2020-12-10T16:09:36.000+0000\",\"systemModstamp\":\"2020-12-10T16:09:44.000+0000\",\"state\":\"InProgress\",\"concurrencyMode\":\"Parallel\",\"contentType\":\"CSV\",\"apiVersion\":47.0,\"jobType\":\"V2Query\",\"lineEnding\":\"LF\",\"columnDelimiter\":\"COMMA\",\"numberRecordsProcessed\":0,\"retries\":0,\"totalProcessingTime\":0}\n",
      "{\"id\":\"7505w00000ShIDLAA3\",\"operation\":\"query\",\"object\":\"Contact\",\"createdById\":\"0055w00000DM5bOAAT\",\"createdDate\":\"2020-12-10T16:09:36.000+0000\",\"systemModstamp\":\"2020-12-10T16:09:44.000+0000\",\"state\":\"InProgress\",\"concurrencyMode\":\"Parallel\",\"contentType\":\"CSV\",\"apiVersion\":47.0,\"jobType\":\"V2Query\",\"lineEnding\":\"LF\",\"columnDelimiter\":\"COMMA\",\"numberRecordsProcessed\":0,\"retries\":0,\"totalProcessingTime\":0}\n",
      "{\"id\":\"7505w00000ShIDLAA3\",\"operation\":\"query\",\"object\":\"Contact\",\"createdById\":\"0055w00000DM5bOAAT\",\"createdDate\":\"2020-12-10T16:09:36.000+0000\",\"systemModstamp\":\"2020-12-10T16:10:08.000+0000\",\"state\":\"JobComplete\",\"concurrencyMode\":\"Parallel\",\"contentType\":\"CSV\",\"apiVersion\":47.0,\"jobType\":\"V2Query\",\"lineEnding\":\"LF\",\"columnDelimiter\":\"COMMA\",\"numberRecordsProcessed\":233638,\"retries\":0,\"totalProcessingTime\":16160}\n",
      "[Success] Bulk job completed successfully.\n"
     ]
    }
   ],
   "source": [
    "if nh_id_flag == True and email_flag == True:\n",
    "    sf_df = db_s.query_data('SELECT nanoHUB_user_ID__c, Email, Venue__c FROM Contact',sys_name=sys_name)\n",
    "elif email_flag == True:\n",
    "    sf_df = db_s.query_data('SELECT nanoHUB_user_ID__c, Email, Venue__c FROM Contact',sys_name=sys_name)"
   ]
  },
  {
   "cell_type": "raw",
   "metadata": {},
   "source": [
    "# prefilter for .apply(lambda x: x.replace('â\\x80\\x93','-'))\n",
    "sf_df['Venue__c'] = sf_df['Venue__c'].apply(lambda x: x.replace('â\\x80\\x93','-'))"
   ]
  },
  {
   "cell_type": "code",
   "execution_count": 21,
   "metadata": {},
   "outputs": [],
   "source": [
    "# find all existing contacts\n",
    "sf_emails = sf_df['Email'].to_list()\n",
    "grows = []\n",
    "brows = [] #dont need the sf_bad_rows as send to leads\n",
    "sf_grows = []\n",
    "for ind,val in enumerate(idf['Email'].to_list()):\n",
    "    if val in sf_emails:\n",
    "        grows.append(ind)\n",
    "        sf_grows.append(sf_emails.index(val))\n",
    "    else:\n",
    "        brows.append(ind)"
   ]
  },
  {
   "cell_type": "code",
   "execution_count": 22,
   "metadata": {},
   "outputs": [
    {
     "name": "stdout",
     "output_type": "stream",
     "text": [
      "              Email Venue__c  nanoHUB_user_ID__c\n",
      "0  stroscio@uic.edu      NaN             71464.0\n",
      "1  skoester@umn.edu      NaN             48899.0\n",
      "              Email firstname  lastname Venue__c\n",
      "0  stroscio@uic.edu   Michael  Stroscio   ABACUS\n",
      "1  skoester@umn.edu    Steven   Koester   ABACUS\n"
     ]
    }
   ],
   "source": [
    "# pull the matching SF entries and the matching import df entries\n",
    "sf_df_match = sf_df.iloc[sf_grows,:].reset_index().iloc[:,1:]\n",
    "idf_match = idf.iloc[grows,:].reset_index().iloc[:,1:]\n",
    "lead_df = idf.iloc[brows,:].reset_index().iloc[:,1:] #use this in next section\n",
    "\n",
    "print(sf_df_match.head(2))\n",
    "print(idf_match.head(2))"
   ]
  },
  {
   "cell_type": "code",
   "execution_count": 23,
   "metadata": {},
   "outputs": [
    {
     "name": "stdout",
     "output_type": "stream",
     "text": [
      "              Email Venue__c  nanoHUB_user_ID__c\n",
      "0  stroscio@uic.edu   ABACUS             71464.0\n",
      "1  skoester@umn.edu   ABACUS             48899.0\n",
      "2      tlow@umn.edu   ABACUS            292578.0\n",
      "3   stadler@umn.edu   ABACUS             76666.0\n",
      "4  sswisher@umn.edu   ABACUS            166194.0\n"
     ]
    },
    {
     "name": "stderr",
     "output_type": "stream",
     "text": [
      "C:\\Users\\henry\\Anaconda3\\envs\\tf\\lib\\site-packages\\ipykernel_launcher.py:9: SettingWithCopyWarning: \n",
      "A value is trying to be set on a copy of a slice from a DataFrame\n",
      "\n",
      "See the caveats in the documentation: http://pandas.pydata.org/pandas-docs/stable/user_guide/indexing.html#returning-a-view-versus-a-copy\n",
      "  if __name__ == '__main__':\n"
     ]
    }
   ],
   "source": [
    "# linear join since the sequence is matching\n",
    "for ind,val in enumerate(sf_df_match['Venue__c']):\n",
    "    try:\n",
    "        val = val.split(';')\n",
    "        val.append(idf['Venue__c'][ind])\n",
    "        val = ';'.join(val)\n",
    "    except:\n",
    "        val = idf['Venue__c'][ind]\n",
    "    sf_df_match['Venue__c'][ind] = val\n",
    "\n",
    "print(sf_df_match.head(5))"
   ]
  },
  {
   "cell_type": "code",
   "execution_count": 24,
   "metadata": {},
   "outputs": [
    {
     "data": {
      "text/html": [
       "<div>\n",
       "<style scoped>\n",
       "    .dataframe tbody tr th:only-of-type {\n",
       "        vertical-align: middle;\n",
       "    }\n",
       "\n",
       "    .dataframe tbody tr th {\n",
       "        vertical-align: top;\n",
       "    }\n",
       "\n",
       "    .dataframe thead th {\n",
       "        text-align: right;\n",
       "    }\n",
       "</style>\n",
       "<table border=\"1\" class=\"dataframe\">\n",
       "  <thead>\n",
       "    <tr style=\"text-align: right;\">\n",
       "      <th></th>\n",
       "      <th>Email</th>\n",
       "      <th>Venue__c</th>\n",
       "      <th>nanoHUB_user_ID__c</th>\n",
       "    </tr>\n",
       "  </thead>\n",
       "  <tbody>\n",
       "    <tr>\n",
       "      <th>0</th>\n",
       "      <td>stroscio@uic.edu</td>\n",
       "      <td>ABACUS</td>\n",
       "      <td>71464.0</td>\n",
       "    </tr>\n",
       "    <tr>\n",
       "      <th>1</th>\n",
       "      <td>skoester@umn.edu</td>\n",
       "      <td>ABACUS</td>\n",
       "      <td>48899.0</td>\n",
       "    </tr>\n",
       "    <tr>\n",
       "      <th>2</th>\n",
       "      <td>tlow@umn.edu</td>\n",
       "      <td>ABACUS</td>\n",
       "      <td>292578.0</td>\n",
       "    </tr>\n",
       "    <tr>\n",
       "      <th>3</th>\n",
       "      <td>stadler@umn.edu</td>\n",
       "      <td>ABACUS</td>\n",
       "      <td>76666.0</td>\n",
       "    </tr>\n",
       "    <tr>\n",
       "      <th>4</th>\n",
       "      <td>sswisher@umn.edu</td>\n",
       "      <td>ABACUS</td>\n",
       "      <td>166194.0</td>\n",
       "    </tr>\n",
       "  </tbody>\n",
       "</table>\n",
       "</div>"
      ],
      "text/plain": [
       "              Email Venue__c  nanoHUB_user_ID__c\n",
       "0  stroscio@uic.edu   ABACUS             71464.0\n",
       "1  skoester@umn.edu   ABACUS             48899.0\n",
       "2      tlow@umn.edu   ABACUS            292578.0\n",
       "3   stadler@umn.edu   ABACUS             76666.0\n",
       "4  sswisher@umn.edu   ABACUS            166194.0"
      ]
     },
     "metadata": {},
     "output_type": "display_data"
    }
   ],
   "source": [
    "## delete duplicates\n",
    "venues = sf_df_match['Venue__c'].to_list()\n",
    "for ind,val in enumerate(venues):\n",
    "    venues[ind]=';'.join(list(dict.fromkeys(val.split(';'))))\n",
    "sf_df_match['Venue__c'] = venues\n",
    "display(sf_df_match.head(5))"
   ]
  },
  {
   "cell_type": "raw",
   "metadata": {},
   "source": [
    "venues = sf_df_match['Venue__c'].to_list()\n",
    "for ind,val in enumerate(venues):\n",
    "    temp =list(dict.fromkeys(val.split(';')))\n",
    "    del(temp[temp.index('MSE SWS 2020 - O')])\n",
    "    venues[ind] = ';'.join(temp)\n",
    "print(venues)\n",
    "sf_df_match['Venue__c'] = venues"
   ]
  },
  {
   "cell_type": "code",
   "execution_count": 25,
   "metadata": {},
   "outputs": [],
   "source": [
    "## encoding correction for dashes\n",
    "venues = sf_df_match['Venue__c'].apply(lambda x: x.replace('â\\x80\\x93','-'))\n",
    "sf_df_match['Venue__c'] = venues"
   ]
  },
  {
   "cell_type": "code",
   "execution_count": 26,
   "metadata": {},
   "outputs": [
    {
     "data": {
      "text/html": [
       "<div>\n",
       "<style scoped>\n",
       "    .dataframe tbody tr th:only-of-type {\n",
       "        vertical-align: middle;\n",
       "    }\n",
       "\n",
       "    .dataframe tbody tr th {\n",
       "        vertical-align: top;\n",
       "    }\n",
       "\n",
       "    .dataframe thead th {\n",
       "        text-align: right;\n",
       "    }\n",
       "</style>\n",
       "<table border=\"1\" class=\"dataframe\">\n",
       "  <thead>\n",
       "    <tr style=\"text-align: right;\">\n",
       "      <th></th>\n",
       "      <th>Email</th>\n",
       "      <th>Venue__c</th>\n",
       "      <th>nanoHUB_user_ID__c</th>\n",
       "    </tr>\n",
       "  </thead>\n",
       "  <tbody>\n",
       "    <tr>\n",
       "      <th>0</th>\n",
       "      <td>stroscio@uic.edu</td>\n",
       "      <td>ABACUS</td>\n",
       "      <td>71464.0</td>\n",
       "    </tr>\n",
       "    <tr>\n",
       "      <th>1</th>\n",
       "      <td>skoester@umn.edu</td>\n",
       "      <td>ABACUS</td>\n",
       "      <td>48899.0</td>\n",
       "    </tr>\n",
       "    <tr>\n",
       "      <th>2</th>\n",
       "      <td>tlow@umn.edu</td>\n",
       "      <td>ABACUS</td>\n",
       "      <td>292578.0</td>\n",
       "    </tr>\n",
       "    <tr>\n",
       "      <th>3</th>\n",
       "      <td>stadler@umn.edu</td>\n",
       "      <td>ABACUS</td>\n",
       "      <td>76666.0</td>\n",
       "    </tr>\n",
       "    <tr>\n",
       "      <th>4</th>\n",
       "      <td>sswisher@umn.edu</td>\n",
       "      <td>ABACUS</td>\n",
       "      <td>166194.0</td>\n",
       "    </tr>\n",
       "  </tbody>\n",
       "</table>\n",
       "</div>"
      ],
      "text/plain": [
       "              Email Venue__c  nanoHUB_user_ID__c\n",
       "0  stroscio@uic.edu   ABACUS             71464.0\n",
       "1  skoester@umn.edu   ABACUS             48899.0\n",
       "2      tlow@umn.edu   ABACUS            292578.0\n",
       "3   stadler@umn.edu   ABACUS             76666.0\n",
       "4  sswisher@umn.edu   ABACUS            166194.0"
      ]
     },
     "metadata": {},
     "output_type": "display_data"
    }
   ],
   "source": [
    "sf_df_match = sf_df_match.drop_duplicates()\n",
    "display(sf_df_match.head(5))"
   ]
  },
  {
   "cell_type": "code",
   "execution_count": 33,
   "metadata": {},
   "outputs": [
    {
     "data": {
      "text/html": [
       "<div>\n",
       "<style scoped>\n",
       "    .dataframe tbody tr th:only-of-type {\n",
       "        vertical-align: middle;\n",
       "    }\n",
       "\n",
       "    .dataframe tbody tr th {\n",
       "        vertical-align: top;\n",
       "    }\n",
       "\n",
       "    .dataframe thead th {\n",
       "        text-align: right;\n",
       "    }\n",
       "</style>\n",
       "<table border=\"1\" class=\"dataframe\">\n",
       "  <thead>\n",
       "    <tr style=\"text-align: right;\">\n",
       "      <th></th>\n",
       "      <th>Email</th>\n",
       "      <th>Venue__c</th>\n",
       "      <th>nanoHUB_user_ID__c</th>\n",
       "    </tr>\n",
       "  </thead>\n",
       "  <tbody>\n",
       "    <tr>\n",
       "      <th>0</th>\n",
       "      <td>stroscio@uic.edu</td>\n",
       "      <td>ABACUS</td>\n",
       "      <td>71464.0</td>\n",
       "    </tr>\n",
       "    <tr>\n",
       "      <th>1</th>\n",
       "      <td>skoester@umn.edu</td>\n",
       "      <td>ABACUS</td>\n",
       "      <td>48899.0</td>\n",
       "    </tr>\n",
       "    <tr>\n",
       "      <th>2</th>\n",
       "      <td>tlow@umn.edu</td>\n",
       "      <td>ABACUS</td>\n",
       "      <td>292578.0</td>\n",
       "    </tr>\n",
       "    <tr>\n",
       "      <th>3</th>\n",
       "      <td>stadler@umn.edu</td>\n",
       "      <td>ABACUS</td>\n",
       "      <td>76666.0</td>\n",
       "    </tr>\n",
       "    <tr>\n",
       "      <th>4</th>\n",
       "      <td>sswisher@umn.edu</td>\n",
       "      <td>ABACUS</td>\n",
       "      <td>166194.0</td>\n",
       "    </tr>\n",
       "    <tr>\n",
       "      <th>5</th>\n",
       "      <td>danielkm@umd.edu</td>\n",
       "      <td>MSE SWS 2020 - A;Citrine Material Science Work...</td>\n",
       "      <td>296451.0</td>\n",
       "    </tr>\n",
       "    <tr>\n",
       "      <th>6</th>\n",
       "      <td>ltrombetta@uh.edu</td>\n",
       "      <td>ABACUS</td>\n",
       "      <td>11503.0</td>\n",
       "    </tr>\n",
       "    <tr>\n",
       "      <th>7</th>\n",
       "      <td>sergey.a.nikishin@ttu.edu</td>\n",
       "      <td>ABACUS</td>\n",
       "      <td>30301.0</td>\n",
       "    </tr>\n",
       "    <tr>\n",
       "      <th>8</th>\n",
       "      <td>drhodges@utep.edu</td>\n",
       "      <td>ABACUS</td>\n",
       "      <td>52294.0</td>\n",
       "    </tr>\n",
       "    <tr>\n",
       "      <th>9</th>\n",
       "      <td>dzubia@utep.edu</td>\n",
       "      <td>ABACUS</td>\n",
       "      <td>22314.0</td>\n",
       "    </tr>\n",
       "    <tr>\n",
       "      <th>10</th>\n",
       "      <td>pejcinb@pdx.edu</td>\n",
       "      <td>ABACUS</td>\n",
       "      <td>25054.0</td>\n",
       "    </tr>\n",
       "    <tr>\n",
       "      <th>11</th>\n",
       "      <td>chiyui.ahn@utsa.edu</td>\n",
       "      <td>Citrine Material Science Workshop - S;ABACUS</td>\n",
       "      <td>54443.0</td>\n",
       "    </tr>\n",
       "    <tr>\n",
       "      <th>12</th>\n",
       "      <td>hiuyung.wong@sjsu.edu</td>\n",
       "      <td>ABACUS</td>\n",
       "      <td>4834.0</td>\n",
       "    </tr>\n",
       "    <tr>\n",
       "      <th>13</th>\n",
       "      <td>dfeezell@unm.edu</td>\n",
       "      <td>ABACUS</td>\n",
       "      <td>106324.0</td>\n",
       "    </tr>\n",
       "    <tr>\n",
       "      <th>14</th>\n",
       "      <td>kaustav@ece.ucsb.edu</td>\n",
       "      <td>ABACUS</td>\n",
       "      <td>124212.0</td>\n",
       "    </tr>\n",
       "    <tr>\n",
       "      <th>15</th>\n",
       "      <td>rodwell@ece.ucsb.edu</td>\n",
       "      <td>ABACUS</td>\n",
       "      <td>37022.0</td>\n",
       "    </tr>\n",
       "    <tr>\n",
       "      <th>16</th>\n",
       "      <td>rkhoie@pacific.edu</td>\n",
       "      <td>ABACUS</td>\n",
       "      <td>209812.0</td>\n",
       "    </tr>\n",
       "    <tr>\n",
       "      <th>17</th>\n",
       "      <td>dmueller@pacific.edu</td>\n",
       "      <td>Citrine Material Science Workshop - S;ABACUS</td>\n",
       "      <td>130961.0</td>\n",
       "    </tr>\n",
       "    <tr>\n",
       "      <th>18</th>\n",
       "      <td>joattia@pvamu.edu</td>\n",
       "      <td>ABACUS</td>\n",
       "      <td>39452.0</td>\n",
       "    </tr>\n",
       "    <tr>\n",
       "      <th>19</th>\n",
       "      <td>hasina.huq@utrgv.edu</td>\n",
       "      <td>ABACUS</td>\n",
       "      <td>NaN</td>\n",
       "    </tr>\n",
       "    <tr>\n",
       "      <th>20</th>\n",
       "      <td>ljiang@tuskegee.edu</td>\n",
       "      <td>MSE Delivra Engagement;MSE SWS 2020 - S;Citrin...</td>\n",
       "      <td>284130.0</td>\n",
       "    </tr>\n",
       "    <tr>\n",
       "      <th>21</th>\n",
       "      <td>sakbar@vsu.edu</td>\n",
       "      <td>ABACUS</td>\n",
       "      <td>66027.0</td>\n",
       "    </tr>\n",
       "    <tr>\n",
       "      <th>22</th>\n",
       "      <td>mleonard@clcillinois.edu</td>\n",
       "      <td>ABACUS</td>\n",
       "      <td>38411.0</td>\n",
       "    </tr>\n",
       "    <tr>\n",
       "      <th>23</th>\n",
       "      <td>maminian@stmarytx.edu</td>\n",
       "      <td>ABACUS</td>\n",
       "      <td>33702.0</td>\n",
       "    </tr>\n",
       "    <tr>\n",
       "      <th>24</th>\n",
       "      <td>aumantsev@uncfsu.edu</td>\n",
       "      <td>MSE SWS 2020 - A;Citrine Material Science Work...</td>\n",
       "      <td>64191.0</td>\n",
       "    </tr>\n",
       "    <tr>\n",
       "      <th>25</th>\n",
       "      <td>nobby@soe.ucsc.edu</td>\n",
       "      <td>ABACUS</td>\n",
       "      <td>126115.0</td>\n",
       "    </tr>\n",
       "  </tbody>\n",
       "</table>\n",
       "</div>"
      ],
      "text/plain": [
       "                        Email  \\\n",
       "0            stroscio@uic.edu   \n",
       "1            skoester@umn.edu   \n",
       "2                tlow@umn.edu   \n",
       "3             stadler@umn.edu   \n",
       "4            sswisher@umn.edu   \n",
       "5            danielkm@umd.edu   \n",
       "6           ltrombetta@uh.edu   \n",
       "7   sergey.a.nikishin@ttu.edu   \n",
       "8           drhodges@utep.edu   \n",
       "9             dzubia@utep.edu   \n",
       "10            pejcinb@pdx.edu   \n",
       "11        chiyui.ahn@utsa.edu   \n",
       "12      hiuyung.wong@sjsu.edu   \n",
       "13           dfeezell@unm.edu   \n",
       "14       kaustav@ece.ucsb.edu   \n",
       "15       rodwell@ece.ucsb.edu   \n",
       "16         rkhoie@pacific.edu   \n",
       "17       dmueller@pacific.edu   \n",
       "18          joattia@pvamu.edu   \n",
       "19       hasina.huq@utrgv.edu   \n",
       "20        ljiang@tuskegee.edu   \n",
       "21             sakbar@vsu.edu   \n",
       "22   mleonard@clcillinois.edu   \n",
       "23      maminian@stmarytx.edu   \n",
       "24       aumantsev@uncfsu.edu   \n",
       "25         nobby@soe.ucsc.edu   \n",
       "\n",
       "                                             Venue__c  nanoHUB_user_ID__c  \n",
       "0                                              ABACUS             71464.0  \n",
       "1                                              ABACUS             48899.0  \n",
       "2                                              ABACUS            292578.0  \n",
       "3                                              ABACUS             76666.0  \n",
       "4                                              ABACUS            166194.0  \n",
       "5   MSE SWS 2020 - A;Citrine Material Science Work...            296451.0  \n",
       "6                                              ABACUS             11503.0  \n",
       "7                                              ABACUS             30301.0  \n",
       "8                                              ABACUS             52294.0  \n",
       "9                                              ABACUS             22314.0  \n",
       "10                                             ABACUS             25054.0  \n",
       "11       Citrine Material Science Workshop - S;ABACUS             54443.0  \n",
       "12                                             ABACUS              4834.0  \n",
       "13                                             ABACUS            106324.0  \n",
       "14                                             ABACUS            124212.0  \n",
       "15                                             ABACUS             37022.0  \n",
       "16                                             ABACUS            209812.0  \n",
       "17       Citrine Material Science Workshop - S;ABACUS            130961.0  \n",
       "18                                             ABACUS             39452.0  \n",
       "19                                             ABACUS                 NaN  \n",
       "20  MSE Delivra Engagement;MSE SWS 2020 - S;Citrin...            284130.0  \n",
       "21                                             ABACUS             66027.0  \n",
       "22                                             ABACUS             38411.0  \n",
       "23                                             ABACUS             33702.0  \n",
       "24  MSE SWS 2020 - A;Citrine Material Science Work...             64191.0  \n",
       "25                                             ABACUS            126115.0  "
      ]
     },
     "metadata": {},
     "output_type": "display_data"
    }
   ],
   "source": [
    "display(sf_df_match)"
   ]
  },
  {
   "cell_type": "code",
   "execution_count": 27,
   "metadata": {},
   "outputs": [
    {
     "name": "stdout",
     "output_type": "stream",
     "text": [
      "(26, 3)\n"
     ]
    }
   ],
   "source": [
    "print(sf_df_match.shape)"
   ]
  },
  {
   "cell_type": "raw",
   "metadata": {},
   "source": [
    "## hacks\n",
    "sf_df_match.iloc[19,-1] = 39338\n",
    "display(sf_df_match)"
   ]
  },
  {
   "cell_type": "code",
   "execution_count": null,
   "metadata": {},
   "outputs": [],
   "source": []
  },
  {
   "cell_type": "markdown",
   "metadata": {},
   "source": [
    "## Begin upsert to SF"
   ]
  },
  {
   "cell_type": "code",
   "execution_count": 37,
   "metadata": {},
   "outputs": [
    {
     "name": "stdout",
     "output_type": "stream",
     "text": [
      "Obtained Salesforce access token ...... True\n",
      "[Success] Bulk job creation successful. Job ID = 7505w00000ShI38AAF\n",
      "[Success] CSV upload successful. Job ID = 7505w00000ShI38AAF\n",
      "[Success] Closing job successful. Job ID = 7505w00000ShI38AAF\n"
     ]
    }
   ],
   "source": [
    "# rebuild api object\n",
    "db_s_c = DB2SalesforceAPI(sf_login_params)\n",
    "\n",
    "# send data to SF\n",
    "db_s_c.object_id = 'Contact'\n",
    "db_s_c.external_id = 'nanoHUB_user_ID__c'\n",
    "\n",
    "db_s_c.send_data(sf_df_match)"
   ]
  },
  {
   "cell_type": "code",
   "execution_count": 38,
   "metadata": {},
   "outputs": [
    {
     "data": {
      "text/plain": [
       "{'id': '7505w00000ShI38AAF',\n",
       " 'operation': 'upsert',\n",
       " 'object': 'Contact',\n",
       " 'createdById': '0055w00000DM5bOAAT',\n",
       " 'createdDate': '2020-12-10T16:18:43.000+0000',\n",
       " 'systemModstamp': '2020-12-10T16:18:45.000+0000',\n",
       " 'state': 'InProgress',\n",
       " 'externalIdFieldName': 'nanoHUB_user_ID__c',\n",
       " 'concurrencyMode': 'Parallel',\n",
       " 'contentType': 'CSV',\n",
       " 'apiVersion': 47.0,\n",
       " 'jobType': 'V2Ingest',\n",
       " 'lineEnding': 'LF',\n",
       " 'columnDelimiter': 'COMMA',\n",
       " 'numberRecordsProcessed': 0,\n",
       " 'numberRecordsFailed': 0,\n",
       " 'retries': 0,\n",
       " 'totalProcessingTime': 0,\n",
       " 'apiActiveProcessingTime': 0,\n",
       " 'apexProcessingTime': 0}"
      ]
     },
     "execution_count": 38,
     "metadata": {},
     "output_type": "execute_result"
    }
   ],
   "source": [
    "# check status\n",
    "db_s_c.check_bulk_status()"
   ]
  },
  {
   "cell_type": "code",
   "execution_count": 39,
   "metadata": {},
   "outputs": [
    {
     "name": "stdout",
     "output_type": "stream",
     "text": [
      "''\n"
     ]
    }
   ],
   "source": [
    "from pprint import pprint\n",
    "\n",
    "pprint(db_s_c.check_bulk_failed_results())"
   ]
  },
  {
   "cell_type": "markdown",
   "metadata": {},
   "source": [
    "### Upsert Leads with new entries"
   ]
  },
  {
   "cell_type": "code",
   "execution_count": 40,
   "metadata": {},
   "outputs": [
    {
     "name": "stdout",
     "output_type": "stream",
     "text": [
      "Obtained Salesforce access token ...... True\n",
      "[Success] Bulk job creation successful. Job ID = 7505w00000ShIT9AAN\n",
      "{\"id\":\"7505w00000ShIT9AAN\",\"operation\":\"query\",\"object\":\"Lead\",\"createdById\":\"0055w00000DM5bOAAT\",\"createdDate\":\"2020-12-10T16:18:54.000+0000\",\"systemModstamp\":\"2020-12-10T16:18:54.000+0000\",\"state\":\"InProgress\",\"concurrencyMode\":\"Parallel\",\"contentType\":\"CSV\",\"apiVersion\":47.0,\"jobType\":\"V2Query\",\"lineEnding\":\"LF\",\"columnDelimiter\":\"COMMA\",\"numberRecordsProcessed\":0,\"retries\":0,\"totalProcessingTime\":0}\n",
      "{\"id\":\"7505w00000ShIT9AAN\",\"operation\":\"query\",\"object\":\"Lead\",\"createdById\":\"0055w00000DM5bOAAT\",\"createdDate\":\"2020-12-10T16:18:54.000+0000\",\"systemModstamp\":\"2020-12-10T16:18:59.000+0000\",\"state\":\"JobComplete\",\"concurrencyMode\":\"Parallel\",\"contentType\":\"CSV\",\"apiVersion\":47.0,\"jobType\":\"V2Query\",\"lineEnding\":\"LF\",\"columnDelimiter\":\"COMMA\",\"numberRecordsProcessed\":6979,\"retries\":0,\"totalProcessingTime\":1047}\n",
      "[Success] Bulk job completed successfully.\n"
     ]
    }
   ],
   "source": [
    "#pull all current leads\n",
    "db_s = DB2SalesforceAPI(sf_login_params)\n",
    "sf_df = db_s.query_data('SELECT Email, Venue__c, SF_indexer__c FROM Lead')"
   ]
  },
  {
   "cell_type": "code",
   "execution_count": 41,
   "metadata": {},
   "outputs": [],
   "source": [
    "# find the max sf_indexer\n",
    "indexers = sf_df['SF_indexer__c'].fillna(0).to_list()\n",
    "max_ind = max(indexers)"
   ]
  },
  {
   "cell_type": "code",
   "execution_count": 42,
   "metadata": {},
   "outputs": [],
   "source": [
    "# find all existing leads\n",
    "sf_emails = sf_df['Email'].to_list()\n",
    "m_rows = []\n",
    "nm_rows = [] #don't need sf no match rows\n",
    "sf_mrows = []"
   ]
  },
  {
   "cell_type": "code",
   "execution_count": 43,
   "metadata": {},
   "outputs": [],
   "source": [
    "for ind,val in enumerate(lead_df['Email'].to_list()):\n",
    "    if val in sf_emails:\n",
    "        m_rows.append(ind)\n",
    "        sf_mrows.append(sf_emails.index(val))\n",
    "    else:\n",
    "        nm_rows.append(ind)"
   ]
  },
  {
   "cell_type": "code",
   "execution_count": 44,
   "metadata": {},
   "outputs": [],
   "source": [
    "# filter the matches\n",
    "sf_df_match = sf_df.iloc[sf_mrows,:].reset_index().iloc[:,1:]\n",
    "join_idf = lead_df.iloc[m_rows,:].reset_index().iloc[:,1:]\n",
    "new_idf = lead_df.iloc[nm_rows,:].reset_index().iloc[:,1:]"
   ]
  },
  {
   "cell_type": "code",
   "execution_count": 45,
   "metadata": {},
   "outputs": [
    {
     "name": "stdout",
     "output_type": "stream",
     "text": [
      "             Email  SF_indexer__c Venue__c\n",
      "0  lucyshi@uic.edu         1023.0      NaN\n",
      "1     jcho@umn.edu          931.0      NaN\n",
      "             Email   firstname lastname Venue__c\n",
      "0  lucyshi@uic.edu     J. Lucy      Shi   ABACUS\n",
      "1     jcho@umn.edu  Jeong-Hyun      Cho   ABACUS\n"
     ]
    }
   ],
   "source": [
    "print(sf_df_match.head(2))\n",
    "print(join_idf.head(2))"
   ]
  },
  {
   "cell_type": "code",
   "execution_count": 46,
   "metadata": {},
   "outputs": [
    {
     "name": "stdout",
     "output_type": "stream",
     "text": [
      "              Email  SF_indexer__c                 Venue__c\n",
      "0   lucyshi@uic.edu         1023.0                   ABACUS\n",
      "1      jcho@umn.edu          931.0                   ABACUS\n",
      "2  higma001@umn.edu         1089.0                   ABACUS\n",
      "3  vlassovy@fiu.edu         2472.0  MSE SWS 2020 - S;ABACUS\n",
      "4      neil@umd.edu         2491.0  MSE SWS 2020 - S;ABACUS\n"
     ]
    },
    {
     "name": "stderr",
     "output_type": "stream",
     "text": [
      "C:\\Users\\henry\\Anaconda3\\envs\\tf\\lib\\site-packages\\ipykernel_launcher.py:13: SettingWithCopyWarning: \n",
      "A value is trying to be set on a copy of a slice from a DataFrame\n",
      "\n",
      "See the caveats in the documentation: http://pandas.pydata.org/pandas-docs/stable/user_guide/indexing.html#returning-a-view-versus-a-copy\n",
      "  del sys.path[0]\n"
     ]
    }
   ],
   "source": [
    "# linear join since the sequence is matching\n",
    "for ind,val in enumerate(sf_df_match['Venue__c']):\n",
    "    try:\n",
    "        val = val.split(';')\n",
    "        #if 'MSE Summer Webinar Series 2020' in val:\n",
    "        #    val.remove('MSE Summer Webinar Series 2020')\n",
    "        #    if 'MSE Summer Webinar Series 2020' in val:\n",
    "        #        val.remove('MSE Summer Webinar Series 2020')\n",
    "        val.append(join_idf['Venue__c'][ind])\n",
    "        val = ';'.join(val)\n",
    "    except:\n",
    "        val = join_idf['Venue__c'][ind]\n",
    "    sf_df_match['Venue__c'][ind] = val    \n",
    "\n",
    "print(sf_df_match.head(5))"
   ]
  },
  {
   "cell_type": "code",
   "execution_count": 47,
   "metadata": {},
   "outputs": [
    {
     "data": {
      "text/html": [
       "<div>\n",
       "<style scoped>\n",
       "    .dataframe tbody tr th:only-of-type {\n",
       "        vertical-align: middle;\n",
       "    }\n",
       "\n",
       "    .dataframe tbody tr th {\n",
       "        vertical-align: top;\n",
       "    }\n",
       "\n",
       "    .dataframe thead th {\n",
       "        text-align: right;\n",
       "    }\n",
       "</style>\n",
       "<table border=\"1\" class=\"dataframe\">\n",
       "  <thead>\n",
       "    <tr style=\"text-align: right;\">\n",
       "      <th></th>\n",
       "      <th>Email</th>\n",
       "      <th>SF_indexer__c</th>\n",
       "      <th>Venue__c</th>\n",
       "    </tr>\n",
       "  </thead>\n",
       "  <tbody>\n",
       "    <tr>\n",
       "      <th>0</th>\n",
       "      <td>lucyshi@uic.edu</td>\n",
       "      <td>1023.0</td>\n",
       "      <td>ABACUS</td>\n",
       "    </tr>\n",
       "    <tr>\n",
       "      <th>1</th>\n",
       "      <td>jcho@umn.edu</td>\n",
       "      <td>931.0</td>\n",
       "      <td>ABACUS</td>\n",
       "    </tr>\n",
       "    <tr>\n",
       "      <th>2</th>\n",
       "      <td>higma001@umn.edu</td>\n",
       "      <td>1089.0</td>\n",
       "      <td>ABACUS</td>\n",
       "    </tr>\n",
       "    <tr>\n",
       "      <th>3</th>\n",
       "      <td>vlassovy@fiu.edu</td>\n",
       "      <td>2472.0</td>\n",
       "      <td>MSE SWS 2020 - S;ABACUS</td>\n",
       "    </tr>\n",
       "    <tr>\n",
       "      <th>4</th>\n",
       "      <td>neil@umd.edu</td>\n",
       "      <td>2491.0</td>\n",
       "      <td>MSE SWS 2020 - S;ABACUS</td>\n",
       "    </tr>\n",
       "  </tbody>\n",
       "</table>\n",
       "</div>"
      ],
      "text/plain": [
       "              Email  SF_indexer__c                 Venue__c\n",
       "0   lucyshi@uic.edu         1023.0                   ABACUS\n",
       "1      jcho@umn.edu          931.0                   ABACUS\n",
       "2  higma001@umn.edu         1089.0                   ABACUS\n",
       "3  vlassovy@fiu.edu         2472.0  MSE SWS 2020 - S;ABACUS\n",
       "4      neil@umd.edu         2491.0  MSE SWS 2020 - S;ABACUS"
      ]
     },
     "metadata": {},
     "output_type": "display_data"
    }
   ],
   "source": [
    "## delete duplicates\n",
    "venues = sf_df_match['Venue__c'].to_list()\n",
    "for ind,val in enumerate(venues):\n",
    "    venues[ind] = ';'.join(list(dict.fromkeys(val.split(';'))))\n",
    "sf_df_match['Venue__c'] = venues\n",
    "display(sf_df_match.head(5))"
   ]
  },
  {
   "cell_type": "code",
   "execution_count": 48,
   "metadata": {},
   "outputs": [],
   "source": [
    "# assign new SF_indexers for the new leads\n",
    "new_max_ind = int(max_ind+new_idf.shape[0])\n",
    "# print(new_idf.shape)\n",
    "# print(max_ind)\n",
    "# print(new_max_ind)\n",
    "new_idf['SF_indexer__c'] = range(int(max_ind)+1,new_max_ind+1)"
   ]
  },
  {
   "cell_type": "code",
   "execution_count": 49,
   "metadata": {},
   "outputs": [],
   "source": [
    "# need non-empty company field\n",
    "new_idf['Company'] = '-'"
   ]
  },
  {
   "cell_type": "code",
   "execution_count": 50,
   "metadata": {},
   "outputs": [
    {
     "data": {
      "text/html": [
       "<div>\n",
       "<style scoped>\n",
       "    .dataframe tbody tr th:only-of-type {\n",
       "        vertical-align: middle;\n",
       "    }\n",
       "\n",
       "    .dataframe tbody tr th {\n",
       "        vertical-align: top;\n",
       "    }\n",
       "\n",
       "    .dataframe thead th {\n",
       "        text-align: right;\n",
       "    }\n",
       "</style>\n",
       "<table border=\"1\" class=\"dataframe\">\n",
       "  <thead>\n",
       "    <tr style=\"text-align: right;\">\n",
       "      <th></th>\n",
       "      <th>Email</th>\n",
       "      <th>firstname</th>\n",
       "      <th>lastname</th>\n",
       "      <th>Venue__c</th>\n",
       "      <th>SF_indexer__c</th>\n",
       "      <th>Company</th>\n",
       "    </tr>\n",
       "  </thead>\n",
       "  <tbody>\n",
       "    <tr>\n",
       "      <th>0</th>\n",
       "      <td>mazumder@uic.edu</td>\n",
       "      <td>Sudip K.</td>\n",
       "      <td>Mazumder</td>\n",
       "      <td>ABACUS</td>\n",
       "      <td>2513</td>\n",
       "      <td>-</td>\n",
       "    </tr>\n",
       "    <tr>\n",
       "      <th>1</th>\n",
       "      <td>cclee@uci.edu</td>\n",
       "      <td>Chin</td>\n",
       "      <td>Lee</td>\n",
       "      <td>ABACUS</td>\n",
       "      <td>2514</td>\n",
       "      <td>-</td>\n",
       "    </tr>\n",
       "    <tr>\n",
       "      <th>2</th>\n",
       "      <td>hplee@uci.edu</td>\n",
       "      <td>Henry</td>\n",
       "      <td>Lee</td>\n",
       "      <td>ABACUS</td>\n",
       "      <td>2515</td>\n",
       "      <td>-</td>\n",
       "    </tr>\n",
       "    <tr>\n",
       "      <th>3</th>\n",
       "      <td>ramirtha@ucdavis.edu</td>\n",
       "      <td>Rajeevan</td>\n",
       "      <td>Amirtharajah</td>\n",
       "      <td>ABACUS</td>\n",
       "      <td>2516</td>\n",
       "      <td>-</td>\n",
       "    </tr>\n",
       "    <tr>\n",
       "      <th>4</th>\n",
       "      <td>rick.branner@gmail.com</td>\n",
       "      <td>G. Rick</td>\n",
       "      <td>Branner</td>\n",
       "      <td>ABACUS</td>\n",
       "      <td>2517</td>\n",
       "      <td>-</td>\n",
       "    </tr>\n",
       "  </tbody>\n",
       "</table>\n",
       "</div>"
      ],
      "text/plain": [
       "                    Email firstname      lastname Venue__c  SF_indexer__c  \\\n",
       "0        mazumder@uic.edu  Sudip K.      Mazumder   ABACUS           2513   \n",
       "1           cclee@uci.edu      Chin           Lee   ABACUS           2514   \n",
       "2           hplee@uci.edu     Henry           Lee   ABACUS           2515   \n",
       "3    ramirtha@ucdavis.edu  Rajeevan  Amirtharajah   ABACUS           2516   \n",
       "4  rick.branner@gmail.com   G. Rick       Branner   ABACUS           2517   \n",
       "\n",
       "  Company  \n",
       "0       -  \n",
       "1       -  \n",
       "2       -  \n",
       "3       -  \n",
       "4       -  "
      ]
     },
     "execution_count": 50,
     "metadata": {},
     "output_type": "execute_result"
    }
   ],
   "source": [
    "new_idf.head(5)"
   ]
  },
  {
   "cell_type": "code",
   "execution_count": 51,
   "metadata": {},
   "outputs": [
    {
     "data": {
      "text/html": [
       "<div>\n",
       "<style scoped>\n",
       "    .dataframe tbody tr th:only-of-type {\n",
       "        vertical-align: middle;\n",
       "    }\n",
       "\n",
       "    .dataframe tbody tr th {\n",
       "        vertical-align: top;\n",
       "    }\n",
       "\n",
       "    .dataframe thead th {\n",
       "        text-align: right;\n",
       "    }\n",
       "</style>\n",
       "<table border=\"1\" class=\"dataframe\">\n",
       "  <thead>\n",
       "    <tr style=\"text-align: right;\">\n",
       "      <th></th>\n",
       "      <th>Email</th>\n",
       "      <th>SF_indexer__c</th>\n",
       "      <th>Venue__c</th>\n",
       "    </tr>\n",
       "  </thead>\n",
       "  <tbody>\n",
       "    <tr>\n",
       "      <th>0</th>\n",
       "      <td>lucyshi@uic.edu</td>\n",
       "      <td>1023.0</td>\n",
       "      <td>ABACUS</td>\n",
       "    </tr>\n",
       "    <tr>\n",
       "      <th>1</th>\n",
       "      <td>jcho@umn.edu</td>\n",
       "      <td>931.0</td>\n",
       "      <td>ABACUS</td>\n",
       "    </tr>\n",
       "    <tr>\n",
       "      <th>2</th>\n",
       "      <td>higma001@umn.edu</td>\n",
       "      <td>1089.0</td>\n",
       "      <td>ABACUS</td>\n",
       "    </tr>\n",
       "    <tr>\n",
       "      <th>3</th>\n",
       "      <td>vlassovy@fiu.edu</td>\n",
       "      <td>2472.0</td>\n",
       "      <td>MSE SWS 2020 - S;ABACUS</td>\n",
       "    </tr>\n",
       "    <tr>\n",
       "      <th>4</th>\n",
       "      <td>neil@umd.edu</td>\n",
       "      <td>2491.0</td>\n",
       "      <td>MSE SWS 2020 - S;ABACUS</td>\n",
       "    </tr>\n",
       "    <tr>\n",
       "      <th>5</th>\n",
       "      <td>agis@umd.edu</td>\n",
       "      <td>2488.0</td>\n",
       "      <td>MSE SWS 2020 - S;ABACUS</td>\n",
       "    </tr>\n",
       "    <tr>\n",
       "      <th>6</th>\n",
       "      <td>dcheng@fullerton.edu</td>\n",
       "      <td>1123.0</td>\n",
       "      <td>ABACUS</td>\n",
       "    </tr>\n",
       "    <tr>\n",
       "      <th>7</th>\n",
       "      <td>roger.lake@ucr.edu</td>\n",
       "      <td>2061.0</td>\n",
       "      <td>ABACUS</td>\n",
       "    </tr>\n",
       "    <tr>\n",
       "      <th>8</th>\n",
       "      <td>jianlin.liu@ucr.edu</td>\n",
       "      <td>1906.0</td>\n",
       "      <td>ABACUS</td>\n",
       "    </tr>\n",
       "    <tr>\n",
       "      <th>9</th>\n",
       "      <td>mihri.ozkan@ucr.edu</td>\n",
       "      <td>2047.0</td>\n",
       "      <td>ABACUS</td>\n",
       "    </tr>\n",
       "    <tr>\n",
       "      <th>10</th>\n",
       "      <td>jeske@ece.pdx.edu</td>\n",
       "      <td>2108.0</td>\n",
       "      <td>ABACUS</td>\n",
       "    </tr>\n",
       "    <tr>\n",
       "      <th>11</th>\n",
       "      <td>somnath.chattopadhyay@csun.edu</td>\n",
       "      <td>1105.0</td>\n",
       "      <td>ABACUS</td>\n",
       "    </tr>\n",
       "    <tr>\n",
       "      <th>12</th>\n",
       "      <td>fcavallo@unm.edu</td>\n",
       "      <td>2020.0</td>\n",
       "      <td>ABACUS</td>\n",
       "    </tr>\n",
       "    <tr>\n",
       "      <th>13</th>\n",
       "      <td>bowers@ece.ucsb.edu</td>\n",
       "      <td>1152.0</td>\n",
       "      <td>MSE Delivra Engagement;MSE SWS 2020 - S;ABACUS</td>\n",
       "    </tr>\n",
       "    <tr>\n",
       "      <th>14</th>\n",
       "      <td>denbaars@engineering.ucsb.edu</td>\n",
       "      <td>1315.0</td>\n",
       "      <td>MSE Delivra Engagement;MSE SWS 2020 - S;MSE SW...</td>\n",
       "    </tr>\n",
       "  </tbody>\n",
       "</table>\n",
       "</div>"
      ],
      "text/plain": [
       "                             Email  SF_indexer__c  \\\n",
       "0                  lucyshi@uic.edu         1023.0   \n",
       "1                     jcho@umn.edu          931.0   \n",
       "2                 higma001@umn.edu         1089.0   \n",
       "3                 vlassovy@fiu.edu         2472.0   \n",
       "4                     neil@umd.edu         2491.0   \n",
       "5                     agis@umd.edu         2488.0   \n",
       "6             dcheng@fullerton.edu         1123.0   \n",
       "7               roger.lake@ucr.edu         2061.0   \n",
       "8              jianlin.liu@ucr.edu         1906.0   \n",
       "9              mihri.ozkan@ucr.edu         2047.0   \n",
       "10               jeske@ece.pdx.edu         2108.0   \n",
       "11  somnath.chattopadhyay@csun.edu         1105.0   \n",
       "12                fcavallo@unm.edu         2020.0   \n",
       "13             bowers@ece.ucsb.edu         1152.0   \n",
       "14   denbaars@engineering.ucsb.edu         1315.0   \n",
       "\n",
       "                                             Venue__c  \n",
       "0                                              ABACUS  \n",
       "1                                              ABACUS  \n",
       "2                                              ABACUS  \n",
       "3                             MSE SWS 2020 - S;ABACUS  \n",
       "4                             MSE SWS 2020 - S;ABACUS  \n",
       "5                             MSE SWS 2020 - S;ABACUS  \n",
       "6                                              ABACUS  \n",
       "7                                              ABACUS  \n",
       "8                                              ABACUS  \n",
       "9                                              ABACUS  \n",
       "10                                             ABACUS  \n",
       "11                                             ABACUS  \n",
       "12                                             ABACUS  \n",
       "13     MSE Delivra Engagement;MSE SWS 2020 - S;ABACUS  \n",
       "14  MSE Delivra Engagement;MSE SWS 2020 - S;MSE SW...  "
      ]
     },
     "metadata": {},
     "output_type": "display_data"
    },
    {
     "data": {
      "text/html": [
       "<div>\n",
       "<style scoped>\n",
       "    .dataframe tbody tr th:only-of-type {\n",
       "        vertical-align: middle;\n",
       "    }\n",
       "\n",
       "    .dataframe tbody tr th {\n",
       "        vertical-align: top;\n",
       "    }\n",
       "\n",
       "    .dataframe thead th {\n",
       "        text-align: right;\n",
       "    }\n",
       "</style>\n",
       "<table border=\"1\" class=\"dataframe\">\n",
       "  <thead>\n",
       "    <tr style=\"text-align: right;\">\n",
       "      <th></th>\n",
       "      <th>Email</th>\n",
       "      <th>firstname</th>\n",
       "      <th>lastname</th>\n",
       "      <th>Venue__c</th>\n",
       "      <th>SF_indexer__c</th>\n",
       "      <th>Company</th>\n",
       "    </tr>\n",
       "  </thead>\n",
       "  <tbody>\n",
       "    <tr>\n",
       "      <th>0</th>\n",
       "      <td>mazumder@uic.edu</td>\n",
       "      <td>Sudip K.</td>\n",
       "      <td>Mazumder</td>\n",
       "      <td>ABACUS</td>\n",
       "      <td>2513</td>\n",
       "      <td>-</td>\n",
       "    </tr>\n",
       "    <tr>\n",
       "      <th>1</th>\n",
       "      <td>cclee@uci.edu</td>\n",
       "      <td>Chin</td>\n",
       "      <td>Lee</td>\n",
       "      <td>ABACUS</td>\n",
       "      <td>2514</td>\n",
       "      <td>-</td>\n",
       "    </tr>\n",
       "    <tr>\n",
       "      <th>2</th>\n",
       "      <td>hplee@uci.edu</td>\n",
       "      <td>Henry</td>\n",
       "      <td>Lee</td>\n",
       "      <td>ABACUS</td>\n",
       "      <td>2515</td>\n",
       "      <td>-</td>\n",
       "    </tr>\n",
       "    <tr>\n",
       "      <th>3</th>\n",
       "      <td>ramirtha@ucdavis.edu</td>\n",
       "      <td>Rajeevan</td>\n",
       "      <td>Amirtharajah</td>\n",
       "      <td>ABACUS</td>\n",
       "      <td>2516</td>\n",
       "      <td>-</td>\n",
       "    </tr>\n",
       "    <tr>\n",
       "      <th>4</th>\n",
       "      <td>rick.branner@gmail.com</td>\n",
       "      <td>G. Rick</td>\n",
       "      <td>Branner</td>\n",
       "      <td>ABACUS</td>\n",
       "      <td>2517</td>\n",
       "      <td>-</td>\n",
       "    </tr>\n",
       "    <tr>\n",
       "      <th>5</th>\n",
       "      <td>jsgomez@ucdavis.edu</td>\n",
       "      <td>J. Sebastian</td>\n",
       "      <td>Gomez-Diaz</td>\n",
       "      <td>ABACUS</td>\n",
       "      <td>2518</td>\n",
       "      <td>-</td>\n",
       "    </tr>\n",
       "    <tr>\n",
       "      <th>6</th>\n",
       "      <td>jhihath@ucdavis.edu</td>\n",
       "      <td>Joshua</td>\n",
       "      <td>Hihath</td>\n",
       "      <td>ABACUS</td>\n",
       "      <td>2519</td>\n",
       "      <td>-</td>\n",
       "    </tr>\n",
       "    <tr>\n",
       "      <th>7</th>\n",
       "      <td>hunt@ece.ucdavis.edu</td>\n",
       "      <td>Charles</td>\n",
       "      <td>Hunt</td>\n",
       "      <td>ABACUS</td>\n",
       "      <td>2520</td>\n",
       "      <td>-</td>\n",
       "    </tr>\n",
       "    <tr>\n",
       "      <th>8</th>\n",
       "      <td>sislam@ucdavis.edu</td>\n",
       "      <td>M. Saif</td>\n",
       "      <td>Islam</td>\n",
       "      <td>ABACUS</td>\n",
       "      <td>2521</td>\n",
       "      <td>-</td>\n",
       "    </tr>\n",
       "    <tr>\n",
       "      <th>9</th>\n",
       "      <td>bhkolner@ucdavis.edu</td>\n",
       "      <td>Brian</td>\n",
       "      <td>Kolner</td>\n",
       "      <td>ABACUS</td>\n",
       "      <td>2522</td>\n",
       "      <td>-</td>\n",
       "    </tr>\n",
       "    <tr>\n",
       "      <th>10</th>\n",
       "      <td>jwoodall@ucdavis.edu</td>\n",
       "      <td>Jerry M.</td>\n",
       "      <td>Woodall</td>\n",
       "      <td>ABACUS</td>\n",
       "      <td>2523</td>\n",
       "      <td>-</td>\n",
       "    </tr>\n",
       "    <tr>\n",
       "      <th>11</th>\n",
       "      <td>wejyang@ucdavis.edu</td>\n",
       "      <td>Weijian</td>\n",
       "      <td>Yang</td>\n",
       "      <td>ABACUS</td>\n",
       "      <td>2524</td>\n",
       "      <td>-</td>\n",
       "    </tr>\n",
       "    <tr>\n",
       "      <th>12</th>\n",
       "      <td>dryankelevich@ucdavis.edu</td>\n",
       "      <td>Diego R.</td>\n",
       "      <td>Yankelevich</td>\n",
       "      <td>ABACUS</td>\n",
       "      <td>2525</td>\n",
       "      <td>-</td>\n",
       "    </tr>\n",
       "    <tr>\n",
       "      <th>13</th>\n",
       "      <td>rfrank01@umn.edu</td>\n",
       "      <td>Rhonda</td>\n",
       "      <td>Franklin</td>\n",
       "      <td>ABACUS</td>\n",
       "      <td>2526</td>\n",
       "      <td>-</td>\n",
       "    </tr>\n",
       "    <tr>\n",
       "      <th>14</th>\n",
       "      <td>robbins@umn.edu</td>\n",
       "      <td>William</td>\n",
       "      <td>Robbins</td>\n",
       "      <td>ABACUS</td>\n",
       "      <td>2527</td>\n",
       "      <td>-</td>\n",
       "    </tr>\n",
       "    <tr>\n",
       "      <th>15</th>\n",
       "      <td>Vikram.Kapoor@ucf.edu</td>\n",
       "      <td>Vikram J.</td>\n",
       "      <td>Kapoor</td>\n",
       "      <td>ABACUS</td>\n",
       "      <td>2528</td>\n",
       "      <td>-</td>\n",
       "    </tr>\n",
       "    <tr>\n",
       "      <th>16</th>\n",
       "      <td>Jiann-Shiun.Yuan@ucf.edu</td>\n",
       "      <td>Jiann S.</td>\n",
       "      <td>Yuan</td>\n",
       "      <td>ABACUS</td>\n",
       "      <td>2529</td>\n",
       "      <td>-</td>\n",
       "    </tr>\n",
       "    <tr>\n",
       "      <th>17</th>\n",
       "      <td>jbao@uh.edu</td>\n",
       "      <td>Jiming</td>\n",
       "      <td>Bao</td>\n",
       "      <td>ABACUS</td>\n",
       "      <td>2530</td>\n",
       "      <td>-</td>\n",
       "    </tr>\n",
       "    <tr>\n",
       "      <th>18</th>\n",
       "      <td>spei@uh.edu</td>\n",
       "      <td>Shin-Shem Steven</td>\n",
       "      <td>Pei</td>\n",
       "      <td>ABACUS</td>\n",
       "      <td>2531</td>\n",
       "      <td>-</td>\n",
       "    </tr>\n",
       "    <tr>\n",
       "      <th>19</th>\n",
       "      <td>richard.gale@ttu.edu</td>\n",
       "      <td>Richard</td>\n",
       "      <td>Gale</td>\n",
       "      <td>ABACUS</td>\n",
       "      <td>2532</td>\n",
       "      <td>-</td>\n",
       "    </tr>\n",
       "  </tbody>\n",
       "</table>\n",
       "</div>"
      ],
      "text/plain": [
       "                        Email         firstname      lastname Venue__c  \\\n",
       "0            mazumder@uic.edu          Sudip K.      Mazumder   ABACUS   \n",
       "1               cclee@uci.edu              Chin           Lee   ABACUS   \n",
       "2               hplee@uci.edu             Henry           Lee   ABACUS   \n",
       "3        ramirtha@ucdavis.edu          Rajeevan  Amirtharajah   ABACUS   \n",
       "4      rick.branner@gmail.com           G. Rick       Branner   ABACUS   \n",
       "5         jsgomez@ucdavis.edu      J. Sebastian    Gomez-Diaz   ABACUS   \n",
       "6         jhihath@ucdavis.edu            Joshua        Hihath   ABACUS   \n",
       "7        hunt@ece.ucdavis.edu           Charles          Hunt   ABACUS   \n",
       "8          sislam@ucdavis.edu           M. Saif         Islam   ABACUS   \n",
       "9        bhkolner@ucdavis.edu             Brian        Kolner   ABACUS   \n",
       "10       jwoodall@ucdavis.edu          Jerry M.       Woodall   ABACUS   \n",
       "11        wejyang@ucdavis.edu           Weijian          Yang   ABACUS   \n",
       "12  dryankelevich@ucdavis.edu          Diego R.   Yankelevich   ABACUS   \n",
       "13           rfrank01@umn.edu            Rhonda      Franklin   ABACUS   \n",
       "14            robbins@umn.edu           William       Robbins   ABACUS   \n",
       "15      Vikram.Kapoor@ucf.edu         Vikram J.        Kapoor   ABACUS   \n",
       "16   Jiann-Shiun.Yuan@ucf.edu          Jiann S.          Yuan   ABACUS   \n",
       "17                jbao@uh.edu            Jiming           Bao   ABACUS   \n",
       "18                spei@uh.edu  Shin-Shem Steven           Pei   ABACUS   \n",
       "19       richard.gale@ttu.edu           Richard          Gale   ABACUS   \n",
       "\n",
       "    SF_indexer__c Company  \n",
       "0            2513       -  \n",
       "1            2514       -  \n",
       "2            2515       -  \n",
       "3            2516       -  \n",
       "4            2517       -  \n",
       "5            2518       -  \n",
       "6            2519       -  \n",
       "7            2520       -  \n",
       "8            2521       -  \n",
       "9            2522       -  \n",
       "10           2523       -  \n",
       "11           2524       -  \n",
       "12           2525       -  \n",
       "13           2526       -  \n",
       "14           2527       -  \n",
       "15           2528       -  \n",
       "16           2529       -  \n",
       "17           2530       -  \n",
       "18           2531       -  \n",
       "19           2532       -  "
      ]
     },
     "metadata": {},
     "output_type": "display_data"
    }
   ],
   "source": [
    "# ensure 'â\\x80\\x93' has been replaced\n",
    "sf_df_match['Venue__c'] = sf_df_match['Venue__c'].apply(lambda x: x.replace('â\\x80\\x93','-'))\n",
    "new_idf['Venue__c'] = new_idf['Venue__c'].apply(lambda x: x.replace('â\\x80\\x93','-'))\n",
    "\n",
    "display(sf_df_match.head(20))\n",
    "display(new_idf.head(20))"
   ]
  },
  {
   "cell_type": "raw",
   "metadata": {},
   "source": [
    "## one time thing - finding the names of the people who have no names\n",
    "man_names = pd.read_csv('test_name_inference.csv',encoding=\"cp1252\")\n",
    "display(man_names.head(5))\n",
    "new_idf = man_names.drop(columns = 'Unnamed: 0')\n",
    "display(new_idf.head(5))"
   ]
  },
  {
   "cell_type": "raw",
   "metadata": {},
   "source": [
    "venues = sf_df_match['Venue__c'].to_list()\n",
    "for ind,val in enumerate(venues):\n",
    "    temp =list(dict.fromkeys(val.split(';')))\n",
    "    del(temp[temp.index('MSE SWS 2020 - O)])\n",
    "    venues[ind] = ';'.join(temp)\n",
    "\n",
    "sf_df_match['Venue__c'] = venues"
   ]
  },
  {
   "cell_type": "code",
   "execution_count": 52,
   "metadata": {},
   "outputs": [],
   "source": [
    "#drop duplicate rows\n",
    "sf_df_match = sf_df_match.drop_duplicates()\n",
    "new_idf = new_idf.drop_duplicates()"
   ]
  },
  {
   "cell_type": "code",
   "execution_count": 53,
   "metadata": {},
   "outputs": [
    {
     "name": "stdout",
     "output_type": "stream",
     "text": [
      "Obtained Salesforce access token ...... True\n",
      "[Success] Bulk job creation successful. Job ID = 7505w00000ShITiAAN\n",
      "[Success] CSV upload successful. Job ID = 7505w00000ShITiAAN\n",
      "[Success] Closing job successful. Job ID = 7505w00000ShITiAAN\n"
     ]
    }
   ],
   "source": [
    "#send the matching ones\n",
    "db_s_l1 = DB2SalesforceAPI(sf_login_params)\n",
    "\n",
    "# send data to SF\n",
    "db_s_l1.object_id = 'Lead'\n",
    "db_s_l1.external_id = 'SF_indexer__c'\n",
    "\n",
    "db_s_l1.send_data(sf_df_match)"
   ]
  },
  {
   "cell_type": "code",
   "execution_count": 59,
   "metadata": {},
   "outputs": [
    {
     "data": {
      "text/plain": [
       "{'id': '7505w00000ShITiAAN',\n",
       " 'operation': 'upsert',\n",
       " 'object': 'Lead',\n",
       " 'createdById': '0055w00000DM5bOAAT',\n",
       " 'createdDate': '2020-12-10T16:19:50.000+0000',\n",
       " 'systemModstamp': '2020-12-10T16:19:52.000+0000',\n",
       " 'state': 'JobComplete',\n",
       " 'externalIdFieldName': 'SF_indexer__c',\n",
       " 'concurrencyMode': 'Parallel',\n",
       " 'contentType': 'CSV',\n",
       " 'apiVersion': 47.0,\n",
       " 'jobType': 'V2Ingest',\n",
       " 'lineEnding': 'LF',\n",
       " 'columnDelimiter': 'COMMA',\n",
       " 'numberRecordsProcessed': 15,\n",
       " 'numberRecordsFailed': 0,\n",
       " 'retries': 0,\n",
       " 'totalProcessingTime': 220,\n",
       " 'apiActiveProcessingTime': 158,\n",
       " 'apexProcessingTime': 26}"
      ]
     },
     "execution_count": 59,
     "metadata": {},
     "output_type": "execute_result"
    }
   ],
   "source": [
    "# check status\n",
    "db_s_l1.check_bulk_status()"
   ]
  },
  {
   "cell_type": "code",
   "execution_count": 60,
   "metadata": {},
   "outputs": [
    {
     "name": "stdout",
     "output_type": "stream",
     "text": [
      "'\"sf__Id\",\"sf__Error\",Email,SF_indexer__c,Venue__c\\n'\n"
     ]
    }
   ],
   "source": [
    "from pprint import pprint\n",
    "\n",
    "pprint(db_s_l1.check_bulk_failed_results())"
   ]
  },
  {
   "cell_type": "code",
   "execution_count": 56,
   "metadata": {},
   "outputs": [
    {
     "name": "stdout",
     "output_type": "stream",
     "text": [
      "Obtained Salesforce access token ...... True\n",
      "[Success] Bulk job creation successful. Job ID = 7505w00000ShIU2AAN\n",
      "[Success] CSV upload successful. Job ID = 7505w00000ShIU2AAN\n",
      "[Success] Closing job successful. Job ID = 7505w00000ShIU2AAN\n"
     ]
    }
   ],
   "source": [
    "#send the new ones\n",
    "db_s_l2 = DB2SalesforceAPI(sf_login_params)\n",
    "\n",
    "# send data to SF\n",
    "db_s_l2.object_id = 'Lead'\n",
    "db_s_l2.external_id = 'SF_indexer__c'\n",
    "\n",
    "db_s_l2.send_data(new_idf)"
   ]
  },
  {
   "cell_type": "code",
   "execution_count": 61,
   "metadata": {},
   "outputs": [
    {
     "data": {
      "text/plain": [
       "{'id': '7505w00000ShIU2AAN',\n",
       " 'operation': 'upsert',\n",
       " 'object': 'Lead',\n",
       " 'createdById': '0055w00000DM5bOAAT',\n",
       " 'createdDate': '2020-12-10T16:19:55.000+0000',\n",
       " 'systemModstamp': '2020-12-10T16:19:58.000+0000',\n",
       " 'state': 'JobComplete',\n",
       " 'externalIdFieldName': 'SF_indexer__c',\n",
       " 'concurrencyMode': 'Parallel',\n",
       " 'contentType': 'CSV',\n",
       " 'apiVersion': 47.0,\n",
       " 'jobType': 'V2Ingest',\n",
       " 'lineEnding': 'LF',\n",
       " 'columnDelimiter': 'COMMA',\n",
       " 'numberRecordsProcessed': 66,\n",
       " 'numberRecordsFailed': 0,\n",
       " 'retries': 0,\n",
       " 'totalProcessingTime': 755,\n",
       " 'apiActiveProcessingTime': 653,\n",
       " 'apexProcessingTime': 55}"
      ]
     },
     "execution_count": 61,
     "metadata": {},
     "output_type": "execute_result"
    }
   ],
   "source": [
    "# check status\n",
    "db_s_l2.check_bulk_status()"
   ]
  },
  {
   "cell_type": "code",
   "execution_count": 62,
   "metadata": {},
   "outputs": [
    {
     "name": "stdout",
     "output_type": "stream",
     "text": [
      "'\"sf__Id\",\"sf__Error\",Company,Email,SF_indexer__c,Venue__c,firstname,lastname\\n'\n"
     ]
    }
   ],
   "source": [
    "from pprint import pprint\n",
    "\n",
    "pprint(db_s_l2.check_bulk_failed_results())"
   ]
  },
  {
   "cell_type": "code",
   "execution_count": null,
   "metadata": {},
   "outputs": [],
   "source": []
  },
  {
   "cell_type": "code",
   "execution_count": null,
   "metadata": {},
   "outputs": [],
   "source": []
  }
 ],
 "metadata": {
  "kernelspec": {
   "display_name": "Python 3",
   "language": "python",
   "name": "python3"
  },
  "language_info": {
   "codemirror_mode": {
    "name": "ipython",
    "version": 3
   },
   "file_extension": ".py",
   "mimetype": "text/x-python",
   "name": "python",
   "nbconvert_exporter": "python",
   "pygments_lexer": "ipython3",
   "version": "3.7.7"
  }
 },
 "nbformat": 4,
 "nbformat_minor": 4
}
