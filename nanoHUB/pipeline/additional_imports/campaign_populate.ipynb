{
 "cells": [
  {
   "cell_type": "markdown",
   "metadata": {},
   "source": [
    "# Cross-matching campaigns"
   ]
  },
  {
   "cell_type": "code",
   "execution_count": 4,
   "metadata": {},
   "outputs": [],
   "source": [
    "# Parameters\n",
    "api_url = '/services/data/v43.0/sobjects'\n",
    "\n",
    "# login parameters to be handled by Papermill\n",
    "sql_login_params = {\"username\": \"wang2506_ro\", \"password\": \"fnVnwcCS7iT45EsA\"}\n",
    "sf_login_params = {\n",
    "    \"grant_type\": \"password\",\n",
    "    \"client_id\": \"3MVG95jctIhbyCppj0SNJ75IsZ1y8UPGZtSNF4j8FNVXz.De8Lu4jHm3rjRosAtsHy6qjHx3i4S_QbQzvBePG\",\n",
    "    \"client_secret\": \"D1623C6D3607D4FC8004B92C761DFB6C1F70CCD129C5501E357028DFA00F5764\",\n",
    "    \"username\":\"wang2506@purdue.edu\",\n",
    "    \"password\":\"purdue99272844vp8Z6qq0teuPQmirGaaPAt4\", \n",
    "}\n",
    "    #\"username\": \"wang159-4j1v@force.com\",\n",
    "    #\"password\": \"napoleon0eZ3PQpQqE3C3z4wWqEqKGhQ8\","
   ]
  },
  {
   "cell_type": "code",
   "execution_count": 5,
   "metadata": {},
   "outputs": [],
   "source": [
    "import pandas as pd\n",
    "import datetime\n",
    "\n",
    "#stagnant reports\n",
    "import os\n",
    "cwd = os.getcwd()"
   ]
  },
  {
   "cell_type": "markdown",
   "metadata": {},
   "source": [
    "## SF pull all campaigns"
   ]
  },
  {
   "cell_type": "code",
   "execution_count": 6,
   "metadata": {},
   "outputs": [
    {
     "name": "stdout",
     "output_type": "stream",
     "text": [
      "Obtained Salesforce access token ...... True\n",
      "[Success] Bulk job creation successful. Job ID = 7505w00000SAKKwAAP\n",
      "{\"id\":\"7505w00000SAKKwAAP\",\"operation\":\"query\",\"object\":\"Campaign\",\"createdById\":\"0055w00000DM5bOAAT\",\"createdDate\":\"2020-11-23T18:55:53.000+0000\",\"systemModstamp\":\"2020-11-23T18:55:54.000+0000\",\"state\":\"InProgress\",\"concurrencyMode\":\"Parallel\",\"contentType\":\"CSV\",\"apiVersion\":47.0,\"jobType\":\"V2Query\",\"lineEnding\":\"LF\",\"columnDelimiter\":\"COMMA\",\"numberRecordsProcessed\":0,\"retries\":0,\"totalProcessingTime\":0}\n",
      "{\"id\":\"7505w00000SAKKwAAP\",\"operation\":\"query\",\"object\":\"Campaign\",\"createdById\":\"0055w00000DM5bOAAT\",\"createdDate\":\"2020-11-23T18:55:53.000+0000\",\"systemModstamp\":\"2020-11-23T18:55:55.000+0000\",\"state\":\"JobComplete\",\"concurrencyMode\":\"Parallel\",\"contentType\":\"CSV\",\"apiVersion\":47.0,\"jobType\":\"V2Query\",\"lineEnding\":\"LF\",\"columnDelimiter\":\"COMMA\",\"numberRecordsProcessed\":25,\"retries\":0,\"totalProcessingTime\":190}\n",
      "[Success] Bulk job completed successfully.\n"
     ]
    }
   ],
   "source": [
    "# obtain list of all salesforce campaigns\n",
    "from DB2SalesforceAPI import DB2SalesforceAPI\n",
    "# obtain all campaign names\n",
    "db_c = DB2SalesforceAPI(sf_login_params)\n",
    "camp_names = db_c.query_data('SELECT Id, Name FROM Campaign')"
   ]
  },
  {
   "cell_type": "code",
   "execution_count": 4,
   "metadata": {},
   "outputs": [
    {
     "data": {
      "text/html": [
       "<div>\n",
       "<style scoped>\n",
       "    .dataframe tbody tr th:only-of-type {\n",
       "        vertical-align: middle;\n",
       "    }\n",
       "\n",
       "    .dataframe tbody tr th {\n",
       "        vertical-align: top;\n",
       "    }\n",
       "\n",
       "    .dataframe thead th {\n",
       "        text-align: right;\n",
       "    }\n",
       "</style>\n",
       "<table border=\"1\" class=\"dataframe\">\n",
       "  <thead>\n",
       "    <tr style=\"text-align: right;\">\n",
       "      <th></th>\n",
       "      <th>Id</th>\n",
       "      <th>Name</th>\n",
       "    </tr>\n",
       "  </thead>\n",
       "  <tbody>\n",
       "    <tr>\n",
       "      <th>0</th>\n",
       "      <td>7015w000001c7B8AAI</td>\n",
       "      <td>Materials Science Engineering</td>\n",
       "    </tr>\n",
       "    <tr>\n",
       "      <th>1</th>\n",
       "      <td>7015w000001c7BDAAY</td>\n",
       "      <td>Citrine Webinar 10/21/2020</td>\n",
       "    </tr>\n",
       "  </tbody>\n",
       "</table>\n",
       "</div>"
      ],
      "text/plain": [
       "                   Id                           Name\n",
       "0  7015w000001c7B8AAI  Materials Science Engineering\n",
       "1  7015w000001c7BDAAY     Citrine Webinar 10/21/2020"
      ]
     },
     "metadata": {},
     "output_type": "display_data"
    }
   ],
   "source": [
    "display(camp_names.head(2))"
   ]
  },
  {
   "cell_type": "code",
   "execution_count": 5,
   "metadata": {},
   "outputs": [
    {
     "data": {
      "text/html": [
       "<div>\n",
       "<style scoped>\n",
       "    .dataframe tbody tr th:only-of-type {\n",
       "        vertical-align: middle;\n",
       "    }\n",
       "\n",
       "    .dataframe tbody tr th {\n",
       "        vertical-align: top;\n",
       "    }\n",
       "\n",
       "    .dataframe thead th {\n",
       "        text-align: right;\n",
       "    }\n",
       "</style>\n",
       "<table border=\"1\" class=\"dataframe\">\n",
       "  <thead>\n",
       "    <tr style=\"text-align: right;\">\n",
       "      <th></th>\n",
       "      <th>Id</th>\n",
       "      <th>Name</th>\n",
       "    </tr>\n",
       "  </thead>\n",
       "  <tbody>\n",
       "    <tr>\n",
       "      <th>0</th>\n",
       "      <td>7015w000001c7B8AAI</td>\n",
       "      <td>Materials Science Engineering</td>\n",
       "    </tr>\n",
       "    <tr>\n",
       "      <th>1</th>\n",
       "      <td>7015w000001c7BDAAY</td>\n",
       "      <td>Citrine Webinar 10/21/2020</td>\n",
       "    </tr>\n",
       "  </tbody>\n",
       "</table>\n",
       "</div>"
      ],
      "text/plain": [
       "                   Id                           Name\n",
       "0  7015w000001c7B8AAI  Materials Science Engineering\n",
       "1  7015w000001c7BDAAY     Citrine Webinar 10/21/2020"
      ]
     },
     "metadata": {},
     "output_type": "display_data"
    }
   ],
   "source": [
    "# standardize all names to convert dashes to underscores\n",
    "camp_names['Name'] = camp_names['Name'].str.replace('-','_',regex=False)\n",
    "display(camp_names.head(2))"
   ]
  },
  {
   "cell_type": "code",
   "execution_count": 6,
   "metadata": {},
   "outputs": [],
   "source": [
    "###### Important\n",
    "camp_hierarchy = 'ML111120_'"
   ]
  },
  {
   "cell_type": "markdown",
   "metadata": {},
   "source": [
    "## Importing Emails Sent"
   ]
  },
  {
   "cell_type": "code",
   "execution_count": 7,
   "metadata": {},
   "outputs": [
    {
     "name": "stdout",
     "output_type": "stream",
     "text": [
      "['C-A.xlsx', 'C-noR_noA.xlsx', 'C-Res_non_purdue.xlsx', 'C-Res_purdue.xlsx', 'C-R_noA.xlsx', 'Clo2d_sp_su_grA.xlsx', 'Clo2d_sp_su_grB.xlsx', 'L-A.xlsx', 'L-noR_noA.xlsx', 'L-R_noA.xlsx', 'U1d_fa_grA.xlsx', 'U1d_fa_grB.xlsx', 'U1d_sp_su_grA.xlsx', 'U1d_sp_su_grB.xlsx', 'U2_7d_fa_grA.xlsx', 'U2_7d_fa_grB.xlsx', 'U2_7d_sp_su_grA.xlsx', 'U2_7d_sp_su_grB.xlsx']\n"
     ]
    }
   ],
   "source": [
    "print(os.listdir(cwd+'/Emails Sent - Stagnant Reports'))"
   ]
  },
  {
   "cell_type": "code",
   "execution_count": 8,
   "metadata": {},
   "outputs": [
    {
     "name": "stdout",
     "output_type": "stream",
     "text": [
      "['C_A.xlsx', 'C_noR_noA.xlsx', 'C_Res_non_purdue.xlsx', 'C_Res_purdue.xlsx', 'C_R_noA.xlsx', 'Clo2d_sp_su_grA.xlsx', 'Clo2d_sp_su_grB.xlsx', 'L_A.xlsx', 'L_noR_noA.xlsx', 'L_R_noA.xlsx', 'U1d_fa_grA.xlsx', 'U1d_fa_grB.xlsx', 'U1d_sp_su_grA.xlsx', 'U1d_sp_su_grB.xlsx', 'U2_7d_fa_grA.xlsx', 'U2_7d_fa_grB.xlsx', 'U2_7d_sp_su_grA.xlsx', 'U2_7d_sp_su_grB.xlsx']\n"
     ]
    }
   ],
   "source": [
    "# match lists to campaigns\n",
    "emails_sent = os.listdir(cwd+'/Emails Sent - Stagnant Reports')\n",
    "for i,j in enumerate(emails_sent):\n",
    "    emails_sent[i] = j.replace('-','_')\n",
    "print(emails_sent)"
   ]
  },
  {
   "cell_type": "code",
   "execution_count": 9,
   "metadata": {},
   "outputs": [],
   "source": [
    "# match email sent filenames to campaign names\n",
    "sent_match_indexes = {} #key:index => index of email sent: compaign ID\n",
    "for i,j in enumerate(emails_sent):\n",
    "    j_temp = camp_hierarchy+j[:-5]\n",
    "    if j_temp in camp_names['Name'].to_list():\n",
    "        sent_match_indexes[i] = camp_names['Id'][camp_names['Name'].to_list().index(j_temp)]\n",
    "    else:\n",
    "        print(j)"
   ]
  },
  {
   "cell_type": "code",
   "execution_count": 10,
   "metadata": {},
   "outputs": [
    {
     "name": "stdout",
     "output_type": "stream",
     "text": [
      "{0: '7015w000001c7VNAAY', 1: '7015w000001c7VDAAY', 2: '7015w000001c7VmAAI', 3: '7015w000001c7VrAAI', 4: '7015w000001c7VIAAY', 5: '7015w000001c7VJAAY', 6: '7015w000001c7VKAAY', 7: '7015w000001c7V8AAI', 8: '7015w000001c7V3AAI', 9: '7015w000001c7V4AAI', 10: '7015w000001c7YwAAI', 11: '7015w000001c7VXAAY', 12: '7015w000001c7VSAAY', 13: '7015w000001c7Z1AAI', 14: '7015w000001c7VhAAI', 15: '7015w000001c7VdAAI', 16: '7015w000001c7VcAAI', 17: '7015w000001c7V5AAI'}\n"
     ]
    }
   ],
   "source": [
    "print(sent_match_indexes)"
   ]
  },
  {
   "cell_type": "markdown",
   "metadata": {},
   "source": [
    "### Sequential Import"
   ]
  },
  {
   "cell_type": "code",
   "execution_count": 11,
   "metadata": {},
   "outputs": [],
   "source": [
    "## Test ID transposing function\n",
    "#t_input = '00Q5w00001tM5X6' #should be 00Q5w00001tM5X6EAK\n",
    "import string\n",
    "def ID_transpose(fault_digit,target_l=18):\n",
    "    il = len(fault_digit)\n",
    "    addon = ''\n",
    "    if il == target_l:\n",
    "        print('already good')\n",
    "    else:\n",
    "        for block in range(0,3,1):\n",
    "            loop = 0\n",
    "            for pos in range(0,5,1):\n",
    "                current = fault_digit[block*5+pos]\n",
    "                if current in list(string.ascii_uppercase):\n",
    "                    loop += 1<<pos\n",
    "            addon += \"ABCDEFGHIJKLMNOPQRSTUVWXYZ012345\"[loop]\n",
    "    return fault_digit + addon\n",
    "#print(ID_transpose(t_input))\n",
    "#print(len(ID_transpose(t_input)))"
   ]
  },
  {
   "cell_type": "code",
   "execution_count": 12,
   "metadata": {},
   "outputs": [],
   "source": [
    "#function email imports\n",
    "def import_email_sent(filename,camp_id):\n",
    "    #determine header and import data\n",
    "    header_init = 0\n",
    "    h_flag = False\n",
    "    while h_flag == False:\n",
    "        try:\n",
    "            if 'L-' in filename or 'L_' in filename:\n",
    "                opened_df = pd.read_excel(cwd+'/Emails Sent - Stagnant Reports/'+filename,header=header_init,\\\n",
    "                                      skipinitialspace=True, usecols=['Email','Lead ID']).dropna()\n",
    "            else:\n",
    "                opened_df = pd.read_excel(cwd+'/Emails Sent - Stagnant Reports/'+filename,header=header_init,\\\n",
    "                                      skipinitialspace=True, usecols=['Email','Contact ID']).dropna()\n",
    "            h_flag = True\n",
    "        except:\n",
    "            header_init += 1\n",
    "    print(header_init)\n",
    "    \n",
    "    ## Transposing 15 digit ID to 18 - https://help.salesforce.com/articleView?id=000319308&type=1&mode=1    \n",
    "    try:\n",
    "        if len(opened_df['Lead ID'][0]) != 18:\n",
    "            opened_df['Lead ID'] = opened_df['Lead ID'].apply(lambda x: ID_transpose(x))\n",
    "    except:\n",
    "        try:\n",
    "            if len(opened_df['Contact ID'][0]) != 18:\n",
    "                opened_df['Contact ID'] = opened_df['Contact ID'].apply(lambda x: ID_transpose(x))\n",
    "        except:\n",
    "            print('Error in data - open the raw file')\n",
    "    \n",
    "    ##extract cols\n",
    "    #contact vs leads\n",
    "    if 'L-' in filename or 'L_' in filename: #then assume its a lead\n",
    "        opened_df = opened_df[['Email','Lead ID']].rename(columns={'Email':'Email__c','Lead ID':'LeadId'})#.rename(columns={0:'Email__c'})\n",
    "    else:\n",
    "        opened_df = opened_df[['Email','Contact ID']].rename(columns={'Email':'Email__c','Contact ID':'ContactId'})#.rename(columns={0:'Email__c'})\n",
    "    \n",
    "    #concatenate\n",
    "    ovr_df = opened_df\n",
    "    \n",
    "    #populate campaign name/id, campaign engagement\n",
    "    ovr_df['CampaignId'] = camp_id\n",
    "    ovr_df['Campaign_Engagement__c'] = 0 #placehold for replacement\n",
    "\n",
    "    ovr_df.iloc[:opened_df.shape[0],-1] = 'Sent'\n",
    "    ovr_df.iloc[opened_df.shape[0]:,-1] = 'Sent'\n",
    "    \n",
    "    return ovr_df"
   ]
  },
  {
   "cell_type": "code",
   "execution_count": 13,
   "metadata": {},
   "outputs": [
    {
     "name": "stdout",
     "output_type": "stream",
     "text": [
      "Obtained Salesforce access token ...... True\n",
      "Obtained Salesforce access token ...... True\n",
      "Obtained Salesforce access token ...... True\n",
      "Obtained Salesforce access token ...... True\n",
      "Obtained Salesforce access token ...... True\n",
      "Obtained Salesforce access token ...... True\n",
      "Obtained Salesforce access token ...... True\n",
      "Obtained Salesforce access token ...... True\n",
      "Obtained Salesforce access token ...... True\n",
      "Obtained Salesforce access token ...... True\n",
      "Obtained Salesforce access token ...... True\n",
      "Obtained Salesforce access token ...... True\n",
      "Obtained Salesforce access token ...... True\n",
      "Obtained Salesforce access token ...... True\n",
      "Obtained Salesforce access token ...... True\n",
      "Obtained Salesforce access token ...... True\n",
      "Obtained Salesforce access token ...... True\n",
      "Obtained Salesforce access token ...... True\n"
     ]
    }
   ],
   "source": [
    "import time\n",
    "#create enough DB2salesforceAPI objects to handle synchronous loading\n",
    "db_e = []\n",
    "from DB2SalesforceAPI import DB2SalesforceAPI\n",
    "for i in range(len(sent_match_indexes.keys())):\n",
    "    db_e.append(DB2SalesforceAPI(sf_login_params)) #emails\n",
    "    db_e[i].object_id = 'CampaignMember'\n",
    "    db_e[i].external_id = 'Email__c'"
   ]
  },
  {
   "cell_type": "code",
   "execution_count": 14,
   "metadata": {},
   "outputs": [
    {
     "name": "stdout",
     "output_type": "stream",
     "text": [
      "11\n"
     ]
    },
    {
     "data": {
      "text/html": [
       "<div>\n",
       "<style scoped>\n",
       "    .dataframe tbody tr th:only-of-type {\n",
       "        vertical-align: middle;\n",
       "    }\n",
       "\n",
       "    .dataframe tbody tr th {\n",
       "        vertical-align: top;\n",
       "    }\n",
       "\n",
       "    .dataframe thead th {\n",
       "        text-align: right;\n",
       "    }\n",
       "</style>\n",
       "<table border=\"1\" class=\"dataframe\">\n",
       "  <thead>\n",
       "    <tr style=\"text-align: right;\">\n",
       "      <th></th>\n",
       "      <th>Email__c</th>\n",
       "      <th>ContactId</th>\n",
       "      <th>CampaignId</th>\n",
       "      <th>Campaign_Engagement__c</th>\n",
       "    </tr>\n",
       "  </thead>\n",
       "  <tbody>\n",
       "    <tr>\n",
       "      <th>0</th>\n",
       "      <td>asoshnik@ucdavis.edu</td>\n",
       "      <td>0035w00003FSvfOAAT</td>\n",
       "      <td>7015w000001c7VNAAY</td>\n",
       "      <td>Sent</td>\n",
       "    </tr>\n",
       "    <tr>\n",
       "      <th>1</th>\n",
       "      <td>yongyang@ufl.edu</td>\n",
       "      <td>0035w00003FVt5EAAT</td>\n",
       "      <td>7015w000001c7VNAAY</td>\n",
       "      <td>Sent</td>\n",
       "    </tr>\n",
       "  </tbody>\n",
       "</table>\n",
       "</div>"
      ],
      "text/plain": [
       "               Email__c           ContactId          CampaignId  \\\n",
       "0  asoshnik@ucdavis.edu  0035w00003FSvfOAAT  7015w000001c7VNAAY   \n",
       "1      yongyang@ufl.edu  0035w00003FVt5EAAT  7015w000001c7VNAAY   \n",
       "\n",
       "  Campaign_Engagement__c  \n",
       "0                   Sent  \n",
       "1                   Sent  "
      ]
     },
     "metadata": {},
     "output_type": "display_data"
    },
    {
     "name": "stdout",
     "output_type": "stream",
     "text": [
      "12\n"
     ]
    },
    {
     "data": {
      "text/html": [
       "<div>\n",
       "<style scoped>\n",
       "    .dataframe tbody tr th:only-of-type {\n",
       "        vertical-align: middle;\n",
       "    }\n",
       "\n",
       "    .dataframe tbody tr th {\n",
       "        vertical-align: top;\n",
       "    }\n",
       "\n",
       "    .dataframe thead th {\n",
       "        text-align: right;\n",
       "    }\n",
       "</style>\n",
       "<table border=\"1\" class=\"dataframe\">\n",
       "  <thead>\n",
       "    <tr style=\"text-align: right;\">\n",
       "      <th></th>\n",
       "      <th>Email__c</th>\n",
       "      <th>ContactId</th>\n",
       "      <th>CampaignId</th>\n",
       "      <th>Campaign_Engagement__c</th>\n",
       "    </tr>\n",
       "  </thead>\n",
       "  <tbody>\n",
       "    <tr>\n",
       "      <th>0</th>\n",
       "      <td>mahdi313@siu.edu</td>\n",
       "      <td>0035w00003EDffyAAD</td>\n",
       "      <td>7015w000001c7VDAAY</td>\n",
       "      <td>Sent</td>\n",
       "    </tr>\n",
       "    <tr>\n",
       "      <th>1</th>\n",
       "      <td>jbeiferm@asu.edu</td>\n",
       "      <td>0035w00003EDffdAAD</td>\n",
       "      <td>7015w000001c7VDAAY</td>\n",
       "      <td>Sent</td>\n",
       "    </tr>\n",
       "  </tbody>\n",
       "</table>\n",
       "</div>"
      ],
      "text/plain": [
       "           Email__c           ContactId          CampaignId  \\\n",
       "0  mahdi313@siu.edu  0035w00003EDffyAAD  7015w000001c7VDAAY   \n",
       "1  jbeiferm@asu.edu  0035w00003EDffdAAD  7015w000001c7VDAAY   \n",
       "\n",
       "  Campaign_Engagement__c  \n",
       "0                   Sent  \n",
       "1                   Sent  "
      ]
     },
     "metadata": {},
     "output_type": "display_data"
    },
    {
     "name": "stdout",
     "output_type": "stream",
     "text": [
      "16\n"
     ]
    },
    {
     "data": {
      "text/html": [
       "<div>\n",
       "<style scoped>\n",
       "    .dataframe tbody tr th:only-of-type {\n",
       "        vertical-align: middle;\n",
       "    }\n",
       "\n",
       "    .dataframe tbody tr th {\n",
       "        vertical-align: top;\n",
       "    }\n",
       "\n",
       "    .dataframe thead th {\n",
       "        text-align: right;\n",
       "    }\n",
       "</style>\n",
       "<table border=\"1\" class=\"dataframe\">\n",
       "  <thead>\n",
       "    <tr style=\"text-align: right;\">\n",
       "      <th></th>\n",
       "      <th>Email__c</th>\n",
       "      <th>ContactId</th>\n",
       "      <th>CampaignId</th>\n",
       "      <th>Campaign_Engagement__c</th>\n",
       "    </tr>\n",
       "  </thead>\n",
       "  <tbody>\n",
       "    <tr>\n",
       "      <th>0</th>\n",
       "      <td>gfiori@mercurio.iet.unipi.it</td>\n",
       "      <td>0035w000034JKrFAAW</td>\n",
       "      <td>7015w000001c7VmAAI</td>\n",
       "      <td>Sent</td>\n",
       "    </tr>\n",
       "    <tr>\n",
       "      <th>1</th>\n",
       "      <td>boykin@ece.uah.edu</td>\n",
       "      <td>0035w000034JMtpAAG</td>\n",
       "      <td>7015w000001c7VmAAI</td>\n",
       "      <td>Sent</td>\n",
       "    </tr>\n",
       "  </tbody>\n",
       "</table>\n",
       "</div>"
      ],
      "text/plain": [
       "                       Email__c           ContactId          CampaignId  \\\n",
       "0  gfiori@mercurio.iet.unipi.it  0035w000034JKrFAAW  7015w000001c7VmAAI   \n",
       "1            boykin@ece.uah.edu  0035w000034JMtpAAG  7015w000001c7VmAAI   \n",
       "\n",
       "  Campaign_Engagement__c  \n",
       "0                   Sent  \n",
       "1                   Sent  "
      ]
     },
     "metadata": {},
     "output_type": "display_data"
    },
    {
     "name": "stdout",
     "output_type": "stream",
     "text": [
      "19\n"
     ]
    },
    {
     "data": {
      "text/html": [
       "<div>\n",
       "<style scoped>\n",
       "    .dataframe tbody tr th:only-of-type {\n",
       "        vertical-align: middle;\n",
       "    }\n",
       "\n",
       "    .dataframe tbody tr th {\n",
       "        vertical-align: top;\n",
       "    }\n",
       "\n",
       "    .dataframe thead th {\n",
       "        text-align: right;\n",
       "    }\n",
       "</style>\n",
       "<table border=\"1\" class=\"dataframe\">\n",
       "  <thead>\n",
       "    <tr style=\"text-align: right;\">\n",
       "      <th></th>\n",
       "      <th>Email__c</th>\n",
       "      <th>ContactId</th>\n",
       "      <th>CampaignId</th>\n",
       "      <th>Campaign_Engagement__c</th>\n",
       "    </tr>\n",
       "  </thead>\n",
       "  <tbody>\n",
       "    <tr>\n",
       "      <th>0</th>\n",
       "      <td>rrahman@purdue.edu</td>\n",
       "      <td>0035w000034JHAUAA4</td>\n",
       "      <td>7015w000001c7VrAAI</td>\n",
       "      <td>Sent</td>\n",
       "    </tr>\n",
       "    <tr>\n",
       "      <th>1</th>\n",
       "      <td>mluisier@purdue.edu</td>\n",
       "      <td>0035w000034JErEAAW</td>\n",
       "      <td>7015w000001c7VrAAI</td>\n",
       "      <td>Sent</td>\n",
       "    </tr>\n",
       "  </tbody>\n",
       "</table>\n",
       "</div>"
      ],
      "text/plain": [
       "              Email__c           ContactId          CampaignId  \\\n",
       "0   rrahman@purdue.edu  0035w000034JHAUAA4  7015w000001c7VrAAI   \n",
       "1  mluisier@purdue.edu  0035w000034JErEAAW  7015w000001c7VrAAI   \n",
       "\n",
       "  Campaign_Engagement__c  \n",
       "0                   Sent  \n",
       "1                   Sent  "
      ]
     },
     "metadata": {},
     "output_type": "display_data"
    },
    {
     "name": "stdout",
     "output_type": "stream",
     "text": [
      "12\n"
     ]
    },
    {
     "data": {
      "text/html": [
       "<div>\n",
       "<style scoped>\n",
       "    .dataframe tbody tr th:only-of-type {\n",
       "        vertical-align: middle;\n",
       "    }\n",
       "\n",
       "    .dataframe tbody tr th {\n",
       "        vertical-align: top;\n",
       "    }\n",
       "\n",
       "    .dataframe thead th {\n",
       "        text-align: right;\n",
       "    }\n",
       "</style>\n",
       "<table border=\"1\" class=\"dataframe\">\n",
       "  <thead>\n",
       "    <tr style=\"text-align: right;\">\n",
       "      <th></th>\n",
       "      <th>Email__c</th>\n",
       "      <th>ContactId</th>\n",
       "      <th>CampaignId</th>\n",
       "      <th>Campaign_Engagement__c</th>\n",
       "    </tr>\n",
       "  </thead>\n",
       "  <tbody>\n",
       "    <tr>\n",
       "      <th>0</th>\n",
       "      <td>ee19btech11040@iith.ac.in</td>\n",
       "      <td>0035w00003EDqYeAAL</td>\n",
       "      <td>7015w000001c7VIAAY</td>\n",
       "      <td>Sent</td>\n",
       "    </tr>\n",
       "    <tr>\n",
       "      <th>1</th>\n",
       "      <td>jaraque@benedictine.edu</td>\n",
       "      <td>0035w00003EEAoXAAX</td>\n",
       "      <td>7015w000001c7VIAAY</td>\n",
       "      <td>Sent</td>\n",
       "    </tr>\n",
       "  </tbody>\n",
       "</table>\n",
       "</div>"
      ],
      "text/plain": [
       "                    Email__c           ContactId          CampaignId  \\\n",
       "0  ee19btech11040@iith.ac.in  0035w00003EDqYeAAL  7015w000001c7VIAAY   \n",
       "1    jaraque@benedictine.edu  0035w00003EEAoXAAX  7015w000001c7VIAAY   \n",
       "\n",
       "  Campaign_Engagement__c  \n",
       "0                   Sent  \n",
       "1                   Sent  "
      ]
     },
     "metadata": {},
     "output_type": "display_data"
    },
    {
     "name": "stdout",
     "output_type": "stream",
     "text": [
      "16\n"
     ]
    },
    {
     "data": {
      "text/html": [
       "<div>\n",
       "<style scoped>\n",
       "    .dataframe tbody tr th:only-of-type {\n",
       "        vertical-align: middle;\n",
       "    }\n",
       "\n",
       "    .dataframe tbody tr th {\n",
       "        vertical-align: top;\n",
       "    }\n",
       "\n",
       "    .dataframe thead th {\n",
       "        text-align: right;\n",
       "    }\n",
       "</style>\n",
       "<table border=\"1\" class=\"dataframe\">\n",
       "  <thead>\n",
       "    <tr style=\"text-align: right;\">\n",
       "      <th></th>\n",
       "      <th>Email__c</th>\n",
       "      <th>ContactId</th>\n",
       "      <th>CampaignId</th>\n",
       "      <th>Campaign_Engagement__c</th>\n",
       "    </tr>\n",
       "  </thead>\n",
       "  <tbody>\n",
       "    <tr>\n",
       "      <th>0</th>\n",
       "      <td>v.prudhvi0001@gmail.com</td>\n",
       "      <td>0035w000034JzYtAAK</td>\n",
       "      <td>7015w000001c7VJAAY</td>\n",
       "      <td>Sent</td>\n",
       "    </tr>\n",
       "    <tr>\n",
       "      <th>1</th>\n",
       "      <td>najmaaarohi123@gmail.com</td>\n",
       "      <td>0035w000034JzowAAC</td>\n",
       "      <td>7015w000001c7VJAAY</td>\n",
       "      <td>Sent</td>\n",
       "    </tr>\n",
       "  </tbody>\n",
       "</table>\n",
       "</div>"
      ],
      "text/plain": [
       "                   Email__c           ContactId          CampaignId  \\\n",
       "0   v.prudhvi0001@gmail.com  0035w000034JzYtAAK  7015w000001c7VJAAY   \n",
       "1  najmaaarohi123@gmail.com  0035w000034JzowAAC  7015w000001c7VJAAY   \n",
       "\n",
       "  Campaign_Engagement__c  \n",
       "0                   Sent  \n",
       "1                   Sent  "
      ]
     },
     "metadata": {},
     "output_type": "display_data"
    },
    {
     "name": "stdout",
     "output_type": "stream",
     "text": [
      "16\n"
     ]
    },
    {
     "data": {
      "text/html": [
       "<div>\n",
       "<style scoped>\n",
       "    .dataframe tbody tr th:only-of-type {\n",
       "        vertical-align: middle;\n",
       "    }\n",
       "\n",
       "    .dataframe tbody tr th {\n",
       "        vertical-align: top;\n",
       "    }\n",
       "\n",
       "    .dataframe thead th {\n",
       "        text-align: right;\n",
       "    }\n",
       "</style>\n",
       "<table border=\"1\" class=\"dataframe\">\n",
       "  <thead>\n",
       "    <tr style=\"text-align: right;\">\n",
       "      <th></th>\n",
       "      <th>Email__c</th>\n",
       "      <th>ContactId</th>\n",
       "      <th>CampaignId</th>\n",
       "      <th>Campaign_Engagement__c</th>\n",
       "    </tr>\n",
       "  </thead>\n",
       "  <tbody>\n",
       "    <tr>\n",
       "      <th>0</th>\n",
       "      <td>murali135a@gmail.com</td>\n",
       "      <td>0035w000034JzlvAAC</td>\n",
       "      <td>7015w000001c7VKAAY</td>\n",
       "      <td>Sent</td>\n",
       "    </tr>\n",
       "    <tr>\n",
       "      <th>1</th>\n",
       "      <td>bobertschaff@gmail.com</td>\n",
       "      <td>0035w000034JzoyAAC</td>\n",
       "      <td>7015w000001c7VKAAY</td>\n",
       "      <td>Sent</td>\n",
       "    </tr>\n",
       "  </tbody>\n",
       "</table>\n",
       "</div>"
      ],
      "text/plain": [
       "                 Email__c           ContactId          CampaignId  \\\n",
       "0    murali135a@gmail.com  0035w000034JzlvAAC  7015w000001c7VKAAY   \n",
       "1  bobertschaff@gmail.com  0035w000034JzoyAAC  7015w000001c7VKAAY   \n",
       "\n",
       "  Campaign_Engagement__c  \n",
       "0                   Sent  \n",
       "1                   Sent  "
      ]
     },
     "metadata": {},
     "output_type": "display_data"
    },
    {
     "name": "stdout",
     "output_type": "stream",
     "text": [
      "11\n"
     ]
    },
    {
     "data": {
      "text/html": [
       "<div>\n",
       "<style scoped>\n",
       "    .dataframe tbody tr th:only-of-type {\n",
       "        vertical-align: middle;\n",
       "    }\n",
       "\n",
       "    .dataframe tbody tr th {\n",
       "        vertical-align: top;\n",
       "    }\n",
       "\n",
       "    .dataframe thead th {\n",
       "        text-align: right;\n",
       "    }\n",
       "</style>\n",
       "<table border=\"1\" class=\"dataframe\">\n",
       "  <thead>\n",
       "    <tr style=\"text-align: right;\">\n",
       "      <th></th>\n",
       "      <th>Email__c</th>\n",
       "      <th>LeadId</th>\n",
       "      <th>CampaignId</th>\n",
       "      <th>Campaign_Engagement__c</th>\n",
       "    </tr>\n",
       "  </thead>\n",
       "  <tbody>\n",
       "    <tr>\n",
       "      <th>0</th>\n",
       "      <td>mike.schwarz1980@googlemail.com</td>\n",
       "      <td>00Q5w00001tM5X6EAK</td>\n",
       "      <td>7015w000001c7V8AAI</td>\n",
       "      <td>Sent</td>\n",
       "    </tr>\n",
       "    <tr>\n",
       "      <th>1</th>\n",
       "      <td>pauljgasper@gmail.com</td>\n",
       "      <td>00Q5w00001tM5X8EAK</td>\n",
       "      <td>7015w000001c7V8AAI</td>\n",
       "      <td>Sent</td>\n",
       "    </tr>\n",
       "  </tbody>\n",
       "</table>\n",
       "</div>"
      ],
      "text/plain": [
       "                          Email__c              LeadId          CampaignId  \\\n",
       "0  mike.schwarz1980@googlemail.com  00Q5w00001tM5X6EAK  7015w000001c7V8AAI   \n",
       "1            pauljgasper@gmail.com  00Q5w00001tM5X8EAK  7015w000001c7V8AAI   \n",
       "\n",
       "  Campaign_Engagement__c  \n",
       "0                   Sent  \n",
       "1                   Sent  "
      ]
     },
     "metadata": {},
     "output_type": "display_data"
    },
    {
     "name": "stdout",
     "output_type": "stream",
     "text": [
      "15\n"
     ]
    },
    {
     "data": {
      "text/html": [
       "<div>\n",
       "<style scoped>\n",
       "    .dataframe tbody tr th:only-of-type {\n",
       "        vertical-align: middle;\n",
       "    }\n",
       "\n",
       "    .dataframe tbody tr th {\n",
       "        vertical-align: top;\n",
       "    }\n",
       "\n",
       "    .dataframe thead th {\n",
       "        text-align: right;\n",
       "    }\n",
       "</style>\n",
       "<table border=\"1\" class=\"dataframe\">\n",
       "  <thead>\n",
       "    <tr style=\"text-align: right;\">\n",
       "      <th></th>\n",
       "      <th>Email__c</th>\n",
       "      <th>LeadId</th>\n",
       "      <th>CampaignId</th>\n",
       "      <th>Campaign_Engagement__c</th>\n",
       "    </tr>\n",
       "  </thead>\n",
       "  <tbody>\n",
       "    <tr>\n",
       "      <th>0</th>\n",
       "      <td>sakhrat.khizroev@fiu.edu</td>\n",
       "      <td>00Q5w00001tM56nEAC</td>\n",
       "      <td>7015w000001c7V3AAI</td>\n",
       "      <td>Sent</td>\n",
       "    </tr>\n",
       "    <tr>\n",
       "      <th>1</th>\n",
       "      <td>vlassovy@fiu.edu</td>\n",
       "      <td>00Q5w00001tM56oEAC</td>\n",
       "      <td>7015w000001c7V3AAI</td>\n",
       "      <td>Sent</td>\n",
       "    </tr>\n",
       "  </tbody>\n",
       "</table>\n",
       "</div>"
      ],
      "text/plain": [
       "                   Email__c              LeadId          CampaignId  \\\n",
       "0  sakhrat.khizroev@fiu.edu  00Q5w00001tM56nEAC  7015w000001c7V3AAI   \n",
       "1          vlassovy@fiu.edu  00Q5w00001tM56oEAC  7015w000001c7V3AAI   \n",
       "\n",
       "  Campaign_Engagement__c  \n",
       "0                   Sent  \n",
       "1                   Sent  "
      ]
     },
     "metadata": {},
     "output_type": "display_data"
    },
    {
     "name": "stdout",
     "output_type": "stream",
     "text": [
      "13\n"
     ]
    },
    {
     "data": {
      "text/html": [
       "<div>\n",
       "<style scoped>\n",
       "    .dataframe tbody tr th:only-of-type {\n",
       "        vertical-align: middle;\n",
       "    }\n",
       "\n",
       "    .dataframe tbody tr th {\n",
       "        vertical-align: top;\n",
       "    }\n",
       "\n",
       "    .dataframe thead th {\n",
       "        text-align: right;\n",
       "    }\n",
       "</style>\n",
       "<table border=\"1\" class=\"dataframe\">\n",
       "  <thead>\n",
       "    <tr style=\"text-align: right;\">\n",
       "      <th></th>\n",
       "      <th>Email__c</th>\n",
       "      <th>LeadId</th>\n",
       "      <th>CampaignId</th>\n",
       "      <th>Campaign_Engagement__c</th>\n",
       "    </tr>\n",
       "  </thead>\n",
       "  <tbody>\n",
       "    <tr>\n",
       "      <th>0</th>\n",
       "      <td>srini@email.arizona.edu</td>\n",
       "      <td>00Q5w00001tLZaJEAW</td>\n",
       "      <td>7015w000001c7V4AAI</td>\n",
       "      <td>Sent</td>\n",
       "    </tr>\n",
       "    <tr>\n",
       "      <th>1</th>\n",
       "      <td>j.santanu.mukherjee@gmail.com</td>\n",
       "      <td>00Q5w00001tLZaLEAW</td>\n",
       "      <td>7015w000001c7V4AAI</td>\n",
       "      <td>Sent</td>\n",
       "    </tr>\n",
       "  </tbody>\n",
       "</table>\n",
       "</div>"
      ],
      "text/plain": [
       "                        Email__c              LeadId          CampaignId  \\\n",
       "0        srini@email.arizona.edu  00Q5w00001tLZaJEAW  7015w000001c7V4AAI   \n",
       "1  j.santanu.mukherjee@gmail.com  00Q5w00001tLZaLEAW  7015w000001c7V4AAI   \n",
       "\n",
       "  Campaign_Engagement__c  \n",
       "0                   Sent  \n",
       "1                   Sent  "
      ]
     },
     "metadata": {},
     "output_type": "display_data"
    },
    {
     "name": "stdout",
     "output_type": "stream",
     "text": [
      "15\n"
     ]
    },
    {
     "data": {
      "text/html": [
       "<div>\n",
       "<style scoped>\n",
       "    .dataframe tbody tr th:only-of-type {\n",
       "        vertical-align: middle;\n",
       "    }\n",
       "\n",
       "    .dataframe tbody tr th {\n",
       "        vertical-align: top;\n",
       "    }\n",
       "\n",
       "    .dataframe thead th {\n",
       "        text-align: right;\n",
       "    }\n",
       "</style>\n",
       "<table border=\"1\" class=\"dataframe\">\n",
       "  <thead>\n",
       "    <tr style=\"text-align: right;\">\n",
       "      <th></th>\n",
       "      <th>Email__c</th>\n",
       "      <th>ContactId</th>\n",
       "      <th>CampaignId</th>\n",
       "      <th>Campaign_Engagement__c</th>\n",
       "    </tr>\n",
       "  </thead>\n",
       "  <tbody>\n",
       "    <tr>\n",
       "      <th>0</th>\n",
       "      <td>ruangandro45@gmail.com</td>\n",
       "      <td>0035w00003FVjVLAA1</td>\n",
       "      <td>7015w000001c7YwAAI</td>\n",
       "      <td>Sent</td>\n",
       "    </tr>\n",
       "    <tr>\n",
       "      <th>1</th>\n",
       "      <td>davidbeckam7675@gmail.com</td>\n",
       "      <td>0035w00003FVjVQAA1</td>\n",
       "      <td>7015w000001c7YwAAI</td>\n",
       "      <td>Sent</td>\n",
       "    </tr>\n",
       "  </tbody>\n",
       "</table>\n",
       "</div>"
      ],
      "text/plain": [
       "                    Email__c           ContactId          CampaignId  \\\n",
       "0     ruangandro45@gmail.com  0035w00003FVjVLAA1  7015w000001c7YwAAI   \n",
       "1  davidbeckam7675@gmail.com  0035w00003FVjVQAA1  7015w000001c7YwAAI   \n",
       "\n",
       "  Campaign_Engagement__c  \n",
       "0                   Sent  \n",
       "1                   Sent  "
      ]
     },
     "metadata": {},
     "output_type": "display_data"
    },
    {
     "name": "stdout",
     "output_type": "stream",
     "text": [
      "15\n"
     ]
    },
    {
     "data": {
      "text/html": [
       "<div>\n",
       "<style scoped>\n",
       "    .dataframe tbody tr th:only-of-type {\n",
       "        vertical-align: middle;\n",
       "    }\n",
       "\n",
       "    .dataframe tbody tr th {\n",
       "        vertical-align: top;\n",
       "    }\n",
       "\n",
       "    .dataframe thead th {\n",
       "        text-align: right;\n",
       "    }\n",
       "</style>\n",
       "<table border=\"1\" class=\"dataframe\">\n",
       "  <thead>\n",
       "    <tr style=\"text-align: right;\">\n",
       "      <th></th>\n",
       "      <th>Email__c</th>\n",
       "      <th>ContactId</th>\n",
       "      <th>CampaignId</th>\n",
       "      <th>Campaign_Engagement__c</th>\n",
       "    </tr>\n",
       "  </thead>\n",
       "  <tbody>\n",
       "    <tr>\n",
       "      <th>0</th>\n",
       "      <td>ashfiatullaila@gmail.com</td>\n",
       "      <td>0035w00003FVjVKAA1</td>\n",
       "      <td>7015w000001c7VXAAY</td>\n",
       "      <td>Sent</td>\n",
       "    </tr>\n",
       "    <tr>\n",
       "      <th>1</th>\n",
       "      <td>coloktgl@gmail.com</td>\n",
       "      <td>0035w00003FVjVMAA1</td>\n",
       "      <td>7015w000001c7VXAAY</td>\n",
       "      <td>Sent</td>\n",
       "    </tr>\n",
       "  </tbody>\n",
       "</table>\n",
       "</div>"
      ],
      "text/plain": [
       "                   Email__c           ContactId          CampaignId  \\\n",
       "0  ashfiatullaila@gmail.com  0035w00003FVjVKAA1  7015w000001c7VXAAY   \n",
       "1        coloktgl@gmail.com  0035w00003FVjVMAA1  7015w000001c7VXAAY   \n",
       "\n",
       "  Campaign_Engagement__c  \n",
       "0                   Sent  \n",
       "1                   Sent  "
      ]
     },
     "metadata": {},
     "output_type": "display_data"
    },
    {
     "name": "stdout",
     "output_type": "stream",
     "text": [
      "15\n"
     ]
    },
    {
     "data": {
      "text/html": [
       "<div>\n",
       "<style scoped>\n",
       "    .dataframe tbody tr th:only-of-type {\n",
       "        vertical-align: middle;\n",
       "    }\n",
       "\n",
       "    .dataframe tbody tr th {\n",
       "        vertical-align: top;\n",
       "    }\n",
       "\n",
       "    .dataframe thead th {\n",
       "        text-align: right;\n",
       "    }\n",
       "</style>\n",
       "<table border=\"1\" class=\"dataframe\">\n",
       "  <thead>\n",
       "    <tr style=\"text-align: right;\">\n",
       "      <th></th>\n",
       "      <th>Email__c</th>\n",
       "      <th>ContactId</th>\n",
       "      <th>CampaignId</th>\n",
       "      <th>Campaign_Engagement__c</th>\n",
       "    </tr>\n",
       "  </thead>\n",
       "  <tbody>\n",
       "    <tr>\n",
       "      <th>0</th>\n",
       "      <td>eryn.gillam@gmail.com</td>\n",
       "      <td>0035w000034K6RUAA0</td>\n",
       "      <td>7015w000001c7VSAAY</td>\n",
       "      <td>Sent</td>\n",
       "    </tr>\n",
       "    <tr>\n",
       "      <th>1</th>\n",
       "      <td>nipadas373@gmail.com</td>\n",
       "      <td>0035w000034K6RVAA0</td>\n",
       "      <td>7015w000001c7VSAAY</td>\n",
       "      <td>Sent</td>\n",
       "    </tr>\n",
       "  </tbody>\n",
       "</table>\n",
       "</div>"
      ],
      "text/plain": [
       "                Email__c           ContactId          CampaignId  \\\n",
       "0  eryn.gillam@gmail.com  0035w000034K6RUAA0  7015w000001c7VSAAY   \n",
       "1   nipadas373@gmail.com  0035w000034K6RVAA0  7015w000001c7VSAAY   \n",
       "\n",
       "  Campaign_Engagement__c  \n",
       "0                   Sent  \n",
       "1                   Sent  "
      ]
     },
     "metadata": {},
     "output_type": "display_data"
    },
    {
     "name": "stdout",
     "output_type": "stream",
     "text": [
      "15\n"
     ]
    },
    {
     "data": {
      "text/html": [
       "<div>\n",
       "<style scoped>\n",
       "    .dataframe tbody tr th:only-of-type {\n",
       "        vertical-align: middle;\n",
       "    }\n",
       "\n",
       "    .dataframe tbody tr th {\n",
       "        vertical-align: top;\n",
       "    }\n",
       "\n",
       "    .dataframe thead th {\n",
       "        text-align: right;\n",
       "    }\n",
       "</style>\n",
       "<table border=\"1\" class=\"dataframe\">\n",
       "  <thead>\n",
       "    <tr style=\"text-align: right;\">\n",
       "      <th></th>\n",
       "      <th>Email__c</th>\n",
       "      <th>ContactId</th>\n",
       "      <th>CampaignId</th>\n",
       "      <th>Campaign_Engagement__c</th>\n",
       "    </tr>\n",
       "  </thead>\n",
       "  <tbody>\n",
       "    <tr>\n",
       "      <th>0</th>\n",
       "      <td>m.karthickraj2@gmail.com</td>\n",
       "      <td>0035w000034K6RaAAK</td>\n",
       "      <td>7015w000001c7Z1AAI</td>\n",
       "      <td>Sent</td>\n",
       "    </tr>\n",
       "    <tr>\n",
       "      <th>1</th>\n",
       "      <td>chongmaggie12@gmail.com</td>\n",
       "      <td>0035w000034JzYsAAK</td>\n",
       "      <td>7015w000001c7Z1AAI</td>\n",
       "      <td>Sent</td>\n",
       "    </tr>\n",
       "  </tbody>\n",
       "</table>\n",
       "</div>"
      ],
      "text/plain": [
       "                   Email__c           ContactId          CampaignId  \\\n",
       "0  m.karthickraj2@gmail.com  0035w000034K6RaAAK  7015w000001c7Z1AAI   \n",
       "1   chongmaggie12@gmail.com  0035w000034JzYsAAK  7015w000001c7Z1AAI   \n",
       "\n",
       "  Campaign_Engagement__c  \n",
       "0                   Sent  \n",
       "1                   Sent  "
      ]
     },
     "metadata": {},
     "output_type": "display_data"
    },
    {
     "name": "stdout",
     "output_type": "stream",
     "text": [
      "17\n"
     ]
    },
    {
     "data": {
      "text/html": [
       "<div>\n",
       "<style scoped>\n",
       "    .dataframe tbody tr th:only-of-type {\n",
       "        vertical-align: middle;\n",
       "    }\n",
       "\n",
       "    .dataframe tbody tr th {\n",
       "        vertical-align: top;\n",
       "    }\n",
       "\n",
       "    .dataframe thead th {\n",
       "        text-align: right;\n",
       "    }\n",
       "</style>\n",
       "<table border=\"1\" class=\"dataframe\">\n",
       "  <thead>\n",
       "    <tr style=\"text-align: right;\">\n",
       "      <th></th>\n",
       "      <th>Email__c</th>\n",
       "      <th>ContactId</th>\n",
       "      <th>CampaignId</th>\n",
       "      <th>Campaign_Engagement__c</th>\n",
       "    </tr>\n",
       "  </thead>\n",
       "  <tbody>\n",
       "    <tr>\n",
       "      <th>0</th>\n",
       "      <td>jiaht@student.unimelb.edu.au</td>\n",
       "      <td>0035w00003FVjVVAA1</td>\n",
       "      <td>7015w000001c7VhAAI</td>\n",
       "      <td>Sent</td>\n",
       "    </tr>\n",
       "    <tr>\n",
       "      <th>1</th>\n",
       "      <td>csc940218@gmail.com</td>\n",
       "      <td>0035w00003EDfgOAAT</td>\n",
       "      <td>7015w000001c7VhAAI</td>\n",
       "      <td>Sent</td>\n",
       "    </tr>\n",
       "  </tbody>\n",
       "</table>\n",
       "</div>"
      ],
      "text/plain": [
       "                       Email__c           ContactId          CampaignId  \\\n",
       "0  jiaht@student.unimelb.edu.au  0035w00003FVjVVAA1  7015w000001c7VhAAI   \n",
       "1           csc940218@gmail.com  0035w00003EDfgOAAT  7015w000001c7VhAAI   \n",
       "\n",
       "  Campaign_Engagement__c  \n",
       "0                   Sent  \n",
       "1                   Sent  "
      ]
     },
     "metadata": {},
     "output_type": "display_data"
    },
    {
     "name": "stdout",
     "output_type": "stream",
     "text": [
      "17\n"
     ]
    },
    {
     "data": {
      "text/html": [
       "<div>\n",
       "<style scoped>\n",
       "    .dataframe tbody tr th:only-of-type {\n",
       "        vertical-align: middle;\n",
       "    }\n",
       "\n",
       "    .dataframe tbody tr th {\n",
       "        vertical-align: top;\n",
       "    }\n",
       "\n",
       "    .dataframe thead th {\n",
       "        text-align: right;\n",
       "    }\n",
       "</style>\n",
       "<table border=\"1\" class=\"dataframe\">\n",
       "  <thead>\n",
       "    <tr style=\"text-align: right;\">\n",
       "      <th></th>\n",
       "      <th>Email__c</th>\n",
       "      <th>ContactId</th>\n",
       "      <th>CampaignId</th>\n",
       "      <th>Campaign_Engagement__c</th>\n",
       "    </tr>\n",
       "  </thead>\n",
       "  <tbody>\n",
       "    <tr>\n",
       "      <th>0</th>\n",
       "      <td>yudonghong1997@outlook.com</td>\n",
       "      <td>0035w00003FVjVpAAL</td>\n",
       "      <td>7015w000001c7VdAAI</td>\n",
       "      <td>Sent</td>\n",
       "    </tr>\n",
       "    <tr>\n",
       "      <th>1</th>\n",
       "      <td>walbercavs@gmail.com</td>\n",
       "      <td>0035w00003EDfg6AAD</td>\n",
       "      <td>7015w000001c7VdAAI</td>\n",
       "      <td>Sent</td>\n",
       "    </tr>\n",
       "  </tbody>\n",
       "</table>\n",
       "</div>"
      ],
      "text/plain": [
       "                     Email__c           ContactId          CampaignId  \\\n",
       "0  yudonghong1997@outlook.com  0035w00003FVjVpAAL  7015w000001c7VdAAI   \n",
       "1        walbercavs@gmail.com  0035w00003EDfg6AAD  7015w000001c7VdAAI   \n",
       "\n",
       "  Campaign_Engagement__c  \n",
       "0                   Sent  \n",
       "1                   Sent  "
      ]
     },
     "metadata": {},
     "output_type": "display_data"
    },
    {
     "name": "stdout",
     "output_type": "stream",
     "text": [
      "17\n"
     ]
    },
    {
     "data": {
      "text/html": [
       "<div>\n",
       "<style scoped>\n",
       "    .dataframe tbody tr th:only-of-type {\n",
       "        vertical-align: middle;\n",
       "    }\n",
       "\n",
       "    .dataframe tbody tr th {\n",
       "        vertical-align: top;\n",
       "    }\n",
       "\n",
       "    .dataframe thead th {\n",
       "        text-align: right;\n",
       "    }\n",
       "</style>\n",
       "<table border=\"1\" class=\"dataframe\">\n",
       "  <thead>\n",
       "    <tr style=\"text-align: right;\">\n",
       "      <th></th>\n",
       "      <th>Email__c</th>\n",
       "      <th>ContactId</th>\n",
       "      <th>CampaignId</th>\n",
       "      <th>Campaign_Engagement__c</th>\n",
       "    </tr>\n",
       "  </thead>\n",
       "  <tbody>\n",
       "    <tr>\n",
       "      <th>0</th>\n",
       "      <td>19030707@students.ltu.edu.au</td>\n",
       "      <td>0035w000034K0qUAAS</td>\n",
       "      <td>7015w000001c7VcAAI</td>\n",
       "      <td>Sent</td>\n",
       "    </tr>\n",
       "    <tr>\n",
       "      <th>1</th>\n",
       "      <td>fathimarufaitha1828@gmail.com</td>\n",
       "      <td>0035w000034K0zoAAC</td>\n",
       "      <td>7015w000001c7VcAAI</td>\n",
       "      <td>Sent</td>\n",
       "    </tr>\n",
       "  </tbody>\n",
       "</table>\n",
       "</div>"
      ],
      "text/plain": [
       "                        Email__c           ContactId          CampaignId  \\\n",
       "0   19030707@students.ltu.edu.au  0035w000034K0qUAAS  7015w000001c7VcAAI   \n",
       "1  fathimarufaitha1828@gmail.com  0035w000034K0zoAAC  7015w000001c7VcAAI   \n",
       "\n",
       "  Campaign_Engagement__c  \n",
       "0                   Sent  \n",
       "1                   Sent  "
      ]
     },
     "metadata": {},
     "output_type": "display_data"
    },
    {
     "name": "stdout",
     "output_type": "stream",
     "text": [
      "17\n"
     ]
    },
    {
     "data": {
      "text/html": [
       "<div>\n",
       "<style scoped>\n",
       "    .dataframe tbody tr th:only-of-type {\n",
       "        vertical-align: middle;\n",
       "    }\n",
       "\n",
       "    .dataframe tbody tr th {\n",
       "        vertical-align: top;\n",
       "    }\n",
       "\n",
       "    .dataframe thead th {\n",
       "        text-align: right;\n",
       "    }\n",
       "</style>\n",
       "<table border=\"1\" class=\"dataframe\">\n",
       "  <thead>\n",
       "    <tr style=\"text-align: right;\">\n",
       "      <th></th>\n",
       "      <th>Email__c</th>\n",
       "      <th>ContactId</th>\n",
       "      <th>CampaignId</th>\n",
       "      <th>Campaign_Engagement__c</th>\n",
       "    </tr>\n",
       "  </thead>\n",
       "  <tbody>\n",
       "    <tr>\n",
       "      <th>0</th>\n",
       "      <td>saurabhsharma.aue28@gmail.com</td>\n",
       "      <td>0035w000034JzYuAAK</td>\n",
       "      <td>7015w000001c7V5AAI</td>\n",
       "      <td>Sent</td>\n",
       "    </tr>\n",
       "    <tr>\n",
       "      <th>1</th>\n",
       "      <td>akw7uj@virginia.edu</td>\n",
       "      <td>0035w000034JzYxAAK</td>\n",
       "      <td>7015w000001c7V5AAI</td>\n",
       "      <td>Sent</td>\n",
       "    </tr>\n",
       "  </tbody>\n",
       "</table>\n",
       "</div>"
      ],
      "text/plain": [
       "                        Email__c           ContactId          CampaignId  \\\n",
       "0  saurabhsharma.aue28@gmail.com  0035w000034JzYuAAK  7015w000001c7V5AAI   \n",
       "1            akw7uj@virginia.edu  0035w000034JzYxAAK  7015w000001c7V5AAI   \n",
       "\n",
       "  Campaign_Engagement__c  \n",
       "0                   Sent  \n",
       "1                   Sent  "
      ]
     },
     "metadata": {},
     "output_type": "display_data"
    }
   ],
   "source": [
    "# process the data into SF compatible dataframes\n",
    "# then upload data to SF\n",
    "email_sent_original = os.listdir(cwd+'/Emails Sent - Stagnant Reports')\n",
    "for ind,val in enumerate(list(sent_match_indexes.keys())):\n",
    "    current_df = import_email_sent(email_sent_original[val],sent_match_indexes[val])\n",
    "    current_df = current_df.drop_duplicates()\n",
    "    ## upload to SF\n",
    "    db_e[ind].send_data(current_df,print_flag=False)\n",
    "    display(current_df.head(2))"
   ]
  },
  {
   "cell_type": "raw",
   "metadata": {},
   "source": [
    "#debug sections\n",
    "email_sent_original = os.listdir(cwd+'/Emails Sent - Stagnant Reports')\n",
    "lead_debug_df = import_email_sent(email_sent_original[7],sent_match_indexes[7])\n",
    "display(lead_debug_df.head(2))\n",
    "print(lead_debug_df.shape)\n",
    "display(lead_debug_df.tail(5))\n",
    "db_e[7].send_data(lead_debug_df)\n",
    "# check status\n",
    "db_e[7].check_bulk_status()\n",
    "from pprint import pprint\n",
    "\n",
    "pprint(db_e[7].check_bulk_failed_results())"
   ]
  },
  {
   "cell_type": "code",
   "execution_count": null,
   "metadata": {},
   "outputs": [],
   "source": []
  },
  {
   "cell_type": "code",
   "execution_count": null,
   "metadata": {},
   "outputs": [],
   "source": []
  },
  {
   "cell_type": "markdown",
   "metadata": {},
   "source": [
    "## Importing Email Open Lists"
   ]
  },
  {
   "cell_type": "code",
   "execution_count": 15,
   "metadata": {},
   "outputs": [
    {
     "name": "stdout",
     "output_type": "stream",
     "text": [
      "['C-noR_noA.csv', 'C-noR_noA_ReminderOpen.csv', 'C-R_noA.csv', 'C-R_noA_ReminderOpen.csv', 'Clo2d_sp_su_grA.csv', 'Clo2d_sp_su_grA_ReminderOpen.csv', 'Clo2d_sp_su_grB.csv', 'Clo2d_sp_su_grB_ReminderOpen.csv', 'C_A.csv', 'C_A_ReminderOpen.csv', 'C_Res_non_purdue.csv', 'C_Res_non_purdue_ReminderOpen.csv', 'C_Res_purdue.csv', 'C_Res_purdue_ReminderOpen.csv', 'L-A.csv', 'L-A_ReminderOpen.csv', 'L-R_noA.csv', 'L-R_noA_ReminderOpen.csv', 'U1d_fa_grA.csv', 'U1d_fa_grA_ReminderOpen.csv', 'U1d_fa_grB.csv', 'U1d_fa_grB_ReminderOpen.csv', 'U1d_sp_su_grA.csv', 'U1d_sp_su_grA_ReminderOpen.csv', 'U1d_sp_su_grB.csv', 'U1d_sp_su_grB_ReminderOpen.csv', 'U2_7d_fa_grA.csv', 'U2_7d_fa_grA_ReminderOpen.csv', 'U2_7d_fa_grB.csv', 'U2_7d_fa_grB_ReminderOpen.csv', 'U2_7d_sp_su_grA.csv', 'U2_7d_sp_su_grA_ReminderOpen.csv', 'U2_7d_sp_su_grB.csv', 'U2_7d_sp_su_grB_ReminderOpen.csv']\n"
     ]
    }
   ],
   "source": [
    "# show list of all email open lists\n",
    "print(os.listdir(cwd+'/Email Opens'))"
   ]
  },
  {
   "cell_type": "markdown",
   "metadata": {},
   "source": [
    "### match lists to campaigns"
   ]
  },
  {
   "cell_type": "code",
   "execution_count": 16,
   "metadata": {},
   "outputs": [
    {
     "name": "stdout",
     "output_type": "stream",
     "text": [
      "['C_noR_noA.csv', 'C_noR_noA_ReminderOpen.csv', 'C_R_noA.csv', 'C_R_noA_ReminderOpen.csv', 'Clo2d_sp_su_grA.csv', 'Clo2d_sp_su_grA_ReminderOpen.csv', 'Clo2d_sp_su_grB.csv', 'Clo2d_sp_su_grB_ReminderOpen.csv', 'C_A.csv', 'C_A_ReminderOpen.csv', 'C_Res_non_purdue.csv', 'C_Res_non_purdue_ReminderOpen.csv', 'C_Res_purdue.csv', 'C_Res_purdue_ReminderOpen.csv', 'L_A.csv', 'L_A_ReminderOpen.csv', 'L_R_noA.csv', 'L_R_noA_ReminderOpen.csv', 'U1d_fa_grA.csv', 'U1d_fa_grA_ReminderOpen.csv', 'U1d_fa_grB.csv', 'U1d_fa_grB_ReminderOpen.csv', 'U1d_sp_su_grA.csv', 'U1d_sp_su_grA_ReminderOpen.csv', 'U1d_sp_su_grB.csv', 'U1d_sp_su_grB_ReminderOpen.csv', 'U2_7d_fa_grA.csv', 'U2_7d_fa_grA_ReminderOpen.csv', 'U2_7d_fa_grB.csv', 'U2_7d_fa_grB_ReminderOpen.csv', 'U2_7d_sp_su_grA.csv', 'U2_7d_sp_su_grA_ReminderOpen.csv', 'U2_7d_sp_su_grB.csv', 'U2_7d_sp_su_grB_ReminderOpen.csv']\n"
     ]
    }
   ],
   "source": [
    "email_opens = os.listdir(cwd+'/Email Opens')\n",
    "for i,j in enumerate(email_opens):\n",
    "    email_opens[i] = j.replace('-','_')\n",
    "print(email_opens)"
   ]
  },
  {
   "cell_type": "code",
   "execution_count": 17,
   "metadata": {},
   "outputs": [
    {
     "name": "stdout",
     "output_type": "stream",
     "text": [
      "C_noR_noA_ReminderOpen.csv\n",
      "C_R_noA_ReminderOpen.csv\n",
      "Clo2d_sp_su_grA_ReminderOpen.csv\n",
      "Clo2d_sp_su_grB_ReminderOpen.csv\n",
      "C_A_ReminderOpen.csv\n",
      "C_Res_non_purdue_ReminderOpen.csv\n",
      "C_Res_purdue_ReminderOpen.csv\n",
      "L_A_ReminderOpen.csv\n",
      "L_R_noA_ReminderOpen.csv\n",
      "U1d_fa_grA_ReminderOpen.csv\n",
      "U1d_fa_grB_ReminderOpen.csv\n",
      "U1d_sp_su_grA_ReminderOpen.csv\n",
      "U1d_sp_su_grB_ReminderOpen.csv\n",
      "U2_7d_fa_grA_ReminderOpen.csv\n",
      "U2_7d_fa_grB_ReminderOpen.csv\n",
      "U2_7d_sp_su_grA_ReminderOpen.csv\n",
      "U2_7d_sp_su_grB_ReminderOpen.csv\n"
     ]
    }
   ],
   "source": [
    "# match email open filenames to campaign names\n",
    "match_indexes = {} #key:index => index of email_opens: compaign ID\n",
    "for i,j in enumerate(email_opens):\n",
    "    j_temp = camp_hierarchy+j[:-4]\n",
    "    if j_temp in camp_names['Name'].to_list():\n",
    "        match_indexes[i] = camp_names['Id'][camp_names['Name'].to_list().index(j_temp)]\n",
    "    else:\n",
    "        print(j)\n",
    "## reminderOpen gets joined"
   ]
  },
  {
   "cell_type": "code",
   "execution_count": 18,
   "metadata": {},
   "outputs": [
    {
     "name": "stdout",
     "output_type": "stream",
     "text": [
      "{0: '7015w000001c7VDAAY', 2: '7015w000001c7VIAAY', 4: '7015w000001c7VJAAY', 6: '7015w000001c7VKAAY', 8: '7015w000001c7VNAAY', 10: '7015w000001c7VmAAI', 12: '7015w000001c7VrAAI', 14: '7015w000001c7V8AAI', 16: '7015w000001c7V4AAI', 18: '7015w000001c7YwAAI', 20: '7015w000001c7VXAAY', 22: '7015w000001c7VSAAY', 24: '7015w000001c7Z1AAI', 26: '7015w000001c7VhAAI', 28: '7015w000001c7VdAAI', 30: '7015w000001c7VcAAI', 32: '7015w000001c7V5AAI'}\n"
     ]
    }
   ],
   "source": [
    "print(match_indexes)"
   ]
  },
  {
   "cell_type": "markdown",
   "metadata": {},
   "source": [
    "### Sequential import"
   ]
  },
  {
   "cell_type": "code",
   "execution_count": 19,
   "metadata": {},
   "outputs": [],
   "source": [
    "#function email imports\n",
    "def import_email_open(filename,camp_id):\n",
    "    reminder_fn = filename[:-4]+'_ReminderOpen.csv'\n",
    "    #import data\n",
    "    opened_df = pd.read_csv(cwd+'/Email Opens/'+filename)\n",
    "    ropened_df = pd.read_csv(cwd+'/Email Opens/'+reminder_fn)\n",
    "    \n",
    "    ##extract cols\n",
    "    #contact vs leads\n",
    "    if 'L-' in filename or 'L_' in filename: #then assume its a lead\n",
    "        opened_df = opened_df[['Subscriber Key','Email Address']].rename(columns={'Subscriber Key':'LeadId',\\\n",
    "                                                                              'Email Address':'Email__c'})\n",
    "        ropened_df = ropened_df[['Subscriber Key','Email Address']].rename(columns={'Subscriber Key':'LeadId',\\\n",
    "                                                                              'Email Address':'Email__c'})\n",
    "    else:\n",
    "        opened_df = opened_df[['Subscriber Key','Email Address']].rename(columns={'Subscriber Key':'ContactId',\\\n",
    "                                                                              'Email Address':'Email__c'})\n",
    "        ropened_df = ropened_df[['Subscriber Key','Email Address']].rename(columns={'Subscriber Key':'ContactId',\\\n",
    "                                                                              'Email Address':'Email__c'})\n",
    "    #concatenate\n",
    "    ovr_df = pd.concat([opened_df,ropened_df],ignore_index=True)\n",
    "    \n",
    "    #populate campaign name/id, campaign engagement\n",
    "    ovr_df['CampaignId'] = camp_id\n",
    "    ovr_df['Campaign_Engagement__c'] = 0 #placehold for replacement\n",
    "\n",
    "    ovr_df.iloc[:opened_df.shape[0],-1] = 'Sent;Opened'\n",
    "    ovr_df.iloc[opened_df.shape[0]:,-1] = 'Sent;Reminder Opened'\n",
    "    \n",
    "    return ovr_df"
   ]
  },
  {
   "cell_type": "raw",
   "metadata": {},
   "source": [
    "### code has already been run in the Email Sent importing\n",
    "### To save memory, not mapping new objects\n",
    "import time\n",
    "#create enough DB2salesforceAPI objects to handle synchronous loading\n",
    "db_eo = []\n",
    "from DB2SalesforceAPI import DB2SalesforceAPI\n",
    "for i in range(len(match_indexes.keys())):\n",
    "    db_eo.append(DB2SalesforceAPI(sf_login_params)) #email_open\n",
    "    db_eo[i].object_id = 'CampaignMember'\n",
    "    db_eo[i].external_id = 'Email__c'"
   ]
  },
  {
   "cell_type": "code",
   "execution_count": 20,
   "metadata": {},
   "outputs": [
    {
     "data": {
      "text/html": [
       "<div>\n",
       "<style scoped>\n",
       "    .dataframe tbody tr th:only-of-type {\n",
       "        vertical-align: middle;\n",
       "    }\n",
       "\n",
       "    .dataframe tbody tr th {\n",
       "        vertical-align: top;\n",
       "    }\n",
       "\n",
       "    .dataframe thead th {\n",
       "        text-align: right;\n",
       "    }\n",
       "</style>\n",
       "<table border=\"1\" class=\"dataframe\">\n",
       "  <thead>\n",
       "    <tr style=\"text-align: right;\">\n",
       "      <th></th>\n",
       "      <th>ContactId</th>\n",
       "      <th>Email__c</th>\n",
       "      <th>CampaignId</th>\n",
       "      <th>Campaign_Engagement__c</th>\n",
       "    </tr>\n",
       "  </thead>\n",
       "  <tbody>\n",
       "    <tr>\n",
       "      <th>0</th>\n",
       "      <td>0035w000034IrZVAA0</td>\n",
       "      <td>najes.riaz@hotmail.com</td>\n",
       "      <td>7015w000001c7VDAAY</td>\n",
       "      <td>Sent;Opened</td>\n",
       "    </tr>\n",
       "    <tr>\n",
       "      <th>1</th>\n",
       "      <td>0035w000034IsRyAAK</td>\n",
       "      <td>godguo@ucdavis.edu</td>\n",
       "      <td>7015w000001c7VDAAY</td>\n",
       "      <td>Sent;Opened</td>\n",
       "    </tr>\n",
       "  </tbody>\n",
       "</table>\n",
       "</div>"
      ],
      "text/plain": [
       "            ContactId                Email__c          CampaignId  \\\n",
       "0  0035w000034IrZVAA0  najes.riaz@hotmail.com  7015w000001c7VDAAY   \n",
       "1  0035w000034IsRyAAK      godguo@ucdavis.edu  7015w000001c7VDAAY   \n",
       "\n",
       "  Campaign_Engagement__c  \n",
       "0            Sent;Opened  \n",
       "1            Sent;Opened  "
      ]
     },
     "metadata": {},
     "output_type": "display_data"
    },
    {
     "data": {
      "text/html": [
       "<div>\n",
       "<style scoped>\n",
       "    .dataframe tbody tr th:only-of-type {\n",
       "        vertical-align: middle;\n",
       "    }\n",
       "\n",
       "    .dataframe tbody tr th {\n",
       "        vertical-align: top;\n",
       "    }\n",
       "\n",
       "    .dataframe thead th {\n",
       "        text-align: right;\n",
       "    }\n",
       "</style>\n",
       "<table border=\"1\" class=\"dataframe\">\n",
       "  <thead>\n",
       "    <tr style=\"text-align: right;\">\n",
       "      <th></th>\n",
       "      <th>ContactId</th>\n",
       "      <th>Email__c</th>\n",
       "      <th>CampaignId</th>\n",
       "      <th>Campaign_Engagement__c</th>\n",
       "    </tr>\n",
       "  </thead>\n",
       "  <tbody>\n",
       "    <tr>\n",
       "      <th>0</th>\n",
       "      <td>0035w000031Vut3AAC</td>\n",
       "      <td>shreyas.honrao@gmail.com</td>\n",
       "      <td>7015w000001c7VIAAY</td>\n",
       "      <td>Sent;Opened</td>\n",
       "    </tr>\n",
       "    <tr>\n",
       "      <th>1</th>\n",
       "      <td>0035w000031VzpjAAC</td>\n",
       "      <td>roberto@uniovi.es</td>\n",
       "      <td>7015w000001c7VIAAY</td>\n",
       "      <td>Sent;Opened</td>\n",
       "    </tr>\n",
       "  </tbody>\n",
       "</table>\n",
       "</div>"
      ],
      "text/plain": [
       "            ContactId                  Email__c          CampaignId  \\\n",
       "0  0035w000031Vut3AAC  shreyas.honrao@gmail.com  7015w000001c7VIAAY   \n",
       "1  0035w000031VzpjAAC         roberto@uniovi.es  7015w000001c7VIAAY   \n",
       "\n",
       "  Campaign_Engagement__c  \n",
       "0            Sent;Opened  \n",
       "1            Sent;Opened  "
      ]
     },
     "metadata": {},
     "output_type": "display_data"
    },
    {
     "data": {
      "text/html": [
       "<div>\n",
       "<style scoped>\n",
       "    .dataframe tbody tr th:only-of-type {\n",
       "        vertical-align: middle;\n",
       "    }\n",
       "\n",
       "    .dataframe tbody tr th {\n",
       "        vertical-align: top;\n",
       "    }\n",
       "\n",
       "    .dataframe thead th {\n",
       "        text-align: right;\n",
       "    }\n",
       "</style>\n",
       "<table border=\"1\" class=\"dataframe\">\n",
       "  <thead>\n",
       "    <tr style=\"text-align: right;\">\n",
       "      <th></th>\n",
       "      <th>ContactId</th>\n",
       "      <th>Email__c</th>\n",
       "      <th>CampaignId</th>\n",
       "      <th>Campaign_Engagement__c</th>\n",
       "    </tr>\n",
       "  </thead>\n",
       "  <tbody>\n",
       "    <tr>\n",
       "      <th>0</th>\n",
       "      <td>0035w000034JzozAAC</td>\n",
       "      <td>pjhen99@gmail.com</td>\n",
       "      <td>7015w000001c7VJAAY</td>\n",
       "      <td>Sent;Opened</td>\n",
       "    </tr>\n",
       "    <tr>\n",
       "      <th>1</th>\n",
       "      <td>0035w000034K0aPAAS</td>\n",
       "      <td>lowe77.purdue@gmail.com</td>\n",
       "      <td>7015w000001c7VJAAY</td>\n",
       "      <td>Sent;Opened</td>\n",
       "    </tr>\n",
       "  </tbody>\n",
       "</table>\n",
       "</div>"
      ],
      "text/plain": [
       "            ContactId                 Email__c          CampaignId  \\\n",
       "0  0035w000034JzozAAC        pjhen99@gmail.com  7015w000001c7VJAAY   \n",
       "1  0035w000034K0aPAAS  lowe77.purdue@gmail.com  7015w000001c7VJAAY   \n",
       "\n",
       "  Campaign_Engagement__c  \n",
       "0            Sent;Opened  \n",
       "1            Sent;Opened  "
      ]
     },
     "metadata": {},
     "output_type": "display_data"
    },
    {
     "data": {
      "text/html": [
       "<div>\n",
       "<style scoped>\n",
       "    .dataframe tbody tr th:only-of-type {\n",
       "        vertical-align: middle;\n",
       "    }\n",
       "\n",
       "    .dataframe tbody tr th {\n",
       "        vertical-align: top;\n",
       "    }\n",
       "\n",
       "    .dataframe thead th {\n",
       "        text-align: right;\n",
       "    }\n",
       "</style>\n",
       "<table border=\"1\" class=\"dataframe\">\n",
       "  <thead>\n",
       "    <tr style=\"text-align: right;\">\n",
       "      <th></th>\n",
       "      <th>ContactId</th>\n",
       "      <th>Email__c</th>\n",
       "      <th>CampaignId</th>\n",
       "      <th>Campaign_Engagement__c</th>\n",
       "    </tr>\n",
       "  </thead>\n",
       "  <tbody>\n",
       "    <tr>\n",
       "      <th>0</th>\n",
       "      <td>0035w000034IpwxAAC</td>\n",
       "      <td>alan5189100@gmail.com</td>\n",
       "      <td>7015w000001c7VKAAY</td>\n",
       "      <td>Sent;Opened</td>\n",
       "    </tr>\n",
       "    <tr>\n",
       "      <th>1</th>\n",
       "      <td>0035w000034IqwFAAS</td>\n",
       "      <td>yuchuw@umich.edu</td>\n",
       "      <td>7015w000001c7VKAAY</td>\n",
       "      <td>Sent;Opened</td>\n",
       "    </tr>\n",
       "  </tbody>\n",
       "</table>\n",
       "</div>"
      ],
      "text/plain": [
       "            ContactId               Email__c          CampaignId  \\\n",
       "0  0035w000034IpwxAAC  alan5189100@gmail.com  7015w000001c7VKAAY   \n",
       "1  0035w000034IqwFAAS       yuchuw@umich.edu  7015w000001c7VKAAY   \n",
       "\n",
       "  Campaign_Engagement__c  \n",
       "0            Sent;Opened  \n",
       "1            Sent;Opened  "
      ]
     },
     "metadata": {},
     "output_type": "display_data"
    },
    {
     "data": {
      "text/html": [
       "<div>\n",
       "<style scoped>\n",
       "    .dataframe tbody tr th:only-of-type {\n",
       "        vertical-align: middle;\n",
       "    }\n",
       "\n",
       "    .dataframe tbody tr th {\n",
       "        vertical-align: top;\n",
       "    }\n",
       "\n",
       "    .dataframe thead th {\n",
       "        text-align: right;\n",
       "    }\n",
       "</style>\n",
       "<table border=\"1\" class=\"dataframe\">\n",
       "  <thead>\n",
       "    <tr style=\"text-align: right;\">\n",
       "      <th></th>\n",
       "      <th>ContactId</th>\n",
       "      <th>Email__c</th>\n",
       "      <th>CampaignId</th>\n",
       "      <th>Campaign_Engagement__c</th>\n",
       "    </tr>\n",
       "  </thead>\n",
       "  <tbody>\n",
       "    <tr>\n",
       "      <th>0</th>\n",
       "      <td>0035w000031VuidAAC</td>\n",
       "      <td>goranka.bilalbegovic@gmail.com</td>\n",
       "      <td>7015w000001c7VNAAY</td>\n",
       "      <td>Sent;Opened</td>\n",
       "    </tr>\n",
       "    <tr>\n",
       "      <th>1</th>\n",
       "      <td>0035w000031VzBxAAK</td>\n",
       "      <td>bishnoi@ieee.org</td>\n",
       "      <td>7015w000001c7VNAAY</td>\n",
       "      <td>Sent;Opened</td>\n",
       "    </tr>\n",
       "  </tbody>\n",
       "</table>\n",
       "</div>"
      ],
      "text/plain": [
       "            ContactId                        Email__c          CampaignId  \\\n",
       "0  0035w000031VuidAAC  goranka.bilalbegovic@gmail.com  7015w000001c7VNAAY   \n",
       "1  0035w000031VzBxAAK                bishnoi@ieee.org  7015w000001c7VNAAY   \n",
       "\n",
       "  Campaign_Engagement__c  \n",
       "0            Sent;Opened  \n",
       "1            Sent;Opened  "
      ]
     },
     "metadata": {},
     "output_type": "display_data"
    },
    {
     "data": {
      "text/html": [
       "<div>\n",
       "<style scoped>\n",
       "    .dataframe tbody tr th:only-of-type {\n",
       "        vertical-align: middle;\n",
       "    }\n",
       "\n",
       "    .dataframe tbody tr th {\n",
       "        vertical-align: top;\n",
       "    }\n",
       "\n",
       "    .dataframe thead th {\n",
       "        text-align: right;\n",
       "    }\n",
       "</style>\n",
       "<table border=\"1\" class=\"dataframe\">\n",
       "  <thead>\n",
       "    <tr style=\"text-align: right;\">\n",
       "      <th></th>\n",
       "      <th>ContactId</th>\n",
       "      <th>Email__c</th>\n",
       "      <th>CampaignId</th>\n",
       "      <th>Campaign_Engagement__c</th>\n",
       "    </tr>\n",
       "  </thead>\n",
       "  <tbody>\n",
       "    <tr>\n",
       "      <th>0</th>\n",
       "      <td>0035w000031VvGmAAK</td>\n",
       "      <td>etoberer@gmail.com</td>\n",
       "      <td>7015w000001c7VmAAI</td>\n",
       "      <td>Sent;Opened</td>\n",
       "    </tr>\n",
       "    <tr>\n",
       "      <th>1</th>\n",
       "      <td>0035w000031VyCiAAK</td>\n",
       "      <td>chenyang17@163.com</td>\n",
       "      <td>7015w000001c7VmAAI</td>\n",
       "      <td>Sent;Opened</td>\n",
       "    </tr>\n",
       "  </tbody>\n",
       "</table>\n",
       "</div>"
      ],
      "text/plain": [
       "            ContactId            Email__c          CampaignId  \\\n",
       "0  0035w000031VvGmAAK  etoberer@gmail.com  7015w000001c7VmAAI   \n",
       "1  0035w000031VyCiAAK  chenyang17@163.com  7015w000001c7VmAAI   \n",
       "\n",
       "  Campaign_Engagement__c  \n",
       "0            Sent;Opened  \n",
       "1            Sent;Opened  "
      ]
     },
     "metadata": {},
     "output_type": "display_data"
    },
    {
     "data": {
      "text/html": [
       "<div>\n",
       "<style scoped>\n",
       "    .dataframe tbody tr th:only-of-type {\n",
       "        vertical-align: middle;\n",
       "    }\n",
       "\n",
       "    .dataframe tbody tr th {\n",
       "        vertical-align: top;\n",
       "    }\n",
       "\n",
       "    .dataframe thead th {\n",
       "        text-align: right;\n",
       "    }\n",
       "</style>\n",
       "<table border=\"1\" class=\"dataframe\">\n",
       "  <thead>\n",
       "    <tr style=\"text-align: right;\">\n",
       "      <th></th>\n",
       "      <th>ContactId</th>\n",
       "      <th>Email__c</th>\n",
       "      <th>CampaignId</th>\n",
       "      <th>Campaign_Engagement__c</th>\n",
       "    </tr>\n",
       "  </thead>\n",
       "  <tbody>\n",
       "    <tr>\n",
       "      <th>0</th>\n",
       "      <td>0035w000034JExJAAW</td>\n",
       "      <td>elelg@nus.edu.sg</td>\n",
       "      <td>7015w000001c7VrAAI</td>\n",
       "      <td>Sent;Opened</td>\n",
       "    </tr>\n",
       "    <tr>\n",
       "      <th>1</th>\n",
       "      <td>0035w000034JFnHAAW</td>\n",
       "      <td>dxu@cs.purdue.edu</td>\n",
       "      <td>7015w000001c7VrAAI</td>\n",
       "      <td>Sent;Opened</td>\n",
       "    </tr>\n",
       "  </tbody>\n",
       "</table>\n",
       "</div>"
      ],
      "text/plain": [
       "            ContactId           Email__c          CampaignId  \\\n",
       "0  0035w000034JExJAAW   elelg@nus.edu.sg  7015w000001c7VrAAI   \n",
       "1  0035w000034JFnHAAW  dxu@cs.purdue.edu  7015w000001c7VrAAI   \n",
       "\n",
       "  Campaign_Engagement__c  \n",
       "0            Sent;Opened  \n",
       "1            Sent;Opened  "
      ]
     },
     "metadata": {},
     "output_type": "display_data"
    },
    {
     "data": {
      "text/html": [
       "<div>\n",
       "<style scoped>\n",
       "    .dataframe tbody tr th:only-of-type {\n",
       "        vertical-align: middle;\n",
       "    }\n",
       "\n",
       "    .dataframe tbody tr th {\n",
       "        vertical-align: top;\n",
       "    }\n",
       "\n",
       "    .dataframe thead th {\n",
       "        text-align: right;\n",
       "    }\n",
       "</style>\n",
       "<table border=\"1\" class=\"dataframe\">\n",
       "  <thead>\n",
       "    <tr style=\"text-align: right;\">\n",
       "      <th></th>\n",
       "      <th>LeadId</th>\n",
       "      <th>Email__c</th>\n",
       "      <th>CampaignId</th>\n",
       "      <th>Campaign_Engagement__c</th>\n",
       "    </tr>\n",
       "  </thead>\n",
       "  <tbody>\n",
       "    <tr>\n",
       "      <th>0</th>\n",
       "      <td>00Q5w00001tLZacEAG</td>\n",
       "      <td>sp1709@scarletmail.rutgers.edu</td>\n",
       "      <td>7015w000001c7V8AAI</td>\n",
       "      <td>Sent;Opened</td>\n",
       "    </tr>\n",
       "    <tr>\n",
       "      <th>1</th>\n",
       "      <td>00Q5w00001tLZbWEAW</td>\n",
       "      <td>bensonhar50@gmail.com</td>\n",
       "      <td>7015w000001c7V8AAI</td>\n",
       "      <td>Sent;Opened</td>\n",
       "    </tr>\n",
       "  </tbody>\n",
       "</table>\n",
       "</div>"
      ],
      "text/plain": [
       "               LeadId                        Email__c          CampaignId  \\\n",
       "0  00Q5w00001tLZacEAG  sp1709@scarletmail.rutgers.edu  7015w000001c7V8AAI   \n",
       "1  00Q5w00001tLZbWEAW           bensonhar50@gmail.com  7015w000001c7V8AAI   \n",
       "\n",
       "  Campaign_Engagement__c  \n",
       "0            Sent;Opened  \n",
       "1            Sent;Opened  "
      ]
     },
     "metadata": {},
     "output_type": "display_data"
    },
    {
     "data": {
      "text/html": [
       "<div>\n",
       "<style scoped>\n",
       "    .dataframe tbody tr th:only-of-type {\n",
       "        vertical-align: middle;\n",
       "    }\n",
       "\n",
       "    .dataframe tbody tr th {\n",
       "        vertical-align: top;\n",
       "    }\n",
       "\n",
       "    .dataframe thead th {\n",
       "        text-align: right;\n",
       "    }\n",
       "</style>\n",
       "<table border=\"1\" class=\"dataframe\">\n",
       "  <thead>\n",
       "    <tr style=\"text-align: right;\">\n",
       "      <th></th>\n",
       "      <th>LeadId</th>\n",
       "      <th>Email__c</th>\n",
       "      <th>CampaignId</th>\n",
       "      <th>Campaign_Engagement__c</th>\n",
       "    </tr>\n",
       "  </thead>\n",
       "  <tbody>\n",
       "    <tr>\n",
       "      <th>0</th>\n",
       "      <td>00Q5w00001tLZamEAG</td>\n",
       "      <td>tdebn001@ucr.edu</td>\n",
       "      <td>7015w000001c7V4AAI</td>\n",
       "      <td>Sent;Opened</td>\n",
       "    </tr>\n",
       "    <tr>\n",
       "      <th>1</th>\n",
       "      <td>00Q5w00001tLZbfEAG</td>\n",
       "      <td>heldervcs@gmail.com</td>\n",
       "      <td>7015w000001c7V4AAI</td>\n",
       "      <td>Sent;Opened</td>\n",
       "    </tr>\n",
       "  </tbody>\n",
       "</table>\n",
       "</div>"
      ],
      "text/plain": [
       "               LeadId             Email__c          CampaignId  \\\n",
       "0  00Q5w00001tLZamEAG     tdebn001@ucr.edu  7015w000001c7V4AAI   \n",
       "1  00Q5w00001tLZbfEAG  heldervcs@gmail.com  7015w000001c7V4AAI   \n",
       "\n",
       "  Campaign_Engagement__c  \n",
       "0            Sent;Opened  \n",
       "1            Sent;Opened  "
      ]
     },
     "metadata": {},
     "output_type": "display_data"
    },
    {
     "data": {
      "text/html": [
       "<div>\n",
       "<style scoped>\n",
       "    .dataframe tbody tr th:only-of-type {\n",
       "        vertical-align: middle;\n",
       "    }\n",
       "\n",
       "    .dataframe tbody tr th {\n",
       "        vertical-align: top;\n",
       "    }\n",
       "\n",
       "    .dataframe thead th {\n",
       "        text-align: right;\n",
       "    }\n",
       "</style>\n",
       "<table border=\"1\" class=\"dataframe\">\n",
       "  <thead>\n",
       "    <tr style=\"text-align: right;\">\n",
       "      <th></th>\n",
       "      <th>ContactId</th>\n",
       "      <th>Email__c</th>\n",
       "      <th>CampaignId</th>\n",
       "      <th>Campaign_Engagement__c</th>\n",
       "    </tr>\n",
       "  </thead>\n",
       "  <tbody>\n",
       "    <tr>\n",
       "      <th>0</th>\n",
       "      <td>0035w00003EDfg1AAD</td>\n",
       "      <td>201701089@daiict.ac.in</td>\n",
       "      <td>7015w000001c7YwAAI</td>\n",
       "      <td>Sent;Opened</td>\n",
       "    </tr>\n",
       "    <tr>\n",
       "      <th>1</th>\n",
       "      <td>0035w00003EDfgLAAT</td>\n",
       "      <td>liu_yanling2020@163.com</td>\n",
       "      <td>7015w000001c7YwAAI</td>\n",
       "      <td>Sent;Opened</td>\n",
       "    </tr>\n",
       "  </tbody>\n",
       "</table>\n",
       "</div>"
      ],
      "text/plain": [
       "            ContactId                 Email__c          CampaignId  \\\n",
       "0  0035w00003EDfg1AAD   201701089@daiict.ac.in  7015w000001c7YwAAI   \n",
       "1  0035w00003EDfgLAAT  liu_yanling2020@163.com  7015w000001c7YwAAI   \n",
       "\n",
       "  Campaign_Engagement__c  \n",
       "0            Sent;Opened  \n",
       "1            Sent;Opened  "
      ]
     },
     "metadata": {},
     "output_type": "display_data"
    },
    {
     "data": {
      "text/html": [
       "<div>\n",
       "<style scoped>\n",
       "    .dataframe tbody tr th:only-of-type {\n",
       "        vertical-align: middle;\n",
       "    }\n",
       "\n",
       "    .dataframe tbody tr th {\n",
       "        vertical-align: top;\n",
       "    }\n",
       "\n",
       "    .dataframe thead th {\n",
       "        text-align: right;\n",
       "    }\n",
       "</style>\n",
       "<table border=\"1\" class=\"dataframe\">\n",
       "  <thead>\n",
       "    <tr style=\"text-align: right;\">\n",
       "      <th></th>\n",
       "      <th>ContactId</th>\n",
       "      <th>Email__c</th>\n",
       "      <th>CampaignId</th>\n",
       "      <th>Campaign_Engagement__c</th>\n",
       "    </tr>\n",
       "  </thead>\n",
       "  <tbody>\n",
       "    <tr>\n",
       "      <th>0</th>\n",
       "      <td>0035w00003DCBfkAAH</td>\n",
       "      <td>shrinath.s@somaiya.edu</td>\n",
       "      <td>7015w000001c7VXAAY</td>\n",
       "      <td>Sent;Opened</td>\n",
       "    </tr>\n",
       "    <tr>\n",
       "      <th>1</th>\n",
       "      <td>0035w00003ECPbCAAX</td>\n",
       "      <td>syahrul.fachrudin@mail.ugm.ac.id</td>\n",
       "      <td>7015w000001c7VXAAY</td>\n",
       "      <td>Sent;Opened</td>\n",
       "    </tr>\n",
       "  </tbody>\n",
       "</table>\n",
       "</div>"
      ],
      "text/plain": [
       "            ContactId                          Email__c          CampaignId  \\\n",
       "0  0035w00003DCBfkAAH            shrinath.s@somaiya.edu  7015w000001c7VXAAY   \n",
       "1  0035w00003ECPbCAAX  syahrul.fachrudin@mail.ugm.ac.id  7015w000001c7VXAAY   \n",
       "\n",
       "  Campaign_Engagement__c  \n",
       "0            Sent;Opened  \n",
       "1            Sent;Opened  "
      ]
     },
     "metadata": {},
     "output_type": "display_data"
    },
    {
     "data": {
      "text/html": [
       "<div>\n",
       "<style scoped>\n",
       "    .dataframe tbody tr th:only-of-type {\n",
       "        vertical-align: middle;\n",
       "    }\n",
       "\n",
       "    .dataframe tbody tr th {\n",
       "        vertical-align: top;\n",
       "    }\n",
       "\n",
       "    .dataframe thead th {\n",
       "        text-align: right;\n",
       "    }\n",
       "</style>\n",
       "<table border=\"1\" class=\"dataframe\">\n",
       "  <thead>\n",
       "    <tr style=\"text-align: right;\">\n",
       "      <th></th>\n",
       "      <th>ContactId</th>\n",
       "      <th>Email__c</th>\n",
       "      <th>CampaignId</th>\n",
       "      <th>Campaign_Engagement__c</th>\n",
       "    </tr>\n",
       "  </thead>\n",
       "  <tbody>\n",
       "    <tr>\n",
       "      <th>0</th>\n",
       "      <td>0035w00003BRU0fAAH</td>\n",
       "      <td>el.barny.ono@gmail.com</td>\n",
       "      <td>7015w000001c7VSAAY</td>\n",
       "      <td>Sent;Opened</td>\n",
       "    </tr>\n",
       "    <tr>\n",
       "      <th>1</th>\n",
       "      <td>0035w00003BRU5KAAX</td>\n",
       "      <td>volodymyr.minkevych.an.2017@lpnu.ua</td>\n",
       "      <td>7015w000001c7VSAAY</td>\n",
       "      <td>Sent;Opened</td>\n",
       "    </tr>\n",
       "  </tbody>\n",
       "</table>\n",
       "</div>"
      ],
      "text/plain": [
       "            ContactId                             Email__c  \\\n",
       "0  0035w00003BRU0fAAH               el.barny.ono@gmail.com   \n",
       "1  0035w00003BRU5KAAX  volodymyr.minkevych.an.2017@lpnu.ua   \n",
       "\n",
       "           CampaignId Campaign_Engagement__c  \n",
       "0  7015w000001c7VSAAY            Sent;Opened  \n",
       "1  7015w000001c7VSAAY            Sent;Opened  "
      ]
     },
     "metadata": {},
     "output_type": "display_data"
    },
    {
     "data": {
      "text/html": [
       "<div>\n",
       "<style scoped>\n",
       "    .dataframe tbody tr th:only-of-type {\n",
       "        vertical-align: middle;\n",
       "    }\n",
       "\n",
       "    .dataframe tbody tr th {\n",
       "        vertical-align: top;\n",
       "    }\n",
       "\n",
       "    .dataframe thead th {\n",
       "        text-align: right;\n",
       "    }\n",
       "</style>\n",
       "<table border=\"1\" class=\"dataframe\">\n",
       "  <thead>\n",
       "    <tr style=\"text-align: right;\">\n",
       "      <th></th>\n",
       "      <th>ContactId</th>\n",
       "      <th>Email__c</th>\n",
       "      <th>CampaignId</th>\n",
       "      <th>Campaign_Engagement__c</th>\n",
       "    </tr>\n",
       "  </thead>\n",
       "  <tbody>\n",
       "    <tr>\n",
       "      <th>0</th>\n",
       "      <td>0035w000034Ip2wAAC</td>\n",
       "      <td>ooloba-whenu@unilag.edu.ng</td>\n",
       "      <td>7015w000001c7Z1AAI</td>\n",
       "      <td>Sent;Opened</td>\n",
       "    </tr>\n",
       "    <tr>\n",
       "      <th>1</th>\n",
       "      <td>0035w000034Ip2yAAC</td>\n",
       "      <td>elnajja2@illinois.edu</td>\n",
       "      <td>7015w000001c7Z1AAI</td>\n",
       "      <td>Sent;Opened</td>\n",
       "    </tr>\n",
       "  </tbody>\n",
       "</table>\n",
       "</div>"
      ],
      "text/plain": [
       "            ContactId                    Email__c          CampaignId  \\\n",
       "0  0035w000034Ip2wAAC  ooloba-whenu@unilag.edu.ng  7015w000001c7Z1AAI   \n",
       "1  0035w000034Ip2yAAC       elnajja2@illinois.edu  7015w000001c7Z1AAI   \n",
       "\n",
       "  Campaign_Engagement__c  \n",
       "0            Sent;Opened  \n",
       "1            Sent;Opened  "
      ]
     },
     "metadata": {},
     "output_type": "display_data"
    },
    {
     "data": {
      "text/html": [
       "<div>\n",
       "<style scoped>\n",
       "    .dataframe tbody tr th:only-of-type {\n",
       "        vertical-align: middle;\n",
       "    }\n",
       "\n",
       "    .dataframe tbody tr th {\n",
       "        vertical-align: top;\n",
       "    }\n",
       "\n",
       "    .dataframe thead th {\n",
       "        text-align: right;\n",
       "    }\n",
       "</style>\n",
       "<table border=\"1\" class=\"dataframe\">\n",
       "  <thead>\n",
       "    <tr style=\"text-align: right;\">\n",
       "      <th></th>\n",
       "      <th>ContactId</th>\n",
       "      <th>Email__c</th>\n",
       "      <th>CampaignId</th>\n",
       "      <th>Campaign_Engagement__c</th>\n",
       "    </tr>\n",
       "  </thead>\n",
       "  <tbody>\n",
       "    <tr>\n",
       "      <th>0</th>\n",
       "      <td>0035w00003DBk2mAAD</td>\n",
       "      <td>luna.laviada@gmail.com</td>\n",
       "      <td>7015w000001c7VhAAI</td>\n",
       "      <td>Sent;Opened</td>\n",
       "    </tr>\n",
       "    <tr>\n",
       "      <th>1</th>\n",
       "      <td>0035w00003ECmdrAAD</td>\n",
       "      <td>bernacorak@gmail.com</td>\n",
       "      <td>7015w000001c7VhAAI</td>\n",
       "      <td>Sent;Opened</td>\n",
       "    </tr>\n",
       "  </tbody>\n",
       "</table>\n",
       "</div>"
      ],
      "text/plain": [
       "            ContactId                Email__c          CampaignId  \\\n",
       "0  0035w00003DBk2mAAD  luna.laviada@gmail.com  7015w000001c7VhAAI   \n",
       "1  0035w00003ECmdrAAD    bernacorak@gmail.com  7015w000001c7VhAAI   \n",
       "\n",
       "  Campaign_Engagement__c  \n",
       "0            Sent;Opened  \n",
       "1            Sent;Opened  "
      ]
     },
     "metadata": {},
     "output_type": "display_data"
    },
    {
     "data": {
      "text/html": [
       "<div>\n",
       "<style scoped>\n",
       "    .dataframe tbody tr th:only-of-type {\n",
       "        vertical-align: middle;\n",
       "    }\n",
       "\n",
       "    .dataframe tbody tr th {\n",
       "        vertical-align: top;\n",
       "    }\n",
       "\n",
       "    .dataframe thead th {\n",
       "        text-align: right;\n",
       "    }\n",
       "</style>\n",
       "<table border=\"1\" class=\"dataframe\">\n",
       "  <thead>\n",
       "    <tr style=\"text-align: right;\">\n",
       "      <th></th>\n",
       "      <th>ContactId</th>\n",
       "      <th>Email__c</th>\n",
       "      <th>CampaignId</th>\n",
       "      <th>Campaign_Engagement__c</th>\n",
       "    </tr>\n",
       "  </thead>\n",
       "  <tbody>\n",
       "    <tr>\n",
       "      <th>0</th>\n",
       "      <td>0035w00003BRTdoAAH</td>\n",
       "      <td>gregkepner1@gmail.com</td>\n",
       "      <td>7015w000001c7VdAAI</td>\n",
       "      <td>Sent;Opened</td>\n",
       "    </tr>\n",
       "    <tr>\n",
       "      <th>1</th>\n",
       "      <td>0035w00003BRTkdAAH</td>\n",
       "      <td>jia00096@umn.edu</td>\n",
       "      <td>7015w000001c7VdAAI</td>\n",
       "      <td>Sent;Opened</td>\n",
       "    </tr>\n",
       "  </tbody>\n",
       "</table>\n",
       "</div>"
      ],
      "text/plain": [
       "            ContactId               Email__c          CampaignId  \\\n",
       "0  0035w00003BRTdoAAH  gregkepner1@gmail.com  7015w000001c7VdAAI   \n",
       "1  0035w00003BRTkdAAH       jia00096@umn.edu  7015w000001c7VdAAI   \n",
       "\n",
       "  Campaign_Engagement__c  \n",
       "0            Sent;Opened  \n",
       "1            Sent;Opened  "
      ]
     },
     "metadata": {},
     "output_type": "display_data"
    },
    {
     "data": {
      "text/html": [
       "<div>\n",
       "<style scoped>\n",
       "    .dataframe tbody tr th:only-of-type {\n",
       "        vertical-align: middle;\n",
       "    }\n",
       "\n",
       "    .dataframe tbody tr th {\n",
       "        vertical-align: top;\n",
       "    }\n",
       "\n",
       "    .dataframe thead th {\n",
       "        text-align: right;\n",
       "    }\n",
       "</style>\n",
       "<table border=\"1\" class=\"dataframe\">\n",
       "  <thead>\n",
       "    <tr style=\"text-align: right;\">\n",
       "      <th></th>\n",
       "      <th>ContactId</th>\n",
       "      <th>Email__c</th>\n",
       "      <th>CampaignId</th>\n",
       "      <th>Campaign_Engagement__c</th>\n",
       "    </tr>\n",
       "  </thead>\n",
       "  <tbody>\n",
       "    <tr>\n",
       "      <th>0</th>\n",
       "      <td>0035w000034IpJXAA0</td>\n",
       "      <td>roselin.raju@mbcet.ac.in</td>\n",
       "      <td>7015w000001c7VcAAI</td>\n",
       "      <td>Sent;Opened</td>\n",
       "    </tr>\n",
       "    <tr>\n",
       "      <th>1</th>\n",
       "      <td>0035w000034IpxRAAS</td>\n",
       "      <td>ritwik.das29@gmail.com</td>\n",
       "      <td>7015w000001c7VcAAI</td>\n",
       "      <td>Sent;Opened</td>\n",
       "    </tr>\n",
       "  </tbody>\n",
       "</table>\n",
       "</div>"
      ],
      "text/plain": [
       "            ContactId                  Email__c          CampaignId  \\\n",
       "0  0035w000034IpJXAA0  roselin.raju@mbcet.ac.in  7015w000001c7VcAAI   \n",
       "1  0035w000034IpxRAAS    ritwik.das29@gmail.com  7015w000001c7VcAAI   \n",
       "\n",
       "  Campaign_Engagement__c  \n",
       "0            Sent;Opened  \n",
       "1            Sent;Opened  "
      ]
     },
     "metadata": {},
     "output_type": "display_data"
    },
    {
     "data": {
      "text/html": [
       "<div>\n",
       "<style scoped>\n",
       "    .dataframe tbody tr th:only-of-type {\n",
       "        vertical-align: middle;\n",
       "    }\n",
       "\n",
       "    .dataframe tbody tr th {\n",
       "        vertical-align: top;\n",
       "    }\n",
       "\n",
       "    .dataframe thead th {\n",
       "        text-align: right;\n",
       "    }\n",
       "</style>\n",
       "<table border=\"1\" class=\"dataframe\">\n",
       "  <thead>\n",
       "    <tr style=\"text-align: right;\">\n",
       "      <th></th>\n",
       "      <th>ContactId</th>\n",
       "      <th>Email__c</th>\n",
       "      <th>CampaignId</th>\n",
       "      <th>Campaign_Engagement__c</th>\n",
       "    </tr>\n",
       "  </thead>\n",
       "  <tbody>\n",
       "    <tr>\n",
       "      <th>0</th>\n",
       "      <td>0035w00003BRUCbAAP</td>\n",
       "      <td>braishan@isu.edu</td>\n",
       "      <td>7015w000001c7V5AAI</td>\n",
       "      <td>Sent;Opened</td>\n",
       "    </tr>\n",
       "    <tr>\n",
       "      <th>1</th>\n",
       "      <td>0035w00003BRULqAAP</td>\n",
       "      <td>l.yitao@gmail.com</td>\n",
       "      <td>7015w000001c7V5AAI</td>\n",
       "      <td>Sent;Opened</td>\n",
       "    </tr>\n",
       "  </tbody>\n",
       "</table>\n",
       "</div>"
      ],
      "text/plain": [
       "            ContactId           Email__c          CampaignId  \\\n",
       "0  0035w00003BRUCbAAP   braishan@isu.edu  7015w000001c7V5AAI   \n",
       "1  0035w00003BRULqAAP  l.yitao@gmail.com  7015w000001c7V5AAI   \n",
       "\n",
       "  Campaign_Engagement__c  \n",
       "0            Sent;Opened  \n",
       "1            Sent;Opened  "
      ]
     },
     "metadata": {},
     "output_type": "display_data"
    }
   ],
   "source": [
    "# process the data into SF compatible dataframes\n",
    "# then upload data to SF\n",
    "email_opens_original = os.listdir(cwd+'/Email Opens')\n",
    "for ind,val in enumerate(list(match_indexes.keys())):\n",
    "    current_df = import_email_open(email_opens_original[val],match_indexes[val])\n",
    "    \n",
    "    ## upload to SF\n",
    "    db_e[ind].send_data(current_df,print_flag=False)\n",
    "    display(current_df.head(2))"
   ]
  },
  {
   "cell_type": "code",
   "execution_count": null,
   "metadata": {},
   "outputs": [],
   "source": []
  },
  {
   "cell_type": "code",
   "execution_count": null,
   "metadata": {},
   "outputs": [],
   "source": []
  },
  {
   "cell_type": "markdown",
   "metadata": {},
   "source": [
    "# Cross referencing attendees and registrants with stagnant list"
   ]
  },
  {
   "cell_type": "code",
   "execution_count": 21,
   "metadata": {},
   "outputs": [
    {
     "name": "stdout",
     "output_type": "stream",
     "text": [
      "['C-A.xlsx', 'C-noR_noA.xlsx', 'C-Res_non_purdue.xlsx', 'C-Res_purdue.xlsx', 'C-R_noA.xlsx', 'Clo2d_sp_su_grA.xlsx', 'Clo2d_sp_su_grB.xlsx', 'L-A.xlsx', 'L-noR_noA.xlsx', 'L-R_noA.xlsx', 'U1d_fa_grA.xlsx', 'U1d_fa_grB.xlsx', 'U1d_sp_su_grA.xlsx', 'U1d_sp_su_grB.xlsx', 'U2_7d_fa_grA.xlsx', 'U2_7d_fa_grB.xlsx', 'U2_7d_sp_su_grA.xlsx', 'U2_7d_sp_su_grB.xlsx']\n",
      "['ML111120Attendees.csv', 'ML111120Registrants.csv']\n"
     ]
    }
   ],
   "source": [
    "print(os.listdir(cwd+'/Emails Sent - Stagnant Reports'))\n",
    "print(os.listdir(cwd+'/Registrants_Attendees'))"
   ]
  },
  {
   "cell_type": "markdown",
   "metadata": {},
   "source": [
    "### Registrants cross referencing"
   ]
  },
  {
   "cell_type": "code",
   "execution_count": 22,
   "metadata": {},
   "outputs": [],
   "source": [
    "# importing names for easy process\n",
    "stag_reports = os.listdir(cwd+'/Emails Sent - Stagnant Reports')\n",
    "ra_files = os.listdir(cwd+'/Registrants_Attendees')\n",
    "sr_names = [val.replace('-','_') for val in stag_reports]"
   ]
  },
  {
   "cell_type": "code",
   "execution_count": 23,
   "metadata": {},
   "outputs": [
    {
     "data": {
      "text/html": [
       "<div>\n",
       "<style scoped>\n",
       "    .dataframe tbody tr th:only-of-type {\n",
       "        vertical-align: middle;\n",
       "    }\n",
       "\n",
       "    .dataframe tbody tr th {\n",
       "        vertical-align: top;\n",
       "    }\n",
       "\n",
       "    .dataframe thead th {\n",
       "        text-align: right;\n",
       "    }\n",
       "</style>\n",
       "<table border=\"1\" class=\"dataframe\">\n",
       "  <thead>\n",
       "    <tr style=\"text-align: right;\">\n",
       "      <th></th>\n",
       "      <th>FirstName</th>\n",
       "      <th>LastName</th>\n",
       "      <th>Email</th>\n",
       "      <th>Registered</th>\n",
       "    </tr>\n",
       "  </thead>\n",
       "  <tbody>\n",
       "    <tr>\n",
       "      <th>0</th>\n",
       "      <td>Ammar</td>\n",
       "      <td>Mohammed</td>\n",
       "      <td>ammarhussen659@gmail.com</td>\n",
       "      <td>Yes</td>\n",
       "    </tr>\n",
       "    <tr>\n",
       "      <th>1</th>\n",
       "      <td>Sergio</td>\n",
       "      <td>de Gioia</td>\n",
       "      <td>sergiodegioia@gmail.com</td>\n",
       "      <td>Yes</td>\n",
       "    </tr>\n",
       "    <tr>\n",
       "      <th>2</th>\n",
       "      <td>Sang-Jun</td>\n",
       "      <td>Lee</td>\n",
       "      <td>sangjun2@slac.stanford.edu</td>\n",
       "      <td>Yes</td>\n",
       "    </tr>\n",
       "    <tr>\n",
       "      <th>3</th>\n",
       "      <td>Enze</td>\n",
       "      <td>Chen</td>\n",
       "      <td>chenze@berkeley.edu</td>\n",
       "      <td>Yes</td>\n",
       "    </tr>\n",
       "    <tr>\n",
       "      <th>4</th>\n",
       "      <td>Giulia</td>\n",
       "      <td>Mancardi</td>\n",
       "      <td>giulia.mancardi@polito.it</td>\n",
       "      <td>Yes</td>\n",
       "    </tr>\n",
       "  </tbody>\n",
       "</table>\n",
       "</div>"
      ],
      "text/plain": [
       "  FirstName  LastName                       Email Registered\n",
       "0     Ammar  Mohammed    ammarhussen659@gmail.com        Yes\n",
       "1    Sergio  de Gioia     sergiodegioia@gmail.com        Yes\n",
       "2  Sang-Jun       Lee  sangjun2@slac.stanford.edu        Yes\n",
       "3      Enze      Chen         chenze@berkeley.edu        Yes\n",
       "4    Giulia  Mancardi   giulia.mancardi@polito.it        Yes"
      ]
     },
     "metadata": {},
     "output_type": "display_data"
    }
   ],
   "source": [
    "r_df = pd.read_csv(cwd+'/Registrants_Attendees/'+ra_files[-1], skipinitialspace=True, usecols=['Email',\\\n",
    "                                                            'Registered','FirstName','LastName'],encoding='cp1252')\n",
    "#weird ass encoding - corrupts french and vietnamese characters, not sure wtf is going on\n",
    "#pd.read_csv(cwd+'/Registrants_Attendees/'+ra_files[-1],encoding='UTF-8')#cp1252')\n",
    "display(r_df.head(5))"
   ]
  },
  {
   "cell_type": "code",
   "execution_count": 24,
   "metadata": {},
   "outputs": [
    {
     "name": "stdout",
     "output_type": "stream",
     "text": [
      "[Success] Bulk job creation successful. Job ID = 7505w00000S9j6sAAB\n",
      "{\"id\":\"7505w00000S9j6sAAB\",\"operation\":\"query\",\"object\":\"Campaign\",\"createdById\":\"0055w00000DM5bOAAT\",\"createdDate\":\"2020-11-20T17:59:23.000+0000\",\"systemModstamp\":\"2020-11-20T17:59:23.000+0000\",\"state\":\"UploadComplete\",\"concurrencyMode\":\"Parallel\",\"contentType\":\"CSV\",\"apiVersion\":47.0,\"jobType\":\"V2Query\",\"lineEnding\":\"LF\",\"columnDelimiter\":\"COMMA\",\"retries\":0,\"totalProcessingTime\":0}\n",
      "{\"id\":\"7505w00000S9j6sAAB\",\"operation\":\"query\",\"object\":\"Campaign\",\"createdById\":\"0055w00000DM5bOAAT\",\"createdDate\":\"2020-11-20T17:59:23.000+0000\",\"systemModstamp\":\"2020-11-20T17:59:26.000+0000\",\"state\":\"JobComplete\",\"concurrencyMode\":\"Parallel\",\"contentType\":\"CSV\",\"apiVersion\":47.0,\"jobType\":\"V2Query\",\"lineEnding\":\"LF\",\"columnDelimiter\":\"COMMA\",\"numberRecordsProcessed\":25,\"retries\":0,\"totalProcessingTime\":134}\n",
      "[Success] Bulk job completed successfully.\n",
      "                    Id                                 Name  \\\n",
      "0   7015w000001c7B8AAI        Materials Science Engineering   \n",
      "1   7015w000001c7BDAAY           Citrine Webinar 10/21/2020   \n",
      "2   7015w000001c7SsAAI  Machine Learning Webinar 11/11/2020   \n",
      "3   7015w000001c7V3AAI                   ML111120_L-noR_noA   \n",
      "4   7015w000001c7V4AAI                     ML111120_L-R_noA   \n",
      "5   7015w000001c7V5AAI             ML111120_U2_7d_sp_su_grB   \n",
      "6   7015w000001c7V8AAI                         ML111120_L-A   \n",
      "7   7015w000001c7VDAAY                   ML111120_C-noR_noA   \n",
      "8   7015w000001c7VIAAY                     ML111120_C-R_noA   \n",
      "9   7015w000001c7VJAAY             ML111120_Clo2d_sp_su_grA   \n",
      "10  7015w000001c7VKAAY             ML111120_Clo2d_sp_su_grB   \n",
      "11  7015w000001c7VNAAY                         ML111120_C-A   \n",
      "12  7015w000001c7VSAAY               ML111120_U1d_sp_su_grA   \n",
      "13  7015w000001c7VXAAY                  ML111120_U1d_fa_grB   \n",
      "14  7015w000001c7VcAAI             ML111120_U2_7d_sp_su_grA   \n",
      "15  7015w000001c7VdAAI                ML111120_U2_7d_fa_grB   \n",
      "16  7015w000001c7VhAAI                ML111120_U2_7d_fa_grA   \n",
      "17  7015w000001c7VmAAI            ML111120_C_Res_non_purdue   \n",
      "18  7015w000001c7VrAAI                ML111120_C_Res_purdue   \n",
      "19  7015w000001c7YwAAI                  ML111120_U1d_fa_grA   \n",
      "20  7015w000001c7Z1AAI               ML111120_U1d_sp_su_grB   \n",
      "21  7015w000001c7a4AAA                           Newletters   \n",
      "22  7015w000001c7a9AAA                  Nov 2020 Newsletter   \n",
      "23  7015w000001c7d8AAA            ML111120_External_Invites   \n",
      "24  7015w000001c7fOAAQ        Customer Satisfaction Surveys   \n",
      "\n",
      "              ParentId  \n",
      "0                  NaN  \n",
      "1   7015w000001c7B8AAI  \n",
      "2   7015w000001c7B8AAI  \n",
      "3   7015w000001c7SsAAI  \n",
      "4   7015w000001c7SsAAI  \n",
      "5   7015w000001c7SsAAI  \n",
      "6   7015w000001c7SsAAI  \n",
      "7   7015w000001c7SsAAI  \n",
      "8   7015w000001c7SsAAI  \n",
      "9   7015w000001c7SsAAI  \n",
      "10  7015w000001c7SsAAI  \n",
      "11  7015w000001c7SsAAI  \n",
      "12  7015w000001c7SsAAI  \n",
      "13  7015w000001c7SsAAI  \n",
      "14  7015w000001c7SsAAI  \n",
      "15  7015w000001c7SsAAI  \n",
      "16  7015w000001c7SsAAI  \n",
      "17  7015w000001c7SsAAI  \n",
      "18  7015w000001c7SsAAI  \n",
      "19  7015w000001c7SsAAI  \n",
      "20  7015w000001c7SsAAI  \n",
      "21                 NaN  \n",
      "22  7015w000001c7a4AAA  \n",
      "23  7015w000001c7SsAAI  \n",
      "24                 NaN  \n"
     ]
    }
   ],
   "source": [
    "# verify campaign ids\n",
    "camp_names = db_c.query_data('SELECT Id, Name, ParentId FROM Campaign')\n",
    "print(camp_names)"
   ]
  },
  {
   "cell_type": "code",
   "execution_count": 25,
   "metadata": {},
   "outputs": [
    {
     "name": "stdout",
     "output_type": "stream",
     "text": [
      "['7015w000001c7V3AAI', '7015w000001c7V4AAI', '7015w000001c7V5AAI', '7015w000001c7V8AAI', '7015w000001c7VDAAY', '7015w000001c7VIAAY', '7015w000001c7VJAAY', '7015w000001c7VKAAY', '7015w000001c7VNAAY', '7015w000001c7VSAAY', '7015w000001c7VXAAY', '7015w000001c7VcAAI', '7015w000001c7VdAAI', '7015w000001c7VhAAI', '7015w000001c7VmAAI', '7015w000001c7VrAAI', '7015w000001c7YwAAI', '7015w000001c7Z1AAI', '7015w000001c7d8AAA']\n"
     ]
    }
   ],
   "source": [
    "# extract only those campaign IDs with relevant Names\n",
    "needed_camps = []\n",
    "for i,j in enumerate(camp_names['Name'].to_list()):\n",
    "    if camp_hierarchy in j or j == 'External Invites':\n",
    "        needed_camps.append(camp_names['Id'].to_list()[i])\n",
    "print(needed_camps)"
   ]
  },
  {
   "cell_type": "code",
   "execution_count": 26,
   "metadata": {},
   "outputs": [
    {
     "name": "stdout",
     "output_type": "stream",
     "text": [
      "[Success] Bulk job creation successful. Job ID = 7505w00000S9j4TAAR\n",
      "{\"id\":\"7505w00000S9j4TAAR\",\"operation\":\"query\",\"object\":\"CampaignMember\",\"createdById\":\"0055w00000DM5bOAAT\",\"createdDate\":\"2020-11-20T17:59:35.000+0000\",\"systemModstamp\":\"2020-11-20T17:59:35.000+0000\",\"state\":\"InProgress\",\"concurrencyMode\":\"Parallel\",\"contentType\":\"CSV\",\"apiVersion\":47.0,\"jobType\":\"V2Query\",\"lineEnding\":\"LF\",\"columnDelimiter\":\"COMMA\",\"numberRecordsProcessed\":0,\"retries\":0,\"totalProcessingTime\":0}\n",
      "{\"id\":\"7505w00000S9j4TAAR\",\"operation\":\"query\",\"object\":\"CampaignMember\",\"createdById\":\"0055w00000DM5bOAAT\",\"createdDate\":\"2020-11-20T17:59:35.000+0000\",\"systemModstamp\":\"2020-11-20T17:59:37.000+0000\",\"state\":\"JobComplete\",\"concurrencyMode\":\"Parallel\",\"contentType\":\"CSV\",\"apiVersion\":47.0,\"jobType\":\"V2Query\",\"lineEnding\":\"LF\",\"columnDelimiter\":\"COMMA\",\"numberRecordsProcessed\":20124,\"retries\":0,\"totalProcessingTime\":1232}\n",
      "[Success] Bulk job completed successfully.\n"
     ]
    },
    {
     "data": {
      "text/html": [
       "<div>\n",
       "<style scoped>\n",
       "    .dataframe tbody tr th:only-of-type {\n",
       "        vertical-align: middle;\n",
       "    }\n",
       "\n",
       "    .dataframe tbody tr th {\n",
       "        vertical-align: top;\n",
       "    }\n",
       "\n",
       "    .dataframe thead th {\n",
       "        text-align: right;\n",
       "    }\n",
       "</style>\n",
       "<table border=\"1\" class=\"dataframe\">\n",
       "  <thead>\n",
       "    <tr style=\"text-align: right;\">\n",
       "      <th></th>\n",
       "      <th>CampaignId</th>\n",
       "      <th>Campaign_Engagement__c</th>\n",
       "      <th>Email__c</th>\n",
       "    </tr>\n",
       "  </thead>\n",
       "  <tbody>\n",
       "    <tr>\n",
       "      <th>0</th>\n",
       "      <td>7015w000001c7VNAAY</td>\n",
       "      <td>Sent;Opened</td>\n",
       "      <td>goranka.bilalbegovic@gmail.com</td>\n",
       "    </tr>\n",
       "    <tr>\n",
       "      <th>1</th>\n",
       "      <td>7015w000001c7VNAAY</td>\n",
       "      <td>Sent;Opened</td>\n",
       "      <td>bishnoi@ieee.org</td>\n",
       "    </tr>\n",
       "    <tr>\n",
       "      <th>2</th>\n",
       "      <td>7015w000001c7VNAAY</td>\n",
       "      <td>Sent;Opened</td>\n",
       "      <td>anwar@asu.edu</td>\n",
       "    </tr>\n",
       "    <tr>\n",
       "      <th>3</th>\n",
       "      <td>7015w000001c7VNAAY</td>\n",
       "      <td>Sent;Opened</td>\n",
       "      <td>tfaltens@purdue.edu</td>\n",
       "    </tr>\n",
       "    <tr>\n",
       "      <th>4</th>\n",
       "      <td>7015w000001c7VNAAY</td>\n",
       "      <td>Sent;Opened</td>\n",
       "      <td>hyunjae.lee@uwaterloo.ca</td>\n",
       "    </tr>\n",
       "  </tbody>\n",
       "</table>\n",
       "</div>"
      ],
      "text/plain": [
       "           CampaignId Campaign_Engagement__c                        Email__c\n",
       "0  7015w000001c7VNAAY            Sent;Opened  goranka.bilalbegovic@gmail.com\n",
       "1  7015w000001c7VNAAY            Sent;Opened                bishnoi@ieee.org\n",
       "2  7015w000001c7VNAAY            Sent;Opened                   anwar@asu.edu\n",
       "3  7015w000001c7VNAAY            Sent;Opened             tfaltens@purdue.edu\n",
       "4  7015w000001c7VNAAY            Sent;Opened        hyunjae.lee@uwaterloo.ca"
      ]
     },
     "metadata": {},
     "output_type": "display_data"
    }
   ],
   "source": [
    "## match the list of registrants with the people in various stagnant reports \n",
    "## to determine which sub-campaign these people belong to\n",
    "#query_member = 'select Email__c, Campaign_Engagement__c from CampaignMember where CampaignId = {}'.format(needed_camps[0])\n",
    "query_member = 'select Email__c, Campaign_Engagement__c, CampaignId from CampaignMember'#\n",
    "current_df = db_c.query_data(query_member)\n",
    "\n",
    "# camp_names\n",
    "display(current_df.head(5))\n",
    "#print(current_df.head(2))"
   ]
  },
  {
   "cell_type": "code",
   "execution_count": 27,
   "metadata": {},
   "outputs": [],
   "source": [
    "## pulls campaign information, and matches email addresses\n",
    "def registrant_match(camp_id,reg_emails,cdf):\n",
    "    ## find all people matches\n",
    "    sf_emails = cdf['Email__c'].to_list()\n",
    "    \n",
    "    new_people = []\n",
    "    for i,j in enumerate(reg_emails):\n",
    "        if j in sf_emails:\n",
    "            cdf.iloc[sf_emails.index(j),1]=';'.join([cdf.iloc[sf_emails.index(j),1],'Registered'])\n",
    "        else:\n",
    "            new_people.append(j)\n",
    "            \n",
    "    return cdf,new_people"
   ]
  },
  {
   "cell_type": "code",
   "execution_count": 28,
   "metadata": {},
   "outputs": [
    {
     "data": {
      "text/html": [
       "<div>\n",
       "<style scoped>\n",
       "    .dataframe tbody tr th:only-of-type {\n",
       "        vertical-align: middle;\n",
       "    }\n",
       "\n",
       "    .dataframe tbody tr th {\n",
       "        vertical-align: top;\n",
       "    }\n",
       "\n",
       "    .dataframe thead th {\n",
       "        text-align: right;\n",
       "    }\n",
       "</style>\n",
       "<table border=\"1\" class=\"dataframe\">\n",
       "  <thead>\n",
       "    <tr style=\"text-align: right;\">\n",
       "      <th></th>\n",
       "      <th>CampaignId</th>\n",
       "      <th>Campaign_Engagement__c</th>\n",
       "      <th>Email__c</th>\n",
       "    </tr>\n",
       "  </thead>\n",
       "  <tbody>\n",
       "    <tr>\n",
       "      <th>0</th>\n",
       "      <td>7015w000001c7VNAAY</td>\n",
       "      <td>Sent;Opened</td>\n",
       "      <td>goranka.bilalbegovic@gmail.com</td>\n",
       "    </tr>\n",
       "    <tr>\n",
       "      <th>1</th>\n",
       "      <td>7015w000001c7VNAAY</td>\n",
       "      <td>Sent;Opened</td>\n",
       "      <td>bishnoi@ieee.org</td>\n",
       "    </tr>\n",
       "  </tbody>\n",
       "</table>\n",
       "</div>"
      ],
      "text/plain": [
       "           CampaignId Campaign_Engagement__c                        Email__c\n",
       "0  7015w000001c7VNAAY            Sent;Opened  goranka.bilalbegovic@gmail.com\n",
       "1  7015w000001c7VNAAY            Sent;Opened                bishnoi@ieee.org"
      ]
     },
     "metadata": {},
     "output_type": "display_data"
    },
    {
     "name": "stdout",
     "output_type": "stream",
     "text": [
      "[]\n"
     ]
    }
   ],
   "source": [
    "r_emails = r_df['Email'].to_list()\n",
    "from copy import deepcopy\n",
    "cdf_updated_registrants,new_people = registrant_match(needed_camps[0],r_emails,deepcopy(current_df))\n",
    "display(cdf_updated_registrants.head(2))\n",
    "print(new_people)"
   ]
  },
  {
   "cell_type": "code",
   "execution_count": 29,
   "metadata": {},
   "outputs": [],
   "source": [
    "## for the new people/registrants create a Dataframe then pd.concat together\n",
    "# identify the overarching campaign name - External Invites\n",
    "###### Henry note - 7015w000001c7d8AAA/manual for now since no time\n",
    "tempr_df = pd.DataFrame()\n",
    "tempr_df['Email__c'] = new_people\n",
    "tempr_df['CampaignId'] = '7015w000001c7d8AAA'\n",
    "tempr_df['Campaign_Engagement__c'] = 'Registered'"
   ]
  },
  {
   "cell_type": "code",
   "execution_count": 30,
   "metadata": {},
   "outputs": [],
   "source": [
    "# pull firstname and lastnames from r_df\n",
    "tempr_df['FirstName'] = 0\n",
    "tempr_df['LastName'] = 0\n",
    "tempr_df['Company'] = '-'\n",
    "\n",
    "for ind,val in enumerate(tempr_df['Email__c'].to_list()):\n",
    "    tempr_df['FirstName'][ind] = r_df['FirstName'][r_df['Email'].to_list().index(val)]\n",
    "    tempr_df['LastName'][ind] = r_df['LastName'][r_df['Email'].to_list().index(val)]\n",
    "    "
   ]
  },
  {
   "cell_type": "code",
   "execution_count": 31,
   "metadata": {},
   "outputs": [
    {
     "data": {
      "text/html": [
       "<div>\n",
       "<style scoped>\n",
       "    .dataframe tbody tr th:only-of-type {\n",
       "        vertical-align: middle;\n",
       "    }\n",
       "\n",
       "    .dataframe tbody tr th {\n",
       "        vertical-align: top;\n",
       "    }\n",
       "\n",
       "    .dataframe thead th {\n",
       "        text-align: right;\n",
       "    }\n",
       "</style>\n",
       "<table border=\"1\" class=\"dataframe\">\n",
       "  <thead>\n",
       "    <tr style=\"text-align: right;\">\n",
       "      <th></th>\n",
       "      <th>Email__c</th>\n",
       "      <th>CampaignId</th>\n",
       "      <th>Campaign_Engagement__c</th>\n",
       "      <th>FirstName</th>\n",
       "      <th>LastName</th>\n",
       "      <th>Company</th>\n",
       "    </tr>\n",
       "  </thead>\n",
       "  <tbody>\n",
       "  </tbody>\n",
       "</table>\n",
       "</div>"
      ],
      "text/plain": [
       "Empty DataFrame\n",
       "Columns: [Email__c, CampaignId, Campaign_Engagement__c, FirstName, LastName, Company]\n",
       "Index: []"
      ]
     },
     "metadata": {},
     "output_type": "display_data"
    }
   ],
   "source": [
    "display(tempr_df.head(2))"
   ]
  },
  {
   "cell_type": "markdown",
   "metadata": {},
   "source": [
    "### Create new lead upload for the new people and pull their new lead Ids"
   ]
  },
  {
   "cell_type": "code",
   "execution_count": 32,
   "metadata": {},
   "outputs": [
    {
     "name": "stdout",
     "output_type": "stream",
     "text": [
      "Obtained Salesforce access token ...... True\n",
      "[Success] Bulk job creation successful. Job ID = 7505w00000S9j6xAAB\n",
      "[Success] CSV upload successful. Job ID = 7505w00000S9j6xAAB\n",
      "[Success] Closing job successful. Job ID = 7505w00000S9j6xAAB\n"
     ]
    }
   ],
   "source": [
    "## It looks like these new people are leads\n",
    "# create lead entries, then pull the created lead ID's back into the system\n",
    "db_lead_upload = DB2SalesforceAPI(sf_login_params)\n",
    "db_lead_upload.external_id = 'Email__c'\n",
    "db_lead_upload.object_id = 'Lead'\n",
    "db_lead_upload.send_data(tempr_df[['Email__c','FirstName','LastName','Company']])"
   ]
  },
  {
   "cell_type": "code",
   "execution_count": 33,
   "metadata": {},
   "outputs": [
    {
     "data": {
      "text/plain": [
       "{'id': '7505w00000S9j6xAAB',\n",
       " 'operation': 'upsert',\n",
       " 'object': 'Lead',\n",
       " 'createdById': '0055w00000DM5bOAAT',\n",
       " 'createdDate': '2020-11-20T17:59:51.000+0000',\n",
       " 'systemModstamp': '2020-11-20T17:59:52.000+0000',\n",
       " 'state': 'UploadComplete',\n",
       " 'externalIdFieldName': 'Email__c',\n",
       " 'concurrencyMode': 'Parallel',\n",
       " 'contentType': 'CSV',\n",
       " 'apiVersion': 47.0,\n",
       " 'jobType': 'V2Ingest',\n",
       " 'lineEnding': 'LF',\n",
       " 'columnDelimiter': 'COMMA',\n",
       " 'numberRecordsProcessed': 0,\n",
       " 'numberRecordsFailed': 0,\n",
       " 'retries': 0,\n",
       " 'totalProcessingTime': 0,\n",
       " 'apiActiveProcessingTime': 0,\n",
       " 'apexProcessingTime': 0}"
      ]
     },
     "execution_count": 33,
     "metadata": {},
     "output_type": "execute_result"
    }
   ],
   "source": [
    "db_lead_upload.check_bulk_status()"
   ]
  },
  {
   "cell_type": "code",
   "execution_count": 34,
   "metadata": {},
   "outputs": [
    {
     "name": "stdout",
     "output_type": "stream",
     "text": [
      "''\n"
     ]
    }
   ],
   "source": [
    "from pprint import pprint\n",
    "\n",
    "pprint(db_lead_upload.check_bulk_failed_results())"
   ]
  },
  {
   "cell_type": "code",
   "execution_count": 35,
   "metadata": {},
   "outputs": [
    {
     "name": "stdout",
     "output_type": "stream",
     "text": [
      "[Success] Bulk job creation successful. Job ID = 7505w00000S9j72AAB\n",
      "{\"id\":\"7505w00000S9j72AAB\",\"operation\":\"query\",\"object\":\"Lead\",\"createdById\":\"0055w00000DM5bOAAT\",\"createdDate\":\"2020-11-20T17:59:53.000+0000\",\"systemModstamp\":\"2020-11-20T17:59:53.000+0000\",\"state\":\"UploadComplete\",\"concurrencyMode\":\"Parallel\",\"contentType\":\"CSV\",\"apiVersion\":47.0,\"jobType\":\"V2Query\",\"lineEnding\":\"LF\",\"columnDelimiter\":\"COMMA\",\"retries\":0,\"totalProcessingTime\":0}\n",
      "{\"id\":\"7505w00000S9j72AAB\",\"operation\":\"query\",\"object\":\"Lead\",\"createdById\":\"0055w00000DM5bOAAT\",\"createdDate\":\"2020-11-20T17:59:53.000+0000\",\"systemModstamp\":\"2020-11-20T17:59:55.000+0000\",\"state\":\"JobComplete\",\"concurrencyMode\":\"Parallel\",\"contentType\":\"CSV\",\"apiVersion\":47.0,\"jobType\":\"V2Query\",\"lineEnding\":\"LF\",\"columnDelimiter\":\"COMMA\",\"numberRecordsProcessed\":6940,\"retries\":0,\"totalProcessingTime\":572}\n",
      "[Success] Bulk job completed successfully.\n"
     ]
    },
    {
     "data": {
      "text/html": [
       "<div>\n",
       "<style scoped>\n",
       "    .dataframe tbody tr th:only-of-type {\n",
       "        vertical-align: middle;\n",
       "    }\n",
       "\n",
       "    .dataframe tbody tr th {\n",
       "        vertical-align: top;\n",
       "    }\n",
       "\n",
       "    .dataframe thead th {\n",
       "        text-align: right;\n",
       "    }\n",
       "</style>\n",
       "<table border=\"1\" class=\"dataframe\">\n",
       "  <thead>\n",
       "    <tr style=\"text-align: right;\">\n",
       "      <th></th>\n",
       "      <th>Email__c</th>\n",
       "      <th>Id</th>\n",
       "    </tr>\n",
       "  </thead>\n",
       "  <tbody>\n",
       "    <tr>\n",
       "      <th>0</th>\n",
       "      <td>NaN</td>\n",
       "      <td>00Q5w00001otOM1EAM</td>\n",
       "    </tr>\n",
       "    <tr>\n",
       "      <th>1</th>\n",
       "      <td>NaN</td>\n",
       "      <td>00Q5w00001otOM2EAM</td>\n",
       "    </tr>\n",
       "  </tbody>\n",
       "</table>\n",
       "</div>"
      ],
      "text/plain": [
       "  Email__c                  Id\n",
       "0      NaN  00Q5w00001otOM1EAM\n",
       "1      NaN  00Q5w00001otOM2EAM"
      ]
     },
     "metadata": {},
     "output_type": "display_data"
    }
   ],
   "source": [
    "# Pull latest IDs\n",
    "newlead_df = db_lead_upload.query_data('select Id, Email__c from Lead')\n",
    "display(newlead_df.head(2))"
   ]
  },
  {
   "cell_type": "code",
   "execution_count": 36,
   "metadata": {},
   "outputs": [
    {
     "data": {
      "text/html": [
       "<div>\n",
       "<style scoped>\n",
       "    .dataframe tbody tr th:only-of-type {\n",
       "        vertical-align: middle;\n",
       "    }\n",
       "\n",
       "    .dataframe tbody tr th {\n",
       "        vertical-align: top;\n",
       "    }\n",
       "\n",
       "    .dataframe thead th {\n",
       "        text-align: right;\n",
       "    }\n",
       "</style>\n",
       "<table border=\"1\" class=\"dataframe\">\n",
       "  <thead>\n",
       "    <tr style=\"text-align: right;\">\n",
       "      <th></th>\n",
       "      <th>Email__c</th>\n",
       "      <th>CampaignId</th>\n",
       "      <th>Campaign_Engagement__c</th>\n",
       "      <th>FirstName</th>\n",
       "      <th>LastName</th>\n",
       "      <th>Company</th>\n",
       "      <th>LeadId</th>\n",
       "    </tr>\n",
       "  </thead>\n",
       "  <tbody>\n",
       "  </tbody>\n",
       "</table>\n",
       "</div>"
      ],
      "text/plain": [
       "Empty DataFrame\n",
       "Columns: [Email__c, CampaignId, Campaign_Engagement__c, FirstName, LastName, Company, LeadId]\n",
       "Index: []"
      ]
     },
     "metadata": {},
     "output_type": "display_data"
    }
   ],
   "source": [
    "# find email matches\n",
    "tempr_df['LeadId'] = 0\n",
    "for ind,val in enumerate(tempr_df['Email__c'].to_list()):\n",
    "    tempr_df['LeadId'][ind] = newlead_df['Id'].to_list()[newlead_df['Email__c'].to_list().index(val)]\n",
    "display(tempr_df.head(5))"
   ]
  },
  {
   "cell_type": "markdown",
   "metadata": {},
   "source": [
    "### Concat the separate registrations together"
   ]
  },
  {
   "cell_type": "code",
   "execution_count": 37,
   "metadata": {},
   "outputs": [
    {
     "data": {
      "text/html": [
       "<div>\n",
       "<style scoped>\n",
       "    .dataframe tbody tr th:only-of-type {\n",
       "        vertical-align: middle;\n",
       "    }\n",
       "\n",
       "    .dataframe tbody tr th {\n",
       "        vertical-align: top;\n",
       "    }\n",
       "\n",
       "    .dataframe thead th {\n",
       "        text-align: right;\n",
       "    }\n",
       "</style>\n",
       "<table border=\"1\" class=\"dataframe\">\n",
       "  <thead>\n",
       "    <tr style=\"text-align: right;\">\n",
       "      <th></th>\n",
       "      <th>CampaignId</th>\n",
       "      <th>Campaign_Engagement__c</th>\n",
       "      <th>Email__c</th>\n",
       "      <th>LeadId</th>\n",
       "    </tr>\n",
       "  </thead>\n",
       "  <tbody>\n",
       "    <tr>\n",
       "      <th>0</th>\n",
       "      <td>7015w000001c7VNAAY</td>\n",
       "      <td>Sent;Opened</td>\n",
       "      <td>goranka.bilalbegovic@gmail.com</td>\n",
       "      <td>NaN</td>\n",
       "    </tr>\n",
       "    <tr>\n",
       "      <th>1</th>\n",
       "      <td>7015w000001c7VNAAY</td>\n",
       "      <td>Sent;Opened</td>\n",
       "      <td>bishnoi@ieee.org</td>\n",
       "      <td>NaN</td>\n",
       "    </tr>\n",
       "    <tr>\n",
       "      <th>2</th>\n",
       "      <td>7015w000001c7VNAAY</td>\n",
       "      <td>Sent;Opened</td>\n",
       "      <td>anwar@asu.edu</td>\n",
       "      <td>NaN</td>\n",
       "    </tr>\n",
       "    <tr>\n",
       "      <th>3</th>\n",
       "      <td>7015w000001c7VNAAY</td>\n",
       "      <td>Sent;Opened;Registered</td>\n",
       "      <td>tfaltens@purdue.edu</td>\n",
       "      <td>NaN</td>\n",
       "    </tr>\n",
       "    <tr>\n",
       "      <th>4</th>\n",
       "      <td>7015w000001c7VNAAY</td>\n",
       "      <td>Sent;Opened</td>\n",
       "      <td>hyunjae.lee@uwaterloo.ca</td>\n",
       "      <td>NaN</td>\n",
       "    </tr>\n",
       "  </tbody>\n",
       "</table>\n",
       "</div>"
      ],
      "text/plain": [
       "           CampaignId  Campaign_Engagement__c                        Email__c  \\\n",
       "0  7015w000001c7VNAAY             Sent;Opened  goranka.bilalbegovic@gmail.com   \n",
       "1  7015w000001c7VNAAY             Sent;Opened                bishnoi@ieee.org   \n",
       "2  7015w000001c7VNAAY             Sent;Opened                   anwar@asu.edu   \n",
       "3  7015w000001c7VNAAY  Sent;Opened;Registered             tfaltens@purdue.edu   \n",
       "4  7015w000001c7VNAAY             Sent;Opened        hyunjae.lee@uwaterloo.ca   \n",
       "\n",
       "   LeadId  \n",
       "0     NaN  \n",
       "1     NaN  \n",
       "2     NaN  \n",
       "3     NaN  \n",
       "4     NaN  "
      ]
     },
     "metadata": {},
     "output_type": "display_data"
    }
   ],
   "source": [
    "# join the dataframes together\n",
    "registrants_df_ovr = pd.concat([cdf_updated_registrants,tempr_df],ignore_index=True,sort=True)\n",
    "registrants_df_ovr = registrants_df_ovr.drop(columns=['Company','FirstName','LastName'])\n",
    "display(registrants_df_ovr.head(5))"
   ]
  },
  {
   "cell_type": "code",
   "execution_count": 38,
   "metadata": {},
   "outputs": [
    {
     "name": "stdout",
     "output_type": "stream",
     "text": [
      "Obtained Salesforce access token ...... True\n"
     ]
    }
   ],
   "source": [
    "# send to SF\n",
    "db_registrants =  DB2SalesforceAPI(sf_login_params)\n",
    "db_registrants.external_id = 'Email__c'\n",
    "db_registrants.object_id = 'CampaignMember'"
   ]
  },
  {
   "cell_type": "code",
   "execution_count": 39,
   "metadata": {},
   "outputs": [
    {
     "name": "stdout",
     "output_type": "stream",
     "text": [
      "[Success] Bulk job creation successful. Job ID = 7505w00000S9j7MAAR\n",
      "[Success] CSV upload successful. Job ID = 7505w00000S9j7MAAR\n",
      "[Success] Closing job successful. Job ID = 7505w00000S9j7MAAR\n"
     ]
    }
   ],
   "source": [
    "db_registrants.send_data(registrants_df_ovr)"
   ]
  },
  {
   "cell_type": "code",
   "execution_count": 40,
   "metadata": {},
   "outputs": [
    {
     "data": {
      "text/plain": [
       "{'id': '7505w00000S9j7MAAR',\n",
       " 'operation': 'upsert',\n",
       " 'object': 'CampaignMember',\n",
       " 'createdById': '0055w00000DM5bOAAT',\n",
       " 'createdDate': '2020-11-20T18:00:06.000+0000',\n",
       " 'systemModstamp': '2020-11-20T18:00:08.000+0000',\n",
       " 'state': 'UploadComplete',\n",
       " 'externalIdFieldName': 'Email__c',\n",
       " 'concurrencyMode': 'Parallel',\n",
       " 'contentType': 'CSV',\n",
       " 'apiVersion': 47.0,\n",
       " 'jobType': 'V2Ingest',\n",
       " 'lineEnding': 'LF',\n",
       " 'columnDelimiter': 'COMMA',\n",
       " 'numberRecordsProcessed': 0,\n",
       " 'numberRecordsFailed': 0,\n",
       " 'retries': 0,\n",
       " 'totalProcessingTime': 0,\n",
       " 'apiActiveProcessingTime': 0,\n",
       " 'apexProcessingTime': 0}"
      ]
     },
     "execution_count": 40,
     "metadata": {},
     "output_type": "execute_result"
    }
   ],
   "source": [
    "# check status\n",
    "db_registrants.check_bulk_status()"
   ]
  },
  {
   "cell_type": "code",
   "execution_count": 41,
   "metadata": {},
   "outputs": [
    {
     "name": "stdout",
     "output_type": "stream",
     "text": [
      "''\n"
     ]
    }
   ],
   "source": [
    "from pprint import pprint\n",
    "\n",
    "pprint(db_registrants.check_bulk_failed_results())"
   ]
  },
  {
   "cell_type": "code",
   "execution_count": null,
   "metadata": {},
   "outputs": [],
   "source": []
  },
  {
   "cell_type": "markdown",
   "metadata": {},
   "source": [
    "## Attendees cross referencing"
   ]
  },
  {
   "cell_type": "code",
   "execution_count": 42,
   "metadata": {},
   "outputs": [],
   "source": [
    "## note that attendees are in two locations:\n",
    "## a) registrants include people who registered and and/or attended\n",
    "## b) external attendees with no prior information"
   ]
  },
  {
   "cell_type": "code",
   "execution_count": 43,
   "metadata": {},
   "outputs": [
    {
     "name": "stdout",
     "output_type": "stream",
     "text": [
      "['ML111120Attendees.csv', 'ML111120Registrants.csv']\n"
     ]
    }
   ],
   "source": [
    "# importing names for easy process\n",
    "ra_files = os.listdir(cwd+'/Registrants_Attendees')\n",
    "print(ra_files)"
   ]
  },
  {
   "cell_type": "code",
   "execution_count": 44,
   "metadata": {},
   "outputs": [
    {
     "data": {
      "text/html": [
       "<div>\n",
       "<style scoped>\n",
       "    .dataframe tbody tr th:only-of-type {\n",
       "        vertical-align: middle;\n",
       "    }\n",
       "\n",
       "    .dataframe tbody tr th {\n",
       "        vertical-align: top;\n",
       "    }\n",
       "\n",
       "    .dataframe thead th {\n",
       "        text-align: right;\n",
       "    }\n",
       "</style>\n",
       "<table border=\"1\" class=\"dataframe\">\n",
       "  <thead>\n",
       "    <tr style=\"text-align: right;\">\n",
       "      <th></th>\n",
       "      <th>Email</th>\n",
       "      <th>Attended</th>\n",
       "    </tr>\n",
       "  </thead>\n",
       "  <tbody>\n",
       "    <tr>\n",
       "      <th>0</th>\n",
       "      <td>ammarhussen659@gmail.com</td>\n",
       "      <td>No</td>\n",
       "    </tr>\n",
       "    <tr>\n",
       "      <th>1</th>\n",
       "      <td>sergiodegioia@gmail.com</td>\n",
       "      <td>Yes</td>\n",
       "    </tr>\n",
       "  </tbody>\n",
       "</table>\n",
       "</div>"
      ],
      "text/plain": [
       "                      Email Attended\n",
       "0  ammarhussen659@gmail.com       No\n",
       "1   sergiodegioia@gmail.com      Yes"
      ]
     },
     "metadata": {},
     "output_type": "display_data"
    }
   ],
   "source": [
    "#import the attendees from the registration file\n",
    "r_df = pd.read_csv(cwd+'/Registrants_Attendees/'+ra_files[-1],skipinitialspace=True, usecols=['Email','Attended'])\n",
    "display(r_df.head(2))"
   ]
  },
  {
   "cell_type": "code",
   "execution_count": 45,
   "metadata": {},
   "outputs": [
    {
     "name": "stdout",
     "output_type": "stream",
     "text": [
      "175\n"
     ]
    },
    {
     "data": {
      "text/plain": [
       "(175, 1)"
      ]
     },
     "metadata": {},
     "output_type": "display_data"
    },
    {
     "data": {
      "text/html": [
       "<div>\n",
       "<style scoped>\n",
       "    .dataframe tbody tr th:only-of-type {\n",
       "        vertical-align: middle;\n",
       "    }\n",
       "\n",
       "    .dataframe tbody tr th {\n",
       "        vertical-align: top;\n",
       "    }\n",
       "\n",
       "    .dataframe thead th {\n",
       "        text-align: right;\n",
       "    }\n",
       "</style>\n",
       "<table border=\"1\" class=\"dataframe\">\n",
       "  <thead>\n",
       "    <tr style=\"text-align: right;\">\n",
       "      <th></th>\n",
       "      <th>Email</th>\n",
       "    </tr>\n",
       "  </thead>\n",
       "  <tbody>\n",
       "    <tr>\n",
       "      <th>1</th>\n",
       "      <td>sergiodegioia@gmail.com</td>\n",
       "    </tr>\n",
       "    <tr>\n",
       "      <th>2</th>\n",
       "      <td>sangjun2@slac.stanford.edu</td>\n",
       "    </tr>\n",
       "  </tbody>\n",
       "</table>\n",
       "</div>"
      ],
      "text/plain": [
       "                        Email\n",
       "1     sergiodegioia@gmail.com\n",
       "2  sangjun2@slac.stanford.edu"
      ]
     },
     "metadata": {},
     "output_type": "display_data"
    }
   ],
   "source": [
    "# only keep those that have attended\n",
    "r_attend = [] #indexes\n",
    "for ind,val in enumerate(r_df['Attended']):\n",
    "    if val == 'Yes':\n",
    "        r_attend.append(ind)\n",
    "print(len(r_attend))\n",
    "\n",
    "ar_df = pd.DataFrame(r_df.iloc[r_attend,0])\n",
    "display(ar_df.shape)\n",
    "display(ar_df.head(2))"
   ]
  },
  {
   "cell_type": "code",
   "execution_count": 73,
   "metadata": {},
   "outputs": [
    {
     "data": {
      "text/html": [
       "<div>\n",
       "<style scoped>\n",
       "    .dataframe tbody tr th:only-of-type {\n",
       "        vertical-align: middle;\n",
       "    }\n",
       "\n",
       "    .dataframe tbody tr th {\n",
       "        vertical-align: top;\n",
       "    }\n",
       "\n",
       "    .dataframe thead th {\n",
       "        text-align: right;\n",
       "    }\n",
       "</style>\n",
       "<table border=\"1\" class=\"dataframe\">\n",
       "  <thead>\n",
       "    <tr style=\"text-align: right;\">\n",
       "      <th></th>\n",
       "      <th>Name</th>\n",
       "      <th>Email</th>\n",
       "    </tr>\n",
       "  </thead>\n",
       "  <tbody>\n",
       "    <tr>\n",
       "      <th>0</th>\n",
       "      <td>Saaketh Desai</td>\n",
       "      <td>desai61@purdue.edu</td>\n",
       "    </tr>\n",
       "    <tr>\n",
       "      <th>1</th>\n",
       "      <td>Arun Kumar Mannodi Kanakkithodi</td>\n",
       "      <td>amannodi@purdue.edu</td>\n",
       "    </tr>\n",
       "  </tbody>\n",
       "</table>\n",
       "</div>"
      ],
      "text/plain": [
       "                              Name                Email\n",
       "0                    Saaketh Desai   desai61@purdue.edu\n",
       "1  Arun Kumar Mannodi Kanakkithodi  amannodi@purdue.edu"
      ]
     },
     "metadata": {},
     "output_type": "display_data"
    }
   ],
   "source": [
    "# importing attendees from attendees file\n",
    "a_header = 0\n",
    "a_import_flag = False\n",
    "while a_import_flag == False and a_header <= 10:\n",
    "    try:\n",
    "        a_df = pd.read_csv(cwd+'/Registrants_Attendees/'+ra_files[0],enconding='cp1252',header=a_header,\\\n",
    "                       usecols=['Email','Name'])\n",
    "        a_import_flag = True\n",
    "    except:\n",
    "        a_header += 1\n",
    "\n",
    "display(a_df.head(2))"
   ]
  },
  {
   "cell_type": "code",
   "execution_count": 75,
   "metadata": {},
   "outputs": [
    {
     "data": {
      "text/html": [
       "<div>\n",
       "<style scoped>\n",
       "    .dataframe tbody tr th:only-of-type {\n",
       "        vertical-align: middle;\n",
       "    }\n",
       "\n",
       "    .dataframe tbody tr th {\n",
       "        vertical-align: top;\n",
       "    }\n",
       "\n",
       "    .dataframe thead th {\n",
       "        text-align: right;\n",
       "    }\n",
       "</style>\n",
       "<table border=\"1\" class=\"dataframe\">\n",
       "  <thead>\n",
       "    <tr style=\"text-align: right;\">\n",
       "      <th></th>\n",
       "      <th>Email</th>\n",
       "      <th>Name</th>\n",
       "    </tr>\n",
       "  </thead>\n",
       "  <tbody>\n",
       "    <tr>\n",
       "      <th>0</th>\n",
       "      <td>sergiodegioia@gmail.com</td>\n",
       "      <td>NaN</td>\n",
       "    </tr>\n",
       "    <tr>\n",
       "      <th>1</th>\n",
       "      <td>sangjun2@slac.stanford.edu</td>\n",
       "      <td>NaN</td>\n",
       "    </tr>\n",
       "  </tbody>\n",
       "</table>\n",
       "</div>"
      ],
      "text/plain": [
       "                        Email Name\n",
       "0     sergiodegioia@gmail.com  NaN\n",
       "1  sangjun2@slac.stanford.edu  NaN"
      ]
     },
     "metadata": {},
     "output_type": "display_data"
    },
    {
     "data": {
      "text/html": [
       "<div>\n",
       "<style scoped>\n",
       "    .dataframe tbody tr th:only-of-type {\n",
       "        vertical-align: middle;\n",
       "    }\n",
       "\n",
       "    .dataframe tbody tr th {\n",
       "        vertical-align: top;\n",
       "    }\n",
       "\n",
       "    .dataframe thead th {\n",
       "        text-align: right;\n",
       "    }\n",
       "</style>\n",
       "<table border=\"1\" class=\"dataframe\">\n",
       "  <thead>\n",
       "    <tr style=\"text-align: right;\">\n",
       "      <th></th>\n",
       "      <th>Email</th>\n",
       "      <th>Name</th>\n",
       "    </tr>\n",
       "  </thead>\n",
       "  <tbody>\n",
       "    <tr>\n",
       "      <th>404</th>\n",
       "      <td>bahram5237@gmail.com</td>\n",
       "      <td>Bahram Rajabifar</td>\n",
       "    </tr>\n",
       "    <tr>\n",
       "      <th>405</th>\n",
       "      <td>oerturk@purdue.edu</td>\n",
       "      <td>Ozan Erturk</td>\n",
       "    </tr>\n",
       "  </tbody>\n",
       "</table>\n",
       "</div>"
      ],
      "text/plain": [
       "                    Email              Name\n",
       "404  bahram5237@gmail.com  Bahram Rajabifar\n",
       "405    oerturk@purdue.edu       Ozan Erturk"
      ]
     },
     "metadata": {},
     "output_type": "display_data"
    }
   ],
   "source": [
    "# concatenation\n",
    "a_ovr_df = pd.concat([ar_df,a_df],ignore_index=True,sort=True)\n",
    "display(a_ovr_df.head(2))\n",
    "display(a_ovr_df.tail(2))"
   ]
  },
  {
   "cell_type": "code",
   "execution_count": 95,
   "metadata": {},
   "outputs": [
    {
     "name": "stdout",
     "output_type": "stream",
     "text": [
      "[Success] Bulk job creation successful. Job ID = 7505w00000S9jUuAAJ\n",
      "{\"id\":\"7505w00000S9jUuAAJ\",\"operation\":\"query\",\"object\":\"CampaignMember\",\"createdById\":\"0055w00000DM5bOAAT\",\"createdDate\":\"2020-11-20T18:34:58.000+0000\",\"systemModstamp\":\"2020-11-20T18:34:58.000+0000\",\"state\":\"UploadComplete\",\"concurrencyMode\":\"Parallel\",\"contentType\":\"CSV\",\"apiVersion\":47.0,\"jobType\":\"V2Query\",\"lineEnding\":\"LF\",\"columnDelimiter\":\"COMMA\",\"retries\":0,\"totalProcessingTime\":0}\n",
      "{\"id\":\"7505w00000S9jUuAAJ\",\"operation\":\"query\",\"object\":\"CampaignMember\",\"createdById\":\"0055w00000DM5bOAAT\",\"createdDate\":\"2020-11-20T18:34:58.000+0000\",\"systemModstamp\":\"2020-11-20T18:35:01.000+0000\",\"state\":\"JobComplete\",\"concurrencyMode\":\"Parallel\",\"contentType\":\"CSV\",\"apiVersion\":47.0,\"jobType\":\"V2Query\",\"lineEnding\":\"LF\",\"columnDelimiter\":\"COMMA\",\"numberRecordsProcessed\":20124,\"retries\":0,\"totalProcessingTime\":1498}\n",
      "[Success] Bulk job completed successfully.\n"
     ]
    },
    {
     "data": {
      "text/html": [
       "<div>\n",
       "<style scoped>\n",
       "    .dataframe tbody tr th:only-of-type {\n",
       "        vertical-align: middle;\n",
       "    }\n",
       "\n",
       "    .dataframe tbody tr th {\n",
       "        vertical-align: top;\n",
       "    }\n",
       "\n",
       "    .dataframe thead th {\n",
       "        text-align: right;\n",
       "    }\n",
       "</style>\n",
       "<table border=\"1\" class=\"dataframe\">\n",
       "  <thead>\n",
       "    <tr style=\"text-align: right;\">\n",
       "      <th></th>\n",
       "      <th>CampaignId</th>\n",
       "      <th>Campaign_Engagement__c</th>\n",
       "      <th>Email__c</th>\n",
       "    </tr>\n",
       "  </thead>\n",
       "  <tbody>\n",
       "    <tr>\n",
       "      <th>0</th>\n",
       "      <td>7015w000001c7VNAAY</td>\n",
       "      <td>Sent;Opened</td>\n",
       "      <td>goranka.bilalbegovic@gmail.com</td>\n",
       "    </tr>\n",
       "    <tr>\n",
       "      <th>1</th>\n",
       "      <td>7015w000001c7VNAAY</td>\n",
       "      <td>Sent;Opened</td>\n",
       "      <td>bishnoi@ieee.org</td>\n",
       "    </tr>\n",
       "  </tbody>\n",
       "</table>\n",
       "</div>"
      ],
      "text/plain": [
       "           CampaignId Campaign_Engagement__c                        Email__c\n",
       "0  7015w000001c7VNAAY            Sent;Opened  goranka.bilalbegovic@gmail.com\n",
       "1  7015w000001c7VNAAY            Sent;Opened                bishnoi@ieee.org"
      ]
     },
     "metadata": {},
     "output_type": "display_data"
    }
   ],
   "source": [
    "# pull latest information from SF\n",
    "query_member = 'select Email__c, Campaign_Engagement__c, CampaignId from CampaignMember'#\n",
    "current_df = db_c.query_data(query_member)\n",
    "\n",
    "display(current_df.head(2))"
   ]
  },
  {
   "cell_type": "code",
   "execution_count": 96,
   "metadata": {},
   "outputs": [
    {
     "name": "stdout",
     "output_type": "stream",
     "text": [
      "0\n"
     ]
    }
   ],
   "source": [
    "# find matches\n",
    "new_attendees = []\n",
    "for ind,val in enumerate(a_ovr_df['Email'].to_list()):\n",
    "    if val in current_df['Email__c'].to_list():\n",
    "        current_df['Campaign_Engagement__c'][current_df['Email__c'].to_list().index(val)]+= ';Attended'\n",
    "        current_df['Campaign_Engagement__c'][current_df['Email__c'].to_list().index(val)] = \\\n",
    "        ';'.join(list(dict.fromkeys(current_df['Campaign_Engagement__c'][current_df['Email__c'].to_list().index(val)].split(';'))))\n",
    "    else:\n",
    "        new_attendees.append(ind)\n",
    "print(len(new_attendees))"
   ]
  },
  {
   "cell_type": "code",
   "execution_count": 97,
   "metadata": {},
   "outputs": [
    {
     "data": {
      "text/html": [
       "<div>\n",
       "<style scoped>\n",
       "    .dataframe tbody tr th:only-of-type {\n",
       "        vertical-align: middle;\n",
       "    }\n",
       "\n",
       "    .dataframe tbody tr th {\n",
       "        vertical-align: top;\n",
       "    }\n",
       "\n",
       "    .dataframe thead th {\n",
       "        text-align: right;\n",
       "    }\n",
       "</style>\n",
       "<table border=\"1\" class=\"dataframe\">\n",
       "  <thead>\n",
       "    <tr style=\"text-align: right;\">\n",
       "      <th></th>\n",
       "      <th>CampaignId</th>\n",
       "      <th>Campaign_Engagement__c</th>\n",
       "      <th>Email__c</th>\n",
       "    </tr>\n",
       "  </thead>\n",
       "  <tbody>\n",
       "    <tr>\n",
       "      <th>0</th>\n",
       "      <td>7015w000001c7VNAAY</td>\n",
       "      <td>Sent;Opened</td>\n",
       "      <td>goranka.bilalbegovic@gmail.com</td>\n",
       "    </tr>\n",
       "    <tr>\n",
       "      <th>1</th>\n",
       "      <td>7015w000001c7VNAAY</td>\n",
       "      <td>Sent;Opened</td>\n",
       "      <td>bishnoi@ieee.org</td>\n",
       "    </tr>\n",
       "  </tbody>\n",
       "</table>\n",
       "</div>"
      ],
      "text/plain": [
       "           CampaignId Campaign_Engagement__c                        Email__c\n",
       "0  7015w000001c7VNAAY            Sent;Opened  goranka.bilalbegovic@gmail.com\n",
       "1  7015w000001c7VNAAY            Sent;Opened                bishnoi@ieee.org"
      ]
     },
     "metadata": {},
     "output_type": "display_data"
    },
    {
     "data": {
      "text/html": [
       "<div>\n",
       "<style scoped>\n",
       "    .dataframe tbody tr th:only-of-type {\n",
       "        vertical-align: middle;\n",
       "    }\n",
       "\n",
       "    .dataframe tbody tr th {\n",
       "        vertical-align: top;\n",
       "    }\n",
       "\n",
       "    .dataframe thead th {\n",
       "        text-align: right;\n",
       "    }\n",
       "</style>\n",
       "<table border=\"1\" class=\"dataframe\">\n",
       "  <thead>\n",
       "    <tr style=\"text-align: right;\">\n",
       "      <th></th>\n",
       "      <th>CampaignId</th>\n",
       "      <th>Campaign_Engagement__c</th>\n",
       "      <th>Email__c</th>\n",
       "    </tr>\n",
       "  </thead>\n",
       "  <tbody>\n",
       "    <tr>\n",
       "      <th>20122</th>\n",
       "      <td>7015w000001c7d8AAA</td>\n",
       "      <td>Registered;Registered</td>\n",
       "      <td>rong10@purdue.edu</td>\n",
       "    </tr>\n",
       "    <tr>\n",
       "      <th>20123</th>\n",
       "      <td>7015w000001c7d8AAA</td>\n",
       "      <td>Registered;Registered</td>\n",
       "      <td>kimbou@kaist.ac.kr</td>\n",
       "    </tr>\n",
       "  </tbody>\n",
       "</table>\n",
       "</div>"
      ],
      "text/plain": [
       "               CampaignId Campaign_Engagement__c            Email__c\n",
       "20122  7015w000001c7d8AAA  Registered;Registered   rong10@purdue.edu\n",
       "20123  7015w000001c7d8AAA  Registered;Registered  kimbou@kaist.ac.kr"
      ]
     },
     "metadata": {},
     "output_type": "display_data"
    }
   ],
   "source": [
    "display(current_df.head(2))\n",
    "display(current_df.tail(2))"
   ]
  },
  {
   "cell_type": "code",
   "execution_count": 98,
   "metadata": {},
   "outputs": [
    {
     "name": "stdout",
     "output_type": "stream",
     "text": [
      "Obtained Salesforce access token ...... True\n",
      "[Success] Bulk job creation successful. Job ID = 7505w00000S9jV9AAJ\n",
      "[Success] CSV upload successful. Job ID = 7505w00000S9jV9AAJ\n",
      "[Success] Closing job successful. Job ID = 7505w00000S9jV9AAJ\n"
     ]
    }
   ],
   "source": [
    "# create imports for new attendees - TBD\n",
    "db_a = DB2SalesforceAPI(sf_login_params)\n",
    "db_a.external_id = 'Email__c'\n",
    "db_a.object_id = 'CampaignMember'\n",
    "db_a.send_data(current_df)"
   ]
  },
  {
   "cell_type": "code",
   "execution_count": 105,
   "metadata": {},
   "outputs": [
    {
     "data": {
      "text/plain": [
       "{'id': '7505w00000S9jV9AAJ',\n",
       " 'operation': 'upsert',\n",
       " 'object': 'CampaignMember',\n",
       " 'createdById': '0055w00000DM5bOAAT',\n",
       " 'createdDate': '2020-11-20T18:37:14.000+0000',\n",
       " 'systemModstamp': '2020-11-20T18:37:55.000+0000',\n",
       " 'state': 'JobComplete',\n",
       " 'externalIdFieldName': 'Email__c',\n",
       " 'concurrencyMode': 'Parallel',\n",
       " 'contentType': 'CSV',\n",
       " 'apiVersion': 47.0,\n",
       " 'jobType': 'V2Ingest',\n",
       " 'lineEnding': 'LF',\n",
       " 'columnDelimiter': 'COMMA',\n",
       " 'numberRecordsProcessed': 20124,\n",
       " 'numberRecordsFailed': 0,\n",
       " 'retries': 0,\n",
       " 'totalProcessingTime': 48417,\n",
       " 'apiActiveProcessingTime': 42578,\n",
       " 'apexProcessingTime': 70031}"
      ]
     },
     "execution_count": 105,
     "metadata": {},
     "output_type": "execute_result"
    }
   ],
   "source": [
    "# check status\n",
    "db_a.check_bulk_status()"
   ]
  },
  {
   "cell_type": "code",
   "execution_count": 106,
   "metadata": {},
   "outputs": [
    {
     "name": "stdout",
     "output_type": "stream",
     "text": [
      "'\"sf__Id\",\"sf__Error\",CampaignId,Campaign_Engagement__c,Email__c\\n'\n"
     ]
    }
   ],
   "source": [
    "from pprint import pprint\n",
    "\n",
    "pprint(db_a.check_bulk_failed_results())"
   ]
  },
  {
   "cell_type": "code",
   "execution_count": null,
   "metadata": {},
   "outputs": [],
   "source": []
  }
 ],
 "metadata": {
  "kernelspec": {
   "display_name": "Python 3",
   "language": "python",
   "name": "python3"
  },
  "language_info": {
   "codemirror_mode": {
    "name": "ipython",
    "version": 3
   },
   "file_extension": ".py",
   "mimetype": "text/x-python",
   "name": "python",
   "nbconvert_exporter": "python",
   "pygments_lexer": "ipython3",
   "version": "3.7.7"
  }
 },
 "nbformat": 4,
 "nbformat_minor": 4
}
