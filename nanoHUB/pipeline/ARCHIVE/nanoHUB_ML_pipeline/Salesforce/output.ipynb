{
 "cells": [
  {
   "cell_type": "markdown",
   "metadata": {
    "papermill": {
     "duration": 0.014355,
     "end_time": "2020-05-04T05:34:36.446530",
     "exception": false,
     "start_time": "2020-05-04T05:34:36.432175",
     "status": "completed"
    },
    "tags": []
   },
   "source": [
    "# DB2-Salesforce connector: Tools mapping to users"
   ]
  },
  {
   "cell_type": "code",
   "execution_count": 1,
   "metadata": {
    "execution": {
     "iopub.execute_input": "2020-05-04T05:34:36.480448Z",
     "iopub.status.busy": "2020-05-04T05:34:36.479770Z",
     "iopub.status.idle": "2020-05-04T05:34:36.482429Z",
     "shell.execute_reply": "2020-05-04T05:34:36.481816Z"
    },
    "papermill": {
     "duration": 0.024017,
     "end_time": "2020-05-04T05:34:36.482587",
     "exception": false,
     "start_time": "2020-05-04T05:34:36.458570",
     "status": "completed"
    },
    "tags": [
     "parameters"
    ]
   },
   "outputs": [],
   "source": [
    "# API settings\n",
    "bulk_api_threshold = 100 # if more records than this, use Bulk API instead\n",
    "disallow_bulk_api = False # if Bulk API is allowed\n",
    "\n",
    "api_url = '/services/data/v43.0/sobjects'\n",
    "external_id = 'Name'\n",
    "object_id = 'ContactToolAssociation__c'\n",
    "\n",
    "# login parameters to be handled by Papermill\n",
    "sf_login_params = None \n",
    "sql_login_params = None"
   ]
  },
  {
   "cell_type": "code",
   "execution_count": 2,
   "metadata": {
    "execution": {
     "iopub.execute_input": "2020-05-04T05:34:36.516102Z",
     "iopub.status.busy": "2020-05-04T05:34:36.515433Z",
     "iopub.status.idle": "2020-05-04T05:34:36.517484Z",
     "shell.execute_reply": "2020-05-04T05:34:36.518085Z"
    },
    "papermill": {
     "duration": 0.02028,
     "end_time": "2020-05-04T05:34:36.518285",
     "exception": false,
     "start_time": "2020-05-04T05:34:36.498005",
     "status": "completed"
    },
    "tags": [
     "injected-parameters"
    ]
   },
   "outputs": [],
   "source": [
    "# Parameters\n",
    "sql_login_params = {\"username\": \"wang159_ro\", \"password\": \"napoleon0\"}\n",
    "sf_login_params = {\n",
    "    \"grant_type\": \"password\",\n",
    "    \"client_id\": \"3MVG95jctIhbyCppj0SNJ75IsZ1y8UPGZtSNF4j8FNVXz.De8Lu4jHm3rjRosAtsHy6qjHx3i4S_QbQzvBePG\",\n",
    "    \"client_secret\": \"D1623C6D3607D4FC8004B92C761DFB6C1F70CCD129C5501E357028DFA00F5764\",\n",
    "    \"username\": \"wang159-4j1v@force.com\",\n",
    "    \"password\": \"napoleon0eZ3PQpQqE3C3z4wWqEqKGhQ8\",\n",
    "}\n"
   ]
  },
  {
   "cell_type": "code",
   "execution_count": 3,
   "metadata": {
    "execution": {
     "iopub.execute_input": "2020-05-04T05:34:36.546439Z",
     "iopub.status.busy": "2020-05-04T05:34:36.545896Z",
     "iopub.status.idle": "2020-05-04T05:34:42.311676Z",
     "shell.execute_reply": "2020-05-04T05:34:42.311185Z"
    },
    "papermill": {
     "duration": 5.781788,
     "end_time": "2020-05-04T05:34:42.311824",
     "exception": false,
     "start_time": "2020-05-04T05:34:36.530036",
     "status": "completed"
    },
    "tags": []
   },
   "outputs": [],
   "source": [
    "#%load_ext autoreload\n",
    "\n",
    "#%autoreload 2\n",
    "    \n",
    "import pandas as pd\n",
    "import time\n",
    "import datetime\n",
    "\n",
    "from DB2SalesforceAPI import DB2SalesforceAPI"
   ]
  },
  {
   "cell_type": "markdown",
   "metadata": {
    "papermill": {
     "duration": 0.012321,
     "end_time": "2020-05-04T05:34:42.336079",
     "exception": false,
     "start_time": "2020-05-04T05:34:42.323758",
     "status": "completed"
    },
    "tags": []
   },
   "source": [
    "## Obtain tool information from DB2 "
   ]
  },
  {
   "cell_type": "code",
   "execution_count": 4,
   "metadata": {
    "execution": {
     "iopub.execute_input": "2020-05-04T05:34:42.364388Z",
     "iopub.status.busy": "2020-05-04T05:34:42.363674Z",
     "iopub.status.idle": "2020-05-04T05:40:04.396497Z",
     "shell.execute_reply": "2020-05-04T05:40:04.395775Z"
    },
    "papermill": {
     "duration": 322.049378,
     "end_time": "2020-05-04T05:40:04.396634",
     "exception": false,
     "start_time": "2020-05-04T05:34:42.347256",
     "status": "completed"
    },
    "tags": []
   },
   "outputs": [],
   "source": [
    "# connect with DB2\n",
    "import sqlalchemy as sql\n",
    "\n",
    "engine = sql.create_engine('mysql+pymysql://%s:%s@127.0.0.1/nanohub_metrics' \\\n",
    "                                               %(sql_login_params['username'], sql_login_params['password']))\n",
    "\n",
    "# toolstart\n",
    "sql_query = \"select user, tool as instance from nanohub_metrics.toolstart\"\n",
    "\n",
    "toolstart_df = pd.read_sql_query(sql_query, engine)\n",
    "\n",
    "# tool_version\n",
    "sql_query = \"select toolname, instance from nanohub.jos_tool_version\"\n",
    "\n",
    "tool_version_df = pd.read_sql_query(sql_query, engine)"
   ]
  },
  {
   "cell_type": "code",
   "execution_count": 5,
   "metadata": {
    "execution": {
     "iopub.execute_input": "2020-05-04T05:40:07.384303Z",
     "iopub.status.busy": "2020-05-04T05:40:04.833206Z",
     "iopub.status.idle": "2020-05-04T05:40:13.764192Z",
     "shell.execute_reply": "2020-05-04T05:40:13.763737Z"
    },
    "papermill": {
     "duration": 9.355321,
     "end_time": "2020-05-04T05:40:13.764323",
     "exception": false,
     "start_time": "2020-05-04T05:40:04.409002",
     "status": "completed"
    },
    "tags": []
   },
   "outputs": [
    {
     "data": {
      "text/html": [
       "<div>\n",
       "<style scoped>\n",
       "    .dataframe tbody tr th:only-of-type {\n",
       "        vertical-align: middle;\n",
       "    }\n",
       "\n",
       "    .dataframe tbody tr th {\n",
       "        vertical-align: top;\n",
       "    }\n",
       "\n",
       "    .dataframe thead th {\n",
       "        text-align: right;\n",
       "    }\n",
       "</style>\n",
       "<table border=\"1\" class=\"dataframe\">\n",
       "  <thead>\n",
       "    <tr style=\"text-align: right;\">\n",
       "      <th></th>\n",
       "      <th>user</th>\n",
       "      <th>instance</th>\n",
       "    </tr>\n",
       "  </thead>\n",
       "  <tbody>\n",
       "    <tr>\n",
       "      <th>0</th>\n",
       "      <td>herre</td>\n",
       "      <td>cnt-iv</td>\n",
       "    </tr>\n",
       "    <tr>\n",
       "      <th>1</th>\n",
       "      <td>donovan</td>\n",
       "      <td>huckel-iv</td>\n",
       "    </tr>\n",
       "  </tbody>\n",
       "</table>\n",
       "</div>"
      ],
      "text/plain": [
       "      user   instance\n",
       "0    herre     cnt-iv\n",
       "1  donovan  huckel-iv"
      ]
     },
     "metadata": {},
     "output_type": "display_data"
    },
    {
     "data": {
      "text/html": [
       "<div>\n",
       "<style scoped>\n",
       "    .dataframe tbody tr th:only-of-type {\n",
       "        vertical-align: middle;\n",
       "    }\n",
       "\n",
       "    .dataframe tbody tr th {\n",
       "        vertical-align: top;\n",
       "    }\n",
       "\n",
       "    .dataframe thead th {\n",
       "        text-align: right;\n",
       "    }\n",
       "</style>\n",
       "<table border=\"1\" class=\"dataframe\">\n",
       "  <thead>\n",
       "    <tr style=\"text-align: right;\">\n",
       "      <th></th>\n",
       "      <th>toolname</th>\n",
       "      <th>instance</th>\n",
       "    </tr>\n",
       "  </thead>\n",
       "  <tbody>\n",
       "    <tr>\n",
       "      <th>0</th>\n",
       "      <td>112016a</td>\n",
       "      <td>112016a_dev</td>\n",
       "    </tr>\n",
       "    <tr>\n",
       "      <th>1</th>\n",
       "      <td>1dbtetransient</td>\n",
       "      <td>1dbtetransient_dev</td>\n",
       "    </tr>\n",
       "  </tbody>\n",
       "</table>\n",
       "</div>"
      ],
      "text/plain": [
       "         toolname            instance\n",
       "0         112016a         112016a_dev\n",
       "1  1dbtetransient  1dbtetransient_dev"
      ]
     },
     "metadata": {},
     "output_type": "display_data"
    }
   ],
   "source": [
    "# convert all to lower case\n",
    "toolstart_df['user'] = toolstart_df['user'].apply(str.lower)\n",
    "toolstart_df['instance'] = toolstart_df['instance'].apply(str.lower)\n",
    "\n",
    "tool_version_df['toolname'] = tool_version_df['toolname'].apply(str.lower)\n",
    "tool_version_df['instance'] = tool_version_df['instance'].apply(str.lower)\n",
    "\n",
    "# display\n",
    "\n",
    "display(toolstart_df.head(2))\n",
    "display(tool_version_df.head(2))"
   ]
  },
  {
   "cell_type": "code",
   "execution_count": 6,
   "metadata": {
    "execution": {
     "iopub.execute_input": "2020-05-04T05:40:13.805265Z",
     "iopub.status.busy": "2020-05-04T05:40:13.804658Z",
     "iopub.status.idle": "2020-05-04T05:40:13.816485Z",
     "shell.execute_reply": "2020-05-04T05:40:13.815823Z"
    },
    "papermill": {
     "duration": 0.039046,
     "end_time": "2020-05-04T05:40:13.816614",
     "exception": false,
     "start_time": "2020-05-04T05:40:13.777568",
     "status": "completed"
    },
    "tags": []
   },
   "outputs": [
    {
     "data": {
      "text/html": [
       "<div>\n",
       "<style scoped>\n",
       "    .dataframe tbody tr th:only-of-type {\n",
       "        vertical-align: middle;\n",
       "    }\n",
       "\n",
       "    .dataframe tbody tr th {\n",
       "        vertical-align: top;\n",
       "    }\n",
       "\n",
       "    .dataframe thead th {\n",
       "        text-align: right;\n",
       "    }\n",
       "</style>\n",
       "<table border=\"1\" class=\"dataframe\">\n",
       "  <thead>\n",
       "    <tr style=\"text-align: right;\">\n",
       "      <th></th>\n",
       "      <th>toolname</th>\n",
       "      <th>instance</th>\n",
       "    </tr>\n",
       "  </thead>\n",
       "  <tbody>\n",
       "    <tr>\n",
       "      <th>0</th>\n",
       "      <td>112016a</td>\n",
       "      <td>112016a</td>\n",
       "    </tr>\n",
       "    <tr>\n",
       "      <th>1</th>\n",
       "      <td>1dbtetransient</td>\n",
       "      <td>1dbtetransient</td>\n",
       "    </tr>\n",
       "    <tr>\n",
       "      <th>2</th>\n",
       "      <td>1dchainmd</td>\n",
       "      <td>1dchainmd</td>\n",
       "    </tr>\n",
       "  </tbody>\n",
       "</table>\n",
       "</div>"
      ],
      "text/plain": [
       "         toolname        instance\n",
       "0         112016a         112016a\n",
       "1  1dbtetransient  1dbtetransient\n",
       "2       1dchainmd       1dchainmd"
      ]
     },
     "execution_count": 6,
     "metadata": {},
     "output_type": "execute_result"
    }
   ],
   "source": [
    "# insert the toolname into instance as well\n",
    "dummy = pd.DataFrame()\n",
    "dummy['toolname'] = tool_version_df['toolname'].drop_duplicates()\n",
    "dummy['instance'] = dummy['toolname']\n",
    "\n",
    "tool_version_df = pd.concat([dummy, tool_version_df], axis=0).drop_duplicates().reset_index(drop=True)\n",
    "\n",
    "# display\n",
    "tool_version_df.head(3)"
   ]
  },
  {
   "cell_type": "code",
   "execution_count": 7,
   "metadata": {
    "execution": {
     "iopub.execute_input": "2020-05-04T05:40:15.821833Z",
     "iopub.status.busy": "2020-05-04T05:40:15.821070Z",
     "iopub.status.idle": "2020-05-04T05:40:23.316513Z",
     "shell.execute_reply": "2020-05-04T05:40:23.315917Z"
    },
    "papermill": {
     "duration": 9.486306,
     "end_time": "2020-05-04T05:40:23.316665",
     "exception": false,
     "start_time": "2020-05-04T05:40:13.830359",
     "status": "completed"
    },
    "tags": []
   },
   "outputs": [],
   "source": [
    "# merge toolname into toolstart\n",
    "df = pd.merge(toolstart_df, tool_version_df, how='left', left_on='instance', right_on='instance')[['user', 'toolname']]"
   ]
  },
  {
   "cell_type": "code",
   "execution_count": 8,
   "metadata": {
    "execution": {
     "iopub.execute_input": "2020-05-04T05:40:24.058524Z",
     "iopub.status.busy": "2020-05-04T05:40:24.057471Z",
     "iopub.status.idle": "2020-05-04T05:40:29.066242Z",
     "shell.execute_reply": "2020-05-04T05:40:29.066653Z"
    },
    "papermill": {
     "duration": 5.734804,
     "end_time": "2020-05-04T05:40:29.066845",
     "exception": false,
     "start_time": "2020-05-04T05:40:23.332041",
     "status": "completed"
    },
    "tags": []
   },
   "outputs": [],
   "source": [
    "# count number of tool runs by each user, each tool\n",
    "df = df.groupby(['user', 'toolname'])['toolname'].count().to_frame(name='cnt').reset_index()"
   ]
  },
  {
   "cell_type": "code",
   "execution_count": 9,
   "metadata": {
    "execution": {
     "iopub.execute_input": "2020-05-04T05:40:29.139187Z",
     "iopub.status.busy": "2020-05-04T05:40:29.138598Z",
     "iopub.status.idle": "2020-05-04T05:40:29.283555Z",
     "shell.execute_reply": "2020-05-04T05:40:29.283124Z"
    },
    "papermill": {
     "duration": 0.203162,
     "end_time": "2020-05-04T05:40:29.283696",
     "exception": false,
     "start_time": "2020-05-04T05:40:29.080534",
     "status": "completed"
    },
    "tags": []
   },
   "outputs": [
    {
     "data": {
      "text/html": [
       "<div>\n",
       "<style scoped>\n",
       "    .dataframe tbody tr th:only-of-type {\n",
       "        vertical-align: middle;\n",
       "    }\n",
       "\n",
       "    .dataframe tbody tr th {\n",
       "        vertical-align: top;\n",
       "    }\n",
       "\n",
       "    .dataframe thead th {\n",
       "        text-align: right;\n",
       "    }\n",
       "</style>\n",
       "<table border=\"1\" class=\"dataframe\">\n",
       "  <thead>\n",
       "    <tr style=\"text-align: right;\">\n",
       "      <th></th>\n",
       "      <th>user</th>\n",
       "      <th>toolname</th>\n",
       "      <th>cnt</th>\n",
       "    </tr>\n",
       "  </thead>\n",
       "  <tbody>\n",
       "    <tr>\n",
       "      <th>0</th>\n",
       "      <td>0.yao.yuan</td>\n",
       "      <td>mosfet</td>\n",
       "      <td>11</td>\n",
       "    </tr>\n",
       "    <tr>\n",
       "      <th>1</th>\n",
       "      <td>0.yao.yuan</td>\n",
       "      <td>mosfetsat</td>\n",
       "      <td>4</td>\n",
       "    </tr>\n",
       "    <tr>\n",
       "      <th>2</th>\n",
       "      <td>008dilip</td>\n",
       "      <td>abacus</td>\n",
       "      <td>14</td>\n",
       "    </tr>\n",
       "  </tbody>\n",
       "</table>\n",
       "</div>"
      ],
      "text/plain": [
       "         user   toolname  cnt\n",
       "0  0.yao.yuan     mosfet   11\n",
       "1  0.yao.yuan  mosfetsat    4\n",
       "2    008dilip     abacus   14"
      ]
     },
     "execution_count": 9,
     "metadata": {},
     "output_type": "execute_result"
    }
   ],
   "source": [
    "# just in case some NaN values made through\n",
    "df = df[~df.user.isna()]\n",
    "df = df[~df.toolname.isna()]\n",
    "\n",
    "# display\n",
    "df.head(3)"
   ]
  },
  {
   "cell_type": "markdown",
   "metadata": {
    "papermill": {
     "duration": 0.013636,
     "end_time": "2020-05-04T05:40:29.311473",
     "exception": false,
     "start_time": "2020-05-04T05:40:29.297837",
     "status": "completed"
    },
    "tags": []
   },
   "source": [
    "## Obtain Salesforce IDs"
   ]
  },
  {
   "cell_type": "code",
   "execution_count": 10,
   "metadata": {
    "execution": {
     "iopub.execute_input": "2020-05-04T05:40:29.343871Z",
     "iopub.status.busy": "2020-05-04T05:40:29.343306Z",
     "iopub.status.idle": "2020-05-04T05:40:29.826355Z",
     "shell.execute_reply": "2020-05-04T05:40:29.825859Z"
    },
    "papermill": {
     "duration": 0.501191,
     "end_time": "2020-05-04T05:40:29.826546",
     "exception": false,
     "start_time": "2020-05-04T05:40:29.325355",
     "status": "completed"
    },
    "tags": []
   },
   "outputs": [
    {
     "name": "stdout",
     "output_type": "stream",
     "text": [
      "Obtained Salesforce access token ...... True\n"
     ]
    }
   ],
   "source": [
    "# create DB2 to Salesforce API object\n",
    "db_s = DB2SalesforceAPI(sf_login_params)"
   ]
  },
  {
   "cell_type": "code",
   "execution_count": 11,
   "metadata": {
    "execution": {
     "iopub.execute_input": "2020-05-04T05:40:29.863148Z",
     "iopub.status.busy": "2020-05-04T05:40:29.862535Z",
     "iopub.status.idle": "2020-05-04T05:41:36.518424Z",
     "shell.execute_reply": "2020-05-04T05:41:36.518975Z"
    },
    "papermill": {
     "duration": 66.676004,
     "end_time": "2020-05-04T05:41:36.519133",
     "exception": false,
     "start_time": "2020-05-04T05:40:29.843129",
     "status": "completed"
    },
    "tags": []
   },
   "outputs": [
    {
     "name": "stdout",
     "output_type": "stream",
     "text": [
      "[Success] Bulk job creation successful. Job ID = 7505w00000LNAmtAAH\n"
     ]
    },
    {
     "name": "stdout",
     "output_type": "stream",
     "text": [
      "{\"id\":\"7505w00000LNAmtAAH\",\"operation\":\"query\",\"object\":\"Contact\",\"createdById\":\"0055w00000ArpYvAAJ\",\"createdDate\":\"2020-05-04T05:40:30.000+0000\",\"systemModstamp\":\"2020-05-04T05:40:30.000+0000\",\"state\":\"UploadComplete\",\"concurrencyMode\":\"Parallel\",\"contentType\":\"CSV\",\"apiVersion\":47.0,\"jobType\":\"V2Query\",\"lineEnding\":\"LF\",\"columnDelimiter\":\"COMMA\",\"retries\":0,\"totalProcessingTime\":0}\n"
     ]
    },
    {
     "name": "stdout",
     "output_type": "stream",
     "text": [
      "{\"id\":\"7505w00000LNAmtAAH\",\"operation\":\"query\",\"object\":\"Contact\",\"createdById\":\"0055w00000ArpYvAAJ\",\"createdDate\":\"2020-05-04T05:40:30.000+0000\",\"systemModstamp\":\"2020-05-04T05:40:30.000+0000\",\"state\":\"UploadComplete\",\"concurrencyMode\":\"Parallel\",\"contentType\":\"CSV\",\"apiVersion\":47.0,\"jobType\":\"V2Query\",\"lineEnding\":\"LF\",\"columnDelimiter\":\"COMMA\",\"retries\":0,\"totalProcessingTime\":0}\n"
     ]
    },
    {
     "name": "stdout",
     "output_type": "stream",
     "text": [
      "{\"id\":\"7505w00000LNAmtAAH\",\"operation\":\"query\",\"object\":\"Contact\",\"createdById\":\"0055w00000ArpYvAAJ\",\"createdDate\":\"2020-05-04T05:40:30.000+0000\",\"systemModstamp\":\"2020-05-04T05:40:42.000+0000\",\"state\":\"InProgress\",\"concurrencyMode\":\"Parallel\",\"contentType\":\"CSV\",\"apiVersion\":47.0,\"jobType\":\"V2Query\",\"lineEnding\":\"LF\",\"columnDelimiter\":\"COMMA\",\"numberRecordsProcessed\":0,\"retries\":0,\"totalProcessingTime\":0}\n"
     ]
    },
    {
     "name": "stdout",
     "output_type": "stream",
     "text": [
      "{\"id\":\"7505w00000LNAmtAAH\",\"operation\":\"query\",\"object\":\"Contact\",\"createdById\":\"0055w00000ArpYvAAJ\",\"createdDate\":\"2020-05-04T05:40:30.000+0000\",\"systemModstamp\":\"2020-05-04T05:40:42.000+0000\",\"state\":\"InProgress\",\"concurrencyMode\":\"Parallel\",\"contentType\":\"CSV\",\"apiVersion\":47.0,\"jobType\":\"V2Query\",\"lineEnding\":\"LF\",\"columnDelimiter\":\"COMMA\",\"numberRecordsProcessed\":0,\"retries\":0,\"totalProcessingTime\":0}\n"
     ]
    },
    {
     "name": "stdout",
     "output_type": "stream",
     "text": [
      "{\"id\":\"7505w00000LNAmtAAH\",\"operation\":\"query\",\"object\":\"Contact\",\"createdById\":\"0055w00000ArpYvAAJ\",\"createdDate\":\"2020-05-04T05:40:30.000+0000\",\"systemModstamp\":\"2020-05-04T05:40:42.000+0000\",\"state\":\"InProgress\",\"concurrencyMode\":\"Parallel\",\"contentType\":\"CSV\",\"apiVersion\":47.0,\"jobType\":\"V2Query\",\"lineEnding\":\"LF\",\"columnDelimiter\":\"COMMA\",\"numberRecordsProcessed\":0,\"retries\":0,\"totalProcessingTime\":0}\n"
     ]
    },
    {
     "name": "stdout",
     "output_type": "stream",
     "text": [
      "{\"id\":\"7505w00000LNAmtAAH\",\"operation\":\"query\",\"object\":\"Contact\",\"createdById\":\"0055w00000ArpYvAAJ\",\"createdDate\":\"2020-05-04T05:40:30.000+0000\",\"systemModstamp\":\"2020-05-04T05:40:42.000+0000\",\"state\":\"InProgress\",\"concurrencyMode\":\"Parallel\",\"contentType\":\"CSV\",\"apiVersion\":47.0,\"jobType\":\"V2Query\",\"lineEnding\":\"LF\",\"columnDelimiter\":\"COMMA\",\"numberRecordsProcessed\":0,\"retries\":0,\"totalProcessingTime\":0}\n"
     ]
    },
    {
     "name": "stdout",
     "output_type": "stream",
     "text": [
      "{\"id\":\"7505w00000LNAmtAAH\",\"operation\":\"query\",\"object\":\"Contact\",\"createdById\":\"0055w00000ArpYvAAJ\",\"createdDate\":\"2020-05-04T05:40:30.000+0000\",\"systemModstamp\":\"2020-05-04T05:41:32.000+0000\",\"state\":\"JobComplete\",\"concurrencyMode\":\"Parallel\",\"contentType\":\"CSV\",\"apiVersion\":47.0,\"jobType\":\"V2Query\",\"lineEnding\":\"LF\",\"columnDelimiter\":\"COMMA\",\"numberRecordsProcessed\":216165,\"retries\":0,\"totalProcessingTime\":10219}\n",
      "[Success] Bulk job completed successfully.\n"
     ]
    },
    {
     "data": {
      "text/html": [
       "<div>\n",
       "<style scoped>\n",
       "    .dataframe tbody tr th:only-of-type {\n",
       "        vertical-align: middle;\n",
       "    }\n",
       "\n",
       "    .dataframe tbody tr th {\n",
       "        vertical-align: top;\n",
       "    }\n",
       "\n",
       "    .dataframe thead th {\n",
       "        text-align: right;\n",
       "    }\n",
       "</style>\n",
       "<table border=\"1\" class=\"dataframe\">\n",
       "  <thead>\n",
       "    <tr style=\"text-align: right;\">\n",
       "      <th></th>\n",
       "      <th>Id</th>\n",
       "      <th>nanoHUB_username__c</th>\n",
       "    </tr>\n",
       "  </thead>\n",
       "  <tbody>\n",
       "    <tr>\n",
       "      <th>0</th>\n",
       "      <td>0035w000031Vsp1AAC</td>\n",
       "      <td>hubrepo</td>\n",
       "    </tr>\n",
       "    <tr>\n",
       "      <th>1</th>\n",
       "      <td>0035w000031Vsp2AAC</td>\n",
       "      <td>support</td>\n",
       "    </tr>\n",
       "    <tr>\n",
       "      <th>2</th>\n",
       "      <td>0035w000031Vsp3AAC</td>\n",
       "      <td>gridstat</td>\n",
       "    </tr>\n",
       "  </tbody>\n",
       "</table>\n",
       "</div>"
      ],
      "text/plain": [
       "                   Id nanoHUB_username__c\n",
       "0  0035w000031Vsp1AAC             hubrepo\n",
       "1  0035w000031Vsp2AAC             support\n",
       "2  0035w000031Vsp3AAC            gridstat"
      ]
     },
     "execution_count": 11,
     "metadata": {},
     "output_type": "execute_result"
    }
   ],
   "source": [
    "# query the Salesforce IDs for contacts and citations. when updating junction objects, these IDs must be used\n",
    "\n",
    "# get Salesforce ID for contacts\n",
    "sf_username_df = db_s.query_data('SELECT Id, nanoHUB_username__c FROM Contact where nanoHUB_username__c != NULL')\n",
    "\n",
    "# display\n",
    "sf_username_df.head(3)"
   ]
  },
  {
   "cell_type": "code",
   "execution_count": 12,
   "metadata": {
    "execution": {
     "iopub.execute_input": "2020-05-04T05:41:36.557962Z",
     "iopub.status.busy": "2020-05-04T05:41:36.557407Z",
     "iopub.status.idle": "2020-05-04T05:41:48.145380Z",
     "shell.execute_reply": "2020-05-04T05:41:48.145856Z"
    },
    "papermill": {
     "duration": 11.61054,
     "end_time": "2020-05-04T05:41:48.146024",
     "exception": false,
     "start_time": "2020-05-04T05:41:36.535484",
     "status": "completed"
    },
    "tags": []
   },
   "outputs": [
    {
     "name": "stdout",
     "output_type": "stream",
     "text": [
      "[Success] Bulk job creation successful. Job ID = 7505w00000LNAn8AAH\n"
     ]
    },
    {
     "name": "stdout",
     "output_type": "stream",
     "text": [
      "{\"id\":\"7505w00000LNAn8AAH\",\"operation\":\"query\",\"object\":\"nanoHUB_tools__c\",\"createdById\":\"0055w00000ArpYvAAJ\",\"createdDate\":\"2020-05-04T05:41:37.000+0000\",\"systemModstamp\":\"2020-05-04T05:41:37.000+0000\",\"state\":\"UploadComplete\",\"concurrencyMode\":\"Parallel\",\"contentType\":\"CSV\",\"apiVersion\":47.0,\"jobType\":\"V2Query\",\"lineEnding\":\"LF\",\"columnDelimiter\":\"COMMA\",\"retries\":0,\"totalProcessingTime\":0}\n"
     ]
    },
    {
     "name": "stdout",
     "output_type": "stream",
     "text": [
      "{\"id\":\"7505w00000LNAn8AAH\",\"operation\":\"query\",\"object\":\"nanoHUB_tools__c\",\"createdById\":\"0055w00000ArpYvAAJ\",\"createdDate\":\"2020-05-04T05:41:37.000+0000\",\"systemModstamp\":\"2020-05-04T05:41:40.000+0000\",\"state\":\"JobComplete\",\"concurrencyMode\":\"Parallel\",\"contentType\":\"CSV\",\"apiVersion\":47.0,\"jobType\":\"V2Query\",\"lineEnding\":\"LF\",\"columnDelimiter\":\"COMMA\",\"numberRecordsProcessed\":1588,\"retries\":0,\"totalProcessingTime\":925}\n",
      "[Success] Bulk job completed successfully.\n"
     ]
    },
    {
     "data": {
      "text/html": [
       "<div>\n",
       "<style scoped>\n",
       "    .dataframe tbody tr th:only-of-type {\n",
       "        vertical-align: middle;\n",
       "    }\n",
       "\n",
       "    .dataframe tbody tr th {\n",
       "        vertical-align: top;\n",
       "    }\n",
       "\n",
       "    .dataframe thead th {\n",
       "        text-align: right;\n",
       "    }\n",
       "</style>\n",
       "<table border=\"1\" class=\"dataframe\">\n",
       "  <thead>\n",
       "    <tr style=\"text-align: right;\">\n",
       "      <th></th>\n",
       "      <th>Id</th>\n",
       "      <th>Tool_name__c</th>\n",
       "    </tr>\n",
       "  </thead>\n",
       "  <tbody>\n",
       "    <tr>\n",
       "      <th>0</th>\n",
       "      <td>a0s5w00000k5MOwAAM</td>\n",
       "      <td>ellipsom</td>\n",
       "    </tr>\n",
       "    <tr>\n",
       "      <th>1</th>\n",
       "      <td>a0s5w00000k5MOxAAM</td>\n",
       "      <td>hydrolab</td>\n",
       "    </tr>\n",
       "    <tr>\n",
       "      <th>2</th>\n",
       "      <td>a0s5w00000k5MOyAAM</td>\n",
       "      <td>huckel</td>\n",
       "    </tr>\n",
       "  </tbody>\n",
       "</table>\n",
       "</div>"
      ],
      "text/plain": [
       "                   Id Tool_name__c\n",
       "0  a0s5w00000k5MOwAAM     ellipsom\n",
       "1  a0s5w00000k5MOxAAM     hydrolab\n",
       "2  a0s5w00000k5MOyAAM       huckel"
      ]
     },
     "execution_count": 12,
     "metadata": {},
     "output_type": "execute_result"
    }
   ],
   "source": [
    "# get Salesforce ID for citations\n",
    "sf_tool_df = db_s.query_data('SELECT Id, Tool_name__c FROM nanoHUB_tools__c')\n",
    "\n",
    "# display\n",
    "sf_tool_df.head(3)"
   ]
  },
  {
   "cell_type": "markdown",
   "metadata": {
    "papermill": {
     "duration": 0.018347,
     "end_time": "2020-05-04T05:41:48.184636",
     "exception": false,
     "start_time": "2020-05-04T05:41:48.166289",
     "status": "completed"
    },
    "tags": []
   },
   "source": [
    "## Match data with Salesforce format"
   ]
  },
  {
   "cell_type": "code",
   "execution_count": 13,
   "metadata": {
    "execution": {
     "iopub.execute_input": "2020-05-04T05:41:48.230834Z",
     "iopub.status.busy": "2020-05-04T05:41:48.230087Z",
     "iopub.status.idle": "2020-05-04T05:41:48.319952Z",
     "shell.execute_reply": "2020-05-04T05:41:48.319425Z"
    },
    "papermill": {
     "duration": 0.115381,
     "end_time": "2020-05-04T05:41:48.320126",
     "exception": false,
     "start_time": "2020-05-04T05:41:48.204745",
     "status": "completed"
    },
    "tags": []
   },
   "outputs": [],
   "source": [
    "# make sure all strings are lower cases\n",
    "\n",
    "sf_username_df['nanoHUB_username__c'] = sf_username_df['nanoHUB_username__c'].astype('str').apply(str.lower)\n",
    "\n",
    "sf_tool_df['Tool_name__c'] = sf_tool_df['Tool_name__c'].astype('str').apply(str.lower)"
   ]
  },
  {
   "cell_type": "code",
   "execution_count": 14,
   "metadata": {
    "execution": {
     "iopub.execute_input": "2020-05-04T05:41:48.388803Z",
     "iopub.status.busy": "2020-05-04T05:41:48.388163Z",
     "iopub.status.idle": "2020-05-04T05:41:49.318788Z",
     "shell.execute_reply": "2020-05-04T05:41:49.318085Z"
    },
    "papermill": {
     "duration": 0.977102,
     "end_time": "2020-05-04T05:41:49.318917",
     "exception": false,
     "start_time": "2020-05-04T05:41:48.341815",
     "status": "completed"
    },
    "tags": []
   },
   "outputs": [
    {
     "data": {
      "text/html": [
       "<div>\n",
       "<style scoped>\n",
       "    .dataframe tbody tr th:only-of-type {\n",
       "        vertical-align: middle;\n",
       "    }\n",
       "\n",
       "    .dataframe tbody tr th {\n",
       "        vertical-align: top;\n",
       "    }\n",
       "\n",
       "    .dataframe thead th {\n",
       "        text-align: right;\n",
       "    }\n",
       "</style>\n",
       "<table border=\"1\" class=\"dataframe\">\n",
       "  <thead>\n",
       "    <tr style=\"text-align: right;\">\n",
       "      <th></th>\n",
       "      <th>user</th>\n",
       "      <th>toolname</th>\n",
       "      <th>cnt</th>\n",
       "      <th>SF_ID_tool</th>\n",
       "      <th>Tool_name__c</th>\n",
       "      <th>SF_ID_contact</th>\n",
       "      <th>nanoHUB_username__c</th>\n",
       "    </tr>\n",
       "  </thead>\n",
       "  <tbody>\n",
       "    <tr>\n",
       "      <th>0</th>\n",
       "      <td>0.yao.yuan</td>\n",
       "      <td>mosfet</td>\n",
       "      <td>11</td>\n",
       "      <td>a0s5w00000k5MPbAAM</td>\n",
       "      <td>mosfet</td>\n",
       "      <td>0035w000034IX15AAG</td>\n",
       "      <td>0.yao.yuan</td>\n",
       "    </tr>\n",
       "    <tr>\n",
       "      <th>1</th>\n",
       "      <td>0.yao.yuan</td>\n",
       "      <td>mosfetsat</td>\n",
       "      <td>4</td>\n",
       "      <td>a0s5w00000k5Mc5AAE</td>\n",
       "      <td>mosfetsat</td>\n",
       "      <td>0035w000034IX15AAG</td>\n",
       "      <td>0.yao.yuan</td>\n",
       "    </tr>\n",
       "  </tbody>\n",
       "</table>\n",
       "</div>"
      ],
      "text/plain": [
       "         user   toolname  cnt          SF_ID_tool Tool_name__c  \\\n",
       "0  0.yao.yuan     mosfet   11  a0s5w00000k5MPbAAM       mosfet   \n",
       "1  0.yao.yuan  mosfetsat    4  a0s5w00000k5Mc5AAE    mosfetsat   \n",
       "\n",
       "        SF_ID_contact nanoHUB_username__c  \n",
       "0  0035w000034IX15AAG          0.yao.yuan  \n",
       "1  0035w000034IX15AAG          0.yao.yuan  "
      ]
     },
     "execution_count": 14,
     "metadata": {},
     "output_type": "execute_result"
    }
   ],
   "source": [
    "# merge SF citation and contact IDs into user-citation DF\n",
    "ct_tolink_df = pd.merge(df, sf_tool_df, how='inner', left_on='toolname', right_on='Tool_name__c')\\\n",
    "                           .rename(columns={'Id':'SF_ID_tool'})\n",
    "                                            \n",
    "ct_tolink_df = pd.merge(ct_tolink_df, sf_username_df, how='inner', left_on='user', right_on='nanoHUB_username__c')\\\n",
    "                           .rename(columns={'Id':'SF_ID_contact'})\n",
    "\n",
    "# display\n",
    "ct_tolink_df.head(2)"
   ]
  },
  {
   "cell_type": "code",
   "execution_count": 15,
   "metadata": {
    "execution": {
     "iopub.execute_input": "2020-05-04T05:41:49.361749Z",
     "iopub.status.busy": "2020-05-04T05:41:49.361176Z",
     "iopub.status.idle": "2020-05-04T05:42:00.821065Z",
     "shell.execute_reply": "2020-05-04T05:42:00.820391Z"
    },
    "papermill": {
     "duration": 11.4831,
     "end_time": "2020-05-04T05:42:00.821216",
     "exception": false,
     "start_time": "2020-05-04T05:41:49.338116",
     "status": "completed"
    },
    "tags": []
   },
   "outputs": [],
   "source": [
    "# create a new column for object name\n",
    "ct_tolink_df['Name'] = ct_tolink_df.apply(lambda x: '%s_%s'%(x.nanoHUB_username__c, x.Tool_name__c), axis=1)"
   ]
  },
  {
   "cell_type": "code",
   "execution_count": 16,
   "metadata": {
    "execution": {
     "iopub.execute_input": "2020-05-04T05:42:00.871163Z",
     "iopub.status.busy": "2020-05-04T05:42:00.870484Z",
     "iopub.status.idle": "2020-05-04T05:42:00.918082Z",
     "shell.execute_reply": "2020-05-04T05:42:00.917464Z"
    },
    "papermill": {
     "duration": 0.074539,
     "end_time": "2020-05-04T05:42:00.918208",
     "exception": false,
     "start_time": "2020-05-04T05:42:00.843669",
     "status": "completed"
    },
    "tags": []
   },
   "outputs": [
    {
     "data": {
      "text/html": [
       "<div>\n",
       "<style scoped>\n",
       "    .dataframe tbody tr th:only-of-type {\n",
       "        vertical-align: middle;\n",
       "    }\n",
       "\n",
       "    .dataframe tbody tr th {\n",
       "        vertical-align: top;\n",
       "    }\n",
       "\n",
       "    .dataframe thead th {\n",
       "        text-align: right;\n",
       "    }\n",
       "</style>\n",
       "<table border=\"1\" class=\"dataframe\">\n",
       "  <thead>\n",
       "    <tr style=\"text-align: right;\">\n",
       "      <th></th>\n",
       "      <th>0</th>\n",
       "      <th>1</th>\n",
       "    </tr>\n",
       "  </thead>\n",
       "  <tbody>\n",
       "    <tr>\n",
       "      <th>Name</th>\n",
       "      <td>0.yao.yuan_mosfet</td>\n",
       "      <td>0.yao.yuan_mosfetsat</td>\n",
       "    </tr>\n",
       "    <tr>\n",
       "      <th>Contact__c</th>\n",
       "      <td>0035w000034IX15AAG</td>\n",
       "      <td>0035w000034IX15AAG</td>\n",
       "    </tr>\n",
       "    <tr>\n",
       "      <th>Tool__c</th>\n",
       "      <td>a0s5w00000k5MPbAAM</td>\n",
       "      <td>a0s5w00000k5Mc5AAE</td>\n",
       "    </tr>\n",
       "    <tr>\n",
       "      <th>Total_Runs__c</th>\n",
       "      <td>11</td>\n",
       "      <td>4</td>\n",
       "    </tr>\n",
       "  </tbody>\n",
       "</table>\n",
       "</div>"
      ],
      "text/plain": [
       "                                0                     1\n",
       "Name            0.yao.yuan_mosfet  0.yao.yuan_mosfetsat\n",
       "Contact__c     0035w000034IX15AAG    0035w000034IX15AAG\n",
       "Tool__c        a0s5w00000k5MPbAAM    a0s5w00000k5Mc5AAE\n",
       "Total_Runs__c                  11                     4"
      ]
     },
     "execution_count": 16,
     "metadata": {},
     "output_type": "execute_result"
    }
   ],
   "source": [
    "df_sf = pd.DataFrame()\n",
    "\n",
    "# Make sure NaN and NaT values are taken care of here\n",
    "df_sf['Name']         = ct_tolink_df['Name']\n",
    "df_sf['Contact__c'] = ct_tolink_df['SF_ID_contact']\n",
    "df_sf['Tool__c']       = ct_tolink_df['SF_ID_tool']\n",
    "df_sf['Total_Runs__c'] = ct_tolink_df['cnt']\n",
    "sf_original_fields = df_sf.columns\n",
    "\n",
    "# display\n",
    "df_sf.head(2).T"
   ]
  },
  {
   "cell_type": "markdown",
   "metadata": {
    "papermill": {
     "duration": 0.021365,
     "end_time": "2020-05-04T05:42:00.961313",
     "exception": false,
     "start_time": "2020-05-04T05:42:00.939948",
     "status": "completed"
    },
    "tags": []
   },
   "source": [
    "## To Salesforce Sales Cloud CRM"
   ]
  },
  {
   "cell_type": "code",
   "execution_count": 17,
   "metadata": {
    "execution": {
     "iopub.execute_input": "2020-05-04T05:42:01.010920Z",
     "iopub.status.busy": "2020-05-04T05:42:01.010301Z",
     "iopub.status.idle": "2020-05-04T05:42:01.355942Z",
     "shell.execute_reply": "2020-05-04T05:42:01.355209Z"
    },
    "papermill": {
     "duration": 0.373143,
     "end_time": "2020-05-04T05:42:01.356073",
     "exception": false,
     "start_time": "2020-05-04T05:42:00.982930",
     "status": "completed"
    },
    "tags": []
   },
   "outputs": [
    {
     "name": "stdout",
     "output_type": "stream",
     "text": [
      "Obtained Salesforce access token ...... True\n"
     ]
    }
   ],
   "source": [
    "# create DB2 to Salesforce API object\n",
    "db_s = DB2SalesforceAPI(sf_login_params)\n",
    "\n",
    "# specify Salesforce object ID and external ID\n",
    "db_s.object_id = object_id\n",
    "db_s.external_id = external_id"
   ]
  },
  {
   "cell_type": "code",
   "execution_count": 18,
   "metadata": {
    "execution": {
     "iopub.execute_input": "2020-05-04T05:42:01.401130Z",
     "iopub.status.busy": "2020-05-04T05:42:01.400483Z",
     "iopub.status.idle": "2020-05-04T05:42:05.259976Z",
     "shell.execute_reply": "2020-05-04T05:42:05.259459Z"
    },
    "papermill": {
     "duration": 3.883857,
     "end_time": "2020-05-04T05:42:05.260111",
     "exception": false,
     "start_time": "2020-05-04T05:42:01.376254",
     "status": "completed"
    },
    "tags": []
   },
   "outputs": [
    {
     "name": "stdout",
     "output_type": "stream",
     "text": [
      "[Success] Bulk job creation successful. Job ID = 7505w00000LNAnDAAX\n"
     ]
    },
    {
     "name": "stdout",
     "output_type": "stream",
     "text": [
      "[Success] CSV upload successful. Job ID = 7505w00000LNAnDAAX\n"
     ]
    },
    {
     "name": "stdout",
     "output_type": "stream",
     "text": [
      "[Success] Closing job successful. Job ID = 7505w00000LNAnDAAX\n"
     ]
    }
   ],
   "source": [
    "# send data to Salesforce\n",
    "db_s.send_data(df_sf)"
   ]
  },
  {
   "cell_type": "code",
   "execution_count": 19,
   "metadata": {
    "execution": {
     "iopub.execute_input": "2020-05-04T05:42:05.311623Z",
     "iopub.status.busy": "2020-05-04T05:42:05.311046Z",
     "iopub.status.idle": "2020-05-04T05:42:05.875851Z",
     "shell.execute_reply": "2020-05-04T05:42:05.876411Z"
    },
    "papermill": {
     "duration": 0.59406,
     "end_time": "2020-05-04T05:42:05.876577",
     "exception": false,
     "start_time": "2020-05-04T05:42:05.282517",
     "status": "completed"
    },
    "tags": []
   },
   "outputs": [
    {
     "name": "stdout",
     "output_type": "stream",
     "text": [
      "{'apexProcessingTime': 0,\n",
      " 'apiActiveProcessingTime': 0,\n",
      " 'apiVersion': 47.0,\n",
      " 'columnDelimiter': 'COMMA',\n",
      " 'concurrencyMode': 'Parallel',\n",
      " 'contentType': 'CSV',\n",
      " 'createdById': '0055w00000ArpYvAAJ',\n",
      " 'createdDate': '2020-05-04T05:42:01.000+0000',\n",
      " 'externalIdFieldName': 'Name',\n",
      " 'id': '7505w00000LNAnDAAX',\n",
      " 'jobType': 'V2Ingest',\n",
      " 'lineEnding': 'LF',\n",
      " 'numberRecordsFailed': 0,\n",
      " 'numberRecordsProcessed': 0,\n",
      " 'object': 'ContactToolAssociation__c',\n",
      " 'operation': 'upsert',\n",
      " 'retries': 0,\n",
      " 'state': 'InProgress',\n",
      " 'systemModstamp': '2020-05-04T05:42:05.000+0000',\n",
      " 'totalProcessingTime': 0}\n"
     ]
    }
   ],
   "source": [
    "# check status\n",
    "from pprint import pprint\n",
    "\n",
    "pprint(db_s.check_bulk_status())"
   ]
  },
  {
   "cell_type": "code",
   "execution_count": null,
   "metadata": {
    "papermill": {
     "duration": 0.024959,
     "end_time": "2020-05-04T05:42:05.926927",
     "exception": false,
     "start_time": "2020-05-04T05:42:05.901968",
     "status": "completed"
    },
    "tags": []
   },
   "outputs": [],
   "source": []
  }
 ],
 "metadata": {
  "celltoolbar": "Tags",
  "kernelspec": {
   "display_name": "Python 3",
   "language": "python",
   "name": "python3"
  },
  "language_info": {
   "codemirror_mode": {
    "name": "ipython",
    "version": 3
   },
   "file_extension": ".py",
   "mimetype": "text/x-python",
   "name": "python",
   "nbconvert_exporter": "python",
   "pygments_lexer": "ipython3",
   "version": "3.7.7"
  },
  "papermill": {
   "duration": 451.485188,
   "end_time": "2020-05-04T05:42:06.465424",
   "environment_variables": {},
   "exception": null,
   "input_path": "./task_tools_map_contacts.ipynb",
   "output_path": "./output.ipynb",
   "parameters": {
    "sf_login_params": {
     "client_id": "3MVG95jctIhbyCppj0SNJ75IsZ1y8UPGZtSNF4j8FNVXz.De8Lu4jHm3rjRosAtsHy6qjHx3i4S_QbQzvBePG",
     "client_secret": "D1623C6D3607D4FC8004B92C761DFB6C1F70CCD129C5501E357028DFA00F5764",
     "grant_type": "password",
     "password": "napoleon0eZ3PQpQqE3C3z4wWqEqKGhQ8",
     "username": "wang159-4j1v@force.com"
    },
    "sql_login_params": {
     "password": "napoleon0",
     "username": "wang159_ro"
    }
   },
   "start_time": "2020-05-04T05:34:34.980236",
   "version": "2.1.1"
  }
 },
 "nbformat": 4,
 "nbformat_minor": 4
}