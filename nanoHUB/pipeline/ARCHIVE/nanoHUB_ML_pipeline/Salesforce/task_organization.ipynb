{
 "cells": [
  {
   "cell_type": "markdown",
   "metadata": {},
   "source": [
    "# DB2-Salesforce connector: Organization information updates"
   ]
  },
  {
   "cell_type": "code",
   "execution_count": 1,
   "metadata": {
    "tags": [
     "parameters"
    ]
   },
   "outputs": [],
   "source": [
    "# API settings\n",
    "api_url = '/services/data/v43.0/sobjects'\n",
    "object_id = 'organization__c'\n",
    "external_id = 'Domain__c'\n",
    "\n",
    "# login parameters to be handled by Papermill\n",
    "sf_login_params = None \n",
    "sql_login_params = None"
   ]
  },
  {
   "cell_type": "code",
   "execution_count": 3,
   "metadata": {},
   "outputs": [],
   "source": [
    "import sys\n",
    "sys.path.append(lib_dir)\n",
    "\n",
    "import pandas as pd\n",
    "import datetime"
   ]
  },
  {
   "cell_type": "markdown",
   "metadata": {},
   "source": [
    "## Obtain tool information from DB2 "
   ]
  },
  {
   "cell_type": "code",
   "execution_count": 4,
   "metadata": {},
   "outputs": [],
   "source": [
    "# connect with DB2\n",
    "import sqlalchemy as sql\n",
    "\n",
    "engine = sql.create_engine('mysql+pymysql://%s:%s@127.0.0.1/wang159_myrmekes' \\\n",
    "                                               %(sql_login_params['username'], sql_login_params['password']))"
   ]
  },
  {
   "cell_type": "code",
   "execution_count": 5,
   "metadata": {},
   "outputs": [],
   "source": [
    "i_char_df = pd.read_sql_query('select * from institution_characteristics', engine)\n",
    "i_cls_df = pd.read_sql_query('select * from institution_classification', engine)\n",
    "i_cls_label_df = pd.read_sql_query('select * from institution_classification_labels', engine)\n",
    "i_cls_var_df = pd.read_sql_query('select * from institution_variable_labels', engine)"
   ]
  },
  {
   "cell_type": "code",
   "execution_count": 6,
   "metadata": {},
   "outputs": [],
   "source": [
    "# get domain address from URL\n",
    "import re\n",
    "\n",
    "def get_domain(this_domain_name):\n",
    "\n",
    "    # Replace all non-alphanumeric characters with space\n",
    "    this_domain_name = re.sub(\"[^0-9a-zA-Z-]+\", \".\", this_domain_name.lower())\n",
    "    name_list = this_domain_name.split('.')\n",
    "        \n",
    "    # index of 'edu'\n",
    "    try:\n",
    "        edu_index = name_list.index('edu')\n",
    "    except:\n",
    "        return None\n",
    "    \n",
    "    if edu_index > 0:\n",
    "        return name_list[edu_index-1]+'.edu'\n",
    "    else:\n",
    "        return None\n",
    "\n",
    "    \n",
    "\n",
    "unitid_url_df = i_char_df[['WEBADDR', 'UNITID']].copy()\n",
    "\n",
    "unitid_url_df.loc[:, 'domain'] = unitid_url_df.WEBADDR.apply(get_domain)\n",
    "\n",
    "# drop NaN rows\n",
    "unitid_url_df.dropna(inplace=True)"
   ]
  },
  {
   "cell_type": "code",
   "execution_count": 7,
   "metadata": {},
   "outputs": [
    {
     "data": {
      "text/html": [
       "<div>\n",
       "<style scoped>\n",
       "    .dataframe tbody tr th:only-of-type {\n",
       "        vertical-align: middle;\n",
       "    }\n",
       "\n",
       "    .dataframe tbody tr th {\n",
       "        vertical-align: top;\n",
       "    }\n",
       "\n",
       "    .dataframe thead th {\n",
       "        text-align: right;\n",
       "    }\n",
       "</style>\n",
       "<table border=\"1\" class=\"dataframe\">\n",
       "  <thead>\n",
       "    <tr style=\"text-align: right;\">\n",
       "      <th></th>\n",
       "      <th>WEBADDR</th>\n",
       "      <th>UNITID</th>\n",
       "      <th>domain</th>\n",
       "    </tr>\n",
       "  </thead>\n",
       "  <tbody>\n",
       "    <tr>\n",
       "      <th>0</th>\n",
       "      <td>www.aamu.edu/</td>\n",
       "      <td>100654</td>\n",
       "      <td>aamu.edu</td>\n",
       "    </tr>\n",
       "    <tr>\n",
       "      <th>1</th>\n",
       "      <td>www.uab.edu</td>\n",
       "      <td>100663</td>\n",
       "      <td>uab.edu</td>\n",
       "    </tr>\n",
       "    <tr>\n",
       "      <th>2</th>\n",
       "      <td>www.amridgeuniversity.edu</td>\n",
       "      <td>100690</td>\n",
       "      <td>amridgeuniversity.edu</td>\n",
       "    </tr>\n",
       "  </tbody>\n",
       "</table>\n",
       "</div>"
      ],
      "text/plain": [
       "                     WEBADDR  UNITID                 domain\n",
       "0              www.aamu.edu/  100654               aamu.edu\n",
       "1                www.uab.edu  100663                uab.edu\n",
       "2  www.amridgeuniversity.edu  100690  amridgeuniversity.edu"
      ]
     },
     "execution_count": 7,
     "metadata": {},
     "output_type": "execute_result"
    }
   ],
   "source": [
    "#display\n",
    "unitid_url_df.head(3)"
   ]
  },
  {
   "cell_type": "code",
   "execution_count": 8,
   "metadata": {},
   "outputs": [
    {
     "data": {
      "text/html": [
       "<div>\n",
       "<style scoped>\n",
       "    .dataframe tbody tr th:only-of-type {\n",
       "        vertical-align: middle;\n",
       "    }\n",
       "\n",
       "    .dataframe tbody tr th {\n",
       "        vertical-align: top;\n",
       "    }\n",
       "\n",
       "    .dataframe thead th {\n",
       "        text-align: right;\n",
       "    }\n",
       "</style>\n",
       "<table border=\"1\" class=\"dataframe\">\n",
       "  <thead>\n",
       "    <tr style=\"text-align: right;\">\n",
       "      <th></th>\n",
       "      <th>index</th>\n",
       "      <th>UNITID</th>\n",
       "      <th>NAME</th>\n",
       "      <th>CITY</th>\n",
       "      <th>STABBR</th>\n",
       "      <th>CC2000</th>\n",
       "      <th>BASIC2005</th>\n",
       "      <th>BASIC2010</th>\n",
       "      <th>BASIC2015</th>\n",
       "      <th>BASIC2018</th>\n",
       "      <th>...</th>\n",
       "      <th>SATV25</th>\n",
       "      <th>SATM25</th>\n",
       "      <th>SATCMB25</th>\n",
       "      <th>SATACTEQ25</th>\n",
       "      <th>ACTCMP25</th>\n",
       "      <th>ACTFINAL</th>\n",
       "      <th>Unnamed95</th>\n",
       "      <th>Unnamed96</th>\n",
       "      <th>WEBADDR</th>\n",
       "      <th>domain</th>\n",
       "    </tr>\n",
       "  </thead>\n",
       "  <tbody>\n",
       "    <tr>\n",
       "      <th>0</th>\n",
       "      <td>0</td>\n",
       "      <td>177834</td>\n",
       "      <td>A T Still University of Health Sciences</td>\n",
       "      <td>Kirksville</td>\n",
       "      <td>MO</td>\n",
       "      <td>52</td>\n",
       "      <td>25</td>\n",
       "      <td>25</td>\n",
       "      <td>25</td>\n",
       "      <td>25</td>\n",
       "      <td>...</td>\n",
       "      <td>0.0</td>\n",
       "      <td>0.0</td>\n",
       "      <td>0.0</td>\n",
       "      <td>0.0</td>\n",
       "      <td>0.0</td>\n",
       "      <td>0.000000</td>\n",
       "      <td>None</td>\n",
       "      <td>NaN</td>\n",
       "      <td>WWW.ATSU.EDU</td>\n",
       "      <td>atsu.edu</td>\n",
       "    </tr>\n",
       "    <tr>\n",
       "      <th>1</th>\n",
       "      <td>1</td>\n",
       "      <td>180203</td>\n",
       "      <td>Aaniiih Nakoda College</td>\n",
       "      <td>Harlem</td>\n",
       "      <td>MT</td>\n",
       "      <td>60</td>\n",
       "      <td>33</td>\n",
       "      <td>33</td>\n",
       "      <td>33</td>\n",
       "      <td>33</td>\n",
       "      <td>...</td>\n",
       "      <td>0.0</td>\n",
       "      <td>0.0</td>\n",
       "      <td>0.0</td>\n",
       "      <td>0.0</td>\n",
       "      <td>0.0</td>\n",
       "      <td>0.000000</td>\n",
       "      <td>None</td>\n",
       "      <td>NaN</td>\n",
       "      <td>www.ancollege.edu</td>\n",
       "      <td>ancollege.edu</td>\n",
       "    </tr>\n",
       "    <tr>\n",
       "      <th>2</th>\n",
       "      <td>2</td>\n",
       "      <td>222178</td>\n",
       "      <td>Abilene Christian University</td>\n",
       "      <td>Abilene</td>\n",
       "      <td>TX</td>\n",
       "      <td>21</td>\n",
       "      <td>19</td>\n",
       "      <td>18</td>\n",
       "      <td>18</td>\n",
       "      <td>18</td>\n",
       "      <td>...</td>\n",
       "      <td>510.0</td>\n",
       "      <td>515.0</td>\n",
       "      <td>1025.0</td>\n",
       "      <td>19.0</td>\n",
       "      <td>21.0</td>\n",
       "      <td>20.054054</td>\n",
       "      <td>None</td>\n",
       "      <td>NaN</td>\n",
       "      <td>www.acu.edu</td>\n",
       "      <td>acu.edu</td>\n",
       "    </tr>\n",
       "  </tbody>\n",
       "</table>\n",
       "<p>3 rows × 100 columns</p>\n",
       "</div>"
      ],
      "text/plain": [
       "   index  UNITID                                     NAME        CITY STABBR  \\\n",
       "0      0  177834  A T Still University of Health Sciences  Kirksville     MO   \n",
       "1      1  180203                   Aaniiih Nakoda College      Harlem     MT   \n",
       "2      2  222178             Abilene Christian University     Abilene     TX   \n",
       "\n",
       "   CC2000  BASIC2005  BASIC2010  BASIC2015  BASIC2018  ...  SATV25  SATM25  \\\n",
       "0      52         25         25         25         25  ...     0.0     0.0   \n",
       "1      60         33         33         33         33  ...     0.0     0.0   \n",
       "2      21         19         18         18         18  ...   510.0   515.0   \n",
       "\n",
       "   SATCMB25  SATACTEQ25  ACTCMP25   ACTFINAL  Unnamed95  Unnamed96  \\\n",
       "0       0.0         0.0       0.0   0.000000       None        NaN   \n",
       "1       0.0         0.0       0.0   0.000000       None        NaN   \n",
       "2    1025.0        19.0      21.0  20.054054       None        NaN   \n",
       "\n",
       "             WEBADDR         domain  \n",
       "0       WWW.ATSU.EDU       atsu.edu  \n",
       "1  www.ancollege.edu  ancollege.edu  \n",
       "2        www.acu.edu        acu.edu  \n",
       "\n",
       "[3 rows x 100 columns]"
      ]
     },
     "execution_count": 8,
     "metadata": {},
     "output_type": "execute_result"
    }
   ],
   "source": [
    "# join domain into institution classification table by unitid\n",
    "df = pd.merge(i_cls_df, unitid_url_df, how='inner', left_on='UNITID', right_on='UNITID')\n",
    "\n",
    "# display\n",
    "df.head(3)"
   ]
  },
  {
   "cell_type": "code",
   "execution_count": 11,
   "metadata": {},
   "outputs": [
    {
     "data": {
      "text/html": [
       "<div>\n",
       "<style scoped>\n",
       "    .dataframe tbody tr th:only-of-type {\n",
       "        vertical-align: middle;\n",
       "    }\n",
       "\n",
       "    .dataframe tbody tr th {\n",
       "        vertical-align: top;\n",
       "    }\n",
       "\n",
       "    .dataframe thead th {\n",
       "        text-align: right;\n",
       "    }\n",
       "</style>\n",
       "<table border=\"1\" class=\"dataframe\">\n",
       "  <thead>\n",
       "    <tr style=\"text-align: right;\">\n",
       "      <th></th>\n",
       "    </tr>\n",
       "  </thead>\n",
       "  <tbody>\n",
       "  </tbody>\n",
       "</table>\n",
       "</div>"
      ],
      "text/plain": [
       "Empty DataFrame\n",
       "Columns: []\n",
       "Index: []"
      ]
     },
     "execution_count": 11,
     "metadata": {},
     "output_type": "execute_result"
    }
   ],
   "source": [
    "def replace_with_label(this_df, c_df):\n",
    "    this_var = this_df.Variable.iloc[0].strip()\n",
    "    this_v_l = this_df[['Value', 'Label']]\n",
    "    \n",
    "    this_label = pd.merge(c_df[[this_var]], this_v_l, how='left', left_on=this_var, right_on='Value')\n",
    "    c_df.loc[:, this_var] = this_label['Label']\n",
    "    \n",
    "    \n",
    "i_cls_label_df.groupby('Variable').apply(lambda x: replace_with_label(x, df))"
   ]
  },
  {
   "cell_type": "code",
   "execution_count": 12,
   "metadata": {},
   "outputs": [
    {
     "data": {
      "text/html": [
       "<div>\n",
       "<style scoped>\n",
       "    .dataframe tbody tr th:only-of-type {\n",
       "        vertical-align: middle;\n",
       "    }\n",
       "\n",
       "    .dataframe tbody tr th {\n",
       "        vertical-align: top;\n",
       "    }\n",
       "\n",
       "    .dataframe thead th {\n",
       "        text-align: right;\n",
       "    }\n",
       "</style>\n",
       "<table border=\"1\" class=\"dataframe\">\n",
       "  <thead>\n",
       "    <tr style=\"text-align: right;\">\n",
       "      <th></th>\n",
       "      <th>index</th>\n",
       "      <th>UNITID</th>\n",
       "      <th>NAME</th>\n",
       "      <th>CITY</th>\n",
       "      <th>STABBR</th>\n",
       "      <th>CC2000</th>\n",
       "      <th>BASIC2005</th>\n",
       "      <th>BASIC2010</th>\n",
       "      <th>BASIC2015</th>\n",
       "      <th>BASIC2018</th>\n",
       "      <th>...</th>\n",
       "      <th>SATV25</th>\n",
       "      <th>SATM25</th>\n",
       "      <th>SATCMB25</th>\n",
       "      <th>SATACTEQ25</th>\n",
       "      <th>ACTCMP25</th>\n",
       "      <th>ACTFINAL</th>\n",
       "      <th>Unnamed95</th>\n",
       "      <th>Unnamed96</th>\n",
       "      <th>WEBADDR</th>\n",
       "      <th>domain</th>\n",
       "    </tr>\n",
       "  </thead>\n",
       "  <tbody>\n",
       "    <tr>\n",
       "      <th>0</th>\n",
       "      <td>0</td>\n",
       "      <td>177834</td>\n",
       "      <td>A T Still University of Health Sciences</td>\n",
       "      <td>Kirksville</td>\n",
       "      <td>MO</td>\n",
       "      <td>Specialized Institutions—Medical schools and m...</td>\n",
       "      <td>NaN</td>\n",
       "      <td>Spec/Med: Special Focus Institutions--Medical ...</td>\n",
       "      <td>Special Focus Four-Year: Medical Schools &amp; Cen...</td>\n",
       "      <td>Special Focus Four-Year: Medical Schools &amp; Cen...</td>\n",
       "      <td>...</td>\n",
       "      <td>0.0</td>\n",
       "      <td>0.0</td>\n",
       "      <td>0.0</td>\n",
       "      <td>0.0</td>\n",
       "      <td>0.0</td>\n",
       "      <td>0.0</td>\n",
       "      <td>None</td>\n",
       "      <td>NaN</td>\n",
       "      <td>WWW.ATSU.EDU</td>\n",
       "      <td>atsu.edu</td>\n",
       "    </tr>\n",
       "    <tr>\n",
       "      <th>1</th>\n",
       "      <td>1</td>\n",
       "      <td>180203</td>\n",
       "      <td>Aaniiih Nakoda College</td>\n",
       "      <td>Harlem</td>\n",
       "      <td>MT</td>\n",
       "      <td>Tribal colleges and universities</td>\n",
       "      <td>NaN</td>\n",
       "      <td>Tribal: Tribal Colleges</td>\n",
       "      <td>Tribal Colleges</td>\n",
       "      <td>Tribal Colleges</td>\n",
       "      <td>...</td>\n",
       "      <td>0.0</td>\n",
       "      <td>0.0</td>\n",
       "      <td>0.0</td>\n",
       "      <td>0.0</td>\n",
       "      <td>0.0</td>\n",
       "      <td>0.0</td>\n",
       "      <td>None</td>\n",
       "      <td>NaN</td>\n",
       "      <td>www.ancollege.edu</td>\n",
       "      <td>ancollege.edu</td>\n",
       "    </tr>\n",
       "  </tbody>\n",
       "</table>\n",
       "<p>2 rows × 100 columns</p>\n",
       "</div>"
      ],
      "text/plain": [
       "   index  UNITID                                     NAME        CITY STABBR  \\\n",
       "0      0  177834  A T Still University of Health Sciences  Kirksville     MO   \n",
       "1      1  180203                   Aaniiih Nakoda College      Harlem     MT   \n",
       "\n",
       "                                              CC2000 BASIC2005  \\\n",
       "0  Specialized Institutions—Medical schools and m...       NaN   \n",
       "1                   Tribal colleges and universities       NaN   \n",
       "\n",
       "                                           BASIC2010  \\\n",
       "0  Spec/Med: Special Focus Institutions--Medical ...   \n",
       "1                            Tribal: Tribal Colleges   \n",
       "\n",
       "                                           BASIC2015  \\\n",
       "0  Special Focus Four-Year: Medical Schools & Cen...   \n",
       "1                                    Tribal Colleges   \n",
       "\n",
       "                                           BASIC2018  ... SATV25 SATM25  \\\n",
       "0  Special Focus Four-Year: Medical Schools & Cen...  ...    0.0    0.0   \n",
       "1                                    Tribal Colleges  ...    0.0    0.0   \n",
       "\n",
       "  SATCMB25 SATACTEQ25 ACTCMP25 ACTFINAL Unnamed95 Unnamed96  \\\n",
       "0      0.0        0.0      0.0      0.0      None       NaN   \n",
       "1      0.0        0.0      0.0      0.0      None       NaN   \n",
       "\n",
       "             WEBADDR         domain  \n",
       "0       WWW.ATSU.EDU       atsu.edu  \n",
       "1  www.ancollege.edu  ancollege.edu  \n",
       "\n",
       "[2 rows x 100 columns]"
      ]
     },
     "execution_count": 12,
     "metadata": {},
     "output_type": "execute_result"
    }
   ],
   "source": [
    "# display\n",
    "df.head(2)"
   ]
  },
  {
   "cell_type": "code",
   "execution_count": 13,
   "metadata": {},
   "outputs": [],
   "source": [
    "# On Salesforce side, domain is unique indentifier of each organization.\n",
    "# For multiple institutions with same domain (univ. with satellite campuses), use entry with highest total enrollment (FALLENR17)\n",
    "\n",
    "unique_domain_df = df.sort_values(by='FALLENR17', ascending=False).groupby('domain').head(1)"
   ]
  },
  {
   "cell_type": "markdown",
   "metadata": {},
   "source": [
    "## Obtain organization metadata from Salesforce"
   ]
  },
  {
   "cell_type": "code",
   "execution_count": 25,
   "metadata": {},
   "outputs": [
    {
     "name": "stdout",
     "output_type": "stream",
     "text": [
      "Obtained Salesforce access token ...... True\n"
     ]
    }
   ],
   "source": [
    "from DB2SalesforceAPI import DB2SalesforceAPI\n",
    "\n",
    "# create DB2 to Salesforce API object\n",
    "db_s = DB2SalesforceAPI(sf_login_params)\n",
    "\n",
    "# specify Salesforce object ID and external ID\n",
    "org_metadata = db_s.get_obj_metadata('Organization__c')"
   ]
  },
  {
   "cell_type": "code",
   "execution_count": 26,
   "metadata": {},
   "outputs": [
    {
     "data": {
      "text/plain": [
       "['Domain',\n",
       " 'Country',\n",
       " 'Industry',\n",
       " 'Size_Range',\n",
       " 'MSI',\n",
       " 'is_US_institution',\n",
       " 'HBCU',\n",
       " 'BASIC2018']"
      ]
     },
     "metadata": {},
     "output_type": "display_data"
    }
   ],
   "source": [
    "import json\n",
    "\n",
    "# get all fields\n",
    "field_list = json.loads(org_metadata)['fields']\n",
    "\n",
    "# list of available field API names\n",
    "available_fields = list()\n",
    "\n",
    "for this_field in field_list:\n",
    "    this_name = this_field['name']\n",
    "    \n",
    "    if len(this_name) > 3:\n",
    "        if this_name[-3:] == '__c':\n",
    "            # this is a custom-made field\n",
    "            available_fields.append(this_name[:-3])\n",
    "            \n",
    "# display\n",
    "display(available_fields)"
   ]
  },
  {
   "cell_type": "markdown",
   "metadata": {},
   "source": [
    "## Match data with Salesforce format"
   ]
  },
  {
   "cell_type": "code",
   "execution_count": 27,
   "metadata": {},
   "outputs": [
    {
     "data": {
      "text/plain": [
       "{'BASIC2018', 'HBCU', 'MSI'}"
      ]
     },
     "metadata": {},
     "output_type": "display_data"
    }
   ],
   "source": [
    "# find columns that have matched fields in Salesforce\n",
    "matched_columns = set(unique_domain_df.columns).intersection(set(available_fields))\n",
    "\n",
    "# display\n",
    "display(matched_columns)"
   ]
  },
  {
   "cell_type": "code",
   "execution_count": 28,
   "metadata": {},
   "outputs": [
    {
     "data": {
      "text/html": [
       "<div>\n",
       "<style scoped>\n",
       "    .dataframe tbody tr th:only-of-type {\n",
       "        vertical-align: middle;\n",
       "    }\n",
       "\n",
       "    .dataframe tbody tr th {\n",
       "        vertical-align: top;\n",
       "    }\n",
       "\n",
       "    .dataframe thead th {\n",
       "        text-align: right;\n",
       "    }\n",
       "</style>\n",
       "<table border=\"1\" class=\"dataframe\">\n",
       "  <thead>\n",
       "    <tr style=\"text-align: right;\">\n",
       "      <th></th>\n",
       "      <th>3687</th>\n",
       "      <th>3996</th>\n",
       "    </tr>\n",
       "  </thead>\n",
       "  <tbody>\n",
       "    <tr>\n",
       "      <th>Domain__c</th>\n",
       "      <td>phoenix.edu</td>\n",
       "      <td>wgu.edu</td>\n",
       "    </tr>\n",
       "    <tr>\n",
       "      <th>is_US_institution__c</th>\n",
       "      <td>True</td>\n",
       "      <td>True</td>\n",
       "    </tr>\n",
       "    <tr>\n",
       "      <th>Name</th>\n",
       "      <td>University of Phoenix-Arizona</td>\n",
       "      <td>Western Governors University</td>\n",
       "    </tr>\n",
       "    <tr>\n",
       "      <th>HBCU__c</th>\n",
       "      <td>No</td>\n",
       "      <td>No</td>\n",
       "    </tr>\n",
       "    <tr>\n",
       "      <th>BASIC2018__c</th>\n",
       "      <td>Doctoral/Professional Universities</td>\n",
       "      <td>Master's Colleges &amp; Universities: Larger Programs</td>\n",
       "    </tr>\n",
       "    <tr>\n",
       "      <th>MSI__c</th>\n",
       "      <td>No</td>\n",
       "      <td>No</td>\n",
       "    </tr>\n",
       "  </tbody>\n",
       "</table>\n",
       "</div>"
      ],
      "text/plain": [
       "                                                    3687  \\\n",
       "Domain__c                                    phoenix.edu   \n",
       "is_US_institution__c                                True   \n",
       "Name                       University of Phoenix-Arizona   \n",
       "HBCU__c                                               No   \n",
       "BASIC2018__c          Doctoral/Professional Universities   \n",
       "MSI__c                                                No   \n",
       "\n",
       "                                                                   3996  \n",
       "Domain__c                                                       wgu.edu  \n",
       "is_US_institution__c                                               True  \n",
       "Name                                       Western Governors University  \n",
       "HBCU__c                                                              No  \n",
       "BASIC2018__c          Master's Colleges & Universities: Larger Programs  \n",
       "MSI__c                                                               No  "
      ]
     },
     "execution_count": 28,
     "metadata": {},
     "output_type": "execute_result"
    }
   ],
   "source": [
    "df_sf = pd.DataFrame()\n",
    "\n",
    "# Make sure NaN and NaT values are taken care of here\n",
    "\n",
    "df_sf['Domain__c'] = unique_domain_df['domain']\n",
    "\n",
    "df_sf['is_US_institution__c'] = True\n",
    "df_sf['Name'] = unique_domain_df['NAME']\n",
    "\n",
    "# Transfer all matched columns to df_sf\n",
    "for this_col in matched_columns:\n",
    "    df_sf[this_col+'__c'] = unique_domain_df[this_col]\n",
    "\n",
    "sf_original_fields = df_sf.columns\n",
    "\n",
    "# display\n",
    "df_sf.head(2).T"
   ]
  },
  {
   "cell_type": "markdown",
   "metadata": {},
   "source": [
    "## To Salesforce Sales Cloud CRM"
   ]
  },
  {
   "cell_type": "code",
   "execution_count": 29,
   "metadata": {},
   "outputs": [
    {
     "name": "stdout",
     "output_type": "stream",
     "text": [
      "Obtained Salesforce access token ...... True\n"
     ]
    }
   ],
   "source": [
    "from DB2SalesforceAPI import DB2SalesforceAPI\n",
    "\n",
    "# create DB2 to Salesforce API object\n",
    "db_s = DB2SalesforceAPI(sf_login_params)\n",
    "\n",
    "# specify Salesforce object ID and external ID\n",
    "db_s.object_id = object_id\n",
    "db_s.external_id = external_id"
   ]
  },
  {
   "cell_type": "code",
   "execution_count": 30,
   "metadata": {},
   "outputs": [
    {
     "name": "stdout",
     "output_type": "stream",
     "text": [
      "[Success] Bulk job creation successful. Job ID = 7505w00000M3agEAAR\n",
      "[Success] CSV upload successful. Job ID = 7505w00000M3agEAAR\n",
      "[Success] Closing job successful. Job ID = 7505w00000M3agEAAR\n"
     ]
    }
   ],
   "source": [
    "# send data to Salesforce\n",
    "db_s.send_data(df_sf)"
   ]
  },
  {
   "cell_type": "code",
   "execution_count": 31,
   "metadata": {},
   "outputs": [
    {
     "data": {
      "text/plain": [
       "{'id': '7505w00000M3agEAAR',\n",
       " 'operation': 'upsert',\n",
       " 'object': 'organization__c',\n",
       " 'createdById': '0055w00000ArpYvAAJ',\n",
       " 'createdDate': '2020-05-21T01:35:37.000+0000',\n",
       " 'systemModstamp': '2020-05-21T01:35:38.000+0000',\n",
       " 'state': 'InProgress',\n",
       " 'externalIdFieldName': 'Domain__c',\n",
       " 'concurrencyMode': 'Parallel',\n",
       " 'contentType': 'CSV',\n",
       " 'apiVersion': 47.0,\n",
       " 'jobType': 'V2Ingest',\n",
       " 'lineEnding': 'LF',\n",
       " 'columnDelimiter': 'COMMA',\n",
       " 'numberRecordsProcessed': 0,\n",
       " 'numberRecordsFailed': 0,\n",
       " 'retries': 0,\n",
       " 'totalProcessingTime': 0,\n",
       " 'apiActiveProcessingTime': 0,\n",
       " 'apexProcessingTime': 0}"
      ]
     },
     "execution_count": 31,
     "metadata": {},
     "output_type": "execute_result"
    }
   ],
   "source": [
    "# check status\n",
    "db_s.check_bulk_status()"
   ]
  },
  {
   "cell_type": "code",
   "execution_count": 32,
   "metadata": {},
   "outputs": [
    {
     "name": "stdout",
     "output_type": "stream",
     "text": [
      "''\n"
     ]
    }
   ],
   "source": [
    "from pprint import pprint\n",
    "pprint(db_s.check_bulk_failed_results())"
   ]
  },
  {
   "cell_type": "code",
   "execution_count": null,
   "metadata": {},
   "outputs": [],
   "source": []
  }
 ],
 "metadata": {
  "celltoolbar": "Tags",
  "kernelspec": {
   "display_name": "Python 3",
   "language": "python",
   "name": "python3"
  },
  "language_info": {
   "codemirror_mode": {
    "name": "ipython",
    "version": 3
   },
   "file_extension": ".py",
   "mimetype": "text/x-python",
   "name": "python",
   "nbconvert_exporter": "python",
   "pygments_lexer": "ipython3",
   "version": "3.7.7"
  }
 },
 "nbformat": 4,
 "nbformat_minor": 4
}
