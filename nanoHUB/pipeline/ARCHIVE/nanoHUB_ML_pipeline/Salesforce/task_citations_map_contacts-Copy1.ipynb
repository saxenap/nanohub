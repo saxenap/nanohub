{
 "cells": [
  {
   "cell_type": "markdown",
   "metadata": {},
   "source": [
    "# DB2-Salesforce connector: Citation mapping to users"
   ]
  },
  {
   "cell_type": "code",
   "execution_count": 1,
   "metadata": {
    "tags": [
     "parameters"
    ]
   },
   "outputs": [],
   "source": [
    "# API settings\n",
    "bulk_api_threshold = 100 # if more records than this, use Bulk API instead\n",
    "disallow_bulk_api = False # if Bulk API is allowed\n",
    "\n",
    "api_url = '/services/data/v43.0/sobjects'\n",
    "external_id = 'Name'\n",
    "object_id = 'contact_citation_asso__c'\n",
    "\n",
    "# login parameters to be handled by Papermill\n",
    "sf_login_params = None \n",
    "sql_login_params = None"
   ]
  },
  {
   "cell_type": "code",
   "execution_count": 3,
   "metadata": {},
   "outputs": [],
   "source": [
    "# Parameters\n",
    "sql_login_params = {\"username\": \"wang159_ro\", \"password\": \"napoleon0\"}\n",
    "sf_login_params = {\n",
    "    \"grant_type\": \"password\",\n",
    "    \"client_id\": \"3MVG95jctIhbyCppj0SNJ75IsZ1y8UPGZtSNF4j8FNVXz.De8Lu4jHm3rjRosAtsHy6qjHx3i4S_QbQzvBePG\",\n",
    "    \"client_secret\": \"D1623C6D3607D4FC8004B92C761DFB6C1F70CCD129C5501E357028DFA00F5764\",\n",
    "    \"username\": \"wang159-4j1v@force.com\",\n",
    "    \"password\": \"napoleon0eZ3PQpQqE3C3z4wWqEqKGhQ8\",\n",
    "}\n"
   ]
  },
  {
   "cell_type": "code",
   "execution_count": 4,
   "metadata": {},
   "outputs": [],
   "source": [
    "#%load_ext autoreload\n",
    "\n",
    "#%autoreload 2\n",
    "    \n",
    "import pandas as pd\n",
    "import time\n",
    "import datetime\n",
    "\n",
    "from DB2SalesforceAPI import DB2SalesforceAPI"
   ]
  },
  {
   "cell_type": "markdown",
   "metadata": {},
   "source": [
    "## Obtain tool information from DB2 "
   ]
  },
  {
   "cell_type": "code",
   "execution_count": 5,
   "metadata": {},
   "outputs": [],
   "source": [
    "# connect with DB2\n",
    "import sqlalchemy as sql\n",
    "\n",
    "engine = sql.create_engine('mysql+pymysql://%s:%s@127.0.0.1/nanohub' \\\n",
    "                                               %(sql_login_params['username'], sql_login_params['password']))\n",
    "\n",
    "# Citations\n",
    "sql_query = \"select * from jos_citations\"\n",
    "\n",
    "citations_df = pd.read_sql_query(sql_query, engine)\n",
    "\n",
    "# Citation authors\n",
    "sql_query = \"select * from jos_citations_authors;\"\n",
    "\n",
    "authors_df = pd.read_sql_query(sql_query, engine)"
   ]
  },
  {
   "cell_type": "code",
   "execution_count": 6,
   "metadata": {},
   "outputs": [
    {
     "data": {
      "text/html": [
       "<div>\n",
       "<style scoped>\n",
       "    .dataframe tbody tr th:only-of-type {\n",
       "        vertical-align: middle;\n",
       "    }\n",
       "\n",
       "    .dataframe tbody tr th {\n",
       "        vertical-align: top;\n",
       "    }\n",
       "\n",
       "    .dataframe thead th {\n",
       "        text-align: right;\n",
       "    }\n",
       "</style>\n",
       "<table border=\"1\" class=\"dataframe\">\n",
       "  <thead>\n",
       "    <tr style=\"text-align: right;\">\n",
       "      <th></th>\n",
       "      <th>citation_ID</th>\n",
       "      <th>nanohub_user_id</th>\n",
       "      <th>author_id</th>\n",
       "    </tr>\n",
       "  </thead>\n",
       "  <tbody>\n",
       "    <tr>\n",
       "      <th>0</th>\n",
       "      <td>10000003</td>\n",
       "      <td>10676</td>\n",
       "      <td>4613</td>\n",
       "    </tr>\n",
       "    <tr>\n",
       "      <th>1</th>\n",
       "      <td>10000003</td>\n",
       "      <td>0</td>\n",
       "      <td>4614</td>\n",
       "    </tr>\n",
       "    <tr>\n",
       "      <th>2</th>\n",
       "      <td>10000003</td>\n",
       "      <td>37033</td>\n",
       "      <td>4615</td>\n",
       "    </tr>\n",
       "  </tbody>\n",
       "</table>\n",
       "</div>"
      ],
      "text/plain": [
       "   citation_ID  nanohub_user_id  author_id\n",
       "0     10000003            10676       4613\n",
       "1     10000003                0       4614\n",
       "2     10000003            37033       4615"
      ]
     },
     "execution_count": 6,
     "metadata": {},
     "output_type": "execute_result"
    }
   ],
   "source": [
    "# combining authors and citations\n",
    "ac_df = pd.merge(citations_df[['id']], authors_df[['cid', 'uidNumber','id']], how='inner',\\\n",
    "                 left_on='id', right_on='cid', suffixes=['_c', '_a'])\\\n",
    "                .drop(columns='id_c')\n",
    "\n",
    "ac_df.rename(columns={'cid':'citation_ID', 'uidNumber':'nanohub_user_id', 'id_a':'author_id'}, inplace=True)\n",
    "\n",
    "# display\n",
    "ac_df.head(3)"
   ]
  },
  {
   "cell_type": "markdown",
   "metadata": {},
   "source": [
    "## Obtain Salesforce IDs"
   ]
  },
  {
   "cell_type": "code",
   "execution_count": 7,
   "metadata": {},
   "outputs": [
    {
     "name": "stdout",
     "output_type": "stream",
     "text": [
      "Obtained Salesforce access token ...... True\n"
     ]
    }
   ],
   "source": [
    "# create DB2 to Salesforce API object\n",
    "db_s = DB2SalesforceAPI(sf_login_params)"
   ]
  },
  {
   "cell_type": "code",
   "execution_count": 8,
   "metadata": {},
   "outputs": [
    {
     "name": "stdout",
     "output_type": "stream",
     "text": [
      "[Success] Bulk job creation successful. Job ID = 7505w00000M1rJWAAZ\n",
      "{\"id\":\"7505w00000M1rJWAAZ\",\"operation\":\"query\",\"object\":\"Contact\",\"createdById\":\"0055w00000ArpYvAAJ\",\"createdDate\":\"2020-05-15T00:46:57.000+0000\",\"systemModstamp\":\"2020-05-15T00:46:58.000+0000\",\"state\":\"UploadComplete\",\"concurrencyMode\":\"Parallel\",\"contentType\":\"CSV\",\"apiVersion\":47.0,\"jobType\":\"V2Query\",\"lineEnding\":\"LF\",\"columnDelimiter\":\"COMMA\",\"retries\":0,\"totalProcessingTime\":0}\n",
      "{\"id\":\"7505w00000M1rJWAAZ\",\"operation\":\"query\",\"object\":\"Contact\",\"createdById\":\"0055w00000ArpYvAAJ\",\"createdDate\":\"2020-05-15T00:46:57.000+0000\",\"systemModstamp\":\"2020-05-15T00:46:58.000+0000\",\"state\":\"InProgress\",\"concurrencyMode\":\"Parallel\",\"contentType\":\"CSV\",\"apiVersion\":47.0,\"jobType\":\"V2Query\",\"lineEnding\":\"LF\",\"columnDelimiter\":\"COMMA\",\"numberRecordsProcessed\":0,\"retries\":0,\"totalProcessingTime\":0}\n",
      "{\"id\":\"7505w00000M1rJWAAZ\",\"operation\":\"query\",\"object\":\"Contact\",\"createdById\":\"0055w00000ArpYvAAJ\",\"createdDate\":\"2020-05-15T00:46:57.000+0000\",\"systemModstamp\":\"2020-05-15T00:47:17.000+0000\",\"state\":\"JobComplete\",\"concurrencyMode\":\"Parallel\",\"contentType\":\"CSV\",\"apiVersion\":47.0,\"jobType\":\"V2Query\",\"lineEnding\":\"LF\",\"columnDelimiter\":\"COMMA\",\"numberRecordsProcessed\":217192,\"retries\":0,\"totalProcessingTime\":18639}\n",
      "[Success] Bulk job completed successfully.\n"
     ]
    }
   ],
   "source": [
    "# query the Salesforce IDs for contacts and citations. when updating junction objects, these IDs must be used\n",
    "\n",
    "# get Salesforce ID for contacts\n",
    "sf_userID_df = db_s.query_data('SELECT Id, nanoHUB_user_ID__c FROM Contact where nanoHUB_user_ID__c != NULL')\n",
    "\n",
    "sf_userID_df['nanoHUB_user_ID__c'] = sf_userID_df['nanoHUB_user_ID__c'].astype('int')"
   ]
  },
  {
   "cell_type": "code",
   "execution_count": 9,
   "metadata": {
    "scrolled": true
   },
   "outputs": [
    {
     "name": "stdout",
     "output_type": "stream",
     "text": [
      "[Success] Bulk job creation successful. Job ID = 7505w00000M1rJlAAJ\n",
      "{\"id\":\"7505w00000M1rJlAAJ\",\"operation\":\"query\",\"object\":\"nanoHUB_citations__c\",\"createdById\":\"0055w00000ArpYvAAJ\",\"createdDate\":\"2020-05-15T00:47:21.000+0000\",\"systemModstamp\":\"2020-05-15T00:47:21.000+0000\",\"state\":\"UploadComplete\",\"concurrencyMode\":\"Parallel\",\"contentType\":\"CSV\",\"apiVersion\":47.0,\"jobType\":\"V2Query\",\"lineEnding\":\"LF\",\"columnDelimiter\":\"COMMA\",\"retries\":0,\"totalProcessingTime\":0}\n",
      "{\"id\":\"7505w00000M1rJlAAJ\",\"operation\":\"query\",\"object\":\"nanoHUB_citations__c\",\"createdById\":\"0055w00000ArpYvAAJ\",\"createdDate\":\"2020-05-15T00:47:21.000+0000\",\"systemModstamp\":\"2020-05-15T00:47:22.000+0000\",\"state\":\"JobComplete\",\"concurrencyMode\":\"Parallel\",\"contentType\":\"CSV\",\"apiVersion\":47.0,\"jobType\":\"V2Query\",\"lineEnding\":\"LF\",\"columnDelimiter\":\"COMMA\",\"numberRecordsProcessed\":2449,\"retries\":0,\"totalProcessingTime\":280}\n",
      "[Success] Bulk job completed successfully.\n"
     ]
    }
   ],
   "source": [
    "# get Salesforce ID for citations\n",
    "sf_citationID_df = db_s.query_data('SELECT Id, Record_ID__c FROM nanoHUB_citations__c')\n",
    "\n",
    "sf_citationID_df['Record_ID__c'] = sf_citationID_df['Record_ID__c'].astype('int')"
   ]
  },
  {
   "cell_type": "markdown",
   "metadata": {},
   "source": [
    "## Match data with Salesforce format"
   ]
  },
  {
   "cell_type": "code",
   "execution_count": 10,
   "metadata": {},
   "outputs": [
    {
     "data": {
      "text/html": [
       "<div>\n",
       "<style scoped>\n",
       "    .dataframe tbody tr th:only-of-type {\n",
       "        vertical-align: middle;\n",
       "    }\n",
       "\n",
       "    .dataframe tbody tr th {\n",
       "        vertical-align: top;\n",
       "    }\n",
       "\n",
       "    .dataframe thead th {\n",
       "        text-align: right;\n",
       "    }\n",
       "</style>\n",
       "<table border=\"1\" class=\"dataframe\">\n",
       "  <thead>\n",
       "    <tr style=\"text-align: right;\">\n",
       "      <th></th>\n",
       "      <th>citation_ID</th>\n",
       "      <th>nanohub_user_id</th>\n",
       "      <th>author_id</th>\n",
       "    </tr>\n",
       "  </thead>\n",
       "  <tbody>\n",
       "    <tr>\n",
       "      <th>0</th>\n",
       "      <td>10000003</td>\n",
       "      <td>10676</td>\n",
       "      <td>4613</td>\n",
       "    </tr>\n",
       "    <tr>\n",
       "      <th>2</th>\n",
       "      <td>10000003</td>\n",
       "      <td>37033</td>\n",
       "      <td>4615</td>\n",
       "    </tr>\n",
       "  </tbody>\n",
       "</table>\n",
       "</div>"
      ],
      "text/plain": [
       "   citation_ID  nanohub_user_id  author_id\n",
       "0     10000003            10676       4613\n",
       "2     10000003            37033       4615"
      ]
     },
     "metadata": {},
     "output_type": "display_data"
    },
    {
     "data": {
      "text/html": [
       "<div>\n",
       "<style scoped>\n",
       "    .dataframe tbody tr th:only-of-type {\n",
       "        vertical-align: middle;\n",
       "    }\n",
       "\n",
       "    .dataframe tbody tr th {\n",
       "        vertical-align: top;\n",
       "    }\n",
       "\n",
       "    .dataframe thead th {\n",
       "        text-align: right;\n",
       "    }\n",
       "</style>\n",
       "<table border=\"1\" class=\"dataframe\">\n",
       "  <thead>\n",
       "    <tr style=\"text-align: right;\">\n",
       "      <th></th>\n",
       "      <th>Id</th>\n",
       "      <th>Record_ID__c</th>\n",
       "    </tr>\n",
       "  </thead>\n",
       "  <tbody>\n",
       "    <tr>\n",
       "      <th>0</th>\n",
       "      <td>a0t5w000008p7pSAAQ</td>\n",
       "      <td>1279</td>\n",
       "    </tr>\n",
       "    <tr>\n",
       "      <th>1</th>\n",
       "      <td>a0t5w000008p7pTAAQ</td>\n",
       "      <td>1535</td>\n",
       "    </tr>\n",
       "  </tbody>\n",
       "</table>\n",
       "</div>"
      ],
      "text/plain": [
       "                   Id  Record_ID__c\n",
       "0  a0t5w000008p7pSAAQ          1279\n",
       "1  a0t5w000008p7pTAAQ          1535"
      ]
     },
     "metadata": {},
     "output_type": "display_data"
    },
    {
     "data": {
      "text/html": [
       "<div>\n",
       "<style scoped>\n",
       "    .dataframe tbody tr th:only-of-type {\n",
       "        vertical-align: middle;\n",
       "    }\n",
       "\n",
       "    .dataframe tbody tr th {\n",
       "        vertical-align: top;\n",
       "    }\n",
       "\n",
       "    .dataframe thead th {\n",
       "        text-align: right;\n",
       "    }\n",
       "</style>\n",
       "<table border=\"1\" class=\"dataframe\">\n",
       "  <thead>\n",
       "    <tr style=\"text-align: right;\">\n",
       "      <th></th>\n",
       "      <th>Id</th>\n",
       "      <th>nanoHUB_user_ID__c</th>\n",
       "    </tr>\n",
       "  </thead>\n",
       "  <tbody>\n",
       "    <tr>\n",
       "      <th>0</th>\n",
       "      <td>0035w000031Vsp1AAC</td>\n",
       "      <td>998</td>\n",
       "    </tr>\n",
       "    <tr>\n",
       "      <th>1</th>\n",
       "      <td>0035w000031Vsp2AAC</td>\n",
       "      <td>1683</td>\n",
       "    </tr>\n",
       "  </tbody>\n",
       "</table>\n",
       "</div>"
      ],
      "text/plain": [
       "                   Id  nanoHUB_user_ID__c\n",
       "0  0035w000031Vsp1AAC                 998\n",
       "1  0035w000031Vsp2AAC                1683"
      ]
     },
     "metadata": {},
     "output_type": "display_data"
    }
   ],
   "source": [
    "# valid citation - nanohub user links\n",
    "ac_tolink_df = ac_df[ac_df.nanohub_user_id != 0]\n",
    "\n",
    "display(ac_tolink_df.head(2))\n",
    "display(sf_citationID_df.head(2))\n",
    "display(sf_userID_df.head(2))"
   ]
  },
  {
   "cell_type": "code",
   "execution_count": 11,
   "metadata": {},
   "outputs": [
    {
     "data": {
      "text/html": [
       "<div>\n",
       "<style scoped>\n",
       "    .dataframe tbody tr th:only-of-type {\n",
       "        vertical-align: middle;\n",
       "    }\n",
       "\n",
       "    .dataframe tbody tr th {\n",
       "        vertical-align: top;\n",
       "    }\n",
       "\n",
       "    .dataframe thead th {\n",
       "        text-align: right;\n",
       "    }\n",
       "</style>\n",
       "<table border=\"1\" class=\"dataframe\">\n",
       "  <thead>\n",
       "    <tr style=\"text-align: right;\">\n",
       "      <th></th>\n",
       "      <th>citation_ID</th>\n",
       "      <th>nanohub_user_id</th>\n",
       "      <th>author_id</th>\n",
       "      <th>SF_ID_citation</th>\n",
       "      <th>Record_ID__c</th>\n",
       "      <th>SF_ID_contact</th>\n",
       "      <th>nanoHUB_user_ID__c</th>\n",
       "    </tr>\n",
       "  </thead>\n",
       "  <tbody>\n",
       "    <tr>\n",
       "      <th>0</th>\n",
       "      <td>1279</td>\n",
       "      <td>30551</td>\n",
       "      <td>11732936</td>\n",
       "      <td>a0t5w000008p7pSAAQ</td>\n",
       "      <td>1279</td>\n",
       "      <td>0035w000034JLpOAAW</td>\n",
       "      <td>30551</td>\n",
       "    </tr>\n",
       "    <tr>\n",
       "      <th>1</th>\n",
       "      <td>3064</td>\n",
       "      <td>30551</td>\n",
       "      <td>11732648</td>\n",
       "      <td>a0t5w000008p7q1AAA</td>\n",
       "      <td>3064</td>\n",
       "      <td>0035w000034JLpOAAW</td>\n",
       "      <td>30551</td>\n",
       "    </tr>\n",
       "  </tbody>\n",
       "</table>\n",
       "</div>"
      ],
      "text/plain": [
       "   citation_ID  nanohub_user_id  author_id      SF_ID_citation  Record_ID__c  \\\n",
       "0         1279            30551   11732936  a0t5w000008p7pSAAQ          1279   \n",
       "1         3064            30551   11732648  a0t5w000008p7q1AAA          3064   \n",
       "\n",
       "        SF_ID_contact  nanoHUB_user_ID__c  \n",
       "0  0035w000034JLpOAAW               30551  \n",
       "1  0035w000034JLpOAAW               30551  "
      ]
     },
     "execution_count": 11,
     "metadata": {},
     "output_type": "execute_result"
    }
   ],
   "source": [
    "# merge SF citation and contact IDs into user-citation DF\n",
    "ac_tolink_df = pd.merge(ac_tolink_df, sf_citationID_df, how='inner', left_on='citation_ID', right_on='Record_ID__c')\\\n",
    "                           .rename(columns={'Id':'SF_ID_citation'})\n",
    "                                            \n",
    "ac_tolink_df = pd.merge(ac_tolink_df, sf_userID_df, how='inner', left_on='nanohub_user_id', right_on='nanoHUB_user_ID__c')\\\n",
    "                           .rename(columns={'Id':'SF_ID_contact'})\n",
    "\n",
    "# display\n",
    "ac_tolink_df.head(2)"
   ]
  },
  {
   "cell_type": "code",
   "execution_count": 12,
   "metadata": {},
   "outputs": [],
   "source": [
    "# create a new column for object name\n",
    "ac_tolink_df['Name'] = ac_tolink_df.apply(lambda x: '%d_%d'%(x.nanoHUB_user_ID__c, x.Record_ID__c), axis=1)"
   ]
  },
  {
   "cell_type": "code",
   "execution_count": 13,
   "metadata": {},
   "outputs": [
    {
     "data": {
      "text/html": [
       "<div>\n",
       "<style scoped>\n",
       "    .dataframe tbody tr th:only-of-type {\n",
       "        vertical-align: middle;\n",
       "    }\n",
       "\n",
       "    .dataframe tbody tr th {\n",
       "        vertical-align: top;\n",
       "    }\n",
       "\n",
       "    .dataframe thead th {\n",
       "        text-align: right;\n",
       "    }\n",
       "</style>\n",
       "<table border=\"1\" class=\"dataframe\">\n",
       "  <thead>\n",
       "    <tr style=\"text-align: right;\">\n",
       "      <th></th>\n",
       "      <th>0</th>\n",
       "      <th>1</th>\n",
       "    </tr>\n",
       "  </thead>\n",
       "  <tbody>\n",
       "    <tr>\n",
       "      <th>Name</th>\n",
       "      <td>30551_1279</td>\n",
       "      <td>30551_3064</td>\n",
       "    </tr>\n",
       "    <tr>\n",
       "      <th>Contact__c</th>\n",
       "      <td>0035w000034JLpOAAW</td>\n",
       "      <td>0035w000034JLpOAAW</td>\n",
       "    </tr>\n",
       "    <tr>\n",
       "      <th>Citation__c</th>\n",
       "      <td>a0t5w000008p7pSAAQ</td>\n",
       "      <td>a0t5w000008p7q1AAA</td>\n",
       "    </tr>\n",
       "  </tbody>\n",
       "</table>\n",
       "</div>"
      ],
      "text/plain": [
       "                              0                   1\n",
       "Name                 30551_1279          30551_3064\n",
       "Contact__c   0035w000034JLpOAAW  0035w000034JLpOAAW\n",
       "Citation__c  a0t5w000008p7pSAAQ  a0t5w000008p7q1AAA"
      ]
     },
     "execution_count": 13,
     "metadata": {},
     "output_type": "execute_result"
    }
   ],
   "source": [
    "df_sf = pd.DataFrame()\n",
    "\n",
    "# Make sure NaN and NaT values are taken care of here\n",
    "df_sf['Name']         = ac_tolink_df['Name']\n",
    "df_sf['Contact__c'] = ac_tolink_df['SF_ID_contact']\n",
    "df_sf['Citation__c'] = ac_tolink_df['SF_ID_citation']\n",
    "\n",
    "sf_original_fields = df_sf.columns\n",
    "\n",
    "# display\n",
    "df_sf.head(2).T"
   ]
  },
  {
   "cell_type": "markdown",
   "metadata": {},
   "source": [
    "## To Salesforce Sales Cloud CRM"
   ]
  },
  {
   "cell_type": "code",
   "execution_count": 14,
   "metadata": {},
   "outputs": [
    {
     "name": "stdout",
     "output_type": "stream",
     "text": [
      "Obtained Salesforce access token ...... True\n"
     ]
    }
   ],
   "source": [
    "# create DB2 to Salesforce API object\n",
    "db_s = DB2SalesforceAPI(sf_login_params)\n",
    "\n",
    "# specify Salesforce object ID and external ID\n",
    "db_s.object_id = 'contact_citation_asso__c'\n",
    "db_s.external_id = 'Name'"
   ]
  },
  {
   "cell_type": "code",
   "execution_count": 15,
   "metadata": {},
   "outputs": [
    {
     "name": "stdout",
     "output_type": "stream",
     "text": [
      "[Success] Bulk job creation successful. Job ID = 7505w00000M1rBsAAJ\n",
      "[Success] CSV upload successful. Job ID = 7505w00000M1rBsAAJ\n",
      "[Success] Closing job successful. Job ID = 7505w00000M1rBsAAJ\n"
     ]
    }
   ],
   "source": [
    "# send data to Salesforce\n",
    "db_s.send_data(df_sf)"
   ]
  },
  {
   "cell_type": "code",
   "execution_count": 17,
   "metadata": {},
   "outputs": [
    {
     "name": "stdout",
     "output_type": "stream",
     "text": [
      "[{'errorCode': 'INVALID_SESSION_ID', 'message': 'Session expired or invalid'}]\n"
     ]
    }
   ],
   "source": [
    "# check status\n",
    "from pprint import pprint\n",
    "\n",
    "pprint(db_s.check_bulk_status())"
   ]
  },
  {
   "cell_type": "code",
   "execution_count": null,
   "metadata": {},
   "outputs": [],
   "source": []
  }
 ],
 "metadata": {
  "celltoolbar": "Tags",
  "kernelspec": {
   "display_name": "Python 3",
   "language": "python",
   "name": "python3"
  },
  "language_info": {
   "codemirror_mode": {
    "name": "ipython",
    "version": 3
   },
   "file_extension": ".py",
   "mimetype": "text/x-python",
   "name": "python",
   "nbconvert_exporter": "python",
   "pygments_lexer": "ipython3",
   "version": "3.7.7"
  }
 },
 "nbformat": 4,
 "nbformat_minor": 4
}
