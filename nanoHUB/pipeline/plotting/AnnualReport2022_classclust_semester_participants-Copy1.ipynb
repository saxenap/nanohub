{
 "cells": [
  {
   "cell_type": "code",
   "execution_count": 1,
   "metadata": {
    "execution": {
     "iopub.execute_input": "2022-02-24T19:45:21.597644Z",
     "iopub.status.busy": "2022-02-24T19:45:21.585736Z",
     "iopub.status.idle": "2022-02-24T19:45:21.620383Z",
     "shell.execute_reply": "2022-02-24T19:45:21.607637Z",
     "shell.execute_reply.started": "2022-02-24T19:45:21.597285Z"
    },
    "tags": []
   },
   "outputs": [],
   "source": [
    "## build researcher events, student events, and self-study events\n",
    "## researcher are simply those with NH citations"
   ]
  },
  {
   "cell_type": "code",
   "execution_count": 2,
   "metadata": {
    "execution": {
     "iopub.execute_input": "2022-02-24T19:45:21.637822Z",
     "iopub.status.busy": "2022-02-24T19:45:21.637373Z",
     "iopub.status.idle": "2022-02-24T19:45:21.735214Z",
     "shell.execute_reply": "2022-02-24T19:45:21.728685Z",
     "shell.execute_reply.started": "2022-02-24T19:45:21.637754Z"
    },
    "tags": []
   },
   "outputs": [],
   "source": [
    "import warnings\n",
    "warnings.filterwarnings('ignore')\n",
    "# warnings.filterwarnings(action='once')\n",
    "warnings.simplefilter(action='ignore', category=FutureWarning)"
   ]
  },
  {
   "cell_type": "code",
   "execution_count": 3,
   "metadata": {
    "execution": {
     "iopub.execute_input": "2022-02-24T19:45:21.755077Z",
     "iopub.status.busy": "2022-02-24T19:45:21.752242Z",
     "iopub.status.idle": "2022-02-24T19:45:29.756364Z",
     "shell.execute_reply": "2022-02-24T19:45:29.754111Z",
     "shell.execute_reply.started": "2022-02-24T19:45:21.754710Z"
    },
    "tags": []
   },
   "outputs": [
    {
     "name": "stdout",
     "output_type": "stream",
     "text": [
      "\u001b[1mnanoHUB - Serving Students, Researchers & Instructors\u001b[0m\n"
     ]
    }
   ],
   "source": [
    "import sys\n",
    "import pandas as pd\n",
    "import time\n",
    "import datetime\n",
    "import numpy as np\n",
    "import datetime\n",
    "import os\n",
    "from pathlib import Path\n",
    "import collections\n",
    "import matplotlib.pyplot as plt\n",
    "import seaborn as sns\n",
    "from nanoHUB.application import Application\n",
    "from nanoHUB.configuration import ClusteringConfiguration\n",
    "from nanoHUB.pipeline.geddes.data import get_default_s3_client\n",
    "from nanoHUB.dataaccess.lake import S3FileMapper\n",
    "\n",
    "from nanoHUB.clustering.infra import get_mike_only_clustered_users, get_xufeng_only_clustered_users, get_mike_xufeng_clustered_users\n",
    "from nanoHUB.clustering.infra import get_number_of_clusters_for_sem,create_clusters_repository, add_cluster_info, get_all_clustered_users, get_all_self_study_users, get_all_self_identified_users\n",
    "from nanoHUB.clustering.infra import filter_by_semester, filter_by_algorithm\n",
    "\n",
    "application = Application.get_instance()\n",
    "nanohub_db = application.new_db_engine('nanohub')\n",
    "nanohub_metrics_db = application.new_db_engine('nanohub_metrics')\n",
    "\n",
    "s3_client = get_default_s3_client(application)\n",
    "processed_mapper = S3FileMapper(s3_client, ClusteringConfiguration().bucket_name_processed)\n",
    "derived_data_file_path = 'derived_data_for_users.csv'"
   ]
  },
  {
   "cell_type": "code",
   "execution_count": 4,
   "metadata": {
    "execution": {
     "iopub.execute_input": "2022-02-24T19:45:29.761906Z",
     "iopub.status.busy": "2022-02-24T19:45:29.760166Z",
     "iopub.status.idle": "2022-02-24T19:45:29.771497Z",
     "shell.execute_reply": "2022-02-24T19:45:29.768786Z",
     "shell.execute_reply.started": "2022-02-24T19:45:29.761828Z"
    },
    "tags": []
   },
   "outputs": [],
   "source": [
    "START_YEAR = 2008\n",
    "END_YEAR = 2022\n",
    "prod_flag = True\n",
    "dev_flag = False"
   ]
  },
  {
   "cell_type": "code",
   "execution_count": 5,
   "metadata": {
    "execution": {
     "iopub.execute_input": "2022-02-24T19:45:29.779278Z",
     "iopub.status.busy": "2022-02-24T19:45:29.778213Z",
     "iopub.status.idle": "2022-02-24T19:45:29.796224Z",
     "shell.execute_reply": "2022-02-24T19:45:29.794870Z",
     "shell.execute_reply.started": "2022-02-24T19:45:29.779227Z"
    },
    "tags": []
   },
   "outputs": [
    {
     "name": "stdout",
     "output_type": "stream",
     "text": [
      "/home/saxenap/nanoHUB/nanoHUB/pipeline/plotting\n"
     ]
    }
   ],
   "source": [
    "pd.set_option('display.max_columns', None)\n",
    "\n",
    "cwd = os.getcwd()\n",
    "print(cwd)\n",
    "cache_dir = Path(cwd + '/cached_data')"
   ]
  },
  {
   "cell_type": "code",
   "execution_count": 6,
   "metadata": {
    "execution": {
     "iopub.execute_input": "2022-02-24T19:45:29.799203Z",
     "iopub.status.busy": "2022-02-24T19:45:29.798426Z",
     "iopub.status.idle": "2022-02-24T19:45:30.199915Z",
     "shell.execute_reply": "2022-02-24T19:45:30.198296Z",
     "shell.execute_reply.started": "2022-02-24T19:45:29.799152Z"
    },
    "tags": []
   },
   "outputs": [],
   "source": [
    "clusters = create_clusters_repository(application, ClusteringConfiguration().bucket_name_processed)"
   ]
  },
  {
   "cell_type": "code",
   "execution_count": 7,
   "metadata": {
    "execution": {
     "iopub.execute_input": "2022-02-24T19:45:30.208627Z",
     "iopub.status.busy": "2022-02-24T19:45:30.205005Z",
     "iopub.status.idle": "2022-02-24T19:45:30.244475Z",
     "shell.execute_reply": "2022-02-24T19:45:30.239769Z",
     "shell.execute_reply.started": "2022-02-24T19:45:30.208539Z"
    },
    "tags": []
   },
   "outputs": [],
   "source": [
    "def list_to_csv(list_vals: list, path: Path):\n",
    "    df = pd.DataFrame()\n",
    "    df['values'] = list_vals\n",
    "    df.to_csv(path, index = None)"
   ]
  },
  {
   "cell_type": "code",
   "execution_count": null,
   "metadata": {
    "tags": []
   },
   "outputs": [],
   "source": []
  },
  {
   "cell_type": "code",
   "execution_count": null,
   "metadata": {
    "tags": []
   },
   "outputs": [],
   "source": []
  },
  {
   "cell_type": "markdown",
   "metadata": {},
   "source": [
    "## Classroom activity plots"
   ]
  },
  {
   "cell_type": "code",
   "execution_count": 9,
   "metadata": {
    "execution": {
     "iopub.execute_input": "2022-02-24T19:47:50.726845Z",
     "iopub.status.busy": "2022-02-24T19:47:50.726469Z",
     "iopub.status.idle": "2022-02-24T19:48:34.862955Z",
     "shell.execute_reply": "2022-02-24T19:48:34.859456Z",
     "shell.execute_reply.started": "2022-02-24T19:47:50.726811Z"
    },
    "tags": []
   },
   "outputs": [
    {
     "name": "stdout",
     "output_type": "stream",
     "text": [
      "num_users_2021:  9143\n",
      "unique_users_2021:  8937\n",
      "num_clusters_2021:  460\n",
      "all_unique_users: 64402\n",
      "num_all_classes:  3583\n"
     ]
    }
   ],
   "source": [
    "## calculate classes per semester\n",
    "year = START_YEAR\n",
    "algs = ['mike']\n",
    "semester_list = ['Spring','Fall']\n",
    "\n",
    "num_clusters_bysem = []\n",
    "num_cumulative_classes = 0\n",
    "num_cumulative_classes_bysem = []\n",
    "students_bysem = []\n",
    "months_sems = []\n",
    "num_students_bysem = []\n",
    "num_unique_students_bysem = []\n",
    "today = datetime.datetime.today()\n",
    "cumulative_users = []\n",
    "num_cumulative_users_bysem = []\n",
    "unique_students = set()\n",
    "num_unique_cumulative_users_bysem = []\n",
    "num_cumulative_users = 0\n",
    "num_unique_cumulative_users = 0\n",
    "unique_users_2021 = set()\n",
    "num_clusters_2021 = 0\n",
    "all_unique_users = set()\n",
    "num_all_classes = 0\n",
    "i = 0\n",
    "num_users_2021 = 0\n",
    "\n",
    "all_users_df = processed_mapper.read(derived_data_file_path, low_memory=False)\n",
    "i=0\n",
    "for alg in algs:\n",
    "    alg_df = filter_by_algorithm(all_users_df, alg)\n",
    "    for year in range(START_YEAR, END_YEAR):\n",
    "        # print(year)\n",
    "        for semester in semester_list:\n",
    "            # i = i+1\n",
    "            # if i > 2:\n",
    "            #     raise\n",
    "            semester = semester.lower()\n",
    "            if semester == 'fall':\n",
    "                months_sems.append(datetime.datetime.strptime(str(year)+'-07-01', '%Y-%m-%d') )\n",
    "                users = clusters.get(alg, datetime.date(year, 7, 2), datetime.date(year, 12, 31))\n",
    "\n",
    "            elif semester == 'spring':\n",
    "                months_sems.append(datetime.datetime.strptime(str(year)+'-01-01', '%Y-%m-%d') )\n",
    "                users = clusters.get(alg, datetime.date(year, 1, 1), datetime.date(year, 7, 1))\n",
    "            \n",
    "            \n",
    "            num_clusters = get_number_of_clusters_for_sem(clusters, alg, semester, year)\n",
    "            num_clusters_bysem.append(num_clusters)\n",
    "            \n",
    "            num_cumulative_classes = num_cumulative_classes + num_clusters\n",
    "            num_cumulative_classes_bysem.append(num_cumulative_classes)\n",
    "            \n",
    "            result_list = []\n",
    "            result_set = set()\n",
    "            for column in users.columns:\n",
    "                vals1 = users[column].tolist()\n",
    "                vals = [x for x in vals1 if pd.notnull(x)]\n",
    "                result_list.extend(vals)\n",
    "                result_set = result_set.union(vals)\n",
    "            \n",
    "            num_all_classes = num_all_classes + num_clusters\n",
    "            all_unique_users = all_unique_users.union(result_set)\n",
    "            # print([item for item, count in collections.Counter(result_list).items() if count > 1])\n",
    "            num_users = users[users.columns].notnull().sum(axis=1).sum()\n",
    "            students_bysem.extend(result_list)\n",
    "            num_students_bysem.append(num_users)\n",
    "            \n",
    "            num_unique_students = len(result_set)\n",
    "            num_unique_students_bysem.append(num_unique_students) \n",
    "            \n",
    "            \n",
    "            num_cumulative_users = num_cumulative_users + num_users\n",
    "            num_cumulative_users_bysem.append(num_cumulative_users)\n",
    "            \n",
    "            num_unique_cumulative_users = num_unique_cumulative_users + num_unique_students\n",
    "            num_unique_cumulative_users_bysem.append(num_unique_cumulative_users)\n",
    "            # print(num_cumulative_users, ' : ', num_unique_cumulative_users)\n",
    "            # print('***********************************')\n",
    "            if year == 2021:\n",
    "                unique_users_2021 = unique_users_2021.union(result_set)\n",
    "                num_clusters_2021 = num_clusters_2021 + num_clusters\n",
    "                num_users_2021 = len(result_list) + num_users_2021\n",
    "                \n",
    "                i = i+1\n",
    "                if i == 2:\n",
    "                    print('num_users_2021: ', num_users_2021)\n",
    "                    print('unique_users_2021: ', len(unique_users_2021))\n",
    "                    print('num_clusters_2021: ', num_clusters_2021)\n",
    "        year += 1\n",
    "\n",
    "print('all_unique_users:', len(all_unique_users))\n",
    "print('num_all_classes: ', num_all_classes)\n",
    "# display(months_sems)\n",
    "# display(num_clusters_bysem)\n",
    "# display(students_bysem)\n"
   ]
  },
  {
   "cell_type": "code",
   "execution_count": 8,
   "metadata": {
    "execution": {
     "iopub.execute_input": "2022-02-24T14:00:34.267155Z",
     "iopub.status.busy": "2022-02-24T14:00:34.266769Z",
     "iopub.status.idle": "2022-02-24T14:00:34.273456Z",
     "shell.execute_reply": "2022-02-24T14:00:34.272102Z",
     "shell.execute_reply.started": "2022-02-24T14:00:34.267132Z"
    },
    "tags": []
   },
   "outputs": [],
   "source": [
    "months_sems2 = [str(i.year)+'-0'+str(i.month) for i in months_sems]"
   ]
  },
  {
   "cell_type": "code",
   "execution_count": 9,
   "metadata": {
    "execution": {
     "iopub.execute_input": "2022-02-24T14:00:34.275842Z",
     "iopub.status.busy": "2022-02-24T14:00:34.275030Z",
     "iopub.status.idle": "2022-02-24T14:00:34.281820Z",
     "shell.execute_reply": "2022-02-24T14:00:34.279774Z",
     "shell.execute_reply.started": "2022-02-24T14:00:34.275804Z"
    },
    "tags": []
   },
   "outputs": [],
   "source": [
    "months_sems_plot = months_sems2\n",
    "num_clusters_bysem_plot = num_clusters_bysem\n",
    "students_bysem_plot = students_bysem\n",
    "num_students_bysem_plot = num_students_bysem"
   ]
  },
  {
   "cell_type": "code",
   "execution_count": 21,
   "metadata": {
    "execution": {
     "iopub.execute_input": "2022-02-24T14:59:05.028747Z",
     "iopub.status.busy": "2022-02-24T14:59:05.025614Z",
     "iopub.status.idle": "2022-02-24T14:59:05.054831Z",
     "shell.execute_reply": "2022-02-24T14:59:05.052486Z",
     "shell.execute_reply.started": "2022-02-24T14:59:05.028688Z"
    },
    "tags": []
   },
   "outputs": [],
   "source": [
    "#dump out all the class data into a directory we use for total numbers , also from other scripts\n",
    "pathsave=cwd+'/total_data/'\n",
    "\n",
    "cache_track = pd.DataFrame()\n",
    "cache_track['date'] = months_sems_plot\n",
    "cache_track['num_clusters_bysem'] = num_clusters_bysem_plot\n",
    "cache_track['num_cumulative_classes'] = cumulative_classes_plot\n",
    "\n",
    "cache_track.to_csv(pathsave+'Classes_mike.csv')\n"
   ]
  },
  {
   "cell_type": "code",
   "execution_count": 20,
   "metadata": {
    "execution": {
     "iopub.execute_input": "2022-02-24T14:56:18.570074Z",
     "iopub.status.busy": "2022-02-24T14:56:18.569380Z",
     "iopub.status.idle": "2022-02-24T14:56:18.595113Z",
     "shell.execute_reply": "2022-02-24T14:56:18.593614Z",
     "shell.execute_reply.started": "2022-02-24T14:56:18.570030Z"
    },
    "tags": []
   },
   "outputs": [
    {
     "data": {
      "text/html": [
       "<div>\n",
       "<style scoped>\n",
       "    .dataframe tbody tr th:only-of-type {\n",
       "        vertical-align: middle;\n",
       "    }\n",
       "\n",
       "    .dataframe tbody tr th {\n",
       "        vertical-align: top;\n",
       "    }\n",
       "\n",
       "    .dataframe thead th {\n",
       "        text-align: right;\n",
       "    }\n",
       "</style>\n",
       "<table border=\"1\" class=\"dataframe\">\n",
       "  <thead>\n",
       "    <tr style=\"text-align: right;\">\n",
       "      <th></th>\n",
       "      <th>months_sems</th>\n",
       "      <th>num_clusters_bysem</th>\n",
       "      <th>months_sems2</th>\n",
       "      <th>num_cumulative_classes</th>\n",
       "    </tr>\n",
       "  </thead>\n",
       "  <tbody>\n",
       "    <tr>\n",
       "      <th>0</th>\n",
       "      <td>2008-01</td>\n",
       "      <td>66</td>\n",
       "      <td>2008-01-01</td>\n",
       "      <td>66</td>\n",
       "    </tr>\n",
       "    <tr>\n",
       "      <th>1</th>\n",
       "      <td>2008-07</td>\n",
       "      <td>45</td>\n",
       "      <td>2008-07-01</td>\n",
       "      <td>111</td>\n",
       "    </tr>\n",
       "    <tr>\n",
       "      <th>2</th>\n",
       "      <td>2009-01</td>\n",
       "      <td>47</td>\n",
       "      <td>2009-01-01</td>\n",
       "      <td>158</td>\n",
       "    </tr>\n",
       "    <tr>\n",
       "      <th>3</th>\n",
       "      <td>2009-07</td>\n",
       "      <td>51</td>\n",
       "      <td>2009-07-01</td>\n",
       "      <td>209</td>\n",
       "    </tr>\n",
       "    <tr>\n",
       "      <th>4</th>\n",
       "      <td>2010-01</td>\n",
       "      <td>90</td>\n",
       "      <td>2010-01-01</td>\n",
       "      <td>299</td>\n",
       "    </tr>\n",
       "  </tbody>\n",
       "</table>\n",
       "</div>"
      ],
      "text/plain": [
       "  months_sems  num_clusters_bysem months_sems2  num_cumulative_classes\n",
       "0     2008-01                  66   2008-01-01                      66\n",
       "1     2008-07                  45   2008-07-01                     111\n",
       "2     2009-01                  47   2009-01-01                     158\n",
       "3     2009-07                  51   2009-07-01                     209\n",
       "4     2010-01                  90   2010-01-01                     299"
      ]
     },
     "metadata": {},
     "output_type": "display_data"
    },
    {
     "data": {
      "text/html": [
       "<div>\n",
       "<style scoped>\n",
       "    .dataframe tbody tr th:only-of-type {\n",
       "        vertical-align: middle;\n",
       "    }\n",
       "\n",
       "    .dataframe tbody tr th {\n",
       "        vertical-align: top;\n",
       "    }\n",
       "\n",
       "    .dataframe thead th {\n",
       "        text-align: right;\n",
       "    }\n",
       "</style>\n",
       "<table border=\"1\" class=\"dataframe\">\n",
       "  <thead>\n",
       "    <tr style=\"text-align: right;\">\n",
       "      <th></th>\n",
       "      <th>months_sems</th>\n",
       "      <th>num_clusters_bysem</th>\n",
       "      <th>months_sems2</th>\n",
       "      <th>num_cumulative_classes</th>\n",
       "    </tr>\n",
       "  </thead>\n",
       "  <tbody>\n",
       "    <tr>\n",
       "      <th>23</th>\n",
       "      <td>2019-07</td>\n",
       "      <td>158</td>\n",
       "      <td>2019-07-01</td>\n",
       "      <td>2680</td>\n",
       "    </tr>\n",
       "    <tr>\n",
       "      <th>24</th>\n",
       "      <td>2020-01</td>\n",
       "      <td>242</td>\n",
       "      <td>2020-01-01</td>\n",
       "      <td>2922</td>\n",
       "    </tr>\n",
       "    <tr>\n",
       "      <th>25</th>\n",
       "      <td>2020-07</td>\n",
       "      <td>201</td>\n",
       "      <td>2020-07-01</td>\n",
       "      <td>3123</td>\n",
       "    </tr>\n",
       "    <tr>\n",
       "      <th>26</th>\n",
       "      <td>2021-01</td>\n",
       "      <td>246</td>\n",
       "      <td>2021-01-01</td>\n",
       "      <td>3369</td>\n",
       "    </tr>\n",
       "    <tr>\n",
       "      <th>27</th>\n",
       "      <td>2021-07</td>\n",
       "      <td>214</td>\n",
       "      <td>2021-07-01</td>\n",
       "      <td>3583</td>\n",
       "    </tr>\n",
       "  </tbody>\n",
       "</table>\n",
       "</div>"
      ],
      "text/plain": [
       "   months_sems  num_clusters_bysem months_sems2  num_cumulative_classes\n",
       "23     2019-07                 158   2019-07-01                    2680\n",
       "24     2020-01                 242   2020-01-01                    2922\n",
       "25     2020-07                 201   2020-07-01                    3123\n",
       "26     2021-01                 246   2021-01-01                    3369\n",
       "27     2021-07                 214   2021-07-01                    3583"
      ]
     },
     "metadata": {},
     "output_type": "display_data"
    }
   ],
   "source": [
    "display(cache_track.head())\n",
    "display(cache_track.tail())"
   ]
  },
  {
   "cell_type": "code",
   "execution_count": 17,
   "metadata": {
    "execution": {
     "iopub.execute_input": "2022-02-24T14:46:19.869824Z",
     "iopub.status.busy": "2022-02-24T14:46:19.869518Z",
     "iopub.status.idle": "2022-02-24T14:46:21.480109Z",
     "shell.execute_reply": "2022-02-24T14:46:21.478835Z",
     "shell.execute_reply.started": "2022-02-24T14:46:19.869796Z"
    },
    "tags": []
   },
   "outputs": [
    {
     "data": {
      "image/png": "[encoded data removed]",
      "text/plain": [
       "<Figure size 648x432 with 1 Axes>"
      ]
     },
     "metadata": {
      "needs_background": "light"
     },
     "output_type": "display_data"
    }
   ],
   "source": [
    "## plot two bar plots\n",
    "plt.figure(figsize=(9,6))\n",
    "\n",
    "g = sns.barplot(months_sems_plot, num_clusters_bysem_plot, color='blue');\n",
    "g.set_xticklabels(months_sems_plot, rotation=90)\n",
    "\n",
    "plt.xlabel('Semester')\n",
    "plt.ylabel('Classes')\n",
    "\n",
    "## specify algorithm name\n",
    "if dev_flag == True:\n",
    "    plt.savefig(cwd+'/plots_local/300_classclust_semester_mike_classes.eps', dpi=300, bbox_inches='tight')\n",
    "    plt.savefig(cwd+'/plots_local/300_classclust_semester_mike_classes.pdf', dpi=300, bbox_inches='tight')\n",
    "    plt.savefig(cwd+'/plots_local/300_classclust_semester_mike_classes.png', dpi=300, bbox_inches='tight')\n",
    "elif prod_flag == True:\n",
    "    plt.savefig(cwd+'/plots_production/300_classclust_semester_mike_classes.eps', dpi=300, bbox_inches='tight')\n",
    "    plt.savefig(cwd+'/plots_production/300_classclust_semester_mike_classes.pdf', dpi=300, bbox_inches='tight')\n",
    "    plt.savefig(cwd+'/plots_production/300_classclust_semester_mike_classes.png', dpi=300, bbox_inches='tight')\n",
    "else:\n",
    "    print('no printing flag is active')\n",
    "\n",
    "# plt.figure(figsize=(9,6))\n",
    "# g = sns.barplot(months_sems_plot, num_students_bysem_plot, color='green');\n",
    "# g.set_xticklabels(months_sems_plot, rotation=90)\n",
    "\n",
    "# plt.xlabel('Semester')\n",
    "# plt.ylabel('Students')\n",
    "\n",
    "# if dev_flag == True:\n",
    "#     plt.savefig(cwd+'/plots_local/300_classclust_semester_mike_participants.eps', dpi=300, bbox_inches='tight')\n",
    "#     plt.savefig(cwd+'/plots_local/300_classclust_semester_mike_participants.pdf', dpi=300, bbox_inches='tight')\n",
    "#     plt.savefig(cwd+'/plots_local/300_classclust_semester_mike_participants.png', dpi=300, bbox_inches='tight')\n",
    "# elif prod_flag == True:\n",
    "#     plt.savefig(cwd+'/plots_production/300_classclust_semester_mike_participants.eps', dpi=300, bbox_inches='tight')\n",
    "#     plt.savefig(cwd+'/plots_production/300_classclust_semester_mike_participants.pdf', dpi=300, bbox_inches='tight')\n",
    "#     plt.savefig(cwd+'/plots_production/300_classclust_semester_mike_participants.png', dpi=300, bbox_inches='tight')\n",
    "# else:\n",
    "#     print('no printing flag is active')"
   ]
  },
  {
   "cell_type": "code",
   "execution_count": null,
   "metadata": {},
   "outputs": [],
   "source": []
  },
  {
   "cell_type": "code",
   "execution_count": 11,
   "metadata": {
    "execution": {
     "iopub.execute_input": "2022-02-24T14:00:36.713142Z",
     "iopub.status.busy": "2022-02-24T14:00:36.712609Z",
     "iopub.status.idle": "2022-02-24T14:00:36.722068Z",
     "shell.execute_reply": "2022-02-24T14:00:36.720921Z",
     "shell.execute_reply.started": "2022-02-24T14:00:36.713082Z"
    },
    "tags": []
   },
   "outputs": [],
   "source": [
    "\n",
    "semester_list = ['Spring','Fall','Summer']\n",
    "# group Spring and Summer together\n",
    "\n",
    "months_sems3 = []\n",
    "\n",
    "for year in range(START_YEAR, END_YEAR):\n",
    "    for i in semester_list:\n",
    "        if i == 'Fall':\n",
    "            months_sems3.append(datetime.datetime.strptime(str(year)+'-07-01', '%Y-%m-%d') )\n",
    "        elif i == 'Spring':\n",
    "            months_sems3.append(datetime.datetime.strptime(str(year)+'-01-01', '%Y-%m-%d') )\n"
   ]
  },
  {
   "cell_type": "code",
   "execution_count": 12,
   "metadata": {
    "execution": {
     "iopub.execute_input": "2022-02-24T14:00:36.724332Z",
     "iopub.status.busy": "2022-02-24T14:00:36.723919Z",
     "iopub.status.idle": "2022-02-24T14:00:36.731938Z",
     "shell.execute_reply": "2022-02-24T14:00:36.730511Z",
     "shell.execute_reply.started": "2022-02-24T14:00:36.724299Z"
    },
    "tags": []
   },
   "outputs": [],
   "source": [
    "\n",
    "months_sems_plot2 = months_sems3\n",
    "cumulative_sem_students_plot = num_cumulative_users_bysem\n",
    "unique_students_plot = num_unique_cumulative_users_bysem\n",
    "cumulative_classes_plot = num_cumulative_classes_bysem\n"
   ]
  },
  {
   "cell_type": "code",
   "execution_count": 13,
   "metadata": {
    "execution": {
     "iopub.execute_input": "2022-02-24T14:00:36.734757Z",
     "iopub.status.busy": "2022-02-24T14:00:36.734201Z",
     "iopub.status.idle": "2022-02-24T14:00:38.124812Z",
     "shell.execute_reply": "2022-02-24T14:00:38.123971Z",
     "shell.execute_reply.started": "2022-02-24T14:00:36.734708Z"
    },
    "tags": []
   },
   "outputs": [
    {
     "name": "stdout",
     "output_type": "stream",
     "text": [
      "[WARNING] [backend_ps - matplotlib.backends.backend_ps]: The PostScript backend does not support transparency; partially transparent artists will be rendered opaque. [backend_ps._is_transparent:303]\n"
     ]
    },
    {
     "data": {
      "image/png": "[encoded data removed]",
      "text/plain": [
       "<Figure size 648x432 with 2 Axes>"
      ]
     },
     "metadata": {
      "needs_background": "light"
     },
     "output_type": "display_data"
    }
   ],
   "source": [
    "# plot cumulative class and student count\n",
    "fig, ax1 = plt.subplots(figsize=(9,6))\n",
    "\n",
    "color = 'tab:red'\n",
    "ax1.set_ylabel('Persons', color=color)\n",
    "p1, = ax1.plot(months_sems_plot2, \\\n",
    "         cumulative_sem_students_plot, color='Green',label='Total Class Participants')\n",
    "p2, = ax1.plot(months_sems_plot2, unique_students_plot, color=color, label='Unique Class Participants')\n",
    "ax1.tick_params(axis='y', labelcolor=color)\n",
    "\n",
    "ax2 = ax1.twinx()  # instantiate a second axes that shares the same x-axis\n",
    "\n",
    "color = 'tab:blue'\n",
    "ax2.set_ylabel('Classes', color=color) # we already handled the x-label with ax1\n",
    "p3, = ax2.plot(months_sems_plot2,cumulative_classes_plot, color=color,label='Unique Classes')\n",
    "ax2.tick_params(axis='y', labelcolor=color)\n",
    "\n",
    "fig.tight_layout()  # otherwise the right y-label is slightly clipped\n",
    "\n",
    "plt.xlim([datetime.datetime(2008,7,1), datetime.datetime(2022,1,1)])\n",
    "\n",
    "ax1.set_ylim([0, 95000])\n",
    "ax1.grid(False)\n",
    "ax2.set_ylim([0, 8000])\n",
    "ax2.grid(False)\n",
    "\n",
    "# add legend\n",
    "plt.legend(handles=[p1,p2,p3],loc=2)\n",
    "\n",
    "if dev_flag == True:\n",
    "    plt.savefig(cwd+'/plots_local/300_classclust_semester_cumulative_combined.eps', dpi=300, bbox_inches='tight')\n",
    "    plt.savefig(cwd+'/plots_local/300_classclust_semester_cumulative_combined.pdf', dpi=300, bbox_inches='tight')\n",
    "    plt.savefig(cwd+'/plots_local/300_classclust_semester_cumulative_combined.png', dpi=300, bbox_inches='tight')\n",
    "elif prod_flag == True:\n",
    "    plt.savefig(cwd+'/plots_production/300_classclust_semester_cumulative_combined.eps', dpi=300, bbox_inches='tight')\n",
    "    plt.savefig(cwd+'/plots_production/300_classclust_semester_cumulative_combined.pdf', dpi=300, bbox_inches='tight')\n",
    "    plt.savefig(cwd+'/plots_production/300_classclust_semester_cumulative_combined.png', dpi=300, bbox_inches='tight')\n",
    "else:\n",
    "    print('no printing flag is active')"
   ]
  },
  {
   "cell_type": "code",
   "execution_count": 14,
   "metadata": {
    "execution": {
     "iopub.execute_input": "2022-02-24T14:01:06.464358Z",
     "iopub.status.busy": "2022-02-24T14:01:06.463869Z",
     "iopub.status.idle": "2022-02-24T14:01:06.477889Z",
     "shell.execute_reply": "2022-02-24T14:01:06.476650Z",
     "shell.execute_reply.started": "2022-02-24T14:01:06.464216Z"
    },
    "tags": []
   },
   "outputs": [],
   "source": [
    "## create a df and save as csv\n",
    "s_df_cumulative = pd.DataFrame()\n",
    "s_df_cumulative['year_month'] = months_sems_plot2\n",
    "s_df_cumulative['total_class_participants'] = cumulative_sem_students_plot\n",
    "s_df_cumulative['unique_class_participants'] = unique_students_plot\n",
    "s_df_cumulative['unique classes'] = cumulative_classes_plot"
   ]
  },
  {
   "cell_type": "code",
   "execution_count": 15,
   "metadata": {
    "execution": {
     "iopub.execute_input": "2022-02-24T14:01:07.526585Z",
     "iopub.status.busy": "2022-02-24T14:01:07.526281Z",
     "iopub.status.idle": "2022-02-24T14:01:07.537788Z",
     "shell.execute_reply": "2022-02-24T14:01:07.536644Z",
     "shell.execute_reply.started": "2022-02-24T14:01:07.526557Z"
    },
    "tags": []
   },
   "outputs": [
    {
     "name": "stdout",
     "output_type": "stream",
     "text": [
      "(28, 4)\n",
      "   year_month  total_class_participants  unique_class_participants  \\\n",
      "23 2019-07-01                     52367                      52367   \n",
      "24 2020-01-01                     56907                      56907   \n",
      "25 2020-07-01                     61394                      61394   \n",
      "26 2021-01-01                     66132                      66132   \n",
      "27 2021-07-01                     70537                      70537   \n",
      "\n",
      "    unique classes  \n",
      "23            2680  \n",
      "24            2922  \n",
      "25            3123  \n",
      "26            3369  \n",
      "27            3583  \n"
     ]
    }
   ],
   "source": [
    "print(s_df_cumulative.shape)\n",
    "print(s_df_cumulative.tail(5))"
   ]
  },
  {
   "cell_type": "code",
   "execution_count": 16,
   "metadata": {
    "execution": {
     "iopub.execute_input": "2022-02-24T14:01:08.152130Z",
     "iopub.status.busy": "2022-02-24T14:01:08.151837Z",
     "iopub.status.idle": "2022-02-24T14:01:08.163447Z",
     "shell.execute_reply": "2022-02-24T14:01:08.162154Z",
     "shell.execute_reply.started": "2022-02-24T14:01:08.152103Z"
    },
    "tags": []
   },
   "outputs": [],
   "source": [
    "s_df_cumulative.to_csv(cwd+'/cached_data/cumulative_class_clust_df.csv')"
   ]
  },
  {
   "cell_type": "code",
   "execution_count": null,
   "metadata": {},
   "outputs": [],
   "source": []
  }
 ],
 "metadata": {
  "kernelspec": {
   "display_name": "Python 3 (ipykernel)",
   "language": "python",
   "name": "python3"
  },
  "language_info": {
   "codemirror_mode": {
    "name": "ipython",
    "version": 3
   },
   "file_extension": ".py",
   "mimetype": "text/x-python",
   "name": "python",
   "nbconvert_exporter": "python",
   "pygments_lexer": "ipython3",
   "version": "3.8.10"
  }
 },
 "nbformat": 4,
 "nbformat_minor": 4
}
