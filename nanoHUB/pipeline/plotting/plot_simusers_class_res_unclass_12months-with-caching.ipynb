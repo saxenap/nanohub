{
 "cells": [
  {
   "cell_type": "code",
   "execution_count": null,
   "id": "9e642b4b-696b-456d-934d-770576251771",
   "metadata": {},
   "outputs": [],
   "source": [
    "import sys\n",
    "\n",
    "import pandas as pd\n",
    "import numpy as np\n",
    "import time\n",
    "import datetime\n",
    "import os\n",
    "from nanoHUB.application import Application\n",
    "from nanoHUB.configuration import ClusteringConfiguration\n",
    "from nanoHUB.pipeline.geddes.data import get_default_s3_client\n",
    "from nanoHUB.dataaccess.lake import S3FileMapper\n",
    "\n",
    "from nanoHUB.clustering.infra import get_mike_only_clustered_users, get_xufeng_only_clustered_users, get_mike_xufeng_clustered_users\n",
    "from nanoHUB.clustering.infra import create_clusters_repository, add_cluster_info, get_all_clustered_users, get_all_self_study_users, get_all_self_identified_users\n",
    "\n",
    "application = Application.get_instance()\n",
    "nanohub_db = application.new_db_engine('nanohub')\n",
    "nanohub_metrics_db = application.new_db_engine('nanohub_metrics')\n",
    "wang159_myrmekes_db = application.new_db_engine('rfm_data')\n",
    "\n",
    "s3_client = get_default_s3_client(application)\n",
    "derived_data_file_path = ClusteringConfiguration().derived_data_path\n",
    "processed_mapper = S3FileMapper(s3_client, ClusteringConfiguration().bucket_name_processed)\n",
    "\n",
    "pd.set_option('display.max_columns', None)\n",
    "cwd = os.getcwd()"
   ]
  },
  {
   "cell_type": "code",
   "execution_count": null,
   "id": "190de007-e715-4ca3-96a3-70307648acf8",
   "metadata": {},
   "outputs": [],
   "source": [
    "from pathlib import Path\n",
    "import os\n",
    "\n",
    "cache_dir = Path().cwd()/'cache_dir'"
   ]
  },
  {
   "cell_type": "code",
   "execution_count": null,
   "id": "b611a14c-99d5-4f3b-b773-3e75df44c58b",
   "metadata": {},
   "outputs": [],
   "source": [
    "year = ''\n",
    "\n",
    "if year == '':\n",
    "    file_path = cache_dir/"
   ]
  },
  {
   "cell_type": "code",
   "execution_count": null,
   "id": "f3bab8dd-1701-4e47-a302-4beff8c81a3e",
   "metadata": {},
   "outputs": [],
   "source": [
    "if cache_flag == True:\n",
    "    user_breakdown_df2 = pd.DataFrame()\n",
    "    user_breakdown_df2['year_month'] = all_months_list\n",
    "    user_breakdown_df2['clustered_track'] = clustered_track\n",
    "    user_breakdown_df2['clustered_m_track'] = clustered_m_track\n",
    "    user_breakdown_df2['clustered_x_track'] = clustered_x_track\n",
    "    user_breakdown_df2['clustered_mx_track'] = clustered_mx_track\n",
    "    user_breakdown_df2['self_identified_track'] = self_identified_track\n",
    "    user_breakdown_df2['self_track'] = self_track\n",
    "    user_breakdown_df2['researcher_track'] = researcher_track\n",
    "    \n",
    "    user_breakdown_df = pd.concat([user_breakdown_df, user_breakdown_df2], ignore_index=True)\n",
    "    display(user_breakdown_df.head(2))\n",
    "else:\n",
    "    user_breakdown_df = pd.DataFrame()\n",
    "    if today.month == 12:\n",
    "        user_breakdown_df['year_month'] = all_months_list #months_bin['year_month'].to_list()[13:]\n",
    "        user_breakdown_df['clustered_track'] = clustered_track#[:len(all_months_list)]\n",
    "        user_breakdown_df['clustered_m_track'] = clustered_m_track#[:len(all_months_list)]\n",
    "        user_breakdown_df['clustered_x_track'] = clustered_x_track#[:len(all_months_list)]\n",
    "        user_breakdown_df['clustered_mx_track'] = clustered_mx_track#[:len(all_months_list)]\n",
    "        user_breakdown_df['self_identified_track'] = self_identified_track\n",
    "        user_breakdown_df['self_track'] = self_track#[:len(all_months_list)]\n",
    "        user_breakdown_df['researcher_track'] = researcher_track#[:len(all_months_list)]        \n",
    "    else:\n",
    "        user_breakdown_df['year_month'] = all_months_list #-(12-today.month)\n",
    "        user_breakdown_df['clustered_track'] = clustered_track#[:len(all_months_list[:])]\n",
    "        user_breakdown_df['clustered_m_track'] = clustered_m_track#[:len(all_months_list[:])]\n",
    "        user_breakdown_df['clustered_x_track'] = clustered_x_track#[:len(all_months_list[:])]\n",
    "        user_breakdown_df['clustered_mx_track'] = clustered_mx_track#[:len(all_months_list[:])]\n",
    "        user_breakdown_df['self_identified_track'] = self_identified_track\n",
    "        user_breakdown_df['self_track'] = self_track#[:len(all_months_list[:])]\n",
    "        user_breakdown_df['researcher_track'] = researcher_track#[:len(all_months_list[:])]\n",
    "    display(user_breakdown_df.head(2))"
   ]
  }
 ],
 "metadata": {
  "kernelspec": {
   "display_name": "Python 3 (ipykernel)",
   "language": "python",
   "name": "python3"
  },
  "language_info": {
   "codemirror_mode": {
    "name": "ipython",
    "version": 3
   },
   "file_extension": ".py",
   "mimetype": "text/x-python",
   "name": "python",
   "nbconvert_exporter": "python",
   "pygments_lexer": "ipython3",
   "version": "3.8.10"
  }
 },
 "nbformat": 4,
 "nbformat_minor": 5
}
