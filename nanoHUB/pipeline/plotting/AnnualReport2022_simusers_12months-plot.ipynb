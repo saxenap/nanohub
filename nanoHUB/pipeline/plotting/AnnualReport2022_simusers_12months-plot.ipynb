{
 "cells": [
  {
   "cell_type": "code",
   "execution_count": 4,
   "metadata": {
    "execution": {
     "iopub.execute_input": "2022-02-23T16:52:44.014156Z",
     "iopub.status.busy": "2022-02-23T16:52:44.013670Z",
     "iopub.status.idle": "2022-02-23T16:52:44.023182Z",
     "shell.execute_reply": "2022-02-23T16:52:44.020768Z",
     "shell.execute_reply.started": "2022-02-23T16:52:44.014121Z"
    },
    "tags": []
   },
   "outputs": [],
   "source": [
    "## build researcher events, student events, and self-study events\n",
    "## researcher are simply those with NH citations"
   ]
  },
  {
   "cell_type": "code",
   "execution_count": 5,
   "metadata": {
    "execution": {
     "iopub.execute_input": "2022-02-23T16:52:44.027580Z",
     "iopub.status.busy": "2022-02-23T16:52:44.026997Z",
     "iopub.status.idle": "2022-02-23T16:52:45.795403Z",
     "shell.execute_reply": "2022-02-23T16:52:45.793008Z",
     "shell.execute_reply.started": "2022-02-23T16:52:44.027530Z"
    },
    "tags": []
   },
   "outputs": [
    {
     "name": "stdout",
     "output_type": "stream",
     "text": [
      "\u001b[1mnanoHUB - Serving Students, Researchers & Instructors\u001b[0m\n"
     ]
    }
   ],
   "source": [
    "import sys\n",
    "\n",
    "import pandas as pd\n",
    "import numpy as np\n",
    "import time\n",
    "import datetime\n",
    "import os\n",
    "from nanoHUB.application import Application\n",
    "from nanoHUB.configuration import ClusteringConfiguration\n",
    "from nanoHUB.pipeline.geddes.data import get_default_s3_client\n",
    "from nanoHUB.dataaccess.lake import S3FileMapper\n",
    "\n",
    "from nanoHUB.clustering.infra import get_mike_only_clustered_users, get_xufeng_only_clustered_users, get_mike_xufeng_clustered_users\n",
    "from nanoHUB.clustering.infra import create_clusters_repository, add_cluster_info, get_all_clustered_users, get_all_self_study_users, get_all_self_identified_users"
   ]
  },
  {
   "cell_type": "code",
   "execution_count": 6,
   "metadata": {
    "execution": {
     "iopub.execute_input": "2022-02-23T16:52:45.799030Z",
     "iopub.status.busy": "2022-02-23T16:52:45.798454Z",
     "iopub.status.idle": "2022-02-23T16:52:45.808396Z",
     "shell.execute_reply": "2022-02-23T16:52:45.804724Z",
     "shell.execute_reply.started": "2022-02-23T16:52:45.798975Z"
    },
    "tags": []
   },
   "outputs": [],
   "source": [
    "pd.set_option('display.max_columns', None)\n",
    "cwd = os.getcwd()"
   ]
  },
  {
   "cell_type": "code",
   "execution_count": 7,
   "metadata": {
    "execution": {
     "iopub.execute_input": "2022-02-23T16:52:45.814410Z",
     "iopub.status.busy": "2022-02-23T16:52:45.814047Z",
     "iopub.status.idle": "2022-02-23T16:52:45.834164Z",
     "shell.execute_reply": "2022-02-23T16:52:45.828376Z",
     "shell.execute_reply.started": "2022-02-23T16:52:45.814378Z"
    },
    "tags": []
   },
   "outputs": [],
   "source": [
    "## determine starting year\n",
    "#if cache_flag == False:\n",
    "start_year_base = 1999 #2000\n",
    "#start_year_base = 2019 #2000\n",
    "pathsave=cwd+'/cached_data/'\n",
    "pathsave=cwd+'/test_data/'\n",
    "pathsave=cwd+'/AnnualReport2022_data/'\n",
    "\n"
   ]
  },
  {
   "cell_type": "code",
   "execution_count": 8,
   "metadata": {
    "execution": {
     "iopub.execute_input": "2022-02-23T16:52:45.836917Z",
     "iopub.status.busy": "2022-02-23T16:52:45.836394Z",
     "iopub.status.idle": "2022-02-23T16:52:46.489469Z",
     "shell.execute_reply": "2022-02-23T16:52:46.487823Z",
     "shell.execute_reply.started": "2022-02-23T16:52:45.836871Z"
    },
    "tags": []
   },
   "outputs": [],
   "source": [
    "application = Application.get_instance()\n",
    "nanohub_db = application.new_db_engine('nanohub')\n",
    "nanohub_metrics_db = application.new_db_engine('nanohub_metrics')\n",
    "wang159_myrmekes_db = application.new_db_engine('rfm_data')\n",
    "\n",
    "s3_client = get_default_s3_client(application)\n",
    "derived_data_file_path = 'derived_data_for_users.csv'\n",
    "processed_mapper = S3FileMapper(s3_client, ClusteringConfiguration().bucket_name_processed)"
   ]
  },
  {
   "cell_type": "markdown",
   "metadata": {
    "tags": []
   },
   "source": [
    "## Cumulative classroom/research/self-study"
   ]
  },
  {
   "cell_type": "code",
   "execution_count": 9,
   "metadata": {
    "execution": {
     "iopub.execute_input": "2022-02-23T16:52:46.493260Z",
     "iopub.status.busy": "2022-02-23T16:52:46.492581Z",
     "iopub.status.idle": "2022-02-23T16:52:46.511869Z",
     "shell.execute_reply": "2022-02-23T16:52:46.509378Z",
     "shell.execute_reply.started": "2022-02-23T16:52:46.493189Z"
    },
    "tags": []
   },
   "outputs": [
    {
     "name": "stdout",
     "output_type": "stream",
     "text": [
      "2022-02-23 16:52:46.502877\n"
     ]
    }
   ],
   "source": [
    "today = datetime.datetime.today()\n",
    "print(today)"
   ]
  },
  {
   "cell_type": "code",
   "execution_count": 10,
   "metadata": {
    "execution": {
     "iopub.execute_input": "2022-02-23T16:52:46.516520Z",
     "iopub.status.busy": "2022-02-23T16:52:46.514464Z",
     "iopub.status.idle": "2022-02-23T16:52:46.527243Z",
     "shell.execute_reply": "2022-02-23T16:52:46.524303Z",
     "shell.execute_reply.started": "2022-02-23T16:52:46.516407Z"
    },
    "tags": []
   },
   "outputs": [],
   "source": [
    "## determine starting year\n",
    "#if cache_flag == False:\n",
    "start_year_base = 1999 #2000\n",
    "#else:\n",
    "#     print('check the saved file')\n",
    "#    start_year_base = int(user_breakdown_df['year_month'].to_list()[-1][:4])\n",
    "    \n",
    "    "
   ]
  },
  {
   "cell_type": "code",
   "execution_count": 11,
   "metadata": {
    "execution": {
     "iopub.execute_input": "2022-02-23T16:52:46.531998Z",
     "iopub.status.busy": "2022-02-23T16:52:46.530427Z",
     "iopub.status.idle": "2022-02-23T16:52:46.546994Z",
     "shell.execute_reply": "2022-02-23T16:52:46.543042Z",
     "shell.execute_reply.started": "2022-02-23T16:52:46.531932Z"
    },
    "tags": []
   },
   "outputs": [],
   "source": [
    "from copy import deepcopy"
   ]
  },
  {
   "cell_type": "code",
   "execution_count": 12,
   "metadata": {
    "execution": {
     "iopub.execute_input": "2022-02-23T16:52:46.549948Z",
     "iopub.status.busy": "2022-02-23T16:52:46.549357Z",
     "iopub.status.idle": "2022-02-23T16:52:46.620281Z",
     "shell.execute_reply": "2022-02-23T16:52:46.618048Z",
     "shell.execute_reply.started": "2022-02-23T16:52:46.549892Z"
    },
    "tags": []
   },
   "outputs": [
    {
     "name": "stdout",
     "output_type": "stream",
     "text": [
      "allmonths partial list [datetime.datetime(2000, 1, 1, 0, 0), datetime.datetime(2000, 2, 1, 0, 0), datetime.datetime(2000, 3, 1, 0, 0), datetime.datetime(2000, 4, 1, 0, 0), datetime.datetime(2000, 5, 1, 0, 0), datetime.datetime(2000, 6, 1, 0, 0), datetime.datetime(2000, 7, 1, 0, 0), datetime.datetime(2000, 8, 1, 0, 0), datetime.datetime(2000, 9, 1, 0, 0), datetime.datetime(2000, 10, 1, 0, 0), datetime.datetime(2000, 11, 1, 0, 0), datetime.datetime(2000, 12, 1, 0, 0), datetime.datetime(2001, 1, 1, 0, 0), datetime.datetime(2001, 2, 1, 0, 0), datetime.datetime(2001, 3, 1, 0, 0), datetime.datetime(2001, 4, 1, 0, 0), datetime.datetime(2001, 5, 1, 0, 0), datetime.datetime(2001, 6, 1, 0, 0), datetime.datetime(2001, 7, 1, 0, 0), datetime.datetime(2001, 8, 1, 0, 0), datetime.datetime(2001, 9, 1, 0, 0), datetime.datetime(2001, 10, 1, 0, 0), datetime.datetime(2001, 11, 1, 0, 0), datetime.datetime(2001, 12, 1, 0, 0), datetime.datetime(2002, 1, 1, 0, 0), datetime.datetime(2002, 2, 1, 0, 0), datetime.datetime(2002, 3, 1, 0, 0), datetime.datetime(2002, 4, 1, 0, 0), datetime.datetime(2002, 5, 1, 0, 0), datetime.datetime(2002, 6, 1, 0, 0), datetime.datetime(2002, 7, 1, 0, 0), datetime.datetime(2002, 8, 1, 0, 0), datetime.datetime(2002, 9, 1, 0, 0), datetime.datetime(2002, 10, 1, 0, 0), datetime.datetime(2002, 11, 1, 0, 0), datetime.datetime(2002, 12, 1, 0, 0)]\n"
     ]
    }
   ],
   "source": [
    "cache_flag = False\n",
    "all_months_list = list()\n",
    "for this_year in range(start_year_base+1,today.year+2):\n",
    "    if cache_flag == True:\n",
    "        for this_month in range(1,today.month+1):\n",
    "            all_months_list.append(datetime.datetime(this_year, this_month, 1))\n",
    "    else:\n",
    "        for this_month in range(1,12+1):\n",
    "            all_months_list.append(datetime.datetime(this_year, this_month, 1))\n",
    "\n",
    "cache_all_month_list = pd.DataFrame()\n",
    "cache_all_month_list['Date'] = all_months_list\n",
    "cache_all_month_list.to_csv(cwd+'/cached_data/all_months_list.csv')\n",
    "cache_all_month_list.to_csv(cwd+'/cached_data/'+ str(start_year_base)+'_all_months_list.csv')\n",
    "cache_all_month_list = []\n",
    "print('allmonths partial list',all_months_list[0:36])\n"
   ]
  },
  {
   "cell_type": "code",
   "execution_count": null,
   "metadata": {},
   "outputs": [],
   "source": []
  },
  {
   "cell_type": "code",
   "execution_count": 13,
   "metadata": {
    "execution": {
     "iopub.execute_input": "2022-02-23T16:52:46.631484Z",
     "iopub.status.busy": "2022-02-23T16:52:46.630027Z",
     "iopub.status.idle": "2022-02-23T16:52:46.643417Z",
     "shell.execute_reply": "2022-02-23T16:52:46.639803Z",
     "shell.execute_reply.started": "2022-02-23T16:52:46.631355Z"
    },
    "tags": []
   },
   "outputs": [],
   "source": [
    "# clustered_NH_username2;researcher_NH_username2;self_NH_username2\n",
    "clustered_track = []\n",
    "clustered_m_track = []\n",
    "clustered_x_track = []\n",
    "clustered_mx_track = []\n",
    "self2_track = []\n",
    "\n",
    "# clustered_track_per = []\n",
    "# self_track_per = []\n",
    "# researcher_track_per = []"
   ]
  },
  {
   "cell_type": "code",
   "execution_count": 14,
   "metadata": {
    "execution": {
     "iopub.execute_input": "2022-02-23T16:52:46.646516Z",
     "iopub.status.busy": "2022-02-23T16:52:46.646246Z",
     "iopub.status.idle": "2022-02-23T16:52:46.743654Z",
     "shell.execute_reply": "2022-02-23T16:52:46.740233Z",
     "shell.execute_reply.started": "2022-02-23T16:52:46.646486Z"
    },
    "tags": []
   },
   "outputs": [
    {
     "name": "stdout",
     "output_type": "stream",
     "text": [
      "len(self_identified_track) 288\n",
      "len(researcher_track) 288\n",
      "len(self2_track) 288\n",
      "len(simtotal_track) 288\n",
      "len(clustered_track) 288\n",
      "len(clustered_m_track) 288\n",
      "len(clustered_x_track) 288\n",
      "clustered_mx_track[0:30] [0, 0, 0, 0, 0, 1, 1, 1, 2, 2, 2, 2, 2, 3, 3, 4, 4, 3, 3, 3, 2, 2, 2, 2, 2, 2, 2, 2, 2, 3]\n",
      "len(clustered_mx_track) 288\n"
     ]
    }
   ],
   "source": [
    "\n",
    "self_identified_track_df = pd.read_csv(pathsave+'selfidentifiedauthors_track.csv',usecols=['track'])\n",
    "self_identified_track = self_identified_track_df['track'].tolist()\n",
    "#print('self_identified_track[0:30]',self_identified_track[0:30])\n",
    "print('len(self_identified_track)',len(self_identified_track))\n",
    "\n",
    "researcher_track_df = pd.read_csv(pathsave+'citingauthor_track.csv',usecols=['track'])\n",
    "researcher_track = researcher_track_df['track'].tolist()\n",
    "#print('researcher_track[0:30]',researcher_track[0:30])\n",
    "print('len(researcher_track)',len(researcher_track))\n",
    "\n",
    "self2_track_df = pd.read_csv(pathsave+'unclassified_track.csv',usecols=['track'])\n",
    "self2_track = self2_track_df['track'].tolist()\n",
    "#print('self2_track[0:30]',self2_track[0:30])\n",
    "print('len(self2_track)',len(self2_track))\n",
    "\n",
    "simtotal_track_df = pd.read_csv(pathsave+'simtotal_track.csv',usecols=['track'])\n",
    "simtotal_track = simtotal_track_df['track'].tolist()\n",
    "#print('simtotal_track[0:30]',simtotal_track[0:30])\n",
    "print('len(simtotal_track)',len(simtotal_track))\n",
    "\n",
    "clustered_track_df = pd.read_csv(pathsave+'clustered_all_track.csv',usecols=['track'])\n",
    "clustered_track = clustered_track_df['track'].tolist()\n",
    "#print('clustered_track[0:30]',clustered_track[0:30])\n",
    "print('len(clustered_track)',len(clustered_track))\n",
    "\n",
    "clustered_m_track_df = pd.read_csv(pathsave+'clustered_m_track.csv',usecols=['track'])\n",
    "clustered_m_track = clustered_m_track_df['track'].tolist()\n",
    "#print('clustered_m_track[0:30]',clustered_m_track[0:30])\n",
    "print('len(clustered_m_track)',len(clustered_m_track))\n",
    "\n",
    "clustered_x_track_df = pd.read_csv(pathsave+'clustered_x_track.csv',usecols=['track'])\n",
    "clustered_x_track = clustered_x_track_df['track'].tolist()\n",
    "#print('clustered_x_track[0:30]',clustered_x_track[0:30])\n",
    "print('len(clustered_x_track)',len(clustered_x_track))\n",
    "\n",
    "clustered_mx_track_df = pd.read_csv(pathsave+'clustered_mx_track.csv',usecols=['track'])\n",
    "clustered_mx_track = clustered_x_track_df['track'].tolist()\n",
    "print('clustered_mx_track[0:30]',clustered_mx_track[0:30])\n",
    "print('len(clustered_mx_track)',len(clustered_mx_track))\n",
    "\n",
    "\n",
    "\n"
   ]
  },
  {
   "cell_type": "code",
   "execution_count": 15,
   "metadata": {
    "execution": {
     "iopub.execute_input": "2022-02-23T16:52:46.745716Z",
     "iopub.status.busy": "2022-02-23T16:52:46.745288Z",
     "iopub.status.idle": "2022-02-23T16:52:46.764076Z",
     "shell.execute_reply": "2022-02-23T16:52:46.760557Z",
     "shell.execute_reply.started": "2022-02-23T16:52:46.745631Z"
    },
    "tags": []
   },
   "outputs": [],
   "source": [
    "#just for testing until all data is assembled, let's trim the lists to a smaller value \n",
    "if (0):\n",
    "    listlength=288\n",
    "    self_identified_track=self_identified_track[:listlength]\n",
    "    researcher_track=researcher_track[:listlength]\n",
    "    self2_track=self2_track[:listlength]\n",
    "    simtotal_track=simtotal_track[:listlength]\n",
    "    clustered_track=clustered_track[:listlength]\n",
    "    clustered_m_track=clustered_m_track[:listlength]\n",
    "    clustered_x_track=clustered_x_track[:listlength]\n",
    "    clustered_mx_track=clustered_mx_track[:listlength]\n",
    "    all_months_list=all_months_list[:listlength]\n",
    "\n",
    "    print('simtotal_track ',simtotal_track[0:100])"
   ]
  },
  {
   "cell_type": "code",
   "execution_count": 16,
   "metadata": {
    "execution": {
     "iopub.execute_input": "2022-02-23T16:52:46.766939Z",
     "iopub.status.busy": "2022-02-23T16:52:46.766503Z",
     "iopub.status.idle": "2022-02-23T16:52:46.842198Z",
     "shell.execute_reply": "2022-02-23T16:52:46.837429Z",
     "shell.execute_reply.started": "2022-02-23T16:52:46.766897Z"
    },
    "tags": []
   },
   "outputs": [
    {
     "data": {
      "text/html": [
       "<div>\n",
       "<style scoped>\n",
       "    .dataframe tbody tr th:only-of-type {\n",
       "        vertical-align: middle;\n",
       "    }\n",
       "\n",
       "    .dataframe tbody tr th {\n",
       "        vertical-align: top;\n",
       "    }\n",
       "\n",
       "    .dataframe thead th {\n",
       "        text-align: right;\n",
       "    }\n",
       "</style>\n",
       "<table border=\"1\" class=\"dataframe\">\n",
       "  <thead>\n",
       "    <tr style=\"text-align: right;\">\n",
       "      <th></th>\n",
       "      <th>year_month</th>\n",
       "      <th>simtotal_track</th>\n",
       "      <th>clustered_track</th>\n",
       "      <th>clustered_m_track</th>\n",
       "      <th>clustered_x_track</th>\n",
       "      <th>clustered_mx_track</th>\n",
       "      <th>self_identified_track</th>\n",
       "      <th>self_track</th>\n",
       "      <th>researcher_track</th>\n",
       "    </tr>\n",
       "  </thead>\n",
       "  <tbody>\n",
       "    <tr>\n",
       "      <th>283</th>\n",
       "      <td>2023-08-01</td>\n",
       "      <td>0</td>\n",
       "      <td>0</td>\n",
       "      <td>0</td>\n",
       "      <td>0</td>\n",
       "      <td>0</td>\n",
       "      <td>0</td>\n",
       "      <td>0</td>\n",
       "      <td>0</td>\n",
       "    </tr>\n",
       "    <tr>\n",
       "      <th>284</th>\n",
       "      <td>2023-09-01</td>\n",
       "      <td>0</td>\n",
       "      <td>0</td>\n",
       "      <td>0</td>\n",
       "      <td>0</td>\n",
       "      <td>0</td>\n",
       "      <td>0</td>\n",
       "      <td>0</td>\n",
       "      <td>0</td>\n",
       "    </tr>\n",
       "    <tr>\n",
       "      <th>285</th>\n",
       "      <td>2023-10-01</td>\n",
       "      <td>0</td>\n",
       "      <td>0</td>\n",
       "      <td>0</td>\n",
       "      <td>0</td>\n",
       "      <td>0</td>\n",
       "      <td>0</td>\n",
       "      <td>0</td>\n",
       "      <td>0</td>\n",
       "    </tr>\n",
       "    <tr>\n",
       "      <th>286</th>\n",
       "      <td>2023-11-01</td>\n",
       "      <td>0</td>\n",
       "      <td>0</td>\n",
       "      <td>0</td>\n",
       "      <td>0</td>\n",
       "      <td>0</td>\n",
       "      <td>0</td>\n",
       "      <td>0</td>\n",
       "      <td>0</td>\n",
       "    </tr>\n",
       "    <tr>\n",
       "      <th>287</th>\n",
       "      <td>2023-12-01</td>\n",
       "      <td>0</td>\n",
       "      <td>0</td>\n",
       "      <td>0</td>\n",
       "      <td>0</td>\n",
       "      <td>0</td>\n",
       "      <td>0</td>\n",
       "      <td>0</td>\n",
       "      <td>0</td>\n",
       "    </tr>\n",
       "  </tbody>\n",
       "</table>\n",
       "</div>"
      ],
      "text/plain": [
       "    year_month  simtotal_track  clustered_track  clustered_m_track  \\\n",
       "283 2023-08-01               0                0                  0   \n",
       "284 2023-09-01               0                0                  0   \n",
       "285 2023-10-01               0                0                  0   \n",
       "286 2023-11-01               0                0                  0   \n",
       "287 2023-12-01               0                0                  0   \n",
       "\n",
       "     clustered_x_track  clustered_mx_track  self_identified_track  self_track  \\\n",
       "283                  0                   0                      0           0   \n",
       "284                  0                   0                      0           0   \n",
       "285                  0                   0                      0           0   \n",
       "286                  0                   0                      0           0   \n",
       "287                  0                   0                      0           0   \n",
       "\n",
       "     researcher_track  \n",
       "283                 0  \n",
       "284                 0  \n",
       "285                 0  \n",
       "286                 0  \n",
       "287                 0  "
      ]
     },
     "metadata": {},
     "output_type": "display_data"
    }
   ],
   "source": [
    "user_breakdown_df2 = pd.DataFrame()\n",
    "user_breakdown_df2['year_month'] = all_months_list\n",
    "user_breakdown_df2['simtotal_track'] = simtotal_track\n",
    "user_breakdown_df2['clustered_track'] = clustered_track\n",
    "user_breakdown_df2['clustered_m_track'] = clustered_m_track\n",
    "user_breakdown_df2['clustered_x_track'] = clustered_x_track\n",
    "user_breakdown_df2['clustered_mx_track'] = clustered_mx_track\n",
    "user_breakdown_df2['self_identified_track'] = self_identified_track\n",
    "user_breakdown_df2['self_track'] = self2_track\n",
    "user_breakdown_df2['researcher_track'] = researcher_track\n",
    "display(user_breakdown_df2.tail(5))"
   ]
  },
  {
   "cell_type": "code",
   "execution_count": 17,
   "metadata": {
    "execution": {
     "iopub.execute_input": "2022-02-23T16:52:46.851050Z",
     "iopub.status.busy": "2022-02-23T16:52:46.850323Z",
     "iopub.status.idle": "2022-02-23T16:52:46.863156Z",
     "shell.execute_reply": "2022-02-23T16:52:46.857440Z",
     "shell.execute_reply.started": "2022-02-23T16:52:46.850939Z"
    },
    "tags": []
   },
   "outputs": [],
   "source": [
    "# user_breakdown_df.to_csv(cwd+'/cached_data/temp.csv')"
   ]
  },
  {
   "cell_type": "code",
   "execution_count": 18,
   "metadata": {
    "execution": {
     "iopub.execute_input": "2022-02-23T16:52:46.872421Z",
     "iopub.status.busy": "2022-02-23T16:52:46.870386Z",
     "iopub.status.idle": "2022-02-23T16:52:46.885654Z",
     "shell.execute_reply": "2022-02-23T16:52:46.883089Z",
     "shell.execute_reply.started": "2022-02-23T16:52:46.872358Z"
    },
    "tags": []
   },
   "outputs": [],
   "source": [
    "import re"
   ]
  },
  {
   "cell_type": "code",
   "execution_count": 19,
   "metadata": {
    "execution": {
     "iopub.execute_input": "2022-02-23T16:52:46.892258Z",
     "iopub.status.busy": "2022-02-23T16:52:46.889175Z",
     "iopub.status.idle": "2022-02-23T16:52:46.911954Z",
     "shell.execute_reply": "2022-02-23T16:52:46.907218Z",
     "shell.execute_reply.started": "2022-02-23T16:52:46.892179Z"
    },
    "tags": []
   },
   "outputs": [],
   "source": [
    "## read the dev_flags.txt to determine where to save\n",
    "with open(cwd+'/dev_flags.txt','r') as f:\n",
    "    raw_flags = f.read()\n",
    "flag_pattern = re.compile(r'= \\w+')\n",
    "flags1 = re.findall(flag_pattern,raw_flags)    \n",
    "flags_result = [i[2:] for i in flags1]\n",
    "dev_flag = flags_result[0]\n",
    "prod_flag = flags_result[1]"
   ]
  },
  {
   "cell_type": "code",
   "execution_count": 20,
   "metadata": {
    "execution": {
     "iopub.execute_input": "2022-02-23T16:52:46.915232Z",
     "iopub.status.busy": "2022-02-23T16:52:46.914387Z",
     "iopub.status.idle": "2022-02-23T16:52:50.411119Z",
     "shell.execute_reply": "2022-02-23T16:52:50.410125Z",
     "shell.execute_reply.started": "2022-02-23T16:52:46.915170Z"
    },
    "tags": []
   },
   "outputs": [
    {
     "name": "stdout",
     "output_type": "stream",
     "text": [
      "[WARNING] [warnings - py.warnings]: /tmp/ipykernel_19408/465986720.py:23: UserWarning: 'set_params()' not defined for locator of type <class 'matplotlib.dates.AutoDateLocator'>\n",
      "  plt.locator_params(axis=\"x\", nbins=40)\n",
      " [warnings._showwarnmsg:109]\n",
      "[WARNING] [backend_ps - matplotlib.backends.backend_ps]: The PostScript backend does not support transparency; partially transparent artists will be rendered opaque. [backend_ps._is_transparent:303]\n"
     ]
    },
    {
     "data": {
      "image/png": "[encoded data removed]",
      "text/plain": [
       "<Figure size 648x432 with 1 Axes>"
      ]
     },
     "metadata": {},
     "output_type": "display_data"
    }
   ],
   "source": [
    "import seaborn as sns\n",
    "import matplotlib.pyplot as plt\n",
    "sns.set()\n",
    "sns.set_style(\"whitegrid\")\n",
    "\n",
    "end_date = datetime.datetime(2022,1,1)\n",
    "start_date = datetime.datetime(2001,1,1)\n",
    "\n",
    "plt.figure(figsize=(9,6))\n",
    "# user_breakdown_df2 = user_breakdown_df.iloc[:-(12-today.month),:]\n",
    "#user_breakdown_df2 = user_breakdown_df.iloc[:-12-(12-today.month),:]\n",
    "plt.stackplot(user_breakdown_df2.year_month, \\\n",
    "#               user_breakdown_df2[['clustered_track','self_track']].to_numpy().T, \\\n",
    "#              labels=['Classroom', 'Unclassified'], \\\n",
    "#              colors=['green', 'orange']); #Self-study              \n",
    "              user_breakdown_df2[['clustered_x_track', 'clustered_mx_track', 'clustered_m_track', 'researcher_track','self_identified_track','self_track']].to_numpy().T, \\\n",
    "             labels=['Classroom X','Classroom MX','Classroom M','Citing Researchers', 'Self-Identified Researcher','Unclassified'], \\\n",
    "             colors=['lawngreen','green', 'yellowgreen','red', 'fuchsia','orange']); #Self-study\n",
    "\n",
    "plt.legend(loc='upper left')#,fontsize=14);\n",
    "plt.ylabel('12-month Trailing Total')#,fontsize=15)\n",
    "plt.xlim([start_date, end_date])#,fontsize=15)\n",
    "plt.locator_params(axis=\"x\", nbins=40)\n",
    "#plt.xticks( rotation=45, ha='right')\n",
    "# plt.show()\n",
    "\n",
    "if dev_flag == 'True':\n",
    "    plt.savefig(cwd+'/plots_local/300_simusers_class_res_unclass_12months_GK.eps', dpi=300, bbox_inches='tight')\n",
    "    plt.savefig(cwd+'/plots_local/300_simusers_class_res_unclass_12months_GK.pdf', dpi=300, bbox_inches='tight')\n",
    "    plt.savefig(cwd+'/plots_local/300_simusers_class_res_unclass_12months_GK.png', dpi=300, bbox_inches='tight')\n",
    "elif prod_flag == 'True':\n",
    "    plt.savefig(cwd+'/plots_production/300_simusers_class_res_unclass_12months_GK.eps', dpi=300, bbox_inches='tight')\n",
    "    plt.savefig(cwd+'/plots_production/300_simusers_class_res_unclass_12months_GK.pdf', dpi=300, bbox_inches='tight')\n",
    "    plt.savefig(cwd+'/plots_production/300_simusers_class_res_unclass_12months_GK.png', dpi=300, bbox_inches='tight')\n",
    "else:\n",
    "    print('no printing flag is active')"
   ]
  },
  {
   "cell_type": "code",
   "execution_count": 26,
   "metadata": {
    "execution": {
     "iopub.execute_input": "2022-02-23T19:27:07.439005Z",
     "iopub.status.busy": "2022-02-23T19:27:07.437009Z",
     "iopub.status.idle": "2022-02-23T19:27:07.526835Z",
     "shell.execute_reply": "2022-02-23T19:27:07.525024Z",
     "shell.execute_reply.started": "2022-02-23T19:27:07.438944Z"
    },
    "tags": []
   },
   "outputs": [
    {
     "data": {
      "text/html": [
       "<div>\n",
       "<style scoped>\n",
       "    .dataframe tbody tr th:only-of-type {\n",
       "        vertical-align: middle;\n",
       "    }\n",
       "\n",
       "    .dataframe tbody tr th {\n",
       "        vertical-align: top;\n",
       "    }\n",
       "\n",
       "    .dataframe thead th {\n",
       "        text-align: right;\n",
       "    }\n",
       "</style>\n",
       "<table border=\"1\" class=\"dataframe\">\n",
       "  <thead>\n",
       "    <tr style=\"text-align: right;\">\n",
       "      <th></th>\n",
       "      <th>year_month</th>\n",
       "      <th>simtotal_track</th>\n",
       "      <th>clustered_track</th>\n",
       "      <th>clustered_m_track</th>\n",
       "      <th>clustered_x_track</th>\n",
       "      <th>clustered_mx_track</th>\n",
       "      <th>self_identified_track</th>\n",
       "      <th>self_track</th>\n",
       "      <th>researcher_track</th>\n",
       "      <th>all_researchers</th>\n",
       "      <th>clustered_track_per</th>\n",
       "      <th>self_identified_track_per</th>\n",
       "      <th>researcher_track_per</th>\n",
       "      <th>self_track_per</th>\n",
       "      <th>all_researchers_per</th>\n",
       "    </tr>\n",
       "  </thead>\n",
       "  <tbody>\n",
       "    <tr>\n",
       "      <th>255</th>\n",
       "      <td>2021-04-01</td>\n",
       "      <td>23758</td>\n",
       "      <td>13255</td>\n",
       "      <td>4149</td>\n",
       "      <td>2546</td>\n",
       "      <td>2546</td>\n",
       "      <td>230</td>\n",
       "      <td>10254</td>\n",
       "      <td>290</td>\n",
       "      <td>520</td>\n",
       "      <td>55.162512</td>\n",
       "      <td>0.957177</td>\n",
       "      <td>1.206875</td>\n",
       "      <td>42.673436</td>\n",
       "      <td>2.164052</td>\n",
       "    </tr>\n",
       "    <tr>\n",
       "      <th>256</th>\n",
       "      <td>2021-05-01</td>\n",
       "      <td>23379</td>\n",
       "      <td>12925</td>\n",
       "      <td>4072</td>\n",
       "      <td>2541</td>\n",
       "      <td>2541</td>\n",
       "      <td>236</td>\n",
       "      <td>10202</td>\n",
       "      <td>279</td>\n",
       "      <td>515</td>\n",
       "      <td>54.669656</td>\n",
       "      <td>0.998224</td>\n",
       "      <td>1.180103</td>\n",
       "      <td>43.152018</td>\n",
       "      <td>2.178327</td>\n",
       "    </tr>\n",
       "    <tr>\n",
       "      <th>257</th>\n",
       "      <td>2021-06-01</td>\n",
       "      <td>23072</td>\n",
       "      <td>12797</td>\n",
       "      <td>3995</td>\n",
       "      <td>2473</td>\n",
       "      <td>2473</td>\n",
       "      <td>268</td>\n",
       "      <td>10003</td>\n",
       "      <td>276</td>\n",
       "      <td>544</td>\n",
       "      <td>54.819225</td>\n",
       "      <td>1.148047</td>\n",
       "      <td>1.182317</td>\n",
       "      <td>42.850411</td>\n",
       "      <td>2.330363</td>\n",
       "    </tr>\n",
       "    <tr>\n",
       "      <th>258</th>\n",
       "      <td>2021-07-01</td>\n",
       "      <td>22587</td>\n",
       "      <td>12540</td>\n",
       "      <td>3963</td>\n",
       "      <td>2407</td>\n",
       "      <td>2407</td>\n",
       "      <td>322</td>\n",
       "      <td>9738</td>\n",
       "      <td>276</td>\n",
       "      <td>598</td>\n",
       "      <td>54.817276</td>\n",
       "      <td>1.407589</td>\n",
       "      <td>1.206505</td>\n",
       "      <td>42.568631</td>\n",
       "      <td>2.614093</td>\n",
       "    </tr>\n",
       "    <tr>\n",
       "      <th>259</th>\n",
       "      <td>2021-08-01</td>\n",
       "      <td>22616</td>\n",
       "      <td>12579</td>\n",
       "      <td>3886</td>\n",
       "      <td>2475</td>\n",
       "      <td>2475</td>\n",
       "      <td>377</td>\n",
       "      <td>9698</td>\n",
       "      <td>273</td>\n",
       "      <td>650</td>\n",
       "      <td>54.865442</td>\n",
       "      <td>1.644349</td>\n",
       "      <td>1.190736</td>\n",
       "      <td>42.299472</td>\n",
       "      <td>2.835085</td>\n",
       "    </tr>\n",
       "    <tr>\n",
       "      <th>260</th>\n",
       "      <td>2021-09-01</td>\n",
       "      <td>23017</td>\n",
       "      <td>12944</td>\n",
       "      <td>3847</td>\n",
       "      <td>2656</td>\n",
       "      <td>2656</td>\n",
       "      <td>414</td>\n",
       "      <td>9712</td>\n",
       "      <td>273</td>\n",
       "      <td>687</td>\n",
       "      <td>55.451313</td>\n",
       "      <td>1.773551</td>\n",
       "      <td>1.169515</td>\n",
       "      <td>41.605621</td>\n",
       "      <td>2.943066</td>\n",
       "    </tr>\n",
       "    <tr>\n",
       "      <th>261</th>\n",
       "      <td>2021-10-01</td>\n",
       "      <td>23463</td>\n",
       "      <td>13359</td>\n",
       "      <td>3807</td>\n",
       "      <td>2883</td>\n",
       "      <td>2883</td>\n",
       "      <td>447</td>\n",
       "      <td>9722</td>\n",
       "      <td>269</td>\n",
       "      <td>716</td>\n",
       "      <td>56.137328</td>\n",
       "      <td>1.878388</td>\n",
       "      <td>1.130395</td>\n",
       "      <td>40.853889</td>\n",
       "      <td>3.008783</td>\n",
       "    </tr>\n",
       "    <tr>\n",
       "      <th>262</th>\n",
       "      <td>2021-11-01</td>\n",
       "      <td>23017</td>\n",
       "      <td>12952</td>\n",
       "      <td>3584</td>\n",
       "      <td>2949</td>\n",
       "      <td>2949</td>\n",
       "      <td>490</td>\n",
       "      <td>9652</td>\n",
       "      <td>253</td>\n",
       "      <td>743</td>\n",
       "      <td>55.476078</td>\n",
       "      <td>2.098771</td>\n",
       "      <td>1.083651</td>\n",
       "      <td>41.341500</td>\n",
       "      <td>3.182422</td>\n",
       "    </tr>\n",
       "    <tr>\n",
       "      <th>263</th>\n",
       "      <td>2021-12-01</td>\n",
       "      <td>23054</td>\n",
       "      <td>13058</td>\n",
       "      <td>3595</td>\n",
       "      <td>2856</td>\n",
       "      <td>2856</td>\n",
       "      <td>542</td>\n",
       "      <td>9559</td>\n",
       "      <td>255</td>\n",
       "      <td>797</td>\n",
       "      <td>55.770052</td>\n",
       "      <td>2.314854</td>\n",
       "      <td>1.089092</td>\n",
       "      <td>40.826002</td>\n",
       "      <td>3.403946</td>\n",
       "    </tr>\n",
       "    <tr>\n",
       "      <th>264</th>\n",
       "      <td>2022-01-01</td>\n",
       "      <td>22300</td>\n",
       "      <td>12573</td>\n",
       "      <td>3604</td>\n",
       "      <td>2578</td>\n",
       "      <td>2578</td>\n",
       "      <td>565</td>\n",
       "      <td>9273</td>\n",
       "      <td>259</td>\n",
       "      <td>824</td>\n",
       "      <td>55.460962</td>\n",
       "      <td>2.492281</td>\n",
       "      <td>1.142479</td>\n",
       "      <td>40.904279</td>\n",
       "      <td>3.634760</td>\n",
       "    </tr>\n",
       "  </tbody>\n",
       "</table>\n",
       "</div>"
      ],
      "text/plain": [
       "    year_month  simtotal_track  clustered_track  clustered_m_track  \\\n",
       "255 2021-04-01           23758            13255               4149   \n",
       "256 2021-05-01           23379            12925               4072   \n",
       "257 2021-06-01           23072            12797               3995   \n",
       "258 2021-07-01           22587            12540               3963   \n",
       "259 2021-08-01           22616            12579               3886   \n",
       "260 2021-09-01           23017            12944               3847   \n",
       "261 2021-10-01           23463            13359               3807   \n",
       "262 2021-11-01           23017            12952               3584   \n",
       "263 2021-12-01           23054            13058               3595   \n",
       "264 2022-01-01           22300            12573               3604   \n",
       "\n",
       "     clustered_x_track  clustered_mx_track  self_identified_track  self_track  \\\n",
       "255               2546                2546                    230       10254   \n",
       "256               2541                2541                    236       10202   \n",
       "257               2473                2473                    268       10003   \n",
       "258               2407                2407                    322        9738   \n",
       "259               2475                2475                    377        9698   \n",
       "260               2656                2656                    414        9712   \n",
       "261               2883                2883                    447        9722   \n",
       "262               2949                2949                    490        9652   \n",
       "263               2856                2856                    542        9559   \n",
       "264               2578                2578                    565        9273   \n",
       "\n",
       "     researcher_track  all_researchers  clustered_track_per  \\\n",
       "255               290              520            55.162512   \n",
       "256               279              515            54.669656   \n",
       "257               276              544            54.819225   \n",
       "258               276              598            54.817276   \n",
       "259               273              650            54.865442   \n",
       "260               273              687            55.451313   \n",
       "261               269              716            56.137328   \n",
       "262               253              743            55.476078   \n",
       "263               255              797            55.770052   \n",
       "264               259              824            55.460962   \n",
       "\n",
       "     self_identified_track_per  researcher_track_per  self_track_per  \\\n",
       "255                   0.957177              1.206875       42.673436   \n",
       "256                   0.998224              1.180103       43.152018   \n",
       "257                   1.148047              1.182317       42.850411   \n",
       "258                   1.407589              1.206505       42.568631   \n",
       "259                   1.644349              1.190736       42.299472   \n",
       "260                   1.773551              1.169515       41.605621   \n",
       "261                   1.878388              1.130395       40.853889   \n",
       "262                   2.098771              1.083651       41.341500   \n",
       "263                   2.314854              1.089092       40.826002   \n",
       "264                   2.492281              1.142479       40.904279   \n",
       "\n",
       "     all_researchers_per  \n",
       "255             2.164052  \n",
       "256             2.178327  \n",
       "257             2.330363  \n",
       "258             2.614093  \n",
       "259             2.835085  \n",
       "260             2.943066  \n",
       "261             3.008783  \n",
       "262             3.182422  \n",
       "263             3.403946  \n",
       "264             3.634760  "
      ]
     },
     "metadata": {},
     "output_type": "display_data"
    }
   ],
   "source": [
    "display(user_breakdown_df2[255:265]) "
   ]
  },
  {
   "cell_type": "code",
   "execution_count": 21,
   "metadata": {
    "execution": {
     "iopub.execute_input": "2022-02-23T16:52:50.415940Z",
     "iopub.status.busy": "2022-02-23T16:52:50.413095Z",
     "iopub.status.idle": "2022-02-23T16:52:50.455574Z",
     "shell.execute_reply": "2022-02-23T16:52:50.454436Z",
     "shell.execute_reply.started": "2022-02-23T16:52:50.415865Z"
    },
    "tags": []
   },
   "outputs": [
    {
     "data": {
      "text/plain": [
       "[1033, 1006, 1014, 991, 955]"
      ]
     },
     "metadata": {},
     "output_type": "display_data"
    },
    {
     "data": {
      "text/plain": [
       "[468, 449, 449, 451, 441]"
      ]
     },
     "metadata": {},
     "output_type": "display_data"
    },
    {
     "data": {
      "text/plain": [
       "[565, 557, 565, 540, 514]"
      ]
     },
     "metadata": {},
     "output_type": "display_data"
    }
   ],
   "source": [
    "total = user_breakdown_df2['clustered_track'].to_numpy()+\\\n",
    "        user_breakdown_df2['self_track'].to_numpy() +\\\n",
    "        user_breakdown_df2['researcher_track'].to_numpy()+\\\n",
    "        user_breakdown_df2['self_identified_track'].to_numpy() \n",
    "\n",
    "#print('total ',total)\n",
    "\n",
    "total_research = user_breakdown_df2['researcher_track'].to_numpy()+\\\n",
    "                 user_breakdown_df2['self_identified_track'].to_numpy() \n",
    "\n",
    "#print('total_research ',total_research)\n",
    "user_breakdown_df2['all_researchers'] = np.add(user_breakdown_df2['self_identified_track'], user_breakdown_df2['researcher_track'])\n",
    "#user_breakdown_df2['all_researchers'] = user_breakdown_df2[['researcher_track','self_identified_track']].sum\n",
    "display(user_breakdown_df2['all_researchers'].tolist()[200:205])\n",
    "display(user_breakdown_df2['researcher_track'].tolist()[200:205])\n",
    "display(user_breakdown_df2['self_identified_track'].tolist()[200:205])\n",
    "\n",
    "user_breakdown_df2['clustered_track_per'] = 100*np.divide(user_breakdown_df2['clustered_track'],total)\n",
    "user_breakdown_df2['self_identified_track_per'] = 100*np.divide(user_breakdown_df2['self_identified_track'], total)\n",
    "user_breakdown_df2['researcher_track_per'] = 100*np.divide(user_breakdown_df2['researcher_track'], total)\n",
    "user_breakdown_df2['self_track_per'] = 100*np.divide(user_breakdown_df2['self_track'], total)\n",
    "user_breakdown_df2['all_researchers_per'] = 100*np.divide(user_breakdown_df2['all_researchers'], total)"
   ]
  },
  {
   "cell_type": "code",
   "execution_count": 22,
   "metadata": {
    "execution": {
     "iopub.execute_input": "2022-02-23T16:52:50.459166Z",
     "iopub.status.busy": "2022-02-23T16:52:50.457249Z",
     "iopub.status.idle": "2022-02-23T16:52:53.352632Z",
     "shell.execute_reply": "2022-02-23T16:52:53.351568Z",
     "shell.execute_reply.started": "2022-02-23T16:52:50.459106Z"
    },
    "tags": []
   },
   "outputs": [
    {
     "name": "stdout",
     "output_type": "stream",
     "text": [
      "[WARNING] [backend_ps - matplotlib.backends.backend_ps]: The PostScript backend does not support transparency; partially transparent artists will be rendered opaque. [backend_ps._is_transparent:303]\n"
     ]
    },
    {
     "data": {
      "image/png": "[encoded data removed]",
      "text/plain": [
       "<Figure size 648x432 with 1 Axes>"
      ]
     },
     "metadata": {},
     "output_type": "display_data"
    }
   ],
   "source": [
    "plt.figure(figsize=(9,6))\n",
    "plt.plot(user_breakdown_df2.year_month, user_breakdown_df2.clustered_track_per, label='Classroom Total', \\\n",
    "             color='green');\n",
    "plt.plot(user_breakdown_df2.year_month, user_breakdown_df2.all_researchers_per, label='All Researchers', \\\n",
    "             color='firebrick');\n",
    "plt.plot(user_breakdown_df2.year_month, user_breakdown_df2.researcher_track_per, label='Citing Researchers', \\\n",
    "             color='red');\n",
    "plt.plot(user_breakdown_df2.year_month, user_breakdown_df2.self_identified_track_per, label='Self-Identified Researchers', \\\n",
    "             color='magenta');\n",
    "plt.plot(user_breakdown_df2.year_month, user_breakdown_df2.self_track_per, label='Unclassified', \\\n",
    "             color='orange');\n",
    "\n",
    "plt.ylim([0, 100])\n",
    "plt.legend(loc='upper right');\n",
    "plt.ylabel('Percentage (%)');\n",
    "plt.xlim([start_date, end_date])\n",
    "# plt.show()\n",
    "\n",
    "if dev_flag == 'True':\n",
    "    plt.savefig(cwd+'/plots_local/300_simusers_class_res_unclass_12months_percent_copied.eps', dpi=300, bbox_inches='tight')\n",
    "    plt.savefig(cwd+'/plots_local/300_simusers_class_res_unclass_12months_percent_copied.pdf', dpi=300, bbox_inches='tight')\n",
    "    plt.savefig(cwd+'/plots_local/300_simusers_class_res_unclass_12months_percent_copied.png', dpi=300, bbox_inches='tight')\n",
    "elif prod_flag == 'True':\n",
    "    plt.savefig(cwd+'/plots_production/300_simusers_class_res_unclass_12months_percent_copied.eps', dpi=300, bbox_inches='tight')\n",
    "    plt.savefig(cwd+'/plots_production/300_simusers_class_res_unclass_12months_percent_copied.pdf', dpi=300, bbox_inches='tight')\n",
    "    plt.savefig(cwd+'/plots_production/300_simusers_class_res_unclass_12months_percent_copied.png', dpi=300, bbox_inches='tight')\n",
    "else:\n",
    "    print('no printing flag is active')"
   ]
  },
  {
   "cell_type": "code",
   "execution_count": 23,
   "metadata": {
    "execution": {
     "iopub.execute_input": "2022-02-23T16:52:53.355829Z",
     "iopub.status.busy": "2022-02-23T16:52:53.354524Z",
     "iopub.status.idle": "2022-02-23T16:52:53.391981Z",
     "shell.execute_reply": "2022-02-23T16:52:53.390913Z",
     "shell.execute_reply.started": "2022-02-23T16:52:53.355719Z"
    },
    "tags": []
   },
   "outputs": [],
   "source": [
    "user_breakdown_df2.to_csv(pathsave+'nh_user_breakdown.csv')"
   ]
  },
  {
   "cell_type": "code",
   "execution_count": null,
   "metadata": {},
   "outputs": [],
   "source": []
  },
  {
   "cell_type": "code",
   "execution_count": null,
   "metadata": {},
   "outputs": [],
   "source": []
  },
  {
   "cell_type": "code",
   "execution_count": null,
   "metadata": {},
   "outputs": [],
   "source": []
  }
 ],
 "metadata": {
  "kernelspec": {
   "display_name": "Python 3 (ipykernel)",
   "language": "python",
   "name": "python3"
  },
  "language_info": {
   "codemirror_mode": {
    "name": "ipython",
    "version": 3
   },
   "file_extension": ".py",
   "mimetype": "text/x-python",
   "name": "python",
   "nbconvert_exporter": "python",
   "pygments_lexer": "ipython3",
   "version": "3.8.10"
  }
 },
 "nbformat": 4,
 "nbformat_minor": 4
}
