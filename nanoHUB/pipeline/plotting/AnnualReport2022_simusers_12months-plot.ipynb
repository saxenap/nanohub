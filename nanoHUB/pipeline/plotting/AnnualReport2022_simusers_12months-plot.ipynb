{
 "cells": [
  {
   "cell_type": "code",
   "execution_count": 1,
   "metadata": {
    "execution": {
     "iopub.execute_input": "2022-02-22T19:42:51.206389Z",
     "iopub.status.busy": "2022-02-22T19:42:51.204752Z",
     "iopub.status.idle": "2022-02-22T19:42:51.212380Z",
     "shell.execute_reply": "2022-02-22T19:42:51.211082Z",
     "shell.execute_reply.started": "2022-02-22T19:42:51.206288Z"
    },
    "tags": []
   },
   "outputs": [],
   "source": [
    "## build researcher events, student events, and self-study events\n",
    "## researcher are simply those with NH citations"
   ]
  },
  {
   "cell_type": "code",
   "execution_count": 2,
   "metadata": {
    "execution": {
     "iopub.execute_input": "2022-02-22T19:42:52.534353Z",
     "iopub.status.busy": "2022-02-22T19:42:52.533241Z",
     "iopub.status.idle": "2022-02-22T19:42:54.572574Z",
     "shell.execute_reply": "2022-02-22T19:42:54.571463Z",
     "shell.execute_reply.started": "2022-02-22T19:42:52.534293Z"
    },
    "tags": []
   },
   "outputs": [
    {
     "name": "stdout",
     "output_type": "stream",
     "text": [
      "\u001b[1mnanoHUB - Serving Students, Researchers & Instructors\u001b[0m\n"
     ]
    }
   ],
   "source": [
    "import sys\n",
    "\n",
    "import pandas as pd\n",
    "import numpy as np\n",
    "import time\n",
    "import datetime\n",
    "import os\n",
    "from nanoHUB.application import Application\n",
    "from nanoHUB.configuration import ClusteringConfiguration\n",
    "from nanoHUB.pipeline.geddes.data import get_default_s3_client\n",
    "from nanoHUB.dataaccess.lake import S3FileMapper\n",
    "\n",
    "from nanoHUB.clustering.infra import get_mike_only_clustered_users, get_xufeng_only_clustered_users, get_mike_xufeng_clustered_users\n",
    "from nanoHUB.clustering.infra import create_clusters_repository, add_cluster_info, get_all_clustered_users, get_all_self_study_users, get_all_self_identified_users"
   ]
  },
  {
   "cell_type": "code",
   "execution_count": 3,
   "metadata": {
    "execution": {
     "iopub.execute_input": "2022-02-22T19:42:54.574429Z",
     "iopub.status.busy": "2022-02-22T19:42:54.574222Z",
     "iopub.status.idle": "2022-02-22T19:42:54.579850Z",
     "shell.execute_reply": "2022-02-22T19:42:54.578302Z",
     "shell.execute_reply.started": "2022-02-22T19:42:54.574407Z"
    },
    "tags": []
   },
   "outputs": [],
   "source": [
    "pd.set_option('display.max_columns', None)\n",
    "cwd = os.getcwd()"
   ]
  },
  {
   "cell_type": "code",
   "execution_count": 4,
   "metadata": {
    "execution": {
     "iopub.execute_input": "2022-02-22T19:42:54.582748Z",
     "iopub.status.busy": "2022-02-22T19:42:54.582475Z",
     "iopub.status.idle": "2022-02-22T19:42:54.589441Z",
     "shell.execute_reply": "2022-02-22T19:42:54.588213Z",
     "shell.execute_reply.started": "2022-02-22T19:42:54.582712Z"
    },
    "tags": []
   },
   "outputs": [],
   "source": [
    "## determine starting year\n",
    "#if cache_flag == False:\n",
    "start_year_base = 1999 #2000\n",
    "#start_year_base = 2019 #2000\n",
    "pathsave=cwd+'/cached_data/'\n",
    "pathsave=cwd+'/test_data/'\n",
    "pathsave=cwd+'/AnnualReport2022_data/'\n",
    "\n"
   ]
  },
  {
   "cell_type": "code",
   "execution_count": 5,
   "metadata": {
    "execution": {
     "iopub.execute_input": "2022-02-22T19:42:54.591993Z",
     "iopub.status.busy": "2022-02-22T19:42:54.591670Z",
     "iopub.status.idle": "2022-02-22T19:42:55.003200Z",
     "shell.execute_reply": "2022-02-22T19:42:55.001575Z",
     "shell.execute_reply.started": "2022-02-22T19:42:54.591964Z"
    },
    "tags": []
   },
   "outputs": [],
   "source": [
    "application = Application.get_instance()\n",
    "nanohub_db = application.new_db_engine('nanohub')\n",
    "nanohub_metrics_db = application.new_db_engine('nanohub_metrics')\n",
    "wang159_myrmekes_db = application.new_db_engine('rfm_data')\n",
    "\n",
    "s3_client = get_default_s3_client(application)\n",
    "derived_data_file_path = 'derived_data_for_users.csv'\n",
    "processed_mapper = S3FileMapper(s3_client, ClusteringConfiguration().bucket_name_processed)"
   ]
  },
  {
   "cell_type": "markdown",
   "metadata": {
    "tags": []
   },
   "source": [
    "## Cumulative classroom/research/self-study"
   ]
  },
  {
   "cell_type": "code",
   "execution_count": 6,
   "metadata": {
    "execution": {
     "iopub.execute_input": "2022-02-22T19:42:55.005676Z",
     "iopub.status.busy": "2022-02-22T19:42:55.005331Z",
     "iopub.status.idle": "2022-02-22T19:42:55.014248Z",
     "shell.execute_reply": "2022-02-22T19:42:55.012218Z",
     "shell.execute_reply.started": "2022-02-22T19:42:55.005632Z"
    },
    "tags": []
   },
   "outputs": [
    {
     "name": "stdout",
     "output_type": "stream",
     "text": [
      "2022-02-22 19:42:55.007289\n"
     ]
    }
   ],
   "source": [
    "today = datetime.datetime.today()\n",
    "print(today)"
   ]
  },
  {
   "cell_type": "code",
   "execution_count": 7,
   "metadata": {
    "execution": {
     "iopub.execute_input": "2022-02-22T19:42:55.025326Z",
     "iopub.status.busy": "2022-02-22T19:42:55.024850Z",
     "iopub.status.idle": "2022-02-22T19:42:55.032650Z",
     "shell.execute_reply": "2022-02-22T19:42:55.030529Z",
     "shell.execute_reply.started": "2022-02-22T19:42:55.025276Z"
    },
    "tags": []
   },
   "outputs": [],
   "source": [
    "## determine starting year\n",
    "#if cache_flag == False:\n",
    "start_year_base = 1999 #2000\n",
    "#else:\n",
    "#     print('check the saved file')\n",
    "#    start_year_base = int(user_breakdown_df['year_month'].to_list()[-1][:4])\n",
    "    \n",
    "    "
   ]
  },
  {
   "cell_type": "code",
   "execution_count": 8,
   "metadata": {
    "execution": {
     "iopub.execute_input": "2022-02-22T19:42:55.195132Z",
     "iopub.status.busy": "2022-02-22T19:42:55.194807Z",
     "iopub.status.idle": "2022-02-22T19:42:55.200920Z",
     "shell.execute_reply": "2022-02-22T19:42:55.199499Z",
     "shell.execute_reply.started": "2022-02-22T19:42:55.195106Z"
    },
    "tags": []
   },
   "outputs": [],
   "source": [
    "from copy import deepcopy"
   ]
  },
  {
   "cell_type": "code",
   "execution_count": 9,
   "metadata": {
    "execution": {
     "iopub.execute_input": "2022-02-22T19:42:55.367618Z",
     "iopub.status.busy": "2022-02-22T19:42:55.367165Z",
     "iopub.status.idle": "2022-02-22T19:42:55.410703Z",
     "shell.execute_reply": "2022-02-22T19:42:55.408535Z",
     "shell.execute_reply.started": "2022-02-22T19:42:55.367583Z"
    },
    "tags": []
   },
   "outputs": [
    {
     "name": "stdout",
     "output_type": "stream",
     "text": [
      "allmonths partial list [datetime.datetime(2000, 1, 1, 0, 0), datetime.datetime(2000, 2, 1, 0, 0), datetime.datetime(2000, 3, 1, 0, 0), datetime.datetime(2000, 4, 1, 0, 0), datetime.datetime(2000, 5, 1, 0, 0), datetime.datetime(2000, 6, 1, 0, 0), datetime.datetime(2000, 7, 1, 0, 0), datetime.datetime(2000, 8, 1, 0, 0), datetime.datetime(2000, 9, 1, 0, 0), datetime.datetime(2000, 10, 1, 0, 0), datetime.datetime(2000, 11, 1, 0, 0), datetime.datetime(2000, 12, 1, 0, 0), datetime.datetime(2001, 1, 1, 0, 0), datetime.datetime(2001, 2, 1, 0, 0), datetime.datetime(2001, 3, 1, 0, 0), datetime.datetime(2001, 4, 1, 0, 0), datetime.datetime(2001, 5, 1, 0, 0), datetime.datetime(2001, 6, 1, 0, 0), datetime.datetime(2001, 7, 1, 0, 0), datetime.datetime(2001, 8, 1, 0, 0), datetime.datetime(2001, 9, 1, 0, 0), datetime.datetime(2001, 10, 1, 0, 0), datetime.datetime(2001, 11, 1, 0, 0), datetime.datetime(2001, 12, 1, 0, 0), datetime.datetime(2002, 1, 1, 0, 0), datetime.datetime(2002, 2, 1, 0, 0), datetime.datetime(2002, 3, 1, 0, 0), datetime.datetime(2002, 4, 1, 0, 0), datetime.datetime(2002, 5, 1, 0, 0), datetime.datetime(2002, 6, 1, 0, 0), datetime.datetime(2002, 7, 1, 0, 0), datetime.datetime(2002, 8, 1, 0, 0), datetime.datetime(2002, 9, 1, 0, 0), datetime.datetime(2002, 10, 1, 0, 0), datetime.datetime(2002, 11, 1, 0, 0), datetime.datetime(2002, 12, 1, 0, 0)]\n"
     ]
    }
   ],
   "source": [
    "cache_flag = False\n",
    "all_months_list = list()\n",
    "for this_year in range(start_year_base+1,today.year+2):\n",
    "    if cache_flag == True:\n",
    "        for this_month in range(1,today.month+1):\n",
    "            all_months_list.append(datetime.datetime(this_year, this_month, 1))\n",
    "    else:\n",
    "        for this_month in range(1,12+1):\n",
    "            all_months_list.append(datetime.datetime(this_year, this_month, 1))\n",
    "\n",
    "cache_all_month_list = pd.DataFrame()\n",
    "cache_all_month_list['Date'] = all_months_list\n",
    "cache_all_month_list.to_csv(cwd+'/cached_data/all_months_list.csv')\n",
    "cache_all_month_list.to_csv(cwd+'/cached_data/'+ str(start_year_base)+'_all_months_list.csv')\n",
    "cache_all_month_list = []\n",
    "print('allmonths partial list',all_months_list[0:36])\n"
   ]
  },
  {
   "cell_type": "code",
   "execution_count": null,
   "metadata": {},
   "outputs": [],
   "source": []
  },
  {
   "cell_type": "code",
   "execution_count": 10,
   "metadata": {
    "execution": {
     "iopub.execute_input": "2022-02-22T19:42:55.718041Z",
     "iopub.status.busy": "2022-02-22T19:42:55.717715Z",
     "iopub.status.idle": "2022-02-22T19:42:55.725788Z",
     "shell.execute_reply": "2022-02-22T19:42:55.723519Z",
     "shell.execute_reply.started": "2022-02-22T19:42:55.718014Z"
    },
    "tags": []
   },
   "outputs": [],
   "source": [
    "# clustered_NH_username2;researcher_NH_username2;self_NH_username2\n",
    "clustered_track = []\n",
    "clustered_m_track = []\n",
    "clustered_x_track = []\n",
    "clustered_mx_track = []\n",
    "self2_track = []\n",
    "\n",
    "# clustered_track_per = []\n",
    "# self_track_per = []\n",
    "# researcher_track_per = []"
   ]
  },
  {
   "cell_type": "code",
   "execution_count": 11,
   "metadata": {
    "execution": {
     "iopub.execute_input": "2022-02-22T19:42:55.920005Z",
     "iopub.status.busy": "2022-02-22T19:42:55.919718Z",
     "iopub.status.idle": "2022-02-22T19:42:55.986911Z",
     "shell.execute_reply": "2022-02-22T19:42:55.985627Z",
     "shell.execute_reply.started": "2022-02-22T19:42:55.919980Z"
    },
    "tags": []
   },
   "outputs": [
    {
     "name": "stdout",
     "output_type": "stream",
     "text": [
      "len(self_identified_track) 288\n",
      "len(researcher_track) 288\n",
      "len(self2_track) 288\n",
      "len(simtotal_track) 288\n",
      "len(clustered_track) 288\n",
      "len(clustered_m_track) 288\n",
      "len(clustered_x_track) 288\n",
      "clustered_mx_track[0:30] [0, 0, 0, 0, 0, 1, 1, 1, 2, 2, 2, 2, 2, 3, 3, 4, 4, 3, 3, 3, 2, 2, 2, 2, 2, 2, 2, 2, 2, 3]\n",
      "len(clustered_mx_track) 288\n"
     ]
    }
   ],
   "source": [
    "\n",
    "self_identified_track_df = pd.read_csv(pathsave+'selfidentifiedauthors_track.csv',usecols=['track'])\n",
    "self_identified_track = self_identified_track_df['track'].tolist()\n",
    "#print('self_identified_track[0:30]',self_identified_track[0:30])\n",
    "print('len(self_identified_track)',len(self_identified_track))\n",
    "\n",
    "researcher_track_df = pd.read_csv(pathsave+'citingauthor_track.csv',usecols=['track'])\n",
    "researcher_track = researcher_track_df['track'].tolist()\n",
    "#print('researcher_track[0:30]',researcher_track[0:30])\n",
    "print('len(researcher_track)',len(researcher_track))\n",
    "\n",
    "self2_track_df = pd.read_csv(pathsave+'unclassified_track.csv',usecols=['track'])\n",
    "self2_track = self2_track_df['track'].tolist()\n",
    "#print('self2_track[0:30]',self2_track[0:30])\n",
    "print('len(self2_track)',len(self2_track))\n",
    "\n",
    "simtotal_track_df = pd.read_csv(pathsave+'simtotal_track.csv',usecols=['track'])\n",
    "simtotal_track = simtotal_track_df['track'].tolist()\n",
    "#print('simtotal_track[0:30]',simtotal_track[0:30])\n",
    "print('len(simtotal_track)',len(simtotal_track))\n",
    "\n",
    "clustered_track_df = pd.read_csv(pathsave+'clustered_all_track.csv',usecols=['track'])\n",
    "clustered_track = clustered_track_df['track'].tolist()\n",
    "#print('clustered_track[0:30]',clustered_track[0:30])\n",
    "print('len(clustered_track)',len(clustered_track))\n",
    "\n",
    "clustered_m_track_df = pd.read_csv(pathsave+'clustered_m_track.csv',usecols=['track'])\n",
    "clustered_m_track = clustered_m_track_df['track'].tolist()\n",
    "#print('clustered_m_track[0:30]',clustered_m_track[0:30])\n",
    "print('len(clustered_m_track)',len(clustered_m_track))\n",
    "\n",
    "clustered_x_track_df = pd.read_csv(pathsave+'clustered_x_track.csv',usecols=['track'])\n",
    "clustered_x_track = clustered_x_track_df['track'].tolist()\n",
    "#print('clustered_x_track[0:30]',clustered_x_track[0:30])\n",
    "print('len(clustered_x_track)',len(clustered_x_track))\n",
    "\n",
    "clustered_mx_track_df = pd.read_csv(pathsave+'clustered_mx_track.csv',usecols=['track'])\n",
    "clustered_mx_track = clustered_x_track_df['track'].tolist()\n",
    "print('clustered_mx_track[0:30]',clustered_mx_track[0:30])\n",
    "print('len(clustered_mx_track)',len(clustered_mx_track))\n",
    "\n",
    "\n",
    "\n"
   ]
  },
  {
   "cell_type": "code",
   "execution_count": 12,
   "metadata": {
    "execution": {
     "iopub.execute_input": "2022-02-22T19:42:56.072477Z",
     "iopub.status.busy": "2022-02-22T19:42:56.071854Z",
     "iopub.status.idle": "2022-02-22T19:42:56.081736Z",
     "shell.execute_reply": "2022-02-22T19:42:56.080432Z",
     "shell.execute_reply.started": "2022-02-22T19:42:56.072440Z"
    },
    "tags": []
   },
   "outputs": [],
   "source": [
    "#just for testing until all data is assembled, let's trim the lists to a smaller value \n",
    "if (0):\n",
    "    listlength=288\n",
    "    self_identified_track=self_identified_track[:listlength]\n",
    "    researcher_track=researcher_track[:listlength]\n",
    "    self2_track=self2_track[:listlength]\n",
    "    simtotal_track=simtotal_track[:listlength]\n",
    "    clustered_track=clustered_track[:listlength]\n",
    "    clustered_m_track=clustered_m_track[:listlength]\n",
    "    clustered_x_track=clustered_x_track[:listlength]\n",
    "    clustered_mx_track=clustered_mx_track[:listlength]\n",
    "    all_months_list=all_months_list[:listlength]\n",
    "\n",
    "    print('simtotal_track ',simtotal_track[0:100])"
   ]
  },
  {
   "cell_type": "code",
   "execution_count": 13,
   "metadata": {
    "execution": {
     "iopub.execute_input": "2022-02-22T19:42:56.257935Z",
     "iopub.status.busy": "2022-02-22T19:42:56.257600Z",
     "iopub.status.idle": "2022-02-22T19:42:56.309175Z",
     "shell.execute_reply": "2022-02-22T19:42:56.307302Z",
     "shell.execute_reply.started": "2022-02-22T19:42:56.257903Z"
    },
    "tags": []
   },
   "outputs": [
    {
     "data": {
      "text/html": [
       "<div>\n",
       "<style scoped>\n",
       "    .dataframe tbody tr th:only-of-type {\n",
       "        vertical-align: middle;\n",
       "    }\n",
       "\n",
       "    .dataframe tbody tr th {\n",
       "        vertical-align: top;\n",
       "    }\n",
       "\n",
       "    .dataframe thead th {\n",
       "        text-align: right;\n",
       "    }\n",
       "</style>\n",
       "<table border=\"1\" class=\"dataframe\">\n",
       "  <thead>\n",
       "    <tr style=\"text-align: right;\">\n",
       "      <th></th>\n",
       "      <th>year_month</th>\n",
       "      <th>simtotal_track</th>\n",
       "      <th>clustered_track</th>\n",
       "      <th>clustered_m_track</th>\n",
       "      <th>clustered_x_track</th>\n",
       "      <th>clustered_mx_track</th>\n",
       "      <th>self_identified_track</th>\n",
       "      <th>self_track</th>\n",
       "      <th>researcher_track</th>\n",
       "    </tr>\n",
       "  </thead>\n",
       "  <tbody>\n",
       "    <tr>\n",
       "      <th>283</th>\n",
       "      <td>2023-08-01</td>\n",
       "      <td>0</td>\n",
       "      <td>0</td>\n",
       "      <td>0</td>\n",
       "      <td>0</td>\n",
       "      <td>0</td>\n",
       "      <td>0</td>\n",
       "      <td>0</td>\n",
       "      <td>0</td>\n",
       "    </tr>\n",
       "    <tr>\n",
       "      <th>284</th>\n",
       "      <td>2023-09-01</td>\n",
       "      <td>0</td>\n",
       "      <td>0</td>\n",
       "      <td>0</td>\n",
       "      <td>0</td>\n",
       "      <td>0</td>\n",
       "      <td>0</td>\n",
       "      <td>0</td>\n",
       "      <td>0</td>\n",
       "    </tr>\n",
       "    <tr>\n",
       "      <th>285</th>\n",
       "      <td>2023-10-01</td>\n",
       "      <td>0</td>\n",
       "      <td>0</td>\n",
       "      <td>0</td>\n",
       "      <td>0</td>\n",
       "      <td>0</td>\n",
       "      <td>0</td>\n",
       "      <td>0</td>\n",
       "      <td>0</td>\n",
       "    </tr>\n",
       "    <tr>\n",
       "      <th>286</th>\n",
       "      <td>2023-11-01</td>\n",
       "      <td>0</td>\n",
       "      <td>0</td>\n",
       "      <td>0</td>\n",
       "      <td>0</td>\n",
       "      <td>0</td>\n",
       "      <td>0</td>\n",
       "      <td>0</td>\n",
       "      <td>0</td>\n",
       "    </tr>\n",
       "    <tr>\n",
       "      <th>287</th>\n",
       "      <td>2023-12-01</td>\n",
       "      <td>0</td>\n",
       "      <td>0</td>\n",
       "      <td>0</td>\n",
       "      <td>0</td>\n",
       "      <td>0</td>\n",
       "      <td>0</td>\n",
       "      <td>0</td>\n",
       "      <td>0</td>\n",
       "    </tr>\n",
       "  </tbody>\n",
       "</table>\n",
       "</div>"
      ],
      "text/plain": [
       "    year_month  simtotal_track  clustered_track  clustered_m_track  \\\n",
       "283 2023-08-01               0                0                  0   \n",
       "284 2023-09-01               0                0                  0   \n",
       "285 2023-10-01               0                0                  0   \n",
       "286 2023-11-01               0                0                  0   \n",
       "287 2023-12-01               0                0                  0   \n",
       "\n",
       "     clustered_x_track  clustered_mx_track  self_identified_track  self_track  \\\n",
       "283                  0                   0                      0           0   \n",
       "284                  0                   0                      0           0   \n",
       "285                  0                   0                      0           0   \n",
       "286                  0                   0                      0           0   \n",
       "287                  0                   0                      0           0   \n",
       "\n",
       "     researcher_track  \n",
       "283                 0  \n",
       "284                 0  \n",
       "285                 0  \n",
       "286                 0  \n",
       "287                 0  "
      ]
     },
     "metadata": {},
     "output_type": "display_data"
    }
   ],
   "source": [
    "user_breakdown_df2 = pd.DataFrame()\n",
    "user_breakdown_df2['year_month'] = all_months_list\n",
    "user_breakdown_df2['simtotal_track'] = simtotal_track\n",
    "user_breakdown_df2['clustered_track'] = clustered_track\n",
    "user_breakdown_df2['clustered_m_track'] = clustered_m_track\n",
    "user_breakdown_df2['clustered_x_track'] = clustered_x_track\n",
    "user_breakdown_df2['clustered_mx_track'] = clustered_mx_track\n",
    "user_breakdown_df2['self_identified_track'] = self_identified_track\n",
    "user_breakdown_df2['self_track'] = self2_track\n",
    "user_breakdown_df2['researcher_track'] = researcher_track\n",
    "display(user_breakdown_df2.tail(5))"
   ]
  },
  {
   "cell_type": "code",
   "execution_count": 14,
   "metadata": {
    "execution": {
     "iopub.execute_input": "2022-02-22T19:42:56.427345Z",
     "iopub.status.busy": "2022-02-22T19:42:56.427105Z",
     "iopub.status.idle": "2022-02-22T19:42:56.432832Z",
     "shell.execute_reply": "2022-02-22T19:42:56.431099Z",
     "shell.execute_reply.started": "2022-02-22T19:42:56.427321Z"
    },
    "tags": []
   },
   "outputs": [],
   "source": [
    "# user_breakdown_df.to_csv(cwd+'/cached_data/temp.csv')"
   ]
  },
  {
   "cell_type": "code",
   "execution_count": 15,
   "metadata": {
    "execution": {
     "iopub.execute_input": "2022-02-22T19:42:56.595954Z",
     "iopub.status.busy": "2022-02-22T19:42:56.595704Z",
     "iopub.status.idle": "2022-02-22T19:42:56.601095Z",
     "shell.execute_reply": "2022-02-22T19:42:56.599439Z",
     "shell.execute_reply.started": "2022-02-22T19:42:56.595929Z"
    },
    "tags": []
   },
   "outputs": [],
   "source": [
    "import re"
   ]
  },
  {
   "cell_type": "code",
   "execution_count": 16,
   "metadata": {
    "execution": {
     "iopub.execute_input": "2022-02-22T19:42:56.786834Z",
     "iopub.status.busy": "2022-02-22T19:42:56.786551Z",
     "iopub.status.idle": "2022-02-22T19:42:56.799158Z",
     "shell.execute_reply": "2022-02-22T19:42:56.798009Z",
     "shell.execute_reply.started": "2022-02-22T19:42:56.786808Z"
    },
    "tags": []
   },
   "outputs": [],
   "source": [
    "## read the dev_flags.txt to determine where to save\n",
    "with open(cwd+'/dev_flags.txt','r') as f:\n",
    "    raw_flags = f.read()\n",
    "flag_pattern = re.compile(r'= \\w+')\n",
    "flags1 = re.findall(flag_pattern,raw_flags)    \n",
    "flags_result = [i[2:] for i in flags1]\n",
    "dev_flag = flags_result[0]\n",
    "prod_flag = flags_result[1]"
   ]
  },
  {
   "cell_type": "code",
   "execution_count": 17,
   "metadata": {
    "execution": {
     "iopub.execute_input": "2022-02-22T19:42:56.962832Z",
     "iopub.status.busy": "2022-02-22T19:42:56.962555Z",
     "iopub.status.idle": "2022-02-22T19:43:00.729886Z",
     "shell.execute_reply": "2022-02-22T19:43:00.728938Z",
     "shell.execute_reply.started": "2022-02-22T19:42:56.962806Z"
    },
    "tags": []
   },
   "outputs": [
    {
     "name": "stdout",
     "output_type": "stream",
     "text": [
      "[WARNING] [warnings - py.warnings]: /tmp/ipykernel_8968/3899512028.py:23: UserWarning: 'set_params()' not defined for locator of type <class 'matplotlib.dates.AutoDateLocator'>\n",
      "  plt.locator_params(axis=\"x\", nbins=40)\n",
      " [warnings._showwarnmsg:109]\n",
      "[WARNING] [backend_ps - matplotlib.backends.backend_ps]: The PostScript backend does not support transparency; partially transparent artists will be rendered opaque. [backend_ps._is_transparent:303]\n"
     ]
    },
    {
     "data": {
      "image/png": "[encoded data removed]",
      "text/plain": [
       "<Figure size 648x432 with 1 Axes>"
      ]
     },
     "metadata": {},
     "output_type": "display_data"
    }
   ],
   "source": [
    "import seaborn as sns\n",
    "import matplotlib.pyplot as plt\n",
    "sns.set()\n",
    "sns.set_style(\"whitegrid\")\n",
    "\n",
    "end_date = datetime.datetime(2021,1,1)\n",
    "start_date = datetime.datetime(2001,1,1)\n",
    "\n",
    "plt.figure(figsize=(9,6))\n",
    "# user_breakdown_df2 = user_breakdown_df.iloc[:-(12-today.month),:]\n",
    "#user_breakdown_df2 = user_breakdown_df.iloc[:-12-(12-today.month),:]\n",
    "plt.stackplot(user_breakdown_df2.year_month, \\\n",
    "#               user_breakdown_df2[['clustered_track','self_track']].to_numpy().T, \\\n",
    "#              labels=['Classroom', 'Unclassified'], \\\n",
    "#              colors=['green', 'orange']); #Self-study              \n",
    "              user_breakdown_df2[['clustered_x_track', 'clustered_mx_track', 'clustered_m_track', 'researcher_track','self_identified_track','self_track']].to_numpy().T, \\\n",
    "             labels=['Classroom X','Classroom MX','Classroom M','Citing Researchers', 'Self-Identified Researcher','Unclassified'], \\\n",
    "             colors=['lawngreen','green', 'yellowgreen','red', 'fuchsia','orange']); #Self-study\n",
    "\n",
    "plt.legend(loc='upper left')#,fontsize=14);\n",
    "plt.ylabel('12-month Trailing Total')#,fontsize=15)\n",
    "plt.xlim([start_date, end_date])#,fontsize=15)\n",
    "plt.locator_params(axis=\"x\", nbins=40)\n",
    "#plt.xticks( rotation=45, ha='right')\n",
    "# plt.show()\n",
    "\n",
    "if dev_flag == 'True':\n",
    "    plt.savefig(cwd+'/plots_local/300_simusers_class_res_unclass_12months_GK.eps', dpi=300, bbox_inches='tight')\n",
    "    plt.savefig(cwd+'/plots_local/300_simusers_class_res_unclass_12months_GK.pdf', dpi=300, bbox_inches='tight')\n",
    "    plt.savefig(cwd+'/plots_local/300_simusers_class_res_unclass_12months_GK.png', dpi=300, bbox_inches='tight')\n",
    "elif prod_flag == 'True':\n",
    "    plt.savefig(cwd+'/plots_production/300_simusers_class_res_unclass_12months_GK.eps', dpi=300, bbox_inches='tight')\n",
    "    plt.savefig(cwd+'/plots_production/300_simusers_class_res_unclass_12months_GK.pdf', dpi=300, bbox_inches='tight')\n",
    "    plt.savefig(cwd+'/plots_production/300_simusers_class_res_unclass_12months_GK.png', dpi=300, bbox_inches='tight')\n",
    "else:\n",
    "    print('no printing flag is active')"
   ]
  },
  {
   "cell_type": "code",
   "execution_count": 21,
   "metadata": {
    "execution": {
     "iopub.execute_input": "2022-02-22T19:48:38.700257Z",
     "iopub.status.busy": "2022-02-22T19:48:38.699927Z",
     "iopub.status.idle": "2022-02-22T19:48:38.729063Z",
     "shell.execute_reply": "2022-02-22T19:48:38.727616Z",
     "shell.execute_reply.started": "2022-02-22T19:48:38.700229Z"
    },
    "tags": []
   },
   "outputs": [
    {
     "data": {
      "text/plain": [
       "[1033, 1006, 1014, 991, 955]"
      ]
     },
     "metadata": {},
     "output_type": "display_data"
    },
    {
     "data": {
      "text/plain": [
       "[468, 449, 449, 451, 441]"
      ]
     },
     "metadata": {},
     "output_type": "display_data"
    },
    {
     "data": {
      "text/plain": [
       "[565, 557, 565, 540, 514]"
      ]
     },
     "metadata": {},
     "output_type": "display_data"
    }
   ],
   "source": [
    "total = user_breakdown_df2['clustered_track'].to_numpy()+\\\n",
    "        user_breakdown_df2['self_track'].to_numpy() +\\\n",
    "        user_breakdown_df2['researcher_track'].to_numpy()+\\\n",
    "        user_breakdown_df2['self_identified_track'].to_numpy() \n",
    "\n",
    "#print('total ',total)\n",
    "\n",
    "total_research = user_breakdown_df2['researcher_track'].to_numpy()+\\\n",
    "                 user_breakdown_df2['self_identified_track'].to_numpy() \n",
    "\n",
    "#print('total_research ',total_research)\n",
    "user_breakdown_df2['all_researchers'] = np.add(user_breakdown_df2['self_identified_track'], user_breakdown_df2['researcher_track'])\n",
    "#user_breakdown_df2['all_researchers'] = user_breakdown_df2[['researcher_track','self_identified_track']].sum\n",
    "display(user_breakdown_df2['all_researchers'].tolist()[200:205])\n",
    "display(user_breakdown_df2['researcher_track'].tolist()[200:205])\n",
    "display(user_breakdown_df2['self_identified_track'].tolist()[200:205])\n",
    "\n",
    "user_breakdown_df2['clustered_track_per'] = 100*np.divide(user_breakdown_df2['clustered_track'],total)\n",
    "user_breakdown_df2['self_identified_track_per'] = 100*np.divide(user_breakdown_df2['self_identified_track'], total)\n",
    "user_breakdown_df2['researcher_track_per'] = 100*np.divide(user_breakdown_df2['researcher_track'], total)\n",
    "user_breakdown_df2['self_track_per'] = 100*np.divide(user_breakdown_df2['self_track'], total)\n",
    "user_breakdown_df2['all_researchers_per'] = 100*np.divide(user_breakdown_df2['all_researchers'], total)\n",
    "\n"
   ]
  },
  {
   "cell_type": "code",
   "execution_count": 19,
   "metadata": {
    "execution": {
     "iopub.execute_input": "2022-02-22T19:43:00.771874Z",
     "iopub.status.busy": "2022-02-22T19:43:00.771592Z",
     "iopub.status.idle": "2022-02-22T19:43:02.941366Z",
     "shell.execute_reply": "2022-02-22T19:43:02.940488Z",
     "shell.execute_reply.started": "2022-02-22T19:43:00.771848Z"
    },
    "tags": []
   },
   "outputs": [
    {
     "name": "stdout",
     "output_type": "stream",
     "text": [
      "[WARNING] [backend_ps - matplotlib.backends.backend_ps]: The PostScript backend does not support transparency; partially transparent artists will be rendered opaque. [backend_ps._is_transparent:303]\n"
     ]
    },
    {
     "data": {
      "image/png": "[encoded data removed]",
      "text/plain": [
       "<Figure size 648x432 with 1 Axes>"
      ]
     },
     "metadata": {},
     "output_type": "display_data"
    }
   ],
   "source": [
    "plt.figure(figsize=(9,6))\n",
    "plt.plot(user_breakdown_df2.year_month, user_breakdown_df2.clustered_track_per, label='Classroom Total', \\\n",
    "             color='green');\n",
    "plt.plot(user_breakdown_df2.year_month, user_breakdown_df2.all_researchers_per, label='All Researchers', \\\n",
    "             color='firebrick');\n",
    "plt.plot(user_breakdown_df2.year_month, user_breakdown_df2.researcher_track_per, label='Citing Researchers', \\\n",
    "             color='red');\n",
    "plt.plot(user_breakdown_df2.year_month, user_breakdown_df2.self_identified_track_per, label='Self-Identified Researchers', \\\n",
    "             color='magenta');\n",
    "plt.plot(user_breakdown_df2.year_month, user_breakdown_df2.self_track_per, label='Unclassified', \\\n",
    "             color='orange');\n",
    "\n",
    "plt.ylim([0, 100])\n",
    "plt.legend(loc='upper right');\n",
    "plt.ylabel('Percentage (%)');\n",
    "plt.xlim([start_date, end_date])\n",
    "# plt.show()\n",
    "\n",
    "if dev_flag == 'True':\n",
    "    plt.savefig(cwd+'/plots_local/300_simusers_class_res_unclass_12months_percent_copied.eps', dpi=300, bbox_inches='tight')\n",
    "    plt.savefig(cwd+'/plots_local/300_simusers_class_res_unclass_12months_percent_copied.pdf', dpi=300, bbox_inches='tight')\n",
    "    plt.savefig(cwd+'/plots_local/300_simusers_class_res_unclass_12months_percent_copied.png', dpi=300, bbox_inches='tight')\n",
    "elif prod_flag == 'True':\n",
    "    plt.savefig(cwd+'/plots_production/300_simusers_class_res_unclass_12months_percent_copied.eps', dpi=300, bbox_inches='tight')\n",
    "    plt.savefig(cwd+'/plots_production/300_simusers_class_res_unclass_12months_percent_copied.pdf', dpi=300, bbox_inches='tight')\n",
    "    plt.savefig(cwd+'/plots_production/300_simusers_class_res_unclass_12months_percent_copied.png', dpi=300, bbox_inches='tight')\n",
    "else:\n",
    "    print('no printing flag is active')"
   ]
  },
  {
   "cell_type": "code",
   "execution_count": 20,
   "metadata": {
    "execution": {
     "iopub.execute_input": "2022-02-22T19:43:02.946083Z",
     "iopub.status.busy": "2022-02-22T19:43:02.945019Z",
     "iopub.status.idle": "2022-02-22T19:43:02.974696Z",
     "shell.execute_reply": "2022-02-22T19:43:02.973433Z",
     "shell.execute_reply.started": "2022-02-22T19:43:02.946010Z"
    },
    "tags": []
   },
   "outputs": [],
   "source": [
    "user_breakdown_df2.to_csv(pathsave+'nh_user_breakdown.csv')"
   ]
  },
  {
   "cell_type": "code",
   "execution_count": null,
   "metadata": {},
   "outputs": [],
   "source": []
  },
  {
   "cell_type": "code",
   "execution_count": null,
   "metadata": {},
   "outputs": [],
   "source": []
  },
  {
   "cell_type": "code",
   "execution_count": null,
   "metadata": {},
   "outputs": [],
   "source": []
  }
 ],
 "metadata": {
  "kernelspec": {
   "display_name": "Python 3 (ipykernel)",
   "language": "python",
   "name": "python3"
  },
  "language_info": {
   "codemirror_mode": {
    "name": "ipython",
    "version": 3
   },
   "file_extension": ".py",
   "mimetype": "text/x-python",
   "name": "python",
   "nbconvert_exporter": "python",
   "pygments_lexer": "ipython3",
   "version": "3.8.10"
  }
 },
 "nbformat": 4,
 "nbformat_minor": 4
}
