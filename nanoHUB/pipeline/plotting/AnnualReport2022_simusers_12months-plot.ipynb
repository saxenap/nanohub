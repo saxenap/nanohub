{
 "cells": [
  {
   "cell_type": "code",
   "execution_count": 54,
   "metadata": {
    "execution": {
     "iopub.execute_input": "2022-02-25T17:08:59.142978Z",
     "iopub.status.busy": "2022-02-25T17:08:59.142516Z",
     "iopub.status.idle": "2022-02-25T17:08:59.149088Z",
     "shell.execute_reply": "2022-02-25T17:08:59.147821Z",
     "shell.execute_reply.started": "2022-02-25T17:08:59.142946Z"
    },
    "tags": []
   },
   "outputs": [],
   "source": [
    "## build researcher events, student events, and self-study events\n",
    "## researcher are simply those with NH citations"
   ]
  },
  {
   "cell_type": "code",
   "execution_count": 55,
   "metadata": {
    "execution": {
     "iopub.execute_input": "2022-02-25T17:08:59.596731Z",
     "iopub.status.busy": "2022-02-25T17:08:59.596439Z",
     "iopub.status.idle": "2022-02-25T17:08:59.604879Z",
     "shell.execute_reply": "2022-02-25T17:08:59.602515Z",
     "shell.execute_reply.started": "2022-02-25T17:08:59.596704Z"
    },
    "tags": []
   },
   "outputs": [],
   "source": [
    "import sys\n",
    "\n",
    "import pandas as pd\n",
    "import numpy as np\n",
    "import time\n",
    "import datetime\n",
    "import os\n",
    "from nanoHUB.application import Application\n",
    "from nanoHUB.configuration import ClusteringConfiguration\n",
    "from nanoHUB.pipeline.geddes.data import get_default_s3_client\n",
    "from nanoHUB.dataaccess.lake import S3FileMapper\n",
    "\n",
    "from nanoHUB.clustering.infra import get_mike_only_clustered_users, get_xufeng_only_clustered_users, get_mike_xufeng_clustered_users\n",
    "from nanoHUB.clustering.infra import create_clusters_repository, add_cluster_info, get_all_clustered_users, get_all_self_study_users, get_all_self_identified_users"
   ]
  },
  {
   "cell_type": "code",
   "execution_count": 56,
   "metadata": {
    "execution": {
     "iopub.execute_input": "2022-02-25T17:08:59.933388Z",
     "iopub.status.busy": "2022-02-25T17:08:59.933044Z",
     "iopub.status.idle": "2022-02-25T17:08:59.940560Z",
     "shell.execute_reply": "2022-02-25T17:08:59.938830Z",
     "shell.execute_reply.started": "2022-02-25T17:08:59.933354Z"
    },
    "tags": []
   },
   "outputs": [],
   "source": [
    "pd.set_option('display.max_columns', None)\n",
    "cwd = os.getcwd()"
   ]
  },
  {
   "cell_type": "code",
   "execution_count": null,
   "metadata": {
    "tags": []
   },
   "outputs": [],
   "source": [
    "\n"
   ]
  },
  {
   "cell_type": "code",
   "execution_count": 57,
   "metadata": {
    "execution": {
     "iopub.execute_input": "2022-02-25T17:09:00.500443Z",
     "iopub.status.busy": "2022-02-25T17:09:00.500171Z",
     "iopub.status.idle": "2022-02-25T17:09:00.507139Z",
     "shell.execute_reply": "2022-02-25T17:09:00.505756Z",
     "shell.execute_reply.started": "2022-02-25T17:09:00.500418Z"
    },
    "tags": []
   },
   "outputs": [],
   "source": [
    "## determine starting year\n",
    "#if cache_flag == False:\n",
    "start_year_base = 1999 #2000\n",
    "#start_year_base = 2019 #2000\n",
    "pathsave=cwd+'/cached_data/'\n",
    "pathsave=cwd+'/test_data/'\n",
    "pathsave=cwd+'/AnnualReport2022_data/'\n",
    "\n"
   ]
  },
  {
   "cell_type": "code",
   "execution_count": 58,
   "metadata": {
    "execution": {
     "iopub.execute_input": "2022-02-25T17:09:00.824006Z",
     "iopub.status.busy": "2022-02-25T17:09:00.823681Z",
     "iopub.status.idle": "2022-02-25T17:09:01.096780Z",
     "shell.execute_reply": "2022-02-25T17:09:01.095646Z",
     "shell.execute_reply.started": "2022-02-25T17:09:00.823981Z"
    },
    "tags": []
   },
   "outputs": [],
   "source": [
    "application = Application.get_instance()\n",
    "nanohub_db = application.new_db_engine('nanohub')\n",
    "nanohub_metrics_db = application.new_db_engine('nanohub_metrics')\n",
    "wang159_myrmekes_db = application.new_db_engine('rfm_data')\n",
    "\n",
    "s3_client = get_default_s3_client(application)\n",
    "derived_data_file_path = 'derived_data_for_users.csv'\n",
    "processed_mapper = S3FileMapper(s3_client, ClusteringConfiguration().bucket_name_processed)"
   ]
  },
  {
   "cell_type": "markdown",
   "metadata": {
    "tags": []
   },
   "source": [
    "## Plot Cumulative classroom/research/self-study  - from pre-processed data"
   ]
  },
  {
   "cell_type": "code",
   "execution_count": 59,
   "metadata": {
    "execution": {
     "iopub.execute_input": "2022-02-25T17:09:01.500403Z",
     "iopub.status.busy": "2022-02-25T17:09:01.500096Z",
     "iopub.status.idle": "2022-02-25T17:09:01.506939Z",
     "shell.execute_reply": "2022-02-25T17:09:01.504969Z",
     "shell.execute_reply.started": "2022-02-25T17:09:01.500376Z"
    },
    "tags": []
   },
   "outputs": [
    {
     "name": "stdout",
     "output_type": "stream",
     "text": [
      "2022-02-25 17:09:01.501482\n"
     ]
    }
   ],
   "source": [
    "today = datetime.datetime.today()\n",
    "print(today)"
   ]
  },
  {
   "cell_type": "code",
   "execution_count": 60,
   "metadata": {
    "execution": {
     "iopub.execute_input": "2022-02-25T17:09:01.794948Z",
     "iopub.status.busy": "2022-02-25T17:09:01.794631Z",
     "iopub.status.idle": "2022-02-25T17:09:01.801414Z",
     "shell.execute_reply": "2022-02-25T17:09:01.800114Z",
     "shell.execute_reply.started": "2022-02-25T17:09:01.794923Z"
    },
    "tags": []
   },
   "outputs": [],
   "source": [
    "## determine starting year\n",
    "#if cache_flag == False:\n",
    "start_year_base = 1999 #2000\n",
    "#else:\n",
    "#     print('check the saved file')\n",
    "#    start_year_base = int(user_breakdown_df['year_month'].to_list()[-1][:4])\n",
    "    \n",
    "    "
   ]
  },
  {
   "cell_type": "code",
   "execution_count": 61,
   "metadata": {
    "execution": {
     "iopub.execute_input": "2022-02-25T17:09:02.203786Z",
     "iopub.status.busy": "2022-02-25T17:09:02.203346Z",
     "iopub.status.idle": "2022-02-25T17:09:02.211794Z",
     "shell.execute_reply": "2022-02-25T17:09:02.209327Z",
     "shell.execute_reply.started": "2022-02-25T17:09:02.203721Z"
    },
    "tags": []
   },
   "outputs": [],
   "source": [
    "from copy import deepcopy"
   ]
  },
  {
   "cell_type": "code",
   "execution_count": 62,
   "metadata": {
    "execution": {
     "iopub.execute_input": "2022-02-25T17:09:02.545634Z",
     "iopub.status.busy": "2022-02-25T17:09:02.545380Z",
     "iopub.status.idle": "2022-02-25T17:09:02.580908Z",
     "shell.execute_reply": "2022-02-25T17:09:02.579350Z",
     "shell.execute_reply.started": "2022-02-25T17:09:02.545609Z"
    },
    "tags": []
   },
   "outputs": [
    {
     "name": "stdout",
     "output_type": "stream",
     "text": [
      "allmonths partial list [datetime.datetime(2000, 1, 1, 0, 0), datetime.datetime(2000, 2, 1, 0, 0), datetime.datetime(2000, 3, 1, 0, 0), datetime.datetime(2000, 4, 1, 0, 0), datetime.datetime(2000, 5, 1, 0, 0), datetime.datetime(2000, 6, 1, 0, 0), datetime.datetime(2000, 7, 1, 0, 0), datetime.datetime(2000, 8, 1, 0, 0), datetime.datetime(2000, 9, 1, 0, 0), datetime.datetime(2000, 10, 1, 0, 0), datetime.datetime(2000, 11, 1, 0, 0), datetime.datetime(2000, 12, 1, 0, 0), datetime.datetime(2001, 1, 1, 0, 0), datetime.datetime(2001, 2, 1, 0, 0), datetime.datetime(2001, 3, 1, 0, 0), datetime.datetime(2001, 4, 1, 0, 0), datetime.datetime(2001, 5, 1, 0, 0), datetime.datetime(2001, 6, 1, 0, 0), datetime.datetime(2001, 7, 1, 0, 0), datetime.datetime(2001, 8, 1, 0, 0), datetime.datetime(2001, 9, 1, 0, 0), datetime.datetime(2001, 10, 1, 0, 0), datetime.datetime(2001, 11, 1, 0, 0), datetime.datetime(2001, 12, 1, 0, 0), datetime.datetime(2002, 1, 1, 0, 0), datetime.datetime(2002, 2, 1, 0, 0), datetime.datetime(2002, 3, 1, 0, 0), datetime.datetime(2002, 4, 1, 0, 0), datetime.datetime(2002, 5, 1, 0, 0), datetime.datetime(2002, 6, 1, 0, 0), datetime.datetime(2002, 7, 1, 0, 0), datetime.datetime(2002, 8, 1, 0, 0), datetime.datetime(2002, 9, 1, 0, 0), datetime.datetime(2002, 10, 1, 0, 0), datetime.datetime(2002, 11, 1, 0, 0), datetime.datetime(2002, 12, 1, 0, 0)]\n"
     ]
    }
   ],
   "source": [
    "cache_flag = False\n",
    "all_months_list = list()\n",
    "for this_year in range(start_year_base+1,today.year+2):\n",
    "    if cache_flag == True:\n",
    "        for this_month in range(1,today.month+1):\n",
    "            all_months_list.append(datetime.datetime(this_year, this_month, 1))\n",
    "    else:\n",
    "        for this_month in range(1,12+1):\n",
    "            all_months_list.append(datetime.datetime(this_year, this_month, 1))\n",
    "\n",
    "cache_all_month_list = pd.DataFrame()\n",
    "cache_all_month_list['Date'] = all_months_list\n",
    "cache_all_month_list.to_csv(cwd+'/cached_data/all_months_list.csv')\n",
    "cache_all_month_list.to_csv(cwd+'/cached_data/'+ str(start_year_base)+'_all_months_list.csv')\n",
    "cache_all_month_list = []\n",
    "print('allmonths partial list',all_months_list[0:36])\n"
   ]
  },
  {
   "cell_type": "code",
   "execution_count": null,
   "metadata": {},
   "outputs": [],
   "source": []
  },
  {
   "cell_type": "code",
   "execution_count": 63,
   "metadata": {
    "execution": {
     "iopub.execute_input": "2022-02-25T17:09:03.543035Z",
     "iopub.status.busy": "2022-02-25T17:09:03.542709Z",
     "iopub.status.idle": "2022-02-25T17:09:03.548674Z",
     "shell.execute_reply": "2022-02-25T17:09:03.547499Z",
     "shell.execute_reply.started": "2022-02-25T17:09:03.543010Z"
    },
    "tags": []
   },
   "outputs": [],
   "source": [
    "# clustered_NH_username2;researcher_NH_username2;self_NH_username2\n",
    "clustered_track = []\n",
    "clustered_m_track = []\n",
    "clustered_x_track = []\n",
    "clustered_mx_track = []\n",
    "self2_track = []\n",
    "\n",
    "# clustered_track_per = []\n",
    "# self_track_per = []\n",
    "# researcher_track_per = []"
   ]
  },
  {
   "cell_type": "code",
   "execution_count": 64,
   "metadata": {
    "execution": {
     "iopub.execute_input": "2022-02-25T17:09:04.013613Z",
     "iopub.status.busy": "2022-02-25T17:09:04.013193Z",
     "iopub.status.idle": "2022-02-25T17:09:04.064374Z",
     "shell.execute_reply": "2022-02-25T17:09:04.062691Z",
     "shell.execute_reply.started": "2022-02-25T17:09:04.013528Z"
    },
    "tags": []
   },
   "outputs": [
    {
     "name": "stdout",
     "output_type": "stream",
     "text": [
      "len(self_identified_track) 288\n",
      "len(researcher_track) 288\n",
      "len(self2_track) 288\n",
      "len(simtotal_track) 288\n",
      "len(clustered_track) 288\n",
      "len(clustered_m_track) 288\n",
      "len(clustered_x_track) 288\n",
      "clustered_mx_track[0:30] [0, 0, 3, 4, 7, 7, 7, 7, 7, 8, 8, 8, 8, 9, 9, 9, 5, 5, 4, 3, 3, 4, 4, 4, 4, 4, 4, 4, 5, 5]\n",
      "len(clustered_mx_track) 288\n"
     ]
    }
   ],
   "source": [
    "\n",
    "self_identified_track_df = pd.read_csv(pathsave+'selfidentifiedauthors_track.csv',usecols=['track'])\n",
    "self_identified_track = self_identified_track_df['track'].tolist()\n",
    "#print('self_identified_track[0:30]',self_identified_track[0:30])\n",
    "print('len(self_identified_track)',len(self_identified_track))\n",
    "\n",
    "researcher_track_df = pd.read_csv(pathsave+'citingauthor_track.csv',usecols=['track'])\n",
    "researcher_track = researcher_track_df['track'].tolist()\n",
    "#print('researcher_track[0:30]',researcher_track[0:30])\n",
    "print('len(researcher_track)',len(researcher_track))\n",
    "\n",
    "self2_track_df = pd.read_csv(pathsave+'unclassified_track.csv',usecols=['track'])\n",
    "self2_track = self2_track_df['track'].tolist()\n",
    "#print('self2_track[0:30]',self2_track[0:30])\n",
    "print('len(self2_track)',len(self2_track))\n",
    "\n",
    "simtotal_track_df = pd.read_csv(pathsave+'simtotal_track.csv',usecols=['track'])\n",
    "simtotal_track = simtotal_track_df['track'].tolist()\n",
    "#print('simtotal_track[0:30]',simtotal_track[0:30])\n",
    "print('len(simtotal_track)',len(simtotal_track))\n",
    "\n",
    "clustered_track_df = pd.read_csv(pathsave+'clustered_all_track.csv',usecols=['track'])\n",
    "clustered_track = clustered_track_df['track'].tolist()\n",
    "#print('clustered_track[0:30]',clustered_track[0:30])\n",
    "print('len(clustered_track)',len(clustered_track))\n",
    "\n",
    "clustered_m_track_df = pd.read_csv(pathsave+'clustered_m_track.csv',usecols=['track'])\n",
    "clustered_m_track = clustered_m_track_df['track'].tolist()\n",
    "#print('clustered_m_track[0:30]',clustered_m_track[0:30])\n",
    "print('len(clustered_m_track)',len(clustered_m_track))\n",
    "\n",
    "clustered_x_track_df = pd.read_csv(pathsave+'clustered_x_track.csv',usecols=['track'])\n",
    "clustered_x_track = clustered_x_track_df['track'].tolist()\n",
    "#print('clustered_x_track[0:30]',clustered_x_track[0:30])\n",
    "print('len(clustered_x_track)',len(clustered_x_track))\n",
    "\n",
    "clustered_mx_track_df = pd.read_csv(pathsave+'clustered_mx_track.csv',usecols=['track'])\n",
    "clustered_mx_track = clustered_mx_track_df['track'].tolist()\n",
    "print('clustered_mx_track[0:30]',clustered_mx_track[0:30])\n",
    "print('len(clustered_mx_track)',len(clustered_mx_track))\n",
    "\n",
    "\n",
    "\n"
   ]
  },
  {
   "cell_type": "code",
   "execution_count": 65,
   "metadata": {
    "execution": {
     "iopub.execute_input": "2022-02-25T17:09:04.587540Z",
     "iopub.status.busy": "2022-02-25T17:09:04.587287Z",
     "iopub.status.idle": "2022-02-25T17:09:04.595273Z",
     "shell.execute_reply": "2022-02-25T17:09:04.593455Z",
     "shell.execute_reply.started": "2022-02-25T17:09:04.587514Z"
    },
    "tags": []
   },
   "outputs": [],
   "source": [
    "#just for testing until all data is assembled, let's trim the lists to a smaller value \n",
    "if (0):\n",
    "    listlength=288\n",
    "    self_identified_track=self_identified_track[:listlength]\n",
    "    researcher_track=researcher_track[:listlength]\n",
    "    self2_track=self2_track[:listlength]\n",
    "    simtotal_track=simtotal_track[:listlength]\n",
    "    clustered_track=clustered_track[:listlength]\n",
    "    clustered_m_track=clustered_m_track[:listlength]\n",
    "    clustered_x_track=clustered_x_track[:listlength]\n",
    "    clustered_mx_track=clustered_mx_track[:listlength]\n",
    "    all_months_list=all_months_list[:listlength]\n",
    "\n",
    "    print('simtotal_track ',simtotal_track[0:100])"
   ]
  },
  {
   "cell_type": "code",
   "execution_count": 66,
   "metadata": {
    "execution": {
     "iopub.execute_input": "2022-02-25T17:09:05.344206Z",
     "iopub.status.busy": "2022-02-25T17:09:05.343893Z",
     "iopub.status.idle": "2022-02-25T17:09:05.376273Z",
     "shell.execute_reply": "2022-02-25T17:09:05.375714Z",
     "shell.execute_reply.started": "2022-02-25T17:09:05.344179Z"
    },
    "tags": []
   },
   "outputs": [
    {
     "data": {
      "text/html": [
       "<div>\n",
       "<style scoped>\n",
       "    .dataframe tbody tr th:only-of-type {\n",
       "        vertical-align: middle;\n",
       "    }\n",
       "\n",
       "    .dataframe tbody tr th {\n",
       "        vertical-align: top;\n",
       "    }\n",
       "\n",
       "    .dataframe thead th {\n",
       "        text-align: right;\n",
       "    }\n",
       "</style>\n",
       "<table border=\"1\" class=\"dataframe\">\n",
       "  <thead>\n",
       "    <tr style=\"text-align: right;\">\n",
       "      <th></th>\n",
       "      <th>year_month</th>\n",
       "      <th>simtotal_track</th>\n",
       "      <th>clustered_track</th>\n",
       "      <th>clustered_m_track</th>\n",
       "      <th>clustered_x_track</th>\n",
       "      <th>clustered_mx_track</th>\n",
       "      <th>self_identified_track</th>\n",
       "      <th>self_track</th>\n",
       "      <th>researcher_track</th>\n",
       "    </tr>\n",
       "  </thead>\n",
       "  <tbody>\n",
       "    <tr>\n",
       "      <th>245</th>\n",
       "      <td>2020-06-01</td>\n",
       "      <td>18108</td>\n",
       "      <td>10135</td>\n",
       "      <td>2661</td>\n",
       "      <td>2006</td>\n",
       "      <td>5468</td>\n",
       "      <td>197</td>\n",
       "      <td>7746</td>\n",
       "      <td>324</td>\n",
       "    </tr>\n",
       "    <tr>\n",
       "      <th>246</th>\n",
       "      <td>2020-07-01</td>\n",
       "      <td>18810</td>\n",
       "      <td>10447</td>\n",
       "      <td>2908</td>\n",
       "      <td>1996</td>\n",
       "      <td>5543</td>\n",
       "      <td>199</td>\n",
       "      <td>8127</td>\n",
       "      <td>330</td>\n",
       "    </tr>\n",
       "    <tr>\n",
       "      <th>247</th>\n",
       "      <td>2020-08-01</td>\n",
       "      <td>18883</td>\n",
       "      <td>10348</td>\n",
       "      <td>2952</td>\n",
       "      <td>1947</td>\n",
       "      <td>5449</td>\n",
       "      <td>212</td>\n",
       "      <td>8289</td>\n",
       "      <td>325</td>\n",
       "    </tr>\n",
       "    <tr>\n",
       "      <th>248</th>\n",
       "      <td>2020-09-01</td>\n",
       "      <td>19534</td>\n",
       "      <td>10794</td>\n",
       "      <td>3098</td>\n",
       "      <td>2106</td>\n",
       "      <td>5590</td>\n",
       "      <td>207</td>\n",
       "      <td>8497</td>\n",
       "      <td>324</td>\n",
       "    </tr>\n",
       "    <tr>\n",
       "      <th>249</th>\n",
       "      <td>2020-10-01</td>\n",
       "      <td>20199</td>\n",
       "      <td>11206</td>\n",
       "      <td>3283</td>\n",
       "      <td>2202</td>\n",
       "      <td>5721</td>\n",
       "      <td>210</td>\n",
       "      <td>8745</td>\n",
       "      <td>326</td>\n",
       "    </tr>\n",
       "    <tr>\n",
       "      <th>250</th>\n",
       "      <td>2020-11-01</td>\n",
       "      <td>21079</td>\n",
       "      <td>11830</td>\n",
       "      <td>3479</td>\n",
       "      <td>2342</td>\n",
       "      <td>6009</td>\n",
       "      <td>210</td>\n",
       "      <td>8998</td>\n",
       "      <td>331</td>\n",
       "    </tr>\n",
       "    <tr>\n",
       "      <th>251</th>\n",
       "      <td>2020-12-01</td>\n",
       "      <td>21718</td>\n",
       "      <td>12252</td>\n",
       "      <td>3688</td>\n",
       "      <td>2340</td>\n",
       "      <td>6224</td>\n",
       "      <td>212</td>\n",
       "      <td>9219</td>\n",
       "      <td>324</td>\n",
       "    </tr>\n",
       "    <tr>\n",
       "      <th>252</th>\n",
       "      <td>2021-01-01</td>\n",
       "      <td>21878</td>\n",
       "      <td>12285</td>\n",
       "      <td>3847</td>\n",
       "      <td>2242</td>\n",
       "      <td>6196</td>\n",
       "      <td>217</td>\n",
       "      <td>9347</td>\n",
       "      <td>313</td>\n",
       "    </tr>\n",
       "    <tr>\n",
       "      <th>253</th>\n",
       "      <td>2021-02-01</td>\n",
       "      <td>22735</td>\n",
       "      <td>12753</td>\n",
       "      <td>4024</td>\n",
       "      <td>2390</td>\n",
       "      <td>6339</td>\n",
       "      <td>221</td>\n",
       "      <td>9730</td>\n",
       "      <td>308</td>\n",
       "    </tr>\n",
       "    <tr>\n",
       "      <th>254</th>\n",
       "      <td>2021-03-01</td>\n",
       "      <td>23468</td>\n",
       "      <td>13171</td>\n",
       "      <td>4145</td>\n",
       "      <td>2509</td>\n",
       "      <td>6517</td>\n",
       "      <td>225</td>\n",
       "      <td>10050</td>\n",
       "      <td>295</td>\n",
       "    </tr>\n",
       "    <tr>\n",
       "      <th>255</th>\n",
       "      <td>2021-04-01</td>\n",
       "      <td>23758</td>\n",
       "      <td>13255</td>\n",
       "      <td>4149</td>\n",
       "      <td>2546</td>\n",
       "      <td>6560</td>\n",
       "      <td>230</td>\n",
       "      <td>10254</td>\n",
       "      <td>290</td>\n",
       "    </tr>\n",
       "    <tr>\n",
       "      <th>256</th>\n",
       "      <td>2021-05-01</td>\n",
       "      <td>23379</td>\n",
       "      <td>12925</td>\n",
       "      <td>4072</td>\n",
       "      <td>2541</td>\n",
       "      <td>6312</td>\n",
       "      <td>236</td>\n",
       "      <td>10202</td>\n",
       "      <td>279</td>\n",
       "    </tr>\n",
       "    <tr>\n",
       "      <th>257</th>\n",
       "      <td>2021-06-01</td>\n",
       "      <td>23072</td>\n",
       "      <td>12797</td>\n",
       "      <td>3995</td>\n",
       "      <td>2473</td>\n",
       "      <td>6329</td>\n",
       "      <td>268</td>\n",
       "      <td>10003</td>\n",
       "      <td>276</td>\n",
       "    </tr>\n",
       "    <tr>\n",
       "      <th>258</th>\n",
       "      <td>2021-07-01</td>\n",
       "      <td>22587</td>\n",
       "      <td>12540</td>\n",
       "      <td>3963</td>\n",
       "      <td>2407</td>\n",
       "      <td>6170</td>\n",
       "      <td>322</td>\n",
       "      <td>9738</td>\n",
       "      <td>276</td>\n",
       "    </tr>\n",
       "    <tr>\n",
       "      <th>259</th>\n",
       "      <td>2021-08-01</td>\n",
       "      <td>22616</td>\n",
       "      <td>12579</td>\n",
       "      <td>3886</td>\n",
       "      <td>2475</td>\n",
       "      <td>6218</td>\n",
       "      <td>377</td>\n",
       "      <td>9698</td>\n",
       "      <td>273</td>\n",
       "    </tr>\n",
       "    <tr>\n",
       "      <th>260</th>\n",
       "      <td>2021-09-01</td>\n",
       "      <td>23017</td>\n",
       "      <td>12944</td>\n",
       "      <td>3847</td>\n",
       "      <td>2656</td>\n",
       "      <td>6441</td>\n",
       "      <td>414</td>\n",
       "      <td>9712</td>\n",
       "      <td>273</td>\n",
       "    </tr>\n",
       "    <tr>\n",
       "      <th>261</th>\n",
       "      <td>2021-10-01</td>\n",
       "      <td>23463</td>\n",
       "      <td>13359</td>\n",
       "      <td>3807</td>\n",
       "      <td>2883</td>\n",
       "      <td>6669</td>\n",
       "      <td>447</td>\n",
       "      <td>9722</td>\n",
       "      <td>269</td>\n",
       "    </tr>\n",
       "    <tr>\n",
       "      <th>262</th>\n",
       "      <td>2021-11-01</td>\n",
       "      <td>23017</td>\n",
       "      <td>12952</td>\n",
       "      <td>3584</td>\n",
       "      <td>2949</td>\n",
       "      <td>6419</td>\n",
       "      <td>490</td>\n",
       "      <td>9652</td>\n",
       "      <td>253</td>\n",
       "    </tr>\n",
       "    <tr>\n",
       "      <th>263</th>\n",
       "      <td>2021-12-01</td>\n",
       "      <td>23054</td>\n",
       "      <td>13058</td>\n",
       "      <td>3595</td>\n",
       "      <td>2856</td>\n",
       "      <td>6607</td>\n",
       "      <td>542</td>\n",
       "      <td>9559</td>\n",
       "      <td>255</td>\n",
       "    </tr>\n",
       "    <tr>\n",
       "      <th>264</th>\n",
       "      <td>2022-01-01</td>\n",
       "      <td>22300</td>\n",
       "      <td>12573</td>\n",
       "      <td>3604</td>\n",
       "      <td>2578</td>\n",
       "      <td>6391</td>\n",
       "      <td>565</td>\n",
       "      <td>9273</td>\n",
       "      <td>259</td>\n",
       "    </tr>\n",
       "    <tr>\n",
       "      <th>265</th>\n",
       "      <td>2022-02-01</td>\n",
       "      <td>22695</td>\n",
       "      <td>11987</td>\n",
       "      <td>3348</td>\n",
       "      <td>2492</td>\n",
       "      <td>6147</td>\n",
       "      <td>601</td>\n",
       "      <td>10214</td>\n",
       "      <td>255</td>\n",
       "    </tr>\n",
       "  </tbody>\n",
       "</table>\n",
       "</div>"
      ],
      "text/plain": [
       "    year_month  simtotal_track  clustered_track  clustered_m_track  \\\n",
       "245 2020-06-01           18108            10135               2661   \n",
       "246 2020-07-01           18810            10447               2908   \n",
       "247 2020-08-01           18883            10348               2952   \n",
       "248 2020-09-01           19534            10794               3098   \n",
       "249 2020-10-01           20199            11206               3283   \n",
       "250 2020-11-01           21079            11830               3479   \n",
       "251 2020-12-01           21718            12252               3688   \n",
       "252 2021-01-01           21878            12285               3847   \n",
       "253 2021-02-01           22735            12753               4024   \n",
       "254 2021-03-01           23468            13171               4145   \n",
       "255 2021-04-01           23758            13255               4149   \n",
       "256 2021-05-01           23379            12925               4072   \n",
       "257 2021-06-01           23072            12797               3995   \n",
       "258 2021-07-01           22587            12540               3963   \n",
       "259 2021-08-01           22616            12579               3886   \n",
       "260 2021-09-01           23017            12944               3847   \n",
       "261 2021-10-01           23463            13359               3807   \n",
       "262 2021-11-01           23017            12952               3584   \n",
       "263 2021-12-01           23054            13058               3595   \n",
       "264 2022-01-01           22300            12573               3604   \n",
       "265 2022-02-01           22695            11987               3348   \n",
       "\n",
       "     clustered_x_track  clustered_mx_track  self_identified_track  self_track  \\\n",
       "245               2006                5468                    197        7746   \n",
       "246               1996                5543                    199        8127   \n",
       "247               1947                5449                    212        8289   \n",
       "248               2106                5590                    207        8497   \n",
       "249               2202                5721                    210        8745   \n",
       "250               2342                6009                    210        8998   \n",
       "251               2340                6224                    212        9219   \n",
       "252               2242                6196                    217        9347   \n",
       "253               2390                6339                    221        9730   \n",
       "254               2509                6517                    225       10050   \n",
       "255               2546                6560                    230       10254   \n",
       "256               2541                6312                    236       10202   \n",
       "257               2473                6329                    268       10003   \n",
       "258               2407                6170                    322        9738   \n",
       "259               2475                6218                    377        9698   \n",
       "260               2656                6441                    414        9712   \n",
       "261               2883                6669                    447        9722   \n",
       "262               2949                6419                    490        9652   \n",
       "263               2856                6607                    542        9559   \n",
       "264               2578                6391                    565        9273   \n",
       "265               2492                6147                    601       10214   \n",
       "\n",
       "     researcher_track  \n",
       "245               324  \n",
       "246               330  \n",
       "247               325  \n",
       "248               324  \n",
       "249               326  \n",
       "250               331  \n",
       "251               324  \n",
       "252               313  \n",
       "253               308  \n",
       "254               295  \n",
       "255               290  \n",
       "256               279  \n",
       "257               276  \n",
       "258               276  \n",
       "259               273  \n",
       "260               273  \n",
       "261               269  \n",
       "262               253  \n",
       "263               255  \n",
       "264               259  \n",
       "265               255  "
      ]
     },
     "metadata": {},
     "output_type": "display_data"
    }
   ],
   "source": [
    "user_breakdown_df2 = pd.DataFrame()\n",
    "user_breakdown_df2['year_month'] = all_months_list\n",
    "user_breakdown_df2['simtotal_track'] = simtotal_track\n",
    "user_breakdown_df2['clustered_track'] = clustered_track\n",
    "user_breakdown_df2['clustered_m_track'] = clustered_m_track\n",
    "user_breakdown_df2['clustered_x_track'] = clustered_x_track\n",
    "user_breakdown_df2['clustered_mx_track'] = clustered_mx_track\n",
    "user_breakdown_df2['self_identified_track'] = self_identified_track\n",
    "user_breakdown_df2['self_track'] = self2_track\n",
    "user_breakdown_df2['researcher_track'] = researcher_track\n",
    "#display(user_breakdown_df2.tail(5))\n",
    "display(user_breakdown_df2[245:266])\n"
   ]
  },
  {
   "cell_type": "code",
   "execution_count": 67,
   "metadata": {
    "execution": {
     "iopub.execute_input": "2022-02-25T17:09:05.915099Z",
     "iopub.status.busy": "2022-02-25T17:09:05.914778Z",
     "iopub.status.idle": "2022-02-25T17:09:05.920344Z",
     "shell.execute_reply": "2022-02-25T17:09:05.919160Z",
     "shell.execute_reply.started": "2022-02-25T17:09:05.915072Z"
    },
    "tags": []
   },
   "outputs": [],
   "source": [
    "# user_breakdown_df.to_csv(cwd+'/cached_data/temp.csv')"
   ]
  },
  {
   "cell_type": "code",
   "execution_count": 68,
   "metadata": {
    "execution": {
     "iopub.execute_input": "2022-02-25T17:09:06.657379Z",
     "iopub.status.busy": "2022-02-25T17:09:06.657093Z",
     "iopub.status.idle": "2022-02-25T17:09:06.663081Z",
     "shell.execute_reply": "2022-02-25T17:09:06.661855Z",
     "shell.execute_reply.started": "2022-02-25T17:09:06.657353Z"
    },
    "tags": []
   },
   "outputs": [],
   "source": [
    "import re"
   ]
  },
  {
   "cell_type": "code",
   "execution_count": 69,
   "metadata": {
    "execution": {
     "iopub.execute_input": "2022-02-25T17:09:07.313155Z",
     "iopub.status.busy": "2022-02-25T17:09:07.312853Z",
     "iopub.status.idle": "2022-02-25T17:09:07.322160Z",
     "shell.execute_reply": "2022-02-25T17:09:07.320972Z",
     "shell.execute_reply.started": "2022-02-25T17:09:07.313126Z"
    },
    "tags": []
   },
   "outputs": [],
   "source": [
    "## read the dev_flags.txt to determine where to save\n",
    "with open(cwd+'/dev_flags.txt','r') as f:\n",
    "    raw_flags = f.read()\n",
    "flag_pattern = re.compile(r'= \\w+')\n",
    "flags1 = re.findall(flag_pattern,raw_flags)    \n",
    "flags_result = [i[2:] for i in flags1]\n",
    "dev_flag = flags_result[0]\n",
    "prod_flag = flags_result[1]"
   ]
  },
  {
   "cell_type": "code",
   "execution_count": 70,
   "metadata": {
    "execution": {
     "iopub.execute_input": "2022-02-25T17:09:08.007048Z",
     "iopub.status.busy": "2022-02-25T17:09:08.006757Z",
     "iopub.status.idle": "2022-02-25T17:09:09.760927Z",
     "shell.execute_reply": "2022-02-25T17:09:09.759446Z",
     "shell.execute_reply.started": "2022-02-25T17:09:08.007022Z"
    },
    "tags": []
   },
   "outputs": [
    {
     "name": "stdout",
     "output_type": "stream",
     "text": [
      "[WARNING] [warnings - py.warnings]: /tmp/ipykernel_4774/465986720.py:23: UserWarning: 'set_params()' not defined for locator of type <class 'matplotlib.dates.AutoDateLocator'>\n",
      "  plt.locator_params(axis=\"x\", nbins=40)\n",
      " [warnings._showwarnmsg:109]\n",
      "[WARNING] [backend_ps - matplotlib.backends.backend_ps]: The PostScript backend does not support transparency; partially transparent artists will be rendered opaque. [backend_ps._is_transparent:303]\n"
     ]
    },
    {
     "data": {
      "image/png": "[encoded data removed]",
      "text/plain": [
       "<Figure size 648x432 with 1 Axes>"
      ]
     },
     "metadata": {},
     "output_type": "display_data"
    }
   ],
   "source": [
    "import seaborn as sns\n",
    "import matplotlib.pyplot as plt\n",
    "sns.set()\n",
    "sns.set_style(\"whitegrid\")\n",
    "\n",
    "end_date = datetime.datetime(2022,1,1)\n",
    "start_date = datetime.datetime(2001,1,1)\n",
    "\n",
    "plt.figure(figsize=(9,6))\n",
    "# user_breakdown_df2 = user_breakdown_df.iloc[:-(12-today.month),:]\n",
    "#user_breakdown_df2 = user_breakdown_df.iloc[:-12-(12-today.month),:]\n",
    "plt.stackplot(user_breakdown_df2.year_month, \\\n",
    "#               user_breakdown_df2[['clustered_track','self_track']].to_numpy().T, \\\n",
    "#              labels=['Classroom', 'Unclassified'], \\\n",
    "#              colors=['green', 'orange']); #Self-study              \n",
    "              user_breakdown_df2[['clustered_x_track', 'clustered_mx_track', 'clustered_m_track', 'researcher_track','self_identified_track','self_track']].to_numpy().T, \\\n",
    "             labels=['Classroom X','Classroom MX','Classroom M','Citing Researchers', 'Self-Identified Researcher','Unclassified'], \\\n",
    "             colors=['lawngreen','green', 'yellowgreen','red', 'fuchsia','orange']); #Self-study\n",
    "\n",
    "plt.legend(loc='upper left')#,fontsize=14);\n",
    "plt.ylabel('12-month Trailing Total')#,fontsize=15)\n",
    "plt.xlim([start_date, end_date])#,fontsize=15)\n",
    "plt.locator_params(axis=\"x\", nbins=40)\n",
    "#plt.xticks( rotation=45, ha='right')\n",
    "# plt.show()\n",
    "\n",
    "if dev_flag == 'True':\n",
    "    plt.savefig(cwd+'/plots_local/300_simusers_class_res_unclass_12months_GK.eps', dpi=300, bbox_inches='tight')\n",
    "    plt.savefig(cwd+'/plots_local/300_simusers_class_res_unclass_12months_GK.pdf', dpi=300, bbox_inches='tight')\n",
    "    plt.savefig(cwd+'/plots_local/300_simusers_class_res_unclass_12months_GK.png', dpi=300, bbox_inches='tight')\n",
    "elif prod_flag == 'True':\n",
    "    plt.savefig(cwd+'/plots_production/300_simusers_class_res_unclass_12months_GK.eps', dpi=300, bbox_inches='tight')\n",
    "    plt.savefig(cwd+'/plots_production/300_simusers_class_res_unclass_12months_GK.pdf', dpi=300, bbox_inches='tight')\n",
    "    plt.savefig(cwd+'/plots_production/300_simusers_class_res_unclass_12months_GK.png', dpi=300, bbox_inches='tight')\n",
    "else:\n",
    "    print('no printing flag is active')"
   ]
  },
  {
   "cell_type": "code",
   "execution_count": 71,
   "metadata": {
    "execution": {
     "iopub.execute_input": "2022-02-25T17:09:09.762867Z",
     "iopub.status.busy": "2022-02-25T17:09:09.762570Z",
     "iopub.status.idle": "2022-02-25T17:09:09.776867Z",
     "shell.execute_reply": "2022-02-25T17:09:09.775269Z",
     "shell.execute_reply.started": "2022-02-25T17:09:09.762834Z"
    },
    "tags": []
   },
   "outputs": [
    {
     "data": {
      "text/html": [
       "<div>\n",
       "<style scoped>\n",
       "    .dataframe tbody tr th:only-of-type {\n",
       "        vertical-align: middle;\n",
       "    }\n",
       "\n",
       "    .dataframe tbody tr th {\n",
       "        vertical-align: top;\n",
       "    }\n",
       "\n",
       "    .dataframe thead th {\n",
       "        text-align: right;\n",
       "    }\n",
       "</style>\n",
       "<table border=\"1\" class=\"dataframe\">\n",
       "  <thead>\n",
       "    <tr style=\"text-align: right;\">\n",
       "      <th></th>\n",
       "      <th>year_month</th>\n",
       "      <th>simtotal_track</th>\n",
       "      <th>clustered_track</th>\n",
       "      <th>clustered_m_track</th>\n",
       "      <th>clustered_x_track</th>\n",
       "      <th>clustered_mx_track</th>\n",
       "      <th>self_identified_track</th>\n",
       "      <th>self_track</th>\n",
       "      <th>researcher_track</th>\n",
       "    </tr>\n",
       "  </thead>\n",
       "  <tbody>\n",
       "    <tr>\n",
       "      <th>255</th>\n",
       "      <td>2021-04-01</td>\n",
       "      <td>23758</td>\n",
       "      <td>13255</td>\n",
       "      <td>4149</td>\n",
       "      <td>2546</td>\n",
       "      <td>6560</td>\n",
       "      <td>230</td>\n",
       "      <td>10254</td>\n",
       "      <td>290</td>\n",
       "    </tr>\n",
       "    <tr>\n",
       "      <th>256</th>\n",
       "      <td>2021-05-01</td>\n",
       "      <td>23379</td>\n",
       "      <td>12925</td>\n",
       "      <td>4072</td>\n",
       "      <td>2541</td>\n",
       "      <td>6312</td>\n",
       "      <td>236</td>\n",
       "      <td>10202</td>\n",
       "      <td>279</td>\n",
       "    </tr>\n",
       "    <tr>\n",
       "      <th>257</th>\n",
       "      <td>2021-06-01</td>\n",
       "      <td>23072</td>\n",
       "      <td>12797</td>\n",
       "      <td>3995</td>\n",
       "      <td>2473</td>\n",
       "      <td>6329</td>\n",
       "      <td>268</td>\n",
       "      <td>10003</td>\n",
       "      <td>276</td>\n",
       "    </tr>\n",
       "    <tr>\n",
       "      <th>258</th>\n",
       "      <td>2021-07-01</td>\n",
       "      <td>22587</td>\n",
       "      <td>12540</td>\n",
       "      <td>3963</td>\n",
       "      <td>2407</td>\n",
       "      <td>6170</td>\n",
       "      <td>322</td>\n",
       "      <td>9738</td>\n",
       "      <td>276</td>\n",
       "    </tr>\n",
       "    <tr>\n",
       "      <th>259</th>\n",
       "      <td>2021-08-01</td>\n",
       "      <td>22616</td>\n",
       "      <td>12579</td>\n",
       "      <td>3886</td>\n",
       "      <td>2475</td>\n",
       "      <td>6218</td>\n",
       "      <td>377</td>\n",
       "      <td>9698</td>\n",
       "      <td>273</td>\n",
       "    </tr>\n",
       "    <tr>\n",
       "      <th>260</th>\n",
       "      <td>2021-09-01</td>\n",
       "      <td>23017</td>\n",
       "      <td>12944</td>\n",
       "      <td>3847</td>\n",
       "      <td>2656</td>\n",
       "      <td>6441</td>\n",
       "      <td>414</td>\n",
       "      <td>9712</td>\n",
       "      <td>273</td>\n",
       "    </tr>\n",
       "    <tr>\n",
       "      <th>261</th>\n",
       "      <td>2021-10-01</td>\n",
       "      <td>23463</td>\n",
       "      <td>13359</td>\n",
       "      <td>3807</td>\n",
       "      <td>2883</td>\n",
       "      <td>6669</td>\n",
       "      <td>447</td>\n",
       "      <td>9722</td>\n",
       "      <td>269</td>\n",
       "    </tr>\n",
       "    <tr>\n",
       "      <th>262</th>\n",
       "      <td>2021-11-01</td>\n",
       "      <td>23017</td>\n",
       "      <td>12952</td>\n",
       "      <td>3584</td>\n",
       "      <td>2949</td>\n",
       "      <td>6419</td>\n",
       "      <td>490</td>\n",
       "      <td>9652</td>\n",
       "      <td>253</td>\n",
       "    </tr>\n",
       "    <tr>\n",
       "      <th>263</th>\n",
       "      <td>2021-12-01</td>\n",
       "      <td>23054</td>\n",
       "      <td>13058</td>\n",
       "      <td>3595</td>\n",
       "      <td>2856</td>\n",
       "      <td>6607</td>\n",
       "      <td>542</td>\n",
       "      <td>9559</td>\n",
       "      <td>255</td>\n",
       "    </tr>\n",
       "    <tr>\n",
       "      <th>264</th>\n",
       "      <td>2022-01-01</td>\n",
       "      <td>22300</td>\n",
       "      <td>12573</td>\n",
       "      <td>3604</td>\n",
       "      <td>2578</td>\n",
       "      <td>6391</td>\n",
       "      <td>565</td>\n",
       "      <td>9273</td>\n",
       "      <td>259</td>\n",
       "    </tr>\n",
       "  </tbody>\n",
       "</table>\n",
       "</div>"
      ],
      "text/plain": [
       "    year_month  simtotal_track  clustered_track  clustered_m_track  \\\n",
       "255 2021-04-01           23758            13255               4149   \n",
       "256 2021-05-01           23379            12925               4072   \n",
       "257 2021-06-01           23072            12797               3995   \n",
       "258 2021-07-01           22587            12540               3963   \n",
       "259 2021-08-01           22616            12579               3886   \n",
       "260 2021-09-01           23017            12944               3847   \n",
       "261 2021-10-01           23463            13359               3807   \n",
       "262 2021-11-01           23017            12952               3584   \n",
       "263 2021-12-01           23054            13058               3595   \n",
       "264 2022-01-01           22300            12573               3604   \n",
       "\n",
       "     clustered_x_track  clustered_mx_track  self_identified_track  self_track  \\\n",
       "255               2546                6560                    230       10254   \n",
       "256               2541                6312                    236       10202   \n",
       "257               2473                6329                    268       10003   \n",
       "258               2407                6170                    322        9738   \n",
       "259               2475                6218                    377        9698   \n",
       "260               2656                6441                    414        9712   \n",
       "261               2883                6669                    447        9722   \n",
       "262               2949                6419                    490        9652   \n",
       "263               2856                6607                    542        9559   \n",
       "264               2578                6391                    565        9273   \n",
       "\n",
       "     researcher_track  \n",
       "255               290  \n",
       "256               279  \n",
       "257               276  \n",
       "258               276  \n",
       "259               273  \n",
       "260               273  \n",
       "261               269  \n",
       "262               253  \n",
       "263               255  \n",
       "264               259  "
      ]
     },
     "metadata": {},
     "output_type": "display_data"
    }
   ],
   "source": [
    "display(user_breakdown_df2[255:265]) "
   ]
  },
  {
   "cell_type": "code",
   "execution_count": 72,
   "metadata": {
    "execution": {
     "iopub.execute_input": "2022-02-25T17:09:11.229293Z",
     "iopub.status.busy": "2022-02-25T17:09:11.229007Z",
     "iopub.status.idle": "2022-02-25T17:09:11.252809Z",
     "shell.execute_reply": "2022-02-25T17:09:11.251982Z",
     "shell.execute_reply.started": "2022-02-25T17:09:11.229266Z"
    },
    "tags": []
   },
   "outputs": [
    {
     "data": {
      "text/plain": [
       "[1033, 1006, 1014, 991, 955]"
      ]
     },
     "metadata": {},
     "output_type": "display_data"
    },
    {
     "data": {
      "text/plain": [
       "[468, 449, 449, 451, 441]"
      ]
     },
     "metadata": {},
     "output_type": "display_data"
    },
    {
     "data": {
      "text/plain": [
       "[565, 557, 565, 540, 514]"
      ]
     },
     "metadata": {},
     "output_type": "display_data"
    }
   ],
   "source": [
    "total = user_breakdown_df2['clustered_track'].to_numpy()+\\\n",
    "        user_breakdown_df2['self_track'].to_numpy() +\\\n",
    "        user_breakdown_df2['researcher_track'].to_numpy()+\\\n",
    "        user_breakdown_df2['self_identified_track'].to_numpy() \n",
    "\n",
    "#print('total ',total)\n",
    "\n",
    "total_research = user_breakdown_df2['researcher_track'].to_numpy()+\\\n",
    "                 user_breakdown_df2['self_identified_track'].to_numpy() \n",
    "\n",
    "#print('total_research ',total_research)\n",
    "user_breakdown_df2['all_researchers'] = np.add(user_breakdown_df2['self_identified_track'], user_breakdown_df2['researcher_track'])\n",
    "#user_breakdown_df2['all_researchers'] = user_breakdown_df2[['researcher_track','self_identified_track']].sum\n",
    "display(user_breakdown_df2['all_researchers'].tolist()[200:205])\n",
    "display(user_breakdown_df2['researcher_track'].tolist()[200:205])\n",
    "display(user_breakdown_df2['self_identified_track'].tolist()[200:205])\n",
    "\n",
    "user_breakdown_df2['clustered_track_per'] = 100*np.divide(user_breakdown_df2['clustered_track'],total)\n",
    "user_breakdown_df2['self_identified_track_per'] = 100*np.divide(user_breakdown_df2['self_identified_track'], total)\n",
    "user_breakdown_df2['researcher_track_per'] = 100*np.divide(user_breakdown_df2['researcher_track'], total)\n",
    "user_breakdown_df2['self_track_per'] = 100*np.divide(user_breakdown_df2['self_track'], total)\n",
    "user_breakdown_df2['all_researchers_per'] = 100*np.divide(user_breakdown_df2['all_researchers'], total)\n",
    "\n",
    "\n"
   ]
  },
  {
   "cell_type": "code",
   "execution_count": 73,
   "metadata": {
    "execution": {
     "iopub.execute_input": "2022-02-25T17:09:12.117875Z",
     "iopub.status.busy": "2022-02-25T17:09:12.116915Z",
     "iopub.status.idle": "2022-02-25T17:09:12.149811Z",
     "shell.execute_reply": "2022-02-25T17:09:12.148921Z",
     "shell.execute_reply.started": "2022-02-25T17:09:12.117845Z"
    },
    "tags": []
   },
   "outputs": [
    {
     "data": {
      "text/html": [
       "<div>\n",
       "<style scoped>\n",
       "    .dataframe tbody tr th:only-of-type {\n",
       "        vertical-align: middle;\n",
       "    }\n",
       "\n",
       "    .dataframe tbody tr th {\n",
       "        vertical-align: top;\n",
       "    }\n",
       "\n",
       "    .dataframe thead th {\n",
       "        text-align: right;\n",
       "    }\n",
       "</style>\n",
       "<table border=\"1\" class=\"dataframe\">\n",
       "  <thead>\n",
       "    <tr style=\"text-align: right;\">\n",
       "      <th></th>\n",
       "      <th>year_month</th>\n",
       "      <th>simtotal_track</th>\n",
       "      <th>clustered_track</th>\n",
       "      <th>clustered_m_track</th>\n",
       "      <th>clustered_x_track</th>\n",
       "      <th>clustered_mx_track</th>\n",
       "      <th>self_identified_track</th>\n",
       "      <th>self_track</th>\n",
       "      <th>researcher_track</th>\n",
       "      <th>all_researchers</th>\n",
       "      <th>clustered_track_per</th>\n",
       "      <th>self_identified_track_per</th>\n",
       "      <th>researcher_track_per</th>\n",
       "      <th>self_track_per</th>\n",
       "      <th>all_researchers_per</th>\n",
       "    </tr>\n",
       "  </thead>\n",
       "  <tbody>\n",
       "    <tr>\n",
       "      <th>264</th>\n",
       "      <td>2022-01-01</td>\n",
       "      <td>22300</td>\n",
       "      <td>12573</td>\n",
       "      <td>3604</td>\n",
       "      <td>2578</td>\n",
       "      <td>6391</td>\n",
       "      <td>565</td>\n",
       "      <td>9273</td>\n",
       "      <td>259</td>\n",
       "      <td>824</td>\n",
       "      <td>55.460962</td>\n",
       "      <td>2.492281</td>\n",
       "      <td>1.142479</td>\n",
       "      <td>40.904279</td>\n",
       "      <td>3.63476</td>\n",
       "    </tr>\n",
       "  </tbody>\n",
       "</table>\n",
       "</div>"
      ],
      "text/plain": [
       "    year_month  simtotal_track  clustered_track  clustered_m_track  \\\n",
       "264 2022-01-01           22300            12573               3604   \n",
       "\n",
       "     clustered_x_track  clustered_mx_track  self_identified_track  self_track  \\\n",
       "264               2578                6391                    565        9273   \n",
       "\n",
       "     researcher_track  all_researchers  clustered_track_per  \\\n",
       "264               259              824            55.460962   \n",
       "\n",
       "     self_identified_track_per  researcher_track_per  self_track_per  \\\n",
       "264                   2.492281              1.142479       40.904279   \n",
       "\n",
       "     all_researchers_per  \n",
       "264              3.63476  "
      ]
     },
     "metadata": {},
     "output_type": "display_data"
    },
    {
     "name": "stdout",
     "output_type": "stream",
     "text": [
      "date  2022-01-01 00:00:00 user_breakdown_df2['simtotal_track'][timeslot] =  22300\n",
      "date  2022-01-01 00:00:00 user_breakdown_df2['clustered_track'][timeslot] =  12573\n",
      "date  2022-01-01 00:00:00 user_breakdown_df2['self_track'][timeslot] =  9273\n",
      "date  2022-01-01 00:00:00 user_breakdown_df2['researcher_track'][timeslot] =  259\n",
      "date  2022-01-01 00:00:00 user_breakdown_df2['self_identified_track'][timeslot] =  565\n",
      "date  2022-01-01 00:00:00 all researchers =  824\n",
      "date  2022-01-01 00:00:00 user_breakdown_df2['clustered_track_per'][timeslot] =  55.46096162329069\n",
      "date  2022-01-01 00:00:00 user_breakdown_df2['self_track_per'][timeslot] =  40.90427878253198\n",
      "date  2022-01-01 00:00:00 user_breakdown_df2['researcher_track_per'][timeslot] =  1.1424790471989414\n",
      "date  2022-01-01 00:00:00 user_breakdown_df2['self_identified_track_per'][timeslot] =  2.4922805469783857\n",
      "date  2022-01-01 00:00:00 user_breakdown_df2['all_researchers_per'][timeslot] =  3.6347595941773267\n"
     ]
    }
   ],
   "source": [
    "display(user_breakdown_df2[264:265])\n",
    "\n",
    "timeslot=264\n",
    "print(\"date \",user_breakdown_df2['year_month'][timeslot], \"user_breakdown_df2['simtotal_track'][timeslot] = \", user_breakdown_df2['simtotal_track'][timeslot])\n",
    "print(\"date \",user_breakdown_df2['year_month'][timeslot], \"user_breakdown_df2['clustered_track'][timeslot] = \", user_breakdown_df2['clustered_track'][timeslot])\n",
    "print(\"date \",user_breakdown_df2['year_month'][timeslot], \"user_breakdown_df2['self_track'][timeslot] = \", user_breakdown_df2['self_track'][timeslot])\n",
    "print(\"date \",user_breakdown_df2['year_month'][timeslot], \"user_breakdown_df2['researcher_track'][timeslot] = \", user_breakdown_df2['researcher_track'][timeslot])\n",
    "print(\"date \",user_breakdown_df2['year_month'][timeslot], \"user_breakdown_df2['self_identified_track'][timeslot] = \", user_breakdown_df2['self_identified_track'][timeslot])\n",
    "print(\"date \",user_breakdown_df2['year_month'][timeslot], \"all researchers = \", user_breakdown_df2['researcher_track'][timeslot]+ user_breakdown_df2['self_identified_track'][timeslot])\n",
    "\n",
    "\n",
    "\n",
    "print(\"date \",user_breakdown_df2['year_month'][timeslot], \"user_breakdown_df2['clustered_track_per'][timeslot] = \", user_breakdown_df2['clustered_track_per'][timeslot])\n",
    "print(\"date \",user_breakdown_df2['year_month'][timeslot], \"user_breakdown_df2['self_track_per'][timeslot] = \", user_breakdown_df2['self_track_per'][timeslot])\n",
    "print(\"date \",user_breakdown_df2['year_month'][timeslot], \"user_breakdown_df2['researcher_track_per'][timeslot] = \", user_breakdown_df2['researcher_track_per'][timeslot])\n",
    "print(\"date \",user_breakdown_df2['year_month'][timeslot], \"user_breakdown_df2['self_identified_track_per'][timeslot] = \", user_breakdown_df2['self_identified_track_per'][timeslot])\n",
    "print(\"date \",user_breakdown_df2['year_month'][timeslot], \"user_breakdown_df2['all_researchers_per'][timeslot] = \", user_breakdown_df2['all_researchers_per'][timeslot])\n",
    "\n",
    "\n"
   ]
  },
  {
   "cell_type": "code",
   "execution_count": 74,
   "metadata": {
    "execution": {
     "iopub.execute_input": "2022-02-25T17:09:16.073834Z",
     "iopub.status.busy": "2022-02-25T17:09:16.072377Z",
     "iopub.status.idle": "2022-02-25T17:09:17.623269Z",
     "shell.execute_reply": "2022-02-25T17:09:17.622123Z",
     "shell.execute_reply.started": "2022-02-25T17:09:16.073775Z"
    },
    "tags": []
   },
   "outputs": [
    {
     "name": "stdout",
     "output_type": "stream",
     "text": [
      "[WARNING] [backend_ps - matplotlib.backends.backend_ps]: The PostScript backend does not support transparency; partially transparent artists will be rendered opaque. [backend_ps._is_transparent:303]\n"
     ]
    },
    {
     "data": {
      "image/png": "[encoded data removed]",
      "text/plain": [
       "<Figure size 648x432 with 1 Axes>"
      ]
     },
     "metadata": {},
     "output_type": "display_data"
    }
   ],
   "source": [
    "plt.figure(figsize=(9,6))\n",
    "plt.plot(user_breakdown_df2.year_month, user_breakdown_df2.clustered_track_per, label='Classroom Total', \\\n",
    "             color='green');\n",
    "plt.plot(user_breakdown_df2.year_month, user_breakdown_df2.all_researchers_per, label='All Researchers', \\\n",
    "             color='firebrick');\n",
    "plt.plot(user_breakdown_df2.year_month, user_breakdown_df2.researcher_track_per, label='Citing Researchers', \\\n",
    "             color='red');\n",
    "plt.plot(user_breakdown_df2.year_month, user_breakdown_df2.self_identified_track_per, label='Self-Identified Researchers', \\\n",
    "             color='magenta');\n",
    "plt.plot(user_breakdown_df2.year_month, user_breakdown_df2.self_track_per, label='Unclassified', \\\n",
    "             color='orange');\n",
    "\n",
    "plt.ylim([0, 100])\n",
    "plt.legend(loc='upper right');\n",
    "plt.ylabel('Percentage (%)');\n",
    "plt.xlim([start_date, end_date])\n",
    "# plt.show()\n",
    "\n",
    "if dev_flag == 'True':\n",
    "    plt.savefig(cwd+'/plots_local/300_simusers_class_res_unclass_12months_percent_copied.eps', dpi=300, bbox_inches='tight')\n",
    "    plt.savefig(cwd+'/plots_local/300_simusers_class_res_unclass_12months_percent_copied.pdf', dpi=300, bbox_inches='tight')\n",
    "    plt.savefig(cwd+'/plots_local/300_simusers_class_res_unclass_12months_percent_copied.png', dpi=300, bbox_inches='tight')\n",
    "elif prod_flag == 'True':\n",
    "    plt.savefig(cwd+'/plots_production/300_simusers_class_res_unclass_12months_percent_copied.eps', dpi=300, bbox_inches='tight')\n",
    "    plt.savefig(cwd+'/plots_production/300_simusers_class_res_unclass_12months_percent_copied.pdf', dpi=300, bbox_inches='tight')\n",
    "    plt.savefig(cwd+'/plots_production/300_simusers_class_res_unclass_12months_percent_copied.png', dpi=300, bbox_inches='tight')\n",
    "else:\n",
    "    print('no printing flag is active')"
   ]
  },
  {
   "cell_type": "code",
   "execution_count": 23,
   "metadata": {
    "execution": {
     "iopub.execute_input": "2022-02-23T16:52:53.355829Z",
     "iopub.status.busy": "2022-02-23T16:52:53.354524Z",
     "iopub.status.idle": "2022-02-23T16:52:53.391981Z",
     "shell.execute_reply": "2022-02-23T16:52:53.390913Z",
     "shell.execute_reply.started": "2022-02-23T16:52:53.355719Z"
    },
    "tags": []
   },
   "outputs": [],
   "source": [
    "user_breakdown_df2.to_csv(pathsave+'nh_user_breakdown.csv')"
   ]
  },
  {
   "cell_type": "code",
   "execution_count": null,
   "metadata": {},
   "outputs": [],
   "source": []
  },
  {
   "cell_type": "code",
   "execution_count": null,
   "metadata": {},
   "outputs": [],
   "source": []
  },
  {
   "cell_type": "code",
   "execution_count": null,
   "metadata": {},
   "outputs": [],
   "source": []
  }
 ],
 "metadata": {
  "kernelspec": {
   "display_name": "Python 3 (ipykernel)",
   "language": "python",
   "name": "python3"
  },
  "language_info": {
   "codemirror_mode": {
    "name": "ipython",
    "version": 3
   },
   "file_extension": ".py",
   "mimetype": "text/x-python",
   "name": "python",
   "nbconvert_exporter": "python",
   "pygments_lexer": "ipython3",
   "version": "3.8.10"
  }
 },
 "nbformat": 4,
 "nbformat_minor": 4
}
