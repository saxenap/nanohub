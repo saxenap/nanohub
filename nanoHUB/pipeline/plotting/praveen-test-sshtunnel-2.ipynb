{
 "cells": [
  {
   "cell_type": "code",
   "execution_count": 1,
   "id": "284d9229-c8b4-465e-a243-02ddf32c71b0",
   "metadata": {
    "execution": {
     "iopub.execute_input": "2021-12-09T16:18:04Z",
     "iopub.status.busy": "2021-12-09T16:18:04Z",
     "iopub.status.idle": "2021-12-09T16:18:04Z",
     "shell.execute_reply": "2021-12-09T16:18:04Z"
    }
   },
   "outputs": [],
   "source": [
    "class SshConfig \n",
    "{\n",
    "    public $username;\n",
    "    public $password;\n",
    "    public $hostname;\n",
    "    public $port;\n",
    "    \n",
    "    public function __construct(\n",
    "        string $username, string $password, string $hostname, int $port\n",
    "    )\n",
    "    {\n",
    "        $this->username = $username;\n",
    "        $this->password = $password;\n",
    "        $this->hostname = $hostname;\n",
    "        $this->port = $port;\n",
    "    }\n",
    "}\n",
    "\n",
    "class MysqlConfig {\n",
    "    public $username;\n",
    "    public $password;\n",
    "    public $hostname;\n",
    "    public $port;\n",
    "    \n",
    "    public function __construct(\n",
    "        string $username, string $password, string $hostname, int $port\n",
    "    )\n",
    "    {\n",
    "        $this->username = $username;\n",
    "        $this->password = $password;\n",
    "        $this->hostname = $hostname;\n",
    "        $this->port = $port;\n",
    "    }\n",
    "}"
   ]
  },
  {
   "cell_type": "code",
   "execution_count": 2,
   "id": "47f785ee-5c05-4f58-afc9-adc706e506ed",
   "metadata": {
    "execution": {
     "iopub.execute_input": "2021-12-09T16:18:04Z",
     "iopub.status.busy": "2021-12-09T16:18:04Z",
     "iopub.status.idle": "2021-12-09T16:18:04Z",
     "shell.execute_reply": "2021-12-09T16:18:04Z"
    },
    "tags": []
   },
   "outputs": [
    {
     "data": {
      "text/plain": [
       "\u001b[31;1mmysqli_sql_exception with message 'Connection refused'\u001b[39;22m"
      ]
     },
     "execution_count": 2,
     "metadata": {},
     "output_type": "execute_result"
    }
   ],
   "source": [
    "class SshTunneledDb2Connection \n",
    "{\n",
    "    public $ssh_config;\n",
    "    public $mysql_config;\n",
    "    \n",
    "    public function __construct(SshConfig $ssh_config, MysqlConfig $mysql_config)\n",
    "    {\n",
    "        $this->ssh_config = $ssh_config;\n",
    "        $this->mysql_config = $mysql_config;\n",
    "    }\n",
    "    \n",
    "    public function query(string $query)\n",
    "    {\n",
    "        \n",
    "        //exec('ssh -f -L 3307:127.0.0.1:3306 user@example.com sleep 10 > /dev/null');\n",
    "        \n",
    "        $connection = ssh2_connect($this->ssh_config->hostname, $this->ssh_config->port);\n",
    "        if($connection === FALSE){\n",
    "            throw new RuntimeException(\"Failed to connect with SSH server.\");\n",
    "        }\n",
    "\n",
    "        if(!ssh2_auth_password($connection, $this->ssh_config->username, $this->ssh_config->password)){\n",
    "              throw new RuntimeException(\"Failed to authenticate to SSH server\");\n",
    "        }\n",
    "        \n",
    "        $tunnel = ssh2_tunnel($connection, $this->mysql_config->hostname, 3306);\n",
    "        \n",
    "        while (!feof($tunnel)) \n",
    "        {\n",
    "            mysqli_report(MYSQLI_REPORT_ERROR | MYSQLI_REPORT_STRICT);\n",
    "            $mysqli = new mysqli(\n",
    "                $this->mysql_config->hostname, \n",
    "                $this->mysql_config->username, \n",
    "                $this->mysql_config->password, \n",
    "                'nanohub',\n",
    "                3306\n",
    "            );\n",
    "            if ($db->connect_error) {\n",
    "                    die('Connect Error (' . $mysqli->connect_errno . ') '\n",
    "                        . $mysqli->connect_error);\n",
    "            } elseif ($result = $mysqli->query(\"SELECT DATABASE()\")) {\n",
    "                    $row = $result->fetch_row();\n",
    "                    if ($row[0] != 'nanohub') {\n",
    "                            //oops! We're connected to mysql, but not to database_b\n",
    "                    }\n",
    "            }\n",
    "        }\n",
    "    }\n",
    "}\n",
    "\n",
    "class SshTunneledConnectionFactory\n",
    "{\n",
    "    static public function create_from_environment()\n",
    "    {\n",
    "        $ssh_config = new SshConfig(\n",
    "            getenv('tunnel_ssh_username'),\n",
    "            getenv('tunnel_ssh_password'),\n",
    "            getenv('tunnel_ssh_host'),\n",
    "            getenv('tunnel_ssh_port')\n",
    "        );\n",
    "        \n",
    "        $mysql_config = new MysqlConfig(\n",
    "            getenv('db_user'),\n",
    "            getenv('db_password'),\n",
    "            getenv('db_host'),\n",
    "            getenv('tunnel_remote_bind_port')\n",
    "        );\n",
    "        \n",
    "        return new SshTunneledDb2Connection($ssh_config, $mysql_config);\n",
    "    }\n",
    "}\n",
    "\n",
    "$connection = SshTunneledConnectionFactory::create_from_environment();\n",
    "print_r($connection->query(\"SELECT * FROM nanohub.jos_faq\"));"
   ]
  },
  {
   "cell_type": "code",
   "execution_count": null,
   "id": "8265d994-b1f1-4628-9e1a-4290e1bf5b96",
   "metadata": {
    "tags": []
   },
   "outputs": [],
   "source": []
  },
  {
   "cell_type": "code",
   "execution_count": null,
   "id": "efb1f89b-e90f-4aa5-a00e-b00154e0aefe",
   "metadata": {},
   "outputs": [],
   "source": []
  },
  {
   "cell_type": "code",
   "execution_count": null,
   "id": "e803e4e6-13be-4608-96f5-776ee42e9eb1",
   "metadata": {},
   "outputs": [],
   "source": []
  },
  {
   "cell_type": "code",
   "execution_count": 3,
   "id": "ec94e512-18c0-4e95-a008-6175ce24679d",
   "metadata": {
    "execution": {
     "iopub.execute_input": "2021-12-09T16:18:04Z",
     "iopub.status.busy": "2021-12-09T16:18:04Z",
     "iopub.status.idle": "2021-12-09T16:18:04Z",
     "shell.execute_reply": "2021-12-09T16:18:04Z"
    }
   },
   "outputs": [],
   "source": [
    "// $ssh['username'] = getenv('tunnel_ssh_username');\n",
    "// $ssh['password'] = getenv('tunnel_ssh_password');\n",
    "// $ssh['hostname'] = getenv('tunnel_ssh_host');\n",
    "// $ssh['port'] = getenv('tunnel_ssh_port');\n",
    "\n",
    "// $mysql['username'] = getenv('db_user');\n",
    "// $mysql['password'] = getenv('db_password');\n",
    "// $mysql['hostname'] = getenv('db_host');\n",
    "// $mysql['port'] = getenv('tunnel_remote_bind_port');"
   ]
  },
  {
   "cell_type": "code",
   "execution_count": 4,
   "id": "4c588140-5095-405a-a64c-44dc727486c9",
   "metadata": {
    "execution": {
     "iopub.execute_input": "2021-12-09T16:18:04Z",
     "iopub.status.busy": "2021-12-09T16:18:04Z",
     "iopub.status.idle": "2021-12-09T16:18:04Z",
     "shell.execute_reply": "2021-12-09T16:18:04Z"
    },
    "tags": []
   },
   "outputs": [
    {
     "data": {
      "text/plain": [
       "\u001b[33;1mPHP Warning:  ssh2_exec() expects parameter 1 to be resource, object given in /home/saxenap/.jupyter-php/pkgs/vendor/litipk/jupyter-php/src/Actions/ExecuteAction.php(115) : eval()'d code on line 4\u001b[39;22m"
      ]
     },
     "execution_count": 4,
     "metadata": {},
     "output_type": "execute_result"
    }
   ],
   "source": [
    "$query = 'SELECT * FROM nanohub.jos_faq';\n",
    "\n",
    "$ssh_query ='ssh -L 3307:' . getenv('tunnel_ssh_host').':' . getenv('tunnel_remote_bind_port').'; \n",
    "echo \"' . str_replace( '\"', '\\'', stripslashes( $query ) ) . '\" | mysql -u '.getenv('db_user').' -h '.getenv('db_host').' --password='.getenv('db_password');\n",
    "\n",
    "$response = ssh2_exec($connection, $ssh_query);\n",
    "$error_response = ssh2_fetch_stream($response, SSH2_STREAM_STDERR);\n",
    "print_r(stream_get_contents($error_response));\n",
    "\n",
    "stream_set_blocking($response, true);\n",
    "stream_set_blocking($error_response, true);\n",
    "\n",
    "$results = stream_get_contents($response);\n",
    "if (is_null($results ))\n",
    "    echo \"Empty response/result\";\n",
    "\n",
    "else \n",
    "    print_r($results);\n",
    "\n",
    "ssh2_disconnect ( $connection );"
   ]
  }
 ],
 "metadata": {
  "kernelspec": {
   "display_name": "PHP",
   "language": "php",
   "name": "jupyter-php"
  },
  "language_info": {
   "file_extension": ".php",
   "mimetype": "text/x-php",
   "name": "PHP",
   "pygments_lexer": "PHP",
   "version": "7.4.3"
  }
 },
 "nbformat": 4,
 "nbformat_minor": 5
}
