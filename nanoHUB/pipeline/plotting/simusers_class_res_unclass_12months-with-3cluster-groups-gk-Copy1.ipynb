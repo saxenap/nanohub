{
 "cells": [
  {
   "cell_type": "code",
   "execution_count": 1,
   "metadata": {
    "execution": {
     "iopub.execute_input": "2022-02-22T14:23:26.040742Z",
     "iopub.status.busy": "2022-02-22T14:23:26.039924Z",
     "iopub.status.idle": "2022-02-22T14:23:26.050930Z",
     "shell.execute_reply": "2022-02-22T14:23:26.049332Z",
     "shell.execute_reply.started": "2022-02-22T14:23:26.040430Z"
    },
    "tags": []
   },
   "outputs": [],
   "source": [
    "## build researcher events, student events, and self-study events\n",
    "## researcher are simply those with NH citations"
   ]
  },
  {
   "cell_type": "code",
   "execution_count": 7,
   "metadata": {
    "execution": {
     "iopub.execute_input": "2022-02-22T15:00:20.052684Z",
     "iopub.status.busy": "2022-02-22T15:00:20.040294Z",
     "iopub.status.idle": "2022-02-22T15:00:20.132996Z",
     "shell.execute_reply": "2022-02-22T15:00:20.118989Z",
     "shell.execute_reply.started": "2022-02-22T15:00:20.052581Z"
    },
    "tags": []
   },
   "outputs": [],
   "source": [
    "import sys\n",
    "\n",
    "import pandas as pd\n",
    "import numpy as np\n",
    "import time\n",
    "import datetime\n",
    "import os\n",
    "from nanoHUB.application import Application\n",
    "from nanoHUB.configuration import ClusteringConfiguration\n",
    "from nanoHUB.pipeline.geddes.data import get_default_s3_client\n",
    "from nanoHUB.dataaccess.lake import S3FileMapper\n",
    "\n",
    "from nanoHUB.clustering.infra import get_mike_only_clustered_users, get_xufeng_only_clustered_users, get_mike_xufeng_clustered_users\n",
    "from nanoHUB.clustering.infra import create_clusters_repository, add_cluster_info, get_all_clustered_users, get_all_self_study_users, get_all_self_identified_users"
   ]
  },
  {
   "cell_type": "code",
   "execution_count": null,
   "metadata": {},
   "outputs": [],
   "source": []
  },
  {
   "cell_type": "code",
   "execution_count": 4,
   "metadata": {
    "execution": {
     "iopub.execute_input": "2022-02-22T14:23:56.959437Z",
     "iopub.status.busy": "2022-02-22T14:23:56.958728Z",
     "iopub.status.idle": "2022-02-22T14:23:56.971740Z",
     "shell.execute_reply": "2022-02-22T14:23:56.970237Z",
     "shell.execute_reply.started": "2022-02-22T14:23:56.959393Z"
    },
    "tags": []
   },
   "outputs": [],
   "source": [
    "pd.set_option('display.max_columns', None)\n",
    "cwd = os.getcwd()"
   ]
  },
  {
   "cell_type": "code",
   "execution_count": 5,
   "metadata": {
    "execution": {
     "iopub.execute_input": "2022-02-22T14:23:58.506536Z",
     "iopub.status.busy": "2022-02-22T14:23:58.505956Z",
     "iopub.status.idle": "2022-02-22T14:23:59.704163Z",
     "shell.execute_reply": "2022-02-22T14:23:59.698719Z",
     "shell.execute_reply.started": "2022-02-22T14:23:58.506472Z"
    },
    "tags": []
   },
   "outputs": [],
   "source": [
    "application = Application.get_instance()\n",
    "nanohub_db = application.new_db_engine('nanohub')\n",
    "nanohub_metrics_db = application.new_db_engine('nanohub_metrics')\n",
    "wang159_myrmekes_db = application.new_db_engine('rfm_data')\n",
    "\n",
    "s3_client = get_default_s3_client(application)\n",
    "derived_data_file_path = 'derived_data_for_users.csv'\n",
    "processed_mapper = S3FileMapper(s3_client, ClusteringConfiguration().bucket_name_processed)"
   ]
  },
  {
   "cell_type": "code",
   "execution_count": null,
   "metadata": {},
   "outputs": [],
   "source": []
  },
  {
   "cell_type": "markdown",
   "metadata": {
    "tags": []
   },
   "source": [
    "## Cumulative classroom/research/self-study"
   ]
  },
  {
   "cell_type": "code",
   "execution_count": 6,
   "metadata": {
    "execution": {
     "iopub.execute_input": "2022-02-22T14:24:04.051286Z",
     "iopub.status.busy": "2022-02-22T14:24:04.049177Z",
     "iopub.status.idle": "2022-02-22T14:24:36.371290Z",
     "shell.execute_reply": "2022-02-22T14:24:36.370641Z",
     "shell.execute_reply.started": "2022-02-22T14:24:04.050918Z"
    },
    "tags": []
   },
   "outputs": [
    {
     "data": {
      "text/plain": [
       "78167"
      ]
     },
     "metadata": {},
     "output_type": "display_data"
    }
   ],
   "source": [
    "clustered_df = get_all_clustered_users(processed_mapper, derived_data_file_path)\n",
    "clustered_df['nanoHUB_user_ID__c'] = clustered_df['id']\n",
    "clustered_NH_ids = clustered_df['nanoHUB_user_ID__c']\n",
    "display(len(clustered_NH_ids))"
   ]
  },
  {
   "cell_type": "code",
   "execution_count": null,
   "metadata": {
    "execution": {
     "iopub.status.busy": "2022-02-22T01:49:53.932928Z",
     "iopub.status.idle": "2022-02-22T01:49:53.941464Z",
     "shell.execute_reply": "2022-02-22T01:49:53.940450Z",
     "shell.execute_reply.started": "2022-02-22T01:49:53.940373Z"
    },
    "tags": []
   },
   "outputs": [],
   "source": [
    "mike_clustered_users_df = get_mike_only_clustered_users(processed_mapper, derived_data_file_path)\n",
    "mike_clustered_users_df['nanoHUB_user_ID__c'] = mike_clustered_users_df['id']\n",
    "mike_clustered_NH_ids = mike_clustered_users_df['nanoHUB_user_ID__c']\n",
    "display(len(mike_clustered_users_df))"
   ]
  },
  {
   "cell_type": "code",
   "execution_count": null,
   "metadata": {
    "execution": {
     "iopub.status.busy": "2022-02-22T01:49:53.945811Z",
     "iopub.status.idle": "2022-02-22T01:49:53.947347Z",
     "shell.execute_reply": "2022-02-22T01:49:53.946688Z",
     "shell.execute_reply.started": "2022-02-22T01:49:53.946623Z"
    },
    "tags": []
   },
   "outputs": [],
   "source": [
    "xufeng_clustered_users_df = get_xufeng_only_clustered_users(processed_mapper, derived_data_file_path)\n",
    "xufeng_clustered_users_df['nanoHUB_user_ID__c'] = xufeng_clustered_users_df['id']\n",
    "xufeng_clustered_NH_ids = xufeng_clustered_users_df['nanoHUB_user_ID__c']\n",
    "display(len(xufeng_clustered_users_df))"
   ]
  },
  {
   "cell_type": "code",
   "execution_count": null,
   "metadata": {
    "execution": {
     "iopub.status.busy": "2022-02-22T01:49:53.949476Z",
     "iopub.status.idle": "2022-02-22T01:49:53.950627Z",
     "shell.execute_reply": "2022-02-22T01:49:53.949903Z",
     "shell.execute_reply.started": "2022-02-22T01:49:53.949844Z"
    },
    "tags": []
   },
   "outputs": [],
   "source": [
    "mike_xufeng_clustered_users_df = get_mike_xufeng_clustered_users(processed_mapper, derived_data_file_path)\n",
    "mike_xufeng_clustered_users_df['nanoHUB_user_ID__c'] = mike_xufeng_clustered_users_df['id']\n",
    "mike_xufeng_clustered_NH_ids = mike_xufeng_clustered_users_df['nanoHUB_user_ID__c']\n",
    "display(len(mike_xufeng_clustered_users_df))"
   ]
  },
  {
   "cell_type": "code",
   "execution_count": null,
   "metadata": {
    "execution": {
     "iopub.status.busy": "2022-02-22T01:49:53.956696Z",
     "iopub.status.idle": "2022-02-22T01:49:53.962275Z",
     "shell.execute_reply": "2022-02-22T01:49:53.961651Z",
     "shell.execute_reply.started": "2022-02-22T01:49:53.961579Z"
    },
    "tags": []
   },
   "outputs": [],
   "source": [
    "# raise"
   ]
  },
  {
   "cell_type": "code",
   "execution_count": null,
   "metadata": {
    "execution": {
     "iopub.status.busy": "2022-02-22T01:49:53.964232Z",
     "iopub.status.idle": "2022-02-22T01:49:53.965067Z",
     "shell.execute_reply": "2022-02-22T01:49:53.964769Z",
     "shell.execute_reply.started": "2022-02-22T01:49:53.964718Z"
    },
    "tags": []
   },
   "outputs": [],
   "source": [
    "self_study_df = get_all_self_study_users(processed_mapper, derived_data_file_path)\n",
    "self_study_df['nanoHUB_user_ID__c'] = self_study_df['id']\n",
    "self_study_NH_ids = self_study_df['nanoHUB_user_ID__c']\n",
    "self_study_usernames = self_study_df['username'].tolist()\n",
    "\n",
    "print('self_study_NH_ids length = ',len(self_study_NH_ids))\n",
    "print('self_study_usernames length = ',len(self_study_usernames))\n",
    "print('self_study_usernames samples = ',self_study_usernames[0:10])"
   ]
  },
  {
   "cell_type": "code",
   "execution_count": null,
   "metadata": {
    "execution": {
     "iopub.status.busy": "2022-02-22T01:49:53.969962Z",
     "iopub.status.idle": "2022-02-22T01:49:53.970689Z",
     "shell.execute_reply": "2022-02-22T01:49:53.970279Z",
     "shell.execute_reply.started": "2022-02-22T01:49:53.970254Z"
    },
    "tags": []
   },
   "outputs": [],
   "source": [
    "self_identified_df = get_all_self_identified_users(processed_mapper, derived_data_file_path)\n",
    "self_identified_df['nanoHUB_user_ID__c'] = self_identified_df['id']\n",
    "self_identified_NH_ids = self_identified_df['nanoHUB_user_ID__c']\n",
    "self_identified_usernames = self_identified_df['username'].tolist()\n",
    "print('length of self_identified_NH_ids',len(self_identified_NH_ids))\n",
    "display(self_identified_df.head())\n",
    "#print(self_identified_usernames)\n",
    "\n"
   ]
  },
  {
   "cell_type": "code",
   "execution_count": null,
   "metadata": {
    "execution": {
     "iopub.status.busy": "2022-02-22T01:49:53.977439Z",
     "iopub.status.idle": "2022-02-22T01:49:53.981378Z",
     "shell.execute_reply": "2022-02-22T01:49:53.980793Z",
     "shell.execute_reply.started": "2022-02-22T01:49:53.980657Z"
    },
    "tags": []
   },
   "outputs": [],
   "source": [
    "allusers_df = processed_mapper.read(derived_data_file_path)\n",
    "display(allusers_df.head(5))\n",
    "#display(allusers_usernames)\n",
    "display(allusers_df.loc[allusers_df['username'].isnull()])\n",
    "#display(allusers_df.loc[allusers_df['username'].notna()])\n",
    "\n",
    "allusers_df = allusers_df.loc[allusers_df['username'].notna()]\n",
    "display(allusers_df.loc[allusers_df['username'].isnull()])\n",
    "\n",
    "allusers_usernames = allusers_df['username'].tolist()\n"
   ]
  },
  {
   "cell_type": "code",
   "execution_count": null,
   "metadata": {
    "execution": {
     "iopub.status.busy": "2022-02-22T01:49:53.986937Z",
     "iopub.status.idle": "2022-02-22T01:49:53.988101Z",
     "shell.execute_reply": "2022-02-22T01:49:53.987367Z",
     "shell.execute_reply.started": "2022-02-22T01:49:53.987325Z"
    },
    "tags": []
   },
   "outputs": [],
   "source": [
    "print('clustered users',clustered_NH_ids.shape)\n",
    "print('selfstudy users',self_study_NH_ids.shape)\n",
    "print('self_study_usernames',len(self_study_usernames))\n",
    "print('self identified researchers',self_identified_NH_ids.shape)\n",
    "print('all users',allusers_df.shape)"
   ]
  },
  {
   "cell_type": "code",
   "execution_count": null,
   "metadata": {},
   "outputs": [],
   "source": []
  },
  {
   "cell_type": "code",
   "execution_count": null,
   "metadata": {
    "execution": {
     "iopub.status.busy": "2022-02-22T01:49:53.993334Z",
     "iopub.status.idle": "2022-02-22T01:49:53.995309Z",
     "shell.execute_reply": "2022-02-22T01:49:53.994776Z",
     "shell.execute_reply.started": "2022-02-22T01:49:53.994019Z"
    },
    "tags": []
   },
   "outputs": [],
   "source": [
    "frames = [clustered_df, self_study_df]\n",
    "contacts_df = pd.concat(frames)"
   ]
  },
  {
   "cell_type": "code",
   "execution_count": null,
   "metadata": {
    "execution": {
     "iopub.status.busy": "2022-02-22T01:49:54.006845Z",
     "iopub.status.idle": "2022-02-22T01:49:54.011177Z",
     "shell.execute_reply": "2022-02-22T01:49:54.010435Z",
     "shell.execute_reply.started": "2022-02-22T01:49:54.010306Z"
    },
    "tags": []
   },
   "outputs": [],
   "source": [
    "## need to filter self-study-nh-ids with the researchers"
   ]
  },
  {
   "cell_type": "code",
   "execution_count": null,
   "metadata": {
    "execution": {
     "iopub.status.busy": "2022-02-22T01:49:54.013697Z",
     "iopub.status.idle": "2022-02-22T01:49:54.019935Z",
     "shell.execute_reply": "2022-02-22T01:49:54.019463Z",
     "shell.execute_reply.started": "2022-02-22T01:49:54.018916Z"
    },
    "tags": []
   },
   "outputs": [],
   "source": [
    "## This researcher determination is based entirely on the results of research authors on nanohub\n",
    "## i.e., we use the researcher information on db2"
   ]
  },
  {
   "cell_type": "code",
   "execution_count": null,
   "metadata": {
    "execution": {
     "iopub.status.busy": "2022-02-22T01:49:54.028532Z",
     "iopub.status.idle": "2022-02-22T01:49:54.031886Z",
     "shell.execute_reply": "2022-02-22T01:49:54.031533Z",
     "shell.execute_reply.started": "2022-02-22T01:49:54.031483Z"
    },
    "tags": []
   },
   "outputs": [],
   "source": [
    "sql_query = 'select id, uid, author from jos_citations'\n",
    "jos_citations = pd.read_sql_query(sql_query, nanohub_db)\n",
    "display(jos_citations.head(2))\n",
    "print(jos_citations.shape)"
   ]
  },
  {
   "cell_type": "code",
   "execution_count": null,
   "metadata": {
    "execution": {
     "iopub.status.busy": "2022-02-22T01:49:54.038603Z",
     "iopub.status.idle": "2022-02-22T01:49:54.042136Z",
     "shell.execute_reply": "2022-02-22T01:49:54.041263Z",
     "shell.execute_reply.started": "2022-02-22T01:49:54.040696Z"
    },
    "tags": []
   },
   "outputs": [],
   "source": [
    "t1_authors = jos_citations['author'].to_list()\n",
    "t1_authors2 = [] #[j.split(';') for i,j in enumerate(t1_authors)]"
   ]
  },
  {
   "cell_type": "code",
   "execution_count": null,
   "metadata": {
    "execution": {
     "iopub.status.busy": "2022-02-22T01:49:54.046970Z",
     "iopub.status.idle": "2022-02-22T01:49:54.050704Z",
     "shell.execute_reply": "2022-02-22T01:49:54.050388Z",
     "shell.execute_reply.started": "2022-02-22T01:49:54.050330Z"
    },
    "tags": []
   },
   "outputs": [],
   "source": [
    "for i,j in enumerate(t1_authors):\n",
    "    try:\n",
    "        holder = j.split(';')\n",
    "        if len(holder) > 1: \n",
    "            for k,l in enumerate(holder):\n",
    "                if l[0] == ' ':\n",
    "                    holder[k] = l[1:]\n",
    "        t1_authors2.append(holder)\n",
    "    except:\n",
    "        garb = True"
   ]
  },
  {
   "cell_type": "code",
   "execution_count": null,
   "metadata": {
    "execution": {
     "iopub.status.busy": "2022-02-22T01:49:54.054548Z",
     "iopub.status.idle": "2022-02-22T01:49:54.059990Z",
     "shell.execute_reply": "2022-02-22T01:49:54.059189Z",
     "shell.execute_reply.started": "2022-02-22T01:49:54.058508Z"
    },
    "tags": []
   },
   "outputs": [],
   "source": [
    "t1_authors32 = [item for sublist in t1_authors2 for item in sublist]\n",
    "t1_authors3 = set(t1_authors32)\n",
    "print(len(t1_authors3))"
   ]
  },
  {
   "cell_type": "code",
   "execution_count": null,
   "metadata": {
    "execution": {
     "iopub.status.busy": "2022-02-22T01:49:54.062685Z",
     "iopub.status.idle": "2022-02-22T01:49:54.067293Z",
     "shell.execute_reply": "2022-02-22T01:49:54.066401Z",
     "shell.execute_reply.started": "2022-02-22T01:49:54.066331Z"
    },
    "tags": []
   },
   "outputs": [],
   "source": [
    "## extract all researchers with nh ids\n",
    "rw_ids = []\n",
    "need_search = []\n",
    "for i,j in enumerate(t1_authors3):\n",
    "    if '{{' in j:\n",
    "        rw_ids.append(i)\n",
    "    else:\n",
    "        need_search.append(i)"
   ]
  },
  {
   "cell_type": "code",
   "execution_count": null,
   "metadata": {
    "execution": {
     "iopub.status.busy": "2022-02-22T01:49:54.071536Z",
     "iopub.status.idle": "2022-02-22T01:49:54.074380Z",
     "shell.execute_reply": "2022-02-22T01:49:54.073522Z",
     "shell.execute_reply.started": "2022-02-22T01:49:54.073403Z"
    },
    "tags": []
   },
   "outputs": [],
   "source": [
    "## from the rw_ids, extract the nanohub userids\n",
    "# can obtain usernames from the DB2 table\n",
    "rw_ids2 = np.array(list(t1_authors3))[rw_ids]\n",
    "for i,j in enumerate(rw_ids2):\n",
    "    begin = j.index('{{')\n",
    "    rw_ids2[i] = j[begin+2:-2]\n",
    "print(len(rw_ids2))"
   ]
  },
  {
   "cell_type": "code",
   "execution_count": null,
   "metadata": {
    "execution": {
     "iopub.status.busy": "2022-02-22T01:49:54.079231Z",
     "iopub.status.idle": "2022-02-22T01:49:54.082129Z",
     "shell.execute_reply": "2022-02-22T01:49:54.081710Z",
     "shell.execute_reply.started": "2022-02-22T01:49:54.081633Z"
    },
    "tags": []
   },
   "outputs": [],
   "source": [
    "# need to obtain usernames\n",
    "sql_query = \"select id,name,username from jos_users where id in \"+str(tuple(rw_ids2))\n",
    "rw_researchers = pd.read_sql_query(sql_query,nanohub_db)\n",
    "display(rw_researchers.head(2))"
   ]
  },
  {
   "cell_type": "code",
   "execution_count": null,
   "metadata": {
    "execution": {
     "iopub.status.busy": "2022-02-22T01:49:54.086539Z",
     "iopub.status.idle": "2022-02-22T01:49:54.087758Z",
     "shell.execute_reply": "2022-02-22T01:49:54.087420Z",
     "shell.execute_reply.started": "2022-02-22T01:49:54.087379Z"
    },
    "tags": []
   },
   "outputs": [],
   "source": [
    "## need to obtain the username/ids from those people without nh ids explicitly spec'd in jos_citations\n",
    "ns2 = np.array(list(t1_authors3))[need_search]\n",
    "ns2 = ns2[1:]"
   ]
  },
  {
   "cell_type": "code",
   "execution_count": null,
   "metadata": {
    "execution": {
     "iopub.status.busy": "2022-02-22T01:49:54.091272Z",
     "iopub.status.idle": "2022-02-22T01:49:54.093414Z",
     "shell.execute_reply": "2022-02-22T01:49:54.093053Z",
     "shell.execute_reply.started": "2022-02-22T01:49:54.092871Z"
    },
    "tags": []
   },
   "outputs": [],
   "source": [
    "tuple(ns2)[:5]"
   ]
  },
  {
   "cell_type": "code",
   "execution_count": null,
   "metadata": {
    "execution": {
     "iopub.status.busy": "2022-02-22T01:49:54.097775Z",
     "iopub.status.idle": "2022-02-22T01:49:54.101936Z",
     "shell.execute_reply": "2022-02-22T01:49:54.101386Z",
     "shell.execute_reply.started": "2022-02-22T01:49:54.101305Z"
    },
    "tags": []
   },
   "outputs": [],
   "source": [
    "sql_query = \"select id,name,username from jos_users where name in \"+str(tuple(ns2))\n",
    "ns2_researchers = pd.read_sql_query(sql_query,nanohub_db)\n",
    "display(ns2_researchers.head(2))"
   ]
  },
  {
   "cell_type": "code",
   "execution_count": null,
   "metadata": {
    "execution": {
     "iopub.status.busy": "2022-02-22T01:49:54.104856Z",
     "iopub.status.idle": "2022-02-22T01:49:54.110705Z",
     "shell.execute_reply": "2022-02-22T01:49:54.110237Z",
     "shell.execute_reply.started": "2022-02-22T01:49:54.110173Z"
    },
    "tags": []
   },
   "outputs": [],
   "source": [
    "## combine the usernames into one data structure\n",
    "researcher_usernames = rw_researchers['username'].to_list() + ns2_researchers['username'].to_list()\n",
    "print('list of researchers who have cited nanohub  researcher_usernames=',len(researcher_usernames))"
   ]
  },
  {
   "cell_type": "code",
   "execution_count": null,
   "metadata": {
    "execution": {
     "iopub.status.busy": "2022-02-22T01:49:54.113502Z",
     "iopub.status.idle": "2022-02-22T01:49:54.118886Z",
     "shell.execute_reply": "2022-02-22T01:49:54.118435Z",
     "shell.execute_reply.started": "2022-02-22T01:49:54.118368Z"
    },
    "tags": []
   },
   "outputs": [],
   "source": [
    "#bool_search3 = np.in1d(np.array(researcher_usernames),np.array(self_identified_usernames))\n",
    "#researcher_usernames = np.where(~bool_search3)[0].tolist()\n",
    "#display(len(researcher_usernames))\n",
    "\n",
    "#display(len(self_identified_usernames))\n",
    "\n",
    "print('self_identified_usernames can have overlap with researchers',len(self_identified_usernames))\n",
    "#exclude the self-identified researchers from the users who have done research on nanohub\n",
    "#display(self_identified_usernames)\n",
    "#display(researcher_usernames)\n",
    "print('self_identified_usernames patial list', self_identified_usernames[0:10])\n",
    "print('researcher_usernames partial list',researcher_usernames[0:10])\n",
    "\n",
    "#bool_search3 = np.in1d(np.array(self_identified_usernames),np.array(researcher_usernames))\n",
    "#print('bool_search3 length of ',len(bool_search3))\n",
    "#print('bool_search3 partial list',bool_search3)\n",
    "\n",
    "#self_identified_usernames_index = np.where(~bool_search3)[0].tolist()\n",
    "si_usernames = self_identified_usernames\n",
    "r_usernames = researcher_usernames\n",
    "\n",
    "\n",
    "print(len(si_usernames))\n",
    "si_usernames = [x for x in si_usernames if x not in r_usernames]\n",
    "print(len(si_usernames))\n",
    "print(si_usernames[:10])"
   ]
  },
  {
   "cell_type": "code",
   "execution_count": null,
   "metadata": {
    "execution": {
     "iopub.status.busy": "2022-02-22T01:49:54.122188Z",
     "iopub.status.idle": "2022-02-22T01:49:54.129127Z",
     "shell.execute_reply": "2022-02-22T01:49:54.128523Z",
     "shell.execute_reply.started": "2022-02-22T01:49:54.128362Z"
    },
    "tags": []
   },
   "outputs": [],
   "source": [
    "self_identified_usernames = si_usernames\n",
    "\n",
    "\n",
    "#print('self_identified_usernames_index partial list',self_identified_usernames_index[0:10])\n",
    "#print('self_identified_usernames_index length',len(self_identified_usernames_index))\n",
    "\n",
    "\n",
    "#display(self_identified_df)\n",
    "#display(self_identified_df['username'][self_identified_usernames_index])\n",
    "\n",
    "\n",
    "print('researcher_usernames',len(researcher_usernames))\n",
    "\n",
    "print('self_identified_usernames reduced by overlap with researchers',len(self_identified_usernames))\n",
    "print('self_identified_usernames some samples',self_identified_usernames[0:10])"
   ]
  },
  {
   "cell_type": "code",
   "execution_count": null,
   "metadata": {
    "execution": {
     "iopub.status.busy": "2022-02-22T01:49:54.132834Z",
     "iopub.status.idle": "2022-02-22T01:49:54.135717Z",
     "shell.execute_reply": "2022-02-22T01:49:54.135306Z",
     "shell.execute_reply.started": "2022-02-22T01:49:54.135153Z"
    },
    "scrolled": true,
    "tags": []
   },
   "outputs": [],
   "source": [
    "#need to take out the researchers and citing authors from the list of selfstudy users. \n",
    "#\n",
    "print('number of self-study users self_study_usernames',len(self_study_usernames))\n",
    "print('take out len(researcher_usernames)',len(researcher_usernames))\n",
    "print('take out len(self_identified_usernames)',len(self_identified_usernames))\n",
    "\n",
    "self_study_usernames = [x for x in self_study_usernames if x not in researcher_usernames]\n",
    "print('number of self-study users self_study_usernames',len(self_study_usernames))\n",
    "self_study_usernames = [x for x in self_study_usernames if x not in self_identified_usernames]\n",
    "print('number of self-study users self_study_usernames',len(self_study_usernames))"
   ]
  },
  {
   "cell_type": "code",
   "execution_count": null,
   "metadata": {
    "execution": {
     "iopub.status.busy": "2022-02-22T01:49:54.138011Z",
     "iopub.status.idle": "2022-02-22T01:49:54.146721Z",
     "shell.execute_reply": "2022-02-22T01:49:54.145287Z",
     "shell.execute_reply.started": "2022-02-22T01:49:54.145069Z"
    },
    "scrolled": true,
    "tags": []
   },
   "outputs": [],
   "source": [
    "# researcher_ids = rw_researchers['id'].to_list() + ns2_researchers['id'].to_list()\n",
    "# print('researchers/citation',len(researcher_ids))\n",
    "\n",
    "\n",
    "\n",
    "# bool_search2 = np.in1d(np.array(self_study_NH_ids.tolist()),np.array(researcher_ids))\n",
    "\n",
    "\n",
    "# # Note, researchers can possibly be doubled counted within clusters!!\n",
    "# # sf_researchers = np.where(bool_search2)[0].tolist() \n",
    "# sf_self_study = np.where(~bool_search2)[0].tolist()\n",
    "# print('self-study users',len(sf_self_study))\n",
    "\n",
    "# bool_search2_2 = np.in1d(np.array(sf_self_study),np.array(self_identified_NH_ids.tolist()))\n",
    "# sf_self_study = np.where(~bool_search2_2)[0].tolist()\n",
    "\n",
    "# print('sf_self_study',len(sf_self_study))\n",
    "# print('self_study_NH_ids',len(self_study_NH_ids.to_list()))\n",
    "# print('self_identified_NH_ids',len(self_identified_NH_ids.to_list()))\n",
    "\n",
    "\n",
    "# # self study user usernames\n",
    "# ts_query = 'select id,username from jos_users where id in ' + str(tuple(self_study_NH_ids.dropna().to_list())) \n",
    "# #sf_contact_ids['nanoHUB_user_ID__c']))\n",
    "# ss_NH_username = pd.read_sql_query(ts_query,nanohub_db)\n",
    "# ss_NH_username_usernames = ss_NH_username['username'].tolist()"
   ]
  },
  {
   "cell_type": "code",
   "execution_count": null,
   "metadata": {
    "execution": {
     "iopub.status.busy": "2022-02-22T01:49:54.150881Z",
     "iopub.status.idle": "2022-02-22T01:49:54.151654Z",
     "shell.execute_reply": "2022-02-22T01:49:54.151437Z",
     "shell.execute_reply.started": "2022-02-22T01:49:54.151400Z"
    },
    "scrolled": true,
    "tags": []
   },
   "outputs": [],
   "source": [
    "#restart analysis here \n",
    "#restart analysis here \n",
    "#restart analysis here \n",
    "#restart analysis here \n",
    "\n",
    "\n"
   ]
  },
  {
   "cell_type": "code",
   "execution_count": null,
   "metadata": {
    "execution": {
     "iopub.status.busy": "2022-02-22T01:49:54.156922Z",
     "iopub.status.idle": "2022-02-22T01:49:54.162210Z",
     "shell.execute_reply": "2022-02-22T01:49:54.161666Z",
     "shell.execute_reply.started": "2022-02-22T01:49:54.161614Z"
    },
    "tags": []
   },
   "outputs": [],
   "source": [
    "today = datetime.datetime.today()\n",
    "print(today)"
   ]
  },
  {
   "cell_type": "code",
   "execution_count": null,
   "metadata": {
    "execution": {
     "iopub.status.busy": "2022-02-22T01:49:54.165679Z",
     "iopub.status.idle": "2022-02-22T01:49:54.169871Z",
     "shell.execute_reply": "2022-02-22T01:49:54.169603Z",
     "shell.execute_reply.started": "2022-02-22T01:49:54.169556Z"
    },
    "tags": []
   },
   "outputs": [],
   "source": [
    "## caching check \n",
    "try:\n",
    "    user_breakdown_df = pd.read_csv(cwd+'/cached_data/nh_user_breakdown.csv')\n",
    "    print(user_breakdown_df)\n",
    "    cache_flag = True\n",
    "except:\n",
    "    cache_flag = False"
   ]
  },
  {
   "cell_type": "code",
   "execution_count": null,
   "metadata": {
    "execution": {
     "iopub.status.busy": "2022-02-22T01:49:54.174318Z",
     "iopub.status.idle": "2022-02-22T01:49:54.177066Z",
     "shell.execute_reply": "2022-02-22T01:49:54.176274Z",
     "shell.execute_reply.started": "2022-02-22T01:49:54.176206Z"
    },
    "tags": []
   },
   "outputs": [],
   "source": [
    "## determine starting year\n",
    "#if cache_flag == False:\n",
    "start_year_base = 1999 #2000\n",
    "#else:\n",
    "#     print('check the saved file')\n",
    "#    start_year_base = int(user_breakdown_df['year_month'].to_list()[-1][:4])\n",
    "    \n",
    "    "
   ]
  },
  {
   "cell_type": "code",
   "execution_count": null,
   "metadata": {
    "execution": {
     "iopub.status.busy": "2022-02-22T01:49:54.189077Z",
     "iopub.status.idle": "2022-02-22T01:49:54.194531Z",
     "shell.execute_reply": "2022-02-22T01:49:54.193749Z",
     "shell.execute_reply.started": "2022-02-22T01:49:54.193592Z"
    },
    "tags": []
   },
   "outputs": [],
   "source": [
    "#print(user_breakdown_df['year_month'].to_list()[-1][:4])"
   ]
  },
  {
   "cell_type": "code",
   "execution_count": null,
   "metadata": {
    "execution": {
     "iopub.status.busy": "2022-02-22T01:49:54.199072Z",
     "iopub.status.idle": "2022-02-22T01:49:54.202732Z",
     "shell.execute_reply": "2022-02-22T01:49:54.202354Z",
     "shell.execute_reply.started": "2022-02-22T01:49:54.202121Z"
    },
    "tags": []
   },
   "outputs": [],
   "source": [
    "from copy import deepcopy"
   ]
  },
  {
   "cell_type": "code",
   "execution_count": null,
   "metadata": {
    "execution": {
     "iopub.status.busy": "2022-02-22T01:49:54.208082Z",
     "iopub.status.idle": "2022-02-22T01:49:54.210787Z",
     "shell.execute_reply": "2022-02-22T01:49:54.210372Z",
     "shell.execute_reply.started": "2022-02-22T01:49:54.210284Z"
    },
    "tags": []
   },
   "outputs": [],
   "source": [
    "all_months_list = list()\n",
    "for this_year in range(start_year_base+1,today.year+2):\n",
    "    if cache_flag == True:\n",
    "        for this_month in range(1,today.month+1):\n",
    "            all_months_list.append(datetime.datetime(this_year, this_month, 1))\n",
    "    else:\n",
    "        for this_month in range(1,12+1):\n",
    "            all_months_list.append(datetime.datetime(this_year, this_month, 1))\n",
    "\n",
    "cache_all_month_list = pd.DataFrame()\n",
    "cache_all_month_list['Date'] = all_months_list\n",
    "cache_all_month_list.to_csv(cwd+'/cached_data/all_months_list.csv')\n",
    "cache_all_month_list.to_csv(cwd+'/cached_data/'+ str(start_year_base)+'_all_months_list.csv')\n",
    "cache_all_month_list = []\n",
    "print('allmonths partial list',all_months_list[0:36])\n"
   ]
  },
  {
   "cell_type": "code",
   "execution_count": null,
   "metadata": {
    "execution": {
     "iopub.status.busy": "2022-02-22T01:49:54.214481Z",
     "iopub.status.idle": "2022-02-22T01:49:54.220430Z",
     "shell.execute_reply": "2022-02-22T01:49:54.218713Z",
     "shell.execute_reply.started": "2022-02-22T01:49:54.218374Z"
    },
    "tags": []
   },
   "outputs": [],
   "source": [
    "print(self_identified_usernames[0:50])\n",
    "#print('str(tuple(self_identified_usernames))',str(tuple(self_identified_usernames)))\n",
    "print(self_study_usernames[0:50])\n",
    "print(allusers_usernames[0:50])\n"
   ]
  },
  {
   "cell_type": "code",
   "execution_count": null,
   "metadata": {
    "execution": {
     "iopub.status.busy": "2022-02-22T01:49:54.232618Z",
     "iopub.status.idle": "2022-02-22T01:49:54.234718Z",
     "shell.execute_reply": "2022-02-22T01:49:54.234020Z",
     "shell.execute_reply.started": "2022-02-22T01:49:54.233833Z"
    },
    "tags": []
   },
   "outputs": [],
   "source": [
    "#cache_r_track = pd.DataFrame()\n",
    "#cache_si_track = pd.DataFrame()\n",
    "#cache_si_track['user'] = self_identified_track\n",
    "self_identified_track = []\n",
    "researcher_track = []\n",
    "self2_track = []\n",
    "simtotal_track = []\n",
    "\n",
    "## computer has memory limits, so split toolstart into branches\n",
    "# this filters and finds the research usage in nanohub\n",
    "start_year = deepcopy(start_year_base)\n",
    "while start_year < today.year+1:\n",
    "    start_year += 1\n",
    "    print('start year: '+ str(start_year))\n",
    "    end_date = r\"'\"+str(start_year)+r\"-01-01'\"\n",
    "    start_date = r\"'\"+str(start_year-2)+r\"-01-01'\"\n",
    "    \n",
    "    for i in range(1,13):\n",
    "        if i < 10:\n",
    "            start_date = r\"'\"+str(start_year-1)+r\"-0\"+str(i)+r\"-01'\"\n",
    "            end_date = r\"'\"+str(start_year)+r\"-0\"+str(i)+r\"-01'\"\n",
    "        else:\n",
    "            start_date = r\"'\"+str(start_year-1)+r\"-\"+str(i)+r\"-01'\"\n",
    "            end_date = r\"'\"+str(start_year)+r\"-\"+str(i)+r\"-01'\"\n",
    "\n",
    "        sql_query_researcher = \"select user from toolstart where user in \" + str(tuple(researcher_usernames))\\\n",
    "            +\" and datetime <= \"+end_date+\" and datetime >= \"+start_date\n",
    "        researcher_users = pd.read_sql_query(sql_query_researcher, nanohub_metrics_db)\n",
    "        #print('date'+str(start_date)+ 'research_users partial',researcher_users.drop_duplicates()[0:10])\n",
    "        #print('date'+str(start_date)+ 'research_users =',len(researcher_users.drop_duplicates()))\n",
    "        \n",
    "        #researcher_track contains the number of users in this specific month \n",
    "        researcher_track.append(researcher_users.drop_duplicates().shape[0])\n",
    "\n",
    "        sql_query_self_identified = \"select user from toolstart where user in \" + str(tuple(self_identified_usernames))\\\n",
    "            +\" and datetime <= \"+end_date+\" and datetime >= \"+start_date\n",
    "        self_identified_users = pd.read_sql_query(sql_query_self_identified, nanohub_metrics_db)\n",
    "        #print('date'+str(start_date)+ 'self_identified_users partial',self_identified_users.drop_duplicates()[0:10])\n",
    "        #print('date'+str(start_date)+ 'self_identified_users =',len(self_identified_users.drop_duplicates()))\n",
    "        \n",
    "        #self_identified_track contains the number of users in this specific month \n",
    "        self_identified_track.append(self_identified_users.drop_duplicates().shape[0])\n",
    "        #print('start date',start_date)\n",
    "        #display(researcher_track)\n",
    "        \n",
    "        \n",
    "        sql_query_self = \"select user from toolstart where user in \" + str(tuple(self_study_usernames))\\\n",
    "            +\" and user != 'instanton' and user != 'gridstat' and datetime <= \"+end_date+\" and datetime >= \"+start_date\n",
    "        self2_users = pd.read_sql_query(sql_query_self, nanohub_metrics_db) #engine_metrics #.drop_duplicates()\n",
    "        #print('date'+str(start_date)+ 'self2_users partial',self2_users.drop_duplicates()[0:10])\n",
    "        #print('date'+str(start_date)+ 'self2_users =',len(self2_users.drop_duplicates()))\n",
    "        self2_track.append(self2_users.drop_duplicates().shape[0])        \n",
    "     \n",
    "        # query for any job start activity and therefore not examin all registered users.\n",
    "        sql_query_simtotal = \"select user from toolstart where datetime <= \"+end_date+\" and datetime >= \"+start_date\n",
    "        simtotal_users = pd.read_sql_query(sql_query_simtotal, nanohub_metrics_db) #engine_metrics #.drop_duplicates()\n",
    "        #print('date'+str(start_date)+ 'simtotal_users partial',simtotal_users.drop_duplicates()[0:10])\n",
    "        #print('date'+str(start_date)+ 'simtotal_users =',len(simtotal_users.drop_duplicates()))\n",
    "        simtotal_track.append(simtotal_users.drop_duplicates().shape[0])        \n",
    "        \n",
    "        print('date'+str(start_date)+ 'total =',len(simtotal_users.drop_duplicates()), \\\n",
    "             'self2_users =',len(self2_users.drop_duplicates()), \\\n",
    "             'researcher_users =',len(researcher_users.drop_duplicates()), \\\n",
    "             'self_identified_users =',len(self_identified_users.drop_duplicates())     )\n",
    "        #print('simtotal_track=',simtotal_track)\n",
    "        #print('self2_track =',self2_track)\n",
    "        #print('researcher_track',researcher_track)\n",
    "        \n",
    "\n",
    "    print('start year: '+ str(start_year))\n",
    "    #display(researcher_track)\n",
    "    #display(researcher_track)\n",
    "    \n",
    "    cache_r_track = pd.DataFrame()\n",
    "    cache_r_track['track'] = researcher_track\n",
    "    cache_r_track.to_csv(cwd+'/cached_data/researcher_track.csv')\n",
    "    cache_r_track.to_csv(cwd+'/cached_data/'+ str(start_year)+'_researcher_track.csv')\n",
    "    cache_r_track = []\n",
    "    \n",
    "    cache_si_track = pd.DataFrame()\n",
    "    cache_si_track['track'] = self_identified_track\n",
    "    cache_si_track.to_csv(cwd+'/cached_data/self_identified_track.csv')\n",
    "    cache_si_track.to_csv(cwd+'/cached_data/'+ str(start_year)+'_self_identified_track.csv')\n",
    "    cache_si_track = []\n",
    "    \n",
    "    cache_s2_track = pd.DataFrame()\n",
    "    cache_s2_track['track'] = self2_track\n",
    "    cache_s2_track.to_csv(cwd+'/cached_data/self2_track.csv')\n",
    "    cache_s2_track.to_csv(cwd+'/cached_data/'+ str(start_year)+'_self2_track.csv')\n",
    "    cache_s2_track = []\n",
    "    \n",
    "    cache_simtotal_track = pd.DataFrame()\n",
    "    cache_simtotal_track['track'] = simtotal_track\n",
    "    cache_simtotal_track.to_csv(cwd+'/cached_data/simtotal_track.csv')\n",
    "    cache_simtotal_track.to_csv(cwd+'/cached_data/'+ str(start_year)+'_simtotal_track.csv')\n",
    "    cache_simtotal_track = []\n",
    "    \n",
    "    "
   ]
  },
  {
   "cell_type": "code",
   "execution_count": null,
   "metadata": {
    "execution": {
     "iopub.status.busy": "2022-02-22T01:49:54.237265Z",
     "iopub.status.idle": "2022-02-22T01:49:54.241650Z",
     "shell.execute_reply": "2022-02-22T01:49:54.239333Z",
     "shell.execute_reply.started": "2022-02-22T01:49:54.239266Z"
    },
    "tags": []
   },
   "outputs": [],
   "source": [
    "## filter the self study folks against those of researchers\n",
    "# need to pull the researcher sf ids"
   ]
  },
  {
   "cell_type": "code",
   "execution_count": null,
   "metadata": {
    "tags": []
   },
   "outputs": [],
   "source": []
  },
  {
   "cell_type": "code",
   "execution_count": null,
   "metadata": {
    "execution": {
     "iopub.status.busy": "2022-02-22T01:49:54.243730Z",
     "iopub.status.idle": "2022-02-22T01:49:54.247958Z",
     "shell.execute_reply": "2022-02-22T01:49:54.247345Z",
     "shell.execute_reply.started": "2022-02-22T01:49:54.247227Z"
    },
    "tags": []
   },
   "outputs": [],
   "source": [
    "sf_contact_ids = contacts_df['nanoHUB_user_ID__c'][sf_self_study]"
   ]
  },
  {
   "cell_type": "code",
   "execution_count": null,
   "metadata": {
    "execution": {
     "iopub.status.busy": "2022-02-22T01:49:54.250460Z",
     "iopub.status.idle": "2022-02-22T01:49:54.253933Z",
     "shell.execute_reply": "2022-02-22T01:49:54.253610Z",
     "shell.execute_reply.started": "2022-02-22T01:49:54.253405Z"
    },
    "tags": []
   },
   "outputs": [],
   "source": [
    "sf_contact_ids = sf_contact_ids.reset_index()\n",
    "sf_contact_ids = sf_contact_ids.drop(columns='index')\n",
    "display(sf_contact_ids)"
   ]
  },
  {
   "cell_type": "code",
   "execution_count": null,
   "metadata": {
    "execution": {
     "iopub.status.busy": "2022-02-22T01:49:54.257782Z",
     "iopub.status.idle": "2022-02-22T01:49:54.259526Z",
     "shell.execute_reply": "2022-02-22T01:49:54.258907Z",
     "shell.execute_reply.started": "2022-02-22T01:49:54.258670Z"
    },
    "tags": []
   },
   "outputs": [],
   "source": [
    "tuple(sf_contact_ids['nanoHUB_user_ID__c'])[:5]"
   ]
  },
  {
   "cell_type": "code",
   "execution_count": null,
   "metadata": {
    "execution": {
     "iopub.status.busy": "2022-02-22T01:49:54.261671Z",
     "iopub.status.idle": "2022-02-22T01:49:54.265252Z",
     "shell.execute_reply": "2022-02-22T01:49:54.264028Z",
     "shell.execute_reply.started": "2022-02-22T01:49:54.263984Z"
    },
    "tags": []
   },
   "outputs": [],
   "source": [
    "tuple(self_study_NH_ids.dropna().to_list())[:5]"
   ]
  },
  {
   "cell_type": "code",
   "execution_count": null,
   "metadata": {
    "execution": {
     "iopub.status.busy": "2022-02-22T01:49:54.268142Z",
     "iopub.status.idle": "2022-02-22T01:49:54.271064Z",
     "shell.execute_reply": "2022-02-22T01:49:54.270454Z",
     "shell.execute_reply.started": "2022-02-22T01:49:54.270181Z"
    },
    "tags": []
   },
   "outputs": [],
   "source": [
    "## loading in toolstart"
   ]
  },
  {
   "cell_type": "code",
   "execution_count": null,
   "metadata": {
    "execution": {
     "iopub.status.busy": "2022-02-22T01:49:54.274506Z",
     "iopub.status.idle": "2022-02-22T01:49:54.277510Z",
     "shell.execute_reply": "2022-02-22T01:49:54.276800Z",
     "shell.execute_reply.started": "2022-02-22T01:49:54.276726Z"
    },
    "tags": []
   },
   "outputs": [],
   "source": [
    "# clustered user usernames\n",
    "tc_query = 'select id,username from jos_users where id in ' +str(tuple(clustered_NH_ids))\n",
    "clustered_NH_username = pd.read_sql_query(tc_query,nanohub_db)\n",
    "display(len(clustered_NH_username))\n",
    "\n",
    "tc_query = 'select id,username from jos_users where id in ' +str(tuple(mike_clustered_NH_ids))\n",
    "mike_clustered_NH_username = pd.read_sql_query(tc_query,nanohub_db)\n",
    "display(len(mike_clustered_NH_username))\n",
    "\n",
    "tc_query = 'select id,username from jos_users where id in ' +str(tuple(xufeng_clustered_NH_ids))\n",
    "xufeng_clustered_NH_username = pd.read_sql_query(tc_query,nanohub_db)\n",
    "display(len(xufeng_clustered_NH_username))\n",
    "\n",
    "tc_query = 'select id,username from jos_users where id in ' +str(tuple(mike_xufeng_clustered_NH_ids))\n",
    "mike_xufeng_clustered_NH_username = pd.read_sql_query(tc_query,nanohub_db)\n",
    "display(len(mike_xufeng_clustered_NH_username))\n",
    "\n"
   ]
  },
  {
   "cell_type": "code",
   "execution_count": null,
   "metadata": {
    "execution": {
     "iopub.status.busy": "2022-02-22T01:49:54.282386Z",
     "iopub.status.idle": "2022-02-22T01:49:54.284154Z",
     "shell.execute_reply": "2022-02-22T01:49:54.282990Z",
     "shell.execute_reply.started": "2022-02-22T01:49:54.282959Z"
    },
    "tags": []
   },
   "outputs": [],
   "source": [
    "## self study user usernames\n",
    "#ts_query = 'select id,username from jos_users where id in ' + str(tuple(self_study_NH_ids.dropna().to_list())) \n",
    "##sf_contact_ids['nanoHUB_user_ID__c']))\n",
    "#ss_NH_username = pd.read_sql_query(ts_query,nanohub_db)"
   ]
  },
  {
   "cell_type": "code",
   "execution_count": null,
   "metadata": {
    "execution": {
     "iopub.status.busy": "2022-02-22T01:49:54.287180Z",
     "iopub.status.idle": "2022-02-22T01:49:54.290509Z",
     "shell.execute_reply": "2022-02-22T01:49:54.290106Z",
     "shell.execute_reply.started": "2022-02-22T01:49:54.289761Z"
    },
    "tags": []
   },
   "outputs": [],
   "source": [
    "## cache the researchers, self-study, and clustered users\n",
    "cache_r_nhid = pd.DataFrame()\n",
    "cache_r_nhid['nhid'] = researcher_ids\n",
    "\n",
    "cache_si_nhid = pd.DataFrame()\n",
    "cache_si_nhid['nhid'] = self_identified_NH_ids.to_list()\n",
    "\n",
    "cache_ss_nhid = pd.DataFrame()\n",
    "cache_ss_nhid['nhid'] = ss_NH_username['id']\n",
    "cache_ss_nhid['username'] = ss_NH_username['username']\n",
    "\n",
    "cache_c_nhid = pd.DataFrame()\n",
    "cache_c_nhid['nhid'] = clustered_NH_username['id']\n",
    "cache_c_nhid['username'] = clustered_NH_username['username']\n",
    "\n",
    "cache_cm_nhid = pd.DataFrame()\n",
    "cache_cm_nhid['nhid'] = mike_clustered_NH_username['id']\n",
    "cache_cm_nhid['username'] = mike_clustered_NH_username['username']\n",
    "\n",
    "cache_cx_nhid = pd.DataFrame()\n",
    "cache_cx_nhid['nhid'] = xufeng_clustered_NH_username['id']\n",
    "cache_cx_nhid['username'] = xufeng_clustered_NH_username['username']\n",
    "\n",
    "cache_cmx_nhid = pd.DataFrame()\n",
    "cache_cmx_nhid['nhid'] = mike_xufeng_clustered_NH_username['id']\n",
    "cache_cmx_nhid['username'] = mike_xufeng_clustered_NH_username['username']"
   ]
  },
  {
   "cell_type": "code",
   "execution_count": null,
   "metadata": {
    "execution": {
     "iopub.status.busy": "2022-02-22T01:49:54.295392Z",
     "iopub.status.idle": "2022-02-22T01:49:54.300470Z",
     "shell.execute_reply": "2022-02-22T01:49:54.299741Z",
     "shell.execute_reply.started": "2022-02-22T01:49:54.299664Z"
    },
    "tags": []
   },
   "outputs": [],
   "source": [
    "print(cache_r_nhid.head(2))\n",
    "print(cache_si_nhid.head(2))\n",
    "print(cache_ss_nhid.head(2))\n",
    "print(cache_c_nhid.head(2))\n",
    "print(cache_cm_nhid.head(2))\n",
    "print(cache_cx_nhid.head(2))\n",
    "print(cache_cmx_nhid.head(2))"
   ]
  },
  {
   "cell_type": "code",
   "execution_count": null,
   "metadata": {
    "execution": {
     "iopub.status.busy": "2022-02-22T01:49:54.303889Z",
     "iopub.status.idle": "2022-02-22T01:49:54.307240Z",
     "shell.execute_reply": "2022-02-22T01:49:54.305939Z",
     "shell.execute_reply.started": "2022-02-22T01:49:54.305517Z"
    },
    "tags": []
   },
   "outputs": [],
   "source": [
    "cache_r_nhid.to_csv(cwd+'/cached_data/researcher_ids.csv')\n",
    "cache_si_nhid.to_csv(cwd+'/cached_data/self_identified_ids.csv')\n",
    "cache_ss_nhid.to_csv(cwd+'/cached_data/ss_ids.csv')\n",
    "cache_c_nhid.to_csv(cwd+'/cached_data/class_ids.csv')\n",
    "cache_cm_nhid.to_csv(cwd+'/cached_data/class_m_ids.csv')\n",
    "cache_cx_nhid.to_csv(cwd+'/cached_data/class_x_ids.csv')\n",
    "cache_cmx_nhid.to_csv(cwd+'/cached_data/class_mx_ids.csv')"
   ]
  },
  {
   "cell_type": "code",
   "execution_count": null,
   "metadata": {},
   "outputs": [],
   "source": []
  },
  {
   "cell_type": "code",
   "execution_count": null,
   "metadata": {
    "execution": {
     "iopub.status.busy": "2022-02-22T01:49:54.315353Z",
     "iopub.status.idle": "2022-02-22T01:49:54.320631Z",
     "shell.execute_reply": "2022-02-22T01:49:54.319986Z",
     "shell.execute_reply.started": "2022-02-22T01:49:54.319863Z"
    },
    "tags": []
   },
   "outputs": [],
   "source": [
    "# clustered_NH_username2;researcher_NH_username2;self_NH_username2\n",
    "clustered_track = []\n",
    "clustered_m_track = []\n",
    "clustered_x_track = []\n",
    "clustered_mx_track = []\n",
    "self_track = []\n",
    "\n",
    "# clustered_track_per = []\n",
    "# self_track_per = []\n",
    "# researcher_track_per = []"
   ]
  },
  {
   "cell_type": "code",
   "execution_count": null,
   "metadata": {
    "execution": {
     "iopub.status.busy": "2022-02-22T01:49:54.324771Z",
     "iopub.status.idle": "2022-02-22T01:49:54.327591Z",
     "shell.execute_reply": "2022-02-22T01:49:54.327144Z",
     "shell.execute_reply.started": "2022-02-22T01:49:54.327090Z"
    },
    "tags": []
   },
   "outputs": [],
   "source": [
    "ss_NH_username.shape #old"
   ]
  },
  {
   "cell_type": "code",
   "execution_count": null,
   "metadata": {},
   "outputs": [],
   "source": []
  },
  {
   "cell_type": "code",
   "execution_count": null,
   "metadata": {
    "execution": {
     "iopub.status.busy": "2022-02-22T01:49:54.335899Z",
     "iopub.status.idle": "2022-02-22T01:49:54.338193Z",
     "shell.execute_reply": "2022-02-22T01:49:54.337542Z",
     "shell.execute_reply.started": "2022-02-22T01:49:54.337122Z"
    },
    "tags": []
   },
   "outputs": [],
   "source": [
    "## computer has memory limits, so split toolstart into branches\n",
    "start_year = deepcopy(start_year_base)\n",
    "\n",
    "while start_year < today.year+1:\n",
    "    start_year += 1\n",
    "    \n",
    "    for i in range(1,13):\n",
    "        if i < 10:\n",
    "            start_date = r\"'\"+str(start_year-1)+r\"-0\"+str(i)+r\"-01'\"\n",
    "            end_date = r\"'\"+str(start_year)+r\"-0\"+str(i)+r\"-01'\"\n",
    "        else:\n",
    "            start_date = r\"'\"+str(start_year-1)+r\"-\"+str(i)+r\"-01'\"\n",
    "            end_date = r\"'\"+str(start_year)+r\"-\"+str(i)+r\"-01'\"\n",
    "        \n",
    "#         sql_query_clustered = \"select user from toolstart where user in \" + str(tuple(clustered_NH_username2['username']))\\\n",
    "#             +\" and datetime <= \"+end_date+\" and datetime >= \"+start_date\n",
    "        sql_query_clustered = \"select user from toolstart where user in \" + str(tuple(clustered_NH_username['username']))\\\n",
    "            +\" and datetime <= \"+end_date+\" and datetime >= \"+start_date\n",
    "        clustered_users = pd.read_sql_query(sql_query_clustered, nanohub_metrics_db)\n",
    "        \n",
    "        sql_query_m_clustered = \"select user from toolstart where user in \" + str(tuple(mike_clustered_NH_username['username']))\\\n",
    "            +\" and datetime <= \"+end_date+\" and datetime >= \"+start_date\n",
    "        clustered_m_users = pd.read_sql_query(sql_query_m_clustered, nanohub_metrics_db)\n",
    "        \n",
    "        sql_query_x_clustered = \"select user from toolstart where user in \" + str(tuple(xufeng_clustered_NH_username['username']))\\\n",
    "            +\" and datetime <= \"+end_date+\" and datetime >= \"+start_date\n",
    "        clustered_x_users = pd.read_sql_query(sql_query_x_clustered, nanohub_metrics_db)\n",
    "        \n",
    "        sql_query_mx_clustered = \"select user from toolstart where user in \" + str(tuple(mike_xufeng_clustered_NH_username['username']))\\\n",
    "            +\" and datetime <= \"+end_date+\" and datetime >= \"+start_date\n",
    "        clustered_mx_users = pd.read_sql_query(sql_query_mx_clustered, nanohub_metrics_db)\n",
    "        \n",
    "        \n",
    "#         sql_query_self = \"select user from toolstart where user in \" + str(tuple(self_NH_username2['username']))\\\n",
    "#             +\" and user != 'instanton' and user != 'gridstat' and datetime <= \"+end_date+\" and datetime >= \"+start_date\n",
    "        sql_query_self = \"select user from toolstart where user in \" + str(tuple(self_study_usernames))\\\n",
    "            +\" and user != 'instanton' and user != 'gridstat' and datetime <= \"+end_date+\" and datetime >= \"+start_date\n",
    "        self_users = pd.read_sql_query(sql_query_self, nanohub_metrics_db) #engine_metrics #.drop_duplicates()\n",
    "        \n",
    "        clustered_track.append(clustered_users.drop_duplicates().shape[0])\n",
    "        clustered_m_track.append(clustered_m_users.drop_duplicates().shape[0])\n",
    "        clustered_x_track.append(clustered_x_users.drop_duplicates().shape[0])\n",
    "        clustered_mx_track.append(clustered_mx_users.drop_duplicates().shape[0])\n",
    "        self_track.append(self_users.drop_duplicates().shape[0])\n",
    "#         print('start_date: '+start_date)\n",
    "#         print('end_date: '+end_date)  \n",
    "    print('start year: '+str(start_year))\n",
    "    cache_clustered_track = pd.DataFrame()\n",
    "    cache_clustered_track['track'] = clustered_track\n",
    "    cache_clustered_track.to_csv(cwd+'/cached_data/clustered_track.csv')\n",
    "    cache_clustered_track = []\n",
    "    \n",
    "    cache_clustered_m_track = pd.DataFrame()\n",
    "    cache_clustered_m_track['track'] = clustered_m_track\n",
    "    cache_clustered_m_track.to_csv(cwd+'/cached_data/clustered_m_track.csv')\n",
    "    cache_clustered_m_track = []\n",
    "\n",
    "    cache_clustered_x_track = pd.DataFrame()\n",
    "    cache_clustered_x_track['track'] = clustered_x_track\n",
    "    cache_clustered_x_track.to_csv(cwd+'/cached_data/clustered_x_track.csv')\n",
    "    cache_clustered_x_track = []\n",
    "\n",
    "    cache_clustered_mx_track = pd.DataFrame()\n",
    "    cache_clustered_mx_track['track'] = clustered_mx_track\n",
    "    cache_clustered_mx_track.to_csv(cwd+'/cached_data/clustered_mx_track.csv')\n",
    "    cache_clustered_mx_track = []\n",
    "\n",
    "    cache_self_track = pd.DataFrame()\n",
    "    cache_self_track['track'] = self_track\n",
    "    cache_self_track.to_csv(cwd+'/cached_data/self_track.csv')\n",
    "    cache_self_track = []\n",
    "\n",
    "    "
   ]
  },
  {
   "cell_type": "code",
   "execution_count": null,
   "metadata": {},
   "outputs": [],
   "source": []
  },
  {
   "cell_type": "code",
   "execution_count": null,
   "metadata": {
    "execution": {
     "iopub.status.busy": "2022-02-22T01:49:54.342428Z",
     "iopub.status.idle": "2022-02-22T01:49:54.344206Z",
     "shell.execute_reply": "2022-02-22T01:49:54.343613Z",
     "shell.execute_reply.started": "2022-02-22T01:49:54.343565Z"
    },
    "tags": []
   },
   "outputs": [],
   "source": [
    "# all_months_list = list()\n",
    "# for this_year in range(start_year_base+1,today.year+2):\n",
    "#     if cache_flag == True:\n",
    "#         for this_month in range(1,today.month+1):\n",
    "#             all_months_list.append(datetime.datetime(this_year, this_month, 1))\n",
    "#     else:\n",
    "#         for this_month in range(1,12+1):\n",
    "#             all_months_list.append(datetime.datetime(this_year, this_month, 1))"
   ]
  },
  {
   "cell_type": "code",
   "execution_count": null,
   "metadata": {
    "execution": {
     "iopub.status.busy": "2022-02-22T01:49:54.350003Z",
     "iopub.status.idle": "2022-02-22T01:49:54.352683Z",
     "shell.execute_reply": "2022-02-22T01:49:54.352375Z",
     "shell.execute_reply.started": "2022-02-22T01:49:54.352186Z"
    },
    "tags": []
   },
   "outputs": [],
   "source": [
    "print(len(clustered_track))\n",
    "print(len(clustered_m_track))\n",
    "print(len(clustered_x_track))\n",
    "print(len(clustered_mx_track))\n",
    "print(len(all_months_list))\n",
    "print(len(researcher_track))"
   ]
  },
  {
   "cell_type": "code",
   "execution_count": null,
   "metadata": {
    "execution": {
     "iopub.status.busy": "2022-02-22T01:49:54.354993Z",
     "iopub.status.idle": "2022-02-22T01:49:54.359004Z",
     "shell.execute_reply": "2022-02-22T01:49:54.358599Z",
     "shell.execute_reply.started": "2022-02-22T01:49:54.358534Z"
    },
    "tags": []
   },
   "outputs": [],
   "source": [
    "#print(user_breakdown_df2.head())"
   ]
  },
  {
   "cell_type": "code",
   "execution_count": null,
   "metadata": {
    "execution": {
     "iopub.status.busy": "2022-02-22T01:49:54.363600Z",
     "iopub.status.idle": "2022-02-22T01:49:54.368860Z",
     "shell.execute_reply": "2022-02-22T01:49:54.368241Z",
     "shell.execute_reply.started": "2022-02-22T01:49:54.368076Z"
    },
    "tags": []
   },
   "outputs": [],
   "source": [
    "\n",
    "if cache_flag == True:\n",
    "    user_breakdown_df2 = pd.DataFrame()\n",
    "    user_breakdown_df2['year_month'] = all_months_list\n",
    "    user_breakdown_df2['clustered_track'] = clustered_track\n",
    "    user_breakdown_df2['clustered_m_track'] = clustered_m_track\n",
    "    user_breakdown_df2['clustered_x_track'] = clustered_x_track\n",
    "    user_breakdown_df2['clustered_mx_track'] = clustered_mx_track\n",
    "    user_breakdown_df2['self_identified_track'] = self_identified_track\n",
    "    user_breakdown_df2['self_track'] = self_track\n",
    "    user_breakdown_df2['researcher_track'] = researcher_track\n",
    "    \n",
    "    user_breakdown_df = pd.concat([user_breakdown_df, user_breakdown_df2], ignore_index=True)\n",
    "    display(user_breakdown_df.head(2))\n",
    "else:\n",
    "    user_breakdown_df = pd.DataFrame()\n",
    "    if today.month == 12:\n",
    "        user_breakdown_df['year_month'] = all_months_list #months_bin['year_month'].to_list()[13:]\n",
    "        user_breakdown_df['clustered_track'] = clustered_track#[:len(all_months_list)]\n",
    "        user_breakdown_df['clustered_m_track'] = clustered_m_track#[:len(all_months_list)]\n",
    "        user_breakdown_df['clustered_x_track'] = clustered_x_track#[:len(all_months_list)]\n",
    "        user_breakdown_df['clustered_mx_track'] = clustered_mx_track#[:len(all_months_list)]\n",
    "        user_breakdown_df['self_identified_track'] = self_identified_track\n",
    "        user_breakdown_df['self_track'] = self_track#[:len(all_months_list)]\n",
    "        user_breakdown_df['researcher_track'] = researcher_track#[:len(all_months_list)]        \n",
    "    else:\n",
    "        user_breakdown_df['year_month'] = all_months_list #-(12-today.month)\n",
    "        user_breakdown_df['clustered_track'] = clustered_track#[:len(all_months_list[:])]\n",
    "        user_breakdown_df['clustered_m_track'] = clustered_m_track#[:len(all_months_list[:])]\n",
    "        user_breakdown_df['clustered_x_track'] = clustered_x_track#[:len(all_months_list[:])]\n",
    "        user_breakdown_df['clustered_mx_track'] = clustered_mx_track#[:len(all_months_list[:])]\n",
    "        user_breakdown_df['self_identified_track'] = self_identified_track\n",
    "        user_breakdown_df['self_track'] = self_track#[:len(all_months_list[:])]\n",
    "        user_breakdown_df['researcher_track'] = researcher_track#[:len(all_months_list[:])]\n",
    "    display(user_breakdown_df.head(2))"
   ]
  },
  {
   "cell_type": "code",
   "execution_count": null,
   "metadata": {
    "execution": {
     "iopub.status.busy": "2022-02-22T01:49:54.374805Z",
     "iopub.status.idle": "2022-02-22T01:49:54.376187Z",
     "shell.execute_reply": "2022-02-22T01:49:54.375673Z",
     "shell.execute_reply.started": "2022-02-22T01:49:54.375629Z"
    },
    "tags": []
   },
   "outputs": [],
   "source": [
    "# user_breakdown_df.to_csv(cwd+'/cached_data/temp.csv')"
   ]
  },
  {
   "cell_type": "code",
   "execution_count": null,
   "metadata": {
    "execution": {
     "iopub.status.busy": "2022-02-22T01:49:54.380379Z",
     "iopub.status.idle": "2022-02-22T01:49:54.393456Z",
     "shell.execute_reply": "2022-02-22T01:49:54.393191Z",
     "shell.execute_reply.started": "2022-02-22T01:49:54.393144Z"
    },
    "tags": []
   },
   "outputs": [],
   "source": [
    "import re"
   ]
  },
  {
   "cell_type": "code",
   "execution_count": null,
   "metadata": {
    "execution": {
     "iopub.status.busy": "2022-02-22T01:49:54.395289Z",
     "iopub.status.idle": "2022-02-22T01:49:54.396374Z",
     "shell.execute_reply": "2022-02-22T01:49:54.396058Z",
     "shell.execute_reply.started": "2022-02-22T01:49:54.396025Z"
    },
    "tags": []
   },
   "outputs": [],
   "source": [
    "## read the dev_flags.txt to determine where to save\n",
    "with open(cwd+'/dev_flags.txt','r') as f:\n",
    "    raw_flags = f.read()\n",
    "flag_pattern = re.compile(r'= \\w+')\n",
    "flags1 = re.findall(flag_pattern,raw_flags)    \n",
    "flags_result = [i[2:] for i in flags1]\n",
    "dev_flag = flags_result[0]\n",
    "prod_flag = flags_result[1]"
   ]
  },
  {
   "cell_type": "code",
   "execution_count": null,
   "metadata": {
    "execution": {
     "iopub.status.busy": "2022-02-22T01:49:54.403490Z",
     "iopub.status.idle": "2022-02-22T01:49:54.409431Z",
     "shell.execute_reply": "2022-02-22T01:49:54.409060Z",
     "shell.execute_reply.started": "2022-02-22T01:49:54.408977Z"
    },
    "tags": []
   },
   "outputs": [],
   "source": [
    "import seaborn as sns\n",
    "import matplotlib.pyplot as plt\n",
    "sns.set()\n",
    "sns.set_style(\"whitegrid\")\n",
    "\n",
    "plt.figure(figsize=(9,6))\n",
    "# user_breakdown_df2 = user_breakdown_df.iloc[:-(12-today.month),:]\n",
    "user_breakdown_df2 = user_breakdown_df.iloc[:-12-(12-today.month),:]\n",
    "plt.stackplot(user_breakdown_df2.year_month, \\\n",
    "#               user_breakdown_df2[['clustered_track','self_track']].to_numpy().T, \\\n",
    "#              labels=['Classroom', 'Unclassified'], \\\n",
    "#              colors=['green', 'orange']); #Self-study              \n",
    "              user_breakdown_df2[['clustered_m_track', 'clustered_mx_track', 'clustered_x_track', 'researcher_track','self_identified_track','self_track']].to_numpy().T, \\\n",
    "             labels=['Classroom M','Classroom MX','Classroom X','Research', 'Researcher','Unclassified'], \\\n",
    "             colors=['lawngreen','green', 'yellowgreen','red', 'fuchsia','orange']); #Self-study\n",
    "\n",
    "plt.legend(loc='upper left')#,fontsize=14);\n",
    "plt.ylabel('12-month Trailing Total')#,fontsize=15)\n",
    "plt.xlim([datetime.datetime(2001,1,1), datetime.datetime(2021,7,1)])#,fontsize=15)\n",
    "# plt.show()\n",
    "\n",
    "if dev_flag == 'True':\n",
    "    plt.savefig(cwd+'/plots_local/300_simusers_class_res_unclass_12months_GK.eps', dpi=300, bbox_inches='tight')\n",
    "    plt.savefig(cwd+'/plots_local/300_simusers_class_res_unclass_12months_GK.pdf', dpi=300, bbox_inches='tight')\n",
    "    plt.savefig(cwd+'/plots_local/300_simusers_class_res_unclass_12months_GK.png', dpi=300, bbox_inches='tight')\n",
    "elif prod_flag == 'True':\n",
    "    plt.savefig(cwd+'/plots_production/300_simusers_class_res_unclass_12months_GK.eps', dpi=300, bbox_inches='tight')\n",
    "    plt.savefig(cwd+'/plots_production/300_simusers_class_res_unclass_12months_GK.pdf', dpi=300, bbox_inches='tight')\n",
    "    plt.savefig(cwd+'/plots_production/300_simusers_class_res_unclass_12months_GK.png', dpi=300, bbox_inches='tight')\n",
    "else:\n",
    "    print('no printing flag is active')"
   ]
  },
  {
   "cell_type": "code",
   "execution_count": null,
   "metadata": {
    "execution": {
     "iopub.status.busy": "2022-02-22T01:49:54.411699Z",
     "iopub.status.idle": "2022-02-22T01:49:54.413532Z",
     "shell.execute_reply": "2022-02-22T01:49:54.412986Z",
     "shell.execute_reply.started": "2022-02-22T01:49:54.412453Z"
    },
    "tags": []
   },
   "outputs": [],
   "source": [
    "total = user_breakdown_df2['clustered_track'].to_numpy()+user_breakdown_df2['researcher_track'].to_numpy()+\\\n",
    "                        user_breakdown_df2['self_track'].to_numpy() + user_breakdown_df2['self_identified_track'].to_numpy()\n",
    "display(len(total))\n",
    "user_breakdown_df2['clustered_track_per'] = 100*np.divide(user_breakdown_df2['clustered_track'],total)\n",
    "user_breakdown_df2['self_identified_track_per'] = 100*np.divide(user_breakdown_df2['self_identified_track'], total)\n",
    "user_breakdown_df2['researcher_track_per'] = 100*np.divide(user_breakdown_df2['researcher_track'], total)\n",
    "user_breakdown_df2['self_track_per'] = 100*np.divide(user_breakdown_df2['self_track'], total)"
   ]
  },
  {
   "cell_type": "code",
   "execution_count": null,
   "metadata": {
    "execution": {
     "iopub.status.busy": "2022-02-22T01:49:54.416137Z",
     "iopub.status.idle": "2022-02-22T01:49:54.417730Z",
     "shell.execute_reply": "2022-02-22T01:49:54.417280Z",
     "shell.execute_reply.started": "2022-02-22T01:49:54.416950Z"
    },
    "tags": []
   },
   "outputs": [],
   "source": [
    "plt.figure(figsize=(9,6))\n",
    "plt.plot(user_breakdown_df2.year_month, user_breakdown_df2.clustered_track_per, label='classroom', \\\n",
    "             color='green');\n",
    "plt.plot(user_breakdown_df2.year_month, user_breakdown_df2.researcher_track_per, label='research', \\\n",
    "             color='red');\n",
    "plt.plot(user_breakdown_df2.year_month, user_breakdown_df2.self_identified_track_per, label='self-identified', \\\n",
    "             color='magenta');\n",
    "plt.plot(user_breakdown_df2.year_month, user_breakdown_df2.self_track_per, label='self-study', \\\n",
    "             color='orange');\n",
    "\n",
    "plt.ylim([0, 100])\n",
    "plt.legend(loc='upper right');\n",
    "plt.ylabel('Percentage (%)');\n",
    "plt.xlim([datetime.datetime(2001,1,1), datetime.datetime(2021,7,1)])\n",
    "# plt.show()\n",
    "\n",
    "if dev_flag == 'True':\n",
    "    plt.savefig(cwd+'/plots_local/300_simusers_class_res_unclass_12months_percent_copied.eps', dpi=300, bbox_inches='tight')\n",
    "    plt.savefig(cwd+'/plots_local/300_simusers_class_res_unclass_12months_percent_copied.pdf', dpi=300, bbox_inches='tight')\n",
    "    plt.savefig(cwd+'/plots_local/300_simusers_class_res_unclass_12months_percent_copied.png', dpi=300, bbox_inches='tight')\n",
    "elif prod_flag == 'True':\n",
    "    plt.savefig(cwd+'/plots_production/300_simusers_class_res_unclass_12months_percent_copied.eps', dpi=300, bbox_inches='tight')\n",
    "    plt.savefig(cwd+'/plots_production/300_simusers_class_res_unclass_12months_percent_copied.pdf', dpi=300, bbox_inches='tight')\n",
    "    plt.savefig(cwd+'/plots_production/300_simusers_class_res_unclass_12months_percent_copied.png', dpi=300, bbox_inches='tight')\n",
    "else:\n",
    "    print('no printing flag is active')"
   ]
  },
  {
   "cell_type": "code",
   "execution_count": null,
   "metadata": {
    "execution": {
     "iopub.status.busy": "2022-02-22T01:49:54.423869Z",
     "iopub.status.idle": "2022-02-22T01:49:54.427124Z",
     "shell.execute_reply": "2022-02-22T01:49:54.426072Z",
     "shell.execute_reply.started": "2022-02-22T01:49:54.425831Z"
    },
    "tags": []
   },
   "outputs": [],
   "source": [
    "user_breakdown_df2.to_csv(cwd+'/cached_data/nh_user_breakdown.csv')"
   ]
  },
  {
   "cell_type": "code",
   "execution_count": null,
   "metadata": {},
   "outputs": [],
   "source": []
  },
  {
   "cell_type": "code",
   "execution_count": null,
   "metadata": {},
   "outputs": [],
   "source": []
  },
  {
   "cell_type": "code",
   "execution_count": null,
   "metadata": {},
   "outputs": [],
   "source": []
  }
 ],
 "metadata": {
  "kernelspec": {
   "display_name": "Python 3 (ipykernel)",
   "language": "python",
   "name": "python3"
  },
  "language_info": {
   "codemirror_mode": {
    "name": "ipython",
    "version": 3
   },
   "file_extension": ".py",
   "mimetype": "text/x-python",
   "name": "python",
   "nbconvert_exporter": "python",
   "pygments_lexer": "ipython3",
   "version": "3.8.10"
  }
 },
 "nbformat": 4,
 "nbformat_minor": 4
}
