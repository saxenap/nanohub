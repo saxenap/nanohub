{
 "cells": [
  {
   "cell_type": "code",
   "execution_count": 1,
   "metadata": {
    "execution": {
     "iopub.execute_input": "2022-02-16T20:43:43.136567Z",
     "iopub.status.busy": "2022-02-16T20:43:43.133090Z",
     "iopub.status.idle": "2022-02-16T20:43:43.144720Z",
     "shell.execute_reply": "2022-02-16T20:43:43.143324Z",
     "shell.execute_reply.started": "2022-02-16T20:43:43.136453Z"
    }
   },
   "outputs": [],
   "source": [
    "## build researcher events, student events, and self-study events\n",
    "## researcher are simply those with NH citations"
   ]
  },
  {
   "cell_type": "code",
   "execution_count": 2,
   "metadata": {
    "execution": {
     "iopub.execute_input": "2022-02-16T20:43:43.148753Z",
     "iopub.status.busy": "2022-02-16T20:43:43.148099Z",
     "iopub.status.idle": "2022-02-16T20:43:43.692604Z",
     "shell.execute_reply": "2022-02-16T20:43:43.690443Z",
     "shell.execute_reply.started": "2022-02-16T20:43:43.148713Z"
    }
   },
   "outputs": [],
   "source": [
    "import sys\n",
    "import pandas as pd\n",
    "import time\n",
    "import datetime"
   ]
  },
  {
   "cell_type": "code",
   "execution_count": 3,
   "metadata": {
    "execution": {
     "iopub.execute_input": "2022-02-16T20:43:43.696870Z",
     "iopub.status.busy": "2022-02-16T20:43:43.695624Z",
     "iopub.status.idle": "2022-02-16T20:43:43.709879Z",
     "shell.execute_reply": "2022-02-16T20:43:43.706138Z",
     "shell.execute_reply.started": "2022-02-16T20:43:43.696814Z"
    }
   },
   "outputs": [],
   "source": [
    "import warnings\n",
    "warnings.filterwarnings('ignore')\n",
    "# warnings.filterwarnings(action='once')\n",
    "warnings.simplefilter(action='ignore', category=FutureWarning)"
   ]
  },
  {
   "cell_type": "code",
   "execution_count": 4,
   "metadata": {
    "execution": {
     "iopub.execute_input": "2022-02-16T20:43:43.715890Z",
     "iopub.status.busy": "2022-02-16T20:43:43.714483Z",
     "iopub.status.idle": "2022-02-16T20:43:46.618715Z",
     "shell.execute_reply": "2022-02-16T20:43:46.615706Z",
     "shell.execute_reply.started": "2022-02-16T20:43:43.715835Z"
    }
   },
   "outputs": [
    {
     "name": "stdout",
     "output_type": "stream",
     "text": [
      "\u001b[1mnanoHUB - Serving Students, Researchers & Instructors\u001b[0m\n",
      "Obtained Salesforce access token ...... True\n"
     ]
    }
   ],
   "source": [
    "from nanoHUB.application import Application\n",
    "\n",
    "application = Application.get_instance()\n",
    "nanohub_db = application.new_db_engine('nanohub')\n",
    "nanohub_metrics_db = application.new_db_engine('nanohub_metrics')\n",
    "wang159_myrmekes_db = application.new_db_engine('rfm_data')\n",
    "\n",
    "salesforce = application.new_salesforce_engine()\n",
    "db_s = salesforce"
   ]
  },
  {
   "cell_type": "markdown",
   "metadata": {},
   "source": [
    "## Figure: active simulation users by geolocation"
   ]
  },
  {
   "cell_type": "code",
   "execution_count": 5,
   "metadata": {
    "execution": {
     "iopub.execute_input": "2022-02-16T20:43:46.626506Z",
     "iopub.status.busy": "2022-02-16T20:43:46.624296Z",
     "iopub.status.idle": "2022-02-16T20:43:46.632736Z",
     "shell.execute_reply": "2022-02-16T20:43:46.630738Z",
     "shell.execute_reply.started": "2022-02-16T20:43:46.626451Z"
    }
   },
   "outputs": [],
   "source": [
    "## need to do iterative importing once again"
   ]
  },
  {
   "cell_type": "code",
   "execution_count": 6,
   "metadata": {
    "execution": {
     "iopub.execute_input": "2022-02-16T20:43:46.640409Z",
     "iopub.status.busy": "2022-02-16T20:43:46.638416Z",
     "iopub.status.idle": "2022-02-16T20:43:46.648689Z",
     "shell.execute_reply": "2022-02-16T20:43:46.647612Z",
     "shell.execute_reply.started": "2022-02-16T20:43:46.638871Z"
    }
   },
   "outputs": [],
   "source": [
    "import os\n",
    "cwd = os.getcwd()"
   ]
  },
  {
   "cell_type": "code",
   "execution_count": 7,
   "metadata": {
    "execution": {
     "iopub.execute_input": "2022-02-16T20:43:46.652588Z",
     "iopub.status.busy": "2022-02-16T20:43:46.651391Z",
     "iopub.status.idle": "2022-02-16T20:43:46.669880Z",
     "shell.execute_reply": "2022-02-16T20:43:46.665628Z",
     "shell.execute_reply.started": "2022-02-16T20:43:46.652545Z"
    }
   },
   "outputs": [],
   "source": [
    "## caching check \n",
    "try:\n",
    "    user_breakdown_df = pd.read_csv(cwd+'/cached_data/geo_nh_user_breakdown.csv')\n",
    "    print(user_breakdown_df)\n",
    "    cache_flag = True\n",
    "except:\n",
    "    cache_flag = False"
   ]
  },
  {
   "cell_type": "code",
   "execution_count": 8,
   "metadata": {
    "execution": {
     "iopub.execute_input": "2022-02-16T20:43:46.672981Z",
     "iopub.status.busy": "2022-02-16T20:43:46.671661Z",
     "iopub.status.idle": "2022-02-16T20:43:46.680988Z",
     "shell.execute_reply": "2022-02-16T20:43:46.679792Z",
     "shell.execute_reply.started": "2022-02-16T20:43:46.672925Z"
    }
   },
   "outputs": [],
   "source": [
    "## determine starting year\n",
    "if cache_flag == False:\n",
    "    start_year_base = 1999 #2000\n",
    "else:\n",
    "#     print('check the saved file')\n",
    "    start_year_base = int(user_breakdown_df['year_month'].to_list()[-1][:4])"
   ]
  },
  {
   "cell_type": "code",
   "execution_count": 9,
   "metadata": {
    "execution": {
     "iopub.execute_input": "2022-02-16T20:43:46.684911Z",
     "iopub.status.busy": "2022-02-16T20:43:46.683305Z",
     "iopub.status.idle": "2022-02-16T20:43:46.702190Z",
     "shell.execute_reply": "2022-02-16T20:43:46.700330Z",
     "shell.execute_reply.started": "2022-02-16T20:43:46.684860Z"
    }
   },
   "outputs": [
    {
     "data": {
      "text/plain": [
       "1999"
      ]
     },
     "execution_count": 9,
     "metadata": {},
     "output_type": "execute_result"
    }
   ],
   "source": [
    "start_year_base"
   ]
  },
  {
   "cell_type": "code",
   "execution_count": 10,
   "metadata": {
    "execution": {
     "iopub.execute_input": "2022-02-16T20:43:46.705461Z",
     "iopub.status.busy": "2022-02-16T20:43:46.704313Z",
     "iopub.status.idle": "2022-02-16T20:43:46.714273Z",
     "shell.execute_reply": "2022-02-16T20:43:46.711662Z",
     "shell.execute_reply.started": "2022-02-16T20:43:46.705414Z"
    }
   },
   "outputs": [],
   "source": [
    "import datetime\n",
    "today = datetime.datetime.today()"
   ]
  },
  {
   "cell_type": "code",
   "execution_count": 11,
   "metadata": {
    "execution": {
     "iopub.execute_input": "2022-02-16T20:43:46.719271Z",
     "iopub.status.busy": "2022-02-16T20:43:46.716719Z",
     "iopub.status.idle": "2022-02-16T20:43:46.730783Z",
     "shell.execute_reply": "2022-02-16T20:43:46.728395Z",
     "shell.execute_reply.started": "2022-02-16T20:43:46.719208Z"
    }
   },
   "outputs": [],
   "source": [
    "all_months_list = list()\n",
    "for this_year in range(start_year_base+1,today.year+2):\n",
    "    if cache_flag == True:\n",
    "        for this_month in range(1,today.month+1):\n",
    "            all_months_list.append(datetime.datetime(this_year, this_month, 1))\n",
    "    else:\n",
    "        for this_month in range(1,12+1):\n",
    "            all_months_list.append(datetime.datetime(this_year, this_month, 1))"
   ]
  },
  {
   "cell_type": "code",
   "execution_count": 12,
   "metadata": {
    "execution": {
     "iopub.execute_input": "2022-02-16T20:43:46.737395Z",
     "iopub.status.busy": "2022-02-16T20:43:46.735986Z",
     "iopub.status.idle": "2022-02-16T20:43:46.752499Z",
     "shell.execute_reply": "2022-02-16T20:43:46.750815Z",
     "shell.execute_reply.started": "2022-02-16T20:43:46.737324Z"
    }
   },
   "outputs": [],
   "source": [
    "country_df = pd.DataFrame()\n",
    "if cache_flag == False:\n",
    "    if today.month != 12:\n",
    "        country_df['year_month'] = all_months_list[:-12-(12-today.month)]"
   ]
  },
  {
   "cell_type": "code",
   "execution_count": 13,
   "metadata": {
    "execution": {
     "iopub.execute_input": "2022-02-16T20:43:46.756183Z",
     "iopub.status.busy": "2022-02-16T20:43:46.754668Z",
     "iopub.status.idle": "2022-02-16T20:43:46.780944Z",
     "shell.execute_reply": "2022-02-16T20:43:46.778800Z",
     "shell.execute_reply.started": "2022-02-16T20:43:46.756072Z"
    }
   },
   "outputs": [
    {
     "data": {
      "text/html": [
       "<div>\n",
       "<style scoped>\n",
       "    .dataframe tbody tr th:only-of-type {\n",
       "        vertical-align: middle;\n",
       "    }\n",
       "\n",
       "    .dataframe tbody tr th {\n",
       "        vertical-align: top;\n",
       "    }\n",
       "\n",
       "    .dataframe thead th {\n",
       "        text-align: right;\n",
       "    }\n",
       "</style>\n",
       "<table border=\"1\" class=\"dataframe\">\n",
       "  <thead>\n",
       "    <tr style=\"text-align: right;\">\n",
       "      <th></th>\n",
       "      <th>year_month</th>\n",
       "    </tr>\n",
       "  </thead>\n",
       "  <tbody>\n",
       "    <tr>\n",
       "      <th>0</th>\n",
       "      <td>2000-01-01</td>\n",
       "    </tr>\n",
       "    <tr>\n",
       "      <th>1</th>\n",
       "      <td>2000-02-01</td>\n",
       "    </tr>\n",
       "    <tr>\n",
       "      <th>2</th>\n",
       "      <td>2000-03-01</td>\n",
       "    </tr>\n",
       "    <tr>\n",
       "      <th>3</th>\n",
       "      <td>2000-04-01</td>\n",
       "    </tr>\n",
       "    <tr>\n",
       "      <th>4</th>\n",
       "      <td>2000-05-01</td>\n",
       "    </tr>\n",
       "    <tr>\n",
       "      <th>...</th>\n",
       "      <td>...</td>\n",
       "    </tr>\n",
       "    <tr>\n",
       "      <th>261</th>\n",
       "      <td>2021-10-01</td>\n",
       "    </tr>\n",
       "    <tr>\n",
       "      <th>262</th>\n",
       "      <td>2021-11-01</td>\n",
       "    </tr>\n",
       "    <tr>\n",
       "      <th>263</th>\n",
       "      <td>2021-12-01</td>\n",
       "    </tr>\n",
       "    <tr>\n",
       "      <th>264</th>\n",
       "      <td>2022-01-01</td>\n",
       "    </tr>\n",
       "    <tr>\n",
       "      <th>265</th>\n",
       "      <td>2022-02-01</td>\n",
       "    </tr>\n",
       "  </tbody>\n",
       "</table>\n",
       "<p>266 rows × 1 columns</p>\n",
       "</div>"
      ],
      "text/plain": [
       "    year_month\n",
       "0   2000-01-01\n",
       "1   2000-02-01\n",
       "2   2000-03-01\n",
       "3   2000-04-01\n",
       "4   2000-05-01\n",
       "..         ...\n",
       "261 2021-10-01\n",
       "262 2021-11-01\n",
       "263 2021-12-01\n",
       "264 2022-01-01\n",
       "265 2022-02-01\n",
       "\n",
       "[266 rows x 1 columns]"
      ]
     },
     "execution_count": 13,
     "metadata": {},
     "output_type": "execute_result"
    }
   ],
   "source": [
    "country_df"
   ]
  },
  {
   "cell_type": "code",
   "execution_count": 14,
   "metadata": {
    "execution": {
     "iopub.execute_input": "2022-02-16T20:43:46.788064Z",
     "iopub.status.busy": "2022-02-16T20:43:46.784369Z",
     "iopub.status.idle": "2022-02-16T20:43:46.801538Z",
     "shell.execute_reply": "2022-02-16T20:43:46.800435Z",
     "shell.execute_reply.started": "2022-02-16T20:43:46.787861Z"
    }
   },
   "outputs": [],
   "source": [
    "usa = []\n",
    "china = []\n",
    "eu = []\n",
    "india = []\n",
    "other = []\n",
    "eu_list = ['BE','BG','EL','CZ','DK','DE','EE','IE','ES','FR','HR','IT','CY','LV',\\\n",
    "          'LT','LU','HU','MT','NL','AT','PL','PT','RO','SI','SK','FI','SE','IS',\\\n",
    "           'NO','LI','CH','UK','ME','MK','AL','RS','TR','BA','XK','AM','AZ','BY',\\\n",
    "           'MD','GE','UA','RU']"
   ]
  },
  {
   "cell_type": "code",
   "execution_count": 15,
   "metadata": {
    "execution": {
     "iopub.execute_input": "2022-02-16T20:43:46.806023Z",
     "iopub.status.busy": "2022-02-16T20:43:46.803574Z",
     "iopub.status.idle": "2022-02-16T20:43:46.812625Z",
     "shell.execute_reply": "2022-02-16T20:43:46.811506Z",
     "shell.execute_reply.started": "2022-02-16T20:43:46.805943Z"
    }
   },
   "outputs": [],
   "source": [
    "from copy import deepcopy\n",
    "import numpy as np"
   ]
  },
  {
   "cell_type": "code",
   "execution_count": 16,
   "metadata": {
    "execution": {
     "iopub.execute_input": "2022-02-16T20:43:46.817823Z",
     "iopub.status.busy": "2022-02-16T20:43:46.815528Z",
     "iopub.status.idle": "2022-02-16T21:31:16.698843Z",
     "shell.execute_reply": "2022-02-16T21:31:16.695469Z",
     "shell.execute_reply.started": "2022-02-16T20:43:46.817762Z"
    }
   },
   "outputs": [
    {
     "name": "stdout",
     "output_type": "stream",
     "text": [
      "2000\n",
      "2001\n",
      "2002\n",
      "2003\n",
      "2004\n",
      "2005\n",
      "2006\n",
      "2007\n",
      "2008\n",
      "2009\n",
      "2010\n",
      "2011\n",
      "2012\n",
      "2013\n",
      "2014\n",
      "2015\n",
      "2016\n",
      "2017\n",
      "2018\n",
      "2019\n",
      "2020\n",
      "2021\n",
      "2022\n",
      "2023\n"
     ]
    }
   ],
   "source": [
    "## computer has memory limits, so split toolstart into branches\n",
    "start_year = deepcopy(start_year_base)\n",
    "\n",
    "while start_year < today.year+1: #datetime.datetime.now().year:\n",
    "    start_year += 1\n",
    "\n",
    "    for i in range(1,13):\n",
    "        if i < 10:\n",
    "            start_date = r\"'\"+str(start_year-1)+r\"-0\"+str(i)+r\"-01'\"\n",
    "            end_date = r\"'\"+str(start_year)+r\"-0\"+str(i)+r\"-01'\"\n",
    "        else:\n",
    "            start_date = r\"'\"+str(start_year-1)+r\"-\"+str(i)+r\"-01'\"\n",
    "            end_date = r\"'\"+str(start_year)+r\"-\"+str(i)+r\"-01'\"\n",
    "\n",
    "        sql_query_country = \"select distinct user, countryip from toolstart where user != 'instanton' \"\\\n",
    "        + \"and user != 'gridstat' and datetime <= \"+end_date+\" and datetime >= \"+start_date\n",
    "        country_users = pd.read_sql_query(sql_query_country, nanohub_metrics_db)#.drop_duplicates()\n",
    "        \n",
    "        # run geography filter\n",
    "        country_ipds = country_users['countryip'].to_list()\n",
    "        \n",
    "        bool_US = np.in1d(np.array(country_ipds),np.array(['US']))\n",
    "        bool_EU = np.in1d(np.array(country_ipds),np.array(eu_list))\n",
    "        bool_CN = np.in1d(np.array(country_ipds),np.array(['CN']))\n",
    "        bool_IN = np.in1d(np.array(country_ipds),np.array(['IN']))\n",
    "#         bool_OT = bool_US | bool_EU | bool_CN | bool_IN\n",
    "        \n",
    "        usa.append(len(np.where(bool_US)[0].tolist()))\n",
    "        eu.append(len(np.where(bool_EU)[0].tolist()))\n",
    "        china.append(len(np.where(bool_CN)[0].tolist()))\n",
    "        india.append(len(np.where(bool_IN)[0].tolist()))\n",
    "        other.append(len(country_ipds)-usa[-1]-eu[-1]-china[-1]-india[-1]) # len(np.where(bool_OT)[0].tolist()))\n",
    "        \n",
    "#         country_users.append(country_users.drop_duplicates().shape[0])\n",
    "\n",
    "    print(start_year)"
   ]
  },
  {
   "cell_type": "code",
   "execution_count": 17,
   "metadata": {
    "execution": {
     "iopub.execute_input": "2022-02-16T21:31:16.701289Z",
     "iopub.status.busy": "2022-02-16T21:31:16.700759Z",
     "iopub.status.idle": "2022-02-16T21:31:16.717177Z",
     "shell.execute_reply": "2022-02-16T21:31:16.715846Z",
     "shell.execute_reply.started": "2022-02-16T21:31:16.701238Z"
    }
   },
   "outputs": [
    {
     "data": {
      "text/plain": [
       "(266, 1)"
      ]
     },
     "execution_count": 17,
     "metadata": {},
     "output_type": "execute_result"
    }
   ],
   "source": [
    "country_df.shape"
   ]
  },
  {
   "cell_type": "code",
   "execution_count": null,
   "metadata": {},
   "outputs": [],
   "source": []
  },
  {
   "cell_type": "code",
   "execution_count": 18,
   "metadata": {
    "execution": {
     "iopub.execute_input": "2022-02-16T21:31:16.722867Z",
     "iopub.status.busy": "2022-02-16T21:31:16.721206Z",
     "iopub.status.idle": "2022-02-16T21:31:16.740065Z",
     "shell.execute_reply": "2022-02-16T21:31:16.738820Z",
     "shell.execute_reply.started": "2022-02-16T21:31:16.722782Z"
    }
   },
   "outputs": [
    {
     "data": {
      "text/plain": [
       "266"
      ]
     },
     "execution_count": 18,
     "metadata": {},
     "output_type": "execute_result"
    }
   ],
   "source": [
    "len(country_df['year_month'].to_list())"
   ]
  },
  {
   "cell_type": "code",
   "execution_count": 19,
   "metadata": {
    "execution": {
     "iopub.execute_input": "2022-02-16T21:31:16.744119Z",
     "iopub.status.busy": "2022-02-16T21:31:16.742725Z",
     "iopub.status.idle": "2022-02-16T21:31:16.760583Z",
     "shell.execute_reply": "2022-02-16T21:31:16.759531Z",
     "shell.execute_reply.started": "2022-02-16T21:31:16.744046Z"
    }
   },
   "outputs": [
    {
     "name": "stdout",
     "output_type": "stream",
     "text": [
      "288\n",
      "266\n"
     ]
    }
   ],
   "source": [
    "print(len(usa))\n",
    "usa2 = usa[12:][:len(country_df['year_month'].to_list())]\n",
    "print(len(usa2))"
   ]
  },
  {
   "cell_type": "code",
   "execution_count": 20,
   "metadata": {
    "execution": {
     "iopub.execute_input": "2022-02-16T21:31:16.766208Z",
     "iopub.status.busy": "2022-02-16T21:31:16.765215Z",
     "iopub.status.idle": "2022-02-16T21:31:16.782472Z",
     "shell.execute_reply": "2022-02-16T21:31:16.779301Z",
     "shell.execute_reply.started": "2022-02-16T21:31:16.765692Z"
    }
   },
   "outputs": [],
   "source": [
    "country_df['USA'] = usa[:len(country_df['year_month'].to_list())]\n",
    "country_df['China'] = china[:len(country_df['year_month'].to_list())]\n",
    "country_df['Europe'] = eu[:len(country_df['year_month'].to_list())]\n",
    "country_df['India'] = india[:len(country_df['year_month'].to_list())]\n",
    "country_df['Other'] = other[:len(country_df['year_month'].to_list())]"
   ]
  },
  {
   "cell_type": "code",
   "execution_count": 21,
   "metadata": {
    "execution": {
     "iopub.execute_input": "2022-02-16T21:31:16.786310Z",
     "iopub.status.busy": "2022-02-16T21:31:16.785991Z",
     "iopub.status.idle": "2022-02-16T21:31:16.823156Z",
     "shell.execute_reply": "2022-02-16T21:31:16.821600Z",
     "shell.execute_reply.started": "2022-02-16T21:31:16.786266Z"
    }
   },
   "outputs": [
    {
     "data": {
      "text/html": [
       "<div>\n",
       "<style scoped>\n",
       "    .dataframe tbody tr th:only-of-type {\n",
       "        vertical-align: middle;\n",
       "    }\n",
       "\n",
       "    .dataframe tbody tr th {\n",
       "        vertical-align: top;\n",
       "    }\n",
       "\n",
       "    .dataframe thead th {\n",
       "        text-align: right;\n",
       "    }\n",
       "</style>\n",
       "<table border=\"1\" class=\"dataframe\">\n",
       "  <thead>\n",
       "    <tr style=\"text-align: right;\">\n",
       "      <th></th>\n",
       "      <th>year_month</th>\n",
       "      <th>USA</th>\n",
       "      <th>China</th>\n",
       "      <th>Europe</th>\n",
       "      <th>India</th>\n",
       "      <th>Other</th>\n",
       "    </tr>\n",
       "  </thead>\n",
       "  <tbody>\n",
       "    <tr>\n",
       "      <th>0</th>\n",
       "      <td>2000-01-01</td>\n",
       "      <td>0</td>\n",
       "      <td>0</td>\n",
       "      <td>0</td>\n",
       "      <td>0</td>\n",
       "      <td>0</td>\n",
       "    </tr>\n",
       "    <tr>\n",
       "      <th>1</th>\n",
       "      <td>2000-02-01</td>\n",
       "      <td>0</td>\n",
       "      <td>0</td>\n",
       "      <td>0</td>\n",
       "      <td>0</td>\n",
       "      <td>0</td>\n",
       "    </tr>\n",
       "    <tr>\n",
       "      <th>2</th>\n",
       "      <td>2000-03-01</td>\n",
       "      <td>125</td>\n",
       "      <td>0</td>\n",
       "      <td>10</td>\n",
       "      <td>0</td>\n",
       "      <td>1</td>\n",
       "    </tr>\n",
       "    <tr>\n",
       "      <th>3</th>\n",
       "      <td>2000-04-01</td>\n",
       "      <td>188</td>\n",
       "      <td>0</td>\n",
       "      <td>15</td>\n",
       "      <td>1</td>\n",
       "      <td>1</td>\n",
       "    </tr>\n",
       "    <tr>\n",
       "      <th>4</th>\n",
       "      <td>2000-05-01</td>\n",
       "      <td>231</td>\n",
       "      <td>0</td>\n",
       "      <td>18</td>\n",
       "      <td>1</td>\n",
       "      <td>2</td>\n",
       "    </tr>\n",
       "    <tr>\n",
       "      <th>...</th>\n",
       "      <td>...</td>\n",
       "      <td>...</td>\n",
       "      <td>...</td>\n",
       "      <td>...</td>\n",
       "      <td>...</td>\n",
       "      <td>...</td>\n",
       "    </tr>\n",
       "    <tr>\n",
       "      <th>261</th>\n",
       "      <td>2021-10-01</td>\n",
       "      <td>9187</td>\n",
       "      <td>460</td>\n",
       "      <td>3938</td>\n",
       "      <td>4381</td>\n",
       "      <td>7053</td>\n",
       "    </tr>\n",
       "    <tr>\n",
       "      <th>262</th>\n",
       "      <td>2021-11-01</td>\n",
       "      <td>8842</td>\n",
       "      <td>470</td>\n",
       "      <td>3977</td>\n",
       "      <td>4139</td>\n",
       "      <td>7186</td>\n",
       "    </tr>\n",
       "    <tr>\n",
       "      <th>263</th>\n",
       "      <td>2021-12-01</td>\n",
       "      <td>8556</td>\n",
       "      <td>467</td>\n",
       "      <td>3997</td>\n",
       "      <td>4198</td>\n",
       "      <td>7373</td>\n",
       "    </tr>\n",
       "    <tr>\n",
       "      <th>264</th>\n",
       "      <td>2022-01-01</td>\n",
       "      <td>8312</td>\n",
       "      <td>462</td>\n",
       "      <td>3814</td>\n",
       "      <td>4062</td>\n",
       "      <td>7255</td>\n",
       "    </tr>\n",
       "    <tr>\n",
       "      <th>265</th>\n",
       "      <td>2022-02-01</td>\n",
       "      <td>8853</td>\n",
       "      <td>452</td>\n",
       "      <td>3766</td>\n",
       "      <td>4110</td>\n",
       "      <td>7144</td>\n",
       "    </tr>\n",
       "  </tbody>\n",
       "</table>\n",
       "<p>266 rows × 6 columns</p>\n",
       "</div>"
      ],
      "text/plain": [
       "    year_month   USA  China  Europe  India  Other\n",
       "0   2000-01-01     0      0       0      0      0\n",
       "1   2000-02-01     0      0       0      0      0\n",
       "2   2000-03-01   125      0      10      0      1\n",
       "3   2000-04-01   188      0      15      1      1\n",
       "4   2000-05-01   231      0      18      1      2\n",
       "..         ...   ...    ...     ...    ...    ...\n",
       "261 2021-10-01  9187    460    3938   4381   7053\n",
       "262 2021-11-01  8842    470    3977   4139   7186\n",
       "263 2021-12-01  8556    467    3997   4198   7373\n",
       "264 2022-01-01  8312    462    3814   4062   7255\n",
       "265 2022-02-01  8853    452    3766   4110   7144\n",
       "\n",
       "[266 rows x 6 columns]"
      ]
     },
     "execution_count": 21,
     "metadata": {},
     "output_type": "execute_result"
    }
   ],
   "source": [
    "country_df"
   ]
  },
  {
   "cell_type": "code",
   "execution_count": 22,
   "metadata": {
    "execution": {
     "iopub.execute_input": "2022-02-16T21:31:16.826010Z",
     "iopub.status.busy": "2022-02-16T21:31:16.825278Z",
     "iopub.status.idle": "2022-02-16T21:31:16.838831Z",
     "shell.execute_reply": "2022-02-16T21:31:16.837608Z",
     "shell.execute_reply.started": "2022-02-16T21:31:16.825965Z"
    }
   },
   "outputs": [],
   "source": [
    "country_df['Total'] = \\\n",
    "np.array(usa[:len(country_df['year_month'].to_list())])+\\\n",
    "np.array(china[:len(country_df['year_month'].to_list())])+\\\n",
    "np.array(eu[:len(country_df['year_month'].to_list())])+\\\n",
    "np.array(india[:len(country_df['year_month'].to_list())])+\\\n",
    "np.array(other[:len(country_df['year_month'].to_list())])"
   ]
  },
  {
   "cell_type": "code",
   "execution_count": 23,
   "metadata": {
    "execution": {
     "iopub.execute_input": "2022-02-16T21:31:16.842675Z",
     "iopub.status.busy": "2022-02-16T21:31:16.841007Z",
     "iopub.status.idle": "2022-02-16T21:31:18.176103Z",
     "shell.execute_reply": "2022-02-16T21:31:18.174555Z",
     "shell.execute_reply.started": "2022-02-16T21:31:16.842603Z"
    }
   },
   "outputs": [],
   "source": [
    "import matplotlib.pyplot as plt\n",
    "import seaborn as sns\n",
    "import numpy as np"
   ]
  },
  {
   "cell_type": "code",
   "execution_count": 24,
   "metadata": {
    "execution": {
     "iopub.execute_input": "2022-02-16T21:31:18.178108Z",
     "iopub.status.busy": "2022-02-16T21:31:18.177712Z",
     "iopub.status.idle": "2022-02-16T21:31:18.182251Z",
     "shell.execute_reply": "2022-02-16T21:31:18.181304Z",
     "shell.execute_reply.started": "2022-02-16T21:31:18.178067Z"
    }
   },
   "outputs": [],
   "source": [
    "import re"
   ]
  },
  {
   "cell_type": "code",
   "execution_count": 25,
   "metadata": {
    "execution": {
     "iopub.execute_input": "2022-02-16T21:31:18.184785Z",
     "iopub.status.busy": "2022-02-16T21:31:18.184091Z",
     "iopub.status.idle": "2022-02-16T21:31:18.205970Z",
     "shell.execute_reply": "2022-02-16T21:31:18.201962Z",
     "shell.execute_reply.started": "2022-02-16T21:31:18.184711Z"
    }
   },
   "outputs": [],
   "source": [
    "## read the dev_flags.txt to determine where to save\n",
    "with open(cwd+'/dev_flags.txt','r') as f:\n",
    "    raw_flags = f.read()\n",
    "flag_pattern = re.compile(r'= \\w+')\n",
    "flags1 = re.findall(flag_pattern,raw_flags)    \n",
    "flags_result = [i[2:] for i in flags1]\n",
    "dev_flag = flags_result[0]\n",
    "prod_flag = flags_result[1]"
   ]
  },
  {
   "cell_type": "code",
   "execution_count": 26,
   "metadata": {
    "execution": {
     "iopub.execute_input": "2022-02-16T21:31:18.209715Z",
     "iopub.status.busy": "2022-02-16T21:31:18.208978Z",
     "iopub.status.idle": "2022-02-16T21:31:23.094293Z",
     "shell.execute_reply": "2022-02-16T21:31:23.093498Z",
     "shell.execute_reply.started": "2022-02-16T21:31:18.209649Z"
    }
   },
   "outputs": [
    {
     "name": "stdout",
     "output_type": "stream",
     "text": [
      "[WARNING] [backend_ps - matplotlib.backends.backend_ps]: The PostScript backend does not support transparency; partially transparent artists will be rendered opaque. [backend_ps._is_transparent:303]\n"
     ]
    },
    {
     "data": {
      "image/png": "[encoded data removed]",
      "text/plain": [
       "<Figure size 648x432 with 1 Axes>"
      ]
     },
     "metadata": {
      "needs_background": "light"
     },
     "output_type": "display_data"
    }
   ],
   "source": [
    "plt.figure(figsize=(9,6))\n",
    "plt.stackplot(country_df['year_month'], \\\n",
    "              country_df[country_df.columns.to_list()[1:-1]].to_numpy().T, \\\n",
    "             labels=country_df.columns.to_list()[1:-1], \\\n",
    "             colors=['blue', 'red', 'orange', 'green', 'black'],\\\n",
    "             edgecolor='white');\n",
    "\n",
    "plt.legend(loc='upper left');\n",
    "plt.ylabel('12-month trailing total')\n",
    "plt.xlim([datetime.datetime(2002,1,1), datetime.datetime(today.year,today.month,1)])\n",
    "\n",
    "if dev_flag == 'True':\n",
    "    plt.savefig(cwd+'/plots_local/simusers_geo_12months.eps', dpi=1000, bbox_inches='tight')\n",
    "    plt.savefig(cwd+'/plots_local/simusers_geo_12months.pdf', dpi=1000, bbox_inches='tight')\n",
    "    plt.savefig(cwd+'/plots_local/simusers_geo_12months.png', dpi=1000, bbox_inches='tight')\n",
    "elif prod_flag == 'True':\n",
    "    plt.savefig(cwd+'/plots_production/simusers_geo_12months.eps', dpi=1000, bbox_inches='tight')\n",
    "    plt.savefig(cwd+'/plots_production/simusers_geo_12months.pdf', dpi=1000, bbox_inches='tight')\n",
    "    plt.savefig(cwd+'/plots_production/simusers_geo_12months.png', dpi=1000, bbox_inches='tight')\n",
    "else:\n",
    "    print('no printing flag is active')\n",
    "# plt.show()"
   ]
  },
  {
   "cell_type": "code",
   "execution_count": null,
   "metadata": {},
   "outputs": [],
   "source": []
  },
  {
   "cell_type": "code",
   "execution_count": null,
   "metadata": {},
   "outputs": [],
   "source": []
  },
  {
   "cell_type": "code",
   "execution_count": 27,
   "metadata": {
    "execution": {
     "iopub.execute_input": "2022-02-16T21:31:23.096120Z",
     "iopub.status.busy": "2022-02-16T21:31:23.095744Z",
     "iopub.status.idle": "2022-02-16T21:31:28.349877Z",
     "shell.execute_reply": "2022-02-16T21:31:28.348216Z",
     "shell.execute_reply.started": "2022-02-16T21:31:23.096081Z"
    }
   },
   "outputs": [
    {
     "name": "stdout",
     "output_type": "stream",
     "text": [
      "[WARNING] [backend_ps - matplotlib.backends.backend_ps]: The PostScript backend does not support transparency; partially transparent artists will be rendered opaque. [backend_ps._is_transparent:303]\n"
     ]
    },
    {
     "data": {
      "image/png": "[encoded data removed]",
      "text/plain": [
       "<Figure size 648x432 with 1 Axes>"
      ]
     },
     "metadata": {
      "needs_background": "light"
     },
     "output_type": "display_data"
    }
   ],
   "source": [
    "plt.figure(figsize=(9,6))\n",
    "plt.plot(country_df['year_month'], \\\n",
    "         country_df['USA'].to_numpy()/country_df['Total'].to_numpy() *100\\\n",
    "         , label='US', color='blue');\n",
    "plt.plot(country_df['year_month'], \\\n",
    "         country_df['China'].to_numpy()/country_df['Total'].to_numpy() *100\\\n",
    "         , label='China', color='red');\n",
    "plt.plot(country_df['year_month'], \\\n",
    "         country_df['Europe'].to_numpy()/country_df['Total'].to_numpy() *100\\\n",
    "         , label='Europe', color='orange');\n",
    "plt.plot(country_df['year_month'], \\\n",
    "         country_df['India'].to_numpy()/country_df['Total'].to_numpy() *100\\\n",
    "         , label='India', color='green');\n",
    "plt.plot(country_df['year_month'], \\\n",
    "         country_df['Other'].to_numpy()/country_df['Total'].to_numpy() *100\\\n",
    "         , label='Others', color='black');\n",
    "\n",
    "plt.xlim([datetime.datetime(2002,1,1), datetime.datetime(today.year,today.month,1)])\n",
    "plt.ylim([0, 100])\n",
    "plt.legend(loc='upper right');\n",
    "plt.ylabel('Percentage (%)')\n",
    "\n",
    "if dev_flag == 'True':\n",
    "    plt.savefig(cwd+'/plots_local/simusers_geo_12months_percent.eps', dpi=1000, bbox_inches='tight')\n",
    "    plt.savefig(cwd+'/plots_local/simusers_geo_12months_percent.pdf', dpi=1000, bbox_inches='tight')\n",
    "    plt.savefig(cwd+'/plots_local/simusers_geo_12months_percent.png', dpi=1000, bbox_inches='tight')\n",
    "elif prod_flag == 'True':\n",
    "    plt.savefig(cwd+'/plots_production/simusers_geo_12months_percent.eps', dpi=1000, bbox_inches='tight')\n",
    "    plt.savefig(cwd+'/plots_production/simusers_geo_12months_percent.pdf', dpi=1000, bbox_inches='tight')\n",
    "    plt.savefig(cwd+'/plots_production/simusers_geo_12months_percent.png', dpi=1000, bbox_inches='tight')\n",
    "else:\n",
    "    print('no printing flag is active')\n",
    "\n",
    "# plt.show()"
   ]
  },
  {
   "cell_type": "code",
   "execution_count": null,
   "metadata": {},
   "outputs": [],
   "source": []
  },
  {
   "cell_type": "code",
   "execution_count": 28,
   "metadata": {
    "execution": {
     "iopub.execute_input": "2022-02-16T21:31:28.355781Z",
     "iopub.status.busy": "2022-02-16T21:31:28.353489Z",
     "iopub.status.idle": "2022-02-16T21:31:28.396783Z",
     "shell.execute_reply": "2022-02-16T21:31:28.395511Z",
     "shell.execute_reply.started": "2022-02-16T21:31:28.355258Z"
    },
    "tags": []
   },
   "outputs": [],
   "source": [
    "country_df.to_csv(cwd+'/cached_data/simuser_geo_12months.csv')"
   ]
  }
 ],
 "metadata": {
  "kernelspec": {
   "display_name": "Python 3 (ipykernel)",
   "language": "python",
   "name": "python3"
  },
  "language_info": {
   "codemirror_mode": {
    "name": "ipython",
    "version": 3
   },
   "file_extension": ".py",
   "mimetype": "text/x-python",
   "name": "python",
   "nbconvert_exporter": "python",
   "pygments_lexer": "ipython3",
   "version": "3.8.10"
  }
 },
 "nbformat": 4,
 "nbformat_minor": 4
}
