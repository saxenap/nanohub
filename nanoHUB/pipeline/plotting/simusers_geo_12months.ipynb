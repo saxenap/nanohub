{
 "cells": [
  {
   "cell_type": "code",
   "execution_count": 1,
   "metadata": {},
   "outputs": [],
   "source": [
    "## build researcher events, student events, and self-study events\n",
    "## researcher are simply those with NH citations"
   ]
  },
  {
   "cell_type": "code",
   "execution_count": 2,
   "metadata": {},
   "outputs": [],
   "source": [
    "import sys\n",
    "import pandas as pd\n",
    "import time\n",
    "import datetime"
   ]
  },
  {
   "cell_type": "code",
   "execution_count": 3,
   "metadata": {},
   "outputs": [],
   "source": [
    "import warnings\n",
    "warnings.filterwarnings('ignore')\n",
    "# warnings.filterwarnings(action='once')\n",
    "warnings.simplefilter(action='ignore', category=FutureWarning)"
   ]
  },
  {
   "cell_type": "code",
   "execution_count": 4,
   "metadata": {},
   "outputs": [
    {
     "name": "stdout",
     "output_type": "stream",
     "text": [
      "\n",
      "``````````````````````````````````````````````````````````````````````````````````````````````````````````````````````````````````````````````````````\n",
      "```````````````````````````````$$$$$``````````````````````````````````````````````````````````````````````````````````````````````````````````````````\n",
      "`````````````````````````````$$$$`$$$$````````````````````````````````````````````````````````````````````````````````````````````````````````````````\n",
      "`````````````````$$$$$```````$$`````$$$```````````````````````````````````````````````````````````````````````````````````````````````````````````````\n",
      "````````````````$$```$$``````$$$$``$$$````````````````````````````````````````````````````````````````````````````````````````````````````````````````\n",
      "````````````````$$$$$$$```````$$$$$$``````````````````````````````````````````````````````````````````````````````````````````````````````````````````\n",
      "``````$$$$````````$$$$$```````$$$``````$$$$$$`````````````````````````````````````````````````````````````````````````````````````````````````````````\n",
      "````$$$$`$$$$```````$$$$$$$$$$$$$``````$$``$$$````````````````````````````````````````````````````````````````````````````````````````````````````````\n",
      "````$$`````$$$```$$$$$$$$$`$$$$$$$$``$$$$$$$$$````````````````````````````````````````````````````````$$$```````$$$$``$$$```````$$$```$$$$$$$$$$$`````\n",
      "````$$````$$$$``$$$$$``````````$$$$$$$$$$$$$$````````````````````````````````````````````````````````$$$$```````$$$$`$$$$```````$$$$`$$$$$$$$$$$$$$```\n",
      "`````$$$$$$$`$$$$$$```````````````$$$$```````````$$$$$$$``````$$$$$$$$`````$$$$$$$```````$$$$$$$`````$$$$```````$$$$`$$$$```````$$$$`$$$$``````$$$$```\n",
      "``````````````$$$`````$$$$$$$$`````$$$$````````$$$$$$$$$$$``$$$$$$$$$$$``$$$$$$$$$$$```$$$$$$$$$$$```$$$$``````$$$$$`$$$$```````$$$$`$$$$`````$$$$$```\n",
      "``````````````$$$`````$$````$$`````$$$$````````$$$`````$$$$````````$$$$$`$$$$````$$$$`$$$$`````$$$$``$$$$$$$$$$$$$$$`$$$$```````$$$$`$$$$$$$$$$$$$$```\n",
      "`````$$$$$```$$$$`````$$````$$`````$$$$````````$$$`````$$$$``$$$$$$$$$$$`$$$$````$$$$`$$$$`````$$$$``$$$$```````$$$$`$$$$```````$$$$`$$$$``````$$$$$``\n",
      "```$$$``$$$$$$$$$`````$$````$$`````$$$$````````$$$`````$$$$`$$$$````$$$$`$$$$````$$$$`$$$$`````$$$$``$$$$```````$$$$`$$$$$``````$$$``$$$$```````$$$$``\n",
      "````$$$`$$$````$$$````````````````$$$$`````````$$$`````$$$$`$$$$$$$$$$$``$$$$````$$$$``$$$$$$$$$$$```$$$$```````$$$$``$$$$$$$$$$$$$``$$$$$$$$$$$$$$```\n",
      "``````$$$```````$$$$$``````````$$$$$$``````````$$$`````$$$$``$$$$$$$$$```$$$$````$$$$````$$$$$$$`````$$$$```````$$$$````$$$$$$$$$````$$$$$$$$$$$$$````\n",
      "````````````````$$$$$$$$$```$$$$$$$$``````````````````````````````````````````````````````````````````````````````````````````````````````````````````\n",
      "```````````$$$$$$$``$$$$$$$$$$$$```$$$$$$$$```````````````````````````````````````````````````````````````````````````````````````````````````````````\n",
      "````````$$$$$$$$$````````$$$````````$$$``$$$$`````````````````````````````````````````````````````````````````````````````````````````````````````````\n",
      "```````$$$````$$$````````$$$```````$$$````$$$`````````````````````````````````````````````````````````````````````````````````````````````````````````\n",
      "````````$$````$$$``````$$$$$$$``````$$$``$$$$`````````````````````````````````````````````````````````````````````````````````````````````````````````\n",
      "`````````$$$$$$````````$$$``$$````````$$$$````````````````````````````````````````````````````````````````````````````````````````````````````````````\n",
      "````````````````````````$$$$$`````````````````````````````````````````````````````````````````````````````````````````````````````````````````````````\n",
      "``````````````````````````````````````````````````````````````````````````````````````````````````````````````````````````````````````````````````````\n",
      "\n",
      "Serving Students, Researchers & Instructors\n",
      "\n"
     ]
    },
    {
     "name": "stderr",
     "output_type": "stream",
     "text": [
      "2021-08-05 19:50:30,235| WARNING | Could not read SSH configuration file: ~/.ssh/config\n"
     ]
    },
    {
     "name": "stdout",
     "output_type": "stream",
     "text": [
      "2021-08-05 19:50:30,235 - [WARNING] sshtunnel.SSHTunnelForwarder [sshtunnel._read_ssh_config:1032]: Could not read SSH configuration file: ~/.ssh/config\n",
      "2021-08-05 19:50:30,235 - [WARNING] sshtunnel.SSHTunnelForwarder [sshtunnel._read_ssh_config:1032]: Could not read SSH configuration file: ~/.ssh/config\n"
     ]
    },
    {
     "name": "stderr",
     "output_type": "stream",
     "text": [
      "2021-08-05 19:50:30,264| INFO    | 0 keys loaded from agent\n"
     ]
    },
    {
     "name": "stdout",
     "output_type": "stream",
     "text": [
      "2021-08-05 19:50:30,264 - [INFO] sshtunnel.SSHTunnelForwarder [sshtunnel.get_agent_keys:1060]: 0 keys loaded from agent\n",
      "2021-08-05 19:50:30,264 - [INFO] sshtunnel.SSHTunnelForwarder [sshtunnel.get_agent_keys:1060]: 0 keys loaded from agent\n"
     ]
    },
    {
     "name": "stderr",
     "output_type": "stream",
     "text": [
      "2021-08-05 19:50:30,270| INFO    | 0 key(s) loaded\n"
     ]
    },
    {
     "name": "stdout",
     "output_type": "stream",
     "text": [
      "2021-08-05 19:50:30,270 - [INFO] sshtunnel.SSHTunnelForwarder [sshtunnel.get_keys:1117]: 0 key(s) loaded\n",
      "2021-08-05 19:50:30,270 - [INFO] sshtunnel.SSHTunnelForwarder [sshtunnel.get_keys:1117]: 0 key(s) loaded\n"
     ]
    },
    {
     "name": "stderr",
     "output_type": "stream",
     "text": [
      "2021-08-05 19:50:30,276| INFO    | Connecting to gateway: db2.nanohub.org:22 as user 'wang2506'\n"
     ]
    },
    {
     "name": "stdout",
     "output_type": "stream",
     "text": [
      "2021-08-05 19:50:30,276 - [INFO] sshtunnel.SSHTunnelForwarder [sshtunnel.__init__:978]: Connecting to gateway: db2.nanohub.org:22 as user 'wang2506'\n",
      "2021-08-05 19:50:30,276 - [INFO] sshtunnel.SSHTunnelForwarder [sshtunnel.__init__:978]: Connecting to gateway: db2.nanohub.org:22 as user 'wang2506'\n",
      "2021-08-05 19:50:30,282 - [\u001b[1mINFO\u001b[0m] \u001b[1mnanoHUB.containers.dataaccess\u001b[0m [connection.get_connection_for:78]: Started SSH Tunnel with db2.nanohub.org\n"
     ]
    },
    {
     "name": "stderr",
     "output_type": "stream",
     "text": [
      "2021-08-05 19:50:31,601| INFO    | Opening tunnel: 0.0.0.0:41895 <> 127.0.0.1:3306\n"
     ]
    },
    {
     "name": "stdout",
     "output_type": "stream",
     "text": [
      "2021-08-05 19:50:31,601 - [INFO] sshtunnel.SSHTunnelForwarder [sshtunnel._serve_forever_wrapper:1433]: Opening tunnel: 0.0.0.0:41895 <> 127.0.0.1:3306\n",
      "2021-08-05 19:50:31,601 - [INFO] sshtunnel.SSHTunnelForwarder [sshtunnel._serve_forever_wrapper:1433]: Opening tunnel: 0.0.0.0:41895 <> 127.0.0.1:3306\n"
     ]
    },
    {
     "name": "stderr",
     "output_type": "stream",
     "text": [
      "2021-08-05 19:50:31,928| WARNING | Could not read SSH configuration file: ~/.ssh/config\n"
     ]
    },
    {
     "name": "stdout",
     "output_type": "stream",
     "text": [
      "2021-08-05 19:50:31,928 - [WARNING] sshtunnel.SSHTunnelForwarder [sshtunnel._read_ssh_config:1032]: Could not read SSH configuration file: ~/.ssh/config\n",
      "2021-08-05 19:50:31,928 - [WARNING] sshtunnel.SSHTunnelForwarder [sshtunnel._read_ssh_config:1032]: Could not read SSH configuration file: ~/.ssh/config\n"
     ]
    },
    {
     "name": "stderr",
     "output_type": "stream",
     "text": [
      "2021-08-05 19:50:31,934| INFO    | 0 keys loaded from agent\n"
     ]
    },
    {
     "name": "stdout",
     "output_type": "stream",
     "text": [
      "2021-08-05 19:50:31,934 - [INFO] sshtunnel.SSHTunnelForwarder [sshtunnel.get_agent_keys:1060]: 0 keys loaded from agent\n",
      "2021-08-05 19:50:31,934 - [INFO] sshtunnel.SSHTunnelForwarder [sshtunnel.get_agent_keys:1060]: 0 keys loaded from agent\n"
     ]
    },
    {
     "name": "stderr",
     "output_type": "stream",
     "text": [
      "2021-08-05 19:50:31,939| INFO    | 0 key(s) loaded\n"
     ]
    },
    {
     "name": "stdout",
     "output_type": "stream",
     "text": [
      "2021-08-05 19:50:31,939 - [INFO] sshtunnel.SSHTunnelForwarder [sshtunnel.get_keys:1117]: 0 key(s) loaded\n",
      "2021-08-05 19:50:31,939 - [INFO] sshtunnel.SSHTunnelForwarder [sshtunnel.get_keys:1117]: 0 key(s) loaded\n"
     ]
    },
    {
     "name": "stderr",
     "output_type": "stream",
     "text": [
      "2021-08-05 19:50:31,945| INFO    | Connecting to gateway: db2.nanohub.org:22 as user 'wang2506'\n"
     ]
    },
    {
     "name": "stdout",
     "output_type": "stream",
     "text": [
      "2021-08-05 19:50:31,945 - [INFO] sshtunnel.SSHTunnelForwarder [sshtunnel.__init__:978]: Connecting to gateway: db2.nanohub.org:22 as user 'wang2506'\n",
      "2021-08-05 19:50:31,945 - [INFO] sshtunnel.SSHTunnelForwarder [sshtunnel.__init__:978]: Connecting to gateway: db2.nanohub.org:22 as user 'wang2506'\n",
      "2021-08-05 19:50:31,950 - [\u001b[1mINFO\u001b[0m] \u001b[1mnanoHUB.containers.dataaccess\u001b[0m [connection.get_connection_for:78]: Started SSH Tunnel with db2.nanohub.org\n"
     ]
    },
    {
     "name": "stderr",
     "output_type": "stream",
     "text": [
      "2021-08-05 19:50:32,188| INFO    | Opening tunnel: 0.0.0.0:40773 <> 127.0.0.1:3306\n"
     ]
    },
    {
     "name": "stdout",
     "output_type": "stream",
     "text": [
      "2021-08-05 19:50:32,188 - [INFO] sshtunnel.SSHTunnelForwarder [sshtunnel._serve_forever_wrapper:1433]: Opening tunnel: 0.0.0.0:40773 <> 127.0.0.1:3306\n",
      "2021-08-05 19:50:32,188 - [INFO] sshtunnel.SSHTunnelForwarder [sshtunnel._serve_forever_wrapper:1433]: Opening tunnel: 0.0.0.0:40773 <> 127.0.0.1:3306\n"
     ]
    },
    {
     "name": "stderr",
     "output_type": "stream",
     "text": [
      "2021-08-05 19:50:32,391| WARNING | Could not read SSH configuration file: ~/.ssh/config\n"
     ]
    },
    {
     "name": "stdout",
     "output_type": "stream",
     "text": [
      "2021-08-05 19:50:32,391 - [WARNING] sshtunnel.SSHTunnelForwarder [sshtunnel._read_ssh_config:1032]: Could not read SSH configuration file: ~/.ssh/config\n",
      "2021-08-05 19:50:32,391 - [WARNING] sshtunnel.SSHTunnelForwarder [sshtunnel._read_ssh_config:1032]: Could not read SSH configuration file: ~/.ssh/config\n"
     ]
    },
    {
     "name": "stderr",
     "output_type": "stream",
     "text": [
      "2021-08-05 19:50:32,397| INFO    | 0 keys loaded from agent\n"
     ]
    },
    {
     "name": "stdout",
     "output_type": "stream",
     "text": [
      "2021-08-05 19:50:32,397 - [INFO] sshtunnel.SSHTunnelForwarder [sshtunnel.get_agent_keys:1060]: 0 keys loaded from agent\n",
      "2021-08-05 19:50:32,397 - [INFO] sshtunnel.SSHTunnelForwarder [sshtunnel.get_agent_keys:1060]: 0 keys loaded from agent\n"
     ]
    },
    {
     "name": "stderr",
     "output_type": "stream",
     "text": [
      "2021-08-05 19:50:32,403| INFO    | 0 key(s) loaded\n"
     ]
    },
    {
     "name": "stdout",
     "output_type": "stream",
     "text": [
      "2021-08-05 19:50:32,403 - [INFO] sshtunnel.SSHTunnelForwarder [sshtunnel.get_keys:1117]: 0 key(s) loaded\n",
      "2021-08-05 19:50:32,403 - [INFO] sshtunnel.SSHTunnelForwarder [sshtunnel.get_keys:1117]: 0 key(s) loaded\n"
     ]
    },
    {
     "name": "stderr",
     "output_type": "stream",
     "text": [
      "2021-08-05 19:50:32,409| INFO    | Connecting to gateway: db2.nanohub.org:22 as user 'wang2506'\n"
     ]
    },
    {
     "name": "stdout",
     "output_type": "stream",
     "text": [
      "2021-08-05 19:50:32,409 - [INFO] sshtunnel.SSHTunnelForwarder [sshtunnel.__init__:978]: Connecting to gateway: db2.nanohub.org:22 as user 'wang2506'\n",
      "2021-08-05 19:50:32,409 - [INFO] sshtunnel.SSHTunnelForwarder [sshtunnel.__init__:978]: Connecting to gateway: db2.nanohub.org:22 as user 'wang2506'\n",
      "2021-08-05 19:50:32,415 - [\u001b[1mINFO\u001b[0m] \u001b[1mnanoHUB.containers.dataaccess\u001b[0m [connection.get_connection_for:78]: Started SSH Tunnel with db2.nanohub.org\n"
     ]
    },
    {
     "name": "stderr",
     "output_type": "stream",
     "text": [
      "2021-08-05 19:50:32,924| INFO    | Opening tunnel: 0.0.0.0:44455 <> 127.0.0.1:3306\n"
     ]
    },
    {
     "name": "stdout",
     "output_type": "stream",
     "text": [
      "2021-08-05 19:50:32,924 - [INFO] sshtunnel.SSHTunnelForwarder [sshtunnel._serve_forever_wrapper:1433]: Opening tunnel: 0.0.0.0:44455 <> 127.0.0.1:3306\n",
      "2021-08-05 19:50:32,924 - [INFO] sshtunnel.SSHTunnelForwarder [sshtunnel._serve_forever_wrapper:1433]: Opening tunnel: 0.0.0.0:44455 <> 127.0.0.1:3306\n",
      "Obtained Salesforce access token ...... True\n"
     ]
    }
   ],
   "source": [
    "from nanoHUB.application import Application\n",
    "\n",
    "application = Application.get_instance()\n",
    "nanohub_db = application.new_db_engine('nanohub')\n",
    "nanohub_metrics_db = application.new_db_engine('nanohub_metrics')\n",
    "wang159_myrmekes_db = application.new_db_engine('wang159_myrmekes')\n",
    "\n",
    "salesforce = application.new_salesforce_engine()\n",
    "db_s = salesforce"
   ]
  },
  {
   "cell_type": "markdown",
   "metadata": {},
   "source": [
    "## Figure: active simulation users by geolocation"
   ]
  },
  {
   "cell_type": "code",
   "execution_count": 5,
   "metadata": {},
   "outputs": [],
   "source": [
    "## need to do iterative importing once again"
   ]
  },
  {
   "cell_type": "code",
   "execution_count": 6,
   "metadata": {},
   "outputs": [],
   "source": [
    "import os\n",
    "cwd = os.getcwd()"
   ]
  },
  {
   "cell_type": "code",
   "execution_count": 7,
   "metadata": {},
   "outputs": [],
   "source": [
    "## caching check \n",
    "try:\n",
    "    user_breakdown_df = pd.read_csv(cwd+'/cached_data/geo_nh_user_breakdown.csv')\n",
    "    print(user_breakdown_df)\n",
    "    cache_flag = True\n",
    "except:\n",
    "    cache_flag = False"
   ]
  },
  {
   "cell_type": "code",
   "execution_count": 8,
   "metadata": {},
   "outputs": [],
   "source": [
    "## determine starting year\n",
    "if cache_flag == False:\n",
    "    start_year_base = 1999 #2000\n",
    "else:\n",
    "#     print('check the saved file')\n",
    "    start_year_base = int(user_breakdown_df['year_month'].to_list()[-1][:4])"
   ]
  },
  {
   "cell_type": "code",
   "execution_count": 9,
   "metadata": {},
   "outputs": [
    {
     "data": {
      "text/plain": [
       "1999"
      ]
     },
     "execution_count": 9,
     "metadata": {},
     "output_type": "execute_result"
    }
   ],
   "source": [
    "start_year_base"
   ]
  },
  {
   "cell_type": "code",
   "execution_count": 10,
   "metadata": {},
   "outputs": [],
   "source": [
    "import datetime\n",
    "today = datetime.datetime.today()"
   ]
  },
  {
   "cell_type": "code",
   "execution_count": 11,
   "metadata": {},
   "outputs": [],
   "source": [
    "all_months_list = list()\n",
    "for this_year in range(start_year_base+1,today.year+2):\n",
    "    if cache_flag == True:\n",
    "        for this_month in range(1,today.month+1):\n",
    "            all_months_list.append(datetime.datetime(this_year, this_month, 1))\n",
    "    else:\n",
    "        for this_month in range(1,12+1):\n",
    "            all_months_list.append(datetime.datetime(this_year, this_month, 1))"
   ]
  },
  {
   "cell_type": "code",
   "execution_count": 12,
   "metadata": {},
   "outputs": [],
   "source": [
    "country_df = pd.DataFrame()\n",
    "if cache_flag == False:\n",
    "    if today.month != 12:\n",
    "        country_df['year_month'] = all_months_list[:-12-(12-today.month)]"
   ]
  },
  {
   "cell_type": "code",
   "execution_count": 13,
   "metadata": {},
   "outputs": [
    {
     "data": {
      "text/html": [
       "<div>\n",
       "<style scoped>\n",
       "    .dataframe tbody tr th:only-of-type {\n",
       "        vertical-align: middle;\n",
       "    }\n",
       "\n",
       "    .dataframe tbody tr th {\n",
       "        vertical-align: top;\n",
       "    }\n",
       "\n",
       "    .dataframe thead th {\n",
       "        text-align: right;\n",
       "    }\n",
       "</style>\n",
       "<table border=\"1\" class=\"dataframe\">\n",
       "  <thead>\n",
       "    <tr style=\"text-align: right;\">\n",
       "      <th></th>\n",
       "      <th>year_month</th>\n",
       "    </tr>\n",
       "  </thead>\n",
       "  <tbody>\n",
       "    <tr>\n",
       "      <th>0</th>\n",
       "      <td>2000-01-01</td>\n",
       "    </tr>\n",
       "    <tr>\n",
       "      <th>1</th>\n",
       "      <td>2000-02-01</td>\n",
       "    </tr>\n",
       "    <tr>\n",
       "      <th>2</th>\n",
       "      <td>2000-03-01</td>\n",
       "    </tr>\n",
       "    <tr>\n",
       "      <th>3</th>\n",
       "      <td>2000-04-01</td>\n",
       "    </tr>\n",
       "    <tr>\n",
       "      <th>4</th>\n",
       "      <td>2000-05-01</td>\n",
       "    </tr>\n",
       "    <tr>\n",
       "      <th>...</th>\n",
       "      <td>...</td>\n",
       "    </tr>\n",
       "    <tr>\n",
       "      <th>255</th>\n",
       "      <td>2021-04-01</td>\n",
       "    </tr>\n",
       "    <tr>\n",
       "      <th>256</th>\n",
       "      <td>2021-05-01</td>\n",
       "    </tr>\n",
       "    <tr>\n",
       "      <th>257</th>\n",
       "      <td>2021-06-01</td>\n",
       "    </tr>\n",
       "    <tr>\n",
       "      <th>258</th>\n",
       "      <td>2021-07-01</td>\n",
       "    </tr>\n",
       "    <tr>\n",
       "      <th>259</th>\n",
       "      <td>2021-08-01</td>\n",
       "    </tr>\n",
       "  </tbody>\n",
       "</table>\n",
       "<p>260 rows × 1 columns</p>\n",
       "</div>"
      ],
      "text/plain": [
       "    year_month\n",
       "0   2000-01-01\n",
       "1   2000-02-01\n",
       "2   2000-03-01\n",
       "3   2000-04-01\n",
       "4   2000-05-01\n",
       "..         ...\n",
       "255 2021-04-01\n",
       "256 2021-05-01\n",
       "257 2021-06-01\n",
       "258 2021-07-01\n",
       "259 2021-08-01\n",
       "\n",
       "[260 rows x 1 columns]"
      ]
     },
     "execution_count": 13,
     "metadata": {},
     "output_type": "execute_result"
    }
   ],
   "source": [
    "country_df"
   ]
  },
  {
   "cell_type": "code",
   "execution_count": 14,
   "metadata": {},
   "outputs": [],
   "source": [
    "usa = []\n",
    "china = []\n",
    "eu = []\n",
    "india = []\n",
    "other = []\n",
    "eu_list = ['BE','BG','EL','CZ','DK','DE','EE','IE','ES','FR','HR','IT','CY','LV',\\\n",
    "          'LT','LU','HU','MT','NL','AT','PL','PT','RO','SI','SK','FI','SE','IS',\\\n",
    "           'NO','LI','CH','UK','ME','MK','AL','RS','TR','BA','XK','AM','AZ','BY',\\\n",
    "           'MD','GE','UA','RU']"
   ]
  },
  {
   "cell_type": "code",
   "execution_count": 19,
   "metadata": {},
   "outputs": [],
   "source": [
    "from copy import deepcopy\n",
    "import numpy as np"
   ]
  },
  {
   "cell_type": "code",
   "execution_count": 20,
   "metadata": {},
   "outputs": [
    {
     "name": "stdout",
     "output_type": "stream",
     "text": [
      "2000\n",
      "2001\n",
      "2002\n",
      "2003\n",
      "2004\n",
      "2005\n",
      "2006\n",
      "2007\n",
      "2008\n",
      "2009\n",
      "2010\n",
      "2011\n",
      "2012\n",
      "2013\n",
      "2014\n",
      "2015\n",
      "2016\n",
      "2017\n",
      "2018\n",
      "2019\n",
      "2020\n",
      "2021\n",
      "2022\n"
     ]
    }
   ],
   "source": [
    "## computer has memory limits, so split toolstart into branches\n",
    "start_year = deepcopy(start_year_base)\n",
    "\n",
    "while start_year < today.year+1: #datetime.datetime.now().year:\n",
    "    start_year += 1\n",
    "\n",
    "    for i in range(1,13):\n",
    "        if i < 10:\n",
    "            start_date = r\"'\"+str(start_year-1)+r\"-0\"+str(i)+r\"-01'\"\n",
    "            end_date = r\"'\"+str(start_year)+r\"-0\"+str(i)+r\"-01'\"\n",
    "        else:\n",
    "            start_date = r\"'\"+str(start_year-1)+r\"-\"+str(i)+r\"-01'\"\n",
    "            end_date = r\"'\"+str(start_year)+r\"-\"+str(i)+r\"-01'\"\n",
    "\n",
    "        sql_query_country = \"select distinct user, countryip from toolstart where user != 'instanton' \"\\\n",
    "        + \"and user != 'gridstat' and datetime <= \"+end_date+\" and datetime >= \"+start_date\n",
    "        country_users = pd.read_sql_query(sql_query_country, nanohub_metrics_db)#.drop_duplicates()\n",
    "        \n",
    "        # run geography filter\n",
    "        country_ipds = country_users['countryip'].to_list()\n",
    "        \n",
    "        bool_US = np.in1d(np.array(country_ipds),np.array(['US']))\n",
    "        bool_EU = np.in1d(np.array(country_ipds),np.array(eu_list))\n",
    "        bool_CN = np.in1d(np.array(country_ipds),np.array(['CN']))\n",
    "        bool_IN = np.in1d(np.array(country_ipds),np.array(['IN']))\n",
    "#         bool_OT = bool_US | bool_EU | bool_CN | bool_IN\n",
    "        \n",
    "        usa.append(len(np.where(bool_US)[0].tolist()))\n",
    "        eu.append(len(np.where(bool_EU)[0].tolist()))\n",
    "        china.append(len(np.where(bool_CN)[0].tolist()))\n",
    "        india.append(len(np.where(bool_IN)[0].tolist()))\n",
    "        other.append(len(country_ipds)-usa[-1]-eu[-1]-china[-1]-india[-1]) # len(np.where(bool_OT)[0].tolist()))\n",
    "        \n",
    "#         country_users.append(country_users.drop_duplicates().shape[0])\n",
    "\n",
    "    print(start_year)"
   ]
  },
  {
   "cell_type": "code",
   "execution_count": 22,
   "metadata": {},
   "outputs": [
    {
     "data": {
      "text/plain": [
       "(260, 1)"
      ]
     },
     "execution_count": 22,
     "metadata": {},
     "output_type": "execute_result"
    }
   ],
   "source": [
    "country_df.shape"
   ]
  },
  {
   "cell_type": "code",
   "execution_count": null,
   "metadata": {},
   "outputs": [],
   "source": [
    "-- debug here"
   ]
  },
  {
   "cell_type": "code",
   "execution_count": 25,
   "metadata": {},
   "outputs": [
    {
     "data": {
      "text/plain": [
       "260"
      ]
     },
     "execution_count": 25,
     "metadata": {},
     "output_type": "execute_result"
    }
   ],
   "source": [
    "len(country_df['year_month'].to_list())"
   ]
  },
  {
   "cell_type": "code",
   "execution_count": 43,
   "metadata": {},
   "outputs": [
    {
     "name": "stdout",
     "output_type": "stream",
     "text": [
      "276\n",
      "260\n"
     ]
    }
   ],
   "source": [
    "print(len(usa))\n",
    "usa2 = usa[12:][:len(country_df['year_month'].to_list())]\n",
    "print(len(usa2))"
   ]
  },
  {
   "cell_type": "code",
   "execution_count": 50,
   "metadata": {},
   "outputs": [],
   "source": [
    "country_df['USA'] = usa[:len(country_df['year_month'].to_list())]\n",
    "country_df['China'] = china[:len(country_df['year_month'].to_list())]\n",
    "country_df['Europe'] = eu[:len(country_df['year_month'].to_list())]\n",
    "country_df['India'] = india[:len(country_df['year_month'].to_list())]\n",
    "country_df['Other'] = other[:len(country_df['year_month'].to_list())]"
   ]
  },
  {
   "cell_type": "code",
   "execution_count": 51,
   "metadata": {},
   "outputs": [
    {
     "data": {
      "text/html": [
       "<div>\n",
       "<style scoped>\n",
       "    .dataframe tbody tr th:only-of-type {\n",
       "        vertical-align: middle;\n",
       "    }\n",
       "\n",
       "    .dataframe tbody tr th {\n",
       "        vertical-align: top;\n",
       "    }\n",
       "\n",
       "    .dataframe thead th {\n",
       "        text-align: right;\n",
       "    }\n",
       "</style>\n",
       "<table border=\"1\" class=\"dataframe\">\n",
       "  <thead>\n",
       "    <tr style=\"text-align: right;\">\n",
       "      <th></th>\n",
       "      <th>year_month</th>\n",
       "      <th>USA</th>\n",
       "      <th>China</th>\n",
       "      <th>Europe</th>\n",
       "      <th>India</th>\n",
       "      <th>Other</th>\n",
       "    </tr>\n",
       "  </thead>\n",
       "  <tbody>\n",
       "    <tr>\n",
       "      <th>0</th>\n",
       "      <td>2000-01-01</td>\n",
       "      <td>0</td>\n",
       "      <td>0</td>\n",
       "      <td>0</td>\n",
       "      <td>0</td>\n",
       "      <td>0</td>\n",
       "    </tr>\n",
       "    <tr>\n",
       "      <th>1</th>\n",
       "      <td>2000-02-01</td>\n",
       "      <td>0</td>\n",
       "      <td>0</td>\n",
       "      <td>0</td>\n",
       "      <td>0</td>\n",
       "      <td>0</td>\n",
       "    </tr>\n",
       "    <tr>\n",
       "      <th>2</th>\n",
       "      <td>2000-03-01</td>\n",
       "      <td>125</td>\n",
       "      <td>0</td>\n",
       "      <td>10</td>\n",
       "      <td>0</td>\n",
       "      <td>1</td>\n",
       "    </tr>\n",
       "    <tr>\n",
       "      <th>3</th>\n",
       "      <td>2000-04-01</td>\n",
       "      <td>188</td>\n",
       "      <td>0</td>\n",
       "      <td>15</td>\n",
       "      <td>1</td>\n",
       "      <td>1</td>\n",
       "    </tr>\n",
       "    <tr>\n",
       "      <th>4</th>\n",
       "      <td>2000-05-01</td>\n",
       "      <td>231</td>\n",
       "      <td>0</td>\n",
       "      <td>18</td>\n",
       "      <td>1</td>\n",
       "      <td>2</td>\n",
       "    </tr>\n",
       "    <tr>\n",
       "      <th>...</th>\n",
       "      <td>...</td>\n",
       "      <td>...</td>\n",
       "      <td>...</td>\n",
       "      <td>...</td>\n",
       "      <td>...</td>\n",
       "      <td>...</td>\n",
       "    </tr>\n",
       "    <tr>\n",
       "      <th>255</th>\n",
       "      <td>2021-04-01</td>\n",
       "      <td>9639</td>\n",
       "      <td>482</td>\n",
       "      <td>4320</td>\n",
       "      <td>3875</td>\n",
       "      <td>6999</td>\n",
       "    </tr>\n",
       "    <tr>\n",
       "      <th>256</th>\n",
       "      <td>2021-05-01</td>\n",
       "      <td>9124</td>\n",
       "      <td>487</td>\n",
       "      <td>4395</td>\n",
       "      <td>3929</td>\n",
       "      <td>6959</td>\n",
       "    </tr>\n",
       "    <tr>\n",
       "      <th>257</th>\n",
       "      <td>2021-06-01</td>\n",
       "      <td>8885</td>\n",
       "      <td>489</td>\n",
       "      <td>4079</td>\n",
       "      <td>4034</td>\n",
       "      <td>7038</td>\n",
       "    </tr>\n",
       "    <tr>\n",
       "      <th>258</th>\n",
       "      <td>2021-07-01</td>\n",
       "      <td>8708</td>\n",
       "      <td>480</td>\n",
       "      <td>4012</td>\n",
       "      <td>4103</td>\n",
       "      <td>6755</td>\n",
       "    </tr>\n",
       "    <tr>\n",
       "      <th>259</th>\n",
       "      <td>2021-08-01</td>\n",
       "      <td>8641</td>\n",
       "      <td>472</td>\n",
       "      <td>3905</td>\n",
       "      <td>4225</td>\n",
       "      <td>6854</td>\n",
       "    </tr>\n",
       "  </tbody>\n",
       "</table>\n",
       "<p>260 rows × 6 columns</p>\n",
       "</div>"
      ],
      "text/plain": [
       "    year_month   USA  China  Europe  India  Other\n",
       "0   2000-01-01     0      0       0      0      0\n",
       "1   2000-02-01     0      0       0      0      0\n",
       "2   2000-03-01   125      0      10      0      1\n",
       "3   2000-04-01   188      0      15      1      1\n",
       "4   2000-05-01   231      0      18      1      2\n",
       "..         ...   ...    ...     ...    ...    ...\n",
       "255 2021-04-01  9639    482    4320   3875   6999\n",
       "256 2021-05-01  9124    487    4395   3929   6959\n",
       "257 2021-06-01  8885    489    4079   4034   7038\n",
       "258 2021-07-01  8708    480    4012   4103   6755\n",
       "259 2021-08-01  8641    472    3905   4225   6854\n",
       "\n",
       "[260 rows x 6 columns]"
      ]
     },
     "execution_count": 51,
     "metadata": {},
     "output_type": "execute_result"
    }
   ],
   "source": [
    "country_df"
   ]
  },
  {
   "cell_type": "code",
   "execution_count": 55,
   "metadata": {},
   "outputs": [],
   "source": [
    "country_df['Total'] = \\\n",
    "np.array(usa[:len(country_df['year_month'].to_list())])+\\\n",
    "np.array(china[:len(country_df['year_month'].to_list())])+\\\n",
    "np.array(eu[:len(country_df['year_month'].to_list())])+\\\n",
    "np.array(india[:len(country_df['year_month'].to_list())])+\\\n",
    "np.array(other[:len(country_df['year_month'].to_list())])"
   ]
  },
  {
   "cell_type": "code",
   "execution_count": 56,
   "metadata": {},
   "outputs": [],
   "source": [
    "import matplotlib.pyplot as plt\n",
    "import seaborn as sns\n",
    "import numpy as np"
   ]
  },
  {
   "cell_type": "code",
   "execution_count": 62,
   "metadata": {},
   "outputs": [],
   "source": [
    "import re"
   ]
  },
  {
   "cell_type": "code",
   "execution_count": 63,
   "metadata": {},
   "outputs": [],
   "source": [
    "## read the dev_flags.txt to determine where to save\n",
    "with open(cwd+'/dev_flags.txt','r') as f:\n",
    "    raw_flags = f.read()\n",
    "flag_pattern = re.compile(r'= \\w+')\n",
    "flags1 = re.findall(flag_pattern,raw_flags)    \n",
    "flags_result = [i[2:] for i in flags1]\n",
    "dev_flag = flags_result[0]\n",
    "prod_flag = flags_result[1]"
   ]
  },
  {
   "cell_type": "code",
   "execution_count": 64,
   "metadata": {},
   "outputs": [
    {
     "name": "stdout",
     "output_type": "stream",
     "text": [
      "2021-08-05 22:34:34,131 - [WARNING] matplotlib.backends.backend_ps [backend_ps._is_transparent:794]: The PostScript backend does not support transparency; partially transparent artists will be rendered opaque.\n",
      "2021-08-05 22:34:34,166 - [WARNING] matplotlib.backends.backend_ps [backend_ps._is_transparent:794]: The PostScript backend does not support transparency; partially transparent artists will be rendered opaque.\n"
     ]
    },
    {
     "data": {
      "image/png": "[encoded data removed]",
      "text/plain": [
       "<Figure size 648x432 with 1 Axes>"
      ]
     },
     "metadata": {
      "needs_background": "light"
     },
     "output_type": "display_data"
    }
   ],
   "source": [
    "plt.figure(figsize=(9,6))\n",
    "plt.stackplot(country_df['year_month'], \\\n",
    "              country_df[country_df.columns.to_list()[1:-1]].to_numpy().T, \\\n",
    "             labels=country_df.columns.to_list()[1:-1], \\\n",
    "             colors=['blue', 'red', 'orange', 'green', 'black'],\\\n",
    "             edgecolor='white');\n",
    "\n",
    "plt.legend(loc='upper left');\n",
    "plt.ylabel('12-month trailing total')\n",
    "plt.xlim([datetime.datetime(2002,1,1), datetime.datetime(today.year,today.month,1)])\n",
    "\n",
    "if dev_flag == 'True':\n",
    "    plt.savefig(cwd+'/plots_local/simusers_geo_12months.eps', dpi=1000, bbox_inches='tight')\n",
    "    plt.savefig(cwd+'/plots_local/simusers_geo_12months.pdf', dpi=1000, bbox_inches='tight')\n",
    "    plt.savefig(cwd+'/plots_local/simusers_geo_12months.png', dpi=1000, bbox_inches='tight')\n",
    "elif prod_flag == 'True':\n",
    "    plt.savefig(cwd+'/plots_production/simusers_geo_12months.eps', dpi=1000, bbox_inches='tight')\n",
    "    plt.savefig(cwd+'/plots_production/simusers_geo_12months.pdf', dpi=1000, bbox_inches='tight')\n",
    "    plt.savefig(cwd+'/plots_production/simusers_geo_12months.png', dpi=1000, bbox_inches='tight')\n",
    "else:\n",
    "    print('no printing flag is active')\n",
    "# plt.show()"
   ]
  },
  {
   "cell_type": "code",
   "execution_count": null,
   "metadata": {},
   "outputs": [],
   "source": []
  },
  {
   "cell_type": "code",
   "execution_count": null,
   "metadata": {},
   "outputs": [],
   "source": []
  },
  {
   "cell_type": "code",
   "execution_count": 71,
   "metadata": {},
   "outputs": [
    {
     "name": "stdout",
     "output_type": "stream",
     "text": [
      "2021-08-05 22:37:07,938 - [WARNING] matplotlib.backends.backend_ps [backend_ps._is_transparent:794]: The PostScript backend does not support transparency; partially transparent artists will be rendered opaque.\n",
      "2021-08-05 22:37:07,941 - [WARNING] matplotlib.backends.backend_ps [backend_ps._is_transparent:794]: The PostScript backend does not support transparency; partially transparent artists will be rendered opaque.\n"
     ]
    },
    {
     "data": {
      "image/png": "[encoded data removed]",
      "text/plain": [
       "<Figure size 648x432 with 1 Axes>"
      ]
     },
     "metadata": {
      "needs_background": "light"
     },
     "output_type": "display_data"
    }
   ],
   "source": [
    "plt.figure(figsize=(9,6))\n",
    "plt.plot(country_df['year_month'], \\\n",
    "         country_df['USA'].to_numpy()/country_df['Total'].to_numpy() *100\\\n",
    "         , label='US', color='blue');\n",
    "plt.plot(country_df['year_month'], \\\n",
    "         country_df['China'].to_numpy()/country_df['Total'].to_numpy() *100\\\n",
    "         , label='China', color='red');\n",
    "plt.plot(country_df['year_month'], \\\n",
    "         country_df['Europe'].to_numpy()/country_df['Total'].to_numpy() *100\\\n",
    "         , label='Europe', color='orange');\n",
    "plt.plot(country_df['year_month'], \\\n",
    "         country_df['India'].to_numpy()/country_df['Total'].to_numpy() *100\\\n",
    "         , label='India', color='green');\n",
    "plt.plot(country_df['year_month'], \\\n",
    "         country_df['Other'].to_numpy()/country_df['Total'].to_numpy() *100\\\n",
    "         , label='Others', color='black');\n",
    "\n",
    "plt.xlim([datetime.datetime(2002,1,1), datetime.datetime(today.year,today.month,1)])\n",
    "plt.ylim([0, 100])\n",
    "plt.legend(loc='upper right');\n",
    "plt.ylabel('Percentage (%)')\n",
    "\n",
    "if dev_flag == 'True':\n",
    "    plt.savefig(cwd+'/plots_local/simusers_geo_12months_percent.eps', dpi=1000, bbox_inches='tight')\n",
    "    plt.savefig(cwd+'/plots_local/simusers_geo_12months_percent.pdf', dpi=1000, bbox_inches='tight')\n",
    "    plt.savefig(cwd+'/plots_local/simusers_geo_12months_percent.png', dpi=1000, bbox_inches='tight')\n",
    "elif prod_flag == 'True':\n",
    "    plt.savefig(cwd+'/plots_production/simusers_geo_12months_percent.eps', dpi=1000, bbox_inches='tight')\n",
    "    plt.savefig(cwd+'/plots_production/simusers_geo_12months_percent.pdf', dpi=1000, bbox_inches='tight')\n",
    "    plt.savefig(cwd+'/plots_production/simusers_geo_12months_percent.png', dpi=1000, bbox_inches='tight')\n",
    "else:\n",
    "    print('no printing flag is active')\n",
    "\n",
    "# plt.show()"
   ]
  },
  {
   "cell_type": "code",
   "execution_count": null,
   "metadata": {},
   "outputs": [],
   "source": []
  },
  {
   "cell_type": "code",
   "execution_count": 73,
   "metadata": {},
   "outputs": [],
   "source": [
    "country_df.to_csv(cwd+'/cached_data/simuser_geo_12months.csv')"
   ]
  }
 ],
 "metadata": {
  "kernelspec": {
   "display_name": "Python 3 (ipykernel)",
   "language": "python",
   "name": "python3"
  },
  "language_info": {
   "codemirror_mode": {
    "name": "ipython",
    "version": 3
   },
   "file_extension": ".py",
   "mimetype": "text/x-python",
   "name": "python",
   "nbconvert_exporter": "python",
   "pygments_lexer": "ipython3",
   "version": "3.8.10"
  }
 },
 "nbformat": 4,
 "nbformat_minor": 4
}
