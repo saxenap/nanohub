{
 "cells": [
  {
   "cell_type": "code",
   "execution_count": 2,
   "metadata": {
    "execution": {
     "iopub.execute_input": "2022-02-20T18:15:57.039330Z",
     "iopub.status.busy": "2022-02-20T18:15:57.037391Z",
     "iopub.status.idle": "2022-02-20T18:15:57.043953Z",
     "shell.execute_reply": "2022-02-20T18:15:57.042841Z",
     "shell.execute_reply.started": "2022-02-20T18:15:57.039284Z"
    },
    "tags": []
   },
   "outputs": [],
   "source": [
    "## build researcher events, student events, and self-study events\n",
    "## researcher are simply those with NH citations"
   ]
  },
  {
   "cell_type": "code",
   "execution_count": 3,
   "metadata": {
    "execution": {
     "iopub.execute_input": "2022-02-20T18:15:57.048054Z",
     "iopub.status.busy": "2022-02-20T18:15:57.046135Z",
     "iopub.status.idle": "2022-02-20T18:15:57.054051Z",
     "shell.execute_reply": "2022-02-20T18:15:57.052369Z",
     "shell.execute_reply.started": "2022-02-20T18:15:57.048013Z"
    },
    "tags": []
   },
   "outputs": [],
   "source": [
    "import sys\n",
    "import pandas as pd\n",
    "import time\n",
    "import datetime"
   ]
  },
  {
   "cell_type": "code",
   "execution_count": 4,
   "metadata": {
    "execution": {
     "iopub.execute_input": "2022-02-20T18:15:57.055639Z",
     "iopub.status.busy": "2022-02-20T18:15:57.055383Z",
     "iopub.status.idle": "2022-02-20T18:15:57.065222Z",
     "shell.execute_reply": "2022-02-20T18:15:57.063948Z",
     "shell.execute_reply.started": "2022-02-20T18:15:57.055613Z"
    }
   },
   "outputs": [],
   "source": [
    "import warnings\n",
    "warnings.filterwarnings('ignore')\n",
    "# warnings.filterwarnings(action='once')\n",
    "warnings.simplefilter(action='ignore', category=FutureWarning)"
   ]
  },
  {
   "cell_type": "code",
   "execution_count": 5,
   "metadata": {
    "execution": {
     "iopub.execute_input": "2022-02-20T18:15:57.068572Z",
     "iopub.status.busy": "2022-02-20T18:15:57.066892Z",
     "iopub.status.idle": "2022-02-20T18:16:01.412664Z",
     "shell.execute_reply": "2022-02-20T18:16:01.409095Z",
     "shell.execute_reply.started": "2022-02-20T18:15:57.068479Z"
    }
   },
   "outputs": [
    {
     "name": "stdout",
     "output_type": "stream",
     "text": [
      "\u001b[1mnanoHUB - Serving Students, Researchers & Instructors\u001b[0m\n"
     ]
    },
    {
     "name": "stderr",
     "output_type": "stream",
     "text": [
      "2022-02-20 18:16:00,457| ERROR   | Could not open connection to gateway\n"
     ]
    },
    {
     "name": "stdout",
     "output_type": "stream",
     "text": [
      "[ERROR] [sshtunnel - sshtunnel.SSHTunnelForwarder]: Could not open connection to gateway [sshtunnel._connect_to_gateway:1427]\n"
     ]
    },
    {
     "ename": "BaseSSHTunnelForwarderError",
     "evalue": "Could not establish session to SSH gateway",
     "output_type": "error",
     "traceback": [
      "\u001b[0;31m---------------------------------------------------------------------------\u001b[0m",
      "\u001b[0;31mBaseSSHTunnelForwarderError\u001b[0m               Traceback (most recent call last)",
      "Input \u001b[0;32mIn [5]\u001b[0m, in \u001b[0;36m<module>\u001b[0;34m\u001b[0m\n\u001b[1;32m      1\u001b[0m \u001b[38;5;28;01mfrom\u001b[39;00m \u001b[38;5;21;01mnanoHUB\u001b[39;00m\u001b[38;5;21;01m.\u001b[39;00m\u001b[38;5;21;01mapplication\u001b[39;00m \u001b[38;5;28;01mimport\u001b[39;00m Application\n\u001b[1;32m      3\u001b[0m application \u001b[38;5;241m=\u001b[39m Application\u001b[38;5;241m.\u001b[39mget_instance()\n\u001b[0;32m----> 4\u001b[0m nanohub_db \u001b[38;5;241m=\u001b[39m \u001b[43mapplication\u001b[49m\u001b[38;5;241;43m.\u001b[39;49m\u001b[43mnew_db_engine\u001b[49m\u001b[43m(\u001b[49m\u001b[38;5;124;43m'\u001b[39;49m\u001b[38;5;124;43mnanohub\u001b[39;49m\u001b[38;5;124;43m'\u001b[39;49m\u001b[43m)\u001b[49m\n\u001b[1;32m      5\u001b[0m nanohub_metrics_db \u001b[38;5;241m=\u001b[39m application\u001b[38;5;241m.\u001b[39mnew_db_engine(\u001b[38;5;124m'\u001b[39m\u001b[38;5;124mnanohub_metrics\u001b[39m\u001b[38;5;124m'\u001b[39m)\n\u001b[1;32m      6\u001b[0m wang159_myrmekes_db \u001b[38;5;241m=\u001b[39m application\u001b[38;5;241m.\u001b[39mnew_db_engine(\u001b[38;5;124m'\u001b[39m\u001b[38;5;124mrfm_data\u001b[39m\u001b[38;5;124m'\u001b[39m)\n",
      "File \u001b[0;32m~/nanoHUB/nanoHUB/application.py:19\u001b[0m, in \u001b[0;36mApplication.new_db_engine\u001b[0;34m(self, db_name)\u001b[0m\n\u001b[1;32m     17\u001b[0m \u001b[38;5;28;01mdef\u001b[39;00m \u001b[38;5;21mnew_db_engine\u001b[39m(\u001b[38;5;28mself\u001b[39m, db_name: \u001b[38;5;28mstr\u001b[39m) \u001b[38;5;241m-\u001b[39m\u001b[38;5;241m>\u001b[39m IDbConnectionFactory:\n\u001b[0;32m---> 19\u001b[0m     \u001b[38;5;28;01mreturn\u001b[39;00m \u001b[38;5;28;43mself\u001b[39;49m\u001b[38;5;241;43m.\u001b[39;49m\u001b[43mcontainer\u001b[49m\u001b[38;5;241;43m.\u001b[39;49m\u001b[43mdatabase\u001b[49m\u001b[38;5;241;43m.\u001b[39;49m\u001b[43mdb_connection_factory\u001b[49m\u001b[43m(\u001b[49m\u001b[43m)\u001b[49m\u001b[38;5;241;43m.\u001b[39;49m\u001b[43mget_connection_for\u001b[49m\u001b[43m(\u001b[49m\u001b[43mdb_name\u001b[49m\u001b[43m)\u001b[49m\n",
      "File \u001b[0;32m~/nanoHUB/nanoHUB/dataaccess/connection.py:110\u001b[0m, in \u001b[0;36mTunneledConnectionFactory.get_connection_for\u001b[0;34m(self, db_name)\u001b[0m\n\u001b[1;32m     98\u001b[0m tunnel \u001b[38;5;241m=\u001b[39m SSHTunnelForwarder(\n\u001b[1;32m     99\u001b[0m     (\n\u001b[1;32m    100\u001b[0m         \u001b[38;5;28mself\u001b[39m\u001b[38;5;241m.\u001b[39mparams\u001b[38;5;241m.\u001b[39mssh_host, \u001b[38;5;28mint\u001b[39m(\u001b[38;5;28mself\u001b[39m\u001b[38;5;241m.\u001b[39mparams\u001b[38;5;241m.\u001b[39mssh_port)\n\u001b[0;32m   (...)\u001b[0m\n\u001b[1;32m    107\u001b[0m     logger\u001b[38;5;241m=\u001b[39mlogger\n\u001b[1;32m    108\u001b[0m )\n\u001b[1;32m    109\u001b[0m \u001b[38;5;66;03m# self.logger.info(\"Started SSH Tunnel with %s\" % self.params.ssh_host)\u001b[39;00m\n\u001b[0;32m--> 110\u001b[0m \u001b[43mtunnel\u001b[49m\u001b[38;5;241;43m.\u001b[39;49m\u001b[43mstart\u001b[49m\u001b[43m(\u001b[49m\u001b[43m)\u001b[49m\n\u001b[1;32m    112\u001b[0m \u001b[38;5;28mself\u001b[39m\u001b[38;5;241m.\u001b[39mdb_factory\u001b[38;5;241m.\u001b[39mset_port(tunnel\u001b[38;5;241m.\u001b[39mlocal_bind_port)\n\u001b[1;32m    113\u001b[0m \u001b[38;5;28;01mreturn\u001b[39;00m \u001b[38;5;28mself\u001b[39m\u001b[38;5;241m.\u001b[39mdb_factory\u001b[38;5;241m.\u001b[39mget_connection_for(db_name)\n",
      "File \u001b[0;32m~/venv/lib/python3.8/site-packages/sshtunnel.py:1331\u001b[0m, in \u001b[0;36mSSHTunnelForwarder.start\u001b[0;34m(self)\u001b[0m\n\u001b[1;32m   1329\u001b[0m \u001b[38;5;28mself\u001b[39m\u001b[38;5;241m.\u001b[39m_create_tunnels()\n\u001b[1;32m   1330\u001b[0m \u001b[38;5;28;01mif\u001b[39;00m \u001b[38;5;129;01mnot\u001b[39;00m \u001b[38;5;28mself\u001b[39m\u001b[38;5;241m.\u001b[39mis_active:\n\u001b[0;32m-> 1331\u001b[0m     \u001b[38;5;28;43mself\u001b[39;49m\u001b[38;5;241;43m.\u001b[39;49m\u001b[43m_raise\u001b[49m\u001b[43m(\u001b[49m\u001b[43mBaseSSHTunnelForwarderError\u001b[49m\u001b[43m,\u001b[49m\n\u001b[1;32m   1332\u001b[0m \u001b[43m                \u001b[49m\u001b[43mreason\u001b[49m\u001b[38;5;241;43m=\u001b[39;49m\u001b[38;5;124;43m'\u001b[39;49m\u001b[38;5;124;43mCould not establish session to SSH gateway\u001b[39;49m\u001b[38;5;124;43m'\u001b[39;49m\u001b[43m)\u001b[49m\n\u001b[1;32m   1333\u001b[0m \u001b[38;5;28;01mfor\u001b[39;00m _srv \u001b[38;5;129;01min\u001b[39;00m \u001b[38;5;28mself\u001b[39m\u001b[38;5;241m.\u001b[39m_server_list:\n\u001b[1;32m   1334\u001b[0m     thread \u001b[38;5;241m=\u001b[39m threading\u001b[38;5;241m.\u001b[39mThread(\n\u001b[1;32m   1335\u001b[0m         target\u001b[38;5;241m=\u001b[39m\u001b[38;5;28mself\u001b[39m\u001b[38;5;241m.\u001b[39m_serve_forever_wrapper,\n\u001b[1;32m   1336\u001b[0m         args\u001b[38;5;241m=\u001b[39m(_srv, ),\n\u001b[1;32m   1337\u001b[0m         name\u001b[38;5;241m=\u001b[39m\u001b[38;5;124m'\u001b[39m\u001b[38;5;124mSrv-\u001b[39m\u001b[38;5;132;01m{0}\u001b[39;00m\u001b[38;5;124m'\u001b[39m\u001b[38;5;241m.\u001b[39mformat(address_to_str(_srv\u001b[38;5;241m.\u001b[39mlocal_port))\n\u001b[1;32m   1338\u001b[0m     )\n",
      "File \u001b[0;32m~/venv/lib/python3.8/site-packages/sshtunnel.py:1174\u001b[0m, in \u001b[0;36mSSHTunnelForwarder._raise\u001b[0;34m(self, exception, reason)\u001b[0m\n\u001b[1;32m   1172\u001b[0m \u001b[38;5;28;01mdef\u001b[39;00m \u001b[38;5;21m_raise\u001b[39m(\u001b[38;5;28mself\u001b[39m, exception\u001b[38;5;241m=\u001b[39mBaseSSHTunnelForwarderError, reason\u001b[38;5;241m=\u001b[39m\u001b[38;5;28;01mNone\u001b[39;00m):\n\u001b[1;32m   1173\u001b[0m     \u001b[38;5;28;01mif\u001b[39;00m \u001b[38;5;28mself\u001b[39m\u001b[38;5;241m.\u001b[39m_raise_fwd_exc:\n\u001b[0;32m-> 1174\u001b[0m         \u001b[38;5;28;01mraise\u001b[39;00m exception(reason)\n\u001b[1;32m   1175\u001b[0m     \u001b[38;5;28;01melse\u001b[39;00m:\n\u001b[1;32m   1176\u001b[0m         \u001b[38;5;28mself\u001b[39m\u001b[38;5;241m.\u001b[39mlogger\u001b[38;5;241m.\u001b[39merror(\u001b[38;5;28mrepr\u001b[39m(exception(reason)))\n",
      "\u001b[0;31mBaseSSHTunnelForwarderError\u001b[0m: Could not establish session to SSH gateway"
     ]
    }
   ],
   "source": [
    "from nanoHUB.application import Application\n",
    "\n",
    "application = Application.get_instance()\n",
    "nanohub_db = application.new_db_engine('nanohub')\n",
    "nanohub_metrics_db = application.new_db_engine('nanohub_metrics')\n",
    "wang159_myrmekes_db = application.new_db_engine('rfm_data')\n",
    "\n",
    "salesforce = application.new_salesforce_engine()\n",
    "db_s = salesforce"
   ]
  },
  {
   "cell_type": "markdown",
   "metadata": {},
   "source": [
    "## Figure: active simulation users by geolocation"
   ]
  },
  {
   "cell_type": "code",
   "execution_count": null,
   "metadata": {
    "execution": {
     "iopub.status.busy": "2022-02-20T18:16:01.414551Z",
     "iopub.status.idle": "2022-02-20T18:16:01.414845Z",
     "shell.execute_reply": "2022-02-20T18:16:01.414712Z",
     "shell.execute_reply.started": "2022-02-20T18:16:01.414699Z"
    }
   },
   "outputs": [],
   "source": [
    "## need to do iterative importing once again"
   ]
  },
  {
   "cell_type": "code",
   "execution_count": null,
   "metadata": {
    "execution": {
     "iopub.status.busy": "2022-02-20T18:16:01.416634Z",
     "iopub.status.idle": "2022-02-20T18:16:01.417065Z",
     "shell.execute_reply": "2022-02-20T18:16:01.416865Z",
     "shell.execute_reply.started": "2022-02-20T18:16:01.416852Z"
    }
   },
   "outputs": [],
   "source": [
    "import os\n",
    "cwd = os.getcwd()"
   ]
  },
  {
   "cell_type": "code",
   "execution_count": null,
   "metadata": {
    "execution": {
     "iopub.status.busy": "2022-02-20T18:16:01.418629Z",
     "iopub.status.idle": "2022-02-20T18:16:01.418914Z",
     "shell.execute_reply": "2022-02-20T18:16:01.418768Z",
     "shell.execute_reply.started": "2022-02-20T18:16:01.418753Z"
    }
   },
   "outputs": [],
   "source": [
    "## caching check \n",
    "try:\n",
    "    user_breakdown_df = pd.read_csv(cwd+'/cached_data/geo_nh_user_breakdown.csv')\n",
    "    print(user_breakdown_df)\n",
    "    cache_flag = True\n",
    "except:\n",
    "    cache_flag = False"
   ]
  },
  {
   "cell_type": "code",
   "execution_count": null,
   "metadata": {
    "execution": {
     "iopub.status.busy": "2022-02-20T18:16:01.420698Z",
     "iopub.status.idle": "2022-02-20T18:16:01.421113Z",
     "shell.execute_reply": "2022-02-20T18:16:01.420887Z",
     "shell.execute_reply.started": "2022-02-20T18:16:01.420872Z"
    }
   },
   "outputs": [],
   "source": [
    "## determine starting year\n",
    "if cache_flag == False:\n",
    "    start_year_base = 1999 #2000\n",
    "else:\n",
    "#     print('check the saved file')\n",
    "    start_year_base = int(user_breakdown_df['year_month'].to_list()[-1][:4])"
   ]
  },
  {
   "cell_type": "code",
   "execution_count": null,
   "metadata": {
    "execution": {
     "iopub.status.busy": "2022-02-20T18:16:01.422412Z",
     "iopub.status.idle": "2022-02-20T18:16:01.422716Z",
     "shell.execute_reply": "2022-02-20T18:16:01.422584Z",
     "shell.execute_reply.started": "2022-02-20T18:16:01.422541Z"
    }
   },
   "outputs": [],
   "source": [
    "start_year_base"
   ]
  },
  {
   "cell_type": "code",
   "execution_count": null,
   "metadata": {
    "execution": {
     "iopub.status.busy": "2022-02-20T18:16:01.423913Z",
     "iopub.status.idle": "2022-02-20T18:16:01.424231Z",
     "shell.execute_reply": "2022-02-20T18:16:01.424113Z",
     "shell.execute_reply.started": "2022-02-20T18:16:01.424101Z"
    }
   },
   "outputs": [],
   "source": [
    "import datetime\n",
    "today = datetime.datetime.today()"
   ]
  },
  {
   "cell_type": "code",
   "execution_count": null,
   "metadata": {
    "execution": {
     "iopub.status.busy": "2022-02-20T18:16:01.426462Z",
     "iopub.status.idle": "2022-02-20T18:16:01.426796Z",
     "shell.execute_reply": "2022-02-20T18:16:01.426642Z",
     "shell.execute_reply.started": "2022-02-20T18:16:01.426628Z"
    }
   },
   "outputs": [],
   "source": [
    "all_months_list = list()\n",
    "for this_year in range(start_year_base+1,today.year+2):\n",
    "    if cache_flag == True:\n",
    "        for this_month in range(1,today.month+1):\n",
    "            all_months_list.append(datetime.datetime(this_year, this_month, 1))\n",
    "    else:\n",
    "        for this_month in range(1,12+1):\n",
    "            all_months_list.append(datetime.datetime(this_year, this_month, 1))"
   ]
  },
  {
   "cell_type": "code",
   "execution_count": null,
   "metadata": {
    "execution": {
     "iopub.status.busy": "2022-02-20T18:16:01.428413Z",
     "iopub.status.idle": "2022-02-20T18:16:01.428784Z",
     "shell.execute_reply": "2022-02-20T18:16:01.428651Z",
     "shell.execute_reply.started": "2022-02-20T18:16:01.428632Z"
    }
   },
   "outputs": [],
   "source": [
    "country_df = pd.DataFrame()\n",
    "if cache_flag == False:\n",
    "    if today.month != 12:\n",
    "        country_df['year_month'] = all_months_list[:-12-(12-today.month)]"
   ]
  },
  {
   "cell_type": "code",
   "execution_count": null,
   "metadata": {
    "execution": {
     "iopub.status.busy": "2022-02-20T18:16:01.430587Z",
     "iopub.status.idle": "2022-02-20T18:16:01.430961Z",
     "shell.execute_reply": "2022-02-20T18:16:01.430786Z",
     "shell.execute_reply.started": "2022-02-20T18:16:01.430758Z"
    }
   },
   "outputs": [],
   "source": [
    "country_df"
   ]
  },
  {
   "cell_type": "code",
   "execution_count": null,
   "metadata": {
    "execution": {
     "iopub.status.busy": "2022-02-20T18:16:01.432762Z",
     "iopub.status.idle": "2022-02-20T18:16:01.433142Z",
     "shell.execute_reply": "2022-02-20T18:16:01.432951Z",
     "shell.execute_reply.started": "2022-02-20T18:16:01.432937Z"
    }
   },
   "outputs": [],
   "source": [
    "usa = []\n",
    "china = []\n",
    "eu = []\n",
    "india = []\n",
    "other = []\n",
    "eu_list = ['BE','BG','EL','CZ','DK','DE','EE','IE','ES','FR','HR','IT','CY','LV',\\\n",
    "          'LT','LU','HU','MT','NL','AT','PL','PT','RO','SI','SK','FI','SE','IS',\\\n",
    "           'NO','LI','CH','UK','ME','MK','AL','RS','TR','BA','XK','AM','AZ','BY',\\\n",
    "           'MD','GE','UA','RU']"
   ]
  },
  {
   "cell_type": "code",
   "execution_count": null,
   "metadata": {
    "execution": {
     "iopub.status.busy": "2022-02-20T18:16:01.434990Z",
     "iopub.status.idle": "2022-02-20T18:16:01.435376Z",
     "shell.execute_reply": "2022-02-20T18:16:01.435149Z",
     "shell.execute_reply.started": "2022-02-20T18:16:01.435129Z"
    }
   },
   "outputs": [],
   "source": [
    "from copy import deepcopy\n",
    "import numpy as np"
   ]
  },
  {
   "cell_type": "code",
   "execution_count": null,
   "metadata": {
    "execution": {
     "iopub.status.busy": "2022-02-20T18:16:01.437370Z",
     "iopub.status.idle": "2022-02-20T18:16:01.437770Z",
     "shell.execute_reply": "2022-02-20T18:16:01.437599Z",
     "shell.execute_reply.started": "2022-02-20T18:16:01.437586Z"
    },
    "tags": []
   },
   "outputs": [],
   "source": [
    "## computer has memory limits, so split toolstart into branches\n",
    "start_year = deepcopy(start_year_base)\n",
    "\n",
    "while start_year < today.year+1: #datetime.datetime.now().year:\n",
    "    start_year += 1\n",
    "\n",
    "    for i in range(1,13):\n",
    "        if i < 10:\n",
    "            start_date = r\"'\"+str(start_year-1)+r\"-0\"+str(i)+r\"-01'\"\n",
    "            end_date = r\"'\"+str(start_year)+r\"-0\"+str(i)+r\"-01'\"\n",
    "        else:\n",
    "            start_date = r\"'\"+str(start_year-1)+r\"-\"+str(i)+r\"-01'\"\n",
    "            end_date = r\"'\"+str(start_year)+r\"-\"+str(i)+r\"-01'\"\n",
    "\n",
    "        sql_query_country = \"select distinct user, countryip from toolstart where user != 'instanton' \"\\\n",
    "        + \"and user != 'gridstat' and datetime <= \"+end_date+\" and datetime >= \"+start_date\n",
    "        country_users = pd.read_sql_query(sql_query_country, nanohub_metrics_db)#.drop_duplicates()\n",
    "        \n",
    "        # run geography filter\n",
    "        country_ipds = country_users['countryip'].to_list()\n",
    "        \n",
    "        bool_US = np.in1d(np.array(country_ipds),np.array(['US']))\n",
    "        bool_EU = np.in1d(np.array(country_ipds),np.array(eu_list))\n",
    "        bool_CN = np.in1d(np.array(country_ipds),np.array(['CN']))\n",
    "        bool_IN = np.in1d(np.array(country_ipds),np.array(['IN']))\n",
    "#         bool_OT = bool_US | bool_EU | bool_CN | bool_IN\n",
    "        \n",
    "        usa.append(len(np.where(bool_US)[0].tolist()))\n",
    "        eu.append(len(np.where(bool_EU)[0].tolist()))\n",
    "        china.append(len(np.where(bool_CN)[0].tolist()))\n",
    "        india.append(len(np.where(bool_IN)[0].tolist()))\n",
    "        other.append(len(country_ipds)-usa[-1]-eu[-1]-china[-1]-india[-1]) # len(np.where(bool_OT)[0].tolist()))\n",
    "        \n",
    "#         country_users.append(country_users.drop_duplicates().shape[0])\n",
    "\n",
    "    print(start_year)"
   ]
  },
  {
   "cell_type": "code",
   "execution_count": null,
   "metadata": {
    "execution": {
     "iopub.status.busy": "2022-02-20T18:16:01.439252Z",
     "iopub.status.idle": "2022-02-20T18:16:01.439745Z",
     "shell.execute_reply": "2022-02-20T18:16:01.439520Z",
     "shell.execute_reply.started": "2022-02-20T18:16:01.439460Z"
    }
   },
   "outputs": [],
   "source": [
    "country_df.shape"
   ]
  },
  {
   "cell_type": "code",
   "execution_count": null,
   "metadata": {},
   "outputs": [],
   "source": []
  },
  {
   "cell_type": "code",
   "execution_count": null,
   "metadata": {
    "execution": {
     "iopub.status.busy": "2022-02-20T18:16:01.441243Z",
     "iopub.status.idle": "2022-02-20T18:16:01.441607Z",
     "shell.execute_reply": "2022-02-20T18:16:01.441389Z",
     "shell.execute_reply.started": "2022-02-20T18:16:01.441376Z"
    }
   },
   "outputs": [],
   "source": [
    "len(country_df['year_month'].to_list())"
   ]
  },
  {
   "cell_type": "code",
   "execution_count": null,
   "metadata": {
    "execution": {
     "iopub.status.busy": "2022-02-20T18:16:01.443667Z",
     "iopub.status.idle": "2022-02-20T18:16:01.444024Z",
     "shell.execute_reply": "2022-02-20T18:16:01.443896Z",
     "shell.execute_reply.started": "2022-02-20T18:16:01.443881Z"
    }
   },
   "outputs": [],
   "source": [
    "print(len(usa))\n",
    "usa2 = usa[12:][:len(country_df['year_month'].to_list())]\n",
    "print(len(usa2))"
   ]
  },
  {
   "cell_type": "code",
   "execution_count": null,
   "metadata": {
    "execution": {
     "iopub.status.busy": "2022-02-20T18:16:01.446183Z",
     "iopub.status.idle": "2022-02-20T18:16:01.446572Z",
     "shell.execute_reply": "2022-02-20T18:16:01.446365Z",
     "shell.execute_reply.started": "2022-02-20T18:16:01.446352Z"
    }
   },
   "outputs": [],
   "source": [
    "country_df['USA'] = usa[:len(country_df['year_month'].to_list())]\n",
    "country_df['China'] = china[:len(country_df['year_month'].to_list())]\n",
    "country_df['Europe'] = eu[:len(country_df['year_month'].to_list())]\n",
    "country_df['India'] = india[:len(country_df['year_month'].to_list())]\n",
    "country_df['Other'] = other[:len(country_df['year_month'].to_list())]"
   ]
  },
  {
   "cell_type": "code",
   "execution_count": null,
   "metadata": {
    "execution": {
     "iopub.status.busy": "2022-02-20T18:16:01.447763Z",
     "iopub.status.idle": "2022-02-20T18:16:01.448059Z",
     "shell.execute_reply": "2022-02-20T18:16:01.447901Z",
     "shell.execute_reply.started": "2022-02-20T18:16:01.447885Z"
    }
   },
   "outputs": [],
   "source": [
    "country_df"
   ]
  },
  {
   "cell_type": "code",
   "execution_count": null,
   "metadata": {
    "execution": {
     "iopub.status.busy": "2022-02-20T18:16:01.450461Z",
     "iopub.status.idle": "2022-02-20T18:16:01.450777Z",
     "shell.execute_reply": "2022-02-20T18:16:01.450650Z",
     "shell.execute_reply.started": "2022-02-20T18:16:01.450636Z"
    }
   },
   "outputs": [],
   "source": [
    "country_df['Total'] = \\\n",
    "np.array(usa[:len(country_df['year_month'].to_list())])+\\\n",
    "np.array(china[:len(country_df['year_month'].to_list())])+\\\n",
    "np.array(eu[:len(country_df['year_month'].to_list())])+\\\n",
    "np.array(india[:len(country_df['year_month'].to_list())])+\\\n",
    "np.array(other[:len(country_df['year_month'].to_list())])"
   ]
  },
  {
   "cell_type": "code",
   "execution_count": null,
   "metadata": {
    "execution": {
     "iopub.status.busy": "2022-02-20T18:16:01.453086Z",
     "iopub.status.idle": "2022-02-20T18:16:01.453595Z",
     "shell.execute_reply": "2022-02-20T18:16:01.453309Z",
     "shell.execute_reply.started": "2022-02-20T18:16:01.453287Z"
    }
   },
   "outputs": [],
   "source": [
    "import matplotlib.pyplot as plt\n",
    "import seaborn as sns\n",
    "import numpy as np"
   ]
  },
  {
   "cell_type": "code",
   "execution_count": null,
   "metadata": {
    "execution": {
     "iopub.status.busy": "2022-02-20T18:16:01.457754Z",
     "iopub.status.idle": "2022-02-20T18:16:01.458177Z",
     "shell.execute_reply": "2022-02-20T18:16:01.457944Z",
     "shell.execute_reply.started": "2022-02-20T18:16:01.457928Z"
    }
   },
   "outputs": [],
   "source": [
    "import re"
   ]
  },
  {
   "cell_type": "code",
   "execution_count": null,
   "metadata": {
    "execution": {
     "iopub.status.busy": "2022-02-20T18:16:01.459411Z",
     "iopub.status.idle": "2022-02-20T18:16:01.460376Z",
     "shell.execute_reply": "2022-02-20T18:16:01.459873Z",
     "shell.execute_reply.started": "2022-02-20T18:16:01.459838Z"
    }
   },
   "outputs": [],
   "source": [
    "## read the dev_flags.txt to determine where to save\n",
    "with open(cwd+'/dev_flags.txt','r') as f:\n",
    "    raw_flags = f.read()\n",
    "flag_pattern = re.compile(r'= \\w+')\n",
    "flags1 = re.findall(flag_pattern,raw_flags)    \n",
    "flags_result = [i[2:] for i in flags1]\n",
    "dev_flag = flags_result[0]\n",
    "prod_flag = flags_result[1]"
   ]
  },
  {
   "cell_type": "code",
   "execution_count": null,
   "metadata": {
    "execution": {
     "iopub.status.busy": "2022-02-20T18:16:01.462385Z",
     "iopub.status.idle": "2022-02-20T18:16:01.463079Z",
     "shell.execute_reply": "2022-02-20T18:16:01.462813Z",
     "shell.execute_reply.started": "2022-02-20T18:16:01.462788Z"
    },
    "tags": []
   },
   "outputs": [],
   "source": [
    "plt.figure(figsize=(9,6))\n",
    "plt.stackplot(country_df['year_month'], \\\n",
    "              country_df[country_df.columns.to_list()[1:-1]].to_numpy().T, \\\n",
    "             labels=country_df.columns.to_list()[1:-1], \\\n",
    "             colors=['blue', 'red', 'orange', 'green', 'black'],\\\n",
    "             edgecolor='white');\n",
    "\n",
    "plt.legend(loc='upper left');\n",
    "plt.ylabel('12-month trailing total')\n",
    "plt.xlim([datetime.datetime(2002,1,1), datetime.datetime(today.year,today.month,1)])\n",
    "\n",
    "if dev_flag == 'True':\n",
    "    plt.savefig(cwd+'/plots_production/300_simusers_geo_12months.eps', dpi=300, bbox_inches='tight')\n",
    "    plt.savefig(cwd+'/plots_production/300_simusers_geo_12months.pdf', dpi=300, bbox_inches='tight')\n",
    "    plt.savefig(cwd+'/plots_production/300_simusers_geo_12months.png', dpi=300, bbox_inches='tight')\n",
    "elif prod_flag == 'True':\n",
    "    plt.savefig(cwd+'/plots_production/300_simusers_geo_12months.eps', dpi=300, bbox_inches='tight')\n",
    "    plt.savefig(cwd+'/plots_production/300_simusers_geo_12months.pdf', dpi=300, bbox_inches='tight')\n",
    "    plt.savefig(cwd+'/plots_production/300_simusers_geo_12months.png', dpi=300, bbox_inches='tight')\n",
    "else:\n",
    "    print('no printing flag is active')\n",
    "# plt.show()"
   ]
  },
  {
   "cell_type": "code",
   "execution_count": null,
   "metadata": {},
   "outputs": [],
   "source": []
  },
  {
   "cell_type": "code",
   "execution_count": null,
   "metadata": {},
   "outputs": [],
   "source": []
  },
  {
   "cell_type": "code",
   "execution_count": null,
   "metadata": {
    "execution": {
     "iopub.status.busy": "2022-02-20T18:16:01.465170Z",
     "iopub.status.idle": "2022-02-20T18:16:01.465724Z",
     "shell.execute_reply": "2022-02-20T18:16:01.465463Z",
     "shell.execute_reply.started": "2022-02-20T18:16:01.465409Z"
    },
    "tags": []
   },
   "outputs": [],
   "source": [
    "plt.figure(figsize=(9,6))\n",
    "plt.plot(country_df['year_month'], \\\n",
    "         country_df['USA'].to_numpy()/country_df['Total'].to_numpy() *100\\\n",
    "         , label='US', color='blue');\n",
    "plt.plot(country_df['year_month'], \\\n",
    "         country_df['China'].to_numpy()/country_df['Total'].to_numpy() *100\\\n",
    "         , label='China', color='red');\n",
    "plt.plot(country_df['year_month'], \\\n",
    "         country_df['Europe'].to_numpy()/country_df['Total'].to_numpy() *100\\\n",
    "         , label='Europe', color='orange');\n",
    "plt.plot(country_df['year_month'], \\\n",
    "         country_df['India'].to_numpy()/country_df['Total'].to_numpy() *100\\\n",
    "         , label='India', color='green');\n",
    "plt.plot(country_df['year_month'], \\\n",
    "         country_df['Other'].to_numpy()/country_df['Total'].to_numpy() *100\\\n",
    "         , label='Others', color='black');\n",
    "\n",
    "plt.xlim([datetime.datetime(2002,1,1), datetime.datetime(today.year,today.month,1)])\n",
    "plt.ylim([0, 100])\n",
    "plt.legend(loc='upper right');\n",
    "plt.ylabel('Percentage (%)')\n",
    "\n",
    "if dev_flag == 'True':\n",
    "    plt.savefig(cwd+'/plots_local/300_simusers_geo_12months_percent.eps', dpi=300, bbox_inches='tight')\n",
    "    plt.savefig(cwd+'/plots_local/300_simusers_geo_12months_percent.pdf', dpi=300, bbox_inches='tight')\n",
    "    plt.savefig(cwd+'/plots_local/300_simusers_geo_12months_percent.png', dpi=300, bbox_inches='tight')\n",
    "elif prod_flag == 'True':\n",
    "    plt.savefig(cwd+'/plots_production/300_simusers_geo_12months_percent.eps', dpi=300, bbox_inches='tight')\n",
    "    plt.savefig(cwd+'/plots_production/300_simusers_geo_12months_percent.pdf', dpi=300, bbox_inches='tight')\n",
    "    plt.savefig(cwd+'/plots_production/300_simusers_geo_12months_percent.png', dpi=300, bbox_inches='tight')\n",
    "else:\n",
    "    print('no printing flag is active')\n",
    "\n",
    "# plt.show()"
   ]
  },
  {
   "cell_type": "code",
   "execution_count": null,
   "metadata": {},
   "outputs": [],
   "source": []
  },
  {
   "cell_type": "code",
   "execution_count": null,
   "metadata": {
    "execution": {
     "iopub.status.busy": "2022-02-20T18:16:01.469942Z",
     "iopub.status.idle": "2022-02-20T18:16:01.470548Z",
     "shell.execute_reply": "2022-02-20T18:16:01.470283Z",
     "shell.execute_reply.started": "2022-02-20T18:16:01.470229Z"
    },
    "tags": []
   },
   "outputs": [],
   "source": [
    "country_df.to_csv(cwd+'/cached_data/simuser_geo_12months.csv')"
   ]
  },
  {
   "cell_type": "code",
   "execution_count": null,
   "metadata": {},
   "outputs": [],
   "source": []
  }
 ],
 "metadata": {
  "kernelspec": {
   "display_name": "Python 3 (ipykernel)",
   "language": "python",
   "name": "python3"
  },
  "language_info": {
   "codemirror_mode": {
    "name": "ipython",
    "version": 3
   },
   "file_extension": ".py",
   "mimetype": "text/x-python",
   "name": "python",
   "nbconvert_exporter": "python",
   "pygments_lexer": "ipython3",
   "version": "3.8.10"
  }
 },
 "nbformat": 4,
 "nbformat_minor": 4
}
