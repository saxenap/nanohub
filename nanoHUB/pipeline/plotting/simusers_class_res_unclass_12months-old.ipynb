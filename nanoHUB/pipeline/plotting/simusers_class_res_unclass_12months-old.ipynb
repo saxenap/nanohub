{
 "cells": [
  {
   "cell_type": "code",
   "execution_count": 1,
   "metadata": {
    "execution": {
     "iopub.execute_input": "2022-02-17T23:52:02.196154Z",
     "iopub.status.busy": "2022-02-17T23:52:02.195471Z",
     "iopub.status.idle": "2022-02-17T23:52:02.232984Z",
     "shell.execute_reply": "2022-02-17T23:52:02.228976Z",
     "shell.execute_reply.started": "2022-02-17T23:52:02.196026Z"
    },
    "tags": []
   },
   "outputs": [],
   "source": [
    "## build researcher events, student events, and self-study events\n",
    "## researcher are simply those with NH citations"
   ]
  },
  {
   "cell_type": "code",
   "execution_count": 2,
   "metadata": {
    "execution": {
     "iopub.execute_input": "2022-02-17T23:52:02.246609Z",
     "iopub.status.busy": "2022-02-17T23:52:02.245757Z",
     "iopub.status.idle": "2022-02-17T23:52:03.314331Z",
     "shell.execute_reply": "2022-02-17T23:52:03.311973Z",
     "shell.execute_reply.started": "2022-02-17T23:52:02.246527Z"
    },
    "tags": []
   },
   "outputs": [],
   "source": [
    "import sys\n",
    "\n",
    "import pandas as pd\n",
    "import time\n",
    "import datetime"
   ]
  },
  {
   "cell_type": "code",
   "execution_count": 3,
   "metadata": {
    "execution": {
     "iopub.execute_input": "2022-02-17T23:52:03.317415Z",
     "iopub.status.busy": "2022-02-17T23:52:03.317138Z",
     "iopub.status.idle": "2022-02-17T23:52:03.330906Z",
     "shell.execute_reply": "2022-02-17T23:52:03.327661Z",
     "shell.execute_reply.started": "2022-02-17T23:52:03.317374Z"
    },
    "tags": []
   },
   "outputs": [],
   "source": [
    "import warnings\n",
    "warnings.filterwarnings('ignore')\n",
    "# warnings.filterwarnings(action='once')\n",
    "warnings.simplefilter(action='ignore', category=FutureWarning)"
   ]
  },
  {
   "cell_type": "code",
   "execution_count": 4,
   "metadata": {
    "execution": {
     "iopub.execute_input": "2022-02-17T23:52:03.335755Z",
     "iopub.status.busy": "2022-02-17T23:52:03.335270Z",
     "iopub.status.idle": "2022-02-17T23:52:07.112076Z",
     "shell.execute_reply": "2022-02-17T23:52:07.109076Z",
     "shell.execute_reply.started": "2022-02-17T23:52:03.335707Z"
    },
    "tags": []
   },
   "outputs": [
    {
     "name": "stdout",
     "output_type": "stream",
     "text": [
      "\u001b[1mnanoHUB - Serving Students, Researchers & Instructors\u001b[0m\n",
      "Obtained Salesforce access token ...... True\n"
     ]
    }
   ],
   "source": [
    "from nanoHUB.application import Application\n",
    "\n",
    "application = Application.get_instance()\n",
    "nanohub_db = application.new_db_engine('nanohub')\n",
    "nanohub_metrics_db = application.new_db_engine('nanohub_metrics')\n",
    "wang159_myrmekes_db = application.new_db_engine('rfm_data')\n",
    "\n",
    "salesforce = application.new_salesforce_engine()\n",
    "db_s = salesforce"
   ]
  },
  {
   "cell_type": "code",
   "execution_count": null,
   "metadata": {},
   "outputs": [],
   "source": []
  },
  {
   "cell_type": "markdown",
   "metadata": {},
   "source": [
    "## Cumulative classroom/research/self-study"
   ]
  },
  {
   "cell_type": "code",
   "execution_count": 5,
   "metadata": {
    "execution": {
     "iopub.execute_input": "2022-02-17T23:52:07.122038Z",
     "iopub.status.busy": "2022-02-17T23:52:07.114549Z",
     "iopub.status.idle": "2022-02-17T23:52:07.130479Z",
     "shell.execute_reply": "2022-02-17T23:52:07.128949Z",
     "shell.execute_reply.started": "2022-02-17T23:52:07.121595Z"
    },
    "tags": []
   },
   "outputs": [],
   "source": [
    "###\n",
    "# 1. pull all unique classroom users from SF\n",
    "# 2. pull all research users from DB2\n",
    "# 3. pull all contacts from SF\n",
    "# 4. iteratively pull toolstart df again by year starting from 2000"
   ]
  },
  {
   "cell_type": "code",
   "execution_count": 6,
   "metadata": {
    "execution": {
     "iopub.execute_input": "2022-02-17T23:52:07.136489Z",
     "iopub.status.busy": "2022-02-17T23:52:07.133330Z",
     "iopub.status.idle": "2022-02-17T23:52:20.491716Z",
     "shell.execute_reply": "2022-02-17T23:52:20.490822Z",
     "shell.execute_reply.started": "2022-02-17T23:52:07.136328Z"
    },
    "tags": []
   },
   "outputs": [
    {
     "name": "stdout",
     "output_type": "stream",
     "text": [
      "[Success] Bulk job creation successful. Job ID = 7505w00000dtA08AAE\n",
      "{\"id\":\"7505w00000dtA08AAE\",\"operation\":\"query\",\"object\":\"ContactToolClusterAssociation__c\",\"createdById\":\"0055w00000DM5bOAAT\",\"createdDate\":\"2022-02-17T23:52:07.000+0000\",\"systemModstamp\":\"2022-02-17T23:52:07.000+0000\",\"state\":\"UploadComplete\",\"concurrencyMode\":\"Parallel\",\"contentType\":\"CSV\",\"apiVersion\":47.0,\"jobType\":\"V2Query\",\"lineEnding\":\"LF\",\"columnDelimiter\":\"COMMA\",\"retries\":0,\"totalProcessingTime\":0}\n",
      "{\"id\":\"7505w00000dtA08AAE\",\"operation\":\"query\",\"object\":\"ContactToolClusterAssociation__c\",\"createdById\":\"0055w00000DM5bOAAT\",\"createdDate\":\"2022-02-17T23:52:07.000+0000\",\"systemModstamp\":\"2022-02-17T23:52:17.000+0000\",\"state\":\"JobComplete\",\"concurrencyMode\":\"Parallel\",\"contentType\":\"CSV\",\"apiVersion\":47.0,\"jobType\":\"V2Query\",\"lineEnding\":\"LF\",\"columnDelimiter\":\"COMMA\",\"numberRecordsProcessed\":102626,\"retries\":0,\"totalProcessingTime\":4494}\n",
      "[Success] Bulk job completed successfully.\n"
     ]
    }
   ],
   "source": [
    "## pull the list of contacts within each cluster\n",
    "contacts_in_cluster_df = db_s.query_data('Select Contact__c, Tool_Usage_Cluster__c from ContactToolClusterAssociation__c')"
   ]
  },
  {
   "cell_type": "code",
   "execution_count": 7,
   "metadata": {
    "execution": {
     "iopub.execute_input": "2022-02-17T23:52:20.497278Z",
     "iopub.status.busy": "2022-02-17T23:52:20.495317Z",
     "iopub.status.idle": "2022-02-17T23:52:20.540121Z",
     "shell.execute_reply": "2022-02-17T23:52:20.537047Z",
     "shell.execute_reply.started": "2022-02-17T23:52:20.497190Z"
    },
    "tags": []
   },
   "outputs": [
    {
     "data": {
      "text/html": [
       "<div>\n",
       "<style scoped>\n",
       "    .dataframe tbody tr th:only-of-type {\n",
       "        vertical-align: middle;\n",
       "    }\n",
       "\n",
       "    .dataframe tbody tr th {\n",
       "        vertical-align: top;\n",
       "    }\n",
       "\n",
       "    .dataframe thead th {\n",
       "        text-align: right;\n",
       "    }\n",
       "</style>\n",
       "<table border=\"1\" class=\"dataframe\">\n",
       "  <thead>\n",
       "    <tr style=\"text-align: right;\">\n",
       "      <th></th>\n",
       "      <th>Contact__c</th>\n",
       "      <th>Tool_Usage_Cluster__c</th>\n",
       "    </tr>\n",
       "  </thead>\n",
       "  <tbody>\n",
       "    <tr>\n",
       "      <th>0</th>\n",
       "      <td>0035w000034JLEEAA4</td>\n",
       "      <td>a0w5w00000A8OFoAAN</td>\n",
       "    </tr>\n",
       "    <tr>\n",
       "      <th>1</th>\n",
       "      <td>0035w000034K074AAC</td>\n",
       "      <td>a0w5w000009Q7m8AAC</td>\n",
       "    </tr>\n",
       "  </tbody>\n",
       "</table>\n",
       "</div>"
      ],
      "text/plain": [
       "           Contact__c Tool_Usage_Cluster__c\n",
       "0  0035w000034JLEEAA4    a0w5w00000A8OFoAAN\n",
       "1  0035w000034K074AAC    a0w5w000009Q7m8AAC"
      ]
     },
     "metadata": {},
     "output_type": "display_data"
    },
    {
     "name": "stdout",
     "output_type": "stream",
     "text": [
      "(102626, 2)\n"
     ]
    }
   ],
   "source": [
    "display(contacts_in_cluster_df.head(2))\n",
    "print(contacts_in_cluster_df.shape)"
   ]
  },
  {
   "cell_type": "code",
   "execution_count": 8,
   "metadata": {
    "execution": {
     "iopub.execute_input": "2022-02-17T23:52:20.549606Z",
     "iopub.status.busy": "2022-02-17T23:52:20.546507Z",
     "iopub.status.idle": "2022-02-17T23:52:20.567358Z",
     "shell.execute_reply": "2022-02-17T23:52:20.563986Z",
     "shell.execute_reply.started": "2022-02-17T23:52:20.548598Z"
    },
    "tags": []
   },
   "outputs": [
    {
     "name": "stdout",
     "output_type": "stream",
     "text": [
      "/home/saxenap/nanoHUB/nanoHUB/pipeline/plotting\n"
     ]
    }
   ],
   "source": [
    "import os\n",
    "cwd = os.getcwd()\n",
    "print(cwd)"
   ]
  },
  {
   "cell_type": "code",
   "execution_count": 9,
   "metadata": {
    "execution": {
     "iopub.execute_input": "2022-02-17T23:52:20.571320Z",
     "iopub.status.busy": "2022-02-17T23:52:20.570062Z",
     "iopub.status.idle": "2022-02-17T23:52:20.590501Z",
     "shell.execute_reply": "2022-02-17T23:52:20.587433Z",
     "shell.execute_reply.started": "2022-02-17T23:52:20.571224Z"
    },
    "tags": []
   },
   "outputs": [
    {
     "name": "stdout",
     "output_type": "stream",
     "text": [
      "102626\n"
     ]
    }
   ],
   "source": [
    "print(contacts_in_cluster_df.shape[0])"
   ]
  },
  {
   "cell_type": "code",
   "execution_count": 10,
   "metadata": {
    "execution": {
     "iopub.execute_input": "2022-02-17T23:52:20.597047Z",
     "iopub.status.busy": "2022-02-17T23:52:20.595098Z",
     "iopub.status.idle": "2022-02-17T23:52:23.412510Z",
     "shell.execute_reply": "2022-02-17T23:52:23.411234Z",
     "shell.execute_reply.started": "2022-02-17T23:52:20.596949Z"
    },
    "tags": []
   },
   "outputs": [],
   "source": [
    "#if contacts_in_cluster_df.shape[0] > 9000:\n",
    "contacts_in_cluster_df.to_csv(cwd+\"/cached_data/backup_contacts_in_clusters.csv\")\n",
    "#else:\n",
    "#    raise ValueError(\"salesforce connection issue with clusters, please reload or setup some limits\")"
   ]
  },
  {
   "cell_type": "code",
   "execution_count": 11,
   "metadata": {
    "execution": {
     "iopub.execute_input": "2022-02-17T23:52:23.421498Z",
     "iopub.status.busy": "2022-02-17T23:52:23.419442Z",
     "iopub.status.idle": "2022-02-17T23:52:23.454917Z",
     "shell.execute_reply": "2022-02-17T23:52:23.453083Z",
     "shell.execute_reply.started": "2022-02-17T23:52:23.421435Z"
    },
    "tags": []
   },
   "outputs": [
    {
     "name": "stdout",
     "output_type": "stream",
     "text": [
      "66359\n"
     ]
    }
   ],
   "source": [
    "unique_contacts_in_clusters = set(contacts_in_cluster_df['Contact__c'].to_list())\n",
    "print(len(unique_contacts_in_clusters))"
   ]
  },
  {
   "cell_type": "code",
   "execution_count": 12,
   "metadata": {
    "execution": {
     "iopub.execute_input": "2022-02-17T23:52:23.460478Z",
     "iopub.status.busy": "2022-02-17T23:52:23.459068Z",
     "iopub.status.idle": "2022-02-17T23:52:48.794991Z",
     "shell.execute_reply": "2022-02-17T23:52:48.793281Z",
     "shell.execute_reply.started": "2022-02-17T23:52:23.460396Z"
    },
    "tags": []
   },
   "outputs": [
    {
     "name": "stdout",
     "output_type": "stream",
     "text": [
      "[Success] Bulk job creation successful. Job ID = 7505w00000dtA0DAAU\n",
      "{\"id\":\"7505w00000dtA0DAAU\",\"operation\":\"query\",\"object\":\"Contact\",\"createdById\":\"0055w00000DM5bOAAT\",\"createdDate\":\"2022-02-17T23:52:23.000+0000\",\"systemModstamp\":\"2022-02-17T23:52:23.000+0000\",\"state\":\"UploadComplete\",\"concurrencyMode\":\"Parallel\",\"contentType\":\"CSV\",\"apiVersion\":47.0,\"jobType\":\"V2Query\",\"lineEnding\":\"LF\",\"columnDelimiter\":\"COMMA\",\"retries\":0,\"totalProcessingTime\":0}\n",
      "{\"id\":\"7505w00000dtA0DAAU\",\"operation\":\"query\",\"object\":\"Contact\",\"createdById\":\"0055w00000DM5bOAAT\",\"createdDate\":\"2022-02-17T23:52:23.000+0000\",\"systemModstamp\":\"2022-02-17T23:52:24.000+0000\",\"state\":\"InProgress\",\"concurrencyMode\":\"Parallel\",\"contentType\":\"CSV\",\"apiVersion\":47.0,\"jobType\":\"V2Query\",\"lineEnding\":\"LF\",\"columnDelimiter\":\"COMMA\",\"numberRecordsProcessed\":21063,\"retries\":0,\"totalProcessingTime\":1092}\n",
      "{\"id\":\"7505w00000dtA0DAAU\",\"operation\":\"query\",\"object\":\"Contact\",\"createdById\":\"0055w00000DM5bOAAT\",\"createdDate\":\"2022-02-17T23:52:23.000+0000\",\"systemModstamp\":\"2022-02-17T23:52:37.000+0000\",\"state\":\"JobComplete\",\"concurrencyMode\":\"Parallel\",\"contentType\":\"CSV\",\"apiVersion\":47.0,\"jobType\":\"V2Query\",\"lineEnding\":\"LF\",\"columnDelimiter\":\"COMMA\",\"numberRecordsProcessed\":273165,\"retries\":0,\"totalProcessingTime\":12779}\n",
      "[Success] Bulk job completed successfully.\n"
     ]
    }
   ],
   "source": [
    "contacts_df = db_s.query_data('Select Id, nanoHUB_user_ID__c from Contact')"
   ]
  },
  {
   "cell_type": "code",
   "execution_count": 13,
   "metadata": {
    "execution": {
     "iopub.execute_input": "2022-02-17T23:52:48.802176Z",
     "iopub.status.busy": "2022-02-17T23:52:48.800697Z",
     "iopub.status.idle": "2022-02-17T23:52:48.836671Z",
     "shell.execute_reply": "2022-02-17T23:52:48.832492Z",
     "shell.execute_reply.started": "2022-02-17T23:52:48.802119Z"
    },
    "tags": []
   },
   "outputs": [
    {
     "data": {
      "text/html": [
       "<div>\n",
       "<style scoped>\n",
       "    .dataframe tbody tr th:only-of-type {\n",
       "        vertical-align: middle;\n",
       "    }\n",
       "\n",
       "    .dataframe tbody tr th {\n",
       "        vertical-align: top;\n",
       "    }\n",
       "\n",
       "    .dataframe thead th {\n",
       "        text-align: right;\n",
       "    }\n",
       "</style>\n",
       "<table border=\"1\" class=\"dataframe\">\n",
       "  <thead>\n",
       "    <tr style=\"text-align: right;\">\n",
       "      <th></th>\n",
       "      <th>Id</th>\n",
       "      <th>nanoHUB_user_ID__c</th>\n",
       "    </tr>\n",
       "  </thead>\n",
       "  <tbody>\n",
       "    <tr>\n",
       "      <th>0</th>\n",
       "      <td>0035w000031Vsp1AAC</td>\n",
       "      <td>998.0</td>\n",
       "    </tr>\n",
       "    <tr>\n",
       "      <th>1</th>\n",
       "      <td>0035w000031Vsp2AAC</td>\n",
       "      <td>1683.0</td>\n",
       "    </tr>\n",
       "  </tbody>\n",
       "</table>\n",
       "</div>"
      ],
      "text/plain": [
       "                   Id  nanoHUB_user_ID__c\n",
       "0  0035w000031Vsp1AAC               998.0\n",
       "1  0035w000031Vsp2AAC              1683.0"
      ]
     },
     "metadata": {},
     "output_type": "display_data"
    },
    {
     "name": "stdout",
     "output_type": "stream",
     "text": [
      "(252102, 2)\n"
     ]
    }
   ],
   "source": [
    "display(contacts_df.head(2))\n",
    "print(contacts_df.shape)"
   ]
  },
  {
   "cell_type": "code",
   "execution_count": 14,
   "metadata": {
    "execution": {
     "iopub.execute_input": "2022-02-17T23:52:48.844563Z",
     "iopub.status.busy": "2022-02-17T23:52:48.838343Z",
     "iopub.status.idle": "2022-02-17T23:52:49.160259Z",
     "shell.execute_reply": "2022-02-17T23:52:49.159265Z",
     "shell.execute_reply.started": "2022-02-17T23:52:48.844480Z"
    },
    "tags": []
   },
   "outputs": [],
   "source": [
    "## determine self-study users, i.e., unclassified users\n",
    "# if sf id is in contacts_in_cluster_df['Contact__c'], then it is self-study\n",
    "\n",
    "self_study = []\n",
    "clustered = []\n",
    "\n",
    "sf_contact_ids = contacts_df['Id'].to_list()\n",
    "\n",
    "import numpy as np\n",
    "# bool_search = np.in1d(np.array(list(unique_contacts_in_clusters)),np.array(sf_contact_ids))\n",
    "bool_search = np.in1d(np.array(sf_contact_ids),np.array(list(unique_contacts_in_clusters)))\n",
    "\n",
    "clustered = np.where(bool_search)[0].tolist()\n",
    "self_study = np.where(~bool_search)[0].tolist()"
   ]
  },
  {
   "cell_type": "code",
   "execution_count": 15,
   "metadata": {
    "execution": {
     "iopub.execute_input": "2022-02-17T23:52:49.163674Z",
     "iopub.status.busy": "2022-02-17T23:52:49.161906Z",
     "iopub.status.idle": "2022-02-17T23:52:49.222563Z",
     "shell.execute_reply": "2022-02-17T23:52:49.221399Z",
     "shell.execute_reply.started": "2022-02-17T23:52:49.163574Z"
    },
    "tags": []
   },
   "outputs": [],
   "source": [
    "clustered_NH_ids = contacts_df['nanoHUB_user_ID__c'][clustered]\n",
    "self_study_NH_ids = contacts_df['nanoHUB_user_ID__c'][self_study]"
   ]
  },
  {
   "cell_type": "code",
   "execution_count": 16,
   "metadata": {
    "execution": {
     "iopub.execute_input": "2022-02-17T23:52:49.227004Z",
     "iopub.status.busy": "2022-02-17T23:52:49.224442Z",
     "iopub.status.idle": "2022-02-17T23:52:49.239284Z",
     "shell.execute_reply": "2022-02-17T23:52:49.236718Z",
     "shell.execute_reply.started": "2022-02-17T23:52:49.226874Z"
    },
    "tags": []
   },
   "outputs": [
    {
     "name": "stdout",
     "output_type": "stream",
     "text": [
      "(66359,)\n",
      "(185743,)\n"
     ]
    }
   ],
   "source": [
    "print(clustered_NH_ids.shape)\n",
    "print(self_study_NH_ids.shape)"
   ]
  },
  {
   "cell_type": "code",
   "execution_count": 17,
   "metadata": {
    "execution": {
     "iopub.execute_input": "2022-02-17T23:52:49.242713Z",
     "iopub.status.busy": "2022-02-17T23:52:49.241207Z",
     "iopub.status.idle": "2022-02-17T23:52:49.254882Z",
     "shell.execute_reply": "2022-02-17T23:52:49.252294Z",
     "shell.execute_reply.started": "2022-02-17T23:52:49.242628Z"
    },
    "tags": []
   },
   "outputs": [],
   "source": [
    "## need to filter self-study-nh-ids with the researchers"
   ]
  },
  {
   "cell_type": "code",
   "execution_count": 18,
   "metadata": {
    "execution": {
     "iopub.execute_input": "2022-02-17T23:52:49.261818Z",
     "iopub.status.busy": "2022-02-17T23:52:49.257655Z",
     "iopub.status.idle": "2022-02-17T23:52:49.288647Z",
     "shell.execute_reply": "2022-02-17T23:52:49.287331Z",
     "shell.execute_reply.started": "2022-02-17T23:52:49.261672Z"
    },
    "tags": []
   },
   "outputs": [],
   "source": [
    "## This researcher determination is based entirely on the results of research authors on nanohub\n",
    "## i.e., we use the researcher information on db2"
   ]
  },
  {
   "cell_type": "code",
   "execution_count": 19,
   "metadata": {
    "execution": {
     "iopub.execute_input": "2022-02-17T23:52:49.296794Z",
     "iopub.status.busy": "2022-02-17T23:52:49.296263Z",
     "iopub.status.idle": "2022-02-17T23:52:50.060497Z",
     "shell.execute_reply": "2022-02-17T23:52:50.058003Z",
     "shell.execute_reply.started": "2022-02-17T23:52:49.296727Z"
    },
    "tags": []
   },
   "outputs": [
    {
     "data": {
      "text/html": [
       "<div>\n",
       "<style scoped>\n",
       "    .dataframe tbody tr th:only-of-type {\n",
       "        vertical-align: middle;\n",
       "    }\n",
       "\n",
       "    .dataframe tbody tr th {\n",
       "        vertical-align: top;\n",
       "    }\n",
       "\n",
       "    .dataframe thead th {\n",
       "        text-align: right;\n",
       "    }\n",
       "</style>\n",
       "<table border=\"1\" class=\"dataframe\">\n",
       "  <thead>\n",
       "    <tr style=\"text-align: right;\">\n",
       "      <th></th>\n",
       "      <th>id</th>\n",
       "      <th>uid</th>\n",
       "      <th>author</th>\n",
       "    </tr>\n",
       "  </thead>\n",
       "  <tbody>\n",
       "    <tr>\n",
       "      <th>0</th>\n",
       "      <td>10000001</td>\n",
       "      <td>5568</td>\n",
       "      <td>Weber, Bent; Mahapatra, Suddhasatta; Ryu, Hoon...</td>\n",
       "    </tr>\n",
       "    <tr>\n",
       "      <th>1</th>\n",
       "      <td>10000002</td>\n",
       "      <td>5568</td>\n",
       "      <td>Andrawis, Robert; Bermeo, Jose; Charles, James...</td>\n",
       "    </tr>\n",
       "  </tbody>\n",
       "</table>\n",
       "</div>"
      ],
      "text/plain": [
       "         id   uid                                             author\n",
       "0  10000001  5568  Weber, Bent; Mahapatra, Suddhasatta; Ryu, Hoon...\n",
       "1  10000002  5568  Andrawis, Robert; Bermeo, Jose; Charles, James..."
      ]
     },
     "metadata": {},
     "output_type": "display_data"
    },
    {
     "name": "stdout",
     "output_type": "stream",
     "text": [
      "(4203, 3)\n"
     ]
    }
   ],
   "source": [
    "sql_query = 'select id, uid, author from jos_citations'\n",
    "jos_citations = pd.read_sql_query(sql_query, nanohub_db)\n",
    "display(jos_citations.head(2))\n",
    "print(jos_citations.shape)"
   ]
  },
  {
   "cell_type": "code",
   "execution_count": 20,
   "metadata": {
    "execution": {
     "iopub.execute_input": "2022-02-17T23:52:50.065377Z",
     "iopub.status.busy": "2022-02-17T23:52:50.063295Z",
     "iopub.status.idle": "2022-02-17T23:52:50.073611Z",
     "shell.execute_reply": "2022-02-17T23:52:50.070360Z",
     "shell.execute_reply.started": "2022-02-17T23:52:50.065292Z"
    },
    "tags": []
   },
   "outputs": [],
   "source": [
    "t1_authors = jos_citations['author'].to_list()\n",
    "t1_authors2 = [] #[j.split(';') for i,j in enumerate(t1_authors)]"
   ]
  },
  {
   "cell_type": "code",
   "execution_count": 21,
   "metadata": {
    "execution": {
     "iopub.execute_input": "2022-02-17T23:52:50.079865Z",
     "iopub.status.busy": "2022-02-17T23:52:50.077567Z",
     "iopub.status.idle": "2022-02-17T23:52:50.101556Z",
     "shell.execute_reply": "2022-02-17T23:52:50.100481Z",
     "shell.execute_reply.started": "2022-02-17T23:52:50.079772Z"
    },
    "tags": []
   },
   "outputs": [],
   "source": [
    "for i,j in enumerate(t1_authors):\n",
    "    try:\n",
    "        holder = j.split(';')\n",
    "        if len(holder) > 1: \n",
    "            for k,l in enumerate(holder):\n",
    "                if l[0] == ' ':\n",
    "                    holder[k] = l[1:]\n",
    "        t1_authors2.append(holder)\n",
    "    except:\n",
    "        garb = True"
   ]
  },
  {
   "cell_type": "code",
   "execution_count": 22,
   "metadata": {
    "execution": {
     "iopub.execute_input": "2022-02-17T23:52:50.104166Z",
     "iopub.status.busy": "2022-02-17T23:52:50.102863Z",
     "iopub.status.idle": "2022-02-17T23:52:50.126649Z",
     "shell.execute_reply": "2022-02-17T23:52:50.122737Z",
     "shell.execute_reply.started": "2022-02-17T23:52:50.104115Z"
    },
    "tags": []
   },
   "outputs": [
    {
     "name": "stdout",
     "output_type": "stream",
     "text": [
      "6860\n"
     ]
    }
   ],
   "source": [
    "t1_authors32 = [item for sublist in t1_authors2 for item in sublist]\n",
    "t1_authors3 = set(t1_authors3)\n",
    "print(len(t1_authors3))"
   ]
  },
  {
   "cell_type": "code",
   "execution_count": 23,
   "metadata": {
    "execution": {
     "iopub.execute_input": "2022-02-17T23:52:50.132070Z",
     "iopub.status.busy": "2022-02-17T23:52:50.131491Z",
     "iopub.status.idle": "2022-02-17T23:52:50.147249Z",
     "shell.execute_reply": "2022-02-17T23:52:50.141824Z",
     "shell.execute_reply.started": "2022-02-17T23:52:50.131875Z"
    },
    "tags": []
   },
   "outputs": [],
   "source": [
    "## extract all researchers with nh ids\n",
    "rw_ids = []\n",
    "need_search = []\n",
    "for i,j in enumerate(t1_authors3):\n",
    "    if '{{' in j:\n",
    "        rw_ids.append(i)\n",
    "    else:\n",
    "        need_search.append(i)"
   ]
  },
  {
   "cell_type": "code",
   "execution_count": 24,
   "metadata": {
    "execution": {
     "iopub.execute_input": "2022-02-17T23:52:50.150856Z",
     "iopub.status.busy": "2022-02-17T23:52:50.150334Z",
     "iopub.status.idle": "2022-02-17T23:52:50.171530Z",
     "shell.execute_reply": "2022-02-17T23:52:50.170112Z",
     "shell.execute_reply.started": "2022-02-17T23:52:50.150783Z"
    },
    "tags": []
   },
   "outputs": [
    {
     "name": "stdout",
     "output_type": "stream",
     "text": [
      "2079\n"
     ]
    }
   ],
   "source": [
    "## from the rw_ids, extract the nanohub userids\n",
    "# can obtain usernames from the DB2 table\n",
    "rw_ids2 = np.array(list(t1_authors3))[rw_ids]\n",
    "for i,j in enumerate(rw_ids2):\n",
    "    begin = j.index('{{')\n",
    "    rw_ids2[i] = j[begin+2:-2]\n",
    "print(len(rw_ids2))"
   ]
  },
  {
   "cell_type": "code",
   "execution_count": 25,
   "metadata": {
    "execution": {
     "iopub.execute_input": "2022-02-17T23:52:50.176374Z",
     "iopub.status.busy": "2022-02-17T23:52:50.175834Z",
     "iopub.status.idle": "2022-02-17T23:52:50.700147Z",
     "shell.execute_reply": "2022-02-17T23:52:50.691281Z",
     "shell.execute_reply.started": "2022-02-17T23:52:50.176303Z"
    },
    "tags": []
   },
   "outputs": [
    {
     "data": {
      "text/html": [
       "<div>\n",
       "<style scoped>\n",
       "    .dataframe tbody tr th:only-of-type {\n",
       "        vertical-align: middle;\n",
       "    }\n",
       "\n",
       "    .dataframe tbody tr th {\n",
       "        vertical-align: top;\n",
       "    }\n",
       "\n",
       "    .dataframe thead th {\n",
       "        text-align: right;\n",
       "    }\n",
       "</style>\n",
       "<table border=\"1\" class=\"dataframe\">\n",
       "  <thead>\n",
       "    <tr style=\"text-align: right;\">\n",
       "      <th></th>\n",
       "      <th>id</th>\n",
       "      <th>name</th>\n",
       "      <th>username</th>\n",
       "    </tr>\n",
       "  </thead>\n",
       "  <tbody>\n",
       "    <tr>\n",
       "      <th>0</th>\n",
       "      <td>1742</td>\n",
       "      <td>H.-S. Philip Wong</td>\n",
       "      <td>hspwong</td>\n",
       "    </tr>\n",
       "    <tr>\n",
       "      <th>1</th>\n",
       "      <td>1767</td>\n",
       "      <td>Osama Munir Nayfeh</td>\n",
       "      <td>onayfeh</td>\n",
       "    </tr>\n",
       "  </tbody>\n",
       "</table>\n",
       "</div>"
      ],
      "text/plain": [
       "     id                name username\n",
       "0  1742   H.-S. Philip Wong  hspwong\n",
       "1  1767  Osama Munir Nayfeh  onayfeh"
      ]
     },
     "metadata": {},
     "output_type": "display_data"
    }
   ],
   "source": [
    "# need to obtain usernames\n",
    "sql_query = \"select id,name,username from jos_users where id in \"+str(tuple(rw_ids2))\n",
    "rw_researchers = pd.read_sql_query(sql_query,nanohub_db)\n",
    "display(rw_researchers.head(2))"
   ]
  },
  {
   "cell_type": "code",
   "execution_count": 26,
   "metadata": {
    "execution": {
     "iopub.execute_input": "2022-02-17T23:52:50.736878Z",
     "iopub.status.busy": "2022-02-17T23:52:50.735531Z",
     "iopub.status.idle": "2022-02-17T23:52:50.789765Z",
     "shell.execute_reply": "2022-02-17T23:52:50.772117Z",
     "shell.execute_reply.started": "2022-02-17T23:52:50.736781Z"
    },
    "tags": []
   },
   "outputs": [],
   "source": [
    "## need to obtain the username/ids from those people without nh ids explicitly spec'd in jos_citations\n",
    "ns2 = np.array(list(t1_authors3))[need_search]\n",
    "ns2 = ns2[1:]"
   ]
  },
  {
   "cell_type": "code",
   "execution_count": 27,
   "metadata": {
    "execution": {
     "iopub.execute_input": "2022-02-17T23:52:50.819579Z",
     "iopub.status.busy": "2022-02-17T23:52:50.818974Z",
     "iopub.status.idle": "2022-02-17T23:52:50.864483Z",
     "shell.execute_reply": "2022-02-17T23:52:50.858259Z",
     "shell.execute_reply.started": "2022-02-17T23:52:50.819530Z"
    },
    "tags": []
   },
   "outputs": [
    {
     "data": {
      "text/plain": [
       "('Ali Yannik',\n",
       " 'Selvakumaran Vadivelmurugan',\n",
       " 'Erick Mjolsness',\n",
       " 'Michael McLennan',\n",
       " 'Ansgar Scherp')"
      ]
     },
     "execution_count": 27,
     "metadata": {},
     "output_type": "execute_result"
    }
   ],
   "source": [
    "tuple(ns2)[:5]"
   ]
  },
  {
   "cell_type": "code",
   "execution_count": 28,
   "metadata": {
    "execution": {
     "iopub.execute_input": "2022-02-17T23:52:50.871969Z",
     "iopub.status.busy": "2022-02-17T23:52:50.871412Z",
     "iopub.status.idle": "2022-02-17T23:52:51.952208Z",
     "shell.execute_reply": "2022-02-17T23:52:51.948291Z",
     "shell.execute_reply.started": "2022-02-17T23:52:50.871929Z"
    },
    "tags": []
   },
   "outputs": [
    {
     "data": {
      "text/html": [
       "<div>\n",
       "<style scoped>\n",
       "    .dataframe tbody tr th:only-of-type {\n",
       "        vertical-align: middle;\n",
       "    }\n",
       "\n",
       "    .dataframe tbody tr th {\n",
       "        vertical-align: top;\n",
       "    }\n",
       "\n",
       "    .dataframe thead th {\n",
       "        text-align: right;\n",
       "    }\n",
       "</style>\n",
       "<table border=\"1\" class=\"dataframe\">\n",
       "  <thead>\n",
       "    <tr style=\"text-align: right;\">\n",
       "      <th></th>\n",
       "      <th>id</th>\n",
       "      <th>name</th>\n",
       "      <th>username</th>\n",
       "    </tr>\n",
       "  </thead>\n",
       "  <tbody>\n",
       "    <tr>\n",
       "      <th>0</th>\n",
       "      <td>282167</td>\n",
       "      <td>Aarthi Narayanan</td>\n",
       "      <td>aarthin0102</td>\n",
       "    </tr>\n",
       "    <tr>\n",
       "      <th>1</th>\n",
       "      <td>280280</td>\n",
       "      <td>Abani Patra</td>\n",
       "      <td>apatra01</td>\n",
       "    </tr>\n",
       "  </tbody>\n",
       "</table>\n",
       "</div>"
      ],
      "text/plain": [
       "       id              name     username\n",
       "0  282167  Aarthi Narayanan  aarthin0102\n",
       "1  280280       Abani Patra     apatra01"
      ]
     },
     "metadata": {},
     "output_type": "display_data"
    }
   ],
   "source": [
    "sql_query = \"select id,name,username from jos_users where name in \"+str(tuple(ns2))\n",
    "ns2_researchers = pd.read_sql_query(sql_query,nanohub_db)\n",
    "display(ns2_researchers.head(2))"
   ]
  },
  {
   "cell_type": "code",
   "execution_count": 29,
   "metadata": {
    "execution": {
     "iopub.execute_input": "2022-02-17T23:52:51.954815Z",
     "iopub.status.busy": "2022-02-17T23:52:51.954315Z",
     "iopub.status.idle": "2022-02-17T23:52:51.985792Z",
     "shell.execute_reply": "2022-02-17T23:52:51.983791Z",
     "shell.execute_reply.started": "2022-02-17T23:52:51.954762Z"
    },
    "tags": []
   },
   "outputs": [
    {
     "name": "stdout",
     "output_type": "stream",
     "text": [
      "3046\n"
     ]
    }
   ],
   "source": [
    "## combine the usernames into one data structure\n",
    "researcher_usernames = rw_researchers['username'].to_list() + ns2_researchers['username'].to_list()\n",
    "print(len(researcher_usernames))"
   ]
  },
  {
   "cell_type": "code",
   "execution_count": 30,
   "metadata": {
    "execution": {
     "iopub.execute_input": "2022-02-17T23:52:51.989966Z",
     "iopub.status.busy": "2022-02-17T23:52:51.989459Z",
     "iopub.status.idle": "2022-02-17T23:52:52.043907Z",
     "shell.execute_reply": "2022-02-17T23:52:52.039458Z",
     "shell.execute_reply.started": "2022-02-17T23:52:51.989831Z"
    },
    "tags": []
   },
   "outputs": [],
   "source": [
    "researcher_track = []"
   ]
  },
  {
   "cell_type": "code",
   "execution_count": 31,
   "metadata": {
    "execution": {
     "iopub.execute_input": "2022-02-17T23:52:52.049422Z",
     "iopub.status.busy": "2022-02-17T23:52:52.048372Z",
     "iopub.status.idle": "2022-02-17T23:52:52.085944Z",
     "shell.execute_reply": "2022-02-17T23:52:52.083440Z",
     "shell.execute_reply.started": "2022-02-17T23:52:52.049122Z"
    },
    "tags": []
   },
   "outputs": [
    {
     "name": "stdout",
     "output_type": "stream",
     "text": [
      "2022-02-17 23:52:52.053634\n"
     ]
    }
   ],
   "source": [
    "today = datetime.datetime.today()\n",
    "print(today)"
   ]
  },
  {
   "cell_type": "code",
   "execution_count": 32,
   "metadata": {
    "execution": {
     "iopub.execute_input": "2022-02-17T23:52:52.087925Z",
     "iopub.status.busy": "2022-02-17T23:52:52.087656Z",
     "iopub.status.idle": "2022-02-17T23:52:52.169484Z",
     "shell.execute_reply": "2022-02-17T23:52:52.164818Z",
     "shell.execute_reply.started": "2022-02-17T23:52:52.087881Z"
    }
   },
   "outputs": [
    {
     "name": "stdout",
     "output_type": "stream",
     "text": [
      "     Unnamed: 0  year_month  clustered_track  self_track  researcher_track  \\\n",
      "0             0  2000-01-01                0           0                 0   \n",
      "1             1  2000-02-01                0           0                 0   \n",
      "2             2  2000-03-01               19          38                 8   \n",
      "3             3  2000-04-01               28          43                11   \n",
      "4             4  2000-05-01               35          52                13   \n",
      "..          ...         ...              ...         ...               ...   \n",
      "255         255  2021-04-01             8965       14793               270   \n",
      "256         256  2021-05-01             8522       14856               259   \n",
      "257         257  2021-06-01             7837       15230               253   \n",
      "258         258  2021-07-01             7512       15069               255   \n",
      "259         259  2021-08-01             7381       15225               254   \n",
      "\n",
      "     clustered_track_per  researcher_track_per  self_track_per  \n",
      "0                    NaN                   NaN             NaN  \n",
      "1                    NaN                   NaN             NaN  \n",
      "2              29.230769             12.307692       58.461538  \n",
      "3              34.146341             13.414634       52.439024  \n",
      "4              35.000000             13.000000       52.000000  \n",
      "..                   ...                   ...             ...  \n",
      "255            37.310638              1.123689       61.565673  \n",
      "256            36.053645              1.095740       62.850616  \n",
      "257            33.606346              1.084906       65.308748  \n",
      "258            32.895428              1.116658       65.987914  \n",
      "259            32.287839              1.111111       66.601050  \n",
      "\n",
      "[260 rows x 8 columns]\n"
     ]
    }
   ],
   "source": [
    "## caching check \n",
    "try:\n",
    "    user_breakdown_df = pd.read_csv(cwd+'/cached_data/nh_user_breakdown.csv')\n",
    "    print(user_breakdown_df)\n",
    "    cache_flag = True\n",
    "except:\n",
    "    cache_flag = False"
   ]
  },
  {
   "cell_type": "code",
   "execution_count": 33,
   "metadata": {
    "execution": {
     "iopub.execute_input": "2022-02-17T23:52:52.176413Z",
     "iopub.status.busy": "2022-02-17T23:52:52.174840Z",
     "iopub.status.idle": "2022-02-17T23:52:52.187634Z",
     "shell.execute_reply": "2022-02-17T23:52:52.184325Z",
     "shell.execute_reply.started": "2022-02-17T23:52:52.176100Z"
    },
    "tags": []
   },
   "outputs": [],
   "source": [
    "## determine starting year\n",
    "#if cache_flag == False:\n",
    "start_year_base = 1999 #2000\n",
    "#else:\n",
    "#     print('check the saved file')\n",
    "#    start_year_base = int(user_breakdown_df['year_month'].to_list()[-1][:4])\n",
    "    \n",
    "    "
   ]
  },
  {
   "cell_type": "code",
   "execution_count": 34,
   "metadata": {
    "execution": {
     "iopub.execute_input": "2022-02-17T23:52:52.193884Z",
     "iopub.status.busy": "2022-02-17T23:52:52.193046Z",
     "iopub.status.idle": "2022-02-17T23:52:52.220378Z",
     "shell.execute_reply": "2022-02-17T23:52:52.218155Z",
     "shell.execute_reply.started": "2022-02-17T23:52:52.193828Z"
    },
    "tags": []
   },
   "outputs": [
    {
     "name": "stdout",
     "output_type": "stream",
     "text": [
      "2021\n"
     ]
    }
   ],
   "source": [
    "print(user_breakdown_df['year_month'].to_list()[-1][:4])"
   ]
  },
  {
   "cell_type": "code",
   "execution_count": 35,
   "metadata": {
    "execution": {
     "iopub.execute_input": "2022-02-17T23:52:52.222856Z",
     "iopub.status.busy": "2022-02-17T23:52:52.222567Z",
     "iopub.status.idle": "2022-02-17T23:52:52.241807Z",
     "shell.execute_reply": "2022-02-17T23:52:52.237434Z",
     "shell.execute_reply.started": "2022-02-17T23:52:52.222810Z"
    },
    "tags": []
   },
   "outputs": [],
   "source": [
    "from copy import deepcopy"
   ]
  },
  {
   "cell_type": "code",
   "execution_count": 36,
   "metadata": {
    "execution": {
     "iopub.execute_input": "2022-02-17T23:52:52.254716Z",
     "iopub.status.busy": "2022-02-17T23:52:52.253505Z",
     "iopub.status.idle": "2022-02-18T00:15:59.215288Z",
     "shell.execute_reply": "2022-02-18T00:15:59.212517Z",
     "shell.execute_reply.started": "2022-02-17T23:52:52.254494Z"
    },
    "tags": []
   },
   "outputs": [
    {
     "name": "stdout",
     "output_type": "stream",
     "text": [
      "start year: 2000\n",
      "start year: 2001\n",
      "start year: 2002\n",
      "start year: 2003\n",
      "start year: 2004\n",
      "start year: 2005\n",
      "start year: 2006\n",
      "start year: 2007\n",
      "start year: 2008\n",
      "start year: 2009\n",
      "start year: 2010\n",
      "start year: 2011\n",
      "start year: 2012\n",
      "start year: 2013\n",
      "start year: 2014\n",
      "start year: 2015\n",
      "start year: 2016\n",
      "start year: 2017\n",
      "start year: 2018\n",
      "start year: 2019\n",
      "start year: 2020\n",
      "start year: 2021\n",
      "start year: 2022\n",
      "start year: 2023\n"
     ]
    }
   ],
   "source": [
    "## computer has memory limits, so split toolstart into branches\n",
    "# this filters and finds the research usage in nanohub\n",
    "start_year = deepcopy(start_year_base)\n",
    "while start_year < today.year+1:\n",
    "    start_year += 1\n",
    "    end_date = r\"'\"+str(start_year)+r\"-01-01'\"\n",
    "    start_date = r\"'\"+str(start_year-2)+r\"-01-01'\"\n",
    "    \n",
    "    for i in range(1,13):\n",
    "        if i < 10:\n",
    "            start_date = r\"'\"+str(start_year-1)+r\"-0\"+str(i)+r\"-01'\"\n",
    "            end_date = r\"'\"+str(start_year)+r\"-0\"+str(i)+r\"-01'\"\n",
    "        else:\n",
    "            start_date = r\"'\"+str(start_year-1)+r\"-\"+str(i)+r\"-01'\"\n",
    "            end_date = r\"'\"+str(start_year)+r\"-\"+str(i)+r\"-01'\"\n",
    "\n",
    "        sql_query_researcher = \"select user from toolstart where user in \" + str(tuple(researcher_usernames))\\\n",
    "            +\" and datetime <= \"+end_date+\" and datetime >= \"+start_date\n",
    "        researcher_users = pd.read_sql_query(sql_query_researcher, nanohub_metrics_db)\n",
    "\n",
    "        researcher_track.append(researcher_users.drop_duplicates().shape[0])\n",
    "\n",
    "    print('start year: '+ str(start_year))"
   ]
  },
  {
   "cell_type": "code",
   "execution_count": 37,
   "metadata": {
    "execution": {
     "iopub.execute_input": "2022-02-18T00:15:59.218069Z",
     "iopub.status.busy": "2022-02-18T00:15:59.217667Z",
     "iopub.status.idle": "2022-02-18T00:15:59.225937Z",
     "shell.execute_reply": "2022-02-18T00:15:59.222251Z",
     "shell.execute_reply.started": "2022-02-18T00:15:59.218037Z"
    },
    "tags": []
   },
   "outputs": [],
   "source": [
    "## filter the self study folks against those of researchers\n",
    "# need to pull the researcher sf ids"
   ]
  },
  {
   "cell_type": "code",
   "execution_count": 38,
   "metadata": {
    "execution": {
     "iopub.execute_input": "2022-02-18T00:15:59.231271Z",
     "iopub.status.busy": "2022-02-18T00:15:59.229040Z",
     "iopub.status.idle": "2022-02-18T00:15:59.244210Z",
     "shell.execute_reply": "2022-02-18T00:15:59.242711Z",
     "shell.execute_reply.started": "2022-02-18T00:15:59.231183Z"
    },
    "tags": []
   },
   "outputs": [
    {
     "name": "stdout",
     "output_type": "stream",
     "text": [
      "3046\n"
     ]
    }
   ],
   "source": [
    "researcher_ids = rw_researchers['id'].to_list() + ns2_researchers['id'].to_list()\n",
    "print(len(researcher_ids))"
   ]
  },
  {
   "cell_type": "code",
   "execution_count": 39,
   "metadata": {
    "execution": {
     "iopub.execute_input": "2022-02-18T00:15:59.248281Z",
     "iopub.status.busy": "2022-02-18T00:15:59.247162Z",
     "iopub.status.idle": "2022-02-18T00:15:59.290230Z",
     "shell.execute_reply": "2022-02-18T00:15:59.288777Z",
     "shell.execute_reply.started": "2022-02-18T00:15:59.248208Z"
    },
    "tags": []
   },
   "outputs": [],
   "source": [
    "bool_search2 = np.in1d(np.array(self_study_NH_ids.to_list()),np.array(researcher_ids))"
   ]
  },
  {
   "cell_type": "code",
   "execution_count": 40,
   "metadata": {
    "execution": {
     "iopub.execute_input": "2022-02-18T00:15:59.294246Z",
     "iopub.status.busy": "2022-02-18T00:15:59.292489Z",
     "iopub.status.idle": "2022-02-18T00:15:59.311042Z",
     "shell.execute_reply": "2022-02-18T00:15:59.309804Z",
     "shell.execute_reply.started": "2022-02-18T00:15:59.294146Z"
    },
    "tags": []
   },
   "outputs": [],
   "source": [
    "# Note, researchers can possibly be doubled counted within clusters!!\n",
    "# sf_researchers = np.where(bool_search2)[0].tolist() \n",
    "sf_self_study = np.where(~bool_search2)[0].tolist()"
   ]
  },
  {
   "cell_type": "code",
   "execution_count": 41,
   "metadata": {
    "execution": {
     "iopub.execute_input": "2022-02-18T00:15:59.313954Z",
     "iopub.status.busy": "2022-02-18T00:15:59.312557Z",
     "iopub.status.idle": "2022-02-18T00:15:59.332130Z",
     "shell.execute_reply": "2022-02-18T00:15:59.329367Z",
     "shell.execute_reply.started": "2022-02-18T00:15:59.313893Z"
    },
    "tags": []
   },
   "outputs": [
    {
     "name": "stdout",
     "output_type": "stream",
     "text": [
      "183658\n",
      "185743\n"
     ]
    }
   ],
   "source": [
    "print(len(sf_self_study))\n",
    "print(len(self_study_NH_ids.to_list()))"
   ]
  },
  {
   "cell_type": "code",
   "execution_count": 42,
   "metadata": {
    "execution": {
     "iopub.execute_input": "2022-02-18T00:15:59.335529Z",
     "iopub.status.busy": "2022-02-18T00:15:59.334200Z",
     "iopub.status.idle": "2022-02-18T00:15:59.377044Z",
     "shell.execute_reply": "2022-02-18T00:15:59.375805Z",
     "shell.execute_reply.started": "2022-02-18T00:15:59.335401Z"
    },
    "tags": []
   },
   "outputs": [],
   "source": [
    "sf_contact_ids = contacts_df['nanoHUB_user_ID__c'][sf_self_study]"
   ]
  },
  {
   "cell_type": "code",
   "execution_count": 43,
   "metadata": {
    "execution": {
     "iopub.execute_input": "2022-02-18T00:15:59.381631Z",
     "iopub.status.busy": "2022-02-18T00:15:59.379498Z",
     "iopub.status.idle": "2022-02-18T00:15:59.403905Z",
     "shell.execute_reply": "2022-02-18T00:15:59.402371Z",
     "shell.execute_reply.started": "2022-02-18T00:15:59.381578Z"
    },
    "tags": []
   },
   "outputs": [
    {
     "data": {
      "text/html": [
       "<div>\n",
       "<style scoped>\n",
       "    .dataframe tbody tr th:only-of-type {\n",
       "        vertical-align: middle;\n",
       "    }\n",
       "\n",
       "    .dataframe tbody tr th {\n",
       "        vertical-align: top;\n",
       "    }\n",
       "\n",
       "    .dataframe thead th {\n",
       "        text-align: right;\n",
       "    }\n",
       "</style>\n",
       "<table border=\"1\" class=\"dataframe\">\n",
       "  <thead>\n",
       "    <tr style=\"text-align: right;\">\n",
       "      <th></th>\n",
       "      <th>nanoHUB_user_ID__c</th>\n",
       "    </tr>\n",
       "  </thead>\n",
       "  <tbody>\n",
       "    <tr>\n",
       "      <th>0</th>\n",
       "      <td>998.0</td>\n",
       "    </tr>\n",
       "    <tr>\n",
       "      <th>1</th>\n",
       "      <td>1683.0</td>\n",
       "    </tr>\n",
       "    <tr>\n",
       "      <th>2</th>\n",
       "      <td>1684.0</td>\n",
       "    </tr>\n",
       "    <tr>\n",
       "      <th>3</th>\n",
       "      <td>1685.0</td>\n",
       "    </tr>\n",
       "    <tr>\n",
       "      <th>4</th>\n",
       "      <td>1686.0</td>\n",
       "    </tr>\n",
       "    <tr>\n",
       "      <th>...</th>\n",
       "      <td>...</td>\n",
       "    </tr>\n",
       "    <tr>\n",
       "      <th>183653</th>\n",
       "      <td>222114.0</td>\n",
       "    </tr>\n",
       "    <tr>\n",
       "      <th>183654</th>\n",
       "      <td>222115.0</td>\n",
       "    </tr>\n",
       "    <tr>\n",
       "      <th>183655</th>\n",
       "      <td>222116.0</td>\n",
       "    </tr>\n",
       "    <tr>\n",
       "      <th>183656</th>\n",
       "      <td>222117.0</td>\n",
       "    </tr>\n",
       "    <tr>\n",
       "      <th>183657</th>\n",
       "      <td>222118.0</td>\n",
       "    </tr>\n",
       "  </tbody>\n",
       "</table>\n",
       "<p>183658 rows × 1 columns</p>\n",
       "</div>"
      ],
      "text/plain": [
       "        nanoHUB_user_ID__c\n",
       "0                    998.0\n",
       "1                   1683.0\n",
       "2                   1684.0\n",
       "3                   1685.0\n",
       "4                   1686.0\n",
       "...                    ...\n",
       "183653            222114.0\n",
       "183654            222115.0\n",
       "183655            222116.0\n",
       "183656            222117.0\n",
       "183657            222118.0\n",
       "\n",
       "[183658 rows x 1 columns]"
      ]
     },
     "metadata": {},
     "output_type": "display_data"
    }
   ],
   "source": [
    "sf_contact_ids = sf_contact_ids.reset_index()\n",
    "sf_contact_ids = sf_contact_ids.drop(columns='index')\n",
    "display(sf_contact_ids)"
   ]
  },
  {
   "cell_type": "code",
   "execution_count": 44,
   "metadata": {
    "execution": {
     "iopub.execute_input": "2022-02-18T00:15:59.408167Z",
     "iopub.status.busy": "2022-02-18T00:15:59.405275Z",
     "iopub.status.idle": "2022-02-18T00:15:59.434401Z",
     "shell.execute_reply": "2022-02-18T00:15:59.431770Z",
     "shell.execute_reply.started": "2022-02-18T00:15:59.408102Z"
    },
    "tags": []
   },
   "outputs": [
    {
     "data": {
      "text/plain": [
       "(998.0, 1683.0, 1684.0, 1685.0, 1686.0)"
      ]
     },
     "execution_count": 44,
     "metadata": {},
     "output_type": "execute_result"
    }
   ],
   "source": [
    "tuple(sf_contact_ids['nanoHUB_user_ID__c'])[:5]"
   ]
  },
  {
   "cell_type": "code",
   "execution_count": 45,
   "metadata": {
    "execution": {
     "iopub.execute_input": "2022-02-18T00:15:59.438646Z",
     "iopub.status.busy": "2022-02-18T00:15:59.436845Z",
     "iopub.status.idle": "2022-02-18T00:15:59.464161Z",
     "shell.execute_reply": "2022-02-18T00:15:59.462538Z",
     "shell.execute_reply.started": "2022-02-18T00:15:59.438489Z"
    },
    "tags": []
   },
   "outputs": [
    {
     "data": {
      "text/plain": [
       "(998.0, 1683.0, 1684.0, 1685.0, 1686.0)"
      ]
     },
     "execution_count": 45,
     "metadata": {},
     "output_type": "execute_result"
    }
   ],
   "source": [
    "tuple(self_study_NH_ids.dropna().to_list())[:5]"
   ]
  },
  {
   "cell_type": "code",
   "execution_count": 46,
   "metadata": {
    "execution": {
     "iopub.execute_input": "2022-02-18T00:15:59.466171Z",
     "iopub.status.busy": "2022-02-18T00:15:59.465919Z",
     "iopub.status.idle": "2022-02-18T00:15:59.475684Z",
     "shell.execute_reply": "2022-02-18T00:15:59.472331Z",
     "shell.execute_reply.started": "2022-02-18T00:15:59.466136Z"
    },
    "tags": []
   },
   "outputs": [],
   "source": [
    "## loading in toolstart"
   ]
  },
  {
   "cell_type": "code",
   "execution_count": 47,
   "metadata": {
    "execution": {
     "iopub.execute_input": "2022-02-18T00:15:59.477566Z",
     "iopub.status.busy": "2022-02-18T00:15:59.477285Z",
     "iopub.status.idle": "2022-02-18T00:16:02.204708Z",
     "shell.execute_reply": "2022-02-18T00:16:02.202294Z",
     "shell.execute_reply.started": "2022-02-18T00:15:59.477531Z"
    },
    "tags": []
   },
   "outputs": [],
   "source": [
    "# clustered user usernames\n",
    "tc_query = 'select id,username from jos_users where id in ' +str(tuple(clustered_NH_ids))\n",
    "clustered_NH_username = pd.read_sql_query(tc_query,nanohub_db)"
   ]
  },
  {
   "cell_type": "code",
   "execution_count": 48,
   "metadata": {
    "execution": {
     "iopub.execute_input": "2022-02-18T00:16:02.206213Z",
     "iopub.status.busy": "2022-02-18T00:16:02.205949Z",
     "iopub.status.idle": "2022-02-18T00:16:07.668974Z",
     "shell.execute_reply": "2022-02-18T00:16:07.666503Z",
     "shell.execute_reply.started": "2022-02-18T00:16:02.206177Z"
    },
    "tags": []
   },
   "outputs": [],
   "source": [
    "# self study user usernames\n",
    "ts_query = 'select id,username from jos_users where id in ' + str(tuple(self_study_NH_ids.dropna().to_list())) \n",
    "#sf_contact_ids['nanoHUB_user_ID__c']))\n",
    "ss_NH_username = pd.read_sql_query(ts_query,nanohub_db)"
   ]
  },
  {
   "cell_type": "code",
   "execution_count": 49,
   "metadata": {
    "execution": {
     "iopub.execute_input": "2022-02-18T00:16:07.671330Z",
     "iopub.status.busy": "2022-02-18T00:16:07.670264Z",
     "iopub.status.idle": "2022-02-18T00:16:07.725996Z",
     "shell.execute_reply": "2022-02-18T00:16:07.724237Z",
     "shell.execute_reply.started": "2022-02-18T00:16:07.671244Z"
    },
    "tags": []
   },
   "outputs": [],
   "source": [
    "## cache the researchers, self-study, and clustered users\n",
    "cache_r_nhid = pd.DataFrame()\n",
    "cache_r_nhid['nhid'] = researcher_ids\n",
    "\n",
    "cache_ss_nhid = pd.DataFrame()\n",
    "cache_ss_nhid['nhid'] = ss_NH_username['id']\n",
    "cache_ss_nhid['username'] = ss_NH_username['username']\n",
    "\n",
    "cache_c_nhid = pd.DataFrame()\n",
    "cache_c_nhid['nhid'] = clustered_NH_username['id']\n",
    "cache_c_nhid['username'] = clustered_NH_username['username']"
   ]
  },
  {
   "cell_type": "code",
   "execution_count": 50,
   "metadata": {
    "execution": {
     "iopub.execute_input": "2022-02-18T00:16:07.727455Z",
     "iopub.status.busy": "2022-02-18T00:16:07.727246Z",
     "iopub.status.idle": "2022-02-18T00:16:07.746313Z",
     "shell.execute_reply": "2022-02-18T00:16:07.744001Z",
     "shell.execute_reply.started": "2022-02-18T00:16:07.727426Z"
    },
    "tags": []
   },
   "outputs": [
    {
     "name": "stdout",
     "output_type": "stream",
     "text": [
      "   nhid\n",
      "0  1742\n",
      "1  1767\n",
      "     nhid username\n",
      "0  211547  -100005\n",
      "1  211574  -100024\n",
      "     nhid    username\n",
      "0  166284  0.yao.yuan\n",
      "1  344801  007sribabu\n"
     ]
    }
   ],
   "source": [
    "print(cache_r_nhid.head(2))\n",
    "print(cache_ss_nhid.head(2))\n",
    "print(cache_c_nhid.head(2))"
   ]
  },
  {
   "cell_type": "code",
   "execution_count": 51,
   "metadata": {
    "execution": {
     "iopub.execute_input": "2022-02-18T00:16:07.748029Z",
     "iopub.status.busy": "2022-02-18T00:16:07.747813Z",
     "iopub.status.idle": "2022-02-18T00:16:10.262859Z",
     "shell.execute_reply": "2022-02-18T00:16:10.261657Z",
     "shell.execute_reply.started": "2022-02-18T00:16:07.748000Z"
    },
    "tags": []
   },
   "outputs": [],
   "source": [
    "cache_r_nhid.to_csv(cwd+'/cached_data/researcher_ids.csv')\n",
    "cache_ss_nhid.to_csv(cwd+'/cached_data/ss_ids.csv')\n",
    "cache_c_nhid.to_csv(cwd+'/cached_data/class_ids.csv')"
   ]
  },
  {
   "cell_type": "code",
   "execution_count": null,
   "metadata": {},
   "outputs": [],
   "source": []
  },
  {
   "cell_type": "code",
   "execution_count": 52,
   "metadata": {
    "execution": {
     "iopub.execute_input": "2022-02-18T00:16:10.265267Z",
     "iopub.status.busy": "2022-02-18T00:16:10.264313Z",
     "iopub.status.idle": "2022-02-18T00:16:10.272089Z",
     "shell.execute_reply": "2022-02-18T00:16:10.269989Z",
     "shell.execute_reply.started": "2022-02-18T00:16:10.265132Z"
    },
    "tags": []
   },
   "outputs": [],
   "source": [
    "# clustered_NH_username2;researcher_NH_username2;self_NH_username2\n",
    "clustered_track = []\n",
    "self_track = []\n",
    "\n",
    "# clustered_track_per = []\n",
    "# self_track_per = []\n",
    "# researcher_track_per = []"
   ]
  },
  {
   "cell_type": "code",
   "execution_count": 53,
   "metadata": {
    "execution": {
     "iopub.execute_input": "2022-02-18T00:16:10.275786Z",
     "iopub.status.busy": "2022-02-18T00:16:10.274951Z",
     "iopub.status.idle": "2022-02-18T00:16:10.284533Z",
     "shell.execute_reply": "2022-02-18T00:16:10.282269Z",
     "shell.execute_reply.started": "2022-02-18T00:16:10.275647Z"
    },
    "tags": []
   },
   "outputs": [
    {
     "data": {
      "text/plain": [
       "(184905, 2)"
      ]
     },
     "execution_count": 53,
     "metadata": {},
     "output_type": "execute_result"
    }
   ],
   "source": [
    "ss_NH_username.shape #old"
   ]
  },
  {
   "cell_type": "code",
   "execution_count": null,
   "metadata": {},
   "outputs": [],
   "source": []
  },
  {
   "cell_type": "code",
   "execution_count": 54,
   "metadata": {
    "execution": {
     "iopub.execute_input": "2022-02-18T00:16:10.293259Z",
     "iopub.status.busy": "2022-02-18T00:16:10.291843Z",
     "iopub.status.idle": "2022-02-18T02:23:56.205539Z",
     "shell.execute_reply": "2022-02-18T02:23:56.203005Z",
     "shell.execute_reply.started": "2022-02-18T00:16:10.293154Z"
    },
    "tags": []
   },
   "outputs": [
    {
     "name": "stdout",
     "output_type": "stream",
     "text": [
      "start year: 2000\n",
      "start year: 2001\n",
      "start year: 2002\n",
      "start year: 2003\n",
      "start year: 2004\n",
      "start year: 2005\n",
      "start year: 2006\n",
      "start year: 2007\n",
      "start year: 2008\n",
      "start year: 2009\n",
      "start year: 2010\n",
      "start year: 2011\n",
      "start year: 2012\n",
      "start year: 2013\n",
      "start year: 2014\n",
      "start year: 2015\n",
      "start year: 2016\n",
      "start year: 2017\n",
      "start year: 2018\n",
      "start year: 2019\n",
      "start year: 2020\n",
      "start year: 2021\n",
      "start year: 2022\n",
      "start year: 2023\n"
     ]
    }
   ],
   "source": [
    "## computer has memory limits, so split toolstart into branches\n",
    "start_year = deepcopy(start_year_base)\n",
    "\n",
    "while start_year < today.year+1:\n",
    "    start_year += 1\n",
    "    \n",
    "    for i in range(1,13):\n",
    "        if i < 10:\n",
    "            start_date = r\"'\"+str(start_year-1)+r\"-0\"+str(i)+r\"-01'\"\n",
    "            end_date = r\"'\"+str(start_year)+r\"-0\"+str(i)+r\"-01'\"\n",
    "        else:\n",
    "            start_date = r\"'\"+str(start_year-1)+r\"-\"+str(i)+r\"-01'\"\n",
    "            end_date = r\"'\"+str(start_year)+r\"-\"+str(i)+r\"-01'\"\n",
    "        \n",
    "#         sql_query_clustered = \"select user from toolstart where user in \" + str(tuple(clustered_NH_username2['username']))\\\n",
    "#             +\" and datetime <= \"+end_date+\" and datetime >= \"+start_date\n",
    "        sql_query_clustered = \"select user from toolstart where user in \" + str(tuple(clustered_NH_username['username']))\\\n",
    "            +\" and datetime <= \"+end_date+\" and datetime >= \"+start_date\n",
    "        clustered_users = pd.read_sql_query(sql_query_clustered, nanohub_metrics_db)\n",
    "        \n",
    "#         sql_query_self = \"select user from toolstart where user in \" + str(tuple(self_NH_username2['username']))\\\n",
    "#             +\" and user != 'instanton' and user != 'gridstat' and datetime <= \"+end_date+\" and datetime >= \"+start_date\n",
    "        sql_query_self = \"select user from toolstart where user in \" + str(tuple(ss_NH_username['username']))\\\n",
    "            +\" and user != 'instanton' and user != 'gridstat' and datetime <= \"+end_date+\" and datetime >= \"+start_date\n",
    "        self_users = pd.read_sql_query(sql_query_self, nanohub_metrics_db) #engine_metrics #.drop_duplicates()\n",
    "        \n",
    "        clustered_track.append(clustered_users.drop_duplicates().shape[0])\n",
    "        self_track.append(self_users.drop_duplicates().shape[0])\n",
    "#         print('start_date: '+start_date)\n",
    "#         print('end_date: '+end_date)  \n",
    "    print('start year: '+str(start_year))"
   ]
  },
  {
   "cell_type": "code",
   "execution_count": null,
   "metadata": {},
   "outputs": [],
   "source": []
  },
  {
   "cell_type": "code",
   "execution_count": 55,
   "metadata": {
    "execution": {
     "iopub.execute_input": "2022-02-18T02:23:56.207782Z",
     "iopub.status.busy": "2022-02-18T02:23:56.207261Z",
     "iopub.status.idle": "2022-02-18T02:23:56.220592Z",
     "shell.execute_reply": "2022-02-18T02:23:56.216853Z",
     "shell.execute_reply.started": "2022-02-18T02:23:56.207532Z"
    },
    "tags": []
   },
   "outputs": [],
   "source": [
    "all_months_list = list()\n",
    "for this_year in range(start_year_base+1,today.year+2):\n",
    "    if cache_flag == True:\n",
    "        for this_month in range(1,today.month+1):\n",
    "            all_months_list.append(datetime.datetime(this_year, this_month, 1))\n",
    "    else:\n",
    "        for this_month in range(1,12+1):\n",
    "            all_months_list.append(datetime.datetime(this_year, this_month, 1))"
   ]
  },
  {
   "cell_type": "code",
   "execution_count": 56,
   "metadata": {
    "execution": {
     "iopub.execute_input": "2022-02-18T02:23:56.226836Z",
     "iopub.status.busy": "2022-02-18T02:23:56.224226Z",
     "iopub.status.idle": "2022-02-18T02:23:56.238259Z",
     "shell.execute_reply": "2022-02-18T02:23:56.237206Z",
     "shell.execute_reply.started": "2022-02-18T02:23:56.226772Z"
    },
    "tags": []
   },
   "outputs": [
    {
     "name": "stdout",
     "output_type": "stream",
     "text": [
      "288\n",
      "48\n",
      "288\n"
     ]
    }
   ],
   "source": [
    "print(len(clustered_track))\n",
    "print(len(all_months_list))\n",
    "print(len(researcher_track))"
   ]
  },
  {
   "cell_type": "code",
   "execution_count": 57,
   "metadata": {
    "execution": {
     "iopub.execute_input": "2022-02-18T02:23:56.245681Z",
     "iopub.status.busy": "2022-02-18T02:23:56.243090Z",
     "iopub.status.idle": "2022-02-18T02:23:56.253800Z",
     "shell.execute_reply": "2022-02-18T02:23:56.251173Z",
     "shell.execute_reply.started": "2022-02-18T02:23:56.245602Z"
    },
    "tags": []
   },
   "outputs": [],
   "source": [
    "#print(user_breakdown_df2.head())"
   ]
  },
  {
   "cell_type": "code",
   "execution_count": 58,
   "metadata": {
    "execution": {
     "iopub.execute_input": "2022-02-18T02:23:56.259504Z",
     "iopub.status.busy": "2022-02-18T02:23:56.256870Z",
     "iopub.status.idle": "2022-02-18T02:23:58.025855Z",
     "shell.execute_reply": "2022-02-18T02:23:58.019929Z",
     "shell.execute_reply.started": "2022-02-18T02:23:56.259222Z"
    },
    "tags": []
   },
   "outputs": [
    {
     "ename": "ValueError",
     "evalue": "Length of values (288) does not match length of index (48)",
     "output_type": "error",
     "traceback": [
      "\u001b[0;31m---------------------------------------------------------------------------\u001b[0m",
      "\u001b[0;31mValueError\u001b[0m                                Traceback (most recent call last)",
      "Input \u001b[0;32mIn [58]\u001b[0m, in \u001b[0;36m<module>\u001b[0;34m\u001b[0m\n\u001b[1;32m      2\u001b[0m user_breakdown_df2 \u001b[38;5;241m=\u001b[39m pd\u001b[38;5;241m.\u001b[39mDataFrame()\n\u001b[1;32m      3\u001b[0m user_breakdown_df2[\u001b[38;5;124m'\u001b[39m\u001b[38;5;124myear_month\u001b[39m\u001b[38;5;124m'\u001b[39m] \u001b[38;5;241m=\u001b[39m all_months_list\n\u001b[0;32m----> 4\u001b[0m user_breakdown_df2[\u001b[38;5;124m'\u001b[39m\u001b[38;5;124mclustered_track\u001b[39m\u001b[38;5;124m'\u001b[39m] \u001b[38;5;241m=\u001b[39m clustered_track\n\u001b[1;32m      5\u001b[0m user_breakdown_df2[\u001b[38;5;124m'\u001b[39m\u001b[38;5;124mself_track\u001b[39m\u001b[38;5;124m'\u001b[39m] \u001b[38;5;241m=\u001b[39m self_track\n\u001b[1;32m      6\u001b[0m user_breakdown_df2[\u001b[38;5;124m'\u001b[39m\u001b[38;5;124mresearcher_track\u001b[39m\u001b[38;5;124m'\u001b[39m] \u001b[38;5;241m=\u001b[39m researcher_track\n",
      "File \u001b[0;32m~/venv/lib/python3.8/site-packages/pandas/core/frame.py:3612\u001b[0m, in \u001b[0;36mDataFrame.__setitem__\u001b[0;34m(self, key, value)\u001b[0m\n\u001b[1;32m   3609\u001b[0m     \u001b[38;5;28mself\u001b[39m\u001b[38;5;241m.\u001b[39m_setitem_array([key], value)\n\u001b[1;32m   3610\u001b[0m \u001b[38;5;28;01melse\u001b[39;00m:\n\u001b[1;32m   3611\u001b[0m     \u001b[38;5;66;03m# set column\u001b[39;00m\n\u001b[0;32m-> 3612\u001b[0m     \u001b[38;5;28;43mself\u001b[39;49m\u001b[38;5;241;43m.\u001b[39;49m\u001b[43m_set_item\u001b[49m\u001b[43m(\u001b[49m\u001b[43mkey\u001b[49m\u001b[43m,\u001b[49m\u001b[43m \u001b[49m\u001b[43mvalue\u001b[49m\u001b[43m)\u001b[49m\n",
      "File \u001b[0;32m~/venv/lib/python3.8/site-packages/pandas/core/frame.py:3784\u001b[0m, in \u001b[0;36mDataFrame._set_item\u001b[0;34m(self, key, value)\u001b[0m\n\u001b[1;32m   3774\u001b[0m \u001b[38;5;28;01mdef\u001b[39;00m \u001b[38;5;21m_set_item\u001b[39m(\u001b[38;5;28mself\u001b[39m, key, value) \u001b[38;5;241m-\u001b[39m\u001b[38;5;241m>\u001b[39m \u001b[38;5;28;01mNone\u001b[39;00m:\n\u001b[1;32m   3775\u001b[0m     \u001b[38;5;124;03m\"\"\"\u001b[39;00m\n\u001b[1;32m   3776\u001b[0m \u001b[38;5;124;03m    Add series to DataFrame in specified column.\u001b[39;00m\n\u001b[1;32m   3777\u001b[0m \n\u001b[0;32m   (...)\u001b[0m\n\u001b[1;32m   3782\u001b[0m \u001b[38;5;124;03m    ensure homogeneity.\u001b[39;00m\n\u001b[1;32m   3783\u001b[0m \u001b[38;5;124;03m    \"\"\"\u001b[39;00m\n\u001b[0;32m-> 3784\u001b[0m     value \u001b[38;5;241m=\u001b[39m \u001b[38;5;28;43mself\u001b[39;49m\u001b[38;5;241;43m.\u001b[39;49m\u001b[43m_sanitize_column\u001b[49m\u001b[43m(\u001b[49m\u001b[43mvalue\u001b[49m\u001b[43m)\u001b[49m\n\u001b[1;32m   3786\u001b[0m     \u001b[38;5;28;01mif\u001b[39;00m (\n\u001b[1;32m   3787\u001b[0m         key \u001b[38;5;129;01min\u001b[39;00m \u001b[38;5;28mself\u001b[39m\u001b[38;5;241m.\u001b[39mcolumns\n\u001b[1;32m   3788\u001b[0m         \u001b[38;5;129;01mand\u001b[39;00m value\u001b[38;5;241m.\u001b[39mndim \u001b[38;5;241m==\u001b[39m \u001b[38;5;241m1\u001b[39m\n\u001b[1;32m   3789\u001b[0m         \u001b[38;5;129;01mand\u001b[39;00m \u001b[38;5;129;01mnot\u001b[39;00m is_extension_array_dtype(value)\n\u001b[1;32m   3790\u001b[0m     ):\n\u001b[1;32m   3791\u001b[0m         \u001b[38;5;66;03m# broadcast across multiple columns if necessary\u001b[39;00m\n\u001b[1;32m   3792\u001b[0m         \u001b[38;5;28;01mif\u001b[39;00m \u001b[38;5;129;01mnot\u001b[39;00m \u001b[38;5;28mself\u001b[39m\u001b[38;5;241m.\u001b[39mcolumns\u001b[38;5;241m.\u001b[39mis_unique \u001b[38;5;129;01mor\u001b[39;00m \u001b[38;5;28misinstance\u001b[39m(\u001b[38;5;28mself\u001b[39m\u001b[38;5;241m.\u001b[39mcolumns, MultiIndex):\n",
      "File \u001b[0;32m~/venv/lib/python3.8/site-packages/pandas/core/frame.py:4509\u001b[0m, in \u001b[0;36mDataFrame._sanitize_column\u001b[0;34m(self, value)\u001b[0m\n\u001b[1;32m   4506\u001b[0m     \u001b[38;5;28;01mreturn\u001b[39;00m _reindex_for_setitem(value, \u001b[38;5;28mself\u001b[39m\u001b[38;5;241m.\u001b[39mindex)\n\u001b[1;32m   4508\u001b[0m \u001b[38;5;28;01mif\u001b[39;00m is_list_like(value):\n\u001b[0;32m-> 4509\u001b[0m     \u001b[43mcom\u001b[49m\u001b[38;5;241;43m.\u001b[39;49m\u001b[43mrequire_length_match\u001b[49m\u001b[43m(\u001b[49m\u001b[43mvalue\u001b[49m\u001b[43m,\u001b[49m\u001b[43m \u001b[49m\u001b[38;5;28;43mself\u001b[39;49m\u001b[38;5;241;43m.\u001b[39;49m\u001b[43mindex\u001b[49m\u001b[43m)\u001b[49m\n\u001b[1;32m   4510\u001b[0m \u001b[38;5;28;01mreturn\u001b[39;00m sanitize_array(value, \u001b[38;5;28mself\u001b[39m\u001b[38;5;241m.\u001b[39mindex, copy\u001b[38;5;241m=\u001b[39m\u001b[38;5;28;01mTrue\u001b[39;00m, allow_2d\u001b[38;5;241m=\u001b[39m\u001b[38;5;28;01mTrue\u001b[39;00m)\n",
      "File \u001b[0;32m~/venv/lib/python3.8/site-packages/pandas/core/common.py:531\u001b[0m, in \u001b[0;36mrequire_length_match\u001b[0;34m(data, index)\u001b[0m\n\u001b[1;32m    527\u001b[0m \u001b[38;5;124;03m\"\"\"\u001b[39;00m\n\u001b[1;32m    528\u001b[0m \u001b[38;5;124;03mCheck the length of data matches the length of the index.\u001b[39;00m\n\u001b[1;32m    529\u001b[0m \u001b[38;5;124;03m\"\"\"\u001b[39;00m\n\u001b[1;32m    530\u001b[0m \u001b[38;5;28;01mif\u001b[39;00m \u001b[38;5;28mlen\u001b[39m(data) \u001b[38;5;241m!=\u001b[39m \u001b[38;5;28mlen\u001b[39m(index):\n\u001b[0;32m--> 531\u001b[0m     \u001b[38;5;28;01mraise\u001b[39;00m \u001b[38;5;167;01mValueError\u001b[39;00m(\n\u001b[1;32m    532\u001b[0m         \u001b[38;5;124m\"\u001b[39m\u001b[38;5;124mLength of values \u001b[39m\u001b[38;5;124m\"\u001b[39m\n\u001b[1;32m    533\u001b[0m         \u001b[38;5;124mf\u001b[39m\u001b[38;5;124m\"\u001b[39m\u001b[38;5;124m(\u001b[39m\u001b[38;5;132;01m{\u001b[39;00m\u001b[38;5;28mlen\u001b[39m(data)\u001b[38;5;132;01m}\u001b[39;00m\u001b[38;5;124m) \u001b[39m\u001b[38;5;124m\"\u001b[39m\n\u001b[1;32m    534\u001b[0m         \u001b[38;5;124m\"\u001b[39m\u001b[38;5;124mdoes not match length of index \u001b[39m\u001b[38;5;124m\"\u001b[39m\n\u001b[1;32m    535\u001b[0m         \u001b[38;5;124mf\u001b[39m\u001b[38;5;124m\"\u001b[39m\u001b[38;5;124m(\u001b[39m\u001b[38;5;132;01m{\u001b[39;00m\u001b[38;5;28mlen\u001b[39m(index)\u001b[38;5;132;01m}\u001b[39;00m\u001b[38;5;124m)\u001b[39m\u001b[38;5;124m\"\u001b[39m\n\u001b[1;32m    536\u001b[0m     )\n",
      "\u001b[0;31mValueError\u001b[0m: Length of values (288) does not match length of index (48)"
     ]
    }
   ],
   "source": [
    "\n",
    "if cache_flag == True:\n",
    "    user_breakdown_df2 = pd.DataFrame()\n",
    "    user_breakdown_df2['year_month'] = all_months_list\n",
    "    user_breakdown_df2['clustered_track'] = clustered_track\n",
    "    user_breakdown_df2['self_track'] = self_track\n",
    "    user_breakdown_df2['researcher_track'] = researcher_track\n",
    "    \n",
    "    user_breakdown_df = pd.concat([user_breakdown_df, user_breakdown_df2], ignore_index=True)\n",
    "    display(user_breakdown_df.head(2))\n",
    "else:\n",
    "    user_breakdown_df = pd.DataFrame()\n",
    "    if today.month == 12:\n",
    "        user_breakdown_df['year_month'] = all_months_list #months_bin['year_month'].to_list()[13:]\n",
    "        user_breakdown_df['clustered_track'] = clustered_track#[:len(all_months_list)]\n",
    "        user_breakdown_df['self_track'] = self_track#[:len(all_months_list)]\n",
    "        user_breakdown_df['researcher_track'] = researcher_track#[:len(all_months_list)]        \n",
    "    else:\n",
    "        user_breakdown_df['year_month'] = all_months_list #-(12-today.month)\n",
    "        user_breakdown_df['clustered_track'] = clustered_track#[:len(all_months_list[:])]\n",
    "        user_breakdown_df['self_track'] = self_track#[:len(all_months_list[:])]\n",
    "        user_breakdown_df['researcher_track'] = researcher_track#[:len(all_months_list[:])]\n",
    "    display(user_breakdown_df.head(2))"
   ]
  },
  {
   "cell_type": "code",
   "execution_count": null,
   "metadata": {
    "execution": {
     "iopub.status.busy": "2022-02-18T02:23:58.028967Z",
     "iopub.status.idle": "2022-02-18T02:23:58.029738Z",
     "shell.execute_reply": "2022-02-18T02:23:58.029222Z",
     "shell.execute_reply.started": "2022-02-18T02:23:58.029190Z"
    },
    "tags": []
   },
   "outputs": [],
   "source": [
    "# user_breakdown_df.to_csv(cwd+'/cached_data/temp.csv')"
   ]
  },
  {
   "cell_type": "code",
   "execution_count": null,
   "metadata": {
    "execution": {
     "iopub.status.busy": "2022-02-18T02:23:58.032862Z",
     "iopub.status.idle": "2022-02-18T02:23:58.033603Z",
     "shell.execute_reply": "2022-02-18T02:23:58.033169Z",
     "shell.execute_reply.started": "2022-02-18T02:23:58.033129Z"
    },
    "tags": []
   },
   "outputs": [],
   "source": [
    "import re"
   ]
  },
  {
   "cell_type": "code",
   "execution_count": null,
   "metadata": {
    "execution": {
     "iopub.status.busy": "2022-02-18T02:23:58.038520Z",
     "iopub.status.idle": "2022-02-18T02:23:58.039484Z",
     "shell.execute_reply": "2022-02-18T02:23:58.038932Z",
     "shell.execute_reply.started": "2022-02-18T02:23:58.038870Z"
    },
    "tags": []
   },
   "outputs": [],
   "source": [
    "## read the dev_flags.txt to determine where to save\n",
    "with open(cwd+'/dev_flags.txt','r') as f:\n",
    "    raw_flags = f.read()\n",
    "flag_pattern = re.compile(r'= \\w+')\n",
    "flags1 = re.findall(flag_pattern,raw_flags)    \n",
    "flags_result = [i[2:] for i in flags1]\n",
    "dev_flag = flags_result[0]\n",
    "prod_flag = flags_result[1]"
   ]
  },
  {
   "cell_type": "code",
   "execution_count": null,
   "metadata": {
    "execution": {
     "iopub.status.busy": "2022-02-18T02:23:58.041622Z",
     "iopub.status.idle": "2022-02-18T02:23:58.042056Z",
     "shell.execute_reply": "2022-02-18T02:23:58.041894Z",
     "shell.execute_reply.started": "2022-02-18T02:23:58.041869Z"
    },
    "tags": []
   },
   "outputs": [],
   "source": [
    "import seaborn as sns\n",
    "import matplotlib.pyplot as plt\n",
    "sns.set()\n",
    "sns.set_style(\"whitegrid\")\n",
    "\n",
    "plt.figure(figsize=(9,6))\n",
    "# user_breakdown_df2 = user_breakdown_df.iloc[:-(12-today.month),:]\n",
    "user_breakdown_df2 = user_breakdown_df.iloc[:-12-(12-today.month),:]\n",
    "plt.stackplot(user_breakdown_df2.year_month, \\\n",
    "#               user_breakdown_df2[['clustered_track','self_track']].to_numpy().T, \\\n",
    "#              labels=['Classroom', 'Unclassified'], \\\n",
    "#              colors=['green', 'orange']); #Self-study              \n",
    "              user_breakdown_df2[['clustered_track', 'researcher_track','self_track']].to_numpy().T, \\\n",
    "             labels=['Classroom','Research', 'Unclassified'], \\\n",
    "             colors=['green', 'red', 'orange']); #Self-study\n",
    "\n",
    "plt.legend(loc='upper left')#,fontsize=14);\n",
    "plt.ylabel('12-month Trailing Total')#,fontsize=15)\n",
    "plt.xlim([datetime.datetime(2001,1,1), datetime.datetime(2021,7,1)])#,fontsize=15)\n",
    "# plt.show()\n",
    "\n",
    "if dev_flag == 'True':\n",
    "    plt.savefig(cwd+'/plots_local/300_simusers_class_res_unclass_12months.eps', dpi=1000, bbox_inches='tight')\n",
    "    plt.savefig(cwd+'/plots_local/300_simusers_class_res_unclass_12months.pdf', dpi=1000, bbox_inches='tight')\n",
    "    plt.savefig(cwd+'/plots_local/300_simusers_class_res_unclass_12months.png', dpi=1000, bbox_inches='tight')\n",
    "elif prod_flag == 'True':\n",
    "    plt.savefig(cwd+'/plots_production/300_simusers_class_res_unclass_12months.eps', dpi=1000, bbox_inches='tight')\n",
    "    plt.savefig(cwd+'/plots_production/300_simusers_class_res_unclass_12months.pdf', dpi=1000, bbox_inches='tight')\n",
    "    plt.savefig(cwd+'/plots_production/300_simusers_class_res_unclass_12months.png', dpi=1000, bbox_inches='tight')\n",
    "else:\n",
    "    print('no printing flag is active')"
   ]
  },
  {
   "cell_type": "code",
   "execution_count": null,
   "metadata": {
    "execution": {
     "iopub.status.busy": "2022-02-18T02:23:58.045142Z",
     "iopub.status.idle": "2022-02-18T02:23:58.046081Z",
     "shell.execute_reply": "2022-02-18T02:23:58.045464Z",
     "shell.execute_reply.started": "2022-02-18T02:23:58.045419Z"
    },
    "tags": []
   },
   "outputs": [],
   "source": [
    "user_breakdown_df2['clustered_track_per'] = 100*np.divide(user_breakdown_df2['clustered_track'],\\\n",
    "            user_breakdown_df2['clustered_track'].to_numpy()+user_breakdown_df2['researcher_track'].to_numpy()+\\\n",
    "                        user_breakdown_df2['self_track'].to_numpy())\n",
    "user_breakdown_df2['researcher_track_per'] = 100*np.divide(user_breakdown_df2['researcher_track'],\\\n",
    "            user_breakdown_df2['clustered_track'].to_numpy()+user_breakdown_df2['researcher_track'].to_numpy()+\\\n",
    "                        user_breakdown_df2['self_track'].to_numpy())\n",
    "user_breakdown_df2['self_track_per'] = 100*np.divide(user_breakdown_df2['self_track'],\\\n",
    "            user_breakdown_df2['clustered_track'].to_numpy()+user_breakdown_df2['researcher_track'].to_numpy()+\\\n",
    "                        user_breakdown_df2['self_track'].to_numpy())"
   ]
  },
  {
   "cell_type": "code",
   "execution_count": null,
   "metadata": {
    "execution": {
     "iopub.status.busy": "2022-02-18T02:23:58.051503Z",
     "iopub.status.idle": "2022-02-18T02:23:58.052528Z",
     "shell.execute_reply": "2022-02-18T02:23:58.052106Z",
     "shell.execute_reply.started": "2022-02-18T02:23:58.052043Z"
    },
    "tags": []
   },
   "outputs": [],
   "source": [
    "plt.figure(figsize=(9,6))\n",
    "plt.plot(user_breakdown_df2.year_month, user_breakdown_df2.clustered_track_per, label='classroom', \\\n",
    "             color='green');\n",
    "plt.plot(user_breakdown_df2.year_month, user_breakdown_df2.researcher_track_per, label='research', \\\n",
    "             color='red');\n",
    "plt.plot(user_breakdown_df2.year_month, user_breakdown_df2.self_track_per, label='self-study', \\\n",
    "             color='orange');\n",
    "\n",
    "plt.ylim([0, 100])\n",
    "plt.legend(loc='upper right');\n",
    "plt.ylabel('Percentage (%)');\n",
    "plt.xlim([datetime.datetime(2001,1,1), datetime.datetime(2021,7,1)])\n",
    "# plt.show()\n",
    "\n",
    "if dev_flag == 'True':\n",
    "    plt.savefig(cwd+'/plots_local/300_simusers_class_res_unclass_12months_percent.eps', dpi=300, bbox_inches='tight')\n",
    "    plt.savefig(cwd+'/plots_local/300_simusers_class_res_unclass_12months_percent.pdf', dpi=300, bbox_inches='tight')\n",
    "    plt.savefig(cwd+'/plots_local/300_simusers_class_res_unclass_12months_percent.png', dpi=300, bbox_inches='tight')\n",
    "elif prod_flag == 'True':\n",
    "    plt.savefig(cwd+'/plots_production/300_simusers_class_res_unclass_12months_percent.eps', dpi=300, bbox_inches='tight')\n",
    "    plt.savefig(cwd+'/plots_production/300_simusers_class_res_unclass_12months_percent.pdf', dpi=300, bbox_inches='tight')\n",
    "    plt.savefig(cwd+'/plots_production/300_simusers_class_res_unclass_12months_percent.png', dpi=300, bbox_inches='tight')\n",
    "else:\n",
    "    print('no printing flag is active')"
   ]
  },
  {
   "cell_type": "code",
   "execution_count": null,
   "metadata": {
    "execution": {
     "iopub.status.busy": "2022-02-18T02:23:58.054595Z",
     "iopub.status.idle": "2022-02-18T02:23:58.055078Z",
     "shell.execute_reply": "2022-02-18T02:23:58.054915Z",
     "shell.execute_reply.started": "2022-02-18T02:23:58.054890Z"
    },
    "tags": []
   },
   "outputs": [],
   "source": [
    "user_breakdown_df2.to_csv(cwd+'/cached_data/nh_user_breakdown.csv')"
   ]
  },
  {
   "cell_type": "code",
   "execution_count": null,
   "metadata": {},
   "outputs": [],
   "source": []
  },
  {
   "cell_type": "code",
   "execution_count": null,
   "metadata": {},
   "outputs": [],
   "source": []
  },
  {
   "cell_type": "code",
   "execution_count": null,
   "metadata": {},
   "outputs": [],
   "source": []
  }
 ],
 "metadata": {
  "kernelspec": {
   "display_name": "Python 3 (ipykernel)",
   "language": "python",
   "name": "python3"
  },
  "language_info": {
   "codemirror_mode": {
    "name": "ipython",
    "version": 3
   },
   "file_extension": ".py",
   "mimetype": "text/x-python",
   "name": "python",
   "nbconvert_exporter": "python",
   "pygments_lexer": "ipython3",
   "version": "3.8.10"
  }
 },
 "nbformat": 4,
 "nbformat_minor": 4
}
