{
 "cells": [
  {
   "cell_type": "code",
   "execution_count": 1,
   "metadata": {
    "execution": {
     "iopub.execute_input": "2022-02-24T17:55:18.699402Z",
     "iopub.status.busy": "2022-02-24T17:55:18.699133Z",
     "iopub.status.idle": "2022-02-24T17:55:18.706556Z",
     "shell.execute_reply": "2022-02-24T17:55:18.704964Z",
     "shell.execute_reply.started": "2022-02-24T17:55:18.699308Z"
    },
    "tags": []
   },
   "outputs": [],
   "source": [
    "## build researcher events, student events, and self-study events\n",
    "## researcher are simply those with NH citations"
   ]
  },
  {
   "cell_type": "code",
   "execution_count": 2,
   "metadata": {
    "execution": {
     "iopub.execute_input": "2022-02-24T17:55:18.708107Z",
     "iopub.status.busy": "2022-02-24T17:55:18.707895Z",
     "iopub.status.idle": "2022-02-24T17:55:20.607359Z",
     "shell.execute_reply": "2022-02-24T17:55:20.606046Z",
     "shell.execute_reply.started": "2022-02-24T17:55:18.708084Z"
    },
    "tags": []
   },
   "outputs": [
    {
     "name": "stdout",
     "output_type": "stream",
     "text": [
      "\u001b[1mnanoHUB - Serving Students, Researchers & Instructors\u001b[0m\n"
     ]
    }
   ],
   "source": [
    "import sys\n",
    "\n",
    "import pandas as pd\n",
    "import numpy as np\n",
    "import time\n",
    "import datetime\n",
    "import os\n",
    "from nanoHUB.application import Application\n",
    "from nanoHUB.configuration import ClusteringConfiguration\n",
    "from nanoHUB.pipeline.geddes.data import get_default_s3_client\n",
    "from nanoHUB.dataaccess.lake import S3FileMapper\n",
    "\n",
    "from nanoHUB.clustering.infra import get_mike_only_clustered_users, get_xufeng_only_clustered_users, get_mike_xufeng_clustered_users\n",
    "from nanoHUB.clustering.infra import create_clusters_repository, add_cluster_info, get_all_clustered_users, get_all_self_study_users, get_all_self_identified_users"
   ]
  },
  {
   "cell_type": "code",
   "execution_count": 3,
   "metadata": {
    "execution": {
     "iopub.execute_input": "2022-02-24T17:55:20.610289Z",
     "iopub.status.busy": "2022-02-24T17:55:20.609811Z",
     "iopub.status.idle": "2022-02-24T17:55:20.620508Z",
     "shell.execute_reply": "2022-02-24T17:55:20.617266Z",
     "shell.execute_reply.started": "2022-02-24T17:55:20.610248Z"
    },
    "tags": []
   },
   "outputs": [],
   "source": [
    "pd.set_option('display.max_columns', None)\n",
    "cwd = os.getcwd()"
   ]
  },
  {
   "cell_type": "code",
   "execution_count": 4,
   "metadata": {
    "execution": {
     "iopub.execute_input": "2022-02-24T17:55:20.623064Z",
     "iopub.status.busy": "2022-02-24T17:55:20.622786Z",
     "iopub.status.idle": "2022-02-24T17:55:20.633285Z",
     "shell.execute_reply": "2022-02-24T17:55:20.630429Z",
     "shell.execute_reply.started": "2022-02-24T17:55:20.623038Z"
    },
    "tags": []
   },
   "outputs": [],
   "source": [
    "## determine starting year\n",
    "#if cache_flag == False:\n",
    "start_year_base = 1999 #2000\n",
    "#start_year_base = 2019 #2000\n",
    "pathsave=cwd+'/cached_data/'\n",
    "pathsave=cwd+'/test_data/'\n",
    "pathsave=cwd+'/AnnualReport2022_data/'\n",
    "pathsave=cwd+'/total_data_safe/2020_'\n",
    "pathsave=cwd+'/total_data/'\n",
    "\n"
   ]
  },
  {
   "cell_type": "code",
   "execution_count": 5,
   "metadata": {
    "execution": {
     "iopub.execute_input": "2022-02-24T17:55:20.636593Z",
     "iopub.status.busy": "2022-02-24T17:55:20.636168Z",
     "iopub.status.idle": "2022-02-24T17:55:21.156897Z",
     "shell.execute_reply": "2022-02-24T17:55:21.155522Z",
     "shell.execute_reply.started": "2022-02-24T17:55:20.636563Z"
    },
    "tags": []
   },
   "outputs": [],
   "source": [
    "application = Application.get_instance()\n",
    "nanohub_db = application.new_db_engine('nanohub')\n",
    "nanohub_metrics_db = application.new_db_engine('nanohub_metrics')\n",
    "wang159_myrmekes_db = application.new_db_engine('rfm_data')\n",
    "\n",
    "s3_client = get_default_s3_client(application)\n",
    "derived_data_file_path = 'derived_data_for_users.csv'\n",
    "processed_mapper = S3FileMapper(s3_client, ClusteringConfiguration().bucket_name_processed)"
   ]
  },
  {
   "cell_type": "markdown",
   "metadata": {
    "tags": []
   },
   "source": [
    "## Cumulative classroom/research/self-study"
   ]
  },
  {
   "cell_type": "code",
   "execution_count": 6,
   "metadata": {
    "execution": {
     "iopub.execute_input": "2022-02-24T17:55:21.158669Z",
     "iopub.status.busy": "2022-02-24T17:55:21.158422Z",
     "iopub.status.idle": "2022-02-24T17:55:21.169601Z",
     "shell.execute_reply": "2022-02-24T17:55:21.166839Z",
     "shell.execute_reply.started": "2022-02-24T17:55:21.158645Z"
    },
    "tags": []
   },
   "outputs": [
    {
     "name": "stdout",
     "output_type": "stream",
     "text": [
      "2022-02-24 17:55:21.159614\n"
     ]
    }
   ],
   "source": [
    "today = datetime.datetime.today()\n",
    "print(today)"
   ]
  },
  {
   "cell_type": "code",
   "execution_count": 7,
   "metadata": {
    "execution": {
     "iopub.execute_input": "2022-02-24T17:55:21.172397Z",
     "iopub.status.busy": "2022-02-24T17:55:21.171864Z",
     "iopub.status.idle": "2022-02-24T17:55:21.182452Z",
     "shell.execute_reply": "2022-02-24T17:55:21.179680Z",
     "shell.execute_reply.started": "2022-02-24T17:55:21.172224Z"
    },
    "tags": []
   },
   "outputs": [],
   "source": [
    "## determine starting year\n",
    "#if cache_flag == False:\n",
    "start_year_base = 1999 #2000\n",
    "#else:\n",
    "#     print('check the saved file')\n",
    "#    start_year_base = int(user_breakdown_df['year_month'].to_list()[-1][:4])\n",
    "    \n",
    "    "
   ]
  },
  {
   "cell_type": "code",
   "execution_count": 8,
   "metadata": {
    "execution": {
     "iopub.execute_input": "2022-02-24T17:55:21.186854Z",
     "iopub.status.busy": "2022-02-24T17:55:21.184470Z",
     "iopub.status.idle": "2022-02-24T17:55:21.197371Z",
     "shell.execute_reply": "2022-02-24T17:55:21.194019Z",
     "shell.execute_reply.started": "2022-02-24T17:55:21.186795Z"
    },
    "tags": []
   },
   "outputs": [],
   "source": [
    "from copy import deepcopy"
   ]
  },
  {
   "cell_type": "code",
   "execution_count": 9,
   "metadata": {
    "execution": {
     "iopub.execute_input": "2022-02-24T17:55:21.199541Z",
     "iopub.status.busy": "2022-02-24T17:55:21.199122Z",
     "iopub.status.idle": "2022-02-24T17:55:21.259568Z",
     "shell.execute_reply": "2022-02-24T17:55:21.257471Z",
     "shell.execute_reply.started": "2022-02-24T17:55:21.199497Z"
    },
    "tags": []
   },
   "outputs": [
    {
     "name": "stdout",
     "output_type": "stream",
     "text": [
      "allmonths partial list [datetime.datetime(2000, 1, 1, 0, 0), datetime.datetime(2000, 2, 1, 0, 0), datetime.datetime(2000, 3, 1, 0, 0), datetime.datetime(2000, 4, 1, 0, 0), datetime.datetime(2000, 5, 1, 0, 0), datetime.datetime(2000, 6, 1, 0, 0), datetime.datetime(2000, 7, 1, 0, 0), datetime.datetime(2000, 8, 1, 0, 0), datetime.datetime(2000, 9, 1, 0, 0), datetime.datetime(2000, 10, 1, 0, 0), datetime.datetime(2000, 11, 1, 0, 0), datetime.datetime(2000, 12, 1, 0, 0), datetime.datetime(2001, 1, 1, 0, 0), datetime.datetime(2001, 2, 1, 0, 0), datetime.datetime(2001, 3, 1, 0, 0), datetime.datetime(2001, 4, 1, 0, 0), datetime.datetime(2001, 5, 1, 0, 0), datetime.datetime(2001, 6, 1, 0, 0), datetime.datetime(2001, 7, 1, 0, 0), datetime.datetime(2001, 8, 1, 0, 0), datetime.datetime(2001, 9, 1, 0, 0), datetime.datetime(2001, 10, 1, 0, 0), datetime.datetime(2001, 11, 1, 0, 0), datetime.datetime(2001, 12, 1, 0, 0), datetime.datetime(2002, 1, 1, 0, 0), datetime.datetime(2002, 2, 1, 0, 0), datetime.datetime(2002, 3, 1, 0, 0), datetime.datetime(2002, 4, 1, 0, 0), datetime.datetime(2002, 5, 1, 0, 0), datetime.datetime(2002, 6, 1, 0, 0), datetime.datetime(2002, 7, 1, 0, 0), datetime.datetime(2002, 8, 1, 0, 0), datetime.datetime(2002, 9, 1, 0, 0), datetime.datetime(2002, 10, 1, 0, 0), datetime.datetime(2002, 11, 1, 0, 0), datetime.datetime(2002, 12, 1, 0, 0)]\n"
     ]
    }
   ],
   "source": [
    "cache_flag = False\n",
    "all_months_list = list()\n",
    "for this_year in range(start_year_base+1,today.year+2):\n",
    "    if cache_flag == True:\n",
    "        for this_month in range(1,today.month+1):\n",
    "            all_months_list.append(datetime.datetime(this_year, this_month, 1))\n",
    "    else:\n",
    "        for this_month in range(1,12+1):\n",
    "            all_months_list.append(datetime.datetime(this_year, this_month, 1))\n",
    "\n",
    "cache_all_month_list = pd.DataFrame()\n",
    "cache_all_month_list['Date'] = all_months_list\n",
    "cache_all_month_list.to_csv(cwd+'/cached_data/all_months_list.csv')\n",
    "cache_all_month_list.to_csv(cwd+'/cached_data/'+ str(start_year_base)+'_all_months_list.csv')\n",
    "cache_all_month_list = []\n",
    "print('allmonths partial list',all_months_list[0:36])\n"
   ]
  },
  {
   "cell_type": "code",
   "execution_count": null,
   "metadata": {},
   "outputs": [],
   "source": []
  },
  {
   "cell_type": "code",
   "execution_count": 10,
   "metadata": {
    "execution": {
     "iopub.execute_input": "2022-02-24T17:55:21.264729Z",
     "iopub.status.busy": "2022-02-24T17:55:21.263776Z",
     "iopub.status.idle": "2022-02-24T17:55:21.280832Z",
     "shell.execute_reply": "2022-02-24T17:55:21.277350Z",
     "shell.execute_reply.started": "2022-02-24T17:55:21.264532Z"
    },
    "tags": []
   },
   "outputs": [],
   "source": [
    "# clustered_NH_username2;researcher_NH_username2;self_NH_username2\n",
    "clustered_track = []\n",
    "clustered_m_track = []\n",
    "clustered_x_track = []\n",
    "clustered_mx_track = []\n",
    "self2_track = []\n",
    "\n",
    "# clustered_track_per = []\n",
    "# self_track_per = []\n",
    "# researcher_track_per = []"
   ]
  },
  {
   "cell_type": "code",
   "execution_count": 11,
   "metadata": {
    "execution": {
     "iopub.execute_input": "2022-02-24T17:55:21.285147Z",
     "iopub.status.busy": "2022-02-24T17:55:21.284245Z",
     "iopub.status.idle": "2022-02-24T17:55:21.400182Z",
     "shell.execute_reply": "2022-02-24T17:55:21.396699Z",
     "shell.execute_reply.started": "2022-02-24T17:55:21.285090Z"
    },
    "tags": []
   },
   "outputs": [
    {
     "name": "stdout",
     "output_type": "stream",
     "text": [
      "len(self_identified_track) 288\n",
      "len(researcher_track) 288\n",
      "len(self2_track) 288\n",
      "len(clustered_track) 288\n",
      "len(clustered_m_track) 288\n",
      "len(clustered_x_track) 288\n",
      "clustered_mx_track[0:30] [0, 0, 3, 4, 7, 7, 7, 7, 8, 10, 10, 10, 10, 11, 11, 11, 11, 11, 11, 11, 12, 12, 12, 12, 12, 12, 12, 12, 13, 13]\n",
      "len(clustered_mx_track) 288\n"
     ]
    }
   ],
   "source": [
    "#note wrong data\n",
    "#self_identified_track_df = pd.read_csv(pathsave+'selfidentifiedauthors_track.csv',usecols=['track'])\n",
    "self_identified_track_df = pd.read_csv(pathsave+'citingauthor_track.csv',usecols=['track'])\n",
    "self_identified_track = self_identified_track_df['track'].tolist()\n",
    "#print('self_identified_track[0:30]',self_identified_track[0:30])\n",
    "print('len(self_identified_track)',len(self_identified_track))\n",
    "\n",
    "researcher_track_df = pd.read_csv(pathsave+'citingauthor_track.csv',usecols=['track'])\n",
    "researcher_track = researcher_track_df['track'].tolist()\n",
    "#print('researcher_track[0:30]',researcher_track[0:30])\n",
    "print('len(researcher_track)',len(researcher_track))\n",
    "\n",
    "self2_track_df = pd.read_csv(pathsave+'unclassified_track.csv',usecols=['track'])\n",
    "self2_track = self2_track_df['track'].tolist()\n",
    "#print('self2_track[0:30]',self2_track[0:30])\n",
    "print('len(self2_track)',len(self2_track))\n",
    "\n",
    "# simtotal_track_df = pd.read_csv(pathsave+'simtotal_track.csv',usecols=['track'])\n",
    "# simtotal_track = simtotal_track_df['track'].tolist()\n",
    "# #print('simtotal_track[0:30]',simtotal_track[0:30])\n",
    "# print('len(simtotal_track)',len(simtotal_track))\n",
    "\n",
    "clustered_track_df = pd.read_csv(pathsave+'clustered_all_track.csv',usecols=['track'])\n",
    "clustered_track = clustered_track_df['track'].tolist()\n",
    "#print('clustered_track[0:30]',clustered_track[0:30])\n",
    "print('len(clustered_track)',len(clustered_track))\n",
    "\n",
    "clustered_m_track_df = pd.read_csv(pathsave+'clustered_m_track.csv',usecols=['track'])\n",
    "clustered_m_track = clustered_m_track_df['track'].tolist()\n",
    "#print('clustered_m_track[0:30]',clustered_m_track[0:30])\n",
    "print('len(clustered_m_track)',len(clustered_m_track))\n",
    "\n",
    "clustered_x_track_df = pd.read_csv(pathsave+'clustered_x_track.csv',usecols=['track'])\n",
    "clustered_x_track = clustered_x_track_df['track'].tolist()\n",
    "#print('clustered_x_track[0:30]',clustered_x_track[0:30])\n",
    "print('len(clustered_x_track)',len(clustered_x_track))\n",
    "\n",
    "clustered_mx_track_df = pd.read_csv(pathsave+'clustered_mx_track.csv',usecols=['track'])\n",
    "clustered_mx_track = clustered_mx_track_df['track'].tolist()\n",
    "print('clustered_mx_track[0:30]',clustered_mx_track[0:30])\n",
    "print('len(clustered_mx_track)',len(clustered_mx_track))\n",
    "\n",
    "\n",
    "\n"
   ]
  },
  {
   "cell_type": "code",
   "execution_count": 12,
   "metadata": {
    "execution": {
     "iopub.execute_input": "2022-02-24T17:55:21.409713Z",
     "iopub.status.busy": "2022-02-24T17:55:21.409081Z",
     "iopub.status.idle": "2022-02-24T17:55:21.427394Z",
     "shell.execute_reply": "2022-02-24T17:55:21.424537Z",
     "shell.execute_reply.started": "2022-02-24T17:55:21.409655Z"
    },
    "tags": []
   },
   "outputs": [],
   "source": [
    "#just for testing until all data is assembled, let's trim the lists to a smaller value \n",
    "if (0):\n",
    "    listlength=252\n",
    "    self_identified_track=self_identified_track[:listlength]\n",
    "    researcher_track=researcher_track[:listlength]\n",
    "    self2_track=self2_track[:listlength]\n",
    "    # simtotal_track=simtotal_track[:listlength]\n",
    "    clustered_track=clustered_track[:listlength]\n",
    "    clustered_m_track=clustered_m_track[:listlength]\n",
    "    clustered_x_track=clustered_x_track[:listlength]\n",
    "    clustered_mx_track=clustered_mx_track[:listlength]\n",
    "    all_months_list=all_months_list[:listlength]\n",
    "\n",
    "    # print('simtotal_track ',simtotal_track[0:100])"
   ]
  },
  {
   "cell_type": "code",
   "execution_count": 13,
   "metadata": {
    "execution": {
     "iopub.execute_input": "2022-02-24T17:55:21.431542Z",
     "iopub.status.busy": "2022-02-24T17:55:21.431073Z",
     "iopub.status.idle": "2022-02-24T17:55:21.515281Z",
     "shell.execute_reply": "2022-02-24T17:55:21.511103Z",
     "shell.execute_reply.started": "2022-02-24T17:55:21.431487Z"
    },
    "tags": []
   },
   "outputs": [
    {
     "data": {
      "text/html": [
       "<div>\n",
       "<style scoped>\n",
       "    .dataframe tbody tr th:only-of-type {\n",
       "        vertical-align: middle;\n",
       "    }\n",
       "\n",
       "    .dataframe tbody tr th {\n",
       "        vertical-align: top;\n",
       "    }\n",
       "\n",
       "    .dataframe thead th {\n",
       "        text-align: right;\n",
       "    }\n",
       "</style>\n",
       "<table border=\"1\" class=\"dataframe\">\n",
       "  <thead>\n",
       "    <tr style=\"text-align: right;\">\n",
       "      <th></th>\n",
       "      <th>year_month</th>\n",
       "      <th>clustered_track</th>\n",
       "      <th>clustered_m_track</th>\n",
       "      <th>clustered_x_track</th>\n",
       "      <th>clustered_mx_track</th>\n",
       "      <th>self_identified_track</th>\n",
       "      <th>self_track</th>\n",
       "      <th>researcher_track</th>\n",
       "    </tr>\n",
       "  </thead>\n",
       "  <tbody>\n",
       "    <tr>\n",
       "      <th>283</th>\n",
       "      <td>2023-08-01</td>\n",
       "      <td>79561</td>\n",
       "      <td>17025</td>\n",
       "      <td>15298</td>\n",
       "      <td>47238</td>\n",
       "      <td>2177</td>\n",
       "      <td>81981</td>\n",
       "      <td>2177</td>\n",
       "    </tr>\n",
       "    <tr>\n",
       "      <th>284</th>\n",
       "      <td>2023-09-01</td>\n",
       "      <td>79561</td>\n",
       "      <td>17025</td>\n",
       "      <td>15298</td>\n",
       "      <td>47238</td>\n",
       "      <td>2177</td>\n",
       "      <td>81981</td>\n",
       "      <td>2177</td>\n",
       "    </tr>\n",
       "    <tr>\n",
       "      <th>285</th>\n",
       "      <td>2023-10-01</td>\n",
       "      <td>79561</td>\n",
       "      <td>17025</td>\n",
       "      <td>15298</td>\n",
       "      <td>47238</td>\n",
       "      <td>2177</td>\n",
       "      <td>81981</td>\n",
       "      <td>2177</td>\n",
       "    </tr>\n",
       "    <tr>\n",
       "      <th>286</th>\n",
       "      <td>2023-11-01</td>\n",
       "      <td>79561</td>\n",
       "      <td>17025</td>\n",
       "      <td>15298</td>\n",
       "      <td>47238</td>\n",
       "      <td>2177</td>\n",
       "      <td>81981</td>\n",
       "      <td>2177</td>\n",
       "    </tr>\n",
       "    <tr>\n",
       "      <th>287</th>\n",
       "      <td>2023-12-01</td>\n",
       "      <td>79561</td>\n",
       "      <td>17025</td>\n",
       "      <td>15298</td>\n",
       "      <td>47238</td>\n",
       "      <td>2177</td>\n",
       "      <td>81981</td>\n",
       "      <td>2177</td>\n",
       "    </tr>\n",
       "  </tbody>\n",
       "</table>\n",
       "</div>"
      ],
      "text/plain": [
       "    year_month  clustered_track  clustered_m_track  clustered_x_track  \\\n",
       "283 2023-08-01            79561              17025              15298   \n",
       "284 2023-09-01            79561              17025              15298   \n",
       "285 2023-10-01            79561              17025              15298   \n",
       "286 2023-11-01            79561              17025              15298   \n",
       "287 2023-12-01            79561              17025              15298   \n",
       "\n",
       "     clustered_mx_track  self_identified_track  self_track  researcher_track  \n",
       "283               47238                   2177       81981              2177  \n",
       "284               47238                   2177       81981              2177  \n",
       "285               47238                   2177       81981              2177  \n",
       "286               47238                   2177       81981              2177  \n",
       "287               47238                   2177       81981              2177  "
      ]
     },
     "metadata": {},
     "output_type": "display_data"
    }
   ],
   "source": [
    "user_breakdown_df2 = pd.DataFrame()\n",
    "user_breakdown_df2['year_month'] = all_months_list\n",
    "# user_breakdown_df2['simtotal_track'] = simtotal_track\n",
    "user_breakdown_df2['clustered_track'] = clustered_track\n",
    "user_breakdown_df2['clustered_m_track'] = clustered_m_track\n",
    "user_breakdown_df2['clustered_x_track'] = clustered_x_track\n",
    "user_breakdown_df2['clustered_mx_track'] = clustered_mx_track\n",
    "user_breakdown_df2['self_identified_track'] = self_identified_track\n",
    "user_breakdown_df2['self_track'] = self2_track\n",
    "user_breakdown_df2['researcher_track'] = researcher_track\n",
    "display(user_breakdown_df2.tail(5))"
   ]
  },
  {
   "cell_type": "code",
   "execution_count": 14,
   "metadata": {
    "execution": {
     "iopub.execute_input": "2022-02-24T17:55:21.518434Z",
     "iopub.status.busy": "2022-02-24T17:55:21.517977Z",
     "iopub.status.idle": "2022-02-24T17:55:21.529101Z",
     "shell.execute_reply": "2022-02-24T17:55:21.527139Z",
     "shell.execute_reply.started": "2022-02-24T17:55:21.518382Z"
    },
    "tags": []
   },
   "outputs": [],
   "source": [
    "# user_breakdown_df.to_csv(cwd+'/cached_data/temp.csv')"
   ]
  },
  {
   "cell_type": "code",
   "execution_count": 15,
   "metadata": {
    "execution": {
     "iopub.execute_input": "2022-02-24T17:55:21.531398Z",
     "iopub.status.busy": "2022-02-24T17:55:21.530924Z",
     "iopub.status.idle": "2022-02-24T17:55:21.546390Z",
     "shell.execute_reply": "2022-02-24T17:55:21.544207Z",
     "shell.execute_reply.started": "2022-02-24T17:55:21.531350Z"
    },
    "tags": []
   },
   "outputs": [],
   "source": [
    "import re"
   ]
  },
  {
   "cell_type": "code",
   "execution_count": 16,
   "metadata": {
    "execution": {
     "iopub.execute_input": "2022-02-24T17:55:21.551048Z",
     "iopub.status.busy": "2022-02-24T17:55:21.550560Z",
     "iopub.status.idle": "2022-02-24T17:55:21.572132Z",
     "shell.execute_reply": "2022-02-24T17:55:21.568851Z",
     "shell.execute_reply.started": "2022-02-24T17:55:21.550996Z"
    },
    "tags": []
   },
   "outputs": [],
   "source": [
    "## read the dev_flags.txt to determine where to save\n",
    "with open(cwd+'/dev_flags.txt','r') as f:\n",
    "    raw_flags = f.read()\n",
    "flag_pattern = re.compile(r'= \\w+')\n",
    "flags1 = re.findall(flag_pattern,raw_flags)    \n",
    "flags_result = [i[2:] for i in flags1]\n",
    "dev_flag = flags_result[0]\n",
    "prod_flag = flags_result[1]"
   ]
  },
  {
   "cell_type": "code",
   "execution_count": 17,
   "metadata": {
    "execution": {
     "iopub.execute_input": "2022-02-24T17:55:21.575467Z",
     "iopub.status.busy": "2022-02-24T17:55:21.574510Z",
     "iopub.status.idle": "2022-02-24T17:55:26.283686Z",
     "shell.execute_reply": "2022-02-24T17:55:26.282372Z",
     "shell.execute_reply.started": "2022-02-24T17:55:21.575228Z"
    },
    "tags": []
   },
   "outputs": [
    {
     "name": "stdout",
     "output_type": "stream",
     "text": [
      "[WARNING] [warnings - py.warnings]: /tmp/ipykernel_26720/4171713107.py:23: UserWarning: 'set_params()' not defined for locator of type <class 'matplotlib.dates.AutoDateLocator'>\n",
      "  plt.locator_params(axis=\"x\", nbins=40)\n",
      " [warnings._showwarnmsg:109]\n",
      "[WARNING] [backend_ps - matplotlib.backends.backend_ps]: The PostScript backend does not support transparency; partially transparent artists will be rendered opaque. [backend_ps._is_transparent:303]\n"
     ]
    },
    {
     "data": {
      "image/png": "[encoded data removed]",
      "text/plain": [
       "<Figure size 648x432 with 1 Axes>"
      ]
     },
     "metadata": {},
     "output_type": "display_data"
    }
   ],
   "source": [
    "import seaborn as sns\n",
    "import matplotlib.pyplot as plt\n",
    "sns.set()\n",
    "sns.set_style(\"whitegrid\")\n",
    "\n",
    "end_date = datetime.datetime(2022,1,1)\n",
    "start_date = datetime.datetime(2001,1,1)\n",
    "\n",
    "plt.figure(figsize=(9,6))\n",
    "# user_breakdown_df2 = user_breakdown_df.iloc[:-(12-today.month),:]\n",
    "#user_breakdown_df2 = user_breakdown_df.iloc[:-12-(12-today.month),:]\n",
    "plt.stackplot(user_breakdown_df2.year_month, \\\n",
    "#               user_breakdown_df2[['clustered_track','self_track']].to_numpy().T, \\\n",
    "#              labels=['Classroom', 'Unclassified'], \\\n",
    "#              colors=['green', 'orange']); #Self-study              \n",
    "              user_breakdown_df2[['clustered_x_track', 'clustered_mx_track', 'clustered_m_track', 'researcher_track','self_identified_track','self_track']].to_numpy().T, \\\n",
    "             labels=['Classroom X','Classroom MX','Classroom M','Citing Researchers', 'Self-Identified Researcher','Unclassified'], \\\n",
    "             colors=['lawngreen','green', 'yellowgreen','red', 'fuchsia','orange']); #Self-study\n",
    "\n",
    "plt.legend(loc='upper left')#,fontsize=14);\n",
    "plt.ylabel('Total Simulation Users Over All Time')#,fontsize=15)\n",
    "plt.xlim([start_date, end_date])#,fontsize=15)\n",
    "plt.locator_params(axis=\"x\", nbins=40)\n",
    "#plt.xticks( rotation=45, ha='right')\n",
    "# plt.show()\n",
    "\n",
    "if dev_flag == 'True':\n",
    "    plt.savefig(cwd+'/plots_local/300_simusers_total_GK.eps', dpi=300, bbox_inches='tight')\n",
    "    plt.savefig(cwd+'/plots_local/300_simusers_total_GK.pdf', dpi=300, bbox_inches='tight')\n",
    "    plt.savefig(cwd+'/plots_local/300_simusers_total_12months_GK.png', dpi=300, bbox_inches='tight')\n",
    "elif prod_flag == 'True':\n",
    "    plt.savefig(cwd+'/plots_production/300_simusers_total_GK.eps', dpi=300, bbox_inches='tight')\n",
    "    plt.savefig(cwd+'/plots_production/300_simusers_total_GK.pdf', dpi=300, bbox_inches='tight')\n",
    "    plt.savefig(cwd+'/plots_production/300_simusers_total_GK.png', dpi=300, bbox_inches='tight')\n",
    "else:\n",
    "    print('no printing flag is active')"
   ]
  },
  {
   "cell_type": "code",
   "execution_count": 18,
   "metadata": {
    "execution": {
     "iopub.execute_input": "2022-02-24T17:55:26.285251Z",
     "iopub.status.busy": "2022-02-24T17:55:26.284950Z",
     "iopub.status.idle": "2022-02-24T17:55:26.328951Z",
     "shell.execute_reply": "2022-02-24T17:55:26.325993Z",
     "shell.execute_reply.started": "2022-02-24T17:55:26.285224Z"
    },
    "tags": []
   },
   "outputs": [
    {
     "data": {
      "text/plain": [
       "[3536, 3556, 3576, 3600, 3620]"
      ]
     },
     "metadata": {},
     "output_type": "display_data"
    },
    {
     "data": {
      "text/plain": [
       "[1768, 1778, 1788, 1800, 1810]"
      ]
     },
     "metadata": {},
     "output_type": "display_data"
    },
    {
     "data": {
      "text/plain": [
       "[1768, 1778, 1788, 1800, 1810]"
      ]
     },
     "metadata": {},
     "output_type": "display_data"
    }
   ],
   "source": [
    "total = user_breakdown_df2['clustered_track'].to_numpy()+\\\n",
    "        user_breakdown_df2['self_track'].to_numpy() +\\\n",
    "        user_breakdown_df2['researcher_track'].to_numpy()+\\\n",
    "        user_breakdown_df2['self_identified_track'].to_numpy() \n",
    "\n",
    "#print('total ',total)\n",
    "\n",
    "total_research = user_breakdown_df2['researcher_track'].to_numpy()+\\\n",
    "                 user_breakdown_df2['self_identified_track'].to_numpy() \n",
    "\n",
    "#print('total_research ',total_research)\n",
    "user_breakdown_df2['all_researchers'] = np.add(user_breakdown_df2['self_identified_track'], user_breakdown_df2['researcher_track'])\n",
    "#user_breakdown_df2['all_researchers'] = user_breakdown_df2[['researcher_track','self_identified_track']].sum\n",
    "display(user_breakdown_df2['all_researchers'].tolist()[200:205])\n",
    "display(user_breakdown_df2['researcher_track'].tolist()[200:205])\n",
    "display(user_breakdown_df2['self_identified_track'].tolist()[200:205])\n",
    "\n",
    "user_breakdown_df2['clustered_track_per'] = 100*np.divide(user_breakdown_df2['clustered_track'],total)\n",
    "user_breakdown_df2['self_identified_track_per'] = 100*np.divide(user_breakdown_df2['self_identified_track'], total)\n",
    "user_breakdown_df2['researcher_track_per'] = 100*np.divide(user_breakdown_df2['researcher_track'], total)\n",
    "user_breakdown_df2['self_track_per'] = 100*np.divide(user_breakdown_df2['self_track'], total)\n",
    "user_breakdown_df2['all_researchers_per'] = 100*np.divide(user_breakdown_df2['all_researchers'], total)\n",
    "\n"
   ]
  },
  {
   "cell_type": "code",
   "execution_count": 31,
   "metadata": {
    "execution": {
     "iopub.execute_input": "2022-02-24T18:05:44.308514Z",
     "iopub.status.busy": "2022-02-24T18:05:44.308272Z",
     "iopub.status.idle": "2022-02-24T18:05:44.342264Z",
     "shell.execute_reply": "2022-02-24T18:05:44.339527Z",
     "shell.execute_reply.started": "2022-02-24T18:05:44.308492Z"
    },
    "tags": []
   },
   "outputs": [
    {
     "data": {
      "text/html": [
       "<div>\n",
       "<style scoped>\n",
       "    .dataframe tbody tr th:only-of-type {\n",
       "        vertical-align: middle;\n",
       "    }\n",
       "\n",
       "    .dataframe tbody tr th {\n",
       "        vertical-align: top;\n",
       "    }\n",
       "\n",
       "    .dataframe thead th {\n",
       "        text-align: right;\n",
       "    }\n",
       "</style>\n",
       "<table border=\"1\" class=\"dataframe\">\n",
       "  <thead>\n",
       "    <tr style=\"text-align: right;\">\n",
       "      <th></th>\n",
       "      <th>year_month</th>\n",
       "      <th>clustered_track</th>\n",
       "      <th>clustered_m_track</th>\n",
       "      <th>clustered_x_track</th>\n",
       "      <th>clustered_mx_track</th>\n",
       "      <th>self_identified_track</th>\n",
       "      <th>self_track</th>\n",
       "      <th>researcher_track</th>\n",
       "      <th>all_researchers</th>\n",
       "      <th>clustered_track_per</th>\n",
       "      <th>self_identified_track_per</th>\n",
       "      <th>researcher_track_per</th>\n",
       "      <th>self_track_per</th>\n",
       "      <th>all_researchers_per</th>\n",
       "    </tr>\n",
       "  </thead>\n",
       "  <tbody>\n",
       "    <tr>\n",
       "      <th>260</th>\n",
       "      <td>2021-09-01</td>\n",
       "      <td>76024</td>\n",
       "      <td>16227</td>\n",
       "      <td>14622</td>\n",
       "      <td>45175</td>\n",
       "      <td>2158</td>\n",
       "      <td>77633</td>\n",
       "      <td>2158</td>\n",
       "      <td>4316</td>\n",
       "      <td>48.124680</td>\n",
       "      <td>1.366056</td>\n",
       "      <td>1.366056</td>\n",
       "      <td>49.143208</td>\n",
       "      <td>2.732112</td>\n",
       "    </tr>\n",
       "    <tr>\n",
       "      <th>261</th>\n",
       "      <td>2021-10-01</td>\n",
       "      <td>76994</td>\n",
       "      <td>16405</td>\n",
       "      <td>14893</td>\n",
       "      <td>45696</td>\n",
       "      <td>2162</td>\n",
       "      <td>78178</td>\n",
       "      <td>2162</td>\n",
       "      <td>4324</td>\n",
       "      <td>48.273311</td>\n",
       "      <td>1.355520</td>\n",
       "      <td>1.355520</td>\n",
       "      <td>49.015649</td>\n",
       "      <td>2.711040</td>\n",
       "    </tr>\n",
       "    <tr>\n",
       "      <th>262</th>\n",
       "      <td>2021-11-01</td>\n",
       "      <td>77773</td>\n",
       "      <td>16546</td>\n",
       "      <td>15098</td>\n",
       "      <td>46129</td>\n",
       "      <td>2163</td>\n",
       "      <td>78795</td>\n",
       "      <td>2163</td>\n",
       "      <td>4326</td>\n",
       "      <td>48.338036</td>\n",
       "      <td>1.344363</td>\n",
       "      <td>1.344363</td>\n",
       "      <td>48.973237</td>\n",
       "      <td>2.688727</td>\n",
       "    </tr>\n",
       "    <tr>\n",
       "      <th>263</th>\n",
       "      <td>2021-12-01</td>\n",
       "      <td>78987</td>\n",
       "      <td>16817</td>\n",
       "      <td>15250</td>\n",
       "      <td>46920</td>\n",
       "      <td>2166</td>\n",
       "      <td>79400</td>\n",
       "      <td>2166</td>\n",
       "      <td>4332</td>\n",
       "      <td>48.541965</td>\n",
       "      <td>1.331129</td>\n",
       "      <td>1.331129</td>\n",
       "      <td>48.795777</td>\n",
       "      <td>2.662258</td>\n",
       "    </tr>\n",
       "    <tr>\n",
       "      <th>264</th>\n",
       "      <td>2022-01-01</td>\n",
       "      <td>79561</td>\n",
       "      <td>17025</td>\n",
       "      <td>15298</td>\n",
       "      <td>47238</td>\n",
       "      <td>2170</td>\n",
       "      <td>79872</td>\n",
       "      <td>2170</td>\n",
       "      <td>4340</td>\n",
       "      <td>48.580047</td>\n",
       "      <td>1.325005</td>\n",
       "      <td>1.325005</td>\n",
       "      <td>48.769944</td>\n",
       "      <td>2.650009</td>\n",
       "    </tr>\n",
       "    <tr>\n",
       "      <th>265</th>\n",
       "      <td>2022-02-01</td>\n",
       "      <td>79561</td>\n",
       "      <td>17025</td>\n",
       "      <td>15298</td>\n",
       "      <td>47238</td>\n",
       "      <td>2175</td>\n",
       "      <td>81391</td>\n",
       "      <td>2175</td>\n",
       "      <td>4350</td>\n",
       "      <td>48.130694</td>\n",
       "      <td>1.315774</td>\n",
       "      <td>1.315774</td>\n",
       "      <td>49.237759</td>\n",
       "      <td>2.631547</td>\n",
       "    </tr>\n",
       "  </tbody>\n",
       "</table>\n",
       "</div>"
      ],
      "text/plain": [
       "    year_month  clustered_track  clustered_m_track  clustered_x_track  \\\n",
       "260 2021-09-01            76024              16227              14622   \n",
       "261 2021-10-01            76994              16405              14893   \n",
       "262 2021-11-01            77773              16546              15098   \n",
       "263 2021-12-01            78987              16817              15250   \n",
       "264 2022-01-01            79561              17025              15298   \n",
       "265 2022-02-01            79561              17025              15298   \n",
       "\n",
       "     clustered_mx_track  self_identified_track  self_track  researcher_track  \\\n",
       "260               45175                   2158       77633              2158   \n",
       "261               45696                   2162       78178              2162   \n",
       "262               46129                   2163       78795              2163   \n",
       "263               46920                   2166       79400              2166   \n",
       "264               47238                   2170       79872              2170   \n",
       "265               47238                   2175       81391              2175   \n",
       "\n",
       "     all_researchers  clustered_track_per  self_identified_track_per  \\\n",
       "260             4316            48.124680                   1.366056   \n",
       "261             4324            48.273311                   1.355520   \n",
       "262             4326            48.338036                   1.344363   \n",
       "263             4332            48.541965                   1.331129   \n",
       "264             4340            48.580047                   1.325005   \n",
       "265             4350            48.130694                   1.315774   \n",
       "\n",
       "     researcher_track_per  self_track_per  all_researchers_per  \n",
       "260              1.366056       49.143208             2.732112  \n",
       "261              1.355520       49.015649             2.711040  \n",
       "262              1.344363       48.973237             2.688727  \n",
       "263              1.331129       48.795777             2.662258  \n",
       "264              1.325005       48.769944             2.650009  \n",
       "265              1.315774       49.237759             2.631547  "
      ]
     },
     "metadata": {},
     "output_type": "display_data"
    },
    {
     "name": "stdout",
     "output_type": "stream",
     "text": [
      "[1.00000000e-03 1.00000000e-03 1.00000000e-03 1.00000000e-03\n",
      " 1.00000000e-03 1.00000000e-03 1.00000000e-03 1.00000000e-03\n",
      " 1.00000000e-03 1.00000000e-03 1.00000000e-03 1.00000000e-03\n",
      " 1.00000000e-03 1.00000000e-03 1.00000000e-03 1.00000000e-03\n",
      " 1.00000000e-03 1.00000000e-03 1.00000000e-03 1.00000000e-03\n",
      " 1.00000000e-03 1.00000000e-03 1.00000000e-03 1.00000000e-03\n",
      " 1.00000000e-03 1.00000000e-03 1.00000000e-03 1.00000000e-03\n",
      " 1.00000000e-03 1.00000000e-03 1.00000000e-03 1.00000000e-03\n",
      " 1.00000000e-03 1.00000000e-03 1.00000000e-03 1.00000000e-03\n",
      " 1.00000000e-03 1.00000000e-03 1.00000000e-03 1.00000000e-03\n",
      " 1.00000000e-03 1.00000000e-03 1.00000000e-03 1.00000000e-03\n",
      " 1.00000000e-03 1.00000000e-03 1.00000000e-03 1.00000000e-03\n",
      " 1.00000000e-03 1.00000000e-03 1.00000000e-03 1.00000000e-03\n",
      " 1.00000000e-03 1.00000000e-03 1.00000000e-03 1.00000000e-03\n",
      " 1.00000000e-03 1.00000000e-03 1.00000000e-03 1.00000000e-03\n",
      " 1.00000000e-03 1.00000000e-03 1.00000000e-03 1.00000000e-03\n",
      " 1.00000000e-03 1.00000000e-03 1.00000000e-03 1.00000000e-03\n",
      " 1.00000000e-03 1.00000000e-03 1.00000000e-03 1.00000000e-03\n",
      " 1.00000000e-03 1.00000000e-03 1.00000000e-03 1.00000000e-03\n",
      " 1.00000000e-03 1.00000000e-03 1.00000000e-03 1.00000000e-03\n",
      " 1.00000000e-03 1.00000000e-03 1.00000000e-03 1.00000000e-03\n",
      " 1.00000000e-03 1.00000000e-03 1.00000000e-03 1.00000000e-03\n",
      " 1.00000000e-03 1.00000000e-03 1.00000000e-03 1.00000000e-03\n",
      " 1.00000000e-03 1.00000000e-03 1.00000000e-03 1.00000000e-03\n",
      " 1.00000000e-03 1.00000000e-03 1.00000000e-03 1.00000000e-03\n",
      " 1.00000000e-03 1.00000000e-03 1.00000000e-03 1.00000000e-03\n",
      " 1.00000000e-03 1.00000000e-03 1.00000000e-03 1.00000000e-03\n",
      " 3.47001000e+02 1.07100100e+03 1.61500100e+03 2.23200100e+03\n",
      " 2.69200100e+03 2.99800100e+03 3.29000100e+03 3.56800100e+03\n",
      " 3.94700100e+03 4.67700100e+03 5.29500100e+03 5.85200100e+03\n",
      " 6.23700100e+03 7.13700100e+03 7.88900100e+03 8.60300100e+03\n",
      " 9.10300100e+03 9.66500100e+03 1.01210010e+04 1.05210010e+04\n",
      " 1.09250010e+04 1.17290010e+04 1.25940010e+04 1.34240010e+04\n",
      " 1.38650010e+04 1.44850010e+04 1.56950010e+04 1.64020010e+04\n",
      " 1.71300010e+04 1.77190010e+04 1.82090010e+04 1.86420010e+04\n",
      " 1.91470010e+04 1.98970010e+04 2.08310010e+04 2.17160010e+04\n",
      " 2.21710010e+04 2.33730010e+04 2.44140010e+04 2.52480010e+04\n",
      " 2.60420010e+04 2.66940010e+04 2.72110010e+04 2.77730010e+04\n",
      " 2.82370010e+04 2.92170010e+04 2.99320010e+04 3.08870010e+04\n",
      " 3.13530010e+04 3.21780010e+04 3.36670010e+04 3.44190010e+04\n",
      " 3.53150010e+04 3.59940010e+04 3.65140010e+04 3.71040010e+04\n",
      " 3.77430010e+04 3.89670010e+04 3.98790010e+04 4.09740010e+04\n",
      " 4.13780010e+04 4.22410010e+04 4.35920010e+04 4.44670010e+04\n",
      " 4.53130010e+04 4.57660010e+04 4.61790010e+04 4.65730010e+04\n",
      " 4.69960010e+04 4.80500010e+04 4.88850010e+04 4.98000010e+04\n",
      " 5.04160010e+04 5.13200010e+04 5.24190010e+04 5.35210010e+04\n",
      " 5.42850010e+04 5.47160010e+04 5.50450010e+04 5.56450010e+04\n",
      " 5.63420010e+04 5.77610010e+04 5.87900010e+04 5.96500010e+04\n",
      " 6.02400010e+04 6.09810010e+04 6.19940010e+04 6.31080010e+04\n",
      " 6.40850010e+04 6.47060010e+04 6.53100010e+04 6.61140010e+04\n",
      " 6.70730010e+04 6.86390010e+04 6.97590010e+04 7.11290010e+04\n",
      " 7.18500010e+04 7.27850010e+04 7.40130010e+04 7.53270010e+04\n",
      " 7.63560010e+04 7.71610010e+04 7.78570010e+04 7.85360010e+04\n",
      " 7.98360010e+04 8.12970010e+04 8.24470010e+04 8.36290010e+04\n",
      " 8.42740010e+04 8.52670010e+04 8.63160010e+04 8.74100010e+04\n",
      " 8.87200010e+04 8.94740010e+04 9.01190010e+04 9.11830010e+04\n",
      " 9.22460010e+04 9.35420010e+04 9.52390010e+04 9.63990010e+04\n",
      " 9.71880010e+04 9.83760010e+04 9.95920010e+04 1.00879001e+05\n",
      " 1.02315001e+05 1.03289001e+05 1.03904001e+05 1.04604001e+05\n",
      " 1.05362001e+05 1.06621001e+05 1.08041001e+05 1.09194001e+05\n",
      " 1.09902001e+05 1.11104001e+05 1.12214001e+05 1.13727001e+05\n",
      " 1.15754001e+05 1.17414001e+05 1.18704001e+05 1.19564001e+05\n",
      " 1.20866001e+05 1.22497001e+05 1.24499001e+05 1.26460001e+05\n",
      " 1.27679001e+05 1.29213001e+05 1.30860001e+05 1.32428001e+05\n",
      " 1.34102001e+05 1.35793001e+05 1.36612001e+05 1.37517001e+05\n",
      " 1.38809001e+05 1.40332001e+05 1.41730001e+05 1.43555001e+05\n",
      " 1.44609001e+05 1.46138001e+05 1.46732001e+05 1.46732001e+05\n",
      " 1.46732001e+05 1.46732001e+05 1.46732001e+05 1.46732001e+05\n",
      " 1.46732001e+05 1.46732001e+05 1.46732001e+05 1.46732001e+05\n",
      " 1.46732001e+05 1.46732001e+05 1.46732001e+05 1.46732001e+05\n",
      " 1.46732001e+05 1.46732001e+05 1.46732001e+05 1.46732001e+05\n",
      " 1.46732001e+05 1.46732001e+05 1.46732001e+05 1.46732001e+05]\n"
     ]
    }
   ],
   "source": [
    "display(user_breakdown_df2[260:266])\n",
    "print(total)"
   ]
  },
  {
   "cell_type": "code",
   "execution_count": 19,
   "metadata": {
    "execution": {
     "iopub.execute_input": "2022-02-24T17:55:26.330747Z",
     "iopub.status.busy": "2022-02-24T17:55:26.330472Z",
     "iopub.status.idle": "2022-02-24T17:55:28.821633Z",
     "shell.execute_reply": "2022-02-24T17:55:28.820082Z",
     "shell.execute_reply.started": "2022-02-24T17:55:26.330720Z"
    },
    "tags": []
   },
   "outputs": [
    {
     "name": "stdout",
     "output_type": "stream",
     "text": [
      "[WARNING] [backend_ps - matplotlib.backends.backend_ps]: The PostScript backend does not support transparency; partially transparent artists will be rendered opaque. [backend_ps._is_transparent:303]\n"
     ]
    },
    {
     "data": {
      "image/png": "[encoded data removed]",
      "text/plain": [
       "<Figure size 648x432 with 1 Axes>"
      ]
     },
     "metadata": {},
     "output_type": "display_data"
    }
   ],
   "source": [
    "plt.figure(figsize=(9,6))\n",
    "plt.plot(user_breakdown_df2.year_month, user_breakdown_df2.clustered_track_per, label='Classroom Total', \\\n",
    "             color='green');\n",
    "plt.plot(user_breakdown_df2.year_month, user_breakdown_df2.all_researchers_per, label='All Researchers', \\\n",
    "             color='firebrick');\n",
    "plt.plot(user_breakdown_df2.year_month, user_breakdown_df2.researcher_track_per, label='Citing Researchers', \\\n",
    "             color='red');\n",
    "plt.plot(user_breakdown_df2.year_month, user_breakdown_df2.self_identified_track_per, label='Self-Identified Researchers', \\\n",
    "             color='magenta');\n",
    "plt.plot(user_breakdown_df2.year_month, user_breakdown_df2.self_track_per, label='Unclassified', \\\n",
    "             color='orange');\n",
    "\n",
    "plt.ylim([0, 100])\n",
    "plt.legend(loc='upper right');\n",
    "plt.ylabel('Percentage Distribution of Users Over All Time (%)');\n",
    "plt.xlim([start_date, end_date])\n",
    "# plt.show()\n",
    "\n",
    "if dev_flag == 'True':\n",
    "    plt.savefig(cwd+'/plots_local/300_simusers_total_percent_copied.eps', dpi=300, bbox_inches='tight')\n",
    "    plt.savefig(cwd+'/plots_local/300_simusers_total_percent_copied.pdf', dpi=300, bbox_inches='tight')\n",
    "    plt.savefig(cwd+'/plots_local/300_simusers_total_percent_copied.png', dpi=300, bbox_inches='tight')\n",
    "elif prod_flag == 'True':\n",
    "    plt.savefig(cwd+'/plots_production/300_simusers_total_percent_copied.eps', dpi=300, bbox_inches='tight')\n",
    "    plt.savefig(cwd+'/plots_production/300_simusers_total_percent_copied.pdf', dpi=300, bbox_inches='tight')\n",
    "    plt.savefig(cwd+'/plots_production/300_simusers_total_percent_copied.png', dpi=300, bbox_inches='tight')\n",
    "else:\n",
    "    print('no printing flag is active')"
   ]
  },
  {
   "cell_type": "code",
   "execution_count": 20,
   "metadata": {
    "execution": {
     "iopub.execute_input": "2022-02-24T17:55:28.823526Z",
     "iopub.status.busy": "2022-02-24T17:55:28.823057Z",
     "iopub.status.idle": "2022-02-24T17:55:28.862660Z",
     "shell.execute_reply": "2022-02-24T17:55:28.857001Z",
     "shell.execute_reply.started": "2022-02-24T17:55:28.823471Z"
    },
    "tags": []
   },
   "outputs": [],
   "source": [
    "user_breakdown_df2.to_csv(pathsave+'nh_user_breakdown.csv')"
   ]
  },
  {
   "cell_type": "code",
   "execution_count": 21,
   "metadata": {
    "execution": {
     "iopub.execute_input": "2022-02-24T17:55:28.865341Z",
     "iopub.status.busy": "2022-02-24T17:55:28.864151Z",
     "iopub.status.idle": "2022-02-24T17:55:28.896447Z",
     "shell.execute_reply": "2022-02-24T17:55:28.894480Z",
     "shell.execute_reply.started": "2022-02-24T17:55:28.865284Z"
    },
    "tags": []
   },
   "outputs": [
    {
     "name": "stdout",
     "output_type": "stream",
     "text": [
      "     Unnamed: 0          date  track\n",
      "100         100  '2008-05-01'   2070\n",
      "101         101  '2008-06-01'   2160\n",
      "102         102  '2008-07-01'   2206\n",
      "103         103  '2008-08-01'   2322\n",
      "104         104  '2008-09-01'   2364\n",
      "105         105  '2008-10-01'   2516\n",
      "106         106  '2008-11-01'   2868\n",
      "107         107  '2008-12-01'   3048\n",
      "108         108  '2009-01-01'   3160\n",
      "109         109  '2009-02-01'   3634\n",
      "110         110  '2009-03-01'   3879\n",
      "111         111  '2009-04-01'   4140\n",
      "112         112  '2009-05-01'   4326\n",
      "113         113  '2009-06-01'   4390\n",
      "114         114  '2009-07-01'   4460\n",
      "107    3048\n",
      "Name: track, dtype: int64\n",
      "clustered_track_norm =  3048\n",
      "clustered_track_norm direct =  3048\n"
     ]
    }
   ],
   "source": [
    "clustered_date_track_df = pd.read_csv(pathsave+'clustered_all_date_track.csv')\n",
    "#display(clustered_date_track_df)\n",
    "print(clustered_date_track_df[100:115])\n",
    "\n",
    "clipstart = 107\n",
    "print(clustered_date_track_df['track'][clipstart:clipstart+1])\n",
    "clustered_shift = clustered_date_track_df['track'][clipstart]\n",
    "print('clustered_track_norm = ',clustered_shift)\n",
    "clustered_shift = clustered_track[clipstart]\n",
    "clustered_shift = clustered_track_df['track'][clipstart]\n",
    "print('clustered_track_norm direct = ',clustered_shift)\n",
    "\n",
    "clustered_clip = clustered_track - clustered_shift\n",
    "clustered_clip[0:clipstart] = 0\n",
    "#print(clustered_clip[80:120])\n",
    "\n",
    "clustered_m_shift =                    clustered_m_track_df['track'][clipstart]\n",
    "clustered_m_clip =                     clustered_m_track -               clustered_m_shift\n",
    "clustered_m_clip[0:clipstart] = 0\n",
    "\n",
    "clustered_x_shift =                    clustered_x_track_df['track'][clipstart]\n",
    "clustered_x_clip =                     clustered_x_track -               clustered_x_shift\n",
    "clustered_x_clip[0:clipstart] = 0\n",
    "\n",
    "clustered_mx_shift =                    clustered_mx_track_df['track'][clipstart]\n",
    "clustered_mx_clip =                     clustered_mx_track -               clustered_mx_shift\n",
    "clustered_mx_clip[0:clipstart] = 0\n",
    "\n",
    "# simtotal_shift =                    simtotal_track_df['track'][clipstart]\n",
    "# simtotal_clip =                     simtotal_track -               simtotal_shift\n",
    "# simtotal_clip[0:clipstart] = 0\n",
    "\n",
    "self_identified_shift =                    self_identified_track_df['track'][clipstart]\n",
    "self_identified_clip =                     self_identified_track -               self_identified_shift\n",
    "self_identified_clip[0:clipstart] = 0\n",
    "\n",
    "researcher_shift =                    researcher_track_df['track'][clipstart]\n",
    "researcher_clip =                     researcher_track -               researcher_shift\n",
    "researcher_clip[0:clipstart] = 0\n",
    "\n",
    "# simtotal_shift =                    simtotal_track_df['track'][clipstart]\n",
    "# simtotal_clip =                     simtotal_track -               simtotal_shift\n",
    "# simtotal_clip[0:clipstart] = 0\n",
    "\n",
    "self2_shift =                    self2_track_df['track'][clipstart]\n",
    "self2_clip =                     self2_track -               self2_shift\n",
    "self2_clip[0:clipstart] = 0"
   ]
  },
  {
   "cell_type": "code",
   "execution_count": 22,
   "metadata": {
    "execution": {
     "iopub.execute_input": "2022-02-24T17:55:28.898159Z",
     "iopub.status.busy": "2022-02-24T17:55:28.897911Z",
     "iopub.status.idle": "2022-02-24T17:55:28.936741Z",
     "shell.execute_reply": "2022-02-24T17:55:28.932970Z",
     "shell.execute_reply.started": "2022-02-24T17:55:28.898133Z"
    },
    "tags": []
   },
   "outputs": [
    {
     "data": {
      "text/html": [
       "<div>\n",
       "<style scoped>\n",
       "    .dataframe tbody tr th:only-of-type {\n",
       "        vertical-align: middle;\n",
       "    }\n",
       "\n",
       "    .dataframe tbody tr th {\n",
       "        vertical-align: top;\n",
       "    }\n",
       "\n",
       "    .dataframe thead th {\n",
       "        text-align: right;\n",
       "    }\n",
       "</style>\n",
       "<table border=\"1\" class=\"dataframe\">\n",
       "  <thead>\n",
       "    <tr style=\"text-align: right;\">\n",
       "      <th></th>\n",
       "      <th>year_month</th>\n",
       "      <th>clustered_clip</th>\n",
       "      <th>clustered_m_clip</th>\n",
       "      <th>clustered_x_clip</th>\n",
       "      <th>clustered_mx_clip</th>\n",
       "      <th>self_identified_clip</th>\n",
       "      <th>self_clip</th>\n",
       "      <th>researcher_clip</th>\n",
       "    </tr>\n",
       "  </thead>\n",
       "  <tbody>\n",
       "    <tr>\n",
       "      <th>283</th>\n",
       "      <td>2023-08-01</td>\n",
       "      <td>76513</td>\n",
       "      <td>16369</td>\n",
       "      <td>14577</td>\n",
       "      <td>45567</td>\n",
       "      <td>1456</td>\n",
       "      <td>67307</td>\n",
       "      <td>1456</td>\n",
       "    </tr>\n",
       "    <tr>\n",
       "      <th>284</th>\n",
       "      <td>2023-09-01</td>\n",
       "      <td>76513</td>\n",
       "      <td>16369</td>\n",
       "      <td>14577</td>\n",
       "      <td>45567</td>\n",
       "      <td>1456</td>\n",
       "      <td>67307</td>\n",
       "      <td>1456</td>\n",
       "    </tr>\n",
       "    <tr>\n",
       "      <th>285</th>\n",
       "      <td>2023-10-01</td>\n",
       "      <td>76513</td>\n",
       "      <td>16369</td>\n",
       "      <td>14577</td>\n",
       "      <td>45567</td>\n",
       "      <td>1456</td>\n",
       "      <td>67307</td>\n",
       "      <td>1456</td>\n",
       "    </tr>\n",
       "    <tr>\n",
       "      <th>286</th>\n",
       "      <td>2023-11-01</td>\n",
       "      <td>76513</td>\n",
       "      <td>16369</td>\n",
       "      <td>14577</td>\n",
       "      <td>45567</td>\n",
       "      <td>1456</td>\n",
       "      <td>67307</td>\n",
       "      <td>1456</td>\n",
       "    </tr>\n",
       "    <tr>\n",
       "      <th>287</th>\n",
       "      <td>2023-12-01</td>\n",
       "      <td>76513</td>\n",
       "      <td>16369</td>\n",
       "      <td>14577</td>\n",
       "      <td>45567</td>\n",
       "      <td>1456</td>\n",
       "      <td>67307</td>\n",
       "      <td>1456</td>\n",
       "    </tr>\n",
       "  </tbody>\n",
       "</table>\n",
       "</div>"
      ],
      "text/plain": [
       "    year_month  clustered_clip  clustered_m_clip  clustered_x_clip  \\\n",
       "283 2023-08-01           76513             16369             14577   \n",
       "284 2023-09-01           76513             16369             14577   \n",
       "285 2023-10-01           76513             16369             14577   \n",
       "286 2023-11-01           76513             16369             14577   \n",
       "287 2023-12-01           76513             16369             14577   \n",
       "\n",
       "     clustered_mx_clip  self_identified_clip  self_clip  researcher_clip  \n",
       "283              45567                  1456      67307             1456  \n",
       "284              45567                  1456      67307             1456  \n",
       "285              45567                  1456      67307             1456  \n",
       "286              45567                  1456      67307             1456  \n",
       "287              45567                  1456      67307             1456  "
      ]
     },
     "metadata": {},
     "output_type": "display_data"
    }
   ],
   "source": [
    "user_clip_df = pd.DataFrame()\n",
    "user_clip_df['year_month'] = all_months_list\n",
    "# user_clip_df['simtotal_clip'] = simtotal_clip\n",
    "user_clip_df['clustered_clip'] = clustered_clip\n",
    "user_clip_df['clustered_m_clip'] = clustered_m_clip\n",
    "user_clip_df['clustered_x_clip'] = clustered_x_clip\n",
    "user_clip_df['clustered_mx_clip'] = clustered_mx_clip\n",
    "user_clip_df['self_identified_clip'] = self_identified_clip\n",
    "user_clip_df['self_clip'] = self2_clip\n",
    "user_clip_df['researcher_clip'] = researcher_clip\n",
    "display(user_clip_df.tail(5))"
   ]
  },
  {
   "cell_type": "code",
   "execution_count": 23,
   "metadata": {
    "execution": {
     "iopub.execute_input": "2022-02-24T17:55:28.940402Z",
     "iopub.status.busy": "2022-02-24T17:55:28.939697Z",
     "iopub.status.idle": "2022-02-24T17:55:32.027236Z",
     "shell.execute_reply": "2022-02-24T17:55:32.025833Z",
     "shell.execute_reply.started": "2022-02-24T17:55:28.940356Z"
    },
    "tags": []
   },
   "outputs": [
    {
     "name": "stdout",
     "output_type": "stream",
     "text": [
      "[WARNING] [warnings - py.warnings]: /tmp/ipykernel_26720/3632260984.py:17: UserWarning: 'set_params()' not defined for locator of type <class 'matplotlib.dates.AutoDateLocator'>\n",
      "  plt.locator_params(axis=\"x\", nbins=40)\n",
      " [warnings._showwarnmsg:109]\n",
      "[WARNING] [backend_ps - matplotlib.backends.backend_ps]: The PostScript backend does not support transparency; partially transparent artists will be rendered opaque. [backend_ps._is_transparent:303]\n"
     ]
    },
    {
     "data": {
      "image/png": "[encoded data removed]",
      "text/plain": [
       "<Figure size 648x432 with 1 Axes>"
      ]
     },
     "metadata": {},
     "output_type": "display_data"
    }
   ],
   "source": [
    "end_date = datetime.datetime(2022,1,1)\n",
    "start_date = datetime.datetime(2009,1,1)\n",
    "\n",
    "plt.figure(figsize=(9,6))\n",
    "\n",
    "plt.stackplot(user_clip_df.year_month, \\\n",
    "#               user_breakdown_df2[['clustered_track','self_track']].to_numpy().T, \\\n",
    "#              labels=['Classroom', 'Unclassified'], \\\n",
    "#              colors=['green', 'orange']); #Self-study              \n",
    "              user_clip_df[['clustered_x_clip', 'clustered_mx_clip', 'clustered_m_clip', 'researcher_clip','self_identified_clip','self_clip']].to_numpy().T, \\\n",
    "             labels=['Classroom X','Classroom MX','Classroom M','Citing Researchers', 'Self-Identified Researcher','Unclassified'], \\\n",
    "             colors=['lawngreen','green', 'yellowgreen','red', 'fuchsia','orange']); #Self-study\n",
    "\n",
    "plt.legend(loc='upper left')#,fontsize=14);\n",
    "plt.ylabel('Total Simulation Users Over All Time')#,fontsize=15)\n",
    "plt.xlim([start_date, end_date])#,fontsize=15)\n",
    "plt.locator_params(axis=\"x\", nbins=40)\n",
    "#plt.xticks( rotation=45, ha='right')\n",
    "# plt.show()\n",
    "\n",
    "if dev_flag == 'True':\n",
    "    plt.savefig(cwd+'/plots_local/300_simusers_total_clip_GK.eps', dpi=300, bbox_inches='tight')\n",
    "    plt.savefig(cwd+'/plots_local/300_simusers_total_clip_GK.pdf', dpi=300, bbox_inches='tight')\n",
    "    plt.savefig(cwd+'/plots_local/300_simusers_total_clip_12months_GK.png', dpi=300, bbox_inches='tight')\n",
    "elif prod_flag == 'True':\n",
    "    plt.savefig(cwd+'/plots_production/300_simusers_total_clip_GK.eps', dpi=300, bbox_inches='tight')\n",
    "    plt.savefig(cwd+'/plots_production/300_simusers_total_clip_GK.pdf', dpi=300, bbox_inches='tight')\n",
    "    plt.savefig(cwd+'/plots_production/300_simusers_total_clip_GK.png', dpi=300, bbox_inches='tight')\n",
    "else:\n",
    "    print('no printing flag is active')"
   ]
  },
  {
   "cell_type": "code",
   "execution_count": 24,
   "metadata": {
    "execution": {
     "iopub.execute_input": "2022-02-24T17:55:32.029112Z",
     "iopub.status.busy": "2022-02-24T17:55:32.028733Z",
     "iopub.status.idle": "2022-02-24T17:55:32.071656Z",
     "shell.execute_reply": "2022-02-24T17:55:32.069395Z",
     "shell.execute_reply.started": "2022-02-24T17:55:32.029074Z"
    },
    "tags": []
   },
   "outputs": [
    {
     "data": {
      "text/plain": [
       "[2094, 2114, 2134, 2158, 2178]"
      ]
     },
     "metadata": {},
     "output_type": "display_data"
    },
    {
     "data": {
      "text/plain": [
       "[1047, 1057, 1067, 1079, 1089]"
      ]
     },
     "metadata": {},
     "output_type": "display_data"
    },
    {
     "data": {
      "text/plain": [
       "[1047, 1057, 1067, 1079, 1089]"
      ]
     },
     "metadata": {},
     "output_type": "display_data"
    }
   ],
   "source": [
    "total = user_clip_df['clustered_clip'].to_numpy()+\\\n",
    "        user_clip_df['self_clip'].to_numpy() +\\\n",
    "        user_clip_df['researcher_clip'].to_numpy()+\\\n",
    "        user_clip_df['self_identified_clip'].to_numpy() + 0.001\n",
    "\n",
    "#print('total ',total)\n",
    "\n",
    "total_research = user_clip_df['researcher_clip'].to_numpy()+\\\n",
    "                 user_clip_df['self_identified_clip'].to_numpy() + 0.001\n",
    "\n",
    "#print('total_research ',total_research)\n",
    "user_clip_df['all_researchers'] = np.add(user_clip_df['self_identified_clip'], user_clip_df['researcher_clip'])\n",
    "#user_breakdown_df2['all_researchers'] = user_breakdown_df2[['researcher_track','self_identified_track']].sum\n",
    "display(user_clip_df['all_researchers'].tolist()[200:205])\n",
    "display(user_clip_df['researcher_clip'].tolist()[200:205])\n",
    "display(user_clip_df['self_identified_clip'].tolist()[200:205])\n",
    "\n",
    "user_clip_df['clustered_clip_per'] = 100*np.divide(user_clip_df['clustered_clip'],total)\n",
    "user_clip_df['self_identified_clip_per'] = 100*np.divide(user_clip_df['self_identified_clip'], total)\n",
    "user_clip_df['researcher_clip_per'] = 100*np.divide(user_clip_df['researcher_clip'], total)\n",
    "user_clip_df['self_clip_per'] = 100*np.divide(user_clip_df['self_clip'], total)\n",
    "user_clip_df['all_researchers_per'] = 100*np.divide(user_clip_df['all_researchers'], total)\n",
    "\n"
   ]
  },
  {
   "cell_type": "code",
   "execution_count": 25,
   "metadata": {
    "execution": {
     "iopub.execute_input": "2022-02-24T17:55:32.073617Z",
     "iopub.status.busy": "2022-02-24T17:55:32.073349Z",
     "iopub.status.idle": "2022-02-24T17:55:34.934973Z",
     "shell.execute_reply": "2022-02-24T17:55:34.933932Z",
     "shell.execute_reply.started": "2022-02-24T17:55:32.073590Z"
    },
    "tags": []
   },
   "outputs": [
    {
     "name": "stdout",
     "output_type": "stream",
     "text": [
      "[WARNING] [backend_ps - matplotlib.backends.backend_ps]: The PostScript backend does not support transparency; partially transparent artists will be rendered opaque. [backend_ps._is_transparent:303]\n"
     ]
    },
    {
     "data": {
      "image/png": "[encoded data removed]",
      "text/plain": [
       "<Figure size 648x432 with 1 Axes>"
      ]
     },
     "metadata": {},
     "output_type": "display_data"
    }
   ],
   "source": [
    "plt.figure(figsize=(9,6))\n",
    "plt.plot(user_clip_df.year_month, user_clip_df.clustered_clip_per, label='Classroom Total', \\\n",
    "             color='green');\n",
    "plt.plot(user_clip_df.year_month, user_clip_df.all_researchers_per, label='All Researchers', \\\n",
    "             color='firebrick');\n",
    "plt.plot(user_clip_df.year_month, user_clip_df.researcher_clip_per, label='Citing Researchers', \\\n",
    "             color='red');\n",
    "plt.plot(user_clip_df.year_month, user_clip_df.self_identified_clip_per, label='Self-Identified Researchers', \\\n",
    "             color='magenta');\n",
    "plt.plot(user_clip_df.year_month, user_clip_df.self_clip_per, label='Unclassified', \\\n",
    "             color='orange');\n",
    "\n",
    "plt.ylim([0, 100])\n",
    "plt.legend(loc='upper right');\n",
    "plt.ylabel('Percentage Distribution of Users Over All Time (%)');\n",
    "plt.xlim([start_date, end_date])\n",
    "# plt.show()\n",
    "\n",
    "if dev_flag == 'True':\n",
    "    plt.savefig(cwd+'/plots_local/300_simusers_total_clip_percent_copied.eps', dpi=300, bbox_inches='tight')\n",
    "    plt.savefig(cwd+'/plots_local/300_simusers_total_clip_percent_copied.pdf', dpi=300, bbox_inches='tight')\n",
    "    plt.savefig(cwd+'/plots_local/300_simusers_total_clip_percent_copied.png', dpi=300, bbox_inches='tight')\n",
    "elif prod_flag == 'True':\n",
    "    plt.savefig(cwd+'/plots_production/300_simusers_total_clip_percent_copied.eps', dpi=300, bbox_inches='tight')\n",
    "    plt.savefig(cwd+'/plots_production/300_simusers_total_clip_percent_copied.pdf', dpi=300, bbox_inches='tight')\n",
    "    plt.savefig(cwd+'/plots_production/300_simusers_total_clip_percent_copied.png', dpi=300, bbox_inches='tight')\n",
    "else:\n",
    "    print('no printing flag is active')"
   ]
  },
  {
   "cell_type": "code",
   "execution_count": null,
   "metadata": {},
   "outputs": [],
   "source": []
  }
 ],
 "metadata": {
  "kernelspec": {
   "display_name": "Python 3 (ipykernel)",
   "language": "python",
   "name": "python3"
  },
  "language_info": {
   "codemirror_mode": {
    "name": "ipython",
    "version": 3
   },
   "file_extension": ".py",
   "mimetype": "text/x-python",
   "name": "python",
   "nbconvert_exporter": "python",
   "pygments_lexer": "ipython3",
   "version": "3.8.10"
  }
 },
 "nbformat": 4,
 "nbformat_minor": 4
}
