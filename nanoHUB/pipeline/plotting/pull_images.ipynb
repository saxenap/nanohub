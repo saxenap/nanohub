{
 "cells": [
  {
   "cell_type": "code",
   "execution_count": 1,
   "id": "53ffe598-bb47-4688-9765-0baf46d6b61a",
   "metadata": {
    "execution": {
     "iopub.execute_input": "2021-09-28T04:59:32.772167Z",
     "iopub.status.busy": "2021-09-28T04:59:32.771394Z",
     "iopub.status.idle": "2021-09-28T04:59:33.047863Z",
     "shell.execute_reply": "2021-09-28T04:59:33.047002Z",
     "shell.execute_reply.started": "2021-09-28T04:59:32.771969Z"
    },
    "tags": []
   },
   "outputs": [],
   "source": [
    "import requests\n",
    "from bs4 import BeautifulSoup\n",
    "import os\n"
   ]
  },
  {
   "cell_type": "code",
   "execution_count": 2,
   "id": "4af2980b-fc36-4bf2-a097-7069f38aab4c",
   "metadata": {
    "execution": {
     "iopub.execute_input": "2021-09-28T04:59:33.049565Z",
     "iopub.status.busy": "2021-09-28T04:59:33.049050Z",
     "iopub.status.idle": "2021-09-28T04:59:39.096382Z",
     "shell.execute_reply": "2021-09-28T04:59:39.093736Z",
     "shell.execute_reply.started": "2021-09-28T04:59:33.049525Z"
    },
    "tags": []
   },
   "outputs": [
    {
     "name": "stdout",
     "output_type": "stream",
     "text": [
      "['http://nanohub.org/app/site/stats/citation_maps/citations_report.csv']\n"
     ]
    }
   ],
   "source": [
    "url = 'https://nanohub.org/citations' #url we want to pull the images from and save under plots_production  \n",
    "doc = requests.get(url) # beautiful soup can't work with http requests directly so must get document behind the link and feed that to beautiful soup \n",
    "citationPage = BeautifulSoup(doc.text, 'html')\n",
    "images = citationPage.find_all('img') # extract all the image tags\n",
    "\n",
    "# lists to extract appropirate info\n",
    "imageLinks = []\n",
    "imageDesc = []\n",
    "csvFiles = []\n",
    "for link in citationPage.find_all('a'):\n",
    "    potentialcsv = link.get('href')\n",
    "    if potentialcsv is not None and potentialcsv.endswith('.csv'):\n",
    "        csvFiles.append(\"http://nanohub.org\" + potentialcsv)\n",
    "print(csvFiles)\n",
    "for files in csvFiles:\n",
    "    download = requests.get(files)\n",
    "    names = files.split('/')\n",
    "    with open(names[-1], 'wb') as f:\n",
    "        f.write(download.content)\n",
    "        os.rename(names[-1], './pulledcsv/' + names[-1]) # saves all web scraped csv files to a pulled csv folder \n",
    "imageLinks = [image['src'] for image in images] # extract the links to all the images we want to save\n",
    "imageDesc = [image['alt'] for image in images] #extract any description associated with the images so we can have an easier time naming \n",
    "imageLinks = [\"http://nanohub.org\" + image for image in imageLinks] #append nanohub.org to get the actual not just the partial link \n",
    "imgCount = 0 # used for naming which citation image is saved \n",
    "for toSave in imageLinks:\n",
    "    with open('Citationimg' + str(imgCount) + '.svg', 'wb') as f:\n",
    "        filename = 'Citationimg' + str(imgCount) + '.svg'\n",
    "        citationimg = requests.get(toSave)\n",
    "        f.write(citationimg.content) # .content gets the individual byte information and saves that \n",
    "        os.rename(filename, './plots_production/' + filename) # moves the files to the appropriate place \n",
    "    imgCount += 1\n"
   ]
  },
  {
   "cell_type": "code",
   "execution_count": 3,
   "id": "edd17b34-ac12-49f7-a62c-075bb56d8f85",
   "metadata": {
    "execution": {
     "iopub.execute_input": "2021-09-28T04:59:39.099307Z",
     "iopub.status.busy": "2021-09-28T04:59:39.098718Z",
     "iopub.status.idle": "2021-09-28T04:59:40.521665Z",
     "shell.execute_reply": "2021-09-28T04:59:40.520441Z",
     "shell.execute_reply.started": "2021-09-28T04:59:39.099262Z"
    },
    "tags": []
   },
   "outputs": [],
   "source": [
    "import csv\n",
    "import pandas as pd\n",
    "from matplotlib import pyplot as plt\n",
    "import numpy as np\n",
    "import matplotlib.ticker as tck"
   ]
  },
  {
   "cell_type": "code",
   "execution_count": 4,
   "id": "0a5041bc-5c8f-4d7c-8918-fdc10a54c6a2",
   "metadata": {
    "execution": {
     "iopub.execute_input": "2021-09-28T04:59:40.524814Z",
     "iopub.status.busy": "2021-09-28T04:59:40.524431Z",
     "iopub.status.idle": "2021-09-28T04:59:40.582486Z",
     "shell.execute_reply": "2021-09-28T04:59:40.580294Z",
     "shell.execute_reply.started": "2021-09-28T04:59:40.524769Z"
    },
    "tags": []
   },
   "outputs": [
    {
     "name": "stdout",
     "output_type": "stream",
     "text": [
      "        0                1             2       3\n",
      "0    Year   NCN Affiliated   Outside NCN   Total\n",
      "1    2000                0             1       1\n",
      "2    2001                2             6       8\n",
      "3    2002                9            15      24\n",
      "4    2003               17            28      45\n",
      "5    2004               28            46      74\n",
      "6    2005               51            77     128\n",
      "7    2006               70           117     187\n",
      "8    2007              114           171     285\n",
      "9    2008              160           216     376\n",
      "10   2009              219           318     537\n",
      "11   2010              267           397     664\n",
      "12   2011              342           509     851\n",
      "13   2012              380           640    1020\n",
      "14   2013              437           795    1232\n",
      "15   2014              486           919    1405\n",
      "16   2015              578          1040    1618\n",
      "17   2016              643          1210    1853\n",
      "18   2017              693          1366    2059\n",
      "19   2018              737          1527    2265\n",
      "20   2019              771          1671    2444\n",
      "21   2020              781          1731    2514\n",
      "22  Total              781          1734    2517\n",
      "['2000', '2001', '2002', '2003', '2004', '2005', '2006', '2007', '2008', '2009', '2010', '2011', '2012', '2013', '2014', '2015', '2016', '2017', '2018', '2019', '2020']\n",
      "[' 0', ' 2', ' 7', ' 8', ' 11', ' 23', ' 19', ' 44', ' 46', ' 59', ' 48', ' 75', ' 38', ' 57', ' 49', ' 92', ' 65', ' 50', ' 44', ' 34', ' 10']\n",
      "[' 1', ' 5', ' 9', ' 13', ' 18', ' 31', ' 40', ' 54', ' 45', ' 102', ' 79', ' 112', ' 131', ' 155', ' 124', ' 121', ' 170', ' 156', ' 161', ' 144', ' 60']\n",
      "[' 0', 2, 9, 17, 28, 51, 70, 114, 160, 219, 267, 342, 380, 437, 486, 578, 643, 693, 737, 771, 781]\n",
      "[' 1', 6, 15, 28, 46, 77, 117, 171, 216, 318, 397, 509, 640, 795, 919, 1040, 1210, 1366, 1527, 1671, 1731]\n",
      "[' 1', 8, 24, 45, 74, 128, 187, 285, 376, 537, 664, 851, 1020, 1232, 1405, 1618, 1853, 2059, 2265, 2444, 2514]\n"
     ]
    }
   ],
   "source": [
    "rawCitation = []\n",
    "reachedSeven = False\n",
    "reachedSix = False\n",
    "cumulative = pd.DataFrame()\n",
    "with open('./pulledcsv/citations_report.csv', 'r') as csvfile:\n",
    "    citationData = csv.reader(csvfile)\n",
    "    \n",
    "    for line in citationData:\n",
    "        if len(line) == 0:\n",
    "            continue\n",
    "        if line[0] == 'Table 6: Citations per year':\n",
    "            rawCitation.append(line)\n",
    "            reachedSix = True\n",
    "            continue\n",
    "        if line[0] == 'Table 7: Citations by type':\n",
    "            reachedSeven = True\n",
    "        if reachedSeven == False and reachedSix == True:\n",
    "            rawCitation.append(line)\n",
    "rawCitation.pop(0) #get rid of the unnecessary title\n",
    "header = rawCitation.pop(0) # keep the header becuase must flip the list of lists \n",
    "tail = rawCitation.pop(-1) # keep the tail \n",
    "rawCitation = rawCitation[::-1]\n",
    "rawCitation.insert(0, header)\n",
    "rawCitation.append(tail)\n",
    "rawCitation = pd.DataFrame(rawCitation) #rawCitation is now a pandas dataframe \n",
    "#print(rawCitation)\n",
    "rowNum = rawCitation.shape[0]\n",
    "cumulative = rawCitation.copy(deep=True)\n",
    "\n",
    "for i in range(2, rowNum - 1):\n",
    "    cumulative.at[i, 1] = int(cumulative.at[i - 1, 1]) + int(cumulative.at[i, 1])\n",
    "    cumulative.at[i, 2] = int(cumulative.at[i - 1, 2]) + int(cumulative.at[i, 2])\n",
    "    cumulative.at[i, 3] = int(cumulative.at[i - 1, 3]) + int(cumulative.at[i, 3])\n",
    "\n",
    "\n",
    "cumulative.reset_index(drop=True, inplace=True)\n",
    "print(cumulative)\n",
    "years = list(rawCitation.iloc[:, 0]) # x-axis for the bar graphs shown below \n",
    "rawNCN = list(rawCitation.iloc[:, 1])\n",
    "rawNCN.pop(0)\n",
    "rawNCN.pop()\n",
    "rawONCN = list(rawCitation.iloc[:,2])\n",
    "rawONCN.pop(0)\n",
    "rawONCN.pop()\n",
    "rawTot = list(rawCitation.iloc[:,3])\n",
    "rawTot.pop(0)\n",
    "rawTot.pop()\n",
    "cumuNCN = list(cumulative.iloc[:,1])\n",
    "cumuNCN.pop(0)\n",
    "cumuNCN.pop()\n",
    "cumuONCN = list(cumulative.iloc[:,2])\n",
    "cumuONCN.pop(0)\n",
    "cumuONCN.pop()\n",
    "cumuTot = list(cumulative.iloc[:,3])\n",
    "cumuTot.pop(0)\n",
    "cumuTot.pop()\n",
    "\n",
    "years.pop(0)\n",
    "years.pop()\n",
    "print(years)\n",
    "print(rawNCN)\n",
    "print(rawONCN)\n",
    "print(cumuNCN)\n",
    "print(cumuONCN)\n",
    "print(cumuTot)\n",
    "\n",
    "\n",
    "\n",
    "    \n",
    "            "
   ]
  },
  {
   "cell_type": "code",
   "execution_count": 5,
   "id": "6e385352-c389-466c-a9bd-97b043ddd729",
   "metadata": {
    "execution": {
     "iopub.execute_input": "2021-09-28T04:59:40.584172Z",
     "iopub.status.busy": "2021-09-28T04:59:40.583909Z",
     "iopub.status.idle": "2021-09-28T04:59:40.984076Z",
     "shell.execute_reply": "2021-09-28T04:59:40.982986Z",
     "shell.execute_reply.started": "2021-09-28T04:59:40.584131Z"
    },
    "tags": []
   },
   "outputs": [
    {
     "name": "stdout",
     "output_type": "stream",
     "text": [
      "21\n",
      "21\n",
      "        0                1             2       3\n",
      "0    Year   NCN Affiliated   Outside NCN   Total\n",
      "1    2000                0             1       1\n",
      "2    2001                2             5       7\n",
      "3    2002                7             9      16\n",
      "4    2003                8            13      21\n",
      "5    2004               11            18      29\n",
      "6    2005               23            31      54\n",
      "7    2006               19            40      59\n",
      "8    2007               44            54      98\n",
      "9    2008               46            45      91\n",
      "10   2009               59           102     161\n",
      "11   2010               48            79     127\n",
      "12   2011               75           112     187\n",
      "13   2012               38           131     169\n",
      "14   2013               57           155     212\n",
      "15   2014               49           124     173\n",
      "16   2015               92           121     213\n",
      "17   2016               65           170     235\n",
      "18   2017               50           156     206\n",
      "19   2018               44           161     206\n",
      "20   2019               34           144     179\n",
      "21   2020               10            60      70\n",
      "22  Total              781          1734    2517\n"
     ]
    },
    {
     "data": {
      "image/png": "[encoded data removed]",
      "text/plain": [
       "<Figure size 432x288 with 1 Axes>"
      ]
     },
     "metadata": {
      "needs_background": "light"
     },
     "output_type": "display_data"
    }
   ],
   "source": [
    "print(len(years))\n",
    "print(len(cumuTot))\n",
    "cumuTot = [float(el) for el in cumuTot]\n",
    "print(rawCitation)\n",
    "plt.figure()\n",
    "ypos = np.arange(len(years))\n",
    "plt.xticks(ypos, years, rotation = 90)\n",
    "plt.bar(ypos, cumuTot, label = \"Cumulative total\", width = 0.4)\n",
    "plt.xlabel(\"Years\")\n",
    "plt.ylabel(\"Cumulative Citations\")\n",
    "plt.title(\"Total Cumulative Citations Across Years\")\n",
    "plt.grid()"
   ]
  },
  {
   "cell_type": "code",
   "execution_count": null,
   "id": "a2cc0234-b10f-4a3c-af39-f87ef8874d1f",
   "metadata": {
    "execution": {
     "iopub.execute_input": "2021-09-28T04:59:40.986475Z",
     "iopub.status.busy": "2021-09-28T04:59:40.986011Z"
    },
    "tags": []
   },
   "outputs": [
    {
     "data": {
      "text/plain": [
       "Text(0, 0.5, 'Outside NCN Cumulative Citations')"
      ]
     },
     "execution_count": 6,
     "metadata": {},
     "output_type": "execute_result"
    }
   ],
   "source": [
    "fig = plt.figure()\n",
    "ax = fig.add_subplot(111)\n",
    "plt.xticks(ypos, years, rotation=90)\n",
    "ax2 = ax.twinx()\n",
    "cumuNCN = [float(i) for i in cumuNCN]\n",
    "cumuONCN = [float(i) for i in cumuONCN]\n",
    "first =ax.bar(ypos + 0.2, cumuNCN, width=0.4, color='b', align='center')\n",
    "second =ax2.bar(ypos - 0.2, cumuONCN, width=0.4,color='y',align='center')\n",
    "plt.legend([first, second],['NCN Affiliated', 'Outside NCN'])\n",
    "plt.title(\"Cumulative Citations Among NCN and Non NCN Researchers\")\n",
    "ax.set_xlabel(\"Years\")\n",
    "ax.set_ylabel(\"NCN Cumulative Citations\")\n",
    "ax2.set_ylabel(\"Outside NCN Cumulative Citations\")"
   ]
  },
  {
   "cell_type": "code",
   "execution_count": null,
   "id": "441b0ed2-ff8b-40ef-93e4-11c2b7bc3fb6",
   "metadata": {
    "tags": []
   },
   "outputs": [],
   "source": [
    "fig = plt.figure()\n",
    "ax = fig.add_subplot(111)\n",
    "plt.xticks(ypos, years, rotation=90)\n",
    "ax2 = ax.twinx()\n",
    "rawNCN = [float(i) for i in rawNCN]\n",
    "rawONCN = [float(i) for i in rawONCN]\n",
    "first =ax.bar(ypos + 0.2, rawNCN, width=0.4, color='b', align='center')\n",
    "second =ax2.bar(ypos - 0.2, rawONCN, width=0.4,color='y',align='center')\n",
    "plt.legend([first, second],['NCN Affiliated', 'Outside NCN'])\n",
    "plt.title(\"Raw Citations Among NCN and Non NCN Researchers\")\n",
    "ax.set_xlabel(\"Years\")\n",
    "ax.set_ylabel(\"NCN Cumulative Citations\")\n",
    "ax2.set_ylabel(\"Outside NCN Cumulative Citations\")"
   ]
  },
  {
   "cell_type": "code",
   "execution_count": null,
   "id": "d38e235d-546e-4814-931e-89ea980576d8",
   "metadata": {
    "tags": []
   },
   "outputs": [],
   "source": [
    "plt.xticks(ypos, years, rotation = 90)\n",
    "plt.ylabel(\"Number of Cumulative Citations\")\n",
    "plt.title(\"Cumulative Citations Per Year Among NCN and Non-NCN Researchers\")\n",
    "plt.bar(ypos + 0.2, cumuNCN, label = \"Cumulative NCN Citations\", width = 0.5)\n",
    "plt.bar(ypos - 0.2, cumuONCN, label = \"Cumulative non-NCN Citations\", width = 0.5)\n",
    "plt.legend()"
   ]
  },
  {
   "cell_type": "code",
   "execution_count": null,
   "id": "c7917cff-2dd4-4a0f-903f-f6359b2ab508",
   "metadata": {
    "tags": []
   },
   "outputs": [],
   "source": [
    "plt.xticks(ypos, years, rotation = 90)\n",
    "plt.ylabel(\"Number of Cumulative Citations\")\n",
    "plt.title(\"Cumulative Citations Per Year Among NCN and Non-NCN Researchers\")\n",
    "plt.bar(ypos, rawNCN, label = \"Cumulative NCN Citations\", width = 0.5)\n",
    "plt.bar(ypos, rawONCN, label = \"Cumulative non-NCN Citations\", width = 0.5, bottom=rawNCN)\n",
    "plt.legend()"
   ]
  },
  {
   "cell_type": "code",
   "execution_count": null,
   "id": "417039f0-d599-4950-a1dd-212c7f85004a",
   "metadata": {},
   "outputs": [],
   "source": [
    "plt.xticks(ypos, years, rotation = 90)\n",
    "plt.ylabel(\"Number of Cumulative Citations\")\n",
    "plt.title(\"Cumulative Citations Per Year Among NCN and Non-NCN Researchers\")\n",
    "plt.bar(ypos + 0.2, rawNCN, label = \"Cumulative NCN Citations\", width = 0.5)\n",
    "plt.bar(ypos - 0.2, rawONCN, label = \"Cumulative non-NCN Citations\", width = 0.5)\n",
    "plt.legend()"
   ]
  },
  {
   "cell_type": "code",
   "execution_count": null,
   "id": "f52b3bee-9ace-46e8-9b0c-34a664296ab7",
   "metadata": {
    "tags": []
   },
   "outputs": [],
   "source": [
    "plt.xticks(ypos, years, rotation = 90)\n",
    "plt.ylabel(\"Number of Cumulative Citations\")\n",
    "plt.title(\"Cumulative Citations Per Year Among NCN and Non-NCN Researchers\")\n",
    "plt.bar(ypos, cumuNCN, label = \"Cumulative NCN Citations\", width = 0.5)\n",
    "plt.bar(ypos, cumuONCN, label = \"Cumulative non-NCN Citations\", width = 0.5, bottom=rawNCN)\n",
    "plt.legend()"
   ]
  },
  {
   "cell_type": "code",
   "execution_count": null,
   "id": "79a0c2ec-fb6a-4ef9-b773-f11f0ec476b5",
   "metadata": {},
   "outputs": [],
   "source": []
  }
 ],
 "metadata": {
  "kernelspec": {
   "display_name": "Python 3 (ipykernel)",
   "language": "python",
   "name": "python3"
  },
  "language_info": {
   "codemirror_mode": {
    "name": "ipython",
    "version": 3
   },
   "file_extension": ".py",
   "mimetype": "text/x-python",
   "name": "python",
   "nbconvert_exporter": "python",
   "pygments_lexer": "ipython3",
   "version": "3.8.10"
  }
 },
 "nbformat": 4,
 "nbformat_minor": 5
}
