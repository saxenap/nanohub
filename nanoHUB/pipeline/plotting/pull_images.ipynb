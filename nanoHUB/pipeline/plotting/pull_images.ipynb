{
 "cells": [
  {
   "cell_type": "code",
   "execution_count": 57,
   "id": "53ffe598-bb47-4688-9765-0baf46d6b61a",
   "metadata": {
    "execution": {
     "iopub.execute_input": "2021-09-19T01:02:17.235003Z",
     "iopub.status.busy": "2021-09-19T01:02:17.234498Z",
     "iopub.status.idle": "2021-09-19T01:02:17.241917Z",
     "shell.execute_reply": "2021-09-19T01:02:17.240710Z",
     "shell.execute_reply.started": "2021-09-19T01:02:17.234953Z"
    },
    "tags": []
   },
   "outputs": [],
   "source": [
    "import requests\n",
    "from bs4 import BeautifulSoup\n",
    "import os\n"
   ]
  },
  {
   "cell_type": "code",
   "execution_count": 58,
   "id": "4af2980b-fc36-4bf2-a097-7069f38aab4c",
   "metadata": {
    "execution": {
     "iopub.execute_input": "2021-09-19T01:02:18.029573Z",
     "iopub.status.busy": "2021-09-19T01:02:18.028601Z",
     "iopub.status.idle": "2021-09-19T01:02:26.332778Z",
     "shell.execute_reply": "2021-09-19T01:02:26.326763Z",
     "shell.execute_reply.started": "2021-09-19T01:02:18.029540Z"
    },
    "tags": []
   },
   "outputs": [
    {
     "name": "stdout",
     "output_type": "stream",
     "text": [
      "['http://nanohub.org/app/site/stats/citation_maps/citations_report.csv']\n"
     ]
    }
   ],
   "source": [
    "url = 'https://nanohub.org/citations' #url we want to pull the images from and save under plots_production  \n",
    "doc = requests.get(url) # beautiful soup can't work with http requests directly so must get document behind the link and feed that to beautiful soup \n",
    "citationPage = BeautifulSoup(doc.text, 'html')\n",
    "images = citationPage.find_all('img') # extract all the image tags\n",
    "\n",
    "# lists to extract appropirate info\n",
    "imageLinks = []\n",
    "imageDesc = []\n",
    "csvFiles = []\n",
    "for link in citationPage.find_all('a'):\n",
    "    potentialcsv = link.get('href')\n",
    "    if potentialcsv is not None and potentialcsv.endswith('.csv'):\n",
    "        csvFiles.append(\"http://nanohub.org\" + potentialcsv)\n",
    "print(csvFiles)\n",
    "for files in csvFiles:\n",
    "    download = requests.get(files)\n",
    "    names = files.split('/')\n",
    "    with open(names[-1], 'wb') as f:\n",
    "        f.write(download.content)\n",
    "        os.rename(names[-1], './pulledcsv/' + names[-1]) # saves all web scraped csv files to a pulled csv folder \n",
    "imageLinks = [image['src'] for image in images] # extract the links to all the images we want to save\n",
    "imageDesc = [image['alt'] for image in images] #extract any description associated with the images so we can have an easier time naming \n",
    "imageLinks = [\"http://nanohub.org\" + image for image in imageLinks] #append nanohub.org to get the actual not just the partial link \n",
    "imgCount = 0 # used for naming which citation image is saved \n",
    "for toSave in imageLinks:\n",
    "    with open('Citationimg' + str(imgCount) + '.svg', 'wb') as f:\n",
    "        filename = 'Citationimg' + str(imgCount) + '.svg'\n",
    "        citationimg = requests.get(toSave)\n",
    "        f.write(citationimg.content) # .content gets the individual byte information and saves that \n",
    "        os.rename(filename, './plots_production/' + filename) # moves the files to the appropriate place \n",
    "    imgCount += 1\n"
   ]
  },
  {
   "cell_type": "code",
   "execution_count": null,
   "id": "edd17b34-ac12-49f7-a62c-075bb56d8f85",
   "metadata": {},
   "outputs": [],
   "source": []
  },
  {
   "cell_type": "code",
   "execution_count": null,
   "id": "0a5041bc-5c8f-4d7c-8918-fdc10a54c6a2",
   "metadata": {},
   "outputs": [],
   "source": []
  }
 ],
 "metadata": {
  "kernelspec": {
   "display_name": "Python 3 (ipykernel)",
   "language": "python",
   "name": "python3"
  },
  "language_info": {
   "codemirror_mode": {
    "name": "ipython",
    "version": 3
   },
   "file_extension": ".py",
   "mimetype": "text/x-python",
   "name": "python",
   "nbconvert_exporter": "python",
   "pygments_lexer": "ipython3",
   "version": "3.8.10"
  }
 },
 "nbformat": 4,
 "nbformat_minor": 5
}
