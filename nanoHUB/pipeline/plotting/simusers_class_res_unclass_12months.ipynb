{
 "cells": [
  {
   "cell_type": "code",
   "execution_count": 1,
   "metadata": {
    "execution": {
     "iopub.execute_input": "2022-02-16T14:07:59.371496Z",
     "iopub.status.busy": "2022-02-16T14:07:59.371114Z",
     "iopub.status.idle": "2022-02-16T14:07:59.385243Z",
     "shell.execute_reply": "2022-02-16T14:07:59.379787Z",
     "shell.execute_reply.started": "2022-02-16T14:07:59.371416Z"
    },
    "tags": []
   },
   "outputs": [],
   "source": [
    "## build researcher events, student events, and self-study events\n",
    "## researcher are simply those with NH citations"
   ]
  },
  {
   "cell_type": "code",
   "execution_count": 2,
   "metadata": {
    "execution": {
     "iopub.execute_input": "2022-02-16T14:07:59.397480Z",
     "iopub.status.busy": "2022-02-16T14:07:59.394542Z",
     "iopub.status.idle": "2022-02-16T14:07:59.915139Z",
     "shell.execute_reply": "2022-02-16T14:07:59.914416Z",
     "shell.execute_reply.started": "2022-02-16T14:07:59.397420Z"
    },
    "tags": []
   },
   "outputs": [],
   "source": [
    "import sys\n",
    "\n",
    "import pandas as pd\n",
    "import time\n",
    "import datetime"
   ]
  },
  {
   "cell_type": "code",
   "execution_count": 3,
   "metadata": {
    "execution": {
     "iopub.execute_input": "2022-02-16T14:07:59.919649Z",
     "iopub.status.busy": "2022-02-16T14:07:59.918506Z",
     "iopub.status.idle": "2022-02-16T14:07:59.925961Z",
     "shell.execute_reply": "2022-02-16T14:07:59.924532Z",
     "shell.execute_reply.started": "2022-02-16T14:07:59.919553Z"
    },
    "tags": []
   },
   "outputs": [],
   "source": [
    "import warnings\n",
    "warnings.filterwarnings('ignore')\n",
    "# warnings.filterwarnings(action='once')\n",
    "warnings.simplefilter(action='ignore', category=FutureWarning)"
   ]
  },
  {
   "cell_type": "code",
   "execution_count": 4,
   "metadata": {
    "execution": {
     "iopub.execute_input": "2022-02-16T14:07:59.928521Z",
     "iopub.status.busy": "2022-02-16T14:07:59.927727Z",
     "iopub.status.idle": "2022-02-16T14:08:03.668872Z",
     "shell.execute_reply": "2022-02-16T14:08:03.666591Z",
     "shell.execute_reply.started": "2022-02-16T14:07:59.928480Z"
    },
    "tags": []
   },
   "outputs": [
    {
     "name": "stdout",
     "output_type": "stream",
     "text": [
      "\u001b[1mnanoHUB - Serving Students, Researchers & Instructors\u001b[0m\n",
      "Obtained Salesforce access token ...... True\n"
     ]
    }
   ],
   "source": [
    "from nanoHUB.application import Application\n",
    "\n",
    "application = Application.get_instance()\n",
    "nanohub_db = application.new_db_engine('nanohub')\n",
    "nanohub_metrics_db = application.new_db_engine('nanohub_metrics')\n",
    "wang159_myrmekes_db = application.new_db_engine('rfm_data')\n",
    "\n",
    "salesforce = application.new_salesforce_engine()\n",
    "db_s = salesforce"
   ]
  },
  {
   "cell_type": "code",
   "execution_count": null,
   "metadata": {},
   "outputs": [],
   "source": []
  },
  {
   "cell_type": "markdown",
   "metadata": {},
   "source": [
    "## Cumulative classroom/research/self-study"
   ]
  },
  {
   "cell_type": "code",
   "execution_count": 5,
   "metadata": {
    "execution": {
     "iopub.execute_input": "2022-02-16T14:08:03.673779Z",
     "iopub.status.busy": "2022-02-16T14:08:03.672177Z",
     "iopub.status.idle": "2022-02-16T14:08:03.681639Z",
     "shell.execute_reply": "2022-02-16T14:08:03.679386Z",
     "shell.execute_reply.started": "2022-02-16T14:08:03.673710Z"
    },
    "tags": []
   },
   "outputs": [],
   "source": [
    "###\n",
    "# 1. pull all unique classroom users from SF\n",
    "# 2. pull all research users from DB2\n",
    "# 3. pull all contacts from SF\n",
    "# 4. iteratively pull toolstart df again by year starting from 2000"
   ]
  },
  {
   "cell_type": "code",
   "execution_count": 6,
   "metadata": {
    "execution": {
     "iopub.execute_input": "2022-02-16T14:08:03.684899Z",
     "iopub.status.busy": "2022-02-16T14:08:03.683519Z",
     "iopub.status.idle": "2022-02-16T14:08:28.222321Z",
     "shell.execute_reply": "2022-02-16T14:08:28.221447Z",
     "shell.execute_reply.started": "2022-02-16T14:08:03.684850Z"
    },
    "tags": []
   },
   "outputs": [
    {
     "name": "stdout",
     "output_type": "stream",
     "text": [
      "[Success] Bulk job creation successful. Job ID = 7505w00000dsyaxAAA\n",
      "{\"id\":\"7505w00000dsyaxAAA\",\"operation\":\"query\",\"object\":\"ContactToolClusterAssociation__c\",\"createdById\":\"0055w00000DM5bOAAT\",\"createdDate\":\"2022-02-16T14:08:04.000+0000\",\"systemModstamp\":\"2022-02-16T14:08:04.000+0000\",\"state\":\"UploadComplete\",\"concurrencyMode\":\"Parallel\",\"contentType\":\"CSV\",\"apiVersion\":47.0,\"jobType\":\"V2Query\",\"lineEnding\":\"LF\",\"columnDelimiter\":\"COMMA\",\"retries\":0,\"totalProcessingTime\":0}\n",
      "{\"id\":\"7505w00000dsyaxAAA\",\"operation\":\"query\",\"object\":\"ContactToolClusterAssociation__c\",\"createdById\":\"0055w00000DM5bOAAT\",\"createdDate\":\"2022-02-16T14:08:04.000+0000\",\"systemModstamp\":\"2022-02-16T14:08:04.000+0000\",\"state\":\"InProgress\",\"concurrencyMode\":\"Parallel\",\"contentType\":\"CSV\",\"apiVersion\":47.0,\"jobType\":\"V2Query\",\"lineEnding\":\"LF\",\"columnDelimiter\":\"COMMA\",\"numberRecordsProcessed\":0,\"retries\":0,\"totalProcessingTime\":0}\n",
      "{\"id\":\"7505w00000dsyaxAAA\",\"operation\":\"query\",\"object\":\"ContactToolClusterAssociation__c\",\"createdById\":\"0055w00000DM5bOAAT\",\"createdDate\":\"2022-02-16T14:08:04.000+0000\",\"systemModstamp\":\"2022-02-16T14:08:16.000+0000\",\"state\":\"JobComplete\",\"concurrencyMode\":\"Parallel\",\"contentType\":\"CSV\",\"apiVersion\":47.0,\"jobType\":\"V2Query\",\"lineEnding\":\"LF\",\"columnDelimiter\":\"COMMA\",\"numberRecordsProcessed\":102626,\"retries\":0,\"totalProcessingTime\":5640}\n",
      "[Success] Bulk job completed successfully.\n"
     ]
    }
   ],
   "source": [
    "## pull the list of contacts within each cluster\n",
    "contacts_in_cluster_df = db_s.query_data('Select Contact__c, Tool_Usage_Cluster__c from ContactToolClusterAssociation__c')"
   ]
  },
  {
   "cell_type": "code",
   "execution_count": 7,
   "metadata": {
    "execution": {
     "iopub.execute_input": "2022-02-16T14:08:28.224894Z",
     "iopub.status.busy": "2022-02-16T14:08:28.223867Z",
     "iopub.status.idle": "2022-02-16T14:08:28.258373Z",
     "shell.execute_reply": "2022-02-16T14:08:28.256721Z",
     "shell.execute_reply.started": "2022-02-16T14:08:28.224850Z"
    },
    "tags": []
   },
   "outputs": [
    {
     "data": {
      "text/html": [
       "<div>\n",
       "<style scoped>\n",
       "    .dataframe tbody tr th:only-of-type {\n",
       "        vertical-align: middle;\n",
       "    }\n",
       "\n",
       "    .dataframe tbody tr th {\n",
       "        vertical-align: top;\n",
       "    }\n",
       "\n",
       "    .dataframe thead th {\n",
       "        text-align: right;\n",
       "    }\n",
       "</style>\n",
       "<table border=\"1\" class=\"dataframe\">\n",
       "  <thead>\n",
       "    <tr style=\"text-align: right;\">\n",
       "      <th></th>\n",
       "      <th>Contact__c</th>\n",
       "      <th>Tool_Usage_Cluster__c</th>\n",
       "    </tr>\n",
       "  </thead>\n",
       "  <tbody>\n",
       "    <tr>\n",
       "      <th>0</th>\n",
       "      <td>0035w000034JLEEAA4</td>\n",
       "      <td>a0w5w00000A8OFoAAN</td>\n",
       "    </tr>\n",
       "    <tr>\n",
       "      <th>1</th>\n",
       "      <td>0035w000034K074AAC</td>\n",
       "      <td>a0w5w000009Q7m8AAC</td>\n",
       "    </tr>\n",
       "  </tbody>\n",
       "</table>\n",
       "</div>"
      ],
      "text/plain": [
       "           Contact__c Tool_Usage_Cluster__c\n",
       "0  0035w000034JLEEAA4    a0w5w00000A8OFoAAN\n",
       "1  0035w000034K074AAC    a0w5w000009Q7m8AAC"
      ]
     },
     "metadata": {},
     "output_type": "display_data"
    },
    {
     "name": "stdout",
     "output_type": "stream",
     "text": [
      "(102626, 2)\n"
     ]
    }
   ],
   "source": [
    "display(contacts_in_cluster_df.head(2))\n",
    "print(contacts_in_cluster_df.shape)"
   ]
  },
  {
   "cell_type": "code",
   "execution_count": 8,
   "metadata": {
    "execution": {
     "iopub.execute_input": "2022-02-16T14:08:28.261445Z",
     "iopub.status.busy": "2022-02-16T14:08:28.260531Z",
     "iopub.status.idle": "2022-02-16T14:08:28.272128Z",
     "shell.execute_reply": "2022-02-16T14:08:28.270611Z",
     "shell.execute_reply.started": "2022-02-16T14:08:28.261373Z"
    },
    "tags": []
   },
   "outputs": [
    {
     "name": "stdout",
     "output_type": "stream",
     "text": [
      "/home/saxenap/nanoHUB/nanoHUB/pipeline/plotting\n"
     ]
    }
   ],
   "source": [
    "import os\n",
    "cwd = os.getcwd()\n",
    "print(cwd)"
   ]
  },
  {
   "cell_type": "code",
   "execution_count": 9,
   "metadata": {
    "execution": {
     "iopub.execute_input": "2022-02-16T14:08:28.274646Z",
     "iopub.status.busy": "2022-02-16T14:08:28.273652Z",
     "iopub.status.idle": "2022-02-16T14:08:28.283519Z",
     "shell.execute_reply": "2022-02-16T14:08:28.282162Z",
     "shell.execute_reply.started": "2022-02-16T14:08:28.274569Z"
    },
    "tags": []
   },
   "outputs": [
    {
     "name": "stdout",
     "output_type": "stream",
     "text": [
      "102626\n"
     ]
    }
   ],
   "source": [
    "print(contacts_in_cluster_df.shape[0])"
   ]
  },
  {
   "cell_type": "code",
   "execution_count": 10,
   "metadata": {
    "execution": {
     "iopub.execute_input": "2022-02-16T14:08:28.288418Z",
     "iopub.status.busy": "2022-02-16T14:08:28.287010Z",
     "iopub.status.idle": "2022-02-16T14:08:29.890915Z",
     "shell.execute_reply": "2022-02-16T14:08:29.888691Z",
     "shell.execute_reply.started": "2022-02-16T14:08:28.288363Z"
    },
    "tags": []
   },
   "outputs": [],
   "source": [
    "#if contacts_in_cluster_df.shape[0] > 9000:\n",
    "contacts_in_cluster_df.to_csv(cwd+\"/cached_data/backup_contacts_in_clusters.csv\")\n",
    "#else:\n",
    "#    raise ValueError(\"salesforce connection issue with clusters, please reload or setup some limits\")"
   ]
  },
  {
   "cell_type": "code",
   "execution_count": 11,
   "metadata": {
    "execution": {
     "iopub.execute_input": "2022-02-16T14:08:29.901613Z",
     "iopub.status.busy": "2022-02-16T14:08:29.898373Z",
     "iopub.status.idle": "2022-02-16T14:08:29.941184Z",
     "shell.execute_reply": "2022-02-16T14:08:29.936185Z",
     "shell.execute_reply.started": "2022-02-16T14:08:29.901543Z"
    },
    "tags": []
   },
   "outputs": [
    {
     "name": "stdout",
     "output_type": "stream",
     "text": [
      "66359\n"
     ]
    }
   ],
   "source": [
    "unique_contacts_in_clusters = set(contacts_in_cluster_df['Contact__c'].to_list())\n",
    "print(len(unique_contacts_in_clusters))"
   ]
  },
  {
   "cell_type": "code",
   "execution_count": 12,
   "metadata": {
    "execution": {
     "iopub.execute_input": "2022-02-16T14:08:29.950814Z",
     "iopub.status.busy": "2022-02-16T14:08:29.950138Z",
     "iopub.status.idle": "2022-02-16T14:08:44.655970Z",
     "shell.execute_reply": "2022-02-16T14:08:44.654536Z",
     "shell.execute_reply.started": "2022-02-16T14:08:29.950749Z"
    },
    "tags": []
   },
   "outputs": [
    {
     "name": "stdout",
     "output_type": "stream",
     "text": [
      "[Success] Bulk job creation successful. Job ID = 7505w00000dsybRAAQ\n",
      "{\"id\":\"7505w00000dsybRAAQ\",\"operation\":\"query\",\"object\":\"Contact\",\"createdById\":\"0055w00000DM5bOAAT\",\"createdDate\":\"2022-02-16T14:08:30.000+0000\",\"systemModstamp\":\"2022-02-16T14:08:30.000+0000\",\"state\":\"UploadComplete\",\"concurrencyMode\":\"Parallel\",\"contentType\":\"CSV\",\"apiVersion\":47.0,\"jobType\":\"V2Query\",\"lineEnding\":\"LF\",\"columnDelimiter\":\"COMMA\",\"retries\":0,\"totalProcessingTime\":0}\n",
      "{\"id\":\"7505w00000dsybRAAQ\",\"operation\":\"query\",\"object\":\"Contact\",\"createdById\":\"0055w00000DM5bOAAT\",\"createdDate\":\"2022-02-16T14:08:30.000+0000\",\"systemModstamp\":\"2022-02-16T14:08:41.000+0000\",\"state\":\"JobComplete\",\"concurrencyMode\":\"Parallel\",\"contentType\":\"CSV\",\"apiVersion\":47.0,\"jobType\":\"V2Query\",\"lineEnding\":\"LF\",\"columnDelimiter\":\"COMMA\",\"numberRecordsProcessed\":273165,\"retries\":0,\"totalProcessingTime\":12004}\n",
      "[Success] Bulk job completed successfully.\n"
     ]
    }
   ],
   "source": [
    "contacts_df = db_s.query_data('Select Id, nanoHUB_user_ID__c from Contact')"
   ]
  },
  {
   "cell_type": "code",
   "execution_count": 13,
   "metadata": {
    "execution": {
     "iopub.execute_input": "2022-02-16T14:08:44.675954Z",
     "iopub.status.busy": "2022-02-16T14:08:44.668901Z",
     "iopub.status.idle": "2022-02-16T14:08:44.712386Z",
     "shell.execute_reply": "2022-02-16T14:08:44.709033Z",
     "shell.execute_reply.started": "2022-02-16T14:08:44.675864Z"
    },
    "tags": []
   },
   "outputs": [
    {
     "data": {
      "text/html": [
       "<div>\n",
       "<style scoped>\n",
       "    .dataframe tbody tr th:only-of-type {\n",
       "        vertical-align: middle;\n",
       "    }\n",
       "\n",
       "    .dataframe tbody tr th {\n",
       "        vertical-align: top;\n",
       "    }\n",
       "\n",
       "    .dataframe thead th {\n",
       "        text-align: right;\n",
       "    }\n",
       "</style>\n",
       "<table border=\"1\" class=\"dataframe\">\n",
       "  <thead>\n",
       "    <tr style=\"text-align: right;\">\n",
       "      <th></th>\n",
       "      <th>Id</th>\n",
       "      <th>nanoHUB_user_ID__c</th>\n",
       "    </tr>\n",
       "  </thead>\n",
       "  <tbody>\n",
       "    <tr>\n",
       "      <th>0</th>\n",
       "      <td>0035w000031Vsp1AAC</td>\n",
       "      <td>998.0</td>\n",
       "    </tr>\n",
       "    <tr>\n",
       "      <th>1</th>\n",
       "      <td>0035w000031Vsp2AAC</td>\n",
       "      <td>1683.0</td>\n",
       "    </tr>\n",
       "  </tbody>\n",
       "</table>\n",
       "</div>"
      ],
      "text/plain": [
       "                   Id  nanoHUB_user_ID__c\n",
       "0  0035w000031Vsp1AAC               998.0\n",
       "1  0035w000031Vsp2AAC              1683.0"
      ]
     },
     "metadata": {},
     "output_type": "display_data"
    },
    {
     "name": "stdout",
     "output_type": "stream",
     "text": [
      "(252102, 2)\n"
     ]
    }
   ],
   "source": [
    "display(contacts_df.head(2))\n",
    "print(contacts_df.shape)"
   ]
  },
  {
   "cell_type": "code",
   "execution_count": 14,
   "metadata": {
    "execution": {
     "iopub.execute_input": "2022-02-16T14:08:44.725206Z",
     "iopub.status.busy": "2022-02-16T14:08:44.721177Z",
     "iopub.status.idle": "2022-02-16T14:08:45.018601Z",
     "shell.execute_reply": "2022-02-16T14:08:45.017151Z",
     "shell.execute_reply.started": "2022-02-16T14:08:44.725129Z"
    },
    "tags": []
   },
   "outputs": [],
   "source": [
    "## determine self-study users, i.e., unclassified users\n",
    "# if sf id is in contacts_in_cluster_df['Contact__c'], then it is self-study\n",
    "\n",
    "self_study = []\n",
    "clustered = []\n",
    "\n",
    "sf_contact_ids = contacts_df['Id'].to_list()\n",
    "\n",
    "import numpy as np\n",
    "# bool_search = np.in1d(np.array(list(unique_contacts_in_clusters)),np.array(sf_contact_ids))\n",
    "bool_search = np.in1d(np.array(sf_contact_ids),np.array(list(unique_contacts_in_clusters)))\n",
    "\n",
    "clustered = np.where(bool_search)[0].tolist()\n",
    "self_study = np.where(~bool_search)[0].tolist()"
   ]
  },
  {
   "cell_type": "code",
   "execution_count": 15,
   "metadata": {
    "execution": {
     "iopub.execute_input": "2022-02-16T14:08:45.028125Z",
     "iopub.status.busy": "2022-02-16T14:08:45.026268Z",
     "iopub.status.idle": "2022-02-16T14:08:45.126750Z",
     "shell.execute_reply": "2022-02-16T14:08:45.118623Z",
     "shell.execute_reply.started": "2022-02-16T14:08:45.028059Z"
    },
    "tags": []
   },
   "outputs": [],
   "source": [
    "clustered_NH_ids = contacts_df['nanoHUB_user_ID__c'][clustered]\n",
    "self_study_NH_ids = contacts_df['nanoHUB_user_ID__c'][self_study]"
   ]
  },
  {
   "cell_type": "code",
   "execution_count": 16,
   "metadata": {
    "execution": {
     "iopub.execute_input": "2022-02-16T14:08:45.138634Z",
     "iopub.status.busy": "2022-02-16T14:08:45.138010Z",
     "iopub.status.idle": "2022-02-16T14:08:45.176169Z",
     "shell.execute_reply": "2022-02-16T14:08:45.174674Z",
     "shell.execute_reply.started": "2022-02-16T14:08:45.138406Z"
    },
    "tags": []
   },
   "outputs": [
    {
     "name": "stdout",
     "output_type": "stream",
     "text": [
      "(66359,)\n",
      "(185743,)\n"
     ]
    }
   ],
   "source": [
    "print(clustered_NH_ids.shape)\n",
    "print(self_study_NH_ids.shape)"
   ]
  },
  {
   "cell_type": "code",
   "execution_count": 17,
   "metadata": {
    "execution": {
     "iopub.execute_input": "2022-02-16T14:08:45.182194Z",
     "iopub.status.busy": "2022-02-16T14:08:45.180980Z",
     "iopub.status.idle": "2022-02-16T14:08:45.192715Z",
     "shell.execute_reply": "2022-02-16T14:08:45.191044Z",
     "shell.execute_reply.started": "2022-02-16T14:08:45.182146Z"
    },
    "tags": []
   },
   "outputs": [],
   "source": [
    "## need to filter self-study-nh-ids with the researchers"
   ]
  },
  {
   "cell_type": "code",
   "execution_count": 18,
   "metadata": {
    "execution": {
     "iopub.execute_input": "2022-02-16T14:08:45.206619Z",
     "iopub.status.busy": "2022-02-16T14:08:45.195641Z",
     "iopub.status.idle": "2022-02-16T14:08:45.222678Z",
     "shell.execute_reply": "2022-02-16T14:08:45.221589Z",
     "shell.execute_reply.started": "2022-02-16T14:08:45.201227Z"
    },
    "tags": []
   },
   "outputs": [],
   "source": [
    "## This researcher determination is based entirely on the results of research authors on nanohub\n",
    "## i.e., we use the researcher information on db2"
   ]
  },
  {
   "cell_type": "code",
   "execution_count": 19,
   "metadata": {
    "execution": {
     "iopub.execute_input": "2022-02-16T14:08:45.236562Z",
     "iopub.status.busy": "2022-02-16T14:08:45.232309Z",
     "iopub.status.idle": "2022-02-16T14:08:45.985102Z",
     "shell.execute_reply": "2022-02-16T14:08:45.982795Z",
     "shell.execute_reply.started": "2022-02-16T14:08:45.236409Z"
    },
    "tags": []
   },
   "outputs": [
    {
     "data": {
      "text/html": [
       "<div>\n",
       "<style scoped>\n",
       "    .dataframe tbody tr th:only-of-type {\n",
       "        vertical-align: middle;\n",
       "    }\n",
       "\n",
       "    .dataframe tbody tr th {\n",
       "        vertical-align: top;\n",
       "    }\n",
       "\n",
       "    .dataframe thead th {\n",
       "        text-align: right;\n",
       "    }\n",
       "</style>\n",
       "<table border=\"1\" class=\"dataframe\">\n",
       "  <thead>\n",
       "    <tr style=\"text-align: right;\">\n",
       "      <th></th>\n",
       "      <th>id</th>\n",
       "      <th>uid</th>\n",
       "      <th>author</th>\n",
       "    </tr>\n",
       "  </thead>\n",
       "  <tbody>\n",
       "    <tr>\n",
       "      <th>0</th>\n",
       "      <td>10000001</td>\n",
       "      <td>5568</td>\n",
       "      <td>Weber, Bent; Mahapatra, Suddhasatta; Ryu, Hoon...</td>\n",
       "    </tr>\n",
       "    <tr>\n",
       "      <th>1</th>\n",
       "      <td>10000002</td>\n",
       "      <td>5568</td>\n",
       "      <td>Andrawis, Robert; Bermeo, Jose; Charles, James...</td>\n",
       "    </tr>\n",
       "  </tbody>\n",
       "</table>\n",
       "</div>"
      ],
      "text/plain": [
       "         id   uid                                             author\n",
       "0  10000001  5568  Weber, Bent; Mahapatra, Suddhasatta; Ryu, Hoon...\n",
       "1  10000002  5568  Andrawis, Robert; Bermeo, Jose; Charles, James..."
      ]
     },
     "metadata": {},
     "output_type": "display_data"
    },
    {
     "name": "stdout",
     "output_type": "stream",
     "text": [
      "(4203, 3)\n"
     ]
    }
   ],
   "source": [
    "sql_query = 'select id, uid, author from jos_citations'\n",
    "jos_citations = pd.read_sql_query(sql_query, nanohub_db)\n",
    "display(jos_citations.head(2))\n",
    "print(jos_citations.shape)"
   ]
  },
  {
   "cell_type": "code",
   "execution_count": 20,
   "metadata": {
    "execution": {
     "iopub.execute_input": "2022-02-16T14:08:45.994743Z",
     "iopub.status.busy": "2022-02-16T14:08:45.992378Z",
     "iopub.status.idle": "2022-02-16T14:08:46.006858Z",
     "shell.execute_reply": "2022-02-16T14:08:46.005401Z",
     "shell.execute_reply.started": "2022-02-16T14:08:45.994670Z"
    },
    "tags": []
   },
   "outputs": [],
   "source": [
    "t1_authors = jos_citations['author'].to_list()\n",
    "t1_authors2 = [] #[j.split(';') for i,j in enumerate(t1_authors)]"
   ]
  },
  {
   "cell_type": "code",
   "execution_count": 21,
   "metadata": {
    "execution": {
     "iopub.execute_input": "2022-02-16T14:08:46.011010Z",
     "iopub.status.busy": "2022-02-16T14:08:46.008149Z",
     "iopub.status.idle": "2022-02-16T14:08:46.045968Z",
     "shell.execute_reply": "2022-02-16T14:08:46.044481Z",
     "shell.execute_reply.started": "2022-02-16T14:08:46.010690Z"
    },
    "tags": []
   },
   "outputs": [],
   "source": [
    "for i,j in enumerate(t1_authors):\n",
    "    try:\n",
    "        holder = j.split(';')\n",
    "        if len(holder) > 1: \n",
    "            for k,l in enumerate(holder):\n",
    "                if l[0] == ' ':\n",
    "                    holder[k] = l[1:]\n",
    "        t1_authors2.append(holder)\n",
    "    except:\n",
    "        garb = True"
   ]
  },
  {
   "cell_type": "code",
   "execution_count": 22,
   "metadata": {
    "execution": {
     "iopub.execute_input": "2022-02-16T14:08:46.048446Z",
     "iopub.status.busy": "2022-02-16T14:08:46.047997Z",
     "iopub.status.idle": "2022-02-16T14:08:46.065720Z",
     "shell.execute_reply": "2022-02-16T14:08:46.063703Z",
     "shell.execute_reply.started": "2022-02-16T14:08:46.048422Z"
    },
    "tags": []
   },
   "outputs": [
    {
     "name": "stdout",
     "output_type": "stream",
     "text": [
      "6860\n"
     ]
    }
   ],
   "source": [
    "t1_authors3 = [item for sublist in t1_authors2 for item in sublist]\n",
    "t1_authors3 = set(t1_authors3)\n",
    "print(len(t1_authors3))"
   ]
  },
  {
   "cell_type": "code",
   "execution_count": 23,
   "metadata": {
    "execution": {
     "iopub.execute_input": "2022-02-16T14:08:46.068034Z",
     "iopub.status.busy": "2022-02-16T14:08:46.067043Z",
     "iopub.status.idle": "2022-02-16T14:08:46.080430Z",
     "shell.execute_reply": "2022-02-16T14:08:46.078766Z",
     "shell.execute_reply.started": "2022-02-16T14:08:46.067993Z"
    },
    "tags": []
   },
   "outputs": [],
   "source": [
    "## extract all researchers with nh ids\n",
    "rw_ids = []\n",
    "need_search = []\n",
    "for i,j in enumerate(t1_authors3):\n",
    "    if '{{' in j:\n",
    "        rw_ids.append(i)\n",
    "    else:\n",
    "        need_search.append(i)"
   ]
  },
  {
   "cell_type": "code",
   "execution_count": 24,
   "metadata": {
    "execution": {
     "iopub.execute_input": "2022-02-16T14:08:46.084333Z",
     "iopub.status.busy": "2022-02-16T14:08:46.082636Z",
     "iopub.status.idle": "2022-02-16T14:08:46.108561Z",
     "shell.execute_reply": "2022-02-16T14:08:46.105529Z",
     "shell.execute_reply.started": "2022-02-16T14:08:46.084290Z"
    },
    "tags": []
   },
   "outputs": [
    {
     "name": "stdout",
     "output_type": "stream",
     "text": [
      "2079\n"
     ]
    }
   ],
   "source": [
    "## from the rw_ids, extract the nanohub userids\n",
    "# can obtain usernames from the DB2 table\n",
    "rw_ids2 = np.array(list(t1_authors3))[rw_ids]\n",
    "for i,j in enumerate(rw_ids2):\n",
    "    begin = j.index('{{')\n",
    "    rw_ids2[i] = j[begin+2:-2]\n",
    "print(len(rw_ids2))"
   ]
  },
  {
   "cell_type": "code",
   "execution_count": 25,
   "metadata": {
    "execution": {
     "iopub.execute_input": "2022-02-16T14:08:46.111157Z",
     "iopub.status.busy": "2022-02-16T14:08:46.109746Z",
     "iopub.status.idle": "2022-02-16T14:08:46.377895Z",
     "shell.execute_reply": "2022-02-16T14:08:46.376714Z",
     "shell.execute_reply.started": "2022-02-16T14:08:46.111110Z"
    },
    "tags": []
   },
   "outputs": [
    {
     "data": {
      "text/html": [
       "<div>\n",
       "<style scoped>\n",
       "    .dataframe tbody tr th:only-of-type {\n",
       "        vertical-align: middle;\n",
       "    }\n",
       "\n",
       "    .dataframe tbody tr th {\n",
       "        vertical-align: top;\n",
       "    }\n",
       "\n",
       "    .dataframe thead th {\n",
       "        text-align: right;\n",
       "    }\n",
       "</style>\n",
       "<table border=\"1\" class=\"dataframe\">\n",
       "  <thead>\n",
       "    <tr style=\"text-align: right;\">\n",
       "      <th></th>\n",
       "      <th>id</th>\n",
       "      <th>name</th>\n",
       "      <th>username</th>\n",
       "    </tr>\n",
       "  </thead>\n",
       "  <tbody>\n",
       "    <tr>\n",
       "      <th>0</th>\n",
       "      <td>1742</td>\n",
       "      <td>H.-S. Philip Wong</td>\n",
       "      <td>hspwong</td>\n",
       "    </tr>\n",
       "    <tr>\n",
       "      <th>1</th>\n",
       "      <td>1767</td>\n",
       "      <td>Osama Munir Nayfeh</td>\n",
       "      <td>onayfeh</td>\n",
       "    </tr>\n",
       "  </tbody>\n",
       "</table>\n",
       "</div>"
      ],
      "text/plain": [
       "     id                name username\n",
       "0  1742   H.-S. Philip Wong  hspwong\n",
       "1  1767  Osama Munir Nayfeh  onayfeh"
      ]
     },
     "metadata": {},
     "output_type": "display_data"
    }
   ],
   "source": [
    "# need to obtain usernames\n",
    "sql_query = \"select id,name,username from jos_users where id in \"+str(tuple(rw_ids2))\n",
    "rw_researchers = pd.read_sql_query(sql_query,nanohub_db)\n",
    "display(rw_researchers.head(2))"
   ]
  },
  {
   "cell_type": "code",
   "execution_count": 26,
   "metadata": {
    "execution": {
     "iopub.execute_input": "2022-02-16T14:08:46.381882Z",
     "iopub.status.busy": "2022-02-16T14:08:46.380243Z",
     "iopub.status.idle": "2022-02-16T14:08:46.403441Z",
     "shell.execute_reply": "2022-02-16T14:08:46.402346Z",
     "shell.execute_reply.started": "2022-02-16T14:08:46.381822Z"
    },
    "tags": []
   },
   "outputs": [],
   "source": [
    "## need to obtain the username/ids from those people without nh ids explicitly spec'd in jos_citations\n",
    "ns2 = np.array(list(t1_authors3))[need_search]\n",
    "ns2 = ns2[1:]"
   ]
  },
  {
   "cell_type": "code",
   "execution_count": 27,
   "metadata": {
    "execution": {
     "iopub.execute_input": "2022-02-16T14:08:46.406358Z",
     "iopub.status.busy": "2022-02-16T14:08:46.405414Z",
     "iopub.status.idle": "2022-02-16T14:08:46.419392Z",
     "shell.execute_reply": "2022-02-16T14:08:46.418601Z",
     "shell.execute_reply.started": "2022-02-16T14:08:46.406321Z"
    },
    "tags": []
   },
   "outputs": [
    {
     "data": {
      "text/plain": [
       "('Bruce Doris', 'Rosalba Gornati', 'AV Pawar', 'Zue-chang Zou', 'Panpan Chen')"
      ]
     },
     "execution_count": 27,
     "metadata": {},
     "output_type": "execute_result"
    }
   ],
   "source": [
    "tuple(ns2)[:5]"
   ]
  },
  {
   "cell_type": "code",
   "execution_count": 28,
   "metadata": {
    "execution": {
     "iopub.execute_input": "2022-02-16T14:08:46.421561Z",
     "iopub.status.busy": "2022-02-16T14:08:46.420718Z",
     "iopub.status.idle": "2022-02-16T14:08:47.185743Z",
     "shell.execute_reply": "2022-02-16T14:08:47.184842Z",
     "shell.execute_reply.started": "2022-02-16T14:08:46.421526Z"
    },
    "tags": []
   },
   "outputs": [
    {
     "data": {
      "text/html": [
       "<div>\n",
       "<style scoped>\n",
       "    .dataframe tbody tr th:only-of-type {\n",
       "        vertical-align: middle;\n",
       "    }\n",
       "\n",
       "    .dataframe tbody tr th {\n",
       "        vertical-align: top;\n",
       "    }\n",
       "\n",
       "    .dataframe thead th {\n",
       "        text-align: right;\n",
       "    }\n",
       "</style>\n",
       "<table border=\"1\" class=\"dataframe\">\n",
       "  <thead>\n",
       "    <tr style=\"text-align: right;\">\n",
       "      <th></th>\n",
       "      <th>id</th>\n",
       "      <th>name</th>\n",
       "      <th>username</th>\n",
       "    </tr>\n",
       "  </thead>\n",
       "  <tbody>\n",
       "    <tr>\n",
       "      <th>0</th>\n",
       "      <td>282167</td>\n",
       "      <td>Aarthi Narayanan</td>\n",
       "      <td>aarthin0102</td>\n",
       "    </tr>\n",
       "    <tr>\n",
       "      <th>1</th>\n",
       "      <td>280280</td>\n",
       "      <td>Abani Patra</td>\n",
       "      <td>apatra01</td>\n",
       "    </tr>\n",
       "  </tbody>\n",
       "</table>\n",
       "</div>"
      ],
      "text/plain": [
       "       id              name     username\n",
       "0  282167  Aarthi Narayanan  aarthin0102\n",
       "1  280280       Abani Patra     apatra01"
      ]
     },
     "metadata": {},
     "output_type": "display_data"
    }
   ],
   "source": [
    "sql_query = \"select id,name,username from jos_users where name in \"+str(tuple(ns2))\n",
    "ns2_researchers = pd.read_sql_query(sql_query,nanohub_db)\n",
    "display(ns2_researchers.head(2))"
   ]
  },
  {
   "cell_type": "code",
   "execution_count": 29,
   "metadata": {
    "execution": {
     "iopub.execute_input": "2022-02-16T14:08:47.190386Z",
     "iopub.status.busy": "2022-02-16T14:08:47.189607Z",
     "iopub.status.idle": "2022-02-16T14:08:47.208010Z",
     "shell.execute_reply": "2022-02-16T14:08:47.203979Z",
     "shell.execute_reply.started": "2022-02-16T14:08:47.190291Z"
    },
    "tags": []
   },
   "outputs": [
    {
     "name": "stdout",
     "output_type": "stream",
     "text": [
      "3046\n"
     ]
    }
   ],
   "source": [
    "## combine the usernames into one data structure\n",
    "researcher_usernames = rw_researchers['username'].to_list() + ns2_researchers['username'].to_list()\n",
    "print(len(researcher_usernames))"
   ]
  },
  {
   "cell_type": "code",
   "execution_count": 30,
   "metadata": {
    "execution": {
     "iopub.execute_input": "2022-02-16T14:08:47.211841Z",
     "iopub.status.busy": "2022-02-16T14:08:47.211326Z",
     "iopub.status.idle": "2022-02-16T14:08:47.223501Z",
     "shell.execute_reply": "2022-02-16T14:08:47.219085Z",
     "shell.execute_reply.started": "2022-02-16T14:08:47.211786Z"
    },
    "tags": []
   },
   "outputs": [],
   "source": [
    "researcher_track = []"
   ]
  },
  {
   "cell_type": "code",
   "execution_count": 31,
   "metadata": {
    "execution": {
     "iopub.execute_input": "2022-02-16T14:08:47.227098Z",
     "iopub.status.busy": "2022-02-16T14:08:47.226714Z",
     "iopub.status.idle": "2022-02-16T14:08:47.237720Z",
     "shell.execute_reply": "2022-02-16T14:08:47.235205Z",
     "shell.execute_reply.started": "2022-02-16T14:08:47.227065Z"
    },
    "tags": []
   },
   "outputs": [
    {
     "name": "stdout",
     "output_type": "stream",
     "text": [
      "2022-02-16 14:08:47.228909\n"
     ]
    }
   ],
   "source": [
    "today = datetime.datetime.today()\n",
    "print(today)"
   ]
  },
  {
   "cell_type": "code",
   "execution_count": 32,
   "metadata": {
    "execution": {
     "iopub.execute_input": "2022-02-16T14:08:47.241393Z",
     "iopub.status.busy": "2022-02-16T14:08:47.241114Z",
     "iopub.status.idle": "2022-02-16T14:08:47.279462Z",
     "shell.execute_reply": "2022-02-16T14:08:47.277938Z",
     "shell.execute_reply.started": "2022-02-16T14:08:47.241362Z"
    }
   },
   "outputs": [
    {
     "name": "stdout",
     "output_type": "stream",
     "text": [
      "     Unnamed: 0  year_month  clustered_track  self_track  researcher_track  \\\n",
      "0             0  2000-01-01                0           0                 0   \n",
      "1             1  2000-02-01                0           0                 0   \n",
      "2             2  2000-03-01               19          38                 8   \n",
      "3             3  2000-04-01               28          43                11   \n",
      "4             4  2000-05-01               35          52                13   \n",
      "..          ...         ...              ...         ...               ...   \n",
      "255         255  2021-04-01             8965       14793               270   \n",
      "256         256  2021-05-01             8522       14856               259   \n",
      "257         257  2021-06-01             7837       15230               253   \n",
      "258         258  2021-07-01             7512       15069               255   \n",
      "259         259  2021-08-01             7381       15225               254   \n",
      "\n",
      "     clustered_track_per  researcher_track_per  self_track_per  \n",
      "0                    NaN                   NaN             NaN  \n",
      "1                    NaN                   NaN             NaN  \n",
      "2              29.230769             12.307692       58.461538  \n",
      "3              34.146341             13.414634       52.439024  \n",
      "4              35.000000             13.000000       52.000000  \n",
      "..                   ...                   ...             ...  \n",
      "255            37.310638              1.123689       61.565673  \n",
      "256            36.053645              1.095740       62.850616  \n",
      "257            33.606346              1.084906       65.308748  \n",
      "258            32.895428              1.116658       65.987914  \n",
      "259            32.287839              1.111111       66.601050  \n",
      "\n",
      "[260 rows x 8 columns]\n"
     ]
    }
   ],
   "source": [
    "## caching check \n",
    "try:\n",
    "    user_breakdown_df = pd.read_csv(cwd+'/cached_data/nh_user_breakdown.csv')\n",
    "    print(user_breakdown_df)\n",
    "    cache_flag = True\n",
    "except:\n",
    "    cache_flag = False"
   ]
  },
  {
   "cell_type": "code",
   "execution_count": 33,
   "metadata": {
    "execution": {
     "iopub.execute_input": "2022-02-16T14:08:47.283958Z",
     "iopub.status.busy": "2022-02-16T14:08:47.282662Z",
     "iopub.status.idle": "2022-02-16T14:08:47.298478Z",
     "shell.execute_reply": "2022-02-16T14:08:47.296881Z",
     "shell.execute_reply.started": "2022-02-16T14:08:47.283880Z"
    },
    "tags": []
   },
   "outputs": [],
   "source": [
    "## determine starting year\n",
    "#if cache_flag == False:\n",
    "start_year_base = 1999 #2000\n",
    "#else:\n",
    "#     print('check the saved file')\n",
    "#    start_year_base = int(user_breakdown_df['year_month'].to_list()[-1][:4])\n",
    "    \n",
    "    "
   ]
  },
  {
   "cell_type": "code",
   "execution_count": 34,
   "metadata": {
    "execution": {
     "iopub.execute_input": "2022-02-16T14:08:47.302438Z",
     "iopub.status.busy": "2022-02-16T14:08:47.300251Z",
     "iopub.status.idle": "2022-02-16T14:08:47.312834Z",
     "shell.execute_reply": "2022-02-16T14:08:47.311417Z",
     "shell.execute_reply.started": "2022-02-16T14:08:47.302389Z"
    },
    "tags": []
   },
   "outputs": [
    {
     "name": "stdout",
     "output_type": "stream",
     "text": [
      "2021\n"
     ]
    }
   ],
   "source": [
    "print(user_breakdown_df['year_month'].to_list()[-1][:4])"
   ]
  },
  {
   "cell_type": "code",
   "execution_count": 35,
   "metadata": {
    "execution": {
     "iopub.execute_input": "2022-02-16T14:08:47.316855Z",
     "iopub.status.busy": "2022-02-16T14:08:47.315392Z",
     "iopub.status.idle": "2022-02-16T14:08:47.329089Z",
     "shell.execute_reply": "2022-02-16T14:08:47.325912Z",
     "shell.execute_reply.started": "2022-02-16T14:08:47.316797Z"
    },
    "tags": []
   },
   "outputs": [],
   "source": [
    "from copy import deepcopy"
   ]
  },
  {
   "cell_type": "code",
   "execution_count": 36,
   "metadata": {
    "execution": {
     "iopub.execute_input": "2022-02-16T14:08:47.332894Z",
     "iopub.status.busy": "2022-02-16T14:08:47.330675Z",
     "iopub.status.idle": "2022-02-16T14:32:33.753177Z",
     "shell.execute_reply": "2022-02-16T14:32:33.751171Z",
     "shell.execute_reply.started": "2022-02-16T14:08:47.332811Z"
    },
    "tags": []
   },
   "outputs": [
    {
     "name": "stdout",
     "output_type": "stream",
     "text": [
      "start year: 2000\n",
      "start year: 2001\n",
      "start year: 2002\n",
      "start year: 2003\n",
      "start year: 2004\n",
      "start year: 2005\n",
      "start year: 2006\n",
      "start year: 2007\n",
      "start year: 2008\n",
      "start year: 2009\n",
      "start year: 2010\n",
      "start year: 2011\n",
      "start year: 2012\n",
      "start year: 2013\n",
      "start year: 2014\n",
      "start year: 2015\n",
      "start year: 2016\n",
      "start year: 2017\n",
      "start year: 2018\n",
      "start year: 2019\n",
      "start year: 2020\n",
      "start year: 2021\n",
      "start year: 2022\n",
      "start year: 2023\n"
     ]
    }
   ],
   "source": [
    "## computer has memory limits, so split toolstart into branches\n",
    "# this filters and finds the research usage in nanohub\n",
    "start_year = deepcopy(start_year_base)\n",
    "while start_year < today.year+1:\n",
    "    start_year += 1\n",
    "    end_date = r\"'\"+str(start_year)+r\"-01-01'\"\n",
    "    start_date = r\"'\"+str(start_year-2)+r\"-01-01'\"\n",
    "    \n",
    "    for i in range(1,13):\n",
    "        if i < 10:\n",
    "            start_date = r\"'\"+str(start_year-1)+r\"-0\"+str(i)+r\"-01'\"\n",
    "            end_date = r\"'\"+str(start_year)+r\"-0\"+str(i)+r\"-01'\"\n",
    "        else:\n",
    "            start_date = r\"'\"+str(start_year-1)+r\"-\"+str(i)+r\"-01'\"\n",
    "            end_date = r\"'\"+str(start_year)+r\"-\"+str(i)+r\"-01'\"\n",
    "\n",
    "        sql_query_researcher = \"select user from toolstart where user in \" + str(tuple(researcher_usernames))\\\n",
    "            +\" and datetime <= \"+end_date+\" and datetime >= \"+start_date\n",
    "        researcher_users = pd.read_sql_query(sql_query_researcher, nanohub_metrics_db)\n",
    "\n",
    "        researcher_track.append(researcher_users.drop_duplicates().shape[0])\n",
    "\n",
    "    print('start year: '+ str(start_year))"
   ]
  },
  {
   "cell_type": "code",
   "execution_count": 37,
   "metadata": {
    "execution": {
     "iopub.execute_input": "2022-02-16T14:32:33.755869Z",
     "iopub.status.busy": "2022-02-16T14:32:33.755212Z",
     "iopub.status.idle": "2022-02-16T14:32:33.763792Z",
     "shell.execute_reply": "2022-02-16T14:32:33.761564Z",
     "shell.execute_reply.started": "2022-02-16T14:32:33.755822Z"
    },
    "tags": []
   },
   "outputs": [],
   "source": [
    "## filter the self study folks against those of researchers\n",
    "# need to pull the researcher sf ids"
   ]
  },
  {
   "cell_type": "code",
   "execution_count": 38,
   "metadata": {
    "execution": {
     "iopub.execute_input": "2022-02-16T14:32:33.768841Z",
     "iopub.status.busy": "2022-02-16T14:32:33.767199Z",
     "iopub.status.idle": "2022-02-16T14:32:33.780177Z",
     "shell.execute_reply": "2022-02-16T14:32:33.777832Z",
     "shell.execute_reply.started": "2022-02-16T14:32:33.768782Z"
    },
    "tags": []
   },
   "outputs": [
    {
     "name": "stdout",
     "output_type": "stream",
     "text": [
      "3046\n"
     ]
    }
   ],
   "source": [
    "researcher_ids = rw_researchers['id'].to_list() + ns2_researchers['id'].to_list()\n",
    "print(len(researcher_ids))"
   ]
  },
  {
   "cell_type": "code",
   "execution_count": 39,
   "metadata": {
    "execution": {
     "iopub.execute_input": "2022-02-16T14:32:33.794520Z",
     "iopub.status.busy": "2022-02-16T14:32:33.793205Z",
     "iopub.status.idle": "2022-02-16T14:32:33.844837Z",
     "shell.execute_reply": "2022-02-16T14:32:33.843608Z",
     "shell.execute_reply.started": "2022-02-16T14:32:33.794339Z"
    },
    "tags": []
   },
   "outputs": [],
   "source": [
    "bool_search2 = np.in1d(np.array(self_study_NH_ids.to_list()),np.array(researcher_ids))"
   ]
  },
  {
   "cell_type": "code",
   "execution_count": 40,
   "metadata": {
    "execution": {
     "iopub.execute_input": "2022-02-16T14:32:33.847420Z",
     "iopub.status.busy": "2022-02-16T14:32:33.846638Z",
     "iopub.status.idle": "2022-02-16T14:32:33.862059Z",
     "shell.execute_reply": "2022-02-16T14:32:33.860684Z",
     "shell.execute_reply.started": "2022-02-16T14:32:33.847240Z"
    },
    "tags": []
   },
   "outputs": [],
   "source": [
    "# Note, researchers can possibly be doubled counted within clusters!!\n",
    "# sf_researchers = np.where(bool_search2)[0].tolist() \n",
    "sf_self_study = np.where(~bool_search2)[0].tolist()"
   ]
  },
  {
   "cell_type": "code",
   "execution_count": 41,
   "metadata": {
    "execution": {
     "iopub.execute_input": "2022-02-16T14:32:33.865754Z",
     "iopub.status.busy": "2022-02-16T14:32:33.863851Z",
     "iopub.status.idle": "2022-02-16T14:32:33.890992Z",
     "shell.execute_reply": "2022-02-16T14:32:33.888516Z",
     "shell.execute_reply.started": "2022-02-16T14:32:33.865693Z"
    },
    "tags": []
   },
   "outputs": [
    {
     "name": "stdout",
     "output_type": "stream",
     "text": [
      "183658\n",
      "185743\n"
     ]
    }
   ],
   "source": [
    "print(len(sf_self_study))\n",
    "print(len(self_study_NH_ids.to_list()))"
   ]
  },
  {
   "cell_type": "code",
   "execution_count": 42,
   "metadata": {
    "execution": {
     "iopub.execute_input": "2022-02-16T14:32:33.894127Z",
     "iopub.status.busy": "2022-02-16T14:32:33.893380Z",
     "iopub.status.idle": "2022-02-16T14:32:33.950161Z",
     "shell.execute_reply": "2022-02-16T14:32:33.947271Z",
     "shell.execute_reply.started": "2022-02-16T14:32:33.894078Z"
    },
    "tags": []
   },
   "outputs": [],
   "source": [
    "sf_contact_ids = contacts_df['nanoHUB_user_ID__c'][sf_self_study]"
   ]
  },
  {
   "cell_type": "code",
   "execution_count": 43,
   "metadata": {
    "execution": {
     "iopub.execute_input": "2022-02-16T14:32:33.953038Z",
     "iopub.status.busy": "2022-02-16T14:32:33.952174Z",
     "iopub.status.idle": "2022-02-16T14:32:33.979901Z",
     "shell.execute_reply": "2022-02-16T14:32:33.977181Z",
     "shell.execute_reply.started": "2022-02-16T14:32:33.952969Z"
    },
    "tags": []
   },
   "outputs": [
    {
     "data": {
      "text/html": [
       "<div>\n",
       "<style scoped>\n",
       "    .dataframe tbody tr th:only-of-type {\n",
       "        vertical-align: middle;\n",
       "    }\n",
       "\n",
       "    .dataframe tbody tr th {\n",
       "        vertical-align: top;\n",
       "    }\n",
       "\n",
       "    .dataframe thead th {\n",
       "        text-align: right;\n",
       "    }\n",
       "</style>\n",
       "<table border=\"1\" class=\"dataframe\">\n",
       "  <thead>\n",
       "    <tr style=\"text-align: right;\">\n",
       "      <th></th>\n",
       "      <th>nanoHUB_user_ID__c</th>\n",
       "    </tr>\n",
       "  </thead>\n",
       "  <tbody>\n",
       "    <tr>\n",
       "      <th>0</th>\n",
       "      <td>998.0</td>\n",
       "    </tr>\n",
       "    <tr>\n",
       "      <th>1</th>\n",
       "      <td>1683.0</td>\n",
       "    </tr>\n",
       "    <tr>\n",
       "      <th>2</th>\n",
       "      <td>1684.0</td>\n",
       "    </tr>\n",
       "    <tr>\n",
       "      <th>3</th>\n",
       "      <td>1685.0</td>\n",
       "    </tr>\n",
       "    <tr>\n",
       "      <th>4</th>\n",
       "      <td>1686.0</td>\n",
       "    </tr>\n",
       "    <tr>\n",
       "      <th>...</th>\n",
       "      <td>...</td>\n",
       "    </tr>\n",
       "    <tr>\n",
       "      <th>183653</th>\n",
       "      <td>222114.0</td>\n",
       "    </tr>\n",
       "    <tr>\n",
       "      <th>183654</th>\n",
       "      <td>222115.0</td>\n",
       "    </tr>\n",
       "    <tr>\n",
       "      <th>183655</th>\n",
       "      <td>222116.0</td>\n",
       "    </tr>\n",
       "    <tr>\n",
       "      <th>183656</th>\n",
       "      <td>222117.0</td>\n",
       "    </tr>\n",
       "    <tr>\n",
       "      <th>183657</th>\n",
       "      <td>222118.0</td>\n",
       "    </tr>\n",
       "  </tbody>\n",
       "</table>\n",
       "<p>183658 rows × 1 columns</p>\n",
       "</div>"
      ],
      "text/plain": [
       "        nanoHUB_user_ID__c\n",
       "0                    998.0\n",
       "1                   1683.0\n",
       "2                   1684.0\n",
       "3                   1685.0\n",
       "4                   1686.0\n",
       "...                    ...\n",
       "183653            222114.0\n",
       "183654            222115.0\n",
       "183655            222116.0\n",
       "183656            222117.0\n",
       "183657            222118.0\n",
       "\n",
       "[183658 rows x 1 columns]"
      ]
     },
     "metadata": {},
     "output_type": "display_data"
    }
   ],
   "source": [
    "sf_contact_ids = sf_contact_ids.reset_index()\n",
    "sf_contact_ids = sf_contact_ids.drop(columns='index')\n",
    "display(sf_contact_ids)"
   ]
  },
  {
   "cell_type": "code",
   "execution_count": 44,
   "metadata": {
    "execution": {
     "iopub.execute_input": "2022-02-16T14:32:33.985050Z",
     "iopub.status.busy": "2022-02-16T14:32:33.983284Z",
     "iopub.status.idle": "2022-02-16T14:32:34.022698Z",
     "shell.execute_reply": "2022-02-16T14:32:34.019889Z",
     "shell.execute_reply.started": "2022-02-16T14:32:33.984945Z"
    },
    "tags": []
   },
   "outputs": [
    {
     "data": {
      "text/plain": [
       "(998.0, 1683.0, 1684.0, 1685.0, 1686.0)"
      ]
     },
     "execution_count": 44,
     "metadata": {},
     "output_type": "execute_result"
    }
   ],
   "source": [
    "tuple(sf_contact_ids['nanoHUB_user_ID__c'])[:5]"
   ]
  },
  {
   "cell_type": "code",
   "execution_count": 45,
   "metadata": {
    "execution": {
     "iopub.execute_input": "2022-02-16T14:32:34.026521Z",
     "iopub.status.busy": "2022-02-16T14:32:34.025306Z",
     "iopub.status.idle": "2022-02-16T14:32:34.048082Z",
     "shell.execute_reply": "2022-02-16T14:32:34.045624Z",
     "shell.execute_reply.started": "2022-02-16T14:32:34.026343Z"
    },
    "tags": []
   },
   "outputs": [
    {
     "data": {
      "text/plain": [
       "(998.0, 1683.0, 1684.0, 1685.0, 1686.0)"
      ]
     },
     "execution_count": 45,
     "metadata": {},
     "output_type": "execute_result"
    }
   ],
   "source": [
    "tuple(self_study_NH_ids.dropna().to_list())[:5]"
   ]
  },
  {
   "cell_type": "code",
   "execution_count": 46,
   "metadata": {
    "execution": {
     "iopub.execute_input": "2022-02-16T14:32:34.053012Z",
     "iopub.status.busy": "2022-02-16T14:32:34.052013Z",
     "iopub.status.idle": "2022-02-16T14:32:34.061451Z",
     "shell.execute_reply": "2022-02-16T14:32:34.058890Z",
     "shell.execute_reply.started": "2022-02-16T14:32:34.052961Z"
    },
    "tags": []
   },
   "outputs": [],
   "source": [
    "## loading in toolstart"
   ]
  },
  {
   "cell_type": "code",
   "execution_count": 47,
   "metadata": {
    "execution": {
     "iopub.execute_input": "2022-02-16T14:32:34.064951Z",
     "iopub.status.busy": "2022-02-16T14:32:34.064115Z",
     "iopub.status.idle": "2022-02-16T14:32:36.854764Z",
     "shell.execute_reply": "2022-02-16T14:32:36.853767Z",
     "shell.execute_reply.started": "2022-02-16T14:32:34.064883Z"
    },
    "tags": []
   },
   "outputs": [],
   "source": [
    "# clustered user usernames\n",
    "tc_query = 'select id,username from jos_users where id in ' +str(tuple(clustered_NH_ids))\n",
    "clustered_NH_username = pd.read_sql_query(tc_query,nanohub_db)"
   ]
  },
  {
   "cell_type": "code",
   "execution_count": 48,
   "metadata": {
    "execution": {
     "iopub.execute_input": "2022-02-16T14:32:36.857135Z",
     "iopub.status.busy": "2022-02-16T14:32:36.856648Z",
     "iopub.status.idle": "2022-02-16T14:32:45.924775Z",
     "shell.execute_reply": "2022-02-16T14:32:45.922360Z",
     "shell.execute_reply.started": "2022-02-16T14:32:36.857090Z"
    },
    "tags": []
   },
   "outputs": [],
   "source": [
    "# self study user usernames\n",
    "ts_query = 'select id,username from jos_users where id in ' + str(tuple(self_study_NH_ids.dropna().to_list())) \n",
    "#sf_contact_ids['nanoHUB_user_ID__c']))\n",
    "ss_NH_username = pd.read_sql_query(ts_query,nanohub_db)"
   ]
  },
  {
   "cell_type": "code",
   "execution_count": 49,
   "metadata": {
    "execution": {
     "iopub.execute_input": "2022-02-16T14:32:45.930729Z",
     "iopub.status.busy": "2022-02-16T14:32:45.929177Z",
     "iopub.status.idle": "2022-02-16T14:32:46.044302Z",
     "shell.execute_reply": "2022-02-16T14:32:46.039652Z",
     "shell.execute_reply.started": "2022-02-16T14:32:45.930490Z"
    },
    "tags": []
   },
   "outputs": [],
   "source": [
    "## cache the researchers, self-study, and clustered users\n",
    "cache_r_nhid = pd.DataFrame()\n",
    "cache_r_nhid['nhid'] = researcher_ids\n",
    "\n",
    "cache_ss_nhid = pd.DataFrame()\n",
    "cache_ss_nhid['nhid'] = ss_NH_username['id']\n",
    "cache_ss_nhid['username'] = ss_NH_username['username']\n",
    "\n",
    "cache_c_nhid = pd.DataFrame()\n",
    "cache_c_nhid['nhid'] = clustered_NH_username['id']\n",
    "cache_c_nhid['username'] = clustered_NH_username['username']"
   ]
  },
  {
   "cell_type": "code",
   "execution_count": 50,
   "metadata": {
    "execution": {
     "iopub.execute_input": "2022-02-16T14:32:46.065170Z",
     "iopub.status.busy": "2022-02-16T14:32:46.059969Z",
     "iopub.status.idle": "2022-02-16T14:32:46.113803Z",
     "shell.execute_reply": "2022-02-16T14:32:46.111170Z",
     "shell.execute_reply.started": "2022-02-16T14:32:46.065028Z"
    },
    "tags": []
   },
   "outputs": [
    {
     "name": "stdout",
     "output_type": "stream",
     "text": [
      "   nhid\n",
      "0  1742\n",
      "1  1767\n",
      "     nhid username\n",
      "0  211547  -100005\n",
      "1  211574  -100024\n",
      "     nhid    username\n",
      "0  166284  0.yao.yuan\n",
      "1  344801  007sribabu\n"
     ]
    }
   ],
   "source": [
    "print(cache_r_nhid.head(2))\n",
    "print(cache_ss_nhid.head(2))\n",
    "print(cache_c_nhid.head(2))"
   ]
  },
  {
   "cell_type": "code",
   "execution_count": 51,
   "metadata": {
    "execution": {
     "iopub.execute_input": "2022-02-16T14:32:46.123716Z",
     "iopub.status.busy": "2022-02-16T14:32:46.119049Z",
     "iopub.status.idle": "2022-02-16T14:32:51.718703Z",
     "shell.execute_reply": "2022-02-16T14:32:51.717627Z",
     "shell.execute_reply.started": "2022-02-16T14:32:46.123333Z"
    },
    "tags": []
   },
   "outputs": [],
   "source": [
    "cache_r_nhid.to_csv(cwd+'/cached_data/researcher_ids.csv')\n",
    "cache_ss_nhid.to_csv(cwd+'/cached_data/ss_ids.csv')\n",
    "cache_c_nhid.to_csv(cwd+'/cached_data/class_ids.csv')"
   ]
  },
  {
   "cell_type": "code",
   "execution_count": null,
   "metadata": {},
   "outputs": [],
   "source": []
  },
  {
   "cell_type": "code",
   "execution_count": 52,
   "metadata": {
    "execution": {
     "iopub.execute_input": "2022-02-16T14:32:51.733988Z",
     "iopub.status.busy": "2022-02-16T14:32:51.731058Z",
     "iopub.status.idle": "2022-02-16T14:32:51.763351Z",
     "shell.execute_reply": "2022-02-16T14:32:51.762075Z",
     "shell.execute_reply.started": "2022-02-16T14:32:51.733912Z"
    },
    "tags": []
   },
   "outputs": [],
   "source": [
    "# clustered_NH_username2;researcher_NH_username2;self_NH_username2\n",
    "clustered_track = []\n",
    "self_track = []\n",
    "\n",
    "# clustered_track_per = []\n",
    "# self_track_per = []\n",
    "# researcher_track_per = []"
   ]
  },
  {
   "cell_type": "code",
   "execution_count": 53,
   "metadata": {
    "execution": {
     "iopub.execute_input": "2022-02-16T14:32:51.768114Z",
     "iopub.status.busy": "2022-02-16T14:32:51.767126Z",
     "iopub.status.idle": "2022-02-16T14:32:51.783237Z",
     "shell.execute_reply": "2022-02-16T14:32:51.780875Z",
     "shell.execute_reply.started": "2022-02-16T14:32:51.768062Z"
    },
    "tags": []
   },
   "outputs": [
    {
     "data": {
      "text/plain": [
       "(184905, 2)"
      ]
     },
     "execution_count": 53,
     "metadata": {},
     "output_type": "execute_result"
    }
   ],
   "source": [
    "ss_NH_username.shape #old"
   ]
  },
  {
   "cell_type": "code",
   "execution_count": null,
   "metadata": {},
   "outputs": [],
   "source": []
  },
  {
   "cell_type": "code",
   "execution_count": 54,
   "metadata": {
    "execution": {
     "iopub.execute_input": "2022-02-16T14:32:51.795305Z",
     "iopub.status.busy": "2022-02-16T14:32:51.790709Z",
     "iopub.status.idle": "2022-02-16T14:35:11.604659Z",
     "shell.execute_reply": "2022-02-16T14:35:11.586571Z",
     "shell.execute_reply.started": "2022-02-16T14:32:51.793287Z"
    },
    "tags": []
   },
   "outputs": [
    {
     "ename": "KeyboardInterrupt",
     "evalue": "",
     "output_type": "error",
     "traceback": [
      "\u001b[0;31m---------------------------------------------------------------------------\u001b[0m",
      "\u001b[0;31mKeyboardInterrupt\u001b[0m                         Traceback (most recent call last)",
      "Input \u001b[0;32mIn [54]\u001b[0m, in \u001b[0;36m<module>\u001b[0;34m\u001b[0m\n\u001b[1;32m     15\u001b[0m \u001b[38;5;66;03m#         sql_query_clustered = \"select user from toolstart where user in \" + str(tuple(clustered_NH_username2['username']))\\\u001b[39;00m\n\u001b[1;32m     16\u001b[0m \u001b[38;5;66;03m#             +\" and datetime <= \"+end_date+\" and datetime >= \"+start_date\u001b[39;00m\n\u001b[1;32m     17\u001b[0m         sql_query_clustered \u001b[38;5;241m=\u001b[39m \u001b[38;5;124m\"\u001b[39m\u001b[38;5;124mselect user from toolstart where user in \u001b[39m\u001b[38;5;124m\"\u001b[39m \u001b[38;5;241m+\u001b[39m \u001b[38;5;28mstr\u001b[39m(\u001b[38;5;28mtuple\u001b[39m(clustered_NH_username[\u001b[38;5;124m'\u001b[39m\u001b[38;5;124musername\u001b[39m\u001b[38;5;124m'\u001b[39m]))\\\n\u001b[1;32m     18\u001b[0m             \u001b[38;5;241m+\u001b[39m\u001b[38;5;124m\"\u001b[39m\u001b[38;5;124m and datetime <= \u001b[39m\u001b[38;5;124m\"\u001b[39m\u001b[38;5;241m+\u001b[39mend_date\u001b[38;5;241m+\u001b[39m\u001b[38;5;124m\"\u001b[39m\u001b[38;5;124m and datetime >= \u001b[39m\u001b[38;5;124m\"\u001b[39m\u001b[38;5;241m+\u001b[39mstart_date\n\u001b[0;32m---> 19\u001b[0m         clustered_users \u001b[38;5;241m=\u001b[39m \u001b[43mpd\u001b[49m\u001b[38;5;241;43m.\u001b[39;49m\u001b[43mread_sql_query\u001b[49m\u001b[43m(\u001b[49m\u001b[43msql_query_clustered\u001b[49m\u001b[43m,\u001b[49m\u001b[43m \u001b[49m\u001b[43mnanohub_metrics_db\u001b[49m\u001b[43m)\u001b[49m\n\u001b[1;32m     21\u001b[0m \u001b[38;5;66;03m#         sql_query_self = \"select user from toolstart where user in \" + str(tuple(self_NH_username2['username']))\\\u001b[39;00m\n\u001b[1;32m     22\u001b[0m \u001b[38;5;66;03m#             +\" and user != 'instanton' and user != 'gridstat' and datetime <= \"+end_date+\" and datetime >= \"+start_date\u001b[39;00m\n\u001b[1;32m     23\u001b[0m         sql_query_self \u001b[38;5;241m=\u001b[39m \u001b[38;5;124m\"\u001b[39m\u001b[38;5;124mselect user from toolstart where user in \u001b[39m\u001b[38;5;124m\"\u001b[39m \u001b[38;5;241m+\u001b[39m \u001b[38;5;28mstr\u001b[39m(\u001b[38;5;28mtuple\u001b[39m(ss_NH_username[\u001b[38;5;124m'\u001b[39m\u001b[38;5;124musername\u001b[39m\u001b[38;5;124m'\u001b[39m]))\\\n\u001b[1;32m     24\u001b[0m             \u001b[38;5;241m+\u001b[39m\u001b[38;5;124m\"\u001b[39m\u001b[38;5;124m and user != \u001b[39m\u001b[38;5;124m'\u001b[39m\u001b[38;5;124minstanton\u001b[39m\u001b[38;5;124m'\u001b[39m\u001b[38;5;124m and user != \u001b[39m\u001b[38;5;124m'\u001b[39m\u001b[38;5;124mgridstat\u001b[39m\u001b[38;5;124m'\u001b[39m\u001b[38;5;124m and datetime <= \u001b[39m\u001b[38;5;124m\"\u001b[39m\u001b[38;5;241m+\u001b[39mend_date\u001b[38;5;241m+\u001b[39m\u001b[38;5;124m\"\u001b[39m\u001b[38;5;124m and datetime >= \u001b[39m\u001b[38;5;124m\"\u001b[39m\u001b[38;5;241m+\u001b[39mstart_date\n",
      "File \u001b[0;32m~/venv/lib/python3.8/site-packages/pandas/io/sql.py:436\u001b[0m, in \u001b[0;36mread_sql_query\u001b[0;34m(sql, con, index_col, coerce_float, params, parse_dates, chunksize, dtype)\u001b[0m\n\u001b[1;32m    378\u001b[0m \u001b[38;5;124;03m\"\"\"\u001b[39;00m\n\u001b[1;32m    379\u001b[0m \u001b[38;5;124;03mRead SQL query into a DataFrame.\u001b[39;00m\n\u001b[1;32m    380\u001b[0m \n\u001b[0;32m   (...)\u001b[0m\n\u001b[1;32m    433\u001b[0m \u001b[38;5;124;03mparameter will be converted to UTC.\u001b[39;00m\n\u001b[1;32m    434\u001b[0m \u001b[38;5;124;03m\"\"\"\u001b[39;00m\n\u001b[1;32m    435\u001b[0m pandas_sql \u001b[38;5;241m=\u001b[39m pandasSQL_builder(con)\n\u001b[0;32m--> 436\u001b[0m \u001b[38;5;28;01mreturn\u001b[39;00m \u001b[43mpandas_sql\u001b[49m\u001b[38;5;241;43m.\u001b[39;49m\u001b[43mread_query\u001b[49m\u001b[43m(\u001b[49m\n\u001b[1;32m    437\u001b[0m \u001b[43m    \u001b[49m\u001b[43msql\u001b[49m\u001b[43m,\u001b[49m\n\u001b[1;32m    438\u001b[0m \u001b[43m    \u001b[49m\u001b[43mindex_col\u001b[49m\u001b[38;5;241;43m=\u001b[39;49m\u001b[43mindex_col\u001b[49m\u001b[43m,\u001b[49m\n\u001b[1;32m    439\u001b[0m \u001b[43m    \u001b[49m\u001b[43mparams\u001b[49m\u001b[38;5;241;43m=\u001b[39;49m\u001b[43mparams\u001b[49m\u001b[43m,\u001b[49m\n\u001b[1;32m    440\u001b[0m \u001b[43m    \u001b[49m\u001b[43mcoerce_float\u001b[49m\u001b[38;5;241;43m=\u001b[39;49m\u001b[43mcoerce_float\u001b[49m\u001b[43m,\u001b[49m\n\u001b[1;32m    441\u001b[0m \u001b[43m    \u001b[49m\u001b[43mparse_dates\u001b[49m\u001b[38;5;241;43m=\u001b[39;49m\u001b[43mparse_dates\u001b[49m\u001b[43m,\u001b[49m\n\u001b[1;32m    442\u001b[0m \u001b[43m    \u001b[49m\u001b[43mchunksize\u001b[49m\u001b[38;5;241;43m=\u001b[39;49m\u001b[43mchunksize\u001b[49m\u001b[43m,\u001b[49m\n\u001b[1;32m    443\u001b[0m \u001b[43m    \u001b[49m\u001b[43mdtype\u001b[49m\u001b[38;5;241;43m=\u001b[39;49m\u001b[43mdtype\u001b[49m\u001b[43m,\u001b[49m\n\u001b[1;32m    444\u001b[0m \u001b[43m\u001b[49m\u001b[43m)\u001b[49m\n",
      "File \u001b[0;32m~/venv/lib/python3.8/site-packages/pandas/io/sql.py:1579\u001b[0m, in \u001b[0;36mSQLDatabase.read_query\u001b[0;34m(self, sql, index_col, coerce_float, parse_dates, params, chunksize, dtype)\u001b[0m\n\u001b[1;32m   1531\u001b[0m \u001b[38;5;124;03m\"\"\"\u001b[39;00m\n\u001b[1;32m   1532\u001b[0m \u001b[38;5;124;03mRead SQL query into a DataFrame.\u001b[39;00m\n\u001b[1;32m   1533\u001b[0m \n\u001b[0;32m   (...)\u001b[0m\n\u001b[1;32m   1575\u001b[0m \n\u001b[1;32m   1576\u001b[0m \u001b[38;5;124;03m\"\"\"\u001b[39;00m\n\u001b[1;32m   1577\u001b[0m args \u001b[38;5;241m=\u001b[39m _convert_params(sql, params)\n\u001b[0;32m-> 1579\u001b[0m result \u001b[38;5;241m=\u001b[39m \u001b[38;5;28;43mself\u001b[39;49m\u001b[38;5;241;43m.\u001b[39;49m\u001b[43mexecute\u001b[49m\u001b[43m(\u001b[49m\u001b[38;5;241;43m*\u001b[39;49m\u001b[43margs\u001b[49m\u001b[43m)\u001b[49m\n\u001b[1;32m   1580\u001b[0m columns \u001b[38;5;241m=\u001b[39m result\u001b[38;5;241m.\u001b[39mkeys()\n\u001b[1;32m   1582\u001b[0m \u001b[38;5;28;01mif\u001b[39;00m chunksize \u001b[38;5;129;01mis\u001b[39;00m \u001b[38;5;129;01mnot\u001b[39;00m \u001b[38;5;28;01mNone\u001b[39;00m:\n",
      "File \u001b[0;32m~/venv/lib/python3.8/site-packages/pandas/io/sql.py:1424\u001b[0m, in \u001b[0;36mSQLDatabase.execute\u001b[0;34m(self, *args, **kwargs)\u001b[0m\n\u001b[1;32m   1422\u001b[0m \u001b[38;5;28;01mdef\u001b[39;00m \u001b[38;5;21mexecute\u001b[39m(\u001b[38;5;28mself\u001b[39m, \u001b[38;5;241m*\u001b[39margs, \u001b[38;5;241m*\u001b[39m\u001b[38;5;241m*\u001b[39mkwargs):\n\u001b[1;32m   1423\u001b[0m     \u001b[38;5;124;03m\"\"\"Simple passthrough to SQLAlchemy connectable\"\"\"\u001b[39;00m\n\u001b[0;32m-> 1424\u001b[0m     \u001b[38;5;28;01mreturn\u001b[39;00m \u001b[38;5;28;43mself\u001b[39;49m\u001b[38;5;241;43m.\u001b[39;49m\u001b[43mconnectable\u001b[49m\u001b[38;5;241;43m.\u001b[39;49m\u001b[43mexecution_options\u001b[49m\u001b[43m(\u001b[49m\u001b[43m)\u001b[49m\u001b[38;5;241;43m.\u001b[39;49m\u001b[43mexecute\u001b[49m\u001b[43m(\u001b[49m\u001b[38;5;241;43m*\u001b[39;49m\u001b[43margs\u001b[49m\u001b[43m,\u001b[49m\u001b[43m \u001b[49m\u001b[38;5;241;43m*\u001b[39;49m\u001b[38;5;241;43m*\u001b[39;49m\u001b[43mkwargs\u001b[49m\u001b[43m)\u001b[49m\n",
      "File \u001b[0;32m<string>:2\u001b[0m, in \u001b[0;36mexecute\u001b[0;34m(self, statement, *multiparams, **params)\u001b[0m\n",
      "File \u001b[0;32m~/venv/lib/python3.8/site-packages/sqlalchemy/util/deprecations.py:401\u001b[0m, in \u001b[0;36m_decorate_with_warning.<locals>.warned\u001b[0;34m(fn, *args, **kwargs)\u001b[0m\n\u001b[1;32m    399\u001b[0m \u001b[38;5;28;01mif\u001b[39;00m \u001b[38;5;129;01mnot\u001b[39;00m skip_warning:\n\u001b[1;32m    400\u001b[0m     _warn_with_version(message, version, wtype, stacklevel\u001b[38;5;241m=\u001b[39m\u001b[38;5;241m3\u001b[39m)\n\u001b[0;32m--> 401\u001b[0m \u001b[38;5;28;01mreturn\u001b[39;00m \u001b[43mfn\u001b[49m\u001b[43m(\u001b[49m\u001b[38;5;241;43m*\u001b[39;49m\u001b[43margs\u001b[49m\u001b[43m,\u001b[49m\u001b[43m \u001b[49m\u001b[38;5;241;43m*\u001b[39;49m\u001b[38;5;241;43m*\u001b[39;49m\u001b[43mkwargs\u001b[49m\u001b[43m)\u001b[49m\n",
      "File \u001b[0;32m~/venv/lib/python3.8/site-packages/sqlalchemy/engine/base.py:3146\u001b[0m, in \u001b[0;36mEngine.execute\u001b[0;34m(self, statement, *multiparams, **params)\u001b[0m\n\u001b[1;32m   3128\u001b[0m \u001b[38;5;124;03m\"\"\"Executes the given construct and returns a\u001b[39;00m\n\u001b[1;32m   3129\u001b[0m \u001b[38;5;124;03m:class:`_engine.CursorResult`.\u001b[39;00m\n\u001b[1;32m   3130\u001b[0m \n\u001b[0;32m   (...)\u001b[0m\n\u001b[1;32m   3143\u001b[0m \n\u001b[1;32m   3144\u001b[0m \u001b[38;5;124;03m\"\"\"\u001b[39;00m\n\u001b[1;32m   3145\u001b[0m connection \u001b[38;5;241m=\u001b[39m \u001b[38;5;28mself\u001b[39m\u001b[38;5;241m.\u001b[39mconnect(close_with_result\u001b[38;5;241m=\u001b[39m\u001b[38;5;28;01mTrue\u001b[39;00m)\n\u001b[0;32m-> 3146\u001b[0m \u001b[38;5;28;01mreturn\u001b[39;00m \u001b[43mconnection\u001b[49m\u001b[38;5;241;43m.\u001b[39;49m\u001b[43mexecute\u001b[49m\u001b[43m(\u001b[49m\u001b[43mstatement\u001b[49m\u001b[43m,\u001b[49m\u001b[43m \u001b[49m\u001b[38;5;241;43m*\u001b[39;49m\u001b[43mmultiparams\u001b[49m\u001b[43m,\u001b[49m\u001b[43m \u001b[49m\u001b[38;5;241;43m*\u001b[39;49m\u001b[38;5;241;43m*\u001b[39;49m\u001b[43mparams\u001b[49m\u001b[43m)\u001b[49m\n",
      "File \u001b[0;32m~/venv/lib/python3.8/site-packages/sqlalchemy/engine/base.py:1274\u001b[0m, in \u001b[0;36mConnection.execute\u001b[0;34m(self, statement, *multiparams, **params)\u001b[0m\n\u001b[1;32m   1265\u001b[0m \u001b[38;5;28;01mif\u001b[39;00m \u001b[38;5;28misinstance\u001b[39m(statement, util\u001b[38;5;241m.\u001b[39mstring_types):\n\u001b[1;32m   1266\u001b[0m     util\u001b[38;5;241m.\u001b[39mwarn_deprecated_20(\n\u001b[1;32m   1267\u001b[0m         \u001b[38;5;124m\"\u001b[39m\u001b[38;5;124mPassing a string to Connection.execute() is \u001b[39m\u001b[38;5;124m\"\u001b[39m\n\u001b[1;32m   1268\u001b[0m         \u001b[38;5;124m\"\u001b[39m\u001b[38;5;124mdeprecated and will be removed in version 2.0.  Use the \u001b[39m\u001b[38;5;124m\"\u001b[39m\n\u001b[0;32m   (...)\u001b[0m\n\u001b[1;32m   1271\u001b[0m         \u001b[38;5;124m\"\u001b[39m\u001b[38;5;124mdriver-level SQL string.\u001b[39m\u001b[38;5;124m\"\u001b[39m\n\u001b[1;32m   1272\u001b[0m     )\n\u001b[0;32m-> 1274\u001b[0m     \u001b[38;5;28;01mreturn\u001b[39;00m \u001b[38;5;28;43mself\u001b[39;49m\u001b[38;5;241;43m.\u001b[39;49m\u001b[43m_exec_driver_sql\u001b[49m\u001b[43m(\u001b[49m\n\u001b[1;32m   1275\u001b[0m \u001b[43m        \u001b[49m\u001b[43mstatement\u001b[49m\u001b[43m,\u001b[49m\n\u001b[1;32m   1276\u001b[0m \u001b[43m        \u001b[49m\u001b[43mmultiparams\u001b[49m\u001b[43m,\u001b[49m\n\u001b[1;32m   1277\u001b[0m \u001b[43m        \u001b[49m\u001b[43mparams\u001b[49m\u001b[43m,\u001b[49m\n\u001b[1;32m   1278\u001b[0m \u001b[43m        \u001b[49m\u001b[43m_EMPTY_EXECUTION_OPTS\u001b[49m\u001b[43m,\u001b[49m\n\u001b[1;32m   1279\u001b[0m \u001b[43m        \u001b[49m\u001b[43mfuture\u001b[49m\u001b[38;5;241;43m=\u001b[39;49m\u001b[38;5;28;43;01mFalse\u001b[39;49;00m\u001b[43m,\u001b[49m\n\u001b[1;32m   1280\u001b[0m \u001b[43m    \u001b[49m\u001b[43m)\u001b[49m\n\u001b[1;32m   1282\u001b[0m \u001b[38;5;28;01mtry\u001b[39;00m:\n\u001b[1;32m   1283\u001b[0m     meth \u001b[38;5;241m=\u001b[39m statement\u001b[38;5;241m.\u001b[39m_execute_on_connection\n",
      "File \u001b[0;32m~/venv/lib/python3.8/site-packages/sqlalchemy/engine/base.py:1578\u001b[0m, in \u001b[0;36mConnection._exec_driver_sql\u001b[0;34m(self, statement, multiparams, params, execution_options, future)\u001b[0m\n\u001b[1;32m   1568\u001b[0m         (\n\u001b[1;32m   1569\u001b[0m             statement,\n\u001b[1;32m   1570\u001b[0m             distilled_params,\n\u001b[0;32m   (...)\u001b[0m\n\u001b[1;32m   1574\u001b[0m             statement, distilled_parameters, execution_options\n\u001b[1;32m   1575\u001b[0m         )\n\u001b[1;32m   1577\u001b[0m dialect \u001b[38;5;241m=\u001b[39m \u001b[38;5;28mself\u001b[39m\u001b[38;5;241m.\u001b[39mdialect\n\u001b[0;32m-> 1578\u001b[0m ret \u001b[38;5;241m=\u001b[39m \u001b[38;5;28;43mself\u001b[39;49m\u001b[38;5;241;43m.\u001b[39;49m\u001b[43m_execute_context\u001b[49m\u001b[43m(\u001b[49m\n\u001b[1;32m   1579\u001b[0m \u001b[43m    \u001b[49m\u001b[43mdialect\u001b[49m\u001b[43m,\u001b[49m\n\u001b[1;32m   1580\u001b[0m \u001b[43m    \u001b[49m\u001b[43mdialect\u001b[49m\u001b[38;5;241;43m.\u001b[39;49m\u001b[43mexecution_ctx_cls\u001b[49m\u001b[38;5;241;43m.\u001b[39;49m\u001b[43m_init_statement\u001b[49m\u001b[43m,\u001b[49m\n\u001b[1;32m   1581\u001b[0m \u001b[43m    \u001b[49m\u001b[43mstatement\u001b[49m\u001b[43m,\u001b[49m\n\u001b[1;32m   1582\u001b[0m \u001b[43m    \u001b[49m\u001b[43mdistilled_parameters\u001b[49m\u001b[43m,\u001b[49m\n\u001b[1;32m   1583\u001b[0m \u001b[43m    \u001b[49m\u001b[43mexecution_options\u001b[49m\u001b[43m,\u001b[49m\n\u001b[1;32m   1584\u001b[0m \u001b[43m    \u001b[49m\u001b[43mstatement\u001b[49m\u001b[43m,\u001b[49m\n\u001b[1;32m   1585\u001b[0m \u001b[43m    \u001b[49m\u001b[43mdistilled_parameters\u001b[49m\u001b[43m,\u001b[49m\n\u001b[1;32m   1586\u001b[0m \u001b[43m\u001b[49m\u001b[43m)\u001b[49m\n\u001b[1;32m   1588\u001b[0m \u001b[38;5;28;01mif\u001b[39;00m \u001b[38;5;129;01mnot\u001b[39;00m future:\n\u001b[1;32m   1589\u001b[0m     \u001b[38;5;28;01mif\u001b[39;00m \u001b[38;5;28mself\u001b[39m\u001b[38;5;241m.\u001b[39m_has_events \u001b[38;5;129;01mor\u001b[39;00m \u001b[38;5;28mself\u001b[39m\u001b[38;5;241m.\u001b[39mengine\u001b[38;5;241m.\u001b[39m_has_events:\n",
      "File \u001b[0;32m~/venv/lib/python3.8/site-packages/sqlalchemy/engine/base.py:1845\u001b[0m, in \u001b[0;36mConnection._execute_context\u001b[0;34m(self, dialect, constructor, statement, parameters, execution_options, *args, **kw)\u001b[0m\n\u001b[1;32m   1842\u001b[0m             branched\u001b[38;5;241m.\u001b[39mclose()\n\u001b[1;32m   1844\u001b[0m \u001b[38;5;28;01mexcept\u001b[39;00m \u001b[38;5;167;01mBaseException\u001b[39;00m \u001b[38;5;28;01mas\u001b[39;00m e:\n\u001b[0;32m-> 1845\u001b[0m     \u001b[38;5;28;43mself\u001b[39;49m\u001b[38;5;241;43m.\u001b[39;49m\u001b[43m_handle_dbapi_exception\u001b[49m\u001b[43m(\u001b[49m\n\u001b[1;32m   1846\u001b[0m \u001b[43m        \u001b[49m\u001b[43me\u001b[49m\u001b[43m,\u001b[49m\u001b[43m \u001b[49m\u001b[43mstatement\u001b[49m\u001b[43m,\u001b[49m\u001b[43m \u001b[49m\u001b[43mparameters\u001b[49m\u001b[43m,\u001b[49m\u001b[43m \u001b[49m\u001b[43mcursor\u001b[49m\u001b[43m,\u001b[49m\u001b[43m \u001b[49m\u001b[43mcontext\u001b[49m\n\u001b[1;32m   1847\u001b[0m \u001b[43m    \u001b[49m\u001b[43m)\u001b[49m\n\u001b[1;32m   1849\u001b[0m \u001b[38;5;28;01mreturn\u001b[39;00m result\n",
      "File \u001b[0;32m~/venv/lib/python3.8/site-packages/sqlalchemy/engine/base.py:2030\u001b[0m, in \u001b[0;36mConnection._handle_dbapi_exception\u001b[0;34m(self, e, statement, parameters, cursor, context)\u001b[0m\n\u001b[1;32m   2026\u001b[0m         util\u001b[38;5;241m.\u001b[39mraise_(\n\u001b[1;32m   2027\u001b[0m             sqlalchemy_exception, with_traceback\u001b[38;5;241m=\u001b[39mexc_info[\u001b[38;5;241m2\u001b[39m], from_\u001b[38;5;241m=\u001b[39me\n\u001b[1;32m   2028\u001b[0m         )\n\u001b[1;32m   2029\u001b[0m     \u001b[38;5;28;01melse\u001b[39;00m:\n\u001b[0;32m-> 2030\u001b[0m         \u001b[43mutil\u001b[49m\u001b[38;5;241;43m.\u001b[39;49m\u001b[43mraise_\u001b[49m\u001b[43m(\u001b[49m\u001b[43mexc_info\u001b[49m\u001b[43m[\u001b[49m\u001b[38;5;241;43m1\u001b[39;49m\u001b[43m]\u001b[49m\u001b[43m,\u001b[49m\u001b[43m \u001b[49m\u001b[43mwith_traceback\u001b[49m\u001b[38;5;241;43m=\u001b[39;49m\u001b[43mexc_info\u001b[49m\u001b[43m[\u001b[49m\u001b[38;5;241;43m2\u001b[39;49m\u001b[43m]\u001b[49m\u001b[43m)\u001b[49m\n\u001b[1;32m   2032\u001b[0m \u001b[38;5;28;01mfinally\u001b[39;00m:\n\u001b[1;32m   2033\u001b[0m     \u001b[38;5;28;01mdel\u001b[39;00m \u001b[38;5;28mself\u001b[39m\u001b[38;5;241m.\u001b[39m_reentrant_error\n",
      "File \u001b[0;32m~/venv/lib/python3.8/site-packages/sqlalchemy/util/compat.py:207\u001b[0m, in \u001b[0;36mraise_\u001b[0;34m(***failed resolving arguments***)\u001b[0m\n\u001b[1;32m    204\u001b[0m     exception\u001b[38;5;241m.\u001b[39m__cause__ \u001b[38;5;241m=\u001b[39m replace_context\n\u001b[1;32m    206\u001b[0m \u001b[38;5;28;01mtry\u001b[39;00m:\n\u001b[0;32m--> 207\u001b[0m     \u001b[38;5;28;01mraise\u001b[39;00m exception\n\u001b[1;32m    208\u001b[0m \u001b[38;5;28;01mfinally\u001b[39;00m:\n\u001b[1;32m    209\u001b[0m     \u001b[38;5;66;03m# credit to\u001b[39;00m\n\u001b[1;32m    210\u001b[0m     \u001b[38;5;66;03m# https://cosmicpercolator.com/2016/01/13/exception-leaks-in-python-2-and-3/\u001b[39;00m\n\u001b[1;32m    211\u001b[0m     \u001b[38;5;66;03m# as the __traceback__ object creates a cycle\u001b[39;00m\n\u001b[1;32m    212\u001b[0m     \u001b[38;5;28;01mdel\u001b[39;00m exception, replace_context, from_, with_traceback\n",
      "File \u001b[0;32m~/venv/lib/python3.8/site-packages/sqlalchemy/engine/base.py:1802\u001b[0m, in \u001b[0;36mConnection._execute_context\u001b[0;34m(self, dialect, constructor, statement, parameters, execution_options, *args, **kw)\u001b[0m\n\u001b[1;32m   1800\u001b[0m                 \u001b[38;5;28;01mbreak\u001b[39;00m\n\u001b[1;32m   1801\u001b[0m     \u001b[38;5;28;01mif\u001b[39;00m \u001b[38;5;129;01mnot\u001b[39;00m evt_handled:\n\u001b[0;32m-> 1802\u001b[0m         \u001b[38;5;28;43mself\u001b[39;49m\u001b[38;5;241;43m.\u001b[39;49m\u001b[43mdialect\u001b[49m\u001b[38;5;241;43m.\u001b[39;49m\u001b[43mdo_execute\u001b[49m\u001b[43m(\u001b[49m\n\u001b[1;32m   1803\u001b[0m \u001b[43m            \u001b[49m\u001b[43mcursor\u001b[49m\u001b[43m,\u001b[49m\u001b[43m \u001b[49m\u001b[43mstatement\u001b[49m\u001b[43m,\u001b[49m\u001b[43m \u001b[49m\u001b[43mparameters\u001b[49m\u001b[43m,\u001b[49m\u001b[43m \u001b[49m\u001b[43mcontext\u001b[49m\n\u001b[1;32m   1804\u001b[0m \u001b[43m        \u001b[49m\u001b[43m)\u001b[49m\n\u001b[1;32m   1806\u001b[0m \u001b[38;5;28;01mif\u001b[39;00m \u001b[38;5;28mself\u001b[39m\u001b[38;5;241m.\u001b[39m_has_events \u001b[38;5;129;01mor\u001b[39;00m \u001b[38;5;28mself\u001b[39m\u001b[38;5;241m.\u001b[39mengine\u001b[38;5;241m.\u001b[39m_has_events:\n\u001b[1;32m   1807\u001b[0m     \u001b[38;5;28mself\u001b[39m\u001b[38;5;241m.\u001b[39mdispatch\u001b[38;5;241m.\u001b[39mafter_cursor_execute(\n\u001b[1;32m   1808\u001b[0m         \u001b[38;5;28mself\u001b[39m,\n\u001b[1;32m   1809\u001b[0m         cursor,\n\u001b[0;32m   (...)\u001b[0m\n\u001b[1;32m   1813\u001b[0m         context\u001b[38;5;241m.\u001b[39mexecutemany,\n\u001b[1;32m   1814\u001b[0m     )\n",
      "File \u001b[0;32m~/venv/lib/python3.8/site-packages/sqlalchemy/engine/default.py:732\u001b[0m, in \u001b[0;36mDefaultDialect.do_execute\u001b[0;34m(self, cursor, statement, parameters, context)\u001b[0m\n\u001b[1;32m    731\u001b[0m \u001b[38;5;28;01mdef\u001b[39;00m \u001b[38;5;21mdo_execute\u001b[39m(\u001b[38;5;28mself\u001b[39m, cursor, statement, parameters, context\u001b[38;5;241m=\u001b[39m\u001b[38;5;28;01mNone\u001b[39;00m):\n\u001b[0;32m--> 732\u001b[0m     \u001b[43mcursor\u001b[49m\u001b[38;5;241;43m.\u001b[39;49m\u001b[43mexecute\u001b[49m\u001b[43m(\u001b[49m\u001b[43mstatement\u001b[49m\u001b[43m,\u001b[49m\u001b[43m \u001b[49m\u001b[43mparameters\u001b[49m\u001b[43m)\u001b[49m\n",
      "File \u001b[0;32m~/venv/lib/python3.8/site-packages/pymysql/cursors.py:148\u001b[0m, in \u001b[0;36mCursor.execute\u001b[0;34m(self, query, args)\u001b[0m\n\u001b[1;32m    144\u001b[0m     \u001b[38;5;28;01mpass\u001b[39;00m\n\u001b[1;32m    146\u001b[0m query \u001b[38;5;241m=\u001b[39m \u001b[38;5;28mself\u001b[39m\u001b[38;5;241m.\u001b[39mmogrify(query, args)\n\u001b[0;32m--> 148\u001b[0m result \u001b[38;5;241m=\u001b[39m \u001b[38;5;28;43mself\u001b[39;49m\u001b[38;5;241;43m.\u001b[39;49m\u001b[43m_query\u001b[49m\u001b[43m(\u001b[49m\u001b[43mquery\u001b[49m\u001b[43m)\u001b[49m\n\u001b[1;32m    149\u001b[0m \u001b[38;5;28mself\u001b[39m\u001b[38;5;241m.\u001b[39m_executed \u001b[38;5;241m=\u001b[39m query\n\u001b[1;32m    150\u001b[0m \u001b[38;5;28;01mreturn\u001b[39;00m result\n",
      "File \u001b[0;32m~/venv/lib/python3.8/site-packages/pymysql/cursors.py:310\u001b[0m, in \u001b[0;36mCursor._query\u001b[0;34m(self, q)\u001b[0m\n\u001b[1;32m    308\u001b[0m \u001b[38;5;28mself\u001b[39m\u001b[38;5;241m.\u001b[39m_last_executed \u001b[38;5;241m=\u001b[39m q\n\u001b[1;32m    309\u001b[0m \u001b[38;5;28mself\u001b[39m\u001b[38;5;241m.\u001b[39m_clear_result()\n\u001b[0;32m--> 310\u001b[0m \u001b[43mconn\u001b[49m\u001b[38;5;241;43m.\u001b[39;49m\u001b[43mquery\u001b[49m\u001b[43m(\u001b[49m\u001b[43mq\u001b[49m\u001b[43m)\u001b[49m\n\u001b[1;32m    311\u001b[0m \u001b[38;5;28mself\u001b[39m\u001b[38;5;241m.\u001b[39m_do_get_result()\n\u001b[1;32m    312\u001b[0m \u001b[38;5;28;01mreturn\u001b[39;00m \u001b[38;5;28mself\u001b[39m\u001b[38;5;241m.\u001b[39mrowcount\n",
      "File \u001b[0;32m~/venv/lib/python3.8/site-packages/pymysql/connections.py:548\u001b[0m, in \u001b[0;36mConnection.query\u001b[0;34m(self, sql, unbuffered)\u001b[0m\n\u001b[1;32m    546\u001b[0m     sql \u001b[38;5;241m=\u001b[39m sql\u001b[38;5;241m.\u001b[39mencode(\u001b[38;5;28mself\u001b[39m\u001b[38;5;241m.\u001b[39mencoding, \u001b[38;5;124m\"\u001b[39m\u001b[38;5;124msurrogateescape\u001b[39m\u001b[38;5;124m\"\u001b[39m)\n\u001b[1;32m    547\u001b[0m \u001b[38;5;28mself\u001b[39m\u001b[38;5;241m.\u001b[39m_execute_command(COMMAND\u001b[38;5;241m.\u001b[39mCOM_QUERY, sql)\n\u001b[0;32m--> 548\u001b[0m \u001b[38;5;28mself\u001b[39m\u001b[38;5;241m.\u001b[39m_affected_rows \u001b[38;5;241m=\u001b[39m \u001b[38;5;28;43mself\u001b[39;49m\u001b[38;5;241;43m.\u001b[39;49m\u001b[43m_read_query_result\u001b[49m\u001b[43m(\u001b[49m\u001b[43munbuffered\u001b[49m\u001b[38;5;241;43m=\u001b[39;49m\u001b[43munbuffered\u001b[49m\u001b[43m)\u001b[49m\n\u001b[1;32m    549\u001b[0m \u001b[38;5;28;01mreturn\u001b[39;00m \u001b[38;5;28mself\u001b[39m\u001b[38;5;241m.\u001b[39m_affected_rows\n",
      "File \u001b[0;32m~/venv/lib/python3.8/site-packages/pymysql/connections.py:775\u001b[0m, in \u001b[0;36mConnection._read_query_result\u001b[0;34m(self, unbuffered)\u001b[0m\n\u001b[1;32m    773\u001b[0m \u001b[38;5;28;01melse\u001b[39;00m:\n\u001b[1;32m    774\u001b[0m     result \u001b[38;5;241m=\u001b[39m MySQLResult(\u001b[38;5;28mself\u001b[39m)\n\u001b[0;32m--> 775\u001b[0m     \u001b[43mresult\u001b[49m\u001b[38;5;241;43m.\u001b[39;49m\u001b[43mread\u001b[49m\u001b[43m(\u001b[49m\u001b[43m)\u001b[49m\n\u001b[1;32m    776\u001b[0m \u001b[38;5;28mself\u001b[39m\u001b[38;5;241m.\u001b[39m_result \u001b[38;5;241m=\u001b[39m result\n\u001b[1;32m    777\u001b[0m \u001b[38;5;28;01mif\u001b[39;00m result\u001b[38;5;241m.\u001b[39mserver_status \u001b[38;5;129;01mis\u001b[39;00m \u001b[38;5;129;01mnot\u001b[39;00m \u001b[38;5;28;01mNone\u001b[39;00m:\n",
      "File \u001b[0;32m~/venv/lib/python3.8/site-packages/pymysql/connections.py:1156\u001b[0m, in \u001b[0;36mMySQLResult.read\u001b[0;34m(self)\u001b[0m\n\u001b[1;32m   1154\u001b[0m \u001b[38;5;28;01mdef\u001b[39;00m \u001b[38;5;21mread\u001b[39m(\u001b[38;5;28mself\u001b[39m):\n\u001b[1;32m   1155\u001b[0m     \u001b[38;5;28;01mtry\u001b[39;00m:\n\u001b[0;32m-> 1156\u001b[0m         first_packet \u001b[38;5;241m=\u001b[39m \u001b[38;5;28;43mself\u001b[39;49m\u001b[38;5;241;43m.\u001b[39;49m\u001b[43mconnection\u001b[49m\u001b[38;5;241;43m.\u001b[39;49m\u001b[43m_read_packet\u001b[49m\u001b[43m(\u001b[49m\u001b[43m)\u001b[49m\n\u001b[1;32m   1158\u001b[0m         \u001b[38;5;28;01mif\u001b[39;00m first_packet\u001b[38;5;241m.\u001b[39mis_ok_packet():\n\u001b[1;32m   1159\u001b[0m             \u001b[38;5;28mself\u001b[39m\u001b[38;5;241m.\u001b[39m_read_ok_packet(first_packet)\n",
      "File \u001b[0;32m~/venv/lib/python3.8/site-packages/pymysql/connections.py:692\u001b[0m, in \u001b[0;36mConnection._read_packet\u001b[0;34m(self, packet_type)\u001b[0m\n\u001b[1;32m    690\u001b[0m buff \u001b[38;5;241m=\u001b[39m \u001b[38;5;28mbytearray\u001b[39m()\n\u001b[1;32m    691\u001b[0m \u001b[38;5;28;01mwhile\u001b[39;00m \u001b[38;5;28;01mTrue\u001b[39;00m:\n\u001b[0;32m--> 692\u001b[0m     packet_header \u001b[38;5;241m=\u001b[39m \u001b[38;5;28;43mself\u001b[39;49m\u001b[38;5;241;43m.\u001b[39;49m\u001b[43m_read_bytes\u001b[49m\u001b[43m(\u001b[49m\u001b[38;5;241;43m4\u001b[39;49m\u001b[43m)\u001b[49m\n\u001b[1;32m    693\u001b[0m     \u001b[38;5;66;03m# if DEBUG: dump_packet(packet_header)\u001b[39;00m\n\u001b[1;32m    695\u001b[0m     btrl, btrh, packet_number \u001b[38;5;241m=\u001b[39m struct\u001b[38;5;241m.\u001b[39munpack(\u001b[38;5;124m\"\u001b[39m\u001b[38;5;124m<HBB\u001b[39m\u001b[38;5;124m\"\u001b[39m, packet_header)\n",
      "File \u001b[0;32m~/venv/lib/python3.8/site-packages/pymysql/connections.py:732\u001b[0m, in \u001b[0;36mConnection._read_bytes\u001b[0;34m(self, num_bytes)\u001b[0m\n\u001b[1;32m    730\u001b[0m \u001b[38;5;28;01mwhile\u001b[39;00m \u001b[38;5;28;01mTrue\u001b[39;00m:\n\u001b[1;32m    731\u001b[0m     \u001b[38;5;28;01mtry\u001b[39;00m:\n\u001b[0;32m--> 732\u001b[0m         data \u001b[38;5;241m=\u001b[39m \u001b[38;5;28;43mself\u001b[39;49m\u001b[38;5;241;43m.\u001b[39;49m\u001b[43m_rfile\u001b[49m\u001b[38;5;241;43m.\u001b[39;49m\u001b[43mread\u001b[49m\u001b[43m(\u001b[49m\u001b[43mnum_bytes\u001b[49m\u001b[43m)\u001b[49m\n\u001b[1;32m    733\u001b[0m         \u001b[38;5;28;01mbreak\u001b[39;00m\n\u001b[1;32m    734\u001b[0m     \u001b[38;5;28;01mexcept\u001b[39;00m (\u001b[38;5;167;01mIOError\u001b[39;00m, \u001b[38;5;167;01mOSError\u001b[39;00m) \u001b[38;5;28;01mas\u001b[39;00m e:\n",
      "File \u001b[0;32m/usr/lib/python3.8/socket.py:669\u001b[0m, in \u001b[0;36mSocketIO.readinto\u001b[0;34m(self, b)\u001b[0m\n\u001b[1;32m    667\u001b[0m \u001b[38;5;28;01mwhile\u001b[39;00m \u001b[38;5;28;01mTrue\u001b[39;00m:\n\u001b[1;32m    668\u001b[0m     \u001b[38;5;28;01mtry\u001b[39;00m:\n\u001b[0;32m--> 669\u001b[0m         \u001b[38;5;28;01mreturn\u001b[39;00m \u001b[38;5;28;43mself\u001b[39;49m\u001b[38;5;241;43m.\u001b[39;49m\u001b[43m_sock\u001b[49m\u001b[38;5;241;43m.\u001b[39;49m\u001b[43mrecv_into\u001b[49m\u001b[43m(\u001b[49m\u001b[43mb\u001b[49m\u001b[43m)\u001b[49m\n\u001b[1;32m    670\u001b[0m     \u001b[38;5;28;01mexcept\u001b[39;00m timeout:\n\u001b[1;32m    671\u001b[0m         \u001b[38;5;28mself\u001b[39m\u001b[38;5;241m.\u001b[39m_timeout_occurred \u001b[38;5;241m=\u001b[39m \u001b[38;5;28;01mTrue\u001b[39;00m\n",
      "\u001b[0;31mKeyboardInterrupt\u001b[0m: "
     ]
    }
   ],
   "source": [
    "## computer has memory limits, so split toolstart into branches\n",
    "start_year = deepcopy(start_year_base)\n",
    "\n",
    "while start_year < today.year+1:\n",
    "    start_year += 1\n",
    "    \n",
    "    for i in range(1,13):\n",
    "        if i < 10:\n",
    "            start_date = r\"'\"+str(start_year-1)+r\"-0\"+str(i)+r\"-01'\"\n",
    "            end_date = r\"'\"+str(start_year)+r\"-0\"+str(i)+r\"-01'\"\n",
    "        else:\n",
    "            start_date = r\"'\"+str(start_year-1)+r\"-\"+str(i)+r\"-01'\"\n",
    "            end_date = r\"'\"+str(start_year)+r\"-\"+str(i)+r\"-01'\"\n",
    "        \n",
    "#         sql_query_clustered = \"select user from toolstart where user in \" + str(tuple(clustered_NH_username2['username']))\\\n",
    "#             +\" and datetime <= \"+end_date+\" and datetime >= \"+start_date\n",
    "        sql_query_clustered = \"select user from toolstart where user in \" + str(tuple(clustered_NH_username['username']))\\\n",
    "            +\" and datetime <= \"+end_date+\" and datetime >= \"+start_date\n",
    "        clustered_users = pd.read_sql_query(sql_query_clustered, nanohub_metrics_db)\n",
    "        \n",
    "#         sql_query_self = \"select user from toolstart where user in \" + str(tuple(self_NH_username2['username']))\\\n",
    "#             +\" and user != 'instanton' and user != 'gridstat' and datetime <= \"+end_date+\" and datetime >= \"+start_date\n",
    "        sql_query_self = \"select user from toolstart where user in \" + str(tuple(ss_NH_username['username']))\\\n",
    "            +\" and user != 'instanton' and user != 'gridstat' and datetime <= \"+end_date+\" and datetime >= \"+start_date\n",
    "        self_users = pd.read_sql_query(sql_query_self, nanohub_metrics_db) #engine_metrics #.drop_duplicates()\n",
    "        \n",
    "        clustered_track.append(clustered_users.drop_duplicates().shape[0])\n",
    "        self_track.append(self_users.drop_duplicates().shape[0])\n",
    "#         print('start_date: '+start_date)\n",
    "#         print('end_date: '+end_date)  \n",
    "    print('start year: '+str(start_year))"
   ]
  },
  {
   "cell_type": "code",
   "execution_count": null,
   "metadata": {},
   "outputs": [],
   "source": []
  },
  {
   "cell_type": "code",
   "execution_count": null,
   "metadata": {
    "execution": {
     "iopub.status.busy": "2022-02-16T14:35:11.613178Z",
     "iopub.status.idle": "2022-02-16T14:35:11.618814Z",
     "shell.execute_reply": "2022-02-16T14:35:11.618186Z",
     "shell.execute_reply.started": "2022-02-16T14:35:11.618088Z"
    },
    "tags": []
   },
   "outputs": [],
   "source": [
    "all_months_list = list()\n",
    "for this_year in range(start_year_base+1,today.year+2):\n",
    "    if cache_flag == True:\n",
    "        for this_month in range(1,today.month+1):\n",
    "            all_months_list.append(datetime.datetime(this_year, this_month, 1))\n",
    "    else:\n",
    "        for this_month in range(1,12+1):\n",
    "            all_months_list.append(datetime.datetime(this_year, this_month, 1))"
   ]
  },
  {
   "cell_type": "code",
   "execution_count": null,
   "metadata": {
    "execution": {
     "iopub.status.busy": "2022-02-16T14:35:11.626108Z",
     "iopub.status.idle": "2022-02-16T14:35:11.627392Z",
     "shell.execute_reply": "2022-02-16T14:35:11.626989Z",
     "shell.execute_reply.started": "2022-02-16T14:35:11.626924Z"
    },
    "tags": []
   },
   "outputs": [],
   "source": [
    "print(len(clustered_track))\n",
    "print(len(all_months_list))\n",
    "print(len(researcher_track))"
   ]
  },
  {
   "cell_type": "code",
   "execution_count": null,
   "metadata": {
    "execution": {
     "iopub.status.busy": "2022-02-16T14:35:11.634608Z",
     "iopub.status.idle": "2022-02-16T14:35:11.639854Z",
     "shell.execute_reply": "2022-02-16T14:35:11.639128Z",
     "shell.execute_reply.started": "2022-02-16T14:35:11.638833Z"
    },
    "tags": []
   },
   "outputs": [],
   "source": [
    "#print(user_breakdown_df2.head())"
   ]
  },
  {
   "cell_type": "code",
   "execution_count": null,
   "metadata": {
    "execution": {
     "iopub.status.busy": "2022-02-16T14:35:11.644240Z",
     "iopub.status.idle": "2022-02-16T14:35:11.650627Z",
     "shell.execute_reply": "2022-02-16T14:35:11.649557Z",
     "shell.execute_reply.started": "2022-02-16T14:35:11.649435Z"
    },
    "tags": []
   },
   "outputs": [],
   "source": [
    "\n",
    "if cache_flag == True:\n",
    "    user_breakdown_df2 = pd.DataFrame()\n",
    "    user_breakdown_df2['year_month'] = all_months_list\n",
    "    user_breakdown_df2['clustered_track'] = clustered_track\n",
    "    user_breakdown_df2['self_track'] = self_track\n",
    "    user_breakdown_df2['researcher_track'] = researcher_track\n",
    "    \n",
    "    user_breakdown_df = pd.concat([user_breakdown_df, user_breakdown_df2], ignore_index=True)\n",
    "    display(user_breakdown_df.head(2))\n",
    "else:\n",
    "    user_breakdown_df = pd.DataFrame()\n",
    "    if today.month == 12:\n",
    "        user_breakdown_df['year_month'] = all_months_list #months_bin['year_month'].to_list()[13:]\n",
    "        user_breakdown_df['clustered_track'] = clustered_track#[:len(all_months_list)]\n",
    "        user_breakdown_df['self_track'] = self_track#[:len(all_months_list)]\n",
    "        user_breakdown_df['researcher_track'] = researcher_track#[:len(all_months_list)]        \n",
    "    else:\n",
    "        user_breakdown_df['year_month'] = all_months_list #-(12-today.month)\n",
    "        user_breakdown_df['clustered_track'] = clustered_track#[:len(all_months_list[:])]\n",
    "        user_breakdown_df['self_track'] = self_track#[:len(all_months_list[:])]\n",
    "        user_breakdown_df['researcher_track'] = researcher_track#[:len(all_months_list[:])]\n",
    "    display(user_breakdown_df.head(2))"
   ]
  },
  {
   "cell_type": "code",
   "execution_count": null,
   "metadata": {
    "execution": {
     "iopub.status.busy": "2022-02-16T14:35:11.656098Z",
     "iopub.status.idle": "2022-02-16T14:35:11.661008Z",
     "shell.execute_reply": "2022-02-16T14:35:11.659642Z",
     "shell.execute_reply.started": "2022-02-16T14:35:11.659560Z"
    },
    "tags": []
   },
   "outputs": [],
   "source": [
    "# user_breakdown_df.to_csv(cwd+'/cached_data/temp.csv')"
   ]
  },
  {
   "cell_type": "code",
   "execution_count": null,
   "metadata": {
    "execution": {
     "iopub.status.busy": "2022-02-16T14:35:11.668110Z",
     "iopub.status.idle": "2022-02-16T14:35:11.680021Z",
     "shell.execute_reply": "2022-02-16T14:35:11.679409Z",
     "shell.execute_reply.started": "2022-02-16T14:35:11.679345Z"
    },
    "tags": []
   },
   "outputs": [],
   "source": [
    "import re"
   ]
  },
  {
   "cell_type": "code",
   "execution_count": null,
   "metadata": {
    "execution": {
     "iopub.status.busy": "2022-02-16T14:35:11.684517Z",
     "iopub.status.idle": "2022-02-16T14:35:11.685697Z",
     "shell.execute_reply": "2022-02-16T14:35:11.685202Z",
     "shell.execute_reply.started": "2022-02-16T14:35:11.685159Z"
    },
    "tags": []
   },
   "outputs": [],
   "source": [
    "## read the dev_flags.txt to determine where to save\n",
    "with open(cwd+'/dev_flags.txt','r') as f:\n",
    "    raw_flags = f.read()\n",
    "flag_pattern = re.compile(r'= \\w+')\n",
    "flags1 = re.findall(flag_pattern,raw_flags)    \n",
    "flags_result = [i[2:] for i in flags1]\n",
    "dev_flag = flags_result[0]\n",
    "prod_flag = flags_result[1]"
   ]
  },
  {
   "cell_type": "code",
   "execution_count": null,
   "metadata": {
    "execution": {
     "iopub.status.busy": "2022-02-16T14:35:11.688055Z",
     "iopub.status.idle": "2022-02-16T14:35:11.691942Z",
     "shell.execute_reply": "2022-02-16T14:35:11.691376Z",
     "shell.execute_reply.started": "2022-02-16T14:35:11.691254Z"
    },
    "tags": []
   },
   "outputs": [],
   "source": [
    "import seaborn as sns\n",
    "import matplotlib.pyplot as plt\n",
    "sns.set()\n",
    "sns.set_style(\"whitegrid\")\n",
    "\n",
    "plt.figure(figsize=(9,6))\n",
    "# user_breakdown_df2 = user_breakdown_df.iloc[:-(12-today.month),:]\n",
    "user_breakdown_df2 = user_breakdown_df.iloc[:-12-(12-today.month),:]\n",
    "plt.stackplot(user_breakdown_df2.year_month, \\\n",
    "#               user_breakdown_df2[['clustered_track','self_track']].to_numpy().T, \\\n",
    "#              labels=['Classroom', 'Unclassified'], \\\n",
    "#              colors=['green', 'orange']); #Self-study              \n",
    "              user_breakdown_df2[['clustered_track', 'researcher_track','self_track']].to_numpy().T, \\\n",
    "             labels=['Classroom','Research', 'Unclassified'], \\\n",
    "             colors=['green', 'red', 'orange']); #Self-study\n",
    "\n",
    "plt.legend(loc='upper left')#,fontsize=14);\n",
    "plt.ylabel('12-month Trailing Total')#,fontsize=15)\n",
    "plt.xlim([datetime.datetime(2001,1,1), datetime.datetime(2021,7,1)])#,fontsize=15)\n",
    "# plt.show()\n",
    "\n",
    "if dev_flag == 'True':\n",
    "    plt.savefig(cwd+'/plots_local/simusers_class_res_unclass_12months.eps', dpi=1000, bbox_inches='tight')\n",
    "    plt.savefig(cwd+'/plots_local/simusers_class_res_unclass_12months.pdf', dpi=1000, bbox_inches='tight')\n",
    "    plt.savefig(cwd+'/plots_local/simusers_class_res_unclass_12months.png', dpi=1000, bbox_inches='tight')\n",
    "elif prod_flag == 'True':\n",
    "    plt.savefig(cwd+'/plots_production/simusers_class_res_unclass_12months.eps', dpi=1000, bbox_inches='tight')\n",
    "    plt.savefig(cwd+'/plots_production/simusers_class_res_unclass_12months.pdf', dpi=1000, bbox_inches='tight')\n",
    "    plt.savefig(cwd+'/plots_production/simusers_class_res_unclass_12months.png', dpi=1000, bbox_inches='tight')\n",
    "else:\n",
    "    print('no printing flag is active')"
   ]
  },
  {
   "cell_type": "code",
   "execution_count": null,
   "metadata": {
    "execution": {
     "iopub.status.busy": "2022-02-16T14:35:11.701052Z",
     "iopub.status.idle": "2022-02-16T14:35:11.707203Z",
     "shell.execute_reply": "2022-02-16T14:35:11.706082Z",
     "shell.execute_reply.started": "2022-02-16T14:35:11.705965Z"
    },
    "tags": []
   },
   "outputs": [],
   "source": [
    "user_breakdown_df2['clustered_track_per'] = 100*np.divide(user_breakdown_df2['clustered_track'],\\\n",
    "            user_breakdown_df2['clustered_track'].to_numpy()+user_breakdown_df2['researcher_track'].to_numpy()+\\\n",
    "                        user_breakdown_df2['self_track'].to_numpy())\n",
    "user_breakdown_df2['researcher_track_per'] = 100*np.divide(user_breakdown_df2['researcher_track'],\\\n",
    "            user_breakdown_df2['clustered_track'].to_numpy()+user_breakdown_df2['researcher_track'].to_numpy()+\\\n",
    "                        user_breakdown_df2['self_track'].to_numpy())\n",
    "user_breakdown_df2['self_track_per'] = 100*np.divide(user_breakdown_df2['self_track'],\\\n",
    "            user_breakdown_df2['clustered_track'].to_numpy()+user_breakdown_df2['researcher_track'].to_numpy()+\\\n",
    "                        user_breakdown_df2['self_track'].to_numpy())"
   ]
  },
  {
   "cell_type": "code",
   "execution_count": null,
   "metadata": {
    "execution": {
     "iopub.status.busy": "2022-02-16T14:35:11.719011Z",
     "iopub.status.idle": "2022-02-16T14:35:11.723645Z",
     "shell.execute_reply": "2022-02-16T14:35:11.722475Z",
     "shell.execute_reply.started": "2022-02-16T14:35:11.722396Z"
    },
    "tags": []
   },
   "outputs": [],
   "source": [
    "plt.figure(figsize=(9,6))\n",
    "plt.plot(user_breakdown_df2.year_month, user_breakdown_df2.clustered_track_per, label='classroom', \\\n",
    "             color='green');\n",
    "plt.plot(user_breakdown_df2.year_month, user_breakdown_df2.researcher_track_per, label='research', \\\n",
    "             color='red');\n",
    "plt.plot(user_breakdown_df2.year_month, user_breakdown_df2.self_track_per, label='self-study', \\\n",
    "             color='orange');\n",
    "\n",
    "plt.ylim([0, 100])\n",
    "plt.legend(loc='upper right');\n",
    "plt.ylabel('Percentage (%)');\n",
    "plt.xlim([datetime.datetime(2001,1,1), datetime.datetime(2021,7,1)])\n",
    "# plt.show()\n",
    "\n",
    "if dev_flag == 'True':\n",
    "    plt.savefig(cwd+'/plots_local/simusers_class_res_unclass_12months_percent.eps', dpi=1000, bbox_inches='tight')\n",
    "    plt.savefig(cwd+'/plots_local/simusers_class_res_unclass_12months_percent.pdf', dpi=1000, bbox_inches='tight')\n",
    "    plt.savefig(cwd+'/plots_local/simusers_class_res_unclass_12months_percent.png', dpi=1000, bbox_inches='tight')\n",
    "elif prod_flag == 'True':\n",
    "    plt.savefig(cwd+'/plots_production/simusers_class_res_unclass_12months_percent.eps', dpi=1000, bbox_inches='tight')\n",
    "    plt.savefig(cwd+'/plots_production/simusers_class_res_unclass_12months_percent.pdf', dpi=1000, bbox_inches='tight')\n",
    "    plt.savefig(cwd+'/plots_production/simusers_class_res_unclass_12months_percent.png', dpi=1000, bbox_inches='tight')\n",
    "else:\n",
    "    print('no printing flag is active')"
   ]
  },
  {
   "cell_type": "code",
   "execution_count": null,
   "metadata": {
    "execution": {
     "iopub.status.busy": "2022-02-16T14:35:11.733093Z",
     "iopub.status.idle": "2022-02-16T14:35:11.741511Z",
     "shell.execute_reply": "2022-02-16T14:35:11.740767Z",
     "shell.execute_reply.started": "2022-02-16T14:35:11.740675Z"
    },
    "tags": []
   },
   "outputs": [],
   "source": [
    "user_breakdown_df2.to_csv(cwd+'/cached_data/nh_user_breakdown.csv')"
   ]
  },
  {
   "cell_type": "code",
   "execution_count": null,
   "metadata": {},
   "outputs": [],
   "source": []
  },
  {
   "cell_type": "code",
   "execution_count": null,
   "metadata": {},
   "outputs": [],
   "source": []
  },
  {
   "cell_type": "code",
   "execution_count": null,
   "metadata": {},
   "outputs": [],
   "source": []
  }
 ],
 "metadata": {
  "kernelspec": {
   "display_name": "Python 3 (ipykernel)",
   "language": "python",
   "name": "python3"
  },
  "language_info": {
   "codemirror_mode": {
    "name": "ipython",
    "version": 3
   },
   "file_extension": ".py",
   "mimetype": "text/x-python",
   "name": "python",
   "nbconvert_exporter": "python",
   "pygments_lexer": "ipython3",
   "version": "3.8.10"
  }
 },
 "nbformat": 4,
 "nbformat_minor": 4
}
