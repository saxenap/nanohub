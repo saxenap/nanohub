{
 "cells": [
  {
   "cell_type": "code",
   "execution_count": 1,
   "metadata": {
    "execution": {
     "iopub.execute_input": "2022-01-31T04:15:49.063618Z",
     "iopub.status.busy": "2022-01-31T04:15:49.062821Z",
     "iopub.status.idle": "2022-01-31T04:15:49.077879Z",
     "shell.execute_reply": "2022-01-31T04:15:49.074054Z",
     "shell.execute_reply.started": "2022-01-31T04:15:49.063455Z"
    }
   },
   "outputs": [],
   "source": [
    "## build researcher events, student events, and self-study events\n",
    "## researcher are simply those with NH citations"
   ]
  },
  {
   "cell_type": "code",
   "execution_count": 2,
   "metadata": {
    "execution": {
     "iopub.execute_input": "2022-01-31T04:15:49.080867Z",
     "iopub.status.busy": "2022-01-31T04:15:49.080239Z",
     "iopub.status.idle": "2022-01-31T04:15:49.488404Z",
     "shell.execute_reply": "2022-01-31T04:15:49.487477Z",
     "shell.execute_reply.started": "2022-01-31T04:15:49.080834Z"
    }
   },
   "outputs": [],
   "source": [
    "import sys\n",
    "\n",
    "import pandas as pd\n",
    "import time\n",
    "import datetime"
   ]
  },
  {
   "cell_type": "code",
   "execution_count": 3,
   "metadata": {
    "execution": {
     "iopub.execute_input": "2022-01-31T04:15:49.492728Z",
     "iopub.status.busy": "2022-01-31T04:15:49.492489Z",
     "iopub.status.idle": "2022-01-31T04:15:49.505638Z",
     "shell.execute_reply": "2022-01-31T04:15:49.502894Z",
     "shell.execute_reply.started": "2022-01-31T04:15:49.492696Z"
    }
   },
   "outputs": [],
   "source": [
    "import warnings\n",
    "warnings.filterwarnings('ignore')\n",
    "# warnings.filterwarnings(action='once')\n",
    "warnings.simplefilter(action='ignore', category=FutureWarning)"
   ]
  },
  {
   "cell_type": "code",
   "execution_count": 4,
   "metadata": {
    "execution": {
     "iopub.execute_input": "2022-01-31T04:15:49.508304Z",
     "iopub.status.busy": "2022-01-31T04:15:49.507669Z",
     "iopub.status.idle": "2022-01-31T04:15:51.925621Z",
     "shell.execute_reply": "2022-01-31T04:15:51.922089Z",
     "shell.execute_reply.started": "2022-01-31T04:15:49.508268Z"
    }
   },
   "outputs": [
    {
     "name": "stdout",
     "output_type": "stream",
     "text": [
      "\u001b[1mnanoHUB - Serving Students, Researchers & Instructors\u001b[0m\n",
      "Obtained Salesforce access token ...... True\n"
     ]
    }
   ],
   "source": [
    "from nanoHUB.application import Application\n",
    "\n",
    "application = Application.get_instance()\n",
    "nanohub_db = application.new_db_engine('nanohub')\n",
    "nanohub_metrics_db = application.new_db_engine('nanohub_metrics')\n",
    "wang159_myrmekes_db = application.new_db_engine('rfm_data')\n",
    "\n",
    "salesforce = application.new_salesforce_engine()\n",
    "db_s = salesforce"
   ]
  },
  {
   "cell_type": "code",
   "execution_count": null,
   "metadata": {},
   "outputs": [],
   "source": []
  },
  {
   "cell_type": "markdown",
   "metadata": {},
   "source": [
    "## Cumulative classroom/research/self-study"
   ]
  },
  {
   "cell_type": "code",
   "execution_count": 5,
   "metadata": {
    "execution": {
     "iopub.execute_input": "2022-01-31T04:15:51.933189Z",
     "iopub.status.busy": "2022-01-31T04:15:51.930034Z",
     "iopub.status.idle": "2022-01-31T04:15:51.940500Z",
     "shell.execute_reply": "2022-01-31T04:15:51.938490Z",
     "shell.execute_reply.started": "2022-01-31T04:15:51.933108Z"
    }
   },
   "outputs": [],
   "source": [
    "###\n",
    "# 1. pull all unique classroom users from SF\n",
    "# 2. pull all research users from DB2\n",
    "# 3. pull all contacts from SF\n",
    "# 4. iteratively pull toolstart df again by year starting from 2000"
   ]
  },
  {
   "cell_type": "code",
   "execution_count": 6,
   "metadata": {
    "execution": {
     "iopub.execute_input": "2022-01-31T04:15:51.947331Z",
     "iopub.status.busy": "2022-01-31T04:15:51.944479Z",
     "iopub.status.idle": "2022-01-31T04:16:03.848624Z",
     "shell.execute_reply": "2022-01-31T04:16:03.847861Z",
     "shell.execute_reply.started": "2022-01-31T04:15:51.947275Z"
    }
   },
   "outputs": [
    {
     "name": "stdout",
     "output_type": "stream",
     "text": [
      "[Success] Bulk job creation successful. Job ID = 7505w00000cyXFBAA2\n",
      "{\"id\":\"7505w00000cyXFBAA2\",\"operation\":\"query\",\"object\":\"ContactToolClusterAssociation__c\",\"createdById\":\"0055w00000DM5bOAAT\",\"createdDate\":\"2022-01-31T04:15:52.000+0000\",\"systemModstamp\":\"2022-01-31T04:15:52.000+0000\",\"state\":\"UploadComplete\",\"concurrencyMode\":\"Parallel\",\"contentType\":\"CSV\",\"apiVersion\":47.0,\"jobType\":\"V2Query\",\"lineEnding\":\"LF\",\"columnDelimiter\":\"COMMA\",\"retries\":0,\"totalProcessingTime\":0}\n",
      "{\"id\":\"7505w00000cyXFBAA2\",\"operation\":\"query\",\"object\":\"ContactToolClusterAssociation__c\",\"createdById\":\"0055w00000DM5bOAAT\",\"createdDate\":\"2022-01-31T04:15:52.000+0000\",\"systemModstamp\":\"2022-01-31T04:15:53.000+0000\",\"state\":\"JobComplete\",\"concurrencyMode\":\"Parallel\",\"contentType\":\"CSV\",\"apiVersion\":47.0,\"jobType\":\"V2Query\",\"lineEnding\":\"LF\",\"columnDelimiter\":\"COMMA\",\"numberRecordsProcessed\":1900,\"retries\":0,\"totalProcessingTime\":270}\n",
      "[Success] Bulk job completed successfully.\n"
     ]
    }
   ],
   "source": [
    "## pull the list of contacts within each cluster\n",
    "contacts_in_cluster_df = db_s.query_data('Select Contact__c, Tool_Usage_Cluster__c from ContactToolClusterAssociation__c')"
   ]
  },
  {
   "cell_type": "code",
   "execution_count": 7,
   "metadata": {
    "execution": {
     "iopub.execute_input": "2022-01-31T04:16:03.851280Z",
     "iopub.status.busy": "2022-01-31T04:16:03.850673Z",
     "iopub.status.idle": "2022-01-31T04:16:03.878056Z",
     "shell.execute_reply": "2022-01-31T04:16:03.874057Z",
     "shell.execute_reply.started": "2022-01-31T04:16:03.851234Z"
    }
   },
   "outputs": [
    {
     "data": {
      "text/html": [
       "<div>\n",
       "<style scoped>\n",
       "    .dataframe tbody tr th:only-of-type {\n",
       "        vertical-align: middle;\n",
       "    }\n",
       "\n",
       "    .dataframe tbody tr th {\n",
       "        vertical-align: top;\n",
       "    }\n",
       "\n",
       "    .dataframe thead th {\n",
       "        text-align: right;\n",
       "    }\n",
       "</style>\n",
       "<table border=\"1\" class=\"dataframe\">\n",
       "  <thead>\n",
       "    <tr style=\"text-align: right;\">\n",
       "      <th></th>\n",
       "      <th>Contact__c</th>\n",
       "      <th>Tool_Usage_Cluster__c</th>\n",
       "    </tr>\n",
       "  </thead>\n",
       "  <tbody>\n",
       "    <tr>\n",
       "      <th>0</th>\n",
       "      <td>0035w000034JLEEAA4</td>\n",
       "      <td>a0w5w00000A8OFoAAN</td>\n",
       "    </tr>\n",
       "    <tr>\n",
       "      <th>1</th>\n",
       "      <td>0035w000034K074AAC</td>\n",
       "      <td>a0w5w000009Q7m8AAC</td>\n",
       "    </tr>\n",
       "  </tbody>\n",
       "</table>\n",
       "</div>"
      ],
      "text/plain": [
       "           Contact__c Tool_Usage_Cluster__c\n",
       "0  0035w000034JLEEAA4    a0w5w00000A8OFoAAN\n",
       "1  0035w000034K074AAC    a0w5w000009Q7m8AAC"
      ]
     },
     "metadata": {},
     "output_type": "display_data"
    },
    {
     "name": "stdout",
     "output_type": "stream",
     "text": [
      "(1900, 2)\n"
     ]
    }
   ],
   "source": [
    "display(contacts_in_cluster_df.head(2))\n",
    "print(contacts_in_cluster_df.shape)"
   ]
  },
  {
   "cell_type": "code",
   "execution_count": 8,
   "metadata": {
    "execution": {
     "iopub.execute_input": "2022-01-31T04:16:03.880189Z",
     "iopub.status.busy": "2022-01-31T04:16:03.879965Z",
     "iopub.status.idle": "2022-01-31T04:16:03.893487Z",
     "shell.execute_reply": "2022-01-31T04:16:03.891873Z",
     "shell.execute_reply.started": "2022-01-31T04:16:03.880159Z"
    },
    "tags": []
   },
   "outputs": [
    {
     "name": "stdout",
     "output_type": "stream",
     "text": [
      "/home/saxenap/nanoHUB/nanoHUB/pipeline/plotting\n"
     ]
    }
   ],
   "source": [
    "import os\n",
    "cwd = os.getcwd()\n",
    "print(cwd)"
   ]
  },
  {
   "cell_type": "code",
   "execution_count": 9,
   "metadata": {
    "execution": {
     "iopub.execute_input": "2022-01-31T04:16:03.897318Z",
     "iopub.status.busy": "2022-01-31T04:16:03.896199Z",
     "iopub.status.idle": "2022-01-31T04:16:03.908264Z",
     "shell.execute_reply": "2022-01-31T04:16:03.906713Z",
     "shell.execute_reply.started": "2022-01-31T04:16:03.897252Z"
    }
   },
   "outputs": [
    {
     "name": "stdout",
     "output_type": "stream",
     "text": [
      "1900\n"
     ]
    }
   ],
   "source": [
    "print(contacts_in_cluster_df.shape[0])"
   ]
  },
  {
   "cell_type": "code",
   "execution_count": 10,
   "metadata": {
    "execution": {
     "iopub.execute_input": "2022-01-31T04:16:03.911980Z",
     "iopub.status.busy": "2022-01-31T04:16:03.910970Z",
     "iopub.status.idle": "2022-01-31T04:16:03.968361Z",
     "shell.execute_reply": "2022-01-31T04:16:03.965860Z",
     "shell.execute_reply.started": "2022-01-31T04:16:03.911936Z"
    }
   },
   "outputs": [],
   "source": [
    "#if contacts_in_cluster_df.shape[0] > 9000:\n",
    "contacts_in_cluster_df.to_csv(cwd+\"/cached_data/backup_contacts_in_clusters.csv\")\n",
    "#else:\n",
    "#    raise ValueError(\"salesforce connection issue with clusters, please reload or setup some limits\")"
   ]
  },
  {
   "cell_type": "code",
   "execution_count": 11,
   "metadata": {
    "execution": {
     "iopub.execute_input": "2022-01-31T04:16:03.973094Z",
     "iopub.status.busy": "2022-01-31T04:16:03.972091Z",
     "iopub.status.idle": "2022-01-31T04:16:03.986131Z",
     "shell.execute_reply": "2022-01-31T04:16:03.982523Z",
     "shell.execute_reply.started": "2022-01-31T04:16:03.973051Z"
    }
   },
   "outputs": [
    {
     "name": "stdout",
     "output_type": "stream",
     "text": [
      "1680\n"
     ]
    }
   ],
   "source": [
    "unique_contacts_in_clusters = set(contacts_in_cluster_df['Contact__c'].to_list())\n",
    "print(len(unique_contacts_in_clusters))"
   ]
  },
  {
   "cell_type": "code",
   "execution_count": 12,
   "metadata": {
    "execution": {
     "iopub.execute_input": "2022-01-31T04:16:03.993138Z",
     "iopub.status.busy": "2022-01-31T04:16:03.992186Z",
     "iopub.status.idle": "2022-01-31T04:16:29.285503Z",
     "shell.execute_reply": "2022-01-31T04:16:29.284664Z",
     "shell.execute_reply.started": "2022-01-31T04:16:03.992956Z"
    }
   },
   "outputs": [
    {
     "name": "stdout",
     "output_type": "stream",
     "text": [
      "[Success] Bulk job creation successful. Job ID = 7505w00000cyXFGAA2\n",
      "{\"id\":\"7505w00000cyXFGAA2\",\"operation\":\"query\",\"object\":\"Contact\",\"createdById\":\"0055w00000DM5bOAAT\",\"createdDate\":\"2022-01-31T04:16:04.000+0000\",\"systemModstamp\":\"2022-01-31T04:16:04.000+0000\",\"state\":\"UploadComplete\",\"concurrencyMode\":\"Parallel\",\"contentType\":\"CSV\",\"apiVersion\":47.0,\"jobType\":\"V2Query\",\"lineEnding\":\"LF\",\"columnDelimiter\":\"COMMA\",\"retries\":0,\"totalProcessingTime\":0}\n",
      "{\"id\":\"7505w00000cyXFGAA2\",\"operation\":\"query\",\"object\":\"Contact\",\"createdById\":\"0055w00000DM5bOAAT\",\"createdDate\":\"2022-01-31T04:16:04.000+0000\",\"systemModstamp\":\"2022-01-31T04:16:04.000+0000\",\"state\":\"InProgress\",\"concurrencyMode\":\"Parallel\",\"contentType\":\"CSV\",\"apiVersion\":47.0,\"jobType\":\"V2Query\",\"lineEnding\":\"LF\",\"columnDelimiter\":\"COMMA\",\"numberRecordsProcessed\":19815,\"retries\":0,\"totalProcessingTime\":1006}\n",
      "{\"id\":\"7505w00000cyXFGAA2\",\"operation\":\"query\",\"object\":\"Contact\",\"createdById\":\"0055w00000DM5bOAAT\",\"createdDate\":\"2022-01-31T04:16:04.000+0000\",\"systemModstamp\":\"2022-01-31T04:16:16.000+0000\",\"state\":\"JobComplete\",\"concurrencyMode\":\"Parallel\",\"contentType\":\"CSV\",\"apiVersion\":47.0,\"jobType\":\"V2Query\",\"lineEnding\":\"LF\",\"columnDelimiter\":\"COMMA\",\"numberRecordsProcessed\":271910,\"retries\":0,\"totalProcessingTime\":11002}\n",
      "[Success] Bulk job completed successfully.\n"
     ]
    }
   ],
   "source": [
    "contacts_df = db_s.query_data('Select Id, nanoHUB_user_ID__c from Contact')"
   ]
  },
  {
   "cell_type": "code",
   "execution_count": 13,
   "metadata": {
    "execution": {
     "iopub.execute_input": "2022-01-31T04:16:29.286971Z",
     "iopub.status.busy": "2022-01-31T04:16:29.286708Z",
     "iopub.status.idle": "2022-01-31T04:16:29.305957Z",
     "shell.execute_reply": "2022-01-31T04:16:29.303204Z",
     "shell.execute_reply.started": "2022-01-31T04:16:29.286946Z"
    }
   },
   "outputs": [
    {
     "data": {
      "text/html": [
       "<div>\n",
       "<style scoped>\n",
       "    .dataframe tbody tr th:only-of-type {\n",
       "        vertical-align: middle;\n",
       "    }\n",
       "\n",
       "    .dataframe tbody tr th {\n",
       "        vertical-align: top;\n",
       "    }\n",
       "\n",
       "    .dataframe thead th {\n",
       "        text-align: right;\n",
       "    }\n",
       "</style>\n",
       "<table border=\"1\" class=\"dataframe\">\n",
       "  <thead>\n",
       "    <tr style=\"text-align: right;\">\n",
       "      <th></th>\n",
       "      <th>Id</th>\n",
       "      <th>nanoHUB_user_ID__c</th>\n",
       "    </tr>\n",
       "  </thead>\n",
       "  <tbody>\n",
       "    <tr>\n",
       "      <th>0</th>\n",
       "      <td>0035w000031Vsp1AAC</td>\n",
       "      <td>998.0</td>\n",
       "    </tr>\n",
       "    <tr>\n",
       "      <th>1</th>\n",
       "      <td>0035w000031Vsp2AAC</td>\n",
       "      <td>1683.0</td>\n",
       "    </tr>\n",
       "  </tbody>\n",
       "</table>\n",
       "</div>"
      ],
      "text/plain": [
       "                   Id  nanoHUB_user_ID__c\n",
       "0  0035w000031Vsp1AAC               998.0\n",
       "1  0035w000031Vsp2AAC              1683.0"
      ]
     },
     "metadata": {},
     "output_type": "display_data"
    },
    {
     "name": "stdout",
     "output_type": "stream",
     "text": [
      "(252095, 2)\n"
     ]
    }
   ],
   "source": [
    "display(contacts_df.head(2))\n",
    "print(contacts_df.shape)"
   ]
  },
  {
   "cell_type": "code",
   "execution_count": 14,
   "metadata": {
    "execution": {
     "iopub.execute_input": "2022-01-31T04:16:29.310469Z",
     "iopub.status.busy": "2022-01-31T04:16:29.308801Z",
     "iopub.status.idle": "2022-01-31T04:16:29.444173Z",
     "shell.execute_reply": "2022-01-31T04:16:29.443327Z",
     "shell.execute_reply.started": "2022-01-31T04:16:29.310412Z"
    }
   },
   "outputs": [],
   "source": [
    "## determine self-study users, i.e., unclassified users\n",
    "# if sf id is in contacts_in_cluster_df['Contact__c'], then it is self-study\n",
    "\n",
    "self_study = []\n",
    "clustered = []\n",
    "\n",
    "sf_contact_ids = contacts_df['Id'].to_list()\n",
    "\n",
    "import numpy as np\n",
    "# bool_search = np.in1d(np.array(list(unique_contacts_in_clusters)),np.array(sf_contact_ids))\n",
    "bool_search = np.in1d(np.array(sf_contact_ids),np.array(list(unique_contacts_in_clusters)))\n",
    "\n",
    "clustered = np.where(bool_search)[0].tolist()\n",
    "self_study = np.where(~bool_search)[0].tolist()"
   ]
  },
  {
   "cell_type": "code",
   "execution_count": 15,
   "metadata": {
    "execution": {
     "iopub.execute_input": "2022-01-31T04:16:29.447668Z",
     "iopub.status.busy": "2022-01-31T04:16:29.445946Z",
     "iopub.status.idle": "2022-01-31T04:16:29.490720Z",
     "shell.execute_reply": "2022-01-31T04:16:29.488803Z",
     "shell.execute_reply.started": "2022-01-31T04:16:29.447598Z"
    }
   },
   "outputs": [],
   "source": [
    "clustered_NH_ids = contacts_df['nanoHUB_user_ID__c'][clustered]\n",
    "self_study_NH_ids = contacts_df['nanoHUB_user_ID__c'][self_study]"
   ]
  },
  {
   "cell_type": "code",
   "execution_count": 16,
   "metadata": {
    "execution": {
     "iopub.execute_input": "2022-01-31T04:16:29.493287Z",
     "iopub.status.busy": "2022-01-31T04:16:29.492187Z",
     "iopub.status.idle": "2022-01-31T04:16:29.500618Z",
     "shell.execute_reply": "2022-01-31T04:16:29.499330Z",
     "shell.execute_reply.started": "2022-01-31T04:16:29.493244Z"
    }
   },
   "outputs": [
    {
     "name": "stdout",
     "output_type": "stream",
     "text": [
      "(1680,)\n",
      "(250415,)\n"
     ]
    }
   ],
   "source": [
    "print(clustered_NH_ids.shape)\n",
    "print(self_study_NH_ids.shape)"
   ]
  },
  {
   "cell_type": "code",
   "execution_count": 17,
   "metadata": {
    "execution": {
     "iopub.execute_input": "2022-01-31T04:16:29.503814Z",
     "iopub.status.busy": "2022-01-31T04:16:29.502801Z",
     "iopub.status.idle": "2022-01-31T04:16:29.508102Z",
     "shell.execute_reply": "2022-01-31T04:16:29.507362Z",
     "shell.execute_reply.started": "2022-01-31T04:16:29.503760Z"
    }
   },
   "outputs": [],
   "source": [
    "## need to filter self-study-nh-ids with the researchers"
   ]
  },
  {
   "cell_type": "code",
   "execution_count": 18,
   "metadata": {
    "execution": {
     "iopub.execute_input": "2022-01-31T04:16:29.510905Z",
     "iopub.status.busy": "2022-01-31T04:16:29.509934Z",
     "iopub.status.idle": "2022-01-31T04:16:29.515556Z",
     "shell.execute_reply": "2022-01-31T04:16:29.513925Z",
     "shell.execute_reply.started": "2022-01-31T04:16:29.510866Z"
    }
   },
   "outputs": [],
   "source": [
    "## This researcher determination is based entirely on the results of research authors on nanohub\n",
    "## i.e., we use the researcher information on db2"
   ]
  },
  {
   "cell_type": "code",
   "execution_count": 19,
   "metadata": {
    "execution": {
     "iopub.execute_input": "2022-01-31T04:16:29.517818Z",
     "iopub.status.busy": "2022-01-31T04:16:29.516889Z",
     "iopub.status.idle": "2022-01-31T04:16:30.136202Z",
     "shell.execute_reply": "2022-01-31T04:16:30.134841Z",
     "shell.execute_reply.started": "2022-01-31T04:16:29.517769Z"
    }
   },
   "outputs": [
    {
     "data": {
      "text/html": [
       "<div>\n",
       "<style scoped>\n",
       "    .dataframe tbody tr th:only-of-type {\n",
       "        vertical-align: middle;\n",
       "    }\n",
       "\n",
       "    .dataframe tbody tr th {\n",
       "        vertical-align: top;\n",
       "    }\n",
       "\n",
       "    .dataframe thead th {\n",
       "        text-align: right;\n",
       "    }\n",
       "</style>\n",
       "<table border=\"1\" class=\"dataframe\">\n",
       "  <thead>\n",
       "    <tr style=\"text-align: right;\">\n",
       "      <th></th>\n",
       "      <th>id</th>\n",
       "      <th>uid</th>\n",
       "      <th>author</th>\n",
       "    </tr>\n",
       "  </thead>\n",
       "  <tbody>\n",
       "    <tr>\n",
       "      <th>0</th>\n",
       "      <td>10000001</td>\n",
       "      <td>5568</td>\n",
       "      <td>Weber, Bent; Mahapatra, Suddhasatta; Ryu, Hoon...</td>\n",
       "    </tr>\n",
       "    <tr>\n",
       "      <th>1</th>\n",
       "      <td>10000002</td>\n",
       "      <td>5568</td>\n",
       "      <td>Andrawis, Robert; Bermeo, Jose; Charles, James...</td>\n",
       "    </tr>\n",
       "  </tbody>\n",
       "</table>\n",
       "</div>"
      ],
      "text/plain": [
       "         id   uid                                             author\n",
       "0  10000001  5568  Weber, Bent; Mahapatra, Suddhasatta; Ryu, Hoon...\n",
       "1  10000002  5568  Andrawis, Robert; Bermeo, Jose; Charles, James..."
      ]
     },
     "metadata": {},
     "output_type": "display_data"
    },
    {
     "name": "stdout",
     "output_type": "stream",
     "text": [
      "(4193, 3)\n"
     ]
    }
   ],
   "source": [
    "sql_query = 'select id, uid, author from jos_citations'\n",
    "jos_citations = pd.read_sql_query(sql_query, nanohub_db)\n",
    "display(jos_citations.head(2))\n",
    "print(jos_citations.shape)"
   ]
  },
  {
   "cell_type": "code",
   "execution_count": 20,
   "metadata": {
    "execution": {
     "iopub.execute_input": "2022-01-31T04:16:30.138928Z",
     "iopub.status.busy": "2022-01-31T04:16:30.138297Z",
     "iopub.status.idle": "2022-01-31T04:16:30.147675Z",
     "shell.execute_reply": "2022-01-31T04:16:30.146272Z",
     "shell.execute_reply.started": "2022-01-31T04:16:30.138894Z"
    }
   },
   "outputs": [],
   "source": [
    "t1_authors = jos_citations['author'].to_list()\n",
    "t1_authors2 = [] #[j.split(';') for i,j in enumerate(t1_authors)]"
   ]
  },
  {
   "cell_type": "code",
   "execution_count": 21,
   "metadata": {
    "execution": {
     "iopub.execute_input": "2022-01-31T04:16:30.154481Z",
     "iopub.status.busy": "2022-01-31T04:16:30.152190Z",
     "iopub.status.idle": "2022-01-31T04:16:30.172308Z",
     "shell.execute_reply": "2022-01-31T04:16:30.170560Z",
     "shell.execute_reply.started": "2022-01-31T04:16:30.154328Z"
    }
   },
   "outputs": [],
   "source": [
    "for i,j in enumerate(t1_authors):\n",
    "    try:\n",
    "        holder = j.split(';')\n",
    "        if len(holder) > 1: \n",
    "            for k,l in enumerate(holder):\n",
    "                if l[0] == ' ':\n",
    "                    holder[k] = l[1:]\n",
    "        t1_authors2.append(holder)\n",
    "    except:\n",
    "        garb = True"
   ]
  },
  {
   "cell_type": "code",
   "execution_count": 22,
   "metadata": {
    "execution": {
     "iopub.execute_input": "2022-01-31T04:16:30.175335Z",
     "iopub.status.busy": "2022-01-31T04:16:30.173934Z",
     "iopub.status.idle": "2022-01-31T04:16:30.189391Z",
     "shell.execute_reply": "2022-01-31T04:16:30.187399Z",
     "shell.execute_reply.started": "2022-01-31T04:16:30.175288Z"
    }
   },
   "outputs": [
    {
     "name": "stdout",
     "output_type": "stream",
     "text": [
      "6829\n"
     ]
    }
   ],
   "source": [
    "t1_authors3 = [item for sublist in t1_authors2 for item in sublist]\n",
    "t1_authors3 = set(t1_authors3)\n",
    "print(len(t1_authors3))"
   ]
  },
  {
   "cell_type": "code",
   "execution_count": 23,
   "metadata": {
    "execution": {
     "iopub.execute_input": "2022-01-31T04:16:30.193216Z",
     "iopub.status.busy": "2022-01-31T04:16:30.191833Z",
     "iopub.status.idle": "2022-01-31T04:16:30.206029Z",
     "shell.execute_reply": "2022-01-31T04:16:30.204645Z",
     "shell.execute_reply.started": "2022-01-31T04:16:30.193172Z"
    }
   },
   "outputs": [],
   "source": [
    "## extract all researchers with nh ids\n",
    "rw_ids = []\n",
    "need_search = []\n",
    "for i,j in enumerate(t1_authors3):\n",
    "    if '{{' in j:\n",
    "        rw_ids.append(i)\n",
    "    else:\n",
    "        need_search.append(i)"
   ]
  },
  {
   "cell_type": "code",
   "execution_count": 24,
   "metadata": {
    "execution": {
     "iopub.execute_input": "2022-01-31T04:16:30.210112Z",
     "iopub.status.busy": "2022-01-31T04:16:30.209017Z",
     "iopub.status.idle": "2022-01-31T04:16:30.230343Z",
     "shell.execute_reply": "2022-01-31T04:16:30.228505Z",
     "shell.execute_reply.started": "2022-01-31T04:16:30.210072Z"
    }
   },
   "outputs": [
    {
     "name": "stdout",
     "output_type": "stream",
     "text": [
      "2079\n"
     ]
    }
   ],
   "source": [
    "## from the rw_ids, extract the nanohub userids\n",
    "# can obtain usernames from the DB2 table\n",
    "rw_ids2 = np.array(list(t1_authors3))[rw_ids]\n",
    "for i,j in enumerate(rw_ids2):\n",
    "    begin = j.index('{{')\n",
    "    rw_ids2[i] = j[begin+2:-2]\n",
    "print(len(rw_ids2))"
   ]
  },
  {
   "cell_type": "code",
   "execution_count": 25,
   "metadata": {
    "execution": {
     "iopub.execute_input": "2022-01-31T04:16:30.233685Z",
     "iopub.status.busy": "2022-01-31T04:16:30.232243Z",
     "iopub.status.idle": "2022-01-31T04:16:30.468788Z",
     "shell.execute_reply": "2022-01-31T04:16:30.467758Z",
     "shell.execute_reply.started": "2022-01-31T04:16:30.233572Z"
    }
   },
   "outputs": [
    {
     "data": {
      "text/html": [
       "<div>\n",
       "<style scoped>\n",
       "    .dataframe tbody tr th:only-of-type {\n",
       "        vertical-align: middle;\n",
       "    }\n",
       "\n",
       "    .dataframe tbody tr th {\n",
       "        vertical-align: top;\n",
       "    }\n",
       "\n",
       "    .dataframe thead th {\n",
       "        text-align: right;\n",
       "    }\n",
       "</style>\n",
       "<table border=\"1\" class=\"dataframe\">\n",
       "  <thead>\n",
       "    <tr style=\"text-align: right;\">\n",
       "      <th></th>\n",
       "      <th>id</th>\n",
       "      <th>name</th>\n",
       "      <th>username</th>\n",
       "    </tr>\n",
       "  </thead>\n",
       "  <tbody>\n",
       "    <tr>\n",
       "      <th>0</th>\n",
       "      <td>1742</td>\n",
       "      <td>H.-S. Philip Wong</td>\n",
       "      <td>hspwong</td>\n",
       "    </tr>\n",
       "    <tr>\n",
       "      <th>1</th>\n",
       "      <td>1767</td>\n",
       "      <td>Osama Munir Nayfeh</td>\n",
       "      <td>onayfeh</td>\n",
       "    </tr>\n",
       "  </tbody>\n",
       "</table>\n",
       "</div>"
      ],
      "text/plain": [
       "     id                name username\n",
       "0  1742   H.-S. Philip Wong  hspwong\n",
       "1  1767  Osama Munir Nayfeh  onayfeh"
      ]
     },
     "metadata": {},
     "output_type": "display_data"
    }
   ],
   "source": [
    "# need to obtain usernames\n",
    "sql_query = \"select id,name,username from jos_users where id in \"+str(tuple(rw_ids2))\n",
    "rw_researchers = pd.read_sql_query(sql_query,nanohub_db)\n",
    "display(rw_researchers.head(2))"
   ]
  },
  {
   "cell_type": "code",
   "execution_count": 26,
   "metadata": {
    "execution": {
     "iopub.execute_input": "2022-01-31T04:16:30.470785Z",
     "iopub.status.busy": "2022-01-31T04:16:30.470422Z",
     "iopub.status.idle": "2022-01-31T04:16:30.477734Z",
     "shell.execute_reply": "2022-01-31T04:16:30.476843Z",
     "shell.execute_reply.started": "2022-01-31T04:16:30.470756Z"
    }
   },
   "outputs": [],
   "source": [
    "## need to obtain the username/ids from those people without nh ids explicitly spec'd in jos_citations\n",
    "ns2 = np.array(list(t1_authors3))[need_search]\n",
    "ns2 = ns2[1:]"
   ]
  },
  {
   "cell_type": "code",
   "execution_count": 27,
   "metadata": {
    "execution": {
     "iopub.execute_input": "2022-01-31T04:16:30.479221Z",
     "iopub.status.busy": "2022-01-31T04:16:30.478779Z",
     "iopub.status.idle": "2022-01-31T04:16:30.492873Z",
     "shell.execute_reply": "2022-01-31T04:16:30.491603Z",
     "shell.execute_reply.started": "2022-01-31T04:16:30.479189Z"
    }
   },
   "outputs": [
    {
     "data": {
      "text/plain": [
       "('Sunhee Lee',\n",
       " 'M.S. Wartak',\n",
       " 'Yudith Cardinale',\n",
       " 'A. Moholkar',\n",
       " 'Michael J. McLennan')"
      ]
     },
     "execution_count": 27,
     "metadata": {},
     "output_type": "execute_result"
    }
   ],
   "source": [
    "tuple(ns2)[:5]"
   ]
  },
  {
   "cell_type": "code",
   "execution_count": 28,
   "metadata": {
    "execution": {
     "iopub.execute_input": "2022-01-31T04:16:30.497491Z",
     "iopub.status.busy": "2022-01-31T04:16:30.495994Z",
     "iopub.status.idle": "2022-01-31T04:16:30.762063Z",
     "shell.execute_reply": "2022-01-31T04:16:30.760873Z",
     "shell.execute_reply.started": "2022-01-31T04:16:30.497358Z"
    }
   },
   "outputs": [
    {
     "data": {
      "text/html": [
       "<div>\n",
       "<style scoped>\n",
       "    .dataframe tbody tr th:only-of-type {\n",
       "        vertical-align: middle;\n",
       "    }\n",
       "\n",
       "    .dataframe tbody tr th {\n",
       "        vertical-align: top;\n",
       "    }\n",
       "\n",
       "    .dataframe thead th {\n",
       "        text-align: right;\n",
       "    }\n",
       "</style>\n",
       "<table border=\"1\" class=\"dataframe\">\n",
       "  <thead>\n",
       "    <tr style=\"text-align: right;\">\n",
       "      <th></th>\n",
       "      <th>id</th>\n",
       "      <th>name</th>\n",
       "      <th>username</th>\n",
       "    </tr>\n",
       "  </thead>\n",
       "  <tbody>\n",
       "    <tr>\n",
       "      <th>0</th>\n",
       "      <td>282167</td>\n",
       "      <td>Aarthi Narayanan</td>\n",
       "      <td>aarthin0102</td>\n",
       "    </tr>\n",
       "    <tr>\n",
       "      <th>1</th>\n",
       "      <td>280280</td>\n",
       "      <td>Abani Patra</td>\n",
       "      <td>apatra01</td>\n",
       "    </tr>\n",
       "  </tbody>\n",
       "</table>\n",
       "</div>"
      ],
      "text/plain": [
       "       id              name     username\n",
       "0  282167  Aarthi Narayanan  aarthin0102\n",
       "1  280280       Abani Patra     apatra01"
      ]
     },
     "metadata": {},
     "output_type": "display_data"
    }
   ],
   "source": [
    "sql_query = \"select id,name,username from jos_users where name in \"+str(tuple(ns2))\n",
    "ns2_researchers = pd.read_sql_query(sql_query,nanohub_db)\n",
    "display(ns2_researchers.head(2))"
   ]
  },
  {
   "cell_type": "code",
   "execution_count": 29,
   "metadata": {
    "execution": {
     "iopub.execute_input": "2022-01-31T04:16:30.763897Z",
     "iopub.status.busy": "2022-01-31T04:16:30.763540Z",
     "iopub.status.idle": "2022-01-31T04:16:30.769797Z",
     "shell.execute_reply": "2022-01-31T04:16:30.768192Z",
     "shell.execute_reply.started": "2022-01-31T04:16:30.763869Z"
    }
   },
   "outputs": [
    {
     "name": "stdout",
     "output_type": "stream",
     "text": [
      "2988\n"
     ]
    }
   ],
   "source": [
    "## combine the usernames into one data structure\n",
    "researcher_usernames = rw_researchers['username'].to_list() + ns2_researchers['username'].to_list()\n",
    "print(len(researcher_usernames))"
   ]
  },
  {
   "cell_type": "code",
   "execution_count": 30,
   "metadata": {
    "execution": {
     "iopub.execute_input": "2022-01-31T04:16:30.771793Z",
     "iopub.status.busy": "2022-01-31T04:16:30.771130Z",
     "iopub.status.idle": "2022-01-31T04:16:30.777096Z",
     "shell.execute_reply": "2022-01-31T04:16:30.775648Z",
     "shell.execute_reply.started": "2022-01-31T04:16:30.771759Z"
    }
   },
   "outputs": [],
   "source": [
    "researcher_track = []"
   ]
  },
  {
   "cell_type": "code",
   "execution_count": 31,
   "metadata": {
    "execution": {
     "iopub.execute_input": "2022-01-31T04:16:30.780850Z",
     "iopub.status.busy": "2022-01-31T04:16:30.779933Z",
     "iopub.status.idle": "2022-01-31T04:16:30.789053Z",
     "shell.execute_reply": "2022-01-31T04:16:30.787650Z",
     "shell.execute_reply.started": "2022-01-31T04:16:30.780814Z"
    }
   },
   "outputs": [
    {
     "name": "stdout",
     "output_type": "stream",
     "text": [
      "2022-01-31 04:16:30.783588\n"
     ]
    }
   ],
   "source": [
    "today = datetime.datetime.today()\n",
    "print(today)"
   ]
  },
  {
   "cell_type": "code",
   "execution_count": 32,
   "metadata": {
    "execution": {
     "iopub.execute_input": "2022-01-31T04:16:30.791614Z",
     "iopub.status.busy": "2022-01-31T04:16:30.791068Z",
     "iopub.status.idle": "2022-01-31T04:16:30.811532Z",
     "shell.execute_reply": "2022-01-31T04:16:30.810755Z",
     "shell.execute_reply.started": "2022-01-31T04:16:30.791578Z"
    }
   },
   "outputs": [
    {
     "name": "stdout",
     "output_type": "stream",
     "text": [
      "     Unnamed: 0  year_month  clustered_track  self_track  researcher_track  \\\n",
      "0             0  2000-01-01                0           0                 0   \n",
      "1             1  2000-02-01                0           0                 0   \n",
      "2             2  2000-03-01               19          38                 8   \n",
      "3             3  2000-04-01               28          43                11   \n",
      "4             4  2000-05-01               35          52                13   \n",
      "..          ...         ...              ...         ...               ...   \n",
      "255         255  2021-04-01             8965       14793               270   \n",
      "256         256  2021-05-01             8522       14856               259   \n",
      "257         257  2021-06-01             7837       15230               253   \n",
      "258         258  2021-07-01             7512       15069               255   \n",
      "259         259  2021-08-01             7381       15225               254   \n",
      "\n",
      "     clustered_track_per  researcher_track_per  self_track_per  \n",
      "0                    NaN                   NaN             NaN  \n",
      "1                    NaN                   NaN             NaN  \n",
      "2              29.230769             12.307692       58.461538  \n",
      "3              34.146341             13.414634       52.439024  \n",
      "4              35.000000             13.000000       52.000000  \n",
      "..                   ...                   ...             ...  \n",
      "255            37.310638              1.123689       61.565673  \n",
      "256            36.053645              1.095740       62.850616  \n",
      "257            33.606346              1.084906       65.308748  \n",
      "258            32.895428              1.116658       65.987914  \n",
      "259            32.287839              1.111111       66.601050  \n",
      "\n",
      "[260 rows x 8 columns]\n"
     ]
    }
   ],
   "source": [
    "## caching check \n",
    "try:\n",
    "    user_breakdown_df = pd.read_csv(cwd+'/cached_data/nh_user_breakdown.csv')\n",
    "    print(user_breakdown_df)\n",
    "    cache_flag = True\n",
    "except:\n",
    "    cache_flag = False"
   ]
  },
  {
   "cell_type": "code",
   "execution_count": 60,
   "metadata": {
    "execution": {
     "iopub.execute_input": "2022-01-31T04:28:25.195117Z",
     "iopub.status.busy": "2022-01-31T04:28:25.194845Z",
     "iopub.status.idle": "2022-01-31T04:28:25.203371Z",
     "shell.execute_reply": "2022-01-31T04:28:25.201567Z",
     "shell.execute_reply.started": "2022-01-31T04:28:25.195094Z"
    },
    "tags": []
   },
   "outputs": [],
   "source": [
    "## determine starting year\n",
    "#if cache_flag == False:\n",
    "start_year_base = 1999 #2000\n",
    "#else:\n",
    "#     print('check the saved file')\n",
    "#    start_year_base = int(user_breakdown_df['year_month'].to_list()[-1][:4])\n",
    "    \n",
    "    "
   ]
  },
  {
   "cell_type": "code",
   "execution_count": 61,
   "metadata": {
    "execution": {
     "iopub.execute_input": "2022-01-31T04:28:28.628556Z",
     "iopub.status.busy": "2022-01-31T04:28:28.628235Z",
     "iopub.status.idle": "2022-01-31T04:28:28.638283Z",
     "shell.execute_reply": "2022-01-31T04:28:28.634244Z",
     "shell.execute_reply.started": "2022-01-31T04:28:28.628531Z"
    },
    "tags": []
   },
   "outputs": [
    {
     "name": "stdout",
     "output_type": "stream",
     "text": [
      "2021\n"
     ]
    }
   ],
   "source": [
    "print(user_breakdown_df['year_month'].to_list()[-1][:4])"
   ]
  },
  {
   "cell_type": "code",
   "execution_count": 62,
   "metadata": {
    "execution": {
     "iopub.execute_input": "2022-01-31T04:28:29.241292Z",
     "iopub.status.busy": "2022-01-31T04:28:29.241052Z",
     "iopub.status.idle": "2022-01-31T04:28:29.248802Z",
     "shell.execute_reply": "2022-01-31T04:28:29.246947Z",
     "shell.execute_reply.started": "2022-01-31T04:28:29.241269Z"
    },
    "tags": []
   },
   "outputs": [],
   "source": [
    "from copy import deepcopy"
   ]
  },
  {
   "cell_type": "code",
   "execution_count": 63,
   "metadata": {
    "execution": {
     "iopub.execute_input": "2022-01-31T04:28:34.228920Z",
     "iopub.status.busy": "2022-01-31T04:28:34.228652Z",
     "iopub.status.idle": "2022-01-31T04:55:23.286907Z",
     "shell.execute_reply": "2022-01-31T04:55:23.284582Z",
     "shell.execute_reply.started": "2022-01-31T04:28:34.228890Z"
    },
    "tags": []
   },
   "outputs": [
    {
     "name": "stdout",
     "output_type": "stream",
     "text": [
      "start year: 2000\n",
      "start year: 2001\n",
      "start year: 2002\n",
      "start year: 2003\n",
      "start year: 2004\n",
      "start year: 2005\n",
      "start year: 2006\n",
      "start year: 2007\n",
      "start year: 2008\n",
      "start year: 2009\n",
      "start year: 2010\n",
      "start year: 2011\n",
      "start year: 2012\n",
      "start year: 2013\n",
      "start year: 2014\n",
      "start year: 2015\n",
      "start year: 2016\n",
      "start year: 2017\n",
      "start year: 2018\n",
      "start year: 2019\n",
      "start year: 2020\n",
      "start year: 2021\n",
      "start year: 2022\n",
      "start year: 2023\n"
     ]
    }
   ],
   "source": [
    "## computer has memory limits, so split toolstart into branches\n",
    "# this filters and finds the research usage in nanohub\n",
    "start_year = deepcopy(start_year_base)\n",
    "while start_year < today.year+1:\n",
    "    start_year += 1\n",
    "    end_date = r\"'\"+str(start_year)+r\"-01-01'\"\n",
    "    start_date = r\"'\"+str(start_year-2)+r\"-01-01'\"\n",
    "    \n",
    "    for i in range(1,13):\n",
    "        if i < 10:\n",
    "            start_date = r\"'\"+str(start_year-1)+r\"-0\"+str(i)+r\"-01'\"\n",
    "            end_date = r\"'\"+str(start_year)+r\"-0\"+str(i)+r\"-01'\"\n",
    "        else:\n",
    "            start_date = r\"'\"+str(start_year-1)+r\"-\"+str(i)+r\"-01'\"\n",
    "            end_date = r\"'\"+str(start_year)+r\"-\"+str(i)+r\"-01'\"\n",
    "\n",
    "        sql_query_researcher = \"select user from toolstart where user in \" + str(tuple(researcher_usernames))\\\n",
    "            +\" and datetime <= \"+end_date+\" and datetime >= \"+start_date\n",
    "        researcher_users = pd.read_sql_query(sql_query_researcher, nanohub_metrics_db)\n",
    "\n",
    "        researcher_track.append(researcher_users.drop_duplicates().shape[0])\n",
    "\n",
    "    print('start year: '+ str(start_year))"
   ]
  },
  {
   "cell_type": "code",
   "execution_count": 64,
   "metadata": {
    "execution": {
     "iopub.execute_input": "2022-01-31T04:55:23.289687Z",
     "iopub.status.busy": "2022-01-31T04:55:23.288982Z",
     "iopub.status.idle": "2022-01-31T04:55:23.298560Z",
     "shell.execute_reply": "2022-01-31T04:55:23.297420Z",
     "shell.execute_reply.started": "2022-01-31T04:55:23.289639Z"
    },
    "tags": []
   },
   "outputs": [],
   "source": [
    "## filter the self study folks against those of researchers\n",
    "# need to pull the researcher sf ids"
   ]
  },
  {
   "cell_type": "code",
   "execution_count": 65,
   "metadata": {
    "execution": {
     "iopub.execute_input": "2022-01-31T04:55:23.303750Z",
     "iopub.status.busy": "2022-01-31T04:55:23.302327Z",
     "iopub.status.idle": "2022-01-31T04:55:23.325685Z",
     "shell.execute_reply": "2022-01-31T04:55:23.322692Z",
     "shell.execute_reply.started": "2022-01-31T04:55:23.303691Z"
    },
    "tags": []
   },
   "outputs": [
    {
     "name": "stdout",
     "output_type": "stream",
     "text": [
      "2988\n"
     ]
    }
   ],
   "source": [
    "researcher_ids = rw_researchers['id'].to_list() + ns2_researchers['id'].to_list()\n",
    "print(len(researcher_ids))"
   ]
  },
  {
   "cell_type": "code",
   "execution_count": 66,
   "metadata": {
    "execution": {
     "iopub.execute_input": "2022-01-31T04:55:23.330694Z",
     "iopub.status.busy": "2022-01-31T04:55:23.328961Z",
     "iopub.status.idle": "2022-01-31T04:55:23.383469Z",
     "shell.execute_reply": "2022-01-31T04:55:23.382319Z",
     "shell.execute_reply.started": "2022-01-31T04:55:23.330640Z"
    },
    "tags": []
   },
   "outputs": [],
   "source": [
    "bool_search2 = np.in1d(np.array(self_study_NH_ids.to_list()),np.array(researcher_ids))"
   ]
  },
  {
   "cell_type": "code",
   "execution_count": 67,
   "metadata": {
    "execution": {
     "iopub.execute_input": "2022-01-31T04:55:23.385345Z",
     "iopub.status.busy": "2022-01-31T04:55:23.384639Z",
     "iopub.status.idle": "2022-01-31T04:55:23.409690Z",
     "shell.execute_reply": "2022-01-31T04:55:23.408558Z",
     "shell.execute_reply.started": "2022-01-31T04:55:23.385302Z"
    },
    "tags": []
   },
   "outputs": [],
   "source": [
    "# Note, researchers can possibly be doubled counted within clusters!!\n",
    "# sf_researchers = np.where(bool_search2)[0].tolist() \n",
    "sf_self_study = np.where(~bool_search2)[0].tolist()"
   ]
  },
  {
   "cell_type": "code",
   "execution_count": 68,
   "metadata": {
    "execution": {
     "iopub.execute_input": "2022-01-31T04:55:23.412222Z",
     "iopub.status.busy": "2022-01-31T04:55:23.410944Z",
     "iopub.status.idle": "2022-01-31T04:55:23.437008Z",
     "shell.execute_reply": "2022-01-31T04:55:23.433136Z",
     "shell.execute_reply.started": "2022-01-31T04:55:23.412174Z"
    },
    "tags": []
   },
   "outputs": [
    {
     "name": "stdout",
     "output_type": "stream",
     "text": [
      "247645\n",
      "250415\n"
     ]
    }
   ],
   "source": [
    "print(len(sf_self_study))\n",
    "print(len(self_study_NH_ids.to_list()))"
   ]
  },
  {
   "cell_type": "code",
   "execution_count": 69,
   "metadata": {
    "execution": {
     "iopub.execute_input": "2022-01-31T04:55:23.440680Z",
     "iopub.status.busy": "2022-01-31T04:55:23.438699Z",
     "iopub.status.idle": "2022-01-31T04:55:23.496723Z",
     "shell.execute_reply": "2022-01-31T04:55:23.495646Z",
     "shell.execute_reply.started": "2022-01-31T04:55:23.440610Z"
    },
    "tags": []
   },
   "outputs": [],
   "source": [
    "sf_contact_ids = contacts_df['nanoHUB_user_ID__c'][sf_self_study]"
   ]
  },
  {
   "cell_type": "code",
   "execution_count": 70,
   "metadata": {
    "execution": {
     "iopub.execute_input": "2022-01-31T04:55:23.498923Z",
     "iopub.status.busy": "2022-01-31T04:55:23.497850Z",
     "iopub.status.idle": "2022-01-31T04:55:23.530920Z",
     "shell.execute_reply": "2022-01-31T04:55:23.526234Z",
     "shell.execute_reply.started": "2022-01-31T04:55:23.498768Z"
    },
    "tags": []
   },
   "outputs": [
    {
     "data": {
      "text/html": [
       "<div>\n",
       "<style scoped>\n",
       "    .dataframe tbody tr th:only-of-type {\n",
       "        vertical-align: middle;\n",
       "    }\n",
       "\n",
       "    .dataframe tbody tr th {\n",
       "        vertical-align: top;\n",
       "    }\n",
       "\n",
       "    .dataframe thead th {\n",
       "        text-align: right;\n",
       "    }\n",
       "</style>\n",
       "<table border=\"1\" class=\"dataframe\">\n",
       "  <thead>\n",
       "    <tr style=\"text-align: right;\">\n",
       "      <th></th>\n",
       "      <th>nanoHUB_user_ID__c</th>\n",
       "    </tr>\n",
       "  </thead>\n",
       "  <tbody>\n",
       "    <tr>\n",
       "      <th>0</th>\n",
       "      <td>998.0</td>\n",
       "    </tr>\n",
       "    <tr>\n",
       "      <th>1</th>\n",
       "      <td>1683.0</td>\n",
       "    </tr>\n",
       "    <tr>\n",
       "      <th>2</th>\n",
       "      <td>1684.0</td>\n",
       "    </tr>\n",
       "    <tr>\n",
       "      <th>3</th>\n",
       "      <td>1685.0</td>\n",
       "    </tr>\n",
       "    <tr>\n",
       "      <th>4</th>\n",
       "      <td>1686.0</td>\n",
       "    </tr>\n",
       "    <tr>\n",
       "      <th>...</th>\n",
       "      <td>...</td>\n",
       "    </tr>\n",
       "    <tr>\n",
       "      <th>247640</th>\n",
       "      <td>343655.0</td>\n",
       "    </tr>\n",
       "    <tr>\n",
       "      <th>247641</th>\n",
       "      <td>343656.0</td>\n",
       "    </tr>\n",
       "    <tr>\n",
       "      <th>247642</th>\n",
       "      <td>343657.0</td>\n",
       "    </tr>\n",
       "    <tr>\n",
       "      <th>247643</th>\n",
       "      <td>343658.0</td>\n",
       "    </tr>\n",
       "    <tr>\n",
       "      <th>247644</th>\n",
       "      <td>343659.0</td>\n",
       "    </tr>\n",
       "  </tbody>\n",
       "</table>\n",
       "<p>247645 rows × 1 columns</p>\n",
       "</div>"
      ],
      "text/plain": [
       "        nanoHUB_user_ID__c\n",
       "0                    998.0\n",
       "1                   1683.0\n",
       "2                   1684.0\n",
       "3                   1685.0\n",
       "4                   1686.0\n",
       "...                    ...\n",
       "247640            343655.0\n",
       "247641            343656.0\n",
       "247642            343657.0\n",
       "247643            343658.0\n",
       "247644            343659.0\n",
       "\n",
       "[247645 rows x 1 columns]"
      ]
     },
     "metadata": {},
     "output_type": "display_data"
    }
   ],
   "source": [
    "sf_contact_ids = sf_contact_ids.reset_index()\n",
    "sf_contact_ids = sf_contact_ids.drop(columns='index')\n",
    "display(sf_contact_ids)"
   ]
  },
  {
   "cell_type": "code",
   "execution_count": 71,
   "metadata": {
    "execution": {
     "iopub.execute_input": "2022-01-31T04:55:23.533718Z",
     "iopub.status.busy": "2022-01-31T04:55:23.533421Z",
     "iopub.status.idle": "2022-01-31T04:55:23.578956Z",
     "shell.execute_reply": "2022-01-31T04:55:23.576513Z",
     "shell.execute_reply.started": "2022-01-31T04:55:23.533677Z"
    },
    "tags": []
   },
   "outputs": [
    {
     "data": {
      "text/plain": [
       "(998.0, 1683.0, 1684.0, 1685.0, 1686.0)"
      ]
     },
     "execution_count": 71,
     "metadata": {},
     "output_type": "execute_result"
    }
   ],
   "source": [
    "tuple(sf_contact_ids['nanoHUB_user_ID__c'])[:5]"
   ]
  },
  {
   "cell_type": "code",
   "execution_count": 72,
   "metadata": {
    "execution": {
     "iopub.execute_input": "2022-01-31T04:55:23.593307Z",
     "iopub.status.busy": "2022-01-31T04:55:23.591044Z",
     "iopub.status.idle": "2022-01-31T04:55:23.627944Z",
     "shell.execute_reply": "2022-01-31T04:55:23.624763Z",
     "shell.execute_reply.started": "2022-01-31T04:55:23.593245Z"
    },
    "tags": []
   },
   "outputs": [
    {
     "data": {
      "text/plain": [
       "(998.0, 1683.0, 1684.0, 1685.0, 1686.0)"
      ]
     },
     "execution_count": 72,
     "metadata": {},
     "output_type": "execute_result"
    }
   ],
   "source": [
    "tuple(self_study_NH_ids.dropna().to_list())[:5]"
   ]
  },
  {
   "cell_type": "code",
   "execution_count": 73,
   "metadata": {
    "execution": {
     "iopub.execute_input": "2022-01-31T04:55:23.630587Z",
     "iopub.status.busy": "2022-01-31T04:55:23.630054Z",
     "iopub.status.idle": "2022-01-31T04:55:23.645630Z",
     "shell.execute_reply": "2022-01-31T04:55:23.640816Z",
     "shell.execute_reply.started": "2022-01-31T04:55:23.630535Z"
    },
    "tags": []
   },
   "outputs": [],
   "source": [
    "## loading in toolstart"
   ]
  },
  {
   "cell_type": "code",
   "execution_count": 74,
   "metadata": {
    "execution": {
     "iopub.execute_input": "2022-01-31T04:55:23.650762Z",
     "iopub.status.busy": "2022-01-31T04:55:23.650293Z",
     "iopub.status.idle": "2022-01-31T04:55:23.852522Z",
     "shell.execute_reply": "2022-01-31T04:55:23.851010Z",
     "shell.execute_reply.started": "2022-01-31T04:55:23.650698Z"
    },
    "tags": []
   },
   "outputs": [],
   "source": [
    "# clustered user usernames\n",
    "tc_query = 'select id,username from jos_users where id in ' +str(tuple(clustered_NH_ids))\n",
    "clustered_NH_username = pd.read_sql_query(tc_query,nanohub_db)"
   ]
  },
  {
   "cell_type": "code",
   "execution_count": 75,
   "metadata": {
    "execution": {
     "iopub.execute_input": "2022-01-31T04:55:23.854854Z",
     "iopub.status.busy": "2022-01-31T04:55:23.853967Z",
     "iopub.status.idle": "2022-01-31T04:55:31.491480Z",
     "shell.execute_reply": "2022-01-31T04:55:31.490631Z",
     "shell.execute_reply.started": "2022-01-31T04:55:23.854363Z"
    },
    "tags": []
   },
   "outputs": [],
   "source": [
    "# self study user usernames\n",
    "ts_query = 'select id,username from jos_users where id in ' + str(tuple(self_study_NH_ids.dropna().to_list())) \n",
    "#sf_contact_ids['nanoHUB_user_ID__c']))\n",
    "ss_NH_username = pd.read_sql_query(ts_query,nanohub_db)"
   ]
  },
  {
   "cell_type": "code",
   "execution_count": 76,
   "metadata": {
    "execution": {
     "iopub.execute_input": "2022-01-31T04:55:31.495390Z",
     "iopub.status.busy": "2022-01-31T04:55:31.492990Z",
     "iopub.status.idle": "2022-01-31T04:55:31.544560Z",
     "shell.execute_reply": "2022-01-31T04:55:31.543603Z",
     "shell.execute_reply.started": "2022-01-31T04:55:31.495312Z"
    },
    "tags": []
   },
   "outputs": [],
   "source": [
    "## cache the researchers, self-study, and clustered users\n",
    "cache_r_nhid = pd.DataFrame()\n",
    "cache_r_nhid['nhid'] = researcher_ids\n",
    "\n",
    "cache_ss_nhid = pd.DataFrame()\n",
    "cache_ss_nhid['nhid'] = ss_NH_username['id']\n",
    "cache_ss_nhid['username'] = ss_NH_username['username']\n",
    "\n",
    "cache_c_nhid = pd.DataFrame()\n",
    "cache_c_nhid['nhid'] = clustered_NH_username['id']\n",
    "cache_c_nhid['username'] = clustered_NH_username['username']"
   ]
  },
  {
   "cell_type": "code",
   "execution_count": 77,
   "metadata": {
    "execution": {
     "iopub.execute_input": "2022-01-31T04:55:31.547612Z",
     "iopub.status.busy": "2022-01-31T04:55:31.546175Z",
     "iopub.status.idle": "2022-01-31T04:55:31.565126Z",
     "shell.execute_reply": "2022-01-31T04:55:31.564082Z",
     "shell.execute_reply.started": "2022-01-31T04:55:31.547528Z"
    },
    "tags": []
   },
   "outputs": [
    {
     "name": "stdout",
     "output_type": "stream",
     "text": [
      "   nhid\n",
      "0  1742\n",
      "1  1767\n",
      "     nhid username\n",
      "0  211547  -100005\n",
      "1  211574  -100024\n",
      "   nhid username\n",
      "0  3013      mmc\n",
      "1  3482    gekco\n"
     ]
    }
   ],
   "source": [
    "print(cache_r_nhid.head(2))\n",
    "print(cache_ss_nhid.head(2))\n",
    "print(cache_c_nhid.head(2))"
   ]
  },
  {
   "cell_type": "code",
   "execution_count": 78,
   "metadata": {
    "execution": {
     "iopub.execute_input": "2022-01-31T04:55:31.568707Z",
     "iopub.status.busy": "2022-01-31T04:55:31.567329Z",
     "iopub.status.idle": "2022-01-31T04:55:34.141293Z",
     "shell.execute_reply": "2022-01-31T04:55:34.140008Z",
     "shell.execute_reply.started": "2022-01-31T04:55:31.568663Z"
    },
    "tags": []
   },
   "outputs": [],
   "source": [
    "cache_r_nhid.to_csv(cwd+'/cached_data/researcher_ids.csv')\n",
    "cache_ss_nhid.to_csv(cwd+'/cached_data/ss_ids.csv')\n",
    "cache_c_nhid.to_csv(cwd+'/cached_data/class_ids.csv')"
   ]
  },
  {
   "cell_type": "code",
   "execution_count": null,
   "metadata": {},
   "outputs": [],
   "source": []
  },
  {
   "cell_type": "code",
   "execution_count": 79,
   "metadata": {
    "execution": {
     "iopub.execute_input": "2022-01-31T04:55:34.147285Z",
     "iopub.status.busy": "2022-01-31T04:55:34.145349Z",
     "iopub.status.idle": "2022-01-31T04:55:34.156759Z",
     "shell.execute_reply": "2022-01-31T04:55:34.154214Z",
     "shell.execute_reply.started": "2022-01-31T04:55:34.147225Z"
    },
    "tags": []
   },
   "outputs": [],
   "source": [
    "# clustered_NH_username2;researcher_NH_username2;self_NH_username2\n",
    "clustered_track = []\n",
    "self_track = []\n",
    "\n",
    "# clustered_track_per = []\n",
    "# self_track_per = []\n",
    "# researcher_track_per = []"
   ]
  },
  {
   "cell_type": "code",
   "execution_count": 80,
   "metadata": {
    "execution": {
     "iopub.execute_input": "2022-01-31T04:55:34.160621Z",
     "iopub.status.busy": "2022-01-31T04:55:34.158865Z",
     "iopub.status.idle": "2022-01-31T04:55:34.177520Z",
     "shell.execute_reply": "2022-01-31T04:55:34.174768Z",
     "shell.execute_reply.started": "2022-01-31T04:55:34.160547Z"
    },
    "tags": []
   },
   "outputs": [
    {
     "data": {
      "text/plain": [
       "(249541, 2)"
      ]
     },
     "execution_count": 80,
     "metadata": {},
     "output_type": "execute_result"
    }
   ],
   "source": [
    "ss_NH_username.shape #old"
   ]
  },
  {
   "cell_type": "code",
   "execution_count": null,
   "metadata": {},
   "outputs": [],
   "source": []
  },
  {
   "cell_type": "code",
   "execution_count": null,
   "metadata": {
    "execution": {
     "iopub.execute_input": "2022-01-31T04:55:34.183491Z",
     "iopub.status.busy": "2022-01-31T04:55:34.180574Z"
    },
    "tags": []
   },
   "outputs": [
    {
     "name": "stdout",
     "output_type": "stream",
     "text": [
      "start year: 2000\n",
      "start year: 2001\n",
      "start year: 2002\n"
     ]
    }
   ],
   "source": [
    "## computer has memory limits, so split toolstart into branches\n",
    "start_year = deepcopy(start_year_base)\n",
    "\n",
    "while start_year < today.year+1:\n",
    "    start_year += 1\n",
    "    \n",
    "    for i in range(1,13):\n",
    "        if i < 10:\n",
    "            start_date = r\"'\"+str(start_year-1)+r\"-0\"+str(i)+r\"-01'\"\n",
    "            end_date = r\"'\"+str(start_year)+r\"-0\"+str(i)+r\"-01'\"\n",
    "        else:\n",
    "            start_date = r\"'\"+str(start_year-1)+r\"-\"+str(i)+r\"-01'\"\n",
    "            end_date = r\"'\"+str(start_year)+r\"-\"+str(i)+r\"-01'\"\n",
    "        \n",
    "#         sql_query_clustered = \"select user from toolstart where user in \" + str(tuple(clustered_NH_username2['username']))\\\n",
    "#             +\" and datetime <= \"+end_date+\" and datetime >= \"+start_date\n",
    "        sql_query_clustered = \"select user from toolstart where user in \" + str(tuple(clustered_NH_username['username']))\\\n",
    "            +\" and datetime <= \"+end_date+\" and datetime >= \"+start_date\n",
    "        clustered_users = pd.read_sql_query(sql_query_clustered, nanohub_metrics_db)\n",
    "        \n",
    "#         sql_query_self = \"select user from toolstart where user in \" + str(tuple(self_NH_username2['username']))\\\n",
    "#             +\" and user != 'instanton' and user != 'gridstat' and datetime <= \"+end_date+\" and datetime >= \"+start_date\n",
    "        sql_query_self = \"select user from toolstart where user in \" + str(tuple(ss_NH_username['username']))\\\n",
    "            +\" and user != 'instanton' and user != 'gridstat' and datetime <= \"+end_date+\" and datetime >= \"+start_date\n",
    "        self_users = pd.read_sql_query(sql_query_self, nanohub_metrics_db) #engine_metrics #.drop_duplicates()\n",
    "        \n",
    "        clustered_track.append(clustered_users.drop_duplicates().shape[0])\n",
    "        self_track.append(self_users.drop_duplicates().shape[0])\n",
    "#         print('start_date: '+start_date)\n",
    "#         print('end_date: '+end_date)  \n",
    "    print('start year: '+str(start_year))"
   ]
  },
  {
   "cell_type": "code",
   "execution_count": null,
   "metadata": {},
   "outputs": [],
   "source": []
  },
  {
   "cell_type": "code",
   "execution_count": null,
   "metadata": {
    "tags": []
   },
   "outputs": [],
   "source": [
    "all_months_list = list()\n",
    "for this_year in range(start_year_base+1,today.year+2):\n",
    "    if cache_flag == True:\n",
    "        for this_month in range(1,today.month+1):\n",
    "            all_months_list.append(datetime.datetime(this_year, this_month, 1))\n",
    "    else:\n",
    "        for this_month in range(1,12+1):\n",
    "            all_months_list.append(datetime.datetime(this_year, this_month, 1))"
   ]
  },
  {
   "cell_type": "code",
   "execution_count": null,
   "metadata": {
    "tags": []
   },
   "outputs": [],
   "source": [
    "print(len(clustered_track))\n",
    "print(len(all_months_list))\n",
    "print(len(researcher_track))"
   ]
  },
  {
   "cell_type": "code",
   "execution_count": null,
   "metadata": {
    "tags": []
   },
   "outputs": [],
   "source": [
    "#print(user_breakdown_df2.head())"
   ]
  },
  {
   "cell_type": "code",
   "execution_count": null,
   "metadata": {
    "tags": []
   },
   "outputs": [],
   "source": [
    "\n",
    "if cache_flag == True:\n",
    "    user_breakdown_df2 = pd.DataFrame()\n",
    "    user_breakdown_df2['year_month'] = all_months_list\n",
    "    user_breakdown_df2['clustered_track'] = clustered_track\n",
    "    user_breakdown_df2['self_track'] = self_track\n",
    "    user_breakdown_df2['researcher_track'] = researcher_track\n",
    "    \n",
    "    user_breakdown_df = pd.concat([user_breakdown_df, user_breakdown_df2], ignore_index=True)\n",
    "    display(user_breakdown_df.head(2))\n",
    "else:\n",
    "    user_breakdown_df = pd.DataFrame()\n",
    "    if today.month == 12:\n",
    "        user_breakdown_df['year_month'] = all_months_list #months_bin['year_month'].to_list()[13:]\n",
    "        user_breakdown_df['clustered_track'] = clustered_track#[:len(all_months_list)]\n",
    "        user_breakdown_df['self_track'] = self_track#[:len(all_months_list)]\n",
    "        user_breakdown_df['researcher_track'] = researcher_track#[:len(all_months_list)]        \n",
    "    else:\n",
    "        user_breakdown_df['year_month'] = all_months_list #-(12-today.month)\n",
    "        user_breakdown_df['clustered_track'] = clustered_track#[:len(all_months_list[:])]\n",
    "        user_breakdown_df['self_track'] = self_track#[:len(all_months_list[:])]\n",
    "        user_breakdown_df['researcher_track'] = researcher_track#[:len(all_months_list[:])]\n",
    "    display(user_breakdown_df.head(2))"
   ]
  },
  {
   "cell_type": "code",
   "execution_count": null,
   "metadata": {
    "tags": []
   },
   "outputs": [],
   "source": [
    "# user_breakdown_df.to_csv(cwd+'/cached_data/temp.csv')"
   ]
  },
  {
   "cell_type": "code",
   "execution_count": null,
   "metadata": {
    "tags": []
   },
   "outputs": [],
   "source": [
    "import re"
   ]
  },
  {
   "cell_type": "code",
   "execution_count": null,
   "metadata": {
    "tags": []
   },
   "outputs": [],
   "source": [
    "## read the dev_flags.txt to determine where to save\n",
    "with open(cwd+'/dev_flags.txt','r') as f:\n",
    "    raw_flags = f.read()\n",
    "flag_pattern = re.compile(r'= \\w+')\n",
    "flags1 = re.findall(flag_pattern,raw_flags)    \n",
    "flags_result = [i[2:] for i in flags1]\n",
    "dev_flag = flags_result[0]\n",
    "prod_flag = flags_result[1]"
   ]
  },
  {
   "cell_type": "code",
   "execution_count": null,
   "metadata": {
    "tags": []
   },
   "outputs": [],
   "source": [
    "import seaborn as sns\n",
    "import matplotlib.pyplot as plt\n",
    "sns.set()\n",
    "sns.set_style(\"whitegrid\")\n",
    "\n",
    "plt.figure(figsize=(9,6))\n",
    "# user_breakdown_df2 = user_breakdown_df.iloc[:-(12-today.month),:]\n",
    "user_breakdown_df2 = user_breakdown_df.iloc[:-12-(12-today.month),:]\n",
    "plt.stackplot(user_breakdown_df2.year_month, \\\n",
    "#               user_breakdown_df2[['clustered_track','self_track']].to_numpy().T, \\\n",
    "#              labels=['Classroom', 'Unclassified'], \\\n",
    "#              colors=['green', 'orange']); #Self-study              \n",
    "              user_breakdown_df2[['clustered_track', 'researcher_track','self_track']].to_numpy().T, \\\n",
    "             labels=['Classroom','Research', 'Unclassified'], \\\n",
    "             colors=['green', 'red', 'orange']); #Self-study\n",
    "\n",
    "plt.legend(loc='upper left')#,fontsize=14);\n",
    "plt.ylabel('12-month Trailing Total')#,fontsize=15)\n",
    "plt.xlim([datetime.datetime(2001,1,1), datetime.datetime(2021,7,1)])#,fontsize=15)\n",
    "# plt.show()\n",
    "\n",
    "if dev_flag == 'True':\n",
    "    plt.savefig(cwd+'/plots_local/simusers_class_res_unclass_12months.eps', dpi=1000, bbox_inches='tight')\n",
    "    plt.savefig(cwd+'/plots_local/simusers_class_res_unclass_12months.pdf', dpi=1000, bbox_inches='tight')\n",
    "    plt.savefig(cwd+'/plots_local/simusers_class_res_unclass_12months.png', dpi=1000, bbox_inches='tight')\n",
    "elif prod_flag == 'True':\n",
    "    plt.savefig(cwd+'/plots_production/simusers_class_res_unclass_12months.eps', dpi=1000, bbox_inches='tight')\n",
    "    plt.savefig(cwd+'/plots_production/simusers_class_res_unclass_12months.pdf', dpi=1000, bbox_inches='tight')\n",
    "    plt.savefig(cwd+'/plots_production/simusers_class_res_unclass_12months.png', dpi=1000, bbox_inches='tight')\n",
    "else:\n",
    "    print('no printing flag is active')"
   ]
  },
  {
   "cell_type": "code",
   "execution_count": null,
   "metadata": {
    "tags": []
   },
   "outputs": [],
   "source": [
    "user_breakdown_df2['clustered_track_per'] = 100*np.divide(user_breakdown_df2['clustered_track'],\\\n",
    "            user_breakdown_df2['clustered_track'].to_numpy()+user_breakdown_df2['researcher_track'].to_numpy()+\\\n",
    "                        user_breakdown_df2['self_track'].to_numpy())\n",
    "user_breakdown_df2['researcher_track_per'] = 100*np.divide(user_breakdown_df2['researcher_track'],\\\n",
    "            user_breakdown_df2['clustered_track'].to_numpy()+user_breakdown_df2['researcher_track'].to_numpy()+\\\n",
    "                        user_breakdown_df2['self_track'].to_numpy())\n",
    "user_breakdown_df2['self_track_per'] = 100*np.divide(user_breakdown_df2['self_track'],\\\n",
    "            user_breakdown_df2['clustered_track'].to_numpy()+user_breakdown_df2['researcher_track'].to_numpy()+\\\n",
    "                        user_breakdown_df2['self_track'].to_numpy())"
   ]
  },
  {
   "cell_type": "code",
   "execution_count": null,
   "metadata": {
    "tags": []
   },
   "outputs": [],
   "source": [
    "plt.figure(figsize=(9,6))\n",
    "plt.plot(user_breakdown_df2.year_month, user_breakdown_df2.clustered_track_per, label='classroom', \\\n",
    "             color='green');\n",
    "plt.plot(user_breakdown_df2.year_month, user_breakdown_df2.researcher_track_per, label='research', \\\n",
    "             color='red');\n",
    "plt.plot(user_breakdown_df2.year_month, user_breakdown_df2.self_track_per, label='self-study', \\\n",
    "             color='orange');\n",
    "\n",
    "plt.ylim([0, 100])\n",
    "plt.legend(loc='upper right');\n",
    "plt.ylabel('Percentage (%)');\n",
    "plt.xlim([datetime.datetime(2001,1,1), datetime.datetime(2021,7,1)])\n",
    "# plt.show()\n",
    "\n",
    "if dev_flag == 'True':\n",
    "    plt.savefig(cwd+'/plots_local/simusers_class_res_unclass_12months_percent.eps', dpi=1000, bbox_inches='tight')\n",
    "    plt.savefig(cwd+'/plots_local/simusers_class_res_unclass_12months_percent.pdf', dpi=1000, bbox_inches='tight')\n",
    "    plt.savefig(cwd+'/plots_local/simusers_class_res_unclass_12months_percent.png', dpi=1000, bbox_inches='tight')\n",
    "elif prod_flag == 'True':\n",
    "    plt.savefig(cwd+'/plots_production/simusers_class_res_unclass_12months_percent.eps', dpi=1000, bbox_inches='tight')\n",
    "    plt.savefig(cwd+'/plots_production/simusers_class_res_unclass_12months_percent.pdf', dpi=1000, bbox_inches='tight')\n",
    "    plt.savefig(cwd+'/plots_production/simusers_class_res_unclass_12months_percent.png', dpi=1000, bbox_inches='tight')\n",
    "else:\n",
    "    print('no printing flag is active')"
   ]
  },
  {
   "cell_type": "code",
   "execution_count": null,
   "metadata": {
    "tags": []
   },
   "outputs": [],
   "source": [
    "user_breakdown_df2.to_csv(cwd+'/cached_data/nh_user_breakdown.csv')"
   ]
  },
  {
   "cell_type": "code",
   "execution_count": null,
   "metadata": {},
   "outputs": [],
   "source": []
  },
  {
   "cell_type": "code",
   "execution_count": null,
   "metadata": {},
   "outputs": [],
   "source": []
  },
  {
   "cell_type": "code",
   "execution_count": null,
   "metadata": {},
   "outputs": [],
   "source": []
  }
 ],
 "metadata": {
  "kernelspec": {
   "display_name": "Python 3 (ipykernel)",
   "language": "python",
   "name": "python3"
  },
  "language_info": {
   "codemirror_mode": {
    "name": "ipython",
    "version": 3
   },
   "file_extension": ".py",
   "mimetype": "text/x-python",
   "name": "python",
   "nbconvert_exporter": "python",
   "pygments_lexer": "ipython3",
   "version": "3.8.10"
  }
 },
 "nbformat": 4,
 "nbformat_minor": 4
}
