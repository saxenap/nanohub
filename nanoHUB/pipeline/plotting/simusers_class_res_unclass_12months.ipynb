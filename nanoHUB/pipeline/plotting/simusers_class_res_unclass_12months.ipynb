{
 "cells": [
  {
   "cell_type": "code",
   "execution_count": 1,
   "metadata": {
    "execution": {
     "iopub.execute_input": "2022-01-31T16:21:01.652215Z",
     "iopub.status.busy": "2022-01-31T16:21:01.651983Z",
     "iopub.status.idle": "2022-01-31T16:21:01.657281Z",
     "shell.execute_reply": "2022-01-31T16:21:01.655956Z",
     "shell.execute_reply.started": "2022-01-31T16:21:01.652158Z"
    },
    "tags": []
   },
   "outputs": [],
   "source": [
    "## build researcher events, student events, and self-study events\n",
    "## researcher are simply those with NH citations"
   ]
  },
  {
   "cell_type": "code",
   "execution_count": 2,
   "metadata": {
    "execution": {
     "iopub.execute_input": "2022-01-31T16:21:02.408319Z",
     "iopub.status.busy": "2022-01-31T16:21:02.408083Z",
     "iopub.status.idle": "2022-01-31T16:21:02.751909Z",
     "shell.execute_reply": "2022-01-31T16:21:02.750867Z",
     "shell.execute_reply.started": "2022-01-31T16:21:02.408300Z"
    },
    "tags": []
   },
   "outputs": [],
   "source": [
    "import sys\n",
    "\n",
    "import pandas as pd\n",
    "import time\n",
    "import datetime"
   ]
  },
  {
   "cell_type": "code",
   "execution_count": 3,
   "metadata": {
    "execution": {
     "iopub.execute_input": "2022-01-31T16:21:03.362332Z",
     "iopub.status.busy": "2022-01-31T16:21:03.362004Z",
     "iopub.status.idle": "2022-01-31T16:21:03.368288Z",
     "shell.execute_reply": "2022-01-31T16:21:03.366598Z",
     "shell.execute_reply.started": "2022-01-31T16:21:03.362277Z"
    },
    "tags": []
   },
   "outputs": [],
   "source": [
    "import warnings\n",
    "warnings.filterwarnings('ignore')\n",
    "# warnings.filterwarnings(action='once')\n",
    "warnings.simplefilter(action='ignore', category=FutureWarning)"
   ]
  },
  {
   "cell_type": "code",
   "execution_count": 4,
   "metadata": {
    "execution": {
     "iopub.execute_input": "2022-01-31T16:21:03.913675Z",
     "iopub.status.busy": "2022-01-31T16:21:03.913432Z",
     "iopub.status.idle": "2022-01-31T16:21:06.008256Z",
     "shell.execute_reply": "2022-01-31T16:21:06.006773Z",
     "shell.execute_reply.started": "2022-01-31T16:21:03.913615Z"
    },
    "tags": []
   },
   "outputs": [
    {
     "name": "stdout",
     "output_type": "stream",
     "text": [
      "\u001b[1mnanoHUB - Serving Students, Researchers & Instructors\u001b[0m\n",
      "Obtained Salesforce access token ...... True\n"
     ]
    }
   ],
   "source": [
    "from nanoHUB.application import Application\n",
    "\n",
    "application = Application.get_instance()\n",
    "nanohub_db = application.new_db_engine('nanohub')\n",
    "nanohub_metrics_db = application.new_db_engine('nanohub_metrics')\n",
    "wang159_myrmekes_db = application.new_db_engine('rfm_data')\n",
    "\n",
    "salesforce = application.new_salesforce_engine()\n",
    "db_s = salesforce"
   ]
  },
  {
   "cell_type": "code",
   "execution_count": null,
   "metadata": {},
   "outputs": [],
   "source": []
  },
  {
   "cell_type": "markdown",
   "metadata": {},
   "source": [
    "## Cumulative classroom/research/self-study"
   ]
  },
  {
   "cell_type": "code",
   "execution_count": 5,
   "metadata": {
    "execution": {
     "iopub.execute_input": "2022-01-31T16:21:06.010913Z",
     "iopub.status.busy": "2022-01-31T16:21:06.010541Z",
     "iopub.status.idle": "2022-01-31T16:21:06.015988Z",
     "shell.execute_reply": "2022-01-31T16:21:06.014632Z",
     "shell.execute_reply.started": "2022-01-31T16:21:06.010884Z"
    },
    "tags": []
   },
   "outputs": [],
   "source": [
    "###\n",
    "# 1. pull all unique classroom users from SF\n",
    "# 2. pull all research users from DB2\n",
    "# 3. pull all contacts from SF\n",
    "# 4. iteratively pull toolstart df again by year starting from 2000"
   ]
  },
  {
   "cell_type": "code",
   "execution_count": 6,
   "metadata": {
    "execution": {
     "iopub.execute_input": "2022-01-31T16:21:09.038506Z",
     "iopub.status.busy": "2022-01-31T16:21:09.037676Z",
     "iopub.status.idle": "2022-01-31T16:21:22.018218Z",
     "shell.execute_reply": "2022-01-31T16:21:22.017789Z",
     "shell.execute_reply.started": "2022-01-31T16:21:09.038480Z"
    },
    "tags": []
   },
   "outputs": [
    {
     "name": "stdout",
     "output_type": "stream",
     "text": [
      "[Success] Bulk job creation successful. Job ID = 7505w00000cyaElAAI\n",
      "{\"id\":\"7505w00000cyaElAAI\",\"operation\":\"query\",\"object\":\"ContactToolClusterAssociation__c\",\"createdById\":\"0055w00000DM5bOAAT\",\"createdDate\":\"2022-01-31T16:21:09.000+0000\",\"systemModstamp\":\"2022-01-31T16:21:09.000+0000\",\"state\":\"UploadComplete\",\"concurrencyMode\":\"Parallel\",\"contentType\":\"CSV\",\"apiVersion\":47.0,\"jobType\":\"V2Query\",\"lineEnding\":\"LF\",\"columnDelimiter\":\"COMMA\",\"numberRecordsProcessed\":0,\"retries\":0,\"totalProcessingTime\":0}\n",
      "{\"id\":\"7505w00000cyaElAAI\",\"operation\":\"query\",\"object\":\"ContactToolClusterAssociation__c\",\"createdById\":\"0055w00000DM5bOAAT\",\"createdDate\":\"2022-01-31T16:21:09.000+0000\",\"systemModstamp\":\"2022-01-31T16:21:11.000+0000\",\"state\":\"JobComplete\",\"concurrencyMode\":\"Parallel\",\"contentType\":\"CSV\",\"apiVersion\":47.0,\"jobType\":\"V2Query\",\"lineEnding\":\"LF\",\"columnDelimiter\":\"COMMA\",\"numberRecordsProcessed\":1900,\"retries\":0,\"totalProcessingTime\":309}\n",
      "[Success] Bulk job completed successfully.\n"
     ]
    }
   ],
   "source": [
    "## pull the list of contacts within each cluster\n",
    "contacts_in_cluster_df = db_s.query_data('Select Contact__c, Tool_Usage_Cluster__c from ContactToolClusterAssociation__c')"
   ]
  },
  {
   "cell_type": "code",
   "execution_count": 7,
   "metadata": {
    "execution": {
     "iopub.execute_input": "2022-01-31T16:21:22.019638Z",
     "iopub.status.busy": "2022-01-31T16:21:22.019112Z",
     "iopub.status.idle": "2022-01-31T16:21:22.039391Z",
     "shell.execute_reply": "2022-01-31T16:21:22.038525Z",
     "shell.execute_reply.started": "2022-01-31T16:21:22.019423Z"
    },
    "tags": []
   },
   "outputs": [
    {
     "data": {
      "text/html": [
       "<div>\n",
       "<style scoped>\n",
       "    .dataframe tbody tr th:only-of-type {\n",
       "        vertical-align: middle;\n",
       "    }\n",
       "\n",
       "    .dataframe tbody tr th {\n",
       "        vertical-align: top;\n",
       "    }\n",
       "\n",
       "    .dataframe thead th {\n",
       "        text-align: right;\n",
       "    }\n",
       "</style>\n",
       "<table border=\"1\" class=\"dataframe\">\n",
       "  <thead>\n",
       "    <tr style=\"text-align: right;\">\n",
       "      <th></th>\n",
       "      <th>Contact__c</th>\n",
       "      <th>Tool_Usage_Cluster__c</th>\n",
       "    </tr>\n",
       "  </thead>\n",
       "  <tbody>\n",
       "    <tr>\n",
       "      <th>0</th>\n",
       "      <td>0035w000034JLEEAA4</td>\n",
       "      <td>a0w5w00000A8OFoAAN</td>\n",
       "    </tr>\n",
       "    <tr>\n",
       "      <th>1</th>\n",
       "      <td>0035w000034K074AAC</td>\n",
       "      <td>a0w5w000009Q7m8AAC</td>\n",
       "    </tr>\n",
       "  </tbody>\n",
       "</table>\n",
       "</div>"
      ],
      "text/plain": [
       "           Contact__c Tool_Usage_Cluster__c\n",
       "0  0035w000034JLEEAA4    a0w5w00000A8OFoAAN\n",
       "1  0035w000034K074AAC    a0w5w000009Q7m8AAC"
      ]
     },
     "metadata": {},
     "output_type": "display_data"
    },
    {
     "name": "stdout",
     "output_type": "stream",
     "text": [
      "(1900, 2)\n"
     ]
    }
   ],
   "source": [
    "display(contacts_in_cluster_df.head(2))\n",
    "print(contacts_in_cluster_df.shape)"
   ]
  },
  {
   "cell_type": "code",
   "execution_count": 8,
   "metadata": {
    "execution": {
     "iopub.execute_input": "2022-01-31T16:21:22.042406Z",
     "iopub.status.busy": "2022-01-31T16:21:22.041337Z",
     "iopub.status.idle": "2022-01-31T16:21:22.049806Z",
     "shell.execute_reply": "2022-01-31T16:21:22.048667Z",
     "shell.execute_reply.started": "2022-01-31T16:21:22.042375Z"
    },
    "tags": []
   },
   "outputs": [
    {
     "name": "stdout",
     "output_type": "stream",
     "text": [
      "/home/saxenap/nanoHUB/nanoHUB/pipeline/plotting\n"
     ]
    }
   ],
   "source": [
    "import os\n",
    "cwd = os.getcwd()\n",
    "print(cwd)"
   ]
  },
  {
   "cell_type": "code",
   "execution_count": 9,
   "metadata": {
    "execution": {
     "iopub.execute_input": "2022-01-31T16:21:22.052378Z",
     "iopub.status.busy": "2022-01-31T16:21:22.051412Z",
     "iopub.status.idle": "2022-01-31T16:21:22.058445Z",
     "shell.execute_reply": "2022-01-31T16:21:22.057783Z",
     "shell.execute_reply.started": "2022-01-31T16:21:22.052352Z"
    },
    "tags": []
   },
   "outputs": [
    {
     "name": "stdout",
     "output_type": "stream",
     "text": [
      "1900\n"
     ]
    }
   ],
   "source": [
    "print(contacts_in_cluster_df.shape[0])"
   ]
  },
  {
   "cell_type": "code",
   "execution_count": 10,
   "metadata": {
    "execution": {
     "iopub.execute_input": "2022-01-31T16:21:22.060706Z",
     "iopub.status.busy": "2022-01-31T16:21:22.059468Z",
     "iopub.status.idle": "2022-01-31T16:21:22.094077Z",
     "shell.execute_reply": "2022-01-31T16:21:22.093058Z",
     "shell.execute_reply.started": "2022-01-31T16:21:22.060675Z"
    },
    "tags": []
   },
   "outputs": [],
   "source": [
    "#if contacts_in_cluster_df.shape[0] > 9000:\n",
    "contacts_in_cluster_df.to_csv(cwd+\"/cached_data/backup_contacts_in_clusters.csv\")\n",
    "#else:\n",
    "#    raise ValueError(\"salesforce connection issue with clusters, please reload or setup some limits\")"
   ]
  },
  {
   "cell_type": "code",
   "execution_count": 11,
   "metadata": {
    "execution": {
     "iopub.execute_input": "2022-01-31T16:21:22.096817Z",
     "iopub.status.busy": "2022-01-31T16:21:22.095146Z",
     "iopub.status.idle": "2022-01-31T16:21:22.102815Z",
     "shell.execute_reply": "2022-01-31T16:21:22.102278Z",
     "shell.execute_reply.started": "2022-01-31T16:21:22.096769Z"
    },
    "tags": []
   },
   "outputs": [
    {
     "name": "stdout",
     "output_type": "stream",
     "text": [
      "1680\n"
     ]
    }
   ],
   "source": [
    "unique_contacts_in_clusters = set(contacts_in_cluster_df['Contact__c'].to_list())\n",
    "print(len(unique_contacts_in_clusters))"
   ]
  },
  {
   "cell_type": "code",
   "execution_count": 12,
   "metadata": {
    "execution": {
     "iopub.execute_input": "2022-01-31T16:21:22.105864Z",
     "iopub.status.busy": "2022-01-31T16:21:22.104557Z",
     "iopub.status.idle": "2022-01-31T16:21:35.989916Z",
     "shell.execute_reply": "2022-01-31T16:21:35.988770Z",
     "shell.execute_reply.started": "2022-01-31T16:21:22.105829Z"
    },
    "tags": []
   },
   "outputs": [
    {
     "name": "stdout",
     "output_type": "stream",
     "text": [
      "[Success] Bulk job creation successful. Job ID = 7505w00000cyaINAAY\n",
      "{\"id\":\"7505w00000cyaINAAY\",\"operation\":\"query\",\"object\":\"Contact\",\"createdById\":\"0055w00000DM5bOAAT\",\"createdDate\":\"2022-01-31T16:21:22.000+0000\",\"systemModstamp\":\"2022-01-31T16:21:22.000+0000\",\"state\":\"UploadComplete\",\"concurrencyMode\":\"Parallel\",\"contentType\":\"CSV\",\"apiVersion\":47.0,\"jobType\":\"V2Query\",\"lineEnding\":\"LF\",\"columnDelimiter\":\"COMMA\",\"retries\":0,\"totalProcessingTime\":0}\n",
      "{\"id\":\"7505w00000cyaINAAY\",\"operation\":\"query\",\"object\":\"Contact\",\"createdById\":\"0055w00000DM5bOAAT\",\"createdDate\":\"2022-01-31T16:21:22.000+0000\",\"systemModstamp\":\"2022-01-31T16:21:33.000+0000\",\"state\":\"JobComplete\",\"concurrencyMode\":\"Parallel\",\"contentType\":\"CSV\",\"apiVersion\":47.0,\"jobType\":\"V2Query\",\"lineEnding\":\"LF\",\"columnDelimiter\":\"COMMA\",\"numberRecordsProcessed\":271910,\"retries\":0,\"totalProcessingTime\":10588}\n",
      "[Success] Bulk job completed successfully.\n"
     ]
    }
   ],
   "source": [
    "contacts_df = db_s.query_data('Select Id, nanoHUB_user_ID__c from Contact')"
   ]
  },
  {
   "cell_type": "code",
   "execution_count": 13,
   "metadata": {
    "execution": {
     "iopub.execute_input": "2022-01-31T16:21:35.991844Z",
     "iopub.status.busy": "2022-01-31T16:21:35.991301Z",
     "iopub.status.idle": "2022-01-31T16:21:36.002707Z",
     "shell.execute_reply": "2022-01-31T16:21:36.001797Z",
     "shell.execute_reply.started": "2022-01-31T16:21:35.991482Z"
    },
    "tags": []
   },
   "outputs": [
    {
     "data": {
      "text/html": [
       "<div>\n",
       "<style scoped>\n",
       "    .dataframe tbody tr th:only-of-type {\n",
       "        vertical-align: middle;\n",
       "    }\n",
       "\n",
       "    .dataframe tbody tr th {\n",
       "        vertical-align: top;\n",
       "    }\n",
       "\n",
       "    .dataframe thead th {\n",
       "        text-align: right;\n",
       "    }\n",
       "</style>\n",
       "<table border=\"1\" class=\"dataframe\">\n",
       "  <thead>\n",
       "    <tr style=\"text-align: right;\">\n",
       "      <th></th>\n",
       "      <th>Id</th>\n",
       "      <th>nanoHUB_user_ID__c</th>\n",
       "    </tr>\n",
       "  </thead>\n",
       "  <tbody>\n",
       "    <tr>\n",
       "      <th>0</th>\n",
       "      <td>0035w000031Vsp1AAC</td>\n",
       "      <td>998.0</td>\n",
       "    </tr>\n",
       "    <tr>\n",
       "      <th>1</th>\n",
       "      <td>0035w000031Vsp2AAC</td>\n",
       "      <td>1683.0</td>\n",
       "    </tr>\n",
       "  </tbody>\n",
       "</table>\n",
       "</div>"
      ],
      "text/plain": [
       "                   Id  nanoHUB_user_ID__c\n",
       "0  0035w000031Vsp1AAC               998.0\n",
       "1  0035w000031Vsp2AAC              1683.0"
      ]
     },
     "metadata": {},
     "output_type": "display_data"
    },
    {
     "name": "stdout",
     "output_type": "stream",
     "text": [
      "(252095, 2)\n"
     ]
    }
   ],
   "source": [
    "display(contacts_df.head(2))\n",
    "print(contacts_df.shape)"
   ]
  },
  {
   "cell_type": "code",
   "execution_count": 14,
   "metadata": {
    "execution": {
     "iopub.execute_input": "2022-01-31T16:21:38.831299Z",
     "iopub.status.busy": "2022-01-31T16:21:38.830732Z",
     "iopub.status.idle": "2022-01-31T16:21:38.953822Z",
     "shell.execute_reply": "2022-01-31T16:21:38.953325Z",
     "shell.execute_reply.started": "2022-01-31T16:21:38.831260Z"
    },
    "tags": []
   },
   "outputs": [],
   "source": [
    "## determine self-study users, i.e., unclassified users\n",
    "# if sf id is in contacts_in_cluster_df['Contact__c'], then it is self-study\n",
    "\n",
    "self_study = []\n",
    "clustered = []\n",
    "\n",
    "sf_contact_ids = contacts_df['Id'].to_list()\n",
    "\n",
    "import numpy as np\n",
    "# bool_search = np.in1d(np.array(list(unique_contacts_in_clusters)),np.array(sf_contact_ids))\n",
    "bool_search = np.in1d(np.array(sf_contact_ids),np.array(list(unique_contacts_in_clusters)))\n",
    "\n",
    "clustered = np.where(bool_search)[0].tolist()\n",
    "self_study = np.where(~bool_search)[0].tolist()"
   ]
  },
  {
   "cell_type": "code",
   "execution_count": 15,
   "metadata": {
    "execution": {
     "iopub.execute_input": "2022-01-31T16:21:39.706024Z",
     "iopub.status.busy": "2022-01-31T16:21:39.705354Z",
     "iopub.status.idle": "2022-01-31T16:21:39.736843Z",
     "shell.execute_reply": "2022-01-31T16:21:39.735887Z",
     "shell.execute_reply.started": "2022-01-31T16:21:39.705978Z"
    },
    "tags": []
   },
   "outputs": [],
   "source": [
    "clustered_NH_ids = contacts_df['nanoHUB_user_ID__c'][clustered]\n",
    "self_study_NH_ids = contacts_df['nanoHUB_user_ID__c'][self_study]"
   ]
  },
  {
   "cell_type": "code",
   "execution_count": 16,
   "metadata": {
    "execution": {
     "iopub.execute_input": "2022-01-31T16:21:39.914913Z",
     "iopub.status.busy": "2022-01-31T16:21:39.914584Z",
     "iopub.status.idle": "2022-01-31T16:21:39.920123Z",
     "shell.execute_reply": "2022-01-31T16:21:39.919086Z",
     "shell.execute_reply.started": "2022-01-31T16:21:39.914895Z"
    },
    "tags": []
   },
   "outputs": [
    {
     "name": "stdout",
     "output_type": "stream",
     "text": [
      "(1680,)\n",
      "(250415,)\n"
     ]
    }
   ],
   "source": [
    "print(clustered_NH_ids.shape)\n",
    "print(self_study_NH_ids.shape)"
   ]
  },
  {
   "cell_type": "code",
   "execution_count": 17,
   "metadata": {
    "execution": {
     "iopub.execute_input": "2022-01-31T16:21:40.111890Z",
     "iopub.status.busy": "2022-01-31T16:21:40.110812Z",
     "iopub.status.idle": "2022-01-31T16:21:40.117502Z",
     "shell.execute_reply": "2022-01-31T16:21:40.116401Z",
     "shell.execute_reply.started": "2022-01-31T16:21:40.111801Z"
    },
    "tags": []
   },
   "outputs": [],
   "source": [
    "## need to filter self-study-nh-ids with the researchers"
   ]
  },
  {
   "cell_type": "code",
   "execution_count": 18,
   "metadata": {
    "execution": {
     "iopub.execute_input": "2022-01-31T16:21:43.744926Z",
     "iopub.status.busy": "2022-01-31T16:21:43.744665Z",
     "iopub.status.idle": "2022-01-31T16:21:43.750302Z",
     "shell.execute_reply": "2022-01-31T16:21:43.749676Z",
     "shell.execute_reply.started": "2022-01-31T16:21:43.744906Z"
    },
    "tags": []
   },
   "outputs": [],
   "source": [
    "## This researcher determination is based entirely on the results of research authors on nanohub\n",
    "## i.e., we use the researcher information on db2"
   ]
  },
  {
   "cell_type": "code",
   "execution_count": 19,
   "metadata": {
    "execution": {
     "iopub.execute_input": "2022-01-31T16:21:44.436569Z",
     "iopub.status.busy": "2022-01-31T16:21:44.435244Z",
     "iopub.status.idle": "2022-01-31T16:21:45.315678Z",
     "shell.execute_reply": "2022-01-31T16:21:45.314944Z",
     "shell.execute_reply.started": "2022-01-31T16:21:44.436519Z"
    },
    "tags": []
   },
   "outputs": [
    {
     "data": {
      "text/html": [
       "<div>\n",
       "<style scoped>\n",
       "    .dataframe tbody tr th:only-of-type {\n",
       "        vertical-align: middle;\n",
       "    }\n",
       "\n",
       "    .dataframe tbody tr th {\n",
       "        vertical-align: top;\n",
       "    }\n",
       "\n",
       "    .dataframe thead th {\n",
       "        text-align: right;\n",
       "    }\n",
       "</style>\n",
       "<table border=\"1\" class=\"dataframe\">\n",
       "  <thead>\n",
       "    <tr style=\"text-align: right;\">\n",
       "      <th></th>\n",
       "      <th>id</th>\n",
       "      <th>uid</th>\n",
       "      <th>author</th>\n",
       "    </tr>\n",
       "  </thead>\n",
       "  <tbody>\n",
       "    <tr>\n",
       "      <th>0</th>\n",
       "      <td>10000001</td>\n",
       "      <td>5568</td>\n",
       "      <td>Weber, Bent; Mahapatra, Suddhasatta; Ryu, Hoon...</td>\n",
       "    </tr>\n",
       "    <tr>\n",
       "      <th>1</th>\n",
       "      <td>10000002</td>\n",
       "      <td>5568</td>\n",
       "      <td>Andrawis, Robert; Bermeo, Jose; Charles, James...</td>\n",
       "    </tr>\n",
       "  </tbody>\n",
       "</table>\n",
       "</div>"
      ],
      "text/plain": [
       "         id   uid                                             author\n",
       "0  10000001  5568  Weber, Bent; Mahapatra, Suddhasatta; Ryu, Hoon...\n",
       "1  10000002  5568  Andrawis, Robert; Bermeo, Jose; Charles, James..."
      ]
     },
     "metadata": {},
     "output_type": "display_data"
    },
    {
     "name": "stdout",
     "output_type": "stream",
     "text": [
      "(4193, 3)\n"
     ]
    }
   ],
   "source": [
    "sql_query = 'select id, uid, author from jos_citations'\n",
    "jos_citations = pd.read_sql_query(sql_query, nanohub_db)\n",
    "display(jos_citations.head(2))\n",
    "print(jos_citations.shape)"
   ]
  },
  {
   "cell_type": "code",
   "execution_count": 20,
   "metadata": {
    "execution": {
     "iopub.execute_input": "2022-01-31T16:21:45.319110Z",
     "iopub.status.busy": "2022-01-31T16:21:45.317637Z",
     "iopub.status.idle": "2022-01-31T16:21:45.324192Z",
     "shell.execute_reply": "2022-01-31T16:21:45.323282Z",
     "shell.execute_reply.started": "2022-01-31T16:21:45.319073Z"
    },
    "tags": []
   },
   "outputs": [],
   "source": [
    "t1_authors = jos_citations['author'].to_list()\n",
    "t1_authors2 = [] #[j.split(';') for i,j in enumerate(t1_authors)]"
   ]
  },
  {
   "cell_type": "code",
   "execution_count": 21,
   "metadata": {
    "execution": {
     "iopub.execute_input": "2022-01-31T16:21:45.810593Z",
     "iopub.status.busy": "2022-01-31T16:21:45.809888Z",
     "iopub.status.idle": "2022-01-31T16:21:45.824064Z",
     "shell.execute_reply": "2022-01-31T16:21:45.822293Z",
     "shell.execute_reply.started": "2022-01-31T16:21:45.810463Z"
    },
    "tags": []
   },
   "outputs": [],
   "source": [
    "for i,j in enumerate(t1_authors):\n",
    "    try:\n",
    "        holder = j.split(';')\n",
    "        if len(holder) > 1: \n",
    "            for k,l in enumerate(holder):\n",
    "                if l[0] == ' ':\n",
    "                    holder[k] = l[1:]\n",
    "        t1_authors2.append(holder)\n",
    "    except:\n",
    "        garb = True"
   ]
  },
  {
   "cell_type": "code",
   "execution_count": 22,
   "metadata": {
    "execution": {
     "iopub.execute_input": "2022-01-31T16:21:47.042691Z",
     "iopub.status.busy": "2022-01-31T16:21:47.042477Z",
     "iopub.status.idle": "2022-01-31T16:21:47.051386Z",
     "shell.execute_reply": "2022-01-31T16:21:47.050397Z",
     "shell.execute_reply.started": "2022-01-31T16:21:47.042672Z"
    },
    "tags": []
   },
   "outputs": [
    {
     "name": "stdout",
     "output_type": "stream",
     "text": [
      "6829\n"
     ]
    }
   ],
   "source": [
    "t1_authors3 = [item for sublist in t1_authors2 for item in sublist]\n",
    "t1_authors3 = set(t1_authors3)\n",
    "print(len(t1_authors3))"
   ]
  },
  {
   "cell_type": "code",
   "execution_count": 23,
   "metadata": {
    "execution": {
     "iopub.execute_input": "2022-01-31T16:21:48.296192Z",
     "iopub.status.busy": "2022-01-31T16:21:48.295534Z",
     "iopub.status.idle": "2022-01-31T16:21:48.302199Z",
     "shell.execute_reply": "2022-01-31T16:21:48.301351Z",
     "shell.execute_reply.started": "2022-01-31T16:21:48.296168Z"
    },
    "tags": []
   },
   "outputs": [],
   "source": [
    "## extract all researchers with nh ids\n",
    "rw_ids = []\n",
    "need_search = []\n",
    "for i,j in enumerate(t1_authors3):\n",
    "    if '{{' in j:\n",
    "        rw_ids.append(i)\n",
    "    else:\n",
    "        need_search.append(i)"
   ]
  },
  {
   "cell_type": "code",
   "execution_count": 24,
   "metadata": {
    "execution": {
     "iopub.execute_input": "2022-01-31T16:21:52.681894Z",
     "iopub.status.busy": "2022-01-31T16:21:52.681627Z",
     "iopub.status.idle": "2022-01-31T16:21:52.692474Z",
     "shell.execute_reply": "2022-01-31T16:21:52.691686Z",
     "shell.execute_reply.started": "2022-01-31T16:21:52.681873Z"
    },
    "tags": []
   },
   "outputs": [
    {
     "name": "stdout",
     "output_type": "stream",
     "text": [
      "2079\n"
     ]
    }
   ],
   "source": [
    "## from the rw_ids, extract the nanohub userids\n",
    "# can obtain usernames from the DB2 table\n",
    "rw_ids2 = np.array(list(t1_authors3))[rw_ids]\n",
    "for i,j in enumerate(rw_ids2):\n",
    "    begin = j.index('{{')\n",
    "    rw_ids2[i] = j[begin+2:-2]\n",
    "print(len(rw_ids2))"
   ]
  },
  {
   "cell_type": "code",
   "execution_count": 25,
   "metadata": {
    "execution": {
     "iopub.execute_input": "2022-01-31T16:21:53.595058Z",
     "iopub.status.busy": "2022-01-31T16:21:53.593668Z",
     "iopub.status.idle": "2022-01-31T16:21:53.786536Z",
     "shell.execute_reply": "2022-01-31T16:21:53.785913Z",
     "shell.execute_reply.started": "2022-01-31T16:21:53.595029Z"
    },
    "tags": []
   },
   "outputs": [
    {
     "data": {
      "text/html": [
       "<div>\n",
       "<style scoped>\n",
       "    .dataframe tbody tr th:only-of-type {\n",
       "        vertical-align: middle;\n",
       "    }\n",
       "\n",
       "    .dataframe tbody tr th {\n",
       "        vertical-align: top;\n",
       "    }\n",
       "\n",
       "    .dataframe thead th {\n",
       "        text-align: right;\n",
       "    }\n",
       "</style>\n",
       "<table border=\"1\" class=\"dataframe\">\n",
       "  <thead>\n",
       "    <tr style=\"text-align: right;\">\n",
       "      <th></th>\n",
       "      <th>id</th>\n",
       "      <th>name</th>\n",
       "      <th>username</th>\n",
       "    </tr>\n",
       "  </thead>\n",
       "  <tbody>\n",
       "    <tr>\n",
       "      <th>0</th>\n",
       "      <td>1742</td>\n",
       "      <td>H.-S. Philip Wong</td>\n",
       "      <td>hspwong</td>\n",
       "    </tr>\n",
       "    <tr>\n",
       "      <th>1</th>\n",
       "      <td>1767</td>\n",
       "      <td>Osama Munir Nayfeh</td>\n",
       "      <td>onayfeh</td>\n",
       "    </tr>\n",
       "  </tbody>\n",
       "</table>\n",
       "</div>"
      ],
      "text/plain": [
       "     id                name username\n",
       "0  1742   H.-S. Philip Wong  hspwong\n",
       "1  1767  Osama Munir Nayfeh  onayfeh"
      ]
     },
     "metadata": {},
     "output_type": "display_data"
    }
   ],
   "source": [
    "# need to obtain usernames\n",
    "sql_query = \"select id,name,username from jos_users where id in \"+str(tuple(rw_ids2))\n",
    "rw_researchers = pd.read_sql_query(sql_query,nanohub_db)\n",
    "display(rw_researchers.head(2))"
   ]
  },
  {
   "cell_type": "code",
   "execution_count": 26,
   "metadata": {
    "execution": {
     "iopub.execute_input": "2022-01-31T16:21:54.300450Z",
     "iopub.status.busy": "2022-01-31T16:21:54.300222Z",
     "iopub.status.idle": "2022-01-31T16:21:54.308233Z",
     "shell.execute_reply": "2022-01-31T16:21:54.306642Z",
     "shell.execute_reply.started": "2022-01-31T16:21:54.300427Z"
    },
    "tags": []
   },
   "outputs": [],
   "source": [
    "## need to obtain the username/ids from those people without nh ids explicitly spec'd in jos_citations\n",
    "ns2 = np.array(list(t1_authors3))[need_search]\n",
    "ns2 = ns2[1:]"
   ]
  },
  {
   "cell_type": "code",
   "execution_count": 27,
   "metadata": {
    "execution": {
     "iopub.execute_input": "2022-01-31T16:21:55.007223Z",
     "iopub.status.busy": "2022-01-31T16:21:55.007017Z",
     "iopub.status.idle": "2022-01-31T16:21:55.015288Z",
     "shell.execute_reply": "2022-01-31T16:21:55.014164Z",
     "shell.execute_reply.started": "2022-01-31T16:21:55.007203Z"
    },
    "tags": []
   },
   "outputs": [
    {
     "data": {
      "text/plain": [
       "('Jennifer Richardson', 'Debbie Perouli', 'W Fikry', 'S Kumar', 'Jie Xiang')"
      ]
     },
     "execution_count": 27,
     "metadata": {},
     "output_type": "execute_result"
    }
   ],
   "source": [
    "tuple(ns2)[:5]"
   ]
  },
  {
   "cell_type": "code",
   "execution_count": 28,
   "metadata": {
    "execution": {
     "iopub.execute_input": "2022-01-31T16:21:55.794942Z",
     "iopub.status.busy": "2022-01-31T16:21:55.794666Z",
     "iopub.status.idle": "2022-01-31T16:21:56.014060Z",
     "shell.execute_reply": "2022-01-31T16:21:56.013049Z",
     "shell.execute_reply.started": "2022-01-31T16:21:55.794918Z"
    },
    "tags": []
   },
   "outputs": [
    {
     "data": {
      "text/html": [
       "<div>\n",
       "<style scoped>\n",
       "    .dataframe tbody tr th:only-of-type {\n",
       "        vertical-align: middle;\n",
       "    }\n",
       "\n",
       "    .dataframe tbody tr th {\n",
       "        vertical-align: top;\n",
       "    }\n",
       "\n",
       "    .dataframe thead th {\n",
       "        text-align: right;\n",
       "    }\n",
       "</style>\n",
       "<table border=\"1\" class=\"dataframe\">\n",
       "  <thead>\n",
       "    <tr style=\"text-align: right;\">\n",
       "      <th></th>\n",
       "      <th>id</th>\n",
       "      <th>name</th>\n",
       "      <th>username</th>\n",
       "    </tr>\n",
       "  </thead>\n",
       "  <tbody>\n",
       "    <tr>\n",
       "      <th>0</th>\n",
       "      <td>282167</td>\n",
       "      <td>Aarthi Narayanan</td>\n",
       "      <td>aarthin0102</td>\n",
       "    </tr>\n",
       "    <tr>\n",
       "      <th>1</th>\n",
       "      <td>280280</td>\n",
       "      <td>Abani Patra</td>\n",
       "      <td>apatra01</td>\n",
       "    </tr>\n",
       "  </tbody>\n",
       "</table>\n",
       "</div>"
      ],
      "text/plain": [
       "       id              name     username\n",
       "0  282167  Aarthi Narayanan  aarthin0102\n",
       "1  280280       Abani Patra     apatra01"
      ]
     },
     "metadata": {},
     "output_type": "display_data"
    }
   ],
   "source": [
    "sql_query = \"select id,name,username from jos_users where name in \"+str(tuple(ns2))\n",
    "ns2_researchers = pd.read_sql_query(sql_query,nanohub_db)\n",
    "display(ns2_researchers.head(2))"
   ]
  },
  {
   "cell_type": "code",
   "execution_count": 29,
   "metadata": {
    "execution": {
     "iopub.execute_input": "2022-01-31T16:21:56.636407Z",
     "iopub.status.busy": "2022-01-31T16:21:56.635566Z",
     "iopub.status.idle": "2022-01-31T16:21:56.643629Z",
     "shell.execute_reply": "2022-01-31T16:21:56.642286Z",
     "shell.execute_reply.started": "2022-01-31T16:21:56.636379Z"
    },
    "tags": []
   },
   "outputs": [
    {
     "name": "stdout",
     "output_type": "stream",
     "text": [
      "2988\n"
     ]
    }
   ],
   "source": [
    "## combine the usernames into one data structure\n",
    "researcher_usernames = rw_researchers['username'].to_list() + ns2_researchers['username'].to_list()\n",
    "print(len(researcher_usernames))"
   ]
  },
  {
   "cell_type": "code",
   "execution_count": 30,
   "metadata": {
    "execution": {
     "iopub.execute_input": "2022-01-31T16:21:57.312834Z",
     "iopub.status.busy": "2022-01-31T16:21:57.312633Z",
     "iopub.status.idle": "2022-01-31T16:21:57.316923Z",
     "shell.execute_reply": "2022-01-31T16:21:57.316083Z",
     "shell.execute_reply.started": "2022-01-31T16:21:57.312816Z"
    },
    "tags": []
   },
   "outputs": [],
   "source": [
    "researcher_track = []"
   ]
  },
  {
   "cell_type": "code",
   "execution_count": 31,
   "metadata": {
    "execution": {
     "iopub.execute_input": "2022-01-31T16:21:57.531638Z",
     "iopub.status.busy": "2022-01-31T16:21:57.531459Z",
     "iopub.status.idle": "2022-01-31T16:21:57.535165Z",
     "shell.execute_reply": "2022-01-31T16:21:57.534668Z",
     "shell.execute_reply.started": "2022-01-31T16:21:57.531621Z"
    },
    "tags": []
   },
   "outputs": [
    {
     "name": "stdout",
     "output_type": "stream",
     "text": [
      "2022-01-31 16:21:57.532380\n"
     ]
    }
   ],
   "source": [
    "today = datetime.datetime.today()\n",
    "print(today)"
   ]
  },
  {
   "cell_type": "code",
   "execution_count": 32,
   "metadata": {
    "execution": {
     "iopub.execute_input": "2022-01-31T16:21:57.758763Z",
     "iopub.status.busy": "2022-01-31T16:21:57.758554Z",
     "iopub.status.idle": "2022-01-31T16:21:57.777368Z",
     "shell.execute_reply": "2022-01-31T16:21:57.775786Z",
     "shell.execute_reply.started": "2022-01-31T16:21:57.758743Z"
    }
   },
   "outputs": [
    {
     "name": "stdout",
     "output_type": "stream",
     "text": [
      "     Unnamed: 0  year_month  clustered_track  self_track  researcher_track  \\\n",
      "0             0  2000-01-01                0           0                 0   \n",
      "1             1  2000-02-01                0           0                 0   \n",
      "2             2  2000-03-01               19          38                 8   \n",
      "3             3  2000-04-01               28          43                11   \n",
      "4             4  2000-05-01               35          52                13   \n",
      "..          ...         ...              ...         ...               ...   \n",
      "255         255  2021-04-01             8965       14793               270   \n",
      "256         256  2021-05-01             8522       14856               259   \n",
      "257         257  2021-06-01             7837       15230               253   \n",
      "258         258  2021-07-01             7512       15069               255   \n",
      "259         259  2021-08-01             7381       15225               254   \n",
      "\n",
      "     clustered_track_per  researcher_track_per  self_track_per  \n",
      "0                    NaN                   NaN             NaN  \n",
      "1                    NaN                   NaN             NaN  \n",
      "2              29.230769             12.307692       58.461538  \n",
      "3              34.146341             13.414634       52.439024  \n",
      "4              35.000000             13.000000       52.000000  \n",
      "..                   ...                   ...             ...  \n",
      "255            37.310638              1.123689       61.565673  \n",
      "256            36.053645              1.095740       62.850616  \n",
      "257            33.606346              1.084906       65.308748  \n",
      "258            32.895428              1.116658       65.987914  \n",
      "259            32.287839              1.111111       66.601050  \n",
      "\n",
      "[260 rows x 8 columns]\n"
     ]
    }
   ],
   "source": [
    "## caching check \n",
    "try:\n",
    "    user_breakdown_df = pd.read_csv(cwd+'/cached_data/nh_user_breakdown.csv')\n",
    "    print(user_breakdown_df)\n",
    "    cache_flag = True\n",
    "except:\n",
    "    cache_flag = False"
   ]
  },
  {
   "cell_type": "code",
   "execution_count": 33,
   "metadata": {
    "execution": {
     "iopub.execute_input": "2022-01-31T16:21:58.994180Z",
     "iopub.status.busy": "2022-01-31T16:21:58.993946Z",
     "iopub.status.idle": "2022-01-31T16:21:58.999484Z",
     "shell.execute_reply": "2022-01-31T16:21:58.998930Z",
     "shell.execute_reply.started": "2022-01-31T16:21:58.994161Z"
    },
    "tags": []
   },
   "outputs": [],
   "source": [
    "## determine starting year\n",
    "#if cache_flag == False:\n",
    "start_year_base = 1999 #2000\n",
    "#else:\n",
    "#     print('check the saved file')\n",
    "#    start_year_base = int(user_breakdown_df['year_month'].to_list()[-1][:4])\n",
    "    \n",
    "    "
   ]
  },
  {
   "cell_type": "code",
   "execution_count": 34,
   "metadata": {
    "execution": {
     "iopub.execute_input": "2022-01-31T16:22:01.869831Z",
     "iopub.status.busy": "2022-01-31T16:22:01.869610Z",
     "iopub.status.idle": "2022-01-31T16:22:01.877626Z",
     "shell.execute_reply": "2022-01-31T16:22:01.875602Z",
     "shell.execute_reply.started": "2022-01-31T16:22:01.869811Z"
    },
    "tags": []
   },
   "outputs": [
    {
     "name": "stdout",
     "output_type": "stream",
     "text": [
      "2021\n"
     ]
    }
   ],
   "source": [
    "print(user_breakdown_df['year_month'].to_list()[-1][:4])"
   ]
  },
  {
   "cell_type": "code",
   "execution_count": 35,
   "metadata": {
    "execution": {
     "iopub.execute_input": "2022-01-31T16:22:02.559409Z",
     "iopub.status.busy": "2022-01-31T16:22:02.558877Z",
     "iopub.status.idle": "2022-01-31T16:22:02.564018Z",
     "shell.execute_reply": "2022-01-31T16:22:02.563331Z",
     "shell.execute_reply.started": "2022-01-31T16:22:02.559364Z"
    },
    "tags": []
   },
   "outputs": [],
   "source": [
    "from copy import deepcopy"
   ]
  },
  {
   "cell_type": "code",
   "execution_count": null,
   "metadata": {
    "execution": {
     "iopub.execute_input": "2022-01-31T16:22:03.085093Z",
     "iopub.status.busy": "2022-01-31T16:22:03.084718Z"
    },
    "tags": []
   },
   "outputs": [
    {
     "name": "stdout",
     "output_type": "stream",
     "text": [
      "start year: 2000\n",
      "start year: 2001\n",
      "start year: 2002\n",
      "start year: 2003\n",
      "start year: 2004\n",
      "start year: 2005\n",
      "start year: 2006\n",
      "start year: 2007\n",
      "start year: 2008\n",
      "start year: 2009\n",
      "start year: 2010\n",
      "start year: 2011\n"
     ]
    }
   ],
   "source": [
    "## computer has memory limits, so split toolstart into branches\n",
    "# this filters and finds the research usage in nanohub\n",
    "start_year = deepcopy(start_year_base)\n",
    "while start_year < today.year+1:\n",
    "    start_year += 1\n",
    "    end_date = r\"'\"+str(start_year)+r\"-01-01'\"\n",
    "    start_date = r\"'\"+str(start_year-2)+r\"-01-01'\"\n",
    "    \n",
    "    for i in range(1,13):\n",
    "        if i < 10:\n",
    "            start_date = r\"'\"+str(start_year-1)+r\"-0\"+str(i)+r\"-01'\"\n",
    "            end_date = r\"'\"+str(start_year)+r\"-0\"+str(i)+r\"-01'\"\n",
    "        else:\n",
    "            start_date = r\"'\"+str(start_year-1)+r\"-\"+str(i)+r\"-01'\"\n",
    "            end_date = r\"'\"+str(start_year)+r\"-\"+str(i)+r\"-01'\"\n",
    "\n",
    "        sql_query_researcher = \"select user from toolstart where user in \" + str(tuple(researcher_usernames))\\\n",
    "            +\" and datetime <= \"+end_date+\" and datetime >= \"+start_date\n",
    "        researcher_users = pd.read_sql_query(sql_query_researcher, nanohub_metrics_db)\n",
    "\n",
    "        researcher_track.append(researcher_users.drop_duplicates().shape[0])\n",
    "\n",
    "    print('start year: '+ str(start_year))"
   ]
  },
  {
   "cell_type": "code",
   "execution_count": null,
   "metadata": {
    "tags": []
   },
   "outputs": [],
   "source": [
    "## filter the self study folks against those of researchers\n",
    "# need to pull the researcher sf ids"
   ]
  },
  {
   "cell_type": "code",
   "execution_count": null,
   "metadata": {
    "tags": []
   },
   "outputs": [],
   "source": [
    "researcher_ids = rw_researchers['id'].to_list() + ns2_researchers['id'].to_list()\n",
    "print(len(researcher_ids))"
   ]
  },
  {
   "cell_type": "code",
   "execution_count": null,
   "metadata": {
    "tags": []
   },
   "outputs": [],
   "source": [
    "bool_search2 = np.in1d(np.array(self_study_NH_ids.to_list()),np.array(researcher_ids))"
   ]
  },
  {
   "cell_type": "code",
   "execution_count": null,
   "metadata": {
    "tags": []
   },
   "outputs": [],
   "source": [
    "# Note, researchers can possibly be doubled counted within clusters!!\n",
    "# sf_researchers = np.where(bool_search2)[0].tolist() \n",
    "sf_self_study = np.where(~bool_search2)[0].tolist()"
   ]
  },
  {
   "cell_type": "code",
   "execution_count": null,
   "metadata": {
    "tags": []
   },
   "outputs": [],
   "source": [
    "print(len(sf_self_study))\n",
    "print(len(self_study_NH_ids.to_list()))"
   ]
  },
  {
   "cell_type": "code",
   "execution_count": null,
   "metadata": {
    "tags": []
   },
   "outputs": [],
   "source": [
    "sf_contact_ids = contacts_df['nanoHUB_user_ID__c'][sf_self_study]"
   ]
  },
  {
   "cell_type": "code",
   "execution_count": null,
   "metadata": {
    "tags": []
   },
   "outputs": [],
   "source": [
    "sf_contact_ids = sf_contact_ids.reset_index()\n",
    "sf_contact_ids = sf_contact_ids.drop(columns='index')\n",
    "display(sf_contact_ids)"
   ]
  },
  {
   "cell_type": "code",
   "execution_count": null,
   "metadata": {
    "tags": []
   },
   "outputs": [],
   "source": [
    "tuple(sf_contact_ids['nanoHUB_user_ID__c'])[:5]"
   ]
  },
  {
   "cell_type": "code",
   "execution_count": null,
   "metadata": {
    "tags": []
   },
   "outputs": [],
   "source": [
    "tuple(self_study_NH_ids.dropna().to_list())[:5]"
   ]
  },
  {
   "cell_type": "code",
   "execution_count": null,
   "metadata": {
    "tags": []
   },
   "outputs": [],
   "source": [
    "## loading in toolstart"
   ]
  },
  {
   "cell_type": "code",
   "execution_count": null,
   "metadata": {
    "tags": []
   },
   "outputs": [],
   "source": [
    "# clustered user usernames\n",
    "tc_query = 'select id,username from jos_users where id in ' +str(tuple(clustered_NH_ids))\n",
    "clustered_NH_username = pd.read_sql_query(tc_query,nanohub_db)"
   ]
  },
  {
   "cell_type": "code",
   "execution_count": null,
   "metadata": {
    "tags": []
   },
   "outputs": [],
   "source": [
    "# self study user usernames\n",
    "ts_query = 'select id,username from jos_users where id in ' + str(tuple(self_study_NH_ids.dropna().to_list())) \n",
    "#sf_contact_ids['nanoHUB_user_ID__c']))\n",
    "ss_NH_username = pd.read_sql_query(ts_query,nanohub_db)"
   ]
  },
  {
   "cell_type": "code",
   "execution_count": null,
   "metadata": {
    "tags": []
   },
   "outputs": [],
   "source": [
    "## cache the researchers, self-study, and clustered users\n",
    "cache_r_nhid = pd.DataFrame()\n",
    "cache_r_nhid['nhid'] = researcher_ids\n",
    "\n",
    "cache_ss_nhid = pd.DataFrame()\n",
    "cache_ss_nhid['nhid'] = ss_NH_username['id']\n",
    "cache_ss_nhid['username'] = ss_NH_username['username']\n",
    "\n",
    "cache_c_nhid = pd.DataFrame()\n",
    "cache_c_nhid['nhid'] = clustered_NH_username['id']\n",
    "cache_c_nhid['username'] = clustered_NH_username['username']"
   ]
  },
  {
   "cell_type": "code",
   "execution_count": null,
   "metadata": {
    "tags": []
   },
   "outputs": [],
   "source": [
    "print(cache_r_nhid.head(2))\n",
    "print(cache_ss_nhid.head(2))\n",
    "print(cache_c_nhid.head(2))"
   ]
  },
  {
   "cell_type": "code",
   "execution_count": null,
   "metadata": {
    "tags": []
   },
   "outputs": [],
   "source": [
    "cache_r_nhid.to_csv(cwd+'/cached_data/researcher_ids.csv')\n",
    "cache_ss_nhid.to_csv(cwd+'/cached_data/ss_ids.csv')\n",
    "cache_c_nhid.to_csv(cwd+'/cached_data/class_ids.csv')"
   ]
  },
  {
   "cell_type": "code",
   "execution_count": null,
   "metadata": {},
   "outputs": [],
   "source": []
  },
  {
   "cell_type": "code",
   "execution_count": null,
   "metadata": {
    "tags": []
   },
   "outputs": [],
   "source": [
    "# clustered_NH_username2;researcher_NH_username2;self_NH_username2\n",
    "clustered_track = []\n",
    "self_track = []\n",
    "\n",
    "# clustered_track_per = []\n",
    "# self_track_per = []\n",
    "# researcher_track_per = []"
   ]
  },
  {
   "cell_type": "code",
   "execution_count": null,
   "metadata": {
    "tags": []
   },
   "outputs": [],
   "source": [
    "ss_NH_username.shape #old"
   ]
  },
  {
   "cell_type": "code",
   "execution_count": null,
   "metadata": {},
   "outputs": [],
   "source": []
  },
  {
   "cell_type": "code",
   "execution_count": null,
   "metadata": {
    "tags": []
   },
   "outputs": [],
   "source": [
    "## computer has memory limits, so split toolstart into branches\n",
    "start_year = deepcopy(start_year_base)\n",
    "\n",
    "while start_year < today.year+1:\n",
    "    start_year += 1\n",
    "    \n",
    "    for i in range(1,13):\n",
    "        if i < 10:\n",
    "            start_date = r\"'\"+str(start_year-1)+r\"-0\"+str(i)+r\"-01'\"\n",
    "            end_date = r\"'\"+str(start_year)+r\"-0\"+str(i)+r\"-01'\"\n",
    "        else:\n",
    "            start_date = r\"'\"+str(start_year-1)+r\"-\"+str(i)+r\"-01'\"\n",
    "            end_date = r\"'\"+str(start_year)+r\"-\"+str(i)+r\"-01'\"\n",
    "        \n",
    "#         sql_query_clustered = \"select user from toolstart where user in \" + str(tuple(clustered_NH_username2['username']))\\\n",
    "#             +\" and datetime <= \"+end_date+\" and datetime >= \"+start_date\n",
    "        sql_query_clustered = \"select user from toolstart where user in \" + str(tuple(clustered_NH_username['username']))\\\n",
    "            +\" and datetime <= \"+end_date+\" and datetime >= \"+start_date\n",
    "        clustered_users = pd.read_sql_query(sql_query_clustered, nanohub_metrics_db)\n",
    "        \n",
    "#         sql_query_self = \"select user from toolstart where user in \" + str(tuple(self_NH_username2['username']))\\\n",
    "#             +\" and user != 'instanton' and user != 'gridstat' and datetime <= \"+end_date+\" and datetime >= \"+start_date\n",
    "        sql_query_self = \"select user from toolstart where user in \" + str(tuple(ss_NH_username['username']))\\\n",
    "            +\" and user != 'instanton' and user != 'gridstat' and datetime <= \"+end_date+\" and datetime >= \"+start_date\n",
    "        self_users = pd.read_sql_query(sql_query_self, nanohub_metrics_db) #engine_metrics #.drop_duplicates()\n",
    "        \n",
    "        clustered_track.append(clustered_users.drop_duplicates().shape[0])\n",
    "        self_track.append(self_users.drop_duplicates().shape[0])\n",
    "#         print('start_date: '+start_date)\n",
    "#         print('end_date: '+end_date)  \n",
    "    print('start year: '+str(start_year))"
   ]
  },
  {
   "cell_type": "code",
   "execution_count": null,
   "metadata": {},
   "outputs": [],
   "source": []
  },
  {
   "cell_type": "code",
   "execution_count": null,
   "metadata": {
    "tags": []
   },
   "outputs": [],
   "source": [
    "all_months_list = list()\n",
    "for this_year in range(start_year_base+1,today.year+2):\n",
    "    if cache_flag == True:\n",
    "        for this_month in range(1,today.month+1):\n",
    "            all_months_list.append(datetime.datetime(this_year, this_month, 1))\n",
    "    else:\n",
    "        for this_month in range(1,12+1):\n",
    "            all_months_list.append(datetime.datetime(this_year, this_month, 1))"
   ]
  },
  {
   "cell_type": "code",
   "execution_count": null,
   "metadata": {
    "tags": []
   },
   "outputs": [],
   "source": [
    "print(len(clustered_track))\n",
    "print(len(all_months_list))\n",
    "print(len(researcher_track))"
   ]
  },
  {
   "cell_type": "code",
   "execution_count": null,
   "metadata": {
    "tags": []
   },
   "outputs": [],
   "source": [
    "#print(user_breakdown_df2.head())"
   ]
  },
  {
   "cell_type": "code",
   "execution_count": null,
   "metadata": {
    "tags": []
   },
   "outputs": [],
   "source": [
    "\n",
    "if cache_flag == True:\n",
    "    user_breakdown_df2 = pd.DataFrame()\n",
    "    user_breakdown_df2['year_month'] = all_months_list\n",
    "    user_breakdown_df2['clustered_track'] = clustered_track\n",
    "    user_breakdown_df2['self_track'] = self_track\n",
    "    user_breakdown_df2['researcher_track'] = researcher_track\n",
    "    \n",
    "    user_breakdown_df = pd.concat([user_breakdown_df, user_breakdown_df2], ignore_index=True)\n",
    "    display(user_breakdown_df.head(2))\n",
    "else:\n",
    "    user_breakdown_df = pd.DataFrame()\n",
    "    if today.month == 12:\n",
    "        user_breakdown_df['year_month'] = all_months_list #months_bin['year_month'].to_list()[13:]\n",
    "        user_breakdown_df['clustered_track'] = clustered_track#[:len(all_months_list)]\n",
    "        user_breakdown_df['self_track'] = self_track#[:len(all_months_list)]\n",
    "        user_breakdown_df['researcher_track'] = researcher_track#[:len(all_months_list)]        \n",
    "    else:\n",
    "        user_breakdown_df['year_month'] = all_months_list #-(12-today.month)\n",
    "        user_breakdown_df['clustered_track'] = clustered_track#[:len(all_months_list[:])]\n",
    "        user_breakdown_df['self_track'] = self_track#[:len(all_months_list[:])]\n",
    "        user_breakdown_df['researcher_track'] = researcher_track#[:len(all_months_list[:])]\n",
    "    display(user_breakdown_df.head(2))"
   ]
  },
  {
   "cell_type": "code",
   "execution_count": null,
   "metadata": {
    "tags": []
   },
   "outputs": [],
   "source": [
    "# user_breakdown_df.to_csv(cwd+'/cached_data/temp.csv')"
   ]
  },
  {
   "cell_type": "code",
   "execution_count": null,
   "metadata": {
    "tags": []
   },
   "outputs": [],
   "source": [
    "import re"
   ]
  },
  {
   "cell_type": "code",
   "execution_count": null,
   "metadata": {
    "tags": []
   },
   "outputs": [],
   "source": [
    "## read the dev_flags.txt to determine where to save\n",
    "with open(cwd+'/dev_flags.txt','r') as f:\n",
    "    raw_flags = f.read()\n",
    "flag_pattern = re.compile(r'= \\w+')\n",
    "flags1 = re.findall(flag_pattern,raw_flags)    \n",
    "flags_result = [i[2:] for i in flags1]\n",
    "dev_flag = flags_result[0]\n",
    "prod_flag = flags_result[1]"
   ]
  },
  {
   "cell_type": "code",
   "execution_count": null,
   "metadata": {
    "tags": []
   },
   "outputs": [],
   "source": [
    "import seaborn as sns\n",
    "import matplotlib.pyplot as plt\n",
    "sns.set()\n",
    "sns.set_style(\"whitegrid\")\n",
    "\n",
    "plt.figure(figsize=(9,6))\n",
    "# user_breakdown_df2 = user_breakdown_df.iloc[:-(12-today.month),:]\n",
    "user_breakdown_df2 = user_breakdown_df.iloc[:-12-(12-today.month),:]\n",
    "plt.stackplot(user_breakdown_df2.year_month, \\\n",
    "#               user_breakdown_df2[['clustered_track','self_track']].to_numpy().T, \\\n",
    "#              labels=['Classroom', 'Unclassified'], \\\n",
    "#              colors=['green', 'orange']); #Self-study              \n",
    "              user_breakdown_df2[['clustered_track', 'researcher_track','self_track']].to_numpy().T, \\\n",
    "             labels=['Classroom','Research', 'Unclassified'], \\\n",
    "             colors=['green', 'red', 'orange']); #Self-study\n",
    "\n",
    "plt.legend(loc='upper left')#,fontsize=14);\n",
    "plt.ylabel('12-month Trailing Total')#,fontsize=15)\n",
    "plt.xlim([datetime.datetime(2001,1,1), datetime.datetime(2021,7,1)])#,fontsize=15)\n",
    "# plt.show()\n",
    "\n",
    "if dev_flag == 'True':\n",
    "    plt.savefig(cwd+'/plots_local/simusers_class_res_unclass_12months.eps', dpi=1000, bbox_inches='tight')\n",
    "    plt.savefig(cwd+'/plots_local/simusers_class_res_unclass_12months.pdf', dpi=1000, bbox_inches='tight')\n",
    "    plt.savefig(cwd+'/plots_local/simusers_class_res_unclass_12months.png', dpi=1000, bbox_inches='tight')\n",
    "elif prod_flag == 'True':\n",
    "    plt.savefig(cwd+'/plots_production/simusers_class_res_unclass_12months.eps', dpi=1000, bbox_inches='tight')\n",
    "    plt.savefig(cwd+'/plots_production/simusers_class_res_unclass_12months.pdf', dpi=1000, bbox_inches='tight')\n",
    "    plt.savefig(cwd+'/plots_production/simusers_class_res_unclass_12months.png', dpi=1000, bbox_inches='tight')\n",
    "else:\n",
    "    print('no printing flag is active')"
   ]
  },
  {
   "cell_type": "code",
   "execution_count": null,
   "metadata": {
    "tags": []
   },
   "outputs": [],
   "source": [
    "user_breakdown_df2['clustered_track_per'] = 100*np.divide(user_breakdown_df2['clustered_track'],\\\n",
    "            user_breakdown_df2['clustered_track'].to_numpy()+user_breakdown_df2['researcher_track'].to_numpy()+\\\n",
    "                        user_breakdown_df2['self_track'].to_numpy())\n",
    "user_breakdown_df2['researcher_track_per'] = 100*np.divide(user_breakdown_df2['researcher_track'],\\\n",
    "            user_breakdown_df2['clustered_track'].to_numpy()+user_breakdown_df2['researcher_track'].to_numpy()+\\\n",
    "                        user_breakdown_df2['self_track'].to_numpy())\n",
    "user_breakdown_df2['self_track_per'] = 100*np.divide(user_breakdown_df2['self_track'],\\\n",
    "            user_breakdown_df2['clustered_track'].to_numpy()+user_breakdown_df2['researcher_track'].to_numpy()+\\\n",
    "                        user_breakdown_df2['self_track'].to_numpy())"
   ]
  },
  {
   "cell_type": "code",
   "execution_count": null,
   "metadata": {
    "tags": []
   },
   "outputs": [],
   "source": [
    "plt.figure(figsize=(9,6))\n",
    "plt.plot(user_breakdown_df2.year_month, user_breakdown_df2.clustered_track_per, label='classroom', \\\n",
    "             color='green');\n",
    "plt.plot(user_breakdown_df2.year_month, user_breakdown_df2.researcher_track_per, label='research', \\\n",
    "             color='red');\n",
    "plt.plot(user_breakdown_df2.year_month, user_breakdown_df2.self_track_per, label='self-study', \\\n",
    "             color='orange');\n",
    "\n",
    "plt.ylim([0, 100])\n",
    "plt.legend(loc='upper right');\n",
    "plt.ylabel('Percentage (%)');\n",
    "plt.xlim([datetime.datetime(2001,1,1), datetime.datetime(2021,7,1)])\n",
    "# plt.show()\n",
    "\n",
    "if dev_flag == 'True':\n",
    "    plt.savefig(cwd+'/plots_local/simusers_class_res_unclass_12months_percent.eps', dpi=1000, bbox_inches='tight')\n",
    "    plt.savefig(cwd+'/plots_local/simusers_class_res_unclass_12months_percent.pdf', dpi=1000, bbox_inches='tight')\n",
    "    plt.savefig(cwd+'/plots_local/simusers_class_res_unclass_12months_percent.png', dpi=1000, bbox_inches='tight')\n",
    "elif prod_flag == 'True':\n",
    "    plt.savefig(cwd+'/plots_production/simusers_class_res_unclass_12months_percent.eps', dpi=1000, bbox_inches='tight')\n",
    "    plt.savefig(cwd+'/plots_production/simusers_class_res_unclass_12months_percent.pdf', dpi=1000, bbox_inches='tight')\n",
    "    plt.savefig(cwd+'/plots_production/simusers_class_res_unclass_12months_percent.png', dpi=1000, bbox_inches='tight')\n",
    "else:\n",
    "    print('no printing flag is active')"
   ]
  },
  {
   "cell_type": "code",
   "execution_count": null,
   "metadata": {
    "tags": []
   },
   "outputs": [],
   "source": [
    "user_breakdown_df2.to_csv(cwd+'/cached_data/nh_user_breakdown.csv')"
   ]
  },
  {
   "cell_type": "code",
   "execution_count": null,
   "metadata": {},
   "outputs": [],
   "source": []
  },
  {
   "cell_type": "code",
   "execution_count": null,
   "metadata": {},
   "outputs": [],
   "source": []
  },
  {
   "cell_type": "code",
   "execution_count": null,
   "metadata": {},
   "outputs": [],
   "source": []
  }
 ],
 "metadata": {
  "kernelspec": {
   "display_name": "Python 3 (ipykernel)",
   "language": "python",
   "name": "python3"
  },
  "language_info": {
   "codemirror_mode": {
    "name": "ipython",
    "version": 3
   },
   "file_extension": ".py",
   "mimetype": "text/x-python",
   "name": "python",
   "nbconvert_exporter": "python",
   "pygments_lexer": "ipython3",
   "version": "3.8.10"
  }
 },
 "nbformat": 4,
 "nbformat_minor": 4
}
