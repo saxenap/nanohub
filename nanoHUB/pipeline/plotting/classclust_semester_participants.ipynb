{
 "cells": [
  {
   "cell_type": "code",
   "execution_count": 1,
   "metadata": {},
   "outputs": [],
   "source": [
    "## build researcher events, student events, and self-study events\n",
    "## researcher are simply those with NH citations"
   ]
  },
  {
   "cell_type": "code",
   "execution_count": 1,
   "metadata": {},
   "outputs": [],
   "source": [
    "import sys\n",
    "import pandas as pd\n",
    "import time\n",
    "import datetime"
   ]
  },
  {
   "cell_type": "code",
   "execution_count": 2,
   "metadata": {},
   "outputs": [],
   "source": [
    "import warnings\n",
    "warnings.filterwarnings('ignore')\n",
    "# warnings.filterwarnings(action='once')\n",
    "warnings.simplefilter(action='ignore', category=FutureWarning)"
   ]
  },
  {
   "cell_type": "code",
   "execution_count": 3,
   "metadata": {},
   "outputs": [
    {
     "name": "stdout",
     "output_type": "stream",
     "text": [
      "\n",
      "``````````````````````````````````````````````````````````````````````````````````````````````````````````````````````````````````````````````````````\n",
      "```````````````````````````````$$$$$``````````````````````````````````````````````````````````````````````````````````````````````````````````````````\n",
      "`````````````````````````````$$$$`$$$$````````````````````````````````````````````````````````````````````````````````````````````````````````````````\n",
      "`````````````````$$$$$```````$$`````$$$```````````````````````````````````````````````````````````````````````````````````````````````````````````````\n",
      "````````````````$$```$$``````$$$$``$$$````````````````````````````````````````````````````````````````````````````````````````````````````````````````\n",
      "````````````````$$$$$$$```````$$$$$$``````````````````````````````````````````````````````````````````````````````````````````````````````````````````\n",
      "``````$$$$````````$$$$$```````$$$``````$$$$$$`````````````````````````````````````````````````````````````````````````````````````````````````````````\n",
      "````$$$$`$$$$```````$$$$$$$$$$$$$``````$$``$$$````````````````````````````````````````````````````````````````````````````````````````````````````````\n",
      "````$$`````$$$```$$$$$$$$$`$$$$$$$$``$$$$$$$$$````````````````````````````````````````````````````````$$$```````$$$$``$$$```````$$$```$$$$$$$$$$$`````\n",
      "````$$````$$$$``$$$$$``````````$$$$$$$$$$$$$$````````````````````````````````````````````````````````$$$$```````$$$$`$$$$```````$$$$`$$$$$$$$$$$$$$```\n",
      "`````$$$$$$$`$$$$$$```````````````$$$$```````````$$$$$$$``````$$$$$$$$`````$$$$$$$```````$$$$$$$`````$$$$```````$$$$`$$$$```````$$$$`$$$$``````$$$$```\n",
      "``````````````$$$`````$$$$$$$$`````$$$$````````$$$$$$$$$$$``$$$$$$$$$$$``$$$$$$$$$$$```$$$$$$$$$$$```$$$$``````$$$$$`$$$$```````$$$$`$$$$`````$$$$$```\n",
      "``````````````$$$`````$$````$$`````$$$$````````$$$`````$$$$````````$$$$$`$$$$````$$$$`$$$$`````$$$$``$$$$$$$$$$$$$$$`$$$$```````$$$$`$$$$$$$$$$$$$$```\n",
      "`````$$$$$```$$$$`````$$````$$`````$$$$````````$$$`````$$$$``$$$$$$$$$$$`$$$$````$$$$`$$$$`````$$$$``$$$$```````$$$$`$$$$```````$$$$`$$$$``````$$$$$``\n",
      "```$$$``$$$$$$$$$`````$$````$$`````$$$$````````$$$`````$$$$`$$$$````$$$$`$$$$````$$$$`$$$$`````$$$$``$$$$```````$$$$`$$$$$``````$$$``$$$$```````$$$$``\n",
      "````$$$`$$$````$$$````````````````$$$$`````````$$$`````$$$$`$$$$$$$$$$$``$$$$````$$$$``$$$$$$$$$$$```$$$$```````$$$$``$$$$$$$$$$$$$``$$$$$$$$$$$$$$```\n",
      "``````$$$```````$$$$$``````````$$$$$$``````````$$$`````$$$$``$$$$$$$$$```$$$$````$$$$````$$$$$$$`````$$$$```````$$$$````$$$$$$$$$````$$$$$$$$$$$$$````\n",
      "````````````````$$$$$$$$$```$$$$$$$$``````````````````````````````````````````````````````````````````````````````````````````````````````````````````\n",
      "```````````$$$$$$$``$$$$$$$$$$$$```$$$$$$$$```````````````````````````````````````````````````````````````````````````````````````````````````````````\n",
      "````````$$$$$$$$$````````$$$````````$$$``$$$$`````````````````````````````````````````````````````````````````````````````````````````````````````````\n",
      "```````$$$````$$$````````$$$```````$$$````$$$`````````````````````````````````````````````````````````````````````````````````````````````````````````\n",
      "````````$$````$$$``````$$$$$$$``````$$$``$$$$`````````````````````````````````````````````````````````````````````````````````````````````````````````\n",
      "`````````$$$$$$````````$$$``$$````````$$$$````````````````````````````````````````````````````````````````````````````````````````````````````````````\n",
      "````````````````````````$$$$$`````````````````````````````````````````````````````````````````````````````````````````````````````````````````````````\n",
      "``````````````````````````````````````````````````````````````````````````````````````````````````````````````````````````````````````````````````````\n",
      "\n",
      "Serving Students, Researchers & Instructors\n",
      "\n"
     ]
    },
    {
     "name": "stderr",
     "output_type": "stream",
     "text": [
      "2021-08-05 20:03:25,475| WARNING | Could not read SSH configuration file: ~/.ssh/config\n"
     ]
    },
    {
     "name": "stdout",
     "output_type": "stream",
     "text": [
      "2021-08-05 20:03:25,475 - [WARNING] sshtunnel.SSHTunnelForwarder [sshtunnel._read_ssh_config:1032]: Could not read SSH configuration file: ~/.ssh/config\n",
      "2021-08-05 20:03:25,475 - [WARNING] sshtunnel.SSHTunnelForwarder [sshtunnel._read_ssh_config:1032]: Could not read SSH configuration file: ~/.ssh/config\n"
     ]
    },
    {
     "name": "stderr",
     "output_type": "stream",
     "text": [
      "2021-08-05 20:03:25,481| INFO    | 0 keys loaded from agent\n"
     ]
    },
    {
     "name": "stdout",
     "output_type": "stream",
     "text": [
      "2021-08-05 20:03:25,481 - [INFO] sshtunnel.SSHTunnelForwarder [sshtunnel.get_agent_keys:1060]: 0 keys loaded from agent\n",
      "2021-08-05 20:03:25,481 - [INFO] sshtunnel.SSHTunnelForwarder [sshtunnel.get_agent_keys:1060]: 0 keys loaded from agent\n"
     ]
    },
    {
     "name": "stderr",
     "output_type": "stream",
     "text": [
      "2021-08-05 20:03:25,487| INFO    | 0 key(s) loaded\n"
     ]
    },
    {
     "name": "stdout",
     "output_type": "stream",
     "text": [
      "2021-08-05 20:03:25,487 - [INFO] sshtunnel.SSHTunnelForwarder [sshtunnel.get_keys:1117]: 0 key(s) loaded\n",
      "2021-08-05 20:03:25,487 - [INFO] sshtunnel.SSHTunnelForwarder [sshtunnel.get_keys:1117]: 0 key(s) loaded\n"
     ]
    },
    {
     "name": "stderr",
     "output_type": "stream",
     "text": [
      "2021-08-05 20:03:25,493| INFO    | Connecting to gateway: db2.nanohub.org:22 as user 'wang2506'\n"
     ]
    },
    {
     "name": "stdout",
     "output_type": "stream",
     "text": [
      "2021-08-05 20:03:25,493 - [INFO] sshtunnel.SSHTunnelForwarder [sshtunnel.__init__:978]: Connecting to gateway: db2.nanohub.org:22 as user 'wang2506'\n",
      "2021-08-05 20:03:25,493 - [INFO] sshtunnel.SSHTunnelForwarder [sshtunnel.__init__:978]: Connecting to gateway: db2.nanohub.org:22 as user 'wang2506'\n",
      "2021-08-05 20:03:25,499 - [\u001b[1mINFO\u001b[0m] \u001b[1mnanoHUB.containers.dataaccess\u001b[0m [connection.get_connection_for:78]: Started SSH Tunnel with db2.nanohub.org\n"
     ]
    },
    {
     "name": "stderr",
     "output_type": "stream",
     "text": [
      "2021-08-05 20:03:25,884| INFO    | Opening tunnel: 0.0.0.0:33235 <> 127.0.0.1:3306\n"
     ]
    },
    {
     "name": "stdout",
     "output_type": "stream",
     "text": [
      "2021-08-05 20:03:25,884 - [INFO] sshtunnel.SSHTunnelForwarder [sshtunnel._serve_forever_wrapper:1433]: Opening tunnel: 0.0.0.0:33235 <> 127.0.0.1:3306\n",
      "2021-08-05 20:03:25,884 - [INFO] sshtunnel.SSHTunnelForwarder [sshtunnel._serve_forever_wrapper:1433]: Opening tunnel: 0.0.0.0:33235 <> 127.0.0.1:3306\n"
     ]
    },
    {
     "name": "stderr",
     "output_type": "stream",
     "text": [
      "2021-08-05 20:03:26,062| WARNING | Could not read SSH configuration file: ~/.ssh/config\n"
     ]
    },
    {
     "name": "stdout",
     "output_type": "stream",
     "text": [
      "2021-08-05 20:03:26,062 - [WARNING] sshtunnel.SSHTunnelForwarder [sshtunnel._read_ssh_config:1032]: Could not read SSH configuration file: ~/.ssh/config\n",
      "2021-08-05 20:03:26,062 - [WARNING] sshtunnel.SSHTunnelForwarder [sshtunnel._read_ssh_config:1032]: Could not read SSH configuration file: ~/.ssh/config\n"
     ]
    },
    {
     "name": "stderr",
     "output_type": "stream",
     "text": [
      "2021-08-05 20:03:26,069| INFO    | 0 keys loaded from agent\n"
     ]
    },
    {
     "name": "stdout",
     "output_type": "stream",
     "text": [
      "2021-08-05 20:03:26,069 - [INFO] sshtunnel.SSHTunnelForwarder [sshtunnel.get_agent_keys:1060]: 0 keys loaded from agent\n",
      "2021-08-05 20:03:26,069 - [INFO] sshtunnel.SSHTunnelForwarder [sshtunnel.get_agent_keys:1060]: 0 keys loaded from agent\n"
     ]
    },
    {
     "name": "stderr",
     "output_type": "stream",
     "text": [
      "2021-08-05 20:03:26,075| INFO    | 0 key(s) loaded\n"
     ]
    },
    {
     "name": "stdout",
     "output_type": "stream",
     "text": [
      "2021-08-05 20:03:26,075 - [INFO] sshtunnel.SSHTunnelForwarder [sshtunnel.get_keys:1117]: 0 key(s) loaded\n",
      "2021-08-05 20:03:26,075 - [INFO] sshtunnel.SSHTunnelForwarder [sshtunnel.get_keys:1117]: 0 key(s) loaded\n"
     ]
    },
    {
     "name": "stderr",
     "output_type": "stream",
     "text": [
      "2021-08-05 20:03:26,081| INFO    | Connecting to gateway: db2.nanohub.org:22 as user 'wang2506'\n"
     ]
    },
    {
     "name": "stdout",
     "output_type": "stream",
     "text": [
      "2021-08-05 20:03:26,081 - [INFO] sshtunnel.SSHTunnelForwarder [sshtunnel.__init__:978]: Connecting to gateway: db2.nanohub.org:22 as user 'wang2506'\n",
      "2021-08-05 20:03:26,081 - [INFO] sshtunnel.SSHTunnelForwarder [sshtunnel.__init__:978]: Connecting to gateway: db2.nanohub.org:22 as user 'wang2506'\n",
      "2021-08-05 20:03:26,088 - [\u001b[1mINFO\u001b[0m] \u001b[1mnanoHUB.containers.dataaccess\u001b[0m [connection.get_connection_for:78]: Started SSH Tunnel with db2.nanohub.org\n"
     ]
    },
    {
     "name": "stderr",
     "output_type": "stream",
     "text": [
      "2021-08-05 20:03:26,341| INFO    | Opening tunnel: 0.0.0.0:36041 <> 127.0.0.1:3306\n"
     ]
    },
    {
     "name": "stdout",
     "output_type": "stream",
     "text": [
      "2021-08-05 20:03:26,341 - [INFO] sshtunnel.SSHTunnelForwarder [sshtunnel._serve_forever_wrapper:1433]: Opening tunnel: 0.0.0.0:36041 <> 127.0.0.1:3306\n",
      "2021-08-05 20:03:26,341 - [INFO] sshtunnel.SSHTunnelForwarder [sshtunnel._serve_forever_wrapper:1433]: Opening tunnel: 0.0.0.0:36041 <> 127.0.0.1:3306\n"
     ]
    },
    {
     "name": "stderr",
     "output_type": "stream",
     "text": [
      "2021-08-05 20:03:26,518| WARNING | Could not read SSH configuration file: ~/.ssh/config\n"
     ]
    },
    {
     "name": "stdout",
     "output_type": "stream",
     "text": [
      "2021-08-05 20:03:26,518 - [WARNING] sshtunnel.SSHTunnelForwarder [sshtunnel._read_ssh_config:1032]: Could not read SSH configuration file: ~/.ssh/config\n",
      "2021-08-05 20:03:26,518 - [WARNING] sshtunnel.SSHTunnelForwarder [sshtunnel._read_ssh_config:1032]: Could not read SSH configuration file: ~/.ssh/config\n"
     ]
    },
    {
     "name": "stderr",
     "output_type": "stream",
     "text": [
      "2021-08-05 20:03:26,524| INFO    | 0 keys loaded from agent\n"
     ]
    },
    {
     "name": "stdout",
     "output_type": "stream",
     "text": [
      "2021-08-05 20:03:26,524 - [INFO] sshtunnel.SSHTunnelForwarder [sshtunnel.get_agent_keys:1060]: 0 keys loaded from agent\n",
      "2021-08-05 20:03:26,524 - [INFO] sshtunnel.SSHTunnelForwarder [sshtunnel.get_agent_keys:1060]: 0 keys loaded from agent\n"
     ]
    },
    {
     "name": "stderr",
     "output_type": "stream",
     "text": [
      "2021-08-05 20:03:26,530| INFO    | 0 key(s) loaded\n"
     ]
    },
    {
     "name": "stdout",
     "output_type": "stream",
     "text": [
      "2021-08-05 20:03:26,530 - [INFO] sshtunnel.SSHTunnelForwarder [sshtunnel.get_keys:1117]: 0 key(s) loaded\n",
      "2021-08-05 20:03:26,530 - [INFO] sshtunnel.SSHTunnelForwarder [sshtunnel.get_keys:1117]: 0 key(s) loaded\n"
     ]
    },
    {
     "name": "stderr",
     "output_type": "stream",
     "text": [
      "2021-08-05 20:03:26,536| INFO    | Connecting to gateway: db2.nanohub.org:22 as user 'wang2506'\n"
     ]
    },
    {
     "name": "stdout",
     "output_type": "stream",
     "text": [
      "2021-08-05 20:03:26,536 - [INFO] sshtunnel.SSHTunnelForwarder [sshtunnel.__init__:978]: Connecting to gateway: db2.nanohub.org:22 as user 'wang2506'\n",
      "2021-08-05 20:03:26,536 - [INFO] sshtunnel.SSHTunnelForwarder [sshtunnel.__init__:978]: Connecting to gateway: db2.nanohub.org:22 as user 'wang2506'\n",
      "2021-08-05 20:03:26,542 - [\u001b[1mINFO\u001b[0m] \u001b[1mnanoHUB.containers.dataaccess\u001b[0m [connection.get_connection_for:78]: Started SSH Tunnel with db2.nanohub.org\n"
     ]
    },
    {
     "name": "stderr",
     "output_type": "stream",
     "text": [
      "2021-08-05 20:03:26,813| INFO    | Opening tunnel: 0.0.0.0:37787 <> 127.0.0.1:3306\n"
     ]
    },
    {
     "name": "stdout",
     "output_type": "stream",
     "text": [
      "2021-08-05 20:03:26,813 - [INFO] sshtunnel.SSHTunnelForwarder [sshtunnel._serve_forever_wrapper:1433]: Opening tunnel: 0.0.0.0:37787 <> 127.0.0.1:3306\n",
      "2021-08-05 20:03:26,813 - [INFO] sshtunnel.SSHTunnelForwarder [sshtunnel._serve_forever_wrapper:1433]: Opening tunnel: 0.0.0.0:37787 <> 127.0.0.1:3306\n",
      "Obtained Salesforce access token ...... True\n"
     ]
    }
   ],
   "source": [
    "from nanoHUB.application import Application\n",
    "\n",
    "application = Application.get_instance()\n",
    "nanohub_db = application.new_db_engine('nanohub')\n",
    "nanohub_metrics_db = application.new_db_engine('nanohub_metrics')\n",
    "wang159_myrmekes_db = application.new_db_engine('wang159_myrmekes')\n",
    "\n",
    "salesforce = application.new_salesforce_engine()\n",
    "db_s = salesforce"
   ]
  },
  {
   "cell_type": "markdown",
   "metadata": {},
   "source": [
    "## Classroom activity plots"
   ]
  },
  {
   "cell_type": "code",
   "execution_count": 4,
   "metadata": {},
   "outputs": [],
   "source": [
    "## students and classes per semester\n",
    "from copy import deepcopy"
   ]
  },
  {
   "cell_type": "code",
   "execution_count": 5,
   "metadata": {},
   "outputs": [],
   "source": [
    "## pull all classroom users from SF\n",
    "db_1 = deepcopy(db_s)"
   ]
  },
  {
   "cell_type": "code",
   "execution_count": 6,
   "metadata": {},
   "outputs": [
    {
     "name": "stdout",
     "output_type": "stream",
     "text": [
      "[Success] Bulk job creation successful. Job ID = 7505w00000Yci2hAAB\n",
      "{\"id\":\"7505w00000Yci2hAAB\",\"operation\":\"query\",\"object\":\"ContactToolClusterAssociation__c\",\"createdById\":\"0055w00000DM5bOAAT\",\"createdDate\":\"2021-08-05T20:03:53.000+0000\",\"systemModstamp\":\"2021-08-05T20:03:53.000+0000\",\"state\":\"UploadComplete\",\"concurrencyMode\":\"Parallel\",\"contentType\":\"CSV\",\"apiVersion\":47.0,\"jobType\":\"V2Query\",\"lineEnding\":\"LF\",\"columnDelimiter\":\"COMMA\",\"retries\":0,\"totalProcessingTime\":0}\n",
      "{\"id\":\"7505w00000Yci2hAAB\",\"operation\":\"query\",\"object\":\"ContactToolClusterAssociation__c\",\"createdById\":\"0055w00000DM5bOAAT\",\"createdDate\":\"2021-08-05T20:03:53.000+0000\",\"systemModstamp\":\"2021-08-05T20:04:03.000+0000\",\"state\":\"JobComplete\",\"concurrencyMode\":\"Parallel\",\"contentType\":\"CSV\",\"apiVersion\":47.0,\"jobType\":\"V2Query\",\"lineEnding\":\"LF\",\"columnDelimiter\":\"COMMA\",\"numberRecordsProcessed\":98079,\"retries\":0,\"totalProcessingTime\":8407}\n",
      "[Success] Bulk job completed successfully.\n"
     ]
    }
   ],
   "source": [
    "## pull the list of contacts within each cluster\n",
    "contacts_in_cluster_df = db_1.query_data('Select Id, Contact__c, Tool_Usage_Cluster__c from ContactToolClusterAssociation__c')"
   ]
  },
  {
   "cell_type": "code",
   "execution_count": 7,
   "metadata": {},
   "outputs": [
    {
     "data": {
      "text/html": [
       "<div>\n",
       "<style scoped>\n",
       "    .dataframe tbody tr th:only-of-type {\n",
       "        vertical-align: middle;\n",
       "    }\n",
       "\n",
       "    .dataframe tbody tr th {\n",
       "        vertical-align: top;\n",
       "    }\n",
       "\n",
       "    .dataframe thead th {\n",
       "        text-align: right;\n",
       "    }\n",
       "</style>\n",
       "<table border=\"1\" class=\"dataframe\">\n",
       "  <thead>\n",
       "    <tr style=\"text-align: right;\">\n",
       "      <th></th>\n",
       "      <th>Contact__c</th>\n",
       "      <th>Id</th>\n",
       "      <th>Tool_Usage_Cluster__c</th>\n",
       "    </tr>\n",
       "  </thead>\n",
       "  <tbody>\n",
       "    <tr>\n",
       "      <th>0</th>\n",
       "      <td>0035w000034JG1EAAW</td>\n",
       "      <td>a0x5w00000cMzV5AAK</td>\n",
       "      <td>a0w5w000009Q7m3AAC</td>\n",
       "    </tr>\n",
       "    <tr>\n",
       "      <th>1</th>\n",
       "      <td>0035w000034I5sjAAC</td>\n",
       "      <td>a0x5w00000cMzVAAA0</td>\n",
       "      <td>a0w5w000009Q7m3AAC</td>\n",
       "    </tr>\n",
       "    <tr>\n",
       "      <th>2</th>\n",
       "      <td>0035w000034IQMqAAO</td>\n",
       "      <td>a0x5w00000cN122AAC</td>\n",
       "      <td>a0w5w000009Q7twAAC</td>\n",
       "    </tr>\n",
       "    <tr>\n",
       "      <th>3</th>\n",
       "      <td>0035w000034JG1EAAW</td>\n",
       "      <td>a0x5w00000cN28DAAS</td>\n",
       "      <td>a0w5w000009Q7lsAAC</td>\n",
       "    </tr>\n",
       "    <tr>\n",
       "      <th>4</th>\n",
       "      <td>0035w000034JJ0aAAG</td>\n",
       "      <td>a0x5w00000cN327AAC</td>\n",
       "      <td>a0w5w000009Q7iZAAS</td>\n",
       "    </tr>\n",
       "    <tr>\n",
       "      <th>...</th>\n",
       "      <td>...</td>\n",
       "      <td>...</td>\n",
       "      <td>...</td>\n",
       "    </tr>\n",
       "    <tr>\n",
       "      <th>98074</th>\n",
       "      <td>0035w000034K1OoAAK</td>\n",
       "      <td>a0x5w00000cSDRmAAO</td>\n",
       "      <td>a0w5w000009Q7v0AAC</td>\n",
       "    </tr>\n",
       "    <tr>\n",
       "      <th>98075</th>\n",
       "      <td>0035w000034K1bTAAS</td>\n",
       "      <td>a0x5w00000cSDRnAAO</td>\n",
       "      <td>a0w5w000009Q7v0AAC</td>\n",
       "    </tr>\n",
       "    <tr>\n",
       "      <th>98076</th>\n",
       "      <td>0035w000034K1OuAAK</td>\n",
       "      <td>a0x5w00000cSDRoAAO</td>\n",
       "      <td>a0w5w000009Q7v0AAC</td>\n",
       "    </tr>\n",
       "    <tr>\n",
       "      <th>98077</th>\n",
       "      <td>0035w000034IUvvAAG</td>\n",
       "      <td>a0x5w00000cSDRpAAO</td>\n",
       "      <td>a0w5w000009Q7v0AAC</td>\n",
       "    </tr>\n",
       "    <tr>\n",
       "      <th>98078</th>\n",
       "      <td>0035w000034K1OtAAK</td>\n",
       "      <td>a0x5w00000cSDRqAAO</td>\n",
       "      <td>a0w5w000009Q7v0AAC</td>\n",
       "    </tr>\n",
       "  </tbody>\n",
       "</table>\n",
       "<p>98079 rows × 3 columns</p>\n",
       "</div>"
      ],
      "text/plain": [
       "               Contact__c                  Id Tool_Usage_Cluster__c\n",
       "0      0035w000034JG1EAAW  a0x5w00000cMzV5AAK    a0w5w000009Q7m3AAC\n",
       "1      0035w000034I5sjAAC  a0x5w00000cMzVAAA0    a0w5w000009Q7m3AAC\n",
       "2      0035w000034IQMqAAO  a0x5w00000cN122AAC    a0w5w000009Q7twAAC\n",
       "3      0035w000034JG1EAAW  a0x5w00000cN28DAAS    a0w5w000009Q7lsAAC\n",
       "4      0035w000034JJ0aAAG  a0x5w00000cN327AAC    a0w5w000009Q7iZAAS\n",
       "...                   ...                 ...                   ...\n",
       "98074  0035w000034K1OoAAK  a0x5w00000cSDRmAAO    a0w5w000009Q7v0AAC\n",
       "98075  0035w000034K1bTAAS  a0x5w00000cSDRnAAO    a0w5w000009Q7v0AAC\n",
       "98076  0035w000034K1OuAAK  a0x5w00000cSDRoAAO    a0w5w000009Q7v0AAC\n",
       "98077  0035w000034IUvvAAG  a0x5w00000cSDRpAAO    a0w5w000009Q7v0AAC\n",
       "98078  0035w000034K1OtAAK  a0x5w00000cSDRqAAO    a0w5w000009Q7v0AAC\n",
       "\n",
       "[98079 rows x 3 columns]"
      ]
     },
     "execution_count": 7,
     "metadata": {},
     "output_type": "execute_result"
    }
   ],
   "source": [
    "contacts_in_cluster_df"
   ]
  },
  {
   "cell_type": "code",
   "execution_count": 13,
   "metadata": {},
   "outputs": [],
   "source": [
    "import os\n",
    "cwd = os.getcwd()"
   ]
  },
  {
   "cell_type": "code",
   "execution_count": 17,
   "metadata": {},
   "outputs": [],
   "source": [
    "if contacts_in_cluster_df.shape[0] < 9*1e4:\n",
    "    print('sf import cluster data issue again, using backup cluster results')\n",
    "    contacts_in_cluster_df = pd.read_csv(cwd+'/backup_contacts_in_clusters.csv')\n",
    "    contacts_in_cluster_df = contacts_in_cluster_df.drop(columns=['Unnamed: 0'])\n",
    "    print(contacts_in_cluster_df.head(5))\n",
    "    print(contacts_in_cluster_df.shape)\n",
    "else:\n",
    "    contacts_in_cluster_df.to_csv(cwd+'/backup_contacts_in_clusters.csv')"
   ]
  },
  {
   "cell_type": "code",
   "execution_count": 15,
   "metadata": {},
   "outputs": [
    {
     "name": "stdout",
     "output_type": "stream",
     "text": [
      "[Success] Bulk job creation successful. Job ID = 7505w00000Yci3uAAB\n",
      "{\"id\":\"7505w00000Yci3uAAB\",\"operation\":\"query\",\"object\":\"tool_usage_cluster__c\",\"createdById\":\"0055w00000DM5bOAAT\",\"createdDate\":\"2021-08-05T20:05:44.000+0000\",\"systemModstamp\":\"2021-08-05T20:05:45.000+0000\",\"state\":\"InProgress\",\"concurrencyMode\":\"Parallel\",\"contentType\":\"CSV\",\"apiVersion\":47.0,\"jobType\":\"V2Query\",\"lineEnding\":\"LF\",\"columnDelimiter\":\"COMMA\",\"numberRecordsProcessed\":0,\"retries\":0,\"totalProcessingTime\":0}\n",
      "{\"id\":\"7505w00000Yci3uAAB\",\"operation\":\"query\",\"object\":\"tool_usage_cluster__c\",\"createdById\":\"0055w00000DM5bOAAT\",\"createdDate\":\"2021-08-05T20:05:44.000+0000\",\"systemModstamp\":\"2021-08-05T20:05:46.000+0000\",\"state\":\"JobComplete\",\"concurrencyMode\":\"Parallel\",\"contentType\":\"CSV\",\"apiVersion\":47.0,\"jobType\":\"V2Query\",\"lineEnding\":\"LF\",\"columnDelimiter\":\"COMMA\",\"numberRecordsProcessed\":4290,\"retries\":0,\"totalProcessingTime\":896}\n",
      "[Success] Bulk job completed successfully.\n",
      "(4290, 5)\n",
      "  Ending_Date__c  ID__c                  Id Semester__c Starting_Date__c\n",
      "0     2011-01-30    4.0  a0w5w000009Q7CuAAK        Fall       2010-09-05\n",
      "1     2018-11-30    5.0  a0w5w000009Q7CvAAK        Fall       2018-11-29\n",
      "2     2019-11-28    6.0  a0w5w000009Q7CwAAK        Fall       2019-11-04\n",
      "3     2017-10-29    7.0  a0w5w000009Q7CxAAK        Fall       2017-10-21\n",
      "4     2018-01-21    8.0  a0w5w000009Q7CyAAK      Spring       2018-01-15\n"
     ]
    }
   ],
   "source": [
    "clusters_df = db_1.query_data('Select id, ID__c, Semester__c, Ending_Date__c, Starting_Date__c from tool_usage_cluster__c')\n",
    "print(clusters_df.shape)\n",
    "print(clusters_df.head(5))"
   ]
  },
  {
   "cell_type": "code",
   "execution_count": 18,
   "metadata": {},
   "outputs": [],
   "source": [
    "if clusters_df.shape[0] < 3e3:\n",
    "    print('sf import cluster data issue again, using backup cluster results')\n",
    "    clusters_df = pd.read_csv(cwd+'/backup_tool_cluster_df.csv')\n",
    "    clusters_df = clusters_df.drop(columns=['Unnamed: 0'])\n",
    "    print(clusters_df.head(5))\n",
    "    print(clusters_df.shape)\n",
    "else:\n",
    "    clusters_df.to_csv(cwd+'/backup_tool_cluster_df.csv')"
   ]
  },
  {
   "cell_type": "code",
   "execution_count": 20,
   "metadata": {},
   "outputs": [],
   "source": [
    "import datetime\n",
    "today = datetime.datetime.today()"
   ]
  },
  {
   "cell_type": "code",
   "execution_count": 21,
   "metadata": {},
   "outputs": [
    {
     "data": {
      "text/plain": [
       "[0, 1, 2, 3, 4]"
      ]
     },
     "metadata": {},
     "output_type": "display_data"
    }
   ],
   "source": [
    "## filter by starting_date__c\n",
    "cluster_dts = pd.to_datetime(clusters_df['Starting_Date__c'])\n",
    "\n",
    "## don't use current year's data\n",
    "cluster_dts2 = clusters_df[cluster_dts <= today]\n",
    "cluster_dts2 = cluster_dts2.reset_index()['index'].to_list()\n",
    "display(cluster_dts2[:5])"
   ]
  },
  {
   "cell_type": "code",
   "execution_count": 22,
   "metadata": {},
   "outputs": [],
   "source": [
    "clusters_df2 = clusters_df.iloc[cluster_dts2,:]"
   ]
  },
  {
   "cell_type": "code",
   "execution_count": 23,
   "metadata": {},
   "outputs": [],
   "source": [
    "clusters_df2 = clusters_df2.reset_index().drop(columns='index')"
   ]
  },
  {
   "cell_type": "code",
   "execution_count": 24,
   "metadata": {},
   "outputs": [
    {
     "data": {
      "text/html": [
       "<div>\n",
       "<style scoped>\n",
       "    .dataframe tbody tr th:only-of-type {\n",
       "        vertical-align: middle;\n",
       "    }\n",
       "\n",
       "    .dataframe tbody tr th {\n",
       "        vertical-align: top;\n",
       "    }\n",
       "\n",
       "    .dataframe thead th {\n",
       "        text-align: right;\n",
       "    }\n",
       "</style>\n",
       "<table border=\"1\" class=\"dataframe\">\n",
       "  <thead>\n",
       "    <tr style=\"text-align: right;\">\n",
       "      <th></th>\n",
       "      <th>Ending_Date__c</th>\n",
       "      <th>ID__c</th>\n",
       "      <th>Id</th>\n",
       "      <th>Semester__c</th>\n",
       "      <th>Starting_Date__c</th>\n",
       "    </tr>\n",
       "  </thead>\n",
       "  <tbody>\n",
       "    <tr>\n",
       "      <th>0</th>\n",
       "      <td>2011-01-30</td>\n",
       "      <td>4.0</td>\n",
       "      <td>a0w5w000009Q7CuAAK</td>\n",
       "      <td>Fall</td>\n",
       "      <td>2010-09-05</td>\n",
       "    </tr>\n",
       "    <tr>\n",
       "      <th>1</th>\n",
       "      <td>2018-11-30</td>\n",
       "      <td>5.0</td>\n",
       "      <td>a0w5w000009Q7CvAAK</td>\n",
       "      <td>Fall</td>\n",
       "      <td>2018-11-29</td>\n",
       "    </tr>\n",
       "    <tr>\n",
       "      <th>2</th>\n",
       "      <td>2019-11-28</td>\n",
       "      <td>6.0</td>\n",
       "      <td>a0w5w000009Q7CwAAK</td>\n",
       "      <td>Fall</td>\n",
       "      <td>2019-11-04</td>\n",
       "    </tr>\n",
       "    <tr>\n",
       "      <th>3</th>\n",
       "      <td>2017-10-29</td>\n",
       "      <td>7.0</td>\n",
       "      <td>a0w5w000009Q7CxAAK</td>\n",
       "      <td>Fall</td>\n",
       "      <td>2017-10-21</td>\n",
       "    </tr>\n",
       "    <tr>\n",
       "      <th>4</th>\n",
       "      <td>2018-01-21</td>\n",
       "      <td>8.0</td>\n",
       "      <td>a0w5w000009Q7CyAAK</td>\n",
       "      <td>Spring</td>\n",
       "      <td>2018-01-15</td>\n",
       "    </tr>\n",
       "    <tr>\n",
       "      <th>...</th>\n",
       "      <td>...</td>\n",
       "      <td>...</td>\n",
       "      <td>...</td>\n",
       "      <td>...</td>\n",
       "      <td>...</td>\n",
       "    </tr>\n",
       "    <tr>\n",
       "      <th>4285</th>\n",
       "      <td>2021-04-16</td>\n",
       "      <td>4285.0</td>\n",
       "      <td>a0w5w00000AXc8nAAD</td>\n",
       "      <td>Spring</td>\n",
       "      <td>2021-04-16</td>\n",
       "    </tr>\n",
       "    <tr>\n",
       "      <th>4286</th>\n",
       "      <td>2021-04-02</td>\n",
       "      <td>4286.0</td>\n",
       "      <td>a0w5w00000AXc8oAAD</td>\n",
       "      <td>Spring</td>\n",
       "      <td>2021-03-30</td>\n",
       "    </tr>\n",
       "    <tr>\n",
       "      <th>4287</th>\n",
       "      <td>2021-04-03</td>\n",
       "      <td>4287.0</td>\n",
       "      <td>a0w5w00000AXc8pAAD</td>\n",
       "      <td>Spring</td>\n",
       "      <td>2021-03-27</td>\n",
       "    </tr>\n",
       "    <tr>\n",
       "      <th>4288</th>\n",
       "      <td>2021-04-01</td>\n",
       "      <td>4288.0</td>\n",
       "      <td>a0w5w00000AXc8qAAD</td>\n",
       "      <td>Spring</td>\n",
       "      <td>2021-03-27</td>\n",
       "    </tr>\n",
       "    <tr>\n",
       "      <th>4289</th>\n",
       "      <td>2021-04-07</td>\n",
       "      <td>4289.0</td>\n",
       "      <td>a0w5w00000AXc8rAAD</td>\n",
       "      <td>Spring</td>\n",
       "      <td>2021-04-04</td>\n",
       "    </tr>\n",
       "  </tbody>\n",
       "</table>\n",
       "<p>4290 rows × 5 columns</p>\n",
       "</div>"
      ],
      "text/plain": [
       "     Ending_Date__c   ID__c                  Id Semester__c Starting_Date__c\n",
       "0        2011-01-30     4.0  a0w5w000009Q7CuAAK        Fall       2010-09-05\n",
       "1        2018-11-30     5.0  a0w5w000009Q7CvAAK        Fall       2018-11-29\n",
       "2        2019-11-28     6.0  a0w5w000009Q7CwAAK        Fall       2019-11-04\n",
       "3        2017-10-29     7.0  a0w5w000009Q7CxAAK        Fall       2017-10-21\n",
       "4        2018-01-21     8.0  a0w5w000009Q7CyAAK      Spring       2018-01-15\n",
       "...             ...     ...                 ...         ...              ...\n",
       "4285     2021-04-16  4285.0  a0w5w00000AXc8nAAD      Spring       2021-04-16\n",
       "4286     2021-04-02  4286.0  a0w5w00000AXc8oAAD      Spring       2021-03-30\n",
       "4287     2021-04-03  4287.0  a0w5w00000AXc8pAAD      Spring       2021-03-27\n",
       "4288     2021-04-01  4288.0  a0w5w00000AXc8qAAD      Spring       2021-03-27\n",
       "4289     2021-04-07  4289.0  a0w5w00000AXc8rAAD      Spring       2021-04-04\n",
       "\n",
       "[4290 rows x 5 columns]"
      ]
     },
     "execution_count": 24,
     "metadata": {},
     "output_type": "execute_result"
    }
   ],
   "source": [
    "clusters_df2"
   ]
  },
  {
   "cell_type": "code",
   "execution_count": 26,
   "metadata": {},
   "outputs": [],
   "source": [
    "start_year_base = 1999\n",
    "clusters_df2['Starting_Date__c'] = pd.to_datetime(clusters_df2['Starting_Date__c'])"
   ]
  },
  {
   "cell_type": "code",
   "execution_count": 41,
   "metadata": {},
   "outputs": [],
   "source": [
    "## calculate classes per semester\n",
    "starting_year = deepcopy(start_year_base)\n",
    "semester_list = ['Spring','Fall','Summer']\n",
    "# group Spring and Summer togethre\n",
    "\n",
    "months_sems = []\n",
    "\n",
    "while starting_year < today.year+1:\n",
    "    for i in semester_list:\n",
    "        if i == 'Fall':\n",
    "            months_sems.append(datetime.datetime.strptime(str(starting_year)+'-07-01', '%Y-%m-%d') )\n",
    "        elif i == 'Spring':\n",
    "            months_sems.append(datetime.datetime.strptime(str(starting_year)+'-01-01', '%Y-%m-%d') )\n",
    "    starting_year += 1"
   ]
  },
  {
   "cell_type": "code",
   "execution_count": 42,
   "metadata": {},
   "outputs": [],
   "source": [
    "cluster_ids_per_sem = {}\n",
    "for i,j in enumerate(months_sems):\n",
    "    if i == 0:\n",
    "        cluster_ids_per_sem[i] = clusters_df2['Id'].to_numpy()[clusters_df2['Starting_Date__c'] < months_sems[i+1]]\n",
    "    elif i == len(months_sems)-1:\n",
    "        cluster_ids_per_sem[i] = clusters_df2['Id'].to_numpy()[(clusters_df2['Starting_Date__c'] > j)]\n",
    "    else:\n",
    "        cluster_ids_per_sem[i] = clusters_df2['Id'].to_numpy()[(clusters_df2['Starting_Date__c'] > j) \\\n",
    "                        & (clusters_df2['Starting_Date__c'] < months_sems[i+1])]"
   ]
  },
  {
   "cell_type": "code",
   "execution_count": 43,
   "metadata": {},
   "outputs": [],
   "source": [
    "## produce classes sizes per semester\n",
    "cluster_ids_per_sem_nums = [len(i) for i in cluster_ids_per_sem.values()]"
   ]
  },
  {
   "cell_type": "code",
   "execution_count": 44,
   "metadata": {},
   "outputs": [],
   "source": [
    "# # find overlaps\n",
    "# ttt = np.in1d(np.array(clusters_df['Id']),np.array(contacts_in_cluster_df['Tool_Usage_Cluster__c']))\n",
    "# len(ttt)"
   ]
  },
  {
   "cell_type": "code",
   "execution_count": 45,
   "metadata": {},
   "outputs": [],
   "source": [
    "import numpy as np"
   ]
  },
  {
   "cell_type": "code",
   "execution_count": 46,
   "metadata": {},
   "outputs": [],
   "source": [
    "## find the student populations per semester\n",
    "students = []\n",
    "students_count = []\n",
    "for i in cluster_ids_per_sem.values():\n",
    "    bool_students = np.in1d(np.array(contacts_in_cluster_df['Tool_Usage_Cluster__c'].to_list()),np.array(i))\n",
    "    \n",
    "    students.append(contacts_in_cluster_df['Contact__c'].to_numpy()[np.where(bool_students)[0]]) #dataframe indexes\n",
    "    students_count.append(len(students[-1]))"
   ]
  },
  {
   "cell_type": "code",
   "execution_count": 47,
   "metadata": {
    "tags": []
   },
   "outputs": [],
   "source": [
    "months_sems2 = [str(i.year)+'-0'+str(i.month) for i in months_sems]"
   ]
  },
  {
   "cell_type": "code",
   "execution_count": 50,
   "metadata": {},
   "outputs": [
    {
     "data": {
      "text/plain": [
       "8"
      ]
     },
     "execution_count": 50,
     "metadata": {},
     "output_type": "execute_result"
    }
   ],
   "source": [
    "today.month"
   ]
  },
  {
   "cell_type": "code",
   "execution_count": 58,
   "metadata": {},
   "outputs": [],
   "source": [
    "if today.month > 7 and today.month != 12:\n",
    "    months_sems_plot = months_sems2[:-1]\n",
    "    cluster_ids_per_sem_nums_plots = cluster_ids_per_sem_nums[:-1]\n",
    "    students_count_plot = students_count[:-1]\n",
    "elif today.month > 1 and today.month != 7:\n",
    "    months_sems_plot = months_sems2[:-1]\n",
    "    cluster_ids_per_sem_nums_plots = cluster_ids_per_sem_nums[:-1]\n",
    "    students_count_plot = students_count[:-1]\n",
    "else:\n",
    "    months_sems_plot = deepcopy(months_sems2)\n",
    "    cluster_ids_per_sem_nums_plots = deepcopy(cluster_ids_per_sem_nums)\n",
    "    students_count_plot = deepcopy(students_count)"
   ]
  },
  {
   "cell_type": "code",
   "execution_count": 61,
   "metadata": {},
   "outputs": [],
   "source": [
    "import re"
   ]
  },
  {
   "cell_type": "code",
   "execution_count": 62,
   "metadata": {},
   "outputs": [],
   "source": [
    "## read the dev_flags.txt to determine where to save\n",
    "with open(cwd+'/dev_flags.txt','r') as f:\n",
    "    raw_flags = f.read()\n",
    "flag_pattern = re.compile(r'= \\w+')\n",
    "flags1 = re.findall(flag_pattern,raw_flags)    \n",
    "flags_result = [i[2:] for i in flags1]\n",
    "dev_flag = flags_result[0]\n",
    "prod_flag = flags_result[1]"
   ]
  },
  {
   "cell_type": "code",
   "execution_count": 54,
   "metadata": {},
   "outputs": [],
   "source": [
    "import matplotlib.pyplot as plt\n",
    "import seaborn as sns"
   ]
  },
  {
   "cell_type": "code",
   "execution_count": 64,
   "metadata": {},
   "outputs": [
    {
     "data": {
      "image/png": "[encoded data removed]",
      "text/plain": [
       "<Figure size 648x432 with 1 Axes>"
      ]
     },
     "metadata": {
      "needs_background": "light"
     },
     "output_type": "display_data"
    },
    {
     "data": {
      "image/png": "[encoded data removed]",
      "text/plain": [
       "<Figure size 648x432 with 1 Axes>"
      ]
     },
     "metadata": {
      "needs_background": "light"
     },
     "output_type": "display_data"
    }
   ],
   "source": [
    "## plot two bar plots\n",
    "plt.figure(figsize=(9,6))\n",
    "\n",
    "g = sns.barplot(months_sems_plot, cluster_ids_per_sem_nums_plots, color='blue');\n",
    "g.set_xticklabels(months_sems_plot, rotation=90)\n",
    "\n",
    "plt.xlabel('Semester')\n",
    "plt.ylabel('Classes')\n",
    "\n",
    "## specify algorithm name\n",
    "if dev_flag == 'True':\n",
    "    plt.savefig(cwd+'/plots_local/classclust_semester_XW_classes.eps', dpi=1000, bbox_inches='tight')\n",
    "    plt.savefig(cwd+'/plots_local/classclust_semester_XW_classes.pdf', dpi=1000, bbox_inches='tight')\n",
    "    plt.savefig(cwd+'/plots_local/classclust_semester_XW_classes.png', dpi=1000, bbox_inches='tight')\n",
    "elif prod_flag == 'True':\n",
    "    plt.savefig(cwd+'/plots_production/classclust_semester_XW_classes.eps', dpi=1000, bbox_inches='tight')\n",
    "    plt.savefig(cwd+'/plots_production/classclust_semester_XW_classes.pdf', dpi=1000, bbox_inches='tight')\n",
    "    plt.savefig(cwd+'/plots_production/classclust_semester_XW_classes.png', dpi=1000, bbox_inches='tight')\n",
    "else:\n",
    "    print('no printing flag is active')\n",
    "\n",
    "plt.figure(figsize=(9,6))\n",
    "g = sns.barplot(months_sems_plot, students_count_plot, color='green');\n",
    "g.set_xticklabels(months_sems_plot, rotation=90)\n",
    "\n",
    "plt.xlabel('Semester')\n",
    "plt.ylabel('Students')\n",
    "\n",
    "if dev_flag == 'True':\n",
    "    plt.savefig(cwd+'/plots_local/classclust_semester_XW_participants.eps', dpi=1000, bbox_inches='tight')\n",
    "    plt.savefig(cwd+'/plots_local/classclust_semester_XW_participants.pdf', dpi=1000, bbox_inches='tight')\n",
    "    plt.savefig(cwd+'/plots_local/classclust_semester_XW_participants.png', dpi=1000, bbox_inches='tight')\n",
    "elif prod_flag == 'True':\n",
    "    plt.savefig(cwd+'/plots_production/classclust_semester_XW_participants.eps', dpi=1000, bbox_inches='tight')\n",
    "    plt.savefig(cwd+'/plots_production/classclust_semester_XW_participants.pdf', dpi=1000, bbox_inches='tight')\n",
    "    plt.savefig(cwd+'/plots_production/classclust_semester_XW_participants.png', dpi=1000, bbox_inches='tight')\n",
    "else:\n",
    "    print('no printing flag is active')"
   ]
  },
  {
   "cell_type": "code",
   "execution_count": 97,
   "metadata": {},
   "outputs": [],
   "source": [
    "s_df_bar = pd.DataFrame()\n",
    "s_df_bar['months_sems'] = months_sems_plot\n",
    "s_df_bar['classes'] = cluster_ids_per_sem_nums_plots\n",
    "s_df_bar['students'] = students_count_plot"
   ]
  },
  {
   "cell_type": "code",
   "execution_count": 99,
   "metadata": {},
   "outputs": [
    {
     "name": "stdout",
     "output_type": "stream",
     "text": [
      "  months_sems  classes  students\n",
      "0     1999-01        0         0\n",
      "1     1999-07        0         0\n",
      "(45, 3)\n"
     ]
    }
   ],
   "source": [
    "print(s_df_bar.head(2))\n",
    "print(s_df_bar.shape)"
   ]
  },
  {
   "cell_type": "code",
   "execution_count": 100,
   "metadata": {},
   "outputs": [],
   "source": [
    "## saving data\n",
    "s_df_bar.to_csv(cwd+'/cached_data/XW_classes_students_barplot.csv')"
   ]
  },
  {
   "cell_type": "code",
   "execution_count": 65,
   "metadata": {
    "tags": []
   },
   "outputs": [],
   "source": [
    "## determine cumulative uniques\n",
    "#students\n",
    "cumulative_sem_students = []\n",
    "unique_students = []\n",
    "cumulative_classes = []\n",
    "\n",
    "for i,j in enumerate(students):\n",
    "    if i == 0:\n",
    "        unique_students.append(len(set(j)))\n",
    "        cumulative_sem_students.append(students_count[i])\n",
    "        cumulative_classes.append(cluster_ids_per_sem_nums[i])\n",
    "    elif i == len(students)-1:\n",
    "        unique_students.append(len(set(np.concatenate(students[:i+1]))))\n",
    "        cumulative_sem_students.append(students_count[i] + cumulative_sem_students[-1])\n",
    "        cumulative_classes.append(cluster_ids_per_sem_nums[i] + cumulative_classes[-1])\n",
    "    else:\n",
    "        unique_students.append(len(set(np.concatenate(students[:i+1]))))\n",
    "        cumulative_sem_students.append(students_count[i]+cumulative_sem_students[-1])  \n",
    "        cumulative_classes.append(cluster_ids_per_sem_nums[i] + cumulative_classes[-1])"
   ]
  },
  {
   "cell_type": "code",
   "execution_count": 67,
   "metadata": {},
   "outputs": [],
   "source": [
    "starting_year = 2001 # deepcopy(start_year_base)\n",
    "\n",
    "semester_list = ['Spring','Fall','Summer']\n",
    "# group Spring and Summer together\n",
    "\n",
    "months_sems3 = [datetime.datetime(2000, 7, 1, 0, 0)]\n",
    "\n",
    "while starting_year < today.year+1:\n",
    "    for i in semester_list:\n",
    "        if i == 'Fall':\n",
    "            months_sems3.append(datetime.datetime.strptime(str(starting_year)+'-07-01', '%Y-%m-%d') )\n",
    "        elif i == 'Spring':\n",
    "            months_sems3.append(datetime.datetime.strptime(str(starting_year)+'-01-01', '%Y-%m-%d') )\n",
    "    starting_year += 1"
   ]
  },
  {
   "cell_type": "code",
   "execution_count": 68,
   "metadata": {},
   "outputs": [
    {
     "data": {
      "text/plain": [
       "42"
      ]
     },
     "execution_count": 68,
     "metadata": {},
     "output_type": "execute_result"
    }
   ],
   "source": [
    "len(months_sems3[:-1])"
   ]
  },
  {
   "cell_type": "code",
   "execution_count": 69,
   "metadata": {},
   "outputs": [],
   "source": [
    "duplicate_students = list(np.concatenate(students))"
   ]
  },
  {
   "cell_type": "code",
   "execution_count": 70,
   "metadata": {},
   "outputs": [
    {
     "data": {
      "text/plain": [
       "(array([ 4576,  8396, 47234, 80583, 88580, 89111, 93936]),)"
      ]
     },
     "execution_count": 70,
     "metadata": {},
     "output_type": "execute_result"
    }
   ],
   "source": [
    "from itertools import groupby\n",
    "intermed_student = [len(list(group)) for key, group in groupby(duplicate_students)]\n",
    "np.where(np.array(intermed_student) > 1)"
   ]
  },
  {
   "cell_type": "code",
   "execution_count": 71,
   "metadata": {},
   "outputs": [
    {
     "name": "stdout",
     "output_type": "stream",
     "text": [
      "98061\n"
     ]
    }
   ],
   "source": [
    "counter = 1\n",
    "for key,group in groupby(duplicate_students):\n",
    "    counter += 1\n",
    "print(counter)"
   ]
  },
  {
   "cell_type": "code",
   "execution_count": 74,
   "metadata": {},
   "outputs": [
    {
     "name": "stdout",
     "output_type": "stream",
     "text": [
      "98067 63483 4289\n",
      "0 0\n"
     ]
    }
   ],
   "source": [
    "print(cumulative_sem_students[-1],unique_students[-1],cumulative_classes[-1])\n",
    "print(cluster_ids_per_sem_nums[-1],len(set(np.concatenate(students[-1:]))))"
   ]
  },
  {
   "cell_type": "code",
   "execution_count": 90,
   "metadata": {},
   "outputs": [],
   "source": [
    "months_sems_plot2 = deepcopy(months_sems3)\n",
    "cumulative_sem_students_plot = cumulative_sem_students[:len(months_sems_plot2)]\n",
    "unique_students_plot = unique_students[:len(months_sems_plot2)]\n",
    "cumulative_classes_plot = cumulative_classes[:len(months_sems_plot2)]"
   ]
  },
  {
   "cell_type": "code",
   "execution_count": 96,
   "metadata": {},
   "outputs": [
    {
     "name": "stdout",
     "output_type": "stream",
     "text": [
      "2021-08-05 20:45:29,387 - [WARNING] matplotlib.backends.backend_ps [backend_ps._is_transparent:794]: The PostScript backend does not support transparency; partially transparent artists will be rendered opaque.\n",
      "2021-08-05 20:45:29,390 - [WARNING] matplotlib.backends.backend_ps [backend_ps._is_transparent:794]: The PostScript backend does not support transparency; partially transparent artists will be rendered opaque.\n"
     ]
    },
    {
     "data": {
      "image/png": "[encoded data removed]",
      "text/plain": [
       "<Figure size 648x432 with 2 Axes>"
      ]
     },
     "metadata": {
      "needs_background": "light"
     },
     "output_type": "display_data"
    }
   ],
   "source": [
    "# plot cumulative class and student count\n",
    "fig, ax1 = plt.subplots(figsize=(9,6))\n",
    "\n",
    "color = 'tab:red'\n",
    "ax1.set_ylabel('Persons', color=color)\n",
    "p1, = ax1.plot(months_sems_plot2, \\\n",
    "         cumulative_sem_students_plot, color='Green',label='Total Class Participants')\n",
    "p2, = ax1.plot(months_sems_plot2, unique_students_plot, color=deepcopy(color), label='Unique Class Participants')\n",
    "ax1.tick_params(axis='y', labelcolor=deepcopy(color))\n",
    "\n",
    "ax2 = ax1.twinx()  # instantiate a second axes that shares the same x-axis\n",
    "\n",
    "color = 'tab:blue'\n",
    "ax2.set_ylabel('Classes', color=deepcopy(color))  # we already handled the x-label with ax1\n",
    "p3, = ax2.plot(months_sems_plot2,cumulative_classes_plot, color=deepcopy(color),label='Unique Classes')\n",
    "ax2.tick_params(axis='y', labelcolor=color)\n",
    "\n",
    "fig.tight_layout()  # otherwise the right y-label is slightly clipped\n",
    "\n",
    "plt.xlim([datetime.datetime(2000,7,1), datetime.datetime(2021,7,1)])\n",
    "\n",
    "ax1.set_ylim([0, 95000])\n",
    "ax1.grid(False)\n",
    "ax2.set_ylim([0, 8000])\n",
    "ax2.grid(False)\n",
    "\n",
    "# add legend\n",
    "plt.legend(handles=[p1,p2,p3],loc=2)\n",
    "\n",
    "if dev_flag == 'True':\n",
    "    plt.savefig(cwd+'/plots_local/classclust_semester_cumulative_combined.eps', dpi=1000, bbox_inches='tight')\n",
    "    plt.savefig(cwd+'/plots_local/classclust_semester_cumulative_combined.pdf', dpi=1000, bbox_inches='tight')\n",
    "    plt.savefig(cwd+'/plots_local/classclust_semester_cumulative_combined.png', dpi=1000, bbox_inches='tight')\n",
    "elif prod_flag == 'True':\n",
    "    plt.savefig(cwd+'/plots_production/classclust_semester_cumulative_combined.eps', dpi=1000, bbox_inches='tight')\n",
    "    plt.savefig(cwd+'/plots_production/classclust_semester_cumulative_combined.pdf', dpi=1000, bbox_inches='tight')\n",
    "    plt.savefig(cwd+'/plots_production/classclust_semester_cumulative_combined.png', dpi=1000, bbox_inches='tight')\n",
    "else:\n",
    "    print('no printing flag is active')"
   ]
  },
  {
   "cell_type": "code",
   "execution_count": 101,
   "metadata": {},
   "outputs": [],
   "source": [
    "## create a df and save as csv\n",
    "s_df_cumulative = pd.DataFrame()\n",
    "s_df_cumulative['year_month'] = months_sems_plot2\n",
    "s_df_cumulative['total_class_participants'] = cumulative_sem_students_plot\n",
    "s_df_cumulative['unique_class_participants'] = unique_students_plot\n",
    "s_df_cumulative['unique classes'] = cumulative_classes_plot"
   ]
  },
  {
   "cell_type": "code",
   "execution_count": 105,
   "metadata": {},
   "outputs": [
    {
     "name": "stdout",
     "output_type": "stream",
     "text": [
      "(43, 4)\n",
      "   year_month  total_class_participants  unique_class_participants  \\\n",
      "38 2019-07-01                     66538                      45067   \n",
      "39 2020-01-01                     72131                      48636   \n",
      "40 2020-07-01                     76367                      51712   \n",
      "41 2021-01-01                     79903                      54276   \n",
      "42 2021-07-01                     85161                      57515   \n",
      "\n",
      "    unique classes  \n",
      "38            2731  \n",
      "39            2961  \n",
      "40            3152  \n",
      "41            3333  \n",
      "42            3589  \n"
     ]
    }
   ],
   "source": [
    "print(s_df_cumulative.shape)\n",
    "print(s_df_cumulative.tail(5))"
   ]
  },
  {
   "cell_type": "code",
   "execution_count": 106,
   "metadata": {},
   "outputs": [],
   "source": [
    "s_df_cumulative.to_csv(cwd+'/cached_data/cumulative_class_clust_df.csv')"
   ]
  }
 ],
 "metadata": {
  "kernelspec": {
   "display_name": "Python 3 (ipykernel)",
   "language": "python",
   "name": "python3"
  },
  "language_info": {
   "codemirror_mode": {
    "name": "ipython",
    "version": 3
   },
   "file_extension": ".py",
   "mimetype": "text/x-python",
   "name": "python",
   "nbconvert_exporter": "python",
   "pygments_lexer": "ipython3",
   "version": "3.8.10"
  }
 },
 "nbformat": 4,
 "nbformat_minor": 4
}
