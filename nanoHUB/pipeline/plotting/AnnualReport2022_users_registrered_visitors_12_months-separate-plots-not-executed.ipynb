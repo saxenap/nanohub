{
 "cells": [
  {
   "cell_type": "code",
   "execution_count": 1,
   "metadata": {
    "execution": {
     "iopub.execute_input": "2022-02-24T16:53:22.299320Z",
     "iopub.status.busy": "2022-02-24T16:53:22.296495Z",
     "iopub.status.idle": "2022-02-24T16:53:24.602548Z",
     "shell.execute_reply": "2022-02-24T16:53:24.601193Z",
     "shell.execute_reply.started": "2022-02-24T16:53:22.299035Z"
    }
   },
   "outputs": [],
   "source": [
    "import sys\n",
    "\n",
    "import pandas as pd\n",
    "import time\n",
    "import datetime"
   ]
  },
  {
   "cell_type": "code",
   "execution_count": 2,
   "metadata": {
    "execution": {
     "iopub.execute_input": "2022-02-24T16:53:24.626016Z",
     "iopub.status.busy": "2022-02-24T16:53:24.624321Z",
     "iopub.status.idle": "2022-02-24T16:53:24.691651Z",
     "shell.execute_reply": "2022-02-24T16:53:24.690114Z",
     "shell.execute_reply.started": "2022-02-24T16:53:24.625513Z"
    }
   },
   "outputs": [],
   "source": [
    "import warnings\n",
    "warnings.filterwarnings('ignore')\n",
    "# warnings.filterwarnings(action='once')\n",
    "warnings.simplefilter(action='ignore', category=FutureWarning)"
   ]
  },
  {
   "cell_type": "code",
   "execution_count": null,
   "metadata": {},
   "outputs": [],
   "source": []
  },
  {
   "cell_type": "code",
   "execution_count": 3,
   "metadata": {
    "execution": {
     "iopub.execute_input": "2022-02-24T16:53:24.706683Z",
     "iopub.status.busy": "2022-02-24T16:53:24.704983Z",
     "iopub.status.idle": "2022-02-24T16:53:34.226402Z",
     "shell.execute_reply": "2022-02-24T16:53:34.216070Z",
     "shell.execute_reply.started": "2022-02-24T16:53:24.706431Z"
    }
   },
   "outputs": [
    {
     "name": "stdout",
     "output_type": "stream",
     "text": [
      "\u001b[1mnanoHUB - Serving Students, Researchers & Instructors\u001b[0m\n",
      "Obtained Salesforce access token ...... True\n"
     ]
    }
   ],
   "source": [
    "from nanoHUB.application import Application\n",
    "\n",
    "application = Application.get_instance()\n",
    "nanohub_db = application.new_db_engine('nanohub')\n",
    "nanohub_metrics_db = application.new_db_engine('nanohub_metrics')\n",
    "wang159_myrmekes_db = application.new_db_engine('rfm_data')\n",
    "\n",
    "salesforce = application.new_salesforce_engine()\n",
    "db_s = salesforce"
   ]
  },
  {
   "cell_type": "markdown",
   "metadata": {},
   "source": [
    "## Nanohub user growth"
   ]
  },
  {
   "cell_type": "code",
   "execution_count": 4,
   "metadata": {
    "execution": {
     "iopub.execute_input": "2022-02-24T16:53:34.230359Z",
     "iopub.status.busy": "2022-02-24T16:53:34.229555Z",
     "iopub.status.idle": "2022-02-24T16:53:34.280839Z",
     "shell.execute_reply": "2022-02-24T16:53:34.278204Z",
     "shell.execute_reply.started": "2022-02-24T16:53:34.230236Z"
    }
   },
   "outputs": [],
   "source": [
    "## need \n",
    "# 1) jos_users from nanohub with id,name,username,email,registerDate,lastvisitDate -> registered users\n",
    "# 2) toolstart df filtered by username -> simulation users\n",
    "\n",
    "# x-axis: each month from 2000 to current_year\n",
    "\n",
    "# y-axis: 12 month trailing sum\n",
    "\n",
    "# simulation users: unique users who have run at least 1 simulation\n",
    "\n",
    "# registered users: new user registeration\n",
    "\n",
    "# visitor count: unique IP address"
   ]
  },
  {
   "cell_type": "code",
   "execution_count": 5,
   "metadata": {
    "execution": {
     "iopub.execute_input": "2022-02-24T16:53:34.306820Z",
     "iopub.status.busy": "2022-02-24T16:53:34.291141Z",
     "iopub.status.idle": "2022-02-24T16:54:56.549812Z",
     "shell.execute_reply": "2022-02-24T16:54:56.517746Z",
     "shell.execute_reply.started": "2022-02-24T16:53:34.306725Z"
    }
   },
   "outputs": [
    {
     "data": {
      "text/html": [
       "<div>\n",
       "<style scoped>\n",
       "    .dataframe tbody tr th:only-of-type {\n",
       "        vertical-align: middle;\n",
       "    }\n",
       "\n",
       "    .dataframe tbody tr th {\n",
       "        vertical-align: top;\n",
       "    }\n",
       "\n",
       "    .dataframe thead th {\n",
       "        text-align: right;\n",
       "    }\n",
       "</style>\n",
       "<table border=\"1\" class=\"dataframe\">\n",
       "  <thead>\n",
       "    <tr style=\"text-align: right;\">\n",
       "      <th></th>\n",
       "      <th>id</th>\n",
       "      <th>name</th>\n",
       "      <th>username</th>\n",
       "      <th>email</th>\n",
       "      <th>registerDate</th>\n",
       "      <th>lastvisitDate</th>\n",
       "    </tr>\n",
       "  </thead>\n",
       "  <tbody>\n",
       "    <tr>\n",
       "      <th>0</th>\n",
       "      <td>356680</td>\n",
       "      <td>王鸣雁</td>\n",
       "      <td>-193187</td>\n",
       "      <td>-193187@invalid</td>\n",
       "      <td>2022-02-12 02:27:35</td>\n",
       "      <td>2022-02-12 02:27:36</td>\n",
       "    </tr>\n",
       "    <tr>\n",
       "      <th>1</th>\n",
       "      <td>356679</td>\n",
       "      <td>Mahdi Salari</td>\n",
       "      <td>mahdisalari82020</td>\n",
       "      <td>mahdisalari82020@gmail.com</td>\n",
       "      <td>2022-02-12 02:18:29</td>\n",
       "      <td>2022-02-12 02:18:30</td>\n",
       "    </tr>\n",
       "  </tbody>\n",
       "</table>\n",
       "</div>"
      ],
      "text/plain": [
       "       id          name          username                       email  \\\n",
       "0  356680           王鸣雁           -193187             -193187@invalid   \n",
       "1  356679  Mahdi Salari  mahdisalari82020  mahdisalari82020@gmail.com   \n",
       "\n",
       "         registerDate       lastvisitDate  \n",
       "0 2022-02-12 02:27:35 2022-02-12 02:27:36  \n",
       "1 2022-02-12 02:18:29 2022-02-12 02:18:30  "
      ]
     },
     "metadata": {},
     "output_type": "display_data"
    },
    {
     "name": "stdout",
     "output_type": "stream",
     "text": [
      "(272691, 6)\n"
     ]
    }
   ],
   "source": [
    "## build jos_users_full\n",
    "sql_query = \"select id,name,username,email,registerDate,lastvisitDate from jos_users order by registerDate desc\"\n",
    "jos_users_full = pd.read_sql_query(sql_query, nanohub_db)\n",
    "display(jos_users_full.head(2))\n",
    "print(jos_users_full.shape)"
   ]
  },
  {
   "cell_type": "code",
   "execution_count": 6,
   "metadata": {
    "execution": {
     "iopub.execute_input": "2022-02-24T16:54:56.605461Z",
     "iopub.status.busy": "2022-02-24T16:54:56.604882Z",
     "iopub.status.idle": "2022-02-24T16:55:27.121901Z",
     "shell.execute_reply": "2022-02-24T16:55:27.112205Z",
     "shell.execute_reply.started": "2022-02-24T16:54:56.605379Z"
    }
   },
   "outputs": [
    {
     "data": {
      "text/html": [
       "<div>\n",
       "<style scoped>\n",
       "    .dataframe tbody tr th:only-of-type {\n",
       "        vertical-align: middle;\n",
       "    }\n",
       "\n",
       "    .dataframe tbody tr th {\n",
       "        vertical-align: top;\n",
       "    }\n",
       "\n",
       "    .dataframe thead th {\n",
       "        text-align: right;\n",
       "    }\n",
       "</style>\n",
       "<table border=\"1\" class=\"dataframe\">\n",
       "  <thead>\n",
       "    <tr style=\"text-align: right;\">\n",
       "      <th></th>\n",
       "      <th>datetime</th>\n",
       "      <th>ip</th>\n",
       "      <th>countryip</th>\n",
       "      <th>user</th>\n",
       "      <th>tool</th>\n",
       "    </tr>\n",
       "  </thead>\n",
       "  <tbody>\n",
       "    <tr>\n",
       "      <th>0</th>\n",
       "      <td>2001-12-31 23:23:51</td>\n",
       "      <td>68.32.42.69</td>\n",
       "      <td>US</td>\n",
       "      <td>jjeon</td>\n",
       "      <td>Adeptf</td>\n",
       "    </tr>\n",
       "    <tr>\n",
       "      <th>1</th>\n",
       "      <td>2001-12-31 23:23:23</td>\n",
       "      <td>68.32.42.69</td>\n",
       "      <td>US</td>\n",
       "      <td>jjeon</td>\n",
       "      <td>Adeptf</td>\n",
       "    </tr>\n",
       "  </tbody>\n",
       "</table>\n",
       "</div>"
      ],
      "text/plain": [
       "             datetime           ip countryip   user    tool\n",
       "0 2001-12-31 23:23:51  68.32.42.69        US  jjeon  Adeptf\n",
       "1 2001-12-31 23:23:23  68.32.42.69        US  jjeon  Adeptf"
      ]
     },
     "metadata": {},
     "output_type": "display_data"
    },
    {
     "name": "stdout",
     "output_type": "stream",
     "text": [
      "(138857, 5)\n"
     ]
    }
   ],
   "source": [
    " ## build all users list\n",
    "sql_query = \"select datetime,ip,countryip,user,tool from toolstart where user != 'instanton' \"\\\n",
    "+\"and user != 'gridstat' and datetime <= '2002-01-01' and datetime >= '0000-01-01' order by datetime desc\"\n",
    "toolstart_df = pd.read_sql_query(sql_query, nanohub_metrics_db)\n",
    "display(toolstart_df.head(2))\n",
    "print(toolstart_df.shape)"
   ]
  },
  {
   "cell_type": "code",
   "execution_count": 7,
   "metadata": {
    "execution": {
     "iopub.execute_input": "2022-02-24T16:55:27.127813Z",
     "iopub.status.busy": "2022-02-24T16:55:27.123075Z",
     "iopub.status.idle": "2022-02-24T16:55:27.309125Z",
     "shell.execute_reply": "2022-02-24T16:55:27.306774Z",
     "shell.execute_reply.started": "2022-02-24T16:55:27.127687Z"
    }
   },
   "outputs": [],
   "source": [
    "## convert the dataframes to datetime\n",
    "jos_users_full['registerDate'] = pd.to_datetime(jos_users_full.registerDate)\n",
    "jos_users_full['lastvisitDate'] = pd.to_datetime(jos_users_full.lastvisitDate)\n",
    "\n",
    "toolstart_df['datetime'] = pd.to_datetime(toolstart_df.datetime)"
   ]
  },
  {
   "cell_type": "code",
   "execution_count": 8,
   "metadata": {
    "execution": {
     "iopub.execute_input": "2022-02-24T16:55:27.324877Z",
     "iopub.status.busy": "2022-02-24T16:55:27.322278Z",
     "iopub.status.idle": "2022-02-24T16:55:27.391530Z",
     "shell.execute_reply": "2022-02-24T16:55:27.380273Z",
     "shell.execute_reply.started": "2022-02-24T16:55:27.324785Z"
    }
   },
   "outputs": [
    {
     "name": "stdout",
     "output_type": "stream",
     "text": [
      "2022-02-24 16:55:27.330156\n"
     ]
    }
   ],
   "source": [
    "import datetime\n",
    "today = datetime.datetime.now()\n",
    "print(today)"
   ]
  },
  {
   "cell_type": "code",
   "execution_count": 9,
   "metadata": {
    "execution": {
     "iopub.execute_input": "2022-02-24T16:55:27.396097Z",
     "iopub.status.busy": "2022-02-24T16:55:27.394833Z",
     "iopub.status.idle": "2022-02-24T16:55:27.488792Z",
     "shell.execute_reply": "2022-02-24T16:55:27.485245Z",
     "shell.execute_reply.started": "2022-02-24T16:55:27.395976Z"
    }
   },
   "outputs": [
    {
     "data": {
      "text/html": [
       "<div>\n",
       "<style scoped>\n",
       "    .dataframe tbody tr th:only-of-type {\n",
       "        vertical-align: middle;\n",
       "    }\n",
       "\n",
       "    .dataframe tbody tr th {\n",
       "        vertical-align: top;\n",
       "    }\n",
       "\n",
       "    .dataframe thead th {\n",
       "        text-align: right;\n",
       "    }\n",
       "</style>\n",
       "<table border=\"1\" class=\"dataframe\">\n",
       "  <thead>\n",
       "    <tr style=\"text-align: right;\">\n",
       "      <th></th>\n",
       "      <th>year_month</th>\n",
       "    </tr>\n",
       "  </thead>\n",
       "  <tbody>\n",
       "    <tr>\n",
       "      <th>0</th>\n",
       "      <td>2000-01-01</td>\n",
       "    </tr>\n",
       "    <tr>\n",
       "      <th>1</th>\n",
       "      <td>2000-02-01</td>\n",
       "    </tr>\n",
       "  </tbody>\n",
       "</table>\n",
       "</div>"
      ],
      "text/plain": [
       "  year_month\n",
       "0 2000-01-01\n",
       "1 2000-02-01"
      ]
     },
     "execution_count": 9,
     "metadata": {},
     "output_type": "execute_result"
    }
   ],
   "source": [
    "all_months_list = list()\n",
    "for this_year in range(2000,today.year+2):\n",
    "    for this_month in range(1,12+1):\n",
    "        all_months_list.append(datetime.datetime(this_year, this_month, 1))\n",
    "        \n",
    "for this_year in range(today.year,today.year+2):\n",
    "    for this_month in range(1,today.month+1):\n",
    "        all_months_list.append(datetime.datetime(this_year, this_month, 1))\n",
    "        \n",
    "months_bin = pd.DataFrame(all_months_list, columns=['year_month'])\n",
    "\n",
    "# display\n",
    "months_bin.head(2)"
   ]
  },
  {
   "cell_type": "code",
   "execution_count": 10,
   "metadata": {
    "execution": {
     "iopub.execute_input": "2022-02-24T16:55:27.494256Z",
     "iopub.status.busy": "2022-02-24T16:55:27.493558Z",
     "iopub.status.idle": "2022-02-24T16:55:33.552750Z",
     "shell.execute_reply": "2022-02-24T16:55:33.548298Z",
     "shell.execute_reply.started": "2022-02-24T16:55:27.494153Z"
    }
   },
   "outputs": [],
   "source": [
    "## jos_users_full registration cumulative monthly\n",
    "months_bin['registered_12_trail'] = months_bin.year_month.apply(lambda x:  \\\n",
    "                                jos_users_full.username[(jos_users_full.registerDate < x)\\\n",
    "                            &(jos_users_full.registerDate > (x-datetime.timedelta(days=365)))].nunique() )"
   ]
  },
  {
   "cell_type": "code",
   "execution_count": 11,
   "metadata": {
    "execution": {
     "iopub.execute_input": "2022-02-24T16:55:33.562988Z",
     "iopub.status.busy": "2022-02-24T16:55:33.562278Z",
     "iopub.status.idle": "2022-02-24T16:55:37.405361Z",
     "shell.execute_reply": "2022-02-24T16:55:37.401591Z",
     "shell.execute_reply.started": "2022-02-24T16:55:33.562913Z"
    }
   },
   "outputs": [],
   "source": [
    "##the all users must be done in a bi-yearly basis\n",
    "months_bin['sim_12_trail'] = months_bin.year_month.apply(lambda x: toolstart_df.user[(toolstart_df.datetime < x) \\\n",
    "                                        &(toolstart_df.datetime > (x-datetime.timedelta(days=365)))].nunique() )"
   ]
  },
  {
   "cell_type": "code",
   "execution_count": 12,
   "metadata": {
    "execution": {
     "iopub.execute_input": "2022-02-24T16:55:37.425370Z",
     "iopub.status.busy": "2022-02-24T16:55:37.419282Z",
     "iopub.status.idle": "2022-02-24T16:55:37.473492Z",
     "shell.execute_reply": "2022-02-24T16:55:37.467504Z",
     "shell.execute_reply.started": "2022-02-24T16:55:37.425086Z"
    }
   },
   "outputs": [
    {
     "name": "stdout",
     "output_type": "stream",
     "text": [
      "24\n"
     ]
    }
   ],
   "source": [
    "print(months_bin['year_month'].to_list().index(pd.to_datetime('2002-01-01')) )\n",
    "temp = months_bin['sim_12_trail']#[:25]"
   ]
  },
  {
   "cell_type": "code",
   "execution_count": 13,
   "metadata": {
    "execution": {
     "iopub.execute_input": "2022-02-24T16:55:37.482431Z",
     "iopub.status.busy": "2022-02-24T16:55:37.481039Z",
     "iopub.status.idle": "2022-02-24T16:55:37.503353Z",
     "shell.execute_reply": "2022-02-24T16:55:37.498106Z",
     "shell.execute_reply.started": "2022-02-24T16:55:37.482280Z"
    }
   },
   "outputs": [],
   "source": [
    "## check if cached data is available locally\n",
    "import os\n",
    "cwd = os.getcwd()"
   ]
  },
  {
   "cell_type": "code",
   "execution_count": 14,
   "metadata": {
    "execution": {
     "iopub.execute_input": "2022-02-24T16:55:37.509726Z",
     "iopub.status.busy": "2022-02-24T16:55:37.508438Z",
     "iopub.status.idle": "2022-02-24T16:55:37.555794Z",
     "shell.execute_reply": "2022-02-24T16:55:37.550500Z",
     "shell.execute_reply.started": "2022-02-24T16:55:37.509517Z"
    }
   },
   "outputs": [
    {
     "name": "stdout",
     "output_type": "stream",
     "text": [
      "False\n"
     ]
    }
   ],
   "source": [
    "try:\n",
    "    months_bin2 = pd.read_csv(cwd+'/cached_data/nh_user_growth.csv')\n",
    "    months_bin2['year_month'] = pd.to_datetime(months_bin2['year_month'],format='%Y-%m-%d')\n",
    "    data_flag = True\n",
    "except:\n",
    "    data_flag = False\n",
    "print(data_flag)"
   ]
  },
  {
   "cell_type": "code",
   "execution_count": 15,
   "metadata": {
    "execution": {
     "iopub.execute_input": "2022-02-24T16:55:37.563193Z",
     "iopub.status.busy": "2022-02-24T16:55:37.562002Z",
     "iopub.status.idle": "2022-02-24T16:55:37.587080Z",
     "shell.execute_reply": "2022-02-24T16:55:37.580737Z",
     "shell.execute_reply.started": "2022-02-24T16:55:37.563116Z"
    },
    "tags": []
   },
   "outputs": [],
   "source": [
    "from copy import deepcopy"
   ]
  },
  {
   "cell_type": "code",
   "execution_count": 16,
   "metadata": {
    "execution": {
     "iopub.execute_input": "2022-02-24T16:55:37.592704Z",
     "iopub.status.busy": "2022-02-24T16:55:37.592228Z",
     "iopub.status.idle": "2022-02-24T16:55:37.629336Z",
     "shell.execute_reply": "2022-02-24T16:55:37.616244Z",
     "shell.execute_reply.started": "2022-02-24T16:55:37.592633Z"
    },
    "tags": []
   },
   "outputs": [],
   "source": [
    "if data_flag == False: # need to gather all data\n",
    "    start_year = 2002 # 2000 and 2001 done above \n",
    "else:\n",
    "    test_df = months_bin2\n",
    "    test_df = test_df[~(test_df.duplicated(subset=['sim_12_trail'], keep='last') & test_df['sim_12_trail'].eq(0))]\n",
    "    test_df.index = pd.RangeIndex(len(test_df.index))\n",
    "    start_year = (test_df.loc[1, 'year_month']).year\n",
    "    print(start_year)"
   ]
  },
  {
   "cell_type": "code",
   "execution_count": 17,
   "metadata": {
    "execution": {
     "iopub.execute_input": "2022-02-24T16:55:37.636091Z",
     "iopub.status.busy": "2022-02-24T16:55:37.635562Z",
     "iopub.status.idle": "2022-02-24T16:55:40.180142Z",
     "shell.execute_reply": "2022-02-24T16:55:40.136084Z",
     "shell.execute_reply.started": "2022-02-24T16:55:37.636044Z"
    },
    "tags": []
   },
   "outputs": [
    {
     "ename": "NameError",
     "evalue": "name 'months_bin2' is not defined",
     "output_type": "error",
     "traceback": [
      "\u001b[0;31m---------------------------------------------------------------------------\u001b[0m",
      "\u001b[0;31mNameError\u001b[0m                                 Traceback (most recent call last)",
      "Input \u001b[0;32mIn [17]\u001b[0m, in \u001b[0;36m<module>\u001b[0;34m\u001b[0m\n\u001b[0;32m----> 1\u001b[0m months_bin3 \u001b[38;5;241m=\u001b[39m months_bin\u001b[38;5;241m.\u001b[39miloc[months_bin[\u001b[38;5;124m'\u001b[39m\u001b[38;5;124myear_month\u001b[39m\u001b[38;5;124m'\u001b[39m]\u001b[38;5;241m.\u001b[39mto_list()\u001b[38;5;241m.\u001b[39mindex(\u001b[43mmonths_bin2\u001b[49m[\u001b[38;5;124m'\u001b[39m\u001b[38;5;124myear_month\u001b[39m\u001b[38;5;124m'\u001b[39m]\u001b[38;5;241m.\u001b[39mto_list()[\u001b[38;5;241m-\u001b[39m\u001b[38;5;241m1\u001b[39m])\u001b[38;5;241m+\u001b[39m\u001b[38;5;241m1\u001b[39m:,:]\n\u001b[1;32m      2\u001b[0m months_bin4 \u001b[38;5;241m=\u001b[39m pd\u001b[38;5;241m.\u001b[39mconcat([months_bin2,months_bin3])\n\u001b[1;32m      3\u001b[0m months_bin \u001b[38;5;241m=\u001b[39m deepcopy(months_bin4)\n",
      "\u001b[0;31mNameError\u001b[0m: name 'months_bin2' is not defined"
     ]
    }
   ],
   "source": [
    "months_bin3 = months_bin.iloc[months_bin['year_month'].to_list().index(months_bin2['year_month'].to_list()[-1])+1:,:]\n",
    "months_bin4 = pd.concat([months_bin2,months_bin3])\n",
    "months_bin = deepcopy(months_bin4)"
   ]
  },
  {
   "cell_type": "markdown",
   "metadata": {
    "execution": {
     "iopub.execute_input": "2022-02-16T18:25:29.761041Z",
     "iopub.status.busy": "2022-02-16T18:25:29.759992Z",
     "iopub.status.idle": "2022-02-16T18:25:30.234579Z",
     "shell.execute_reply": "2022-02-16T18:25:30.233381Z",
     "shell.execute_reply.started": "2022-02-16T18:25:29.761003Z"
    },
    "tags": []
   },
   "source": [
    "if data_flag == False: # need to gather all data\n",
    "    start_year = 2002 # 2000 and 2001 done above \n",
    "else:\n",
    "    ts12 = months_bin2['sim_12_trail'].to_list()\n",
    "    ## find all consecutive 0s in sim_12_trail\n",
    "    con0s = [] # indexes of the start of the consecutive zeros\n",
    "    for t_ind,t_val in enumerate(ts12):\n",
    "        con_flag = False\n",
    "        if t_ind > 0:\n",
    "            con_flag = (ts12[t_ind-1]==0) and (t_val==0)\n",
    "        if con_flag == True:\n",
    "            con0s.append(t_ind-1)\n",
    "#     con0s[1] # this should be the new start year\n",
    "#     start_year = months_bin2['year_month'].to_list()[-1].year\n",
    "    start_year = months_bin2['year_month'].to_list()[con0s[1]].year-1\n",
    "    months_bin3 = months_bin.iloc[months_bin['year_month'].to_list().index(months_bin2['year_month'].to_list()[-1])+1:,:]\n",
    "    months_bin4 = pd.concat([months_bin2,months_bin3])\n",
    "    months_bin = deepcopy(months_bin4)\n",
    "    \n",
    "    # join months_bin and months_bin2\n",
    "#     months_bin2['year_month'] = deepcopy(months_bin['year_month'])\n",
    "#     months_bin = deepcopy(months_bin2)"
   ]
  },
  {
   "cell_type": "code",
   "execution_count": null,
   "metadata": {},
   "outputs": [],
   "source": []
  },
  {
   "cell_type": "code",
   "execution_count": null,
   "metadata": {
    "execution": {
     "iopub.status.busy": "2022-02-24T16:55:40.186314Z",
     "iopub.status.idle": "2022-02-24T16:55:40.197026Z",
     "shell.execute_reply": "2022-02-24T16:55:40.187063Z",
     "shell.execute_reply.started": "2022-02-24T16:55:40.187006Z"
    }
   },
   "outputs": [],
   "source": [
    "months_bin = months_bin.drop(columns=['Unnamed: 0'])\n",
    "display(months_bin.head(2))\n",
    "display(months_bin.tail(2))"
   ]
  },
  {
   "cell_type": "code",
   "execution_count": null,
   "metadata": {
    "execution": {
     "iopub.status.busy": "2022-02-24T16:55:40.201946Z",
     "iopub.status.idle": "2022-02-24T16:55:40.202843Z",
     "shell.execute_reply": "2022-02-24T16:55:40.202358Z",
     "shell.execute_reply.started": "2022-02-24T16:55:40.202317Z"
    },
    "tags": []
   },
   "outputs": [],
   "source": [
    "try:\n",
    "    temp = pd.read_csv(cwd+'/cached_data/toolstarts_by_year_month.csv')\n",
    "    print('Found cached file')\n",
    "except:\n",
    "    while start_year < today.year+1:\n",
    "        prev_temp_ind = months_bin['year_month'].to_list().index(pd.to_datetime(str(start_year)+'-01-01')) \n",
    "\n",
    "        start_year += 1\n",
    "        end_date = r\"'\"+str(start_year)+r\"-01-01'\"\n",
    "        start_date = r\"'\"+str(start_year-2)+r\"-01-01'\"\n",
    "\n",
    "        sql_query = \"select datetime,ip,countryip,user,tool from toolstart where user != 'instanton' \"\\\n",
    "            +\"and user != 'gridstat' and datetime <= \"+end_date+\" and datetime >= \"+start_date+\" order by datetime desc\"\n",
    "        toolstart_df = pd.read_sql_query(sql_query, nanohub_metrics_db)\n",
    "        toolstart_df['datetime'] = pd.to_datetime(toolstart_df.datetime)\n",
    "        print(start_date, end_date)\n",
    "        print(toolstart_df.shape)\n",
    "\n",
    "        temp2 = months_bin.year_month.apply(lambda x: toolstart_df.user[(toolstart_df.datetime < x) \\\n",
    "                                            &(toolstart_df.datetime > (x-datetime.timedelta(days=365)))].nunique() )\n",
    "\n",
    "        max_temp_ind = months_bin['year_month'].to_list().index(pd.to_datetime(str(start_year)+'-01-01')) \n",
    "\n",
    "        temp[prev_temp_ind:max_temp_ind] = temp2[prev_temp_ind:max_temp_ind] #updates months_bin as pointer effect\n",
    "\n",
    "    temp.to_csv(cwd+'/cached_data/toolstarts_by_year_month.csv', index=None)\n",
    "    \n",
    "print(temp)"
   ]
  },
  {
   "cell_type": "code",
   "execution_count": null,
   "metadata": {
    "execution": {
     "iopub.status.busy": "2022-02-24T16:55:40.204936Z",
     "iopub.status.idle": "2022-02-24T16:55:40.218258Z",
     "shell.execute_reply": "2022-02-24T16:55:40.205234Z",
     "shell.execute_reply.started": "2022-02-24T16:55:40.205196Z"
    },
    "tags": []
   },
   "outputs": [],
   "source": [
    "months_bin['sim_12_trail'] = deepcopy(temp)"
   ]
  },
  {
   "cell_type": "code",
   "execution_count": null,
   "metadata": {
    "execution": {
     "iopub.status.busy": "2022-02-24T16:55:40.236830Z",
     "iopub.status.idle": "2022-02-24T16:55:40.240188Z",
     "shell.execute_reply": "2022-02-24T16:55:40.239820Z",
     "shell.execute_reply.started": "2022-02-24T16:55:40.239673Z"
    },
    "tags": []
   },
   "outputs": [],
   "source": [
    "months_bin.iloc[:-55,:]"
   ]
  },
  {
   "cell_type": "code",
   "execution_count": null,
   "metadata": {
    "execution": {
     "iopub.status.busy": "2022-02-24T16:55:40.242929Z",
     "iopub.status.idle": "2022-02-24T16:55:40.248479Z",
     "shell.execute_reply": "2022-02-24T16:55:40.248023Z",
     "shell.execute_reply.started": "2022-02-24T16:55:40.247959Z"
    }
   },
   "outputs": [],
   "source": [
    "display(months_bin.tail())"
   ]
  },
  {
   "cell_type": "code",
   "execution_count": null,
   "metadata": {
    "execution": {
     "iopub.status.busy": "2022-02-24T16:55:40.251713Z",
     "iopub.status.idle": "2022-02-24T16:55:40.253939Z",
     "shell.execute_reply": "2022-02-24T16:55:40.253010Z",
     "shell.execute_reply.started": "2022-02-24T16:55:40.252943Z"
    },
    "tags": []
   },
   "outputs": [],
   "source": [
    "# months_bin['year_month'].to_list()[-32:] #12 + today.month"
   ]
  },
  {
   "cell_type": "code",
   "execution_count": null,
   "metadata": {
    "execution": {
     "iopub.status.busy": "2022-02-24T16:55:40.258341Z",
     "iopub.status.idle": "2022-02-24T16:55:40.264825Z",
     "shell.execute_reply": "2022-02-24T16:55:40.263659Z",
     "shell.execute_reply.started": "2022-02-24T16:55:40.263449Z"
    },
    "tags": []
   },
   "outputs": [],
   "source": [
    "if data_flag == True: \n",
    "    months_bin2 = months_bin.iloc[:months_bin.shape[0]-(1*24+today.month),:]"
   ]
  },
  {
   "cell_type": "code",
   "execution_count": null,
   "metadata": {
    "execution": {
     "iopub.status.busy": "2022-02-24T16:55:40.272141Z",
     "iopub.status.idle": "2022-02-24T16:55:40.279211Z",
     "shell.execute_reply": "2022-02-24T16:55:40.277697Z",
     "shell.execute_reply.started": "2022-02-24T16:55:40.277628Z"
    },
    "tags": []
   },
   "outputs": [],
   "source": [
    "display(months_bin2.tail(5))"
   ]
  },
  {
   "cell_type": "code",
   "execution_count": null,
   "metadata": {
    "execution": {
     "iopub.status.busy": "2022-02-24T16:55:40.284023Z",
     "iopub.status.idle": "2022-02-24T16:55:40.289613Z",
     "shell.execute_reply": "2022-02-24T16:55:40.288823Z",
     "shell.execute_reply.started": "2022-02-24T16:55:40.288763Z"
    },
    "tags": []
   },
   "outputs": [],
   "source": [
    "# calculating total number of visitors\n",
    "import json\n",
    "with open(cwd+'/visitors.json') as f: # obtain visitors.json from https://nanohub.org/usage and viewing page source at lines 273-278\n",
    "    visitor_dict = f.read()\n",
    "    visitor_dict = visitor_dict.replace(\"\\'\",'\\\"')\n",
    "    visitor_dict = json.loads(visitor_dict)"
   ]
  },
  {
   "cell_type": "code",
   "execution_count": null,
   "metadata": {
    "execution": {
     "iopub.status.busy": "2022-02-24T16:55:40.292620Z",
     "iopub.status.idle": "2022-02-24T16:55:40.297066Z",
     "shell.execute_reply": "2022-02-24T16:55:40.296044Z",
     "shell.execute_reply.started": "2022-02-24T16:55:40.295981Z"
    },
    "tags": []
   },
   "outputs": [],
   "source": [
    "import re\n",
    "pattern = re.compile('\\d+]')\n",
    "step1 = re.findall(pattern,visitor_dict['data'])\n",
    "res_visitors = [i[:-1] for i in step1]"
   ]
  },
  {
   "cell_type": "code",
   "execution_count": null,
   "metadata": {
    "execution": {
     "iopub.status.busy": "2022-02-24T16:55:40.300559Z",
     "iopub.status.idle": "2022-02-24T16:55:40.306332Z",
     "shell.execute_reply": "2022-02-24T16:55:40.305360Z",
     "shell.execute_reply.started": "2022-02-24T16:55:40.304914Z"
    },
    "tags": []
   },
   "outputs": [],
   "source": [
    "import numpy as np\n",
    "res_visitors2 = list(np.zeros(12*6+14)) + res_visitors"
   ]
  },
  {
   "cell_type": "code",
   "execution_count": null,
   "metadata": {
    "execution": {
     "iopub.status.busy": "2022-02-24T16:55:40.311778Z",
     "iopub.status.idle": "2022-02-24T16:55:40.316942Z",
     "shell.execute_reply": "2022-02-24T16:55:40.315996Z",
     "shell.execute_reply.started": "2022-02-24T16:55:40.315930Z"
    },
    "tags": []
   },
   "outputs": [],
   "source": [
    "print(len(res_visitors2))\n",
    "print(res_visitors2[-5:])"
   ]
  },
  {
   "cell_type": "code",
   "execution_count": null,
   "metadata": {
    "execution": {
     "iopub.status.busy": "2022-02-24T16:55:40.321628Z",
     "iopub.status.idle": "2022-02-24T16:55:40.323651Z",
     "shell.execute_reply": "2022-02-24T16:55:40.323304Z",
     "shell.execute_reply.started": "2022-02-24T16:55:40.323239Z"
    },
    "tags": []
   },
   "outputs": [],
   "source": [
    "months_bin2"
   ]
  },
  {
   "cell_type": "code",
   "execution_count": null,
   "metadata": {
    "execution": {
     "iopub.status.busy": "2022-02-24T16:55:40.329898Z",
     "iopub.status.idle": "2022-02-24T16:55:40.334242Z",
     "shell.execute_reply": "2022-02-24T16:55:40.333572Z",
     "shell.execute_reply.started": "2022-02-24T16:55:40.333504Z"
    },
    "tags": []
   },
   "outputs": [],
   "source": [
    "while months_bin2.shape[0] < len(res_visitors2):\n",
    "    res_visitors2 = res_visitors2[1:]\n",
    "# display(months_bin.iloc[-20:-10,:])"
   ]
  },
  {
   "cell_type": "code",
   "execution_count": null,
   "metadata": {
    "execution": {
     "iopub.status.busy": "2022-02-24T16:55:40.341121Z",
     "iopub.status.idle": "2022-02-24T16:55:40.347140Z",
     "shell.execute_reply": "2022-02-24T16:55:40.345973Z",
     "shell.execute_reply.started": "2022-02-24T16:55:40.345827Z"
    },
    "tags": []
   },
   "outputs": [],
   "source": [
    "months_bin2['visitors_12_trail'] = res_visitors2"
   ]
  },
  {
   "cell_type": "code",
   "execution_count": null,
   "metadata": {
    "execution": {
     "iopub.status.busy": "2022-02-24T16:55:40.351572Z",
     "iopub.status.idle": "2022-02-24T16:55:40.354775Z",
     "shell.execute_reply": "2022-02-24T16:55:40.354226Z",
     "shell.execute_reply.started": "2022-02-24T16:55:40.354126Z"
    },
    "tags": []
   },
   "outputs": [],
   "source": [
    "months_bin = deepcopy(months_bin2)"
   ]
  },
  {
   "cell_type": "code",
   "execution_count": null,
   "metadata": {
    "execution": {
     "iopub.status.busy": "2022-02-24T16:55:40.364682Z",
     "iopub.status.idle": "2022-02-24T16:55:40.386932Z",
     "shell.execute_reply": "2022-02-24T16:55:40.384463Z",
     "shell.execute_reply.started": "2022-02-24T16:55:40.384274Z"
    },
    "tags": []
   },
   "outputs": [],
   "source": [
    "months_bin.shape"
   ]
  },
  {
   "cell_type": "code",
   "execution_count": null,
   "metadata": {
    "execution": {
     "iopub.status.busy": "2022-02-24T16:55:40.400577Z",
     "iopub.status.idle": "2022-02-24T16:55:40.402745Z",
     "shell.execute_reply": "2022-02-24T16:55:40.402051Z",
     "shell.execute_reply.started": "2022-02-24T16:55:40.401816Z"
    },
    "tags": []
   },
   "outputs": [],
   "source": [
    "months_bin.to_csv(cwd+'/cached_data/nh_user_growth.csv')\n",
    "print('latest data cached')"
   ]
  },
  {
   "cell_type": "code",
   "execution_count": null,
   "metadata": {
    "execution": {
     "iopub.status.busy": "2022-02-24T16:55:40.418247Z",
     "iopub.status.idle": "2022-02-24T16:55:40.433501Z",
     "shell.execute_reply": "2022-02-24T16:55:40.420444Z",
     "shell.execute_reply.started": "2022-02-24T16:55:40.420373Z"
    },
    "tags": []
   },
   "outputs": [],
   "source": [
    "months_bin"
   ]
  },
  {
   "cell_type": "code",
   "execution_count": null,
   "metadata": {
    "execution": {
     "iopub.status.busy": "2022-02-24T16:55:40.449154Z",
     "iopub.status.idle": "2022-02-24T16:55:40.453550Z",
     "shell.execute_reply": "2022-02-24T16:55:40.452379Z",
     "shell.execute_reply.started": "2022-02-24T16:55:40.452240Z"
    },
    "tags": []
   },
   "outputs": [],
   "source": [
    "with open(cwd+'/dev_flags.txt','r') as f:\n",
    "    raw_flags = f.read()\n",
    "flag_pattern = re.compile(r'= \\w+')\n",
    "flags1 = re.findall(flag_pattern,raw_flags)    \n",
    "flags_result = [i[2:] for i in flags1]\n",
    "dev_flag = flags_result[0]\n",
    "prod_flag = flags_result[1]"
   ]
  },
  {
   "cell_type": "code",
   "execution_count": null,
   "metadata": {
    "execution": {
     "iopub.status.busy": "2022-02-24T16:55:40.469512Z",
     "iopub.status.idle": "2022-02-24T16:55:40.480318Z",
     "shell.execute_reply": "2022-02-24T16:55:40.479385Z",
     "shell.execute_reply.started": "2022-02-24T16:55:40.479289Z"
    },
    "tags": []
   },
   "outputs": [],
   "source": [
    "from matplotlib import pyplot as plt\n",
    "import seaborn as sns\n",
    "import os\n",
    "sns.set()\n",
    "sns.set_style(\"white\")\n",
    "#plt.figure(figsize=(9,6))\n",
    "fig, ax1 = plt.subplots()\n",
    "ax1.clear()\n",
    "ax1.plot(months_bin.year_month[:], months_bin.registered_12_trail[:], color='red', label='New Registered Users');\n",
    "ax1.plot(months_bin.year_month[:], months_bin.sim_12_trail[:], color='blue', label='Simulation Users');\n",
    "#plt.plot(months_bin.year_month,res_visitors2)\n",
    "\n",
    "ax1.set_title('Annual Registered Users')\n",
    "\n",
    "ax1.set_xlim([datetime.datetime(2000,1,1), datetime.datetime(2022,4,1)]);\n",
    "ax1.set_ylim([0, 35000])\n",
    "ax1.set_yticks(np.arange(0,35000,5000))\n",
    "ax1.tick_params(axis='y',labelcolor='red')\n",
    "# ax1.set_ylabel('Unique Users/Month')\n",
    "\n",
    "plt.ylabel('Annualized nanoHUB Registered Users');\n",
    "ax1.legend(loc=2);\n",
    "\n",
    "\n",
    "# h,l = ax1.get_legend_handles_labels()\n",
    "# h2,l2 = ax2.get_legend_h\n",
    "# kw = dict(ncol=3,loc = 'lower center',frameon=False)\n",
    "#(x, y, width, height)\n",
    "#h += h2\n",
    "#l += l2\n",
    "# leg1 = ax1.legend(h,l,bbox_to_anchor=(-0.15,1.05,1.3,0.2),\\\n",
    "#                 mode='expand',fontsize=10,**kw)\n",
    "# ax1.add_artist(leg1)\n",
    "\n",
    "cwd = os.getcwd()\n",
    "if dev_flag == 'True':\n",
    "    plt.savefig(cwd+'/plots_local/300dpi_users_registrered_simulation_12_months.eps', dpi=300, bbox_inches='tight')\n",
    "    plt.savefig(cwd+'/plots_local/300dpi_users_registrered_simulation_12_months.pdf', dpi=300, bbox_inches='tight')\n",
    "    plt.savefig(cwd+'/plots_local/300dpi_users_registrered_simulation_12_months.png', dpi=300, bbox_inches='tight')\n",
    "elif prod_flag == 'True':\n",
    "    plt.savefig(cwd+'/plots_production/300dpi_users_registrered_simulation_12_months.eps', dpi=300, bbox_inches='tight')\n",
    "    plt.savefig(cwd+'/plots_production/300dpi_users_registrered_simulation_12_months.pdf', dpi=300, bbox_inches='tight')\n",
    "    plt.savefig(cwd+'/plots_production/300dpi_users_registrered_simulation_12_months.png', dpi=300, bbox_inches='tight')\n",
    "else:\n",
    "    print('no printing flag is active')"
   ]
  },
  {
   "cell_type": "code",
   "execution_count": null,
   "metadata": {
    "execution": {
     "iopub.status.busy": "2022-02-24T16:55:40.485846Z",
     "iopub.status.idle": "2022-02-24T16:55:40.486442Z",
     "shell.execute_reply": "2022-02-24T16:55:40.486188Z",
     "shell.execute_reply.started": "2022-02-24T16:55:40.486141Z"
    },
    "tags": []
   },
   "outputs": [],
   "source": [
    "from matplotlib import pyplot as plt\n",
    "import seaborn as sns\n",
    "import os\n",
    "sns.set()\n",
    "sns.set_style(\"white\")\n",
    "#plt.figure(figsize=(9,6))\n",
    "fig, ax1 = plt.subplots()\n",
    "\n",
    "ax1.clear()\n",
    "ax1.plot(months_bin.year_month[:],months_bin.visitors_12_trail[:],color='green',label='Unique Monthly Visitors')\n",
    "\n",
    "\n",
    "ax1.set_title('Annual Visitors')\n",
    "\n",
    "ax1.set_xlim([datetime.datetime(2000,1,1), datetime.datetime(2022,4,1)]);\n",
    "\n",
    "ax1.set_ylabel('Annualized Visitors')\n",
    "ax1.tick_params(axis='y',labelcolor='green')\n",
    "ax1.set_ylim([0,2000000+250000])\n",
    "ax1.set_yticks(np.arange(0,2000000+250000,250000))\n",
    "\n",
    "\n",
    "ax1.legend(loc=2)\n",
    "# ax1.legend(loc='upper left')\n",
    "\n",
    "\n",
    "# h,l = ax1.get_legend_handles_labels()\n",
    "# kw = dict(ncol=3,loc = 'lower center',frameon=False)\n",
    "#(x, y, width, height)\n",
    "#h += h2\n",
    "#l += l2\n",
    "# leg1 = ax1.legend(h,l,bbox_to_anchor=(-0.15,1.05,1.3,0.2),\\\n",
    "#                 mode='expand',fontsize=10,**kw)\n",
    "# ax1.add_artist(leg1)\n",
    "\n",
    "cwd = os.getcwd()\n",
    "\n",
    "if dev_flag == 'True':\n",
    "    plt.savefig(cwd+'/plots_local/300dpi_users_unique_annual_visitors.eps', dpi=300, bbox_inches='tight')\n",
    "    plt.savefig(cwd+'/plots_local/300dpi_users_unique_annual_visitors.pdf', dpi=300, bbox_inches='tight')\n",
    "    plt.savefig(cwd+'/plots_local/300dpi_users_unique_annual_visitors.png', dpi=300, bbox_inches='tight')\n",
    "elif prod_flag == 'True':\n",
    "    plt.savefig(cwd+'/plots_production/300dpi_users_unique_annual_visitors.eps', dpi=300, bbox_inches='tight')\n",
    "    plt.savefig(cwd+'/plots_production/300dpi_users_unique_annual_visitors.pdf', dpi=300, bbox_inches='tight')\n",
    "    plt.savefig(cwd+'/plots_production/300dpi_users_unique_annual_visitors.png', dpi=300, bbox_inches='tight')\n",
    "else:\n",
    "    print('no printing flag is active')\n"
   ]
  },
  {
   "cell_type": "code",
   "execution_count": null,
   "metadata": {},
   "outputs": [],
   "source": []
  }
 ],
 "metadata": {
  "kernelspec": {
   "display_name": "Python 3 (ipykernel)",
   "language": "python",
   "name": "python3"
  },
  "language_info": {
   "codemirror_mode": {
    "name": "ipython",
    "version": 3
   },
   "file_extension": ".py",
   "mimetype": "text/x-python",
   "name": "python",
   "nbconvert_exporter": "python",
   "pygments_lexer": "ipython3",
   "version": "3.8.10"
  }
 },
 "nbformat": 4,
 "nbformat_minor": 4
}
