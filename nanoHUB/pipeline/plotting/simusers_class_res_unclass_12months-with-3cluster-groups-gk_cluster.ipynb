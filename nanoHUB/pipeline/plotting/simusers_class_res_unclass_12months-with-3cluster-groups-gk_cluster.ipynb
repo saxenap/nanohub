{
 "cells": [
  {
   "cell_type": "code",
   "execution_count": 2,
   "metadata": {
    "execution": {
     "iopub.execute_input": "2022-02-21T21:58:16.187347Z",
     "iopub.status.busy": "2022-02-21T21:58:16.187023Z",
     "iopub.status.idle": "2022-02-21T21:58:16.194428Z",
     "shell.execute_reply": "2022-02-21T21:58:16.192073Z",
     "shell.execute_reply.started": "2022-02-21T21:58:16.187318Z"
    },
    "tags": []
   },
   "outputs": [],
   "source": [
    "## build researcher events, student events, and self-study events\n",
    "## researcher are simply those with NH citations"
   ]
  },
  {
   "cell_type": "code",
   "execution_count": 3,
   "metadata": {
    "execution": {
     "iopub.execute_input": "2022-02-21T21:58:17.182848Z",
     "iopub.status.busy": "2022-02-21T21:58:17.182572Z",
     "iopub.status.idle": "2022-02-21T21:58:18.679177Z",
     "shell.execute_reply": "2022-02-21T21:58:18.678150Z",
     "shell.execute_reply.started": "2022-02-21T21:58:17.182823Z"
    },
    "tags": []
   },
   "outputs": [
    {
     "name": "stdout",
     "output_type": "stream",
     "text": [
      "\u001b[1mnanoHUB - Serving Students, Researchers & Instructors\u001b[0m\n"
     ]
    }
   ],
   "source": [
    "import sys\n",
    "\n",
    "import pandas as pd\n",
    "import numpy as np\n",
    "import time\n",
    "import datetime\n",
    "import os\n",
    "from nanoHUB.application import Application\n",
    "from nanoHUB.configuration import ClusteringConfiguration\n",
    "from nanoHUB.pipeline.geddes.data import get_default_s3_client\n",
    "from nanoHUB.dataaccess.lake import S3FileMapper\n",
    "\n",
    "from nanoHUB.clustering.infra import get_mike_only_clustered_users, get_xufeng_only_clustered_users, get_mike_xufeng_clustered_users\n",
    "from nanoHUB.clustering.infra import create_clusters_repository, add_cluster_info, get_all_clustered_users, get_all_self_study_users, get_all_self_identified_users"
   ]
  },
  {
   "cell_type": "code",
   "execution_count": 4,
   "metadata": {
    "execution": {
     "iopub.execute_input": "2022-02-21T21:58:18.680965Z",
     "iopub.status.busy": "2022-02-21T21:58:18.680713Z",
     "iopub.status.idle": "2022-02-21T21:58:18.686615Z",
     "shell.execute_reply": "2022-02-21T21:58:18.684674Z",
     "shell.execute_reply.started": "2022-02-21T21:58:18.680934Z"
    },
    "tags": []
   },
   "outputs": [],
   "source": [
    "pd.set_option('display.max_columns', None)\n",
    "cwd = os.getcwd()"
   ]
  },
  {
   "cell_type": "code",
   "execution_count": 5,
   "metadata": {
    "execution": {
     "iopub.execute_input": "2022-02-21T21:58:19.011257Z",
     "iopub.status.busy": "2022-02-21T21:58:19.010951Z",
     "iopub.status.idle": "2022-02-21T21:58:19.330143Z",
     "shell.execute_reply": "2022-02-21T21:58:19.328669Z",
     "shell.execute_reply.started": "2022-02-21T21:58:19.011230Z"
    },
    "tags": []
   },
   "outputs": [],
   "source": [
    "application = Application.get_instance()\n",
    "nanohub_db = application.new_db_engine('nanohub')\n",
    "nanohub_metrics_db = application.new_db_engine('nanohub_metrics')\n",
    "wang159_myrmekes_db = application.new_db_engine('rfm_data')\n",
    "\n",
    "s3_client = get_default_s3_client(application)\n",
    "derived_data_file_path = 'derived_data_for_users.csv'\n",
    "processed_mapper = S3FileMapper(s3_client, ClusteringConfiguration().bucket_name_processed)"
   ]
  },
  {
   "cell_type": "code",
   "execution_count": null,
   "metadata": {},
   "outputs": [],
   "source": []
  },
  {
   "cell_type": "markdown",
   "metadata": {
    "tags": []
   },
   "source": [
    "## Cumulative classroom/research/self-study"
   ]
  },
  {
   "cell_type": "code",
   "execution_count": 6,
   "metadata": {
    "execution": {
     "iopub.execute_input": "2022-02-21T21:58:19.847337Z",
     "iopub.status.busy": "2022-02-21T21:58:19.846877Z",
     "iopub.status.idle": "2022-02-21T21:58:34.453319Z",
     "shell.execute_reply": "2022-02-21T21:58:34.452066Z",
     "shell.execute_reply.started": "2022-02-21T21:58:19.847304Z"
    },
    "tags": []
   },
   "outputs": [
    {
     "data": {
      "text/plain": [
       "78167"
      ]
     },
     "metadata": {},
     "output_type": "display_data"
    }
   ],
   "source": [
    "clustered_df = get_all_clustered_users(processed_mapper, derived_data_file_path)\n",
    "clustered_df['nanoHUB_user_ID__c'] = clustered_df['id']\n",
    "clustered_NH_ids = clustered_df['nanoHUB_user_ID__c']\n",
    "display(len(clustered_NH_ids))"
   ]
  },
  {
   "cell_type": "code",
   "execution_count": 7,
   "metadata": {
    "execution": {
     "iopub.execute_input": "2022-02-21T21:58:34.454892Z",
     "iopub.status.busy": "2022-02-21T21:58:34.454661Z",
     "iopub.status.idle": "2022-02-21T21:58:45.528011Z",
     "shell.execute_reply": "2022-02-21T21:58:45.527099Z",
     "shell.execute_reply.started": "2022-02-21T21:58:34.454867Z"
    },
    "tags": []
   },
   "outputs": [
    {
     "name": "stdout",
     "output_type": "stream",
     "text": [
      "[WARNING] [warnings - py.warnings]: /home/gekco/nanoHUB/nanoHUB/clustering/infra.py:334: UserWarning: This pattern has match groups. To actually get the groups, use str.extract.\n",
      "  return df[df[column_name].str.contains(search_for)]\n",
      " [warnings._showwarnmsg:109]\n"
     ]
    },
    {
     "data": {
      "text/plain": [
       "16825"
      ]
     },
     "metadata": {},
     "output_type": "display_data"
    }
   ],
   "source": [
    "mike_clustered_users_df = get_mike_only_clustered_users(processed_mapper, derived_data_file_path)\n",
    "mike_clustered_users_df['nanoHUB_user_ID__c'] = mike_clustered_users_df['id']\n",
    "mike_clustered_NH_ids = mike_clustered_users_df['nanoHUB_user_ID__c']\n",
    "display(len(mike_clustered_users_df))"
   ]
  },
  {
   "cell_type": "code",
   "execution_count": 8,
   "metadata": {
    "execution": {
     "iopub.execute_input": "2022-02-21T21:58:45.531370Z",
     "iopub.status.busy": "2022-02-21T21:58:45.529985Z",
     "iopub.status.idle": "2022-02-21T21:58:57.363921Z",
     "shell.execute_reply": "2022-02-21T21:58:57.362751Z",
     "shell.execute_reply.started": "2022-02-21T21:58:45.531326Z"
    },
    "tags": []
   },
   "outputs": [
    {
     "data": {
      "text/plain": [
       "14997"
      ]
     },
     "metadata": {},
     "output_type": "display_data"
    }
   ],
   "source": [
    "xufeng_clustered_users_df = get_xufeng_only_clustered_users(processed_mapper, derived_data_file_path)\n",
    "xufeng_clustered_users_df['nanoHUB_user_ID__c'] = xufeng_clustered_users_df['id']\n",
    "xufeng_clustered_NH_ids = xufeng_clustered_users_df['nanoHUB_user_ID__c']\n",
    "display(len(xufeng_clustered_users_df))"
   ]
  },
  {
   "cell_type": "code",
   "execution_count": 9,
   "metadata": {
    "execution": {
     "iopub.execute_input": "2022-02-21T21:58:57.365988Z",
     "iopub.status.busy": "2022-02-21T21:58:57.365343Z",
     "iopub.status.idle": "2022-02-21T21:59:08.988478Z",
     "shell.execute_reply": "2022-02-21T21:59:08.987376Z",
     "shell.execute_reply.started": "2022-02-21T21:58:57.365962Z"
    },
    "tags": []
   },
   "outputs": [
    {
     "data": {
      "text/plain": [
       "46345"
      ]
     },
     "metadata": {},
     "output_type": "display_data"
    }
   ],
   "source": [
    "mike_xufeng_clustered_users_df = get_mike_xufeng_clustered_users(processed_mapper, derived_data_file_path)\n",
    "mike_xufeng_clustered_users_df['nanoHUB_user_ID__c'] = mike_xufeng_clustered_users_df['id']\n",
    "mike_xufeng_clustered_NH_ids = mike_xufeng_clustered_users_df['nanoHUB_user_ID__c']\n",
    "display(len(mike_xufeng_clustered_users_df))"
   ]
  },
  {
   "cell_type": "code",
   "execution_count": 10,
   "metadata": {
    "execution": {
     "iopub.execute_input": "2022-02-21T21:59:08.990361Z",
     "iopub.status.busy": "2022-02-21T21:59:08.990000Z",
     "iopub.status.idle": "2022-02-21T21:59:08.995632Z",
     "shell.execute_reply": "2022-02-21T21:59:08.994167Z",
     "shell.execute_reply.started": "2022-02-21T21:59:08.990330Z"
    },
    "tags": []
   },
   "outputs": [],
   "source": [
    "# raise"
   ]
  },
  {
   "cell_type": "code",
   "execution_count": 11,
   "metadata": {
    "execution": {
     "iopub.execute_input": "2022-02-21T21:59:08.998784Z",
     "iopub.status.busy": "2022-02-21T21:59:08.998368Z",
     "iopub.status.idle": "2022-02-21T21:59:22.892228Z",
     "shell.execute_reply": "2022-02-21T21:59:22.891116Z",
     "shell.execute_reply.started": "2022-02-21T21:59:08.998745Z"
    },
    "tags": []
   },
   "outputs": [
    {
     "name": "stdout",
     "output_type": "stream",
     "text": [
      "self_study_NH_ids length =  194524\n",
      "self_study_usernames length =  194524\n",
      "self_study_usernames samples =  ['hubrepo', 'admin', 'support', 'gridstat', 'ncn', 'nanohub', 'repo', 'violin', 'mireles', 'k_dadesh']\n"
     ]
    }
   ],
   "source": [
    "self_study_df = get_all_self_study_users(processed_mapper, derived_data_file_path)\n",
    "self_study_df['nanoHUB_user_ID__c'] = self_study_df['id']\n",
    "self_study_NH_ids = self_study_df['nanoHUB_user_ID__c']\n",
    "self_study_usernames = self_study_df['username'].tolist()\n",
    "\n",
    "print('self_study_NH_ids length = ',len(self_study_NH_ids))\n",
    "print('self_study_usernames length = ',len(self_study_usernames))\n",
    "print('self_study_usernames samples = ',self_study_usernames[0:10])"
   ]
  },
  {
   "cell_type": "code",
   "execution_count": 12,
   "metadata": {
    "execution": {
     "iopub.execute_input": "2022-02-21T21:59:22.893969Z",
     "iopub.status.busy": "2022-02-21T21:59:22.893701Z",
     "iopub.status.idle": "2022-02-21T21:59:35.913582Z",
     "shell.execute_reply": "2022-02-21T21:59:35.912481Z",
     "shell.execute_reply.started": "2022-02-21T21:59:22.893943Z"
    },
    "tags": []
   },
   "outputs": [
    {
     "name": "stdout",
     "output_type": "stream",
     "text": [
      "length of self_identified_NH_ids 4037\n"
     ]
    },
    {
     "data": {
      "text/html": [
       "<div>\n",
       "<style scoped>\n",
       "    .dataframe tbody tr th:only-of-type {\n",
       "        vertical-align: middle;\n",
       "    }\n",
       "\n",
       "    .dataframe tbody tr th {\n",
       "        vertical-align: top;\n",
       "    }\n",
       "\n",
       "    .dataframe thead th {\n",
       "        text-align: right;\n",
       "    }\n",
       "</style>\n",
       "<table border=\"1\" class=\"dataframe\">\n",
       "  <thead>\n",
       "    <tr style=\"text-align: right;\">\n",
       "      <th></th>\n",
       "      <th>id</th>\n",
       "      <th>name</th>\n",
       "      <th>username</th>\n",
       "      <th>email</th>\n",
       "      <th>registerDate</th>\n",
       "      <th>lastvisitDate</th>\n",
       "      <th>first_citation_at</th>\n",
       "      <th>number_citations</th>\n",
       "      <th>profile_key</th>\n",
       "      <th>has_researcher_profile</th>\n",
       "      <th>number_simulations</th>\n",
       "      <th>uid</th>\n",
       "      <th>clusters</th>\n",
       "      <th>mike_fall_2008</th>\n",
       "      <th>xufeng_fall_2008</th>\n",
       "      <th>mike_spring_2008</th>\n",
       "      <th>xufeng_spring_2008</th>\n",
       "      <th>mike_fall_2009</th>\n",
       "      <th>xufeng_fall_2009</th>\n",
       "      <th>mike_spring_2009</th>\n",
       "      <th>xufeng_spring_2009</th>\n",
       "      <th>mike_fall_2010</th>\n",
       "      <th>xufeng_fall_2010</th>\n",
       "      <th>mike_spring_2010</th>\n",
       "      <th>xufeng_spring_2010</th>\n",
       "      <th>mike_fall_2011</th>\n",
       "      <th>xufeng_fall_2011</th>\n",
       "      <th>mike_spring_2011</th>\n",
       "      <th>xufeng_spring_2011</th>\n",
       "      <th>mike_fall_2012</th>\n",
       "      <th>xufeng_fall_2012</th>\n",
       "      <th>mike_spring_2012</th>\n",
       "      <th>xufeng_spring_2012</th>\n",
       "      <th>mike_fall_2013</th>\n",
       "      <th>xufeng_fall_2013</th>\n",
       "      <th>mike_spring_2013</th>\n",
       "      <th>xufeng_spring_2013</th>\n",
       "      <th>mike_fall_2014</th>\n",
       "      <th>xufeng_fall_2014</th>\n",
       "      <th>mike_spring_2014</th>\n",
       "      <th>xufeng_spring_2014</th>\n",
       "      <th>mike_fall_2015</th>\n",
       "      <th>xufeng_fall_2015</th>\n",
       "      <th>mike_spring_2015</th>\n",
       "      <th>xufeng_spring_2015</th>\n",
       "      <th>mike_fall_2016</th>\n",
       "      <th>xufeng_fall_2016</th>\n",
       "      <th>mike_spring_2016</th>\n",
       "      <th>xufeng_spring_2016</th>\n",
       "      <th>mike_fall_2017</th>\n",
       "      <th>xufeng_fall_2017</th>\n",
       "      <th>mike_spring_2017</th>\n",
       "      <th>xufeng_spring_2017</th>\n",
       "      <th>mike_fall_2018</th>\n",
       "      <th>xufeng_fall_2018</th>\n",
       "      <th>mike_spring_2018</th>\n",
       "      <th>xufeng_spring_2018</th>\n",
       "      <th>mike_fall_2019</th>\n",
       "      <th>xufeng_fall_2019</th>\n",
       "      <th>mike_spring_2019</th>\n",
       "      <th>xufeng_spring_2019</th>\n",
       "      <th>mike_fall_2020</th>\n",
       "      <th>xufeng_fall_2020</th>\n",
       "      <th>mike_spring_2020</th>\n",
       "      <th>xufeng_spring_2020</th>\n",
       "      <th>mike_fall_2021</th>\n",
       "      <th>xufeng_fall_2021</th>\n",
       "      <th>nanoHUB_user_ID__c</th>\n",
       "    </tr>\n",
       "  </thead>\n",
       "  <tbody>\n",
       "    <tr>\n",
       "      <th>895</th>\n",
       "      <td>2579</td>\n",
       "      <td>Stefan Birner</td>\n",
       "      <td>birner</td>\n",
       "      <td>stefan.birner@nextnano.com</td>\n",
       "      <td>2006-05-05 07:36:09</td>\n",
       "      <td>2020-01-13 15:58:33</td>\n",
       "      <td>NaN</td>\n",
       "      <td>0.0</td>\n",
       "      <td>[orcid]</td>\n",
       "      <td>True</td>\n",
       "      <td>52.0</td>\n",
       "      <td>2579.0</td>\n",
       "      <td>['mike_spring_2010']</td>\n",
       "      <td>False</td>\n",
       "      <td>False</td>\n",
       "      <td>False</td>\n",
       "      <td>False</td>\n",
       "      <td>False</td>\n",
       "      <td>False</td>\n",
       "      <td>False</td>\n",
       "      <td>False</td>\n",
       "      <td>False</td>\n",
       "      <td>False</td>\n",
       "      <td>True</td>\n",
       "      <td>False</td>\n",
       "      <td>False</td>\n",
       "      <td>False</td>\n",
       "      <td>False</td>\n",
       "      <td>False</td>\n",
       "      <td>False</td>\n",
       "      <td>False</td>\n",
       "      <td>False</td>\n",
       "      <td>False</td>\n",
       "      <td>False</td>\n",
       "      <td>False</td>\n",
       "      <td>False</td>\n",
       "      <td>False</td>\n",
       "      <td>False</td>\n",
       "      <td>False</td>\n",
       "      <td>False</td>\n",
       "      <td>False</td>\n",
       "      <td>False</td>\n",
       "      <td>False</td>\n",
       "      <td>False</td>\n",
       "      <td>False</td>\n",
       "      <td>False</td>\n",
       "      <td>False</td>\n",
       "      <td>False</td>\n",
       "      <td>False</td>\n",
       "      <td>False</td>\n",
       "      <td>False</td>\n",
       "      <td>False</td>\n",
       "      <td>False</td>\n",
       "      <td>False</td>\n",
       "      <td>False</td>\n",
       "      <td>False</td>\n",
       "      <td>False</td>\n",
       "      <td>False</td>\n",
       "      <td>False</td>\n",
       "      <td>False</td>\n",
       "      <td>False</td>\n",
       "      <td>False</td>\n",
       "      <td>False</td>\n",
       "      <td>False</td>\n",
       "      <td>False</td>\n",
       "      <td>False</td>\n",
       "      <td>False</td>\n",
       "      <td>2579</td>\n",
       "    </tr>\n",
       "    <tr>\n",
       "      <th>1176</th>\n",
       "      <td>2862</td>\n",
       "      <td>Mark Lundstrom</td>\n",
       "      <td>lundstro</td>\n",
       "      <td>lundstro@purdue.edu</td>\n",
       "      <td>2004-12-06 22:01:25</td>\n",
       "      <td>2022-02-08 16:28:36</td>\n",
       "      <td>NaN</td>\n",
       "      <td>0.0</td>\n",
       "      <td>[googlescholar, researchgateid]</td>\n",
       "      <td>True</td>\n",
       "      <td>2345.0</td>\n",
       "      <td>2862.0</td>\n",
       "      <td>['xufeng_fall_2008', 'xufeng_spring_2008', 'xu...</td>\n",
       "      <td>False</td>\n",
       "      <td>True</td>\n",
       "      <td>False</td>\n",
       "      <td>True</td>\n",
       "      <td>False</td>\n",
       "      <td>False</td>\n",
       "      <td>False</td>\n",
       "      <td>False</td>\n",
       "      <td>False</td>\n",
       "      <td>True</td>\n",
       "      <td>False</td>\n",
       "      <td>False</td>\n",
       "      <td>False</td>\n",
       "      <td>True</td>\n",
       "      <td>False</td>\n",
       "      <td>False</td>\n",
       "      <td>False</td>\n",
       "      <td>False</td>\n",
       "      <td>False</td>\n",
       "      <td>False</td>\n",
       "      <td>False</td>\n",
       "      <td>True</td>\n",
       "      <td>False</td>\n",
       "      <td>False</td>\n",
       "      <td>False</td>\n",
       "      <td>False</td>\n",
       "      <td>False</td>\n",
       "      <td>False</td>\n",
       "      <td>False</td>\n",
       "      <td>False</td>\n",
       "      <td>True</td>\n",
       "      <td>False</td>\n",
       "      <td>False</td>\n",
       "      <td>False</td>\n",
       "      <td>False</td>\n",
       "      <td>False</td>\n",
       "      <td>False</td>\n",
       "      <td>False</td>\n",
       "      <td>False</td>\n",
       "      <td>False</td>\n",
       "      <td>False</td>\n",
       "      <td>False</td>\n",
       "      <td>False</td>\n",
       "      <td>False</td>\n",
       "      <td>False</td>\n",
       "      <td>False</td>\n",
       "      <td>True</td>\n",
       "      <td>False</td>\n",
       "      <td>False</td>\n",
       "      <td>False</td>\n",
       "      <td>False</td>\n",
       "      <td>False</td>\n",
       "      <td>False</td>\n",
       "      <td>False</td>\n",
       "      <td>2862</td>\n",
       "    </tr>\n",
       "    <tr>\n",
       "      <th>1473</th>\n",
       "      <td>3159</td>\n",
       "      <td>Tamara J. Moore</td>\n",
       "      <td>tmoore</td>\n",
       "      <td>tmoore@purdue.edu</td>\n",
       "      <td>2003-09-03 21:18:50</td>\n",
       "      <td>2021-10-07 19:58:59</td>\n",
       "      <td>NaN</td>\n",
       "      <td>0.0</td>\n",
       "      <td>[orcid]</td>\n",
       "      <td>True</td>\n",
       "      <td>38.0</td>\n",
       "      <td>3159.0</td>\n",
       "      <td>['xufeng_fall_2020']</td>\n",
       "      <td>False</td>\n",
       "      <td>False</td>\n",
       "      <td>False</td>\n",
       "      <td>False</td>\n",
       "      <td>False</td>\n",
       "      <td>False</td>\n",
       "      <td>False</td>\n",
       "      <td>False</td>\n",
       "      <td>False</td>\n",
       "      <td>False</td>\n",
       "      <td>False</td>\n",
       "      <td>False</td>\n",
       "      <td>False</td>\n",
       "      <td>False</td>\n",
       "      <td>False</td>\n",
       "      <td>False</td>\n",
       "      <td>False</td>\n",
       "      <td>False</td>\n",
       "      <td>False</td>\n",
       "      <td>False</td>\n",
       "      <td>False</td>\n",
       "      <td>False</td>\n",
       "      <td>False</td>\n",
       "      <td>False</td>\n",
       "      <td>False</td>\n",
       "      <td>False</td>\n",
       "      <td>False</td>\n",
       "      <td>False</td>\n",
       "      <td>False</td>\n",
       "      <td>False</td>\n",
       "      <td>False</td>\n",
       "      <td>False</td>\n",
       "      <td>False</td>\n",
       "      <td>False</td>\n",
       "      <td>False</td>\n",
       "      <td>False</td>\n",
       "      <td>False</td>\n",
       "      <td>False</td>\n",
       "      <td>False</td>\n",
       "      <td>False</td>\n",
       "      <td>False</td>\n",
       "      <td>False</td>\n",
       "      <td>False</td>\n",
       "      <td>False</td>\n",
       "      <td>False</td>\n",
       "      <td>False</td>\n",
       "      <td>False</td>\n",
       "      <td>False</td>\n",
       "      <td>False</td>\n",
       "      <td>True</td>\n",
       "      <td>False</td>\n",
       "      <td>False</td>\n",
       "      <td>False</td>\n",
       "      <td>False</td>\n",
       "      <td>3159</td>\n",
       "    </tr>\n",
       "    <tr>\n",
       "      <th>1796</th>\n",
       "      <td>3482</td>\n",
       "      <td>Gerhard Klimeck</td>\n",
       "      <td>gekco</td>\n",
       "      <td>gekco@purdue.edu</td>\n",
       "      <td>2004-04-10 17:58:53</td>\n",
       "      <td>2022-02-10 14:45:37</td>\n",
       "      <td>NaN</td>\n",
       "      <td>0.0</td>\n",
       "      <td>[orcid, googlescholar, researcherid, researchg...</td>\n",
       "      <td>True</td>\n",
       "      <td>18677.0</td>\n",
       "      <td>3482.0</td>\n",
       "      <td>['xufeng_fall_2009', 'xufeng_spring_2009', 'xu...</td>\n",
       "      <td>False</td>\n",
       "      <td>False</td>\n",
       "      <td>False</td>\n",
       "      <td>False</td>\n",
       "      <td>False</td>\n",
       "      <td>True</td>\n",
       "      <td>False</td>\n",
       "      <td>True</td>\n",
       "      <td>False</td>\n",
       "      <td>True</td>\n",
       "      <td>False</td>\n",
       "      <td>True</td>\n",
       "      <td>False</td>\n",
       "      <td>False</td>\n",
       "      <td>False</td>\n",
       "      <td>False</td>\n",
       "      <td>False</td>\n",
       "      <td>False</td>\n",
       "      <td>False</td>\n",
       "      <td>True</td>\n",
       "      <td>False</td>\n",
       "      <td>True</td>\n",
       "      <td>False</td>\n",
       "      <td>False</td>\n",
       "      <td>False</td>\n",
       "      <td>True</td>\n",
       "      <td>False</td>\n",
       "      <td>False</td>\n",
       "      <td>False</td>\n",
       "      <td>False</td>\n",
       "      <td>False</td>\n",
       "      <td>False</td>\n",
       "      <td>False</td>\n",
       "      <td>False</td>\n",
       "      <td>False</td>\n",
       "      <td>True</td>\n",
       "      <td>False</td>\n",
       "      <td>False</td>\n",
       "      <td>False</td>\n",
       "      <td>False</td>\n",
       "      <td>False</td>\n",
       "      <td>False</td>\n",
       "      <td>False</td>\n",
       "      <td>False</td>\n",
       "      <td>False</td>\n",
       "      <td>False</td>\n",
       "      <td>False</td>\n",
       "      <td>True</td>\n",
       "      <td>False</td>\n",
       "      <td>True</td>\n",
       "      <td>False</td>\n",
       "      <td>False</td>\n",
       "      <td>False</td>\n",
       "      <td>True</td>\n",
       "      <td>3482</td>\n",
       "    </tr>\n",
       "    <tr>\n",
       "      <th>1897</th>\n",
       "      <td>3583</td>\n",
       "      <td>Eric Pop</td>\n",
       "      <td>epop</td>\n",
       "      <td>epop@stanford.edu</td>\n",
       "      <td>2006-02-09 20:57:14</td>\n",
       "      <td>2021-09-04 07:19:40</td>\n",
       "      <td>NaN</td>\n",
       "      <td>0.0</td>\n",
       "      <td>[orcid, googlescholar]</td>\n",
       "      <td>True</td>\n",
       "      <td>90.0</td>\n",
       "      <td>3583.0</td>\n",
       "      <td>['xufeng_fall_2012']</td>\n",
       "      <td>False</td>\n",
       "      <td>False</td>\n",
       "      <td>False</td>\n",
       "      <td>False</td>\n",
       "      <td>False</td>\n",
       "      <td>False</td>\n",
       "      <td>False</td>\n",
       "      <td>False</td>\n",
       "      <td>False</td>\n",
       "      <td>False</td>\n",
       "      <td>False</td>\n",
       "      <td>False</td>\n",
       "      <td>False</td>\n",
       "      <td>False</td>\n",
       "      <td>False</td>\n",
       "      <td>False</td>\n",
       "      <td>False</td>\n",
       "      <td>True</td>\n",
       "      <td>False</td>\n",
       "      <td>False</td>\n",
       "      <td>False</td>\n",
       "      <td>False</td>\n",
       "      <td>False</td>\n",
       "      <td>False</td>\n",
       "      <td>False</td>\n",
       "      <td>False</td>\n",
       "      <td>False</td>\n",
       "      <td>False</td>\n",
       "      <td>False</td>\n",
       "      <td>False</td>\n",
       "      <td>False</td>\n",
       "      <td>False</td>\n",
       "      <td>False</td>\n",
       "      <td>False</td>\n",
       "      <td>False</td>\n",
       "      <td>False</td>\n",
       "      <td>False</td>\n",
       "      <td>False</td>\n",
       "      <td>False</td>\n",
       "      <td>False</td>\n",
       "      <td>False</td>\n",
       "      <td>False</td>\n",
       "      <td>False</td>\n",
       "      <td>False</td>\n",
       "      <td>False</td>\n",
       "      <td>False</td>\n",
       "      <td>False</td>\n",
       "      <td>False</td>\n",
       "      <td>False</td>\n",
       "      <td>False</td>\n",
       "      <td>False</td>\n",
       "      <td>False</td>\n",
       "      <td>False</td>\n",
       "      <td>False</td>\n",
       "      <td>3583</td>\n",
       "    </tr>\n",
       "  </tbody>\n",
       "</table>\n",
       "</div>"
      ],
      "text/plain": [
       "        id             name  username                       email  \\\n",
       "895   2579    Stefan Birner    birner  stefan.birner@nextnano.com   \n",
       "1176  2862   Mark Lundstrom  lundstro         lundstro@purdue.edu   \n",
       "1473  3159  Tamara J. Moore    tmoore           tmoore@purdue.edu   \n",
       "1796  3482  Gerhard Klimeck     gekco            gekco@purdue.edu   \n",
       "1897  3583         Eric Pop      epop           epop@stanford.edu   \n",
       "\n",
       "             registerDate        lastvisitDate first_citation_at  \\\n",
       "895   2006-05-05 07:36:09  2020-01-13 15:58:33               NaN   \n",
       "1176  2004-12-06 22:01:25  2022-02-08 16:28:36               NaN   \n",
       "1473  2003-09-03 21:18:50  2021-10-07 19:58:59               NaN   \n",
       "1796  2004-04-10 17:58:53  2022-02-10 14:45:37               NaN   \n",
       "1897  2006-02-09 20:57:14  2021-09-04 07:19:40               NaN   \n",
       "\n",
       "      number_citations                                        profile_key  \\\n",
       "895                0.0                                            [orcid]   \n",
       "1176               0.0                    [googlescholar, researchgateid]   \n",
       "1473               0.0                                            [orcid]   \n",
       "1796               0.0  [orcid, googlescholar, researcherid, researchg...   \n",
       "1897               0.0                             [orcid, googlescholar]   \n",
       "\n",
       "      has_researcher_profile  number_simulations     uid  \\\n",
       "895                     True                52.0  2579.0   \n",
       "1176                    True              2345.0  2862.0   \n",
       "1473                    True                38.0  3159.0   \n",
       "1796                    True             18677.0  3482.0   \n",
       "1897                    True                90.0  3583.0   \n",
       "\n",
       "                                               clusters  mike_fall_2008  \\\n",
       "895                                ['mike_spring_2010']           False   \n",
       "1176  ['xufeng_fall_2008', 'xufeng_spring_2008', 'xu...           False   \n",
       "1473                               ['xufeng_fall_2020']           False   \n",
       "1796  ['xufeng_fall_2009', 'xufeng_spring_2009', 'xu...           False   \n",
       "1897                               ['xufeng_fall_2012']           False   \n",
       "\n",
       "      xufeng_fall_2008  mike_spring_2008  xufeng_spring_2008  mike_fall_2009  \\\n",
       "895              False             False               False           False   \n",
       "1176              True             False                True           False   \n",
       "1473             False             False               False           False   \n",
       "1796             False             False               False           False   \n",
       "1897             False             False               False           False   \n",
       "\n",
       "      xufeng_fall_2009  mike_spring_2009  xufeng_spring_2009  mike_fall_2010  \\\n",
       "895              False             False               False           False   \n",
       "1176             False             False               False           False   \n",
       "1473             False             False               False           False   \n",
       "1796              True             False                True           False   \n",
       "1897             False             False               False           False   \n",
       "\n",
       "      xufeng_fall_2010  mike_spring_2010  xufeng_spring_2010  mike_fall_2011  \\\n",
       "895              False              True               False           False   \n",
       "1176              True             False               False           False   \n",
       "1473             False             False               False           False   \n",
       "1796              True             False                True           False   \n",
       "1897             False             False               False           False   \n",
       "\n",
       "      xufeng_fall_2011  mike_spring_2011  xufeng_spring_2011  mike_fall_2012  \\\n",
       "895              False             False               False           False   \n",
       "1176              True             False               False           False   \n",
       "1473             False             False               False           False   \n",
       "1796             False             False               False           False   \n",
       "1897             False             False               False           False   \n",
       "\n",
       "      xufeng_fall_2012  mike_spring_2012  xufeng_spring_2012  mike_fall_2013  \\\n",
       "895              False             False               False           False   \n",
       "1176             False             False               False           False   \n",
       "1473             False             False               False           False   \n",
       "1796             False             False                True           False   \n",
       "1897              True             False               False           False   \n",
       "\n",
       "      xufeng_fall_2013  mike_spring_2013  xufeng_spring_2013  mike_fall_2014  \\\n",
       "895              False             False               False           False   \n",
       "1176              True             False               False           False   \n",
       "1473             False             False               False           False   \n",
       "1796              True             False               False           False   \n",
       "1897             False             False               False           False   \n",
       "\n",
       "      xufeng_fall_2014  mike_spring_2014  xufeng_spring_2014  mike_fall_2015  \\\n",
       "895              False             False               False           False   \n",
       "1176             False             False               False           False   \n",
       "1473             False             False               False           False   \n",
       "1796              True             False               False           False   \n",
       "1897             False             False               False           False   \n",
       "\n",
       "      xufeng_fall_2015  mike_spring_2015  xufeng_spring_2015  mike_fall_2016  \\\n",
       "895              False             False               False           False   \n",
       "1176             False              True               False           False   \n",
       "1473             False             False               False           False   \n",
       "1796             False             False               False           False   \n",
       "1897             False             False               False           False   \n",
       "\n",
       "      xufeng_fall_2016  mike_spring_2016  xufeng_spring_2016  mike_fall_2017  \\\n",
       "895              False             False               False           False   \n",
       "1176             False             False               False           False   \n",
       "1473             False             False               False           False   \n",
       "1796             False             False                True           False   \n",
       "1897             False             False               False           False   \n",
       "\n",
       "      xufeng_fall_2017  mike_spring_2017  xufeng_spring_2017  mike_fall_2018  \\\n",
       "895              False             False               False           False   \n",
       "1176             False             False               False           False   \n",
       "1473             False             False               False           False   \n",
       "1796             False             False               False           False   \n",
       "1897             False             False               False           False   \n",
       "\n",
       "      xufeng_fall_2018  mike_spring_2018  xufeng_spring_2018  mike_fall_2019  \\\n",
       "895              False             False               False           False   \n",
       "1176             False             False               False           False   \n",
       "1473             False             False               False           False   \n",
       "1796             False             False               False           False   \n",
       "1897             False             False               False           False   \n",
       "\n",
       "      xufeng_fall_2019  mike_spring_2019  xufeng_spring_2019  mike_fall_2020  \\\n",
       "895              False             False               False           False   \n",
       "1176             False              True               False           False   \n",
       "1473             False             False               False           False   \n",
       "1796             False             False                True           False   \n",
       "1897             False             False               False           False   \n",
       "\n",
       "      xufeng_fall_2020  mike_spring_2020  xufeng_spring_2020  mike_fall_2021  \\\n",
       "895              False             False               False           False   \n",
       "1176             False             False               False           False   \n",
       "1473              True             False               False           False   \n",
       "1796              True             False               False           False   \n",
       "1897             False             False               False           False   \n",
       "\n",
       "      xufeng_fall_2021  nanoHUB_user_ID__c  \n",
       "895              False                2579  \n",
       "1176             False                2862  \n",
       "1473             False                3159  \n",
       "1796              True                3482  \n",
       "1897             False                3583  "
      ]
     },
     "metadata": {},
     "output_type": "display_data"
    }
   ],
   "source": [
    "self_identified_df = get_all_self_identified_users(processed_mapper, derived_data_file_path)\n",
    "self_identified_df['nanoHUB_user_ID__c'] = self_identified_df['id']\n",
    "self_identified_NH_ids = self_identified_df['nanoHUB_user_ID__c']\n",
    "self_identified_usernames = self_identified_df['username'].tolist()\n",
    "print('length of self_identified_NH_ids',len(self_identified_NH_ids))\n",
    "display(self_identified_df.head())\n",
    "#print(self_identified_usernames)\n",
    "\n"
   ]
  },
  {
   "cell_type": "code",
   "execution_count": 13,
   "metadata": {
    "execution": {
     "iopub.execute_input": "2022-02-21T21:59:35.915465Z",
     "iopub.status.busy": "2022-02-21T21:59:35.915145Z",
     "iopub.status.idle": "2022-02-21T21:59:45.566749Z",
     "shell.execute_reply": "2022-02-21T21:59:45.565464Z",
     "shell.execute_reply.started": "2022-02-21T21:59:35.915438Z"
    },
    "tags": []
   },
   "outputs": [
    {
     "name": "stdout",
     "output_type": "stream",
     "text": [
      "[WARNING] [warnings - py.warnings]: /tmp/ipykernel_3204/2082903091.py:1: DtypeWarning: Columns (6) have mixed types.Specify dtype option on import or set low_memory=False.\n",
      "  allusers_df = processed_mapper.read(derived_data_file_path)\n",
      " [warnings._showwarnmsg:109]\n"
     ]
    },
    {
     "data": {
      "text/html": [
       "<div>\n",
       "<style scoped>\n",
       "    .dataframe tbody tr th:only-of-type {\n",
       "        vertical-align: middle;\n",
       "    }\n",
       "\n",
       "    .dataframe tbody tr th {\n",
       "        vertical-align: top;\n",
       "    }\n",
       "\n",
       "    .dataframe thead th {\n",
       "        text-align: right;\n",
       "    }\n",
       "</style>\n",
       "<table border=\"1\" class=\"dataframe\">\n",
       "  <thead>\n",
       "    <tr style=\"text-align: right;\">\n",
       "      <th></th>\n",
       "      <th>id</th>\n",
       "      <th>name</th>\n",
       "      <th>username</th>\n",
       "      <th>email</th>\n",
       "      <th>registerDate</th>\n",
       "      <th>lastvisitDate</th>\n",
       "      <th>first_citation_at</th>\n",
       "      <th>number_citations</th>\n",
       "      <th>profile_key</th>\n",
       "      <th>has_researcher_profile</th>\n",
       "      <th>number_simulations</th>\n",
       "      <th>uid</th>\n",
       "      <th>clusters</th>\n",
       "      <th>mike_fall_2008</th>\n",
       "      <th>xufeng_fall_2008</th>\n",
       "      <th>mike_spring_2008</th>\n",
       "      <th>xufeng_spring_2008</th>\n",
       "      <th>mike_fall_2009</th>\n",
       "      <th>xufeng_fall_2009</th>\n",
       "      <th>mike_spring_2009</th>\n",
       "      <th>xufeng_spring_2009</th>\n",
       "      <th>mike_fall_2010</th>\n",
       "      <th>xufeng_fall_2010</th>\n",
       "      <th>mike_spring_2010</th>\n",
       "      <th>xufeng_spring_2010</th>\n",
       "      <th>mike_fall_2011</th>\n",
       "      <th>xufeng_fall_2011</th>\n",
       "      <th>mike_spring_2011</th>\n",
       "      <th>xufeng_spring_2011</th>\n",
       "      <th>mike_fall_2012</th>\n",
       "      <th>xufeng_fall_2012</th>\n",
       "      <th>mike_spring_2012</th>\n",
       "      <th>xufeng_spring_2012</th>\n",
       "      <th>mike_fall_2013</th>\n",
       "      <th>xufeng_fall_2013</th>\n",
       "      <th>mike_spring_2013</th>\n",
       "      <th>xufeng_spring_2013</th>\n",
       "      <th>mike_fall_2014</th>\n",
       "      <th>xufeng_fall_2014</th>\n",
       "      <th>mike_spring_2014</th>\n",
       "      <th>xufeng_spring_2014</th>\n",
       "      <th>mike_fall_2015</th>\n",
       "      <th>xufeng_fall_2015</th>\n",
       "      <th>mike_spring_2015</th>\n",
       "      <th>xufeng_spring_2015</th>\n",
       "      <th>mike_fall_2016</th>\n",
       "      <th>xufeng_fall_2016</th>\n",
       "      <th>mike_spring_2016</th>\n",
       "      <th>xufeng_spring_2016</th>\n",
       "      <th>mike_fall_2017</th>\n",
       "      <th>xufeng_fall_2017</th>\n",
       "      <th>mike_spring_2017</th>\n",
       "      <th>xufeng_spring_2017</th>\n",
       "      <th>mike_fall_2018</th>\n",
       "      <th>xufeng_fall_2018</th>\n",
       "      <th>mike_spring_2018</th>\n",
       "      <th>xufeng_spring_2018</th>\n",
       "      <th>mike_fall_2019</th>\n",
       "      <th>xufeng_fall_2019</th>\n",
       "      <th>mike_spring_2019</th>\n",
       "      <th>xufeng_spring_2019</th>\n",
       "      <th>mike_fall_2020</th>\n",
       "      <th>xufeng_fall_2020</th>\n",
       "      <th>mike_spring_2020</th>\n",
       "      <th>xufeng_spring_2020</th>\n",
       "      <th>mike_fall_2021</th>\n",
       "      <th>xufeng_fall_2021</th>\n",
       "    </tr>\n",
       "  </thead>\n",
       "  <tbody>\n",
       "    <tr>\n",
       "      <th>0</th>\n",
       "      <td>998</td>\n",
       "      <td>hubrepo hubrepo</td>\n",
       "      <td>hubrepo</td>\n",
       "      <td>nkissebe@gmail.com</td>\n",
       "      <td>2014-11-13 21:09:09</td>\n",
       "      <td>NaN</td>\n",
       "      <td>NaN</td>\n",
       "      <td>0.0</td>\n",
       "      <td>[]</td>\n",
       "      <td>False</td>\n",
       "      <td>0.0</td>\n",
       "      <td>NaN</td>\n",
       "      <td>[]</td>\n",
       "      <td>False</td>\n",
       "      <td>False</td>\n",
       "      <td>False</td>\n",
       "      <td>False</td>\n",
       "      <td>False</td>\n",
       "      <td>False</td>\n",
       "      <td>False</td>\n",
       "      <td>False</td>\n",
       "      <td>False</td>\n",
       "      <td>False</td>\n",
       "      <td>False</td>\n",
       "      <td>False</td>\n",
       "      <td>False</td>\n",
       "      <td>False</td>\n",
       "      <td>False</td>\n",
       "      <td>False</td>\n",
       "      <td>False</td>\n",
       "      <td>False</td>\n",
       "      <td>False</td>\n",
       "      <td>False</td>\n",
       "      <td>False</td>\n",
       "      <td>False</td>\n",
       "      <td>False</td>\n",
       "      <td>False</td>\n",
       "      <td>False</td>\n",
       "      <td>False</td>\n",
       "      <td>False</td>\n",
       "      <td>False</td>\n",
       "      <td>False</td>\n",
       "      <td>False</td>\n",
       "      <td>False</td>\n",
       "      <td>False</td>\n",
       "      <td>False</td>\n",
       "      <td>False</td>\n",
       "      <td>False</td>\n",
       "      <td>False</td>\n",
       "      <td>False</td>\n",
       "      <td>False</td>\n",
       "      <td>False</td>\n",
       "      <td>False</td>\n",
       "      <td>False</td>\n",
       "      <td>False</td>\n",
       "      <td>False</td>\n",
       "      <td>False</td>\n",
       "      <td>False</td>\n",
       "      <td>False</td>\n",
       "      <td>False</td>\n",
       "      <td>False</td>\n",
       "      <td>False</td>\n",
       "      <td>False</td>\n",
       "      <td>False</td>\n",
       "      <td>False</td>\n",
       "      <td>False</td>\n",
       "      <td>False</td>\n",
       "    </tr>\n",
       "    <tr>\n",
       "      <th>1</th>\n",
       "      <td>1000</td>\n",
       "      <td>CMS Admin Manager</td>\n",
       "      <td>admin</td>\n",
       "      <td>support@nanohub.org</td>\n",
       "      <td>NaN</td>\n",
       "      <td>NaN</td>\n",
       "      <td>NaN</td>\n",
       "      <td>0.0</td>\n",
       "      <td>[]</td>\n",
       "      <td>False</td>\n",
       "      <td>0.0</td>\n",
       "      <td>NaN</td>\n",
       "      <td>[]</td>\n",
       "      <td>False</td>\n",
       "      <td>False</td>\n",
       "      <td>False</td>\n",
       "      <td>False</td>\n",
       "      <td>False</td>\n",
       "      <td>False</td>\n",
       "      <td>False</td>\n",
       "      <td>False</td>\n",
       "      <td>False</td>\n",
       "      <td>False</td>\n",
       "      <td>False</td>\n",
       "      <td>False</td>\n",
       "      <td>False</td>\n",
       "      <td>False</td>\n",
       "      <td>False</td>\n",
       "      <td>False</td>\n",
       "      <td>False</td>\n",
       "      <td>False</td>\n",
       "      <td>False</td>\n",
       "      <td>False</td>\n",
       "      <td>False</td>\n",
       "      <td>False</td>\n",
       "      <td>False</td>\n",
       "      <td>False</td>\n",
       "      <td>False</td>\n",
       "      <td>False</td>\n",
       "      <td>False</td>\n",
       "      <td>False</td>\n",
       "      <td>False</td>\n",
       "      <td>False</td>\n",
       "      <td>False</td>\n",
       "      <td>False</td>\n",
       "      <td>False</td>\n",
       "      <td>False</td>\n",
       "      <td>False</td>\n",
       "      <td>False</td>\n",
       "      <td>False</td>\n",
       "      <td>False</td>\n",
       "      <td>False</td>\n",
       "      <td>False</td>\n",
       "      <td>False</td>\n",
       "      <td>False</td>\n",
       "      <td>False</td>\n",
       "      <td>False</td>\n",
       "      <td>False</td>\n",
       "      <td>False</td>\n",
       "      <td>False</td>\n",
       "      <td>False</td>\n",
       "      <td>False</td>\n",
       "      <td>False</td>\n",
       "      <td>False</td>\n",
       "      <td>False</td>\n",
       "      <td>False</td>\n",
       "      <td>False</td>\n",
       "    </tr>\n",
       "    <tr>\n",
       "      <th>2</th>\n",
       "      <td>1683</td>\n",
       "      <td>nanoHUB support</td>\n",
       "      <td>support</td>\n",
       "      <td>support@nanohub.org</td>\n",
       "      <td>2008-11-19 22:51:04</td>\n",
       "      <td>2008-11-19 23:55:30</td>\n",
       "      <td>NaN</td>\n",
       "      <td>0.0</td>\n",
       "      <td>[]</td>\n",
       "      <td>False</td>\n",
       "      <td>2.0</td>\n",
       "      <td>1683.0</td>\n",
       "      <td>[]</td>\n",
       "      <td>False</td>\n",
       "      <td>False</td>\n",
       "      <td>False</td>\n",
       "      <td>False</td>\n",
       "      <td>False</td>\n",
       "      <td>False</td>\n",
       "      <td>False</td>\n",
       "      <td>False</td>\n",
       "      <td>False</td>\n",
       "      <td>False</td>\n",
       "      <td>False</td>\n",
       "      <td>False</td>\n",
       "      <td>False</td>\n",
       "      <td>False</td>\n",
       "      <td>False</td>\n",
       "      <td>False</td>\n",
       "      <td>False</td>\n",
       "      <td>False</td>\n",
       "      <td>False</td>\n",
       "      <td>False</td>\n",
       "      <td>False</td>\n",
       "      <td>False</td>\n",
       "      <td>False</td>\n",
       "      <td>False</td>\n",
       "      <td>False</td>\n",
       "      <td>False</td>\n",
       "      <td>False</td>\n",
       "      <td>False</td>\n",
       "      <td>False</td>\n",
       "      <td>False</td>\n",
       "      <td>False</td>\n",
       "      <td>False</td>\n",
       "      <td>False</td>\n",
       "      <td>False</td>\n",
       "      <td>False</td>\n",
       "      <td>False</td>\n",
       "      <td>False</td>\n",
       "      <td>False</td>\n",
       "      <td>False</td>\n",
       "      <td>False</td>\n",
       "      <td>False</td>\n",
       "      <td>False</td>\n",
       "      <td>False</td>\n",
       "      <td>False</td>\n",
       "      <td>False</td>\n",
       "      <td>False</td>\n",
       "      <td>False</td>\n",
       "      <td>False</td>\n",
       "      <td>False</td>\n",
       "      <td>False</td>\n",
       "      <td>False</td>\n",
       "      <td>False</td>\n",
       "      <td>False</td>\n",
       "      <td>False</td>\n",
       "    </tr>\n",
       "    <tr>\n",
       "      <th>3</th>\n",
       "      <td>1684</td>\n",
       "      <td>Grid Statistics</td>\n",
       "      <td>gridstat</td>\n",
       "      <td>gridstat@nanohub.org</td>\n",
       "      <td>2008-11-18 17:29:56</td>\n",
       "      <td>2020-02-14 18:50:14</td>\n",
       "      <td>NaN</td>\n",
       "      <td>0.0</td>\n",
       "      <td>[]</td>\n",
       "      <td>False</td>\n",
       "      <td>0.0</td>\n",
       "      <td>NaN</td>\n",
       "      <td>[]</td>\n",
       "      <td>False</td>\n",
       "      <td>False</td>\n",
       "      <td>False</td>\n",
       "      <td>False</td>\n",
       "      <td>False</td>\n",
       "      <td>False</td>\n",
       "      <td>False</td>\n",
       "      <td>False</td>\n",
       "      <td>False</td>\n",
       "      <td>False</td>\n",
       "      <td>False</td>\n",
       "      <td>False</td>\n",
       "      <td>False</td>\n",
       "      <td>False</td>\n",
       "      <td>False</td>\n",
       "      <td>False</td>\n",
       "      <td>False</td>\n",
       "      <td>False</td>\n",
       "      <td>False</td>\n",
       "      <td>False</td>\n",
       "      <td>False</td>\n",
       "      <td>False</td>\n",
       "      <td>False</td>\n",
       "      <td>False</td>\n",
       "      <td>False</td>\n",
       "      <td>False</td>\n",
       "      <td>False</td>\n",
       "      <td>False</td>\n",
       "      <td>False</td>\n",
       "      <td>False</td>\n",
       "      <td>False</td>\n",
       "      <td>False</td>\n",
       "      <td>False</td>\n",
       "      <td>False</td>\n",
       "      <td>False</td>\n",
       "      <td>False</td>\n",
       "      <td>False</td>\n",
       "      <td>False</td>\n",
       "      <td>False</td>\n",
       "      <td>False</td>\n",
       "      <td>False</td>\n",
       "      <td>False</td>\n",
       "      <td>False</td>\n",
       "      <td>False</td>\n",
       "      <td>False</td>\n",
       "      <td>False</td>\n",
       "      <td>False</td>\n",
       "      <td>False</td>\n",
       "      <td>False</td>\n",
       "      <td>False</td>\n",
       "      <td>False</td>\n",
       "      <td>False</td>\n",
       "      <td>False</td>\n",
       "      <td>False</td>\n",
       "    </tr>\n",
       "    <tr>\n",
       "      <th>4</th>\n",
       "      <td>1685</td>\n",
       "      <td>NCN NCN</td>\n",
       "      <td>ncn</td>\n",
       "      <td>ncn@nanohub.org</td>\n",
       "      <td>2008-11-11 19:17:04</td>\n",
       "      <td>NaN</td>\n",
       "      <td>NaN</td>\n",
       "      <td>0.0</td>\n",
       "      <td>[]</td>\n",
       "      <td>False</td>\n",
       "      <td>0.0</td>\n",
       "      <td>NaN</td>\n",
       "      <td>[]</td>\n",
       "      <td>False</td>\n",
       "      <td>False</td>\n",
       "      <td>False</td>\n",
       "      <td>False</td>\n",
       "      <td>False</td>\n",
       "      <td>False</td>\n",
       "      <td>False</td>\n",
       "      <td>False</td>\n",
       "      <td>False</td>\n",
       "      <td>False</td>\n",
       "      <td>False</td>\n",
       "      <td>False</td>\n",
       "      <td>False</td>\n",
       "      <td>False</td>\n",
       "      <td>False</td>\n",
       "      <td>False</td>\n",
       "      <td>False</td>\n",
       "      <td>False</td>\n",
       "      <td>False</td>\n",
       "      <td>False</td>\n",
       "      <td>False</td>\n",
       "      <td>False</td>\n",
       "      <td>False</td>\n",
       "      <td>False</td>\n",
       "      <td>False</td>\n",
       "      <td>False</td>\n",
       "      <td>False</td>\n",
       "      <td>False</td>\n",
       "      <td>False</td>\n",
       "      <td>False</td>\n",
       "      <td>False</td>\n",
       "      <td>False</td>\n",
       "      <td>False</td>\n",
       "      <td>False</td>\n",
       "      <td>False</td>\n",
       "      <td>False</td>\n",
       "      <td>False</td>\n",
       "      <td>False</td>\n",
       "      <td>False</td>\n",
       "      <td>False</td>\n",
       "      <td>False</td>\n",
       "      <td>False</td>\n",
       "      <td>False</td>\n",
       "      <td>False</td>\n",
       "      <td>False</td>\n",
       "      <td>False</td>\n",
       "      <td>False</td>\n",
       "      <td>False</td>\n",
       "      <td>False</td>\n",
       "      <td>False</td>\n",
       "      <td>False</td>\n",
       "      <td>False</td>\n",
       "      <td>False</td>\n",
       "      <td>False</td>\n",
       "    </tr>\n",
       "  </tbody>\n",
       "</table>\n",
       "</div>"
      ],
      "text/plain": [
       "     id               name  username                 email  \\\n",
       "0   998    hubrepo hubrepo   hubrepo    nkissebe@gmail.com   \n",
       "1  1000  CMS Admin Manager     admin   support@nanohub.org   \n",
       "2  1683    nanoHUB support   support   support@nanohub.org   \n",
       "3  1684    Grid Statistics  gridstat  gridstat@nanohub.org   \n",
       "4  1685            NCN NCN       ncn       ncn@nanohub.org   \n",
       "\n",
       "          registerDate        lastvisitDate first_citation_at  \\\n",
       "0  2014-11-13 21:09:09                  NaN               NaN   \n",
       "1                  NaN                  NaN               NaN   \n",
       "2  2008-11-19 22:51:04  2008-11-19 23:55:30               NaN   \n",
       "3  2008-11-18 17:29:56  2020-02-14 18:50:14               NaN   \n",
       "4  2008-11-11 19:17:04                  NaN               NaN   \n",
       "\n",
       "   number_citations profile_key  has_researcher_profile  number_simulations  \\\n",
       "0               0.0          []                   False                 0.0   \n",
       "1               0.0          []                   False                 0.0   \n",
       "2               0.0          []                   False                 2.0   \n",
       "3               0.0          []                   False                 0.0   \n",
       "4               0.0          []                   False                 0.0   \n",
       "\n",
       "      uid clusters  mike_fall_2008  xufeng_fall_2008  mike_spring_2008  \\\n",
       "0     NaN       []           False             False             False   \n",
       "1     NaN       []           False             False             False   \n",
       "2  1683.0       []           False             False             False   \n",
       "3     NaN       []           False             False             False   \n",
       "4     NaN       []           False             False             False   \n",
       "\n",
       "   xufeng_spring_2008  mike_fall_2009  xufeng_fall_2009  mike_spring_2009  \\\n",
       "0               False           False             False             False   \n",
       "1               False           False             False             False   \n",
       "2               False           False             False             False   \n",
       "3               False           False             False             False   \n",
       "4               False           False             False             False   \n",
       "\n",
       "   xufeng_spring_2009  mike_fall_2010  xufeng_fall_2010  mike_spring_2010  \\\n",
       "0               False           False             False             False   \n",
       "1               False           False             False             False   \n",
       "2               False           False             False             False   \n",
       "3               False           False             False             False   \n",
       "4               False           False             False             False   \n",
       "\n",
       "   xufeng_spring_2010  mike_fall_2011  xufeng_fall_2011  mike_spring_2011  \\\n",
       "0               False           False             False             False   \n",
       "1               False           False             False             False   \n",
       "2               False           False             False             False   \n",
       "3               False           False             False             False   \n",
       "4               False           False             False             False   \n",
       "\n",
       "   xufeng_spring_2011  mike_fall_2012  xufeng_fall_2012  mike_spring_2012  \\\n",
       "0               False           False             False             False   \n",
       "1               False           False             False             False   \n",
       "2               False           False             False             False   \n",
       "3               False           False             False             False   \n",
       "4               False           False             False             False   \n",
       "\n",
       "   xufeng_spring_2012  mike_fall_2013  xufeng_fall_2013  mike_spring_2013  \\\n",
       "0               False           False             False             False   \n",
       "1               False           False             False             False   \n",
       "2               False           False             False             False   \n",
       "3               False           False             False             False   \n",
       "4               False           False             False             False   \n",
       "\n",
       "   xufeng_spring_2013  mike_fall_2014  xufeng_fall_2014  mike_spring_2014  \\\n",
       "0               False           False             False             False   \n",
       "1               False           False             False             False   \n",
       "2               False           False             False             False   \n",
       "3               False           False             False             False   \n",
       "4               False           False             False             False   \n",
       "\n",
       "   xufeng_spring_2014  mike_fall_2015  xufeng_fall_2015  mike_spring_2015  \\\n",
       "0               False           False             False             False   \n",
       "1               False           False             False             False   \n",
       "2               False           False             False             False   \n",
       "3               False           False             False             False   \n",
       "4               False           False             False             False   \n",
       "\n",
       "   xufeng_spring_2015  mike_fall_2016  xufeng_fall_2016  mike_spring_2016  \\\n",
       "0               False           False             False             False   \n",
       "1               False           False             False             False   \n",
       "2               False           False             False             False   \n",
       "3               False           False             False             False   \n",
       "4               False           False             False             False   \n",
       "\n",
       "   xufeng_spring_2016  mike_fall_2017  xufeng_fall_2017  mike_spring_2017  \\\n",
       "0               False           False             False             False   \n",
       "1               False           False             False             False   \n",
       "2               False           False             False             False   \n",
       "3               False           False             False             False   \n",
       "4               False           False             False             False   \n",
       "\n",
       "   xufeng_spring_2017  mike_fall_2018  xufeng_fall_2018  mike_spring_2018  \\\n",
       "0               False           False             False             False   \n",
       "1               False           False             False             False   \n",
       "2               False           False             False             False   \n",
       "3               False           False             False             False   \n",
       "4               False           False             False             False   \n",
       "\n",
       "   xufeng_spring_2018  mike_fall_2019  xufeng_fall_2019  mike_spring_2019  \\\n",
       "0               False           False             False             False   \n",
       "1               False           False             False             False   \n",
       "2               False           False             False             False   \n",
       "3               False           False             False             False   \n",
       "4               False           False             False             False   \n",
       "\n",
       "   xufeng_spring_2019  mike_fall_2020  xufeng_fall_2020  mike_spring_2020  \\\n",
       "0               False           False             False             False   \n",
       "1               False           False             False             False   \n",
       "2               False           False             False             False   \n",
       "3               False           False             False             False   \n",
       "4               False           False             False             False   \n",
       "\n",
       "   xufeng_spring_2020  mike_fall_2021  xufeng_fall_2021  \n",
       "0               False           False             False  \n",
       "1               False           False             False  \n",
       "2               False           False             False  \n",
       "3               False           False             False  \n",
       "4               False           False             False  "
      ]
     },
     "metadata": {},
     "output_type": "display_data"
    },
    {
     "data": {
      "text/html": [
       "<div>\n",
       "<style scoped>\n",
       "    .dataframe tbody tr th:only-of-type {\n",
       "        vertical-align: middle;\n",
       "    }\n",
       "\n",
       "    .dataframe tbody tr th {\n",
       "        vertical-align: top;\n",
       "    }\n",
       "\n",
       "    .dataframe thead th {\n",
       "        text-align: right;\n",
       "    }\n",
       "</style>\n",
       "<table border=\"1\" class=\"dataframe\">\n",
       "  <thead>\n",
       "    <tr style=\"text-align: right;\">\n",
       "      <th></th>\n",
       "      <th>id</th>\n",
       "      <th>name</th>\n",
       "      <th>username</th>\n",
       "      <th>email</th>\n",
       "      <th>registerDate</th>\n",
       "      <th>lastvisitDate</th>\n",
       "      <th>first_citation_at</th>\n",
       "      <th>number_citations</th>\n",
       "      <th>profile_key</th>\n",
       "      <th>has_researcher_profile</th>\n",
       "      <th>number_simulations</th>\n",
       "      <th>uid</th>\n",
       "      <th>clusters</th>\n",
       "      <th>mike_fall_2008</th>\n",
       "      <th>xufeng_fall_2008</th>\n",
       "      <th>mike_spring_2008</th>\n",
       "      <th>xufeng_spring_2008</th>\n",
       "      <th>mike_fall_2009</th>\n",
       "      <th>xufeng_fall_2009</th>\n",
       "      <th>mike_spring_2009</th>\n",
       "      <th>xufeng_spring_2009</th>\n",
       "      <th>mike_fall_2010</th>\n",
       "      <th>xufeng_fall_2010</th>\n",
       "      <th>mike_spring_2010</th>\n",
       "      <th>xufeng_spring_2010</th>\n",
       "      <th>mike_fall_2011</th>\n",
       "      <th>xufeng_fall_2011</th>\n",
       "      <th>mike_spring_2011</th>\n",
       "      <th>xufeng_spring_2011</th>\n",
       "      <th>mike_fall_2012</th>\n",
       "      <th>xufeng_fall_2012</th>\n",
       "      <th>mike_spring_2012</th>\n",
       "      <th>xufeng_spring_2012</th>\n",
       "      <th>mike_fall_2013</th>\n",
       "      <th>xufeng_fall_2013</th>\n",
       "      <th>mike_spring_2013</th>\n",
       "      <th>xufeng_spring_2013</th>\n",
       "      <th>mike_fall_2014</th>\n",
       "      <th>xufeng_fall_2014</th>\n",
       "      <th>mike_spring_2014</th>\n",
       "      <th>xufeng_spring_2014</th>\n",
       "      <th>mike_fall_2015</th>\n",
       "      <th>xufeng_fall_2015</th>\n",
       "      <th>mike_spring_2015</th>\n",
       "      <th>xufeng_spring_2015</th>\n",
       "      <th>mike_fall_2016</th>\n",
       "      <th>xufeng_fall_2016</th>\n",
       "      <th>mike_spring_2016</th>\n",
       "      <th>xufeng_spring_2016</th>\n",
       "      <th>mike_fall_2017</th>\n",
       "      <th>xufeng_fall_2017</th>\n",
       "      <th>mike_spring_2017</th>\n",
       "      <th>xufeng_spring_2017</th>\n",
       "      <th>mike_fall_2018</th>\n",
       "      <th>xufeng_fall_2018</th>\n",
       "      <th>mike_spring_2018</th>\n",
       "      <th>xufeng_spring_2018</th>\n",
       "      <th>mike_fall_2019</th>\n",
       "      <th>xufeng_fall_2019</th>\n",
       "      <th>mike_spring_2019</th>\n",
       "      <th>xufeng_spring_2019</th>\n",
       "      <th>mike_fall_2020</th>\n",
       "      <th>xufeng_fall_2020</th>\n",
       "      <th>mike_spring_2020</th>\n",
       "      <th>xufeng_spring_2020</th>\n",
       "      <th>mike_fall_2021</th>\n",
       "      <th>xufeng_fall_2021</th>\n",
       "    </tr>\n",
       "  </thead>\n",
       "  <tbody>\n",
       "    <tr>\n",
       "      <th>77305</th>\n",
       "      <td>82487</td>\n",
       "      <td>Geraldine Young</td>\n",
       "      <td>NaN</td>\n",
       "      <td>f948941@rmqkr.net</td>\n",
       "      <td>2013-05-22 20:04:55</td>\n",
       "      <td>2013-06-14 20:51:07</td>\n",
       "      <td>NaN</td>\n",
       "      <td>0.0</td>\n",
       "      <td>[]</td>\n",
       "      <td>False</td>\n",
       "      <td>39.0</td>\n",
       "      <td>82487.0</td>\n",
       "      <td>['mike_fall_2008', 'xufeng_fall_2008', 'mike_s...</td>\n",
       "      <td>True</td>\n",
       "      <td>True</td>\n",
       "      <td>True</td>\n",
       "      <td>True</td>\n",
       "      <td>True</td>\n",
       "      <td>True</td>\n",
       "      <td>True</td>\n",
       "      <td>True</td>\n",
       "      <td>True</td>\n",
       "      <td>True</td>\n",
       "      <td>True</td>\n",
       "      <td>True</td>\n",
       "      <td>True</td>\n",
       "      <td>True</td>\n",
       "      <td>True</td>\n",
       "      <td>True</td>\n",
       "      <td>True</td>\n",
       "      <td>True</td>\n",
       "      <td>True</td>\n",
       "      <td>True</td>\n",
       "      <td>True</td>\n",
       "      <td>True</td>\n",
       "      <td>True</td>\n",
       "      <td>True</td>\n",
       "      <td>True</td>\n",
       "      <td>True</td>\n",
       "      <td>True</td>\n",
       "      <td>True</td>\n",
       "      <td>True</td>\n",
       "      <td>True</td>\n",
       "      <td>True</td>\n",
       "      <td>True</td>\n",
       "      <td>True</td>\n",
       "      <td>True</td>\n",
       "      <td>True</td>\n",
       "      <td>True</td>\n",
       "      <td>True</td>\n",
       "      <td>True</td>\n",
       "      <td>True</td>\n",
       "      <td>True</td>\n",
       "      <td>True</td>\n",
       "      <td>True</td>\n",
       "      <td>True</td>\n",
       "      <td>True</td>\n",
       "      <td>True</td>\n",
       "      <td>True</td>\n",
       "      <td>True</td>\n",
       "      <td>True</td>\n",
       "      <td>True</td>\n",
       "      <td>True</td>\n",
       "      <td>True</td>\n",
       "      <td>True</td>\n",
       "      <td>True</td>\n",
       "      <td>True</td>\n",
       "    </tr>\n",
       "    <tr>\n",
       "      <th>211599</th>\n",
       "      <td>281303</td>\n",
       "      <td>Nataly Cárdenas</td>\n",
       "      <td>NaN</td>\n",
       "      <td>njcardenasvasquez@gmail.com</td>\n",
       "      <td>2020-03-20 17:26:07</td>\n",
       "      <td>2020-03-20 17:26:07</td>\n",
       "      <td>NaN</td>\n",
       "      <td>0.0</td>\n",
       "      <td>[]</td>\n",
       "      <td>False</td>\n",
       "      <td>4.0</td>\n",
       "      <td>281303.0</td>\n",
       "      <td>['mike_fall_2008', 'xufeng_fall_2008', 'mike_s...</td>\n",
       "      <td>True</td>\n",
       "      <td>True</td>\n",
       "      <td>True</td>\n",
       "      <td>True</td>\n",
       "      <td>True</td>\n",
       "      <td>True</td>\n",
       "      <td>True</td>\n",
       "      <td>True</td>\n",
       "      <td>True</td>\n",
       "      <td>True</td>\n",
       "      <td>True</td>\n",
       "      <td>True</td>\n",
       "      <td>True</td>\n",
       "      <td>True</td>\n",
       "      <td>True</td>\n",
       "      <td>True</td>\n",
       "      <td>True</td>\n",
       "      <td>True</td>\n",
       "      <td>True</td>\n",
       "      <td>True</td>\n",
       "      <td>True</td>\n",
       "      <td>True</td>\n",
       "      <td>True</td>\n",
       "      <td>True</td>\n",
       "      <td>True</td>\n",
       "      <td>True</td>\n",
       "      <td>True</td>\n",
       "      <td>True</td>\n",
       "      <td>True</td>\n",
       "      <td>True</td>\n",
       "      <td>True</td>\n",
       "      <td>True</td>\n",
       "      <td>True</td>\n",
       "      <td>True</td>\n",
       "      <td>True</td>\n",
       "      <td>True</td>\n",
       "      <td>True</td>\n",
       "      <td>True</td>\n",
       "      <td>True</td>\n",
       "      <td>True</td>\n",
       "      <td>True</td>\n",
       "      <td>True</td>\n",
       "      <td>True</td>\n",
       "      <td>True</td>\n",
       "      <td>True</td>\n",
       "      <td>True</td>\n",
       "      <td>True</td>\n",
       "      <td>True</td>\n",
       "      <td>True</td>\n",
       "      <td>True</td>\n",
       "      <td>True</td>\n",
       "      <td>True</td>\n",
       "      <td>True</td>\n",
       "      <td>True</td>\n",
       "    </tr>\n",
       "  </tbody>\n",
       "</table>\n",
       "</div>"
      ],
      "text/plain": [
       "            id             name username                        email  \\\n",
       "77305    82487  Geraldine Young      NaN            f948941@rmqkr.net   \n",
       "211599  281303  Nataly Cárdenas      NaN  njcardenasvasquez@gmail.com   \n",
       "\n",
       "               registerDate        lastvisitDate first_citation_at  \\\n",
       "77305   2013-05-22 20:04:55  2013-06-14 20:51:07               NaN   \n",
       "211599  2020-03-20 17:26:07  2020-03-20 17:26:07               NaN   \n",
       "\n",
       "        number_citations profile_key  has_researcher_profile  \\\n",
       "77305                0.0          []                   False   \n",
       "211599               0.0          []                   False   \n",
       "\n",
       "        number_simulations       uid  \\\n",
       "77305                 39.0   82487.0   \n",
       "211599                 4.0  281303.0   \n",
       "\n",
       "                                                 clusters  mike_fall_2008  \\\n",
       "77305   ['mike_fall_2008', 'xufeng_fall_2008', 'mike_s...            True   \n",
       "211599  ['mike_fall_2008', 'xufeng_fall_2008', 'mike_s...            True   \n",
       "\n",
       "        xufeng_fall_2008  mike_spring_2008  xufeng_spring_2008  \\\n",
       "77305               True              True                True   \n",
       "211599              True              True                True   \n",
       "\n",
       "        mike_fall_2009  xufeng_fall_2009  mike_spring_2009  \\\n",
       "77305             True              True              True   \n",
       "211599            True              True              True   \n",
       "\n",
       "        xufeng_spring_2009  mike_fall_2010  xufeng_fall_2010  \\\n",
       "77305                 True            True              True   \n",
       "211599                True            True              True   \n",
       "\n",
       "        mike_spring_2010  xufeng_spring_2010  mike_fall_2011  \\\n",
       "77305               True                True            True   \n",
       "211599              True                True            True   \n",
       "\n",
       "        xufeng_fall_2011  mike_spring_2011  xufeng_spring_2011  \\\n",
       "77305               True              True                True   \n",
       "211599              True              True                True   \n",
       "\n",
       "        mike_fall_2012  xufeng_fall_2012  mike_spring_2012  \\\n",
       "77305             True              True              True   \n",
       "211599            True              True              True   \n",
       "\n",
       "        xufeng_spring_2012  mike_fall_2013  xufeng_fall_2013  \\\n",
       "77305                 True            True              True   \n",
       "211599                True            True              True   \n",
       "\n",
       "        mike_spring_2013  xufeng_spring_2013  mike_fall_2014  \\\n",
       "77305               True                True            True   \n",
       "211599              True                True            True   \n",
       "\n",
       "        xufeng_fall_2014  mike_spring_2014  xufeng_spring_2014  \\\n",
       "77305               True              True                True   \n",
       "211599              True              True                True   \n",
       "\n",
       "        mike_fall_2015  xufeng_fall_2015  mike_spring_2015  \\\n",
       "77305             True              True              True   \n",
       "211599            True              True              True   \n",
       "\n",
       "        xufeng_spring_2015  mike_fall_2016  xufeng_fall_2016  \\\n",
       "77305                 True            True              True   \n",
       "211599                True            True              True   \n",
       "\n",
       "        mike_spring_2016  xufeng_spring_2016  mike_fall_2017  \\\n",
       "77305               True                True            True   \n",
       "211599              True                True            True   \n",
       "\n",
       "        xufeng_fall_2017  mike_spring_2017  xufeng_spring_2017  \\\n",
       "77305               True              True                True   \n",
       "211599              True              True                True   \n",
       "\n",
       "        mike_fall_2018  xufeng_fall_2018  mike_spring_2018  \\\n",
       "77305             True              True              True   \n",
       "211599            True              True              True   \n",
       "\n",
       "        xufeng_spring_2018  mike_fall_2019  xufeng_fall_2019  \\\n",
       "77305                 True            True              True   \n",
       "211599                True            True              True   \n",
       "\n",
       "        mike_spring_2019  xufeng_spring_2019  mike_fall_2020  \\\n",
       "77305               True                True            True   \n",
       "211599              True                True            True   \n",
       "\n",
       "        xufeng_fall_2020  mike_spring_2020  xufeng_spring_2020  \\\n",
       "77305               True              True                True   \n",
       "211599              True              True                True   \n",
       "\n",
       "        mike_fall_2021  xufeng_fall_2021  \n",
       "77305             True              True  \n",
       "211599            True              True  "
      ]
     },
     "metadata": {},
     "output_type": "display_data"
    },
    {
     "data": {
      "text/html": [
       "<div>\n",
       "<style scoped>\n",
       "    .dataframe tbody tr th:only-of-type {\n",
       "        vertical-align: middle;\n",
       "    }\n",
       "\n",
       "    .dataframe tbody tr th {\n",
       "        vertical-align: top;\n",
       "    }\n",
       "\n",
       "    .dataframe thead th {\n",
       "        text-align: right;\n",
       "    }\n",
       "</style>\n",
       "<table border=\"1\" class=\"dataframe\">\n",
       "  <thead>\n",
       "    <tr style=\"text-align: right;\">\n",
       "      <th></th>\n",
       "      <th>id</th>\n",
       "      <th>name</th>\n",
       "      <th>username</th>\n",
       "      <th>email</th>\n",
       "      <th>registerDate</th>\n",
       "      <th>lastvisitDate</th>\n",
       "      <th>first_citation_at</th>\n",
       "      <th>number_citations</th>\n",
       "      <th>profile_key</th>\n",
       "      <th>has_researcher_profile</th>\n",
       "      <th>number_simulations</th>\n",
       "      <th>uid</th>\n",
       "      <th>clusters</th>\n",
       "      <th>mike_fall_2008</th>\n",
       "      <th>xufeng_fall_2008</th>\n",
       "      <th>mike_spring_2008</th>\n",
       "      <th>xufeng_spring_2008</th>\n",
       "      <th>mike_fall_2009</th>\n",
       "      <th>xufeng_fall_2009</th>\n",
       "      <th>mike_spring_2009</th>\n",
       "      <th>xufeng_spring_2009</th>\n",
       "      <th>mike_fall_2010</th>\n",
       "      <th>xufeng_fall_2010</th>\n",
       "      <th>mike_spring_2010</th>\n",
       "      <th>xufeng_spring_2010</th>\n",
       "      <th>mike_fall_2011</th>\n",
       "      <th>xufeng_fall_2011</th>\n",
       "      <th>mike_spring_2011</th>\n",
       "      <th>xufeng_spring_2011</th>\n",
       "      <th>mike_fall_2012</th>\n",
       "      <th>xufeng_fall_2012</th>\n",
       "      <th>mike_spring_2012</th>\n",
       "      <th>xufeng_spring_2012</th>\n",
       "      <th>mike_fall_2013</th>\n",
       "      <th>xufeng_fall_2013</th>\n",
       "      <th>mike_spring_2013</th>\n",
       "      <th>xufeng_spring_2013</th>\n",
       "      <th>mike_fall_2014</th>\n",
       "      <th>xufeng_fall_2014</th>\n",
       "      <th>mike_spring_2014</th>\n",
       "      <th>xufeng_spring_2014</th>\n",
       "      <th>mike_fall_2015</th>\n",
       "      <th>xufeng_fall_2015</th>\n",
       "      <th>mike_spring_2015</th>\n",
       "      <th>xufeng_spring_2015</th>\n",
       "      <th>mike_fall_2016</th>\n",
       "      <th>xufeng_fall_2016</th>\n",
       "      <th>mike_spring_2016</th>\n",
       "      <th>xufeng_spring_2016</th>\n",
       "      <th>mike_fall_2017</th>\n",
       "      <th>xufeng_fall_2017</th>\n",
       "      <th>mike_spring_2017</th>\n",
       "      <th>xufeng_spring_2017</th>\n",
       "      <th>mike_fall_2018</th>\n",
       "      <th>xufeng_fall_2018</th>\n",
       "      <th>mike_spring_2018</th>\n",
       "      <th>xufeng_spring_2018</th>\n",
       "      <th>mike_fall_2019</th>\n",
       "      <th>xufeng_fall_2019</th>\n",
       "      <th>mike_spring_2019</th>\n",
       "      <th>xufeng_spring_2019</th>\n",
       "      <th>mike_fall_2020</th>\n",
       "      <th>xufeng_fall_2020</th>\n",
       "      <th>mike_spring_2020</th>\n",
       "      <th>xufeng_spring_2020</th>\n",
       "      <th>mike_fall_2021</th>\n",
       "      <th>xufeng_fall_2021</th>\n",
       "    </tr>\n",
       "  </thead>\n",
       "  <tbody>\n",
       "  </tbody>\n",
       "</table>\n",
       "</div>"
      ],
      "text/plain": [
       "Empty DataFrame\n",
       "Columns: [id, name, username, email, registerDate, lastvisitDate, first_citation_at, number_citations, profile_key, has_researcher_profile, number_simulations, uid, clusters, mike_fall_2008, xufeng_fall_2008, mike_spring_2008, xufeng_spring_2008, mike_fall_2009, xufeng_fall_2009, mike_spring_2009, xufeng_spring_2009, mike_fall_2010, xufeng_fall_2010, mike_spring_2010, xufeng_spring_2010, mike_fall_2011, xufeng_fall_2011, mike_spring_2011, xufeng_spring_2011, mike_fall_2012, xufeng_fall_2012, mike_spring_2012, xufeng_spring_2012, mike_fall_2013, xufeng_fall_2013, mike_spring_2013, xufeng_spring_2013, mike_fall_2014, xufeng_fall_2014, mike_spring_2014, xufeng_spring_2014, mike_fall_2015, xufeng_fall_2015, mike_spring_2015, xufeng_spring_2015, mike_fall_2016, xufeng_fall_2016, mike_spring_2016, xufeng_spring_2016, mike_fall_2017, xufeng_fall_2017, mike_spring_2017, xufeng_spring_2017, mike_fall_2018, xufeng_fall_2018, mike_spring_2018, xufeng_spring_2018, mike_fall_2019, xufeng_fall_2019, mike_spring_2019, xufeng_spring_2019, mike_fall_2020, xufeng_fall_2020, mike_spring_2020, xufeng_spring_2020, mike_fall_2021, xufeng_fall_2021]\n",
       "Index: []"
      ]
     },
     "metadata": {},
     "output_type": "display_data"
    }
   ],
   "source": [
    "allusers_df = processed_mapper.read(derived_data_file_path)\n",
    "display(allusers_df.head(5))\n",
    "#display(allusers_usernames)\n",
    "display(allusers_df.loc[allusers_df['username'].isnull()])\n",
    "#display(allusers_df.loc[allusers_df['username'].notna()])\n",
    "\n",
    "allusers_df = allusers_df.loc[allusers_df['username'].notna()]\n",
    "display(allusers_df.loc[allusers_df['username'].isnull()])\n",
    "\n",
    "allusers_usernames = allusers_df['username'].tolist()\n"
   ]
  },
  {
   "cell_type": "code",
   "execution_count": 14,
   "metadata": {
    "execution": {
     "iopub.execute_input": "2022-02-21T21:59:45.568861Z",
     "iopub.status.busy": "2022-02-21T21:59:45.568557Z",
     "iopub.status.idle": "2022-02-21T21:59:45.580187Z",
     "shell.execute_reply": "2022-02-21T21:59:45.579196Z",
     "shell.execute_reply.started": "2022-02-21T21:59:45.568835Z"
    },
    "tags": []
   },
   "outputs": [
    {
     "name": "stdout",
     "output_type": "stream",
     "text": [
      "clustered users (78167,)\n",
      "selfstudy users (194524,)\n",
      "self_study_usernames 194524\n",
      "self identified researchers (4037,)\n",
      "all users (272689, 67)\n"
     ]
    }
   ],
   "source": [
    "print('clustered users',clustered_NH_ids.shape)\n",
    "print('selfstudy users',self_study_NH_ids.shape)\n",
    "print('self_study_usernames',len(self_study_usernames))\n",
    "print('self identified researchers',self_identified_NH_ids.shape)\n",
    "print('all users',allusers_df.shape)"
   ]
  },
  {
   "cell_type": "code",
   "execution_count": null,
   "metadata": {},
   "outputs": [],
   "source": []
  },
  {
   "cell_type": "code",
   "execution_count": 15,
   "metadata": {
    "execution": {
     "iopub.execute_input": "2022-02-21T21:59:45.585787Z",
     "iopub.status.busy": "2022-02-21T21:59:45.585505Z",
     "iopub.status.idle": "2022-02-21T21:59:45.709018Z",
     "shell.execute_reply": "2022-02-21T21:59:45.707732Z",
     "shell.execute_reply.started": "2022-02-21T21:59:45.585742Z"
    },
    "tags": []
   },
   "outputs": [],
   "source": [
    "frames = [clustered_df, self_study_df]\n",
    "contacts_df = pd.concat(frames)"
   ]
  },
  {
   "cell_type": "code",
   "execution_count": 16,
   "metadata": {
    "execution": {
     "iopub.execute_input": "2022-02-21T21:59:45.710926Z",
     "iopub.status.busy": "2022-02-21T21:59:45.710571Z",
     "iopub.status.idle": "2022-02-21T21:59:45.718730Z",
     "shell.execute_reply": "2022-02-21T21:59:45.717239Z",
     "shell.execute_reply.started": "2022-02-21T21:59:45.710890Z"
    },
    "tags": []
   },
   "outputs": [],
   "source": [
    "## need to filter self-study-nh-ids with the researchers"
   ]
  },
  {
   "cell_type": "code",
   "execution_count": 17,
   "metadata": {
    "execution": {
     "iopub.execute_input": "2022-02-21T21:59:45.720914Z",
     "iopub.status.busy": "2022-02-21T21:59:45.720646Z",
     "iopub.status.idle": "2022-02-21T21:59:45.729702Z",
     "shell.execute_reply": "2022-02-21T21:59:45.727337Z",
     "shell.execute_reply.started": "2022-02-21T21:59:45.720887Z"
    },
    "tags": []
   },
   "outputs": [],
   "source": [
    "## This researcher determination is based entirely on the results of research authors on nanohub\n",
    "## i.e., we use the researcher information on db2"
   ]
  },
  {
   "cell_type": "code",
   "execution_count": 18,
   "metadata": {
    "execution": {
     "iopub.execute_input": "2022-02-21T21:59:45.733292Z",
     "iopub.status.busy": "2022-02-21T21:59:45.731846Z",
     "iopub.status.idle": "2022-02-21T21:59:45.991624Z",
     "shell.execute_reply": "2022-02-21T21:59:45.990952Z",
     "shell.execute_reply.started": "2022-02-21T21:59:45.733260Z"
    },
    "tags": []
   },
   "outputs": [
    {
     "data": {
      "text/html": [
       "<div>\n",
       "<style scoped>\n",
       "    .dataframe tbody tr th:only-of-type {\n",
       "        vertical-align: middle;\n",
       "    }\n",
       "\n",
       "    .dataframe tbody tr th {\n",
       "        vertical-align: top;\n",
       "    }\n",
       "\n",
       "    .dataframe thead th {\n",
       "        text-align: right;\n",
       "    }\n",
       "</style>\n",
       "<table border=\"1\" class=\"dataframe\">\n",
       "  <thead>\n",
       "    <tr style=\"text-align: right;\">\n",
       "      <th></th>\n",
       "      <th>id</th>\n",
       "      <th>uid</th>\n",
       "      <th>author</th>\n",
       "    </tr>\n",
       "  </thead>\n",
       "  <tbody>\n",
       "    <tr>\n",
       "      <th>0</th>\n",
       "      <td>10000001</td>\n",
       "      <td>5568</td>\n",
       "      <td>Weber, Bent; Mahapatra, Suddhasatta; Ryu, Hoon...</td>\n",
       "    </tr>\n",
       "    <tr>\n",
       "      <th>1</th>\n",
       "      <td>10000002</td>\n",
       "      <td>5568</td>\n",
       "      <td>Andrawis, Robert; Bermeo, Jose; Charles, James...</td>\n",
       "    </tr>\n",
       "  </tbody>\n",
       "</table>\n",
       "</div>"
      ],
      "text/plain": [
       "         id   uid                                             author\n",
       "0  10000001  5568  Weber, Bent; Mahapatra, Suddhasatta; Ryu, Hoon...\n",
       "1  10000002  5568  Andrawis, Robert; Bermeo, Jose; Charles, James..."
      ]
     },
     "metadata": {},
     "output_type": "display_data"
    },
    {
     "name": "stdout",
     "output_type": "stream",
     "text": [
      "(4203, 3)\n"
     ]
    }
   ],
   "source": [
    "sql_query = 'select id, uid, author from jos_citations'\n",
    "jos_citations = pd.read_sql_query(sql_query, nanohub_db)\n",
    "display(jos_citations.head(2))\n",
    "print(jos_citations.shape)"
   ]
  },
  {
   "cell_type": "code",
   "execution_count": 19,
   "metadata": {
    "execution": {
     "iopub.execute_input": "2022-02-21T21:59:45.994069Z",
     "iopub.status.busy": "2022-02-21T21:59:45.992917Z",
     "iopub.status.idle": "2022-02-21T21:59:46.000240Z",
     "shell.execute_reply": "2022-02-21T21:59:45.999134Z",
     "shell.execute_reply.started": "2022-02-21T21:59:45.994034Z"
    },
    "tags": []
   },
   "outputs": [],
   "source": [
    "t1_authors = jos_citations['author'].to_list()\n",
    "t1_authors2 = [] #[j.split(';') for i,j in enumerate(t1_authors)]"
   ]
  },
  {
   "cell_type": "code",
   "execution_count": 20,
   "metadata": {
    "execution": {
     "iopub.execute_input": "2022-02-21T21:59:46.002665Z",
     "iopub.status.busy": "2022-02-21T21:59:46.001730Z",
     "iopub.status.idle": "2022-02-21T21:59:46.024877Z",
     "shell.execute_reply": "2022-02-21T21:59:46.024132Z",
     "shell.execute_reply.started": "2022-02-21T21:59:46.002624Z"
    },
    "tags": []
   },
   "outputs": [],
   "source": [
    "for i,j in enumerate(t1_authors):\n",
    "    try:\n",
    "        holder = j.split(';')\n",
    "        if len(holder) > 1: \n",
    "            for k,l in enumerate(holder):\n",
    "                if l[0] == ' ':\n",
    "                    holder[k] = l[1:]\n",
    "        t1_authors2.append(holder)\n",
    "    except:\n",
    "        garb = True"
   ]
  },
  {
   "cell_type": "code",
   "execution_count": 21,
   "metadata": {
    "execution": {
     "iopub.execute_input": "2022-02-21T21:59:46.027054Z",
     "iopub.status.busy": "2022-02-21T21:59:46.026531Z",
     "iopub.status.idle": "2022-02-21T21:59:46.039311Z",
     "shell.execute_reply": "2022-02-21T21:59:46.037851Z",
     "shell.execute_reply.started": "2022-02-21T21:59:46.027024Z"
    },
    "tags": []
   },
   "outputs": [
    {
     "name": "stdout",
     "output_type": "stream",
     "text": [
      "6860\n"
     ]
    }
   ],
   "source": [
    "t1_authors32 = [item for sublist in t1_authors2 for item in sublist]\n",
    "t1_authors3 = set(t1_authors32)\n",
    "print(len(t1_authors3))"
   ]
  },
  {
   "cell_type": "code",
   "execution_count": 22,
   "metadata": {
    "execution": {
     "iopub.execute_input": "2022-02-21T21:59:46.042934Z",
     "iopub.status.busy": "2022-02-21T21:59:46.041748Z",
     "iopub.status.idle": "2022-02-21T21:59:46.055636Z",
     "shell.execute_reply": "2022-02-21T21:59:46.054258Z",
     "shell.execute_reply.started": "2022-02-21T21:59:46.042873Z"
    },
    "tags": []
   },
   "outputs": [],
   "source": [
    "## extract all researchers with nh ids\n",
    "rw_ids = []\n",
    "need_search = []\n",
    "for i,j in enumerate(t1_authors3):\n",
    "    if '{{' in j:\n",
    "        rw_ids.append(i)\n",
    "    else:\n",
    "        need_search.append(i)"
   ]
  },
  {
   "cell_type": "code",
   "execution_count": 23,
   "metadata": {
    "execution": {
     "iopub.execute_input": "2022-02-21T21:59:46.058980Z",
     "iopub.status.busy": "2022-02-21T21:59:46.057303Z",
     "iopub.status.idle": "2022-02-21T21:59:46.082609Z",
     "shell.execute_reply": "2022-02-21T21:59:46.080949Z",
     "shell.execute_reply.started": "2022-02-21T21:59:46.058939Z"
    },
    "tags": []
   },
   "outputs": [
    {
     "name": "stdout",
     "output_type": "stream",
     "text": [
      "2079\n"
     ]
    }
   ],
   "source": [
    "## from the rw_ids, extract the nanohub userids\n",
    "# can obtain usernames from the DB2 table\n",
    "rw_ids2 = np.array(list(t1_authors3))[rw_ids]\n",
    "for i,j in enumerate(rw_ids2):\n",
    "    begin = j.index('{{')\n",
    "    rw_ids2[i] = j[begin+2:-2]\n",
    "print(len(rw_ids2))"
   ]
  },
  {
   "cell_type": "code",
   "execution_count": 24,
   "metadata": {
    "execution": {
     "iopub.execute_input": "2022-02-21T21:59:46.085870Z",
     "iopub.status.busy": "2022-02-21T21:59:46.084634Z",
     "iopub.status.idle": "2022-02-21T21:59:46.207445Z",
     "shell.execute_reply": "2022-02-21T21:59:46.205963Z",
     "shell.execute_reply.started": "2022-02-21T21:59:46.085829Z"
    },
    "tags": []
   },
   "outputs": [
    {
     "data": {
      "text/html": [
       "<div>\n",
       "<style scoped>\n",
       "    .dataframe tbody tr th:only-of-type {\n",
       "        vertical-align: middle;\n",
       "    }\n",
       "\n",
       "    .dataframe tbody tr th {\n",
       "        vertical-align: top;\n",
       "    }\n",
       "\n",
       "    .dataframe thead th {\n",
       "        text-align: right;\n",
       "    }\n",
       "</style>\n",
       "<table border=\"1\" class=\"dataframe\">\n",
       "  <thead>\n",
       "    <tr style=\"text-align: right;\">\n",
       "      <th></th>\n",
       "      <th>id</th>\n",
       "      <th>name</th>\n",
       "      <th>username</th>\n",
       "    </tr>\n",
       "  </thead>\n",
       "  <tbody>\n",
       "    <tr>\n",
       "      <th>0</th>\n",
       "      <td>1742</td>\n",
       "      <td>H.-S. Philip Wong</td>\n",
       "      <td>hspwong</td>\n",
       "    </tr>\n",
       "    <tr>\n",
       "      <th>1</th>\n",
       "      <td>1767</td>\n",
       "      <td>Osama Munir Nayfeh</td>\n",
       "      <td>onayfeh</td>\n",
       "    </tr>\n",
       "  </tbody>\n",
       "</table>\n",
       "</div>"
      ],
      "text/plain": [
       "     id                name username\n",
       "0  1742   H.-S. Philip Wong  hspwong\n",
       "1  1767  Osama Munir Nayfeh  onayfeh"
      ]
     },
     "metadata": {},
     "output_type": "display_data"
    }
   ],
   "source": [
    "# need to obtain usernames\n",
    "sql_query = \"select id,name,username from jos_users where id in \"+str(tuple(rw_ids2))\n",
    "rw_researchers = pd.read_sql_query(sql_query,nanohub_db)\n",
    "display(rw_researchers.head(2))"
   ]
  },
  {
   "cell_type": "code",
   "execution_count": 25,
   "metadata": {
    "execution": {
     "iopub.execute_input": "2022-02-21T21:59:46.210085Z",
     "iopub.status.busy": "2022-02-21T21:59:46.209636Z",
     "iopub.status.idle": "2022-02-21T21:59:46.226046Z",
     "shell.execute_reply": "2022-02-21T21:59:46.223894Z",
     "shell.execute_reply.started": "2022-02-21T21:59:46.210037Z"
    },
    "tags": []
   },
   "outputs": [],
   "source": [
    "## need to obtain the username/ids from those people without nh ids explicitly spec'd in jos_citations\n",
    "ns2 = np.array(list(t1_authors3))[need_search]\n",
    "ns2 = ns2[1:]"
   ]
  },
  {
   "cell_type": "code",
   "execution_count": 26,
   "metadata": {
    "execution": {
     "iopub.execute_input": "2022-02-21T21:59:46.231800Z",
     "iopub.status.busy": "2022-02-21T21:59:46.230153Z",
     "iopub.status.idle": "2022-02-21T21:59:46.250173Z",
     "shell.execute_reply": "2022-02-21T21:59:46.247510Z",
     "shell.execute_reply.started": "2022-02-21T21:59:46.231702Z"
    },
    "tags": []
   },
   "outputs": [
    {
     "data": {
      "text/plain": [
       "('Bing Liu',\n",
       " 'Vitalii Zablotskii',\n",
       " 'Gengchiau Liang',\n",
       " 'Ilaria Imperiale',\n",
       " 'Lu Wang')"
      ]
     },
     "execution_count": 26,
     "metadata": {},
     "output_type": "execute_result"
    }
   ],
   "source": [
    "tuple(ns2)[:5]"
   ]
  },
  {
   "cell_type": "code",
   "execution_count": 27,
   "metadata": {
    "execution": {
     "iopub.execute_input": "2022-02-21T21:59:46.254332Z",
     "iopub.status.busy": "2022-02-21T21:59:46.252130Z",
     "iopub.status.idle": "2022-02-21T21:59:46.408746Z",
     "shell.execute_reply": "2022-02-21T21:59:46.407410Z",
     "shell.execute_reply.started": "2022-02-21T21:59:46.254226Z"
    },
    "tags": []
   },
   "outputs": [
    {
     "data": {
      "text/html": [
       "<div>\n",
       "<style scoped>\n",
       "    .dataframe tbody tr th:only-of-type {\n",
       "        vertical-align: middle;\n",
       "    }\n",
       "\n",
       "    .dataframe tbody tr th {\n",
       "        vertical-align: top;\n",
       "    }\n",
       "\n",
       "    .dataframe thead th {\n",
       "        text-align: right;\n",
       "    }\n",
       "</style>\n",
       "<table border=\"1\" class=\"dataframe\">\n",
       "  <thead>\n",
       "    <tr style=\"text-align: right;\">\n",
       "      <th></th>\n",
       "      <th>id</th>\n",
       "      <th>name</th>\n",
       "      <th>username</th>\n",
       "    </tr>\n",
       "  </thead>\n",
       "  <tbody>\n",
       "    <tr>\n",
       "      <th>0</th>\n",
       "      <td>282167</td>\n",
       "      <td>Aarthi Narayanan</td>\n",
       "      <td>aarthin0102</td>\n",
       "    </tr>\n",
       "    <tr>\n",
       "      <th>1</th>\n",
       "      <td>280280</td>\n",
       "      <td>Abani Patra</td>\n",
       "      <td>apatra01</td>\n",
       "    </tr>\n",
       "  </tbody>\n",
       "</table>\n",
       "</div>"
      ],
      "text/plain": [
       "       id              name     username\n",
       "0  282167  Aarthi Narayanan  aarthin0102\n",
       "1  280280       Abani Patra     apatra01"
      ]
     },
     "metadata": {},
     "output_type": "display_data"
    }
   ],
   "source": [
    "sql_query = \"select id,name,username from jos_users where name in \"+str(tuple(ns2))\n",
    "ns2_researchers = pd.read_sql_query(sql_query,nanohub_db)\n",
    "display(ns2_researchers.head(2))"
   ]
  },
  {
   "cell_type": "code",
   "execution_count": 28,
   "metadata": {
    "execution": {
     "iopub.execute_input": "2022-02-21T21:59:46.410714Z",
     "iopub.status.busy": "2022-02-21T21:59:46.410389Z",
     "iopub.status.idle": "2022-02-21T21:59:46.418849Z",
     "shell.execute_reply": "2022-02-21T21:59:46.417291Z",
     "shell.execute_reply.started": "2022-02-21T21:59:46.410675Z"
    },
    "tags": []
   },
   "outputs": [
    {
     "name": "stdout",
     "output_type": "stream",
     "text": [
      "list of researchers who have cited nanohub  researcher_usernames= 3046\n"
     ]
    }
   ],
   "source": [
    "## combine the usernames into one data structure\n",
    "researcher_usernames = rw_researchers['username'].to_list() + ns2_researchers['username'].to_list()\n",
    "print('list of researchers who have cited nanohub  researcher_usernames=',len(researcher_usernames))"
   ]
  },
  {
   "cell_type": "code",
   "execution_count": 29,
   "metadata": {
    "execution": {
     "iopub.execute_input": "2022-02-21T21:59:46.421380Z",
     "iopub.status.busy": "2022-02-21T21:59:46.420885Z",
     "iopub.status.idle": "2022-02-21T21:59:46.632033Z",
     "shell.execute_reply": "2022-02-21T21:59:46.629439Z",
     "shell.execute_reply.started": "2022-02-21T21:59:46.421339Z"
    },
    "tags": []
   },
   "outputs": [
    {
     "name": "stdout",
     "output_type": "stream",
     "text": [
      "self_identified_usernames can have overlap with researchers 4037\n",
      "self_identified_usernames patial list ['birner', 'lundstro', 'tmoore', 'gekco', 'epop', 'alexwei', 'xfong', 'fgarcia', 'kalna', '3ksnn64']\n",
      "researcher_usernames partial list ['hspwong', 'onayfeh', 'accelrys', 'himadri', 'fossum', 'garose', 'reimers', 'liping', 'bwu', 'fortes']\n",
      "4037\n",
      "3942\n",
      "['tmoore', 'alexwei', '3ksnn64', 'aeislam', 'simbawz', 'aeberurs', 'kaze', 'tuocvungoc', 'ismail', 'ortizc']\n"
     ]
    }
   ],
   "source": [
    "#bool_search3 = np.in1d(np.array(researcher_usernames),np.array(self_identified_usernames))\n",
    "#researcher_usernames = np.where(~bool_search3)[0].tolist()\n",
    "#display(len(researcher_usernames))\n",
    "\n",
    "#display(len(self_identified_usernames))\n",
    "\n",
    "print('self_identified_usernames can have overlap with researchers',len(self_identified_usernames))\n",
    "#exclude the self-identified researchers from the users who have done research on nanohub\n",
    "#display(self_identified_usernames)\n",
    "#display(researcher_usernames)\n",
    "print('self_identified_usernames patial list', self_identified_usernames[0:10])\n",
    "print('researcher_usernames partial list',researcher_usernames[0:10])\n",
    "\n",
    "#bool_search3 = np.in1d(np.array(self_identified_usernames),np.array(researcher_usernames))\n",
    "#print('bool_search3 length of ',len(bool_search3))\n",
    "#print('bool_search3 partial list',bool_search3)\n",
    "\n",
    "#self_identified_usernames_index = np.where(~bool_search3)[0].tolist()\n",
    "si_usernames = self_identified_usernames\n",
    "r_usernames = researcher_usernames\n",
    "\n",
    "\n",
    "print(len(si_usernames))\n",
    "si_usernames = [x for x in si_usernames if x not in r_usernames]\n",
    "print(len(si_usernames))\n",
    "print(si_usernames[:10])"
   ]
  },
  {
   "cell_type": "code",
   "execution_count": 30,
   "metadata": {
    "execution": {
     "iopub.execute_input": "2022-02-21T21:59:46.633857Z",
     "iopub.status.busy": "2022-02-21T21:59:46.633622Z",
     "iopub.status.idle": "2022-02-21T21:59:46.648335Z",
     "shell.execute_reply": "2022-02-21T21:59:46.647073Z",
     "shell.execute_reply.started": "2022-02-21T21:59:46.633832Z"
    },
    "tags": []
   },
   "outputs": [
    {
     "name": "stdout",
     "output_type": "stream",
     "text": [
      "researcher_usernames 3046\n",
      "self_identified_usernames reduced by overlap with researchers 3942\n",
      "self_identified_usernames some samples ['tmoore', 'alexwei', '3ksnn64', 'aeislam', 'simbawz', 'aeberurs', 'kaze', 'tuocvungoc', 'ismail', 'ortizc']\n"
     ]
    }
   ],
   "source": [
    "self_identified_usernames = si_usernames\n",
    "\n",
    "\n",
    "#print('self_identified_usernames_index partial list',self_identified_usernames_index[0:10])\n",
    "#print('self_identified_usernames_index length',len(self_identified_usernames_index))\n",
    "\n",
    "\n",
    "#display(self_identified_df)\n",
    "#display(self_identified_df['username'][self_identified_usernames_index])\n",
    "\n",
    "\n",
    "print('researcher_usernames',len(researcher_usernames))\n",
    "\n",
    "print('self_identified_usernames reduced by overlap with researchers',len(self_identified_usernames))\n",
    "print('self_identified_usernames some samples',self_identified_usernames[0:10])"
   ]
  },
  {
   "cell_type": "code",
   "execution_count": 31,
   "metadata": {
    "execution": {
     "iopub.execute_input": "2022-02-21T21:59:46.650542Z",
     "iopub.status.busy": "2022-02-21T21:59:46.650226Z",
     "iopub.status.idle": "2022-02-21T22:00:05.526102Z",
     "shell.execute_reply": "2022-02-21T22:00:05.524907Z",
     "shell.execute_reply.started": "2022-02-21T21:59:46.650470Z"
    },
    "scrolled": true,
    "tags": []
   },
   "outputs": [
    {
     "name": "stdout",
     "output_type": "stream",
     "text": [
      "number of self-study users self_study_usernames 194524\n",
      "take out len(researcher_usernames) 3046\n",
      "take out len(self_identified_usernames) 3942\n",
      "number of self-study users self_study_usernames 192480\n",
      "number of self-study users self_study_usernames 189161\n"
     ]
    }
   ],
   "source": [
    "#need to take out the researchers and citing authors from the list of selfstudy users. \n",
    "#\n",
    "print('number of self-study users self_study_usernames',len(self_study_usernames))\n",
    "print('take out len(researcher_usernames)',len(researcher_usernames))\n",
    "print('take out len(self_identified_usernames)',len(self_identified_usernames))\n",
    "\n",
    "self_study_usernames = [x for x in self_study_usernames if x not in researcher_usernames]\n",
    "print('number of self-study users self_study_usernames',len(self_study_usernames))\n",
    "self_study_usernames = [x for x in self_study_usernames if x not in self_identified_usernames]\n",
    "print('number of self-study users self_study_usernames',len(self_study_usernames))"
   ]
  },
  {
   "cell_type": "code",
   "execution_count": 32,
   "metadata": {
    "execution": {
     "iopub.execute_input": "2022-02-21T22:00:05.527944Z",
     "iopub.status.busy": "2022-02-21T22:00:05.527663Z",
     "iopub.status.idle": "2022-02-21T22:00:05.533288Z",
     "shell.execute_reply": "2022-02-21T22:00:05.532250Z",
     "shell.execute_reply.started": "2022-02-21T22:00:05.527902Z"
    },
    "scrolled": true,
    "tags": []
   },
   "outputs": [],
   "source": [
    "# researcher_ids = rw_researchers['id'].to_list() + ns2_researchers['id'].to_list()\n",
    "# print('researchers/citation',len(researcher_ids))\n",
    "\n",
    "\n",
    "\n",
    "# bool_search2 = np.in1d(np.array(self_study_NH_ids.tolist()),np.array(researcher_ids))\n",
    "\n",
    "\n",
    "# # Note, researchers can possibly be doubled counted within clusters!!\n",
    "# # sf_researchers = np.where(bool_search2)[0].tolist() \n",
    "# sf_self_study = np.where(~bool_search2)[0].tolist()\n",
    "# print('self-study users',len(sf_self_study))\n",
    "\n",
    "# bool_search2_2 = np.in1d(np.array(sf_self_study),np.array(self_identified_NH_ids.tolist()))\n",
    "# sf_self_study = np.where(~bool_search2_2)[0].tolist()\n",
    "\n",
    "# print('sf_self_study',len(sf_self_study))\n",
    "# print('self_study_NH_ids',len(self_study_NH_ids.to_list()))\n",
    "# print('self_identified_NH_ids',len(self_identified_NH_ids.to_list()))\n",
    "\n",
    "\n",
    "# # self study user usernames\n",
    "# ts_query = 'select id,username from jos_users where id in ' + str(tuple(self_study_NH_ids.dropna().to_list())) \n",
    "# #sf_contact_ids['nanoHUB_user_ID__c']))\n",
    "# ss_NH_username = pd.read_sql_query(ts_query,nanohub_db)\n",
    "# ss_NH_username_usernames = ss_NH_username['username'].tolist()"
   ]
  },
  {
   "cell_type": "code",
   "execution_count": 33,
   "metadata": {
    "execution": {
     "iopub.execute_input": "2022-02-21T22:00:05.539283Z",
     "iopub.status.busy": "2022-02-21T22:00:05.538665Z",
     "iopub.status.idle": "2022-02-21T22:00:05.543677Z",
     "shell.execute_reply": "2022-02-21T22:00:05.542279Z",
     "shell.execute_reply.started": "2022-02-21T22:00:05.539254Z"
    },
    "scrolled": true,
    "tags": []
   },
   "outputs": [],
   "source": [
    "#restart analysis here \n",
    "#restart analysis here \n",
    "#restart analysis here \n",
    "#restart analysis here \n",
    "\n",
    "\n"
   ]
  },
  {
   "cell_type": "code",
   "execution_count": 34,
   "metadata": {
    "execution": {
     "iopub.execute_input": "2022-02-21T22:00:05.546330Z",
     "iopub.status.busy": "2022-02-21T22:00:05.545420Z",
     "iopub.status.idle": "2022-02-21T22:00:05.556288Z",
     "shell.execute_reply": "2022-02-21T22:00:05.554971Z",
     "shell.execute_reply.started": "2022-02-21T22:00:05.546280Z"
    },
    "tags": []
   },
   "outputs": [
    {
     "name": "stdout",
     "output_type": "stream",
     "text": [
      "2022-02-21 22:00:05.549055\n"
     ]
    }
   ],
   "source": [
    "today = datetime.datetime.today()\n",
    "print(today)"
   ]
  },
  {
   "cell_type": "code",
   "execution_count": 35,
   "metadata": {
    "execution": {
     "iopub.execute_input": "2022-02-21T22:00:05.558285Z",
     "iopub.status.busy": "2022-02-21T22:00:05.557831Z",
     "iopub.status.idle": "2022-02-21T22:00:05.568229Z",
     "shell.execute_reply": "2022-02-21T22:00:05.565760Z",
     "shell.execute_reply.started": "2022-02-21T22:00:05.558216Z"
    },
    "tags": []
   },
   "outputs": [],
   "source": [
    "## caching check \n",
    "try:\n",
    "    user_breakdown_df = pd.read_csv(cwd+'/cached_data/nh_user_breakdown.csv')\n",
    "    print(user_breakdown_df)\n",
    "    cache_flag = True\n",
    "except:\n",
    "    cache_flag = False"
   ]
  },
  {
   "cell_type": "code",
   "execution_count": 36,
   "metadata": {
    "execution": {
     "iopub.execute_input": "2022-02-21T22:00:05.571092Z",
     "iopub.status.busy": "2022-02-21T22:00:05.570784Z",
     "iopub.status.idle": "2022-02-21T22:00:05.578389Z",
     "shell.execute_reply": "2022-02-21T22:00:05.576669Z",
     "shell.execute_reply.started": "2022-02-21T22:00:05.571065Z"
    },
    "tags": []
   },
   "outputs": [],
   "source": [
    "## determine starting year\n",
    "#if cache_flag == False:\n",
    "start_year_base = 1999 #2000\n",
    "#else:\n",
    "#     print('check the saved file')\n",
    "#    start_year_base = int(user_breakdown_df['year_month'].to_list()[-1][:4])\n",
    "    \n",
    "    "
   ]
  },
  {
   "cell_type": "code",
   "execution_count": 37,
   "metadata": {
    "execution": {
     "iopub.execute_input": "2022-02-21T22:00:05.580128Z",
     "iopub.status.busy": "2022-02-21T22:00:05.579776Z",
     "iopub.status.idle": "2022-02-21T22:00:05.587790Z",
     "shell.execute_reply": "2022-02-21T22:00:05.585509Z",
     "shell.execute_reply.started": "2022-02-21T22:00:05.580098Z"
    },
    "tags": []
   },
   "outputs": [],
   "source": [
    "#print(user_breakdown_df['year_month'].to_list()[-1][:4])"
   ]
  },
  {
   "cell_type": "code",
   "execution_count": 38,
   "metadata": {
    "execution": {
     "iopub.execute_input": "2022-02-21T22:00:05.589285Z",
     "iopub.status.busy": "2022-02-21T22:00:05.589033Z",
     "iopub.status.idle": "2022-02-21T22:00:05.595695Z",
     "shell.execute_reply": "2022-02-21T22:00:05.593994Z",
     "shell.execute_reply.started": "2022-02-21T22:00:05.589261Z"
    },
    "tags": []
   },
   "outputs": [],
   "source": [
    "from copy import deepcopy"
   ]
  },
  {
   "cell_type": "code",
   "execution_count": 39,
   "metadata": {
    "execution": {
     "iopub.execute_input": "2022-02-21T22:00:05.597427Z",
     "iopub.status.busy": "2022-02-21T22:00:05.597172Z",
     "iopub.status.idle": "2022-02-21T22:00:05.641179Z",
     "shell.execute_reply": "2022-02-21T22:00:05.639321Z",
     "shell.execute_reply.started": "2022-02-21T22:00:05.597399Z"
    },
    "tags": []
   },
   "outputs": [
    {
     "name": "stdout",
     "output_type": "stream",
     "text": [
      "allmonths partial list [datetime.datetime(2000, 1, 1, 0, 0), datetime.datetime(2000, 2, 1, 0, 0), datetime.datetime(2000, 3, 1, 0, 0), datetime.datetime(2000, 4, 1, 0, 0), datetime.datetime(2000, 5, 1, 0, 0), datetime.datetime(2000, 6, 1, 0, 0), datetime.datetime(2000, 7, 1, 0, 0), datetime.datetime(2000, 8, 1, 0, 0), datetime.datetime(2000, 9, 1, 0, 0), datetime.datetime(2000, 10, 1, 0, 0), datetime.datetime(2000, 11, 1, 0, 0), datetime.datetime(2000, 12, 1, 0, 0), datetime.datetime(2001, 1, 1, 0, 0), datetime.datetime(2001, 2, 1, 0, 0), datetime.datetime(2001, 3, 1, 0, 0), datetime.datetime(2001, 4, 1, 0, 0), datetime.datetime(2001, 5, 1, 0, 0), datetime.datetime(2001, 6, 1, 0, 0), datetime.datetime(2001, 7, 1, 0, 0), datetime.datetime(2001, 8, 1, 0, 0), datetime.datetime(2001, 9, 1, 0, 0), datetime.datetime(2001, 10, 1, 0, 0), datetime.datetime(2001, 11, 1, 0, 0), datetime.datetime(2001, 12, 1, 0, 0), datetime.datetime(2002, 1, 1, 0, 0), datetime.datetime(2002, 2, 1, 0, 0), datetime.datetime(2002, 3, 1, 0, 0), datetime.datetime(2002, 4, 1, 0, 0), datetime.datetime(2002, 5, 1, 0, 0), datetime.datetime(2002, 6, 1, 0, 0), datetime.datetime(2002, 7, 1, 0, 0), datetime.datetime(2002, 8, 1, 0, 0), datetime.datetime(2002, 9, 1, 0, 0), datetime.datetime(2002, 10, 1, 0, 0), datetime.datetime(2002, 11, 1, 0, 0), datetime.datetime(2002, 12, 1, 0, 0)]\n"
     ]
    }
   ],
   "source": [
    "all_months_list = list()\n",
    "for this_year in range(start_year_base+1,today.year+2):\n",
    "    if cache_flag == True:\n",
    "        for this_month in range(1,today.month+1):\n",
    "            all_months_list.append(datetime.datetime(this_year, this_month, 1))\n",
    "    else:\n",
    "        for this_month in range(1,12+1):\n",
    "            all_months_list.append(datetime.datetime(this_year, this_month, 1))\n",
    "\n",
    "cache_all_month_list = pd.DataFrame()\n",
    "cache_all_month_list['Date'] = all_months_list\n",
    "cache_all_month_list.to_csv(cwd+'/cached_data/all_months_list.csv')\n",
    "cache_all_month_list.to_csv(cwd+'/cached_data/'+ str(start_year_base)+'_all_months_list.csv')\n",
    "cache_all_month_list = []\n",
    "print('allmonths partial list',all_months_list[0:36])\n"
   ]
  },
  {
   "cell_type": "code",
   "execution_count": 40,
   "metadata": {
    "execution": {
     "iopub.execute_input": "2022-02-21T22:00:05.643819Z",
     "iopub.status.busy": "2022-02-21T22:00:05.643567Z",
     "iopub.status.idle": "2022-02-21T22:00:05.655140Z",
     "shell.execute_reply": "2022-02-21T22:00:05.653287Z",
     "shell.execute_reply.started": "2022-02-21T22:00:05.643792Z"
    },
    "tags": []
   },
   "outputs": [
    {
     "name": "stdout",
     "output_type": "stream",
     "text": [
      "['tmoore', 'alexwei', '3ksnn64', 'aeislam', 'simbawz', 'aeberurs', 'kaze', 'tuocvungoc', 'ismail', 'ortizc', 'photon_ee', 'maechlin', 'vchihaia', 'bellmanz', 'kamned', 'verrelli', 'sezam', 'hnds', 'kafesaki', 'dceresoli', 'wprost', 'andreyk', 'lamkt', 'seario', 'langer', 'art_nugraha', 'dstrubbe', 'bgilbert', 'kjb', 'eakturk', 'bstengel', 'duanej', 'sanaur', 'sreelal', 'ccluhrs', 'jwager', 'kavehei', 'uakinci', 'hsturm', 'djcc12000', 'kdn', 'hazelsct', 'gpapaioan', 'mgunes', 'bhavesh', 'rattus', 'autoni', 'ahight', 'aldirin1', 'adir']\n",
      "['hubrepo', 'admin', 'support', 'gridstat', 'ncn', 'nanohub', 'repo', 'violin', 'mireles', 'k_dadesh', 'chongk', 'elhariry', 'tinguyen', 'cecchetti', 'siergiej', 'haibo', 'tchuann', 'jnz1999', 'jshowlett', 'marisa', 'joye', 'uoa', 'jkopelson', 'huh', 'htester', 'jbattles', 'fjean', 'user667', 'nialis', 'steve_aps', 'mullinss', 'saiyan', 'carl', 'halil', 'hola', 'chris', 'mullinssc', 'dellertw', 'overholm', 'utomoo', 'themost', 'hagan', 'mawhite', 'willia67', 'spdbmp2000', 'clsc', 'bracci', 'hsiu', 'lenzd', 'bhogal']\n",
      "['hubrepo', 'admin', 'support', 'gridstat', 'ncn', 'nanohub', 'repo', 'violin', 'mireles', 'k_dadesh', 'chongk', 'elhariry', 'tinguyen', 'cecchetti', 'siergiej', 'haibo', 'tchuann', 'jnz1999', 'jshowlett', 'marisa', 'joye', 'uoa', 'jkopelson', 'huh', 'htester', 'jbattles', 'fjean', 'user667', 'nialis', 'steve_aps', 'mullinss', 'saiyan', 'carl', 'halil', 'hola', 'chris', 'mullinssc', 'cauleys', 'dellertw', 'overholm', 'utomoo', 'themost', 'hagan', 'mawhite', 'willia67', 'spdbmp2000', 'clsc', 'bracci', 'hsiu', 'lenzd']\n"
     ]
    }
   ],
   "source": [
    "print(self_identified_usernames[0:50])\n",
    "#print('str(tuple(self_identified_usernames))',str(tuple(self_identified_usernames)))\n",
    "print(self_study_usernames[0:50])\n",
    "print(allusers_usernames[0:50])\n"
   ]
  },
  {
   "cell_type": "code",
   "execution_count": 41,
   "metadata": {
    "execution": {
     "iopub.execute_input": "2022-02-21T22:00:05.656673Z",
     "iopub.status.busy": "2022-02-21T22:00:05.656450Z",
     "iopub.status.idle": "2022-02-21T22:00:05.683838Z",
     "shell.execute_reply": "2022-02-21T22:00:05.681969Z",
     "shell.execute_reply.started": "2022-02-21T22:00:05.656649Z"
    },
    "tags": []
   },
   "outputs": [],
   "source": [
    "skip_first_section=1\n",
    "if (skip_first_section==0):\n",
    "    #cache_r_track = pd.DataFrame()\n",
    "    #cache_si_track = pd.DataFrame()\n",
    "    #cache_si_track['user'] = self_identified_track\n",
    "    self_identified_track = []\n",
    "    researcher_track = []\n",
    "    self2_track = []\n",
    "    simtotal_track = []\n",
    "\n",
    "    ## computer has memory limits, so split toolstart into branches\n",
    "    # this filters and finds the research usage in nanohub\n",
    "    start_year = deepcopy(start_year_base)\n",
    "    while start_year < today.year+1:\n",
    "        start_year += 1\n",
    "        print('start year: '+ str(start_year))\n",
    "        end_date = r\"'\"+str(start_year)+r\"-01-01'\"\n",
    "        start_date = r\"'\"+str(start_year-2)+r\"-01-01'\"\n",
    "\n",
    "        for i in range(1,13):\n",
    "            if i < 10:\n",
    "                start_date = r\"'\"+str(start_year-1)+r\"-0\"+str(i)+r\"-01'\"\n",
    "                end_date = r\"'\"+str(start_year)+r\"-0\"+str(i)+r\"-01'\"\n",
    "            else:\n",
    "                start_date = r\"'\"+str(start_year-1)+r\"-\"+str(i)+r\"-01'\"\n",
    "                end_date = r\"'\"+str(start_year)+r\"-\"+str(i)+r\"-01'\"\n",
    "\n",
    "            sql_query_researcher = \"select user from toolstart where user in \" + str(tuple(researcher_usernames))\\\n",
    "                +\" and datetime <= \"+end_date+\" and datetime >= \"+start_date\n",
    "            researcher_users = pd.read_sql_query(sql_query_researcher, nanohub_metrics_db)\n",
    "            #print('date'+str(start_date)+ 'research_users partial',researcher_users.drop_duplicates()[0:10])\n",
    "            #print('date'+str(start_date)+ 'research_users =',len(researcher_users.drop_duplicates()))\n",
    "\n",
    "            #researcher_track contains the number of users in this specific month \n",
    "            researcher_track.append(researcher_users.drop_duplicates().shape[0])\n",
    "\n",
    "            sql_query_self_identified = \"select user from toolstart where user in \" + str(tuple(self_identified_usernames))\\\n",
    "                +\" and datetime <= \"+end_date+\" and datetime >= \"+start_date\n",
    "            self_identified_users = pd.read_sql_query(sql_query_self_identified, nanohub_metrics_db)\n",
    "            #print('date'+str(start_date)+ 'self_identified_users partial',self_identified_users.drop_duplicates()[0:10])\n",
    "            #print('date'+str(start_date)+ 'self_identified_users =',len(self_identified_users.drop_duplicates()))\n",
    "\n",
    "            #self_identified_track contains the number of users in this specific month \n",
    "            self_identified_track.append(self_identified_users.drop_duplicates().shape[0])\n",
    "            #print('start date',start_date)\n",
    "            #display(researcher_track)\n",
    "\n",
    "\n",
    "            sql_query_self = \"select user from toolstart where user in \" + str(tuple(self_study_usernames))\\\n",
    "                +\" and user != 'instanton' and user != 'gridstat' and datetime <= \"+end_date+\" and datetime >= \"+start_date\n",
    "            self2_users = pd.read_sql_query(sql_query_self, nanohub_metrics_db) #engine_metrics #.drop_duplicates()\n",
    "            #print('date'+str(start_date)+ 'self2_users partial',self2_users.drop_duplicates()[0:10])\n",
    "            #print('date'+str(start_date)+ 'self2_users =',len(self2_users.drop_duplicates()))\n",
    "            self2_track.append(self2_users.drop_duplicates().shape[0])        \n",
    "\n",
    "            # query for any job start activity and therefore not examin all registered users.\n",
    "            sql_query_simtotal = \"select user from toolstart where datetime <= \"+end_date+\" and datetime >= \"+start_date\n",
    "            simtotal_users = pd.read_sql_query(sql_query_simtotal, nanohub_metrics_db) #engine_metrics #.drop_duplicates()\n",
    "            #print('date'+str(start_date)+ 'simtotal_users partial',simtotal_users.drop_duplicates()[0:10])\n",
    "            #print('date'+str(start_date)+ 'simtotal_users =',len(simtotal_users.drop_duplicates()))\n",
    "            simtotal_track.append(simtotal_users.drop_duplicates().shape[0])        \n",
    "\n",
    "            print('date'+str(start_date)+ 'total =',len(simtotal_users.drop_duplicates()), \\\n",
    "                 'self2_users =',len(self2_users.drop_duplicates()), \\\n",
    "                 'researcher_users =',len(researcher_users.drop_duplicates()), \\\n",
    "                 'self_identified_users =',len(self_identified_users.drop_duplicates())     )\n",
    "            #print('simtotal_track=',simtotal_track)\n",
    "            #print('self2_track =',self2_track)\n",
    "            #print('researcher_track',researcher_track)\n",
    "\n",
    "\n",
    "        print('start year: '+ str(start_year))\n",
    "        #display(researcher_track)\n",
    "        #display(researcher_track)\n",
    "\n",
    "        cache_r_track = pd.DataFrame()\n",
    "        cache_r_track['track'] = researcher_track\n",
    "        cache_r_track.to_csv(cwd+'/cached_data/researcher_track.csv')\n",
    "        cache_r_track.to_csv(cwd+'/cached_data/'+ str(start_year)+'_researcher_track.csv')\n",
    "        cache_r_track = []\n",
    "\n",
    "        cache_si_track = pd.DataFrame()\n",
    "        cache_si_track['track'] = self_identified_track\n",
    "        cache_si_track.to_csv(cwd+'/cached_data/self_identified_track.csv')\n",
    "        cache_si_track.to_csv(cwd+'/cached_data/'+ str(start_year)+'_self_identified_track.csv')\n",
    "        cache_si_track = []\n",
    "\n",
    "        cache_s2_track = pd.DataFrame()\n",
    "        cache_s2_track['track'] = self2_track\n",
    "        cache_s2_track.to_csv(cwd+'/cached_data/self2_track.csv')\n",
    "        cache_s2_track.to_csv(cwd+'/cached_data/'+ str(start_year)+'_self2_track.csv')\n",
    "        cache_s2_track = []\n",
    "\n",
    "        cache_simtotal_track = pd.DataFrame()\n",
    "        cache_simtotal_track['track'] = simtotal_track\n",
    "        cache_simtotal_track.to_csv(cwd+'/cached_data/simtotal_track.csv')\n",
    "        cache_simtotal_track.to_csv(cwd+'/cached_data/'+ str(start_year)+'_simtotal_track.csv')\n",
    "        cache_simtotal_track = []\n",
    "    \n",
    "    "
   ]
  },
  {
   "cell_type": "code",
   "execution_count": 44,
   "metadata": {
    "execution": {
     "iopub.execute_input": "2022-02-21T22:04:55.182387Z",
     "iopub.status.busy": "2022-02-21T22:04:55.182045Z",
     "iopub.status.idle": "2022-02-21T22:04:55.187277Z",
     "shell.execute_reply": "2022-02-21T22:04:55.185706Z",
     "shell.execute_reply.started": "2022-02-21T22:04:55.182358Z"
    },
    "tags": []
   },
   "outputs": [],
   "source": [
    "## filter the self study folks against those of researchers\n",
    "# need to pull the researcher sf ids"
   ]
  },
  {
   "cell_type": "code",
   "execution_count": null,
   "metadata": {
    "tags": []
   },
   "outputs": [],
   "source": []
  },
  {
   "cell_type": "code",
   "execution_count": 45,
   "metadata": {
    "execution": {
     "iopub.execute_input": "2022-02-21T22:04:56.874050Z",
     "iopub.status.busy": "2022-02-21T22:04:56.873779Z",
     "iopub.status.idle": "2022-02-21T22:04:56.880100Z",
     "shell.execute_reply": "2022-02-21T22:04:56.878842Z",
     "shell.execute_reply.started": "2022-02-21T22:04:56.874023Z"
    },
    "tags": []
   },
   "outputs": [],
   "source": [
    "#sf_contact_ids = contacts_df['nanoHUB_user_ID__c'][sf_self_study]"
   ]
  },
  {
   "cell_type": "code",
   "execution_count": 46,
   "metadata": {
    "execution": {
     "iopub.execute_input": "2022-02-21T22:04:57.778110Z",
     "iopub.status.busy": "2022-02-21T22:04:57.777773Z",
     "iopub.status.idle": "2022-02-21T22:04:57.784351Z",
     "shell.execute_reply": "2022-02-21T22:04:57.782908Z",
     "shell.execute_reply.started": "2022-02-21T22:04:57.778038Z"
    },
    "tags": []
   },
   "outputs": [],
   "source": [
    "# sf_contact_ids = sf_contact_ids.reset_index()\n",
    "# sf_contact_ids = sf_contact_ids.drop(columns='index')\n",
    "# display(sf_contact_ids)"
   ]
  },
  {
   "cell_type": "code",
   "execution_count": 47,
   "metadata": {
    "execution": {
     "iopub.execute_input": "2022-02-21T22:04:58.653428Z",
     "iopub.status.busy": "2022-02-21T22:04:58.651859Z",
     "iopub.status.idle": "2022-02-21T22:04:58.659268Z",
     "shell.execute_reply": "2022-02-21T22:04:58.657611Z",
     "shell.execute_reply.started": "2022-02-21T22:04:58.653385Z"
    },
    "tags": []
   },
   "outputs": [],
   "source": [
    "# tuple(sf_contact_ids['nanoHUB_user_ID__c'])[:5]"
   ]
  },
  {
   "cell_type": "code",
   "execution_count": 48,
   "metadata": {
    "execution": {
     "iopub.execute_input": "2022-02-21T22:04:59.141349Z",
     "iopub.status.busy": "2022-02-21T22:04:59.140593Z",
     "iopub.status.idle": "2022-02-21T22:04:59.146324Z",
     "shell.execute_reply": "2022-02-21T22:04:59.145172Z",
     "shell.execute_reply.started": "2022-02-21T22:04:59.141315Z"
    },
    "tags": []
   },
   "outputs": [],
   "source": [
    "# tuple(self_study_NH_ids.dropna().to_list())[:5]"
   ]
  },
  {
   "cell_type": "code",
   "execution_count": 49,
   "metadata": {
    "execution": {
     "iopub.execute_input": "2022-02-21T22:04:59.812107Z",
     "iopub.status.busy": "2022-02-21T22:04:59.811553Z",
     "iopub.status.idle": "2022-02-21T22:04:59.817902Z",
     "shell.execute_reply": "2022-02-21T22:04:59.816078Z",
     "shell.execute_reply.started": "2022-02-21T22:04:59.812075Z"
    },
    "tags": []
   },
   "outputs": [],
   "source": [
    "## loading in toolstart"
   ]
  },
  {
   "cell_type": "code",
   "execution_count": 50,
   "metadata": {
    "execution": {
     "iopub.execute_input": "2022-02-21T22:05:01.628028Z",
     "iopub.status.busy": "2022-02-21T22:05:01.627432Z",
     "iopub.status.idle": "2022-02-21T22:05:05.560342Z",
     "shell.execute_reply": "2022-02-21T22:05:05.557697Z",
     "shell.execute_reply.started": "2022-02-21T22:05:01.627901Z"
    },
    "tags": []
   },
   "outputs": [
    {
     "data": {
      "text/plain": [
       "78167"
      ]
     },
     "metadata": {},
     "output_type": "display_data"
    },
    {
     "data": {
      "text/plain": [
       "16825"
      ]
     },
     "metadata": {},
     "output_type": "display_data"
    },
    {
     "data": {
      "text/plain": [
       "14997"
      ]
     },
     "metadata": {},
     "output_type": "display_data"
    },
    {
     "data": {
      "text/plain": [
       "46345"
      ]
     },
     "metadata": {},
     "output_type": "display_data"
    }
   ],
   "source": [
    "# clustered user usernames\n",
    "tc_query = 'select id,username from jos_users where id in ' +str(tuple(clustered_NH_ids))\n",
    "clustered_NH_username = pd.read_sql_query(tc_query,nanohub_db)\n",
    "display(len(clustered_NH_username))\n",
    "\n",
    "tc_query = 'select id,username from jos_users where id in ' +str(tuple(mike_clustered_NH_ids))\n",
    "mike_clustered_NH_username = pd.read_sql_query(tc_query,nanohub_db)\n",
    "display(len(mike_clustered_NH_username))\n",
    "\n",
    "tc_query = 'select id,username from jos_users where id in ' +str(tuple(xufeng_clustered_NH_ids))\n",
    "xufeng_clustered_NH_username = pd.read_sql_query(tc_query,nanohub_db)\n",
    "display(len(xufeng_clustered_NH_username))\n",
    "\n",
    "tc_query = 'select id,username from jos_users where id in ' +str(tuple(mike_xufeng_clustered_NH_ids))\n",
    "mike_xufeng_clustered_NH_username = pd.read_sql_query(tc_query,nanohub_db)\n",
    "display(len(mike_xufeng_clustered_NH_username))\n",
    "\n"
   ]
  },
  {
   "cell_type": "code",
   "execution_count": 51,
   "metadata": {
    "execution": {
     "iopub.execute_input": "2022-02-21T22:05:13.749141Z",
     "iopub.status.busy": "2022-02-21T22:05:13.748802Z",
     "iopub.status.idle": "2022-02-21T22:05:13.753114Z",
     "shell.execute_reply": "2022-02-21T22:05:13.752268Z",
     "shell.execute_reply.started": "2022-02-21T22:05:13.749117Z"
    },
    "tags": []
   },
   "outputs": [],
   "source": [
    "## self study user usernames\n",
    "#ts_query = 'select id,username from jos_users where id in ' + str(tuple(self_study_NH_ids.dropna().to_list())) \n",
    "##sf_contact_ids['nanoHUB_user_ID__c']))\n",
    "#ss_NH_username = pd.read_sql_query(ts_query,nanohub_db)"
   ]
  },
  {
   "cell_type": "code",
   "execution_count": 55,
   "metadata": {
    "execution": {
     "iopub.execute_input": "2022-02-21T22:11:54.993621Z",
     "iopub.status.busy": "2022-02-21T22:11:54.993310Z",
     "iopub.status.idle": "2022-02-21T22:11:55.101177Z",
     "shell.execute_reply": "2022-02-21T22:11:55.099739Z",
     "shell.execute_reply.started": "2022-02-21T22:11:54.993595Z"
    },
    "tags": []
   },
   "outputs": [],
   "source": [
    "## cache the researchers, self-study, and clustered users\n",
    "cache_r_nhid = pd.DataFrame()\n",
    "#cache_r_nhid['nhid'] = researcher_ids\n",
    "cache_r_nhid['username'] = researcher_usernames\n",
    "\n",
    "cache_si_nhid = pd.DataFrame()\n",
    "#cache_si_nhid['nhid'] = self_identified_NH_ids.to_list()\n",
    "cache_si_nhid['username'] = self_identified_usernames\n",
    "\n",
    "cache_ss_nhid = pd.DataFrame()\n",
    "#cache_ss_nhid['nhid'] = ss_NH_username['id']\n",
    "cache_ss_nhid['username'] = self_study_usernames\n",
    "\n",
    "cache_c_nhid = pd.DataFrame()\n",
    "cache_c_nhid['nhid'] = clustered_NH_username['id']\n",
    "cache_c_nhid['username'] = clustered_NH_username['username']\n",
    "\n",
    "cache_cm_nhid = pd.DataFrame()\n",
    "cache_cm_nhid['nhid'] = mike_clustered_NH_username['id']\n",
    "cache_cm_nhid['username'] = mike_clustered_NH_username['username']\n",
    "\n",
    "cache_cx_nhid = pd.DataFrame()\n",
    "cache_cx_nhid['nhid'] = xufeng_clustered_NH_username['id']\n",
    "cache_cx_nhid['username'] = xufeng_clustered_NH_username['username']\n",
    "\n",
    "cache_cmx_nhid = pd.DataFrame()\n",
    "cache_cmx_nhid['nhid'] = mike_xufeng_clustered_NH_username['id']\n",
    "cache_cmx_nhid['username'] = mike_xufeng_clustered_NH_username['username']"
   ]
  },
  {
   "cell_type": "code",
   "execution_count": 56,
   "metadata": {
    "execution": {
     "iopub.execute_input": "2022-02-21T22:12:08.119073Z",
     "iopub.status.busy": "2022-02-21T22:12:08.118779Z",
     "iopub.status.idle": "2022-02-21T22:12:08.143948Z",
     "shell.execute_reply": "2022-02-21T22:12:08.142658Z",
     "shell.execute_reply.started": "2022-02-21T22:12:08.119045Z"
    },
    "tags": []
   },
   "outputs": [
    {
     "name": "stdout",
     "output_type": "stream",
     "text": [
      "  username\n",
      "0  hspwong\n",
      "1  onayfeh\n",
      "  username\n",
      "0   tmoore\n",
      "1  alexwei\n",
      "  username\n",
      "0  hubrepo\n",
      "1    admin\n",
      "     nhid    username\n",
      "0  166284  0.yao.yuan\n",
      "1  344801  007sribabu\n",
      "   nhid username\n",
      "0  1767  onayfeh\n",
      "1  1909  reimers\n",
      "   nhid username\n",
      "0  1848   kevdog\n",
      "1  1852  himadri\n",
      "   nhid      username\n",
      "0  1794        mar889\n",
      "1  2136  ashtone_rose\n"
     ]
    }
   ],
   "source": [
    "print(cache_r_nhid.head(2))\n",
    "print(cache_si_nhid.head(2))\n",
    "print(cache_ss_nhid.head(2))\n",
    "print(cache_c_nhid.head(2))\n",
    "print(cache_cm_nhid.head(2))\n",
    "print(cache_cx_nhid.head(2))\n",
    "print(cache_cmx_nhid.head(2))"
   ]
  },
  {
   "cell_type": "code",
   "execution_count": 57,
   "metadata": {
    "execution": {
     "iopub.execute_input": "2022-02-21T22:12:34.858219Z",
     "iopub.status.busy": "2022-02-21T22:12:34.857903Z",
     "iopub.status.idle": "2022-02-21T22:12:36.419521Z",
     "shell.execute_reply": "2022-02-21T22:12:36.418704Z",
     "shell.execute_reply.started": "2022-02-21T22:12:34.858191Z"
    },
    "tags": []
   },
   "outputs": [],
   "source": [
    "cache_r_nhid.to_csv(cwd+'/cached_data/researcher_ids.csv')\n",
    "cache_si_nhid.to_csv(cwd+'/cached_data/self_identified_ids.csv')\n",
    "cache_ss_nhid.to_csv(cwd+'/cached_data/ss_ids.csv')\n",
    "cache_c_nhid.to_csv(cwd+'/cached_data/class_ids.csv')\n",
    "cache_cm_nhid.to_csv(cwd+'/cached_data/class_m_ids.csv')\n",
    "cache_cx_nhid.to_csv(cwd+'/cached_data/class_x_ids.csv')\n",
    "cache_cmx_nhid.to_csv(cwd+'/cached_data/class_mx_ids.csv')"
   ]
  },
  {
   "cell_type": "code",
   "execution_count": null,
   "metadata": {},
   "outputs": [],
   "source": []
  },
  {
   "cell_type": "code",
   "execution_count": 58,
   "metadata": {
    "execution": {
     "iopub.execute_input": "2022-02-21T22:12:40.757082Z",
     "iopub.status.busy": "2022-02-21T22:12:40.756792Z",
     "iopub.status.idle": "2022-02-21T22:12:40.764326Z",
     "shell.execute_reply": "2022-02-21T22:12:40.761779Z",
     "shell.execute_reply.started": "2022-02-21T22:12:40.757057Z"
    },
    "tags": []
   },
   "outputs": [],
   "source": [
    "# clustered_NH_username2;researcher_NH_username2;self_NH_username2\n",
    "clustered_track = []\n",
    "clustered_m_track = []\n",
    "clustered_x_track = []\n",
    "clustered_mx_track = []\n",
    "self_track = []\n",
    "\n",
    "# clustered_track_per = []\n",
    "# self_track_per = []\n",
    "# researcher_track_per = []"
   ]
  },
  {
   "cell_type": "code",
   "execution_count": null,
   "metadata": {
    "execution": {
     "iopub.status.busy": "2022-02-21T22:00:06.418599Z",
     "iopub.status.idle": "2022-02-21T22:00:06.419421Z",
     "shell.execute_reply": "2022-02-21T22:00:06.419239Z",
     "shell.execute_reply.started": "2022-02-21T22:00:06.419217Z"
    },
    "tags": []
   },
   "outputs": [],
   "source": [
    "ss_NH_username.shape #old"
   ]
  },
  {
   "cell_type": "code",
   "execution_count": null,
   "metadata": {},
   "outputs": [],
   "source": []
  },
  {
   "cell_type": "code",
   "execution_count": null,
   "metadata": {
    "execution": {
     "iopub.execute_input": "2022-02-21T22:19:21.549636Z",
     "iopub.status.busy": "2022-02-21T22:19:21.549319Z"
    },
    "tags": []
   },
   "outputs": [
    {
     "name": "stdout",
     "output_type": "stream",
     "text": [
      "start year: 2000\n",
      "date'1999-01-01'clustered_users = 0 clustered_m_users = 0 clustered_x_users = 0 clustered_mx_users = 0\n",
      "date'1999-02-01'clustered_users = 0 clustered_m_users = 0 clustered_x_users = 0 clustered_mx_users = 0\n",
      "date'1999-03-01'clustered_users = 6 clustered_m_users = 3 clustered_x_users = 0 clustered_mx_users = 3\n",
      "date'1999-04-01'clustered_users = 7 clustered_m_users = 3 clustered_x_users = 0 clustered_mx_users = 4\n",
      "date'1999-05-01'clustered_users = 10 clustered_m_users = 3 clustered_x_users = 0 clustered_mx_users = 7\n",
      "date'1999-06-01'clustered_users = 11 clustered_m_users = 3 clustered_x_users = 1 clustered_mx_users = 7\n",
      "date'1999-07-01'clustered_users = 13 clustered_m_users = 5 clustered_x_users = 1 clustered_mx_users = 7\n",
      "date'1999-08-01'clustered_users = 13 clustered_m_users = 5 clustered_x_users = 1 clustered_mx_users = 7\n",
      "date'1999-09-01'clustered_users = 15 clustered_m_users = 6 clustered_x_users = 2 clustered_mx_users = 7\n",
      "date'1999-10-01'clustered_users = 16 clustered_m_users = 6 clustered_x_users = 2 clustered_mx_users = 8\n",
      "date'1999-11-01'clustered_users = 16 clustered_m_users = 6 clustered_x_users = 2 clustered_mx_users = 8\n",
      "date'1999-12-01'clustered_users = 16 clustered_m_users = 6 clustered_x_users = 2 clustered_mx_users = 8\n",
      "start year: 2000\n",
      "start year: 2001\n",
      "date'2000-01-01'clustered_users = 17 clustered_m_users = 7 clustered_x_users = 2 clustered_mx_users = 8\n",
      "date'2000-02-01'clustered_users = 21 clustered_m_users = 9 clustered_x_users = 3 clustered_mx_users = 9\n",
      "date'2000-03-01'clustered_users = 20 clustered_m_users = 8 clustered_x_users = 3 clustered_mx_users = 9\n",
      "date'2000-04-01'clustered_users = 21 clustered_m_users = 8 clustered_x_users = 4 clustered_mx_users = 9\n",
      "date'2000-05-01'clustered_users = 18 clustered_m_users = 9 clustered_x_users = 4 clustered_mx_users = 5\n",
      "date'2000-06-01'clustered_users = 17 clustered_m_users = 9 clustered_x_users = 3 clustered_mx_users = 5\n",
      "date'2000-07-01'clustered_users = 15 clustered_m_users = 8 clustered_x_users = 3 clustered_mx_users = 4\n",
      "date'2000-08-01'clustered_users = 14 clustered_m_users = 8 clustered_x_users = 3 clustered_mx_users = 3\n",
      "date'2000-09-01'clustered_users = 12 clustered_m_users = 7 clustered_x_users = 2 clustered_mx_users = 3\n",
      "date'2000-10-01'clustered_users = 13 clustered_m_users = 7 clustered_x_users = 2 clustered_mx_users = 4\n",
      "date'2000-11-01'clustered_users = 13 clustered_m_users = 7 clustered_x_users = 2 clustered_mx_users = 4\n",
      "date'2000-12-01'clustered_users = 13 clustered_m_users = 7 clustered_x_users = 2 clustered_mx_users = 4\n",
      "start year: 2001\n",
      "start year: 2002\n",
      "date'2001-01-01'clustered_users = 13 clustered_m_users = 7 clustered_x_users = 2 clustered_mx_users = 4\n",
      "date'2001-02-01'clustered_users = 13 clustered_m_users = 7 clustered_x_users = 2 clustered_mx_users = 4\n",
      "date'2001-03-01'clustered_users = 12 clustered_m_users = 6 clustered_x_users = 2 clustered_mx_users = 4\n",
      "date'2001-04-01'clustered_users = 12 clustered_m_users = 6 clustered_x_users = 2 clustered_mx_users = 4\n",
      "date'2001-05-01'clustered_users = 11 clustered_m_users = 4 clustered_x_users = 2 clustered_mx_users = 5\n",
      "date'2001-06-01'clustered_users = 15 clustered_m_users = 7 clustered_x_users = 3 clustered_mx_users = 5\n",
      "date'2001-07-01'clustered_users = 15 clustered_m_users = 7 clustered_x_users = 3 clustered_mx_users = 5\n",
      "date'2001-08-01'clustered_users = 16 clustered_m_users = 8 clustered_x_users = 3 clustered_mx_users = 5\n",
      "date'2001-09-01'clustered_users = 17 clustered_m_users = 8 clustered_x_users = 4 clustered_mx_users = 5\n",
      "date'2001-10-01'clustered_users = 17 clustered_m_users = 9 clustered_x_users = 3 clustered_mx_users = 5\n",
      "date'2001-11-01'clustered_users = 19 clustered_m_users = 10 clustered_x_users = 3 clustered_mx_users = 6\n",
      "date'2001-12-01'clustered_users = 18 clustered_m_users = 9 clustered_x_users = 3 clustered_mx_users = 6\n",
      "start year: 2002\n",
      "start year: 2003\n",
      "date'2002-01-01'clustered_users = 17 clustered_m_users = 8 clustered_x_users = 4 clustered_mx_users = 5\n",
      "date'2002-02-01'clustered_users = 18 clustered_m_users = 9 clustered_x_users = 4 clustered_mx_users = 5\n",
      "date'2002-03-01'clustered_users = 23 clustered_m_users = 9 clustered_x_users = 5 clustered_mx_users = 9\n",
      "date'2002-04-01'clustered_users = 24 clustered_m_users = 9 clustered_x_users = 6 clustered_mx_users = 9\n",
      "date'2002-05-01'clustered_users = 27 clustered_m_users = 10 clustered_x_users = 8 clustered_mx_users = 9\n",
      "date'2002-06-01'clustered_users = 25 clustered_m_users = 8 clustered_x_users = 8 clustered_mx_users = 9\n",
      "date'2002-07-01'clustered_users = 25 clustered_m_users = 8 clustered_x_users = 8 clustered_mx_users = 9\n",
      "date'2002-08-01'clustered_users = 23 clustered_m_users = 6 clustered_x_users = 8 clustered_mx_users = 9\n",
      "date'2002-09-01'clustered_users = 24 clustered_m_users = 6 clustered_x_users = 9 clustered_mx_users = 9\n",
      "date'2002-10-01'clustered_users = 24 clustered_m_users = 6 clustered_x_users = 9 clustered_mx_users = 9\n",
      "date'2002-11-01'clustered_users = 25 clustered_m_users = 6 clustered_x_users = 9 clustered_mx_users = 10\n",
      "date'2002-12-01'clustered_users = 25 clustered_m_users = 6 clustered_x_users = 9 clustered_mx_users = 10\n",
      "start year: 2003\n",
      "start year: 2004\n",
      "date'2003-01-01'clustered_users = 25 clustered_m_users = 6 clustered_x_users = 9 clustered_mx_users = 10\n",
      "date'2003-02-01'clustered_users = 25 clustered_m_users = 6 clustered_x_users = 9 clustered_mx_users = 10\n",
      "date'2003-03-01'clustered_users = 28 clustered_m_users = 6 clustered_x_users = 12 clustered_mx_users = 10\n",
      "date'2003-04-01'clustered_users = 28 clustered_m_users = 5 clustered_x_users = 12 clustered_mx_users = 11\n",
      "date'2003-05-01'clustered_users = 27 clustered_m_users = 5 clustered_x_users = 13 clustered_mx_users = 9\n",
      "date'2003-06-01'clustered_users = 27 clustered_m_users = 6 clustered_x_users = 13 clustered_mx_users = 8\n",
      "date'2003-07-01'clustered_users = 28 clustered_m_users = 7 clustered_x_users = 13 clustered_mx_users = 8\n",
      "date'2003-08-01'clustered_users = 28 clustered_m_users = 7 clustered_x_users = 13 clustered_mx_users = 8\n",
      "date'2003-09-01'clustered_users = 32 clustered_m_users = 7 clustered_x_users = 16 clustered_mx_users = 9\n"
     ]
    }
   ],
   "source": [
    "## computer has memory limits, so split toolstart into branches\n",
    "start_year = deepcopy(start_year_base)\n",
    "\n",
    "while start_year < today.year+1:\n",
    "    start_year += 1\n",
    "    print('start year: '+str(start_year))\n",
    "    \n",
    "    for i in range(1,13):\n",
    "        if i < 10:\n",
    "            start_date = r\"'\"+str(start_year-1)+r\"-0\"+str(i)+r\"-01'\"\n",
    "            end_date = r\"'\"+str(start_year)+r\"-0\"+str(i)+r\"-01'\"\n",
    "        else:\n",
    "            start_date = r\"'\"+str(start_year-1)+r\"-\"+str(i)+r\"-01'\"\n",
    "            end_date = r\"'\"+str(start_year)+r\"-\"+str(i)+r\"-01'\"\n",
    "        \n",
    "#         sql_query_clustered = \"select user from toolstart where user in \" + str(tuple(clustered_NH_username2['username']))\\\n",
    "#             +\" and datetime <= \"+end_date+\" and datetime >= \"+start_date\n",
    "        sql_query_clustered = \"select user from toolstart where user in \" + str(tuple(clustered_NH_username['username']))\\\n",
    "            +\" and datetime <= \"+end_date+\" and datetime >= \"+start_date\n",
    "        clustered_users = pd.read_sql_query(sql_query_clustered, nanohub_metrics_db)\n",
    "        \n",
    "        sql_query_m_clustered = \"select user from toolstart where user in \" + str(tuple(mike_clustered_NH_username['username']))\\\n",
    "            +\" and datetime <= \"+end_date+\" and datetime >= \"+start_date\n",
    "        clustered_m_users = pd.read_sql_query(sql_query_m_clustered, nanohub_metrics_db)\n",
    "        \n",
    "        sql_query_x_clustered = \"select user from toolstart where user in \" + str(tuple(xufeng_clustered_NH_username['username']))\\\n",
    "            +\" and datetime <= \"+end_date+\" and datetime >= \"+start_date\n",
    "        clustered_x_users = pd.read_sql_query(sql_query_x_clustered, nanohub_metrics_db)\n",
    "        \n",
    "        sql_query_mx_clustered = \"select user from toolstart where user in \" + str(tuple(mike_xufeng_clustered_NH_username['username']))\\\n",
    "            +\" and datetime <= \"+end_date+\" and datetime >= \"+start_date\n",
    "        clustered_mx_users = pd.read_sql_query(sql_query_mx_clustered, nanohub_metrics_db)\n",
    "        \n",
    "        \n",
    "#         sql_query_self = \"select user from toolstart where user in \" + str(tuple(self_NH_username2['username']))\\\n",
    "#             +\" and user != 'instanton' and user != 'gridstat' and datetime <= \"+end_date+\" and datetime >= \"+start_date\n",
    "#        sql_query_self = \"select user from toolstart where user in \" + str(tuple(self_study_usernames))\\\n",
    "#            +\" and user != 'instanton' and user != 'gridstat' and datetime <= \"+end_date+\" and datetime >= \"+start_date\n",
    "#        self_users = pd.read_sql_query(sql_query_self, nanohub_metrics_db) #engine_metrics #.drop_duplicates()\n",
    "        \n",
    "        print('date'+str(start_date)+ 'clustered_users =',len(clustered_users.drop_duplicates()), \\\n",
    "              'clustered_m_users =',len(clustered_m_users.drop_duplicates()), \\\n",
    "              'clustered_x_users =',len(clustered_x_users.drop_duplicates()), \\\n",
    "              'clustered_mx_users =',len(clustered_mx_users.drop_duplicates())     )\n",
    " \n",
    "\n",
    "        clustered_track.append(clustered_users.drop_duplicates().shape[0])\n",
    "        clustered_m_track.append(clustered_m_users.drop_duplicates().shape[0])\n",
    "        clustered_x_track.append(clustered_x_users.drop_duplicates().shape[0])\n",
    "        clustered_mx_track.append(clustered_mx_users.drop_duplicates().shape[0])\n",
    "#        self_track.append(self_users.drop_duplicates().shape[0])\n",
    "#         print('start_date: '+start_date)\n",
    "#         print('end_date: '+end_date)  \n",
    "    print('start year: '+str(start_year))\n",
    "    cache_clustered_track = pd.DataFrame()\n",
    "    cache_clustered_track['track'] = clustered_track\n",
    "    cache_clustered_track.to_csv(cwd+'/cached_data/'+ str(start_year)+'_clustered_track.csv')\n",
    "    cache_clustered_track.to_csv(cwd+'/cached_data/clustered_track.csv')\n",
    "    cache_clustered_track = []\n",
    "    \n",
    "    cache_clustered_m_track = pd.DataFrame()\n",
    "    cache_clustered_m_track['track'] = clustered_m_track\n",
    "    cache_clustered_m_track.to_csv(cwd+'/cached_data/'+ str(start_year)+'_clustered_m_track.csv')\n",
    "    cache_clustered_m_track.to_csv(cwd+'/cached_data/clustered_m_track.csv')\n",
    "    cache_clustered_m_track = []\n",
    "\n",
    "    cache_clustered_x_track = pd.DataFrame()\n",
    "    cache_clustered_x_track['track'] = clustered_x_track\n",
    "    cache_clustered_x_track.to_csv(cwd+'/cached_data/'+ str(start_year)+'_clustered_x_track.csv')\n",
    "    cache_clustered_x_track.to_csv(cwd+'/cached_data/clustered_x_track.csv')\n",
    "    cache_clustered_x_track = []\n",
    "\n",
    "    cache_clustered_mx_track = pd.DataFrame()\n",
    "    cache_clustered_mx_track['track'] = clustered_mx_track\n",
    "    cache_clustered_mx_track.to_csv(cwd+'/cached_data/'+ str(start_year)+'_clustered_mx_track.csv')\n",
    "    cache_clustered_mx_track.to_csv(cwd+'/cached_data/clustered_mx_track.csv')\n",
    "    cache_clustered_mx_track = []\n",
    "\n",
    "#    cache_self_track = pd.DataFrame()\n",
    "#    cache_self_track['track'] = self_track\n",
    "#    cache_self_track.to_csv(cwd+'/cached_data/self_track.csv')\n",
    "#    cache_self_track = []\n",
    "\n",
    "    "
   ]
  },
  {
   "cell_type": "code",
   "execution_count": null,
   "metadata": {},
   "outputs": [],
   "source": []
  },
  {
   "cell_type": "code",
   "execution_count": null,
   "metadata": {
    "execution": {
     "iopub.status.busy": "2022-02-21T16:15:49.479381Z",
     "iopub.status.idle": "2022-02-21T16:15:49.480215Z",
     "shell.execute_reply": "2022-02-21T16:15:49.479876Z",
     "shell.execute_reply.started": "2022-02-21T16:15:49.479816Z"
    },
    "tags": []
   },
   "outputs": [],
   "source": [
    "# all_months_list = list()\n",
    "# for this_year in range(start_year_base+1,today.year+2):\n",
    "#     if cache_flag == True:\n",
    "#         for this_month in range(1,today.month+1):\n",
    "#             all_months_list.append(datetime.datetime(this_year, this_month, 1))\n",
    "#     else:\n",
    "#         for this_month in range(1,12+1):\n",
    "#             all_months_list.append(datetime.datetime(this_year, this_month, 1))"
   ]
  },
  {
   "cell_type": "code",
   "execution_count": null,
   "metadata": {
    "execution": {
     "iopub.status.busy": "2022-02-21T16:15:49.484770Z",
     "iopub.status.idle": "2022-02-21T16:15:49.485245Z",
     "shell.execute_reply": "2022-02-21T16:15:49.485056Z",
     "shell.execute_reply.started": "2022-02-21T16:15:49.485030Z"
    },
    "tags": []
   },
   "outputs": [],
   "source": [
    "print(len(clustered_track))\n",
    "print(len(clustered_m_track))\n",
    "print(len(clustered_x_track))\n",
    "print(len(clustered_mx_track))\n",
    "print(len(all_months_list))\n",
    "print(len(researcher_track))"
   ]
  },
  {
   "cell_type": "code",
   "execution_count": null,
   "metadata": {
    "execution": {
     "iopub.status.busy": "2022-02-21T16:15:49.487171Z",
     "iopub.status.idle": "2022-02-21T16:15:49.487639Z",
     "shell.execute_reply": "2022-02-21T16:15:49.487442Z",
     "shell.execute_reply.started": "2022-02-21T16:15:49.487421Z"
    },
    "tags": []
   },
   "outputs": [],
   "source": [
    "#print(user_breakdown_df2.head())"
   ]
  },
  {
   "cell_type": "code",
   "execution_count": null,
   "metadata": {
    "execution": {
     "iopub.status.busy": "2022-02-21T16:15:49.490869Z",
     "iopub.status.idle": "2022-02-21T16:15:49.492028Z",
     "shell.execute_reply": "2022-02-21T16:15:49.491565Z",
     "shell.execute_reply.started": "2022-02-21T16:15:49.491489Z"
    },
    "tags": []
   },
   "outputs": [],
   "source": [
    "\n",
    "if cache_flag == True:\n",
    "    user_breakdown_df2 = pd.DataFrame()\n",
    "    user_breakdown_df2['year_month'] = all_months_list\n",
    "    user_breakdown_df2['clustered_track'] = clustered_track\n",
    "    user_breakdown_df2['clustered_m_track'] = clustered_m_track\n",
    "    user_breakdown_df2['clustered_x_track'] = clustered_x_track\n",
    "    user_breakdown_df2['clustered_mx_track'] = clustered_mx_track\n",
    "    user_breakdown_df2['self_identified_track'] = self_identified_track\n",
    "    user_breakdown_df2['self2_track'] = self2_track\n",
    "    user_breakdown_df2['researcher_track'] = researcher_track\n",
    "    \n",
    "    user_breakdown_df = pd.concat([user_breakdown_df, user_breakdown_df2], ignore_index=True)\n",
    "    display(user_breakdown_df.head(2))\n",
    "else:\n",
    "    user_breakdown_df = pd.DataFrame()\n",
    "    if today.month == 12:\n",
    "        user_breakdown_df['year_month'] = all_months_list #months_bin['year_month'].to_list()[13:]\n",
    "        user_breakdown_df['clustered_track'] = clustered_track#[:len(all_months_list)]\n",
    "        user_breakdown_df['clustered_m_track'] = clustered_m_track#[:len(all_months_list)]\n",
    "        user_breakdown_df['clustered_x_track'] = clustered_x_track#[:len(all_months_list)]\n",
    "        user_breakdown_df['clustered_mx_track'] = clustered_mx_track#[:len(all_months_list)]\n",
    "        user_breakdown_df['self_identified_track'] = self_identified_track\n",
    "        user_breakdown_df['self2_track'] = self2_track#[:len(all_months_list)]\n",
    "        user_breakdown_df['researcher_track'] = researcher_track#[:len(all_months_list)]        \n",
    "    else:\n",
    "        user_breakdown_df['year_month'] = all_months_list #-(12-today.month)\n",
    "        user_breakdown_df['clustered_track'] = clustered_track#[:len(all_months_list[:])]\n",
    "        user_breakdown_df['clustered_m_track'] = clustered_m_track#[:len(all_months_list[:])]\n",
    "        user_breakdown_df['clustered_x_track'] = clustered_x_track#[:len(all_months_list[:])]\n",
    "        user_breakdown_df['clustered_mx_track'] = clustered_mx_track#[:len(all_months_list[:])]\n",
    "        user_breakdown_df['self_identified_track'] = self_identified_track\n",
    "        user_breakdown_df['self2_track'] = self2_track#[:len(all_months_list[:])]\n",
    "        user_breakdown_df['researcher_track'] = researcher_track#[:len(all_months_list[:])]\n",
    "    display(user_breakdown_df.head(2))"
   ]
  },
  {
   "cell_type": "code",
   "execution_count": null,
   "metadata": {
    "execution": {
     "iopub.status.busy": "2022-02-21T16:15:49.495978Z",
     "iopub.status.idle": "2022-02-21T16:15:49.496683Z",
     "shell.execute_reply": "2022-02-21T16:15:49.496465Z",
     "shell.execute_reply.started": "2022-02-21T16:15:49.496443Z"
    },
    "tags": []
   },
   "outputs": [],
   "source": [
    "# user_breakdown_df.to_csv(cwd+'/cached_data/temp.csv')"
   ]
  },
  {
   "cell_type": "code",
   "execution_count": null,
   "metadata": {
    "execution": {
     "iopub.status.busy": "2022-02-21T16:15:49.504582Z",
     "iopub.status.idle": "2022-02-21T16:15:49.505121Z",
     "shell.execute_reply": "2022-02-21T16:15:49.504883Z",
     "shell.execute_reply.started": "2022-02-21T16:15:49.504864Z"
    },
    "tags": []
   },
   "outputs": [],
   "source": [
    "import re"
   ]
  },
  {
   "cell_type": "code",
   "execution_count": null,
   "metadata": {
    "execution": {
     "iopub.status.busy": "2022-02-21T16:15:49.507918Z",
     "iopub.status.idle": "2022-02-21T16:15:49.508867Z",
     "shell.execute_reply": "2022-02-21T16:15:49.508515Z",
     "shell.execute_reply.started": "2022-02-21T16:15:49.508485Z"
    },
    "tags": []
   },
   "outputs": [],
   "source": [
    "## read the dev_flags.txt to determine where to save\n",
    "with open(cwd+'/dev_flags.txt','r') as f:\n",
    "    raw_flags = f.read()\n",
    "flag_pattern = re.compile(r'= \\w+')\n",
    "flags1 = re.findall(flag_pattern,raw_flags)    \n",
    "flags_result = [i[2:] for i in flags1]\n",
    "dev_flag = flags_result[0]\n",
    "prod_flag = flags_result[1]"
   ]
  },
  {
   "cell_type": "code",
   "execution_count": null,
   "metadata": {
    "execution": {
     "iopub.status.busy": "2022-02-21T16:15:49.510647Z",
     "iopub.status.idle": "2022-02-21T16:15:49.511244Z",
     "shell.execute_reply": "2022-02-21T16:15:49.510915Z",
     "shell.execute_reply.started": "2022-02-21T16:15:49.510857Z"
    },
    "tags": []
   },
   "outputs": [],
   "source": [
    "import seaborn as sns\n",
    "import matplotlib.pyplot as plt\n",
    "sns.set()\n",
    "sns.set_style(\"whitegrid\")\n",
    "\n",
    "plt.figure(figsize=(9,6))\n",
    "# user_breakdown_df2 = user_breakdown_df.iloc[:-(12-today.month),:]\n",
    "user_breakdown_df2 = user_breakdown_df.iloc[:-12-(12-today.month),:]\n",
    "plt.stackplot(user_breakdown_df2.year_month, \\\n",
    "#               user_breakdown_df2[['clustered_track','self_track']].to_numpy().T, \\\n",
    "#              labels=['Classroom', 'Unclassified'], \\\n",
    "#              colors=['green', 'orange']); #Self-study              \n",
    "              user_breakdown_df2[['clustered_m_track', 'clustered_mx_track', 'clustered_x_track', 'researcher_track','self_identified_track','self_track']].to_numpy().T, \\\n",
    "             labels=['Classroom M','Classroom MX','Classroom X','Research', 'Researcher','Unclassified'], \\\n",
    "             colors=['lawngreen','green', 'yellowgreen','red', 'fuchsia','orange']); #Self-study\n",
    "\n",
    "plt.legend(loc='upper left')#,fontsize=14);\n",
    "plt.ylabel('12-month Trailing Total')#,fontsize=15)\n",
    "plt.xlim([datetime.datetime(2001,1,1), datetime.datetime(2021,7,1)])#,fontsize=15)\n",
    "# plt.show()\n",
    "\n",
    "if dev_flag == 'True':\n",
    "    plt.savefig(cwd+'/plots_local/300_simusers_class_res_unclass_12months_GK.eps', dpi=300, bbox_inches='tight')\n",
    "    plt.savefig(cwd+'/plots_local/300_simusers_class_res_unclass_12months_GK.pdf', dpi=300, bbox_inches='tight')\n",
    "    plt.savefig(cwd+'/plots_local/300_simusers_class_res_unclass_12months_GK.png', dpi=300, bbox_inches='tight')\n",
    "elif prod_flag == 'True':\n",
    "    plt.savefig(cwd+'/plots_production/300_simusers_class_res_unclass_12months_GK.eps', dpi=300, bbox_inches='tight')\n",
    "    plt.savefig(cwd+'/plots_production/300_simusers_class_res_unclass_12months_GK.pdf', dpi=300, bbox_inches='tight')\n",
    "    plt.savefig(cwd+'/plots_production/300_simusers_class_res_unclass_12months_GK.png', dpi=300, bbox_inches='tight')\n",
    "else:\n",
    "    print('no printing flag is active')"
   ]
  },
  {
   "cell_type": "code",
   "execution_count": null,
   "metadata": {
    "execution": {
     "iopub.status.busy": "2022-02-21T16:15:49.514326Z",
     "iopub.status.idle": "2022-02-21T16:15:49.515096Z",
     "shell.execute_reply": "2022-02-21T16:15:49.514778Z",
     "shell.execute_reply.started": "2022-02-21T16:15:49.514698Z"
    },
    "tags": []
   },
   "outputs": [],
   "source": [
    "total = user_breakdown_df2['clustered_track'].to_numpy()+user_breakdown_df2['researcher_track'].to_numpy()+\\\n",
    "                        user_breakdown_df2['self_track'].to_numpy() + user_breakdown_df2['self_identified_track'].to_numpy()\n",
    "display(len(total))\n",
    "user_breakdown_df2['clustered_track_per'] = 100*np.divide(user_breakdown_df2['clustered_track'],total)\n",
    "user_breakdown_df2['self_identified_track_per'] = 100*np.divide(user_breakdown_df2['self_identified_track'], total)\n",
    "user_breakdown_df2['researcher_track_per'] = 100*np.divide(user_breakdown_df2['researcher_track'], total)\n",
    "user_breakdown_df2['self_track_per'] = 100*np.divide(user_breakdown_df2['self_track'], total)"
   ]
  },
  {
   "cell_type": "code",
   "execution_count": null,
   "metadata": {
    "execution": {
     "iopub.status.busy": "2022-02-21T16:15:49.519780Z",
     "iopub.status.idle": "2022-02-21T16:15:49.521365Z",
     "shell.execute_reply": "2022-02-21T16:15:49.520840Z",
     "shell.execute_reply.started": "2022-02-21T16:15:49.520806Z"
    },
    "tags": []
   },
   "outputs": [],
   "source": [
    "plt.figure(figsize=(9,6))\n",
    "plt.plot(user_breakdown_df2.year_month, user_breakdown_df2.clustered_track_per, label='classroom', \\\n",
    "             color='green');\n",
    "plt.plot(user_breakdown_df2.year_month, user_breakdown_df2.researcher_track_per, label='research', \\\n",
    "             color='red');\n",
    "plt.plot(user_breakdown_df2.year_month, user_breakdown_df2.self_identified_track_per, label='self-identified', \\\n",
    "             color='magenta');\n",
    "plt.plot(user_breakdown_df2.year_month, user_breakdown_df2.self_track_per, label='self-study', \\\n",
    "             color='orange');\n",
    "\n",
    "plt.ylim([0, 100])\n",
    "plt.legend(loc='upper right');\n",
    "plt.ylabel('Percentage (%)');\n",
    "plt.xlim([datetime.datetime(2001,1,1), datetime.datetime(2021,7,1)])\n",
    "# plt.show()\n",
    "\n",
    "if dev_flag == 'True':\n",
    "    plt.savefig(cwd+'/plots_local/300_simusers_class_res_unclass_12months_percent_copied.eps', dpi=300, bbox_inches='tight')\n",
    "    plt.savefig(cwd+'/plots_local/300_simusers_class_res_unclass_12months_percent_copied.pdf', dpi=300, bbox_inches='tight')\n",
    "    plt.savefig(cwd+'/plots_local/300_simusers_class_res_unclass_12months_percent_copied.png', dpi=300, bbox_inches='tight')\n",
    "elif prod_flag == 'True':\n",
    "    plt.savefig(cwd+'/plots_production/300_simusers_class_res_unclass_12months_percent_copied.eps', dpi=300, bbox_inches='tight')\n",
    "    plt.savefig(cwd+'/plots_production/300_simusers_class_res_unclass_12months_percent_copied.pdf', dpi=300, bbox_inches='tight')\n",
    "    plt.savefig(cwd+'/plots_production/300_simusers_class_res_unclass_12months_percent_copied.png', dpi=300, bbox_inches='tight')\n",
    "else:\n",
    "    print('no printing flag is active')"
   ]
  },
  {
   "cell_type": "code",
   "execution_count": null,
   "metadata": {
    "execution": {
     "iopub.status.busy": "2022-02-21T16:15:49.524117Z",
     "iopub.status.idle": "2022-02-21T16:15:49.524679Z",
     "shell.execute_reply": "2022-02-21T16:15:49.524372Z",
     "shell.execute_reply.started": "2022-02-21T16:15:49.524353Z"
    },
    "tags": []
   },
   "outputs": [],
   "source": [
    "user_breakdown_df2.to_csv(cwd+'/cached_data/nh_user_breakdown.csv')"
   ]
  },
  {
   "cell_type": "code",
   "execution_count": null,
   "metadata": {},
   "outputs": [],
   "source": []
  },
  {
   "cell_type": "code",
   "execution_count": null,
   "metadata": {},
   "outputs": [],
   "source": []
  },
  {
   "cell_type": "code",
   "execution_count": null,
   "metadata": {},
   "outputs": [],
   "source": []
  }
 ],
 "metadata": {
  "kernelspec": {
   "display_name": "Python 3 (ipykernel)",
   "language": "python",
   "name": "python3"
  },
  "language_info": {
   "codemirror_mode": {
    "name": "ipython",
    "version": 3
   },
   "file_extension": ".py",
   "mimetype": "text/x-python",
   "name": "python",
   "nbconvert_exporter": "python",
   "pygments_lexer": "ipython3",
   "version": "3.8.10"
  }
 },
 "nbformat": 4,
 "nbformat_minor": 4
}
