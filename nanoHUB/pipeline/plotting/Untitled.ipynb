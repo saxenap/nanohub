{
 "cells": [
  {
   "cell_type": "code",
   "execution_count": 1,
   "id": "667b3b99-b7a4-46d6-9539-0a9b719b36e4",
   "metadata": {
    "execution": {
     "iopub.execute_input": "2022-02-21T18:05:35.531778Z",
     "iopub.status.busy": "2022-02-21T18:05:35.520524Z",
     "iopub.status.idle": "2022-02-21T18:05:40.966527Z",
     "shell.execute_reply": "2022-02-21T18:05:40.960186Z",
     "shell.execute_reply.started": "2022-02-21T18:05:35.530973Z"
    }
   },
   "outputs": [
    {
     "name": "stdout",
     "output_type": "stream",
     "text": [
      "\u001b[1mnanoHUB - Serving Students, Researchers & Instructors\u001b[0m\n"
     ]
    }
   ],
   "source": [
    "import sys\n",
    "\n",
    "import pandas as pd\n",
    "import numpy as np\n",
    "import time\n",
    "import datetime\n",
    "import os\n",
    "from nanoHUB.application import Application\n",
    "from nanoHUB.configuration import ClusteringConfiguration\n",
    "from nanoHUB.pipeline.geddes.data import get_default_s3_client\n",
    "from nanoHUB.dataaccess.lake import S3FileMapper\n",
    "\n",
    "from nanoHUB.clustering.infra import get_mike_only_clustered_users, get_xufeng_only_clustered_users, get_mike_xufeng_clustered_users\n",
    "from nanoHUB.clustering.infra import create_clusters_repository, add_cluster_info, get_all_clustered_users, get_all_self_study_users, get_all_self_identified_users\n",
    "\n",
    "application = Application.get_instance()\n",
    "nanohub_db = application.new_db_engine('nanohub')\n",
    "nanohub_metrics_db = application.new_db_engine('nanohub_metrics')\n",
    "wang159_myrmekes_db = application.new_db_engine('rfm_data')\n",
    "\n",
    "s3_client = get_default_s3_client(application)\n",
    "derived_data_file_path = ClusteringConfiguration().derived_data_path\n",
    "processed_mapper = S3FileMapper(s3_client, ClusteringConfiguration().bucket_name_processed)\n",
    "\n",
    "pd.set_option('display.max_columns', None)\n",
    "cwd = os.getcwd()"
   ]
  },
  {
   "cell_type": "code",
   "execution_count": 2,
   "id": "484204a7-74ae-4954-8f87-f96a6d4bfa40",
   "metadata": {
    "execution": {
     "iopub.execute_input": "2022-02-21T18:05:40.982441Z",
     "iopub.status.busy": "2022-02-21T18:05:40.976930Z",
     "iopub.status.idle": "2022-02-21T18:06:13.771591Z",
     "shell.execute_reply": "2022-02-21T18:06:13.761596Z",
     "shell.execute_reply.started": "2022-02-21T18:05:40.982358Z"
    },
    "tags": []
   },
   "outputs": [
    {
     "data": {
      "text/plain": [
       "False"
      ]
     },
     "metadata": {},
     "output_type": "display_data"
    }
   ],
   "source": [
    "self_identified_df = get_all_self_identified_users(processed_mapper, derived_data_file_path)\n",
    "self_identified_df['nanoHUB_user_ID__c'] = self_identified_df['id']\n",
    "self_identified_NH_ids = self_identified_df['nanoHUB_user_ID__c']\n",
    "self_identified_usernames = self_identified_df['username'].tolist()\n",
    "# display(self_identified_usernames)\n",
    "# display(tuple(self_identified_usernames))\n",
    "display(str(tuple((self_identified_NH_ids))) == str(tuple(self_identified_usernames)))\n"
   ]
  },
  {
   "cell_type": "code",
   "execution_count": 3,
   "id": "ffaf8bce-cb7d-47a6-b3be-6feab4c6ba25",
   "metadata": {
    "execution": {
     "iopub.execute_input": "2022-02-21T18:06:13.783008Z",
     "iopub.status.busy": "2022-02-21T18:06:13.781569Z",
     "iopub.status.idle": "2022-02-21T18:06:13.867091Z",
     "shell.execute_reply": "2022-02-21T18:06:13.857395Z",
     "shell.execute_reply.started": "2022-02-21T18:06:13.782645Z"
    }
   },
   "outputs": [
    {
     "data": {
      "text/plain": [
       "4037"
      ]
     },
     "metadata": {},
     "output_type": "display_data"
    }
   ],
   "source": [
    "display((len(tuple(self_identified_usernames))))"
   ]
  },
  {
   "cell_type": "code",
   "execution_count": 4,
   "id": "67a1d63f-b39c-4a4a-b3a2-47b1471d92ae",
   "metadata": {
    "execution": {
     "iopub.execute_input": "2022-02-21T18:06:13.891106Z",
     "iopub.status.busy": "2022-02-21T18:06:13.885478Z",
     "iopub.status.idle": "2022-02-21T18:06:15.204132Z",
     "shell.execute_reply": "2022-02-21T18:06:15.186247Z",
     "shell.execute_reply.started": "2022-02-21T18:06:13.890947Z"
    },
    "tags": []
   },
   "outputs": [
    {
     "ename": "TypeError",
     "evalue": "'int' object is not iterable",
     "output_type": "error",
     "traceback": [
      "\u001b[0;31m---------------------------------------------------------------------------\u001b[0m",
      "\u001b[0;31mTypeError\u001b[0m                                 Traceback (most recent call last)",
      "Input \u001b[0;32mIn [4]\u001b[0m, in \u001b[0;36m<module>\u001b[0;34m\u001b[0m\n\u001b[0;32m----> 1\u001b[0m display(\u001b[38;5;28mstr\u001b[39m(\u001b[38;5;28;43mtuple\u001b[39;49m\u001b[43m(\u001b[49m\u001b[38;5;28;43mlen\u001b[39;49m\u001b[43m(\u001b[49m\u001b[43mself_identified_NH_ids\u001b[49m\u001b[43m)\u001b[49m\u001b[43m)\u001b[49m))\n",
      "\u001b[0;31mTypeError\u001b[0m: 'int' object is not iterable"
     ]
    }
   ],
   "source": [
    "display(str(tuple(len(self_identified_NH_ids))))"
   ]
  },
  {
   "cell_type": "code",
   "execution_count": 18,
   "id": "c3158c25-7726-4a6f-88a1-64490aa7faa9",
   "metadata": {
    "execution": {
     "iopub.execute_input": "2022-02-21T19:31:55.572829Z",
     "iopub.status.busy": "2022-02-21T19:31:55.572555Z",
     "iopub.status.idle": "2022-02-21T19:31:55.586512Z",
     "shell.execute_reply": "2022-02-21T19:31:55.582432Z",
     "shell.execute_reply.started": "2022-02-21T19:31:55.572796Z"
    },
    "tags": []
   },
   "outputs": [
    {
     "name": "stdout",
     "output_type": "stream",
     "text": [
      "/home/saxenap/nanoHUB/nanoHUB/pipeline/plotting/cache_dir\n"
     ]
    }
   ],
   "source": [
    "from pathlib import Path\n",
    "import os\n",
    "\n",
    "cache_dir = Path().cwd()/'cache_dir'\n",
    "print(cache_dir)"
   ]
  },
  {
   "cell_type": "code",
   "execution_count": 15,
   "id": "c7a334f8-653a-4df9-8653-d0b61ddc7943",
   "metadata": {
    "execution": {
     "iopub.execute_input": "2022-02-21T19:17:36.464325Z",
     "iopub.status.busy": "2022-02-21T19:17:36.463922Z",
     "iopub.status.idle": "2022-02-21T19:17:36.486449Z",
     "shell.execute_reply": "2022-02-21T19:17:36.484888Z",
     "shell.execute_reply.started": "2022-02-21T19:17:36.464271Z"
    },
    "tags": []
   },
   "outputs": [
    {
     "data": {
      "text/plain": [
       "'(1, 2, 4, 5, 6)'"
      ]
     },
     "metadata": {},
     "output_type": "display_data"
    },
    {
     "data": {
      "text/plain": [
       "'(1, 2, 4, 5, 6)'"
      ]
     },
     "metadata": {},
     "output_type": "display_data"
    }
   ],
   "source": [
    "d = {'col1': [1, 2, 4, 5, 6]}\n",
    "df = pd.DataFrame(data=d)\n",
    "#display(df)\n",
    "display(str(tuple(df.col1)))\n",
    "display(str(tuple(df.col1.tolist())))\n"
   ]
  },
  {
   "cell_type": "code",
   "execution_count": 10,
   "id": "45f38a19-a7d2-477d-978d-ab82223185a4",
   "metadata": {
    "execution": {
     "iopub.execute_input": "2022-02-21T19:15:45.300524Z",
     "iopub.status.busy": "2022-02-21T19:15:45.300064Z",
     "iopub.status.idle": "2022-02-21T19:15:45.312228Z",
     "shell.execute_reply": "2022-02-21T19:15:45.310221Z",
     "shell.execute_reply.started": "2022-02-21T19:15:45.300484Z"
    },
    "tags": []
   },
   "outputs": [
    {
     "name": "stdout",
     "output_type": "stream",
     "text": [
      "('val',)\n",
      "('val',)\n"
     ]
    }
   ],
   "source": [
    "t = pd.DataFrame(data = {'val' : [1,2,3,4,5,6]})\n",
    "print(tuple(t))\n",
    "print(tuple(t))"
   ]
  },
  {
   "cell_type": "code",
   "execution_count": null,
   "id": "6312efc1-e484-42cc-8639-62d7ee34971f",
   "metadata": {},
   "outputs": [],
   "source": []
  }
 ],
 "metadata": {
  "kernelspec": {
   "display_name": "Python 3 (ipykernel)",
   "language": "python",
   "name": "python3"
  },
  "language_info": {
   "codemirror_mode": {
    "name": "ipython",
    "version": 3
   },
   "file_extension": ".py",
   "mimetype": "text/x-python",
   "name": "python",
   "nbconvert_exporter": "python",
   "pygments_lexer": "ipython3",
   "version": "3.8.10"
  }
 },
 "nbformat": 4,
 "nbformat_minor": 5
}
