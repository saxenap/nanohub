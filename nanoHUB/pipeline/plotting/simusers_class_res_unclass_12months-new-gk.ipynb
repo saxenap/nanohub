{
 "cells": [
  {
   "cell_type": "code",
   "execution_count": 1,
   "metadata": {
    "execution": {
     "iopub.execute_input": "2022-02-19T23:40:11.344934Z",
     "iopub.status.busy": "2022-02-19T23:40:11.344556Z",
     "iopub.status.idle": "2022-02-19T23:40:11.365248Z",
     "shell.execute_reply": "2022-02-19T23:40:11.361812Z",
     "shell.execute_reply.started": "2022-02-19T23:40:11.344830Z"
    },
    "tags": []
   },
   "outputs": [],
   "source": [
    "## build researcher events, student events, and self-study events\n",
    "## researcher are simply those with NH citations"
   ]
  },
  {
   "cell_type": "code",
   "execution_count": 46,
   "metadata": {
    "execution": {
     "iopub.execute_input": "2022-02-20T00:06:12.960165Z",
     "iopub.status.busy": "2022-02-20T00:06:12.956873Z",
     "iopub.status.idle": "2022-02-20T00:06:12.978714Z",
     "shell.execute_reply": "2022-02-20T00:06:12.973992Z",
     "shell.execute_reply.started": "2022-02-20T00:06:12.960108Z"
    },
    "tags": []
   },
   "outputs": [],
   "source": [
    "import sys\n",
    "\n",
    "import pandas as pd\n",
    "import numpy as np\n",
    "import time\n",
    "import datetime\n",
    "import os\n",
    "from nanoHUB.application import Application\n",
    "from nanoHUB.configuration import ClusteringConfiguration\n",
    "from nanoHUB.pipeline.geddes.data import get_default_s3_client\n",
    "from nanoHUB.dataaccess.lake import S3FileMapper\n",
    "from nanoHUB.clustering.infra import create_clusters_repository, add_cluster_info, get_all_clustered_users, get_all_self_study_users"
   ]
  },
  {
   "cell_type": "code",
   "execution_count": 47,
   "metadata": {
    "execution": {
     "iopub.execute_input": "2022-02-20T00:06:13.491916Z",
     "iopub.status.busy": "2022-02-20T00:06:13.491117Z",
     "iopub.status.idle": "2022-02-20T00:06:13.501663Z",
     "shell.execute_reply": "2022-02-20T00:06:13.499225Z",
     "shell.execute_reply.started": "2022-02-20T00:06:13.491873Z"
    },
    "tags": []
   },
   "outputs": [],
   "source": [
    "pd.set_option('display.max_columns', None)\n",
    "cwd = os.getcwd()"
   ]
  },
  {
   "cell_type": "code",
   "execution_count": 4,
   "metadata": {
    "execution": {
     "iopub.execute_input": "2022-02-19T23:40:14.848187Z",
     "iopub.status.busy": "2022-02-19T23:40:14.847677Z",
     "iopub.status.idle": "2022-02-19T23:40:16.055724Z",
     "shell.execute_reply": "2022-02-19T23:40:16.052500Z",
     "shell.execute_reply.started": "2022-02-19T23:40:14.848143Z"
    },
    "tags": []
   },
   "outputs": [],
   "source": [
    "application = Application.get_instance()\n",
    "nanohub_db = application.new_db_engine('nanohub')\n",
    "nanohub_metrics_db = application.new_db_engine('nanohub_metrics')\n",
    "wang159_myrmekes_db = application.new_db_engine('rfm_data')\n",
    "\n",
    "s3_client = get_default_s3_client(application)\n",
    "derived_data_file_path = 'derived_data_for_users.csv'\n",
    "processed_mapper = S3FileMapper(s3_client, ClusteringConfiguration().bucket_name_processed)"
   ]
  },
  {
   "cell_type": "code",
   "execution_count": null,
   "metadata": {},
   "outputs": [],
   "source": []
  },
  {
   "cell_type": "markdown",
   "metadata": {
    "tags": []
   },
   "source": [
    "## Cumulative classroom/research/self-study"
   ]
  },
  {
   "cell_type": "code",
   "execution_count": 5,
   "metadata": {
    "execution": {
     "iopub.execute_input": "2022-02-19T23:40:16.062418Z",
     "iopub.status.busy": "2022-02-19T23:40:16.060733Z",
     "iopub.status.idle": "2022-02-19T23:40:40.458738Z",
     "shell.execute_reply": "2022-02-19T23:40:40.452162Z",
     "shell.execute_reply.started": "2022-02-19T23:40:16.062345Z"
    }
   },
   "outputs": [
    {
     "data": {
      "text/plain": [
       "78167"
      ]
     },
     "metadata": {},
     "output_type": "display_data"
    }
   ],
   "source": [
    "clustered_df = get_all_clustered_users(processed_mapper, derived_data_file_path)\n",
    "clustered_df['nanoHUB_user_ID__c'] = clustered_df['id']\n",
    "clustered_NH_ids = clustered_df['nanoHUB_user_ID__c']\n",
    "display(len(clustered_NH_ids))"
   ]
  },
  {
   "cell_type": "code",
   "execution_count": 6,
   "metadata": {
    "execution": {
     "iopub.execute_input": "2022-02-19T23:40:40.473527Z",
     "iopub.status.busy": "2022-02-19T23:40:40.473029Z",
     "iopub.status.idle": "2022-02-19T23:41:07.188338Z",
     "shell.execute_reply": "2022-02-19T23:41:07.187478Z",
     "shell.execute_reply.started": "2022-02-19T23:40:40.473476Z"
    },
    "tags": []
   },
   "outputs": [
    {
     "data": {
      "text/plain": [
       "194524"
      ]
     },
     "metadata": {},
     "output_type": "display_data"
    }
   ],
   "source": [
    "self_study_df = get_all_self_study_users(processed_mapper, derived_data_file_path)\n",
    "self_study_df['nanoHUB_user_ID__c'] = self_study_df['id']\n",
    "self_study_NH_ids = self_study_df['nanoHUB_user_ID__c']\n",
    "display(len(self_study_NH_ids))"
   ]
  },
  {
   "cell_type": "code",
   "execution_count": 7,
   "metadata": {
    "execution": {
     "iopub.execute_input": "2022-02-19T23:41:07.191624Z",
     "iopub.status.busy": "2022-02-19T23:41:07.189912Z",
     "iopub.status.idle": "2022-02-19T23:41:07.199788Z",
     "shell.execute_reply": "2022-02-19T23:41:07.198470Z",
     "shell.execute_reply.started": "2022-02-19T23:41:07.191580Z"
    },
    "tags": []
   },
   "outputs": [
    {
     "name": "stdout",
     "output_type": "stream",
     "text": [
      "(78167,)\n",
      "(194524,)\n"
     ]
    }
   ],
   "source": [
    "print(clustered_NH_ids.shape)\n",
    "print(self_study_NH_ids.shape)"
   ]
  },
  {
   "cell_type": "code",
   "execution_count": null,
   "metadata": {},
   "outputs": [],
   "source": []
  },
  {
   "cell_type": "code",
   "execution_count": 35,
   "metadata": {
    "execution": {
     "iopub.execute_input": "2022-02-20T00:05:22.617844Z",
     "iopub.status.busy": "2022-02-20T00:05:22.617123Z",
     "iopub.status.idle": "2022-02-20T00:05:22.914329Z",
     "shell.execute_reply": "2022-02-20T00:05:22.907264Z",
     "shell.execute_reply.started": "2022-02-20T00:05:22.617793Z"
    },
    "tags": []
   },
   "outputs": [],
   "source": [
    "frames = [clustered_df, self_study_df]\n",
    "contacts_df = pd.concat(frames)"
   ]
  },
  {
   "cell_type": "code",
   "execution_count": 9,
   "metadata": {
    "execution": {
     "iopub.execute_input": "2022-02-19T23:41:07.222087Z",
     "iopub.status.busy": "2022-02-19T23:41:07.216718Z",
     "iopub.status.idle": "2022-02-19T23:41:07.230601Z",
     "shell.execute_reply": "2022-02-19T23:41:07.227959Z",
     "shell.execute_reply.started": "2022-02-19T23:41:07.222025Z"
    },
    "tags": []
   },
   "outputs": [],
   "source": [
    "## need to filter self-study-nh-ids with the researchers"
   ]
  },
  {
   "cell_type": "code",
   "execution_count": 10,
   "metadata": {
    "execution": {
     "iopub.execute_input": "2022-02-19T23:41:07.235398Z",
     "iopub.status.busy": "2022-02-19T23:41:07.232284Z",
     "iopub.status.idle": "2022-02-19T23:41:07.244782Z",
     "shell.execute_reply": "2022-02-19T23:41:07.241843Z",
     "shell.execute_reply.started": "2022-02-19T23:41:07.235330Z"
    },
    "tags": []
   },
   "outputs": [],
   "source": [
    "## This researcher determination is based entirely on the results of research authors on nanohub\n",
    "## i.e., we use the researcher information on db2"
   ]
  },
  {
   "cell_type": "code",
   "execution_count": 11,
   "metadata": {
    "execution": {
     "iopub.execute_input": "2022-02-19T23:41:07.249549Z",
     "iopub.status.busy": "2022-02-19T23:41:07.248160Z",
     "iopub.status.idle": "2022-02-19T23:41:08.002186Z",
     "shell.execute_reply": "2022-02-19T23:41:08.000738Z",
     "shell.execute_reply.started": "2022-02-19T23:41:07.249444Z"
    },
    "tags": []
   },
   "outputs": [
    {
     "data": {
      "text/html": [
       "<div>\n",
       "<style scoped>\n",
       "    .dataframe tbody tr th:only-of-type {\n",
       "        vertical-align: middle;\n",
       "    }\n",
       "\n",
       "    .dataframe tbody tr th {\n",
       "        vertical-align: top;\n",
       "    }\n",
       "\n",
       "    .dataframe thead th {\n",
       "        text-align: right;\n",
       "    }\n",
       "</style>\n",
       "<table border=\"1\" class=\"dataframe\">\n",
       "  <thead>\n",
       "    <tr style=\"text-align: right;\">\n",
       "      <th></th>\n",
       "      <th>id</th>\n",
       "      <th>uid</th>\n",
       "      <th>author</th>\n",
       "    </tr>\n",
       "  </thead>\n",
       "  <tbody>\n",
       "    <tr>\n",
       "      <th>0</th>\n",
       "      <td>10000001</td>\n",
       "      <td>5568</td>\n",
       "      <td>Weber, Bent; Mahapatra, Suddhasatta; Ryu, Hoon...</td>\n",
       "    </tr>\n",
       "    <tr>\n",
       "      <th>1</th>\n",
       "      <td>10000002</td>\n",
       "      <td>5568</td>\n",
       "      <td>Andrawis, Robert; Bermeo, Jose; Charles, James...</td>\n",
       "    </tr>\n",
       "  </tbody>\n",
       "</table>\n",
       "</div>"
      ],
      "text/plain": [
       "         id   uid                                             author\n",
       "0  10000001  5568  Weber, Bent; Mahapatra, Suddhasatta; Ryu, Hoon...\n",
       "1  10000002  5568  Andrawis, Robert; Bermeo, Jose; Charles, James..."
      ]
     },
     "metadata": {},
     "output_type": "display_data"
    },
    {
     "name": "stdout",
     "output_type": "stream",
     "text": [
      "(4203, 3)\n"
     ]
    }
   ],
   "source": [
    "sql_query = 'select id, uid, author from jos_citations'\n",
    "jos_citations = pd.read_sql_query(sql_query, nanohub_db)\n",
    "display(jos_citations.head(2))\n",
    "print(jos_citations.shape)"
   ]
  },
  {
   "cell_type": "code",
   "execution_count": 12,
   "metadata": {
    "execution": {
     "iopub.execute_input": "2022-02-19T23:41:08.012507Z",
     "iopub.status.busy": "2022-02-19T23:41:08.010315Z",
     "iopub.status.idle": "2022-02-19T23:41:08.025040Z",
     "shell.execute_reply": "2022-02-19T23:41:08.020716Z",
     "shell.execute_reply.started": "2022-02-19T23:41:08.012425Z"
    },
    "tags": []
   },
   "outputs": [],
   "source": [
    "t1_authors = jos_citations['author'].to_list()\n",
    "t1_authors2 = [] #[j.split(';') for i,j in enumerate(t1_authors)]"
   ]
  },
  {
   "cell_type": "code",
   "execution_count": 13,
   "metadata": {
    "execution": {
     "iopub.execute_input": "2022-02-19T23:41:08.032327Z",
     "iopub.status.busy": "2022-02-19T23:41:08.029966Z",
     "iopub.status.idle": "2022-02-19T23:41:08.066794Z",
     "shell.execute_reply": "2022-02-19T23:41:08.065646Z",
     "shell.execute_reply.started": "2022-02-19T23:41:08.032198Z"
    },
    "tags": []
   },
   "outputs": [],
   "source": [
    "for i,j in enumerate(t1_authors):\n",
    "    try:\n",
    "        holder = j.split(';')\n",
    "        if len(holder) > 1: \n",
    "            for k,l in enumerate(holder):\n",
    "                if l[0] == ' ':\n",
    "                    holder[k] = l[1:]\n",
    "        t1_authors2.append(holder)\n",
    "    except:\n",
    "        garb = True"
   ]
  },
  {
   "cell_type": "code",
   "execution_count": 14,
   "metadata": {
    "execution": {
     "iopub.execute_input": "2022-02-19T23:41:08.075660Z",
     "iopub.status.busy": "2022-02-19T23:41:08.073957Z",
     "iopub.status.idle": "2022-02-19T23:41:08.095278Z",
     "shell.execute_reply": "2022-02-19T23:41:08.094613Z",
     "shell.execute_reply.started": "2022-02-19T23:41:08.075595Z"
    },
    "tags": []
   },
   "outputs": [
    {
     "name": "stdout",
     "output_type": "stream",
     "text": [
      "6860\n"
     ]
    }
   ],
   "source": [
    "t1_authors32 = [item for sublist in t1_authors2 for item in sublist]\n",
    "t1_authors3 = set(t1_authors32)\n",
    "print(len(t1_authors3))"
   ]
  },
  {
   "cell_type": "code",
   "execution_count": 15,
   "metadata": {
    "execution": {
     "iopub.execute_input": "2022-02-19T23:41:08.099317Z",
     "iopub.status.busy": "2022-02-19T23:41:08.097628Z",
     "iopub.status.idle": "2022-02-19T23:41:08.114451Z",
     "shell.execute_reply": "2022-02-19T23:41:08.112222Z",
     "shell.execute_reply.started": "2022-02-19T23:41:08.099235Z"
    },
    "tags": []
   },
   "outputs": [],
   "source": [
    "## extract all researchers with nh ids\n",
    "rw_ids = []\n",
    "need_search = []\n",
    "for i,j in enumerate(t1_authors3):\n",
    "    if '{{' in j:\n",
    "        rw_ids.append(i)\n",
    "    else:\n",
    "        need_search.append(i)"
   ]
  },
  {
   "cell_type": "code",
   "execution_count": 16,
   "metadata": {
    "execution": {
     "iopub.execute_input": "2022-02-19T23:41:08.119645Z",
     "iopub.status.busy": "2022-02-19T23:41:08.116605Z",
     "iopub.status.idle": "2022-02-19T23:41:08.143163Z",
     "shell.execute_reply": "2022-02-19T23:41:08.142520Z",
     "shell.execute_reply.started": "2022-02-19T23:41:08.119570Z"
    },
    "tags": []
   },
   "outputs": [
    {
     "name": "stdout",
     "output_type": "stream",
     "text": [
      "2079\n"
     ]
    }
   ],
   "source": [
    "## from the rw_ids, extract the nanohub userids\n",
    "# can obtain usernames from the DB2 table\n",
    "rw_ids2 = np.array(list(t1_authors3))[rw_ids]\n",
    "for i,j in enumerate(rw_ids2):\n",
    "    begin = j.index('{{')\n",
    "    rw_ids2[i] = j[begin+2:-2]\n",
    "print(len(rw_ids2))"
   ]
  },
  {
   "cell_type": "code",
   "execution_count": 17,
   "metadata": {
    "execution": {
     "iopub.execute_input": "2022-02-19T23:41:08.146453Z",
     "iopub.status.busy": "2022-02-19T23:41:08.144664Z",
     "iopub.status.idle": "2022-02-19T23:41:08.393129Z",
     "shell.execute_reply": "2022-02-19T23:41:08.392391Z",
     "shell.execute_reply.started": "2022-02-19T23:41:08.146396Z"
    },
    "tags": []
   },
   "outputs": [
    {
     "data": {
      "text/html": [
       "<div>\n",
       "<style scoped>\n",
       "    .dataframe tbody tr th:only-of-type {\n",
       "        vertical-align: middle;\n",
       "    }\n",
       "\n",
       "    .dataframe tbody tr th {\n",
       "        vertical-align: top;\n",
       "    }\n",
       "\n",
       "    .dataframe thead th {\n",
       "        text-align: right;\n",
       "    }\n",
       "</style>\n",
       "<table border=\"1\" class=\"dataframe\">\n",
       "  <thead>\n",
       "    <tr style=\"text-align: right;\">\n",
       "      <th></th>\n",
       "      <th>id</th>\n",
       "      <th>name</th>\n",
       "      <th>username</th>\n",
       "    </tr>\n",
       "  </thead>\n",
       "  <tbody>\n",
       "    <tr>\n",
       "      <th>0</th>\n",
       "      <td>1742</td>\n",
       "      <td>H.-S. Philip Wong</td>\n",
       "      <td>hspwong</td>\n",
       "    </tr>\n",
       "    <tr>\n",
       "      <th>1</th>\n",
       "      <td>1767</td>\n",
       "      <td>Osama Munir Nayfeh</td>\n",
       "      <td>onayfeh</td>\n",
       "    </tr>\n",
       "  </tbody>\n",
       "</table>\n",
       "</div>"
      ],
      "text/plain": [
       "     id                name username\n",
       "0  1742   H.-S. Philip Wong  hspwong\n",
       "1  1767  Osama Munir Nayfeh  onayfeh"
      ]
     },
     "metadata": {},
     "output_type": "display_data"
    }
   ],
   "source": [
    "# need to obtain usernames\n",
    "sql_query = \"select id,name,username from jos_users where id in \"+str(tuple(rw_ids2))\n",
    "rw_researchers = pd.read_sql_query(sql_query,nanohub_db)\n",
    "display(rw_researchers.head(2))"
   ]
  },
  {
   "cell_type": "code",
   "execution_count": 18,
   "metadata": {
    "execution": {
     "iopub.execute_input": "2022-02-19T23:41:08.395381Z",
     "iopub.status.busy": "2022-02-19T23:41:08.394368Z",
     "iopub.status.idle": "2022-02-19T23:41:08.408625Z",
     "shell.execute_reply": "2022-02-19T23:41:08.406846Z",
     "shell.execute_reply.started": "2022-02-19T23:41:08.395342Z"
    },
    "tags": []
   },
   "outputs": [],
   "source": [
    "## need to obtain the username/ids from those people without nh ids explicitly spec'd in jos_citations\n",
    "ns2 = np.array(list(t1_authors3))[need_search]\n",
    "ns2 = ns2[1:]"
   ]
  },
  {
   "cell_type": "code",
   "execution_count": 19,
   "metadata": {
    "execution": {
     "iopub.execute_input": "2022-02-19T23:41:08.412603Z",
     "iopub.status.busy": "2022-02-19T23:41:08.412107Z",
     "iopub.status.idle": "2022-02-19T23:41:08.430859Z",
     "shell.execute_reply": "2022-02-19T23:41:08.429545Z",
     "shell.execute_reply.started": "2022-02-19T23:41:08.412566Z"
    },
    "tags": []
   },
   "outputs": [
    {
     "data": {
      "text/plain": [
       "('Pranay Baikadi', 'C Bran', 'Arben Merkoci', 'U. Eswaran', 'Cheng-Kok Koh')"
      ]
     },
     "execution_count": 19,
     "metadata": {},
     "output_type": "execute_result"
    }
   ],
   "source": [
    "tuple(ns2)[:5]"
   ]
  },
  {
   "cell_type": "code",
   "execution_count": 20,
   "metadata": {
    "execution": {
     "iopub.execute_input": "2022-02-19T23:41:08.438448Z",
     "iopub.status.busy": "2022-02-19T23:41:08.433057Z",
     "iopub.status.idle": "2022-02-19T23:41:08.707927Z",
     "shell.execute_reply": "2022-02-19T23:41:08.705475Z",
     "shell.execute_reply.started": "2022-02-19T23:41:08.438373Z"
    },
    "tags": []
   },
   "outputs": [
    {
     "data": {
      "text/html": [
       "<div>\n",
       "<style scoped>\n",
       "    .dataframe tbody tr th:only-of-type {\n",
       "        vertical-align: middle;\n",
       "    }\n",
       "\n",
       "    .dataframe tbody tr th {\n",
       "        vertical-align: top;\n",
       "    }\n",
       "\n",
       "    .dataframe thead th {\n",
       "        text-align: right;\n",
       "    }\n",
       "</style>\n",
       "<table border=\"1\" class=\"dataframe\">\n",
       "  <thead>\n",
       "    <tr style=\"text-align: right;\">\n",
       "      <th></th>\n",
       "      <th>id</th>\n",
       "      <th>name</th>\n",
       "      <th>username</th>\n",
       "    </tr>\n",
       "  </thead>\n",
       "  <tbody>\n",
       "    <tr>\n",
       "      <th>0</th>\n",
       "      <td>282167</td>\n",
       "      <td>Aarthi Narayanan</td>\n",
       "      <td>aarthin0102</td>\n",
       "    </tr>\n",
       "    <tr>\n",
       "      <th>1</th>\n",
       "      <td>280280</td>\n",
       "      <td>Abani Patra</td>\n",
       "      <td>apatra01</td>\n",
       "    </tr>\n",
       "  </tbody>\n",
       "</table>\n",
       "</div>"
      ],
      "text/plain": [
       "       id              name     username\n",
       "0  282167  Aarthi Narayanan  aarthin0102\n",
       "1  280280       Abani Patra     apatra01"
      ]
     },
     "metadata": {},
     "output_type": "display_data"
    }
   ],
   "source": [
    "sql_query = \"select id,name,username from jos_users where name in \"+str(tuple(ns2))\n",
    "ns2_researchers = pd.read_sql_query(sql_query,nanohub_db)\n",
    "display(ns2_researchers.head(2))"
   ]
  },
  {
   "cell_type": "code",
   "execution_count": 21,
   "metadata": {
    "execution": {
     "iopub.execute_input": "2022-02-19T23:41:08.711893Z",
     "iopub.status.busy": "2022-02-19T23:41:08.709968Z",
     "iopub.status.idle": "2022-02-19T23:41:08.725935Z",
     "shell.execute_reply": "2022-02-19T23:41:08.721777Z",
     "shell.execute_reply.started": "2022-02-19T23:41:08.711837Z"
    },
    "tags": []
   },
   "outputs": [
    {
     "name": "stdout",
     "output_type": "stream",
     "text": [
      "3046\n"
     ]
    }
   ],
   "source": [
    "## combine the usernames into one data structure\n",
    "researcher_usernames = rw_researchers['username'].to_list() + ns2_researchers['username'].to_list()\n",
    "print(len(researcher_usernames))"
   ]
  },
  {
   "cell_type": "code",
   "execution_count": 22,
   "metadata": {
    "execution": {
     "iopub.execute_input": "2022-02-19T23:41:08.730602Z",
     "iopub.status.busy": "2022-02-19T23:41:08.729475Z",
     "iopub.status.idle": "2022-02-19T23:41:08.739677Z",
     "shell.execute_reply": "2022-02-19T23:41:08.736391Z",
     "shell.execute_reply.started": "2022-02-19T23:41:08.730534Z"
    },
    "tags": []
   },
   "outputs": [],
   "source": [
    "researcher_track = []"
   ]
  },
  {
   "cell_type": "code",
   "execution_count": 23,
   "metadata": {
    "execution": {
     "iopub.execute_input": "2022-02-19T23:41:08.744680Z",
     "iopub.status.busy": "2022-02-19T23:41:08.743548Z",
     "iopub.status.idle": "2022-02-19T23:41:08.756913Z",
     "shell.execute_reply": "2022-02-19T23:41:08.754104Z",
     "shell.execute_reply.started": "2022-02-19T23:41:08.744615Z"
    },
    "tags": []
   },
   "outputs": [
    {
     "name": "stdout",
     "output_type": "stream",
     "text": [
      "2022-02-19 23:41:08.747375\n"
     ]
    }
   ],
   "source": [
    "today = datetime.datetime.today()\n",
    "print(today)"
   ]
  },
  {
   "cell_type": "code",
   "execution_count": 24,
   "metadata": {
    "execution": {
     "iopub.execute_input": "2022-02-19T23:41:08.760231Z",
     "iopub.status.busy": "2022-02-19T23:41:08.759497Z",
     "iopub.status.idle": "2022-02-19T23:41:08.769321Z",
     "shell.execute_reply": "2022-02-19T23:41:08.767875Z",
     "shell.execute_reply.started": "2022-02-19T23:41:08.760185Z"
    }
   },
   "outputs": [],
   "source": [
    "## caching check \n",
    "try:\n",
    "    user_breakdown_df = pd.read_csv(cwd+'/cached_data/nh_user_breakdown.csv')\n",
    "    print(user_breakdown_df)\n",
    "    cache_flag = True\n",
    "except:\n",
    "    cache_flag = False"
   ]
  },
  {
   "cell_type": "code",
   "execution_count": 25,
   "metadata": {
    "execution": {
     "iopub.execute_input": "2022-02-19T23:41:08.774730Z",
     "iopub.status.busy": "2022-02-19T23:41:08.773844Z",
     "iopub.status.idle": "2022-02-19T23:41:08.783096Z",
     "shell.execute_reply": "2022-02-19T23:41:08.781667Z",
     "shell.execute_reply.started": "2022-02-19T23:41:08.774678Z"
    },
    "tags": []
   },
   "outputs": [],
   "source": [
    "## determine starting year\n",
    "#if cache_flag == False:\n",
    "start_year_base = 1999 #2000\n",
    "#else:\n",
    "#     print('check the saved file')\n",
    "#    start_year_base = int(user_breakdown_df['year_month'].to_list()[-1][:4])\n",
    "    \n",
    "    "
   ]
  },
  {
   "cell_type": "code",
   "execution_count": 26,
   "metadata": {
    "execution": {
     "iopub.execute_input": "2022-02-19T23:41:08.786352Z",
     "iopub.status.busy": "2022-02-19T23:41:08.785526Z",
     "iopub.status.idle": "2022-02-19T23:41:08.796212Z",
     "shell.execute_reply": "2022-02-19T23:41:08.794779Z",
     "shell.execute_reply.started": "2022-02-19T23:41:08.786301Z"
    },
    "tags": []
   },
   "outputs": [],
   "source": [
    "#print(user_breakdown_df['year_month'].to_list()[-1][:4])"
   ]
  },
  {
   "cell_type": "code",
   "execution_count": 27,
   "metadata": {
    "execution": {
     "iopub.execute_input": "2022-02-19T23:41:08.798012Z",
     "iopub.status.busy": "2022-02-19T23:41:08.797616Z",
     "iopub.status.idle": "2022-02-19T23:41:08.811048Z",
     "shell.execute_reply": "2022-02-19T23:41:08.807033Z",
     "shell.execute_reply.started": "2022-02-19T23:41:08.797984Z"
    },
    "tags": []
   },
   "outputs": [],
   "source": [
    "from copy import deepcopy"
   ]
  },
  {
   "cell_type": "code",
   "execution_count": 28,
   "metadata": {
    "execution": {
     "iopub.execute_input": "2022-02-19T23:41:08.817308Z",
     "iopub.status.busy": "2022-02-19T23:41:08.815994Z",
     "iopub.status.idle": "2022-02-20T00:04:25.168912Z",
     "shell.execute_reply": "2022-02-20T00:04:25.167087Z",
     "shell.execute_reply.started": "2022-02-19T23:41:08.817184Z"
    },
    "tags": []
   },
   "outputs": [
    {
     "name": "stdout",
     "output_type": "stream",
     "text": [
      "start year: 2000\n",
      "start year: 2001\n",
      "start year: 2002\n",
      "start year: 2003\n",
      "start year: 2004\n",
      "start year: 2005\n",
      "start year: 2006\n",
      "start year: 2007\n",
      "start year: 2008\n",
      "start year: 2009\n",
      "start year: 2010\n",
      "start year: 2011\n",
      "start year: 2012\n",
      "start year: 2013\n",
      "start year: 2014\n",
      "start year: 2015\n",
      "start year: 2016\n",
      "start year: 2017\n",
      "start year: 2018\n",
      "start year: 2019\n",
      "start year: 2020\n",
      "start year: 2021\n",
      "start year: 2022\n",
      "start year: 2023\n"
     ]
    }
   ],
   "source": [
    "## computer has memory limits, so split toolstart into branches\n",
    "# this filters and finds the research usage in nanohub\n",
    "start_year = deepcopy(start_year_base)\n",
    "while start_year < today.year+1:\n",
    "    start_year += 1\n",
    "    end_date = r\"'\"+str(start_year)+r\"-01-01'\"\n",
    "    start_date = r\"'\"+str(start_year-2)+r\"-01-01'\"\n",
    "    \n",
    "    for i in range(1,13):\n",
    "        if i < 10:\n",
    "            start_date = r\"'\"+str(start_year-1)+r\"-0\"+str(i)+r\"-01'\"\n",
    "            end_date = r\"'\"+str(start_year)+r\"-0\"+str(i)+r\"-01'\"\n",
    "        else:\n",
    "            start_date = r\"'\"+str(start_year-1)+r\"-\"+str(i)+r\"-01'\"\n",
    "            end_date = r\"'\"+str(start_year)+r\"-\"+str(i)+r\"-01'\"\n",
    "\n",
    "        sql_query_researcher = \"select user from toolstart where user in \" + str(tuple(researcher_usernames))\\\n",
    "            +\" and datetime <= \"+end_date+\" and datetime >= \"+start_date\n",
    "        researcher_users = pd.read_sql_query(sql_query_researcher, nanohub_metrics_db)\n",
    "\n",
    "        researcher_track.append(researcher_users.drop_duplicates().shape[0])\n",
    "\n",
    "    print('start year: '+ str(start_year))"
   ]
  },
  {
   "cell_type": "code",
   "execution_count": 29,
   "metadata": {
    "execution": {
     "iopub.execute_input": "2022-02-20T00:04:25.172729Z",
     "iopub.status.busy": "2022-02-20T00:04:25.170739Z",
     "iopub.status.idle": "2022-02-20T00:04:25.184849Z",
     "shell.execute_reply": "2022-02-20T00:04:25.181503Z",
     "shell.execute_reply.started": "2022-02-20T00:04:25.172586Z"
    },
    "tags": []
   },
   "outputs": [],
   "source": [
    "## filter the self study folks against those of researchers\n",
    "# need to pull the researcher sf ids"
   ]
  },
  {
   "cell_type": "code",
   "execution_count": 30,
   "metadata": {
    "execution": {
     "iopub.execute_input": "2022-02-20T00:04:25.188367Z",
     "iopub.status.busy": "2022-02-20T00:04:25.187321Z",
     "iopub.status.idle": "2022-02-20T00:04:25.199830Z",
     "shell.execute_reply": "2022-02-20T00:04:25.196539Z",
     "shell.execute_reply.started": "2022-02-20T00:04:25.188332Z"
    },
    "tags": []
   },
   "outputs": [
    {
     "name": "stdout",
     "output_type": "stream",
     "text": [
      "3046\n"
     ]
    }
   ],
   "source": [
    "researcher_ids = rw_researchers['id'].to_list() + ns2_researchers['id'].to_list()\n",
    "print(len(researcher_ids))"
   ]
  },
  {
   "cell_type": "code",
   "execution_count": 31,
   "metadata": {
    "execution": {
     "iopub.execute_input": "2022-02-20T00:04:25.203510Z",
     "iopub.status.busy": "2022-02-20T00:04:25.202577Z",
     "iopub.status.idle": "2022-02-20T00:04:25.252778Z",
     "shell.execute_reply": "2022-02-20T00:04:25.251564Z",
     "shell.execute_reply.started": "2022-02-20T00:04:25.203472Z"
    },
    "tags": []
   },
   "outputs": [],
   "source": [
    "bool_search2 = np.in1d(np.array(self_study_NH_ids.tolist()),np.array(researcher_ids))"
   ]
  },
  {
   "cell_type": "code",
   "execution_count": 32,
   "metadata": {
    "execution": {
     "iopub.execute_input": "2022-02-20T00:04:25.257294Z",
     "iopub.status.busy": "2022-02-20T00:04:25.255615Z",
     "iopub.status.idle": "2022-02-20T00:04:25.272841Z",
     "shell.execute_reply": "2022-02-20T00:04:25.272199Z",
     "shell.execute_reply.started": "2022-02-20T00:04:25.257248Z"
    },
    "tags": []
   },
   "outputs": [],
   "source": [
    "# Note, researchers can possibly be doubled counted within clusters!!\n",
    "# sf_researchers = np.where(bool_search2)[0].tolist() \n",
    "sf_self_study = np.where(~bool_search2)[0].tolist()"
   ]
  },
  {
   "cell_type": "code",
   "execution_count": 33,
   "metadata": {
    "execution": {
     "iopub.execute_input": "2022-02-20T00:04:25.277400Z",
     "iopub.status.busy": "2022-02-20T00:04:25.274826Z",
     "iopub.status.idle": "2022-02-20T00:04:25.296654Z",
     "shell.execute_reply": "2022-02-20T00:04:25.294344Z",
     "shell.execute_reply.started": "2022-02-20T00:04:25.277336Z"
    },
    "tags": []
   },
   "outputs": [
    {
     "name": "stdout",
     "output_type": "stream",
     "text": [
      "192480\n",
      "194524\n"
     ]
    }
   ],
   "source": [
    "print(len(sf_self_study))\n",
    "print(len(self_study_NH_ids.to_list()))"
   ]
  },
  {
   "cell_type": "code",
   "execution_count": 36,
   "metadata": {
    "execution": {
     "iopub.execute_input": "2022-02-20T00:05:30.680499Z",
     "iopub.status.busy": "2022-02-20T00:05:30.676870Z",
     "iopub.status.idle": "2022-02-20T00:05:30.817213Z",
     "shell.execute_reply": "2022-02-20T00:05:30.812321Z",
     "shell.execute_reply.started": "2022-02-20T00:05:30.680426Z"
    },
    "tags": []
   },
   "outputs": [],
   "source": [
    "sf_contact_ids = contacts_df['nanoHUB_user_ID__c'][sf_self_study]"
   ]
  },
  {
   "cell_type": "code",
   "execution_count": 37,
   "metadata": {
    "execution": {
     "iopub.execute_input": "2022-02-20T00:05:30.825040Z",
     "iopub.status.busy": "2022-02-20T00:05:30.824232Z",
     "iopub.status.idle": "2022-02-20T00:05:30.875854Z",
     "shell.execute_reply": "2022-02-20T00:05:30.873985Z",
     "shell.execute_reply.started": "2022-02-20T00:05:30.824949Z"
    },
    "tags": []
   },
   "outputs": [
    {
     "data": {
      "text/html": [
       "<div>\n",
       "<style scoped>\n",
       "    .dataframe tbody tr th:only-of-type {\n",
       "        vertical-align: middle;\n",
       "    }\n",
       "\n",
       "    .dataframe tbody tr th {\n",
       "        vertical-align: top;\n",
       "    }\n",
       "\n",
       "    .dataframe thead th {\n",
       "        text-align: right;\n",
       "    }\n",
       "</style>\n",
       "<table border=\"1\" class=\"dataframe\">\n",
       "  <thead>\n",
       "    <tr style=\"text-align: right;\">\n",
       "      <th></th>\n",
       "      <th>nanoHUB_user_ID__c</th>\n",
       "    </tr>\n",
       "  </thead>\n",
       "  <tbody>\n",
       "    <tr>\n",
       "      <th>0</th>\n",
       "      <td>998</td>\n",
       "    </tr>\n",
       "    <tr>\n",
       "      <th>1</th>\n",
       "      <td>1000</td>\n",
       "    </tr>\n",
       "    <tr>\n",
       "      <th>2</th>\n",
       "      <td>1683</td>\n",
       "    </tr>\n",
       "    <tr>\n",
       "      <th>3</th>\n",
       "      <td>1684</td>\n",
       "    </tr>\n",
       "    <tr>\n",
       "      <th>4</th>\n",
       "      <td>1685</td>\n",
       "    </tr>\n",
       "    <tr>\n",
       "      <th>...</th>\n",
       "      <td>...</td>\n",
       "    </tr>\n",
       "    <tr>\n",
       "      <th>192475</th>\n",
       "      <td>237375</td>\n",
       "    </tr>\n",
       "    <tr>\n",
       "      <th>192476</th>\n",
       "      <td>237376</td>\n",
       "    </tr>\n",
       "    <tr>\n",
       "      <th>192477</th>\n",
       "      <td>237377</td>\n",
       "    </tr>\n",
       "    <tr>\n",
       "      <th>192478</th>\n",
       "      <td>237378</td>\n",
       "    </tr>\n",
       "    <tr>\n",
       "      <th>192479</th>\n",
       "      <td>237379</td>\n",
       "    </tr>\n",
       "  </tbody>\n",
       "</table>\n",
       "<p>192480 rows × 1 columns</p>\n",
       "</div>"
      ],
      "text/plain": [
       "        nanoHUB_user_ID__c\n",
       "0                      998\n",
       "1                     1000\n",
       "2                     1683\n",
       "3                     1684\n",
       "4                     1685\n",
       "...                    ...\n",
       "192475              237375\n",
       "192476              237376\n",
       "192477              237377\n",
       "192478              237378\n",
       "192479              237379\n",
       "\n",
       "[192480 rows x 1 columns]"
      ]
     },
     "metadata": {},
     "output_type": "display_data"
    }
   ],
   "source": [
    "sf_contact_ids = sf_contact_ids.reset_index()\n",
    "sf_contact_ids = sf_contact_ids.drop(columns='index')\n",
    "display(sf_contact_ids)"
   ]
  },
  {
   "cell_type": "code",
   "execution_count": 38,
   "metadata": {
    "execution": {
     "iopub.execute_input": "2022-02-20T00:05:30.880801Z",
     "iopub.status.busy": "2022-02-20T00:05:30.880115Z",
     "iopub.status.idle": "2022-02-20T00:05:30.985105Z",
     "shell.execute_reply": "2022-02-20T00:05:30.979195Z",
     "shell.execute_reply.started": "2022-02-20T00:05:30.880653Z"
    },
    "tags": []
   },
   "outputs": [
    {
     "data": {
      "text/plain": [
       "(998, 1000, 1683, 1684, 1685)"
      ]
     },
     "execution_count": 38,
     "metadata": {},
     "output_type": "execute_result"
    }
   ],
   "source": [
    "tuple(sf_contact_ids['nanoHUB_user_ID__c'])[:5]"
   ]
  },
  {
   "cell_type": "code",
   "execution_count": 39,
   "metadata": {
    "execution": {
     "iopub.execute_input": "2022-02-20T00:05:30.999874Z",
     "iopub.status.busy": "2022-02-20T00:05:30.996799Z",
     "iopub.status.idle": "2022-02-20T00:05:31.051461Z",
     "shell.execute_reply": "2022-02-20T00:05:31.048072Z",
     "shell.execute_reply.started": "2022-02-20T00:05:30.999672Z"
    },
    "tags": []
   },
   "outputs": [
    {
     "data": {
      "text/plain": [
       "(998, 1000, 1683, 1684, 1685)"
      ]
     },
     "execution_count": 39,
     "metadata": {},
     "output_type": "execute_result"
    }
   ],
   "source": [
    "tuple(self_study_NH_ids.dropna().to_list())[:5]"
   ]
  },
  {
   "cell_type": "code",
   "execution_count": 40,
   "metadata": {
    "execution": {
     "iopub.execute_input": "2022-02-20T00:05:31.056179Z",
     "iopub.status.busy": "2022-02-20T00:05:31.054489Z",
     "iopub.status.idle": "2022-02-20T00:05:31.068767Z",
     "shell.execute_reply": "2022-02-20T00:05:31.064447Z",
     "shell.execute_reply.started": "2022-02-20T00:05:31.056053Z"
    },
    "tags": []
   },
   "outputs": [],
   "source": [
    "## loading in toolstart"
   ]
  },
  {
   "cell_type": "code",
   "execution_count": 41,
   "metadata": {
    "execution": {
     "iopub.execute_input": "2022-02-20T00:05:31.073664Z",
     "iopub.status.busy": "2022-02-20T00:05:31.072986Z",
     "iopub.status.idle": "2022-02-20T00:05:35.242943Z",
     "shell.execute_reply": "2022-02-20T00:05:35.240757Z",
     "shell.execute_reply.started": "2022-02-20T00:05:31.073536Z"
    },
    "tags": []
   },
   "outputs": [],
   "source": [
    "# clustered user usernames\n",
    "tc_query = 'select id,username from jos_users where id in ' +str(tuple(clustered_NH_ids))\n",
    "clustered_NH_username = pd.read_sql_query(tc_query,nanohub_db)"
   ]
  },
  {
   "cell_type": "code",
   "execution_count": 42,
   "metadata": {
    "execution": {
     "iopub.execute_input": "2022-02-20T00:05:35.248121Z",
     "iopub.status.busy": "2022-02-20T00:05:35.247682Z",
     "iopub.status.idle": "2022-02-20T00:05:41.781429Z",
     "shell.execute_reply": "2022-02-20T00:05:41.780092Z",
     "shell.execute_reply.started": "2022-02-20T00:05:35.248078Z"
    },
    "tags": []
   },
   "outputs": [],
   "source": [
    "# self study user usernames\n",
    "ts_query = 'select id,username from jos_users where id in ' + str(tuple(self_study_NH_ids.dropna().to_list())) \n",
    "#sf_contact_ids['nanoHUB_user_ID__c']))\n",
    "ss_NH_username = pd.read_sql_query(ts_query,nanohub_db)"
   ]
  },
  {
   "cell_type": "code",
   "execution_count": 43,
   "metadata": {
    "execution": {
     "iopub.execute_input": "2022-02-20T00:05:41.783095Z",
     "iopub.status.busy": "2022-02-20T00:05:41.782836Z",
     "iopub.status.idle": "2022-02-20T00:05:41.830293Z",
     "shell.execute_reply": "2022-02-20T00:05:41.827842Z",
     "shell.execute_reply.started": "2022-02-20T00:05:41.783053Z"
    },
    "tags": []
   },
   "outputs": [],
   "source": [
    "## cache the researchers, self-study, and clustered users\n",
    "cache_r_nhid = pd.DataFrame()\n",
    "cache_r_nhid['nhid'] = researcher_ids\n",
    "\n",
    "cache_ss_nhid = pd.DataFrame()\n",
    "cache_ss_nhid['nhid'] = ss_NH_username['id']\n",
    "cache_ss_nhid['username'] = ss_NH_username['username']\n",
    "\n",
    "cache_c_nhid = pd.DataFrame()\n",
    "cache_c_nhid['nhid'] = clustered_NH_username['id']\n",
    "cache_c_nhid['username'] = clustered_NH_username['username']"
   ]
  },
  {
   "cell_type": "code",
   "execution_count": 44,
   "metadata": {
    "execution": {
     "iopub.execute_input": "2022-02-20T00:05:41.832964Z",
     "iopub.status.busy": "2022-02-20T00:05:41.832676Z",
     "iopub.status.idle": "2022-02-20T00:05:41.851221Z",
     "shell.execute_reply": "2022-02-20T00:05:41.848508Z",
     "shell.execute_reply.started": "2022-02-20T00:05:41.832936Z"
    },
    "tags": []
   },
   "outputs": [
    {
     "name": "stdout",
     "output_type": "stream",
     "text": [
      "   nhid\n",
      "0  1742\n",
      "1  1767\n",
      "     nhid username\n",
      "0  211547  -100005\n",
      "1  211574  -100024\n",
      "     nhid    username\n",
      "0  166284  0.yao.yuan\n",
      "1  344801  007sribabu\n"
     ]
    }
   ],
   "source": [
    "print(cache_r_nhid.head(2))\n",
    "print(cache_ss_nhid.head(2))\n",
    "print(cache_c_nhid.head(2))"
   ]
  },
  {
   "cell_type": "code",
   "execution_count": 48,
   "metadata": {
    "execution": {
     "iopub.execute_input": "2022-02-20T00:06:22.982876Z",
     "iopub.status.busy": "2022-02-20T00:06:22.982186Z",
     "iopub.status.idle": "2022-02-20T00:06:26.769118Z",
     "shell.execute_reply": "2022-02-20T00:06:26.766656Z",
     "shell.execute_reply.started": "2022-02-20T00:06:22.982765Z"
    },
    "tags": []
   },
   "outputs": [],
   "source": [
    "cache_r_nhid.to_csv(cwd+'/cached_data/researcher_ids.csv')\n",
    "cache_ss_nhid.to_csv(cwd+'/cached_data/ss_ids.csv')\n",
    "cache_c_nhid.to_csv(cwd+'/cached_data/class_ids.csv')"
   ]
  },
  {
   "cell_type": "code",
   "execution_count": null,
   "metadata": {},
   "outputs": [],
   "source": []
  },
  {
   "cell_type": "code",
   "execution_count": 49,
   "metadata": {
    "execution": {
     "iopub.execute_input": "2022-02-20T00:06:26.772742Z",
     "iopub.status.busy": "2022-02-20T00:06:26.771494Z",
     "iopub.status.idle": "2022-02-20T00:06:26.779070Z",
     "shell.execute_reply": "2022-02-20T00:06:26.777398Z",
     "shell.execute_reply.started": "2022-02-20T00:06:26.772676Z"
    },
    "tags": []
   },
   "outputs": [],
   "source": [
    "# clustered_NH_username2;researcher_NH_username2;self_NH_username2\n",
    "clustered_track = []\n",
    "self_track = []\n",
    "\n",
    "# clustered_track_per = []\n",
    "# self_track_per = []\n",
    "# researcher_track_per = []"
   ]
  },
  {
   "cell_type": "code",
   "execution_count": 50,
   "metadata": {
    "execution": {
     "iopub.execute_input": "2022-02-20T00:06:26.788654Z",
     "iopub.status.busy": "2022-02-20T00:06:26.784300Z",
     "iopub.status.idle": "2022-02-20T00:06:26.803467Z",
     "shell.execute_reply": "2022-02-20T00:06:26.801202Z",
     "shell.execute_reply.started": "2022-02-20T00:06:26.788148Z"
    },
    "tags": []
   },
   "outputs": [
    {
     "data": {
      "text/plain": [
       "(194524, 2)"
      ]
     },
     "execution_count": 50,
     "metadata": {},
     "output_type": "execute_result"
    }
   ],
   "source": [
    "ss_NH_username.shape #old"
   ]
  },
  {
   "cell_type": "code",
   "execution_count": null,
   "metadata": {},
   "outputs": [],
   "source": []
  },
  {
   "cell_type": "code",
   "execution_count": 51,
   "metadata": {
    "execution": {
     "iopub.execute_input": "2022-02-20T00:06:26.809408Z",
     "iopub.status.busy": "2022-02-20T00:06:26.808163Z",
     "iopub.status.idle": "2022-02-20T02:20:18.089939Z",
     "shell.execute_reply": "2022-02-20T02:20:18.086862Z",
     "shell.execute_reply.started": "2022-02-20T00:06:26.809301Z"
    },
    "tags": []
   },
   "outputs": [
    {
     "name": "stdout",
     "output_type": "stream",
     "text": [
      "start year: 2000\n",
      "start year: 2001\n",
      "start year: 2002\n",
      "start year: 2003\n",
      "start year: 2004\n",
      "start year: 2005\n",
      "start year: 2006\n",
      "start year: 2007\n",
      "start year: 2008\n",
      "start year: 2009\n",
      "start year: 2010\n",
      "start year: 2011\n",
      "start year: 2012\n",
      "start year: 2013\n",
      "start year: 2014\n",
      "start year: 2015\n",
      "start year: 2016\n",
      "start year: 2017\n",
      "start year: 2018\n",
      "start year: 2019\n",
      "start year: 2020\n",
      "start year: 2021\n",
      "start year: 2022\n",
      "start year: 2023\n"
     ]
    }
   ],
   "source": [
    "## computer has memory limits, so split toolstart into branches\n",
    "start_year = deepcopy(start_year_base)\n",
    "\n",
    "while start_year < today.year+1:\n",
    "    start_year += 1\n",
    "    \n",
    "    for i in range(1,13):\n",
    "        if i < 10:\n",
    "            start_date = r\"'\"+str(start_year-1)+r\"-0\"+str(i)+r\"-01'\"\n",
    "            end_date = r\"'\"+str(start_year)+r\"-0\"+str(i)+r\"-01'\"\n",
    "        else:\n",
    "            start_date = r\"'\"+str(start_year-1)+r\"-\"+str(i)+r\"-01'\"\n",
    "            end_date = r\"'\"+str(start_year)+r\"-\"+str(i)+r\"-01'\"\n",
    "        \n",
    "#         sql_query_clustered = \"select user from toolstart where user in \" + str(tuple(clustered_NH_username2['username']))\\\n",
    "#             +\" and datetime <= \"+end_date+\" and datetime >= \"+start_date\n",
    "        sql_query_clustered = \"select user from toolstart where user in \" + str(tuple(clustered_NH_username['username']))\\\n",
    "            +\" and datetime <= \"+end_date+\" and datetime >= \"+start_date\n",
    "        clustered_users = pd.read_sql_query(sql_query_clustered, nanohub_metrics_db)\n",
    "        \n",
    "#         sql_query_self = \"select user from toolstart where user in \" + str(tuple(self_NH_username2['username']))\\\n",
    "#             +\" and user != 'instanton' and user != 'gridstat' and datetime <= \"+end_date+\" and datetime >= \"+start_date\n",
    "        sql_query_self = \"select user from toolstart where user in \" + str(tuple(ss_NH_username['username']))\\\n",
    "            +\" and user != 'instanton' and user != 'gridstat' and datetime <= \"+end_date+\" and datetime >= \"+start_date\n",
    "        self_users = pd.read_sql_query(sql_query_self, nanohub_metrics_db) #engine_metrics #.drop_duplicates()\n",
    "        \n",
    "        clustered_track.append(clustered_users.drop_duplicates().shape[0])\n",
    "        self_track.append(self_users.drop_duplicates().shape[0])\n",
    "#         print('start_date: '+start_date)\n",
    "#         print('end_date: '+end_date)  \n",
    "    print('start year: '+str(start_year))"
   ]
  },
  {
   "cell_type": "code",
   "execution_count": null,
   "metadata": {},
   "outputs": [],
   "source": []
  },
  {
   "cell_type": "code",
   "execution_count": 52,
   "metadata": {
    "execution": {
     "iopub.execute_input": "2022-02-20T02:20:18.093899Z",
     "iopub.status.busy": "2022-02-20T02:20:18.092618Z",
     "iopub.status.idle": "2022-02-20T02:20:18.107556Z",
     "shell.execute_reply": "2022-02-20T02:20:18.104481Z",
     "shell.execute_reply.started": "2022-02-20T02:20:18.093780Z"
    },
    "tags": []
   },
   "outputs": [],
   "source": [
    "all_months_list = list()\n",
    "for this_year in range(start_year_base+1,today.year+2):\n",
    "    if cache_flag == True:\n",
    "        for this_month in range(1,today.month+1):\n",
    "            all_months_list.append(datetime.datetime(this_year, this_month, 1))\n",
    "    else:\n",
    "        for this_month in range(1,12+1):\n",
    "            all_months_list.append(datetime.datetime(this_year, this_month, 1))"
   ]
  },
  {
   "cell_type": "code",
   "execution_count": 53,
   "metadata": {
    "execution": {
     "iopub.execute_input": "2022-02-20T02:20:18.111195Z",
     "iopub.status.busy": "2022-02-20T02:20:18.109644Z",
     "iopub.status.idle": "2022-02-20T02:20:18.125057Z",
     "shell.execute_reply": "2022-02-20T02:20:18.122090Z",
     "shell.execute_reply.started": "2022-02-20T02:20:18.111133Z"
    },
    "tags": []
   },
   "outputs": [
    {
     "name": "stdout",
     "output_type": "stream",
     "text": [
      "288\n",
      "288\n",
      "288\n"
     ]
    }
   ],
   "source": [
    "print(len(clustered_track))\n",
    "print(len(all_months_list))\n",
    "print(len(researcher_track))"
   ]
  },
  {
   "cell_type": "code",
   "execution_count": 54,
   "metadata": {
    "execution": {
     "iopub.execute_input": "2022-02-20T02:20:18.129804Z",
     "iopub.status.busy": "2022-02-20T02:20:18.129178Z",
     "iopub.status.idle": "2022-02-20T02:20:18.152867Z",
     "shell.execute_reply": "2022-02-20T02:20:18.150196Z",
     "shell.execute_reply.started": "2022-02-20T02:20:18.129762Z"
    },
    "tags": []
   },
   "outputs": [],
   "source": [
    "#print(user_breakdown_df2.head())"
   ]
  },
  {
   "cell_type": "code",
   "execution_count": 55,
   "metadata": {
    "execution": {
     "iopub.execute_input": "2022-02-20T02:20:18.158823Z",
     "iopub.status.busy": "2022-02-20T02:20:18.157869Z",
     "iopub.status.idle": "2022-02-20T02:20:18.219803Z",
     "shell.execute_reply": "2022-02-20T02:20:18.215628Z",
     "shell.execute_reply.started": "2022-02-20T02:20:18.158757Z"
    },
    "tags": []
   },
   "outputs": [
    {
     "data": {
      "text/html": [
       "<div>\n",
       "<style scoped>\n",
       "    .dataframe tbody tr th:only-of-type {\n",
       "        vertical-align: middle;\n",
       "    }\n",
       "\n",
       "    .dataframe tbody tr th {\n",
       "        vertical-align: top;\n",
       "    }\n",
       "\n",
       "    .dataframe thead th {\n",
       "        text-align: right;\n",
       "    }\n",
       "</style>\n",
       "<table border=\"1\" class=\"dataframe\">\n",
       "  <thead>\n",
       "    <tr style=\"text-align: right;\">\n",
       "      <th></th>\n",
       "      <th>year_month</th>\n",
       "      <th>clustered_track</th>\n",
       "      <th>self_track</th>\n",
       "      <th>researcher_track</th>\n",
       "    </tr>\n",
       "  </thead>\n",
       "  <tbody>\n",
       "    <tr>\n",
       "      <th>0</th>\n",
       "      <td>2000-01-01</td>\n",
       "      <td>0</td>\n",
       "      <td>0</td>\n",
       "      <td>0</td>\n",
       "    </tr>\n",
       "    <tr>\n",
       "      <th>1</th>\n",
       "      <td>2000-02-01</td>\n",
       "      <td>0</td>\n",
       "      <td>0</td>\n",
       "      <td>0</td>\n",
       "    </tr>\n",
       "  </tbody>\n",
       "</table>\n",
       "</div>"
      ],
      "text/plain": [
       "  year_month  clustered_track  self_track  researcher_track\n",
       "0 2000-01-01                0           0                 0\n",
       "1 2000-02-01                0           0                 0"
      ]
     },
     "metadata": {},
     "output_type": "display_data"
    }
   ],
   "source": [
    "\n",
    "if cache_flag == True:\n",
    "    user_breakdown_df2 = pd.DataFrame()\n",
    "    user_breakdown_df2['year_month'] = all_months_list\n",
    "    user_breakdown_df2['clustered_track'] = clustered_track\n",
    "    user_breakdown_df2['self_track'] = self_track\n",
    "    user_breakdown_df2['researcher_track'] = researcher_track\n",
    "    \n",
    "    user_breakdown_df = pd.concat([user_breakdown_df, user_breakdown_df2], ignore_index=True)\n",
    "    display(user_breakdown_df.head(2))\n",
    "else:\n",
    "    user_breakdown_df = pd.DataFrame()\n",
    "    if today.month == 12:\n",
    "        user_breakdown_df['year_month'] = all_months_list #months_bin['year_month'].to_list()[13:]\n",
    "        user_breakdown_df['clustered_track'] = clustered_track#[:len(all_months_list)]\n",
    "        user_breakdown_df['self_track'] = self_track#[:len(all_months_list)]\n",
    "        user_breakdown_df['researcher_track'] = researcher_track#[:len(all_months_list)]        \n",
    "    else:\n",
    "        user_breakdown_df['year_month'] = all_months_list #-(12-today.month)\n",
    "        user_breakdown_df['clustered_track'] = clustered_track#[:len(all_months_list[:])]\n",
    "        user_breakdown_df['self_track'] = self_track#[:len(all_months_list[:])]\n",
    "        user_breakdown_df['researcher_track'] = researcher_track#[:len(all_months_list[:])]\n",
    "    display(user_breakdown_df.head(2))"
   ]
  },
  {
   "cell_type": "code",
   "execution_count": 56,
   "metadata": {
    "execution": {
     "iopub.execute_input": "2022-02-20T02:20:18.225687Z",
     "iopub.status.busy": "2022-02-20T02:20:18.224493Z",
     "iopub.status.idle": "2022-02-20T02:20:18.233797Z",
     "shell.execute_reply": "2022-02-20T02:20:18.230505Z",
     "shell.execute_reply.started": "2022-02-20T02:20:18.225641Z"
    },
    "tags": []
   },
   "outputs": [],
   "source": [
    "# user_breakdown_df.to_csv(cwd+'/cached_data/temp.csv')"
   ]
  },
  {
   "cell_type": "code",
   "execution_count": 57,
   "metadata": {
    "execution": {
     "iopub.execute_input": "2022-02-20T02:20:18.239032Z",
     "iopub.status.busy": "2022-02-20T02:20:18.238015Z",
     "iopub.status.idle": "2022-02-20T02:20:18.256449Z",
     "shell.execute_reply": "2022-02-20T02:20:18.255739Z",
     "shell.execute_reply.started": "2022-02-20T02:20:18.238884Z"
    },
    "tags": []
   },
   "outputs": [],
   "source": [
    "import re"
   ]
  },
  {
   "cell_type": "code",
   "execution_count": 58,
   "metadata": {
    "execution": {
     "iopub.execute_input": "2022-02-20T02:20:18.263463Z",
     "iopub.status.busy": "2022-02-20T02:20:18.262267Z",
     "iopub.status.idle": "2022-02-20T02:20:18.301007Z",
     "shell.execute_reply": "2022-02-20T02:20:18.299727Z",
     "shell.execute_reply.started": "2022-02-20T02:20:18.263395Z"
    },
    "tags": []
   },
   "outputs": [],
   "source": [
    "## read the dev_flags.txt to determine where to save\n",
    "with open(cwd+'/dev_flags.txt','r') as f:\n",
    "    raw_flags = f.read()\n",
    "flag_pattern = re.compile(r'= \\w+')\n",
    "flags1 = re.findall(flag_pattern,raw_flags)    \n",
    "flags_result = [i[2:] for i in flags1]\n",
    "dev_flag = flags_result[0]\n",
    "prod_flag = flags_result[1]"
   ]
  },
  {
   "cell_type": "code",
   "execution_count": 59,
   "metadata": {
    "execution": {
     "iopub.execute_input": "2022-02-20T02:20:18.312925Z",
     "iopub.status.busy": "2022-02-20T02:20:18.306859Z",
     "iopub.status.idle": "2022-02-20T02:20:28.164648Z",
     "shell.execute_reply": "2022-02-20T02:20:28.163368Z",
     "shell.execute_reply.started": "2022-02-20T02:20:18.312853Z"
    },
    "tags": []
   },
   "outputs": [
    {
     "name": "stdout",
     "output_type": "stream",
     "text": [
      "[WARNING] [backend_ps - matplotlib.backends.backend_ps]: The PostScript backend does not support transparency; partially transparent artists will be rendered opaque. [backend_ps._is_transparent:303]\n"
     ]
    },
    {
     "data": {
      "image/png": "[encoded data removed]",
      "text/plain": [
       "<Figure size 648x432 with 1 Axes>"
      ]
     },
     "metadata": {},
     "output_type": "display_data"
    }
   ],
   "source": [
    "import seaborn as sns\n",
    "import matplotlib.pyplot as plt\n",
    "sns.set()\n",
    "sns.set_style(\"whitegrid\")\n",
    "\n",
    "plt.figure(figsize=(9,6))\n",
    "# user_breakdown_df2 = user_breakdown_df.iloc[:-(12-today.month),:]\n",
    "user_breakdown_df2 = user_breakdown_df.iloc[:-12-(12-today.month),:]\n",
    "plt.stackplot(user_breakdown_df2.year_month, \\\n",
    "#               user_breakdown_df2[['clustered_track','self_track']].to_numpy().T, \\\n",
    "#              labels=['Classroom', 'Unclassified'], \\\n",
    "#              colors=['green', 'orange']); #Self-study              \n",
    "              user_breakdown_df2[['clustered_track', 'researcher_track','self_track']].to_numpy().T, \\\n",
    "             labels=['Classroom','Research', 'Unclassified'], \\\n",
    "             colors=['green', 'red', 'orange']); #Self-study\n",
    "\n",
    "plt.legend(loc='upper left')#,fontsize=14);\n",
    "plt.ylabel('12-month Trailing Total')#,fontsize=15)\n",
    "plt.xlim([datetime.datetime(2001,1,1), datetime.datetime(2021,7,1)])#,fontsize=15)\n",
    "# plt.show()\n",
    "\n",
    "if dev_flag == 'True':\n",
    "    plt.savefig(cwd+'/plots_local/300_simusers_class_res_unclass_12months.eps', dpi=1000, bbox_inches='tight')\n",
    "    plt.savefig(cwd+'/plots_local/300_simusers_class_res_unclass_12months.pdf', dpi=1000, bbox_inches='tight')\n",
    "    plt.savefig(cwd+'/plots_local/300_simusers_class_res_unclass_12months.png', dpi=1000, bbox_inches='tight')\n",
    "elif prod_flag == 'True':\n",
    "    plt.savefig(cwd+'/plots_production/300_simusers_class_res_unclass_12months.eps', dpi=1000, bbox_inches='tight')\n",
    "    plt.savefig(cwd+'/plots_production/300_simusers_class_res_unclass_12months.pdf', dpi=1000, bbox_inches='tight')\n",
    "    plt.savefig(cwd+'/plots_production/300_simusers_class_res_unclass_12months.png', dpi=1000, bbox_inches='tight')\n",
    "else:\n",
    "    print('no printing flag is active')"
   ]
  },
  {
   "cell_type": "code",
   "execution_count": 60,
   "metadata": {
    "execution": {
     "iopub.execute_input": "2022-02-20T02:20:28.170508Z",
     "iopub.status.busy": "2022-02-20T02:20:28.166403Z",
     "iopub.status.idle": "2022-02-20T02:20:28.273832Z",
     "shell.execute_reply": "2022-02-20T02:20:28.271709Z",
     "shell.execute_reply.started": "2022-02-20T02:20:28.170427Z"
    },
    "tags": []
   },
   "outputs": [
    {
     "name": "stdout",
     "output_type": "stream",
     "text": [
      "[WARNING] [warnings - py.warnings]: /tmp/ipykernel_1103/3197866797.py:1: SettingWithCopyWarning: \n",
      "A value is trying to be set on a copy of a slice from a DataFrame.\n",
      "Try using .loc[row_indexer,col_indexer] = value instead\n",
      "\n",
      "See the caveats in the documentation: https://pandas.pydata.org/pandas-docs/stable/user_guide/indexing.html#returning-a-view-versus-a-copy\n",
      "  user_breakdown_df2['clustered_track_per'] = 100*np.divide(user_breakdown_df2['clustered_track'],\\\n",
      " [warnings._showwarnmsg:109]\n",
      "[WARNING] [warnings - py.warnings]: /tmp/ipykernel_1103/3197866797.py:4: SettingWithCopyWarning: \n",
      "A value is trying to be set on a copy of a slice from a DataFrame.\n",
      "Try using .loc[row_indexer,col_indexer] = value instead\n",
      "\n",
      "See the caveats in the documentation: https://pandas.pydata.org/pandas-docs/stable/user_guide/indexing.html#returning-a-view-versus-a-copy\n",
      "  user_breakdown_df2['researcher_track_per'] = 100*np.divide(user_breakdown_df2['researcher_track'],\\\n",
      " [warnings._showwarnmsg:109]\n",
      "[WARNING] [warnings - py.warnings]: /tmp/ipykernel_1103/3197866797.py:7: SettingWithCopyWarning: \n",
      "A value is trying to be set on a copy of a slice from a DataFrame.\n",
      "Try using .loc[row_indexer,col_indexer] = value instead\n",
      "\n",
      "See the caveats in the documentation: https://pandas.pydata.org/pandas-docs/stable/user_guide/indexing.html#returning-a-view-versus-a-copy\n",
      "  user_breakdown_df2['self_track_per'] = 100*np.divide(user_breakdown_df2['self_track'],\\\n",
      " [warnings._showwarnmsg:109]\n"
     ]
    }
   ],
   "source": [
    "user_breakdown_df2['clustered_track_per'] = 100*np.divide(user_breakdown_df2['clustered_track'],\\\n",
    "            user_breakdown_df2['clustered_track'].to_numpy()+user_breakdown_df2['researcher_track'].to_numpy()+\\\n",
    "                        user_breakdown_df2['self_track'].to_numpy())\n",
    "user_breakdown_df2['researcher_track_per'] = 100*np.divide(user_breakdown_df2['researcher_track'],\\\n",
    "            user_breakdown_df2['clustered_track'].to_numpy()+user_breakdown_df2['researcher_track'].to_numpy()+\\\n",
    "                        user_breakdown_df2['self_track'].to_numpy())\n",
    "user_breakdown_df2['self_track_per'] = 100*np.divide(user_breakdown_df2['self_track'],\\\n",
    "            user_breakdown_df2['clustered_track'].to_numpy()+user_breakdown_df2['researcher_track'].to_numpy()+\\\n",
    "                        user_breakdown_df2['self_track'].to_numpy())"
   ]
  },
  {
   "cell_type": "code",
   "execution_count": 61,
   "metadata": {
    "execution": {
     "iopub.execute_input": "2022-02-20T02:20:28.281452Z",
     "iopub.status.busy": "2022-02-20T02:20:28.280921Z",
     "iopub.status.idle": "2022-02-20T02:20:32.030461Z",
     "shell.execute_reply": "2022-02-20T02:20:32.025282Z",
     "shell.execute_reply.started": "2022-02-20T02:20:28.281412Z"
    },
    "tags": []
   },
   "outputs": [
    {
     "name": "stdout",
     "output_type": "stream",
     "text": [
      "[WARNING] [backend_ps - matplotlib.backends.backend_ps]: The PostScript backend does not support transparency; partially transparent artists will be rendered opaque. [backend_ps._is_transparent:303]\n"
     ]
    },
    {
     "data": {
      "image/png": "[encoded data removed]",
      "text/plain": [
       "<Figure size 648x432 with 1 Axes>"
      ]
     },
     "metadata": {},
     "output_type": "display_data"
    }
   ],
   "source": [
    "plt.figure(figsize=(9,6))\n",
    "plt.plot(user_breakdown_df2.year_month, user_breakdown_df2.clustered_track_per, label='classroom', \\\n",
    "             color='green');\n",
    "plt.plot(user_breakdown_df2.year_month, user_breakdown_df2.researcher_track_per, label='research', \\\n",
    "             color='red');\n",
    "plt.plot(user_breakdown_df2.year_month, user_breakdown_df2.self_track_per, label='self-study', \\\n",
    "             color='orange');\n",
    "\n",
    "plt.ylim([0, 100])\n",
    "plt.legend(loc='upper right');\n",
    "plt.ylabel('Percentage (%)');\n",
    "plt.xlim([datetime.datetime(2001,1,1), datetime.datetime(2021,7,1)])\n",
    "# plt.show()\n",
    "\n",
    "if dev_flag == 'True':\n",
    "    plt.savefig(cwd+'/plots_local/300_simusers_class_res_unclass_12months_percent.eps', dpi=300, bbox_inches='tight')\n",
    "    plt.savefig(cwd+'/plots_local/300_simusers_class_res_unclass_12months_percent.pdf', dpi=300, bbox_inches='tight')\n",
    "    plt.savefig(cwd+'/plots_local/300_simusers_class_res_unclass_12months_percent.png', dpi=300, bbox_inches='tight')\n",
    "elif prod_flag == 'True':\n",
    "    plt.savefig(cwd+'/plots_production/300_simusers_class_res_unclass_12months_percent.eps', dpi=300, bbox_inches='tight')\n",
    "    plt.savefig(cwd+'/plots_production/300_simusers_class_res_unclass_12months_percent.pdf', dpi=300, bbox_inches='tight')\n",
    "    plt.savefig(cwd+'/plots_production/300_simusers_class_res_unclass_12months_percent.png', dpi=300, bbox_inches='tight')\n",
    "else:\n",
    "    print('no printing flag is active')"
   ]
  },
  {
   "cell_type": "code",
   "execution_count": 62,
   "metadata": {
    "execution": {
     "iopub.execute_input": "2022-02-20T02:20:32.036184Z",
     "iopub.status.busy": "2022-02-20T02:20:32.033500Z",
     "iopub.status.idle": "2022-02-20T02:20:32.102862Z",
     "shell.execute_reply": "2022-02-20T02:20:32.093903Z",
     "shell.execute_reply.started": "2022-02-20T02:20:32.036124Z"
    },
    "tags": []
   },
   "outputs": [],
   "source": [
    "user_breakdown_df2.to_csv(cwd+'/cached_data/nh_user_breakdown.csv')"
   ]
  },
  {
   "cell_type": "code",
   "execution_count": null,
   "metadata": {},
   "outputs": [],
   "source": []
  },
  {
   "cell_type": "code",
   "execution_count": null,
   "metadata": {},
   "outputs": [],
   "source": []
  },
  {
   "cell_type": "code",
   "execution_count": null,
   "metadata": {},
   "outputs": [],
   "source": []
  }
 ],
 "metadata": {
  "kernelspec": {
   "display_name": "Python 3 (ipykernel)",
   "language": "python",
   "name": "python3"
  },
  "language_info": {
   "codemirror_mode": {
    "name": "ipython",
    "version": 3
   },
   "file_extension": ".py",
   "mimetype": "text/x-python",
   "name": "python",
   "nbconvert_exporter": "python",
   "pygments_lexer": "ipython3",
   "version": "3.8.10"
  }
 },
 "nbformat": 4,
 "nbformat_minor": 4
}
