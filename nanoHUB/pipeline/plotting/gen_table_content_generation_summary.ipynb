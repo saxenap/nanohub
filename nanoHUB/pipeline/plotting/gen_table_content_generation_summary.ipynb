{
 "cells": [
  {
   "cell_type": "code",
   "execution_count": 1,
   "id": "fc6507d0-e000-4a5b-a91a-ac84fac9837e",
   "metadata": {
    "execution": {
     "iopub.execute_input": "2021-12-09T22:55:05Z",
     "iopub.status.busy": "2021-12-09T22:55:05Z",
     "iopub.status.idle": "2021-12-09T22:55:05Z",
     "shell.execute_reply": "2021-12-09T22:55:05Z"
    }
   },
   "outputs": [],
   "source": [
    "/*\n",
    "Some key notes to read about this script:\n",
    "This script is supposed to generate figures for the \"content generation\" part of the nanoHUB annual report. \n",
    "Four files were given for that purpose: db_connect.php, gen_table_content_generation.php, hub_parameters.php and func_misc.php\n",
    "Because jupyter lab doesn't allow inclusion of php files directly, three out of the four files (db_connect.php, gen_table_content_generation.php, hub_parameters.php) \n",
    "contents are all in this script. \n",
    "db_connect had to be rewritten to connect through the ssh server remotely and is described by the following three cells)\n",
    "the fourth cell has the contents of the hub_parameters.php file\n",
    "the rest contains the contents originally in gen_table_content_generation.php\n",
    "*/"
   ]
  },
  {
   "cell_type": "code",
   "execution_count": 2,
   "id": "302238d0-2ae4-49c9-8794-6609277a0ceb",
   "metadata": {
    "execution": {
     "iopub.execute_input": "2021-12-09T22:55:05Z",
     "iopub.status.busy": "2021-12-09T22:55:05Z",
     "iopub.status.idle": "2021-12-09T22:55:05Z",
     "shell.execute_reply": "2021-12-09T22:55:05Z"
    }
   },
   "outputs": [],
   "source": [
    "function test_execute_query(mysqli $connection, string $query = \"SELECT registerDate, username FROM nanohub.jos_users LIMIT 10;\") \n",
    "{\n",
    "    $result = $connection->query($query);\n",
    "    /*\n",
    "    while ($row = $result->fetch_row()) {\n",
    "        print_r($row);\n",
    "    }\n",
    "    */\n",
    "    return $result;\n",
    "}"
   ]
  },
  {
   "cell_type": "code",
   "execution_count": 3,
   "id": "643f2b89-babf-46dc-b783-5333be3c6334",
   "metadata": {
    "execution": {
     "iopub.execute_input": "2021-12-09T22:55:05Z",
     "iopub.status.busy": "2021-12-09T22:55:05Z",
     "iopub.status.idle": "2021-12-09T22:55:05Z",
     "shell.execute_reply": "2021-12-09T22:55:05Z"
    },
    "tags": []
   },
   "outputs": [],
   "source": [
    "class ConnectionConfig \n",
    "{\n",
    "    public $username;\n",
    "    public $password;\n",
    "    public $hostname;\n",
    "    public $port;\n",
    "    \n",
    "    public function __construct(\n",
    "        string $username, string $password, string $hostname, int $port\n",
    "    )\n",
    "    {\n",
    "        $this->username = $username;\n",
    "        $this->password = $password;\n",
    "        $this->hostname = $hostname;\n",
    "        $this->port = $port;\n",
    "    }\n",
    "}"
   ]
  },
  {
   "cell_type": "code",
   "execution_count": 4,
   "id": "b18c95eb-f9b5-4e3f-a5b9-9b3e10df3fc5",
   "metadata": {
    "execution": {
     "iopub.execute_input": "2021-12-09T22:55:05Z",
     "iopub.status.busy": "2021-12-09T22:55:05Z",
     "iopub.status.idle": "2021-12-09T22:55:05Z",
     "shell.execute_reply": "2021-12-09T22:55:05Z"
    },
    "tags": []
   },
   "outputs": [],
   "source": [
    "interface IMySqliConnection\n",
    "{\n",
    "    public function new_connection(ConnectionConfig $mysqli_config);\n",
    "}\n",
    "\n",
    "class TunneledMySqliConnection implements IMySqliConnection\n",
    "{\n",
    "    public $ssh_config;\n",
    "    public $local_port;\n",
    "    \n",
    "    public function __construct(\n",
    "        ConnectionConfig $ssh_config, int $local_port = 3307\n",
    "    )\n",
    "    {\n",
    "        $this->ssh_config = $ssh_config;\n",
    "        $this->local_port = $local_port;\n",
    "    }\n",
    "    \n",
    "    public function new_connection(ConnectionConfig $mysqli_config)\n",
    "    {    \n",
    "        \n",
    "        $ssh_connection_string = sprintf(\n",
    "            \"sshpass -p '%s' ssh -vfN -o 'StrictHostKeyChecking=no' -L %s:%s:%d %s@%s \", \n",
    "            $this->ssh_config->password, \n",
    "            $this->local_port,\n",
    "            $mysqli_config->hostname, \n",
    "            $mysqli_config->port,\n",
    "            $this->ssh_config->username,\n",
    "            $this->ssh_config->hostname\n",
    "        );\n",
    "        \n",
    "        shell_exec($ssh_connection_string);\n",
    "        usleep(1000);\n",
    "        \n",
    "        mysqli_report(MYSQLI_REPORT_ERROR | MYSQLI_REPORT_STRICT);\n",
    "        return mysqli_connect(\n",
    "            $mysqli_config->hostname, \n",
    "            $mysqli_config->username,\n",
    "            $mysqli_config->password, \n",
    "            '',\n",
    "            $this->local_port\n",
    "        );\n",
    "    }\n",
    "}\n",
    "\n",
    "class TunneledMySqliConnectionFactory\n",
    "{\n",
    "    static public function create_from_environment(int $local_port = 3307)\n",
    "    {\n",
    "        $ssh_config = new ConnectionConfig(\n",
    "            getenv('tunnel_ssh_username'),\n",
    "            getenv('tunnel_ssh_password'),\n",
    "            getenv('tunnel_ssh_host'),\n",
    "            getenv('tunnel_ssh_port')\n",
    "        );\n",
    "        \n",
    "        $connection = new TunneledMySqliConnection($ssh_config, $local_port);\n",
    "        \n",
    "        $mysqli_config = new ConnectionConfig(\n",
    "            getenv('db_user'),\n",
    "            getenv('db_password'),\n",
    "            getenv('db_host'),\n",
    "            getenv('tunnel_remote_bind_port')\n",
    "        );\n",
    "        \n",
    "        return $connection->new_connection($mysqli_config);\n",
    "    }\n",
    "    \n",
    "}"
   ]
  },
  {
   "cell_type": "code",
   "execution_count": 5,
   "id": "b86a4bd9-0473-4075-abd0-ceade46aa079",
   "metadata": {
    "execution": {
     "iopub.execute_input": "2021-12-09T22:55:05Z",
     "iopub.status.busy": "2021-12-09T22:55:05Z",
     "iopub.status.idle": "2021-12-09T22:55:05Z",
     "shell.execute_reply": "2021-12-09T22:55:05Z"
    }
   },
   "outputs": [
    {
     "data": {
      "text/plain": [
       "\"network\""
      ]
     },
     "execution_count": 5,
     "metadata": {},
     "output_type": "execute_result"
    }
   ],
   "source": [
    "// global variables needed for the other functions (comes from hub_parameters.ipynb)\n",
    "$hub_db = '`nanohub`';\n",
    "$hub_dir = '/www/nanohub';\n",
    "$db_host = 'lightsout.nanohub.org';\n",
    "$db_user = 'nanohub';\n",
    "$db_pass = 'XXX';\n",
    "$db_prefix = 'jos_';\n",
    "\n",
    "$metrics_db = 'nanohub_metrics';\n",
    "$report_db = 'nanohub_annualreport';\n",
    "$mw_db = 'narwhal';\n",
    "$net_db = 'network';\n",
    "\n",
    "$db_net_host = 'lightsout.nanohub.org';\n",
    "$db_net_user = 'geodb';\n",
    "$db_net_pass = 'XXX';\n",
    "$net_db = 'network';\n"
   ]
  },
  {
   "cell_type": "code",
   "execution_count": 6,
   "id": "e9f62f64-a9e0-4c76-9e89-df7d011bab73",
   "metadata": {
    "execution": {
     "iopub.execute_input": "2021-12-09T22:55:05Z",
     "iopub.status.busy": "2021-12-09T22:55:05Z",
     "iopub.status.idle": "2021-12-09T22:55:05Z",
     "shell.execute_reply": "2021-12-09T22:55:05Z"
    }
   },
   "outputs": [],
   "source": [
    "// for the get NCN participation data \n",
    "function get_ncn_participation ($db_hub, $period, $label, $report_db) {\n",
    "\n",
    "\tglobal $report_db;\n",
    "\t$tag_list = '';\n",
    "\tif ($label == \"NCN Purdue\") {\n",
    "\t\t$sql = 'SELECT tagid FROM '.$report_db.'.report_ncn_tags WHERE report_tag IN (SELECT report_tag FROM '.$report_db.'.report_ncn_participation WHERE inside = 1 AND report_tag = \"ncn_purdue\" AND period = \"'.$period.'\")';\n",
    "\t} else if ($label == \"NCN Other\") {\n",
    "\t\t$sql = 'SELECT tagid FROM '.$report_db.'.report_ncn_tags WHERE report_tag IN (SELECT report_tag FROM '.$report_db.'.report_ncn_participation WHERE inside = 1 AND report_tag <> \"ncn_purdue\" AND period = \"'.$period.'\")';\n",
    "\t} else if ($label == \"Outside NCN\") {\n",
    "\t//\t$sql = 'SELECT tagid FROM '.$report_db.'.report_ncn_tags WHERE report_tag IN (SELECT report_tag FROM '.$report_db.'.report_ncn_participation WHERE report_tag <> \"ncn_purdue\" AND period = \"'.$period.'\")';\n",
    "\t\t$sql = 'SELECT tagid FROM '.$report_db.'.report_ncn_tags WHERE report_tag IN (SELECT report_tag FROM '.$report_db.'.report_ncn_participation WHERE report_tag = \"ncn_outside\" AND period = \"'.$period.'\")';\n",
    "\t} else {\n",
    "\t\treturn;\n",
    "\t}\n",
    "\t$result = test_execute_query($db_hub, $sql);//mysqli_query($sql, $db_hub);\n",
    "\tif($result) {\n",
    "\t\tif(mysqli_num_rows($result) > 0) {\n",
    "   \t\t\twhile($row = mysqli_fetch_row($result)) {\n",
    "\t\t\t\t$tag_list .= $row[0].',';\n",
    "\t\t\t}\n",
    "\t\t}\n",
    "\t} else {\n",
    "\t\techo mysqli_error($db_hub).\" while executing \".$sql.\"\\n\";\n",
    "\t    die;\n",
    "\t}\n",
    "\t$tag_list = rtrim($tag_list, ',');\n",
    "\n",
    "\treturn $tag_list;\n",
    "}"
   ]
  },
  {
   "cell_type": "code",
   "execution_count": 7,
   "id": "c3001e05-b11a-4211-84a7-4a0dd3225ed0",
   "metadata": {
    "execution": {
     "iopub.execute_input": "2021-12-09T22:55:05Z",
     "iopub.status.busy": "2021-12-09T22:55:05Z",
     "iopub.status.idle": "2021-12-09T22:55:05Z",
     "shell.execute_reply": "2021-12-09T22:55:05Z"
    }
   },
   "outputs": [],
   "source": [
    "// for the compute years and participate NCN data\n",
    "function compute_years($db_hub, $label, $statement, $total=0, $report_db){\n",
    "\n",
    "\t//global $cumulative, $report_db;\n",
    "    //echo \"report db is \". $Global['report_db'];\n",
    "    echo \"In compute years report_db is \". $report_db;\n",
    "\tprint $label.\",\";\n",
    "\t$sql = 'SELECT period, startdate, enddate FROM '.$report_db.'.report_periods order by enddate ASC';\n",
    "\tprint \"sql: \".$sql;\n",
    "    //test_execute_query($db_hub ,$sql);//mysqli_query($sql, $db_hub);\n",
    "\t$result = test_execute_query($db_hub ,$sql);//mysqli_query($sql, $db_hub);\n",
    "\tif($result) {\n",
    "\t\tif(mysqli_num_rows($result) > 0) {\n",
    "   \t\t\twhile($row = mysqli_fetch_row($result)) {\n",
    "\t\t\t\t$period = $row[0];\n",
    "\t\t\t\t$startdate = $row[1];\n",
    "\t\t\t\tif ($cumulative)\n",
    "\t\t\t\t\t$startdate = '2000-01-01';\n",
    "\t\t\t\t$enddate = $row[2];\n",
    "\t\t\t\tif (!$total) {\n",
    "\t\t\t\t\t$tags = '';\n",
    "\t\t\t\t\t$tags = get_ncn_participation($db_hub, $period, $label, $report_db);\n",
    "\t\t\t\t\t$sql_ = $statement.' AND res.publish_up > \"'.$startdate.'\" AND res.publish_up < \"'.$enddate.'\" AND objtags.tagid IN ('.$tags.')';\n",
    "\t\t\t\t} else {\n",
    "\t\t\t\t\t$sql_ = $statement.' AND res.publish_up > \"'.$startdate.'\" AND res.publish_up < \"'.$enddate.'\"';\n",
    "\t\t\t\t}\n",
    "\t\t\t\t$result_ = test_execute_query($db_hub ,$sql_);//mysqli_query($sql_, $db_hub);\n",
    "\t\t\t\tif($result_) {\n",
    "\t\t\t\t\tif(mysqli_num_rows($result_) > 0) {\n",
    "   \t\t\t\t\t\twhile($row_ = mysqli_fetch_row($result_)) {\n",
    "\t\t\t\t\t\t\t$items = $row_[0];\n",
    "\t\t\t\t\t\t}\n",
    "\t\t\t\t\t}\n",
    "\t\t\t\t} else {\n",
    "\t\t\t\t\techo mysqli_error($db_hub).\" while executing \".$sql_.\"\\n\";\n",
    "\t    \t\t\tdie;\n",
    "\t\t\t\t}\n",
    "\t\t\t\tif ($items) {\n",
    "\t\t\t\t\tprint $items.\",\";\n",
    "\t\t\t\t} else {\n",
    "\t\t\t\t\tprint \",\";\n",
    "\t\t\t\t}\n",
    "\t\t\t}\n",
    "\t\t}\n",
    "\t} else {\n",
    "\t\techo mysqli_error($db_hub).\" while executing \".$sql.\"\\n\";\n",
    "\t    die;\n",
    "\t}\n",
    "}"
   ]
  },
  {
   "cell_type": "code",
   "execution_count": 8,
   "id": "b0e4955f-fcdd-4155-bd52-7f5c016dcbca",
   "metadata": {
    "execution": {
     "iopub.execute_input": "2021-12-09T22:55:05Z",
     "iopub.status.busy": "2021-12-09T22:55:05Z",
     "iopub.status.idle": "2021-12-09T22:55:06Z",
     "shell.execute_reply": "2021-12-09T22:55:06Z"
    },
    "tags": []
   },
   "outputs": [
    {
     "data": {
      "text/plain": [
       "\n",
       ",Pre-NCN,Year 1,Year 2,Year 3,Year 4,Year 5,Year 6,Year 7,Year 8, Year 9, Year 10, Year 11, Year 12, Year 13, Year 14, Year 15, Year 16, Year 17, Year 18, Last 12 Months, Year 19 (partial), Cummulative\n",
       "\n"
      ]
     },
     "execution_count": 8,
     "metadata": {},
     "output_type": "execute_result"
    },
    {
     "data": {
      "text/plain": [
       "Report db is nanohub_annualreport\n"
      ]
     },
     "execution_count": 8,
     "metadata": {},
     "output_type": "execute_result"
    },
    {
     "data": {
      "text/plain": [
       "\n",
       "Tools\n",
       "\n"
      ]
     },
     "execution_count": 8,
     "metadata": {},
     "output_type": "execute_result"
    },
    {
     "data": {
      "text/plain": [
       "In compute years report_db is nanohub_annualreport\n"
      ]
     },
     "execution_count": 8,
     "metadata": {},
     "output_type": "execute_result"
    },
    {
     "data": {
      "text/plain": [
       "Total,\n"
      ]
     },
     "execution_count": 8,
     "metadata": {},
     "output_type": "execute_result"
    },
    {
     "data": {
      "text/plain": [
       "sql: SELECT period, startdate, enddate FROM nanohub_annualreport.report_periods order by enddate ASC\n"
      ]
     },
     "execution_count": 8,
     "metadata": {},
     "output_type": "execute_result"
    },
    {
     "data": {
      "text/plain": [
       "\u001b[31;1mmysqli_sql_exception with message 'SELECT command denied to user 'mishr100_ro'@'localhost' for table 'report_periods''\u001b[39;22m"
      ]
     },
     "execution_count": 8,
     "metadata": {},
     "output_type": "execute_result"
    }
   ],
   "source": [
    "$db_hub = TunneledMySqliConnectionFactory::create_from_environment(3318);\n",
    "$cumulative = 1;\n",
    "$res_types = array(7,4,1,6,2,5,3,9,10,39);\n",
    "$res_tags = array(226,227,25,27);\n",
    "print \"\\n,Pre-NCN,Year 1,Year 2,Year 3,Year 4,Year 5,Year 6,Year 7,Year 8, Year 9, Year 10, Year 11, Year 12, Year 13, Year 14, Year 15, Year 16, Year 17, Year 18, Last 12 Months, Year 19 (partial), Cummulative\\n\";\n",
    "foreach($res_types as $type) {\n",
    "    \n",
    "    echo \"Report db is \". $report_db;\n",
    "\n",
    "\t$sql = 'SELECT type FROM nanohub.jos_resource_types where id='.$type;\n",
    "\t$result = test_execute_query($db_hub ,$sql);//mysqli_query($sql, $db_hub);\n",
    "\tif($result) {\n",
    "\t\tif(mysqli_num_rows($result) > 0) {\n",
    "   \t\t\twhile($row = mysqli_fetch_row($result)) {\n",
    "   \t\t   \t \t$res_type=$row[0];\n",
    "\t\t\t}\n",
    "\t\t}\n",
    "\t} else {\n",
    "\t\techo mysqli_error($db_hub).\" while executing \".$sql.\"\\n\";\n",
    "\t    die;\n",
    "\t}\n",
    "\n",
    "\tprint \"\\n\".$res_type.\"\\n\";\n",
    "\t# Special Case used in 2007 report\n",
    "\t// remove published=1 for punch tools\n",
    "\t/*\n",
    "\tif ($type == 7) {\n",
    "\t\t$published = \" AND res.published < 2 \";\n",
    "\t} else {\n",
    "\t\t$published = \" AND res.published=1 \";\n",
    "\t}*/\n",
    "    \n",
    "\t$published = \" AND res.published=1 \";\n",
    "\n",
    "\t# Total\n",
    "\t$statement = 'SELECT COUNT(DISTINCT(res.id)) FROM nanohub.jos_resources AS res WHERE res.access!=1 AND res.access!=4 '.$published.' AND res.standalone=1 AND res.type=\"'.$type.'\" ';\n",
    "\tcompute_years($db_hub, \"Total\", $statement,1, $report_db);\n",
    "\tprint \"\\n\";\n",
    "/*\n",
    "\t# NCN Purdue \n",
    "\t$statement = 'SELECT COUNT(DISTINCT(res.id)) FROM nanohub.jos_resources AS res, nanohub.jos_tags_object AS objtags WHERE res.id=objtags.objectid AND res.access!=1 AND res.access!=4 '.$published.' AND res.standalone=1 AND objtags.tbl=\"resources\" AND res.type=\"'.$type.'\" ';\n",
    "\tcompute_years($db_hub, \"NCN Purdue\", $statement);\n",
    "\tprint \"\\n\";\n",
    "*/\n",
    "\n",
    "\t/*\n",
    "\t# NCN Other\n",
    "\t$statement = 'SELECT COUNT(DISTINCT(res.id)) FROM nanohub.jos_resources AS res, nanohub.jos_tags_object AS objtags WHERE res.id=objtags.objectid '.$published.' AND res.access!=1 AND res.access!=4 AND res.standalone=1 AND objtags.tbl=\"resources\" AND res.type=\"'.$type.'\" ';\n",
    "\tcompute_years($db_hub, \"NCN Other\", $statement);\n",
    "\tprint \"\\n\";\n",
    "\t*/\n",
    "\n",
    "    /*\n",
    "\t# Outside NCN\n",
    "\t$statement = 'SELECT COUNT(DISTINCT(res.id)) FROM nanohub.jos_resources AS res, nanohub.jos_tags_object AS objtags WHERE res.id=objtags.objectid AND res.access!=1 AND res.access!=4 '.$published.' AND res.standalone=1 AND objtags.tbl=\"resources\" AND res.type=\"'.$type.'\" ';\n",
    "\tcompute_years($db_hub, \"Outside NCN\", $statement);\n",
    "\tprint \"\\n\";\n",
    "*/\n",
    "}\n"
   ]
  },
  {
   "cell_type": "code",
   "execution_count": 9,
   "id": "f9db1d70-f0f6-4595-a6a5-778146052311",
   "metadata": {
    "execution": {
     "iopub.execute_input": "2021-12-09T22:55:06Z",
     "iopub.status.busy": "2021-12-09T22:55:06Z",
     "iopub.status.idle": "2021-12-09T22:55:06Z",
     "shell.execute_reply": "2021-12-09T22:55:06Z"
    },
    "tags": []
   },
   "outputs": [
    {
     "data": {
      "text/plain": [
       "\n",
       ",Pre-NCN,Year 1,Year 2,Year 3,Year 4,Year 5,Year 6,Year 7,Year 8, Year 9, Year 10, Year 11, Year 12, Year 13, Year 14, Year 15, Year 16, Year 17, Year 18, Last 12 Months, Year 19 (partial), Cummulative\n",
       "\n"
      ]
     },
     "execution_count": 9,
     "metadata": {},
     "output_type": "execute_result"
    },
    {
     "data": {
      "text/plain": [
       "\u001b[33;1mPHP Warning:  mysqli_query() expects parameter 1 to be mysqli, string given in /home/suyash/.jupyter-php/pkgs/vendor/litipk/jupyter-php/src/Actions/ExecuteAction.php(115) : eval()'d code on line 43\u001b[39;22m"
      ]
     },
     "execution_count": 9,
     "metadata": {},
     "output_type": "execute_result"
    }
   ],
   "source": [
    "//<?php\n",
    "\n",
    "# This script generates the table: \"Table3.9 - Content Generation Summary\"\n",
    "# Usage: php gen_table_content_generation_summary.php > out_content_generation_summary\n",
    "# This script generates a csv file which needs to be formatted into the final table: http://vox.hubzero.org/report/ncnreport/2013\n",
    "# Set parameters between 'TODO-Begin' and 'TODO-End'\n",
    "# ---------------------------------------------------------------------------------------------------------\n",
    "/*\n",
    "require_once('/var/www/tmp/metrics_ncnreport/hub_parameters.php');\n",
    "require_once('/opt/hubzero/bin/metrics/includes/db_connect.php');\n",
    "require_once('/opt/hubzero/bin/metrics/includes/func_misc.php');\n",
    "\n",
    "$db_hub = db_connect('db_hub');\n",
    "*/\n",
    "$db_hub = TunneledMySqliConnectionFactory::create_from_environment(3318);\n",
    "$cumulative = 1;\n",
    "\n",
    "# ---------------------------------------------------------------------------------------------------------\n",
    "# TODO-Begin\n",
    "\n",
    "## List of Resource Types used in this report\n",
    "// Tools: 7\n",
    "// Learning Modules: 4\n",
    "// Online Presentations: 1\n",
    "// Courses: 6 \n",
    "// Workshops: 2\n",
    "// Animations: 5\n",
    "// Publications: 3\n",
    "// Downloads: 9\n",
    "// Notes: 10\n",
    "// Teaching Materials: 39\n",
    "// Non-Interative Educational Material: ?\n",
    "// Non Interactive documents: ?\n",
    "$res_types = array(7,4,1,6,2,5,3,9,10,39);\n",
    "\n",
    "## List of Tags used in this report\n",
    "// Tutorials: 25\n",
    "// Research Seminars: 27\n",
    "// Serial Tools: 226\n",
    "// Parallel Tools: 227\n",
    "$res_tags = array(226,227,25,27);\n",
    "\n",
    "# TODO-End\n",
    "# ---------------------------------------------------------------------------------------------------------\n",
    "\n",
    "print \"\\n,Pre-NCN,Year 1,Year 2,Year 3,Year 4,Year 5,Year 6,Year 7,Year 8, Year 9, Year 10, Year 11, Year 12, Year 13, Year 14, Year 15, Year 16, Year 17, Year 18, Last 12 Months, Year 19 (partial), Cummulative\\n\";\n",
    "foreach($res_types as $type) {\n",
    "\n",
    "\t$sql = 'SELECT type FROM nanohub.jos_resource_types where id='.$type;\n",
    "\t$result = mysqli_query($sql, $db_hub);\n",
    "\tif($result) {\n",
    "\t\tif(mysqli_num_rows($result) > 0) {\n",
    "   \t\t\twhile($row = mysqli_fetch_row($result)) {\n",
    "   \t\t   \t \t$res_type=$row[0];\n",
    "\t\t\t}\n",
    "\t\t}\n",
    "\t} else {\n",
    "\t\techo mysqli_error($db_hub).\" while executing \".$sql.\"\\n\";\n",
    "\t    die;\n",
    "\t}\n",
    "\n",
    "\tprint \"\\n\".$res_type.\"\\n\";\n",
    "\t# Special Case used in 2007 report\n",
    "\t// remove published=1 for punch tools\n",
    "\t/*\n",
    "\tif ($type == 7) {\n",
    "\t\t$published = \" AND res.published < 2 \";\n",
    "\t} else {\n",
    "\t\t$published = \" AND res.published=1 \";\n",
    "\t}*/\n",
    "\t$published = \" AND res.published=1 \";\n",
    "\n",
    "\t# Total\n",
    "\t$statement = 'SELECT COUNT(DISTINCT(res.id)) FROM nanohub.jos_resources AS res WHERE res.access!=1 AND res.access!=4 '.$published.' AND res.standalone=1 AND res.type=\"'.$type.'\" ';\n",
    "\tcompute_years($db_hub, \"Total\", $statement,1);\n",
    "\tprint \"\\n\";\n",
    "\n",
    "\t# NCN Purdue \n",
    "\t$statement = 'SELECT COUNT(DISTINCT(res.id)) FROM nanohub.jos_resources AS res, nanohub.jos_tags_object AS objtags WHERE res.id=objtags.objectid AND res.access!=1 AND res.access!=4 '.$published.' AND res.standalone=1 AND objtags.tbl=\"resources\" AND res.type=\"'.$type.'\" ';\n",
    "\tcompute_years($db_hub, \"NCN Purdue\", $statement);\n",
    "\tprint \"\\n\";\n",
    "\n",
    "\t/*\n",
    "\t# NCN Other\n",
    "\t$statement = 'SELECT COUNT(DISTINCT(res.id)) FROM nanohub.jos_resources AS res, nanohub.jos_tags_object AS objtags WHERE res.id=objtags.objectid '.$published.' AND res.access!=1 AND res.access!=4 AND res.standalone=1 AND objtags.tbl=\"resources\" AND res.type=\"'.$type.'\" ';\n",
    "\tcompute_years($db_hub, \"NCN Other\", $statement);\n",
    "\tprint \"\\n\";\n",
    "\t*/\n",
    "\n",
    "\t# Outside NCN\n",
    "\t$statement = 'SELECT COUNT(DISTINCT(res.id)) FROM nanohub.jos_resources AS res, nanohub.jos_tags_object AS objtags WHERE res.id=objtags.objectid AND res.access!=1 AND res.access!=4 '.$published.' AND res.standalone=1 AND objtags.tbl=\"resources\" AND res.type=\"'.$type.'\" ';\n",
    "\tcompute_years($db_hub, \"Outside NCN\", $statement);\n",
    "\tprint \"\\n\";\n",
    "\n",
    "}\n",
    "\n",
    "\n",
    "// -------\n",
    "// All \"and more\" Resources \n",
    "print \"\\nTotal 'and more' Content\\n\";\n",
    "\n",
    "# Special Case used in 2007 report\n",
    "#$published = \" AND res.published < 2 \";\n",
    "$published = \" AND res.published = 1 \";\n",
    "\n",
    "# Total\n",
    "$statement = 'SELECT COUNT(DISTINCT(res.id)) FROM nanohub.jos_resources AS res WHERE res.access!=1 AND res.access!=4 '.$published.' AND res.standalone=1 AND res.type <> 7';\n",
    "compute_years($db_hub, \"Total\", $statement,1);\n",
    "print \"\\n\";\n",
    "\n",
    "# NCN Purdue\n",
    "$statement = 'SELECT COUNT(DISTINCT(res.id)) FROM nanohub.jos_resources AS res, nanohub.jos_tags_object AS objtags WHERE res.id=objtags.objectid AND res.access!=1 AND res.access!=4 '.$published.' AND res.standalone=1 AND objtags.tbl=\"resources\" AND res.type <> 7 ';\n",
    "compute_years($db_hub, \"NCN Purdue\", $statement);\n",
    "print \"\\n\";\n",
    "\n",
    "/*\n",
    "# NCN Other\n",
    "$statement = 'SELECT COUNT(DISTINCT(res.id)) FROM nanohub.jos_resources AS res, nanohub.jos_tags_object AS objtags WHERE res.id=objtags.objectid '.$published.' AND res.access!=1 AND res.access!=4 AND res.standalone=1 AND objtags.tbl=\"resources\" AND res.type <> 7';\n",
    "compute_years($db_hub, \"NCN Other\", $statement);\n",
    "print \"\\n\";\n",
    "*/\n",
    "\n",
    "# Outside NCN\n",
    "$statement = 'SELECT COUNT(DISTINCT(res.id)) FROM nanohub.jos_resources AS res, nanohub.jos_tags_object AS objtags WHERE res.id=objtags.objectid AND res.access!=1 AND res.access!=4 '.$published.' AND res.standalone=1 AND objtags.tbl=\"resources\" AND res.type <> 7';\n",
    "compute_years($db_hub, \"Outside NCN\", $statement);\n",
    "print \"\\n\\n\";\n",
    "\n",
    "// -------\n",
    "// All Resources \n",
    "print \"Total Resources\\n\";\n",
    "\n",
    "#$published = \" AND res.published < 2 \";\n",
    "$published = \" AND res.published = 1 \";\n",
    "\n",
    "# Total\n",
    "$statement = 'SELECT COUNT(DISTINCT(res.id)) FROM nanohub.jos_resources AS res WHERE res.access!=1 AND res.access!=4 '.$published.' AND res.standalone=1';\n",
    "compute_years($db_hub, \"Total\", $statement,1);\n",
    "print \"\\n\";\n",
    "\n",
    "# NCN Purdue\n",
    "$statement = 'SELECT COUNT(DISTINCT(res.id)) FROM nanohub.jos_resources AS res, nanohub.jos_tags_object AS objtags WHERE res.id=objtags.objectid AND res.access!=1 AND res.access!=4 '.$published.' AND res.standalone=1 AND objtags.tbl=\"resources\" ';\n",
    "compute_years($db_hub, \"NCN Purdue\", $statement);\n",
    "print \"\\n\";\n",
    "\n",
    "/*\n",
    "# NCN Other\n",
    "$statement = 'SELECT COUNT(DISTINCT(res.id)) FROM nanohub.jos_resources AS res, nanohub.jos_tags_object AS objtags WHERE res.id=objtags.objectid '.$published.' AND res.access!=1 AND res.access!=4 AND res.standalone=1 AND objtags.tbl=\"resources\" ';\n",
    "compute_years($db_hub, \"NCN Other\", $statement);\n",
    "print \"\\n\";\n",
    "*/\n",
    "\n",
    "# Outside NCN\n",
    "$statement = 'SELECT COUNT(DISTINCT(res.id)) FROM nanohub.jos_resources AS res, nanohub.jos_tags_object AS objtags WHERE res.id=objtags.objectid AND res.access!=1 AND res.access!=4 '.$published.' AND res.standalone=1 AND objtags.tbl=\"resources\" ';\n",
    "compute_years($db_hub, \"Outside NCN\", $statement);\n",
    "print \"\\n\\n\";\n",
    "\n",
    "#db_close($db_hub);\n",
    "// -------\n",
    "\n",
    "\n",
    "?>"
   ]
  },
  {
   "cell_type": "code",
   "execution_count": null,
   "id": "9e499afd-6e42-4794-882a-24636261fc04",
   "metadata": {},
   "outputs": [],
   "source": []
  }
 ],
 "metadata": {
  "kernelspec": {
   "display_name": "PHP",
   "language": "php",
   "name": "jupyter-php"
  },
  "language_info": {
   "file_extension": ".php",
   "mimetype": "text/x-php",
   "name": "PHP",
   "pygments_lexer": "PHP",
   "version": "7.4.3"
  }
 },
 "nbformat": 4,
 "nbformat_minor": 5
}
