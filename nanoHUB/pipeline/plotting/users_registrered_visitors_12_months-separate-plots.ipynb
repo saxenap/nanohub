{
 "cells": [
  {
   "cell_type": "code",
   "execution_count": 1,
   "metadata": {
    "execution": {
     "iopub.execute_input": "2022-02-16T21:35:58.246312Z",
     "iopub.status.busy": "2022-02-16T21:35:58.242418Z",
     "iopub.status.idle": "2022-02-16T21:35:59.358650Z",
     "shell.execute_reply": "2022-02-16T21:35:59.357728Z",
     "shell.execute_reply.started": "2022-02-16T21:35:58.245971Z"
    }
   },
   "outputs": [],
   "source": [
    "import sys\n",
    "\n",
    "import pandas as pd\n",
    "import time\n",
    "import datetime"
   ]
  },
  {
   "cell_type": "code",
   "execution_count": 2,
   "metadata": {
    "execution": {
     "iopub.execute_input": "2022-02-16T21:35:59.360673Z",
     "iopub.status.busy": "2022-02-16T21:35:59.360094Z",
     "iopub.status.idle": "2022-02-16T21:35:59.373225Z",
     "shell.execute_reply": "2022-02-16T21:35:59.366528Z",
     "shell.execute_reply.started": "2022-02-16T21:35:59.360636Z"
    }
   },
   "outputs": [],
   "source": [
    "import warnings\n",
    "warnings.filterwarnings('ignore')\n",
    "# warnings.filterwarnings(action='once')\n",
    "warnings.simplefilter(action='ignore', category=FutureWarning)"
   ]
  },
  {
   "cell_type": "code",
   "execution_count": null,
   "metadata": {},
   "outputs": [],
   "source": []
  },
  {
   "cell_type": "code",
   "execution_count": 3,
   "metadata": {
    "execution": {
     "iopub.execute_input": "2022-02-16T21:35:59.376988Z",
     "iopub.status.busy": "2022-02-16T21:35:59.376063Z",
     "iopub.status.idle": "2022-02-16T21:36:02.574096Z",
     "shell.execute_reply": "2022-02-16T21:36:02.570344Z",
     "shell.execute_reply.started": "2022-02-16T21:35:59.376924Z"
    }
   },
   "outputs": [
    {
     "name": "stdout",
     "output_type": "stream",
     "text": [
      "\u001b[1mnanoHUB - Serving Students, Researchers & Instructors\u001b[0m\n",
      "Obtained Salesforce access token ...... True\n"
     ]
    }
   ],
   "source": [
    "from nanoHUB.application import Application\n",
    "\n",
    "application = Application.get_instance()\n",
    "nanohub_db = application.new_db_engine('nanohub')\n",
    "nanohub_metrics_db = application.new_db_engine('nanohub_metrics')\n",
    "wang159_myrmekes_db = application.new_db_engine('rfm_data')\n",
    "\n",
    "salesforce = application.new_salesforce_engine()\n",
    "db_s = salesforce"
   ]
  },
  {
   "cell_type": "markdown",
   "metadata": {},
   "source": [
    "## Nanohub user growth"
   ]
  },
  {
   "cell_type": "code",
   "execution_count": 4,
   "metadata": {
    "execution": {
     "iopub.execute_input": "2022-02-16T21:36:02.605127Z",
     "iopub.status.busy": "2022-02-16T21:36:02.601201Z",
     "iopub.status.idle": "2022-02-16T21:36:02.651146Z",
     "shell.execute_reply": "2022-02-16T21:36:02.642303Z",
     "shell.execute_reply.started": "2022-02-16T21:36:02.605059Z"
    }
   },
   "outputs": [],
   "source": [
    "## need \n",
    "# 1) jos_users from nanohub with id,name,username,email,registerDate,lastvisitDate -> registered users\n",
    "# 2) toolstart df filtered by username -> simulation users\n",
    "\n",
    "# x-axis: each month from 2000 to current_year\n",
    "\n",
    "# y-axis: 12 month trailing sum\n",
    "\n",
    "# simulation users: unique users who have run at least 1 simulation\n",
    "\n",
    "# registered users: new user registeration\n",
    "\n",
    "# visitor count: unique IP address"
   ]
  },
  {
   "cell_type": "code",
   "execution_count": 5,
   "metadata": {
    "execution": {
     "iopub.execute_input": "2022-02-16T21:36:02.663569Z",
     "iopub.status.busy": "2022-02-16T21:36:02.659749Z",
     "iopub.status.idle": "2022-02-16T21:36:37.439342Z",
     "shell.execute_reply": "2022-02-16T21:36:37.436905Z",
     "shell.execute_reply.started": "2022-02-16T21:36:02.662326Z"
    }
   },
   "outputs": [
    {
     "data": {
      "text/html": [
       "<div>\n",
       "<style scoped>\n",
       "    .dataframe tbody tr th:only-of-type {\n",
       "        vertical-align: middle;\n",
       "    }\n",
       "\n",
       "    .dataframe tbody tr th {\n",
       "        vertical-align: top;\n",
       "    }\n",
       "\n",
       "    .dataframe thead th {\n",
       "        text-align: right;\n",
       "    }\n",
       "</style>\n",
       "<table border=\"1\" class=\"dataframe\">\n",
       "  <thead>\n",
       "    <tr style=\"text-align: right;\">\n",
       "      <th></th>\n",
       "      <th>id</th>\n",
       "      <th>name</th>\n",
       "      <th>username</th>\n",
       "      <th>email</th>\n",
       "      <th>registerDate</th>\n",
       "      <th>lastvisitDate</th>\n",
       "    </tr>\n",
       "  </thead>\n",
       "  <tbody>\n",
       "    <tr>\n",
       "      <th>0</th>\n",
       "      <td>356680</td>\n",
       "      <td>王鸣雁</td>\n",
       "      <td>-193187</td>\n",
       "      <td>-193187@invalid</td>\n",
       "      <td>2022-02-12 02:27:35</td>\n",
       "      <td>2022-02-12 02:27:36</td>\n",
       "    </tr>\n",
       "    <tr>\n",
       "      <th>1</th>\n",
       "      <td>356679</td>\n",
       "      <td>Mahdi Salari</td>\n",
       "      <td>mahdisalari82020</td>\n",
       "      <td>mahdisalari82020@gmail.com</td>\n",
       "      <td>2022-02-12 02:18:29</td>\n",
       "      <td>2022-02-12 02:18:30</td>\n",
       "    </tr>\n",
       "  </tbody>\n",
       "</table>\n",
       "</div>"
      ],
      "text/plain": [
       "       id          name          username                       email  \\\n",
       "0  356680           王鸣雁           -193187             -193187@invalid   \n",
       "1  356679  Mahdi Salari  mahdisalari82020  mahdisalari82020@gmail.com   \n",
       "\n",
       "         registerDate       lastvisitDate  \n",
       "0 2022-02-12 02:27:35 2022-02-12 02:27:36  \n",
       "1 2022-02-12 02:18:29 2022-02-12 02:18:30  "
      ]
     },
     "metadata": {},
     "output_type": "display_data"
    },
    {
     "name": "stdout",
     "output_type": "stream",
     "text": [
      "(272691, 6)\n"
     ]
    }
   ],
   "source": [
    "## build jos_users_full\n",
    "sql_query = \"select id,name,username,email,registerDate,lastvisitDate from jos_users order by registerDate desc\"\n",
    "jos_users_full = pd.read_sql_query(sql_query, nanohub_db)\n",
    "display(jos_users_full.head(2))\n",
    "print(jos_users_full.shape)"
   ]
  },
  {
   "cell_type": "code",
   "execution_count": 6,
   "metadata": {
    "execution": {
     "iopub.execute_input": "2022-02-16T21:36:37.454335Z",
     "iopub.status.busy": "2022-02-16T21:36:37.446644Z",
     "iopub.status.idle": "2022-02-16T21:36:50.732203Z",
     "shell.execute_reply": "2022-02-16T21:36:50.728246Z",
     "shell.execute_reply.started": "2022-02-16T21:36:37.454276Z"
    }
   },
   "outputs": [
    {
     "data": {
      "text/html": [
       "<div>\n",
       "<style scoped>\n",
       "    .dataframe tbody tr th:only-of-type {\n",
       "        vertical-align: middle;\n",
       "    }\n",
       "\n",
       "    .dataframe tbody tr th {\n",
       "        vertical-align: top;\n",
       "    }\n",
       "\n",
       "    .dataframe thead th {\n",
       "        text-align: right;\n",
       "    }\n",
       "</style>\n",
       "<table border=\"1\" class=\"dataframe\">\n",
       "  <thead>\n",
       "    <tr style=\"text-align: right;\">\n",
       "      <th></th>\n",
       "      <th>datetime</th>\n",
       "      <th>ip</th>\n",
       "      <th>countryip</th>\n",
       "      <th>user</th>\n",
       "      <th>tool</th>\n",
       "    </tr>\n",
       "  </thead>\n",
       "  <tbody>\n",
       "    <tr>\n",
       "      <th>0</th>\n",
       "      <td>2001-12-31 23:23:51</td>\n",
       "      <td>68.32.42.69</td>\n",
       "      <td>US</td>\n",
       "      <td>jjeon</td>\n",
       "      <td>Adeptf</td>\n",
       "    </tr>\n",
       "    <tr>\n",
       "      <th>1</th>\n",
       "      <td>2001-12-31 23:23:23</td>\n",
       "      <td>68.32.42.69</td>\n",
       "      <td>US</td>\n",
       "      <td>jjeon</td>\n",
       "      <td>Adeptf</td>\n",
       "    </tr>\n",
       "  </tbody>\n",
       "</table>\n",
       "</div>"
      ],
      "text/plain": [
       "             datetime           ip countryip   user    tool\n",
       "0 2001-12-31 23:23:51  68.32.42.69        US  jjeon  Adeptf\n",
       "1 2001-12-31 23:23:23  68.32.42.69        US  jjeon  Adeptf"
      ]
     },
     "metadata": {},
     "output_type": "display_data"
    },
    {
     "name": "stdout",
     "output_type": "stream",
     "text": [
      "(138857, 5)\n"
     ]
    }
   ],
   "source": [
    " ## build all users list\n",
    "sql_query = \"select datetime,ip,countryip,user,tool from toolstart where user != 'instanton' \"\\\n",
    "+\"and user != 'gridstat' and datetime <= '2002-01-01' and datetime >= '0000-01-01' order by datetime desc\"\n",
    "toolstart_df = pd.read_sql_query(sql_query, nanohub_metrics_db)\n",
    "display(toolstart_df.head(2))\n",
    "print(toolstart_df.shape)"
   ]
  },
  {
   "cell_type": "code",
   "execution_count": 7,
   "metadata": {
    "execution": {
     "iopub.execute_input": "2022-02-16T21:36:50.735454Z",
     "iopub.status.busy": "2022-02-16T21:36:50.734215Z",
     "iopub.status.idle": "2022-02-16T21:36:50.836267Z",
     "shell.execute_reply": "2022-02-16T21:36:50.831496Z",
     "shell.execute_reply.started": "2022-02-16T21:36:50.735388Z"
    }
   },
   "outputs": [],
   "source": [
    "## convert the dataframes to datetime\n",
    "jos_users_full['registerDate'] = pd.to_datetime(jos_users_full.registerDate)\n",
    "jos_users_full['lastvisitDate'] = pd.to_datetime(jos_users_full.lastvisitDate)\n",
    "\n",
    "toolstart_df['datetime'] = pd.to_datetime(toolstart_df.datetime)"
   ]
  },
  {
   "cell_type": "code",
   "execution_count": 8,
   "metadata": {
    "execution": {
     "iopub.execute_input": "2022-02-16T21:36:50.857417Z",
     "iopub.status.busy": "2022-02-16T21:36:50.842244Z",
     "iopub.status.idle": "2022-02-16T21:36:50.880514Z",
     "shell.execute_reply": "2022-02-16T21:36:50.877675Z",
     "shell.execute_reply.started": "2022-02-16T21:36:50.857302Z"
    }
   },
   "outputs": [
    {
     "name": "stdout",
     "output_type": "stream",
     "text": [
      "2022-02-16 21:36:50.859791\n"
     ]
    }
   ],
   "source": [
    "import datetime\n",
    "today = datetime.datetime.now()\n",
    "print(today)"
   ]
  },
  {
   "cell_type": "code",
   "execution_count": 9,
   "metadata": {
    "execution": {
     "iopub.execute_input": "2022-02-16T21:36:50.883282Z",
     "iopub.status.busy": "2022-02-16T21:36:50.882787Z",
     "iopub.status.idle": "2022-02-16T21:36:50.927419Z",
     "shell.execute_reply": "2022-02-16T21:36:50.924645Z",
     "shell.execute_reply.started": "2022-02-16T21:36:50.883215Z"
    }
   },
   "outputs": [
    {
     "data": {
      "text/html": [
       "<div>\n",
       "<style scoped>\n",
       "    .dataframe tbody tr th:only-of-type {\n",
       "        vertical-align: middle;\n",
       "    }\n",
       "\n",
       "    .dataframe tbody tr th {\n",
       "        vertical-align: top;\n",
       "    }\n",
       "\n",
       "    .dataframe thead th {\n",
       "        text-align: right;\n",
       "    }\n",
       "</style>\n",
       "<table border=\"1\" class=\"dataframe\">\n",
       "  <thead>\n",
       "    <tr style=\"text-align: right;\">\n",
       "      <th></th>\n",
       "      <th>year_month</th>\n",
       "    </tr>\n",
       "  </thead>\n",
       "  <tbody>\n",
       "    <tr>\n",
       "      <th>0</th>\n",
       "      <td>2000-01-01</td>\n",
       "    </tr>\n",
       "    <tr>\n",
       "      <th>1</th>\n",
       "      <td>2000-02-01</td>\n",
       "    </tr>\n",
       "  </tbody>\n",
       "</table>\n",
       "</div>"
      ],
      "text/plain": [
       "  year_month\n",
       "0 2000-01-01\n",
       "1 2000-02-01"
      ]
     },
     "execution_count": 9,
     "metadata": {},
     "output_type": "execute_result"
    }
   ],
   "source": [
    "all_months_list = list()\n",
    "for this_year in range(2000,today.year+2):\n",
    "    for this_month in range(1,12+1):\n",
    "        all_months_list.append(datetime.datetime(this_year, this_month, 1))\n",
    "        \n",
    "for this_year in range(today.year,today.year+2):\n",
    "    for this_month in range(1,today.month+1):\n",
    "        all_months_list.append(datetime.datetime(this_year, this_month, 1))\n",
    "        \n",
    "months_bin = pd.DataFrame(all_months_list, columns=['year_month'])\n",
    "\n",
    "# display\n",
    "months_bin.head(2)"
   ]
  },
  {
   "cell_type": "code",
   "execution_count": 10,
   "metadata": {
    "execution": {
     "iopub.execute_input": "2022-02-16T21:36:50.931825Z",
     "iopub.status.busy": "2022-02-16T21:36:50.929602Z",
     "iopub.status.idle": "2022-02-16T21:36:53.127686Z",
     "shell.execute_reply": "2022-02-16T21:36:53.126753Z",
     "shell.execute_reply.started": "2022-02-16T21:36:50.931745Z"
    }
   },
   "outputs": [],
   "source": [
    "## jos_users_full registration cumulative monthly\n",
    "months_bin['registered_12_trail'] = months_bin.year_month.apply(lambda x:  \\\n",
    "                                jos_users_full.username[(jos_users_full.registerDate < x)\\\n",
    "                            &(jos_users_full.registerDate > (x-datetime.timedelta(days=365)))].nunique() )"
   ]
  },
  {
   "cell_type": "code",
   "execution_count": 11,
   "metadata": {
    "execution": {
     "iopub.execute_input": "2022-02-16T21:36:53.130389Z",
     "iopub.status.busy": "2022-02-16T21:36:53.129572Z",
     "iopub.status.idle": "2022-02-16T21:36:54.190978Z",
     "shell.execute_reply": "2022-02-16T21:36:54.190084Z",
     "shell.execute_reply.started": "2022-02-16T21:36:53.130261Z"
    }
   },
   "outputs": [],
   "source": [
    "##the all users must be done in a bi-yearly basis\n",
    "months_bin['sim_12_trail'] = months_bin.year_month.apply(lambda x: toolstart_df.user[(toolstart_df.datetime < x) \\\n",
    "                                        &(toolstart_df.datetime > (x-datetime.timedelta(days=365)))].nunique() )"
   ]
  },
  {
   "cell_type": "code",
   "execution_count": 12,
   "metadata": {
    "execution": {
     "iopub.execute_input": "2022-02-16T21:36:54.193557Z",
     "iopub.status.busy": "2022-02-16T21:36:54.192656Z",
     "iopub.status.idle": "2022-02-16T21:36:54.204538Z",
     "shell.execute_reply": "2022-02-16T21:36:54.202348Z",
     "shell.execute_reply.started": "2022-02-16T21:36:54.193355Z"
    }
   },
   "outputs": [
    {
     "name": "stdout",
     "output_type": "stream",
     "text": [
      "24\n"
     ]
    }
   ],
   "source": [
    "print(months_bin['year_month'].to_list().index(pd.to_datetime('2002-01-01')) )\n",
    "temp = months_bin['sim_12_trail']#[:25]"
   ]
  },
  {
   "cell_type": "code",
   "execution_count": 13,
   "metadata": {
    "execution": {
     "iopub.execute_input": "2022-02-16T21:36:54.212086Z",
     "iopub.status.busy": "2022-02-16T21:36:54.209173Z",
     "iopub.status.idle": "2022-02-16T21:36:54.221338Z",
     "shell.execute_reply": "2022-02-16T21:36:54.219703Z",
     "shell.execute_reply.started": "2022-02-16T21:36:54.211561Z"
    }
   },
   "outputs": [],
   "source": [
    "## check if cached data is available locally\n",
    "import os\n",
    "cwd = os.getcwd()"
   ]
  },
  {
   "cell_type": "code",
   "execution_count": 14,
   "metadata": {
    "execution": {
     "iopub.execute_input": "2022-02-16T21:36:54.226412Z",
     "iopub.status.busy": "2022-02-16T21:36:54.224258Z",
     "iopub.status.idle": "2022-02-16T21:36:54.257145Z",
     "shell.execute_reply": "2022-02-16T21:36:54.255023Z",
     "shell.execute_reply.started": "2022-02-16T21:36:54.226108Z"
    }
   },
   "outputs": [
    {
     "name": "stdout",
     "output_type": "stream",
     "text": [
      "True\n"
     ]
    }
   ],
   "source": [
    "try:\n",
    "    months_bin2 = pd.read_csv(cwd+'/cached_data/nh_user_growth.csv')\n",
    "    months_bin2['year_month'] = pd.to_datetime(months_bin2['year_month'],format='%Y-%m-%d')\n",
    "    data_flag = True\n",
    "except:\n",
    "    data_flag = False\n",
    "print(data_flag)"
   ]
  },
  {
   "cell_type": "code",
   "execution_count": 15,
   "metadata": {
    "execution": {
     "iopub.execute_input": "2022-02-16T21:36:54.260078Z",
     "iopub.status.busy": "2022-02-16T21:36:54.258998Z",
     "iopub.status.idle": "2022-02-16T21:36:54.267098Z",
     "shell.execute_reply": "2022-02-16T21:36:54.265857Z",
     "shell.execute_reply.started": "2022-02-16T21:36:54.260029Z"
    },
    "tags": []
   },
   "outputs": [],
   "source": [
    "from copy import deepcopy"
   ]
  },
  {
   "cell_type": "code",
   "execution_count": 16,
   "metadata": {
    "execution": {
     "iopub.execute_input": "2022-02-16T21:36:54.273936Z",
     "iopub.status.busy": "2022-02-16T21:36:54.272616Z",
     "iopub.status.idle": "2022-02-16T21:36:54.291430Z",
     "shell.execute_reply": "2022-02-16T21:36:54.290127Z",
     "shell.execute_reply.started": "2022-02-16T21:36:54.273865Z"
    },
    "tags": []
   },
   "outputs": [
    {
     "name": "stdout",
     "output_type": "stream",
     "text": [
      "2000\n"
     ]
    }
   ],
   "source": [
    "if data_flag == False: # need to gather all data\n",
    "    start_year = 2002 # 2000 and 2001 done above \n",
    "else:\n",
    "    test_df = months_bin2\n",
    "    test_df = test_df[~(test_df.duplicated(subset=['sim_12_trail'], keep='last') & test_df['sim_12_trail'].eq(0))]\n",
    "    test_df.index = pd.RangeIndex(len(test_df.index))\n",
    "    start_year = (test_df.loc[1, 'year_month']).year\n",
    "    print(start_year)"
   ]
  },
  {
   "cell_type": "code",
   "execution_count": 17,
   "metadata": {
    "execution": {
     "iopub.execute_input": "2022-02-16T21:36:54.296214Z",
     "iopub.status.busy": "2022-02-16T21:36:54.294762Z",
     "iopub.status.idle": "2022-02-16T21:36:54.315631Z",
     "shell.execute_reply": "2022-02-16T21:36:54.312419Z",
     "shell.execute_reply.started": "2022-02-16T21:36:54.296037Z"
    },
    "tags": []
   },
   "outputs": [],
   "source": [
    "months_bin3 = months_bin.iloc[months_bin['year_month'].to_list().index(months_bin2['year_month'].to_list()[-1])+1:,:]\n",
    "months_bin4 = pd.concat([months_bin2,months_bin3])\n",
    "months_bin = deepcopy(months_bin4)"
   ]
  },
  {
   "cell_type": "markdown",
   "metadata": {
    "execution": {
     "iopub.execute_input": "2022-02-16T18:25:29.761041Z",
     "iopub.status.busy": "2022-02-16T18:25:29.759992Z",
     "iopub.status.idle": "2022-02-16T18:25:30.234579Z",
     "shell.execute_reply": "2022-02-16T18:25:30.233381Z",
     "shell.execute_reply.started": "2022-02-16T18:25:29.761003Z"
    },
    "tags": []
   },
   "source": [
    "if data_flag == False: # need to gather all data\n",
    "    start_year = 2002 # 2000 and 2001 done above \n",
    "else:\n",
    "    ts12 = months_bin2['sim_12_trail'].to_list()\n",
    "    ## find all consecutive 0s in sim_12_trail\n",
    "    con0s = [] # indexes of the start of the consecutive zeros\n",
    "    for t_ind,t_val in enumerate(ts12):\n",
    "        con_flag = False\n",
    "        if t_ind > 0:\n",
    "            con_flag = (ts12[t_ind-1]==0) and (t_val==0)\n",
    "        if con_flag == True:\n",
    "            con0s.append(t_ind-1)\n",
    "#     con0s[1] # this should be the new start year\n",
    "#     start_year = months_bin2['year_month'].to_list()[-1].year\n",
    "    start_year = months_bin2['year_month'].to_list()[con0s[1]].year-1\n",
    "    months_bin3 = months_bin.iloc[months_bin['year_month'].to_list().index(months_bin2['year_month'].to_list()[-1])+1:,:]\n",
    "    months_bin4 = pd.concat([months_bin2,months_bin3])\n",
    "    months_bin = deepcopy(months_bin4)\n",
    "    \n",
    "    # join months_bin and months_bin2\n",
    "#     months_bin2['year_month'] = deepcopy(months_bin['year_month'])\n",
    "#     months_bin = deepcopy(months_bin2)"
   ]
  },
  {
   "cell_type": "code",
   "execution_count": null,
   "metadata": {},
   "outputs": [],
   "source": []
  },
  {
   "cell_type": "code",
   "execution_count": 18,
   "metadata": {
    "execution": {
     "iopub.execute_input": "2022-02-16T21:36:54.321410Z",
     "iopub.status.busy": "2022-02-16T21:36:54.320493Z",
     "iopub.status.idle": "2022-02-16T21:36:54.357165Z",
     "shell.execute_reply": "2022-02-16T21:36:54.354389Z",
     "shell.execute_reply.started": "2022-02-16T21:36:54.321357Z"
    }
   },
   "outputs": [
    {
     "data": {
      "text/html": [
       "<div>\n",
       "<style scoped>\n",
       "    .dataframe tbody tr th:only-of-type {\n",
       "        vertical-align: middle;\n",
       "    }\n",
       "\n",
       "    .dataframe tbody tr th {\n",
       "        vertical-align: top;\n",
       "    }\n",
       "\n",
       "    .dataframe thead th {\n",
       "        text-align: right;\n",
       "    }\n",
       "</style>\n",
       "<table border=\"1\" class=\"dataframe\">\n",
       "  <thead>\n",
       "    <tr style=\"text-align: right;\">\n",
       "      <th></th>\n",
       "      <th>year_month</th>\n",
       "      <th>registered_12_trail</th>\n",
       "      <th>sim_12_trail</th>\n",
       "      <th>visitors_12_trail</th>\n",
       "    </tr>\n",
       "  </thead>\n",
       "  <tbody>\n",
       "    <tr>\n",
       "      <th>0</th>\n",
       "      <td>2000-01-01</td>\n",
       "      <td>15</td>\n",
       "      <td>0</td>\n",
       "      <td>0.0</td>\n",
       "    </tr>\n",
       "    <tr>\n",
       "      <th>1</th>\n",
       "      <td>2000-02-01</td>\n",
       "      <td>19</td>\n",
       "      <td>0</td>\n",
       "      <td>0.0</td>\n",
       "    </tr>\n",
       "  </tbody>\n",
       "</table>\n",
       "</div>"
      ],
      "text/plain": [
       "  year_month  registered_12_trail  sim_12_trail  visitors_12_trail\n",
       "0 2000-01-01                   15             0                0.0\n",
       "1 2000-02-01                   19             0                0.0"
      ]
     },
     "metadata": {},
     "output_type": "display_data"
    },
    {
     "data": {
      "text/html": [
       "<div>\n",
       "<style scoped>\n",
       "    .dataframe tbody tr th:only-of-type {\n",
       "        vertical-align: middle;\n",
       "    }\n",
       "\n",
       "    .dataframe tbody tr th {\n",
       "        vertical-align: top;\n",
       "    }\n",
       "\n",
       "    .dataframe thead th {\n",
       "        text-align: right;\n",
       "    }\n",
       "</style>\n",
       "<table border=\"1\" class=\"dataframe\">\n",
       "  <thead>\n",
       "    <tr style=\"text-align: right;\">\n",
       "      <th></th>\n",
       "      <th>year_month</th>\n",
       "      <th>registered_12_trail</th>\n",
       "      <th>sim_12_trail</th>\n",
       "      <th>visitors_12_trail</th>\n",
       "    </tr>\n",
       "  </thead>\n",
       "  <tbody>\n",
       "    <tr>\n",
       "      <th>290</th>\n",
       "      <td>2023-01-01</td>\n",
       "      <td>4839</td>\n",
       "      <td>0</td>\n",
       "      <td>NaN</td>\n",
       "    </tr>\n",
       "    <tr>\n",
       "      <th>291</th>\n",
       "      <td>2023-02-01</td>\n",
       "      <td>1209</td>\n",
       "      <td>0</td>\n",
       "      <td>NaN</td>\n",
       "    </tr>\n",
       "  </tbody>\n",
       "</table>\n",
       "</div>"
      ],
      "text/plain": [
       "    year_month  registered_12_trail  sim_12_trail  visitors_12_trail\n",
       "290 2023-01-01                 4839             0                NaN\n",
       "291 2023-02-01                 1209             0                NaN"
      ]
     },
     "metadata": {},
     "output_type": "display_data"
    }
   ],
   "source": [
    "months_bin = months_bin.drop(columns=['Unnamed: 0'])\n",
    "display(months_bin.head(2))\n",
    "display(months_bin.tail(2))"
   ]
  },
  {
   "cell_type": "code",
   "execution_count": null,
   "metadata": {
    "execution": {
     "iopub.execute_input": "2022-02-16T21:36:54.360483Z",
     "iopub.status.busy": "2022-02-16T21:36:54.359681Z"
    },
    "tags": []
   },
   "outputs": [
    {
     "name": "stdout",
     "output_type": "stream",
     "text": [
      "'1999-01-01' '2001-01-01'\n",
      "(66274, 5)\n",
      "'2000-01-01' '2002-01-01'\n",
      "(138857, 5)\n",
      "'2001-01-01' '2003-01-01'\n",
      "(122148, 5)\n",
      "'2002-01-01' '2004-01-01'\n",
      "(136210, 5)\n",
      "'2003-01-01' '2005-01-01'\n",
      "(147533, 5)\n",
      "'2004-01-01' '2006-01-01'\n",
      "(114575, 5)\n",
      "'2005-01-01' '2007-01-01'\n",
      "(195951, 5)\n",
      "'2006-01-01' '2008-01-01'\n",
      "(389282, 5)\n",
      "'2007-01-01' '2009-01-01'\n",
      "(631227, 5)\n",
      "'2008-01-01' '2010-01-01'\n",
      "(755597, 5)\n",
      "'2009-01-01' '2011-01-01'\n",
      "(757271, 5)\n",
      "'2010-01-01' '2012-01-01'\n",
      "(786048, 5)\n",
      "'2011-01-01' '2013-01-01'\n",
      "(812523, 5)\n",
      "'2012-01-01' '2014-01-01'\n",
      "(914351, 5)\n"
     ]
    }
   ],
   "source": [
    "try:\n",
    "    temp = pd.read_csv(cwd+'/cached_data/toolstarts_by_year_month.csv')\n",
    "    print('Found cached file')\n",
    "except:\n",
    "    while start_year < today.year+1:\n",
    "        prev_temp_ind = months_bin['year_month'].to_list().index(pd.to_datetime(str(start_year)+'-01-01')) \n",
    "\n",
    "        start_year += 1\n",
    "        end_date = r\"'\"+str(start_year)+r\"-01-01'\"\n",
    "        start_date = r\"'\"+str(start_year-2)+r\"-01-01'\"\n",
    "\n",
    "        sql_query = \"select datetime,ip,countryip,user,tool from toolstart where user != 'instanton' \"\\\n",
    "            +\"and user != 'gridstat' and datetime <= \"+end_date+\" and datetime >= \"+start_date+\" order by datetime desc\"\n",
    "        toolstart_df = pd.read_sql_query(sql_query, nanohub_metrics_db)\n",
    "        toolstart_df['datetime'] = pd.to_datetime(toolstart_df.datetime)\n",
    "        print(start_date, end_date)\n",
    "        print(toolstart_df.shape)\n",
    "\n",
    "        temp2 = months_bin.year_month.apply(lambda x: toolstart_df.user[(toolstart_df.datetime < x) \\\n",
    "                                            &(toolstart_df.datetime > (x-datetime.timedelta(days=365)))].nunique() )\n",
    "\n",
    "        max_temp_ind = months_bin['year_month'].to_list().index(pd.to_datetime(str(start_year)+'-01-01')) \n",
    "\n",
    "        temp[prev_temp_ind:max_temp_ind] = temp2[prev_temp_ind:max_temp_ind] #updates months_bin as pointer effect\n",
    "\n",
    "    temp.to_csv(cwd+'/cached_data/toolstarts_by_year_month.csv', index=None)\n",
    "    \n",
    "print(temp)"
   ]
  },
  {
   "cell_type": "code",
   "execution_count": null,
   "metadata": {
    "tags": []
   },
   "outputs": [],
   "source": [
    "months_bin['sim_12_trail'] = deepcopy(temp)"
   ]
  },
  {
   "cell_type": "code",
   "execution_count": null,
   "metadata": {
    "tags": []
   },
   "outputs": [],
   "source": [
    "months_bin.iloc[:-55,:]"
   ]
  },
  {
   "cell_type": "code",
   "execution_count": null,
   "metadata": {},
   "outputs": [],
   "source": [
    "display(months_bin.tail())"
   ]
  },
  {
   "cell_type": "code",
   "execution_count": null,
   "metadata": {
    "tags": []
   },
   "outputs": [],
   "source": [
    "# months_bin['year_month'].to_list()[-32:] #12 + today.month"
   ]
  },
  {
   "cell_type": "code",
   "execution_count": null,
   "metadata": {
    "tags": []
   },
   "outputs": [],
   "source": [
    "if data_flag == True: \n",
    "    months_bin2 = months_bin.iloc[:months_bin.shape[0]-(1*24+today.month),:]"
   ]
  },
  {
   "cell_type": "code",
   "execution_count": null,
   "metadata": {
    "tags": []
   },
   "outputs": [],
   "source": [
    "display(months_bin2.tail(5))"
   ]
  },
  {
   "cell_type": "code",
   "execution_count": null,
   "metadata": {
    "tags": []
   },
   "outputs": [],
   "source": [
    "# calculating total number of visitors\n",
    "import json\n",
    "with open(cwd+'/visitors.json') as f: # obtain visitors.json from https://nanohub.org/usage and viewing page source at lines 273-278\n",
    "    visitor_dict = f.read()\n",
    "    visitor_dict = visitor_dict.replace(\"\\'\",'\\\"')\n",
    "    visitor_dict = json.loads(visitor_dict)"
   ]
  },
  {
   "cell_type": "code",
   "execution_count": null,
   "metadata": {
    "tags": []
   },
   "outputs": [],
   "source": [
    "import re\n",
    "pattern = re.compile('\\d+]')\n",
    "step1 = re.findall(pattern,visitor_dict['data'])\n",
    "res_visitors = [i[:-1] for i in step1]"
   ]
  },
  {
   "cell_type": "code",
   "execution_count": null,
   "metadata": {
    "tags": []
   },
   "outputs": [],
   "source": [
    "import numpy as np\n",
    "res_visitors2 = list(np.zeros(12*6+14)) + res_visitors"
   ]
  },
  {
   "cell_type": "code",
   "execution_count": null,
   "metadata": {
    "tags": []
   },
   "outputs": [],
   "source": [
    "print(len(res_visitors2))\n",
    "print(res_visitors2[-5:])"
   ]
  },
  {
   "cell_type": "code",
   "execution_count": null,
   "metadata": {
    "tags": []
   },
   "outputs": [],
   "source": [
    "months_bin2"
   ]
  },
  {
   "cell_type": "code",
   "execution_count": null,
   "metadata": {
    "tags": []
   },
   "outputs": [],
   "source": [
    "while months_bin2.shape[0] < len(res_visitors2):\n",
    "    res_visitors2 = res_visitors2[1:]\n",
    "# display(months_bin.iloc[-20:-10,:])"
   ]
  },
  {
   "cell_type": "code",
   "execution_count": null,
   "metadata": {
    "tags": []
   },
   "outputs": [],
   "source": [
    "months_bin2['visitors_12_trail'] = res_visitors2"
   ]
  },
  {
   "cell_type": "code",
   "execution_count": null,
   "metadata": {
    "tags": []
   },
   "outputs": [],
   "source": [
    "months_bin = deepcopy(months_bin2)"
   ]
  },
  {
   "cell_type": "code",
   "execution_count": null,
   "metadata": {
    "tags": []
   },
   "outputs": [],
   "source": [
    "months_bin.shape"
   ]
  },
  {
   "cell_type": "code",
   "execution_count": null,
   "metadata": {
    "tags": []
   },
   "outputs": [],
   "source": [
    "months_bin.to_csv(cwd+'/cached_data/nh_user_growth.csv')\n",
    "print('latest data cached')"
   ]
  },
  {
   "cell_type": "code",
   "execution_count": null,
   "metadata": {
    "tags": []
   },
   "outputs": [],
   "source": [
    "months_bin"
   ]
  },
  {
   "cell_type": "code",
   "execution_count": null,
   "metadata": {
    "tags": []
   },
   "outputs": [],
   "source": [
    "with open(cwd+'/dev_flags.txt','r') as f:\n",
    "    raw_flags = f.read()\n",
    "flag_pattern = re.compile(r'= \\w+')\n",
    "flags1 = re.findall(flag_pattern,raw_flags)    \n",
    "flags_result = [i[2:] for i in flags1]\n",
    "dev_flag = flags_result[0]\n",
    "prod_flag = flags_result[1]"
   ]
  },
  {
   "cell_type": "code",
   "execution_count": null,
   "metadata": {
    "tags": []
   },
   "outputs": [],
   "source": [
    "from matplotlib import pyplot as plt\n",
    "import seaborn as sns\n",
    "import os\n",
    "sns.set()\n",
    "sns.set_style(\"white\")\n",
    "#plt.figure(figsize=(9,6))\n",
    "fig, ax1 = plt.subplots()\n",
    "ax1.clear()\n",
    "ax1.plot(months_bin.year_month[:], months_bin.registered_12_trail[:], color='red', label='New Registered Users');\n",
    "ax1.plot(months_bin.year_month[:], months_bin.sim_12_trail[:], color='blue', label='Simulation Users');\n",
    "#plt.plot(months_bin.year_month,res_visitors2)\n",
    "\n",
    "ax1.set_title('nanoHUB user growth');\n",
    "\n",
    "ax1.set_xlim([datetime.datetime(2000,1,1), datetime.datetime(2022,4,1)]);\n",
    "ax1.set_ylim([0, 35000])\n",
    "ax1.set_yticks(np.arange(0,35000,5000))\n",
    "ax1.tick_params(axis='y',labelcolor='red')\n",
    "# ax1.set_ylabel('Unique Users/Month')\n",
    "\n",
    "ax2 = ax1.twinx()\n",
    "# ax2.set_ylabel('Unique Visitors/Month')\n",
    "ax2.plot(months_bin.year_month[:],months_bin.visitors_12_trail[:],color='green',label='Unique Monthly Visitors')\n",
    "ax2.tick_params(axis='y',labelcolor='green')\n",
    "ax2.set_yticks(np.arange(0,2000000+250000,250000))\n",
    "ax2.set_ylim([0,2000000+250000])\n",
    "# ax2.legend(loc='center left')\n",
    "# plt.ylabel('Annualized nanoHUB Visitors');\n",
    "# ax1.legend(loc='upper left');\n",
    "# ax1.legend()\n",
    "# ax2.legend()\n",
    "\n",
    "h,l = ax1.get_legend_handles_labels()\n",
    "h2,l2 = ax2.get_legend_handles_labels()\n",
    "kw = dict(ncol=3,loc = 'lower center',frameon=False)\n",
    "#(x, y, width, height)\n",
    "#h += h2\n",
    "#l += l2\n",
    "leg1 = ax1.legend(h,l,bbox_to_anchor=(-0.15,1.05,1.3,0.2),\\\n",
    "                mode='expand',fontsize=10,**kw)\n",
    "ax1.add_artist(leg1)\n",
    "\n",
    "cwd = os.getcwd()\n"
   ]
  },
  {
   "cell_type": "code",
   "execution_count": null,
   "metadata": {},
   "outputs": [],
   "source": []
  }
 ],
 "metadata": {
  "kernelspec": {
   "display_name": "Python 3 (ipykernel)",
   "language": "python",
   "name": "python3"
  },
  "language_info": {
   "codemirror_mode": {
    "name": "ipython",
    "version": 3
   },
   "file_extension": ".py",
   "mimetype": "text/x-python",
   "name": "python",
   "nbconvert_exporter": "python",
   "pygments_lexer": "ipython3",
   "version": "3.8.10"
  }
 },
 "nbformat": 4,
 "nbformat_minor": 4
}
