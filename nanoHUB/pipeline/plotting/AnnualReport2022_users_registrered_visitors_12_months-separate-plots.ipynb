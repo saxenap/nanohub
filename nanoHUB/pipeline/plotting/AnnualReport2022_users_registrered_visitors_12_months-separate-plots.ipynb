{
 "cells": [
  {
   "cell_type": "code",
   "execution_count": 1,
   "metadata": {
    "execution": {
     "iopub.execute_input": "2022-02-17T15:30:28.007518Z",
     "iopub.status.busy": "2022-02-17T15:30:28.006039Z",
     "iopub.status.idle": "2022-02-17T15:30:28.902279Z",
     "shell.execute_reply": "2022-02-17T15:30:28.900346Z",
     "shell.execute_reply.started": "2022-02-17T15:30:28.007328Z"
    }
   },
   "outputs": [],
   "source": [
    "import sys\n",
    "\n",
    "import pandas as pd\n",
    "import time\n",
    "import datetime"
   ]
  },
  {
   "cell_type": "code",
   "execution_count": 2,
   "metadata": {
    "execution": {
     "iopub.execute_input": "2022-02-17T15:30:28.911737Z",
     "iopub.status.busy": "2022-02-17T15:30:28.911274Z",
     "iopub.status.idle": "2022-02-17T15:30:28.935200Z",
     "shell.execute_reply": "2022-02-17T15:30:28.932627Z",
     "shell.execute_reply.started": "2022-02-17T15:30:28.911683Z"
    }
   },
   "outputs": [],
   "source": [
    "import warnings\n",
    "warnings.filterwarnings('ignore')\n",
    "# warnings.filterwarnings(action='once')\n",
    "warnings.simplefilter(action='ignore', category=FutureWarning)"
   ]
  },
  {
   "cell_type": "code",
   "execution_count": null,
   "metadata": {},
   "outputs": [],
   "source": []
  },
  {
   "cell_type": "code",
   "execution_count": 3,
   "metadata": {
    "execution": {
     "iopub.execute_input": "2022-02-17T15:30:28.949998Z",
     "iopub.status.busy": "2022-02-17T15:30:28.948720Z",
     "iopub.status.idle": "2022-02-17T15:30:32.302255Z",
     "shell.execute_reply": "2022-02-17T15:30:32.300659Z",
     "shell.execute_reply.started": "2022-02-17T15:30:28.949793Z"
    }
   },
   "outputs": [
    {
     "name": "stdout",
     "output_type": "stream",
     "text": [
      "\u001b[1mnanoHUB - Serving Students, Researchers & Instructors\u001b[0m\n",
      "Obtained Salesforce access token ...... True\n"
     ]
    }
   ],
   "source": [
    "from nanoHUB.application import Application\n",
    "\n",
    "application = Application.get_instance()\n",
    "nanohub_db = application.new_db_engine('nanohub')\n",
    "nanohub_metrics_db = application.new_db_engine('nanohub_metrics')\n",
    "wang159_myrmekes_db = application.new_db_engine('rfm_data')\n",
    "\n",
    "salesforce = application.new_salesforce_engine()\n",
    "db_s = salesforce"
   ]
  },
  {
   "cell_type": "markdown",
   "metadata": {},
   "source": [
    "## Nanohub user growth"
   ]
  },
  {
   "cell_type": "code",
   "execution_count": 4,
   "metadata": {
    "execution": {
     "iopub.execute_input": "2022-02-17T15:30:32.305742Z",
     "iopub.status.busy": "2022-02-17T15:30:32.304913Z",
     "iopub.status.idle": "2022-02-17T15:30:32.319172Z",
     "shell.execute_reply": "2022-02-17T15:30:32.314765Z",
     "shell.execute_reply.started": "2022-02-17T15:30:32.305691Z"
    }
   },
   "outputs": [],
   "source": [
    "## need \n",
    "# 1) jos_users from nanohub with id,name,username,email,registerDate,lastvisitDate -> registered users\n",
    "# 2) toolstart df filtered by username -> simulation users\n",
    "\n",
    "# x-axis: each month from 2000 to current_year\n",
    "\n",
    "# y-axis: 12 month trailing sum\n",
    "\n",
    "# simulation users: unique users who have run at least 1 simulation\n",
    "\n",
    "# registered users: new user registeration\n",
    "\n",
    "# visitor count: unique IP address"
   ]
  },
  {
   "cell_type": "code",
   "execution_count": 5,
   "metadata": {
    "execution": {
     "iopub.execute_input": "2022-02-17T15:30:32.323118Z",
     "iopub.status.busy": "2022-02-17T15:30:32.321574Z",
     "iopub.status.idle": "2022-02-17T15:31:11.263416Z",
     "shell.execute_reply": "2022-02-17T15:31:11.260131Z",
     "shell.execute_reply.started": "2022-02-17T15:30:32.323036Z"
    }
   },
   "outputs": [
    {
     "data": {
      "text/html": [
       "<div>\n",
       "<style scoped>\n",
       "    .dataframe tbody tr th:only-of-type {\n",
       "        vertical-align: middle;\n",
       "    }\n",
       "\n",
       "    .dataframe tbody tr th {\n",
       "        vertical-align: top;\n",
       "    }\n",
       "\n",
       "    .dataframe thead th {\n",
       "        text-align: right;\n",
       "    }\n",
       "</style>\n",
       "<table border=\"1\" class=\"dataframe\">\n",
       "  <thead>\n",
       "    <tr style=\"text-align: right;\">\n",
       "      <th></th>\n",
       "      <th>id</th>\n",
       "      <th>name</th>\n",
       "      <th>username</th>\n",
       "      <th>email</th>\n",
       "      <th>registerDate</th>\n",
       "      <th>lastvisitDate</th>\n",
       "    </tr>\n",
       "  </thead>\n",
       "  <tbody>\n",
       "    <tr>\n",
       "      <th>0</th>\n",
       "      <td>356680</td>\n",
       "      <td>王鸣雁</td>\n",
       "      <td>-193187</td>\n",
       "      <td>-193187@invalid</td>\n",
       "      <td>2022-02-12 02:27:35</td>\n",
       "      <td>2022-02-12 02:27:36</td>\n",
       "    </tr>\n",
       "    <tr>\n",
       "      <th>1</th>\n",
       "      <td>356679</td>\n",
       "      <td>Mahdi Salari</td>\n",
       "      <td>mahdisalari82020</td>\n",
       "      <td>mahdisalari82020@gmail.com</td>\n",
       "      <td>2022-02-12 02:18:29</td>\n",
       "      <td>2022-02-12 02:18:30</td>\n",
       "    </tr>\n",
       "  </tbody>\n",
       "</table>\n",
       "</div>"
      ],
      "text/plain": [
       "       id          name          username                       email  \\\n",
       "0  356680           王鸣雁           -193187             -193187@invalid   \n",
       "1  356679  Mahdi Salari  mahdisalari82020  mahdisalari82020@gmail.com   \n",
       "\n",
       "         registerDate       lastvisitDate  \n",
       "0 2022-02-12 02:27:35 2022-02-12 02:27:36  \n",
       "1 2022-02-12 02:18:29 2022-02-12 02:18:30  "
      ]
     },
     "metadata": {},
     "output_type": "display_data"
    },
    {
     "name": "stdout",
     "output_type": "stream",
     "text": [
      "(272691, 6)\n"
     ]
    }
   ],
   "source": [
    "## build jos_users_full\n",
    "sql_query = \"select id,name,username,email,registerDate,lastvisitDate from jos_users order by registerDate desc\"\n",
    "jos_users_full = pd.read_sql_query(sql_query, nanohub_db)\n",
    "display(jos_users_full.head(2))\n",
    "print(jos_users_full.shape)"
   ]
  },
  {
   "cell_type": "code",
   "execution_count": 6,
   "metadata": {
    "execution": {
     "iopub.execute_input": "2022-02-17T15:31:11.269965Z",
     "iopub.status.busy": "2022-02-17T15:31:11.267016Z",
     "iopub.status.idle": "2022-02-17T15:31:23.461452Z",
     "shell.execute_reply": "2022-02-17T15:31:23.458338Z",
     "shell.execute_reply.started": "2022-02-17T15:31:11.269894Z"
    }
   },
   "outputs": [
    {
     "data": {
      "text/html": [
       "<div>\n",
       "<style scoped>\n",
       "    .dataframe tbody tr th:only-of-type {\n",
       "        vertical-align: middle;\n",
       "    }\n",
       "\n",
       "    .dataframe tbody tr th {\n",
       "        vertical-align: top;\n",
       "    }\n",
       "\n",
       "    .dataframe thead th {\n",
       "        text-align: right;\n",
       "    }\n",
       "</style>\n",
       "<table border=\"1\" class=\"dataframe\">\n",
       "  <thead>\n",
       "    <tr style=\"text-align: right;\">\n",
       "      <th></th>\n",
       "      <th>datetime</th>\n",
       "      <th>ip</th>\n",
       "      <th>countryip</th>\n",
       "      <th>user</th>\n",
       "      <th>tool</th>\n",
       "    </tr>\n",
       "  </thead>\n",
       "  <tbody>\n",
       "    <tr>\n",
       "      <th>0</th>\n",
       "      <td>2001-12-31 23:23:51</td>\n",
       "      <td>68.32.42.69</td>\n",
       "      <td>US</td>\n",
       "      <td>jjeon</td>\n",
       "      <td>Adeptf</td>\n",
       "    </tr>\n",
       "    <tr>\n",
       "      <th>1</th>\n",
       "      <td>2001-12-31 23:23:23</td>\n",
       "      <td>68.32.42.69</td>\n",
       "      <td>US</td>\n",
       "      <td>jjeon</td>\n",
       "      <td>Adeptf</td>\n",
       "    </tr>\n",
       "  </tbody>\n",
       "</table>\n",
       "</div>"
      ],
      "text/plain": [
       "             datetime           ip countryip   user    tool\n",
       "0 2001-12-31 23:23:51  68.32.42.69        US  jjeon  Adeptf\n",
       "1 2001-12-31 23:23:23  68.32.42.69        US  jjeon  Adeptf"
      ]
     },
     "metadata": {},
     "output_type": "display_data"
    },
    {
     "name": "stdout",
     "output_type": "stream",
     "text": [
      "(138857, 5)\n"
     ]
    }
   ],
   "source": [
    " ## build all users list\n",
    "sql_query = \"select datetime,ip,countryip,user,tool from toolstart where user != 'instanton' \"\\\n",
    "+\"and user != 'gridstat' and datetime <= '2002-01-01' and datetime >= '0000-01-01' order by datetime desc\"\n",
    "toolstart_df = pd.read_sql_query(sql_query, nanohub_metrics_db)\n",
    "display(toolstart_df.head(2))\n",
    "print(toolstart_df.shape)"
   ]
  },
  {
   "cell_type": "code",
   "execution_count": 7,
   "metadata": {
    "execution": {
     "iopub.execute_input": "2022-02-17T15:31:23.465686Z",
     "iopub.status.busy": "2022-02-17T15:31:23.465344Z",
     "iopub.status.idle": "2022-02-17T15:31:23.518867Z",
     "shell.execute_reply": "2022-02-17T15:31:23.516464Z",
     "shell.execute_reply.started": "2022-02-17T15:31:23.465653Z"
    }
   },
   "outputs": [],
   "source": [
    "## convert the dataframes to datetime\n",
    "jos_users_full['registerDate'] = pd.to_datetime(jos_users_full.registerDate)\n",
    "jos_users_full['lastvisitDate'] = pd.to_datetime(jos_users_full.lastvisitDate)\n",
    "\n",
    "toolstart_df['datetime'] = pd.to_datetime(toolstart_df.datetime)"
   ]
  },
  {
   "cell_type": "code",
   "execution_count": 8,
   "metadata": {
    "execution": {
     "iopub.execute_input": "2022-02-17T15:31:23.521441Z",
     "iopub.status.busy": "2022-02-17T15:31:23.520645Z",
     "iopub.status.idle": "2022-02-17T15:31:23.547554Z",
     "shell.execute_reply": "2022-02-17T15:31:23.544522Z",
     "shell.execute_reply.started": "2022-02-17T15:31:23.521392Z"
    }
   },
   "outputs": [
    {
     "name": "stdout",
     "output_type": "stream",
     "text": [
      "2022-02-17 15:31:23.523246\n"
     ]
    }
   ],
   "source": [
    "import datetime\n",
    "today = datetime.datetime.now()\n",
    "print(today)"
   ]
  },
  {
   "cell_type": "code",
   "execution_count": 9,
   "metadata": {
    "execution": {
     "iopub.execute_input": "2022-02-17T15:31:23.551211Z",
     "iopub.status.busy": "2022-02-17T15:31:23.550596Z",
     "iopub.status.idle": "2022-02-17T15:31:23.589609Z",
     "shell.execute_reply": "2022-02-17T15:31:23.588231Z",
     "shell.execute_reply.started": "2022-02-17T15:31:23.551158Z"
    }
   },
   "outputs": [
    {
     "data": {
      "text/html": [
       "<div>\n",
       "<style scoped>\n",
       "    .dataframe tbody tr th:only-of-type {\n",
       "        vertical-align: middle;\n",
       "    }\n",
       "\n",
       "    .dataframe tbody tr th {\n",
       "        vertical-align: top;\n",
       "    }\n",
       "\n",
       "    .dataframe thead th {\n",
       "        text-align: right;\n",
       "    }\n",
       "</style>\n",
       "<table border=\"1\" class=\"dataframe\">\n",
       "  <thead>\n",
       "    <tr style=\"text-align: right;\">\n",
       "      <th></th>\n",
       "      <th>year_month</th>\n",
       "    </tr>\n",
       "  </thead>\n",
       "  <tbody>\n",
       "    <tr>\n",
       "      <th>0</th>\n",
       "      <td>2000-01-01</td>\n",
       "    </tr>\n",
       "    <tr>\n",
       "      <th>1</th>\n",
       "      <td>2000-02-01</td>\n",
       "    </tr>\n",
       "  </tbody>\n",
       "</table>\n",
       "</div>"
      ],
      "text/plain": [
       "  year_month\n",
       "0 2000-01-01\n",
       "1 2000-02-01"
      ]
     },
     "execution_count": 9,
     "metadata": {},
     "output_type": "execute_result"
    }
   ],
   "source": [
    "all_months_list = list()\n",
    "for this_year in range(2000,today.year+2):\n",
    "    for this_month in range(1,12+1):\n",
    "        all_months_list.append(datetime.datetime(this_year, this_month, 1))\n",
    "        \n",
    "for this_year in range(today.year,today.year+2):\n",
    "    for this_month in range(1,today.month+1):\n",
    "        all_months_list.append(datetime.datetime(this_year, this_month, 1))\n",
    "        \n",
    "months_bin = pd.DataFrame(all_months_list, columns=['year_month'])\n",
    "\n",
    "# display\n",
    "months_bin.head(2)"
   ]
  },
  {
   "cell_type": "code",
   "execution_count": 10,
   "metadata": {
    "execution": {
     "iopub.execute_input": "2022-02-17T15:31:23.591480Z",
     "iopub.status.busy": "2022-02-17T15:31:23.591052Z",
     "iopub.status.idle": "2022-02-17T15:31:26.357369Z",
     "shell.execute_reply": "2022-02-17T15:31:26.356301Z",
     "shell.execute_reply.started": "2022-02-17T15:31:23.591417Z"
    }
   },
   "outputs": [],
   "source": [
    "## jos_users_full registration cumulative monthly\n",
    "months_bin['registered_12_trail'] = months_bin.year_month.apply(lambda x:  \\\n",
    "                                jos_users_full.username[(jos_users_full.registerDate < x)\\\n",
    "                            &(jos_users_full.registerDate > (x-datetime.timedelta(days=365)))].nunique() )"
   ]
  },
  {
   "cell_type": "code",
   "execution_count": 11,
   "metadata": {
    "execution": {
     "iopub.execute_input": "2022-02-17T15:31:26.359304Z",
     "iopub.status.busy": "2022-02-17T15:31:26.358460Z",
     "iopub.status.idle": "2022-02-17T15:31:27.420316Z",
     "shell.execute_reply": "2022-02-17T15:31:27.419396Z",
     "shell.execute_reply.started": "2022-02-17T15:31:26.359267Z"
    }
   },
   "outputs": [],
   "source": [
    "##the all users must be done in a bi-yearly basis\n",
    "months_bin['sim_12_trail'] = months_bin.year_month.apply(lambda x: toolstart_df.user[(toolstart_df.datetime < x) \\\n",
    "                                        &(toolstart_df.datetime > (x-datetime.timedelta(days=365)))].nunique() )"
   ]
  },
  {
   "cell_type": "code",
   "execution_count": 12,
   "metadata": {
    "execution": {
     "iopub.execute_input": "2022-02-17T15:31:27.426018Z",
     "iopub.status.busy": "2022-02-17T15:31:27.425438Z",
     "iopub.status.idle": "2022-02-17T15:31:27.444623Z",
     "shell.execute_reply": "2022-02-17T15:31:27.443197Z",
     "shell.execute_reply.started": "2022-02-17T15:31:27.425971Z"
    }
   },
   "outputs": [
    {
     "name": "stdout",
     "output_type": "stream",
     "text": [
      "24\n"
     ]
    }
   ],
   "source": [
    "print(months_bin['year_month'].to_list().index(pd.to_datetime('2002-01-01')) )\n",
    "temp = months_bin['sim_12_trail']#[:25]"
   ]
  },
  {
   "cell_type": "code",
   "execution_count": 13,
   "metadata": {
    "execution": {
     "iopub.execute_input": "2022-02-17T15:31:27.448691Z",
     "iopub.status.busy": "2022-02-17T15:31:27.446894Z",
     "iopub.status.idle": "2022-02-17T15:31:27.459815Z",
     "shell.execute_reply": "2022-02-17T15:31:27.458465Z",
     "shell.execute_reply.started": "2022-02-17T15:31:27.448616Z"
    }
   },
   "outputs": [],
   "source": [
    "## check if cached data is available locally\n",
    "import os\n",
    "cwd = os.getcwd()"
   ]
  },
  {
   "cell_type": "code",
   "execution_count": 14,
   "metadata": {
    "execution": {
     "iopub.execute_input": "2022-02-17T15:31:27.463668Z",
     "iopub.status.busy": "2022-02-17T15:31:27.462535Z",
     "iopub.status.idle": "2022-02-17T15:31:27.516573Z",
     "shell.execute_reply": "2022-02-17T15:31:27.514355Z",
     "shell.execute_reply.started": "2022-02-17T15:31:27.463595Z"
    }
   },
   "outputs": [
    {
     "name": "stdout",
     "output_type": "stream",
     "text": [
      "True\n"
     ]
    }
   ],
   "source": [
    "try:\n",
    "    months_bin2 = pd.read_csv(cwd+'/cached_data/nh_user_growth.csv')\n",
    "    months_bin2['year_month'] = pd.to_datetime(months_bin2['year_month'],format='%Y-%m-%d')\n",
    "    data_flag = True\n",
    "except:\n",
    "    data_flag = False\n",
    "print(data_flag)"
   ]
  },
  {
   "cell_type": "code",
   "execution_count": 15,
   "metadata": {
    "execution": {
     "iopub.execute_input": "2022-02-17T15:31:27.532843Z",
     "iopub.status.busy": "2022-02-17T15:31:27.519084Z",
     "iopub.status.idle": "2022-02-17T15:31:27.558519Z",
     "shell.execute_reply": "2022-02-17T15:31:27.556433Z",
     "shell.execute_reply.started": "2022-02-17T15:31:27.532650Z"
    },
    "tags": []
   },
   "outputs": [],
   "source": [
    "from copy import deepcopy"
   ]
  },
  {
   "cell_type": "code",
   "execution_count": 16,
   "metadata": {
    "execution": {
     "iopub.execute_input": "2022-02-17T15:31:27.560843Z",
     "iopub.status.busy": "2022-02-17T15:31:27.560542Z",
     "iopub.status.idle": "2022-02-17T15:31:27.615064Z",
     "shell.execute_reply": "2022-02-17T15:31:27.609423Z",
     "shell.execute_reply.started": "2022-02-17T15:31:27.560800Z"
    },
    "tags": []
   },
   "outputs": [
    {
     "name": "stdout",
     "output_type": "stream",
     "text": [
      "2000\n"
     ]
    }
   ],
   "source": [
    "if data_flag == False: # need to gather all data\n",
    "    start_year = 2002 # 2000 and 2001 done above \n",
    "else:\n",
    "    test_df = months_bin2\n",
    "    test_df = test_df[~(test_df.duplicated(subset=['sim_12_trail'], keep='last') & test_df['sim_12_trail'].eq(0))]\n",
    "    test_df.index = pd.RangeIndex(len(test_df.index))\n",
    "    start_year = (test_df.loc[1, 'year_month']).year\n",
    "    print(start_year)"
   ]
  },
  {
   "cell_type": "code",
   "execution_count": 17,
   "metadata": {
    "execution": {
     "iopub.execute_input": "2022-02-17T15:31:27.618465Z",
     "iopub.status.busy": "2022-02-17T15:31:27.617738Z",
     "iopub.status.idle": "2022-02-17T15:31:27.653777Z",
     "shell.execute_reply": "2022-02-17T15:31:27.650775Z",
     "shell.execute_reply.started": "2022-02-17T15:31:27.618375Z"
    },
    "tags": []
   },
   "outputs": [],
   "source": [
    "months_bin3 = months_bin.iloc[months_bin['year_month'].to_list().index(months_bin2['year_month'].to_list()[-1])+1:,:]\n",
    "months_bin4 = pd.concat([months_bin2,months_bin3])\n",
    "months_bin = deepcopy(months_bin4)"
   ]
  },
  {
   "cell_type": "markdown",
   "metadata": {
    "execution": {
     "iopub.execute_input": "2022-02-16T18:25:29.761041Z",
     "iopub.status.busy": "2022-02-16T18:25:29.759992Z",
     "iopub.status.idle": "2022-02-16T18:25:30.234579Z",
     "shell.execute_reply": "2022-02-16T18:25:30.233381Z",
     "shell.execute_reply.started": "2022-02-16T18:25:29.761003Z"
    },
    "tags": []
   },
   "source": [
    "if data_flag == False: # need to gather all data\n",
    "    start_year = 2002 # 2000 and 2001 done above \n",
    "else:\n",
    "    ts12 = months_bin2['sim_12_trail'].to_list()\n",
    "    ## find all consecutive 0s in sim_12_trail\n",
    "    con0s = [] # indexes of the start of the consecutive zeros\n",
    "    for t_ind,t_val in enumerate(ts12):\n",
    "        con_flag = False\n",
    "        if t_ind > 0:\n",
    "            con_flag = (ts12[t_ind-1]==0) and (t_val==0)\n",
    "        if con_flag == True:\n",
    "            con0s.append(t_ind-1)\n",
    "#     con0s[1] # this should be the new start year\n",
    "#     start_year = months_bin2['year_month'].to_list()[-1].year\n",
    "    start_year = months_bin2['year_month'].to_list()[con0s[1]].year-1\n",
    "    months_bin3 = months_bin.iloc[months_bin['year_month'].to_list().index(months_bin2['year_month'].to_list()[-1])+1:,:]\n",
    "    months_bin4 = pd.concat([months_bin2,months_bin3])\n",
    "    months_bin = deepcopy(months_bin4)\n",
    "    \n",
    "    # join months_bin and months_bin2\n",
    "#     months_bin2['year_month'] = deepcopy(months_bin['year_month'])\n",
    "#     months_bin = deepcopy(months_bin2)"
   ]
  },
  {
   "cell_type": "code",
   "execution_count": null,
   "metadata": {},
   "outputs": [],
   "source": []
  },
  {
   "cell_type": "code",
   "execution_count": 18,
   "metadata": {
    "execution": {
     "iopub.execute_input": "2022-02-17T15:31:27.659317Z",
     "iopub.status.busy": "2022-02-17T15:31:27.657078Z",
     "iopub.status.idle": "2022-02-17T15:31:27.734537Z",
     "shell.execute_reply": "2022-02-17T15:31:27.732398Z",
     "shell.execute_reply.started": "2022-02-17T15:31:27.659146Z"
    }
   },
   "outputs": [
    {
     "data": {
      "text/html": [
       "<div>\n",
       "<style scoped>\n",
       "    .dataframe tbody tr th:only-of-type {\n",
       "        vertical-align: middle;\n",
       "    }\n",
       "\n",
       "    .dataframe tbody tr th {\n",
       "        vertical-align: top;\n",
       "    }\n",
       "\n",
       "    .dataframe thead th {\n",
       "        text-align: right;\n",
       "    }\n",
       "</style>\n",
       "<table border=\"1\" class=\"dataframe\">\n",
       "  <thead>\n",
       "    <tr style=\"text-align: right;\">\n",
       "      <th></th>\n",
       "      <th>year_month</th>\n",
       "      <th>registered_12_trail</th>\n",
       "      <th>sim_12_trail</th>\n",
       "      <th>visitors_12_trail</th>\n",
       "    </tr>\n",
       "  </thead>\n",
       "  <tbody>\n",
       "    <tr>\n",
       "      <th>0</th>\n",
       "      <td>2000-01-01</td>\n",
       "      <td>15</td>\n",
       "      <td>0</td>\n",
       "      <td>0.0</td>\n",
       "    </tr>\n",
       "    <tr>\n",
       "      <th>1</th>\n",
       "      <td>2000-02-01</td>\n",
       "      <td>19</td>\n",
       "      <td>0</td>\n",
       "      <td>0.0</td>\n",
       "    </tr>\n",
       "  </tbody>\n",
       "</table>\n",
       "</div>"
      ],
      "text/plain": [
       "  year_month  registered_12_trail  sim_12_trail  visitors_12_trail\n",
       "0 2000-01-01                   15             0                0.0\n",
       "1 2000-02-01                   19             0                0.0"
      ]
     },
     "metadata": {},
     "output_type": "display_data"
    },
    {
     "data": {
      "text/html": [
       "<div>\n",
       "<style scoped>\n",
       "    .dataframe tbody tr th:only-of-type {\n",
       "        vertical-align: middle;\n",
       "    }\n",
       "\n",
       "    .dataframe tbody tr th {\n",
       "        vertical-align: top;\n",
       "    }\n",
       "\n",
       "    .dataframe thead th {\n",
       "        text-align: right;\n",
       "    }\n",
       "</style>\n",
       "<table border=\"1\" class=\"dataframe\">\n",
       "  <thead>\n",
       "    <tr style=\"text-align: right;\">\n",
       "      <th></th>\n",
       "      <th>year_month</th>\n",
       "      <th>registered_12_trail</th>\n",
       "      <th>sim_12_trail</th>\n",
       "      <th>visitors_12_trail</th>\n",
       "    </tr>\n",
       "  </thead>\n",
       "  <tbody>\n",
       "    <tr>\n",
       "      <th>290</th>\n",
       "      <td>2023-01-01</td>\n",
       "      <td>4839</td>\n",
       "      <td>0</td>\n",
       "      <td>NaN</td>\n",
       "    </tr>\n",
       "    <tr>\n",
       "      <th>291</th>\n",
       "      <td>2023-02-01</td>\n",
       "      <td>1209</td>\n",
       "      <td>0</td>\n",
       "      <td>NaN</td>\n",
       "    </tr>\n",
       "  </tbody>\n",
       "</table>\n",
       "</div>"
      ],
      "text/plain": [
       "    year_month  registered_12_trail  sim_12_trail  visitors_12_trail\n",
       "290 2023-01-01                 4839             0                NaN\n",
       "291 2023-02-01                 1209             0                NaN"
      ]
     },
     "metadata": {},
     "output_type": "display_data"
    }
   ],
   "source": [
    "months_bin = months_bin.drop(columns=['Unnamed: 0'])\n",
    "display(months_bin.head(2))\n",
    "display(months_bin.tail(2))"
   ]
  },
  {
   "cell_type": "code",
   "execution_count": 19,
   "metadata": {
    "execution": {
     "iopub.execute_input": "2022-02-17T15:31:27.739341Z",
     "iopub.status.busy": "2022-02-17T15:31:27.737859Z",
     "iopub.status.idle": "2022-02-17T15:31:27.799892Z",
     "shell.execute_reply": "2022-02-17T15:31:27.797766Z",
     "shell.execute_reply.started": "2022-02-17T15:31:27.739159Z"
    },
    "tags": []
   },
   "outputs": [
    {
     "name": "stdout",
     "output_type": "stream",
     "text": [
      "Found cached file\n",
      "     sim_12_trail\n",
      "0               0\n",
      "1               0\n",
      "2             133\n",
      "3             199\n",
      "4             244\n",
      "..            ...\n",
      "287             0\n",
      "288             0\n",
      "289             0\n",
      "290             0\n",
      "291             0\n",
      "\n",
      "[292 rows x 1 columns]\n"
     ]
    }
   ],
   "source": [
    "try:\n",
    "    temp = pd.read_csv(cwd+'/cached_data/toolstarts_by_year_month.csv')\n",
    "    print('Found cached file')\n",
    "except:\n",
    "    while start_year < today.year+1:\n",
    "        prev_temp_ind = months_bin['year_month'].to_list().index(pd.to_datetime(str(start_year)+'-01-01')) \n",
    "\n",
    "        start_year += 1\n",
    "        end_date = r\"'\"+str(start_year)+r\"-01-01'\"\n",
    "        start_date = r\"'\"+str(start_year-2)+r\"-01-01'\"\n",
    "\n",
    "        sql_query = \"select datetime,ip,countryip,user,tool from toolstart where user != 'instanton' \"\\\n",
    "            +\"and user != 'gridstat' and datetime <= \"+end_date+\" and datetime >= \"+start_date+\" order by datetime desc\"\n",
    "        toolstart_df = pd.read_sql_query(sql_query, nanohub_metrics_db)\n",
    "        toolstart_df['datetime'] = pd.to_datetime(toolstart_df.datetime)\n",
    "        print(start_date, end_date)\n",
    "        print(toolstart_df.shape)\n",
    "\n",
    "        temp2 = months_bin.year_month.apply(lambda x: toolstart_df.user[(toolstart_df.datetime < x) \\\n",
    "                                            &(toolstart_df.datetime > (x-datetime.timedelta(days=365)))].nunique() )\n",
    "\n",
    "        max_temp_ind = months_bin['year_month'].to_list().index(pd.to_datetime(str(start_year)+'-01-01')) \n",
    "\n",
    "        temp[prev_temp_ind:max_temp_ind] = temp2[prev_temp_ind:max_temp_ind] #updates months_bin as pointer effect\n",
    "\n",
    "    temp.to_csv(cwd+'/cached_data/toolstarts_by_year_month.csv', index=None)\n",
    "    \n",
    "print(temp)"
   ]
  },
  {
   "cell_type": "code",
   "execution_count": 20,
   "metadata": {
    "execution": {
     "iopub.execute_input": "2022-02-17T15:31:27.805983Z",
     "iopub.status.busy": "2022-02-17T15:31:27.803554Z",
     "iopub.status.idle": "2022-02-17T15:31:27.822706Z",
     "shell.execute_reply": "2022-02-17T15:31:27.815118Z",
     "shell.execute_reply.started": "2022-02-17T15:31:27.805905Z"
    },
    "tags": []
   },
   "outputs": [],
   "source": [
    "months_bin['sim_12_trail'] = deepcopy(temp)"
   ]
  },
  {
   "cell_type": "code",
   "execution_count": 21,
   "metadata": {
    "execution": {
     "iopub.execute_input": "2022-02-17T15:31:27.827804Z",
     "iopub.status.busy": "2022-02-17T15:31:27.825902Z",
     "iopub.status.idle": "2022-02-17T15:31:27.867961Z",
     "shell.execute_reply": "2022-02-17T15:31:27.865626Z",
     "shell.execute_reply.started": "2022-02-17T15:31:27.827749Z"
    },
    "tags": []
   },
   "outputs": [
    {
     "data": {
      "text/html": [
       "<div>\n",
       "<style scoped>\n",
       "    .dataframe tbody tr th:only-of-type {\n",
       "        vertical-align: middle;\n",
       "    }\n",
       "\n",
       "    .dataframe tbody tr th {\n",
       "        vertical-align: top;\n",
       "    }\n",
       "\n",
       "    .dataframe thead th {\n",
       "        text-align: right;\n",
       "    }\n",
       "</style>\n",
       "<table border=\"1\" class=\"dataframe\">\n",
       "  <thead>\n",
       "    <tr style=\"text-align: right;\">\n",
       "      <th></th>\n",
       "      <th>year_month</th>\n",
       "      <th>registered_12_trail</th>\n",
       "      <th>sim_12_trail</th>\n",
       "      <th>visitors_12_trail</th>\n",
       "    </tr>\n",
       "  </thead>\n",
       "  <tbody>\n",
       "    <tr>\n",
       "      <th>0</th>\n",
       "      <td>2000-01-01</td>\n",
       "      <td>15</td>\n",
       "      <td>0</td>\n",
       "      <td>0.0</td>\n",
       "    </tr>\n",
       "    <tr>\n",
       "      <th>1</th>\n",
       "      <td>2000-02-01</td>\n",
       "      <td>19</td>\n",
       "      <td>0</td>\n",
       "      <td>0.0</td>\n",
       "    </tr>\n",
       "    <tr>\n",
       "      <th>2</th>\n",
       "      <td>2000-03-01</td>\n",
       "      <td>24</td>\n",
       "      <td>133</td>\n",
       "      <td>0.0</td>\n",
       "    </tr>\n",
       "    <tr>\n",
       "      <th>3</th>\n",
       "      <td>2000-04-01</td>\n",
       "      <td>26</td>\n",
       "      <td>199</td>\n",
       "      <td>0.0</td>\n",
       "    </tr>\n",
       "    <tr>\n",
       "      <th>4</th>\n",
       "      <td>2000-05-01</td>\n",
       "      <td>30</td>\n",
       "      <td>244</td>\n",
       "      <td>0.0</td>\n",
       "    </tr>\n",
       "    <tr>\n",
       "      <th>...</th>\n",
       "      <td>...</td>\n",
       "      <td>...</td>\n",
       "      <td>...</td>\n",
       "      <td>...</td>\n",
       "    </tr>\n",
       "    <tr>\n",
       "      <th>232</th>\n",
       "      <td>2019-05-01</td>\n",
       "      <td>24300</td>\n",
       "      <td>17453</td>\n",
       "      <td>1480975.0</td>\n",
       "    </tr>\n",
       "    <tr>\n",
       "      <th>233</th>\n",
       "      <td>2019-06-01</td>\n",
       "      <td>24604</td>\n",
       "      <td>17370</td>\n",
       "      <td>1487253.0</td>\n",
       "    </tr>\n",
       "    <tr>\n",
       "      <th>234</th>\n",
       "      <td>2019-07-01</td>\n",
       "      <td>24641</td>\n",
       "      <td>17350</td>\n",
       "      <td>1490924.0</td>\n",
       "    </tr>\n",
       "    <tr>\n",
       "      <th>235</th>\n",
       "      <td>2019-08-01</td>\n",
       "      <td>24713</td>\n",
       "      <td>17121</td>\n",
       "      <td>1496080.0</td>\n",
       "    </tr>\n",
       "    <tr>\n",
       "      <th>236</th>\n",
       "      <td>2019-09-01</td>\n",
       "      <td>24930</td>\n",
       "      <td>17110</td>\n",
       "      <td>1498455.0</td>\n",
       "    </tr>\n",
       "  </tbody>\n",
       "</table>\n",
       "<p>237 rows × 4 columns</p>\n",
       "</div>"
      ],
      "text/plain": [
       "    year_month  registered_12_trail  sim_12_trail  visitors_12_trail\n",
       "0   2000-01-01                   15             0                0.0\n",
       "1   2000-02-01                   19             0                0.0\n",
       "2   2000-03-01                   24           133                0.0\n",
       "3   2000-04-01                   26           199                0.0\n",
       "4   2000-05-01                   30           244                0.0\n",
       "..         ...                  ...           ...                ...\n",
       "232 2019-05-01                24300         17453          1480975.0\n",
       "233 2019-06-01                24604         17370          1487253.0\n",
       "234 2019-07-01                24641         17350          1490924.0\n",
       "235 2019-08-01                24713         17121          1496080.0\n",
       "236 2019-09-01                24930         17110          1498455.0\n",
       "\n",
       "[237 rows x 4 columns]"
      ]
     },
     "execution_count": 21,
     "metadata": {},
     "output_type": "execute_result"
    }
   ],
   "source": [
    "months_bin.iloc[:-55,:]"
   ]
  },
  {
   "cell_type": "code",
   "execution_count": 22,
   "metadata": {
    "execution": {
     "iopub.execute_input": "2022-02-17T15:31:27.873183Z",
     "iopub.status.busy": "2022-02-17T15:31:27.871019Z",
     "iopub.status.idle": "2022-02-17T15:31:27.903430Z",
     "shell.execute_reply": "2022-02-17T15:31:27.900484Z",
     "shell.execute_reply.started": "2022-02-17T15:31:27.873019Z"
    }
   },
   "outputs": [
    {
     "data": {
      "text/html": [
       "<div>\n",
       "<style scoped>\n",
       "    .dataframe tbody tr th:only-of-type {\n",
       "        vertical-align: middle;\n",
       "    }\n",
       "\n",
       "    .dataframe tbody tr th {\n",
       "        vertical-align: top;\n",
       "    }\n",
       "\n",
       "    .dataframe thead th {\n",
       "        text-align: right;\n",
       "    }\n",
       "</style>\n",
       "<table border=\"1\" class=\"dataframe\">\n",
       "  <thead>\n",
       "    <tr style=\"text-align: right;\">\n",
       "      <th></th>\n",
       "      <th>year_month</th>\n",
       "      <th>registered_12_trail</th>\n",
       "      <th>sim_12_trail</th>\n",
       "      <th>visitors_12_trail</th>\n",
       "    </tr>\n",
       "  </thead>\n",
       "  <tbody>\n",
       "    <tr>\n",
       "      <th>287</th>\n",
       "      <td>2023-12-01</td>\n",
       "      <td>0</td>\n",
       "      <td>0</td>\n",
       "      <td>NaN</td>\n",
       "    </tr>\n",
       "    <tr>\n",
       "      <th>288</th>\n",
       "      <td>2022-01-01</td>\n",
       "      <td>31354</td>\n",
       "      <td>0</td>\n",
       "      <td>NaN</td>\n",
       "    </tr>\n",
       "    <tr>\n",
       "      <th>289</th>\n",
       "      <td>2022-02-01</td>\n",
       "      <td>32334</td>\n",
       "      <td>0</td>\n",
       "      <td>NaN</td>\n",
       "    </tr>\n",
       "    <tr>\n",
       "      <th>290</th>\n",
       "      <td>2023-01-01</td>\n",
       "      <td>4839</td>\n",
       "      <td>0</td>\n",
       "      <td>NaN</td>\n",
       "    </tr>\n",
       "    <tr>\n",
       "      <th>291</th>\n",
       "      <td>2023-02-01</td>\n",
       "      <td>1209</td>\n",
       "      <td>0</td>\n",
       "      <td>NaN</td>\n",
       "    </tr>\n",
       "  </tbody>\n",
       "</table>\n",
       "</div>"
      ],
      "text/plain": [
       "    year_month  registered_12_trail  sim_12_trail  visitors_12_trail\n",
       "287 2023-12-01                    0             0                NaN\n",
       "288 2022-01-01                31354             0                NaN\n",
       "289 2022-02-01                32334             0                NaN\n",
       "290 2023-01-01                 4839             0                NaN\n",
       "291 2023-02-01                 1209             0                NaN"
      ]
     },
     "metadata": {},
     "output_type": "display_data"
    }
   ],
   "source": [
    "display(months_bin.tail())"
   ]
  },
  {
   "cell_type": "code",
   "execution_count": 23,
   "metadata": {
    "execution": {
     "iopub.execute_input": "2022-02-17T15:31:27.909745Z",
     "iopub.status.busy": "2022-02-17T15:31:27.907112Z",
     "iopub.status.idle": "2022-02-17T15:31:27.924143Z",
     "shell.execute_reply": "2022-02-17T15:31:27.918107Z",
     "shell.execute_reply.started": "2022-02-17T15:31:27.909684Z"
    },
    "tags": []
   },
   "outputs": [],
   "source": [
    "# months_bin['year_month'].to_list()[-32:] #12 + today.month"
   ]
  },
  {
   "cell_type": "code",
   "execution_count": 24,
   "metadata": {
    "execution": {
     "iopub.execute_input": "2022-02-17T15:31:27.935197Z",
     "iopub.status.busy": "2022-02-17T15:31:27.930653Z",
     "iopub.status.idle": "2022-02-17T15:31:27.954605Z",
     "shell.execute_reply": "2022-02-17T15:31:27.948712Z",
     "shell.execute_reply.started": "2022-02-17T15:31:27.935111Z"
    },
    "tags": []
   },
   "outputs": [],
   "source": [
    "if data_flag == True: \n",
    "    months_bin2 = months_bin.iloc[:months_bin.shape[0]-(1*24+today.month),:]"
   ]
  },
  {
   "cell_type": "code",
   "execution_count": 25,
   "metadata": {
    "execution": {
     "iopub.execute_input": "2022-02-17T15:31:27.964857Z",
     "iopub.status.busy": "2022-02-17T15:31:27.961517Z",
     "iopub.status.idle": "2022-02-17T15:31:27.999050Z",
     "shell.execute_reply": "2022-02-17T15:31:27.997256Z",
     "shell.execute_reply.started": "2022-02-17T15:31:27.964776Z"
    },
    "tags": []
   },
   "outputs": [
    {
     "data": {
      "text/html": [
       "<div>\n",
       "<style scoped>\n",
       "    .dataframe tbody tr th:only-of-type {\n",
       "        vertical-align: middle;\n",
       "    }\n",
       "\n",
       "    .dataframe tbody tr th {\n",
       "        vertical-align: top;\n",
       "    }\n",
       "\n",
       "    .dataframe thead th {\n",
       "        text-align: right;\n",
       "    }\n",
       "</style>\n",
       "<table border=\"1\" class=\"dataframe\">\n",
       "  <thead>\n",
       "    <tr style=\"text-align: right;\">\n",
       "      <th></th>\n",
       "      <th>year_month</th>\n",
       "      <th>registered_12_trail</th>\n",
       "      <th>sim_12_trail</th>\n",
       "      <th>visitors_12_trail</th>\n",
       "    </tr>\n",
       "  </thead>\n",
       "  <tbody>\n",
       "    <tr>\n",
       "      <th>261</th>\n",
       "      <td>2021-10-01</td>\n",
       "      <td>31297</td>\n",
       "      <td>23481</td>\n",
       "      <td>1872976.0</td>\n",
       "    </tr>\n",
       "    <tr>\n",
       "      <th>262</th>\n",
       "      <td>2021-11-01</td>\n",
       "      <td>30870</td>\n",
       "      <td>23032</td>\n",
       "      <td>1947336.0</td>\n",
       "    </tr>\n",
       "    <tr>\n",
       "      <th>263</th>\n",
       "      <td>2021-12-01</td>\n",
       "      <td>30955</td>\n",
       "      <td>23071</td>\n",
       "      <td>1923533.0</td>\n",
       "    </tr>\n",
       "    <tr>\n",
       "      <th>264</th>\n",
       "      <td>2022-01-01</td>\n",
       "      <td>31354</td>\n",
       "      <td>22314</td>\n",
       "      <td>2040179.0</td>\n",
       "    </tr>\n",
       "    <tr>\n",
       "      <th>265</th>\n",
       "      <td>2022-02-01</td>\n",
       "      <td>32334</td>\n",
       "      <td>22711</td>\n",
       "      <td>2059461.0</td>\n",
       "    </tr>\n",
       "  </tbody>\n",
       "</table>\n",
       "</div>"
      ],
      "text/plain": [
       "    year_month  registered_12_trail  sim_12_trail  visitors_12_trail\n",
       "261 2021-10-01                31297         23481          1872976.0\n",
       "262 2021-11-01                30870         23032          1947336.0\n",
       "263 2021-12-01                30955         23071          1923533.0\n",
       "264 2022-01-01                31354         22314          2040179.0\n",
       "265 2022-02-01                32334         22711          2059461.0"
      ]
     },
     "metadata": {},
     "output_type": "display_data"
    }
   ],
   "source": [
    "display(months_bin2.tail(5))"
   ]
  },
  {
   "cell_type": "code",
   "execution_count": 26,
   "metadata": {
    "execution": {
     "iopub.execute_input": "2022-02-17T15:31:28.004536Z",
     "iopub.status.busy": "2022-02-17T15:31:28.001543Z",
     "iopub.status.idle": "2022-02-17T15:31:28.033524Z",
     "shell.execute_reply": "2022-02-17T15:31:28.031092Z",
     "shell.execute_reply.started": "2022-02-17T15:31:28.004462Z"
    },
    "tags": []
   },
   "outputs": [],
   "source": [
    "# calculating total number of visitors\n",
    "import json\n",
    "with open(cwd+'/visitors.json') as f: # obtain visitors.json from https://nanohub.org/usage and viewing page source at lines 273-278\n",
    "    visitor_dict = f.read()\n",
    "    visitor_dict = visitor_dict.replace(\"\\'\",'\\\"')\n",
    "    visitor_dict = json.loads(visitor_dict)"
   ]
  },
  {
   "cell_type": "code",
   "execution_count": 27,
   "metadata": {
    "execution": {
     "iopub.execute_input": "2022-02-17T15:31:28.039452Z",
     "iopub.status.busy": "2022-02-17T15:31:28.038206Z",
     "iopub.status.idle": "2022-02-17T15:31:28.057270Z",
     "shell.execute_reply": "2022-02-17T15:31:28.049215Z",
     "shell.execute_reply.started": "2022-02-17T15:31:28.039387Z"
    },
    "tags": []
   },
   "outputs": [],
   "source": [
    "import re\n",
    "pattern = re.compile('\\d+]')\n",
    "step1 = re.findall(pattern,visitor_dict['data'])\n",
    "res_visitors = [i[:-1] for i in step1]"
   ]
  },
  {
   "cell_type": "code",
   "execution_count": 28,
   "metadata": {
    "execution": {
     "iopub.execute_input": "2022-02-17T15:31:28.063572Z",
     "iopub.status.busy": "2022-02-17T15:31:28.061634Z",
     "iopub.status.idle": "2022-02-17T15:31:28.076746Z",
     "shell.execute_reply": "2022-02-17T15:31:28.074976Z",
     "shell.execute_reply.started": "2022-02-17T15:31:28.063087Z"
    },
    "tags": []
   },
   "outputs": [],
   "source": [
    "import numpy as np\n",
    "res_visitors2 = list(np.zeros(12*6+14)) + res_visitors"
   ]
  },
  {
   "cell_type": "code",
   "execution_count": 29,
   "metadata": {
    "execution": {
     "iopub.execute_input": "2022-02-17T15:31:28.081746Z",
     "iopub.status.busy": "2022-02-17T15:31:28.078928Z",
     "iopub.status.idle": "2022-02-17T15:31:28.100980Z",
     "shell.execute_reply": "2022-02-17T15:31:28.098466Z",
     "shell.execute_reply.started": "2022-02-17T15:31:28.081449Z"
    },
    "tags": []
   },
   "outputs": [
    {
     "name": "stdout",
     "output_type": "stream",
     "text": [
      "268\n",
      "['1872976', '1947336', '1923533', '2040179', '2059461']\n"
     ]
    }
   ],
   "source": [
    "print(len(res_visitors2))\n",
    "print(res_visitors2[-5:])"
   ]
  },
  {
   "cell_type": "code",
   "execution_count": 30,
   "metadata": {
    "execution": {
     "iopub.execute_input": "2022-02-17T15:31:28.108686Z",
     "iopub.status.busy": "2022-02-17T15:31:28.106304Z",
     "iopub.status.idle": "2022-02-17T15:31:28.155254Z",
     "shell.execute_reply": "2022-02-17T15:31:28.151486Z",
     "shell.execute_reply.started": "2022-02-17T15:31:28.108608Z"
    },
    "tags": []
   },
   "outputs": [
    {
     "data": {
      "text/html": [
       "<div>\n",
       "<style scoped>\n",
       "    .dataframe tbody tr th:only-of-type {\n",
       "        vertical-align: middle;\n",
       "    }\n",
       "\n",
       "    .dataframe tbody tr th {\n",
       "        vertical-align: top;\n",
       "    }\n",
       "\n",
       "    .dataframe thead th {\n",
       "        text-align: right;\n",
       "    }\n",
       "</style>\n",
       "<table border=\"1\" class=\"dataframe\">\n",
       "  <thead>\n",
       "    <tr style=\"text-align: right;\">\n",
       "      <th></th>\n",
       "      <th>year_month</th>\n",
       "      <th>registered_12_trail</th>\n",
       "      <th>sim_12_trail</th>\n",
       "      <th>visitors_12_trail</th>\n",
       "    </tr>\n",
       "  </thead>\n",
       "  <tbody>\n",
       "    <tr>\n",
       "      <th>0</th>\n",
       "      <td>2000-01-01</td>\n",
       "      <td>15</td>\n",
       "      <td>0</td>\n",
       "      <td>0.0</td>\n",
       "    </tr>\n",
       "    <tr>\n",
       "      <th>1</th>\n",
       "      <td>2000-02-01</td>\n",
       "      <td>19</td>\n",
       "      <td>0</td>\n",
       "      <td>0.0</td>\n",
       "    </tr>\n",
       "    <tr>\n",
       "      <th>2</th>\n",
       "      <td>2000-03-01</td>\n",
       "      <td>24</td>\n",
       "      <td>133</td>\n",
       "      <td>0.0</td>\n",
       "    </tr>\n",
       "    <tr>\n",
       "      <th>3</th>\n",
       "      <td>2000-04-01</td>\n",
       "      <td>26</td>\n",
       "      <td>199</td>\n",
       "      <td>0.0</td>\n",
       "    </tr>\n",
       "    <tr>\n",
       "      <th>4</th>\n",
       "      <td>2000-05-01</td>\n",
       "      <td>30</td>\n",
       "      <td>244</td>\n",
       "      <td>0.0</td>\n",
       "    </tr>\n",
       "    <tr>\n",
       "      <th>...</th>\n",
       "      <td>...</td>\n",
       "      <td>...</td>\n",
       "      <td>...</td>\n",
       "      <td>...</td>\n",
       "    </tr>\n",
       "    <tr>\n",
       "      <th>261</th>\n",
       "      <td>2021-10-01</td>\n",
       "      <td>31297</td>\n",
       "      <td>23481</td>\n",
       "      <td>1872976.0</td>\n",
       "    </tr>\n",
       "    <tr>\n",
       "      <th>262</th>\n",
       "      <td>2021-11-01</td>\n",
       "      <td>30870</td>\n",
       "      <td>23032</td>\n",
       "      <td>1947336.0</td>\n",
       "    </tr>\n",
       "    <tr>\n",
       "      <th>263</th>\n",
       "      <td>2021-12-01</td>\n",
       "      <td>30955</td>\n",
       "      <td>23071</td>\n",
       "      <td>1923533.0</td>\n",
       "    </tr>\n",
       "    <tr>\n",
       "      <th>264</th>\n",
       "      <td>2022-01-01</td>\n",
       "      <td>31354</td>\n",
       "      <td>22314</td>\n",
       "      <td>2040179.0</td>\n",
       "    </tr>\n",
       "    <tr>\n",
       "      <th>265</th>\n",
       "      <td>2022-02-01</td>\n",
       "      <td>32334</td>\n",
       "      <td>22711</td>\n",
       "      <td>2059461.0</td>\n",
       "    </tr>\n",
       "  </tbody>\n",
       "</table>\n",
       "<p>266 rows × 4 columns</p>\n",
       "</div>"
      ],
      "text/plain": [
       "    year_month  registered_12_trail  sim_12_trail  visitors_12_trail\n",
       "0   2000-01-01                   15             0                0.0\n",
       "1   2000-02-01                   19             0                0.0\n",
       "2   2000-03-01                   24           133                0.0\n",
       "3   2000-04-01                   26           199                0.0\n",
       "4   2000-05-01                   30           244                0.0\n",
       "..         ...                  ...           ...                ...\n",
       "261 2021-10-01                31297         23481          1872976.0\n",
       "262 2021-11-01                30870         23032          1947336.0\n",
       "263 2021-12-01                30955         23071          1923533.0\n",
       "264 2022-01-01                31354         22314          2040179.0\n",
       "265 2022-02-01                32334         22711          2059461.0\n",
       "\n",
       "[266 rows x 4 columns]"
      ]
     },
     "execution_count": 30,
     "metadata": {},
     "output_type": "execute_result"
    }
   ],
   "source": [
    "months_bin2"
   ]
  },
  {
   "cell_type": "code",
   "execution_count": 31,
   "metadata": {
    "execution": {
     "iopub.execute_input": "2022-02-17T15:31:28.159382Z",
     "iopub.status.busy": "2022-02-17T15:31:28.157981Z",
     "iopub.status.idle": "2022-02-17T15:31:28.176354Z",
     "shell.execute_reply": "2022-02-17T15:31:28.173382Z",
     "shell.execute_reply.started": "2022-02-17T15:31:28.159317Z"
    },
    "tags": []
   },
   "outputs": [],
   "source": [
    "while months_bin2.shape[0] < len(res_visitors2):\n",
    "    res_visitors2 = res_visitors2[1:]\n",
    "# display(months_bin.iloc[-20:-10,:])"
   ]
  },
  {
   "cell_type": "code",
   "execution_count": 32,
   "metadata": {
    "execution": {
     "iopub.execute_input": "2022-02-17T15:31:28.185888Z",
     "iopub.status.busy": "2022-02-17T15:31:28.184306Z",
     "iopub.status.idle": "2022-02-17T15:31:28.210193Z",
     "shell.execute_reply": "2022-02-17T15:31:28.207499Z",
     "shell.execute_reply.started": "2022-02-17T15:31:28.185704Z"
    },
    "tags": []
   },
   "outputs": [],
   "source": [
    "months_bin2['visitors_12_trail'] = res_visitors2"
   ]
  },
  {
   "cell_type": "code",
   "execution_count": 33,
   "metadata": {
    "execution": {
     "iopub.execute_input": "2022-02-17T15:31:28.223007Z",
     "iopub.status.busy": "2022-02-17T15:31:28.220856Z",
     "iopub.status.idle": "2022-02-17T15:31:28.260452Z",
     "shell.execute_reply": "2022-02-17T15:31:28.257642Z",
     "shell.execute_reply.started": "2022-02-17T15:31:28.222856Z"
    },
    "tags": []
   },
   "outputs": [],
   "source": [
    "months_bin = deepcopy(months_bin2)"
   ]
  },
  {
   "cell_type": "code",
   "execution_count": 34,
   "metadata": {
    "execution": {
     "iopub.execute_input": "2022-02-17T15:31:28.284628Z",
     "iopub.status.busy": "2022-02-17T15:31:28.273734Z",
     "iopub.status.idle": "2022-02-17T15:31:28.332565Z",
     "shell.execute_reply": "2022-02-17T15:31:28.325655Z",
     "shell.execute_reply.started": "2022-02-17T15:31:28.277669Z"
    },
    "tags": []
   },
   "outputs": [
    {
     "data": {
      "text/plain": [
       "(266, 4)"
      ]
     },
     "execution_count": 34,
     "metadata": {},
     "output_type": "execute_result"
    }
   ],
   "source": [
    "months_bin.shape"
   ]
  },
  {
   "cell_type": "code",
   "execution_count": 35,
   "metadata": {
    "execution": {
     "iopub.execute_input": "2022-02-17T15:31:28.341103Z",
     "iopub.status.busy": "2022-02-17T15:31:28.338455Z",
     "iopub.status.idle": "2022-02-17T15:31:28.407174Z",
     "shell.execute_reply": "2022-02-17T15:31:28.403950Z",
     "shell.execute_reply.started": "2022-02-17T15:31:28.340966Z"
    },
    "tags": []
   },
   "outputs": [
    {
     "name": "stdout",
     "output_type": "stream",
     "text": [
      "latest data cached\n"
     ]
    }
   ],
   "source": [
    "months_bin.to_csv(cwd+'/cached_data/nh_user_growth.csv')\n",
    "print('latest data cached')"
   ]
  },
  {
   "cell_type": "code",
   "execution_count": 36,
   "metadata": {
    "execution": {
     "iopub.execute_input": "2022-02-17T15:31:28.417642Z",
     "iopub.status.busy": "2022-02-17T15:31:28.413065Z",
     "iopub.status.idle": "2022-02-17T15:31:28.465971Z",
     "shell.execute_reply": "2022-02-17T15:31:28.462689Z",
     "shell.execute_reply.started": "2022-02-17T15:31:28.417549Z"
    },
    "tags": []
   },
   "outputs": [
    {
     "data": {
      "text/html": [
       "<div>\n",
       "<style scoped>\n",
       "    .dataframe tbody tr th:only-of-type {\n",
       "        vertical-align: middle;\n",
       "    }\n",
       "\n",
       "    .dataframe tbody tr th {\n",
       "        vertical-align: top;\n",
       "    }\n",
       "\n",
       "    .dataframe thead th {\n",
       "        text-align: right;\n",
       "    }\n",
       "</style>\n",
       "<table border=\"1\" class=\"dataframe\">\n",
       "  <thead>\n",
       "    <tr style=\"text-align: right;\">\n",
       "      <th></th>\n",
       "      <th>year_month</th>\n",
       "      <th>registered_12_trail</th>\n",
       "      <th>sim_12_trail</th>\n",
       "      <th>visitors_12_trail</th>\n",
       "    </tr>\n",
       "  </thead>\n",
       "  <tbody>\n",
       "    <tr>\n",
       "      <th>0</th>\n",
       "      <td>2000-01-01</td>\n",
       "      <td>15</td>\n",
       "      <td>0</td>\n",
       "      <td>0.0</td>\n",
       "    </tr>\n",
       "    <tr>\n",
       "      <th>1</th>\n",
       "      <td>2000-02-01</td>\n",
       "      <td>19</td>\n",
       "      <td>0</td>\n",
       "      <td>0.0</td>\n",
       "    </tr>\n",
       "    <tr>\n",
       "      <th>2</th>\n",
       "      <td>2000-03-01</td>\n",
       "      <td>24</td>\n",
       "      <td>133</td>\n",
       "      <td>0.0</td>\n",
       "    </tr>\n",
       "    <tr>\n",
       "      <th>3</th>\n",
       "      <td>2000-04-01</td>\n",
       "      <td>26</td>\n",
       "      <td>199</td>\n",
       "      <td>0.0</td>\n",
       "    </tr>\n",
       "    <tr>\n",
       "      <th>4</th>\n",
       "      <td>2000-05-01</td>\n",
       "      <td>30</td>\n",
       "      <td>244</td>\n",
       "      <td>0.0</td>\n",
       "    </tr>\n",
       "    <tr>\n",
       "      <th>...</th>\n",
       "      <td>...</td>\n",
       "      <td>...</td>\n",
       "      <td>...</td>\n",
       "      <td>...</td>\n",
       "    </tr>\n",
       "    <tr>\n",
       "      <th>261</th>\n",
       "      <td>2021-10-01</td>\n",
       "      <td>31297</td>\n",
       "      <td>23481</td>\n",
       "      <td>1872976</td>\n",
       "    </tr>\n",
       "    <tr>\n",
       "      <th>262</th>\n",
       "      <td>2021-11-01</td>\n",
       "      <td>30870</td>\n",
       "      <td>23032</td>\n",
       "      <td>1947336</td>\n",
       "    </tr>\n",
       "    <tr>\n",
       "      <th>263</th>\n",
       "      <td>2021-12-01</td>\n",
       "      <td>30955</td>\n",
       "      <td>23071</td>\n",
       "      <td>1923533</td>\n",
       "    </tr>\n",
       "    <tr>\n",
       "      <th>264</th>\n",
       "      <td>2022-01-01</td>\n",
       "      <td>31354</td>\n",
       "      <td>22314</td>\n",
       "      <td>2040179</td>\n",
       "    </tr>\n",
       "    <tr>\n",
       "      <th>265</th>\n",
       "      <td>2022-02-01</td>\n",
       "      <td>32334</td>\n",
       "      <td>22711</td>\n",
       "      <td>2059461</td>\n",
       "    </tr>\n",
       "  </tbody>\n",
       "</table>\n",
       "<p>266 rows × 4 columns</p>\n",
       "</div>"
      ],
      "text/plain": [
       "    year_month  registered_12_trail  sim_12_trail visitors_12_trail\n",
       "0   2000-01-01                   15             0               0.0\n",
       "1   2000-02-01                   19             0               0.0\n",
       "2   2000-03-01                   24           133               0.0\n",
       "3   2000-04-01                   26           199               0.0\n",
       "4   2000-05-01                   30           244               0.0\n",
       "..         ...                  ...           ...               ...\n",
       "261 2021-10-01                31297         23481           1872976\n",
       "262 2021-11-01                30870         23032           1947336\n",
       "263 2021-12-01                30955         23071           1923533\n",
       "264 2022-01-01                31354         22314           2040179\n",
       "265 2022-02-01                32334         22711           2059461\n",
       "\n",
       "[266 rows x 4 columns]"
      ]
     },
     "execution_count": 36,
     "metadata": {},
     "output_type": "execute_result"
    }
   ],
   "source": [
    "months_bin"
   ]
  },
  {
   "cell_type": "code",
   "execution_count": 37,
   "metadata": {
    "execution": {
     "iopub.execute_input": "2022-02-17T15:31:28.475371Z",
     "iopub.status.busy": "2022-02-17T15:31:28.470926Z",
     "iopub.status.idle": "2022-02-17T15:31:28.496292Z",
     "shell.execute_reply": "2022-02-17T15:31:28.493169Z",
     "shell.execute_reply.started": "2022-02-17T15:31:28.474902Z"
    },
    "tags": []
   },
   "outputs": [],
   "source": [
    "with open(cwd+'/dev_flags.txt','r') as f:\n",
    "    raw_flags = f.read()\n",
    "flag_pattern = re.compile(r'= \\w+')\n",
    "flags1 = re.findall(flag_pattern,raw_flags)    \n",
    "flags_result = [i[2:] for i in flags1]\n",
    "dev_flag = flags_result[0]\n",
    "prod_flag = flags_result[1]"
   ]
  },
  {
   "cell_type": "code",
   "execution_count": 64,
   "metadata": {
    "execution": {
     "iopub.execute_input": "2022-02-17T16:02:43.506617Z",
     "iopub.status.busy": "2022-02-17T16:02:43.505673Z",
     "iopub.status.idle": "2022-02-17T16:02:46.448654Z",
     "shell.execute_reply": "2022-02-17T16:02:46.446807Z",
     "shell.execute_reply.started": "2022-02-17T16:02:43.506548Z"
    },
    "tags": []
   },
   "outputs": [
    {
     "data": {
      "image/png": "[encoded data removed]",
      "text/plain": [
       "<Figure size 432x288 with 1 Axes>"
      ]
     },
     "metadata": {},
     "output_type": "display_data"
    }
   ],
   "source": [
    "from matplotlib import pyplot as plt\n",
    "import seaborn as sns\n",
    "import os\n",
    "sns.set()\n",
    "sns.set_style(\"white\")\n",
    "#plt.figure(figsize=(9,6))\n",
    "fig, ax1 = plt.subplots()\n",
    "ax1.clear()\n",
    "ax1.plot(months_bin.year_month[:], months_bin.registered_12_trail[:], color='red', label='New Registered Users');\n",
    "ax1.plot(months_bin.year_month[:], months_bin.sim_12_trail[:], color='blue', label='Simulation Users');\n",
    "#plt.plot(months_bin.year_month,res_visitors2)\n",
    "\n",
    "ax1.set_title('Annual Registered Users')\n",
    "\n",
    "ax1.set_xlim([datetime.datetime(2000,1,1), datetime.datetime(2022,4,1)]);\n",
    "ax1.set_ylim([0, 35000])\n",
    "ax1.set_yticks(np.arange(0,35000,5000))\n",
    "ax1.tick_params(axis='y',labelcolor='red')\n",
    "# ax1.set_ylabel('Unique Users/Month')\n",
    "\n",
    "plt.ylabel('Annualized nanoHUB Visitors');\n",
    "ax1.legend(loc='upper left');\n",
    "ax1.legend()\n",
    "\n",
    "\n",
    "h,l = ax1.get_legend_handles_labels()\n",
    "# h2,l2 = ax2.get_legend_h\n",
    "kw = dict(ncol=3,loc = 'lower center',frameon=False)\n",
    "#(x, y, width, height)\n",
    "#h += h2\n",
    "#l += l2\n",
    "leg1 = ax1.legend(h,l,bbox_to_anchor=(-0.15,1.05,1.3,0.2),\\\n",
    "                mode='expand',fontsize=10,**kw)\n",
    "ax1.add_artist(leg1)\n",
    "\n",
    "cwd = os.getcwd()\n",
    "if dev_flag == 'True':\n",
    "    plt.savefig(cwd+'/plots_local/300dpi_users_registrered_simulation_12_months.eps', dpi=300, bbox_inches='tight')\n",
    "    plt.savefig(cwd+'/plots_local/300dpi_users_registrered_simulation_12_months.pdf', dpi=300, bbox_inches='tight')\n",
    "    plt.savefig(cwd+'/plots_local/300dpi_users_registrered_simulation_12_months.png', dpi=300, bbox_inches='tight')\n",
    "elif prod_flag == 'True':\n",
    "    plt.savefig(cwd+'/plots_production/300dpi_users_registrered_simulation_12_months.eps', dpi=300, bbox_inches='tight')\n",
    "    plt.savefig(cwd+'/plots_production/300dpi_users_registrered_simulation_12_months.pdf', dpi=300, bbox_inches='tight')\n",
    "    plt.savefig(cwd+'/plots_production/300dpi_users_registrered_simulation_12_months.png', dpi=300, bbox_inches='tight')\n",
    "else:\n",
    "    print('no printing flag is active')"
   ]
  },
  {
   "cell_type": "code",
   "execution_count": 63,
   "metadata": {
    "execution": {
     "iopub.execute_input": "2022-02-17T16:01:37.814197Z",
     "iopub.status.busy": "2022-02-17T16:01:37.813873Z",
     "iopub.status.idle": "2022-02-17T16:01:40.404896Z",
     "shell.execute_reply": "2022-02-17T16:01:40.397915Z",
     "shell.execute_reply.started": "2022-02-17T16:01:37.814151Z"
    },
    "tags": []
   },
   "outputs": [
    {
     "data": {
      "image/png": "[encoded data removed]",
      "text/plain": [
       "<Figure size 432x288 with 1 Axes>"
      ]
     },
     "metadata": {},
     "output_type": "display_data"
    }
   ],
   "source": [
    "from matplotlib import pyplot as plt\n",
    "import seaborn as sns\n",
    "import os\n",
    "sns.set()\n",
    "sns.set_style(\"white\")\n",
    "#plt.figure(figsize=(9,6))\n",
    "fig, ax1 = plt.subplots()\n",
    "\n",
    "ax1.clear()\n",
    "ax1.plot(months_bin.year_month[:],months_bin.visitors_12_trail[:],color='green',label='Unique Monthly Visitors')\n",
    "\n",
    "\n",
    "ax1.set_title('Annual Visitors')\n",
    "\n",
    "ax1.set_xlim([datetime.datetime(2000,1,1), datetime.datetime(2022,4,1)]);\n",
    "\n",
    "ax1.set_ylabel('Unique Visitors/Month')\n",
    "ax1.tick_params(axis='y',labelcolor='green')\n",
    "ax1.set_ylim([0,2000000+250000])\n",
    "ax1.set_yticks(np.arange(0,2000000+250000,250000))\n",
    "\n",
    "\n",
    "ax1.legend()\n",
    "# ax1.legend(loc='upper left')\n",
    "\n",
    "\n",
    "h,l = ax1.get_legend_handles_labels()\n",
    "kw = dict(ncol=3,loc = 'lower center',frameon=False)\n",
    "#(x, y, width, height)\n",
    "#h += h2\n",
    "#l += l2\n",
    "leg1 = ax1.legend(h,l,bbox_to_anchor=(-0.15,1.05,1.3,0.2),\\\n",
    "                mode='expand',fontsize=10,**kw)\n",
    "ax1.add_artist(leg1)\n",
    "\n",
    "cwd = os.getcwd()\n",
    "\n",
    "if dev_flag == 'True':\n",
    "    plt.savefig(cwd+'/plots_local/300dpi_users_unique_annual_visitors.eps', dpi=300, bbox_inches='tight')\n",
    "    plt.savefig(cwd+'/plots_local/300dpi_users_unique_annual_visitors.pdf', dpi=300, bbox_inches='tight')\n",
    "    plt.savefig(cwd+'/plots_local/300dpi_users_unique_annual_visitors.png', dpi=300, bbox_inches='tight')\n",
    "elif prod_flag == 'True':\n",
    "    plt.savefig(cwd+'/plots_production/300dpi_users_unique_annual_visitors.eps', dpi=300, bbox_inches='tight')\n",
    "    plt.savefig(cwd+'/plots_production/300dpi_users_unique_annual_visitors.pdf', dpi=300, bbox_inches='tight')\n",
    "    plt.savefig(cwd+'/plots_production/300dpi_users_unique_annual_visitors.png', dpi=300, bbox_inches='tight')\n",
    "else:\n",
    "    print('no printing flag is active')\n"
   ]
  },
  {
   "cell_type": "code",
   "execution_count": null,
   "metadata": {},
   "outputs": [],
   "source": []
  }
 ],
 "metadata": {
  "kernelspec": {
   "display_name": "Python 3 (ipykernel)",
   "language": "python",
   "name": "python3"
  },
  "language_info": {
   "codemirror_mode": {
    "name": "ipython",
    "version": 3
   },
   "file_extension": ".py",
   "mimetype": "text/x-python",
   "name": "python",
   "nbconvert_exporter": "python",
   "pygments_lexer": "ipython3",
   "version": "3.8.10"
  }
 },
 "nbformat": 4,
 "nbformat_minor": 4
}
