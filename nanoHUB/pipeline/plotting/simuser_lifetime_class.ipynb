{
 "cells": [
  {
   "cell_type": "code",
   "execution_count": 1,
   "metadata": {
    "execution": {
     "iopub.execute_input": "2022-01-31T03:53:46.582544Z",
     "iopub.status.busy": "2022-01-31T03:53:46.582211Z",
     "iopub.status.idle": "2022-01-31T03:53:46.607374Z",
     "shell.execute_reply": "2022-01-31T03:53:46.602875Z",
     "shell.execute_reply.started": "2022-01-31T03:53:46.582454Z"
    },
    "tags": []
   },
   "outputs": [],
   "source": [
    "## build researcher events, student events, and self-study events\n",
    "## researcher are simply those with NH citations"
   ]
  },
  {
   "cell_type": "code",
   "execution_count": 2,
   "metadata": {
    "execution": {
     "iopub.execute_input": "2022-01-31T03:53:46.620015Z",
     "iopub.status.busy": "2022-01-31T03:53:46.618700Z",
     "iopub.status.idle": "2022-01-31T03:53:47.103503Z",
     "shell.execute_reply": "2022-01-31T03:53:47.102358Z",
     "shell.execute_reply.started": "2022-01-31T03:53:46.619953Z"
    },
    "tags": []
   },
   "outputs": [],
   "source": [
    "import sys\n",
    "import pandas as pd\n",
    "import time\n",
    "import datetime"
   ]
  },
  {
   "cell_type": "code",
   "execution_count": 3,
   "metadata": {
    "execution": {
     "iopub.execute_input": "2022-01-31T03:53:47.107098Z",
     "iopub.status.busy": "2022-01-31T03:53:47.106449Z",
     "iopub.status.idle": "2022-01-31T03:53:47.114394Z",
     "shell.execute_reply": "2022-01-31T03:53:47.112430Z",
     "shell.execute_reply.started": "2022-01-31T03:53:47.107046Z"
    },
    "tags": []
   },
   "outputs": [],
   "source": [
    "import warnings\n",
    "warnings.filterwarnings('ignore')\n",
    "# warnings.filterwarnings(action='once')\n",
    "warnings.simplefilter(action='ignore', category=FutureWarning)"
   ]
  },
  {
   "cell_type": "code",
   "execution_count": 4,
   "metadata": {
    "execution": {
     "iopub.execute_input": "2022-01-31T03:53:47.116973Z",
     "iopub.status.busy": "2022-01-31T03:53:47.116190Z",
     "iopub.status.idle": "2022-01-31T03:53:49.436326Z",
     "shell.execute_reply": "2022-01-31T03:53:49.426676Z",
     "shell.execute_reply.started": "2022-01-31T03:53:47.116919Z"
    },
    "tags": []
   },
   "outputs": [
    {
     "name": "stdout",
     "output_type": "stream",
     "text": [
      "\u001b[1mnanoHUB - Serving Students, Researchers & Instructors\u001b[0m\n",
      "Obtained Salesforce access token ...... True\n"
     ]
    }
   ],
   "source": [
    "from nanoHUB.application import Application\n",
    "\n",
    "application = Application.get_instance()\n",
    "nanohub_db = application.new_db_engine('nanohub')\n",
    "nanohub_metrics_db = application.new_db_engine('nanohub_metrics')\n",
    "wang159_myrmekes_db = application.new_db_engine('rfm_data')\n",
    "\n",
    "salesforce = application.new_salesforce_engine()\n",
    "db_s = salesforce"
   ]
  },
  {
   "cell_type": "code",
   "execution_count": null,
   "metadata": {},
   "outputs": [],
   "source": []
  },
  {
   "cell_type": "markdown",
   "metadata": {},
   "source": [
    "## User Lifetime Comparison"
   ]
  },
  {
   "cell_type": "code",
   "execution_count": 5,
   "metadata": {
    "execution": {
     "iopub.execute_input": "2022-01-31T03:53:49.440350Z",
     "iopub.status.busy": "2022-01-31T03:53:49.439812Z",
     "iopub.status.idle": "2022-01-31T03:53:49.451534Z",
     "shell.execute_reply": "2022-01-31T03:53:49.449903Z",
     "shell.execute_reply.started": "2022-01-31T03:53:49.440293Z"
    },
    "tags": []
   },
   "outputs": [],
   "source": [
    "#pull jos_users with the previously found self-study, classroom, and research users\n",
    "#then just compare the register vs last visit date"
   ]
  },
  {
   "cell_type": "code",
   "execution_count": 6,
   "metadata": {
    "execution": {
     "iopub.execute_input": "2022-01-31T03:53:49.453923Z",
     "iopub.status.busy": "2022-01-31T03:53:49.453359Z",
     "iopub.status.idle": "2022-01-31T03:53:49.466352Z",
     "shell.execute_reply": "2022-01-31T03:53:49.465114Z",
     "shell.execute_reply.started": "2022-01-31T03:53:49.453854Z"
    },
    "tags": []
   },
   "outputs": [],
   "source": [
    "import os\n",
    "cwd = os.getcwd()"
   ]
  },
  {
   "cell_type": "code",
   "execution_count": 7,
   "metadata": {
    "execution": {
     "iopub.execute_input": "2022-01-31T03:53:49.468619Z",
     "iopub.status.busy": "2022-01-31T03:53:49.468302Z",
     "iopub.status.idle": "2022-01-31T03:53:49.735750Z",
     "shell.execute_reply": "2022-01-31T03:53:49.735044Z",
     "shell.execute_reply.started": "2022-01-31T03:53:49.468577Z"
    },
    "tags": []
   },
   "outputs": [],
   "source": [
    "class_df = pd.read_csv(cwd+'/cached_data/class_ids.csv')\n",
    "ss_df = pd.read_csv(cwd+'/cached_data/ss_ids.csv')\n",
    "research_df = pd.read_csv(cwd+'/cached_data/researcher_ids.csv')"
   ]
  },
  {
   "cell_type": "code",
   "execution_count": 8,
   "metadata": {
    "execution": {
     "iopub.execute_input": "2022-01-31T03:53:49.738615Z",
     "iopub.status.busy": "2022-01-31T03:53:49.737288Z",
     "iopub.status.idle": "2022-01-31T03:53:49.785380Z",
     "shell.execute_reply": "2022-01-31T03:53:49.783720Z",
     "shell.execute_reply.started": "2022-01-31T03:53:49.738572Z"
    },
    "tags": []
   },
   "outputs": [
    {
     "data": {
      "text/html": [
       "<div>\n",
       "<style scoped>\n",
       "    .dataframe tbody tr th:only-of-type {\n",
       "        vertical-align: middle;\n",
       "    }\n",
       "\n",
       "    .dataframe tbody tr th {\n",
       "        vertical-align: top;\n",
       "    }\n",
       "\n",
       "    .dataframe thead th {\n",
       "        text-align: right;\n",
       "    }\n",
       "</style>\n",
       "<table border=\"1\" class=\"dataframe\">\n",
       "  <thead>\n",
       "    <tr style=\"text-align: right;\">\n",
       "      <th></th>\n",
       "      <th>Unnamed: 0</th>\n",
       "      <th>nhid</th>\n",
       "      <th>username</th>\n",
       "    </tr>\n",
       "  </thead>\n",
       "  <tbody>\n",
       "    <tr>\n",
       "      <th>0</th>\n",
       "      <td>0</td>\n",
       "      <td>166284</td>\n",
       "      <td>0.yao.yuan</td>\n",
       "    </tr>\n",
       "    <tr>\n",
       "      <th>1</th>\n",
       "      <td>1</td>\n",
       "      <td>153691</td>\n",
       "      <td>008dilip</td>\n",
       "    </tr>\n",
       "  </tbody>\n",
       "</table>\n",
       "</div>"
      ],
      "text/plain": [
       "   Unnamed: 0    nhid    username\n",
       "0           0  166284  0.yao.yuan\n",
       "1           1  153691    008dilip"
      ]
     },
     "metadata": {},
     "output_type": "display_data"
    },
    {
     "data": {
      "text/html": [
       "<div>\n",
       "<style scoped>\n",
       "    .dataframe tbody tr th:only-of-type {\n",
       "        vertical-align: middle;\n",
       "    }\n",
       "\n",
       "    .dataframe tbody tr th {\n",
       "        vertical-align: top;\n",
       "    }\n",
       "\n",
       "    .dataframe thead th {\n",
       "        text-align: right;\n",
       "    }\n",
       "</style>\n",
       "<table border=\"1\" class=\"dataframe\">\n",
       "  <thead>\n",
       "    <tr style=\"text-align: right;\">\n",
       "      <th></th>\n",
       "      <th>Unnamed: 0</th>\n",
       "      <th>nhid</th>\n",
       "      <th>username</th>\n",
       "    </tr>\n",
       "  </thead>\n",
       "  <tbody>\n",
       "    <tr>\n",
       "      <th>0</th>\n",
       "      <td>0</td>\n",
       "      <td>211547</td>\n",
       "      <td>-100005</td>\n",
       "    </tr>\n",
       "    <tr>\n",
       "      <th>1</th>\n",
       "      <td>1</td>\n",
       "      <td>211574</td>\n",
       "      <td>-100024</td>\n",
       "    </tr>\n",
       "  </tbody>\n",
       "</table>\n",
       "</div>"
      ],
      "text/plain": [
       "   Unnamed: 0    nhid username\n",
       "0           0  211547  -100005\n",
       "1           1  211574  -100024"
      ]
     },
     "metadata": {},
     "output_type": "display_data"
    },
    {
     "data": {
      "text/html": [
       "<div>\n",
       "<style scoped>\n",
       "    .dataframe tbody tr th:only-of-type {\n",
       "        vertical-align: middle;\n",
       "    }\n",
       "\n",
       "    .dataframe tbody tr th {\n",
       "        vertical-align: top;\n",
       "    }\n",
       "\n",
       "    .dataframe thead th {\n",
       "        text-align: right;\n",
       "    }\n",
       "</style>\n",
       "<table border=\"1\" class=\"dataframe\">\n",
       "  <thead>\n",
       "    <tr style=\"text-align: right;\">\n",
       "      <th></th>\n",
       "      <th>Unnamed: 0</th>\n",
       "      <th>nhid</th>\n",
       "    </tr>\n",
       "  </thead>\n",
       "  <tbody>\n",
       "    <tr>\n",
       "      <th>0</th>\n",
       "      <td>0</td>\n",
       "      <td>1742</td>\n",
       "    </tr>\n",
       "    <tr>\n",
       "      <th>1</th>\n",
       "      <td>1</td>\n",
       "      <td>1767</td>\n",
       "    </tr>\n",
       "  </tbody>\n",
       "</table>\n",
       "</div>"
      ],
      "text/plain": [
       "   Unnamed: 0  nhid\n",
       "0           0  1742\n",
       "1           1  1767"
      ]
     },
     "metadata": {},
     "output_type": "display_data"
    }
   ],
   "source": [
    "display(class_df.head(2))\n",
    "display(ss_df.head(2))\n",
    "display(research_df.head(2))"
   ]
  },
  {
   "cell_type": "code",
   "execution_count": 9,
   "metadata": {
    "execution": {
     "iopub.execute_input": "2022-01-31T03:53:49.787512Z",
     "iopub.status.busy": "2022-01-31T03:53:49.787203Z",
     "iopub.status.idle": "2022-01-31T03:53:49.812198Z",
     "shell.execute_reply": "2022-01-31T03:53:49.809628Z",
     "shell.execute_reply.started": "2022-01-31T03:53:49.787474Z"
    },
    "tags": []
   },
   "outputs": [],
   "source": [
    "sql_query = \"select registerDate, lastvisitDate from jos_users where username in \" + str(tuple(class_df['username']))"
   ]
  },
  {
   "cell_type": "code",
   "execution_count": 10,
   "metadata": {
    "execution": {
     "iopub.execute_input": "2022-01-31T03:53:49.815291Z",
     "iopub.status.busy": "2022-01-31T03:53:49.814095Z",
     "iopub.status.idle": "2022-01-31T03:53:54.548831Z",
     "shell.execute_reply": "2022-01-31T03:53:54.548142Z",
     "shell.execute_reply.started": "2022-01-31T03:53:49.815234Z"
    },
    "tags": []
   },
   "outputs": [
    {
     "data": {
      "text/html": [
       "<div>\n",
       "<style scoped>\n",
       "    .dataframe tbody tr th:only-of-type {\n",
       "        vertical-align: middle;\n",
       "    }\n",
       "\n",
       "    .dataframe tbody tr th {\n",
       "        vertical-align: top;\n",
       "    }\n",
       "\n",
       "    .dataframe thead th {\n",
       "        text-align: right;\n",
       "    }\n",
       "</style>\n",
       "<table border=\"1\" class=\"dataframe\">\n",
       "  <thead>\n",
       "    <tr style=\"text-align: right;\">\n",
       "      <th></th>\n",
       "      <th>registerDate</th>\n",
       "      <th>lastvisitDate</th>\n",
       "    </tr>\n",
       "  </thead>\n",
       "  <tbody>\n",
       "    <tr>\n",
       "      <th>0</th>\n",
       "      <td>2000-01-11 17:10:00</td>\n",
       "      <td>NaT</td>\n",
       "    </tr>\n",
       "    <tr>\n",
       "      <th>1</th>\n",
       "      <td>2000-08-24 18:17:51</td>\n",
       "      <td>NaT</td>\n",
       "    </tr>\n",
       "    <tr>\n",
       "      <th>2</th>\n",
       "      <td>2000-08-29 19:43:43</td>\n",
       "      <td>NaT</td>\n",
       "    </tr>\n",
       "    <tr>\n",
       "      <th>3</th>\n",
       "      <td>2000-09-19 15:06:58</td>\n",
       "      <td>NaT</td>\n",
       "    </tr>\n",
       "    <tr>\n",
       "      <th>4</th>\n",
       "      <td>2001-01-11 00:20:23</td>\n",
       "      <td>NaT</td>\n",
       "    </tr>\n",
       "    <tr>\n",
       "      <th>...</th>\n",
       "      <td>...</td>\n",
       "      <td>...</td>\n",
       "    </tr>\n",
       "    <tr>\n",
       "      <th>63421</th>\n",
       "      <td>2021-04-24 00:08:56</td>\n",
       "      <td>2021-04-24 00:08:56</td>\n",
       "    </tr>\n",
       "    <tr>\n",
       "      <th>63422</th>\n",
       "      <td>2021-04-24 03:36:38</td>\n",
       "      <td>2021-04-25 22:27:48</td>\n",
       "    </tr>\n",
       "    <tr>\n",
       "      <th>63423</th>\n",
       "      <td>2021-04-24 07:36:25</td>\n",
       "      <td>2022-01-18 09:43:42</td>\n",
       "    </tr>\n",
       "    <tr>\n",
       "      <th>63424</th>\n",
       "      <td>2021-04-24 13:32:18</td>\n",
       "      <td>2021-04-25 18:45:02</td>\n",
       "    </tr>\n",
       "    <tr>\n",
       "      <th>63425</th>\n",
       "      <td>2021-04-24 19:07:31</td>\n",
       "      <td>2021-04-24 19:07:34</td>\n",
       "    </tr>\n",
       "  </tbody>\n",
       "</table>\n",
       "<p>63426 rows × 2 columns</p>\n",
       "</div>"
      ],
      "text/plain": [
       "             registerDate       lastvisitDate\n",
       "0     2000-01-11 17:10:00                 NaT\n",
       "1     2000-08-24 18:17:51                 NaT\n",
       "2     2000-08-29 19:43:43                 NaT\n",
       "3     2000-09-19 15:06:58                 NaT\n",
       "4     2001-01-11 00:20:23                 NaT\n",
       "...                   ...                 ...\n",
       "63421 2021-04-24 00:08:56 2021-04-24 00:08:56\n",
       "63422 2021-04-24 03:36:38 2021-04-25 22:27:48\n",
       "63423 2021-04-24 07:36:25 2022-01-18 09:43:42\n",
       "63424 2021-04-24 13:32:18 2021-04-25 18:45:02\n",
       "63425 2021-04-24 19:07:31 2021-04-24 19:07:34\n",
       "\n",
       "[63426 rows x 2 columns]"
      ]
     },
     "execution_count": 10,
     "metadata": {},
     "output_type": "execute_result"
    }
   ],
   "source": [
    "clustered_dates = pd.read_sql_query(sql_query,nanohub_db)\n",
    "clustered_dates"
   ]
  },
  {
   "cell_type": "code",
   "execution_count": 11,
   "metadata": {
    "execution": {
     "iopub.execute_input": "2022-01-31T03:53:54.552174Z",
     "iopub.status.busy": "2022-01-31T03:53:54.551543Z",
     "iopub.status.idle": "2022-01-31T03:53:54.563358Z",
     "shell.execute_reply": "2022-01-31T03:53:54.560441Z",
     "shell.execute_reply.started": "2022-01-31T03:53:54.552130Z"
    },
    "tags": []
   },
   "outputs": [
    {
     "data": {
      "text/plain": [
       "1400"
      ]
     },
     "execution_count": 11,
     "metadata": {},
     "output_type": "execute_result"
    }
   ],
   "source": [
    "clustered_dates[clustered_dates['lastvisitDate'].isna()].shape[0]"
   ]
  },
  {
   "cell_type": "code",
   "execution_count": 12,
   "metadata": {
    "execution": {
     "iopub.execute_input": "2022-01-31T03:53:54.571501Z",
     "iopub.status.busy": "2022-01-31T03:53:54.570674Z",
     "iopub.status.idle": "2022-01-31T03:53:54.623432Z",
     "shell.execute_reply": "2022-01-31T03:53:54.622170Z",
     "shell.execute_reply.started": "2022-01-31T03:53:54.571445Z"
    },
    "tags": []
   },
   "outputs": [
    {
     "data": {
      "text/html": [
       "<div>\n",
       "<style scoped>\n",
       "    .dataframe tbody tr th:only-of-type {\n",
       "        vertical-align: middle;\n",
       "    }\n",
       "\n",
       "    .dataframe tbody tr th {\n",
       "        vertical-align: top;\n",
       "    }\n",
       "\n",
       "    .dataframe thead th {\n",
       "        text-align: right;\n",
       "    }\n",
       "</style>\n",
       "<table border=\"1\" class=\"dataframe\">\n",
       "  <thead>\n",
       "    <tr style=\"text-align: right;\">\n",
       "      <th></th>\n",
       "      <th>index</th>\n",
       "      <th>registerDate</th>\n",
       "      <th>lastvisitDate</th>\n",
       "      <th>duration</th>\n",
       "    </tr>\n",
       "  </thead>\n",
       "  <tbody>\n",
       "    <tr>\n",
       "      <th>0</th>\n",
       "      <td>19</td>\n",
       "      <td>2005-07-28 01:28:13</td>\n",
       "      <td>2015-02-18 17:03:45</td>\n",
       "      <td>3492 days 15:35:32</td>\n",
       "    </tr>\n",
       "    <tr>\n",
       "      <th>1</th>\n",
       "      <td>26</td>\n",
       "      <td>2006-04-24 15:38:15</td>\n",
       "      <td>2007-11-12 00:56:00</td>\n",
       "      <td>566 days 09:17:45</td>\n",
       "    </tr>\n",
       "  </tbody>\n",
       "</table>\n",
       "</div>"
      ],
      "text/plain": [
       "   index        registerDate       lastvisitDate           duration\n",
       "0     19 2005-07-28 01:28:13 2015-02-18 17:03:45 3492 days 15:35:32\n",
       "1     26 2006-04-24 15:38:15 2007-11-12 00:56:00  566 days 09:17:45"
      ]
     },
     "metadata": {},
     "output_type": "display_data"
    }
   ],
   "source": [
    "## determine time diffs\n",
    "clustered_dates2 = clustered_dates[~clustered_dates['lastvisitDate'].isna()].reset_index()\n",
    "clustered_dates2['registerDate'] = pd.to_datetime(clustered_dates2['registerDate'])\n",
    "clustered_dates2['lastvisitDate'] = pd.to_datetime(clustered_dates2['lastvisitDate'])\n",
    "clustered_dates2['duration'] = clustered_dates2['lastvisitDate'].to_numpy() - clustered_dates2['registerDate'].to_numpy()\n",
    "display(clustered_dates2.head(2))"
   ]
  },
  {
   "cell_type": "code",
   "execution_count": 13,
   "metadata": {
    "execution": {
     "iopub.execute_input": "2022-01-31T03:53:54.626509Z",
     "iopub.status.busy": "2022-01-31T03:53:54.625698Z",
     "iopub.status.idle": "2022-01-31T03:53:54.635692Z",
     "shell.execute_reply": "2022-01-31T03:53:54.634436Z",
     "shell.execute_reply.started": "2022-01-31T03:53:54.626459Z"
    },
    "tags": []
   },
   "outputs": [],
   "source": [
    "import numpy as np"
   ]
  },
  {
   "cell_type": "code",
   "execution_count": 14,
   "metadata": {
    "execution": {
     "iopub.execute_input": "2022-01-31T03:53:54.637674Z",
     "iopub.status.busy": "2022-01-31T03:53:54.637242Z",
     "iopub.status.idle": "2022-01-31T03:53:55.991659Z",
     "shell.execute_reply": "2022-01-31T03:53:55.990874Z",
     "shell.execute_reply.started": "2022-01-31T03:53:54.637625Z"
    },
    "tags": []
   },
   "outputs": [
    {
     "data": {
      "text/html": [
       "<div>\n",
       "<style scoped>\n",
       "    .dataframe tbody tr th:only-of-type {\n",
       "        vertical-align: middle;\n",
       "    }\n",
       "\n",
       "    .dataframe tbody tr th {\n",
       "        vertical-align: top;\n",
       "    }\n",
       "\n",
       "    .dataframe thead th {\n",
       "        text-align: right;\n",
       "    }\n",
       "</style>\n",
       "<table border=\"1\" class=\"dataframe\">\n",
       "  <thead>\n",
       "    <tr style=\"text-align: right;\">\n",
       "      <th></th>\n",
       "      <th>index</th>\n",
       "      <th>registerDate</th>\n",
       "      <th>lastvisitDate</th>\n",
       "      <th>duration</th>\n",
       "    </tr>\n",
       "  </thead>\n",
       "  <tbody>\n",
       "    <tr>\n",
       "      <th>0</th>\n",
       "      <td>19</td>\n",
       "      <td>2005-07-28 01:28:13</td>\n",
       "      <td>2015-02-18 17:03:45</td>\n",
       "      <td>3.54</td>\n",
       "    </tr>\n",
       "    <tr>\n",
       "      <th>1</th>\n",
       "      <td>26</td>\n",
       "      <td>2006-04-24 15:38:15</td>\n",
       "      <td>2007-11-12 00:56:00</td>\n",
       "      <td>2.75</td>\n",
       "    </tr>\n",
       "  </tbody>\n",
       "</table>\n",
       "</div>"
      ],
      "text/plain": [
       "   index        registerDate       lastvisitDate  duration\n",
       "0     19 2005-07-28 01:28:13 2015-02-18 17:03:45      3.54\n",
       "1     26 2006-04-24 15:38:15 2007-11-12 00:56:00      2.75"
      ]
     },
     "metadata": {},
     "output_type": "display_data"
    },
    {
     "data": {
      "text/html": [
       "<div>\n",
       "<style scoped>\n",
       "    .dataframe tbody tr th:only-of-type {\n",
       "        vertical-align: middle;\n",
       "    }\n",
       "\n",
       "    .dataframe tbody tr th {\n",
       "        vertical-align: top;\n",
       "    }\n",
       "\n",
       "    .dataframe thead th {\n",
       "        text-align: right;\n",
       "    }\n",
       "</style>\n",
       "<table border=\"1\" class=\"dataframe\">\n",
       "  <thead>\n",
       "    <tr style=\"text-align: right;\">\n",
       "      <th></th>\n",
       "      <th>index</th>\n",
       "      <th>registerDate</th>\n",
       "      <th>lastvisitDate</th>\n",
       "      <th>duration</th>\n",
       "    </tr>\n",
       "  </thead>\n",
       "  <tbody>\n",
       "    <tr>\n",
       "      <th>62024</th>\n",
       "      <td>63424</td>\n",
       "      <td>2021-04-24 13:32:18</td>\n",
       "      <td>2021-04-25 18:45:02</td>\n",
       "      <td>0.0</td>\n",
       "    </tr>\n",
       "    <tr>\n",
       "      <th>62025</th>\n",
       "      <td>63425</td>\n",
       "      <td>2021-04-24 19:07:31</td>\n",
       "      <td>2021-04-24 19:07:34</td>\n",
       "      <td>-inf</td>\n",
       "    </tr>\n",
       "  </tbody>\n",
       "</table>\n",
       "</div>"
      ],
      "text/plain": [
       "       index        registerDate       lastvisitDate  duration\n",
       "62024  63424 2021-04-24 13:32:18 2021-04-25 18:45:02       0.0\n",
       "62025  63425 2021-04-24 19:07:31 2021-04-24 19:07:34      -inf"
      ]
     },
     "metadata": {},
     "output_type": "display_data"
    }
   ],
   "source": [
    "clustered_dates2['duration'] = [np.round(np.log10(i.days),2) for i in clustered_dates2['duration'].to_list()]\n",
    "display(clustered_dates2.head(2))\n",
    "display(clustered_dates2.tail(2))"
   ]
  },
  {
   "cell_type": "code",
   "execution_count": 15,
   "metadata": {
    "execution": {
     "iopub.execute_input": "2022-01-31T03:53:55.993680Z",
     "iopub.status.busy": "2022-01-31T03:53:55.993276Z",
     "iopub.status.idle": "2022-01-31T03:53:56.006841Z",
     "shell.execute_reply": "2022-01-31T03:53:56.004690Z",
     "shell.execute_reply.started": "2022-01-31T03:53:55.993643Z"
    },
    "tags": []
   },
   "outputs": [],
   "source": [
    "# 50 bins - log days\n",
    "max_log_interval = 4 #base 10\n",
    "bins = 50\n",
    "# 1 day, 2 day, 3 day, 4, 5, 6, 1 week, 2 week, 1 month, 2 month, 1 year, \n",
    "bin_vals = [np.round(4/50*(i+1),2) for i in range(bins)] #these are the ending bin vals\n",
    "bin_vals2 = [np.round(4/50*(i+1),2) for i in range(bins)] #these are the ending bin vals"
   ]
  },
  {
   "cell_type": "code",
   "execution_count": 16,
   "metadata": {
    "execution": {
     "iopub.execute_input": "2022-01-31T03:53:56.011208Z",
     "iopub.status.busy": "2022-01-31T03:53:56.010032Z",
     "iopub.status.idle": "2022-01-31T03:53:56.048604Z",
     "shell.execute_reply": "2022-01-31T03:53:56.047883Z",
     "shell.execute_reply.started": "2022-01-31T03:53:56.011062Z"
    },
    "tags": []
   },
   "outputs": [],
   "source": [
    "clustered_user_vals = []\n",
    "for i,j in enumerate(bin_vals):\n",
    "    if i == 0:\n",
    "#         clustered_user_vals.append(clustered_dates[clustered_dates['lastvisitDate'].isna()].shape[0]\\\n",
    "#                                   +len(np.where(clustered_dates2['duration'] == 1)[0]))\n",
    "        h_thresh = j\n",
    "        l_thresh = 0\n",
    "        clustered_user_vals.append(len(np.where((clustered_dates2['duration'] < h_thresh))[0]))\n",
    "    else:\n",
    "        h_thresh = j\n",
    "        l_thresh = bin_vals[i-1]\n",
    "        clustered_user_vals.append(len(np.where((clustered_dates2['duration'] > l_thresh) \\\n",
    "                                    & (clustered_dates2['duration'] < h_thresh))[0]))        \n",
    "\n",
    "        "
   ]
  },
  {
   "cell_type": "code",
   "execution_count": 17,
   "metadata": {
    "execution": {
     "iopub.execute_input": "2022-01-31T03:53:56.050297Z",
     "iopub.status.busy": "2022-01-31T03:53:56.049830Z",
     "iopub.status.idle": "2022-01-31T03:53:56.059625Z",
     "shell.execute_reply": "2022-01-31T03:53:56.058257Z",
     "shell.execute_reply.started": "2022-01-31T03:53:56.050260Z"
    },
    "tags": []
   },
   "outputs": [
    {
     "data": {
      "text/plain": [
       "15071"
      ]
     },
     "execution_count": 17,
     "metadata": {},
     "output_type": "execute_result"
    }
   ],
   "source": [
    "clustered_user_vals[0]"
   ]
  },
  {
   "cell_type": "code",
   "execution_count": 18,
   "metadata": {
    "execution": {
     "iopub.execute_input": "2022-01-31T03:53:56.063008Z",
     "iopub.status.busy": "2022-01-31T03:53:56.061701Z",
     "iopub.status.idle": "2022-01-31T03:53:56.070234Z",
     "shell.execute_reply": "2022-01-31T03:53:56.068599Z",
     "shell.execute_reply.started": "2022-01-31T03:53:56.062958Z"
    },
    "tags": []
   },
   "outputs": [],
   "source": [
    "clustered_user_vals2 = []\n",
    "for i in clustered_user_vals:\n",
    "    if i != 0:\n",
    "        clustered_user_vals2.append(np.log10(i))\n",
    "    else:\n",
    "        clustered_user_vals2.append(0)"
   ]
  },
  {
   "cell_type": "code",
   "execution_count": 19,
   "metadata": {
    "execution": {
     "iopub.execute_input": "2022-01-31T03:53:56.072226Z",
     "iopub.status.busy": "2022-01-31T03:53:56.071568Z",
     "iopub.status.idle": "2022-01-31T03:53:56.079873Z",
     "shell.execute_reply": "2022-01-31T03:53:56.079120Z",
     "shell.execute_reply.started": "2022-01-31T03:53:56.072183Z"
    },
    "tags": []
   },
   "outputs": [],
   "source": [
    "## import flags and plot"
   ]
  },
  {
   "cell_type": "code",
   "execution_count": 20,
   "metadata": {
    "execution": {
     "iopub.execute_input": "2022-01-31T03:53:56.082176Z",
     "iopub.status.busy": "2022-01-31T03:53:56.081303Z",
     "iopub.status.idle": "2022-01-31T03:53:56.087822Z",
     "shell.execute_reply": "2022-01-31T03:53:56.086370Z",
     "shell.execute_reply.started": "2022-01-31T03:53:56.082125Z"
    },
    "tags": []
   },
   "outputs": [],
   "source": [
    "import re"
   ]
  },
  {
   "cell_type": "code",
   "execution_count": 21,
   "metadata": {
    "execution": {
     "iopub.execute_input": "2022-01-31T03:53:56.090902Z",
     "iopub.status.busy": "2022-01-31T03:53:56.089714Z",
     "iopub.status.idle": "2022-01-31T03:53:56.111204Z",
     "shell.execute_reply": "2022-01-31T03:53:56.105475Z",
     "shell.execute_reply.started": "2022-01-31T03:53:56.090767Z"
    },
    "tags": []
   },
   "outputs": [],
   "source": [
    "## read the dev_flags.txt to determine where to save\n",
    "with open(cwd+'/dev_flags.txt','r') as f:\n",
    "    raw_flags = f.read()\n",
    "flag_pattern = re.compile(r'= \\w+')\n",
    "flags1 = re.findall(flag_pattern,raw_flags)    \n",
    "flags_result = [i[2:] for i in flags1]\n",
    "dev_flag = flags_result[0]\n",
    "prod_flag = flags_result[1]"
   ]
  },
  {
   "cell_type": "code",
   "execution_count": 22,
   "metadata": {
    "execution": {
     "iopub.execute_input": "2022-01-31T03:53:56.115489Z",
     "iopub.status.busy": "2022-01-31T03:53:56.114706Z",
     "iopub.status.idle": "2022-01-31T03:53:57.385160Z",
     "shell.execute_reply": "2022-01-31T03:53:57.384215Z",
     "shell.execute_reply.started": "2022-01-31T03:53:56.115445Z"
    },
    "tags": []
   },
   "outputs": [],
   "source": [
    "import matplotlib.pyplot as plt\n",
    "import seaborn as sns"
   ]
  },
  {
   "cell_type": "code",
   "execution_count": 23,
   "metadata": {
    "execution": {
     "iopub.execute_input": "2022-01-31T03:53:57.387678Z",
     "iopub.status.busy": "2022-01-31T03:53:57.387070Z",
     "iopub.status.idle": "2022-01-31T03:53:59.761116Z",
     "shell.execute_reply": "2022-01-31T03:53:59.760227Z",
     "shell.execute_reply.started": "2022-01-31T03:53:57.387631Z"
    },
    "tags": []
   },
   "outputs": [
    {
     "data": {
      "image/png": "[encoded data removed]",
      "text/plain": [
       "<Figure size 432x288 with 1 Axes>"
      ]
     },
     "metadata": {
      "needs_background": "light"
     },
     "output_type": "display_data"
    }
   ],
   "source": [
    "plt.figure()\n",
    "plt.hist(bin_vals2,bins=bin_vals2,weights=clustered_user_vals,align='left',color='green',edgecolor='white', linewidth=1)\n",
    "plt.xlabel('User Lifetime (log days)')\n",
    "plt.xticks(np.arange(0,4.5,0.5))\n",
    "plt.ylim([0,2500])\n",
    "plt.ylabel('# of Users (log)')\n",
    "\n",
    "if dev_flag == 'True':\n",
    "    plt.savefig(cwd+'/plots_local/simuser_lifetime_class.eps', dpi=1000, bbox_inches='tight')\n",
    "    plt.savefig(cwd+'/plots_local/simuser_lifetime_class.pdf', dpi=1000, bbox_inches='tight')\n",
    "    plt.savefig(cwd+'/plots_local/simuser_lifetime_class.png', dpi=1000, bbox_inches='tight')\n",
    "elif prod_flag == 'True':\n",
    "    plt.savefig(cwd+'/plots_production/simuser_lifetime_class.eps', dpi=1000, bbox_inches='tight')\n",
    "    plt.savefig(cwd+'/plots_production/simuser_lifetime_class.pdf', dpi=1000, bbox_inches='tight')\n",
    "    plt.savefig(cwd+'/plots_production/simuser_lifetime_class.png', dpi=1000, bbox_inches='tight')\n",
    "else:\n",
    "    print('no printing flag is active')"
   ]
  },
  {
   "cell_type": "code",
   "execution_count": 24,
   "metadata": {
    "execution": {
     "iopub.execute_input": "2022-01-31T03:53:59.768526Z",
     "iopub.status.busy": "2022-01-31T03:53:59.767955Z",
     "iopub.status.idle": "2022-01-31T03:53:59.798711Z",
     "shell.execute_reply": "2022-01-31T03:53:59.797972Z",
     "shell.execute_reply.started": "2022-01-31T03:53:59.768477Z"
    },
    "tags": []
   },
   "outputs": [],
   "source": [
    "tss_username = ss_df['username'].dropna().to_list()"
   ]
  },
  {
   "cell_type": "code",
   "execution_count": 25,
   "metadata": {
    "execution": {
     "iopub.execute_input": "2022-01-31T03:53:59.800760Z",
     "iopub.status.busy": "2022-01-31T03:53:59.800280Z",
     "iopub.status.idle": "2022-01-31T03:53:59.869173Z",
     "shell.execute_reply": "2022-01-31T03:53:59.868047Z",
     "shell.execute_reply.started": "2022-01-31T03:53:59.800693Z"
    },
    "tags": []
   },
   "outputs": [],
   "source": [
    "sql_query = \"select registerDate, lastvisitDate from jos_users where username in \" + str(tuple(ss_df['username'].dropna()))"
   ]
  },
  {
   "cell_type": "code",
   "execution_count": 26,
   "metadata": {
    "execution": {
     "iopub.execute_input": "2022-01-31T03:53:59.870931Z",
     "iopub.status.busy": "2022-01-31T03:53:59.870528Z",
     "iopub.status.idle": "2022-01-31T03:54:11.287692Z",
     "shell.execute_reply": "2022-01-31T03:54:11.286947Z",
     "shell.execute_reply.started": "2022-01-31T03:53:59.870893Z"
    },
    "tags": []
   },
   "outputs": [
    {
     "data": {
      "text/html": [
       "<div>\n",
       "<style scoped>\n",
       "    .dataframe tbody tr th:only-of-type {\n",
       "        vertical-align: middle;\n",
       "    }\n",
       "\n",
       "    .dataframe tbody tr th {\n",
       "        vertical-align: top;\n",
       "    }\n",
       "\n",
       "    .dataframe thead th {\n",
       "        text-align: right;\n",
       "    }\n",
       "</style>\n",
       "<table border=\"1\" class=\"dataframe\">\n",
       "  <thead>\n",
       "    <tr style=\"text-align: right;\">\n",
       "      <th></th>\n",
       "      <th>registerDate</th>\n",
       "      <th>lastvisitDate</th>\n",
       "    </tr>\n",
       "  </thead>\n",
       "  <tbody>\n",
       "    <tr>\n",
       "      <th>0</th>\n",
       "      <td>2014-11-13 21:09:09</td>\n",
       "      <td>NaT</td>\n",
       "    </tr>\n",
       "    <tr>\n",
       "      <th>1</th>\n",
       "      <td>2008-11-19 22:51:04</td>\n",
       "      <td>2008-11-19 23:55:30</td>\n",
       "    </tr>\n",
       "    <tr>\n",
       "      <th>2</th>\n",
       "      <td>2008-11-18 17:29:56</td>\n",
       "      <td>2020-02-14 18:50:14</td>\n",
       "    </tr>\n",
       "    <tr>\n",
       "      <th>3</th>\n",
       "      <td>2008-11-11 19:17:04</td>\n",
       "      <td>NaT</td>\n",
       "    </tr>\n",
       "    <tr>\n",
       "      <th>4</th>\n",
       "      <td>2014-06-26 19:38:57</td>\n",
       "      <td>NaT</td>\n",
       "    </tr>\n",
       "    <tr>\n",
       "      <th>...</th>\n",
       "      <td>...</td>\n",
       "      <td>...</td>\n",
       "    </tr>\n",
       "    <tr>\n",
       "      <th>188060</th>\n",
       "      <td>2021-11-06 05:41:25</td>\n",
       "      <td>2021-11-06 07:35:26</td>\n",
       "    </tr>\n",
       "    <tr>\n",
       "      <th>188061</th>\n",
       "      <td>2021-11-06 05:42:56</td>\n",
       "      <td>2021-11-06 05:44:07</td>\n",
       "    </tr>\n",
       "    <tr>\n",
       "      <th>188062</th>\n",
       "      <td>2021-11-06 05:47:04</td>\n",
       "      <td>2021-11-06 05:47:05</td>\n",
       "    </tr>\n",
       "    <tr>\n",
       "      <th>188063</th>\n",
       "      <td>2021-11-06 06:06:07</td>\n",
       "      <td>2021-11-06 06:06:07</td>\n",
       "    </tr>\n",
       "    <tr>\n",
       "      <th>188064</th>\n",
       "      <td>2021-11-06 06:11:52</td>\n",
       "      <td>2021-11-06 06:11:52</td>\n",
       "    </tr>\n",
       "  </tbody>\n",
       "</table>\n",
       "<p>188065 rows × 2 columns</p>\n",
       "</div>"
      ],
      "text/plain": [
       "              registerDate       lastvisitDate\n",
       "0      2014-11-13 21:09:09                 NaT\n",
       "1      2008-11-19 22:51:04 2008-11-19 23:55:30\n",
       "2      2008-11-18 17:29:56 2020-02-14 18:50:14\n",
       "3      2008-11-11 19:17:04                 NaT\n",
       "4      2014-06-26 19:38:57                 NaT\n",
       "...                    ...                 ...\n",
       "188060 2021-11-06 05:41:25 2021-11-06 07:35:26\n",
       "188061 2021-11-06 05:42:56 2021-11-06 05:44:07\n",
       "188062 2021-11-06 05:47:04 2021-11-06 05:47:05\n",
       "188063 2021-11-06 06:06:07 2021-11-06 06:06:07\n",
       "188064 2021-11-06 06:11:52 2021-11-06 06:11:52\n",
       "\n",
       "[188065 rows x 2 columns]"
      ]
     },
     "execution_count": 26,
     "metadata": {},
     "output_type": "execute_result"
    }
   ],
   "source": [
    "self_study_dates = pd.read_sql_query(sql_query,nanohub_db)\n",
    "self_study_dates"
   ]
  },
  {
   "cell_type": "code",
   "execution_count": 27,
   "metadata": {
    "execution": {
     "iopub.execute_input": "2022-01-31T03:54:11.289850Z",
     "iopub.status.busy": "2022-01-31T03:54:11.289329Z",
     "iopub.status.idle": "2022-01-31T03:54:11.333500Z",
     "shell.execute_reply": "2022-01-31T03:54:11.332787Z",
     "shell.execute_reply.started": "2022-01-31T03:54:11.289810Z"
    },
    "tags": []
   },
   "outputs": [
    {
     "data": {
      "text/html": [
       "<div>\n",
       "<style scoped>\n",
       "    .dataframe tbody tr th:only-of-type {\n",
       "        vertical-align: middle;\n",
       "    }\n",
       "\n",
       "    .dataframe tbody tr th {\n",
       "        vertical-align: top;\n",
       "    }\n",
       "\n",
       "    .dataframe thead th {\n",
       "        text-align: right;\n",
       "    }\n",
       "</style>\n",
       "<table border=\"1\" class=\"dataframe\">\n",
       "  <thead>\n",
       "    <tr style=\"text-align: right;\">\n",
       "      <th></th>\n",
       "      <th>index</th>\n",
       "      <th>registerDate</th>\n",
       "      <th>lastvisitDate</th>\n",
       "      <th>duration</th>\n",
       "    </tr>\n",
       "  </thead>\n",
       "  <tbody>\n",
       "    <tr>\n",
       "      <th>0</th>\n",
       "      <td>1</td>\n",
       "      <td>2008-11-19 22:51:04</td>\n",
       "      <td>2008-11-19 23:55:30</td>\n",
       "      <td>0 days 01:04:26</td>\n",
       "    </tr>\n",
       "    <tr>\n",
       "      <th>1</th>\n",
       "      <td>2</td>\n",
       "      <td>2008-11-18 17:29:56</td>\n",
       "      <td>2020-02-14 18:50:14</td>\n",
       "      <td>4105 days 01:20:18</td>\n",
       "    </tr>\n",
       "  </tbody>\n",
       "</table>\n",
       "</div>"
      ],
      "text/plain": [
       "   index        registerDate       lastvisitDate           duration\n",
       "0      1 2008-11-19 22:51:04 2008-11-19 23:55:30    0 days 01:04:26\n",
       "1      2 2008-11-18 17:29:56 2020-02-14 18:50:14 4105 days 01:20:18"
      ]
     },
     "metadata": {},
     "output_type": "display_data"
    }
   ],
   "source": [
    "## determine time diffs\n",
    "self_study_dates2 = self_study_dates[~self_study_dates['lastvisitDate'].isna()].reset_index()\n",
    "self_study_dates2['registerDate'] = pd.to_datetime(self_study_dates2['registerDate'])\n",
    "self_study_dates2['lastvisitDate'] = pd.to_datetime(self_study_dates2['lastvisitDate'])\n",
    "self_study_dates2['duration'] = self_study_dates2['lastvisitDate'].to_numpy() - self_study_dates2['registerDate'].to_numpy()\n",
    "display(self_study_dates2.head(2))"
   ]
  },
  {
   "cell_type": "code",
   "execution_count": 28,
   "metadata": {
    "execution": {
     "iopub.execute_input": "2022-01-31T03:54:11.336339Z",
     "iopub.status.busy": "2022-01-31T03:54:11.335314Z",
     "iopub.status.idle": "2022-01-31T03:54:15.454892Z",
     "shell.execute_reply": "2022-01-31T03:54:15.453190Z",
     "shell.execute_reply.started": "2022-01-31T03:54:11.336281Z"
    },
    "tags": []
   },
   "outputs": [
    {
     "data": {
      "text/html": [
       "<div>\n",
       "<style scoped>\n",
       "    .dataframe tbody tr th:only-of-type {\n",
       "        vertical-align: middle;\n",
       "    }\n",
       "\n",
       "    .dataframe tbody tr th {\n",
       "        vertical-align: top;\n",
       "    }\n",
       "\n",
       "    .dataframe thead th {\n",
       "        text-align: right;\n",
       "    }\n",
       "</style>\n",
       "<table border=\"1\" class=\"dataframe\">\n",
       "  <thead>\n",
       "    <tr style=\"text-align: right;\">\n",
       "      <th></th>\n",
       "      <th>index</th>\n",
       "      <th>registerDate</th>\n",
       "      <th>lastvisitDate</th>\n",
       "      <th>duration</th>\n",
       "    </tr>\n",
       "  </thead>\n",
       "  <tbody>\n",
       "    <tr>\n",
       "      <th>0</th>\n",
       "      <td>1</td>\n",
       "      <td>2008-11-19 22:51:04</td>\n",
       "      <td>2008-11-19 23:55:30</td>\n",
       "      <td>-inf</td>\n",
       "    </tr>\n",
       "    <tr>\n",
       "      <th>1</th>\n",
       "      <td>2</td>\n",
       "      <td>2008-11-18 17:29:56</td>\n",
       "      <td>2020-02-14 18:50:14</td>\n",
       "      <td>3.61</td>\n",
       "    </tr>\n",
       "  </tbody>\n",
       "</table>\n",
       "</div>"
      ],
      "text/plain": [
       "   index        registerDate       lastvisitDate  duration\n",
       "0      1 2008-11-19 22:51:04 2008-11-19 23:55:30      -inf\n",
       "1      2 2008-11-18 17:29:56 2020-02-14 18:50:14      3.61"
      ]
     },
     "metadata": {},
     "output_type": "display_data"
    },
    {
     "data": {
      "text/html": [
       "<div>\n",
       "<style scoped>\n",
       "    .dataframe tbody tr th:only-of-type {\n",
       "        vertical-align: middle;\n",
       "    }\n",
       "\n",
       "    .dataframe tbody tr th {\n",
       "        vertical-align: top;\n",
       "    }\n",
       "\n",
       "    .dataframe thead th {\n",
       "        text-align: right;\n",
       "    }\n",
       "</style>\n",
       "<table border=\"1\" class=\"dataframe\">\n",
       "  <thead>\n",
       "    <tr style=\"text-align: right;\">\n",
       "      <th></th>\n",
       "      <th>index</th>\n",
       "      <th>registerDate</th>\n",
       "      <th>lastvisitDate</th>\n",
       "      <th>duration</th>\n",
       "    </tr>\n",
       "  </thead>\n",
       "  <tbody>\n",
       "    <tr>\n",
       "      <th>175332</th>\n",
       "      <td>188063</td>\n",
       "      <td>2021-11-06 06:06:07</td>\n",
       "      <td>2021-11-06 06:06:07</td>\n",
       "      <td>-inf</td>\n",
       "    </tr>\n",
       "    <tr>\n",
       "      <th>175333</th>\n",
       "      <td>188064</td>\n",
       "      <td>2021-11-06 06:11:52</td>\n",
       "      <td>2021-11-06 06:11:52</td>\n",
       "      <td>-inf</td>\n",
       "    </tr>\n",
       "  </tbody>\n",
       "</table>\n",
       "</div>"
      ],
      "text/plain": [
       "         index        registerDate       lastvisitDate  duration\n",
       "175332  188063 2021-11-06 06:06:07 2021-11-06 06:06:07      -inf\n",
       "175333  188064 2021-11-06 06:11:52 2021-11-06 06:11:52      -inf"
      ]
     },
     "metadata": {},
     "output_type": "display_data"
    }
   ],
   "source": [
    "self_study_dates2['duration'] = [np.round(np.log10(i.days),2) for i in self_study_dates2['duration'].to_list()]\n",
    "display(self_study_dates2.head(2))\n",
    "display(self_study_dates2.tail(2))"
   ]
  },
  {
   "cell_type": "code",
   "execution_count": 29,
   "metadata": {
    "execution": {
     "iopub.execute_input": "2022-01-31T03:54:15.456490Z",
     "iopub.status.busy": "2022-01-31T03:54:15.455963Z",
     "iopub.status.idle": "2022-01-31T03:54:15.497297Z",
     "shell.execute_reply": "2022-01-31T03:54:15.496702Z",
     "shell.execute_reply.started": "2022-01-31T03:54:15.456451Z"
    },
    "tags": []
   },
   "outputs": [],
   "source": [
    "self_user_vals = []\n",
    "for i,j in enumerate(bin_vals):\n",
    "    if i == 0:\n",
    "#         clustered_user_vals.append(clustered_dates[clustered_dates['lastvisitDate'].isna()].shape[0]\\\n",
    "#                                   +len(np.where(clustered_dates2['duration'] == 1)[0]))\n",
    "        h_thresh = j\n",
    "        l_thresh = 0\n",
    "        self_user_vals.append(len(np.where((self_study_dates2['duration'] < h_thresh))[0]))\n",
    "    else:\n",
    "        h_thresh = j\n",
    "        l_thresh = bin_vals[i-1]\n",
    "        self_user_vals.append(len(np.where((self_study_dates2['duration'] > l_thresh) \\\n",
    "                                    & (self_study_dates2['duration'] < h_thresh))[0]))        \n",
    "\n",
    "        "
   ]
  },
  {
   "cell_type": "code",
   "execution_count": 30,
   "metadata": {
    "execution": {
     "iopub.execute_input": "2022-01-31T03:54:15.498634Z",
     "iopub.status.busy": "2022-01-31T03:54:15.498328Z",
     "iopub.status.idle": "2022-01-31T03:54:15.503494Z",
     "shell.execute_reply": "2022-01-31T03:54:15.502237Z",
     "shell.execute_reply.started": "2022-01-31T03:54:15.498605Z"
    },
    "tags": []
   },
   "outputs": [
    {
     "data": {
      "text/plain": [
       "[104289, 0, 0, 2374, 0]"
      ]
     },
     "execution_count": 30,
     "metadata": {},
     "output_type": "execute_result"
    }
   ],
   "source": [
    "self_user_vals[:5]"
   ]
  },
  {
   "cell_type": "code",
   "execution_count": 31,
   "metadata": {
    "execution": {
     "iopub.execute_input": "2022-01-31T03:54:15.506971Z",
     "iopub.status.busy": "2022-01-31T03:54:15.506278Z",
     "iopub.status.idle": "2022-01-31T03:54:17.307137Z",
     "shell.execute_reply": "2022-01-31T03:54:17.305873Z",
     "shell.execute_reply.started": "2022-01-31T03:54:15.506924Z"
    },
    "tags": []
   },
   "outputs": [
    {
     "data": {
      "image/png": "[encoded data removed]",
      "text/plain": [
       "<Figure size 432x288 with 1 Axes>"
      ]
     },
     "metadata": {
      "needs_background": "light"
     },
     "output_type": "display_data"
    }
   ],
   "source": [
    "plt.figure()\n",
    "plt.hist(bin_vals2,bins=bin_vals2,weights=self_user_vals,align='left',color='orange',edgecolor='white', linewidth=1)\n",
    "plt.xlabel('User Lifetime (log days)')\n",
    "plt.xticks(np.arange(0,4.5,0.5))\n",
    "plt.ylim([0,2500])\n",
    "plt.ylabel('# of Users')\n",
    "\n",
    "if dev_flag == 'True':\n",
    "    plt.savefig(cwd+'/plots_local/simuser_lifetime_unclass.eps', dpi=1000, bbox_inches='tight')\n",
    "    plt.savefig(cwd+'/plots_local/simuser_lifetime_unclass.pdf', dpi=1000, bbox_inches='tight')\n",
    "    plt.savefig(cwd+'/plots_local/simuser_lifetime_unclass.png', dpi=1000, bbox_inches='tight')\n",
    "elif prod_flag == 'True':\n",
    "    plt.savefig(cwd+'/plots_production/simuser_lifetime_unclass.eps', dpi=1000, bbox_inches='tight')\n",
    "    plt.savefig(cwd+'/plots_production/simuser_lifetime_unclass.pdf', dpi=1000, bbox_inches='tight')\n",
    "    plt.savefig(cwd+'/plots_production/simuser_lifetime_unclass.png', dpi=1000, bbox_inches='tight')\n",
    "else:\n",
    "    print('no printing flag is active')"
   ]
  },
  {
   "cell_type": "code",
   "execution_count": 32,
   "metadata": {
    "execution": {
     "iopub.execute_input": "2022-01-31T03:54:17.312126Z",
     "iopub.status.busy": "2022-01-31T03:54:17.311859Z",
     "iopub.status.idle": "2022-01-31T03:54:17.319995Z",
     "shell.execute_reply": "2022-01-31T03:54:17.318387Z",
     "shell.execute_reply.started": "2022-01-31T03:54:17.312097Z"
    },
    "tags": []
   },
   "outputs": [],
   "source": [
    "sql_query = \"select registerDate, lastvisitDate from jos_users where id in \" + str(tuple(research_df['nhid']))"
   ]
  },
  {
   "cell_type": "code",
   "execution_count": 33,
   "metadata": {
    "execution": {
     "iopub.execute_input": "2022-01-31T03:54:17.321786Z",
     "iopub.status.busy": "2022-01-31T03:54:17.321176Z",
     "iopub.status.idle": "2022-01-31T03:54:17.564137Z",
     "shell.execute_reply": "2022-01-31T03:54:17.563022Z",
     "shell.execute_reply.started": "2022-01-31T03:54:17.321751Z"
    },
    "tags": []
   },
   "outputs": [
    {
     "data": {
      "text/html": [
       "<div>\n",
       "<style scoped>\n",
       "    .dataframe tbody tr th:only-of-type {\n",
       "        vertical-align: middle;\n",
       "    }\n",
       "\n",
       "    .dataframe tbody tr th {\n",
       "        vertical-align: top;\n",
       "    }\n",
       "\n",
       "    .dataframe thead th {\n",
       "        text-align: right;\n",
       "    }\n",
       "</style>\n",
       "<table border=\"1\" class=\"dataframe\">\n",
       "  <thead>\n",
       "    <tr style=\"text-align: right;\">\n",
       "      <th></th>\n",
       "      <th>registerDate</th>\n",
       "      <th>lastvisitDate</th>\n",
       "    </tr>\n",
       "  </thead>\n",
       "  <tbody>\n",
       "    <tr>\n",
       "      <th>0</th>\n",
       "      <td>2001-01-27 20:18:35</td>\n",
       "      <td>NaT</td>\n",
       "    </tr>\n",
       "    <tr>\n",
       "      <th>1</th>\n",
       "      <td>2005-07-28 01:28:13</td>\n",
       "      <td>2015-02-18 17:03:45</td>\n",
       "    </tr>\n",
       "    <tr>\n",
       "      <th>2</th>\n",
       "      <td>2005-07-29 18:24:36</td>\n",
       "      <td>2012-10-02 17:22:20</td>\n",
       "    </tr>\n",
       "    <tr>\n",
       "      <th>3</th>\n",
       "      <td>2005-02-10 07:50:17</td>\n",
       "      <td>2010-10-04 16:13:47</td>\n",
       "    </tr>\n",
       "    <tr>\n",
       "      <th>4</th>\n",
       "      <td>2004-09-08 03:39:55</td>\n",
       "      <td>2012-10-19 04:20:20</td>\n",
       "    </tr>\n",
       "    <tr>\n",
       "      <th>...</th>\n",
       "      <td>...</td>\n",
       "      <td>...</td>\n",
       "    </tr>\n",
       "    <tr>\n",
       "      <th>2758</th>\n",
       "      <td>2022-01-01 18:38:53</td>\n",
       "      <td>2022-01-01 18:38:53</td>\n",
       "    </tr>\n",
       "    <tr>\n",
       "      <th>2759</th>\n",
       "      <td>2022-01-02 21:33:52</td>\n",
       "      <td>2022-01-02 21:33:52</td>\n",
       "    </tr>\n",
       "    <tr>\n",
       "      <th>2760</th>\n",
       "      <td>2022-01-04 13:23:30</td>\n",
       "      <td>2022-01-04 13:23:30</td>\n",
       "    </tr>\n",
       "    <tr>\n",
       "      <th>2761</th>\n",
       "      <td>2022-01-13 01:03:56</td>\n",
       "      <td>2022-01-13 06:40:13</td>\n",
       "    </tr>\n",
       "    <tr>\n",
       "      <th>2762</th>\n",
       "      <td>2022-01-17 10:58:18</td>\n",
       "      <td>2022-01-17 10:58:18</td>\n",
       "    </tr>\n",
       "  </tbody>\n",
       "</table>\n",
       "<p>2763 rows × 2 columns</p>\n",
       "</div>"
      ],
      "text/plain": [
       "            registerDate       lastvisitDate\n",
       "0    2001-01-27 20:18:35                 NaT\n",
       "1    2005-07-28 01:28:13 2015-02-18 17:03:45\n",
       "2    2005-07-29 18:24:36 2012-10-02 17:22:20\n",
       "3    2005-02-10 07:50:17 2010-10-04 16:13:47\n",
       "4    2004-09-08 03:39:55 2012-10-19 04:20:20\n",
       "...                  ...                 ...\n",
       "2758 2022-01-01 18:38:53 2022-01-01 18:38:53\n",
       "2759 2022-01-02 21:33:52 2022-01-02 21:33:52\n",
       "2760 2022-01-04 13:23:30 2022-01-04 13:23:30\n",
       "2761 2022-01-13 01:03:56 2022-01-13 06:40:13\n",
       "2762 2022-01-17 10:58:18 2022-01-17 10:58:18\n",
       "\n",
       "[2763 rows x 2 columns]"
      ]
     },
     "execution_count": 33,
     "metadata": {},
     "output_type": "execute_result"
    }
   ],
   "source": [
    "researcher_dates = pd.read_sql_query(sql_query,nanohub_db)\n",
    "researcher_dates"
   ]
  },
  {
   "cell_type": "code",
   "execution_count": 34,
   "metadata": {
    "execution": {
     "iopub.execute_input": "2022-01-31T03:54:17.565920Z",
     "iopub.status.busy": "2022-01-31T03:54:17.565527Z",
     "iopub.status.idle": "2022-01-31T03:54:17.590536Z",
     "shell.execute_reply": "2022-01-31T03:54:17.589807Z",
     "shell.execute_reply.started": "2022-01-31T03:54:17.565882Z"
    },
    "tags": []
   },
   "outputs": [
    {
     "data": {
      "text/html": [
       "<div>\n",
       "<style scoped>\n",
       "    .dataframe tbody tr th:only-of-type {\n",
       "        vertical-align: middle;\n",
       "    }\n",
       "\n",
       "    .dataframe tbody tr th {\n",
       "        vertical-align: top;\n",
       "    }\n",
       "\n",
       "    .dataframe thead th {\n",
       "        text-align: right;\n",
       "    }\n",
       "</style>\n",
       "<table border=\"1\" class=\"dataframe\">\n",
       "  <thead>\n",
       "    <tr style=\"text-align: right;\">\n",
       "      <th></th>\n",
       "      <th>index</th>\n",
       "      <th>registerDate</th>\n",
       "      <th>lastvisitDate</th>\n",
       "      <th>duration</th>\n",
       "    </tr>\n",
       "  </thead>\n",
       "  <tbody>\n",
       "    <tr>\n",
       "      <th>0</th>\n",
       "      <td>1</td>\n",
       "      <td>2005-07-28 01:28:13</td>\n",
       "      <td>2015-02-18 17:03:45</td>\n",
       "      <td>3492 days 15:35:32</td>\n",
       "    </tr>\n",
       "    <tr>\n",
       "      <th>1</th>\n",
       "      <td>2</td>\n",
       "      <td>2005-07-29 18:24:36</td>\n",
       "      <td>2012-10-02 17:22:20</td>\n",
       "      <td>2621 days 22:57:44</td>\n",
       "    </tr>\n",
       "  </tbody>\n",
       "</table>\n",
       "</div>"
      ],
      "text/plain": [
       "   index        registerDate       lastvisitDate           duration\n",
       "0      1 2005-07-28 01:28:13 2015-02-18 17:03:45 3492 days 15:35:32\n",
       "1      2 2005-07-29 18:24:36 2012-10-02 17:22:20 2621 days 22:57:44"
      ]
     },
     "metadata": {},
     "output_type": "display_data"
    }
   ],
   "source": [
    "## determine time diffs\n",
    "researcher_dates2 = researcher_dates[~researcher_dates['lastvisitDate'].isna()].reset_index()\n",
    "researcher_dates2['registerDate'] = pd.to_datetime(researcher_dates2['registerDate'])\n",
    "researcher_dates2['lastvisitDate'] = pd.to_datetime(researcher_dates2['lastvisitDate'])\n",
    "researcher_dates2['duration'] = researcher_dates2['lastvisitDate'].to_numpy() - researcher_dates2['registerDate'].to_numpy()\n",
    "display(researcher_dates2.head(2))"
   ]
  },
  {
   "cell_type": "code",
   "execution_count": 35,
   "metadata": {
    "execution": {
     "iopub.execute_input": "2022-01-31T03:54:17.592906Z",
     "iopub.status.busy": "2022-01-31T03:54:17.592258Z",
     "iopub.status.idle": "2022-01-31T03:54:17.652366Z",
     "shell.execute_reply": "2022-01-31T03:54:17.651178Z",
     "shell.execute_reply.started": "2022-01-31T03:54:17.592871Z"
    },
    "tags": []
   },
   "outputs": [
    {
     "data": {
      "text/html": [
       "<div>\n",
       "<style scoped>\n",
       "    .dataframe tbody tr th:only-of-type {\n",
       "        vertical-align: middle;\n",
       "    }\n",
       "\n",
       "    .dataframe tbody tr th {\n",
       "        vertical-align: top;\n",
       "    }\n",
       "\n",
       "    .dataframe thead th {\n",
       "        text-align: right;\n",
       "    }\n",
       "</style>\n",
       "<table border=\"1\" class=\"dataframe\">\n",
       "  <thead>\n",
       "    <tr style=\"text-align: right;\">\n",
       "      <th></th>\n",
       "      <th>index</th>\n",
       "      <th>registerDate</th>\n",
       "      <th>lastvisitDate</th>\n",
       "      <th>duration</th>\n",
       "    </tr>\n",
       "  </thead>\n",
       "  <tbody>\n",
       "    <tr>\n",
       "      <th>0</th>\n",
       "      <td>1</td>\n",
       "      <td>2005-07-28 01:28:13</td>\n",
       "      <td>2015-02-18 17:03:45</td>\n",
       "      <td>3.54</td>\n",
       "    </tr>\n",
       "    <tr>\n",
       "      <th>1</th>\n",
       "      <td>2</td>\n",
       "      <td>2005-07-29 18:24:36</td>\n",
       "      <td>2012-10-02 17:22:20</td>\n",
       "      <td>3.42</td>\n",
       "    </tr>\n",
       "  </tbody>\n",
       "</table>\n",
       "</div>"
      ],
      "text/plain": [
       "   index        registerDate       lastvisitDate  duration\n",
       "0      1 2005-07-28 01:28:13 2015-02-18 17:03:45      3.54\n",
       "1      2 2005-07-29 18:24:36 2012-10-02 17:22:20      3.42"
      ]
     },
     "metadata": {},
     "output_type": "display_data"
    },
    {
     "data": {
      "text/html": [
       "<div>\n",
       "<style scoped>\n",
       "    .dataframe tbody tr th:only-of-type {\n",
       "        vertical-align: middle;\n",
       "    }\n",
       "\n",
       "    .dataframe tbody tr th {\n",
       "        vertical-align: top;\n",
       "    }\n",
       "\n",
       "    .dataframe thead th {\n",
       "        text-align: right;\n",
       "    }\n",
       "</style>\n",
       "<table border=\"1\" class=\"dataframe\">\n",
       "  <thead>\n",
       "    <tr style=\"text-align: right;\">\n",
       "      <th></th>\n",
       "      <th>index</th>\n",
       "      <th>registerDate</th>\n",
       "      <th>lastvisitDate</th>\n",
       "      <th>duration</th>\n",
       "    </tr>\n",
       "  </thead>\n",
       "  <tbody>\n",
       "    <tr>\n",
       "      <th>2634</th>\n",
       "      <td>2761</td>\n",
       "      <td>2022-01-13 01:03:56</td>\n",
       "      <td>2022-01-13 06:40:13</td>\n",
       "      <td>-inf</td>\n",
       "    </tr>\n",
       "    <tr>\n",
       "      <th>2635</th>\n",
       "      <td>2762</td>\n",
       "      <td>2022-01-17 10:58:18</td>\n",
       "      <td>2022-01-17 10:58:18</td>\n",
       "      <td>-inf</td>\n",
       "    </tr>\n",
       "  </tbody>\n",
       "</table>\n",
       "</div>"
      ],
      "text/plain": [
       "      index        registerDate       lastvisitDate  duration\n",
       "2634   2761 2022-01-13 01:03:56 2022-01-13 06:40:13      -inf\n",
       "2635   2762 2022-01-17 10:58:18 2022-01-17 10:58:18      -inf"
      ]
     },
     "metadata": {},
     "output_type": "display_data"
    }
   ],
   "source": [
    "researcher_dates2['duration'] = [np.round(np.log10(i.days),2) for i in researcher_dates2['duration'].to_list()]\n",
    "display(researcher_dates2.head(2))\n",
    "display(researcher_dates2.tail(2))"
   ]
  },
  {
   "cell_type": "code",
   "execution_count": 36,
   "metadata": {
    "execution": {
     "iopub.execute_input": "2022-01-31T03:54:17.655402Z",
     "iopub.status.busy": "2022-01-31T03:54:17.653884Z",
     "iopub.status.idle": "2022-01-31T03:54:17.687208Z",
     "shell.execute_reply": "2022-01-31T03:54:17.686404Z",
     "shell.execute_reply.started": "2022-01-31T03:54:17.654910Z"
    },
    "tags": []
   },
   "outputs": [],
   "source": [
    "researcher_vals = []\n",
    "for i,j in enumerate(bin_vals):\n",
    "    if i == 0:\n",
    "#         clustered_user_vals.append(clustered_dates[clustered_dates['lastvisitDate'].isna()].shape[0]\\\n",
    "#                                   +len(np.where(clustered_dates2['duration'] == 1)[0]))\n",
    "        h_thresh = j\n",
    "        l_thresh = 0\n",
    "        researcher_vals.append(len(np.where((researcher_dates2['duration'] < h_thresh))[0]))\n",
    "    else:\n",
    "        h_thresh = j\n",
    "        l_thresh = bin_vals[i-1]\n",
    "        researcher_vals.append(len(np.where((researcher_dates2['duration'] > l_thresh) \\\n",
    "                                    & (researcher_dates2['duration'] < h_thresh))[0]))        \n",
    "\n",
    "        "
   ]
  },
  {
   "cell_type": "code",
   "execution_count": 37,
   "metadata": {
    "execution": {
     "iopub.execute_input": "2022-01-31T03:54:17.691665Z",
     "iopub.status.busy": "2022-01-31T03:54:17.688752Z",
     "iopub.status.idle": "2022-01-31T03:54:17.703436Z",
     "shell.execute_reply": "2022-01-31T03:54:17.700871Z",
     "shell.execute_reply.started": "2022-01-31T03:54:17.691477Z"
    },
    "tags": []
   },
   "outputs": [
    {
     "data": {
      "text/plain": [
       "[686, 0]"
      ]
     },
     "execution_count": 37,
     "metadata": {},
     "output_type": "execute_result"
    }
   ],
   "source": [
    "researcher_vals[:2]"
   ]
  },
  {
   "cell_type": "code",
   "execution_count": 38,
   "metadata": {
    "execution": {
     "iopub.execute_input": "2022-01-31T03:54:17.706448Z",
     "iopub.status.busy": "2022-01-31T03:54:17.704997Z",
     "iopub.status.idle": "2022-01-31T03:54:19.450870Z",
     "shell.execute_reply": "2022-01-31T03:54:19.450154Z",
     "shell.execute_reply.started": "2022-01-31T03:54:17.706386Z"
    },
    "tags": []
   },
   "outputs": [
    {
     "data": {
      "image/png": "[encoded data removed]",
      "text/plain": [
       "<Figure size 432x288 with 1 Axes>"
      ]
     },
     "metadata": {
      "needs_background": "light"
     },
     "output_type": "display_data"
    }
   ],
   "source": [
    "plt.figure()\n",
    "plt.hist(bin_vals2,bins=bin_vals2,weights=researcher_vals,align='left',color='red',edgecolor='white', linewidth=1)\n",
    "plt.xlabel('User Lifetime (log days)')\n",
    "plt.xticks(np.arange(0,4.5,0.5))\n",
    "plt.ylim([0,200])\n",
    "plt.ylabel('# of Users')\n",
    "\n",
    "if dev_flag == 'True':\n",
    "    plt.savefig(cwd+'/plots_local/simuser_lifetime_research.eps', dpi=1000, bbox_inches='tight')\n",
    "    plt.savefig(cwd+'/plots_local/simuser_lifetime_research.pdf', dpi=1000, bbox_inches='tight')\n",
    "    plt.savefig(cwd+'/plots_local/simuser_lifetime_research.png', dpi=1000, bbox_inches='tight')\n",
    "elif prod_flag == 'True':\n",
    "    plt.savefig(cwd+'/plots_production/simuser_lifetime_research.eps', dpi=1000, bbox_inches='tight')\n",
    "    plt.savefig(cwd+'/plots_production/simuser_lifetime_research.pdf', dpi=1000, bbox_inches='tight')\n",
    "    plt.savefig(cwd+'/plots_production/simuser_lifetime_research.png', dpi=1000, bbox_inches='tight')\n",
    "else:\n",
    "    print('no printing flag is active')"
   ]
  },
  {
   "cell_type": "code",
   "execution_count": null,
   "metadata": {},
   "outputs": [],
   "source": []
  },
  {
   "cell_type": "code",
   "execution_count": null,
   "metadata": {},
   "outputs": [],
   "source": []
  },
  {
   "cell_type": "code",
   "execution_count": null,
   "metadata": {},
   "outputs": [],
   "source": []
  },
  {
   "cell_type": "code",
   "execution_count": null,
   "metadata": {},
   "outputs": [],
   "source": []
  },
  {
   "cell_type": "code",
   "execution_count": null,
   "metadata": {},
   "outputs": [],
   "source": []
  }
 ],
 "metadata": {
  "kernelspec": {
   "display_name": "Python 3 (ipykernel)",
   "language": "python",
   "name": "python3"
  },
  "language_info": {
   "codemirror_mode": {
    "name": "ipython",
    "version": 3
   },
   "file_extension": ".py",
   "mimetype": "text/x-python",
   "name": "python",
   "nbconvert_exporter": "python",
   "pygments_lexer": "ipython3",
   "version": "3.8.10"
  }
 },
 "nbformat": 4,
 "nbformat_minor": 4
}
