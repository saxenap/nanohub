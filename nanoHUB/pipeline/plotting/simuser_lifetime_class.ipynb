{
 "cells": [
  {
   "cell_type": "code",
   "execution_count": 1,
   "metadata": {
    "execution": {
     "iopub.execute_input": "2022-02-15T19:49:09.759863Z",
     "iopub.status.busy": "2022-02-15T19:49:09.759049Z",
     "iopub.status.idle": "2022-02-15T19:49:09.773732Z",
     "shell.execute_reply": "2022-02-15T19:49:09.772222Z",
     "shell.execute_reply.started": "2022-02-15T19:49:09.759761Z"
    },
    "tags": []
   },
   "outputs": [],
   "source": [
    "## build researcher events, student events, and self-study events\n",
    "## researcher are simply those with NH citations"
   ]
  },
  {
   "cell_type": "code",
   "execution_count": 2,
   "metadata": {
    "execution": {
     "iopub.execute_input": "2022-02-15T19:49:09.777188Z",
     "iopub.status.busy": "2022-02-15T19:49:09.776002Z",
     "iopub.status.idle": "2022-02-15T19:49:10.368226Z",
     "shell.execute_reply": "2022-02-15T19:49:10.366727Z",
     "shell.execute_reply.started": "2022-02-15T19:49:09.777127Z"
    },
    "tags": []
   },
   "outputs": [],
   "source": [
    "import sys\n",
    "import pandas as pd\n",
    "import time\n",
    "import datetime"
   ]
  },
  {
   "cell_type": "code",
   "execution_count": 3,
   "metadata": {
    "execution": {
     "iopub.execute_input": "2022-02-15T19:49:10.372442Z",
     "iopub.status.busy": "2022-02-15T19:49:10.372104Z",
     "iopub.status.idle": "2022-02-15T19:49:10.381486Z",
     "shell.execute_reply": "2022-02-15T19:49:10.377552Z",
     "shell.execute_reply.started": "2022-02-15T19:49:10.372399Z"
    },
    "tags": []
   },
   "outputs": [],
   "source": [
    "import warnings\n",
    "warnings.filterwarnings('ignore')\n",
    "# warnings.filterwarnings(action='once')\n",
    "warnings.simplefilter(action='ignore', category=FutureWarning)"
   ]
  },
  {
   "cell_type": "code",
   "execution_count": 4,
   "metadata": {
    "execution": {
     "iopub.execute_input": "2022-02-15T19:49:10.385740Z",
     "iopub.status.busy": "2022-02-15T19:49:10.385382Z",
     "iopub.status.idle": "2022-02-15T19:49:13.266361Z",
     "shell.execute_reply": "2022-02-15T19:49:13.264444Z",
     "shell.execute_reply.started": "2022-02-15T19:49:10.385690Z"
    },
    "tags": []
   },
   "outputs": [
    {
     "name": "stdout",
     "output_type": "stream",
     "text": [
      "\u001b[1mnanoHUB - Serving Students, Researchers & Instructors\u001b[0m\n",
      "Obtained Salesforce access token ...... True\n"
     ]
    }
   ],
   "source": [
    "from nanoHUB.application import Application\n",
    "\n",
    "application = Application.get_instance()\n",
    "nanohub_db = application.new_db_engine('nanohub')\n",
    "nanohub_metrics_db = application.new_db_engine('nanohub_metrics')\n",
    "wang159_myrmekes_db = application.new_db_engine('rfm_data')\n",
    "\n",
    "salesforce = application.new_salesforce_engine()\n",
    "db_s = salesforce"
   ]
  },
  {
   "cell_type": "code",
   "execution_count": null,
   "metadata": {},
   "outputs": [],
   "source": []
  },
  {
   "cell_type": "markdown",
   "metadata": {},
   "source": [
    "## User Lifetime Comparison"
   ]
  },
  {
   "cell_type": "code",
   "execution_count": 5,
   "metadata": {
    "execution": {
     "iopub.execute_input": "2022-02-15T19:49:13.270615Z",
     "iopub.status.busy": "2022-02-15T19:49:13.268542Z",
     "iopub.status.idle": "2022-02-15T19:49:13.282242Z",
     "shell.execute_reply": "2022-02-15T19:49:13.280396Z",
     "shell.execute_reply.started": "2022-02-15T19:49:13.270416Z"
    },
    "tags": []
   },
   "outputs": [],
   "source": [
    "#pull jos_users with the previously found self-study, classroom, and research users\n",
    "#then just compare the register vs last visit date"
   ]
  },
  {
   "cell_type": "code",
   "execution_count": 6,
   "metadata": {
    "execution": {
     "iopub.execute_input": "2022-02-15T19:49:13.286417Z",
     "iopub.status.busy": "2022-02-15T19:49:13.284865Z",
     "iopub.status.idle": "2022-02-15T19:49:13.299220Z",
     "shell.execute_reply": "2022-02-15T19:49:13.296112Z",
     "shell.execute_reply.started": "2022-02-15T19:49:13.286148Z"
    },
    "tags": []
   },
   "outputs": [],
   "source": [
    "import os\n",
    "cwd = os.getcwd()"
   ]
  },
  {
   "cell_type": "code",
   "execution_count": 7,
   "metadata": {
    "execution": {
     "iopub.execute_input": "2022-02-15T19:49:13.303582Z",
     "iopub.status.busy": "2022-02-15T19:49:13.301533Z",
     "iopub.status.idle": "2022-02-15T19:49:13.564127Z",
     "shell.execute_reply": "2022-02-15T19:49:13.563281Z",
     "shell.execute_reply.started": "2022-02-15T19:49:13.303497Z"
    },
    "tags": []
   },
   "outputs": [],
   "source": [
    "class_df = pd.read_csv(cwd+'/cached_data/class_ids.csv')\n",
    "ss_df = pd.read_csv(cwd+'/cached_data/ss_ids.csv')\n",
    "research_df = pd.read_csv(cwd+'/cached_data/researcher_ids.csv')"
   ]
  },
  {
   "cell_type": "code",
   "execution_count": 8,
   "metadata": {
    "execution": {
     "iopub.execute_input": "2022-02-15T19:49:13.567646Z",
     "iopub.status.busy": "2022-02-15T19:49:13.565781Z",
     "iopub.status.idle": "2022-02-15T19:49:13.609438Z",
     "shell.execute_reply": "2022-02-15T19:49:13.607854Z",
     "shell.execute_reply.started": "2022-02-15T19:49:13.567597Z"
    },
    "tags": []
   },
   "outputs": [
    {
     "data": {
      "text/html": [
       "<div>\n",
       "<style scoped>\n",
       "    .dataframe tbody tr th:only-of-type {\n",
       "        vertical-align: middle;\n",
       "    }\n",
       "\n",
       "    .dataframe tbody tr th {\n",
       "        vertical-align: top;\n",
       "    }\n",
       "\n",
       "    .dataframe thead th {\n",
       "        text-align: right;\n",
       "    }\n",
       "</style>\n",
       "<table border=\"1\" class=\"dataframe\">\n",
       "  <thead>\n",
       "    <tr style=\"text-align: right;\">\n",
       "      <th></th>\n",
       "      <th>Unnamed: 0</th>\n",
       "      <th>nhid</th>\n",
       "      <th>username</th>\n",
       "    </tr>\n",
       "  </thead>\n",
       "  <tbody>\n",
       "    <tr>\n",
       "      <th>0</th>\n",
       "      <td>0</td>\n",
       "      <td>3013</td>\n",
       "      <td>mmc</td>\n",
       "    </tr>\n",
       "    <tr>\n",
       "      <th>1</th>\n",
       "      <td>1</td>\n",
       "      <td>3482</td>\n",
       "      <td>gekco</td>\n",
       "    </tr>\n",
       "  </tbody>\n",
       "</table>\n",
       "</div>"
      ],
      "text/plain": [
       "   Unnamed: 0  nhid username\n",
       "0           0  3013      mmc\n",
       "1           1  3482    gekco"
      ]
     },
     "metadata": {},
     "output_type": "display_data"
    },
    {
     "data": {
      "text/html": [
       "<div>\n",
       "<style scoped>\n",
       "    .dataframe tbody tr th:only-of-type {\n",
       "        vertical-align: middle;\n",
       "    }\n",
       "\n",
       "    .dataframe tbody tr th {\n",
       "        vertical-align: top;\n",
       "    }\n",
       "\n",
       "    .dataframe thead th {\n",
       "        text-align: right;\n",
       "    }\n",
       "</style>\n",
       "<table border=\"1\" class=\"dataframe\">\n",
       "  <thead>\n",
       "    <tr style=\"text-align: right;\">\n",
       "      <th></th>\n",
       "      <th>Unnamed: 0</th>\n",
       "      <th>nhid</th>\n",
       "      <th>username</th>\n",
       "    </tr>\n",
       "  </thead>\n",
       "  <tbody>\n",
       "    <tr>\n",
       "      <th>0</th>\n",
       "      <td>0</td>\n",
       "      <td>211547</td>\n",
       "      <td>-100005</td>\n",
       "    </tr>\n",
       "    <tr>\n",
       "      <th>1</th>\n",
       "      <td>1</td>\n",
       "      <td>211574</td>\n",
       "      <td>-100024</td>\n",
       "    </tr>\n",
       "  </tbody>\n",
       "</table>\n",
       "</div>"
      ],
      "text/plain": [
       "   Unnamed: 0    nhid username\n",
       "0           0  211547  -100005\n",
       "1           1  211574  -100024"
      ]
     },
     "metadata": {},
     "output_type": "display_data"
    },
    {
     "data": {
      "text/html": [
       "<div>\n",
       "<style scoped>\n",
       "    .dataframe tbody tr th:only-of-type {\n",
       "        vertical-align: middle;\n",
       "    }\n",
       "\n",
       "    .dataframe tbody tr th {\n",
       "        vertical-align: top;\n",
       "    }\n",
       "\n",
       "    .dataframe thead th {\n",
       "        text-align: right;\n",
       "    }\n",
       "</style>\n",
       "<table border=\"1\" class=\"dataframe\">\n",
       "  <thead>\n",
       "    <tr style=\"text-align: right;\">\n",
       "      <th></th>\n",
       "      <th>Unnamed: 0</th>\n",
       "      <th>nhid</th>\n",
       "    </tr>\n",
       "  </thead>\n",
       "  <tbody>\n",
       "    <tr>\n",
       "      <th>0</th>\n",
       "      <td>0</td>\n",
       "      <td>1742</td>\n",
       "    </tr>\n",
       "    <tr>\n",
       "      <th>1</th>\n",
       "      <td>1</td>\n",
       "      <td>1767</td>\n",
       "    </tr>\n",
       "  </tbody>\n",
       "</table>\n",
       "</div>"
      ],
      "text/plain": [
       "   Unnamed: 0  nhid\n",
       "0           0  1742\n",
       "1           1  1767"
      ]
     },
     "metadata": {},
     "output_type": "display_data"
    }
   ],
   "source": [
    "display(class_df.head(2))\n",
    "display(ss_df.head(2))\n",
    "display(research_df.head(2))"
   ]
  },
  {
   "cell_type": "code",
   "execution_count": 9,
   "metadata": {
    "execution": {
     "iopub.execute_input": "2022-02-15T19:49:13.612314Z",
     "iopub.status.busy": "2022-02-15T19:49:13.610956Z",
     "iopub.status.idle": "2022-02-15T19:49:13.623370Z",
     "shell.execute_reply": "2022-02-15T19:49:13.622453Z",
     "shell.execute_reply.started": "2022-02-15T19:49:13.612264Z"
    },
    "tags": []
   },
   "outputs": [],
   "source": [
    "sql_query = \"select registerDate, lastvisitDate from jos_users where username in \" + str(tuple(class_df['username']))"
   ]
  },
  {
   "cell_type": "code",
   "execution_count": 10,
   "metadata": {
    "execution": {
     "iopub.execute_input": "2022-02-15T19:49:13.626583Z",
     "iopub.status.busy": "2022-02-15T19:49:13.624831Z",
     "iopub.status.idle": "2022-02-15T19:49:15.786780Z",
     "shell.execute_reply": "2022-02-15T19:49:15.784655Z",
     "shell.execute_reply.started": "2022-02-15T19:49:13.626529Z"
    },
    "tags": []
   },
   "outputs": [
    {
     "data": {
      "text/html": [
       "<div>\n",
       "<style scoped>\n",
       "    .dataframe tbody tr th:only-of-type {\n",
       "        vertical-align: middle;\n",
       "    }\n",
       "\n",
       "    .dataframe tbody tr th {\n",
       "        vertical-align: top;\n",
       "    }\n",
       "\n",
       "    .dataframe thead th {\n",
       "        text-align: right;\n",
       "    }\n",
       "</style>\n",
       "<table border=\"1\" class=\"dataframe\">\n",
       "  <thead>\n",
       "    <tr style=\"text-align: right;\">\n",
       "      <th></th>\n",
       "      <th>registerDate</th>\n",
       "      <th>lastvisitDate</th>\n",
       "    </tr>\n",
       "  </thead>\n",
       "  <tbody>\n",
       "    <tr>\n",
       "      <th>0</th>\n",
       "      <td>2021-11-07 03:43:24</td>\n",
       "      <td>2021-11-07 03:43:24</td>\n",
       "    </tr>\n",
       "    <tr>\n",
       "      <th>1</th>\n",
       "      <td>2021-09-29 16:51:28</td>\n",
       "      <td>2021-11-04 04:03:23</td>\n",
       "    </tr>\n",
       "    <tr>\n",
       "      <th>2</th>\n",
       "      <td>2021-11-03 04:05:31</td>\n",
       "      <td>2022-01-31 05:07:05</td>\n",
       "    </tr>\n",
       "    <tr>\n",
       "      <th>3</th>\n",
       "      <td>2021-08-22 16:44:43</td>\n",
       "      <td>2021-08-26 08:47:19</td>\n",
       "    </tr>\n",
       "    <tr>\n",
       "      <th>4</th>\n",
       "      <td>2021-09-29 14:40:09</td>\n",
       "      <td>2021-11-03 01:55:26</td>\n",
       "    </tr>\n",
       "    <tr>\n",
       "      <th>...</th>\n",
       "      <td>...</td>\n",
       "      <td>...</td>\n",
       "    </tr>\n",
       "    <tr>\n",
       "      <th>1672</th>\n",
       "      <td>2021-08-31 10:26:06</td>\n",
       "      <td>2021-12-03 07:53:20</td>\n",
       "    </tr>\n",
       "    <tr>\n",
       "      <th>1673</th>\n",
       "      <td>2021-09-06 21:36:54</td>\n",
       "      <td>2021-10-12 03:49:55</td>\n",
       "    </tr>\n",
       "    <tr>\n",
       "      <th>1674</th>\n",
       "      <td>2021-09-15 07:58:52</td>\n",
       "      <td>2021-11-17 03:33:19</td>\n",
       "    </tr>\n",
       "    <tr>\n",
       "      <th>1675</th>\n",
       "      <td>2020-08-25 19:12:58</td>\n",
       "      <td>2021-12-06 14:52:28</td>\n",
       "    </tr>\n",
       "    <tr>\n",
       "      <th>1676</th>\n",
       "      <td>2021-09-20 22:01:34</td>\n",
       "      <td>2021-12-03 02:56:03</td>\n",
       "    </tr>\n",
       "  </tbody>\n",
       "</table>\n",
       "<p>1677 rows × 2 columns</p>\n",
       "</div>"
      ],
      "text/plain": [
       "            registerDate       lastvisitDate\n",
       "0    2021-11-07 03:43:24 2021-11-07 03:43:24\n",
       "1    2021-09-29 16:51:28 2021-11-04 04:03:23\n",
       "2    2021-11-03 04:05:31 2022-01-31 05:07:05\n",
       "3    2021-08-22 16:44:43 2021-08-26 08:47:19\n",
       "4    2021-09-29 14:40:09 2021-11-03 01:55:26\n",
       "...                  ...                 ...\n",
       "1672 2021-08-31 10:26:06 2021-12-03 07:53:20\n",
       "1673 2021-09-06 21:36:54 2021-10-12 03:49:55\n",
       "1674 2021-09-15 07:58:52 2021-11-17 03:33:19\n",
       "1675 2020-08-25 19:12:58 2021-12-06 14:52:28\n",
       "1676 2021-09-20 22:01:34 2021-12-03 02:56:03\n",
       "\n",
       "[1677 rows x 2 columns]"
      ]
     },
     "execution_count": 10,
     "metadata": {},
     "output_type": "execute_result"
    }
   ],
   "source": [
    "clustered_dates = pd.read_sql_query(sql_query,nanohub_db)\n",
    "clustered_dates"
   ]
  },
  {
   "cell_type": "code",
   "execution_count": 11,
   "metadata": {
    "execution": {
     "iopub.execute_input": "2022-02-15T19:49:15.793086Z",
     "iopub.status.busy": "2022-02-15T19:49:15.790555Z",
     "iopub.status.idle": "2022-02-15T19:49:15.810750Z",
     "shell.execute_reply": "2022-02-15T19:49:15.809989Z",
     "shell.execute_reply.started": "2022-02-15T19:49:15.793030Z"
    },
    "tags": []
   },
   "outputs": [
    {
     "data": {
      "text/plain": [
       "1"
      ]
     },
     "execution_count": 11,
     "metadata": {},
     "output_type": "execute_result"
    }
   ],
   "source": [
    "clustered_dates[clustered_dates['lastvisitDate'].isna()].shape[0]"
   ]
  },
  {
   "cell_type": "code",
   "execution_count": 12,
   "metadata": {
    "execution": {
     "iopub.execute_input": "2022-02-15T19:49:15.821770Z",
     "iopub.status.busy": "2022-02-15T19:49:15.821031Z",
     "iopub.status.idle": "2022-02-15T19:49:15.852128Z",
     "shell.execute_reply": "2022-02-15T19:49:15.849615Z",
     "shell.execute_reply.started": "2022-02-15T19:49:15.821704Z"
    },
    "tags": []
   },
   "outputs": [
    {
     "data": {
      "text/html": [
       "<div>\n",
       "<style scoped>\n",
       "    .dataframe tbody tr th:only-of-type {\n",
       "        vertical-align: middle;\n",
       "    }\n",
       "\n",
       "    .dataframe tbody tr th {\n",
       "        vertical-align: top;\n",
       "    }\n",
       "\n",
       "    .dataframe thead th {\n",
       "        text-align: right;\n",
       "    }\n",
       "</style>\n",
       "<table border=\"1\" class=\"dataframe\">\n",
       "  <thead>\n",
       "    <tr style=\"text-align: right;\">\n",
       "      <th></th>\n",
       "      <th>index</th>\n",
       "      <th>registerDate</th>\n",
       "      <th>lastvisitDate</th>\n",
       "      <th>duration</th>\n",
       "    </tr>\n",
       "  </thead>\n",
       "  <tbody>\n",
       "    <tr>\n",
       "      <th>0</th>\n",
       "      <td>0</td>\n",
       "      <td>2021-11-07 03:43:24</td>\n",
       "      <td>2021-11-07 03:43:24</td>\n",
       "      <td>0 days 00:00:00</td>\n",
       "    </tr>\n",
       "    <tr>\n",
       "      <th>1</th>\n",
       "      <td>1</td>\n",
       "      <td>2021-09-29 16:51:28</td>\n",
       "      <td>2021-11-04 04:03:23</td>\n",
       "      <td>35 days 11:11:55</td>\n",
       "    </tr>\n",
       "  </tbody>\n",
       "</table>\n",
       "</div>"
      ],
      "text/plain": [
       "   index        registerDate       lastvisitDate         duration\n",
       "0      0 2021-11-07 03:43:24 2021-11-07 03:43:24  0 days 00:00:00\n",
       "1      1 2021-09-29 16:51:28 2021-11-04 04:03:23 35 days 11:11:55"
      ]
     },
     "metadata": {},
     "output_type": "display_data"
    }
   ],
   "source": [
    "## determine time diffs\n",
    "clustered_dates2 = clustered_dates[~clustered_dates['lastvisitDate'].isna()].reset_index()\n",
    "clustered_dates2['registerDate'] = pd.to_datetime(clustered_dates2['registerDate'])\n",
    "clustered_dates2['lastvisitDate'] = pd.to_datetime(clustered_dates2['lastvisitDate'])\n",
    "clustered_dates2['duration'] = clustered_dates2['lastvisitDate'].to_numpy() - clustered_dates2['registerDate'].to_numpy()\n",
    "display(clustered_dates2.head(2))"
   ]
  },
  {
   "cell_type": "code",
   "execution_count": 13,
   "metadata": {
    "execution": {
     "iopub.execute_input": "2022-02-15T19:49:15.861224Z",
     "iopub.status.busy": "2022-02-15T19:49:15.859042Z",
     "iopub.status.idle": "2022-02-15T19:49:15.869450Z",
     "shell.execute_reply": "2022-02-15T19:49:15.866785Z",
     "shell.execute_reply.started": "2022-02-15T19:49:15.861165Z"
    },
    "tags": []
   },
   "outputs": [],
   "source": [
    "import numpy as np"
   ]
  },
  {
   "cell_type": "code",
   "execution_count": 14,
   "metadata": {
    "execution": {
     "iopub.execute_input": "2022-02-15T19:49:15.872190Z",
     "iopub.status.busy": "2022-02-15T19:49:15.871174Z",
     "iopub.status.idle": "2022-02-15T19:49:15.936512Z",
     "shell.execute_reply": "2022-02-15T19:49:15.935051Z",
     "shell.execute_reply.started": "2022-02-15T19:49:15.872144Z"
    },
    "tags": []
   },
   "outputs": [
    {
     "data": {
      "text/html": [
       "<div>\n",
       "<style scoped>\n",
       "    .dataframe tbody tr th:only-of-type {\n",
       "        vertical-align: middle;\n",
       "    }\n",
       "\n",
       "    .dataframe tbody tr th {\n",
       "        vertical-align: top;\n",
       "    }\n",
       "\n",
       "    .dataframe thead th {\n",
       "        text-align: right;\n",
       "    }\n",
       "</style>\n",
       "<table border=\"1\" class=\"dataframe\">\n",
       "  <thead>\n",
       "    <tr style=\"text-align: right;\">\n",
       "      <th></th>\n",
       "      <th>index</th>\n",
       "      <th>registerDate</th>\n",
       "      <th>lastvisitDate</th>\n",
       "      <th>duration</th>\n",
       "    </tr>\n",
       "  </thead>\n",
       "  <tbody>\n",
       "    <tr>\n",
       "      <th>0</th>\n",
       "      <td>0</td>\n",
       "      <td>2021-11-07 03:43:24</td>\n",
       "      <td>2021-11-07 03:43:24</td>\n",
       "      <td>-inf</td>\n",
       "    </tr>\n",
       "    <tr>\n",
       "      <th>1</th>\n",
       "      <td>1</td>\n",
       "      <td>2021-09-29 16:51:28</td>\n",
       "      <td>2021-11-04 04:03:23</td>\n",
       "      <td>1.54</td>\n",
       "    </tr>\n",
       "  </tbody>\n",
       "</table>\n",
       "</div>"
      ],
      "text/plain": [
       "   index        registerDate       lastvisitDate  duration\n",
       "0      0 2021-11-07 03:43:24 2021-11-07 03:43:24      -inf\n",
       "1      1 2021-09-29 16:51:28 2021-11-04 04:03:23      1.54"
      ]
     },
     "metadata": {},
     "output_type": "display_data"
    },
    {
     "data": {
      "text/html": [
       "<div>\n",
       "<style scoped>\n",
       "    .dataframe tbody tr th:only-of-type {\n",
       "        vertical-align: middle;\n",
       "    }\n",
       "\n",
       "    .dataframe tbody tr th {\n",
       "        vertical-align: top;\n",
       "    }\n",
       "\n",
       "    .dataframe thead th {\n",
       "        text-align: right;\n",
       "    }\n",
       "</style>\n",
       "<table border=\"1\" class=\"dataframe\">\n",
       "  <thead>\n",
       "    <tr style=\"text-align: right;\">\n",
       "      <th></th>\n",
       "      <th>index</th>\n",
       "      <th>registerDate</th>\n",
       "      <th>lastvisitDate</th>\n",
       "      <th>duration</th>\n",
       "    </tr>\n",
       "  </thead>\n",
       "  <tbody>\n",
       "    <tr>\n",
       "      <th>1674</th>\n",
       "      <td>1675</td>\n",
       "      <td>2020-08-25 19:12:58</td>\n",
       "      <td>2021-12-06 14:52:28</td>\n",
       "      <td>2.67</td>\n",
       "    </tr>\n",
       "    <tr>\n",
       "      <th>1675</th>\n",
       "      <td>1676</td>\n",
       "      <td>2021-09-20 22:01:34</td>\n",
       "      <td>2021-12-03 02:56:03</td>\n",
       "      <td>1.86</td>\n",
       "    </tr>\n",
       "  </tbody>\n",
       "</table>\n",
       "</div>"
      ],
      "text/plain": [
       "      index        registerDate       lastvisitDate  duration\n",
       "1674   1675 2020-08-25 19:12:58 2021-12-06 14:52:28      2.67\n",
       "1675   1676 2021-09-20 22:01:34 2021-12-03 02:56:03      1.86"
      ]
     },
     "metadata": {},
     "output_type": "display_data"
    }
   ],
   "source": [
    "clustered_dates2['duration'] = [np.round(np.log10(i.days),2) for i in clustered_dates2['duration'].to_list()]\n",
    "display(clustered_dates2.head(2))\n",
    "display(clustered_dates2.tail(2))"
   ]
  },
  {
   "cell_type": "code",
   "execution_count": 15,
   "metadata": {
    "execution": {
     "iopub.execute_input": "2022-02-15T19:49:15.939148Z",
     "iopub.status.busy": "2022-02-15T19:49:15.938253Z",
     "iopub.status.idle": "2022-02-15T19:49:15.948819Z",
     "shell.execute_reply": "2022-02-15T19:49:15.947757Z",
     "shell.execute_reply.started": "2022-02-15T19:49:15.939103Z"
    },
    "tags": []
   },
   "outputs": [],
   "source": [
    "# 50 bins - log days\n",
    "max_log_interval = 4 #base 10\n",
    "bins = 50\n",
    "# 1 day, 2 day, 3 day, 4, 5, 6, 1 week, 2 week, 1 month, 2 month, 1 year, \n",
    "bin_vals = [np.round(4/50*(i+1),2) for i in range(bins)] #these are the ending bin vals\n",
    "bin_vals2 = [np.round(4/50*(i+1),2) for i in range(bins)] #these are the ending bin vals"
   ]
  },
  {
   "cell_type": "code",
   "execution_count": 16,
   "metadata": {
    "execution": {
     "iopub.execute_input": "2022-02-15T19:49:15.952701Z",
     "iopub.status.busy": "2022-02-15T19:49:15.950694Z",
     "iopub.status.idle": "2022-02-15T19:49:16.002220Z",
     "shell.execute_reply": "2022-02-15T19:49:16.001342Z",
     "shell.execute_reply.started": "2022-02-15T19:49:15.952647Z"
    },
    "tags": []
   },
   "outputs": [],
   "source": [
    "clustered_user_vals = []\n",
    "for i,j in enumerate(bin_vals):\n",
    "    if i == 0:\n",
    "#         clustered_user_vals.append(clustered_dates[clustered_dates['lastvisitDate'].isna()].shape[0]\\\n",
    "#                                   +len(np.where(clustered_dates2['duration'] == 1)[0]))\n",
    "        h_thresh = j\n",
    "        l_thresh = 0\n",
    "        clustered_user_vals.append(len(np.where((clustered_dates2['duration'] < h_thresh))[0]))\n",
    "    else:\n",
    "        h_thresh = j\n",
    "        l_thresh = bin_vals[i-1]\n",
    "        clustered_user_vals.append(len(np.where((clustered_dates2['duration'] > l_thresh) \\\n",
    "                                    & (clustered_dates2['duration'] < h_thresh))[0]))        \n",
    "\n",
    "        "
   ]
  },
  {
   "cell_type": "code",
   "execution_count": 17,
   "metadata": {
    "execution": {
     "iopub.execute_input": "2022-02-15T19:49:16.004636Z",
     "iopub.status.busy": "2022-02-15T19:49:16.003687Z",
     "iopub.status.idle": "2022-02-15T19:49:16.015510Z",
     "shell.execute_reply": "2022-02-15T19:49:16.013959Z",
     "shell.execute_reply.started": "2022-02-15T19:49:16.004594Z"
    },
    "tags": []
   },
   "outputs": [
    {
     "data": {
      "text/plain": [
       "345"
      ]
     },
     "execution_count": 17,
     "metadata": {},
     "output_type": "execute_result"
    }
   ],
   "source": [
    "clustered_user_vals[0]"
   ]
  },
  {
   "cell_type": "code",
   "execution_count": 18,
   "metadata": {
    "execution": {
     "iopub.execute_input": "2022-02-15T19:49:16.020164Z",
     "iopub.status.busy": "2022-02-15T19:49:16.017851Z",
     "iopub.status.idle": "2022-02-15T19:49:16.029450Z",
     "shell.execute_reply": "2022-02-15T19:49:16.026861Z",
     "shell.execute_reply.started": "2022-02-15T19:49:16.020059Z"
    },
    "tags": []
   },
   "outputs": [],
   "source": [
    "clustered_user_vals2 = []\n",
    "for i in clustered_user_vals:\n",
    "    if i != 0:\n",
    "        clustered_user_vals2.append(np.log10(i))\n",
    "    else:\n",
    "        clustered_user_vals2.append(0)"
   ]
  },
  {
   "cell_type": "code",
   "execution_count": 19,
   "metadata": {
    "execution": {
     "iopub.execute_input": "2022-02-15T19:49:16.032501Z",
     "iopub.status.busy": "2022-02-15T19:49:16.031441Z",
     "iopub.status.idle": "2022-02-15T19:49:16.038682Z",
     "shell.execute_reply": "2022-02-15T19:49:16.037187Z",
     "shell.execute_reply.started": "2022-02-15T19:49:16.032454Z"
    },
    "tags": []
   },
   "outputs": [],
   "source": [
    "## import flags and plot"
   ]
  },
  {
   "cell_type": "code",
   "execution_count": 20,
   "metadata": {
    "execution": {
     "iopub.execute_input": "2022-02-15T19:49:16.042769Z",
     "iopub.status.busy": "2022-02-15T19:49:16.040815Z",
     "iopub.status.idle": "2022-02-15T19:49:16.050856Z",
     "shell.execute_reply": "2022-02-15T19:49:16.048418Z",
     "shell.execute_reply.started": "2022-02-15T19:49:16.042701Z"
    },
    "tags": []
   },
   "outputs": [],
   "source": [
    "import re"
   ]
  },
  {
   "cell_type": "code",
   "execution_count": 21,
   "metadata": {
    "execution": {
     "iopub.execute_input": "2022-02-15T19:49:16.056903Z",
     "iopub.status.busy": "2022-02-15T19:49:16.055930Z",
     "iopub.status.idle": "2022-02-15T19:49:16.067342Z",
     "shell.execute_reply": "2022-02-15T19:49:16.065151Z",
     "shell.execute_reply.started": "2022-02-15T19:49:16.056856Z"
    },
    "tags": []
   },
   "outputs": [],
   "source": [
    "## read the dev_flags.txt to determine where to save\n",
    "with open(cwd+'/dev_flags.txt','r') as f:\n",
    "    raw_flags = f.read()\n",
    "flag_pattern = re.compile(r'= \\w+')\n",
    "flags1 = re.findall(flag_pattern,raw_flags)    \n",
    "flags_result = [i[2:] for i in flags1]\n",
    "dev_flag = flags_result[0]\n",
    "prod_flag = flags_result[1]"
   ]
  },
  {
   "cell_type": "code",
   "execution_count": 22,
   "metadata": {
    "execution": {
     "iopub.execute_input": "2022-02-15T19:49:16.072388Z",
     "iopub.status.busy": "2022-02-15T19:49:16.069239Z",
     "iopub.status.idle": "2022-02-15T19:49:17.405676Z",
     "shell.execute_reply": "2022-02-15T19:49:17.404744Z",
     "shell.execute_reply.started": "2022-02-15T19:49:16.072340Z"
    },
    "tags": []
   },
   "outputs": [],
   "source": [
    "import matplotlib.pyplot as plt\n",
    "import seaborn as sns"
   ]
  },
  {
   "cell_type": "code",
   "execution_count": 23,
   "metadata": {
    "execution": {
     "iopub.execute_input": "2022-02-15T19:49:17.408413Z",
     "iopub.status.busy": "2022-02-15T19:49:17.407428Z",
     "iopub.status.idle": "2022-02-15T19:49:19.820630Z",
     "shell.execute_reply": "2022-02-15T19:49:19.819043Z",
     "shell.execute_reply.started": "2022-02-15T19:49:17.408370Z"
    },
    "tags": []
   },
   "outputs": [
    {
     "data": {
      "image/png": "[encoded data removed]",
      "text/plain": [
       "<Figure size 432x288 with 1 Axes>"
      ]
     },
     "metadata": {
      "needs_background": "light"
     },
     "output_type": "display_data"
    }
   ],
   "source": [
    "plt.figure()\n",
    "plt.hist(bin_vals2,bins=bin_vals2,weights=clustered_user_vals,align='left',color='green',edgecolor='white', linewidth=1)\n",
    "plt.xlabel('User Lifetime (log days)')\n",
    "plt.xticks(np.arange(0,4.5,0.5))\n",
    "plt.ylim([0,2500])\n",
    "plt.ylabel('# of Users (log)')\n",
    "\n",
    "if dev_flag == 'True':\n",
    "    plt.savefig(cwd+'/plots_local/simuser_lifetime_class.eps', dpi=1000, bbox_inches='tight')\n",
    "    plt.savefig(cwd+'/plots_local/simuser_lifetime_class.pdf', dpi=1000, bbox_inches='tight')\n",
    "    plt.savefig(cwd+'/plots_local/simuser_lifetime_class.png', dpi=1000, bbox_inches='tight')\n",
    "elif prod_flag == 'True':\n",
    "    plt.savefig(cwd+'/plots_production/simuser_lifetime_class.eps', dpi=1000, bbox_inches='tight')\n",
    "    plt.savefig(cwd+'/plots_production/simuser_lifetime_class.pdf', dpi=1000, bbox_inches='tight')\n",
    "    plt.savefig(cwd+'/plots_production/simuser_lifetime_class.png', dpi=1000, bbox_inches='tight')\n",
    "else:\n",
    "    print('no printing flag is active')"
   ]
  },
  {
   "cell_type": "code",
   "execution_count": 24,
   "metadata": {
    "execution": {
     "iopub.execute_input": "2022-02-15T19:49:19.828762Z",
     "iopub.status.busy": "2022-02-15T19:49:19.828157Z",
     "iopub.status.idle": "2022-02-15T19:49:19.863982Z",
     "shell.execute_reply": "2022-02-15T19:49:19.863252Z",
     "shell.execute_reply.started": "2022-02-15T19:49:19.828721Z"
    },
    "tags": []
   },
   "outputs": [],
   "source": [
    "tss_username = ss_df['username'].dropna().to_list()"
   ]
  },
  {
   "cell_type": "code",
   "execution_count": 25,
   "metadata": {
    "execution": {
     "iopub.execute_input": "2022-02-15T19:49:19.870578Z",
     "iopub.status.busy": "2022-02-15T19:49:19.869800Z",
     "iopub.status.idle": "2022-02-15T19:49:19.950090Z",
     "shell.execute_reply": "2022-02-15T19:49:19.947578Z",
     "shell.execute_reply.started": "2022-02-15T19:49:19.870525Z"
    },
    "tags": []
   },
   "outputs": [],
   "source": [
    "sql_query = \"select registerDate, lastvisitDate from jos_users where username in \" + str(tuple(ss_df['username'].dropna()))"
   ]
  },
  {
   "cell_type": "code",
   "execution_count": 26,
   "metadata": {
    "execution": {
     "iopub.execute_input": "2022-02-15T19:49:19.954657Z",
     "iopub.status.busy": "2022-02-15T19:49:19.953408Z",
     "iopub.status.idle": "2022-02-15T19:49:35.855197Z",
     "shell.execute_reply": "2022-02-15T19:49:35.854108Z",
     "shell.execute_reply.started": "2022-02-15T19:49:19.954409Z"
    },
    "tags": []
   },
   "outputs": [
    {
     "data": {
      "text/html": [
       "<div>\n",
       "<style scoped>\n",
       "    .dataframe tbody tr th:only-of-type {\n",
       "        vertical-align: middle;\n",
       "    }\n",
       "\n",
       "    .dataframe tbody tr th {\n",
       "        vertical-align: top;\n",
       "    }\n",
       "\n",
       "    .dataframe thead th {\n",
       "        text-align: right;\n",
       "    }\n",
       "</style>\n",
       "<table border=\"1\" class=\"dataframe\">\n",
       "  <thead>\n",
       "    <tr style=\"text-align: right;\">\n",
       "      <th></th>\n",
       "      <th>registerDate</th>\n",
       "      <th>lastvisitDate</th>\n",
       "    </tr>\n",
       "  </thead>\n",
       "  <tbody>\n",
       "    <tr>\n",
       "      <th>0</th>\n",
       "      <td>2014-11-13 21:09:09</td>\n",
       "      <td>NaT</td>\n",
       "    </tr>\n",
       "    <tr>\n",
       "      <th>1</th>\n",
       "      <td>2008-11-19 22:51:04</td>\n",
       "      <td>2008-11-19 23:55:30</td>\n",
       "    </tr>\n",
       "    <tr>\n",
       "      <th>2</th>\n",
       "      <td>2008-11-18 17:29:56</td>\n",
       "      <td>2020-02-14 18:50:14</td>\n",
       "    </tr>\n",
       "    <tr>\n",
       "      <th>3</th>\n",
       "      <td>2008-11-11 19:17:04</td>\n",
       "      <td>NaT</td>\n",
       "    </tr>\n",
       "    <tr>\n",
       "      <th>4</th>\n",
       "      <td>2014-06-26 19:38:57</td>\n",
       "      <td>NaT</td>\n",
       "    </tr>\n",
       "    <tr>\n",
       "      <th>...</th>\n",
       "      <td>...</td>\n",
       "      <td>...</td>\n",
       "    </tr>\n",
       "    <tr>\n",
       "      <th>249510</th>\n",
       "      <td>2021-11-14 21:58:08</td>\n",
       "      <td>2021-12-10 18:51:04</td>\n",
       "    </tr>\n",
       "    <tr>\n",
       "      <th>249511</th>\n",
       "      <td>2021-11-14 22:07:03</td>\n",
       "      <td>2021-12-11 01:33:11</td>\n",
       "    </tr>\n",
       "    <tr>\n",
       "      <th>249512</th>\n",
       "      <td>2021-11-14 22:07:22</td>\n",
       "      <td>2022-01-19 22:28:33</td>\n",
       "    </tr>\n",
       "    <tr>\n",
       "      <th>249513</th>\n",
       "      <td>2021-11-14 22:23:48</td>\n",
       "      <td>2021-12-01 07:19:34</td>\n",
       "    </tr>\n",
       "    <tr>\n",
       "      <th>249514</th>\n",
       "      <td>2021-11-14 23:08:18</td>\n",
       "      <td>2021-11-14 23:08:19</td>\n",
       "    </tr>\n",
       "  </tbody>\n",
       "</table>\n",
       "<p>249515 rows × 2 columns</p>\n",
       "</div>"
      ],
      "text/plain": [
       "              registerDate       lastvisitDate\n",
       "0      2014-11-13 21:09:09                 NaT\n",
       "1      2008-11-19 22:51:04 2008-11-19 23:55:30\n",
       "2      2008-11-18 17:29:56 2020-02-14 18:50:14\n",
       "3      2008-11-11 19:17:04                 NaT\n",
       "4      2014-06-26 19:38:57                 NaT\n",
       "...                    ...                 ...\n",
       "249510 2021-11-14 21:58:08 2021-12-10 18:51:04\n",
       "249511 2021-11-14 22:07:03 2021-12-11 01:33:11\n",
       "249512 2021-11-14 22:07:22 2022-01-19 22:28:33\n",
       "249513 2021-11-14 22:23:48 2021-12-01 07:19:34\n",
       "249514 2021-11-14 23:08:18 2021-11-14 23:08:19\n",
       "\n",
       "[249515 rows x 2 columns]"
      ]
     },
     "execution_count": 26,
     "metadata": {},
     "output_type": "execute_result"
    }
   ],
   "source": [
    "self_study_dates = pd.read_sql_query(sql_query,nanohub_db)\n",
    "self_study_dates"
   ]
  },
  {
   "cell_type": "code",
   "execution_count": 27,
   "metadata": {
    "execution": {
     "iopub.execute_input": "2022-02-15T19:49:35.859574Z",
     "iopub.status.busy": "2022-02-15T19:49:35.859237Z",
     "iopub.status.idle": "2022-02-15T19:49:35.902492Z",
     "shell.execute_reply": "2022-02-15T19:49:35.901104Z",
     "shell.execute_reply.started": "2022-02-15T19:49:35.859530Z"
    },
    "tags": []
   },
   "outputs": [
    {
     "data": {
      "text/html": [
       "<div>\n",
       "<style scoped>\n",
       "    .dataframe tbody tr th:only-of-type {\n",
       "        vertical-align: middle;\n",
       "    }\n",
       "\n",
       "    .dataframe tbody tr th {\n",
       "        vertical-align: top;\n",
       "    }\n",
       "\n",
       "    .dataframe thead th {\n",
       "        text-align: right;\n",
       "    }\n",
       "</style>\n",
       "<table border=\"1\" class=\"dataframe\">\n",
       "  <thead>\n",
       "    <tr style=\"text-align: right;\">\n",
       "      <th></th>\n",
       "      <th>index</th>\n",
       "      <th>registerDate</th>\n",
       "      <th>lastvisitDate</th>\n",
       "      <th>duration</th>\n",
       "    </tr>\n",
       "  </thead>\n",
       "  <tbody>\n",
       "    <tr>\n",
       "      <th>0</th>\n",
       "      <td>1</td>\n",
       "      <td>2008-11-19 22:51:04</td>\n",
       "      <td>2008-11-19 23:55:30</td>\n",
       "      <td>0 days 01:04:26</td>\n",
       "    </tr>\n",
       "    <tr>\n",
       "      <th>1</th>\n",
       "      <td>2</td>\n",
       "      <td>2008-11-18 17:29:56</td>\n",
       "      <td>2020-02-14 18:50:14</td>\n",
       "      <td>4105 days 01:20:18</td>\n",
       "    </tr>\n",
       "  </tbody>\n",
       "</table>\n",
       "</div>"
      ],
      "text/plain": [
       "   index        registerDate       lastvisitDate           duration\n",
       "0      1 2008-11-19 22:51:04 2008-11-19 23:55:30    0 days 01:04:26\n",
       "1      2 2008-11-18 17:29:56 2020-02-14 18:50:14 4105 days 01:20:18"
      ]
     },
     "metadata": {},
     "output_type": "display_data"
    }
   ],
   "source": [
    "## determine time diffs\n",
    "self_study_dates2 = self_study_dates[~self_study_dates['lastvisitDate'].isna()].reset_index()\n",
    "self_study_dates2['registerDate'] = pd.to_datetime(self_study_dates2['registerDate'])\n",
    "self_study_dates2['lastvisitDate'] = pd.to_datetime(self_study_dates2['lastvisitDate'])\n",
    "self_study_dates2['duration'] = self_study_dates2['lastvisitDate'].to_numpy() - self_study_dates2['registerDate'].to_numpy()\n",
    "display(self_study_dates2.head(2))"
   ]
  },
  {
   "cell_type": "code",
   "execution_count": 28,
   "metadata": {
    "execution": {
     "iopub.execute_input": "2022-02-15T19:49:35.906056Z",
     "iopub.status.busy": "2022-02-15T19:49:35.905687Z",
     "iopub.status.idle": "2022-02-15T19:49:41.227773Z",
     "shell.execute_reply": "2022-02-15T19:49:41.223485Z",
     "shell.execute_reply.started": "2022-02-15T19:49:35.906020Z"
    },
    "tags": []
   },
   "outputs": [
    {
     "data": {
      "text/html": [
       "<div>\n",
       "<style scoped>\n",
       "    .dataframe tbody tr th:only-of-type {\n",
       "        vertical-align: middle;\n",
       "    }\n",
       "\n",
       "    .dataframe tbody tr th {\n",
       "        vertical-align: top;\n",
       "    }\n",
       "\n",
       "    .dataframe thead th {\n",
       "        text-align: right;\n",
       "    }\n",
       "</style>\n",
       "<table border=\"1\" class=\"dataframe\">\n",
       "  <thead>\n",
       "    <tr style=\"text-align: right;\">\n",
       "      <th></th>\n",
       "      <th>index</th>\n",
       "      <th>registerDate</th>\n",
       "      <th>lastvisitDate</th>\n",
       "      <th>duration</th>\n",
       "    </tr>\n",
       "  </thead>\n",
       "  <tbody>\n",
       "    <tr>\n",
       "      <th>0</th>\n",
       "      <td>1</td>\n",
       "      <td>2008-11-19 22:51:04</td>\n",
       "      <td>2008-11-19 23:55:30</td>\n",
       "      <td>-inf</td>\n",
       "    </tr>\n",
       "    <tr>\n",
       "      <th>1</th>\n",
       "      <td>2</td>\n",
       "      <td>2008-11-18 17:29:56</td>\n",
       "      <td>2020-02-14 18:50:14</td>\n",
       "      <td>3.61</td>\n",
       "    </tr>\n",
       "  </tbody>\n",
       "</table>\n",
       "</div>"
      ],
      "text/plain": [
       "   index        registerDate       lastvisitDate  duration\n",
       "0      1 2008-11-19 22:51:04 2008-11-19 23:55:30      -inf\n",
       "1      2 2008-11-18 17:29:56 2020-02-14 18:50:14      3.61"
      ]
     },
     "metadata": {},
     "output_type": "display_data"
    },
    {
     "data": {
      "text/html": [
       "<div>\n",
       "<style scoped>\n",
       "    .dataframe tbody tr th:only-of-type {\n",
       "        vertical-align: middle;\n",
       "    }\n",
       "\n",
       "    .dataframe tbody tr th {\n",
       "        vertical-align: top;\n",
       "    }\n",
       "\n",
       "    .dataframe thead th {\n",
       "        text-align: right;\n",
       "    }\n",
       "</style>\n",
       "<table border=\"1\" class=\"dataframe\">\n",
       "  <thead>\n",
       "    <tr style=\"text-align: right;\">\n",
       "      <th></th>\n",
       "      <th>index</th>\n",
       "      <th>registerDate</th>\n",
       "      <th>lastvisitDate</th>\n",
       "      <th>duration</th>\n",
       "    </tr>\n",
       "  </thead>\n",
       "  <tbody>\n",
       "    <tr>\n",
       "      <th>235407</th>\n",
       "      <td>249513</td>\n",
       "      <td>2021-11-14 22:23:48</td>\n",
       "      <td>2021-12-01 07:19:34</td>\n",
       "      <td>1.2</td>\n",
       "    </tr>\n",
       "    <tr>\n",
       "      <th>235408</th>\n",
       "      <td>249514</td>\n",
       "      <td>2021-11-14 23:08:18</td>\n",
       "      <td>2021-11-14 23:08:19</td>\n",
       "      <td>-inf</td>\n",
       "    </tr>\n",
       "  </tbody>\n",
       "</table>\n",
       "</div>"
      ],
      "text/plain": [
       "         index        registerDate       lastvisitDate  duration\n",
       "235407  249513 2021-11-14 22:23:48 2021-12-01 07:19:34       1.2\n",
       "235408  249514 2021-11-14 23:08:18 2021-11-14 23:08:19      -inf"
      ]
     },
     "metadata": {},
     "output_type": "display_data"
    }
   ],
   "source": [
    "self_study_dates2['duration'] = [np.round(np.log10(i.days),2) for i in self_study_dates2['duration'].to_list()]\n",
    "display(self_study_dates2.head(2))\n",
    "display(self_study_dates2.tail(2))"
   ]
  },
  {
   "cell_type": "code",
   "execution_count": 29,
   "metadata": {
    "execution": {
     "iopub.execute_input": "2022-02-15T19:49:41.233235Z",
     "iopub.status.busy": "2022-02-15T19:49:41.232660Z",
     "iopub.status.idle": "2022-02-15T19:49:41.303933Z",
     "shell.execute_reply": "2022-02-15T19:49:41.301987Z",
     "shell.execute_reply.started": "2022-02-15T19:49:41.233182Z"
    },
    "tags": []
   },
   "outputs": [],
   "source": [
    "self_user_vals = []\n",
    "for i,j in enumerate(bin_vals):\n",
    "    if i == 0:\n",
    "#         clustered_user_vals.append(clustered_dates[clustered_dates['lastvisitDate'].isna()].shape[0]\\\n",
    "#                                   +len(np.where(clustered_dates2['duration'] == 1)[0]))\n",
    "        h_thresh = j\n",
    "        l_thresh = 0\n",
    "        self_user_vals.append(len(np.where((self_study_dates2['duration'] < h_thresh))[0]))\n",
    "    else:\n",
    "        h_thresh = j\n",
    "        l_thresh = bin_vals[i-1]\n",
    "        self_user_vals.append(len(np.where((self_study_dates2['duration'] > l_thresh) \\\n",
    "                                    & (self_study_dates2['duration'] < h_thresh))[0]))        \n",
    "\n",
    "        "
   ]
  },
  {
   "cell_type": "code",
   "execution_count": 30,
   "metadata": {
    "execution": {
     "iopub.execute_input": "2022-02-15T19:49:41.311043Z",
     "iopub.status.busy": "2022-02-15T19:49:41.310595Z",
     "iopub.status.idle": "2022-02-15T19:49:41.323622Z",
     "shell.execute_reply": "2022-02-15T19:49:41.321725Z",
     "shell.execute_reply.started": "2022-02-15T19:49:41.311008Z"
    },
    "tags": []
   },
   "outputs": [
    {
     "data": {
      "text/plain": [
       "[118439, 0, 0, 3535, 0]"
      ]
     },
     "execution_count": 30,
     "metadata": {},
     "output_type": "execute_result"
    }
   ],
   "source": [
    "self_user_vals[:5]"
   ]
  },
  {
   "cell_type": "code",
   "execution_count": 31,
   "metadata": {
    "execution": {
     "iopub.execute_input": "2022-02-15T19:49:41.327695Z",
     "iopub.status.busy": "2022-02-15T19:49:41.327155Z",
     "iopub.status.idle": "2022-02-15T19:49:43.578207Z",
     "shell.execute_reply": "2022-02-15T19:49:43.576394Z",
     "shell.execute_reply.started": "2022-02-15T19:49:41.327652Z"
    },
    "tags": []
   },
   "outputs": [
    {
     "data": {
      "image/png": "[encoded data removed]",
      "text/plain": [
       "<Figure size 432x288 with 1 Axes>"
      ]
     },
     "metadata": {
      "needs_background": "light"
     },
     "output_type": "display_data"
    }
   ],
   "source": [
    "plt.figure()\n",
    "plt.hist(bin_vals2,bins=bin_vals2,weights=self_user_vals,align='left',color='orange',edgecolor='white', linewidth=1)\n",
    "plt.xlabel('User Lifetime (log days)')\n",
    "plt.xticks(np.arange(0,4.5,0.5))\n",
    "plt.ylim([0,2500])\n",
    "plt.ylabel('# of Users')\n",
    "\n",
    "if dev_flag == 'True':\n",
    "    plt.savefig(cwd+'/plots_local/simuser_lifetime_unclass.eps', dpi=1000, bbox_inches='tight')\n",
    "    plt.savefig(cwd+'/plots_local/simuser_lifetime_unclass.pdf', dpi=1000, bbox_inches='tight')\n",
    "    plt.savefig(cwd+'/plots_local/simuser_lifetime_unclass.png', dpi=1000, bbox_inches='tight')\n",
    "elif prod_flag == 'True':\n",
    "    plt.savefig(cwd+'/plots_production/simuser_lifetime_unclass.eps', dpi=1000, bbox_inches='tight')\n",
    "    plt.savefig(cwd+'/plots_production/simuser_lifetime_unclass.pdf', dpi=1000, bbox_inches='tight')\n",
    "    plt.savefig(cwd+'/plots_production/simuser_lifetime_unclass.png', dpi=1000, bbox_inches='tight')\n",
    "else:\n",
    "    print('no printing flag is active')"
   ]
  },
  {
   "cell_type": "code",
   "execution_count": 32,
   "metadata": {
    "execution": {
     "iopub.execute_input": "2022-02-15T19:49:43.582573Z",
     "iopub.status.busy": "2022-02-15T19:49:43.581325Z",
     "iopub.status.idle": "2022-02-15T19:49:43.593944Z",
     "shell.execute_reply": "2022-02-15T19:49:43.589480Z",
     "shell.execute_reply.started": "2022-02-15T19:49:43.582515Z"
    },
    "tags": []
   },
   "outputs": [],
   "source": [
    "sql_query = \"select registerDate, lastvisitDate from jos_users where id in \" + str(tuple(research_df['nhid']))"
   ]
  },
  {
   "cell_type": "code",
   "execution_count": 33,
   "metadata": {
    "execution": {
     "iopub.execute_input": "2022-02-15T19:49:43.598659Z",
     "iopub.status.busy": "2022-02-15T19:49:43.596867Z",
     "iopub.status.idle": "2022-02-15T19:49:43.922304Z",
     "shell.execute_reply": "2022-02-15T19:49:43.920845Z",
     "shell.execute_reply.started": "2022-02-15T19:49:43.598564Z"
    },
    "tags": []
   },
   "outputs": [
    {
     "data": {
      "text/html": [
       "<div>\n",
       "<style scoped>\n",
       "    .dataframe tbody tr th:only-of-type {\n",
       "        vertical-align: middle;\n",
       "    }\n",
       "\n",
       "    .dataframe tbody tr th {\n",
       "        vertical-align: top;\n",
       "    }\n",
       "\n",
       "    .dataframe thead th {\n",
       "        text-align: right;\n",
       "    }\n",
       "</style>\n",
       "<table border=\"1\" class=\"dataframe\">\n",
       "  <thead>\n",
       "    <tr style=\"text-align: right;\">\n",
       "      <th></th>\n",
       "      <th>registerDate</th>\n",
       "      <th>lastvisitDate</th>\n",
       "    </tr>\n",
       "  </thead>\n",
       "  <tbody>\n",
       "    <tr>\n",
       "      <th>0</th>\n",
       "      <td>2001-01-27 20:18:35</td>\n",
       "      <td>NaT</td>\n",
       "    </tr>\n",
       "    <tr>\n",
       "      <th>1</th>\n",
       "      <td>2005-07-28 01:28:13</td>\n",
       "      <td>2015-02-18 17:03:45</td>\n",
       "    </tr>\n",
       "    <tr>\n",
       "      <th>2</th>\n",
       "      <td>2005-07-29 18:24:36</td>\n",
       "      <td>2012-10-02 17:22:20</td>\n",
       "    </tr>\n",
       "    <tr>\n",
       "      <th>3</th>\n",
       "      <td>2005-02-10 07:50:17</td>\n",
       "      <td>2010-10-04 16:13:47</td>\n",
       "    </tr>\n",
       "    <tr>\n",
       "      <th>4</th>\n",
       "      <td>2004-09-08 03:39:55</td>\n",
       "      <td>2012-10-19 04:20:20</td>\n",
       "    </tr>\n",
       "    <tr>\n",
       "      <th>...</th>\n",
       "      <td>...</td>\n",
       "      <td>...</td>\n",
       "    </tr>\n",
       "    <tr>\n",
       "      <th>2808</th>\n",
       "      <td>2022-01-13 01:03:56</td>\n",
       "      <td>2022-01-13 06:40:13</td>\n",
       "    </tr>\n",
       "    <tr>\n",
       "      <th>2809</th>\n",
       "      <td>2022-01-17 10:58:18</td>\n",
       "      <td>2022-01-17 10:58:18</td>\n",
       "    </tr>\n",
       "    <tr>\n",
       "      <th>2810</th>\n",
       "      <td>2022-01-22 07:28:01</td>\n",
       "      <td>2022-01-22 07:28:01</td>\n",
       "    </tr>\n",
       "    <tr>\n",
       "      <th>2811</th>\n",
       "      <td>2022-01-22 07:33:29</td>\n",
       "      <td>2022-01-25 06:32:05</td>\n",
       "    </tr>\n",
       "    <tr>\n",
       "      <th>2812</th>\n",
       "      <td>2022-01-23 22:00:46</td>\n",
       "      <td>2022-01-23 22:00:46</td>\n",
       "    </tr>\n",
       "  </tbody>\n",
       "</table>\n",
       "<p>2813 rows × 2 columns</p>\n",
       "</div>"
      ],
      "text/plain": [
       "            registerDate       lastvisitDate\n",
       "0    2001-01-27 20:18:35                 NaT\n",
       "1    2005-07-28 01:28:13 2015-02-18 17:03:45\n",
       "2    2005-07-29 18:24:36 2012-10-02 17:22:20\n",
       "3    2005-02-10 07:50:17 2010-10-04 16:13:47\n",
       "4    2004-09-08 03:39:55 2012-10-19 04:20:20\n",
       "...                  ...                 ...\n",
       "2808 2022-01-13 01:03:56 2022-01-13 06:40:13\n",
       "2809 2022-01-17 10:58:18 2022-01-17 10:58:18\n",
       "2810 2022-01-22 07:28:01 2022-01-22 07:28:01\n",
       "2811 2022-01-22 07:33:29 2022-01-25 06:32:05\n",
       "2812 2022-01-23 22:00:46 2022-01-23 22:00:46\n",
       "\n",
       "[2813 rows x 2 columns]"
      ]
     },
     "execution_count": 33,
     "metadata": {},
     "output_type": "execute_result"
    }
   ],
   "source": [
    "researcher_dates = pd.read_sql_query(sql_query,nanohub_db)\n",
    "researcher_dates"
   ]
  },
  {
   "cell_type": "code",
   "execution_count": 34,
   "metadata": {
    "execution": {
     "iopub.execute_input": "2022-02-15T19:49:43.927589Z",
     "iopub.status.busy": "2022-02-15T19:49:43.925411Z",
     "iopub.status.idle": "2022-02-15T19:49:43.970846Z",
     "shell.execute_reply": "2022-02-15T19:49:43.966834Z",
     "shell.execute_reply.started": "2022-02-15T19:49:43.927293Z"
    },
    "tags": []
   },
   "outputs": [
    {
     "data": {
      "text/html": [
       "<div>\n",
       "<style scoped>\n",
       "    .dataframe tbody tr th:only-of-type {\n",
       "        vertical-align: middle;\n",
       "    }\n",
       "\n",
       "    .dataframe tbody tr th {\n",
       "        vertical-align: top;\n",
       "    }\n",
       "\n",
       "    .dataframe thead th {\n",
       "        text-align: right;\n",
       "    }\n",
       "</style>\n",
       "<table border=\"1\" class=\"dataframe\">\n",
       "  <thead>\n",
       "    <tr style=\"text-align: right;\">\n",
       "      <th></th>\n",
       "      <th>index</th>\n",
       "      <th>registerDate</th>\n",
       "      <th>lastvisitDate</th>\n",
       "      <th>duration</th>\n",
       "    </tr>\n",
       "  </thead>\n",
       "  <tbody>\n",
       "    <tr>\n",
       "      <th>0</th>\n",
       "      <td>1</td>\n",
       "      <td>2005-07-28 01:28:13</td>\n",
       "      <td>2015-02-18 17:03:45</td>\n",
       "      <td>3492 days 15:35:32</td>\n",
       "    </tr>\n",
       "    <tr>\n",
       "      <th>1</th>\n",
       "      <td>2</td>\n",
       "      <td>2005-07-29 18:24:36</td>\n",
       "      <td>2012-10-02 17:22:20</td>\n",
       "      <td>2621 days 22:57:44</td>\n",
       "    </tr>\n",
       "  </tbody>\n",
       "</table>\n",
       "</div>"
      ],
      "text/plain": [
       "   index        registerDate       lastvisitDate           duration\n",
       "0      1 2005-07-28 01:28:13 2015-02-18 17:03:45 3492 days 15:35:32\n",
       "1      2 2005-07-29 18:24:36 2012-10-02 17:22:20 2621 days 22:57:44"
      ]
     },
     "metadata": {},
     "output_type": "display_data"
    }
   ],
   "source": [
    "## determine time diffs\n",
    "researcher_dates2 = researcher_dates[~researcher_dates['lastvisitDate'].isna()].reset_index()\n",
    "researcher_dates2['registerDate'] = pd.to_datetime(researcher_dates2['registerDate'])\n",
    "researcher_dates2['lastvisitDate'] = pd.to_datetime(researcher_dates2['lastvisitDate'])\n",
    "researcher_dates2['duration'] = researcher_dates2['lastvisitDate'].to_numpy() - researcher_dates2['registerDate'].to_numpy()\n",
    "display(researcher_dates2.head(2))"
   ]
  },
  {
   "cell_type": "code",
   "execution_count": 35,
   "metadata": {
    "execution": {
     "iopub.execute_input": "2022-02-15T19:49:43.979291Z",
     "iopub.status.busy": "2022-02-15T19:49:43.978148Z",
     "iopub.status.idle": "2022-02-15T19:49:44.059153Z",
     "shell.execute_reply": "2022-02-15T19:49:44.058431Z",
     "shell.execute_reply.started": "2022-02-15T19:49:43.979255Z"
    },
    "tags": []
   },
   "outputs": [
    {
     "data": {
      "text/html": [
       "<div>\n",
       "<style scoped>\n",
       "    .dataframe tbody tr th:only-of-type {\n",
       "        vertical-align: middle;\n",
       "    }\n",
       "\n",
       "    .dataframe tbody tr th {\n",
       "        vertical-align: top;\n",
       "    }\n",
       "\n",
       "    .dataframe thead th {\n",
       "        text-align: right;\n",
       "    }\n",
       "</style>\n",
       "<table border=\"1\" class=\"dataframe\">\n",
       "  <thead>\n",
       "    <tr style=\"text-align: right;\">\n",
       "      <th></th>\n",
       "      <th>index</th>\n",
       "      <th>registerDate</th>\n",
       "      <th>lastvisitDate</th>\n",
       "      <th>duration</th>\n",
       "    </tr>\n",
       "  </thead>\n",
       "  <tbody>\n",
       "    <tr>\n",
       "      <th>0</th>\n",
       "      <td>1</td>\n",
       "      <td>2005-07-28 01:28:13</td>\n",
       "      <td>2015-02-18 17:03:45</td>\n",
       "      <td>3.54</td>\n",
       "    </tr>\n",
       "    <tr>\n",
       "      <th>1</th>\n",
       "      <td>2</td>\n",
       "      <td>2005-07-29 18:24:36</td>\n",
       "      <td>2012-10-02 17:22:20</td>\n",
       "      <td>3.42</td>\n",
       "    </tr>\n",
       "  </tbody>\n",
       "</table>\n",
       "</div>"
      ],
      "text/plain": [
       "   index        registerDate       lastvisitDate  duration\n",
       "0      1 2005-07-28 01:28:13 2015-02-18 17:03:45      3.54\n",
       "1      2 2005-07-29 18:24:36 2012-10-02 17:22:20      3.42"
      ]
     },
     "metadata": {},
     "output_type": "display_data"
    },
    {
     "data": {
      "text/html": [
       "<div>\n",
       "<style scoped>\n",
       "    .dataframe tbody tr th:only-of-type {\n",
       "        vertical-align: middle;\n",
       "    }\n",
       "\n",
       "    .dataframe tbody tr th {\n",
       "        vertical-align: top;\n",
       "    }\n",
       "\n",
       "    .dataframe thead th {\n",
       "        text-align: right;\n",
       "    }\n",
       "</style>\n",
       "<table border=\"1\" class=\"dataframe\">\n",
       "  <thead>\n",
       "    <tr style=\"text-align: right;\">\n",
       "      <th></th>\n",
       "      <th>index</th>\n",
       "      <th>registerDate</th>\n",
       "      <th>lastvisitDate</th>\n",
       "      <th>duration</th>\n",
       "    </tr>\n",
       "  </thead>\n",
       "  <tbody>\n",
       "    <tr>\n",
       "      <th>2681</th>\n",
       "      <td>2811</td>\n",
       "      <td>2022-01-22 07:33:29</td>\n",
       "      <td>2022-01-25 06:32:05</td>\n",
       "      <td>0.3</td>\n",
       "    </tr>\n",
       "    <tr>\n",
       "      <th>2682</th>\n",
       "      <td>2812</td>\n",
       "      <td>2022-01-23 22:00:46</td>\n",
       "      <td>2022-01-23 22:00:46</td>\n",
       "      <td>-inf</td>\n",
       "    </tr>\n",
       "  </tbody>\n",
       "</table>\n",
       "</div>"
      ],
      "text/plain": [
       "      index        registerDate       lastvisitDate  duration\n",
       "2681   2811 2022-01-22 07:33:29 2022-01-25 06:32:05       0.3\n",
       "2682   2812 2022-01-23 22:00:46 2022-01-23 22:00:46      -inf"
      ]
     },
     "metadata": {},
     "output_type": "display_data"
    }
   ],
   "source": [
    "researcher_dates2['duration'] = [np.round(np.log10(i.days),2) for i in researcher_dates2['duration'].to_list()]\n",
    "display(researcher_dates2.head(2))\n",
    "display(researcher_dates2.tail(2))"
   ]
  },
  {
   "cell_type": "code",
   "execution_count": 36,
   "metadata": {
    "execution": {
     "iopub.execute_input": "2022-02-15T19:49:44.061815Z",
     "iopub.status.busy": "2022-02-15T19:49:44.061044Z",
     "iopub.status.idle": "2022-02-15T19:49:44.107740Z",
     "shell.execute_reply": "2022-02-15T19:49:44.106918Z",
     "shell.execute_reply.started": "2022-02-15T19:49:44.061745Z"
    },
    "tags": []
   },
   "outputs": [],
   "source": [
    "researcher_vals = []\n",
    "for i,j in enumerate(bin_vals):\n",
    "    if i == 0:\n",
    "#         clustered_user_vals.append(clustered_dates[clustered_dates['lastvisitDate'].isna()].shape[0]\\\n",
    "#                                   +len(np.where(clustered_dates2['duration'] == 1)[0]))\n",
    "        h_thresh = j\n",
    "        l_thresh = 0\n",
    "        researcher_vals.append(len(np.where((researcher_dates2['duration'] < h_thresh))[0]))\n",
    "    else:\n",
    "        h_thresh = j\n",
    "        l_thresh = bin_vals[i-1]\n",
    "        researcher_vals.append(len(np.where((researcher_dates2['duration'] > l_thresh) \\\n",
    "                                    & (researcher_dates2['duration'] < h_thresh))[0]))        \n",
    "\n",
    "        "
   ]
  },
  {
   "cell_type": "code",
   "execution_count": 37,
   "metadata": {
    "execution": {
     "iopub.execute_input": "2022-02-15T19:49:44.109618Z",
     "iopub.status.busy": "2022-02-15T19:49:44.109058Z",
     "iopub.status.idle": "2022-02-15T19:49:44.121155Z",
     "shell.execute_reply": "2022-02-15T19:49:44.120249Z",
     "shell.execute_reply.started": "2022-02-15T19:49:44.109586Z"
    },
    "tags": []
   },
   "outputs": [
    {
     "data": {
      "text/plain": [
       "[708, 0]"
      ]
     },
     "execution_count": 37,
     "metadata": {},
     "output_type": "execute_result"
    }
   ],
   "source": [
    "researcher_vals[:2]"
   ]
  },
  {
   "cell_type": "code",
   "execution_count": 38,
   "metadata": {
    "execution": {
     "iopub.execute_input": "2022-02-15T19:49:44.124224Z",
     "iopub.status.busy": "2022-02-15T19:49:44.123508Z",
     "iopub.status.idle": "2022-02-15T19:49:46.752340Z",
     "shell.execute_reply": "2022-02-15T19:49:46.751126Z",
     "shell.execute_reply.started": "2022-02-15T19:49:44.124158Z"
    },
    "tags": []
   },
   "outputs": [
    {
     "data": {
      "image/png": "[encoded data removed]",
      "text/plain": [
       "<Figure size 432x288 with 1 Axes>"
      ]
     },
     "metadata": {
      "needs_background": "light"
     },
     "output_type": "display_data"
    }
   ],
   "source": [
    "plt.figure()\n",
    "plt.hist(bin_vals2,bins=bin_vals2,weights=researcher_vals,align='left',color='red',edgecolor='white', linewidth=1)\n",
    "plt.xlabel('User Lifetime (log days)')\n",
    "plt.xticks(np.arange(0,4.5,0.5))\n",
    "plt.ylim([0,200])\n",
    "plt.ylabel('# of Users')\n",
    "\n",
    "if dev_flag == 'True':\n",
    "    plt.savefig(cwd+'/plots_local/simuser_lifetime_research.eps', dpi=1000, bbox_inches='tight')\n",
    "    plt.savefig(cwd+'/plots_local/simuser_lifetime_research.pdf', dpi=1000, bbox_inches='tight')\n",
    "    plt.savefig(cwd+'/plots_local/simuser_lifetime_research.png', dpi=1000, bbox_inches='tight')\n",
    "elif prod_flag == 'True':\n",
    "    plt.savefig(cwd+'/plots_production/simuser_lifetime_research.eps', dpi=1000, bbox_inches='tight')\n",
    "    plt.savefig(cwd+'/plots_production/simuser_lifetime_research.pdf', dpi=1000, bbox_inches='tight')\n",
    "    plt.savefig(cwd+'/plots_production/simuser_lifetime_research.png', dpi=1000, bbox_inches='tight')\n",
    "else:\n",
    "    print('no printing flag is active')"
   ]
  },
  {
   "cell_type": "code",
   "execution_count": null,
   "metadata": {},
   "outputs": [],
   "source": []
  },
  {
   "cell_type": "code",
   "execution_count": null,
   "metadata": {},
   "outputs": [],
   "source": []
  },
  {
   "cell_type": "code",
   "execution_count": null,
   "metadata": {},
   "outputs": [],
   "source": []
  },
  {
   "cell_type": "code",
   "execution_count": null,
   "metadata": {},
   "outputs": [],
   "source": []
  },
  {
   "cell_type": "code",
   "execution_count": null,
   "metadata": {},
   "outputs": [],
   "source": []
  }
 ],
 "metadata": {
  "kernelspec": {
   "display_name": "Python 3 (ipykernel)",
   "language": "python",
   "name": "python3"
  },
  "language_info": {
   "codemirror_mode": {
    "name": "ipython",
    "version": 3
   },
   "file_extension": ".py",
   "mimetype": "text/x-python",
   "name": "python",
   "nbconvert_exporter": "python",
   "pygments_lexer": "ipython3",
   "version": "3.8.10"
  }
 },
 "nbformat": 4,
 "nbformat_minor": 4
}
