{
 "cells": [
  {
   "cell_type": "code",
   "execution_count": 1,
   "metadata": {
    "execution": {
     "iopub.execute_input": "2022-01-19T14:39:34.122866Z",
     "iopub.status.busy": "2022-01-19T14:39:34.122510Z",
     "iopub.status.idle": "2022-01-19T14:39:34.130960Z",
     "shell.execute_reply": "2022-01-19T14:39:34.129471Z",
     "shell.execute_reply.started": "2022-01-19T14:39:34.122785Z"
    },
    "tags": []
   },
   "outputs": [],
   "source": [
    "## build researcher events, student events, and self-study events\n",
    "## researcher are simply those with NH citations"
   ]
  },
  {
   "cell_type": "code",
   "execution_count": 2,
   "metadata": {
    "execution": {
     "iopub.execute_input": "2022-01-19T14:39:34.437173Z",
     "iopub.status.busy": "2022-01-19T14:39:34.436644Z",
     "iopub.status.idle": "2022-01-19T14:39:34.936714Z",
     "shell.execute_reply": "2022-01-19T14:39:34.935372Z",
     "shell.execute_reply.started": "2022-01-19T14:39:34.437008Z"
    },
    "tags": []
   },
   "outputs": [],
   "source": [
    "import sys\n",
    "import pandas as pd\n",
    "import time\n",
    "import datetime"
   ]
  },
  {
   "cell_type": "code",
   "execution_count": 3,
   "metadata": {
    "execution": {
     "iopub.execute_input": "2022-01-19T14:39:34.947515Z",
     "iopub.status.busy": "2022-01-19T14:39:34.943281Z",
     "iopub.status.idle": "2022-01-19T14:39:34.955094Z",
     "shell.execute_reply": "2022-01-19T14:39:34.954476Z",
     "shell.execute_reply.started": "2022-01-19T14:39:34.944897Z"
    },
    "tags": []
   },
   "outputs": [],
   "source": [
    "import warnings\n",
    "warnings.filterwarnings('ignore')\n",
    "# warnings.filterwarnings(action='once')\n",
    "warnings.simplefilter(action='ignore', category=FutureWarning)"
   ]
  },
  {
   "cell_type": "code",
   "execution_count": 4,
   "metadata": {
    "execution": {
     "iopub.execute_input": "2022-01-19T14:39:35.250749Z",
     "iopub.status.busy": "2022-01-19T14:39:35.250204Z",
     "iopub.status.idle": "2022-01-19T14:39:37.795192Z",
     "shell.execute_reply": "2022-01-19T14:39:37.793129Z",
     "shell.execute_reply.started": "2022-01-19T14:39:35.250710Z"
    },
    "tags": []
   },
   "outputs": [
    {
     "name": "stdout",
     "output_type": "stream",
     "text": [
      "\u001b[1mnanoHUB - Serving Students, Researchers & Instructors\u001b[0m\n",
      "Obtained Salesforce access token ...... True\n"
     ]
    }
   ],
   "source": [
    "from nanoHUB.application import Application\n",
    "\n",
    "application = Application.get_instance()\n",
    "nanohub_db = application.new_db_engine('nanohub')\n",
    "nanohub_metrics_db = application.new_db_engine('nanohub_metrics')\n",
    "wang159_myrmekes_db = application.new_db_engine('wang159_myrmekes')\n",
    "\n",
    "salesforce = application.new_salesforce_engine()\n",
    "db_s = salesforce"
   ]
  },
  {
   "cell_type": "code",
   "execution_count": null,
   "metadata": {},
   "outputs": [],
   "source": []
  },
  {
   "cell_type": "markdown",
   "metadata": {},
   "source": [
    "## User Lifetime Comparison"
   ]
  },
  {
   "cell_type": "code",
   "execution_count": 5,
   "metadata": {
    "execution": {
     "iopub.execute_input": "2022-01-19T14:39:40.426244Z",
     "iopub.status.busy": "2022-01-19T14:39:40.425743Z",
     "iopub.status.idle": "2022-01-19T14:39:40.436465Z",
     "shell.execute_reply": "2022-01-19T14:39:40.432509Z",
     "shell.execute_reply.started": "2022-01-19T14:39:40.426192Z"
    },
    "tags": []
   },
   "outputs": [],
   "source": [
    "#pull jos_users with the previously found self-study, classroom, and research users\n",
    "#then just compare the register vs last visit date"
   ]
  },
  {
   "cell_type": "code",
   "execution_count": 6,
   "metadata": {
    "execution": {
     "iopub.execute_input": "2022-01-19T14:39:41.026596Z",
     "iopub.status.busy": "2022-01-19T14:39:41.025965Z",
     "iopub.status.idle": "2022-01-19T14:39:41.033210Z",
     "shell.execute_reply": "2022-01-19T14:39:41.031633Z",
     "shell.execute_reply.started": "2022-01-19T14:39:41.026537Z"
    },
    "tags": []
   },
   "outputs": [],
   "source": [
    "import os\n",
    "cwd = os.getcwd()"
   ]
  },
  {
   "cell_type": "code",
   "execution_count": 7,
   "metadata": {
    "execution": {
     "iopub.execute_input": "2022-01-19T14:39:43.007713Z",
     "iopub.status.busy": "2022-01-19T14:39:43.007163Z",
     "iopub.status.idle": "2022-01-19T14:39:43.254256Z",
     "shell.execute_reply": "2022-01-19T14:39:43.252803Z",
     "shell.execute_reply.started": "2022-01-19T14:39:43.007646Z"
    },
    "tags": []
   },
   "outputs": [],
   "source": [
    "class_df = pd.read_csv(cwd+'/cached_data/class_ids.csv')\n",
    "ss_df = pd.read_csv(cwd+'/cached_data/ss_ids.csv')\n",
    "research_df = pd.read_csv(cwd+'/cached_data/researcher_ids.csv')"
   ]
  },
  {
   "cell_type": "code",
   "execution_count": 8,
   "metadata": {
    "execution": {
     "iopub.execute_input": "2022-01-19T14:39:44.368730Z",
     "iopub.status.busy": "2022-01-19T14:39:44.368446Z",
     "iopub.status.idle": "2022-01-19T14:39:44.404658Z",
     "shell.execute_reply": "2022-01-19T14:39:44.403833Z",
     "shell.execute_reply.started": "2022-01-19T14:39:44.368692Z"
    },
    "tags": []
   },
   "outputs": [
    {
     "data": {
      "text/html": [
       "<div>\n",
       "<style scoped>\n",
       "    .dataframe tbody tr th:only-of-type {\n",
       "        vertical-align: middle;\n",
       "    }\n",
       "\n",
       "    .dataframe tbody tr th {\n",
       "        vertical-align: top;\n",
       "    }\n",
       "\n",
       "    .dataframe thead th {\n",
       "        text-align: right;\n",
       "    }\n",
       "</style>\n",
       "<table border=\"1\" class=\"dataframe\">\n",
       "  <thead>\n",
       "    <tr style=\"text-align: right;\">\n",
       "      <th></th>\n",
       "      <th>Unnamed: 0</th>\n",
       "      <th>nhid</th>\n",
       "      <th>username</th>\n",
       "    </tr>\n",
       "  </thead>\n",
       "  <tbody>\n",
       "    <tr>\n",
       "      <th>0</th>\n",
       "      <td>0</td>\n",
       "      <td>166284</td>\n",
       "      <td>0.yao.yuan</td>\n",
       "    </tr>\n",
       "    <tr>\n",
       "      <th>1</th>\n",
       "      <td>1</td>\n",
       "      <td>153691</td>\n",
       "      <td>008dilip</td>\n",
       "    </tr>\n",
       "  </tbody>\n",
       "</table>\n",
       "</div>"
      ],
      "text/plain": [
       "   Unnamed: 0    nhid    username\n",
       "0           0  166284  0.yao.yuan\n",
       "1           1  153691    008dilip"
      ]
     },
     "metadata": {},
     "output_type": "display_data"
    },
    {
     "data": {
      "text/html": [
       "<div>\n",
       "<style scoped>\n",
       "    .dataframe tbody tr th:only-of-type {\n",
       "        vertical-align: middle;\n",
       "    }\n",
       "\n",
       "    .dataframe tbody tr th {\n",
       "        vertical-align: top;\n",
       "    }\n",
       "\n",
       "    .dataframe thead th {\n",
       "        text-align: right;\n",
       "    }\n",
       "</style>\n",
       "<table border=\"1\" class=\"dataframe\">\n",
       "  <thead>\n",
       "    <tr style=\"text-align: right;\">\n",
       "      <th></th>\n",
       "      <th>Unnamed: 0</th>\n",
       "      <th>nhid</th>\n",
       "      <th>username</th>\n",
       "    </tr>\n",
       "  </thead>\n",
       "  <tbody>\n",
       "    <tr>\n",
       "      <th>0</th>\n",
       "      <td>0</td>\n",
       "      <td>211547</td>\n",
       "      <td>-100005</td>\n",
       "    </tr>\n",
       "    <tr>\n",
       "      <th>1</th>\n",
       "      <td>1</td>\n",
       "      <td>211574</td>\n",
       "      <td>-100024</td>\n",
       "    </tr>\n",
       "  </tbody>\n",
       "</table>\n",
       "</div>"
      ],
      "text/plain": [
       "   Unnamed: 0    nhid username\n",
       "0           0  211547  -100005\n",
       "1           1  211574  -100024"
      ]
     },
     "metadata": {},
     "output_type": "display_data"
    },
    {
     "data": {
      "text/html": [
       "<div>\n",
       "<style scoped>\n",
       "    .dataframe tbody tr th:only-of-type {\n",
       "        vertical-align: middle;\n",
       "    }\n",
       "\n",
       "    .dataframe tbody tr th {\n",
       "        vertical-align: top;\n",
       "    }\n",
       "\n",
       "    .dataframe thead th {\n",
       "        text-align: right;\n",
       "    }\n",
       "</style>\n",
       "<table border=\"1\" class=\"dataframe\">\n",
       "  <thead>\n",
       "    <tr style=\"text-align: right;\">\n",
       "      <th></th>\n",
       "      <th>Unnamed: 0</th>\n",
       "      <th>nhid</th>\n",
       "    </tr>\n",
       "  </thead>\n",
       "  <tbody>\n",
       "    <tr>\n",
       "      <th>0</th>\n",
       "      <td>0</td>\n",
       "      <td>1742</td>\n",
       "    </tr>\n",
       "    <tr>\n",
       "      <th>1</th>\n",
       "      <td>1</td>\n",
       "      <td>1767</td>\n",
       "    </tr>\n",
       "  </tbody>\n",
       "</table>\n",
       "</div>"
      ],
      "text/plain": [
       "   Unnamed: 0  nhid\n",
       "0           0  1742\n",
       "1           1  1767"
      ]
     },
     "metadata": {},
     "output_type": "display_data"
    }
   ],
   "source": [
    "display(class_df.head(2))\n",
    "display(ss_df.head(2))\n",
    "display(research_df.head(2))"
   ]
  },
  {
   "cell_type": "code",
   "execution_count": 9,
   "metadata": {
    "execution": {
     "iopub.execute_input": "2022-01-19T14:39:45.780234Z",
     "iopub.status.busy": "2022-01-19T14:39:45.779889Z",
     "iopub.status.idle": "2022-01-19T14:39:45.801243Z",
     "shell.execute_reply": "2022-01-19T14:39:45.799322Z",
     "shell.execute_reply.started": "2022-01-19T14:39:45.780204Z"
    },
    "tags": []
   },
   "outputs": [],
   "source": [
    "sql_query = \"select registerDate, lastvisitDate from jos_users where username in \" + str(tuple(class_df['username']))"
   ]
  },
  {
   "cell_type": "code",
   "execution_count": 10,
   "metadata": {
    "execution": {
     "iopub.execute_input": "2022-01-19T14:39:46.345379Z",
     "iopub.status.busy": "2022-01-19T14:39:46.345101Z",
     "iopub.status.idle": "2022-01-19T14:39:52.524938Z",
     "shell.execute_reply": "2022-01-19T14:39:52.523518Z",
     "shell.execute_reply.started": "2022-01-19T14:39:46.345343Z"
    },
    "tags": []
   },
   "outputs": [
    {
     "data": {
      "text/html": [
       "<div>\n",
       "<style scoped>\n",
       "    .dataframe tbody tr th:only-of-type {\n",
       "        vertical-align: middle;\n",
       "    }\n",
       "\n",
       "    .dataframe tbody tr th {\n",
       "        vertical-align: top;\n",
       "    }\n",
       "\n",
       "    .dataframe thead th {\n",
       "        text-align: right;\n",
       "    }\n",
       "</style>\n",
       "<table border=\"1\" class=\"dataframe\">\n",
       "  <thead>\n",
       "    <tr style=\"text-align: right;\">\n",
       "      <th></th>\n",
       "      <th>registerDate</th>\n",
       "      <th>lastvisitDate</th>\n",
       "    </tr>\n",
       "  </thead>\n",
       "  <tbody>\n",
       "    <tr>\n",
       "      <th>0</th>\n",
       "      <td>2000-01-11 17:10:00</td>\n",
       "      <td>NaT</td>\n",
       "    </tr>\n",
       "    <tr>\n",
       "      <th>1</th>\n",
       "      <td>2000-08-24 18:17:51</td>\n",
       "      <td>NaT</td>\n",
       "    </tr>\n",
       "    <tr>\n",
       "      <th>2</th>\n",
       "      <td>2000-08-29 19:43:43</td>\n",
       "      <td>NaT</td>\n",
       "    </tr>\n",
       "    <tr>\n",
       "      <th>3</th>\n",
       "      <td>2000-09-19 15:06:58</td>\n",
       "      <td>NaT</td>\n",
       "    </tr>\n",
       "    <tr>\n",
       "      <th>4</th>\n",
       "      <td>2001-01-11 00:20:23</td>\n",
       "      <td>NaT</td>\n",
       "    </tr>\n",
       "    <tr>\n",
       "      <th>...</th>\n",
       "      <td>...</td>\n",
       "      <td>...</td>\n",
       "    </tr>\n",
       "    <tr>\n",
       "      <th>63429</th>\n",
       "      <td>2021-04-24 00:08:56</td>\n",
       "      <td>2021-04-24 00:08:56</td>\n",
       "    </tr>\n",
       "    <tr>\n",
       "      <th>63430</th>\n",
       "      <td>2021-04-24 03:36:38</td>\n",
       "      <td>2021-04-25 22:27:48</td>\n",
       "    </tr>\n",
       "    <tr>\n",
       "      <th>63431</th>\n",
       "      <td>2021-04-24 07:36:25</td>\n",
       "      <td>2022-01-18 09:43:42</td>\n",
       "    </tr>\n",
       "    <tr>\n",
       "      <th>63432</th>\n",
       "      <td>2021-04-24 13:32:18</td>\n",
       "      <td>2021-04-25 18:45:02</td>\n",
       "    </tr>\n",
       "    <tr>\n",
       "      <th>63433</th>\n",
       "      <td>2021-04-24 19:07:31</td>\n",
       "      <td>2021-04-24 19:07:34</td>\n",
       "    </tr>\n",
       "  </tbody>\n",
       "</table>\n",
       "<p>63434 rows × 2 columns</p>\n",
       "</div>"
      ],
      "text/plain": [
       "             registerDate       lastvisitDate\n",
       "0     2000-01-11 17:10:00                 NaT\n",
       "1     2000-08-24 18:17:51                 NaT\n",
       "2     2000-08-29 19:43:43                 NaT\n",
       "3     2000-09-19 15:06:58                 NaT\n",
       "4     2001-01-11 00:20:23                 NaT\n",
       "...                   ...                 ...\n",
       "63429 2021-04-24 00:08:56 2021-04-24 00:08:56\n",
       "63430 2021-04-24 03:36:38 2021-04-25 22:27:48\n",
       "63431 2021-04-24 07:36:25 2022-01-18 09:43:42\n",
       "63432 2021-04-24 13:32:18 2021-04-25 18:45:02\n",
       "63433 2021-04-24 19:07:31 2021-04-24 19:07:34\n",
       "\n",
       "[63434 rows x 2 columns]"
      ]
     },
     "execution_count": 10,
     "metadata": {},
     "output_type": "execute_result"
    }
   ],
   "source": [
    "clustered_dates = pd.read_sql_query(sql_query,nanohub_db)\n",
    "clustered_dates"
   ]
  },
  {
   "cell_type": "code",
   "execution_count": 11,
   "metadata": {
    "execution": {
     "iopub.execute_input": "2022-01-19T14:39:52.528489Z",
     "iopub.status.busy": "2022-01-19T14:39:52.527102Z",
     "iopub.status.idle": "2022-01-19T14:39:52.539931Z",
     "shell.execute_reply": "2022-01-19T14:39:52.539183Z",
     "shell.execute_reply.started": "2022-01-19T14:39:52.528438Z"
    },
    "tags": []
   },
   "outputs": [
    {
     "data": {
      "text/plain": [
       "1400"
      ]
     },
     "execution_count": 11,
     "metadata": {},
     "output_type": "execute_result"
    }
   ],
   "source": [
    "clustered_dates[clustered_dates['lastvisitDate'].isna()].shape[0]"
   ]
  },
  {
   "cell_type": "code",
   "execution_count": 12,
   "metadata": {
    "execution": {
     "iopub.execute_input": "2022-01-19T14:39:52.543961Z",
     "iopub.status.busy": "2022-01-19T14:39:52.542246Z",
     "iopub.status.idle": "2022-01-19T14:39:52.586528Z",
     "shell.execute_reply": "2022-01-19T14:39:52.585428Z",
     "shell.execute_reply.started": "2022-01-19T14:39:52.543905Z"
    },
    "tags": []
   },
   "outputs": [
    {
     "data": {
      "text/html": [
       "<div>\n",
       "<style scoped>\n",
       "    .dataframe tbody tr th:only-of-type {\n",
       "        vertical-align: middle;\n",
       "    }\n",
       "\n",
       "    .dataframe tbody tr th {\n",
       "        vertical-align: top;\n",
       "    }\n",
       "\n",
       "    .dataframe thead th {\n",
       "        text-align: right;\n",
       "    }\n",
       "</style>\n",
       "<table border=\"1\" class=\"dataframe\">\n",
       "  <thead>\n",
       "    <tr style=\"text-align: right;\">\n",
       "      <th></th>\n",
       "      <th>index</th>\n",
       "      <th>registerDate</th>\n",
       "      <th>lastvisitDate</th>\n",
       "      <th>duration</th>\n",
       "    </tr>\n",
       "  </thead>\n",
       "  <tbody>\n",
       "    <tr>\n",
       "      <th>0</th>\n",
       "      <td>19</td>\n",
       "      <td>2005-07-28 01:28:13</td>\n",
       "      <td>2015-02-18 17:03:45</td>\n",
       "      <td>3492 days 15:35:32</td>\n",
       "    </tr>\n",
       "    <tr>\n",
       "      <th>1</th>\n",
       "      <td>26</td>\n",
       "      <td>2006-04-24 15:38:15</td>\n",
       "      <td>2007-11-12 00:56:00</td>\n",
       "      <td>566 days 09:17:45</td>\n",
       "    </tr>\n",
       "  </tbody>\n",
       "</table>\n",
       "</div>"
      ],
      "text/plain": [
       "   index        registerDate       lastvisitDate           duration\n",
       "0     19 2005-07-28 01:28:13 2015-02-18 17:03:45 3492 days 15:35:32\n",
       "1     26 2006-04-24 15:38:15 2007-11-12 00:56:00  566 days 09:17:45"
      ]
     },
     "metadata": {},
     "output_type": "display_data"
    }
   ],
   "source": [
    "## determine time diffs\n",
    "clustered_dates2 = clustered_dates[~clustered_dates['lastvisitDate'].isna()].reset_index()\n",
    "clustered_dates2['registerDate'] = pd.to_datetime(clustered_dates2['registerDate'])\n",
    "clustered_dates2['lastvisitDate'] = pd.to_datetime(clustered_dates2['lastvisitDate'])\n",
    "clustered_dates2['duration'] = clustered_dates2['lastvisitDate'].to_numpy() - clustered_dates2['registerDate'].to_numpy()\n",
    "display(clustered_dates2.head(2))"
   ]
  },
  {
   "cell_type": "code",
   "execution_count": 13,
   "metadata": {
    "execution": {
     "iopub.execute_input": "2022-01-19T14:39:52.590463Z",
     "iopub.status.busy": "2022-01-19T14:39:52.588222Z",
     "iopub.status.idle": "2022-01-19T14:39:52.595358Z",
     "shell.execute_reply": "2022-01-19T14:39:52.594540Z",
     "shell.execute_reply.started": "2022-01-19T14:39:52.590348Z"
    },
    "tags": []
   },
   "outputs": [],
   "source": [
    "import numpy as np"
   ]
  },
  {
   "cell_type": "code",
   "execution_count": 14,
   "metadata": {
    "execution": {
     "iopub.execute_input": "2022-01-19T14:39:52.597408Z",
     "iopub.status.busy": "2022-01-19T14:39:52.596703Z",
     "iopub.status.idle": "2022-01-19T14:39:53.886265Z",
     "shell.execute_reply": "2022-01-19T14:39:53.884820Z",
     "shell.execute_reply.started": "2022-01-19T14:39:52.597366Z"
    },
    "tags": []
   },
   "outputs": [
    {
     "data": {
      "text/html": [
       "<div>\n",
       "<style scoped>\n",
       "    .dataframe tbody tr th:only-of-type {\n",
       "        vertical-align: middle;\n",
       "    }\n",
       "\n",
       "    .dataframe tbody tr th {\n",
       "        vertical-align: top;\n",
       "    }\n",
       "\n",
       "    .dataframe thead th {\n",
       "        text-align: right;\n",
       "    }\n",
       "</style>\n",
       "<table border=\"1\" class=\"dataframe\">\n",
       "  <thead>\n",
       "    <tr style=\"text-align: right;\">\n",
       "      <th></th>\n",
       "      <th>index</th>\n",
       "      <th>registerDate</th>\n",
       "      <th>lastvisitDate</th>\n",
       "      <th>duration</th>\n",
       "    </tr>\n",
       "  </thead>\n",
       "  <tbody>\n",
       "    <tr>\n",
       "      <th>0</th>\n",
       "      <td>19</td>\n",
       "      <td>2005-07-28 01:28:13</td>\n",
       "      <td>2015-02-18 17:03:45</td>\n",
       "      <td>3.54</td>\n",
       "    </tr>\n",
       "    <tr>\n",
       "      <th>1</th>\n",
       "      <td>26</td>\n",
       "      <td>2006-04-24 15:38:15</td>\n",
       "      <td>2007-11-12 00:56:00</td>\n",
       "      <td>2.75</td>\n",
       "    </tr>\n",
       "  </tbody>\n",
       "</table>\n",
       "</div>"
      ],
      "text/plain": [
       "   index        registerDate       lastvisitDate  duration\n",
       "0     19 2005-07-28 01:28:13 2015-02-18 17:03:45      3.54\n",
       "1     26 2006-04-24 15:38:15 2007-11-12 00:56:00      2.75"
      ]
     },
     "metadata": {},
     "output_type": "display_data"
    },
    {
     "data": {
      "text/html": [
       "<div>\n",
       "<style scoped>\n",
       "    .dataframe tbody tr th:only-of-type {\n",
       "        vertical-align: middle;\n",
       "    }\n",
       "\n",
       "    .dataframe tbody tr th {\n",
       "        vertical-align: top;\n",
       "    }\n",
       "\n",
       "    .dataframe thead th {\n",
       "        text-align: right;\n",
       "    }\n",
       "</style>\n",
       "<table border=\"1\" class=\"dataframe\">\n",
       "  <thead>\n",
       "    <tr style=\"text-align: right;\">\n",
       "      <th></th>\n",
       "      <th>index</th>\n",
       "      <th>registerDate</th>\n",
       "      <th>lastvisitDate</th>\n",
       "      <th>duration</th>\n",
       "    </tr>\n",
       "  </thead>\n",
       "  <tbody>\n",
       "    <tr>\n",
       "      <th>62032</th>\n",
       "      <td>63432</td>\n",
       "      <td>2021-04-24 13:32:18</td>\n",
       "      <td>2021-04-25 18:45:02</td>\n",
       "      <td>0.0</td>\n",
       "    </tr>\n",
       "    <tr>\n",
       "      <th>62033</th>\n",
       "      <td>63433</td>\n",
       "      <td>2021-04-24 19:07:31</td>\n",
       "      <td>2021-04-24 19:07:34</td>\n",
       "      <td>-inf</td>\n",
       "    </tr>\n",
       "  </tbody>\n",
       "</table>\n",
       "</div>"
      ],
      "text/plain": [
       "       index        registerDate       lastvisitDate  duration\n",
       "62032  63432 2021-04-24 13:32:18 2021-04-25 18:45:02       0.0\n",
       "62033  63433 2021-04-24 19:07:31 2021-04-24 19:07:34      -inf"
      ]
     },
     "metadata": {},
     "output_type": "display_data"
    }
   ],
   "source": [
    "clustered_dates2['duration'] = [np.round(np.log10(i.days),2) for i in clustered_dates2['duration'].to_list()]\n",
    "display(clustered_dates2.head(2))\n",
    "display(clustered_dates2.tail(2))"
   ]
  },
  {
   "cell_type": "code",
   "execution_count": 15,
   "metadata": {
    "execution": {
     "iopub.execute_input": "2022-01-19T14:39:53.889060Z",
     "iopub.status.busy": "2022-01-19T14:39:53.887597Z",
     "iopub.status.idle": "2022-01-19T14:39:53.897611Z",
     "shell.execute_reply": "2022-01-19T14:39:53.896611Z",
     "shell.execute_reply.started": "2022-01-19T14:39:53.888989Z"
    },
    "tags": []
   },
   "outputs": [],
   "source": [
    "# 50 bins - log days\n",
    "max_log_interval = 4 #base 10\n",
    "bins = 50\n",
    "# 1 day, 2 day, 3 day, 4, 5, 6, 1 week, 2 week, 1 month, 2 month, 1 year, \n",
    "bin_vals = [np.round(4/50*(i+1),2) for i in range(bins)] #these are the ending bin vals\n",
    "bin_vals2 = [np.round(4/50*(i+1),2) for i in range(bins)] #these are the ending bin vals"
   ]
  },
  {
   "cell_type": "code",
   "execution_count": 16,
   "metadata": {
    "execution": {
     "iopub.execute_input": "2022-01-19T14:39:53.900770Z",
     "iopub.status.busy": "2022-01-19T14:39:53.898852Z",
     "iopub.status.idle": "2022-01-19T14:39:53.946387Z",
     "shell.execute_reply": "2022-01-19T14:39:53.945502Z",
     "shell.execute_reply.started": "2022-01-19T14:39:53.900684Z"
    },
    "tags": []
   },
   "outputs": [],
   "source": [
    "clustered_user_vals = []\n",
    "for i,j in enumerate(bin_vals):\n",
    "    if i == 0:\n",
    "#         clustered_user_vals.append(clustered_dates[clustered_dates['lastvisitDate'].isna()].shape[0]\\\n",
    "#                                   +len(np.where(clustered_dates2['duration'] == 1)[0]))\n",
    "        h_thresh = j\n",
    "        l_thresh = 0\n",
    "        clustered_user_vals.append(len(np.where((clustered_dates2['duration'] < h_thresh))[0]))\n",
    "    else:\n",
    "        h_thresh = j\n",
    "        l_thresh = bin_vals[i-1]\n",
    "        clustered_user_vals.append(len(np.where((clustered_dates2['duration'] > l_thresh) \\\n",
    "                                    & (clustered_dates2['duration'] < h_thresh))[0]))        \n",
    "\n",
    "        "
   ]
  },
  {
   "cell_type": "code",
   "execution_count": 17,
   "metadata": {
    "execution": {
     "iopub.execute_input": "2022-01-19T14:39:53.948230Z",
     "iopub.status.busy": "2022-01-19T14:39:53.947484Z",
     "iopub.status.idle": "2022-01-19T14:39:53.959386Z",
     "shell.execute_reply": "2022-01-19T14:39:53.957808Z",
     "shell.execute_reply.started": "2022-01-19T14:39:53.948189Z"
    },
    "tags": []
   },
   "outputs": [
    {
     "data": {
      "text/plain": [
       "15078"
      ]
     },
     "execution_count": 17,
     "metadata": {},
     "output_type": "execute_result"
    }
   ],
   "source": [
    "clustered_user_vals[0]"
   ]
  },
  {
   "cell_type": "code",
   "execution_count": 18,
   "metadata": {
    "execution": {
     "iopub.execute_input": "2022-01-19T14:39:53.963412Z",
     "iopub.status.busy": "2022-01-19T14:39:53.961391Z",
     "iopub.status.idle": "2022-01-19T14:39:53.971612Z",
     "shell.execute_reply": "2022-01-19T14:39:53.970476Z",
     "shell.execute_reply.started": "2022-01-19T14:39:53.963268Z"
    },
    "tags": []
   },
   "outputs": [],
   "source": [
    "clustered_user_vals2 = []\n",
    "for i in clustered_user_vals:\n",
    "    if i != 0:\n",
    "        clustered_user_vals2.append(np.log10(i))\n",
    "    else:\n",
    "        clustered_user_vals2.append(0)"
   ]
  },
  {
   "cell_type": "code",
   "execution_count": 19,
   "metadata": {
    "execution": {
     "iopub.execute_input": "2022-01-19T14:39:53.977070Z",
     "iopub.status.busy": "2022-01-19T14:39:53.976202Z",
     "iopub.status.idle": "2022-01-19T14:39:53.982063Z",
     "shell.execute_reply": "2022-01-19T14:39:53.981219Z",
     "shell.execute_reply.started": "2022-01-19T14:39:53.977016Z"
    },
    "tags": []
   },
   "outputs": [],
   "source": [
    "## import flags and plot"
   ]
  },
  {
   "cell_type": "code",
   "execution_count": 20,
   "metadata": {
    "execution": {
     "iopub.execute_input": "2022-01-19T14:39:53.984042Z",
     "iopub.status.busy": "2022-01-19T14:39:53.983465Z",
     "iopub.status.idle": "2022-01-19T14:39:53.992178Z",
     "shell.execute_reply": "2022-01-19T14:39:53.990435Z",
     "shell.execute_reply.started": "2022-01-19T14:39:53.983994Z"
    },
    "tags": []
   },
   "outputs": [],
   "source": [
    "import re"
   ]
  },
  {
   "cell_type": "code",
   "execution_count": 21,
   "metadata": {
    "execution": {
     "iopub.execute_input": "2022-01-19T14:39:53.995602Z",
     "iopub.status.busy": "2022-01-19T14:39:53.994814Z",
     "iopub.status.idle": "2022-01-19T14:39:54.008745Z",
     "shell.execute_reply": "2022-01-19T14:39:54.007540Z",
     "shell.execute_reply.started": "2022-01-19T14:39:53.995539Z"
    },
    "tags": []
   },
   "outputs": [],
   "source": [
    "## read the dev_flags.txt to determine where to save\n",
    "with open(cwd+'/dev_flags.txt','r') as f:\n",
    "    raw_flags = f.read()\n",
    "flag_pattern = re.compile(r'= \\w+')\n",
    "flags1 = re.findall(flag_pattern,raw_flags)    \n",
    "flags_result = [i[2:] for i in flags1]\n",
    "dev_flag = flags_result[0]\n",
    "prod_flag = flags_result[1]"
   ]
  },
  {
   "cell_type": "code",
   "execution_count": 22,
   "metadata": {
    "execution": {
     "iopub.execute_input": "2022-01-19T14:39:54.011584Z",
     "iopub.status.busy": "2022-01-19T14:39:54.010867Z",
     "iopub.status.idle": "2022-01-19T14:39:55.421036Z",
     "shell.execute_reply": "2022-01-19T14:39:55.420207Z",
     "shell.execute_reply.started": "2022-01-19T14:39:54.011531Z"
    },
    "tags": []
   },
   "outputs": [],
   "source": [
    "import matplotlib.pyplot as plt\n",
    "import seaborn as sns"
   ]
  },
  {
   "cell_type": "code",
   "execution_count": 23,
   "metadata": {
    "execution": {
     "iopub.execute_input": "2022-01-19T14:39:55.423545Z",
     "iopub.status.busy": "2022-01-19T14:39:55.422748Z",
     "iopub.status.idle": "2022-01-19T14:39:57.870823Z",
     "shell.execute_reply": "2022-01-19T14:39:57.869212Z",
     "shell.execute_reply.started": "2022-01-19T14:39:55.423489Z"
    },
    "tags": []
   },
   "outputs": [
    {
     "data": {
      "image/png": "[encoded data removed]",
      "text/plain": [
       "<Figure size 432x288 with 1 Axes>"
      ]
     },
     "metadata": {
      "needs_background": "light"
     },
     "output_type": "display_data"
    }
   ],
   "source": [
    "plt.figure()\n",
    "plt.hist(bin_vals2,bins=bin_vals2,weights=clustered_user_vals,align='left',color='green',edgecolor='white', linewidth=1)\n",
    "plt.xlabel('User Lifetime (log days)')\n",
    "plt.xticks(np.arange(0,4.5,0.5))\n",
    "plt.ylim([0,2500])\n",
    "plt.ylabel('# of Users (log)')\n",
    "\n",
    "if dev_flag == 'True':\n",
    "    plt.savefig(cwd+'/plots_local/simuser_lifetime_class.eps', dpi=1000, bbox_inches='tight')\n",
    "    plt.savefig(cwd+'/plots_local/simuser_lifetime_class.pdf', dpi=1000, bbox_inches='tight')\n",
    "    plt.savefig(cwd+'/plots_local/simuser_lifetime_class.png', dpi=1000, bbox_inches='tight')\n",
    "elif prod_flag == 'True':\n",
    "    plt.savefig(cwd+'/plots_production/simuser_lifetime_class.eps', dpi=1000, bbox_inches='tight')\n",
    "    plt.savefig(cwd+'/plots_production/simuser_lifetime_class.pdf', dpi=1000, bbox_inches='tight')\n",
    "    plt.savefig(cwd+'/plots_production/simuser_lifetime_class.png', dpi=1000, bbox_inches='tight')\n",
    "else:\n",
    "    print('no printing flag is active')"
   ]
  },
  {
   "cell_type": "code",
   "execution_count": 24,
   "metadata": {
    "execution": {
     "iopub.execute_input": "2022-01-19T14:39:57.878331Z",
     "iopub.status.busy": "2022-01-19T14:39:57.876513Z",
     "iopub.status.idle": "2022-01-19T14:39:57.904966Z",
     "shell.execute_reply": "2022-01-19T14:39:57.904261Z",
     "shell.execute_reply.started": "2022-01-19T14:39:57.878270Z"
    },
    "tags": []
   },
   "outputs": [],
   "source": [
    "tss_username = ss_df['username'].dropna().to_list()"
   ]
  },
  {
   "cell_type": "code",
   "execution_count": 25,
   "metadata": {
    "execution": {
     "iopub.execute_input": "2022-01-19T14:39:57.907036Z",
     "iopub.status.busy": "2022-01-19T14:39:57.906536Z",
     "iopub.status.idle": "2022-01-19T14:39:57.969257Z",
     "shell.execute_reply": "2022-01-19T14:39:57.967810Z",
     "shell.execute_reply.started": "2022-01-19T14:39:57.906934Z"
    },
    "tags": []
   },
   "outputs": [],
   "source": [
    "sql_query = \"select registerDate, lastvisitDate from jos_users where username in \" + str(tuple(ss_df['username'].dropna()))"
   ]
  },
  {
   "cell_type": "code",
   "execution_count": 26,
   "metadata": {
    "execution": {
     "iopub.execute_input": "2022-01-19T14:39:57.971754Z",
     "iopub.status.busy": "2022-01-19T14:39:57.970902Z",
     "iopub.status.idle": "2022-01-19T14:40:09.977435Z",
     "shell.execute_reply": "2022-01-19T14:40:09.976326Z",
     "shell.execute_reply.started": "2022-01-19T14:39:57.971696Z"
    },
    "tags": []
   },
   "outputs": [
    {
     "data": {
      "text/html": [
       "<div>\n",
       "<style scoped>\n",
       "    .dataframe tbody tr th:only-of-type {\n",
       "        vertical-align: middle;\n",
       "    }\n",
       "\n",
       "    .dataframe tbody tr th {\n",
       "        vertical-align: top;\n",
       "    }\n",
       "\n",
       "    .dataframe thead th {\n",
       "        text-align: right;\n",
       "    }\n",
       "</style>\n",
       "<table border=\"1\" class=\"dataframe\">\n",
       "  <thead>\n",
       "    <tr style=\"text-align: right;\">\n",
       "      <th></th>\n",
       "      <th>registerDate</th>\n",
       "      <th>lastvisitDate</th>\n",
       "    </tr>\n",
       "  </thead>\n",
       "  <tbody>\n",
       "    <tr>\n",
       "      <th>0</th>\n",
       "      <td>2014-11-13 21:09:09</td>\n",
       "      <td>NaT</td>\n",
       "    </tr>\n",
       "    <tr>\n",
       "      <th>1</th>\n",
       "      <td>2008-11-19 22:51:04</td>\n",
       "      <td>2008-11-19 23:55:30</td>\n",
       "    </tr>\n",
       "    <tr>\n",
       "      <th>2</th>\n",
       "      <td>2008-11-18 17:29:56</td>\n",
       "      <td>2020-02-14 18:50:14</td>\n",
       "    </tr>\n",
       "    <tr>\n",
       "      <th>3</th>\n",
       "      <td>2008-11-11 19:17:04</td>\n",
       "      <td>NaT</td>\n",
       "    </tr>\n",
       "    <tr>\n",
       "      <th>4</th>\n",
       "      <td>2014-06-26 19:38:57</td>\n",
       "      <td>NaT</td>\n",
       "    </tr>\n",
       "    <tr>\n",
       "      <th>...</th>\n",
       "      <td>...</td>\n",
       "      <td>...</td>\n",
       "    </tr>\n",
       "    <tr>\n",
       "      <th>188026</th>\n",
       "      <td>2021-08-01 17:53:40</td>\n",
       "      <td>2021-08-01 17:53:41</td>\n",
       "    </tr>\n",
       "    <tr>\n",
       "      <th>188027</th>\n",
       "      <td>2021-08-01 22:20:59</td>\n",
       "      <td>2021-08-01 22:53:51</td>\n",
       "    </tr>\n",
       "    <tr>\n",
       "      <th>188028</th>\n",
       "      <td>2021-08-02 02:45:13</td>\n",
       "      <td>2021-08-02 02:51:15</td>\n",
       "    </tr>\n",
       "    <tr>\n",
       "      <th>188029</th>\n",
       "      <td>2021-08-02 02:49:15</td>\n",
       "      <td>NaT</td>\n",
       "    </tr>\n",
       "    <tr>\n",
       "      <th>188030</th>\n",
       "      <td>2021-08-31 16:11:10</td>\n",
       "      <td>NaT</td>\n",
       "    </tr>\n",
       "  </tbody>\n",
       "</table>\n",
       "<p>188031 rows × 2 columns</p>\n",
       "</div>"
      ],
      "text/plain": [
       "              registerDate       lastvisitDate\n",
       "0      2014-11-13 21:09:09                 NaT\n",
       "1      2008-11-19 22:51:04 2008-11-19 23:55:30\n",
       "2      2008-11-18 17:29:56 2020-02-14 18:50:14\n",
       "3      2008-11-11 19:17:04                 NaT\n",
       "4      2014-06-26 19:38:57                 NaT\n",
       "...                    ...                 ...\n",
       "188026 2021-08-01 17:53:40 2021-08-01 17:53:41\n",
       "188027 2021-08-01 22:20:59 2021-08-01 22:53:51\n",
       "188028 2021-08-02 02:45:13 2021-08-02 02:51:15\n",
       "188029 2021-08-02 02:49:15                 NaT\n",
       "188030 2021-08-31 16:11:10                 NaT\n",
       "\n",
       "[188031 rows x 2 columns]"
      ]
     },
     "execution_count": 26,
     "metadata": {},
     "output_type": "execute_result"
    }
   ],
   "source": [
    "self_study_dates = pd.read_sql_query(sql_query,nanohub_db)\n",
    "self_study_dates"
   ]
  },
  {
   "cell_type": "code",
   "execution_count": 27,
   "metadata": {
    "execution": {
     "iopub.execute_input": "2022-01-19T14:40:09.982279Z",
     "iopub.status.busy": "2022-01-19T14:40:09.980700Z",
     "iopub.status.idle": "2022-01-19T14:40:10.025255Z",
     "shell.execute_reply": "2022-01-19T14:40:10.024242Z",
     "shell.execute_reply.started": "2022-01-19T14:40:09.982224Z"
    },
    "tags": []
   },
   "outputs": [
    {
     "data": {
      "text/html": [
       "<div>\n",
       "<style scoped>\n",
       "    .dataframe tbody tr th:only-of-type {\n",
       "        vertical-align: middle;\n",
       "    }\n",
       "\n",
       "    .dataframe tbody tr th {\n",
       "        vertical-align: top;\n",
       "    }\n",
       "\n",
       "    .dataframe thead th {\n",
       "        text-align: right;\n",
       "    }\n",
       "</style>\n",
       "<table border=\"1\" class=\"dataframe\">\n",
       "  <thead>\n",
       "    <tr style=\"text-align: right;\">\n",
       "      <th></th>\n",
       "      <th>index</th>\n",
       "      <th>registerDate</th>\n",
       "      <th>lastvisitDate</th>\n",
       "      <th>duration</th>\n",
       "    </tr>\n",
       "  </thead>\n",
       "  <tbody>\n",
       "    <tr>\n",
       "      <th>0</th>\n",
       "      <td>1</td>\n",
       "      <td>2008-11-19 22:51:04</td>\n",
       "      <td>2008-11-19 23:55:30</td>\n",
       "      <td>0 days 01:04:26</td>\n",
       "    </tr>\n",
       "    <tr>\n",
       "      <th>1</th>\n",
       "      <td>2</td>\n",
       "      <td>2008-11-18 17:29:56</td>\n",
       "      <td>2020-02-14 18:50:14</td>\n",
       "      <td>4105 days 01:20:18</td>\n",
       "    </tr>\n",
       "  </tbody>\n",
       "</table>\n",
       "</div>"
      ],
      "text/plain": [
       "   index        registerDate       lastvisitDate           duration\n",
       "0      1 2008-11-19 22:51:04 2008-11-19 23:55:30    0 days 01:04:26\n",
       "1      2 2008-11-18 17:29:56 2020-02-14 18:50:14 4105 days 01:20:18"
      ]
     },
     "metadata": {},
     "output_type": "display_data"
    }
   ],
   "source": [
    "## determine time diffs\n",
    "self_study_dates2 = self_study_dates[~self_study_dates['lastvisitDate'].isna()].reset_index()\n",
    "self_study_dates2['registerDate'] = pd.to_datetime(self_study_dates2['registerDate'])\n",
    "self_study_dates2['lastvisitDate'] = pd.to_datetime(self_study_dates2['lastvisitDate'])\n",
    "self_study_dates2['duration'] = self_study_dates2['lastvisitDate'].to_numpy() - self_study_dates2['registerDate'].to_numpy()\n",
    "display(self_study_dates2.head(2))"
   ]
  },
  {
   "cell_type": "code",
   "execution_count": 28,
   "metadata": {
    "execution": {
     "iopub.execute_input": "2022-01-19T14:40:10.028025Z",
     "iopub.status.busy": "2022-01-19T14:40:10.026623Z",
     "iopub.status.idle": "2022-01-19T14:40:13.636977Z",
     "shell.execute_reply": "2022-01-19T14:40:13.635523Z",
     "shell.execute_reply.started": "2022-01-19T14:40:10.027975Z"
    },
    "tags": []
   },
   "outputs": [
    {
     "data": {
      "text/html": [
       "<div>\n",
       "<style scoped>\n",
       "    .dataframe tbody tr th:only-of-type {\n",
       "        vertical-align: middle;\n",
       "    }\n",
       "\n",
       "    .dataframe tbody tr th {\n",
       "        vertical-align: top;\n",
       "    }\n",
       "\n",
       "    .dataframe thead th {\n",
       "        text-align: right;\n",
       "    }\n",
       "</style>\n",
       "<table border=\"1\" class=\"dataframe\">\n",
       "  <thead>\n",
       "    <tr style=\"text-align: right;\">\n",
       "      <th></th>\n",
       "      <th>index</th>\n",
       "      <th>registerDate</th>\n",
       "      <th>lastvisitDate</th>\n",
       "      <th>duration</th>\n",
       "    </tr>\n",
       "  </thead>\n",
       "  <tbody>\n",
       "    <tr>\n",
       "      <th>0</th>\n",
       "      <td>1</td>\n",
       "      <td>2008-11-19 22:51:04</td>\n",
       "      <td>2008-11-19 23:55:30</td>\n",
       "      <td>-inf</td>\n",
       "    </tr>\n",
       "    <tr>\n",
       "      <th>1</th>\n",
       "      <td>2</td>\n",
       "      <td>2008-11-18 17:29:56</td>\n",
       "      <td>2020-02-14 18:50:14</td>\n",
       "      <td>3.61</td>\n",
       "    </tr>\n",
       "  </tbody>\n",
       "</table>\n",
       "</div>"
      ],
      "text/plain": [
       "   index        registerDate       lastvisitDate  duration\n",
       "0      1 2008-11-19 22:51:04 2008-11-19 23:55:30      -inf\n",
       "1      2 2008-11-18 17:29:56 2020-02-14 18:50:14      3.61"
      ]
     },
     "metadata": {},
     "output_type": "display_data"
    },
    {
     "data": {
      "text/html": [
       "<div>\n",
       "<style scoped>\n",
       "    .dataframe tbody tr th:only-of-type {\n",
       "        vertical-align: middle;\n",
       "    }\n",
       "\n",
       "    .dataframe tbody tr th {\n",
       "        vertical-align: top;\n",
       "    }\n",
       "\n",
       "    .dataframe thead th {\n",
       "        text-align: right;\n",
       "    }\n",
       "</style>\n",
       "<table border=\"1\" class=\"dataframe\">\n",
       "  <thead>\n",
       "    <tr style=\"text-align: right;\">\n",
       "      <th></th>\n",
       "      <th>index</th>\n",
       "      <th>registerDate</th>\n",
       "      <th>lastvisitDate</th>\n",
       "      <th>duration</th>\n",
       "    </tr>\n",
       "  </thead>\n",
       "  <tbody>\n",
       "    <tr>\n",
       "      <th>175072</th>\n",
       "      <td>188027</td>\n",
       "      <td>2021-08-01 22:20:59</td>\n",
       "      <td>2021-08-01 22:53:51</td>\n",
       "      <td>-inf</td>\n",
       "    </tr>\n",
       "    <tr>\n",
       "      <th>175073</th>\n",
       "      <td>188028</td>\n",
       "      <td>2021-08-02 02:45:13</td>\n",
       "      <td>2021-08-02 02:51:15</td>\n",
       "      <td>-inf</td>\n",
       "    </tr>\n",
       "  </tbody>\n",
       "</table>\n",
       "</div>"
      ],
      "text/plain": [
       "         index        registerDate       lastvisitDate  duration\n",
       "175072  188027 2021-08-01 22:20:59 2021-08-01 22:53:51      -inf\n",
       "175073  188028 2021-08-02 02:45:13 2021-08-02 02:51:15      -inf"
      ]
     },
     "metadata": {},
     "output_type": "display_data"
    }
   ],
   "source": [
    "self_study_dates2['duration'] = [np.round(np.log10(i.days),2) for i in self_study_dates2['duration'].to_list()]\n",
    "display(self_study_dates2.head(2))\n",
    "display(self_study_dates2.tail(2))"
   ]
  },
  {
   "cell_type": "code",
   "execution_count": 29,
   "metadata": {
    "execution": {
     "iopub.execute_input": "2022-01-19T14:40:13.640434Z",
     "iopub.status.busy": "2022-01-19T14:40:13.638762Z",
     "iopub.status.idle": "2022-01-19T14:40:13.700265Z",
     "shell.execute_reply": "2022-01-19T14:40:13.699289Z",
     "shell.execute_reply.started": "2022-01-19T14:40:13.640353Z"
    },
    "tags": []
   },
   "outputs": [],
   "source": [
    "self_user_vals = []\n",
    "for i,j in enumerate(bin_vals):\n",
    "    if i == 0:\n",
    "#         clustered_user_vals.append(clustered_dates[clustered_dates['lastvisitDate'].isna()].shape[0]\\\n",
    "#                                   +len(np.where(clustered_dates2['duration'] == 1)[0]))\n",
    "        h_thresh = j\n",
    "        l_thresh = 0\n",
    "        self_user_vals.append(len(np.where((self_study_dates2['duration'] < h_thresh))[0]))\n",
    "    else:\n",
    "        h_thresh = j\n",
    "        l_thresh = bin_vals[i-1]\n",
    "        self_user_vals.append(len(np.where((self_study_dates2['duration'] > l_thresh) \\\n",
    "                                    & (self_study_dates2['duration'] < h_thresh))[0]))        \n",
    "\n",
    "        "
   ]
  },
  {
   "cell_type": "code",
   "execution_count": 30,
   "metadata": {
    "execution": {
     "iopub.execute_input": "2022-01-19T14:40:13.704750Z",
     "iopub.status.busy": "2022-01-19T14:40:13.702010Z",
     "iopub.status.idle": "2022-01-19T14:40:13.716324Z",
     "shell.execute_reply": "2022-01-19T14:40:13.714907Z",
     "shell.execute_reply.started": "2022-01-19T14:40:13.704692Z"
    },
    "tags": []
   },
   "outputs": [
    {
     "data": {
      "text/plain": [
       "[106407, 0, 0, 2325, 0]"
      ]
     },
     "execution_count": 30,
     "metadata": {},
     "output_type": "execute_result"
    }
   ],
   "source": [
    "self_user_vals[:5]"
   ]
  },
  {
   "cell_type": "code",
   "execution_count": 31,
   "metadata": {
    "execution": {
     "iopub.execute_input": "2022-01-19T14:40:13.719942Z",
     "iopub.status.busy": "2022-01-19T14:40:13.718603Z",
     "iopub.status.idle": "2022-01-19T14:40:15.977231Z",
     "shell.execute_reply": "2022-01-19T14:40:15.975916Z",
     "shell.execute_reply.started": "2022-01-19T14:40:13.719892Z"
    },
    "tags": []
   },
   "outputs": [
    {
     "data": {
      "image/png": "[encoded data removed]",
      "text/plain": [
       "<Figure size 432x288 with 1 Axes>"
      ]
     },
     "metadata": {
      "needs_background": "light"
     },
     "output_type": "display_data"
    }
   ],
   "source": [
    "plt.figure()\n",
    "plt.hist(bin_vals2,bins=bin_vals2,weights=self_user_vals,align='left',color='orange',edgecolor='white', linewidth=1)\n",
    "plt.xlabel('User Lifetime (log days)')\n",
    "plt.xticks(np.arange(0,4.5,0.5))\n",
    "plt.ylim([0,2500])\n",
    "plt.ylabel('# of Users')\n",
    "\n",
    "if dev_flag == 'True':\n",
    "    plt.savefig(cwd+'/plots_local/simuser_lifetime_unclass.eps', dpi=1000, bbox_inches='tight')\n",
    "    plt.savefig(cwd+'/plots_local/simuser_lifetime_unclass.pdf', dpi=1000, bbox_inches='tight')\n",
    "    plt.savefig(cwd+'/plots_local/simuser_lifetime_unclass.png', dpi=1000, bbox_inches='tight')\n",
    "elif prod_flag == 'True':\n",
    "    plt.savefig(cwd+'/plots_production/simuser_lifetime_unclass.eps', dpi=1000, bbox_inches='tight')\n",
    "    plt.savefig(cwd+'/plots_production/simuser_lifetime_unclass.pdf', dpi=1000, bbox_inches='tight')\n",
    "    plt.savefig(cwd+'/plots_production/simuser_lifetime_unclass.png', dpi=1000, bbox_inches='tight')\n",
    "else:\n",
    "    print('no printing flag is active')"
   ]
  },
  {
   "cell_type": "code",
   "execution_count": 32,
   "metadata": {
    "execution": {
     "iopub.execute_input": "2022-01-19T14:40:15.979865Z",
     "iopub.status.busy": "2022-01-19T14:40:15.978792Z",
     "iopub.status.idle": "2022-01-19T14:40:15.987414Z",
     "shell.execute_reply": "2022-01-19T14:40:15.985796Z",
     "shell.execute_reply.started": "2022-01-19T14:40:15.979805Z"
    },
    "tags": []
   },
   "outputs": [],
   "source": [
    "sql_query = \"select registerDate, lastvisitDate from jos_users where id in \" + str(tuple(research_df['nhid']))"
   ]
  },
  {
   "cell_type": "code",
   "execution_count": 33,
   "metadata": {
    "execution": {
     "iopub.execute_input": "2022-01-19T14:40:15.991499Z",
     "iopub.status.busy": "2022-01-19T14:40:15.989662Z",
     "iopub.status.idle": "2022-01-19T14:40:16.304792Z",
     "shell.execute_reply": "2022-01-19T14:40:16.303917Z",
     "shell.execute_reply.started": "2022-01-19T14:40:15.991409Z"
    },
    "tags": []
   },
   "outputs": [
    {
     "data": {
      "text/html": [
       "<div>\n",
       "<style scoped>\n",
       "    .dataframe tbody tr th:only-of-type {\n",
       "        vertical-align: middle;\n",
       "    }\n",
       "\n",
       "    .dataframe tbody tr th {\n",
       "        vertical-align: top;\n",
       "    }\n",
       "\n",
       "    .dataframe thead th {\n",
       "        text-align: right;\n",
       "    }\n",
       "</style>\n",
       "<table border=\"1\" class=\"dataframe\">\n",
       "  <thead>\n",
       "    <tr style=\"text-align: right;\">\n",
       "      <th></th>\n",
       "      <th>registerDate</th>\n",
       "      <th>lastvisitDate</th>\n",
       "    </tr>\n",
       "  </thead>\n",
       "  <tbody>\n",
       "    <tr>\n",
       "      <th>0</th>\n",
       "      <td>2001-01-27 20:18:35</td>\n",
       "      <td>NaT</td>\n",
       "    </tr>\n",
       "    <tr>\n",
       "      <th>1</th>\n",
       "      <td>2005-07-28 01:28:13</td>\n",
       "      <td>2015-02-18 17:03:45</td>\n",
       "    </tr>\n",
       "    <tr>\n",
       "      <th>2</th>\n",
       "      <td>2005-07-29 18:24:36</td>\n",
       "      <td>2012-10-02 17:22:20</td>\n",
       "    </tr>\n",
       "    <tr>\n",
       "      <th>3</th>\n",
       "      <td>2005-02-10 07:50:17</td>\n",
       "      <td>2010-10-04 16:13:47</td>\n",
       "    </tr>\n",
       "    <tr>\n",
       "      <th>4</th>\n",
       "      <td>2004-09-08 03:39:55</td>\n",
       "      <td>2012-10-19 04:20:20</td>\n",
       "    </tr>\n",
       "    <tr>\n",
       "      <th>...</th>\n",
       "      <td>...</td>\n",
       "      <td>...</td>\n",
       "    </tr>\n",
       "    <tr>\n",
       "      <th>2717</th>\n",
       "      <td>2021-07-17 14:17:26</td>\n",
       "      <td>2021-07-17 14:17:26</td>\n",
       "    </tr>\n",
       "    <tr>\n",
       "      <th>2718</th>\n",
       "      <td>2021-07-19 05:26:34</td>\n",
       "      <td>2021-07-23 08:25:18</td>\n",
       "    </tr>\n",
       "    <tr>\n",
       "      <th>2719</th>\n",
       "      <td>2021-07-23 14:45:50</td>\n",
       "      <td>2021-07-23 14:45:51</td>\n",
       "    </tr>\n",
       "    <tr>\n",
       "      <th>2720</th>\n",
       "      <td>2021-07-26 09:28:45</td>\n",
       "      <td>2021-09-01 13:55:03</td>\n",
       "    </tr>\n",
       "    <tr>\n",
       "      <th>2721</th>\n",
       "      <td>2021-07-28 18:01:20</td>\n",
       "      <td>2021-07-28 18:01:21</td>\n",
       "    </tr>\n",
       "  </tbody>\n",
       "</table>\n",
       "<p>2722 rows × 2 columns</p>\n",
       "</div>"
      ],
      "text/plain": [
       "            registerDate       lastvisitDate\n",
       "0    2001-01-27 20:18:35                 NaT\n",
       "1    2005-07-28 01:28:13 2015-02-18 17:03:45\n",
       "2    2005-07-29 18:24:36 2012-10-02 17:22:20\n",
       "3    2005-02-10 07:50:17 2010-10-04 16:13:47\n",
       "4    2004-09-08 03:39:55 2012-10-19 04:20:20\n",
       "...                  ...                 ...\n",
       "2717 2021-07-17 14:17:26 2021-07-17 14:17:26\n",
       "2718 2021-07-19 05:26:34 2021-07-23 08:25:18\n",
       "2719 2021-07-23 14:45:50 2021-07-23 14:45:51\n",
       "2720 2021-07-26 09:28:45 2021-09-01 13:55:03\n",
       "2721 2021-07-28 18:01:20 2021-07-28 18:01:21\n",
       "\n",
       "[2722 rows x 2 columns]"
      ]
     },
     "execution_count": 33,
     "metadata": {},
     "output_type": "execute_result"
    }
   ],
   "source": [
    "researcher_dates = pd.read_sql_query(sql_query,nanohub_db)\n",
    "researcher_dates"
   ]
  },
  {
   "cell_type": "code",
   "execution_count": 34,
   "metadata": {
    "execution": {
     "iopub.execute_input": "2022-01-19T14:40:16.306701Z",
     "iopub.status.busy": "2022-01-19T14:40:16.306265Z",
     "iopub.status.idle": "2022-01-19T14:40:16.336208Z",
     "shell.execute_reply": "2022-01-19T14:40:16.335279Z",
     "shell.execute_reply.started": "2022-01-19T14:40:16.306656Z"
    },
    "tags": []
   },
   "outputs": [
    {
     "data": {
      "text/html": [
       "<div>\n",
       "<style scoped>\n",
       "    .dataframe tbody tr th:only-of-type {\n",
       "        vertical-align: middle;\n",
       "    }\n",
       "\n",
       "    .dataframe tbody tr th {\n",
       "        vertical-align: top;\n",
       "    }\n",
       "\n",
       "    .dataframe thead th {\n",
       "        text-align: right;\n",
       "    }\n",
       "</style>\n",
       "<table border=\"1\" class=\"dataframe\">\n",
       "  <thead>\n",
       "    <tr style=\"text-align: right;\">\n",
       "      <th></th>\n",
       "      <th>index</th>\n",
       "      <th>registerDate</th>\n",
       "      <th>lastvisitDate</th>\n",
       "      <th>duration</th>\n",
       "    </tr>\n",
       "  </thead>\n",
       "  <tbody>\n",
       "    <tr>\n",
       "      <th>0</th>\n",
       "      <td>1</td>\n",
       "      <td>2005-07-28 01:28:13</td>\n",
       "      <td>2015-02-18 17:03:45</td>\n",
       "      <td>3492 days 15:35:32</td>\n",
       "    </tr>\n",
       "    <tr>\n",
       "      <th>1</th>\n",
       "      <td>2</td>\n",
       "      <td>2005-07-29 18:24:36</td>\n",
       "      <td>2012-10-02 17:22:20</td>\n",
       "      <td>2621 days 22:57:44</td>\n",
       "    </tr>\n",
       "  </tbody>\n",
       "</table>\n",
       "</div>"
      ],
      "text/plain": [
       "   index        registerDate       lastvisitDate           duration\n",
       "0      1 2005-07-28 01:28:13 2015-02-18 17:03:45 3492 days 15:35:32\n",
       "1      2 2005-07-29 18:24:36 2012-10-02 17:22:20 2621 days 22:57:44"
      ]
     },
     "metadata": {},
     "output_type": "display_data"
    }
   ],
   "source": [
    "## determine time diffs\n",
    "researcher_dates2 = researcher_dates[~researcher_dates['lastvisitDate'].isna()].reset_index()\n",
    "researcher_dates2['registerDate'] = pd.to_datetime(researcher_dates2['registerDate'])\n",
    "researcher_dates2['lastvisitDate'] = pd.to_datetime(researcher_dates2['lastvisitDate'])\n",
    "researcher_dates2['duration'] = researcher_dates2['lastvisitDate'].to_numpy() - researcher_dates2['registerDate'].to_numpy()\n",
    "display(researcher_dates2.head(2))"
   ]
  },
  {
   "cell_type": "code",
   "execution_count": 35,
   "metadata": {
    "execution": {
     "iopub.execute_input": "2022-01-19T14:40:16.340386Z",
     "iopub.status.busy": "2022-01-19T14:40:16.340081Z",
     "iopub.status.idle": "2022-01-19T14:40:16.427216Z",
     "shell.execute_reply": "2022-01-19T14:40:16.425487Z",
     "shell.execute_reply.started": "2022-01-19T14:40:16.340344Z"
    },
    "tags": []
   },
   "outputs": [
    {
     "data": {
      "text/html": [
       "<div>\n",
       "<style scoped>\n",
       "    .dataframe tbody tr th:only-of-type {\n",
       "        vertical-align: middle;\n",
       "    }\n",
       "\n",
       "    .dataframe tbody tr th {\n",
       "        vertical-align: top;\n",
       "    }\n",
       "\n",
       "    .dataframe thead th {\n",
       "        text-align: right;\n",
       "    }\n",
       "</style>\n",
       "<table border=\"1\" class=\"dataframe\">\n",
       "  <thead>\n",
       "    <tr style=\"text-align: right;\">\n",
       "      <th></th>\n",
       "      <th>index</th>\n",
       "      <th>registerDate</th>\n",
       "      <th>lastvisitDate</th>\n",
       "      <th>duration</th>\n",
       "    </tr>\n",
       "  </thead>\n",
       "  <tbody>\n",
       "    <tr>\n",
       "      <th>0</th>\n",
       "      <td>1</td>\n",
       "      <td>2005-07-28 01:28:13</td>\n",
       "      <td>2015-02-18 17:03:45</td>\n",
       "      <td>3.54</td>\n",
       "    </tr>\n",
       "    <tr>\n",
       "      <th>1</th>\n",
       "      <td>2</td>\n",
       "      <td>2005-07-29 18:24:36</td>\n",
       "      <td>2012-10-02 17:22:20</td>\n",
       "      <td>3.42</td>\n",
       "    </tr>\n",
       "  </tbody>\n",
       "</table>\n",
       "</div>"
      ],
      "text/plain": [
       "   index        registerDate       lastvisitDate  duration\n",
       "0      1 2005-07-28 01:28:13 2015-02-18 17:03:45      3.54\n",
       "1      2 2005-07-29 18:24:36 2012-10-02 17:22:20      3.42"
      ]
     },
     "metadata": {},
     "output_type": "display_data"
    },
    {
     "data": {
      "text/html": [
       "<div>\n",
       "<style scoped>\n",
       "    .dataframe tbody tr th:only-of-type {\n",
       "        vertical-align: middle;\n",
       "    }\n",
       "\n",
       "    .dataframe tbody tr th {\n",
       "        vertical-align: top;\n",
       "    }\n",
       "\n",
       "    .dataframe thead th {\n",
       "        text-align: right;\n",
       "    }\n",
       "</style>\n",
       "<table border=\"1\" class=\"dataframe\">\n",
       "  <thead>\n",
       "    <tr style=\"text-align: right;\">\n",
       "      <th></th>\n",
       "      <th>index</th>\n",
       "      <th>registerDate</th>\n",
       "      <th>lastvisitDate</th>\n",
       "      <th>duration</th>\n",
       "    </tr>\n",
       "  </thead>\n",
       "  <tbody>\n",
       "    <tr>\n",
       "      <th>2596</th>\n",
       "      <td>2720</td>\n",
       "      <td>2021-07-26 09:28:45</td>\n",
       "      <td>2021-09-01 13:55:03</td>\n",
       "      <td>1.57</td>\n",
       "    </tr>\n",
       "    <tr>\n",
       "      <th>2597</th>\n",
       "      <td>2721</td>\n",
       "      <td>2021-07-28 18:01:20</td>\n",
       "      <td>2021-07-28 18:01:21</td>\n",
       "      <td>-inf</td>\n",
       "    </tr>\n",
       "  </tbody>\n",
       "</table>\n",
       "</div>"
      ],
      "text/plain": [
       "      index        registerDate       lastvisitDate  duration\n",
       "2596   2720 2021-07-26 09:28:45 2021-09-01 13:55:03      1.57\n",
       "2597   2721 2021-07-28 18:01:20 2021-07-28 18:01:21      -inf"
      ]
     },
     "metadata": {},
     "output_type": "display_data"
    }
   ],
   "source": [
    "researcher_dates2['duration'] = [np.round(np.log10(i.days),2) for i in researcher_dates2['duration'].to_list()]\n",
    "display(researcher_dates2.head(2))\n",
    "display(researcher_dates2.tail(2))"
   ]
  },
  {
   "cell_type": "code",
   "execution_count": 36,
   "metadata": {
    "execution": {
     "iopub.execute_input": "2022-01-19T14:40:16.429476Z",
     "iopub.status.busy": "2022-01-19T14:40:16.428650Z",
     "iopub.status.idle": "2022-01-19T14:40:16.463175Z",
     "shell.execute_reply": "2022-01-19T14:40:16.461917Z",
     "shell.execute_reply.started": "2022-01-19T14:40:16.429423Z"
    },
    "tags": []
   },
   "outputs": [],
   "source": [
    "researcher_vals = []\n",
    "for i,j in enumerate(bin_vals):\n",
    "    if i == 0:\n",
    "#         clustered_user_vals.append(clustered_dates[clustered_dates['lastvisitDate'].isna()].shape[0]\\\n",
    "#                                   +len(np.where(clustered_dates2['duration'] == 1)[0]))\n",
    "        h_thresh = j\n",
    "        l_thresh = 0\n",
    "        researcher_vals.append(len(np.where((researcher_dates2['duration'] < h_thresh))[0]))\n",
    "    else:\n",
    "        h_thresh = j\n",
    "        l_thresh = bin_vals[i-1]\n",
    "        researcher_vals.append(len(np.where((researcher_dates2['duration'] > l_thresh) \\\n",
    "                                    & (researcher_dates2['duration'] < h_thresh))[0]))        \n",
    "\n",
    "        "
   ]
  },
  {
   "cell_type": "code",
   "execution_count": 37,
   "metadata": {
    "execution": {
     "iopub.execute_input": "2022-01-19T14:40:16.468350Z",
     "iopub.status.busy": "2022-01-19T14:40:16.468045Z",
     "iopub.status.idle": "2022-01-19T14:40:16.484625Z",
     "shell.execute_reply": "2022-01-19T14:40:16.483081Z",
     "shell.execute_reply.started": "2022-01-19T14:40:16.468311Z"
    },
    "tags": []
   },
   "outputs": [
    {
     "data": {
      "text/plain": [
       "[664, 0]"
      ]
     },
     "execution_count": 37,
     "metadata": {},
     "output_type": "execute_result"
    }
   ],
   "source": [
    "researcher_vals[:2]"
   ]
  },
  {
   "cell_type": "code",
   "execution_count": 38,
   "metadata": {
    "execution": {
     "iopub.execute_input": "2022-01-19T14:40:16.488298Z",
     "iopub.status.busy": "2022-01-19T14:40:16.487080Z",
     "iopub.status.idle": "2022-01-19T14:40:18.997337Z",
     "shell.execute_reply": "2022-01-19T14:40:18.995923Z",
     "shell.execute_reply.started": "2022-01-19T14:40:16.488223Z"
    },
    "tags": []
   },
   "outputs": [
    {
     "data": {
      "image/png": "[encoded data removed]",
      "text/plain": [
       "<Figure size 432x288 with 1 Axes>"
      ]
     },
     "metadata": {
      "needs_background": "light"
     },
     "output_type": "display_data"
    }
   ],
   "source": [
    "plt.figure()\n",
    "plt.hist(bin_vals2,bins=bin_vals2,weights=researcher_vals,align='left',color='red',edgecolor='white', linewidth=1)\n",
    "plt.xlabel('User Lifetime (log days)')\n",
    "plt.xticks(np.arange(0,4.5,0.5))\n",
    "plt.ylim([0,200])\n",
    "plt.ylabel('# of Users')\n",
    "\n",
    "if dev_flag == 'True':\n",
    "    plt.savefig(cwd+'/plots_local/simuser_lifetime_research.eps', dpi=1000, bbox_inches='tight')\n",
    "    plt.savefig(cwd+'/plots_local/simuser_lifetime_research.pdf', dpi=1000, bbox_inches='tight')\n",
    "    plt.savefig(cwd+'/plots_local/simuser_lifetime_research.png', dpi=1000, bbox_inches='tight')\n",
    "elif prod_flag == 'True':\n",
    "    plt.savefig(cwd+'/plots_production/simuser_lifetime_research.eps', dpi=1000, bbox_inches='tight')\n",
    "    plt.savefig(cwd+'/plots_production/simuser_lifetime_research.pdf', dpi=1000, bbox_inches='tight')\n",
    "    plt.savefig(cwd+'/plots_production/simuser_lifetime_research.png', dpi=1000, bbox_inches='tight')\n",
    "else:\n",
    "    print('no printing flag is active')"
   ]
  },
  {
   "cell_type": "code",
   "execution_count": null,
   "metadata": {},
   "outputs": [],
   "source": []
  },
  {
   "cell_type": "code",
   "execution_count": null,
   "metadata": {},
   "outputs": [],
   "source": []
  },
  {
   "cell_type": "code",
   "execution_count": null,
   "metadata": {},
   "outputs": [],
   "source": []
  },
  {
   "cell_type": "code",
   "execution_count": null,
   "metadata": {},
   "outputs": [],
   "source": []
  },
  {
   "cell_type": "code",
   "execution_count": null,
   "metadata": {},
   "outputs": [],
   "source": []
  }
 ],
 "metadata": {
  "kernelspec": {
   "display_name": "Python 3 (ipykernel)",
   "language": "python",
   "name": "python3"
  },
  "language_info": {
   "codemirror_mode": {
    "name": "ipython",
    "version": 3
   },
   "file_extension": ".py",
   "mimetype": "text/x-python",
   "name": "python",
   "nbconvert_exporter": "python",
   "pygments_lexer": "ipython3",
   "version": "3.8.10"
  }
 },
 "nbformat": 4,
 "nbformat_minor": 4
}
