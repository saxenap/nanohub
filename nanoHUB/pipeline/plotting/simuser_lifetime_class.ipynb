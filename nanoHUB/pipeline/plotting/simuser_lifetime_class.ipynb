{
 "cells": [
  {
   "cell_type": "code",
   "execution_count": 1,
   "metadata": {
    "execution": {
     "iopub.execute_input": "2021-09-24T19:58:01.028727Z",
     "iopub.status.busy": "2021-09-24T19:58:01.027331Z",
     "iopub.status.idle": "2021-09-24T19:58:01.041588Z",
     "shell.execute_reply": "2021-09-24T19:58:01.039484Z",
     "shell.execute_reply.started": "2021-09-24T19:58:01.028294Z"
    },
    "tags": []
   },
   "outputs": [],
   "source": [
    "## build researcher events, student events, and self-study events\n",
    "## researcher are simply those with NH citations"
   ]
  },
  {
   "cell_type": "code",
   "execution_count": 2,
   "metadata": {
    "execution": {
     "iopub.execute_input": "2021-09-24T19:58:01.045251Z",
     "iopub.status.busy": "2021-09-24T19:58:01.044792Z",
     "iopub.status.idle": "2021-09-24T19:58:01.606847Z",
     "shell.execute_reply": "2021-09-24T19:58:01.605633Z",
     "shell.execute_reply.started": "2021-09-24T19:58:01.045219Z"
    },
    "tags": []
   },
   "outputs": [],
   "source": [
    "import sys\n",
    "import pandas as pd\n",
    "import time\n",
    "import datetime"
   ]
  },
  {
   "cell_type": "code",
   "execution_count": 3,
   "metadata": {
    "execution": {
     "iopub.execute_input": "2021-09-24T19:58:01.610783Z",
     "iopub.status.busy": "2021-09-24T19:58:01.610449Z",
     "iopub.status.idle": "2021-09-24T19:58:01.623133Z",
     "shell.execute_reply": "2021-09-24T19:58:01.619834Z",
     "shell.execute_reply.started": "2021-09-24T19:58:01.610752Z"
    },
    "tags": []
   },
   "outputs": [],
   "source": [
    "import warnings\n",
    "warnings.filterwarnings('ignore')\n",
    "# warnings.filterwarnings(action='once')\n",
    "warnings.simplefilter(action='ignore', category=FutureWarning)"
   ]
  },
  {
   "cell_type": "code",
   "execution_count": 4,
   "metadata": {
    "execution": {
     "iopub.execute_input": "2021-09-24T19:58:01.626765Z",
     "iopub.status.busy": "2021-09-24T19:58:01.626372Z",
     "iopub.status.idle": "2021-09-24T20:00:27.135094Z",
     "shell.execute_reply": "2021-09-24T20:00:27.131663Z",
     "shell.execute_reply.started": "2021-09-24T19:58:01.626726Z"
    },
    "tags": []
   },
   "outputs": [
    {
     "name": "stdout",
     "output_type": "stream",
     "text": [
      "\u001b[1mnanoHUB - Serving Students, Researchers & Instructors\u001b[0m\n",
      "[Error] %s {\"error\":\"invalid_client_id\",\"error_description\":\"client identifier invalid\"}\n"
     ]
    },
    {
     "ename": "RuntimeError",
     "evalue": "No active exception to reraise",
     "output_type": "error",
     "traceback": [
      "\u001b[0;31m---------------------------------------------------------------------------\u001b[0m",
      "\u001b[0;31mRuntimeError\u001b[0m                              Traceback (most recent call last)",
      "\u001b[0;32m/tmp/ipykernel_232/1249221270.py\u001b[0m in \u001b[0;36m<module>\u001b[0;34m\u001b[0m\n\u001b[1;32m      6\u001b[0m \u001b[0mwang159_myrmekes_db\u001b[0m \u001b[0;34m=\u001b[0m \u001b[0mapplication\u001b[0m\u001b[0;34m.\u001b[0m\u001b[0mnew_db_engine\u001b[0m\u001b[0;34m(\u001b[0m\u001b[0;34m'wang159_myrmekes'\u001b[0m\u001b[0;34m)\u001b[0m\u001b[0;34m\u001b[0m\u001b[0;34m\u001b[0m\u001b[0m\n\u001b[1;32m      7\u001b[0m \u001b[0;34m\u001b[0m\u001b[0m\n\u001b[0;32m----> 8\u001b[0;31m \u001b[0msalesforce\u001b[0m \u001b[0;34m=\u001b[0m \u001b[0mapplication\u001b[0m\u001b[0;34m.\u001b[0m\u001b[0mnew_salesforce_engine\u001b[0m\u001b[0;34m(\u001b[0m\u001b[0;34m)\u001b[0m\u001b[0;34m\u001b[0m\u001b[0;34m\u001b[0m\u001b[0m\n\u001b[0m\u001b[1;32m      9\u001b[0m \u001b[0mdb_s\u001b[0m \u001b[0;34m=\u001b[0m \u001b[0msalesforce\u001b[0m\u001b[0;34m\u001b[0m\u001b[0;34m\u001b[0m\u001b[0m\n",
      "\u001b[0;32m~/nanoHUB/nanoHUB/application.py\u001b[0m in \u001b[0;36mnew_salesforce_engine\u001b[0;34m(self)\u001b[0m\n\u001b[1;32m     17\u001b[0m     \u001b[0;32mdef\u001b[0m \u001b[0mnew_salesforce_engine\u001b[0m\u001b[0;34m(\u001b[0m\u001b[0mself\u001b[0m\u001b[0;34m)\u001b[0m \u001b[0;34m->\u001b[0m \u001b[0mDB2SalesforceAPI\u001b[0m\u001b[0;34m:\u001b[0m\u001b[0;34m\u001b[0m\u001b[0;34m\u001b[0m\u001b[0m\n\u001b[1;32m     18\u001b[0m \u001b[0;34m\u001b[0m\u001b[0m\n\u001b[0;32m---> 19\u001b[0;31m         \u001b[0;32mreturn\u001b[0m \u001b[0mself\u001b[0m\u001b[0;34m.\u001b[0m\u001b[0mcontainer\u001b[0m\u001b[0;34m.\u001b[0m\u001b[0msalesforce\u001b[0m\u001b[0;34m(\u001b[0m\u001b[0;34m)\u001b[0m\u001b[0;34m\u001b[0m\u001b[0;34m\u001b[0m\u001b[0m\n\u001b[0m\u001b[1;32m     20\u001b[0m \u001b[0;34m\u001b[0m\u001b[0m\n\u001b[1;32m     21\u001b[0m     \u001b[0;32mdef\u001b[0m \u001b[0mnew_google_api_engine\u001b[0m\u001b[0;34m(\u001b[0m\u001b[0mself\u001b[0m\u001b[0;34m)\u001b[0m\u001b[0;34m:\u001b[0m\u001b[0;34m\u001b[0m\u001b[0;34m\u001b[0m\u001b[0m\n",
      "\u001b[0;32msrc/dependency_injector/providers.pyx\u001b[0m in \u001b[0;36mdependency_injector.providers.Provider.__call__\u001b[0;34m()\u001b[0m\n",
      "\u001b[0;32msrc/dependency_injector/providers.pyx\u001b[0m in \u001b[0;36mdependency_injector.providers.Factory._provide\u001b[0;34m()\u001b[0m\n",
      "\u001b[0;32msrc/dependency_injector/providers.pxd\u001b[0m in \u001b[0;36mdependency_injector.providers.__factory_call\u001b[0;34m()\u001b[0m\n",
      "\u001b[0;32msrc/dependency_injector/providers.pxd\u001b[0m in \u001b[0;36mdependency_injector.providers.__callable_call\u001b[0;34m()\u001b[0m\n",
      "\u001b[0;32msrc/dependency_injector/providers.pxd\u001b[0m in \u001b[0;36mdependency_injector.providers.__call\u001b[0;34m()\u001b[0m\n",
      "\u001b[0;32m~/nanoHUB/nanoHUB/pipeline/salesforce/DB2SalesforceAPI.py\u001b[0m in \u001b[0;36m__init__\u001b[0;34m(self, sf_login_params)\u001b[0m\n\u001b[1;32m     21\u001b[0m         \u001b[0mself\u001b[0m\u001b[0;34m.\u001b[0m\u001b[0maccess_token\u001b[0m \u001b[0;34m=\u001b[0m \u001b[0;32mNone\u001b[0m\u001b[0;34m\u001b[0m\u001b[0;34m\u001b[0m\u001b[0m\n\u001b[1;32m     22\u001b[0m         \u001b[0;31m# Obtain access token\u001b[0m\u001b[0;34m\u001b[0m\u001b[0;34m\u001b[0m\u001b[0;34m\u001b[0m\u001b[0m\n\u001b[0;32m---> 23\u001b[0;31m         \u001b[0mself\u001b[0m\u001b[0;34m.\u001b[0m\u001b[0mobtain_token\u001b[0m\u001b[0;34m(\u001b[0m\u001b[0;34m)\u001b[0m\u001b[0;34m\u001b[0m\u001b[0;34m\u001b[0m\u001b[0m\n\u001b[0m\u001b[1;32m     24\u001b[0m \u001b[0;34m\u001b[0m\u001b[0m\n\u001b[1;32m     25\u001b[0m \u001b[0;34m\u001b[0m\u001b[0m\n",
      "\u001b[0;32m~/nanoHUB/nanoHUB/pipeline/salesforce/DB2SalesforceAPI.py\u001b[0m in \u001b[0;36mobtain_token\u001b[0;34m(self)\u001b[0m\n\u001b[1;32m     36\u001b[0m         \u001b[0;32melse\u001b[0m\u001b[0;34m:\u001b[0m\u001b[0;34m\u001b[0m\u001b[0;34m\u001b[0m\u001b[0m\n\u001b[1;32m     37\u001b[0m             \u001b[0mprint\u001b[0m\u001b[0;34m(\u001b[0m\u001b[0;34m'[Error] %s'\u001b[0m\u001b[0;34m,\u001b[0m \u001b[0mresponse\u001b[0m\u001b[0;34m.\u001b[0m\u001b[0mtext\u001b[0m\u001b[0;34m)\u001b[0m\u001b[0;34m\u001b[0m\u001b[0;34m\u001b[0m\u001b[0m\n\u001b[0;32m---> 38\u001b[0;31m             \u001b[0;32mraise\u001b[0m\u001b[0;34m\u001b[0m\u001b[0;34m\u001b[0m\u001b[0m\n\u001b[0m\u001b[1;32m     39\u001b[0m \u001b[0;34m\u001b[0m\u001b[0m\n\u001b[1;32m     40\u001b[0m     \u001b[0;32mdef\u001b[0m \u001b[0mquery_data\u001b[0m\u001b[0;34m(\u001b[0m\u001b[0mself\u001b[0m\u001b[0;34m,\u001b[0m \u001b[0mquery\u001b[0m\u001b[0;34m)\u001b[0m\u001b[0;34m:\u001b[0m\u001b[0;34m\u001b[0m\u001b[0;34m\u001b[0m\u001b[0m\n",
      "\u001b[0;31mRuntimeError\u001b[0m: No active exception to reraise"
     ]
    }
   ],
   "source": [
    "from nanoHUB.application import Application\n",
    "\n",
    "application = Application.get_instance()\n",
    "nanohub_db = application.new_db_engine('nanohub')\n",
    "nanohub_metrics_db = application.new_db_engine('nanohub_metrics')\n",
    "wang159_myrmekes_db = application.new_db_engine('wang159_myrmekes')\n",
    "\n",
    "salesforce = application.new_salesforce_engine()\n",
    "db_s = salesforce"
   ]
  },
  {
   "cell_type": "code",
   "execution_count": null,
   "metadata": {},
   "outputs": [],
   "source": []
  },
  {
   "cell_type": "markdown",
   "metadata": {},
   "source": [
    "## User Lifetime Comparison"
   ]
  },
  {
   "cell_type": "code",
   "execution_count": null,
   "metadata": {
    "execution": {
     "iopub.status.busy": "2021-09-24T20:00:27.136341Z",
     "iopub.status.idle": "2021-09-24T20:00:27.137559Z",
     "shell.execute_reply": "2021-09-24T20:00:27.137266Z",
     "shell.execute_reply.started": "2021-09-24T20:00:27.137169Z"
    }
   },
   "outputs": [],
   "source": [
    "#pull jos_users with the previously found self-study, classroom, and research users\n",
    "#then just compare the register vs last visit date"
   ]
  },
  {
   "cell_type": "code",
   "execution_count": null,
   "metadata": {
    "execution": {
     "iopub.status.busy": "2021-09-24T20:00:27.138901Z",
     "iopub.status.idle": "2021-09-24T20:00:27.140165Z",
     "shell.execute_reply": "2021-09-24T20:00:27.139975Z",
     "shell.execute_reply.started": "2021-09-24T20:00:27.139882Z"
    }
   },
   "outputs": [],
   "source": [
    "import os\n",
    "cwd = os.getcwd()"
   ]
  },
  {
   "cell_type": "code",
   "execution_count": null,
   "metadata": {
    "execution": {
     "iopub.status.busy": "2021-09-24T20:00:27.141237Z",
     "iopub.status.idle": "2021-09-24T20:00:27.142144Z",
     "shell.execute_reply": "2021-09-24T20:00:27.141891Z",
     "shell.execute_reply.started": "2021-09-24T20:00:27.141850Z"
    }
   },
   "outputs": [],
   "source": [
    "class_df = pd.read_csv(cwd+'/cached_data/class_ids.csv')\n",
    "ss_df = pd.read_csv(cwd+'/cached_data/ss_ids.csv')\n",
    "research_df = pd.read_csv(cwd+'/cached_data/researcher_ids.csv')"
   ]
  },
  {
   "cell_type": "code",
   "execution_count": null,
   "metadata": {
    "execution": {
     "iopub.status.busy": "2021-09-24T20:00:27.143655Z",
     "iopub.status.idle": "2021-09-24T20:00:27.144917Z",
     "shell.execute_reply": "2021-09-24T20:00:27.144630Z",
     "shell.execute_reply.started": "2021-09-24T20:00:27.144607Z"
    }
   },
   "outputs": [],
   "source": [
    "display(class_df.head(2))\n",
    "display(ss_df.head(2))\n",
    "display(research_df.head(2))"
   ]
  },
  {
   "cell_type": "code",
   "execution_count": null,
   "metadata": {
    "execution": {
     "iopub.status.busy": "2021-09-24T20:00:27.146162Z",
     "iopub.status.idle": "2021-09-24T20:00:27.147349Z",
     "shell.execute_reply": "2021-09-24T20:00:27.147166Z",
     "shell.execute_reply.started": "2021-09-24T20:00:27.147143Z"
    }
   },
   "outputs": [],
   "source": [
    "sql_query = \"select registerDate, lastvisitDate from jos_users where username in \" + str(tuple(class_df['username']))"
   ]
  },
  {
   "cell_type": "code",
   "execution_count": null,
   "metadata": {
    "execution": {
     "iopub.status.busy": "2021-09-24T20:00:27.148704Z",
     "iopub.status.idle": "2021-09-24T20:00:27.149892Z",
     "shell.execute_reply": "2021-09-24T20:00:27.149686Z",
     "shell.execute_reply.started": "2021-09-24T20:00:27.149609Z"
    }
   },
   "outputs": [],
   "source": [
    "clustered_dates = pd.read_sql_query(sql_query,nanohub_db)\n",
    "clustered_dates"
   ]
  },
  {
   "cell_type": "code",
   "execution_count": null,
   "metadata": {
    "execution": {
     "iopub.status.busy": "2021-09-24T20:00:27.152432Z",
     "iopub.status.idle": "2021-09-24T20:00:27.153704Z",
     "shell.execute_reply": "2021-09-24T20:00:27.153306Z",
     "shell.execute_reply.started": "2021-09-24T20:00:27.153268Z"
    }
   },
   "outputs": [],
   "source": [
    "clustered_dates[clustered_dates['lastvisitDate'].isna()].shape[0]"
   ]
  },
  {
   "cell_type": "code",
   "execution_count": null,
   "metadata": {
    "execution": {
     "iopub.status.busy": "2021-09-24T20:00:27.155486Z",
     "iopub.status.idle": "2021-09-24T20:00:27.157283Z",
     "shell.execute_reply": "2021-09-24T20:00:27.156977Z",
     "shell.execute_reply.started": "2021-09-24T20:00:27.156929Z"
    }
   },
   "outputs": [],
   "source": [
    "## determine time diffs\n",
    "clustered_dates2 = clustered_dates[~clustered_dates['lastvisitDate'].isna()].reset_index()\n",
    "clustered_dates2['registerDate'] = pd.to_datetime(clustered_dates2['registerDate'])\n",
    "clustered_dates2['lastvisitDate'] = pd.to_datetime(clustered_dates2['lastvisitDate'])\n",
    "clustered_dates2['duration'] = clustered_dates2['lastvisitDate'].to_numpy() - clustered_dates2['registerDate'].to_numpy()\n",
    "display(clustered_dates2.head(2))"
   ]
  },
  {
   "cell_type": "code",
   "execution_count": null,
   "metadata": {
    "execution": {
     "iopub.status.busy": "2021-09-24T20:00:27.159155Z",
     "iopub.status.idle": "2021-09-24T20:00:27.160915Z",
     "shell.execute_reply": "2021-09-24T20:00:27.160579Z",
     "shell.execute_reply.started": "2021-09-24T20:00:27.160468Z"
    }
   },
   "outputs": [],
   "source": [
    "import numpy as np"
   ]
  },
  {
   "cell_type": "code",
   "execution_count": null,
   "metadata": {
    "execution": {
     "iopub.status.busy": "2021-09-24T20:00:27.163200Z",
     "iopub.status.idle": "2021-09-24T20:00:27.164297Z",
     "shell.execute_reply": "2021-09-24T20:00:27.164116Z",
     "shell.execute_reply.started": "2021-09-24T20:00:27.164095Z"
    }
   },
   "outputs": [],
   "source": [
    "clustered_dates2['duration'] = [np.round(np.log10(i.days),2) for i in clustered_dates2['duration'].to_list()]\n",
    "display(clustered_dates2.head(2))\n",
    "display(clustered_dates2.tail(2))"
   ]
  },
  {
   "cell_type": "code",
   "execution_count": null,
   "metadata": {
    "execution": {
     "iopub.status.busy": "2021-09-24T20:00:27.165523Z",
     "iopub.status.idle": "2021-09-24T20:00:27.166648Z",
     "shell.execute_reply": "2021-09-24T20:00:27.166432Z",
     "shell.execute_reply.started": "2021-09-24T20:00:27.166412Z"
    }
   },
   "outputs": [],
   "source": [
    "# 50 bins - log days\n",
    "max_log_interval = 4 #base 10\n",
    "bins = 50\n",
    "# 1 day, 2 day, 3 day, 4, 5, 6, 1 week, 2 week, 1 month, 2 month, 1 year, \n",
    "bin_vals = [np.round(4/50*(i+1),2) for i in range(bins)] #these are the ending bin vals\n",
    "bin_vals2 = [np.round(4/50*(i+1),2) for i in range(bins)] #these are the ending bin vals"
   ]
  },
  {
   "cell_type": "code",
   "execution_count": null,
   "metadata": {
    "execution": {
     "iopub.status.busy": "2021-09-24T20:00:27.167700Z",
     "iopub.status.idle": "2021-09-24T20:00:27.168799Z",
     "shell.execute_reply": "2021-09-24T20:00:27.168586Z",
     "shell.execute_reply.started": "2021-09-24T20:00:27.168562Z"
    }
   },
   "outputs": [],
   "source": [
    "clustered_user_vals = []\n",
    "for i,j in enumerate(bin_vals):\n",
    "    if i == 0:\n",
    "#         clustered_user_vals.append(clustered_dates[clustered_dates['lastvisitDate'].isna()].shape[0]\\\n",
    "#                                   +len(np.where(clustered_dates2['duration'] == 1)[0]))\n",
    "        h_thresh = j\n",
    "        l_thresh = 0\n",
    "        clustered_user_vals.append(len(np.where((clustered_dates2['duration'] < h_thresh))[0]))\n",
    "    else:\n",
    "        h_thresh = j\n",
    "        l_thresh = bin_vals[i-1]\n",
    "        clustered_user_vals.append(len(np.where((clustered_dates2['duration'] > l_thresh) \\\n",
    "                                    & (clustered_dates2['duration'] < h_thresh))[0]))        \n",
    "\n",
    "        "
   ]
  },
  {
   "cell_type": "code",
   "execution_count": null,
   "metadata": {
    "execution": {
     "iopub.status.busy": "2021-09-24T20:00:27.170016Z",
     "iopub.status.idle": "2021-09-24T20:00:27.171024Z",
     "shell.execute_reply": "2021-09-24T20:00:27.170843Z",
     "shell.execute_reply.started": "2021-09-24T20:00:27.170820Z"
    }
   },
   "outputs": [],
   "source": [
    "clustered_user_vals[0]"
   ]
  },
  {
   "cell_type": "code",
   "execution_count": null,
   "metadata": {
    "execution": {
     "iopub.status.busy": "2021-09-24T20:00:27.172263Z",
     "iopub.status.idle": "2021-09-24T20:00:27.173031Z",
     "shell.execute_reply": "2021-09-24T20:00:27.172861Z",
     "shell.execute_reply.started": "2021-09-24T20:00:27.172840Z"
    }
   },
   "outputs": [],
   "source": [
    "clustered_user_vals2 = []\n",
    "for i in clustered_user_vals:\n",
    "    if i != 0:\n",
    "        clustered_user_vals2.append(np.log10(i))\n",
    "    else:\n",
    "        clustered_user_vals2.append(0)"
   ]
  },
  {
   "cell_type": "code",
   "execution_count": null,
   "metadata": {
    "execution": {
     "iopub.status.busy": "2021-09-24T20:00:27.174439Z",
     "iopub.status.idle": "2021-09-24T20:00:27.175931Z",
     "shell.execute_reply": "2021-09-24T20:00:27.175597Z",
     "shell.execute_reply.started": "2021-09-24T20:00:27.175489Z"
    }
   },
   "outputs": [],
   "source": [
    "## import flags and plot"
   ]
  },
  {
   "cell_type": "code",
   "execution_count": null,
   "metadata": {
    "execution": {
     "iopub.status.busy": "2021-09-24T20:00:27.177195Z",
     "iopub.status.idle": "2021-09-24T20:00:27.178794Z",
     "shell.execute_reply": "2021-09-24T20:00:27.178388Z",
     "shell.execute_reply.started": "2021-09-24T20:00:27.178356Z"
    }
   },
   "outputs": [],
   "source": [
    "import re"
   ]
  },
  {
   "cell_type": "code",
   "execution_count": null,
   "metadata": {
    "execution": {
     "iopub.status.busy": "2021-09-24T20:00:27.180213Z",
     "iopub.status.idle": "2021-09-24T20:00:27.181826Z",
     "shell.execute_reply": "2021-09-24T20:00:27.181402Z",
     "shell.execute_reply.started": "2021-09-24T20:00:27.181356Z"
    }
   },
   "outputs": [],
   "source": [
    "## read the dev_flags.txt to determine where to save\n",
    "with open(cwd+'/dev_flags.txt','r') as f:\n",
    "    raw_flags = f.read()\n",
    "flag_pattern = re.compile(r'= \\w+')\n",
    "flags1 = re.findall(flag_pattern,raw_flags)    \n",
    "flags_result = [i[2:] for i in flags1]\n",
    "dev_flag = flags_result[0]\n",
    "prod_flag = flags_result[1]"
   ]
  },
  {
   "cell_type": "code",
   "execution_count": null,
   "metadata": {
    "execution": {
     "iopub.status.busy": "2021-09-24T20:00:27.183325Z",
     "iopub.status.idle": "2021-09-24T20:00:27.184818Z",
     "shell.execute_reply": "2021-09-24T20:00:27.184555Z",
     "shell.execute_reply.started": "2021-09-24T20:00:27.184442Z"
    }
   },
   "outputs": [],
   "source": [
    "import matplotlib.pyplot as plt\n",
    "import seaborn as sns"
   ]
  },
  {
   "cell_type": "code",
   "execution_count": null,
   "metadata": {
    "execution": {
     "iopub.status.busy": "2021-09-24T20:00:27.186118Z",
     "iopub.status.idle": "2021-09-24T20:00:27.187303Z",
     "shell.execute_reply": "2021-09-24T20:00:27.187028Z",
     "shell.execute_reply.started": "2021-09-24T20:00:27.187005Z"
    }
   },
   "outputs": [],
   "source": [
    "plt.figure()\n",
    "plt.hist(bin_vals2,bins=bin_vals2,weights=clustered_user_vals,align='left',color='green',edgecolor='white', linewidth=1)\n",
    "plt.xlabel('User Lifetime (log days)')\n",
    "plt.xticks(np.arange(0,4.5,0.5))\n",
    "plt.ylim([0,2500])\n",
    "plt.ylabel('# of Users (log)')\n",
    "\n",
    "if dev_flag == 'True':\n",
    "    plt.savefig(cwd+'/plots_local/simuser_lifetime_class.eps', dpi=1000, bbox_inches='tight')\n",
    "    plt.savefig(cwd+'/plots_local/simuser_lifetime_class.pdf', dpi=1000, bbox_inches='tight')\n",
    "    plt.savefig(cwd+'/plots_local/simuser_lifetime_class.png', dpi=1000, bbox_inches='tight')\n",
    "elif prod_flag == 'True':\n",
    "    plt.savefig(cwd+'/plots_production/simuser_lifetime_class.eps', dpi=1000, bbox_inches='tight')\n",
    "    plt.savefig(cwd+'/plots_production/simuser_lifetime_class.pdf', dpi=1000, bbox_inches='tight')\n",
    "    plt.savefig(cwd+'/plots_production/simuser_lifetime_class.png', dpi=1000, bbox_inches='tight')\n",
    "else:\n",
    "    print('no printing flag is active')"
   ]
  },
  {
   "cell_type": "code",
   "execution_count": null,
   "metadata": {
    "execution": {
     "iopub.status.busy": "2021-09-24T20:00:27.189193Z",
     "iopub.status.idle": "2021-09-24T20:00:27.189717Z",
     "shell.execute_reply": "2021-09-24T20:00:27.189455Z",
     "shell.execute_reply.started": "2021-09-24T20:00:27.189432Z"
    }
   },
   "outputs": [],
   "source": [
    "tss_username = ss_df['username'].dropna().to_list()"
   ]
  },
  {
   "cell_type": "code",
   "execution_count": null,
   "metadata": {
    "execution": {
     "iopub.status.busy": "2021-09-24T20:00:27.192900Z",
     "iopub.status.idle": "2021-09-24T20:00:27.193787Z",
     "shell.execute_reply": "2021-09-24T20:00:27.193556Z",
     "shell.execute_reply.started": "2021-09-24T20:00:27.193433Z"
    }
   },
   "outputs": [],
   "source": [
    "sql_query = \"select registerDate, lastvisitDate from jos_users where username in \" + str(tuple(ss_df['username'].dropna()))"
   ]
  },
  {
   "cell_type": "code",
   "execution_count": null,
   "metadata": {
    "execution": {
     "iopub.status.busy": "2021-09-24T20:00:27.198386Z",
     "iopub.status.idle": "2021-09-24T20:00:27.198942Z",
     "shell.execute_reply": "2021-09-24T20:00:27.198772Z",
     "shell.execute_reply.started": "2021-09-24T20:00:27.198743Z"
    }
   },
   "outputs": [],
   "source": [
    "self_study_dates = pd.read_sql_query(sql_query,nanohub_db)\n",
    "self_study_dates"
   ]
  },
  {
   "cell_type": "code",
   "execution_count": null,
   "metadata": {
    "execution": {
     "iopub.status.busy": "2021-09-24T20:00:27.201111Z",
     "iopub.status.idle": "2021-09-24T20:00:27.201490Z",
     "shell.execute_reply": "2021-09-24T20:00:27.201334Z",
     "shell.execute_reply.started": "2021-09-24T20:00:27.201314Z"
    }
   },
   "outputs": [],
   "source": [
    "## determine time diffs\n",
    "self_study_dates2 = self_study_dates[~self_study_dates['lastvisitDate'].isna()].reset_index()\n",
    "self_study_dates2['registerDate'] = pd.to_datetime(self_study_dates2['registerDate'])\n",
    "self_study_dates2['lastvisitDate'] = pd.to_datetime(self_study_dates2['lastvisitDate'])\n",
    "self_study_dates2['duration'] = self_study_dates2['lastvisitDate'].to_numpy() - self_study_dates2['registerDate'].to_numpy()\n",
    "display(self_study_dates2.head(2))"
   ]
  },
  {
   "cell_type": "code",
   "execution_count": null,
   "metadata": {
    "execution": {
     "iopub.status.busy": "2021-09-24T20:00:27.203914Z",
     "iopub.status.idle": "2021-09-24T20:00:27.205151Z",
     "shell.execute_reply": "2021-09-24T20:00:27.204959Z",
     "shell.execute_reply.started": "2021-09-24T20:00:27.204936Z"
    }
   },
   "outputs": [],
   "source": [
    "self_study_dates2['duration'] = [np.round(np.log10(i.days),2) for i in self_study_dates2['duration'].to_list()]\n",
    "display(self_study_dates2.head(2))\n",
    "display(self_study_dates2.tail(2))"
   ]
  },
  {
   "cell_type": "code",
   "execution_count": null,
   "metadata": {
    "execution": {
     "iopub.status.busy": "2021-09-24T20:00:27.206880Z",
     "iopub.status.idle": "2021-09-24T20:00:27.207268Z",
     "shell.execute_reply": "2021-09-24T20:00:27.207108Z",
     "shell.execute_reply.started": "2021-09-24T20:00:27.207089Z"
    }
   },
   "outputs": [],
   "source": [
    "self_user_vals = []\n",
    "for i,j in enumerate(bin_vals):\n",
    "    if i == 0:\n",
    "#         clustered_user_vals.append(clustered_dates[clustered_dates['lastvisitDate'].isna()].shape[0]\\\n",
    "#                                   +len(np.where(clustered_dates2['duration'] == 1)[0]))\n",
    "        h_thresh = j\n",
    "        l_thresh = 0\n",
    "        self_user_vals.append(len(np.where((self_study_dates2['duration'] < h_thresh))[0]))\n",
    "    else:\n",
    "        h_thresh = j\n",
    "        l_thresh = bin_vals[i-1]\n",
    "        self_user_vals.append(len(np.where((self_study_dates2['duration'] > l_thresh) \\\n",
    "                                    & (self_study_dates2['duration'] < h_thresh))[0]))        \n",
    "\n",
    "        "
   ]
  },
  {
   "cell_type": "code",
   "execution_count": null,
   "metadata": {
    "execution": {
     "iopub.status.busy": "2021-09-24T20:00:27.209723Z",
     "iopub.status.idle": "2021-09-24T20:00:27.210213Z",
     "shell.execute_reply": "2021-09-24T20:00:27.210004Z",
     "shell.execute_reply.started": "2021-09-24T20:00:27.209980Z"
    }
   },
   "outputs": [],
   "source": [
    "self_user_vals[:5]"
   ]
  },
  {
   "cell_type": "code",
   "execution_count": null,
   "metadata": {
    "execution": {
     "iopub.status.busy": "2021-09-24T20:00:27.213117Z",
     "iopub.status.idle": "2021-09-24T20:00:27.213718Z",
     "shell.execute_reply": "2021-09-24T20:00:27.213451Z",
     "shell.execute_reply.started": "2021-09-24T20:00:27.213423Z"
    }
   },
   "outputs": [],
   "source": [
    "plt.figure()\n",
    "plt.hist(bin_vals2,bins=bin_vals2,weights=self_user_vals,align='left',color='orange',edgecolor='white', linewidth=1)\n",
    "plt.xlabel('User Lifetime (log days)')\n",
    "plt.xticks(np.arange(0,4.5,0.5))\n",
    "plt.ylim([0,2500])\n",
    "plt.ylabel('# of Users')\n",
    "\n",
    "if dev_flag == 'True':\n",
    "    plt.savefig(cwd+'/plots_local/simuser_lifetime_unclass.eps', dpi=1000, bbox_inches='tight')\n",
    "    plt.savefig(cwd+'/plots_local/simuser_lifetime_unclass.pdf', dpi=1000, bbox_inches='tight')\n",
    "    plt.savefig(cwd+'/plots_local/simuser_lifetime_unclass.png', dpi=1000, bbox_inches='tight')\n",
    "elif prod_flag == 'True':\n",
    "    plt.savefig(cwd+'/plots_production/simuser_lifetime_unclass.eps', dpi=1000, bbox_inches='tight')\n",
    "    plt.savefig(cwd+'/plots_production/simuser_lifetime_unclass.pdf', dpi=1000, bbox_inches='tight')\n",
    "    plt.savefig(cwd+'/plots_production/simuser_lifetime_unclass.png', dpi=1000, bbox_inches='tight')\n",
    "else:\n",
    "    print('no printing flag is active')"
   ]
  },
  {
   "cell_type": "code",
   "execution_count": null,
   "metadata": {
    "execution": {
     "iopub.status.busy": "2021-09-24T20:00:27.216432Z",
     "iopub.status.idle": "2021-09-24T20:00:27.217690Z",
     "shell.execute_reply": "2021-09-24T20:00:27.217419Z",
     "shell.execute_reply.started": "2021-09-24T20:00:27.217394Z"
    }
   },
   "outputs": [],
   "source": [
    "sql_query = \"select registerDate, lastvisitDate from jos_users where id in \" + str(tuple(research_df['nhid']))"
   ]
  },
  {
   "cell_type": "code",
   "execution_count": null,
   "metadata": {
    "execution": {
     "iopub.status.busy": "2021-09-24T20:00:27.220326Z",
     "iopub.status.idle": "2021-09-24T20:00:27.220833Z",
     "shell.execute_reply": "2021-09-24T20:00:27.220648Z",
     "shell.execute_reply.started": "2021-09-24T20:00:27.220628Z"
    }
   },
   "outputs": [],
   "source": [
    "researcher_dates = pd.read_sql_query(sql_query,nanohub_db)\n",
    "researcher_dates"
   ]
  },
  {
   "cell_type": "code",
   "execution_count": null,
   "metadata": {
    "execution": {
     "iopub.status.busy": "2021-09-24T20:00:27.223282Z",
     "iopub.status.idle": "2021-09-24T20:00:27.223885Z",
     "shell.execute_reply": "2021-09-24T20:00:27.223663Z",
     "shell.execute_reply.started": "2021-09-24T20:00:27.223556Z"
    }
   },
   "outputs": [],
   "source": [
    "## determine time diffs\n",
    "researcher_dates2 = researcher_dates[~researcher_dates['lastvisitDate'].isna()].reset_index()\n",
    "researcher_dates2['registerDate'] = pd.to_datetime(researcher_dates2['registerDate'])\n",
    "researcher_dates2['lastvisitDate'] = pd.to_datetime(researcher_dates2['lastvisitDate'])\n",
    "researcher_dates2['duration'] = researcher_dates2['lastvisitDate'].to_numpy() - researcher_dates2['registerDate'].to_numpy()\n",
    "display(researcher_dates2.head(2))"
   ]
  },
  {
   "cell_type": "code",
   "execution_count": null,
   "metadata": {
    "execution": {
     "iopub.status.busy": "2021-09-24T20:00:27.226920Z",
     "iopub.status.idle": "2021-09-24T20:00:27.227406Z",
     "shell.execute_reply": "2021-09-24T20:00:27.227172Z",
     "shell.execute_reply.started": "2021-09-24T20:00:27.227146Z"
    }
   },
   "outputs": [],
   "source": [
    "researcher_dates2['duration'] = [np.round(np.log10(i.days),2) for i in researcher_dates2['duration'].to_list()]\n",
    "display(researcher_dates2.head(2))\n",
    "display(researcher_dates2.tail(2))"
   ]
  },
  {
   "cell_type": "code",
   "execution_count": null,
   "metadata": {
    "execution": {
     "iopub.status.busy": "2021-09-24T20:00:27.230019Z",
     "iopub.status.idle": "2021-09-24T20:00:27.231336Z",
     "shell.execute_reply": "2021-09-24T20:00:27.230696Z",
     "shell.execute_reply.started": "2021-09-24T20:00:27.230333Z"
    }
   },
   "outputs": [],
   "source": [
    "researcher_vals = []\n",
    "for i,j in enumerate(bin_vals):\n",
    "    if i == 0:\n",
    "#         clustered_user_vals.append(clustered_dates[clustered_dates['lastvisitDate'].isna()].shape[0]\\\n",
    "#                                   +len(np.where(clustered_dates2['duration'] == 1)[0]))\n",
    "        h_thresh = j\n",
    "        l_thresh = 0\n",
    "        researcher_vals.append(len(np.where((researcher_dates2['duration'] < h_thresh))[0]))\n",
    "    else:\n",
    "        h_thresh = j\n",
    "        l_thresh = bin_vals[i-1]\n",
    "        researcher_vals.append(len(np.where((researcher_dates2['duration'] > l_thresh) \\\n",
    "                                    & (researcher_dates2['duration'] < h_thresh))[0]))        \n",
    "\n",
    "        "
   ]
  },
  {
   "cell_type": "code",
   "execution_count": null,
   "metadata": {
    "execution": {
     "iopub.status.busy": "2021-09-24T20:00:27.235120Z",
     "iopub.status.idle": "2021-09-24T20:00:27.235605Z",
     "shell.execute_reply": "2021-09-24T20:00:27.235296Z",
     "shell.execute_reply.started": "2021-09-24T20:00:27.235278Z"
    }
   },
   "outputs": [],
   "source": [
    "researcher_vals[:2]"
   ]
  },
  {
   "cell_type": "code",
   "execution_count": null,
   "metadata": {
    "execution": {
     "iopub.status.busy": "2021-09-24T20:00:27.236369Z",
     "iopub.status.idle": "2021-09-24T20:00:27.236889Z",
     "shell.execute_reply": "2021-09-24T20:00:27.236695Z",
     "shell.execute_reply.started": "2021-09-24T20:00:27.236668Z"
    }
   },
   "outputs": [],
   "source": [
    "plt.figure()\n",
    "plt.hist(bin_vals2,bins=bin_vals2,weights=researcher_vals,align='left',color='red',edgecolor='white', linewidth=1)\n",
    "plt.xlabel('User Lifetime (log days)')\n",
    "plt.xticks(np.arange(0,4.5,0.5))\n",
    "plt.ylim([0,200])\n",
    "plt.ylabel('# of Users')\n",
    "\n",
    "if dev_flag == 'True':\n",
    "    plt.savefig(cwd+'/plots_local/simuser_lifetime_research.eps', dpi=1000, bbox_inches='tight')\n",
    "    plt.savefig(cwd+'/plots_local/simuser_lifetime_research.pdf', dpi=1000, bbox_inches='tight')\n",
    "    plt.savefig(cwd+'/plots_local/simuser_lifetime_research.png', dpi=1000, bbox_inches='tight')\n",
    "elif prod_flag == 'True':\n",
    "    plt.savefig(cwd+'/plots_production/simuser_lifetime_research.eps', dpi=1000, bbox_inches='tight')\n",
    "    plt.savefig(cwd+'/plots_production/simuser_lifetime_research.pdf', dpi=1000, bbox_inches='tight')\n",
    "    plt.savefig(cwd+'/plots_production/simuser_lifetime_research.png', dpi=1000, bbox_inches='tight')\n",
    "else:\n",
    "    print('no printing flag is active')"
   ]
  },
  {
   "cell_type": "code",
   "execution_count": null,
   "metadata": {},
   "outputs": [],
   "source": []
  },
  {
   "cell_type": "code",
   "execution_count": null,
   "metadata": {},
   "outputs": [],
   "source": []
  },
  {
   "cell_type": "code",
   "execution_count": null,
   "metadata": {},
   "outputs": [],
   "source": []
  },
  {
   "cell_type": "code",
   "execution_count": null,
   "metadata": {},
   "outputs": [],
   "source": []
  },
  {
   "cell_type": "code",
   "execution_count": null,
   "metadata": {},
   "outputs": [],
   "source": []
  }
 ],
 "metadata": {
  "kernelspec": {
   "display_name": "Python 3 (ipykernel)",
   "language": "python",
   "name": "python3"
  },
  "language_info": {
   "codemirror_mode": {
    "name": "ipython",
    "version": 3
   },
   "file_extension": ".py",
   "mimetype": "text/x-python",
   "name": "python",
   "nbconvert_exporter": "python",
   "pygments_lexer": "ipython3",
   "version": "3.8.10"
  }
 },
 "nbformat": 4,
 "nbformat_minor": 4
}
