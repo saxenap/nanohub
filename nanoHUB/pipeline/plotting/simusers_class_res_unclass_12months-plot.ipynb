{
 "cells": [
  {
   "cell_type": "code",
   "execution_count": 1,
   "metadata": {
    "execution": {
     "iopub.execute_input": "2022-02-22T02:19:48.005783Z",
     "iopub.status.busy": "2022-02-22T02:19:48.005400Z",
     "iopub.status.idle": "2022-02-22T02:19:48.014413Z",
     "shell.execute_reply": "2022-02-22T02:19:48.012518Z",
     "shell.execute_reply.started": "2022-02-22T02:19:48.005706Z"
    },
    "tags": []
   },
   "outputs": [],
   "source": [
    "## build researcher events, student events, and self-study events\n",
    "## researcher are simply those with NH citations"
   ]
  },
  {
   "cell_type": "code",
   "execution_count": 2,
   "metadata": {
    "execution": {
     "iopub.execute_input": "2022-02-22T02:19:49.102222Z",
     "iopub.status.busy": "2022-02-22T02:19:49.100702Z",
     "iopub.status.idle": "2022-02-22T02:19:50.657824Z",
     "shell.execute_reply": "2022-02-22T02:19:50.657254Z",
     "shell.execute_reply.started": "2022-02-22T02:19:49.102160Z"
    },
    "tags": []
   },
   "outputs": [
    {
     "name": "stdout",
     "output_type": "stream",
     "text": [
      "\u001b[1mnanoHUB - Serving Students, Researchers & Instructors\u001b[0m\n"
     ]
    }
   ],
   "source": [
    "import sys\n",
    "\n",
    "import pandas as pd\n",
    "import numpy as np\n",
    "import time\n",
    "import datetime\n",
    "import os\n",
    "from nanoHUB.application import Application\n",
    "from nanoHUB.configuration import ClusteringConfiguration\n",
    "from nanoHUB.pipeline.geddes.data import get_default_s3_client\n",
    "from nanoHUB.dataaccess.lake import S3FileMapper\n",
    "\n",
    "from nanoHUB.clustering.infra import get_mike_only_clustered_users, get_xufeng_only_clustered_users, get_mike_xufeng_clustered_users\n",
    "from nanoHUB.clustering.infra import create_clusters_repository, add_cluster_info, get_all_clustered_users, get_all_self_study_users, get_all_self_identified_users"
   ]
  },
  {
   "cell_type": "code",
   "execution_count": 3,
   "metadata": {
    "execution": {
     "iopub.execute_input": "2022-02-22T02:19:52.030890Z",
     "iopub.status.busy": "2022-02-22T02:19:52.030072Z",
     "iopub.status.idle": "2022-02-22T02:19:52.034866Z",
     "shell.execute_reply": "2022-02-22T02:19:52.034181Z",
     "shell.execute_reply.started": "2022-02-22T02:19:52.030860Z"
    },
    "tags": []
   },
   "outputs": [],
   "source": [
    "pd.set_option('display.max_columns', None)\n",
    "cwd = os.getcwd()"
   ]
  },
  {
   "cell_type": "code",
   "execution_count": 4,
   "metadata": {
    "execution": {
     "iopub.execute_input": "2022-02-22T02:19:53.061450Z",
     "iopub.status.busy": "2022-02-22T02:19:53.061148Z",
     "iopub.status.idle": "2022-02-22T02:19:53.479301Z",
     "shell.execute_reply": "2022-02-22T02:19:53.478159Z",
     "shell.execute_reply.started": "2022-02-22T02:19:53.061424Z"
    },
    "tags": []
   },
   "outputs": [],
   "source": [
    "application = Application.get_instance()\n",
    "nanohub_db = application.new_db_engine('nanohub')\n",
    "nanohub_metrics_db = application.new_db_engine('nanohub_metrics')\n",
    "wang159_myrmekes_db = application.new_db_engine('rfm_data')\n",
    "\n",
    "s3_client = get_default_s3_client(application)\n",
    "derived_data_file_path = 'derived_data_for_users.csv'\n",
    "processed_mapper = S3FileMapper(s3_client, ClusteringConfiguration().bucket_name_processed)"
   ]
  },
  {
   "cell_type": "markdown",
   "metadata": {
    "tags": []
   },
   "source": [
    "## Cumulative classroom/research/self-study"
   ]
  },
  {
   "cell_type": "code",
   "execution_count": 5,
   "metadata": {
    "execution": {
     "iopub.execute_input": "2022-02-22T02:20:11.442375Z",
     "iopub.status.busy": "2022-02-22T02:20:11.441776Z",
     "iopub.status.idle": "2022-02-22T02:20:11.448445Z",
     "shell.execute_reply": "2022-02-22T02:20:11.447724Z",
     "shell.execute_reply.started": "2022-02-22T02:20:11.442340Z"
    },
    "tags": []
   },
   "outputs": [
    {
     "name": "stdout",
     "output_type": "stream",
     "text": [
      "2022-02-22 02:20:11.443637\n"
     ]
    }
   ],
   "source": [
    "today = datetime.datetime.today()\n",
    "print(today)"
   ]
  },
  {
   "cell_type": "code",
   "execution_count": 6,
   "metadata": {
    "execution": {
     "iopub.execute_input": "2022-02-22T02:20:11.776015Z",
     "iopub.status.busy": "2022-02-22T02:20:11.774534Z",
     "iopub.status.idle": "2022-02-22T02:20:11.781815Z",
     "shell.execute_reply": "2022-02-22T02:20:11.780365Z",
     "shell.execute_reply.started": "2022-02-22T02:20:11.775894Z"
    },
    "tags": []
   },
   "outputs": [],
   "source": [
    "## determine starting year\n",
    "#if cache_flag == False:\n",
    "start_year_base = 1999 #2000\n",
    "#else:\n",
    "#     print('check the saved file')\n",
    "#    start_year_base = int(user_breakdown_df['year_month'].to_list()[-1][:4])\n",
    "    \n",
    "    "
   ]
  },
  {
   "cell_type": "code",
   "execution_count": 7,
   "metadata": {
    "execution": {
     "iopub.execute_input": "2022-02-22T02:20:12.242693Z",
     "iopub.status.busy": "2022-02-22T02:20:12.241833Z",
     "iopub.status.idle": "2022-02-22T02:20:12.248239Z",
     "shell.execute_reply": "2022-02-22T02:20:12.246969Z",
     "shell.execute_reply.started": "2022-02-22T02:20:12.242639Z"
    },
    "tags": []
   },
   "outputs": [],
   "source": [
    "from copy import deepcopy"
   ]
  },
  {
   "cell_type": "code",
   "execution_count": 9,
   "metadata": {
    "execution": {
     "iopub.execute_input": "2022-02-22T02:20:45.665679Z",
     "iopub.status.busy": "2022-02-22T02:20:45.665393Z",
     "iopub.status.idle": "2022-02-22T02:20:45.708755Z",
     "shell.execute_reply": "2022-02-22T02:20:45.708145Z",
     "shell.execute_reply.started": "2022-02-22T02:20:45.665653Z"
    },
    "tags": []
   },
   "outputs": [
    {
     "name": "stdout",
     "output_type": "stream",
     "text": [
      "allmonths partial list [datetime.datetime(2000, 1, 1, 0, 0), datetime.datetime(2000, 2, 1, 0, 0), datetime.datetime(2000, 3, 1, 0, 0), datetime.datetime(2000, 4, 1, 0, 0), datetime.datetime(2000, 5, 1, 0, 0), datetime.datetime(2000, 6, 1, 0, 0), datetime.datetime(2000, 7, 1, 0, 0), datetime.datetime(2000, 8, 1, 0, 0), datetime.datetime(2000, 9, 1, 0, 0), datetime.datetime(2000, 10, 1, 0, 0), datetime.datetime(2000, 11, 1, 0, 0), datetime.datetime(2000, 12, 1, 0, 0), datetime.datetime(2001, 1, 1, 0, 0), datetime.datetime(2001, 2, 1, 0, 0), datetime.datetime(2001, 3, 1, 0, 0), datetime.datetime(2001, 4, 1, 0, 0), datetime.datetime(2001, 5, 1, 0, 0), datetime.datetime(2001, 6, 1, 0, 0), datetime.datetime(2001, 7, 1, 0, 0), datetime.datetime(2001, 8, 1, 0, 0), datetime.datetime(2001, 9, 1, 0, 0), datetime.datetime(2001, 10, 1, 0, 0), datetime.datetime(2001, 11, 1, 0, 0), datetime.datetime(2001, 12, 1, 0, 0), datetime.datetime(2002, 1, 1, 0, 0), datetime.datetime(2002, 2, 1, 0, 0), datetime.datetime(2002, 3, 1, 0, 0), datetime.datetime(2002, 4, 1, 0, 0), datetime.datetime(2002, 5, 1, 0, 0), datetime.datetime(2002, 6, 1, 0, 0), datetime.datetime(2002, 7, 1, 0, 0), datetime.datetime(2002, 8, 1, 0, 0), datetime.datetime(2002, 9, 1, 0, 0), datetime.datetime(2002, 10, 1, 0, 0), datetime.datetime(2002, 11, 1, 0, 0), datetime.datetime(2002, 12, 1, 0, 0)]\n"
     ]
    }
   ],
   "source": [
    "cache_flag = False\n",
    "all_months_list = list()\n",
    "for this_year in range(start_year_base+1,today.year+2):\n",
    "    if cache_flag == True:\n",
    "        for this_month in range(1,today.month+1):\n",
    "            all_months_list.append(datetime.datetime(this_year, this_month, 1))\n",
    "    else:\n",
    "        for this_month in range(1,12+1):\n",
    "            all_months_list.append(datetime.datetime(this_year, this_month, 1))\n",
    "\n",
    "cache_all_month_list = pd.DataFrame()\n",
    "cache_all_month_list['Date'] = all_months_list\n",
    "cache_all_month_list.to_csv(cwd+'/cached_data/all_months_list.csv')\n",
    "cache_all_month_list.to_csv(cwd+'/cached_data/'+ str(start_year_base)+'_all_months_list.csv')\n",
    "cache_all_month_list = []\n",
    "print('allmonths partial list',all_months_list[0:36])\n"
   ]
  },
  {
   "cell_type": "code",
   "execution_count": null,
   "metadata": {},
   "outputs": [],
   "source": []
  },
  {
   "cell_type": "code",
   "execution_count": 10,
   "metadata": {
    "execution": {
     "iopub.execute_input": "2022-02-22T02:20:50.402315Z",
     "iopub.status.busy": "2022-02-22T02:20:50.401032Z",
     "iopub.status.idle": "2022-02-22T02:20:50.408909Z",
     "shell.execute_reply": "2022-02-22T02:20:50.407480Z",
     "shell.execute_reply.started": "2022-02-22T02:20:50.402268Z"
    },
    "tags": []
   },
   "outputs": [],
   "source": [
    "# clustered_NH_username2;researcher_NH_username2;self_NH_username2\n",
    "clustered_track = []\n",
    "clustered_m_track = []\n",
    "clustered_x_track = []\n",
    "clustered_mx_track = []\n",
    "self_track = []\n",
    "\n",
    "# clustered_track_per = []\n",
    "# self_track_per = []\n",
    "# researcher_track_per = []"
   ]
  },
  {
   "cell_type": "code",
   "execution_count": 26,
   "metadata": {
    "execution": {
     "iopub.execute_input": "2022-02-22T02:47:33.357916Z",
     "iopub.status.busy": "2022-02-22T02:47:33.357557Z",
     "iopub.status.idle": "2022-02-22T02:47:33.408818Z",
     "shell.execute_reply": "2022-02-22T02:47:33.406912Z",
     "shell.execute_reply.started": "2022-02-22T02:47:33.357845Z"
    },
    "tags": []
   },
   "outputs": [
    {
     "name": "stdout",
     "output_type": "stream",
     "text": [
      "self_identified_track[0:30] [0, 0, 0, 0, 0, 0, 0, 0, 0, 0, 0, 0, 0, 0, 0, 0, 0, 0, 0, 0, 0, 0, 0, 0, 0, 0, 0, 0, 0, 0]\n",
      "len(self_identified_track) 288\n",
      "researcher_track[0:30] [0, 0, 8, 11, 13, 14, 15, 17, 21, 24, 24, 25, 27, 33, 35, 36, 39, 39, 36, 35, 37, 37, 39, 40, 39, 37, 35, 34, 31, 37]\n",
      "len(researcher_track) 288\n",
      "self2_track[0:30] [0, 0, 45, 55, 68, 74, 76, 92, 184, 235, 293, 343, 372, 571, 707, 731, 756, 764, 774, 765, 765, 771, 730, 696, 640, 622, 622, 608, 359, 347]\n",
      "len(self2_track) 288\n",
      "simtotal_track[0:30] [0, 0, 133, 199, 244, 263, 275, 293, 389, 443, 501, 554, 588, 797, 920, 927, 860, 846, 844, 832, 833, 841, 800, 762, 700, 678, 676, 660, 405, 428]\n",
      "len(simtotal_track) 288\n",
      "clustered_track[0:30] [0, 0, 6, 7, 10, 11, 13, 13, 15, 16, 16, 16, 17, 21, 20, 21, 18, 17, 15, 14, 12, 13, 13, 13, 13, 13, 12, 12, 11, 15]\n",
      "len(clustered_track) 204\n"
     ]
    }
   ],
   "source": [
    "clustered_track_df = pd.read_csv(cwd+'/cached_data/clustered_track.csv',usecols=['track'])\n",
    "#display(clustered_track_df)\n",
    "\n",
    "self_identified_track_df = pd.read_csv(cwd+'/cached_data/self_identified_track.csv',usecols=['track'])\n",
    "#display(self_identified_track_df)\n",
    "#print('self_identified_track_df[0:30]',self_identified_track_df[0:30])\n",
    "self_identified_track = self_identified_track_df['track'].tolist()\n",
    "print('self_identified_track[0:30]',self_identified_track[0:30])\n",
    "print('len(self_identified_track)',len(self_identified_track))\n",
    "\n",
    "researcher_track_df = pd.read_csv(cwd+'/cached_data/researcher_track.csv',usecols=['track'])\n",
    "researcher_track = researcher_track_df['track'].tolist()\n",
    "print('researcher_track[0:30]',researcher_track[0:30])\n",
    "print('len(researcher_track)',len(researcher_track))\n",
    "\n",
    "self2_track_df = pd.read_csv(cwd+'/cached_data/self2_track.csv',usecols=['track'])\n",
    "self2_track = self2_track_df['track'].tolist()\n",
    "print('self2_track[0:30]',self2_track[0:30])\n",
    "print('len(self2_track)',len(self2_track))\n",
    "\n",
    "simtotal_track_df = pd.read_csv(cwd+'/cached_data/simtotal_track.csv',usecols=['track'])\n",
    "simtotal_track = simtotal_track_df['track'].tolist()\n",
    "print('simtotal_track[0:30]',simtotal_track[0:30])\n",
    "print('len(simtotal_track)',len(simtotal_track))\n",
    "\n",
    "#The clustering data needs to be stiched together\n",
    "clustered_track_df = pd.read_csv(cwd+'/cached_data/2016_clustered_track.csv',usecols=['track'])\n",
    "clustered_track = clustered_track_df['track'].tolist()\n",
    "print('clustered_track[0:30]',clustered_track[0:30])\n",
    "print('len(clustered_track)',len(clustered_track))\n",
    "\n",
    "\n",
    "\n"
   ]
  },
  {
   "cell_type": "code",
   "execution_count": 33,
   "metadata": {
    "execution": {
     "iopub.execute_input": "2022-02-21T20:03:22.863563Z",
     "iopub.status.busy": "2022-02-21T20:03:22.863191Z",
     "iopub.status.idle": "2022-02-21T20:03:23.643189Z",
     "shell.execute_reply": "2022-02-21T20:03:23.641966Z",
     "shell.execute_reply.started": "2022-02-21T20:03:22.863535Z"
    },
    "tags": []
   },
   "outputs": [
    {
     "ename": "NameError",
     "evalue": "name 'deepcopy' is not defined",
     "output_type": "error",
     "traceback": [
      "\u001b[0;31m---------------------------------------------------------------------------\u001b[0m",
      "\u001b[0;31mNameError\u001b[0m                                 Traceback (most recent call last)",
      "Input \u001b[0;32mIn [33]\u001b[0m, in \u001b[0;36m<module>\u001b[0;34m\u001b[0m\n\u001b[1;32m      1\u001b[0m \u001b[38;5;66;03m## computer has memory limits, so split toolstart into branches\u001b[39;00m\n\u001b[0;32m----> 2\u001b[0m start_year \u001b[38;5;241m=\u001b[39m \u001b[43mdeepcopy\u001b[49m(start_year_base)\n\u001b[1;32m      4\u001b[0m \u001b[38;5;28;01mwhile\u001b[39;00m start_year \u001b[38;5;241m<\u001b[39m today\u001b[38;5;241m.\u001b[39myear\u001b[38;5;241m+\u001b[39m\u001b[38;5;241m1\u001b[39m:\n\u001b[1;32m      5\u001b[0m     start_year \u001b[38;5;241m+\u001b[39m\u001b[38;5;241m=\u001b[39m \u001b[38;5;241m1\u001b[39m\n",
      "\u001b[0;31mNameError\u001b[0m: name 'deepcopy' is not defined"
     ]
    }
   ],
   "source": [
    "\n",
    "    cache_clustered_track = pd.DataFrame()\n",
    "    cache_clustered_track['track'] = clustered_track\n",
    "    cache_clustered_track.to_csv(cwd+'/cached_data/clustered_track.csv')\n",
    "    cache_clustered_track = []\n",
    "    \n",
    "    cache_clustered_m_track = pd.DataFrame()\n",
    "    cache_clustered_m_track['track'] = clustered_m_track\n",
    "    cache_clustered_m_track.to_csv(cwd+'/cached_data/clustered_m_track.csv')\n",
    "    cache_clustered_m_track = []\n",
    "\n",
    "    cache_clustered_x_track = pd.DataFrame()\n",
    "    cache_clustered_x_track['track'] = clustered_x_track\n",
    "    cache_clustered_x_track.to_csv(cwd+'/cached_data/clustered_x_track.csv')\n",
    "    cache_clustered_x_track = []\n",
    "\n",
    "    cache_clustered_mx_track = pd.DataFrame()\n",
    "    cache_clustered_mx_track['track'] = clustered_mx_track\n",
    "    cache_clustered_mx_track.to_csv(cwd+'/cached_data/clustered_mx_track.csv')\n",
    "    cache_clustered_mx_track = []\n",
    "\n",
    "    cache_self_track = pd.DataFrame()\n",
    "    cache_self_track['track'] = self_track\n",
    "    cache_self_track.to_csv(cwd+'/cached_data/self_track.csv')\n",
    "    cache_self_track = []\n",
    "\n",
    "    "
   ]
  },
  {
   "cell_type": "code",
   "execution_count": null,
   "metadata": {},
   "outputs": [],
   "source": []
  },
  {
   "cell_type": "code",
   "execution_count": null,
   "metadata": {
    "execution": {
     "iopub.status.busy": "2022-02-21T16:15:49.484770Z",
     "iopub.status.idle": "2022-02-21T16:15:49.485245Z",
     "shell.execute_reply": "2022-02-21T16:15:49.485056Z",
     "shell.execute_reply.started": "2022-02-21T16:15:49.485030Z"
    },
    "tags": []
   },
   "outputs": [],
   "source": [
    "print(len(clustered_track))\n",
    "print(len(clustered_m_track))\n",
    "print(len(clustered_x_track))\n",
    "print(len(clustered_mx_track))\n",
    "print(len(all_months_list))\n",
    "print(len(researcher_track))"
   ]
  },
  {
   "cell_type": "code",
   "execution_count": null,
   "metadata": {
    "execution": {
     "iopub.status.busy": "2022-02-21T16:15:49.487171Z",
     "iopub.status.idle": "2022-02-21T16:15:49.487639Z",
     "shell.execute_reply": "2022-02-21T16:15:49.487442Z",
     "shell.execute_reply.started": "2022-02-21T16:15:49.487421Z"
    },
    "tags": []
   },
   "outputs": [],
   "source": [
    "#print(user_breakdown_df2.head())"
   ]
  },
  {
   "cell_type": "code",
   "execution_count": null,
   "metadata": {
    "execution": {
     "iopub.status.busy": "2022-02-21T16:15:49.490869Z",
     "iopub.status.idle": "2022-02-21T16:15:49.492028Z",
     "shell.execute_reply": "2022-02-21T16:15:49.491565Z",
     "shell.execute_reply.started": "2022-02-21T16:15:49.491489Z"
    },
    "tags": []
   },
   "outputs": [],
   "source": [
    "\n",
    "if cache_flag == True:\n",
    "    user_breakdown_df2 = pd.DataFrame()\n",
    "    user_breakdown_df2['year_month'] = all_months_list\n",
    "    user_breakdown_df2['clustered_track'] = clustered_track\n",
    "    user_breakdown_df2['clustered_m_track'] = clustered_m_track\n",
    "    user_breakdown_df2['clustered_x_track'] = clustered_x_track\n",
    "    user_breakdown_df2['clustered_mx_track'] = clustered_mx_track\n",
    "    user_breakdown_df2['self_identified_track'] = self_identified_track\n",
    "    user_breakdown_df2['self_track'] = self_track\n",
    "    user_breakdown_df2['researcher_track'] = researcher_track\n",
    "    \n",
    "    user_breakdown_df = pd.concat([user_breakdown_df, user_breakdown_df2], ignore_index=True)\n",
    "    display(user_breakdown_df.head(2))\n",
    "else:\n",
    "    user_breakdown_df = pd.DataFrame()\n",
    "    if today.month == 12:\n",
    "        user_breakdown_df['year_month'] = all_months_list #months_bin['year_month'].to_list()[13:]\n",
    "        user_breakdown_df['clustered_track'] = clustered_track#[:len(all_months_list)]\n",
    "        user_breakdown_df['clustered_m_track'] = clustered_m_track#[:len(all_months_list)]\n",
    "        user_breakdown_df['clustered_x_track'] = clustered_x_track#[:len(all_months_list)]\n",
    "        user_breakdown_df['clustered_mx_track'] = clustered_mx_track#[:len(all_months_list)]\n",
    "        user_breakdown_df['self_identified_track'] = self_identified_track\n",
    "        user_breakdown_df['self_track'] = self_track#[:len(all_months_list)]\n",
    "        user_breakdown_df['researcher_track'] = researcher_track#[:len(all_months_list)]        \n",
    "    else:\n",
    "        user_breakdown_df['year_month'] = all_months_list #-(12-today.month)\n",
    "        user_breakdown_df['clustered_track'] = clustered_track#[:len(all_months_list[:])]\n",
    "        user_breakdown_df['clustered_m_track'] = clustered_m_track#[:len(all_months_list[:])]\n",
    "        user_breakdown_df['clustered_x_track'] = clustered_x_track#[:len(all_months_list[:])]\n",
    "        user_breakdown_df['clustered_mx_track'] = clustered_mx_track#[:len(all_months_list[:])]\n",
    "        user_breakdown_df['self_identified_track'] = self_identified_track\n",
    "        user_breakdown_df['self_track'] = self_track#[:len(all_months_list[:])]\n",
    "        user_breakdown_df['researcher_track'] = researcher_track#[:len(all_months_list[:])]\n",
    "    display(user_breakdown_df.head(2))"
   ]
  },
  {
   "cell_type": "code",
   "execution_count": null,
   "metadata": {
    "execution": {
     "iopub.status.busy": "2022-02-21T16:15:49.495978Z",
     "iopub.status.idle": "2022-02-21T16:15:49.496683Z",
     "shell.execute_reply": "2022-02-21T16:15:49.496465Z",
     "shell.execute_reply.started": "2022-02-21T16:15:49.496443Z"
    },
    "tags": []
   },
   "outputs": [],
   "source": [
    "# user_breakdown_df.to_csv(cwd+'/cached_data/temp.csv')"
   ]
  },
  {
   "cell_type": "code",
   "execution_count": null,
   "metadata": {
    "execution": {
     "iopub.status.busy": "2022-02-21T16:15:49.504582Z",
     "iopub.status.idle": "2022-02-21T16:15:49.505121Z",
     "shell.execute_reply": "2022-02-21T16:15:49.504883Z",
     "shell.execute_reply.started": "2022-02-21T16:15:49.504864Z"
    },
    "tags": []
   },
   "outputs": [],
   "source": [
    "import re"
   ]
  },
  {
   "cell_type": "code",
   "execution_count": null,
   "metadata": {
    "execution": {
     "iopub.status.busy": "2022-02-21T16:15:49.507918Z",
     "iopub.status.idle": "2022-02-21T16:15:49.508867Z",
     "shell.execute_reply": "2022-02-21T16:15:49.508515Z",
     "shell.execute_reply.started": "2022-02-21T16:15:49.508485Z"
    },
    "tags": []
   },
   "outputs": [],
   "source": [
    "## read the dev_flags.txt to determine where to save\n",
    "with open(cwd+'/dev_flags.txt','r') as f:\n",
    "    raw_flags = f.read()\n",
    "flag_pattern = re.compile(r'= \\w+')\n",
    "flags1 = re.findall(flag_pattern,raw_flags)    \n",
    "flags_result = [i[2:] for i in flags1]\n",
    "dev_flag = flags_result[0]\n",
    "prod_flag = flags_result[1]"
   ]
  },
  {
   "cell_type": "code",
   "execution_count": null,
   "metadata": {
    "execution": {
     "iopub.status.busy": "2022-02-21T16:15:49.510647Z",
     "iopub.status.idle": "2022-02-21T16:15:49.511244Z",
     "shell.execute_reply": "2022-02-21T16:15:49.510915Z",
     "shell.execute_reply.started": "2022-02-21T16:15:49.510857Z"
    },
    "tags": []
   },
   "outputs": [],
   "source": [
    "import seaborn as sns\n",
    "import matplotlib.pyplot as plt\n",
    "sns.set()\n",
    "sns.set_style(\"whitegrid\")\n",
    "\n",
    "plt.figure(figsize=(9,6))\n",
    "# user_breakdown_df2 = user_breakdown_df.iloc[:-(12-today.month),:]\n",
    "user_breakdown_df2 = user_breakdown_df.iloc[:-12-(12-today.month),:]\n",
    "plt.stackplot(user_breakdown_df2.year_month, \\\n",
    "#               user_breakdown_df2[['clustered_track','self_track']].to_numpy().T, \\\n",
    "#              labels=['Classroom', 'Unclassified'], \\\n",
    "#              colors=['green', 'orange']); #Self-study              \n",
    "              user_breakdown_df2[['clustered_m_track', 'clustered_mx_track', 'clustered_x_track', 'researcher_track','self_identified_track','self_track']].to_numpy().T, \\\n",
    "             labels=['Classroom M','Classroom MX','Classroom X','Research', 'Researcher','Unclassified'], \\\n",
    "             colors=['lawngreen','green', 'yellowgreen','red', 'fuchsia','orange']); #Self-study\n",
    "\n",
    "plt.legend(loc='upper left')#,fontsize=14);\n",
    "plt.ylabel('12-month Trailing Total')#,fontsize=15)\n",
    "plt.xlim([datetime.datetime(2001,1,1), datetime.datetime(2021,7,1)])#,fontsize=15)\n",
    "# plt.show()\n",
    "\n",
    "if dev_flag == 'True':\n",
    "    plt.savefig(cwd+'/plots_local/300_simusers_class_res_unclass_12months_GK.eps', dpi=300, bbox_inches='tight')\n",
    "    plt.savefig(cwd+'/plots_local/300_simusers_class_res_unclass_12months_GK.pdf', dpi=300, bbox_inches='tight')\n",
    "    plt.savefig(cwd+'/plots_local/300_simusers_class_res_unclass_12months_GK.png', dpi=300, bbox_inches='tight')\n",
    "elif prod_flag == 'True':\n",
    "    plt.savefig(cwd+'/plots_production/300_simusers_class_res_unclass_12months_GK.eps', dpi=300, bbox_inches='tight')\n",
    "    plt.savefig(cwd+'/plots_production/300_simusers_class_res_unclass_12months_GK.pdf', dpi=300, bbox_inches='tight')\n",
    "    plt.savefig(cwd+'/plots_production/300_simusers_class_res_unclass_12months_GK.png', dpi=300, bbox_inches='tight')\n",
    "else:\n",
    "    print('no printing flag is active')"
   ]
  },
  {
   "cell_type": "code",
   "execution_count": null,
   "metadata": {
    "execution": {
     "iopub.status.busy": "2022-02-21T16:15:49.514326Z",
     "iopub.status.idle": "2022-02-21T16:15:49.515096Z",
     "shell.execute_reply": "2022-02-21T16:15:49.514778Z",
     "shell.execute_reply.started": "2022-02-21T16:15:49.514698Z"
    },
    "tags": []
   },
   "outputs": [],
   "source": [
    "total = user_breakdown_df2['clustered_track'].to_numpy()+user_breakdown_df2['researcher_track'].to_numpy()+\\\n",
    "                        user_breakdown_df2['self_track'].to_numpy() + user_breakdown_df2['self_identified_track'].to_numpy()\n",
    "display(len(total))\n",
    "user_breakdown_df2['clustered_track_per'] = 100*np.divide(user_breakdown_df2['clustered_track'],total)\n",
    "user_breakdown_df2['self_identified_track_per'] = 100*np.divide(user_breakdown_df2['self_identified_track'], total)\n",
    "user_breakdown_df2['researcher_track_per'] = 100*np.divide(user_breakdown_df2['researcher_track'], total)\n",
    "user_breakdown_df2['self_track_per'] = 100*np.divide(user_breakdown_df2['self_track'], total)"
   ]
  },
  {
   "cell_type": "code",
   "execution_count": null,
   "metadata": {
    "execution": {
     "iopub.status.busy": "2022-02-21T16:15:49.519780Z",
     "iopub.status.idle": "2022-02-21T16:15:49.521365Z",
     "shell.execute_reply": "2022-02-21T16:15:49.520840Z",
     "shell.execute_reply.started": "2022-02-21T16:15:49.520806Z"
    },
    "tags": []
   },
   "outputs": [],
   "source": [
    "plt.figure(figsize=(9,6))\n",
    "plt.plot(user_breakdown_df2.year_month, user_breakdown_df2.clustered_track_per, label='classroom', \\\n",
    "             color='green');\n",
    "plt.plot(user_breakdown_df2.year_month, user_breakdown_df2.researcher_track_per, label='research', \\\n",
    "             color='red');\n",
    "plt.plot(user_breakdown_df2.year_month, user_breakdown_df2.self_identified_track_per, label='self-identified', \\\n",
    "             color='magenta');\n",
    "plt.plot(user_breakdown_df2.year_month, user_breakdown_df2.self_track_per, label='self-study', \\\n",
    "             color='orange');\n",
    "\n",
    "plt.ylim([0, 100])\n",
    "plt.legend(loc='upper right');\n",
    "plt.ylabel('Percentage (%)');\n",
    "plt.xlim([datetime.datetime(2001,1,1), datetime.datetime(2021,7,1)])\n",
    "# plt.show()\n",
    "\n",
    "if dev_flag == 'True':\n",
    "    plt.savefig(cwd+'/plots_local/300_simusers_class_res_unclass_12months_percent_copied.eps', dpi=300, bbox_inches='tight')\n",
    "    plt.savefig(cwd+'/plots_local/300_simusers_class_res_unclass_12months_percent_copied.pdf', dpi=300, bbox_inches='tight')\n",
    "    plt.savefig(cwd+'/plots_local/300_simusers_class_res_unclass_12months_percent_copied.png', dpi=300, bbox_inches='tight')\n",
    "elif prod_flag == 'True':\n",
    "    plt.savefig(cwd+'/plots_production/300_simusers_class_res_unclass_12months_percent_copied.eps', dpi=300, bbox_inches='tight')\n",
    "    plt.savefig(cwd+'/plots_production/300_simusers_class_res_unclass_12months_percent_copied.pdf', dpi=300, bbox_inches='tight')\n",
    "    plt.savefig(cwd+'/plots_production/300_simusers_class_res_unclass_12months_percent_copied.png', dpi=300, bbox_inches='tight')\n",
    "else:\n",
    "    print('no printing flag is active')"
   ]
  },
  {
   "cell_type": "code",
   "execution_count": null,
   "metadata": {
    "execution": {
     "iopub.status.busy": "2022-02-21T16:15:49.524117Z",
     "iopub.status.idle": "2022-02-21T16:15:49.524679Z",
     "shell.execute_reply": "2022-02-21T16:15:49.524372Z",
     "shell.execute_reply.started": "2022-02-21T16:15:49.524353Z"
    },
    "tags": []
   },
   "outputs": [],
   "source": [
    "user_breakdown_df2.to_csv(cwd+'/cached_data/nh_user_breakdown.csv')"
   ]
  },
  {
   "cell_type": "code",
   "execution_count": null,
   "metadata": {},
   "outputs": [],
   "source": []
  },
  {
   "cell_type": "code",
   "execution_count": null,
   "metadata": {},
   "outputs": [],
   "source": []
  },
  {
   "cell_type": "code",
   "execution_count": null,
   "metadata": {},
   "outputs": [],
   "source": []
  }
 ],
 "metadata": {
  "kernelspec": {
   "display_name": "Python 3 (ipykernel)",
   "language": "python",
   "name": "python3"
  },
  "language_info": {
   "codemirror_mode": {
    "name": "ipython",
    "version": 3
   },
   "file_extension": ".py",
   "mimetype": "text/x-python",
   "name": "python",
   "nbconvert_exporter": "python",
   "pygments_lexer": "ipython3",
   "version": "3.8.10"
  }
 },
 "nbformat": 4,
 "nbformat_minor": 4
}
