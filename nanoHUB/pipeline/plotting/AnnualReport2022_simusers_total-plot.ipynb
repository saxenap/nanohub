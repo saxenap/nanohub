{
 "cells": [
  {
   "cell_type": "code",
   "execution_count": 11,
   "metadata": {
    "execution": {
     "iopub.execute_input": "2022-02-25T17:13:33.741905Z",
     "iopub.status.busy": "2022-02-25T17:13:33.741366Z",
     "iopub.status.idle": "2022-02-25T17:13:33.751545Z",
     "shell.execute_reply": "2022-02-25T17:13:33.750225Z",
     "shell.execute_reply.started": "2022-02-25T17:13:33.741830Z"
    },
    "tags": []
   },
   "outputs": [],
   "source": [
    "## build researcher events, student events, and self-study events\n",
    "## researcher are simply those with NH citations"
   ]
  },
  {
   "cell_type": "code",
   "execution_count": 12,
   "metadata": {
    "execution": {
     "iopub.execute_input": "2022-02-25T17:13:34.241369Z",
     "iopub.status.busy": "2022-02-25T17:13:34.240948Z",
     "iopub.status.idle": "2022-02-25T17:13:34.249172Z",
     "shell.execute_reply": "2022-02-25T17:13:34.247599Z",
     "shell.execute_reply.started": "2022-02-25T17:13:34.241326Z"
    },
    "tags": []
   },
   "outputs": [],
   "source": [
    "import sys\n",
    "\n",
    "import pandas as pd\n",
    "import numpy as np\n",
    "import time\n",
    "import datetime\n",
    "import os\n",
    "from nanoHUB.application import Application\n",
    "from nanoHUB.configuration import ClusteringConfiguration\n",
    "from nanoHUB.pipeline.geddes.data import get_default_s3_client\n",
    "from nanoHUB.dataaccess.lake import S3FileMapper\n",
    "\n",
    "from nanoHUB.clustering.infra import get_mike_only_clustered_users, get_xufeng_only_clustered_users, get_mike_xufeng_clustered_users\n",
    "from nanoHUB.clustering.infra import create_clusters_repository, add_cluster_info, get_all_clustered_users, get_all_self_study_users, get_all_self_identified_users"
   ]
  },
  {
   "cell_type": "code",
   "execution_count": 13,
   "metadata": {
    "execution": {
     "iopub.execute_input": "2022-02-25T17:13:34.722296Z",
     "iopub.status.busy": "2022-02-25T17:13:34.721655Z",
     "iopub.status.idle": "2022-02-25T17:13:34.728560Z",
     "shell.execute_reply": "2022-02-25T17:13:34.727022Z",
     "shell.execute_reply.started": "2022-02-25T17:13:34.722263Z"
    },
    "tags": []
   },
   "outputs": [],
   "source": [
    "pd.set_option('display.max_columns', None)\n",
    "cwd = os.getcwd()"
   ]
  },
  {
   "cell_type": "code",
   "execution_count": 14,
   "metadata": {
    "execution": {
     "iopub.execute_input": "2022-02-25T17:13:35.979328Z",
     "iopub.status.busy": "2022-02-25T17:13:35.978657Z",
     "iopub.status.idle": "2022-02-25T17:13:35.987110Z",
     "shell.execute_reply": "2022-02-25T17:13:35.985865Z",
     "shell.execute_reply.started": "2022-02-25T17:13:35.979295Z"
    },
    "tags": []
   },
   "outputs": [],
   "source": [
    "## determine starting year\n",
    "#if cache_flag == False:\n",
    "start_year_base = 1999 #2000\n",
    "#start_year_base = 2019 #2000\n",
    "pathsave=cwd+'/cached_data/'\n",
    "pathsave=cwd+'/test_data/'\n",
    "pathsave=cwd+'/AnnualReport2022_data/'\n",
    "pathsave=cwd+'/total_data_safe/2020_'\n",
    "pathsave=cwd+'/total_data/'\n",
    "pathsave=cwd+'/AnnualReport2022_totalcount_data/'\n",
    "\n"
   ]
  },
  {
   "cell_type": "code",
   "execution_count": 15,
   "metadata": {
    "execution": {
     "iopub.execute_input": "2022-02-25T17:13:36.541985Z",
     "iopub.status.busy": "2022-02-25T17:13:36.541710Z",
     "iopub.status.idle": "2022-02-25T17:13:36.820097Z",
     "shell.execute_reply": "2022-02-25T17:13:36.818975Z",
     "shell.execute_reply.started": "2022-02-25T17:13:36.541959Z"
    },
    "tags": []
   },
   "outputs": [],
   "source": [
    "application = Application.get_instance()\n",
    "nanohub_db = application.new_db_engine('nanohub')\n",
    "nanohub_metrics_db = application.new_db_engine('nanohub_metrics')\n",
    "wang159_myrmekes_db = application.new_db_engine('rfm_data')\n",
    "\n",
    "s3_client = get_default_s3_client(application)\n",
    "derived_data_file_path = 'derived_data_for_users.csv'\n",
    "processed_mapper = S3FileMapper(s3_client, ClusteringConfiguration().bucket_name_processed)"
   ]
  },
  {
   "cell_type": "markdown",
   "metadata": {
    "tags": []
   },
   "source": [
    "## Cumulative classroom/research/self-study"
   ]
  },
  {
   "cell_type": "code",
   "execution_count": 16,
   "metadata": {
    "execution": {
     "iopub.execute_input": "2022-02-25T17:13:37.974849Z",
     "iopub.status.busy": "2022-02-25T17:13:37.974567Z",
     "iopub.status.idle": "2022-02-25T17:13:37.980733Z",
     "shell.execute_reply": "2022-02-25T17:13:37.979232Z",
     "shell.execute_reply.started": "2022-02-25T17:13:37.974822Z"
    },
    "tags": []
   },
   "outputs": [
    {
     "name": "stdout",
     "output_type": "stream",
     "text": [
      "2022-02-25 17:13:37.975862\n"
     ]
    }
   ],
   "source": [
    "today = datetime.datetime.today()\n",
    "print(today)"
   ]
  },
  {
   "cell_type": "code",
   "execution_count": 17,
   "metadata": {
    "execution": {
     "iopub.execute_input": "2022-02-25T17:13:38.426884Z",
     "iopub.status.busy": "2022-02-25T17:13:38.426568Z",
     "iopub.status.idle": "2022-02-25T17:13:38.432337Z",
     "shell.execute_reply": "2022-02-25T17:13:38.430736Z",
     "shell.execute_reply.started": "2022-02-25T17:13:38.426857Z"
    },
    "tags": []
   },
   "outputs": [],
   "source": [
    "## determine starting year\n",
    "#if cache_flag == False:\n",
    "start_year_base = 1999 #2000\n",
    "#else:\n",
    "#     print('check the saved file')\n",
    "#    start_year_base = int(user_breakdown_df['year_month'].to_list()[-1][:4])\n",
    "    \n",
    "    "
   ]
  },
  {
   "cell_type": "code",
   "execution_count": 18,
   "metadata": {
    "execution": {
     "iopub.execute_input": "2022-02-25T17:13:39.005901Z",
     "iopub.status.busy": "2022-02-25T17:13:39.005645Z",
     "iopub.status.idle": "2022-02-25T17:13:39.010424Z",
     "shell.execute_reply": "2022-02-25T17:13:39.009492Z",
     "shell.execute_reply.started": "2022-02-25T17:13:39.005875Z"
    },
    "tags": []
   },
   "outputs": [],
   "source": [
    "from copy import deepcopy"
   ]
  },
  {
   "cell_type": "code",
   "execution_count": 19,
   "metadata": {
    "execution": {
     "iopub.execute_input": "2022-02-25T17:13:39.563362Z",
     "iopub.status.busy": "2022-02-25T17:13:39.562811Z",
     "iopub.status.idle": "2022-02-25T17:13:39.596637Z",
     "shell.execute_reply": "2022-02-25T17:13:39.595042Z",
     "shell.execute_reply.started": "2022-02-25T17:13:39.563333Z"
    },
    "tags": []
   },
   "outputs": [
    {
     "name": "stdout",
     "output_type": "stream",
     "text": [
      "allmonths partial list [datetime.datetime(2000, 1, 1, 0, 0), datetime.datetime(2000, 2, 1, 0, 0), datetime.datetime(2000, 3, 1, 0, 0), datetime.datetime(2000, 4, 1, 0, 0), datetime.datetime(2000, 5, 1, 0, 0), datetime.datetime(2000, 6, 1, 0, 0), datetime.datetime(2000, 7, 1, 0, 0), datetime.datetime(2000, 8, 1, 0, 0), datetime.datetime(2000, 9, 1, 0, 0), datetime.datetime(2000, 10, 1, 0, 0), datetime.datetime(2000, 11, 1, 0, 0), datetime.datetime(2000, 12, 1, 0, 0), datetime.datetime(2001, 1, 1, 0, 0), datetime.datetime(2001, 2, 1, 0, 0), datetime.datetime(2001, 3, 1, 0, 0), datetime.datetime(2001, 4, 1, 0, 0), datetime.datetime(2001, 5, 1, 0, 0), datetime.datetime(2001, 6, 1, 0, 0), datetime.datetime(2001, 7, 1, 0, 0), datetime.datetime(2001, 8, 1, 0, 0), datetime.datetime(2001, 9, 1, 0, 0), datetime.datetime(2001, 10, 1, 0, 0), datetime.datetime(2001, 11, 1, 0, 0), datetime.datetime(2001, 12, 1, 0, 0), datetime.datetime(2002, 1, 1, 0, 0), datetime.datetime(2002, 2, 1, 0, 0), datetime.datetime(2002, 3, 1, 0, 0), datetime.datetime(2002, 4, 1, 0, 0), datetime.datetime(2002, 5, 1, 0, 0), datetime.datetime(2002, 6, 1, 0, 0), datetime.datetime(2002, 7, 1, 0, 0), datetime.datetime(2002, 8, 1, 0, 0), datetime.datetime(2002, 9, 1, 0, 0), datetime.datetime(2002, 10, 1, 0, 0), datetime.datetime(2002, 11, 1, 0, 0), datetime.datetime(2002, 12, 1, 0, 0)]\n"
     ]
    }
   ],
   "source": [
    "cache_flag = False\n",
    "all_months_list = list()\n",
    "for this_year in range(start_year_base+1,today.year+2):\n",
    "    if cache_flag == True:\n",
    "        for this_month in range(1,today.month+1):\n",
    "            all_months_list.append(datetime.datetime(this_year, this_month, 1))\n",
    "    else:\n",
    "        for this_month in range(1,12+1):\n",
    "            all_months_list.append(datetime.datetime(this_year, this_month, 1))\n",
    "\n",
    "cache_all_month_list = pd.DataFrame()\n",
    "cache_all_month_list['Date'] = all_months_list\n",
    "cache_all_month_list.to_csv(cwd+'/cached_data/all_months_list.csv')\n",
    "cache_all_month_list.to_csv(cwd+'/cached_data/'+ str(start_year_base)+'_all_months_list.csv')\n",
    "cache_all_month_list = []\n",
    "print('allmonths partial list',all_months_list[0:36])\n"
   ]
  },
  {
   "cell_type": "code",
   "execution_count": null,
   "metadata": {},
   "outputs": [],
   "source": []
  },
  {
   "cell_type": "code",
   "execution_count": 21,
   "metadata": {
    "execution": {
     "iopub.execute_input": "2022-02-25T17:14:08.194468Z",
     "iopub.status.busy": "2022-02-25T17:14:08.193426Z",
     "iopub.status.idle": "2022-02-25T17:14:08.260360Z",
     "shell.execute_reply": "2022-02-25T17:14:08.259253Z",
     "shell.execute_reply.started": "2022-02-25T17:14:08.194434Z"
    },
    "tags": []
   },
   "outputs": [
    {
     "name": "stdout",
     "output_type": "stream",
     "text": [
      "len(self_identified_track) 288\n",
      "len(researcher_track) 288\n",
      "len(self2_track) 288\n",
      "len(simtotal_track) 277\n",
      "len(clustered_track) 288\n",
      "len(clustered_m_track) 288\n",
      "len(clustered_x_track) 288\n",
      "clustered_mx_track[0:30] [0, 0, 3, 4, 7, 7, 7, 7, 8, 10, 10, 10, 10, 11, 11, 11, 11, 11, 11, 11, 12, 12, 12, 12, 12, 12, 12, 12, 13, 13]\n",
      "len(clustered_mx_track) 288\n"
     ]
    }
   ],
   "source": [
    "clustered_track = []\n",
    "clustered_m_track = []\n",
    "clustered_x_track = []\n",
    "clustered_mx_track = []\n",
    "self2_track = []\n",
    "researcher_track = []\n",
    "simtotal_track = []\n",
    "self_identified_track = []\n",
    "\n",
    "clustered_track_per = []\n",
    "self_track_per = []\n",
    "researcher_track_per = []\n",
    "\n",
    "self_identified_track_df = pd.read_csv(pathsave+'selfidentifiedauthors_track.csv',usecols=['track'])\n",
    "self_identified_track = self_identified_track_df['track'].tolist()\n",
    "#print('self_identified_track[0:30]',self_identified_track[0:30])\n",
    "print('len(self_identified_track)',len(self_identified_track))\n",
    "\n",
    "researcher_track_df = pd.read_csv(pathsave+'citingauthor_track.csv',usecols=['track'])\n",
    "researcher_track = researcher_track_df['track'].tolist()\n",
    "#print('researcher_track[0:30]',researcher_track[0:30])\n",
    "print('len(researcher_track)',len(researcher_track))\n",
    "\n",
    "self2_track_df = pd.read_csv(pathsave+'unclassified_track.csv',usecols=['track'])\n",
    "self2_track = self2_track_df['track'].tolist()\n",
    "#print('self2_track[0:30]',self2_track[0:30])\n",
    "print('len(self2_track)',len(self2_track))\n",
    "\n",
    "simtotal_track_df = pd.read_csv(pathsave+'simtotal_date_track_stitch.csv',usecols=['track'])\n",
    "simtotal_track = simtotal_track_df['track'].tolist()\n",
    "#print('simtotal_track[0:30]',simtotal_track[0:30])\n",
    "print('len(simtotal_track)',len(simtotal_track))\n",
    "\n",
    "clustered_track_df = pd.read_csv(pathsave+'clustered_all_track.csv',usecols=['track'])\n",
    "clustered_track = clustered_track_df['track'].tolist()\n",
    "#print('clustered_track[0:30]',clustered_track[0:30])\n",
    "print('len(clustered_track)',len(clustered_track))\n",
    "\n",
    "clustered_m_track_df = pd.read_csv(pathsave+'clustered_m_track.csv',usecols=['track'])\n",
    "clustered_m_track = clustered_m_track_df['track'].tolist()\n",
    "#print('clustered_m_track[0:30]',clustered_m_track[0:30])\n",
    "print('len(clustered_m_track)',len(clustered_m_track))\n",
    "\n",
    "clustered_x_track_df = pd.read_csv(pathsave+'clustered_x_track.csv',usecols=['track'])\n",
    "clustered_x_track = clustered_x_track_df['track'].tolist()\n",
    "#print('clustered_x_track[0:30]',clustered_x_track[0:30])\n",
    "print('len(clustered_x_track)',len(clustered_x_track))\n",
    "\n",
    "clustered_mx_track_df = pd.read_csv(pathsave+'clustered_mx_track.csv',usecols=['track'])\n",
    "clustered_mx_track = clustered_mx_track_df['track'].tolist()\n",
    "print('clustered_mx_track[0:30]',clustered_mx_track[0:30])\n",
    "print('len(clustered_mx_track)',len(clustered_mx_track))\n",
    "\n",
    "\n",
    "\n"
   ]
  },
  {
   "cell_type": "code",
   "execution_count": 22,
   "metadata": {
    "execution": {
     "iopub.execute_input": "2022-02-25T17:14:27.259960Z",
     "iopub.status.busy": "2022-02-25T17:14:27.259668Z",
     "iopub.status.idle": "2022-02-25T17:14:27.271840Z",
     "shell.execute_reply": "2022-02-25T17:14:27.270524Z",
     "shell.execute_reply.started": "2022-02-25T17:14:27.259933Z"
    },
    "tags": []
   },
   "outputs": [
    {
     "name": "stdout",
     "output_type": "stream",
     "text": [
      "simtotal_track  ['0', '0', '58', '72', '88', '96', '101', '119', '215', '269', '327', '378', '409', '616', '759', '789', '833', '848', '859', '866', '887', '920', '951', '986', '997', '1027', '1078', '1090', '1106', '1130', '1149', '1166', '1207', '1259', '1289', '1305', '1326', '1359', '1733', '1767', '1807', '1853', '1880', '1901', '2032', '2085', '2123', '2156', '2170', '2199', '2266', '2364', '2442', '2469', '2546', '2573', '2738', '2797', '2867', '2911', '2962', '3062', '3168', '3240', '3307', '3347', '3440', '3550', '3701', '3833', '4046', '4236', '4370', '4639', '4963', '5280', '5529', '5734', '6068', '6273', '6677', '6954', '7617', '8024', '8237', '8998', '9532', '10022', '10384', '10690', '10976', '11245', '11568', '11956', '12511', '12898', '13132', '13861', '14518', '14918']\n"
     ]
    }
   ],
   "source": [
    "#just for testing until all data is assembled, let's trim the lists to a smaller value \n",
    "if (1):\n",
    "    listlength=277\n",
    "    self_identified_track=self_identified_track[:listlength]\n",
    "    researcher_track=researcher_track[:listlength]\n",
    "    self2_track=self2_track[:listlength]\n",
    "    simtotal_track=simtotal_track[:listlength]\n",
    "    clustered_track=clustered_track[:listlength]\n",
    "    clustered_m_track=clustered_m_track[:listlength]\n",
    "    clustered_x_track=clustered_x_track[:listlength]\n",
    "    clustered_mx_track=clustered_mx_track[:listlength]\n",
    "    all_months_list=all_months_list[:listlength]\n",
    "\n",
    "    print('simtotal_track ',simtotal_track[0:100])"
   ]
  },
  {
   "cell_type": "code",
   "execution_count": 41,
   "metadata": {
    "execution": {
     "iopub.execute_input": "2022-02-25T17:22:44.556737Z",
     "iopub.status.busy": "2022-02-25T17:22:44.556449Z",
     "iopub.status.idle": "2022-02-25T17:22:44.606593Z",
     "shell.execute_reply": "2022-02-25T17:22:44.605294Z",
     "shell.execute_reply.started": "2022-02-25T17:22:44.556710Z"
    },
    "tags": []
   },
   "outputs": [
    {
     "data": {
      "text/html": [
       "<div>\n",
       "<style scoped>\n",
       "    .dataframe tbody tr th:only-of-type {\n",
       "        vertical-align: middle;\n",
       "    }\n",
       "\n",
       "    .dataframe tbody tr th {\n",
       "        vertical-align: top;\n",
       "    }\n",
       "\n",
       "    .dataframe thead th {\n",
       "        text-align: right;\n",
       "    }\n",
       "</style>\n",
       "<table border=\"1\" class=\"dataframe\">\n",
       "  <thead>\n",
       "    <tr style=\"text-align: right;\">\n",
       "      <th></th>\n",
       "      <th>year_month</th>\n",
       "      <th>simtotal_track</th>\n",
       "      <th>clustered_track</th>\n",
       "      <th>clustered_m_track</th>\n",
       "      <th>clustered_x_track</th>\n",
       "      <th>clustered_mx_track</th>\n",
       "      <th>self_identified_track</th>\n",
       "      <th>self_track</th>\n",
       "      <th>researcher_track</th>\n",
       "    </tr>\n",
       "  </thead>\n",
       "  <tbody>\n",
       "    <tr>\n",
       "      <th>272</th>\n",
       "      <td>2022-09-01</td>\n",
       "      <td>163954</td>\n",
       "      <td>79561</td>\n",
       "      <td>17025</td>\n",
       "      <td>15298</td>\n",
       "      <td>47238</td>\n",
       "      <td>1721</td>\n",
       "      <td>81981</td>\n",
       "      <td>2177</td>\n",
       "    </tr>\n",
       "    <tr>\n",
       "      <th>273</th>\n",
       "      <td>2022-10-01</td>\n",
       "      <td>163954</td>\n",
       "      <td>79561</td>\n",
       "      <td>17025</td>\n",
       "      <td>15298</td>\n",
       "      <td>47238</td>\n",
       "      <td>1721</td>\n",
       "      <td>81981</td>\n",
       "      <td>2177</td>\n",
       "    </tr>\n",
       "    <tr>\n",
       "      <th>274</th>\n",
       "      <td>2022-11-01</td>\n",
       "      <td>163954</td>\n",
       "      <td>79561</td>\n",
       "      <td>17025</td>\n",
       "      <td>15298</td>\n",
       "      <td>47238</td>\n",
       "      <td>1721</td>\n",
       "      <td>81981</td>\n",
       "      <td>2177</td>\n",
       "    </tr>\n",
       "    <tr>\n",
       "      <th>275</th>\n",
       "      <td>2022-12-01</td>\n",
       "      <td>163954</td>\n",
       "      <td>79561</td>\n",
       "      <td>17025</td>\n",
       "      <td>15298</td>\n",
       "      <td>47238</td>\n",
       "      <td>1721</td>\n",
       "      <td>81981</td>\n",
       "      <td>2177</td>\n",
       "    </tr>\n",
       "    <tr>\n",
       "      <th>276</th>\n",
       "      <td>2023-01-01</td>\n",
       "      <td>163954</td>\n",
       "      <td>79561</td>\n",
       "      <td>17025</td>\n",
       "      <td>15298</td>\n",
       "      <td>47238</td>\n",
       "      <td>1721</td>\n",
       "      <td>81981</td>\n",
       "      <td>2177</td>\n",
       "    </tr>\n",
       "  </tbody>\n",
       "</table>\n",
       "</div>"
      ],
      "text/plain": [
       "    year_month simtotal_track  clustered_track  clustered_m_track  \\\n",
       "272 2022-09-01         163954            79561              17025   \n",
       "273 2022-10-01         163954            79561              17025   \n",
       "274 2022-11-01         163954            79561              17025   \n",
       "275 2022-12-01         163954            79561              17025   \n",
       "276 2023-01-01         163954            79561              17025   \n",
       "\n",
       "     clustered_x_track  clustered_mx_track  self_identified_track  self_track  \\\n",
       "272              15298               47238                   1721       81981   \n",
       "273              15298               47238                   1721       81981   \n",
       "274              15298               47238                   1721       81981   \n",
       "275              15298               47238                   1721       81981   \n",
       "276              15298               47238                   1721       81981   \n",
       "\n",
       "     researcher_track  \n",
       "272              2177  \n",
       "273              2177  \n",
       "274              2177  \n",
       "275              2177  \n",
       "276              2177  "
      ]
     },
     "metadata": {},
     "output_type": "display_data"
    },
    {
     "data": {
      "text/html": [
       "<div>\n",
       "<style scoped>\n",
       "    .dataframe tbody tr th:only-of-type {\n",
       "        vertical-align: middle;\n",
       "    }\n",
       "\n",
       "    .dataframe tbody tr th {\n",
       "        vertical-align: top;\n",
       "    }\n",
       "\n",
       "    .dataframe thead th {\n",
       "        text-align: right;\n",
       "    }\n",
       "</style>\n",
       "<table border=\"1\" class=\"dataframe\">\n",
       "  <thead>\n",
       "    <tr style=\"text-align: right;\">\n",
       "      <th></th>\n",
       "      <th>year_month</th>\n",
       "      <th>simtotal_track</th>\n",
       "      <th>clustered_track</th>\n",
       "      <th>clustered_m_track</th>\n",
       "      <th>clustered_x_track</th>\n",
       "      <th>clustered_mx_track</th>\n",
       "      <th>self_identified_track</th>\n",
       "      <th>self_track</th>\n",
       "      <th>researcher_track</th>\n",
       "    </tr>\n",
       "  </thead>\n",
       "  <tbody>\n",
       "    <tr>\n",
       "      <th>263</th>\n",
       "      <td>2021-12-01</td>\n",
       "      <td>158850</td>\n",
       "      <td>78987</td>\n",
       "      <td>16817</td>\n",
       "      <td>15250</td>\n",
       "      <td>46920</td>\n",
       "      <td>1620</td>\n",
       "      <td>79400</td>\n",
       "      <td>2166</td>\n",
       "    </tr>\n",
       "    <tr>\n",
       "      <th>264</th>\n",
       "      <td>2022-01-01</td>\n",
       "      <td>160695</td>\n",
       "      <td>79561</td>\n",
       "      <td>17025</td>\n",
       "      <td>15298</td>\n",
       "      <td>47238</td>\n",
       "      <td>1652</td>\n",
       "      <td>79872</td>\n",
       "      <td>2170</td>\n",
       "    </tr>\n",
       "    <tr>\n",
       "      <th>265</th>\n",
       "      <td>2022-02-01</td>\n",
       "      <td>161769</td>\n",
       "      <td>79561</td>\n",
       "      <td>17025</td>\n",
       "      <td>15298</td>\n",
       "      <td>47238</td>\n",
       "      <td>1693</td>\n",
       "      <td>81391</td>\n",
       "      <td>2175</td>\n",
       "    </tr>\n",
       "    <tr>\n",
       "      <th>266</th>\n",
       "      <td>2022-03-01</td>\n",
       "      <td>163334</td>\n",
       "      <td>79561</td>\n",
       "      <td>17025</td>\n",
       "      <td>15298</td>\n",
       "      <td>47238</td>\n",
       "      <td>1721</td>\n",
       "      <td>81981</td>\n",
       "      <td>2177</td>\n",
       "    </tr>\n",
       "    <tr>\n",
       "      <th>267</th>\n",
       "      <td>2022-04-01</td>\n",
       "      <td>163954</td>\n",
       "      <td>79561</td>\n",
       "      <td>17025</td>\n",
       "      <td>15298</td>\n",
       "      <td>47238</td>\n",
       "      <td>1721</td>\n",
       "      <td>81981</td>\n",
       "      <td>2177</td>\n",
       "    </tr>\n",
       "  </tbody>\n",
       "</table>\n",
       "</div>"
      ],
      "text/plain": [
       "    year_month simtotal_track  clustered_track  clustered_m_track  \\\n",
       "263 2021-12-01         158850            78987              16817   \n",
       "264 2022-01-01         160695            79561              17025   \n",
       "265 2022-02-01         161769            79561              17025   \n",
       "266 2022-03-01         163334            79561              17025   \n",
       "267 2022-04-01         163954            79561              17025   \n",
       "\n",
       "     clustered_x_track  clustered_mx_track  self_identified_track  self_track  \\\n",
       "263              15250               46920                   1620       79400   \n",
       "264              15298               47238                   1652       79872   \n",
       "265              15298               47238                   1693       81391   \n",
       "266              15298               47238                   1721       81981   \n",
       "267              15298               47238                   1721       81981   \n",
       "\n",
       "     researcher_track  \n",
       "263              2166  \n",
       "264              2170  \n",
       "265              2175  \n",
       "266              2177  \n",
       "267              2177  "
      ]
     },
     "metadata": {},
     "output_type": "display_data"
    },
    {
     "name": "stdout",
     "output_type": "stream",
     "text": [
      "date  2022-02-01 00:00:00 user_breakdown_df2['simtotal_track'][timeslot] =  161769\n",
      "date  2022-02-01 00:00:00 user_breakdown_df2['clustered_track'][timeslot] =  79561\n",
      "date  2022-02-01 00:00:00 user_breakdown_df2['self_track'][timeslot] =  81391\n",
      "date  2022-02-01 00:00:00 user_breakdown_df2['researcher_track'][timeslot] =  2175\n",
      "date  2022-02-01 00:00:00 user_breakdown_df2['self_identified_track'][timeslot] =  1693\n",
      "date  2022-02-01 00:00:00 all researchers =  3868\n"
     ]
    }
   ],
   "source": [
    "user_breakdown_df2 = pd.DataFrame()\n",
    "user_breakdown_df2['year_month'] = all_months_list\n",
    "user_breakdown_df2['simtotal_track'] = simtotal_track\n",
    "user_breakdown_df2['clustered_track'] = clustered_track\n",
    "user_breakdown_df2['clustered_m_track'] = clustered_m_track\n",
    "user_breakdown_df2['clustered_x_track'] = clustered_x_track\n",
    "user_breakdown_df2['clustered_mx_track'] = clustered_mx_track\n",
    "user_breakdown_df2['self_identified_track'] = self_identified_track\n",
    "user_breakdown_df2['self_track'] = self2_track\n",
    "user_breakdown_df2['researcher_track'] = researcher_track\n",
    "display(user_breakdown_df2.tail(5))\n",
    "\n",
    "display(user_breakdown_df2[263:268])\n",
    "\n",
    "timeslot=265\n",
    "\n",
    "print(\"date \",user_breakdown_df2['year_month'][timeslot], \"user_breakdown_df2['simtotal_track'][timeslot] = \", user_breakdown_df2['simtotal_track'][timeslot])\n",
    "print(\"date \",user_breakdown_df2['year_month'][timeslot], \"user_breakdown_df2['clustered_track'][timeslot] = \", user_breakdown_df2['clustered_track'][timeslot])\n",
    "print(\"date \",user_breakdown_df2['year_month'][timeslot], \"user_breakdown_df2['self_track'][timeslot] = \", user_breakdown_df2['self_track'][timeslot])\n",
    "print(\"date \",user_breakdown_df2['year_month'][timeslot], \"user_breakdown_df2['researcher_track'][timeslot] = \", user_breakdown_df2['researcher_track'][timeslot])\n",
    "print(\"date \",user_breakdown_df2['year_month'][timeslot], \"user_breakdown_df2['self_identified_track'][timeslot] = \", user_breakdown_df2['self_identified_track'][timeslot])\n",
    "print(\"date \",user_breakdown_df2['year_month'][timeslot], \"all researchers = \", user_breakdown_df2['researcher_track'][timeslot]+ user_breakdown_df2['self_identified_track'][timeslot])\n",
    "\n"
   ]
  },
  {
   "cell_type": "code",
   "execution_count": 25,
   "metadata": {
    "execution": {
     "iopub.execute_input": "2022-02-25T17:15:39.435051Z",
     "iopub.status.busy": "2022-02-25T17:15:39.434626Z",
     "iopub.status.idle": "2022-02-25T17:15:39.442940Z",
     "shell.execute_reply": "2022-02-25T17:15:39.441250Z",
     "shell.execute_reply.started": "2022-02-25T17:15:39.435012Z"
    },
    "tags": []
   },
   "outputs": [],
   "source": [
    "# user_breakdown_df.to_csv(cwd+'/cached_data/temp.csv')"
   ]
  },
  {
   "cell_type": "code",
   "execution_count": 26,
   "metadata": {
    "execution": {
     "iopub.execute_input": "2022-02-25T17:15:40.166246Z",
     "iopub.status.busy": "2022-02-25T17:15:40.165910Z",
     "iopub.status.idle": "2022-02-25T17:15:40.171567Z",
     "shell.execute_reply": "2022-02-25T17:15:40.170163Z",
     "shell.execute_reply.started": "2022-02-25T17:15:40.166215Z"
    },
    "tags": []
   },
   "outputs": [],
   "source": [
    "import re"
   ]
  },
  {
   "cell_type": "code",
   "execution_count": 27,
   "metadata": {
    "execution": {
     "iopub.execute_input": "2022-02-25T17:15:40.668662Z",
     "iopub.status.busy": "2022-02-25T17:15:40.668108Z",
     "iopub.status.idle": "2022-02-25T17:15:40.679391Z",
     "shell.execute_reply": "2022-02-25T17:15:40.677167Z",
     "shell.execute_reply.started": "2022-02-25T17:15:40.668627Z"
    },
    "tags": []
   },
   "outputs": [],
   "source": [
    "## read the dev_flags.txt to determine where to save\n",
    "with open(cwd+'/dev_flags.txt','r') as f:\n",
    "    raw_flags = f.read()\n",
    "flag_pattern = re.compile(r'= \\w+')\n",
    "flags1 = re.findall(flag_pattern,raw_flags)    \n",
    "flags_result = [i[2:] for i in flags1]\n",
    "dev_flag = flags_result[0]\n",
    "prod_flag = flags_result[1]"
   ]
  },
  {
   "cell_type": "code",
   "execution_count": 28,
   "metadata": {
    "execution": {
     "iopub.execute_input": "2022-02-25T17:15:41.156282Z",
     "iopub.status.busy": "2022-02-25T17:15:41.155897Z",
     "iopub.status.idle": "2022-02-25T17:15:44.229110Z",
     "shell.execute_reply": "2022-02-25T17:15:44.228200Z",
     "shell.execute_reply.started": "2022-02-25T17:15:41.156252Z"
    },
    "tags": []
   },
   "outputs": [
    {
     "name": "stdout",
     "output_type": "stream",
     "text": [
      "[WARNING] [warnings - py.warnings]: /tmp/ipykernel_6556/4171713107.py:23: UserWarning: 'set_params()' not defined for locator of type <class 'matplotlib.dates.AutoDateLocator'>\n",
      "  plt.locator_params(axis=\"x\", nbins=40)\n",
      " [warnings._showwarnmsg:109]\n",
      "[WARNING] [backend_ps - matplotlib.backends.backend_ps]: The PostScript backend does not support transparency; partially transparent artists will be rendered opaque. [backend_ps._is_transparent:303]\n"
     ]
    },
    {
     "data": {
      "image/png": "[encoded data removed]",
      "text/plain": [
       "<Figure size 648x432 with 1 Axes>"
      ]
     },
     "metadata": {},
     "output_type": "display_data"
    }
   ],
   "source": [
    "import seaborn as sns\n",
    "import matplotlib.pyplot as plt\n",
    "sns.set()\n",
    "sns.set_style(\"whitegrid\")\n",
    "\n",
    "end_date = datetime.datetime(2022,1,1)\n",
    "start_date = datetime.datetime(2001,1,1)\n",
    "\n",
    "plt.figure(figsize=(9,6))\n",
    "# user_breakdown_df2 = user_breakdown_df.iloc[:-(12-today.month),:]\n",
    "#user_breakdown_df2 = user_breakdown_df.iloc[:-12-(12-today.month),:]\n",
    "plt.stackplot(user_breakdown_df2.year_month, \\\n",
    "#               user_breakdown_df2[['clustered_track','self_track']].to_numpy().T, \\\n",
    "#              labels=['Classroom', 'Unclassified'], \\\n",
    "#              colors=['green', 'orange']); #Self-study              \n",
    "              user_breakdown_df2[['clustered_x_track', 'clustered_mx_track', 'clustered_m_track', 'researcher_track','self_identified_track','self_track']].to_numpy().T, \\\n",
    "             labels=['Classroom X','Classroom MX','Classroom M','Citing Researchers', 'Self-Identified Researcher','Unclassified'], \\\n",
    "             colors=['lawngreen','green', 'yellowgreen','red', 'fuchsia','orange']); #Self-study\n",
    "\n",
    "plt.legend(loc='upper left')#,fontsize=14);\n",
    "plt.ylabel('Total Simulation Users Over All Time')#,fontsize=15)\n",
    "plt.xlim([start_date, end_date])#,fontsize=15)\n",
    "plt.locator_params(axis=\"x\", nbins=40)\n",
    "#plt.xticks( rotation=45, ha='right')\n",
    "# plt.show()\n",
    "\n",
    "if dev_flag == 'True':\n",
    "    plt.savefig(cwd+'/plots_local/300_simusers_total_GK.eps', dpi=300, bbox_inches='tight')\n",
    "    plt.savefig(cwd+'/plots_local/300_simusers_total_GK.pdf', dpi=300, bbox_inches='tight')\n",
    "    plt.savefig(cwd+'/plots_local/300_simusers_total_12months_GK.png', dpi=300, bbox_inches='tight')\n",
    "elif prod_flag == 'True':\n",
    "    plt.savefig(cwd+'/plots_production/300_simusers_total_GK.eps', dpi=300, bbox_inches='tight')\n",
    "    plt.savefig(cwd+'/plots_production/300_simusers_total_GK.pdf', dpi=300, bbox_inches='tight')\n",
    "    plt.savefig(cwd+'/plots_production/300_simusers_total_GK.png', dpi=300, bbox_inches='tight')\n",
    "else:\n",
    "    print('no printing flag is active')"
   ]
  },
  {
   "cell_type": "code",
   "execution_count": 29,
   "metadata": {
    "execution": {
     "iopub.execute_input": "2022-02-25T17:15:44.231386Z",
     "iopub.status.busy": "2022-02-25T17:15:44.230492Z",
     "iopub.status.idle": "2022-02-25T17:15:44.251590Z",
     "shell.execute_reply": "2022-02-25T17:15:44.251011Z",
     "shell.execute_reply.started": "2022-02-25T17:15:44.231342Z"
    },
    "tags": []
   },
   "outputs": [
    {
     "data": {
      "text/plain": [
       "[2697, 2741, 2789, 2806, 2822]"
      ]
     },
     "metadata": {},
     "output_type": "display_data"
    },
    {
     "data": {
      "text/plain": [
       "[1768, 1778, 1788, 1800, 1810]"
      ]
     },
     "metadata": {},
     "output_type": "display_data"
    },
    {
     "data": {
      "text/plain": [
       "[929, 963, 1001, 1006, 1012]"
      ]
     },
     "metadata": {},
     "output_type": "display_data"
    }
   ],
   "source": [
    "total = user_breakdown_df2['clustered_track'].to_numpy()+\\\n",
    "        user_breakdown_df2['self_track'].to_numpy() +\\\n",
    "        user_breakdown_df2['researcher_track'].to_numpy()+\\\n",
    "        user_breakdown_df2['self_identified_track'].to_numpy() \n",
    "\n",
    "#print('total ',total)\n",
    "\n",
    "total_research = user_breakdown_df2['researcher_track'].to_numpy()+\\\n",
    "                 user_breakdown_df2['self_identified_track'].to_numpy() \n",
    "\n",
    "#print('total_research ',total_research)\n",
    "user_breakdown_df2['all_researchers'] = np.add(user_breakdown_df2['self_identified_track'], user_breakdown_df2['researcher_track'])\n",
    "#user_breakdown_df2['all_researchers'] = user_breakdown_df2[['researcher_track','self_identified_track']].sum\n",
    "display(user_breakdown_df2['all_researchers'].tolist()[200:205])\n",
    "display(user_breakdown_df2['researcher_track'].tolist()[200:205])\n",
    "display(user_breakdown_df2['self_identified_track'].tolist()[200:205])\n",
    "\n",
    "user_breakdown_df2['clustered_track_per'] = 100*np.divide(user_breakdown_df2['clustered_track'],total)\n",
    "user_breakdown_df2['self_identified_track_per'] = 100*np.divide(user_breakdown_df2['self_identified_track'], total)\n",
    "user_breakdown_df2['researcher_track_per'] = 100*np.divide(user_breakdown_df2['researcher_track'], total)\n",
    "user_breakdown_df2['self_track_per'] = 100*np.divide(user_breakdown_df2['self_track'], total)\n",
    "user_breakdown_df2['all_researchers_per'] = 100*np.divide(user_breakdown_df2['all_researchers'], total)"
   ]
  },
  {
   "cell_type": "code",
   "execution_count": 35,
   "metadata": {
    "execution": {
     "iopub.execute_input": "2022-02-25T17:16:54.212265Z",
     "iopub.status.busy": "2022-02-25T17:16:54.210839Z",
     "iopub.status.idle": "2022-02-25T17:16:54.255033Z",
     "shell.execute_reply": "2022-02-25T17:16:54.251633Z",
     "shell.execute_reply.started": "2022-02-25T17:16:54.212224Z"
    },
    "tags": []
   },
   "outputs": [
    {
     "data": {
      "text/html": [
       "<div>\n",
       "<style scoped>\n",
       "    .dataframe tbody tr th:only-of-type {\n",
       "        vertical-align: middle;\n",
       "    }\n",
       "\n",
       "    .dataframe tbody tr th {\n",
       "        vertical-align: top;\n",
       "    }\n",
       "\n",
       "    .dataframe thead th {\n",
       "        text-align: right;\n",
       "    }\n",
       "</style>\n",
       "<table border=\"1\" class=\"dataframe\">\n",
       "  <thead>\n",
       "    <tr style=\"text-align: right;\">\n",
       "      <th></th>\n",
       "      <th>year_month</th>\n",
       "      <th>simtotal_track</th>\n",
       "      <th>clustered_track</th>\n",
       "      <th>clustered_m_track</th>\n",
       "      <th>clustered_x_track</th>\n",
       "      <th>clustered_mx_track</th>\n",
       "      <th>self_identified_track</th>\n",
       "      <th>self_track</th>\n",
       "      <th>researcher_track</th>\n",
       "      <th>all_researchers</th>\n",
       "      <th>clustered_track_per</th>\n",
       "      <th>self_identified_track_per</th>\n",
       "      <th>researcher_track_per</th>\n",
       "      <th>self_track_per</th>\n",
       "      <th>all_researchers_per</th>\n",
       "    </tr>\n",
       "  </thead>\n",
       "  <tbody>\n",
       "    <tr>\n",
       "      <th>263</th>\n",
       "      <td>2021-12-01</td>\n",
       "      <td>158850</td>\n",
       "      <td>78987</td>\n",
       "      <td>16817</td>\n",
       "      <td>15250</td>\n",
       "      <td>46920</td>\n",
       "      <td>1620</td>\n",
       "      <td>79400</td>\n",
       "      <td>2166</td>\n",
       "      <td>3786</td>\n",
       "      <td>48.705395</td>\n",
       "      <td>0.998933</td>\n",
       "      <td>1.335611</td>\n",
       "      <td>48.960061</td>\n",
       "      <td>2.334544</td>\n",
       "    </tr>\n",
       "    <tr>\n",
       "      <th>264</th>\n",
       "      <td>2022-01-01</td>\n",
       "      <td>160695</td>\n",
       "      <td>79561</td>\n",
       "      <td>17025</td>\n",
       "      <td>15298</td>\n",
       "      <td>47238</td>\n",
       "      <td>1652</td>\n",
       "      <td>79872</td>\n",
       "      <td>2170</td>\n",
       "      <td>3822</td>\n",
       "      <td>48.734189</td>\n",
       "      <td>1.011914</td>\n",
       "      <td>1.329209</td>\n",
       "      <td>48.924688</td>\n",
       "      <td>2.341123</td>\n",
       "    </tr>\n",
       "    <tr>\n",
       "      <th>265</th>\n",
       "      <td>2022-02-01</td>\n",
       "      <td>161769</td>\n",
       "      <td>79561</td>\n",
       "      <td>17025</td>\n",
       "      <td>15298</td>\n",
       "      <td>47238</td>\n",
       "      <td>1693</td>\n",
       "      <td>81391</td>\n",
       "      <td>2175</td>\n",
       "      <td>3868</td>\n",
       "      <td>48.271448</td>\n",
       "      <td>1.027181</td>\n",
       "      <td>1.319621</td>\n",
       "      <td>49.381750</td>\n",
       "      <td>2.346803</td>\n",
       "    </tr>\n",
       "  </tbody>\n",
       "</table>\n",
       "</div>"
      ],
      "text/plain": [
       "    year_month simtotal_track  clustered_track  clustered_m_track  \\\n",
       "263 2021-12-01         158850            78987              16817   \n",
       "264 2022-01-01         160695            79561              17025   \n",
       "265 2022-02-01         161769            79561              17025   \n",
       "\n",
       "     clustered_x_track  clustered_mx_track  self_identified_track  self_track  \\\n",
       "263              15250               46920                   1620       79400   \n",
       "264              15298               47238                   1652       79872   \n",
       "265              15298               47238                   1693       81391   \n",
       "\n",
       "     researcher_track  all_researchers  clustered_track_per  \\\n",
       "263              2166             3786            48.705395   \n",
       "264              2170             3822            48.734189   \n",
       "265              2175             3868            48.271448   \n",
       "\n",
       "     self_identified_track_per  researcher_track_per  self_track_per  \\\n",
       "263                   0.998933              1.335611       48.960061   \n",
       "264                   1.011914              1.329209       48.924688   \n",
       "265                   1.027181              1.319621       49.381750   \n",
       "\n",
       "     all_researchers_per  \n",
       "263             2.334544  \n",
       "264             2.341123  \n",
       "265             2.346803  "
      ]
     },
     "metadata": {},
     "output_type": "display_data"
    },
    {
     "name": "stdout",
     "output_type": "stream",
     "text": [
      "date  2022-02-01 00:00:00 user_breakdown_df2['simtotal_track'][timeslot] =  161769\n",
      "date  2022-02-01 00:00:00 user_breakdown_df2['clustered_track'][timeslot] =  79561\n",
      "date  2022-02-01 00:00:00 user_breakdown_df2['self_track'][timeslot] =  81391\n",
      "date  2022-02-01 00:00:00 user_breakdown_df2['researcher_track'][timeslot] =  2175\n",
      "date  2022-02-01 00:00:00 user_breakdown_df2['self_identified_track'][timeslot] =  1693\n",
      "date  2022-02-01 00:00:00 all researchers =  3868\n",
      "date  2022-02-01 00:00:00 user_breakdown_df2['clustered_track_per'][timeslot] =  48.271447639849534\n",
      "date  2022-02-01 00:00:00 user_breakdown_df2['self_track_per'][timeslot] =  49.38174978764713\n",
      "date  2022-02-01 00:00:00 user_breakdown_df2['researcher_track_per'][timeslot] =  1.3196214051692756\n",
      "date  2022-02-01 00:00:00 user_breakdown_df2['self_identified_track_per'][timeslot] =  1.0271811673340614\n",
      "date  2022-02-01 00:00:00 user_breakdown_df2['all_researchers_per'][timeslot] =  2.346802572503337\n"
     ]
    }
   ],
   "source": [
    "display(user_breakdown_df2[263:266])\n",
    "\n",
    "timeslot=265\n",
    "\n",
    "print(\"date \",user_breakdown_df2['year_month'][timeslot], \"user_breakdown_df2['simtotal_track'][timeslot] = \", user_breakdown_df2['simtotal_track'][timeslot])\n",
    "print(\"date \",user_breakdown_df2['year_month'][timeslot], \"user_breakdown_df2['clustered_track'][timeslot] = \", user_breakdown_df2['clustered_track'][timeslot])\n",
    "print(\"date \",user_breakdown_df2['year_month'][timeslot], \"user_breakdown_df2['self_track'][timeslot] = \", user_breakdown_df2['self_track'][timeslot])\n",
    "print(\"date \",user_breakdown_df2['year_month'][timeslot], \"user_breakdown_df2['researcher_track'][timeslot] = \", user_breakdown_df2['researcher_track'][timeslot])\n",
    "print(\"date \",user_breakdown_df2['year_month'][timeslot], \"user_breakdown_df2['self_identified_track'][timeslot] = \", user_breakdown_df2['self_identified_track'][timeslot])\n",
    "print(\"date \",user_breakdown_df2['year_month'][timeslot], \"all researchers = \", user_breakdown_df2['researcher_track'][timeslot]+ user_breakdown_df2['self_identified_track'][timeslot])\n",
    "\n",
    "\n",
    "\n",
    "print(\"date \",user_breakdown_df2['year_month'][timeslot], \"user_breakdown_df2['clustered_track_per'][timeslot] = \", user_breakdown_df2['clustered_track_per'][timeslot])\n",
    "print(\"date \",user_breakdown_df2['year_month'][timeslot], \"user_breakdown_df2['self_track_per'][timeslot] = \", user_breakdown_df2['self_track_per'][timeslot])\n",
    "print(\"date \",user_breakdown_df2['year_month'][timeslot], \"user_breakdown_df2['researcher_track_per'][timeslot] = \", user_breakdown_df2['researcher_track_per'][timeslot])\n",
    "print(\"date \",user_breakdown_df2['year_month'][timeslot], \"user_breakdown_df2['self_identified_track_per'][timeslot] = \", user_breakdown_df2['self_identified_track_per'][timeslot])\n",
    "print(\"date \",user_breakdown_df2['year_month'][timeslot], \"user_breakdown_df2['all_researchers_per'][timeslot] = \", user_breakdown_df2['all_researchers_per'][timeslot])\n"
   ]
  },
  {
   "cell_type": "code",
   "execution_count": 36,
   "metadata": {
    "execution": {
     "iopub.execute_input": "2022-02-25T17:18:47.558714Z",
     "iopub.status.busy": "2022-02-25T17:18:47.558370Z",
     "iopub.status.idle": "2022-02-25T17:18:49.120396Z",
     "shell.execute_reply": "2022-02-25T17:18:49.119220Z",
     "shell.execute_reply.started": "2022-02-25T17:18:47.558683Z"
    },
    "tags": []
   },
   "outputs": [
    {
     "name": "stdout",
     "output_type": "stream",
     "text": [
      "[WARNING] [backend_ps - matplotlib.backends.backend_ps]: The PostScript backend does not support transparency; partially transparent artists will be rendered opaque. [backend_ps._is_transparent:303]\n"
     ]
    },
    {
     "data": {
      "image/png": "[encoded data removed]",
      "text/plain": [
       "<Figure size 648x432 with 1 Axes>"
      ]
     },
     "metadata": {},
     "output_type": "display_data"
    }
   ],
   "source": [
    "plt.figure(figsize=(9,6))\n",
    "plt.plot(user_breakdown_df2.year_month, user_breakdown_df2.clustered_track_per, label='Classroom Total', \\\n",
    "             color='green');\n",
    "plt.plot(user_breakdown_df2.year_month, user_breakdown_df2.all_researchers_per, label='All Researchers', \\\n",
    "             color='firebrick');\n",
    "plt.plot(user_breakdown_df2.year_month, user_breakdown_df2.researcher_track_per, label='Citing Researchers', \\\n",
    "             color='red');\n",
    "plt.plot(user_breakdown_df2.year_month, user_breakdown_df2.self_identified_track_per, label='Self-Identified Researchers', \\\n",
    "             color='magenta');\n",
    "plt.plot(user_breakdown_df2.year_month, user_breakdown_df2.self_track_per, label='Unclassified', \\\n",
    "             color='orange');\n",
    "\n",
    "plt.ylim([0, 100])\n",
    "plt.legend(loc='upper right');\n",
    "plt.ylabel('Percentage Distribution of Users Over All Time (%)');\n",
    "plt.xlim([start_date, end_date])\n",
    "# plt.show()\n",
    "\n",
    "if dev_flag == 'True':\n",
    "    plt.savefig(cwd+'/plots_local/300_simusers_total_percent_copied.eps', dpi=300, bbox_inches='tight')\n",
    "    plt.savefig(cwd+'/plots_local/300_simusers_total_percent_copied.pdf', dpi=300, bbox_inches='tight')\n",
    "    plt.savefig(cwd+'/plots_local/300_simusers_total_percent_copied.png', dpi=300, bbox_inches='tight')\n",
    "elif prod_flag == 'True':\n",
    "    plt.savefig(cwd+'/plots_production/300_simusers_total_percent_copied.eps', dpi=300, bbox_inches='tight')\n",
    "    plt.savefig(cwd+'/plots_production/300_simusers_total_percent_copied.pdf', dpi=300, bbox_inches='tight')\n",
    "    plt.savefig(cwd+'/plots_production/300_simusers_total_percent_copied.png', dpi=300, bbox_inches='tight')\n",
    "else:\n",
    "    print('no printing flag is active')"
   ]
  },
  {
   "cell_type": "code",
   "execution_count": 37,
   "metadata": {
    "execution": {
     "iopub.execute_input": "2022-02-25T17:18:49.123045Z",
     "iopub.status.busy": "2022-02-25T17:18:49.122811Z",
     "iopub.status.idle": "2022-02-25T17:18:49.146052Z",
     "shell.execute_reply": "2022-02-25T17:18:49.144955Z",
     "shell.execute_reply.started": "2022-02-25T17:18:49.123022Z"
    },
    "tags": []
   },
   "outputs": [],
   "source": [
    "user_breakdown_df2.to_csv(pathsave+'nh_user_breakdown.csv')"
   ]
  },
  {
   "cell_type": "code",
   "execution_count": 38,
   "metadata": {
    "execution": {
     "iopub.execute_input": "2022-02-25T17:18:49.147365Z",
     "iopub.status.busy": "2022-02-25T17:18:49.147161Z",
     "iopub.status.idle": "2022-02-25T17:18:49.959784Z",
     "shell.execute_reply": "2022-02-25T17:18:49.957836Z",
     "shell.execute_reply.started": "2022-02-25T17:18:49.147342Z"
    },
    "tags": []
   },
   "outputs": [
    {
     "name": "stdout",
     "output_type": "stream",
     "text": [
      "     Unnamed: 0          date  track\n",
      "100         100  '2008-05-01'   2070\n",
      "101         101  '2008-06-01'   2160\n",
      "102         102  '2008-07-01'   2206\n",
      "103         103  '2008-08-01'   2322\n",
      "104         104  '2008-09-01'   2364\n",
      "105         105  '2008-10-01'   2516\n",
      "106         106  '2008-11-01'   2868\n",
      "107         107  '2008-12-01'   3048\n",
      "108         108  '2009-01-01'   3160\n",
      "109         109  '2009-02-01'   3634\n",
      "110         110  '2009-03-01'   3879\n",
      "111         111  '2009-04-01'   4140\n",
      "112         112  '2009-05-01'   4326\n",
      "113         113  '2009-06-01'   4390\n",
      "114         114  '2009-07-01'   4460\n",
      "107    3048\n",
      "Name: track, dtype: int64\n",
      "clustered_track_norm =  3048\n",
      "clustered_track_norm direct =  3048\n"
     ]
    },
    {
     "ename": "TypeError",
     "evalue": "unsupported operand type(s) for -: 'list' and 'str'",
     "output_type": "error",
     "traceback": [
      "\u001b[0;31m---------------------------------------------------------------------------\u001b[0m",
      "\u001b[0;31mTypeError\u001b[0m                                 Traceback (most recent call last)",
      "Input \u001b[0;32mIn [38]\u001b[0m, in \u001b[0;36m<module>\u001b[0;34m\u001b[0m\n\u001b[1;32m     27\u001b[0m clustered_mx_clip[\u001b[38;5;241m0\u001b[39m:clipstart] \u001b[38;5;241m=\u001b[39m \u001b[38;5;241m0\u001b[39m\n\u001b[1;32m     29\u001b[0m simtotal_shift \u001b[38;5;241m=\u001b[39m                    simtotal_track_df[\u001b[38;5;124m'\u001b[39m\u001b[38;5;124mtrack\u001b[39m\u001b[38;5;124m'\u001b[39m][clipstart]\n\u001b[0;32m---> 30\u001b[0m simtotal_clip \u001b[38;5;241m=\u001b[39m                     \u001b[43msimtotal_track\u001b[49m\u001b[43m \u001b[49m\u001b[38;5;241;43m-\u001b[39;49m\u001b[43m               \u001b[49m\u001b[43msimtotal_shift\u001b[49m\n\u001b[1;32m     31\u001b[0m simtotal_clip[\u001b[38;5;241m0\u001b[39m:clipstart] \u001b[38;5;241m=\u001b[39m \u001b[38;5;241m0\u001b[39m\n\u001b[1;32m     33\u001b[0m self_identified_shift \u001b[38;5;241m=\u001b[39m                    self_identified_track_df[\u001b[38;5;124m'\u001b[39m\u001b[38;5;124mtrack\u001b[39m\u001b[38;5;124m'\u001b[39m][clipstart]\n",
      "\u001b[0;31mTypeError\u001b[0m: unsupported operand type(s) for -: 'list' and 'str'"
     ]
    }
   ],
   "source": [
    "clustered_date_track_df = pd.read_csv(pathsave+'clustered_all_date_track.csv')\n",
    "#display(clustered_date_track_df)\n",
    "print(clustered_date_track_df[100:115])\n",
    "\n",
    "clipstart = 107\n",
    "print(clustered_date_track_df['track'][clipstart:clipstart+1])\n",
    "clustered_shift = clustered_date_track_df['track'][clipstart]\n",
    "print('clustered_track_norm = ',clustered_shift)\n",
    "clustered_shift = clustered_track[clipstart]\n",
    "clustered_shift = clustered_track_df['track'][clipstart]\n",
    "print('clustered_track_norm direct = ',clustered_shift)\n",
    "\n",
    "clustered_clip = clustered_track - clustered_shift\n",
    "clustered_clip[0:clipstart] = 0\n",
    "#print(clustered_clip[80:120])\n",
    "\n",
    "clustered_m_shift =                    clustered_m_track_df['track'][clipstart]\n",
    "clustered_m_clip =                     clustered_m_track -               clustered_m_shift\n",
    "clustered_m_clip[0:clipstart] = 0\n",
    "\n",
    "clustered_x_shift =                    clustered_x_track_df['track'][clipstart]\n",
    "clustered_x_clip =                     clustered_x_track -               clustered_x_shift\n",
    "clustered_x_clip[0:clipstart] = 0\n",
    "\n",
    "clustered_mx_shift =                    clustered_mx_track_df['track'][clipstart]\n",
    "clustered_mx_clip =                     clustered_mx_track -               clustered_mx_shift\n",
    "clustered_mx_clip[0:clipstart] = 0\n",
    "\n",
    "simtotal_shift =                    simtotal_track_df['track'][clipstart]\n",
    "simtotal_clip =                     simtotal_track -               simtotal_shift\n",
    "simtotal_clip[0:clipstart] = 0\n",
    "\n",
    "self_identified_shift =                    self_identified_track_df['track'][clipstart]\n",
    "self_identified_clip =                     self_identified_track -               self_identified_shift\n",
    "self_identified_clip[0:clipstart] = 0\n",
    "\n",
    "researcher_shift =                    researcher_track_df['track'][clipstart]\n",
    "researcher_clip =                     researcher_track -               researcher_shift\n",
    "researcher_clip[0:clipstart] = 0\n",
    "\n",
    "simtotal_shift =                    simtotal_track_df['track'][clipstart]\n",
    "simtotal_clip =                     simtotal_track -               simtotal_shift\n",
    "simtotal_clip[0:clipstart] = 0\n",
    "\n",
    "self2_shift =                    self2_track_df['track'][clipstart]\n",
    "self2_clip =                     self2_track -               self2_shift\n",
    "self2_clip[0:clipstart] = 0"
   ]
  },
  {
   "cell_type": "code",
   "execution_count": 39,
   "metadata": {
    "execution": {
     "iopub.execute_input": "2022-02-25T17:18:49.985545Z",
     "iopub.status.busy": "2022-02-25T17:18:49.985268Z",
     "iopub.status.idle": "2022-02-25T17:18:50.033273Z",
     "shell.execute_reply": "2022-02-25T17:18:50.031585Z",
     "shell.execute_reply.started": "2022-02-25T17:18:49.985520Z"
    },
    "tags": []
   },
   "outputs": [
    {
     "ename": "NameError",
     "evalue": "name 'simtotal_clip' is not defined",
     "output_type": "error",
     "traceback": [
      "\u001b[0;31m---------------------------------------------------------------------------\u001b[0m",
      "\u001b[0;31mNameError\u001b[0m                                 Traceback (most recent call last)",
      "Input \u001b[0;32mIn [39]\u001b[0m, in \u001b[0;36m<module>\u001b[0;34m\u001b[0m\n\u001b[1;32m      1\u001b[0m user_clip_df \u001b[38;5;241m=\u001b[39m pd\u001b[38;5;241m.\u001b[39mDataFrame()\n\u001b[1;32m      2\u001b[0m user_clip_df[\u001b[38;5;124m'\u001b[39m\u001b[38;5;124myear_month\u001b[39m\u001b[38;5;124m'\u001b[39m] \u001b[38;5;241m=\u001b[39m all_months_list\n\u001b[0;32m----> 3\u001b[0m user_clip_df[\u001b[38;5;124m'\u001b[39m\u001b[38;5;124msimtotal_clip\u001b[39m\u001b[38;5;124m'\u001b[39m] \u001b[38;5;241m=\u001b[39m \u001b[43msimtotal_clip\u001b[49m\n\u001b[1;32m      4\u001b[0m user_clip_df[\u001b[38;5;124m'\u001b[39m\u001b[38;5;124mclustered_clip\u001b[39m\u001b[38;5;124m'\u001b[39m] \u001b[38;5;241m=\u001b[39m clustered_clip\n\u001b[1;32m      5\u001b[0m user_clip_df[\u001b[38;5;124m'\u001b[39m\u001b[38;5;124mclustered_m_clip\u001b[39m\u001b[38;5;124m'\u001b[39m] \u001b[38;5;241m=\u001b[39m clustered_m_clip\n",
      "\u001b[0;31mNameError\u001b[0m: name 'simtotal_clip' is not defined"
     ]
    }
   ],
   "source": [
    "user_clip_df = pd.DataFrame()\n",
    "user_clip_df['year_month'] = all_months_list\n",
    "user_clip_df['simtotal_clip'] = simtotal_clip\n",
    "user_clip_df['clustered_clip'] = clustered_clip\n",
    "user_clip_df['clustered_m_clip'] = clustered_m_clip\n",
    "user_clip_df['clustered_x_clip'] = clustered_x_clip\n",
    "user_clip_df['clustered_mx_clip'] = clustered_mx_clip\n",
    "user_clip_df['self_identified_clip'] = self_identified_clip\n",
    "user_clip_df['self_clip'] = self2_clip\n",
    "user_clip_df['researcher_clip'] = researcher_clip\n",
    "display(user_clip_df.tail(5))"
   ]
  },
  {
   "cell_type": "code",
   "execution_count": 97,
   "metadata": {
    "execution": {
     "iopub.execute_input": "2022-02-23T16:49:08.662175Z",
     "iopub.status.busy": "2022-02-23T16:49:08.661981Z",
     "iopub.status.idle": "2022-02-23T16:49:10.490065Z",
     "shell.execute_reply": "2022-02-23T16:49:10.489233Z",
     "shell.execute_reply.started": "2022-02-23T16:49:08.662156Z"
    },
    "tags": []
   },
   "outputs": [
    {
     "name": "stdout",
     "output_type": "stream",
     "text": [
      "[WARNING] [warnings - py.warnings]: /tmp/ipykernel_18317/3632260984.py:17: UserWarning: 'set_params()' not defined for locator of type <class 'matplotlib.dates.AutoDateLocator'>\n",
      "  plt.locator_params(axis=\"x\", nbins=40)\n",
      " [warnings._showwarnmsg:109]\n",
      "[WARNING] [backend_ps - matplotlib.backends.backend_ps]: The PostScript backend does not support transparency; partially transparent artists will be rendered opaque. [backend_ps._is_transparent:303]\n"
     ]
    },
    {
     "data": {
      "image/png": "[encoded data removed]",
      "text/plain": [
       "<Figure size 648x432 with 1 Axes>"
      ]
     },
     "metadata": {},
     "output_type": "display_data"
    }
   ],
   "source": [
    "end_date = datetime.datetime(2022,1,1)\n",
    "start_date = datetime.datetime(2009,1,1)\n",
    "\n",
    "plt.figure(figsize=(9,6))\n",
    "\n",
    "plt.stackplot(user_clip_df.year_month, \\\n",
    "#               user_breakdown_df2[['clustered_track','self_track']].to_numpy().T, \\\n",
    "#              labels=['Classroom', 'Unclassified'], \\\n",
    "#              colors=['green', 'orange']); #Self-study              \n",
    "              user_clip_df[['clustered_x_clip', 'clustered_mx_clip', 'clustered_m_clip', 'researcher_clip','self_identified_clip','self_clip']].to_numpy().T, \\\n",
    "             labels=['Classroom X','Classroom MX','Classroom M','Citing Researchers', 'Self-Identified Researcher','Unclassified'], \\\n",
    "             colors=['lawngreen','green', 'yellowgreen','red', 'fuchsia','orange']); #Self-study\n",
    "\n",
    "plt.legend(loc='upper left')#,fontsize=14);\n",
    "plt.ylabel('Total Simulation Users Over All Time')#,fontsize=15)\n",
    "plt.xlim([start_date, end_date])#,fontsize=15)\n",
    "plt.locator_params(axis=\"x\", nbins=40)\n",
    "#plt.xticks( rotation=45, ha='right')\n",
    "# plt.show()\n",
    "\n",
    "if dev_flag == 'True':\n",
    "    plt.savefig(cwd+'/plots_local/300_simusers_total_clip_GK.eps', dpi=300, bbox_inches='tight')\n",
    "    plt.savefig(cwd+'/plots_local/300_simusers_total_clip_GK.pdf', dpi=300, bbox_inches='tight')\n",
    "    plt.savefig(cwd+'/plots_local/300_simusers_total_clip_12months_GK.png', dpi=300, bbox_inches='tight')\n",
    "elif prod_flag == 'True':\n",
    "    plt.savefig(cwd+'/plots_production/300_simusers_total_clip_GK.eps', dpi=300, bbox_inches='tight')\n",
    "    plt.savefig(cwd+'/plots_production/300_simusers_total_clip_GK.pdf', dpi=300, bbox_inches='tight')\n",
    "    plt.savefig(cwd+'/plots_production/300_simusers_total_clip_GK.png', dpi=300, bbox_inches='tight')\n",
    "else:\n",
    "    print('no printing flag is active')"
   ]
  },
  {
   "cell_type": "code",
   "execution_count": 98,
   "metadata": {
    "execution": {
     "iopub.execute_input": "2022-02-23T16:49:10.491782Z",
     "iopub.status.busy": "2022-02-23T16:49:10.491537Z",
     "iopub.status.idle": "2022-02-23T16:49:10.531897Z",
     "shell.execute_reply": "2022-02-23T16:49:10.530169Z",
     "shell.execute_reply.started": "2022-02-23T16:49:10.491748Z"
    },
    "tags": []
   },
   "outputs": [
    {
     "data": {
      "text/plain": [
       "[2094, 2114, 2134, 2158, 2178]"
      ]
     },
     "metadata": {},
     "output_type": "display_data"
    },
    {
     "data": {
      "text/plain": [
       "[1047, 1057, 1067, 1079, 1089]"
      ]
     },
     "metadata": {},
     "output_type": "display_data"
    },
    {
     "data": {
      "text/plain": [
       "[1047, 1057, 1067, 1079, 1089]"
      ]
     },
     "metadata": {},
     "output_type": "display_data"
    }
   ],
   "source": [
    "total = user_clip_df['clustered_clip'].to_numpy()+\\\n",
    "        user_clip_df['self_clip'].to_numpy() +\\\n",
    "        user_clip_df['researcher_clip'].to_numpy()+\\\n",
    "        user_clip_df['self_identified_clip'].to_numpy() + 0.001\n",
    "\n",
    "#print('total ',total)\n",
    "\n",
    "total_research = user_clip_df['researcher_clip'].to_numpy()+\\\n",
    "                 user_clip_df['self_identified_clip'].to_numpy() + 0.001\n",
    "\n",
    "#print('total_research ',total_research)\n",
    "user_clip_df['all_researchers'] = np.add(user_clip_df['self_identified_clip'], user_clip_df['researcher_clip'])\n",
    "#user_breakdown_df2['all_researchers'] = user_breakdown_df2[['researcher_track','self_identified_track']].sum\n",
    "display(user_clip_df['all_researchers'].tolist()[200:205])\n",
    "display(user_clip_df['researcher_clip'].tolist()[200:205])\n",
    "display(user_clip_df['self_identified_clip'].tolist()[200:205])\n",
    "\n",
    "user_clip_df['clustered_clip_per'] = 100*np.divide(user_clip_df['clustered_clip'],total)\n",
    "user_clip_df['self_identified_clip_per'] = 100*np.divide(user_clip_df['self_identified_clip'], total)\n",
    "user_clip_df['researcher_clip_per'] = 100*np.divide(user_clip_df['researcher_clip'], total)\n",
    "user_clip_df['self_clip_per'] = 100*np.divide(user_clip_df['self_clip'], total)\n",
    "user_clip_df['all_researchers_per'] = 100*np.divide(user_clip_df['all_researchers'], total)\n",
    "\n"
   ]
  },
  {
   "cell_type": "code",
   "execution_count": 99,
   "metadata": {
    "execution": {
     "iopub.execute_input": "2022-02-23T16:49:10.534419Z",
     "iopub.status.busy": "2022-02-23T16:49:10.533812Z",
     "iopub.status.idle": "2022-02-23T16:49:12.405405Z",
     "shell.execute_reply": "2022-02-23T16:49:12.404781Z",
     "shell.execute_reply.started": "2022-02-23T16:49:10.534346Z"
    },
    "tags": []
   },
   "outputs": [
    {
     "name": "stdout",
     "output_type": "stream",
     "text": [
      "[WARNING] [backend_ps - matplotlib.backends.backend_ps]: The PostScript backend does not support transparency; partially transparent artists will be rendered opaque. [backend_ps._is_transparent:303]\n"
     ]
    },
    {
     "data": {
      "image/png": "[encoded data removed]",
      "text/plain": [
       "<Figure size 648x432 with 1 Axes>"
      ]
     },
     "metadata": {},
     "output_type": "display_data"
    }
   ],
   "source": [
    "plt.figure(figsize=(9,6))\n",
    "plt.plot(user_clip_df.year_month, user_clip_df.clustered_clip_per, label='Classroom Total', \\\n",
    "             color='green');\n",
    "plt.plot(user_clip_df.year_month, user_clip_df.all_researchers_per, label='All Researchers', \\\n",
    "             color='firebrick');\n",
    "plt.plot(user_clip_df.year_month, user_clip_df.researcher_clip_per, label='Citing Researchers', \\\n",
    "             color='red');\n",
    "plt.plot(user_clip_df.year_month, user_clip_df.self_identified_clip_per, label='Self-Identified Researchers', \\\n",
    "             color='magenta');\n",
    "plt.plot(user_clip_df.year_month, user_clip_df.self_clip_per, label='Unclassified', \\\n",
    "             color='orange');\n",
    "\n",
    "plt.ylim([0, 100])\n",
    "plt.legend(loc='upper right');\n",
    "plt.ylabel('Percentage Distribution of Users Over All Time (%)');\n",
    "plt.xlim([start_date, end_date])\n",
    "# plt.show()\n",
    "\n",
    "if dev_flag == 'True':\n",
    "    plt.savefig(cwd+'/plots_local/300_simusers_total_clip_percent_copied.eps', dpi=300, bbox_inches='tight')\n",
    "    plt.savefig(cwd+'/plots_local/300_simusers_total_clip_percent_copied.pdf', dpi=300, bbox_inches='tight')\n",
    "    plt.savefig(cwd+'/plots_local/300_simusers_total_clip_percent_copied.png', dpi=300, bbox_inches='tight')\n",
    "elif prod_flag == 'True':\n",
    "    plt.savefig(cwd+'/plots_production/300_simusers_total_clip_percent_copied.eps', dpi=300, bbox_inches='tight')\n",
    "    plt.savefig(cwd+'/plots_production/300_simusers_total_clip_percent_copied.pdf', dpi=300, bbox_inches='tight')\n",
    "    plt.savefig(cwd+'/plots_production/300_simusers_total_clip_percent_copied.png', dpi=300, bbox_inches='tight')\n",
    "else:\n",
    "    print('no printing flag is active')"
   ]
  },
  {
   "cell_type": "code",
   "execution_count": null,
   "metadata": {},
   "outputs": [],
   "source": []
  }
 ],
 "metadata": {
  "kernelspec": {
   "display_name": "Python 3 (ipykernel)",
   "language": "python",
   "name": "python3"
  },
  "language_info": {
   "codemirror_mode": {
    "name": "ipython",
    "version": 3
   },
   "file_extension": ".py",
   "mimetype": "text/x-python",
   "name": "python",
   "nbconvert_exporter": "python",
   "pygments_lexer": "ipython3",
   "version": "3.8.10"
  }
 },
 "nbformat": 4,
 "nbformat_minor": 4
}
