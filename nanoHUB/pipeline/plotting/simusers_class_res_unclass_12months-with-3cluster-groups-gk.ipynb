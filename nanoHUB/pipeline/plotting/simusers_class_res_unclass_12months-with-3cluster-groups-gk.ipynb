{
 "cells": [
  {
   "cell_type": "code",
   "execution_count": 1,
   "metadata": {
    "execution": {
     "iopub.execute_input": "2022-02-20T05:29:05.366151Z",
     "iopub.status.busy": "2022-02-20T05:29:05.365171Z",
     "iopub.status.idle": "2022-02-20T05:29:05.373732Z",
     "shell.execute_reply": "2022-02-20T05:29:05.372265Z",
     "shell.execute_reply.started": "2022-02-20T05:29:05.365994Z"
    },
    "tags": []
   },
   "outputs": [],
   "source": [
    "## build researcher events, student events, and self-study events\n",
    "## researcher are simply those with NH citations"
   ]
  },
  {
   "cell_type": "code",
   "execution_count": 2,
   "metadata": {
    "execution": {
     "iopub.execute_input": "2022-02-20T05:29:05.376275Z",
     "iopub.status.busy": "2022-02-20T05:29:05.375334Z",
     "iopub.status.idle": "2022-02-20T05:29:07.830120Z",
     "shell.execute_reply": "2022-02-20T05:29:07.829459Z",
     "shell.execute_reply.started": "2022-02-20T05:29:05.376243Z"
    },
    "tags": []
   },
   "outputs": [
    {
     "name": "stdout",
     "output_type": "stream",
     "text": [
      "\u001b[1mnanoHUB - Serving Students, Researchers & Instructors\u001b[0m\n"
     ]
    }
   ],
   "source": [
    "import sys\n",
    "\n",
    "import pandas as pd\n",
    "import numpy as np\n",
    "import time\n",
    "import datetime\n",
    "import os\n",
    "from nanoHUB.application import Application\n",
    "from nanoHUB.configuration import ClusteringConfiguration\n",
    "from nanoHUB.pipeline.geddes.data import get_default_s3_client\n",
    "from nanoHUB.dataaccess.lake import S3FileMapper\n",
    "\n",
    "from nanoHUB.clustering.infra import get_mike_only_clustered_users, get_xufeng_only_clustered_users, get_mike_xufeng_clustered_users\n",
    "from nanoHUB.clustering.infra import create_clusters_repository, add_cluster_info, get_all_clustered_users, get_all_self_study_users, get_all_self_identified_users"
   ]
  },
  {
   "cell_type": "code",
   "execution_count": 3,
   "metadata": {
    "execution": {
     "iopub.execute_input": "2022-02-20T05:29:07.833458Z",
     "iopub.status.busy": "2022-02-20T05:29:07.832543Z",
     "iopub.status.idle": "2022-02-20T05:29:07.837377Z",
     "shell.execute_reply": "2022-02-20T05:29:07.836701Z",
     "shell.execute_reply.started": "2022-02-20T05:29:07.833421Z"
    },
    "tags": []
   },
   "outputs": [],
   "source": [
    "pd.set_option('display.max_columns', None)\n",
    "cwd = os.getcwd()"
   ]
  },
  {
   "cell_type": "code",
   "execution_count": 4,
   "metadata": {
    "execution": {
     "iopub.execute_input": "2022-02-20T05:29:07.839822Z",
     "iopub.status.busy": "2022-02-20T05:29:07.839081Z",
     "iopub.status.idle": "2022-02-20T05:29:08.717810Z",
     "shell.execute_reply": "2022-02-20T05:29:08.715418Z",
     "shell.execute_reply.started": "2022-02-20T05:29:07.839797Z"
    },
    "tags": []
   },
   "outputs": [],
   "source": [
    "application = Application.get_instance()\n",
    "nanohub_db = application.new_db_engine('nanohub')\n",
    "nanohub_metrics_db = application.new_db_engine('nanohub_metrics')\n",
    "wang159_myrmekes_db = application.new_db_engine('rfm_data')\n",
    "\n",
    "s3_client = get_default_s3_client(application)\n",
    "derived_data_file_path = 'derived_data_for_users.csv'\n",
    "processed_mapper = S3FileMapper(s3_client, ClusteringConfiguration().bucket_name_processed)"
   ]
  },
  {
   "cell_type": "code",
   "execution_count": null,
   "metadata": {},
   "outputs": [],
   "source": []
  },
  {
   "cell_type": "markdown",
   "metadata": {
    "tags": []
   },
   "source": [
    "## Cumulative classroom/research/self-study"
   ]
  },
  {
   "cell_type": "code",
   "execution_count": 5,
   "metadata": {
    "execution": {
     "iopub.execute_input": "2022-02-20T05:29:08.723886Z",
     "iopub.status.busy": "2022-02-20T05:29:08.723127Z",
     "iopub.status.idle": "2022-02-20T05:29:34.256911Z",
     "shell.execute_reply": "2022-02-20T05:29:34.255185Z",
     "shell.execute_reply.started": "2022-02-20T05:29:08.723835Z"
    }
   },
   "outputs": [
    {
     "data": {
      "text/plain": [
       "78167"
      ]
     },
     "metadata": {},
     "output_type": "display_data"
    }
   ],
   "source": [
    "clustered_df = get_all_clustered_users(processed_mapper, derived_data_file_path)\n",
    "clustered_df['nanoHUB_user_ID__c'] = clustered_df['id']\n",
    "clustered_NH_ids = clustered_df['nanoHUB_user_ID__c']\n",
    "display(len(clustered_NH_ids))"
   ]
  },
  {
   "cell_type": "code",
   "execution_count": 6,
   "metadata": {
    "execution": {
     "iopub.execute_input": "2022-02-20T05:29:34.261869Z",
     "iopub.status.busy": "2022-02-20T05:29:34.261296Z",
     "iopub.status.idle": "2022-02-20T05:29:51.216936Z",
     "shell.execute_reply": "2022-02-20T05:29:51.214761Z",
     "shell.execute_reply.started": "2022-02-20T05:29:34.261843Z"
    }
   },
   "outputs": [
    {
     "name": "stdout",
     "output_type": "stream",
     "text": [
      "[WARNING] [warnings - py.warnings]: /home/saxenap/nanoHUB/nanoHUB/clustering/infra.py:334: UserWarning: This pattern has match groups. To actually get the groups, use str.extract.\n",
      "  return df[df[column_name].str.contains(search_for)]\n",
      " [warnings._showwarnmsg:109]\n"
     ]
    },
    {
     "data": {
      "text/plain": [
       "16825"
      ]
     },
     "metadata": {},
     "output_type": "display_data"
    }
   ],
   "source": [
    "mike_clustered_users_df = get_mike_only_clustered_users(processed_mapper, derived_data_file_path)\n",
    "mike_clustered_users_df['nanoHUB_user_ID__c'] = mike_clustered_users_df['id']\n",
    "mike_clustered_NH_ids = mike_clustered_users_df['nanoHUB_user_ID__c']\n",
    "display(len(mike_clustered_users_df))"
   ]
  },
  {
   "cell_type": "code",
   "execution_count": 7,
   "metadata": {
    "execution": {
     "iopub.execute_input": "2022-02-20T05:29:51.222132Z",
     "iopub.status.busy": "2022-02-20T05:29:51.221764Z",
     "iopub.status.idle": "2022-02-20T05:30:06.915101Z",
     "shell.execute_reply": "2022-02-20T05:30:06.912415Z",
     "shell.execute_reply.started": "2022-02-20T05:29:51.222106Z"
    }
   },
   "outputs": [
    {
     "data": {
      "text/plain": [
       "14997"
      ]
     },
     "metadata": {},
     "output_type": "display_data"
    }
   ],
   "source": [
    "xufeng_clustered_users_df = get_xufeng_only_clustered_users(processed_mapper, derived_data_file_path)\n",
    "xufeng_clustered_users_df['nanoHUB_user_ID__c'] = xufeng_clustered_users_df['id']\n",
    "xufeng_clustered_NH_ids = xufeng_clustered_users_df['nanoHUB_user_ID__c']\n",
    "display(len(xufeng_clustered_users_df))"
   ]
  },
  {
   "cell_type": "code",
   "execution_count": 8,
   "metadata": {
    "execution": {
     "iopub.execute_input": "2022-02-20T05:30:06.916739Z",
     "iopub.status.busy": "2022-02-20T05:30:06.916423Z",
     "iopub.status.idle": "2022-02-20T05:30:25.531798Z",
     "shell.execute_reply": "2022-02-20T05:30:25.529226Z",
     "shell.execute_reply.started": "2022-02-20T05:30:06.916716Z"
    }
   },
   "outputs": [
    {
     "data": {
      "text/plain": [
       "46345"
      ]
     },
     "metadata": {},
     "output_type": "display_data"
    }
   ],
   "source": [
    "mike_xufeng_clustered_users_df = get_mike_xufeng_clustered_users(processed_mapper, derived_data_file_path)\n",
    "mike_xufeng_clustered_users_df['nanoHUB_user_ID__c'] = mike_xufeng_clustered_users_df['id']\n",
    "mike_xufeng_clustered_NH_ids = mike_xufeng_clustered_users_df['nanoHUB_user_ID__c']\n",
    "display(len(mike_xufeng_clustered_users_df))"
   ]
  },
  {
   "cell_type": "code",
   "execution_count": 9,
   "metadata": {
    "execution": {
     "iopub.execute_input": "2022-02-20T05:30:25.533838Z",
     "iopub.status.busy": "2022-02-20T05:30:25.533526Z",
     "iopub.status.idle": "2022-02-20T05:30:26.184500Z",
     "shell.execute_reply": "2022-02-20T05:30:26.177966Z",
     "shell.execute_reply.started": "2022-02-20T05:30:25.533811Z"
    }
   },
   "outputs": [
    {
     "ename": "RuntimeError",
     "evalue": "No active exception to reraise",
     "output_type": "error",
     "traceback": [
      "\u001b[0;31m---------------------------------------------------------------------------\u001b[0m",
      "\u001b[0;31mRuntimeError\u001b[0m                              Traceback (most recent call last)",
      "Input \u001b[0;32mIn [9]\u001b[0m, in \u001b[0;36m<module>\u001b[0;34m\u001b[0m\n\u001b[0;32m----> 1\u001b[0m \u001b[38;5;28;01mraise\u001b[39;00m\n",
      "\u001b[0;31mRuntimeError\u001b[0m: No active exception to reraise"
     ]
    }
   ],
   "source": [
    "raise"
   ]
  },
  {
   "cell_type": "code",
   "execution_count": null,
   "metadata": {
    "execution": {
     "iopub.status.busy": "2022-02-20T05:30:26.185236Z",
     "iopub.status.idle": "2022-02-20T05:30:26.185501Z",
     "shell.execute_reply": "2022-02-20T05:30:26.185384Z",
     "shell.execute_reply.started": "2022-02-20T05:30:26.185371Z"
    },
    "tags": []
   },
   "outputs": [],
   "source": [
    "self_study_df = get_all_self_study_users(processed_mapper, derived_data_file_path)\n",
    "self_study_df['nanoHUB_user_ID__c'] = self_study_df['id']\n",
    "self_study_NH_ids = self_study_df['nanoHUB_user_ID__c']\n",
    "display(len(self_study_NH_ids))"
   ]
  },
  {
   "cell_type": "code",
   "execution_count": null,
   "metadata": {
    "execution": {
     "iopub.status.busy": "2022-02-20T05:30:26.187812Z",
     "iopub.status.idle": "2022-02-20T05:30:26.189958Z",
     "shell.execute_reply": "2022-02-20T05:30:26.189655Z",
     "shell.execute_reply.started": "2022-02-20T05:30:26.189616Z"
    }
   },
   "outputs": [],
   "source": [
    "self_identified_df = get_all_self_identified_users(processed_mapper, derived_data_file_path)\n",
    "self_identified_df['nanoHUB_user_ID__c'] = self_identified_df['id']\n",
    "self_identified_NH_ids = self_identified_df['nanoHUB_user_ID__c']\n",
    "self_identified_usernames = self_identified_df['username'].tolist()\n",
    "display(len(self_identified_NH_ids))"
   ]
  },
  {
   "cell_type": "code",
   "execution_count": null,
   "metadata": {
    "execution": {
     "iopub.status.busy": "2022-02-20T05:30:26.191883Z",
     "iopub.status.idle": "2022-02-20T05:30:26.192842Z",
     "shell.execute_reply": "2022-02-20T05:30:26.192232Z",
     "shell.execute_reply.started": "2022-02-20T05:30:26.192208Z"
    },
    "tags": []
   },
   "outputs": [],
   "source": [
    "print(clustered_NH_ids.shape)\n",
    "print(self_study_NH_ids.shape)\n",
    "print(self_identified_NH_ids.shape)"
   ]
  },
  {
   "cell_type": "code",
   "execution_count": null,
   "metadata": {},
   "outputs": [],
   "source": []
  },
  {
   "cell_type": "code",
   "execution_count": null,
   "metadata": {
    "execution": {
     "iopub.status.busy": "2022-02-20T05:30:26.196022Z",
     "iopub.status.idle": "2022-02-20T05:30:26.197192Z",
     "shell.execute_reply": "2022-02-20T05:30:26.196716Z",
     "shell.execute_reply.started": "2022-02-20T05:30:26.196667Z"
    },
    "tags": []
   },
   "outputs": [],
   "source": [
    "frames = [clustered_df, self_study_df]\n",
    "contacts_df = pd.concat(frames)"
   ]
  },
  {
   "cell_type": "code",
   "execution_count": null,
   "metadata": {
    "execution": {
     "iopub.status.busy": "2022-02-20T05:30:26.199616Z",
     "iopub.status.idle": "2022-02-20T05:30:26.200309Z",
     "shell.execute_reply": "2022-02-20T05:30:26.199881Z",
     "shell.execute_reply.started": "2022-02-20T05:30:26.199862Z"
    },
    "tags": []
   },
   "outputs": [],
   "source": [
    "## need to filter self-study-nh-ids with the researchers"
   ]
  },
  {
   "cell_type": "code",
   "execution_count": null,
   "metadata": {
    "execution": {
     "iopub.status.busy": "2022-02-20T05:30:26.202920Z",
     "iopub.status.idle": "2022-02-20T05:30:26.203231Z",
     "shell.execute_reply": "2022-02-20T05:30:26.203120Z",
     "shell.execute_reply.started": "2022-02-20T05:30:26.203106Z"
    },
    "tags": []
   },
   "outputs": [],
   "source": [
    "## This researcher determination is based entirely on the results of research authors on nanohub\n",
    "## i.e., we use the researcher information on db2"
   ]
  },
  {
   "cell_type": "code",
   "execution_count": null,
   "metadata": {
    "execution": {
     "iopub.status.busy": "2022-02-20T05:30:26.205306Z",
     "iopub.status.idle": "2022-02-20T05:30:26.205668Z",
     "shell.execute_reply": "2022-02-20T05:30:26.205520Z",
     "shell.execute_reply.started": "2022-02-20T05:30:26.205503Z"
    },
    "tags": []
   },
   "outputs": [],
   "source": [
    "sql_query = 'select id, uid, author from jos_citations'\n",
    "jos_citations = pd.read_sql_query(sql_query, nanohub_db)\n",
    "display(jos_citations.head(2))\n",
    "print(jos_citations.shape)"
   ]
  },
  {
   "cell_type": "code",
   "execution_count": null,
   "metadata": {
    "execution": {
     "iopub.status.busy": "2022-02-20T05:30:26.209463Z",
     "iopub.status.idle": "2022-02-20T05:30:26.211696Z",
     "shell.execute_reply": "2022-02-20T05:30:26.211372Z",
     "shell.execute_reply.started": "2022-02-20T05:30:26.211339Z"
    },
    "tags": []
   },
   "outputs": [],
   "source": [
    "t1_authors = jos_citations['author'].to_list()\n",
    "t1_authors2 = [] #[j.split(';') for i,j in enumerate(t1_authors)]"
   ]
  },
  {
   "cell_type": "code",
   "execution_count": null,
   "metadata": {
    "execution": {
     "iopub.status.busy": "2022-02-20T05:30:26.213317Z",
     "iopub.status.idle": "2022-02-20T05:30:26.214510Z",
     "shell.execute_reply": "2022-02-20T05:30:26.213957Z",
     "shell.execute_reply.started": "2022-02-20T05:30:26.213923Z"
    },
    "tags": []
   },
   "outputs": [],
   "source": [
    "for i,j in enumerate(t1_authors):\n",
    "    try:\n",
    "        holder = j.split(';')\n",
    "        if len(holder) > 1: \n",
    "            for k,l in enumerate(holder):\n",
    "                if l[0] == ' ':\n",
    "                    holder[k] = l[1:]\n",
    "        t1_authors2.append(holder)\n",
    "    except:\n",
    "        garb = True"
   ]
  },
  {
   "cell_type": "code",
   "execution_count": null,
   "metadata": {
    "execution": {
     "iopub.status.busy": "2022-02-20T05:30:26.216776Z",
     "iopub.status.idle": "2022-02-20T05:30:26.217105Z",
     "shell.execute_reply": "2022-02-20T05:30:26.216972Z",
     "shell.execute_reply.started": "2022-02-20T05:30:26.216957Z"
    },
    "tags": []
   },
   "outputs": [],
   "source": [
    "t1_authors32 = [item for sublist in t1_authors2 for item in sublist]\n",
    "t1_authors3 = set(t1_authors32)\n",
    "print(len(t1_authors3))"
   ]
  },
  {
   "cell_type": "code",
   "execution_count": null,
   "metadata": {
    "execution": {
     "iopub.status.busy": "2022-02-20T05:30:26.218571Z",
     "iopub.status.idle": "2022-02-20T05:30:26.218900Z",
     "shell.execute_reply": "2022-02-20T05:30:26.218781Z",
     "shell.execute_reply.started": "2022-02-20T05:30:26.218766Z"
    },
    "tags": []
   },
   "outputs": [],
   "source": [
    "## extract all researchers with nh ids\n",
    "rw_ids = []\n",
    "need_search = []\n",
    "for i,j in enumerate(t1_authors3):\n",
    "    if '{{' in j:\n",
    "        rw_ids.append(i)\n",
    "    else:\n",
    "        need_search.append(i)"
   ]
  },
  {
   "cell_type": "code",
   "execution_count": null,
   "metadata": {
    "execution": {
     "iopub.status.busy": "2022-02-20T05:30:26.225550Z",
     "iopub.status.idle": "2022-02-20T05:30:26.226381Z",
     "shell.execute_reply": "2022-02-20T05:30:26.226056Z",
     "shell.execute_reply.started": "2022-02-20T05:30:26.226022Z"
    },
    "tags": []
   },
   "outputs": [],
   "source": [
    "## from the rw_ids, extract the nanohub userids\n",
    "# can obtain usernames from the DB2 table\n",
    "rw_ids2 = np.array(list(t1_authors3))[rw_ids]\n",
    "for i,j in enumerate(rw_ids2):\n",
    "    begin = j.index('{{')\n",
    "    rw_ids2[i] = j[begin+2:-2]\n",
    "print(len(rw_ids2))"
   ]
  },
  {
   "cell_type": "code",
   "execution_count": null,
   "metadata": {
    "execution": {
     "iopub.status.busy": "2022-02-20T05:30:26.230639Z",
     "iopub.status.idle": "2022-02-20T05:30:26.232394Z",
     "shell.execute_reply": "2022-02-20T05:30:26.232029Z",
     "shell.execute_reply.started": "2022-02-20T05:30:26.231988Z"
    },
    "tags": []
   },
   "outputs": [],
   "source": [
    "# need to obtain usernames\n",
    "sql_query = \"select id,name,username from jos_users where id in \"+str(tuple(rw_ids2))\n",
    "rw_researchers = pd.read_sql_query(sql_query,nanohub_db)\n",
    "display(rw_researchers.head(2))"
   ]
  },
  {
   "cell_type": "code",
   "execution_count": null,
   "metadata": {
    "execution": {
     "iopub.status.busy": "2022-02-20T05:30:26.234527Z",
     "iopub.status.idle": "2022-02-20T05:30:26.236230Z",
     "shell.execute_reply": "2022-02-20T05:30:26.235952Z",
     "shell.execute_reply.started": "2022-02-20T05:30:26.235918Z"
    },
    "tags": []
   },
   "outputs": [],
   "source": [
    "## need to obtain the username/ids from those people without nh ids explicitly spec'd in jos_citations\n",
    "ns2 = np.array(list(t1_authors3))[need_search]\n",
    "ns2 = ns2[1:]"
   ]
  },
  {
   "cell_type": "code",
   "execution_count": null,
   "metadata": {
    "execution": {
     "iopub.status.busy": "2022-02-20T05:30:26.244418Z",
     "iopub.status.idle": "2022-02-20T05:30:26.244990Z",
     "shell.execute_reply": "2022-02-20T05:30:26.244693Z",
     "shell.execute_reply.started": "2022-02-20T05:30:26.244670Z"
    },
    "tags": []
   },
   "outputs": [],
   "source": [
    "tuple(ns2)[:5]"
   ]
  },
  {
   "cell_type": "code",
   "execution_count": null,
   "metadata": {
    "execution": {
     "iopub.status.busy": "2022-02-20T05:30:26.247551Z",
     "iopub.status.idle": "2022-02-20T05:30:26.250437Z",
     "shell.execute_reply": "2022-02-20T05:30:26.250092Z",
     "shell.execute_reply.started": "2022-02-20T05:30:26.250035Z"
    },
    "tags": []
   },
   "outputs": [],
   "source": [
    "sql_query = \"select id,name,username from jos_users where name in \"+str(tuple(ns2))\n",
    "ns2_researchers = pd.read_sql_query(sql_query,nanohub_db)\n",
    "display(ns2_researchers.head(2))"
   ]
  },
  {
   "cell_type": "code",
   "execution_count": null,
   "metadata": {
    "execution": {
     "iopub.status.busy": "2022-02-20T05:30:26.253441Z",
     "iopub.status.idle": "2022-02-20T05:30:26.254137Z",
     "shell.execute_reply": "2022-02-20T05:30:26.253780Z",
     "shell.execute_reply.started": "2022-02-20T05:30:26.253754Z"
    },
    "tags": []
   },
   "outputs": [],
   "source": [
    "## combine the usernames into one data structure\n",
    "researcher_usernames = rw_researchers['username'].to_list() + ns2_researchers['username'].to_list()\n",
    "print(len(researcher_usernames))"
   ]
  },
  {
   "cell_type": "code",
   "execution_count": null,
   "metadata": {
    "execution": {
     "iopub.status.busy": "2022-02-20T05:30:26.261168Z",
     "iopub.status.idle": "2022-02-20T05:30:26.262777Z",
     "shell.execute_reply": "2022-02-20T05:30:26.262362Z",
     "shell.execute_reply.started": "2022-02-20T05:30:26.262322Z"
    }
   },
   "outputs": [],
   "source": [
    "bool_search3 = np.in1d(np.array(researcher_usernames),np.array(self_identified_usernames))\n",
    "researcher_usernames = np.where(~bool_search3)[0].tolist()\n",
    "display(len(researcher_usernames))\n",
    "\n",
    "display(len(self_identified_usernames))"
   ]
  },
  {
   "cell_type": "code",
   "execution_count": null,
   "metadata": {
    "execution": {
     "iopub.status.busy": "2022-02-20T05:30:26.266075Z",
     "iopub.status.idle": "2022-02-20T05:30:26.268088Z",
     "shell.execute_reply": "2022-02-20T05:30:26.267932Z",
     "shell.execute_reply.started": "2022-02-20T05:30:26.267910Z"
    },
    "tags": []
   },
   "outputs": [],
   "source": [
    "self_identified_track = []\n",
    "researcher_track = []"
   ]
  },
  {
   "cell_type": "code",
   "execution_count": null,
   "metadata": {
    "execution": {
     "iopub.status.busy": "2022-02-20T05:30:26.269842Z",
     "iopub.status.idle": "2022-02-20T05:30:26.271311Z",
     "shell.execute_reply": "2022-02-20T05:30:26.271159Z",
     "shell.execute_reply.started": "2022-02-20T05:30:26.271138Z"
    },
    "tags": []
   },
   "outputs": [],
   "source": [
    "today = datetime.datetime.today()\n",
    "print(today)"
   ]
  },
  {
   "cell_type": "code",
   "execution_count": null,
   "metadata": {
    "execution": {
     "iopub.status.busy": "2022-02-20T05:30:26.276192Z",
     "iopub.status.idle": "2022-02-20T05:30:26.278023Z",
     "shell.execute_reply": "2022-02-20T05:30:26.277742Z",
     "shell.execute_reply.started": "2022-02-20T05:30:26.277702Z"
    }
   },
   "outputs": [],
   "source": [
    "## caching check \n",
    "try:\n",
    "    user_breakdown_df = pd.read_csv(cwd+'/cached_data/nh_user_breakdown.csv')\n",
    "    print(user_breakdown_df)\n",
    "    cache_flag = True\n",
    "except:\n",
    "    cache_flag = False"
   ]
  },
  {
   "cell_type": "code",
   "execution_count": null,
   "metadata": {
    "execution": {
     "iopub.status.busy": "2022-02-20T05:30:26.281451Z",
     "iopub.status.idle": "2022-02-20T05:30:26.283324Z",
     "shell.execute_reply": "2022-02-20T05:30:26.282851Z",
     "shell.execute_reply.started": "2022-02-20T05:30:26.282691Z"
    },
    "tags": []
   },
   "outputs": [],
   "source": [
    "## determine starting year\n",
    "#if cache_flag == False:\n",
    "start_year_base = 1999 #2000\n",
    "#else:\n",
    "#     print('check the saved file')\n",
    "#    start_year_base = int(user_breakdown_df['year_month'].to_list()[-1][:4])\n",
    "    \n",
    "    "
   ]
  },
  {
   "cell_type": "code",
   "execution_count": null,
   "metadata": {
    "execution": {
     "iopub.status.busy": "2022-02-20T05:30:26.284807Z",
     "iopub.status.idle": "2022-02-20T05:30:26.286407Z",
     "shell.execute_reply": "2022-02-20T05:30:26.286252Z",
     "shell.execute_reply.started": "2022-02-20T05:30:26.286229Z"
    },
    "tags": []
   },
   "outputs": [],
   "source": [
    "#print(user_breakdown_df['year_month'].to_list()[-1][:4])"
   ]
  },
  {
   "cell_type": "code",
   "execution_count": null,
   "metadata": {
    "execution": {
     "iopub.status.busy": "2022-02-20T05:30:26.287157Z",
     "iopub.status.idle": "2022-02-20T05:30:26.288035Z",
     "shell.execute_reply": "2022-02-20T05:30:26.287849Z",
     "shell.execute_reply.started": "2022-02-20T05:30:26.287829Z"
    },
    "tags": []
   },
   "outputs": [],
   "source": [
    "from copy import deepcopy"
   ]
  },
  {
   "cell_type": "code",
   "execution_count": null,
   "metadata": {
    "execution": {
     "iopub.status.busy": "2022-02-20T05:30:26.294409Z",
     "iopub.status.idle": "2022-02-20T05:30:26.296998Z",
     "shell.execute_reply": "2022-02-20T05:30:26.296495Z",
     "shell.execute_reply.started": "2022-02-20T05:30:26.296443Z"
    },
    "tags": []
   },
   "outputs": [],
   "source": [
    "## computer has memory limits, so split toolstart into branches\n",
    "# this filters and finds the research usage in nanohub\n",
    "start_year = deepcopy(start_year_base)\n",
    "while start_year < today.year+1:\n",
    "    start_year += 1\n",
    "    end_date = r\"'\"+str(start_year)+r\"-01-01'\"\n",
    "    start_date = r\"'\"+str(start_year-2)+r\"-01-01'\"\n",
    "    \n",
    "    for i in range(1,13):\n",
    "        if i < 10:\n",
    "            start_date = r\"'\"+str(start_year-1)+r\"-0\"+str(i)+r\"-01'\"\n",
    "            end_date = r\"'\"+str(start_year)+r\"-0\"+str(i)+r\"-01'\"\n",
    "        else:\n",
    "            start_date = r\"'\"+str(start_year-1)+r\"-\"+str(i)+r\"-01'\"\n",
    "            end_date = r\"'\"+str(start_year)+r\"-\"+str(i)+r\"-01'\"\n",
    "\n",
    "        sql_query_researcher = \"select user from toolstart where user in \" + str(tuple(researcher_usernames))\\\n",
    "            +\" and datetime <= \"+end_date+\" and datetime >= \"+start_date\n",
    "        researcher_users = pd.read_sql_query(sql_query_researcher, nanohub_metrics_db)\n",
    "\n",
    "        researcher_track.append(researcher_users.drop_duplicates().shape[0])\n",
    "\n",
    "        sql_query_self_identified = \"select user from toolstart where user in \" + str(tuple(self_identified_usernames))\\\n",
    "            +\" and datetime <= \"+end_date+\" and datetime >= \"+start_date\n",
    "        self_identified_users = pd.read_sql_query(sql_query_self_identified, nanohub_metrics_db)\n",
    "\n",
    "        self_identified_track.append(self_identified_users.drop_duplicates().shape[0])\n",
    "\n",
    "\n",
    "    print('start year: '+ str(start_year))"
   ]
  },
  {
   "cell_type": "code",
   "execution_count": null,
   "metadata": {
    "execution": {
     "iopub.status.busy": "2022-02-20T05:30:26.299208Z",
     "iopub.status.idle": "2022-02-20T05:30:26.301305Z",
     "shell.execute_reply": "2022-02-20T05:30:26.301126Z",
     "shell.execute_reply.started": "2022-02-20T05:30:26.301102Z"
    },
    "tags": []
   },
   "outputs": [],
   "source": [
    "## filter the self study folks against those of researchers\n",
    "# need to pull the researcher sf ids"
   ]
  },
  {
   "cell_type": "code",
   "execution_count": null,
   "metadata": {
    "execution": {
     "iopub.status.busy": "2022-02-20T05:30:26.302865Z",
     "iopub.status.idle": "2022-02-20T05:30:26.304780Z",
     "shell.execute_reply": "2022-02-20T05:30:26.304614Z",
     "shell.execute_reply.started": "2022-02-20T05:30:26.304590Z"
    },
    "tags": []
   },
   "outputs": [],
   "source": [
    "researcher_ids = rw_researchers['id'].to_list() + ns2_researchers['id'].to_list()\n",
    "print(len(researcher_ids))"
   ]
  },
  {
   "cell_type": "code",
   "execution_count": null,
   "metadata": {},
   "outputs": [],
   "source": []
  },
  {
   "cell_type": "code",
   "execution_count": null,
   "metadata": {
    "execution": {
     "iopub.status.busy": "2022-02-20T05:30:26.318026Z",
     "iopub.status.idle": "2022-02-20T05:30:26.320047Z",
     "shell.execute_reply": "2022-02-20T05:30:26.319508Z",
     "shell.execute_reply.started": "2022-02-20T05:30:26.319473Z"
    },
    "tags": []
   },
   "outputs": [],
   "source": [
    "bool_search2 = np.in1d(np.array(self_study_NH_ids.tolist()),np.array(researcher_ids))\n"
   ]
  },
  {
   "cell_type": "code",
   "execution_count": null,
   "metadata": {
    "execution": {
     "iopub.status.busy": "2022-02-20T05:30:26.327218Z",
     "iopub.status.idle": "2022-02-20T05:30:26.329516Z",
     "shell.execute_reply": "2022-02-20T05:30:26.329277Z",
     "shell.execute_reply.started": "2022-02-20T05:30:26.329060Z"
    },
    "tags": []
   },
   "outputs": [],
   "source": [
    "# Note, researchers can possibly be doubled counted within clusters!!\n",
    "# sf_researchers = np.where(bool_search2)[0].tolist() \n",
    "sf_self_study = np.where(~bool_search2)[0].tolist()\n",
    "print(len(sf_self_study))"
   ]
  },
  {
   "cell_type": "code",
   "execution_count": null,
   "metadata": {
    "execution": {
     "iopub.status.busy": "2022-02-20T05:30:26.330670Z",
     "iopub.status.idle": "2022-02-20T05:30:26.333059Z",
     "shell.execute_reply": "2022-02-20T05:30:26.332316Z",
     "shell.execute_reply.started": "2022-02-20T05:30:26.332278Z"
    }
   },
   "outputs": [],
   "source": [
    "bool_search2_2 = np.in1d(np.array(sf_self_study),np.array(self_identified_NH_ids.tolist()))\n",
    "sf_self_study = np.where(~bool_search2_2)[0].tolist()"
   ]
  },
  {
   "cell_type": "code",
   "execution_count": null,
   "metadata": {
    "execution": {
     "iopub.status.busy": "2022-02-20T05:30:26.334708Z",
     "iopub.status.idle": "2022-02-20T05:30:26.336617Z",
     "shell.execute_reply": "2022-02-20T05:30:26.336474Z",
     "shell.execute_reply.started": "2022-02-20T05:30:26.336453Z"
    },
    "tags": []
   },
   "outputs": [],
   "source": [
    "print(len(sf_self_study))\n",
    "print(len(self_study_NH_ids.to_list()))\n",
    "print(len(self_identified_NH_ids.to_list()))"
   ]
  },
  {
   "cell_type": "code",
   "execution_count": null,
   "metadata": {
    "execution": {
     "iopub.status.busy": "2022-02-20T05:30:26.338131Z",
     "iopub.status.idle": "2022-02-20T05:30:26.341378Z",
     "shell.execute_reply": "2022-02-20T05:30:26.340998Z",
     "shell.execute_reply.started": "2022-02-20T05:30:26.340786Z"
    },
    "tags": []
   },
   "outputs": [],
   "source": [
    "sf_contact_ids = contacts_df['nanoHUB_user_ID__c'][sf_self_study]"
   ]
  },
  {
   "cell_type": "code",
   "execution_count": null,
   "metadata": {
    "execution": {
     "iopub.status.busy": "2022-02-20T05:30:26.345058Z",
     "iopub.status.idle": "2022-02-20T05:30:26.348290Z",
     "shell.execute_reply": "2022-02-20T05:30:26.348044Z",
     "shell.execute_reply.started": "2022-02-20T05:30:26.347987Z"
    },
    "tags": []
   },
   "outputs": [],
   "source": [
    "sf_contact_ids = sf_contact_ids.reset_index()\n",
    "sf_contact_ids = sf_contact_ids.drop(columns='index')\n",
    "display(sf_contact_ids)"
   ]
  },
  {
   "cell_type": "code",
   "execution_count": null,
   "metadata": {
    "execution": {
     "iopub.status.busy": "2022-02-20T05:30:26.350236Z",
     "iopub.status.idle": "2022-02-20T05:30:26.351313Z",
     "shell.execute_reply": "2022-02-20T05:30:26.351163Z",
     "shell.execute_reply.started": "2022-02-20T05:30:26.351143Z"
    },
    "tags": []
   },
   "outputs": [],
   "source": [
    "tuple(sf_contact_ids['nanoHUB_user_ID__c'])[:5]"
   ]
  },
  {
   "cell_type": "code",
   "execution_count": null,
   "metadata": {
    "execution": {
     "iopub.status.busy": "2022-02-20T05:30:26.353819Z",
     "iopub.status.idle": "2022-02-20T05:30:26.357373Z",
     "shell.execute_reply": "2022-02-20T05:30:26.356999Z",
     "shell.execute_reply.started": "2022-02-20T05:30:26.356950Z"
    },
    "tags": []
   },
   "outputs": [],
   "source": [
    "tuple(self_study_NH_ids.dropna().to_list())[:5]"
   ]
  },
  {
   "cell_type": "code",
   "execution_count": null,
   "metadata": {
    "execution": {
     "iopub.status.busy": "2022-02-20T05:30:26.359441Z",
     "iopub.status.idle": "2022-02-20T05:30:26.361499Z",
     "shell.execute_reply": "2022-02-20T05:30:26.360461Z",
     "shell.execute_reply.started": "2022-02-20T05:30:26.360371Z"
    },
    "tags": []
   },
   "outputs": [],
   "source": [
    "## loading in toolstart"
   ]
  },
  {
   "cell_type": "code",
   "execution_count": null,
   "metadata": {
    "execution": {
     "iopub.status.busy": "2022-02-20T05:30:26.364445Z",
     "iopub.status.idle": "2022-02-20T05:30:26.366401Z",
     "shell.execute_reply": "2022-02-20T05:30:26.365473Z",
     "shell.execute_reply.started": "2022-02-20T05:30:26.365451Z"
    },
    "tags": []
   },
   "outputs": [],
   "source": [
    "# clustered user usernames\n",
    "tc_query = 'select id,username from jos_users where id in ' +str(tuple(clustered_NH_ids))\n",
    "clustered_NH_username = pd.read_sql_query(tc_query,nanohub_db)"
   ]
  },
  {
   "cell_type": "code",
   "execution_count": null,
   "metadata": {
    "execution": {
     "iopub.status.busy": "2022-02-20T05:30:26.368345Z",
     "iopub.status.idle": "2022-02-20T05:30:26.369274Z",
     "shell.execute_reply": "2022-02-20T05:30:26.369110Z",
     "shell.execute_reply.started": "2022-02-20T05:30:26.369087Z"
    },
    "tags": []
   },
   "outputs": [],
   "source": [
    "# self study user usernames\n",
    "ts_query = 'select id,username from jos_users where id in ' + str(tuple(self_study_NH_ids.dropna().to_list())) \n",
    "#sf_contact_ids['nanoHUB_user_ID__c']))\n",
    "ss_NH_username = pd.read_sql_query(ts_query,nanohub_db)"
   ]
  },
  {
   "cell_type": "code",
   "execution_count": null,
   "metadata": {
    "execution": {
     "iopub.status.busy": "2022-02-20T05:30:26.370492Z",
     "iopub.status.idle": "2022-02-20T05:30:26.371018Z",
     "shell.execute_reply": "2022-02-20T05:30:26.370915Z",
     "shell.execute_reply.started": "2022-02-20T05:30:26.370902Z"
    },
    "tags": []
   },
   "outputs": [],
   "source": [
    "## cache the researchers, self-study, and clustered users\n",
    "cache_r_nhid = pd.DataFrame()\n",
    "cache_r_nhid['nhid'] = researcher_ids\n",
    "\n",
    "cache_si_nhid = pd.DataFrame()\n",
    "cache_si_nhid['nhid'] = self_identified_NH_ids.to_list()\n",
    "\n",
    "cache_ss_nhid = pd.DataFrame()\n",
    "cache_ss_nhid['nhid'] = ss_NH_username['id']\n",
    "cache_ss_nhid['username'] = ss_NH_username['username']\n",
    "\n",
    "cache_c_nhid = pd.DataFrame()\n",
    "cache_c_nhid['nhid'] = clustered_NH_username['id']\n",
    "cache_c_nhid['username'] = clustered_NH_username['username']"
   ]
  },
  {
   "cell_type": "code",
   "execution_count": null,
   "metadata": {
    "execution": {
     "iopub.status.busy": "2022-02-20T05:30:26.372326Z",
     "iopub.status.idle": "2022-02-20T05:30:26.374357Z",
     "shell.execute_reply": "2022-02-20T05:30:26.374138Z",
     "shell.execute_reply.started": "2022-02-20T05:30:26.374110Z"
    },
    "tags": []
   },
   "outputs": [],
   "source": [
    "print(cache_r_nhid.head(2))\n",
    "print(cache_si_nhid.head(2))\n",
    "print(cache_ss_nhid.head(2))\n",
    "print(cache_c_nhid.head(2))"
   ]
  },
  {
   "cell_type": "code",
   "execution_count": null,
   "metadata": {
    "execution": {
     "iopub.status.busy": "2022-02-20T05:30:26.375722Z",
     "iopub.status.idle": "2022-02-20T05:30:26.377267Z",
     "shell.execute_reply": "2022-02-20T05:30:26.376818Z",
     "shell.execute_reply.started": "2022-02-20T05:30:26.376764Z"
    },
    "tags": []
   },
   "outputs": [],
   "source": [
    "cache_r_nhid.to_csv(cwd+'/cached_data/researcher_ids.csv')\n",
    "cache_si_nhid.to_csv(cwd+'/cached_data/self_identified_ids.csv')\n",
    "cache_ss_nhid.to_csv(cwd+'/cached_data/ss_ids.csv')\n",
    "cache_c_nhid.to_csv(cwd+'/cached_data/class_ids.csv')"
   ]
  },
  {
   "cell_type": "code",
   "execution_count": null,
   "metadata": {},
   "outputs": [],
   "source": []
  },
  {
   "cell_type": "code",
   "execution_count": null,
   "metadata": {
    "execution": {
     "iopub.status.busy": "2022-02-20T05:30:26.380723Z",
     "iopub.status.idle": "2022-02-20T05:30:26.383266Z",
     "shell.execute_reply": "2022-02-20T05:30:26.382932Z",
     "shell.execute_reply.started": "2022-02-20T05:30:26.382884Z"
    },
    "tags": []
   },
   "outputs": [],
   "source": [
    "# clustered_NH_username2;researcher_NH_username2;self_NH_username2\n",
    "clustered_track = []\n",
    "self_track = []\n",
    "\n",
    "# clustered_track_per = []\n",
    "# self_track_per = []\n",
    "# researcher_track_per = []"
   ]
  },
  {
   "cell_type": "code",
   "execution_count": null,
   "metadata": {
    "execution": {
     "iopub.status.busy": "2022-02-20T05:30:26.384699Z",
     "iopub.status.idle": "2022-02-20T05:30:26.386457Z",
     "shell.execute_reply": "2022-02-20T05:30:26.386215Z",
     "shell.execute_reply.started": "2022-02-20T05:30:26.386142Z"
    },
    "tags": []
   },
   "outputs": [],
   "source": [
    "ss_NH_username.shape #old"
   ]
  },
  {
   "cell_type": "code",
   "execution_count": null,
   "metadata": {},
   "outputs": [],
   "source": []
  },
  {
   "cell_type": "code",
   "execution_count": null,
   "metadata": {
    "execution": {
     "iopub.status.busy": "2022-02-20T05:30:26.387518Z",
     "iopub.status.idle": "2022-02-20T05:30:26.388426Z",
     "shell.execute_reply": "2022-02-20T05:30:26.388202Z",
     "shell.execute_reply.started": "2022-02-20T05:30:26.388181Z"
    },
    "tags": []
   },
   "outputs": [],
   "source": [
    "## computer has memory limits, so split toolstart into branches\n",
    "start_year = deepcopy(start_year_base)\n",
    "\n",
    "while start_year < today.year+1:\n",
    "    start_year += 1\n",
    "    \n",
    "    for i in range(1,13):\n",
    "        if i < 10:\n",
    "            start_date = r\"'\"+str(start_year-1)+r\"-0\"+str(i)+r\"-01'\"\n",
    "            end_date = r\"'\"+str(start_year)+r\"-0\"+str(i)+r\"-01'\"\n",
    "        else:\n",
    "            start_date = r\"'\"+str(start_year-1)+r\"-\"+str(i)+r\"-01'\"\n",
    "            end_date = r\"'\"+str(start_year)+r\"-\"+str(i)+r\"-01'\"\n",
    "        \n",
    "#         sql_query_clustered = \"select user from toolstart where user in \" + str(tuple(clustered_NH_username2['username']))\\\n",
    "#             +\" and datetime <= \"+end_date+\" and datetime >= \"+start_date\n",
    "        sql_query_clustered = \"select user from toolstart where user in \" + str(tuple(clustered_NH_username['username']))\\\n",
    "            +\" and datetime <= \"+end_date+\" and datetime >= \"+start_date\n",
    "        clustered_users = pd.read_sql_query(sql_query_clustered, nanohub_metrics_db)\n",
    "        \n",
    "#         sql_query_self = \"select user from toolstart where user in \" + str(tuple(self_NH_username2['username']))\\\n",
    "#             +\" and user != 'instanton' and user != 'gridstat' and datetime <= \"+end_date+\" and datetime >= \"+start_date\n",
    "        sql_query_self = \"select user from toolstart where user in \" + str(tuple(ss_NH_username['username']))\\\n",
    "            +\" and user != 'instanton' and user != 'gridstat' and datetime <= \"+end_date+\" and datetime >= \"+start_date\n",
    "        self_users = pd.read_sql_query(sql_query_self, nanohub_metrics_db) #engine_metrics #.drop_duplicates()\n",
    "        \n",
    "        clustered_track.append(clustered_users.drop_duplicates().shape[0])\n",
    "        self_track.append(self_users.drop_duplicates().shape[0])\n",
    "#         print('start_date: '+start_date)\n",
    "#         print('end_date: '+end_date)  \n",
    "    print('start year: '+str(start_year))"
   ]
  },
  {
   "cell_type": "code",
   "execution_count": null,
   "metadata": {},
   "outputs": [],
   "source": []
  },
  {
   "cell_type": "code",
   "execution_count": null,
   "metadata": {
    "execution": {
     "iopub.status.busy": "2022-02-20T05:30:26.391883Z",
     "iopub.status.idle": "2022-02-20T05:30:26.393670Z",
     "shell.execute_reply": "2022-02-20T05:30:26.393254Z",
     "shell.execute_reply.started": "2022-02-20T05:30:26.393190Z"
    },
    "tags": []
   },
   "outputs": [],
   "source": [
    "all_months_list = list()\n",
    "for this_year in range(start_year_base+1,today.year+2):\n",
    "    if cache_flag == True:\n",
    "        for this_month in range(1,today.month+1):\n",
    "            all_months_list.append(datetime.datetime(this_year, this_month, 1))\n",
    "    else:\n",
    "        for this_month in range(1,12+1):\n",
    "            all_months_list.append(datetime.datetime(this_year, this_month, 1))"
   ]
  },
  {
   "cell_type": "code",
   "execution_count": null,
   "metadata": {
    "execution": {
     "iopub.status.busy": "2022-02-20T05:30:26.397067Z",
     "iopub.status.idle": "2022-02-20T05:30:26.399536Z",
     "shell.execute_reply": "2022-02-20T05:30:26.398964Z",
     "shell.execute_reply.started": "2022-02-20T05:30:26.398928Z"
    },
    "tags": []
   },
   "outputs": [],
   "source": [
    "print(len(clustered_track))\n",
    "print(len(all_months_list))\n",
    "print(len(researcher_track))"
   ]
  },
  {
   "cell_type": "code",
   "execution_count": null,
   "metadata": {
    "execution": {
     "iopub.status.busy": "2022-02-20T05:30:26.401492Z",
     "iopub.status.idle": "2022-02-20T05:30:26.403020Z",
     "shell.execute_reply": "2022-02-20T05:30:26.402729Z",
     "shell.execute_reply.started": "2022-02-20T05:30:26.402709Z"
    },
    "tags": []
   },
   "outputs": [],
   "source": [
    "#print(user_breakdown_df2.head())"
   ]
  },
  {
   "cell_type": "code",
   "execution_count": null,
   "metadata": {
    "execution": {
     "iopub.status.busy": "2022-02-20T05:30:26.404076Z",
     "iopub.status.idle": "2022-02-20T05:30:26.406739Z",
     "shell.execute_reply": "2022-02-20T05:30:26.405922Z",
     "shell.execute_reply.started": "2022-02-20T05:30:26.405885Z"
    },
    "tags": []
   },
   "outputs": [],
   "source": [
    "\n",
    "if cache_flag == True:\n",
    "    user_breakdown_df2 = pd.DataFrame()\n",
    "    user_breakdown_df2['year_month'] = all_months_list\n",
    "    user_breakdown_df2['clustered_track'] = clustered_track\n",
    "    user_breakdown_df2['self_identified_track'] = self_identified_track\n",
    "    user_breakdown_df2['self_track'] = self_track\n",
    "    user_breakdown_df2['researcher_track'] = researcher_track\n",
    "    \n",
    "    user_breakdown_df = pd.concat([user_breakdown_df, user_breakdown_df2], ignore_index=True)\n",
    "    display(user_breakdown_df.head(2))\n",
    "else:\n",
    "    user_breakdown_df = pd.DataFrame()\n",
    "    if today.month == 12:\n",
    "        user_breakdown_df['year_month'] = all_months_list #months_bin['year_month'].to_list()[13:]\n",
    "        user_breakdown_df['clustered_track'] = clustered_track#[:len(all_months_list)]\n",
    "        user_breakdown_df2['self_identified_track'] = self_identified_track\n",
    "        user_breakdown_df['self_track'] = self_track#[:len(all_months_list)]\n",
    "        user_breakdown_df['researcher_track'] = researcher_track#[:len(all_months_list)]        \n",
    "    else:\n",
    "        user_breakdown_df['year_month'] = all_months_list #-(12-today.month)\n",
    "        user_breakdown_df['clustered_track'] = clustered_track#[:len(all_months_list[:])]\n",
    "        user_breakdown_df2['self_identified_track'] = self_identified_track\n",
    "        user_breakdown_df['self_track'] = self_track#[:len(all_months_list[:])]\n",
    "        user_breakdown_df['researcher_track'] = researcher_track#[:len(all_months_list[:])]\n",
    "    display(user_breakdown_df.head(2))"
   ]
  },
  {
   "cell_type": "code",
   "execution_count": null,
   "metadata": {
    "execution": {
     "iopub.status.busy": "2022-02-20T05:30:26.408347Z",
     "iopub.status.idle": "2022-02-20T05:30:26.410718Z",
     "shell.execute_reply": "2022-02-20T05:30:26.409946Z",
     "shell.execute_reply.started": "2022-02-20T05:30:26.409889Z"
    },
    "tags": []
   },
   "outputs": [],
   "source": [
    "# user_breakdown_df.to_csv(cwd+'/cached_data/temp.csv')"
   ]
  },
  {
   "cell_type": "code",
   "execution_count": null,
   "metadata": {
    "execution": {
     "iopub.status.busy": "2022-02-20T05:30:26.413566Z",
     "iopub.status.idle": "2022-02-20T05:30:26.416463Z",
     "shell.execute_reply": "2022-02-20T05:30:26.416219Z",
     "shell.execute_reply.started": "2022-02-20T05:30:26.416172Z"
    },
    "tags": []
   },
   "outputs": [],
   "source": [
    "import re"
   ]
  },
  {
   "cell_type": "code",
   "execution_count": null,
   "metadata": {
    "execution": {
     "iopub.status.busy": "2022-02-20T05:30:26.418287Z",
     "iopub.status.idle": "2022-02-20T05:30:26.419317Z",
     "shell.execute_reply": "2022-02-20T05:30:26.418982Z",
     "shell.execute_reply.started": "2022-02-20T05:30:26.418963Z"
    },
    "tags": []
   },
   "outputs": [],
   "source": [
    "## read the dev_flags.txt to determine where to save\n",
    "with open(cwd+'/dev_flags.txt','r') as f:\n",
    "    raw_flags = f.read()\n",
    "flag_pattern = re.compile(r'= \\w+')\n",
    "flags1 = re.findall(flag_pattern,raw_flags)    \n",
    "flags_result = [i[2:] for i in flags1]\n",
    "dev_flag = flags_result[0]\n",
    "prod_flag = flags_result[1]"
   ]
  },
  {
   "cell_type": "code",
   "execution_count": null,
   "metadata": {
    "execution": {
     "iopub.status.busy": "2022-02-20T05:30:26.420453Z",
     "iopub.status.idle": "2022-02-20T05:30:26.421676Z",
     "shell.execute_reply": "2022-02-20T05:30:26.421516Z",
     "shell.execute_reply.started": "2022-02-20T05:30:26.421493Z"
    },
    "tags": []
   },
   "outputs": [],
   "source": [
    "import seaborn as sns\n",
    "import matplotlib.pyplot as plt\n",
    "sns.set()\n",
    "sns.set_style(\"whitegrid\")\n",
    "\n",
    "plt.figure(figsize=(9,6))\n",
    "# user_breakdown_df2 = user_breakdown_df.iloc[:-(12-today.month),:]\n",
    "user_breakdown_df2 = user_breakdown_df.iloc[:-12-(12-today.month),:]\n",
    "plt.stackplot(user_breakdown_df2.year_month, \\\n",
    "#               user_breakdown_df2[['clustered_track','self_track']].to_numpy().T, \\\n",
    "#              labels=['Classroom', 'Unclassified'], \\\n",
    "#              colors=['green', 'orange']); #Self-study              \n",
    "              user_breakdown_df2[['clustered_track', 'researcher_track','self_identified_track','self_track']].to_numpy().T, \\\n",
    "             labels=['Classroom','Research', 'Unclassified'], \\\n",
    "             colors=['green', 'red', 'orange']); #Self-study\n",
    "\n",
    "plt.legend(loc='upper left')#,fontsize=14);\n",
    "plt.ylabel('12-month Trailing Total')#,fontsize=15)\n",
    "plt.xlim([datetime.datetime(2001,1,1), datetime.datetime(2021,7,1)])#,fontsize=15)\n",
    "# plt.show()\n",
    "\n",
    "if dev_flag == 'True':\n",
    "    plt.savefig(cwd+'/plots_local/300_simusers_class_res_unclass_12months_copied.eps', dpi=300, bbox_inches='tight')\n",
    "    plt.savefig(cwd+'/plots_local/300_simusers_class_res_unclass_12months_copied.pdf', dpi=300, bbox_inches='tight')\n",
    "    plt.savefig(cwd+'/plots_local/300_simusers_class_res_unclass_12months_copied.png', dpi=300, bbox_inches='tight')\n",
    "elif prod_flag == 'True':\n",
    "    plt.savefig(cwd+'/plots_production/300_simusers_class_res_unclass_12months_copied.eps', dpi=300, bbox_inches='tight')\n",
    "    plt.savefig(cwd+'/plots_production/300_simusers_class_res_unclass_12months_copied.pdf', dpi=300, bbox_inches='tight')\n",
    "    plt.savefig(cwd+'/plots_production/300_simusers_class_res_unclass_12months_copied.png', dpi=300, bbox_inches='tight')\n",
    "else:\n",
    "    print('no printing flag is active')"
   ]
  },
  {
   "cell_type": "code",
   "execution_count": null,
   "metadata": {
    "execution": {
     "iopub.status.busy": "2022-02-20T05:04:36.664411Z",
     "iopub.status.idle": "2022-02-20T05:04:36.664843Z",
     "shell.execute_reply": "2022-02-20T05:04:36.664720Z",
     "shell.execute_reply.started": "2022-02-20T05:04:36.664706Z"
    },
    "tags": []
   },
   "outputs": [],
   "source": [
    "total = user_breakdown_df2['clustered_track'].to_numpy()+user_breakdown_df2['researcher_track'].to_numpy()+\\\n",
    "                        user_breakdown_df2['self_track'].to_numpy() + user_breakdown_df2['self_identified_track'].to_numpy()\n",
    "display(len(total))\n",
    "user_breakdown_df2['clustered_track_per'] = 100*np.divide(user_breakdown_df2['clustered_track'],total)\n",
    "user_breakdown_df2['self_identified_track_per'] = 100*np.divide(user_breakdown_df2['self_identified_track'], total)\n",
    "user_breakdown_df2['researcher_track_per'] = 100*np.divide(user_breakdown_df2['researcher_track'], total)\n",
    "user_breakdown_df2['self_track_per'] = 100*np.divide(user_breakdown_df2['self_track'], total)"
   ]
  },
  {
   "cell_type": "code",
   "execution_count": null,
   "metadata": {
    "execution": {
     "iopub.status.busy": "2022-02-20T05:30:26.422792Z",
     "iopub.status.idle": "2022-02-20T05:30:26.424762Z",
     "shell.execute_reply": "2022-02-20T05:30:26.424578Z",
     "shell.execute_reply.started": "2022-02-20T05:30:26.424554Z"
    },
    "tags": []
   },
   "outputs": [],
   "source": [
    "plt.figure(figsize=(9,6))\n",
    "plt.plot(user_breakdown_df2.year_month, user_breakdown_df2.clustered_track_per, label='classroom', \\\n",
    "             color='green');\n",
    "plt.plot(user_breakdown_df2.year_month, user_breakdown_df2.researcher_track_per, label='research', \\\n",
    "             color='red');\n",
    "plt.plot(user_breakdown_df2.year_month, user_breakdown_df2.self_identified_track_per, label='self-identified', \\\n",
    "             color='magenta');\n",
    "plt.plot(user_breakdown_df2.year_month, user_breakdown_df2.self_track_per, label='self-study', \\\n",
    "             color='orange');\n",
    "\n",
    "plt.ylim([0, 100])\n",
    "plt.legend(loc='upper right');\n",
    "plt.ylabel('Percentage (%)');\n",
    "plt.xlim([datetime.datetime(2001,1,1), datetime.datetime(2021,7,1)])\n",
    "# plt.show()\n",
    "\n",
    "if dev_flag == 'True':\n",
    "    plt.savefig(cwd+'/plots_local/300_simusers_class_res_unclass_12months_percent_copied.eps', dpi=300, bbox_inches='tight')\n",
    "    plt.savefig(cwd+'/plots_local/300_simusers_class_res_unclass_12months_percent_copied.pdf', dpi=300, bbox_inches='tight')\n",
    "    plt.savefig(cwd+'/plots_local/300_simusers_class_res_unclass_12months_percent_copied.png', dpi=300, bbox_inches='tight')\n",
    "elif prod_flag == 'True':\n",
    "    plt.savefig(cwd+'/plots_production/300_simusers_class_res_unclass_12months_percent_copied.eps', dpi=300, bbox_inches='tight')\n",
    "    plt.savefig(cwd+'/plots_production/300_simusers_class_res_unclass_12months_percent_copied.pdf', dpi=300, bbox_inches='tight')\n",
    "    plt.savefig(cwd+'/plots_production/300_simusers_class_res_unclass_12months_percent_copied.png', dpi=300, bbox_inches='tight')\n",
    "else:\n",
    "    print('no printing flag is active')"
   ]
  },
  {
   "cell_type": "code",
   "execution_count": null,
   "metadata": {
    "execution": {
     "iopub.status.busy": "2022-02-20T05:30:26.427213Z",
     "iopub.status.idle": "2022-02-20T05:30:26.428546Z",
     "shell.execute_reply": "2022-02-20T05:30:26.428185Z",
     "shell.execute_reply.started": "2022-02-20T05:30:26.428141Z"
    },
    "tags": []
   },
   "outputs": [],
   "source": [
    "user_breakdown_df2.to_csv(cwd+'/cached_data/nh_user_breakdown.csv')"
   ]
  },
  {
   "cell_type": "code",
   "execution_count": null,
   "metadata": {},
   "outputs": [],
   "source": []
  },
  {
   "cell_type": "code",
   "execution_count": null,
   "metadata": {},
   "outputs": [],
   "source": []
  },
  {
   "cell_type": "code",
   "execution_count": null,
   "metadata": {},
   "outputs": [],
   "source": []
  }
 ],
 "metadata": {
  "kernelspec": {
   "display_name": "Python 3 (ipykernel)",
   "language": "python",
   "name": "python3"
  },
  "language_info": {
   "codemirror_mode": {
    "name": "ipython",
    "version": 3
   },
   "file_extension": ".py",
   "mimetype": "text/x-python",
   "name": "python",
   "nbconvert_exporter": "python",
   "pygments_lexer": "ipython3",
   "version": "3.8.10"
  }
 },
 "nbformat": 4,
 "nbformat_minor": 4
}
