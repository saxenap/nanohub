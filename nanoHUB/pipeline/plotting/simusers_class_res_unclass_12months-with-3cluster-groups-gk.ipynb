{
 "cells": [
  {
   "cell_type": "code",
   "execution_count": 1,
   "metadata": {
    "execution": {
     "iopub.execute_input": "2022-02-21T21:38:04.506064Z",
     "iopub.status.busy": "2022-02-21T21:38:04.505797Z",
     "iopub.status.idle": "2022-02-21T21:38:04.516218Z",
     "shell.execute_reply": "2022-02-21T21:38:04.514872Z",
     "shell.execute_reply.started": "2022-02-21T21:38:04.505998Z"
    },
    "tags": []
   },
   "outputs": [],
   "source": [
    "## build researcher events, student events, and self-study events\n",
    "## researcher are simply those with NH citations"
   ]
  },
  {
   "cell_type": "code",
   "execution_count": 2,
   "metadata": {
    "execution": {
     "iopub.execute_input": "2022-02-21T21:38:04.518488Z",
     "iopub.status.busy": "2022-02-21T21:38:04.517791Z",
     "iopub.status.idle": "2022-02-21T21:38:06.196660Z",
     "shell.execute_reply": "2022-02-21T21:38:06.195769Z",
     "shell.execute_reply.started": "2022-02-21T21:38:04.518455Z"
    },
    "tags": []
   },
   "outputs": [
    {
     "name": "stdout",
     "output_type": "stream",
     "text": [
      "\u001b[1mnanoHUB - Serving Students, Researchers & Instructors\u001b[0m\n"
     ]
    }
   ],
   "source": [
    "import sys\n",
    "\n",
    "import pandas as pd\n",
    "import numpy as np\n",
    "import time\n",
    "import datetime\n",
    "import os\n",
    "from nanoHUB.application import Application\n",
    "from nanoHUB.configuration import ClusteringConfiguration\n",
    "from nanoHUB.pipeline.geddes.data import get_default_s3_client\n",
    "from nanoHUB.dataaccess.lake import S3FileMapper\n",
    "\n",
    "from nanoHUB.clustering.infra import get_mike_only_clustered_users, get_xufeng_only_clustered_users, get_mike_xufeng_clustered_users\n",
    "from nanoHUB.clustering.infra import create_clusters_repository, add_cluster_info, get_all_clustered_users, get_all_self_study_users, get_all_self_identified_users"
   ]
  },
  {
   "cell_type": "code",
   "execution_count": 3,
   "metadata": {
    "execution": {
     "iopub.execute_input": "2022-02-21T21:38:06.199768Z",
     "iopub.status.busy": "2022-02-21T21:38:06.198525Z",
     "iopub.status.idle": "2022-02-21T21:38:06.204985Z",
     "shell.execute_reply": "2022-02-21T21:38:06.204030Z",
     "shell.execute_reply.started": "2022-02-21T21:38:06.199734Z"
    },
    "tags": []
   },
   "outputs": [],
   "source": [
    "pd.set_option('display.max_columns', None)\n",
    "cwd = os.getcwd()"
   ]
  },
  {
   "cell_type": "code",
   "execution_count": 4,
   "metadata": {
    "execution": {
     "iopub.execute_input": "2022-02-21T21:38:06.207572Z",
     "iopub.status.busy": "2022-02-21T21:38:06.206683Z",
     "iopub.status.idle": "2022-02-21T21:38:06.547914Z",
     "shell.execute_reply": "2022-02-21T21:38:06.546895Z",
     "shell.execute_reply.started": "2022-02-21T21:38:06.207539Z"
    },
    "tags": []
   },
   "outputs": [],
   "source": [
    "application = Application.get_instance()\n",
    "nanohub_db = application.new_db_engine('nanohub')\n",
    "nanohub_metrics_db = application.new_db_engine('nanohub_metrics')\n",
    "wang159_myrmekes_db = application.new_db_engine('rfm_data')\n",
    "\n",
    "s3_client = get_default_s3_client(application)\n",
    "derived_data_file_path = 'derived_data_for_users.csv'\n",
    "processed_mapper = S3FileMapper(s3_client, ClusteringConfiguration().bucket_name_processed)"
   ]
  },
  {
   "cell_type": "code",
   "execution_count": null,
   "metadata": {},
   "outputs": [],
   "source": []
  },
  {
   "cell_type": "markdown",
   "metadata": {
    "tags": []
   },
   "source": [
    "## Cumulative classroom/research/self-study"
   ]
  },
  {
   "cell_type": "code",
   "execution_count": 5,
   "metadata": {
    "execution": {
     "iopub.execute_input": "2022-02-21T21:38:06.549392Z",
     "iopub.status.busy": "2022-02-21T21:38:06.549150Z",
     "iopub.status.idle": "2022-02-21T21:38:21.747292Z",
     "shell.execute_reply": "2022-02-21T21:38:21.746062Z",
     "shell.execute_reply.started": "2022-02-21T21:38:06.549367Z"
    },
    "tags": []
   },
   "outputs": [
    {
     "data": {
      "text/plain": [
       "78167"
      ]
     },
     "metadata": {},
     "output_type": "display_data"
    }
   ],
   "source": [
    "clustered_df = get_all_clustered_users(processed_mapper, derived_data_file_path)\n",
    "clustered_df['nanoHUB_user_ID__c'] = clustered_df['id']\n",
    "clustered_NH_ids = clustered_df['nanoHUB_user_ID__c']\n",
    "display(len(clustered_NH_ids))"
   ]
  },
  {
   "cell_type": "code",
   "execution_count": 6,
   "metadata": {
    "execution": {
     "iopub.execute_input": "2022-02-21T21:38:21.749286Z",
     "iopub.status.busy": "2022-02-21T21:38:21.748937Z",
     "iopub.status.idle": "2022-02-21T21:38:35.726807Z",
     "shell.execute_reply": "2022-02-21T21:38:35.725391Z",
     "shell.execute_reply.started": "2022-02-21T21:38:21.749254Z"
    },
    "tags": []
   },
   "outputs": [
    {
     "name": "stdout",
     "output_type": "stream",
     "text": [
      "[WARNING] [warnings - py.warnings]: /home/gekco/nanoHUB/nanoHUB/clustering/infra.py:334: UserWarning: This pattern has match groups. To actually get the groups, use str.extract.\n",
      "  return df[df[column_name].str.contains(search_for)]\n",
      " [warnings._showwarnmsg:109]\n"
     ]
    },
    {
     "data": {
      "text/plain": [
       "16825"
      ]
     },
     "metadata": {},
     "output_type": "display_data"
    }
   ],
   "source": [
    "mike_clustered_users_df = get_mike_only_clustered_users(processed_mapper, derived_data_file_path)\n",
    "mike_clustered_users_df['nanoHUB_user_ID__c'] = mike_clustered_users_df['id']\n",
    "mike_clustered_NH_ids = mike_clustered_users_df['nanoHUB_user_ID__c']\n",
    "display(len(mike_clustered_users_df))"
   ]
  },
  {
   "cell_type": "code",
   "execution_count": 7,
   "metadata": {
    "execution": {
     "iopub.execute_input": "2022-02-21T21:38:35.729473Z",
     "iopub.status.busy": "2022-02-21T21:38:35.728338Z",
     "iopub.status.idle": "2022-02-21T21:38:48.548906Z",
     "shell.execute_reply": "2022-02-21T21:38:48.547584Z",
     "shell.execute_reply.started": "2022-02-21T21:38:35.729434Z"
    },
    "tags": []
   },
   "outputs": [
    {
     "data": {
      "text/plain": [
       "14997"
      ]
     },
     "metadata": {},
     "output_type": "display_data"
    }
   ],
   "source": [
    "xufeng_clustered_users_df = get_xufeng_only_clustered_users(processed_mapper, derived_data_file_path)\n",
    "xufeng_clustered_users_df['nanoHUB_user_ID__c'] = xufeng_clustered_users_df['id']\n",
    "xufeng_clustered_NH_ids = xufeng_clustered_users_df['nanoHUB_user_ID__c']\n",
    "display(len(xufeng_clustered_users_df))"
   ]
  },
  {
   "cell_type": "code",
   "execution_count": 8,
   "metadata": {
    "execution": {
     "iopub.execute_input": "2022-02-21T21:38:48.552368Z",
     "iopub.status.busy": "2022-02-21T21:38:48.550846Z",
     "iopub.status.idle": "2022-02-21T21:39:01.107423Z",
     "shell.execute_reply": "2022-02-21T21:39:01.106396Z",
     "shell.execute_reply.started": "2022-02-21T21:38:48.552280Z"
    },
    "tags": []
   },
   "outputs": [
    {
     "data": {
      "text/plain": [
       "46345"
      ]
     },
     "metadata": {},
     "output_type": "display_data"
    }
   ],
   "source": [
    "mike_xufeng_clustered_users_df = get_mike_xufeng_clustered_users(processed_mapper, derived_data_file_path)\n",
    "mike_xufeng_clustered_users_df['nanoHUB_user_ID__c'] = mike_xufeng_clustered_users_df['id']\n",
    "mike_xufeng_clustered_NH_ids = mike_xufeng_clustered_users_df['nanoHUB_user_ID__c']\n",
    "display(len(mike_xufeng_clustered_users_df))"
   ]
  },
  {
   "cell_type": "code",
   "execution_count": 9,
   "metadata": {
    "execution": {
     "iopub.execute_input": "2022-02-21T21:39:01.108929Z",
     "iopub.status.busy": "2022-02-21T21:39:01.108639Z",
     "iopub.status.idle": "2022-02-21T21:39:01.114847Z",
     "shell.execute_reply": "2022-02-21T21:39:01.113243Z",
     "shell.execute_reply.started": "2022-02-21T21:39:01.108901Z"
    },
    "tags": []
   },
   "outputs": [],
   "source": [
    "# raise"
   ]
  },
  {
   "cell_type": "code",
   "execution_count": 10,
   "metadata": {
    "execution": {
     "iopub.execute_input": "2022-02-21T21:39:01.117586Z",
     "iopub.status.busy": "2022-02-21T21:39:01.117143Z",
     "iopub.status.idle": "2022-02-21T21:39:16.282184Z",
     "shell.execute_reply": "2022-02-21T21:39:16.280421Z",
     "shell.execute_reply.started": "2022-02-21T21:39:01.117489Z"
    },
    "tags": []
   },
   "outputs": [
    {
     "name": "stdout",
     "output_type": "stream",
     "text": [
      "self_study_NH_ids length =  194524\n",
      "self_study_usernames length =  194524\n",
      "self_study_usernames samples =  ['hubrepo', 'admin', 'support', 'gridstat', 'ncn', 'nanohub', 'repo', 'violin', 'mireles', 'k_dadesh']\n"
     ]
    }
   ],
   "source": [
    "self_study_df = get_all_self_study_users(processed_mapper, derived_data_file_path)\n",
    "self_study_df['nanoHUB_user_ID__c'] = self_study_df['id']\n",
    "self_study_NH_ids = self_study_df['nanoHUB_user_ID__c']\n",
    "self_study_usernames = self_study_df['username'].tolist()\n",
    "\n",
    "print('self_study_NH_ids length = ',len(self_study_NH_ids))\n",
    "print('self_study_usernames length = ',len(self_study_usernames))\n",
    "print('self_study_usernames samples = ',self_study_usernames[0:10])"
   ]
  },
  {
   "cell_type": "code",
   "execution_count": 11,
   "metadata": {
    "execution": {
     "iopub.execute_input": "2022-02-21T21:39:16.284251Z",
     "iopub.status.busy": "2022-02-21T21:39:16.283916Z",
     "iopub.status.idle": "2022-02-21T21:39:30.908734Z",
     "shell.execute_reply": "2022-02-21T21:39:30.907241Z",
     "shell.execute_reply.started": "2022-02-21T21:39:16.284220Z"
    },
    "tags": []
   },
   "outputs": [
    {
     "name": "stdout",
     "output_type": "stream",
     "text": [
      "length of self_identified_NH_ids 4037\n"
     ]
    },
    {
     "data": {
      "text/html": [
       "<div>\n",
       "<style scoped>\n",
       "    .dataframe tbody tr th:only-of-type {\n",
       "        vertical-align: middle;\n",
       "    }\n",
       "\n",
       "    .dataframe tbody tr th {\n",
       "        vertical-align: top;\n",
       "    }\n",
       "\n",
       "    .dataframe thead th {\n",
       "        text-align: right;\n",
       "    }\n",
       "</style>\n",
       "<table border=\"1\" class=\"dataframe\">\n",
       "  <thead>\n",
       "    <tr style=\"text-align: right;\">\n",
       "      <th></th>\n",
       "      <th>id</th>\n",
       "      <th>name</th>\n",
       "      <th>username</th>\n",
       "      <th>email</th>\n",
       "      <th>registerDate</th>\n",
       "      <th>lastvisitDate</th>\n",
       "      <th>first_citation_at</th>\n",
       "      <th>number_citations</th>\n",
       "      <th>profile_key</th>\n",
       "      <th>has_researcher_profile</th>\n",
       "      <th>number_simulations</th>\n",
       "      <th>uid</th>\n",
       "      <th>clusters</th>\n",
       "      <th>mike_fall_2008</th>\n",
       "      <th>xufeng_fall_2008</th>\n",
       "      <th>mike_spring_2008</th>\n",
       "      <th>xufeng_spring_2008</th>\n",
       "      <th>mike_fall_2009</th>\n",
       "      <th>xufeng_fall_2009</th>\n",
       "      <th>mike_spring_2009</th>\n",
       "      <th>xufeng_spring_2009</th>\n",
       "      <th>mike_fall_2010</th>\n",
       "      <th>xufeng_fall_2010</th>\n",
       "      <th>mike_spring_2010</th>\n",
       "      <th>xufeng_spring_2010</th>\n",
       "      <th>mike_fall_2011</th>\n",
       "      <th>xufeng_fall_2011</th>\n",
       "      <th>mike_spring_2011</th>\n",
       "      <th>xufeng_spring_2011</th>\n",
       "      <th>mike_fall_2012</th>\n",
       "      <th>xufeng_fall_2012</th>\n",
       "      <th>mike_spring_2012</th>\n",
       "      <th>xufeng_spring_2012</th>\n",
       "      <th>mike_fall_2013</th>\n",
       "      <th>xufeng_fall_2013</th>\n",
       "      <th>mike_spring_2013</th>\n",
       "      <th>xufeng_spring_2013</th>\n",
       "      <th>mike_fall_2014</th>\n",
       "      <th>xufeng_fall_2014</th>\n",
       "      <th>mike_spring_2014</th>\n",
       "      <th>xufeng_spring_2014</th>\n",
       "      <th>mike_fall_2015</th>\n",
       "      <th>xufeng_fall_2015</th>\n",
       "      <th>mike_spring_2015</th>\n",
       "      <th>xufeng_spring_2015</th>\n",
       "      <th>mike_fall_2016</th>\n",
       "      <th>xufeng_fall_2016</th>\n",
       "      <th>mike_spring_2016</th>\n",
       "      <th>xufeng_spring_2016</th>\n",
       "      <th>mike_fall_2017</th>\n",
       "      <th>xufeng_fall_2017</th>\n",
       "      <th>mike_spring_2017</th>\n",
       "      <th>xufeng_spring_2017</th>\n",
       "      <th>mike_fall_2018</th>\n",
       "      <th>xufeng_fall_2018</th>\n",
       "      <th>mike_spring_2018</th>\n",
       "      <th>xufeng_spring_2018</th>\n",
       "      <th>mike_fall_2019</th>\n",
       "      <th>xufeng_fall_2019</th>\n",
       "      <th>mike_spring_2019</th>\n",
       "      <th>xufeng_spring_2019</th>\n",
       "      <th>mike_fall_2020</th>\n",
       "      <th>xufeng_fall_2020</th>\n",
       "      <th>mike_spring_2020</th>\n",
       "      <th>xufeng_spring_2020</th>\n",
       "      <th>mike_fall_2021</th>\n",
       "      <th>xufeng_fall_2021</th>\n",
       "      <th>nanoHUB_user_ID__c</th>\n",
       "    </tr>\n",
       "  </thead>\n",
       "  <tbody>\n",
       "    <tr>\n",
       "      <th>895</th>\n",
       "      <td>2579</td>\n",
       "      <td>Stefan Birner</td>\n",
       "      <td>birner</td>\n",
       "      <td>stefan.birner@nextnano.com</td>\n",
       "      <td>2006-05-05 07:36:09</td>\n",
       "      <td>2020-01-13 15:58:33</td>\n",
       "      <td>NaN</td>\n",
       "      <td>0.0</td>\n",
       "      <td>[orcid]</td>\n",
       "      <td>True</td>\n",
       "      <td>52.0</td>\n",
       "      <td>2579.0</td>\n",
       "      <td>['mike_spring_2010']</td>\n",
       "      <td>False</td>\n",
       "      <td>False</td>\n",
       "      <td>False</td>\n",
       "      <td>False</td>\n",
       "      <td>False</td>\n",
       "      <td>False</td>\n",
       "      <td>False</td>\n",
       "      <td>False</td>\n",
       "      <td>False</td>\n",
       "      <td>False</td>\n",
       "      <td>True</td>\n",
       "      <td>False</td>\n",
       "      <td>False</td>\n",
       "      <td>False</td>\n",
       "      <td>False</td>\n",
       "      <td>False</td>\n",
       "      <td>False</td>\n",
       "      <td>False</td>\n",
       "      <td>False</td>\n",
       "      <td>False</td>\n",
       "      <td>False</td>\n",
       "      <td>False</td>\n",
       "      <td>False</td>\n",
       "      <td>False</td>\n",
       "      <td>False</td>\n",
       "      <td>False</td>\n",
       "      <td>False</td>\n",
       "      <td>False</td>\n",
       "      <td>False</td>\n",
       "      <td>False</td>\n",
       "      <td>False</td>\n",
       "      <td>False</td>\n",
       "      <td>False</td>\n",
       "      <td>False</td>\n",
       "      <td>False</td>\n",
       "      <td>False</td>\n",
       "      <td>False</td>\n",
       "      <td>False</td>\n",
       "      <td>False</td>\n",
       "      <td>False</td>\n",
       "      <td>False</td>\n",
       "      <td>False</td>\n",
       "      <td>False</td>\n",
       "      <td>False</td>\n",
       "      <td>False</td>\n",
       "      <td>False</td>\n",
       "      <td>False</td>\n",
       "      <td>False</td>\n",
       "      <td>False</td>\n",
       "      <td>False</td>\n",
       "      <td>False</td>\n",
       "      <td>False</td>\n",
       "      <td>False</td>\n",
       "      <td>False</td>\n",
       "      <td>2579</td>\n",
       "    </tr>\n",
       "    <tr>\n",
       "      <th>1176</th>\n",
       "      <td>2862</td>\n",
       "      <td>Mark Lundstrom</td>\n",
       "      <td>lundstro</td>\n",
       "      <td>lundstro@purdue.edu</td>\n",
       "      <td>2004-12-06 22:01:25</td>\n",
       "      <td>2022-02-08 16:28:36</td>\n",
       "      <td>NaN</td>\n",
       "      <td>0.0</td>\n",
       "      <td>[googlescholar, researchgateid]</td>\n",
       "      <td>True</td>\n",
       "      <td>2345.0</td>\n",
       "      <td>2862.0</td>\n",
       "      <td>['xufeng_fall_2008', 'xufeng_spring_2008', 'xu...</td>\n",
       "      <td>False</td>\n",
       "      <td>True</td>\n",
       "      <td>False</td>\n",
       "      <td>True</td>\n",
       "      <td>False</td>\n",
       "      <td>False</td>\n",
       "      <td>False</td>\n",
       "      <td>False</td>\n",
       "      <td>False</td>\n",
       "      <td>True</td>\n",
       "      <td>False</td>\n",
       "      <td>False</td>\n",
       "      <td>False</td>\n",
       "      <td>True</td>\n",
       "      <td>False</td>\n",
       "      <td>False</td>\n",
       "      <td>False</td>\n",
       "      <td>False</td>\n",
       "      <td>False</td>\n",
       "      <td>False</td>\n",
       "      <td>False</td>\n",
       "      <td>True</td>\n",
       "      <td>False</td>\n",
       "      <td>False</td>\n",
       "      <td>False</td>\n",
       "      <td>False</td>\n",
       "      <td>False</td>\n",
       "      <td>False</td>\n",
       "      <td>False</td>\n",
       "      <td>False</td>\n",
       "      <td>True</td>\n",
       "      <td>False</td>\n",
       "      <td>False</td>\n",
       "      <td>False</td>\n",
       "      <td>False</td>\n",
       "      <td>False</td>\n",
       "      <td>False</td>\n",
       "      <td>False</td>\n",
       "      <td>False</td>\n",
       "      <td>False</td>\n",
       "      <td>False</td>\n",
       "      <td>False</td>\n",
       "      <td>False</td>\n",
       "      <td>False</td>\n",
       "      <td>False</td>\n",
       "      <td>False</td>\n",
       "      <td>True</td>\n",
       "      <td>False</td>\n",
       "      <td>False</td>\n",
       "      <td>False</td>\n",
       "      <td>False</td>\n",
       "      <td>False</td>\n",
       "      <td>False</td>\n",
       "      <td>False</td>\n",
       "      <td>2862</td>\n",
       "    </tr>\n",
       "    <tr>\n",
       "      <th>1473</th>\n",
       "      <td>3159</td>\n",
       "      <td>Tamara J. Moore</td>\n",
       "      <td>tmoore</td>\n",
       "      <td>tmoore@purdue.edu</td>\n",
       "      <td>2003-09-03 21:18:50</td>\n",
       "      <td>2021-10-07 19:58:59</td>\n",
       "      <td>NaN</td>\n",
       "      <td>0.0</td>\n",
       "      <td>[orcid]</td>\n",
       "      <td>True</td>\n",
       "      <td>38.0</td>\n",
       "      <td>3159.0</td>\n",
       "      <td>['xufeng_fall_2020']</td>\n",
       "      <td>False</td>\n",
       "      <td>False</td>\n",
       "      <td>False</td>\n",
       "      <td>False</td>\n",
       "      <td>False</td>\n",
       "      <td>False</td>\n",
       "      <td>False</td>\n",
       "      <td>False</td>\n",
       "      <td>False</td>\n",
       "      <td>False</td>\n",
       "      <td>False</td>\n",
       "      <td>False</td>\n",
       "      <td>False</td>\n",
       "      <td>False</td>\n",
       "      <td>False</td>\n",
       "      <td>False</td>\n",
       "      <td>False</td>\n",
       "      <td>False</td>\n",
       "      <td>False</td>\n",
       "      <td>False</td>\n",
       "      <td>False</td>\n",
       "      <td>False</td>\n",
       "      <td>False</td>\n",
       "      <td>False</td>\n",
       "      <td>False</td>\n",
       "      <td>False</td>\n",
       "      <td>False</td>\n",
       "      <td>False</td>\n",
       "      <td>False</td>\n",
       "      <td>False</td>\n",
       "      <td>False</td>\n",
       "      <td>False</td>\n",
       "      <td>False</td>\n",
       "      <td>False</td>\n",
       "      <td>False</td>\n",
       "      <td>False</td>\n",
       "      <td>False</td>\n",
       "      <td>False</td>\n",
       "      <td>False</td>\n",
       "      <td>False</td>\n",
       "      <td>False</td>\n",
       "      <td>False</td>\n",
       "      <td>False</td>\n",
       "      <td>False</td>\n",
       "      <td>False</td>\n",
       "      <td>False</td>\n",
       "      <td>False</td>\n",
       "      <td>False</td>\n",
       "      <td>False</td>\n",
       "      <td>True</td>\n",
       "      <td>False</td>\n",
       "      <td>False</td>\n",
       "      <td>False</td>\n",
       "      <td>False</td>\n",
       "      <td>3159</td>\n",
       "    </tr>\n",
       "    <tr>\n",
       "      <th>1796</th>\n",
       "      <td>3482</td>\n",
       "      <td>Gerhard Klimeck</td>\n",
       "      <td>gekco</td>\n",
       "      <td>gekco@purdue.edu</td>\n",
       "      <td>2004-04-10 17:58:53</td>\n",
       "      <td>2022-02-10 14:45:37</td>\n",
       "      <td>NaN</td>\n",
       "      <td>0.0</td>\n",
       "      <td>[orcid, googlescholar, researcherid, researchg...</td>\n",
       "      <td>True</td>\n",
       "      <td>18677.0</td>\n",
       "      <td>3482.0</td>\n",
       "      <td>['xufeng_fall_2009', 'xufeng_spring_2009', 'xu...</td>\n",
       "      <td>False</td>\n",
       "      <td>False</td>\n",
       "      <td>False</td>\n",
       "      <td>False</td>\n",
       "      <td>False</td>\n",
       "      <td>True</td>\n",
       "      <td>False</td>\n",
       "      <td>True</td>\n",
       "      <td>False</td>\n",
       "      <td>True</td>\n",
       "      <td>False</td>\n",
       "      <td>True</td>\n",
       "      <td>False</td>\n",
       "      <td>False</td>\n",
       "      <td>False</td>\n",
       "      <td>False</td>\n",
       "      <td>False</td>\n",
       "      <td>False</td>\n",
       "      <td>False</td>\n",
       "      <td>True</td>\n",
       "      <td>False</td>\n",
       "      <td>True</td>\n",
       "      <td>False</td>\n",
       "      <td>False</td>\n",
       "      <td>False</td>\n",
       "      <td>True</td>\n",
       "      <td>False</td>\n",
       "      <td>False</td>\n",
       "      <td>False</td>\n",
       "      <td>False</td>\n",
       "      <td>False</td>\n",
       "      <td>False</td>\n",
       "      <td>False</td>\n",
       "      <td>False</td>\n",
       "      <td>False</td>\n",
       "      <td>True</td>\n",
       "      <td>False</td>\n",
       "      <td>False</td>\n",
       "      <td>False</td>\n",
       "      <td>False</td>\n",
       "      <td>False</td>\n",
       "      <td>False</td>\n",
       "      <td>False</td>\n",
       "      <td>False</td>\n",
       "      <td>False</td>\n",
       "      <td>False</td>\n",
       "      <td>False</td>\n",
       "      <td>True</td>\n",
       "      <td>False</td>\n",
       "      <td>True</td>\n",
       "      <td>False</td>\n",
       "      <td>False</td>\n",
       "      <td>False</td>\n",
       "      <td>True</td>\n",
       "      <td>3482</td>\n",
       "    </tr>\n",
       "    <tr>\n",
       "      <th>1897</th>\n",
       "      <td>3583</td>\n",
       "      <td>Eric Pop</td>\n",
       "      <td>epop</td>\n",
       "      <td>epop@stanford.edu</td>\n",
       "      <td>2006-02-09 20:57:14</td>\n",
       "      <td>2021-09-04 07:19:40</td>\n",
       "      <td>NaN</td>\n",
       "      <td>0.0</td>\n",
       "      <td>[orcid, googlescholar]</td>\n",
       "      <td>True</td>\n",
       "      <td>90.0</td>\n",
       "      <td>3583.0</td>\n",
       "      <td>['xufeng_fall_2012']</td>\n",
       "      <td>False</td>\n",
       "      <td>False</td>\n",
       "      <td>False</td>\n",
       "      <td>False</td>\n",
       "      <td>False</td>\n",
       "      <td>False</td>\n",
       "      <td>False</td>\n",
       "      <td>False</td>\n",
       "      <td>False</td>\n",
       "      <td>False</td>\n",
       "      <td>False</td>\n",
       "      <td>False</td>\n",
       "      <td>False</td>\n",
       "      <td>False</td>\n",
       "      <td>False</td>\n",
       "      <td>False</td>\n",
       "      <td>False</td>\n",
       "      <td>True</td>\n",
       "      <td>False</td>\n",
       "      <td>False</td>\n",
       "      <td>False</td>\n",
       "      <td>False</td>\n",
       "      <td>False</td>\n",
       "      <td>False</td>\n",
       "      <td>False</td>\n",
       "      <td>False</td>\n",
       "      <td>False</td>\n",
       "      <td>False</td>\n",
       "      <td>False</td>\n",
       "      <td>False</td>\n",
       "      <td>False</td>\n",
       "      <td>False</td>\n",
       "      <td>False</td>\n",
       "      <td>False</td>\n",
       "      <td>False</td>\n",
       "      <td>False</td>\n",
       "      <td>False</td>\n",
       "      <td>False</td>\n",
       "      <td>False</td>\n",
       "      <td>False</td>\n",
       "      <td>False</td>\n",
       "      <td>False</td>\n",
       "      <td>False</td>\n",
       "      <td>False</td>\n",
       "      <td>False</td>\n",
       "      <td>False</td>\n",
       "      <td>False</td>\n",
       "      <td>False</td>\n",
       "      <td>False</td>\n",
       "      <td>False</td>\n",
       "      <td>False</td>\n",
       "      <td>False</td>\n",
       "      <td>False</td>\n",
       "      <td>False</td>\n",
       "      <td>3583</td>\n",
       "    </tr>\n",
       "  </tbody>\n",
       "</table>\n",
       "</div>"
      ],
      "text/plain": [
       "        id             name  username                       email  \\\n",
       "895   2579    Stefan Birner    birner  stefan.birner@nextnano.com   \n",
       "1176  2862   Mark Lundstrom  lundstro         lundstro@purdue.edu   \n",
       "1473  3159  Tamara J. Moore    tmoore           tmoore@purdue.edu   \n",
       "1796  3482  Gerhard Klimeck     gekco            gekco@purdue.edu   \n",
       "1897  3583         Eric Pop      epop           epop@stanford.edu   \n",
       "\n",
       "             registerDate        lastvisitDate first_citation_at  \\\n",
       "895   2006-05-05 07:36:09  2020-01-13 15:58:33               NaN   \n",
       "1176  2004-12-06 22:01:25  2022-02-08 16:28:36               NaN   \n",
       "1473  2003-09-03 21:18:50  2021-10-07 19:58:59               NaN   \n",
       "1796  2004-04-10 17:58:53  2022-02-10 14:45:37               NaN   \n",
       "1897  2006-02-09 20:57:14  2021-09-04 07:19:40               NaN   \n",
       "\n",
       "      number_citations                                        profile_key  \\\n",
       "895                0.0                                            [orcid]   \n",
       "1176               0.0                    [googlescholar, researchgateid]   \n",
       "1473               0.0                                            [orcid]   \n",
       "1796               0.0  [orcid, googlescholar, researcherid, researchg...   \n",
       "1897               0.0                             [orcid, googlescholar]   \n",
       "\n",
       "      has_researcher_profile  number_simulations     uid  \\\n",
       "895                     True                52.0  2579.0   \n",
       "1176                    True              2345.0  2862.0   \n",
       "1473                    True                38.0  3159.0   \n",
       "1796                    True             18677.0  3482.0   \n",
       "1897                    True                90.0  3583.0   \n",
       "\n",
       "                                               clusters  mike_fall_2008  \\\n",
       "895                                ['mike_spring_2010']           False   \n",
       "1176  ['xufeng_fall_2008', 'xufeng_spring_2008', 'xu...           False   \n",
       "1473                               ['xufeng_fall_2020']           False   \n",
       "1796  ['xufeng_fall_2009', 'xufeng_spring_2009', 'xu...           False   \n",
       "1897                               ['xufeng_fall_2012']           False   \n",
       "\n",
       "      xufeng_fall_2008  mike_spring_2008  xufeng_spring_2008  mike_fall_2009  \\\n",
       "895              False             False               False           False   \n",
       "1176              True             False                True           False   \n",
       "1473             False             False               False           False   \n",
       "1796             False             False               False           False   \n",
       "1897             False             False               False           False   \n",
       "\n",
       "      xufeng_fall_2009  mike_spring_2009  xufeng_spring_2009  mike_fall_2010  \\\n",
       "895              False             False               False           False   \n",
       "1176             False             False               False           False   \n",
       "1473             False             False               False           False   \n",
       "1796              True             False                True           False   \n",
       "1897             False             False               False           False   \n",
       "\n",
       "      xufeng_fall_2010  mike_spring_2010  xufeng_spring_2010  mike_fall_2011  \\\n",
       "895              False              True               False           False   \n",
       "1176              True             False               False           False   \n",
       "1473             False             False               False           False   \n",
       "1796              True             False                True           False   \n",
       "1897             False             False               False           False   \n",
       "\n",
       "      xufeng_fall_2011  mike_spring_2011  xufeng_spring_2011  mike_fall_2012  \\\n",
       "895              False             False               False           False   \n",
       "1176              True             False               False           False   \n",
       "1473             False             False               False           False   \n",
       "1796             False             False               False           False   \n",
       "1897             False             False               False           False   \n",
       "\n",
       "      xufeng_fall_2012  mike_spring_2012  xufeng_spring_2012  mike_fall_2013  \\\n",
       "895              False             False               False           False   \n",
       "1176             False             False               False           False   \n",
       "1473             False             False               False           False   \n",
       "1796             False             False                True           False   \n",
       "1897              True             False               False           False   \n",
       "\n",
       "      xufeng_fall_2013  mike_spring_2013  xufeng_spring_2013  mike_fall_2014  \\\n",
       "895              False             False               False           False   \n",
       "1176              True             False               False           False   \n",
       "1473             False             False               False           False   \n",
       "1796              True             False               False           False   \n",
       "1897             False             False               False           False   \n",
       "\n",
       "      xufeng_fall_2014  mike_spring_2014  xufeng_spring_2014  mike_fall_2015  \\\n",
       "895              False             False               False           False   \n",
       "1176             False             False               False           False   \n",
       "1473             False             False               False           False   \n",
       "1796              True             False               False           False   \n",
       "1897             False             False               False           False   \n",
       "\n",
       "      xufeng_fall_2015  mike_spring_2015  xufeng_spring_2015  mike_fall_2016  \\\n",
       "895              False             False               False           False   \n",
       "1176             False              True               False           False   \n",
       "1473             False             False               False           False   \n",
       "1796             False             False               False           False   \n",
       "1897             False             False               False           False   \n",
       "\n",
       "      xufeng_fall_2016  mike_spring_2016  xufeng_spring_2016  mike_fall_2017  \\\n",
       "895              False             False               False           False   \n",
       "1176             False             False               False           False   \n",
       "1473             False             False               False           False   \n",
       "1796             False             False                True           False   \n",
       "1897             False             False               False           False   \n",
       "\n",
       "      xufeng_fall_2017  mike_spring_2017  xufeng_spring_2017  mike_fall_2018  \\\n",
       "895              False             False               False           False   \n",
       "1176             False             False               False           False   \n",
       "1473             False             False               False           False   \n",
       "1796             False             False               False           False   \n",
       "1897             False             False               False           False   \n",
       "\n",
       "      xufeng_fall_2018  mike_spring_2018  xufeng_spring_2018  mike_fall_2019  \\\n",
       "895              False             False               False           False   \n",
       "1176             False             False               False           False   \n",
       "1473             False             False               False           False   \n",
       "1796             False             False               False           False   \n",
       "1897             False             False               False           False   \n",
       "\n",
       "      xufeng_fall_2019  mike_spring_2019  xufeng_spring_2019  mike_fall_2020  \\\n",
       "895              False             False               False           False   \n",
       "1176             False              True               False           False   \n",
       "1473             False             False               False           False   \n",
       "1796             False             False                True           False   \n",
       "1897             False             False               False           False   \n",
       "\n",
       "      xufeng_fall_2020  mike_spring_2020  xufeng_spring_2020  mike_fall_2021  \\\n",
       "895              False             False               False           False   \n",
       "1176             False             False               False           False   \n",
       "1473              True             False               False           False   \n",
       "1796              True             False               False           False   \n",
       "1897             False             False               False           False   \n",
       "\n",
       "      xufeng_fall_2021  nanoHUB_user_ID__c  \n",
       "895              False                2579  \n",
       "1176             False                2862  \n",
       "1473             False                3159  \n",
       "1796              True                3482  \n",
       "1897             False                3583  "
      ]
     },
     "metadata": {},
     "output_type": "display_data"
    }
   ],
   "source": [
    "self_identified_df = get_all_self_identified_users(processed_mapper, derived_data_file_path)\n",
    "self_identified_df['nanoHUB_user_ID__c'] = self_identified_df['id']\n",
    "self_identified_NH_ids = self_identified_df['nanoHUB_user_ID__c']\n",
    "self_identified_usernames = self_identified_df['username'].tolist()\n",
    "print('length of self_identified_NH_ids',len(self_identified_NH_ids))\n",
    "display(self_identified_df.head())\n",
    "#print(self_identified_usernames)\n",
    "\n"
   ]
  },
  {
   "cell_type": "code",
   "execution_count": null,
   "metadata": {
    "execution": {
     "iopub.execute_input": "2022-02-21T21:39:30.913881Z",
     "iopub.status.busy": "2022-02-21T21:39:30.913586Z"
    },
    "tags": []
   },
   "outputs": [],
   "source": [
    "allusers_df = processed_mapper.read(derived_data_file_path)\n",
    "display(allusers_df.head(5))\n",
    "#display(allusers_usernames)\n",
    "display(allusers_df.loc[allusers_df['username'].isnull()])\n",
    "#display(allusers_df.loc[allusers_df['username'].notna()])\n",
    "\n",
    "allusers_df = allusers_df.loc[allusers_df['username'].notna()]\n",
    "display(allusers_df.loc[allusers_df['username'].isnull()])\n",
    "\n",
    "allusers_usernames = allusers_df['username'].tolist()\n"
   ]
  },
  {
   "cell_type": "code",
   "execution_count": null,
   "metadata": {
    "tags": []
   },
   "outputs": [],
   "source": [
    "print('clustered users',clustered_NH_ids.shape)\n",
    "print('selfstudy users',self_study_NH_ids.shape)\n",
    "print('self_study_usernames',len(self_study_usernames))\n",
    "print('self identified researchers',self_identified_NH_ids.shape)\n",
    "print('all users',allusers_df.shape)"
   ]
  },
  {
   "cell_type": "code",
   "execution_count": null,
   "metadata": {},
   "outputs": [],
   "source": []
  },
  {
   "cell_type": "code",
   "execution_count": null,
   "metadata": {
    "tags": []
   },
   "outputs": [],
   "source": [
    "frames = [clustered_df, self_study_df]\n",
    "contacts_df = pd.concat(frames)"
   ]
  },
  {
   "cell_type": "code",
   "execution_count": null,
   "metadata": {
    "tags": []
   },
   "outputs": [],
   "source": [
    "## need to filter self-study-nh-ids with the researchers"
   ]
  },
  {
   "cell_type": "code",
   "execution_count": null,
   "metadata": {
    "tags": []
   },
   "outputs": [],
   "source": [
    "## This researcher determination is based entirely on the results of research authors on nanohub\n",
    "## i.e., we use the researcher information on db2"
   ]
  },
  {
   "cell_type": "code",
   "execution_count": null,
   "metadata": {
    "tags": []
   },
   "outputs": [],
   "source": [
    "sql_query = 'select id, uid, author from jos_citations'\n",
    "jos_citations = pd.read_sql_query(sql_query, nanohub_db)\n",
    "display(jos_citations.head(2))\n",
    "print(jos_citations.shape)"
   ]
  },
  {
   "cell_type": "code",
   "execution_count": null,
   "metadata": {
    "tags": []
   },
   "outputs": [],
   "source": [
    "t1_authors = jos_citations['author'].to_list()\n",
    "t1_authors2 = [] #[j.split(';') for i,j in enumerate(t1_authors)]"
   ]
  },
  {
   "cell_type": "code",
   "execution_count": null,
   "metadata": {
    "tags": []
   },
   "outputs": [],
   "source": [
    "for i,j in enumerate(t1_authors):\n",
    "    try:\n",
    "        holder = j.split(';')\n",
    "        if len(holder) > 1: \n",
    "            for k,l in enumerate(holder):\n",
    "                if l[0] == ' ':\n",
    "                    holder[k] = l[1:]\n",
    "        t1_authors2.append(holder)\n",
    "    except:\n",
    "        garb = True"
   ]
  },
  {
   "cell_type": "code",
   "execution_count": null,
   "metadata": {
    "tags": []
   },
   "outputs": [],
   "source": [
    "t1_authors32 = [item for sublist in t1_authors2 for item in sublist]\n",
    "t1_authors3 = set(t1_authors32)\n",
    "print(len(t1_authors3))"
   ]
  },
  {
   "cell_type": "code",
   "execution_count": null,
   "metadata": {
    "tags": []
   },
   "outputs": [],
   "source": [
    "## extract all researchers with nh ids\n",
    "rw_ids = []\n",
    "need_search = []\n",
    "for i,j in enumerate(t1_authors3):\n",
    "    if '{{' in j:\n",
    "        rw_ids.append(i)\n",
    "    else:\n",
    "        need_search.append(i)"
   ]
  },
  {
   "cell_type": "code",
   "execution_count": null,
   "metadata": {
    "tags": []
   },
   "outputs": [],
   "source": [
    "## from the rw_ids, extract the nanohub userids\n",
    "# can obtain usernames from the DB2 table\n",
    "rw_ids2 = np.array(list(t1_authors3))[rw_ids]\n",
    "for i,j in enumerate(rw_ids2):\n",
    "    begin = j.index('{{')\n",
    "    rw_ids2[i] = j[begin+2:-2]\n",
    "print(len(rw_ids2))"
   ]
  },
  {
   "cell_type": "code",
   "execution_count": null,
   "metadata": {
    "tags": []
   },
   "outputs": [],
   "source": [
    "# need to obtain usernames\n",
    "sql_query = \"select id,name,username from jos_users where id in \"+str(tuple(rw_ids2))\n",
    "rw_researchers = pd.read_sql_query(sql_query,nanohub_db)\n",
    "display(rw_researchers.head(2))"
   ]
  },
  {
   "cell_type": "code",
   "execution_count": null,
   "metadata": {
    "tags": []
   },
   "outputs": [],
   "source": [
    "## need to obtain the username/ids from those people without nh ids explicitly spec'd in jos_citations\n",
    "ns2 = np.array(list(t1_authors3))[need_search]\n",
    "ns2 = ns2[1:]"
   ]
  },
  {
   "cell_type": "code",
   "execution_count": null,
   "metadata": {
    "tags": []
   },
   "outputs": [],
   "source": [
    "tuple(ns2)[:5]"
   ]
  },
  {
   "cell_type": "code",
   "execution_count": null,
   "metadata": {
    "tags": []
   },
   "outputs": [],
   "source": [
    "sql_query = \"select id,name,username from jos_users where name in \"+str(tuple(ns2))\n",
    "ns2_researchers = pd.read_sql_query(sql_query,nanohub_db)\n",
    "display(ns2_researchers.head(2))"
   ]
  },
  {
   "cell_type": "code",
   "execution_count": null,
   "metadata": {
    "tags": []
   },
   "outputs": [],
   "source": [
    "## combine the usernames into one data structure\n",
    "researcher_usernames = rw_researchers['username'].to_list() + ns2_researchers['username'].to_list()\n",
    "print('list of researchers who have cited nanohub  researcher_usernames=',len(researcher_usernames))"
   ]
  },
  {
   "cell_type": "code",
   "execution_count": null,
   "metadata": {
    "tags": []
   },
   "outputs": [],
   "source": [
    "#bool_search3 = np.in1d(np.array(researcher_usernames),np.array(self_identified_usernames))\n",
    "#researcher_usernames = np.where(~bool_search3)[0].tolist()\n",
    "#display(len(researcher_usernames))\n",
    "\n",
    "#display(len(self_identified_usernames))\n",
    "\n",
    "print('self_identified_usernames can have overlap with researchers',len(self_identified_usernames))\n",
    "#exclude the self-identified researchers from the users who have done research on nanohub\n",
    "#display(self_identified_usernames)\n",
    "#display(researcher_usernames)\n",
    "print('self_identified_usernames patial list', self_identified_usernames[0:10])\n",
    "print('researcher_usernames partial list',researcher_usernames[0:10])\n",
    "\n",
    "#bool_search3 = np.in1d(np.array(self_identified_usernames),np.array(researcher_usernames))\n",
    "#print('bool_search3 length of ',len(bool_search3))\n",
    "#print('bool_search3 partial list',bool_search3)\n",
    "\n",
    "#self_identified_usernames_index = np.where(~bool_search3)[0].tolist()\n",
    "si_usernames = self_identified_usernames\n",
    "r_usernames = researcher_usernames\n",
    "\n",
    "\n",
    "print(len(si_usernames))\n",
    "si_usernames = [x for x in si_usernames if x not in r_usernames]\n",
    "print(len(si_usernames))\n",
    "print(si_usernames[:10])"
   ]
  },
  {
   "cell_type": "code",
   "execution_count": null,
   "metadata": {
    "tags": []
   },
   "outputs": [],
   "source": [
    "self_identified_usernames = si_usernames\n",
    "\n",
    "\n",
    "#print('self_identified_usernames_index partial list',self_identified_usernames_index[0:10])\n",
    "#print('self_identified_usernames_index length',len(self_identified_usernames_index))\n",
    "\n",
    "\n",
    "#display(self_identified_df)\n",
    "#display(self_identified_df['username'][self_identified_usernames_index])\n",
    "\n",
    "\n",
    "print('researcher_usernames',len(researcher_usernames))\n",
    "\n",
    "print('self_identified_usernames reduced by overlap with researchers',len(self_identified_usernames))\n",
    "print('self_identified_usernames some samples',self_identified_usernames[0:10])"
   ]
  },
  {
   "cell_type": "code",
   "execution_count": null,
   "metadata": {
    "scrolled": true,
    "tags": []
   },
   "outputs": [],
   "source": [
    "#need to take out the researchers and citing authors from the list of selfstudy users. \n",
    "#\n",
    "print('number of self-study users self_study_usernames',len(self_study_usernames))\n",
    "print('take out len(researcher_usernames)',len(researcher_usernames))\n",
    "print('take out len(self_identified_usernames)',len(self_identified_usernames))\n",
    "\n",
    "self_study_usernames = [x for x in self_study_usernames if x not in researcher_usernames]\n",
    "print('number of self-study users self_study_usernames',len(self_study_usernames))\n",
    "self_study_usernames = [x for x in self_study_usernames if x not in self_identified_usernames]\n",
    "print('number of self-study users self_study_usernames',len(self_study_usernames))"
   ]
  },
  {
   "cell_type": "code",
   "execution_count": null,
   "metadata": {
    "scrolled": true,
    "tags": []
   },
   "outputs": [],
   "source": [
    "# researcher_ids = rw_researchers['id'].to_list() + ns2_researchers['id'].to_list()\n",
    "# print('researchers/citation',len(researcher_ids))\n",
    "\n",
    "\n",
    "\n",
    "# bool_search2 = np.in1d(np.array(self_study_NH_ids.tolist()),np.array(researcher_ids))\n",
    "\n",
    "\n",
    "# # Note, researchers can possibly be doubled counted within clusters!!\n",
    "# # sf_researchers = np.where(bool_search2)[0].tolist() \n",
    "# sf_self_study = np.where(~bool_search2)[0].tolist()\n",
    "# print('self-study users',len(sf_self_study))\n",
    "\n",
    "# bool_search2_2 = np.in1d(np.array(sf_self_study),np.array(self_identified_NH_ids.tolist()))\n",
    "# sf_self_study = np.where(~bool_search2_2)[0].tolist()\n",
    "\n",
    "# print('sf_self_study',len(sf_self_study))\n",
    "# print('self_study_NH_ids',len(self_study_NH_ids.to_list()))\n",
    "# print('self_identified_NH_ids',len(self_identified_NH_ids.to_list()))\n",
    "\n",
    "\n",
    "# # self study user usernames\n",
    "# ts_query = 'select id,username from jos_users where id in ' + str(tuple(self_study_NH_ids.dropna().to_list())) \n",
    "# #sf_contact_ids['nanoHUB_user_ID__c']))\n",
    "# ss_NH_username = pd.read_sql_query(ts_query,nanohub_db)\n",
    "# ss_NH_username_usernames = ss_NH_username['username'].tolist()"
   ]
  },
  {
   "cell_type": "code",
   "execution_count": null,
   "metadata": {
    "scrolled": true,
    "tags": []
   },
   "outputs": [],
   "source": [
    "#restart analysis here \n",
    "#restart analysis here \n",
    "#restart analysis here \n",
    "#restart analysis here \n",
    "\n",
    "\n"
   ]
  },
  {
   "cell_type": "code",
   "execution_count": null,
   "metadata": {
    "tags": []
   },
   "outputs": [],
   "source": [
    "today = datetime.datetime.today()\n",
    "print(today)"
   ]
  },
  {
   "cell_type": "code",
   "execution_count": null,
   "metadata": {
    "tags": []
   },
   "outputs": [],
   "source": [
    "## caching check \n",
    "try:\n",
    "    user_breakdown_df = pd.read_csv(cwd+'/cached_data/nh_user_breakdown.csv')\n",
    "    print(user_breakdown_df)\n",
    "    cache_flag = True\n",
    "except:\n",
    "    cache_flag = False"
   ]
  },
  {
   "cell_type": "code",
   "execution_count": null,
   "metadata": {
    "tags": []
   },
   "outputs": [],
   "source": [
    "## determine starting year\n",
    "#if cache_flag == False:\n",
    "start_year_base = 1999 #2000\n",
    "#else:\n",
    "#     print('check the saved file')\n",
    "#    start_year_base = int(user_breakdown_df['year_month'].to_list()[-1][:4])\n",
    "    \n",
    "    "
   ]
  },
  {
   "cell_type": "code",
   "execution_count": null,
   "metadata": {
    "tags": []
   },
   "outputs": [],
   "source": [
    "#print(user_breakdown_df['year_month'].to_list()[-1][:4])"
   ]
  },
  {
   "cell_type": "code",
   "execution_count": null,
   "metadata": {
    "tags": []
   },
   "outputs": [],
   "source": [
    "from copy import deepcopy"
   ]
  },
  {
   "cell_type": "code",
   "execution_count": null,
   "metadata": {
    "tags": []
   },
   "outputs": [],
   "source": [
    "all_months_list = list()\n",
    "for this_year in range(start_year_base+1,today.year+2):\n",
    "    if cache_flag == True:\n",
    "        for this_month in range(1,today.month+1):\n",
    "            all_months_list.append(datetime.datetime(this_year, this_month, 1))\n",
    "    else:\n",
    "        for this_month in range(1,12+1):\n",
    "            all_months_list.append(datetime.datetime(this_year, this_month, 1))\n",
    "\n",
    "cache_all_month_list = pd.DataFrame()\n",
    "cache_all_month_list['Date'] = all_months_list\n",
    "cache_all_month_list.to_csv(cwd+'/cached_data/all_months_list.csv')\n",
    "cache_all_month_list.to_csv(cwd+'/cached_data/'+ str(start_year_base)+'_all_months_list.csv')\n",
    "cache_all_month_list = []\n",
    "print('allmonths partial list',all_months_list[0:36])\n"
   ]
  },
  {
   "cell_type": "code",
   "execution_count": null,
   "metadata": {
    "tags": []
   },
   "outputs": [],
   "source": [
    "print(self_identified_usernames[0:50])\n",
    "#print('str(tuple(self_identified_usernames))',str(tuple(self_identified_usernames)))\n",
    "print(self_study_usernames[0:50])\n",
    "print(allusers_usernames[0:50])\n"
   ]
  },
  {
   "cell_type": "code",
   "execution_count": 40,
   "metadata": {
    "execution": {
     "iopub.execute_input": "2022-02-21T21:31:25.965626Z",
     "iopub.status.busy": "2022-02-21T21:31:25.965006Z",
     "iopub.status.idle": "2022-02-21T21:37:28.020346Z",
     "shell.execute_reply": "2022-02-21T21:37:28.018477Z",
     "shell.execute_reply.started": "2022-02-21T21:31:25.965582Z"
    },
    "tags": []
   },
   "outputs": [
    {
     "name": "stdout",
     "output_type": "stream",
     "text": [
      "start year: 2000\n",
      "date'1999-01-01'total = 0 self2_users = 0 researcher_users = 0 self_identified_users = 0\n",
      "simtotal_track= [0]\n",
      "self2_track = [0]\n",
      "researcher_track [0]\n",
      "date'1999-02-01'total = 0 self2_users = 0 researcher_users = 0 self_identified_users = 0\n",
      "simtotal_track= [0, 0]\n",
      "self2_track = [0, 0]\n",
      "researcher_track [0, 0]\n",
      "date'1999-03-01'total = 133 self2_users = 45 researcher_users = 8 self_identified_users = 0\n",
      "simtotal_track= [0, 0, 133]\n",
      "self2_track = [0, 0, 45]\n",
      "researcher_track [0, 0, 8]\n",
      "date'1999-04-01'total = 199 self2_users = 55 researcher_users = 11 self_identified_users = 0\n",
      "simtotal_track= [0, 0, 133, 199]\n",
      "self2_track = [0, 0, 45, 55]\n",
      "researcher_track [0, 0, 8, 11]\n",
      "date'1999-05-01'total = 244 self2_users = 68 researcher_users = 13 self_identified_users = 0\n",
      "simtotal_track= [0, 0, 133, 199, 244]\n",
      "self2_track = [0, 0, 45, 55, 68]\n",
      "researcher_track [0, 0, 8, 11, 13]\n",
      "date'1999-06-01'total = 263 self2_users = 74 researcher_users = 14 self_identified_users = 0\n",
      "simtotal_track= [0, 0, 133, 199, 244, 263]\n",
      "self2_track = [0, 0, 45, 55, 68, 74]\n",
      "researcher_track [0, 0, 8, 11, 13, 14]\n",
      "date'1999-07-01'total = 275 self2_users = 76 researcher_users = 15 self_identified_users = 0\n",
      "simtotal_track= [0, 0, 133, 199, 244, 263, 275]\n",
      "self2_track = [0, 0, 45, 55, 68, 74, 76]\n",
      "researcher_track [0, 0, 8, 11, 13, 14, 15]\n",
      "date'1999-08-01'total = 293 self2_users = 92 researcher_users = 17 self_identified_users = 0\n",
      "simtotal_track= [0, 0, 133, 199, 244, 263, 275, 293]\n",
      "self2_track = [0, 0, 45, 55, 68, 74, 76, 92]\n",
      "researcher_track [0, 0, 8, 11, 13, 14, 15, 17]\n",
      "date'1999-09-01'total = 389 self2_users = 184 researcher_users = 21 self_identified_users = 0\n",
      "simtotal_track= [0, 0, 133, 199, 244, 263, 275, 293, 389]\n",
      "self2_track = [0, 0, 45, 55, 68, 74, 76, 92, 184]\n",
      "researcher_track [0, 0, 8, 11, 13, 14, 15, 17, 21]\n",
      "date'1999-10-01'total = 443 self2_users = 235 researcher_users = 24 self_identified_users = 0\n",
      "simtotal_track= [0, 0, 133, 199, 244, 263, 275, 293, 389, 443]\n",
      "self2_track = [0, 0, 45, 55, 68, 74, 76, 92, 184, 235]\n",
      "researcher_track [0, 0, 8, 11, 13, 14, 15, 17, 21, 24]\n",
      "date'1999-11-01'total = 501 self2_users = 293 researcher_users = 24 self_identified_users = 0\n",
      "simtotal_track= [0, 0, 133, 199, 244, 263, 275, 293, 389, 443, 501]\n",
      "self2_track = [0, 0, 45, 55, 68, 74, 76, 92, 184, 235, 293]\n",
      "researcher_track [0, 0, 8, 11, 13, 14, 15, 17, 21, 24, 24]\n",
      "date'1999-12-01'total = 554 self2_users = 343 researcher_users = 25 self_identified_users = 0\n",
      "simtotal_track= [0, 0, 133, 199, 244, 263, 275, 293, 389, 443, 501, 554]\n",
      "self2_track = [0, 0, 45, 55, 68, 74, 76, 92, 184, 235, 293, 343]\n",
      "researcher_track [0, 0, 8, 11, 13, 14, 15, 17, 21, 24, 24, 25]\n",
      "start year: 2000\n",
      "start year: 2001\n",
      "date'2000-01-01'total = 588 self2_users = 372 researcher_users = 27 self_identified_users = 0\n",
      "simtotal_track= [0, 0, 133, 199, 244, 263, 275, 293, 389, 443, 501, 554, 588]\n",
      "self2_track = [0, 0, 45, 55, 68, 74, 76, 92, 184, 235, 293, 343, 372]\n",
      "researcher_track [0, 0, 8, 11, 13, 14, 15, 17, 21, 24, 24, 25, 27]\n",
      "date'2000-02-01'total = 797 self2_users = 571 researcher_users = 33 self_identified_users = 0\n",
      "simtotal_track= [0, 0, 133, 199, 244, 263, 275, 293, 389, 443, 501, 554, 588, 797]\n",
      "self2_track = [0, 0, 45, 55, 68, 74, 76, 92, 184, 235, 293, 343, 372, 571]\n",
      "researcher_track [0, 0, 8, 11, 13, 14, 15, 17, 21, 24, 24, 25, 27, 33]\n",
      "date'2000-03-01'total = 920 self2_users = 707 researcher_users = 35 self_identified_users = 0\n",
      "simtotal_track= [0, 0, 133, 199, 244, 263, 275, 293, 389, 443, 501, 554, 588, 797, 920]\n",
      "self2_track = [0, 0, 45, 55, 68, 74, 76, 92, 184, 235, 293, 343, 372, 571, 707]\n",
      "researcher_track [0, 0, 8, 11, 13, 14, 15, 17, 21, 24, 24, 25, 27, 33, 35]\n",
      "date'2000-04-01'total = 927 self2_users = 731 researcher_users = 36 self_identified_users = 0\n",
      "simtotal_track= [0, 0, 133, 199, 244, 263, 275, 293, 389, 443, 501, 554, 588, 797, 920, 927]\n",
      "self2_track = [0, 0, 45, 55, 68, 74, 76, 92, 184, 235, 293, 343, 372, 571, 707, 731]\n",
      "researcher_track [0, 0, 8, 11, 13, 14, 15, 17, 21, 24, 24, 25, 27, 33, 35, 36]\n",
      "date'2000-05-01'total = 860 self2_users = 756 researcher_users = 39 self_identified_users = 0\n",
      "simtotal_track= [0, 0, 133, 199, 244, 263, 275, 293, 389, 443, 501, 554, 588, 797, 920, 927, 860]\n",
      "self2_track = [0, 0, 45, 55, 68, 74, 76, 92, 184, 235, 293, 343, 372, 571, 707, 731, 756]\n",
      "researcher_track [0, 0, 8, 11, 13, 14, 15, 17, 21, 24, 24, 25, 27, 33, 35, 36, 39]\n",
      "date'2000-06-01'total = 846 self2_users = 764 researcher_users = 39 self_identified_users = 0\n",
      "simtotal_track= [0, 0, 133, 199, 244, 263, 275, 293, 389, 443, 501, 554, 588, 797, 920, 927, 860, 846]\n",
      "self2_track = [0, 0, 45, 55, 68, 74, 76, 92, 184, 235, 293, 343, 372, 571, 707, 731, 756, 764]\n",
      "researcher_track [0, 0, 8, 11, 13, 14, 15, 17, 21, 24, 24, 25, 27, 33, 35, 36, 39, 39]\n",
      "date'2000-07-01'total = 844 self2_users = 774 researcher_users = 36 self_identified_users = 0\n",
      "simtotal_track= [0, 0, 133, 199, 244, 263, 275, 293, 389, 443, 501, 554, 588, 797, 920, 927, 860, 846, 844]\n",
      "self2_track = [0, 0, 45, 55, 68, 74, 76, 92, 184, 235, 293, 343, 372, 571, 707, 731, 756, 764, 774]\n",
      "researcher_track [0, 0, 8, 11, 13, 14, 15, 17, 21, 24, 24, 25, 27, 33, 35, 36, 39, 39, 36]\n",
      "date'2000-08-01'total = 832 self2_users = 765 researcher_users = 35 self_identified_users = 0\n",
      "simtotal_track= [0, 0, 133, 199, 244, 263, 275, 293, 389, 443, 501, 554, 588, 797, 920, 927, 860, 846, 844, 832]\n",
      "self2_track = [0, 0, 45, 55, 68, 74, 76, 92, 184, 235, 293, 343, 372, 571, 707, 731, 756, 764, 774, 765]\n",
      "researcher_track [0, 0, 8, 11, 13, 14, 15, 17, 21, 24, 24, 25, 27, 33, 35, 36, 39, 39, 36, 35]\n",
      "date'2000-09-01'total = 833 self2_users = 765 researcher_users = 37 self_identified_users = 0\n",
      "simtotal_track= [0, 0, 133, 199, 244, 263, 275, 293, 389, 443, 501, 554, 588, 797, 920, 927, 860, 846, 844, 832, 833]\n",
      "self2_track = [0, 0, 45, 55, 68, 74, 76, 92, 184, 235, 293, 343, 372, 571, 707, 731, 756, 764, 774, 765, 765]\n",
      "researcher_track [0, 0, 8, 11, 13, 14, 15, 17, 21, 24, 24, 25, 27, 33, 35, 36, 39, 39, 36, 35, 37]\n",
      "date'2000-10-01'total = 841 self2_users = 771 researcher_users = 37 self_identified_users = 0\n",
      "simtotal_track= [0, 0, 133, 199, 244, 263, 275, 293, 389, 443, 501, 554, 588, 797, 920, 927, 860, 846, 844, 832, 833, 841]\n",
      "self2_track = [0, 0, 45, 55, 68, 74, 76, 92, 184, 235, 293, 343, 372, 571, 707, 731, 756, 764, 774, 765, 765, 771]\n",
      "researcher_track [0, 0, 8, 11, 13, 14, 15, 17, 21, 24, 24, 25, 27, 33, 35, 36, 39, 39, 36, 35, 37, 37]\n",
      "date'2000-11-01'total = 800 self2_users = 730 researcher_users = 39 self_identified_users = 0\n",
      "simtotal_track= [0, 0, 133, 199, 244, 263, 275, 293, 389, 443, 501, 554, 588, 797, 920, 927, 860, 846, 844, 832, 833, 841, 800]\n",
      "self2_track = [0, 0, 45, 55, 68, 74, 76, 92, 184, 235, 293, 343, 372, 571, 707, 731, 756, 764, 774, 765, 765, 771, 730]\n",
      "researcher_track [0, 0, 8, 11, 13, 14, 15, 17, 21, 24, 24, 25, 27, 33, 35, 36, 39, 39, 36, 35, 37, 37, 39]\n",
      "date'2000-12-01'total = 762 self2_users = 696 researcher_users = 40 self_identified_users = 0\n",
      "simtotal_track= [0, 0, 133, 199, 244, 263, 275, 293, 389, 443, 501, 554, 588, 797, 920, 927, 860, 846, 844, 832, 833, 841, 800, 762]\n",
      "self2_track = [0, 0, 45, 55, 68, 74, 76, 92, 184, 235, 293, 343, 372, 571, 707, 731, 756, 764, 774, 765, 765, 771, 730, 696]\n",
      "researcher_track [0, 0, 8, 11, 13, 14, 15, 17, 21, 24, 24, 25, 27, 33, 35, 36, 39, 39, 36, 35, 37, 37, 39, 40]\n",
      "start year: 2001\n",
      "start year: 2002\n",
      "date'2001-01-01'total = 700 self2_users = 640 researcher_users = 39 self_identified_users = 0\n",
      "simtotal_track= [0, 0, 133, 199, 244, 263, 275, 293, 389, 443, 501, 554, 588, 797, 920, 927, 860, 846, 844, 832, 833, 841, 800, 762, 700]\n",
      "self2_track = [0, 0, 45, 55, 68, 74, 76, 92, 184, 235, 293, 343, 372, 571, 707, 731, 756, 764, 774, 765, 765, 771, 730, 696, 640]\n",
      "researcher_track [0, 0, 8, 11, 13, 14, 15, 17, 21, 24, 24, 25, 27, 33, 35, 36, 39, 39, 36, 35, 37, 37, 39, 40, 39]\n",
      "date'2001-02-01'total = 678 self2_users = 622 researcher_users = 37 self_identified_users = 0\n",
      "simtotal_track= [0, 0, 133, 199, 244, 263, 275, 293, 389, 443, 501, 554, 588, 797, 920, 927, 860, 846, 844, 832, 833, 841, 800, 762, 700, 678]\n",
      "self2_track = [0, 0, 45, 55, 68, 74, 76, 92, 184, 235, 293, 343, 372, 571, 707, 731, 756, 764, 774, 765, 765, 771, 730, 696, 640, 622]\n",
      "researcher_track [0, 0, 8, 11, 13, 14, 15, 17, 21, 24, 24, 25, 27, 33, 35, 36, 39, 39, 36, 35, 37, 37, 39, 40, 39, 37]\n",
      "date'2001-03-01'total = 676 self2_users = 622 researcher_users = 35 self_identified_users = 0\n",
      "simtotal_track= [0, 0, 133, 199, 244, 263, 275, 293, 389, 443, 501, 554, 588, 797, 920, 927, 860, 846, 844, 832, 833, 841, 800, 762, 700, 678, 676]\n",
      "self2_track = [0, 0, 45, 55, 68, 74, 76, 92, 184, 235, 293, 343, 372, 571, 707, 731, 756, 764, 774, 765, 765, 771, 730, 696, 640, 622, 622]\n",
      "researcher_track [0, 0, 8, 11, 13, 14, 15, 17, 21, 24, 24, 25, 27, 33, 35, 36, 39, 39, 36, 35, 37, 37, 39, 40, 39, 37, 35]\n",
      "date'2001-04-01'total = 660 self2_users = 608 researcher_users = 34 self_identified_users = 0\n",
      "simtotal_track= [0, 0, 133, 199, 244, 263, 275, 293, 389, 443, 501, 554, 588, 797, 920, 927, 860, 846, 844, 832, 833, 841, 800, 762, 700, 678, 676, 660]\n",
      "self2_track = [0, 0, 45, 55, 68, 74, 76, 92, 184, 235, 293, 343, 372, 571, 707, 731, 756, 764, 774, 765, 765, 771, 730, 696, 640, 622, 622, 608]\n",
      "researcher_track [0, 0, 8, 11, 13, 14, 15, 17, 21, 24, 24, 25, 27, 33, 35, 36, 39, 39, 36, 35, 37, 37, 39, 40, 39, 37, 35, 34]\n",
      "date'2001-05-01'total = 405 self2_users = 359 researcher_users = 31 self_identified_users = 0\n",
      "simtotal_track= [0, 0, 133, 199, 244, 263, 275, 293, 389, 443, 501, 554, 588, 797, 920, 927, 860, 846, 844, 832, 833, 841, 800, 762, 700, 678, 676, 660, 405]\n",
      "self2_track = [0, 0, 45, 55, 68, 74, 76, 92, 184, 235, 293, 343, 372, 571, 707, 731, 756, 764, 774, 765, 765, 771, 730, 696, 640, 622, 622, 608, 359]\n",
      "researcher_track [0, 0, 8, 11, 13, 14, 15, 17, 21, 24, 24, 25, 27, 33, 35, 36, 39, 39, 36, 35, 37, 37, 39, 40, 39, 37, 35, 34, 31]\n",
      "date'2001-06-01'total = 428 self2_users = 347 researcher_users = 37 self_identified_users = 0\n",
      "simtotal_track= [0, 0, 133, 199, 244, 263, 275, 293, 389, 443, 501, 554, 588, 797, 920, 927, 860, 846, 844, 832, 833, 841, 800, 762, 700, 678, 676, 660, 405, 428]\n",
      "self2_track = [0, 0, 45, 55, 68, 74, 76, 92, 184, 235, 293, 343, 372, 571, 707, 731, 756, 764, 774, 765, 765, 771, 730, 696, 640, 622, 622, 608, 359, 347]\n",
      "researcher_track [0, 0, 8, 11, 13, 14, 15, 17, 21, 24, 24, 25, 27, 33, 35, 36, 39, 39, 36, 35, 37, 37, 39, 40, 39, 37, 35, 34, 31, 37]\n",
      "date'2001-07-01'total = 434 self2_users = 352 researcher_users = 38 self_identified_users = 0\n",
      "simtotal_track= [0, 0, 133, 199, 244, 263, 275, 293, 389, 443, 501, 554, 588, 797, 920, 927, 860, 846, 844, 832, 833, 841, 800, 762, 700, 678, 676, 660, 405, 428, 434]\n",
      "self2_track = [0, 0, 45, 55, 68, 74, 76, 92, 184, 235, 293, 343, 372, 571, 707, 731, 756, 764, 774, 765, 765, 771, 730, 696, 640, 622, 622, 608, 359, 347, 352]\n",
      "researcher_track [0, 0, 8, 11, 13, 14, 15, 17, 21, 24, 24, 25, 27, 33, 35, 36, 39, 39, 36, 35, 37, 37, 39, 40, 39, 37, 35, 34, 31, 37, 38]\n",
      "date'2001-08-01'total = 443 self2_users = 361 researcher_users = 38 self_identified_users = 0\n",
      "simtotal_track= [0, 0, 133, 199, 244, 263, 275, 293, 389, 443, 501, 554, 588, 797, 920, 927, 860, 846, 844, 832, 833, 841, 800, 762, 700, 678, 676, 660, 405, 428, 434, 443]\n",
      "self2_track = [0, 0, 45, 55, 68, 74, 76, 92, 184, 235, 293, 343, 372, 571, 707, 731, 756, 764, 774, 765, 765, 771, 730, 696, 640, 622, 622, 608, 359, 347, 352, 361]\n",
      "researcher_track [0, 0, 8, 11, 13, 14, 15, 17, 21, 24, 24, 25, 27, 33, 35, 36, 39, 39, 36, 35, 37, 37, 39, 40, 39, 37, 35, 34, 31, 37, 38, 38]\n",
      "date'2001-09-01'total = 483 self2_users = 400 researcher_users = 39 self_identified_users = 0\n",
      "simtotal_track= [0, 0, 133, 199, 244, 263, 275, 293, 389, 443, 501, 554, 588, 797, 920, 927, 860, 846, 844, 832, 833, 841, 800, 762, 700, 678, 676, 660, 405, 428, 434, 443, 483]\n",
      "self2_track = [0, 0, 45, 55, 68, 74, 76, 92, 184, 235, 293, 343, 372, 571, 707, 731, 756, 764, 774, 765, 765, 771, 730, 696, 640, 622, 622, 608, 359, 347, 352, 361, 400]\n",
      "researcher_track [0, 0, 8, 11, 13, 14, 15, 17, 21, 24, 24, 25, 27, 33, 35, 36, 39, 39, 36, 35, 37, 37, 39, 40, 39, 37, 35, 34, 31, 37, 38, 38, 39]\n",
      "date'2001-10-01'total = 524 self2_users = 438 researcher_users = 43 self_identified_users = 0\n",
      "simtotal_track= [0, 0, 133, 199, 244, 263, 275, 293, 389, 443, 501, 554, 588, 797, 920, 927, 860, 846, 844, 832, 833, 841, 800, 762, 700, 678, 676, 660, 405, 428, 434, 443, 483, 524]\n",
      "self2_track = [0, 0, 45, 55, 68, 74, 76, 92, 184, 235, 293, 343, 372, 571, 707, 731, 756, 764, 774, 765, 765, 771, 730, 696, 640, 622, 622, 608, 359, 347, 352, 361, 400, 438]\n",
      "researcher_track [0, 0, 8, 11, 13, 14, 15, 17, 21, 24, 24, 25, 27, 33, 35, 36, 39, 39, 36, 35, 37, 37, 39, 40, 39, 37, 35, 34, 31, 37, 38, 38, 39, 43]\n"
     ]
    },
    {
     "ename": "KeyboardInterrupt",
     "evalue": "",
     "output_type": "error",
     "traceback": [
      "\u001b[0;31m---------------------------------------------------------------------------\u001b[0m",
      "\u001b[0;31mKeyboardInterrupt\u001b[0m                         Traceback (most recent call last)",
      "Input \u001b[0;32mIn [40]\u001b[0m, in \u001b[0;36m<module>\u001b[0;34m\u001b[0m\n\u001b[1;32m     43\u001b[0m \u001b[38;5;66;03m#print('start date',start_date)\u001b[39;00m\n\u001b[1;32m     44\u001b[0m \u001b[38;5;66;03m#display(researcher_track)\u001b[39;00m\n\u001b[1;32m     47\u001b[0m sql_query_self \u001b[38;5;241m=\u001b[39m \u001b[38;5;124m\"\u001b[39m\u001b[38;5;124mselect user from toolstart where user in \u001b[39m\u001b[38;5;124m\"\u001b[39m \u001b[38;5;241m+\u001b[39m \u001b[38;5;28mstr\u001b[39m(\u001b[38;5;28mtuple\u001b[39m(self_study_usernames))\\\n\u001b[1;32m     48\u001b[0m     \u001b[38;5;241m+\u001b[39m\u001b[38;5;124m\"\u001b[39m\u001b[38;5;124m and user != \u001b[39m\u001b[38;5;124m'\u001b[39m\u001b[38;5;124minstanton\u001b[39m\u001b[38;5;124m'\u001b[39m\u001b[38;5;124m and user != \u001b[39m\u001b[38;5;124m'\u001b[39m\u001b[38;5;124mgridstat\u001b[39m\u001b[38;5;124m'\u001b[39m\u001b[38;5;124m and datetime <= \u001b[39m\u001b[38;5;124m\"\u001b[39m\u001b[38;5;241m+\u001b[39mend_date\u001b[38;5;241m+\u001b[39m\u001b[38;5;124m\"\u001b[39m\u001b[38;5;124m and datetime >= \u001b[39m\u001b[38;5;124m\"\u001b[39m\u001b[38;5;241m+\u001b[39mstart_date\n\u001b[0;32m---> 49\u001b[0m self2_users \u001b[38;5;241m=\u001b[39m \u001b[43mpd\u001b[49m\u001b[38;5;241;43m.\u001b[39;49m\u001b[43mread_sql_query\u001b[49m\u001b[43m(\u001b[49m\u001b[43msql_query_self\u001b[49m\u001b[43m,\u001b[49m\u001b[43m \u001b[49m\u001b[43mnanohub_metrics_db\u001b[49m\u001b[43m)\u001b[49m \u001b[38;5;66;03m#engine_metrics #.drop_duplicates()\u001b[39;00m\n\u001b[1;32m     50\u001b[0m \u001b[38;5;66;03m#print('date'+str(start_date)+ 'self2_users partial',self2_users.drop_duplicates()[0:10])\u001b[39;00m\n\u001b[1;32m     51\u001b[0m \u001b[38;5;66;03m#print('date'+str(start_date)+ 'self2_users =',len(self2_users.drop_duplicates()))\u001b[39;00m\n\u001b[1;32m     52\u001b[0m self2_track\u001b[38;5;241m.\u001b[39mappend(self2_users\u001b[38;5;241m.\u001b[39mdrop_duplicates()\u001b[38;5;241m.\u001b[39mshape[\u001b[38;5;241m0\u001b[39m])        \n",
      "File \u001b[0;32m~/venv/lib/python3.8/site-packages/pandas/io/sql.py:436\u001b[0m, in \u001b[0;36mread_sql_query\u001b[0;34m(sql, con, index_col, coerce_float, params, parse_dates, chunksize, dtype)\u001b[0m\n\u001b[1;32m    378\u001b[0m \u001b[38;5;124;03m\"\"\"\u001b[39;00m\n\u001b[1;32m    379\u001b[0m \u001b[38;5;124;03mRead SQL query into a DataFrame.\u001b[39;00m\n\u001b[1;32m    380\u001b[0m \n\u001b[0;32m   (...)\u001b[0m\n\u001b[1;32m    433\u001b[0m \u001b[38;5;124;03mparameter will be converted to UTC.\u001b[39;00m\n\u001b[1;32m    434\u001b[0m \u001b[38;5;124;03m\"\"\"\u001b[39;00m\n\u001b[1;32m    435\u001b[0m pandas_sql \u001b[38;5;241m=\u001b[39m pandasSQL_builder(con)\n\u001b[0;32m--> 436\u001b[0m \u001b[38;5;28;01mreturn\u001b[39;00m \u001b[43mpandas_sql\u001b[49m\u001b[38;5;241;43m.\u001b[39;49m\u001b[43mread_query\u001b[49m\u001b[43m(\u001b[49m\n\u001b[1;32m    437\u001b[0m \u001b[43m    \u001b[49m\u001b[43msql\u001b[49m\u001b[43m,\u001b[49m\n\u001b[1;32m    438\u001b[0m \u001b[43m    \u001b[49m\u001b[43mindex_col\u001b[49m\u001b[38;5;241;43m=\u001b[39;49m\u001b[43mindex_col\u001b[49m\u001b[43m,\u001b[49m\n\u001b[1;32m    439\u001b[0m \u001b[43m    \u001b[49m\u001b[43mparams\u001b[49m\u001b[38;5;241;43m=\u001b[39;49m\u001b[43mparams\u001b[49m\u001b[43m,\u001b[49m\n\u001b[1;32m    440\u001b[0m \u001b[43m    \u001b[49m\u001b[43mcoerce_float\u001b[49m\u001b[38;5;241;43m=\u001b[39;49m\u001b[43mcoerce_float\u001b[49m\u001b[43m,\u001b[49m\n\u001b[1;32m    441\u001b[0m \u001b[43m    \u001b[49m\u001b[43mparse_dates\u001b[49m\u001b[38;5;241;43m=\u001b[39;49m\u001b[43mparse_dates\u001b[49m\u001b[43m,\u001b[49m\n\u001b[1;32m    442\u001b[0m \u001b[43m    \u001b[49m\u001b[43mchunksize\u001b[49m\u001b[38;5;241;43m=\u001b[39;49m\u001b[43mchunksize\u001b[49m\u001b[43m,\u001b[49m\n\u001b[1;32m    443\u001b[0m \u001b[43m    \u001b[49m\u001b[43mdtype\u001b[49m\u001b[38;5;241;43m=\u001b[39;49m\u001b[43mdtype\u001b[49m\u001b[43m,\u001b[49m\n\u001b[1;32m    444\u001b[0m \u001b[43m\u001b[49m\u001b[43m)\u001b[49m\n",
      "File \u001b[0;32m~/venv/lib/python3.8/site-packages/pandas/io/sql.py:1579\u001b[0m, in \u001b[0;36mSQLDatabase.read_query\u001b[0;34m(self, sql, index_col, coerce_float, parse_dates, params, chunksize, dtype)\u001b[0m\n\u001b[1;32m   1531\u001b[0m \u001b[38;5;124;03m\"\"\"\u001b[39;00m\n\u001b[1;32m   1532\u001b[0m \u001b[38;5;124;03mRead SQL query into a DataFrame.\u001b[39;00m\n\u001b[1;32m   1533\u001b[0m \n\u001b[0;32m   (...)\u001b[0m\n\u001b[1;32m   1575\u001b[0m \n\u001b[1;32m   1576\u001b[0m \u001b[38;5;124;03m\"\"\"\u001b[39;00m\n\u001b[1;32m   1577\u001b[0m args \u001b[38;5;241m=\u001b[39m _convert_params(sql, params)\n\u001b[0;32m-> 1579\u001b[0m result \u001b[38;5;241m=\u001b[39m \u001b[38;5;28;43mself\u001b[39;49m\u001b[38;5;241;43m.\u001b[39;49m\u001b[43mexecute\u001b[49m\u001b[43m(\u001b[49m\u001b[38;5;241;43m*\u001b[39;49m\u001b[43margs\u001b[49m\u001b[43m)\u001b[49m\n\u001b[1;32m   1580\u001b[0m columns \u001b[38;5;241m=\u001b[39m result\u001b[38;5;241m.\u001b[39mkeys()\n\u001b[1;32m   1582\u001b[0m \u001b[38;5;28;01mif\u001b[39;00m chunksize \u001b[38;5;129;01mis\u001b[39;00m \u001b[38;5;129;01mnot\u001b[39;00m \u001b[38;5;28;01mNone\u001b[39;00m:\n",
      "File \u001b[0;32m~/venv/lib/python3.8/site-packages/pandas/io/sql.py:1424\u001b[0m, in \u001b[0;36mSQLDatabase.execute\u001b[0;34m(self, *args, **kwargs)\u001b[0m\n\u001b[1;32m   1422\u001b[0m \u001b[38;5;28;01mdef\u001b[39;00m \u001b[38;5;21mexecute\u001b[39m(\u001b[38;5;28mself\u001b[39m, \u001b[38;5;241m*\u001b[39margs, \u001b[38;5;241m*\u001b[39m\u001b[38;5;241m*\u001b[39mkwargs):\n\u001b[1;32m   1423\u001b[0m     \u001b[38;5;124;03m\"\"\"Simple passthrough to SQLAlchemy connectable\"\"\"\u001b[39;00m\n\u001b[0;32m-> 1424\u001b[0m     \u001b[38;5;28;01mreturn\u001b[39;00m \u001b[38;5;28;43mself\u001b[39;49m\u001b[38;5;241;43m.\u001b[39;49m\u001b[43mconnectable\u001b[49m\u001b[38;5;241;43m.\u001b[39;49m\u001b[43mexecution_options\u001b[49m\u001b[43m(\u001b[49m\u001b[43m)\u001b[49m\u001b[38;5;241;43m.\u001b[39;49m\u001b[43mexecute\u001b[49m\u001b[43m(\u001b[49m\u001b[38;5;241;43m*\u001b[39;49m\u001b[43margs\u001b[49m\u001b[43m,\u001b[49m\u001b[43m \u001b[49m\u001b[38;5;241;43m*\u001b[39;49m\u001b[38;5;241;43m*\u001b[39;49m\u001b[43mkwargs\u001b[49m\u001b[43m)\u001b[49m\n",
      "File \u001b[0;32m<string>:2\u001b[0m, in \u001b[0;36mexecute\u001b[0;34m(self, statement, *multiparams, **params)\u001b[0m\n",
      "File \u001b[0;32m~/venv/lib/python3.8/site-packages/sqlalchemy/util/deprecations.py:401\u001b[0m, in \u001b[0;36m_decorate_with_warning.<locals>.warned\u001b[0;34m(fn, *args, **kwargs)\u001b[0m\n\u001b[1;32m    399\u001b[0m \u001b[38;5;28;01mif\u001b[39;00m \u001b[38;5;129;01mnot\u001b[39;00m skip_warning:\n\u001b[1;32m    400\u001b[0m     _warn_with_version(message, version, wtype, stacklevel\u001b[38;5;241m=\u001b[39m\u001b[38;5;241m3\u001b[39m)\n\u001b[0;32m--> 401\u001b[0m \u001b[38;5;28;01mreturn\u001b[39;00m \u001b[43mfn\u001b[49m\u001b[43m(\u001b[49m\u001b[38;5;241;43m*\u001b[39;49m\u001b[43margs\u001b[49m\u001b[43m,\u001b[49m\u001b[43m \u001b[49m\u001b[38;5;241;43m*\u001b[39;49m\u001b[38;5;241;43m*\u001b[39;49m\u001b[43mkwargs\u001b[49m\u001b[43m)\u001b[49m\n",
      "File \u001b[0;32m~/venv/lib/python3.8/site-packages/sqlalchemy/engine/base.py:3146\u001b[0m, in \u001b[0;36mEngine.execute\u001b[0;34m(self, statement, *multiparams, **params)\u001b[0m\n\u001b[1;32m   3128\u001b[0m \u001b[38;5;124;03m\"\"\"Executes the given construct and returns a\u001b[39;00m\n\u001b[1;32m   3129\u001b[0m \u001b[38;5;124;03m:class:`_engine.CursorResult`.\u001b[39;00m\n\u001b[1;32m   3130\u001b[0m \n\u001b[0;32m   (...)\u001b[0m\n\u001b[1;32m   3143\u001b[0m \n\u001b[1;32m   3144\u001b[0m \u001b[38;5;124;03m\"\"\"\u001b[39;00m\n\u001b[1;32m   3145\u001b[0m connection \u001b[38;5;241m=\u001b[39m \u001b[38;5;28mself\u001b[39m\u001b[38;5;241m.\u001b[39mconnect(close_with_result\u001b[38;5;241m=\u001b[39m\u001b[38;5;28;01mTrue\u001b[39;00m)\n\u001b[0;32m-> 3146\u001b[0m \u001b[38;5;28;01mreturn\u001b[39;00m \u001b[43mconnection\u001b[49m\u001b[38;5;241;43m.\u001b[39;49m\u001b[43mexecute\u001b[49m\u001b[43m(\u001b[49m\u001b[43mstatement\u001b[49m\u001b[43m,\u001b[49m\u001b[43m \u001b[49m\u001b[38;5;241;43m*\u001b[39;49m\u001b[43mmultiparams\u001b[49m\u001b[43m,\u001b[49m\u001b[43m \u001b[49m\u001b[38;5;241;43m*\u001b[39;49m\u001b[38;5;241;43m*\u001b[39;49m\u001b[43mparams\u001b[49m\u001b[43m)\u001b[49m\n",
      "File \u001b[0;32m~/venv/lib/python3.8/site-packages/sqlalchemy/engine/base.py:1274\u001b[0m, in \u001b[0;36mConnection.execute\u001b[0;34m(self, statement, *multiparams, **params)\u001b[0m\n\u001b[1;32m   1265\u001b[0m \u001b[38;5;28;01mif\u001b[39;00m \u001b[38;5;28misinstance\u001b[39m(statement, util\u001b[38;5;241m.\u001b[39mstring_types):\n\u001b[1;32m   1266\u001b[0m     util\u001b[38;5;241m.\u001b[39mwarn_deprecated_20(\n\u001b[1;32m   1267\u001b[0m         \u001b[38;5;124m\"\u001b[39m\u001b[38;5;124mPassing a string to Connection.execute() is \u001b[39m\u001b[38;5;124m\"\u001b[39m\n\u001b[1;32m   1268\u001b[0m         \u001b[38;5;124m\"\u001b[39m\u001b[38;5;124mdeprecated and will be removed in version 2.0.  Use the \u001b[39m\u001b[38;5;124m\"\u001b[39m\n\u001b[0;32m   (...)\u001b[0m\n\u001b[1;32m   1271\u001b[0m         \u001b[38;5;124m\"\u001b[39m\u001b[38;5;124mdriver-level SQL string.\u001b[39m\u001b[38;5;124m\"\u001b[39m\n\u001b[1;32m   1272\u001b[0m     )\n\u001b[0;32m-> 1274\u001b[0m     \u001b[38;5;28;01mreturn\u001b[39;00m \u001b[38;5;28;43mself\u001b[39;49m\u001b[38;5;241;43m.\u001b[39;49m\u001b[43m_exec_driver_sql\u001b[49m\u001b[43m(\u001b[49m\n\u001b[1;32m   1275\u001b[0m \u001b[43m        \u001b[49m\u001b[43mstatement\u001b[49m\u001b[43m,\u001b[49m\n\u001b[1;32m   1276\u001b[0m \u001b[43m        \u001b[49m\u001b[43mmultiparams\u001b[49m\u001b[43m,\u001b[49m\n\u001b[1;32m   1277\u001b[0m \u001b[43m        \u001b[49m\u001b[43mparams\u001b[49m\u001b[43m,\u001b[49m\n\u001b[1;32m   1278\u001b[0m \u001b[43m        \u001b[49m\u001b[43m_EMPTY_EXECUTION_OPTS\u001b[49m\u001b[43m,\u001b[49m\n\u001b[1;32m   1279\u001b[0m \u001b[43m        \u001b[49m\u001b[43mfuture\u001b[49m\u001b[38;5;241;43m=\u001b[39;49m\u001b[38;5;28;43;01mFalse\u001b[39;49;00m\u001b[43m,\u001b[49m\n\u001b[1;32m   1280\u001b[0m \u001b[43m    \u001b[49m\u001b[43m)\u001b[49m\n\u001b[1;32m   1282\u001b[0m \u001b[38;5;28;01mtry\u001b[39;00m:\n\u001b[1;32m   1283\u001b[0m     meth \u001b[38;5;241m=\u001b[39m statement\u001b[38;5;241m.\u001b[39m_execute_on_connection\n",
      "File \u001b[0;32m~/venv/lib/python3.8/site-packages/sqlalchemy/engine/base.py:1578\u001b[0m, in \u001b[0;36mConnection._exec_driver_sql\u001b[0;34m(self, statement, multiparams, params, execution_options, future)\u001b[0m\n\u001b[1;32m   1568\u001b[0m         (\n\u001b[1;32m   1569\u001b[0m             statement,\n\u001b[1;32m   1570\u001b[0m             distilled_params,\n\u001b[0;32m   (...)\u001b[0m\n\u001b[1;32m   1574\u001b[0m             statement, distilled_parameters, execution_options\n\u001b[1;32m   1575\u001b[0m         )\n\u001b[1;32m   1577\u001b[0m dialect \u001b[38;5;241m=\u001b[39m \u001b[38;5;28mself\u001b[39m\u001b[38;5;241m.\u001b[39mdialect\n\u001b[0;32m-> 1578\u001b[0m ret \u001b[38;5;241m=\u001b[39m \u001b[38;5;28;43mself\u001b[39;49m\u001b[38;5;241;43m.\u001b[39;49m\u001b[43m_execute_context\u001b[49m\u001b[43m(\u001b[49m\n\u001b[1;32m   1579\u001b[0m \u001b[43m    \u001b[49m\u001b[43mdialect\u001b[49m\u001b[43m,\u001b[49m\n\u001b[1;32m   1580\u001b[0m \u001b[43m    \u001b[49m\u001b[43mdialect\u001b[49m\u001b[38;5;241;43m.\u001b[39;49m\u001b[43mexecution_ctx_cls\u001b[49m\u001b[38;5;241;43m.\u001b[39;49m\u001b[43m_init_statement\u001b[49m\u001b[43m,\u001b[49m\n\u001b[1;32m   1581\u001b[0m \u001b[43m    \u001b[49m\u001b[43mstatement\u001b[49m\u001b[43m,\u001b[49m\n\u001b[1;32m   1582\u001b[0m \u001b[43m    \u001b[49m\u001b[43mdistilled_parameters\u001b[49m\u001b[43m,\u001b[49m\n\u001b[1;32m   1583\u001b[0m \u001b[43m    \u001b[49m\u001b[43mexecution_options\u001b[49m\u001b[43m,\u001b[49m\n\u001b[1;32m   1584\u001b[0m \u001b[43m    \u001b[49m\u001b[43mstatement\u001b[49m\u001b[43m,\u001b[49m\n\u001b[1;32m   1585\u001b[0m \u001b[43m    \u001b[49m\u001b[43mdistilled_parameters\u001b[49m\u001b[43m,\u001b[49m\n\u001b[1;32m   1586\u001b[0m \u001b[43m\u001b[49m\u001b[43m)\u001b[49m\n\u001b[1;32m   1588\u001b[0m \u001b[38;5;28;01mif\u001b[39;00m \u001b[38;5;129;01mnot\u001b[39;00m future:\n\u001b[1;32m   1589\u001b[0m     \u001b[38;5;28;01mif\u001b[39;00m \u001b[38;5;28mself\u001b[39m\u001b[38;5;241m.\u001b[39m_has_events \u001b[38;5;129;01mor\u001b[39;00m \u001b[38;5;28mself\u001b[39m\u001b[38;5;241m.\u001b[39mengine\u001b[38;5;241m.\u001b[39m_has_events:\n",
      "File \u001b[0;32m~/venv/lib/python3.8/site-packages/sqlalchemy/engine/base.py:1845\u001b[0m, in \u001b[0;36mConnection._execute_context\u001b[0;34m(self, dialect, constructor, statement, parameters, execution_options, *args, **kw)\u001b[0m\n\u001b[1;32m   1842\u001b[0m             branched\u001b[38;5;241m.\u001b[39mclose()\n\u001b[1;32m   1844\u001b[0m \u001b[38;5;28;01mexcept\u001b[39;00m \u001b[38;5;167;01mBaseException\u001b[39;00m \u001b[38;5;28;01mas\u001b[39;00m e:\n\u001b[0;32m-> 1845\u001b[0m     \u001b[38;5;28;43mself\u001b[39;49m\u001b[38;5;241;43m.\u001b[39;49m\u001b[43m_handle_dbapi_exception\u001b[49m\u001b[43m(\u001b[49m\n\u001b[1;32m   1846\u001b[0m \u001b[43m        \u001b[49m\u001b[43me\u001b[49m\u001b[43m,\u001b[49m\u001b[43m \u001b[49m\u001b[43mstatement\u001b[49m\u001b[43m,\u001b[49m\u001b[43m \u001b[49m\u001b[43mparameters\u001b[49m\u001b[43m,\u001b[49m\u001b[43m \u001b[49m\u001b[43mcursor\u001b[49m\u001b[43m,\u001b[49m\u001b[43m \u001b[49m\u001b[43mcontext\u001b[49m\n\u001b[1;32m   1847\u001b[0m \u001b[43m    \u001b[49m\u001b[43m)\u001b[49m\n\u001b[1;32m   1849\u001b[0m \u001b[38;5;28;01mreturn\u001b[39;00m result\n",
      "File \u001b[0;32m~/venv/lib/python3.8/site-packages/sqlalchemy/engine/base.py:2030\u001b[0m, in \u001b[0;36mConnection._handle_dbapi_exception\u001b[0;34m(self, e, statement, parameters, cursor, context)\u001b[0m\n\u001b[1;32m   2026\u001b[0m         util\u001b[38;5;241m.\u001b[39mraise_(\n\u001b[1;32m   2027\u001b[0m             sqlalchemy_exception, with_traceback\u001b[38;5;241m=\u001b[39mexc_info[\u001b[38;5;241m2\u001b[39m], from_\u001b[38;5;241m=\u001b[39me\n\u001b[1;32m   2028\u001b[0m         )\n\u001b[1;32m   2029\u001b[0m     \u001b[38;5;28;01melse\u001b[39;00m:\n\u001b[0;32m-> 2030\u001b[0m         \u001b[43mutil\u001b[49m\u001b[38;5;241;43m.\u001b[39;49m\u001b[43mraise_\u001b[49m\u001b[43m(\u001b[49m\u001b[43mexc_info\u001b[49m\u001b[43m[\u001b[49m\u001b[38;5;241;43m1\u001b[39;49m\u001b[43m]\u001b[49m\u001b[43m,\u001b[49m\u001b[43m \u001b[49m\u001b[43mwith_traceback\u001b[49m\u001b[38;5;241;43m=\u001b[39;49m\u001b[43mexc_info\u001b[49m\u001b[43m[\u001b[49m\u001b[38;5;241;43m2\u001b[39;49m\u001b[43m]\u001b[49m\u001b[43m)\u001b[49m\n\u001b[1;32m   2032\u001b[0m \u001b[38;5;28;01mfinally\u001b[39;00m:\n\u001b[1;32m   2033\u001b[0m     \u001b[38;5;28;01mdel\u001b[39;00m \u001b[38;5;28mself\u001b[39m\u001b[38;5;241m.\u001b[39m_reentrant_error\n",
      "File \u001b[0;32m~/venv/lib/python3.8/site-packages/sqlalchemy/util/compat.py:207\u001b[0m, in \u001b[0;36mraise_\u001b[0;34m(***failed resolving arguments***)\u001b[0m\n\u001b[1;32m    204\u001b[0m     exception\u001b[38;5;241m.\u001b[39m__cause__ \u001b[38;5;241m=\u001b[39m replace_context\n\u001b[1;32m    206\u001b[0m \u001b[38;5;28;01mtry\u001b[39;00m:\n\u001b[0;32m--> 207\u001b[0m     \u001b[38;5;28;01mraise\u001b[39;00m exception\n\u001b[1;32m    208\u001b[0m \u001b[38;5;28;01mfinally\u001b[39;00m:\n\u001b[1;32m    209\u001b[0m     \u001b[38;5;66;03m# credit to\u001b[39;00m\n\u001b[1;32m    210\u001b[0m     \u001b[38;5;66;03m# https://cosmicpercolator.com/2016/01/13/exception-leaks-in-python-2-and-3/\u001b[39;00m\n\u001b[1;32m    211\u001b[0m     \u001b[38;5;66;03m# as the __traceback__ object creates a cycle\u001b[39;00m\n\u001b[1;32m    212\u001b[0m     \u001b[38;5;28;01mdel\u001b[39;00m exception, replace_context, from_, with_traceback\n",
      "File \u001b[0;32m~/venv/lib/python3.8/site-packages/sqlalchemy/engine/base.py:1802\u001b[0m, in \u001b[0;36mConnection._execute_context\u001b[0;34m(self, dialect, constructor, statement, parameters, execution_options, *args, **kw)\u001b[0m\n\u001b[1;32m   1800\u001b[0m                 \u001b[38;5;28;01mbreak\u001b[39;00m\n\u001b[1;32m   1801\u001b[0m     \u001b[38;5;28;01mif\u001b[39;00m \u001b[38;5;129;01mnot\u001b[39;00m evt_handled:\n\u001b[0;32m-> 1802\u001b[0m         \u001b[38;5;28;43mself\u001b[39;49m\u001b[38;5;241;43m.\u001b[39;49m\u001b[43mdialect\u001b[49m\u001b[38;5;241;43m.\u001b[39;49m\u001b[43mdo_execute\u001b[49m\u001b[43m(\u001b[49m\n\u001b[1;32m   1803\u001b[0m \u001b[43m            \u001b[49m\u001b[43mcursor\u001b[49m\u001b[43m,\u001b[49m\u001b[43m \u001b[49m\u001b[43mstatement\u001b[49m\u001b[43m,\u001b[49m\u001b[43m \u001b[49m\u001b[43mparameters\u001b[49m\u001b[43m,\u001b[49m\u001b[43m \u001b[49m\u001b[43mcontext\u001b[49m\n\u001b[1;32m   1804\u001b[0m \u001b[43m        \u001b[49m\u001b[43m)\u001b[49m\n\u001b[1;32m   1806\u001b[0m \u001b[38;5;28;01mif\u001b[39;00m \u001b[38;5;28mself\u001b[39m\u001b[38;5;241m.\u001b[39m_has_events \u001b[38;5;129;01mor\u001b[39;00m \u001b[38;5;28mself\u001b[39m\u001b[38;5;241m.\u001b[39mengine\u001b[38;5;241m.\u001b[39m_has_events:\n\u001b[1;32m   1807\u001b[0m     \u001b[38;5;28mself\u001b[39m\u001b[38;5;241m.\u001b[39mdispatch\u001b[38;5;241m.\u001b[39mafter_cursor_execute(\n\u001b[1;32m   1808\u001b[0m         \u001b[38;5;28mself\u001b[39m,\n\u001b[1;32m   1809\u001b[0m         cursor,\n\u001b[0;32m   (...)\u001b[0m\n\u001b[1;32m   1813\u001b[0m         context\u001b[38;5;241m.\u001b[39mexecutemany,\n\u001b[1;32m   1814\u001b[0m     )\n",
      "File \u001b[0;32m~/venv/lib/python3.8/site-packages/sqlalchemy/engine/default.py:732\u001b[0m, in \u001b[0;36mDefaultDialect.do_execute\u001b[0;34m(self, cursor, statement, parameters, context)\u001b[0m\n\u001b[1;32m    731\u001b[0m \u001b[38;5;28;01mdef\u001b[39;00m \u001b[38;5;21mdo_execute\u001b[39m(\u001b[38;5;28mself\u001b[39m, cursor, statement, parameters, context\u001b[38;5;241m=\u001b[39m\u001b[38;5;28;01mNone\u001b[39;00m):\n\u001b[0;32m--> 732\u001b[0m     \u001b[43mcursor\u001b[49m\u001b[38;5;241;43m.\u001b[39;49m\u001b[43mexecute\u001b[49m\u001b[43m(\u001b[49m\u001b[43mstatement\u001b[49m\u001b[43m,\u001b[49m\u001b[43m \u001b[49m\u001b[43mparameters\u001b[49m\u001b[43m)\u001b[49m\n",
      "File \u001b[0;32m~/venv/lib/python3.8/site-packages/pymysql/cursors.py:148\u001b[0m, in \u001b[0;36mCursor.execute\u001b[0;34m(self, query, args)\u001b[0m\n\u001b[1;32m    144\u001b[0m     \u001b[38;5;28;01mpass\u001b[39;00m\n\u001b[1;32m    146\u001b[0m query \u001b[38;5;241m=\u001b[39m \u001b[38;5;28mself\u001b[39m\u001b[38;5;241m.\u001b[39mmogrify(query, args)\n\u001b[0;32m--> 148\u001b[0m result \u001b[38;5;241m=\u001b[39m \u001b[38;5;28;43mself\u001b[39;49m\u001b[38;5;241;43m.\u001b[39;49m\u001b[43m_query\u001b[49m\u001b[43m(\u001b[49m\u001b[43mquery\u001b[49m\u001b[43m)\u001b[49m\n\u001b[1;32m    149\u001b[0m \u001b[38;5;28mself\u001b[39m\u001b[38;5;241m.\u001b[39m_executed \u001b[38;5;241m=\u001b[39m query\n\u001b[1;32m    150\u001b[0m \u001b[38;5;28;01mreturn\u001b[39;00m result\n",
      "File \u001b[0;32m~/venv/lib/python3.8/site-packages/pymysql/cursors.py:310\u001b[0m, in \u001b[0;36mCursor._query\u001b[0;34m(self, q)\u001b[0m\n\u001b[1;32m    308\u001b[0m \u001b[38;5;28mself\u001b[39m\u001b[38;5;241m.\u001b[39m_last_executed \u001b[38;5;241m=\u001b[39m q\n\u001b[1;32m    309\u001b[0m \u001b[38;5;28mself\u001b[39m\u001b[38;5;241m.\u001b[39m_clear_result()\n\u001b[0;32m--> 310\u001b[0m \u001b[43mconn\u001b[49m\u001b[38;5;241;43m.\u001b[39;49m\u001b[43mquery\u001b[49m\u001b[43m(\u001b[49m\u001b[43mq\u001b[49m\u001b[43m)\u001b[49m\n\u001b[1;32m    311\u001b[0m \u001b[38;5;28mself\u001b[39m\u001b[38;5;241m.\u001b[39m_do_get_result()\n\u001b[1;32m    312\u001b[0m \u001b[38;5;28;01mreturn\u001b[39;00m \u001b[38;5;28mself\u001b[39m\u001b[38;5;241m.\u001b[39mrowcount\n",
      "File \u001b[0;32m~/venv/lib/python3.8/site-packages/pymysql/connections.py:548\u001b[0m, in \u001b[0;36mConnection.query\u001b[0;34m(self, sql, unbuffered)\u001b[0m\n\u001b[1;32m    546\u001b[0m     sql \u001b[38;5;241m=\u001b[39m sql\u001b[38;5;241m.\u001b[39mencode(\u001b[38;5;28mself\u001b[39m\u001b[38;5;241m.\u001b[39mencoding, \u001b[38;5;124m\"\u001b[39m\u001b[38;5;124msurrogateescape\u001b[39m\u001b[38;5;124m\"\u001b[39m)\n\u001b[1;32m    547\u001b[0m \u001b[38;5;28mself\u001b[39m\u001b[38;5;241m.\u001b[39m_execute_command(COMMAND\u001b[38;5;241m.\u001b[39mCOM_QUERY, sql)\n\u001b[0;32m--> 548\u001b[0m \u001b[38;5;28mself\u001b[39m\u001b[38;5;241m.\u001b[39m_affected_rows \u001b[38;5;241m=\u001b[39m \u001b[38;5;28;43mself\u001b[39;49m\u001b[38;5;241;43m.\u001b[39;49m\u001b[43m_read_query_result\u001b[49m\u001b[43m(\u001b[49m\u001b[43munbuffered\u001b[49m\u001b[38;5;241;43m=\u001b[39;49m\u001b[43munbuffered\u001b[49m\u001b[43m)\u001b[49m\n\u001b[1;32m    549\u001b[0m \u001b[38;5;28;01mreturn\u001b[39;00m \u001b[38;5;28mself\u001b[39m\u001b[38;5;241m.\u001b[39m_affected_rows\n",
      "File \u001b[0;32m~/venv/lib/python3.8/site-packages/pymysql/connections.py:775\u001b[0m, in \u001b[0;36mConnection._read_query_result\u001b[0;34m(self, unbuffered)\u001b[0m\n\u001b[1;32m    773\u001b[0m \u001b[38;5;28;01melse\u001b[39;00m:\n\u001b[1;32m    774\u001b[0m     result \u001b[38;5;241m=\u001b[39m MySQLResult(\u001b[38;5;28mself\u001b[39m)\n\u001b[0;32m--> 775\u001b[0m     \u001b[43mresult\u001b[49m\u001b[38;5;241;43m.\u001b[39;49m\u001b[43mread\u001b[49m\u001b[43m(\u001b[49m\u001b[43m)\u001b[49m\n\u001b[1;32m    776\u001b[0m \u001b[38;5;28mself\u001b[39m\u001b[38;5;241m.\u001b[39m_result \u001b[38;5;241m=\u001b[39m result\n\u001b[1;32m    777\u001b[0m \u001b[38;5;28;01mif\u001b[39;00m result\u001b[38;5;241m.\u001b[39mserver_status \u001b[38;5;129;01mis\u001b[39;00m \u001b[38;5;129;01mnot\u001b[39;00m \u001b[38;5;28;01mNone\u001b[39;00m:\n",
      "File \u001b[0;32m~/venv/lib/python3.8/site-packages/pymysql/connections.py:1163\u001b[0m, in \u001b[0;36mMySQLResult.read\u001b[0;34m(self)\u001b[0m\n\u001b[1;32m   1161\u001b[0m         \u001b[38;5;28mself\u001b[39m\u001b[38;5;241m.\u001b[39m_read_load_local_packet(first_packet)\n\u001b[1;32m   1162\u001b[0m     \u001b[38;5;28;01melse\u001b[39;00m:\n\u001b[0;32m-> 1163\u001b[0m         \u001b[38;5;28;43mself\u001b[39;49m\u001b[38;5;241;43m.\u001b[39;49m\u001b[43m_read_result_packet\u001b[49m\u001b[43m(\u001b[49m\u001b[43mfirst_packet\u001b[49m\u001b[43m)\u001b[49m\n\u001b[1;32m   1164\u001b[0m \u001b[38;5;28;01mfinally\u001b[39;00m:\n\u001b[1;32m   1165\u001b[0m     \u001b[38;5;28mself\u001b[39m\u001b[38;5;241m.\u001b[39mconnection \u001b[38;5;241m=\u001b[39m \u001b[38;5;28;01mNone\u001b[39;00m\n",
      "File \u001b[0;32m~/venv/lib/python3.8/site-packages/pymysql/connections.py:1236\u001b[0m, in \u001b[0;36mMySQLResult._read_result_packet\u001b[0;34m(self, first_packet)\u001b[0m\n\u001b[1;32m   1234\u001b[0m \u001b[38;5;28mself\u001b[39m\u001b[38;5;241m.\u001b[39mfield_count \u001b[38;5;241m=\u001b[39m first_packet\u001b[38;5;241m.\u001b[39mread_length_encoded_integer()\n\u001b[1;32m   1235\u001b[0m \u001b[38;5;28mself\u001b[39m\u001b[38;5;241m.\u001b[39m_get_descriptions()\n\u001b[0;32m-> 1236\u001b[0m \u001b[38;5;28;43mself\u001b[39;49m\u001b[38;5;241;43m.\u001b[39;49m\u001b[43m_read_rowdata_packet\u001b[49m\u001b[43m(\u001b[49m\u001b[43m)\u001b[49m\n",
      "File \u001b[0;32m~/venv/lib/python3.8/site-packages/pymysql/connections.py:1270\u001b[0m, in \u001b[0;36mMySQLResult._read_rowdata_packet\u001b[0;34m(self)\u001b[0m\n\u001b[1;32m   1268\u001b[0m rows \u001b[38;5;241m=\u001b[39m []\n\u001b[1;32m   1269\u001b[0m \u001b[38;5;28;01mwhile\u001b[39;00m \u001b[38;5;28;01mTrue\u001b[39;00m:\n\u001b[0;32m-> 1270\u001b[0m     packet \u001b[38;5;241m=\u001b[39m \u001b[38;5;28;43mself\u001b[39;49m\u001b[38;5;241;43m.\u001b[39;49m\u001b[43mconnection\u001b[49m\u001b[38;5;241;43m.\u001b[39;49m\u001b[43m_read_packet\u001b[49m\u001b[43m(\u001b[49m\u001b[43m)\u001b[49m\n\u001b[1;32m   1271\u001b[0m     \u001b[38;5;28;01mif\u001b[39;00m \u001b[38;5;28mself\u001b[39m\u001b[38;5;241m.\u001b[39m_check_packet_is_eof(packet):\n\u001b[1;32m   1272\u001b[0m         \u001b[38;5;28mself\u001b[39m\u001b[38;5;241m.\u001b[39mconnection \u001b[38;5;241m=\u001b[39m \u001b[38;5;28;01mNone\u001b[39;00m  \u001b[38;5;66;03m# release reference to kill cyclic reference.\u001b[39;00m\n",
      "File \u001b[0;32m~/venv/lib/python3.8/site-packages/pymysql/connections.py:711\u001b[0m, in \u001b[0;36mConnection._read_packet\u001b[0;34m(self, packet_type)\u001b[0m\n\u001b[1;32m    705\u001b[0m     \u001b[38;5;28;01mraise\u001b[39;00m err\u001b[38;5;241m.\u001b[39mInternalError(\n\u001b[1;32m    706\u001b[0m         \u001b[38;5;124m\"\u001b[39m\u001b[38;5;124mPacket sequence number wrong - got \u001b[39m\u001b[38;5;132;01m%d\u001b[39;00m\u001b[38;5;124m expected \u001b[39m\u001b[38;5;132;01m%d\u001b[39;00m\u001b[38;5;124m\"\u001b[39m\n\u001b[1;32m    707\u001b[0m         \u001b[38;5;241m%\u001b[39m (packet_number, \u001b[38;5;28mself\u001b[39m\u001b[38;5;241m.\u001b[39m_next_seq_id)\n\u001b[1;32m    708\u001b[0m     )\n\u001b[1;32m    709\u001b[0m \u001b[38;5;28mself\u001b[39m\u001b[38;5;241m.\u001b[39m_next_seq_id \u001b[38;5;241m=\u001b[39m (\u001b[38;5;28mself\u001b[39m\u001b[38;5;241m.\u001b[39m_next_seq_id \u001b[38;5;241m+\u001b[39m \u001b[38;5;241m1\u001b[39m) \u001b[38;5;241m%\u001b[39m \u001b[38;5;241m256\u001b[39m\n\u001b[0;32m--> 711\u001b[0m recv_data \u001b[38;5;241m=\u001b[39m \u001b[38;5;28;43mself\u001b[39;49m\u001b[38;5;241;43m.\u001b[39;49m\u001b[43m_read_bytes\u001b[49m\u001b[43m(\u001b[49m\u001b[43mbytes_to_read\u001b[49m\u001b[43m)\u001b[49m\n\u001b[1;32m    712\u001b[0m \u001b[38;5;28;01mif\u001b[39;00m DEBUG:\n\u001b[1;32m    713\u001b[0m     dump_packet(recv_data)\n",
      "File \u001b[0;32m~/venv/lib/python3.8/site-packages/pymysql/connections.py:729\u001b[0m, in \u001b[0;36mConnection._read_bytes\u001b[0;34m(self, num_bytes)\u001b[0m\n\u001b[1;32m    728\u001b[0m \u001b[38;5;28;01mdef\u001b[39;00m \u001b[38;5;21m_read_bytes\u001b[39m(\u001b[38;5;28mself\u001b[39m, num_bytes):\n\u001b[0;32m--> 729\u001b[0m     \u001b[38;5;28;43mself\u001b[39;49m\u001b[38;5;241;43m.\u001b[39;49m\u001b[43m_sock\u001b[49m\u001b[38;5;241;43m.\u001b[39;49m\u001b[43msettimeout\u001b[49m\u001b[43m(\u001b[49m\u001b[38;5;28;43mself\u001b[39;49m\u001b[38;5;241;43m.\u001b[39;49m\u001b[43m_read_timeout\u001b[49m\u001b[43m)\u001b[49m\n\u001b[1;32m    730\u001b[0m     \u001b[38;5;28;01mwhile\u001b[39;00m \u001b[38;5;28;01mTrue\u001b[39;00m:\n\u001b[1;32m    731\u001b[0m         \u001b[38;5;28;01mtry\u001b[39;00m:\n",
      "\u001b[0;31mKeyboardInterrupt\u001b[0m: "
     ]
    }
   ],
   "source": [
    "#cache_r_track = pd.DataFrame()\n",
    "#cache_si_track = pd.DataFrame()\n",
    "#cache_si_track['user'] = self_identified_track\n",
    "self_identified_track = []\n",
    "researcher_track = []\n",
    "self2_track = []\n",
    "simtotal_track = []\n",
    "\n",
    "## computer has memory limits, so split toolstart into branches\n",
    "# this filters and finds the research usage in nanohub\n",
    "start_year = deepcopy(start_year_base)\n",
    "while start_year < today.year+1:\n",
    "    start_year += 1\n",
    "    print('start year: '+ str(start_year))\n",
    "    end_date = r\"'\"+str(start_year)+r\"-01-01'\"\n",
    "    start_date = r\"'\"+str(start_year-2)+r\"-01-01'\"\n",
    "    \n",
    "    for i in range(1,13):\n",
    "        if i < 10:\n",
    "            start_date = r\"'\"+str(start_year-1)+r\"-0\"+str(i)+r\"-01'\"\n",
    "            end_date = r\"'\"+str(start_year)+r\"-0\"+str(i)+r\"-01'\"\n",
    "        else:\n",
    "            start_date = r\"'\"+str(start_year-1)+r\"-\"+str(i)+r\"-01'\"\n",
    "            end_date = r\"'\"+str(start_year)+r\"-\"+str(i)+r\"-01'\"\n",
    "\n",
    "        sql_query_researcher = \"select user from toolstart where user in \" + str(tuple(researcher_usernames))\\\n",
    "            +\" and datetime <= \"+end_date+\" and datetime >= \"+start_date\n",
    "        researcher_users = pd.read_sql_query(sql_query_researcher, nanohub_metrics_db)\n",
    "        #print('date'+str(start_date)+ 'research_users partial',researcher_users.drop_duplicates()[0:10])\n",
    "        #print('date'+str(start_date)+ 'research_users =',len(researcher_users.drop_duplicates()))\n",
    "        \n",
    "        #researcher_track contains the number of users in this specific month \n",
    "        researcher_track.append(researcher_users.drop_duplicates().shape[0])\n",
    "\n",
    "        sql_query_self_identified = \"select user from toolstart where user in \" + str(tuple(self_identified_usernames))\\\n",
    "            +\" and datetime <= \"+end_date+\" and datetime >= \"+start_date\n",
    "        self_identified_users = pd.read_sql_query(sql_query_self_identified, nanohub_metrics_db)\n",
    "        #print('date'+str(start_date)+ 'self_identified_users partial',self_identified_users.drop_duplicates()[0:10])\n",
    "        #print('date'+str(start_date)+ 'self_identified_users =',len(self_identified_users.drop_duplicates()))\n",
    "        \n",
    "        #self_identified_track contains the number of users in this specific month \n",
    "        self_identified_track.append(self_identified_users.drop_duplicates().shape[0])\n",
    "        #print('start date',start_date)\n",
    "        #display(researcher_track)\n",
    "        \n",
    "        \n",
    "        sql_query_self = \"select user from toolstart where user in \" + str(tuple(self_study_usernames))\\\n",
    "            +\" and user != 'instanton' and user != 'gridstat' and datetime <= \"+end_date+\" and datetime >= \"+start_date\n",
    "        self2_users = pd.read_sql_query(sql_query_self, nanohub_metrics_db) #engine_metrics #.drop_duplicates()\n",
    "        #print('date'+str(start_date)+ 'self2_users partial',self2_users.drop_duplicates()[0:10])\n",
    "        #print('date'+str(start_date)+ 'self2_users =',len(self2_users.drop_duplicates()))\n",
    "        self2_track.append(self2_users.drop_duplicates().shape[0])        \n",
    "     \n",
    "        # query for any job start activity and therefore not examin all registered users.\n",
    "        sql_query_simtotal = \"select user from toolstart where datetime <= \"+end_date+\" and datetime >= \"+start_date\n",
    "        simtotal_users = pd.read_sql_query(sql_query_simtotal, nanohub_metrics_db) #engine_metrics #.drop_duplicates()\n",
    "        #print('date'+str(start_date)+ 'simtotal_users partial',simtotal_users.drop_duplicates()[0:10])\n",
    "        #print('date'+str(start_date)+ 'simtotal_users =',len(simtotal_users.drop_duplicates()))\n",
    "        simtotal_track.append(simtotal_users.drop_duplicates().shape[0])        \n",
    "        \n",
    "        print('date'+str(start_date)+ 'total =',len(simtotal_users.drop_duplicates()), \\\n",
    "             'self2_users =',len(self2_users.drop_duplicates()), \\\n",
    "             'researcher_users =',len(researcher_users.drop_duplicates()), \\\n",
    "             'self_identified_users =',len(self_identified_users.drop_duplicates())     )\n",
    "        #print('simtotal_track=',simtotal_track)\n",
    "        #print('self2_track =',self2_track)\n",
    "        #print('researcher_track',researcher_track)\n",
    "        \n",
    "\n",
    "    print('start year: '+ str(start_year))\n",
    "    #display(researcher_track)\n",
    "    #display(researcher_track)\n",
    "    \n",
    "    cache_r_track = pd.DataFrame()\n",
    "    cache_r_track['track'] = researcher_track\n",
    "    cache_r_track.to_csv(cwd+'/cached_data/researcher_track.csv')\n",
    "    cache_r_track.to_csv(cwd+'/cached_data/'+ str(start_year)+'_researcher_track.csv')\n",
    "    cache_r_track = []\n",
    "    \n",
    "    cache_si_track = pd.DataFrame()\n",
    "    cache_si_track['track'] = self_identified_track\n",
    "    cache_si_track.to_csv(cwd+'/cached_data/self_identified_track.csv')\n",
    "    cache_si_track.to_csv(cwd+'/cached_data/'+ str(start_year)+'_self_identified_track.csv')\n",
    "    cache_si_track = []\n",
    "    \n",
    "    cache_s2_track = pd.DataFrame()\n",
    "    cache_s2_track['track'] = self2_track\n",
    "    cache_s2_track.to_csv(cwd+'/cached_data/self2_track.csv')\n",
    "    cache_s2_track.to_csv(cwd+'/cached_data/'+ str(start_year)+'_self2_track.csv')\n",
    "    cache_s2_track = []\n",
    "    \n",
    "    cache_simtotal_track = pd.DataFrame()\n",
    "    cache_simtotal_track['track'] = simtotal_track\n",
    "    cache_simtotal_track.to_csv(cwd+'/cached_data/simtotal_track.csv')\n",
    "    cache_simtotal_track.to_csv(cwd+'/cached_data/'+ str(start_year)+'_simtotal_track.csv')\n",
    "    cache_simtotal_track = []\n",
    "    \n",
    "    "
   ]
  },
  {
   "cell_type": "code",
   "execution_count": null,
   "metadata": {
    "execution": {
     "iopub.status.busy": "2022-02-21T16:15:49.416467Z",
     "iopub.status.idle": "2022-02-21T16:15:49.418312Z",
     "shell.execute_reply": "2022-02-21T16:15:49.417527Z",
     "shell.execute_reply.started": "2022-02-21T16:15:49.417494Z"
    },
    "tags": []
   },
   "outputs": [],
   "source": [
    "## filter the self study folks against those of researchers\n",
    "# need to pull the researcher sf ids"
   ]
  },
  {
   "cell_type": "code",
   "execution_count": null,
   "metadata": {
    "execution": {
     "iopub.status.busy": "2022-02-21T16:15:49.423339Z",
     "iopub.status.idle": "2022-02-21T16:15:49.423710Z",
     "shell.execute_reply": "2022-02-21T16:15:49.423535Z",
     "shell.execute_reply.started": "2022-02-21T16:15:49.423516Z"
    },
    "tags": []
   },
   "outputs": [],
   "source": []
  },
  {
   "cell_type": "code",
   "execution_count": null,
   "metadata": {
    "execution": {
     "iopub.status.busy": "2022-02-21T16:15:49.439025Z",
     "iopub.status.idle": "2022-02-21T16:15:49.440411Z",
     "shell.execute_reply": "2022-02-21T16:15:49.440147Z",
     "shell.execute_reply.started": "2022-02-21T16:15:49.440121Z"
    },
    "tags": []
   },
   "outputs": [],
   "source": [
    "sf_contact_ids = contacts_df['nanoHUB_user_ID__c'][sf_self_study]"
   ]
  },
  {
   "cell_type": "code",
   "execution_count": null,
   "metadata": {
    "execution": {
     "iopub.status.busy": "2022-02-21T16:15:49.443198Z",
     "iopub.status.idle": "2022-02-21T16:15:49.443635Z",
     "shell.execute_reply": "2022-02-21T16:15:49.443469Z",
     "shell.execute_reply.started": "2022-02-21T16:15:49.443451Z"
    },
    "tags": []
   },
   "outputs": [],
   "source": [
    "sf_contact_ids = sf_contact_ids.reset_index()\n",
    "sf_contact_ids = sf_contact_ids.drop(columns='index')\n",
    "display(sf_contact_ids)"
   ]
  },
  {
   "cell_type": "code",
   "execution_count": null,
   "metadata": {
    "execution": {
     "iopub.status.busy": "2022-02-21T16:15:49.445829Z",
     "iopub.status.idle": "2022-02-21T16:15:49.446514Z",
     "shell.execute_reply": "2022-02-21T16:15:49.446229Z",
     "shell.execute_reply.started": "2022-02-21T16:15:49.446186Z"
    },
    "tags": []
   },
   "outputs": [],
   "source": [
    "tuple(sf_contact_ids['nanoHUB_user_ID__c'])[:5]"
   ]
  },
  {
   "cell_type": "code",
   "execution_count": null,
   "metadata": {
    "execution": {
     "iopub.status.busy": "2022-02-21T16:15:49.449403Z",
     "iopub.status.idle": "2022-02-21T16:15:49.450217Z",
     "shell.execute_reply": "2022-02-21T16:15:49.449893Z",
     "shell.execute_reply.started": "2022-02-21T16:15:49.449856Z"
    },
    "tags": []
   },
   "outputs": [],
   "source": [
    "tuple(self_study_NH_ids.dropna().to_list())[:5]"
   ]
  },
  {
   "cell_type": "code",
   "execution_count": null,
   "metadata": {
    "execution": {
     "iopub.status.busy": "2022-02-21T16:15:49.452775Z",
     "iopub.status.idle": "2022-02-21T16:15:49.453429Z",
     "shell.execute_reply": "2022-02-21T16:15:49.453110Z",
     "shell.execute_reply.started": "2022-02-21T16:15:49.453083Z"
    },
    "tags": []
   },
   "outputs": [],
   "source": [
    "## loading in toolstart"
   ]
  },
  {
   "cell_type": "code",
   "execution_count": null,
   "metadata": {
    "execution": {
     "iopub.status.busy": "2022-02-21T16:15:49.456350Z",
     "iopub.status.idle": "2022-02-21T16:15:49.457075Z",
     "shell.execute_reply": "2022-02-21T16:15:49.456780Z",
     "shell.execute_reply.started": "2022-02-21T16:15:49.456749Z"
    },
    "tags": []
   },
   "outputs": [],
   "source": [
    "# clustered user usernames\n",
    "tc_query = 'select id,username from jos_users where id in ' +str(tuple(clustered_NH_ids))\n",
    "clustered_NH_username = pd.read_sql_query(tc_query,nanohub_db)\n",
    "display(len(clustered_NH_username))\n",
    "\n",
    "tc_query = 'select id,username from jos_users where id in ' +str(tuple(mike_clustered_NH_ids))\n",
    "mike_clustered_NH_username = pd.read_sql_query(tc_query,nanohub_db)\n",
    "display(len(mike_clustered_NH_username))\n",
    "\n",
    "tc_query = 'select id,username from jos_users where id in ' +str(tuple(xufeng_clustered_NH_ids))\n",
    "xufeng_clustered_NH_username = pd.read_sql_query(tc_query,nanohub_db)\n",
    "display(len(xufeng_clustered_NH_username))\n",
    "\n",
    "tc_query = 'select id,username from jos_users where id in ' +str(tuple(mike_xufeng_clustered_NH_ids))\n",
    "mike_xufeng_clustered_NH_username = pd.read_sql_query(tc_query,nanohub_db)\n",
    "display(len(mike_xufeng_clustered_NH_username))\n",
    "\n"
   ]
  },
  {
   "cell_type": "code",
   "execution_count": null,
   "metadata": {
    "execution": {
     "iopub.status.busy": "2022-02-21T16:15:49.460253Z",
     "iopub.status.idle": "2022-02-21T16:15:49.460804Z",
     "shell.execute_reply": "2022-02-21T16:15:49.460557Z",
     "shell.execute_reply.started": "2022-02-21T16:15:49.460529Z"
    },
    "tags": []
   },
   "outputs": [],
   "source": [
    "## self study user usernames\n",
    "#ts_query = 'select id,username from jos_users where id in ' + str(tuple(self_study_NH_ids.dropna().to_list())) \n",
    "##sf_contact_ids['nanoHUB_user_ID__c']))\n",
    "#ss_NH_username = pd.read_sql_query(ts_query,nanohub_db)"
   ]
  },
  {
   "cell_type": "code",
   "execution_count": null,
   "metadata": {
    "execution": {
     "iopub.status.busy": "2022-02-21T16:15:49.464442Z",
     "iopub.status.idle": "2022-02-21T16:15:49.464886Z",
     "shell.execute_reply": "2022-02-21T16:15:49.464712Z",
     "shell.execute_reply.started": "2022-02-21T16:15:49.464693Z"
    },
    "tags": []
   },
   "outputs": [],
   "source": [
    "## cache the researchers, self-study, and clustered users\n",
    "cache_r_nhid = pd.DataFrame()\n",
    "cache_r_nhid['nhid'] = researcher_ids\n",
    "\n",
    "cache_si_nhid = pd.DataFrame()\n",
    "cache_si_nhid['nhid'] = self_identified_NH_ids.to_list()\n",
    "\n",
    "cache_ss_nhid = pd.DataFrame()\n",
    "cache_ss_nhid['nhid'] = ss_NH_username['id']\n",
    "cache_ss_nhid['username'] = ss_NH_username['username']\n",
    "\n",
    "cache_c_nhid = pd.DataFrame()\n",
    "cache_c_nhid['nhid'] = clustered_NH_username['id']\n",
    "cache_c_nhid['username'] = clustered_NH_username['username']\n",
    "\n",
    "cache_cm_nhid = pd.DataFrame()\n",
    "cache_cm_nhid['nhid'] = mike_clustered_NH_username['id']\n",
    "cache_cm_nhid['username'] = mike_clustered_NH_username['username']\n",
    "\n",
    "cache_cx_nhid = pd.DataFrame()\n",
    "cache_cx_nhid['nhid'] = xufeng_clustered_NH_username['id']\n",
    "cache_cx_nhid['username'] = xufeng_clustered_NH_username['username']\n",
    "\n",
    "cache_cmx_nhid = pd.DataFrame()\n",
    "cache_cmx_nhid['nhid'] = mike_xufeng_clustered_NH_username['id']\n",
    "cache_cmx_nhid['username'] = mike_xufeng_clustered_NH_username['username']"
   ]
  },
  {
   "cell_type": "code",
   "execution_count": null,
   "metadata": {
    "execution": {
     "iopub.status.busy": "2022-02-21T16:15:49.469226Z",
     "iopub.status.idle": "2022-02-21T16:15:49.469918Z",
     "shell.execute_reply": "2022-02-21T16:15:49.469662Z",
     "shell.execute_reply.started": "2022-02-21T16:15:49.469622Z"
    },
    "tags": []
   },
   "outputs": [],
   "source": [
    "print(cache_r_nhid.head(2))\n",
    "print(cache_si_nhid.head(2))\n",
    "print(cache_ss_nhid.head(2))\n",
    "print(cache_c_nhid.head(2))\n",
    "print(cache_cm_nhid.head(2))\n",
    "print(cache_cx_nhid.head(2))\n",
    "print(cache_cmx_nhid.head(2))"
   ]
  },
  {
   "cell_type": "code",
   "execution_count": null,
   "metadata": {
    "execution": {
     "iopub.status.busy": "2022-02-21T16:15:49.472145Z",
     "iopub.status.idle": "2022-02-21T16:15:49.472788Z",
     "shell.execute_reply": "2022-02-21T16:15:49.472605Z",
     "shell.execute_reply.started": "2022-02-21T16:15:49.472583Z"
    },
    "tags": []
   },
   "outputs": [],
   "source": [
    "cache_r_nhid.to_csv(cwd+'/cached_data/researcher_ids.csv')\n",
    "cache_si_nhid.to_csv(cwd+'/cached_data/self_identified_ids.csv')\n",
    "cache_ss_nhid.to_csv(cwd+'/cached_data/ss_ids.csv')\n",
    "cache_c_nhid.to_csv(cwd+'/cached_data/class_ids.csv')\n",
    "cache_cm_nhid.to_csv(cwd+'/cached_data/class_m_ids.csv')\n",
    "cache_cx_nhid.to_csv(cwd+'/cached_data/class_x_ids.csv')\n",
    "cache_cmx_nhid.to_csv(cwd+'/cached_data/class_mx_ids.csv')"
   ]
  },
  {
   "cell_type": "code",
   "execution_count": null,
   "metadata": {},
   "outputs": [],
   "source": []
  },
  {
   "cell_type": "code",
   "execution_count": null,
   "metadata": {
    "execution": {
     "iopub.status.busy": "2022-02-21T16:15:49.474108Z",
     "iopub.status.idle": "2022-02-21T16:15:49.474530Z",
     "shell.execute_reply": "2022-02-21T16:15:49.474365Z",
     "shell.execute_reply.started": "2022-02-21T16:15:49.474346Z"
    },
    "tags": []
   },
   "outputs": [],
   "source": [
    "# clustered_NH_username2;researcher_NH_username2;self_NH_username2\n",
    "clustered_track = []\n",
    "clustered_m_track = []\n",
    "clustered_x_track = []\n",
    "clustered_mx_track = []\n",
    "self_track = []\n",
    "\n",
    "# clustered_track_per = []\n",
    "# self_track_per = []\n",
    "# researcher_track_per = []"
   ]
  },
  {
   "cell_type": "code",
   "execution_count": null,
   "metadata": {
    "execution": {
     "iopub.status.busy": "2022-02-21T16:15:49.475787Z",
     "iopub.status.idle": "2022-02-21T16:15:49.476140Z",
     "shell.execute_reply": "2022-02-21T16:15:49.475983Z",
     "shell.execute_reply.started": "2022-02-21T16:15:49.475965Z"
    },
    "tags": []
   },
   "outputs": [],
   "source": [
    "ss_NH_username.shape #old"
   ]
  },
  {
   "cell_type": "code",
   "execution_count": null,
   "metadata": {},
   "outputs": [],
   "source": []
  },
  {
   "cell_type": "code",
   "execution_count": 33,
   "metadata": {
    "execution": {
     "iopub.execute_input": "2022-02-21T20:03:22.863563Z",
     "iopub.status.busy": "2022-02-21T20:03:22.863191Z",
     "iopub.status.idle": "2022-02-21T20:03:23.643189Z",
     "shell.execute_reply": "2022-02-21T20:03:23.641966Z",
     "shell.execute_reply.started": "2022-02-21T20:03:22.863535Z"
    },
    "tags": []
   },
   "outputs": [
    {
     "ename": "NameError",
     "evalue": "name 'deepcopy' is not defined",
     "output_type": "error",
     "traceback": [
      "\u001b[0;31m---------------------------------------------------------------------------\u001b[0m",
      "\u001b[0;31mNameError\u001b[0m                                 Traceback (most recent call last)",
      "Input \u001b[0;32mIn [33]\u001b[0m, in \u001b[0;36m<module>\u001b[0;34m\u001b[0m\n\u001b[1;32m      1\u001b[0m \u001b[38;5;66;03m## computer has memory limits, so split toolstart into branches\u001b[39;00m\n\u001b[0;32m----> 2\u001b[0m start_year \u001b[38;5;241m=\u001b[39m \u001b[43mdeepcopy\u001b[49m(start_year_base)\n\u001b[1;32m      4\u001b[0m \u001b[38;5;28;01mwhile\u001b[39;00m start_year \u001b[38;5;241m<\u001b[39m today\u001b[38;5;241m.\u001b[39myear\u001b[38;5;241m+\u001b[39m\u001b[38;5;241m1\u001b[39m:\n\u001b[1;32m      5\u001b[0m     start_year \u001b[38;5;241m+\u001b[39m\u001b[38;5;241m=\u001b[39m \u001b[38;5;241m1\u001b[39m\n",
      "\u001b[0;31mNameError\u001b[0m: name 'deepcopy' is not defined"
     ]
    }
   ],
   "source": [
    "## computer has memory limits, so split toolstart into branches\n",
    "start_year = deepcopy(start_year_base)\n",
    "\n",
    "while start_year < today.year+1:\n",
    "    start_year += 1\n",
    "    \n",
    "    for i in range(1,13):\n",
    "        if i < 10:\n",
    "            start_date = r\"'\"+str(start_year-1)+r\"-0\"+str(i)+r\"-01'\"\n",
    "            end_date = r\"'\"+str(start_year)+r\"-0\"+str(i)+r\"-01'\"\n",
    "        else:\n",
    "            start_date = r\"'\"+str(start_year-1)+r\"-\"+str(i)+r\"-01'\"\n",
    "            end_date = r\"'\"+str(start_year)+r\"-\"+str(i)+r\"-01'\"\n",
    "        \n",
    "#         sql_query_clustered = \"select user from toolstart where user in \" + str(tuple(clustered_NH_username2['username']))\\\n",
    "#             +\" and datetime <= \"+end_date+\" and datetime >= \"+start_date\n",
    "        sql_query_clustered = \"select user from toolstart where user in \" + str(tuple(clustered_NH_username['username']))\\\n",
    "            +\" and datetime <= \"+end_date+\" and datetime >= \"+start_date\n",
    "        clustered_users = pd.read_sql_query(sql_query_clustered, nanohub_metrics_db)\n",
    "        \n",
    "        sql_query_m_clustered = \"select user from toolstart where user in \" + str(tuple(mike_clustered_NH_username['username']))\\\n",
    "            +\" and datetime <= \"+end_date+\" and datetime >= \"+start_date\n",
    "        clustered_m_users = pd.read_sql_query(sql_query_m_clustered, nanohub_metrics_db)\n",
    "        \n",
    "        sql_query_x_clustered = \"select user from toolstart where user in \" + str(tuple(xufeng_clustered_NH_username['username']))\\\n",
    "            +\" and datetime <= \"+end_date+\" and datetime >= \"+start_date\n",
    "        clustered_x_users = pd.read_sql_query(sql_query_x_clustered, nanohub_metrics_db)\n",
    "        \n",
    "        sql_query_mx_clustered = \"select user from toolstart where user in \" + str(tuple(mike_xufeng_clustered_NH_username['username']))\\\n",
    "            +\" and datetime <= \"+end_date+\" and datetime >= \"+start_date\n",
    "        clustered_mx_users = pd.read_sql_query(sql_query_mx_clustered, nanohub_metrics_db)\n",
    "        \n",
    "        \n",
    "#         sql_query_self = \"select user from toolstart where user in \" + str(tuple(self_NH_username2['username']))\\\n",
    "#             +\" and user != 'instanton' and user != 'gridstat' and datetime <= \"+end_date+\" and datetime >= \"+start_date\n",
    "        sql_query_self = \"select user from toolstart where user in \" + str(tuple(self_study_usernames))\\\n",
    "            +\" and user != 'instanton' and user != 'gridstat' and datetime <= \"+end_date+\" and datetime >= \"+start_date\n",
    "        self_users = pd.read_sql_query(sql_query_self, nanohub_metrics_db) #engine_metrics #.drop_duplicates()\n",
    "        \n",
    "        clustered_track.append(clustered_users.drop_duplicates().shape[0])\n",
    "        clustered_m_track.append(clustered_m_users.drop_duplicates().shape[0])\n",
    "        clustered_x_track.append(clustered_x_users.drop_duplicates().shape[0])\n",
    "        clustered_mx_track.append(clustered_mx_users.drop_duplicates().shape[0])\n",
    "        self_track.append(self_users.drop_duplicates().shape[0])\n",
    "#         print('start_date: '+start_date)\n",
    "#         print('end_date: '+end_date)  \n",
    "    print('start year: '+str(start_year))\n",
    "    cache_clustered_track = pd.DataFrame()\n",
    "    cache_clustered_track['track'] = clustered_track\n",
    "    cache_clustered_track.to_csv(cwd+'/cached_data/clustered_track.csv')\n",
    "    cache_clustered_track = []\n",
    "    \n",
    "    cache_clustered_m_track = pd.DataFrame()\n",
    "    cache_clustered_m_track['track'] = clustered_m_track\n",
    "    cache_clustered_m_track.to_csv(cwd+'/cached_data/clustered_m_track.csv')\n",
    "    cache_clustered_m_track = []\n",
    "\n",
    "    cache_clustered_x_track = pd.DataFrame()\n",
    "    cache_clustered_x_track['track'] = clustered_x_track\n",
    "    cache_clustered_x_track.to_csv(cwd+'/cached_data/clustered_x_track.csv')\n",
    "    cache_clustered_x_track = []\n",
    "\n",
    "    cache_clustered_mx_track = pd.DataFrame()\n",
    "    cache_clustered_mx_track['track'] = clustered_mx_track\n",
    "    cache_clustered_mx_track.to_csv(cwd+'/cached_data/clustered_mx_track.csv')\n",
    "    cache_clustered_mx_track = []\n",
    "\n",
    "    cache_self_track = pd.DataFrame()\n",
    "    cache_self_track['track'] = self_track\n",
    "    cache_self_track.to_csv(cwd+'/cached_data/self_track.csv')\n",
    "    cache_self_track = []\n",
    "\n",
    "    "
   ]
  },
  {
   "cell_type": "code",
   "execution_count": null,
   "metadata": {},
   "outputs": [],
   "source": []
  },
  {
   "cell_type": "code",
   "execution_count": null,
   "metadata": {
    "execution": {
     "iopub.status.busy": "2022-02-21T16:15:49.479381Z",
     "iopub.status.idle": "2022-02-21T16:15:49.480215Z",
     "shell.execute_reply": "2022-02-21T16:15:49.479876Z",
     "shell.execute_reply.started": "2022-02-21T16:15:49.479816Z"
    },
    "tags": []
   },
   "outputs": [],
   "source": [
    "# all_months_list = list()\n",
    "# for this_year in range(start_year_base+1,today.year+2):\n",
    "#     if cache_flag == True:\n",
    "#         for this_month in range(1,today.month+1):\n",
    "#             all_months_list.append(datetime.datetime(this_year, this_month, 1))\n",
    "#     else:\n",
    "#         for this_month in range(1,12+1):\n",
    "#             all_months_list.append(datetime.datetime(this_year, this_month, 1))"
   ]
  },
  {
   "cell_type": "code",
   "execution_count": null,
   "metadata": {
    "execution": {
     "iopub.status.busy": "2022-02-21T16:15:49.484770Z",
     "iopub.status.idle": "2022-02-21T16:15:49.485245Z",
     "shell.execute_reply": "2022-02-21T16:15:49.485056Z",
     "shell.execute_reply.started": "2022-02-21T16:15:49.485030Z"
    },
    "tags": []
   },
   "outputs": [],
   "source": [
    "print(len(clustered_track))\n",
    "print(len(clustered_m_track))\n",
    "print(len(clustered_x_track))\n",
    "print(len(clustered_mx_track))\n",
    "print(len(all_months_list))\n",
    "print(len(researcher_track))"
   ]
  },
  {
   "cell_type": "code",
   "execution_count": null,
   "metadata": {
    "execution": {
     "iopub.status.busy": "2022-02-21T16:15:49.487171Z",
     "iopub.status.idle": "2022-02-21T16:15:49.487639Z",
     "shell.execute_reply": "2022-02-21T16:15:49.487442Z",
     "shell.execute_reply.started": "2022-02-21T16:15:49.487421Z"
    },
    "tags": []
   },
   "outputs": [],
   "source": [
    "#print(user_breakdown_df2.head())"
   ]
  },
  {
   "cell_type": "code",
   "execution_count": null,
   "metadata": {
    "execution": {
     "iopub.status.busy": "2022-02-21T16:15:49.490869Z",
     "iopub.status.idle": "2022-02-21T16:15:49.492028Z",
     "shell.execute_reply": "2022-02-21T16:15:49.491565Z",
     "shell.execute_reply.started": "2022-02-21T16:15:49.491489Z"
    },
    "tags": []
   },
   "outputs": [],
   "source": [
    "\n",
    "if cache_flag == True:\n",
    "    user_breakdown_df2 = pd.DataFrame()\n",
    "    user_breakdown_df2['year_month'] = all_months_list\n",
    "    user_breakdown_df2['clustered_track'] = clustered_track\n",
    "    user_breakdown_df2['clustered_m_track'] = clustered_m_track\n",
    "    user_breakdown_df2['clustered_x_track'] = clustered_x_track\n",
    "    user_breakdown_df2['clustered_mx_track'] = clustered_mx_track\n",
    "    user_breakdown_df2['self_identified_track'] = self_identified_track\n",
    "    user_breakdown_df2['self_track'] = self_track\n",
    "    user_breakdown_df2['researcher_track'] = researcher_track\n",
    "    \n",
    "    user_breakdown_df = pd.concat([user_breakdown_df, user_breakdown_df2], ignore_index=True)\n",
    "    display(user_breakdown_df.head(2))\n",
    "else:\n",
    "    user_breakdown_df = pd.DataFrame()\n",
    "    if today.month == 12:\n",
    "        user_breakdown_df['year_month'] = all_months_list #months_bin['year_month'].to_list()[13:]\n",
    "        user_breakdown_df['clustered_track'] = clustered_track#[:len(all_months_list)]\n",
    "        user_breakdown_df['clustered_m_track'] = clustered_m_track#[:len(all_months_list)]\n",
    "        user_breakdown_df['clustered_x_track'] = clustered_x_track#[:len(all_months_list)]\n",
    "        user_breakdown_df['clustered_mx_track'] = clustered_mx_track#[:len(all_months_list)]\n",
    "        user_breakdown_df['self_identified_track'] = self_identified_track\n",
    "        user_breakdown_df['self_track'] = self_track#[:len(all_months_list)]\n",
    "        user_breakdown_df['researcher_track'] = researcher_track#[:len(all_months_list)]        \n",
    "    else:\n",
    "        user_breakdown_df['year_month'] = all_months_list #-(12-today.month)\n",
    "        user_breakdown_df['clustered_track'] = clustered_track#[:len(all_months_list[:])]\n",
    "        user_breakdown_df['clustered_m_track'] = clustered_m_track#[:len(all_months_list[:])]\n",
    "        user_breakdown_df['clustered_x_track'] = clustered_x_track#[:len(all_months_list[:])]\n",
    "        user_breakdown_df['clustered_mx_track'] = clustered_mx_track#[:len(all_months_list[:])]\n",
    "        user_breakdown_df['self_identified_track'] = self_identified_track\n",
    "        user_breakdown_df['self_track'] = self_track#[:len(all_months_list[:])]\n",
    "        user_breakdown_df['researcher_track'] = researcher_track#[:len(all_months_list[:])]\n",
    "    display(user_breakdown_df.head(2))"
   ]
  },
  {
   "cell_type": "code",
   "execution_count": null,
   "metadata": {
    "execution": {
     "iopub.status.busy": "2022-02-21T16:15:49.495978Z",
     "iopub.status.idle": "2022-02-21T16:15:49.496683Z",
     "shell.execute_reply": "2022-02-21T16:15:49.496465Z",
     "shell.execute_reply.started": "2022-02-21T16:15:49.496443Z"
    },
    "tags": []
   },
   "outputs": [],
   "source": [
    "# user_breakdown_df.to_csv(cwd+'/cached_data/temp.csv')"
   ]
  },
  {
   "cell_type": "code",
   "execution_count": null,
   "metadata": {
    "execution": {
     "iopub.status.busy": "2022-02-21T16:15:49.504582Z",
     "iopub.status.idle": "2022-02-21T16:15:49.505121Z",
     "shell.execute_reply": "2022-02-21T16:15:49.504883Z",
     "shell.execute_reply.started": "2022-02-21T16:15:49.504864Z"
    },
    "tags": []
   },
   "outputs": [],
   "source": [
    "import re"
   ]
  },
  {
   "cell_type": "code",
   "execution_count": null,
   "metadata": {
    "execution": {
     "iopub.status.busy": "2022-02-21T16:15:49.507918Z",
     "iopub.status.idle": "2022-02-21T16:15:49.508867Z",
     "shell.execute_reply": "2022-02-21T16:15:49.508515Z",
     "shell.execute_reply.started": "2022-02-21T16:15:49.508485Z"
    },
    "tags": []
   },
   "outputs": [],
   "source": [
    "## read the dev_flags.txt to determine where to save\n",
    "with open(cwd+'/dev_flags.txt','r') as f:\n",
    "    raw_flags = f.read()\n",
    "flag_pattern = re.compile(r'= \\w+')\n",
    "flags1 = re.findall(flag_pattern,raw_flags)    \n",
    "flags_result = [i[2:] for i in flags1]\n",
    "dev_flag = flags_result[0]\n",
    "prod_flag = flags_result[1]"
   ]
  },
  {
   "cell_type": "code",
   "execution_count": null,
   "metadata": {
    "execution": {
     "iopub.status.busy": "2022-02-21T16:15:49.510647Z",
     "iopub.status.idle": "2022-02-21T16:15:49.511244Z",
     "shell.execute_reply": "2022-02-21T16:15:49.510915Z",
     "shell.execute_reply.started": "2022-02-21T16:15:49.510857Z"
    },
    "tags": []
   },
   "outputs": [],
   "source": [
    "import seaborn as sns\n",
    "import matplotlib.pyplot as plt\n",
    "sns.set()\n",
    "sns.set_style(\"whitegrid\")\n",
    "\n",
    "plt.figure(figsize=(9,6))\n",
    "# user_breakdown_df2 = user_breakdown_df.iloc[:-(12-today.month),:]\n",
    "user_breakdown_df2 = user_breakdown_df.iloc[:-12-(12-today.month),:]\n",
    "plt.stackplot(user_breakdown_df2.year_month, \\\n",
    "#               user_breakdown_df2[['clustered_track','self_track']].to_numpy().T, \\\n",
    "#              labels=['Classroom', 'Unclassified'], \\\n",
    "#              colors=['green', 'orange']); #Self-study              \n",
    "              user_breakdown_df2[['clustered_m_track', 'clustered_mx_track', 'clustered_x_track', 'researcher_track','self_identified_track','self_track']].to_numpy().T, \\\n",
    "             labels=['Classroom M','Classroom MX','Classroom X','Research', 'Researcher','Unclassified'], \\\n",
    "             colors=['lawngreen','green', 'yellowgreen','red', 'fuchsia','orange']); #Self-study\n",
    "\n",
    "plt.legend(loc='upper left')#,fontsize=14);\n",
    "plt.ylabel('12-month Trailing Total')#,fontsize=15)\n",
    "plt.xlim([datetime.datetime(2001,1,1), datetime.datetime(2021,7,1)])#,fontsize=15)\n",
    "# plt.show()\n",
    "\n",
    "if dev_flag == 'True':\n",
    "    plt.savefig(cwd+'/plots_local/300_simusers_class_res_unclass_12months_GK.eps', dpi=300, bbox_inches='tight')\n",
    "    plt.savefig(cwd+'/plots_local/300_simusers_class_res_unclass_12months_GK.pdf', dpi=300, bbox_inches='tight')\n",
    "    plt.savefig(cwd+'/plots_local/300_simusers_class_res_unclass_12months_GK.png', dpi=300, bbox_inches='tight')\n",
    "elif prod_flag == 'True':\n",
    "    plt.savefig(cwd+'/plots_production/300_simusers_class_res_unclass_12months_GK.eps', dpi=300, bbox_inches='tight')\n",
    "    plt.savefig(cwd+'/plots_production/300_simusers_class_res_unclass_12months_GK.pdf', dpi=300, bbox_inches='tight')\n",
    "    plt.savefig(cwd+'/plots_production/300_simusers_class_res_unclass_12months_GK.png', dpi=300, bbox_inches='tight')\n",
    "else:\n",
    "    print('no printing flag is active')"
   ]
  },
  {
   "cell_type": "code",
   "execution_count": null,
   "metadata": {
    "execution": {
     "iopub.status.busy": "2022-02-21T16:15:49.514326Z",
     "iopub.status.idle": "2022-02-21T16:15:49.515096Z",
     "shell.execute_reply": "2022-02-21T16:15:49.514778Z",
     "shell.execute_reply.started": "2022-02-21T16:15:49.514698Z"
    },
    "tags": []
   },
   "outputs": [],
   "source": [
    "total = user_breakdown_df2['clustered_track'].to_numpy()+user_breakdown_df2['researcher_track'].to_numpy()+\\\n",
    "                        user_breakdown_df2['self_track'].to_numpy() + user_breakdown_df2['self_identified_track'].to_numpy()\n",
    "display(len(total))\n",
    "user_breakdown_df2['clustered_track_per'] = 100*np.divide(user_breakdown_df2['clustered_track'],total)\n",
    "user_breakdown_df2['self_identified_track_per'] = 100*np.divide(user_breakdown_df2['self_identified_track'], total)\n",
    "user_breakdown_df2['researcher_track_per'] = 100*np.divide(user_breakdown_df2['researcher_track'], total)\n",
    "user_breakdown_df2['self_track_per'] = 100*np.divide(user_breakdown_df2['self_track'], total)"
   ]
  },
  {
   "cell_type": "code",
   "execution_count": null,
   "metadata": {
    "execution": {
     "iopub.status.busy": "2022-02-21T16:15:49.519780Z",
     "iopub.status.idle": "2022-02-21T16:15:49.521365Z",
     "shell.execute_reply": "2022-02-21T16:15:49.520840Z",
     "shell.execute_reply.started": "2022-02-21T16:15:49.520806Z"
    },
    "tags": []
   },
   "outputs": [],
   "source": [
    "plt.figure(figsize=(9,6))\n",
    "plt.plot(user_breakdown_df2.year_month, user_breakdown_df2.clustered_track_per, label='classroom', \\\n",
    "             color='green');\n",
    "plt.plot(user_breakdown_df2.year_month, user_breakdown_df2.researcher_track_per, label='research', \\\n",
    "             color='red');\n",
    "plt.plot(user_breakdown_df2.year_month, user_breakdown_df2.self_identified_track_per, label='self-identified', \\\n",
    "             color='magenta');\n",
    "plt.plot(user_breakdown_df2.year_month, user_breakdown_df2.self_track_per, label='self-study', \\\n",
    "             color='orange');\n",
    "\n",
    "plt.ylim([0, 100])\n",
    "plt.legend(loc='upper right');\n",
    "plt.ylabel('Percentage (%)');\n",
    "plt.xlim([datetime.datetime(2001,1,1), datetime.datetime(2021,7,1)])\n",
    "# plt.show()\n",
    "\n",
    "if dev_flag == 'True':\n",
    "    plt.savefig(cwd+'/plots_local/300_simusers_class_res_unclass_12months_percent_copied.eps', dpi=300, bbox_inches='tight')\n",
    "    plt.savefig(cwd+'/plots_local/300_simusers_class_res_unclass_12months_percent_copied.pdf', dpi=300, bbox_inches='tight')\n",
    "    plt.savefig(cwd+'/plots_local/300_simusers_class_res_unclass_12months_percent_copied.png', dpi=300, bbox_inches='tight')\n",
    "elif prod_flag == 'True':\n",
    "    plt.savefig(cwd+'/plots_production/300_simusers_class_res_unclass_12months_percent_copied.eps', dpi=300, bbox_inches='tight')\n",
    "    plt.savefig(cwd+'/plots_production/300_simusers_class_res_unclass_12months_percent_copied.pdf', dpi=300, bbox_inches='tight')\n",
    "    plt.savefig(cwd+'/plots_production/300_simusers_class_res_unclass_12months_percent_copied.png', dpi=300, bbox_inches='tight')\n",
    "else:\n",
    "    print('no printing flag is active')"
   ]
  },
  {
   "cell_type": "code",
   "execution_count": null,
   "metadata": {
    "execution": {
     "iopub.status.busy": "2022-02-21T16:15:49.524117Z",
     "iopub.status.idle": "2022-02-21T16:15:49.524679Z",
     "shell.execute_reply": "2022-02-21T16:15:49.524372Z",
     "shell.execute_reply.started": "2022-02-21T16:15:49.524353Z"
    },
    "tags": []
   },
   "outputs": [],
   "source": [
    "user_breakdown_df2.to_csv(cwd+'/cached_data/nh_user_breakdown.csv')"
   ]
  },
  {
   "cell_type": "code",
   "execution_count": null,
   "metadata": {},
   "outputs": [],
   "source": []
  },
  {
   "cell_type": "code",
   "execution_count": null,
   "metadata": {},
   "outputs": [],
   "source": []
  },
  {
   "cell_type": "code",
   "execution_count": null,
   "metadata": {},
   "outputs": [],
   "source": []
  }
 ],
 "metadata": {
  "kernelspec": {
   "display_name": "Python 3 (ipykernel)",
   "language": "python",
   "name": "python3"
  },
  "language_info": {
   "codemirror_mode": {
    "name": "ipython",
    "version": 3
   },
   "file_extension": ".py",
   "mimetype": "text/x-python",
   "name": "python",
   "nbconvert_exporter": "python",
   "pygments_lexer": "ipython3",
   "version": "3.8.10"
  }
 },
 "nbformat": 4,
 "nbformat_minor": 4
}
