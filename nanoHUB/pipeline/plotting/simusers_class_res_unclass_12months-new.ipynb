{
 "cells": [
  {
   "cell_type": "code",
   "execution_count": 1,
   "metadata": {
    "execution": {
     "iopub.execute_input": "2022-02-19T22:43:58.978312Z",
     "iopub.status.busy": "2022-02-19T22:43:58.976806Z",
     "iopub.status.idle": "2022-02-19T22:43:58.986498Z",
     "shell.execute_reply": "2022-02-19T22:43:58.984040Z",
     "shell.execute_reply.started": "2022-02-19T22:43:58.978058Z"
    },
    "tags": []
   },
   "outputs": [],
   "source": [
    "## build researcher events, student events, and self-study events\n",
    "## researcher are simply those with NH citations"
   ]
  },
  {
   "cell_type": "code",
   "execution_count": 17,
   "metadata": {
    "execution": {
     "iopub.execute_input": "2022-02-19T22:45:56.668862Z",
     "iopub.status.busy": "2022-02-19T22:45:56.668408Z",
     "iopub.status.idle": "2022-02-19T22:45:56.678170Z",
     "shell.execute_reply": "2022-02-19T22:45:56.676952Z",
     "shell.execute_reply.started": "2022-02-19T22:45:56.668754Z"
    },
    "tags": []
   },
   "outputs": [],
   "source": [
    "import sys\n",
    "\n",
    "import pandas as pd\n",
    "import numpy as np\n",
    "import time\n",
    "import datetime\n",
    "from nanoHUB.application import Application\n",
    "from nanoHUB.configuration import ClusteringConfiguration\n",
    "from nanoHUB.pipeline.geddes.data import get_default_s3_client\n",
    "from nanoHUB.dataaccess.lake import S3FileMapper\n",
    "from nanoHUB.clustering.infra import create_clusters_repository, add_cluster_info, get_all_clustered_users, get_all_self_study_users"
   ]
  },
  {
   "cell_type": "code",
   "execution_count": 3,
   "metadata": {
    "execution": {
     "iopub.execute_input": "2022-02-19T22:44:01.541127Z",
     "iopub.status.busy": "2022-02-19T22:44:01.538005Z",
     "iopub.status.idle": "2022-02-19T22:44:01.551373Z",
     "shell.execute_reply": "2022-02-19T22:44:01.546504Z",
     "shell.execute_reply.started": "2022-02-19T22:44:01.540977Z"
    },
    "tags": []
   },
   "outputs": [],
   "source": [
    "pd.set_option('display.max_columns', None)"
   ]
  },
  {
   "cell_type": "code",
   "execution_count": 4,
   "metadata": {
    "execution": {
     "iopub.execute_input": "2022-02-19T22:44:01.560208Z",
     "iopub.status.busy": "2022-02-19T22:44:01.558890Z",
     "iopub.status.idle": "2022-02-19T22:44:02.332374Z",
     "shell.execute_reply": "2022-02-19T22:44:02.330669Z",
     "shell.execute_reply.started": "2022-02-19T22:44:01.560082Z"
    },
    "tags": []
   },
   "outputs": [],
   "source": [
    "application = Application.get_instance()\n",
    "nanohub_db = application.new_db_engine('nanohub')\n",
    "nanohub_metrics_db = application.new_db_engine('nanohub_metrics')\n",
    "wang159_myrmekes_db = application.new_db_engine('rfm_data')\n",
    "\n",
    "s3_client = get_default_s3_client(application)\n",
    "derived_data_file_path = 'derived_data_for_users.csv'\n",
    "processed_mapper = S3FileMapper(s3_client, ClusteringConfiguration().bucket_name_processed)"
   ]
  },
  {
   "cell_type": "code",
   "execution_count": null,
   "metadata": {},
   "outputs": [],
   "source": []
  },
  {
   "cell_type": "markdown",
   "metadata": {
    "tags": []
   },
   "source": [
    "## Cumulative classroom/research/self-study"
   ]
  },
  {
   "cell_type": "code",
   "execution_count": 5,
   "metadata": {
    "execution": {
     "iopub.execute_input": "2022-02-19T22:44:02.336147Z",
     "iopub.status.busy": "2022-02-19T22:44:02.334528Z",
     "iopub.status.idle": "2022-02-19T22:44:21.026808Z",
     "shell.execute_reply": "2022-02-19T22:44:21.025426Z",
     "shell.execute_reply.started": "2022-02-19T22:44:02.336052Z"
    }
   },
   "outputs": [
    {
     "data": {
      "text/plain": [
       "78167"
      ]
     },
     "metadata": {},
     "output_type": "display_data"
    },
    {
     "data": {
      "text/html": [
       "<div>\n",
       "<style scoped>\n",
       "    .dataframe tbody tr th:only-of-type {\n",
       "        vertical-align: middle;\n",
       "    }\n",
       "\n",
       "    .dataframe tbody tr th {\n",
       "        vertical-align: top;\n",
       "    }\n",
       "\n",
       "    .dataframe thead th {\n",
       "        text-align: right;\n",
       "    }\n",
       "</style>\n",
       "<table border=\"1\" class=\"dataframe\">\n",
       "  <thead>\n",
       "    <tr style=\"text-align: right;\">\n",
       "      <th></th>\n",
       "      <th>id</th>\n",
       "      <th>name</th>\n",
       "      <th>username</th>\n",
       "      <th>email</th>\n",
       "      <th>registerDate</th>\n",
       "      <th>lastvisitDate</th>\n",
       "      <th>first_citation_at</th>\n",
       "      <th>number_citations</th>\n",
       "      <th>profile_key</th>\n",
       "      <th>has_researcher_profile</th>\n",
       "      <th>number_simulations</th>\n",
       "      <th>uid</th>\n",
       "      <th>clusters</th>\n",
       "      <th>mike_fall_2008</th>\n",
       "      <th>xufeng_fall_2008</th>\n",
       "      <th>mike_spring_2008</th>\n",
       "      <th>xufeng_spring_2008</th>\n",
       "      <th>mike_fall_2009</th>\n",
       "      <th>xufeng_fall_2009</th>\n",
       "      <th>mike_spring_2009</th>\n",
       "      <th>xufeng_spring_2009</th>\n",
       "      <th>mike_fall_2010</th>\n",
       "      <th>xufeng_fall_2010</th>\n",
       "      <th>mike_spring_2010</th>\n",
       "      <th>xufeng_spring_2010</th>\n",
       "      <th>mike_fall_2011</th>\n",
       "      <th>xufeng_fall_2011</th>\n",
       "      <th>mike_spring_2011</th>\n",
       "      <th>xufeng_spring_2011</th>\n",
       "      <th>mike_fall_2012</th>\n",
       "      <th>xufeng_fall_2012</th>\n",
       "      <th>mike_spring_2012</th>\n",
       "      <th>xufeng_spring_2012</th>\n",
       "      <th>mike_fall_2013</th>\n",
       "      <th>xufeng_fall_2013</th>\n",
       "      <th>mike_spring_2013</th>\n",
       "      <th>xufeng_spring_2013</th>\n",
       "      <th>mike_fall_2014</th>\n",
       "      <th>xufeng_fall_2014</th>\n",
       "      <th>mike_spring_2014</th>\n",
       "      <th>xufeng_spring_2014</th>\n",
       "      <th>mike_fall_2015</th>\n",
       "      <th>xufeng_fall_2015</th>\n",
       "      <th>mike_spring_2015</th>\n",
       "      <th>xufeng_spring_2015</th>\n",
       "      <th>mike_fall_2016</th>\n",
       "      <th>xufeng_fall_2016</th>\n",
       "      <th>mike_spring_2016</th>\n",
       "      <th>xufeng_spring_2016</th>\n",
       "      <th>mike_fall_2017</th>\n",
       "      <th>xufeng_fall_2017</th>\n",
       "      <th>mike_spring_2017</th>\n",
       "      <th>xufeng_spring_2017</th>\n",
       "      <th>mike_fall_2018</th>\n",
       "      <th>xufeng_fall_2018</th>\n",
       "      <th>mike_spring_2018</th>\n",
       "      <th>xufeng_spring_2018</th>\n",
       "      <th>mike_fall_2019</th>\n",
       "      <th>xufeng_fall_2019</th>\n",
       "      <th>mike_spring_2019</th>\n",
       "      <th>xufeng_spring_2019</th>\n",
       "      <th>mike_fall_2020</th>\n",
       "      <th>xufeng_fall_2020</th>\n",
       "      <th>mike_spring_2020</th>\n",
       "      <th>xufeng_spring_2020</th>\n",
       "      <th>mike_fall_2021</th>\n",
       "      <th>xufeng_fall_2021</th>\n",
       "      <th>nanoHUB_user_ID__c</th>\n",
       "    </tr>\n",
       "  </thead>\n",
       "  <tbody>\n",
       "    <tr>\n",
       "      <th>86</th>\n",
       "      <td>1767</td>\n",
       "      <td>Osama Munir Nayfeh</td>\n",
       "      <td>onayfeh</td>\n",
       "      <td>onayfeh@mtl.mit.edu</td>\n",
       "      <td>2005-07-29 18:24:36</td>\n",
       "      <td>2012-10-02 17:22:20</td>\n",
       "      <td>NaN</td>\n",
       "      <td>0.0</td>\n",
       "      <td>[]</td>\n",
       "      <td>False</td>\n",
       "      <td>453.0</td>\n",
       "      <td>1767.0</td>\n",
       "      <td>[mike_spring_2010]</td>\n",
       "      <td>False</td>\n",
       "      <td>False</td>\n",
       "      <td>False</td>\n",
       "      <td>False</td>\n",
       "      <td>False</td>\n",
       "      <td>False</td>\n",
       "      <td>False</td>\n",
       "      <td>False</td>\n",
       "      <td>False</td>\n",
       "      <td>False</td>\n",
       "      <td>True</td>\n",
       "      <td>False</td>\n",
       "      <td>False</td>\n",
       "      <td>False</td>\n",
       "      <td>False</td>\n",
       "      <td>False</td>\n",
       "      <td>False</td>\n",
       "      <td>False</td>\n",
       "      <td>False</td>\n",
       "      <td>False</td>\n",
       "      <td>False</td>\n",
       "      <td>False</td>\n",
       "      <td>False</td>\n",
       "      <td>False</td>\n",
       "      <td>False</td>\n",
       "      <td>False</td>\n",
       "      <td>False</td>\n",
       "      <td>False</td>\n",
       "      <td>False</td>\n",
       "      <td>False</td>\n",
       "      <td>False</td>\n",
       "      <td>False</td>\n",
       "      <td>False</td>\n",
       "      <td>False</td>\n",
       "      <td>False</td>\n",
       "      <td>False</td>\n",
       "      <td>False</td>\n",
       "      <td>False</td>\n",
       "      <td>False</td>\n",
       "      <td>False</td>\n",
       "      <td>False</td>\n",
       "      <td>False</td>\n",
       "      <td>False</td>\n",
       "      <td>False</td>\n",
       "      <td>False</td>\n",
       "      <td>False</td>\n",
       "      <td>False</td>\n",
       "      <td>False</td>\n",
       "      <td>False</td>\n",
       "      <td>False</td>\n",
       "      <td>False</td>\n",
       "      <td>False</td>\n",
       "      <td>False</td>\n",
       "      <td>False</td>\n",
       "      <td>1767</td>\n",
       "    </tr>\n",
       "    <tr>\n",
       "      <th>113</th>\n",
       "      <td>1794</td>\n",
       "      <td>Mark Ratner</td>\n",
       "      <td>mar889</td>\n",
       "      <td>ratner@northwestern.edu</td>\n",
       "      <td>2006-07-04 19:08:00</td>\n",
       "      <td>2010-08-17 14:19:36</td>\n",
       "      <td>NaN</td>\n",
       "      <td>0.0</td>\n",
       "      <td>[]</td>\n",
       "      <td>False</td>\n",
       "      <td>28.0</td>\n",
       "      <td>1794.0</td>\n",
       "      <td>[mike_fall_2010, xufeng_fall_2010]</td>\n",
       "      <td>False</td>\n",
       "      <td>False</td>\n",
       "      <td>False</td>\n",
       "      <td>False</td>\n",
       "      <td>False</td>\n",
       "      <td>False</td>\n",
       "      <td>False</td>\n",
       "      <td>False</td>\n",
       "      <td>True</td>\n",
       "      <td>True</td>\n",
       "      <td>False</td>\n",
       "      <td>False</td>\n",
       "      <td>False</td>\n",
       "      <td>False</td>\n",
       "      <td>False</td>\n",
       "      <td>False</td>\n",
       "      <td>False</td>\n",
       "      <td>False</td>\n",
       "      <td>False</td>\n",
       "      <td>False</td>\n",
       "      <td>False</td>\n",
       "      <td>False</td>\n",
       "      <td>False</td>\n",
       "      <td>False</td>\n",
       "      <td>False</td>\n",
       "      <td>False</td>\n",
       "      <td>False</td>\n",
       "      <td>False</td>\n",
       "      <td>False</td>\n",
       "      <td>False</td>\n",
       "      <td>False</td>\n",
       "      <td>False</td>\n",
       "      <td>False</td>\n",
       "      <td>False</td>\n",
       "      <td>False</td>\n",
       "      <td>False</td>\n",
       "      <td>False</td>\n",
       "      <td>False</td>\n",
       "      <td>False</td>\n",
       "      <td>False</td>\n",
       "      <td>False</td>\n",
       "      <td>False</td>\n",
       "      <td>False</td>\n",
       "      <td>False</td>\n",
       "      <td>False</td>\n",
       "      <td>False</td>\n",
       "      <td>False</td>\n",
       "      <td>False</td>\n",
       "      <td>False</td>\n",
       "      <td>False</td>\n",
       "      <td>False</td>\n",
       "      <td>False</td>\n",
       "      <td>False</td>\n",
       "      <td>False</td>\n",
       "      <td>1794</td>\n",
       "    </tr>\n",
       "    <tr>\n",
       "      <th>166</th>\n",
       "      <td>1848</td>\n",
       "      <td>Chien-Chih Lee</td>\n",
       "      <td>kevdog</td>\n",
       "      <td>cclee.ee93g@g2.nctu.edu.tw</td>\n",
       "      <td>2004-09-08 03:39:55</td>\n",
       "      <td>2012-10-19 04:20:20</td>\n",
       "      <td>NaN</td>\n",
       "      <td>0.0</td>\n",
       "      <td>[]</td>\n",
       "      <td>False</td>\n",
       "      <td>48.0</td>\n",
       "      <td>1848.0</td>\n",
       "      <td>[xufeng_spring_2011]</td>\n",
       "      <td>False</td>\n",
       "      <td>False</td>\n",
       "      <td>False</td>\n",
       "      <td>False</td>\n",
       "      <td>False</td>\n",
       "      <td>False</td>\n",
       "      <td>False</td>\n",
       "      <td>False</td>\n",
       "      <td>False</td>\n",
       "      <td>False</td>\n",
       "      <td>False</td>\n",
       "      <td>False</td>\n",
       "      <td>False</td>\n",
       "      <td>False</td>\n",
       "      <td>False</td>\n",
       "      <td>True</td>\n",
       "      <td>False</td>\n",
       "      <td>False</td>\n",
       "      <td>False</td>\n",
       "      <td>False</td>\n",
       "      <td>False</td>\n",
       "      <td>False</td>\n",
       "      <td>False</td>\n",
       "      <td>False</td>\n",
       "      <td>False</td>\n",
       "      <td>False</td>\n",
       "      <td>False</td>\n",
       "      <td>False</td>\n",
       "      <td>False</td>\n",
       "      <td>False</td>\n",
       "      <td>False</td>\n",
       "      <td>False</td>\n",
       "      <td>False</td>\n",
       "      <td>False</td>\n",
       "      <td>False</td>\n",
       "      <td>False</td>\n",
       "      <td>False</td>\n",
       "      <td>False</td>\n",
       "      <td>False</td>\n",
       "      <td>False</td>\n",
       "      <td>False</td>\n",
       "      <td>False</td>\n",
       "      <td>False</td>\n",
       "      <td>False</td>\n",
       "      <td>False</td>\n",
       "      <td>False</td>\n",
       "      <td>False</td>\n",
       "      <td>False</td>\n",
       "      <td>False</td>\n",
       "      <td>False</td>\n",
       "      <td>False</td>\n",
       "      <td>False</td>\n",
       "      <td>False</td>\n",
       "      <td>False</td>\n",
       "      <td>1848</td>\n",
       "    </tr>\n",
       "    <tr>\n",
       "      <th>170</th>\n",
       "      <td>1852</td>\n",
       "      <td>Himadri Pal</td>\n",
       "      <td>himadri</td>\n",
       "      <td>hpal@purdue.edu</td>\n",
       "      <td>2004-12-27 19:46:27</td>\n",
       "      <td>2011-09-27 23:57:43</td>\n",
       "      <td>NaN</td>\n",
       "      <td>0.0</td>\n",
       "      <td>[]</td>\n",
       "      <td>False</td>\n",
       "      <td>2102.0</td>\n",
       "      <td>1852.0</td>\n",
       "      <td>[xufeng_fall_2008, xufeng_spring_2008, xufeng_...</td>\n",
       "      <td>False</td>\n",
       "      <td>True</td>\n",
       "      <td>False</td>\n",
       "      <td>True</td>\n",
       "      <td>False</td>\n",
       "      <td>False</td>\n",
       "      <td>False</td>\n",
       "      <td>True</td>\n",
       "      <td>False</td>\n",
       "      <td>False</td>\n",
       "      <td>False</td>\n",
       "      <td>False</td>\n",
       "      <td>False</td>\n",
       "      <td>False</td>\n",
       "      <td>False</td>\n",
       "      <td>False</td>\n",
       "      <td>False</td>\n",
       "      <td>False</td>\n",
       "      <td>False</td>\n",
       "      <td>False</td>\n",
       "      <td>False</td>\n",
       "      <td>False</td>\n",
       "      <td>False</td>\n",
       "      <td>False</td>\n",
       "      <td>False</td>\n",
       "      <td>False</td>\n",
       "      <td>False</td>\n",
       "      <td>False</td>\n",
       "      <td>False</td>\n",
       "      <td>False</td>\n",
       "      <td>False</td>\n",
       "      <td>False</td>\n",
       "      <td>False</td>\n",
       "      <td>False</td>\n",
       "      <td>False</td>\n",
       "      <td>False</td>\n",
       "      <td>False</td>\n",
       "      <td>False</td>\n",
       "      <td>False</td>\n",
       "      <td>False</td>\n",
       "      <td>False</td>\n",
       "      <td>False</td>\n",
       "      <td>False</td>\n",
       "      <td>False</td>\n",
       "      <td>False</td>\n",
       "      <td>False</td>\n",
       "      <td>False</td>\n",
       "      <td>False</td>\n",
       "      <td>False</td>\n",
       "      <td>False</td>\n",
       "      <td>False</td>\n",
       "      <td>False</td>\n",
       "      <td>False</td>\n",
       "      <td>False</td>\n",
       "      <td>1852</td>\n",
       "    </tr>\n",
       "    <tr>\n",
       "      <th>227</th>\n",
       "      <td>1909</td>\n",
       "      <td>Jeff Reimers</td>\n",
       "      <td>reimers</td>\n",
       "      <td>jeffrey.reimers@uts.edu.au</td>\n",
       "      <td>2007-10-10 08:57:21</td>\n",
       "      <td>2014-07-30 05:27:59</td>\n",
       "      <td>NaN</td>\n",
       "      <td>0.0</td>\n",
       "      <td>[]</td>\n",
       "      <td>False</td>\n",
       "      <td>66.0</td>\n",
       "      <td>1909.0</td>\n",
       "      <td>[mike_fall_2010]</td>\n",
       "      <td>False</td>\n",
       "      <td>False</td>\n",
       "      <td>False</td>\n",
       "      <td>False</td>\n",
       "      <td>False</td>\n",
       "      <td>False</td>\n",
       "      <td>False</td>\n",
       "      <td>False</td>\n",
       "      <td>True</td>\n",
       "      <td>False</td>\n",
       "      <td>False</td>\n",
       "      <td>False</td>\n",
       "      <td>False</td>\n",
       "      <td>False</td>\n",
       "      <td>False</td>\n",
       "      <td>False</td>\n",
       "      <td>False</td>\n",
       "      <td>False</td>\n",
       "      <td>False</td>\n",
       "      <td>False</td>\n",
       "      <td>False</td>\n",
       "      <td>False</td>\n",
       "      <td>False</td>\n",
       "      <td>False</td>\n",
       "      <td>False</td>\n",
       "      <td>False</td>\n",
       "      <td>False</td>\n",
       "      <td>False</td>\n",
       "      <td>False</td>\n",
       "      <td>False</td>\n",
       "      <td>False</td>\n",
       "      <td>False</td>\n",
       "      <td>False</td>\n",
       "      <td>False</td>\n",
       "      <td>False</td>\n",
       "      <td>False</td>\n",
       "      <td>False</td>\n",
       "      <td>False</td>\n",
       "      <td>False</td>\n",
       "      <td>False</td>\n",
       "      <td>False</td>\n",
       "      <td>False</td>\n",
       "      <td>False</td>\n",
       "      <td>False</td>\n",
       "      <td>False</td>\n",
       "      <td>False</td>\n",
       "      <td>False</td>\n",
       "      <td>False</td>\n",
       "      <td>False</td>\n",
       "      <td>False</td>\n",
       "      <td>False</td>\n",
       "      <td>False</td>\n",
       "      <td>False</td>\n",
       "      <td>False</td>\n",
       "      <td>1909</td>\n",
       "    </tr>\n",
       "  </tbody>\n",
       "</table>\n",
       "</div>"
      ],
      "text/plain": [
       "       id                name username                       email  \\\n",
       "86   1767  Osama Munir Nayfeh  onayfeh         onayfeh@mtl.mit.edu   \n",
       "113  1794         Mark Ratner   mar889     ratner@northwestern.edu   \n",
       "166  1848      Chien-Chih Lee   kevdog  cclee.ee93g@g2.nctu.edu.tw   \n",
       "170  1852         Himadri Pal  himadri             hpal@purdue.edu   \n",
       "227  1909        Jeff Reimers  reimers  jeffrey.reimers@uts.edu.au   \n",
       "\n",
       "            registerDate        lastvisitDate first_citation_at  \\\n",
       "86   2005-07-29 18:24:36  2012-10-02 17:22:20               NaN   \n",
       "113  2006-07-04 19:08:00  2010-08-17 14:19:36               NaN   \n",
       "166  2004-09-08 03:39:55  2012-10-19 04:20:20               NaN   \n",
       "170  2004-12-27 19:46:27  2011-09-27 23:57:43               NaN   \n",
       "227  2007-10-10 08:57:21  2014-07-30 05:27:59               NaN   \n",
       "\n",
       "     number_citations profile_key  has_researcher_profile  number_simulations  \\\n",
       "86                0.0          []                   False               453.0   \n",
       "113               0.0          []                   False                28.0   \n",
       "166               0.0          []                   False                48.0   \n",
       "170               0.0          []                   False              2102.0   \n",
       "227               0.0          []                   False                66.0   \n",
       "\n",
       "        uid                                           clusters  \\\n",
       "86   1767.0                                 [mike_spring_2010]   \n",
       "113  1794.0                 [mike_fall_2010, xufeng_fall_2010]   \n",
       "166  1848.0                               [xufeng_spring_2011]   \n",
       "170  1852.0  [xufeng_fall_2008, xufeng_spring_2008, xufeng_...   \n",
       "227  1909.0                                   [mike_fall_2010]   \n",
       "\n",
       "     mike_fall_2008  xufeng_fall_2008  mike_spring_2008  xufeng_spring_2008  \\\n",
       "86            False             False             False               False   \n",
       "113           False             False             False               False   \n",
       "166           False             False             False               False   \n",
       "170           False              True             False                True   \n",
       "227           False             False             False               False   \n",
       "\n",
       "     mike_fall_2009  xufeng_fall_2009  mike_spring_2009  xufeng_spring_2009  \\\n",
       "86            False             False             False               False   \n",
       "113           False             False             False               False   \n",
       "166           False             False             False               False   \n",
       "170           False             False             False                True   \n",
       "227           False             False             False               False   \n",
       "\n",
       "     mike_fall_2010  xufeng_fall_2010  mike_spring_2010  xufeng_spring_2010  \\\n",
       "86            False             False              True               False   \n",
       "113            True              True             False               False   \n",
       "166           False             False             False               False   \n",
       "170           False             False             False               False   \n",
       "227            True             False             False               False   \n",
       "\n",
       "     mike_fall_2011  xufeng_fall_2011  mike_spring_2011  xufeng_spring_2011  \\\n",
       "86            False             False             False               False   \n",
       "113           False             False             False               False   \n",
       "166           False             False             False                True   \n",
       "170           False             False             False               False   \n",
       "227           False             False             False               False   \n",
       "\n",
       "     mike_fall_2012  xufeng_fall_2012  mike_spring_2012  xufeng_spring_2012  \\\n",
       "86            False             False             False               False   \n",
       "113           False             False             False               False   \n",
       "166           False             False             False               False   \n",
       "170           False             False             False               False   \n",
       "227           False             False             False               False   \n",
       "\n",
       "     mike_fall_2013  xufeng_fall_2013  mike_spring_2013  xufeng_spring_2013  \\\n",
       "86            False             False             False               False   \n",
       "113           False             False             False               False   \n",
       "166           False             False             False               False   \n",
       "170           False             False             False               False   \n",
       "227           False             False             False               False   \n",
       "\n",
       "     mike_fall_2014  xufeng_fall_2014  mike_spring_2014  xufeng_spring_2014  \\\n",
       "86            False             False             False               False   \n",
       "113           False             False             False               False   \n",
       "166           False             False             False               False   \n",
       "170           False             False             False               False   \n",
       "227           False             False             False               False   \n",
       "\n",
       "     mike_fall_2015  xufeng_fall_2015  mike_spring_2015  xufeng_spring_2015  \\\n",
       "86            False             False             False               False   \n",
       "113           False             False             False               False   \n",
       "166           False             False             False               False   \n",
       "170           False             False             False               False   \n",
       "227           False             False             False               False   \n",
       "\n",
       "     mike_fall_2016  xufeng_fall_2016  mike_spring_2016  xufeng_spring_2016  \\\n",
       "86            False             False             False               False   \n",
       "113           False             False             False               False   \n",
       "166           False             False             False               False   \n",
       "170           False             False             False               False   \n",
       "227           False             False             False               False   \n",
       "\n",
       "     mike_fall_2017  xufeng_fall_2017  mike_spring_2017  xufeng_spring_2017  \\\n",
       "86            False             False             False               False   \n",
       "113           False             False             False               False   \n",
       "166           False             False             False               False   \n",
       "170           False             False             False               False   \n",
       "227           False             False             False               False   \n",
       "\n",
       "     mike_fall_2018  xufeng_fall_2018  mike_spring_2018  xufeng_spring_2018  \\\n",
       "86            False             False             False               False   \n",
       "113           False             False             False               False   \n",
       "166           False             False             False               False   \n",
       "170           False             False             False               False   \n",
       "227           False             False             False               False   \n",
       "\n",
       "     mike_fall_2019  xufeng_fall_2019  mike_spring_2019  xufeng_spring_2019  \\\n",
       "86            False             False             False               False   \n",
       "113           False             False             False               False   \n",
       "166           False             False             False               False   \n",
       "170           False             False             False               False   \n",
       "227           False             False             False               False   \n",
       "\n",
       "     mike_fall_2020  xufeng_fall_2020  mike_spring_2020  xufeng_spring_2020  \\\n",
       "86            False             False             False               False   \n",
       "113           False             False             False               False   \n",
       "166           False             False             False               False   \n",
       "170           False             False             False               False   \n",
       "227           False             False             False               False   \n",
       "\n",
       "     mike_fall_2021  xufeng_fall_2021  nanoHUB_user_ID__c  \n",
       "86            False             False                1767  \n",
       "113           False             False                1794  \n",
       "166           False             False                1848  \n",
       "170           False             False                1852  \n",
       "227           False             False                1909  "
      ]
     },
     "metadata": {},
     "output_type": "display_data"
    }
   ],
   "source": [
    "clustered_NH_ids = get_all_clustered_users(processed_mapper, derived_data_file_path)\n",
    "clustered_NH_ids['nanoHUB_user_ID__c'] = clustered_NH_ids['id']\n",
    "display(len(clustered_NH_ids))\n",
    "display(clustered_NH_ids.head())"
   ]
  },
  {
   "cell_type": "code",
   "execution_count": 6,
   "metadata": {
    "execution": {
     "iopub.execute_input": "2022-02-19T22:44:21.039708Z",
     "iopub.status.busy": "2022-02-19T22:44:21.038398Z",
     "iopub.status.idle": "2022-02-19T22:44:51.123665Z",
     "shell.execute_reply": "2022-02-19T22:44:51.120630Z",
     "shell.execute_reply.started": "2022-02-19T22:44:21.039654Z"
    },
    "tags": []
   },
   "outputs": [
    {
     "data": {
      "text/plain": [
       "194524"
      ]
     },
     "metadata": {},
     "output_type": "display_data"
    },
    {
     "data": {
      "text/html": [
       "<div>\n",
       "<style scoped>\n",
       "    .dataframe tbody tr th:only-of-type {\n",
       "        vertical-align: middle;\n",
       "    }\n",
       "\n",
       "    .dataframe tbody tr th {\n",
       "        vertical-align: top;\n",
       "    }\n",
       "\n",
       "    .dataframe thead th {\n",
       "        text-align: right;\n",
       "    }\n",
       "</style>\n",
       "<table border=\"1\" class=\"dataframe\">\n",
       "  <thead>\n",
       "    <tr style=\"text-align: right;\">\n",
       "      <th></th>\n",
       "      <th>id</th>\n",
       "      <th>name</th>\n",
       "      <th>username</th>\n",
       "      <th>email</th>\n",
       "      <th>registerDate</th>\n",
       "      <th>lastvisitDate</th>\n",
       "      <th>first_citation_at</th>\n",
       "      <th>number_citations</th>\n",
       "      <th>profile_key</th>\n",
       "      <th>has_researcher_profile</th>\n",
       "      <th>number_simulations</th>\n",
       "      <th>uid</th>\n",
       "      <th>clusters</th>\n",
       "      <th>mike_fall_2008</th>\n",
       "      <th>xufeng_fall_2008</th>\n",
       "      <th>mike_spring_2008</th>\n",
       "      <th>xufeng_spring_2008</th>\n",
       "      <th>mike_fall_2009</th>\n",
       "      <th>xufeng_fall_2009</th>\n",
       "      <th>mike_spring_2009</th>\n",
       "      <th>xufeng_spring_2009</th>\n",
       "      <th>mike_fall_2010</th>\n",
       "      <th>xufeng_fall_2010</th>\n",
       "      <th>mike_spring_2010</th>\n",
       "      <th>xufeng_spring_2010</th>\n",
       "      <th>mike_fall_2011</th>\n",
       "      <th>xufeng_fall_2011</th>\n",
       "      <th>mike_spring_2011</th>\n",
       "      <th>xufeng_spring_2011</th>\n",
       "      <th>mike_fall_2012</th>\n",
       "      <th>xufeng_fall_2012</th>\n",
       "      <th>mike_spring_2012</th>\n",
       "      <th>xufeng_spring_2012</th>\n",
       "      <th>mike_fall_2013</th>\n",
       "      <th>xufeng_fall_2013</th>\n",
       "      <th>mike_spring_2013</th>\n",
       "      <th>xufeng_spring_2013</th>\n",
       "      <th>mike_fall_2014</th>\n",
       "      <th>xufeng_fall_2014</th>\n",
       "      <th>mike_spring_2014</th>\n",
       "      <th>xufeng_spring_2014</th>\n",
       "      <th>mike_fall_2015</th>\n",
       "      <th>xufeng_fall_2015</th>\n",
       "      <th>mike_spring_2015</th>\n",
       "      <th>xufeng_spring_2015</th>\n",
       "      <th>mike_fall_2016</th>\n",
       "      <th>xufeng_fall_2016</th>\n",
       "      <th>mike_spring_2016</th>\n",
       "      <th>xufeng_spring_2016</th>\n",
       "      <th>mike_fall_2017</th>\n",
       "      <th>xufeng_fall_2017</th>\n",
       "      <th>mike_spring_2017</th>\n",
       "      <th>xufeng_spring_2017</th>\n",
       "      <th>mike_fall_2018</th>\n",
       "      <th>xufeng_fall_2018</th>\n",
       "      <th>mike_spring_2018</th>\n",
       "      <th>xufeng_spring_2018</th>\n",
       "      <th>mike_fall_2019</th>\n",
       "      <th>xufeng_fall_2019</th>\n",
       "      <th>mike_spring_2019</th>\n",
       "      <th>xufeng_spring_2019</th>\n",
       "      <th>mike_fall_2020</th>\n",
       "      <th>xufeng_fall_2020</th>\n",
       "      <th>mike_spring_2020</th>\n",
       "      <th>xufeng_spring_2020</th>\n",
       "      <th>mike_fall_2021</th>\n",
       "      <th>xufeng_fall_2021</th>\n",
       "      <th>nanoHUB_user_ID__c</th>\n",
       "    </tr>\n",
       "  </thead>\n",
       "  <tbody>\n",
       "    <tr>\n",
       "      <th>0</th>\n",
       "      <td>998</td>\n",
       "      <td>hubrepo hubrepo</td>\n",
       "      <td>hubrepo</td>\n",
       "      <td>nkissebe@gmail.com</td>\n",
       "      <td>2014-11-13 21:09:09</td>\n",
       "      <td>NaN</td>\n",
       "      <td>NaN</td>\n",
       "      <td>0.0</td>\n",
       "      <td>[]</td>\n",
       "      <td>False</td>\n",
       "      <td>0.0</td>\n",
       "      <td>NaN</td>\n",
       "      <td>[]</td>\n",
       "      <td>False</td>\n",
       "      <td>False</td>\n",
       "      <td>False</td>\n",
       "      <td>False</td>\n",
       "      <td>False</td>\n",
       "      <td>False</td>\n",
       "      <td>False</td>\n",
       "      <td>False</td>\n",
       "      <td>False</td>\n",
       "      <td>False</td>\n",
       "      <td>False</td>\n",
       "      <td>False</td>\n",
       "      <td>False</td>\n",
       "      <td>False</td>\n",
       "      <td>False</td>\n",
       "      <td>False</td>\n",
       "      <td>False</td>\n",
       "      <td>False</td>\n",
       "      <td>False</td>\n",
       "      <td>False</td>\n",
       "      <td>False</td>\n",
       "      <td>False</td>\n",
       "      <td>False</td>\n",
       "      <td>False</td>\n",
       "      <td>False</td>\n",
       "      <td>False</td>\n",
       "      <td>False</td>\n",
       "      <td>False</td>\n",
       "      <td>False</td>\n",
       "      <td>False</td>\n",
       "      <td>False</td>\n",
       "      <td>False</td>\n",
       "      <td>False</td>\n",
       "      <td>False</td>\n",
       "      <td>False</td>\n",
       "      <td>False</td>\n",
       "      <td>False</td>\n",
       "      <td>False</td>\n",
       "      <td>False</td>\n",
       "      <td>False</td>\n",
       "      <td>False</td>\n",
       "      <td>False</td>\n",
       "      <td>False</td>\n",
       "      <td>False</td>\n",
       "      <td>False</td>\n",
       "      <td>False</td>\n",
       "      <td>False</td>\n",
       "      <td>False</td>\n",
       "      <td>False</td>\n",
       "      <td>False</td>\n",
       "      <td>False</td>\n",
       "      <td>False</td>\n",
       "      <td>False</td>\n",
       "      <td>False</td>\n",
       "      <td>998</td>\n",
       "    </tr>\n",
       "    <tr>\n",
       "      <th>1</th>\n",
       "      <td>1000</td>\n",
       "      <td>CMS Admin Manager</td>\n",
       "      <td>admin</td>\n",
       "      <td>support@nanohub.org</td>\n",
       "      <td>NaN</td>\n",
       "      <td>NaN</td>\n",
       "      <td>NaN</td>\n",
       "      <td>0.0</td>\n",
       "      <td>[]</td>\n",
       "      <td>False</td>\n",
       "      <td>0.0</td>\n",
       "      <td>NaN</td>\n",
       "      <td>[]</td>\n",
       "      <td>False</td>\n",
       "      <td>False</td>\n",
       "      <td>False</td>\n",
       "      <td>False</td>\n",
       "      <td>False</td>\n",
       "      <td>False</td>\n",
       "      <td>False</td>\n",
       "      <td>False</td>\n",
       "      <td>False</td>\n",
       "      <td>False</td>\n",
       "      <td>False</td>\n",
       "      <td>False</td>\n",
       "      <td>False</td>\n",
       "      <td>False</td>\n",
       "      <td>False</td>\n",
       "      <td>False</td>\n",
       "      <td>False</td>\n",
       "      <td>False</td>\n",
       "      <td>False</td>\n",
       "      <td>False</td>\n",
       "      <td>False</td>\n",
       "      <td>False</td>\n",
       "      <td>False</td>\n",
       "      <td>False</td>\n",
       "      <td>False</td>\n",
       "      <td>False</td>\n",
       "      <td>False</td>\n",
       "      <td>False</td>\n",
       "      <td>False</td>\n",
       "      <td>False</td>\n",
       "      <td>False</td>\n",
       "      <td>False</td>\n",
       "      <td>False</td>\n",
       "      <td>False</td>\n",
       "      <td>False</td>\n",
       "      <td>False</td>\n",
       "      <td>False</td>\n",
       "      <td>False</td>\n",
       "      <td>False</td>\n",
       "      <td>False</td>\n",
       "      <td>False</td>\n",
       "      <td>False</td>\n",
       "      <td>False</td>\n",
       "      <td>False</td>\n",
       "      <td>False</td>\n",
       "      <td>False</td>\n",
       "      <td>False</td>\n",
       "      <td>False</td>\n",
       "      <td>False</td>\n",
       "      <td>False</td>\n",
       "      <td>False</td>\n",
       "      <td>False</td>\n",
       "      <td>False</td>\n",
       "      <td>False</td>\n",
       "      <td>1000</td>\n",
       "    </tr>\n",
       "    <tr>\n",
       "      <th>2</th>\n",
       "      <td>1683</td>\n",
       "      <td>nanoHUB support</td>\n",
       "      <td>support</td>\n",
       "      <td>support@nanohub.org</td>\n",
       "      <td>2008-11-19 22:51:04</td>\n",
       "      <td>2008-11-19 23:55:30</td>\n",
       "      <td>NaN</td>\n",
       "      <td>0.0</td>\n",
       "      <td>[]</td>\n",
       "      <td>False</td>\n",
       "      <td>2.0</td>\n",
       "      <td>1683.0</td>\n",
       "      <td>[]</td>\n",
       "      <td>False</td>\n",
       "      <td>False</td>\n",
       "      <td>False</td>\n",
       "      <td>False</td>\n",
       "      <td>False</td>\n",
       "      <td>False</td>\n",
       "      <td>False</td>\n",
       "      <td>False</td>\n",
       "      <td>False</td>\n",
       "      <td>False</td>\n",
       "      <td>False</td>\n",
       "      <td>False</td>\n",
       "      <td>False</td>\n",
       "      <td>False</td>\n",
       "      <td>False</td>\n",
       "      <td>False</td>\n",
       "      <td>False</td>\n",
       "      <td>False</td>\n",
       "      <td>False</td>\n",
       "      <td>False</td>\n",
       "      <td>False</td>\n",
       "      <td>False</td>\n",
       "      <td>False</td>\n",
       "      <td>False</td>\n",
       "      <td>False</td>\n",
       "      <td>False</td>\n",
       "      <td>False</td>\n",
       "      <td>False</td>\n",
       "      <td>False</td>\n",
       "      <td>False</td>\n",
       "      <td>False</td>\n",
       "      <td>False</td>\n",
       "      <td>False</td>\n",
       "      <td>False</td>\n",
       "      <td>False</td>\n",
       "      <td>False</td>\n",
       "      <td>False</td>\n",
       "      <td>False</td>\n",
       "      <td>False</td>\n",
       "      <td>False</td>\n",
       "      <td>False</td>\n",
       "      <td>False</td>\n",
       "      <td>False</td>\n",
       "      <td>False</td>\n",
       "      <td>False</td>\n",
       "      <td>False</td>\n",
       "      <td>False</td>\n",
       "      <td>False</td>\n",
       "      <td>False</td>\n",
       "      <td>False</td>\n",
       "      <td>False</td>\n",
       "      <td>False</td>\n",
       "      <td>False</td>\n",
       "      <td>False</td>\n",
       "      <td>1683</td>\n",
       "    </tr>\n",
       "    <tr>\n",
       "      <th>3</th>\n",
       "      <td>1684</td>\n",
       "      <td>Grid Statistics</td>\n",
       "      <td>gridstat</td>\n",
       "      <td>gridstat@nanohub.org</td>\n",
       "      <td>2008-11-18 17:29:56</td>\n",
       "      <td>2020-02-14 18:50:14</td>\n",
       "      <td>NaN</td>\n",
       "      <td>0.0</td>\n",
       "      <td>[]</td>\n",
       "      <td>False</td>\n",
       "      <td>0.0</td>\n",
       "      <td>NaN</td>\n",
       "      <td>[]</td>\n",
       "      <td>False</td>\n",
       "      <td>False</td>\n",
       "      <td>False</td>\n",
       "      <td>False</td>\n",
       "      <td>False</td>\n",
       "      <td>False</td>\n",
       "      <td>False</td>\n",
       "      <td>False</td>\n",
       "      <td>False</td>\n",
       "      <td>False</td>\n",
       "      <td>False</td>\n",
       "      <td>False</td>\n",
       "      <td>False</td>\n",
       "      <td>False</td>\n",
       "      <td>False</td>\n",
       "      <td>False</td>\n",
       "      <td>False</td>\n",
       "      <td>False</td>\n",
       "      <td>False</td>\n",
       "      <td>False</td>\n",
       "      <td>False</td>\n",
       "      <td>False</td>\n",
       "      <td>False</td>\n",
       "      <td>False</td>\n",
       "      <td>False</td>\n",
       "      <td>False</td>\n",
       "      <td>False</td>\n",
       "      <td>False</td>\n",
       "      <td>False</td>\n",
       "      <td>False</td>\n",
       "      <td>False</td>\n",
       "      <td>False</td>\n",
       "      <td>False</td>\n",
       "      <td>False</td>\n",
       "      <td>False</td>\n",
       "      <td>False</td>\n",
       "      <td>False</td>\n",
       "      <td>False</td>\n",
       "      <td>False</td>\n",
       "      <td>False</td>\n",
       "      <td>False</td>\n",
       "      <td>False</td>\n",
       "      <td>False</td>\n",
       "      <td>False</td>\n",
       "      <td>False</td>\n",
       "      <td>False</td>\n",
       "      <td>False</td>\n",
       "      <td>False</td>\n",
       "      <td>False</td>\n",
       "      <td>False</td>\n",
       "      <td>False</td>\n",
       "      <td>False</td>\n",
       "      <td>False</td>\n",
       "      <td>False</td>\n",
       "      <td>1684</td>\n",
       "    </tr>\n",
       "    <tr>\n",
       "      <th>4</th>\n",
       "      <td>1685</td>\n",
       "      <td>NCN NCN</td>\n",
       "      <td>ncn</td>\n",
       "      <td>ncn@nanohub.org</td>\n",
       "      <td>2008-11-11 19:17:04</td>\n",
       "      <td>NaN</td>\n",
       "      <td>NaN</td>\n",
       "      <td>0.0</td>\n",
       "      <td>[]</td>\n",
       "      <td>False</td>\n",
       "      <td>0.0</td>\n",
       "      <td>NaN</td>\n",
       "      <td>[]</td>\n",
       "      <td>False</td>\n",
       "      <td>False</td>\n",
       "      <td>False</td>\n",
       "      <td>False</td>\n",
       "      <td>False</td>\n",
       "      <td>False</td>\n",
       "      <td>False</td>\n",
       "      <td>False</td>\n",
       "      <td>False</td>\n",
       "      <td>False</td>\n",
       "      <td>False</td>\n",
       "      <td>False</td>\n",
       "      <td>False</td>\n",
       "      <td>False</td>\n",
       "      <td>False</td>\n",
       "      <td>False</td>\n",
       "      <td>False</td>\n",
       "      <td>False</td>\n",
       "      <td>False</td>\n",
       "      <td>False</td>\n",
       "      <td>False</td>\n",
       "      <td>False</td>\n",
       "      <td>False</td>\n",
       "      <td>False</td>\n",
       "      <td>False</td>\n",
       "      <td>False</td>\n",
       "      <td>False</td>\n",
       "      <td>False</td>\n",
       "      <td>False</td>\n",
       "      <td>False</td>\n",
       "      <td>False</td>\n",
       "      <td>False</td>\n",
       "      <td>False</td>\n",
       "      <td>False</td>\n",
       "      <td>False</td>\n",
       "      <td>False</td>\n",
       "      <td>False</td>\n",
       "      <td>False</td>\n",
       "      <td>False</td>\n",
       "      <td>False</td>\n",
       "      <td>False</td>\n",
       "      <td>False</td>\n",
       "      <td>False</td>\n",
       "      <td>False</td>\n",
       "      <td>False</td>\n",
       "      <td>False</td>\n",
       "      <td>False</td>\n",
       "      <td>False</td>\n",
       "      <td>False</td>\n",
       "      <td>False</td>\n",
       "      <td>False</td>\n",
       "      <td>False</td>\n",
       "      <td>False</td>\n",
       "      <td>False</td>\n",
       "      <td>1685</td>\n",
       "    </tr>\n",
       "  </tbody>\n",
       "</table>\n",
       "</div>"
      ],
      "text/plain": [
       "     id               name  username                 email  \\\n",
       "0   998    hubrepo hubrepo   hubrepo    nkissebe@gmail.com   \n",
       "1  1000  CMS Admin Manager     admin   support@nanohub.org   \n",
       "2  1683    nanoHUB support   support   support@nanohub.org   \n",
       "3  1684    Grid Statistics  gridstat  gridstat@nanohub.org   \n",
       "4  1685            NCN NCN       ncn       ncn@nanohub.org   \n",
       "\n",
       "          registerDate        lastvisitDate first_citation_at  \\\n",
       "0  2014-11-13 21:09:09                  NaN               NaN   \n",
       "1                  NaN                  NaN               NaN   \n",
       "2  2008-11-19 22:51:04  2008-11-19 23:55:30               NaN   \n",
       "3  2008-11-18 17:29:56  2020-02-14 18:50:14               NaN   \n",
       "4  2008-11-11 19:17:04                  NaN               NaN   \n",
       "\n",
       "   number_citations profile_key  has_researcher_profile  number_simulations  \\\n",
       "0               0.0          []                   False                 0.0   \n",
       "1               0.0          []                   False                 0.0   \n",
       "2               0.0          []                   False                 2.0   \n",
       "3               0.0          []                   False                 0.0   \n",
       "4               0.0          []                   False                 0.0   \n",
       "\n",
       "      uid clusters  mike_fall_2008  xufeng_fall_2008  mike_spring_2008  \\\n",
       "0     NaN       []           False             False             False   \n",
       "1     NaN       []           False             False             False   \n",
       "2  1683.0       []           False             False             False   \n",
       "3     NaN       []           False             False             False   \n",
       "4     NaN       []           False             False             False   \n",
       "\n",
       "   xufeng_spring_2008  mike_fall_2009  xufeng_fall_2009  mike_spring_2009  \\\n",
       "0               False           False             False             False   \n",
       "1               False           False             False             False   \n",
       "2               False           False             False             False   \n",
       "3               False           False             False             False   \n",
       "4               False           False             False             False   \n",
       "\n",
       "   xufeng_spring_2009  mike_fall_2010  xufeng_fall_2010  mike_spring_2010  \\\n",
       "0               False           False             False             False   \n",
       "1               False           False             False             False   \n",
       "2               False           False             False             False   \n",
       "3               False           False             False             False   \n",
       "4               False           False             False             False   \n",
       "\n",
       "   xufeng_spring_2010  mike_fall_2011  xufeng_fall_2011  mike_spring_2011  \\\n",
       "0               False           False             False             False   \n",
       "1               False           False             False             False   \n",
       "2               False           False             False             False   \n",
       "3               False           False             False             False   \n",
       "4               False           False             False             False   \n",
       "\n",
       "   xufeng_spring_2011  mike_fall_2012  xufeng_fall_2012  mike_spring_2012  \\\n",
       "0               False           False             False             False   \n",
       "1               False           False             False             False   \n",
       "2               False           False             False             False   \n",
       "3               False           False             False             False   \n",
       "4               False           False             False             False   \n",
       "\n",
       "   xufeng_spring_2012  mike_fall_2013  xufeng_fall_2013  mike_spring_2013  \\\n",
       "0               False           False             False             False   \n",
       "1               False           False             False             False   \n",
       "2               False           False             False             False   \n",
       "3               False           False             False             False   \n",
       "4               False           False             False             False   \n",
       "\n",
       "   xufeng_spring_2013  mike_fall_2014  xufeng_fall_2014  mike_spring_2014  \\\n",
       "0               False           False             False             False   \n",
       "1               False           False             False             False   \n",
       "2               False           False             False             False   \n",
       "3               False           False             False             False   \n",
       "4               False           False             False             False   \n",
       "\n",
       "   xufeng_spring_2014  mike_fall_2015  xufeng_fall_2015  mike_spring_2015  \\\n",
       "0               False           False             False             False   \n",
       "1               False           False             False             False   \n",
       "2               False           False             False             False   \n",
       "3               False           False             False             False   \n",
       "4               False           False             False             False   \n",
       "\n",
       "   xufeng_spring_2015  mike_fall_2016  xufeng_fall_2016  mike_spring_2016  \\\n",
       "0               False           False             False             False   \n",
       "1               False           False             False             False   \n",
       "2               False           False             False             False   \n",
       "3               False           False             False             False   \n",
       "4               False           False             False             False   \n",
       "\n",
       "   xufeng_spring_2016  mike_fall_2017  xufeng_fall_2017  mike_spring_2017  \\\n",
       "0               False           False             False             False   \n",
       "1               False           False             False             False   \n",
       "2               False           False             False             False   \n",
       "3               False           False             False             False   \n",
       "4               False           False             False             False   \n",
       "\n",
       "   xufeng_spring_2017  mike_fall_2018  xufeng_fall_2018  mike_spring_2018  \\\n",
       "0               False           False             False             False   \n",
       "1               False           False             False             False   \n",
       "2               False           False             False             False   \n",
       "3               False           False             False             False   \n",
       "4               False           False             False             False   \n",
       "\n",
       "   xufeng_spring_2018  mike_fall_2019  xufeng_fall_2019  mike_spring_2019  \\\n",
       "0               False           False             False             False   \n",
       "1               False           False             False             False   \n",
       "2               False           False             False             False   \n",
       "3               False           False             False             False   \n",
       "4               False           False             False             False   \n",
       "\n",
       "   xufeng_spring_2019  mike_fall_2020  xufeng_fall_2020  mike_spring_2020  \\\n",
       "0               False           False             False             False   \n",
       "1               False           False             False             False   \n",
       "2               False           False             False             False   \n",
       "3               False           False             False             False   \n",
       "4               False           False             False             False   \n",
       "\n",
       "   xufeng_spring_2020  mike_fall_2021  xufeng_fall_2021  nanoHUB_user_ID__c  \n",
       "0               False           False             False                 998  \n",
       "1               False           False             False                1000  \n",
       "2               False           False             False                1683  \n",
       "3               False           False             False                1684  \n",
       "4               False           False             False                1685  "
      ]
     },
     "metadata": {},
     "output_type": "display_data"
    }
   ],
   "source": [
    "self_study_NH_ids = get_all_self_study_users(processed_mapper, derived_data_file_path)\n",
    "self_study_NH_ids['nanoHUB_user_ID__c'] = self_study_NH_ids['id']\n",
    "display(len(self_study_NH_ids))\n",
    "display(self_study_NH_ids.head())"
   ]
  },
  {
   "cell_type": "code",
   "execution_count": 7,
   "metadata": {
    "execution": {
     "iopub.execute_input": "2022-02-19T22:44:51.146273Z",
     "iopub.status.busy": "2022-02-19T22:44:51.132116Z",
     "iopub.status.idle": "2022-02-19T22:44:51.171706Z",
     "shell.execute_reply": "2022-02-19T22:44:51.166846Z",
     "shell.execute_reply.started": "2022-02-19T22:44:51.141642Z"
    },
    "tags": []
   },
   "outputs": [
    {
     "name": "stdout",
     "output_type": "stream",
     "text": [
      "(78167, 68)\n",
      "(194524, 68)\n"
     ]
    }
   ],
   "source": [
    "print(clustered_NH_ids.shape)\n",
    "print(self_study_NH_ids.shape)"
   ]
  },
  {
   "cell_type": "code",
   "execution_count": 8,
   "metadata": {
    "execution": {
     "iopub.execute_input": "2022-02-19T22:44:51.174050Z",
     "iopub.status.busy": "2022-02-19T22:44:51.173666Z",
     "iopub.status.idle": "2022-02-19T22:44:51.201712Z",
     "shell.execute_reply": "2022-02-19T22:44:51.198853Z",
     "shell.execute_reply.started": "2022-02-19T22:44:51.174009Z"
    },
    "tags": []
   },
   "outputs": [],
   "source": [
    "## need to filter self-study-nh-ids with the researchers"
   ]
  },
  {
   "cell_type": "code",
   "execution_count": 9,
   "metadata": {
    "execution": {
     "iopub.execute_input": "2022-02-19T22:44:51.205693Z",
     "iopub.status.busy": "2022-02-19T22:44:51.205182Z",
     "iopub.status.idle": "2022-02-19T22:44:51.226688Z",
     "shell.execute_reply": "2022-02-19T22:44:51.224175Z",
     "shell.execute_reply.started": "2022-02-19T22:44:51.205655Z"
    },
    "tags": []
   },
   "outputs": [],
   "source": [
    "## This researcher determination is based entirely on the results of research authors on nanohub\n",
    "## i.e., we use the researcher information on db2"
   ]
  },
  {
   "cell_type": "code",
   "execution_count": 10,
   "metadata": {
    "execution": {
     "iopub.execute_input": "2022-02-19T22:44:51.240289Z",
     "iopub.status.busy": "2022-02-19T22:44:51.237950Z",
     "iopub.status.idle": "2022-02-19T22:44:52.133568Z",
     "shell.execute_reply": "2022-02-19T22:44:52.131899Z",
     "shell.execute_reply.started": "2022-02-19T22:44:51.240227Z"
    },
    "tags": []
   },
   "outputs": [
    {
     "data": {
      "text/html": [
       "<div>\n",
       "<style scoped>\n",
       "    .dataframe tbody tr th:only-of-type {\n",
       "        vertical-align: middle;\n",
       "    }\n",
       "\n",
       "    .dataframe tbody tr th {\n",
       "        vertical-align: top;\n",
       "    }\n",
       "\n",
       "    .dataframe thead th {\n",
       "        text-align: right;\n",
       "    }\n",
       "</style>\n",
       "<table border=\"1\" class=\"dataframe\">\n",
       "  <thead>\n",
       "    <tr style=\"text-align: right;\">\n",
       "      <th></th>\n",
       "      <th>id</th>\n",
       "      <th>uid</th>\n",
       "      <th>author</th>\n",
       "    </tr>\n",
       "  </thead>\n",
       "  <tbody>\n",
       "    <tr>\n",
       "      <th>0</th>\n",
       "      <td>10000001</td>\n",
       "      <td>5568</td>\n",
       "      <td>Weber, Bent; Mahapatra, Suddhasatta; Ryu, Hoon...</td>\n",
       "    </tr>\n",
       "    <tr>\n",
       "      <th>1</th>\n",
       "      <td>10000002</td>\n",
       "      <td>5568</td>\n",
       "      <td>Andrawis, Robert; Bermeo, Jose; Charles, James...</td>\n",
       "    </tr>\n",
       "  </tbody>\n",
       "</table>\n",
       "</div>"
      ],
      "text/plain": [
       "         id   uid                                             author\n",
       "0  10000001  5568  Weber, Bent; Mahapatra, Suddhasatta; Ryu, Hoon...\n",
       "1  10000002  5568  Andrawis, Robert; Bermeo, Jose; Charles, James..."
      ]
     },
     "metadata": {},
     "output_type": "display_data"
    },
    {
     "name": "stdout",
     "output_type": "stream",
     "text": [
      "(4203, 3)\n"
     ]
    }
   ],
   "source": [
    "sql_query = 'select id, uid, author from jos_citations'\n",
    "jos_citations = pd.read_sql_query(sql_query, nanohub_db)\n",
    "display(jos_citations.head(2))\n",
    "print(jos_citations.shape)"
   ]
  },
  {
   "cell_type": "code",
   "execution_count": 11,
   "metadata": {
    "execution": {
     "iopub.execute_input": "2022-02-19T22:44:52.138691Z",
     "iopub.status.busy": "2022-02-19T22:44:52.136437Z",
     "iopub.status.idle": "2022-02-19T22:44:52.149066Z",
     "shell.execute_reply": "2022-02-19T22:44:52.147520Z",
     "shell.execute_reply.started": "2022-02-19T22:44:52.138605Z"
    },
    "tags": []
   },
   "outputs": [],
   "source": [
    "t1_authors = jos_citations['author'].to_list()\n",
    "t1_authors2 = [] #[j.split(';') for i,j in enumerate(t1_authors)]"
   ]
  },
  {
   "cell_type": "code",
   "execution_count": 12,
   "metadata": {
    "execution": {
     "iopub.execute_input": "2022-02-19T22:44:52.154795Z",
     "iopub.status.busy": "2022-02-19T22:44:52.153877Z",
     "iopub.status.idle": "2022-02-19T22:44:52.172167Z",
     "shell.execute_reply": "2022-02-19T22:44:52.170766Z",
     "shell.execute_reply.started": "2022-02-19T22:44:52.154767Z"
    },
    "tags": []
   },
   "outputs": [],
   "source": [
    "for i,j in enumerate(t1_authors):\n",
    "    try:\n",
    "        holder = j.split(';')\n",
    "        if len(holder) > 1: \n",
    "            for k,l in enumerate(holder):\n",
    "                if l[0] == ' ':\n",
    "                    holder[k] = l[1:]\n",
    "        t1_authors2.append(holder)\n",
    "    except:\n",
    "        garb = True"
   ]
  },
  {
   "cell_type": "code",
   "execution_count": 14,
   "metadata": {
    "execution": {
     "iopub.execute_input": "2022-02-19T22:45:18.264750Z",
     "iopub.status.busy": "2022-02-19T22:45:18.261639Z",
     "iopub.status.idle": "2022-02-19T22:45:18.302213Z",
     "shell.execute_reply": "2022-02-19T22:45:18.292307Z",
     "shell.execute_reply.started": "2022-02-19T22:45:18.264692Z"
    },
    "tags": []
   },
   "outputs": [
    {
     "name": "stdout",
     "output_type": "stream",
     "text": [
      "6860\n"
     ]
    }
   ],
   "source": [
    "t1_authors32 = [item for sublist in t1_authors2 for item in sublist]\n",
    "t1_authors3 = set(t1_authors32)\n",
    "print(len(t1_authors3))"
   ]
  },
  {
   "cell_type": "code",
   "execution_count": 15,
   "metadata": {
    "execution": {
     "iopub.execute_input": "2022-02-19T22:45:18.321295Z",
     "iopub.status.busy": "2022-02-19T22:45:18.317274Z",
     "iopub.status.idle": "2022-02-19T22:45:18.341033Z",
     "shell.execute_reply": "2022-02-19T22:45:18.337001Z",
     "shell.execute_reply.started": "2022-02-19T22:45:18.321060Z"
    },
    "tags": []
   },
   "outputs": [],
   "source": [
    "## extract all researchers with nh ids\n",
    "rw_ids = []\n",
    "need_search = []\n",
    "for i,j in enumerate(t1_authors3):\n",
    "    if '{{' in j:\n",
    "        rw_ids.append(i)\n",
    "    else:\n",
    "        need_search.append(i)"
   ]
  },
  {
   "cell_type": "code",
   "execution_count": 18,
   "metadata": {
    "execution": {
     "iopub.execute_input": "2022-02-19T22:46:05.198434Z",
     "iopub.status.busy": "2022-02-19T22:46:05.195009Z",
     "iopub.status.idle": "2022-02-19T22:46:05.235866Z",
     "shell.execute_reply": "2022-02-19T22:46:05.235130Z",
     "shell.execute_reply.started": "2022-02-19T22:46:05.198265Z"
    },
    "tags": []
   },
   "outputs": [
    {
     "name": "stdout",
     "output_type": "stream",
     "text": [
      "2079\n"
     ]
    }
   ],
   "source": [
    "## from the rw_ids, extract the nanohub userids\n",
    "# can obtain usernames from the DB2 table\n",
    "rw_ids2 = np.array(list(t1_authors3))[rw_ids]\n",
    "for i,j in enumerate(rw_ids2):\n",
    "    begin = j.index('{{')\n",
    "    rw_ids2[i] = j[begin+2:-2]\n",
    "print(len(rw_ids2))"
   ]
  },
  {
   "cell_type": "code",
   "execution_count": 19,
   "metadata": {
    "execution": {
     "iopub.execute_input": "2022-02-19T22:46:05.239835Z",
     "iopub.status.busy": "2022-02-19T22:46:05.237770Z",
     "iopub.status.idle": "2022-02-19T22:46:05.458044Z",
     "shell.execute_reply": "2022-02-19T22:46:05.456332Z",
     "shell.execute_reply.started": "2022-02-19T22:46:05.239793Z"
    },
    "tags": []
   },
   "outputs": [
    {
     "data": {
      "text/html": [
       "<div>\n",
       "<style scoped>\n",
       "    .dataframe tbody tr th:only-of-type {\n",
       "        vertical-align: middle;\n",
       "    }\n",
       "\n",
       "    .dataframe tbody tr th {\n",
       "        vertical-align: top;\n",
       "    }\n",
       "\n",
       "    .dataframe thead th {\n",
       "        text-align: right;\n",
       "    }\n",
       "</style>\n",
       "<table border=\"1\" class=\"dataframe\">\n",
       "  <thead>\n",
       "    <tr style=\"text-align: right;\">\n",
       "      <th></th>\n",
       "      <th>id</th>\n",
       "      <th>name</th>\n",
       "      <th>username</th>\n",
       "    </tr>\n",
       "  </thead>\n",
       "  <tbody>\n",
       "    <tr>\n",
       "      <th>0</th>\n",
       "      <td>1742</td>\n",
       "      <td>H.-S. Philip Wong</td>\n",
       "      <td>hspwong</td>\n",
       "    </tr>\n",
       "    <tr>\n",
       "      <th>1</th>\n",
       "      <td>1767</td>\n",
       "      <td>Osama Munir Nayfeh</td>\n",
       "      <td>onayfeh</td>\n",
       "    </tr>\n",
       "  </tbody>\n",
       "</table>\n",
       "</div>"
      ],
      "text/plain": [
       "     id                name username\n",
       "0  1742   H.-S. Philip Wong  hspwong\n",
       "1  1767  Osama Munir Nayfeh  onayfeh"
      ]
     },
     "metadata": {},
     "output_type": "display_data"
    }
   ],
   "source": [
    "# need to obtain usernames\n",
    "sql_query = \"select id,name,username from jos_users where id in \"+str(tuple(rw_ids2))\n",
    "rw_researchers = pd.read_sql_query(sql_query,nanohub_db)\n",
    "display(rw_researchers.head(2))"
   ]
  },
  {
   "cell_type": "code",
   "execution_count": 20,
   "metadata": {
    "execution": {
     "iopub.execute_input": "2022-02-19T22:46:05.462492Z",
     "iopub.status.busy": "2022-02-19T22:46:05.461956Z",
     "iopub.status.idle": "2022-02-19T22:46:05.478214Z",
     "shell.execute_reply": "2022-02-19T22:46:05.476937Z",
     "shell.execute_reply.started": "2022-02-19T22:46:05.462374Z"
    },
    "tags": []
   },
   "outputs": [],
   "source": [
    "## need to obtain the username/ids from those people without nh ids explicitly spec'd in jos_citations\n",
    "ns2 = np.array(list(t1_authors3))[need_search]\n",
    "ns2 = ns2[1:]"
   ]
  },
  {
   "cell_type": "code",
   "execution_count": 21,
   "metadata": {
    "execution": {
     "iopub.execute_input": "2022-02-19T22:46:05.482049Z",
     "iopub.status.busy": "2022-02-19T22:46:05.480197Z",
     "iopub.status.idle": "2022-02-19T22:46:05.492141Z",
     "shell.execute_reply": "2022-02-19T22:46:05.490377Z",
     "shell.execute_reply.started": "2022-02-19T22:46:05.481939Z"
    },
    "tags": []
   },
   "outputs": [
    {
     "data": {
      "text/plain": [
       "('Archana Tankasala',\n",
       " 'Massimo Poncino',\n",
       " 'Patrizio Graziosi',\n",
       " 'Firdaus Muhammad-Sukki',\n",
       " 'Brion Bob')"
      ]
     },
     "execution_count": 21,
     "metadata": {},
     "output_type": "execute_result"
    }
   ],
   "source": [
    "tuple(ns2)[:5]"
   ]
  },
  {
   "cell_type": "code",
   "execution_count": 22,
   "metadata": {
    "execution": {
     "iopub.execute_input": "2022-02-19T22:46:05.497445Z",
     "iopub.status.busy": "2022-02-19T22:46:05.495896Z",
     "iopub.status.idle": "2022-02-19T22:46:06.749131Z",
     "shell.execute_reply": "2022-02-19T22:46:06.746422Z",
     "shell.execute_reply.started": "2022-02-19T22:46:05.497396Z"
    },
    "tags": []
   },
   "outputs": [
    {
     "data": {
      "text/html": [
       "<div>\n",
       "<style scoped>\n",
       "    .dataframe tbody tr th:only-of-type {\n",
       "        vertical-align: middle;\n",
       "    }\n",
       "\n",
       "    .dataframe tbody tr th {\n",
       "        vertical-align: top;\n",
       "    }\n",
       "\n",
       "    .dataframe thead th {\n",
       "        text-align: right;\n",
       "    }\n",
       "</style>\n",
       "<table border=\"1\" class=\"dataframe\">\n",
       "  <thead>\n",
       "    <tr style=\"text-align: right;\">\n",
       "      <th></th>\n",
       "      <th>id</th>\n",
       "      <th>name</th>\n",
       "      <th>username</th>\n",
       "    </tr>\n",
       "  </thead>\n",
       "  <tbody>\n",
       "    <tr>\n",
       "      <th>0</th>\n",
       "      <td>282167</td>\n",
       "      <td>Aarthi Narayanan</td>\n",
       "      <td>aarthin0102</td>\n",
       "    </tr>\n",
       "    <tr>\n",
       "      <th>1</th>\n",
       "      <td>280280</td>\n",
       "      <td>Abani Patra</td>\n",
       "      <td>apatra01</td>\n",
       "    </tr>\n",
       "  </tbody>\n",
       "</table>\n",
       "</div>"
      ],
      "text/plain": [
       "       id              name     username\n",
       "0  282167  Aarthi Narayanan  aarthin0102\n",
       "1  280280       Abani Patra     apatra01"
      ]
     },
     "metadata": {},
     "output_type": "display_data"
    }
   ],
   "source": [
    "sql_query = \"select id,name,username from jos_users where name in \"+str(tuple(ns2))\n",
    "ns2_researchers = pd.read_sql_query(sql_query,nanohub_db)\n",
    "display(ns2_researchers.head(2))"
   ]
  },
  {
   "cell_type": "code",
   "execution_count": 23,
   "metadata": {
    "execution": {
     "iopub.execute_input": "2022-02-19T22:46:06.755803Z",
     "iopub.status.busy": "2022-02-19T22:46:06.752793Z",
     "iopub.status.idle": "2022-02-19T22:46:06.770637Z",
     "shell.execute_reply": "2022-02-19T22:46:06.768603Z",
     "shell.execute_reply.started": "2022-02-19T22:46:06.755717Z"
    },
    "tags": []
   },
   "outputs": [
    {
     "name": "stdout",
     "output_type": "stream",
     "text": [
      "3046\n"
     ]
    }
   ],
   "source": [
    "## combine the usernames into one data structure\n",
    "researcher_usernames = rw_researchers['username'].to_list() + ns2_researchers['username'].to_list()\n",
    "print(len(researcher_usernames))"
   ]
  },
  {
   "cell_type": "code",
   "execution_count": 24,
   "metadata": {
    "execution": {
     "iopub.execute_input": "2022-02-19T22:46:06.775246Z",
     "iopub.status.busy": "2022-02-19T22:46:06.773277Z",
     "iopub.status.idle": "2022-02-19T22:46:06.784169Z",
     "shell.execute_reply": "2022-02-19T22:46:06.782307Z",
     "shell.execute_reply.started": "2022-02-19T22:46:06.775199Z"
    },
    "tags": []
   },
   "outputs": [],
   "source": [
    "researcher_track = []"
   ]
  },
  {
   "cell_type": "code",
   "execution_count": 25,
   "metadata": {
    "execution": {
     "iopub.execute_input": "2022-02-19T22:46:06.788157Z",
     "iopub.status.busy": "2022-02-19T22:46:06.787580Z",
     "iopub.status.idle": "2022-02-19T22:46:06.800375Z",
     "shell.execute_reply": "2022-02-19T22:46:06.799001Z",
     "shell.execute_reply.started": "2022-02-19T22:46:06.788112Z"
    },
    "tags": []
   },
   "outputs": [
    {
     "name": "stdout",
     "output_type": "stream",
     "text": [
      "2022-02-19 22:46:06.795077\n"
     ]
    }
   ],
   "source": [
    "today = datetime.datetime.today()\n",
    "print(today)"
   ]
  },
  {
   "cell_type": "code",
   "execution_count": 26,
   "metadata": {
    "execution": {
     "iopub.execute_input": "2022-02-19T22:46:06.803752Z",
     "iopub.status.busy": "2022-02-19T22:46:06.802138Z",
     "iopub.status.idle": "2022-02-19T22:46:06.816332Z",
     "shell.execute_reply": "2022-02-19T22:46:06.814319Z",
     "shell.execute_reply.started": "2022-02-19T22:46:06.803710Z"
    }
   },
   "outputs": [],
   "source": [
    "## caching check \n",
    "try:\n",
    "    user_breakdown_df = pd.read_csv(cwd+'/cached_data/nh_user_breakdown.csv')\n",
    "    print(user_breakdown_df)\n",
    "    cache_flag = True\n",
    "except:\n",
    "    cache_flag = False"
   ]
  },
  {
   "cell_type": "code",
   "execution_count": 27,
   "metadata": {
    "execution": {
     "iopub.execute_input": "2022-02-19T22:46:06.830498Z",
     "iopub.status.busy": "2022-02-19T22:46:06.820599Z",
     "iopub.status.idle": "2022-02-19T22:46:06.849493Z",
     "shell.execute_reply": "2022-02-19T22:46:06.842460Z",
     "shell.execute_reply.started": "2022-02-19T22:46:06.830346Z"
    },
    "tags": []
   },
   "outputs": [],
   "source": [
    "## determine starting year\n",
    "#if cache_flag == False:\n",
    "start_year_base = 1999 #2000\n",
    "#else:\n",
    "#     print('check the saved file')\n",
    "#    start_year_base = int(user_breakdown_df['year_month'].to_list()[-1][:4])\n",
    "    \n",
    "    "
   ]
  },
  {
   "cell_type": "code",
   "execution_count": 29,
   "metadata": {
    "execution": {
     "iopub.execute_input": "2022-02-19T22:48:57.861557Z",
     "iopub.status.busy": "2022-02-19T22:48:57.860430Z",
     "iopub.status.idle": "2022-02-19T22:48:57.887968Z",
     "shell.execute_reply": "2022-02-19T22:48:57.879591Z",
     "shell.execute_reply.started": "2022-02-19T22:48:57.861475Z"
    },
    "tags": []
   },
   "outputs": [],
   "source": [
    "#print(user_breakdown_df['year_month'].to_list()[-1][:4])"
   ]
  },
  {
   "cell_type": "code",
   "execution_count": 30,
   "metadata": {
    "execution": {
     "iopub.execute_input": "2022-02-19T22:48:57.895322Z",
     "iopub.status.busy": "2022-02-19T22:48:57.894321Z",
     "iopub.status.idle": "2022-02-19T22:48:57.906520Z",
     "shell.execute_reply": "2022-02-19T22:48:57.903954Z",
     "shell.execute_reply.started": "2022-02-19T22:48:57.895246Z"
    },
    "tags": []
   },
   "outputs": [],
   "source": [
    "from copy import deepcopy"
   ]
  },
  {
   "cell_type": "code",
   "execution_count": null,
   "metadata": {
    "execution": {
     "iopub.execute_input": "2022-02-19T22:48:57.912283Z",
     "iopub.status.busy": "2022-02-19T22:48:57.910999Z"
    },
    "tags": []
   },
   "outputs": [
    {
     "name": "stdout",
     "output_type": "stream",
     "text": [
      "start year: 2000\n",
      "start year: 2001\n",
      "start year: 2002\n",
      "start year: 2003\n",
      "start year: 2004\n",
      "start year: 2005\n",
      "start year: 2006\n",
      "start year: 2007\n",
      "start year: 2008\n",
      "start year: 2009\n",
      "start year: 2010\n",
      "start year: 2011\n",
      "start year: 2012\n",
      "start year: 2013\n"
     ]
    }
   ],
   "source": [
    "## computer has memory limits, so split toolstart into branches\n",
    "# this filters and finds the research usage in nanohub\n",
    "start_year = deepcopy(start_year_base)\n",
    "while start_year < today.year+1:\n",
    "    start_year += 1\n",
    "    end_date = r\"'\"+str(start_year)+r\"-01-01'\"\n",
    "    start_date = r\"'\"+str(start_year-2)+r\"-01-01'\"\n",
    "    \n",
    "    for i in range(1,13):\n",
    "        if i < 10:\n",
    "            start_date = r\"'\"+str(start_year-1)+r\"-0\"+str(i)+r\"-01'\"\n",
    "            end_date = r\"'\"+str(start_year)+r\"-0\"+str(i)+r\"-01'\"\n",
    "        else:\n",
    "            start_date = r\"'\"+str(start_year-1)+r\"-\"+str(i)+r\"-01'\"\n",
    "            end_date = r\"'\"+str(start_year)+r\"-\"+str(i)+r\"-01'\"\n",
    "\n",
    "        sql_query_researcher = \"select user from toolstart where user in \" + str(tuple(researcher_usernames))\\\n",
    "            +\" and datetime <= \"+end_date+\" and datetime >= \"+start_date\n",
    "        researcher_users = pd.read_sql_query(sql_query_researcher, nanohub_metrics_db)\n",
    "\n",
    "        researcher_track.append(researcher_users.drop_duplicates().shape[0])\n",
    "\n",
    "    print('start year: '+ str(start_year))"
   ]
  },
  {
   "cell_type": "code",
   "execution_count": null,
   "metadata": {
    "tags": []
   },
   "outputs": [],
   "source": [
    "## filter the self study folks against those of researchers\n",
    "# need to pull the researcher sf ids"
   ]
  },
  {
   "cell_type": "code",
   "execution_count": null,
   "metadata": {
    "tags": []
   },
   "outputs": [],
   "source": [
    "researcher_ids = rw_researchers['id'].to_list() + ns2_researchers['id'].to_list()\n",
    "print(len(researcher_ids))"
   ]
  },
  {
   "cell_type": "code",
   "execution_count": null,
   "metadata": {
    "tags": []
   },
   "outputs": [],
   "source": [
    "bool_search2 = np.in1d(np.array(self_study_NH_ids.to_list()),np.array(researcher_ids))"
   ]
  },
  {
   "cell_type": "code",
   "execution_count": null,
   "metadata": {
    "tags": []
   },
   "outputs": [],
   "source": [
    "# Note, researchers can possibly be doubled counted within clusters!!\n",
    "# sf_researchers = np.where(bool_search2)[0].tolist() \n",
    "sf_self_study = np.where(~bool_search2)[0].tolist()"
   ]
  },
  {
   "cell_type": "code",
   "execution_count": null,
   "metadata": {
    "tags": []
   },
   "outputs": [],
   "source": [
    "print(len(sf_self_study))\n",
    "print(len(self_study_NH_ids.to_list()))"
   ]
  },
  {
   "cell_type": "code",
   "execution_count": null,
   "metadata": {
    "tags": []
   },
   "outputs": [],
   "source": [
    "sf_contact_ids = contacts_df['nanoHUB_user_ID__c'][sf_self_study]"
   ]
  },
  {
   "cell_type": "code",
   "execution_count": null,
   "metadata": {
    "tags": []
   },
   "outputs": [],
   "source": [
    "sf_contact_ids = sf_contact_ids.reset_index()\n",
    "sf_contact_ids = sf_contact_ids.drop(columns='index')\n",
    "display(sf_contact_ids)"
   ]
  },
  {
   "cell_type": "code",
   "execution_count": null,
   "metadata": {
    "tags": []
   },
   "outputs": [],
   "source": [
    "tuple(sf_contact_ids['nanoHUB_user_ID__c'])[:5]"
   ]
  },
  {
   "cell_type": "code",
   "execution_count": null,
   "metadata": {
    "tags": []
   },
   "outputs": [],
   "source": [
    "tuple(self_study_NH_ids.dropna().to_list())[:5]"
   ]
  },
  {
   "cell_type": "code",
   "execution_count": null,
   "metadata": {
    "tags": []
   },
   "outputs": [],
   "source": [
    "## loading in toolstart"
   ]
  },
  {
   "cell_type": "code",
   "execution_count": null,
   "metadata": {
    "tags": []
   },
   "outputs": [],
   "source": [
    "# clustered user usernames\n",
    "tc_query = 'select id,username from jos_users where id in ' +str(tuple(clustered_NH_ids))\n",
    "clustered_NH_username = pd.read_sql_query(tc_query,nanohub_db)"
   ]
  },
  {
   "cell_type": "code",
   "execution_count": null,
   "metadata": {
    "tags": []
   },
   "outputs": [],
   "source": [
    "# self study user usernames\n",
    "ts_query = 'select id,username from jos_users where id in ' + str(tuple(self_study_NH_ids.dropna().to_list())) \n",
    "#sf_contact_ids['nanoHUB_user_ID__c']))\n",
    "ss_NH_username = pd.read_sql_query(ts_query,nanohub_db)"
   ]
  },
  {
   "cell_type": "code",
   "execution_count": null,
   "metadata": {
    "tags": []
   },
   "outputs": [],
   "source": [
    "## cache the researchers, self-study, and clustered users\n",
    "cache_r_nhid = pd.DataFrame()\n",
    "cache_r_nhid['nhid'] = researcher_ids\n",
    "\n",
    "cache_ss_nhid = pd.DataFrame()\n",
    "cache_ss_nhid['nhid'] = ss_NH_username['id']\n",
    "cache_ss_nhid['username'] = ss_NH_username['username']\n",
    "\n",
    "cache_c_nhid = pd.DataFrame()\n",
    "cache_c_nhid['nhid'] = clustered_NH_username['id']\n",
    "cache_c_nhid['username'] = clustered_NH_username['username']"
   ]
  },
  {
   "cell_type": "code",
   "execution_count": null,
   "metadata": {
    "tags": []
   },
   "outputs": [],
   "source": [
    "print(cache_r_nhid.head(2))\n",
    "print(cache_ss_nhid.head(2))\n",
    "print(cache_c_nhid.head(2))"
   ]
  },
  {
   "cell_type": "code",
   "execution_count": null,
   "metadata": {
    "tags": []
   },
   "outputs": [],
   "source": [
    "cache_r_nhid.to_csv(cwd+'/cached_data/researcher_ids.csv')\n",
    "cache_ss_nhid.to_csv(cwd+'/cached_data/ss_ids.csv')\n",
    "cache_c_nhid.to_csv(cwd+'/cached_data/class_ids.csv')"
   ]
  },
  {
   "cell_type": "code",
   "execution_count": null,
   "metadata": {},
   "outputs": [],
   "source": []
  },
  {
   "cell_type": "code",
   "execution_count": null,
   "metadata": {
    "tags": []
   },
   "outputs": [],
   "source": [
    "# clustered_NH_username2;researcher_NH_username2;self_NH_username2\n",
    "clustered_track = []\n",
    "self_track = []\n",
    "\n",
    "# clustered_track_per = []\n",
    "# self_track_per = []\n",
    "# researcher_track_per = []"
   ]
  },
  {
   "cell_type": "code",
   "execution_count": null,
   "metadata": {
    "tags": []
   },
   "outputs": [],
   "source": [
    "ss_NH_username.shape #old"
   ]
  },
  {
   "cell_type": "code",
   "execution_count": null,
   "metadata": {},
   "outputs": [],
   "source": []
  },
  {
   "cell_type": "code",
   "execution_count": null,
   "metadata": {
    "tags": []
   },
   "outputs": [],
   "source": [
    "## computer has memory limits, so split toolstart into branches\n",
    "start_year = deepcopy(start_year_base)\n",
    "\n",
    "while start_year < today.year+1:\n",
    "    start_year += 1\n",
    "    \n",
    "    for i in range(1,13):\n",
    "        if i < 10:\n",
    "            start_date = r\"'\"+str(start_year-1)+r\"-0\"+str(i)+r\"-01'\"\n",
    "            end_date = r\"'\"+str(start_year)+r\"-0\"+str(i)+r\"-01'\"\n",
    "        else:\n",
    "            start_date = r\"'\"+str(start_year-1)+r\"-\"+str(i)+r\"-01'\"\n",
    "            end_date = r\"'\"+str(start_year)+r\"-\"+str(i)+r\"-01'\"\n",
    "        \n",
    "#         sql_query_clustered = \"select user from toolstart where user in \" + str(tuple(clustered_NH_username2['username']))\\\n",
    "#             +\" and datetime <= \"+end_date+\" and datetime >= \"+start_date\n",
    "        sql_query_clustered = \"select user from toolstart where user in \" + str(tuple(clustered_NH_username['username']))\\\n",
    "            +\" and datetime <= \"+end_date+\" and datetime >= \"+start_date\n",
    "        clustered_users = pd.read_sql_query(sql_query_clustered, nanohub_metrics_db)\n",
    "        \n",
    "#         sql_query_self = \"select user from toolstart where user in \" + str(tuple(self_NH_username2['username']))\\\n",
    "#             +\" and user != 'instanton' and user != 'gridstat' and datetime <= \"+end_date+\" and datetime >= \"+start_date\n",
    "        sql_query_self = \"select user from toolstart where user in \" + str(tuple(ss_NH_username['username']))\\\n",
    "            +\" and user != 'instanton' and user != 'gridstat' and datetime <= \"+end_date+\" and datetime >= \"+start_date\n",
    "        self_users = pd.read_sql_query(sql_query_self, nanohub_metrics_db) #engine_metrics #.drop_duplicates()\n",
    "        \n",
    "        clustered_track.append(clustered_users.drop_duplicates().shape[0])\n",
    "        self_track.append(self_users.drop_duplicates().shape[0])\n",
    "#         print('start_date: '+start_date)\n",
    "#         print('end_date: '+end_date)  \n",
    "    print('start year: '+str(start_year))"
   ]
  },
  {
   "cell_type": "code",
   "execution_count": null,
   "metadata": {},
   "outputs": [],
   "source": []
  },
  {
   "cell_type": "code",
   "execution_count": null,
   "metadata": {
    "tags": []
   },
   "outputs": [],
   "source": [
    "all_months_list = list()\n",
    "for this_year in range(start_year_base+1,today.year+2):\n",
    "    if cache_flag == True:\n",
    "        for this_month in range(1,today.month+1):\n",
    "            all_months_list.append(datetime.datetime(this_year, this_month, 1))\n",
    "    else:\n",
    "        for this_month in range(1,12+1):\n",
    "            all_months_list.append(datetime.datetime(this_year, this_month, 1))"
   ]
  },
  {
   "cell_type": "code",
   "execution_count": null,
   "metadata": {
    "tags": []
   },
   "outputs": [],
   "source": [
    "print(len(clustered_track))\n",
    "print(len(all_months_list))\n",
    "print(len(researcher_track))"
   ]
  },
  {
   "cell_type": "code",
   "execution_count": null,
   "metadata": {
    "tags": []
   },
   "outputs": [],
   "source": [
    "#print(user_breakdown_df2.head())"
   ]
  },
  {
   "cell_type": "code",
   "execution_count": null,
   "metadata": {
    "tags": []
   },
   "outputs": [],
   "source": [
    "\n",
    "if cache_flag == True:\n",
    "    user_breakdown_df2 = pd.DataFrame()\n",
    "    user_breakdown_df2['year_month'] = all_months_list\n",
    "    user_breakdown_df2['clustered_track'] = clustered_track\n",
    "    user_breakdown_df2['self_track'] = self_track\n",
    "    user_breakdown_df2['researcher_track'] = researcher_track\n",
    "    \n",
    "    user_breakdown_df = pd.concat([user_breakdown_df, user_breakdown_df2], ignore_index=True)\n",
    "    display(user_breakdown_df.head(2))\n",
    "else:\n",
    "    user_breakdown_df = pd.DataFrame()\n",
    "    if today.month == 12:\n",
    "        user_breakdown_df['year_month'] = all_months_list #months_bin['year_month'].to_list()[13:]\n",
    "        user_breakdown_df['clustered_track'] = clustered_track#[:len(all_months_list)]\n",
    "        user_breakdown_df['self_track'] = self_track#[:len(all_months_list)]\n",
    "        user_breakdown_df['researcher_track'] = researcher_track#[:len(all_months_list)]        \n",
    "    else:\n",
    "        user_breakdown_df['year_month'] = all_months_list #-(12-today.month)\n",
    "        user_breakdown_df['clustered_track'] = clustered_track#[:len(all_months_list[:])]\n",
    "        user_breakdown_df['self_track'] = self_track#[:len(all_months_list[:])]\n",
    "        user_breakdown_df['researcher_track'] = researcher_track#[:len(all_months_list[:])]\n",
    "    display(user_breakdown_df.head(2))"
   ]
  },
  {
   "cell_type": "code",
   "execution_count": null,
   "metadata": {
    "tags": []
   },
   "outputs": [],
   "source": [
    "# user_breakdown_df.to_csv(cwd+'/cached_data/temp.csv')"
   ]
  },
  {
   "cell_type": "code",
   "execution_count": null,
   "metadata": {
    "tags": []
   },
   "outputs": [],
   "source": [
    "import re"
   ]
  },
  {
   "cell_type": "code",
   "execution_count": null,
   "metadata": {
    "tags": []
   },
   "outputs": [],
   "source": [
    "## read the dev_flags.txt to determine where to save\n",
    "with open(cwd+'/dev_flags.txt','r') as f:\n",
    "    raw_flags = f.read()\n",
    "flag_pattern = re.compile(r'= \\w+')\n",
    "flags1 = re.findall(flag_pattern,raw_flags)    \n",
    "flags_result = [i[2:] for i in flags1]\n",
    "dev_flag = flags_result[0]\n",
    "prod_flag = flags_result[1]"
   ]
  },
  {
   "cell_type": "code",
   "execution_count": null,
   "metadata": {
    "tags": []
   },
   "outputs": [],
   "source": [
    "import seaborn as sns\n",
    "import matplotlib.pyplot as plt\n",
    "sns.set()\n",
    "sns.set_style(\"whitegrid\")\n",
    "\n",
    "plt.figure(figsize=(9,6))\n",
    "# user_breakdown_df2 = user_breakdown_df.iloc[:-(12-today.month),:]\n",
    "user_breakdown_df2 = user_breakdown_df.iloc[:-12-(12-today.month),:]\n",
    "plt.stackplot(user_breakdown_df2.year_month, \\\n",
    "#               user_breakdown_df2[['clustered_track','self_track']].to_numpy().T, \\\n",
    "#              labels=['Classroom', 'Unclassified'], \\\n",
    "#              colors=['green', 'orange']); #Self-study              \n",
    "              user_breakdown_df2[['clustered_track', 'researcher_track','self_track']].to_numpy().T, \\\n",
    "             labels=['Classroom','Research', 'Unclassified'], \\\n",
    "             colors=['green', 'red', 'orange']); #Self-study\n",
    "\n",
    "plt.legend(loc='upper left')#,fontsize=14);\n",
    "plt.ylabel('12-month Trailing Total')#,fontsize=15)\n",
    "plt.xlim([datetime.datetime(2001,1,1), datetime.datetime(2021,7,1)])#,fontsize=15)\n",
    "# plt.show()\n",
    "\n",
    "if dev_flag == 'True':\n",
    "    plt.savefig(cwd+'/plots_local/300_simusers_class_res_unclass_12months.eps', dpi=1000, bbox_inches='tight')\n",
    "    plt.savefig(cwd+'/plots_local/300_simusers_class_res_unclass_12months.pdf', dpi=1000, bbox_inches='tight')\n",
    "    plt.savefig(cwd+'/plots_local/300_simusers_class_res_unclass_12months.png', dpi=1000, bbox_inches='tight')\n",
    "elif prod_flag == 'True':\n",
    "    plt.savefig(cwd+'/plots_production/300_simusers_class_res_unclass_12months.eps', dpi=1000, bbox_inches='tight')\n",
    "    plt.savefig(cwd+'/plots_production/300_simusers_class_res_unclass_12months.pdf', dpi=1000, bbox_inches='tight')\n",
    "    plt.savefig(cwd+'/plots_production/300_simusers_class_res_unclass_12months.png', dpi=1000, bbox_inches='tight')\n",
    "else:\n",
    "    print('no printing flag is active')"
   ]
  },
  {
   "cell_type": "code",
   "execution_count": null,
   "metadata": {
    "tags": []
   },
   "outputs": [],
   "source": [
    "user_breakdown_df2['clustered_track_per'] = 100*np.divide(user_breakdown_df2['clustered_track'],\\\n",
    "            user_breakdown_df2['clustered_track'].to_numpy()+user_breakdown_df2['researcher_track'].to_numpy()+\\\n",
    "                        user_breakdown_df2['self_track'].to_numpy())\n",
    "user_breakdown_df2['researcher_track_per'] = 100*np.divide(user_breakdown_df2['researcher_track'],\\\n",
    "            user_breakdown_df2['clustered_track'].to_numpy()+user_breakdown_df2['researcher_track'].to_numpy()+\\\n",
    "                        user_breakdown_df2['self_track'].to_numpy())\n",
    "user_breakdown_df2['self_track_per'] = 100*np.divide(user_breakdown_df2['self_track'],\\\n",
    "            user_breakdown_df2['clustered_track'].to_numpy()+user_breakdown_df2['researcher_track'].to_numpy()+\\\n",
    "                        user_breakdown_df2['self_track'].to_numpy())"
   ]
  },
  {
   "cell_type": "code",
   "execution_count": null,
   "metadata": {
    "tags": []
   },
   "outputs": [],
   "source": [
    "plt.figure(figsize=(9,6))\n",
    "plt.plot(user_breakdown_df2.year_month, user_breakdown_df2.clustered_track_per, label='classroom', \\\n",
    "             color='green');\n",
    "plt.plot(user_breakdown_df2.year_month, user_breakdown_df2.researcher_track_per, label='research', \\\n",
    "             color='red');\n",
    "plt.plot(user_breakdown_df2.year_month, user_breakdown_df2.self_track_per, label='self-study', \\\n",
    "             color='orange');\n",
    "\n",
    "plt.ylim([0, 100])\n",
    "plt.legend(loc='upper right');\n",
    "plt.ylabel('Percentage (%)');\n",
    "plt.xlim([datetime.datetime(2001,1,1), datetime.datetime(2021,7,1)])\n",
    "# plt.show()\n",
    "\n",
    "if dev_flag == 'True':\n",
    "    plt.savefig(cwd+'/plots_local/300_simusers_class_res_unclass_12months_percent.eps', dpi=300, bbox_inches='tight')\n",
    "    plt.savefig(cwd+'/plots_local/300_simusers_class_res_unclass_12months_percent.pdf', dpi=300, bbox_inches='tight')\n",
    "    plt.savefig(cwd+'/plots_local/300_simusers_class_res_unclass_12months_percent.png', dpi=300, bbox_inches='tight')\n",
    "elif prod_flag == 'True':\n",
    "    plt.savefig(cwd+'/plots_production/300_simusers_class_res_unclass_12months_percent.eps', dpi=300, bbox_inches='tight')\n",
    "    plt.savefig(cwd+'/plots_production/300_simusers_class_res_unclass_12months_percent.pdf', dpi=300, bbox_inches='tight')\n",
    "    plt.savefig(cwd+'/plots_production/300_simusers_class_res_unclass_12months_percent.png', dpi=300, bbox_inches='tight')\n",
    "else:\n",
    "    print('no printing flag is active')"
   ]
  },
  {
   "cell_type": "code",
   "execution_count": null,
   "metadata": {
    "tags": []
   },
   "outputs": [],
   "source": [
    "user_breakdown_df2.to_csv(cwd+'/cached_data/nh_user_breakdown.csv')"
   ]
  },
  {
   "cell_type": "code",
   "execution_count": null,
   "metadata": {},
   "outputs": [],
   "source": []
  },
  {
   "cell_type": "code",
   "execution_count": null,
   "metadata": {},
   "outputs": [],
   "source": []
  },
  {
   "cell_type": "code",
   "execution_count": null,
   "metadata": {},
   "outputs": [],
   "source": []
  }
 ],
 "metadata": {
  "kernelspec": {
   "display_name": "Python 3 (ipykernel)",
   "language": "python",
   "name": "python3"
  },
  "language_info": {
   "codemirror_mode": {
    "name": "ipython",
    "version": 3
   },
   "file_extension": ".py",
   "mimetype": "text/x-python",
   "name": "python",
   "nbconvert_exporter": "python",
   "pygments_lexer": "ipython3",
   "version": "3.8.10"
  }
 },
 "nbformat": 4,
 "nbformat_minor": 4
}
