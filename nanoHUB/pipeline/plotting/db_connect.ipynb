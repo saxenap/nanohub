{
 "cells": [
  {
   "cell_type": "code",
   "execution_count": 2,
   "id": "6415fbf7-b107-41f8-ac43-a0a9533f1a0e",
   "metadata": {
    "execution": {
     "iopub.execute_input": "2021-11-24T00:07:28Z",
     "iopub.status.busy": "2021-11-24T00:07:28Z",
     "iopub.status.idle": "2021-11-24T00:07:28Z",
     "shell.execute_reply": "2021-11-24T00:07:28Z"
    },
    "tags": []
   },
   "outputs": [
    {
     "data": {
      "text/plain": [
       "\u001b[31;1mPHP Fatal error:  Call to undefined function mysql_connect() in eval()'d code on line 9\u001b[39;22m"
      ]
     },
     "execution_count": 2,
     "metadata": {},
     "output_type": "execute_result"
    }
   ],
   "source": [
    "//<?php\n",
    "error_reporting(E_ALL & ~E_NOTICE & ~E_DEPRECATED);\n",
    "\n",
    "function db_connect($dblink) {\n",
    "\n",
    "\tswitch($dblink) {\n",
    "\n",
    "\t\tcase 'db_hub':\n",
    "\t\t\t$db = mysql_connect($GLOBALS['db_host'], $GLOBALS['db_user'], $GLOBALS['db_pass'], true);\n",
    "\t\t\tmysql_select_db($GLOBALS['hub_db'], $db);\n",
    "\t\t\tbreak;\n",
    "\n",
    "\t\tcase 'db_net':\n",
    "\t\t\t$db = mysql_connect('localhost', $GLOBALS['db_net_user'], $GLOBALS['db_net_pass'], true);\n",
    "\t\t\tmysql_select_db($GLOBALS['net_db'], $db);\n",
    "\t\t\tbreak;\n",
    "\n",
    "\t\tdefault:\n",
    "\t\t\tprint 'Unrecognized database link '.$dblink.n;\n",
    "    \t\tdie;\n",
    "\t}\n",
    "\t\n",
    "\treturn $db;\n",
    "\n",
    "}\n",
    "\n",
    "function db_close($db) {\n",
    "\n",
    "\tmysql_close($db);\n",
    "\n",
    "}\n",
    "\n",
    "?>"
   ]
  },
  {
   "cell_type": "code",
   "execution_count": null,
   "id": "c56110fb-e520-417b-b93e-63392fa7d7bc",
   "metadata": {},
   "outputs": [],
   "source": []
  }
 ],
 "metadata": {
  "kernelspec": {
   "display_name": "PHP",
   "language": "php",
   "name": "jupyter-php"
  },
  "language_info": {
   "file_extension": ".php",
   "mimetype": "text/x-php",
   "name": "PHP",
   "pygments_lexer": "PHP",
   "version": "7.4.3"
  }
 },
 "nbformat": 4,
 "nbformat_minor": 5
}
