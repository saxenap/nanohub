{
 "cells": [
  {
   "cell_type": "code",
   "execution_count": 10,
   "metadata": {},
   "outputs": [],
   "source": [
    "## build researcher events, student events, and self-study events\n",
    "## researcher are simply those with NH citations"
   ]
  },
  {
   "cell_type": "code",
   "execution_count": 11,
   "metadata": {},
   "outputs": [],
   "source": [
    "import sys\n",
    "sys.path.append('/home/users/wang2506/nanohub_salesforce_integ/salesforce')\n",
    "\n",
    "import pandas as pd\n",
    "import time\n",
    "import datetime\n",
    "\n",
    "from DB2SalesforceAPI import DB2SalesforceAPI"
   ]
  },
  {
   "cell_type": "code",
   "execution_count": 13,
   "metadata": {},
   "outputs": [],
   "source": [
    "sf_login_params = {\n",
    "    \"grant_type\": \"password\",\n",
    "    \"client_id\": \"3MVG95jctIhbyCppj0SNJ75IsZ1y8UPGZtSNF4j8FNVXz.De8Lu4jHm3rjRosAtsHy6qjHx3i4S_QbQzvBePG\",\n",
    "    \"client_secret\": \"D1623C6D3607D4FC8004B92C761DFB6C1F70CCD129C5501E357028DFA00F5764\",\n",
    "    \"username\":\"wang2506@purdue.edu\",\n",
    "    \"password\":\"npass2021HDfJLhBGDx11xWCKlEbHQKhF\",   \n",
    "} "
   ]
  },
  {
   "cell_type": "markdown",
   "metadata": {},
   "source": [
    "## Nanohub user growth"
   ]
  },
  {
   "cell_type": "raw",
   "metadata": {},
   "source": [
    "## need \n",
    "# 1) jos_users from nanohub with id,name,username,email,registerDate,lastvisitDate -> registered users\n",
    "# 2) toolstart df filtered by username -> simulation users\n",
    "\n",
    "# x-axis: each month from 2000 to 2019\n",
    "\n",
    "# y-axis: 12 month trailing sum\n",
    "\n",
    "# simulation users: unique users who have run at least 1 simulation\n",
    "\n",
    "# registered users: new user registeration\n",
    "\n",
    "# visitor count: unique IP address"
   ]
  },
  {
   "cell_type": "code",
   "execution_count": 5,
   "metadata": {},
   "outputs": [
    {
     "ename": "OperationalError",
     "evalue": "(pymysql.err.OperationalError) (2003, \"Can't connect to MySQL server on '127.0.0.1' ([Errno 111] Connection refused)\")\n(Background on this error at: http://sqlalche.me/e/14/e3q8)",
     "output_type": "error",
     "traceback": [
      "\u001b[0;31m---------------------------------------------------------------------------\u001b[0m",
      "\u001b[0;31mConnectionRefusedError\u001b[0m                    Traceback (most recent call last)",
      "\u001b[0;32m/opt/conda/lib/python3.9/site-packages/pymysql/connections.py\u001b[0m in \u001b[0;36mconnect\u001b[0;34m(self, sock)\u001b[0m\n\u001b[1;32m    612\u001b[0m                         \u001b[0;32mtry\u001b[0m\u001b[0;34m:\u001b[0m\u001b[0;34m\u001b[0m\u001b[0;34m\u001b[0m\u001b[0m\n\u001b[0;32m--> 613\u001b[0;31m                             sock = socket.create_connection(\n\u001b[0m\u001b[1;32m    614\u001b[0m                                 \u001b[0;34m(\u001b[0m\u001b[0mself\u001b[0m\u001b[0;34m.\u001b[0m\u001b[0mhost\u001b[0m\u001b[0;34m,\u001b[0m \u001b[0mself\u001b[0m\u001b[0;34m.\u001b[0m\u001b[0mport\u001b[0m\u001b[0;34m)\u001b[0m\u001b[0;34m,\u001b[0m \u001b[0mself\u001b[0m\u001b[0;34m.\u001b[0m\u001b[0mconnect_timeout\u001b[0m\u001b[0;34m,\u001b[0m \u001b[0;34m**\u001b[0m\u001b[0mkwargs\u001b[0m\u001b[0;34m\u001b[0m\u001b[0;34m\u001b[0m\u001b[0m\n",
      "\u001b[0;32m/opt/conda/lib/python3.9/socket.py\u001b[0m in \u001b[0;36mcreate_connection\u001b[0;34m(address, timeout, source_address)\u001b[0m\n\u001b[1;32m    842\u001b[0m         \u001b[0;32mtry\u001b[0m\u001b[0;34m:\u001b[0m\u001b[0;34m\u001b[0m\u001b[0;34m\u001b[0m\u001b[0m\n\u001b[0;32m--> 843\u001b[0;31m             \u001b[0;32mraise\u001b[0m \u001b[0merr\u001b[0m\u001b[0;34m\u001b[0m\u001b[0;34m\u001b[0m\u001b[0m\n\u001b[0m\u001b[1;32m    844\u001b[0m         \u001b[0;32mfinally\u001b[0m\u001b[0;34m:\u001b[0m\u001b[0;34m\u001b[0m\u001b[0;34m\u001b[0m\u001b[0m\n",
      "\u001b[0;32m/opt/conda/lib/python3.9/socket.py\u001b[0m in \u001b[0;36mcreate_connection\u001b[0;34m(address, timeout, source_address)\u001b[0m\n\u001b[1;32m    830\u001b[0m                 \u001b[0msock\u001b[0m\u001b[0;34m.\u001b[0m\u001b[0mbind\u001b[0m\u001b[0;34m(\u001b[0m\u001b[0msource_address\u001b[0m\u001b[0;34m)\u001b[0m\u001b[0;34m\u001b[0m\u001b[0;34m\u001b[0m\u001b[0m\n\u001b[0;32m--> 831\u001b[0;31m             \u001b[0msock\u001b[0m\u001b[0;34m.\u001b[0m\u001b[0mconnect\u001b[0m\u001b[0;34m(\u001b[0m\u001b[0msa\u001b[0m\u001b[0;34m)\u001b[0m\u001b[0;34m\u001b[0m\u001b[0;34m\u001b[0m\u001b[0m\n\u001b[0m\u001b[1;32m    832\u001b[0m             \u001b[0;31m# Break explicitly a reference cycle\u001b[0m\u001b[0;34m\u001b[0m\u001b[0;34m\u001b[0m\u001b[0;34m\u001b[0m\u001b[0m\n",
      "\u001b[0;31mConnectionRefusedError\u001b[0m: [Errno 111] Connection refused",
      "\nDuring handling of the above exception, another exception occurred:\n",
      "\u001b[0;31mOperationalError\u001b[0m                          Traceback (most recent call last)",
      "\u001b[0;32m/opt/conda/lib/python3.9/site-packages/sqlalchemy/engine/base.py\u001b[0m in \u001b[0;36m_wrap_pool_connect\u001b[0;34m(self, fn, connection)\u001b[0m\n\u001b[1;32m   3210\u001b[0m         \u001b[0;32mtry\u001b[0m\u001b[0;34m:\u001b[0m\u001b[0;34m\u001b[0m\u001b[0;34m\u001b[0m\u001b[0m\n\u001b[0;32m-> 3211\u001b[0;31m             \u001b[0;32mreturn\u001b[0m \u001b[0mfn\u001b[0m\u001b[0;34m(\u001b[0m\u001b[0;34m)\u001b[0m\u001b[0;34m\u001b[0m\u001b[0;34m\u001b[0m\u001b[0m\n\u001b[0m\u001b[1;32m   3212\u001b[0m         \u001b[0;32mexcept\u001b[0m \u001b[0mdialect\u001b[0m\u001b[0;34m.\u001b[0m\u001b[0mdbapi\u001b[0m\u001b[0;34m.\u001b[0m\u001b[0mError\u001b[0m \u001b[0;32mas\u001b[0m \u001b[0me\u001b[0m\u001b[0;34m:\u001b[0m\u001b[0;34m\u001b[0m\u001b[0;34m\u001b[0m\u001b[0m\n",
      "\u001b[0;32m/opt/conda/lib/python3.9/site-packages/sqlalchemy/pool/base.py\u001b[0m in \u001b[0;36mconnect\u001b[0;34m(self)\u001b[0m\n\u001b[1;32m    306\u001b[0m         \"\"\"\n\u001b[0;32m--> 307\u001b[0;31m         \u001b[0;32mreturn\u001b[0m \u001b[0m_ConnectionFairy\u001b[0m\u001b[0;34m.\u001b[0m\u001b[0m_checkout\u001b[0m\u001b[0;34m(\u001b[0m\u001b[0mself\u001b[0m\u001b[0;34m)\u001b[0m\u001b[0;34m\u001b[0m\u001b[0;34m\u001b[0m\u001b[0m\n\u001b[0m\u001b[1;32m    308\u001b[0m \u001b[0;34m\u001b[0m\u001b[0m\n",
      "\u001b[0;32m/opt/conda/lib/python3.9/site-packages/sqlalchemy/pool/base.py\u001b[0m in \u001b[0;36m_checkout\u001b[0;34m(cls, pool, threadconns, fairy)\u001b[0m\n\u001b[1;32m    766\u001b[0m         \u001b[0;32mif\u001b[0m \u001b[0;32mnot\u001b[0m \u001b[0mfairy\u001b[0m\u001b[0;34m:\u001b[0m\u001b[0;34m\u001b[0m\u001b[0;34m\u001b[0m\u001b[0m\n\u001b[0;32m--> 767\u001b[0;31m             \u001b[0mfairy\u001b[0m \u001b[0;34m=\u001b[0m \u001b[0m_ConnectionRecord\u001b[0m\u001b[0;34m.\u001b[0m\u001b[0mcheckout\u001b[0m\u001b[0;34m(\u001b[0m\u001b[0mpool\u001b[0m\u001b[0;34m)\u001b[0m\u001b[0;34m\u001b[0m\u001b[0;34m\u001b[0m\u001b[0m\n\u001b[0m\u001b[1;32m    768\u001b[0m \u001b[0;34m\u001b[0m\u001b[0m\n",
      "\u001b[0;32m/opt/conda/lib/python3.9/site-packages/sqlalchemy/pool/base.py\u001b[0m in \u001b[0;36mcheckout\u001b[0;34m(cls, pool)\u001b[0m\n\u001b[1;32m    424\u001b[0m     \u001b[0;32mdef\u001b[0m \u001b[0mcheckout\u001b[0m\u001b[0;34m(\u001b[0m\u001b[0mcls\u001b[0m\u001b[0;34m,\u001b[0m \u001b[0mpool\u001b[0m\u001b[0;34m)\u001b[0m\u001b[0;34m:\u001b[0m\u001b[0;34m\u001b[0m\u001b[0;34m\u001b[0m\u001b[0m\n\u001b[0;32m--> 425\u001b[0;31m         \u001b[0mrec\u001b[0m \u001b[0;34m=\u001b[0m \u001b[0mpool\u001b[0m\u001b[0;34m.\u001b[0m\u001b[0m_do_get\u001b[0m\u001b[0;34m(\u001b[0m\u001b[0;34m)\u001b[0m\u001b[0;34m\u001b[0m\u001b[0;34m\u001b[0m\u001b[0m\n\u001b[0m\u001b[1;32m    426\u001b[0m         \u001b[0;32mtry\u001b[0m\u001b[0;34m:\u001b[0m\u001b[0;34m\u001b[0m\u001b[0;34m\u001b[0m\u001b[0m\n",
      "\u001b[0;32m/opt/conda/lib/python3.9/site-packages/sqlalchemy/pool/impl.py\u001b[0m in \u001b[0;36m_do_get\u001b[0;34m(self)\u001b[0m\n\u001b[1;32m    145\u001b[0m                 \u001b[0;32mwith\u001b[0m \u001b[0mutil\u001b[0m\u001b[0;34m.\u001b[0m\u001b[0msafe_reraise\u001b[0m\u001b[0;34m(\u001b[0m\u001b[0;34m)\u001b[0m\u001b[0;34m:\u001b[0m\u001b[0;34m\u001b[0m\u001b[0;34m\u001b[0m\u001b[0m\n\u001b[0;32m--> 146\u001b[0;31m                     \u001b[0mself\u001b[0m\u001b[0;34m.\u001b[0m\u001b[0m_dec_overflow\u001b[0m\u001b[0;34m(\u001b[0m\u001b[0;34m)\u001b[0m\u001b[0;34m\u001b[0m\u001b[0;34m\u001b[0m\u001b[0m\n\u001b[0m\u001b[1;32m    147\u001b[0m         \u001b[0;32melse\u001b[0m\u001b[0;34m:\u001b[0m\u001b[0;34m\u001b[0m\u001b[0;34m\u001b[0m\u001b[0m\n",
      "\u001b[0;32m/opt/conda/lib/python3.9/site-packages/sqlalchemy/util/langhelpers.py\u001b[0m in \u001b[0;36m__exit__\u001b[0;34m(self, type_, value, traceback)\u001b[0m\n\u001b[1;32m     69\u001b[0m             \u001b[0;32mif\u001b[0m \u001b[0;32mnot\u001b[0m \u001b[0mself\u001b[0m\u001b[0;34m.\u001b[0m\u001b[0mwarn_only\u001b[0m\u001b[0;34m:\u001b[0m\u001b[0;34m\u001b[0m\u001b[0;34m\u001b[0m\u001b[0m\n\u001b[0;32m---> 70\u001b[0;31m                 compat.raise_(\n\u001b[0m\u001b[1;32m     71\u001b[0m                     \u001b[0mexc_value\u001b[0m\u001b[0;34m,\u001b[0m\u001b[0;34m\u001b[0m\u001b[0;34m\u001b[0m\u001b[0m\n",
      "\u001b[0;32m/opt/conda/lib/python3.9/site-packages/sqlalchemy/util/compat.py\u001b[0m in \u001b[0;36mraise_\u001b[0;34m(***failed resolving arguments***)\u001b[0m\n\u001b[1;32m    206\u001b[0m         \u001b[0;32mtry\u001b[0m\u001b[0;34m:\u001b[0m\u001b[0;34m\u001b[0m\u001b[0;34m\u001b[0m\u001b[0m\n\u001b[0;32m--> 207\u001b[0;31m             \u001b[0;32mraise\u001b[0m \u001b[0mexception\u001b[0m\u001b[0;34m\u001b[0m\u001b[0;34m\u001b[0m\u001b[0m\n\u001b[0m\u001b[1;32m    208\u001b[0m         \u001b[0;32mfinally\u001b[0m\u001b[0;34m:\u001b[0m\u001b[0;34m\u001b[0m\u001b[0;34m\u001b[0m\u001b[0m\n",
      "\u001b[0;32m/opt/conda/lib/python3.9/site-packages/sqlalchemy/pool/impl.py\u001b[0m in \u001b[0;36m_do_get\u001b[0;34m(self)\u001b[0m\n\u001b[1;32m    142\u001b[0m             \u001b[0;32mtry\u001b[0m\u001b[0;34m:\u001b[0m\u001b[0;34m\u001b[0m\u001b[0;34m\u001b[0m\u001b[0m\n\u001b[0;32m--> 143\u001b[0;31m                 \u001b[0;32mreturn\u001b[0m \u001b[0mself\u001b[0m\u001b[0;34m.\u001b[0m\u001b[0m_create_connection\u001b[0m\u001b[0;34m(\u001b[0m\u001b[0;34m)\u001b[0m\u001b[0;34m\u001b[0m\u001b[0;34m\u001b[0m\u001b[0m\n\u001b[0m\u001b[1;32m    144\u001b[0m             \u001b[0;32mexcept\u001b[0m\u001b[0;34m:\u001b[0m\u001b[0;34m\u001b[0m\u001b[0;34m\u001b[0m\u001b[0m\n",
      "\u001b[0;32m/opt/conda/lib/python3.9/site-packages/sqlalchemy/pool/base.py\u001b[0m in \u001b[0;36m_create_connection\u001b[0;34m(self)\u001b[0m\n\u001b[1;32m    252\u001b[0m \u001b[0;34m\u001b[0m\u001b[0m\n\u001b[0;32m--> 253\u001b[0;31m         \u001b[0;32mreturn\u001b[0m \u001b[0m_ConnectionRecord\u001b[0m\u001b[0;34m(\u001b[0m\u001b[0mself\u001b[0m\u001b[0;34m)\u001b[0m\u001b[0;34m\u001b[0m\u001b[0;34m\u001b[0m\u001b[0m\n\u001b[0m\u001b[1;32m    254\u001b[0m \u001b[0;34m\u001b[0m\u001b[0m\n",
      "\u001b[0;32m/opt/conda/lib/python3.9/site-packages/sqlalchemy/pool/base.py\u001b[0m in \u001b[0;36m__init__\u001b[0;34m(self, pool, connect)\u001b[0m\n\u001b[1;32m    367\u001b[0m         \u001b[0;32mif\u001b[0m \u001b[0mconnect\u001b[0m\u001b[0;34m:\u001b[0m\u001b[0;34m\u001b[0m\u001b[0;34m\u001b[0m\u001b[0m\n\u001b[0;32m--> 368\u001b[0;31m             \u001b[0mself\u001b[0m\u001b[0;34m.\u001b[0m\u001b[0m__connect\u001b[0m\u001b[0;34m(\u001b[0m\u001b[0;34m)\u001b[0m\u001b[0;34m\u001b[0m\u001b[0;34m\u001b[0m\u001b[0m\n\u001b[0m\u001b[1;32m    369\u001b[0m         \u001b[0mself\u001b[0m\u001b[0;34m.\u001b[0m\u001b[0mfinalize_callback\u001b[0m \u001b[0;34m=\u001b[0m \u001b[0mdeque\u001b[0m\u001b[0;34m(\u001b[0m\u001b[0;34m)\u001b[0m\u001b[0;34m\u001b[0m\u001b[0;34m\u001b[0m\u001b[0m\n",
      "\u001b[0;32m/opt/conda/lib/python3.9/site-packages/sqlalchemy/pool/base.py\u001b[0m in \u001b[0;36m__connect\u001b[0;34m(self)\u001b[0m\n\u001b[1;32m    610\u001b[0m             \u001b[0;32mwith\u001b[0m \u001b[0mutil\u001b[0m\u001b[0;34m.\u001b[0m\u001b[0msafe_reraise\u001b[0m\u001b[0;34m(\u001b[0m\u001b[0;34m)\u001b[0m\u001b[0;34m:\u001b[0m\u001b[0;34m\u001b[0m\u001b[0;34m\u001b[0m\u001b[0m\n\u001b[0;32m--> 611\u001b[0;31m                 \u001b[0mpool\u001b[0m\u001b[0;34m.\u001b[0m\u001b[0mlogger\u001b[0m\u001b[0;34m.\u001b[0m\u001b[0mdebug\u001b[0m\u001b[0;34m(\u001b[0m\u001b[0;34m\"Error on connect(): %s\"\u001b[0m\u001b[0;34m,\u001b[0m \u001b[0me\u001b[0m\u001b[0;34m)\u001b[0m\u001b[0;34m\u001b[0m\u001b[0;34m\u001b[0m\u001b[0m\n\u001b[0m\u001b[1;32m    612\u001b[0m         \u001b[0;32melse\u001b[0m\u001b[0;34m:\u001b[0m\u001b[0;34m\u001b[0m\u001b[0;34m\u001b[0m\u001b[0m\n",
      "\u001b[0;32m/opt/conda/lib/python3.9/site-packages/sqlalchemy/util/langhelpers.py\u001b[0m in \u001b[0;36m__exit__\u001b[0;34m(self, type_, value, traceback)\u001b[0m\n\u001b[1;32m     69\u001b[0m             \u001b[0;32mif\u001b[0m \u001b[0;32mnot\u001b[0m \u001b[0mself\u001b[0m\u001b[0;34m.\u001b[0m\u001b[0mwarn_only\u001b[0m\u001b[0;34m:\u001b[0m\u001b[0;34m\u001b[0m\u001b[0;34m\u001b[0m\u001b[0m\n\u001b[0;32m---> 70\u001b[0;31m                 compat.raise_(\n\u001b[0m\u001b[1;32m     71\u001b[0m                     \u001b[0mexc_value\u001b[0m\u001b[0;34m,\u001b[0m\u001b[0;34m\u001b[0m\u001b[0;34m\u001b[0m\u001b[0m\n",
      "\u001b[0;32m/opt/conda/lib/python3.9/site-packages/sqlalchemy/util/compat.py\u001b[0m in \u001b[0;36mraise_\u001b[0;34m(***failed resolving arguments***)\u001b[0m\n\u001b[1;32m    206\u001b[0m         \u001b[0;32mtry\u001b[0m\u001b[0;34m:\u001b[0m\u001b[0;34m\u001b[0m\u001b[0;34m\u001b[0m\u001b[0m\n\u001b[0;32m--> 207\u001b[0;31m             \u001b[0;32mraise\u001b[0m \u001b[0mexception\u001b[0m\u001b[0;34m\u001b[0m\u001b[0;34m\u001b[0m\u001b[0m\n\u001b[0m\u001b[1;32m    208\u001b[0m         \u001b[0;32mfinally\u001b[0m\u001b[0;34m:\u001b[0m\u001b[0;34m\u001b[0m\u001b[0;34m\u001b[0m\u001b[0m\n",
      "\u001b[0;32m/opt/conda/lib/python3.9/site-packages/sqlalchemy/pool/base.py\u001b[0m in \u001b[0;36m__connect\u001b[0;34m(self)\u001b[0m\n\u001b[1;32m    604\u001b[0m             \u001b[0mself\u001b[0m\u001b[0;34m.\u001b[0m\u001b[0mstarttime\u001b[0m \u001b[0;34m=\u001b[0m \u001b[0mtime\u001b[0m\u001b[0;34m.\u001b[0m\u001b[0mtime\u001b[0m\u001b[0;34m(\u001b[0m\u001b[0;34m)\u001b[0m\u001b[0;34m\u001b[0m\u001b[0;34m\u001b[0m\u001b[0m\n\u001b[0;32m--> 605\u001b[0;31m             \u001b[0mconnection\u001b[0m \u001b[0;34m=\u001b[0m \u001b[0mpool\u001b[0m\u001b[0;34m.\u001b[0m\u001b[0m_invoke_creator\u001b[0m\u001b[0;34m(\u001b[0m\u001b[0mself\u001b[0m\u001b[0;34m)\u001b[0m\u001b[0;34m\u001b[0m\u001b[0;34m\u001b[0m\u001b[0m\n\u001b[0m\u001b[1;32m    606\u001b[0m             \u001b[0mpool\u001b[0m\u001b[0;34m.\u001b[0m\u001b[0mlogger\u001b[0m\u001b[0;34m.\u001b[0m\u001b[0mdebug\u001b[0m\u001b[0;34m(\u001b[0m\u001b[0;34m\"Created new connection %r\"\u001b[0m\u001b[0;34m,\u001b[0m \u001b[0mconnection\u001b[0m\u001b[0;34m)\u001b[0m\u001b[0;34m\u001b[0m\u001b[0;34m\u001b[0m\u001b[0m\n",
      "\u001b[0;32m/opt/conda/lib/python3.9/site-packages/sqlalchemy/engine/create.py\u001b[0m in \u001b[0;36mconnect\u001b[0;34m(connection_record)\u001b[0m\n\u001b[1;32m    577\u001b[0m                         \u001b[0;32mreturn\u001b[0m \u001b[0mconnection\u001b[0m\u001b[0;34m\u001b[0m\u001b[0;34m\u001b[0m\u001b[0m\n\u001b[0;32m--> 578\u001b[0;31m             \u001b[0;32mreturn\u001b[0m \u001b[0mdialect\u001b[0m\u001b[0;34m.\u001b[0m\u001b[0mconnect\u001b[0m\u001b[0;34m(\u001b[0m\u001b[0;34m*\u001b[0m\u001b[0mcargs\u001b[0m\u001b[0;34m,\u001b[0m \u001b[0;34m**\u001b[0m\u001b[0mcparams\u001b[0m\u001b[0;34m)\u001b[0m\u001b[0;34m\u001b[0m\u001b[0;34m\u001b[0m\u001b[0m\n\u001b[0m\u001b[1;32m    579\u001b[0m \u001b[0;34m\u001b[0m\u001b[0m\n",
      "\u001b[0;32m/opt/conda/lib/python3.9/site-packages/sqlalchemy/engine/default.py\u001b[0m in \u001b[0;36mconnect\u001b[0;34m(self, *cargs, **cparams)\u001b[0m\n\u001b[1;32m    583\u001b[0m         \u001b[0;31m# inherits the docstring from interfaces.Dialect.connect\u001b[0m\u001b[0;34m\u001b[0m\u001b[0;34m\u001b[0m\u001b[0;34m\u001b[0m\u001b[0m\n\u001b[0;32m--> 584\u001b[0;31m         \u001b[0;32mreturn\u001b[0m \u001b[0mself\u001b[0m\u001b[0;34m.\u001b[0m\u001b[0mdbapi\u001b[0m\u001b[0;34m.\u001b[0m\u001b[0mconnect\u001b[0m\u001b[0;34m(\u001b[0m\u001b[0;34m*\u001b[0m\u001b[0mcargs\u001b[0m\u001b[0;34m,\u001b[0m \u001b[0;34m**\u001b[0m\u001b[0mcparams\u001b[0m\u001b[0;34m)\u001b[0m\u001b[0;34m\u001b[0m\u001b[0;34m\u001b[0m\u001b[0m\n\u001b[0m\u001b[1;32m    585\u001b[0m \u001b[0;34m\u001b[0m\u001b[0m\n",
      "\u001b[0;32m/opt/conda/lib/python3.9/site-packages/pymysql/connections.py\u001b[0m in \u001b[0;36m__init__\u001b[0;34m(self, user, password, host, database, unix_socket, port, charset, sql_mode, read_default_file, conv, use_unicode, client_flag, cursorclass, init_command, connect_timeout, read_default_group, autocommit, local_infile, max_allowed_packet, defer_connect, auth_plugin_map, read_timeout, write_timeout, bind_address, binary_prefix, program_name, server_public_key, ssl, ssl_ca, ssl_cert, ssl_disabled, ssl_key, ssl_verify_cert, ssl_verify_identity, compress, named_pipe, passwd, db)\u001b[0m\n\u001b[1;32m    352\u001b[0m         \u001b[0;32melse\u001b[0m\u001b[0;34m:\u001b[0m\u001b[0;34m\u001b[0m\u001b[0;34m\u001b[0m\u001b[0m\n\u001b[0;32m--> 353\u001b[0;31m             \u001b[0mself\u001b[0m\u001b[0;34m.\u001b[0m\u001b[0mconnect\u001b[0m\u001b[0;34m(\u001b[0m\u001b[0;34m)\u001b[0m\u001b[0;34m\u001b[0m\u001b[0;34m\u001b[0m\u001b[0m\n\u001b[0m\u001b[1;32m    354\u001b[0m \u001b[0;34m\u001b[0m\u001b[0m\n",
      "\u001b[0;32m/opt/conda/lib/python3.9/site-packages/pymysql/connections.py\u001b[0m in \u001b[0;36mconnect\u001b[0;34m(self, sock)\u001b[0m\n\u001b[1;32m    663\u001b[0m                     \u001b[0mprint\u001b[0m\u001b[0;34m(\u001b[0m\u001b[0mexc\u001b[0m\u001b[0;34m.\u001b[0m\u001b[0mtraceback\u001b[0m\u001b[0;34m)\u001b[0m\u001b[0;34m\u001b[0m\u001b[0;34m\u001b[0m\u001b[0m\n\u001b[0;32m--> 664\u001b[0;31m                 \u001b[0;32mraise\u001b[0m \u001b[0mexc\u001b[0m\u001b[0;34m\u001b[0m\u001b[0;34m\u001b[0m\u001b[0m\n\u001b[0m\u001b[1;32m    665\u001b[0m \u001b[0;34m\u001b[0m\u001b[0m\n",
      "\u001b[0;31mOperationalError\u001b[0m: (2003, \"Can't connect to MySQL server on '127.0.0.1' ([Errno 111] Connection refused)\")",
      "\nThe above exception was the direct cause of the following exception:\n",
      "\u001b[0;31mOperationalError\u001b[0m                          Traceback (most recent call last)",
      "\u001b[0;32m<ipython-input-5-f54c5aa9fd68>\u001b[0m in \u001b[0;36m<module>\u001b[0;34m\u001b[0m\n\u001b[1;32m      5\u001b[0m \u001b[0;34m\u001b[0m\u001b[0m\n\u001b[1;32m      6\u001b[0m \u001b[0msql_query\u001b[0m \u001b[0;34m=\u001b[0m \u001b[0;34m\"select id,name,username,email,registerDate,lastvisitDate from jos_users order by registerDate desc\"\u001b[0m\u001b[0;34m\u001b[0m\u001b[0;34m\u001b[0m\u001b[0m\n\u001b[0;32m----> 7\u001b[0;31m \u001b[0mjos_users_full\u001b[0m \u001b[0;34m=\u001b[0m \u001b[0mpd\u001b[0m\u001b[0;34m.\u001b[0m\u001b[0mread_sql_query\u001b[0m\u001b[0;34m(\u001b[0m\u001b[0msql_query\u001b[0m\u001b[0;34m,\u001b[0m \u001b[0mengine\u001b[0m\u001b[0;34m)\u001b[0m\u001b[0;34m\u001b[0m\u001b[0;34m\u001b[0m\u001b[0m\n\u001b[0m\u001b[1;32m      8\u001b[0m \u001b[0mdisplay\u001b[0m\u001b[0;34m(\u001b[0m\u001b[0mjos_users_full\u001b[0m\u001b[0;34m.\u001b[0m\u001b[0mhead\u001b[0m\u001b[0;34m(\u001b[0m\u001b[0;36m2\u001b[0m\u001b[0;34m)\u001b[0m\u001b[0;34m)\u001b[0m\u001b[0;34m\u001b[0m\u001b[0;34m\u001b[0m\u001b[0m\n\u001b[1;32m      9\u001b[0m \u001b[0mprint\u001b[0m\u001b[0;34m(\u001b[0m\u001b[0mjos_users_full\u001b[0m\u001b[0;34m.\u001b[0m\u001b[0mshape\u001b[0m\u001b[0;34m)\u001b[0m\u001b[0;34m\u001b[0m\u001b[0;34m\u001b[0m\u001b[0m\n",
      "\u001b[0;32m/opt/conda/lib/python3.9/site-packages/pandas/io/sql.py\u001b[0m in \u001b[0;36mread_sql_query\u001b[0;34m(sql, con, index_col, coerce_float, params, parse_dates, chunksize)\u001b[0m\n\u001b[1;32m    386\u001b[0m     \"\"\"\n\u001b[1;32m    387\u001b[0m     \u001b[0mpandas_sql\u001b[0m \u001b[0;34m=\u001b[0m \u001b[0mpandasSQL_builder\u001b[0m\u001b[0;34m(\u001b[0m\u001b[0mcon\u001b[0m\u001b[0;34m)\u001b[0m\u001b[0;34m\u001b[0m\u001b[0;34m\u001b[0m\u001b[0m\n\u001b[0;32m--> 388\u001b[0;31m     return pandas_sql.read_query(\n\u001b[0m\u001b[1;32m    389\u001b[0m         \u001b[0msql\u001b[0m\u001b[0;34m,\u001b[0m\u001b[0;34m\u001b[0m\u001b[0;34m\u001b[0m\u001b[0m\n\u001b[1;32m    390\u001b[0m         \u001b[0mindex_col\u001b[0m\u001b[0;34m=\u001b[0m\u001b[0mindex_col\u001b[0m\u001b[0;34m,\u001b[0m\u001b[0;34m\u001b[0m\u001b[0;34m\u001b[0m\u001b[0m\n",
      "\u001b[0;32m/opt/conda/lib/python3.9/site-packages/pandas/io/sql.py\u001b[0m in \u001b[0;36mread_query\u001b[0;34m(self, sql, index_col, coerce_float, parse_dates, params, chunksize)\u001b[0m\n\u001b[1;32m   1306\u001b[0m         \u001b[0margs\u001b[0m \u001b[0;34m=\u001b[0m \u001b[0m_convert_params\u001b[0m\u001b[0;34m(\u001b[0m\u001b[0msql\u001b[0m\u001b[0;34m,\u001b[0m \u001b[0mparams\u001b[0m\u001b[0;34m)\u001b[0m\u001b[0;34m\u001b[0m\u001b[0;34m\u001b[0m\u001b[0m\n\u001b[1;32m   1307\u001b[0m \u001b[0;34m\u001b[0m\u001b[0m\n\u001b[0;32m-> 1308\u001b[0;31m         \u001b[0mresult\u001b[0m \u001b[0;34m=\u001b[0m \u001b[0mself\u001b[0m\u001b[0;34m.\u001b[0m\u001b[0mexecute\u001b[0m\u001b[0;34m(\u001b[0m\u001b[0;34m*\u001b[0m\u001b[0margs\u001b[0m\u001b[0;34m)\u001b[0m\u001b[0;34m\u001b[0m\u001b[0;34m\u001b[0m\u001b[0m\n\u001b[0m\u001b[1;32m   1309\u001b[0m         \u001b[0mcolumns\u001b[0m \u001b[0;34m=\u001b[0m \u001b[0mresult\u001b[0m\u001b[0;34m.\u001b[0m\u001b[0mkeys\u001b[0m\u001b[0;34m(\u001b[0m\u001b[0;34m)\u001b[0m\u001b[0;34m\u001b[0m\u001b[0;34m\u001b[0m\u001b[0m\n\u001b[1;32m   1310\u001b[0m \u001b[0;34m\u001b[0m\u001b[0m\n",
      "\u001b[0;32m/opt/conda/lib/python3.9/site-packages/pandas/io/sql.py\u001b[0m in \u001b[0;36mexecute\u001b[0;34m(self, *args, **kwargs)\u001b[0m\n\u001b[1;32m   1174\u001b[0m     \u001b[0;32mdef\u001b[0m \u001b[0mexecute\u001b[0m\u001b[0;34m(\u001b[0m\u001b[0mself\u001b[0m\u001b[0;34m,\u001b[0m \u001b[0;34m*\u001b[0m\u001b[0margs\u001b[0m\u001b[0;34m,\u001b[0m \u001b[0;34m**\u001b[0m\u001b[0mkwargs\u001b[0m\u001b[0;34m)\u001b[0m\u001b[0;34m:\u001b[0m\u001b[0;34m\u001b[0m\u001b[0;34m\u001b[0m\u001b[0m\n\u001b[1;32m   1175\u001b[0m         \u001b[0;34m\"\"\"Simple passthrough to SQLAlchemy connectable\"\"\"\u001b[0m\u001b[0;34m\u001b[0m\u001b[0;34m\u001b[0m\u001b[0m\n\u001b[0;32m-> 1176\u001b[0;31m         \u001b[0;32mreturn\u001b[0m \u001b[0mself\u001b[0m\u001b[0;34m.\u001b[0m\u001b[0mconnectable\u001b[0m\u001b[0;34m.\u001b[0m\u001b[0mexecution_options\u001b[0m\u001b[0;34m(\u001b[0m\u001b[0;34m)\u001b[0m\u001b[0;34m.\u001b[0m\u001b[0mexecute\u001b[0m\u001b[0;34m(\u001b[0m\u001b[0;34m*\u001b[0m\u001b[0margs\u001b[0m\u001b[0;34m,\u001b[0m \u001b[0;34m**\u001b[0m\u001b[0mkwargs\u001b[0m\u001b[0;34m)\u001b[0m\u001b[0;34m\u001b[0m\u001b[0;34m\u001b[0m\u001b[0m\n\u001b[0m\u001b[1;32m   1177\u001b[0m \u001b[0;34m\u001b[0m\u001b[0m\n\u001b[1;32m   1178\u001b[0m     def read_table(\n",
      "\u001b[0;32m<string>\u001b[0m in \u001b[0;36mexecute\u001b[0;34m(self, statement, *multiparams, **params)\u001b[0m\n",
      "\u001b[0;32m/opt/conda/lib/python3.9/site-packages/sqlalchemy/util/deprecations.py\u001b[0m in \u001b[0;36mwarned\u001b[0;34m(fn, *args, **kwargs)\u001b[0m\n\u001b[1;32m    388\u001b[0m         \u001b[0;32mif\u001b[0m \u001b[0;32mnot\u001b[0m \u001b[0mskip_warning\u001b[0m\u001b[0;34m:\u001b[0m\u001b[0;34m\u001b[0m\u001b[0;34m\u001b[0m\u001b[0m\n\u001b[1;32m    389\u001b[0m             \u001b[0m_warn_with_version\u001b[0m\u001b[0;34m(\u001b[0m\u001b[0mmessage\u001b[0m\u001b[0;34m,\u001b[0m \u001b[0mversion\u001b[0m\u001b[0;34m,\u001b[0m \u001b[0mwtype\u001b[0m\u001b[0;34m,\u001b[0m \u001b[0mstacklevel\u001b[0m\u001b[0;34m=\u001b[0m\u001b[0;36m3\u001b[0m\u001b[0;34m)\u001b[0m\u001b[0;34m\u001b[0m\u001b[0;34m\u001b[0m\u001b[0m\n\u001b[0;32m--> 390\u001b[0;31m         \u001b[0;32mreturn\u001b[0m \u001b[0mfn\u001b[0m\u001b[0;34m(\u001b[0m\u001b[0;34m*\u001b[0m\u001b[0margs\u001b[0m\u001b[0;34m,\u001b[0m \u001b[0;34m**\u001b[0m\u001b[0mkwargs\u001b[0m\u001b[0;34m)\u001b[0m\u001b[0;34m\u001b[0m\u001b[0;34m\u001b[0m\u001b[0m\n\u001b[0m\u001b[1;32m    391\u001b[0m \u001b[0;34m\u001b[0m\u001b[0m\n\u001b[1;32m    392\u001b[0m     \u001b[0mdoc\u001b[0m \u001b[0;34m=\u001b[0m \u001b[0mfunc\u001b[0m\u001b[0;34m.\u001b[0m\u001b[0m__doc__\u001b[0m \u001b[0;32mis\u001b[0m \u001b[0;32mnot\u001b[0m \u001b[0;32mNone\u001b[0m \u001b[0;32mand\u001b[0m \u001b[0mfunc\u001b[0m\u001b[0;34m.\u001b[0m\u001b[0m__doc__\u001b[0m \u001b[0;32mor\u001b[0m \u001b[0;34m\"\"\u001b[0m\u001b[0;34m\u001b[0m\u001b[0;34m\u001b[0m\u001b[0m\n",
      "\u001b[0;32m/opt/conda/lib/python3.9/site-packages/sqlalchemy/engine/base.py\u001b[0m in \u001b[0;36mexecute\u001b[0;34m(self, statement, *multiparams, **params)\u001b[0m\n\u001b[1;32m   3104\u001b[0m \u001b[0;34m\u001b[0m\u001b[0m\n\u001b[1;32m   3105\u001b[0m         \"\"\"\n\u001b[0;32m-> 3106\u001b[0;31m         \u001b[0mconnection\u001b[0m \u001b[0;34m=\u001b[0m \u001b[0mself\u001b[0m\u001b[0;34m.\u001b[0m\u001b[0mconnect\u001b[0m\u001b[0;34m(\u001b[0m\u001b[0mclose_with_result\u001b[0m\u001b[0;34m=\u001b[0m\u001b[0;32mTrue\u001b[0m\u001b[0;34m)\u001b[0m\u001b[0;34m\u001b[0m\u001b[0;34m\u001b[0m\u001b[0m\n\u001b[0m\u001b[1;32m   3107\u001b[0m         \u001b[0;32mreturn\u001b[0m \u001b[0mconnection\u001b[0m\u001b[0;34m.\u001b[0m\u001b[0mexecute\u001b[0m\u001b[0;34m(\u001b[0m\u001b[0mstatement\u001b[0m\u001b[0;34m,\u001b[0m \u001b[0;34m*\u001b[0m\u001b[0mmultiparams\u001b[0m\u001b[0;34m,\u001b[0m \u001b[0;34m**\u001b[0m\u001b[0mparams\u001b[0m\u001b[0;34m)\u001b[0m\u001b[0;34m\u001b[0m\u001b[0;34m\u001b[0m\u001b[0m\n\u001b[1;32m   3108\u001b[0m \u001b[0;34m\u001b[0m\u001b[0m\n",
      "\u001b[0;32m/opt/conda/lib/python3.9/site-packages/sqlalchemy/engine/base.py\u001b[0m in \u001b[0;36mconnect\u001b[0;34m(self, close_with_result)\u001b[0m\n\u001b[1;32m   3163\u001b[0m         \"\"\"\n\u001b[1;32m   3164\u001b[0m \u001b[0;34m\u001b[0m\u001b[0m\n\u001b[0;32m-> 3165\u001b[0;31m         \u001b[0;32mreturn\u001b[0m \u001b[0mself\u001b[0m\u001b[0;34m.\u001b[0m\u001b[0m_connection_cls\u001b[0m\u001b[0;34m(\u001b[0m\u001b[0mself\u001b[0m\u001b[0;34m,\u001b[0m \u001b[0mclose_with_result\u001b[0m\u001b[0;34m=\u001b[0m\u001b[0mclose_with_result\u001b[0m\u001b[0;34m)\u001b[0m\u001b[0;34m\u001b[0m\u001b[0;34m\u001b[0m\u001b[0m\n\u001b[0m\u001b[1;32m   3166\u001b[0m \u001b[0;34m\u001b[0m\u001b[0m\n\u001b[1;32m   3167\u001b[0m     @util.deprecated(\n",
      "\u001b[0;32m/opt/conda/lib/python3.9/site-packages/sqlalchemy/engine/base.py\u001b[0m in \u001b[0;36m__init__\u001b[0;34m(self, engine, connection, close_with_result, _branch_from, _execution_options, _dispatch, _has_events, _allow_revalidate)\u001b[0m\n\u001b[1;32m     94\u001b[0m                 \u001b[0mconnection\u001b[0m\u001b[0;34m\u001b[0m\u001b[0;34m\u001b[0m\u001b[0m\n\u001b[1;32m     95\u001b[0m                 \u001b[0;32mif\u001b[0m \u001b[0mconnection\u001b[0m \u001b[0;32mis\u001b[0m \u001b[0;32mnot\u001b[0m \u001b[0;32mNone\u001b[0m\u001b[0;34m\u001b[0m\u001b[0;34m\u001b[0m\u001b[0m\n\u001b[0;32m---> 96\u001b[0;31m                 \u001b[0;32melse\u001b[0m \u001b[0mengine\u001b[0m\u001b[0;34m.\u001b[0m\u001b[0mraw_connection\u001b[0m\u001b[0;34m(\u001b[0m\u001b[0;34m)\u001b[0m\u001b[0;34m\u001b[0m\u001b[0;34m\u001b[0m\u001b[0m\n\u001b[0m\u001b[1;32m     97\u001b[0m             )\n\u001b[1;32m     98\u001b[0m \u001b[0;34m\u001b[0m\u001b[0m\n",
      "\u001b[0;32m/opt/conda/lib/python3.9/site-packages/sqlalchemy/engine/base.py\u001b[0m in \u001b[0;36mraw_connection\u001b[0;34m(self, _connection)\u001b[0m\n\u001b[1;32m   3242\u001b[0m \u001b[0;34m\u001b[0m\u001b[0m\n\u001b[1;32m   3243\u001b[0m         \"\"\"\n\u001b[0;32m-> 3244\u001b[0;31m         \u001b[0;32mreturn\u001b[0m \u001b[0mself\u001b[0m\u001b[0;34m.\u001b[0m\u001b[0m_wrap_pool_connect\u001b[0m\u001b[0;34m(\u001b[0m\u001b[0mself\u001b[0m\u001b[0;34m.\u001b[0m\u001b[0mpool\u001b[0m\u001b[0;34m.\u001b[0m\u001b[0mconnect\u001b[0m\u001b[0;34m,\u001b[0m \u001b[0m_connection\u001b[0m\u001b[0;34m)\u001b[0m\u001b[0;34m\u001b[0m\u001b[0;34m\u001b[0m\u001b[0m\n\u001b[0m\u001b[1;32m   3245\u001b[0m \u001b[0;34m\u001b[0m\u001b[0m\n\u001b[1;32m   3246\u001b[0m \u001b[0;34m\u001b[0m\u001b[0m\n",
      "\u001b[0;32m/opt/conda/lib/python3.9/site-packages/sqlalchemy/engine/base.py\u001b[0m in \u001b[0;36m_wrap_pool_connect\u001b[0;34m(self, fn, connection)\u001b[0m\n\u001b[1;32m   3212\u001b[0m         \u001b[0;32mexcept\u001b[0m \u001b[0mdialect\u001b[0m\u001b[0;34m.\u001b[0m\u001b[0mdbapi\u001b[0m\u001b[0;34m.\u001b[0m\u001b[0mError\u001b[0m \u001b[0;32mas\u001b[0m \u001b[0me\u001b[0m\u001b[0;34m:\u001b[0m\u001b[0;34m\u001b[0m\u001b[0;34m\u001b[0m\u001b[0m\n\u001b[1;32m   3213\u001b[0m             \u001b[0;32mif\u001b[0m \u001b[0mconnection\u001b[0m \u001b[0;32mis\u001b[0m \u001b[0;32mNone\u001b[0m\u001b[0;34m:\u001b[0m\u001b[0;34m\u001b[0m\u001b[0;34m\u001b[0m\u001b[0m\n\u001b[0;32m-> 3214\u001b[0;31m                 Connection._handle_dbapi_exception_noconnection(\n\u001b[0m\u001b[1;32m   3215\u001b[0m                     \u001b[0me\u001b[0m\u001b[0;34m,\u001b[0m \u001b[0mdialect\u001b[0m\u001b[0;34m,\u001b[0m \u001b[0mself\u001b[0m\u001b[0;34m\u001b[0m\u001b[0;34m\u001b[0m\u001b[0m\n\u001b[1;32m   3216\u001b[0m                 )\n",
      "\u001b[0;32m/opt/conda/lib/python3.9/site-packages/sqlalchemy/engine/base.py\u001b[0m in \u001b[0;36m_handle_dbapi_exception_noconnection\u001b[0;34m(cls, e, dialect, engine)\u001b[0m\n\u001b[1;32m   2066\u001b[0m             \u001b[0mutil\u001b[0m\u001b[0;34m.\u001b[0m\u001b[0mraise_\u001b[0m\u001b[0;34m(\u001b[0m\u001b[0mnewraise\u001b[0m\u001b[0;34m,\u001b[0m \u001b[0mwith_traceback\u001b[0m\u001b[0;34m=\u001b[0m\u001b[0mexc_info\u001b[0m\u001b[0;34m[\u001b[0m\u001b[0;36m2\u001b[0m\u001b[0;34m]\u001b[0m\u001b[0;34m,\u001b[0m \u001b[0mfrom_\u001b[0m\u001b[0;34m=\u001b[0m\u001b[0me\u001b[0m\u001b[0;34m)\u001b[0m\u001b[0;34m\u001b[0m\u001b[0;34m\u001b[0m\u001b[0m\n\u001b[1;32m   2067\u001b[0m         \u001b[0;32melif\u001b[0m \u001b[0mshould_wrap\u001b[0m\u001b[0;34m:\u001b[0m\u001b[0;34m\u001b[0m\u001b[0;34m\u001b[0m\u001b[0m\n\u001b[0;32m-> 2068\u001b[0;31m             util.raise_(\n\u001b[0m\u001b[1;32m   2069\u001b[0m                 \u001b[0msqlalchemy_exception\u001b[0m\u001b[0;34m,\u001b[0m \u001b[0mwith_traceback\u001b[0m\u001b[0;34m=\u001b[0m\u001b[0mexc_info\u001b[0m\u001b[0;34m[\u001b[0m\u001b[0;36m2\u001b[0m\u001b[0;34m]\u001b[0m\u001b[0;34m,\u001b[0m \u001b[0mfrom_\u001b[0m\u001b[0;34m=\u001b[0m\u001b[0me\u001b[0m\u001b[0;34m\u001b[0m\u001b[0;34m\u001b[0m\u001b[0m\n\u001b[1;32m   2070\u001b[0m             )\n",
      "\u001b[0;32m/opt/conda/lib/python3.9/site-packages/sqlalchemy/util/compat.py\u001b[0m in \u001b[0;36mraise_\u001b[0;34m(***failed resolving arguments***)\u001b[0m\n\u001b[1;32m    205\u001b[0m \u001b[0;34m\u001b[0m\u001b[0m\n\u001b[1;32m    206\u001b[0m         \u001b[0;32mtry\u001b[0m\u001b[0;34m:\u001b[0m\u001b[0;34m\u001b[0m\u001b[0;34m\u001b[0m\u001b[0m\n\u001b[0;32m--> 207\u001b[0;31m             \u001b[0;32mraise\u001b[0m \u001b[0mexception\u001b[0m\u001b[0;34m\u001b[0m\u001b[0;34m\u001b[0m\u001b[0m\n\u001b[0m\u001b[1;32m    208\u001b[0m         \u001b[0;32mfinally\u001b[0m\u001b[0;34m:\u001b[0m\u001b[0;34m\u001b[0m\u001b[0;34m\u001b[0m\u001b[0m\n\u001b[1;32m    209\u001b[0m             \u001b[0;31m# credit to\u001b[0m\u001b[0;34m\u001b[0m\u001b[0;34m\u001b[0m\u001b[0;34m\u001b[0m\u001b[0m\n",
      "\u001b[0;32m/opt/conda/lib/python3.9/site-packages/sqlalchemy/engine/base.py\u001b[0m in \u001b[0;36m_wrap_pool_connect\u001b[0;34m(self, fn, connection)\u001b[0m\n\u001b[1;32m   3209\u001b[0m         \u001b[0mdialect\u001b[0m \u001b[0;34m=\u001b[0m \u001b[0mself\u001b[0m\u001b[0;34m.\u001b[0m\u001b[0mdialect\u001b[0m\u001b[0;34m\u001b[0m\u001b[0;34m\u001b[0m\u001b[0m\n\u001b[1;32m   3210\u001b[0m         \u001b[0;32mtry\u001b[0m\u001b[0;34m:\u001b[0m\u001b[0;34m\u001b[0m\u001b[0;34m\u001b[0m\u001b[0m\n\u001b[0;32m-> 3211\u001b[0;31m             \u001b[0;32mreturn\u001b[0m \u001b[0mfn\u001b[0m\u001b[0;34m(\u001b[0m\u001b[0;34m)\u001b[0m\u001b[0;34m\u001b[0m\u001b[0;34m\u001b[0m\u001b[0m\n\u001b[0m\u001b[1;32m   3212\u001b[0m         \u001b[0;32mexcept\u001b[0m \u001b[0mdialect\u001b[0m\u001b[0;34m.\u001b[0m\u001b[0mdbapi\u001b[0m\u001b[0;34m.\u001b[0m\u001b[0mError\u001b[0m \u001b[0;32mas\u001b[0m \u001b[0me\u001b[0m\u001b[0;34m:\u001b[0m\u001b[0;34m\u001b[0m\u001b[0;34m\u001b[0m\u001b[0m\n\u001b[1;32m   3213\u001b[0m             \u001b[0;32mif\u001b[0m \u001b[0mconnection\u001b[0m \u001b[0;32mis\u001b[0m \u001b[0;32mNone\u001b[0m\u001b[0;34m:\u001b[0m\u001b[0;34m\u001b[0m\u001b[0;34m\u001b[0m\u001b[0m\n",
      "\u001b[0;32m/opt/conda/lib/python3.9/site-packages/sqlalchemy/pool/base.py\u001b[0m in \u001b[0;36mconnect\u001b[0;34m(self)\u001b[0m\n\u001b[1;32m    305\u001b[0m \u001b[0;34m\u001b[0m\u001b[0m\n\u001b[1;32m    306\u001b[0m         \"\"\"\n\u001b[0;32m--> 307\u001b[0;31m         \u001b[0;32mreturn\u001b[0m \u001b[0m_ConnectionFairy\u001b[0m\u001b[0;34m.\u001b[0m\u001b[0m_checkout\u001b[0m\u001b[0;34m(\u001b[0m\u001b[0mself\u001b[0m\u001b[0;34m)\u001b[0m\u001b[0;34m\u001b[0m\u001b[0;34m\u001b[0m\u001b[0m\n\u001b[0m\u001b[1;32m    308\u001b[0m \u001b[0;34m\u001b[0m\u001b[0m\n\u001b[1;32m    309\u001b[0m     \u001b[0;32mdef\u001b[0m \u001b[0m_return_conn\u001b[0m\u001b[0;34m(\u001b[0m\u001b[0mself\u001b[0m\u001b[0;34m,\u001b[0m \u001b[0mrecord\u001b[0m\u001b[0;34m)\u001b[0m\u001b[0;34m:\u001b[0m\u001b[0;34m\u001b[0m\u001b[0;34m\u001b[0m\u001b[0m\n",
      "\u001b[0;32m/opt/conda/lib/python3.9/site-packages/sqlalchemy/pool/base.py\u001b[0m in \u001b[0;36m_checkout\u001b[0;34m(cls, pool, threadconns, fairy)\u001b[0m\n\u001b[1;32m    765\u001b[0m     \u001b[0;32mdef\u001b[0m \u001b[0m_checkout\u001b[0m\u001b[0;34m(\u001b[0m\u001b[0mcls\u001b[0m\u001b[0;34m,\u001b[0m \u001b[0mpool\u001b[0m\u001b[0;34m,\u001b[0m \u001b[0mthreadconns\u001b[0m\u001b[0;34m=\u001b[0m\u001b[0;32mNone\u001b[0m\u001b[0;34m,\u001b[0m \u001b[0mfairy\u001b[0m\u001b[0;34m=\u001b[0m\u001b[0;32mNone\u001b[0m\u001b[0;34m)\u001b[0m\u001b[0;34m:\u001b[0m\u001b[0;34m\u001b[0m\u001b[0;34m\u001b[0m\u001b[0m\n\u001b[1;32m    766\u001b[0m         \u001b[0;32mif\u001b[0m \u001b[0;32mnot\u001b[0m \u001b[0mfairy\u001b[0m\u001b[0;34m:\u001b[0m\u001b[0;34m\u001b[0m\u001b[0;34m\u001b[0m\u001b[0m\n\u001b[0;32m--> 767\u001b[0;31m             \u001b[0mfairy\u001b[0m \u001b[0;34m=\u001b[0m \u001b[0m_ConnectionRecord\u001b[0m\u001b[0;34m.\u001b[0m\u001b[0mcheckout\u001b[0m\u001b[0;34m(\u001b[0m\u001b[0mpool\u001b[0m\u001b[0;34m)\u001b[0m\u001b[0;34m\u001b[0m\u001b[0;34m\u001b[0m\u001b[0m\n\u001b[0m\u001b[1;32m    768\u001b[0m \u001b[0;34m\u001b[0m\u001b[0m\n\u001b[1;32m    769\u001b[0m             \u001b[0mfairy\u001b[0m\u001b[0;34m.\u001b[0m\u001b[0m_pool\u001b[0m \u001b[0;34m=\u001b[0m \u001b[0mpool\u001b[0m\u001b[0;34m\u001b[0m\u001b[0;34m\u001b[0m\u001b[0m\n",
      "\u001b[0;32m/opt/conda/lib/python3.9/site-packages/sqlalchemy/pool/base.py\u001b[0m in \u001b[0;36mcheckout\u001b[0;34m(cls, pool)\u001b[0m\n\u001b[1;32m    423\u001b[0m     \u001b[0;34m@\u001b[0m\u001b[0mclassmethod\u001b[0m\u001b[0;34m\u001b[0m\u001b[0;34m\u001b[0m\u001b[0m\n\u001b[1;32m    424\u001b[0m     \u001b[0;32mdef\u001b[0m \u001b[0mcheckout\u001b[0m\u001b[0;34m(\u001b[0m\u001b[0mcls\u001b[0m\u001b[0;34m,\u001b[0m \u001b[0mpool\u001b[0m\u001b[0;34m)\u001b[0m\u001b[0;34m:\u001b[0m\u001b[0;34m\u001b[0m\u001b[0;34m\u001b[0m\u001b[0m\n\u001b[0;32m--> 425\u001b[0;31m         \u001b[0mrec\u001b[0m \u001b[0;34m=\u001b[0m \u001b[0mpool\u001b[0m\u001b[0;34m.\u001b[0m\u001b[0m_do_get\u001b[0m\u001b[0;34m(\u001b[0m\u001b[0;34m)\u001b[0m\u001b[0;34m\u001b[0m\u001b[0;34m\u001b[0m\u001b[0m\n\u001b[0m\u001b[1;32m    426\u001b[0m         \u001b[0;32mtry\u001b[0m\u001b[0;34m:\u001b[0m\u001b[0;34m\u001b[0m\u001b[0;34m\u001b[0m\u001b[0m\n\u001b[1;32m    427\u001b[0m             \u001b[0mdbapi_connection\u001b[0m \u001b[0;34m=\u001b[0m \u001b[0mrec\u001b[0m\u001b[0;34m.\u001b[0m\u001b[0mget_connection\u001b[0m\u001b[0;34m(\u001b[0m\u001b[0;34m)\u001b[0m\u001b[0;34m\u001b[0m\u001b[0;34m\u001b[0m\u001b[0m\n",
      "\u001b[0;32m/opt/conda/lib/python3.9/site-packages/sqlalchemy/pool/impl.py\u001b[0m in \u001b[0;36m_do_get\u001b[0;34m(self)\u001b[0m\n\u001b[1;32m    144\u001b[0m             \u001b[0;32mexcept\u001b[0m\u001b[0;34m:\u001b[0m\u001b[0;34m\u001b[0m\u001b[0;34m\u001b[0m\u001b[0m\n\u001b[1;32m    145\u001b[0m                 \u001b[0;32mwith\u001b[0m \u001b[0mutil\u001b[0m\u001b[0;34m.\u001b[0m\u001b[0msafe_reraise\u001b[0m\u001b[0;34m(\u001b[0m\u001b[0;34m)\u001b[0m\u001b[0;34m:\u001b[0m\u001b[0;34m\u001b[0m\u001b[0;34m\u001b[0m\u001b[0m\n\u001b[0;32m--> 146\u001b[0;31m                     \u001b[0mself\u001b[0m\u001b[0;34m.\u001b[0m\u001b[0m_dec_overflow\u001b[0m\u001b[0;34m(\u001b[0m\u001b[0;34m)\u001b[0m\u001b[0;34m\u001b[0m\u001b[0;34m\u001b[0m\u001b[0m\n\u001b[0m\u001b[1;32m    147\u001b[0m         \u001b[0;32melse\u001b[0m\u001b[0;34m:\u001b[0m\u001b[0;34m\u001b[0m\u001b[0;34m\u001b[0m\u001b[0m\n\u001b[1;32m    148\u001b[0m             \u001b[0;32mreturn\u001b[0m \u001b[0mself\u001b[0m\u001b[0;34m.\u001b[0m\u001b[0m_do_get\u001b[0m\u001b[0;34m(\u001b[0m\u001b[0;34m)\u001b[0m\u001b[0;34m\u001b[0m\u001b[0;34m\u001b[0m\u001b[0m\n",
      "\u001b[0;32m/opt/conda/lib/python3.9/site-packages/sqlalchemy/util/langhelpers.py\u001b[0m in \u001b[0;36m__exit__\u001b[0;34m(self, type_, value, traceback)\u001b[0m\n\u001b[1;32m     68\u001b[0m             \u001b[0mself\u001b[0m\u001b[0;34m.\u001b[0m\u001b[0m_exc_info\u001b[0m \u001b[0;34m=\u001b[0m \u001b[0;32mNone\u001b[0m  \u001b[0;31m# remove potential circular references\u001b[0m\u001b[0;34m\u001b[0m\u001b[0;34m\u001b[0m\u001b[0m\n\u001b[1;32m     69\u001b[0m             \u001b[0;32mif\u001b[0m \u001b[0;32mnot\u001b[0m \u001b[0mself\u001b[0m\u001b[0;34m.\u001b[0m\u001b[0mwarn_only\u001b[0m\u001b[0;34m:\u001b[0m\u001b[0;34m\u001b[0m\u001b[0;34m\u001b[0m\u001b[0m\n\u001b[0;32m---> 70\u001b[0;31m                 compat.raise_(\n\u001b[0m\u001b[1;32m     71\u001b[0m                     \u001b[0mexc_value\u001b[0m\u001b[0;34m,\u001b[0m\u001b[0;34m\u001b[0m\u001b[0;34m\u001b[0m\u001b[0m\n\u001b[1;32m     72\u001b[0m                     \u001b[0mwith_traceback\u001b[0m\u001b[0;34m=\u001b[0m\u001b[0mexc_tb\u001b[0m\u001b[0;34m,\u001b[0m\u001b[0;34m\u001b[0m\u001b[0;34m\u001b[0m\u001b[0m\n",
      "\u001b[0;32m/opt/conda/lib/python3.9/site-packages/sqlalchemy/util/compat.py\u001b[0m in \u001b[0;36mraise_\u001b[0;34m(***failed resolving arguments***)\u001b[0m\n\u001b[1;32m    205\u001b[0m \u001b[0;34m\u001b[0m\u001b[0m\n\u001b[1;32m    206\u001b[0m         \u001b[0;32mtry\u001b[0m\u001b[0;34m:\u001b[0m\u001b[0;34m\u001b[0m\u001b[0;34m\u001b[0m\u001b[0m\n\u001b[0;32m--> 207\u001b[0;31m             \u001b[0;32mraise\u001b[0m \u001b[0mexception\u001b[0m\u001b[0;34m\u001b[0m\u001b[0;34m\u001b[0m\u001b[0m\n\u001b[0m\u001b[1;32m    208\u001b[0m         \u001b[0;32mfinally\u001b[0m\u001b[0;34m:\u001b[0m\u001b[0;34m\u001b[0m\u001b[0;34m\u001b[0m\u001b[0m\n\u001b[1;32m    209\u001b[0m             \u001b[0;31m# credit to\u001b[0m\u001b[0;34m\u001b[0m\u001b[0;34m\u001b[0m\u001b[0;34m\u001b[0m\u001b[0m\n",
      "\u001b[0;32m/opt/conda/lib/python3.9/site-packages/sqlalchemy/pool/impl.py\u001b[0m in \u001b[0;36m_do_get\u001b[0;34m(self)\u001b[0m\n\u001b[1;32m    141\u001b[0m         \u001b[0;32mif\u001b[0m \u001b[0mself\u001b[0m\u001b[0;34m.\u001b[0m\u001b[0m_inc_overflow\u001b[0m\u001b[0;34m(\u001b[0m\u001b[0;34m)\u001b[0m\u001b[0;34m:\u001b[0m\u001b[0;34m\u001b[0m\u001b[0;34m\u001b[0m\u001b[0m\n\u001b[1;32m    142\u001b[0m             \u001b[0;32mtry\u001b[0m\u001b[0;34m:\u001b[0m\u001b[0;34m\u001b[0m\u001b[0;34m\u001b[0m\u001b[0m\n\u001b[0;32m--> 143\u001b[0;31m                 \u001b[0;32mreturn\u001b[0m \u001b[0mself\u001b[0m\u001b[0;34m.\u001b[0m\u001b[0m_create_connection\u001b[0m\u001b[0;34m(\u001b[0m\u001b[0;34m)\u001b[0m\u001b[0;34m\u001b[0m\u001b[0;34m\u001b[0m\u001b[0m\n\u001b[0m\u001b[1;32m    144\u001b[0m             \u001b[0;32mexcept\u001b[0m\u001b[0;34m:\u001b[0m\u001b[0;34m\u001b[0m\u001b[0;34m\u001b[0m\u001b[0m\n\u001b[1;32m    145\u001b[0m                 \u001b[0;32mwith\u001b[0m \u001b[0mutil\u001b[0m\u001b[0;34m.\u001b[0m\u001b[0msafe_reraise\u001b[0m\u001b[0;34m(\u001b[0m\u001b[0;34m)\u001b[0m\u001b[0;34m:\u001b[0m\u001b[0;34m\u001b[0m\u001b[0;34m\u001b[0m\u001b[0m\n",
      "\u001b[0;32m/opt/conda/lib/python3.9/site-packages/sqlalchemy/pool/base.py\u001b[0m in \u001b[0;36m_create_connection\u001b[0;34m(self)\u001b[0m\n\u001b[1;32m    251\u001b[0m         \u001b[0;34m\"\"\"Called by subclasses to create a new ConnectionRecord.\"\"\"\u001b[0m\u001b[0;34m\u001b[0m\u001b[0;34m\u001b[0m\u001b[0m\n\u001b[1;32m    252\u001b[0m \u001b[0;34m\u001b[0m\u001b[0m\n\u001b[0;32m--> 253\u001b[0;31m         \u001b[0;32mreturn\u001b[0m \u001b[0m_ConnectionRecord\u001b[0m\u001b[0;34m(\u001b[0m\u001b[0mself\u001b[0m\u001b[0;34m)\u001b[0m\u001b[0;34m\u001b[0m\u001b[0;34m\u001b[0m\u001b[0m\n\u001b[0m\u001b[1;32m    254\u001b[0m \u001b[0;34m\u001b[0m\u001b[0m\n\u001b[1;32m    255\u001b[0m     \u001b[0;32mdef\u001b[0m \u001b[0m_invalidate\u001b[0m\u001b[0;34m(\u001b[0m\u001b[0mself\u001b[0m\u001b[0;34m,\u001b[0m \u001b[0mconnection\u001b[0m\u001b[0;34m,\u001b[0m \u001b[0mexception\u001b[0m\u001b[0;34m=\u001b[0m\u001b[0;32mNone\u001b[0m\u001b[0;34m,\u001b[0m \u001b[0m_checkin\u001b[0m\u001b[0;34m=\u001b[0m\u001b[0;32mTrue\u001b[0m\u001b[0;34m)\u001b[0m\u001b[0;34m:\u001b[0m\u001b[0;34m\u001b[0m\u001b[0;34m\u001b[0m\u001b[0m\n",
      "\u001b[0;32m/opt/conda/lib/python3.9/site-packages/sqlalchemy/pool/base.py\u001b[0m in \u001b[0;36m__init__\u001b[0;34m(self, pool, connect)\u001b[0m\n\u001b[1;32m    366\u001b[0m         \u001b[0mself\u001b[0m\u001b[0;34m.\u001b[0m\u001b[0m__pool\u001b[0m \u001b[0;34m=\u001b[0m \u001b[0mpool\u001b[0m\u001b[0;34m\u001b[0m\u001b[0;34m\u001b[0m\u001b[0m\n\u001b[1;32m    367\u001b[0m         \u001b[0;32mif\u001b[0m \u001b[0mconnect\u001b[0m\u001b[0;34m:\u001b[0m\u001b[0;34m\u001b[0m\u001b[0;34m\u001b[0m\u001b[0m\n\u001b[0;32m--> 368\u001b[0;31m             \u001b[0mself\u001b[0m\u001b[0;34m.\u001b[0m\u001b[0m__connect\u001b[0m\u001b[0;34m(\u001b[0m\u001b[0;34m)\u001b[0m\u001b[0;34m\u001b[0m\u001b[0;34m\u001b[0m\u001b[0m\n\u001b[0m\u001b[1;32m    369\u001b[0m         \u001b[0mself\u001b[0m\u001b[0;34m.\u001b[0m\u001b[0mfinalize_callback\u001b[0m \u001b[0;34m=\u001b[0m \u001b[0mdeque\u001b[0m\u001b[0;34m(\u001b[0m\u001b[0;34m)\u001b[0m\u001b[0;34m\u001b[0m\u001b[0;34m\u001b[0m\u001b[0m\n\u001b[1;32m    370\u001b[0m \u001b[0;34m\u001b[0m\u001b[0m\n",
      "\u001b[0;32m/opt/conda/lib/python3.9/site-packages/sqlalchemy/pool/base.py\u001b[0m in \u001b[0;36m__connect\u001b[0;34m(self)\u001b[0m\n\u001b[1;32m    609\u001b[0m         \u001b[0;32mexcept\u001b[0m \u001b[0mException\u001b[0m \u001b[0;32mas\u001b[0m \u001b[0me\u001b[0m\u001b[0;34m:\u001b[0m\u001b[0;34m\u001b[0m\u001b[0;34m\u001b[0m\u001b[0m\n\u001b[1;32m    610\u001b[0m             \u001b[0;32mwith\u001b[0m \u001b[0mutil\u001b[0m\u001b[0;34m.\u001b[0m\u001b[0msafe_reraise\u001b[0m\u001b[0;34m(\u001b[0m\u001b[0;34m)\u001b[0m\u001b[0;34m:\u001b[0m\u001b[0;34m\u001b[0m\u001b[0;34m\u001b[0m\u001b[0m\n\u001b[0;32m--> 611\u001b[0;31m                 \u001b[0mpool\u001b[0m\u001b[0;34m.\u001b[0m\u001b[0mlogger\u001b[0m\u001b[0;34m.\u001b[0m\u001b[0mdebug\u001b[0m\u001b[0;34m(\u001b[0m\u001b[0;34m\"Error on connect(): %s\"\u001b[0m\u001b[0;34m,\u001b[0m \u001b[0me\u001b[0m\u001b[0;34m)\u001b[0m\u001b[0;34m\u001b[0m\u001b[0;34m\u001b[0m\u001b[0m\n\u001b[0m\u001b[1;32m    612\u001b[0m         \u001b[0;32melse\u001b[0m\u001b[0;34m:\u001b[0m\u001b[0;34m\u001b[0m\u001b[0;34m\u001b[0m\u001b[0m\n\u001b[1;32m    613\u001b[0m             \u001b[0;31m# in SQLAlchemy 1.4 the first_connect event is not used by\u001b[0m\u001b[0;34m\u001b[0m\u001b[0;34m\u001b[0m\u001b[0;34m\u001b[0m\u001b[0m\n",
      "\u001b[0;32m/opt/conda/lib/python3.9/site-packages/sqlalchemy/util/langhelpers.py\u001b[0m in \u001b[0;36m__exit__\u001b[0;34m(self, type_, value, traceback)\u001b[0m\n\u001b[1;32m     68\u001b[0m             \u001b[0mself\u001b[0m\u001b[0;34m.\u001b[0m\u001b[0m_exc_info\u001b[0m \u001b[0;34m=\u001b[0m \u001b[0;32mNone\u001b[0m  \u001b[0;31m# remove potential circular references\u001b[0m\u001b[0;34m\u001b[0m\u001b[0;34m\u001b[0m\u001b[0m\n\u001b[1;32m     69\u001b[0m             \u001b[0;32mif\u001b[0m \u001b[0;32mnot\u001b[0m \u001b[0mself\u001b[0m\u001b[0;34m.\u001b[0m\u001b[0mwarn_only\u001b[0m\u001b[0;34m:\u001b[0m\u001b[0;34m\u001b[0m\u001b[0;34m\u001b[0m\u001b[0m\n\u001b[0;32m---> 70\u001b[0;31m                 compat.raise_(\n\u001b[0m\u001b[1;32m     71\u001b[0m                     \u001b[0mexc_value\u001b[0m\u001b[0;34m,\u001b[0m\u001b[0;34m\u001b[0m\u001b[0;34m\u001b[0m\u001b[0m\n\u001b[1;32m     72\u001b[0m                     \u001b[0mwith_traceback\u001b[0m\u001b[0;34m=\u001b[0m\u001b[0mexc_tb\u001b[0m\u001b[0;34m,\u001b[0m\u001b[0;34m\u001b[0m\u001b[0;34m\u001b[0m\u001b[0m\n",
      "\u001b[0;32m/opt/conda/lib/python3.9/site-packages/sqlalchemy/util/compat.py\u001b[0m in \u001b[0;36mraise_\u001b[0;34m(***failed resolving arguments***)\u001b[0m\n\u001b[1;32m    205\u001b[0m \u001b[0;34m\u001b[0m\u001b[0m\n\u001b[1;32m    206\u001b[0m         \u001b[0;32mtry\u001b[0m\u001b[0;34m:\u001b[0m\u001b[0;34m\u001b[0m\u001b[0;34m\u001b[0m\u001b[0m\n\u001b[0;32m--> 207\u001b[0;31m             \u001b[0;32mraise\u001b[0m \u001b[0mexception\u001b[0m\u001b[0;34m\u001b[0m\u001b[0;34m\u001b[0m\u001b[0m\n\u001b[0m\u001b[1;32m    208\u001b[0m         \u001b[0;32mfinally\u001b[0m\u001b[0;34m:\u001b[0m\u001b[0;34m\u001b[0m\u001b[0;34m\u001b[0m\u001b[0m\n\u001b[1;32m    209\u001b[0m             \u001b[0;31m# credit to\u001b[0m\u001b[0;34m\u001b[0m\u001b[0;34m\u001b[0m\u001b[0;34m\u001b[0m\u001b[0m\n",
      "\u001b[0;32m/opt/conda/lib/python3.9/site-packages/sqlalchemy/pool/base.py\u001b[0m in \u001b[0;36m__connect\u001b[0;34m(self)\u001b[0m\n\u001b[1;32m    603\u001b[0m         \u001b[0;32mtry\u001b[0m\u001b[0;34m:\u001b[0m\u001b[0;34m\u001b[0m\u001b[0;34m\u001b[0m\u001b[0m\n\u001b[1;32m    604\u001b[0m             \u001b[0mself\u001b[0m\u001b[0;34m.\u001b[0m\u001b[0mstarttime\u001b[0m \u001b[0;34m=\u001b[0m \u001b[0mtime\u001b[0m\u001b[0;34m.\u001b[0m\u001b[0mtime\u001b[0m\u001b[0;34m(\u001b[0m\u001b[0;34m)\u001b[0m\u001b[0;34m\u001b[0m\u001b[0;34m\u001b[0m\u001b[0m\n\u001b[0;32m--> 605\u001b[0;31m             \u001b[0mconnection\u001b[0m \u001b[0;34m=\u001b[0m \u001b[0mpool\u001b[0m\u001b[0;34m.\u001b[0m\u001b[0m_invoke_creator\u001b[0m\u001b[0;34m(\u001b[0m\u001b[0mself\u001b[0m\u001b[0;34m)\u001b[0m\u001b[0;34m\u001b[0m\u001b[0;34m\u001b[0m\u001b[0m\n\u001b[0m\u001b[1;32m    606\u001b[0m             \u001b[0mpool\u001b[0m\u001b[0;34m.\u001b[0m\u001b[0mlogger\u001b[0m\u001b[0;34m.\u001b[0m\u001b[0mdebug\u001b[0m\u001b[0;34m(\u001b[0m\u001b[0;34m\"Created new connection %r\"\u001b[0m\u001b[0;34m,\u001b[0m \u001b[0mconnection\u001b[0m\u001b[0;34m)\u001b[0m\u001b[0;34m\u001b[0m\u001b[0;34m\u001b[0m\u001b[0m\n\u001b[1;32m    607\u001b[0m             \u001b[0mself\u001b[0m\u001b[0;34m.\u001b[0m\u001b[0mconnection\u001b[0m \u001b[0;34m=\u001b[0m \u001b[0mconnection\u001b[0m\u001b[0;34m\u001b[0m\u001b[0;34m\u001b[0m\u001b[0m\n",
      "\u001b[0;32m/opt/conda/lib/python3.9/site-packages/sqlalchemy/engine/create.py\u001b[0m in \u001b[0;36mconnect\u001b[0;34m(connection_record)\u001b[0m\n\u001b[1;32m    576\u001b[0m                     \u001b[0;32mif\u001b[0m \u001b[0mconnection\u001b[0m \u001b[0;32mis\u001b[0m \u001b[0;32mnot\u001b[0m \u001b[0;32mNone\u001b[0m\u001b[0;34m:\u001b[0m\u001b[0;34m\u001b[0m\u001b[0;34m\u001b[0m\u001b[0m\n\u001b[1;32m    577\u001b[0m                         \u001b[0;32mreturn\u001b[0m \u001b[0mconnection\u001b[0m\u001b[0;34m\u001b[0m\u001b[0;34m\u001b[0m\u001b[0m\n\u001b[0;32m--> 578\u001b[0;31m             \u001b[0;32mreturn\u001b[0m \u001b[0mdialect\u001b[0m\u001b[0;34m.\u001b[0m\u001b[0mconnect\u001b[0m\u001b[0;34m(\u001b[0m\u001b[0;34m*\u001b[0m\u001b[0mcargs\u001b[0m\u001b[0;34m,\u001b[0m \u001b[0;34m**\u001b[0m\u001b[0mcparams\u001b[0m\u001b[0;34m)\u001b[0m\u001b[0;34m\u001b[0m\u001b[0;34m\u001b[0m\u001b[0m\n\u001b[0m\u001b[1;32m    579\u001b[0m \u001b[0;34m\u001b[0m\u001b[0m\n\u001b[1;32m    580\u001b[0m         \u001b[0mcreator\u001b[0m \u001b[0;34m=\u001b[0m \u001b[0mpop_kwarg\u001b[0m\u001b[0;34m(\u001b[0m\u001b[0;34m\"creator\"\u001b[0m\u001b[0;34m,\u001b[0m \u001b[0mconnect\u001b[0m\u001b[0;34m)\u001b[0m\u001b[0;34m\u001b[0m\u001b[0;34m\u001b[0m\u001b[0m\n",
      "\u001b[0;32m/opt/conda/lib/python3.9/site-packages/sqlalchemy/engine/default.py\u001b[0m in \u001b[0;36mconnect\u001b[0;34m(self, *cargs, **cparams)\u001b[0m\n\u001b[1;32m    582\u001b[0m     \u001b[0;32mdef\u001b[0m \u001b[0mconnect\u001b[0m\u001b[0;34m(\u001b[0m\u001b[0mself\u001b[0m\u001b[0;34m,\u001b[0m \u001b[0;34m*\u001b[0m\u001b[0mcargs\u001b[0m\u001b[0;34m,\u001b[0m \u001b[0;34m**\u001b[0m\u001b[0mcparams\u001b[0m\u001b[0;34m)\u001b[0m\u001b[0;34m:\u001b[0m\u001b[0;34m\u001b[0m\u001b[0;34m\u001b[0m\u001b[0m\n\u001b[1;32m    583\u001b[0m         \u001b[0;31m# inherits the docstring from interfaces.Dialect.connect\u001b[0m\u001b[0;34m\u001b[0m\u001b[0;34m\u001b[0m\u001b[0;34m\u001b[0m\u001b[0m\n\u001b[0;32m--> 584\u001b[0;31m         \u001b[0;32mreturn\u001b[0m \u001b[0mself\u001b[0m\u001b[0;34m.\u001b[0m\u001b[0mdbapi\u001b[0m\u001b[0;34m.\u001b[0m\u001b[0mconnect\u001b[0m\u001b[0;34m(\u001b[0m\u001b[0;34m*\u001b[0m\u001b[0mcargs\u001b[0m\u001b[0;34m,\u001b[0m \u001b[0;34m**\u001b[0m\u001b[0mcparams\u001b[0m\u001b[0;34m)\u001b[0m\u001b[0;34m\u001b[0m\u001b[0;34m\u001b[0m\u001b[0m\n\u001b[0m\u001b[1;32m    585\u001b[0m \u001b[0;34m\u001b[0m\u001b[0m\n\u001b[1;32m    586\u001b[0m     \u001b[0;32mdef\u001b[0m \u001b[0mcreate_connect_args\u001b[0m\u001b[0;34m(\u001b[0m\u001b[0mself\u001b[0m\u001b[0;34m,\u001b[0m \u001b[0murl\u001b[0m\u001b[0;34m)\u001b[0m\u001b[0;34m:\u001b[0m\u001b[0;34m\u001b[0m\u001b[0;34m\u001b[0m\u001b[0m\n",
      "\u001b[0;32m/opt/conda/lib/python3.9/site-packages/pymysql/connections.py\u001b[0m in \u001b[0;36m__init__\u001b[0;34m(self, user, password, host, database, unix_socket, port, charset, sql_mode, read_default_file, conv, use_unicode, client_flag, cursorclass, init_command, connect_timeout, read_default_group, autocommit, local_infile, max_allowed_packet, defer_connect, auth_plugin_map, read_timeout, write_timeout, bind_address, binary_prefix, program_name, server_public_key, ssl, ssl_ca, ssl_cert, ssl_disabled, ssl_key, ssl_verify_cert, ssl_verify_identity, compress, named_pipe, passwd, db)\u001b[0m\n\u001b[1;32m    351\u001b[0m             \u001b[0mself\u001b[0m\u001b[0;34m.\u001b[0m\u001b[0m_sock\u001b[0m \u001b[0;34m=\u001b[0m \u001b[0;32mNone\u001b[0m\u001b[0;34m\u001b[0m\u001b[0;34m\u001b[0m\u001b[0m\n\u001b[1;32m    352\u001b[0m         \u001b[0;32melse\u001b[0m\u001b[0;34m:\u001b[0m\u001b[0;34m\u001b[0m\u001b[0;34m\u001b[0m\u001b[0m\n\u001b[0;32m--> 353\u001b[0;31m             \u001b[0mself\u001b[0m\u001b[0;34m.\u001b[0m\u001b[0mconnect\u001b[0m\u001b[0;34m(\u001b[0m\u001b[0;34m)\u001b[0m\u001b[0;34m\u001b[0m\u001b[0;34m\u001b[0m\u001b[0m\n\u001b[0m\u001b[1;32m    354\u001b[0m \u001b[0;34m\u001b[0m\u001b[0m\n\u001b[1;32m    355\u001b[0m     \u001b[0;32mdef\u001b[0m \u001b[0m__enter__\u001b[0m\u001b[0;34m(\u001b[0m\u001b[0mself\u001b[0m\u001b[0;34m)\u001b[0m\u001b[0;34m:\u001b[0m\u001b[0;34m\u001b[0m\u001b[0;34m\u001b[0m\u001b[0m\n",
      "\u001b[0;32m/opt/conda/lib/python3.9/site-packages/pymysql/connections.py\u001b[0m in \u001b[0;36mconnect\u001b[0;34m(self, sock)\u001b[0m\n\u001b[1;32m    662\u001b[0m                 \u001b[0;32mif\u001b[0m \u001b[0mDEBUG\u001b[0m\u001b[0;34m:\u001b[0m\u001b[0;34m\u001b[0m\u001b[0;34m\u001b[0m\u001b[0m\n\u001b[1;32m    663\u001b[0m                     \u001b[0mprint\u001b[0m\u001b[0;34m(\u001b[0m\u001b[0mexc\u001b[0m\u001b[0;34m.\u001b[0m\u001b[0mtraceback\u001b[0m\u001b[0;34m)\u001b[0m\u001b[0;34m\u001b[0m\u001b[0;34m\u001b[0m\u001b[0m\n\u001b[0;32m--> 664\u001b[0;31m                 \u001b[0;32mraise\u001b[0m \u001b[0mexc\u001b[0m\u001b[0;34m\u001b[0m\u001b[0;34m\u001b[0m\u001b[0m\n\u001b[0m\u001b[1;32m    665\u001b[0m \u001b[0;34m\u001b[0m\u001b[0m\n\u001b[1;32m    666\u001b[0m             \u001b[0;31m# If e is neither DatabaseError or IOError, It's a bug.\u001b[0m\u001b[0;34m\u001b[0m\u001b[0;34m\u001b[0m\u001b[0;34m\u001b[0m\u001b[0m\n",
      "\u001b[0;31mOperationalError\u001b[0m: (pymysql.err.OperationalError) (2003, \"Can't connect to MySQL server on '127.0.0.1' ([Errno 111] Connection refused)\")\n(Background on this error at: http://sqlalche.me/e/14/e3q8)"
     ]
    },
    {
     "name": "stdout",
     "output_type": "stream",
     "text": [
      "2021-07-05 16:51:59,669 - [DEBUG] paramiko.transport [transport._log:1819]: Sending global request \"keepalive@lag.net\"\n",
      "2021-07-05 16:52:00,171 - [DEBUG] paramiko.transport [transport._log:1819]: Sending global request \"keepalive@lag.net\"\n",
      "2021-07-05 16:52:04,689 - [DEBUG] paramiko.transport [transport._log:1819]: Sending global request \"keepalive@lag.net\"\n",
      "2021-07-05 16:52:05,190 - [DEBUG] paramiko.transport [transport._log:1819]: Sending global request \"keepalive@lag.net\"\n",
      "2021-07-05 16:52:09,705 - [DEBUG] paramiko.transport [transport._log:1819]: Sending global request \"keepalive@lag.net\"\n",
      "2021-07-05 16:52:10,206 - [DEBUG] paramiko.transport [transport._log:1819]: Sending global request \"keepalive@lag.net\"\n",
      "2021-07-05 16:52:14,722 - [DEBUG] paramiko.transport [transport._log:1819]: Sending global request \"keepalive@lag.net\"\n",
      "2021-07-05 16:52:15,224 - [DEBUG] paramiko.transport [transport._log:1819]: Sending global request \"keepalive@lag.net\"\n",
      "2021-07-05 16:52:19,740 - [DEBUG] paramiko.transport [transport._log:1819]: Sending global request \"keepalive@lag.net\"\n",
      "2021-07-05 16:52:20,242 - [DEBUG] paramiko.transport [transport._log:1819]: Sending global request \"keepalive@lag.net\"\n",
      "2021-07-05 16:52:24,759 - [DEBUG] paramiko.transport [transport._log:1819]: Sending global request \"keepalive@lag.net\"\n",
      "2021-07-05 16:52:25,262 - [DEBUG] paramiko.transport [transport._log:1819]: Sending global request \"keepalive@lag.net\"\n",
      "2021-07-05 16:52:29,780 - [DEBUG] paramiko.transport [transport._log:1819]: Sending global request \"keepalive@lag.net\"\n",
      "2021-07-05 16:52:30,282 - [DEBUG] paramiko.transport [transport._log:1819]: Sending global request \"keepalive@lag.net\"\n",
      "2021-07-05 16:52:34,798 - [DEBUG] paramiko.transport [transport._log:1819]: Sending global request \"keepalive@lag.net\"\n",
      "2021-07-05 16:52:35,299 - [DEBUG] paramiko.transport [transport._log:1819]: Sending global request \"keepalive@lag.net\"\n",
      "2021-07-05 16:52:39,812 - [DEBUG] paramiko.transport [transport._log:1819]: Sending global request \"keepalive@lag.net\"\n",
      "2021-07-05 16:52:40,314 - [DEBUG] paramiko.transport [transport._log:1819]: Sending global request \"keepalive@lag.net\"\n",
      "2021-07-05 16:52:44,829 - [DEBUG] paramiko.transport [transport._log:1819]: Sending global request \"keepalive@lag.net\"\n",
      "2021-07-05 16:52:45,331 - [DEBUG] paramiko.transport [transport._log:1819]: Sending global request \"keepalive@lag.net\"\n",
      "2021-07-05 16:52:49,850 - [DEBUG] paramiko.transport [transport._log:1819]: Sending global request \"keepalive@lag.net\"\n",
      "2021-07-05 16:52:50,352 - [DEBUG] paramiko.transport [transport._log:1819]: Sending global request \"keepalive@lag.net\"\n",
      "2021-07-05 16:52:54,869 - [DEBUG] paramiko.transport [transport._log:1819]: Sending global request \"keepalive@lag.net\"\n",
      "2021-07-05 16:52:55,371 - [DEBUG] paramiko.transport [transport._log:1819]: Sending global request \"keepalive@lag.net\"\n",
      "2021-07-05 16:52:59,886 - [DEBUG] paramiko.transport [transport._log:1819]: Sending global request \"keepalive@lag.net\"\n",
      "2021-07-05 16:53:00,387 - [DEBUG] paramiko.transport [transport._log:1819]: Sending global request \"keepalive@lag.net\"\n",
      "2021-07-05 16:53:04,903 - [DEBUG] paramiko.transport [transport._log:1819]: Sending global request \"keepalive@lag.net\"\n",
      "2021-07-05 16:53:05,405 - [DEBUG] paramiko.transport [transport._log:1819]: Sending global request \"keepalive@lag.net\"\n",
      "2021-07-05 16:53:09,921 - [DEBUG] paramiko.transport [transport._log:1819]: Sending global request \"keepalive@lag.net\"\n",
      "2021-07-05 16:53:10,424 - [DEBUG] paramiko.transport [transport._log:1819]: Sending global request \"keepalive@lag.net\"\n"
     ]
    }
   ],
   "source": [
    "## build jos_users_full\n",
    "import sqlalchemy as sql\n",
    "engine = sql.create_engine('mysql+pymysql://%s:%s@127.0.0.1/nanohub' \\\n",
    "                                               %('wang2506_ro', 'fnVnwcCS7iT45EsA'))\n",
    "\n",
    "sql_query = \"select id,name,username,email,registerDate,lastvisitDate from jos_users order by registerDate desc\"\n",
    "jos_users_full = pd.read_sql_query(sql_query, engine)\n",
    "display(jos_users_full.head(2))\n",
    "print(jos_users_full.shape)"
   ]
  },
  {
   "cell_type": "code",
   "execution_count": 71,
   "metadata": {},
   "outputs": [
    {
     "data": {
      "text/html": [
       "<div>\n",
       "<style scoped>\n",
       "    .dataframe tbody tr th:only-of-type {\n",
       "        vertical-align: middle;\n",
       "    }\n",
       "\n",
       "    .dataframe tbody tr th {\n",
       "        vertical-align: top;\n",
       "    }\n",
       "\n",
       "    .dataframe thead th {\n",
       "        text-align: right;\n",
       "    }\n",
       "</style>\n",
       "<table border=\"1\" class=\"dataframe\">\n",
       "  <thead>\n",
       "    <tr style=\"text-align: right;\">\n",
       "      <th></th>\n",
       "      <th>datetime</th>\n",
       "      <th>ip</th>\n",
       "      <th>countryip</th>\n",
       "      <th>user</th>\n",
       "      <th>tool</th>\n",
       "    </tr>\n",
       "  </thead>\n",
       "  <tbody>\n",
       "    <tr>\n",
       "      <th>0</th>\n",
       "      <td>2001-12-31 23:23:51</td>\n",
       "      <td>68.32.42.69</td>\n",
       "      <td>US</td>\n",
       "      <td>jjeon</td>\n",
       "      <td>Adeptf</td>\n",
       "    </tr>\n",
       "    <tr>\n",
       "      <th>1</th>\n",
       "      <td>2001-12-31 23:23:23</td>\n",
       "      <td>68.32.42.69</td>\n",
       "      <td>US</td>\n",
       "      <td>jjeon</td>\n",
       "      <td>Adeptf</td>\n",
       "    </tr>\n",
       "  </tbody>\n",
       "</table>\n",
       "</div>"
      ],
      "text/plain": [
       "             datetime           ip countryip   user    tool\n",
       "0 2001-12-31 23:23:51  68.32.42.69        US  jjeon  Adeptf\n",
       "1 2001-12-31 23:23:23  68.32.42.69        US  jjeon  Adeptf"
      ]
     },
     "metadata": {},
     "output_type": "display_data"
    },
    {
     "name": "stdout",
     "output_type": "stream",
     "text": [
      "(138857, 5)\n"
     ]
    }
   ],
   "source": [
    "## build all users list\n",
    "engine_metrics = sql.create_engine('mysql+pymysql://%s:%s@127.0.0.1/nanohub_metrics' \\\n",
    "                                               %('wang2506_ro', 'fnVnwcCS7iT45EsA'))\n",
    "sql_query = \"select datetime,ip,countryip,user,tool from toolstart where user != 'instanton' \"\\\n",
    "+\"and user != 'gridstat' and datetime <= '2002-01-01' and datetime >= '0000-01-01' order by datetime desc\"\n",
    "toolstart_df = pd.read_sql_query(sql_query, engine_metrics)\n",
    "display(toolstart_df.head(2))\n",
    "print(toolstart_df.shape)"
   ]
  },
  {
   "cell_type": "code",
   "execution_count": 72,
   "metadata": {},
   "outputs": [],
   "source": [
    "## convert the dataframes to datetime\n",
    "jos_users_full['registerDate'] = pd.to_datetime(jos_users_full.registerDate)\n",
    "jos_users_full['lastvisitDate'] = pd.to_datetime(jos_users_full.lastvisitDate)\n",
    "\n",
    "toolstart_df['datetime'] = pd.to_datetime(toolstart_df.datetime)"
   ]
  },
  {
   "cell_type": "code",
   "execution_count": 46,
   "metadata": {},
   "outputs": [
    {
     "data": {
      "text/html": [
       "<div>\n",
       "<style scoped>\n",
       "    .dataframe tbody tr th:only-of-type {\n",
       "        vertical-align: middle;\n",
       "    }\n",
       "\n",
       "    .dataframe tbody tr th {\n",
       "        vertical-align: top;\n",
       "    }\n",
       "\n",
       "    .dataframe thead th {\n",
       "        text-align: right;\n",
       "    }\n",
       "</style>\n",
       "<table border=\"1\" class=\"dataframe\">\n",
       "  <thead>\n",
       "    <tr style=\"text-align: right;\">\n",
       "      <th></th>\n",
       "      <th>year_month</th>\n",
       "    </tr>\n",
       "  </thead>\n",
       "  <tbody>\n",
       "    <tr>\n",
       "      <th>0</th>\n",
       "      <td>2000-01-01</td>\n",
       "    </tr>\n",
       "    <tr>\n",
       "      <th>1</th>\n",
       "      <td>2000-02-01</td>\n",
       "    </tr>\n",
       "  </tbody>\n",
       "</table>\n",
       "</div>"
      ],
      "text/plain": [
       "  year_month\n",
       "0 2000-01-01\n",
       "1 2000-02-01"
      ]
     },
     "execution_count": 46,
     "metadata": {},
     "output_type": "execute_result"
    }
   ],
   "source": [
    "all_months_list = list()\n",
    "for this_year in range(2000,2021+1):\n",
    "    for this_month in range(1,12+1):\n",
    "        all_months_list.append(datetime.datetime(this_year, this_month, 1))\n",
    "        \n",
    "for this_year in range(2021,2022):\n",
    "    for this_month in range(1,2):\n",
    "        all_months_list.append(datetime.datetime(this_year, this_month, 1))\n",
    "        \n",
    "months_bin = pd.DataFrame(all_months_list, columns=['year_month'])\n",
    "\n",
    "# display\n",
    "months_bin.head(2)"
   ]
  },
  {
   "cell_type": "code",
   "execution_count": 417,
   "metadata": {},
   "outputs": [],
   "source": [
    "## jos_users_full registration cumulative monthly\n",
    "months_bin['registered_12_trail'] = months_bin.year_month.apply(lambda x:  \\\n",
    "                                jos_users_full.username[(jos_users_full.registerDate < x)\\\n",
    "                            &(jos_users_full.registerDate > (x-datetime.timedelta(days=365)))].nunique() )"
   ]
  },
  {
   "cell_type": "code",
   "execution_count": 418,
   "metadata": {},
   "outputs": [],
   "source": [
    "##the all users must be done in a bi-yearly basis\n",
    "months_bin['sim_12_trail'] = months_bin.year_month.apply(lambda x: toolstart_df.user[(toolstart_df.datetime < x) \\\n",
    "                                        &(toolstart_df.datetime > (x-datetime.timedelta(days=365)))].nunique() )"
   ]
  },
  {
   "cell_type": "code",
   "execution_count": 51,
   "metadata": {},
   "outputs": [],
   "source": [
    "import datetime"
   ]
  },
  {
   "cell_type": "code",
   "execution_count": 419,
   "metadata": {},
   "outputs": [
    {
     "name": "stdout",
     "output_type": "stream",
     "text": [
      "24\n"
     ]
    }
   ],
   "source": [
    "print(months_bin['year_month'].to_list().index(pd.to_datetime('2002-01-01')) )\n",
    "temp = months_bin['sim_12_trail']#[:25]"
   ]
  },
  {
   "cell_type": "code",
   "execution_count": 420,
   "metadata": {},
   "outputs": [
    {
     "name": "stdout",
     "output_type": "stream",
     "text": [
      "260    11632\n",
      "261    10123\n",
      "262     7818\n",
      "263     5374\n",
      "264    21889\n",
      "Name: sim_12_trail, dtype: int64\n",
      "20    0\n",
      "21    0\n",
      "22    0\n",
      "23    0\n",
      "24    0\n",
      "Name: sim_12_trail, dtype: int64\n"
     ]
    }
   ],
   "source": [
    "print(temp[-5:])\n",
    "print(temp[20:25])"
   ]
  },
  {
   "cell_type": "code",
   "execution_count": 421,
   "metadata": {},
   "outputs": [
    {
     "name": "stdout",
     "output_type": "stream",
     "text": [
      "(122148, 5)\n"
     ]
    },
    {
     "name": "stderr",
     "output_type": "stream",
     "text": [
      "C:\\Users\\ch5b2\\anaconda3\\lib\\site-packages\\ipykernel_launcher.py:23: SettingWithCopyWarning: \n",
      "A value is trying to be set on a copy of a slice from a DataFrame\n",
      "\n",
      "See the caveats in the documentation: https://pandas.pydata.org/pandas-docs/stable/user_guide/indexing.html#returning-a-view-versus-a-copy\n"
     ]
    },
    {
     "name": "stdout",
     "output_type": "stream",
     "text": [
      "(136210, 5)\n",
      "(147533, 5)\n",
      "(114575, 5)\n",
      "(195951, 5)\n",
      "(389282, 5)\n",
      "(631227, 5)\n",
      "(755597, 5)\n",
      "(757271, 5)\n",
      "(786048, 5)\n",
      "(812523, 5)\n",
      "(914351, 5)\n",
      "(1326836, 5)\n",
      "(1573469, 5)\n",
      "(1594198, 5)\n",
      "(2022509, 5)\n",
      "(1932226, 5)\n",
      "(1353033, 5)\n",
      "(1642209, 5)\n"
     ]
    }
   ],
   "source": [
    "## computer has memory limits, so split the sim_12_trail into batches\n",
    "start_year = 2002 #2002 #allows for flexibility as well for future updates\n",
    "\n",
    "while start_year < 2021:#datetime.datetime.now().year:\n",
    "    prev_temp_ind = months_bin['year_month'].to_list().index(pd.to_datetime(str(start_year)+'-01-01')) \n",
    "    \n",
    "    start_year += 1\n",
    "    end_date = r\"'\"+str(start_year)+r\"-01-01'\"\n",
    "#     print(end_date)\n",
    "    start_date = r\"'\"+str(start_year-2)+r\"-01-01'\"\n",
    "    \n",
    "    sql_query = \"select datetime,ip,countryip,user,tool from toolstart where user != 'instanton' \"\\\n",
    "        +\"and user != 'gridstat' and datetime <= \"+end_date+\" and datetime >= \"+start_date+\" order by datetime desc\"\n",
    "    toolstart_df = pd.read_sql_query(sql_query, engine_metrics)\n",
    "    toolstart_df['datetime'] = pd.to_datetime(toolstart_df.datetime)\n",
    "    print(toolstart_df.shape)\n",
    "    \n",
    "    temp2 = months_bin.year_month.apply(lambda x: toolstart_df.user[(toolstart_df.datetime < x) \\\n",
    "                                        &(toolstart_df.datetime > (x-datetime.timedelta(days=365)))].nunique() )\n",
    "    \n",
    "    max_temp_ind = months_bin['year_month'].to_list().index(pd.to_datetime(str(start_year)+'-01-01')) \n",
    "    \n",
    "    temp[prev_temp_ind:max_temp_ind] = temp2[prev_temp_ind:max_temp_ind]"
   ]
  },
  {
   "cell_type": "code",
   "execution_count": 422,
   "metadata": {},
   "outputs": [],
   "source": [
    "# calculating total number of visitors\n",
    "import json\n",
    "with open(cwd+'/visitors.json') as f:\n",
    "    visitor_dict = f.read()\n",
    "    visitor_dict = visitor_dict.replace(\"\\'\",'\\\"')\n",
    "    visitor_dict = json.loads(visitor_dict)\n",
    "#     visitor_dict.replace(r\"'\",r'\"')\n",
    "#     vicitor_dict = json.load(visitor_dict)"
   ]
  },
  {
   "cell_type": "code",
   "execution_count": 423,
   "metadata": {
    "tags": []
   },
   "outputs": [],
   "source": [
    "import re\n",
    "pattern = re.compile('\\d+]')\n",
    "step1 = re.findall(pattern,visitor_dict['data'])\n",
    "res_visitors = [i[:-1] for i in step1]"
   ]
  },
  {
   "cell_type": "code",
   "execution_count": 439,
   "metadata": {},
   "outputs": [],
   "source": [
    "import numpy as np\n",
    "res_visitors2 = list(np.zeros(12*6+14)) + res_visitors"
   ]
  },
  {
   "cell_type": "code",
   "execution_count": 440,
   "metadata": {},
   "outputs": [
    {
     "name": "stdout",
     "output_type": "stream",
     "text": [
      "263\n",
      "['1940762', '1978362', '1967734', '2009618', '1872881']\n"
     ]
    }
   ],
   "source": [
    "print(len(res_visitors2))\n",
    "print(res_visitors2[-5:])"
   ]
  },
  {
   "cell_type": "code",
   "execution_count": 441,
   "metadata": {},
   "outputs": [
    {
     "data": {
      "text/html": [
       "<div>\n",
       "<style scoped>\n",
       "    .dataframe tbody tr th:only-of-type {\n",
       "        vertical-align: middle;\n",
       "    }\n",
       "\n",
       "    .dataframe tbody tr th {\n",
       "        vertical-align: top;\n",
       "    }\n",
       "\n",
       "    .dataframe thead th {\n",
       "        text-align: right;\n",
       "    }\n",
       "</style>\n",
       "<table border=\"1\" class=\"dataframe\">\n",
       "  <thead>\n",
       "    <tr style=\"text-align: right;\">\n",
       "      <th></th>\n",
       "      <th>year_month</th>\n",
       "      <th>registered_12_trail</th>\n",
       "      <th>sim_12_trail</th>\n",
       "      <th>visitors_12_trail</th>\n",
       "    </tr>\n",
       "  </thead>\n",
       "  <tbody>\n",
       "    <tr>\n",
       "      <th>255</th>\n",
       "      <td>2021-04-01</td>\n",
       "      <td>26643</td>\n",
       "      <td>20136</td>\n",
       "      <td>1916142</td>\n",
       "    </tr>\n",
       "    <tr>\n",
       "      <th>256</th>\n",
       "      <td>2021-05-01</td>\n",
       "      <td>23465</td>\n",
       "      <td>17799</td>\n",
       "      <td>1950187</td>\n",
       "    </tr>\n",
       "    <tr>\n",
       "      <th>257</th>\n",
       "      <td>2021-06-01</td>\n",
       "      <td>20832</td>\n",
       "      <td>15503</td>\n",
       "      <td>1993458</td>\n",
       "    </tr>\n",
       "    <tr>\n",
       "      <th>258</th>\n",
       "      <td>2021-07-01</td>\n",
       "      <td>17963</td>\n",
       "      <td>13908</td>\n",
       "      <td>2010559</td>\n",
       "    </tr>\n",
       "    <tr>\n",
       "      <th>259</th>\n",
       "      <td>2021-08-01</td>\n",
       "      <td>16026</td>\n",
       "      <td>12786</td>\n",
       "      <td>1948323</td>\n",
       "    </tr>\n",
       "    <tr>\n",
       "      <th>260</th>\n",
       "      <td>2021-09-01</td>\n",
       "      <td>13651</td>\n",
       "      <td>11632</td>\n",
       "      <td>1940762</td>\n",
       "    </tr>\n",
       "    <tr>\n",
       "      <th>261</th>\n",
       "      <td>2021-10-01</td>\n",
       "      <td>11050</td>\n",
       "      <td>10123</td>\n",
       "      <td>1978362</td>\n",
       "    </tr>\n",
       "    <tr>\n",
       "      <th>262</th>\n",
       "      <td>2021-11-01</td>\n",
       "      <td>7910</td>\n",
       "      <td>7818</td>\n",
       "      <td>1967734</td>\n",
       "    </tr>\n",
       "    <tr>\n",
       "      <th>263</th>\n",
       "      <td>2021-12-01</td>\n",
       "      <td>4963</td>\n",
       "      <td>5374</td>\n",
       "      <td>2009618</td>\n",
       "    </tr>\n",
       "    <tr>\n",
       "      <th>264</th>\n",
       "      <td>2021-01-01</td>\n",
       "      <td>29969</td>\n",
       "      <td>21889</td>\n",
       "      <td>1872881</td>\n",
       "    </tr>\n",
       "  </tbody>\n",
       "</table>\n",
       "</div>"
      ],
      "text/plain": [
       "    year_month  registered_12_trail  sim_12_trail visitors_12_trail\n",
       "255 2021-04-01                26643         20136           1916142\n",
       "256 2021-05-01                23465         17799           1950187\n",
       "257 2021-06-01                20832         15503           1993458\n",
       "258 2021-07-01                17963         13908           2010559\n",
       "259 2021-08-01                16026         12786           1948323\n",
       "260 2021-09-01                13651         11632           1940762\n",
       "261 2021-10-01                11050         10123           1978362\n",
       "262 2021-11-01                 7910          7818           1967734\n",
       "263 2021-12-01                 4963          5374           2009618\n",
       "264 2021-01-01                29969         21889           1872881"
      ]
     },
     "metadata": {},
     "output_type": "display_data"
    }
   ],
   "source": [
    "display(months_bin.tail(10))"
   ]
  },
  {
   "cell_type": "code",
   "execution_count": 429,
   "metadata": {},
   "outputs": [
    {
     "data": {
      "text/plain": [
       "(265, 3)"
      ]
     },
     "execution_count": 429,
     "metadata": {},
     "output_type": "execute_result"
    }
   ],
   "source": [
    "months_bin.shape"
   ]
  },
  {
   "cell_type": "code",
   "execution_count": 431,
   "metadata": {},
   "outputs": [
    {
     "data": {
      "text/html": [
       "<div>\n",
       "<style scoped>\n",
       "    .dataframe tbody tr th:only-of-type {\n",
       "        vertical-align: middle;\n",
       "    }\n",
       "\n",
       "    .dataframe tbody tr th {\n",
       "        vertical-align: top;\n",
       "    }\n",
       "\n",
       "    .dataframe thead th {\n",
       "        text-align: right;\n",
       "    }\n",
       "</style>\n",
       "<table border=\"1\" class=\"dataframe\">\n",
       "  <thead>\n",
       "    <tr style=\"text-align: right;\">\n",
       "      <th></th>\n",
       "      <th>year_month</th>\n",
       "      <th>registered_12_trail</th>\n",
       "      <th>sim_12_trail</th>\n",
       "      <th>visitors_12_trail</th>\n",
       "    </tr>\n",
       "  </thead>\n",
       "  <tbody>\n",
       "    <tr>\n",
       "      <th>255</th>\n",
       "      <td>2021-04-01</td>\n",
       "      <td>26643</td>\n",
       "      <td>20136</td>\n",
       "      <td>1916142</td>\n",
       "    </tr>\n",
       "    <tr>\n",
       "      <th>256</th>\n",
       "      <td>2021-05-01</td>\n",
       "      <td>23465</td>\n",
       "      <td>17799</td>\n",
       "      <td>1950187</td>\n",
       "    </tr>\n",
       "    <tr>\n",
       "      <th>257</th>\n",
       "      <td>2021-06-01</td>\n",
       "      <td>20832</td>\n",
       "      <td>15503</td>\n",
       "      <td>1993458</td>\n",
       "    </tr>\n",
       "    <tr>\n",
       "      <th>258</th>\n",
       "      <td>2021-07-01</td>\n",
       "      <td>17963</td>\n",
       "      <td>13908</td>\n",
       "      <td>2010559</td>\n",
       "    </tr>\n",
       "    <tr>\n",
       "      <th>259</th>\n",
       "      <td>2021-08-01</td>\n",
       "      <td>16026</td>\n",
       "      <td>12786</td>\n",
       "      <td>1948323</td>\n",
       "    </tr>\n",
       "    <tr>\n",
       "      <th>260</th>\n",
       "      <td>2021-09-01</td>\n",
       "      <td>13651</td>\n",
       "      <td>11632</td>\n",
       "      <td>1940762</td>\n",
       "    </tr>\n",
       "    <tr>\n",
       "      <th>261</th>\n",
       "      <td>2021-10-01</td>\n",
       "      <td>11050</td>\n",
       "      <td>10123</td>\n",
       "      <td>1978362</td>\n",
       "    </tr>\n",
       "    <tr>\n",
       "      <th>262</th>\n",
       "      <td>2021-11-01</td>\n",
       "      <td>7910</td>\n",
       "      <td>7818</td>\n",
       "      <td>1967734</td>\n",
       "    </tr>\n",
       "    <tr>\n",
       "      <th>263</th>\n",
       "      <td>2021-12-01</td>\n",
       "      <td>4963</td>\n",
       "      <td>5374</td>\n",
       "      <td>2009618</td>\n",
       "    </tr>\n",
       "    <tr>\n",
       "      <th>264</th>\n",
       "      <td>2021-01-01</td>\n",
       "      <td>29969</td>\n",
       "      <td>21889</td>\n",
       "      <td>1872881</td>\n",
       "    </tr>\n",
       "  </tbody>\n",
       "</table>\n",
       "</div>"
      ],
      "text/plain": [
       "    year_month  registered_12_trail  sim_12_trail visitors_12_trail\n",
       "255 2021-04-01                26643         20136           1916142\n",
       "256 2021-05-01                23465         17799           1950187\n",
       "257 2021-06-01                20832         15503           1993458\n",
       "258 2021-07-01                17963         13908           2010559\n",
       "259 2021-08-01                16026         12786           1948323\n",
       "260 2021-09-01                13651         11632           1940762\n",
       "261 2021-10-01                11050         10123           1978362\n",
       "262 2021-11-01                 7910          7818           1967734\n",
       "263 2021-12-01                 4963          5374           2009618\n",
       "264 2021-01-01                29969         21889           1872881"
      ]
     },
     "metadata": {},
     "output_type": "display_data"
    }
   ],
   "source": [
    "months_bin['visitors_12_trail'] = res_visitors2\n",
    "# months_bin['sim_12_trail'] = temp\n",
    "display(months_bin.tail(10))"
   ]
  },
  {
   "cell_type": "code",
   "execution_count": 1135,
   "metadata": {},
   "outputs": [
    {
     "data": {
      "text/html": [
       "<div>\n",
       "<style scoped>\n",
       "    .dataframe tbody tr th:only-of-type {\n",
       "        vertical-align: middle;\n",
       "    }\n",
       "\n",
       "    .dataframe tbody tr th {\n",
       "        vertical-align: top;\n",
       "    }\n",
       "\n",
       "    .dataframe thead th {\n",
       "        text-align: right;\n",
       "    }\n",
       "</style>\n",
       "<table border=\"1\" class=\"dataframe\">\n",
       "  <thead>\n",
       "    <tr style=\"text-align: right;\">\n",
       "      <th></th>\n",
       "      <th>year_month</th>\n",
       "      <th>registered_12_trail</th>\n",
       "      <th>sim_12_trail</th>\n",
       "      <th>visitors_12_trail</th>\n",
       "    </tr>\n",
       "  </thead>\n",
       "  <tbody>\n",
       "    <tr>\n",
       "      <th>250</th>\n",
       "      <td>2020-11-01</td>\n",
       "      <td>27784</td>\n",
       "      <td>21071</td>\n",
       "      <td>1689647</td>\n",
       "    </tr>\n",
       "    <tr>\n",
       "      <th>251</th>\n",
       "      <td>2020-12-01</td>\n",
       "      <td>29029</td>\n",
       "      <td>21684</td>\n",
       "      <td>1643090</td>\n",
       "    </tr>\n",
       "    <tr>\n",
       "      <th>252</th>\n",
       "      <td>2021-01-01</td>\n",
       "      <td>29969</td>\n",
       "      <td>21889</td>\n",
       "      <td>1874508</td>\n",
       "    </tr>\n",
       "    <tr>\n",
       "      <th>253</th>\n",
       "      <td>2021-02-01</td>\n",
       "      <td>30502</td>\n",
       "      <td>22742</td>\n",
       "      <td>1898459</td>\n",
       "    </tr>\n",
       "    <tr>\n",
       "      <th>254</th>\n",
       "      <td>2021-03-01</td>\n",
       "      <td>29019</td>\n",
       "      <td>21640</td>\n",
       "      <td>1899399</td>\n",
       "    </tr>\n",
       "    <tr>\n",
       "      <th>255</th>\n",
       "      <td>2021-04-01</td>\n",
       "      <td>26643</td>\n",
       "      <td>20136</td>\n",
       "      <td>1916142</td>\n",
       "    </tr>\n",
       "    <tr>\n",
       "      <th>256</th>\n",
       "      <td>2021-05-01</td>\n",
       "      <td>23465</td>\n",
       "      <td>17799</td>\n",
       "      <td>1950187</td>\n",
       "    </tr>\n",
       "    <tr>\n",
       "      <th>257</th>\n",
       "      <td>2021-06-01</td>\n",
       "      <td>20832</td>\n",
       "      <td>15503</td>\n",
       "      <td>1993458</td>\n",
       "    </tr>\n",
       "    <tr>\n",
       "      <th>258</th>\n",
       "      <td>2021-07-01</td>\n",
       "      <td>17963</td>\n",
       "      <td>13908</td>\n",
       "      <td>2010559</td>\n",
       "    </tr>\n",
       "    <tr>\n",
       "      <th>259</th>\n",
       "      <td>2021-08-01</td>\n",
       "      <td>16026</td>\n",
       "      <td>12786</td>\n",
       "      <td>1948323</td>\n",
       "    </tr>\n",
       "    <tr>\n",
       "      <th>260</th>\n",
       "      <td>2021-09-01</td>\n",
       "      <td>13651</td>\n",
       "      <td>11632</td>\n",
       "      <td>1940762</td>\n",
       "    </tr>\n",
       "    <tr>\n",
       "      <th>261</th>\n",
       "      <td>2021-10-01</td>\n",
       "      <td>11050</td>\n",
       "      <td>10123</td>\n",
       "      <td>1978362</td>\n",
       "    </tr>\n",
       "    <tr>\n",
       "      <th>262</th>\n",
       "      <td>2021-11-01</td>\n",
       "      <td>7910</td>\n",
       "      <td>7818</td>\n",
       "      <td>1967734</td>\n",
       "    </tr>\n",
       "    <tr>\n",
       "      <th>263</th>\n",
       "      <td>2021-12-01</td>\n",
       "      <td>4963</td>\n",
       "      <td>5374</td>\n",
       "      <td>2009618</td>\n",
       "    </tr>\n",
       "    <tr>\n",
       "      <th>264</th>\n",
       "      <td>2021-01-01</td>\n",
       "      <td>29969</td>\n",
       "      <td>21889</td>\n",
       "      <td>1872881</td>\n",
       "    </tr>\n",
       "  </tbody>\n",
       "</table>\n",
       "</div>"
      ],
      "text/plain": [
       "    year_month  registered_12_trail  sim_12_trail visitors_12_trail\n",
       "250 2020-11-01                27784         21071           1689647\n",
       "251 2020-12-01                29029         21684           1643090\n",
       "252 2021-01-01                29969         21889           1874508\n",
       "253 2021-02-01                30502         22742           1898459\n",
       "254 2021-03-01                29019         21640           1899399\n",
       "255 2021-04-01                26643         20136           1916142\n",
       "256 2021-05-01                23465         17799           1950187\n",
       "257 2021-06-01                20832         15503           1993458\n",
       "258 2021-07-01                17963         13908           2010559\n",
       "259 2021-08-01                16026         12786           1948323\n",
       "260 2021-09-01                13651         11632           1940762\n",
       "261 2021-10-01                11050         10123           1978362\n",
       "262 2021-11-01                 7910          7818           1967734\n",
       "263 2021-12-01                 4963          5374           2009618\n",
       "264 2021-01-01                29969         21889           1872881"
      ]
     },
     "metadata": {},
     "output_type": "display_data"
    }
   ],
   "source": [
    "display(months_bin.tail(15))"
   ]
  },
  {
   "cell_type": "code",
   "execution_count": 1132,
   "metadata": {},
   "outputs": [
    {
     "data": {
      "text/plain": [
       "0         15\n",
       "1         19\n",
       "2         24\n",
       "3         26\n",
       "4         30\n",
       "       ...  \n",
       "249    26655\n",
       "250    27784\n",
       "251    29029\n",
       "252    29969\n",
       "253    30502\n",
       "Name: registered_12_trail, Length: 254, dtype: int64"
      ]
     },
     "execution_count": 1132,
     "metadata": {},
     "output_type": "execute_result"
    }
   ],
   "source": [
    "months_bin.registered_12_trail[:-11]"
   ]
  },
  {
   "cell_type": "code",
   "execution_count": 1139,
   "metadata": {},
   "outputs": [
    {
     "data": {
      "text/plain": [
       "0          0\n",
       "1          0\n",
       "2          0\n",
       "3          0\n",
       "4          0\n",
       "       ...  \n",
       "249    20193\n",
       "250    21071\n",
       "251    21684\n",
       "252    21889\n",
       "253    22742\n",
       "Name: sim_12_trail, Length: 254, dtype: int64"
      ]
     },
     "execution_count": 1139,
     "metadata": {},
     "output_type": "execute_result"
    }
   ],
   "source": [
    "months_bin.sim_12_trail[:-11]"
   ]
  },
  {
   "cell_type": "code",
   "execution_count": 1130,
   "metadata": {},
   "outputs": [],
   "source": [
    "#months_bin.to_csv('months_bin_backup.csv')"
   ]
  },
  {
   "cell_type": "code",
   "execution_count": 1155,
   "metadata": {},
   "outputs": [
    {
     "data": {
      "image/png": "[encoded data removed]",
      "text/plain": [
       "<Figure size 432x288 with 2 Axes>"
      ]
     },
     "metadata": {},
     "output_type": "display_data"
    }
   ],
   "source": [
    "from matplotlib import pyplot as plt\n",
    "import seaborn as sns\n",
    "import os\n",
    "sns.set()\n",
    "sns.set_style(\"white\")\n",
    "#plt.figure(figsize=(9,6))\n",
    "fig, ax1 = plt.subplots()\n",
    "ax1.clear()\n",
    "ax1.plot(months_bin.year_month[:-11], months_bin.registered_12_trail[:-11], color='red', label='New Registered Users');\n",
    "ax1.plot(months_bin.year_month[:-11], months_bin.sim_12_trail[:-11], color='blue', label='Simulation Users');\n",
    "#plt.plot(months_bin.year_month,res_visitors2)\n",
    "\n",
    "ax1.set_title('nanoHUB user growth');\n",
    "\n",
    "ax1.set_xlim([datetime.datetime(2000,1,1), datetime.datetime(2021,3,1)]);\n",
    "ax1.set_ylim([0, 35000])\n",
    "ax1.set_yticks(np.arange(0,35000,5000))\n",
    "ax1.tick_params(axis='y',labelcolor='red')\n",
    "# ax1.set_ylabel('Unique Users/Month')\n",
    "\n",
    "ax2 = ax1.twinx()\n",
    "# ax2.set_ylabel('Unique Visitors/Month')\n",
    "ax2.plot(months_bin.year_month[:-11],months_bin.visitors_12_trail[11:],color='green',label='Unique Monthly Visitors')\n",
    "ax2.tick_params(axis='y',labelcolor='green')\n",
    "ax2.set_yticks(np.arange(0,2000000+250000,250000))\n",
    "ax2.set_ylim([0,2000000+250000])\n",
    "# ax2.legend(loc='center left')\n",
    "# plt.ylabel('Annualized nanoHUB Visitors');\n",
    "# ax1.legend(loc='upper left');\n",
    "cwd = os.getcwd()\n",
    "ax1.legend(True)\n",
    "plt.savefig(cwd+'/appendixF_plots/overall_user_growth_legend.eps', dpi=500, bbox_inches='tight')\n",
    "# plt.savefig(cwd+'/appendixF_plots/overall_user_growth_no_legend.png', dpi=500, bbox_inches='tight')\n",
    "# users_registrered_visitors_12_months - new name"
   ]
  },
  {
   "cell_type": "code",
   "execution_count": 468,
   "metadata": {},
   "outputs": [
    {
     "name": "stdout",
     "output_type": "stream",
     "text": [
      "252    29969\n",
      "Name: registered_12_trail, dtype: int64\n",
      "252    21889\n",
      "Name: sim_12_trail, dtype: int64\n",
      "263    2009618\n",
      "Name: visitors_12_trail, dtype: object\n"
     ]
    }
   ],
   "source": [
    "print(months_bin.registered_12_trail[-13:-12])\n",
    "print(months_bin.sim_12_trail[-13:-12])\n",
    "print(months_bin.visitors_12_trail[-2:-1])"
   ]
  },
  {
   "cell_type": "code",
   "execution_count": 460,
   "metadata": {},
   "outputs": [
    {
     "data": {
      "text/plain": [
       "0     2000-01-01\n",
       "1     2000-02-01\n",
       "2     2000-03-01\n",
       "3     2000-04-01\n",
       "4     2000-05-01\n",
       "         ...    \n",
       "248   2020-09-01\n",
       "249   2020-10-01\n",
       "250   2020-11-01\n",
       "251   2020-12-01\n",
       "252   2021-01-01\n",
       "Name: year_month, Length: 253, dtype: datetime64[ns]"
      ]
     },
     "execution_count": 460,
     "metadata": {},
     "output_type": "execute_result"
    }
   ],
   "source": [
    "months_bin.year_month[:-12]"
   ]
  },
  {
   "cell_type": "markdown",
   "metadata": {},
   "source": [
    "## Cumulative classroom/research/self-study"
   ]
  },
  {
   "cell_type": "code",
   "execution_count": 8,
   "metadata": {},
   "outputs": [],
   "source": [
    "###\n",
    "# 1. pull all unique classroom users from SF\n",
    "# 2. pull all research users from DB2\n",
    "# 3. pull all contacts from SF\n",
    "# 4. iteratively pull toolstart df again by year starting from 2000"
   ]
  },
  {
   "cell_type": "code",
   "execution_count": 9,
   "metadata": {},
   "outputs": [
    {
     "name": "stdout",
     "output_type": "stream",
     "text": [
      "Obtained Salesforce access token ...... True\n"
     ]
    }
   ],
   "source": [
    "## pull all classroom users from SF\n",
    "db_1 = DB2SalesforceAPI(sf_login_params)"
   ]
  },
  {
   "cell_type": "code",
   "execution_count": 10,
   "metadata": {},
   "outputs": [
    {
     "name": "stdout",
     "output_type": "stream",
     "text": [
      "[Success] Bulk job creation successful. Job ID = 7505w00000WwbkPAAR\n",
      "{\"id\":\"7505w00000WwbkPAAR\",\"operation\":\"query\",\"object\":\"ContactToolClusterAssociation__c\",\"createdById\":\"0055w00000DM5bOAAT\",\"createdDate\":\"2021-06-14T03:38:31.000+0000\",\"systemModstamp\":\"2021-06-14T03:38:31.000+0000\",\"state\":\"UploadComplete\",\"concurrencyMode\":\"Parallel\",\"contentType\":\"CSV\",\"apiVersion\":47.0,\"jobType\":\"V2Query\",\"lineEnding\":\"LF\",\"columnDelimiter\":\"COMMA\",\"retries\":0,\"totalProcessingTime\":0}\n",
      "{\"id\":\"7505w00000WwbkPAAR\",\"operation\":\"query\",\"object\":\"ContactToolClusterAssociation__c\",\"createdById\":\"0055w00000DM5bOAAT\",\"createdDate\":\"2021-06-14T03:38:31.000+0000\",\"systemModstamp\":\"2021-06-14T03:38:40.000+0000\",\"state\":\"JobComplete\",\"concurrencyMode\":\"Parallel\",\"contentType\":\"CSV\",\"apiVersion\":47.0,\"jobType\":\"V2Query\",\"lineEnding\":\"LF\",\"columnDelimiter\":\"COMMA\",\"numberRecordsProcessed\":98079,\"retries\":0,\"totalProcessingTime\":6925}\n",
      "[Success] Bulk job completed successfully.\n"
     ]
    }
   ],
   "source": [
    "## pull the list of contacts within each cluster\n",
    "contacts_in_cluster_df = db_1.query_data('Select Contact__c, Tool_Usage_Cluster__c from ContactToolClusterAssociation__c')"
   ]
  },
  {
   "cell_type": "code",
   "execution_count": 11,
   "metadata": {},
   "outputs": [
    {
     "data": {
      "text/html": [
       "<div>\n",
       "<style scoped>\n",
       "    .dataframe tbody tr th:only-of-type {\n",
       "        vertical-align: middle;\n",
       "    }\n",
       "\n",
       "    .dataframe tbody tr th {\n",
       "        vertical-align: top;\n",
       "    }\n",
       "\n",
       "    .dataframe thead th {\n",
       "        text-align: right;\n",
       "    }\n",
       "</style>\n",
       "<table border=\"1\" class=\"dataframe\">\n",
       "  <thead>\n",
       "    <tr style=\"text-align: right;\">\n",
       "      <th></th>\n",
       "      <th>Contact__c</th>\n",
       "      <th>Tool_Usage_Cluster__c</th>\n",
       "    </tr>\n",
       "  </thead>\n",
       "  <tbody>\n",
       "    <tr>\n",
       "      <th>0</th>\n",
       "      <td>0035w000034JG1EAAW</td>\n",
       "      <td>a0w5w000009Q7m3AAC</td>\n",
       "    </tr>\n",
       "    <tr>\n",
       "      <th>1</th>\n",
       "      <td>0035w000034I5sjAAC</td>\n",
       "      <td>a0w5w000009Q7m3AAC</td>\n",
       "    </tr>\n",
       "  </tbody>\n",
       "</table>\n",
       "</div>"
      ],
      "text/plain": [
       "           Contact__c Tool_Usage_Cluster__c\n",
       "0  0035w000034JG1EAAW    a0w5w000009Q7m3AAC\n",
       "1  0035w000034I5sjAAC    a0w5w000009Q7m3AAC"
      ]
     },
     "metadata": {},
     "output_type": "display_data"
    },
    {
     "name": "stdout",
     "output_type": "stream",
     "text": [
      "(98079, 2)\n"
     ]
    }
   ],
   "source": [
    "display(contacts_in_cluster_df.head(2))\n",
    "print(contacts_in_cluster_df.shape)"
   ]
  },
  {
   "cell_type": "code",
   "execution_count": 12,
   "metadata": {},
   "outputs": [
    {
     "data": {
      "text/html": [
       "<div>\n",
       "<style scoped>\n",
       "    .dataframe tbody tr th:only-of-type {\n",
       "        vertical-align: middle;\n",
       "    }\n",
       "\n",
       "    .dataframe tbody tr th {\n",
       "        vertical-align: top;\n",
       "    }\n",
       "\n",
       "    .dataframe thead th {\n",
       "        text-align: right;\n",
       "    }\n",
       "</style>\n",
       "<table border=\"1\" class=\"dataframe\">\n",
       "  <thead>\n",
       "    <tr style=\"text-align: right;\">\n",
       "      <th></th>\n",
       "      <th>Contact__c</th>\n",
       "      <th>Tool_Usage_Cluster__c</th>\n",
       "    </tr>\n",
       "  </thead>\n",
       "  <tbody>\n",
       "    <tr>\n",
       "      <th>0</th>\n",
       "      <td>0035w000034JG1EAAW</td>\n",
       "      <td>a0w5w000009Q7m3AAC</td>\n",
       "    </tr>\n",
       "    <tr>\n",
       "      <th>1</th>\n",
       "      <td>0035w000034I5sjAAC</td>\n",
       "      <td>a0w5w000009Q7m3AAC</td>\n",
       "    </tr>\n",
       "  </tbody>\n",
       "</table>\n",
       "</div>"
      ],
      "text/plain": [
       "           Contact__c Tool_Usage_Cluster__c\n",
       "0  0035w000034JG1EAAW    a0w5w000009Q7m3AAC\n",
       "1  0035w000034I5sjAAC    a0w5w000009Q7m3AAC"
      ]
     },
     "metadata": {},
     "output_type": "display_data"
    },
    {
     "name": "stdout",
     "output_type": "stream",
     "text": [
      "(98079, 2)\n"
     ]
    }
   ],
   "source": [
    "## if SF processing errors\n",
    "if contacts_in_cluster_df.shape[0] <= 100:\n",
    "    contacts_in_cluster_df = pd.read_csv(cwd+'/backup_contacts_in_clusters.csv')\n",
    "    contacts_in_cluster_df = contacts_in_cluster_df.drop(columns=['Unnamed: 0'])\n",
    "display(contacts_in_cluster_df.head(2))\n",
    "print(contacts_in_cluster_df.shape)"
   ]
  },
  {
   "cell_type": "code",
   "execution_count": 13,
   "metadata": {},
   "outputs": [
    {
     "name": "stdout",
     "output_type": "stream",
     "text": [
      "63484\n"
     ]
    }
   ],
   "source": [
    "unique_contacts_in_clusters = set(contacts_in_cluster_df['Contact__c'].to_list())\n",
    "print(len(unique_contacts_in_clusters))"
   ]
  },
  {
   "cell_type": "code",
   "execution_count": 14,
   "metadata": {},
   "outputs": [
    {
     "name": "stdout",
     "output_type": "stream",
     "text": [
      "[Success] Bulk job creation successful. Job ID = 7505w00000WwbkUAAR\n",
      "{\"id\":\"7505w00000WwbkUAAR\",\"operation\":\"query\",\"object\":\"Contact\",\"createdById\":\"0055w00000DM5bOAAT\",\"createdDate\":\"2021-06-14T03:38:45.000+0000\",\"systemModstamp\":\"2021-06-14T03:38:45.000+0000\",\"state\":\"UploadComplete\",\"concurrencyMode\":\"Parallel\",\"contentType\":\"CSV\",\"apiVersion\":47.0,\"jobType\":\"V2Query\",\"lineEnding\":\"LF\",\"columnDelimiter\":\"COMMA\",\"retries\":0,\"totalProcessingTime\":0}\n",
      "{\"id\":\"7505w00000WwbkUAAR\",\"operation\":\"query\",\"object\":\"Contact\",\"createdById\":\"0055w00000DM5bOAAT\",\"createdDate\":\"2021-06-14T03:38:45.000+0000\",\"systemModstamp\":\"2021-06-14T03:38:45.000+0000\",\"state\":\"InProgress\",\"concurrencyMode\":\"Parallel\",\"contentType\":\"CSV\",\"apiVersion\":47.0,\"jobType\":\"V2Query\",\"lineEnding\":\"LF\",\"columnDelimiter\":\"COMMA\",\"numberRecordsProcessed\":0,\"retries\":0,\"totalProcessingTime\":0}\n",
      "{\"id\":\"7505w00000WwbkUAAR\",\"operation\":\"query\",\"object\":\"Contact\",\"createdById\":\"0055w00000DM5bOAAT\",\"createdDate\":\"2021-06-14T03:38:45.000+0000\",\"systemModstamp\":\"2021-06-14T03:38:45.000+0000\",\"state\":\"InProgress\",\"concurrencyMode\":\"Parallel\",\"contentType\":\"CSV\",\"apiVersion\":47.0,\"jobType\":\"V2Query\",\"lineEnding\":\"LF\",\"columnDelimiter\":\"COMMA\",\"numberRecordsProcessed\":0,\"retries\":0,\"totalProcessingTime\":0}\n",
      "{\"id\":\"7505w00000WwbkUAAR\",\"operation\":\"query\",\"object\":\"Contact\",\"createdById\":\"0055w00000DM5bOAAT\",\"createdDate\":\"2021-06-14T03:38:45.000+0000\",\"systemModstamp\":\"2021-06-14T03:38:45.000+0000\",\"state\":\"InProgress\",\"concurrencyMode\":\"Parallel\",\"contentType\":\"CSV\",\"apiVersion\":47.0,\"jobType\":\"V2Query\",\"lineEnding\":\"LF\",\"columnDelimiter\":\"COMMA\",\"numberRecordsProcessed\":0,\"retries\":0,\"totalProcessingTime\":0}\n",
      "{\"id\":\"7505w00000WwbkUAAR\",\"operation\":\"query\",\"object\":\"Contact\",\"createdById\":\"0055w00000DM5bOAAT\",\"createdDate\":\"2021-06-14T03:38:45.000+0000\",\"systemModstamp\":\"2021-06-14T03:39:28.000+0000\",\"state\":\"JobComplete\",\"concurrencyMode\":\"Parallel\",\"contentType\":\"CSV\",\"apiVersion\":47.0,\"jobType\":\"V2Query\",\"lineEnding\":\"LF\",\"columnDelimiter\":\"COMMA\",\"numberRecordsProcessed\":249065,\"retries\":0,\"totalProcessingTime\":40395}\n",
      "[Success] Bulk job completed successfully.\n"
     ]
    }
   ],
   "source": [
    "contacts_df = db_1.query_data('Select Id, nanoHUB_user_ID__c from Contact')"
   ]
  },
  {
   "cell_type": "code",
   "execution_count": 15,
   "metadata": {},
   "outputs": [
    {
     "data": {
      "text/html": [
       "<div>\n",
       "<style scoped>\n",
       "    .dataframe tbody tr th:only-of-type {\n",
       "        vertical-align: middle;\n",
       "    }\n",
       "\n",
       "    .dataframe tbody tr th {\n",
       "        vertical-align: top;\n",
       "    }\n",
       "\n",
       "    .dataframe thead th {\n",
       "        text-align: right;\n",
       "    }\n",
       "</style>\n",
       "<table border=\"1\" class=\"dataframe\">\n",
       "  <thead>\n",
       "    <tr style=\"text-align: right;\">\n",
       "      <th></th>\n",
       "      <th>Id</th>\n",
       "      <th>nanoHUB_user_ID__c</th>\n",
       "    </tr>\n",
       "  </thead>\n",
       "  <tbody>\n",
       "    <tr>\n",
       "      <th>0</th>\n",
       "      <td>0035w000031Vsp1AAC</td>\n",
       "      <td>998.0</td>\n",
       "    </tr>\n",
       "    <tr>\n",
       "      <th>1</th>\n",
       "      <td>0035w000031Vsp2AAC</td>\n",
       "      <td>1683.0</td>\n",
       "    </tr>\n",
       "  </tbody>\n",
       "</table>\n",
       "</div>"
      ],
      "text/plain": [
       "                   Id  nanoHUB_user_ID__c\n",
       "0  0035w000031Vsp1AAC               998.0\n",
       "1  0035w000031Vsp2AAC              1683.0"
      ]
     },
     "metadata": {},
     "output_type": "display_data"
    },
    {
     "name": "stdout",
     "output_type": "stream",
     "text": [
      "(249065, 2)\n"
     ]
    }
   ],
   "source": [
    "display(contacts_df.head(2))\n",
    "print(contacts_df.shape)"
   ]
  },
  {
   "cell_type": "code",
   "execution_count": 16,
   "metadata": {},
   "outputs": [],
   "source": [
    "## determine self-study users, i.e., unclassified users\n",
    "# if sf id is in contacts_in_cluster_df['Contact__c'], then it is self-study\n",
    "\n",
    "self_study = []\n",
    "clustered = []\n",
    "\n",
    "sf_contact_ids = contacts_df['Id'].to_list()\n",
    "\n",
    "import numpy as np\n",
    "# bool_search = np.in1d(np.array(list(unique_contacts_in_clusters)),np.array(sf_contact_ids))\n",
    "bool_search = np.in1d(np.array(sf_contact_ids),np.array(list(unique_contacts_in_clusters)))\n",
    "\n",
    "clustered = np.where(bool_search)[0].tolist()\n",
    "self_study = np.where(~bool_search)[0].tolist()"
   ]
  },
  {
   "cell_type": "code",
   "execution_count": 17,
   "metadata": {},
   "outputs": [],
   "source": [
    "clustered_NH_ids = contacts_df['nanoHUB_user_ID__c'][clustered]\n",
    "self_study_NH_ids = contacts_df['nanoHUB_user_ID__c'][self_study]"
   ]
  },
  {
   "cell_type": "code",
   "execution_count": 18,
   "metadata": {},
   "outputs": [
    {
     "name": "stdout",
     "output_type": "stream",
     "text": [
      "(63484,)\n",
      "(185581,)\n"
     ]
    }
   ],
   "source": [
    "print(clustered_NH_ids.shape)\n",
    "print(self_study_NH_ids.shape)"
   ]
  },
  {
   "cell_type": "code",
   "execution_count": 19,
   "metadata": {},
   "outputs": [],
   "source": [
    "## need to filter self-study-nh-ids with the researchers"
   ]
  },
  {
   "cell_type": "code",
   "execution_count": 23,
   "metadata": {},
   "outputs": [
    {
     "data": {
      "text/html": [
       "<div>\n",
       "<style scoped>\n",
       "    .dataframe tbody tr th:only-of-type {\n",
       "        vertical-align: middle;\n",
       "    }\n",
       "\n",
       "    .dataframe tbody tr th {\n",
       "        vertical-align: top;\n",
       "    }\n",
       "\n",
       "    .dataframe thead th {\n",
       "        text-align: right;\n",
       "    }\n",
       "</style>\n",
       "<table border=\"1\" class=\"dataframe\">\n",
       "  <thead>\n",
       "    <tr style=\"text-align: right;\">\n",
       "      <th></th>\n",
       "      <th>uidNumber</th>\n",
       "    </tr>\n",
       "  </thead>\n",
       "  <tbody>\n",
       "    <tr>\n",
       "      <th>0</th>\n",
       "      <td>1742</td>\n",
       "    </tr>\n",
       "    <tr>\n",
       "      <th>1</th>\n",
       "      <td>1742</td>\n",
       "    </tr>\n",
       "  </tbody>\n",
       "</table>\n",
       "</div>"
      ],
      "text/plain": [
       "   uidNumber\n",
       "0       1742\n",
       "1       1742"
      ]
     },
     "metadata": {},
     "output_type": "display_data"
    }
   ],
   "source": [
    "## pull in research users\n",
    "import sqlalchemy as sql\n",
    "sql_query = \"select uidNumber from jos_citations_authors where uidNumber != 0\"\n",
    "engine = sql.create_engine('mysql+pymysql://%s:%s@127.0.0.1/nanohub' \\\n",
    "                                               %('wang2506_ro', 'fnVnwcCS7iT45EsA'))\n",
    "researcher_ids = pd.read_sql_query(sql_query, engine)\n",
    "display(researcher_ids.head(2))"
   ]
  },
  {
   "cell_type": "code",
   "execution_count": 24,
   "metadata": {},
   "outputs": [],
   "source": [
    "researcher_ids2 = researcher_ids.drop_duplicates()['uidNumber']\n",
    "researcher_ids2 = researcher_ids2.to_list()"
   ]
  },
  {
   "cell_type": "code",
   "execution_count": 25,
   "metadata": {},
   "outputs": [
    {
     "data": {
      "text/plain": [
       "(9765, 1)"
      ]
     },
     "execution_count": 25,
     "metadata": {},
     "output_type": "execute_result"
    }
   ],
   "source": [
    "researcher_ids.shape"
   ]
  },
  {
   "cell_type": "code",
   "execution_count": 26,
   "metadata": {},
   "outputs": [
    {
     "data": {
      "text/plain": [
       "1894"
      ]
     },
     "execution_count": 26,
     "metadata": {},
     "output_type": "execute_result"
    }
   ],
   "source": [
    "len(researcher_ids2)"
   ]
  },
  {
   "cell_type": "code",
   "execution_count": 27,
   "metadata": {},
   "outputs": [],
   "source": [
    "sf_contact_ids = contacts_df['nanoHUB_user_ID__c'][self_study]"
   ]
  },
  {
   "cell_type": "code",
   "execution_count": 28,
   "metadata": {},
   "outputs": [
    {
     "data": {
      "text/html": [
       "<div>\n",
       "<style scoped>\n",
       "    .dataframe tbody tr th:only-of-type {\n",
       "        vertical-align: middle;\n",
       "    }\n",
       "\n",
       "    .dataframe tbody tr th {\n",
       "        vertical-align: top;\n",
       "    }\n",
       "\n",
       "    .dataframe thead th {\n",
       "        text-align: right;\n",
       "    }\n",
       "</style>\n",
       "<table border=\"1\" class=\"dataframe\">\n",
       "  <thead>\n",
       "    <tr style=\"text-align: right;\">\n",
       "      <th></th>\n",
       "      <th>nanoHUB_user_ID__c</th>\n",
       "    </tr>\n",
       "  </thead>\n",
       "  <tbody>\n",
       "    <tr>\n",
       "      <th>0</th>\n",
       "      <td>998.0</td>\n",
       "    </tr>\n",
       "    <tr>\n",
       "      <th>1</th>\n",
       "      <td>1683.0</td>\n",
       "    </tr>\n",
       "    <tr>\n",
       "      <th>2</th>\n",
       "      <td>1684.0</td>\n",
       "    </tr>\n",
       "    <tr>\n",
       "      <th>3</th>\n",
       "      <td>1685.0</td>\n",
       "    </tr>\n",
       "    <tr>\n",
       "      <th>4</th>\n",
       "      <td>1686.0</td>\n",
       "    </tr>\n",
       "    <tr>\n",
       "      <th>...</th>\n",
       "      <td>...</td>\n",
       "    </tr>\n",
       "    <tr>\n",
       "      <th>185576</th>\n",
       "      <td>329897.0</td>\n",
       "    </tr>\n",
       "    <tr>\n",
       "      <th>185577</th>\n",
       "      <td>329909.0</td>\n",
       "    </tr>\n",
       "    <tr>\n",
       "      <th>185578</th>\n",
       "      <td>329862.0</td>\n",
       "    </tr>\n",
       "    <tr>\n",
       "      <th>185579</th>\n",
       "      <td>329917.0</td>\n",
       "    </tr>\n",
       "    <tr>\n",
       "      <th>185580</th>\n",
       "      <td>329869.0</td>\n",
       "    </tr>\n",
       "  </tbody>\n",
       "</table>\n",
       "<p>185581 rows × 1 columns</p>\n",
       "</div>"
      ],
      "text/plain": [
       "        nanoHUB_user_ID__c\n",
       "0                    998.0\n",
       "1                   1683.0\n",
       "2                   1684.0\n",
       "3                   1685.0\n",
       "4                   1686.0\n",
       "...                    ...\n",
       "185576            329897.0\n",
       "185577            329909.0\n",
       "185578            329862.0\n",
       "185579            329917.0\n",
       "185580            329869.0\n",
       "\n",
       "[185581 rows x 1 columns]"
      ]
     },
     "metadata": {},
     "output_type": "display_data"
    }
   ],
   "source": [
    "sf_contact_ids = sf_contact_ids.reset_index()\n",
    "sf_contact_ids = sf_contact_ids.drop(columns='index')\n",
    "display(sf_contact_ids)"
   ]
  },
  {
   "cell_type": "code",
   "execution_count": 29,
   "metadata": {},
   "outputs": [],
   "source": [
    "bool_search2 = np.in1d(np.array(sf_contact_ids['nanoHUB_user_ID__c'].to_list()),np.array(researcher_ids2))"
   ]
  },
  {
   "cell_type": "code",
   "execution_count": 30,
   "metadata": {},
   "outputs": [],
   "source": [
    "researchers = np.where(bool_search2)[0].tolist()\n",
    "self_study2 = np.where(~bool_search2)[0].tolist()"
   ]
  },
  {
   "cell_type": "code",
   "execution_count": 31,
   "metadata": {},
   "outputs": [
    {
     "name": "stdout",
     "output_type": "stream",
     "text": [
      "1309\n",
      "184272\n"
     ]
    }
   ],
   "source": [
    "print(len(researchers))\n",
    "print(len(self_study2))"
   ]
  },
  {
   "cell_type": "code",
   "execution_count": 32,
   "metadata": {},
   "outputs": [],
   "source": [
    "clustered_NH_ids = pd.DataFrame(contacts_df['nanoHUB_user_ID__c'][clustered]) # already done\n",
    "self_study_NH_ids = pd.DataFrame(pd.DataFrame(sf_contact_ids).iloc[self_study2,:])\n",
    "researcher_NH_ids = pd.DataFrame(pd.DataFrame(sf_contact_ids).iloc[researchers,:])"
   ]
  },
  {
   "cell_type": "code",
   "execution_count": 33,
   "metadata": {},
   "outputs": [
    {
     "data": {
      "text/html": [
       "<div>\n",
       "<style scoped>\n",
       "    .dataframe tbody tr th:only-of-type {\n",
       "        vertical-align: middle;\n",
       "    }\n",
       "\n",
       "    .dataframe tbody tr th {\n",
       "        vertical-align: top;\n",
       "    }\n",
       "\n",
       "    .dataframe thead th {\n",
       "        text-align: right;\n",
       "    }\n",
       "</style>\n",
       "<table border=\"1\" class=\"dataframe\">\n",
       "  <thead>\n",
       "    <tr style=\"text-align: right;\">\n",
       "      <th></th>\n",
       "      <th>nanoHUB_user_ID__c</th>\n",
       "    </tr>\n",
       "  </thead>\n",
       "  <tbody>\n",
       "    <tr>\n",
       "      <th>21</th>\n",
       "      <td>43786.0</td>\n",
       "    </tr>\n",
       "    <tr>\n",
       "      <th>59</th>\n",
       "      <td>43831.0</td>\n",
       "    </tr>\n",
       "    <tr>\n",
       "      <th>150</th>\n",
       "      <td>43927.0</td>\n",
       "    </tr>\n",
       "    <tr>\n",
       "      <th>238</th>\n",
       "      <td>54290.0</td>\n",
       "    </tr>\n",
       "    <tr>\n",
       "      <th>258</th>\n",
       "      <td>54333.0</td>\n",
       "    </tr>\n",
       "    <tr>\n",
       "      <th>...</th>\n",
       "      <td>...</td>\n",
       "    </tr>\n",
       "    <tr>\n",
       "      <th>145793</th>\n",
       "      <td>169847.0</td>\n",
       "    </tr>\n",
       "    <tr>\n",
       "      <th>146561</th>\n",
       "      <td>159469.0</td>\n",
       "    </tr>\n",
       "    <tr>\n",
       "      <th>147398</th>\n",
       "      <td>175461.0</td>\n",
       "    </tr>\n",
       "    <tr>\n",
       "      <th>148560</th>\n",
       "      <td>228768.0</td>\n",
       "    </tr>\n",
       "    <tr>\n",
       "      <th>153004</th>\n",
       "      <td>2280.0</td>\n",
       "    </tr>\n",
       "  </tbody>\n",
       "</table>\n",
       "<p>1309 rows × 1 columns</p>\n",
       "</div>"
      ],
      "text/plain": [
       "        nanoHUB_user_ID__c\n",
       "21                 43786.0\n",
       "59                 43831.0\n",
       "150                43927.0\n",
       "238                54290.0\n",
       "258                54333.0\n",
       "...                    ...\n",
       "145793            169847.0\n",
       "146561            159469.0\n",
       "147398            175461.0\n",
       "148560            228768.0\n",
       "153004              2280.0\n",
       "\n",
       "[1309 rows x 1 columns]"
      ]
     },
     "execution_count": 33,
     "metadata": {},
     "output_type": "execute_result"
    }
   ],
   "source": [
    "researcher_NH_ids"
   ]
  },
  {
   "cell_type": "code",
   "execution_count": 34,
   "metadata": {},
   "outputs": [],
   "source": [
    "## loading in toolstart"
   ]
  },
  {
   "cell_type": "code",
   "execution_count": 35,
   "metadata": {},
   "outputs": [
    {
     "data": {
      "text/html": [
       "<div>\n",
       "<style scoped>\n",
       "    .dataframe tbody tr th:only-of-type {\n",
       "        vertical-align: middle;\n",
       "    }\n",
       "\n",
       "    .dataframe tbody tr th {\n",
       "        vertical-align: top;\n",
       "    }\n",
       "\n",
       "    .dataframe thead th {\n",
       "        text-align: right;\n",
       "    }\n",
       "</style>\n",
       "<table border=\"1\" class=\"dataframe\">\n",
       "  <thead>\n",
       "    <tr style=\"text-align: right;\">\n",
       "      <th></th>\n",
       "      <th>id</th>\n",
       "      <th>username</th>\n",
       "    </tr>\n",
       "  </thead>\n",
       "  <tbody>\n",
       "    <tr>\n",
       "      <th>0</th>\n",
       "      <td>211547</td>\n",
       "      <td>-100005</td>\n",
       "    </tr>\n",
       "    <tr>\n",
       "      <th>1</th>\n",
       "      <td>211574</td>\n",
       "      <td>-100024</td>\n",
       "    </tr>\n",
       "  </tbody>\n",
       "</table>\n",
       "</div>"
      ],
      "text/plain": [
       "       id username\n",
       "0  211547  -100005\n",
       "1  211574  -100024"
      ]
     },
     "metadata": {},
     "output_type": "display_data"
    }
   ],
   "source": [
    "# matching ids to usernames\n",
    "sql_query2 = \"select id,username from jos_users\"\n",
    "id_username_df = pd.read_sql_query(sql_query2, engine)\n",
    "display(id_username_df.head(2))"
   ]
  },
  {
   "cell_type": "code",
   "execution_count": 36,
   "metadata": {},
   "outputs": [],
   "source": [
    "usernames_db2 = id_username_df['id'].to_list()"
   ]
  },
  {
   "cell_type": "code",
   "execution_count": 37,
   "metadata": {},
   "outputs": [
    {
     "data": {
      "text/html": [
       "<div>\n",
       "<style scoped>\n",
       "    .dataframe tbody tr th:only-of-type {\n",
       "        vertical-align: middle;\n",
       "    }\n",
       "\n",
       "    .dataframe tbody tr th {\n",
       "        vertical-align: top;\n",
       "    }\n",
       "\n",
       "    .dataframe thead th {\n",
       "        text-align: right;\n",
       "    }\n",
       "</style>\n",
       "<table border=\"1\" class=\"dataframe\">\n",
       "  <thead>\n",
       "    <tr style=\"text-align: right;\">\n",
       "      <th></th>\n",
       "      <th>username</th>\n",
       "    </tr>\n",
       "  </thead>\n",
       "  <tbody>\n",
       "    <tr>\n",
       "      <th>12637</th>\n",
       "      <td>0.yao.yuan</td>\n",
       "    </tr>\n",
       "    <tr>\n",
       "      <th>12642</th>\n",
       "      <td>008dilip</td>\n",
       "    </tr>\n",
       "    <tr>\n",
       "      <th>12646</th>\n",
       "      <td>01024461660a</td>\n",
       "    </tr>\n",
       "    <tr>\n",
       "      <th>12652</th>\n",
       "      <td>01luiyi</td>\n",
       "    </tr>\n",
       "    <tr>\n",
       "      <th>12654</th>\n",
       "      <td>0214moon</td>\n",
       "    </tr>\n",
       "    <tr>\n",
       "      <th>...</th>\n",
       "      <td>...</td>\n",
       "    </tr>\n",
       "    <tr>\n",
       "      <th>251242</th>\n",
       "      <td>zztman117</td>\n",
       "    </tr>\n",
       "    <tr>\n",
       "      <th>251243</th>\n",
       "      <td>zztt93</td>\n",
       "    </tr>\n",
       "    <tr>\n",
       "      <th>251245</th>\n",
       "      <td>zzumich</td>\n",
       "    </tr>\n",
       "    <tr>\n",
       "      <th>251259</th>\n",
       "      <td>zzz777</td>\n",
       "    </tr>\n",
       "    <tr>\n",
       "      <th>251268</th>\n",
       "      <td>z_henry35</td>\n",
       "    </tr>\n",
       "  </tbody>\n",
       "</table>\n",
       "<p>63446 rows × 1 columns</p>\n",
       "</div>"
      ],
      "text/plain": [
       "            username\n",
       "12637     0.yao.yuan\n",
       "12642       008dilip\n",
       "12646   01024461660a\n",
       "12652        01luiyi\n",
       "12654       0214moon\n",
       "...              ...\n",
       "251242     zztman117\n",
       "251243        zztt93\n",
       "251245       zzumich\n",
       "251259        zzz777\n",
       "251268     z_henry35\n",
       "\n",
       "[63446 rows x 1 columns]"
      ]
     },
     "metadata": {},
     "output_type": "display_data"
    }
   ],
   "source": [
    "t_cluster = np.in1d(usernames_db2,clustered_NH_ids['nanoHUB_user_ID__c'])\n",
    "clustered_NH_username = np.where(t_cluster)[0].tolist()\n",
    "clustered_NH_username2 = pd.DataFrame(id_username_df['username'][clustered_NH_username])\n",
    "display(clustered_NH_username2)"
   ]
  },
  {
   "cell_type": "code",
   "execution_count": 38,
   "metadata": {},
   "outputs": [
    {
     "data": {
      "text/html": [
       "<div>\n",
       "<style scoped>\n",
       "    .dataframe tbody tr th:only-of-type {\n",
       "        vertical-align: middle;\n",
       "    }\n",
       "\n",
       "    .dataframe tbody tr th {\n",
       "        vertical-align: top;\n",
       "    }\n",
       "\n",
       "    .dataframe thead th {\n",
       "        text-align: right;\n",
       "    }\n",
       "</style>\n",
       "<table border=\"1\" class=\"dataframe\">\n",
       "  <thead>\n",
       "    <tr style=\"text-align: right;\">\n",
       "      <th></th>\n",
       "      <th>username</th>\n",
       "    </tr>\n",
       "  </thead>\n",
       "  <tbody>\n",
       "    <tr>\n",
       "      <th>968</th>\n",
       "      <td>-113426</td>\n",
       "    </tr>\n",
       "    <tr>\n",
       "      <th>2463</th>\n",
       "      <td>-13370</td>\n",
       "    </tr>\n",
       "    <tr>\n",
       "      <th>6806</th>\n",
       "      <td>-18285</td>\n",
       "    </tr>\n",
       "    <tr>\n",
       "      <th>6949</th>\n",
       "      <td>-20433</td>\n",
       "    </tr>\n",
       "    <tr>\n",
       "      <th>7617</th>\n",
       "      <td>-3549</td>\n",
       "    </tr>\n",
       "    <tr>\n",
       "      <th>...</th>\n",
       "      <td>...</td>\n",
       "    </tr>\n",
       "    <tr>\n",
       "      <th>250544</th>\n",
       "      <td>zoso0789</td>\n",
       "    </tr>\n",
       "    <tr>\n",
       "      <th>250560</th>\n",
       "      <td>zouave</td>\n",
       "    </tr>\n",
       "    <tr>\n",
       "      <th>250655</th>\n",
       "      <td>zrbyte</td>\n",
       "    </tr>\n",
       "    <tr>\n",
       "      <th>250798</th>\n",
       "      <td>zubair0995</td>\n",
       "    </tr>\n",
       "    <tr>\n",
       "      <th>251166</th>\n",
       "      <td>zyzhang</td>\n",
       "    </tr>\n",
       "  </tbody>\n",
       "</table>\n",
       "<p>1308 rows × 1 columns</p>\n",
       "</div>"
      ],
      "text/plain": [
       "          username\n",
       "968        -113426\n",
       "2463        -13370\n",
       "6806        -18285\n",
       "6949        -20433\n",
       "7617         -3549\n",
       "...            ...\n",
       "250544    zoso0789\n",
       "250560      zouave\n",
       "250655      zrbyte\n",
       "250798  zubair0995\n",
       "251166     zyzhang\n",
       "\n",
       "[1308 rows x 1 columns]"
      ]
     },
     "metadata": {},
     "output_type": "display_data"
    }
   ],
   "source": [
    "t_research = np.in1d(usernames_db2,researcher_NH_ids['nanoHUB_user_ID__c'])\n",
    "researcher_NH_username = np.where(t_research)[0].tolist()\n",
    "researcher_NH_username2 = pd.DataFrame(id_username_df['username'][researcher_NH_username])\n",
    "display(researcher_NH_username2)"
   ]
  },
  {
   "cell_type": "code",
   "execution_count": 39,
   "metadata": {},
   "outputs": [
    {
     "data": {
      "text/html": [
       "<div>\n",
       "<style scoped>\n",
       "    .dataframe tbody tr th:only-of-type {\n",
       "        vertical-align: middle;\n",
       "    }\n",
       "\n",
       "    .dataframe tbody tr th {\n",
       "        vertical-align: top;\n",
       "    }\n",
       "\n",
       "    .dataframe thead th {\n",
       "        text-align: right;\n",
       "    }\n",
       "</style>\n",
       "<table border=\"1\" class=\"dataframe\">\n",
       "  <thead>\n",
       "    <tr style=\"text-align: right;\">\n",
       "      <th></th>\n",
       "      <th>username</th>\n",
       "    </tr>\n",
       "  </thead>\n",
       "  <tbody>\n",
       "    <tr>\n",
       "      <th>0</th>\n",
       "      <td>-100005</td>\n",
       "    </tr>\n",
       "    <tr>\n",
       "      <th>1</th>\n",
       "      <td>-100024</td>\n",
       "    </tr>\n",
       "    <tr>\n",
       "      <th>2</th>\n",
       "      <td>-100026</td>\n",
       "    </tr>\n",
       "    <tr>\n",
       "      <th>3</th>\n",
       "      <td>-100032</td>\n",
       "    </tr>\n",
       "    <tr>\n",
       "      <th>4</th>\n",
       "      <td>-10006</td>\n",
       "    </tr>\n",
       "    <tr>\n",
       "      <th>...</th>\n",
       "      <td>...</td>\n",
       "    </tr>\n",
       "    <tr>\n",
       "      <th>251266</th>\n",
       "      <td>z_depth</td>\n",
       "    </tr>\n",
       "    <tr>\n",
       "      <th>251267</th>\n",
       "      <td>z_e_u_s</td>\n",
       "    </tr>\n",
       "    <tr>\n",
       "      <th>251269</th>\n",
       "      <td>z_kamal</td>\n",
       "    </tr>\n",
       "    <tr>\n",
       "      <th>251270</th>\n",
       "      <td>z_sath</td>\n",
       "    </tr>\n",
       "    <tr>\n",
       "      <th>251271</th>\n",
       "      <td>_aj_</td>\n",
       "    </tr>\n",
       "  </tbody>\n",
       "</table>\n",
       "<p>183716 rows × 1 columns</p>\n",
       "</div>"
      ],
      "text/plain": [
       "       username\n",
       "0       -100005\n",
       "1       -100024\n",
       "2       -100026\n",
       "3       -100032\n",
       "4        -10006\n",
       "...         ...\n",
       "251266  z_depth\n",
       "251267  z_e_u_s\n",
       "251269  z_kamal\n",
       "251270   z_sath\n",
       "251271     _aj_\n",
       "\n",
       "[183716 rows x 1 columns]"
      ]
     },
     "metadata": {},
     "output_type": "display_data"
    }
   ],
   "source": [
    "t_self_study = np.in1d(usernames_db2,self_study_NH_ids['nanoHUB_user_ID__c'])\n",
    "self_NH_username = np.where(t_self_study)[0].tolist()\n",
    "self_NH_username2 = pd.DataFrame(id_username_df['username'][self_NH_username])\n",
    "display(self_NH_username2)"
   ]
  },
  {
   "cell_type": "code",
   "execution_count": 40,
   "metadata": {},
   "outputs": [],
   "source": [
    "# clustered_NH_username2;researcher_NH_username2;self_NH_username2\n",
    "clustered_track = []\n",
    "self_track = []\n",
    "researcher_track = []\n",
    "\n",
    "clustered_track_per = []\n",
    "self_track_per = []\n",
    "researcher_track_per = []"
   ]
  },
  {
   "cell_type": "code",
   "execution_count": 42,
   "metadata": {},
   "outputs": [],
   "source": [
    "engine_metrics = sql.create_engine('mysql+pymysql://%s:%s@127.0.0.1/nanohub_metrics' \\\n",
    "                                               %('wang2506_ro', 'fnVnwcCS7iT45EsA'))"
   ]
  },
  {
   "cell_type": "code",
   "execution_count": 43,
   "metadata": {},
   "outputs": [
    {
     "name": "stdout",
     "output_type": "stream",
     "text": [
      "2001\n",
      "2002\n",
      "2003\n",
      "2004\n",
      "2005\n",
      "2006\n",
      "2007\n",
      "2008\n",
      "2009\n",
      "2010\n",
      "2011\n",
      "2012\n",
      "2013\n",
      "2014\n",
      "2015\n",
      "2016\n",
      "2017\n",
      "2018\n",
      "2019\n",
      "2020\n",
      "2021\n"
     ]
    }
   ],
   "source": [
    "## computer has memory limits, so split toolstart into branches\n",
    "start_year = 2000 #2002 #allows for flexibility as well for future updates\n",
    "\n",
    "while start_year < 2021:#datetime.datetime.now().year:\n",
    "    start_year += 1\n",
    "    end_date = r\"'\"+str(start_year)+r\"-01-01'\"\n",
    "#     print(end_date)\n",
    "    start_date = r\"'\"+str(start_year-2)+r\"-01-01'\"\n",
    "    \n",
    "    for i in range(1,13):\n",
    "        if i < 10:\n",
    "            start_date = r\"'\"+str(start_year-1)+r\"-0\"+str(i)+r\"-01'\"\n",
    "            end_date = r\"'\"+str(start_year)+r\"-0\"+str(i)+r\"-01'\"\n",
    "        else:\n",
    "            start_date = r\"'\"+str(start_year-1)+r\"-\"+str(i)+r\"-01'\"\n",
    "            end_date = r\"'\"+str(start_year)+r\"-\"+str(i)+r\"-01'\"\n",
    "        ## unique active users\n",
    "#         current = time.time()\n",
    "#         sql_query_clustered = \"select count(distinct user) from toolstart where user in \" + str(tuple(clustered_NH_username2['username']))\\\n",
    "#             +\" and datetime <= \"+end_date+\" and datetime >= \"+start_date\n",
    "#         clustered_users = pd.read_sql_query(sql_query_clustered, engine_metrics)\n",
    "        \n",
    "#         sql_query_self = \"select count(distinct user) from toolstart where user in \" + str(tuple(self_NH_username2['username']))\\\n",
    "#             +\" and datetime <= \"+end_date+\" and datetime >= \"+start_date\n",
    "#         self_users = pd.read_sql_query(sql_query_self, engine_metrics)\n",
    "        \n",
    "#         sql_query_researcher = \"select count(distinct user) from toolstart where user in \" + str(tuple(researcher_NH_username2['username']))\\\n",
    "#             +\" and datetime <= \"+end_date+\" and datetime >= \"+start_date\n",
    "#         researcher_users = pd.read_sql_query(sql_query_researcher, engine_metrics)\n",
    "        \n",
    "        sql_query_clustered = \"select user from toolstart where user in \" + str(tuple(clustered_NH_username2['username']))\\\n",
    "            +\" and datetime <= \"+end_date+\" and datetime >= \"+start_date\n",
    "        clustered_users = pd.read_sql_query(sql_query_clustered, engine_metrics)#.drop_duplicates()\n",
    "        \n",
    "        sql_query_self = \"select user from toolstart where user in \" + str(tuple(self_NH_username2['username']))\\\n",
    "            +\" and user != 'instanton' and user != 'gridstat' and datetime <= \"+end_date+\" and datetime >= \"+start_date\n",
    "        self_users = pd.read_sql_query(sql_query_self, engine_metrics)#.drop_duplicates()\n",
    "        \n",
    "        sql_query_researcher = \"select user from toolstart where user in \" + str(tuple(researcher_NH_username2['username']))\\\n",
    "            +\" and datetime <= \"+end_date+\" and datetime >= \"+start_date\n",
    "        researcher_users = pd.read_sql_query(sql_query_researcher, engine_metrics)#.drop_duplicates()\n",
    "\n",
    "#         sql_query_all =  \"select user from toolstart where user not in ('gridstat','instanton')\" \\\n",
    "#             +\" and datetime <= \"+end_date+\" and datetime >= \"+start_date\n",
    "#         all_users = pd.read_sql_query(sql_query_all, engine_metrics)#.drop_duplicates()\n",
    "#         print(time.time() - current)\n",
    "#         clustered_track.append(clustered_users['count(distinct user)'][0])\n",
    "#         self_track.append(self_users['count(distinct user)'][0])\n",
    "#         researcher_track.append(researcher_users['count(distinct user)'][0])\n",
    "\n",
    "        clustered_track.append(clustered_users.drop_duplicates().shape[0])\n",
    "        self_track.append(self_users.drop_duplicates().shape[0])\n",
    "        researcher_track.append(researcher_users.drop_duplicates().shape[0])\n",
    "\n",
    "#         clustered_track_per.append(clustered_users.shape[0]/all_users.shape[0])\n",
    "#         self_track_per.append(self_users.shape[0]/all_users.shape[0])\n",
    "#         researcher_track_per.append(researcher_users.shape[0]/all_users.shape[0])        \n",
    "        \n",
    "#         print(clustered_users)\n",
    "#         print(self_users)\n",
    "#         print(researcher_users)\n",
    "    print(start_year)"
   ]
  },
  {
   "cell_type": "code",
   "execution_count": 47,
   "metadata": {},
   "outputs": [
    {
     "data": {
      "text/plain": [
       "0     2000-01-01\n",
       "1     2000-02-01\n",
       "2     2000-03-01\n",
       "3     2000-04-01\n",
       "4     2000-05-01\n",
       "         ...    \n",
       "260   2021-09-01\n",
       "261   2021-10-01\n",
       "262   2021-11-01\n",
       "263   2021-12-01\n",
       "264   2021-01-01\n",
       "Name: year_month, Length: 265, dtype: datetime64[ns]"
      ]
     },
     "execution_count": 47,
     "metadata": {},
     "output_type": "execute_result"
    }
   ],
   "source": [
    "months_bin.year_month"
   ]
  },
  {
   "cell_type": "code",
   "execution_count": 48,
   "metadata": {},
   "outputs": [
    {
     "data": {
      "text/html": [
       "<div>\n",
       "<style scoped>\n",
       "    .dataframe tbody tr th:only-of-type {\n",
       "        vertical-align: middle;\n",
       "    }\n",
       "\n",
       "    .dataframe tbody tr th {\n",
       "        vertical-align: top;\n",
       "    }\n",
       "\n",
       "    .dataframe thead th {\n",
       "        text-align: right;\n",
       "    }\n",
       "</style>\n",
       "<table border=\"1\" class=\"dataframe\">\n",
       "  <thead>\n",
       "    <tr style=\"text-align: right;\">\n",
       "      <th></th>\n",
       "      <th>year_month</th>\n",
       "      <th>clustered_track</th>\n",
       "      <th>self_track</th>\n",
       "      <th>researcher_track</th>\n",
       "    </tr>\n",
       "  </thead>\n",
       "  <tbody>\n",
       "    <tr>\n",
       "      <th>0</th>\n",
       "      <td>2001-02-01</td>\n",
       "      <td>161</td>\n",
       "      <td>237</td>\n",
       "      <td>9</td>\n",
       "    </tr>\n",
       "    <tr>\n",
       "      <th>1</th>\n",
       "      <td>2001-03-01</td>\n",
       "      <td>323</td>\n",
       "      <td>280</td>\n",
       "      <td>11</td>\n",
       "    </tr>\n",
       "  </tbody>\n",
       "</table>\n",
       "</div>"
      ],
      "text/plain": [
       "  year_month  clustered_track  self_track  researcher_track\n",
       "0 2001-02-01              161         237                 9\n",
       "1 2001-03-01              323         280                11"
      ]
     },
     "execution_count": 48,
     "metadata": {},
     "output_type": "execute_result"
    }
   ],
   "source": [
    "user_breakdown_df = pd.DataFrame()\n",
    "user_breakdown_df['year_month'] = months_bin['year_month'].to_list()[13:]\n",
    "user_breakdown_df['clustered_track'] = clustered_track\n",
    "user_breakdown_df['self_track'] = self_track\n",
    "user_breakdown_df['researcher_track'] = researcher_track\n",
    "user_breakdown_df.head(2)"
   ]
  },
  {
   "cell_type": "code",
   "execution_count": 51,
   "metadata": {},
   "outputs": [
    {
     "data": {
      "image/png": "[encoded data removed]",
      "text/plain": [
       "<Figure size 648x432 with 1 Axes>"
      ]
     },
     "metadata": {},
     "output_type": "display_data"
    }
   ],
   "source": [
    "import seaborn as sns\n",
    "import matplotlib.pyplot as plt \n",
    "sns.set()\n",
    "sns.set_style(\"whitegrid\")\n",
    "\n",
    "plt.figure(figsize=(9,6))\n",
    "plt.stackplot(user_breakdown_df.year_month, \\\n",
    "              user_breakdown_df[['clustered_track', 'self_track', 'researcher_track']].to_numpy().T, \\\n",
    "             labels=['classroom', 'self-study', 'research'], \\\n",
    "             colors=['green', 'orange', 'red']);\n",
    "\n",
    "plt.legend(loc='upper left');\n",
    "plt.ylabel('12-month trailing total')\n",
    "plt.xlim([datetime.datetime(2001,1,1), datetime.datetime(2021,1,1)])\n",
    "plt.ylim([0, 22000])\n",
    "\n",
    "# plt.savefig('./sim_user_by_type_1.svg', bbox_inches='tight')\n",
    "\n",
    "plt.show()"
   ]
  },
  {
   "cell_type": "code",
   "execution_count": 52,
   "metadata": {},
   "outputs": [
    {
     "data": {
      "text/html": [
       "<div>\n",
       "<style scoped>\n",
       "    .dataframe tbody tr th:only-of-type {\n",
       "        vertical-align: middle;\n",
       "    }\n",
       "\n",
       "    .dataframe tbody tr th {\n",
       "        vertical-align: top;\n",
       "    }\n",
       "\n",
       "    .dataframe thead th {\n",
       "        text-align: right;\n",
       "    }\n",
       "</style>\n",
       "<table border=\"1\" class=\"dataframe\">\n",
       "  <thead>\n",
       "    <tr style=\"text-align: right;\">\n",
       "      <th></th>\n",
       "      <th>year_month</th>\n",
       "      <th>clustered_track</th>\n",
       "      <th>self_track</th>\n",
       "      <th>researcher_track</th>\n",
       "    </tr>\n",
       "  </thead>\n",
       "  <tbody>\n",
       "    <tr>\n",
       "      <th>237</th>\n",
       "      <td>2020-11-01</td>\n",
       "      <td>7905</td>\n",
       "      <td>12228</td>\n",
       "      <td>71</td>\n",
       "    </tr>\n",
       "    <tr>\n",
       "      <th>238</th>\n",
       "      <td>2020-12-01</td>\n",
       "      <td>8259</td>\n",
       "      <td>12756</td>\n",
       "      <td>69</td>\n",
       "    </tr>\n",
       "    <tr>\n",
       "      <th>239</th>\n",
       "      <td>2021-01-01</td>\n",
       "      <td>8452</td>\n",
       "      <td>13208</td>\n",
       "      <td>64</td>\n",
       "    </tr>\n",
       "    <tr>\n",
       "      <th>240</th>\n",
       "      <td>2021-02-01</td>\n",
       "      <td>8359</td>\n",
       "      <td>13465</td>\n",
       "      <td>60</td>\n",
       "    </tr>\n",
       "    <tr>\n",
       "      <th>241</th>\n",
       "      <td>2021-03-01</td>\n",
       "      <td>8635</td>\n",
       "      <td>14043</td>\n",
       "      <td>63</td>\n",
       "    </tr>\n",
       "    <tr>\n",
       "      <th>242</th>\n",
       "      <td>2021-04-01</td>\n",
       "      <td>8915</td>\n",
       "      <td>14498</td>\n",
       "      <td>60</td>\n",
       "    </tr>\n",
       "    <tr>\n",
       "      <th>243</th>\n",
       "      <td>2021-05-01</td>\n",
       "      <td>8966</td>\n",
       "      <td>14734</td>\n",
       "      <td>60</td>\n",
       "    </tr>\n",
       "    <tr>\n",
       "      <th>244</th>\n",
       "      <td>2021-06-01</td>\n",
       "      <td>8523</td>\n",
       "      <td>14797</td>\n",
       "      <td>59</td>\n",
       "    </tr>\n",
       "    <tr>\n",
       "      <th>245</th>\n",
       "      <td>2021-07-01</td>\n",
       "      <td>7838</td>\n",
       "      <td>15168</td>\n",
       "      <td>58</td>\n",
       "    </tr>\n",
       "    <tr>\n",
       "      <th>246</th>\n",
       "      <td>2021-08-01</td>\n",
       "      <td>7482</td>\n",
       "      <td>14372</td>\n",
       "      <td>60</td>\n",
       "    </tr>\n",
       "    <tr>\n",
       "      <th>247</th>\n",
       "      <td>2021-09-01</td>\n",
       "      <td>7316</td>\n",
       "      <td>13493</td>\n",
       "      <td>57</td>\n",
       "    </tr>\n",
       "    <tr>\n",
       "      <th>248</th>\n",
       "      <td>2021-10-01</td>\n",
       "      <td>7078</td>\n",
       "      <td>12651</td>\n",
       "      <td>54</td>\n",
       "    </tr>\n",
       "    <tr>\n",
       "      <th>249</th>\n",
       "      <td>2021-11-01</td>\n",
       "      <td>6664</td>\n",
       "      <td>11748</td>\n",
       "      <td>48</td>\n",
       "    </tr>\n",
       "    <tr>\n",
       "      <th>250</th>\n",
       "      <td>2021-12-01</td>\n",
       "      <td>5826</td>\n",
       "      <td>10501</td>\n",
       "      <td>39</td>\n",
       "    </tr>\n",
       "    <tr>\n",
       "      <th>251</th>\n",
       "      <td>2021-01-01</td>\n",
       "      <td>4822</td>\n",
       "      <td>9309</td>\n",
       "      <td>39</td>\n",
       "    </tr>\n",
       "  </tbody>\n",
       "</table>\n",
       "</div>"
      ],
      "text/plain": [
       "    year_month  clustered_track  self_track  researcher_track\n",
       "237 2020-11-01             7905       12228                71\n",
       "238 2020-12-01             8259       12756                69\n",
       "239 2021-01-01             8452       13208                64\n",
       "240 2021-02-01             8359       13465                60\n",
       "241 2021-03-01             8635       14043                63\n",
       "242 2021-04-01             8915       14498                60\n",
       "243 2021-05-01             8966       14734                60\n",
       "244 2021-06-01             8523       14797                59\n",
       "245 2021-07-01             7838       15168                58\n",
       "246 2021-08-01             7482       14372                60\n",
       "247 2021-09-01             7316       13493                57\n",
       "248 2021-10-01             7078       12651                54\n",
       "249 2021-11-01             6664       11748                48\n",
       "250 2021-12-01             5826       10501                39\n",
       "251 2021-01-01             4822        9309                39"
      ]
     },
     "execution_count": 52,
     "metadata": {},
     "output_type": "execute_result"
    }
   ],
   "source": [
    "user_breakdown_df.tail(15)"
   ]
  },
  {
   "cell_type": "code",
   "execution_count": 53,
   "metadata": {},
   "outputs": [],
   "source": [
    "## check researchers\n",
    "engine = sql.create_engine('mysql+pymysql://%s:%s@127.0.0.1/nanohub' \\\n",
    "                                               %('wang2506_ro', 'fnVnwcCS7iT45EsA'))\n",
    "\n",
    "sql_query = \"select uidNumber,givenName,surname from jos_citations_authors\"\n",
    "jos_citations_authors = pd.read_sql_query(sql_query, engine)\n"
   ]
  },
  {
   "cell_type": "code",
   "execution_count": 54,
   "metadata": {},
   "outputs": [
    {
     "data": {
      "text/html": [
       "<div>\n",
       "<style scoped>\n",
       "    .dataframe tbody tr th:only-of-type {\n",
       "        vertical-align: middle;\n",
       "    }\n",
       "\n",
       "    .dataframe tbody tr th {\n",
       "        vertical-align: top;\n",
       "    }\n",
       "\n",
       "    .dataframe thead th {\n",
       "        text-align: right;\n",
       "    }\n",
       "</style>\n",
       "<table border=\"1\" class=\"dataframe\">\n",
       "  <thead>\n",
       "    <tr style=\"text-align: right;\">\n",
       "      <th></th>\n",
       "      <th>uidNumber</th>\n",
       "      <th>givenName</th>\n",
       "      <th>surname</th>\n",
       "    </tr>\n",
       "  </thead>\n",
       "  <tbody>\n",
       "    <tr>\n",
       "      <th>0</th>\n",
       "      <td>100100</td>\n",
       "      <td>Woody</td>\n",
       "      <td>Gilbertson</td>\n",
       "    </tr>\n",
       "    <tr>\n",
       "      <th>1</th>\n",
       "      <td>42735</td>\n",
       "      <td>Hesameddin</td>\n",
       "      <td>Ilatikhameneh</td>\n",
       "    </tr>\n",
       "    <tr>\n",
       "      <th>2</th>\n",
       "      <td>52349</td>\n",
       "      <td>Daniel</td>\n",
       "      <td>Mejia</td>\n",
       "    </tr>\n",
       "    <tr>\n",
       "      <th>3</th>\n",
       "      <td>65635</td>\n",
       "      <td>James</td>\n",
       "      <td>Charles</td>\n",
       "    </tr>\n",
       "    <tr>\n",
       "      <th>4</th>\n",
       "      <td>72949</td>\n",
       "      <td>Prasad</td>\n",
       "      <td>Sarangapani</td>\n",
       "    </tr>\n",
       "    <tr>\n",
       "      <th>...</th>\n",
       "      <td>...</td>\n",
       "      <td>...</td>\n",
       "      <td>...</td>\n",
       "    </tr>\n",
       "    <tr>\n",
       "      <th>16661</th>\n",
       "      <td>0</td>\n",
       "      <td>NB</td>\n",
       "      <td>Balamurugan</td>\n",
       "    </tr>\n",
       "    <tr>\n",
       "      <th>16662</th>\n",
       "      <td>0</td>\n",
       "      <td>M.</td>\n",
       "      <td>Kurz</td>\n",
       "    </tr>\n",
       "    <tr>\n",
       "      <th>16663</th>\n",
       "      <td>0</td>\n",
       "      <td>S</td>\n",
       "      <td>Chandra</td>\n",
       "    </tr>\n",
       "    <tr>\n",
       "      <th>16664</th>\n",
       "      <td>0</td>\n",
       "      <td>WR</td>\n",
       "      <td>Frensley</td>\n",
       "    </tr>\n",
       "    <tr>\n",
       "      <th>16665</th>\n",
       "      <td>0</td>\n",
       "      <td>T.</td>\n",
       "      <td>Rupasinghe</td>\n",
       "    </tr>\n",
       "  </tbody>\n",
       "</table>\n",
       "<p>16666 rows × 3 columns</p>\n",
       "</div>"
      ],
      "text/plain": [
       "       uidNumber   givenName        surname\n",
       "0         100100       Woody     Gilbertson\n",
       "1          42735  Hesameddin  Ilatikhameneh\n",
       "2          52349      Daniel          Mejia\n",
       "3          65635       James        Charles\n",
       "4          72949      Prasad    Sarangapani\n",
       "...          ...         ...            ...\n",
       "16661          0          NB    Balamurugan\n",
       "16662          0          M.           Kurz\n",
       "16663          0           S        Chandra\n",
       "16664          0          WR       Frensley\n",
       "16665          0          T.     Rupasinghe\n",
       "\n",
       "[16666 rows x 3 columns]"
      ]
     },
     "execution_count": 54,
     "metadata": {},
     "output_type": "execute_result"
    }
   ],
   "source": [
    "jos_citations_authors"
   ]
  },
  {
   "cell_type": "code",
   "execution_count": 55,
   "metadata": {},
   "outputs": [],
   "source": [
    "sql_query = 'select id, uid, author from jos_citations'\n",
    "jos_citations = pd.read_sql_query(sql_query, engine)"
   ]
  },
  {
   "cell_type": "code",
   "execution_count": 56,
   "metadata": {},
   "outputs": [
    {
     "data": {
      "text/html": [
       "<div>\n",
       "<style scoped>\n",
       "    .dataframe tbody tr th:only-of-type {\n",
       "        vertical-align: middle;\n",
       "    }\n",
       "\n",
       "    .dataframe tbody tr th {\n",
       "        vertical-align: top;\n",
       "    }\n",
       "\n",
       "    .dataframe thead th {\n",
       "        text-align: right;\n",
       "    }\n",
       "</style>\n",
       "<table border=\"1\" class=\"dataframe\">\n",
       "  <thead>\n",
       "    <tr style=\"text-align: right;\">\n",
       "      <th></th>\n",
       "      <th>id</th>\n",
       "      <th>uid</th>\n",
       "      <th>author</th>\n",
       "    </tr>\n",
       "  </thead>\n",
       "  <tbody>\n",
       "    <tr>\n",
       "      <th>0</th>\n",
       "      <td>10000001</td>\n",
       "      <td>5568</td>\n",
       "      <td>Weber, Bent; Mahapatra, Suddhasatta; Ryu, Hoon...</td>\n",
       "    </tr>\n",
       "    <tr>\n",
       "      <th>1</th>\n",
       "      <td>10000002</td>\n",
       "      <td>5568</td>\n",
       "      <td>Andrawis, Robert; Bermeo, Jose; Charles, James...</td>\n",
       "    </tr>\n",
       "    <tr>\n",
       "      <th>2</th>\n",
       "      <td>10000003</td>\n",
       "      <td>None</td>\n",
       "      <td>Sebastian Steiger;Michael Povolotskyi;Hong-Hyu...</td>\n",
       "    </tr>\n",
       "    <tr>\n",
       "      <th>3</th>\n",
       "      <td>10000004</td>\n",
       "      <td>None</td>\n",
       "      <td>Muhammad Usman;Yui-Hong Matthias Tan;Hoon Ryu;...</td>\n",
       "    </tr>\n",
       "    <tr>\n",
       "      <th>4</th>\n",
       "      <td>10000005</td>\n",
       "      <td>None</td>\n",
       "      <td>Neophytos Neophytou;Gerhard Klimeck;Hans Kosina</td>\n",
       "    </tr>\n",
       "    <tr>\n",
       "      <th>...</th>\n",
       "      <td>...</td>\n",
       "      <td>...</td>\n",
       "      <td>...</td>\n",
       "    </tr>\n",
       "    <tr>\n",
       "      <th>4150</th>\n",
       "      <td>1535</td>\n",
       "      <td>2143</td>\n",
       "      <td>Amir Abedi</td>\n",
       "    </tr>\n",
       "    <tr>\n",
       "      <th>4151</th>\n",
       "      <td>627</td>\n",
       "      <td>2143</td>\n",
       "      <td>Jesper Pedersen;Lei Zhang{{38142}};M. Gilbert;...</td>\n",
       "    </tr>\n",
       "    <tr>\n",
       "      <th>4152</th>\n",
       "      <td>423</td>\n",
       "      <td>2143</td>\n",
       "      <td>WR Frensley</td>\n",
       "    </tr>\n",
       "    <tr>\n",
       "      <th>4153</th>\n",
       "      <td>2118</td>\n",
       "      <td>2143</td>\n",
       "      <td>T. Rupasinghe;M. Kurz</td>\n",
       "    </tr>\n",
       "    <tr>\n",
       "      <th>4154</th>\n",
       "      <td>1349</td>\n",
       "      <td>2143</td>\n",
       "      <td>S Chandra;NB Balamurugan</td>\n",
       "    </tr>\n",
       "  </tbody>\n",
       "</table>\n",
       "<p>4155 rows × 3 columns</p>\n",
       "</div>"
      ],
      "text/plain": [
       "            id   uid                                             author\n",
       "0     10000001  5568  Weber, Bent; Mahapatra, Suddhasatta; Ryu, Hoon...\n",
       "1     10000002  5568  Andrawis, Robert; Bermeo, Jose; Charles, James...\n",
       "2     10000003  None  Sebastian Steiger;Michael Povolotskyi;Hong-Hyu...\n",
       "3     10000004  None  Muhammad Usman;Yui-Hong Matthias Tan;Hoon Ryu;...\n",
       "4     10000005  None    Neophytos Neophytou;Gerhard Klimeck;Hans Kosina\n",
       "...        ...   ...                                                ...\n",
       "4150      1535  2143                                         Amir Abedi\n",
       "4151       627  2143  Jesper Pedersen;Lei Zhang{{38142}};M. Gilbert;...\n",
       "4152       423  2143                                        WR Frensley\n",
       "4153      2118  2143                              T. Rupasinghe;M. Kurz\n",
       "4154      1349  2143                           S Chandra;NB Balamurugan\n",
       "\n",
       "[4155 rows x 3 columns]"
      ]
     },
     "execution_count": 56,
     "metadata": {},
     "output_type": "execute_result"
    }
   ],
   "source": [
    "jos_citations"
   ]
  },
  {
   "cell_type": "code",
   "execution_count": 57,
   "metadata": {},
   "outputs": [],
   "source": [
    "t1_authors = jos_citations['author'].to_list()"
   ]
  },
  {
   "cell_type": "code",
   "execution_count": 58,
   "metadata": {},
   "outputs": [],
   "source": [
    "t1_authors2 = [] #[j.split(';') for i,j in enumerate(t1_authors)]"
   ]
  },
  {
   "cell_type": "code",
   "execution_count": 59,
   "metadata": {},
   "outputs": [],
   "source": [
    "for i,j in enumerate(t1_authors):\n",
    "    try:\n",
    "        holder = j.split(';')\n",
    "        if len(holder) > 1: \n",
    "            for k,l in enumerate(holder):\n",
    "                if l[0] == ' ':\n",
    "                    holder[k] = l[1:]\n",
    "        t1_authors2.append(holder)\n",
    "    except:\n",
    "        garb = True"
   ]
  },
  {
   "cell_type": "code",
   "execution_count": 60,
   "metadata": {},
   "outputs": [],
   "source": [
    "t1_authors3 = [item for sublist in t1_authors2 for item in sublist]"
   ]
  },
  {
   "cell_type": "code",
   "execution_count": 61,
   "metadata": {},
   "outputs": [],
   "source": [
    "t1_authors3 = set(t1_authors3)"
   ]
  },
  {
   "cell_type": "code",
   "execution_count": 62,
   "metadata": {},
   "outputs": [
    {
     "data": {
      "text/plain": [
       "6709"
      ]
     },
     "execution_count": 62,
     "metadata": {},
     "output_type": "execute_result"
    }
   ],
   "source": [
    "len(t1_authors3)"
   ]
  },
  {
   "cell_type": "code",
   "execution_count": 63,
   "metadata": {},
   "outputs": [],
   "source": [
    "## extract all researchers with nh ids\n",
    "rw_ids = []\n",
    "need_search = []\n",
    "for i,j in enumerate(t1_authors3):\n",
    "    if '{{' in j:\n",
    "        rw_ids.append(i)\n",
    "    else:\n",
    "        need_search.append(i)"
   ]
  },
  {
   "cell_type": "code",
   "execution_count": 64,
   "metadata": {},
   "outputs": [],
   "source": [
    "## from the rw_ids, extract the nanohub userids\n",
    "# can obtain usernames from the DB2 table\n",
    "rw_ids2 = np.array(list(t1_authors3))[rw_ids]\n",
    "for i,j in enumerate(rw_ids2):\n",
    "    begin = j.index('{{')\n",
    "    rw_ids2[i] = j[begin+2:-2]"
   ]
  },
  {
   "cell_type": "code",
   "execution_count": 65,
   "metadata": {},
   "outputs": [
    {
     "name": "stdout",
     "output_type": "stream",
     "text": [
      "2076\n"
     ]
    }
   ],
   "source": [
    "print(len(rw_ids2))"
   ]
  },
  {
   "cell_type": "code",
   "execution_count": 66,
   "metadata": {},
   "outputs": [
    {
     "data": {
      "text/html": [
       "<div>\n",
       "<style scoped>\n",
       "    .dataframe tbody tr th:only-of-type {\n",
       "        vertical-align: middle;\n",
       "    }\n",
       "\n",
       "    .dataframe tbody tr th {\n",
       "        vertical-align: top;\n",
       "    }\n",
       "\n",
       "    .dataframe thead th {\n",
       "        text-align: right;\n",
       "    }\n",
       "</style>\n",
       "<table border=\"1\" class=\"dataframe\">\n",
       "  <thead>\n",
       "    <tr style=\"text-align: right;\">\n",
       "      <th></th>\n",
       "      <th>id</th>\n",
       "      <th>name</th>\n",
       "      <th>username</th>\n",
       "    </tr>\n",
       "  </thead>\n",
       "  <tbody>\n",
       "    <tr>\n",
       "      <th>0</th>\n",
       "      <td>1742</td>\n",
       "      <td>H.-S. Philip Wong</td>\n",
       "      <td>hspwong</td>\n",
       "    </tr>\n",
       "    <tr>\n",
       "      <th>1</th>\n",
       "      <td>1767</td>\n",
       "      <td>Osama Munir Nayfeh</td>\n",
       "      <td>onayfeh</td>\n",
       "    </tr>\n",
       "  </tbody>\n",
       "</table>\n",
       "</div>"
      ],
      "text/plain": [
       "     id                name username\n",
       "0  1742   H.-S. Philip Wong  hspwong\n",
       "1  1767  Osama Munir Nayfeh  onayfeh"
      ]
     },
     "metadata": {},
     "output_type": "display_data"
    }
   ],
   "source": [
    "# need to obtain usernames\n",
    "sql_query = \"select id,name,username from jos_users where id in \"+str(tuple(rw_ids2))\n",
    "rw_researchers = pd.read_sql_query(sql_query,engine)\n",
    "display(rw_researchers.head(2))"
   ]
  },
  {
   "cell_type": "code",
   "execution_count": 67,
   "metadata": {},
   "outputs": [],
   "source": [
    "## need to obtain the username/ids from those people without nh ids explicitly spec'd in jos_citations\n",
    "ns2 = np.array(list(t1_authors3))[need_search]\n",
    "ns2 = ns2[1:]"
   ]
  },
  {
   "cell_type": "code",
   "execution_count": 68,
   "metadata": {},
   "outputs": [
    {
     "data": {
      "text/plain": [
       "('T. Nakamura',\n",
       " 'Xingwu Liu',\n",
       " 'Monique Groenewold',\n",
       " 'R. Govindaraju',\n",
       " 'Yuling Hsueh')"
      ]
     },
     "execution_count": 68,
     "metadata": {},
     "output_type": "execute_result"
    }
   ],
   "source": [
    "tuple(ns2)[:5]"
   ]
  },
  {
   "cell_type": "code",
   "execution_count": 69,
   "metadata": {},
   "outputs": [
    {
     "data": {
      "text/html": [
       "<div>\n",
       "<style scoped>\n",
       "    .dataframe tbody tr th:only-of-type {\n",
       "        vertical-align: middle;\n",
       "    }\n",
       "\n",
       "    .dataframe tbody tr th {\n",
       "        vertical-align: top;\n",
       "    }\n",
       "\n",
       "    .dataframe thead th {\n",
       "        text-align: right;\n",
       "    }\n",
       "</style>\n",
       "<table border=\"1\" class=\"dataframe\">\n",
       "  <thead>\n",
       "    <tr style=\"text-align: right;\">\n",
       "      <th></th>\n",
       "      <th>id</th>\n",
       "      <th>name</th>\n",
       "      <th>username</th>\n",
       "    </tr>\n",
       "  </thead>\n",
       "  <tbody>\n",
       "    <tr>\n",
       "      <th>0</th>\n",
       "      <td>282167</td>\n",
       "      <td>Aarthi Narayanan</td>\n",
       "      <td>aarthin0102</td>\n",
       "    </tr>\n",
       "    <tr>\n",
       "      <th>1</th>\n",
       "      <td>280280</td>\n",
       "      <td>Abani Patra</td>\n",
       "      <td>apatra01</td>\n",
       "    </tr>\n",
       "  </tbody>\n",
       "</table>\n",
       "</div>"
      ],
      "text/plain": [
       "       id              name     username\n",
       "0  282167  Aarthi Narayanan  aarthin0102\n",
       "1  280280       Abani Patra     apatra01"
      ]
     },
     "metadata": {},
     "output_type": "display_data"
    }
   ],
   "source": [
    "sql_query = \"select id,name,username from jos_users where name in \"+str(tuple(ns2))\n",
    "ns2_researchers = pd.read_sql_query(sql_query,engine)\n",
    "display(ns2_researchers.head(2))"
   ]
  },
  {
   "cell_type": "code",
   "execution_count": 70,
   "metadata": {},
   "outputs": [],
   "source": [
    "## combine the usernames into one data structure\n",
    "researcher_usernames = rw_researchers['username'].to_list() + ns2_researchers['username'].to_list()"
   ]
  },
  {
   "cell_type": "code",
   "execution_count": 71,
   "metadata": {},
   "outputs": [
    {
     "data": {
      "text/plain": [
       "2875"
      ]
     },
     "execution_count": 71,
     "metadata": {},
     "output_type": "execute_result"
    }
   ],
   "source": [
    "len(researcher_usernames)"
   ]
  },
  {
   "cell_type": "code",
   "execution_count": 72,
   "metadata": {},
   "outputs": [],
   "source": [
    "researcher_track = []\n",
    "engine_metrics = sql.create_engine('mysql+pymysql://%s:%s@127.0.0.1/nanohub_metrics' \\\n",
    "                                               %('wang2506_ro', 'fnVnwcCS7iT45EsA'))"
   ]
  },
  {
   "cell_type": "code",
   "execution_count": 73,
   "metadata": {},
   "outputs": [
    {
     "name": "stdout",
     "output_type": "stream",
     "text": [
      "2001\n",
      "2002\n",
      "2003\n",
      "2004\n",
      "2005\n",
      "2006\n",
      "2007\n",
      "2008\n",
      "2009\n",
      "2010\n",
      "2011\n",
      "2012\n",
      "2013\n",
      "2014\n",
      "2015\n",
      "2016\n",
      "2017\n",
      "2018\n",
      "2019\n",
      "2020\n",
      "2021\n"
     ]
    }
   ],
   "source": [
    "## computer has memory limits, so split toolstart into branches\n",
    "start_year = 2000 #2002 #allows for flexibility as well for future updates\n",
    "\n",
    "while start_year < 2021:#datetime.datetime.now().year:\n",
    "    start_year += 1\n",
    "    end_date = r\"'\"+str(start_year)+r\"-01-01'\"\n",
    "#     print(end_date)\n",
    "    start_date = r\"'\"+str(start_year-2)+r\"-01-01'\"\n",
    "    \n",
    "    for i in range(1,13):\n",
    "        if i < 10:\n",
    "            start_date = r\"'\"+str(start_year-1)+r\"-0\"+str(i)+r\"-01'\"\n",
    "            end_date = r\"'\"+str(start_year)+r\"-0\"+str(i)+r\"-01'\"\n",
    "        else:\n",
    "            start_date = r\"'\"+str(start_year-1)+r\"-\"+str(i)+r\"-01'\"\n",
    "            end_date = r\"'\"+str(start_year)+r\"-\"+str(i)+r\"-01'\"\n",
    "\n",
    "        sql_query_researcher = \"select user from toolstart where user in \" + str(tuple(researcher_usernames))\\\n",
    "            +\" and datetime <= \"+end_date+\" and datetime >= \"+start_date\n",
    "        researcher_users = pd.read_sql_query(sql_query_researcher, engine_metrics)#.drop_duplicates()\n",
    "\n",
    "        researcher_track.append(researcher_users.drop_duplicates().shape[0])\n",
    "\n",
    "    print(start_year)"
   ]
  },
  {
   "cell_type": "code",
   "execution_count": 76,
   "metadata": {},
   "outputs": [],
   "source": [
    "user_breakdown_df['researcher_track'] = researcher_track"
   ]
  },
  {
   "cell_type": "code",
   "execution_count": 134,
   "metadata": {},
   "outputs": [
    {
     "data": {
      "image/png": "[encoded data removed]",
      "text/plain": [
       "<Figure size 648x432 with 1 Axes>"
      ]
     },
     "metadata": {},
     "output_type": "display_data"
    }
   ],
   "source": [
    "sns.set()\n",
    "sns.set_style(\"whitegrid\")\n",
    "\n",
    "plt.figure(figsize=(9,6))\n",
    "# plt.figure(figsize=(6,6))\n",
    "user_breakdown_df2 = user_breakdown_df.iloc[:-11,:]\n",
    "plt.stackplot(user_breakdown_df2.year_month, \\\n",
    "              user_breakdown_df2[['clustered_track', 'researcher_track','self_track']].to_numpy().T, \\\n",
    "             labels=['Classroom','Research', 'Unclassified'], \\\n",
    "             colors=['green', 'red', 'orange']); #Self-study\n",
    "\n",
    "plt.legend(loc='upper left')#,fontsize=14);\n",
    "plt.ylabel('12-month Trailing Total')#,fontsize=15)\n",
    "\n",
    "plt.xlim([datetime.datetime(2001,1,1), datetime.datetime(2021,2,1)])#,fontsize=15)\n",
    "\n",
    "# test = plt.xticks()\n",
    "# # print(test)\n",
    "# # print([i.get_text() for i in test[1]])\n",
    "# plt.xticks(ticks=test[0][1:-1],labels=[str(i) for i in range(2002,2021,2)],fontsize=14)\n",
    "# # plt.xticks(ticks=['2001:1:1','2021:1:1'])#list(range(2000,2021,2)))#, \\\n",
    "# #     labels=list(range(2000,2021,2)),fontsize=12)\n",
    "\n",
    "# test_y = plt.yticks()\n",
    "# plt.yticks(ticks=test_y[0][0:-1],labels=[str(i) for i in range(0,21000,5000)],fontsize=14)\n",
    "\n",
    "# plt.xlim_labels('')\n",
    "# plt.ylim([0, 24000],fontsize=15)\n",
    "\n",
    "# plt.savefig(cwd+'/appendixF_plots/sim_user_by_type.png', dpi=500,bbox_inches='tight')\n",
    "# plt.savefig(cwd+'/appendixF_plots/sim_user_by_type.eps',bbox_inches='tight')\n",
    "# import os\n",
    "# cwd = os.getcwd()\n",
    "# plt.savefig(cwd+'/appendixF_plots/sim_user_by_type_HICSS.png', dpi=1500,bbox_inches='tight')\n",
    "\n",
    "plt.show()\n",
    "# new name - simusers_class_res_unclass_12months"
   ]
  },
  {
   "cell_type": "code",
   "execution_count": 1148,
   "metadata": {},
   "outputs": [
    {
     "data": {
      "text/plain": [
       "[7717, 7913, 8259, 8430, 8281]"
      ]
     },
     "execution_count": 1148,
     "metadata": {},
     "output_type": "execute_result"
    }
   ],
   "source": [
    "user_breakdown_df2['clustered_track'].to_list()[-5:]"
   ]
  },
  {
   "cell_type": "code",
   "execution_count": 1153,
   "metadata": {},
   "outputs": [
    {
     "name": "stderr",
     "output_type": "stream",
     "text": [
      "C:\\Users\\ch5b2\\anaconda3\\lib\\site-packages\\ipykernel_launcher.py:3: SettingWithCopyWarning: \n",
      "A value is trying to be set on a copy of a slice from a DataFrame.\n",
      "Try using .loc[row_indexer,col_indexer] = value instead\n",
      "\n",
      "See the caveats in the documentation: https://pandas.pydata.org/pandas-docs/stable/user_guide/indexing.html#returning-a-view-versus-a-copy\n",
      "  This is separate from the ipykernel package so we can avoid doing imports until\n",
      "C:\\Users\\ch5b2\\anaconda3\\lib\\site-packages\\ipykernel_launcher.py:6: SettingWithCopyWarning: \n",
      "A value is trying to be set on a copy of a slice from a DataFrame.\n",
      "Try using .loc[row_indexer,col_indexer] = value instead\n",
      "\n",
      "See the caveats in the documentation: https://pandas.pydata.org/pandas-docs/stable/user_guide/indexing.html#returning-a-view-versus-a-copy\n",
      "  \n",
      "C:\\Users\\ch5b2\\anaconda3\\lib\\site-packages\\ipykernel_launcher.py:9: SettingWithCopyWarning: \n",
      "A value is trying to be set on a copy of a slice from a DataFrame.\n",
      "Try using .loc[row_indexer,col_indexer] = value instead\n",
      "\n",
      "See the caveats in the documentation: https://pandas.pydata.org/pandas-docs/stable/user_guide/indexing.html#returning-a-view-versus-a-copy\n",
      "  if __name__ == '__main__':\n"
     ]
    }
   ],
   "source": [
    "user_breakdown_df2['clustered_track_per'] = 100*np.divide(user_breakdown_df2['clustered_track'],\\\n",
    "            user_breakdown_df2['clustered_track'].to_numpy()+user_breakdown_df2['researcher_track'].to_numpy()+\\\n",
    "                        user_breakdown_df2['self_track'].to_numpy())\n",
    "user_breakdown_df2['researcher_track_per'] = 100*np.divide(user_breakdown_df2['researcher_track'],\\\n",
    "            user_breakdown_df2['clustered_track'].to_numpy()+user_breakdown_df2['researcher_track'].to_numpy()+\\\n",
    "                        user_breakdown_df2['self_track'].to_numpy())\n",
    "user_breakdown_df2['self_track_per'] = 100*np.divide(user_breakdown_df2['self_track'],\\\n",
    "            user_breakdown_df2['clustered_track'].to_numpy()+user_breakdown_df2['researcher_track'].to_numpy()+\\\n",
    "                        user_breakdown_df2['self_track'].to_numpy())"
   ]
  },
  {
   "cell_type": "code",
   "execution_count": 1154,
   "metadata": {},
   "outputs": [
    {
     "name": "stderr",
     "output_type": "stream",
     "text": [
      "The PostScript backend does not support transparency; partially transparent artists will be rendered opaque.\n",
      "The PostScript backend does not support transparency; partially transparent artists will be rendered opaque.\n"
     ]
    },
    {
     "data": {
      "image/png": "[encoded data removed]",
      "text/plain": [
       "<Figure size 648x432 with 1 Axes>"
      ]
     },
     "metadata": {},
     "output_type": "display_data"
    }
   ],
   "source": [
    "plt.figure(figsize=(9,6))\n",
    "plt.plot(user_breakdown_df2.year_month, user_breakdown_df2.clustered_track_per, label='classroom', \\\n",
    "             color='green');\n",
    "plt.plot(user_breakdown_df2.year_month, user_breakdown_df2.researcher_track_per, label='research', \\\n",
    "             color='red');\n",
    "plt.plot(user_breakdown_df2.year_month, user_breakdown_df2.self_track_per, label='self-study', \\\n",
    "             color='orange');\n",
    "\n",
    "plt.ylim([0, 100])\n",
    "plt.legend(loc='upper right');\n",
    "plt.ylabel('Percentage (%)');\n",
    "plt.xlim([datetime.datetime(2001,1,1), datetime.datetime(2021,2,1)])\n",
    "\n",
    "# plt.savefig(cwd+'/appendixF_plots/sim_user_by_type_per.png', dpi=500,bbox_inches='tight')\n",
    "plt.savefig(cwd+'/appendixF_plots/sim_user_by_type_per.eps',bbox_inches='tight')\n",
    "\n",
    "plt.show()\n",
    "# new name - take name from above add a \"_percent\""
   ]
  },
  {
   "cell_type": "markdown",
   "metadata": {},
   "source": [
    "## Figure: active simulation users by geolocation"
   ]
  },
  {
   "cell_type": "code",
   "execution_count": 756,
   "metadata": {},
   "outputs": [],
   "source": [
    "## need to do iterative importing once again"
   ]
  },
  {
   "cell_type": "code",
   "execution_count": 757,
   "metadata": {},
   "outputs": [],
   "source": [
    "engine_metrics = sql.create_engine('mysql+pymysql://%s:%s@127.0.0.1/nanohub_metrics' \\\n",
    "                                               %('wang2506_ro', 'fnVnwcCS7iT45EsA'))"
   ]
  },
  {
   "cell_type": "code",
   "execution_count": 795,
   "metadata": {},
   "outputs": [],
   "source": [
    "country_df = pd.DataFrame()\n",
    "country_df['year_month'] = months_bin['year_month'].to_list()[13:-11]"
   ]
  },
  {
   "cell_type": "code",
   "execution_count": 796,
   "metadata": {},
   "outputs": [
    {
     "data": {
      "text/html": [
       "<div>\n",
       "<style scoped>\n",
       "    .dataframe tbody tr th:only-of-type {\n",
       "        vertical-align: middle;\n",
       "    }\n",
       "\n",
       "    .dataframe tbody tr th {\n",
       "        vertical-align: top;\n",
       "    }\n",
       "\n",
       "    .dataframe thead th {\n",
       "        text-align: right;\n",
       "    }\n",
       "</style>\n",
       "<table border=\"1\" class=\"dataframe\">\n",
       "  <thead>\n",
       "    <tr style=\"text-align: right;\">\n",
       "      <th></th>\n",
       "      <th>year_month</th>\n",
       "    </tr>\n",
       "  </thead>\n",
       "  <tbody>\n",
       "    <tr>\n",
       "      <th>0</th>\n",
       "      <td>2001-02-01</td>\n",
       "    </tr>\n",
       "    <tr>\n",
       "      <th>1</th>\n",
       "      <td>2001-03-01</td>\n",
       "    </tr>\n",
       "    <tr>\n",
       "      <th>2</th>\n",
       "      <td>2001-04-01</td>\n",
       "    </tr>\n",
       "    <tr>\n",
       "      <th>3</th>\n",
       "      <td>2001-05-01</td>\n",
       "    </tr>\n",
       "    <tr>\n",
       "      <th>4</th>\n",
       "      <td>2001-06-01</td>\n",
       "    </tr>\n",
       "    <tr>\n",
       "      <th>...</th>\n",
       "      <td>...</td>\n",
       "    </tr>\n",
       "    <tr>\n",
       "      <th>236</th>\n",
       "      <td>2020-10-01</td>\n",
       "    </tr>\n",
       "    <tr>\n",
       "      <th>237</th>\n",
       "      <td>2020-11-01</td>\n",
       "    </tr>\n",
       "    <tr>\n",
       "      <th>238</th>\n",
       "      <td>2020-12-01</td>\n",
       "    </tr>\n",
       "    <tr>\n",
       "      <th>239</th>\n",
       "      <td>2021-01-01</td>\n",
       "    </tr>\n",
       "    <tr>\n",
       "      <th>240</th>\n",
       "      <td>2021-02-01</td>\n",
       "    </tr>\n",
       "  </tbody>\n",
       "</table>\n",
       "<p>241 rows × 1 columns</p>\n",
       "</div>"
      ],
      "text/plain": [
       "    year_month\n",
       "0   2001-02-01\n",
       "1   2001-03-01\n",
       "2   2001-04-01\n",
       "3   2001-05-01\n",
       "4   2001-06-01\n",
       "..         ...\n",
       "236 2020-10-01\n",
       "237 2020-11-01\n",
       "238 2020-12-01\n",
       "239 2021-01-01\n",
       "240 2021-02-01\n",
       "\n",
       "[241 rows x 1 columns]"
      ]
     },
     "execution_count": 796,
     "metadata": {},
     "output_type": "execute_result"
    }
   ],
   "source": [
    "country_df"
   ]
  },
  {
   "cell_type": "code",
   "execution_count": 784,
   "metadata": {},
   "outputs": [],
   "source": [
    "usa = []\n",
    "china = []\n",
    "eu = []\n",
    "india = []\n",
    "other = []\n",
    "eu_list = ['BE','BG','EL','CZ','DK','DE','EE','IE','ES','FR','HR','IT','CY','LV',\\\n",
    "          'LT','LU','HU','MT','NL','AT','PL','PT','RO','SI','SK','FI','SE','IS',\\\n",
    "           'NO','LI','CH','UK','ME','MK','AL','RS','TR','BA','XK','AM','AZ','BY',\\\n",
    "           'MD','GE','UA','RU']"
   ]
  },
  {
   "cell_type": "code",
   "execution_count": 787,
   "metadata": {},
   "outputs": [
    {
     "name": "stdout",
     "output_type": "stream",
     "text": [
      "2001\n",
      "2002\n",
      "2003\n",
      "2004\n",
      "2005\n",
      "2006\n",
      "2007\n",
      "2008\n",
      "2009\n",
      "2010\n",
      "2011\n",
      "2012\n",
      "2013\n",
      "2014\n",
      "2015\n",
      "2016\n",
      "2017\n",
      "2018\n",
      "2019\n",
      "2020\n",
      "2021\n"
     ]
    }
   ],
   "source": [
    "## computer has memory limits, so split toolstart into branches\n",
    "start_year = 2000 #2002 #allows for flexibility as well for future updates\n",
    "\n",
    "while start_year < 2021:#datetime.datetime.now().year:\n",
    "    start_year += 1\n",
    "#     end_date = r\"'\"+str(start_year)+r\"-01-01'\"\n",
    "# #     print(end_date)\n",
    "#     start_date = r\"'\"+str(start_year-1)+r\"-01-01'\"\n",
    "    \n",
    "    for i in range(1,13):\n",
    "        if i < 10:\n",
    "            start_date = r\"'\"+str(start_year-1)+r\"-0\"+str(i)+r\"-01'\"\n",
    "            end_date = r\"'\"+str(start_year)+r\"-0\"+str(i)+r\"-01'\"\n",
    "        else:\n",
    "            start_date = r\"'\"+str(start_year-1)+r\"-\"+str(i)+r\"-01'\"\n",
    "            end_date = r\"'\"+str(start_year)+r\"-\"+str(i)+r\"-01'\"\n",
    "\n",
    "        sql_query_country = \"select distinct user, countryip from toolstart where user != 'instanton' \"\\\n",
    "        + \"and user != 'gridstat' and datetime <= \"+end_date+\" and datetime >= \"+start_date\n",
    "        country_users = pd.read_sql_query(sql_query_country, engine_metrics)#.drop_duplicates()\n",
    "        \n",
    "        # run geography filter\n",
    "        country_ipds = country_users['countryip'].to_list()\n",
    "        \n",
    "        bool_US = np.in1d(np.array(country_ipds),np.array(['US']))\n",
    "        bool_EU = np.in1d(np.array(country_ipds),np.array(eu_list))\n",
    "        bool_CN = np.in1d(np.array(country_ipds),np.array(['CN']))\n",
    "        bool_IN = np.in1d(np.array(country_ipds),np.array(['IN']))\n",
    "#         bool_OT = bool_US | bool_EU | bool_CN | bool_IN\n",
    "        \n",
    "        usa.append(len(np.where(bool_US)[0].tolist()))\n",
    "        eu.append(len(np.where(bool_EU)[0].tolist()))\n",
    "        china.append(len(np.where(bool_CN)[0].tolist()))\n",
    "        india.append(len(np.where(bool_IN)[0].tolist()))\n",
    "        other.append(len(country_ipds)-usa[-1]-eu[-1]-china[-1]-india[-1]) # len(np.where(bool_OT)[0].tolist()))\n",
    "        \n",
    "#         country_users.append(country_users.drop_duplicates().shape[0])\n",
    "\n",
    "    print(start_year)"
   ]
  },
  {
   "cell_type": "code",
   "execution_count": 798,
   "metadata": {},
   "outputs": [
    {
     "data": {
      "text/plain": [
       "(241, 1)"
      ]
     },
     "execution_count": 798,
     "metadata": {},
     "output_type": "execute_result"
    }
   ],
   "source": [
    "country_df.shape"
   ]
  },
  {
   "cell_type": "code",
   "execution_count": 816,
   "metadata": {},
   "outputs": [
    {
     "data": {
      "text/plain": [
       "[8245, 6881, 6044, 5487, 5122, 4684, 4073, 3005, 2018]"
      ]
     },
     "execution_count": 816,
     "metadata": {},
     "output_type": "execute_result"
    }
   ],
   "source": [
    "usa[-8:]"
   ]
  },
  {
   "cell_type": "code",
   "execution_count": 821,
   "metadata": {},
   "outputs": [
    {
     "name": "stdout",
     "output_type": "stream",
     "text": [
      "286\n",
      "241\n"
     ]
    }
   ],
   "source": [
    "print(len(usa))\n",
    "usa2 = usa[37:-8]\n",
    "print(len(usa2))"
   ]
  },
  {
   "cell_type": "code",
   "execution_count": 825,
   "metadata": {},
   "outputs": [],
   "source": [
    "country_df['USA'] = usa[37:-8]\n",
    "country_df['China'] = china[37:-8]\n",
    "country_df['Europe'] = eu[37:-8]\n",
    "country_df['India'] = india[37:-8]\n",
    "country_df['Other'] = other[37:-8]"
   ]
  },
  {
   "cell_type": "code",
   "execution_count": 826,
   "metadata": {},
   "outputs": [
    {
     "data": {
      "text/html": [
       "<div>\n",
       "<style scoped>\n",
       "    .dataframe tbody tr th:only-of-type {\n",
       "        vertical-align: middle;\n",
       "    }\n",
       "\n",
       "    .dataframe tbody tr th {\n",
       "        vertical-align: top;\n",
       "    }\n",
       "\n",
       "    .dataframe thead th {\n",
       "        text-align: right;\n",
       "    }\n",
       "</style>\n",
       "<table border=\"1\" class=\"dataframe\">\n",
       "  <thead>\n",
       "    <tr style=\"text-align: right;\">\n",
       "      <th></th>\n",
       "      <th>year_month</th>\n",
       "      <th>USA</th>\n",
       "      <th>China</th>\n",
       "      <th>Europe</th>\n",
       "      <th>India</th>\n",
       "      <th>Other</th>\n",
       "      <th>Total</th>\n",
       "    </tr>\n",
       "  </thead>\n",
       "  <tbody>\n",
       "    <tr>\n",
       "      <th>0</th>\n",
       "      <td>2001-02-01</td>\n",
       "      <td>849</td>\n",
       "      <td>5</td>\n",
       "      <td>58</td>\n",
       "      <td>2</td>\n",
       "      <td>32</td>\n",
       "      <td>946</td>\n",
       "    </tr>\n",
       "    <tr>\n",
       "      <th>1</th>\n",
       "      <td>2001-03-01</td>\n",
       "      <td>775</td>\n",
       "      <td>5</td>\n",
       "      <td>58</td>\n",
       "      <td>2</td>\n",
       "      <td>38</td>\n",
       "      <td>878</td>\n",
       "    </tr>\n",
       "    <tr>\n",
       "      <th>2</th>\n",
       "      <td>2001-04-01</td>\n",
       "      <td>760</td>\n",
       "      <td>5</td>\n",
       "      <td>55</td>\n",
       "      <td>2</td>\n",
       "      <td>40</td>\n",
       "      <td>862</td>\n",
       "    </tr>\n",
       "    <tr>\n",
       "      <th>3</th>\n",
       "      <td>2001-05-01</td>\n",
       "      <td>755</td>\n",
       "      <td>7</td>\n",
       "      <td>56</td>\n",
       "      <td>2</td>\n",
       "      <td>42</td>\n",
       "      <td>862</td>\n",
       "    </tr>\n",
       "    <tr>\n",
       "      <th>4</th>\n",
       "      <td>2001-06-01</td>\n",
       "      <td>744</td>\n",
       "      <td>7</td>\n",
       "      <td>54</td>\n",
       "      <td>2</td>\n",
       "      <td>43</td>\n",
       "      <td>850</td>\n",
       "    </tr>\n",
       "    <tr>\n",
       "      <th>...</th>\n",
       "      <td>...</td>\n",
       "      <td>...</td>\n",
       "      <td>...</td>\n",
       "      <td>...</td>\n",
       "      <td>...</td>\n",
       "      <td>...</td>\n",
       "      <td>...</td>\n",
       "    </tr>\n",
       "    <tr>\n",
       "      <th>236</th>\n",
       "      <td>2020-10-01</td>\n",
       "      <td>9008</td>\n",
       "      <td>432</td>\n",
       "      <td>4006</td>\n",
       "      <td>3531</td>\n",
       "      <td>6068</td>\n",
       "      <td>23045</td>\n",
       "    </tr>\n",
       "    <tr>\n",
       "      <th>237</th>\n",
       "      <td>2020-11-01</td>\n",
       "      <td>8881</td>\n",
       "      <td>436</td>\n",
       "      <td>4107</td>\n",
       "      <td>3621</td>\n",
       "      <td>6224</td>\n",
       "      <td>23269</td>\n",
       "    </tr>\n",
       "    <tr>\n",
       "      <th>238</th>\n",
       "      <td>2020-12-01</td>\n",
       "      <td>9256</td>\n",
       "      <td>441</td>\n",
       "      <td>4185</td>\n",
       "      <td>3670</td>\n",
       "      <td>6643</td>\n",
       "      <td>24195</td>\n",
       "    </tr>\n",
       "    <tr>\n",
       "      <th>239</th>\n",
       "      <td>2021-01-01</td>\n",
       "      <td>8800</td>\n",
       "      <td>425</td>\n",
       "      <td>4055</td>\n",
       "      <td>3479</td>\n",
       "      <td>6423</td>\n",
       "      <td>23182</td>\n",
       "    </tr>\n",
       "    <tr>\n",
       "      <th>240</th>\n",
       "      <td>2021-02-01</td>\n",
       "      <td>8245</td>\n",
       "      <td>407</td>\n",
       "      <td>3711</td>\n",
       "      <td>3207</td>\n",
       "      <td>5984</td>\n",
       "      <td>21554</td>\n",
       "    </tr>\n",
       "  </tbody>\n",
       "</table>\n",
       "<p>241 rows × 7 columns</p>\n",
       "</div>"
      ],
      "text/plain": [
       "    year_month   USA  China  Europe  India  Other  Total\n",
       "0   2001-02-01   849      5      58      2     32    946\n",
       "1   2001-03-01   775      5      58      2     38    878\n",
       "2   2001-04-01   760      5      55      2     40    862\n",
       "3   2001-05-01   755      7      56      2     42    862\n",
       "4   2001-06-01   744      7      54      2     43    850\n",
       "..         ...   ...    ...     ...    ...    ...    ...\n",
       "236 2020-10-01  9008    432    4006   3531   6068  23045\n",
       "237 2020-11-01  8881    436    4107   3621   6224  23269\n",
       "238 2020-12-01  9256    441    4185   3670   6643  24195\n",
       "239 2021-01-01  8800    425    4055   3479   6423  23182\n",
       "240 2021-02-01  8245    407    3711   3207   5984  21554\n",
       "\n",
       "[241 rows x 7 columns]"
      ]
     },
     "execution_count": 826,
     "metadata": {},
     "output_type": "execute_result"
    }
   ],
   "source": [
    "country_df"
   ]
  },
  {
   "cell_type": "code",
   "execution_count": 827,
   "metadata": {},
   "outputs": [],
   "source": [
    "country_df['Total'] = np.array(usa[37:-8])+np.array(china[37:-8])+np.array(eu[37:-8])+np.array(india[37:-8])+np.array(other[37:-8])"
   ]
  },
  {
   "cell_type": "code",
   "execution_count": 1156,
   "metadata": {},
   "outputs": [
    {
     "name": "stderr",
     "output_type": "stream",
     "text": [
      "The PostScript backend does not support transparency; partially transparent artists will be rendered opaque.\n",
      "The PostScript backend does not support transparency; partially transparent artists will be rendered opaque.\n"
     ]
    },
    {
     "data": {
      "image/png": "[encoded data removed]",
      "text/plain": [
       "<Figure size 648x432 with 1 Axes>"
      ]
     },
     "metadata": {},
     "output_type": "display_data"
    }
   ],
   "source": [
    "plt.figure(figsize=(9,6))\n",
    "plt.stackplot(country_df['year_month'], \\\n",
    "              country_df[['USA', 'China', 'India', 'Europe', 'Other']].to_numpy().T, \\\n",
    "             labels=country_df.columns.to_list()[1:-1], \\\n",
    "             colors=['blue', 'red', 'orange', 'green', 'black']);\n",
    "\n",
    "plt.legend(loc='upper left');\n",
    "plt.ylabel('12-month trailing total')\n",
    "plt.xlim([datetime.datetime(2002,1,1), datetime.datetime(2021,2,1)]);\n",
    "plt.ylim([0, 25000])\n",
    "\n",
    "# plt.savefig(cwd+'/appendixF_plots/sim_user_by_country.png', dpi=500,bbox_inches='tight')\n",
    "plt.savefig(cwd+'/appendixF_plots/sim_user_by_country.eps',bbox_inches='tight')\n",
    "\n",
    "plt.show()\n",
    "# new name - simusers_geo_12months"
   ]
  },
  {
   "cell_type": "code",
   "execution_count": 1157,
   "metadata": {},
   "outputs": [
    {
     "name": "stderr",
     "output_type": "stream",
     "text": [
      "The PostScript backend does not support transparency; partially transparent artists will be rendered opaque.\n",
      "The PostScript backend does not support transparency; partially transparent artists will be rendered opaque.\n"
     ]
    },
    {
     "data": {
      "image/png": "[encoded data removed]",
      "text/plain": [
       "<Figure size 648x432 with 1 Axes>"
      ]
     },
     "metadata": {},
     "output_type": "display_data"
    }
   ],
   "source": [
    "plt.figure(figsize=(9,6))\n",
    "plt.plot(country_df['year_month'], \\\n",
    "         country_df['USA'].to_numpy()/country_df['Total'].to_numpy() *100\\\n",
    "         , label='US', color='blue');\n",
    "plt.plot(country_df['year_month'], \\\n",
    "         country_df['China'].to_numpy()/country_df['Total'].to_numpy() *100\\\n",
    "         , label='China', color='red');\n",
    "plt.plot(country_df['year_month'], \\\n",
    "         country_df['India'].to_numpy()/country_df['Total'].to_numpy() *100\\\n",
    "         , label='India', color='orange');\n",
    "plt.plot(country_df['year_month'], \\\n",
    "         country_df['Europe'].to_numpy()/country_df['Total'].to_numpy() *100\\\n",
    "         , label='Europe', color='green');\n",
    "plt.plot(country_df['year_month'], \\\n",
    "         country_df['Other'].to_numpy()/country_df['Total'].to_numpy() *100\\\n",
    "         , label='Others', color='black');\n",
    "\n",
    "plt.xlim([datetime.datetime(2001,1,1), datetime.datetime(2021,2,1)])\n",
    "plt.ylim([0, 100])\n",
    "plt.legend(loc='upper right');\n",
    "plt.ylabel('Percentage (%)')\n",
    "\n",
    "# plt.savefig(cwd+'/appendixF_plots/sim_user_by_country_perc.png', dpi=500,bbox_inches='tight')\n",
    "plt.savefig(cwd+'/appendixF_plots/sim_user_by_country_perc.eps',bbox_inches='tight')\n",
    "\n",
    "plt.show()\n",
    "# add '_percent'"
   ]
  },
  {
   "cell_type": "markdown",
   "metadata": {},
   "source": [
    "## Classroom activity plots"
   ]
  },
  {
   "cell_type": "code",
   "execution_count": 837,
   "metadata": {},
   "outputs": [],
   "source": [
    "## students and classes per semester"
   ]
  },
  {
   "cell_type": "code",
   "execution_count": 899,
   "metadata": {},
   "outputs": [
    {
     "name": "stdout",
     "output_type": "stream",
     "text": [
      "Obtained Salesforce access token ...... True\n"
     ]
    }
   ],
   "source": [
    "## pull all classroom users from SF\n",
    "db_1 = DB2SalesforceAPI(sf_login_params)"
   ]
  },
  {
   "cell_type": "code",
   "execution_count": 903,
   "metadata": {},
   "outputs": [
    {
     "name": "stdout",
     "output_type": "stream",
     "text": [
      "[Success] Bulk job creation successful. Job ID = 7505w00000Tp79KAAR\n",
      "{\"id\":\"7505w00000Tp79KAAR\",\"operation\":\"query\",\"object\":\"ContactToolClusterAssociation__c\",\"createdById\":\"0055w00000DM5bOAAT\",\"createdDate\":\"2021-02-04T21:03:45.000+0000\",\"systemModstamp\":\"2021-02-04T21:03:45.000+0000\",\"state\":\"UploadComplete\",\"concurrencyMode\":\"Parallel\",\"contentType\":\"CSV\",\"apiVersion\":47.0,\"jobType\":\"V2Query\",\"lineEnding\":\"LF\",\"columnDelimiter\":\"COMMA\",\"retries\":0,\"totalProcessingTime\":0}\n",
      "{\"id\":\"7505w00000Tp79KAAR\",\"operation\":\"query\",\"object\":\"ContactToolClusterAssociation__c\",\"createdById\":\"0055w00000DM5bOAAT\",\"createdDate\":\"2021-02-04T21:03:45.000+0000\",\"systemModstamp\":\"2021-02-04T21:03:47.000+0000\",\"state\":\"InProgress\",\"concurrencyMode\":\"Parallel\",\"contentType\":\"CSV\",\"apiVersion\":47.0,\"jobType\":\"V2Query\",\"lineEnding\":\"LF\",\"columnDelimiter\":\"COMMA\",\"numberRecordsProcessed\":89607,\"retries\":0,\"totalProcessingTime\":14025}\n",
      "{\"id\":\"7505w00000Tp79KAAR\",\"operation\":\"query\",\"object\":\"ContactToolClusterAssociation__c\",\"createdById\":\"0055w00000DM5bOAAT\",\"createdDate\":\"2021-02-04T21:03:45.000+0000\",\"systemModstamp\":\"2021-02-04T21:04:00.000+0000\",\"state\":\"JobComplete\",\"concurrencyMode\":\"Parallel\",\"contentType\":\"CSV\",\"apiVersion\":47.0,\"jobType\":\"V2Query\",\"lineEnding\":\"LF\",\"columnDelimiter\":\"COMMA\",\"numberRecordsProcessed\":89607,\"retries\":0,\"totalProcessingTime\":19464}\n",
      "[Success] Bulk job completed successfully.\n"
     ]
    }
   ],
   "source": [
    "## pull the list of contacts within each cluster\n",
    "contacts_in_cluster_df = db_1.query_data('Select Id, Contact__c, Tool_Usage_Cluster__c from ContactToolClusterAssociation__c')"
   ]
  },
  {
   "cell_type": "code",
   "execution_count": 904,
   "metadata": {},
   "outputs": [
    {
     "data": {
      "text/html": [
       "<div>\n",
       "<style scoped>\n",
       "    .dataframe tbody tr th:only-of-type {\n",
       "        vertical-align: middle;\n",
       "    }\n",
       "\n",
       "    .dataframe tbody tr th {\n",
       "        vertical-align: top;\n",
       "    }\n",
       "\n",
       "    .dataframe thead th {\n",
       "        text-align: right;\n",
       "    }\n",
       "</style>\n",
       "<table border=\"1\" class=\"dataframe\">\n",
       "  <thead>\n",
       "    <tr style=\"text-align: right;\">\n",
       "      <th></th>\n",
       "      <th>Contact__c</th>\n",
       "      <th>Id</th>\n",
       "      <th>Tool_Usage_Cluster__c</th>\n",
       "    </tr>\n",
       "  </thead>\n",
       "  <tbody>\n",
       "    <tr>\n",
       "      <th>0</th>\n",
       "      <td>0035w000031Vv3bAAC</td>\n",
       "      <td>a0x5w00000c2TB2AAM</td>\n",
       "      <td>a0w5w000009Q8ZRAA0</td>\n",
       "    </tr>\n",
       "    <tr>\n",
       "      <th>1</th>\n",
       "      <td>0035w000034JHc2AAG</td>\n",
       "      <td>a0x5w00000c2TCHAA2</td>\n",
       "      <td>a0w5w00000A8OH1AAN</td>\n",
       "    </tr>\n",
       "    <tr>\n",
       "      <th>2</th>\n",
       "      <td>0035w000031VuwtAAC</td>\n",
       "      <td>a0x5w00000c2TNhAAM</td>\n",
       "      <td>a0w5w000009Q8XsAAK</td>\n",
       "    </tr>\n",
       "    <tr>\n",
       "      <th>3</th>\n",
       "      <td>0035w000034IQ5fAAG</td>\n",
       "      <td>a0x5w00000c2TOpAAM</td>\n",
       "      <td>a0w5w000009Q8SEAA0</td>\n",
       "    </tr>\n",
       "    <tr>\n",
       "      <th>4</th>\n",
       "      <td>0035w000034JEgLAAW</td>\n",
       "      <td>a0x5w00000c2UDeAAM</td>\n",
       "      <td>a0w5w000009Q85VAAS</td>\n",
       "    </tr>\n",
       "    <tr>\n",
       "      <th>...</th>\n",
       "      <td>...</td>\n",
       "      <td>...</td>\n",
       "      <td>...</td>\n",
       "    </tr>\n",
       "    <tr>\n",
       "      <th>89602</th>\n",
       "      <td>0035w000034JKeXAAW</td>\n",
       "      <td>a0x5w00000c4ZwVAAU</td>\n",
       "      <td>a0w5w000009Q7s0AAC</td>\n",
       "    </tr>\n",
       "    <tr>\n",
       "      <th>89603</th>\n",
       "      <td>0035w000034JL7hAAG</td>\n",
       "      <td>a0x5w00000c4ZwWAAU</td>\n",
       "      <td>a0w5w000009Q7s0AAC</td>\n",
       "    </tr>\n",
       "    <tr>\n",
       "      <th>89604</th>\n",
       "      <td>0035w000034JGl4AAG</td>\n",
       "      <td>a0x5w00000c4ZwXAAU</td>\n",
       "      <td>a0w5w00000A8OIsAAN</td>\n",
       "    </tr>\n",
       "    <tr>\n",
       "      <th>89605</th>\n",
       "      <td>0035w000034JEz3AAG</td>\n",
       "      <td>a0x5w00000c4ZwYAAU</td>\n",
       "      <td>a0w5w00000A8OIsAAN</td>\n",
       "    </tr>\n",
       "    <tr>\n",
       "      <th>89606</th>\n",
       "      <td>0035w000034JGmNAAW</td>\n",
       "      <td>a0x5w00000c4ZwZAAU</td>\n",
       "      <td>a0w5w00000A8OIsAAN</td>\n",
       "    </tr>\n",
       "  </tbody>\n",
       "</table>\n",
       "<p>89607 rows × 3 columns</p>\n",
       "</div>"
      ],
      "text/plain": [
       "               Contact__c                  Id Tool_Usage_Cluster__c\n",
       "0      0035w000031Vv3bAAC  a0x5w00000c2TB2AAM    a0w5w000009Q8ZRAA0\n",
       "1      0035w000034JHc2AAG  a0x5w00000c2TCHAA2    a0w5w00000A8OH1AAN\n",
       "2      0035w000031VuwtAAC  a0x5w00000c2TNhAAM    a0w5w000009Q8XsAAK\n",
       "3      0035w000034IQ5fAAG  a0x5w00000c2TOpAAM    a0w5w000009Q8SEAA0\n",
       "4      0035w000034JEgLAAW  a0x5w00000c2UDeAAM    a0w5w000009Q85VAAS\n",
       "...                   ...                 ...                   ...\n",
       "89602  0035w000034JKeXAAW  a0x5w00000c4ZwVAAU    a0w5w000009Q7s0AAC\n",
       "89603  0035w000034JL7hAAG  a0x5w00000c4ZwWAAU    a0w5w000009Q7s0AAC\n",
       "89604  0035w000034JGl4AAG  a0x5w00000c4ZwXAAU    a0w5w00000A8OIsAAN\n",
       "89605  0035w000034JEz3AAG  a0x5w00000c4ZwYAAU    a0w5w00000A8OIsAAN\n",
       "89606  0035w000034JGmNAAW  a0x5w00000c4ZwZAAU    a0w5w00000A8OIsAAN\n",
       "\n",
       "[89607 rows x 3 columns]"
      ]
     },
     "execution_count": 904,
     "metadata": {},
     "output_type": "execute_result"
    }
   ],
   "source": [
    "contacts_in_cluster_df"
   ]
  },
  {
   "cell_type": "code",
   "execution_count": 907,
   "metadata": {},
   "outputs": [
    {
     "data": {
      "text/html": [
       "<div>\n",
       "<style scoped>\n",
       "    .dataframe tbody tr th:only-of-type {\n",
       "        vertical-align: middle;\n",
       "    }\n",
       "\n",
       "    .dataframe tbody tr th {\n",
       "        vertical-align: top;\n",
       "    }\n",
       "\n",
       "    .dataframe thead th {\n",
       "        text-align: right;\n",
       "    }\n",
       "</style>\n",
       "<table border=\"1\" class=\"dataframe\">\n",
       "  <thead>\n",
       "    <tr style=\"text-align: right;\">\n",
       "      <th></th>\n",
       "      <th>Contact__c</th>\n",
       "      <th>Tool_Usage_Cluster__c</th>\n",
       "    </tr>\n",
       "  </thead>\n",
       "  <tbody>\n",
       "    <tr>\n",
       "      <th>0</th>\n",
       "      <td>0035w000034JEfkAAG</td>\n",
       "      <td>a0w5w00000A8OFoAAN</td>\n",
       "    </tr>\n",
       "    <tr>\n",
       "      <th>1</th>\n",
       "      <td>0035w000034JGYpAAO</td>\n",
       "      <td>a0w5w00000A8OFoAAN</td>\n",
       "    </tr>\n",
       "    <tr>\n",
       "      <th>2</th>\n",
       "      <td>0035w000031VyoyAAC</td>\n",
       "      <td>a0w5w00000A8OFoAAN</td>\n",
       "    </tr>\n",
       "    <tr>\n",
       "      <th>3</th>\n",
       "      <td>0035w000034JEu6AAG</td>\n",
       "      <td>a0w5w00000A8OFoAAN</td>\n",
       "    </tr>\n",
       "    <tr>\n",
       "      <th>4</th>\n",
       "      <td>0035w000034JLgGAAW</td>\n",
       "      <td>a0w5w00000A8OFoAAN</td>\n",
       "    </tr>\n",
       "    <tr>\n",
       "      <th>...</th>\n",
       "      <td>...</td>\n",
       "      <td>...</td>\n",
       "    </tr>\n",
       "    <tr>\n",
       "      <th>92581</th>\n",
       "      <td>0035w000034JvvsAAC</td>\n",
       "      <td>a0w5w000009Q7trAAC</td>\n",
       "    </tr>\n",
       "    <tr>\n",
       "      <th>92582</th>\n",
       "      <td>0035w000034JKPQAA4</td>\n",
       "      <td>a0w5w000009Q7trAAC</td>\n",
       "    </tr>\n",
       "    <tr>\n",
       "      <th>92583</th>\n",
       "      <td>0035w000034IVycAAG</td>\n",
       "      <td>a0w5w000009Q7trAAC</td>\n",
       "    </tr>\n",
       "    <tr>\n",
       "      <th>92584</th>\n",
       "      <td>0035w000034K2hRAAS</td>\n",
       "      <td>a0w5w000009Q7trAAC</td>\n",
       "    </tr>\n",
       "    <tr>\n",
       "      <th>92585</th>\n",
       "      <td>0035w000034K2hTAAS</td>\n",
       "      <td>a0w5w000009Q7trAAC</td>\n",
       "    </tr>\n",
       "  </tbody>\n",
       "</table>\n",
       "<p>92586 rows × 2 columns</p>\n",
       "</div>"
      ],
      "text/plain": [
       "               Contact__c Tool_Usage_Cluster__c\n",
       "0      0035w000034JEfkAAG    a0w5w00000A8OFoAAN\n",
       "1      0035w000034JGYpAAO    a0w5w00000A8OFoAAN\n",
       "2      0035w000031VyoyAAC    a0w5w00000A8OFoAAN\n",
       "3      0035w000034JEu6AAG    a0w5w00000A8OFoAAN\n",
       "4      0035w000034JLgGAAW    a0w5w00000A8OFoAAN\n",
       "...                   ...                   ...\n",
       "92581  0035w000034JvvsAAC    a0w5w000009Q7trAAC\n",
       "92582  0035w000034JKPQAA4    a0w5w000009Q7trAAC\n",
       "92583  0035w000034IVycAAG    a0w5w000009Q7trAAC\n",
       "92584  0035w000034K2hRAAS    a0w5w000009Q7trAAC\n",
       "92585  0035w000034K2hTAAS    a0w5w000009Q7trAAC\n",
       "\n",
       "[92586 rows x 2 columns]"
      ]
     },
     "execution_count": 907,
     "metadata": {},
     "output_type": "execute_result"
    }
   ],
   "source": [
    "contacts_in_cluster_df = pd.read_csv(cwd+'/backup_contacts_in_clusters.csv')\n",
    "contacts_in_cluster_df = contacts_in_cluster_df.drop(columns=['Unnamed: 0'])\n",
    "contacts_in_cluster_df"
   ]
  },
  {
   "cell_type": "code",
   "execution_count": 917,
   "metadata": {},
   "outputs": [
    {
     "name": "stdout",
     "output_type": "stream",
     "text": [
      "[FAIL] Bulk job creation failed ...\n",
      "[{\"errorCode\":\"API_ERROR\",\"message\":\"\\nEnding_Date__c, Starting_Date__c, Tool_Usage_Cluster__c from tool_usage_cluster__c\\n                                  ^\\nERROR at Row:1:Column:66\\nNo such column 'Tool_Usage_Cluster__c' on entity 'tool_usage_cluster__c'. If you are attempting to use a custom field, be sure to append the '__c' after the custom field name. Please reference your WSDL or the describe call for the appropriate names.\"}]\n"
     ]
    },
    {
     "ename": "RuntimeError",
     "evalue": "No active exception to reraise",
     "output_type": "error",
     "traceback": [
      "\u001b[1;31m---------------------------------------------------------------------------\u001b[0m",
      "\u001b[1;31mRuntimeError\u001b[0m                              Traceback (most recent call last)",
      "\u001b[1;32m<ipython-input-917-2f93343e7757>\u001b[0m in \u001b[0;36m<module>\u001b[1;34m\u001b[0m\n\u001b[1;32m----> 1\u001b[1;33m \u001b[0mclusters_df\u001b[0m \u001b[1;33m=\u001b[0m \u001b[0mdb_1\u001b[0m\u001b[1;33m.\u001b[0m\u001b[0mquery_data\u001b[0m\u001b[1;33m(\u001b[0m\u001b[1;34m'Select id, ID__c, Semester__c, Ending_Date__c, Starting_Date__c, Tool_Usage_Cluster__c from tool_usage_cluster__c'\u001b[0m\u001b[1;33m)\u001b[0m\u001b[1;33m\u001b[0m\u001b[1;33m\u001b[0m\u001b[0m\n\u001b[0m\u001b[0;32m      2\u001b[0m \u001b[0mclusters_df\u001b[0m\u001b[1;33m\u001b[0m\u001b[1;33m\u001b[0m\u001b[0m\n",
      "\u001b[1;32m~\\Documents\\NH_content\\nanohub_salesforce_integ\\plotting\\DB2SalesforceAPI.py\u001b[0m in \u001b[0;36mquery_data\u001b[1;34m(self, query)\u001b[0m\n\u001b[0;32m     56\u001b[0m             \u001b[0mprint\u001b[0m\u001b[1;33m(\u001b[0m\u001b[1;34m'[FAIL] Bulk job creation failed ...'\u001b[0m\u001b[1;33m)\u001b[0m\u001b[1;33m\u001b[0m\u001b[1;33m\u001b[0m\u001b[0m\n\u001b[0;32m     57\u001b[0m             \u001b[0mprint\u001b[0m\u001b[1;33m(\u001b[0m\u001b[0mresponse\u001b[0m\u001b[1;33m.\u001b[0m\u001b[0mtext\u001b[0m\u001b[1;33m)\u001b[0m\u001b[1;33m\u001b[0m\u001b[1;33m\u001b[0m\u001b[0m\n\u001b[1;32m---> 58\u001b[1;33m             \u001b[1;32mraise\u001b[0m\u001b[1;33m\u001b[0m\u001b[1;33m\u001b[0m\u001b[0m\n\u001b[0m\u001b[0;32m     59\u001b[0m         \u001b[1;32melse\u001b[0m\u001b[1;33m:\u001b[0m\u001b[1;33m\u001b[0m\u001b[1;33m\u001b[0m\u001b[0m\n\u001b[0;32m     60\u001b[0m             \u001b[1;31m# job request successful\u001b[0m\u001b[1;33m\u001b[0m\u001b[1;33m\u001b[0m\u001b[1;33m\u001b[0m\u001b[0m\n",
      "\u001b[1;31mRuntimeError\u001b[0m: No active exception to reraise"
     ]
    }
   ],
   "source": [
    "clusters_df = db_1.query_data('Select id, ID__c, Semester__c, Ending_Date__c, Starting_Date__c from tool_usage_cluster__c')\n",
    "clusters_df"
   ]
  },
  {
   "cell_type": "code",
   "execution_count": 927,
   "metadata": {},
   "outputs": [
    {
     "data": {
      "text/html": [
       "<div>\n",
       "<style scoped>\n",
       "    .dataframe tbody tr th:only-of-type {\n",
       "        vertical-align: middle;\n",
       "    }\n",
       "\n",
       "    .dataframe tbody tr th {\n",
       "        vertical-align: top;\n",
       "    }\n",
       "\n",
       "    .dataframe thead th {\n",
       "        text-align: right;\n",
       "    }\n",
       "</style>\n",
       "<table border=\"1\" class=\"dataframe\">\n",
       "  <thead>\n",
       "    <tr style=\"text-align: right;\">\n",
       "      <th></th>\n",
       "      <th>Ending_Date__c</th>\n",
       "      <th>Estimated_cluster_size__c</th>\n",
       "      <th>Estimated_number_of_tools__c</th>\n",
       "      <th>Id</th>\n",
       "      <th>Organization__c</th>\n",
       "      <th>Starting_Date__c</th>\n",
       "    </tr>\n",
       "  </thead>\n",
       "  <tbody>\n",
       "    <tr>\n",
       "      <th>0</th>\n",
       "      <td>2011-01-30</td>\n",
       "      <td>12.0</td>\n",
       "      <td>5.0</td>\n",
       "      <td>a0w5w000009Q7CuAAK</td>\n",
       "      <td>NaN</td>\n",
       "      <td>2010-09-05</td>\n",
       "    </tr>\n",
       "    <tr>\n",
       "      <th>1</th>\n",
       "      <td>2018-11-30</td>\n",
       "      <td>5.0</td>\n",
       "      <td>1.0</td>\n",
       "      <td>a0w5w000009Q7CvAAK</td>\n",
       "      <td>a0r5w00000V42iyAAB</td>\n",
       "      <td>2018-11-29</td>\n",
       "    </tr>\n",
       "    <tr>\n",
       "      <th>2</th>\n",
       "      <td>2019-11-28</td>\n",
       "      <td>39.0</td>\n",
       "      <td>3.0</td>\n",
       "      <td>a0w5w000009Q7CwAAK</td>\n",
       "      <td>a0r5w00000V42iyAAB</td>\n",
       "      <td>2019-11-04</td>\n",
       "    </tr>\n",
       "    <tr>\n",
       "      <th>3</th>\n",
       "      <td>2017-12-16</td>\n",
       "      <td>44.0</td>\n",
       "      <td>0.0</td>\n",
       "      <td>a0w5w000009Q7CxAAK</td>\n",
       "      <td>a0r5w00000V42cCAAR</td>\n",
       "      <td>2017-10-03</td>\n",
       "    </tr>\n",
       "    <tr>\n",
       "      <th>4</th>\n",
       "      <td>2018-01-21</td>\n",
       "      <td>18.0</td>\n",
       "      <td>0.0</td>\n",
       "      <td>a0w5w000009Q7CyAAK</td>\n",
       "      <td>a0r5w00000V42cCAAR</td>\n",
       "      <td>2018-01-15</td>\n",
       "    </tr>\n",
       "    <tr>\n",
       "      <th>...</th>\n",
       "      <td>...</td>\n",
       "      <td>...</td>\n",
       "      <td>...</td>\n",
       "      <td>...</td>\n",
       "      <td>...</td>\n",
       "      <td>...</td>\n",
       "    </tr>\n",
       "    <tr>\n",
       "      <th>3952</th>\n",
       "      <td>2020-11-03</td>\n",
       "      <td>7.0</td>\n",
       "      <td>0.0</td>\n",
       "      <td>a0w5w00000A8cO7AAJ</td>\n",
       "      <td>NaN</td>\n",
       "      <td>2020-11-02</td>\n",
       "    </tr>\n",
       "    <tr>\n",
       "      <th>3953</th>\n",
       "      <td>2020-12-09</td>\n",
       "      <td>11.0</td>\n",
       "      <td>0.0</td>\n",
       "      <td>a0w5w00000A8cO8AAJ</td>\n",
       "      <td>NaN</td>\n",
       "      <td>2020-11-07</td>\n",
       "    </tr>\n",
       "    <tr>\n",
       "      <th>3954</th>\n",
       "      <td>2020-11-19</td>\n",
       "      <td>7.0</td>\n",
       "      <td>0.0</td>\n",
       "      <td>a0w5w00000A8cO9AAJ</td>\n",
       "      <td>NaN</td>\n",
       "      <td>2020-11-18</td>\n",
       "    </tr>\n",
       "    <tr>\n",
       "      <th>3955</th>\n",
       "      <td>2020-12-05</td>\n",
       "      <td>40.0</td>\n",
       "      <td>0.0</td>\n",
       "      <td>a0w5w00000A8cOAAAZ</td>\n",
       "      <td>NaN</td>\n",
       "      <td>2020-11-27</td>\n",
       "    </tr>\n",
       "    <tr>\n",
       "      <th>3956</th>\n",
       "      <td>2020-12-05</td>\n",
       "      <td>8.0</td>\n",
       "      <td>0.0</td>\n",
       "      <td>a0w5w00000A8cOBAAZ</td>\n",
       "      <td>NaN</td>\n",
       "      <td>2020-12-02</td>\n",
       "    </tr>\n",
       "  </tbody>\n",
       "</table>\n",
       "<p>3957 rows × 6 columns</p>\n",
       "</div>"
      ],
      "text/plain": [
       "     Ending_Date__c  Estimated_cluster_size__c  Estimated_number_of_tools__c  \\\n",
       "0        2011-01-30                       12.0                           5.0   \n",
       "1        2018-11-30                        5.0                           1.0   \n",
       "2        2019-11-28                       39.0                           3.0   \n",
       "3        2017-12-16                       44.0                           0.0   \n",
       "4        2018-01-21                       18.0                           0.0   \n",
       "...             ...                        ...                           ...   \n",
       "3952     2020-11-03                        7.0                           0.0   \n",
       "3953     2020-12-09                       11.0                           0.0   \n",
       "3954     2020-11-19                        7.0                           0.0   \n",
       "3955     2020-12-05                       40.0                           0.0   \n",
       "3956     2020-12-05                        8.0                           0.0   \n",
       "\n",
       "                      Id     Organization__c Starting_Date__c  \n",
       "0     a0w5w000009Q7CuAAK                 NaN       2010-09-05  \n",
       "1     a0w5w000009Q7CvAAK  a0r5w00000V42iyAAB       2018-11-29  \n",
       "2     a0w5w000009Q7CwAAK  a0r5w00000V42iyAAB       2019-11-04  \n",
       "3     a0w5w000009Q7CxAAK  a0r5w00000V42cCAAR       2017-10-03  \n",
       "4     a0w5w000009Q7CyAAK  a0r5w00000V42cCAAR       2018-01-15  \n",
       "...                  ...                 ...              ...  \n",
       "3952  a0w5w00000A8cO7AAJ                 NaN       2020-11-02  \n",
       "3953  a0w5w00000A8cO8AAJ                 NaN       2020-11-07  \n",
       "3954  a0w5w00000A8cO9AAJ                 NaN       2020-11-18  \n",
       "3955  a0w5w00000A8cOAAAZ                 NaN       2020-11-27  \n",
       "3956  a0w5w00000A8cOBAAZ                 NaN       2020-12-02  \n",
       "\n",
       "[3957 rows x 6 columns]"
      ]
     },
     "execution_count": 927,
     "metadata": {},
     "output_type": "execute_result"
    }
   ],
   "source": [
    "clusters_df = pd.read_csv(cwd+'/backup_tool_cluster_df.csv')\n",
    "clusters_df = clusters_df.drop(columns=['Unnamed: 0'])\n",
    "clusters_df"
   ]
  },
  {
   "cell_type": "code",
   "execution_count": 858,
   "metadata": {},
   "outputs": [
    {
     "data": {
      "text/plain": [
       "[0, 1, 2, 3, 4]"
      ]
     },
     "metadata": {},
     "output_type": "display_data"
    }
   ],
   "source": [
    "## filter by starting_date__c\n",
    "cluster_dts = pd.to_datetime(clusters_df['Starting_Date__c'])\n",
    "\n",
    "## don't use current year's data\n",
    "cluster_dts2 = clusters_df[cluster_dts <= '2021-01-01']\n",
    "cluster_dts2 = cluster_dts2.reset_index()['index'].to_list()\n",
    "display(cluster_dts2[:5])"
   ]
  },
  {
   "cell_type": "code",
   "execution_count": 859,
   "metadata": {},
   "outputs": [],
   "source": [
    "clusters_df2 = clusters_df.iloc[cluster_dts2,:]"
   ]
  },
  {
   "cell_type": "code",
   "execution_count": 862,
   "metadata": {},
   "outputs": [],
   "source": [
    "clusters_df2 = clusters_df2.reset_index().drop(columns='index')"
   ]
  },
  {
   "cell_type": "code",
   "execution_count": 863,
   "metadata": {},
   "outputs": [
    {
     "data": {
      "text/html": [
       "<div>\n",
       "<style scoped>\n",
       "    .dataframe tbody tr th:only-of-type {\n",
       "        vertical-align: middle;\n",
       "    }\n",
       "\n",
       "    .dataframe tbody tr th {\n",
       "        vertical-align: top;\n",
       "    }\n",
       "\n",
       "    .dataframe thead th {\n",
       "        text-align: right;\n",
       "    }\n",
       "</style>\n",
       "<table border=\"1\" class=\"dataframe\">\n",
       "  <thead>\n",
       "    <tr style=\"text-align: right;\">\n",
       "      <th></th>\n",
       "      <th>Ending_Date__c</th>\n",
       "      <th>Id</th>\n",
       "      <th>Semester__c</th>\n",
       "      <th>Starting_Date__c</th>\n",
       "    </tr>\n",
       "  </thead>\n",
       "  <tbody>\n",
       "    <tr>\n",
       "      <th>0</th>\n",
       "      <td>2011-01-30</td>\n",
       "      <td>a0w5w000009Q7CuAAK</td>\n",
       "      <td>Fall</td>\n",
       "      <td>2010-09-05</td>\n",
       "    </tr>\n",
       "    <tr>\n",
       "      <th>1</th>\n",
       "      <td>2018-11-30</td>\n",
       "      <td>a0w5w000009Q7CvAAK</td>\n",
       "      <td>Fall</td>\n",
       "      <td>2018-11-29</td>\n",
       "    </tr>\n",
       "    <tr>\n",
       "      <th>2</th>\n",
       "      <td>2019-11-28</td>\n",
       "      <td>a0w5w000009Q7CwAAK</td>\n",
       "      <td>Fall</td>\n",
       "      <td>2019-11-04</td>\n",
       "    </tr>\n",
       "    <tr>\n",
       "      <th>3</th>\n",
       "      <td>2017-12-16</td>\n",
       "      <td>a0w5w000009Q7CxAAK</td>\n",
       "      <td>Fall</td>\n",
       "      <td>2017-10-03</td>\n",
       "    </tr>\n",
       "    <tr>\n",
       "      <th>4</th>\n",
       "      <td>2018-01-21</td>\n",
       "      <td>a0w5w000009Q7CyAAK</td>\n",
       "      <td>Spring</td>\n",
       "      <td>2018-01-15</td>\n",
       "    </tr>\n",
       "    <tr>\n",
       "      <th>...</th>\n",
       "      <td>...</td>\n",
       "      <td>...</td>\n",
       "      <td>...</td>\n",
       "      <td>...</td>\n",
       "    </tr>\n",
       "    <tr>\n",
       "      <th>3836</th>\n",
       "      <td>2020-10-06</td>\n",
       "      <td>a0w5w00000A8cNuAAJ</td>\n",
       "      <td>Fall</td>\n",
       "      <td>2020-09-27</td>\n",
       "    </tr>\n",
       "    <tr>\n",
       "      <th>3837</th>\n",
       "      <td>2020-10-08</td>\n",
       "      <td>a0w5w00000A8cNwAAJ</td>\n",
       "      <td>Fall</td>\n",
       "      <td>2020-10-04</td>\n",
       "    </tr>\n",
       "    <tr>\n",
       "      <th>3838</th>\n",
       "      <td>2020-12-02</td>\n",
       "      <td>a0w5w00000A8cO1AAJ</td>\n",
       "      <td>Fall</td>\n",
       "      <td>2020-11-27</td>\n",
       "    </tr>\n",
       "    <tr>\n",
       "      <th>3839</th>\n",
       "      <td>2020-11-03</td>\n",
       "      <td>a0w5w00000A8cO6AAJ</td>\n",
       "      <td>Fall</td>\n",
       "      <td>2020-10-19</td>\n",
       "    </tr>\n",
       "    <tr>\n",
       "      <th>3840</th>\n",
       "      <td>2020-12-05</td>\n",
       "      <td>a0w5w00000A8cOAAAZ</td>\n",
       "      <td>Fall</td>\n",
       "      <td>2020-11-27</td>\n",
       "    </tr>\n",
       "  </tbody>\n",
       "</table>\n",
       "<p>3841 rows × 4 columns</p>\n",
       "</div>"
      ],
      "text/plain": [
       "     Ending_Date__c                  Id Semester__c Starting_Date__c\n",
       "0        2011-01-30  a0w5w000009Q7CuAAK        Fall       2010-09-05\n",
       "1        2018-11-30  a0w5w000009Q7CvAAK        Fall       2018-11-29\n",
       "2        2019-11-28  a0w5w000009Q7CwAAK        Fall       2019-11-04\n",
       "3        2017-12-16  a0w5w000009Q7CxAAK        Fall       2017-10-03\n",
       "4        2018-01-21  a0w5w000009Q7CyAAK      Spring       2018-01-15\n",
       "...             ...                 ...         ...              ...\n",
       "3836     2020-10-06  a0w5w00000A8cNuAAJ        Fall       2020-09-27\n",
       "3837     2020-10-08  a0w5w00000A8cNwAAJ        Fall       2020-10-04\n",
       "3838     2020-12-02  a0w5w00000A8cO1AAJ        Fall       2020-11-27\n",
       "3839     2020-11-03  a0w5w00000A8cO6AAJ        Fall       2020-10-19\n",
       "3840     2020-12-05  a0w5w00000A8cOAAAZ        Fall       2020-11-27\n",
       "\n",
       "[3841 rows x 4 columns]"
      ]
     },
     "execution_count": 863,
     "metadata": {},
     "output_type": "execute_result"
    }
   ],
   "source": [
    "clusters_df2"
   ]
  },
  {
   "cell_type": "code",
   "execution_count": 1012,
   "metadata": {},
   "outputs": [],
   "source": [
    "## calculate classes per semester\n",
    "clusters_df2['Starting_Date__c'] = pd.to_datetime(clusters_df2['Starting_Date__c'])\n",
    "\n",
    "starting_year = 2000\n",
    "\n",
    "semester_list = ['Spring','Fall','Summer']\n",
    "# group Spring and Summer togethre\n",
    "\n",
    "months_sems = []\n",
    "\n",
    "while starting_year < 2022:\n",
    "    for i in semester_list:\n",
    "        if i == 'Fall':\n",
    "            months_sems.append(datetime.datetime.strptime(str(starting_year)+'-07-01', '%Y-%m-%d') )\n",
    "        elif i == 'Spring':\n",
    "            months_sems.append(datetime.datetime.strptime(str(starting_year)+'-01-01', '%Y-%m-%d') )\n",
    "    starting_year += 1"
   ]
  },
  {
   "cell_type": "code",
   "execution_count": 966,
   "metadata": {},
   "outputs": [],
   "source": [
    "cluster_ids_per_sem = {}\n",
    "for i,j in enumerate(months_sems):\n",
    "    if i == 0:\n",
    "        cluster_ids_per_sem[i] = clusters_df2['Id'].to_numpy()[clusters_df2['Starting_Date__c'] < months_sems[i+1]]\n",
    "    elif i == len(months_sems)-1:\n",
    "        cluster_ids_per_sem[i] = clusters_df2['Id'].to_numpy()[(clusters_df2['Starting_Date__c'] > j)]\n",
    "    else:\n",
    "        cluster_ids_per_sem[i] = clusters_df2['Id'].to_numpy()[(clusters_df2['Starting_Date__c'] > j) \\\n",
    "                        & (clusters_df2['Starting_Date__c'] < months_sems[i+1])]"
   ]
  },
  {
   "cell_type": "code",
   "execution_count": 967,
   "metadata": {},
   "outputs": [],
   "source": [
    "## produce classes sizes per semester\n",
    "cluster_ids_per_sem_nums = [len(i) for i in cluster_ids_per_sem.values()]"
   ]
  },
  {
   "cell_type": "code",
   "execution_count": 968,
   "metadata": {},
   "outputs": [],
   "source": [
    "# # find overlaps\n",
    "# ttt = np.in1d(np.array(clusters_df['Id']),np.array(contacts_in_cluster_df['Tool_Usage_Cluster__c']))\n",
    "# len(ttt)"
   ]
  },
  {
   "cell_type": "code",
   "execution_count": 969,
   "metadata": {},
   "outputs": [],
   "source": [
    "## find the student populations per semester\n",
    "students = []\n",
    "students_count = []\n",
    "for i in cluster_ids_per_sem.values():\n",
    "    bool_students = np.in1d(np.array(contacts_in_cluster_df['Tool_Usage_Cluster__c'].to_list()),np.array(i))\n",
    "    \n",
    "    students.append(contacts_in_cluster_df['Contact__c'].to_numpy()[np.where(bool_students)[0]]) #dataframe indexes\n",
    "    students_count.append(len(students[-1]))"
   ]
  },
  {
   "cell_type": "code",
   "execution_count": 970,
   "metadata": {},
   "outputs": [],
   "source": [
    "months_sems2 = [str(i.year)+'-0'+str(i.month) for i in months_sems]"
   ]
  },
  {
   "cell_type": "code",
   "execution_count": 1159,
   "metadata": {},
   "outputs": [
    {
     "data": {
      "image/png": "[encoded data removed]",
      "text/plain": [
       "<Figure size 648x432 with 1 Axes>"
      ]
     },
     "metadata": {},
     "output_type": "display_data"
    },
    {
     "data": {
      "image/png": "[encoded data removed]",
      "text/plain": [
       "<Figure size 648x432 with 1 Axes>"
      ]
     },
     "metadata": {},
     "output_type": "display_data"
    }
   ],
   "source": [
    "## plot two bar plots\n",
    "plt.figure(figsize=(9,6))\n",
    "\n",
    "g = sns.barplot(months_sems2, cluster_ids_per_sem_nums, color='blue');\n",
    "g.set_xticklabels(months_sems2, rotation=90)\n",
    "\n",
    "plt.xlabel('Semester')\n",
    "plt.ylabel('Classes')\n",
    "\n",
    "# plt.savefig(cwd+'/appendixF_plots/class_by_semester_count.png', dpi=500,bbox_inches='tight')\n",
    "plt.savefig(cwd+'/appendixF_plots/class_by_semester_count.eps',bbox_inches='tight')\n",
    "\n",
    "plt.figure(figsize=(9,6))\n",
    "g = sns.barplot(months_sems2, students_count, color='green');\n",
    "g.set_xticklabels(months_sems2, rotation=90)\n",
    "\n",
    "plt.xlabel('Semester')\n",
    "plt.ylabel('Students')\n",
    "\n",
    "# plt.savefig(cwd+'/appendixF_plots/student_by_semester_count.png', dpi=500, bbox_inches='tight')\n",
    "plt.savefig(cwd+'/appendixF_plots/student_by_semester_count.eps', bbox_inches='tight')\n",
    "# new name blue - classclust_semester_\"algoname\"_participants\n",
    "# new name green _classes"
   ]
  },
  {
   "cell_type": "code",
   "execution_count": 983,
   "metadata": {
    "tags": []
   },
   "outputs": [],
   "source": [
    "## determine cumulative uniques\n",
    "#students\n",
    "cumulative_sem_students = []\n",
    "unique_students = []\n",
    "cumulative_classes = []\n",
    "\n",
    "for i,j in enumerate(students):\n",
    "    if i == 0:\n",
    "        unique_students.append(len(set(j)))\n",
    "        cumulative_sem_students.append(students_count[i])\n",
    "        cumulative_classes.append(cluster_ids_per_sem_nums[i])\n",
    "    elif i == len(students)-1:\n",
    "        unique_students.append(len(set(np.concatenate(students[:i+1]))))\n",
    "        cumulative_sem_students.append(students_count[i] + cumulative_sem_students[-1])\n",
    "        cumulative_classes.append(cluster_ids_per_sem_nums[i] + cumulative_classes[-1])\n",
    "    else:\n",
    "        unique_students.append(len(set(np.concatenate(students[:i+1]))))\n",
    "        cumulative_sem_students.append(students_count[i]+cumulative_sem_students[-1])  \n",
    "        cumulative_classes.append(cluster_ids_per_sem_nums[i] + cumulative_classes[-1])"
   ]
  },
  {
   "cell_type": "code",
   "execution_count": 1015,
   "metadata": {},
   "outputs": [],
   "source": [
    "starting_year = 2001\n",
    "\n",
    "semester_list = ['Spring','Fall','Summer']\n",
    "# group Spring and Summer togethre\n",
    "\n",
    "months_sems3 = [datetime.datetime(2000, 7, 1, 0, 0)]\n",
    "\n",
    "while starting_year < 2022:\n",
    "    for i in semester_list:\n",
    "        if i == 'Fall':\n",
    "            months_sems3.append(datetime.datetime.strptime(str(starting_year)+'-07-01', '%Y-%m-%d') )\n",
    "        elif i == 'Spring':\n",
    "            months_sems3.append(datetime.datetime.strptime(str(starting_year)+'-01-01', '%Y-%m-%d') )\n",
    "    starting_year += 1"
   ]
  },
  {
   "cell_type": "code",
   "execution_count": 1018,
   "metadata": {},
   "outputs": [
    {
     "data": {
      "text/plain": [
       "42"
      ]
     },
     "execution_count": 1018,
     "metadata": {},
     "output_type": "execute_result"
    }
   ],
   "source": [
    "len(months_sems3[:-1])"
   ]
  },
  {
   "cell_type": "code",
   "execution_count": 1119,
   "metadata": {},
   "outputs": [
    {
     "data": {
      "text/plain": [
       "array(['0035w000034JFLHAA4', '0035w000034JGQQAA4', '0035w000034JEwlAAG',\n",
       "       ..., '0035w00003D9yIVAAZ', '0035w00003DBEgKAAX',\n",
       "       '0035w00003BRTpPAAX'], dtype=object)"
      ]
     },
     "execution_count": 1119,
     "metadata": {},
     "output_type": "execute_result"
    }
   ],
   "source": [
    "np.concatenate(students)"
   ]
  },
  {
   "cell_type": "code",
   "execution_count": 1120,
   "metadata": {},
   "outputs": [],
   "source": [
    "duplicate_students = list(np.concatenate(students))"
   ]
  },
  {
   "cell_type": "code",
   "execution_count": 1121,
   "metadata": {},
   "outputs": [
    {
     "data": {
      "text/plain": [
       "(array([ 9853, 76519, 82047, 87751, 88935], dtype=int64),)"
      ]
     },
     "execution_count": 1121,
     "metadata": {},
     "output_type": "execute_result"
    }
   ],
   "source": [
    "from itertools import groupby\n",
    "intermed_student = [len(list(group)) for key, group in groupby(duplicate_students)]\n",
    "np.where(np.array(intermed_student) > 1)"
   ]
  },
  {
   "cell_type": "code",
   "execution_count": 1123,
   "metadata": {},
   "outputs": [
    {
     "name": "stdout",
     "output_type": "stream",
     "text": [
      "89726\n"
     ]
    }
   ],
   "source": [
    "counter = 1\n",
    "for key,group in groupby(duplicate_students):\n",
    "    counter += 1\n",
    "print(counter)"
   ]
  },
  {
   "cell_type": "code",
   "execution_count": 1080,
   "metadata": {},
   "outputs": [
    {
     "name": "stdout",
     "output_type": "stream",
     "text": [
      "89730 60357 3840\n",
      "316 3776\n"
     ]
    }
   ],
   "source": [
    "print(cumulative_sem_students[-1],unique_students[-1],cumulative_classes[-1])\n",
    "print(cluster_ids_per_sem_nums[-1],len(set(np.concatenate(students[-1:]))))"
   ]
  },
  {
   "cell_type": "code",
   "execution_count": 1125,
   "metadata": {},
   "outputs": [
    {
     "data": {
      "text/plain": [
       "0.32734871280508193"
      ]
     },
     "execution_count": 1125,
     "metadata": {},
     "output_type": "execute_result"
    }
   ],
   "source": [
    "## percent diff\n",
    "(89730-60357)/89730"
   ]
  },
  {
   "cell_type": "code",
   "execution_count": 1160,
   "metadata": {},
   "outputs": [
    {
     "data": {
      "image/png": "[encoded data removed]",
      "text/plain": [
       "<Figure size 648x432 with 2 Axes>"
      ]
     },
     "metadata": {},
     "output_type": "display_data"
    }
   ],
   "source": [
    "# plot cumulative class and student count\n",
    "fig, ax1 = plt.subplots(figsize=(9,6))\n",
    "\n",
    "color = 'tab:red'\n",
    "ax1.set_ylabel('Persons', color=color)\n",
    "#ax1.plot(class_students_count.cumsum(), color=color)\n",
    "ax1.plot(months_sems3[:-1], \\\n",
    "         cumulative_sem_students, color='Green')\n",
    "ax1.plot(months_sems3[:-1], unique_students, color=color)\n",
    "ax1.tick_params(axis='y', labelcolor=color)\n",
    "\n",
    "ax2 = ax1.twinx()  # instantiate a second axes that shares the same x-axis\n",
    "\n",
    "color = 'tab:blue'\n",
    "ax2.set_ylabel('Classes', color=color)  # we already handled the x-label with ax1\n",
    "ax2.plot(months_sems3[:-1],cumulative_classes, color=color)\n",
    "ax2.tick_params(axis='y', labelcolor=color)\n",
    "\n",
    "fig.tight_layout()  # otherwise the right y-label is slightly clipped\n",
    "\n",
    "plt.xlim([datetime.datetime(2000,7,1), datetime.datetime(2021,1,1)])\n",
    "\n",
    "ax1.set_ylim([0, 95000])\n",
    "ax1.grid(False)\n",
    "ax2.set_ylim([0, 8000])\n",
    "ax2.grid(False)\n",
    "\n",
    "# plt.savefig(cwd+'/appendixF_plots/student_class_count.png', dpi=500, bbox_inches='tight')\n",
    "plt.savefig(cwd+'/appendixF_plots/student_class_count.eps', bbox_inches='tight')\n",
    "\n",
    "# add legend\n",
    "plt.show()\n",
    "\n",
    "# new name - same name as above + _cumulative_combined\n",
    "# red - unique class participants\n",
    "# blue - unique classes\n",
    "# green - total class participants"
   ]
  },
  {
   "cell_type": "markdown",
   "metadata": {},
   "source": [
    "## User Lifetime Comparison"
   ]
  },
  {
   "cell_type": "code",
   "execution_count": 1161,
   "metadata": {},
   "outputs": [],
   "source": [
    "#pull jos_users with the previously found self-study, classroom, and research users\n",
    "#then just compare the register vs last visit date"
   ]
  },
  {
   "cell_type": "code",
   "execution_count": 1162,
   "metadata": {},
   "outputs": [],
   "source": [
    "sql_query = \"select registerDate, lastvisitDate from jos_users where username in \" + str(tuple(clustered_NH_username2['username']))\n",
    "engine = sql.create_engine('mysql+pymysql://%s:%s@127.0.0.1/nanohub' \\\n",
    "                                               %('wang2506_ro', 'fnVnwcCS7iT45EsA'))"
   ]
  },
  {
   "cell_type": "code",
   "execution_count": 1163,
   "metadata": {},
   "outputs": [
    {
     "data": {
      "text/html": [
       "<div>\n",
       "<style scoped>\n",
       "    .dataframe tbody tr th:only-of-type {\n",
       "        vertical-align: middle;\n",
       "    }\n",
       "\n",
       "    .dataframe tbody tr th {\n",
       "        vertical-align: top;\n",
       "    }\n",
       "\n",
       "    .dataframe thead th {\n",
       "        text-align: right;\n",
       "    }\n",
       "</style>\n",
       "<table border=\"1\" class=\"dataframe\">\n",
       "  <thead>\n",
       "    <tr style=\"text-align: right;\">\n",
       "      <th></th>\n",
       "      <th>registerDate</th>\n",
       "      <th>lastvisitDate</th>\n",
       "    </tr>\n",
       "  </thead>\n",
       "  <tbody>\n",
       "    <tr>\n",
       "      <th>0</th>\n",
       "      <td>2000-01-11 17:10:00</td>\n",
       "      <td>NaT</td>\n",
       "    </tr>\n",
       "    <tr>\n",
       "      <th>1</th>\n",
       "      <td>2000-08-24 18:17:51</td>\n",
       "      <td>NaT</td>\n",
       "    </tr>\n",
       "    <tr>\n",
       "      <th>2</th>\n",
       "      <td>2000-08-29 19:43:43</td>\n",
       "      <td>NaT</td>\n",
       "    </tr>\n",
       "    <tr>\n",
       "      <th>3</th>\n",
       "      <td>2000-09-19 15:06:58</td>\n",
       "      <td>NaT</td>\n",
       "    </tr>\n",
       "    <tr>\n",
       "      <th>4</th>\n",
       "      <td>2001-01-11 00:20:23</td>\n",
       "      <td>NaT</td>\n",
       "    </tr>\n",
       "    <tr>\n",
       "      <th>...</th>\n",
       "      <td>...</td>\n",
       "      <td>...</td>\n",
       "    </tr>\n",
       "    <tr>\n",
       "      <th>61312</th>\n",
       "      <td>2021-01-21 22:45:04</td>\n",
       "      <td>2021-01-21 22:45:05</td>\n",
       "    </tr>\n",
       "    <tr>\n",
       "      <th>61313</th>\n",
       "      <td>2021-01-22 00:26:53</td>\n",
       "      <td>2021-01-22 00:26:54</td>\n",
       "    </tr>\n",
       "    <tr>\n",
       "      <th>61314</th>\n",
       "      <td>2021-01-22 19:02:00</td>\n",
       "      <td>2021-02-05 22:11:18</td>\n",
       "    </tr>\n",
       "    <tr>\n",
       "      <th>61315</th>\n",
       "      <td>2021-01-22 23:27:13</td>\n",
       "      <td>2021-01-22 23:27:14</td>\n",
       "    </tr>\n",
       "    <tr>\n",
       "      <th>61316</th>\n",
       "      <td>2021-01-23 00:24:39</td>\n",
       "      <td>2021-01-23 00:24:40</td>\n",
       "    </tr>\n",
       "  </tbody>\n",
       "</table>\n",
       "<p>61317 rows × 2 columns</p>\n",
       "</div>"
      ],
      "text/plain": [
       "             registerDate       lastvisitDate\n",
       "0     2000-01-11 17:10:00                 NaT\n",
       "1     2000-08-24 18:17:51                 NaT\n",
       "2     2000-08-29 19:43:43                 NaT\n",
       "3     2000-09-19 15:06:58                 NaT\n",
       "4     2001-01-11 00:20:23                 NaT\n",
       "...                   ...                 ...\n",
       "61312 2021-01-21 22:45:04 2021-01-21 22:45:05\n",
       "61313 2021-01-22 00:26:53 2021-01-22 00:26:54\n",
       "61314 2021-01-22 19:02:00 2021-02-05 22:11:18\n",
       "61315 2021-01-22 23:27:13 2021-01-22 23:27:14\n",
       "61316 2021-01-23 00:24:39 2021-01-23 00:24:40\n",
       "\n",
       "[61317 rows x 2 columns]"
      ]
     },
     "execution_count": 1163,
     "metadata": {},
     "output_type": "execute_result"
    }
   ],
   "source": [
    "clustered_dates = pd.read_sql_query(sql_query,engine)\n",
    "clustered_dates"
   ]
  },
  {
   "cell_type": "code",
   "execution_count": 1226,
   "metadata": {},
   "outputs": [
    {
     "data": {
      "text/plain": [
       "1430"
      ]
     },
     "execution_count": 1226,
     "metadata": {},
     "output_type": "execute_result"
    }
   ],
   "source": [
    "clustered_dates[clustered_dates['lastvisitDate'].isna()].shape[0]"
   ]
  },
  {
   "cell_type": "code",
   "execution_count": 1227,
   "metadata": {},
   "outputs": [
    {
     "data": {
      "text/html": [
       "<div>\n",
       "<style scoped>\n",
       "    .dataframe tbody tr th:only-of-type {\n",
       "        vertical-align: middle;\n",
       "    }\n",
       "\n",
       "    .dataframe tbody tr th {\n",
       "        vertical-align: top;\n",
       "    }\n",
       "\n",
       "    .dataframe thead th {\n",
       "        text-align: right;\n",
       "    }\n",
       "</style>\n",
       "<table border=\"1\" class=\"dataframe\">\n",
       "  <thead>\n",
       "    <tr style=\"text-align: right;\">\n",
       "      <th></th>\n",
       "      <th>index</th>\n",
       "      <th>registerDate</th>\n",
       "      <th>lastvisitDate</th>\n",
       "      <th>duration</th>\n",
       "    </tr>\n",
       "  </thead>\n",
       "  <tbody>\n",
       "    <tr>\n",
       "      <th>0</th>\n",
       "      <td>19</td>\n",
       "      <td>2005-07-28 01:28:13</td>\n",
       "      <td>2015-02-18 17:03:45</td>\n",
       "      <td>3492 days 15:35:32</td>\n",
       "    </tr>\n",
       "    <tr>\n",
       "      <th>1</th>\n",
       "      <td>26</td>\n",
       "      <td>2006-04-24 15:38:15</td>\n",
       "      <td>2007-11-12 00:56:00</td>\n",
       "      <td>566 days 09:17:45</td>\n",
       "    </tr>\n",
       "  </tbody>\n",
       "</table>\n",
       "</div>"
      ],
      "text/plain": [
       "   index        registerDate       lastvisitDate           duration\n",
       "0     19 2005-07-28 01:28:13 2015-02-18 17:03:45 3492 days 15:35:32\n",
       "1     26 2006-04-24 15:38:15 2007-11-12 00:56:00  566 days 09:17:45"
      ]
     },
     "metadata": {},
     "output_type": "display_data"
    }
   ],
   "source": [
    "## determine time diffs\n",
    "clustered_dates2 = clustered_dates[~clustered_dates['lastvisitDate'].isna()].reset_index()\n",
    "clustered_dates2['registerDate'] = pd.to_datetime(clustered_dates2['registerDate'])\n",
    "clustered_dates2['lastvisitDate'] = pd.to_datetime(clustered_dates2['lastvisitDate'])\n",
    "clustered_dates2['duration'] = clustered_dates2['lastvisitDate'].to_numpy() - clustered_dates2['registerDate'].to_numpy()\n",
    "display(clustered_dates2.head(2))"
   ]
  },
  {
   "cell_type": "code",
   "execution_count": 1228,
   "metadata": {},
   "outputs": [
    {
     "name": "stderr",
     "output_type": "stream",
     "text": [
      "C:\\Users\\ch5b2\\anaconda3\\lib\\site-packages\\ipykernel_launcher.py:1: RuntimeWarning: divide by zero encountered in log10\n",
      "  \"\"\"Entry point for launching an IPython kernel.\n"
     ]
    },
    {
     "data": {
      "text/html": [
       "<div>\n",
       "<style scoped>\n",
       "    .dataframe tbody tr th:only-of-type {\n",
       "        vertical-align: middle;\n",
       "    }\n",
       "\n",
       "    .dataframe tbody tr th {\n",
       "        vertical-align: top;\n",
       "    }\n",
       "\n",
       "    .dataframe thead th {\n",
       "        text-align: right;\n",
       "    }\n",
       "</style>\n",
       "<table border=\"1\" class=\"dataframe\">\n",
       "  <thead>\n",
       "    <tr style=\"text-align: right;\">\n",
       "      <th></th>\n",
       "      <th>index</th>\n",
       "      <th>registerDate</th>\n",
       "      <th>lastvisitDate</th>\n",
       "      <th>duration</th>\n",
       "    </tr>\n",
       "  </thead>\n",
       "  <tbody>\n",
       "    <tr>\n",
       "      <th>0</th>\n",
       "      <td>19</td>\n",
       "      <td>2005-07-28 01:28:13</td>\n",
       "      <td>2015-02-18 17:03:45</td>\n",
       "      <td>3.54</td>\n",
       "    </tr>\n",
       "    <tr>\n",
       "      <th>1</th>\n",
       "      <td>26</td>\n",
       "      <td>2006-04-24 15:38:15</td>\n",
       "      <td>2007-11-12 00:56:00</td>\n",
       "      <td>2.75</td>\n",
       "    </tr>\n",
       "  </tbody>\n",
       "</table>\n",
       "</div>"
      ],
      "text/plain": [
       "   index        registerDate       lastvisitDate  duration\n",
       "0     19 2005-07-28 01:28:13 2015-02-18 17:03:45      3.54\n",
       "1     26 2006-04-24 15:38:15 2007-11-12 00:56:00      2.75"
      ]
     },
     "metadata": {},
     "output_type": "display_data"
    },
    {
     "data": {
      "text/html": [
       "<div>\n",
       "<style scoped>\n",
       "    .dataframe tbody tr th:only-of-type {\n",
       "        vertical-align: middle;\n",
       "    }\n",
       "\n",
       "    .dataframe tbody tr th {\n",
       "        vertical-align: top;\n",
       "    }\n",
       "\n",
       "    .dataframe thead th {\n",
       "        text-align: right;\n",
       "    }\n",
       "</style>\n",
       "<table border=\"1\" class=\"dataframe\">\n",
       "  <thead>\n",
       "    <tr style=\"text-align: right;\">\n",
       "      <th></th>\n",
       "      <th>index</th>\n",
       "      <th>registerDate</th>\n",
       "      <th>lastvisitDate</th>\n",
       "      <th>duration</th>\n",
       "    </tr>\n",
       "  </thead>\n",
       "  <tbody>\n",
       "    <tr>\n",
       "      <th>59885</th>\n",
       "      <td>61315</td>\n",
       "      <td>2021-01-22 23:27:13</td>\n",
       "      <td>2021-01-22 23:27:14</td>\n",
       "      <td>-inf</td>\n",
       "    </tr>\n",
       "    <tr>\n",
       "      <th>59886</th>\n",
       "      <td>61316</td>\n",
       "      <td>2021-01-23 00:24:39</td>\n",
       "      <td>2021-01-23 00:24:40</td>\n",
       "      <td>-inf</td>\n",
       "    </tr>\n",
       "  </tbody>\n",
       "</table>\n",
       "</div>"
      ],
      "text/plain": [
       "       index        registerDate       lastvisitDate  duration\n",
       "59885  61315 2021-01-22 23:27:13 2021-01-22 23:27:14      -inf\n",
       "59886  61316 2021-01-23 00:24:39 2021-01-23 00:24:40      -inf"
      ]
     },
     "metadata": {},
     "output_type": "display_data"
    }
   ],
   "source": [
    "clustered_dates2['duration'] = [np.round(np.log10(i.days),2) for i in clustered_dates2['duration'].to_list()]\n",
    "display(clustered_dates2.head(2))\n",
    "display(clustered_dates2.tail(2))"
   ]
  },
  {
   "cell_type": "code",
   "execution_count": 1258,
   "metadata": {},
   "outputs": [],
   "source": [
    "# 50 bins - log days\n",
    "max_log_interval = 4 #base 10\n",
    "bins = 50\n",
    "# 1 day, 2 day, 3 day, 4, 5, 6, 1 week, 2 week, 1 month, 2 month, 1 year, \n",
    "bin_vals = [np.round(4/50*(i+1),2) for i in range(bins)] #these are the ending bin vals\n",
    "bin_vals2 = [np.round(4/50*(i+1),2) for i in range(bins)] #these are the ending bin vals"
   ]
  },
  {
   "cell_type": "code",
   "execution_count": 1259,
   "metadata": {},
   "outputs": [],
   "source": [
    "clustered_user_vals = []\n",
    "for i,j in enumerate(bin_vals):\n",
    "    if i == 0:\n",
    "#         clustered_user_vals.append(clustered_dates[clustered_dates['lastvisitDate'].isna()].shape[0]\\\n",
    "#                                   +len(np.where(clustered_dates2['duration'] == 1)[0]))\n",
    "        h_thresh = j\n",
    "        l_thresh = 0\n",
    "        clustered_user_vals.append(len(np.where((clustered_dates2['duration'] < h_thresh))[0]))\n",
    "    else:\n",
    "        h_thresh = j\n",
    "        l_thresh = bin_vals[i-1]\n",
    "        clustered_user_vals.append(len(np.where((clustered_dates2['duration'] > l_thresh) \\\n",
    "                                    & (clustered_dates2['duration'] < h_thresh))[0]))        \n",
    "\n",
    "        "
   ]
  },
  {
   "cell_type": "code",
   "execution_count": 1268,
   "metadata": {},
   "outputs": [
    {
     "data": {
      "text/plain": [
       "14708"
      ]
     },
     "execution_count": 1268,
     "metadata": {},
     "output_type": "execute_result"
    }
   ],
   "source": [
    "clustered_user_vals[0]"
   ]
  },
  {
   "cell_type": "code",
   "execution_count": 1281,
   "metadata": {},
   "outputs": [],
   "source": [
    "clustered_user_vals2 = []\n",
    "for i in clustered_user_vals:\n",
    "    if i != 0:\n",
    "        clustered_user_vals2.append(np.log10(i))\n",
    "    else:\n",
    "        clustered_user_vals2.append(0)"
   ]
  },
  {
   "cell_type": "code",
   "execution_count": 1285,
   "metadata": {},
   "outputs": [
    {
     "data": {
      "text/plain": [
       "Text(0, 0.5, '# of Users (log)')"
      ]
     },
     "execution_count": 1285,
     "metadata": {},
     "output_type": "execute_result"
    },
    {
     "data": {
      "image/png": "[encoded data removed]",
      "text/plain": [
       "<Figure size 432x288 with 1 Axes>"
      ]
     },
     "metadata": {},
     "output_type": "display_data"
    }
   ],
   "source": [
    "plt.figure()\n",
    "plt.hist(bin_vals2,bins=bin_vals2,weights=clustered_user_vals,align='left',color='green')\n",
    "plt.xlabel('User Lifetime (log days)')\n",
    "plt.xticks(np.arange(0,4.5,0.5))\n",
    "plt.ylim([0,2500])\n",
    "plt.ylabel('# of Users (log)')\n",
    "\n",
    "\n",
    "plt.savefig('classroom_users_hist.eps',bbox_inches='tight')\n",
    "\n",
    "# new name - simuser_lifetime_class"
   ]
  },
  {
   "cell_type": "code",
   "execution_count": 1271,
   "metadata": {},
   "outputs": [],
   "source": [
    "sql_query = \"select registerDate, lastvisitDate from jos_users where username in \" + str(tuple(self_NH_username2['username']))\n",
    "engine = sql.create_engine('mysql+pymysql://%s:%s@127.0.0.1/nanohub' \\\n",
    "                                               %('wang2506_ro', 'fnVnwcCS7iT45EsA'))"
   ]
  },
  {
   "cell_type": "code",
   "execution_count": 1272,
   "metadata": {},
   "outputs": [
    {
     "data": {
      "text/html": [
       "<div>\n",
       "<style scoped>\n",
       "    .dataframe tbody tr th:only-of-type {\n",
       "        vertical-align: middle;\n",
       "    }\n",
       "\n",
       "    .dataframe tbody tr th {\n",
       "        vertical-align: top;\n",
       "    }\n",
       "\n",
       "    .dataframe thead th {\n",
       "        text-align: right;\n",
       "    }\n",
       "</style>\n",
       "<table border=\"1\" class=\"dataframe\">\n",
       "  <thead>\n",
       "    <tr style=\"text-align: right;\">\n",
       "      <th></th>\n",
       "      <th>registerDate</th>\n",
       "      <th>lastvisitDate</th>\n",
       "    </tr>\n",
       "  </thead>\n",
       "  <tbody>\n",
       "    <tr>\n",
       "      <th>0</th>\n",
       "      <td>2014-11-13 21:09:09</td>\n",
       "      <td>NaT</td>\n",
       "    </tr>\n",
       "    <tr>\n",
       "      <th>1</th>\n",
       "      <td>2008-11-19 22:51:04</td>\n",
       "      <td>2008-11-19 23:55:30</td>\n",
       "    </tr>\n",
       "    <tr>\n",
       "      <th>2</th>\n",
       "      <td>2008-11-18 17:29:56</td>\n",
       "      <td>2020-02-14 18:50:14</td>\n",
       "    </tr>\n",
       "    <tr>\n",
       "      <th>3</th>\n",
       "      <td>2008-11-11 19:17:04</td>\n",
       "      <td>NaT</td>\n",
       "    </tr>\n",
       "    <tr>\n",
       "      <th>4</th>\n",
       "      <td>2014-06-26 19:38:57</td>\n",
       "      <td>NaT</td>\n",
       "    </tr>\n",
       "    <tr>\n",
       "      <th>...</th>\n",
       "      <td>...</td>\n",
       "      <td>...</td>\n",
       "    </tr>\n",
       "    <tr>\n",
       "      <th>174709</th>\n",
       "      <td>2021-02-02 05:30:45</td>\n",
       "      <td>2021-02-02 05:30:45</td>\n",
       "    </tr>\n",
       "    <tr>\n",
       "      <th>174710</th>\n",
       "      <td>2021-02-02 05:33:19</td>\n",
       "      <td>2021-02-02 05:33:20</td>\n",
       "    </tr>\n",
       "    <tr>\n",
       "      <th>174711</th>\n",
       "      <td>2021-02-02 05:42:48</td>\n",
       "      <td>2021-02-02 05:42:49</td>\n",
       "    </tr>\n",
       "    <tr>\n",
       "      <th>174712</th>\n",
       "      <td>2021-02-02 06:26:49</td>\n",
       "      <td>2021-02-02 06:26:49</td>\n",
       "    </tr>\n",
       "    <tr>\n",
       "      <th>174713</th>\n",
       "      <td>2021-02-02 06:28:45</td>\n",
       "      <td>2021-02-02 06:28:45</td>\n",
       "    </tr>\n",
       "  </tbody>\n",
       "</table>\n",
       "<p>174714 rows × 2 columns</p>\n",
       "</div>"
      ],
      "text/plain": [
       "              registerDate       lastvisitDate\n",
       "0      2014-11-13 21:09:09                 NaT\n",
       "1      2008-11-19 22:51:04 2008-11-19 23:55:30\n",
       "2      2008-11-18 17:29:56 2020-02-14 18:50:14\n",
       "3      2008-11-11 19:17:04                 NaT\n",
       "4      2014-06-26 19:38:57                 NaT\n",
       "...                    ...                 ...\n",
       "174709 2021-02-02 05:30:45 2021-02-02 05:30:45\n",
       "174710 2021-02-02 05:33:19 2021-02-02 05:33:20\n",
       "174711 2021-02-02 05:42:48 2021-02-02 05:42:49\n",
       "174712 2021-02-02 06:26:49 2021-02-02 06:26:49\n",
       "174713 2021-02-02 06:28:45 2021-02-02 06:28:45\n",
       "\n",
       "[174714 rows x 2 columns]"
      ]
     },
     "execution_count": 1272,
     "metadata": {},
     "output_type": "execute_result"
    }
   ],
   "source": [
    "self_study_dates = pd.read_sql_query(sql_query,engine)\n",
    "self_study_dates"
   ]
  },
  {
   "cell_type": "code",
   "execution_count": 1273,
   "metadata": {},
   "outputs": [
    {
     "data": {
      "text/html": [
       "<div>\n",
       "<style scoped>\n",
       "    .dataframe tbody tr th:only-of-type {\n",
       "        vertical-align: middle;\n",
       "    }\n",
       "\n",
       "    .dataframe tbody tr th {\n",
       "        vertical-align: top;\n",
       "    }\n",
       "\n",
       "    .dataframe thead th {\n",
       "        text-align: right;\n",
       "    }\n",
       "</style>\n",
       "<table border=\"1\" class=\"dataframe\">\n",
       "  <thead>\n",
       "    <tr style=\"text-align: right;\">\n",
       "      <th></th>\n",
       "      <th>index</th>\n",
       "      <th>registerDate</th>\n",
       "      <th>lastvisitDate</th>\n",
       "      <th>duration</th>\n",
       "    </tr>\n",
       "  </thead>\n",
       "  <tbody>\n",
       "    <tr>\n",
       "      <th>0</th>\n",
       "      <td>1</td>\n",
       "      <td>2008-11-19 22:51:04</td>\n",
       "      <td>2008-11-19 23:55:30</td>\n",
       "      <td>0 days 01:04:26</td>\n",
       "    </tr>\n",
       "    <tr>\n",
       "      <th>1</th>\n",
       "      <td>2</td>\n",
       "      <td>2008-11-18 17:29:56</td>\n",
       "      <td>2020-02-14 18:50:14</td>\n",
       "      <td>4105 days 01:20:18</td>\n",
       "    </tr>\n",
       "  </tbody>\n",
       "</table>\n",
       "</div>"
      ],
      "text/plain": [
       "   index        registerDate       lastvisitDate           duration\n",
       "0      1 2008-11-19 22:51:04 2008-11-19 23:55:30    0 days 01:04:26\n",
       "1      2 2008-11-18 17:29:56 2020-02-14 18:50:14 4105 days 01:20:18"
      ]
     },
     "metadata": {},
     "output_type": "display_data"
    }
   ],
   "source": [
    "## determine time diffs\n",
    "self_study_dates2 = self_study_dates[~self_study_dates['lastvisitDate'].isna()].reset_index()\n",
    "self_study_dates2['registerDate'] = pd.to_datetime(self_study_dates2['registerDate'])\n",
    "self_study_dates2['lastvisitDate'] = pd.to_datetime(self_study_dates2['lastvisitDate'])\n",
    "self_study_dates2['duration'] = self_study_dates2['lastvisitDate'].to_numpy() - self_study_dates2['registerDate'].to_numpy()\n",
    "display(self_study_dates2.head(2))"
   ]
  },
  {
   "cell_type": "code",
   "execution_count": 1275,
   "metadata": {},
   "outputs": [
    {
     "name": "stderr",
     "output_type": "stream",
     "text": [
      "C:\\Users\\ch5b2\\anaconda3\\lib\\site-packages\\ipykernel_launcher.py:1: RuntimeWarning: divide by zero encountered in log10\n",
      "  \"\"\"Entry point for launching an IPython kernel.\n",
      "C:\\Users\\ch5b2\\anaconda3\\lib\\site-packages\\ipykernel_launcher.py:1: RuntimeWarning: invalid value encountered in log10\n",
      "  \"\"\"Entry point for launching an IPython kernel.\n"
     ]
    },
    {
     "data": {
      "text/html": [
       "<div>\n",
       "<style scoped>\n",
       "    .dataframe tbody tr th:only-of-type {\n",
       "        vertical-align: middle;\n",
       "    }\n",
       "\n",
       "    .dataframe tbody tr th {\n",
       "        vertical-align: top;\n",
       "    }\n",
       "\n",
       "    .dataframe thead th {\n",
       "        text-align: right;\n",
       "    }\n",
       "</style>\n",
       "<table border=\"1\" class=\"dataframe\">\n",
       "  <thead>\n",
       "    <tr style=\"text-align: right;\">\n",
       "      <th></th>\n",
       "      <th>index</th>\n",
       "      <th>registerDate</th>\n",
       "      <th>lastvisitDate</th>\n",
       "      <th>duration</th>\n",
       "    </tr>\n",
       "  </thead>\n",
       "  <tbody>\n",
       "    <tr>\n",
       "      <th>0</th>\n",
       "      <td>1</td>\n",
       "      <td>2008-11-19 22:51:04</td>\n",
       "      <td>2008-11-19 23:55:30</td>\n",
       "      <td>-inf</td>\n",
       "    </tr>\n",
       "    <tr>\n",
       "      <th>1</th>\n",
       "      <td>2</td>\n",
       "      <td>2008-11-18 17:29:56</td>\n",
       "      <td>2020-02-14 18:50:14</td>\n",
       "      <td>3.61</td>\n",
       "    </tr>\n",
       "  </tbody>\n",
       "</table>\n",
       "</div>"
      ],
      "text/plain": [
       "   index        registerDate       lastvisitDate  duration\n",
       "0      1 2008-11-19 22:51:04 2008-11-19 23:55:30      -inf\n",
       "1      2 2008-11-18 17:29:56 2020-02-14 18:50:14      3.61"
      ]
     },
     "metadata": {},
     "output_type": "display_data"
    },
    {
     "data": {
      "text/html": [
       "<div>\n",
       "<style scoped>\n",
       "    .dataframe tbody tr th:only-of-type {\n",
       "        vertical-align: middle;\n",
       "    }\n",
       "\n",
       "    .dataframe tbody tr th {\n",
       "        vertical-align: top;\n",
       "    }\n",
       "\n",
       "    .dataframe thead th {\n",
       "        text-align: right;\n",
       "    }\n",
       "</style>\n",
       "<table border=\"1\" class=\"dataframe\">\n",
       "  <thead>\n",
       "    <tr style=\"text-align: right;\">\n",
       "      <th></th>\n",
       "      <th>index</th>\n",
       "      <th>registerDate</th>\n",
       "      <th>lastvisitDate</th>\n",
       "      <th>duration</th>\n",
       "    </tr>\n",
       "  </thead>\n",
       "  <tbody>\n",
       "    <tr>\n",
       "      <th>162289</th>\n",
       "      <td>174712</td>\n",
       "      <td>2021-02-02 06:26:49</td>\n",
       "      <td>2021-02-02 06:26:49</td>\n",
       "      <td>-inf</td>\n",
       "    </tr>\n",
       "    <tr>\n",
       "      <th>162290</th>\n",
       "      <td>174713</td>\n",
       "      <td>2021-02-02 06:28:45</td>\n",
       "      <td>2021-02-02 06:28:45</td>\n",
       "      <td>-inf</td>\n",
       "    </tr>\n",
       "  </tbody>\n",
       "</table>\n",
       "</div>"
      ],
      "text/plain": [
       "         index        registerDate       lastvisitDate  duration\n",
       "162289  174712 2021-02-02 06:26:49 2021-02-02 06:26:49      -inf\n",
       "162290  174713 2021-02-02 06:28:45 2021-02-02 06:28:45      -inf"
      ]
     },
     "metadata": {},
     "output_type": "display_data"
    }
   ],
   "source": [
    "self_study_dates2['duration'] = [np.round(np.log10(i.days),2) for i in self_study_dates2['duration'].to_list()]\n",
    "display(self_study_dates2.head(2))\n",
    "display(self_study_dates2.tail(2))"
   ]
  },
  {
   "cell_type": "code",
   "execution_count": 1276,
   "metadata": {},
   "outputs": [],
   "source": [
    "self_user_vals = []\n",
    "for i,j in enumerate(bin_vals):\n",
    "    if i == 0:\n",
    "#         clustered_user_vals.append(clustered_dates[clustered_dates['lastvisitDate'].isna()].shape[0]\\\n",
    "#                                   +len(np.where(clustered_dates2['duration'] == 1)[0]))\n",
    "        h_thresh = j\n",
    "        l_thresh = 0\n",
    "        self_user_vals.append(len(np.where((self_study_dates2['duration'] < h_thresh))[0]))\n",
    "    else:\n",
    "        h_thresh = j\n",
    "        l_thresh = bin_vals[i-1]\n",
    "        self_user_vals.append(len(np.where((self_study_dates2['duration'] > l_thresh) \\\n",
    "                                    & (self_study_dates2['duration'] < h_thresh))[0]))        \n",
    "\n",
    "        "
   ]
  },
  {
   "cell_type": "code",
   "execution_count": 1278,
   "metadata": {},
   "outputs": [
    {
     "data": {
      "text/plain": [
       "[99609, 0, 0, 2241, 0]"
      ]
     },
     "execution_count": 1278,
     "metadata": {},
     "output_type": "execute_result"
    }
   ],
   "source": [
    "self_user_vals[:5]"
   ]
  },
  {
   "cell_type": "code",
   "execution_count": 1293,
   "metadata": {},
   "outputs": [
    {
     "data": {
      "image/png": "[encoded data removed]",
      "text/plain": [
       "<Figure size 432x288 with 1 Axes>"
      ]
     },
     "metadata": {},
     "output_type": "display_data"
    }
   ],
   "source": [
    "plt.figure()\n",
    "plt.hist(bin_vals2,bins=bin_vals2,weights=self_user_vals,align='left',color='orange')\n",
    "plt.xlabel('User Lifetime (log days)')\n",
    "plt.xticks(np.arange(0,4.5,0.5))\n",
    "plt.ylim([0,2500])\n",
    "plt.ylabel('# of Users')\n",
    "\n",
    "\n",
    "plt.savefig('self_users_hist.eps',bbox_inches='tight')\n",
    "\n",
    "# new name - drop class for _unclass"
   ]
  },
  {
   "cell_type": "code",
   "execution_count": 1287,
   "metadata": {},
   "outputs": [],
   "source": [
    "sql_query = \"select registerDate, lastvisitDate from jos_users where username in \" + str(tuple(researcher_usernames))\n",
    "engine = sql.create_engine('mysql+pymysql://%s:%s@127.0.0.1/nanohub' \\\n",
    "                                               %('wang2506_ro', 'fnVnwcCS7iT45EsA'))"
   ]
  },
  {
   "cell_type": "code",
   "execution_count": 1288,
   "metadata": {},
   "outputs": [
    {
     "data": {
      "text/html": [
       "<div>\n",
       "<style scoped>\n",
       "    .dataframe tbody tr th:only-of-type {\n",
       "        vertical-align: middle;\n",
       "    }\n",
       "\n",
       "    .dataframe tbody tr th {\n",
       "        vertical-align: top;\n",
       "    }\n",
       "\n",
       "    .dataframe thead th {\n",
       "        text-align: right;\n",
       "    }\n",
       "</style>\n",
       "<table border=\"1\" class=\"dataframe\">\n",
       "  <thead>\n",
       "    <tr style=\"text-align: right;\">\n",
       "      <th></th>\n",
       "      <th>registerDate</th>\n",
       "      <th>lastvisitDate</th>\n",
       "    </tr>\n",
       "  </thead>\n",
       "  <tbody>\n",
       "    <tr>\n",
       "      <th>0</th>\n",
       "      <td>2018-10-15 20:17:27</td>\n",
       "      <td>2018-10-15 20:17:28</td>\n",
       "    </tr>\n",
       "    <tr>\n",
       "      <th>1</th>\n",
       "      <td>2018-11-28 05:10:25</td>\n",
       "      <td>2018-11-28 05:10:26</td>\n",
       "    </tr>\n",
       "    <tr>\n",
       "      <th>2</th>\n",
       "      <td>2019-05-01 18:10:10</td>\n",
       "      <td>2019-05-02 07:11:32</td>\n",
       "    </tr>\n",
       "    <tr>\n",
       "      <th>3</th>\n",
       "      <td>2019-07-22 09:05:54</td>\n",
       "      <td>2019-07-22 09:05:55</td>\n",
       "    </tr>\n",
       "    <tr>\n",
       "      <th>4</th>\n",
       "      <td>2019-10-24 07:33:20</td>\n",
       "      <td>2019-10-24 07:33:20</td>\n",
       "    </tr>\n",
       "    <tr>\n",
       "      <th>...</th>\n",
       "      <td>...</td>\n",
       "      <td>...</td>\n",
       "    </tr>\n",
       "    <tr>\n",
       "      <th>2670</th>\n",
       "      <td>2012-11-10 13:15:17</td>\n",
       "      <td>2018-09-17 19:09:23</td>\n",
       "    </tr>\n",
       "    <tr>\n",
       "      <th>2671</th>\n",
       "      <td>2008-06-23 20:31:47</td>\n",
       "      <td>2017-04-07 20:00:13</td>\n",
       "    </tr>\n",
       "    <tr>\n",
       "      <th>2672</th>\n",
       "      <td>2019-10-22 04:14:44</td>\n",
       "      <td>2019-10-22 04:14:45</td>\n",
       "    </tr>\n",
       "    <tr>\n",
       "      <th>2673</th>\n",
       "      <td>2020-02-03 20:14:28</td>\n",
       "      <td>2020-05-07 00:24:57</td>\n",
       "    </tr>\n",
       "    <tr>\n",
       "      <th>2674</th>\n",
       "      <td>2005-09-07 13:19:25</td>\n",
       "      <td>2010-03-19 23:00:05</td>\n",
       "    </tr>\n",
       "  </tbody>\n",
       "</table>\n",
       "<p>2675 rows × 2 columns</p>\n",
       "</div>"
      ],
      "text/plain": [
       "            registerDate       lastvisitDate\n",
       "0    2018-10-15 20:17:27 2018-10-15 20:17:28\n",
       "1    2018-11-28 05:10:25 2018-11-28 05:10:26\n",
       "2    2019-05-01 18:10:10 2019-05-02 07:11:32\n",
       "3    2019-07-22 09:05:54 2019-07-22 09:05:55\n",
       "4    2019-10-24 07:33:20 2019-10-24 07:33:20\n",
       "...                  ...                 ...\n",
       "2670 2012-11-10 13:15:17 2018-09-17 19:09:23\n",
       "2671 2008-06-23 20:31:47 2017-04-07 20:00:13\n",
       "2672 2019-10-22 04:14:44 2019-10-22 04:14:45\n",
       "2673 2020-02-03 20:14:28 2020-05-07 00:24:57\n",
       "2674 2005-09-07 13:19:25 2010-03-19 23:00:05\n",
       "\n",
       "[2675 rows x 2 columns]"
      ]
     },
     "execution_count": 1288,
     "metadata": {},
     "output_type": "execute_result"
    }
   ],
   "source": [
    "researcher_dates = pd.read_sql_query(sql_query,engine)\n",
    "researcher_dates"
   ]
  },
  {
   "cell_type": "code",
   "execution_count": 1289,
   "metadata": {},
   "outputs": [
    {
     "data": {
      "text/html": [
       "<div>\n",
       "<style scoped>\n",
       "    .dataframe tbody tr th:only-of-type {\n",
       "        vertical-align: middle;\n",
       "    }\n",
       "\n",
       "    .dataframe tbody tr th {\n",
       "        vertical-align: top;\n",
       "    }\n",
       "\n",
       "    .dataframe thead th {\n",
       "        text-align: right;\n",
       "    }\n",
       "</style>\n",
       "<table border=\"1\" class=\"dataframe\">\n",
       "  <thead>\n",
       "    <tr style=\"text-align: right;\">\n",
       "      <th></th>\n",
       "      <th>index</th>\n",
       "      <th>registerDate</th>\n",
       "      <th>lastvisitDate</th>\n",
       "      <th>duration</th>\n",
       "    </tr>\n",
       "  </thead>\n",
       "  <tbody>\n",
       "    <tr>\n",
       "      <th>0</th>\n",
       "      <td>0</td>\n",
       "      <td>2018-10-15 20:17:27</td>\n",
       "      <td>2018-10-15 20:17:28</td>\n",
       "      <td>00:00:01</td>\n",
       "    </tr>\n",
       "    <tr>\n",
       "      <th>1</th>\n",
       "      <td>1</td>\n",
       "      <td>2018-11-28 05:10:25</td>\n",
       "      <td>2018-11-28 05:10:26</td>\n",
       "      <td>00:00:01</td>\n",
       "    </tr>\n",
       "  </tbody>\n",
       "</table>\n",
       "</div>"
      ],
      "text/plain": [
       "   index        registerDate       lastvisitDate duration\n",
       "0      0 2018-10-15 20:17:27 2018-10-15 20:17:28 00:00:01\n",
       "1      1 2018-11-28 05:10:25 2018-11-28 05:10:26 00:00:01"
      ]
     },
     "metadata": {},
     "output_type": "display_data"
    }
   ],
   "source": [
    "## determine time diffs\n",
    "researcher_dates2 = researcher_dates[~researcher_dates['lastvisitDate'].isna()].reset_index()\n",
    "researcher_dates2['registerDate'] = pd.to_datetime(researcher_dates2['registerDate'])\n",
    "researcher_dates2['lastvisitDate'] = pd.to_datetime(researcher_dates2['lastvisitDate'])\n",
    "researcher_dates2['duration'] = researcher_dates2['lastvisitDate'].to_numpy() - researcher_dates2['registerDate'].to_numpy()\n",
    "display(researcher_dates2.head(2))"
   ]
  },
  {
   "cell_type": "code",
   "execution_count": 1290,
   "metadata": {},
   "outputs": [
    {
     "name": "stderr",
     "output_type": "stream",
     "text": [
      "C:\\Users\\ch5b2\\anaconda3\\lib\\site-packages\\ipykernel_launcher.py:1: RuntimeWarning: divide by zero encountered in log10\n",
      "  \"\"\"Entry point for launching an IPython kernel.\n"
     ]
    },
    {
     "data": {
      "text/html": [
       "<div>\n",
       "<style scoped>\n",
       "    .dataframe tbody tr th:only-of-type {\n",
       "        vertical-align: middle;\n",
       "    }\n",
       "\n",
       "    .dataframe tbody tr th {\n",
       "        vertical-align: top;\n",
       "    }\n",
       "\n",
       "    .dataframe thead th {\n",
       "        text-align: right;\n",
       "    }\n",
       "</style>\n",
       "<table border=\"1\" class=\"dataframe\">\n",
       "  <thead>\n",
       "    <tr style=\"text-align: right;\">\n",
       "      <th></th>\n",
       "      <th>index</th>\n",
       "      <th>registerDate</th>\n",
       "      <th>lastvisitDate</th>\n",
       "      <th>duration</th>\n",
       "    </tr>\n",
       "  </thead>\n",
       "  <tbody>\n",
       "    <tr>\n",
       "      <th>0</th>\n",
       "      <td>0</td>\n",
       "      <td>2018-10-15 20:17:27</td>\n",
       "      <td>2018-10-15 20:17:28</td>\n",
       "      <td>-inf</td>\n",
       "    </tr>\n",
       "    <tr>\n",
       "      <th>1</th>\n",
       "      <td>1</td>\n",
       "      <td>2018-11-28 05:10:25</td>\n",
       "      <td>2018-11-28 05:10:26</td>\n",
       "      <td>-inf</td>\n",
       "    </tr>\n",
       "  </tbody>\n",
       "</table>\n",
       "</div>"
      ],
      "text/plain": [
       "   index        registerDate       lastvisitDate  duration\n",
       "0      0 2018-10-15 20:17:27 2018-10-15 20:17:28      -inf\n",
       "1      1 2018-11-28 05:10:25 2018-11-28 05:10:26      -inf"
      ]
     },
     "metadata": {},
     "output_type": "display_data"
    },
    {
     "data": {
      "text/html": [
       "<div>\n",
       "<style scoped>\n",
       "    .dataframe tbody tr th:only-of-type {\n",
       "        vertical-align: middle;\n",
       "    }\n",
       "\n",
       "    .dataframe tbody tr th {\n",
       "        vertical-align: top;\n",
       "    }\n",
       "\n",
       "    .dataframe thead th {\n",
       "        text-align: right;\n",
       "    }\n",
       "</style>\n",
       "<table border=\"1\" class=\"dataframe\">\n",
       "  <thead>\n",
       "    <tr style=\"text-align: right;\">\n",
       "      <th></th>\n",
       "      <th>index</th>\n",
       "      <th>registerDate</th>\n",
       "      <th>lastvisitDate</th>\n",
       "      <th>duration</th>\n",
       "    </tr>\n",
       "  </thead>\n",
       "  <tbody>\n",
       "    <tr>\n",
       "      <th>2550</th>\n",
       "      <td>2673</td>\n",
       "      <td>2020-02-03 20:14:28</td>\n",
       "      <td>2020-05-07 00:24:57</td>\n",
       "      <td>1.97</td>\n",
       "    </tr>\n",
       "    <tr>\n",
       "      <th>2551</th>\n",
       "      <td>2674</td>\n",
       "      <td>2005-09-07 13:19:25</td>\n",
       "      <td>2010-03-19 23:00:05</td>\n",
       "      <td>3.22</td>\n",
       "    </tr>\n",
       "  </tbody>\n",
       "</table>\n",
       "</div>"
      ],
      "text/plain": [
       "      index        registerDate       lastvisitDate  duration\n",
       "2550   2673 2020-02-03 20:14:28 2020-05-07 00:24:57      1.97\n",
       "2551   2674 2005-09-07 13:19:25 2010-03-19 23:00:05      3.22"
      ]
     },
     "metadata": {},
     "output_type": "display_data"
    }
   ],
   "source": [
    "researcher_dates2['duration'] = [np.round(np.log10(i.days),2) for i in researcher_dates2['duration'].to_list()]\n",
    "display(researcher_dates2.head(2))\n",
    "display(researcher_dates2.tail(2))"
   ]
  },
  {
   "cell_type": "code",
   "execution_count": 1291,
   "metadata": {},
   "outputs": [],
   "source": [
    "researcher_vals = []\n",
    "for i,j in enumerate(bin_vals):\n",
    "    if i == 0:\n",
    "#         clustered_user_vals.append(clustered_dates[clustered_dates['lastvisitDate'].isna()].shape[0]\\\n",
    "#                                   +len(np.where(clustered_dates2['duration'] == 1)[0]))\n",
    "        h_thresh = j\n",
    "        l_thresh = 0\n",
    "        researcher_vals.append(len(np.where((researcher_dates2['duration'] < h_thresh))[0]))\n",
    "    else:\n",
    "        h_thresh = j\n",
    "        l_thresh = bin_vals[i-1]\n",
    "        researcher_vals.append(len(np.where((researcher_dates2['duration'] > l_thresh) \\\n",
    "                                    & (researcher_dates2['duration'] < h_thresh))[0]))        \n",
    "\n",
    "        "
   ]
  },
  {
   "cell_type": "code",
   "execution_count": 1302,
   "metadata": {},
   "outputs": [
    {
     "data": {
      "text/plain": [
       "[653, 0]"
      ]
     },
     "execution_count": 1302,
     "metadata": {},
     "output_type": "execute_result"
    }
   ],
   "source": [
    "researcher_vals[:2]"
   ]
  },
  {
   "cell_type": "code",
   "execution_count": 1300,
   "metadata": {},
   "outputs": [
    {
     "data": {
      "image/png": "[encoded data removed]",
      "text/plain": [
       "<Figure size 432x288 with 1 Axes>"
      ]
     },
     "metadata": {},
     "output_type": "display_data"
    }
   ],
   "source": [
    "plt.figure()\n",
    "plt.hist(bin_vals2,bins=bin_vals2,weights=researcher_vals,align='left',color='red')\n",
    "plt.xlabel('User Lifetime (log days)')\n",
    "plt.xticks(np.arange(0,4.5,0.5))\n",
    "plt.ylim([0,200])\n",
    "plt.ylabel('# of Users')\n",
    "\n",
    "\n",
    "plt.savefig('research_users_hist.eps',bbox_inches='tight')\n",
    "\n",
    "# new name - _research\n",
    "import os\n",
    "cwd = os.getcwd()\n",
    "prodpath - cwd+'/plots_html/plotname'\n",
    "debugpath - cwd+'/plots_debug/plotname' #add a .gitignore here\n",
    "# should dump out the data as well\n",
    "cwd + /plots_html/plotname.csv"
   ]
  },
  {
   "cell_type": "code",
   "execution_count": null,
   "metadata": {},
   "outputs": [],
   "source": []
  },
  {
   "cell_type": "code",
   "execution_count": 1305,
   "metadata": {},
   "outputs": [],
   "source": [
    "clustered_NH_username2['username'].to_csv(\"clustered_users.csv\")"
   ]
  },
  {
   "cell_type": "code",
   "execution_count": 1306,
   "metadata": {},
   "outputs": [],
   "source": [
    "self_NH_username2['username'].to_csv('self_study_users.csv')"
   ]
  },
  {
   "cell_type": "code",
   "execution_count": 1310,
   "metadata": {},
   "outputs": [],
   "source": [
    "tt_temp = pd.DataFrame()\n",
    "tt_temp['usernames'] = researcher_usernames\n",
    "tt_temp.to_csv('researchers.csv')"
   ]
  },
  {
   "cell_type": "code",
   "execution_count": 1309,
   "metadata": {},
   "outputs": [],
   "source": []
  },
  {
   "cell_type": "code",
   "execution_count": null,
   "metadata": {},
   "outputs": [],
   "source": []
  },
  {
   "cell_type": "code",
   "execution_count": null,
   "metadata": {},
   "outputs": [],
   "source": []
  },
  {
   "cell_type": "code",
   "execution_count": null,
   "metadata": {},
   "outputs": [],
   "source": []
  },
  {
   "cell_type": "code",
   "execution_count": null,
   "metadata": {},
   "outputs": [],
   "source": []
  },
  {
   "cell_type": "code",
   "execution_count": null,
   "metadata": {},
   "outputs": [],
   "source": []
  },
  {
   "cell_type": "code",
   "execution_count": null,
   "metadata": {},
   "outputs": [],
   "source": []
  },
  {
   "cell_type": "code",
   "execution_count": null,
   "metadata": {},
   "outputs": [],
   "source": []
  },
  {
   "cell_type": "code",
   "execution_count": null,
   "metadata": {},
   "outputs": [],
   "source": []
  }
 ],
 "metadata": {
  "kernelspec": {
   "display_name": "Python 3",
   "language": "python",
   "name": "python3"
  },
  "language_info": {
   "codemirror_mode": {
    "name": "ipython",
    "version": 3
   },
   "file_extension": ".py",
   "mimetype": "text/x-python",
   "name": "python",
   "nbconvert_exporter": "python",
   "pygments_lexer": "ipython3",
   "version": "3.7.10"
  }
 },
 "nbformat": 4,
 "nbformat_minor": 4
}
