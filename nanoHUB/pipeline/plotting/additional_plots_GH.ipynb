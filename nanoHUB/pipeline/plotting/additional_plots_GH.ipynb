{
 "cells": [
  {
   "cell_type": "code",
   "execution_count": 63,
   "metadata": {},
   "outputs": [],
   "source": [
    "## additional plots for gerhard\n",
    "import numpy as np\n",
    "import matplotlib.pyplot as plt\n",
    "import os"
   ]
  },
  {
   "cell_type": "code",
   "execution_count": 9,
   "metadata": {},
   "outputs": [],
   "source": [
    "# API settings\n",
    "api_url = '/services/data/v43.0/sobjects'\n",
    "external_id = 'Name'\n",
    "object_id = 'ContactToolAssociation__c'\n",
    "\n",
    "# login parameters to be handled by Papermill\n",
    "sql_login_params = {\"username\": \"wang2506_ro\", \"password\": \"fnVnwcCS7iT45EsA\"}\n",
    "sf_login_params = {\n",
    "    \"grant_type\": \"password\",\n",
    "    \"client_id\": \"3MVG95jctIhbyCppj0SNJ75IsZ1y8UPGZtSNF4j8FNVXz.De8Lu4jHm3rjRosAtsHy6qjHx3i4S_QbQzvBePG\",\n",
    "    \"client_secret\": \"D1623C6D3607D4FC8004B92C761DFB6C1F70CCD129C5501E357028DFA00F5764\",\n",
    "    \"username\":\"wang2506@purdue.edu\",\n",
    "    \"password\":\"purdue99272844vp8Z6qq0teuPQmirGaaPAt4\",   \n",
    "} \n",
    "    #\"username\": \"wang159-4j1v@force.com\",\n",
    "    #\"password\": \"napoleon0eZ3PQpQqE3C3z4wWqEqKGhQ8\","
   ]
  },
  {
   "cell_type": "code",
   "execution_count": 10,
   "metadata": {},
   "outputs": [],
   "source": [
    "import sys\n",
    "sys.path.append('/home/users/wang2506/nanohub_salesforce_integ/salesforce')\n",
    "    \n",
    "import pandas as pd\n",
    "import time\n",
    "import datetime\n",
    "\n",
    "from DB2SalesforceAPI import DB2SalesforceAPI"
   ]
  },
  {
   "cell_type": "markdown",
   "metadata": {},
   "source": [
    "## plots\n",
    "### 1. unique institutions in classes per 12 month period \n",
    "### 2. unique institutions in unclassified users per 12 month period\n",
    "### 3. cumulative line of classes"
   ]
  },
  {
   "cell_type": "markdown",
   "metadata": {},
   "source": [
    "### unique institutions in classes per 12 mo period (calc'd by prev month)"
   ]
  },
  {
   "cell_type": "code",
   "execution_count": 11,
   "metadata": {},
   "outputs": [
    {
     "name": "stdout",
     "output_type": "stream",
     "text": [
      "Obtained Salesforce access token ...... True\n"
     ]
    }
   ],
   "source": [
    "db_1 = DB2SalesforceAPI(sf_login_params)"
   ]
  },
  {
   "cell_type": "code",
   "execution_count": 12,
   "metadata": {},
   "outputs": [
    {
     "name": "stdout",
     "output_type": "stream",
     "text": [
      "[Success] Bulk job creation successful. Job ID = 7505w00000ToMNfAAN\n",
      "{\"id\":\"7505w00000ToMNfAAN\",\"operation\":\"query\",\"object\":\"tool_usage_cluster__c\",\"createdById\":\"0055w00000DM5bOAAT\",\"createdDate\":\"2021-02-01T04:23:03.000+0000\",\"systemModstamp\":\"2021-02-01T04:23:03.000+0000\",\"state\":\"UploadComplete\",\"concurrencyMode\":\"Parallel\",\"contentType\":\"CSV\",\"apiVersion\":47.0,\"jobType\":\"V2Query\",\"lineEnding\":\"LF\",\"columnDelimiter\":\"COMMA\",\"retries\":0,\"totalProcessingTime\":0}\n",
      "{\"id\":\"7505w00000ToMNfAAN\",\"operation\":\"query\",\"object\":\"tool_usage_cluster__c\",\"createdById\":\"0055w00000DM5bOAAT\",\"createdDate\":\"2021-02-01T04:23:03.000+0000\",\"systemModstamp\":\"2021-02-01T04:23:07.000+0000\",\"state\":\"JobComplete\",\"concurrencyMode\":\"Parallel\",\"contentType\":\"CSV\",\"apiVersion\":47.0,\"jobType\":\"V2Query\",\"lineEnding\":\"LF\",\"columnDelimiter\":\"COMMA\",\"numberRecordsProcessed\":3949,\"retries\":0,\"totalProcessingTime\":741}\n",
      "[Success] Bulk job completed successfully.\n"
     ]
    }
   ],
   "source": [
    "tool_cluster_df = db_1.query_data('Select ID, Ending_Date__c, Starting_Date__c, Organization__c from tool_usage_cluster__c')"
   ]
  },
  {
   "cell_type": "code",
   "execution_count": 18,
   "metadata": {},
   "outputs": [
    {
     "data": {
      "text/html": [
       "<div>\n",
       "<style scoped>\n",
       "    .dataframe tbody tr th:only-of-type {\n",
       "        vertical-align: middle;\n",
       "    }\n",
       "\n",
       "    .dataframe tbody tr th {\n",
       "        vertical-align: top;\n",
       "    }\n",
       "\n",
       "    .dataframe thead th {\n",
       "        text-align: right;\n",
       "    }\n",
       "</style>\n",
       "<table border=\"1\" class=\"dataframe\">\n",
       "  <thead>\n",
       "    <tr style=\"text-align: right;\">\n",
       "      <th></th>\n",
       "      <th>Ending_Date__c</th>\n",
       "      <th>Id</th>\n",
       "      <th>Organization__c</th>\n",
       "      <th>Starting_Date__c</th>\n",
       "    </tr>\n",
       "  </thead>\n",
       "  <tbody>\n",
       "    <tr>\n",
       "      <th>0</th>\n",
       "      <td>2011-01-30</td>\n",
       "      <td>a0w5w000009Q7CuAAK</td>\n",
       "      <td>NaN</td>\n",
       "      <td>2010-09-05</td>\n",
       "    </tr>\n",
       "    <tr>\n",
       "      <th>1</th>\n",
       "      <td>2018-11-30</td>\n",
       "      <td>a0w5w000009Q7CvAAK</td>\n",
       "      <td>a0r5w00000V42iyAAB</td>\n",
       "      <td>2018-11-29</td>\n",
       "    </tr>\n",
       "    <tr>\n",
       "      <th>2</th>\n",
       "      <td>2019-11-28</td>\n",
       "      <td>a0w5w000009Q7CwAAK</td>\n",
       "      <td>a0r5w00000V42iyAAB</td>\n",
       "      <td>2019-11-04</td>\n",
       "    </tr>\n",
       "    <tr>\n",
       "      <th>3</th>\n",
       "      <td>2017-10-29</td>\n",
       "      <td>a0w5w000009Q7CxAAK</td>\n",
       "      <td>a0r5w00000V42cCAAR</td>\n",
       "      <td>2017-10-21</td>\n",
       "    </tr>\n",
       "    <tr>\n",
       "      <th>4</th>\n",
       "      <td>2018-01-21</td>\n",
       "      <td>a0w5w000009Q7CyAAK</td>\n",
       "      <td>a0r5w00000V42cCAAR</td>\n",
       "      <td>2018-01-15</td>\n",
       "    </tr>\n",
       "  </tbody>\n",
       "</table>\n",
       "</div>"
      ],
      "text/plain": [
       "  Ending_Date__c                  Id     Organization__c Starting_Date__c\n",
       "0     2011-01-30  a0w5w000009Q7CuAAK                 NaN       2010-09-05\n",
       "1     2018-11-30  a0w5w000009Q7CvAAK  a0r5w00000V42iyAAB       2018-11-29\n",
       "2     2019-11-28  a0w5w000009Q7CwAAK  a0r5w00000V42iyAAB       2019-11-04\n",
       "3     2017-10-29  a0w5w000009Q7CxAAK  a0r5w00000V42cCAAR       2017-10-21\n",
       "4     2018-01-21  a0w5w000009Q7CyAAK  a0r5w00000V42cCAAR       2018-01-15"
      ]
     },
     "metadata": {},
     "output_type": "display_data"
    },
    {
     "name": "stdout",
     "output_type": "stream",
     "text": [
      "(3949, 4)\n"
     ]
    }
   ],
   "source": [
    "display(tool_cluster_df.head(5))\n",
    "print(tool_cluster_df.shape)"
   ]
  },
  {
   "cell_type": "code",
   "execution_count": 19,
   "metadata": {},
   "outputs": [
    {
     "name": "stdout",
     "output_type": "stream",
     "text": [
      "[Success] Bulk job creation successful. Job ID = 7505w00000ToMT3AAN\n",
      "{\"id\":\"7505w00000ToMT3AAN\",\"operation\":\"query\",\"object\":\"ContactToolClusterAssociation__c\",\"createdById\":\"0055w00000DM5bOAAT\",\"createdDate\":\"2021-02-01T04:26:49.000+0000\",\"systemModstamp\":\"2021-02-01T04:26:49.000+0000\",\"state\":\"UploadComplete\",\"concurrencyMode\":\"Parallel\",\"contentType\":\"CSV\",\"apiVersion\":47.0,\"jobType\":\"V2Query\",\"lineEnding\":\"LF\",\"columnDelimiter\":\"COMMA\",\"retries\":0,\"totalProcessingTime\":0}\n",
      "{\"id\":\"7505w00000ToMT3AAN\",\"operation\":\"query\",\"object\":\"ContactToolClusterAssociation__c\",\"createdById\":\"0055w00000DM5bOAAT\",\"createdDate\":\"2021-02-01T04:26:49.000+0000\",\"systemModstamp\":\"2021-02-01T04:26:58.000+0000\",\"state\":\"JobComplete\",\"concurrencyMode\":\"Parallel\",\"contentType\":\"CSV\",\"apiVersion\":47.0,\"jobType\":\"V2Query\",\"lineEnding\":\"LF\",\"columnDelimiter\":\"COMMA\",\"numberRecordsProcessed\":79007,\"retries\":0,\"totalProcessingTime\":3898}\n",
      "[Success] Bulk job completed successfully.\n"
     ]
    }
   ],
   "source": [
    "## pull the list of contacts within each cluster\n",
    "contacts_in_cluster_df = db_1.query_data('Select Contact__c, Tool_Usage_Cluster__c from ContactToolClusterAssociation__c')"
   ]
  },
  {
   "cell_type": "code",
   "execution_count": 20,
   "metadata": {},
   "outputs": [
    {
     "data": {
      "text/html": [
       "<div>\n",
       "<style scoped>\n",
       "    .dataframe tbody tr th:only-of-type {\n",
       "        vertical-align: middle;\n",
       "    }\n",
       "\n",
       "    .dataframe tbody tr th {\n",
       "        vertical-align: top;\n",
       "    }\n",
       "\n",
       "    .dataframe thead th {\n",
       "        text-align: right;\n",
       "    }\n",
       "</style>\n",
       "<table border=\"1\" class=\"dataframe\">\n",
       "  <thead>\n",
       "    <tr style=\"text-align: right;\">\n",
       "      <th></th>\n",
       "      <th>Contact__c</th>\n",
       "      <th>Tool_Usage_Cluster__c</th>\n",
       "    </tr>\n",
       "  </thead>\n",
       "  <tbody>\n",
       "    <tr>\n",
       "      <th>0</th>\n",
       "      <td>0035w000034K5BgAAK</td>\n",
       "      <td>a0w5w000009Q7lKAAS</td>\n",
       "    </tr>\n",
       "  </tbody>\n",
       "</table>\n",
       "</div>"
      ],
      "text/plain": [
       "           Contact__c Tool_Usage_Cluster__c\n",
       "0  0035w000034K5BgAAK    a0w5w000009Q7lKAAS"
      ]
     },
     "metadata": {},
     "output_type": "display_data"
    },
    {
     "name": "stdout",
     "output_type": "stream",
     "text": [
      "(1, 2)\n"
     ]
    }
   ],
   "source": [
    "display(contacts_in_cluster_df.head(5))\n",
    "print(contacts_in_cluster_df.shape)"
   ]
  },
  {
   "cell_type": "code",
   "execution_count": null,
   "metadata": {},
   "outputs": [],
   "source": [
    "# concludes data imports from SF"
   ]
  },
  {
   "cell_type": "code",
   "execution_count": 23,
   "metadata": {},
   "outputs": [
    {
     "name": "stdout",
     "output_type": "stream",
     "text": [
      "2021-01-15 00:00:00\n",
      "2017-01-16 00:00:00\n"
     ]
    }
   ],
   "source": [
    "## do four years\n",
    "import datetime\n",
    "now = datetime.datetime.strptime('2021-01-15','%Y-%m-%d')#datetime.datetime.now()\n",
    "earliest_mo = now-datetime.timedelta(days=365*4)\n",
    "print(now)\n",
    "print(earliest_mo)"
   ]
  },
  {
   "cell_type": "code",
   "execution_count": 24,
   "metadata": {},
   "outputs": [
    {
     "name": "stdout",
     "output_type": "stream",
     "text": [
      "2017-01-16 00:00:00\n"
     ]
    }
   ],
   "source": [
    "earliest_date = '{year}-{month}-{day}'.format(year=earliest_mo.year, month = earliest_mo.month, day = earliest_mo.day)\n",
    "earliest_date = datetime.datetime.strptime(earliest_date,'%Y-%m-%d')\n",
    "print(earliest_date)"
   ]
  },
  {
   "cell_type": "code",
   "execution_count": 25,
   "metadata": {},
   "outputs": [],
   "source": [
    "mo = datetime.timedelta(days=30) #assume each month lasts 30 days"
   ]
  },
  {
   "cell_type": "code",
   "execution_count": 26,
   "metadata": {},
   "outputs": [],
   "source": [
    "mo_construct = int(365*4/30)+1 #now we do 4 years\n",
    "\n",
    "# build dataframe\n",
    "monthly_df = pd.DataFrame(columns=['Month Start','Number_Unique_Institutions'])"
   ]
  },
  {
   "cell_type": "code",
   "execution_count": 28,
   "metadata": {},
   "outputs": [
    {
     "name": "stdout",
     "output_type": "stream",
     "text": [
      "['2017-2-15', '2017-3-17']\n",
      "['2020-11-26', '2020-12-26']\n"
     ]
    }
   ],
   "source": [
    "# build month start\n",
    "month_start = []\n",
    "\n",
    "for i,j in enumerate(range(mo_construct-1)):\n",
    "    if i == 0:\n",
    "        temp = earliest_date+mo\n",
    "    else:\n",
    "        temp += mo\n",
    "    temp_string = '{year}-{month}-{day}'.format(year=temp.year, month = temp.month, day = temp.day)\n",
    "    month_start.append(temp_string)    \n",
    "    \n",
    "print(month_start[:2])\n",
    "print(month_start[-2:])"
   ]
  },
  {
   "cell_type": "code",
   "execution_count": 29,
   "metadata": {},
   "outputs": [
    {
     "data": {
      "text/html": [
       "<div>\n",
       "<style scoped>\n",
       "    .dataframe tbody tr th:only-of-type {\n",
       "        vertical-align: middle;\n",
       "    }\n",
       "\n",
       "    .dataframe tbody tr th {\n",
       "        vertical-align: top;\n",
       "    }\n",
       "\n",
       "    .dataframe thead th {\n",
       "        text-align: right;\n",
       "    }\n",
       "</style>\n",
       "<table border=\"1\" class=\"dataframe\">\n",
       "  <thead>\n",
       "    <tr style=\"text-align: right;\">\n",
       "      <th></th>\n",
       "      <th>Month Start</th>\n",
       "      <th>Number_Unique_Institutions</th>\n",
       "    </tr>\n",
       "  </thead>\n",
       "  <tbody>\n",
       "    <tr>\n",
       "      <th>0</th>\n",
       "      <td>2017-2-15</td>\n",
       "      <td>0</td>\n",
       "    </tr>\n",
       "    <tr>\n",
       "      <th>1</th>\n",
       "      <td>2017-3-17</td>\n",
       "      <td>0</td>\n",
       "    </tr>\n",
       "  </tbody>\n",
       "</table>\n",
       "</div>"
      ],
      "text/plain": [
       "  Month Start  Number_Unique_Institutions\n",
       "0   2017-2-15                           0\n",
       "1   2017-3-17                           0"
      ]
     },
     "metadata": {},
     "output_type": "display_data"
    }
   ],
   "source": [
    "monthly_df['Month Start'] = month_start\n",
    "monthly_df['Number_Unique_Institutions'] = 0\n",
    "display(monthly_df.head(2))"
   ]
  },
  {
   "cell_type": "code",
   "execution_count": 39,
   "metadata": {},
   "outputs": [
    {
     "data": {
      "text/html": [
       "<div>\n",
       "<style scoped>\n",
       "    .dataframe tbody tr th:only-of-type {\n",
       "        vertical-align: middle;\n",
       "    }\n",
       "\n",
       "    .dataframe tbody tr th {\n",
       "        vertical-align: top;\n",
       "    }\n",
       "\n",
       "    .dataframe thead th {\n",
       "        text-align: right;\n",
       "    }\n",
       "</style>\n",
       "<table border=\"1\" class=\"dataframe\">\n",
       "  <thead>\n",
       "    <tr style=\"text-align: right;\">\n",
       "      <th></th>\n",
       "      <th>Ending_Date__c</th>\n",
       "      <th>Id</th>\n",
       "      <th>Organization__c</th>\n",
       "      <th>Starting_Date__c</th>\n",
       "    </tr>\n",
       "  </thead>\n",
       "  <tbody>\n",
       "    <tr>\n",
       "      <th>1</th>\n",
       "      <td>2018-11-30</td>\n",
       "      <td>a0w5w000009Q7CvAAK</td>\n",
       "      <td>a0r5w00000V42iyAAB</td>\n",
       "      <td>2018-11-29</td>\n",
       "    </tr>\n",
       "    <tr>\n",
       "      <th>2</th>\n",
       "      <td>2019-11-28</td>\n",
       "      <td>a0w5w000009Q7CwAAK</td>\n",
       "      <td>a0r5w00000V42iyAAB</td>\n",
       "      <td>2019-11-04</td>\n",
       "    </tr>\n",
       "  </tbody>\n",
       "</table>\n",
       "</div>"
      ],
      "text/plain": [
       "  Ending_Date__c                  Id     Organization__c Starting_Date__c\n",
       "1     2018-11-30  a0w5w000009Q7CvAAK  a0r5w00000V42iyAAB       2018-11-29\n",
       "2     2019-11-28  a0w5w000009Q7CwAAK  a0r5w00000V42iyAAB       2019-11-04"
      ]
     },
     "metadata": {},
     "output_type": "display_data"
    }
   ],
   "source": [
    "#create backup for safety\n",
    "from copy import deepcopy\n",
    "new_df = deepcopy(tool_cluster_df)\n",
    "new_df = new_df.dropna()\n",
    "display(new_df.head(2))"
   ]
  },
  {
   "cell_type": "code",
   "execution_count": 41,
   "metadata": {},
   "outputs": [],
   "source": [
    "# search \n",
    "clusters_in_month = {}\n",
    "year = datetime.timedelta(days=365)\n",
    "\n",
    "for i,j in enumerate(month_start):\n",
    "    clusters_in_month_inner = []\n",
    "    \n",
    "    # convert to datetime\n",
    "    ms_dt = datetime.datetime.strptime(j,'%Y-%m-%d') #month starting date\n",
    "    \n",
    "    org_list = [] #to keep track of unique orgs\n",
    "    \n",
    "    # iterate through dataframe\n",
    "    for k,h in enumerate(new_df['Starting_Date__c'].to_list()): \n",
    "        # case 1 ()[], case 2 []()\n",
    "        end_date_dt = datetime.datetime.strptime(new_df.iloc[k,0],'%Y-%m-%d')\n",
    "        start_date_dt = datetime.datetime.strptime(h,'%Y-%m-%d')\n",
    "        \n",
    "        # exclude () [] or [] () - end_date_dt < (ms_dt - year) or start_date_dt > (ms_dt)\n",
    "        if end_date_dt >= (ms_dt-year) and start_date_dt <= ms_dt:\n",
    "        # demorgan's law end_date_dt < ws_dt or start_date_dt > (ws_dt+week): \n",
    "            # add information to weekly_df\n",
    "            #weekly_df.iloc[i,2] += new_df.iloc[k,1] ## this guy double counted\n",
    "            #monthly_df.iloc[i,3] += 1\n",
    "        \n",
    "            org_list.append(new_df.iloc[k,-2])\n",
    "            \n",
    "            clusters_in_month_inner.append(new_df.iloc[k,-3])\n",
    "            \n",
    "    org_list = set(org_list)\n",
    "    monthly_df.iloc[i,1] = len(org_list)\n",
    "    clusters_in_month[i] = clusters_in_month_inner"
   ]
  },
  {
   "cell_type": "code",
   "execution_count": 43,
   "metadata": {},
   "outputs": [
    {
     "data": {
      "text/html": [
       "<div>\n",
       "<style scoped>\n",
       "    .dataframe tbody tr th:only-of-type {\n",
       "        vertical-align: middle;\n",
       "    }\n",
       "\n",
       "    .dataframe tbody tr th {\n",
       "        vertical-align: top;\n",
       "    }\n",
       "\n",
       "    .dataframe thead th {\n",
       "        text-align: right;\n",
       "    }\n",
       "</style>\n",
       "<table border=\"1\" class=\"dataframe\">\n",
       "  <thead>\n",
       "    <tr style=\"text-align: right;\">\n",
       "      <th></th>\n",
       "      <th>Month Start</th>\n",
       "      <th>Number_Unique_Institutions</th>\n",
       "    </tr>\n",
       "  </thead>\n",
       "  <tbody>\n",
       "    <tr>\n",
       "      <th>0</th>\n",
       "      <td>2017-2-15</td>\n",
       "      <td>96</td>\n",
       "    </tr>\n",
       "    <tr>\n",
       "      <th>1</th>\n",
       "      <td>2017-3-17</td>\n",
       "      <td>96</td>\n",
       "    </tr>\n",
       "  </tbody>\n",
       "</table>\n",
       "</div>"
      ],
      "text/plain": [
       "  Month Start  Number_Unique_Institutions\n",
       "0   2017-2-15                          96\n",
       "1   2017-3-17                          96"
      ]
     },
     "metadata": {},
     "output_type": "display_data"
    },
    {
     "data": {
      "text/html": [
       "<div>\n",
       "<style scoped>\n",
       "    .dataframe tbody tr th:only-of-type {\n",
       "        vertical-align: middle;\n",
       "    }\n",
       "\n",
       "    .dataframe tbody tr th {\n",
       "        vertical-align: top;\n",
       "    }\n",
       "\n",
       "    .dataframe thead th {\n",
       "        text-align: right;\n",
       "    }\n",
       "</style>\n",
       "<table border=\"1\" class=\"dataframe\">\n",
       "  <thead>\n",
       "    <tr style=\"text-align: right;\">\n",
       "      <th></th>\n",
       "      <th>Month Start</th>\n",
       "      <th>Number_Unique_Institutions</th>\n",
       "    </tr>\n",
       "  </thead>\n",
       "  <tbody>\n",
       "    <tr>\n",
       "      <th>46</th>\n",
       "      <td>2020-11-26</td>\n",
       "      <td>137</td>\n",
       "    </tr>\n",
       "    <tr>\n",
       "      <th>47</th>\n",
       "      <td>2020-12-26</td>\n",
       "      <td>134</td>\n",
       "    </tr>\n",
       "  </tbody>\n",
       "</table>\n",
       "</div>"
      ],
      "text/plain": [
       "   Month Start  Number_Unique_Institutions\n",
       "46  2020-11-26                         137\n",
       "47  2020-12-26                         134"
      ]
     },
     "metadata": {},
     "output_type": "display_data"
    }
   ],
   "source": [
    "display(monthly_df.head(2))\n",
    "display(monthly_df.tail(2))"
   ]
  },
  {
   "cell_type": "code",
   "execution_count": 70,
   "metadata": {},
   "outputs": [
    {
     "data": {
      "text/plain": [
       "Text(0, 0.5, 'Unique Institutions')"
      ]
     },
     "execution_count": 70,
     "metadata": {},
     "output_type": "execute_result"
    },
    {
     "data": {
      "text/plain": [
       "<Figure size 432x288 with 0 Axes>"
      ]
     },
     "metadata": {},
     "output_type": "display_data"
    },
    {
     "data": {
      "image/png": "[encoded data removed]",
      "text/plain": [
       "<Figure size 432x288 with 1 Axes>"
      ]
     },
     "metadata": {
      "needs_background": "light"
     },
     "output_type": "display_data"
    }
   ],
   "source": [
    "## plot\n",
    "# each year is 12 months\n",
    "month_count = range(1,13)\n",
    "unique_classes = monthly_df['Number_Unique_Institutions'].to_list()\n",
    "\n",
    "year_1 = unique_classes[-36:-24]\n",
    "year_2 = unique_classes[-24:-12]\n",
    "year_3 = unique_classes[-12:]\n",
    "\n",
    "plt.figure('monthly_unique_institutions_classes')\n",
    "\n",
    "fig,ax = plt.subplots()\n",
    "ax.plot(month_count,year_1,color='grey',linestyle='dashed',label='2018',linewidth=1.4)\n",
    "ax.plot(month_count,year_2,color='grey',label='2019',linewidth=1.8)\n",
    "ax.plot(month_count,year_3,color='black',label='2020',linewidth=2.2)\n",
    "ax.legend()\n",
    "ax.grid(which='both')\n",
    "ax.set_xlim([0.5,13.5])\n",
    "ax.set_xticks(np.arange(1,14,1))\n",
    "# print(plt.xticklabels())\n",
    "\n",
    "ax.set_title('Number of Unique Classroom Institutions per Month (Sum Over Prev Year)')\n",
    "ax.set_xlabel('Month no.')\n",
    "ax.set_ylabel('Unique Institutions')\n",
    "# plt.savefig('monthly_institutions.png',dpi=500,transparent=True)\n",
    "# plt.savefig('monthly_institutions2.png',dpi=500)"
   ]
  },
  {
   "cell_type": "code",
   "execution_count": null,
   "metadata": {},
   "outputs": [],
   "source": []
  },
  {
   "cell_type": "markdown",
   "metadata": {},
   "source": [
    "### Total classes over all time"
   ]
  },
  {
   "cell_type": "code",
   "execution_count": 51,
   "metadata": {},
   "outputs": [
    {
     "data": {
      "text/html": [
       "<div>\n",
       "<style scoped>\n",
       "    .dataframe tbody tr th:only-of-type {\n",
       "        vertical-align: middle;\n",
       "    }\n",
       "\n",
       "    .dataframe tbody tr th {\n",
       "        vertical-align: top;\n",
       "    }\n",
       "\n",
       "    .dataframe thead th {\n",
       "        text-align: right;\n",
       "    }\n",
       "</style>\n",
       "<table border=\"1\" class=\"dataframe\">\n",
       "  <thead>\n",
       "    <tr style=\"text-align: right;\">\n",
       "      <th></th>\n",
       "      <th>Ending_Date__c</th>\n",
       "      <th>Id</th>\n",
       "      <th>Organization__c</th>\n",
       "      <th>Starting_Date__c</th>\n",
       "    </tr>\n",
       "  </thead>\n",
       "  <tbody>\n",
       "    <tr>\n",
       "      <th>0</th>\n",
       "      <td>2011-01-30</td>\n",
       "      <td>a0w5w000009Q7CuAAK</td>\n",
       "      <td>NaN</td>\n",
       "      <td>2010-09-05</td>\n",
       "    </tr>\n",
       "    <tr>\n",
       "      <th>1</th>\n",
       "      <td>2018-11-30</td>\n",
       "      <td>a0w5w000009Q7CvAAK</td>\n",
       "      <td>a0r5w00000V42iyAAB</td>\n",
       "      <td>2018-11-29</td>\n",
       "    </tr>\n",
       "  </tbody>\n",
       "</table>\n",
       "</div>"
      ],
      "text/plain": [
       "  Ending_Date__c                  Id     Organization__c Starting_Date__c\n",
       "0     2011-01-30  a0w5w000009Q7CuAAK                 NaN       2010-09-05\n",
       "1     2018-11-30  a0w5w000009Q7CvAAK  a0r5w00000V42iyAAB       2018-11-29"
      ]
     },
     "metadata": {},
     "output_type": "display_data"
    }
   ],
   "source": [
    "# for ease of reference\n",
    "display(tool_cluster_df.head(2))"
   ]
  },
  {
   "cell_type": "code",
   "execution_count": null,
   "metadata": {},
   "outputs": [],
   "source": [
    "# first find the earliest date in the start_date__c category\n",
    "# increment in monthly tabs"
   ]
  },
  {
   "cell_type": "code",
   "execution_count": 53,
   "metadata": {},
   "outputs": [
    {
     "name": "stdout",
     "output_type": "stream",
     "text": [
      "2000-10-03 00:00:00\n"
     ]
    }
   ],
   "source": [
    "sf_start_dates = tool_cluster_df['Starting_Date__c'].to_list()\n",
    "sf_earliest = datetime.datetime.strptime(sf_start_dates[0],'%Y-%m-%d') \n",
    "\n",
    "for i,j in enumerate(sf_start_dates):\n",
    "    j = datetime.datetime.strptime(j,'%Y-%m-%d') \n",
    "    \n",
    "    sf_start_dates[i] = j\n",
    "    \n",
    "    if j < sf_earliest: \n",
    "        sf_earliest = deepcopy(j)\n",
    "print(sf_earliest)"
   ]
  },
  {
   "cell_type": "code",
   "execution_count": 59,
   "metadata": {},
   "outputs": [
    {
     "name": "stdout",
     "output_type": "stream",
     "text": [
      "[4, 5, 5, 8, 8]\n"
     ]
    }
   ],
   "source": [
    "# increment yearly\n",
    "max_months = 20*12+2 #20 years and 2 months\n",
    "class_date_tracker = []\n",
    "\n",
    "class_temp_tracker = 0\n",
    "for i in range(max_months):\n",
    "\n",
    "    if i == 0:\n",
    "        current_earliest = sf_earliest\n",
    "    else:\n",
    "        current_earliest = current_earliest + datetime.timedelta(days=30)\n",
    "        \n",
    "    next_dates = current_earliest + datetime.timedelta(days=30)\n",
    "    \n",
    "    for j in sf_start_dates:\n",
    "        if j >= current_earliest and j < next_dates:\n",
    "            class_temp_tracker += 1\n",
    "    \n",
    "    class_date_tracker.append(class_temp_tracker)\n",
    "    \n",
    "print(class_date_tracker[:5])"
   ]
  },
  {
   "cell_type": "code",
   "execution_count": 62,
   "metadata": {},
   "outputs": [
    {
     "data": {
      "image/png": "[encoded data removed]",
      "text/plain": [
       "<Figure size 432x288 with 1 Axes>"
      ]
     },
     "metadata": {
      "needs_background": "light"
     },
     "output_type": "display_data"
    }
   ],
   "source": [
    "## plot\n",
    "# each year is 12 months\n",
    "month_count = range(max_months)\n",
    "\n",
    "plt.figure('cumulative_classes')\n",
    "\n",
    "plt.plot(month_count,class_date_tracker,color='black',linewidth=2.2)\n",
    "# plt.legend()\n",
    "plt.grid(which='both')\n",
    "# plt.xlim([0.5,12.5])\n",
    "# plt.xticks(np.arange(1,13,1))\n",
    "\n",
    "plt.title('Cumulative NH Classes/Clusters')\n",
    "plt.xlabel('Months from NH Inception')\n",
    "plt.ylabel('Total Classes/Clusters')\n",
    "plt.savefig('cumulative_clusters.png',dpi=500,transparent=True)\n",
    "plt.savefig('cumulative_clusters2.png',dpi=500)"
   ]
  },
  {
   "cell_type": "code",
   "execution_count": null,
   "metadata": {},
   "outputs": [],
   "source": []
  },
  {
   "cell_type": "code",
   "execution_count": null,
   "metadata": {},
   "outputs": [],
   "source": []
  },
  {
   "cell_type": "code",
   "execution_count": null,
   "metadata": {},
   "outputs": [],
   "source": []
  },
  {
   "cell_type": "code",
   "execution_count": null,
   "metadata": {},
   "outputs": [],
   "source": []
  },
  {
   "cell_type": "markdown",
   "metadata": {},
   "source": [
    "### graveyard"
   ]
  },
  {
   "cell_type": "code",
   "execution_count": null,
   "metadata": {},
   "outputs": [],
   "source": [
    "earliest_string = '{year}-{month}-{day}'.format(year=earliest_mo.year, month = earliest_mo.month, day = earliest_mo.day)\n",
    "earliest_date = datetime.datetime.strptime(earliest_string,'%Y-%m-%d')"
   ]
  },
  {
   "cell_type": "code",
   "execution_count": null,
   "metadata": {},
   "outputs": [],
   "source": [
    "row_indexes = []\n",
    "starting = tool_cluster_df['Starting_Date__c'].to_list()\n",
    "\n",
    "# ensure that dates from SF exceed\n",
    "for i,j in enumerate(starting):\n",
    "    j = datetime.datetime.strptime(j,'%Y-%m-%d')\n",
    "    \n",
    "    if j >= earliest:\n",
    "        row_indexes.append(i)\n",
    "\n",
    "print(len(row_indexes))"
   ]
  }
 ],
 "metadata": {
  "kernelspec": {
   "display_name": "Python 3",
   "language": "python",
   "name": "python3"
  },
  "language_info": {
   "codemirror_mode": {
    "name": "ipython",
    "version": 3
   },
   "file_extension": ".py",
   "mimetype": "text/x-python",
   "name": "python",
   "nbconvert_exporter": "python",
   "pygments_lexer": "ipython3",
   "version": "3.8.10"
  }
 },
 "nbformat": 4,
 "nbformat_minor": 4
}
