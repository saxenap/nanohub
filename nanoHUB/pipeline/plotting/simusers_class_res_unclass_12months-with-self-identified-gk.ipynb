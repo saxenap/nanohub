{
 "cells": [
  {
   "cell_type": "code",
   "execution_count": null,
   "metadata": {
    "execution": {
     "iopub.status.busy": "2022-02-21T03:24:48.662412Z",
     "iopub.status.idle": "2022-02-21T03:24:48.662758Z",
     "shell.execute_reply": "2022-02-21T03:24:48.662623Z",
     "shell.execute_reply.started": "2022-02-21T03:24:48.662598Z"
    },
    "tags": []
   },
   "outputs": [],
   "source": [
    "## build researcher events, student events, and self-study events\n",
    "## researcher are simply those with NH citations"
   ]
  },
  {
   "cell_type": "code",
   "execution_count": null,
   "metadata": {
    "execution": {
     "iopub.status.busy": "2022-02-21T03:24:48.663541Z",
     "iopub.status.idle": "2022-02-21T03:24:48.663868Z",
     "shell.execute_reply": "2022-02-21T03:24:48.663732Z",
     "shell.execute_reply.started": "2022-02-21T03:24:48.663716Z"
    },
    "tags": []
   },
   "outputs": [],
   "source": [
    "import sys\n",
    "\n",
    "import pandas as pd\n",
    "import numpy as np\n",
    "import time\n",
    "import datetime\n",
    "import os\n",
    "from nanoHUB.application import Application\n",
    "from nanoHUB.configuration import ClusteringConfiguration\n",
    "from nanoHUB.pipeline.geddes.data import get_default_s3_client\n",
    "from nanoHUB.dataaccess.lake import S3FileMapper\n",
    "from nanoHUB.clustering.infra import get_mike_only_clustered_users, get_xufeng_only_clustered_users, get_mike_xufeng_clustered_users\n",
    "from nanoHUB.clustering.infra import create_clusters_repository, add_cluster_info, get_all_clustered_users, get_all_self_study_users, get_all_self_identified_users"
   ]
  },
  {
   "cell_type": "code",
   "execution_count": null,
   "metadata": {
    "execution": {
     "iopub.status.busy": "2022-02-21T03:24:48.664767Z",
     "iopub.status.idle": "2022-02-21T03:24:48.665061Z",
     "shell.execute_reply": "2022-02-21T03:24:48.664930Z",
     "shell.execute_reply.started": "2022-02-21T03:24:48.664914Z"
    },
    "tags": []
   },
   "outputs": [],
   "source": [
    "pd.set_option('display.max_columns', None)\n",
    "cwd = os.getcwd()"
   ]
  },
  {
   "cell_type": "code",
   "execution_count": null,
   "metadata": {
    "execution": {
     "iopub.status.busy": "2022-02-21T03:24:48.666464Z",
     "iopub.status.idle": "2022-02-21T03:24:48.666785Z",
     "shell.execute_reply": "2022-02-21T03:24:48.666632Z",
     "shell.execute_reply.started": "2022-02-21T03:24:48.666617Z"
    },
    "tags": []
   },
   "outputs": [],
   "source": [
    "application = Application.get_instance()\n",
    "nanohub_db = application.new_db_engine('nanohub')\n",
    "nanohub_metrics_db = application.new_db_engine('nanohub_metrics')\n",
    "wang159_myrmekes_db = application.new_db_engine('rfm_data')\n",
    "\n",
    "s3_client = get_default_s3_client(application)\n",
    "derived_data_file_path = 'derived_data_for_users.csv'\n",
    "processed_mapper = S3FileMapper(s3_client, ClusteringConfiguration().bucket_name_processed)"
   ]
  },
  {
   "cell_type": "code",
   "execution_count": null,
   "metadata": {},
   "outputs": [],
   "source": []
  },
  {
   "cell_type": "markdown",
   "metadata": {
    "tags": []
   },
   "source": [
    "## Cumulative classroom/research/self-study"
   ]
  },
  {
   "cell_type": "code",
   "execution_count": null,
   "metadata": {
    "execution": {
     "iopub.status.busy": "2022-02-21T03:24:48.538399Z",
     "iopub.status.idle": "2022-02-21T03:24:48.538796Z",
     "shell.execute_reply": "2022-02-21T03:24:48.538603Z",
     "shell.execute_reply.started": "2022-02-21T03:24:48.538583Z"
    }
   },
   "outputs": [],
   "source": [
    "clustered_df = get_all_clustered_users(processed_mapper, derived_data_file_path)\n",
    "clustered_df['nanoHUB_user_ID__c'] = clustered_df['id']\n",
    "clustered_NH_ids = clustered_df['nanoHUB_user_ID__c']\n",
    "display(len(clustered_NH_ids))"
   ]
  },
  {
   "cell_type": "code",
   "execution_count": null,
   "metadata": {},
   "outputs": [],
   "source": []
  },
  {
   "cell_type": "code",
   "execution_count": null,
   "metadata": {},
   "outputs": [],
   "source": []
  },
  {
   "cell_type": "code",
   "execution_count": null,
   "metadata": {
    "execution": {
     "iopub.status.busy": "2022-02-21T03:24:48.539717Z",
     "iopub.status.idle": "2022-02-21T03:24:48.540210Z",
     "shell.execute_reply": "2022-02-21T03:24:48.539988Z",
     "shell.execute_reply.started": "2022-02-21T03:24:48.539945Z"
    },
    "tags": []
   },
   "outputs": [],
   "source": [
    "self_study_df = get_all_self_study_users(processed_mapper, derived_data_file_path)\n",
    "self_study_df['nanoHUB_user_ID__c'] = self_study_df['id']\n",
    "self_study_NH_ids = self_study_df['nanoHUB_user_ID__c']\n",
    "display(len(self_study_NH_ids))"
   ]
  },
  {
   "cell_type": "code",
   "execution_count": null,
   "metadata": {
    "execution": {
     "iopub.status.busy": "2022-02-21T03:24:48.541179Z",
     "iopub.status.idle": "2022-02-21T03:24:48.541439Z",
     "shell.execute_reply": "2022-02-21T03:24:48.541312Z",
     "shell.execute_reply.started": "2022-02-21T03:24:48.541300Z"
    }
   },
   "outputs": [],
   "source": [
    "self_identified_df = get_all_self_identified_users(processed_mapper, derived_data_file_path)\n",
    "self_identified_df['nanoHUB_user_ID__c'] = self_identified_df['id']\n",
    "self_identified_NH_ids = self_identified_df['nanoHUB_user_ID__c']\n",
    "self_identified_usernames = self_identified_df['username'].tolist()\n",
    "display(len(self_identified_NH_ids))"
   ]
  },
  {
   "cell_type": "code",
   "execution_count": null,
   "metadata": {
    "execution": {
     "iopub.status.busy": "2022-02-21T03:24:48.542102Z",
     "iopub.status.idle": "2022-02-21T03:24:48.542482Z",
     "shell.execute_reply": "2022-02-21T03:24:48.542304Z",
     "shell.execute_reply.started": "2022-02-21T03:24:48.542286Z"
    },
    "tags": []
   },
   "outputs": [],
   "source": [
    "print(clustered_NH_ids.shape)\n",
    "print(self_study_NH_ids.shape)\n",
    "print(self_identified_NH_ids.shape)"
   ]
  },
  {
   "cell_type": "code",
   "execution_count": null,
   "metadata": {},
   "outputs": [],
   "source": []
  },
  {
   "cell_type": "code",
   "execution_count": null,
   "metadata": {
    "execution": {
     "iopub.status.busy": "2022-02-21T03:24:48.543435Z",
     "iopub.status.idle": "2022-02-21T03:24:48.545888Z",
     "shell.execute_reply": "2022-02-21T03:24:48.545571Z",
     "shell.execute_reply.started": "2022-02-21T03:24:48.545516Z"
    },
    "tags": []
   },
   "outputs": [],
   "source": [
    "frames = [clustered_df, self_study_df]\n",
    "contacts_df = pd.concat(frames)"
   ]
  },
  {
   "cell_type": "code",
   "execution_count": null,
   "metadata": {
    "execution": {
     "iopub.status.busy": "2022-02-21T03:24:48.547559Z",
     "iopub.status.idle": "2022-02-21T03:24:48.549255Z",
     "shell.execute_reply": "2022-02-21T03:24:48.549044Z",
     "shell.execute_reply.started": "2022-02-21T03:24:48.549026Z"
    },
    "tags": []
   },
   "outputs": [],
   "source": [
    "## need to filter self-study-nh-ids with the researchers"
   ]
  },
  {
   "cell_type": "code",
   "execution_count": null,
   "metadata": {
    "execution": {
     "iopub.status.busy": "2022-02-21T03:24:48.552502Z",
     "iopub.status.idle": "2022-02-21T03:24:48.552938Z",
     "shell.execute_reply": "2022-02-21T03:24:48.552715Z",
     "shell.execute_reply.started": "2022-02-21T03:24:48.552693Z"
    },
    "tags": []
   },
   "outputs": [],
   "source": [
    "## This researcher determination is based entirely on the results of research authors on nanohub\n",
    "## i.e., we use the researcher information on db2"
   ]
  },
  {
   "cell_type": "code",
   "execution_count": null,
   "metadata": {
    "execution": {
     "iopub.status.busy": "2022-02-21T03:24:48.560362Z",
     "iopub.status.idle": "2022-02-21T03:24:48.560742Z",
     "shell.execute_reply": "2022-02-21T03:24:48.560577Z",
     "shell.execute_reply.started": "2022-02-21T03:24:48.560558Z"
    },
    "tags": []
   },
   "outputs": [],
   "source": [
    "sql_query = 'select id, uid, author from jos_citations'\n",
    "jos_citations = pd.read_sql_query(sql_query, nanohub_db)\n",
    "display(jos_citations.head(2))\n",
    "print(jos_citations.shape)"
   ]
  },
  {
   "cell_type": "code",
   "execution_count": null,
   "metadata": {
    "execution": {
     "iopub.status.busy": "2022-02-21T03:24:48.561324Z",
     "iopub.status.idle": "2022-02-21T03:24:48.561615Z",
     "shell.execute_reply": "2022-02-21T03:24:48.561483Z",
     "shell.execute_reply.started": "2022-02-21T03:24:48.561468Z"
    },
    "tags": []
   },
   "outputs": [],
   "source": [
    "t1_authors = jos_citations['author'].to_list()\n",
    "t1_authors2 = [] #[j.split(';') for i,j in enumerate(t1_authors)]"
   ]
  },
  {
   "cell_type": "code",
   "execution_count": null,
   "metadata": {
    "execution": {
     "iopub.status.busy": "2022-02-21T03:24:48.564694Z",
     "iopub.status.idle": "2022-02-21T03:24:48.565419Z",
     "shell.execute_reply": "2022-02-21T03:24:48.565152Z",
     "shell.execute_reply.started": "2022-02-21T03:24:48.565116Z"
    },
    "tags": []
   },
   "outputs": [],
   "source": [
    "for i,j in enumerate(t1_authors):\n",
    "    try:\n",
    "        holder = j.split(';')\n",
    "        if len(holder) > 1: \n",
    "            for k,l in enumerate(holder):\n",
    "                if l[0] == ' ':\n",
    "                    holder[k] = l[1:]\n",
    "        t1_authors2.append(holder)\n",
    "    except:\n",
    "        garb = True"
   ]
  },
  {
   "cell_type": "code",
   "execution_count": null,
   "metadata": {
    "execution": {
     "iopub.status.busy": "2022-02-21T03:24:48.566318Z",
     "iopub.status.idle": "2022-02-21T03:24:48.566614Z",
     "shell.execute_reply": "2022-02-21T03:24:48.566465Z",
     "shell.execute_reply.started": "2022-02-21T03:24:48.566450Z"
    },
    "tags": []
   },
   "outputs": [],
   "source": [
    "t1_authors32 = [item for sublist in t1_authors2 for item in sublist]\n",
    "t1_authors3 = set(t1_authors32)\n",
    "print(len(t1_authors3))"
   ]
  },
  {
   "cell_type": "code",
   "execution_count": null,
   "metadata": {
    "execution": {
     "iopub.status.busy": "2022-02-21T03:24:48.567185Z",
     "iopub.status.idle": "2022-02-21T03:24:48.567448Z",
     "shell.execute_reply": "2022-02-21T03:24:48.567312Z",
     "shell.execute_reply.started": "2022-02-21T03:24:48.567298Z"
    },
    "tags": []
   },
   "outputs": [],
   "source": [
    "## extract all researchers with nh ids\n",
    "rw_ids = []\n",
    "need_search = []\n",
    "for i,j in enumerate(t1_authors3):\n",
    "    if '{{' in j:\n",
    "        rw_ids.append(i)\n",
    "    else:\n",
    "        need_search.append(i)"
   ]
  },
  {
   "cell_type": "code",
   "execution_count": null,
   "metadata": {
    "execution": {
     "iopub.status.busy": "2022-02-21T03:24:48.568170Z",
     "iopub.status.idle": "2022-02-21T03:24:48.568627Z",
     "shell.execute_reply": "2022-02-21T03:24:48.568413Z",
     "shell.execute_reply.started": "2022-02-21T03:24:48.568390Z"
    },
    "tags": []
   },
   "outputs": [],
   "source": [
    "## from the rw_ids, extract the nanohub userids\n",
    "# can obtain usernames from the DB2 table\n",
    "rw_ids2 = np.array(list(t1_authors3))[rw_ids]\n",
    "for i,j in enumerate(rw_ids2):\n",
    "    begin = j.index('{{')\n",
    "    rw_ids2[i] = j[begin+2:-2]\n",
    "print(len(rw_ids2))"
   ]
  },
  {
   "cell_type": "code",
   "execution_count": null,
   "metadata": {
    "execution": {
     "iopub.status.busy": "2022-02-21T03:24:48.569531Z",
     "iopub.status.idle": "2022-02-21T03:24:48.569816Z",
     "shell.execute_reply": "2022-02-21T03:24:48.569674Z",
     "shell.execute_reply.started": "2022-02-21T03:24:48.569659Z"
    },
    "tags": []
   },
   "outputs": [],
   "source": [
    "# need to obtain usernames\n",
    "sql_query = \"select id,name,username from jos_users where id in \"+str(tuple(rw_ids2))\n",
    "rw_researchers = pd.read_sql_query(sql_query,nanohub_db)\n",
    "display(rw_researchers.head(2))"
   ]
  },
  {
   "cell_type": "code",
   "execution_count": null,
   "metadata": {
    "execution": {
     "iopub.status.busy": "2022-02-21T03:24:48.570373Z",
     "iopub.status.idle": "2022-02-21T03:24:48.570635Z",
     "shell.execute_reply": "2022-02-21T03:24:48.570501Z",
     "shell.execute_reply.started": "2022-02-21T03:24:48.570488Z"
    },
    "tags": []
   },
   "outputs": [],
   "source": [
    "## need to obtain the username/ids from those people without nh ids explicitly spec'd in jos_citations\n",
    "ns2 = np.array(list(t1_authors3))[need_search]\n",
    "ns2 = ns2[1:]"
   ]
  },
  {
   "cell_type": "code",
   "execution_count": null,
   "metadata": {
    "execution": {
     "iopub.status.busy": "2022-02-21T03:24:48.571287Z",
     "iopub.status.idle": "2022-02-21T03:24:48.571724Z",
     "shell.execute_reply": "2022-02-21T03:24:48.571496Z",
     "shell.execute_reply.started": "2022-02-21T03:24:48.571472Z"
    },
    "tags": []
   },
   "outputs": [],
   "source": [
    "tuple(ns2)[:5]"
   ]
  },
  {
   "cell_type": "code",
   "execution_count": null,
   "metadata": {
    "execution": {
     "iopub.status.busy": "2022-02-21T03:24:48.574313Z",
     "iopub.status.idle": "2022-02-21T03:24:48.574983Z",
     "shell.execute_reply": "2022-02-21T03:24:48.574567Z",
     "shell.execute_reply.started": "2022-02-21T03:24:48.574550Z"
    },
    "tags": []
   },
   "outputs": [],
   "source": [
    "sql_query = \"select id,name,username from jos_users where name in \"+str(tuple(ns2))\n",
    "ns2_researchers = pd.read_sql_query(sql_query,nanohub_db)\n",
    "display(ns2_researchers.head(2))"
   ]
  },
  {
   "cell_type": "code",
   "execution_count": null,
   "metadata": {
    "execution": {
     "iopub.status.busy": "2022-02-21T03:24:48.579983Z",
     "iopub.status.idle": "2022-02-21T03:24:48.580425Z",
     "shell.execute_reply": "2022-02-21T03:24:48.580189Z",
     "shell.execute_reply.started": "2022-02-21T03:24:48.580167Z"
    },
    "tags": []
   },
   "outputs": [],
   "source": [
    "## combine the usernames into one data structure\n",
    "researcher_usernames = rw_researchers['username'].to_list() + ns2_researchers['username'].to_list()\n",
    "print(len(researcher_usernames))"
   ]
  },
  {
   "cell_type": "code",
   "execution_count": null,
   "metadata": {
    "execution": {
     "iopub.status.busy": "2022-02-21T03:24:48.584185Z",
     "iopub.status.idle": "2022-02-21T03:24:48.584731Z",
     "shell.execute_reply": "2022-02-21T03:24:48.584513Z",
     "shell.execute_reply.started": "2022-02-21T03:24:48.584486Z"
    }
   },
   "outputs": [],
   "source": [
    "bool_search3 = np.in1d(np.array(researcher_usernames),np.array(self_identified_usernames))\n",
    "researcher_usernames = np.where(~bool_search3)[0].tolist()\n",
    "display(len(researcher_usernames))\n",
    "\n",
    "display(len(self_identified_usernames))"
   ]
  },
  {
   "cell_type": "code",
   "execution_count": null,
   "metadata": {
    "execution": {
     "iopub.status.busy": "2022-02-21T03:24:48.586146Z",
     "iopub.status.idle": "2022-02-21T03:24:48.586521Z",
     "shell.execute_reply": "2022-02-21T03:24:48.586339Z",
     "shell.execute_reply.started": "2022-02-21T03:24:48.586321Z"
    },
    "tags": []
   },
   "outputs": [],
   "source": [
    "self_identified_track = []\n",
    "researcher_track = []"
   ]
  },
  {
   "cell_type": "code",
   "execution_count": null,
   "metadata": {
    "execution": {
     "iopub.status.busy": "2022-02-21T03:24:48.588744Z",
     "iopub.status.idle": "2022-02-21T03:24:48.589285Z",
     "shell.execute_reply": "2022-02-21T03:24:48.589067Z",
     "shell.execute_reply.started": "2022-02-21T03:24:48.589031Z"
    },
    "tags": []
   },
   "outputs": [],
   "source": [
    "today = datetime.datetime.today()\n",
    "print(today)"
   ]
  },
  {
   "cell_type": "code",
   "execution_count": null,
   "metadata": {
    "execution": {
     "iopub.status.busy": "2022-02-21T03:24:48.590287Z",
     "iopub.status.idle": "2022-02-21T03:24:48.590814Z",
     "shell.execute_reply": "2022-02-21T03:24:48.590562Z",
     "shell.execute_reply.started": "2022-02-21T03:24:48.590543Z"
    }
   },
   "outputs": [],
   "source": [
    "## caching check \n",
    "try:\n",
    "    user_breakdown_df = pd.read_csv(cwd+'/cached_data/nh_user_breakdown.csv')\n",
    "    print(user_breakdown_df)\n",
    "    cache_flag = True\n",
    "except:\n",
    "    cache_flag = False"
   ]
  },
  {
   "cell_type": "code",
   "execution_count": null,
   "metadata": {
    "execution": {
     "iopub.status.busy": "2022-02-21T03:24:48.592139Z",
     "iopub.status.idle": "2022-02-21T03:24:48.592492Z",
     "shell.execute_reply": "2022-02-21T03:24:48.592332Z",
     "shell.execute_reply.started": "2022-02-21T03:24:48.592314Z"
    },
    "tags": []
   },
   "outputs": [],
   "source": [
    "## determine starting year\n",
    "#if cache_flag == False:\n",
    "start_year_base = 1999 #2000\n",
    "#else:\n",
    "#     print('check the saved file')\n",
    "#    start_year_base = int(user_breakdown_df['year_month'].to_list()[-1][:4])\n",
    "    \n",
    "    "
   ]
  },
  {
   "cell_type": "code",
   "execution_count": null,
   "metadata": {
    "execution": {
     "iopub.status.busy": "2022-02-21T03:24:48.593366Z",
     "iopub.status.idle": "2022-02-21T03:24:48.593696Z",
     "shell.execute_reply": "2022-02-21T03:24:48.593549Z",
     "shell.execute_reply.started": "2022-02-21T03:24:48.593533Z"
    },
    "tags": []
   },
   "outputs": [],
   "source": [
    "#print(user_breakdown_df['year_month'].to_list()[-1][:4])"
   ]
  },
  {
   "cell_type": "code",
   "execution_count": null,
   "metadata": {
    "execution": {
     "iopub.status.busy": "2022-02-21T03:24:48.594391Z",
     "iopub.status.idle": "2022-02-21T03:24:48.594791Z",
     "shell.execute_reply": "2022-02-21T03:24:48.594629Z",
     "shell.execute_reply.started": "2022-02-21T03:24:48.594611Z"
    },
    "tags": []
   },
   "outputs": [],
   "source": [
    "from copy import deepcopy"
   ]
  },
  {
   "cell_type": "code",
   "execution_count": null,
   "metadata": {
    "execution": {
     "iopub.status.busy": "2022-02-21T03:24:48.596307Z",
     "iopub.status.idle": "2022-02-21T03:24:48.596701Z",
     "shell.execute_reply": "2022-02-21T03:24:48.596483Z",
     "shell.execute_reply.started": "2022-02-21T03:24:48.596464Z"
    },
    "tags": []
   },
   "outputs": [],
   "source": [
    "## computer has memory limits, so split toolstart into branches\n",
    "# this filters and finds the research usage in nanohub\n",
    "start_year = deepcopy(start_year_base)\n",
    "while start_year < today.year+1:\n",
    "    start_year += 1\n",
    "    end_date = r\"'\"+str(start_year)+r\"-01-01'\"\n",
    "    start_date = r\"'\"+str(start_year-2)+r\"-01-01'\"\n",
    "    \n",
    "    for i in range(1,13):\n",
    "        if i < 10:\n",
    "            start_date = r\"'\"+str(start_year-1)+r\"-0\"+str(i)+r\"-01'\"\n",
    "            end_date = r\"'\"+str(start_year)+r\"-0\"+str(i)+r\"-01'\"\n",
    "        else:\n",
    "            start_date = r\"'\"+str(start_year-1)+r\"-\"+str(i)+r\"-01'\"\n",
    "            end_date = r\"'\"+str(start_year)+r\"-\"+str(i)+r\"-01'\"\n",
    "\n",
    "        sql_query_researcher = \"select user from toolstart where user in \" + str(tuple(researcher_usernames))\\\n",
    "            +\" and datetime <= \"+end_date+\" and datetime >= \"+start_date\n",
    "        researcher_users = pd.read_sql_query(sql_query_researcher, nanohub_metrics_db)\n",
    "\n",
    "        researcher_track.append(researcher_users.drop_duplicates().shape[0])\n",
    "\n",
    "        sql_query_self_identified = \"select user from toolstart where user in \" + str(tuple(self_identified_usernames))\\\n",
    "            +\" and datetime <= \"+end_date+\" and datetime >= \"+start_date\n",
    "        self_identified_users = pd.read_sql_query(sql_query_self_identified, nanohub_metrics_db)\n",
    "\n",
    "        self_identified_track.append(self_identified_users.drop_duplicates().shape[0])\n",
    "\n",
    "\n",
    "    print('start year: '+ str(start_year))"
   ]
  },
  {
   "cell_type": "code",
   "execution_count": null,
   "metadata": {
    "execution": {
     "iopub.status.busy": "2022-02-21T03:24:48.597966Z",
     "iopub.status.idle": "2022-02-21T03:24:48.598319Z",
     "shell.execute_reply": "2022-02-21T03:24:48.598162Z",
     "shell.execute_reply.started": "2022-02-21T03:24:48.598145Z"
    },
    "tags": []
   },
   "outputs": [],
   "source": [
    "## filter the self study folks against those of researchers\n",
    "# need to pull the researcher sf ids"
   ]
  },
  {
   "cell_type": "code",
   "execution_count": null,
   "metadata": {
    "execution": {
     "iopub.status.busy": "2022-02-21T03:24:48.598899Z",
     "iopub.status.idle": "2022-02-21T03:24:48.599164Z",
     "shell.execute_reply": "2022-02-21T03:24:48.599029Z",
     "shell.execute_reply.started": "2022-02-21T03:24:48.599015Z"
    },
    "tags": []
   },
   "outputs": [],
   "source": [
    "researcher_ids = rw_researchers['id'].to_list() + ns2_researchers['id'].to_list()\n",
    "print(len(researcher_ids))"
   ]
  },
  {
   "cell_type": "code",
   "execution_count": null,
   "metadata": {},
   "outputs": [],
   "source": []
  },
  {
   "cell_type": "code",
   "execution_count": null,
   "metadata": {
    "execution": {
     "iopub.status.busy": "2022-02-21T03:24:48.599775Z",
     "iopub.status.idle": "2022-02-21T03:24:48.600255Z",
     "shell.execute_reply": "2022-02-21T03:24:48.599913Z",
     "shell.execute_reply.started": "2022-02-21T03:24:48.599895Z"
    },
    "tags": []
   },
   "outputs": [],
   "source": [
    "bool_search2 = np.in1d(np.array(self_study_NH_ids.tolist()),np.array(researcher_ids))\n"
   ]
  },
  {
   "cell_type": "code",
   "execution_count": null,
   "metadata": {
    "execution": {
     "iopub.status.busy": "2022-02-21T03:24:48.602803Z",
     "iopub.status.idle": "2022-02-21T03:24:48.603370Z",
     "shell.execute_reply": "2022-02-21T03:24:48.603148Z",
     "shell.execute_reply.started": "2022-02-21T03:24:48.603124Z"
    },
    "tags": []
   },
   "outputs": [],
   "source": [
    "# Note, researchers can possibly be doubled counted within clusters!!\n",
    "# sf_researchers = np.where(bool_search2)[0].tolist() \n",
    "sf_self_study = np.where(~bool_search2)[0].tolist()\n",
    "print(len(sf_self_study))"
   ]
  },
  {
   "cell_type": "code",
   "execution_count": null,
   "metadata": {
    "execution": {
     "iopub.status.busy": "2022-02-21T03:24:48.604358Z",
     "iopub.status.idle": "2022-02-21T03:24:48.604747Z",
     "shell.execute_reply": "2022-02-21T03:24:48.604587Z",
     "shell.execute_reply.started": "2022-02-21T03:24:48.604569Z"
    }
   },
   "outputs": [],
   "source": [
    "bool_search2_2 = np.in1d(np.array(sf_self_study),np.array(self_identified_NH_ids.tolist()))\n",
    "sf_self_study = np.where(~bool_search2_2)[0].tolist()"
   ]
  },
  {
   "cell_type": "code",
   "execution_count": null,
   "metadata": {
    "execution": {
     "iopub.status.busy": "2022-02-21T03:24:48.608839Z",
     "iopub.status.idle": "2022-02-21T03:24:48.609177Z",
     "shell.execute_reply": "2022-02-21T03:24:48.609016Z",
     "shell.execute_reply.started": "2022-02-21T03:24:48.609000Z"
    },
    "tags": []
   },
   "outputs": [],
   "source": [
    "print(len(sf_self_study))\n",
    "print(len(self_study_NH_ids.to_list()))\n",
    "print(len(self_identified_NH_ids.to_list()))"
   ]
  },
  {
   "cell_type": "code",
   "execution_count": null,
   "metadata": {
    "execution": {
     "iopub.status.busy": "2022-02-21T03:24:48.611603Z",
     "iopub.status.idle": "2022-02-21T03:24:48.612100Z",
     "shell.execute_reply": "2022-02-21T03:24:48.611885Z",
     "shell.execute_reply.started": "2022-02-21T03:24:48.611867Z"
    },
    "tags": []
   },
   "outputs": [],
   "source": [
    "sf_contact_ids = contacts_df['nanoHUB_user_ID__c'][sf_self_study]"
   ]
  },
  {
   "cell_type": "code",
   "execution_count": null,
   "metadata": {
    "execution": {
     "iopub.status.busy": "2022-02-21T03:24:48.615178Z",
     "iopub.status.idle": "2022-02-21T03:24:48.615804Z",
     "shell.execute_reply": "2022-02-21T03:24:48.615545Z",
     "shell.execute_reply.started": "2022-02-21T03:24:48.615468Z"
    },
    "tags": []
   },
   "outputs": [],
   "source": [
    "sf_contact_ids = sf_contact_ids.reset_index()\n",
    "sf_contact_ids = sf_contact_ids.drop(columns='index')\n",
    "display(sf_contact_ids)"
   ]
  },
  {
   "cell_type": "code",
   "execution_count": null,
   "metadata": {
    "execution": {
     "iopub.status.busy": "2022-02-21T03:24:48.620232Z",
     "iopub.status.idle": "2022-02-21T03:24:48.620809Z",
     "shell.execute_reply": "2022-02-21T03:24:48.620547Z",
     "shell.execute_reply.started": "2022-02-21T03:24:48.620516Z"
    },
    "tags": []
   },
   "outputs": [],
   "source": [
    "tuple(sf_contact_ids['nanoHUB_user_ID__c'])[:5]"
   ]
  },
  {
   "cell_type": "code",
   "execution_count": null,
   "metadata": {
    "execution": {
     "iopub.status.busy": "2022-02-21T03:24:48.622469Z",
     "iopub.status.idle": "2022-02-21T03:24:48.622938Z",
     "shell.execute_reply": "2022-02-21T03:24:48.622727Z",
     "shell.execute_reply.started": "2022-02-21T03:24:48.622705Z"
    },
    "tags": []
   },
   "outputs": [],
   "source": [
    "tuple(self_study_NH_ids.dropna().to_list())[:5]"
   ]
  },
  {
   "cell_type": "code",
   "execution_count": null,
   "metadata": {
    "execution": {
     "iopub.status.busy": "2022-02-21T03:24:48.624711Z",
     "iopub.status.idle": "2022-02-21T03:24:48.625526Z",
     "shell.execute_reply": "2022-02-21T03:24:48.625068Z",
     "shell.execute_reply.started": "2022-02-21T03:24:48.625043Z"
    },
    "tags": []
   },
   "outputs": [],
   "source": [
    "## loading in toolstart"
   ]
  },
  {
   "cell_type": "code",
   "execution_count": null,
   "metadata": {
    "execution": {
     "iopub.status.busy": "2022-02-21T03:24:48.629203Z",
     "iopub.status.idle": "2022-02-21T03:24:48.629643Z",
     "shell.execute_reply": "2022-02-21T03:24:48.629403Z",
     "shell.execute_reply.started": "2022-02-21T03:24:48.629384Z"
    },
    "tags": []
   },
   "outputs": [],
   "source": [
    "# clustered user usernames\n",
    "tc_query = 'select id,username from jos_users where id in ' +str(tuple(clustered_NH_ids))\n",
    "clustered_NH_username = pd.read_sql_query(tc_query,nanohub_db)"
   ]
  },
  {
   "cell_type": "code",
   "execution_count": null,
   "metadata": {
    "execution": {
     "iopub.status.busy": "2022-02-21T03:24:48.631230Z",
     "iopub.status.idle": "2022-02-21T03:24:48.631642Z",
     "shell.execute_reply": "2022-02-21T03:24:48.631417Z",
     "shell.execute_reply.started": "2022-02-21T03:24:48.631401Z"
    },
    "tags": []
   },
   "outputs": [],
   "source": [
    "# self study user usernames\n",
    "ts_query = 'select id,username from jos_users where id in ' + str(tuple(self_study_NH_ids.dropna().to_list())) \n",
    "#sf_contact_ids['nanoHUB_user_ID__c']))\n",
    "ss_NH_username = pd.read_sql_query(ts_query,nanohub_db)"
   ]
  },
  {
   "cell_type": "code",
   "execution_count": null,
   "metadata": {
    "execution": {
     "iopub.status.busy": "2022-02-21T03:24:48.632373Z",
     "iopub.status.idle": "2022-02-21T03:24:48.632768Z",
     "shell.execute_reply": "2022-02-21T03:24:48.632598Z",
     "shell.execute_reply.started": "2022-02-21T03:24:48.632581Z"
    },
    "tags": []
   },
   "outputs": [],
   "source": [
    "## cache the researchers, self-study, and clustered users\n",
    "cache_r_nhid = pd.DataFrame()\n",
    "cache_r_nhid['nhid'] = researcher_ids\n",
    "\n",
    "cache_si_nhid = pd.DataFrame()\n",
    "cache_si_nhid['nhid'] = self_identified_NH_ids.to_list()\n",
    "\n",
    "cache_ss_nhid = pd.DataFrame()\n",
    "cache_ss_nhid['nhid'] = ss_NH_username['id']\n",
    "cache_ss_nhid['username'] = ss_NH_username['username']\n",
    "\n",
    "cache_c_nhid = pd.DataFrame()\n",
    "cache_c_nhid['nhid'] = clustered_NH_username['id']\n",
    "cache_c_nhid['username'] = clustered_NH_username['username']"
   ]
  },
  {
   "cell_type": "code",
   "execution_count": null,
   "metadata": {
    "execution": {
     "iopub.status.busy": "2022-02-21T03:24:48.634672Z",
     "iopub.status.idle": "2022-02-21T03:24:48.635012Z",
     "shell.execute_reply": "2022-02-21T03:24:48.634853Z",
     "shell.execute_reply.started": "2022-02-21T03:24:48.634836Z"
    },
    "tags": []
   },
   "outputs": [],
   "source": [
    "print(cache_r_nhid.head(2))\n",
    "print(cache_si_nhid.head(2))\n",
    "print(cache_ss_nhid.head(2))\n",
    "print(cache_c_nhid.head(2))"
   ]
  },
  {
   "cell_type": "code",
   "execution_count": null,
   "metadata": {
    "execution": {
     "iopub.status.busy": "2022-02-21T03:24:48.636472Z",
     "iopub.status.idle": "2022-02-21T03:24:48.636903Z",
     "shell.execute_reply": "2022-02-21T03:24:48.636634Z",
     "shell.execute_reply.started": "2022-02-21T03:24:48.636618Z"
    },
    "tags": []
   },
   "outputs": [],
   "source": [
    "cache_r_nhid.to_csv(cwd+'/cached_data/researcher_ids.csv')\n",
    "cache_si_nhid.to_csv(cwd+'/cached_data/self_identified_ids.csv')\n",
    "cache_ss_nhid.to_csv(cwd+'/cached_data/ss_ids.csv')\n",
    "cache_c_nhid.to_csv(cwd+'/cached_data/class_ids.csv')"
   ]
  },
  {
   "cell_type": "code",
   "execution_count": null,
   "metadata": {},
   "outputs": [],
   "source": []
  },
  {
   "cell_type": "code",
   "execution_count": null,
   "metadata": {
    "execution": {
     "iopub.status.busy": "2022-02-21T03:24:48.638455Z",
     "iopub.status.idle": "2022-02-21T03:24:48.638772Z",
     "shell.execute_reply": "2022-02-21T03:24:48.638635Z",
     "shell.execute_reply.started": "2022-02-21T03:24:48.638619Z"
    },
    "tags": []
   },
   "outputs": [],
   "source": [
    "# clustered_NH_username2;researcher_NH_username2;self_NH_username2\n",
    "clustered_track = []\n",
    "self_track = []\n",
    "\n",
    "# clustered_track_per = []\n",
    "# self_track_per = []\n",
    "# researcher_track_per = []"
   ]
  },
  {
   "cell_type": "code",
   "execution_count": null,
   "metadata": {
    "execution": {
     "iopub.status.busy": "2022-02-21T03:24:48.639821Z",
     "iopub.status.idle": "2022-02-21T03:24:48.640144Z",
     "shell.execute_reply": "2022-02-21T03:24:48.640003Z",
     "shell.execute_reply.started": "2022-02-21T03:24:48.639986Z"
    },
    "tags": []
   },
   "outputs": [],
   "source": [
    "ss_NH_username.shape #old"
   ]
  },
  {
   "cell_type": "code",
   "execution_count": null,
   "metadata": {},
   "outputs": [],
   "source": []
  },
  {
   "cell_type": "code",
   "execution_count": null,
   "metadata": {
    "execution": {
     "iopub.status.busy": "2022-02-21T03:24:48.641199Z",
     "iopub.status.idle": "2022-02-21T03:24:48.641497Z",
     "shell.execute_reply": "2022-02-21T03:24:48.641364Z",
     "shell.execute_reply.started": "2022-02-21T03:24:48.641349Z"
    },
    "tags": []
   },
   "outputs": [],
   "source": [
    "## computer has memory limits, so split toolstart into branches\n",
    "start_year = deepcopy(start_year_base)\n",
    "\n",
    "while start_year < today.year+1:\n",
    "    start_year += 1\n",
    "    \n",
    "    for i in range(1,13):\n",
    "        if i < 10:\n",
    "            start_date = r\"'\"+str(start_year-1)+r\"-0\"+str(i)+r\"-01'\"\n",
    "            end_date = r\"'\"+str(start_year)+r\"-0\"+str(i)+r\"-01'\"\n",
    "        else:\n",
    "            start_date = r\"'\"+str(start_year-1)+r\"-\"+str(i)+r\"-01'\"\n",
    "            end_date = r\"'\"+str(start_year)+r\"-\"+str(i)+r\"-01'\"\n",
    "        \n",
    "#         sql_query_clustered = \"select user from toolstart where user in \" + str(tuple(clustered_NH_username2['username']))\\\n",
    "#             +\" and datetime <= \"+end_date+\" and datetime >= \"+start_date\n",
    "        sql_query_clustered = \"select user from toolstart where user in \" + str(tuple(clustered_NH_username['username']))\\\n",
    "            +\" and datetime <= \"+end_date+\" and datetime >= \"+start_date\n",
    "        clustered_users = pd.read_sql_query(sql_query_clustered, nanohub_metrics_db)\n",
    "        \n",
    "#         sql_query_self = \"select user from toolstart where user in \" + str(tuple(self_NH_username2['username']))\\\n",
    "#             +\" and user != 'instanton' and user != 'gridstat' and datetime <= \"+end_date+\" and datetime >= \"+start_date\n",
    "        sql_query_self = \"select user from toolstart where user in \" + str(tuple(ss_NH_username['username']))\\\n",
    "            +\" and user != 'instanton' and user != 'gridstat' and datetime <= \"+end_date+\" and datetime >= \"+start_date\n",
    "        self_users = pd.read_sql_query(sql_query_self, nanohub_metrics_db) #engine_metrics #.drop_duplicates()\n",
    "        \n",
    "        clustered_track.append(clustered_users.drop_duplicates().shape[0])\n",
    "        self_track.append(self_users.drop_duplicates().shape[0])\n",
    "#         print('start_date: '+start_date)\n",
    "#         print('end_date: '+end_date)  \n",
    "    print('start year: '+str(start_year))"
   ]
  },
  {
   "cell_type": "code",
   "execution_count": null,
   "metadata": {},
   "outputs": [],
   "source": []
  },
  {
   "cell_type": "code",
   "execution_count": null,
   "metadata": {
    "execution": {
     "iopub.status.busy": "2022-02-21T03:24:48.642237Z",
     "iopub.status.idle": "2022-02-21T03:24:48.642585Z",
     "shell.execute_reply": "2022-02-21T03:24:48.642405Z",
     "shell.execute_reply.started": "2022-02-21T03:24:48.642389Z"
    },
    "tags": []
   },
   "outputs": [],
   "source": [
    "all_months_list = list()\n",
    "for this_year in range(start_year_base+1,today.year+2):\n",
    "    if cache_flag == True:\n",
    "        for this_month in range(1,today.month+1):\n",
    "            all_months_list.append(datetime.datetime(this_year, this_month, 1))\n",
    "    else:\n",
    "        for this_month in range(1,12+1):\n",
    "            all_months_list.append(datetime.datetime(this_year, this_month, 1))"
   ]
  },
  {
   "cell_type": "code",
   "execution_count": null,
   "metadata": {
    "execution": {
     "iopub.status.busy": "2022-02-21T03:24:48.644069Z",
     "iopub.status.idle": "2022-02-21T03:24:48.644379Z",
     "shell.execute_reply": "2022-02-21T03:24:48.644232Z",
     "shell.execute_reply.started": "2022-02-21T03:24:48.644218Z"
    },
    "tags": []
   },
   "outputs": [],
   "source": [
    "print(len(clustered_track))\n",
    "print(len(all_months_list))\n",
    "print(len(researcher_track))"
   ]
  },
  {
   "cell_type": "code",
   "execution_count": null,
   "metadata": {
    "execution": {
     "iopub.status.busy": "2022-02-21T03:24:48.646431Z",
     "iopub.status.idle": "2022-02-21T03:24:48.646772Z",
     "shell.execute_reply": "2022-02-21T03:24:48.646637Z",
     "shell.execute_reply.started": "2022-02-21T03:24:48.646622Z"
    },
    "tags": []
   },
   "outputs": [],
   "source": [
    "#print(user_breakdown_df2.head())"
   ]
  },
  {
   "cell_type": "code",
   "execution_count": null,
   "metadata": {
    "execution": {
     "iopub.status.busy": "2022-02-21T03:24:48.648800Z",
     "iopub.status.idle": "2022-02-21T03:24:48.649152Z",
     "shell.execute_reply": "2022-02-21T03:24:48.648967Z",
     "shell.execute_reply.started": "2022-02-21T03:24:48.648951Z"
    },
    "tags": []
   },
   "outputs": [],
   "source": [
    "\n",
    "if cache_flag == True:\n",
    "    user_breakdown_df2 = pd.DataFrame()\n",
    "    user_breakdown_df2['year_month'] = all_months_list\n",
    "    user_breakdown_df2['clustered_track'] = clustered_track\n",
    "    user_breakdown_df2['self_identified_track'] = self_identified_track\n",
    "    user_breakdown_df2['self_track'] = self_track\n",
    "    user_breakdown_df2['researcher_track'] = researcher_track\n",
    "    \n",
    "    user_breakdown_df = pd.concat([user_breakdown_df, user_breakdown_df2], ignore_index=True)\n",
    "    display(user_breakdown_df.head(2))\n",
    "else:\n",
    "    user_breakdown_df = pd.DataFrame()\n",
    "    if today.month == 12:\n",
    "        user_breakdown_df['year_month'] = all_months_list #months_bin['year_month'].to_list()[13:]\n",
    "        user_breakdown_df['clustered_track'] = clustered_track#[:len(all_months_list)]\n",
    "        user_breakdown_df2['self_identified_track'] = self_identified_track\n",
    "        user_breakdown_df['self_track'] = self_track#[:len(all_months_list)]\n",
    "        user_breakdown_df['researcher_track'] = researcher_track#[:len(all_months_list)]        \n",
    "    else:\n",
    "        user_breakdown_df['year_month'] = all_months_list #-(12-today.month)\n",
    "        user_breakdown_df['clustered_track'] = clustered_track#[:len(all_months_list[:])]\n",
    "        user_breakdown_df2['self_identified_track'] = self_identified_track\n",
    "        user_breakdown_df['self_track'] = self_track#[:len(all_months_list[:])]\n",
    "        user_breakdown_df['researcher_track'] = researcher_track#[:len(all_months_list[:])]\n",
    "    display(user_breakdown_df.head(2))"
   ]
  },
  {
   "cell_type": "code",
   "execution_count": null,
   "metadata": {
    "execution": {
     "iopub.status.busy": "2022-02-21T03:24:48.650005Z",
     "iopub.status.idle": "2022-02-21T03:24:48.650300Z",
     "shell.execute_reply": "2022-02-21T03:24:48.650168Z",
     "shell.execute_reply.started": "2022-02-21T03:24:48.650153Z"
    },
    "tags": []
   },
   "outputs": [],
   "source": [
    "# user_breakdown_df.to_csv(cwd+'/cached_data/temp.csv')"
   ]
  },
  {
   "cell_type": "code",
   "execution_count": null,
   "metadata": {
    "execution": {
     "iopub.status.busy": "2022-02-21T03:24:48.651350Z",
     "iopub.status.idle": "2022-02-21T03:24:48.651704Z",
     "shell.execute_reply": "2022-02-21T03:24:48.651513Z",
     "shell.execute_reply.started": "2022-02-21T03:24:48.651498Z"
    },
    "tags": []
   },
   "outputs": [],
   "source": [
    "import re"
   ]
  },
  {
   "cell_type": "code",
   "execution_count": null,
   "metadata": {
    "execution": {
     "iopub.status.busy": "2022-02-21T03:24:48.652740Z",
     "iopub.status.idle": "2022-02-21T03:24:48.653036Z",
     "shell.execute_reply": "2022-02-21T03:24:48.652903Z",
     "shell.execute_reply.started": "2022-02-21T03:24:48.652888Z"
    },
    "tags": []
   },
   "outputs": [],
   "source": [
    "## read the dev_flags.txt to determine where to save\n",
    "with open(cwd+'/dev_flags.txt','r') as f:\n",
    "    raw_flags = f.read()\n",
    "flag_pattern = re.compile(r'= \\w+')\n",
    "flags1 = re.findall(flag_pattern,raw_flags)    \n",
    "flags_result = [i[2:] for i in flags1]\n",
    "dev_flag = flags_result[0]\n",
    "prod_flag = flags_result[1]"
   ]
  },
  {
   "cell_type": "code",
   "execution_count": null,
   "metadata": {
    "execution": {
     "iopub.status.busy": "2022-02-21T03:24:48.655034Z",
     "iopub.status.idle": "2022-02-21T03:24:48.655326Z",
     "shell.execute_reply": "2022-02-21T03:24:48.655197Z",
     "shell.execute_reply.started": "2022-02-21T03:24:48.655182Z"
    },
    "tags": []
   },
   "outputs": [],
   "source": [
    "import seaborn as sns\n",
    "import matplotlib.pyplot as plt\n",
    "sns.set()\n",
    "sns.set_style(\"whitegrid\")\n",
    "\n",
    "plt.figure(figsize=(9,6))\n",
    "# user_breakdown_df2 = user_breakdown_df.iloc[:-(12-today.month),:]\n",
    "user_breakdown_df2 = user_breakdown_df.iloc[:-12-(12-today.month),:]\n",
    "plt.stackplot(user_breakdown_df2.year_month, \\\n",
    "#               user_breakdown_df2[['clustered_track','self_track']].to_numpy().T, \\\n",
    "#              labels=['Classroom', 'Unclassified'], \\\n",
    "#              colors=['green', 'orange']); #Self-study              \n",
    "              user_breakdown_df2[['clustered_track', 'researcher_track','self_identified_track','self_track']].to_numpy().T, \\\n",
    "             labels=['Classroom','Research', 'Unclassified'], \\\n",
    "             colors=['green', 'red', 'orange']); #Self-study\n",
    "\n",
    "plt.legend(loc='upper left')#,fontsize=14);\n",
    "plt.ylabel('12-month Trailing Total')#,fontsize=15)\n",
    "plt.xlim([datetime.datetime(2001,1,1), datetime.datetime(2021,7,1)])#,fontsize=15)\n",
    "# plt.show()\n",
    "\n",
    "if dev_flag == 'True':\n",
    "    plt.savefig(cwd+'/plots_local/300_simusers_class_res_unclass_12months_with_self_identified.eps', dpi=300, bbox_inches='tight')\n",
    "    plt.savefig(cwd+'/plots_local/300_simusers_class_res_unclass_12months_with_self_identified.pdf', dpi=300, bbox_inches='tight')\n",
    "    plt.savefig(cwd+'/plots_local/300_simusers_class_res_unclass_12months_with_self_identified.png', dpi=300, bbox_inches='tight')\n",
    "elif prod_flag == 'True':\n",
    "    plt.savefig(cwd+'/plots_production/300_simusers_class_res_unclass_12months_with_self_identified.eps', dpi=300, bbox_inches='tight')\n",
    "    plt.savefig(cwd+'/plots_production/300_simusers_class_res_unclass_12months_with_self_identified.pdf', dpi=300, bbox_inches='tight')\n",
    "    plt.savefig(cwd+'/plots_production/300_simusers_class_res_unclass_12months_with_self_identified.png', dpi=300, bbox_inches='tight')\n",
    "else:\n",
    "    print('no printing flag is active')"
   ]
  },
  {
   "cell_type": "code",
   "execution_count": null,
   "metadata": {
    "execution": {
     "iopub.status.busy": "2022-02-21T03:24:48.656281Z",
     "iopub.status.idle": "2022-02-21T03:24:48.656604Z",
     "shell.execute_reply": "2022-02-21T03:24:48.656439Z",
     "shell.execute_reply.started": "2022-02-21T03:24:48.656424Z"
    },
    "tags": []
   },
   "outputs": [],
   "source": [
    "total = user_breakdown_df2['clustered_track'].to_numpy()+user_breakdown_df2['researcher_track'].to_numpy()+\\\n",
    "                        user_breakdown_df2['self_track'].to_numpy() + user_breakdown_df2['self_identified_track'].to_numpy()\n",
    "display(len(total))\n",
    "user_breakdown_df2['clustered_track_per'] = 100*np.divide(user_breakdown_df2['clustered_track'],total)\n",
    "user_breakdown_df2['self_identified_track_per'] = 100*np.divide(user_breakdown_df2['self_identified_track'], total)\n",
    "user_breakdown_df2['researcher_track_per'] = 100*np.divide(user_breakdown_df2['researcher_track'], total)\n",
    "user_breakdown_df2['self_track_per'] = 100*np.divide(user_breakdown_df2['self_track'], total)"
   ]
  },
  {
   "cell_type": "code",
   "execution_count": null,
   "metadata": {
    "execution": {
     "iopub.status.busy": "2022-02-21T03:24:48.657493Z",
     "iopub.status.idle": "2022-02-21T03:24:48.657787Z",
     "shell.execute_reply": "2022-02-21T03:24:48.657655Z",
     "shell.execute_reply.started": "2022-02-21T03:24:48.657640Z"
    },
    "tags": []
   },
   "outputs": [],
   "source": [
    "plt.figure(figsize=(9,6))\n",
    "plt.plot(user_breakdown_df2.year_month, user_breakdown_df2.clustered_track_per, label='classroom', \\\n",
    "             color='green');\n",
    "plt.plot(user_breakdown_df2.year_month, user_breakdown_df2.researcher_track_per, label='research', \\\n",
    "             color='red');\n",
    "plt.plot(user_breakdown_df2.year_month, user_breakdown_df2.self_identified_track_per, label='self-identified', \\\n",
    "             color='magenta');\n",
    "plt.plot(user_breakdown_df2.year_month, user_breakdown_df2.self_track_per, label='self-study', \\\n",
    "             color='orange');\n",
    "\n",
    "plt.ylim([0, 100])\n",
    "plt.legend(loc='upper right');\n",
    "plt.ylabel('Percentage (%)');\n",
    "plt.xlim([datetime.datetime(2001,1,1), datetime.datetime(2021,7,1)])\n",
    "# plt.show()\n",
    "\n",
    "if dev_flag == 'True':\n",
    "    plt.savefig(cwd+'/plots_local/300_simusers_class_res_unclass_12months_percent_self_identified.eps', dpi=300, bbox_inches='tight')\n",
    "    plt.savefig(cwd+'/plots_local/300_simusers_class_res_unclass_12months_percent_self_identified.pdf', dpi=300, bbox_inches='tight')\n",
    "    plt.savefig(cwd+'/plots_local/300_simusers_class_res_unclass_12months_percent_self_identified.png', dpi=300, bbox_inches='tight')\n",
    "elif prod_flag == 'True':\n",
    "    plt.savefig(cwd+'/plots_production/300_simusers_class_res_unclass_12months_percent_self_identified.eps', dpi=300, bbox_inches='tight')\n",
    "    plt.savefig(cwd+'/plots_production/300_simusers_class_res_unclass_12months_percent_self_identified.pdf', dpi=300, bbox_inches='tight')\n",
    "    plt.savefig(cwd+'/plots_production/300_simusers_class_res_unclass_12months_percent_self_identified.png', dpi=300, bbox_inches='tight')\n",
    "else:\n",
    "    print('no printing flag is active')"
   ]
  },
  {
   "cell_type": "code",
   "execution_count": null,
   "metadata": {
    "execution": {
     "iopub.status.busy": "2022-02-21T03:24:48.659639Z",
     "iopub.status.idle": "2022-02-21T03:24:48.659991Z",
     "shell.execute_reply": "2022-02-21T03:24:48.659855Z",
     "shell.execute_reply.started": "2022-02-21T03:24:48.659839Z"
    },
    "tags": []
   },
   "outputs": [],
   "source": [
    "user_breakdown_df2.to_csv(cwd+'/cached_data/nh_user_breakdown.csv')"
   ]
  },
  {
   "cell_type": "code",
   "execution_count": null,
   "metadata": {},
   "outputs": [],
   "source": []
  },
  {
   "cell_type": "code",
   "execution_count": null,
   "metadata": {},
   "outputs": [],
   "source": []
  },
  {
   "cell_type": "code",
   "execution_count": null,
   "metadata": {},
   "outputs": [],
   "source": []
  }
 ],
 "metadata": {
  "kernelspec": {
   "display_name": "Python 3 (ipykernel)",
   "language": "python",
   "name": "python3"
  },
  "language_info": {
   "codemirror_mode": {
    "name": "ipython",
    "version": 3
   },
   "file_extension": ".py",
   "mimetype": "text/x-python",
   "name": "python",
   "nbconvert_exporter": "python",
   "pygments_lexer": "ipython3",
   "version": "3.8.10"
  }
 },
 "nbformat": 4,
 "nbformat_minor": 4
}
