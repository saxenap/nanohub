{
 "cells": [
  {
   "cell_type": "code",
   "execution_count": 71,
   "id": "e295b39b-f534-4420-8d21-deb9df55f921",
   "metadata": {},
   "outputs": [
    {
     "data": {
      "text/html": [
       "<h1 style = \"text-align:center;\"> NanoHUB Annual Report Data </h1>\n",
       "<p> This webpage shows the latest information about nanoHUB's evolution in a variety of different areas.\n",
       "These different areas include data on nanoHUB's adoption in collegiate-level institutions, number of users overtime,\n",
       "the main reasons nanoHUB is used, and areas of the world where nanoHUB usage is at an all-time high.To get started, please \n",
       "click on one of the specific areas with which nanoHUB has collected data on.</p>\n",
       "\n",
       "<ul>\n",
       "     <li> <a href=\"Institution\"> Institution Data (How nanoHUB has been used in the classroom) </a> </li>\n",
       "    <li> <a href=\"User Growth\"> User Growth (How nanoHUB has grown, main reason of usage, locations of popularity) </li> </a>\n",
       "\n",
       "</ul>\n",
       "<br>\n",
       "\n",
       "<div>\n",
       "<h3 id=\"Institution\" style =\"text-align:center;\"> Institution Data </h3>\n",
       "<p> The following describes how many new institutions liked and adopted nanoHUB's services from 2019 to 2020. </p>\n",
       "<img style=\"width:50%;float:left;\" src = \"./Institutions.png\">\n",
       "<img style=\"width:50%; float:right;\" src = \"./Institutions 2.png\">\n",
       "<img style=\"width:50%;float:left;\" src = \"./UniquePlaces.png\">\n",
       "<img style=\"width:50%; float:right;\" src = \"./Institutions 2.png\">\n",
       "<img style=\"width:50%; float:right;\" src = \"./FWSum.png\">\n",
       "<img style=\"width:50%;float:left;\" src = \"./FWTrailing.png\">\n",
       "\n",
       "</div>\n",
       "\n",
       "\n",
       "<div>\n",
       "&nbsp\n",
       "&nbsp\n",
       "<h3 id=\"User Growth\" style =\"text-align:center;padding-top:30px;\"> User Growth </h3>\n",
       "<p> The following graphs describes how NanoHUB's popularity has increased and examines this popularity increase\n",
       "in the context of usage purposes and locations of most common usage. </p>\n",
       "<img style=\"width:50%;float:left;\" src = \"./overall_user_growth_legend.png\">\n",
       "<img style=\"width:50%;float:right\" src = \"./UsagePurposes.png\">\n",
       "<img style=\"width:50%;float:left\" src = \"./AdditionalUsageTrends.png\">\n",
       "<img style=\"width:50%;float:left\" src = \"./Locations.png\">\n",
       "</div>\n"
      ],
      "text/plain": [
       "<IPython.core.display.HTML object>"
      ]
     },
     "metadata": {},
     "output_type": "display_data"
    }
   ],
   "source": [
    "%%HTML\n",
    "<h1 style = \"text-align:center;\"> NanoHUB Annual Report Data </h1>\n",
    "<p> This webpage shows the latest information about nanoHUB's evolution in a variety of different areas.\n",
    "These different areas include data on nanoHUB's adoption in collegiate-level institutions, number of users overtime,\n",
    "the main reasons nanoHUB is used, and areas of the world where nanoHUB usage is at an all-time high.To get started, please \n",
    "click on one of the specific areas with which nanoHUB has collected data on.</p>\n",
    "\n",
    "<ul>\n",
    "     <li> <a href=\"Institution\"> Institution Data (How nanoHUB has been used in the classroom) </a> </li>\n",
    "    <li> <a href=\"User Growth\"> User Growth (How nanoHUB has grown, main reason of usage, locations of popularity) </li> </a>\n",
    "\n",
    "</ul>\n",
    "<br>\n",
    "\n",
    "<div>\n",
    "<h3 id=\"Institution\" style =\"text-align:center;\"> Institution Data </h3>\n",
    "<p> The following describes how many new institutions liked and adopted nanoHUB's services from 2019 to 2020. </p>\n",
    "<img style=\"width:50%;float:left;\" src = \"./Institutions.png\">\n",
    "<img style=\"width:50%; float:right;\" src = \"./Institutions 2.png\">\n",
    "<img style=\"width:50%;float:left;\" src = \"./UniquePlaces.png\">\n",
    "<img style=\"width:50%; float:right;\" src = \"./Institutions 2.png\">\n",
    "<img style=\"width:50%; float:right;\" src = \"./FWSum.png\">\n",
    "<img style=\"width:50%;float:left;\" src = \"./FWTrailing.png\">\n",
    "\n",
    "</div>\n",
    "\n",
    "\n",
    "<div>\n",
    "&nbsp\n",
    "&nbsp\n",
    "<h3 id=\"User Growth\" style =\"text-align:center;padding-top:30px;\"> User Growth </h3>\n",
    "<p> The following graphs describes how NanoHUB's popularity has increased and examines this popularity increase\n",
    "in the context of usage purposes and locations of most common usage. </p>\n",
    "<img style=\"width:50%;float:left;\" src = \"./overall_user_growth_legend.png\">\n",
    "<img style=\"width:50%;float:right\" src = \"./UsagePurposes.png\">\n",
    "<img style=\"width:50%;float:left\" src = \"./AdditionalUsageTrends.png\">\n",
    "<img style=\"width:50%;float:left\" src = \"./Locations.png\">\n",
    "</div>\n"
   ]
  },
  {
   "cell_type": "code",
   "execution_count": null,
   "id": "1cf63e62-11ce-402a-b96f-6ffd314dffa3",
   "metadata": {},
   "outputs": [],
   "source": []
  },
  {
   "cell_type": "code",
   "execution_count": null,
   "id": "4c86b43e-374d-4f33-b6c9-876dfc8b3c7b",
   "metadata": {},
   "outputs": [],
   "source": []
  }
 ],
 "metadata": {
  "kernelspec": {
   "display_name": "Python 3 (ipykernel)",
   "language": "python",
   "name": "python3"
  },
  "language_info": {
   "codemirror_mode": {
    "name": "ipython",
    "version": 3
   },
   "file_extension": ".py",
   "mimetype": "text/x-python",
   "name": "python",
   "nbconvert_exporter": "python",
   "pygments_lexer": "ipython3",
   "version": "3.8.10"
  }
 },
 "nbformat": 4,
 "nbformat_minor": 5
}
