{
 "cells": [
  {
   "cell_type": "code",
   "execution_count": 1,
   "id": "5cb54166-68f6-489a-b427-7b317fc104b4",
   "metadata": {
    "execution": {
     "iopub.execute_input": "2021-12-09T21:16:42Z",
     "iopub.status.busy": "2021-12-09T21:16:42Z",
     "iopub.status.idle": "2021-12-09T21:16:42Z",
     "shell.execute_reply": "2021-12-09T21:16:42Z"
    },
    "tags": []
   },
   "outputs": [],
   "source": [
    "function test_execute_query(mysqli $connection, string $query = \"SELECT registerDate, username FROM nanohub.jos_users LIMIT 10;\") \n",
    "{\n",
    "    $result = $connection->query($query);\n",
    "    while ($row = $result->fetch_row()) {\n",
    "        print_r($row);\n",
    "    }\n",
    "}"
   ]
  },
  {
   "cell_type": "code",
   "execution_count": 2,
   "id": "284d9229-c8b4-465e-a243-02ddf32c71b0",
   "metadata": {
    "execution": {
     "iopub.execute_input": "2021-12-09T21:16:42Z",
     "iopub.status.busy": "2021-12-09T21:16:42Z",
     "iopub.status.idle": "2021-12-09T21:16:42Z",
     "shell.execute_reply": "2021-12-09T21:16:42Z"
    },
    "tags": []
   },
   "outputs": [],
   "source": [
    "class ConnectionConfig \n",
    "{\n",
    "    public $username;\n",
    "    public $password;\n",
    "    public $hostname;\n",
    "    public $port;\n",
    "    \n",
    "    public function __construct(\n",
    "        string $username, string $password, string $hostname, int $port\n",
    "    )\n",
    "    {\n",
    "        $this->username = $username;\n",
    "        $this->password = $password;\n",
    "        $this->hostname = $hostname;\n",
    "        $this->port = $port;\n",
    "    }\n",
    "}"
   ]
  },
  {
   "cell_type": "code",
   "execution_count": 3,
   "id": "47f785ee-5c05-4f58-afc9-adc706e506ed",
   "metadata": {
    "execution": {
     "iopub.execute_input": "2021-12-09T21:16:42Z",
     "iopub.status.busy": "2021-12-09T21:16:42Z",
     "iopub.status.idle": "2021-12-09T21:16:42Z",
     "shell.execute_reply": "2021-12-09T21:16:42Z"
    },
    "tags": []
   },
   "outputs": [],
   "source": [
    "interface IMySqliConnection\n",
    "{\n",
    "    public function new_connection(ConnectionConfig $mysql_config);\n",
    "}\n",
    "\n",
    "class TunneledMySqliConnection implements IMySqliConnection\n",
    "{\n",
    "    public $ssh_config;\n",
    "    public $local_port;\n",
    "    \n",
    "    public function __construct(\n",
    "        ConnectionConfig $ssh_config, int $local_port = 3307\n",
    "    )\n",
    "    {\n",
    "        $this->ssh_config = $ssh_config;\n",
    "        $this->local_port = $local_port;\n",
    "    }\n",
    "    \n",
    "    public function new_connection(ConnectionConfig $mysql_config)\n",
    "    {    \n",
    "        \n",
    "        $ssh_connection_string = sprintf(\n",
    "            \"sshpass -p '%s' ssh -vfN -o 'StrictHostKeyChecking=no' -L %s:%s:%d %s@%s \", \n",
    "            $this->ssh_config->password, \n",
    "            $this->local_port,\n",
    "            $mysql_config->hostname, \n",
    "            $mysql_config->port,\n",
    "            $this->ssh_config->username,\n",
    "            $this->ssh_config->hostname\n",
    "        );\n",
    "        \n",
    "        shell_exec($ssh_connection_string);\n",
    "        usleep(1000);\n",
    "        \n",
    "        mysqli_report(MYSQLI_REPORT_ERROR | MYSQLI_REPORT_STRICT);\n",
    "        return mysqli_connect(\n",
    "            $mysql_config->hostname, \n",
    "            $mysql_config->username,\n",
    "            $mysql_config->password, \n",
    "            '',\n",
    "            $this->local_port\n",
    "        );\n",
    "    }\n",
    "}\n",
    "\n",
    "class TunneledMySqliConnectionFactory\n",
    "{\n",
    "    static public function create_from_environment(int $local_port = 3307)\n",
    "    {\n",
    "        $ssh_config = new ConnectionConfig(\n",
    "            getenv('tunnel_ssh_username'),\n",
    "            getenv('tunnel_ssh_password'),\n",
    "            getenv('tunnel_ssh_host'),\n",
    "            getenv('tunnel_ssh_port')\n",
    "        );\n",
    "        \n",
    "        $connection = new TunneledMySqliConnection($ssh_config, $local_port);\n",
    "        \n",
    "        $mysql_config = new ConnectionConfig(\n",
    "            getenv('db_user'),\n",
    "            getenv('db_password'),\n",
    "            getenv('db_host'),\n",
    "            getenv('tunnel_remote_bind_port')\n",
    "        );\n",
    "        \n",
    "        return $connection->new_connection($mysql_config);\n",
    "    }\n",
    "    \n",
    "}"
   ]
  },
  {
   "cell_type": "code",
   "execution_count": 6,
   "id": "63a94789-990b-4a89-a037-d7895c01ec6b",
   "metadata": {
    "execution": {
     "iopub.execute_input": "2021-12-09T21:17:03Z",
     "iopub.status.busy": "2021-12-09T21:17:03Z",
     "iopub.status.idle": "2021-12-09T21:17:03Z",
     "shell.execute_reply": "2021-12-09T21:17:03Z"
    },
    "tags": []
   },
   "outputs": [
    {
     "data": {
      "text/plain": [
       "Array\n",
       "(\n",
       "    [0] => 2014-11-13 21:09:09\n",
       "    [1] => hubrepo\n",
       ")\n",
       "\n"
      ]
     },
     "execution_count": 6,
     "metadata": {},
     "output_type": "execute_result"
    },
    {
     "data": {
      "text/plain": [
       "Array\n",
       "(\n",
       "    [0] => \n",
       "    [1] => admin\n",
       ")\n",
       "\n"
      ]
     },
     "execution_count": 6,
     "metadata": {},
     "output_type": "execute_result"
    },
    {
     "data": {
      "text/plain": [
       "Array\n",
       "(\n",
       "    [0] => 2008-11-19 22:51:04\n",
       "    [1] => support\n",
       ")\n",
       "\n"
      ]
     },
     "execution_count": 6,
     "metadata": {},
     "output_type": "execute_result"
    },
    {
     "data": {
      "text/plain": [
       "Array\n",
       "(\n",
       "    [0] => 2008-11-18 17:29:56\n",
       "    [1] => gridstat\n",
       ")\n",
       "\n"
      ]
     },
     "execution_count": 6,
     "metadata": {},
     "output_type": "execute_result"
    },
    {
     "data": {
      "text/plain": [
       "Array\n",
       "(\n",
       "    [0] => 2008-11-11 19:17:04\n",
       "    [1] => ncn\n",
       ")\n",
       "\n"
      ]
     },
     "execution_count": 6,
     "metadata": {},
     "output_type": "execute_result"
    },
    {
     "data": {
      "text/plain": [
       "Array\n",
       "(\n",
       "    [0] => 2014-06-26 19:38:57\n",
       "    [1] => nanohub\n",
       ")\n",
       "\n"
      ]
     },
     "execution_count": 6,
     "metadata": {},
     "output_type": "execute_result"
    },
    {
     "data": {
      "text/plain": [
       "Array\n",
       "(\n",
       "    [0] => 2007-11-13 20:22:04\n",
       "    [1] => repo\n",
       ")\n",
       "\n"
      ]
     },
     "execution_count": 6,
     "metadata": {},
     "output_type": "execute_result"
    },
    {
     "data": {
      "text/plain": [
       "Array\n",
       "(\n",
       "    [0] => 2007-08-30 15:17:04\n",
       "    [1] => violin\n",
       ")\n",
       "\n"
      ]
     },
     "execution_count": 6,
     "metadata": {},
     "output_type": "execute_result"
    },
    {
     "data": {
      "text/plain": [
       "Array\n",
       "(\n",
       "    [0] => 2000-01-11 17:10:00\n",
       "    [1] => mireles\n",
       ")\n",
       "\n"
      ]
     },
     "execution_count": 6,
     "metadata": {},
     "output_type": "execute_result"
    },
    {
     "data": {
      "text/plain": [
       "Array\n",
       "(\n",
       "    [0] => 2000-07-05 07:07:09\n",
       "    [1] => k_dadesh\n",
       ")\n",
       "\n"
      ]
     },
     "execution_count": 6,
     "metadata": {},
     "output_type": "execute_result"
    },
    {
     "data": {
      "text/plain": [
       "null"
      ]
     },
     "execution_count": 6,
     "metadata": {},
     "output_type": "execute_result"
    }
   ],
   "source": [
    "$connection = TunneledMySqliConnectionFactory::create_from_environment(3318);\n",
    "\n",
    "test_execute_query($connection);"
   ]
  },
  {
   "cell_type": "code",
   "execution_count": null,
   "id": "2ee5264a-5265-4797-b1e9-b3ed808f106b",
   "metadata": {},
   "outputs": [],
   "source": []
  },
  {
   "cell_type": "code",
   "execution_count": 6,
   "id": "efb1f89b-e90f-4aa5-a00e-b00154e0aefe",
   "metadata": {
    "execution": {
     "iopub.execute_input": "2021-12-09T20:56:01Z",
     "iopub.status.busy": "2021-12-09T20:56:01Z",
     "iopub.status.idle": "2021-12-09T20:56:01Z",
     "shell.execute_reply": "2021-12-09T20:56:01Z"
    },
    "tags": []
   },
   "outputs": [
    {
     "data": {
      "text/plain": [
       "Array\n",
       "(\n",
       "    [0] => 2014-11-13 21:09:09\n",
       "    [1] => hubrepo\n",
       ")\n",
       "\n"
      ]
     },
     "execution_count": 6,
     "metadata": {},
     "output_type": "execute_result"
    },
    {
     "data": {
      "text/plain": [
       "Array\n",
       "(\n",
       "    [0] => \n",
       "    [1] => admin\n",
       ")\n",
       "\n"
      ]
     },
     "execution_count": 6,
     "metadata": {},
     "output_type": "execute_result"
    },
    {
     "data": {
      "text/plain": [
       "Array\n",
       "(\n",
       "    [0] => 2008-11-19 22:51:04\n",
       "    [1] => support\n",
       ")\n",
       "\n"
      ]
     },
     "execution_count": 6,
     "metadata": {},
     "output_type": "execute_result"
    },
    {
     "data": {
      "text/plain": [
       "Array\n",
       "(\n",
       "    [0] => 2008-11-18 17:29:56\n",
       "    [1] => gridstat\n",
       ")\n",
       "\n"
      ]
     },
     "execution_count": 6,
     "metadata": {},
     "output_type": "execute_result"
    },
    {
     "data": {
      "text/plain": [
       "Array\n",
       "(\n",
       "    [0] => 2008-11-11 19:17:04\n",
       "    [1] => ncn\n",
       ")\n",
       "\n"
      ]
     },
     "execution_count": 6,
     "metadata": {},
     "output_type": "execute_result"
    },
    {
     "data": {
      "text/plain": [
       "Array\n",
       "(\n",
       "    [0] => 2014-06-26 19:38:57\n",
       "    [1] => nanohub\n",
       ")\n",
       "\n"
      ]
     },
     "execution_count": 6,
     "metadata": {},
     "output_type": "execute_result"
    },
    {
     "data": {
      "text/plain": [
       "Array\n",
       "(\n",
       "    [0] => 2007-11-13 20:22:04\n",
       "    [1] => repo\n",
       ")\n",
       "\n"
      ]
     },
     "execution_count": 6,
     "metadata": {},
     "output_type": "execute_result"
    },
    {
     "data": {
      "text/plain": [
       "Array\n",
       "(\n",
       "    [0] => 2007-08-30 15:17:04\n",
       "    [1] => violin\n",
       ")\n",
       "\n"
      ]
     },
     "execution_count": 6,
     "metadata": {},
     "output_type": "execute_result"
    },
    {
     "data": {
      "text/plain": [
       "Array\n",
       "(\n",
       "    [0] => 2000-01-11 17:10:00\n",
       "    [1] => mireles\n",
       ")\n",
       "\n"
      ]
     },
     "execution_count": 6,
     "metadata": {},
     "output_type": "execute_result"
    },
    {
     "data": {
      "text/plain": [
       "Array\n",
       "(\n",
       "    [0] => 2000-07-05 07:07:09\n",
       "    [1] => k_dadesh\n",
       ")\n",
       "\n"
      ]
     },
     "execution_count": 6,
     "metadata": {},
     "output_type": "execute_result"
    }
   ],
   "source": [
    "$local_port = \"3307\";\n",
    "// $tunnel = sprintf(\n",
    "//     \"nohup python -m sshtunnel -U saxenap -P %s -L :%s -R 127.0.0.1:3306 -p 22 db2.nanohub.org\",\n",
    "//     getenv('tunnel_ssh_password'),\n",
    "//     $local_port\n",
    "// );\n",
    "$tunnel = sprintf(\n",
    "    \"sshpass -p '%s' ssh -vfN -o 'StrictHostKeyChecking=no' -L %s:%s:%d %s@%s \", \n",
    "    getenv('tunnel_ssh_password'), \n",
    "    $local_port,\n",
    "    getenv('tunnel_remote_bind_address'), \n",
    "    getenv('tunnel_remote_bind_port'),\n",
    "    getenv('tunnel_ssh_username'),\n",
    "    getenv('tunnel_ssh_host')\n",
    ");\n",
    "$ssh_result = shell_exec($tunnel);\n",
    "print_r($ssh_result);\n",
    "\n",
    "// $connection = ssh2_connect(getenv('tunnel_ssh_host'), getenv('tunnel_ssh_port'));\n",
    "// ssh2_auth_password($connection, getenv('tunnel_ssh_username'), getenv('tunnel_ssh_password'));\n",
    "// ssh2_tunnel($connection, '127.0.0.1', 3306);\n",
    "\n",
    "\n",
    "\n",
    "mysqli_report(MYSQLI_REPORT_ERROR | MYSQLI_REPORT_STRICT);\n",
    "$db_connection = mysqli_connect(\n",
    "    '127.0.0.1', \n",
    "    'saxenap_ro',\n",
    "    getenv('db_password'), \n",
    "    'nanohub',\n",
    "    $local_port\n",
    ");\n",
    "\n",
    "// $dsn = sprintf('mysql:host=%s;port=%s;dbname=nanohub', getenv('db_host'), $local_port);\n",
    "// $db_connection = new PDO($dsn, 'saxenap_ro', getenv('db_password'));\n",
    "\n",
    "\n",
    "$query = \"SELECT registerDate, username FROM nanohub.jos_users LIMIT 10;\";\n",
    "$result = $db_connection->query($query);\n",
    "while ($row = $result->fetch_row()) {\n",
    "    print_r($row);\n",
    "}"
   ]
  },
  {
   "cell_type": "code",
   "execution_count": null,
   "id": "e803e4e6-13be-4608-96f5-776ee42e9eb1",
   "metadata": {},
   "outputs": [],
   "source": []
  },
  {
   "cell_type": "code",
   "execution_count": 3,
   "id": "ec94e512-18c0-4e95-a008-6175ce24679d",
   "metadata": {
    "execution": {
     "iopub.execute_input": "2021-12-09T16:49:04Z",
     "iopub.status.busy": "2021-12-09T16:49:04Z",
     "iopub.status.idle": "2021-12-09T16:49:04Z",
     "shell.execute_reply": "2021-12-09T16:49:04Z"
    }
   },
   "outputs": [],
   "source": [
    "// $ssh['username'] = getenv('tunnel_ssh_username');\n",
    "// $ssh['password'] = getenv('tunnel_ssh_password');\n",
    "// $ssh['hostname'] = getenv('tunnel_ssh_host');\n",
    "// $ssh['port'] = getenv('tunnel_ssh_port');\n",
    "\n",
    "// $mysql['username'] = getenv('db_user');\n",
    "// $mysql['password'] = getenv('db_password');\n",
    "// $mysql['hostname'] = getenv('db_host');\n",
    "// $mysql['port'] = getenv('tunnel_remote_bind_port');"
   ]
  },
  {
   "cell_type": "code",
   "execution_count": 4,
   "id": "4c588140-5095-405a-a64c-44dc727486c9",
   "metadata": {
    "execution": {
     "iopub.execute_input": "2021-12-09T16:49:04Z",
     "iopub.status.busy": "2021-12-09T16:49:04Z",
     "iopub.status.idle": "2021-12-09T16:49:04Z",
     "shell.execute_reply": "2021-12-09T16:49:04Z"
    },
    "tags": []
   },
   "outputs": [
    {
     "data": {
      "text/plain": [
       "\u001b[33;1mPHP Warning:  ssh2_exec() expects parameter 1 to be resource, object given in /home/saxenap/.jupyter-php/pkgs/vendor/litipk/jupyter-php/src/Actions/ExecuteAction.php(115) : eval()'d code on line 4\u001b[39;22m"
      ]
     },
     "execution_count": 4,
     "metadata": {},
     "output_type": "execute_result"
    }
   ],
   "source": [
    "$query = 'SELECT * FROM nanohub.jos_faq';\n",
    "\n",
    "$ssh_query ='ssh -L 3307:' . getenv('tunnel_ssh_host').':' . getenv('tunnel_remote_bind_port').'; \n",
    "echo \"' . str_replace( '\"', '\\'', stripslashes( $query ) ) . '\" | mysql -u '.getenv('db_user').' -h '.getenv('db_host').' --password='.getenv('db_password');\n",
    "\n",
    "$response = ssh2_exec($connection, $ssh_query);\n",
    "$error_response = ssh2_fetch_stream($response, SSH2_STREAM_STDERR);\n",
    "print_r(stream_get_contents($error_response));\n",
    "\n",
    "stream_set_blocking($response, true);\n",
    "stream_set_blocking($error_response, true);\n",
    "\n",
    "$results = stream_get_contents($response);\n",
    "if (is_null($results ))\n",
    "    echo \"Empty response/result\";\n",
    "\n",
    "else \n",
    "    print_r($results);\n",
    "\n",
    "ssh2_disconnect ( $connection );"
   ]
  }
 ],
 "metadata": {
  "kernelspec": {
   "display_name": "PHP",
   "language": "php",
   "name": "jupyter-php"
  },
  "language_info": {
   "file_extension": ".php",
   "mimetype": "text/x-php",
   "name": "PHP",
   "pygments_lexer": "PHP",
   "version": "7.4.3"
  }
 },
 "nbformat": 4,
 "nbformat_minor": 5
}
