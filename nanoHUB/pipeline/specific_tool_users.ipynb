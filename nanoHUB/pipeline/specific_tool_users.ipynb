{
 "cells": [
  {
   "cell_type": "code",
   "execution_count": 4,
   "id": "e7f526a1-53e8-4f08-b632-99453e045537",
   "metadata": {
    "execution": {
     "iopub.execute_input": "2022-06-23T17:12:38.239001Z",
     "iopub.status.busy": "2022-06-23T17:12:38.238578Z",
     "iopub.status.idle": "2022-06-23T17:12:43.088292Z",
     "shell.execute_reply": "2022-06-23T17:12:43.074902Z",
     "shell.execute_reply.started": "2022-06-23T17:12:38.238969Z"
    },
    "tags": []
   },
   "outputs": [],
   "source": [
    "import pandas as pd\n",
    "import numpy as np\n",
    "import time\n",
    "import datetime\n",
    "import os\n",
    "from pprint import pprint\n",
    "from nanoHUB.application import Application\n",
    "from nanoHUB.configuration import ClusteringConfiguration\n",
    "from nanoHUB.pipeline.geddes.data import get_default_s3_client\n",
    "from nanoHUB.dataaccess.lake import S3FileMapper\n",
    "\n",
    "# logger.debug('Testing')\n",
    "application = Application.get_instance()\n",
    "nanohub_db = application.new_db_engine('nanohub')\n",
    "nanohub_metrics_db = application.new_db_engine('nanohub_metrics')\n",
    "\n",
    "from nanoHUB.clustering.infra import get_mike_only_clustered_users, get_xufeng_only_clustered_users, get_mike_xufeng_clustered_users\n",
    "from nanoHUB.clustering.infra import create_clusters_repository, add_cluster_info, get_all_clustered_users, get_all_self_study_users, get_all_self_identified_users\n",
    "from nanoHUB.dataaccess.lake import new_session_lifetime_calculator\n",
    "application = Application.get_instance('DEBUG')\n"
   ]
  },
  {
   "cell_type": "markdown",
   "id": "a011fff8-408d-4843-9f4c-080dd93e6a6d",
   "metadata": {},
   "source": [
    "The function below takes the input of a specific toolname and start/end date in the formart. \n",
    "(\"toolname\",\"2020-01-01\",\"2020-12-31\")\n",
    "\n",
    "the Output of the function is a csv file that would include the name of the users for a specific tool. This csv file can passed to the MakeFullRaindrop.py file to get the raindrop chart for a specific tool.\n",
    "\n"
   ]
  },
  {
   "cell_type": "code",
   "execution_count": 5,
   "id": "0b6421b7-6edc-46e8-b0bb-302c24f8ff18",
   "metadata": {
    "execution": {
     "iopub.execute_input": "2022-06-23T17:14:05.525657Z",
     "iopub.status.busy": "2022-06-23T17:14:05.524370Z",
     "iopub.status.idle": "2022-06-23T17:14:05.535963Z",
     "shell.execute_reply": "2022-06-23T17:14:05.534562Z",
     "shell.execute_reply.started": "2022-06-23T17:14:05.525616Z"
    }
   },
   "outputs": [],
   "source": [
    "def tool_users_sorted(toolname,startdate,enddate):\n",
    "    _toolname = toolname\n",
    "    _startdate = startdate\n",
    "    _enddate = enddate\n",
    "    sql = \"\"\" \n",
    "SELECT \n",
    "    DISTINCT starts.user AS user,\n",
    "    versions.toolname,\n",
    "    MIN(starts.datetime) AS first_used\n",
    "FROM nanohub_metrics.toolstart starts  \n",
    "INNER JOIN nanohub.jos_tool_version versions \n",
    "    ON versions.instance = starts.tool\n",
    "WHERE versions.toolname = \"%s\"\n",
    "    AND (DATE(starts.datetime) BETWEEN \"%s\" AND \"%s\")\n",
    "    AND starts.user != ''\n",
    "GROUP BY starts.user, versions.toolname\n",
    "ORDER BY first_used\n",
    "\"\"\"% (_toolname, _startdate, _enddate)\n",
    "    users_df = pd.read_sql_query(sql, nanohub_db)\n",
    "    user_list_df = users_df[['user']]\n",
    "    user_list_df = user_list_df.T\n",
    "    display(user_list_df)\n",
    "    current_dir = os.getcwd()\n",
    "    user_list_df.to_csv(current_dir + f\"/{toolname}_tool_users_{startdate}_{enddate}.csv\", header = False , index = False)"
   ]
  },
  {
   "cell_type": "code",
   "execution_count": null,
   "id": "af834e81-aff4-4ff3-b32e-0d9ab8c69486",
   "metadata": {},
   "outputs": [],
   "source": []
  }
 ],
 "metadata": {
  "kernelspec": {
   "display_name": "Python 3 (ipykernel)",
   "language": "python",
   "name": "python3"
  },
  "language_info": {
   "codemirror_mode": {
    "name": "ipython",
    "version": 3
   },
   "file_extension": ".py",
   "mimetype": "text/x-python",
   "name": "python",
   "nbconvert_exporter": "python",
   "pygments_lexer": "ipython3",
   "version": "3.8.10"
  }
 },
 "nbformat": 4,
 "nbformat_minor": 5
}
