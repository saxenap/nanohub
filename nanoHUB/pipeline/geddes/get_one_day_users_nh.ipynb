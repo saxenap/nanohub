{
 "cells": [
  {
   "cell_type": "code",
   "execution_count": null,
   "id": "ab776a92-15b9-4fba-9bc2-b8f317a30f1c",
   "metadata": {
    "tags": []
   },
   "outputs": [],
   "source": [
    "import pandas as pd\n",
    "import numpy as np\n",
    "from pprint import pprint\n",
    "from nanoHUB.application import Application\n",
    "from nanoHUB.configuration import ClusteringConfiguration\n",
    "from nanoHUB.pipeline.geddes.data import get_default_s3_client\n",
    "from nanoHUB.dataaccess.lake import S3FileMapper\n",
    "from nanoHUB.clustering.infra import create_clusters_repository, get_user_tools, add_cluster_info, get_clustered_one_day_users, get_unclassified_one_day_users\n",
    "from ast import literal_eval\n",
    "from collections import defaultdict\n",
    "\n",
    "\n",
    "pd.set_option('display.max_columns', None)\n",
    "\n",
    "# logger.debug('Testing')\n",
    "application = Application.get_instance()\n",
    "nanohub_db = application.new_db_engine('nanohub')\n",
    "\n",
    "#salesforce = application.new_salesforce_engine()\n",
    "\n",
    "s3_client = get_default_s3_client(application)\n",
    "raw_mapper = S3FileMapper(s3_client, ClusteringConfiguration().bucket_name_raw)\n",
    "processed_mapper = S3FileMapper(s3_client, ClusteringConfiguration().bucket_name_processed)\n",
    "\n",
    "cluster_repo = create_clusters_repository(application, ClusteringConfiguration().bucket_name_processed)\n",
    "\n",
    "derived_data_file_path = 'derived_data_for_users_with_one_day_users.csv'"
   ]
  },
  {
   "cell_type": "code",
   "execution_count": null,
   "id": "d3006f6c-905c-4a15-a562-40fc3054ae77",
   "metadata": {
    "tags": []
   },
   "outputs": [],
   "source": [
    "\n"
   ]
  },
  {
   "cell_type": "code",
   "execution_count": null,
   "id": "4709a6a5-5402-405e-b387-40c5630a08a1",
   "metadata": {
    "tags": []
   },
   "outputs": [],
   "source": [
    "tool_users_df = get_user_tools(processed_mapper)\n",
    "# user_tools_df = get_tool_users(processed_mapper)\n",
    "display(tool_users_df)"
   ]
  },
  {
   "cell_type": "code",
   "execution_count": null,
   "id": "a677cf06-0d0c-4a4f-ba9e-cd58efa49590",
   "metadata": {
    "tags": []
   },
   "outputs": [],
   "source": [
    "tool_users_df['names_tools'].value_counts()"
   ]
  },
  {
   "cell_type": "code",
   "execution_count": null,
   "id": "ef1ab197-d7a5-471a-b8c7-73085e5e2f6b",
   "metadata": {
    "tags": []
   },
   "outputs": [],
   "source": [
    "classified_one_day_users_df = get_clustered_one_day_users(processed_mapper)\n",
    "\n",
    "display(len(classified_one_day_users_df))\n",
    "display(classified_one_day_users_df.head())\n",
    "display(classified_one_day_users_df.tail())"
   ]
  },
  {
   "cell_type": "code",
   "execution_count": null,
   "id": "df67d6d6-8009-49e6-b249-5d01b7280b34",
   "metadata": {
    "tags": []
   },
   "outputs": [],
   "source": [
    "classified_one_day_users_df['has_researcher_profile'].value_counts()"
   ]
  },
  {
   "cell_type": "code",
   "execution_count": null,
   "id": "ae7d0296-4326-4f77-a99e-3058743fbf2f",
   "metadata": {
    "execution": {
     "iopub.status.busy": "2022-05-25T14:29:30.039626Z",
     "iopub.status.idle": "2022-05-25T14:29:30.039780Z",
     "shell.execute_reply": "2022-05-25T14:29:30.039719Z",
     "shell.execute_reply.started": "2022-05-25T14:29:30.039712Z"
    }
   },
   "outputs": [],
   "source": [
    "unclassified_one_day_users_df['has_researcher_profile'].value_counts()"
   ]
  },
  {
   "cell_type": "code",
   "execution_count": null,
   "id": "51ef87d4-b7a9-45e9-a659-b58d64830b96",
   "metadata": {
    "execution": {
     "iopub.status.busy": "2022-05-25T14:29:30.040615Z",
     "iopub.status.idle": "2022-05-25T14:29:30.040748Z",
     "shell.execute_reply": "2022-05-25T14:29:30.040699Z",
     "shell.execute_reply.started": "2022-05-25T14:29:30.040694Z"
    },
    "tags": []
   },
   "outputs": [],
   "source": [
    "unclassified_one_day_users_df = get_unclassified_one_day_users(processed_mapper)\n",
    "\n",
    "display(len(unclassified_one_day_users_df))\n",
    "display(unclassified_one_day_users_df.head())\n",
    "display(unclassified_one_day_users_df.tail())"
   ]
  },
  {
   "cell_type": "code",
   "execution_count": null,
   "id": "316c48ef-a53f-499b-8a97-168b927a306d",
   "metadata": {
    "execution": {
     "iopub.status.busy": "2022-05-25T14:29:30.042330Z",
     "iopub.status.idle": "2022-05-25T14:29:30.042995Z",
     "shell.execute_reply": "2022-05-25T14:29:30.042916Z",
     "shell.execute_reply.started": "2022-05-25T14:29:30.042905Z"
    },
    "tags": []
   },
   "outputs": [],
   "source": [
    "unclassified_user_tools_df = tool_users_df.loc[tool_users_df['user'].isin(unclassified_one_day_users_df['username']),:]\n",
    "\n",
    "display(len(unclassified_user_tools_df))\n",
    "display(unclassified_user_tools_df.head())\n",
    "display(unclassified_user_tools_df.tail())"
   ]
  },
  {
   "cell_type": "code",
   "execution_count": null,
   "id": "42802a48-8cb3-45f9-82aa-dab24502d639",
   "metadata": {
    "execution": {
     "iopub.status.busy": "2022-05-25T14:29:30.046574Z",
     "iopub.status.idle": "2022-05-25T14:29:30.046852Z",
     "shell.execute_reply": "2022-05-25T14:29:30.046782Z",
     "shell.execute_reply.started": "2022-05-25T14:29:30.046774Z"
    },
    "tags": []
   },
   "outputs": [],
   "source": [
    "a = pd.Series([item for sublist in unclassified_user_tools_df['names_tools'] for item in sublist])\n",
    "df = a.groupby(a).size().rename_axis('names_tools').reset_index(name='num_unclassified_users')\n",
    "\n",
    "\n",
    "display(df.head(10))"
   ]
  },
  {
   "cell_type": "code",
   "execution_count": null,
   "id": "0a2b7d51-4307-4f04-ac98-8ca84538898a",
   "metadata": {
    "execution": {
     "iopub.status.busy": "2022-05-25T14:29:30.047203Z",
     "iopub.status.idle": "2022-05-25T14:29:30.047299Z",
     "shell.execute_reply": "2022-05-25T14:29:30.047252Z",
     "shell.execute_reply.started": "2022-05-25T14:29:30.047247Z"
    },
    "tags": []
   },
   "outputs": [],
   "source": [
    "sorted_tool_count_for_unclassfied_users = df.sort_values('num_unclassified_users', ascending=False)\n",
    "sorted_tool_count_for_unclassfied_users = sorted_tool_count_for_unclassfied_users.set_index('names_tools').reset_index()\n",
    "display(sorted_tool_count_for_unclassfied_users)\n",
    "\n",
    "sorted_tool_count_for_unclassfied_users.to_csv('sorted_tool_count_for_unclassified_one_day_users.csv', index=False)"
   ]
  },
  {
   "cell_type": "code",
   "execution_count": null,
   "id": "6c294617-944e-4ad4-a141-6ab047c2d73a",
   "metadata": {
    "tags": []
   },
   "outputs": [],
   "source": []
  },
  {
   "cell_type": "code",
   "execution_count": null,
   "id": "f9fb9dfe-2e9f-4ded-8f38-1d79f150ce26",
   "metadata": {
    "execution": {
     "iopub.status.busy": "2022-05-25T14:29:30.051054Z",
     "iopub.status.idle": "2022-05-25T14:29:30.051184Z",
     "shell.execute_reply": "2022-05-25T14:29:30.051132Z",
     "shell.execute_reply.started": "2022-05-25T14:29:30.051125Z"
    }
   },
   "outputs": [],
   "source": [
    "classified_user_tools_df = tool_users_df.loc[tool_users_df['user'].isin(classified_one_day_users_df['username']),:]\n",
    "\n",
    "display(len(classified_user_tools_df))\n",
    "display(classified_user_tools_df.head())\n",
    "display(classified_user_tools_df.tail())"
   ]
  },
  {
   "cell_type": "code",
   "execution_count": null,
   "id": "b4b1838c-f811-463b-9436-55d95b5477c5",
   "metadata": {
    "execution": {
     "iopub.status.busy": "2022-05-25T14:29:30.051943Z",
     "iopub.status.idle": "2022-05-25T14:29:30.052059Z",
     "shell.execute_reply": "2022-05-25T14:29:30.052009Z",
     "shell.execute_reply.started": "2022-05-25T14:29:30.052003Z"
    }
   },
   "outputs": [],
   "source": [
    "a = pd.Series([item for sublist in classified_user_tools_df['names_tools'] for item in sublist])\n",
    "df = a.groupby(a).size().rename_axis('names_tools').reset_index(name='num_clustered_users')\n",
    "\n",
    "\n",
    "display(df.head(10))"
   ]
  },
  {
   "cell_type": "code",
   "execution_count": null,
   "id": "67ebd031-a47c-4acf-8aaf-a0876277e7e6",
   "metadata": {
    "execution": {
     "iopub.status.busy": "2022-05-25T14:29:30.053086Z",
     "iopub.status.idle": "2022-05-25T14:29:30.053214Z",
     "shell.execute_reply": "2022-05-25T14:29:30.053157Z",
     "shell.execute_reply.started": "2022-05-25T14:29:30.053150Z"
    }
   },
   "outputs": [],
   "source": [
    "sorted_tool_count_for_clustered_users = df.sort_values('num_clustered_users', ascending=False)\n",
    "sorted_tool_count_for_clustered_users = sorted_tool_count_for_clustered_users.set_index('names_tools').reset_index()\n",
    "display(sorted_tool_count_for_clustered_users)\n",
    "\n",
    "sorted_tool_count_for_clustered_users.to_csv('sorted_tool_count_for_clustered_one_day_users.csv', index=False)"
   ]
  },
  {
   "cell_type": "code",
   "execution_count": null,
   "id": "48aae9b6-7e71-44f8-8017-bfd6c081ca10",
   "metadata": {},
   "outputs": [],
   "source": []
  },
  {
   "cell_type": "code",
   "execution_count": null,
   "id": "d1bc1411-1103-40b7-9751-c85abe834036",
   "metadata": {
    "execution": {
     "iopub.status.busy": "2022-05-25T14:29:30.054334Z",
     "iopub.status.idle": "2022-05-25T14:29:30.054515Z",
     "shell.execute_reply": "2022-05-25T14:29:30.054456Z",
     "shell.execute_reply.started": "2022-05-25T14:29:30.054448Z"
    },
    "tags": []
   },
   "outputs": [],
   "source": [
    "sorted_tools_unclassified_users = sorted_tool_count_for_unclassfied_users['names_tools'].to_list()\n",
    "sorted_tools_clustered_users = sorted_tool_count_for_clustered_users['names_tools'].to_list()"
   ]
  },
  {
   "cell_type": "code",
   "execution_count": null,
   "id": "d29564ad-e051-424b-9ffc-0ddd5a931fb9",
   "metadata": {
    "execution": {
     "iopub.status.busy": "2022-05-25T14:29:30.056286Z",
     "iopub.status.idle": "2022-05-25T14:29:30.057489Z",
     "shell.execute_reply": "2022-05-25T14:29:30.057412Z",
     "shell.execute_reply.started": "2022-05-25T14:29:30.057402Z"
    },
    "tags": []
   },
   "outputs": [],
   "source": [
    "display(sorted_tool_count_for_unclassfied_users)\n",
    "print(\"********************\")\n",
    "display(sorted_tool_count_for_clustered_users)\n",
    "print(\"********************\")\n",
    "\n",
    "combined_df = sorted_tool_count_for_unclassfied_users.merge(\n",
    "    sorted_tool_count_for_clustered_users, on = ['names_tools'], how='outer'\n",
    ")\n",
    "combined_df['num_unclassified_users'].fillna(0, inplace=True)\n",
    "combined_df['num_clustered_users'].fillna(0, inplace=True)\n",
    "\n",
    "combined_df['num_total_users'] = combined_df['num_unclassified_users'] + combined_df['num_clustered_users']\n",
    "combined_df = combined_df.sort_values('num_total_users', ascending=False)\n",
    "\n",
    "\n",
    "display(combined_df)"
   ]
  },
  {
   "cell_type": "code",
   "execution_count": null,
   "id": "f3fd8934-8e32-4781-a489-20ad174cb7e7",
   "metadata": {
    "execution": {
     "iopub.status.busy": "2022-05-25T14:29:30.058122Z",
     "iopub.status.idle": "2022-05-25T14:29:30.058246Z",
     "shell.execute_reply": "2022-05-25T14:29:30.058191Z",
     "shell.execute_reply.started": "2022-05-25T14:29:30.058185Z"
    },
    "tags": []
   },
   "outputs": [],
   "source": [
    "import seaborn as sns\n",
    "import pandas as pd\n",
    "sns.set_theme()\n",
    "sns.relplot(data=combined_df[combined_df['num_clustered_users'].between(50, 450)], \n",
    "            y=\"names_tools\", x=\"num_clustered_users\", hue=\"num_unclassified_users\", \n",
    "            size=\"num_unclassified_users\", sizes=(1,300))"
   ]
  },
  {
   "cell_type": "code",
   "execution_count": null,
   "id": "bf8f82cd-7a66-4325-8cbd-498556ec3620",
   "metadata": {},
   "outputs": [],
   "source": []
  },
  {
   "cell_type": "code",
   "execution_count": null,
   "id": "79503541-b05e-4702-a4de-8ab731578e31",
   "metadata": {
    "execution": {
     "iopub.status.busy": "2022-05-25T14:29:30.058619Z",
     "iopub.status.idle": "2022-05-25T14:29:30.058828Z",
     "shell.execute_reply": "2022-05-25T14:29:30.058771Z",
     "shell.execute_reply.started": "2022-05-25T14:29:30.058763Z"
    },
    "tags": []
   },
   "outputs": [],
   "source": [
    "sns.relplot(data=combined_df, \n",
    "            y='num_unclassified_users', x=\"num_clustered_users\")"
   ]
  },
  {
   "cell_type": "code",
   "execution_count": null,
   "id": "782e8cc6-8b60-4254-ac87-3096d62f9245",
   "metadata": {
    "execution": {
     "iopub.status.busy": "2022-05-25T14:29:30.059226Z",
     "iopub.status.idle": "2022-05-25T14:29:30.059325Z",
     "shell.execute_reply": "2022-05-25T14:29:30.059281Z",
     "shell.execute_reply.started": "2022-05-25T14:29:30.059275Z"
    },
    "tags": []
   },
   "outputs": [],
   "source": [
    "combined_df.to_csv('sorted_tool_count_for_combined_one_day_users.csv', index=False)\n",
    "\n",
    "# print(sorted_tool_count_for_unclassfied_users['sbcnfet'])\n",
    "# print(sorted_tool_count_for_clustered_users['sbcnfet'])\n",
    "# display(combined_df.loc[combined_df['tool_name'] == 'sbcnfet'])\n",
    "\n",
    "# print(sorted_tool_count_for_unclassfied_users['cenems'])\n",
    "# print(sorted_tool_count_for_clustered_users['cenems'])\n",
    "# display(combined_df.loc[combined_df['tool_name'] == 'cenems'])\n",
    "\n",
    "# # print(unclassied_counts['chemkinetics'])\n",
    "# print(sorted_tool_count_for_clustered_users['chemkinetics'])\n",
    "# display(combined_df.loc[combined_df['tool_name'] == 'chemkinetics'])"
   ]
  },
  {
   "cell_type": "code",
   "execution_count": null,
   "id": "74cefc86-30ad-4636-a1ac-cb4862b47dd0",
   "metadata": {},
   "outputs": [],
   "source": []
  },
  {
   "cell_type": "code",
   "execution_count": null,
   "id": "d302578e-1e27-4689-bfee-cc7595bd6f6c",
   "metadata": {
    "execution": {
     "iopub.status.busy": "2022-05-25T14:29:30.059529Z",
     "iopub.status.idle": "2022-05-25T14:29:30.059626Z",
     "shell.execute_reply": "2022-05-25T14:29:30.059578Z",
     "shell.execute_reply.started": "2022-05-25T14:29:30.059573Z"
    },
    "tags": []
   },
   "outputs": [],
   "source": [
    "# import difflib\n",
    "# sm = difflib.SequenceMatcher(None, sorted_tools_unclassified_users, sorted_tools_clustered_users)\n",
    "# similarity_ratio = sm.ratio()\n",
    "\n",
    "# display(similarity_ratio)"
   ]
  },
  {
   "cell_type": "code",
   "execution_count": null,
   "id": "6cb08e9e-8d61-4885-909b-75aa41a6360b",
   "metadata": {
    "execution": {
     "iopub.status.busy": "2022-05-25T14:29:30.061426Z",
     "iopub.status.idle": "2022-05-25T14:29:30.062405Z",
     "shell.execute_reply": "2022-05-25T14:29:30.062344Z",
     "shell.execute_reply.started": "2022-05-25T14:29:30.062334Z"
    },
    "tags": []
   },
   "outputs": [],
   "source": [
    "# total_tools_count = len(sorted_tools_clustered_users + sorted_tools_unclassified_users)\n",
    "# common_tools_count = len(common_tools)\n",
    "\n",
    "# percentage_common_tools = (common_tools_count*100)/total_tools_count\n",
    "\n",
    "# display(percentage_common_tools)"
   ]
  },
  {
   "cell_type": "code",
   "execution_count": null,
   "id": "7c4b3592-6240-42da-a2a2-bdc8bdf815dc",
   "metadata": {
    "execution": {
     "iopub.status.busy": "2022-05-25T14:29:30.062617Z",
     "iopub.status.idle": "2022-05-25T14:29:30.062983Z",
     "shell.execute_reply": "2022-05-25T14:29:30.062880Z",
     "shell.execute_reply.started": "2022-05-25T14:29:30.062861Z"
    },
    "tags": []
   },
   "outputs": [],
   "source": [
    "common_tools = list(set(sorted_tools_unclassified_users) & set(sorted_tools_clustered_users))\n",
    "\n",
    "display(len(common_tools))\n",
    "# display(common_tools)"
   ]
  },
  {
   "cell_type": "code",
   "execution_count": null,
   "id": "87750d32-e0da-4c65-ae30-56d2d1495c58",
   "metadata": {},
   "outputs": [],
   "source": []
  }
 ],
 "metadata": {
  "kernelspec": {
   "display_name": "Python 3 (ipykernel)",
   "language": "python",
   "name": "python3"
  },
  "language_info": {
   "codemirror_mode": {
    "name": "ipython",
    "version": 3
   },
   "file_extension": ".py",
   "mimetype": "text/x-python",
   "name": "python",
   "nbconvert_exporter": "python",
   "pygments_lexer": "ipython3",
   "version": "3.8.10"
  }
 },
 "nbformat": 4,
 "nbformat_minor": 5
}
