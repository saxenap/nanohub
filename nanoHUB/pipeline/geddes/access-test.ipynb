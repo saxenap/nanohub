{
 "cells": [
  {
   "cell_type": "code",
   "execution_count": 1,
   "id": "9abce93c-1dff-4a62-9956-aa41e1718809",
   "metadata": {
    "execution": {
     "iopub.execute_input": "2021-11-08T17:19:45.653406Z",
     "iopub.status.busy": "2021-11-08T17:19:45.651971Z",
     "iopub.status.idle": "2021-11-08T17:19:48.731347Z",
     "shell.execute_reply": "2021-11-08T17:19:48.730133Z",
     "shell.execute_reply.started": "2021-11-08T17:19:45.653274Z"
    },
    "tags": []
   },
   "outputs": [
    {
     "name": "stdout",
     "output_type": "stream",
     "text": [
      "\u001B[1mnanoHUB - Serving Students, Researchers & Instructors\u001B[0m\n"
     ]
    }
   ],
   "source": [
    "from nanoHUB.application import Application\n",
    "application = Application.get_instance()"
   ]
  },
  {
   "cell_type": "code",
   "execution_count": null,
   "id": "afbaadc3-45d7-472b-b2d0-989d7cb5c1ec",
   "metadata": {
    "execution": {
     "iopub.execute_input": "2021-11-08T17:20:12.804464Z",
     "iopub.status.busy": "2021-11-08T17:20:12.800007Z"
    },
    "tags": []
   },
   "outputs": [],
   "source": [
    "from boto.s3.connection import S3Connection, OrdinaryCallingFormat\n",
    "\n",
    "conn = S3Connection(\n",
    "    aws_access_key_id = application.get_config_value('geddesapi.access_key'),\n",
    "    aws_secret_access_key = application.get_config_value('geddesapi.secret_key'),\n",
    "    host = application.get_config_value('geddesapi.endpoint'),\n",
    "    is_secure = False,\n",
    "    calling_format = OrdinaryCallingFormat(),\n",
    ")\n",
    "\n",
    "print(conn.get_all_buckets())"
   ]
  },
  {
   "cell_type": "code",
   "execution_count": null,
   "id": "e12a8181-a369-45c5-8a15-62f32a4869a8",
   "metadata": {
    "execution": {
     "iopub.status.busy": "2021-11-08T17:19:48.932603Z",
     "iopub.status.idle": "2021-11-08T17:19:48.935380Z",
     "shell.execute_reply": "2021-11-08T17:19:48.933025Z",
     "shell.execute_reply.started": "2021-11-08T17:19:48.932997Z"
    },
    "tags": []
   },
   "outputs": [],
   "source": [
    "import boto3\n",
    "\n",
    "bucket_name = 'nanoHUB-analytics'\n",
    "endpoint_url = 'https://' + application.get_config_value('geddesapi.endpoint')\n",
    "\n",
    "boto_session = boto3.session.Session(\n",
    "    aws_access_key_id = application.get_config_value('geddesapi.access_key'),\n",
    "    aws_secret_access_key = application.get_config_value('geddesapi.secret_key'),\n",
    ")\n",
    "\n",
    "s3_client1 = boto_session.client(\n",
    "    's3', \n",
    "    endpoint_url = endpoint_url\n",
    ") \n",
    "\n",
    "s3_client2 = boto3.client(\n",
    "    's3',\n",
    "    endpoint_url = endpoint_url,\n",
    "    aws_access_key_id = application.get_config_value('geddesapi.access_key'),\n",
    "    aws_secret_access_key = application.get_config_value('geddesapi.secret_key'),\n",
    ")\n",
    "\n",
    "response = s3_client1.list_buckets()\n",
    "\n"
   ]
  },
  {
   "cell_type": "code",
   "execution_count": null,
   "id": "1711ee7a-c8f3-4040-a601-2aeb8997918b",
   "metadata": {},
   "outputs": [],
   "source": []
  },
  {
   "cell_type": "code",
   "execution_count": null,
   "id": "a6203cfc-8291-428c-88bb-414332980c7c",
   "metadata": {},
   "outputs": [],
   "source": []
  }
 ],
 "metadata": {
  "kernelspec": {
   "display_name": "Python 3 (ipykernel)",
   "language": "python",
   "name": "python3"
  },
  "language_info": {
   "codemirror_mode": {
    "name": "ipython",
    "version": 3
   },
   "file_extension": ".py",
   "mimetype": "text/x-python",
   "name": "python",
   "nbconvert_exporter": "python",
   "pygments_lexer": "ipython3",
   "version": "3.8.10"
  }
 },
 "nbformat": 4,
 "nbformat_minor": 5
}