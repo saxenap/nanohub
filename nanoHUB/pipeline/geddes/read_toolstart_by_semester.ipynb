{
 "cells": [
  {
   "cell_type": "code",
   "execution_count": null,
   "id": "fbb5b239-9559-41ee-a309-0737c3283bc4",
   "metadata": {
    "execution": {
     "iopub.execute_input": "2022-03-02T22:35:39.961258Z",
     "iopub.status.busy": "2022-03-02T22:35:39.960969Z"
    },
    "tags": []
   },
   "outputs": [
    {
     "name": "stdout",
     "output_type": "stream",
     "text": [
      "\u001b[1mnanoHUB - Serving Students, Researchers & Instructors\u001b[0m\n"
     ]
    }
   ],
   "source": [
    "import pandas as pd\n",
    "import numpy as np\n",
    "from pprint import pprint\n",
    "from nanoHUB.application import Application\n",
    "from nanoHUB.configuration import ClusteringConfiguration\n",
    "from nanoHUB.pipeline.geddes.data import get_default_s3_client, read_all\n",
    "from nanoHUB.dataaccess.lake import S3FileMapper\n",
    "\n",
    "\n",
    "\n",
    "# logger.debug('Testing')\n",
    "application = Application.get_instance()\n",
    "nanohub_db = application.new_db_engine('nanohub')\n",
    "\n",
    "#salesforce = application.new_salesforce_engine()\n",
    "\n",
    "s3_client = get_default_s3_client(application)\n",
    "bucket_name = ClusteringConfiguration().bucket_name_raw\n",
    "tool_start_path = 'nanohub_metrics/toolstart/by_semester'\n",
    "\n",
    "raw_mapper = S3FileMapper(s3_client, bucket_name)"
   ]
  },
  {
   "cell_type": "code",
   "execution_count": null,
   "id": "3914187b-135a-4453-b2f2-8857c958a6c1",
   "metadata": {
    "tags": []
   },
   "outputs": [],
   "source": [
    "parse_dates = ['datetime']\n",
    "df = read_all(\n",
    "    s3_client, \n",
    "    bucket_name, \n",
    "    tool_start_path\n",
    ")\n",
    "df['datetime'] = pd.to_datetime(df['datetime'])"
   ]
  },
  {
   "cell_type": "code",
   "execution_count": null,
   "id": "52bb0bec-b613-4e30-aa2b-38db05b43e11",
   "metadata": {
    "tags": []
   },
   "outputs": [],
   "source": [
    "display(df.head(2))\n",
    "display(df.tail())"
   ]
  },
  {
   "cell_type": "code",
   "execution_count": null,
   "id": "43b9dcee-c6ae-4dcd-b392-eaa1bba0b7a2",
   "metadata": {
    "tags": []
   },
   "outputs": [],
   "source": [
    "df = df.sort_values(by=\"datetime\")\n",
    "display(df.tail())"
   ]
  },
  {
   "cell_type": "code",
   "execution_count": null,
   "id": "b6a41ad9-455d-497a-9927-6c35fa615c2d",
   "metadata": {},
   "outputs": [],
   "source": [
    "test = raw_mapper.read(tool_start_path + '/2017')\n",
    "display(test.head(2))\n",
    "display(test.tail(2))"
   ]
  },
  {
   "cell_type": "code",
   "execution_count": null,
   "id": "58dd9b14-109d-4af3-8102-ae19e8f3fdc9",
   "metadata": {},
   "outputs": [],
   "source": []
  },
  {
   "cell_type": "code",
   "execution_count": null,
   "id": "941e52f9-a4d7-4e31-b95a-aac458ec3c55",
   "metadata": {
    "tags": []
   },
   "outputs": [],
   "source": [
    "# k = 0\n",
    "# for key in s3_client.list_objects(Bucket=ClusteringConfiguration().bucket_name_raw, Prefix='nanohub_metrics/toolstart/2017')['Contents']:\n",
    "#     obj = s3_client.get_object(Bucket=ClusteringConfiguration().bucket_name_raw, Key=key['Key'])\n",
    "#     print(key)\n",
    "#     k = k + 1\n",
    "#     if k == 100:\n",
    "#         break"
   ]
  },
  {
   "cell_type": "code",
   "execution_count": null,
   "id": "e583b61c-261d-4f8c-9994-7ec282b3c04d",
   "metadata": {},
   "outputs": [],
   "source": []
  }
 ],
 "metadata": {
  "kernelspec": {
   "display_name": "Python 3 (ipykernel)",
   "language": "python",
   "name": "python3"
  },
  "language_info": {
   "codemirror_mode": {
    "name": "ipython",
    "version": 3
   },
   "file_extension": ".py",
   "mimetype": "text/x-python",
   "name": "python",
   "nbconvert_exporter": "python",
   "pygments_lexer": "ipython3",
   "version": "3.8.10"
  }
 },
 "nbformat": 4,
 "nbformat_minor": 5
}
