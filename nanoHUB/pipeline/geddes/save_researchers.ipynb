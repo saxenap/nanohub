{
 "cells": [
  {
   "cell_type": "code",
   "execution_count": 4,
   "id": "9c39d824-b52a-45bf-8d9d-21def123980f",
   "metadata": {
    "execution": {
     "iopub.execute_input": "2022-02-18T20:54:08.220029Z",
     "iopub.status.busy": "2022-02-18T20:54:08.217234Z",
     "iopub.status.idle": "2022-02-18T20:54:09.297025Z",
     "shell.execute_reply": "2022-02-18T20:54:09.294397Z",
     "shell.execute_reply.started": "2022-02-18T20:54:08.219974Z"
    },
    "tags": []
   },
   "outputs": [
    {
     "name": "stdout",
     "output_type": "stream",
     "text": [
      "Obtained Salesforce access token ...... True\n"
     ]
    }
   ],
   "source": [
    "import pandas as pd\n",
    "import numpy as np\n",
    "from pprint import pprint\n",
    "from nanoHUB.application import Application\n",
    "from nanoHUB.configuration import ClusteringConfiguration\n",
    "from nanoHUB.pipeline.geddes.data import get_default_s3_client\n",
    "from nanoHUB.dataaccess.lake import S3FileMapper\n",
    "import os\n",
    "cwd = os.getcwd()\n",
    "\n",
    "# logger.debug('Testing')\n",
    "application = Application.get_instance()\n",
    "nanohub_db = application.new_db_engine('nanohub')\n",
    "\n",
    "salesforce = application.new_salesforce_engine()\n",
    "\n",
    "s3_client = get_default_s3_client(application)\n",
    "raw_mapper = S3FileMapper(s3_client, ClusteringConfiguration().bucket_name_raw)\n",
    "processed_mapper = S3FileMapper(s3_client, ClusteringConfiguration().bucket_name_processed)\n",
    "\n",
    "derived_data_file_path = 'derived_data_for_users.csv'\n",
    "\n"
   ]
  },
  {
   "cell_type": "code",
   "execution_count": 6,
   "id": "dbed9711-f4f3-4db1-9515-a2a988ad59fa",
   "metadata": {
    "execution": {
     "iopub.execute_input": "2022-02-18T20:54:17.108373Z",
     "iopub.status.busy": "2022-02-18T20:54:17.107393Z",
     "iopub.status.idle": "2022-02-18T20:54:29.817703Z",
     "shell.execute_reply": "2022-02-18T20:54:29.811567Z",
     "shell.execute_reply.started": "2022-02-18T20:54:17.108321Z"
    },
    "tags": []
   },
   "outputs": [
    {
     "name": "stdout",
     "output_type": "stream",
     "text": [
      "[Success] Bulk job creation successful. Job ID = 7505w00000dtFcvAAE\n",
      "{\"id\":\"7505w00000dtFcvAAE\",\"operation\":\"query\",\"object\":\"Contact\",\"createdById\":\"0055w00000DM5bOAAT\",\"createdDate\":\"2022-02-18T20:54:17.000+0000\",\"systemModstamp\":\"2022-02-18T20:54:17.000+0000\",\"state\":\"UploadComplete\",\"concurrencyMode\":\"Parallel\",\"contentType\":\"CSV\",\"apiVersion\":47.0,\"jobType\":\"V2Query\",\"lineEnding\":\"LF\",\"columnDelimiter\":\"COMMA\",\"retries\":0,\"totalProcessingTime\":0}\n",
      "{\"id\":\"7505w00000dtFcvAAE\",\"operation\":\"query\",\"object\":\"Contact\",\"createdById\":\"0055w00000DM5bOAAT\",\"createdDate\":\"2022-02-18T20:54:17.000+0000\",\"systemModstamp\":\"2022-02-18T20:54:24.000+0000\",\"state\":\"JobComplete\",\"concurrencyMode\":\"Parallel\",\"contentType\":\"CSV\",\"apiVersion\":47.0,\"jobType\":\"V2Query\",\"lineEnding\":\"LF\",\"columnDelimiter\":\"COMMA\",\"numberRecordsProcessed\":66359,\"retries\":0,\"totalProcessingTime\":4936}\n",
      "[Success] Bulk job completed successfully.\n"
     ]
    },
    {
     "data": {
      "text/html": [
       "<div>\n",
       "<style scoped>\n",
       "    .dataframe tbody tr th:only-of-type {\n",
       "        vertical-align: middle;\n",
       "    }\n",
       "\n",
       "    .dataframe tbody tr th {\n",
       "        vertical-align: top;\n",
       "    }\n",
       "\n",
       "    .dataframe thead th {\n",
       "        text-align: right;\n",
       "    }\n",
       "</style>\n",
       "<table border=\"1\" class=\"dataframe\">\n",
       "  <thead>\n",
       "    <tr style=\"text-align: right;\">\n",
       "      <th></th>\n",
       "      <th>Id</th>\n",
       "      <th>nanoHUB_user_ID__c</th>\n",
       "    </tr>\n",
       "  </thead>\n",
       "  <tbody>\n",
       "    <tr>\n",
       "      <th>0</th>\n",
       "      <td>0035w000031VvlBAAS</td>\n",
       "      <td>67859.0</td>\n",
       "    </tr>\n",
       "    <tr>\n",
       "      <th>1</th>\n",
       "      <td>0035w000034JJ0aAAG</td>\n",
       "      <td>7997.0</td>\n",
       "    </tr>\n",
       "    <tr>\n",
       "      <th>2</th>\n",
       "      <td>0035w000034IW7DAAW</td>\n",
       "      <td>150267.0</td>\n",
       "    </tr>\n",
       "    <tr>\n",
       "      <th>3</th>\n",
       "      <td>0035w000034JK4sAAG</td>\n",
       "      <td>38451.0</td>\n",
       "    </tr>\n",
       "    <tr>\n",
       "      <th>4</th>\n",
       "      <td>0035w000034Is9NAAS</td>\n",
       "      <td>276743.0</td>\n",
       "    </tr>\n",
       "    <tr>\n",
       "      <th>...</th>\n",
       "      <td>...</td>\n",
       "      <td>...</td>\n",
       "    </tr>\n",
       "    <tr>\n",
       "      <th>66354</th>\n",
       "      <td>0035w000034JrvPAAS</td>\n",
       "      <td>130080.0</td>\n",
       "    </tr>\n",
       "    <tr>\n",
       "      <th>66355</th>\n",
       "      <td>0035w000034JrHoAAK</td>\n",
       "      <td>129332.0</td>\n",
       "    </tr>\n",
       "    <tr>\n",
       "      <th>66356</th>\n",
       "      <td>0035w000034JrwqAAC</td>\n",
       "      <td>130206.0</td>\n",
       "    </tr>\n",
       "    <tr>\n",
       "      <th>66357</th>\n",
       "      <td>0035w000034Jr4CAAS</td>\n",
       "      <td>129044.0</td>\n",
       "    </tr>\n",
       "    <tr>\n",
       "      <th>66358</th>\n",
       "      <td>0035w000034JrGiAAK</td>\n",
       "      <td>129244.0</td>\n",
       "    </tr>\n",
       "  </tbody>\n",
       "</table>\n",
       "<p>66359 rows × 2 columns</p>\n",
       "</div>"
      ],
      "text/plain": [
       "                       Id  nanoHUB_user_ID__c\n",
       "0      0035w000031VvlBAAS             67859.0\n",
       "1      0035w000034JJ0aAAG              7997.0\n",
       "2      0035w000034IW7DAAW            150267.0\n",
       "3      0035w000034JK4sAAG             38451.0\n",
       "4      0035w000034Is9NAAS            276743.0\n",
       "...                   ...                 ...\n",
       "66354  0035w000034JrvPAAS            130080.0\n",
       "66355  0035w000034JrHoAAK            129332.0\n",
       "66356  0035w000034JrwqAAC            130206.0\n",
       "66357  0035w000034Jr4CAAS            129044.0\n",
       "66358  0035w000034JrGiAAK            129244.0\n",
       "\n",
       "[66359 rows x 2 columns]"
      ]
     },
     "metadata": {},
     "output_type": "display_data"
    }
   ],
   "source": [
    "query = '''\n",
    "SELECT Id, nanoHUB_user_ID__c FROM Contact\n",
    "WHERE Id IN (SELECT Contact__c FROM ContactToolClusterAssociation__c)\n",
    "'''\n",
    "contacts_df = salesforce.query_data(query)\n",
    "display(contacts_df)"
   ]
  },
  {
   "cell_type": "code",
   "execution_count": 8,
   "id": "992bf023-26d8-4da9-b374-144372faed58",
   "metadata": {
    "execution": {
     "iopub.execute_input": "2022-02-18T21:24:18.046454Z",
     "iopub.status.busy": "2022-02-18T21:24:18.046193Z",
     "iopub.status.idle": "2022-02-18T21:24:18.814645Z",
     "shell.execute_reply": "2022-02-18T21:24:18.813133Z",
     "shell.execute_reply.started": "2022-02-18T21:24:18.046432Z"
    },
    "tags": []
   },
   "outputs": [
    {
     "data": {
      "text/html": [
       "<div>\n",
       "<style scoped>\n",
       "    .dataframe tbody tr th:only-of-type {\n",
       "        vertical-align: middle;\n",
       "    }\n",
       "\n",
       "    .dataframe tbody tr th {\n",
       "        vertical-align: top;\n",
       "    }\n",
       "\n",
       "    .dataframe thead th {\n",
       "        text-align: right;\n",
       "    }\n",
       "</style>\n",
       "<table border=\"1\" class=\"dataframe\">\n",
       "  <thead>\n",
       "    <tr style=\"text-align: right;\">\n",
       "      <th></th>\n",
       "      <th>id</th>\n",
       "      <th>uid</th>\n",
       "      <th>author</th>\n",
       "    </tr>\n",
       "  </thead>\n",
       "  <tbody>\n",
       "    <tr>\n",
       "      <th>0</th>\n",
       "      <td>10000001</td>\n",
       "      <td>5568</td>\n",
       "      <td>Weber, Bent; Mahapatra, Suddhasatta; Ryu, Hoon...</td>\n",
       "    </tr>\n",
       "    <tr>\n",
       "      <th>1</th>\n",
       "      <td>10000002</td>\n",
       "      <td>5568</td>\n",
       "      <td>Andrawis, Robert; Bermeo, Jose; Charles, James...</td>\n",
       "    </tr>\n",
       "  </tbody>\n",
       "</table>\n",
       "</div>"
      ],
      "text/plain": [
       "         id   uid                                             author\n",
       "0  10000001  5568  Weber, Bent; Mahapatra, Suddhasatta; Ryu, Hoon...\n",
       "1  10000002  5568  Andrawis, Robert; Bermeo, Jose; Charles, James..."
      ]
     },
     "metadata": {},
     "output_type": "display_data"
    },
    {
     "data": {
      "text/plain": [
       "(4203, 3)"
      ]
     },
     "metadata": {},
     "output_type": "display_data"
    }
   ],
   "source": [
    "sql_query = 'select id, uid, author from jos_citations'\n",
    "jos_citations = pd.read_sql_query(sql_query, nanohub_db)\n",
    "display(jos_citations.head(2))\n",
    "display(jos_citations.shape) "
   ]
  },
  {
   "cell_type": "code",
   "execution_count": 10,
   "id": "7e482731-8994-40a2-bac8-cf5afaf0488d",
   "metadata": {
    "execution": {
     "iopub.execute_input": "2022-02-18T21:26:20.205833Z",
     "iopub.status.busy": "2022-02-18T21:26:20.203182Z",
     "iopub.status.idle": "2022-02-18T21:26:20.263637Z",
     "shell.execute_reply": "2022-02-18T21:26:20.261443Z",
     "shell.execute_reply.started": "2022-02-18T21:26:20.205691Z"
    },
    "tags": []
   },
   "outputs": [
    {
     "name": "stdout",
     "output_type": "stream",
     "text": [
      "6860\n"
     ]
    }
   ],
   "source": [
    "t1_authors = jos_citations['author'].to_list()\n",
    "t1_authors2 = [] \n",
    "for i,j in enumerate(t1_authors):\n",
    "    try:\n",
    "        holder = j.split(';')\n",
    "        if len(holder) > 1: \n",
    "            for k,l in enumerate(holder):\n",
    "                if l[0] == ' ':\n",
    "                    holder[k] = l[1:]\n",
    "        t1_authors2.append(holder)\n",
    "    except:\n",
    "        garb = True\n",
    "        \n",
    "t1_authors32 = [item for sublist in t1_authors2 for item in sublist]\n",
    "t1_authors3 = set(t1_authors32)\n",
    "print(len(t1_authors3))"
   ]
  },
  {
   "cell_type": "code",
   "execution_count": 11,
   "id": "466b68c0-5a22-4cee-9e45-d59f97b65417",
   "metadata": {
    "execution": {
     "iopub.execute_input": "2022-02-18T21:26:45.422034Z",
     "iopub.status.busy": "2022-02-18T21:26:45.420252Z",
     "iopub.status.idle": "2022-02-18T21:26:45.451835Z",
     "shell.execute_reply": "2022-02-18T21:26:45.448116Z",
     "shell.execute_reply.started": "2022-02-18T21:26:45.421979Z"
    }
   },
   "outputs": [
    {
     "name": "stdout",
     "output_type": "stream",
     "text": [
      "2079\n"
     ]
    }
   ],
   "source": [
    "## extract all researchers with nh ids\n",
    "rw_ids = []\n",
    "need_search = []\n",
    "for i,j in enumerate(t1_authors3):\n",
    "    if '{{' in j:\n",
    "        rw_ids.append(i)\n",
    "    else:\n",
    "        need_search.append(i)\n",
    "        \n",
    "rw_ids2 = np.array(list(t1_authors3))[rw_ids]\n",
    "for i,j in enumerate(rw_ids2):\n",
    "    begin = j.index('{{')\n",
    "    rw_ids2[i] = j[begin+2:-2]\n",
    "print(len(rw_ids2))"
   ]
  },
  {
   "cell_type": "code",
   "execution_count": null,
   "id": "72d6b423-ca22-45f0-9532-0a3191a90c0b",
   "metadata": {},
   "outputs": [],
   "source": [
    "sql_query = \"select id,name,username from jos_users where id in \"+str(tuple(rw_ids2))\n",
    "rw_researchers = pd.read_sql_query(sql_query,nanohub_db)\n",
    "display(rw_researchers.head(2))"
   ]
  },
  {
   "cell_type": "code",
   "execution_count": null,
   "id": "ebf8f38a-c21b-495a-b88a-9653a6e2e53f",
   "metadata": {},
   "outputs": [],
   "source": [
    "ns2 = np.array(list(t1_authors3))[need_search]\n",
    "ns2 = ns2[1:]\n",
    "tuple(ns2)[:5]"
   ]
  },
  {
   "cell_type": "code",
   "execution_count": null,
   "id": "41c0fb8d-3122-41d4-929f-66580b31baa0",
   "metadata": {},
   "outputs": [],
   "source": [
    "sql_query = \"select id,name,username from jos_users where name in \"+str(tuple(ns2))\n",
    "ns2_researchers = pd.read_sql_query(sql_query,nanohub_db)\n",
    "display(ns2_researchers.head(2))"
   ]
  },
  {
   "cell_type": "code",
   "execution_count": null,
   "id": "27abfad1-150e-43f0-861c-c4e0aaaf61fd",
   "metadata": {},
   "outputs": [],
   "source": [
    "researcher_usernames = rw_researchers['username'].to_list() + ns2_researchers['username'].to_list()\n",
    "print(len(researcher_usernames))"
   ]
  },
  {
   "cell_type": "code",
   "execution_count": null,
   "id": "bd92d329-6b35-4577-a042-6762f7ab3f0e",
   "metadata": {},
   "outputs": [],
   "source": [
    "researcher_track = []\n",
    "today = datetime.datetime.today()\n",
    "\n",
    "try:\n",
    "    user_breakdown_df = pd.read_csv(cwd+'/nh_user_breakdown.csv')\n",
    "    print(user_breakdown_df)\n",
    "    cache_flag = True\n",
    "except:\n",
    "    cache_flag = False"
   ]
  },
  {
   "cell_type": "code",
   "execution_count": null,
   "id": "8923c098-0c40-4635-91c6-7b02a5e3a503",
   "metadata": {},
   "outputs": [],
   "source": [
    "start_year_base = 1999\n",
    "print(user_breakdown_df['year_month'].to_list()[-1][:4])"
   ]
  },
  {
   "cell_type": "code",
   "execution_count": null,
   "id": "b114425b-2af7-45c2-9445-4a0856f83293",
   "metadata": {},
   "outputs": [],
   "source": [
    "## computer has memory limits, so split toolstart into branches\n",
    "# this filters and finds the research usage in nanohub\n",
    "start_year = deepcopy(start_year_base)\n",
    "while start_year < today.year+1:\n",
    "    start_year += 1\n",
    "    end_date = r\"'\"+str(start_year)+r\"-01-01'\"\n",
    "    start_date = r\"'\"+str(start_year-2)+r\"-01-01'\"\n",
    "    \n",
    "    for i in range(1,13):\n",
    "        if i < 10:\n",
    "            start_date = r\"'\"+str(start_year-1)+r\"-0\"+str(i)+r\"-01'\"\n",
    "            end_date = r\"'\"+str(start_year)+r\"-0\"+str(i)+r\"-01'\"\n",
    "        else:\n",
    "            start_date = r\"'\"+str(start_year-1)+r\"-\"+str(i)+r\"-01'\"\n",
    "            end_date = r\"'\"+str(start_year)+r\"-\"+str(i)+r\"-01'\"\n",
    "\n",
    "        sql_query_researcher = \"select user from toolstart where user in \" + str(tuple(researcher_usernames))\\\n",
    "            +\" and datetime <= \"+end_date+\" and datetime >= \"+start_date\n",
    "        researcher_users = pd.read_sql_query(sql_query_researcher, nanohub_metrics_db)\n",
    "\n",
    "        researcher_track.append(researcher_users.drop_duplicates().shape[0])\n",
    "\n",
    "    print('start year: '+ str(start_year))"
   ]
  },
  {
   "cell_type": "code",
   "execution_count": null,
   "id": "b4354738-6907-4f1b-8f20-6ee7f90bece8",
   "metadata": {},
   "outputs": [],
   "source": [
    "researcher_ids = rw_researchers['id'].to_list() + ns2_researchers['id'].to_list()\n",
    "print(len(researcher_ids))"
   ]
  },
  {
   "cell_type": "code",
   "execution_count": null,
   "id": "4b783099-6910-4f2f-9884-3b0c3ad27dca",
   "metadata": {},
   "outputs": [],
   "source": []
  },
  {
   "cell_type": "code",
   "execution_count": null,
   "id": "edad69d0-6d27-4a5c-9286-f724673c8b5f",
   "metadata": {},
   "outputs": [],
   "source": []
  },
  {
   "cell_type": "code",
   "execution_count": null,
   "id": "04f4bbe8-7f98-465f-af0b-fa6a35293330",
   "metadata": {},
   "outputs": [],
   "source": []
  },
  {
   "cell_type": "code",
   "execution_count": null,
   "id": "33c74acd-1ef2-4f5e-84a2-1c5c2044a6c9",
   "metadata": {},
   "outputs": [],
   "source": []
  },
  {
   "cell_type": "code",
   "execution_count": null,
   "id": "ab6f3e59-2863-4533-8cee-a34084ae7478",
   "metadata": {},
   "outputs": [],
   "source": [
    "raise"
   ]
  },
  {
   "cell_type": "code",
   "execution_count": 2,
   "id": "cf41e5fd-fe98-4b51-8076-51f405d6dc26",
   "metadata": {
    "execution": {
     "iopub.execute_input": "2022-02-18T19:46:58.855007Z",
     "iopub.status.busy": "2022-02-18T19:46:58.854517Z",
     "iopub.status.idle": "2022-02-18T19:47:07.661787Z",
     "shell.execute_reply": "2022-02-18T19:47:07.659149Z",
     "shell.execute_reply.started": "2022-02-18T19:46:58.854770Z"
    },
    "tags": []
   },
   "outputs": [
    {
     "name": "stdout",
     "output_type": "stream",
     "text": [
      "[WARNING] [warnings - py.warnings]: /tmp/ipykernel_2483/2458013441.py:1: DtypeWarning: Columns (6) have mixed types.Specify dtype option on import or set low_memory=False.\n",
      "  all_users_df = processed_mapper.read(derived_data_file_path)\n",
      " [warnings._showwarnmsg:109]\n"
     ]
    },
    {
     "data": {
      "text/html": [
       "<div>\n",
       "<style scoped>\n",
       "    .dataframe tbody tr th:only-of-type {\n",
       "        vertical-align: middle;\n",
       "    }\n",
       "\n",
       "    .dataframe tbody tr th {\n",
       "        vertical-align: top;\n",
       "    }\n",
       "\n",
       "    .dataframe thead th {\n",
       "        text-align: right;\n",
       "    }\n",
       "</style>\n",
       "<table border=\"1\" class=\"dataframe\">\n",
       "  <thead>\n",
       "    <tr style=\"text-align: right;\">\n",
       "      <th></th>\n",
       "      <th>id</th>\n",
       "      <th>name</th>\n",
       "      <th>username</th>\n",
       "      <th>email</th>\n",
       "      <th>registerDate</th>\n",
       "      <th>lastvisitDate</th>\n",
       "      <th>first_citation_at</th>\n",
       "      <th>number_citations</th>\n",
       "      <th>profile_key</th>\n",
       "      <th>has_researcher_profile</th>\n",
       "      <th>number_simulations</th>\n",
       "      <th>uid</th>\n",
       "    </tr>\n",
       "  </thead>\n",
       "  <tbody>\n",
       "    <tr>\n",
       "      <th>272686</th>\n",
       "      <td>356675</td>\n",
       "      <td>Ra Abd</td>\n",
       "      <td>eyad2020</td>\n",
       "      <td>rabab.r3ab@gmail.com</td>\n",
       "      <td>2022-02-12 00:28:49</td>\n",
       "      <td>2022-02-12 00:29:39</td>\n",
       "      <td>NaN</td>\n",
       "      <td>0.0</td>\n",
       "      <td>[]</td>\n",
       "      <td>False</td>\n",
       "      <td>0.0</td>\n",
       "      <td>NaN</td>\n",
       "    </tr>\n",
       "    <tr>\n",
       "      <th>272687</th>\n",
       "      <td>356676</td>\n",
       "      <td>Pede John Villadares Garzon</td>\n",
       "      <td>john1973</td>\n",
       "      <td>pedejohngarzon@gmail.com</td>\n",
       "      <td>2022-02-12 00:45:10</td>\n",
       "      <td>2022-02-12 00:45:11</td>\n",
       "      <td>NaN</td>\n",
       "      <td>0.0</td>\n",
       "      <td>[]</td>\n",
       "      <td>False</td>\n",
       "      <td>0.0</td>\n",
       "      <td>NaN</td>\n",
       "    </tr>\n",
       "    <tr>\n",
       "      <th>272688</th>\n",
       "      <td>356677</td>\n",
       "      <td>Busra Ozdemir</td>\n",
       "      <td>-193184</td>\n",
       "      <td>-193184@invalid</td>\n",
       "      <td>2022-02-12 00:58:08</td>\n",
       "      <td>2022-02-12 00:58:08</td>\n",
       "      <td>NaN</td>\n",
       "      <td>0.0</td>\n",
       "      <td>[]</td>\n",
       "      <td>False</td>\n",
       "      <td>0.0</td>\n",
       "      <td>NaN</td>\n",
       "    </tr>\n",
       "    <tr>\n",
       "      <th>272689</th>\n",
       "      <td>356679</td>\n",
       "      <td>Mahdi Salari</td>\n",
       "      <td>mahdisalari82020</td>\n",
       "      <td>mahdisalari82020@gmail.com</td>\n",
       "      <td>2022-02-12 02:18:29</td>\n",
       "      <td>2022-02-12 02:18:30</td>\n",
       "      <td>NaN</td>\n",
       "      <td>0.0</td>\n",
       "      <td>[]</td>\n",
       "      <td>False</td>\n",
       "      <td>0.0</td>\n",
       "      <td>NaN</td>\n",
       "    </tr>\n",
       "    <tr>\n",
       "      <th>272690</th>\n",
       "      <td>356680</td>\n",
       "      <td>王鸣雁</td>\n",
       "      <td>-193187</td>\n",
       "      <td>-193187@invalid</td>\n",
       "      <td>2022-02-12 02:27:35</td>\n",
       "      <td>2022-02-12 02:27:36</td>\n",
       "      <td>NaN</td>\n",
       "      <td>0.0</td>\n",
       "      <td>[]</td>\n",
       "      <td>False</td>\n",
       "      <td>0.0</td>\n",
       "      <td>NaN</td>\n",
       "    </tr>\n",
       "  </tbody>\n",
       "</table>\n",
       "</div>"
      ],
      "text/plain": [
       "            id                         name          username  \\\n",
       "272686  356675                       Ra Abd          eyad2020   \n",
       "272687  356676  Pede John Villadares Garzon          john1973   \n",
       "272688  356677                Busra Ozdemir           -193184   \n",
       "272689  356679                 Mahdi Salari  mahdisalari82020   \n",
       "272690  356680                          王鸣雁           -193187   \n",
       "\n",
       "                             email         registerDate        lastvisitDate  \\\n",
       "272686        rabab.r3ab@gmail.com  2022-02-12 00:28:49  2022-02-12 00:29:39   \n",
       "272687    pedejohngarzon@gmail.com  2022-02-12 00:45:10  2022-02-12 00:45:11   \n",
       "272688             -193184@invalid  2022-02-12 00:58:08  2022-02-12 00:58:08   \n",
       "272689  mahdisalari82020@gmail.com  2022-02-12 02:18:29  2022-02-12 02:18:30   \n",
       "272690             -193187@invalid  2022-02-12 02:27:35  2022-02-12 02:27:36   \n",
       "\n",
       "       first_citation_at  number_citations profile_key  \\\n",
       "272686               NaN               0.0          []   \n",
       "272687               NaN               0.0          []   \n",
       "272688               NaN               0.0          []   \n",
       "272689               NaN               0.0          []   \n",
       "272690               NaN               0.0          []   \n",
       "\n",
       "        has_researcher_profile  number_simulations  uid  \n",
       "272686                   False                 0.0  NaN  \n",
       "272687                   False                 0.0  NaN  \n",
       "272688                   False                 0.0  NaN  \n",
       "272689                   False                 0.0  NaN  \n",
       "272690                   False                 0.0  NaN  "
      ]
     },
     "metadata": {},
     "output_type": "display_data"
    }
   ],
   "source": [
    "all_users_df = processed_mapper.read(derived_data_file_path)\n",
    "all_users_df['id'] = all_users_df.id.astype(int)\n",
    "#all_users_df['is_researcher'] = False\n",
    "display(all_users_df.tail())"
   ]
  },
  {
   "cell_type": "code",
   "execution_count": null,
   "id": "c525bfa8-aa8c-4bf5-a91d-e383530b3906",
   "metadata": {},
   "outputs": [],
   "source": []
  },
  {
   "cell_type": "code",
   "execution_count": 3,
   "id": "9242dd6f-82c6-4f1f-86d4-29a4a3558a29",
   "metadata": {
    "execution": {
     "iopub.execute_input": "2022-02-18T19:47:07.674199Z",
     "iopub.status.busy": "2022-02-18T19:47:07.673028Z",
     "iopub.status.idle": "2022-02-18T19:47:13.886615Z",
     "shell.execute_reply": "2022-02-18T19:47:13.874256Z",
     "shell.execute_reply.started": "2022-02-18T19:47:07.673885Z"
    }
   },
   "outputs": [
    {
     "data": {
      "text/html": [
       "<div>\n",
       "<style scoped>\n",
       "    .dataframe tbody tr th:only-of-type {\n",
       "        vertical-align: middle;\n",
       "    }\n",
       "\n",
       "    .dataframe tbody tr th {\n",
       "        vertical-align: top;\n",
       "    }\n",
       "\n",
       "    .dataframe thead th {\n",
       "        text-align: right;\n",
       "    }\n",
       "</style>\n",
       "<table border=\"1\" class=\"dataframe\">\n",
       "  <thead>\n",
       "    <tr style=\"text-align: right;\">\n",
       "      <th></th>\n",
       "      <th>id</th>\n",
       "      <th>cid</th>\n",
       "      <th>author</th>\n",
       "      <th>authorid</th>\n",
       "      <th>uidNumber</th>\n",
       "      <th>ordering</th>\n",
       "      <th>givenName</th>\n",
       "      <th>middleName</th>\n",
       "      <th>surname</th>\n",
       "      <th>organization</th>\n",
       "      <th>...</th>\n",
       "      <th>ipCITY</th>\n",
       "      <th>ipLATITUDE</th>\n",
       "      <th>ipLONGITUDE</th>\n",
       "      <th>in_network</th>\n",
       "      <th>orcid</th>\n",
       "      <th>research_id</th>\n",
       "      <th>gscholar_id</th>\n",
       "      <th>scopus_id</th>\n",
       "      <th>researchgate_id</th>\n",
       "      <th>notes</th>\n",
       "    </tr>\n",
       "  </thead>\n",
       "  <tbody>\n",
       "    <tr>\n",
       "      <th>0</th>\n",
       "      <td>189134</td>\n",
       "      <td>10001576</td>\n",
       "      <td>Woody Gilbertson</td>\n",
       "      <td>0</td>\n",
       "      <td>100100</td>\n",
       "      <td>4</td>\n",
       "      <td>Woody</td>\n",
       "      <td></td>\n",
       "      <td>Gilbertson</td>\n",
       "      <td>Purdue University</td>\n",
       "      <td>...</td>\n",
       "      <td></td>\n",
       "      <td>NaN</td>\n",
       "      <td>NaN</td>\n",
       "      <td>0</td>\n",
       "      <td>None</td>\n",
       "      <td>None</td>\n",
       "      <td>None</td>\n",
       "      <td>None</td>\n",
       "      <td>None</td>\n",
       "      <td>None</td>\n",
       "    </tr>\n",
       "    <tr>\n",
       "      <th>1</th>\n",
       "      <td>189135</td>\n",
       "      <td>10001576</td>\n",
       "      <td>Hesameddin Ilatikhameneh</td>\n",
       "      <td>0</td>\n",
       "      <td>42735</td>\n",
       "      <td>5</td>\n",
       "      <td>Hesameddin</td>\n",
       "      <td></td>\n",
       "      <td>Ilatikhameneh</td>\n",
       "      <td>Purdue University</td>\n",
       "      <td>...</td>\n",
       "      <td></td>\n",
       "      <td>NaN</td>\n",
       "      <td>NaN</td>\n",
       "      <td>0</td>\n",
       "      <td>None</td>\n",
       "      <td>None</td>\n",
       "      <td>None</td>\n",
       "      <td>None</td>\n",
       "      <td>None</td>\n",
       "      <td>None</td>\n",
       "    </tr>\n",
       "    <tr>\n",
       "      <th>2</th>\n",
       "      <td>189132</td>\n",
       "      <td>10001576</td>\n",
       "      <td>Daniel F Mejia</td>\n",
       "      <td>0</td>\n",
       "      <td>52349</td>\n",
       "      <td>2</td>\n",
       "      <td>Daniel</td>\n",
       "      <td>F</td>\n",
       "      <td>Mejia</td>\n",
       "      <td>Purdue University</td>\n",
       "      <td>...</td>\n",
       "      <td></td>\n",
       "      <td>NaN</td>\n",
       "      <td>NaN</td>\n",
       "      <td>0</td>\n",
       "      <td>None</td>\n",
       "      <td>None</td>\n",
       "      <td>None</td>\n",
       "      <td>None</td>\n",
       "      <td>None</td>\n",
       "      <td>None</td>\n",
       "    </tr>\n",
       "    <tr>\n",
       "      <th>3</th>\n",
       "      <td>189133</td>\n",
       "      <td>10001576</td>\n",
       "      <td>James Charles</td>\n",
       "      <td>0</td>\n",
       "      <td>65635</td>\n",
       "      <td>3</td>\n",
       "      <td>James</td>\n",
       "      <td></td>\n",
       "      <td>Charles</td>\n",
       "      <td>Purdue University</td>\n",
       "      <td>...</td>\n",
       "      <td></td>\n",
       "      <td>NaN</td>\n",
       "      <td>NaN</td>\n",
       "      <td>0</td>\n",
       "      <td>None</td>\n",
       "      <td>None</td>\n",
       "      <td>None</td>\n",
       "      <td>None</td>\n",
       "      <td>None</td>\n",
       "      <td>None</td>\n",
       "    </tr>\n",
       "    <tr>\n",
       "      <th>4</th>\n",
       "      <td>189131</td>\n",
       "      <td>10001576</td>\n",
       "      <td>Prasad Sarangapani</td>\n",
       "      <td>0</td>\n",
       "      <td>72949</td>\n",
       "      <td>1</td>\n",
       "      <td>Prasad</td>\n",
       "      <td></td>\n",
       "      <td>Sarangapani</td>\n",
       "      <td>Purdue University</td>\n",
       "      <td>...</td>\n",
       "      <td></td>\n",
       "      <td>NaN</td>\n",
       "      <td>NaN</td>\n",
       "      <td>0</td>\n",
       "      <td>None</td>\n",
       "      <td>None</td>\n",
       "      <td>None</td>\n",
       "      <td>None</td>\n",
       "      <td>None</td>\n",
       "      <td>None</td>\n",
       "    </tr>\n",
       "    <tr>\n",
       "      <th>...</th>\n",
       "      <td>...</td>\n",
       "      <td>...</td>\n",
       "      <td>...</td>\n",
       "      <td>...</td>\n",
       "      <td>...</td>\n",
       "      <td>...</td>\n",
       "      <td>...</td>\n",
       "      <td>...</td>\n",
       "      <td>...</td>\n",
       "      <td>...</td>\n",
       "      <td>...</td>\n",
       "      <td>...</td>\n",
       "      <td>...</td>\n",
       "      <td>...</td>\n",
       "      <td>...</td>\n",
       "      <td>...</td>\n",
       "      <td>...</td>\n",
       "      <td>...</td>\n",
       "      <td>...</td>\n",
       "      <td>...</td>\n",
       "      <td>...</td>\n",
       "    </tr>\n",
       "    <tr>\n",
       "      <th>16884</th>\n",
       "      <td>17997619</td>\n",
       "      <td>1280</td>\n",
       "      <td>Yaohua Tan</td>\n",
       "      <td>3015</td>\n",
       "      <td>30369</td>\n",
       "      <td>0</td>\n",
       "      <td>Yaohua</td>\n",
       "      <td>P.</td>\n",
       "      <td>Tan</td>\n",
       "      <td>Purdue University</td>\n",
       "      <td>...</td>\n",
       "      <td></td>\n",
       "      <td>0.0</td>\n",
       "      <td>0.0</td>\n",
       "      <td>0</td>\n",
       "      <td></td>\n",
       "      <td></td>\n",
       "      <td></td>\n",
       "      <td></td>\n",
       "      <td></td>\n",
       "      <td></td>\n",
       "    </tr>\n",
       "    <tr>\n",
       "      <th>16885</th>\n",
       "      <td>17997617</td>\n",
       "      <td>256</td>\n",
       "      <td>Xingwu Liu</td>\n",
       "      <td>628</td>\n",
       "      <td>0</td>\n",
       "      <td>2</td>\n",
       "      <td>Xingwu</td>\n",
       "      <td></td>\n",
       "      <td>Liu</td>\n",
       "      <td>Chinese Academy Of Sciences</td>\n",
       "      <td>...</td>\n",
       "      <td>BEIJING</td>\n",
       "      <td>0.0</td>\n",
       "      <td>0.0</td>\n",
       "      <td>-1</td>\n",
       "      <td></td>\n",
       "      <td></td>\n",
       "      <td></td>\n",
       "      <td></td>\n",
       "      <td></td>\n",
       "      <td></td>\n",
       "    </tr>\n",
       "    <tr>\n",
       "      <th>16886</th>\n",
       "      <td>17997616</td>\n",
       "      <td>256</td>\n",
       "      <td>Lijuan Xiao</td>\n",
       "      <td>627</td>\n",
       "      <td>0</td>\n",
       "      <td>1</td>\n",
       "      <td>Lijuan</td>\n",
       "      <td></td>\n",
       "      <td>Xiao</td>\n",
       "      <td>Chinese Academy Of Sciences</td>\n",
       "      <td>...</td>\n",
       "      <td>BEIJING</td>\n",
       "      <td>0.0</td>\n",
       "      <td>0.0</td>\n",
       "      <td>-1</td>\n",
       "      <td></td>\n",
       "      <td></td>\n",
       "      <td></td>\n",
       "      <td></td>\n",
       "      <td></td>\n",
       "      <td></td>\n",
       "    </tr>\n",
       "    <tr>\n",
       "      <th>16887</th>\n",
       "      <td>17997618</td>\n",
       "      <td>1024</td>\n",
       "      <td>J. Ramani</td>\n",
       "      <td>2334</td>\n",
       "      <td>0</td>\n",
       "      <td>0</td>\n",
       "      <td>J.</td>\n",
       "      <td></td>\n",
       "      <td>Ramani</td>\n",
       "      <td>Ohio University</td>\n",
       "      <td>...</td>\n",
       "      <td></td>\n",
       "      <td>0.0</td>\n",
       "      <td>0.0</td>\n",
       "      <td>0</td>\n",
       "      <td></td>\n",
       "      <td></td>\n",
       "      <td></td>\n",
       "      <td></td>\n",
       "      <td></td>\n",
       "      <td></td>\n",
       "    </tr>\n",
       "    <tr>\n",
       "      <th>16888</th>\n",
       "      <td>17997615</td>\n",
       "      <td>256</td>\n",
       "      <td>Zhiwei Xu</td>\n",
       "      <td>626</td>\n",
       "      <td>0</td>\n",
       "      <td>0</td>\n",
       "      <td>Zhiwei</td>\n",
       "      <td></td>\n",
       "      <td>Xu</td>\n",
       "      <td>Chinese Academy Of Sciences</td>\n",
       "      <td>...</td>\n",
       "      <td>BEIJING</td>\n",
       "      <td>0.0</td>\n",
       "      <td>0.0</td>\n",
       "      <td>-1</td>\n",
       "      <td></td>\n",
       "      <td></td>\n",
       "      <td></td>\n",
       "      <td></td>\n",
       "      <td></td>\n",
       "      <td></td>\n",
       "    </tr>\n",
       "  </tbody>\n",
       "</table>\n",
       "<p>16889 rows × 29 columns</p>\n",
       "</div>"
      ],
      "text/plain": [
       "             id       cid                    author  authorid  uidNumber  \\\n",
       "0        189134  10001576          Woody Gilbertson         0     100100   \n",
       "1        189135  10001576  Hesameddin Ilatikhameneh         0      42735   \n",
       "2        189132  10001576            Daniel F Mejia         0      52349   \n",
       "3        189133  10001576             James Charles         0      65635   \n",
       "4        189131  10001576        Prasad Sarangapani         0      72949   \n",
       "...         ...       ...                       ...       ...        ...   \n",
       "16884  17997619      1280                Yaohua Tan      3015      30369   \n",
       "16885  17997617       256                Xingwu Liu       628          0   \n",
       "16886  17997616       256               Lijuan Xiao       627          0   \n",
       "16887  17997618      1024                 J. Ramani      2334          0   \n",
       "16888  17997615       256                 Zhiwei Xu       626          0   \n",
       "\n",
       "       ordering   givenName middleName        surname  \\\n",
       "0             4       Woody                Gilbertson   \n",
       "1             5  Hesameddin             Ilatikhameneh   \n",
       "2             2      Daniel          F          Mejia   \n",
       "3             3       James                   Charles   \n",
       "4             1      Prasad               Sarangapani   \n",
       "...         ...         ...        ...            ...   \n",
       "16884         0      Yaohua         P.            Tan   \n",
       "16885         2      Xingwu                       Liu   \n",
       "16886         1      Lijuan                      Xiao   \n",
       "16887         0          J.                    Ramani   \n",
       "16888         0      Zhiwei                        Xu   \n",
       "\n",
       "                      organization  ...   ipCITY ipLATITUDE ipLONGITUDE  \\\n",
       "0                Purdue University  ...                 NaN         NaN   \n",
       "1                Purdue University  ...                 NaN         NaN   \n",
       "2                Purdue University  ...                 NaN         NaN   \n",
       "3                Purdue University  ...                 NaN         NaN   \n",
       "4                Purdue University  ...                 NaN         NaN   \n",
       "...                            ...  ...      ...        ...         ...   \n",
       "16884            Purdue University  ...                 0.0         0.0   \n",
       "16885  Chinese Academy Of Sciences  ...  BEIJING        0.0         0.0   \n",
       "16886  Chinese Academy Of Sciences  ...  BEIJING        0.0         0.0   \n",
       "16887              Ohio University  ...                 0.0         0.0   \n",
       "16888  Chinese Academy Of Sciences  ...  BEIJING        0.0         0.0   \n",
       "\n",
       "      in_network orcid research_id gscholar_id scopus_id researchgate_id notes  \n",
       "0              0  None        None        None      None            None  None  \n",
       "1              0  None        None        None      None            None  None  \n",
       "2              0  None        None        None      None            None  None  \n",
       "3              0  None        None        None      None            None  None  \n",
       "4              0  None        None        None      None            None  None  \n",
       "...          ...   ...         ...         ...       ...             ...   ...  \n",
       "16884          0                                                                \n",
       "16885         -1                                                                \n",
       "16886         -1                                                                \n",
       "16887          0                                                                \n",
       "16888         -1                                                                \n",
       "\n",
       "[16889 rows x 29 columns]"
      ]
     },
     "metadata": {},
     "output_type": "display_data"
    },
    {
     "ename": "RuntimeError",
     "evalue": "No active exception to reraise",
     "output_type": "error",
     "traceback": [
      "\u001b[0;31m---------------------------------------------------------------------------\u001b[0m",
      "\u001b[0;31mRuntimeError\u001b[0m                              Traceback (most recent call last)",
      "Input \u001b[0;32mIn [3]\u001b[0m, in \u001b[0;36m<module>\u001b[0;34m\u001b[0m\n\u001b[1;32m      2\u001b[0m authors_df \u001b[38;5;241m=\u001b[39m pd\u001b[38;5;241m.\u001b[39mread_sql_query(sql_query, nanohub_db)\n\u001b[1;32m      4\u001b[0m display(authors_df)\n\u001b[0;32m----> 5\u001b[0m \u001b[38;5;28;01mraise\u001b[39;00m\n",
      "\u001b[0;31mRuntimeError\u001b[0m: No active exception to reraise"
     ]
    }
   ],
   "source": [
    "sql_query = \"select * from jos_citations_authors;\"\n",
    "authors_df = pd.read_sql_query(sql_query, nanohub_db)\n",
    "\n",
    "display(authors_df)\n",
    "raise"
   ]
  },
  {
   "cell_type": "code",
   "execution_count": null,
   "id": "2908e837-9e5f-4bfe-b129-2676d106064f",
   "metadata": {
    "execution": {
     "iopub.status.busy": "2022-02-18T19:47:13.889106Z",
     "iopub.status.idle": "2022-02-18T19:47:13.889898Z",
     "shell.execute_reply": "2022-02-18T19:47:13.889684Z",
     "shell.execute_reply.started": "2022-02-18T19:47:13.889645Z"
    },
    "tags": []
   },
   "outputs": [],
   "source": [
    "# Basic tool information\n",
    "sql_query = '''\n",
    "SELECT c.uid, c.created\n",
    "    FROM jos_citations as c \n",
    "    LEFT JOIN jos_citations_types AS t \n",
    "    ON c.type = t.id \\\n",
    "'''\n",
    "\n",
    "citations_df = pd.read_sql_query(sql_query, nanohub_db)\n",
    "citations_df = citations_df.dropna()\n",
    "citations_df['number_citations'] = citations_df.groupby(['uid'])[\"created\"].transform(\"count\")\n",
    "citations_df = citations_df.drop_duplicates(subset = ['uid'])\n",
    "citations_df['uid'] = citations_df.uid.astype(int)\n",
    "citations_df = citations_df.rename({'created': 'first_citation_at'}, axis=1) \n",
    "\n",
    "display(len(citations_df))"
   ]
  },
  {
   "cell_type": "code",
   "execution_count": null,
   "id": "77cdb522-294f-4d1e-bca7-e347b6721dd3",
   "metadata": {
    "execution": {
     "iopub.status.busy": "2022-02-18T19:47:13.916690Z",
     "iopub.status.idle": "2022-02-18T19:47:13.922821Z",
     "shell.execute_reply": "2022-02-18T19:47:13.921666Z",
     "shell.execute_reply.started": "2022-02-18T19:47:13.921614Z"
    },
    "tags": []
   },
   "outputs": [],
   "source": [
    "#unique_authors = citations_df.uid.unique().tolist()\n",
    "#unique_authors = list(map(int, unique_authors))\n",
    "#display(unique_authors)\n"
   ]
  },
  {
   "cell_type": "code",
   "execution_count": null,
   "id": "f7449c52-ff8b-40b4-b9ed-13ec3bc81ec9",
   "metadata": {
    "execution": {
     "iopub.status.busy": "2022-02-18T19:47:13.929095Z",
     "iopub.status.idle": "2022-02-18T19:47:13.933905Z",
     "shell.execute_reply": "2022-02-18T19:47:13.931194Z",
     "shell.execute_reply.started": "2022-02-18T19:47:13.930759Z"
    },
    "tags": []
   },
   "outputs": [],
   "source": [
    "all_users_df = all_users_df.merge(citations_df, how='left', left_on='id', right_on='uid')\n",
    "all_users_df = all_users_df.drop(columns='uid')\n",
    "\n",
    "all_users_df['number_citations'].fillna(0, inplace=True)\n",
    "condition = all_users_df[\"number_citations\"] > 0\n",
    "#all_users_df[\"is_researcher\"] = np.where(condition, True, all_users_df['is_researcher'])\n",
    "\n"
   ]
  },
  {
   "cell_type": "code",
   "execution_count": null,
   "id": "a71f0a89-07df-40d9-b369-2719ea03de09",
   "metadata": {
    "execution": {
     "iopub.status.busy": "2022-02-18T19:47:13.938636Z",
     "iopub.status.idle": "2022-02-18T19:47:13.940294Z",
     "shell.execute_reply": "2022-02-18T19:47:13.939498Z",
     "shell.execute_reply.started": "2022-02-18T19:47:13.939413Z"
    },
    "tags": []
   },
   "outputs": [],
   "source": [
    "#display(all_users_df.loc[all_users_df['is_researcher'].notna()])"
   ]
  },
  {
   "cell_type": "code",
   "execution_count": null,
   "id": "80e0be8d-b153-4f16-82a5-0620a1521269",
   "metadata": {
    "execution": {
     "iopub.status.busy": "2022-02-18T19:47:13.946378Z",
     "iopub.status.idle": "2022-02-18T19:47:13.947607Z",
     "shell.execute_reply": "2022-02-18T19:47:13.947035Z",
     "shell.execute_reply.started": "2022-02-18T19:47:13.946891Z"
    },
    "tags": []
   },
   "outputs": [],
   "source": [
    "display(all_users_df)"
   ]
  },
  {
   "cell_type": "code",
   "execution_count": null,
   "id": "2acfa12b-8bcf-4c9b-b086-852848fd40b1",
   "metadata": {
    "execution": {
     "iopub.status.busy": "2022-02-18T19:47:13.951777Z",
     "iopub.status.idle": "2022-02-18T19:47:13.957968Z",
     "shell.execute_reply": "2022-02-18T19:47:13.953017Z",
     "shell.execute_reply.started": "2022-02-18T19:47:13.952960Z"
    },
    "tags": []
   },
   "outputs": [],
   "source": [
    "# get user profile details\n",
    "sql_query = '''\n",
    "SELECT user_id, profile_key FROM jos_user_profiles\n",
    "WHERE profile_key in ('researcherid', 'googlescholar', 'orcid', 'researchgateid', 'scopusid')\n",
    "'''\n",
    "profile_df = pd.read_sql_query(sql_query, nanohub_db)\n",
    "\n",
    "\n",
    "\n",
    "display(len(profile_df))\n",
    "display(profile_df.head())\n",
    "display(profile_df.tail())"
   ]
  },
  {
   "cell_type": "code",
   "execution_count": null,
   "id": "22a4d525-3bbc-4aa9-aa94-57be2274c663",
   "metadata": {
    "execution": {
     "iopub.status.busy": "2022-02-18T19:47:13.962586Z",
     "iopub.status.idle": "2022-02-18T19:47:13.963724Z",
     "shell.execute_reply": "2022-02-18T19:47:13.962858Z",
     "shell.execute_reply.started": "2022-02-18T19:47:13.962827Z"
    },
    "tags": []
   },
   "outputs": [],
   "source": [
    "display(profile_df.profile_key.unique())"
   ]
  },
  {
   "cell_type": "code",
   "execution_count": null,
   "id": "1fb5e6b7-5f66-4d39-8820-7c9233679a8f",
   "metadata": {
    "execution": {
     "iopub.status.busy": "2022-02-18T19:47:13.967459Z",
     "iopub.status.idle": "2022-02-18T19:47:13.967874Z",
     "shell.execute_reply": "2022-02-18T19:47:13.967702Z",
     "shell.execute_reply.started": "2022-02-18T19:47:13.967672Z"
    },
    "tags": []
   },
   "outputs": [],
   "source": [
    "profile_df = profile_df.groupby(['user_id'], as_index=False)['profile_key'].agg(list)"
   ]
  },
  {
   "cell_type": "code",
   "execution_count": null,
   "id": "cf13d55f-e4fc-4257-8029-1ec6254f7339",
   "metadata": {
    "execution": {
     "iopub.status.busy": "2022-02-18T19:47:13.976100Z",
     "iopub.status.idle": "2022-02-18T19:47:13.976981Z",
     "shell.execute_reply": "2022-02-18T19:47:13.976737Z",
     "shell.execute_reply.started": "2022-02-18T19:47:13.976702Z"
    },
    "tags": []
   },
   "outputs": [],
   "source": [
    "display(profile_df)"
   ]
  },
  {
   "cell_type": "code",
   "execution_count": null,
   "id": "6f3c58a4-0fb6-400d-8871-8618c12b5565",
   "metadata": {
    "execution": {
     "iopub.status.busy": "2022-02-18T19:47:13.982370Z",
     "iopub.status.idle": "2022-02-18T19:47:13.983255Z",
     "shell.execute_reply": "2022-02-18T19:47:13.982899Z",
     "shell.execute_reply.started": "2022-02-18T19:47:13.982867Z"
    },
    "tags": []
   },
   "outputs": [],
   "source": [
    "profile_df['has_researcher_profile'] = True\n",
    "profile_df['user_id'] = profile_df['user_id'].astype(int)\n",
    "display(profile_df[profile_df[\"user_id\"] == 2862])\n",
    "\n",
    "all_users_df = all_users_df.merge(profile_df, how='left', left_on='id', right_on='user_id')\n",
    "display(all_users_df[all_users_df[\"id\"] == 2862])\n",
    "\n",
    "all_users_df['has_researcher_profile'].fillna(False,inplace=True)\n",
    "all_users_df['profile_key'] = all_users_df['profile_key'].apply(lambda d: d if isinstance(d, list) else [])\n",
    "all_users_df = all_users_df.drop(columns='user_id')"
   ]
  },
  {
   "cell_type": "code",
   "execution_count": null,
   "id": "e004ced8-26d5-4366-b005-50ac1dae26f2",
   "metadata": {
    "execution": {
     "iopub.status.busy": "2022-02-18T19:47:13.990137Z",
     "iopub.status.idle": "2022-02-18T19:47:13.993074Z",
     "shell.execute_reply": "2022-02-18T19:47:13.991636Z",
     "shell.execute_reply.started": "2022-02-18T19:47:13.991433Z"
    },
    "tags": []
   },
   "outputs": [],
   "source": [
    "display(len(all_users_df[all_users_df[\"profile_key\"].str.len() == 0]))\n",
    "display(len(all_users_df[all_users_df[\"profile_key\"].str.len() == 1]))\n",
    "display(all_users_df[all_users_df[\"id\"] == 2579])\n",
    "display(all_users_df[all_users_df['id'] == 998])"
   ]
  },
  {
   "cell_type": "code",
   "execution_count": null,
   "id": "52263c65-990e-4b00-a0e4-80f4b55fce94",
   "metadata": {
    "tags": []
   },
   "outputs": [],
   "source": []
  },
  {
   "cell_type": "code",
   "execution_count": null,
   "id": "17e07f58-d6ce-4eb1-8c1b-3b387c75dee9",
   "metadata": {},
   "outputs": [],
   "source": []
  },
  {
   "cell_type": "code",
   "execution_count": null,
   "id": "db86314d-fc9e-484f-bb22-b50c8ece53af",
   "metadata": {
    "execution": {
     "iopub.status.busy": "2022-02-18T19:47:13.997895Z",
     "iopub.status.idle": "2022-02-18T19:47:14.000779Z",
     "shell.execute_reply": "2022-02-18T19:47:14.000034Z",
     "shell.execute_reply.started": "2022-02-18T19:47:13.999912Z"
    },
    "tags": []
   },
   "outputs": [],
   "source": [
    "processed_mapper.save_as_csv(all_users_df, derived_data_file_path, index=None)\n",
    "\n",
    "test_df = processed_mapper.read(derived_data_file_path)\n",
    "display(test_df)"
   ]
  },
  {
   "cell_type": "code",
   "execution_count": null,
   "id": "caef50bd-25ec-4434-bf54-b6fb5166ce99",
   "metadata": {
    "execution": {
     "iopub.status.busy": "2022-02-18T19:47:14.004648Z",
     "iopub.status.idle": "2022-02-18T19:47:14.005728Z",
     "shell.execute_reply": "2022-02-18T19:47:14.005371Z",
     "shell.execute_reply.started": "2022-02-18T19:47:14.005218Z"
    },
    "tags": []
   },
   "outputs": [],
   "source": [
    "display(\"# of users with citations > 1 = %d\" % len(test_df[test_df['number_citations'] > 1]))"
   ]
  },
  {
   "cell_type": "code",
   "execution_count": null,
   "id": "60ffaecd-afdd-4e14-afbf-aaaa111110b4",
   "metadata": {},
   "outputs": [],
   "source": []
  }
 ],
 "metadata": {
  "kernelspec": {
   "display_name": "Python 3 (ipykernel)",
   "language": "python",
   "name": "python3"
  },
  "language_info": {
   "codemirror_mode": {
    "name": "ipython",
    "version": 3
   },
   "file_extension": ".py",
   "mimetype": "text/x-python",
   "name": "python",
   "nbconvert_exporter": "python",
   "pygments_lexer": "ipython3",
   "version": "3.8.10"
  }
 },
 "nbformat": 4,
 "nbformat_minor": 5
}
