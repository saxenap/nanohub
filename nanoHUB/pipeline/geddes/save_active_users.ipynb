{
 "cells": [
  {
   "cell_type": "code",
   "execution_count": 1,
   "id": "ab848070-08eb-4e87-aff1-cf805eaf61c2",
   "metadata": {
    "execution": {
     "iopub.execute_input": "2022-02-03T02:26:15.878199Z",
     "iopub.status.busy": "2022-02-03T02:26:15.876336Z",
     "iopub.status.idle": "2022-02-03T02:26:18.592901Z",
     "shell.execute_reply": "2022-02-03T02:26:18.591691Z",
     "shell.execute_reply.started": "2022-02-03T02:26:15.878035Z"
    },
    "tags": []
   },
   "outputs": [
    {
     "name": "stdout",
     "output_type": "stream",
     "text": [
      "\u001b[1mnanoHUB - Serving Students, Researchers & Instructors\u001b[0m\n"
     ]
    }
   ],
   "source": [
    "from nanoHUB.clustering.infra import db_query_active_users_by_semester, db_query_active_users_by_month\n",
    "from nanoHUB.clustering.infra import get_active_users_by_month, save_active_users_by_month, get_active_users_by_semester, save_active_users_by_semester \n",
    "from nanoHUB.application import Application\n",
    "from nanoHUB.configuration import ClusteringConfiguration\n",
    "from nanoHUB.pandas_helper import remove_display_restrictions\n",
    "from nanoHUB.pipeline.geddes.data import get_default_s3_client\n",
    "from nanoHUB.dataaccess.lake import S3FileMapper\n",
    "import pandas as pd\n",
    "\n",
    "\n",
    "remove_display_restrictions(pd)\n",
    "\n",
    "application = Application.get_instance()\n",
    "s3_client = get_default_s3_client(application)\n",
    "mapper = S3FileMapper(s3_client, ClusteringConfiguration().bucket_name_processed)"
   ]
  },
  {
   "cell_type": "code",
   "execution_count": 2,
   "id": "f01dd873-c7b8-43e6-8a04-5779a81fa0be",
   "metadata": {
    "execution": {
     "iopub.execute_input": "2022-02-03T02:26:18.611255Z",
     "iopub.status.busy": "2022-02-03T02:26:18.605974Z",
     "iopub.status.idle": "2022-02-03T02:26:18.638123Z",
     "shell.execute_reply": "2022-02-03T02:26:18.634541Z",
     "shell.execute_reply.started": "2022-02-03T02:26:18.611161Z"
    },
    "tags": []
   },
   "outputs": [],
   "source": [
    "# save_active_users_by_month(application)"
   ]
  },
  {
   "cell_type": "code",
   "execution_count": 3,
   "id": "be12cc37-5739-48e5-b725-bc971dbc60af",
   "metadata": {
    "execution": {
     "iopub.execute_input": "2022-02-03T02:26:18.644520Z",
     "iopub.status.busy": "2022-02-03T02:26:18.643233Z",
     "iopub.status.idle": "2022-02-03T02:26:18.834759Z",
     "shell.execute_reply": "2022-02-03T02:26:18.833484Z",
     "shell.execute_reply.started": "2022-02-03T02:26:18.644429Z"
    }
   },
   "outputs": [
    {
     "name": "stdout",
     "output_type": "stream",
     "text": [
      "     year  month  number_active_users\n",
      "0    2008      1                 1114\n",
      "1    2008      2                 1511\n",
      "2    2008      3                 1081\n",
      "3    2008      4                 1186\n",
      "4    2008      5                  814\n",
      "5    2008      6                  729\n",
      "6    2008      7                  747\n",
      "7    2008      8                  638\n",
      "8    2008      9                  901\n",
      "9    2008     10                 1220\n",
      "10   2008     11                 1230\n",
      "11   2008     12                  781\n",
      "12   2009      1                 1186\n",
      "13   2009      2                 1438\n",
      "14   2009      3                 1642\n",
      "15   2009      4                 1231\n",
      "16   2009      5                  832\n",
      "17   2009      6                  788\n",
      "18   2009      7                  723\n",
      "19   2009      8                  776\n",
      "20   2009      9                 1365\n",
      "21   2009     10                 1643\n",
      "22   2009     11                 1741\n",
      "23   2009     12                 1217\n",
      "24   2010      1                 1441\n",
      "25   2010      2                 1747\n",
      "26   2010      3                 1957\n",
      "27   2010      4                 1596\n",
      "28   2010      5                 1335\n",
      "29   2010      6                 1078\n",
      "30   2010      7                 1015\n",
      "31   2010      8                  990\n",
      "32   2010      9                 1602\n",
      "33   2010     10                 1925\n",
      "34   2010     11                 2168\n",
      "35   2010     12                 1396\n",
      "36   2011      1                 1336\n",
      "37   2011      2                 2153\n",
      "38   2011      3                 2020\n",
      "39   2011      4                 1994\n",
      "40   2011      5                 1464\n",
      "41   2011      6                 1214\n",
      "42   2011      7                 1088\n",
      "43   2011      8                 1214\n",
      "44   2011      9                 1654\n",
      "45   2011     10                 2060\n",
      "46   2011     11                 2161\n",
      "47   2011     12                 1510\n",
      "48   2012      1                 2010\n",
      "49   2012      2                 2398\n",
      "50   2012      3                 2193\n",
      "51   2012      4                 2278\n",
      "52   2012      5                 1631\n",
      "53   2012      6                 1315\n",
      "54   2012      7                 1343\n",
      "55   2012      8                 1150\n",
      "56   2012      9                 1868\n",
      "57   2012     10                 2085\n",
      "58   2012     11                 2117\n",
      "59   2012     12                 1545\n",
      "60   2013      1                 1518\n",
      "61   2013      2                 2619\n",
      "62   2013      3                 2157\n",
      "63   2013      4                 2182\n",
      "64   2013      5                 1650\n",
      "65   2013      6                 1353\n",
      "66   2013      7                 1381\n",
      "67   2013      8                 1336\n",
      "68   2013      9                 2105\n",
      "69   2013     10                 2121\n",
      "70   2013     11                 2406\n",
      "71   2013     12                 1479\n",
      "72   2014      1                 1603\n",
      "73   2014      2                 2536\n",
      "74   2014      3                 2055\n",
      "75   2014      4                 2092\n",
      "76   2014      5                 1393\n",
      "77   2014      6                 1061\n",
      "78   2014      7                 1092\n",
      "79   2014      8                 1140\n",
      "80   2014      9                 1980\n",
      "81   2014     10                 1966\n",
      "82   2014     11                 2079\n",
      "83   2014     12                 1556\n",
      "84   2015      1                 1632\n",
      "85   2015      2                 2200\n",
      "86   2015      3                 2232\n",
      "87   2015      4                 2124\n",
      "88   2015      5                 1425\n",
      "89   2015      6                 1093\n",
      "90   2015      7                 1297\n",
      "91   2015      8                 1385\n",
      "92   2015      9                 2484\n",
      "93   2015     10                 2528\n",
      "94   2015     11                 2063\n",
      "95   2015     12                 1824\n",
      "96   2016      1                 1605\n",
      "97   2016      2                 2105\n",
      "98   2016      3                 2468\n",
      "99   2016      4                 2539\n",
      "100  2016      5                 1628\n",
      "101  2016      6                 1424\n",
      "102  2016      7                 1535\n",
      "103  2016      8                 1870\n",
      "104  2016      9                 2744\n",
      "105  2016     10                 2596\n",
      "106  2016     11                 2760\n",
      "107  2016     12                 1959\n",
      "108  2017      1                 1830\n",
      "109  2017      2                 2491\n",
      "110  2017      3                 2743\n",
      "111  2017      4                 2459\n",
      "112  2017      5                 1753\n",
      "113  2017      6                 1499\n",
      "114  2017      7                 1427\n",
      "115  2017      8                 2099\n",
      "116  2017      9                 2825\n",
      "117  2017     10                 2797\n",
      "118  2017     11                 2762\n",
      "119  2017     12                 1982\n",
      "120  2018      1                 2029\n",
      "121  2018      2                 2206\n",
      "122  2018      3                 2281\n",
      "123  2018      4                 2740\n",
      "124  2018      5                 1904\n",
      "125  2018      6                 1350\n",
      "126  2018      7                 1804\n",
      "127  2018      8                 1974\n",
      "128  2018      9                 2423\n",
      "129  2018     10                 3004\n",
      "130  2018     11                 2787\n",
      "131  2018     12                 2166\n",
      "132  2019      1                 2118\n",
      "133  2019      2                 2479\n",
      "134  2019      3                 2550\n",
      "135  2019      4                 3071\n",
      "136  2019      5                 2292\n",
      "137  2019      6                 1318\n",
      "138  2019      7                 1427\n",
      "139  2019      8                 1535\n",
      "140  2019      9                 2297\n",
      "141  2019     10                 2667\n",
      "142  2019     11                 2646\n",
      "143  2019     12                 1886\n",
      "144  2020      1                 2028\n",
      "145  2020      2                 2476\n",
      "146  2020      3                 2797\n",
      "147  2020      4                 3911\n",
      "148  2020      5                 3282\n",
      "149  2020      6                 2401\n",
      "150  2020      7                 1831\n",
      "151  2020      8                 2229\n",
      "152  2020      9                 3057\n",
      "153  2020     10                 3945\n",
      "154  2020     11                 3994\n",
      "155  2020     12                 3146\n",
      "156  2021      1                 2792\n",
      "157  2021      2                 3246\n",
      "158  2021      3                 3662\n",
      "159  2021      4                 3754\n",
      "160  2021      5                 3644\n",
      "161  2021      6                 2315\n",
      "162  2021      7                 2019\n",
      "163  2021      8                 2409\n",
      "164  2021      9                 3076\n",
      "165  2021     10                 3346\n",
      "166  2021     11                 4122\n",
      "167  2021     12                 3282\n"
     ]
    }
   ],
   "source": [
    "active_users = get_active_users_by_month(mapper)\n",
    "print(active_users)"
   ]
  },
  {
   "cell_type": "code",
   "execution_count": 4,
   "id": "a2c29051-6d3b-4c69-8746-60e5415fe0f6",
   "metadata": {
    "execution": {
     "iopub.execute_input": "2022-02-03T02:26:18.840664Z",
     "iopub.status.busy": "2022-02-03T02:26:18.840247Z",
     "iopub.status.idle": "2022-02-03T02:32:02.557056Z",
     "shell.execute_reply": "2022-02-03T02:32:02.554043Z",
     "shell.execute_reply.started": "2022-02-03T02:26:18.840493Z"
    },
    "tags": []
   },
   "outputs": [],
   "source": [
    "save_active_users_by_semester(application)"
   ]
  },
  {
   "cell_type": "code",
   "execution_count": 5,
   "id": "c461f43e-9fbe-493d-8d31-faa387ab7874",
   "metadata": {
    "execution": {
     "iopub.execute_input": "2022-02-03T02:32:02.562906Z",
     "iopub.status.busy": "2022-02-03T02:32:02.562171Z",
     "iopub.status.idle": "2022-02-03T02:32:02.775405Z",
     "shell.execute_reply": "2022-02-03T02:32:02.773384Z",
     "shell.execute_reply.started": "2022-02-03T02:32:02.562847Z"
    },
    "tags": []
   },
   "outputs": [
    {
     "name": "stdout",
     "output_type": "stream",
     "text": [
      "    year semester  number_active_users\n",
      "0   2008     fall                 3575\n",
      "1   2008   spring                 3938\n",
      "2   2009     fall                 4168\n",
      "3   2009   spring                 4158\n",
      "4   2010     fall                 5594\n",
      "5   2010   spring                 5492\n",
      "6   2011     fall                 5984\n",
      "7   2011   spring                 6290\n",
      "8   2012     fall                 6372\n",
      "9   2012   spring                 7269\n",
      "10  2013     fall                 7013\n",
      "11  2013   spring                 7527\n",
      "12  2014     fall                 6356\n",
      "13  2014   spring                 7041\n",
      "14  2015     fall                 7353\n",
      "15  2015   spring                 6985\n",
      "16  2016     fall                 8967\n",
      "17  2016   spring                 7923\n",
      "18  2017     fall                 9014\n",
      "19  2017   spring                 8741\n",
      "20  2018     fall                 9511\n",
      "21  2018   spring                 8732\n",
      "22  2019     fall                 8643\n",
      "23  2019   spring                 9441\n",
      "24  2020     fall                11972\n",
      "25  2020   spring                11699\n",
      "26  2021     fall                11532\n",
      "27  2021   spring                12765\n"
     ]
    }
   ],
   "source": [
    "active_users = get_active_users_by_semester(mapper)\n",
    "print(active_users)"
   ]
  },
  {
   "cell_type": "code",
   "execution_count": null,
   "id": "498f9532-c35c-451a-bfa9-6aed6a4ff9fc",
   "metadata": {},
   "outputs": [],
   "source": []
  }
 ],
 "metadata": {
  "kernelspec": {
   "display_name": "Python 3 (ipykernel)",
   "language": "python",
   "name": "python3"
  },
  "language_info": {
   "codemirror_mode": {
    "name": "ipython",
    "version": 3
   },
   "file_extension": ".py",
   "mimetype": "text/x-python",
   "name": "python",
   "nbconvert_exporter": "python",
   "pygments_lexer": "ipython3",
   "version": "3.8.10"
  }
 },
 "nbformat": 4,
 "nbformat_minor": 5
}
