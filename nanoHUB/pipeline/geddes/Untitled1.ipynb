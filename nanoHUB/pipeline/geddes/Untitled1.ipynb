{
 "cells": [
  {
   "cell_type": "code",
   "execution_count": 1,
   "id": "a97acf93-8e91-4e0d-a6a1-c01bc97fbc41",
   "metadata": {
    "execution": {
     "iopub.execute_input": "2022-02-22T16:23:54.559682Z",
     "iopub.status.busy": "2022-02-22T16:23:54.555528Z",
     "iopub.status.idle": "2022-02-22T16:23:58.358923Z",
     "shell.execute_reply": "2022-02-22T16:23:58.351586Z",
     "shell.execute_reply.started": "2022-02-22T16:23:54.559500Z"
    },
    "tags": []
   },
   "outputs": [
    {
     "name": "stdout",
     "output_type": "stream",
     "text": [
      "\u001b[1mnanoHUB - Serving Students, Researchers & Instructors\u001b[0m\n"
     ]
    }
   ],
   "source": [
    "import sys\n",
    "\n",
    "import pandas as pd\n",
    "import numpy as np\n",
    "import time\n",
    "import datetime\n",
    "import os\n",
    "from nanoHUB.application import Application\n",
    "from nanoHUB.configuration import ClusteringConfiguration\n",
    "from nanoHUB.pipeline.geddes.data import get_default_s3_client\n",
    "from nanoHUB.dataaccess.lake import S3FileMapper\n",
    "from nanoHUB.clustering.infra import create_clusters_repository, add_cluster_info, get_all_clustered_users, get_all_self_study_users\n",
    "from nanoHUB.clustering.infra import get_all_active_user_ids, get_mike_only_clustered_users, get_xufeng_only_clustered_users, get_mike_xufeng_clustered_users"
   ]
  },
  {
   "cell_type": "code",
   "execution_count": 2,
   "id": "bee057a3-c090-4766-b9f4-53f7fbf4e9ab",
   "metadata": {
    "execution": {
     "iopub.execute_input": "2022-02-22T16:23:58.367547Z",
     "iopub.status.busy": "2022-02-22T16:23:58.366800Z",
     "iopub.status.idle": "2022-02-22T16:23:58.394595Z",
     "shell.execute_reply": "2022-02-22T16:23:58.389542Z",
     "shell.execute_reply.started": "2022-02-22T16:23:58.367459Z"
    },
    "tags": []
   },
   "outputs": [],
   "source": [
    "pd.set_option('display.max_columns', None)\n",
    "pd.set_option('display.max_colwidth', None)\n",
    "cwd = os.getcwd()"
   ]
  },
  {
   "cell_type": "code",
   "execution_count": 3,
   "id": "a6f05c95-2a67-456c-a431-f4fed20a8e2e",
   "metadata": {
    "execution": {
     "iopub.execute_input": "2022-02-22T16:23:58.409564Z",
     "iopub.status.busy": "2022-02-22T16:23:58.404841Z",
     "iopub.status.idle": "2022-02-22T16:23:59.660960Z",
     "shell.execute_reply": "2022-02-22T16:23:59.654269Z",
     "shell.execute_reply.started": "2022-02-22T16:23:58.406459Z"
    },
    "tags": []
   },
   "outputs": [],
   "source": [
    "application = Application.get_instance()\n",
    "nanohub_db = application.new_db_engine('nanohub')\n",
    "nanohub_metrics_db = application.new_db_engine('nanohub_metrics')\n",
    "wang159_myrmekes_db = application.new_db_engine('rfm_data')\n",
    "\n",
    "s3_client = get_default_s3_client(application)\n",
    "derived_data_file_path = 'derived_data_for_users.csv'\n",
    "processed_mapper = S3FileMapper(s3_client, ClusteringConfiguration().bucket_name_processed)"
   ]
  },
  {
   "cell_type": "code",
   "execution_count": 4,
   "id": "2c9c326f-6185-4646-9282-41f7f776441f",
   "metadata": {
    "execution": {
     "iopub.execute_input": "2022-02-22T16:23:59.673833Z",
     "iopub.status.busy": "2022-02-22T16:23:59.673215Z",
     "iopub.status.idle": "2022-02-22T16:24:18.957210Z",
     "shell.execute_reply": "2022-02-22T16:24:18.954009Z",
     "shell.execute_reply.started": "2022-02-22T16:23:59.673771Z"
    },
    "tags": []
   },
   "outputs": [
    {
     "data": {
      "text/html": [
       "<div>\n",
       "<style scoped>\n",
       "    .dataframe tbody tr th:only-of-type {\n",
       "        vertical-align: middle;\n",
       "    }\n",
       "\n",
       "    .dataframe tbody tr th {\n",
       "        vertical-align: top;\n",
       "    }\n",
       "\n",
       "    .dataframe thead th {\n",
       "        text-align: right;\n",
       "    }\n",
       "</style>\n",
       "<table border=\"1\" class=\"dataframe\">\n",
       "  <thead>\n",
       "    <tr style=\"text-align: right;\">\n",
       "      <th></th>\n",
       "      <th>year</th>\n",
       "      <th>month</th>\n",
       "      <th>active_users</th>\n",
       "    </tr>\n",
       "  </thead>\n",
       "  <tbody>\n",
       "    <tr>\n",
       "      <th>0</th>\n",
       "      <td>2008</td>\n",
       "      <td>1</td>\n",
       "      <td>[amitkumta, sobh, gard, dph3ay, pez, eric197542, aswin_kannan, ankit_2788, wakamin, vij_ashlin, kvrmmurali, kim568, mmclennan, samarthagarwal, saumitra, paul_nano_tran, tfkuo, wang159, izaro, shivakarsh, ishtiaqcricket, svasudev, islanddancer, vijaykumarlamba, deelep014, temlab, selamawit, kids, seifuassefa, en_arash, behde_k, liverpool, iscaszy, qiuzhijun, dboris, neeraj, iman_h, wizjeong, acc, vrinside, lundstro, himadri, dkearney, clarksm, xni, jshi, jmelcher, gaoyunfei, gekco, kbalamuk, nezer5, noelds, numbah1, sky_ubu, augustcharles, nbutt, ysyu71, amberforever, ankitgheedia, saumitra2, kurniawano, nanolab_usc, mastrapasqua, arunkumar446, mmc, yfang1, iwildeso, Illtry1t, jgrossman, konohamarusan, selin_ganesh, yasser_sabry, jmikulak, gah, nanohub2, sanhua, LiangXuelei, jiaolh, anshul12002, jonxliao, crownadam, peizhen, palacios, kose, shipra01ec53, gleo, damotg, afrankl, ocardoso, bhaley, bird1978, nwloo2003, nozaki, redwing, ddierdorf, snowwitje, anishachhabra, kildisha, girardi, ricktest, ...]</td>\n",
       "    </tr>\n",
       "    <tr>\n",
       "      <th>1</th>\n",
       "      <td>2008</td>\n",
       "      <td>2</td>\n",
       "      <td>[thestarcrossed, rahulattarde1, kim568, mcgarner, saumitra, m4x, turkstra, rrvy8020, soonyew, gprakash, wolfi_usa, conway8, ivamaras, hlipsane, yoyonk, sky_ubu, mjessell, lsoj, kcpark, sky_sc, dmaji, rosenlind, Dhadji, mluisier, alouisos, garifyalak, zooley, jroden, clarksm, mdquick, pmartin7, paul_nano_tran, a6908660, dpapke, bondavalli, ronak, premkumar88, crisgavazzoni, lehoucq, samarthagarwal, ckrug, deeptisathe, cclo, jgrossman, scpandey, dcrizer, kearneyd, alexenko, macdaducd, harishnarendar, elifleaf, sayils, mmclennan, wolf1988, proctor, tejerina, sudchauhan, aravindalwan, joeringg, ncsachen, rdubois, swbedell, mries, mpariza, qazi, drichards, augustcharles, kuhlman, rukmini, blmesler, sky_csc, sky_fse, sky_nmy, jrieger, eXe, microe, ehosseini1, mostafakeykhaee, seifuassefa, sclee0118, dimas1028, selamawit, pelekwojcik, fgamiz, sanjay_eee_03, writuin, aswin_kannan, Kamleshsingh, lanxiang, deepti, sansiri_h, parasa, HolgerUnterhalt, ssahmed, shengliu, mbibee, aksamija, kbalamuk, jhmorris3486, qwer4321, ...]</td>\n",
       "    </tr>\n",
       "    <tr>\n",
       "      <th>2</th>\n",
       "      <td>2008</td>\n",
       "      <td>3</td>\n",
       "      <td>[mcgarner, redhead42, JDUB316, vpa573, too, dph3ay, ale, bennabi, cherukurivlsi, mastrapasqua, thilokunz, rezshahab, deelep014, joolien, amberlei, lateefs, jmelcher, rwojahn, ozgulyasar, vL9r47CWa, atomadam2, mille177, eth996, laur, spd423, lajiapo, mer456, mha312, atanase, Janr6, tresprynter, IordanKo, vanguard, tejerina, stealthflyer, tomaslarsson, hlavli, GiantCrab, gekco, AndersLund, usman, nac278, hook, paul_nano_tran, sunnyleekr, clarksm, wbriley, navra86, amanyh, liveletlive, bpadman1, mrsbean, jessseb, yaswanth, satyaki, dstehura, lombo, afang29, andyrincewind, SoonerRui, elec1020, kindyangyang, zjb407, mohitgarg, smh644, jsirk, ejb030, moamin, gcarapia, nimaier, damien, yiyepianzou, aliu, qinetix, sandeepva_86, myold123, serag, hanjinu, nanodrew, noelds, numbah1, nickname, ebaistrup, bac5dionduffy, dube0, pivot, jadelman, banglin, qtpierce, graceyu, hasan, schatz, wpok, bent1980, asthashukla, alexenko, tuannano, frakira, keanenryan, fferdous, ...]</td>\n",
       "    </tr>\n",
       "    <tr>\n",
       "      <th>3</th>\n",
       "      <td>2008</td>\n",
       "      <td>4</td>\n",
       "      <td>[rajani, ahmedneamatallah, kim568, jgrossman, rajudaniel, ejdawley, jmelcher, rosaline, icarus_h, deelep014, maexchendd, loup, peyman, aras1227, lucisf, mohanssi_anita1971, gourav1473, mac, krishnakiran19, pbeckett, wjq100, hoonw, moamin, xmacha43, kose, sms5tp, marisol, LynnKK, fordville, gomana1976, ivica, lalia, aleksandar, jwyrwas, hanker426, keyamamo, mekalakrishnan, nikhilmodi, elifleaf, hahm1, mshareef, wang159, clarksm, dkearney, nikonov, dpapke, gupta_deelep, nikheel_mutha, hari1234, tomaslarsson, rrvy8020, kitran, dstrubbe, blmesler, kuhlman, pbennett, dcarlton, tewers, kylesun, caojinbo, dare1985, stealthflyer, okoybasi, qx3kbenzene, aleksandarzlatanov, chrmjenkins, zooley, amberlei, jbneaton, saumitra, ejbales, rego, shumway, samarthagarwal, hsilva, khashaba154, greatsisi, dkhanal, kittu2731, paul_nano_tran, aksamija, revanth909, dmfaber, islam, nkharche, arun, strachan, srilatha, lkwagner, salem_eng1, grosman, brano, yalavarthi, alex_nedelkoski, Sportschic0515, alexenko, obaid, vrsrajesh, haydar, donny, ...]</td>\n",
       "    </tr>\n",
       "    <tr>\n",
       "      <th>4</th>\n",
       "      <td>2008</td>\n",
       "      <td>5</td>\n",
       "      <td>[rileydthomas, sahmadmiri, esteenbe, fahima, amalin, jcholkim, bowonder, xingnansjtu, nussinson, darren1980, sajna, koumela, biviurka, itsnaushad, zydaan, atanu, shailendrajoshi, davidko, Personne, mintyfreshness, svasudev, MonsterFluke, wenx, joonhpark, ale, paradox, mmclennan, aolaru, aric, clarksm, insideout, dpapke, unluerdincer, gagan, dkyun, jsr, purdude, copenhagen, wang159, dboris, qzhang1, keyamamo, lalivette, mkalontarov, gah, jonglauser, jmcgon, egarnett, dglossman, aldosams, kat2cute, gb_r32, rozycki, jmelcher, tewers, pc350128, saumitra, franktank, gaoyunfei, drichards, jorgegomo, joeringg, jgrossman, mlodriguito, prstone, tejerina, ssahmed, denisse_v, jchou, albielc, vardha, alejandrorr, hax0r778, elifleaf, noelds, mangelgt, fsflack, kollu_kavya, xiazl, kholland, bputnam42, shwking, gangzhang2006, kskucha, vrsrajesh, balananohub, rmashl, guoj, aggarwal, zzhu, paul_nano_tran, kuhlman, jonbillsee, nomani6, nanotira, sukhoi27, tuannano, meteoros, aswin_kannan, daniela, ...]</td>\n",
       "    </tr>\n",
       "    <tr>\n",
       "      <th>...</th>\n",
       "      <td>...</td>\n",
       "      <td>...</td>\n",
       "      <td>...</td>\n",
       "    </tr>\n",
       "    <tr>\n",
       "      <th>163</th>\n",
       "      <td>2021</td>\n",
       "      <td>8</td>\n",
       "      <td>[icdelacruz1, rlsalas, roychoudhuryaditya2019, nino_lim, ksllabres, alexandrapineda00, eularussea.velasquez.pharma, electrotech.team86, ahmerabbaloch, naseralanezi99, elen19111098, giof99, reqcapule12, j.martin, loochinchyi220, ussmannmasood, abdullah.s.karar, ailene_nunez, hankhuang, ashwinshekhar, carlheinzcb, klfow, mkmcrisostomo, stocktoky03, 20mv05, hiba.aljayyousi, sangjo.jeong, kdani2600, mpolat.mustafa, hassanalmeirza, bjv22, krtganeshan, yu.paul.k, amlabrador, jonashue, kobbyhammond, zousifanstarry, jvtumaneng, alaradiishahad, htw236978, ghantal, tjsego, rajbanul2050akhond, toni.west, sharmaanmol073, afsaranidhi, josebust, vasanth12091998, anton21, dalia11, tmapder, alanezinaser40430, prateek1306online, ledif_zepeda14, abchitnis, marisabelsubiap, jay.jjay777, ssadhukhan, lwiebke, abouchakramaria, mdeshpa3, yajunhe, lucamessinalm95, cvs_prasanna, jsluka, tahreemzaheer, pollyyu, mlortkipanid, royushasi, lveschini, farahpour, tjyaco23, cavid, dapaz, rohamyaghoubi142, rmaria, jferrari, ashafiee, om.maheshwari, alf, gollner.laura, drjohnbegg, millero, riathakur4, abdulrahman12333221, ghanim99, hagerss11993, comebacktome, hayaalmezal36499, ruiantunes, psalek, haiwenguan, zainab9, suhailmubarak, zainabhm5499, sohaib1798, alfailakawii, talalaltemimi, enginiring1, takafumi001, ...]</td>\n",
       "    </tr>\n",
       "    <tr>\n",
       "      <th>164</th>\n",
       "      <td>2021</td>\n",
       "      <td>9</td>\n",
       "      <td>[sivasubramanis18, phanivenkatak18, uj9073, tanujakota, eguerrero23, sumantradas99, changesteven8, ctravis6, vinayomo, asmharbi, lafourcadep, algarzon, varanasivnr, jayashree.nagesh, fsaizpoy, sathvika, nks333666, kmanojkumar, a01023213, bujianhui, qkrtjdqh9748, chl844040730, ntltram.20ce, sunil140790, sabarna.chakraborti, 2021eem1023, gioia.chiodi95, rajiaerocareer, dhruv.ganatra, kamel.boudraa, abh30, bhargavi.veeraghattam, ekobudiyanto, fabripusiol1833, pri.jadhav26, fabripusiol1895, chongwenzhu45, will2455, 2021eem1022, arunsamuel2002, q9, bswbsj18, 2021eem1018, wtywty999, rabhiji, juandbolivarc, 2021eem1029, vitor.oliveiradm, hezewei0707, paul115, youngminkim, sgu20171548, dhe48, strachan, wongcheery888, wjaffray, mhema9826, suh73, siddharth23, torentro, yangxixian0422, deshmukg, rapplet, ercikan, qu34, biswas34, ethan2, dgilley, avongun, zcakir, reppertm, desai61, jverduzc, aramkum, mmm111, rj23s, ej826, seokhyoungkim, octoviawan, fi25s, zia1303097, cks125, shaihanemon, honey1872, uddin, devonromine14, emile.knystautas, wowmade, sgu20171544, rifatarashams, 2021eem1019, shreyas.sj, tanmoymajumdernita, mvomoutinho, aalibalazadeh, bhaley, abhignahosahalli2002, hirendra.das100, tswolfe, jsluka, ...]</td>\n",
       "    </tr>\n",
       "    <tr>\n",
       "      <th>165</th>\n",
       "      <td>2021</td>\n",
       "      <td>10</td>\n",
       "      <td>[brianwenpitt, magiccarpetride, asurawijaya, seanhwang, arunsamuel2002, dbranco, arookyaraj, robbie31580, nuray.saglambedir, nvt1976, pmorcer13, pmorcer15, pmorcer17, pmorcer19, pmorcer21, pmorcer23, devishree169, tahreemzaheer, terezaviskova1997, mashco00, mcuneyth, lordcat1, thanhongphuc, samuelblair17, wm2427, pmeunier, chlwodlr960730, lican81, zeeshanarif, lucasponton, justinavenckute97, janani1512, avedhinuel, capt.shamik, sa1080p, danielnh, eguerrero23, tmarti607, antoniocumbreraconde123, slimjimhemp91, prateek1306online, george.amarandei, krish222, tushita159, runze, aaph20133, pawar10, iansandall, the_mallard_marquis, yangxixian0422, lindwormfafnir, nroisin, tklauner, funnybr0ther, clemence.gentner, julien.klauner, thethos, brockauly, clgevers, nicolas.dehalleux, kvanhees, zimerjb, zariaevans, rauxpauline, bolteau, raphaelngenyi24, hugofich, sdm2182, lassejensen, mann51, minyeong, nischalbkj1, mokshjadhav, anlanchen1, lam2286, ayax.hernando, siwanta12, tinybun, aleksan, lptq1025, chloi, l21140437, dntuan.18ce, rnk2118, mariaalexandrablanco, andressamatos14, davidjohnson, ashutosh.ece17, moradimostafa61, lca2138, lgbvandergeer, lgbvandergeer1, ljw, q9, gulnuravci, maryama608, txy953377198, hsiao35, marcopsr, paul115, ...]</td>\n",
       "    </tr>\n",
       "    <tr>\n",
       "      <th>166</th>\n",
       "      <td>2021</td>\n",
       "      <td>11</td>\n",
       "      <td>[dsherega, komaludai13, hussainjjamali, mann51, ercikan, kbarua, praysh, smrithisri, arunsamuel2002, cepetree, lmerida, nvt1976, akaplanseren, sigurid719, guomengdi, tbodmer, knavid, superlin93, sarjoman, wxg, magiccarpetride, leeyeonghun, ubajwa, sampritighosh, salehali, mashco00, luojianbin, hytobhu, 14tracolf, gunta72, coffeesmart, ajansho, j.kohanoff, safedoge17, sravan.yerroju123, wwwwkkkk, b20ec004, thomas.degouys, sjdwithms, sb2653, b20ec003, sridharshinib127, clgevers, rakeshd81, sairam77, b20ec025, wen, sachin98, msl1997, bolteau, della010, prateek1306online, louqi, josh_karis, felucco, lmelican, labdemon, yili0711, marchat.s, nykiel.4, bbishnoi, sjtumsl97, yangxixian0422, landryj, hcpriyanshu11, will2455, seanhwang, rabhiji, aidil, leilalovegood77, akiron, melikachu, aayushsynth, ygyingli, mart1282, junn9916, yagmur.coban, b20ec033, cfrist, williamzt, faruk1983, jim2021, frankzhou, vza5092, fizzajaved60, andreaflorezcaro, tjvanraaij, clarksm, qazi.tareq, eotrubch, ilin2086, gkim8, amannodi, rj23s, ej826, mmm111, fi25s, octoviawan, zia1303097, honey1872, ...]</td>\n",
       "    </tr>\n",
       "    <tr>\n",
       "      <th>167</th>\n",
       "      <td>2021</td>\n",
       "      <td>12</td>\n",
       "      <td>[sgu20191487, vminjoonv, sgu20171570, ryyan, sgu20191461, cdn2128, ercikan, singla2, rapplet, afrozali, sgu20171582, sgu20171560, akaplanseren, pmangana, kimjaewook5834, critelli.samuele, sgu20151447, rovilap, argha1990, sgu20192127, th5933, alessandrorusso, sgu20161217, wen101, sgu20201531, plailok, mashco00, samuele.capello.2001, sgu20201497, agnese_carignano, avsbharguav2000, alessandronuti99, davidegiovine, edo.trombotto, ale.tarro.g, s281478, sara262, murandefrancesco, s203837, giulianaberetta, luigre2010, sgu20191385, lexuss, teslacoilresearch00.lab, vale09, sgu20161997, gabriele1manione, marta.leonetti16, soliminemichele001, sabrina.gobbo16, giorgia.bordiga, gabriele.beltrone, f20191021, luca_remondino, suvariemaiden.tan.pharma, nikychristillin, juli.herr1999, s284562, sgu20191509, cancado, gennysanzone512, sgu20201521, francescabrovia, sfsyunus, kbarua, nicola2001, sgu20201433, lauravelvick, ishaapurva2016, jcanepa, ranbol, st148654, ilkwang, tommasomontedoro, giorgia.strobbia, ferrarogae01, ujju.snehi, aksmf98, davensperanza, sgu20171575, ecakar, sgu20181489, nykiel.4, ponnalapavanreddy, sgu20171564, kowsalyamk, venkatasaikousik007, vin.mastronardi, maxwell808, nithiyaraj.v2019, s282301, nanoh72, piaiamatteo, martinjoshua.delossantos.pharma, mikepl9, guoxw, puck_01, lilizhang, sgu20171341, jihongkim, ...]</td>\n",
       "    </tr>\n",
       "  </tbody>\n",
       "</table>\n",
       "<p>168 rows × 3 columns</p>\n",
       "</div>"
      ],
      "text/plain": [
       "     year  month  \\\n",
       "0    2008      1   \n",
       "1    2008      2   \n",
       "2    2008      3   \n",
       "3    2008      4   \n",
       "4    2008      5   \n",
       "..    ...    ...   \n",
       "163  2021      8   \n",
       "164  2021      9   \n",
       "165  2021     10   \n",
       "166  2021     11   \n",
       "167  2021     12   \n",
       "\n",
       "                                                                                                                                                                                                                                                                                                                                                                                                                                                                                                                                                                                                                                                                                                                                                                                                                                                                                                                                                                                                                                                                                                                                                                                                                                                                                                                                                                                active_users  \n",
       "0                                                                                                                                                                                                                                                                                                                                    [amitkumta, sobh, gard, dph3ay, pez, eric197542, aswin_kannan, ankit_2788, wakamin, vij_ashlin, kvrmmurali, kim568, mmclennan, samarthagarwal, saumitra, paul_nano_tran, tfkuo, wang159, izaro, shivakarsh, ishtiaqcricket, svasudev, islanddancer, vijaykumarlamba, deelep014, temlab, selamawit, kids, seifuassefa, en_arash, behde_k, liverpool, iscaszy, qiuzhijun, dboris, neeraj, iman_h, wizjeong, acc, vrinside, lundstro, himadri, dkearney, clarksm, xni, jshi, jmelcher, gaoyunfei, gekco, kbalamuk, nezer5, noelds, numbah1, sky_ubu, augustcharles, nbutt, ysyu71, amberforever, ankitgheedia, saumitra2, kurniawano, nanolab_usc, mastrapasqua, arunkumar446, mmc, yfang1, iwildeso, Illtry1t, jgrossman, konohamarusan, selin_ganesh, yasser_sabry, jmikulak, gah, nanohub2, sanhua, LiangXuelei, jiaolh, anshul12002, jonxliao, crownadam, peizhen, palacios, kose, shipra01ec53, gleo, damotg, afrankl, ocardoso, bhaley, bird1978, nwloo2003, nozaki, redwing, ddierdorf, snowwitje, anishachhabra, kildisha, girardi, ricktest, ...]  \n",
       "1                                                                                                                                                                                                                                                                                                                      [thestarcrossed, rahulattarde1, kim568, mcgarner, saumitra, m4x, turkstra, rrvy8020, soonyew, gprakash, wolfi_usa, conway8, ivamaras, hlipsane, yoyonk, sky_ubu, mjessell, lsoj, kcpark, sky_sc, dmaji, rosenlind, Dhadji, mluisier, alouisos, garifyalak, zooley, jroden, clarksm, mdquick, pmartin7, paul_nano_tran, a6908660, dpapke, bondavalli, ronak, premkumar88, crisgavazzoni, lehoucq, samarthagarwal, ckrug, deeptisathe, cclo, jgrossman, scpandey, dcrizer, kearneyd, alexenko, macdaducd, harishnarendar, elifleaf, sayils, mmclennan, wolf1988, proctor, tejerina, sudchauhan, aravindalwan, joeringg, ncsachen, rdubois, swbedell, mries, mpariza, qazi, drichards, augustcharles, kuhlman, rukmini, blmesler, sky_csc, sky_fse, sky_nmy, jrieger, eXe, microe, ehosseini1, mostafakeykhaee, seifuassefa, sclee0118, dimas1028, selamawit, pelekwojcik, fgamiz, sanjay_eee_03, writuin, aswin_kannan, Kamleshsingh, lanxiang, deepti, sansiri_h, parasa, HolgerUnterhalt, ssahmed, shengliu, mbibee, aksamija, kbalamuk, jhmorris3486, qwer4321, ...]  \n",
       "2                                                                                                                                                                                                                                                                                                                                                                                 [mcgarner, redhead42, JDUB316, vpa573, too, dph3ay, ale, bennabi, cherukurivlsi, mastrapasqua, thilokunz, rezshahab, deelep014, joolien, amberlei, lateefs, jmelcher, rwojahn, ozgulyasar, vL9r47CWa, atomadam2, mille177, eth996, laur, spd423, lajiapo, mer456, mha312, atanase, Janr6, tresprynter, IordanKo, vanguard, tejerina, stealthflyer, tomaslarsson, hlavli, GiantCrab, gekco, AndersLund, usman, nac278, hook, paul_nano_tran, sunnyleekr, clarksm, wbriley, navra86, amanyh, liveletlive, bpadman1, mrsbean, jessseb, yaswanth, satyaki, dstehura, lombo, afang29, andyrincewind, SoonerRui, elec1020, kindyangyang, zjb407, mohitgarg, smh644, jsirk, ejb030, moamin, gcarapia, nimaier, damien, yiyepianzou, aliu, qinetix, sandeepva_86, myold123, serag, hanjinu, nanodrew, noelds, numbah1, nickname, ebaistrup, bac5dionduffy, dube0, pivot, jadelman, banglin, qtpierce, graceyu, hasan, schatz, wpok, bent1980, asthashukla, alexenko, tuannano, frakira, keanenryan, fferdous, ...]  \n",
       "3                                                                                                                                                                                                                                                                                                               [rajani, ahmedneamatallah, kim568, jgrossman, rajudaniel, ejdawley, jmelcher, rosaline, icarus_h, deelep014, maexchendd, loup, peyman, aras1227, lucisf, mohanssi_anita1971, gourav1473, mac, krishnakiran19, pbeckett, wjq100, hoonw, moamin, xmacha43, kose, sms5tp, marisol, LynnKK, fordville, gomana1976, ivica, lalia, aleksandar, jwyrwas, hanker426, keyamamo, mekalakrishnan, nikhilmodi, elifleaf, hahm1, mshareef, wang159, clarksm, dkearney, nikonov, dpapke, gupta_deelep, nikheel_mutha, hari1234, tomaslarsson, rrvy8020, kitran, dstrubbe, blmesler, kuhlman, pbennett, dcarlton, tewers, kylesun, caojinbo, dare1985, stealthflyer, okoybasi, qx3kbenzene, aleksandarzlatanov, chrmjenkins, zooley, amberlei, jbneaton, saumitra, ejbales, rego, shumway, samarthagarwal, hsilva, khashaba154, greatsisi, dkhanal, kittu2731, paul_nano_tran, aksamija, revanth909, dmfaber, islam, nkharche, arun, strachan, srilatha, lkwagner, salem_eng1, grosman, brano, yalavarthi, alex_nedelkoski, Sportschic0515, alexenko, obaid, vrsrajesh, haydar, donny, ...]  \n",
       "4                                                                                                                                                                                                                                                                                                                                                    [rileydthomas, sahmadmiri, esteenbe, fahima, amalin, jcholkim, bowonder, xingnansjtu, nussinson, darren1980, sajna, koumela, biviurka, itsnaushad, zydaan, atanu, shailendrajoshi, davidko, Personne, mintyfreshness, svasudev, MonsterFluke, wenx, joonhpark, ale, paradox, mmclennan, aolaru, aric, clarksm, insideout, dpapke, unluerdincer, gagan, dkyun, jsr, purdude, copenhagen, wang159, dboris, qzhang1, keyamamo, lalivette, mkalontarov, gah, jonglauser, jmcgon, egarnett, dglossman, aldosams, kat2cute, gb_r32, rozycki, jmelcher, tewers, pc350128, saumitra, franktank, gaoyunfei, drichards, jorgegomo, joeringg, jgrossman, mlodriguito, prstone, tejerina, ssahmed, denisse_v, jchou, albielc, vardha, alejandrorr, hax0r778, elifleaf, noelds, mangelgt, fsflack, kollu_kavya, xiazl, kholland, bputnam42, shwking, gangzhang2006, kskucha, vrsrajesh, balananohub, rmashl, guoj, aggarwal, zzhu, paul_nano_tran, kuhlman, jonbillsee, nomani6, nanotira, sukhoi27, tuannano, meteoros, aswin_kannan, daniela, ...]  \n",
       "..                                                                                                                                                                                                                                                                                                                                                                                                                                                                                                                                                                                                                                                                                                                                                                                                                                                                                                                                                                                                                                                                                                                                                                                                                                                                                                                                                                                       ...  \n",
       "163                                   [icdelacruz1, rlsalas, roychoudhuryaditya2019, nino_lim, ksllabres, alexandrapineda00, eularussea.velasquez.pharma, electrotech.team86, ahmerabbaloch, naseralanezi99, elen19111098, giof99, reqcapule12, j.martin, loochinchyi220, ussmannmasood, abdullah.s.karar, ailene_nunez, hankhuang, ashwinshekhar, carlheinzcb, klfow, mkmcrisostomo, stocktoky03, 20mv05, hiba.aljayyousi, sangjo.jeong, kdani2600, mpolat.mustafa, hassanalmeirza, bjv22, krtganeshan, yu.paul.k, amlabrador, jonashue, kobbyhammond, zousifanstarry, jvtumaneng, alaradiishahad, htw236978, ghantal, tjsego, rajbanul2050akhond, toni.west, sharmaanmol073, afsaranidhi, josebust, vasanth12091998, anton21, dalia11, tmapder, alanezinaser40430, prateek1306online, ledif_zepeda14, abchitnis, marisabelsubiap, jay.jjay777, ssadhukhan, lwiebke, abouchakramaria, mdeshpa3, yajunhe, lucamessinalm95, cvs_prasanna, jsluka, tahreemzaheer, pollyyu, mlortkipanid, royushasi, lveschini, farahpour, tjyaco23, cavid, dapaz, rohamyaghoubi142, rmaria, jferrari, ashafiee, om.maheshwari, alf, gollner.laura, drjohnbegg, millero, riathakur4, abdulrahman12333221, ghanim99, hagerss11993, comebacktome, hayaalmezal36499, ruiantunes, psalek, haiwenguan, zainab9, suhailmubarak, zainabhm5499, sohaib1798, alfailakawii, talalaltemimi, enginiring1, takafumi001, ...]  \n",
       "164                                                                                                                     [sivasubramanis18, phanivenkatak18, uj9073, tanujakota, eguerrero23, sumantradas99, changesteven8, ctravis6, vinayomo, asmharbi, lafourcadep, algarzon, varanasivnr, jayashree.nagesh, fsaizpoy, sathvika, nks333666, kmanojkumar, a01023213, bujianhui, qkrtjdqh9748, chl844040730, ntltram.20ce, sunil140790, sabarna.chakraborti, 2021eem1023, gioia.chiodi95, rajiaerocareer, dhruv.ganatra, kamel.boudraa, abh30, bhargavi.veeraghattam, ekobudiyanto, fabripusiol1833, pri.jadhav26, fabripusiol1895, chongwenzhu45, will2455, 2021eem1022, arunsamuel2002, q9, bswbsj18, 2021eem1018, wtywty999, rabhiji, juandbolivarc, 2021eem1029, vitor.oliveiradm, hezewei0707, paul115, youngminkim, sgu20171548, dhe48, strachan, wongcheery888, wjaffray, mhema9826, suh73, siddharth23, torentro, yangxixian0422, deshmukg, rapplet, ercikan, qu34, biswas34, ethan2, dgilley, avongun, zcakir, reppertm, desai61, jverduzc, aramkum, mmm111, rj23s, ej826, seokhyoungkim, octoviawan, fi25s, zia1303097, cks125, shaihanemon, honey1872, uddin, devonromine14, emile.knystautas, wowmade, sgu20171544, rifatarashams, 2021eem1019, shreyas.sj, tanmoymajumdernita, mvomoutinho, aalibalazadeh, bhaley, abhignahosahalli2002, hirendra.das100, tswolfe, jsluka, ...]  \n",
       "165                                                                                         [brianwenpitt, magiccarpetride, asurawijaya, seanhwang, arunsamuel2002, dbranco, arookyaraj, robbie31580, nuray.saglambedir, nvt1976, pmorcer13, pmorcer15, pmorcer17, pmorcer19, pmorcer21, pmorcer23, devishree169, tahreemzaheer, terezaviskova1997, mashco00, mcuneyth, lordcat1, thanhongphuc, samuelblair17, wm2427, pmeunier, chlwodlr960730, lican81, zeeshanarif, lucasponton, justinavenckute97, janani1512, avedhinuel, capt.shamik, sa1080p, danielnh, eguerrero23, tmarti607, antoniocumbreraconde123, slimjimhemp91, prateek1306online, george.amarandei, krish222, tushita159, runze, aaph20133, pawar10, iansandall, the_mallard_marquis, yangxixian0422, lindwormfafnir, nroisin, tklauner, funnybr0ther, clemence.gentner, julien.klauner, thethos, brockauly, clgevers, nicolas.dehalleux, kvanhees, zimerjb, zariaevans, rauxpauline, bolteau, raphaelngenyi24, hugofich, sdm2182, lassejensen, mann51, minyeong, nischalbkj1, mokshjadhav, anlanchen1, lam2286, ayax.hernando, siwanta12, tinybun, aleksan, lptq1025, chloi, l21140437, dntuan.18ce, rnk2118, mariaalexandrablanco, andressamatos14, davidjohnson, ashutosh.ece17, moradimostafa61, lca2138, lgbvandergeer, lgbvandergeer1, ljw, q9, gulnuravci, maryama608, txy953377198, hsiao35, marcopsr, paul115, ...]  \n",
       "166                                                                                                                                                                                                                                                             [dsherega, komaludai13, hussainjjamali, mann51, ercikan, kbarua, praysh, smrithisri, arunsamuel2002, cepetree, lmerida, nvt1976, akaplanseren, sigurid719, guomengdi, tbodmer, knavid, superlin93, sarjoman, wxg, magiccarpetride, leeyeonghun, ubajwa, sampritighosh, salehali, mashco00, luojianbin, hytobhu, 14tracolf, gunta72, coffeesmart, ajansho, j.kohanoff, safedoge17, sravan.yerroju123, wwwwkkkk, b20ec004, thomas.degouys, sjdwithms, sb2653, b20ec003, sridharshinib127, clgevers, rakeshd81, sairam77, b20ec025, wen, sachin98, msl1997, bolteau, della010, prateek1306online, louqi, josh_karis, felucco, lmelican, labdemon, yili0711, marchat.s, nykiel.4, bbishnoi, sjtumsl97, yangxixian0422, landryj, hcpriyanshu11, will2455, seanhwang, rabhiji, aidil, leilalovegood77, akiron, melikachu, aayushsynth, ygyingli, mart1282, junn9916, yagmur.coban, b20ec033, cfrist, williamzt, faruk1983, jim2021, frankzhou, vza5092, fizzajaved60, andreaflorezcaro, tjvanraaij, clarksm, qazi.tareq, eotrubch, ilin2086, gkim8, amannodi, rj23s, ej826, mmm111, fi25s, octoviawan, zia1303097, honey1872, ...]  \n",
       "167  [sgu20191487, vminjoonv, sgu20171570, ryyan, sgu20191461, cdn2128, ercikan, singla2, rapplet, afrozali, sgu20171582, sgu20171560, akaplanseren, pmangana, kimjaewook5834, critelli.samuele, sgu20151447, rovilap, argha1990, sgu20192127, th5933, alessandrorusso, sgu20161217, wen101, sgu20201531, plailok, mashco00, samuele.capello.2001, sgu20201497, agnese_carignano, avsbharguav2000, alessandronuti99, davidegiovine, edo.trombotto, ale.tarro.g, s281478, sara262, murandefrancesco, s203837, giulianaberetta, luigre2010, sgu20191385, lexuss, teslacoilresearch00.lab, vale09, sgu20161997, gabriele1manione, marta.leonetti16, soliminemichele001, sabrina.gobbo16, giorgia.bordiga, gabriele.beltrone, f20191021, luca_remondino, suvariemaiden.tan.pharma, nikychristillin, juli.herr1999, s284562, sgu20191509, cancado, gennysanzone512, sgu20201521, francescabrovia, sfsyunus, kbarua, nicola2001, sgu20201433, lauravelvick, ishaapurva2016, jcanepa, ranbol, st148654, ilkwang, tommasomontedoro, giorgia.strobbia, ferrarogae01, ujju.snehi, aksmf98, davensperanza, sgu20171575, ecakar, sgu20181489, nykiel.4, ponnalapavanreddy, sgu20171564, kowsalyamk, venkatasaikousik007, vin.mastronardi, maxwell808, nithiyaraj.v2019, s282301, nanoh72, piaiamatteo, martinjoshua.delossantos.pharma, mikepl9, guoxw, puck_01, lilizhang, sgu20171341, jihongkim, ...]  \n",
       "\n",
       "[168 rows x 3 columns]"
      ]
     },
     "metadata": {},
     "output_type": "display_data"
    },
    {
     "ename": "RuntimeError",
     "evalue": "No active exception to reraise",
     "output_type": "error",
     "traceback": [
      "\u001b[0;31m---------------------------------------------------------------------------\u001b[0m",
      "\u001b[0;31mRuntimeError\u001b[0m                              Traceback (most recent call last)",
      "Input \u001b[0;32mIn [4]\u001b[0m, in \u001b[0;36m<module>\u001b[0;34m\u001b[0m\n\u001b[1;32m      1\u001b[0m df \u001b[38;5;241m=\u001b[39m get_all_active_user_ids(processed_mapper)\n\u001b[1;32m      2\u001b[0m display(df)\n\u001b[0;32m----> 3\u001b[0m \u001b[38;5;28;01mraise\u001b[39;00m\n",
      "\u001b[0;31mRuntimeError\u001b[0m: No active exception to reraise"
     ]
    }
   ],
   "source": [
    "df = get_all_active_user_ids(processed_mapper)\n",
    "display(df)\n",
    "raise"
   ]
  },
  {
   "cell_type": "code",
   "execution_count": null,
   "id": "a05a644e-1064-4697-863c-93d1a7a66cf5",
   "metadata": {
    "execution": {
     "iopub.status.busy": "2022-02-22T16:24:18.963205Z",
     "iopub.status.idle": "2022-02-22T16:24:18.964393Z",
     "shell.execute_reply": "2022-02-22T16:24:18.963902Z",
     "shell.execute_reply.started": "2022-02-22T16:24:18.963810Z"
    },
    "tags": []
   },
   "outputs": [],
   "source": [
    "mike_clustered_users_df = get_mike_only_clustered_users(processed_mapper, derived_data_file_path)\n",
    "display(mike_clustered_users_df)"
   ]
  },
  {
   "cell_type": "code",
   "execution_count": null,
   "id": "869faf78-13ab-40df-bbc6-0bea491df1b8",
   "metadata": {
    "execution": {
     "iopub.status.busy": "2022-02-22T16:24:18.970718Z",
     "iopub.status.idle": "2022-02-22T16:24:18.976247Z",
     "shell.execute_reply": "2022-02-22T16:24:18.975344Z",
     "shell.execute_reply.started": "2022-02-22T16:24:18.975252Z"
    }
   },
   "outputs": [],
   "source": [
    "mike__xufeng_clustered_users_df = get_mike_xufeng_clustered_users(processed_mapper, derived_data_file_path)\n",
    "display(mike__xufeng_clustered_users_df)"
   ]
  },
  {
   "cell_type": "code",
   "execution_count": null,
   "id": "579aebc3-b2c2-4560-9165-256441a75895",
   "metadata": {
    "execution": {
     "iopub.status.busy": "2022-02-22T16:24:18.978506Z",
     "iopub.status.idle": "2022-02-22T16:24:18.979966Z",
     "shell.execute_reply": "2022-02-22T16:24:18.979663Z",
     "shell.execute_reply.started": "2022-02-22T16:24:18.979617Z"
    }
   },
   "outputs": [],
   "source": [
    "xufeng_clustered_users_df = get_xufeng_only_clustered_users(processed_mapper, derived_data_file_path)\n",
    "display(xufeng_clustered_users_df)"
   ]
  },
  {
   "cell_type": "code",
   "execution_count": null,
   "id": "4fff11aa-528c-4eac-9701-4be95dbd69c8",
   "metadata": {},
   "outputs": [],
   "source": []
  }
 ],
 "metadata": {
  "kernelspec": {
   "display_name": "Python 3 (ipykernel)",
   "language": "python",
   "name": "python3"
  },
  "language_info": {
   "codemirror_mode": {
    "name": "ipython",
    "version": 3
   },
   "file_extension": ".py",
   "mimetype": "text/x-python",
   "name": "python",
   "nbconvert_exporter": "python",
   "pygments_lexer": "ipython3",
   "version": "3.8.10"
  }
 },
 "nbformat": 4,
 "nbformat_minor": 5
}
