{
 "cells": [
  {
   "cell_type": "code",
   "execution_count": 1,
   "id": "8f05c231-1fd3-457c-90d9-4e704afc33bf",
   "metadata": {
    "execution": {
     "iopub.execute_input": "2021-11-17T06:48:36.232430Z",
     "iopub.status.busy": "2021-11-17T06:48:36.232162Z",
     "iopub.status.idle": "2021-11-17T06:48:37.863077Z",
     "shell.execute_reply": "2021-11-17T06:48:37.862112Z",
     "shell.execute_reply.started": "2021-11-17T06:48:36.232360Z"
    }
   },
   "outputs": [
    {
     "name": "stdout",
     "output_type": "stream",
     "text": [
      "\u001b[1mnanoHUB - Serving Students, Researchers & Instructors\u001b[0m\n"
     ]
    }
   ],
   "source": [
    "from nanoHUB.application import Application\n",
    "from nanoHUB.pipeline.geddes.data import get_default_s3_client\n",
    "import pandas as pd\n",
    "from io import BytesIO,StringIO\n",
    "\n",
    "application = Application.get_instance()\n",
    "s3_client = get_default_s3_client(application)"
   ]
  },
  {
   "cell_type": "code",
   "execution_count": null,
   "id": "e12c2eda-70bf-4206-9eff-03477b215056",
   "metadata": {},
   "outputs": [],
   "source": []
  },
  {
   "cell_type": "code",
   "execution_count": 2,
   "id": "438ec933-33d3-4012-aa6c-336b4e26306b",
   "metadata": {
    "execution": {
     "iopub.execute_input": "2021-11-17T06:48:37.866475Z",
     "iopub.status.busy": "2021-11-17T06:48:37.865484Z",
     "iopub.status.idle": "2021-11-17T06:48:39.069281Z",
     "shell.execute_reply": "2021-11-17T06:48:39.067490Z",
     "shell.execute_reply.started": "2021-11-17T06:48:37.866406Z"
    }
   },
   "outputs": [
    {
     "data": {
      "text/plain": [
       "{'ResponseMetadata': {'RequestId': 'tx0000000000000000300a4-006194a5c7-a6d52f-my-store',\n",
       "  'HostId': '',\n",
       "  'HTTPStatusCode': 204,\n",
       "  'HTTPHeaders': {'date': 'Wed, 17 Nov 2021 06:48:39 GMT',\n",
       "   'connection': 'keep-alive',\n",
       "   'x-amz-request-id': 'tx0000000000000000300a4-006194a5c7-a6d52f-my-store',\n",
       "   'strict-transport-security': 'max-age=15724800; includeSubDomains'},\n",
       "  'RetryAttempts': 0}}"
      ]
     },
     "execution_count": 2,
     "metadata": {},
     "output_type": "execute_result"
    }
   ],
   "source": [
    "s3_client.delete_object(Bucket='nanohub.processed', Key='core_cost_clustered_users/by_semester/2018-6-25_2018-6-26.csv')"
   ]
  },
  {
   "cell_type": "code",
   "execution_count": null,
   "id": "2d0bf335-f3ce-46bd-b602-affdc114263d",
   "metadata": {},
   "outputs": [],
   "source": []
  }
 ],
 "metadata": {
  "kernelspec": {
   "display_name": "Python 3 (ipykernel)",
   "language": "python",
   "name": "python3"
  },
  "language_info": {
   "codemirror_mode": {
    "name": "ipython",
    "version": 3
   },
   "file_extension": ".py",
   "mimetype": "text/x-python",
   "name": "python",
   "nbconvert_exporter": "python",
   "pygments_lexer": "ipython3",
   "version": "3.8.10"
  }
 },
 "nbformat": 4,
 "nbformat_minor": 5
}
