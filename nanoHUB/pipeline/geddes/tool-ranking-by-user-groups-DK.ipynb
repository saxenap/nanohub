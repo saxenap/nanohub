{
 "cells": [
  {
   "cell_type": "code",
   "execution_count": 1,
   "id": "ab776a92-15b9-4fba-9bc2-b8f317a30f1c",
   "metadata": {
    "execution": {
     "iopub.execute_input": "2022-05-24T19:56:44.758173Z",
     "iopub.status.busy": "2022-05-24T19:56:44.756346Z",
     "iopub.status.idle": "2022-05-24T19:56:46.668810Z",
     "shell.execute_reply": "2022-05-24T19:56:46.668358Z",
     "shell.execute_reply.started": "2022-05-24T19:56:44.757973Z"
    },
    "tags": []
   },
   "outputs": [
    {
     "name": "stdout",
     "output_type": "stream",
     "text": [
      "\u001b[1mnanoHUB - Serving Students, Researchers & Instructors\u001b[0m\n"
     ]
    }
   ],
   "source": [
    "import pandas as pd\n",
    "import numpy as np\n",
    "from pprint import pprint\n",
    "from nanoHUB.application import Application\n",
    "from nanoHUB.configuration import ClusteringConfiguration\n",
    "from nanoHUB.pipeline.geddes.data import get_default_s3_client\n",
    "from nanoHUB.dataaccess.lake import S3FileMapper\n",
    "from nanoHUB.clustering.infra import create_clusters_repository, get_tool_users, get_user_tools, add_cluster_info, get_clustered_one_day_users, get_unclassified_one_day_users\n",
    "from ast import literal_eval\n",
    "\n",
    "pd.set_option('display.max_columns', None)\n",
    "\n",
    "# logger.debug('Testing')\n",
    "application = Application.get_instance()\n",
    "nanohub_db = application.new_db_engine('nanohub')\n",
    "\n",
    "#salesforce = application.new_salesforce_engine()\n",
    "\n",
    "s3_client = get_default_s3_client(application)\n",
    "raw_mapper = S3FileMapper(s3_client, ClusteringConfiguration().bucket_name_raw)\n",
    "processed_mapper = S3FileMapper(s3_client, ClusteringConfiguration().bucket_name_processed)\n",
    "\n",
    "cluster_repo = create_clusters_repository(application, ClusteringConfiguration().bucket_name_processed)\n",
    "\n",
    "derived_data_file_path = 'derived_data_for_users_with_one_day_users.csv'"
   ]
  },
  {
   "cell_type": "code",
   "execution_count": 2,
   "id": "4709a6a5-5402-405e-b387-40c5630a08a1",
   "metadata": {
    "execution": {
     "iopub.execute_input": "2022-05-24T19:56:46.669618Z",
     "iopub.status.busy": "2022-05-24T19:56:46.669537Z",
     "iopub.status.idle": "2022-05-24T19:56:54.177681Z",
     "shell.execute_reply": "2022-05-24T19:56:54.176532Z",
     "shell.execute_reply.started": "2022-05-24T19:56:46.669609Z"
    },
    "tags": []
   },
   "outputs": [
    {
     "data": {
      "text/html": [
       "<div>\n",
       "<style scoped>\n",
       "    .dataframe tbody tr th:only-of-type {\n",
       "        vertical-align: middle;\n",
       "    }\n",
       "\n",
       "    .dataframe tbody tr th {\n",
       "        vertical-align: top;\n",
       "    }\n",
       "\n",
       "    .dataframe thead th {\n",
       "        text-align: right;\n",
       "    }\n",
       "</style>\n",
       "<table border=\"1\" class=\"dataframe\">\n",
       "  <thead>\n",
       "    <tr style=\"text-align: right;\">\n",
       "      <th></th>\n",
       "      <th>toolname</th>\n",
       "      <th>names_users</th>\n",
       "    </tr>\n",
       "  </thead>\n",
       "  <tbody>\n",
       "    <tr>\n",
       "      <th>1</th>\n",
       "      <td>1dchainmd</td>\n",
       "      <td>[thomas0915,  khaan,  baratunde,  brayanfdv,  ...</td>\n",
       "    </tr>\n",
       "    <tr>\n",
       "      <th>2</th>\n",
       "      <td>1dfdmht</td>\n",
       "      <td>[cheraghchi,  suphatk,  bgmdiffe,  mahna,  gys...</td>\n",
       "    </tr>\n",
       "    <tr>\n",
       "      <th>3</th>\n",
       "      <td>1dfs</td>\n",
       "      <td>[gw014425,  dkearney]</td>\n",
       "    </tr>\n",
       "    <tr>\n",
       "      <th>4</th>\n",
       "      <td>1dhetero</td>\n",
       "      <td>[samarthagarwal,  Vasileska,  dkearney,  gekco...</td>\n",
       "    </tr>\n",
       "    <tr>\n",
       "      <th>5</th>\n",
       "      <td>1dmd</td>\n",
       "      <td>[deshpan5,  strachan,  clarksm]</td>\n",
       "    </tr>\n",
       "    <tr>\n",
       "      <th>...</th>\n",
       "      <td>...</td>\n",
       "      <td>...</td>\n",
       "    </tr>\n",
       "    <tr>\n",
       "      <th>1174</th>\n",
       "      <td>zeno</td>\n",
       "      <td>[taaseenkhanelah,  nzuckman,  daudus,  clarksm...</td>\n",
       "    </tr>\n",
       "    <tr>\n",
       "      <th>1175</th>\n",
       "      <td>zooleyipnb1</td>\n",
       "      <td>[zooley,  clarksm,  jerinannie1996,  rajeshkra...</td>\n",
       "    </tr>\n",
       "    <tr>\n",
       "      <th>1176</th>\n",
       "      <td>zooleyjupyter</td>\n",
       "      <td>[zooley]</td>\n",
       "    </tr>\n",
       "    <tr>\n",
       "      <th>1177</th>\n",
       "      <td>zooleylinux</td>\n",
       "      <td>[zooley]</td>\n",
       "    </tr>\n",
       "    <tr>\n",
       "      <th>1178</th>\n",
       "      <td>zooleylinux1</td>\n",
       "      <td>[zooley,  clarksm]</td>\n",
       "    </tr>\n",
       "  </tbody>\n",
       "</table>\n",
       "<p>1178 rows × 2 columns</p>\n",
       "</div>"
      ],
      "text/plain": [
       "           toolname                                        names_users\n",
       "1         1dchainmd  [thomas0915,  khaan,  baratunde,  brayanfdv,  ...\n",
       "2           1dfdmht  [cheraghchi,  suphatk,  bgmdiffe,  mahna,  gys...\n",
       "3              1dfs                              [gw014425,  dkearney]\n",
       "4          1dhetero  [samarthagarwal,  Vasileska,  dkearney,  gekco...\n",
       "5              1dmd                    [deshpan5,  strachan,  clarksm]\n",
       "...             ...                                                ...\n",
       "1174           zeno  [taaseenkhanelah,  nzuckman,  daudus,  clarksm...\n",
       "1175    zooleyipnb1  [zooley,  clarksm,  jerinannie1996,  rajeshkra...\n",
       "1176  zooleyjupyter                                           [zooley]\n",
       "1177    zooleylinux                                           [zooley]\n",
       "1178   zooleylinux1                                 [zooley,  clarksm]\n",
       "\n",
       "[1178 rows x 2 columns]"
      ]
     },
     "metadata": {},
     "output_type": "display_data"
    }
   ],
   "source": [
    "tool_users_df = get_tool_users(processed_mapper)\n",
    "display(tool_users_df)"
   ]
  },
  {
   "cell_type": "code",
   "execution_count": null,
   "id": "a677cf06-0d0c-4a4f-ba9e-cd58efa49590",
   "metadata": {},
   "outputs": [],
   "source": []
  },
  {
   "cell_type": "code",
   "execution_count": null,
   "id": "ef1ab197-d7a5-471a-b8c7-73085e5e2f6b",
   "metadata": {
    "execution": {
     "iopub.status.busy": "2022-05-24T19:50:59.186352Z",
     "iopub.status.idle": "2022-05-24T19:50:59.186505Z",
     "shell.execute_reply": "2022-05-24T19:50:59.186435Z",
     "shell.execute_reply.started": "2022-05-24T19:50:59.186425Z"
    },
    "tags": []
   },
   "outputs": [],
   "source": [
    "classified_one_day_users_df = get_clustered_one_day_users(processed_mapper)\n",
    "\n",
    "display(len(classified_one_day_users_df))\n",
    "display(classified_one_day_users_df.head())\n",
    "display(classified_one_day_users_df.tail())"
   ]
  },
  {
   "cell_type": "code",
   "execution_count": null,
   "id": "51ef87d4-b7a9-45e9-a659-b58d64830b96",
   "metadata": {
    "execution": {
     "iopub.status.busy": "2022-05-24T19:50:59.187387Z",
     "iopub.status.idle": "2022-05-24T19:50:59.187527Z",
     "shell.execute_reply": "2022-05-24T19:50:59.187467Z",
     "shell.execute_reply.started": "2022-05-24T19:50:59.187461Z"
    },
    "tags": []
   },
   "outputs": [],
   "source": [
    "unclassified_one_day_users_df = get_unclassified_one_day_users(processed_mapper)\n",
    "\n",
    "display(len(unclassified_one_day_users_df))\n",
    "display(unclassified_one_day_users_df.head())\n",
    "display(unclassified_one_day_users_df.tail())"
   ]
  },
  {
   "cell_type": "code",
   "execution_count": null,
   "id": "316c48ef-a53f-499b-8a97-168b927a306d",
   "metadata": {
    "execution": {
     "iopub.status.busy": "2022-05-24T19:50:59.188781Z",
     "iopub.status.idle": "2022-05-24T19:50:59.189490Z",
     "shell.execute_reply": "2022-05-24T19:50:59.189408Z",
     "shell.execute_reply.started": "2022-05-24T19:50:59.189396Z"
    },
    "tags": []
   },
   "outputs": [],
   "source": [
    "unclassified_user_tools_df = tool_users_df.loc[tool_users_df['user'].isin(unclassified_one_day_users_df['username']),:]\n",
    "\n",
    "display(len(unclassified_user_tools_df))\n",
    "display(unclassified_user_tools_df.head())\n",
    "display(unclassified_user_tools_df.tail())"
   ]
  },
  {
   "cell_type": "code",
   "execution_count": null,
   "id": "42802a48-8cb3-45f9-82aa-dab24502d639",
   "metadata": {
    "execution": {
     "iopub.status.busy": "2022-05-24T19:50:59.190235Z",
     "iopub.status.idle": "2022-05-24T19:50:59.190469Z",
     "shell.execute_reply": "2022-05-24T19:50:59.190355Z",
     "shell.execute_reply.started": "2022-05-24T19:50:59.190312Z"
    },
    "tags": []
   },
   "outputs": [],
   "source": [
    "a = pd.Series([item for sublist in unclassified_user_tools_df['names_tools'] for item in sublist])\n",
    "df = a.groupby(a).size().rename_axis('names_tools').reset_index(name='frequency')\n",
    "\n",
    "\n",
    "display(df.head(10))"
   ]
  },
  {
   "cell_type": "code",
   "execution_count": null,
   "id": "0a2b7d51-4307-4f04-ac98-8ca84538898a",
   "metadata": {
    "execution": {
     "iopub.status.busy": "2022-05-24T19:50:59.191642Z",
     "iopub.status.idle": "2022-05-24T19:50:59.191782Z",
     "shell.execute_reply": "2022-05-24T19:50:59.191722Z",
     "shell.execute_reply.started": "2022-05-24T19:50:59.191715Z"
    },
    "tags": []
   },
   "outputs": [],
   "source": [
    "sorted_tool_count_for_unclassfied_users = df.sort_values('frequency', ascending=False)\n",
    "sorted_tool_count_for_unclassfied_users = sorted_tool_count_for_unclassfied_users.set_index('names_tools').reset_index()\n",
    "display(sorted_tool_count_for_unclassfied_users)\n",
    "\n",
    "sorted_tool_count_for_unclassfied_users.to_csv('sorted_tool_count_for_unclassified_one_day_users.csv', index=False)"
   ]
  },
  {
   "cell_type": "code",
   "execution_count": null,
   "id": "6c294617-944e-4ad4-a141-6ab047c2d73a",
   "metadata": {
    "tags": []
   },
   "outputs": [],
   "source": []
  },
  {
   "cell_type": "code",
   "execution_count": null,
   "id": "f9fb9dfe-2e9f-4ded-8f38-1d79f150ce26",
   "metadata": {
    "execution": {
     "iopub.status.busy": "2022-05-24T19:50:59.192303Z",
     "iopub.status.idle": "2022-05-24T19:50:59.192430Z",
     "shell.execute_reply": "2022-05-24T19:50:59.192376Z",
     "shell.execute_reply.started": "2022-05-24T19:50:59.192369Z"
    },
    "tags": []
   },
   "outputs": [],
   "source": [
    "classified_user_tools_df = tool_users_df.loc[tool_users_df['user'].isin(classified_one_day_users_df['username']),:]\n",
    "\n",
    "display(len(classified_user_tools_df))\n",
    "display(classified_user_tools_df.head())\n",
    "display(classified_user_tools_df.tail())"
   ]
  },
  {
   "cell_type": "code",
   "execution_count": null,
   "id": "b4b1838c-f811-463b-9436-55d95b5477c5",
   "metadata": {
    "execution": {
     "iopub.status.busy": "2022-05-24T19:50:59.193343Z",
     "iopub.status.idle": "2022-05-24T19:50:59.193588Z",
     "shell.execute_reply": "2022-05-24T19:50:59.193502Z",
     "shell.execute_reply.started": "2022-05-24T19:50:59.193409Z"
    }
   },
   "outputs": [],
   "source": [
    "a = pd.Series([item for sublist in classified_user_tools_df['names_tools'] for item in sublist])\n",
    "df = a.groupby(a).size().rename_axis('names_tools').reset_index(name='frequency')\n",
    "\n",
    "\n",
    "display(df.head(10))"
   ]
  },
  {
   "cell_type": "code",
   "execution_count": null,
   "id": "67ebd031-a47c-4acf-8aaf-a0876277e7e6",
   "metadata": {
    "execution": {
     "iopub.status.busy": "2022-05-24T19:50:59.194218Z",
     "iopub.status.idle": "2022-05-24T19:50:59.194384Z",
     "shell.execute_reply": "2022-05-24T19:50:59.194313Z",
     "shell.execute_reply.started": "2022-05-24T19:50:59.194302Z"
    }
   },
   "outputs": [],
   "source": [
    "sorted_tool_count_for_clustered_users = df.sort_values('frequency', ascending=False)\n",
    "sorted_tool_count_for_clustered_users = sorted_tool_count_for_clustered_users.set_index('names_tools').reset_index()\n",
    "display(sorted_tool_count_for_clustered_users)\n",
    "\n",
    "sorted_tool_count_for_clustered_users.to_csv('sorted_tool_count_for_clustered_one_day_users.csv', index=False)"
   ]
  },
  {
   "cell_type": "code",
   "execution_count": null,
   "id": "48aae9b6-7e71-44f8-8017-bfd6c081ca10",
   "metadata": {},
   "outputs": [],
   "source": []
  },
  {
   "cell_type": "code",
   "execution_count": null,
   "id": "d1bc1411-1103-40b7-9751-c85abe834036",
   "metadata": {
    "execution": {
     "iopub.status.busy": "2022-05-24T19:50:59.196093Z",
     "iopub.status.idle": "2022-05-24T19:50:59.196502Z",
     "shell.execute_reply": "2022-05-24T19:50:59.196434Z",
     "shell.execute_reply.started": "2022-05-24T19:50:59.196425Z"
    },
    "tags": []
   },
   "outputs": [],
   "source": [
    "sorted_tools_unclassified_users = sorted_tool_count_for_unclassfied_users['names_tools'].to_list()\n",
    "sorted_tools_clustered_users = sorted_tool_count_for_clustered_users['names_tools'].to_list()"
   ]
  },
  {
   "cell_type": "code",
   "execution_count": null,
   "id": "d302578e-1e27-4689-bfee-cc7595bd6f6c",
   "metadata": {
    "execution": {
     "iopub.status.busy": "2022-05-24T19:50:59.197367Z",
     "iopub.status.idle": "2022-05-24T19:50:59.197618Z",
     "shell.execute_reply": "2022-05-24T19:50:59.197513Z",
     "shell.execute_reply.started": "2022-05-24T19:50:59.197502Z"
    },
    "tags": []
   },
   "outputs": [],
   "source": [
    "import difflib\n",
    "sm = difflib.SequenceMatcher(None, sorted_tools_unclassified_users, sorted_tools_clustered_users)\n",
    "similarity_ratio = sm.ratio()\n",
    "\n",
    "display(similarity_ratio)"
   ]
  },
  {
   "cell_type": "code",
   "execution_count": null,
   "id": "7c4b3592-6240-42da-a2a2-bdc8bdf815dc",
   "metadata": {
    "execution": {
     "iopub.status.busy": "2022-05-24T19:50:59.198308Z",
     "iopub.status.idle": "2022-05-24T19:50:59.198503Z",
     "shell.execute_reply": "2022-05-24T19:50:59.198424Z",
     "shell.execute_reply.started": "2022-05-24T19:50:59.198414Z"
    },
    "tags": []
   },
   "outputs": [],
   "source": [
    "common_tools = list(set(sorted_tools_unclassified_users) & set(sorted_tools_clustered_users))\n",
    "\n",
    "display(len(common_tools))\n",
    "# display(common_tools)"
   ]
  },
  {
   "cell_type": "code",
   "execution_count": null,
   "id": "6cb08e9e-8d61-4885-909b-75aa41a6360b",
   "metadata": {
    "execution": {
     "iopub.status.busy": "2022-05-24T19:50:59.199034Z",
     "iopub.status.idle": "2022-05-24T19:50:59.199143Z",
     "shell.execute_reply": "2022-05-24T19:50:59.199094Z",
     "shell.execute_reply.started": "2022-05-24T19:50:59.199089Z"
    },
    "tags": []
   },
   "outputs": [],
   "source": [
    "total_tools_count = len(sorted_tools_clustered_users + sorted_tools_unclassified_users)\n",
    "common_tools_count = len(common_tools)\n",
    "\n",
    "percentage_common_tools = (common_tools_count*100)/total_tools_count\n",
    "\n",
    "display(percentage_common_tools)"
   ]
  },
  {
   "cell_type": "code",
   "execution_count": null,
   "id": "d29564ad-e051-424b-9ffc-0ddd5a931fb9",
   "metadata": {},
   "outputs": [],
   "source": []
  }
 ],
 "metadata": {
  "kernelspec": {
   "display_name": "Python 3 (ipykernel)",
   "language": "python",
   "name": "python3"
  },
  "language_info": {
   "codemirror_mode": {
    "name": "ipython",
    "version": 3
   },
   "file_extension": ".py",
   "mimetype": "text/x-python",
   "name": "python",
   "nbconvert_exporter": "python",
   "pygments_lexer": "ipython3",
   "version": "3.8.10"
  }
 },
 "nbformat": 4,
 "nbformat_minor": 5
}
