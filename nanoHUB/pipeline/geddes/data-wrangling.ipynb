{
 "cells": [
  {
   "cell_type": "code",
   "execution_count": 1,
   "id": "7989e499-675f-4df0-a547-ad195dd0ec66",
   "metadata": {
    "execution": {
     "iopub.execute_input": "2021-11-19T04:52:10.330529Z",
     "iopub.status.busy": "2021-11-19T04:52:10.330238Z",
     "iopub.status.idle": "2021-11-19T04:52:12.427977Z",
     "shell.execute_reply": "2021-11-19T04:52:12.426033Z",
     "shell.execute_reply.started": "2021-11-19T04:52:10.330455Z"
    },
    "tags": []
   },
   "outputs": [
    {
     "name": "stdout",
     "output_type": "stream",
     "text": [
      "\u001b[1mnanoHUB - Serving Students, Researchers & Instructors\u001b[0m\n"
     ]
    }
   ],
   "source": [
    "from nanoHUB.application import Application\n",
    "from nanoHUB.pipeline.geddes.data import save_df, new_df, QueryString, get_default_s3_client\n",
    "import datetime\n",
    "import awswrangler as wr\n",
    "import boto3\n",
    "\n",
    "application = Application.get_instance()"
   ]
  },
  {
   "cell_type": "code",
   "execution_count": 2,
   "id": "2795d4b5-e482-4ef9-b1a1-32edc472b8db",
   "metadata": {
    "execution": {
     "iopub.execute_input": "2021-11-19T04:52:12.431154Z",
     "iopub.status.busy": "2021-11-19T04:52:12.430585Z",
     "iopub.status.idle": "2021-11-19T04:52:12.455049Z",
     "shell.execute_reply": "2021-11-19T04:52:12.450935Z",
     "shell.execute_reply.started": "2021-11-19T04:52:12.430909Z"
    },
    "tags": []
   },
   "outputs": [],
   "source": [
    "boto_session = boto3.session.Session(\n",
    "    region_name=\"us-east-1\",\n",
    "    aws_access_key_id = application.get_config_value('geddesapi.access_key'),\n",
    "    aws_secret_access_key = application.get_config_value('geddesapi.secret_key')\n",
    ")\n"
   ]
  },
  {
   "cell_type": "code",
   "execution_count": 3,
   "id": "64506fbb-dba3-4380-87cd-48262d781de7",
   "metadata": {
    "execution": {
     "iopub.execute_input": "2021-11-19T04:52:12.457848Z",
     "iopub.status.busy": "2021-11-19T04:52:12.456669Z",
     "iopub.status.idle": "2021-11-19T04:52:12.478213Z",
     "shell.execute_reply": "2021-11-19T04:52:12.477471Z",
     "shell.execute_reply.started": "2021-11-19T04:52:12.457801Z"
    },
    "tags": []
   },
   "outputs": [],
   "source": [
    "wr.config.s3_endpoint_url = 'https://' + application.get_config_value('geddesapi.endpoint') + ':443'\n",
    "boto3.setup_default_session(\n",
    "    region_name=\"us-east-1\",\n",
    "    aws_access_key_id = application.get_config_value('geddesapi.access_key'),\n",
    "    aws_secret_access_key = application.get_config_value('geddesapi.secret_key')\n",
    ")"
   ]
  },
  {
   "cell_type": "code",
   "execution_count": 4,
   "id": "28b8546d-19fe-4983-85a3-de2f98e5c5f2",
   "metadata": {
    "execution": {
     "iopub.execute_input": "2021-11-19T04:52:12.483864Z",
     "iopub.status.busy": "2021-11-19T04:52:12.483165Z",
     "iopub.status.idle": "2021-11-19T04:52:13.601867Z",
     "shell.execute_reply": "2021-11-19T04:52:13.600453Z",
     "shell.execute_reply.started": "2021-11-19T04:52:12.483808Z"
    },
    "tags": []
   },
   "outputs": [
    {
     "data": {
      "text/plain": [
       "True"
      ]
     },
     "execution_count": 4,
     "metadata": {},
     "output_type": "execute_result"
    }
   ],
   "source": [
    "bucket_name = 'nanohub.raw'\n",
    "\n",
    "wr.s3.does_object_exist(\n",
    "    \"s3://nanohub.raw/nanohub_metrics/toolevents/by_semester/2018-01-01_2018-07-01.parquet.gzip\"\n",
    ")"
   ]
  },
  {
   "cell_type": "code",
   "execution_count": 5,
   "id": "8f981981-1b2e-4412-9841-979e4f6ad4e0",
   "metadata": {
    "execution": {
     "iopub.execute_input": "2021-11-19T04:52:13.604728Z",
     "iopub.status.busy": "2021-11-19T04:52:13.603370Z",
     "iopub.status.idle": "2021-11-19T04:52:13.611998Z",
     "shell.execute_reply": "2021-11-19T04:52:13.608795Z",
     "shell.execute_reply.started": "2021-11-19T04:52:13.604012Z"
    },
    "tags": []
   },
   "outputs": [],
   "source": [
    "dates = ['start', 'finish']\n",
    "\n",
    "df = wr.s3.read_parquet(\n",
    "    path=\"s3://nanohub.raw/nanohub_metrics/toolevents/by_semester/2018-01-01_2018-07-01.parquet.gzip\",\n",
    ")\n",
    "\n",
    "df[\"start_year\"] = df[\"start\"].dt.year\n",
    "df[\"finish_year\"] = df[\"finish\"].dt.year"
   ]
  },
  {
   "cell_type": "code",
   "execution_count": 6,
   "id": "95f240b8-5c7b-4b26-8da9-fb165f1fea93",
   "metadata": {
    "execution": {
     "iopub.execute_input": "2021-11-19T04:52:13.616646Z",
     "iopub.status.busy": "2021-11-19T04:52:13.614857Z",
     "iopub.status.idle": "2021-11-19T04:52:13.621612Z",
     "shell.execute_reply": "2021-11-19T04:52:13.620138Z",
     "shell.execute_reply.started": "2021-11-19T04:52:13.616510Z"
    },
    "tags": []
   },
   "outputs": [],
   "source": [
    "# print(df)"
   ]
  },
  {
   "cell_type": "code",
   "execution_count": null,
   "id": "226bc433-abf0-4b09-a4ea-73f1c85afb13",
   "metadata": {},
   "outputs": [],
   "source": []
  },
  {
   "cell_type": "code",
   "execution_count": null,
   "id": "f0e0a1be-2d33-49c4-8249-a7878806ec04",
   "metadata": {
    "tags": []
   },
   "outputs": [],
   "source": [
    "\n"
   ]
  },
  {
   "cell_type": "code",
   "execution_count": null,
   "id": "0cfb7834-c3e6-4fd5-9f6a-8b6f079e78db",
   "metadata": {},
   "outputs": [],
   "source": []
  },
  {
   "cell_type": "code",
   "execution_count": null,
   "id": "e3d4e1ba-6d02-44d8-aa60-9295ffd34648",
   "metadata": {},
   "outputs": [],
   "source": []
  }
 ],
 "metadata": {
  "kernelspec": {
   "display_name": "Python 3 (ipykernel)",
   "language": "python",
   "name": "python3"
  },
  "language_info": {
   "codemirror_mode": {
    "name": "ipython",
    "version": 3
   },
   "file_extension": ".py",
   "mimetype": "text/x-python",
   "name": "python",
   "nbconvert_exporter": "python",
   "pygments_lexer": "ipython3",
   "version": "3.8.10"
  }
 },
 "nbformat": 4,
 "nbformat_minor": 5
}
