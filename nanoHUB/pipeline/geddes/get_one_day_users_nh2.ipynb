{
 "cells": [
  {
   "cell_type": "code",
   "execution_count": 1,
   "id": "ab776a92-15b9-4fba-9bc2-b8f317a30f1c",
   "metadata": {
    "execution": {
     "iopub.execute_input": "2022-04-27T15:07:44.107353Z",
     "iopub.status.busy": "2022-04-27T15:07:44.106289Z",
     "iopub.status.idle": "2022-04-27T15:07:46.507102Z",
     "shell.execute_reply": "2022-04-27T15:07:46.505243Z",
     "shell.execute_reply.started": "2022-04-27T15:07:44.107257Z"
    },
    "tags": []
   },
   "outputs": [
    {
     "name": "stdout",
     "output_type": "stream",
     "text": [
      "\u001b[1mnanoHUB - Serving Students, Researchers & Instructors\u001b[0m\n"
     ]
    },
    {
     "ename": "ImportError",
     "evalue": "cannot import name 'get_user_tools' from 'nanoHUB.clustering.infra' (/home/Natalia/nanoHUB/nanoHUB/clustering/infra.py)",
     "output_type": "error",
     "traceback": [
      "\u001b[0;31m---------------------------------------------------------------------------\u001b[0m",
      "\u001b[0;31mImportError\u001b[0m                               Traceback (most recent call last)",
      "Input \u001b[0;32mIn [1]\u001b[0m, in \u001b[0;36m<module>\u001b[0;34m\u001b[0m\n\u001b[1;32m      6\u001b[0m \u001b[38;5;28;01mfrom\u001b[39;00m \u001b[38;5;21;01mnanoHUB\u001b[39;00m\u001b[38;5;21;01m.\u001b[39;00m\u001b[38;5;21;01mpipeline\u001b[39;00m\u001b[38;5;21;01m.\u001b[39;00m\u001b[38;5;21;01mgeddes\u001b[39;00m\u001b[38;5;21;01m.\u001b[39;00m\u001b[38;5;21;01mdata\u001b[39;00m \u001b[38;5;28;01mimport\u001b[39;00m get_default_s3_client\n\u001b[1;32m      7\u001b[0m \u001b[38;5;28;01mfrom\u001b[39;00m \u001b[38;5;21;01mnanoHUB\u001b[39;00m\u001b[38;5;21;01m.\u001b[39;00m\u001b[38;5;21;01mdataaccess\u001b[39;00m\u001b[38;5;21;01m.\u001b[39;00m\u001b[38;5;21;01mlake\u001b[39;00m \u001b[38;5;28;01mimport\u001b[39;00m S3FileMapper\n\u001b[0;32m----> 8\u001b[0m \u001b[38;5;28;01mfrom\u001b[39;00m \u001b[38;5;21;01mnanoHUB\u001b[39;00m\u001b[38;5;21;01m.\u001b[39;00m\u001b[38;5;21;01mclustering\u001b[39;00m\u001b[38;5;21;01m.\u001b[39;00m\u001b[38;5;21;01minfra\u001b[39;00m \u001b[38;5;28;01mimport\u001b[39;00m create_clusters_repository, get_user_tools, add_cluster_info, get_clustered_one_day_users, get_unclassified_one_day_users\n\u001b[1;32m      9\u001b[0m \u001b[38;5;28;01mfrom\u001b[39;00m \u001b[38;5;21;01mast\u001b[39;00m \u001b[38;5;28;01mimport\u001b[39;00m literal_eval\n\u001b[1;32m     10\u001b[0m \u001b[38;5;28;01mfrom\u001b[39;00m \u001b[38;5;21;01mcollections\u001b[39;00m \u001b[38;5;28;01mimport\u001b[39;00m defaultdict\n",
      "\u001b[0;31mImportError\u001b[0m: cannot import name 'get_user_tools' from 'nanoHUB.clustering.infra' (/home/Natalia/nanoHUB/nanoHUB/clustering/infra.py)"
     ]
    }
   ],
   "source": [
    "import pandas as pd\n",
    "import numpy as np\n",
    "from pprint import pprint\n",
    "from nanoHUB.application import Application\n",
    "from nanoHUB.configuration import ClusteringConfiguration\n",
    "from nanoHUB.pipeline.geddes.data import get_default_s3_client\n",
    "from nanoHUB.dataaccess.lake import S3FileMapper\n",
    "from nanoHUB.clustering.infra import create_clusters_repository, get_user_tools, add_cluster_info, get_clustered_one_day_users, get_unclassified_one_day_users\n",
    "from ast import literal_eval\n",
    "from collections import defaultdict\n",
    "\n",
    "\n",
    "pd.set_option('display.max_columns', None)\n",
    "\n",
    "# logger.debug('Testing')\n",
    "application = Application.get_instance()\n",
    "nanohub_db = application.new_db_engine('nanohub')\n",
    "\n",
    "#salesforce = application.new_salesforce_engine()\n",
    "\n",
    "s3_client = get_default_s3_client(application)\n",
    "raw_mapper = S3FileMapper(s3_client, ClusteringConfiguration().bucket_name_raw)\n",
    "processed_mapper = S3FileMapper(s3_client, ClusteringConfiguration().bucket_name_processed)\n",
    "\n",
    "cluster_repo = create_clusters_repository(application, ClusteringConfiguration().bucket_name_processed)\n",
    "\n",
    "derived_data_file_path = 'derived_data_for_users_with_one_day_users.csv'"
   ]
  },
  {
   "cell_type": "code",
   "execution_count": null,
   "id": "4709a6a5-5402-405e-b387-40c5630a08a1",
   "metadata": {
    "execution": {
     "iopub.status.busy": "2022-04-27T15:07:46.508634Z",
     "iopub.status.idle": "2022-04-27T15:07:46.508995Z",
     "shell.execute_reply": "2022-04-27T15:07:46.508828Z",
     "shell.execute_reply.started": "2022-04-27T15:07:46.508809Z"
    }
   },
   "outputs": [],
   "source": [
    "tool_users_df = get_user_tools(processed_mapper)\n",
    "# user_tools_df = get_tool_users(processed_mapper)\n",
    "display(tool_users_df)"
   ]
  },
  {
   "cell_type": "code",
   "execution_count": null,
   "id": "a677cf06-0d0c-4a4f-ba9e-cd58efa49590",
   "metadata": {},
   "outputs": [],
   "source": []
  },
  {
   "cell_type": "code",
   "execution_count": null,
   "id": "ef1ab197-d7a5-471a-b8c7-73085e5e2f6b",
   "metadata": {
    "execution": {
     "iopub.status.busy": "2022-04-27T15:07:46.511139Z",
     "iopub.status.idle": "2022-04-27T15:07:46.511573Z",
     "shell.execute_reply": "2022-04-27T15:07:46.511366Z",
     "shell.execute_reply.started": "2022-04-27T15:07:46.511340Z"
    },
    "tags": []
   },
   "outputs": [],
   "source": [
    "classified_one_day_users_df = get_clustered_one_day_users(processed_mapper)\n",
    "\n",
    "display(len(classified_one_day_users_df))\n",
    "display(classified_one_day_users_df.head())\n",
    "display(classified_one_day_users_df.tail())"
   ]
  },
  {
   "cell_type": "code",
   "execution_count": null,
   "id": "51ef87d4-b7a9-45e9-a659-b58d64830b96",
   "metadata": {
    "execution": {
     "iopub.status.busy": "2022-04-27T15:07:46.513725Z",
     "iopub.status.idle": "2022-04-27T15:07:46.514416Z",
     "shell.execute_reply": "2022-04-27T15:07:46.514241Z",
     "shell.execute_reply.started": "2022-04-27T15:07:46.514220Z"
    },
    "tags": []
   },
   "outputs": [],
   "source": [
    "unclassified_one_day_users_df = get_unclassified_one_day_users(processed_mapper)\n",
    "\n",
    "display(len(unclassified_one_day_users_df))\n",
    "display(unclassified_one_day_users_df.head())\n",
    "display(unclassified_one_day_users_df.tail())"
   ]
  },
  {
   "cell_type": "code",
   "execution_count": null,
   "id": "316c48ef-a53f-499b-8a97-168b927a306d",
   "metadata": {
    "execution": {
     "iopub.status.busy": "2022-04-27T15:07:46.517072Z",
     "iopub.status.idle": "2022-04-27T15:07:46.517633Z",
     "shell.execute_reply": "2022-04-27T15:07:46.517353Z",
     "shell.execute_reply.started": "2022-04-27T15:07:46.517331Z"
    },
    "tags": []
   },
   "outputs": [],
   "source": [
    "unclassified_user_tools_df = tool_users_df.loc[tool_users_df['user'].isin(unclassified_one_day_users_df['username']),:]\n",
    "\n",
    "display(len(unclassified_user_tools_df))\n",
    "display(unclassified_user_tools_df.head())\n",
    "display(unclassified_user_tools_df.tail())"
   ]
  },
  {
   "cell_type": "code",
   "execution_count": null,
   "id": "42802a48-8cb3-45f9-82aa-dab24502d639",
   "metadata": {
    "execution": {
     "iopub.status.busy": "2022-04-27T15:07:46.521296Z",
     "iopub.status.idle": "2022-04-27T15:07:46.521811Z",
     "shell.execute_reply": "2022-04-27T15:07:46.521564Z",
     "shell.execute_reply.started": "2022-04-27T15:07:46.521544Z"
    },
    "tags": []
   },
   "outputs": [],
   "source": [
    "a = pd.Series([item for sublist in unclassified_user_tools_df['names_tools'] for item in sublist])\n",
    "df = a.groupby(a).size().rename_axis('names_tools').reset_index(name='num_unclassified_users')\n",
    "\n",
    "\n",
    "display(df.head(10))"
   ]
  },
  {
   "cell_type": "code",
   "execution_count": null,
   "id": "0a2b7d51-4307-4f04-ac98-8ca84538898a",
   "metadata": {
    "execution": {
     "iopub.status.busy": "2022-04-27T15:07:46.524225Z",
     "iopub.status.idle": "2022-04-27T15:07:46.525201Z",
     "shell.execute_reply": "2022-04-27T15:07:46.524886Z",
     "shell.execute_reply.started": "2022-04-27T15:07:46.524854Z"
    },
    "tags": []
   },
   "outputs": [],
   "source": [
    "sorted_tool_count_for_unclassfied_users = df.sort_values('num_unclassified_users', ascending=False)\n",
    "sorted_tool_count_for_unclassfied_users = sorted_tool_count_for_unclassfied_users.set_index('names_tools').reset_index()\n",
    "display(sorted_tool_count_for_unclassfied_users)\n",
    "\n",
    "sorted_tool_count_for_unclassfied_users.to_csv('sorted_tool_count_for_unclassified_one_day_users.csv', index=False)"
   ]
  },
  {
   "cell_type": "code",
   "execution_count": null,
   "id": "6c294617-944e-4ad4-a141-6ab047c2d73a",
   "metadata": {
    "tags": []
   },
   "outputs": [],
   "source": []
  },
  {
   "cell_type": "code",
   "execution_count": null,
   "id": "f9fb9dfe-2e9f-4ded-8f38-1d79f150ce26",
   "metadata": {
    "execution": {
     "iopub.status.busy": "2022-04-27T15:07:46.527545Z",
     "iopub.status.idle": "2022-04-27T15:07:46.528041Z",
     "shell.execute_reply": "2022-04-27T15:07:46.527825Z",
     "shell.execute_reply.started": "2022-04-27T15:07:46.527804Z"
    }
   },
   "outputs": [],
   "source": [
    "classified_user_tools_df = tool_users_df.loc[tool_users_df['user'].isin(classified_one_day_users_df['username']),:]\n",
    "\n",
    "display(len(classified_user_tools_df))\n",
    "display(classified_user_tools_df.head())\n",
    "display(classified_user_tools_df.tail())"
   ]
  },
  {
   "cell_type": "code",
   "execution_count": null,
   "id": "b4b1838c-f811-463b-9436-55d95b5477c5",
   "metadata": {
    "execution": {
     "iopub.status.busy": "2022-04-27T15:07:46.530967Z",
     "iopub.status.idle": "2022-04-27T15:07:46.531955Z",
     "shell.execute_reply": "2022-04-27T15:07:46.531454Z",
     "shell.execute_reply.started": "2022-04-27T15:07:46.531418Z"
    }
   },
   "outputs": [],
   "source": [
    "a = pd.Series([item for sublist in classified_user_tools_df['names_tools'] for item in sublist])\n",
    "df = a.groupby(a).size().rename_axis('names_tools').reset_index(name='num_clustered_users')\n",
    "\n",
    "\n",
    "display(df.head(10))"
   ]
  },
  {
   "cell_type": "code",
   "execution_count": null,
   "id": "67ebd031-a47c-4acf-8aaf-a0876277e7e6",
   "metadata": {
    "execution": {
     "iopub.status.busy": "2022-04-27T15:07:46.535689Z",
     "iopub.status.idle": "2022-04-27T15:07:46.536794Z",
     "shell.execute_reply": "2022-04-27T15:07:46.536262Z",
     "shell.execute_reply.started": "2022-04-27T15:07:46.536194Z"
    }
   },
   "outputs": [],
   "source": [
    "sorted_tool_count_for_clustered_users = df.sort_values('num_clustered_users', ascending=False)\n",
    "sorted_tool_count_for_clustered_users = sorted_tool_count_for_clustered_users.set_index('names_tools').reset_index()\n",
    "display(sorted_tool_count_for_clustered_users)\n",
    "\n",
    "sorted_tool_count_for_clustered_users.to_csv('sorted_tool_count_for_clustered_one_day_users.csv', index=False)"
   ]
  },
  {
   "cell_type": "code",
   "execution_count": null,
   "id": "48aae9b6-7e71-44f8-8017-bfd6c081ca10",
   "metadata": {},
   "outputs": [],
   "source": []
  },
  {
   "cell_type": "code",
   "execution_count": null,
   "id": "d1bc1411-1103-40b7-9751-c85abe834036",
   "metadata": {
    "execution": {
     "iopub.status.busy": "2022-04-27T15:07:46.541786Z",
     "iopub.status.idle": "2022-04-27T15:07:46.543151Z",
     "shell.execute_reply": "2022-04-27T15:07:46.542683Z",
     "shell.execute_reply.started": "2022-04-27T15:07:46.542635Z"
    },
    "tags": []
   },
   "outputs": [],
   "source": [
    "sorted_tools_unclassified_users = sorted_tool_count_for_unclassfied_users['names_tools'].to_list()\n",
    "sorted_tools_clustered_users = sorted_tool_count_for_clustered_users['names_tools'].to_list()"
   ]
  },
  {
   "cell_type": "code",
   "execution_count": null,
   "id": "d29564ad-e051-424b-9ffc-0ddd5a931fb9",
   "metadata": {
    "execution": {
     "iopub.status.busy": "2022-04-27T15:07:46.545870Z",
     "iopub.status.idle": "2022-04-27T15:07:46.546321Z",
     "shell.execute_reply": "2022-04-27T15:07:46.546134Z",
     "shell.execute_reply.started": "2022-04-27T15:07:46.546104Z"
    },
    "tags": []
   },
   "outputs": [],
   "source": [
    "display(sorted_tool_count_for_unclassfied_users)\n",
    "print(\"********************\")\n",
    "display(sorted_tool_count_for_clustered_users)\n",
    "print(\"********************\")\n",
    "\n",
    "combined_df = sorted_tool_count_for_unclassfied_users.merge(\n",
    "    sorted_tool_count_for_clustered_users, on = ['names_tools'], how='outer'\n",
    ")\n",
    "combined_df['num_unclassified_users'].fillna(0, inplace=True)\n",
    "combined_df['num_clustered_users'].fillna(0, inplace=True)\n",
    "\n",
    "combined_df['num_total_users'] = combined_df['num_unclassified_users'] + combined_df['num_clustered_users']\n",
    "combined_df = combined_df.sort_values('num_total_users', ascending=False)\n",
    "\n",
    "\n",
    "display(combined_df)\n",
    "\n",
    "combined_df.plot(x='num_clustered_users', y='num_unclassified_users', label='c')"
   ]
  },
  {
   "cell_type": "code",
   "execution_count": null,
   "id": "782e8cc6-8b60-4254-ac87-3096d62f9245",
   "metadata": {
    "execution": {
     "iopub.status.busy": "2022-04-27T15:07:46.549486Z",
     "iopub.status.idle": "2022-04-27T15:07:46.550044Z",
     "shell.execute_reply": "2022-04-27T15:07:46.549760Z",
     "shell.execute_reply.started": "2022-04-27T15:07:46.549740Z"
    },
    "tags": []
   },
   "outputs": [],
   "source": [
    "combined_df.to_csv('sorted_tool_count_for_combined_one_day_users.csv', index=False)\n",
    "\n",
    "print(unclassied_counts['sbcnfet'])\n",
    "print(clustered_counts['sbcnfet'])\n",
    "display(combined_df.loc[combined_df['tool_name'] == 'sbcnfet'])\n",
    "\n",
    "print(unclassied_counts['cenems'])\n",
    "print(clustered_counts['cenems'])\n",
    "display(combined_df.loc[combined_df['tool_name'] == 'cenems'])\n",
    "\n",
    "# print(unclassied_counts['chemkinetics'])\n",
    "print(clustered_counts['chemkinetics'])\n",
    "display(combined_df.loc[combined_df['tool_name'] == 'chemkinetics'])"
   ]
  },
  {
   "cell_type": "code",
   "execution_count": null,
   "id": "74cefc86-30ad-4636-a1ac-cb4862b47dd0",
   "metadata": {},
   "outputs": [],
   "source": []
  },
  {
   "cell_type": "code",
   "execution_count": null,
   "id": "d302578e-1e27-4689-bfee-cc7595bd6f6c",
   "metadata": {
    "execution": {
     "iopub.status.busy": "2022-04-27T15:07:46.553177Z",
     "iopub.status.idle": "2022-04-27T15:07:46.553881Z",
     "shell.execute_reply": "2022-04-27T15:07:46.553514Z",
     "shell.execute_reply.started": "2022-04-27T15:07:46.553484Z"
    },
    "tags": []
   },
   "outputs": [],
   "source": [
    "import difflib\n",
    "sm = difflib.SequenceMatcher(None, sorted_tools_unclassified_users, sorted_tools_clustered_users)\n",
    "similarity_ratio = sm.ratio()\n",
    "\n",
    "display(similarity_ratio)"
   ]
  },
  {
   "cell_type": "code",
   "execution_count": null,
   "id": "6cb08e9e-8d61-4885-909b-75aa41a6360b",
   "metadata": {
    "execution": {
     "iopub.status.busy": "2022-04-27T15:07:46.556432Z",
     "iopub.status.idle": "2022-04-27T15:07:46.557909Z",
     "shell.execute_reply": "2022-04-27T15:07:46.557022Z",
     "shell.execute_reply.started": "2022-04-27T15:07:46.556927Z"
    },
    "tags": []
   },
   "outputs": [],
   "source": [
    "total_tools_count = len(sorted_tools_clustered_users + sorted_tools_unclassified_users)\n",
    "common_tools_count = len(common_tools)\n",
    "\n",
    "percentage_common_tools = (common_tools_count*100)/total_tools_count\n",
    "\n",
    "display(percentage_common_tools)"
   ]
  },
  {
   "cell_type": "code",
   "execution_count": null,
   "id": "7c4b3592-6240-42da-a2a2-bdc8bdf815dc",
   "metadata": {
    "execution": {
     "iopub.status.busy": "2022-04-27T15:07:46.564938Z",
     "iopub.status.idle": "2022-04-27T15:07:46.565324Z",
     "shell.execute_reply": "2022-04-27T15:07:46.565152Z",
     "shell.execute_reply.started": "2022-04-27T15:07:46.565132Z"
    },
    "tags": []
   },
   "outputs": [],
   "source": [
    "common_tools = list(set(sorted_tools_unclassified_users) & set(sorted_tools_clustered_users))\n",
    "\n",
    "display(len(common_tools))\n",
    "# display(common_tools)"
   ]
  }
 ],
 "metadata": {
  "kernelspec": {
   "display_name": "Python 3 (ipykernel)",
   "language": "python",
   "name": "python3"
  },
  "language_info": {
   "codemirror_mode": {
    "name": "ipython",
    "version": 3
   },
   "file_extension": ".py",
   "mimetype": "text/x-python",
   "name": "python",
   "nbconvert_exporter": "python",
   "pygments_lexer": "ipython3",
   "version": "3.8.10"
  }
 },
 "nbformat": 4,
 "nbformat_minor": 5
}
