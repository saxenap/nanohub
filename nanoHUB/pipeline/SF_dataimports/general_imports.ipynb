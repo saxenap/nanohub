{
 "cells": [
  {
   "cell_type": "markdown",
   "metadata": {
    "pycharm": {
     "name": "#%% md\n"
    }
   },
   "source": [
    "## general_import.py transposed to a .ipynb file for debugging"
   ]
  },
  {
   "cell_type": "code",
   "execution_count": 1,
   "metadata": {
    "execution": {
     "iopub.execute_input": "2022-02-23T16:00:08.970566Z",
     "iopub.status.busy": "2022-02-23T16:00:08.970129Z",
     "iopub.status.idle": "2022-02-23T16:00:08.995718Z",
     "shell.execute_reply": "2022-02-23T16:00:08.990490Z",
     "shell.execute_reply.started": "2022-02-23T16:00:08.970494Z"
    },
    "tags": [],
    "pycharm": {
     "name": "#%%\n"
    }
   },
   "outputs": [],
   "source": [
    "import warnings\n",
    "warnings.filterwarnings('ignore')\n",
    "# warnings.filterwarnings(action='once')\n",
    "warnings.simplefilter(action='ignore', category=FutureWarning)"
   ]
  },
  {
   "cell_type": "code",
   "execution_count": 2,
   "metadata": {
    "execution": {
     "iopub.execute_input": "2022-02-23T16:00:08.999321Z",
     "iopub.status.busy": "2022-02-23T16:00:08.998421Z",
     "iopub.status.idle": "2022-02-23T16:00:15.463031Z",
     "shell.execute_reply": "2022-02-23T16:00:15.460743Z",
     "shell.execute_reply.started": "2022-02-23T16:00:08.999231Z"
    },
    "tags": [],
    "pycharm": {
     "name": "#%%\n"
    }
   },
   "outputs": [
    {
     "name": "stdout",
     "output_type": "stream",
     "text": [
      "\u001B[1mnanoHUB - Serving Students, Researchers & Instructors\u001B[0m\n",
      "Obtained Salesforce access token ...... True\n"
     ]
    }
   ],
   "source": [
    "import numpy as np\n",
    "import pandas as pd\n",
    "from copy import deepcopy\n",
    "import os, sys\n",
    "from pathlib import Path\n",
    "import platform\n",
    "from copy import deepcopy\n",
    "from nanoHUB.application import Application\n",
    "import time\n",
    "from googleapiclient.discovery import build\n",
    "from apiclient import errors\n",
    "from oauth2client.service_account import ServiceAccountCredentials\n",
    "from httplib2 import Http\n",
    "from nanoHUB.logger import logger\n",
    "application = Application.get_instance()\n",
    "# nanohub_db = application.new_db_engine('nanohub')\n",
    "# nanohub_metrics_db = application.new_db_engine('nanohub_metrics')\n",
    "# wang159_myrmekes_db = application.new_db_engine('wang159_myrmekes')\n",
    "\n",
    "salesforce = application.new_salesforce_engine()\n",
    "db_s = salesforce\n",
    "log = logger('nanoHUB:google_imports')\n",
    "\n",
    "\n",
    "SHOULD_IMPORT_FRESH = False\n",
    "SHOULD_IMPORT_FRESH = True"
   ]
  },
  {
   "cell_type": "markdown",
   "metadata": {
    "pycharm": {
     "name": "#%% md\n"
    }
   },
   "source": [
    "## Setup GDrive API"
   ]
  },
  {
   "cell_type": "code",
   "execution_count": 3,
   "metadata": {
    "execution": {
     "iopub.execute_input": "2022-02-23T16:00:15.470547Z",
     "iopub.status.busy": "2022-02-23T16:00:15.467896Z",
     "iopub.status.idle": "2022-02-23T16:00:15.541215Z",
     "shell.execute_reply": "2022-02-23T16:00:15.539960Z",
     "shell.execute_reply.started": "2022-02-23T16:00:15.470429Z"
    },
    "tags": [],
    "pycharm": {
     "name": "#%%\n"
    }
   },
   "outputs": [],
   "source": [
    "from __future__ import print_function\n",
    "import os.path\n",
    "import os\n",
    "import errno\n",
    "from googleapiclient.discovery import build\n",
    "from google_auth_oauthlib.flow import InstalledAppFlow\n",
    "from google.auth.transport.requests import Request\n",
    "from google.oauth2.credentials import Credentials\n",
    "from google.oauth2 import service_account\n",
    "\n",
    "## stuff that's rather hard to find from documentation\n",
    "from googleapiclient.http import MediaFileUpload, MediaIoBaseDownload\n",
    "\n",
    "service = application.new_google_api_engine()"
   ]
  },
  {
   "cell_type": "code",
   "execution_count": 4,
   "metadata": {
    "execution": {
     "iopub.execute_input": "2022-02-23T16:00:15.545970Z",
     "iopub.status.busy": "2022-02-23T16:00:15.544508Z",
     "iopub.status.idle": "2022-02-23T16:00:15.561862Z",
     "shell.execute_reply": "2022-02-23T16:00:15.557196Z",
     "shell.execute_reply.started": "2022-02-23T16:00:15.545806Z"
    },
    "tags": [],
    "pycharm": {
     "name": "#%%\n"
    }
   },
   "outputs": [],
   "source": [
    "FOLDER_NAME = 'Salesforce_Imports'\n",
    "TO_IMPORT_FOLDER_NAME = 'To_Import'\n",
    "FAILURES_FOLDER_NAME = 'Import_Issues'\n",
    "SUCCESS_FOLDER_NAME = 'Imported'"
   ]
  },
  {
   "cell_type": "code",
   "execution_count": 5,
   "metadata": {
    "collapsed": false,
    "execution": {
     "iopub.execute_input": "2022-02-23T16:00:15.569376Z",
     "iopub.status.busy": "2022-02-23T16:00:15.567772Z",
     "iopub.status.idle": "2022-02-23T16:00:15.605560Z",
     "shell.execute_reply": "2022-02-23T16:00:15.597788Z",
     "shell.execute_reply.started": "2022-02-23T16:00:15.569308Z"
    },
    "jupyter": {
     "outputs_hidden": false
    },
    "pycharm": {
     "name": "#%%\n"
    },
    "tags": []
   },
   "outputs": [],
   "source": [
    "import_dir = Path(os.getenv('APP_DIR') + '/.cache/')\n",
    "\n",
    "import_dir_path = Path.joinpath(import_dir, FOLDER_NAME)\n",
    "import_dir_path.mkdir(parents=True, exist_ok=True)\n",
    "\n",
    "to_import_dir_path = Path.joinpath(import_dir_path, TO_IMPORT_FOLDER_NAME)\n",
    "to_import_dir_path.mkdir(parents=True, exist_ok=True)\n",
    "\n",
    "failures_import_dir_path = Path.joinpath(import_dir_path, FAILURES_FOLDER_NAME)\n",
    "failures_import_dir_path.mkdir(parents=True, exist_ok=True)\n",
    "\n",
    "success_dir_path = Path.joinpath(import_dir_path, SUCCESS_FOLDER_NAME)\n",
    "success_dir_path.mkdir(parents=True, exist_ok=True)"
   ]
  },
  {
   "cell_type": "code",
   "execution_count": 6,
   "metadata": {
    "collapsed": false,
    "execution": {
     "iopub.execute_input": "2022-02-23T16:00:15.639229Z",
     "iopub.status.busy": "2022-02-23T16:00:15.637796Z",
     "iopub.status.idle": "2022-02-23T16:00:15.670094Z",
     "shell.execute_reply": "2022-02-23T16:00:15.667879Z",
     "shell.execute_reply.started": "2022-02-23T16:00:15.639164Z"
    },
    "jupyter": {
     "outputs_hidden": false
    },
    "pycharm": {
     "name": "#%%\n"
    },
    "tags": []
   },
   "outputs": [],
   "source": [
    "def get_folder_id(service, folder_name: str):\n",
    "    response = service.files().list(\n",
    "        q = \"mimeType = 'application/vnd.google-apps.folder' and name = '\" + folder_name + \"'\",\n",
    "        spaces='drive',\n",
    "        fields=\"files(id, name)\"\n",
    "    ).execute()\n",
    "    folder = response.get('files', [])[0]\n",
    "    return folder.get('id')\n",
    "\n",
    "def get_subfolder_id(service, parent_folder_id: str, subfolder_name: str):\n",
    "    response = service.files().list(\n",
    "        q = \"mimeType = 'application/vnd.google-apps.folder' and name = '\" + subfolder_name + \"'\" + \" and '\" + parent_folder_id + \"' in parents\",\n",
    "        spaces='drive',\n",
    "        fields=\"files(id, name)\"\n",
    "    ).execute()\n",
    "    folder = response.get('files', [])[0]\n",
    "    return folder.get('id')\n",
    "\n",
    "def change_folder_for_file(file_id: str, old_folder_id: str, new_folder_id: str):\n",
    "    return service.files().update(\n",
    "        fileId=file_id,\n",
    "        removeParents=old_folder_id,\n",
    "        addParents=new_folder_id,\n",
    "        fields='id, parents'\n",
    "    ).execute()"
   ]
  },
  {
   "cell_type": "code",
   "execution_count": 7,
   "metadata": {
    "collapsed": false,
    "execution": {
     "iopub.execute_input": "2022-02-23T16:00:15.675719Z",
     "iopub.status.busy": "2022-02-23T16:00:15.675363Z",
     "iopub.status.idle": "2022-02-23T16:00:16.691247Z",
     "shell.execute_reply": "2022-02-23T16:00:16.689049Z",
     "shell.execute_reply.started": "2022-02-23T16:00:15.675690Z"
    },
    "jupyter": {
     "outputs_hidden": false
    },
    "pycharm": {
     "name": "#%%\n"
    },
    "tags": []
   },
   "outputs": [],
   "source": [
    "folder_id = get_folder_id(service, FOLDER_NAME)\n",
    "log.debug('Found folder: %s (%s)' % (FOLDER_NAME, folder_id))\n",
    "    \n",
    "subfolder_id = get_subfolder_id(service, folder_id, TO_IMPORT_FOLDER_NAME)\n",
    "log.debug('Found subfolder: %s (%s)' % (TO_IMPORT_FOLDER_NAME, subfolder_id))"
   ]
  },
  {
   "cell_type": "code",
   "execution_count": 8,
   "metadata": {
    "collapsed": false,
    "execution": {
     "iopub.execute_input": "2022-02-23T16:00:16.696070Z",
     "iopub.status.busy": "2022-02-23T16:00:16.695639Z",
     "iopub.status.idle": "2022-02-23T16:00:17.027607Z",
     "shell.execute_reply": "2022-02-23T16:00:17.024833Z",
     "shell.execute_reply.started": "2022-02-23T16:00:16.696029Z"
    },
    "jupyter": {
     "outputs_hidden": false
    },
    "pycharm": {
     "name": "#%%\n"
    },
    "tags": []
   },
   "outputs": [
    {
     "name": "stdout",
     "output_type": "stream",
     "text": [
      "[INFO] [3985917202 - nanoHUB:google_imports]: Found file: MATLAB Registrant Import 2.csv (1eUHat3V99XUkFYL4vuGe8-0PQYwEBcT7) [3985917202.<module>:21]\n",
      "[INFO] [3985917202 - nanoHUB:google_imports]: Found file: nanoBIO Webinar Registrants.csv (1mRzBHlzRo4WZBGNT2mkkeVfrysPLHYwX) [3985917202.<module>:21]\n"
     ]
    }
   ],
   "source": [
    "mimetypes = \"\"\"\n",
    "    mimeType = 'application/vnd.openxmlformats-officedocument.spreadsheetml.sheet' or\n",
    "    mimeType = 'application/vnd.ms-excel' or\n",
    "    mimeType = 'text/csv'\n",
    "    \"\"\"\n",
    "file_ids = []\n",
    "file_names = []\n",
    "page_token = None\n",
    "# q = \"(\" + mimetypes + \") and '\" + folder.get('id') + \"' in parents\"\n",
    "while True:\n",
    "    query = \"(\" + mimetypes + \") and '\" + subfolder_id + \"' in parents\"\n",
    "    response = service.files().list(\n",
    "        q = query,\n",
    "        spaces='drive',\n",
    "        pageToken=page_token,\n",
    "        fields=\"nextPageToken, files(id, name)\"\n",
    "    ).execute()\n",
    "    log.debug(response)\n",
    "    files = response.get('files', [])\n",
    "    for file in files:\n",
    "        log.info('Found file: %s (%s)' % (file.get('name'), file.get('id')))\n",
    "        file_names.append(file['name'])\n",
    "        file_ids.append(file['id'])\n",
    "    page_token = response.get('nextPageToken', None)\n",
    "    if page_token is None:\n",
    "        break\n",
    "\n"
   ]
  },
  {
   "cell_type": "code",
   "execution_count": 9,
   "metadata": {
    "execution": {
     "iopub.execute_input": "2022-02-23T16:00:17.031664Z",
     "iopub.status.busy": "2022-02-23T16:00:17.031001Z",
     "iopub.status.idle": "2022-02-23T16:00:17.044620Z",
     "shell.execute_reply": "2022-02-23T16:00:17.038545Z",
     "shell.execute_reply.started": "2022-02-23T16:00:17.031613Z"
    },
    "tags": [],
    "pycharm": {
     "name": "#%%\n"
    }
   },
   "outputs": [],
   "source": [
    "import io \n",
    "import shutil "
   ]
  },
  {
   "cell_type": "code",
   "execution_count": 10,
   "metadata": {
    "execution": {
     "iopub.execute_input": "2022-02-23T16:00:17.050407Z",
     "iopub.status.busy": "2022-02-23T16:00:17.048611Z",
     "iopub.status.idle": "2022-02-23T16:00:17.835732Z",
     "shell.execute_reply": "2022-02-23T16:00:17.833134Z",
     "shell.execute_reply.started": "2022-02-23T16:00:17.050105Z"
    },
    "tags": [],
    "pycharm": {
     "name": "#%%\n"
    }
   },
   "outputs": [],
   "source": [
    "list_files = []\n",
    "to_import_file_paths = []\n",
    "\n",
    "for filename in os.listdir(to_import_dir_path):\n",
    "    file_path = os.path.join(to_import_dir_path, filename)\n",
    "    try:\n",
    "        if os.path.isfile(file_path) or os.path.islink(file_path):\n",
    "            os.unlink(file_path)\n",
    "        elif os.path.isdir(file_path):\n",
    "            shutil.rmtree(file_path)\n",
    "        log.debug(\"Removed existing file %s\" % file_path)\n",
    "    except Exception as e:\n",
    "        log.error('Failed to delete %s. Reason: %s' % (file_path, e))\n",
    "\n",
    "try:\n",
    "    for temp_index,f_tbd_id in enumerate(file_ids):\n",
    "        request = service.files().get_media(fileId=f_tbd_id) #,mimeType='text/csv') #if not .csv, then do .export()\n",
    "        fh = io.BytesIO()\n",
    "        downloader = MediaIoBaseDownload(fh, request)\n",
    "        done = False\n",
    "        while done is False:\n",
    "            status, done = downloader.next_chunk()\n",
    "            log.debug(\"Downloading %s %d%%.\" % (file_names[temp_index], int(status.progress() * 100)))\n",
    "\n",
    "        # The file has been downloaded into RAM, now save it in a file\n",
    "        # https://stackoverflow.com/questions/60111361/how-to-download-a-file-from-google-drive-using-python-and-the-drive-api-v3\n",
    "        fh.seek(0)\n",
    "\n",
    "        download_filepath = Path(to_import_dir_path, file_names[temp_index])\n",
    "        with open(download_filepath, 'wb') as f:\n",
    "            shutil.copyfileobj(fh, f)\n",
    "\n",
    "        list_files.append(file_names[temp_index])\n",
    "        to_import_file_paths.append(download_filepath)\n",
    "\n",
    "    log.debug(\"Finished downloading files\")\n",
    "except Exception as e:\n",
    "    log.error(\"Error downloading file: \" + str(e))\n",
    "    raise"
   ]
  },
  {
   "cell_type": "code",
   "execution_count": 11,
   "metadata": {
    "execution": {
     "iopub.execute_input": "2022-02-23T16:00:17.842499Z",
     "iopub.status.busy": "2022-02-23T16:00:17.840002Z",
     "iopub.status.idle": "2022-02-23T16:00:17.858830Z",
     "shell.execute_reply": "2022-02-23T16:00:17.853891Z",
     "shell.execute_reply.started": "2022-02-23T16:00:17.842354Z"
    },
    "tags": [],
    "pycharm": {
     "name": "#%%\n"
    }
   },
   "outputs": [],
   "source": [
    "pd.set_option('display.max_columns', 500)\n",
    "# pd.set_option('display.max_rows', 500)\n"
   ]
  },
  {
   "cell_type": "markdown",
   "metadata": {
    "pycharm": {
     "name": "#%% md\n"
    }
   },
   "source": [
    "## Perform Sequential Imports"
   ]
  },
  {
   "cell_type": "code",
   "execution_count": 12,
   "metadata": {
    "execution": {
     "iopub.execute_input": "2022-02-23T16:00:17.872036Z",
     "iopub.status.busy": "2022-02-23T16:00:17.867246Z",
     "iopub.status.idle": "2022-02-23T16:00:17.884761Z",
     "shell.execute_reply": "2022-02-23T16:00:17.881133Z",
     "shell.execute_reply.started": "2022-02-23T16:00:17.871717Z"
    },
    "tags": [],
    "pycharm": {
     "name": "#%%\n"
    }
   },
   "outputs": [],
   "source": [
    "success_files = []\n",
    "fail_files = []"
   ]
  },
  {
   "cell_type": "code",
   "execution_count": 13,
   "metadata": {
    "execution": {
     "iopub.execute_input": "2022-02-23T16:00:17.889253Z",
     "iopub.status.busy": "2022-02-23T16:00:17.887456Z",
     "iopub.status.idle": "2022-02-23T16:00:17.901580Z",
     "shell.execute_reply": "2022-02-23T16:00:17.898764Z",
     "shell.execute_reply.started": "2022-02-23T16:00:17.889195Z"
    },
    "tags": [],
    "pycharm": {
     "name": "#%%\n"
    }
   },
   "outputs": [],
   "source": [
    "from chardet import detect\n",
    "import cchardet\n",
    "# get file encoding type\n",
    "def get_encoding_type(file_path):\n",
    "    with open(file_path, 'rb') as f:\n",
    "        rawdata = f.read()\n",
    "    return detect(rawdata)"
   ]
  },
  {
   "cell_type": "code",
   "execution_count": 14,
   "metadata": {
    "collapsed": false,
    "execution": {
     "iopub.execute_input": "2022-02-23T16:00:17.908344Z",
     "iopub.status.busy": "2022-02-23T16:00:17.904150Z",
     "iopub.status.idle": "2022-02-23T16:00:18.080651Z",
     "shell.execute_reply": "2022-02-23T16:00:18.074589Z",
     "shell.execute_reply.started": "2022-02-23T16:00:17.906483Z"
    },
    "jupyter": {
     "outputs_hidden": false
    },
    "pycharm": {
     "name": "#%%\n"
    },
    "tags": []
   },
   "outputs": [],
   "source": [
    "from charset_normalizer import CharsetNormalizerMatches as CnM\n",
    "\n",
    "for file in to_import_file_paths:\n",
    "\n",
    "    log.debug(\"Processing file: \" + str(file) + '---->')\n",
    "\n",
    "    #from_chardet = get_encoding_type(str(file))\n",
    "    #log.info('From chardet ----> ' + from_chardet['encoding'])\n",
    "\n",
    "    from_normalizer = CnM.from_path(str(file)).best().first().encoding\n",
    "    log.debug('From Normalizer ----> ' + from_normalizer)"
   ]
  },
  {
   "cell_type": "code",
   "execution_count": 15,
   "metadata": {
    "execution": {
     "iopub.execute_input": "2022-02-23T16:00:18.087691Z",
     "iopub.status.busy": "2022-02-23T16:00:18.086736Z",
     "iopub.status.idle": "2022-02-23T16:00:18.123725Z",
     "shell.execute_reply": "2022-02-23T16:00:18.113550Z",
     "shell.execute_reply.started": "2022-02-23T16:00:18.087640Z"
    },
    "tags": [],
    "pycharm": {
     "name": "#%%\n"
    }
   },
   "outputs": [],
   "source": [
    "from charset_normalizer import from_path\n",
    "\n",
    "def change_encoding(file_path: str):\n",
    "    try:\n",
    "        with open(file_path, 'w') as filetowrite:\n",
    "            filetowrite.write(results)\n",
    "    except IOError as e:\n",
    "        log.debug('Sadly, we are unable to perform charset normalization.', str(e))"
   ]
  },
  {
   "cell_type": "code",
   "execution_count": null,
   "metadata": {
    "pycharm": {
     "name": "#%%\n"
    }
   },
   "outputs": [],
   "source": []
  },
  {
   "cell_type": "code",
   "execution_count": 16,
   "metadata": {
    "execution": {
     "iopub.execute_input": "2022-02-23T16:00:18.127455Z",
     "iopub.status.busy": "2022-02-23T16:00:18.126724Z",
     "iopub.status.idle": "2022-02-23T16:00:18.177007Z",
     "shell.execute_reply": "2022-02-23T16:00:18.173736Z",
     "shell.execute_reply.started": "2022-02-23T16:00:18.127330Z"
    },
    "tags": [],
    "pycharm": {
     "name": "#%%\n"
    }
   },
   "outputs": [],
   "source": [
    "def read_file_to_df(file_path: str) -> pd.DataFrame:\n",
    "    possible_encodings = [\n",
    "        'utf-8', 'cp1252', 'utf-16', 'cp1254', 'cp775', 'utf-8-sig', 'iso-8859-1', 'unicode_escape', 'gbk','latin1'\n",
    "    ]\n",
    "    possible_separators = [',', '\\t']\n",
    "    possible_engines = ['c', 'python']\n",
    "\n",
    "    for encoding in possible_encodings:\n",
    "        for sep in possible_separators:\n",
    "            for engine in possible_engines:\n",
    "                try:\n",
    "                    idf = pd.read_csv(file_path, encoding=encoding, sep=sep, engine=engine)\n",
    "                    log.info(\"File with Encoding: %s and Separator: %s processed using engine %s\" % (encoding, sep, engine))\n",
    "                    return idf\n",
    "                except Exception as e:\n",
    "                    log.debug(\"Decoding failed with %s, %s, %s\" % (encoding, sep, engine))\n",
    "                    pass\n",
    "    log.info(\"Either the file (%s) is empty or unable to decode.\" % file_path)\n",
    "    return pd.DataFrame()"
   ]
  },
  {
   "cell_type": "code",
   "execution_count": 17,
   "metadata": {
    "execution": {
     "iopub.execute_input": "2022-02-23T16:00:18.187444Z",
     "iopub.status.busy": "2022-02-23T16:00:18.185827Z",
     "iopub.status.idle": "2022-02-23T16:00:18.213007Z",
     "shell.execute_reply": "2022-02-23T16:00:18.205048Z",
     "shell.execute_reply.started": "2022-02-23T16:00:18.187370Z"
    },
    "tags": [],
    "pycharm": {
     "name": "#%%\n"
    }
   },
   "outputs": [],
   "source": [
    "def process_excel_file(file):\n",
    "    try:\n",
    "        xl = pd.ExcelFile(file)\n",
    "        log.debug(\"sheet names: \" + xl.sheet_names)# see all sheet names\n",
    "        sheet_names = xl.parse(xl.sheet_names) #this already performs an import\n",
    "        idf = pd.read_excel(file,sheet_name=xl.sheet_names[0],header=0)#,skiprows=1)\n",
    "    except:\n",
    "        log.error('error bad lines, csv/xls/xlsx import failed')\n",
    "        raise TypeError"
   ]
  },
  {
   "cell_type": "code",
   "execution_count": null,
   "metadata": {
    "pycharm": {
     "name": "#%%\n"
    }
   },
   "outputs": [],
   "source": []
  },
  {
   "cell_type": "code",
   "execution_count": 18,
   "metadata": {
    "collapsed": false,
    "execution": {
     "iopub.execute_input": "2022-02-23T16:00:18.227043Z",
     "iopub.status.busy": "2022-02-23T16:00:18.226348Z",
     "iopub.status.idle": "2022-02-23T16:01:18.602300Z",
     "shell.execute_reply": "2022-02-23T16:01:18.599772Z",
     "shell.execute_reply.started": "2022-02-23T16:00:18.226972Z"
    },
    "jupyter": {
     "outputs_hidden": false
    },
    "pycharm": {
     "name": "#%%\n"
    },
    "tags": []
   },
   "outputs": [
    {
     "name": "stdout",
     "output_type": "stream",
     "text": [
      "[INFO] [141495456 - nanoHUB:google_imports]: Reading /home/saxenap/nanoHUB/.cache/Salesforce_Imports/To_Import/MATLAB Registrant Import 2.csv [141495456.<module>:6]\n",
      "[INFO] [141495456 - nanoHUB:google_imports]: File type .csv [141495456.<module>:9]\n",
      "[INFO] [34983876 - nanoHUB:google_imports]: File with Encoding: utf-8 and Separator: , processed using engine c [34983876.read_file_to_df:13]\n",
      "[INFO] [141495456 - nanoHUB:google_imports]: no name [141495456.<module>:57]\n",
      "[INFO] [141495456 - nanoHUB:google_imports]: Number of good emails found: 381 [141495456.<module>:80]\n",
      "[INFO] [141495456 - nanoHUB:google_imports]: Number of bad emails found: 0 [141495456.<module>:81]\n",
      "[Success] Bulk job creation successful. Job ID = 7505w00000dtlfmAAA\n",
      "{\"id\":\"7505w00000dtlfmAAA\",\"operation\":\"query\",\"object\":\"Contact\",\"createdById\":\"0055w00000DM5bOAAT\",\"createdDate\":\"2022-02-23T16:00:19.000+0000\",\"systemModstamp\":\"2022-02-23T16:00:19.000+0000\",\"state\":\"UploadComplete\",\"concurrencyMode\":\"Parallel\",\"contentType\":\"CSV\",\"apiVersion\":47.0,\"jobType\":\"V2Query\",\"lineEnding\":\"LF\",\"columnDelimiter\":\"COMMA\",\"retries\":0,\"totalProcessingTime\":0}\n",
      "{\"id\":\"7505w00000dtlfmAAA\",\"operation\":\"query\",\"object\":\"Contact\",\"createdById\":\"0055w00000DM5bOAAT\",\"createdDate\":\"2022-02-23T16:00:19.000+0000\",\"systemModstamp\":\"2022-02-23T16:00:21.000+0000\",\"state\":\"InProgress\",\"concurrencyMode\":\"Parallel\",\"contentType\":\"CSV\",\"apiVersion\":47.0,\"jobType\":\"V2Query\",\"lineEnding\":\"LF\",\"columnDelimiter\":\"COMMA\",\"numberRecordsProcessed\":0,\"retries\":0,\"totalProcessingTime\":0}\n",
      "{\"id\":\"7505w00000dtlfmAAA\",\"operation\":\"query\",\"object\":\"Contact\",\"createdById\":\"0055w00000DM5bOAAT\",\"createdDate\":\"2022-02-23T16:00:19.000+0000\",\"systemModstamp\":\"2022-02-23T16:00:21.000+0000\",\"state\":\"InProgress\",\"concurrencyMode\":\"Parallel\",\"contentType\":\"CSV\",\"apiVersion\":47.0,\"jobType\":\"V2Query\",\"lineEnding\":\"LF\",\"columnDelimiter\":\"COMMA\",\"numberRecordsProcessed\":19567,\"retries\":0,\"totalProcessingTime\":1451}\n",
      "{\"id\":\"7505w00000dtlfmAAA\",\"operation\":\"query\",\"object\":\"Contact\",\"createdById\":\"0055w00000DM5bOAAT\",\"createdDate\":\"2022-02-23T16:00:19.000+0000\",\"systemModstamp\":\"2022-02-23T16:00:44.000+0000\",\"state\":\"JobComplete\",\"concurrencyMode\":\"Parallel\",\"contentType\":\"CSV\",\"apiVersion\":47.0,\"jobType\":\"V2Query\",\"lineEnding\":\"LF\",\"columnDelimiter\":\"COMMA\",\"numberRecordsProcessed\":273165,\"retries\":0,\"totalProcessingTime\":18183}\n",
      "[Success] Bulk job completed successfully.\n",
      "[INFO] [141495456 - nanoHUB:google_imports]: Number of contacts: 244 [141495456.<module>:157]\n",
      "[Success] Bulk job creation successful. Job ID = 7505w00000dtliRAAQ\n",
      "hello\n",
      "[Success] CSV upload successful. Job ID = 7505w00000dtliRAAQ\n",
      "[Success] Closing job successful. Job ID = 7505w00000dtliRAAQ\n",
      "[Success] Bulk job creation successful. Job ID = 7505w00000dtliWAAQ\n",
      "{\"id\":\"7505w00000dtliWAAQ\",\"operation\":\"query\",\"object\":\"Lead\",\"createdById\":\"0055w00000DM5bOAAT\",\"createdDate\":\"2022-02-23T16:01:02.000+0000\",\"systemModstamp\":\"2022-02-23T16:01:03.000+0000\",\"state\":\"UploadComplete\",\"concurrencyMode\":\"Parallel\",\"contentType\":\"CSV\",\"apiVersion\":47.0,\"jobType\":\"V2Query\",\"lineEnding\":\"LF\",\"columnDelimiter\":\"COMMA\",\"retries\":0,\"totalProcessingTime\":0}\n",
      "{\"id\":\"7505w00000dtliWAAQ\",\"operation\":\"query\",\"object\":\"Lead\",\"createdById\":\"0055w00000DM5bOAAT\",\"createdDate\":\"2022-02-23T16:01:02.000+0000\",\"systemModstamp\":\"2022-02-23T16:01:07.000+0000\",\"state\":\"JobComplete\",\"concurrencyMode\":\"Parallel\",\"contentType\":\"CSV\",\"apiVersion\":47.0,\"jobType\":\"V2Query\",\"lineEnding\":\"LF\",\"columnDelimiter\":\"COMMA\",\"numberRecordsProcessed\":13211,\"retries\":0,\"totalProcessingTime\":927}\n",
      "[Success] Bulk job completed successfully.\n",
      "[INFO] [141495456 - nanoHUB:google_imports]: no company in import list, set to - [141495456.<module>:252]\n",
      "[INFO] [141495456 - nanoHUB:google_imports]: Number of existing leads: 0 [141495456.<module>:309]\n",
      "[Success] Bulk job creation successful. Job ID = 7505w00000dtljPAAQ\n",
      "hello\n",
      "[Success] CSV upload successful. Job ID = 7505w00000dtljPAAQ\n",
      "[Success] Closing job successful. Job ID = 7505w00000dtljPAAQ\n",
      "[INFO] [141495456 - nanoHUB:google_imports]: Number of new leads: 0 [141495456.<module>:319]\n",
      "[Success] Bulk job creation successful. Job ID = 7505w00000dtljZAAQ\n",
      "hello\n",
      "[Success] CSV upload successful. Job ID = 7505w00000dtljZAAQ\n",
      "[Success] Closing job successful. Job ID = 7505w00000dtljZAAQ\n",
      "[INFO] [141495456 - nanoHUB:google_imports]: Reading /home/saxenap/nanoHUB/.cache/Salesforce_Imports/To_Import/nanoBIO Webinar Registrants.csv [141495456.<module>:6]\n",
      "[INFO] [141495456 - nanoHUB:google_imports]: File type .csv [141495456.<module>:9]\n",
      "[INFO] [34983876 - nanoHUB:google_imports]: File with Encoding: utf-8 and Separator: , processed using engine c [34983876.read_file_to_df:13]\n",
      "[INFO] [141495456 - nanoHUB:google_imports]: no name [141495456.<module>:57]\n",
      "[ERROR] [141495456 - nanoHUB:google_imports]: Error with file: ['Email'] [141495456.<module>:325]\n"
     ]
    }
   ],
   "source": [
    "class EmptyOrEncodingIssue(TypeError):\n",
    "    \"\"\"Either the file is empty or was unable to be read properly.\"\"\"\n",
    "\n",
    "for file in to_import_file_paths:\n",
    "    idf = pd.DataFrame()\n",
    "    log.info(\"Reading %s\" % file)\n",
    "    try:\n",
    "        f_type = file.suffix\n",
    "        log.info(\"File type %s\" % f_type)\n",
    "        #pandas import # add exception handling - UnicodeError\n",
    "        if f_type == '.csv':\n",
    "            log.debug(\"csv file type identified\")\n",
    "            idf = read_file_to_df(file)\n",
    "            if idf.empty:\n",
    "                raise EmptyOrEncodingIssue\n",
    "        elif f_type == '.xlsx' or f_type == '.xls':\n",
    "            process_excel_file(file)\n",
    "\n",
    "        ## remove leading and trailing spaces ## add str.strip spaces for all columns and rename\n",
    "        log.debug(idf.columns)\n",
    "        prev_idf_cols = idf.columns\n",
    "        idf_cols = [i.strip() for i in idf.columns]\n",
    "        idf.columns = idf.columns.str.strip()\n",
    "        idf = idf.rename(columns={j:idf_cols[i] for i,j in enumerate(prev_idf_cols)})\n",
    "\n",
    "        # if engagement venue does not exist, then create a flag with that entry\n",
    "        try:\n",
    "            #if engagement venue is specified\n",
    "            log.debug(idf['Engagement Venue'])\n",
    "            log.debug(idf['First Name'])\n",
    "            idf = idf.rename(columns={'Engagement Venue':'Venue__c'})\n",
    "            # idf = idf.rename(columns={'First Name':'firstname','Last Name':'lastname'})\n",
    "        except:\n",
    "            #decide the event\n",
    "            #event_extract = xl.sheet_names[0]\n",
    "            #idf['Engagement Venue'] = event_extract\n",
    "            file_name = Path(file).name\n",
    "            idf['Venue__c'] = file_name.split('.')[0]\n",
    "\n",
    "            try:\n",
    "                #name extract\n",
    "                names = idf['Name'].to_list()\n",
    "                #display(idf)\n",
    "                \n",
    "                fname = deepcopy(names)\n",
    "                lname = deepcopy(names)\n",
    "                for ind, val in enumerate(names):\n",
    "                    val = val.split(' ')\n",
    "                    fname[ind] = val[-1]\n",
    "                    lname[ind] = val[0]\n",
    "\n",
    "                idf['firstname'] = fname\n",
    "                idf['lastname'] = lname\n",
    "                name_flag = True\n",
    "            except:\n",
    "                name_flag = False\n",
    "                log.info('no name')\n",
    "\n",
    "        #rename columns\n",
    "        idf = idf.rename(columns={'email':'Email','EMAIL':'Email','E-mail Address':'Email',\\\n",
    "                    'Email Address':'Email','Recipient Email':'Email'})\n",
    "        idf = idf.rename(columns={'Engagement Venue':'Venue__c'})\n",
    "        idf = idf.rename(columns={'First Name':'firstname','Last Name':'lastname','FirstName':'firstname','LastName':'lastname'})\n",
    "\n",
    "        idf = idf.rename(columns={0:'Email'})\n",
    "        if name_flag == True:\n",
    "            idf = idf.drop(columns='Name')#['NAME','LAST NAME','FIRST NAME'])            \n",
    "        idf = idf.dropna(subset=['Email'])\n",
    "\n",
    "        #email check rows\n",
    "        grows = []\n",
    "        brows = []\n",
    "        for ind,val in enumerate(idf['Email'].to_list()):\n",
    "            if '@' in val:\n",
    "                grows.append(ind)\n",
    "            else:\n",
    "                brows.append(ind)    \n",
    "        idf = idf.iloc[grows,:].reset_index().iloc[:,1:]        \n",
    "\n",
    "        log.info(\"Number of good emails found: %d\" %len(grows))\n",
    "        log.info(\"Number of bad emails found: %d\" % len(brows))\n",
    "\n",
    "        ## Import in contacts\n",
    "        os_name = os.name\n",
    "        sys_name = platform.system() #Linux, Darwin, Windows    \n",
    "\n",
    "        # salesforce queries for contact data\n",
    "        # deciding the queries\n",
    "        import_df_cols = deepcopy(idf.columns)\n",
    "        nh_id_flag = False\n",
    "        email_flag = False\n",
    "        if 'nanoHUB_user_ID__c' in import_df_cols:\n",
    "            nh_id_flag = True\n",
    "\n",
    "        if 'Email' in import_df_cols:\n",
    "            email_flag = True    \n",
    "\n",
    "        if nh_id_flag == True and email_flag == True:\n",
    "            sf_df = db_s.query_data('SELECT Id,nanoHUB_user_ID__c, Email, Venue__c FROM Contact')#,sys_name=sys_name)\n",
    "        elif email_flag == True:\n",
    "            sf_df = db_s.query_data('SELECT Id,nanoHUB_user_ID__c, Email, Venue__c FROM Contact')#,sys_name=sys_name)    \n",
    "\n",
    "        # find all existing contacts\n",
    "        sf_emails = sf_df['Email'].to_list()\n",
    "        grows = []\n",
    "        brows = [] #dont need the sf_bad_rows as send to leads\n",
    "        sf_grows = []\n",
    "        for ind,val in enumerate(idf['Email'].to_list()):\n",
    "            val = val.strip()\n",
    "            if val in sf_emails:\n",
    "                grows.append(ind)\n",
    "                sf_grows.append(sf_emails.index(val))\n",
    "            else:\n",
    "                brows.append(ind)   \n",
    "\n",
    "        # pull the matching SF entries and the matching import df entries\n",
    "        sf_df_match = sf_df.iloc[sf_grows,:].reset_index().iloc[:,1:]\n",
    "        idf_match = idf.iloc[grows,:].reset_index().iloc[:,1:]\n",
    "        lead_df = idf.iloc[brows,:].reset_index().iloc[:,1:] #use this in next section\n",
    "\n",
    "        #log.debug(sf_df_match.head())\n",
    "        #log.debug(idf_match.head())\n",
    "\n",
    "        # linear join since the sequence is matching\n",
    "        for ind,val in enumerate(sf_df_match['Venue__c']):\n",
    "            try:\n",
    "                val = val.split(';')\n",
    "                val.append(idf['Venue__c'][ind])\n",
    "                val = ';'.join(val)\n",
    "            except:\n",
    "                val = idf['Venue__c'][ind]\n",
    "            sf_df_match['Venue__c'][ind] = val\n",
    "\n",
    "        #log.debug(sf_df_match.head())\n",
    "\n",
    "        ## delete duplicates\n",
    "        venues = sf_df_match['Venue__c'].to_list()\n",
    "        for ind,val in enumerate(venues):\n",
    "            venues[ind]=';'.join(list(dict.fromkeys(val.split(';'))))\n",
    "        sf_df_match['Venue__c'] = venues\n",
    "    #     display(sf_df_match.head(5))\n",
    "\n",
    "        ## encoding correction for dashes\n",
    "        venues = sf_df_match['Venue__c'].apply(lambda x: x.replace('â\\x80\\x93','-'))\n",
    "        sf_df_match['Venue__c'] = venues\n",
    "\n",
    "        sf_df_match = sf_df_match.drop_duplicates()\n",
    "    #     display(sf_df_match.head(5))\n",
    "\n",
    "        sf_df_match = sf_df_match[['Email','Venue__c','Id']]\n",
    "    #     display(sf_df_match.head(5))\n",
    "\n",
    "        ## send to SF\n",
    "        # rebuild api object\n",
    "        db_s_c = deepcopy(db_s)\n",
    "\n",
    "        log.info(\"Number of contacts: %d\" % len(sf_df_match.index))\n",
    "        # send data to SF\n",
    "        db_s_c.object_id = 'Contact'\n",
    "        # db_s_c.external_id = 'nanoHUB_user_ID__c'\n",
    "        db_s_c.external_id = 'Id'\n",
    "\n",
    "        db_s_c.send_data(sf_df_match)\n",
    "\n",
    "        ## find leads and send them to SF as well\n",
    "        #pull all current leads\n",
    "        sf_df = db_s.query_data('SELECT Id, Email, Venue__c, SF_indexer__c FROM Lead')    \n",
    "        # find the max sf_indexer\n",
    "        indexers = sf_df['SF_indexer__c'].fillna(0).to_list()\n",
    "        max_ind = max(indexers)    \n",
    "\n",
    "        # find all existing leads\n",
    "        sf_emails = sf_df['Email'].to_list()\n",
    "        m_rows = []\n",
    "        nm_rows = [] #don't need sf no match rows\n",
    "        sf_mrows = []    \n",
    "\n",
    "        for ind,val in enumerate(lead_df['Email'].to_list()):\n",
    "            val = val.strip()\n",
    "            if val in sf_emails:\n",
    "                m_rows.append(ind)\n",
    "                sf_mrows.append(sf_emails.index(val))\n",
    "            else:\n",
    "                nm_rows.append(ind)    \n",
    "\n",
    "        # filter the matches\n",
    "        sf_df_match = sf_df.iloc[sf_mrows,:].reset_index().iloc[:,1:]\n",
    "        join_idf = lead_df.iloc[m_rows,:].reset_index().iloc[:,1:]\n",
    "        new_idf = lead_df.iloc[nm_rows,:].reset_index().iloc[:,1:]    \n",
    "\n",
    "        # linear join since the sequence is matching\n",
    "        for ind,val in enumerate(sf_df_match['Venue__c']):\n",
    "            try:\n",
    "                val = val.split(';')\n",
    "                #if 'MSE Summer Webinar Series 2020' in val:\n",
    "                #    val.remove('MSE Summer Webinar Series 2020')\n",
    "                #    if 'MSE Summer Webinar Series 2020' in val:\n",
    "                #        val.remove('MSE Summer Webinar Series 2020')\n",
    "                val.append(join_idf['Venue__c'][ind])\n",
    "                val = ';'.join(val)\n",
    "            except:\n",
    "                val = join_idf['Venue__c'][ind]\n",
    "            sf_df_match['Venue__c'][ind] = val    \n",
    "\n",
    "        ## delete duplicates\n",
    "        venues = sf_df_match['Venue__c'].to_list()\n",
    "        for ind,val in enumerate(venues):\n",
    "            venues[ind] = ';'.join(list(dict.fromkeys(val.split(';'))))\n",
    "        sf_df_match['Venue__c'] = venues\n",
    "\n",
    "        # assign new SF_indexers for the new leads\n",
    "        new_max_ind = int(max_ind+new_idf.shape[0])\n",
    "        new_idf['SF_indexer__c'] = range(int(max_ind)+1,new_max_ind+1)    \n",
    "\n",
    "        # need non-empty company field\n",
    "        new_idf['Company'] = '-'    \n",
    "\n",
    "        # ensure 'â\\x80\\x93' has been replaced\n",
    "        sf_df_match['Venue__c'] = sf_df_match['Venue__c'].apply(lambda x: x.replace('â\\x80\\x93','-'))\n",
    "        new_idf['Venue__c'] = new_idf['Venue__c'].apply(lambda x: x.replace('â\\x80\\x93','-'))\n",
    "\n",
    "        sf_df_match['Company'] = '-'\n",
    "        new_idf['Company'] = '-'\n",
    "        #log.debug(new_idf)\n",
    "        # sys.exit()\n",
    "\n",
    "        # populate the company fields for sf_df_match and new_idf by comparing email addresses\n",
    "        if 'Company' in idf.columns:\n",
    "            log.info(\"company exist, using it\")\n",
    "            # comparison for sf_df_match\n",
    "\n",
    "            sf_df_match_comp_ind = sf_df_match.columns.to_list().index('Company')\n",
    "            for ind,val in enumerate(idf['Email'].to_list()):\n",
    "                if val in sf_df_match['Email'].to_list():\n",
    "                    sf_df_match_ind = sf_df_match['Email'].to_list().index(val)\n",
    "                    sf_df_match.iloc[sf_df_match_ind,sf_df_match_comp_ind] = deepcopy(idf['Company'].to_list()[ind])\n",
    "\n",
    "            # sf_df_match sf_indexer if not available\n",
    "            sf_df_match_sf_ind = sf_df_match.columns.to_list().index('SF_indexer__c')\n",
    "            new_max_ind = int(max_ind+new_idf.shape[0])\n",
    "            for ind,val in enumerate(sf_df_match['SF_indexer__c'].to_list()):\n",
    "                if type(val) != int and type(val) != float:\n",
    "                    sf_df_match.iloc[ind,sf_df_match_sf_ind] = new_max_ind+1\n",
    "                    new_max_ind += 1\n",
    "\n",
    "            new_idf_comp_ind = new_idf.columns.to_list().index('Company')\n",
    "            for ind,val in enumerate(idf['Email'].to_list()):\n",
    "                if val in new_idf['Email'].to_list():\n",
    "                    new_idf_ind = new_idf['Email'].to_list().index(val)\n",
    "                    new_idf.iloc[new_idf_ind,new_idf_comp_ind] = deepcopy(idf['Company'].to_list()[ind])\n",
    "        else:\n",
    "            log.info('no company in import list, set to -')    \n",
    "        \n",
    "        if sf_df_match.shape[0] == 0 and new_idf.shape[0] == 0: \n",
    "            log.info('no leads to import, they were all contacts')\n",
    "        else:\n",
    "            sf_df_match = sf_df_match.fillna('-')\n",
    "            new_idf = new_idf.fillna('-')\n",
    "\n",
    "            try:\n",
    "                new_idf = new_idf.rename(columns={'First Name':'firstname','Last Name':'lastname'})\n",
    "            except:\n",
    "                log.info('names are good')          \n",
    "\n",
    "            try:\n",
    "                new_idf = new_idf[['Email','firstname','lastname','SF_indexer__c','Venue__c']]\n",
    "                new_idf['Company'] = '-'\n",
    "            except: # names are not present\n",
    "                try:\n",
    "                    tempnames = new_idf['Faculty'].apply(lambda x: x.split(' '))\n",
    "                    tf_names = [i[0] for i in tempnames]\n",
    "                    tl_names = [i[-1] if len(i[-1]) > 0 else '-' for i in tempnames]\n",
    "                    new_idf['firstname'] = tf_names\n",
    "                    new_idf['lastname'] = tl_names\n",
    "                    new_idf = new_idf[['Email','firstname','lastname','SF_indexer__c','Venue__c']]\n",
    "                    new_idf['Company'] = '-'    \n",
    "                except:\n",
    "                    tempnames = new_idf['Name'].to_list()\n",
    "                    temp_fname = []\n",
    "                    temp_lname = []\n",
    "                    for t_ind,t_val in enumerate(tempnames):\n",
    "                        t_val = t_val.split(' ')\n",
    "                        temp_fname.append(t_val[0])\n",
    "                        if len(t_val[-1]) > 0:\n",
    "                            temp_lname.append(t_val[-1])\n",
    "                        else:\n",
    "                            temp_lname.append('-')\n",
    "\n",
    "                    new_idf['firstname'] = temp_fname\n",
    "                    new_idf['lastname'] = temp_lname\n",
    "                    new_idf = new_idf[['Email','firstname','lastname','SF_indexer__c','Venue__c']]\n",
    "                    new_idf['Company'] = '-'\n",
    "\n",
    "            #drop duplicate rows\n",
    "            sf_df_match = sf_df_match.drop_duplicates(subset='SF_indexer__c')\n",
    "            new_idf = new_idf.drop_duplicates()    \n",
    "\n",
    "            sf_df_match['Company'] = sf_df_match['Company'].replace('  ','-')\n",
    "            sf_df_match = sf_df_match.drop(columns='SF_indexer__c')\n",
    "\n",
    "            #send the matching ones\n",
    "            db_s_l1 = deepcopy(db_s)\n",
    "\n",
    "            # send data to SF\n",
    "            db_s_l1.object_id = 'Lead'\n",
    "            # db_s_l1.external_id = 'SF_indexer__c'\n",
    "            db_s_l1.external_id = 'Id'\n",
    "            \n",
    "            log.info(\"Number of existing leads: %d\" % len(new_idf.index))\n",
    "            db_s_l1.send_data(sf_df_match)\n",
    "\n",
    "            #send the new ones\n",
    "            db_s_l2 = deepcopy(db_s)\n",
    "\n",
    "            # send data to SF\n",
    "            db_s_l2.object_id = 'Lead'\n",
    "            db_s_l2.external_id = 'SF_indexer__c'\n",
    "            \n",
    "            log.info(\"Number of new leads: %d\" % len(new_idf.index))\n",
    "            db_s_l2.send_data(new_idf)\n",
    "\n",
    "        success_files.append(file)\n",
    "\n",
    "    except Exception as e:\n",
    "        log.error(\"Error with file: \" + str(e))\n",
    "        fail_files.append(file)"
   ]
  },
  {
   "cell_type": "code",
   "execution_count": 19,
   "metadata": {
    "execution": {
     "iopub.execute_input": "2022-02-23T16:01:18.604551Z",
     "iopub.status.busy": "2022-02-23T16:01:18.603684Z",
     "iopub.status.idle": "2022-02-23T16:01:18.619770Z",
     "shell.execute_reply": "2022-02-23T16:01:18.618809Z",
     "shell.execute_reply.started": "2022-02-23T16:01:18.604451Z"
    },
    "tags": [],
    "pycharm": {
     "name": "#%%\n"
    }
   },
   "outputs": [],
   "source": [
    "tbd_imp_names = file_names\n",
    "tbd_imp_ids = file_ids"
   ]
  },
  {
   "cell_type": "code",
   "execution_count": 20,
   "metadata": {
    "execution": {
     "iopub.execute_input": "2022-02-23T16:01:18.623100Z",
     "iopub.status.busy": "2022-02-23T16:01:18.621582Z",
     "iopub.status.idle": "2022-02-23T16:01:21.150422Z",
     "shell.execute_reply": "2022-02-23T16:01:21.142725Z",
     "shell.execute_reply.started": "2022-02-23T16:01:18.622990Z"
    },
    "tags": [],
    "pycharm": {
     "name": "#%%\n"
    }
   },
   "outputs": [
    {
     "name": "stdout",
     "output_type": "stream",
     "text": [
      "[INFO] [1136129925 - nanoHUB:google_imports]: Success in proccesing file: MATLAB Registrant Import 2.csv with id: 1eUHat3V99XUkFYL4vuGe8-0PQYwEBcT7 [1136129925.<module>:12]\n",
      "[INFO] [1136129925 - nanoHUB:google_imports]: Failure in proccesing file: nanoBIO Webinar Registrants.csv with id: 1mRzBHlzRo4WZBGNT2mkkeVfrysPLHYwX [1136129925.<module>:20]\n"
     ]
    },
    {
     "ename": "NameError",
     "evalue": "name 'fid' is not defined",
     "output_type": "error",
     "traceback": [
      "\u001B[0;31m---------------------------------------------------------------------------\u001B[0m",
      "\u001B[0;31mNameError\u001B[0m                                 Traceback (most recent call last)",
      "Input \u001B[0;32mIn [20]\u001B[0m, in \u001B[0;36m<module>\u001B[0;34m\u001B[0m\n\u001B[1;32m     19\u001B[0m file_id \u001B[38;5;241m=\u001B[39m tbd_imp_ids[t_index]\n\u001B[1;32m     20\u001B[0m log\u001B[38;5;241m.\u001B[39minfo(\u001B[38;5;124m\"\u001B[39m\u001B[38;5;124mFailure in proccesing file: \u001B[39m\u001B[38;5;132;01m%s\u001B[39;00m\u001B[38;5;124m with id: \u001B[39m\u001B[38;5;132;01m%s\u001B[39;00m\u001B[38;5;124m\"\u001B[39m \u001B[38;5;241m%\u001B[39m (file_name, file_id))\n\u001B[0;32m---> 21\u001B[0m change_folder_for_file(\u001B[43mfid\u001B[49m, subfolder_id, failure_folder_id)\n\u001B[1;32m     22\u001B[0m i\u001B[38;5;241m.\u001B[39mrename(Path(failures_import_dir_path) \u001B[38;5;241m/\u001B[39m i\u001B[38;5;241m.\u001B[39mname)\n",
      "\u001B[0;31mNameError\u001B[0m: name 'fid' is not defined"
     ]
    }
   ],
   "source": [
    "imported_folder_id = get_subfolder_id(service, folder_id, SUCCESS_FOLDER_NAME)\n",
    "failure_folder_id = get_subfolder_id(service, folder_id, FAILURES_FOLDER_NAME)\n",
    "\n",
    "if not success_files and not fail_files:\n",
    "    log.info(\"No files found to process.\")\n",
    "    exit(0)\n",
    "\n",
    "else: \n",
    "    for i in success_files:\n",
    "        file_name = Path(i).name \n",
    "        t_index = tbd_imp_names.index(file_name) \n",
    "        file_id = tbd_imp_ids[t_index]\n",
    "        log.info(\"Success in proccesing file: %s with id: %s\" % (file_name, file_id))\n",
    "        change_folder_for_file(file_id, subfolder_id, imported_folder_id)\n",
    "        i.rename(Path(success_dir_path) / i.name)\n",
    "\n",
    "    for i in fail_files:\n",
    "        file_name = Path(i).name \n",
    "        t_index = tbd_imp_names.index(file_name)\n",
    "        file_id = tbd_imp_ids[t_index]\n",
    "        log.info(\"Failure in proccesing file: %s with id: %s\" % (file_name, file_id))\n",
    "        change_folder_for_file(file_id, subfolder_id, failure_folder_id)\n",
    "        i.rename(Path(failures_import_dir_path) / i.name)"
   ]
  },
  {
   "cell_type": "code",
   "execution_count": null,
   "metadata": {
    "tags": [],
    "pycharm": {
     "name": "#%%\n"
    }
   },
   "outputs": [],
   "source": []
  },
  {
   "cell_type": "code",
   "execution_count": null,
   "metadata": {
    "tags": [],
    "pycharm": {
     "name": "#%%\n"
    }
   },
   "outputs": [],
   "source": []
  },
  {
   "cell_type": "code",
   "execution_count": null,
   "metadata": {
    "pycharm": {
     "name": "#%%\n"
    },
    "tags": []
   },
   "outputs": [],
   "source": []
  },
  {
   "cell_type": "code",
   "execution_count": null,
   "metadata": {
    "pycharm": {
     "name": "#%%\n"
    }
   },
   "outputs": [],
   "source": []
  }
 ],
 "metadata": {
  "kernelspec": {
   "display_name": "Python 3 (ipykernel)",
   "language": "python",
   "name": "python3"
  },
  "language_info": {
   "codemirror_mode": {
    "name": "ipython",
    "version": 3
   },
   "file_extension": ".py",
   "mimetype": "text/x-python",
   "name": "python",
   "nbconvert_exporter": "python",
   "pygments_lexer": "ipython3",
   "version": "3.8.10"
  }
 },
 "nbformat": 4,
 "nbformat_minor": 4
}