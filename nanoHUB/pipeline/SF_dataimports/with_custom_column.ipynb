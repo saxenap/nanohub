{
 "cells": [
  {
   "cell_type": "markdown",
   "metadata": {},
   "source": [
    "## general_import.py transposed to a .ipynb file for debugging"
   ]
  },
  {
   "cell_type": "code",
   "execution_count": 6,
   "metadata": {
    "execution": {
     "iopub.execute_input": "2022-01-27T01:39:44.727842Z",
     "iopub.status.busy": "2022-01-27T01:39:44.724753Z",
     "iopub.status.idle": "2022-01-27T01:39:45.160802Z",
     "shell.execute_reply": "2022-01-27T01:39:45.157595Z",
     "shell.execute_reply.started": "2022-01-27T01:39:44.727690Z"
    },
    "tags": []
   },
   "outputs": [
    {
     "name": "stdout",
     "output_type": "stream",
     "text": [
      "Obtained Salesforce access token ...... True\n"
     ]
    }
   ],
   "source": [
    "prefix = 'IMPORT AS'\n",
    "\n",
    "import warnings\n",
    "warnings.filterwarnings('ignore')\n",
    "# warnings.filterwarnings(action='once')\n",
    "warnings.simplefilter(action='ignore', category=FutureWarning)\n",
    "\n",
    "import io \n",
    "import shutil \n",
    "import re\n",
    "import numpy as np\n",
    "import pandas as pd\n",
    "from copy import deepcopy\n",
    "import os, sys\n",
    "from pathlib import Path\n",
    "import platform\n",
    "\n",
    "from nanoHUB.application import Application\n",
    "from nanoHUB.pipeline.SF_dataimports.file_handling import map_file\n",
    "from nanoHUB.pipeline.SF_dataimports.data_handling import split_names, filter_bad_emails, strip_spaces_cols, rename_columns\n",
    "from nanoHUB.pipeline.SF_dataimports.google_downloads import DefaultGoogleFactory\n",
    "\n",
    "import time\n",
    "from nanoHUB.logger import logger\n",
    "\n",
    "log = logger('nanoHUB:google_imports')\n",
    "pd.set_option('display.max_columns', 500)\n",
    "\n",
    "application = Application.get_instance()\n",
    "salesforce = application.new_salesforce_engine()\n",
    "db_s = salesforce\n",
    "\n",
    "\n",
    "from __future__ import print_function\n",
    "import os.path\n",
    "import os\n",
    "import errno\n",
    "from googleapiclient.discovery import build\n",
    "from google_auth_oauthlib.flow import InstalledAppFlow\n",
    "from google.auth.transport.requests import Request\n",
    "from google.oauth2.credentials import Credentials\n",
    "from google.oauth2 import service_account\n",
    "from apiclient import errors\n",
    "from oauth2client.service_account import ServiceAccountCredentials\n",
    "from httplib2 import Http\n",
    "\n",
    "## stuff that's rather hard to find from documentation\n"
   ]
  },
  {
   "cell_type": "markdown",
   "metadata": {},
   "source": [
    "## Setup GDrive API"
   ]
  },
  {
   "cell_type": "code",
   "execution_count": 7,
   "metadata": {
    "collapsed": false,
    "execution": {
     "iopub.execute_input": "2022-01-27T01:39:45.950591Z",
     "iopub.status.busy": "2022-01-27T01:39:45.950274Z",
     "iopub.status.idle": "2022-01-27T01:39:47.900159Z",
     "shell.execute_reply": "2022-01-27T01:39:47.898110Z",
     "shell.execute_reply.started": "2022-01-27T01:39:45.950556Z"
    },
    "jupyter": {
     "outputs_hidden": false
    },
    "pycharm": {
     "name": "#%%\n"
    },
    "tags": []
   },
   "outputs": [
    {
     "name": "stdout",
     "output_type": "stream",
     "text": [
      "[INFO] [google_downloads - nanoHUB:google_imports]: Found file: nH_CustSatSurvey2022_import.csv (1_DCw2-WSAR_s0-813VB3Sj-kF-ND35Yt) [google_downloads.process:99]\n",
      "['nH_CustSatSurvey2022_import.csv']\n",
      "['1_DCw2-WSAR_s0-813VB3Sj-kF-ND35Yt']\n"
     ]
    }
   ],
   "source": [
    "downloader_factory = DefaultGoogleFactory(application, log)\n",
    "downloader = downloader_factory.get_downloader()\n",
    "dir_config = downloader_factory.get_folder_config()\n",
    "\n",
    "to_import_file_paths, file_names, file_ids = downloader.process()\n",
    "\n",
    "print(file_names)\n",
    "print(file_ids)"
   ]
  },
  {
   "cell_type": "markdown",
   "metadata": {},
   "source": [
    "## Perform Sequential Imports"
   ]
  },
  {
   "cell_type": "code",
   "execution_count": 8,
   "metadata": {
    "execution": {
     "iopub.execute_input": "2022-01-27T01:39:48.511881Z",
     "iopub.status.busy": "2022-01-27T01:39:48.511442Z",
     "iopub.status.idle": "2022-01-27T01:40:15.366866Z",
     "shell.execute_reply": "2022-01-27T01:40:15.364295Z",
     "shell.execute_reply.started": "2022-01-27T01:39:48.511847Z"
    },
    "tags": []
   },
   "outputs": [
    {
     "name": "stdout",
     "output_type": "stream",
     "text": [
      "[Success] Bulk job creation successful. Job ID = 7505w00000cy4gcAAA\n",
      "{\"id\":\"7505w00000cy4gcAAA\",\"operation\":\"query\",\"object\":\"Contact\",\"createdById\":\"0055w00000DM5bOAAT\",\"createdDate\":\"2022-01-27T01:39:48.000+0000\",\"systemModstamp\":\"2022-01-27T01:39:49.000+0000\",\"state\":\"UploadComplete\",\"concurrencyMode\":\"Parallel\",\"contentType\":\"CSV\",\"apiVersion\":47.0,\"jobType\":\"V2Query\",\"lineEnding\":\"LF\",\"columnDelimiter\":\"COMMA\",\"retries\":0,\"totalProcessingTime\":0}\n",
      "{\"id\":\"7505w00000cy4gcAAA\",\"operation\":\"query\",\"object\":\"Contact\",\"createdById\":\"0055w00000DM5bOAAT\",\"createdDate\":\"2022-01-27T01:39:48.000+0000\",\"systemModstamp\":\"2022-01-27T01:39:49.000+0000\",\"state\":\"InProgress\",\"concurrencyMode\":\"Parallel\",\"contentType\":\"CSV\",\"apiVersion\":47.0,\"jobType\":\"V2Query\",\"lineEnding\":\"LF\",\"columnDelimiter\":\"COMMA\",\"numberRecordsProcessed\":19435,\"retries\":0,\"totalProcessingTime\":1281}\n",
      "{\"id\":\"7505w00000cy4gcAAA\",\"operation\":\"query\",\"object\":\"Contact\",\"createdById\":\"0055w00000DM5bOAAT\",\"createdDate\":\"2022-01-27T01:39:48.000+0000\",\"systemModstamp\":\"2022-01-27T01:40:03.000+0000\",\"state\":\"JobComplete\",\"concurrencyMode\":\"Parallel\",\"contentType\":\"CSV\",\"apiVersion\":47.0,\"jobType\":\"V2Query\",\"lineEnding\":\"LF\",\"columnDelimiter\":\"COMMA\",\"numberRecordsProcessed\":271530,\"retries\":0,\"totalProcessingTime\":13145}\n",
      "[Success] Bulk job completed successfully.\n",
      "                       Email                  Id  nanoHUB_user_ID__c\n",
      "0         nkissebe@gmail.com  0035w000031Vsp1AAC               998.0\n",
      "1        support@nanohub.org  0035w000031Vsp2AAC              1683.0\n",
      "2       gridstat@nanohub.org  0035w000031Vsp3AAC              1684.0\n",
      "3            ncn@nanohub.org  0035w000031Vsp4AAC              1685.0\n",
      "4           apps@nanohub.org  0035w000031Vsp5AAC              1686.0\n",
      "...                      ...                 ...                 ...\n",
      "252090      mkhan118@fiu.edu  0035w00003YXslPAAT            345960.0\n",
      "252091   asu970602@naver.com  0035w00003YXslQAAT            345961.0\n",
      "252092    kelsey7@purdue.edu  0035w00003YXslRAAT            345962.0\n",
      "252093    anand50@purdue.edu  0035w00003YXslSAAT            345963.0\n",
      "252094   dpooria75@gmail.com  0035w00003YXslTAAT            345964.0\n",
      "\n",
      "[252095 rows x 3 columns]\n"
     ]
    }
   ],
   "source": [
    "success_files = []\n",
    "fail_files = []\n",
    "\n",
    "sf_df = db_s.query_data('SELECT Id,nanoHUB_user_ID__c, Email FROM Contact') \n",
    "print(sf_df)"
   ]
  },
  {
   "cell_type": "code",
   "execution_count": 17,
   "metadata": {
    "execution": {
     "iopub.execute_input": "2022-01-27T02:12:04.367688Z",
     "iopub.status.busy": "2022-01-27T02:12:04.367157Z",
     "iopub.status.idle": "2022-01-27T02:12:04.976930Z",
     "shell.execute_reply": "2022-01-27T02:12:04.975324Z",
     "shell.execute_reply.started": "2022-01-27T02:12:04.367629Z"
    },
    "tags": []
   },
   "outputs": [
    {
     "name": "stdout",
     "output_type": "stream",
     "text": [
      "[INFO] [1138430544 - nanoHUB:google_imports]: Reading /home/saxenap/nanoHUB/.cache/Salesforce_Imports/To_Import/nH_CustSatSurvey2022_import.csv [1138430544.<module>:3]\n",
      "[INFO] [file_handling - nanoHUB:google_imports]: File type .csv [file_handling.map_file:106]\n",
      "[INFO] [api - charset_normalizer]: Detected a SIG or BOM mark on first 3 byte(s). Priority +1 given for utf_8. [api.from_bytes:159]\n",
      "[INFO] [api - charset_normalizer]: Code page utf_8 is a multi byte encoding table and it appear that at least one character was encoded using n-bytes. [api.from_bytes:257]\n",
      "[INFO] [api - charset_normalizer]: utf_8 passed initial chaos probing. Mean measured chaos is 0.000000 % [api.from_bytes:352]\n",
      "[INFO] [api - charset_normalizer]: We detected language [('English', 1.0), ('Indonesian', 1.0), ('Simple English', 1.0)] using utf_8 [api.from_bytes:382]\n",
      "[INFO] [api - charset_normalizer]: utf_8 is most likely the one. Stopping the process. [api.from_bytes:417]\n",
      "[INFO] [file_handling - nanoHUB:google_imports]: Encoding is of type: utf_8 [file_handling.map_file:109]\n",
      "[INFO] [file_handling - nanoHUB:google_imports]: File with Encoding: utf-8 and Separator: , processed using engine c [file_handling.read_file_to_df:53]\n",
      "[INFO] [1138430544 - nanoHUB:google_imports]: No name in column `Name` needing to be split found [1138430544.<module>:13]\n",
      "[INFO] [data_handling - nanoHUB:google_imports]: Number of good emails found: 18164 [data_handling.filter_bad_emails:37]\n",
      "[INFO] [data_handling - nanoHUB:google_imports]: Number of bad emails found: 0 [data_handling.filter_bad_emails:38]\n",
      "[INFO] [1138430544 - nanoHUB:google_imports]: Number of custom prefixed columns: 3 [1138430544.<module>:39]\n",
      "[INFO] [1138430544 - nanoHUB:google_imports]: Number of contacts: 17018 [1138430544.<module>:45]\n",
      "[INFO] [1138430544 - nanoHUB:google_imports]: Number of leads: 1352 [1138430544.<module>:56]\n"
     ]
    }
   ],
   "source": [
    "for file in to_import_file_paths:\n",
    "    idf = pd.DataFrame()\n",
    "    log.info(\"Reading %s\" % file)\n",
    "    try:\n",
    "        idf = map_file(file, logger('nanoHUB:google_imports'))\n",
    "\n",
    "        ## remove leading and trailing spaces ## add str.strip spaces for all columns and rename\n",
    "        log.debug(idf.columns)\n",
    "        idf = strip_spaces_cols(idf)\n",
    "\n",
    "        idf, has_name = split_names(idf)\n",
    "        if not has_name:\n",
    "            log.info('No name in column `Name` needing to be split found')\n",
    "\n",
    "        #rename columns\n",
    "        idf = rename_columns(idf)\n",
    "        if has_name == True:\n",
    "            idf = idf.drop(columns='Name')#['NAME','LAST NAME','FIRST NAME'])            \n",
    "        idf = idf.dropna(subset=['Email'])\n",
    "\n",
    "        idf = filter_bad_emails(idf, log)\n",
    "\n",
    "        # salesforce queries for contact data\n",
    "        # deciding the queries\n",
    "        import_df_cols = deepcopy(idf.columns)\n",
    "        nh_id_flag = False\n",
    "        email_flag = False\n",
    "        if 'nanoHUB_user_ID__c' in import_df_cols:\n",
    "            nh_id_flag = True\n",
    "\n",
    "        if 'Email' in import_df_cols:\n",
    "            email_flag = True    \n",
    "        \n",
    "        merged_df = idf.merge(sf_df, how = 'inner', on = ['Email'])\n",
    "        \n",
    "        prefixed_df = merged_df.filter(regex=re.compile(prefix, re.IGNORECASE))\n",
    "        prefixed_df.columns = prefixed_df.columns.str.replace(prefix, \"\", case = False)\n",
    "        prefixed_df.columns = prefixed_df.columns.str.lstrip(' ')\n",
    "        log.info(\"Number of custom prefixed columns: %d\" % len(prefixed_df.columns))\n",
    "        log.debug(prefixed_df.columns)\n",
    "        \n",
    "        merged_df = merged_df[['Email','Id']]\n",
    "        merged_df = merged_df.merge(prefixed_df, how = 'inner', left_index=True, right_index=True)\n",
    "        \n",
    "        log.info(\"Number of contacts: %d\" % len(merged_df.index))\n",
    "        log.debug(merged_df.head())\n",
    "        log.debug(merged_df.tail())\n",
    "        \n",
    "        db_s_c = deepcopy(db_s)\n",
    "        db_s_c.object_id = 'Contact'\n",
    "        db_s_c.external_id = 'Id'\n",
    "        db_s_c.send_data(merged_df)\n",
    "        \n",
    "        leads_df = idf[~idf['Email'].isin(sf_df['Email'])]\n",
    "        log.info(\"Number of leads: %d\" % len(leads_df))\n",
    "        \n",
    "    except Exception as e:\n",
    "        log.error(\"Error with file: \" + str(e))\n",
    "        fail_files.append(file)\n",
    "        "
   ]
  },
  {
   "cell_type": "code",
   "execution_count": null,
   "metadata": {},
   "outputs": [],
   "source": []
  }
 ],
 "metadata": {
  "kernelspec": {
   "display_name": "Python 3 (ipykernel)",
   "language": "python",
   "name": "python3"
  },
  "language_info": {
   "codemirror_mode": {
    "name": "ipython",
    "version": 3
   },
   "file_extension": ".py",
   "mimetype": "text/x-python",
   "name": "python",
   "nbconvert_exporter": "python",
   "pygments_lexer": "ipython3",
   "version": "3.8.10"
  }
 },
 "nbformat": 4,
 "nbformat_minor": 4
}
