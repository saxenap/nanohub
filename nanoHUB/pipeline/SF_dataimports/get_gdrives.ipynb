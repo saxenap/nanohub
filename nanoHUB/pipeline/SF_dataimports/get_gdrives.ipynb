{
 "cells": [
  {
   "cell_type": "code",
   "execution_count": 1,
   "id": "34a46a09-eaf2-40e9-b1e6-bad3efc431dd",
   "metadata": {},
   "outputs": [],
   "source": [
    "from __future__ import print_function\n",
    "import os.path\n",
    "import os\n",
    "from googleapiclient.discovery import build\n",
    "from google_auth_oauthlib.flow import InstalledAppFlow\n",
    "from google.auth.transport.requests import Request\n",
    "from google.oauth2.credentials import Credentials\n",
    "\n",
    "## stuff that's rather hard to find from documentation\n",
    "from googleapiclient.http import MediaFileUpload, MediaIoBaseDownload\n",
    "\n",
    "# If modifying these scopes, delete the file token.json.\n",
    "SCOPES = ['https://www.googleapis.com/auth/drive.install', 'https://www.googleapis.com/auth/drive', \\\n",
    "'https://www.googleapis.com/auth/docs', 'https://www.googleapis.com/auth/drive.readonly']"
   ]
  },
  {
   "cell_type": "code",
   "execution_count": 3,
   "id": "62874436-5805-4781-8679-f1f3a2af6773",
   "metadata": {},
   "outputs": [],
   "source": [
    "cwd = os.getcwd()"
   ]
  },
  {
   "cell_type": "code",
   "execution_count": 5,
   "id": "0f2a90ab-54b9-4565-abe4-41233d56a5a4",
   "metadata": {},
   "outputs": [],
   "source": [
    "creds = None\n",
    "# The file token.json stores the user's access and refresh tokens, and is\n",
    "# created automatically when the authorization flow completes for the first\n",
    "# time.\n",
    "if os.path.exists(cwd+'/credentials/token.json'):\n",
    "    creds = Credentials.from_authorized_user_file(cwd+'/credentials/token.json', SCOPES)\n",
    "# If there are no (valid) credentials available, let the user log in.\n",
    "if not creds or not creds.valid:\n",
    "    if creds and creds.expired and creds.refresh_token:\n",
    "        creds.refresh(Request())\n",
    "    else:\n",
    "        flow = InstalledAppFlow.from_client_secrets_file(cwd+'/credentials/oauth_credentials.json', SCOPES)\n",
    "        creds = flow.run_local_server(port=0)\n",
    "    # Save the credentials for the next run\n",
    "    with open(cwd+'/credentials/token.json', 'w') as token:\n",
    "        token.write(creds.to_json())\n",
    "\n",
    "service = build('drive', 'v3', credentials=creds)"
   ]
  },
  {
   "cell_type": "code",
   "execution_count": 1,
   "id": "4f6b65eb-d74c-42fb-938d-29c72d561b5e",
   "metadata": {},
   "outputs": [],
   "source": [
    "NCN_master_id = '1OjlcHKkyKe9Uw_3iTFxIUafdtD1NNXKC'\n",
    "sf_import_master_id = '1Hg6UQmf5z2ZRqOwVnOHMqjLwZkZN-jOh'\n",
    "tbd_import_id = '1gIbrfPnNs8TZrhTarhWOaCl8Bts5PNX8'\n",
    "failure_id = '1WMU4A6IMQhtIZ4rehpFiKiyllc718U_1'\n",
    "success_id = '1lf2vTUWiZHLEhfzM8m3Tym4j9UGgdhMZ'"
   ]
  },
  {
   "cell_type": "code",
   "execution_count": 42,
   "id": "45a69147-725b-47ef-8131-629bfff92e81",
   "metadata": {},
   "outputs": [],
   "source": [
    "# common mimeTypes I'll need to use that can be hard to find \n",
    "# google docs native spreadsheet format: 'application/vnd.google-apps.spreadsheet' \n",
    "# xlsx (new excel format): 'application/vnd.openxmlformats-officedocument.spreadsheetml.sheet' \n",
    "# xls (old excel format): 'application/vnd.ms-excel' \n",
    "# csv: 'text/csv' \n",
    "# https://en.wikipedia.org/wiki/Media_type "
   ]
  },
  {
   "cell_type": "code",
   "execution_count": 43,
   "id": "02794b84-50b8-4641-9e8d-1fbf42d96215",
   "metadata": {},
   "outputs": [],
   "source": [
    "## file downloading\n",
    "# 1. search for all files with parent directory - tbd_import_id\n",
    "# 2. import them sequentially"
   ]
  },
  {
   "cell_type": "code",
   "execution_count": 34,
   "id": "b98c7f85-1c6c-4886-9b79-1d784152d3d4",
   "metadata": {},
   "outputs": [],
   "source": [
    "tbd_imp_files = service.files().list(q=\"'\"+tbd_import_id + \"' in parents\",\n",
    "                                      spaces='drive',\n",
    "                                      fields='nextPageToken, files(id, name)').execute()"
   ]
  },
  {
   "cell_type": "code",
   "execution_count": 35,
   "id": "c5ba5eef-c132-4750-b095-b1e5e96e4e72",
   "metadata": {},
   "outputs": [
    {
     "data": {
      "text/plain": [
       "[{'id': '1H-l-e8g0o3N9L7S5dJCOs33_wJ2GENiY', 'name': 'test2.csv'}]"
      ]
     },
     "execution_count": 35,
     "metadata": {},
     "output_type": "execute_result"
    }
   ],
   "source": [
    "tbd_imp_files.get('files')"
   ]
  },
  {
   "cell_type": "code",
   "execution_count": 36,
   "id": "da2d609c-bef9-4999-9ef4-31375d3c1f67",
   "metadata": {},
   "outputs": [],
   "source": [
    "tbd_imp_ids = [] \n",
    "tbd_imp_fnames = [] \n",
    "for temp_file_dict in tbd_imp_files['files']:\n",
    "    tbd_imp_ids.append(temp_file_dict['id']) \n",
    "    tbd_imp_fnames.append(temp_file_dict['name']) "
   ]
  },
  {
   "cell_type": "code",
   "execution_count": 37,
   "id": "d108d3f2-2397-4798-b299-fca1e406673e",
   "metadata": {},
   "outputs": [],
   "source": [
    "import io \n",
    "import shutil"
   ]
  },
  {
   "cell_type": "code",
   "execution_count": 39,
   "id": "65f60c4a-5788-4fbc-ae45-acdf342f3421",
   "metadata": {},
   "outputs": [
    {
     "name": "stdout",
     "output_type": "stream",
     "text": [
      "Download 100%.\n"
     ]
    }
   ],
   "source": [
    "for temp_index,f_tbd_id in enumerate(tbd_imp_ids):\n",
    "    request = service.files().get_media(fileId=f_tbd_id) #,mimeType='text/csv') #if not .csv, then do .export()\n",
    "    fh = io.BytesIO()\n",
    "    downloader = MediaIoBaseDownload(fh, request)\n",
    "    done = False\n",
    "    while done is False:\n",
    "        status, done = downloader.next_chunk()\n",
    "        print(\"Download %d%%.\" % int(status.progress() * 100))\n",
    "        \n",
    "    # The file has been downloaded into RAM, now save it in a file\n",
    "    # https://stackoverflow.com/questions/60111361/how-to-download-a-file-from-google-drive-using-python-and-the-drive-api-v3\n",
    "    fh.seek(0)\n",
    "    with open(cwd+'/To_Import/'+tbd_imp_fnames[temp_index], 'wb') as f:\n",
    "        shutil.copyfileobj(fh, f) #, length=131072)    "
   ]
  },
  {
   "cell_type": "code",
   "execution_count": 40,
   "id": "0518d920-ef89-422b-9014-08af15665a00",
   "metadata": {},
   "outputs": [],
   "source": [
    "import pickle as pk"
   ]
  },
  {
   "cell_type": "code",
   "execution_count": 41,
   "id": "3ecbda11-7275-4df1-8a5c-fc07c871189d",
   "metadata": {},
   "outputs": [],
   "source": [
    "imports_need = True\n",
    "with open('file_status','wb') as f:\n",
    "    pk.dump(imports_need,f)"
   ]
  },
  {
   "cell_type": "code",
   "execution_count": null,
   "id": "1c6a7199-025d-456b-91f3-13deea7ca63f",
   "metadata": {},
   "outputs": [],
   "source": [
    "with open(cwd+'/To_Import/gdrive_ids','wb') as f:\n",
    "    pk.dump(tbd_imp_files,f)\n",
    "# tbd_imp_files"
   ]
  },
  {
   "cell_type": "code",
   "execution_count": null,
   "id": "ca77fd38-87af-4dbd-950e-70ce1874df10",
   "metadata": {},
   "outputs": [],
   "source": []
  },
  {
   "cell_type": "code",
   "execution_count": null,
   "id": "973cc4d8-5573-4d73-91f9-61c821f6896e",
   "metadata": {},
   "outputs": [],
   "source": []
  }
 ],
 "metadata": {
  "kernelspec": {
   "display_name": "Python 3 (ipykernel)",
   "language": "python",
   "name": "python3"
  },
  "language_info": {
   "codemirror_mode": {
    "name": "ipython",
    "version": 3
   },
   "file_extension": ".py",
   "mimetype": "text/x-python",
   "name": "python",
   "nbconvert_exporter": "python",
   "pygments_lexer": "ipython3",
   "version": "3.8.10"
  }
 },
 "nbformat": 4,
 "nbformat_minor": 5
}
