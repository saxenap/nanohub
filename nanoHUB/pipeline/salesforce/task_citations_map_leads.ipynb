{
 "cells": [
  {
   "cell_type": "markdown",
   "metadata": {
    "papermill": {
     "duration": 0.012362,
     "end_time": "2021-01-21T06:30:34.617099",
     "exception": false,
     "start_time": "2021-01-21T06:30:34.604737",
     "status": "completed"
    },
    "tags": []
   },
   "source": [
    "# DB2-Salesforce connector: Citation mapping to leads"
   ]
  },
  {
   "cell_type": "code",
   "execution_count": 1,
   "metadata": {
    "execution": {
     "iopub.execute_input": "2021-01-21T06:30:34.642851Z",
     "iopub.status.busy": "2021-01-21T06:30:34.642251Z",
     "iopub.status.idle": "2021-01-21T06:30:34.645545Z",
     "shell.execute_reply": "2021-01-21T06:30:34.645043Z"
    },
    "papermill": {
     "duration": 0.018706,
     "end_time": "2021-01-21T06:30:34.645676",
     "exception": false,
     "start_time": "2021-01-21T06:30:34.626970",
     "status": "completed"
    },
    "tags": [
     "parameters"
    ]
   },
   "outputs": [],
   "source": [
    "# API settings\n",
    "api_url = '/services/data/v43.0/sobjects'\n",
    "external_id = 'nanoHUB_source_ID__c'\n",
    "object_id = 'Lead'\n",
    "\n",
    "from nanoHUB.application import Application\n",
    "\n",
    "application = Application.get_instance()\n",
    "nanohub_db = application.new_db_engine('nanohub')\n",
    "\n",
    "salesforce = application.new_salesforce_engine()\n",
    "db_s = salesforce"
   ]
  },
  {
   "cell_type": "code",
   "execution_count": 2,
   "metadata": {
    "execution": {
     "iopub.execute_input": "2021-01-21T06:30:34.667989Z",
     "iopub.status.busy": "2021-01-21T06:30:34.667427Z",
     "iopub.status.idle": "2021-01-21T06:30:40.704845Z",
     "shell.execute_reply": "2021-01-21T06:30:40.704301Z"
    },
    "papermill": {
     "duration": 6.050409,
     "end_time": "2021-01-21T06:30:40.704979",
     "exception": false,
     "start_time": "2021-01-21T06:30:34.654570",
     "status": "completed"
    },
    "tags": []
   },
   "outputs": [],
   "source": [
    "    \n",
    "import pandas as pd\n",
    "import time\n",
    "import datetime"
   ]
  },
  {
   "cell_type": "markdown",
   "metadata": {
    "papermill": {
     "duration": 0.0097,
     "end_time": "2021-01-21T06:30:40.725334",
     "exception": false,
     "start_time": "2021-01-21T06:30:40.715634",
     "status": "completed"
    },
    "tags": []
   },
   "source": [
    "## Obtain tool information from DB2 "
   ]
  },
  {
   "cell_type": "code",
   "execution_count": 3,
   "metadata": {
    "execution": {
     "iopub.execute_input": "2021-01-21T06:30:40.758797Z",
     "iopub.status.busy": "2021-01-21T06:30:40.758161Z",
     "iopub.status.idle": "2021-01-21T06:30:45.852360Z",
     "shell.execute_reply": "2021-01-21T06:30:45.851476Z"
    },
    "papermill": {
     "duration": 5.117574,
     "end_time": "2021-01-21T06:30:45.852492",
     "exception": false,
     "start_time": "2021-01-21T06:30:40.734918",
     "status": "completed"
    },
    "tags": []
   },
   "outputs": [],
   "source": [
    "# Citations\n",
    "sql_query = \"select * from jos_citations\"\n",
    "\n",
    "citations_df = pd.read_sql_query(sql_query, nanohub_db)\n",
    "\n",
    "# Citation authors\n",
    "sql_query = \"select * from jos_citations_authors;\"\n",
    "\n",
    "authors_df = pd.read_sql_query(sql_query, nanohub_db)"
   ]
  },
  {
   "cell_type": "code",
   "execution_count": 4,
   "metadata": {
    "execution": {
     "iopub.execute_input": "2021-01-21T06:30:45.925602Z",
     "iopub.status.busy": "2021-01-21T06:30:45.924978Z",
     "iopub.status.idle": "2021-01-21T06:30:46.004952Z",
     "shell.execute_reply": "2021-01-21T06:30:46.004479Z"
    },
    "papermill": {
     "duration": 0.143006,
     "end_time": "2021-01-21T06:30:46.005082",
     "exception": false,
     "start_time": "2021-01-21T06:30:45.862076",
     "status": "completed"
    },
    "tags": []
   },
   "outputs": [
    {
     "data": {
      "text/html": [
       "<div>\n",
       "<style scoped>\n",
       "    .dataframe tbody tr th:only-of-type {\n",
       "        vertical-align: middle;\n",
       "    }\n",
       "\n",
       "    .dataframe tbody tr th {\n",
       "        vertical-align: top;\n",
       "    }\n",
       "\n",
       "    .dataframe thead th {\n",
       "        text-align: right;\n",
       "    }\n",
       "</style>\n",
       "<table border=\"1\" class=\"dataframe\">\n",
       "  <thead>\n",
       "    <tr style=\"text-align: right;\">\n",
       "      <th></th>\n",
       "      <th>url</th>\n",
       "      <th>author_c</th>\n",
       "      <th>journal</th>\n",
       "      <th>year</th>\n",
       "      <th>title</th>\n",
       "      <th>citation_ID</th>\n",
       "      <th>nanohub_user_id</th>\n",
       "      <th>author_id</th>\n",
       "      <th>author_a</th>\n",
       "      <th>email</th>\n",
       "      <th>organization</th>\n",
       "    </tr>\n",
       "  </thead>\n",
       "  <tbody>\n",
       "    <tr>\n",
       "      <th>0</th>\n",
       "      <td></td>\n",
       "      <td>Sebastian Steiger;Michael Povolotskyi;Hong-Hyu...</td>\n",
       "      <td>IEEE Transactions on Nanotechnology</td>\n",
       "      <td>2011</td>\n",
       "      <td>NEMO5: A Parallel Multiscale Nanoelectronics M...</td>\n",
       "      <td>10000003</td>\n",
       "      <td>10676</td>\n",
       "      <td>4613</td>\n",
       "      <td>Sebastian Steiger</td>\n",
       "      <td></td>\n",
       "      <td>Purdue University</td>\n",
       "    </tr>\n",
       "    <tr>\n",
       "      <th>1</th>\n",
       "      <td></td>\n",
       "      <td>Sebastian Steiger;Michael Povolotskyi;Hong-Hyu...</td>\n",
       "      <td>IEEE Transactions on Nanotechnology</td>\n",
       "      <td>2011</td>\n",
       "      <td>NEMO5: A Parallel Multiscale Nanoelectronics M...</td>\n",
       "      <td>10000003</td>\n",
       "      <td>0</td>\n",
       "      <td>4614</td>\n",
       "      <td>Michael Povolotskyi</td>\n",
       "      <td></td>\n",
       "      <td>Purdue University</td>\n",
       "    </tr>\n",
       "    <tr>\n",
       "      <th>2</th>\n",
       "      <td></td>\n",
       "      <td>Sebastian Steiger;Michael Povolotskyi;Hong-Hyu...</td>\n",
       "      <td>IEEE Transactions on Nanotechnology</td>\n",
       "      <td>2011</td>\n",
       "      <td>NEMO5: A Parallel Multiscale Nanoelectronics M...</td>\n",
       "      <td>10000003</td>\n",
       "      <td>37033</td>\n",
       "      <td>4615</td>\n",
       "      <td>Hong-Hyun Park</td>\n",
       "      <td></td>\n",
       "      <td>Purdue University</td>\n",
       "    </tr>\n",
       "  </tbody>\n",
       "</table>\n",
       "</div>"
      ],
      "text/plain": [
       "  url                                           author_c  \\\n",
       "0      Sebastian Steiger;Michael Povolotskyi;Hong-Hyu...   \n",
       "1      Sebastian Steiger;Michael Povolotskyi;Hong-Hyu...   \n",
       "2      Sebastian Steiger;Michael Povolotskyi;Hong-Hyu...   \n",
       "\n",
       "                               journal  year  \\\n",
       "0  IEEE Transactions on Nanotechnology  2011   \n",
       "1  IEEE Transactions on Nanotechnology  2011   \n",
       "2  IEEE Transactions on Nanotechnology  2011   \n",
       "\n",
       "                                               title  citation_ID  \\\n",
       "0  NEMO5: A Parallel Multiscale Nanoelectronics M...     10000003   \n",
       "1  NEMO5: A Parallel Multiscale Nanoelectronics M...     10000003   \n",
       "2  NEMO5: A Parallel Multiscale Nanoelectronics M...     10000003   \n",
       "\n",
       "   nanohub_user_id  author_id             author_a email       organization  \n",
       "0            10676       4613    Sebastian Steiger        Purdue University  \n",
       "1                0       4614  Michael Povolotskyi        Purdue University  \n",
       "2            37033       4615       Hong-Hyun Park        Purdue University  "
      ]
     },
     "execution_count": 4,
     "metadata": {},
     "output_type": "execute_result"
    }
   ],
   "source": [
    "# combining authors and citations\n",
    "ac_df = pd.merge(citations_df[['id', 'url', 'author', 'journal', 'year', 'title']],\\\n",
    "                 authors_df[['cid', 'uidNumber','id', 'author', 'email', 'organization']], \\\n",
    "                 how='inner',\\\n",
    "                 left_on='id', right_on='cid', suffixes=['_c', '_a'])\\\n",
    "                .drop(columns='id_c')\n",
    "\n",
    "ac_df.rename(columns={'cid':'citation_ID', 'uidNumber':'nanohub_user_id', 'id_a':'author_id'}, inplace=True)\n",
    "\n",
    "# display\n",
    "ac_df.head(3)"
   ]
  },
  {
   "cell_type": "code",
   "execution_count": 5,
   "metadata": {
    "execution": {
     "iopub.execute_input": "2021-01-21T06:30:46.052636Z",
     "iopub.status.busy": "2021-01-21T06:30:46.052008Z",
     "iopub.status.idle": "2021-01-21T06:30:46.082235Z",
     "shell.execute_reply": "2021-01-21T06:30:46.071946Z"
    },
    "papermill": {
     "duration": 0.06697,
     "end_time": "2021-01-21T06:30:46.082385",
     "exception": false,
     "start_time": "2021-01-21T06:30:46.015415",
     "status": "completed"
    },
    "tags": []
   },
   "outputs": [],
   "source": [
    "# Captialize author names\n",
    "ac_df['author'] = ac_df.author_a.apply(lambda x: ' '.join(list(filter(None, [z.capitalize() for z in x.strip().split(' ')]))))\n",
    "\n",
    "# remove empty author name entries\n",
    "ac_df = ac_df[ac_df['author']!= '']"
   ]
  },
  {
   "cell_type": "code",
   "execution_count": 6,
   "metadata": {
    "execution": {
     "iopub.execute_input": "2021-01-21T06:30:46.201647Z",
     "iopub.status.busy": "2021-01-21T06:30:46.201021Z",
     "iopub.status.idle": "2021-01-21T06:31:31.539798Z",
     "shell.execute_reply": "2021-01-21T06:31:31.540315Z"
    },
    "papermill": {
     "duration": 45.44838,
     "end_time": "2021-01-21T06:31:31.540532",
     "exception": false,
     "start_time": "2021-01-21T06:30:46.092152",
     "status": "completed"
    },
    "tags": []
   },
   "outputs": [
    {
     "data": {
      "text/html": [
       "<div>\n",
       "<style scoped>\n",
       "    .dataframe tbody tr th:only-of-type {\n",
       "        vertical-align: middle;\n",
       "    }\n",
       "\n",
       "    .dataframe tbody tr th {\n",
       "        vertical-align: top;\n",
       "    }\n",
       "\n",
       "    .dataframe thead th {\n",
       "        text-align: right;\n",
       "    }\n",
       "</style>\n",
       "<table border=\"1\" class=\"dataframe\">\n",
       "  <thead>\n",
       "    <tr style=\"text-align: right;\">\n",
       "      <th></th>\n",
       "      <th>author</th>\n",
       "      <th>keep</th>\n",
       "      <th>email</th>\n",
       "      <th>org</th>\n",
       "      <th>source</th>\n",
       "    </tr>\n",
       "  </thead>\n",
       "  <tbody>\n",
       "    <tr>\n",
       "      <th>1</th>\n",
       "      <td>A Alhenawy</td>\n",
       "      <td>True</td>\n",
       "      <td>a.hennawy@hotmail.com</td>\n",
       "      <td>Ain Shams University</td>\n",
       "      <td>&lt;p&gt;&lt;span style=\"color: #ff0000;\"&gt;&lt;strong&gt;[Auto...</td>\n",
       "    </tr>\n",
       "    <tr>\n",
       "      <th>2</th>\n",
       "      <td>A Alma'aitah</td>\n",
       "      <td>True</td>\n",
       "      <td>aalmaait@uwo.ca</td>\n",
       "      <td>University Of Western Ontario</td>\n",
       "      <td>&lt;p&gt;&lt;span style=\"color: #ff0000;\"&gt;&lt;strong&gt;[Auto...</td>\n",
       "    </tr>\n",
       "    <tr>\n",
       "      <th>6</th>\n",
       "      <td>A Dorda</td>\n",
       "      <td>True</td>\n",
       "      <td>None</td>\n",
       "      <td>Graz University of Technology</td>\n",
       "      <td>&lt;p&gt;&lt;span style=\"color: #ff0000;\"&gt;&lt;strong&gt;[Auto...</td>\n",
       "    </tr>\n",
       "  </tbody>\n",
       "</table>\n",
       "</div>"
      ],
      "text/plain": [
       "         author  keep                  email                            org  \\\n",
       "1    A Alhenawy  True  a.hennawy@hotmail.com           Ain Shams University   \n",
       "2  A Alma'aitah  True        aalmaait@uwo.ca  University Of Western Ontario   \n",
       "6       A Dorda  True                   None  Graz University of Technology   \n",
       "\n",
       "                                              source  \n",
       "1  <p><span style=\"color: #ff0000;\"><strong>[Auto...  \n",
       "2  <p><span style=\"color: #ff0000;\"><strong>[Auto...  \n",
       "6  <p><span style=\"color: #ff0000;\"><strong>[Auto...  "
      ]
     },
     "execution_count": 6,
     "metadata": {},
     "output_type": "execute_result"
    }
   ],
   "source": [
    "# author with no nanoHUB account -> leads\n",
    "def determine_lead(this_df):\n",
    "    # determine if this author is a lead\n",
    "    \n",
    "    if ((this_df.nanohub_user_id!=0).sum() > 0):\n",
    "        # this author name has nanoHUB ID\n",
    "        return pd.Series([False, None, None, None], index=['keep', 'email', 'org', 'source'])\n",
    "    \n",
    "    # affiliation\n",
    "    this_org = this_df[this_df['organization'] != '']['organization'].mode()\n",
    "    if this_org.shape[0] > 0:\n",
    "        this_org = this_org[0]\n",
    "    else:\n",
    "        this_org = None\n",
    "    \n",
    "    # email\n",
    "    this_email = this_df[this_df['email'] != '']['email'].mode()\n",
    "    if this_email.shape[0] > 0:\n",
    "        this_email = this_email[0]\n",
    "    else:\n",
    "        this_email = None\n",
    "    \n",
    "    # list of citations\n",
    "    this_cite_list = this_df.apply(lambda x: '%s, %s (%d)' %(x.title,x.journal,x.year), axis=1)\\\n",
    "                                      .drop_duplicates().to_list()\n",
    "    \n",
    "    if len(this_cite_list) > 0:\n",
    "        # remove empty strings\n",
    "        this_cite_list = list(filter(None, this_cite_list))\n",
    "    \n",
    "    # list of URLs\n",
    "    this_url_list = this_df['url'].drop_duplicates().to_list()\n",
    "    \n",
    "    if len(this_url_list) > 0:\n",
    "        # remove empty strings\n",
    "        this_url_list = list(filter(None, this_url_list))   \n",
    "        \n",
    "    # generate nanoHUB_source\n",
    "    this_nanoHUB_source = '<p><span style=\"color: #ff0000;\"><strong>[Automatically generated]</strong></span> from the following publications citing nanoHUB resources.</p>'\n",
    "    \n",
    "    for x in this_cite_list:\n",
    "        this_nanoHUB_source += x+'<br />'\n",
    "        \n",
    "    this_nanoHUB_source += '<p></p><p>Links:</p>'\n",
    "    \n",
    "    for x in this_url_list:\n",
    "        this_nanoHUB_source += x+'<br />' \n",
    "    \n",
    "    return pd.Series([True, this_email, this_org, this_nanoHUB_source], index=['keep', 'email', 'org', 'source'])\n",
    "\n",
    "\n",
    "# group by author name. Each lead has unique author name\n",
    "lead_df = ac_df.groupby('author').apply(determine_lead).reset_index()\n",
    "\n",
    "lead_df = lead_df[lead_df.keep]\n",
    "                \n",
    "# display\n",
    "lead_df.head(3)"
   ]
  },
  {
   "cell_type": "markdown",
   "metadata": {
    "papermill": {
     "duration": 0.010151,
     "end_time": "2021-01-21T06:31:31.563461",
     "exception": false,
     "start_time": "2021-01-21T06:31:31.553310",
     "status": "completed"
    },
    "tags": []
   },
   "source": [
    "## Match data with Salesforce format"
   ]
  },
  {
   "cell_type": "code",
   "execution_count": 7,
   "metadata": {
    "execution": {
     "iopub.execute_input": "2021-01-21T06:31:31.691736Z",
     "iopub.status.busy": "2021-01-21T06:31:31.691132Z",
     "iopub.status.idle": "2021-01-21T06:31:31.736411Z",
     "shell.execute_reply": "2021-01-21T06:31:31.735875Z"
    },
    "papermill": {
     "duration": 0.152844,
     "end_time": "2021-01-21T06:31:31.736589",
     "exception": false,
     "start_time": "2021-01-21T06:31:31.583745",
     "status": "completed"
    },
    "tags": []
   },
   "outputs": [],
   "source": [
    "# split full name into first, middle, and last names\n",
    "def split_full_name(this_name):\n",
    "    this_name_list = list(filter(None, this_name.split(' ')))\n",
    "    \n",
    "    if len(this_name_list) == 1:\n",
    "        # single word name\n",
    "        return pd.Series([this_name_list[0], this_name_list[0]])\n",
    "    \n",
    "    elif len(this_name_list) > 1:\n",
    "        # multi word name\n",
    "        return pd.Series([this_name_list[0],this_name_list[-1]])"
   ]
  },
  {
   "cell_type": "code",
   "execution_count": 8,
   "metadata": {
    "execution": {
     "iopub.execute_input": "2021-01-21T06:31:31.810392Z",
     "iopub.status.busy": "2021-01-21T06:31:31.809648Z",
     "iopub.status.idle": "2021-01-21T06:31:34.126497Z",
     "shell.execute_reply": "2021-01-21T06:31:34.126025Z"
    },
    "papermill": {
     "duration": 2.369164,
     "end_time": "2021-01-21T06:31:34.126636",
     "exception": false,
     "start_time": "2021-01-21T06:31:31.757472",
     "status": "completed"
    },
    "tags": []
   },
   "outputs": [
    {
     "data": {
      "text/html": [
       "<div>\n",
       "<style scoped>\n",
       "    .dataframe tbody tr th:only-of-type {\n",
       "        vertical-align: middle;\n",
       "    }\n",
       "\n",
       "    .dataframe tbody tr th {\n",
       "        vertical-align: top;\n",
       "    }\n",
       "\n",
       "    .dataframe thead th {\n",
       "        text-align: right;\n",
       "    }\n",
       "</style>\n",
       "<table border=\"1\" class=\"dataframe\">\n",
       "  <thead>\n",
       "    <tr style=\"text-align: right;\">\n",
       "      <th></th>\n",
       "      <th>1</th>\n",
       "      <th>2</th>\n",
       "    </tr>\n",
       "  </thead>\n",
       "  <tbody>\n",
       "    <tr>\n",
       "      <th>nanoHUB_source_ID__c</th>\n",
       "      <td>lead_citation#A_Alhenawy</td>\n",
       "      <td>lead_citation#A_Alma'aitah</td>\n",
       "    </tr>\n",
       "    <tr>\n",
       "      <th>firstname</th>\n",
       "      <td>A</td>\n",
       "      <td>A</td>\n",
       "    </tr>\n",
       "    <tr>\n",
       "      <th>lastname</th>\n",
       "      <td>Alhenawy</td>\n",
       "      <td>Alma'aitah</td>\n",
       "    </tr>\n",
       "    <tr>\n",
       "      <th>Email</th>\n",
       "      <td>a.hennawy@hotmail.com</td>\n",
       "      <td>aalmaait@uwo.ca</td>\n",
       "    </tr>\n",
       "    <tr>\n",
       "      <th>Company</th>\n",
       "      <td>Ain Shams University</td>\n",
       "      <td>University Of Western Ontario</td>\n",
       "    </tr>\n",
       "    <tr>\n",
       "      <th>nanoHUB_source__c</th>\n",
       "      <td>&lt;p&gt;&lt;span style=\"color: #ff0000;\"&gt;&lt;strong&gt;[Auto...</td>\n",
       "      <td>&lt;p&gt;&lt;span style=\"color: #ff0000;\"&gt;&lt;strong&gt;[Auto...</td>\n",
       "    </tr>\n",
       "  </tbody>\n",
       "</table>\n",
       "</div>"
      ],
      "text/plain": [
       "                                                                      1  \\\n",
       "nanoHUB_source_ID__c                           lead_citation#A_Alhenawy   \n",
       "firstname                                                             A   \n",
       "lastname                                                       Alhenawy   \n",
       "Email                                             a.hennawy@hotmail.com   \n",
       "Company                                            Ain Shams University   \n",
       "nanoHUB_source__c     <p><span style=\"color: #ff0000;\"><strong>[Auto...   \n",
       "\n",
       "                                                                      2  \n",
       "nanoHUB_source_ID__c                         lead_citation#A_Alma'aitah  \n",
       "firstname                                                             A  \n",
       "lastname                                                     Alma'aitah  \n",
       "Email                                                   aalmaait@uwo.ca  \n",
       "Company                                   University Of Western Ontario  \n",
       "nanoHUB_source__c     <p><span style=\"color: #ff0000;\"><strong>[Auto...  "
      ]
     },
     "execution_count": 8,
     "metadata": {},
     "output_type": "execute_result"
    }
   ],
   "source": [
    "df_sf = pd.DataFrame()\n",
    "\n",
    "# create a new column for object name\n",
    "df_sf['nanoHUB_source_ID__c'] = lead_df.apply(lambda x: 'lead_citation#%s'%('_'.join(x.author.split(' '))), axis=1)\n",
    "df_sf[['firstname', 'lastname']] = lead_df['author'].apply(split_full_name)\n",
    "df_sf['Email'] = lead_df['email']\n",
    "df_sf['Company'] = lead_df['org']\n",
    "df_sf['nanoHUB_source__c'] = lead_df['source']\n",
    "\n",
    "# Company cannot be empty\n",
    "df_sf['Company'] = df_sf['Company'].fillna('-')\n",
    "df_sf['Company'] = df_sf['Company'].apply(lambda x: x if len(x.strip())>0 else '-')\n",
    "\n",
    "sf_original_fields = df_sf.columns\n",
    "\n",
    "# display\n",
    "df_sf.head(2).T"
   ]
  },
  {
   "cell_type": "markdown",
   "metadata": {
    "papermill": {
     "duration": 0.013152,
     "end_time": "2021-01-21T06:31:34.153660",
     "exception": false,
     "start_time": "2021-01-21T06:31:34.140508",
     "status": "completed"
    },
    "tags": []
   },
   "source": [
    "## To Salesforce Sales Cloud CRM"
   ]
  },
  {
   "cell_type": "code",
   "execution_count": 9,
   "metadata": {
    "execution": {
     "iopub.execute_input": "2021-01-21T06:31:34.246951Z",
     "iopub.status.busy": "2021-01-21T06:31:34.246340Z",
     "iopub.status.idle": "2021-01-21T06:31:34.556460Z",
     "shell.execute_reply": "2021-01-21T06:31:34.556001Z"
    },
    "papermill": {
     "duration": 0.381013,
     "end_time": "2021-01-21T06:31:34.556593",
     "exception": false,
     "start_time": "2021-01-21T06:31:34.175580",
     "status": "completed"
    },
    "tags": []
   },
   "outputs": [
    {
     "name": "stdout",
     "output_type": "stream",
     "text": [
      "Obtained Salesforce access token ...... True\n"
     ]
    }
   ],
   "source": [
    "# create DB2 to Salesforce API object\n",
    "\n",
    "# specify Salesforce object ID and external ID\n",
    "db_s.object_id = object_id \n",
    "db_s.external_id = external_id"
   ]
  },
  {
   "cell_type": "code",
   "execution_count": 10,
   "metadata": {
    "execution": {
     "iopub.execute_input": "2021-01-21T06:31:34.631784Z",
     "iopub.status.busy": "2021-01-21T06:31:34.631226Z",
     "iopub.status.idle": "2021-01-21T06:31:36.586729Z",
     "shell.execute_reply": "2021-01-21T06:31:36.587425Z"
    },
    "papermill": {
     "duration": 2.010954,
     "end_time": "2021-01-21T06:31:36.587598",
     "exception": false,
     "start_time": "2021-01-21T06:31:34.576644",
     "status": "completed"
    },
    "tags": []
   },
   "outputs": [
    {
     "name": "stdout",
     "output_type": "stream",
     "text": [
      "[Success] Bulk job creation successful. Job ID = 7505w00000TmJFqAAN\n",
      "hello\n",
      "[Success] CSV upload successful. Job ID = 7505w00000TmJFqAAN\n",
      "[Success] Closing job successful. Job ID = 7505w00000TmJFqAAN\n"
     ]
    }
   ],
   "source": [
    "# send data to Salesforce\n",
    "db_s.send_data(df_sf)"
   ]
  },
  {
   "cell_type": "code",
   "execution_count": 11,
   "metadata": {
    "execution": {
     "iopub.execute_input": "2021-01-21T06:31:36.645992Z",
     "iopub.status.busy": "2021-01-21T06:31:36.645430Z",
     "iopub.status.idle": "2021-01-21T06:31:37.031413Z",
     "shell.execute_reply": "2021-01-21T06:31:37.030579Z"
    },
    "papermill": {
     "duration": 0.420652,
     "end_time": "2021-01-21T06:31:37.031619",
     "exception": false,
     "start_time": "2021-01-21T06:31:36.610967",
     "status": "completed"
    },
    "tags": []
   },
   "outputs": [
    {
     "name": "stdout",
     "output_type": "stream",
     "text": [
      "{'apexProcessingTime': 0,\n",
      " 'apiActiveProcessingTime': 0,\n",
      " 'apiVersion': 47.0,\n",
      " 'columnDelimiter': 'COMMA',\n",
      " 'concurrencyMode': 'Parallel',\n",
      " 'contentType': 'CSV',\n",
      " 'createdById': '0055w00000DM5bOAAT',\n",
      " 'createdDate': '2021-01-21T06:31:34.000+0000',\n",
      " 'externalIdFieldName': 'nanoHUB_source_ID__c',\n",
      " 'id': '7505w00000TmJFqAAN',\n",
      " 'jobType': 'V2Ingest',\n",
      " 'lineEnding': 'LF',\n",
      " 'numberRecordsFailed': 0,\n",
      " 'numberRecordsProcessed': 0,\n",
      " 'object': 'Lead',\n",
      " 'operation': 'upsert',\n",
      " 'retries': 0,\n",
      " 'state': 'UploadComplete',\n",
      " 'systemModstamp': '2021-01-21T06:31:36.000+0000',\n",
      " 'totalProcessingTime': 0}\n"
     ]
    }
   ],
   "source": [
    "# check status\n",
    "from pprint import pprint\n",
    "\n",
    "pprint(db_s.check_bulk_status())"
   ]
  },
  {
   "cell_type": "code",
   "execution_count": 12,
   "metadata": {
    "execution": {
     "iopub.execute_input": "2021-01-21T06:31:37.074301Z",
     "iopub.status.busy": "2021-01-21T06:31:37.073697Z",
     "iopub.status.idle": "2021-01-21T06:31:37.236862Z",
     "shell.execute_reply": "2021-01-21T06:31:37.236389Z"
    },
    "papermill": {
     "duration": 0.180127,
     "end_time": "2021-01-21T06:31:37.236995",
     "exception": false,
     "start_time": "2021-01-21T06:31:37.056868",
     "status": "completed"
    },
    "tags": []
   },
   "outputs": [
    {
     "name": "stdout",
     "output_type": "stream",
     "text": [
      "''\n"
     ]
    }
   ],
   "source": [
    "pprint(db_s.check_bulk_failed_results())"
   ]
  },
  {
   "cell_type": "code",
   "execution_count": null,
   "metadata": {
    "papermill": {
     "duration": 0.023911,
     "end_time": "2021-01-21T06:31:37.288475",
     "exception": false,
     "start_time": "2021-01-21T06:31:37.264564",
     "status": "completed"
    },
    "tags": []
   },
   "outputs": [],
   "source": []
  },
  {
   "cell_type": "code",
   "execution_count": null,
   "metadata": {
    "papermill": {
     "duration": 0.0255,
     "end_time": "2021-01-21T06:31:37.338672",
     "exception": false,
     "start_time": "2021-01-21T06:31:37.313172",
     "status": "completed"
    },
    "tags": []
   },
   "outputs": [],
   "source": []
  }
 ],
 "metadata": {
  "celltoolbar": "Tags",
  "kernelspec": {
   "display_name": "Python 3",
   "language": "python",
   "name": "python3"
  },
  "language_info": {
   "codemirror_mode": {
    "name": "ipython",
    "version": 3
   },
   "file_extension": ".py",
   "mimetype": "text/x-python",
   "name": "python",
   "nbconvert_exporter": "python",
   "pygments_lexer": "ipython3",
   "version": "3.9.2"
  },
  "papermill": {
   "duration": 66.928459,
   "end_time": "2021-01-21T06:31:38.989483",
   "environment_variables": {},
   "exception": null,
   "input_path": "/home/users/wang2506/nanohub_salesforce_integ/salesforce/task_citations_map_leads.ipynb",
   "output_path": "/home/users/wang2506/nanohub_salesforce_integ/salesforce/task_citations_map_leads.ipynb",
   "parameters": {},
   "start_time": "2021-01-21T06:30:32.061024",
   "version": "2.1.1"
  }
 },
 "nbformat": 4,
 "nbformat_minor": 4
}
