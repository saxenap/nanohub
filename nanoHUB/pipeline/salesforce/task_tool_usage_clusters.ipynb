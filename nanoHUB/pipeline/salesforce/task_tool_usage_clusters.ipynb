{
 "cells": [
  {
   "cell_type": "markdown",
   "metadata": {
    "papermill": {
     "duration": 0.016499,
     "end_time": "2021-01-21T17:07:15.309371",
     "exception": false,
     "start_time": "2021-01-21T17:07:15.292872",
     "status": "completed"
    },
    "tags": [],
    "pycharm": {
     "name": "#%% md\n"
    }
   },
   "source": [
    "# DB2-Salesforce connector: Tool usage clusters information updates"
   ]
  },
  {
   "cell_type": "code",
   "execution_count": 1,
   "metadata": {
    "execution": {
     "iopub.execute_input": "2022-01-31T03:30:49.783565Z",
     "iopub.status.busy": "2022-01-31T03:30:49.780126Z",
     "iopub.status.idle": "2022-01-31T03:30:52.912471Z",
     "shell.execute_reply": "2022-01-31T03:30:52.908416Z",
     "shell.execute_reply.started": "2022-01-31T03:30:49.783444Z"
    },
    "papermill": {
     "duration": 0.023383,
     "end_time": "2021-01-21T17:07:15.346522",
     "exception": false,
     "start_time": "2021-01-21T17:07:15.323139",
     "status": "completed"
    },
    "tags": [
     "parameters"
    ],
    "pycharm": {
     "name": "#%%\n"
    }
   },
   "outputs": [
    {
     "name": "stdout",
     "output_type": "stream",
     "text": [
      "\u001B[1mnanoHUB - Serving Students, Researchers & Instructors\u001B[0m\n",
      "Obtained Salesforce access token ...... True\n"
     ]
    }
   ],
   "source": [
    "# API settings\n",
    "api_url = '/services/data/v43.0/sobjects'\n",
    "external_id = 'ID__c'\n",
    "object_id = 'tool_usage_cluster__c'\n",
    "\n",
    "from nanoHUB.application import Application\n",
    "\n",
    "application = Application.get_instance()\n",
    "wang159_myrmekes_db = application.new_db_engine('rfm_data')\n",
    "\n",
    "salesforce = application.new_salesforce_engine()\n",
    "db_s = salesforce"
   ]
  },
  {
   "cell_type": "code",
   "execution_count": 2,
   "metadata": {
    "execution": {
     "iopub.execute_input": "2022-01-31T03:30:52.916868Z",
     "iopub.status.busy": "2022-01-31T03:30:52.915180Z",
     "iopub.status.idle": "2022-01-31T03:30:52.930666Z",
     "shell.execute_reply": "2022-01-31T03:30:52.928129Z",
     "shell.execute_reply.started": "2022-01-31T03:30:52.916740Z"
    },
    "papermill": {
     "duration": 0.292641,
     "end_time": "2021-01-21T17:07:15.648683",
     "exception": false,
     "start_time": "2021-01-21T17:07:15.356042",
     "status": "completed"
    },
    "tags": [],
    "pycharm": {
     "name": "#%%\n"
    }
   },
   "outputs": [],
   "source": [
    "    \n",
    "import pandas as pd\n",
    "import datetime"
   ]
  },
  {
   "cell_type": "markdown",
   "metadata": {
    "papermill": {
     "duration": 0.009461,
     "end_time": "2021-01-21T17:07:15.668525",
     "exception": false,
     "start_time": "2021-01-21T17:07:15.659064",
     "status": "completed"
    },
    "tags": [],
    "pycharm": {
     "name": "#%% md\n"
    }
   },
   "source": [
    "## Obtain cluster information from DB2 "
   ]
  },
  {
   "cell_type": "code",
   "execution_count": 3,
   "metadata": {
    "execution": {
     "iopub.execute_input": "2022-01-31T03:30:52.942617Z",
     "iopub.status.busy": "2022-01-31T03:30:52.935557Z",
     "iopub.status.idle": "2022-01-31T03:30:54.127756Z",
     "shell.execute_reply": "2022-01-31T03:30:54.126414Z",
     "shell.execute_reply.started": "2022-01-31T03:30:52.942417Z"
    },
    "papermill": {
     "duration": 0.178248,
     "end_time": "2021-01-21T17:07:16.015071",
     "exception": false,
     "start_time": "2021-01-21T17:07:15.836823",
     "status": "completed"
    },
    "tags": [],
    "pycharm": {
     "name": "#%%\n"
    }
   },
   "outputs": [
    {
     "data": {
      "text/html": [
       "<div>\n",
       "<style scoped>\n",
       "    .dataframe tbody tr th:only-of-type {\n",
       "        vertical-align: middle;\n",
       "    }\n",
       "\n",
       "    .dataframe tbody tr th {\n",
       "        vertical-align: top;\n",
       "    }\n",
       "\n",
       "    .dataframe thead th {\n",
       "        text-align: right;\n",
       "    }\n",
       "</style>\n",
       "<table border=\"1\" class=\"dataframe\">\n",
       "  <thead>\n",
       "    <tr style=\"text-align: right;\">\n",
       "      <th></th>\n",
       "      <th>index</th>\n",
       "      <th>class_id</th>\n",
       "      <th>start</th>\n",
       "      <th>end</th>\n",
       "      <th>lon</th>\n",
       "      <th>lat</th>\n",
       "      <th>size</th>\n",
       "    </tr>\n",
       "  </thead>\n",
       "  <tbody>\n",
       "    <tr>\n",
       "      <th>0</th>\n",
       "      <td>0</td>\n",
       "      <td>0</td>\n",
       "      <td>2013-09-13</td>\n",
       "      <td>2013-09-20</td>\n",
       "      <td>-86.907866</td>\n",
       "      <td>40.430972</td>\n",
       "      <td>93</td>\n",
       "    </tr>\n",
       "    <tr>\n",
       "      <th>1</th>\n",
       "      <td>1</td>\n",
       "      <td>1</td>\n",
       "      <td>2013-09-15</td>\n",
       "      <td>2013-09-20</td>\n",
       "      <td>-87.924079</td>\n",
       "      <td>42.019433</td>\n",
       "      <td>10</td>\n",
       "    </tr>\n",
       "  </tbody>\n",
       "</table>\n",
       "</div>"
      ],
      "text/plain": [
       "   index  class_id      start        end        lon        lat  size\n",
       "0      0         0 2013-09-13 2013-09-20 -86.907866  40.430972    93\n",
       "1      1         1 2013-09-15 2013-09-20 -87.924079  42.019433    10"
      ]
     },
     "metadata": {},
     "output_type": "display_data"
    }
   ],
   "source": [
    "class_info_df = pd.read_sql_query('select * from cluster_class_info', wang159_myrmekes_db)\n",
    "#students_info_df = pd.read_sql_query('select * from cluster_students_info', engine)\n",
    "#classtool_info_df = pd.read_sql_query('select * from cluster_classtool_info', engine)\n",
    "\n",
    "# display\n",
    "display(class_info_df.head(2))\n",
    "#display(students_info_df.head(2))\n",
    "#display(classtool_info_df.head(2))"
   ]
  },
  {
   "cell_type": "code",
   "execution_count": 4,
   "metadata": {
    "execution": {
     "iopub.execute_input": "2022-01-31T03:30:54.148903Z",
     "iopub.status.busy": "2022-01-31T03:30:54.145104Z",
     "iopub.status.idle": "2022-01-31T03:30:54.189069Z",
     "shell.execute_reply": "2022-01-31T03:30:54.187748Z",
     "shell.execute_reply.started": "2022-01-31T03:30:54.148815Z"
    },
    "papermill": {
     "duration": 0.020408,
     "end_time": "2021-01-21T17:07:16.045454",
     "exception": false,
     "start_time": "2021-01-21T17:07:16.025046",
     "status": "completed"
    },
    "tags": [],
    "pycharm": {
     "name": "#%%\n"
    }
   },
   "outputs": [],
   "source": [
    "# convert and clean some columns, so we can, for example, sort values\n",
    "class_info_df['start'] = pd.to_datetime(class_info_df['start'], errors='coerce') \n",
    "class_info_df['end'] = pd.to_datetime(class_info_df['end'], errors='coerce')"
   ]
  },
  {
   "cell_type": "code",
   "execution_count": 5,
   "metadata": {
    "execution": {
     "iopub.execute_input": "2022-01-31T03:30:54.198332Z",
     "iopub.status.busy": "2022-01-31T03:30:54.197659Z",
     "iopub.status.idle": "2022-01-31T03:30:54.654069Z",
     "shell.execute_reply": "2022-01-31T03:30:54.653156Z",
     "shell.execute_reply.started": "2022-01-31T03:30:54.198288Z"
    },
    "papermill": {
     "duration": 0.359868,
     "end_time": "2021-01-21T17:07:16.415021",
     "exception": false,
     "start_time": "2021-01-21T17:07:16.055153",
     "status": "completed"
    },
    "tags": [],
    "pycharm": {
     "name": "#%%\n"
    }
   },
   "outputs": [],
   "source": [
    "# create geolocation Estimated_Location__c\n",
    "# {\"house\":{\"location__latitude__s\":34, \"location__longitude__s\":23}}\n",
    "\n",
    "class_info_df['Estimated_Location__c'] = class_info_df.apply(lambda x: {\"Estimated_Location__c\":\\\n",
    "                                                                 {\"location__latitude__s\":x.lat, \"location__longitude__s\":x.lon}}, axis=1)\n",
    "\n",
    "class_info_df['Map_Location__c'] = class_info_df\\\n",
    "      .apply(lambda x: 'https://www.google.com/maps/@?api=1&map_action=map&center=%f,%f&zoom=9'%(x.lat, x.lon), axis=1)"
   ]
  },
  {
   "cell_type": "code",
   "execution_count": 6,
   "metadata": {
    "execution": {
     "iopub.execute_input": "2022-01-31T03:30:54.660429Z",
     "iopub.status.busy": "2022-01-31T03:30:54.659597Z",
     "iopub.status.idle": "2022-01-31T03:30:54.694851Z",
     "shell.execute_reply": "2022-01-31T03:30:54.693999Z",
     "shell.execute_reply.started": "2022-01-31T03:30:54.660376Z"
    },
    "papermill": {
     "duration": 0.031409,
     "end_time": "2021-01-21T17:07:16.462097",
     "exception": false,
     "start_time": "2021-01-21T17:07:16.430688",
     "status": "completed"
    },
    "tags": [],
    "pycharm": {
     "name": "#%%\n"
    }
   },
   "outputs": [
    {
     "data": {
      "text/html": [
       "<div>\n",
       "<style scoped>\n",
       "    .dataframe tbody tr th:only-of-type {\n",
       "        vertical-align: middle;\n",
       "    }\n",
       "\n",
       "    .dataframe tbody tr th {\n",
       "        vertical-align: top;\n",
       "    }\n",
       "\n",
       "    .dataframe thead th {\n",
       "        text-align: right;\n",
       "    }\n",
       "</style>\n",
       "<table border=\"1\" class=\"dataframe\">\n",
       "  <thead>\n",
       "    <tr style=\"text-align: right;\">\n",
       "      <th></th>\n",
       "      <th>index</th>\n",
       "      <th>class_id</th>\n",
       "      <th>start</th>\n",
       "      <th>end</th>\n",
       "      <th>lon</th>\n",
       "      <th>lat</th>\n",
       "      <th>size</th>\n",
       "      <th>Estimated_Location__c</th>\n",
       "      <th>Map_Location__c</th>\n",
       "    </tr>\n",
       "  </thead>\n",
       "  <tbody>\n",
       "    <tr>\n",
       "      <th>0</th>\n",
       "      <td>0</td>\n",
       "      <td>0</td>\n",
       "      <td>2013-09-13</td>\n",
       "      <td>2013-09-20</td>\n",
       "      <td>-86.907866</td>\n",
       "      <td>40.430972</td>\n",
       "      <td>93</td>\n",
       "      <td>{'Estimated_Location__c': {'location__latitude...</td>\n",
       "      <td>https://www.google.com/maps/@?api=1&amp;map_action...</td>\n",
       "    </tr>\n",
       "    <tr>\n",
       "      <th>1</th>\n",
       "      <td>1</td>\n",
       "      <td>1</td>\n",
       "      <td>2013-09-15</td>\n",
       "      <td>2013-09-20</td>\n",
       "      <td>-87.924079</td>\n",
       "      <td>42.019433</td>\n",
       "      <td>10</td>\n",
       "      <td>{'Estimated_Location__c': {'location__latitude...</td>\n",
       "      <td>https://www.google.com/maps/@?api=1&amp;map_action...</td>\n",
       "    </tr>\n",
       "  </tbody>\n",
       "</table>\n",
       "</div>"
      ],
      "text/plain": [
       "   index  class_id      start        end        lon        lat  size  \\\n",
       "0      0         0 2013-09-13 2013-09-20 -86.907866  40.430972    93   \n",
       "1      1         1 2013-09-15 2013-09-20 -87.924079  42.019433    10   \n",
       "\n",
       "                               Estimated_Location__c  \\\n",
       "0  {'Estimated_Location__c': {'location__latitude...   \n",
       "1  {'Estimated_Location__c': {'location__latitude...   \n",
       "\n",
       "                                     Map_Location__c  \n",
       "0  https://www.google.com/maps/@?api=1&map_action...  \n",
       "1  https://www.google.com/maps/@?api=1&map_action...  "
      ]
     },
     "execution_count": 6,
     "metadata": {},
     "output_type": "execute_result"
    }
   ],
   "source": [
    "class_info_df.head(2)"
   ]
  },
  {
   "cell_type": "code",
   "execution_count": 12,
   "metadata": {
    "execution": {
     "iopub.execute_input": "2022-01-31T03:31:12.365844Z",
     "iopub.status.busy": "2022-01-31T03:31:12.365552Z",
     "iopub.status.idle": "2022-01-31T03:31:12.397876Z",
     "shell.execute_reply": "2022-01-31T03:31:12.395072Z",
     "shell.execute_reply.started": "2022-01-31T03:31:12.365803Z"
    },
    "pycharm": {
     "name": "#%%\n"
    }
   },
   "outputs": [
    {
     "data": {
      "text/html": [
       "<div>\n",
       "<style scoped>\n",
       "    .dataframe tbody tr th:only-of-type {\n",
       "        vertical-align: middle;\n",
       "    }\n",
       "\n",
       "    .dataframe tbody tr th {\n",
       "        vertical-align: top;\n",
       "    }\n",
       "\n",
       "    .dataframe thead th {\n",
       "        text-align: right;\n",
       "    }\n",
       "</style>\n",
       "<table border=\"1\" class=\"dataframe\">\n",
       "  <thead>\n",
       "    <tr style=\"text-align: right;\">\n",
       "      <th></th>\n",
       "      <th>index</th>\n",
       "      <th>class_id</th>\n",
       "      <th>start</th>\n",
       "      <th>end</th>\n",
       "      <th>lon</th>\n",
       "      <th>lat</th>\n",
       "      <th>size</th>\n",
       "      <th>Estimated_Location__c</th>\n",
       "      <th>Map_Location__c</th>\n",
       "    </tr>\n",
       "  </thead>\n",
       "  <tbody>\n",
       "    <tr>\n",
       "      <th>4571</th>\n",
       "      <td>281</td>\n",
       "      <td>4571</td>\n",
       "      <td>2021-10-13</td>\n",
       "      <td>2021-10-17</td>\n",
       "      <td>-86.914703</td>\n",
       "      <td>40.425098</td>\n",
       "      <td>7</td>\n",
       "      <td>{'Estimated_Location__c': {'location__latitude...</td>\n",
       "      <td>https://www.google.com/maps/@?api=1&amp;map_action...</td>\n",
       "    </tr>\n",
       "    <tr>\n",
       "      <th>4572</th>\n",
       "      <td>282</td>\n",
       "      <td>4572</td>\n",
       "      <td>2021-11-12</td>\n",
       "      <td>2021-11-12</td>\n",
       "      <td>-86.923782</td>\n",
       "      <td>40.441184</td>\n",
       "      <td>6</td>\n",
       "      <td>{'Estimated_Location__c': {'location__latitude...</td>\n",
       "      <td>https://www.google.com/maps/@?api=1&amp;map_action...</td>\n",
       "    </tr>\n",
       "    <tr>\n",
       "      <th>4573</th>\n",
       "      <td>283</td>\n",
       "      <td>4573</td>\n",
       "      <td>2021-12-04</td>\n",
       "      <td>2021-12-15</td>\n",
       "      <td>-63.595896</td>\n",
       "      <td>44.646776</td>\n",
       "      <td>16</td>\n",
       "      <td>{'Estimated_Location__c': {'location__latitude...</td>\n",
       "      <td>https://www.google.com/maps/@?api=1&amp;map_action...</td>\n",
       "    </tr>\n",
       "    <tr>\n",
       "      <th>4574</th>\n",
       "      <td>284</td>\n",
       "      <td>4574</td>\n",
       "      <td>2021-09-21</td>\n",
       "      <td>2021-09-25</td>\n",
       "      <td>-76.510767</td>\n",
       "      <td>42.453044</td>\n",
       "      <td>10</td>\n",
       "      <td>{'Estimated_Location__c': {'location__latitude...</td>\n",
       "      <td>https://www.google.com/maps/@?api=1&amp;map_action...</td>\n",
       "    </tr>\n",
       "    <tr>\n",
       "      <th>4575</th>\n",
       "      <td>285</td>\n",
       "      <td>4575</td>\n",
       "      <td>2021-09-01</td>\n",
       "      <td>2021-09-05</td>\n",
       "      <td>121.002754</td>\n",
       "      <td>14.534543</td>\n",
       "      <td>17</td>\n",
       "      <td>{'Estimated_Location__c': {'location__latitude...</td>\n",
       "      <td>https://www.google.com/maps/@?api=1&amp;map_action...</td>\n",
       "    </tr>\n",
       "  </tbody>\n",
       "</table>\n",
       "</div>"
      ],
      "text/plain": [
       "      index  class_id      start        end         lon        lat  size  \\\n",
       "4571    281      4571 2021-10-13 2021-10-17  -86.914703  40.425098     7   \n",
       "4572    282      4572 2021-11-12 2021-11-12  -86.923782  40.441184     6   \n",
       "4573    283      4573 2021-12-04 2021-12-15  -63.595896  44.646776    16   \n",
       "4574    284      4574 2021-09-21 2021-09-25  -76.510767  42.453044    10   \n",
       "4575    285      4575 2021-09-01 2021-09-05  121.002754  14.534543    17   \n",
       "\n",
       "                                  Estimated_Location__c  \\\n",
       "4571  {'Estimated_Location__c': {'location__latitude...   \n",
       "4572  {'Estimated_Location__c': {'location__latitude...   \n",
       "4573  {'Estimated_Location__c': {'location__latitude...   \n",
       "4574  {'Estimated_Location__c': {'location__latitude...   \n",
       "4575  {'Estimated_Location__c': {'location__latitude...   \n",
       "\n",
       "                                        Map_Location__c  \n",
       "4571  https://www.google.com/maps/@?api=1&map_action...  \n",
       "4572  https://www.google.com/maps/@?api=1&map_action...  \n",
       "4573  https://www.google.com/maps/@?api=1&map_action...  \n",
       "4574  https://www.google.com/maps/@?api=1&map_action...  \n",
       "4575  https://www.google.com/maps/@?api=1&map_action...  "
      ]
     },
     "execution_count": 12,
     "metadata": {},
     "output_type": "execute_result"
    }
   ],
   "source": [
    "class_info_df.tail()"
   ]
  },
  {
   "cell_type": "markdown",
   "metadata": {
    "papermill": {
     "duration": 0.014431,
     "end_time": "2021-01-21T17:07:16.490870",
     "exception": false,
     "start_time": "2021-01-21T17:07:16.476439",
     "status": "completed"
    },
    "tags": [],
    "pycharm": {
     "name": "#%% md\n"
    }
   },
   "source": [
    "## Match data with Salesforce format"
   ]
  },
  {
   "cell_type": "code",
   "execution_count": 7,
   "metadata": {
    "execution": {
     "iopub.execute_input": "2022-01-31T03:30:54.702129Z",
     "iopub.status.busy": "2022-01-31T03:30:54.701506Z",
     "iopub.status.idle": "2022-01-31T03:30:54.746052Z",
     "shell.execute_reply": "2022-01-31T03:30:54.742763Z",
     "shell.execute_reply.started": "2022-01-31T03:30:54.702089Z"
    },
    "papermill": {
     "duration": 0.030535,
     "end_time": "2021-01-21T17:07:16.531493",
     "exception": false,
     "start_time": "2021-01-21T17:07:16.500958",
     "status": "completed"
    },
    "tags": [],
    "pycharm": {
     "name": "#%%\n"
    }
   },
   "outputs": [
    {
     "data": {
      "text/html": [
       "<div>\n",
       "<style scoped>\n",
       "    .dataframe tbody tr th:only-of-type {\n",
       "        vertical-align: middle;\n",
       "    }\n",
       "\n",
       "    .dataframe tbody tr th {\n",
       "        vertical-align: top;\n",
       "    }\n",
       "\n",
       "    .dataframe thead th {\n",
       "        text-align: right;\n",
       "    }\n",
       "</style>\n",
       "<table border=\"1\" class=\"dataframe\">\n",
       "  <thead>\n",
       "    <tr style=\"text-align: right;\">\n",
       "      <th></th>\n",
       "      <th>0</th>\n",
       "      <th>1</th>\n",
       "    </tr>\n",
       "  </thead>\n",
       "  <tbody>\n",
       "    <tr>\n",
       "      <th>ID__c</th>\n",
       "      <td>0</td>\n",
       "      <td>1</td>\n",
       "    </tr>\n",
       "    <tr>\n",
       "      <th>Starting_Date__c</th>\n",
       "      <td>2013-09-13 00:00:00</td>\n",
       "      <td>2013-09-15 00:00:00</td>\n",
       "    </tr>\n",
       "    <tr>\n",
       "      <th>Ending_Date__c</th>\n",
       "      <td>2013-09-20 00:00:00</td>\n",
       "      <td>2013-09-20 00:00:00</td>\n",
       "    </tr>\n",
       "    <tr>\n",
       "      <th>Map_Location__c</th>\n",
       "      <td>https://www.google.com/maps/@?api=1&amp;map_action...</td>\n",
       "      <td>https://www.google.com/maps/@?api=1&amp;map_action...</td>\n",
       "    </tr>\n",
       "    <tr>\n",
       "      <th>Estimated_Location__latitude__s</th>\n",
       "      <td>40.430972</td>\n",
       "      <td>42.019433</td>\n",
       "    </tr>\n",
       "    <tr>\n",
       "      <th>Estimated_Location__longitude__s</th>\n",
       "      <td>-86.907866</td>\n",
       "      <td>-87.924079</td>\n",
       "    </tr>\n",
       "  </tbody>\n",
       "</table>\n",
       "</div>"
      ],
      "text/plain": [
       "                                                                                  0  \\\n",
       "ID__c                                                                             0   \n",
       "Starting_Date__c                                                2013-09-13 00:00:00   \n",
       "Ending_Date__c                                                  2013-09-20 00:00:00   \n",
       "Map_Location__c                   https://www.google.com/maps/@?api=1&map_action...   \n",
       "Estimated_Location__latitude__s                                           40.430972   \n",
       "Estimated_Location__longitude__s                                         -86.907866   \n",
       "\n",
       "                                                                                  1  \n",
       "ID__c                                                                             1  \n",
       "Starting_Date__c                                                2013-09-15 00:00:00  \n",
       "Ending_Date__c                                                  2013-09-20 00:00:00  \n",
       "Map_Location__c                   https://www.google.com/maps/@?api=1&map_action...  \n",
       "Estimated_Location__latitude__s                                           42.019433  \n",
       "Estimated_Location__longitude__s                                         -87.924079  "
      ]
     },
     "execution_count": 7,
     "metadata": {},
     "output_type": "execute_result"
    }
   ],
   "source": [
    "df_sf = pd.DataFrame()\n",
    "\n",
    "# Make sure NaN and NaT values are taken care of here\n",
    "\n",
    "df_sf['ID__c']                             = class_info_df['class_id']\n",
    "df_sf['Starting_Date__c']          = class_info_df['start']\n",
    "df_sf['Ending_Date__c']            = class_info_df['end']\n",
    "df_sf['Map_Location__c'] = class_info_df['Map_Location__c']\n",
    "df_sf['Estimated_Location__latitude__s'] = class_info_df['lat']\n",
    "df_sf['Estimated_Location__longitude__s'] = class_info_df['lon']\n",
    "\n",
    "sf_original_fields = df_sf.columns\n",
    "\n",
    "# display\n",
    "df_sf.head(2).T"
   ]
  },
  {
   "cell_type": "markdown",
   "metadata": {
    "papermill": {
     "duration": 0.01074,
     "end_time": "2021-01-21T17:07:16.552963",
     "exception": false,
     "start_time": "2021-01-21T17:07:16.542223",
     "status": "completed"
    },
    "tags": [],
    "pycharm": {
     "name": "#%% md\n"
    }
   },
   "source": [
    "## To Salesforce Sales Cloud CRM"
   ]
  },
  {
   "cell_type": "code",
   "execution_count": 8,
   "metadata": {
    "execution": {
     "iopub.execute_input": "2022-01-31T03:30:54.748966Z",
     "iopub.status.busy": "2022-01-31T03:30:54.748408Z",
     "iopub.status.idle": "2022-01-31T03:30:54.760628Z",
     "shell.execute_reply": "2022-01-31T03:30:54.754964Z",
     "shell.execute_reply.started": "2022-01-31T03:30:54.748932Z"
    },
    "papermill": {
     "duration": 0.468465,
     "end_time": "2021-01-21T17:07:17.031846",
     "exception": false,
     "start_time": "2021-01-21T17:07:16.563381",
     "status": "completed"
    },
    "tags": [],
    "pycharm": {
     "name": "#%%\n"
    }
   },
   "outputs": [],
   "source": [
    "\n",
    "# specify Salesforce object ID and external ID\n",
    "db_s.object_id = object_id\n",
    "db_s.external_id = external_id"
   ]
  },
  {
   "cell_type": "code",
   "execution_count": 9,
   "metadata": {
    "execution": {
     "iopub.execute_input": "2022-01-31T03:30:54.773422Z",
     "iopub.status.busy": "2022-01-31T03:30:54.770547Z",
     "iopub.status.idle": "2022-01-31T03:30:56.160059Z",
     "shell.execute_reply": "2022-01-31T03:30:56.157307Z",
     "shell.execute_reply.started": "2022-01-31T03:30:54.772867Z"
    },
    "papermill": {
     "duration": 1.042793,
     "end_time": "2021-01-21T17:07:18.085677",
     "exception": false,
     "start_time": "2021-01-21T17:07:17.042884",
     "status": "completed"
    },
    "tags": [],
    "pycharm": {
     "name": "#%%\n"
    }
   },
   "outputs": [
    {
     "name": "stdout",
     "output_type": "stream",
     "text": [
      "[Success] Bulk job creation successful. Job ID = 7505w00000cyX1xAAE\n",
      "hello\n",
      "[Success] CSV upload successful. Job ID = 7505w00000cyX1xAAE\n",
      "[Success] Closing job successful. Job ID = 7505w00000cyX1xAAE\n"
     ]
    }
   ],
   "source": [
    "# send data to Salesforce\n",
    "db_s.send_data(df_sf)"
   ]
  },
  {
   "cell_type": "code",
   "execution_count": 10,
   "metadata": {
    "execution": {
     "iopub.execute_input": "2022-01-31T03:30:56.164016Z",
     "iopub.status.busy": "2022-01-31T03:30:56.163579Z",
     "iopub.status.idle": "2022-01-31T03:30:56.517167Z",
     "shell.execute_reply": "2022-01-31T03:30:56.514936Z",
     "shell.execute_reply.started": "2022-01-31T03:30:56.163979Z"
    },
    "papermill": {
     "duration": 0.479947,
     "end_time": "2021-01-21T17:07:18.577121",
     "exception": false,
     "start_time": "2021-01-21T17:07:18.097174",
     "status": "completed"
    },
    "tags": [],
    "pycharm": {
     "name": "#%%\n"
    }
   },
   "outputs": [
    {
     "data": {
      "text/plain": [
       "{'id': '7505w00000cyX1xAAE',\n",
       " 'operation': 'upsert',\n",
       " 'object': 'tool_usage_cluster__c',\n",
       " 'createdById': '0055w00000DM5bOAAT',\n",
       " 'createdDate': '2022-01-31T03:30:55.000+0000',\n",
       " 'systemModstamp': '2022-01-31T03:30:56.000+0000',\n",
       " 'state': 'InProgress',\n",
       " 'externalIdFieldName': 'ID__c',\n",
       " 'concurrencyMode': 'Parallel',\n",
       " 'contentType': 'CSV',\n",
       " 'apiVersion': 47.0,\n",
       " 'jobType': 'V2Ingest',\n",
       " 'lineEnding': 'LF',\n",
       " 'columnDelimiter': 'COMMA',\n",
       " 'numberRecordsProcessed': 0,\n",
       " 'numberRecordsFailed': 0,\n",
       " 'retries': 0,\n",
       " 'totalProcessingTime': 0,\n",
       " 'apiActiveProcessingTime': 0,\n",
       " 'apexProcessingTime': 0}"
      ]
     },
     "execution_count": 10,
     "metadata": {},
     "output_type": "execute_result"
    }
   ],
   "source": [
    "# check status\n",
    "db_s.check_bulk_status()"
   ]
  },
  {
   "cell_type": "code",
   "execution_count": 11,
   "metadata": {
    "execution": {
     "iopub.execute_input": "2022-01-31T03:30:56.530749Z",
     "iopub.status.busy": "2022-01-31T03:30:56.526262Z",
     "iopub.status.idle": "2022-01-31T03:30:56.757084Z",
     "shell.execute_reply": "2022-01-31T03:30:56.755674Z",
     "shell.execute_reply.started": "2022-01-31T03:30:56.530677Z"
    },
    "papermill": {
     "duration": 0.187547,
     "end_time": "2021-01-21T17:07:18.776637",
     "exception": false,
     "start_time": "2021-01-21T17:07:18.589090",
     "status": "completed"
    },
    "tags": [],
    "pycharm": {
     "name": "#%%\n"
    }
   },
   "outputs": [
    {
     "name": "stdout",
     "output_type": "stream",
     "text": [
      "''\n"
     ]
    }
   ],
   "source": [
    "from pprint import pprint\n",
    "pprint(db_s.check_bulk_failed_results())"
   ]
  },
  {
   "cell_type": "code",
   "execution_count": null,
   "metadata": {
    "papermill": {
     "duration": 0.012194,
     "end_time": "2021-01-21T17:07:18.801642",
     "exception": false,
     "start_time": "2021-01-21T17:07:18.789448",
     "status": "completed"
    },
    "tags": [],
    "pycharm": {
     "name": "#%%\n"
    }
   },
   "outputs": [],
   "source": []
  },
  {
   "cell_type": "code",
   "execution_count": null,
   "metadata": {
    "papermill": {
     "duration": 0.011833,
     "end_time": "2021-01-21T17:07:18.827899",
     "exception": false,
     "start_time": "2021-01-21T17:07:18.816066",
     "status": "completed"
    },
    "tags": [],
    "pycharm": {
     "name": "#%%\n"
    }
   },
   "outputs": [],
   "source": []
  }
 ],
 "metadata": {
  "celltoolbar": "Tags",
  "kernelspec": {
   "display_name": "Python 3 (ipykernel)",
   "language": "python",
   "name": "python3"
  },
  "language_info": {
   "codemirror_mode": {
    "name": "ipython",
    "version": 3
   },
   "file_extension": ".py",
   "mimetype": "text/x-python",
   "name": "python",
   "nbconvert_exporter": "python",
   "pygments_lexer": "ipython3",
   "version": "3.8.10"
  },
  "papermill": {
   "duration": 4.69178,
   "end_time": "2021-01-21T17:07:19.148719",
   "environment_variables": {},
   "exception": null,
   "input_path": "/home/users/wang2506/nanohub_salesforce_integ/salesforce/task_tool_usage_clusters.ipynb",
   "output_path": "/home/users/wang2506/nanohub_salesforce_integ/salesforce/task_tool_usage_clusters.ipynb",
   "parameters": {},
   "start_time": "2021-01-21T17:07:14.456939",
   "version": "2.1.1"
  }
 },
 "nbformat": 4,
 "nbformat_minor": 4
}