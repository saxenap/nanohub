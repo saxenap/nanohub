{
 "cells": [
  {
   "cell_type": "markdown",
   "metadata": {},
   "source": [
    "# Pulling information from organizations in SF, processing and reuploading"
   ]
  },
  {
   "cell_type": "code",
   "execution_count": 508,
   "metadata": {},
   "outputs": [],
   "source": [
    "# API settings\n",
    "api_url = '/services/data/v43.0/sobjects'\n",
    "external_id = 'Name'\n",
    "object_id = 'ContactToolAssociation__c'\n",
    "\n",
    "# login parameters to be handled by Papermill\n",
    "sql_login_params = {\"username\": \"wang2506_ro\", \"password\": \"fnVnwcCS7iT45EsA\"}\n",
    "sf_login_params = {\n",
    "    \"grant_type\": \"password\",\n",
    "    \"client_id\": \"3MVG95jctIhbyCppj0SNJ75IsZ1y8UPGZtSNF4j8FNVXz.De8Lu4jHm3rjRosAtsHy6qjHx3i4S_QbQzvBePG\",\n",
    "    \"client_secret\": \"D1623C6D3607D4FC8004B92C761DFB6C1F70CCD129C5501E357028DFA00F5764\",\n",
    "    \"username\":\"wang2506@purdue.edu\",\n",
    "    \"password\":\"sf2021shitOPmlIiFMLnrudgC6oSX0WV1T\",   \n",
    "} \n",
    "    #\"username\": \"wang159-4j1v@force.com\",\n",
    "    #\"password\": \"napoleon0eZ3PQpQqE3C3z4wWqEqKGhQ8\","
   ]
  },
  {
   "cell_type": "code",
   "execution_count": 509,
   "metadata": {},
   "outputs": [],
   "source": [
    "import sys\n",
    "sys.path.append('/home/users/wang2506/nanohub_salesforce_integ/salesforce')\n",
    "    \n",
    "import pandas as pd\n",
    "import time\n",
    "import datetime\n",
    "\n",
    "from DB2SalesforceAPI import DB2SalesforceAPI"
   ]
  },
  {
   "cell_type": "markdown",
   "metadata": {},
   "source": [
    "## build object to pull current cluster information from SF"
   ]
  },
  {
   "cell_type": "code",
   "execution_count": 510,
   "metadata": {},
   "outputs": [
    {
     "name": "stdout",
     "output_type": "stream",
     "text": [
      "Obtained Salesforce access token ...... True\n"
     ]
    }
   ],
   "source": [
    "# create DB2 to Salesforce API object\n",
    "db_sf = DB2SalesforceAPI(sf_login_params)"
   ]
  },
  {
   "cell_type": "code",
   "execution_count": 511,
   "metadata": {},
   "outputs": [
    {
     "name": "stdout",
     "output_type": "stream",
     "text": [
      "[Success] Bulk job creation successful. Job ID = 7505w00000THPHhAAP\n",
      "{\"id\":\"7505w00000THPHhAAP\",\"operation\":\"query\",\"object\":\"tool_usage_cluster__c\",\"createdById\":\"0055w00000DM5bOAAT\",\"createdDate\":\"2021-01-13T04:53:14.000+0000\",\"systemModstamp\":\"2021-01-13T04:53:15.000+0000\",\"state\":\"InProgress\",\"concurrencyMode\":\"Parallel\",\"contentType\":\"CSV\",\"apiVersion\":47.0,\"jobType\":\"V2Query\",\"lineEnding\":\"LF\",\"columnDelimiter\":\"COMMA\",\"numberRecordsProcessed\":0,\"retries\":0,\"totalProcessingTime\":0}\n",
      "{\"id\":\"7505w00000THPHhAAP\",\"operation\":\"query\",\"object\":\"tool_usage_cluster__c\",\"createdById\":\"0055w00000DM5bOAAT\",\"createdDate\":\"2021-01-13T04:53:14.000+0000\",\"systemModstamp\":\"2021-01-13T04:53:17.000+0000\",\"state\":\"JobComplete\",\"concurrencyMode\":\"Parallel\",\"contentType\":\"CSV\",\"apiVersion\":47.0,\"jobType\":\"V2Query\",\"lineEnding\":\"LF\",\"columnDelimiter\":\"COMMA\",\"numberRecordsProcessed\":3240,\"retries\":0,\"totalProcessingTime\":746}\n",
      "[Success] Bulk job completed successfully.\n"
     ]
    },
    {
     "data": {
      "text/html": [
       "<div>\n",
       "<style scoped>\n",
       "    .dataframe tbody tr th:only-of-type {\n",
       "        vertical-align: middle;\n",
       "    }\n",
       "\n",
       "    .dataframe tbody tr th {\n",
       "        vertical-align: top;\n",
       "    }\n",
       "\n",
       "    .dataframe thead th {\n",
       "        text-align: right;\n",
       "    }\n",
       "</style>\n",
       "<table border=\"1\" class=\"dataframe\">\n",
       "  <thead>\n",
       "    <tr style=\"text-align: right;\">\n",
       "      <th></th>\n",
       "      <th>Ending_Date__c</th>\n",
       "      <th>Estimated_cluster_size__c</th>\n",
       "      <th>Organization__c</th>\n",
       "      <th>Semester__c</th>\n",
       "      <th>Starting_Date__c</th>\n",
       "    </tr>\n",
       "  </thead>\n",
       "  <tbody>\n",
       "    <tr>\n",
       "      <th>0</th>\n",
       "      <td>2013-09-20</td>\n",
       "      <td>125.0</td>\n",
       "      <td>a0r5w00000V42cCAAR</td>\n",
       "      <td>Fall</td>\n",
       "      <td>2013-09-13</td>\n",
       "    </tr>\n",
       "    <tr>\n",
       "      <th>1</th>\n",
       "      <td>2011-01-30</td>\n",
       "      <td>12.0</td>\n",
       "      <td>NaN</td>\n",
       "      <td>Fall</td>\n",
       "      <td>2010-09-05</td>\n",
       "    </tr>\n",
       "    <tr>\n",
       "      <th>2</th>\n",
       "      <td>2018-11-30</td>\n",
       "      <td>5.0</td>\n",
       "      <td>a0r5w00000V42iyAAB</td>\n",
       "      <td>Fall</td>\n",
       "      <td>2018-11-29</td>\n",
       "    </tr>\n",
       "  </tbody>\n",
       "</table>\n",
       "</div>"
      ],
      "text/plain": [
       "  Ending_Date__c  Estimated_cluster_size__c     Organization__c Semester__c  \\\n",
       "0     2013-09-20                      125.0  a0r5w00000V42cCAAR        Fall   \n",
       "1     2011-01-30                       12.0                 NaN        Fall   \n",
       "2     2018-11-30                        5.0  a0r5w00000V42iyAAB        Fall   \n",
       "\n",
       "  Starting_Date__c  \n",
       "0       2013-09-13  \n",
       "1       2010-09-05  \n",
       "2       2018-11-29  "
      ]
     },
     "execution_count": 511,
     "metadata": {},
     "output_type": "execute_result"
    }
   ],
   "source": [
    "# query the Salesforce IDs for contacts and citations. when updating junction objects, these IDs must be used\n",
    "\n",
    "# get Salesforce ID for contacts\n",
    "sf_df = db_sf.query_data('SELECT Estimated_cluster_size__c, Organization__c,\\\n",
    "Semester__c, Starting_Date__c, Ending_Date__c FROM tool_usage_cluster__c')\n",
    "\n",
    "# display\n",
    "sf_df.head(3)"
   ]
  },
  {
   "cell_type": "code",
   "execution_count": 512,
   "metadata": {},
   "outputs": [
    {
     "data": {
      "text/html": [
       "<div>\n",
       "<style scoped>\n",
       "    .dataframe tbody tr th:only-of-type {\n",
       "        vertical-align: middle;\n",
       "    }\n",
       "\n",
       "    .dataframe tbody tr th {\n",
       "        vertical-align: top;\n",
       "    }\n",
       "\n",
       "    .dataframe thead th {\n",
       "        text-align: right;\n",
       "    }\n",
       "</style>\n",
       "<table border=\"1\" class=\"dataframe\">\n",
       "  <thead>\n",
       "    <tr style=\"text-align: right;\">\n",
       "      <th></th>\n",
       "      <th>Ending_Date__c</th>\n",
       "      <th>Estimated_cluster_size__c</th>\n",
       "      <th>Organization__c</th>\n",
       "      <th>Semester__c</th>\n",
       "      <th>Starting_Date__c</th>\n",
       "    </tr>\n",
       "  </thead>\n",
       "  <tbody>\n",
       "    <tr>\n",
       "      <th>3238</th>\n",
       "      <td>2020-12-02</td>\n",
       "      <td>7.0</td>\n",
       "      <td>a0r5w00000V43N4AAJ</td>\n",
       "      <td>Fall</td>\n",
       "      <td>2020-11-30</td>\n",
       "    </tr>\n",
       "    <tr>\n",
       "      <th>3239</th>\n",
       "      <td>2020-12-09</td>\n",
       "      <td>8.0</td>\n",
       "      <td>a0r5w00000V42krAAB</td>\n",
       "      <td>Fall</td>\n",
       "      <td>2020-12-06</td>\n",
       "    </tr>\n",
       "  </tbody>\n",
       "</table>\n",
       "</div>"
      ],
      "text/plain": [
       "     Ending_Date__c  Estimated_cluster_size__c     Organization__c  \\\n",
       "3238     2020-12-02                        7.0  a0r5w00000V43N4AAJ   \n",
       "3239     2020-12-09                        8.0  a0r5w00000V42krAAB   \n",
       "\n",
       "     Semester__c Starting_Date__c  \n",
       "3238        Fall       2020-11-30  \n",
       "3239        Fall       2020-12-06  "
      ]
     },
     "metadata": {},
     "output_type": "display_data"
    },
    {
     "data": {
      "text/plain": [
       "(2668, 5)"
      ]
     },
     "metadata": {},
     "output_type": "display_data"
    }
   ],
   "source": [
    "sf_df = sf_df.dropna(subset =['Organization__c'])\n",
    "display(sf_df.tail(2))\n",
    "display(sf_df.shape)"
   ]
  },
  {
   "cell_type": "code",
   "execution_count": 513,
   "metadata": {},
   "outputs": [
    {
     "name": "stdout",
     "output_type": "stream",
     "text": [
      "{'a0r5w00000V42cCAAR': [0, 3, 4, 5, 6, 7, 8, 11, 12, 14, 15, 16, 17, 19, 21, 23, 26, 29, 30, 32, 33, 34, 39, 40, 41, 44, 47, 75, 82, 83, 84, 86, 87, 89, 92, 103, 106, 128, 130, 133, 184, 185, 194, 196, 220, 247, 254, 265, 275, 334, 342, 343, 344, 345, 346, 348, 349, 350, 351, 352, 353, 355, 356, 357, 364, 374, 394, 395, 396, 439, 458, 459, 466, 481, 482, 484, 488, 491, 495, 498, 505, 556, 559, 560, 574, 575, 576, 578, 579, 589, 592, 599, 616, 627, 636, 652, 653, 655, 656, 657, 658, 660, 662, 663, 664, 667, 669, 725, 728, 789, 790, 791, 803, 811, 812, 813, 814, 815, 816, 824, 825, 826, 827, 829, 831, 835, 836, 837, 838, 839, 840, 841, 842, 843, 844, 845, 846, 847, 848, 849, 850, 851, 852, 853, 854, 855, 856, 857, 858, 859, 860, 861, 862, 863, 864, 865, 866, 867, 868, 869, 870, 871, 872, 873, 874, 886, 887, 888, 889, 890, 891, 892, 894, 895, 896, 897, 898, 899, 900, 902, 904, 913, 914, 924, 946, 950, 951, 953, 963, 975, 979, 980, 981, 983, 985, 989, 990, 1003, 1007, 1008, 1009, 1042, 1106, 1107, 1108, 1109, 1117, 1120, 1121, 1128, 1134, 1149, 1159, 1175, 1176, 1177, 1182, 1183, 1184, 1185, 1186, 1187, 1188, 1189, 1190, 1191, 1192, 1193, 1194, 1195, 1196, 1197, 1198, 1199, 1200, 1201, 1202, 1209, 1210, 1216, 1218, 1220, 1227, 1237, 1239, 1240, 1261, 1264, 1283, 1286, 1349, 1350, 1364, 1366, 1368, 1370, 1371, 1372, 1373, 1375, 1376, 1379, 1380, 1381, 1382, 1408, 1410, 1446, 1447, 1449, 1457, 1511, 1513, 1515, 1519, 1520, 1521, 1522, 1523, 1529, 1531, 1550, 1553, 1573, 1574, 1579, 1595, 1605, 1615, 1619, 1622, 1625, 1635, 1638, 1643, 1646, 1656, 1657, 1658, 1666, 1673, 1674, 1690, 1718, 1720, 1721, 1722, 1723, 1724, 1745, 1783, 1818, 1819, 1824, 1825, 1826, 1827, 1828, 1833, 1835, 1838, 1840, 1845, 1846, 1863, 1964, 1971, 1973, 1976, 1977, 1978, 1997, 1998, 1999, 2000, 2001, 2002, 2003, 2009, 2023, 2033, 2038, 2073, 2091, 2101, 2112, 2160, 2166, 2217, 2221, 2228, 2231, 2232, 2233, 2247, 2270, 2282, 2294, 2299, 2350, 2351, 2363, 2364, 2365, 2378, 2379, 2380, 2381, 2382, 2383, 2384, 2385, 2386, 2387, 2388, 2389, 2391, 2392, 2393, 2394, 2395, 2396, 2397, 2398, 2400, 2401, 2402, 2403, 2404, 2405, 2407, 2408, 2409, 2410, 2411, 2412, 2413, 2414, 2415, 2416, 2417, 2418, 2419, 2420, 2421, 2422, 2426, 2456, 2458, 2461, 2465, 2487, 2489, 2490, 2496, 2502, 2506, 2507, 2511, 2512, 2524, 2526, 2530, 2553, 2554, 2559, 2582, 2594, 2602, 2619, 2621, 2622, 2623, 2640, 2649, 2650, 2651, 2652, 2659], 'a0r5w00000V42iyAAB': [1, 2, 239, 296, 297, 303, 313, 314, 317, 319, 631, 1152, 1687, 1777, 2152, 2215, 2580], 'a0r5w00000V42liAAB': [9, 188, 189, 223, 224, 256, 258, 261, 269, 274, 281, 282, 290, 299, 330, 336, 337, 339, 340, 341, 401, 402, 403, 404, 405, 406, 409, 410, 411, 413, 414, 415, 416, 419, 420, 421, 423, 424, 425, 426, 427, 428, 430, 432, 433, 547, 586, 593, 604, 764, 817, 818, 819, 821, 822, 823, 833, 964, 965, 1013, 1019, 1020, 1023, 1027, 1028, 1029, 1033, 1036, 1038, 1039, 1040, 1041, 1043, 1045, 1047, 1049, 1050, 1053, 1085, 1093, 1123, 1127, 1161, 1162, 1163, 1164, 1165, 1166, 1167, 1168, 1169, 1170, 1171, 1252, 1253, 1278, 1347, 1363, 1407, 1409, 1411, 1419, 1420, 1423, 1427, 1431, 1439, 1534, 1584, 1587, 1596, 1597, 1601, 1653, 1695, 1697, 1699, 1815, 1829, 1839, 1871, 1908, 2043, 2070, 2110, 2118, 2120, 2121, 2131, 2158, 2172, 2374, 2377, 2472, 2483, 2525, 2603, 2604, 2653], 'a0r5w00000V42c0AAB': [10, 266, 279, 287, 1614, 1618, 2480], 'a0r5w00000V42ikAAB': [13, 68, 412, 463, 671, 672, 673, 674, 677, 678, 679, 680, 681, 682, 683, 684, 685, 686, 688, 689, 690, 691, 692, 693, 694, 697, 698, 700, 701, 703, 704, 705, 706, 707, 709, 710, 711, 713, 715, 760, 761, 762, 763, 766, 767, 768, 769, 770, 771, 772, 773, 774, 775, 776, 777, 779, 780, 781, 783, 784, 785, 786, 787, 792, 966, 1124, 1538, 1539, 1540, 1542, 1543, 1545, 1546, 1547, 1548, 1552, 1620, 1700, 1799, 2255, 2318, 2332, 2333, 2334, 2335, 2341, 2390], 'a0r5w00000V42mNAAR': [18, 20, 1136, 1141, 1147, 2482], 'a0r5w00000V42c1AAB': [22, 35, 49, 55, 64, 67, 2065, 2186, 2190, 2203, 2219, 2450, 2516, 2610, 2624], 'a0r5w00000V42ilAAB': [24, 50, 56, 293, 483, 485, 487, 492, 502, 506, 572, 670, 1018, 1021, 1024, 1048, 1051, 1817, 2044, 2115, 2128, 2132, 2144, 2146, 2147, 2148, 2155, 2657], 'a0r5w00000V42qUAAR': [25, 1395, 2176, 2311, 2315, 2316, 2317], 'a0r5w00000V42pWAAR': [27, 36, 51, 57, 434, 510, 1983, 1984, 2373, 2429, 2442, 2544, 2555, 2601], 'a0r5w00000V42ihAAB': [28, 1304, 1339, 2246], 'a0r5w00000V42ixAAB': [31, 37, 43, 45, 58, 563, 601, 746, 747, 1160, 2185], 'a0r5w00000V436KAAR': [38], 'a0r5w00000V42jBAAR': [42, 1603, 2063, 2440], 'a0r5w00000V42ipAAB': [46, 610, 613, 619, 622, 629, 633, 637, 643, 971, 973, 1100, 2634, 2648], 'a0r5w00000V42nYAAR': [48, 365, 1590, 1621, 1806], 'a0r5w00000V42sFAAR': [52, 118, 834, 1813, 2475, 2571, 2573, 2611, 2655], 'a0r5w00000V42rLAAR': [53, 62, 202, 675, 676, 732, 1931, 1982, 2614], 'a0r5w00000V433oAAB': [54], 'a0r5w00000V42iXAAR': [59, 63, 94, 97, 105, 115, 116, 126, 162, 183, 186, 187, 212, 214, 222, 244, 288, 301, 316, 318, 391, 431, 444, 446, 469, 501, 550, 567, 568, 612, 626, 640, 750, 751, 754, 755, 756, 788, 901, 1006, 1032, 1034, 1037, 1068, 1069, 1070, 1075, 1082, 1101, 1245, 1255, 1259, 1260, 1262, 1270, 1271, 1273, 1279, 1280, 1292, 1295, 1309, 1327, 1356, 1362, 1404, 1489, 1516, 1624, 1626, 1631, 1688, 1702, 1711, 1753, 1771, 1792, 1809, 1811, 1899, 1909, 1915, 1927, 1933, 1942, 1946, 1952, 1956, 1969, 1972, 1985, 2049, 2083, 2089, 2090, 2092, 2094, 2095, 2133, 2196, 2202, 2206, 2207, 2213, 2220, 2222, 2268, 2269, 2271, 2277, 2309, 2345, 2435, 2439, 2469, 2497, 2535, 2546, 2568, 2570, 2587, 2607, 2625], 'a0r5w00000V438GAAR': [60], 'a0r5w00000V42jxAAB': [61], 'a0r5w00000V43WSAAZ': [65], 'a0r5w00000V42yLAAR': [66, 2283, 2285, 2286], 'a0r5w00000V42oDAAR': [69, 117, 119, 120, 1660, 1812, 2493, 2540, 2636], 'a0r5w00000V42pJAAR': [70, 131, 289, 312, 955, 1118, 1151, 1157, 1422, 1588, 1608, 1632], 'a0r5w00000V42jDAAR': [71, 72, 129, 132, 134, 135, 136, 137, 138, 139, 141, 142, 143, 145, 146, 147, 150, 153, 156, 157, 158, 161, 164, 167, 172, 174, 175, 197, 237, 347, 464, 478, 515, 549, 608, 928, 954, 1095, 1111, 1119, 1178, 1203, 1226, 1238, 1256, 1257, 1258, 1301, 1393, 1524, 1581, 1606, 1637, 1641, 1655, 1677, 1680, 1683, 1692, 1742, 1768, 1808, 1820, 1861, 1866, 1870, 1889, 1923, 1924, 1925, 1986, 1990, 2004, 2005, 2024, 2027, 2029, 2031, 2034, 2036, 2048, 2050, 2052, 2175, 2177, 2239, 2241, 2243, 2274, 2287, 2288, 2291, 2293, 2303, 2304, 2305, 2399, 2455, 2518, 2522, 2549, 2575, 2609], 'a0r5w00000V42spAAB': [73, 338, 919, 1010, 1486, 1498, 1698, 2406, 2576, 2606], 'a0r5w00000V42l4AAB': [74, 123, 588, 1054, 1055, 1514, 1686, 2366, 2432], 'a0r5w00000V43BTAAZ': [76, 1026, 1030, 1031, 1035], 'a0r5w00000V42nWAAR': [77, 78, 79, 80, 81, 144, 148, 151, 163, 169, 173, 241, 577, 580, 582, 618, 647, 974, 1222, 1433, 1473, 1479, 1484, 1492, 1493, 1494, 1501, 1503, 1786, 1855, 1879, 2040, 2362, 2538, 2578, 2627, 2628, 2629], 'a0r5w00000V42mWAAR': [85], 'a0r5w00000V42lbAAB': [88, 91, 93, 96, 99, 107, 1228, 1355, 1359, 2182, 2188, 2193, 2500, 2543, 2558, 2565], 'a0r5w00000V42kxAAB': [90, 95, 102, 104, 109, 111, 140, 154, 166, 168, 171, 998, 999, 1000, 1525, 1527, 1528, 2008, 2015, 2191, 2195, 2199, 2204, 2236, 2238, 2240, 2242, 2454, 2517, 2542, 2566], 'a0r5w00000V4HAeAAN': [98, 108], 'a0r5w00000V42jJAAR': [100, 209, 245, 255, 468, 539, 587, 731, 802, 945, 1333, 1403, 1451, 1456, 1575, 1754, 1755, 1760, 1764, 1765, 1766, 1802, 1868, 2064, 2096, 2097, 2098, 2104, 2514], 'a0r5w00000V43LCAAZ': [101, 1405, 1773, 2100, 2102, 2473, 2567, 2656], 'a0r5w00000V43MjAAJ': [110, 218, 438, 470, 471, 472, 473, 474, 476, 477, 479, 480, 526, 527, 528, 529, 530, 531, 532, 533, 534, 536, 537, 538, 540, 541, 542, 543, 544, 545, 546, 641, 875, 960, 1072, 1073, 1074, 1077, 1079, 1081, 1099, 1282, 1367, 1517, 1571, 1994, 1995, 2080, 2081, 2084, 2087, 2088, 2093, 2099, 2106, 2211, 2276, 2479, 2498, 2513, 2541], 'a0r5w00000V42isAAB': [112, 617, 628, 1306, 2212, 2244, 2615, 2616], 'a0r5w00000V42ohAAB': [113, 366, 804, 1046, 1052], 'a0r5w00000V42sqAAB': [114, 1436, 1679, 1682, 1689, 1691, 2079, 2358, 2660], 'a0r5w00000V42ibAAB': [121, 122, 206, 221, 271, 931, 932, 1103, 1291, 1311, 1390, 1391, 1432, 1434, 1435, 1437, 1438, 1701, 1793, 1881, 1949, 2026, 2041, 2068, 2071, 2281, 2284], 'a0r5w00000V42kYAAR': [124, 211, 235, 243, 920, 936, 1001, 1138, 1179, 1288, 1398, 1399, 1400, 1401, 1402, 1442, 1455, 1496, 1652, 1759, 1823, 1841, 1987, 2055, 2056, 2085, 2169, 2275, 2337, 2339, 2342, 2347, 2348], 'a0r5w00000V42yDAAR': [125, 2057, 2346], 'a0r5w00000V42kgAAB': [127, 454, 1225, 1844, 1852, 1904, 2449], 'a0r5w00000V42kMAAR': [149, 152, 159, 160, 165, 170, 1644, 2289], 'a0r5w00000V43AnAAJ': [155, 521, 522, 1250, 1794, 1797], 'a0r5w00000V42iuAAB': [176, 177, 178, 179, 181, 182, 369, 373, 375, 377, 378, 379, 380, 382, 384, 512, 590, 595, 600, 801, 1080, 1144, 1396, 1512, 1703, 1704, 1709, 1795, 1832, 1836, 1850, 1859, 1888, 1896, 1911, 1919, 1930, 1935, 1937, 1944, 1954, 1960, 2105, 2174, 2183, 2209, 2248, 2249, 2250, 2306, 2307, 2308, 2355, 2509, 2556, 2583, 2645, 2647], 'a0r5w00000V433YAAR': [180, 417, 418, 422, 1591, 1604, 1790, 1884, 2237], 'a0r5w00000V42mgAAB': [190, 191, 192, 248, 267, 304, 315, 320, 328, 1156], 'a0r5w00000V43MZAAZ': [193], 'a0r5w00000V42kGAAR': [195, 398, 450, 729, 1090, 1173, 1629, 1639, 1650, 1989, 1992, 1993, 1996], 'a0r5w00000V42pxAAB': [198, 199, 201, 203, 1214, 1219, 1224, 1230, 1231, 1242, 1244, 1251, 1263, 1276, 1277, 1290, 1294, 1320, 1341, 1685, 1731, 1732, 1747, 1752, 1756, 1849, 1914, 2168, 2180, 2216, 2278, 2597], 'a0r5w00000V42ioAAB': [200, 208, 1448, 1450, 1719, 2025, 2028, 2030, 2032, 2035, 2037, 2039, 2042, 2045, 2046, 2273, 2302], 'a0r5w00000V42qsAAB': [204, 207, 2170], 'a0r5w00000V42iaAAB': [205, 594, 1114, 2252], 'a0r5w00000V42ogAAB': [210, 225, 226, 227, 228, 229, 230, 231, 232, 233, 249, 445, 1131, 1140, 1206, 1272, 1609, 1640, 1665, 1667, 1675, 1693, 1934, 1939, 1957, 1958, 2178, 2353, 2354, 2356, 2424, 2665], 'a0r5w00000V42r2AAB': [213], 'a0r5w00000V435MAAR': [215, 216, 511, 565, 566, 573, 748, 2010], 'a0r5w00000V42nVAAR': [217], 'a0r5w00000V43ZSAAZ': [219], 'a0r5w00000V42qhAAB': [234, 368, 372, 376, 517, 518, 1758, 1762, 1769, 1776, 1780, 2006, 2013], 'a0r5w00000V43LDAAZ': [236, 238, 240], 'a0r5w00000V42kcAAB': [242, 555, 1102, 1158, 1345, 2438, 2448, 2478], 'a0r5w00000V42nGAAR': [246, 257, 277, 285, 294, 300, 307, 381, 581, 912, 1110], 'a0r5w00000V430jAAB': [250, 252, 1135], 'a0r5w00000V42stAAB': [251, 449, 648, 650, 947, 1537, 1551, 1728, 1735, 1804, 1834, 1851, 1858, 1890, 2495, 2545, 2593], 'a0r5w00000V43OSAAZ': [253, 263, 270, 284, 292, 308, 385, 457, 1397], 'a0r5w00000V42iiAAB': [259, 605, 1092, 1243, 1247, 1249, 1440, 1895, 1905, 2314, 2572], 'a0r5w00000V42l8AAB': [260, 268, 276, 283, 291, 794, 1684, 2141, 2150, 2503], 'a0r5w00000V42ieAAB': [262, 486, 1116, 1554, 1556, 1559, 1561, 1562, 1563, 1564, 1678, 1748, 1787, 1847, 2069, 2486], 'a0r5w00000V42pfAAB': [264], 'a0r5w00000V42krAAB': [272, 278, 360, 361, 362, 363, 609, 921, 922, 923, 933, 934, 935, 1129, 1137, 1223, 1265, 1269, 1298, 1322, 1336, 1569, 2205, 2214, 2352, 2667], 'a0r5w00000V42lCAAR': [273, 876, 877, 880, 885], 'a0r5w00000V436QAAR': [280, 1469, 1733, 1736, 1739, 1741, 1743, 1750, 1751, 1761, 1767, 1774, 1778, 2184, 2641], 'a0r5w00000V42oQAAR': [286, 475, 496, 513, 552, 805, 929, 1180, 1352, 1354, 1358, 1452, 1453, 1454, 1630, 1642, 1917, 1988, 2135, 2491], 'a0r5w00000V431CAAR': [295, 309, 323], 'a0r5w00000V43OZAAZ': [298, 310, 321, 326, 388, 535, 1526, 1782, 1810], 'a0r5w00000V42pSAAR': [302, 878, 1087, 1089, 1094, 1097, 1104, 1132, 1148, 1234, 1241, 1594, 1599, 1600, 1602, 1610, 1612, 1617, 1623, 1627, 1633, 1636, 1645, 1654, 1662, 1705, 1706, 1707, 1708, 1710, 1712, 1713, 1714, 1715, 1716, 1717, 1876, 1882, 2441, 2462, 2477, 2551, 2561], 'a0r5w00000V42kEAAR': [305, 441, 460, 519, 1112, 1139, 1518, 1803, 1865, 1892, 1926, 1936, 1955, 1970], 'a0r5w00000V430pAAB': [306], 'a0r5w00000V42okAAB': [311, 399, 400, 1181, 1285, 1302, 1502, 1611, 2082, 2197, 2198, 2427, 2428, 2447], 'a0r5w00000V42p6AAB': [322], 'a0r5w00000V4325AAB': [324, 2151], 'a0r5w00000V43CGAAZ': [325, 2457, 2523, 2579, 2581], 'a0r5w00000V42jAAAR': [327, 407, 408, 447, 514, 1096, 1233, 1507, 1872], 'a0r5w00000V42mKAAR': [329, 1443], 'a0r5w00000V42lkAAB': [331, 332, 1122, 1459, 1589, 1663, 1664, 2019], 'a0r5w00000V43KRAAZ': [333], 'a0r5w00000V438bAAB': [335, 1130, 1143, 1146, 1578, 1582, 1788, 1842, 2292], 'a0r5w00000V42sKAAR': [354], 'a0r5w00000V42rCAAR': [358], 'a0r5w00000V43O3AAJ': [359, 2459], 'a0r5w00000V43DMAAZ': [367, 1392, 1394], 'a0r5w00000V42vGAAR': [370], 'a0r5w00000V42kkAAB': [371], 'a0r5w00000V43MMAAZ': [383, 386, 387, 392, 525, 2201], 'a0r5w00000V436aAAB': [389], 'a0r5w00000V43HTAAZ': [390, 1460], 'a0r5w00000V43H8AAJ': [393], 'a0r5w00000V42qcAAB': [397, 1084, 1480], 'a0r5w00000V42qKAAR': [429], 'a0r5w00000V42nfAAB': [435, 436, 437, 879, 881, 882, 883, 884, 1535, 1536, 2471, 2529, 2632, 2637], 'a0r5w00000V42qyAAB': [440, 442, 630, 1221, 1232, 1266, 1585, 1586, 1634, 1950, 1965, 1966, 1968, 2078, 2262], 'a0r5w00000V42kDAAR': [443], 'a0r5w00000V42jCAAR': [448, 520, 1002, 1150, 1155, 1533, 1671, 1676, 1791, 1875, 1921, 1922, 1943, 1945, 1947, 2016, 2245, 2423, 2633], 'a0r5w00000V42nuAAB': [451, 1831], 'a0r5w00000V42xQAAR': [452, 2466], 'a0r5w00000V42wqAAB': [453, 1318, 1325, 1326, 1346, 1980, 1981], 'a0r5w00000V42qpAAB': [455, 808, 1126, 1874, 1885, 1893, 1907, 1920, 1932, 1941, 1961, 1979, 2505, 2574], 'a0r5w00000V42n0AAB': [456, 1293, 1297, 1321, 1344, 1963], 'a0r5w00000V42idAAB': [461, 462, 893, 2154, 2547, 2552, 2562, 2658], 'a0r5w00000V42mFAAR': [465], 'a0r5w00000V42l5AAB': [467, 1570], 'a0r5w00000V42c3AAB': [489, 493, 497, 2119], 'a0r5w00000V42jYAAR': [490, 494, 500, 503, 507, 509, 1814, 2464, 2531, 2605], 'a0r5w00000V42pTAAR': [499, 654, 659, 661, 665, 820, 925, 926, 970, 1530, 2123, 2126, 2130, 2171, 2234, 2235, 2437], 'a0r5w00000V434eAAB': [504, 1044], 'a0r5w00000V42nzAAB': [508], 'a0r5w00000V43OdAAJ': [516, 944, 2007, 2011, 2012], 'a0r5w00000V42j7AAB': [523, 2295, 2297, 2298, 2300, 2301], 'a0r5w00000V42xHAAR': [524, 1254, 1332, 1353, 1357, 2536, 2612, 2618], 'a0r5w00000V43PdAAJ': [548], 'a0r5w00000V42q5AAB': [551, 2173, 2504], 'a0r5w00000V43PtAAJ': [553, 554], 'a0r5w00000V42q1AAB': [557, 558, 1246], 'a0r5w00000V42lNAAR': [561, 562, 564, 1583, 1796, 1798, 1962, 2557], 'a0r5w00000V42pEAAR': [569, 570, 571], 'a0r5w00000V42owAAB': [583, 606, 621, 730, 733, 738, 740], 'a0r5w00000V42kJAAR': [584, 778, 1429, 1781], 'a0r5w00000V42jzAAB': [585, 1948, 1951, 1967, 2589], 'a0r5w00000V42jfAAB': [591, 742, 948, 949, 952, 1481, 2020, 2022], 'a0r5w00000V43AgAAJ': [596, 597, 602, 1864, 1867, 1869, 1883, 1886, 1887, 1891, 1894], 'a0r5w00000V42jvAAB': [598, 1062, 2077, 2661], 'a0r5w00000V43O0AAJ': [603, 743, 2425], 'a0r5w00000V42jpAAB': [607], 'a0r5w00000V437fAAB': [611, 614, 620, 623, 632, 634, 638, 645, 1115, 2017, 2018, 2620], 'a0r5w00000V42sSAAR': [615, 624, 625, 635, 646, 649, 1694, 1729, 1737, 1744, 1749, 2162, 2165], 'a0r5w00000V42ozAAB': [639, 1289, 1307, 1310, 1334, 1337, 1953, 2534], 'a0r5w00000V42jPAAR': [642, 797, 800, 1015, 1172, 1312, 1383, 1384, 1385, 1386, 1387, 1388, 2226, 2227, 2470, 2481, 2485, 2539, 2560], 'a0r5w00000V42mRAAR': [644, 2613], 'a0r5w00000V42mcAAB': [651], 'a0r5w00000V4GenAAF': [666, 2159, 2532, 2550, 2584], 'a0r5w00000V43abAAB': [668], 'a0r5w00000V436HAAR': [687, 1661, 1784, 1837, 1843, 2492, 2588, 2592, 2617], 'a0r5w00000V436XAAR': [695, 702, 708, 714, 718, 719], 'a0r5w00000V4H99AAF': [696, 1133, 2124, 2129, 2134, 2138, 2149], 'a0r5w00000V43BmAAJ': [699], 'a0r5w00000V43IyAAJ': [712, 720, 721, 722, 723, 724, 726, 727, 2595, 2596], 'a0r5w00000V42leAAB': [716, 1681], 'a0r5w00000V432vAAB': [717], 'a0r5w00000V42jgAAB': [734, 1975, 2528], 'a0r5w00000V42iZAAR': [735, 736, 737, 739, 741, 744, 745, 749, 1300, 1727], 'a0r5w00000V432lAAB': [752, 753, 757, 1800, 2103, 2109, 2229, 2446], 'a0r5w00000V42ugAAB': [758], 'a0r5w00000V42txAAB': [759, 2223], 'a0r5w00000V43DfAAJ': [765], 'a0r5w00000V42qOAAR': [782], 'a0r5w00000V432rAAB': [793], 'a0r5w00000V42pVAAR': [795, 796, 799, 2467, 2468, 2527], 'a0r5w00000V4GkGAAV': [798], 'a0r5w00000V43VuAAJ': [806, 807, 809, 1772, 2210], 'a0r5w00000V43PIAAZ': [810], 'a0r5w00000V42qeAAB': [828, 830, 832], 'a0r5w00000V42pDAAR': [903, 910], 'a0r5w00000V4368AAB': [905], 'a0r5w00000V42j5AAB': [906, 911, 915, 976, 988, 1565], 'a0r5w00000V43IAAAZ': [907, 977, 984], 'a0r5w00000V42lwAAB': [908, 909, 1580], 'a0r5w00000V42jbAAB': [916, 1541, 1544, 1816, 2122, 2139], 'a0r5w00000V43DhAAJ': [917, 918], 'a0r5w00000V42xLAAR': [927], 'a0r5w00000V42irAAB': [930], 'a0r5w00000V42ivAAB': [937, 1389], 'a0r5w00000V42lpAAB': [938, 939, 940, 941, 942, 943, 1205, 1504, 1616, 2062], 'a0r5w00000V42cBAAR': [956, 957, 958, 959, 1785], 'a0r5w00000V432mAAB': [961], 'a0r5w00000V43JcAAJ': [962], 'a0r5w00000V42sLAAR': [967, 968, 969, 1649], 'a0r5w00000V43OmAAJ': [972, 2107, 2108], 'a0r5w00000V430bAAB': [978, 1472, 2059, 2060, 2061, 2444, 2598, 2599, 2600], 'a0r5w00000V42s4AAB': [982, 1229], 'a0r5w00000V42vHAAR': [986], 'a0r5w00000V43D2AAJ': [987], 'a0r5w00000V43EMAAZ': [991, 992, 996, 997], 'a0r5w00000V434lAAB': [993, 1854], 'a0r5w00000V430uAAB': [994], 'a0r5w00000V42tBAAR': [995, 1204, 2125], 'a0r5w00000VNgG2AAL': [1004], 'a0r5w00000V42itAAB': [1005, 1374], 'a0r5w00000V43LTAAZ': [1011], 'a0r5w00000V42jqAAB': [1012, 2111, 2127, 2137, 2145, 2156, 2157], 'a0r5w00000V42jQAAR': [1014, 1016, 1299], 'a0r5w00000V431DAAR': [1017, 1022, 1025], 'a0r5w00000V42pMAAR': [1056, 1058, 1063], 'a0r5w00000V42uOAAR': [1057, 1061, 1105, 1991, 2164, 2167], 'a0r5w00000V42jkAAB': [1059, 1060, 1064, 1065, 1066, 1067, 1071, 1076, 1078, 1083], 'a0r5w00000V42kTAAR': [1086], 'a0r5w00000V42m3AAB': [1088, 1461, 1549], 'a0r5w00000V42imAAB': [1091, 1659], 'a0r5w00000V43MmAAJ': [1098], 'a0r5w00000V42tOAAR': [1113], 'a0r5w00000V42vrAAB': [1125, 1853, 1857, 1862, 1873, 1898, 1913, 1918, 1928, 1940, 1959], 'a0r5w00000V42qYAAR': [1142, 1145, 2187], 'a0r5w00000V4342AAB': [1153], 'a0r5w00000V436ZAAR': [1154, 1903, 1910], 'a0r5w00000V43KTAAZ': [1174], 'a0r5w00000V42klAAB': [1207, 1208, 1316, 1323, 1329, 1335, 1860, 2474], 'a0r5w00000V42k1AAB': [1211], 'a0r5w00000V42lDAAR': [1212, 1213, 1217], 'a0r5w00000V42oHAAR': [1215], 'a0r5w00000V43AMAAZ': [1235], 'a0r5w00000V43HPAAZ': [1236], 'a0r5w00000V43LUAAZ': [1248], 'a0r5w00000V431PAAR': [1267, 2194], 'a0r5w00000V42mBAAR': [1268, 1287], 'a0r5w00000V433MAAR': [1274], 'a0r5w00000V42lJAAR': [1275, 1303, 1331, 2476, 2533, 2644], 'a0r5w00000V42skAAB': [1281, 1296, 1324], 'a0r5w00000V42vkAAB': [1284, 2590], 'a0r5w00000V42s2AAB': [1305, 1308], 'a0r5w00000V42mhAAB': [1313, 1340, 1343], 'a0r5w00000V42j1AAB': [1314, 1319, 2047, 2051, 2053, 2290], 'a0r5w00000V43NuAAJ': [1315, 1338, 1775, 1779], 'a0r5w00000V43IIAAZ': [1317, 1757, 1763, 1770, 2224, 2548], 'a0r5w00000V4H98AAF': [1328], 'a0r5w00000V42qRAAR': [1330], 'a0r5w00000V42trAAB': [1342], 'a0r5w00000V43ZLAAZ': [1348], 'a0r5w00000V42sfAAB': [1351, 1471, 1475, 1482], 'a0r5w00000V42o9AAB': [1360, 1361, 1412, 1413, 1414, 1415, 1416, 1417, 1418, 1421, 1424, 1425, 1426, 1428, 1430, 1805, 1856], 'a0r5w00000V43UfAAJ': [1365], 'a0r5w00000V42jVAAR': [1369, 2136, 2143], 'a0r5w00000V438tAAB': [1377, 1378], 'a0r5w00000V42mbAAB': [1406], 'a0r5w00000V43Q9AAJ': [1441], 'a0r5w00000V438zAAB': [1444], 'a0r5w00000V43JYAAZ': [1445], 'a0r5w00000V42kUAAR': [1458, 1462, 1464], 'a0r5w00000V42o5AAB': [1463, 1468, 1696, 2340, 2343, 2344, 2349], 'a0r5w00000V434nAAB': [1465, 1470, 1490, 1491], 'a0r5w00000V431hAAB': [1466, 1467, 1474, 1476, 1478, 1487, 1497], 'a0r5w00000V42jaAAB': [1477], 'a0r5w00000V42lvAAB': [1483, 2521, 2664], 'a0r5w00000V42k9AAB': [1485, 1555, 1557, 1558, 1560, 1613, 1880, 2140, 2179, 2312, 2313, 2319, 2320, 2321, 2322, 2323, 2324, 2325, 2326, 2327, 2328, 2329, 2330, 2331, 2451, 2499, 2501], 'a0r5w00000V42swAAB': [1488, 1500, 1897, 1902], 'a0r5w00000V42m4AAB': [1495, 2338], 'a0r5w00000V4GoqAAF': [1499], 'a0r5w00000V43IKAAZ': [1505, 1506, 1508, 1510], 'a0r5w00000V43TSAAZ': [1509, 2630, 2631], 'a0r5w00000V42ziAAB': [1532], 'a0r5w00000V434AAAR': [1566, 1567, 1568], 'a0r5w00000V42qNAAR': [1572, 2375, 2520, 2563], 'a0r5w00000V437TAAR': [1576, 1592, 1598], 'a0r5w00000V436wAAB': [1577], 'a0r5w00000V42peAAB': [1593], 'a0r5w00000V42jMAAR': [1607], 'a0r5w00000V431aAAB': [1628], 'a0r5w00000V430dAAB': [1647, 1648], 'a0r5w00000V432aAAB': [1651, 2361], 'a0r5w00000V42icAAB': [1668, 1669, 1670], 'a0r5w00000V42kBAAR': [1672, 1821], 'a0r5w00000V42qwAAB': [1725], 'a0r5w00000V4HBuAAN': [1726, 1730, 1734, 1738, 1740, 1746], 'a0r5w00000V43CRAAZ': [1789], 'a0r5w00000V42xkAAB': [1801], 'a0r5w00000V43ZhAAJ': [1807], 'a0r5w00000V43HsAAJ': [1822], 'a0r5w00000V43EdAAJ': [1830], 'a0r5w00000V43QQAAZ': [1848], 'a0r5w00000V43FRAAZ': [1877], 'a0r5w00000V436cAAB': [1878], 'a0r5w00000V43CwAAJ': [1900, 1901], 'a0r5w00000V42sJAAR': [1906], 'a0r5w00000V42kIAAR': [1912], 'a0r5w00000V43KcAAJ': [1916, 1929], 'a0r5w00000V42wnAAB': [1938, 2058, 2163, 2230, 2519, 2643, 2654], 'a0r5w00000V42pYAAR': [1974, 2251, 2253, 2254, 2256, 2257, 2258, 2259, 2260, 2261, 2263, 2264, 2265, 2266, 2267], 'a0r5w00000V42pvAAB': [2014], 'a0r5w00000V437vAAB': [2021], 'a0r5w00000V43L5AAJ': [2054], 'a0r5w00000V42jIAAR': [2066], 'a0r5w00000V43ATAAZ': [2067], 'a0r5w00000V42rVAAR': [2072], 'a0r5w00000V43CcAAJ': [2074, 2075], 'a0r5w00000V43LuAAJ': [2076], 'a0r5w00000V43JwAAJ': [2086], 'a0r5w00000V42zaAAB': [2113, 2114], 'a0r5w00000V434GAAR': [2116, 2117], 'a0r5w00000V42vgAAB': [2142], 'a0r5w00000V42ruAAB': [2153], 'a0r5w00000V42lZAAR': [2161], 'a0r5w00000V42kiAAB': [2181], 'a0r5w00000V42tvAAB': [2189, 2280, 2367, 2368, 2369, 2372], 'a0r5w00000V43OEAAZ': [2192], 'a0r5w00000V43N4AAJ': [2200, 2208, 2218, 2357, 2662, 2666], 'a0r5w00000V43DWAAZ': [2225], 'a0r5w00000V42naAAB': [2272], 'a0r5w00000V430FAAR': [2279], 'a0r5w00000V42x0AAB': [2296], 'a0r5w00000V42j6AAB': [2310], 'a0r5w00000V42lKAAR': [2336], 'a0r5w00000V43c8AAB': [2359, 2360, 2430], 'a0r5w00000V43X6AAJ': [2370], 'a0r5w00000V42wdAAB': [2371], 'a0r5w00000V43WVAAZ': [2376], 'a0r5w00000V43WwAAJ': [2431, 2443], 'a0r5w00000V42lSAAR': [2433], 'a0r5w00000V42k8AAB': [2434], 'a0r5w00000V439WAAR': [2436], 'a0r5w00000V42pnAAB': [2445], 'a0r5w00000V42qVAAR': [2452, 2453], 'a0r5w00000V42mnAAB': [2460, 2586], 'a0r5w00000V42nbAAB': [2463, 2508, 2510], 'a0r5w00000V42kAAAR': [2484, 2537, 2626], 'a0r5w00000V43PPAAZ': [2488], 'a0r5w00000V42qmAAB': [2494], 'a0r5w00000V43ERAAZ': [2515], 'a0r5w00000V42mDAAR': [2564], 'a0r5w00000V433WAAR': [2569], 'a0r5w00000V42mHAAR': [2577, 2591], 'a0r5w00000V43LKAAZ': [2585, 2638, 2639], 'a0r5w00000V42z8AAB': [2608], 'a0r5w00000V43GaAAJ': [2635], 'a0r5w00000V43HQAAZ': [2642], 'a0r5w00000V42c4AAB': [2646], 'a0r5w00000V43DFAAZ': [2663]}\n"
     ]
    }
   ],
   "source": [
    "## sort sf-df by organization\n",
    "org_ind_dict = {j: [] for j in sf_df['Organization__c'].to_list()} #stores relevant indexes per org\n",
    "for i,j in enumerate(sf_df['Organization__c'].to_list()):\n",
    "    org_ind_dict[j].append(i)\n",
    "    \n",
    "print(org_ind_dict)"
   ]
  },
  {
   "cell_type": "markdown",
   "metadata": {},
   "source": [
    "## Aggregating descriptive statistics"
   ]
  },
  {
   "cell_type": "code",
   "execution_count": 514,
   "metadata": {},
   "outputs": [],
   "source": [
    "#########################################################################################################\n",
    "## 1. Avg, Max, Median Class sizes per institution\n",
    "##     i) pull and calc from the dictionary\n",
    "## 2. avg and median class length\n",
    "##     i) pull and calc from dictionary\n",
    "## 3. users statistics\n",
    "##     i) total clustered users from institution (non-unique; allows duplicates)\n",
    "##     ii) weekly clustered users from institution (max, avg) *** relies on all clusters + start/stop dates\n",
    "##     iii) semester clustered users from institution (max, avg) \n",
    "##     iv) unique clustered users (need to pull the enter SF user base) *** This one is the lengthy one\n",
    "##     CURRENTLY - iv is omitted due to time constraints\n",
    "## 4. sum of classes served (i.e., unique classes per period)\n",
    "##     VERY UNIQUE: weekly number of classes after the instution began to actively use NH services (i.e. not from beginning\n",
    "##     of all time)\n",
    "##     i) average and max number of unique classes per week\n",
    "##     ii) average and max number of classes per semester\n",
    "## 5. Year-over-year comparison Individual use (weekly, monthly) \n",
    "##     i) measuring time based growth for an institution\n",
    "##     ii) average yearly increase in average weekly use (average weekly use over a year - compared with next years avg)\n",
    "##     iii) average yearly increase in average monthly use improvement in the number of clusters\n",
    "##     \n",
    "#########################################################################################################"
   ]
  },
  {
   "cell_type": "markdown",
   "metadata": {},
   "source": [
    "### Point 1 - avg max median class size "
   ]
  },
  {
   "cell_type": "code",
   "execution_count": 515,
   "metadata": {},
   "outputs": [
    {
     "name": "stdout",
     "output_type": "stream",
     "text": [
      "Obtained Salesforce access token ...... True\n"
     ]
    }
   ],
   "source": [
    "db_1 = DB2SalesforceAPI(sf_login_params)\n",
    "db_1.object_id = 'Organization__c'\n",
    "db_1.external_id = 'Id'"
   ]
  },
  {
   "cell_type": "code",
   "execution_count": 516,
   "metadata": {},
   "outputs": [],
   "source": [
    "unique_orgs = list(org_ind_dict.keys())\n",
    "class_size_df = pd.DataFrame(columns=['Id','Avg_Cluster_Size__c','Median_Cluster_Size__c','Max_Cluster_Size__c'])\n",
    "class_size_df['Id'] = unique_orgs"
   ]
  },
  {
   "cell_type": "code",
   "execution_count": 517,
   "metadata": {},
   "outputs": [
    {
     "data": {
      "text/html": [
       "<div>\n",
       "<style scoped>\n",
       "    .dataframe tbody tr th:only-of-type {\n",
       "        vertical-align: middle;\n",
       "    }\n",
       "\n",
       "    .dataframe tbody tr th {\n",
       "        vertical-align: top;\n",
       "    }\n",
       "\n",
       "    .dataframe thead th {\n",
       "        text-align: right;\n",
       "    }\n",
       "</style>\n",
       "<table border=\"1\" class=\"dataframe\">\n",
       "  <thead>\n",
       "    <tr style=\"text-align: right;\">\n",
       "      <th></th>\n",
       "      <th>Id</th>\n",
       "      <th>Avg_Cluster_Size__c</th>\n",
       "      <th>Median_Cluster_Size__c</th>\n",
       "      <th>Max_Cluster_Size__c</th>\n",
       "    </tr>\n",
       "  </thead>\n",
       "  <tbody>\n",
       "    <tr>\n",
       "      <th>0</th>\n",
       "      <td>a0r5w00000V42cCAAR</td>\n",
       "      <td>NaN</td>\n",
       "      <td>NaN</td>\n",
       "      <td>NaN</td>\n",
       "    </tr>\n",
       "    <tr>\n",
       "      <th>1</th>\n",
       "      <td>a0r5w00000V42iyAAB</td>\n",
       "      <td>NaN</td>\n",
       "      <td>NaN</td>\n",
       "      <td>NaN</td>\n",
       "    </tr>\n",
       "  </tbody>\n",
       "</table>\n",
       "</div>"
      ],
      "text/plain": [
       "                   Id Avg_Cluster_Size__c Median_Cluster_Size__c  \\\n",
       "0  a0r5w00000V42cCAAR                 NaN                    NaN   \n",
       "1  a0r5w00000V42iyAAB                 NaN                    NaN   \n",
       "\n",
       "  Max_Cluster_Size__c  \n",
       "0                 NaN  \n",
       "1                 NaN  "
      ]
     },
     "metadata": {},
     "output_type": "display_data"
    }
   ],
   "source": [
    "display(class_size_df.head(2))"
   ]
  },
  {
   "cell_type": "code",
   "execution_count": 518,
   "metadata": {},
   "outputs": [],
   "source": [
    "from copy import deepcopy\n",
    "import statistics"
   ]
  },
  {
   "cell_type": "code",
   "execution_count": 519,
   "metadata": {},
   "outputs": [],
   "source": [
    "cs_df_counter = 0\n",
    "for i in unique_orgs:\n",
    "    max_csize = 0\n",
    "    med_csize = []\n",
    "    avg_csize = 0\n",
    "    for j in org_ind_dict[i]:\n",
    "        curr_size = sf_df.iloc[j,1]\n",
    "        avg_csize += curr_size/len(org_ind_dict[i])\n",
    "        if curr_size > max_csize:\n",
    "            max_csize = deepcopy(curr_size)\n",
    "        \n",
    "        med_csize.append(curr_size)\n",
    "    med_csize = statistics.median(med_csize)\n",
    "    class_size_df.iloc[cs_df_counter,:] = [i,avg_csize,med_csize,max_csize]\n",
    "    \n",
    "    cs_df_counter += 1 "
   ]
  },
  {
   "cell_type": "code",
   "execution_count": 520,
   "metadata": {},
   "outputs": [
    {
     "data": {
      "text/html": [
       "<div>\n",
       "<style scoped>\n",
       "    .dataframe tbody tr th:only-of-type {\n",
       "        vertical-align: middle;\n",
       "    }\n",
       "\n",
       "    .dataframe tbody tr th {\n",
       "        vertical-align: top;\n",
       "    }\n",
       "\n",
       "    .dataframe thead th {\n",
       "        text-align: right;\n",
       "    }\n",
       "</style>\n",
       "<table border=\"1\" class=\"dataframe\">\n",
       "  <thead>\n",
       "    <tr style=\"text-align: right;\">\n",
       "      <th></th>\n",
       "      <th>Id</th>\n",
       "      <th>Avg_Cluster_Size__c</th>\n",
       "      <th>Median_Cluster_Size__c</th>\n",
       "      <th>Max_Cluster_Size__c</th>\n",
       "    </tr>\n",
       "  </thead>\n",
       "  <tbody>\n",
       "    <tr>\n",
       "      <th>0</th>\n",
       "      <td>a0r5w00000V42cCAAR</td>\n",
       "      <td>38.9476</td>\n",
       "      <td>15</td>\n",
       "      <td>761</td>\n",
       "    </tr>\n",
       "    <tr>\n",
       "      <th>1</th>\n",
       "      <td>a0r5w00000V42iyAAB</td>\n",
       "      <td>17.4706</td>\n",
       "      <td>7</td>\n",
       "      <td>66</td>\n",
       "    </tr>\n",
       "    <tr>\n",
       "      <th>2</th>\n",
       "      <td>a0r5w00000V42liAAB</td>\n",
       "      <td>57.7986</td>\n",
       "      <td>28</td>\n",
       "      <td>366</td>\n",
       "    </tr>\n",
       "    <tr>\n",
       "      <th>3</th>\n",
       "      <td>a0r5w00000V42c0AAB</td>\n",
       "      <td>14.5714</td>\n",
       "      <td>10</td>\n",
       "      <td>36</td>\n",
       "    </tr>\n",
       "    <tr>\n",
       "      <th>4</th>\n",
       "      <td>a0r5w00000V42ikAAB</td>\n",
       "      <td>82.6782</td>\n",
       "      <td>16</td>\n",
       "      <td>484</td>\n",
       "    </tr>\n",
       "  </tbody>\n",
       "</table>\n",
       "</div>"
      ],
      "text/plain": [
       "                   Id Avg_Cluster_Size__c Median_Cluster_Size__c  \\\n",
       "0  a0r5w00000V42cCAAR             38.9476                     15   \n",
       "1  a0r5w00000V42iyAAB             17.4706                      7   \n",
       "2  a0r5w00000V42liAAB             57.7986                     28   \n",
       "3  a0r5w00000V42c0AAB             14.5714                     10   \n",
       "4  a0r5w00000V42ikAAB             82.6782                     16   \n",
       "\n",
       "  Max_Cluster_Size__c  \n",
       "0                 761  \n",
       "1                  66  \n",
       "2                 366  \n",
       "3                  36  \n",
       "4                 484  "
      ]
     },
     "metadata": {},
     "output_type": "display_data"
    }
   ],
   "source": [
    "display(class_size_df.head(5))"
   ]
  },
  {
   "cell_type": "code",
   "execution_count": 521,
   "metadata": {},
   "outputs": [
    {
     "name": "stdout",
     "output_type": "stream",
     "text": [
      "[Success] Bulk job creation successful. Job ID = 7505w00000THPIjAAP\n",
      "hello\n",
      "[Success] CSV upload successful. Job ID = 7505w00000THPIjAAP\n",
      "[Success] Closing job successful. Job ID = 7505w00000THPIjAAP\n"
     ]
    }
   ],
   "source": [
    "db_1.send_data(class_size_df)"
   ]
  },
  {
   "cell_type": "code",
   "execution_count": 522,
   "metadata": {},
   "outputs": [],
   "source": [
    "# check status\n",
    "from pprint import pprint"
   ]
  },
  {
   "cell_type": "code",
   "execution_count": 523,
   "metadata": {},
   "outputs": [
    {
     "data": {
      "text/plain": [
       "{'id': '7505w00000THPIjAAP',\n",
       " 'operation': 'upsert',\n",
       " 'object': 'organization__c',\n",
       " 'createdById': '0055w00000DM5bOAAT',\n",
       " 'createdDate': '2021-01-13T04:53:29.000+0000',\n",
       " 'systemModstamp': '2021-01-13T04:53:30.000+0000',\n",
       " 'state': 'InProgress',\n",
       " 'externalIdFieldName': 'Id',\n",
       " 'concurrencyMode': 'Parallel',\n",
       " 'contentType': 'CSV',\n",
       " 'apiVersion': 47.0,\n",
       " 'jobType': 'V2Ingest',\n",
       " 'lineEnding': 'LF',\n",
       " 'columnDelimiter': 'COMMA',\n",
       " 'numberRecordsProcessed': 0,\n",
       " 'numberRecordsFailed': 0,\n",
       " 'retries': 0,\n",
       " 'totalProcessingTime': 0,\n",
       " 'apiActiveProcessingTime': 0,\n",
       " 'apexProcessingTime': 0}"
      ]
     },
     "execution_count": 523,
     "metadata": {},
     "output_type": "execute_result"
    }
   ],
   "source": [
    "db_1.check_bulk_status()"
   ]
  },
  {
   "cell_type": "code",
   "execution_count": 524,
   "metadata": {},
   "outputs": [
    {
     "name": "stdout",
     "output_type": "stream",
     "text": [
      "''\n"
     ]
    }
   ],
   "source": [
    "pprint(db_1.check_bulk_failed_results())"
   ]
  },
  {
   "cell_type": "markdown",
   "metadata": {},
   "source": [
    "### Point 2 - avg median class length"
   ]
  },
  {
   "cell_type": "code",
   "execution_count": 525,
   "metadata": {},
   "outputs": [
    {
     "name": "stdout",
     "output_type": "stream",
     "text": [
      "Obtained Salesforce access token ...... True\n"
     ]
    }
   ],
   "source": [
    "db_2 = DB2SalesforceAPI(sf_login_params)\n",
    "db_2.object_id = 'Organization__c'\n",
    "db_2.external_id = 'Id'"
   ]
  },
  {
   "cell_type": "code",
   "execution_count": 526,
   "metadata": {},
   "outputs": [],
   "source": [
    "class_length_df = pd.DataFrame(columns=['Id','Avg_Class_Length__c','Median_Class_Length__c'])\n",
    "class_length_df['Id'] = unique_orgs"
   ]
  },
  {
   "cell_type": "code",
   "execution_count": 527,
   "metadata": {},
   "outputs": [],
   "source": [
    "import datetime"
   ]
  },
  {
   "cell_type": "code",
   "execution_count": 528,
   "metadata": {},
   "outputs": [],
   "source": [
    "cl_df_counter = 0\n",
    "for i in unique_orgs: \n",
    "    ## calculate the durations per class session\n",
    "    durations = []\n",
    "    for j in org_ind_dict[i]:\n",
    "        start_date = datetime.datetime.strptime(sf_df.iloc[j,-1],'%Y-%m-%d') \n",
    "        end_date = datetime.datetime.strptime(sf_df.iloc[j,0],'%Y-%m-%d')\n",
    "        \n",
    "        date_diff = end_date - start_date\n",
    "        durations.append(date_diff.days) ## includes >= 30days\n",
    "        \n",
    "    med_dur = statistics.median(durations)\n",
    "    avg_dur = statistics.mean(durations)\n",
    "    \n",
    "    class_length_df.iloc[cl_df_counter,:] = [i,med_dur,avg_dur]\n",
    "    \n",
    "    cl_df_counter += 1 "
   ]
  },
  {
   "cell_type": "code",
   "execution_count": 529,
   "metadata": {},
   "outputs": [
    {
     "data": {
      "text/html": [
       "<div>\n",
       "<style scoped>\n",
       "    .dataframe tbody tr th:only-of-type {\n",
       "        vertical-align: middle;\n",
       "    }\n",
       "\n",
       "    .dataframe tbody tr th {\n",
       "        vertical-align: top;\n",
       "    }\n",
       "\n",
       "    .dataframe thead th {\n",
       "        text-align: right;\n",
       "    }\n",
       "</style>\n",
       "<table border=\"1\" class=\"dataframe\">\n",
       "  <thead>\n",
       "    <tr style=\"text-align: right;\">\n",
       "      <th></th>\n",
       "      <th>Id</th>\n",
       "      <th>Avg_Class_Length__c</th>\n",
       "      <th>Median_Class_Length__c</th>\n",
       "    </tr>\n",
       "  </thead>\n",
       "  <tbody>\n",
       "    <tr>\n",
       "      <th>0</th>\n",
       "      <td>a0r5w00000V42cCAAR</td>\n",
       "      <td>6</td>\n",
       "      <td>31.4579</td>\n",
       "    </tr>\n",
       "    <tr>\n",
       "      <th>1</th>\n",
       "      <td>a0r5w00000V42iyAAB</td>\n",
       "      <td>7</td>\n",
       "      <td>8.88235</td>\n",
       "    </tr>\n",
       "    <tr>\n",
       "      <th>2</th>\n",
       "      <td>a0r5w00000V42liAAB</td>\n",
       "      <td>9</td>\n",
       "      <td>28.705</td>\n",
       "    </tr>\n",
       "    <tr>\n",
       "      <th>3</th>\n",
       "      <td>a0r5w00000V42c0AAB</td>\n",
       "      <td>4</td>\n",
       "      <td>17.2857</td>\n",
       "    </tr>\n",
       "    <tr>\n",
       "      <th>4</th>\n",
       "      <td>a0r5w00000V42ikAAB</td>\n",
       "      <td>8</td>\n",
       "      <td>16.1724</td>\n",
       "    </tr>\n",
       "    <tr>\n",
       "      <th>...</th>\n",
       "      <td>...</td>\n",
       "      <td>...</td>\n",
       "      <td>...</td>\n",
       "    </tr>\n",
       "    <tr>\n",
       "      <th>322</th>\n",
       "      <td>a0r5w00000V42z8AAB</td>\n",
       "      <td>4</td>\n",
       "      <td>4</td>\n",
       "    </tr>\n",
       "    <tr>\n",
       "      <th>323</th>\n",
       "      <td>a0r5w00000V43GaAAJ</td>\n",
       "      <td>32</td>\n",
       "      <td>32</td>\n",
       "    </tr>\n",
       "    <tr>\n",
       "      <th>324</th>\n",
       "      <td>a0r5w00000V43HQAAZ</td>\n",
       "      <td>7</td>\n",
       "      <td>7</td>\n",
       "    </tr>\n",
       "    <tr>\n",
       "      <th>325</th>\n",
       "      <td>a0r5w00000V42c4AAB</td>\n",
       "      <td>5</td>\n",
       "      <td>5</td>\n",
       "    </tr>\n",
       "    <tr>\n",
       "      <th>326</th>\n",
       "      <td>a0r5w00000V43DFAAZ</td>\n",
       "      <td>4</td>\n",
       "      <td>4</td>\n",
       "    </tr>\n",
       "  </tbody>\n",
       "</table>\n",
       "<p>327 rows × 3 columns</p>\n",
       "</div>"
      ],
      "text/plain": [
       "                     Id Avg_Class_Length__c Median_Class_Length__c\n",
       "0    a0r5w00000V42cCAAR                   6                31.4579\n",
       "1    a0r5w00000V42iyAAB                   7                8.88235\n",
       "2    a0r5w00000V42liAAB                   9                 28.705\n",
       "3    a0r5w00000V42c0AAB                   4                17.2857\n",
       "4    a0r5w00000V42ikAAB                   8                16.1724\n",
       "..                  ...                 ...                    ...\n",
       "322  a0r5w00000V42z8AAB                   4                      4\n",
       "323  a0r5w00000V43GaAAJ                  32                     32\n",
       "324  a0r5w00000V43HQAAZ                   7                      7\n",
       "325  a0r5w00000V42c4AAB                   5                      5\n",
       "326  a0r5w00000V43DFAAZ                   4                      4\n",
       "\n",
       "[327 rows x 3 columns]"
      ]
     },
     "execution_count": 529,
     "metadata": {},
     "output_type": "execute_result"
    }
   ],
   "source": [
    "class_length_df"
   ]
  },
  {
   "cell_type": "code",
   "execution_count": 530,
   "metadata": {},
   "outputs": [
    {
     "name": "stdout",
     "output_type": "stream",
     "text": [
      "[Success] Bulk job creation successful. Job ID = 7505w00000THPIoAAP\n",
      "hello\n",
      "[Success] CSV upload successful. Job ID = 7505w00000THPIoAAP\n",
      "[Success] Closing job successful. Job ID = 7505w00000THPIoAAP\n"
     ]
    }
   ],
   "source": [
    "db_2.send_data(class_length_df)"
   ]
  },
  {
   "cell_type": "code",
   "execution_count": 531,
   "metadata": {},
   "outputs": [
    {
     "data": {
      "text/plain": [
       "{'id': '7505w00000THPIoAAP',\n",
       " 'operation': 'upsert',\n",
       " 'object': 'organization__c',\n",
       " 'createdById': '0055w00000DM5bOAAT',\n",
       " 'createdDate': '2021-01-13T04:53:32.000+0000',\n",
       " 'systemModstamp': '2021-01-13T04:53:33.000+0000',\n",
       " 'state': 'UploadComplete',\n",
       " 'externalIdFieldName': 'Id',\n",
       " 'concurrencyMode': 'Parallel',\n",
       " 'contentType': 'CSV',\n",
       " 'apiVersion': 47.0,\n",
       " 'jobType': 'V2Ingest',\n",
       " 'lineEnding': 'LF',\n",
       " 'columnDelimiter': 'COMMA',\n",
       " 'numberRecordsProcessed': 0,\n",
       " 'numberRecordsFailed': 0,\n",
       " 'retries': 0,\n",
       " 'totalProcessingTime': 0,\n",
       " 'apiActiveProcessingTime': 0,\n",
       " 'apexProcessingTime': 0}"
      ]
     },
     "execution_count": 531,
     "metadata": {},
     "output_type": "execute_result"
    }
   ],
   "source": [
    "db_2.check_bulk_status()"
   ]
  },
  {
   "cell_type": "code",
   "execution_count": 532,
   "metadata": {},
   "outputs": [
    {
     "name": "stdout",
     "output_type": "stream",
     "text": [
      "''\n"
     ]
    }
   ],
   "source": [
    "pprint(db_2.check_bulk_failed_results())"
   ]
  },
  {
   "cell_type": "markdown",
   "metadata": {},
   "source": [
    "### Point 3 and 4 - user statistics and classes served statistics"
   ]
  },
  {
   "cell_type": "code",
   "execution_count": 533,
   "metadata": {},
   "outputs": [
    {
     "name": "stdout",
     "output_type": "stream",
     "text": [
      "Obtained Salesforce access token ...... True\n"
     ]
    }
   ],
   "source": [
    "db_3 = DB2SalesforceAPI(sf_login_params)\n",
    "db_3.object_id = 'Organization__c'\n",
    "db_3.external_id = 'Id'"
   ]
  },
  {
   "cell_type": "markdown",
   "metadata": {},
   "source": [
    "#### total clustered users"
   ]
  },
  {
   "cell_type": "code",
   "execution_count": 534,
   "metadata": {},
   "outputs": [],
   "source": [
    "tcu_df = pd.DataFrame(columns=['Id','Total_Clustered_Users__c'])\n",
    "tcu_df['Id'] = unique_orgs"
   ]
  },
  {
   "cell_type": "code",
   "execution_count": 535,
   "metadata": {},
   "outputs": [],
   "source": [
    "tcu_counter = 0\n",
    "for i in unique_orgs:\n",
    "    total_clustered_users = 0\n",
    "    for j in org_ind_dict[i]:\n",
    "        total_clustered_users += sf_df.iloc[j,1]\n",
    "        \n",
    "    tcu_df.iloc[tcu_counter,1] = deepcopy(total_clustered_users)\n",
    "    \n",
    "    tcu_counter += 1"
   ]
  },
  {
   "cell_type": "code",
   "execution_count": 536,
   "metadata": {},
   "outputs": [
    {
     "data": {
      "text/html": [
       "<div>\n",
       "<style scoped>\n",
       "    .dataframe tbody tr th:only-of-type {\n",
       "        vertical-align: middle;\n",
       "    }\n",
       "\n",
       "    .dataframe tbody tr th {\n",
       "        vertical-align: top;\n",
       "    }\n",
       "\n",
       "    .dataframe thead th {\n",
       "        text-align: right;\n",
       "    }\n",
       "</style>\n",
       "<table border=\"1\" class=\"dataframe\">\n",
       "  <thead>\n",
       "    <tr style=\"text-align: right;\">\n",
       "      <th></th>\n",
       "      <th>Id</th>\n",
       "      <th>Total_Clustered_Users__c</th>\n",
       "    </tr>\n",
       "  </thead>\n",
       "  <tbody>\n",
       "    <tr>\n",
       "      <th>0</th>\n",
       "      <td>a0r5w00000V42cCAAR</td>\n",
       "      <td>17098</td>\n",
       "    </tr>\n",
       "    <tr>\n",
       "      <th>1</th>\n",
       "      <td>a0r5w00000V42iyAAB</td>\n",
       "      <td>297</td>\n",
       "    </tr>\n",
       "    <tr>\n",
       "      <th>2</th>\n",
       "      <td>a0r5w00000V42liAAB</td>\n",
       "      <td>8034</td>\n",
       "    </tr>\n",
       "    <tr>\n",
       "      <th>3</th>\n",
       "      <td>a0r5w00000V42c0AAB</td>\n",
       "      <td>102</td>\n",
       "    </tr>\n",
       "    <tr>\n",
       "      <th>4</th>\n",
       "      <td>a0r5w00000V42ikAAB</td>\n",
       "      <td>7193</td>\n",
       "    </tr>\n",
       "  </tbody>\n",
       "</table>\n",
       "</div>"
      ],
      "text/plain": [
       "                   Id Total_Clustered_Users__c\n",
       "0  a0r5w00000V42cCAAR                    17098\n",
       "1  a0r5w00000V42iyAAB                      297\n",
       "2  a0r5w00000V42liAAB                     8034\n",
       "3  a0r5w00000V42c0AAB                      102\n",
       "4  a0r5w00000V42ikAAB                     7193"
      ]
     },
     "metadata": {},
     "output_type": "display_data"
    }
   ],
   "source": [
    "display(tcu_df.head(5))"
   ]
  },
  {
   "cell_type": "code",
   "execution_count": 537,
   "metadata": {},
   "outputs": [
    {
     "name": "stdout",
     "output_type": "stream",
     "text": [
      "[Success] Bulk job creation successful. Job ID = 7505w00000THPItAAP\n",
      "hello\n",
      "[Success] CSV upload successful. Job ID = 7505w00000THPItAAP\n",
      "[Success] Closing job successful. Job ID = 7505w00000THPItAAP\n"
     ]
    }
   ],
   "source": [
    "db_3.send_data(tcu_df)"
   ]
  },
  {
   "cell_type": "code",
   "execution_count": 538,
   "metadata": {},
   "outputs": [
    {
     "data": {
      "text/plain": [
       "{'id': '7505w00000THPItAAP',\n",
       " 'operation': 'upsert',\n",
       " 'object': 'organization__c',\n",
       " 'createdById': '0055w00000DM5bOAAT',\n",
       " 'createdDate': '2021-01-13T04:53:35.000+0000',\n",
       " 'systemModstamp': '2021-01-13T04:53:36.000+0000',\n",
       " 'state': 'InProgress',\n",
       " 'externalIdFieldName': 'Id',\n",
       " 'concurrencyMode': 'Parallel',\n",
       " 'contentType': 'CSV',\n",
       " 'apiVersion': 47.0,\n",
       " 'jobType': 'V2Ingest',\n",
       " 'lineEnding': 'LF',\n",
       " 'columnDelimiter': 'COMMA',\n",
       " 'numberRecordsProcessed': 0,\n",
       " 'numberRecordsFailed': 0,\n",
       " 'retries': 0,\n",
       " 'totalProcessingTime': 0,\n",
       " 'apiActiveProcessingTime': 0,\n",
       " 'apexProcessingTime': 0}"
      ]
     },
     "execution_count": 538,
     "metadata": {},
     "output_type": "execute_result"
    }
   ],
   "source": [
    "db_3.check_bulk_status()"
   ]
  },
  {
   "cell_type": "code",
   "execution_count": 539,
   "metadata": {},
   "outputs": [
    {
     "name": "stdout",
     "output_type": "stream",
     "text": [
      "''\n"
     ]
    }
   ],
   "source": [
    "pprint(db_3.check_bulk_failed_results())"
   ]
  },
  {
   "cell_type": "markdown",
   "metadata": {},
   "source": [
    "#### weekly clustered users and weekly classes"
   ]
  },
  {
   "cell_type": "code",
   "execution_count": 540,
   "metadata": {},
   "outputs": [],
   "source": [
    "## first, need to find earliest start and latest stop per institution\n",
    "estart = [] \n",
    "lstop = [] "
   ]
  },
  {
   "cell_type": "code",
   "execution_count": 541,
   "metadata": {},
   "outputs": [],
   "source": [
    "## record estart and lstop\n",
    "for i in unique_orgs:\n",
    "    estart_temp = datetime.datetime.strptime('2022-01-01','%Y-%m-%d')\n",
    "    lstop_temp = datetime.datetime.strptime('2000-01-01','%Y-%m-%d')\n",
    "    \n",
    "    for j in org_ind_dict[i]: \n",
    "        start_date = datetime.datetime.strptime(sf_df.iloc[j,-1],'%Y-%m-%d') \n",
    "        end_date = datetime.datetime.strptime(sf_df.iloc[j,0],'%Y-%m-%d')\n",
    "        \n",
    "        if start_date <= estart_temp:\n",
    "            estart_temp = deepcopy(start_date)\n",
    "        \n",
    "        if end_date >= lstop_temp:\n",
    "            lstop_temp = deepcopy(end_date)\n",
    "    \n",
    "    estart.append(estart_temp) #indexed according to unique orgs\n",
    "    lstop.append(lstop_temp)"
   ]
  },
  {
   "cell_type": "code",
   "execution_count": 542,
   "metadata": {},
   "outputs": [
    {
     "name": "stdout",
     "output_type": "stream",
     "text": [
      "327 327\n",
      "327\n"
     ]
    }
   ],
   "source": [
    "print(len(lstop),len(estart))\n",
    "print(len(unique_orgs))"
   ]
  },
  {
   "cell_type": "code",
   "execution_count": 543,
   "metadata": {},
   "outputs": [],
   "source": [
    "## build holder variables [both are orgnization IDs]\n",
    "weekly_classes_df = pd.DataFrame(columns=['Id','Avg_Week_Classes__c','Max_Week_Classes__c'])\n",
    "weekly_users_df = pd.DataFrame(columns=['Id','Avg_Week_Users__c','Max_Week_Users__c'])\n",
    "\n",
    "weekly_classes_df['Id'] = unique_orgs\n",
    "weekly_users_df['Id'] = unique_orgs"
   ]
  },
  {
   "cell_type": "code",
   "execution_count": 544,
   "metadata": {},
   "outputs": [],
   "source": [
    "### The sequential time based classroom calculation needs a discussion on the definition of a week\n",
    "### currently - if a class ends exactly when another week begins it is counted as belonging to both weeks (e.g.)"
   ]
  },
  {
   "cell_type": "code",
   "execution_count": 545,
   "metadata": {},
   "outputs": [],
   "source": [
    "## begin sequential test\n",
    "# for each org and while time permits find the number of classes per week + number of people in said classes\n",
    "for i in unique_orgs:\n",
    "    # build list of times\n",
    "    week_timing_start = estart[unique_orgs.index(i)]\n",
    "    week_timing_end = week_timing_start + datetime.timedelta(days=6) #not days=7 because of arithmetic\n",
    "    \n",
    "    weekly_classes = []\n",
    "    weekly_users = []\n",
    "    \n",
    "    init_week = True\n",
    "    \n",
    "    ## develop week_timing_end threshold\n",
    "    total_week_timing = lstop[unique_orgs.index(i)] - estart[unique_orgs.index(i)]\n",
    "    if total_week_timing.days % 6 == 0: # perfectly divisible\n",
    "        week_end_thresh = lstop[unique_orgs.index(i)]\n",
    "    else:\n",
    "        ## account for undershooting (we need to add days)\n",
    "        if (lstop[unique_orgs.index(i)] + datetime.timedelta(days= total_week_timing.days%6) \\\n",
    "            - estart[unique_orgs.index(i)]).days%6 == 0:\n",
    "            week_end_thresh = lstop[unique_orgs.index(i)] + datetime.timedelta(days= total_week_timing.days%6)\n",
    "        else: ## accounting for overshooting\n",
    "            week_end_thresh = lstop[unique_orgs.index(i)] + datetime.timedelta(days= 7 - (total_week_timing.days%6))\n",
    "    \n",
    "    #print(week_end_thresh)\n",
    "    \n",
    "    while init_week == True or week_timing_end <= week_end_thresh:\n",
    "        init_week = False\n",
    "        \n",
    "        this_week_classes = 0\n",
    "        this_week_users = 0\n",
    "        \n",
    "        for j in org_ind_dict[i]:\n",
    "            #check if start and end dates encompass current week\n",
    "            start_date = datetime.datetime.strptime(sf_df.iloc[j,-1],'%Y-%m-%d') \n",
    "            end_date = datetime.datetime.strptime(sf_df.iloc[j,0],'%Y-%m-%d')\n",
    "            \n",
    "            #print(start_date,end_date)\n",
    "            #print(week_timing_start,week_timing_end)\n",
    "            #print(start_date <= week_timing_end)\n",
    "            \n",
    "            if end_date < week_timing_start or start_date > week_timing_end: #case 1 - ( ) [ ]; case 2- [ ] ( )\n",
    "                this_week_classes += 0\n",
    "                this_week_users += 0\n",
    "            else:\n",
    "                #case 3 - [ ( ) ], 4 -( [ ] ), 5 - ( [ ) ], 6 - [ ( ] )\n",
    "                this_week_classes += 1\n",
    "                this_week_users += sf_df.iloc[j,1]\n",
    "            \n",
    "            #print(this_week_classes)\n",
    "            #print(this_week_users)\n",
    "            \n",
    "        weekly_classes.append(this_week_classes)\n",
    "        weekly_users.append(this_week_users)\n",
    "        \n",
    "        week_timing_start += datetime.timedelta(days=6) #see title for why 6 and not 7\n",
    "        week_timing_end += datetime.timedelta(days=6)\n",
    "        \n",
    "        #print(lstop[unique_orgs.index(i)])\n",
    "        #print(week_timing_end)\n",
    "        \n",
    "    weekly_classes_df.iloc[unique_orgs.index(i),1] = statistics.mean(weekly_classes)\n",
    "    weekly_classes_df.iloc[unique_orgs.index(i),2] = max(weekly_classes)\n",
    "    \n",
    "    weekly_users_df.iloc[unique_orgs.index(i),1] = statistics.mean(weekly_users)\n",
    "    weekly_users_df.iloc[unique_orgs.index(i),2] = max(weekly_users)"
   ]
  },
  {
   "cell_type": "code",
   "execution_count": 546,
   "metadata": {},
   "outputs": [
    {
     "data": {
      "text/html": [
       "<div>\n",
       "<style scoped>\n",
       "    .dataframe tbody tr th:only-of-type {\n",
       "        vertical-align: middle;\n",
       "    }\n",
       "\n",
       "    .dataframe tbody tr th {\n",
       "        vertical-align: top;\n",
       "    }\n",
       "\n",
       "    .dataframe thead th {\n",
       "        text-align: right;\n",
       "    }\n",
       "</style>\n",
       "<table border=\"1\" class=\"dataframe\">\n",
       "  <thead>\n",
       "    <tr style=\"text-align: right;\">\n",
       "      <th></th>\n",
       "      <th>Id</th>\n",
       "      <th>Avg_Week_Classes__c</th>\n",
       "      <th>Max_Week_Classes__c</th>\n",
       "    </tr>\n",
       "  </thead>\n",
       "  <tbody>\n",
       "    <tr>\n",
       "      <th>0</th>\n",
       "      <td>a0r5w00000V42cCAAR</td>\n",
       "      <td>2.26889</td>\n",
       "      <td>8</td>\n",
       "    </tr>\n",
       "    <tr>\n",
       "      <th>1</th>\n",
       "      <td>a0r5w00000V42iyAAB</td>\n",
       "      <td>0.142857</td>\n",
       "      <td>3</td>\n",
       "    </tr>\n",
       "    <tr>\n",
       "      <th>2</th>\n",
       "      <td>a0r5w00000V42liAAB</td>\n",
       "      <td>0.870488</td>\n",
       "      <td>5</td>\n",
       "    </tr>\n",
       "    <tr>\n",
       "      <th>3</th>\n",
       "      <td>a0r5w00000V42c0AAB</td>\n",
       "      <td>0.0318772</td>\n",
       "      <td>1</td>\n",
       "    </tr>\n",
       "    <tr>\n",
       "      <th>4</th>\n",
       "      <td>a0r5w00000V42ikAAB</td>\n",
       "      <td>0.334334</td>\n",
       "      <td>4</td>\n",
       "    </tr>\n",
       "  </tbody>\n",
       "</table>\n",
       "</div>"
      ],
      "text/plain": [
       "                   Id Avg_Week_Classes__c Max_Week_Classes__c\n",
       "0  a0r5w00000V42cCAAR             2.26889                   8\n",
       "1  a0r5w00000V42iyAAB            0.142857                   3\n",
       "2  a0r5w00000V42liAAB            0.870488                   5\n",
       "3  a0r5w00000V42c0AAB           0.0318772                   1\n",
       "4  a0r5w00000V42ikAAB            0.334334                   4"
      ]
     },
     "metadata": {},
     "output_type": "display_data"
    },
    {
     "data": {
      "text/html": [
       "<div>\n",
       "<style scoped>\n",
       "    .dataframe tbody tr th:only-of-type {\n",
       "        vertical-align: middle;\n",
       "    }\n",
       "\n",
       "    .dataframe tbody tr th {\n",
       "        vertical-align: top;\n",
       "    }\n",
       "\n",
       "    .dataframe thead th {\n",
       "        text-align: right;\n",
       "    }\n",
       "</style>\n",
       "<table border=\"1\" class=\"dataframe\">\n",
       "  <thead>\n",
       "    <tr style=\"text-align: right;\">\n",
       "      <th></th>\n",
       "      <th>Id</th>\n",
       "      <th>Avg_Week_Classes__c</th>\n",
       "      <th>Max_Week_Classes__c</th>\n",
       "    </tr>\n",
       "  </thead>\n",
       "  <tbody>\n",
       "    <tr>\n",
       "      <th>322</th>\n",
       "      <td>a0r5w00000V42z8AAB</td>\n",
       "      <td>1</td>\n",
       "      <td>1</td>\n",
       "    </tr>\n",
       "    <tr>\n",
       "      <th>323</th>\n",
       "      <td>a0r5w00000V43GaAAJ</td>\n",
       "      <td>1</td>\n",
       "      <td>1</td>\n",
       "    </tr>\n",
       "    <tr>\n",
       "      <th>324</th>\n",
       "      <td>a0r5w00000V43HQAAZ</td>\n",
       "      <td>1</td>\n",
       "      <td>1</td>\n",
       "    </tr>\n",
       "    <tr>\n",
       "      <th>325</th>\n",
       "      <td>a0r5w00000V42c4AAB</td>\n",
       "      <td>1</td>\n",
       "      <td>1</td>\n",
       "    </tr>\n",
       "    <tr>\n",
       "      <th>326</th>\n",
       "      <td>a0r5w00000V43DFAAZ</td>\n",
       "      <td>1</td>\n",
       "      <td>1</td>\n",
       "    </tr>\n",
       "  </tbody>\n",
       "</table>\n",
       "</div>"
      ],
      "text/plain": [
       "                     Id Avg_Week_Classes__c Max_Week_Classes__c\n",
       "322  a0r5w00000V42z8AAB                   1                   1\n",
       "323  a0r5w00000V43GaAAJ                   1                   1\n",
       "324  a0r5w00000V43HQAAZ                   1                   1\n",
       "325  a0r5w00000V42c4AAB                   1                   1\n",
       "326  a0r5w00000V43DFAAZ                   1                   1"
      ]
     },
     "metadata": {},
     "output_type": "display_data"
    }
   ],
   "source": [
    "display(weekly_classes_df.head(5))\n",
    "display(weekly_classes_df.tail(5))"
   ]
  },
  {
   "cell_type": "code",
   "execution_count": 547,
   "metadata": {},
   "outputs": [
    {
     "data": {
      "text/html": [
       "<div>\n",
       "<style scoped>\n",
       "    .dataframe tbody tr th:only-of-type {\n",
       "        vertical-align: middle;\n",
       "    }\n",
       "\n",
       "    .dataframe tbody tr th {\n",
       "        vertical-align: top;\n",
       "    }\n",
       "\n",
       "    .dataframe thead th {\n",
       "        text-align: right;\n",
       "    }\n",
       "</style>\n",
       "<table border=\"1\" class=\"dataframe\">\n",
       "  <thead>\n",
       "    <tr style=\"text-align: right;\">\n",
       "      <th></th>\n",
       "      <th>Id</th>\n",
       "      <th>Avg_Week_Users__c</th>\n",
       "      <th>Max_Week_Users__c</th>\n",
       "    </tr>\n",
       "  </thead>\n",
       "  <tbody>\n",
       "    <tr>\n",
       "      <th>0</th>\n",
       "      <td>a0r5w00000V42cCAAR</td>\n",
       "      <td>218.154</td>\n",
       "      <td>1132</td>\n",
       "    </tr>\n",
       "    <tr>\n",
       "      <th>1</th>\n",
       "      <td>a0r5w00000V42iyAAB</td>\n",
       "      <td>3.16558</td>\n",
       "      <td>66</td>\n",
       "    </tr>\n",
       "    <tr>\n",
       "      <th>2</th>\n",
       "      <td>a0r5w00000V42liAAB</td>\n",
       "      <td>98.1083</td>\n",
       "      <td>517</td>\n",
       "    </tr>\n",
       "    <tr>\n",
       "      <th>3</th>\n",
       "      <td>a0r5w00000V42c0AAB</td>\n",
       "      <td>0.400236</td>\n",
       "      <td>36</td>\n",
       "    </tr>\n",
       "    <tr>\n",
       "      <th>4</th>\n",
       "      <td>a0r5w00000V42ikAAB</td>\n",
       "      <td>44.2603</td>\n",
       "      <td>1046</td>\n",
       "    </tr>\n",
       "  </tbody>\n",
       "</table>\n",
       "</div>"
      ],
      "text/plain": [
       "                   Id Avg_Week_Users__c Max_Week_Users__c\n",
       "0  a0r5w00000V42cCAAR           218.154              1132\n",
       "1  a0r5w00000V42iyAAB           3.16558                66\n",
       "2  a0r5w00000V42liAAB           98.1083               517\n",
       "3  a0r5w00000V42c0AAB          0.400236                36\n",
       "4  a0r5w00000V42ikAAB           44.2603              1046"
      ]
     },
     "metadata": {},
     "output_type": "display_data"
    },
    {
     "data": {
      "text/html": [
       "<div>\n",
       "<style scoped>\n",
       "    .dataframe tbody tr th:only-of-type {\n",
       "        vertical-align: middle;\n",
       "    }\n",
       "\n",
       "    .dataframe tbody tr th {\n",
       "        vertical-align: top;\n",
       "    }\n",
       "\n",
       "    .dataframe thead th {\n",
       "        text-align: right;\n",
       "    }\n",
       "</style>\n",
       "<table border=\"1\" class=\"dataframe\">\n",
       "  <thead>\n",
       "    <tr style=\"text-align: right;\">\n",
       "      <th></th>\n",
       "      <th>Id</th>\n",
       "      <th>Avg_Week_Users__c</th>\n",
       "      <th>Max_Week_Users__c</th>\n",
       "    </tr>\n",
       "  </thead>\n",
       "  <tbody>\n",
       "    <tr>\n",
       "      <th>322</th>\n",
       "      <td>a0r5w00000V42z8AAB</td>\n",
       "      <td>14</td>\n",
       "      <td>14</td>\n",
       "    </tr>\n",
       "    <tr>\n",
       "      <th>323</th>\n",
       "      <td>a0r5w00000V43GaAAJ</td>\n",
       "      <td>13</td>\n",
       "      <td>13</td>\n",
       "    </tr>\n",
       "    <tr>\n",
       "      <th>324</th>\n",
       "      <td>a0r5w00000V43HQAAZ</td>\n",
       "      <td>23</td>\n",
       "      <td>23</td>\n",
       "    </tr>\n",
       "    <tr>\n",
       "      <th>325</th>\n",
       "      <td>a0r5w00000V42c4AAB</td>\n",
       "      <td>11</td>\n",
       "      <td>11</td>\n",
       "    </tr>\n",
       "    <tr>\n",
       "      <th>326</th>\n",
       "      <td>a0r5w00000V43DFAAZ</td>\n",
       "      <td>15</td>\n",
       "      <td>15</td>\n",
       "    </tr>\n",
       "  </tbody>\n",
       "</table>\n",
       "</div>"
      ],
      "text/plain": [
       "                     Id Avg_Week_Users__c Max_Week_Users__c\n",
       "322  a0r5w00000V42z8AAB                14                14\n",
       "323  a0r5w00000V43GaAAJ                13                13\n",
       "324  a0r5w00000V43HQAAZ                23                23\n",
       "325  a0r5w00000V42c4AAB                11                11\n",
       "326  a0r5w00000V43DFAAZ                15                15"
      ]
     },
     "metadata": {},
     "output_type": "display_data"
    }
   ],
   "source": [
    "display(weekly_users_df.head(5))\n",
    "display(weekly_users_df.tail(5))"
   ]
  },
  {
   "cell_type": "code",
   "execution_count": 548,
   "metadata": {},
   "outputs": [
    {
     "name": "stdout",
     "output_type": "stream",
     "text": [
      "Obtained Salesforce access token ...... True\n"
     ]
    }
   ],
   "source": [
    "db_4 = DB2SalesforceAPI(sf_login_params)"
   ]
  },
  {
   "cell_type": "code",
   "execution_count": 549,
   "metadata": {},
   "outputs": [],
   "source": [
    "db_4.external_id = 'Id'\n",
    "db_4.object_id = 'Organization__c'"
   ]
  },
  {
   "cell_type": "code",
   "execution_count": 550,
   "metadata": {},
   "outputs": [
    {
     "name": "stdout",
     "output_type": "stream",
     "text": [
      "[Success] Bulk job creation successful. Job ID = 7505w00000THPJcAAP\n",
      "hello\n",
      "[Success] CSV upload successful. Job ID = 7505w00000THPJcAAP\n",
      "[Success] Closing job successful. Job ID = 7505w00000THPJcAAP\n"
     ]
    }
   ],
   "source": [
    "db_4.send_data(weekly_classes_df)"
   ]
  },
  {
   "cell_type": "code",
   "execution_count": 551,
   "metadata": {},
   "outputs": [
    {
     "data": {
      "text/plain": [
       "{'id': '7505w00000THPJcAAP',\n",
       " 'operation': 'upsert',\n",
       " 'object': 'organization__c',\n",
       " 'createdById': '0055w00000DM5bOAAT',\n",
       " 'createdDate': '2021-01-13T04:56:23.000+0000',\n",
       " 'systemModstamp': '2021-01-13T04:56:26.000+0000',\n",
       " 'state': 'InProgress',\n",
       " 'externalIdFieldName': 'Id',\n",
       " 'concurrencyMode': 'Parallel',\n",
       " 'contentType': 'CSV',\n",
       " 'apiVersion': 47.0,\n",
       " 'jobType': 'V2Ingest',\n",
       " 'lineEnding': 'LF',\n",
       " 'columnDelimiter': 'COMMA',\n",
       " 'numberRecordsProcessed': 0,\n",
       " 'numberRecordsFailed': 0,\n",
       " 'retries': 0,\n",
       " 'totalProcessingTime': 0,\n",
       " 'apiActiveProcessingTime': 0,\n",
       " 'apexProcessingTime': 0}"
      ]
     },
     "execution_count": 551,
     "metadata": {},
     "output_type": "execute_result"
    }
   ],
   "source": [
    "db_4.check_bulk_status()"
   ]
  },
  {
   "cell_type": "code",
   "execution_count": 552,
   "metadata": {},
   "outputs": [
    {
     "name": "stdout",
     "output_type": "stream",
     "text": [
      "''\n"
     ]
    }
   ],
   "source": [
    "pprint(db_4.check_bulk_failed_results())"
   ]
  },
  {
   "cell_type": "code",
   "execution_count": 553,
   "metadata": {},
   "outputs": [
    {
     "name": "stdout",
     "output_type": "stream",
     "text": [
      "Obtained Salesforce access token ...... True\n"
     ]
    }
   ],
   "source": [
    "db_5 = DB2SalesforceAPI(sf_login_params)"
   ]
  },
  {
   "cell_type": "code",
   "execution_count": 554,
   "metadata": {},
   "outputs": [],
   "source": [
    "db_5.external_id = 'Id'\n",
    "db_5.object_id = 'Organization__c'"
   ]
  },
  {
   "cell_type": "code",
   "execution_count": 555,
   "metadata": {},
   "outputs": [
    {
     "name": "stdout",
     "output_type": "stream",
     "text": [
      "[Success] Bulk job creation successful. Job ID = 7505w00000THPJhAAP\n",
      "hello\n",
      "[Success] CSV upload successful. Job ID = 7505w00000THPJhAAP\n",
      "[Success] Closing job successful. Job ID = 7505w00000THPJhAAP\n"
     ]
    }
   ],
   "source": [
    "db_5.send_data(weekly_users_df)"
   ]
  },
  {
   "cell_type": "code",
   "execution_count": 556,
   "metadata": {},
   "outputs": [
    {
     "data": {
      "text/plain": [
       "{'id': '7505w00000THPJhAAP',\n",
       " 'operation': 'upsert',\n",
       " 'object': 'organization__c',\n",
       " 'createdById': '0055w00000DM5bOAAT',\n",
       " 'createdDate': '2021-01-13T04:56:27.000+0000',\n",
       " 'systemModstamp': '2021-01-13T04:56:28.000+0000',\n",
       " 'state': 'InProgress',\n",
       " 'externalIdFieldName': 'Id',\n",
       " 'concurrencyMode': 'Parallel',\n",
       " 'contentType': 'CSV',\n",
       " 'apiVersion': 47.0,\n",
       " 'jobType': 'V2Ingest',\n",
       " 'lineEnding': 'LF',\n",
       " 'columnDelimiter': 'COMMA',\n",
       " 'numberRecordsProcessed': 0,\n",
       " 'numberRecordsFailed': 0,\n",
       " 'retries': 0,\n",
       " 'totalProcessingTime': 0,\n",
       " 'apiActiveProcessingTime': 0,\n",
       " 'apexProcessingTime': 0}"
      ]
     },
     "execution_count": 556,
     "metadata": {},
     "output_type": "execute_result"
    }
   ],
   "source": [
    "db_5.check_bulk_status()"
   ]
  },
  {
   "cell_type": "code",
   "execution_count": 557,
   "metadata": {},
   "outputs": [
    {
     "name": "stdout",
     "output_type": "stream",
     "text": [
      "''\n"
     ]
    }
   ],
   "source": [
    "pprint(db_5.check_bulk_failed_results())"
   ]
  },
  {
   "cell_type": "markdown",
   "metadata": {},
   "source": [
    "#### semester clustered users and classes (avg and max)"
   ]
  },
  {
   "cell_type": "code",
   "execution_count": 558,
   "metadata": {},
   "outputs": [],
   "source": [
    "## build semester timing table\n",
    "# spring > summer > fall sequence\n",
    "sem_dict_timing = {'Spring':0,'Summer':1,'Fall':2}\n",
    "\n",
    "sstart = []\n",
    "sstop = []\n",
    "eff_year = ['init']\n",
    "end_eff_year = ['init']"
   ]
  },
  {
   "cell_type": "code",
   "execution_count": 559,
   "metadata": {},
   "outputs": [
    {
     "data": {
      "text/html": [
       "<div>\n",
       "<style scoped>\n",
       "    .dataframe tbody tr th:only-of-type {\n",
       "        vertical-align: middle;\n",
       "    }\n",
       "\n",
       "    .dataframe tbody tr th {\n",
       "        vertical-align: top;\n",
       "    }\n",
       "\n",
       "    .dataframe thead th {\n",
       "        text-align: right;\n",
       "    }\n",
       "</style>\n",
       "<table border=\"1\" class=\"dataframe\">\n",
       "  <thead>\n",
       "    <tr style=\"text-align: right;\">\n",
       "      <th></th>\n",
       "      <th>Ending_Date__c</th>\n",
       "      <th>Estimated_cluster_size__c</th>\n",
       "      <th>Organization__c</th>\n",
       "      <th>Semester__c</th>\n",
       "      <th>Starting_Date__c</th>\n",
       "    </tr>\n",
       "  </thead>\n",
       "  <tbody>\n",
       "    <tr>\n",
       "      <th>0</th>\n",
       "      <td>2013-09-20</td>\n",
       "      <td>125.0</td>\n",
       "      <td>a0r5w00000V42cCAAR</td>\n",
       "      <td>Fall</td>\n",
       "      <td>2013-09-13</td>\n",
       "    </tr>\n",
       "    <tr>\n",
       "      <th>2</th>\n",
       "      <td>2018-11-30</td>\n",
       "      <td>5.0</td>\n",
       "      <td>a0r5w00000V42iyAAB</td>\n",
       "      <td>Fall</td>\n",
       "      <td>2018-11-29</td>\n",
       "    </tr>\n",
       "    <tr>\n",
       "      <th>3</th>\n",
       "      <td>2019-11-28</td>\n",
       "      <td>44.0</td>\n",
       "      <td>a0r5w00000V42iyAAB</td>\n",
       "      <td>Fall</td>\n",
       "      <td>2019-11-04</td>\n",
       "    </tr>\n",
       "    <tr>\n",
       "      <th>4</th>\n",
       "      <td>2017-12-16</td>\n",
       "      <td>66.0</td>\n",
       "      <td>a0r5w00000V42cCAAR</td>\n",
       "      <td>Fall</td>\n",
       "      <td>2017-10-03</td>\n",
       "    </tr>\n",
       "    <tr>\n",
       "      <th>5</th>\n",
       "      <td>2018-01-21</td>\n",
       "      <td>18.0</td>\n",
       "      <td>a0r5w00000V42cCAAR</td>\n",
       "      <td>Spring</td>\n",
       "      <td>2018-01-15</td>\n",
       "    </tr>\n",
       "  </tbody>\n",
       "</table>\n",
       "</div>"
      ],
      "text/plain": [
       "  Ending_Date__c  Estimated_cluster_size__c     Organization__c Semester__c  \\\n",
       "0     2013-09-20                      125.0  a0r5w00000V42cCAAR        Fall   \n",
       "2     2018-11-30                        5.0  a0r5w00000V42iyAAB        Fall   \n",
       "3     2019-11-28                       44.0  a0r5w00000V42iyAAB        Fall   \n",
       "4     2017-12-16                       66.0  a0r5w00000V42cCAAR        Fall   \n",
       "5     2018-01-21                       18.0  a0r5w00000V42cCAAR      Spring   \n",
       "\n",
       "  Starting_Date__c  \n",
       "0       2013-09-13  \n",
       "2       2018-11-29  \n",
       "3       2019-11-04  \n",
       "4       2017-10-03  \n",
       "5       2018-01-15  "
      ]
     },
     "execution_count": 559,
     "metadata": {},
     "output_type": "execute_result"
    }
   ],
   "source": [
    "sf_df.head(5)"
   ]
  },
  {
   "cell_type": "code",
   "execution_count": 560,
   "metadata": {},
   "outputs": [],
   "source": [
    "## record estart and lstop\n",
    "for i in unique_orgs:\n",
    "    sstart_temp = 2022\n",
    "    sstop_temp = 2000\n",
    "    \n",
    "    earliest = 5 #default NaN\n",
    "    latest = 5 #default NaN\n",
    "    \n",
    "    for j in org_ind_dict[i]: \n",
    "        sem = sf_df.iloc[j,-2]\n",
    "        \n",
    "        syear = datetime.datetime.strptime(sf_df.iloc[j,-1],'%Y-%m-%d') \n",
    "        eyear = datetime.datetime.strptime(sf_df.iloc[j,0],'%Y-%m-%d') \n",
    "        \n",
    "        if syear.year < sstart_temp:\n",
    "            sstart_temp = deepcopy(syear.year)\n",
    "        \n",
    "        if eyear.year > sstop_temp: \n",
    "            sstop_temp = deepcopy(eyear.year)\n",
    "            \n",
    "        ## try to find earliest combination\n",
    "        if earliest == 5:\n",
    "            # find all semesters belonging to the earliest year\n",
    "            earliest = deepcopy(sem)\n",
    "        else:\n",
    "            if syear.year < sstart_temp:\n",
    "                earliest = deepcopy(sem)\n",
    "            elif syear.year == sstart_temp: #less is better here        \n",
    "                earliest = list(sem_dict_timing.keys())[min([sem_dict_timing[earliest],sem_dict_timing[sem]])] \n",
    "            #else:\n",
    "                #print('error')\n",
    "            \n",
    "        ## try to find latest combination\n",
    "        if latest == 5:\n",
    "            # find all semesters belonging to the earliest year\n",
    "            latest = deepcopy(sem)\n",
    "        else:\n",
    "            if eyear.year > sstop_temp:\n",
    "                latest = deepcopy(sem)\n",
    "            elif eyear.year == sstop_temp: #less is better here        \n",
    "                latest = list(sem_dict_timing.keys())[max([sem_dict_timing[earliest],sem_dict_timing[sem]])] \n",
    "            #else:\n",
    "                #print('error')\n",
    "                \n",
    "        ## may do some kind of adjustment here later\n",
    "        #if syear.year != eyear.year: #use start year\n",
    "        #    eff_year = str(syear.year)\n",
    "        #else:\n",
    "        #    eff_year = str(syear.year)\n",
    "    \n",
    "    eff_year.append([sstart_temp,earliest])\n",
    "    end_eff_year.append([sstop_temp,latest])\n",
    "    sstart.append(sstart_temp) #indexed according to unique orgs\n",
    "    sstop.append(sstop_temp)"
   ]
  },
  {
   "cell_type": "code",
   "execution_count": 561,
   "metadata": {},
   "outputs": [
    {
     "name": "stdout",
     "output_type": "stream",
     "text": [
      "[[2000, 'Spring'], [2015, 'Fall'], [2005, 'Spring']]\n",
      "[[2020, 'Fall'], [2020, 'Fall'], [2020, 'Fall']]\n",
      "327 327\n",
      "327 327\n"
     ]
    }
   ],
   "source": [
    "if eff_year[0] == 'init':\n",
    "    del eff_year[0]\n",
    "\n",
    "if end_eff_year[0] == 'init':\n",
    "    del end_eff_year[0]\n",
    "    \n",
    "print(eff_year[:3])\n",
    "print(end_eff_year[:3])\n",
    "print(len(unique_orgs),len(eff_year))\n",
    "print(len(sstart),len(sstop))"
   ]
  },
  {
   "cell_type": "code",
   "execution_count": 562,
   "metadata": {},
   "outputs": [],
   "source": [
    "sem_classes_df = pd.DataFrame(columns=['Id','Avg_Sem_Classes__c','Max_Sem_Classes__c'])\n",
    "sem_users_df = pd.DataFrame(columns=['Id','Avg_Sem_Users__c','Max_Sem_Users__c'])\n",
    "\n",
    "sem_classes_df['Id'] = unique_orgs\n",
    "sem_users_df['Id'] = unique_orgs\n"
   ]
  },
  {
   "cell_type": "code",
   "execution_count": 563,
   "metadata": {},
   "outputs": [],
   "source": [
    "## semester calculations (need to match by year and semester name [sem_dict_timing])\n",
    "# for each org, for each year and semester, find the number of classes and users\n",
    "for i,ii in enumerate(unique_orgs):\n",
    "    # build list of times\n",
    "    sem_start = deepcopy(eff_year[i])\n",
    "    sem_end = deepcopy(sem_start)\n",
    "    \n",
    "    #if sem_start[-1] == 'Spring':\n",
    "    #    sem_end[-1] = 'Summer'\n",
    "    #elif sem_start[-1] == 'Summer':\n",
    "    #    sem_end[-1] = 'Fall'\n",
    "    #else:\n",
    "    #    sem_end[0] += 1\n",
    "    #    sem_end[1] = 'Spring'\n",
    "\n",
    "    sem_classes = []\n",
    "    sem_users = []\n",
    "    \n",
    "    while sem_end[0]+sem_dict_timing[sem_end[1]] <= end_eff_year[i][0]+sem_dict_timing[end_eff_year[i][1]]:\n",
    "        this_sem_classes = 0\n",
    "        this_sem_users = 0\n",
    "        \n",
    "        for j in org_ind_dict[ii]:            \n",
    "            ## ensure valid\n",
    "            if [datetime.datetime.strptime(sf_df.iloc[j,-1],'%Y-%m-%d').year, sf_df.iloc[j,-2]] == sem_start:\n",
    "                #print(True)\n",
    "                this_sem_classes += 1\n",
    "                this_sem_users += sf_df.iloc[j,1]\n",
    "            else:\n",
    "                this_sem_classes += 0\n",
    "                this_sem_users += 0\n",
    "            \n",
    "        sem_classes.append(this_sem_classes)\n",
    "        sem_users.append(this_sem_users)\n",
    "        \n",
    "        \n",
    "        if sem_start[-1] == 'Spring':\n",
    "            sem_start[-1] = 'Summer'\n",
    "        elif sem_start[-1] == 'Summer':\n",
    "            sem_start[-1] = 'Fall'\n",
    "        else:\n",
    "            sem_start[0] += 1\n",
    "            sem_start[1] = 'Spring'\n",
    "        \n",
    "        sem_end = deepcopy(sem_start)\n",
    "        #if sem_start[-1] == 'Spring':\n",
    "        #    sem_end[-1] = 'Summer'\n",
    "        #elif sem_start[-1] == 'Summer':\n",
    "        #    sem_end[-1] = 'Fall'\n",
    "        #else:\n",
    "        #    sem_end[0] += 1\n",
    "        #    sem_end[1] = 'Spring'\n",
    "    \n",
    "    try:\n",
    "        sem_classes_df.iloc[i,1] = statistics.mean(sem_classes)\n",
    "        sem_classes_df.iloc[i,2] = max(sem_classes)\n",
    "\n",
    "        sem_users_df.iloc[i,1] = statistics.mean(sem_users)\n",
    "        sem_users_df.iloc[i,2] = max(sem_users)\n",
    "    except:\n",
    "        print(i)\n",
    "        print(ii)\n",
    "        print(sem_classes)\n",
    "        print(sem_users)\n",
    "        break"
   ]
  },
  {
   "cell_type": "code",
   "execution_count": 564,
   "metadata": {},
   "outputs": [
    {
     "data": {
      "text/html": [
       "<div>\n",
       "<style scoped>\n",
       "    .dataframe tbody tr th:only-of-type {\n",
       "        vertical-align: middle;\n",
       "    }\n",
       "\n",
       "    .dataframe tbody tr th {\n",
       "        vertical-align: top;\n",
       "    }\n",
       "\n",
       "    .dataframe thead th {\n",
       "        text-align: right;\n",
       "    }\n",
       "</style>\n",
       "<table border=\"1\" class=\"dataframe\">\n",
       "  <thead>\n",
       "    <tr style=\"text-align: right;\">\n",
       "      <th></th>\n",
       "      <th>Id</th>\n",
       "      <th>Avg_Sem_Classes__c</th>\n",
       "      <th>Max_Sem_Classes__c</th>\n",
       "    </tr>\n",
       "  </thead>\n",
       "  <tbody>\n",
       "    <tr>\n",
       "      <th>0</th>\n",
       "      <td>a0r5w00000V42cCAAR</td>\n",
       "      <td>6.75385</td>\n",
       "      <td>27</td>\n",
       "    </tr>\n",
       "    <tr>\n",
       "      <th>1</th>\n",
       "      <td>a0r5w00000V42iyAAB</td>\n",
       "      <td>0.944444</td>\n",
       "      <td>5</td>\n",
       "    </tr>\n",
       "    <tr>\n",
       "      <th>2</th>\n",
       "      <td>a0r5w00000V42liAAB</td>\n",
       "      <td>2.78</td>\n",
       "      <td>7</td>\n",
       "    </tr>\n",
       "    <tr>\n",
       "      <th>3</th>\n",
       "      <td>a0r5w00000V42c0AAB</td>\n",
       "      <td>0.162791</td>\n",
       "      <td>1</td>\n",
       "    </tr>\n",
       "    <tr>\n",
       "      <th>4</th>\n",
       "      <td>a0r5w00000V42ikAAB</td>\n",
       "      <td>1.64151</td>\n",
       "      <td>8</td>\n",
       "    </tr>\n",
       "  </tbody>\n",
       "</table>\n",
       "</div>"
      ],
      "text/plain": [
       "                   Id Avg_Sem_Classes__c Max_Sem_Classes__c\n",
       "0  a0r5w00000V42cCAAR            6.75385                 27\n",
       "1  a0r5w00000V42iyAAB           0.944444                  5\n",
       "2  a0r5w00000V42liAAB               2.78                  7\n",
       "3  a0r5w00000V42c0AAB           0.162791                  1\n",
       "4  a0r5w00000V42ikAAB            1.64151                  8"
      ]
     },
     "metadata": {},
     "output_type": "display_data"
    },
    {
     "data": {
      "text/html": [
       "<div>\n",
       "<style scoped>\n",
       "    .dataframe tbody tr th:only-of-type {\n",
       "        vertical-align: middle;\n",
       "    }\n",
       "\n",
       "    .dataframe tbody tr th {\n",
       "        vertical-align: top;\n",
       "    }\n",
       "\n",
       "    .dataframe thead th {\n",
       "        text-align: right;\n",
       "    }\n",
       "</style>\n",
       "<table border=\"1\" class=\"dataframe\">\n",
       "  <thead>\n",
       "    <tr style=\"text-align: right;\">\n",
       "      <th></th>\n",
       "      <th>Id</th>\n",
       "      <th>Avg_Sem_Classes__c</th>\n",
       "      <th>Max_Sem_Classes__c</th>\n",
       "    </tr>\n",
       "  </thead>\n",
       "  <tbody>\n",
       "    <tr>\n",
       "      <th>322</th>\n",
       "      <td>a0r5w00000V42z8AAB</td>\n",
       "      <td>0.333333</td>\n",
       "      <td>1</td>\n",
       "    </tr>\n",
       "    <tr>\n",
       "      <th>323</th>\n",
       "      <td>a0r5w00000V43GaAAJ</td>\n",
       "      <td>0.333333</td>\n",
       "      <td>1</td>\n",
       "    </tr>\n",
       "    <tr>\n",
       "      <th>324</th>\n",
       "      <td>a0r5w00000V43HQAAZ</td>\n",
       "      <td>0.333333</td>\n",
       "      <td>1</td>\n",
       "    </tr>\n",
       "    <tr>\n",
       "      <th>325</th>\n",
       "      <td>a0r5w00000V42c4AAB</td>\n",
       "      <td>0.333333</td>\n",
       "      <td>1</td>\n",
       "    </tr>\n",
       "    <tr>\n",
       "      <th>326</th>\n",
       "      <td>a0r5w00000V43DFAAZ</td>\n",
       "      <td>0.333333</td>\n",
       "      <td>1</td>\n",
       "    </tr>\n",
       "  </tbody>\n",
       "</table>\n",
       "</div>"
      ],
      "text/plain": [
       "                     Id Avg_Sem_Classes__c Max_Sem_Classes__c\n",
       "322  a0r5w00000V42z8AAB           0.333333                  1\n",
       "323  a0r5w00000V43GaAAJ           0.333333                  1\n",
       "324  a0r5w00000V43HQAAZ           0.333333                  1\n",
       "325  a0r5w00000V42c4AAB           0.333333                  1\n",
       "326  a0r5w00000V43DFAAZ           0.333333                  1"
      ]
     },
     "metadata": {},
     "output_type": "display_data"
    }
   ],
   "source": [
    "display(sem_classes_df.head(5))\n",
    "display(sem_classes_df.tail(5))"
   ]
  },
  {
   "cell_type": "code",
   "execution_count": 565,
   "metadata": {},
   "outputs": [
    {
     "data": {
      "text/html": [
       "<div>\n",
       "<style scoped>\n",
       "    .dataframe tbody tr th:only-of-type {\n",
       "        vertical-align: middle;\n",
       "    }\n",
       "\n",
       "    .dataframe tbody tr th {\n",
       "        vertical-align: top;\n",
       "    }\n",
       "\n",
       "    .dataframe thead th {\n",
       "        text-align: right;\n",
       "    }\n",
       "</style>\n",
       "<table border=\"1\" class=\"dataframe\">\n",
       "  <thead>\n",
       "    <tr style=\"text-align: right;\">\n",
       "      <th></th>\n",
       "      <th>Id</th>\n",
       "      <th>Avg_Sem_Users__c</th>\n",
       "      <th>Max_Sem_Users__c</th>\n",
       "    </tr>\n",
       "  </thead>\n",
       "  <tbody>\n",
       "    <tr>\n",
       "      <th>0</th>\n",
       "      <td>a0r5w00000V42cCAAR</td>\n",
       "      <td>263.046</td>\n",
       "      <td>1199</td>\n",
       "    </tr>\n",
       "    <tr>\n",
       "      <th>1</th>\n",
       "      <td>a0r5w00000V42iyAAB</td>\n",
       "      <td>16.5</td>\n",
       "      <td>82</td>\n",
       "    </tr>\n",
       "    <tr>\n",
       "      <th>2</th>\n",
       "      <td>a0r5w00000V42liAAB</td>\n",
       "      <td>160.68</td>\n",
       "      <td>547</td>\n",
       "    </tr>\n",
       "    <tr>\n",
       "      <th>3</th>\n",
       "      <td>a0r5w00000V42c0AAB</td>\n",
       "      <td>2.37209</td>\n",
       "      <td>36</td>\n",
       "    </tr>\n",
       "    <tr>\n",
       "      <th>4</th>\n",
       "      <td>a0r5w00000V42ikAAB</td>\n",
       "      <td>135.717</td>\n",
       "      <td>1095</td>\n",
       "    </tr>\n",
       "  </tbody>\n",
       "</table>\n",
       "</div>"
      ],
      "text/plain": [
       "                   Id Avg_Sem_Users__c Max_Sem_Users__c\n",
       "0  a0r5w00000V42cCAAR          263.046             1199\n",
       "1  a0r5w00000V42iyAAB             16.5               82\n",
       "2  a0r5w00000V42liAAB           160.68              547\n",
       "3  a0r5w00000V42c0AAB          2.37209               36\n",
       "4  a0r5w00000V42ikAAB          135.717             1095"
      ]
     },
     "metadata": {},
     "output_type": "display_data"
    },
    {
     "data": {
      "text/html": [
       "<div>\n",
       "<style scoped>\n",
       "    .dataframe tbody tr th:only-of-type {\n",
       "        vertical-align: middle;\n",
       "    }\n",
       "\n",
       "    .dataframe tbody tr th {\n",
       "        vertical-align: top;\n",
       "    }\n",
       "\n",
       "    .dataframe thead th {\n",
       "        text-align: right;\n",
       "    }\n",
       "</style>\n",
       "<table border=\"1\" class=\"dataframe\">\n",
       "  <thead>\n",
       "    <tr style=\"text-align: right;\">\n",
       "      <th></th>\n",
       "      <th>Id</th>\n",
       "      <th>Avg_Sem_Users__c</th>\n",
       "      <th>Max_Sem_Users__c</th>\n",
       "    </tr>\n",
       "  </thead>\n",
       "  <tbody>\n",
       "    <tr>\n",
       "      <th>322</th>\n",
       "      <td>a0r5w00000V42z8AAB</td>\n",
       "      <td>4.66667</td>\n",
       "      <td>14</td>\n",
       "    </tr>\n",
       "    <tr>\n",
       "      <th>323</th>\n",
       "      <td>a0r5w00000V43GaAAJ</td>\n",
       "      <td>4.33333</td>\n",
       "      <td>13</td>\n",
       "    </tr>\n",
       "    <tr>\n",
       "      <th>324</th>\n",
       "      <td>a0r5w00000V43HQAAZ</td>\n",
       "      <td>7.66667</td>\n",
       "      <td>23</td>\n",
       "    </tr>\n",
       "    <tr>\n",
       "      <th>325</th>\n",
       "      <td>a0r5w00000V42c4AAB</td>\n",
       "      <td>3.66667</td>\n",
       "      <td>11</td>\n",
       "    </tr>\n",
       "    <tr>\n",
       "      <th>326</th>\n",
       "      <td>a0r5w00000V43DFAAZ</td>\n",
       "      <td>5</td>\n",
       "      <td>15</td>\n",
       "    </tr>\n",
       "  </tbody>\n",
       "</table>\n",
       "</div>"
      ],
      "text/plain": [
       "                     Id Avg_Sem_Users__c Max_Sem_Users__c\n",
       "322  a0r5w00000V42z8AAB          4.66667               14\n",
       "323  a0r5w00000V43GaAAJ          4.33333               13\n",
       "324  a0r5w00000V43HQAAZ          7.66667               23\n",
       "325  a0r5w00000V42c4AAB          3.66667               11\n",
       "326  a0r5w00000V43DFAAZ                5               15"
      ]
     },
     "metadata": {},
     "output_type": "display_data"
    }
   ],
   "source": [
    "display(sem_users_df.head(5))\n",
    "display(sem_users_df.tail(5))"
   ]
  },
  {
   "cell_type": "code",
   "execution_count": 566,
   "metadata": {},
   "outputs": [
    {
     "name": "stdout",
     "output_type": "stream",
     "text": [
      "[Success] Bulk job creation successful. Job ID = 7505w00000THPJmAAP\n",
      "hello\n",
      "[Success] CSV upload successful. Job ID = 7505w00000THPJmAAP\n",
      "[Success] Closing job successful. Job ID = 7505w00000THPJmAAP\n"
     ]
    }
   ],
   "source": [
    "db_4.send_data(sem_classes_df)"
   ]
  },
  {
   "cell_type": "code",
   "execution_count": 567,
   "metadata": {},
   "outputs": [
    {
     "data": {
      "text/plain": [
       "{'id': '7505w00000THPJmAAP',\n",
       " 'operation': 'upsert',\n",
       " 'object': 'organization__c',\n",
       " 'createdById': '0055w00000DM5bOAAT',\n",
       " 'createdDate': '2021-01-13T04:56:38.000+0000',\n",
       " 'systemModstamp': '2021-01-13T04:56:39.000+0000',\n",
       " 'state': 'InProgress',\n",
       " 'externalIdFieldName': 'Id',\n",
       " 'concurrencyMode': 'Parallel',\n",
       " 'contentType': 'CSV',\n",
       " 'apiVersion': 47.0,\n",
       " 'jobType': 'V2Ingest',\n",
       " 'lineEnding': 'LF',\n",
       " 'columnDelimiter': 'COMMA',\n",
       " 'numberRecordsProcessed': 0,\n",
       " 'numberRecordsFailed': 0,\n",
       " 'retries': 0,\n",
       " 'totalProcessingTime': 0,\n",
       " 'apiActiveProcessingTime': 0,\n",
       " 'apexProcessingTime': 0}"
      ]
     },
     "execution_count": 567,
     "metadata": {},
     "output_type": "execute_result"
    }
   ],
   "source": [
    "db_4.check_bulk_status()"
   ]
  },
  {
   "cell_type": "code",
   "execution_count": 568,
   "metadata": {},
   "outputs": [
    {
     "name": "stdout",
     "output_type": "stream",
     "text": [
      "''\n"
     ]
    }
   ],
   "source": [
    "pprint(db_4.check_bulk_failed_results())"
   ]
  },
  {
   "cell_type": "code",
   "execution_count": 569,
   "metadata": {},
   "outputs": [
    {
     "name": "stdout",
     "output_type": "stream",
     "text": [
      "[Success] Bulk job creation successful. Job ID = 7505w00000THPJrAAP\n",
      "hello\n",
      "[Success] CSV upload successful. Job ID = 7505w00000THPJrAAP\n",
      "[Success] Closing job successful. Job ID = 7505w00000THPJrAAP\n"
     ]
    }
   ],
   "source": [
    "db_5.send_data(sem_users_df)"
   ]
  },
  {
   "cell_type": "code",
   "execution_count": 570,
   "metadata": {},
   "outputs": [
    {
     "data": {
      "text/plain": [
       "{'id': '7505w00000THPJrAAP',\n",
       " 'operation': 'upsert',\n",
       " 'object': 'organization__c',\n",
       " 'createdById': '0055w00000DM5bOAAT',\n",
       " 'createdDate': '2021-01-13T04:56:40.000+0000',\n",
       " 'systemModstamp': '2021-01-13T04:56:42.000+0000',\n",
       " 'state': 'InProgress',\n",
       " 'externalIdFieldName': 'Id',\n",
       " 'concurrencyMode': 'Parallel',\n",
       " 'contentType': 'CSV',\n",
       " 'apiVersion': 47.0,\n",
       " 'jobType': 'V2Ingest',\n",
       " 'lineEnding': 'LF',\n",
       " 'columnDelimiter': 'COMMA',\n",
       " 'numberRecordsProcessed': 0,\n",
       " 'numberRecordsFailed': 0,\n",
       " 'retries': 0,\n",
       " 'totalProcessingTime': 0,\n",
       " 'apiActiveProcessingTime': 0,\n",
       " 'apexProcessingTime': 0}"
      ]
     },
     "execution_count": 570,
     "metadata": {},
     "output_type": "execute_result"
    }
   ],
   "source": [
    "db_5.check_bulk_status()"
   ]
  },
  {
   "cell_type": "code",
   "execution_count": 571,
   "metadata": {},
   "outputs": [
    {
     "data": {
      "text/plain": [
       "''"
      ]
     },
     "execution_count": 571,
     "metadata": {},
     "output_type": "execute_result"
    }
   ],
   "source": [
    "db_5.check_bulk_failed_results()"
   ]
  },
  {
   "cell_type": "markdown",
   "metadata": {},
   "source": [
    "### Point 5 - year-over-year statistics"
   ]
  },
  {
   "cell_type": "markdown",
   "metadata": {},
   "source": [
    "#### pull weekly usage statistics for all organizations"
   ]
  },
  {
   "cell_type": "code",
   "execution_count": 583,
   "metadata": {},
   "outputs": [],
   "source": [
    "weekly_yoy = pd.DataFrame(columns=['Id','Weekly_YoY__c'])\n",
    "weekly_yoy['Id'] = unique_orgs\n",
    "\n",
    "monthly_yoy = pd.DataFrame(columns=['Id','Monthly_YoY__c'])\n",
    "monthly_yoy['Id'] = unique_orgs"
   ]
  },
  {
   "cell_type": "code",
   "execution_count": 584,
   "metadata": {},
   "outputs": [],
   "source": [
    "## sum weekly \n",
    "for i,ii in enumerate(unique_orgs):\n",
    "    # build list of times\n",
    "    earliest_week = estart[i]\n",
    "    last_week = lstop[i]\n",
    "    \n",
    "    if last_week - earliest_week >= datetime.timedelta(days=365): #need to account for edge cases\n",
    "        ##### sufficient data to populate\n",
    "        #### perform weekly average (sum users for that year first, verify numbers before averaging)\n",
    "        ### determine year length\n",
    "        year_start = deepcopy(earliest_week)\n",
    "        year_end = year_start + datetime.timedelta(days=365)\n",
    "        \n",
    "        #print(year_start)\n",
    "        #print(year_end)\n",
    "        \n",
    "        temp_weekly_yoy = []\n",
    "        temp_monthly_yoy = []\n",
    "        \n",
    "        donezo = False\n",
    "        while year_end <= last_week and donezo == False:\n",
    "            ## calculate total users over said year\n",
    "            yearly_users = 0\n",
    "            \n",
    "            for j in org_ind_dict[ii]: #only sum those instances that fall within the current range\n",
    "                end_date = datetime.datetime.strptime(sf_df.iloc[j,0],'%Y-%m-%d') \n",
    "                start_date = datetime.datetime.strptime(sf_df.iloc[j,-1],'%Y-%m-%d') \n",
    "                \n",
    "                if end_date < year_start or start_date > year_end: #case 1 - ( ) [ ]; case 2- [ ] ( )\n",
    "                    yearly_users += 0\n",
    "                else:\n",
    "                    #case 3 - [ ( ) ], 4 -( [ ] ), 5 - ( [ ) ], 6 - [ ( ] )\n",
    "                    yearly_users += sf_df.iloc[j,1]\n",
    "            \n",
    "            temp_weekly_yoy.append(yearly_users/52)\n",
    "            temp_monthly_yoy.append(yearly_users/12)\n",
    "            \n",
    "            ## update year_end and year_start\n",
    "            if year_end + datetime.timedelta(days=365) > last_week:\n",
    "                if year_end == last_week:\n",
    "                    donezo = True\n",
    "                else:\n",
    "                    year_end = deepcopy(last_week)\n",
    "                    year_start = year_end - datetime.timedelta(days=365)\n",
    "            else:\n",
    "                year_start = deepcopy(year_end)\n",
    "                year_end = year_end + datetime.timedelta(days=365)\n",
    "            \n",
    "            #print(year_start)\n",
    "            #print(year_end)\n",
    "            #print(last_week)\n",
    "        \n",
    "        ## filtering the outputs\n",
    "        if len(temp_weekly_yoy) >= 5:\n",
    "            temp_weekly_yoy = temp_weekly_yoy[-5:]\n",
    "            temp_monthly_yoy = temp_monthly_yoy[-5:]\n",
    "        #else: do nothing\n",
    "        \n",
    "        ## issue with some years having 0 usage by institutions\n",
    "        ## drop 0s and progress\n",
    "        while 0 in temp_weekly_yoy:\n",
    "            del temp_weekly_yoy[temp_weekly_yoy.index(0)]\n",
    "        \n",
    "        while 0 in temp_monthly_yoy:\n",
    "            del temp_monthly_yoy[temp_monthly_yoy.index(0)]\n",
    "            \n",
    "        ## calculate percentage and average\n",
    "        if len(temp_weekly_yoy) > 1:\n",
    "            weekly_yoy_percents = [(temp_weekly_yoy[ind+1]-val)/val for ind,val in enumerate(temp_weekly_yoy[:-1])]\n",
    "\n",
    "            weekly_yoy.iloc[i,1] = statistics.mean(weekly_yoy_percents)\n",
    "        \n",
    "        if len(temp_monthly_yoy) > 1:\n",
    "            monthly_yoy_percents = [(temp_monthly_yoy[ind+1]-val)/val for ind,val in enumerate(temp_monthly_yoy[:-1])]\n",
    "\n",
    "            monthly_yoy.iloc[i,1] = statistics.mean(monthly_yoy_percents)"
   ]
  },
  {
   "cell_type": "code",
   "execution_count": 585,
   "metadata": {},
   "outputs": [
    {
     "data": {
      "text/html": [
       "<div>\n",
       "<style scoped>\n",
       "    .dataframe tbody tr th:only-of-type {\n",
       "        vertical-align: middle;\n",
       "    }\n",
       "\n",
       "    .dataframe tbody tr th {\n",
       "        vertical-align: top;\n",
       "    }\n",
       "\n",
       "    .dataframe thead th {\n",
       "        text-align: right;\n",
       "    }\n",
       "</style>\n",
       "<table border=\"1\" class=\"dataframe\">\n",
       "  <thead>\n",
       "    <tr style=\"text-align: right;\">\n",
       "      <th></th>\n",
       "      <th>Id</th>\n",
       "      <th>Weekly_YoY__c</th>\n",
       "    </tr>\n",
       "  </thead>\n",
       "  <tbody>\n",
       "    <tr>\n",
       "      <th>0</th>\n",
       "      <td>a0r5w00000V42cCAAR</td>\n",
       "      <td>20.152061</td>\n",
       "    </tr>\n",
       "    <tr>\n",
       "      <th>1</th>\n",
       "      <td>a0r5w00000V42iyAAB</td>\n",
       "      <td>14.369645</td>\n",
       "    </tr>\n",
       "    <tr>\n",
       "      <th>2</th>\n",
       "      <td>a0r5w00000V42liAAB</td>\n",
       "      <td>-6.305802</td>\n",
       "    </tr>\n",
       "    <tr>\n",
       "      <th>3</th>\n",
       "      <td>a0r5w00000V42c0AAB</td>\n",
       "      <td>-28.750000</td>\n",
       "    </tr>\n",
       "    <tr>\n",
       "      <th>4</th>\n",
       "      <td>a0r5w00000V42ikAAB</td>\n",
       "      <td>25.589226</td>\n",
       "    </tr>\n",
       "  </tbody>\n",
       "</table>\n",
       "</div>"
      ],
      "text/plain": [
       "                   Id  Weekly_YoY__c\n",
       "0  a0r5w00000V42cCAAR      20.152061\n",
       "1  a0r5w00000V42iyAAB      14.369645\n",
       "2  a0r5w00000V42liAAB      -6.305802\n",
       "3  a0r5w00000V42c0AAB     -28.750000\n",
       "4  a0r5w00000V42ikAAB      25.589226"
      ]
     },
     "metadata": {},
     "output_type": "display_data"
    },
    {
     "data": {
      "text/html": [
       "<div>\n",
       "<style scoped>\n",
       "    .dataframe tbody tr th:only-of-type {\n",
       "        vertical-align: middle;\n",
       "    }\n",
       "\n",
       "    .dataframe tbody tr th {\n",
       "        vertical-align: top;\n",
       "    }\n",
       "\n",
       "    .dataframe thead th {\n",
       "        text-align: right;\n",
       "    }\n",
       "</style>\n",
       "<table border=\"1\" class=\"dataframe\">\n",
       "  <thead>\n",
       "    <tr style=\"text-align: right;\">\n",
       "      <th></th>\n",
       "      <th>Id</th>\n",
       "      <th>Weekly_YoY__c</th>\n",
       "    </tr>\n",
       "  </thead>\n",
       "  <tbody>\n",
       "    <tr>\n",
       "      <th>322</th>\n",
       "      <td>a0r5w00000V42z8AAB</td>\n",
       "      <td>NaN</td>\n",
       "    </tr>\n",
       "    <tr>\n",
       "      <th>323</th>\n",
       "      <td>a0r5w00000V43GaAAJ</td>\n",
       "      <td>NaN</td>\n",
       "    </tr>\n",
       "    <tr>\n",
       "      <th>324</th>\n",
       "      <td>a0r5w00000V43HQAAZ</td>\n",
       "      <td>NaN</td>\n",
       "    </tr>\n",
       "    <tr>\n",
       "      <th>325</th>\n",
       "      <td>a0r5w00000V42c4AAB</td>\n",
       "      <td>NaN</td>\n",
       "    </tr>\n",
       "    <tr>\n",
       "      <th>326</th>\n",
       "      <td>a0r5w00000V43DFAAZ</td>\n",
       "      <td>NaN</td>\n",
       "    </tr>\n",
       "  </tbody>\n",
       "</table>\n",
       "</div>"
      ],
      "text/plain": [
       "                     Id  Weekly_YoY__c\n",
       "322  a0r5w00000V42z8AAB            NaN\n",
       "323  a0r5w00000V43GaAAJ            NaN\n",
       "324  a0r5w00000V43HQAAZ            NaN\n",
       "325  a0r5w00000V42c4AAB            NaN\n",
       "326  a0r5w00000V43DFAAZ            NaN"
      ]
     },
     "metadata": {},
     "output_type": "display_data"
    }
   ],
   "source": [
    "weekly_yoy['Weekly_YoY__c'] = [i*100 for i in weekly_yoy['Weekly_YoY__c']]\n",
    "display(weekly_yoy.head(5))\n",
    "display(weekly_yoy.tail(5))"
   ]
  },
  {
   "cell_type": "code",
   "execution_count": 586,
   "metadata": {},
   "outputs": [
    {
     "data": {
      "text/html": [
       "<div>\n",
       "<style scoped>\n",
       "    .dataframe tbody tr th:only-of-type {\n",
       "        vertical-align: middle;\n",
       "    }\n",
       "\n",
       "    .dataframe tbody tr th {\n",
       "        vertical-align: top;\n",
       "    }\n",
       "\n",
       "    .dataframe thead th {\n",
       "        text-align: right;\n",
       "    }\n",
       "</style>\n",
       "<table border=\"1\" class=\"dataframe\">\n",
       "  <thead>\n",
       "    <tr style=\"text-align: right;\">\n",
       "      <th></th>\n",
       "      <th>Id</th>\n",
       "      <th>Monthly_YoY__c</th>\n",
       "    </tr>\n",
       "  </thead>\n",
       "  <tbody>\n",
       "    <tr>\n",
       "      <th>0</th>\n",
       "      <td>a0r5w00000V42cCAAR</td>\n",
       "      <td>20.152061</td>\n",
       "    </tr>\n",
       "    <tr>\n",
       "      <th>1</th>\n",
       "      <td>a0r5w00000V42iyAAB</td>\n",
       "      <td>14.369645</td>\n",
       "    </tr>\n",
       "    <tr>\n",
       "      <th>2</th>\n",
       "      <td>a0r5w00000V42liAAB</td>\n",
       "      <td>-6.305802</td>\n",
       "    </tr>\n",
       "    <tr>\n",
       "      <th>3</th>\n",
       "      <td>a0r5w00000V42c0AAB</td>\n",
       "      <td>-28.750000</td>\n",
       "    </tr>\n",
       "    <tr>\n",
       "      <th>4</th>\n",
       "      <td>a0r5w00000V42ikAAB</td>\n",
       "      <td>25.589226</td>\n",
       "    </tr>\n",
       "  </tbody>\n",
       "</table>\n",
       "</div>"
      ],
      "text/plain": [
       "                   Id  Monthly_YoY__c\n",
       "0  a0r5w00000V42cCAAR       20.152061\n",
       "1  a0r5w00000V42iyAAB       14.369645\n",
       "2  a0r5w00000V42liAAB       -6.305802\n",
       "3  a0r5w00000V42c0AAB      -28.750000\n",
       "4  a0r5w00000V42ikAAB       25.589226"
      ]
     },
     "metadata": {},
     "output_type": "display_data"
    },
    {
     "data": {
      "text/html": [
       "<div>\n",
       "<style scoped>\n",
       "    .dataframe tbody tr th:only-of-type {\n",
       "        vertical-align: middle;\n",
       "    }\n",
       "\n",
       "    .dataframe tbody tr th {\n",
       "        vertical-align: top;\n",
       "    }\n",
       "\n",
       "    .dataframe thead th {\n",
       "        text-align: right;\n",
       "    }\n",
       "</style>\n",
       "<table border=\"1\" class=\"dataframe\">\n",
       "  <thead>\n",
       "    <tr style=\"text-align: right;\">\n",
       "      <th></th>\n",
       "      <th>Id</th>\n",
       "      <th>Monthly_YoY__c</th>\n",
       "    </tr>\n",
       "  </thead>\n",
       "  <tbody>\n",
       "    <tr>\n",
       "      <th>322</th>\n",
       "      <td>a0r5w00000V42z8AAB</td>\n",
       "      <td>NaN</td>\n",
       "    </tr>\n",
       "    <tr>\n",
       "      <th>323</th>\n",
       "      <td>a0r5w00000V43GaAAJ</td>\n",
       "      <td>NaN</td>\n",
       "    </tr>\n",
       "    <tr>\n",
       "      <th>324</th>\n",
       "      <td>a0r5w00000V43HQAAZ</td>\n",
       "      <td>NaN</td>\n",
       "    </tr>\n",
       "    <tr>\n",
       "      <th>325</th>\n",
       "      <td>a0r5w00000V42c4AAB</td>\n",
       "      <td>NaN</td>\n",
       "    </tr>\n",
       "    <tr>\n",
       "      <th>326</th>\n",
       "      <td>a0r5w00000V43DFAAZ</td>\n",
       "      <td>NaN</td>\n",
       "    </tr>\n",
       "  </tbody>\n",
       "</table>\n",
       "</div>"
      ],
      "text/plain": [
       "                     Id  Monthly_YoY__c\n",
       "322  a0r5w00000V42z8AAB             NaN\n",
       "323  a0r5w00000V43GaAAJ             NaN\n",
       "324  a0r5w00000V43HQAAZ             NaN\n",
       "325  a0r5w00000V42c4AAB             NaN\n",
       "326  a0r5w00000V43DFAAZ             NaN"
      ]
     },
     "metadata": {},
     "output_type": "display_data"
    }
   ],
   "source": [
    "monthly_yoy['Monthly_YoY__c'] = [i*100 for i in monthly_yoy['Monthly_YoY__c']]\n",
    "display(monthly_yoy.head(5))\n",
    "display(monthly_yoy.tail(5))"
   ]
  },
  {
   "cell_type": "code",
   "execution_count": null,
   "metadata": {},
   "outputs": [],
   "source": []
  },
  {
   "cell_type": "code",
   "execution_count": 587,
   "metadata": {},
   "outputs": [
    {
     "name": "stdout",
     "output_type": "stream",
     "text": [
      "Obtained Salesforce access token ...... True\n"
     ]
    }
   ],
   "source": [
    "db_6 = DB2SalesforceAPI(sf_login_params)"
   ]
  },
  {
   "cell_type": "code",
   "execution_count": 588,
   "metadata": {},
   "outputs": [],
   "source": [
    "db_6.object_id = 'Organization__c'\n",
    "db_6.external_id = 'Id'"
   ]
  },
  {
   "cell_type": "code",
   "execution_count": 589,
   "metadata": {},
   "outputs": [
    {
     "name": "stdout",
     "output_type": "stream",
     "text": [
      "[Success] Bulk job creation successful. Job ID = 7505w00000THPK6AAP\n",
      "hello\n",
      "[Success] CSV upload successful. Job ID = 7505w00000THPK6AAP\n",
      "[Success] Closing job successful. Job ID = 7505w00000THPK6AAP\n"
     ]
    }
   ],
   "source": [
    "db_6.send_data(weekly_yoy)"
   ]
  },
  {
   "cell_type": "code",
   "execution_count": 592,
   "metadata": {},
   "outputs": [
    {
     "data": {
      "text/plain": [
       "{'id': '7505w00000THPK6AAP',\n",
       " 'operation': 'upsert',\n",
       " 'object': 'organization__c',\n",
       " 'createdById': '0055w00000DM5bOAAT',\n",
       " 'createdDate': '2021-01-13T04:58:35.000+0000',\n",
       " 'systemModstamp': '2021-01-13T04:58:39.000+0000',\n",
       " 'state': 'JobComplete',\n",
       " 'externalIdFieldName': 'Id',\n",
       " 'concurrencyMode': 'Parallel',\n",
       " 'contentType': 'CSV',\n",
       " 'apiVersion': 47.0,\n",
       " 'jobType': 'V2Ingest',\n",
       " 'lineEnding': 'LF',\n",
       " 'columnDelimiter': 'COMMA',\n",
       " 'numberRecordsProcessed': 327,\n",
       " 'numberRecordsFailed': 0,\n",
       " 'retries': 0,\n",
       " 'totalProcessingTime': 848,\n",
       " 'apiActiveProcessingTime': 697,\n",
       " 'apexProcessingTime': 0}"
      ]
     },
     "execution_count": 592,
     "metadata": {},
     "output_type": "execute_result"
    }
   ],
   "source": [
    "db_6.check_bulk_status()"
   ]
  },
  {
   "cell_type": "code",
   "execution_count": 593,
   "metadata": {},
   "outputs": [
    {
     "name": "stdout",
     "output_type": "stream",
     "text": [
      "'\"sf__Id\",\"sf__Error\",Id,Weekly_YoY__c\\n'\n"
     ]
    }
   ],
   "source": [
    "pprint(db_6.check_bulk_failed_results())"
   ]
  },
  {
   "cell_type": "code",
   "execution_count": null,
   "metadata": {},
   "outputs": [],
   "source": []
  },
  {
   "cell_type": "code",
   "execution_count": 594,
   "metadata": {},
   "outputs": [
    {
     "name": "stdout",
     "output_type": "stream",
     "text": [
      "[Success] Bulk job creation successful. Job ID = 7505w00000THPPVAA5\n",
      "hello\n",
      "[Success] CSV upload successful. Job ID = 7505w00000THPPVAA5\n",
      "[Success] Closing job successful. Job ID = 7505w00000THPPVAA5\n"
     ]
    }
   ],
   "source": [
    "db_6.send_data(monthly_yoy)"
   ]
  },
  {
   "cell_type": "code",
   "execution_count": 595,
   "metadata": {},
   "outputs": [
    {
     "data": {
      "text/plain": [
       "{'id': '7505w00000THPPVAA5',\n",
       " 'operation': 'upsert',\n",
       " 'object': 'organization__c',\n",
       " 'createdById': '0055w00000DM5bOAAT',\n",
       " 'createdDate': '2021-01-13T05:02:31.000+0000',\n",
       " 'systemModstamp': '2021-01-13T05:02:32.000+0000',\n",
       " 'state': 'UploadComplete',\n",
       " 'externalIdFieldName': 'Id',\n",
       " 'concurrencyMode': 'Parallel',\n",
       " 'contentType': 'CSV',\n",
       " 'apiVersion': 47.0,\n",
       " 'jobType': 'V2Ingest',\n",
       " 'lineEnding': 'LF',\n",
       " 'columnDelimiter': 'COMMA',\n",
       " 'numberRecordsProcessed': 0,\n",
       " 'numberRecordsFailed': 0,\n",
       " 'retries': 0,\n",
       " 'totalProcessingTime': 0,\n",
       " 'apiActiveProcessingTime': 0,\n",
       " 'apexProcessingTime': 0}"
      ]
     },
     "execution_count": 595,
     "metadata": {},
     "output_type": "execute_result"
    }
   ],
   "source": [
    "db_6.check_bulk_status()"
   ]
  },
  {
   "cell_type": "code",
   "execution_count": 596,
   "metadata": {},
   "outputs": [
    {
     "name": "stdout",
     "output_type": "stream",
     "text": [
      "''\n"
     ]
    }
   ],
   "source": [
    "pprint(db_6.check_bulk_failed_results())"
   ]
  },
  {
   "cell_type": "code",
   "execution_count": null,
   "metadata": {},
   "outputs": [],
   "source": []
  }
 ],
 "metadata": {
  "kernelspec": {
   "display_name": "Python 3 (ipykernel)",
   "language": "python",
   "name": "python3"
  },
  "language_info": {
   "codemirror_mode": {
    "name": "ipython",
    "version": 3
   },
   "file_extension": ".py",
   "mimetype": "text/x-python",
   "name": "python",
   "nbconvert_exporter": "python",
   "pygments_lexer": "ipython3",
   "version": "3.8.10"
  }
 },
 "nbformat": 4,
 "nbformat_minor": 4
}
