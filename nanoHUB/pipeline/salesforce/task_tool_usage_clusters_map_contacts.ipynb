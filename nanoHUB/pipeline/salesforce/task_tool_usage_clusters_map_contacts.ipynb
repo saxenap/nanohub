{
 "cells": [
  {
   "cell_type": "markdown",
   "metadata": {
    "papermill": {
     "duration": 0.012296,
     "end_time": "2021-01-21T17:07:32.072950",
     "exception": false,
     "start_time": "2021-01-21T17:07:32.060654",
     "status": "completed"
    },
    "tags": []
   },
   "source": [
    "# DB2-Salesforce connector: Tool usage clusters mapping to users"
   ]
  },
  {
   "cell_type": "code",
   "execution_count": 1,
   "metadata": {
    "execution": {
     "iopub.execute_input": "2022-01-31T03:31:33.429177Z",
     "iopub.status.busy": "2022-01-31T03:31:33.428280Z",
     "iopub.status.idle": "2022-01-31T03:31:36.720468Z",
     "shell.execute_reply": "2022-01-31T03:31:36.718711Z",
     "shell.execute_reply.started": "2022-01-31T03:31:33.428619Z"
    },
    "papermill": {
     "duration": 0.017635,
     "end_time": "2021-01-21T17:07:32.101348",
     "exception": false,
     "start_time": "2021-01-21T17:07:32.083713",
     "status": "completed"
    },
    "tags": [
     "parameters"
    ]
   },
   "outputs": [
    {
     "name": "stdout",
     "output_type": "stream",
     "text": [
      "\u001b[1mnanoHUB - Serving Students, Researchers & Instructors\u001b[0m\n",
      "Obtained Salesforce access token ...... True\n"
     ]
    }
   ],
   "source": [
    "# API settings\n",
    "api_url = '/services/data/v43.0/sobjects'\n",
    "external_id = 'Name'\n",
    "object_id = 'ContactToolClusterAssociation__c'\n",
    "\n",
    "from nanoHUB.application import Application\n",
    "\n",
    "application = Application.get_instance()\n",
    "nanohub_db = application.new_db_engine('nanohub')\n",
    "wang159_myrmekes_db = application.new_db_engine('rfm_data')\n",
    "nanohub_metrics_db = application.new_db_engine('nanohub_metrics')\n",
    "\n",
    "salesforce = application.new_salesforce_engine()\n",
    "db_s = salesforce\n"
   ]
  },
  {
   "cell_type": "code",
   "execution_count": 2,
   "metadata": {
    "execution": {
     "iopub.execute_input": "2022-01-31T03:31:36.726508Z",
     "iopub.status.busy": "2022-01-31T03:31:36.723968Z",
     "iopub.status.idle": "2022-01-31T03:31:36.737173Z",
     "shell.execute_reply": "2022-01-31T03:31:36.732730Z",
     "shell.execute_reply.started": "2022-01-31T03:31:36.726449Z"
    },
    "papermill": {
     "duration": 0.365653,
     "end_time": "2021-01-21T17:07:32.477149",
     "exception": false,
     "start_time": "2021-01-21T17:07:32.111496",
     "status": "completed"
    },
    "tags": []
   },
   "outputs": [],
   "source": [
    "    \n",
    "import pandas as pd\n",
    "import time\n",
    "import datetime"
   ]
  },
  {
   "cell_type": "markdown",
   "metadata": {
    "papermill": {
     "duration": 0.009871,
     "end_time": "2021-01-21T17:07:32.497341",
     "exception": false,
     "start_time": "2021-01-21T17:07:32.487470",
     "status": "completed"
    },
    "tags": []
   },
   "source": [
    "## Obtain tool information from DB2 "
   ]
  },
  {
   "cell_type": "code",
   "execution_count": 3,
   "metadata": {
    "execution": {
     "iopub.execute_input": "2022-01-31T03:31:36.741126Z",
     "iopub.status.busy": "2022-01-31T03:31:36.740558Z",
     "iopub.status.idle": "2022-01-31T03:31:40.861515Z",
     "shell.execute_reply": "2022-01-31T03:31:40.859884Z",
     "shell.execute_reply.started": "2022-01-31T03:31:36.741078Z"
    },
    "papermill": {
     "duration": 2.174813,
     "end_time": "2021-01-21T17:07:34.682830",
     "exception": false,
     "start_time": "2021-01-21T17:07:32.508017",
     "status": "completed"
    },
    "tags": []
   },
   "outputs": [],
   "source": [
    "\n",
    "class_info_df = pd.read_sql_query('select * from cluster_class_info', wang159_myrmekes_db)\n",
    "students_info_df = pd.read_sql_query('select * from cluster_students_info', wang159_myrmekes_db)\n",
    "\n"
   ]
  },
  {
   "cell_type": "code",
   "execution_count": 4,
   "metadata": {
    "execution": {
     "iopub.execute_input": "2022-01-31T03:31:40.869099Z",
     "iopub.status.busy": "2022-01-31T03:31:40.868336Z",
     "iopub.status.idle": "2022-01-31T03:31:40.910761Z",
     "shell.execute_reply": "2022-01-31T03:31:40.909215Z",
     "shell.execute_reply.started": "2022-01-31T03:31:40.869028Z"
    },
    "papermill": {
     "duration": 0.02904,
     "end_time": "2021-01-21T17:07:34.722950",
     "exception": false,
     "start_time": "2021-01-21T17:07:34.693910",
     "status": "completed"
    },
    "tags": []
   },
   "outputs": [
    {
     "data": {
      "text/html": [
       "<div>\n",
       "<style scoped>\n",
       "    .dataframe tbody tr th:only-of-type {\n",
       "        vertical-align: middle;\n",
       "    }\n",
       "\n",
       "    .dataframe tbody tr th {\n",
       "        vertical-align: top;\n",
       "    }\n",
       "\n",
       "    .dataframe thead th {\n",
       "        text-align: right;\n",
       "    }\n",
       "</style>\n",
       "<table border=\"1\" class=\"dataframe\">\n",
       "  <thead>\n",
       "    <tr style=\"text-align: right;\">\n",
       "      <th></th>\n",
       "      <th>index</th>\n",
       "      <th>user</th>\n",
       "      <th>class_id</th>\n",
       "      <th>parti_rate</th>\n",
       "    </tr>\n",
       "  </thead>\n",
       "  <tbody>\n",
       "    <tr>\n",
       "      <th>0</th>\n",
       "      <td>0</td>\n",
       "      <td>salas</td>\n",
       "      <td>0</td>\n",
       "      <td>1.0</td>\n",
       "    </tr>\n",
       "    <tr>\n",
       "      <th>1</th>\n",
       "      <td>1</td>\n",
       "      <td>trohrbach</td>\n",
       "      <td>0</td>\n",
       "      <td>1.0</td>\n",
       "    </tr>\n",
       "    <tr>\n",
       "      <th>2</th>\n",
       "      <td>2</td>\n",
       "      <td>alqadia</td>\n",
       "      <td>0</td>\n",
       "      <td>1.0</td>\n",
       "    </tr>\n",
       "  </tbody>\n",
       "</table>\n",
       "</div>"
      ],
      "text/plain": [
       "   index       user  class_id  parti_rate\n",
       "0      0      salas         0         1.0\n",
       "1      1  trohrbach         0         1.0\n",
       "2      2    alqadia         0         1.0"
      ]
     },
     "execution_count": 4,
     "metadata": {},
     "output_type": "execute_result"
    }
   ],
   "source": [
    "students_info_df.head(3)"
   ]
  },
  {
   "cell_type": "markdown",
   "metadata": {
    "papermill": {
     "duration": 0.010842,
     "end_time": "2021-01-21T17:07:34.745696",
     "exception": false,
     "start_time": "2021-01-21T17:07:34.734854",
     "status": "completed"
    },
    "tags": []
   },
   "source": [
    "## Obtain Salesforce IDs"
   ]
  },
  {
   "cell_type": "code",
   "execution_count": null,
   "metadata": {
    "papermill": {
     "duration": 0.378197,
     "end_time": "2021-01-21T17:07:35.134746",
     "exception": false,
     "start_time": "2021-01-21T17:07:34.756549",
     "status": "completed"
    },
    "tags": []
   },
   "outputs": [],
   "source": []
  },
  {
   "cell_type": "code",
   "execution_count": 5,
   "metadata": {
    "execution": {
     "iopub.execute_input": "2022-01-31T03:31:40.915570Z",
     "iopub.status.busy": "2022-01-31T03:31:40.913991Z",
     "iopub.status.idle": "2022-01-31T03:32:07.213355Z",
     "shell.execute_reply": "2022-01-31T03:32:07.210833Z",
     "shell.execute_reply.started": "2022-01-31T03:31:40.915509Z"
    },
    "papermill": {
     "duration": 35.372983,
     "end_time": "2021-01-21T17:08:10.519309",
     "exception": false,
     "start_time": "2021-01-21T17:07:35.146326",
     "status": "completed"
    },
    "tags": []
   },
   "outputs": [
    {
     "name": "stdout",
     "output_type": "stream",
     "text": [
      "[Success] Bulk job creation successful. Job ID = 7505w00000cyX22AAE\n",
      "{\"id\":\"7505w00000cyX22AAE\",\"operation\":\"query\",\"object\":\"Contact\",\"createdById\":\"0055w00000DM5bOAAT\",\"createdDate\":\"2022-01-31T03:31:41.000+0000\",\"systemModstamp\":\"2022-01-31T03:31:41.000+0000\",\"state\":\"UploadComplete\",\"concurrencyMode\":\"Parallel\",\"contentType\":\"CSV\",\"apiVersion\":47.0,\"jobType\":\"V2Query\",\"lineEnding\":\"LF\",\"columnDelimiter\":\"COMMA\",\"retries\":0,\"totalProcessingTime\":0}\n",
      "{\"id\":\"7505w00000cyX22AAE\",\"operation\":\"query\",\"object\":\"Contact\",\"createdById\":\"0055w00000DM5bOAAT\",\"createdDate\":\"2022-01-31T03:31:41.000+0000\",\"systemModstamp\":\"2022-01-31T03:31:42.000+0000\",\"state\":\"InProgress\",\"concurrencyMode\":\"Parallel\",\"contentType\":\"CSV\",\"apiVersion\":47.0,\"jobType\":\"V2Query\",\"lineEnding\":\"LF\",\"columnDelimiter\":\"COMMA\",\"numberRecordsProcessed\":19815,\"retries\":0,\"totalProcessingTime\":991}\n",
      "{\"id\":\"7505w00000cyX22AAE\",\"operation\":\"query\",\"object\":\"Contact\",\"createdById\":\"0055w00000DM5bOAAT\",\"createdDate\":\"2022-01-31T03:31:41.000+0000\",\"systemModstamp\":\"2022-01-31T03:31:54.000+0000\",\"state\":\"JobComplete\",\"concurrencyMode\":\"Parallel\",\"contentType\":\"CSV\",\"apiVersion\":47.0,\"jobType\":\"V2Query\",\"lineEnding\":\"LF\",\"columnDelimiter\":\"COMMA\",\"numberRecordsProcessed\":271837,\"retries\":0,\"totalProcessingTime\":10666}\n",
      "[Success] Bulk job completed successfully.\n"
     ]
    }
   ],
   "source": [
    "# query the Salesforce IDs for contacts and citations. when updating junction objects, these IDs must be used\n",
    "\n",
    "# get Salesforce ID for contacts\n",
    "sf_username_df = db_s.query_data('SELECT Id, nanoHUB_username__c FROM Contact where nanoHUB_username__c != NULL')"
   ]
  },
  {
   "cell_type": "code",
   "execution_count": 6,
   "metadata": {
    "execution": {
     "iopub.execute_input": "2022-01-31T03:32:07.217997Z",
     "iopub.status.busy": "2022-01-31T03:32:07.217329Z",
     "iopub.status.idle": "2022-01-31T03:32:19.540306Z",
     "shell.execute_reply": "2022-01-31T03:32:19.538594Z",
     "shell.execute_reply.started": "2022-01-31T03:32:07.217920Z"
    },
    "papermill": {
     "duration": 44.613786,
     "end_time": "2021-01-21T17:08:55.148086",
     "exception": false,
     "start_time": "2021-01-21T17:08:10.534300",
     "status": "completed"
    },
    "tags": []
   },
   "outputs": [
    {
     "name": "stdout",
     "output_type": "stream",
     "text": [
      "[Success] Bulk job creation successful. Job ID = 7505w00000cyX1tAAE\n",
      "{\"id\":\"7505w00000cyX1tAAE\",\"operation\":\"query\",\"object\":\"tool_usage_cluster__c\",\"createdById\":\"0055w00000DM5bOAAT\",\"createdDate\":\"2022-01-31T03:32:07.000+0000\",\"systemModstamp\":\"2022-01-31T03:32:07.000+0000\",\"state\":\"InProgress\",\"concurrencyMode\":\"Parallel\",\"contentType\":\"CSV\",\"apiVersion\":47.0,\"jobType\":\"V2Query\",\"lineEnding\":\"LF\",\"columnDelimiter\":\"COMMA\",\"numberRecordsProcessed\":0,\"retries\":0,\"totalProcessingTime\":0}\n",
      "{\"id\":\"7505w00000cyX1tAAE\",\"operation\":\"query\",\"object\":\"tool_usage_cluster__c\",\"createdById\":\"0055w00000DM5bOAAT\",\"createdDate\":\"2022-01-31T03:32:07.000+0000\",\"systemModstamp\":\"2022-01-31T03:32:08.000+0000\",\"state\":\"JobComplete\",\"concurrencyMode\":\"Parallel\",\"contentType\":\"CSV\",\"apiVersion\":47.0,\"jobType\":\"V2Query\",\"lineEnding\":\"LF\",\"columnDelimiter\":\"COMMA\",\"numberRecordsProcessed\":4576,\"retries\":0,\"totalProcessingTime\":413}\n",
      "[Success] Bulk job completed successfully.\n"
     ]
    }
   ],
   "source": [
    "# get Salesforce ID for citations\n",
    "sf_clusterID_df = db_s.query_data('SELECT Id, ID__c FROM tool_usage_cluster__c')\n",
    "\n",
    "sf_clusterID_df['ID__c'] = sf_clusterID_df['ID__c'].astype('int')"
   ]
  },
  {
   "cell_type": "markdown",
   "metadata": {
    "papermill": {
     "duration": 0.01629,
     "end_time": "2021-01-21T17:08:55.179219",
     "exception": false,
     "start_time": "2021-01-21T17:08:55.162929",
     "status": "completed"
    },
    "tags": []
   },
   "source": [
    "## Match data with Salesforce format"
   ]
  },
  {
   "cell_type": "code",
   "execution_count": 7,
   "metadata": {
    "execution": {
     "iopub.execute_input": "2022-01-31T03:32:19.542164Z",
     "iopub.status.busy": "2022-01-31T03:32:19.541856Z",
     "iopub.status.idle": "2022-01-31T03:32:19.583258Z",
     "shell.execute_reply": "2022-01-31T03:32:19.576362Z",
     "shell.execute_reply.started": "2022-01-31T03:32:19.542125Z"
    },
    "papermill": {
     "duration": 0.041067,
     "end_time": "2021-01-21T17:08:55.237619",
     "exception": false,
     "start_time": "2021-01-21T17:08:55.196552",
     "status": "completed"
    },
    "tags": []
   },
   "outputs": [
    {
     "data": {
      "text/html": [
       "<div>\n",
       "<style scoped>\n",
       "    .dataframe tbody tr th:only-of-type {\n",
       "        vertical-align: middle;\n",
       "    }\n",
       "\n",
       "    .dataframe tbody tr th {\n",
       "        vertical-align: top;\n",
       "    }\n",
       "\n",
       "    .dataframe thead th {\n",
       "        text-align: right;\n",
       "    }\n",
       "</style>\n",
       "<table border=\"1\" class=\"dataframe\">\n",
       "  <thead>\n",
       "    <tr style=\"text-align: right;\">\n",
       "      <th></th>\n",
       "      <th>index</th>\n",
       "      <th>user</th>\n",
       "      <th>class_id</th>\n",
       "      <th>parti_rate</th>\n",
       "    </tr>\n",
       "  </thead>\n",
       "  <tbody>\n",
       "    <tr>\n",
       "      <th>0</th>\n",
       "      <td>0</td>\n",
       "      <td>salas</td>\n",
       "      <td>0</td>\n",
       "      <td>1.0</td>\n",
       "    </tr>\n",
       "    <tr>\n",
       "      <th>1</th>\n",
       "      <td>1</td>\n",
       "      <td>trohrbach</td>\n",
       "      <td>0</td>\n",
       "      <td>1.0</td>\n",
       "    </tr>\n",
       "  </tbody>\n",
       "</table>\n",
       "</div>"
      ],
      "text/plain": [
       "   index       user  class_id  parti_rate\n",
       "0      0      salas         0         1.0\n",
       "1      1  trohrbach         0         1.0"
      ]
     },
     "metadata": {},
     "output_type": "display_data"
    },
    {
     "data": {
      "text/html": [
       "<div>\n",
       "<style scoped>\n",
       "    .dataframe tbody tr th:only-of-type {\n",
       "        vertical-align: middle;\n",
       "    }\n",
       "\n",
       "    .dataframe tbody tr th {\n",
       "        vertical-align: top;\n",
       "    }\n",
       "\n",
       "    .dataframe thead th {\n",
       "        text-align: right;\n",
       "    }\n",
       "</style>\n",
       "<table border=\"1\" class=\"dataframe\">\n",
       "  <thead>\n",
       "    <tr style=\"text-align: right;\">\n",
       "      <th></th>\n",
       "      <th>Id</th>\n",
       "      <th>nanoHUB_username__c</th>\n",
       "    </tr>\n",
       "  </thead>\n",
       "  <tbody>\n",
       "    <tr>\n",
       "      <th>0</th>\n",
       "      <td>0035w000031Vsp1AAC</td>\n",
       "      <td>hubrepo</td>\n",
       "    </tr>\n",
       "    <tr>\n",
       "      <th>1</th>\n",
       "      <td>0035w000031Vsp2AAC</td>\n",
       "      <td>support</td>\n",
       "    </tr>\n",
       "  </tbody>\n",
       "</table>\n",
       "</div>"
      ],
      "text/plain": [
       "                   Id nanoHUB_username__c\n",
       "0  0035w000031Vsp1AAC             hubrepo\n",
       "1  0035w000031Vsp2AAC             support"
      ]
     },
     "metadata": {},
     "output_type": "display_data"
    },
    {
     "data": {
      "text/html": [
       "<div>\n",
       "<style scoped>\n",
       "    .dataframe tbody tr th:only-of-type {\n",
       "        vertical-align: middle;\n",
       "    }\n",
       "\n",
       "    .dataframe tbody tr th {\n",
       "        vertical-align: top;\n",
       "    }\n",
       "\n",
       "    .dataframe thead th {\n",
       "        text-align: right;\n",
       "    }\n",
       "</style>\n",
       "<table border=\"1\" class=\"dataframe\">\n",
       "  <thead>\n",
       "    <tr style=\"text-align: right;\">\n",
       "      <th></th>\n",
       "      <th>ID__c</th>\n",
       "      <th>Id</th>\n",
       "    </tr>\n",
       "  </thead>\n",
       "  <tbody>\n",
       "    <tr>\n",
       "      <th>0</th>\n",
       "      <td>4</td>\n",
       "      <td>a0w5w000009Q7CuAAK</td>\n",
       "    </tr>\n",
       "    <tr>\n",
       "      <th>1</th>\n",
       "      <td>5</td>\n",
       "      <td>a0w5w000009Q7CvAAK</td>\n",
       "    </tr>\n",
       "  </tbody>\n",
       "</table>\n",
       "</div>"
      ],
      "text/plain": [
       "   ID__c                  Id\n",
       "0      4  a0w5w000009Q7CuAAK\n",
       "1      5  a0w5w000009Q7CvAAK"
      ]
     },
     "metadata": {},
     "output_type": "display_data"
    }
   ],
   "source": [
    "# Display\n",
    "display(students_info_df.head(2))\n",
    "display(sf_username_df.head(2))\n",
    "display(sf_clusterID_df.head(2))"
   ]
  },
  {
   "cell_type": "code",
   "execution_count": 8,
   "metadata": {
    "execution": {
     "iopub.execute_input": "2022-01-31T03:32:19.588844Z",
     "iopub.status.busy": "2022-01-31T03:32:19.588525Z",
     "iopub.status.idle": "2022-01-31T03:32:19.862785Z",
     "shell.execute_reply": "2022-01-31T03:32:19.861539Z",
     "shell.execute_reply.started": "2022-01-31T03:32:19.588801Z"
    },
    "papermill": {
     "duration": 0.37234,
     "end_time": "2021-01-21T17:08:55.626601",
     "exception": false,
     "start_time": "2021-01-21T17:08:55.254261",
     "status": "completed"
    },
    "tags": []
   },
   "outputs": [
    {
     "data": {
      "text/html": [
       "<div>\n",
       "<style scoped>\n",
       "    .dataframe tbody tr th:only-of-type {\n",
       "        vertical-align: middle;\n",
       "    }\n",
       "\n",
       "    .dataframe tbody tr th {\n",
       "        vertical-align: top;\n",
       "    }\n",
       "\n",
       "    .dataframe thead th {\n",
       "        text-align: right;\n",
       "    }\n",
       "</style>\n",
       "<table border=\"1\" class=\"dataframe\">\n",
       "  <thead>\n",
       "    <tr style=\"text-align: right;\">\n",
       "      <th></th>\n",
       "      <th>index</th>\n",
       "      <th>user</th>\n",
       "      <th>class_id</th>\n",
       "      <th>parti_rate</th>\n",
       "      <th>SF_ID_contact</th>\n",
       "      <th>nanoHUB_username__c</th>\n",
       "      <th>ID__c</th>\n",
       "      <th>SF_ID_cluster</th>\n",
       "    </tr>\n",
       "  </thead>\n",
       "  <tbody>\n",
       "    <tr>\n",
       "      <th>0</th>\n",
       "      <td>0</td>\n",
       "      <td>salas</td>\n",
       "      <td>0</td>\n",
       "      <td>1.0</td>\n",
       "      <td>0035w000034Jm4mAAC</td>\n",
       "      <td>salas</td>\n",
       "      <td>0</td>\n",
       "      <td>a0w5w00000A8U1UAAV</td>\n",
       "    </tr>\n",
       "    <tr>\n",
       "      <th>1</th>\n",
       "      <td>1</td>\n",
       "      <td>trohrbach</td>\n",
       "      <td>0</td>\n",
       "      <td>1.0</td>\n",
       "      <td>0035w000034Jm55AAC</td>\n",
       "      <td>trohrbach</td>\n",
       "      <td>0</td>\n",
       "      <td>a0w5w00000A8U1UAAV</td>\n",
       "    </tr>\n",
       "  </tbody>\n",
       "</table>\n",
       "</div>"
      ],
      "text/plain": [
       "   index       user  class_id  parti_rate       SF_ID_contact  \\\n",
       "0      0      salas         0         1.0  0035w000034Jm4mAAC   \n",
       "1      1  trohrbach         0         1.0  0035w000034Jm55AAC   \n",
       "\n",
       "  nanoHUB_username__c  ID__c       SF_ID_cluster  \n",
       "0               salas      0  a0w5w00000A8U1UAAV  \n",
       "1           trohrbach      0  a0w5w00000A8U1UAAV  "
      ]
     },
     "execution_count": 8,
     "metadata": {},
     "output_type": "execute_result"
    }
   ],
   "source": [
    "# merge dataframes\n",
    "cc_tolink_df = pd.merge(students_info_df, sf_username_df, how='inner', left_on='user', right_on='nanoHUB_username__c')\\\n",
    "                           .rename(columns={'Id':'SF_ID_contact'})\n",
    "\n",
    "cc_tolink_df = pd.merge(cc_tolink_df, sf_clusterID_df, how='inner', left_on='class_id', right_on='ID__c')\\\n",
    "                           .rename(columns={'Id':'SF_ID_cluster'})\n",
    "\n",
    "# display\n",
    "cc_tolink_df.head(2)"
   ]
  },
  {
   "cell_type": "code",
   "execution_count": 9,
   "metadata": {
    "execution": {
     "iopub.execute_input": "2022-01-31T03:32:19.866623Z",
     "iopub.status.busy": "2022-01-31T03:32:19.865309Z",
     "iopub.status.idle": "2022-01-31T03:32:22.224089Z",
     "shell.execute_reply": "2022-01-31T03:32:22.223196Z",
     "shell.execute_reply.started": "2022-01-31T03:32:19.866554Z"
    },
    "papermill": {
     "duration": 3.345149,
     "end_time": "2021-01-21T17:08:58.987703",
     "exception": false,
     "start_time": "2021-01-21T17:08:55.642554",
     "status": "completed"
    },
    "tags": []
   },
   "outputs": [],
   "source": [
    "# create a new column for object name\n",
    "cc_tolink_df['Name'] = cc_tolink_df.apply(lambda x: '%s_%d'%(x.nanoHUB_username__c, x.ID__c), axis=1)"
   ]
  },
  {
   "cell_type": "code",
   "execution_count": 10,
   "metadata": {
    "execution": {
     "iopub.execute_input": "2022-01-31T03:32:22.226699Z",
     "iopub.status.busy": "2022-01-31T03:32:22.226016Z",
     "iopub.status.idle": "2022-01-31T03:32:22.268532Z",
     "shell.execute_reply": "2022-01-31T03:32:22.267694Z",
     "shell.execute_reply.started": "2022-01-31T03:32:22.226640Z"
    },
    "papermill": {
     "duration": 0.043754,
     "end_time": "2021-01-21T17:08:59.049212",
     "exception": false,
     "start_time": "2021-01-21T17:08:59.005458",
     "status": "completed"
    },
    "tags": []
   },
   "outputs": [
    {
     "data": {
      "text/html": [
       "<div>\n",
       "<style scoped>\n",
       "    .dataframe tbody tr th:only-of-type {\n",
       "        vertical-align: middle;\n",
       "    }\n",
       "\n",
       "    .dataframe tbody tr th {\n",
       "        vertical-align: top;\n",
       "    }\n",
       "\n",
       "    .dataframe thead th {\n",
       "        text-align: right;\n",
       "    }\n",
       "</style>\n",
       "<table border=\"1\" class=\"dataframe\">\n",
       "  <thead>\n",
       "    <tr style=\"text-align: right;\">\n",
       "      <th></th>\n",
       "      <th>0</th>\n",
       "      <th>1</th>\n",
       "    </tr>\n",
       "  </thead>\n",
       "  <tbody>\n",
       "    <tr>\n",
       "      <th>Name</th>\n",
       "      <td>salas_0</td>\n",
       "      <td>trohrbach_0</td>\n",
       "    </tr>\n",
       "    <tr>\n",
       "      <th>Contact__c</th>\n",
       "      <td>0035w000034Jm4mAAC</td>\n",
       "      <td>0035w000034Jm55AAC</td>\n",
       "    </tr>\n",
       "    <tr>\n",
       "      <th>Tool_Usage_Cluster__c</th>\n",
       "      <td>a0w5w00000A8U1UAAV</td>\n",
       "      <td>a0w5w00000A8U1UAAV</td>\n",
       "    </tr>\n",
       "  </tbody>\n",
       "</table>\n",
       "</div>"
      ],
      "text/plain": [
       "                                        0                   1\n",
       "Name                              salas_0         trohrbach_0\n",
       "Contact__c             0035w000034Jm4mAAC  0035w000034Jm55AAC\n",
       "Tool_Usage_Cluster__c  a0w5w00000A8U1UAAV  a0w5w00000A8U1UAAV"
      ]
     },
     "execution_count": 10,
     "metadata": {},
     "output_type": "execute_result"
    }
   ],
   "source": [
    "df_sf = pd.DataFrame()\n",
    "\n",
    "# Make sure NaN and NaT values are taken care of here\n",
    "df_sf['Name']         = cc_tolink_df['Name']\n",
    "df_sf['Contact__c'] = cc_tolink_df['SF_ID_contact']\n",
    "df_sf['Tool_Usage_Cluster__c'] = cc_tolink_df['SF_ID_cluster']\n",
    "\n",
    "sf_original_fields = df_sf.columns\n",
    "\n",
    "# display\n",
    "df_sf.head(2).T"
   ]
  },
  {
   "cell_type": "code",
   "execution_count": 11,
   "metadata": {
    "execution": {
     "iopub.execute_input": "2022-01-31T03:32:22.271239Z",
     "iopub.status.busy": "2022-01-31T03:32:22.270629Z",
     "iopub.status.idle": "2022-01-31T03:32:22.282706Z",
     "shell.execute_reply": "2022-01-31T03:32:22.281426Z",
     "shell.execute_reply.started": "2022-01-31T03:32:22.271192Z"
    }
   },
   "outputs": [
    {
     "data": {
      "text/plain": [
       "(103626, 3)"
      ]
     },
     "execution_count": 11,
     "metadata": {},
     "output_type": "execute_result"
    }
   ],
   "source": [
    "df_sf.shape"
   ]
  },
  {
   "cell_type": "markdown",
   "metadata": {
    "papermill": {
     "duration": 0.017519,
     "end_time": "2021-01-21T17:08:59.082931",
     "exception": false,
     "start_time": "2021-01-21T17:08:59.065412",
     "status": "completed"
    },
    "tags": []
   },
   "source": [
    "## To Salesforce Sales Cloud CRM"
   ]
  },
  {
   "cell_type": "code",
   "execution_count": 12,
   "metadata": {
    "execution": {
     "iopub.execute_input": "2022-01-31T03:32:22.287026Z",
     "iopub.status.busy": "2022-01-31T03:32:22.285835Z",
     "iopub.status.idle": "2022-01-31T03:32:22.296848Z",
     "shell.execute_reply": "2022-01-31T03:32:22.295434Z",
     "shell.execute_reply.started": "2022-01-31T03:32:22.286879Z"
    },
    "papermill": {
     "duration": 0.307966,
     "end_time": "2021-01-21T17:08:59.408742",
     "exception": false,
     "start_time": "2021-01-21T17:08:59.100776",
     "status": "completed"
    },
    "tags": []
   },
   "outputs": [],
   "source": [
    "db_s = salesforce\n",
    "\n",
    "# specify Salesforce object ID and external ID\n",
    "db_s.object_id = object_id\n",
    "db_s.external_id = external_id"
   ]
  },
  {
   "cell_type": "code",
   "execution_count": 13,
   "metadata": {
    "execution": {
     "iopub.execute_input": "2022-01-31T03:32:22.302031Z",
     "iopub.status.busy": "2022-01-31T03:32:22.301023Z",
     "iopub.status.idle": "2022-01-31T03:32:25.057993Z",
     "shell.execute_reply": "2022-01-31T03:32:25.056569Z",
     "shell.execute_reply.started": "2022-01-31T03:32:22.301981Z"
    },
    "papermill": {
     "duration": 1.636554,
     "end_time": "2021-01-21T17:09:01.064267",
     "exception": false,
     "start_time": "2021-01-21T17:08:59.427713",
     "status": "completed"
    },
    "tags": []
   },
   "outputs": [
    {
     "name": "stdout",
     "output_type": "stream",
     "text": [
      "[Success] Bulk job creation successful. Job ID = 7505w00000cyX27AAE\n",
      "hello\n",
      "[Success] CSV upload successful. Job ID = 7505w00000cyX27AAE\n",
      "[Success] Closing job successful. Job ID = 7505w00000cyX27AAE\n"
     ]
    }
   ],
   "source": [
    "# send data to Salesforce\n",
    "db_s.send_data(df_sf)"
   ]
  },
  {
   "cell_type": "code",
   "execution_count": 14,
   "metadata": {
    "execution": {
     "iopub.execute_input": "2022-01-31T03:32:25.062739Z",
     "iopub.status.busy": "2022-01-31T03:32:25.060105Z",
     "iopub.status.idle": "2022-01-31T03:32:25.470929Z",
     "shell.execute_reply": "2022-01-31T03:32:25.468406Z",
     "shell.execute_reply.started": "2022-01-31T03:32:25.062676Z"
    },
    "papermill": {
     "duration": 0.386924,
     "end_time": "2021-01-21T17:09:01.468919",
     "exception": false,
     "start_time": "2021-01-21T17:09:01.081995",
     "status": "completed"
    },
    "tags": []
   },
   "outputs": [
    {
     "name": "stdout",
     "output_type": "stream",
     "text": [
      "{'apexProcessingTime': 0,\n",
      " 'apiActiveProcessingTime': 0,\n",
      " 'apiVersion': 47.0,\n",
      " 'columnDelimiter': 'COMMA',\n",
      " 'concurrencyMode': 'Parallel',\n",
      " 'contentType': 'CSV',\n",
      " 'createdById': '0055w00000DM5bOAAT',\n",
      " 'createdDate': '2022-01-31T03:32:22.000+0000',\n",
      " 'externalIdFieldName': 'Name',\n",
      " 'id': '7505w00000cyX27AAE',\n",
      " 'jobType': 'V2Ingest',\n",
      " 'lineEnding': 'LF',\n",
      " 'numberRecordsFailed': 0,\n",
      " 'numberRecordsProcessed': 0,\n",
      " 'object': 'ContactToolClusterAssociation__c',\n",
      " 'operation': 'upsert',\n",
      " 'retries': 0,\n",
      " 'state': 'InProgress',\n",
      " 'systemModstamp': '2022-01-31T03:32:25.000+0000',\n",
      " 'totalProcessingTime': 0}\n"
     ]
    }
   ],
   "source": [
    "# check status\n",
    "from pprint import pprint\n",
    "\n",
    "pprint(db_s.check_bulk_status())"
   ]
  },
  {
   "cell_type": "code",
   "execution_count": null,
   "metadata": {
    "papermill": {
     "duration": 0.016917,
     "end_time": "2021-01-21T17:09:01.502984",
     "exception": false,
     "start_time": "2021-01-21T17:09:01.486067",
     "status": "completed"
    },
    "tags": []
   },
   "outputs": [],
   "source": []
  }
 ],
 "metadata": {
  "celltoolbar": "Tags",
  "kernelspec": {
   "display_name": "Python 3 (ipykernel)",
   "language": "python",
   "name": "python3"
  },
  "language_info": {
   "codemirror_mode": {
    "name": "ipython",
    "version": 3
   },
   "file_extension": ".py",
   "mimetype": "text/x-python",
   "name": "python",
   "nbconvert_exporter": "python",
   "pygments_lexer": "ipython3",
   "version": "3.8.10"
  },
  "papermill": {
   "duration": 90.69226,
   "end_time": "2021-01-21T17:09:01.928280",
   "environment_variables": {},
   "exception": null,
   "input_path": "/home/users/wang2506/nanohub_salesforce_integ/salesforce/task_tool_usage_clusters_map_contacts.ipynb",
   "output_path": "/home/users/wang2506/nanohub_salesforce_integ/salesforce/task_tool_usage_clusters_map_contacts.ipynb",
   "parameters": {},
   "start_time": "2021-01-21T17:07:31.236020",
   "version": "2.1.1"
  }
 },
 "nbformat": 4,
 "nbformat_minor": 4
}
