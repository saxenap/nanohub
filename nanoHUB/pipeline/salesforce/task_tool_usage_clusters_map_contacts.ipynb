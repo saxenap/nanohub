{
 "cells": [
  {
   "cell_type": "markdown",
   "metadata": {
    "papermill": {
     "duration": 0.012296,
     "end_time": "2021-01-21T17:07:32.072950",
     "exception": false,
     "start_time": "2021-01-21T17:07:32.060654",
     "status": "completed"
    },
    "tags": []
   },
   "source": [
    "# DB2-Salesforce connector: Tool usage clusters mapping to users"
   ]
  },
  {
   "cell_type": "code",
   "execution_count": 1,
   "metadata": {
    "execution": {
     "iopub.execute_input": "2021-01-21T17:07:32.099413Z",
     "iopub.status.busy": "2021-01-21T17:07:32.098827Z",
     "iopub.status.idle": "2021-01-21T17:07:32.101209Z",
     "shell.execute_reply": "2021-01-21T17:07:32.100547Z"
    },
    "papermill": {
     "duration": 0.017635,
     "end_time": "2021-01-21T17:07:32.101348",
     "exception": false,
     "start_time": "2021-01-21T17:07:32.083713",
     "status": "completed"
    },
    "tags": [
     "parameters"
    ]
   },
   "outputs": [],
   "source": [
    "# API settings\n",
    "api_url = '/services/data/v43.0/sobjects'\n",
    "external_id = 'Name'\n",
    "object_id = 'ContactToolClusterAssociation__c'\n",
    "\n",
    "# login parameters to be handled by Papermill\n",
    "sql_login_params = {\"username\": \"wang2506_ro\", \"password\": \"fnVnwcCS7iT45EsA\"}\n",
    "sf_login_params = {\n",
    "    \"grant_type\": \"password\",\n",
    "    \"client_id\": \"3MVG95jctIhbyCppj0SNJ75IsZ1y8UPGZtSNF4j8FNVXz.De8Lu4jHm3rjRosAtsHy6qjHx3i4S_QbQzvBePG\",\n",
    "    \"client_secret\": \"D1623C6D3607D4FC8004B92C761DFB6C1F70CCD129C5501E357028DFA00F5764\",\n",
    "    \"username\":\"wang2506@purdue.edu\",\n",
    "    \"password\":\"sf2021shitOPmlIiFMLnrudgC6oSX0WV1T\",    \n",
    "} \n",
    "    #\"username\": \"wang159-4j1v@force.com\",\n",
    "    #\"password\": \"napoleon0eZ3PQpQqE3C3z4wWqEqKGhQ8\","
   ]
  },
  {
   "cell_type": "code",
   "execution_count": 2,
   "metadata": {
    "execution": {
     "iopub.execute_input": "2021-01-21T17:07:32.125843Z",
     "iopub.status.busy": "2021-01-21T17:07:32.125258Z",
     "iopub.status.idle": "2021-01-21T17:07:32.477012Z",
     "shell.execute_reply": "2021-01-21T17:07:32.476473Z"
    },
    "papermill": {
     "duration": 0.365653,
     "end_time": "2021-01-21T17:07:32.477149",
     "exception": false,
     "start_time": "2021-01-21T17:07:32.111496",
     "status": "completed"
    },
    "tags": []
   },
   "outputs": [],
   "source": [
    "import sys\n",
    "sys.path.append('/home/users/wang2506/nanohub_salesforce_integ/salesforce')\n",
    "    \n",
    "import pandas as pd\n",
    "import time\n",
    "import datetime\n",
    "\n",
    "from DB2SalesforceAPI import DB2SalesforceAPI"
   ]
  },
  {
   "cell_type": "markdown",
   "metadata": {
    "papermill": {
     "duration": 0.009871,
     "end_time": "2021-01-21T17:07:32.497341",
     "exception": false,
     "start_time": "2021-01-21T17:07:32.487470",
     "status": "completed"
    },
    "tags": []
   },
   "source": [
    "## Obtain tool information from DB2 "
   ]
  },
  {
   "cell_type": "code",
   "execution_count": 3,
   "metadata": {
    "execution": {
     "iopub.execute_input": "2021-01-21T17:07:32.524561Z",
     "iopub.status.busy": "2021-01-21T17:07:32.523966Z",
     "iopub.status.idle": "2021-01-21T17:07:34.682674Z",
     "shell.execute_reply": "2021-01-21T17:07:34.682063Z"
    },
    "papermill": {
     "duration": 2.174813,
     "end_time": "2021-01-21T17:07:34.682830",
     "exception": false,
     "start_time": "2021-01-21T17:07:32.508017",
     "status": "completed"
    },
    "tags": []
   },
   "outputs": [],
   "source": [
    "# connect with DB2\n",
    "import sqlalchemy as sql\n",
    "\n",
    "engine = sql.create_engine('mysql+pymysql://%s:%s@127.0.0.1/wang159_myrmekes' \\\n",
    "                                               %(sql_login_params['username'], sql_login_params['password']))\n",
    "\n",
    "class_info_df = pd.read_sql_query('select * from cluster_class_info', engine)\n",
    "students_info_df = pd.read_sql_query('select * from cluster_students_info', engine)\n",
    "\n"
   ]
  },
  {
   "cell_type": "code",
   "execution_count": 4,
   "metadata": {
    "execution": {
     "iopub.execute_input": "2021-01-21T17:07:34.719089Z",
     "iopub.status.busy": "2021-01-21T17:07:34.716136Z",
     "iopub.status.idle": "2021-01-21T17:07:34.722372Z",
     "shell.execute_reply": "2021-01-21T17:07:34.722776Z"
    },
    "papermill": {
     "duration": 0.02904,
     "end_time": "2021-01-21T17:07:34.722950",
     "exception": false,
     "start_time": "2021-01-21T17:07:34.693910",
     "status": "completed"
    },
    "tags": []
   },
   "outputs": [
    {
     "data": {
      "text/html": [
       "<div>\n",
       "<style scoped>\n",
       "    .dataframe tbody tr th:only-of-type {\n",
       "        vertical-align: middle;\n",
       "    }\n",
       "\n",
       "    .dataframe tbody tr th {\n",
       "        vertical-align: top;\n",
       "    }\n",
       "\n",
       "    .dataframe thead th {\n",
       "        text-align: right;\n",
       "    }\n",
       "</style>\n",
       "<table border=\"1\" class=\"dataframe\">\n",
       "  <thead>\n",
       "    <tr style=\"text-align: right;\">\n",
       "      <th></th>\n",
       "      <th>index</th>\n",
       "      <th>user</th>\n",
       "      <th>class_id</th>\n",
       "      <th>parti_rate</th>\n",
       "    </tr>\n",
       "  </thead>\n",
       "  <tbody>\n",
       "    <tr>\n",
       "      <th>0</th>\n",
       "      <td>0</td>\n",
       "      <td>salas</td>\n",
       "      <td>0</td>\n",
       "      <td>1.0</td>\n",
       "    </tr>\n",
       "    <tr>\n",
       "      <th>1</th>\n",
       "      <td>1</td>\n",
       "      <td>trohrbach</td>\n",
       "      <td>0</td>\n",
       "      <td>1.0</td>\n",
       "    </tr>\n",
       "    <tr>\n",
       "      <th>2</th>\n",
       "      <td>2</td>\n",
       "      <td>alqadia</td>\n",
       "      <td>0</td>\n",
       "      <td>1.0</td>\n",
       "    </tr>\n",
       "  </tbody>\n",
       "</table>\n",
       "</div>"
      ],
      "text/plain": [
       "   index       user  class_id  parti_rate\n",
       "0      0      salas         0         1.0\n",
       "1      1  trohrbach         0         1.0\n",
       "2      2    alqadia         0         1.0"
      ]
     },
     "execution_count": 4,
     "metadata": {},
     "output_type": "execute_result"
    }
   ],
   "source": [
    "students_info_df.head(3)"
   ]
  },
  {
   "cell_type": "markdown",
   "metadata": {
    "papermill": {
     "duration": 0.010842,
     "end_time": "2021-01-21T17:07:34.745696",
     "exception": false,
     "start_time": "2021-01-21T17:07:34.734854",
     "status": "completed"
    },
    "tags": []
   },
   "source": [
    "## Obtain Salesforce IDs"
   ]
  },
  {
   "cell_type": "code",
   "execution_count": 5,
   "metadata": {
    "execution": {
     "iopub.execute_input": "2021-01-21T17:07:34.771813Z",
     "iopub.status.busy": "2021-01-21T17:07:34.771241Z",
     "iopub.status.idle": "2021-01-21T17:07:35.134611Z",
     "shell.execute_reply": "2021-01-21T17:07:35.134100Z"
    },
    "papermill": {
     "duration": 0.378197,
     "end_time": "2021-01-21T17:07:35.134746",
     "exception": false,
     "start_time": "2021-01-21T17:07:34.756549",
     "status": "completed"
    },
    "tags": []
   },
   "outputs": [
    {
     "name": "stdout",
     "output_type": "stream",
     "text": [
      "Obtained Salesforce access token ...... True\n"
     ]
    }
   ],
   "source": [
    "# create DB2 to Salesforce API object\n",
    "db_s = DB2SalesforceAPI(sf_login_params)"
   ]
  },
  {
   "cell_type": "code",
   "execution_count": 6,
   "metadata": {
    "execution": {
     "iopub.execute_input": "2021-01-21T17:07:35.162117Z",
     "iopub.status.busy": "2021-01-21T17:07:35.161540Z",
     "iopub.status.idle": "2021-01-21T17:08:10.519165Z",
     "shell.execute_reply": "2021-01-21T17:08:10.518584Z"
    },
    "papermill": {
     "duration": 35.372983,
     "end_time": "2021-01-21T17:08:10.519309",
     "exception": false,
     "start_time": "2021-01-21T17:07:35.146326",
     "status": "completed"
    },
    "tags": []
   },
   "outputs": [
    {
     "name": "stdout",
     "output_type": "stream",
     "text": [
      "[Success] Bulk job creation successful. Job ID = 7505w00000ToXkVAAV\n",
      "{\"id\":\"7505w00000ToXkVAAV\",\"operation\":\"query\",\"object\":\"Contact\",\"createdById\":\"0055w00000DM5bOAAT\",\"createdDate\":\"2021-02-02T00:09:01.000+0000\",\"systemModstamp\":\"2021-02-02T00:09:01.000+0000\",\"state\":\"UploadComplete\",\"concurrencyMode\":\"Parallel\",\"contentType\":\"CSV\",\"apiVersion\":47.0,\"jobType\":\"V2Query\",\"lineEnding\":\"LF\",\"columnDelimiter\":\"COMMA\",\"retries\":0,\"totalProcessingTime\":0}\n",
      "{\"id\":\"7505w00000ToXkVAAV\",\"operation\":\"query\",\"object\":\"Contact\",\"createdById\":\"0055w00000DM5bOAAT\",\"createdDate\":\"2021-02-02T00:09:01.000+0000\",\"systemModstamp\":\"2021-02-02T00:09:02.000+0000\",\"state\":\"InProgress\",\"concurrencyMode\":\"Parallel\",\"contentType\":\"CSV\",\"apiVersion\":47.0,\"jobType\":\"V2Query\",\"lineEnding\":\"LF\",\"columnDelimiter\":\"COMMA\",\"numberRecordsProcessed\":0,\"retries\":0,\"totalProcessingTime\":0}\n",
      "{\"id\":\"7505w00000ToXkVAAV\",\"operation\":\"query\",\"object\":\"Contact\",\"createdById\":\"0055w00000DM5bOAAT\",\"createdDate\":\"2021-02-02T00:09:01.000+0000\",\"systemModstamp\":\"2021-02-02T00:09:15.000+0000\",\"state\":\"JobComplete\",\"concurrencyMode\":\"Parallel\",\"contentType\":\"CSV\",\"apiVersion\":47.0,\"jobType\":\"V2Query\",\"lineEnding\":\"LF\",\"columnDelimiter\":\"COMMA\",\"numberRecordsProcessed\":231034,\"retries\":0,\"totalProcessingTime\":12011}\n",
      "[Success] Bulk job completed successfully.\n"
     ]
    }
   ],
   "source": [
    "# query the Salesforce IDs for contacts and citations. when updating junction objects, these IDs must be used\n",
    "\n",
    "# get Salesforce ID for contacts\n",
    "sf_username_df = db_s.query_data('SELECT Id, nanoHUB_username__c FROM Contact where nanoHUB_username__c != NULL')"
   ]
  },
  {
   "cell_type": "code",
   "execution_count": 7,
   "metadata": {
    "execution": {
     "iopub.execute_input": "2021-01-21T17:08:10.552549Z",
     "iopub.status.busy": "2021-01-21T17:08:10.551978Z",
     "iopub.status.idle": "2021-01-21T17:08:55.147274Z",
     "shell.execute_reply": "2021-01-21T17:08:55.147907Z"
    },
    "papermill": {
     "duration": 44.613786,
     "end_time": "2021-01-21T17:08:55.148086",
     "exception": false,
     "start_time": "2021-01-21T17:08:10.534300",
     "status": "completed"
    },
    "tags": []
   },
   "outputs": [
    {
     "name": "stdout",
     "output_type": "stream",
     "text": [
      "[Success] Bulk job creation successful. Job ID = 7505w00000ToXufAAF\n",
      "{\"id\":\"7505w00000ToXufAAF\",\"operation\":\"query\",\"object\":\"tool_usage_cluster__c\",\"createdById\":\"0055w00000DM5bOAAT\",\"createdDate\":\"2021-02-02T00:09:29.000+0000\",\"systemModstamp\":\"2021-02-02T00:09:29.000+0000\",\"state\":\"InProgress\",\"concurrencyMode\":\"Parallel\",\"contentType\":\"CSV\",\"apiVersion\":47.0,\"jobType\":\"V2Query\",\"lineEnding\":\"LF\",\"columnDelimiter\":\"COMMA\",\"numberRecordsProcessed\":0,\"retries\":0,\"totalProcessingTime\":0}\n",
      "{\"id\":\"7505w00000ToXufAAF\",\"operation\":\"query\",\"object\":\"tool_usage_cluster__c\",\"createdById\":\"0055w00000DM5bOAAT\",\"createdDate\":\"2021-02-02T00:09:29.000+0000\",\"systemModstamp\":\"2021-02-02T00:09:30.000+0000\",\"state\":\"JobComplete\",\"concurrencyMode\":\"Parallel\",\"contentType\":\"CSV\",\"apiVersion\":47.0,\"jobType\":\"V2Query\",\"lineEnding\":\"LF\",\"columnDelimiter\":\"COMMA\",\"numberRecordsProcessed\":3957,\"retries\":0,\"totalProcessingTime\":469}\n",
      "[Success] Bulk job completed successfully.\n"
     ]
    }
   ],
   "source": [
    "# get Salesforce ID for citations\n",
    "sf_clusterID_df = db_s.query_data('SELECT Id, ID__c FROM tool_usage_cluster__c')\n",
    "\n",
    "sf_clusterID_df['ID__c'] = sf_clusterID_df['ID__c'].astype('int')"
   ]
  },
  {
   "cell_type": "markdown",
   "metadata": {
    "papermill": {
     "duration": 0.01629,
     "end_time": "2021-01-21T17:08:55.179219",
     "exception": false,
     "start_time": "2021-01-21T17:08:55.162929",
     "status": "completed"
    },
    "tags": []
   },
   "source": [
    "## Match data with Salesforce format"
   ]
  },
  {
   "cell_type": "code",
   "execution_count": 8,
   "metadata": {
    "execution": {
     "iopub.execute_input": "2021-01-21T17:08:55.225148Z",
     "iopub.status.busy": "2021-01-21T17:08:55.224405Z",
     "iopub.status.idle": "2021-01-21T17:08:55.236837Z",
     "shell.execute_reply": "2021-01-21T17:08:55.237443Z"
    },
    "papermill": {
     "duration": 0.041067,
     "end_time": "2021-01-21T17:08:55.237619",
     "exception": false,
     "start_time": "2021-01-21T17:08:55.196552",
     "status": "completed"
    },
    "tags": []
   },
   "outputs": [
    {
     "data": {
      "text/html": [
       "<div>\n",
       "<style scoped>\n",
       "    .dataframe tbody tr th:only-of-type {\n",
       "        vertical-align: middle;\n",
       "    }\n",
       "\n",
       "    .dataframe tbody tr th {\n",
       "        vertical-align: top;\n",
       "    }\n",
       "\n",
       "    .dataframe thead th {\n",
       "        text-align: right;\n",
       "    }\n",
       "</style>\n",
       "<table border=\"1\" class=\"dataframe\">\n",
       "  <thead>\n",
       "    <tr style=\"text-align: right;\">\n",
       "      <th></th>\n",
       "      <th>index</th>\n",
       "      <th>user</th>\n",
       "      <th>class_id</th>\n",
       "      <th>parti_rate</th>\n",
       "    </tr>\n",
       "  </thead>\n",
       "  <tbody>\n",
       "    <tr>\n",
       "      <th>0</th>\n",
       "      <td>0</td>\n",
       "      <td>salas</td>\n",
       "      <td>0</td>\n",
       "      <td>1.0</td>\n",
       "    </tr>\n",
       "    <tr>\n",
       "      <th>1</th>\n",
       "      <td>1</td>\n",
       "      <td>trohrbach</td>\n",
       "      <td>0</td>\n",
       "      <td>1.0</td>\n",
       "    </tr>\n",
       "  </tbody>\n",
       "</table>\n",
       "</div>"
      ],
      "text/plain": [
       "   index       user  class_id  parti_rate\n",
       "0      0      salas         0         1.0\n",
       "1      1  trohrbach         0         1.0"
      ]
     },
     "metadata": {},
     "output_type": "display_data"
    },
    {
     "data": {
      "text/html": [
       "<div>\n",
       "<style scoped>\n",
       "    .dataframe tbody tr th:only-of-type {\n",
       "        vertical-align: middle;\n",
       "    }\n",
       "\n",
       "    .dataframe tbody tr th {\n",
       "        vertical-align: top;\n",
       "    }\n",
       "\n",
       "    .dataframe thead th {\n",
       "        text-align: right;\n",
       "    }\n",
       "</style>\n",
       "<table border=\"1\" class=\"dataframe\">\n",
       "  <thead>\n",
       "    <tr style=\"text-align: right;\">\n",
       "      <th></th>\n",
       "      <th>Id</th>\n",
       "      <th>nanoHUB_username__c</th>\n",
       "    </tr>\n",
       "  </thead>\n",
       "  <tbody>\n",
       "    <tr>\n",
       "      <th>0</th>\n",
       "      <td>0035w000031Vsp1AAC</td>\n",
       "      <td>hubrepo</td>\n",
       "    </tr>\n",
       "    <tr>\n",
       "      <th>1</th>\n",
       "      <td>0035w000031Vsp2AAC</td>\n",
       "      <td>support</td>\n",
       "    </tr>\n",
       "  </tbody>\n",
       "</table>\n",
       "</div>"
      ],
      "text/plain": [
       "                   Id nanoHUB_username__c\n",
       "0  0035w000031Vsp1AAC             hubrepo\n",
       "1  0035w000031Vsp2AAC             support"
      ]
     },
     "metadata": {},
     "output_type": "display_data"
    },
    {
     "data": {
      "text/html": [
       "<div>\n",
       "<style scoped>\n",
       "    .dataframe tbody tr th:only-of-type {\n",
       "        vertical-align: middle;\n",
       "    }\n",
       "\n",
       "    .dataframe tbody tr th {\n",
       "        vertical-align: top;\n",
       "    }\n",
       "\n",
       "    .dataframe thead th {\n",
       "        text-align: right;\n",
       "    }\n",
       "</style>\n",
       "<table border=\"1\" class=\"dataframe\">\n",
       "  <thead>\n",
       "    <tr style=\"text-align: right;\">\n",
       "      <th></th>\n",
       "      <th>ID__c</th>\n",
       "      <th>Id</th>\n",
       "    </tr>\n",
       "  </thead>\n",
       "  <tbody>\n",
       "    <tr>\n",
       "      <th>0</th>\n",
       "      <td>4</td>\n",
       "      <td>a0w5w000009Q7CuAAK</td>\n",
       "    </tr>\n",
       "    <tr>\n",
       "      <th>1</th>\n",
       "      <td>5</td>\n",
       "      <td>a0w5w000009Q7CvAAK</td>\n",
       "    </tr>\n",
       "  </tbody>\n",
       "</table>\n",
       "</div>"
      ],
      "text/plain": [
       "   ID__c                  Id\n",
       "0      4  a0w5w000009Q7CuAAK\n",
       "1      5  a0w5w000009Q7CvAAK"
      ]
     },
     "metadata": {},
     "output_type": "display_data"
    }
   ],
   "source": [
    "# Display\n",
    "display(students_info_df.head(2))\n",
    "display(sf_username_df.head(2))\n",
    "display(sf_clusterID_df.head(2))"
   ]
  },
  {
   "cell_type": "code",
   "execution_count": 9,
   "metadata": {
    "execution": {
     "iopub.execute_input": "2021-01-21T17:08:55.300905Z",
     "iopub.status.busy": "2021-01-21T17:08:55.300285Z",
     "iopub.status.idle": "2021-01-21T17:08:55.625854Z",
     "shell.execute_reply": "2021-01-21T17:08:55.626415Z"
    },
    "papermill": {
     "duration": 0.37234,
     "end_time": "2021-01-21T17:08:55.626601",
     "exception": false,
     "start_time": "2021-01-21T17:08:55.254261",
     "status": "completed"
    },
    "tags": []
   },
   "outputs": [
    {
     "data": {
      "text/html": [
       "<div>\n",
       "<style scoped>\n",
       "    .dataframe tbody tr th:only-of-type {\n",
       "        vertical-align: middle;\n",
       "    }\n",
       "\n",
       "    .dataframe tbody tr th {\n",
       "        vertical-align: top;\n",
       "    }\n",
       "\n",
       "    .dataframe thead th {\n",
       "        text-align: right;\n",
       "    }\n",
       "</style>\n",
       "<table border=\"1\" class=\"dataframe\">\n",
       "  <thead>\n",
       "    <tr style=\"text-align: right;\">\n",
       "      <th></th>\n",
       "      <th>index</th>\n",
       "      <th>user</th>\n",
       "      <th>class_id</th>\n",
       "      <th>parti_rate</th>\n",
       "      <th>SF_ID_contact</th>\n",
       "      <th>nanoHUB_username__c</th>\n",
       "      <th>ID__c</th>\n",
       "      <th>SF_ID_cluster</th>\n",
       "    </tr>\n",
       "  </thead>\n",
       "  <tbody>\n",
       "    <tr>\n",
       "      <th>0</th>\n",
       "      <td>0</td>\n",
       "      <td>salas</td>\n",
       "      <td>0</td>\n",
       "      <td>1.0</td>\n",
       "      <td>0035w000034Jm4mAAC</td>\n",
       "      <td>salas</td>\n",
       "      <td>0</td>\n",
       "      <td>a0w5w00000A8U1UAAV</td>\n",
       "    </tr>\n",
       "    <tr>\n",
       "      <th>1</th>\n",
       "      <td>1</td>\n",
       "      <td>trohrbach</td>\n",
       "      <td>0</td>\n",
       "      <td>1.0</td>\n",
       "      <td>0035w000034Jm55AAC</td>\n",
       "      <td>trohrbach</td>\n",
       "      <td>0</td>\n",
       "      <td>a0w5w00000A8U1UAAV</td>\n",
       "    </tr>\n",
       "  </tbody>\n",
       "</table>\n",
       "</div>"
      ],
      "text/plain": [
       "   index       user  class_id  parti_rate       SF_ID_contact  \\\n",
       "0      0      salas         0         1.0  0035w000034Jm4mAAC   \n",
       "1      1  trohrbach         0         1.0  0035w000034Jm55AAC   \n",
       "\n",
       "  nanoHUB_username__c  ID__c       SF_ID_cluster  \n",
       "0               salas      0  a0w5w00000A8U1UAAV  \n",
       "1           trohrbach      0  a0w5w00000A8U1UAAV  "
      ]
     },
     "execution_count": 9,
     "metadata": {},
     "output_type": "execute_result"
    }
   ],
   "source": [
    "# merge dataframes\n",
    "cc_tolink_df = pd.merge(students_info_df, sf_username_df, how='inner', left_on='user', right_on='nanoHUB_username__c')\\\n",
    "                           .rename(columns={'Id':'SF_ID_contact'})\n",
    "\n",
    "cc_tolink_df = pd.merge(cc_tolink_df, sf_clusterID_df, how='inner', left_on='class_id', right_on='ID__c')\\\n",
    "                           .rename(columns={'Id':'SF_ID_cluster'})\n",
    "\n",
    "# display\n",
    "cc_tolink_df.head(2)"
   ]
  },
  {
   "cell_type": "code",
   "execution_count": 10,
   "metadata": {
    "execution": {
     "iopub.execute_input": "2021-01-21T17:08:55.662725Z",
     "iopub.status.busy": "2021-01-21T17:08:55.662079Z",
     "iopub.status.idle": "2021-01-21T17:08:58.987508Z",
     "shell.execute_reply": "2021-01-21T17:08:58.986713Z"
    },
    "papermill": {
     "duration": 3.345149,
     "end_time": "2021-01-21T17:08:58.987703",
     "exception": false,
     "start_time": "2021-01-21T17:08:55.642554",
     "status": "completed"
    },
    "tags": []
   },
   "outputs": [],
   "source": [
    "# create a new column for object name\n",
    "cc_tolink_df['Name'] = cc_tolink_df.apply(lambda x: '%s_%d'%(x.nanoHUB_username__c, x.ID__c), axis=1)"
   ]
  },
  {
   "cell_type": "code",
   "execution_count": 11,
   "metadata": {
    "execution": {
     "iopub.execute_input": "2021-01-21T17:08:59.033563Z",
     "iopub.status.busy": "2021-01-21T17:08:59.032650Z",
     "iopub.status.idle": "2021-01-21T17:08:59.049076Z",
     "shell.execute_reply": "2021-01-21T17:08:59.048421Z"
    },
    "papermill": {
     "duration": 0.043754,
     "end_time": "2021-01-21T17:08:59.049212",
     "exception": false,
     "start_time": "2021-01-21T17:08:59.005458",
     "status": "completed"
    },
    "tags": []
   },
   "outputs": [
    {
     "data": {
      "text/html": [
       "<div>\n",
       "<style scoped>\n",
       "    .dataframe tbody tr th:only-of-type {\n",
       "        vertical-align: middle;\n",
       "    }\n",
       "\n",
       "    .dataframe tbody tr th {\n",
       "        vertical-align: top;\n",
       "    }\n",
       "\n",
       "    .dataframe thead th {\n",
       "        text-align: right;\n",
       "    }\n",
       "</style>\n",
       "<table border=\"1\" class=\"dataframe\">\n",
       "  <thead>\n",
       "    <tr style=\"text-align: right;\">\n",
       "      <th></th>\n",
       "      <th>0</th>\n",
       "      <th>1</th>\n",
       "    </tr>\n",
       "  </thead>\n",
       "  <tbody>\n",
       "    <tr>\n",
       "      <th>Name</th>\n",
       "      <td>salas_0</td>\n",
       "      <td>trohrbach_0</td>\n",
       "    </tr>\n",
       "    <tr>\n",
       "      <th>Contact__c</th>\n",
       "      <td>0035w000034Jm4mAAC</td>\n",
       "      <td>0035w000034Jm55AAC</td>\n",
       "    </tr>\n",
       "    <tr>\n",
       "      <th>Tool_Usage_Cluster__c</th>\n",
       "      <td>a0w5w00000A8U1UAAV</td>\n",
       "      <td>a0w5w00000A8U1UAAV</td>\n",
       "    </tr>\n",
       "  </tbody>\n",
       "</table>\n",
       "</div>"
      ],
      "text/plain": [
       "                                        0                   1\n",
       "Name                              salas_0         trohrbach_0\n",
       "Contact__c             0035w000034Jm4mAAC  0035w000034Jm55AAC\n",
       "Tool_Usage_Cluster__c  a0w5w00000A8U1UAAV  a0w5w00000A8U1UAAV"
      ]
     },
     "execution_count": 11,
     "metadata": {},
     "output_type": "execute_result"
    }
   ],
   "source": [
    "df_sf = pd.DataFrame()\n",
    "\n",
    "# Make sure NaN and NaT values are taken care of here\n",
    "df_sf['Name']         = cc_tolink_df['Name']\n",
    "df_sf['Contact__c'] = cc_tolink_df['SF_ID_contact']\n",
    "df_sf['Tool_Usage_Cluster__c'] = cc_tolink_df['SF_ID_cluster']\n",
    "\n",
    "sf_original_fields = df_sf.columns\n",
    "\n",
    "# display\n",
    "df_sf.head(2).T"
   ]
  },
  {
   "cell_type": "code",
   "execution_count": 15,
   "metadata": {},
   "outputs": [
    {
     "data": {
      "text/plain": [
       "(92592, 3)"
      ]
     },
     "execution_count": 15,
     "metadata": {},
     "output_type": "execute_result"
    }
   ],
   "source": [
    "df_sf.shape"
   ]
  },
  {
   "cell_type": "markdown",
   "metadata": {
    "papermill": {
     "duration": 0.017519,
     "end_time": "2021-01-21T17:08:59.082931",
     "exception": false,
     "start_time": "2021-01-21T17:08:59.065412",
     "status": "completed"
    },
    "tags": []
   },
   "source": [
    "## To Salesforce Sales Cloud CRM"
   ]
  },
  {
   "cell_type": "code",
   "execution_count": 12,
   "metadata": {
    "execution": {
     "iopub.execute_input": "2021-01-21T17:08:59.125739Z",
     "iopub.status.busy": "2021-01-21T17:08:59.125142Z",
     "iopub.status.idle": "2021-01-21T17:08:59.408167Z",
     "shell.execute_reply": "2021-01-21T17:08:59.408573Z"
    },
    "papermill": {
     "duration": 0.307966,
     "end_time": "2021-01-21T17:08:59.408742",
     "exception": false,
     "start_time": "2021-01-21T17:08:59.100776",
     "status": "completed"
    },
    "tags": []
   },
   "outputs": [
    {
     "name": "stdout",
     "output_type": "stream",
     "text": [
      "Obtained Salesforce access token ...... True\n"
     ]
    }
   ],
   "source": [
    "# create DB2 to Salesforce API object\n",
    "db_s = DB2SalesforceAPI(sf_login_params)\n",
    "\n",
    "# specify Salesforce object ID and external ID\n",
    "db_s.object_id = object_id\n",
    "db_s.external_id = external_id"
   ]
  },
  {
   "cell_type": "code",
   "execution_count": 13,
   "metadata": {
    "execution": {
     "iopub.execute_input": "2021-01-21T17:08:59.450566Z",
     "iopub.status.busy": "2021-01-21T17:08:59.449836Z",
     "iopub.status.idle": "2021-01-21T17:09:01.064128Z",
     "shell.execute_reply": "2021-01-21T17:09:01.063652Z"
    },
    "papermill": {
     "duration": 1.636554,
     "end_time": "2021-01-21T17:09:01.064267",
     "exception": false,
     "start_time": "2021-01-21T17:08:59.427713",
     "status": "completed"
    },
    "tags": []
   },
   "outputs": [
    {
     "name": "stdout",
     "output_type": "stream",
     "text": [
      "[Success] Bulk job creation successful. Job ID = 7505w00000ToXrHAAV\n",
      "hello\n",
      "[Success] CSV upload successful. Job ID = 7505w00000ToXrHAAV\n",
      "[Success] Closing job successful. Job ID = 7505w00000ToXrHAAV\n"
     ]
    }
   ],
   "source": [
    "# send data to Salesforce\n",
    "db_s.send_data(df_sf)"
   ]
  },
  {
   "cell_type": "code",
   "execution_count": 14,
   "metadata": {
    "execution": {
     "iopub.execute_input": "2021-01-21T17:09:01.105364Z",
     "iopub.status.busy": "2021-01-21T17:09:01.104740Z",
     "iopub.status.idle": "2021-01-21T17:09:01.468772Z",
     "shell.execute_reply": "2021-01-21T17:09:01.468329Z"
    },
    "papermill": {
     "duration": 0.386924,
     "end_time": "2021-01-21T17:09:01.468919",
     "exception": false,
     "start_time": "2021-01-21T17:09:01.081995",
     "status": "completed"
    },
    "tags": []
   },
   "outputs": [
    {
     "name": "stdout",
     "output_type": "stream",
     "text": [
      "{'apexProcessingTime': 0,\n",
      " 'apiActiveProcessingTime': 0,\n",
      " 'apiVersion': 47.0,\n",
      " 'columnDelimiter': 'COMMA',\n",
      " 'concurrencyMode': 'Parallel',\n",
      " 'contentType': 'CSV',\n",
      " 'createdById': '0055w00000DM5bOAAT',\n",
      " 'createdDate': '2021-02-02T00:09:47.000+0000',\n",
      " 'externalIdFieldName': 'Name',\n",
      " 'id': '7505w00000ToXrHAAV',\n",
      " 'jobType': 'V2Ingest',\n",
      " 'lineEnding': 'LF',\n",
      " 'numberRecordsFailed': 0,\n",
      " 'numberRecordsProcessed': 0,\n",
      " 'object': 'ContactToolClusterAssociation__c',\n",
      " 'operation': 'upsert',\n",
      " 'retries': 0,\n",
      " 'state': 'InProgress',\n",
      " 'systemModstamp': '2021-02-02T00:09:55.000+0000',\n",
      " 'totalProcessingTime': 0}\n"
     ]
    }
   ],
   "source": [
    "# check status\n",
    "from pprint import pprint\n",
    "\n",
    "pprint(db_s.check_bulk_status())"
   ]
  },
  {
   "cell_type": "code",
   "execution_count": null,
   "metadata": {
    "papermill": {
     "duration": 0.016917,
     "end_time": "2021-01-21T17:09:01.502984",
     "exception": false,
     "start_time": "2021-01-21T17:09:01.486067",
     "status": "completed"
    },
    "tags": []
   },
   "outputs": [],
   "source": []
  }
 ],
 "metadata": {
  "celltoolbar": "Tags",
  "kernelspec": {
   "display_name": "Python 3",
   "language": "python",
   "name": "python3"
  },
  "language_info": {
   "codemirror_mode": {
    "name": "ipython",
    "version": 3
   },
   "file_extension": ".py",
   "mimetype": "text/x-python",
   "name": "python",
   "nbconvert_exporter": "python",
   "pygments_lexer": "ipython3",
   "version": "3.7.10"
  },
  "papermill": {
   "duration": 90.69226,
   "end_time": "2021-01-21T17:09:01.928280",
   "environment_variables": {},
   "exception": null,
   "input_path": "/home/users/wang2506/nanohub_salesforce_integ/salesforce/task_tool_usage_clusters_map_contacts.ipynb",
   "output_path": "/home/users/wang2506/nanohub_salesforce_integ/salesforce/task_tool_usage_clusters_map_contacts.ipynb",
   "parameters": {},
   "start_time": "2021-01-21T17:07:31.236020",
   "version": "2.1.1"
  }
 },
 "nbformat": 4,
 "nbformat_minor": 4
}