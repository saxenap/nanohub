{
 "cells": [
  {
   "cell_type": "markdown",
   "metadata": {
    "tags": [
     "papermill-error-cell-tag"
    ],
    "pycharm": {
     "name": "#%% md\n"
    }
   },
   "source": [
    "    <span style=\"color:red; font-family:Helvetica Neue, Helvetica, Arial, sans-serif; font-size:2em;\">An Exception was encountered at '<a href=\"#papermill-error-cell\">In [21]</a>'.</span>"
   ]
  },
  {
   "cell_type": "markdown",
   "metadata": {
    "papermill": {
     "duration": 0.052612,
     "end_time": "2021-01-21T17:11:41.914617",
     "exception": false,
     "start_time": "2021-01-21T17:11:41.862005",
     "status": "completed"
    },
    "tags": [],
    "pycharm": {
     "name": "#%% md\n"
    }
   },
   "source": [
    "# Filters and combines existing clusters based on tools used, start and end dates, and organization\n",
    "## Rebuilds all clusters (will need to run daily)"
   ]
  },
  {
   "cell_type": "code",
   "execution_count": 1,
   "metadata": {
    "execution": {
     "iopub.execute_input": "2022-01-31T03:33:36.896573Z",
     "iopub.status.busy": "2022-01-31T03:33:36.895207Z",
     "iopub.status.idle": "2022-01-31T03:33:40.359637Z",
     "shell.execute_reply": "2022-01-31T03:33:40.358264Z",
     "shell.execute_reply.started": "2022-01-31T03:33:36.896174Z"
    },
    "papermill": {
     "duration": 0.055174,
     "end_time": "2021-01-21T17:11:42.017348",
     "exception": false,
     "start_time": "2021-01-21T17:11:41.962174",
     "status": "completed"
    },
    "tags": [],
    "pycharm": {
     "name": "#%%\n"
    }
   },
   "outputs": [
    {
     "name": "stdout",
     "output_type": "stream",
     "text": [
      "\u001B[1mnanoHUB - Serving Students, Researchers & Instructors\u001B[0m\n"
     ]
    }
   ],
   "source": [
    "# API settings\n",
    "api_url = '/services/data/v43.0/sobjects'\n",
    "external_id = 'Name'\n",
    "object_id = 'ContactToolAssociation__c'\n",
    "\n",
    "from nanoHUB.application import Application\n",
    "application = Application.get_instance()\n"
   ]
  },
  {
   "cell_type": "code",
   "execution_count": 2,
   "metadata": {
    "execution": {
     "iopub.execute_input": "2022-01-31T03:33:40.370079Z",
     "iopub.status.busy": "2022-01-31T03:33:40.369287Z",
     "iopub.status.idle": "2022-01-31T03:33:40.396427Z",
     "shell.execute_reply": "2022-01-31T03:33:40.395251Z",
     "shell.execute_reply.started": "2022-01-31T03:33:40.370024Z"
    },
    "papermill": {
     "duration": 0.406017,
     "end_time": "2021-01-21T17:11:42.471642",
     "exception": false,
     "start_time": "2021-01-21T17:11:42.065625",
     "status": "completed"
    },
    "tags": [],
    "pycharm": {
     "name": "#%%\n"
    }
   },
   "outputs": [],
   "source": [
    "import sys\n",
    " \n",
    "import pandas as pd\n",
    "import time\n",
    "import datetime\n",
    "\n",
    "from DB2SalesforceAPI import DB2SalesforceAPI\n"
   ]
  },
  {
   "cell_type": "markdown",
   "metadata": {
    "papermill": {
     "duration": 0.049524,
     "end_time": "2021-01-21T17:11:42.569410",
     "exception": false,
     "start_time": "2021-01-21T17:11:42.519886",
     "status": "completed"
    },
    "tags": [],
    "pycharm": {
     "name": "#%% md\n"
    }
   },
   "source": [
    "## Pull data from SF - this will be a post SF filter"
   ]
  },
  {
   "cell_type": "code",
   "execution_count": 3,
   "metadata": {
    "execution": {
     "iopub.execute_input": "2022-01-31T03:33:40.409422Z",
     "iopub.status.busy": "2022-01-31T03:33:40.407457Z",
     "iopub.status.idle": "2022-01-31T03:33:40.427118Z",
     "shell.execute_reply": "2022-01-31T03:33:40.425351Z",
     "shell.execute_reply.started": "2022-01-31T03:33:40.409355Z"
    },
    "papermill": {
     "duration": 0.054658,
     "end_time": "2021-01-21T17:11:42.672146",
     "exception": false,
     "start_time": "2021-01-21T17:11:42.617488",
     "status": "completed"
    },
    "tags": [],
    "pycharm": {
     "name": "#%%\n"
    }
   },
   "outputs": [],
   "source": [
    "##########################################################################################\n",
    "## 1 - Pull all tool_usage_cluster__c information\n",
    "##     i) ID\n",
    "##     ii) Ending_Date__c\n",
    "##     iii) Starting_Date__c\n",
    "##     iv) Organization__c\n",
    "##     v) Semester__c\n",
    "## 2 - Pull all ContactToolClusterAssociation__c information\n",
    "##     i) Tool_Usage_Cluster__c\n",
    "##     ii) Contact__c\n",
    "## 3 - Pull all ToolToolClusterAssociation__c information\n",
    "##     i) Tool_Usage_Cluster__c\n",
    "##     ii) Tool__c\n",
    "## 4 - determine which tool_usage_cluster__c are suspicious \n",
    "##     i) first, group tool_usage_cluster__c by tool__c used\n",
    "##     ii) check starting and ending dates - if they overlap, make a note of the tool_usage_clusters\n",
    "## 5 - combining tool_usage_cluster__c \n",
    "##     i) use one of the existing Ids, mark the others for deletion\n",
    "##     ii) when combining, pull the relevant Tool__c information and Contact__c information\n",
    "##\n",
    "##########################################################################################"
   ]
  },
  {
   "cell_type": "code",
   "execution_count": 4,
   "metadata": {
    "execution": {
     "iopub.execute_input": "2022-01-31T03:33:40.437029Z",
     "iopub.status.busy": "2022-01-31T03:33:40.432284Z",
     "iopub.status.idle": "2022-01-31T03:33:40.837301Z",
     "shell.execute_reply": "2022-01-31T03:33:40.835435Z",
     "shell.execute_reply.started": "2022-01-31T03:33:40.436714Z"
    },
    "papermill": {
     "duration": 0.649365,
     "end_time": "2021-01-21T17:11:43.374777",
     "exception": false,
     "start_time": "2021-01-21T17:11:42.725412",
     "status": "completed"
    },
    "tags": [],
    "pycharm": {
     "name": "#%%\n"
    }
   },
   "outputs": [
    {
     "name": "stdout",
     "output_type": "stream",
     "text": [
      "Obtained Salesforce access token ...... True\n"
     ]
    }
   ],
   "source": [
    "# db_1 = DB2SalesforceAPI(sf_login_params)\n",
    "db_1 = application.new_salesforce_engine()"
   ]
  },
  {
   "cell_type": "code",
   "execution_count": 5,
   "metadata": {
    "execution": {
     "iopub.execute_input": "2022-01-31T03:33:40.851320Z",
     "iopub.status.busy": "2022-01-31T03:33:40.846376Z",
     "iopub.status.idle": "2022-01-31T03:33:52.631488Z",
     "shell.execute_reply": "2022-01-31T03:33:52.629464Z",
     "shell.execute_reply.started": "2022-01-31T03:33:40.851194Z"
    },
    "papermill": {
     "duration": 12.841728,
     "end_time": "2021-01-21T17:11:56.266299",
     "exception": false,
     "start_time": "2021-01-21T17:11:43.424571",
     "status": "completed"
    },
    "tags": [],
    "pycharm": {
     "name": "#%%\n"
    }
   },
   "outputs": [
    {
     "name": "stdout",
     "output_type": "stream",
     "text": [
      "[Success] Bulk job creation successful. Job ID = 7505w00000cyX2RAAU\n",
      "{\"id\":\"7505w00000cyX2RAAU\",\"operation\":\"query\",\"object\":\"tool_usage_cluster__c\",\"createdById\":\"0055w00000DM5bOAAT\",\"createdDate\":\"2022-01-31T03:33:41.000+0000\",\"systemModstamp\":\"2022-01-31T03:33:41.000+0000\",\"state\":\"InProgress\",\"concurrencyMode\":\"Parallel\",\"contentType\":\"CSV\",\"apiVersion\":47.0,\"jobType\":\"V2Query\",\"lineEnding\":\"LF\",\"columnDelimiter\":\"COMMA\",\"numberRecordsProcessed\":0,\"retries\":0,\"totalProcessingTime\":0}\n",
      "{\"id\":\"7505w00000cyX2RAAU\",\"operation\":\"query\",\"object\":\"tool_usage_cluster__c\",\"createdById\":\"0055w00000DM5bOAAT\",\"createdDate\":\"2022-01-31T03:33:41.000+0000\",\"systemModstamp\":\"2022-01-31T03:33:42.000+0000\",\"state\":\"JobComplete\",\"concurrencyMode\":\"Parallel\",\"contentType\":\"CSV\",\"apiVersion\":47.0,\"jobType\":\"V2Query\",\"lineEnding\":\"LF\",\"columnDelimiter\":\"COMMA\",\"numberRecordsProcessed\":4576,\"retries\":0,\"totalProcessingTime\":661}\n",
      "[Success] Bulk job completed successfully.\n"
     ]
    }
   ],
   "source": [
    "tool_cluster_df = db_1.query_data('Select ID, Ending_Date__c, Starting_Date__c, Organization__c,Semester__c \\\n",
    "                        from tool_usage_cluster__c')"
   ]
  },
  {
   "cell_type": "code",
   "execution_count": 6,
   "metadata": {
    "execution": {
     "iopub.execute_input": "2022-01-31T03:33:52.635414Z",
     "iopub.status.busy": "2022-01-31T03:33:52.634481Z",
     "iopub.status.idle": "2022-01-31T03:33:52.666023Z",
     "shell.execute_reply": "2022-01-31T03:33:52.664244Z",
     "shell.execute_reply.started": "2022-01-31T03:33:52.635346Z"
    },
    "papermill": {
     "duration": 0.069358,
     "end_time": "2021-01-21T17:11:56.384019",
     "exception": false,
     "start_time": "2021-01-21T17:11:56.314661",
     "status": "completed"
    },
    "tags": [],
    "pycharm": {
     "name": "#%%\n"
    }
   },
   "outputs": [
    {
     "data": {
      "text/html": [
       "<div>\n",
       "<style scoped>\n",
       "    .dataframe tbody tr th:only-of-type {\n",
       "        vertical-align: middle;\n",
       "    }\n",
       "\n",
       "    .dataframe tbody tr th {\n",
       "        vertical-align: top;\n",
       "    }\n",
       "\n",
       "    .dataframe thead th {\n",
       "        text-align: right;\n",
       "    }\n",
       "</style>\n",
       "<table border=\"1\" class=\"dataframe\">\n",
       "  <thead>\n",
       "    <tr style=\"text-align: right;\">\n",
       "      <th></th>\n",
       "      <th>Ending_Date__c</th>\n",
       "      <th>Id</th>\n",
       "      <th>Organization__c</th>\n",
       "      <th>Semester__c</th>\n",
       "      <th>Starting_Date__c</th>\n",
       "    </tr>\n",
       "  </thead>\n",
       "  <tbody>\n",
       "    <tr>\n",
       "      <th>0</th>\n",
       "      <td>2011-01-30</td>\n",
       "      <td>a0w5w000009Q7CuAAK</td>\n",
       "      <td>a0r5w00000V42iXAAR</td>\n",
       "      <td>Fall</td>\n",
       "      <td>2010-09-05</td>\n",
       "    </tr>\n",
       "    <tr>\n",
       "      <th>1</th>\n",
       "      <td>2018-11-30</td>\n",
       "      <td>a0w5w000009Q7CvAAK</td>\n",
       "      <td>a0r5w00000V42iyAAB</td>\n",
       "      <td>Fall</td>\n",
       "      <td>2018-11-29</td>\n",
       "    </tr>\n",
       "    <tr>\n",
       "      <th>2</th>\n",
       "      <td>2019-11-28</td>\n",
       "      <td>a0w5w000009Q7CwAAK</td>\n",
       "      <td>a0r5w00000V42iyAAB</td>\n",
       "      <td>Fall</td>\n",
       "      <td>2019-11-04</td>\n",
       "    </tr>\n",
       "    <tr>\n",
       "      <th>3</th>\n",
       "      <td>2017-10-29</td>\n",
       "      <td>a0w5w000009Q7CxAAK</td>\n",
       "      <td>a0r5w00000V42cCAAR</td>\n",
       "      <td>Fall</td>\n",
       "      <td>2017-10-21</td>\n",
       "    </tr>\n",
       "    <tr>\n",
       "      <th>4</th>\n",
       "      <td>2018-01-21</td>\n",
       "      <td>a0w5w000009Q7CyAAK</td>\n",
       "      <td>a0r5w00000V42cCAAR</td>\n",
       "      <td>Spring</td>\n",
       "      <td>2018-01-15</td>\n",
       "    </tr>\n",
       "  </tbody>\n",
       "</table>\n",
       "</div>"
      ],
      "text/plain": [
       "  Ending_Date__c                  Id     Organization__c Semester__c  \\\n",
       "0     2011-01-30  a0w5w000009Q7CuAAK  a0r5w00000V42iXAAR        Fall   \n",
       "1     2018-11-30  a0w5w000009Q7CvAAK  a0r5w00000V42iyAAB        Fall   \n",
       "2     2019-11-28  a0w5w000009Q7CwAAK  a0r5w00000V42iyAAB        Fall   \n",
       "3     2017-10-29  a0w5w000009Q7CxAAK  a0r5w00000V42cCAAR        Fall   \n",
       "4     2018-01-21  a0w5w000009Q7CyAAK  a0r5w00000V42cCAAR      Spring   \n",
       "\n",
       "  Starting_Date__c  \n",
       "0       2010-09-05  \n",
       "1       2018-11-29  \n",
       "2       2019-11-04  \n",
       "3       2017-10-21  \n",
       "4       2018-01-15  "
      ]
     },
     "metadata": {},
     "output_type": "display_data"
    }
   ],
   "source": [
    "display(tool_cluster_df.head(5))"
   ]
  },
  {
   "cell_type": "code",
   "execution_count": 7,
   "metadata": {
    "execution": {
     "iopub.execute_input": "2022-01-31T03:33:52.672183Z",
     "iopub.status.busy": "2022-01-31T03:33:52.671591Z",
     "iopub.status.idle": "2022-01-31T03:34:06.911174Z",
     "shell.execute_reply": "2022-01-31T03:34:06.910350Z",
     "shell.execute_reply.started": "2022-01-31T03:33:52.672137Z"
    },
    "papermill": {
     "duration": 24.257871,
     "end_time": "2021-01-21T17:12:20.691775",
     "exception": false,
     "start_time": "2021-01-21T17:11:56.433904",
     "status": "completed"
    },
    "tags": [],
    "pycharm": {
     "name": "#%%\n"
    }
   },
   "outputs": [
    {
     "name": "stdout",
     "output_type": "stream",
     "text": [
      "[Success] Bulk job creation successful. Job ID = 7505w00000cyX2WAAU\n",
      "{\"id\":\"7505w00000cyX2WAAU\",\"operation\":\"query\",\"object\":\"ContactToolClusterAssociation__c\",\"createdById\":\"0055w00000DM5bOAAT\",\"createdDate\":\"2022-01-31T03:33:52.000+0000\",\"systemModstamp\":\"2022-01-31T03:33:53.000+0000\",\"state\":\"InProgress\",\"concurrencyMode\":\"Parallel\",\"contentType\":\"CSV\",\"apiVersion\":47.0,\"jobType\":\"V2Query\",\"lineEnding\":\"LF\",\"columnDelimiter\":\"COMMA\",\"numberRecordsProcessed\":0,\"retries\":0,\"totalProcessingTime\":0}\n",
      "{\"id\":\"7505w00000cyX2WAAU\",\"operation\":\"query\",\"object\":\"ContactToolClusterAssociation__c\",\"createdById\":\"0055w00000DM5bOAAT\",\"createdDate\":\"2022-01-31T03:33:52.000+0000\",\"systemModstamp\":\"2022-01-31T03:33:59.000+0000\",\"state\":\"JobComplete\",\"concurrencyMode\":\"Parallel\",\"contentType\":\"CSV\",\"apiVersion\":47.0,\"jobType\":\"V2Query\",\"lineEnding\":\"LF\",\"columnDelimiter\":\"COMMA\",\"numberRecordsProcessed\":101755,\"retries\":0,\"totalProcessingTime\":6352}\n",
      "[Success] Bulk job completed successfully.\n"
     ]
    }
   ],
   "source": [
    "contact_in_cluster_df = db_1.query_data('Select Id, Name, Tool_Usage_Cluster__c, Contact__c from ContactToolClusterAssociation__c')"
   ]
  },
  {
   "cell_type": "code",
   "execution_count": 8,
   "metadata": {
    "execution": {
     "iopub.execute_input": "2022-01-31T03:34:06.916133Z",
     "iopub.status.busy": "2022-01-31T03:34:06.915439Z",
     "iopub.status.idle": "2022-01-31T03:34:06.930559Z",
     "shell.execute_reply": "2022-01-31T03:34:06.929130Z",
     "shell.execute_reply.started": "2022-01-31T03:34:06.916071Z"
    },
    "pycharm": {
     "name": "#%%\n"
    }
   },
   "outputs": [
    {
     "data": {
      "text/plain": [
       "(101755, 4)"
      ]
     },
     "execution_count": 8,
     "metadata": {},
     "output_type": "execute_result"
    }
   ],
   "source": [
    "contact_in_cluster_df.shape"
   ]
  },
  {
   "cell_type": "code",
   "execution_count": 9,
   "metadata": {
    "execution": {
     "iopub.execute_input": "2022-01-31T03:34:06.934450Z",
     "iopub.status.busy": "2022-01-31T03:34:06.933650Z",
     "iopub.status.idle": "2022-01-31T03:34:06.959079Z",
     "shell.execute_reply": "2022-01-31T03:34:06.957359Z",
     "shell.execute_reply.started": "2022-01-31T03:34:06.934389Z"
    },
    "papermill": {
     "duration": 0.077084,
     "end_time": "2021-01-21T17:12:20.865606",
     "exception": false,
     "start_time": "2021-01-21T17:12:20.788522",
     "status": "completed"
    },
    "tags": [],
    "pycharm": {
     "name": "#%%\n"
    }
   },
   "outputs": [
    {
     "data": {
      "text/html": [
       "<div>\n",
       "<style scoped>\n",
       "    .dataframe tbody tr th:only-of-type {\n",
       "        vertical-align: middle;\n",
       "    }\n",
       "\n",
       "    .dataframe tbody tr th {\n",
       "        vertical-align: top;\n",
       "    }\n",
       "\n",
       "    .dataframe thead th {\n",
       "        text-align: right;\n",
       "    }\n",
       "</style>\n",
       "<table border=\"1\" class=\"dataframe\">\n",
       "  <thead>\n",
       "    <tr style=\"text-align: right;\">\n",
       "      <th></th>\n",
       "      <th>Contact__c</th>\n",
       "      <th>Id</th>\n",
       "      <th>Name</th>\n",
       "      <th>Tool_Usage_Cluster__c</th>\n",
       "    </tr>\n",
       "  </thead>\n",
       "  <tbody>\n",
       "    <tr>\n",
       "      <th>0</th>\n",
       "      <td>0035w000034JG1EAAW</td>\n",
       "      <td>a0x5w00000cMzV5AAK</td>\n",
       "      <td>gekco_454</td>\n",
       "      <td>a0w5w000009Q7m3AAC</td>\n",
       "    </tr>\n",
       "    <tr>\n",
       "      <th>1</th>\n",
       "      <td>0035w000034I5sjAAC</td>\n",
       "      <td>a0x5w00000cMzVAAA0</td>\n",
       "      <td>lalzatev_454</td>\n",
       "      <td>a0w5w000009Q7m3AAC</td>\n",
       "    </tr>\n",
       "    <tr>\n",
       "      <th>2</th>\n",
       "      <td>0035w000034IQMqAAO</td>\n",
       "      <td>a0x5w00000cN122AAC</td>\n",
       "      <td>mcclurez_943</td>\n",
       "      <td>a0w5w000009Q7twAAC</td>\n",
       "    </tr>\n",
       "    <tr>\n",
       "      <th>3</th>\n",
       "      <td>0035w000034JG1EAAW</td>\n",
       "      <td>a0x5w00000cN28DAAS</td>\n",
       "      <td>gekco_443</td>\n",
       "      <td>a0w5w000009Q7lsAAC</td>\n",
       "    </tr>\n",
       "    <tr>\n",
       "      <th>4</th>\n",
       "      <td>0035w000034JJ0aAAG</td>\n",
       "      <td>a0x5w00000cN327AAC</td>\n",
       "      <td>dkearney_238</td>\n",
       "      <td>a0w5w000009Q7iZAAS</td>\n",
       "    </tr>\n",
       "  </tbody>\n",
       "</table>\n",
       "</div>"
      ],
      "text/plain": [
       "           Contact__c                  Id          Name Tool_Usage_Cluster__c\n",
       "0  0035w000034JG1EAAW  a0x5w00000cMzV5AAK     gekco_454    a0w5w000009Q7m3AAC\n",
       "1  0035w000034I5sjAAC  a0x5w00000cMzVAAA0  lalzatev_454    a0w5w000009Q7m3AAC\n",
       "2  0035w000034IQMqAAO  a0x5w00000cN122AAC  mcclurez_943    a0w5w000009Q7twAAC\n",
       "3  0035w000034JG1EAAW  a0x5w00000cN28DAAS     gekco_443    a0w5w000009Q7lsAAC\n",
       "4  0035w000034JJ0aAAG  a0x5w00000cN327AAC  dkearney_238    a0w5w000009Q7iZAAS"
      ]
     },
     "metadata": {},
     "output_type": "display_data"
    }
   ],
   "source": [
    "display(contact_in_cluster_df.head(5))"
   ]
  },
  {
   "cell_type": "code",
   "execution_count": 10,
   "metadata": {
    "execution": {
     "iopub.execute_input": "2022-01-31T03:34:06.962581Z",
     "iopub.status.busy": "2022-01-31T03:34:06.961670Z",
     "iopub.status.idle": "2022-01-31T03:34:19.005153Z",
     "shell.execute_reply": "2022-01-31T03:34:19.004305Z",
     "shell.execute_reply.started": "2022-01-31T03:34:06.962513Z"
    },
    "papermill": {
     "duration": 11.895789,
     "end_time": "2021-01-21T17:12:32.813058",
     "exception": false,
     "start_time": "2021-01-21T17:12:20.917269",
     "status": "completed"
    },
    "tags": [],
    "pycharm": {
     "name": "#%%\n"
    }
   },
   "outputs": [
    {
     "name": "stdout",
     "output_type": "stream",
     "text": [
      "[Success] Bulk job creation successful. Job ID = 7505w00000cyX2SAAU\n",
      "{\"id\":\"7505w00000cyX2SAAU\",\"operation\":\"query\",\"object\":\"ToolToolClusterAssociation__c\",\"createdById\":\"0055w00000DM5bOAAT\",\"createdDate\":\"2022-01-31T03:34:07.000+0000\",\"systemModstamp\":\"2022-01-31T03:34:07.000+0000\",\"state\":\"InProgress\",\"concurrencyMode\":\"Parallel\",\"contentType\":\"CSV\",\"apiVersion\":47.0,\"jobType\":\"V2Query\",\"lineEnding\":\"LF\",\"columnDelimiter\":\"COMMA\",\"numberRecordsProcessed\":0,\"retries\":0,\"totalProcessingTime\":0}\n",
      "{\"id\":\"7505w00000cyX2SAAU\",\"operation\":\"query\",\"object\":\"ToolToolClusterAssociation__c\",\"createdById\":\"0055w00000DM5bOAAT\",\"createdDate\":\"2022-01-31T03:34:07.000+0000\",\"systemModstamp\":\"2022-01-31T03:34:09.000+0000\",\"state\":\"JobComplete\",\"concurrencyMode\":\"Parallel\",\"contentType\":\"CSV\",\"apiVersion\":47.0,\"jobType\":\"V2Query\",\"lineEnding\":\"LF\",\"columnDelimiter\":\"COMMA\",\"numberRecordsProcessed\":6477,\"retries\":0,\"totalProcessingTime\":584}\n",
      "[Success] Bulk job completed successfully.\n"
     ]
    }
   ],
   "source": [
    "tools_in_cluster_df = db_1.query_data('Select Id, Name, Tool_Usage_Cluster__c, Tool__c from ToolToolClusterAssociation__c')"
   ]
  },
  {
   "cell_type": "code",
   "execution_count": 11,
   "metadata": {
    "execution": {
     "iopub.execute_input": "2022-01-31T03:34:19.008712Z",
     "iopub.status.busy": "2022-01-31T03:34:19.008354Z",
     "iopub.status.idle": "2022-01-31T03:34:19.031260Z",
     "shell.execute_reply": "2022-01-31T03:34:19.027105Z",
     "shell.execute_reply.started": "2022-01-31T03:34:19.008676Z"
    },
    "papermill": {
     "duration": 0.064227,
     "end_time": "2021-01-21T17:12:32.928069",
     "exception": false,
     "start_time": "2021-01-21T17:12:32.863842",
     "status": "completed"
    },
    "tags": [],
    "pycharm": {
     "name": "#%%\n"
    }
   },
   "outputs": [
    {
     "data": {
      "text/html": [
       "<div>\n",
       "<style scoped>\n",
       "    .dataframe tbody tr th:only-of-type {\n",
       "        vertical-align: middle;\n",
       "    }\n",
       "\n",
       "    .dataframe tbody tr th {\n",
       "        vertical-align: top;\n",
       "    }\n",
       "\n",
       "    .dataframe thead th {\n",
       "        text-align: right;\n",
       "    }\n",
       "</style>\n",
       "<table border=\"1\" class=\"dataframe\">\n",
       "  <thead>\n",
       "    <tr style=\"text-align: right;\">\n",
       "      <th></th>\n",
       "      <th>Id</th>\n",
       "      <th>Name</th>\n",
       "      <th>Tool_Usage_Cluster__c</th>\n",
       "      <th>Tool__c</th>\n",
       "    </tr>\n",
       "  </thead>\n",
       "  <tbody>\n",
       "    <tr>\n",
       "      <th>0</th>\n",
       "      <td>a0y5w00000NuT38AAF</td>\n",
       "      <td>cntbands-ext_326</td>\n",
       "      <td>a0w5w000009Q7jzAAC</td>\n",
       "      <td>a0s5w00000k5MPqAAM</td>\n",
       "    </tr>\n",
       "    <tr>\n",
       "      <th>1</th>\n",
       "      <td>a0y5w00000NuT3xAAF</td>\n",
       "      <td>cntbands-ext_347</td>\n",
       "      <td>a0w5w000009Q7kKAAS</td>\n",
       "      <td>a0s5w00000k5MPqAAM</td>\n",
       "    </tr>\n",
       "    <tr>\n",
       "      <th>2</th>\n",
       "      <td>a0y5w00000NuT3yAAF</td>\n",
       "      <td>adac_347</td>\n",
       "      <td>a0w5w000009Q7kKAAS</td>\n",
       "      <td>a0s5w00000k5MT4AAM</td>\n",
       "    </tr>\n",
       "    <tr>\n",
       "      <th>3</th>\n",
       "      <td>a0y5w00000NuT8fAAF</td>\n",
       "      <td>rtdnegf_227</td>\n",
       "      <td>a0w5w000009Q7iOAAS</td>\n",
       "      <td>a0s5w00000k5MT3AAM</td>\n",
       "    </tr>\n",
       "    <tr>\n",
       "      <th>4</th>\n",
       "      <td>a0y5w00000NuT8gAAF</td>\n",
       "      <td>pntoy_227</td>\n",
       "      <td>a0w5w000009Q7iOAAS</td>\n",
       "      <td>a0s5w00000k5MR0AAM</td>\n",
       "    </tr>\n",
       "  </tbody>\n",
       "</table>\n",
       "</div>"
      ],
      "text/plain": [
       "                   Id              Name Tool_Usage_Cluster__c  \\\n",
       "0  a0y5w00000NuT38AAF  cntbands-ext_326    a0w5w000009Q7jzAAC   \n",
       "1  a0y5w00000NuT3xAAF  cntbands-ext_347    a0w5w000009Q7kKAAS   \n",
       "2  a0y5w00000NuT3yAAF          adac_347    a0w5w000009Q7kKAAS   \n",
       "3  a0y5w00000NuT8fAAF       rtdnegf_227    a0w5w000009Q7iOAAS   \n",
       "4  a0y5w00000NuT8gAAF         pntoy_227    a0w5w000009Q7iOAAS   \n",
       "\n",
       "              Tool__c  \n",
       "0  a0s5w00000k5MPqAAM  \n",
       "1  a0s5w00000k5MPqAAM  \n",
       "2  a0s5w00000k5MT4AAM  \n",
       "3  a0s5w00000k5MT3AAM  \n",
       "4  a0s5w00000k5MR0AAM  "
      ]
     },
     "metadata": {},
     "output_type": "display_data"
    }
   ],
   "source": [
    "display(tools_in_cluster_df.head(5))"
   ]
  },
  {
   "cell_type": "markdown",
   "metadata": {
    "papermill": {
     "duration": 0.05121,
     "end_time": "2021-01-21T17:12:33.030443",
     "exception": false,
     "start_time": "2021-01-21T17:12:32.979233",
     "status": "completed"
    },
    "tags": [],
    "pycharm": {
     "name": "#%% md\n"
    }
   },
   "source": [
    "### determining suspicious tool_usage_clusters__c"
   ]
  },
  {
   "cell_type": "code",
   "execution_count": 12,
   "metadata": {
    "execution": {
     "iopub.execute_input": "2022-01-31T03:34:19.047978Z",
     "iopub.status.busy": "2022-01-31T03:34:19.047376Z",
     "iopub.status.idle": "2022-01-31T03:34:19.063900Z",
     "shell.execute_reply": "2022-01-31T03:34:19.061910Z",
     "shell.execute_reply.started": "2022-01-31T03:34:19.047781Z"
    },
    "papermill": {
     "duration": 0.061152,
     "end_time": "2021-01-21T17:12:33.142214",
     "exception": false,
     "start_time": "2021-01-21T17:12:33.081062",
     "status": "completed"
    },
    "tags": [],
    "pycharm": {
     "name": "#%%\n"
    }
   },
   "outputs": [],
   "source": [
    "## overarching goal: determine the cluster IDs that need further investigation\n",
    "\n",
    "# grouping the clusters by tools used (i.e., clusters by tool)\n",
    "tools_dict = {j: [] for j in tools_in_cluster_df['Tool__c'].to_list()} #stores relevant indexes per org\n",
    "\n",
    "for i,j in enumerate(tools_in_cluster_df['Tool__c'].to_list()):\n",
    "    tools_dict[j].append(i)\n",
    "\n",
    "unique_tools = list(tools_dict.keys())"
   ]
  },
  {
   "cell_type": "code",
   "execution_count": 13,
   "metadata": {
    "execution": {
     "iopub.execute_input": "2022-01-31T03:34:19.071176Z",
     "iopub.status.busy": "2022-01-31T03:34:19.070599Z",
     "iopub.status.idle": "2022-01-31T03:34:19.081106Z",
     "shell.execute_reply": "2022-01-31T03:34:19.078078Z",
     "shell.execute_reply.started": "2022-01-31T03:34:19.071102Z"
    },
    "papermill": {
     "duration": 0.057497,
     "end_time": "2021-01-21T17:12:33.250738",
     "exception": false,
     "start_time": "2021-01-21T17:12:33.193241",
     "status": "completed"
    },
    "tags": [],
    "pycharm": {
     "name": "#%%\n"
    }
   },
   "outputs": [],
   "source": [
    "from copy import deepcopy"
   ]
  },
  {
   "cell_type": "code",
   "execution_count": 14,
   "metadata": {
    "execution": {
     "iopub.execute_input": "2022-01-31T03:34:19.085410Z",
     "iopub.status.busy": "2022-01-31T03:34:19.085081Z",
     "iopub.status.idle": "2022-01-31T03:37:59.981294Z",
     "shell.execute_reply": "2022-01-31T03:37:59.980490Z",
     "shell.execute_reply.started": "2022-01-31T03:34:19.085369Z"
    },
    "papermill": {
     "duration": 77.352938,
     "end_time": "2021-01-21T17:13:50.654252",
     "exception": false,
     "start_time": "2021-01-21T17:12:33.301314",
     "status": "completed"
    },
    "tags": [],
    "pycharm": {
     "name": "#%%\n"
    }
   },
   "outputs": [],
   "source": [
    "## check start and end dates for overlaps\n",
    "overlaps = ['init'] # del index 0 later\n",
    "\n",
    "cluster_ids = tools_in_cluster_df['Tool_Usage_Cluster__c'].to_list()\n",
    "tool_cluster_id_indexes = tool_cluster_df['Id'].to_list()\n",
    "\n",
    "for i,ii in enumerate(unique_tools):\n",
    "    for j in tools_dict[ii]: # this requires a sequential comparison\n",
    "        ## tools dict contains the tools_in_cluster_df index\n",
    "        temp_set = deepcopy(tools_dict[ii])\n",
    "        del temp_set[temp_set.index(j)]\n",
    "        \n",
    "        # pull id\n",
    "        current_index = tool_cluster_id_indexes.index(cluster_ids[j]) #integer index\n",
    "        \n",
    "        current_org = tool_cluster_df.iloc[current_index,2]\n",
    "        current_sem = tool_cluster_df.iloc[current_index,3]\n",
    "        current_start = datetime.datetime.strptime(tool_cluster_df.iloc[current_index,-1],'%Y-%m-%d')\n",
    "        current_stop = datetime.datetime.strptime(tool_cluster_df.iloc[current_index,0],'%Y-%m-%d')\n",
    "        \n",
    "        # sequential compare\n",
    "        for k in temp_set:\n",
    "            temp_index = tool_cluster_id_indexes.index(cluster_ids[k]) #integer index\n",
    "            \n",
    "            temp_org = tool_cluster_df.iloc[temp_index,2]\n",
    "            temp_sem = tool_cluster_df.iloc[temp_index,3]\n",
    "            temp_start = datetime.datetime.strptime(tool_cluster_df.iloc[temp_index,-1],'%Y-%m-%d')\n",
    "            temp_stop = datetime.datetime.strptime(tool_cluster_df.iloc[temp_index,0],'%Y-%m-%d')\n",
    "        \n",
    "            if temp_org == current_org and temp_sem == current_sem:\n",
    "                # now check dates for overlap - if there is overlap, assume same cluster\n",
    "                if temp_start > current_stop or temp_stop < current_start: #case 1 - () [], # case 2 - [] ()\n",
    "                    # do nothing\n",
    "                    filler = 0\n",
    "                else:\n",
    "                    # include the overlap as a tuple\n",
    "                    overlaps.append([cluster_ids[j],cluster_ids[k]])\n"
   ]
  },
  {
   "cell_type": "code",
   "execution_count": 15,
   "metadata": {
    "execution": {
     "iopub.execute_input": "2022-01-31T03:37:59.983420Z",
     "iopub.status.busy": "2022-01-31T03:37:59.982679Z",
     "iopub.status.idle": "2022-01-31T03:37:59.991268Z",
     "shell.execute_reply": "2022-01-31T03:37:59.990334Z",
     "shell.execute_reply.started": "2022-01-31T03:37:59.983382Z"
    },
    "papermill": {
     "duration": 0.063321,
     "end_time": "2021-01-21T17:13:50.771673",
     "exception": false,
     "start_time": "2021-01-21T17:13:50.708352",
     "status": "completed"
    },
    "tags": [],
    "pycharm": {
     "name": "#%%\n"
    }
   },
   "outputs": [],
   "source": [
    "## filter the set of overlaps\n",
    "if overlaps[0] == 'init':\n",
    "    del overlaps[0]\n",
    "\n",
    "for i,j in enumerate(overlaps):\n",
    "    j.sort()\n",
    "    overlaps[i] = j\n",
    "\n",
    "overlaps.sort()"
   ]
  },
  {
   "cell_type": "code",
   "execution_count": 16,
   "metadata": {
    "execution": {
     "iopub.execute_input": "2022-01-31T03:37:59.993359Z",
     "iopub.status.busy": "2022-01-31T03:37:59.992738Z",
     "iopub.status.idle": "2022-01-31T03:38:00.009781Z",
     "shell.execute_reply": "2022-01-31T03:38:00.008265Z",
     "shell.execute_reply.started": "2022-01-31T03:37:59.993317Z"
    },
    "papermill": {
     "duration": 0.062208,
     "end_time": "2021-01-21T17:13:50.888603",
     "exception": false,
     "start_time": "2021-01-21T17:13:50.826395",
     "status": "completed"
    },
    "tags": [],
    "pycharm": {
     "name": "#%%\n"
    }
   },
   "outputs": [
    {
     "data": {
      "text/plain": [
       "[['a0w5w000009Q7CwAAK', 'a0w5w00000A8WKZAA3'],\n",
       " ['a0w5w000009Q7CwAAK', 'a0w5w00000A8WKZAA3'],\n",
       " ['a0w5w000009Q7CxAAK', 'a0w5w00000A8OJTAA3'],\n",
       " ['a0w5w000009Q7CxAAK', 'a0w5w00000A8OJTAA3'],\n",
       " ['a0w5w000009Q7CzAAK', 'a0w5w00000A8OFhAAN']]"
      ]
     },
     "execution_count": 16,
     "metadata": {},
     "output_type": "execute_result"
    }
   ],
   "source": [
    "overlaps[:5]"
   ]
  },
  {
   "cell_type": "code",
   "execution_count": 17,
   "metadata": {
    "execution": {
     "iopub.execute_input": "2022-01-31T03:38:00.012356Z",
     "iopub.status.busy": "2022-01-31T03:38:00.011497Z",
     "iopub.status.idle": "2022-01-31T03:38:00.018969Z",
     "shell.execute_reply": "2022-01-31T03:38:00.017333Z",
     "shell.execute_reply.started": "2022-01-31T03:38:00.012297Z"
    },
    "papermill": {
     "duration": 0.062029,
     "end_time": "2021-01-21T17:13:51.005288",
     "exception": false,
     "start_time": "2021-01-21T17:13:50.943259",
     "status": "completed"
    },
    "tags": [],
    "pycharm": {
     "name": "#%%\n"
    }
   },
   "outputs": [],
   "source": [
    "import itertools"
   ]
  },
  {
   "cell_type": "code",
   "execution_count": 18,
   "metadata": {
    "execution": {
     "iopub.execute_input": "2022-01-31T03:38:00.024522Z",
     "iopub.status.busy": "2022-01-31T03:38:00.023290Z",
     "iopub.status.idle": "2022-01-31T03:38:00.039982Z",
     "shell.execute_reply": "2022-01-31T03:38:00.036718Z",
     "shell.execute_reply.started": "2022-01-31T03:38:00.024466Z"
    },
    "papermill": {
     "duration": 0.059168,
     "end_time": "2021-01-21T17:13:51.116083",
     "exception": false,
     "start_time": "2021-01-21T17:13:51.056915",
     "status": "completed"
    },
    "tags": [],
    "pycharm": {
     "name": "#%%\n"
    }
   },
   "outputs": [],
   "source": [
    "overlaps2 = list(k for k,_ in itertools.groupby(overlaps))"
   ]
  },
  {
   "cell_type": "code",
   "execution_count": 19,
   "metadata": {
    "execution": {
     "iopub.execute_input": "2022-01-31T03:38:00.045549Z",
     "iopub.status.busy": "2022-01-31T03:38:00.042681Z",
     "iopub.status.idle": "2022-01-31T03:38:00.056488Z",
     "shell.execute_reply": "2022-01-31T03:38:00.055195Z",
     "shell.execute_reply.started": "2022-01-31T03:38:00.045468Z"
    },
    "papermill": {
     "duration": 0.059204,
     "end_time": "2021-01-21T17:13:51.227977",
     "exception": false,
     "start_time": "2021-01-21T17:13:51.168773",
     "status": "completed"
    },
    "tags": [],
    "pycharm": {
     "name": "#%%\n"
    }
   },
   "outputs": [
    {
     "data": {
      "text/plain": [
       "[['a0w5w000009Q7CwAAK', 'a0w5w00000A8WKZAA3'],\n",
       " ['a0w5w000009Q7CxAAK', 'a0w5w00000A8OJTAA3'],\n",
       " ['a0w5w000009Q7CzAAK', 'a0w5w00000A8OFhAAN'],\n",
       " ['a0w5w000009Q7CzAAK', 'a0w5w00000A8OFiAAN'],\n",
       " ['a0w5w000009Q7D9AAK', 'a0w5w00000A8OFkAAN'],\n",
       " ['a0w5w000009Q7D9AAK', 'a0w5w00000A8OFlAAN'],\n",
       " ['a0w5w000009Q7DFAA0', 'a0w5w00000A8OFnAAN'],\n",
       " ['a0w5w000009Q7DFAA0', 'a0w5w00000A8UFNAA3'],\n",
       " ['a0w5w000009Q7DMAA0', 'a0w5w00000A8OFoAAN']]"
      ]
     },
     "execution_count": 19,
     "metadata": {},
     "output_type": "execute_result"
    }
   ],
   "source": [
    "overlaps2[:9]"
   ]
  },
  {
   "cell_type": "code",
   "execution_count": 20,
   "metadata": {
    "execution": {
     "iopub.execute_input": "2022-01-31T03:38:00.062049Z",
     "iopub.status.busy": "2022-01-31T03:38:00.059640Z",
     "iopub.status.idle": "2022-01-31T03:38:00.075297Z",
     "shell.execute_reply": "2022-01-31T03:38:00.073914Z",
     "shell.execute_reply.started": "2022-01-31T03:38:00.061976Z"
    },
    "papermill": {
     "duration": 0.061951,
     "end_time": "2021-01-21T17:13:51.343937",
     "exception": false,
     "start_time": "2021-01-21T17:13:51.281986",
     "status": "completed"
    },
    "tags": [],
    "pycharm": {
     "name": "#%%\n"
    }
   },
   "outputs": [
    {
     "name": "stdout",
     "output_type": "stream",
     "text": [
      "2886 1184\n"
     ]
    }
   ],
   "source": [
    "print(len(overlaps),len(overlaps2))"
   ]
  },
  {
   "cell_type": "markdown",
   "metadata": {
    "papermill": {
     "duration": 0.053626,
     "end_time": "2021-01-21T17:13:51.450600",
     "exception": false,
     "start_time": "2021-01-21T17:13:51.396974",
     "status": "completed"
    },
    "tags": [],
    "pycharm": {
     "name": "#%% md\n"
    }
   },
   "source": [
    "#### now that we have the set of overlapping clusters, we need to specify a main one"
   ]
  },
  {
   "cell_type": "code",
   "execution_count": 21,
   "metadata": {
    "execution": {
     "iopub.execute_input": "2022-01-31T03:38:00.079276Z",
     "iopub.status.busy": "2022-01-31T03:38:00.077453Z",
     "iopub.status.idle": "2022-01-31T03:38:00.086491Z",
     "shell.execute_reply": "2022-01-31T03:38:00.084434Z",
     "shell.execute_reply.started": "2022-01-31T03:38:00.079219Z"
    },
    "papermill": {
     "duration": 0.061034,
     "end_time": "2021-01-21T17:13:51.564310",
     "exception": false,
     "start_time": "2021-01-21T17:13:51.503276",
     "status": "completed"
    },
    "tags": [],
    "pycharm": {
     "name": "#%%\n"
    }
   },
   "outputs": [],
   "source": [
    "## main cluster characteristics\n",
    "## Part A\n",
    "## 1. combine overlaps together (i.e., three overlapping clusters combined into 1) \n",
    "## 2. decide the main cluster\n",
    "## Part B\n",
    "## 1. start and end dates realignment - i.e., should take the min of all the start dates and max of all the ends\n",
    "## 2. combine contacts\n",
    "## 3. create two DataFrames, one for upsert and the other for deletion"
   ]
  },
  {
   "cell_type": "markdown",
   "metadata": {
    "tags": [
     "papermill-error-cell-tag"
    ],
    "pycharm": {
     "name": "#%% md\n"
    }
   },
   "source": [
    "<span id=\"papermill-error-cell\" style=\"color:red; font-family:Helvetica Neue, Helvetica, Arial, sans-serif; font-size:2em;\">Execution using papermill encountered an exception here and stopped:</span>"
   ]
  },
  {
   "cell_type": "code",
   "execution_count": 22,
   "metadata": {
    "execution": {
     "iopub.execute_input": "2022-01-31T03:38:00.089891Z",
     "iopub.status.busy": "2022-01-31T03:38:00.087978Z",
     "iopub.status.idle": "2022-01-31T03:38:00.109861Z",
     "shell.execute_reply": "2022-01-31T03:38:00.103553Z",
     "shell.execute_reply.started": "2022-01-31T03:38:00.089817Z"
    },
    "papermill": {
     "duration": 0.24066,
     "end_time": "2021-01-21T17:13:51.857208",
     "exception": true,
     "start_time": "2021-01-21T17:13:51.616548",
     "status": "failed"
    },
    "tags": [],
    "pycharm": {
     "name": "#%%\n"
    }
   },
   "outputs": [],
   "source": [
    "## Part A\n",
    "# collapse overlaps2\n",
    "overlaps3 = ['init']\n",
    "main_clusters = []\n",
    "\n",
    "running_temp_init = True\n",
    "\n",
    "for i,j in enumerate(overlaps2):\n",
    "    if running_temp_init == True:\n",
    "        main_clusters.append(j[0])\n",
    "        overlaps_holder = deepcopy(j)\n",
    "        running_temp_init = False\n",
    "    else:\n",
    "        if j[0] in overlaps_holder and j[1] not in overlaps_holder:\n",
    "            overlaps_holder.append(j[1])\n",
    "        else: \n",
    "            if j[0] not in overlaps_holder and j[1] not in overlaps_holder: #neither is in overlaps_holder\n",
    "                overlaps3.append(overlaps_holder)\n",
    "\n",
    "                # recalc\n",
    "                main_clusters.append(j[0])\n",
    "                overlaps_holder = deepcopy(j)\n",
    "\n",
    "# final iteration\n",
    "overlaps3.append(overlaps_holder)"
   ]
  },
  {
   "cell_type": "code",
   "execution_count": 23,
   "metadata": {
    "execution": {
     "iopub.execute_input": "2022-01-31T03:38:00.120170Z",
     "iopub.status.busy": "2022-01-31T03:38:00.119646Z",
     "iopub.status.idle": "2022-01-31T03:38:00.131451Z",
     "shell.execute_reply": "2022-01-31T03:38:00.129434Z",
     "shell.execute_reply.started": "2022-01-31T03:38:00.120120Z"
    },
    "papermill": {
     "duration": null,
     "end_time": null,
     "exception": null,
     "start_time": null,
     "status": "pending"
    },
    "tags": [],
    "pycharm": {
     "name": "#%%\n"
    }
   },
   "outputs": [
    {
     "data": {
      "text/plain": [
       "633"
      ]
     },
     "execution_count": 23,
     "metadata": {},
     "output_type": "execute_result"
    }
   ],
   "source": [
    "len(main_clusters)"
   ]
  },
  {
   "cell_type": "code",
   "execution_count": 24,
   "metadata": {
    "execution": {
     "iopub.execute_input": "2022-01-31T03:38:00.142104Z",
     "iopub.status.busy": "2022-01-31T03:38:00.137788Z",
     "iopub.status.idle": "2022-01-31T03:38:00.157871Z",
     "shell.execute_reply": "2022-01-31T03:38:00.155289Z",
     "shell.execute_reply.started": "2022-01-31T03:38:00.141665Z"
    },
    "papermill": {
     "duration": null,
     "end_time": null,
     "exception": null,
     "start_time": null,
     "status": "pending"
    },
    "tags": [],
    "pycharm": {
     "name": "#%%\n"
    }
   },
   "outputs": [
    {
     "name": "stdout",
     "output_type": "stream",
     "text": [
      "633\n"
     ]
    }
   ],
   "source": [
    "if overlaps3[0] == 'init':\n",
    "    del overlaps3[0]\n",
    "    \n",
    "print(len(overlaps3))"
   ]
  },
  {
   "cell_type": "code",
   "execution_count": 25,
   "metadata": {
    "execution": {
     "iopub.execute_input": "2022-01-31T03:38:00.162364Z",
     "iopub.status.busy": "2022-01-31T03:38:00.161895Z",
     "iopub.status.idle": "2022-01-31T03:38:00.183684Z",
     "shell.execute_reply": "2022-01-31T03:38:00.181174Z",
     "shell.execute_reply.started": "2022-01-31T03:38:00.162313Z"
    },
    "papermill": {
     "duration": null,
     "end_time": null,
     "exception": null,
     "start_time": null,
     "status": "pending"
    },
    "tags": [],
    "pycharm": {
     "name": "#%%\n"
    }
   },
   "outputs": [
    {
     "data": {
      "text/plain": [
       "['a0w5w000009Q7CwAAK',\n",
       " 'a0w5w000009Q7CxAAK',\n",
       " 'a0w5w000009Q7CzAAK',\n",
       " 'a0w5w000009Q7D9AAK',\n",
       " 'a0w5w000009Q7DFAA0']"
      ]
     },
     "metadata": {},
     "output_type": "display_data"
    },
    {
     "data": {
      "text/plain": [
       "[['a0w5w000009Q7CwAAK', 'a0w5w00000A8WKZAA3'],\n",
       " ['a0w5w000009Q7CxAAK', 'a0w5w00000A8OJTAA3'],\n",
       " ['a0w5w000009Q7CzAAK', 'a0w5w00000A8OFhAAN', 'a0w5w00000A8OFiAAN'],\n",
       " ['a0w5w000009Q7D9AAK', 'a0w5w00000A8OFkAAN', 'a0w5w00000A8OFlAAN'],\n",
       " ['a0w5w000009Q7DFAA0', 'a0w5w00000A8OFnAAN', 'a0w5w00000A8UFNAA3']]"
      ]
     },
     "metadata": {},
     "output_type": "display_data"
    }
   ],
   "source": [
    "display(main_clusters[:5])\n",
    "display(overlaps3[:5])"
   ]
  },
  {
   "cell_type": "markdown",
   "metadata": {
    "papermill": {
     "duration": null,
     "end_time": null,
     "exception": null,
     "start_time": null,
     "status": "pending"
    },
    "tags": [],
    "pycharm": {
     "name": "#%% md\n"
    }
   },
   "source": [
    "### Major step - building upsert and deletion dataframes\n",
    "### Build 3 upserts and 3 deletions [corresponds to tool_usage_cluster__c, ContactToolClusterAssociation__c, ToolToolClusterAssociation__c]"
   ]
  },
  {
   "cell_type": "code",
   "execution_count": 26,
   "metadata": {
    "execution": {
     "iopub.execute_input": "2022-01-31T03:38:00.186782Z",
     "iopub.status.busy": "2022-01-31T03:38:00.186278Z",
     "iopub.status.idle": "2022-01-31T03:38:00.202856Z",
     "shell.execute_reply": "2022-01-31T03:38:00.198859Z",
     "shell.execute_reply.started": "2022-01-31T03:38:00.186731Z"
    },
    "papermill": {
     "duration": null,
     "end_time": null,
     "exception": null,
     "start_time": null,
     "status": "pending"
    },
    "tags": [],
    "pycharm": {
     "name": "#%%\n"
    }
   },
   "outputs": [],
   "source": [
    "## Part B\n",
    "### build the upsert dataframe first\n",
    "upsert_df = pd.DataFrame(columns=['Id','Ending_Date__c','Starting_Date__c']) #Id of the main cluster\n",
    "upsert_df['Id'] = deepcopy(main_clusters)"
   ]
  },
  {
   "cell_type": "code",
   "execution_count": 27,
   "metadata": {
    "execution": {
     "iopub.execute_input": "2022-01-31T03:38:00.207640Z",
     "iopub.status.busy": "2022-01-31T03:38:00.207252Z",
     "iopub.status.idle": "2022-01-31T03:38:00.792050Z",
     "shell.execute_reply": "2022-01-31T03:38:00.790704Z",
     "shell.execute_reply.started": "2022-01-31T03:38:00.207586Z"
    },
    "papermill": {
     "duration": null,
     "end_time": null,
     "exception": null,
     "start_time": null,
     "status": "pending"
    },
    "tags": [],
    "pycharm": {
     "name": "#%%\n"
    }
   },
   "outputs": [],
   "source": [
    "for i,ii in enumerate(main_clusters):\n",
    "    main_c_index = tool_cluster_df['Id'].to_list()\n",
    "    c_start_date = tool_cluster_df.iloc[main_c_index.index(ii),-1]    \n",
    "    c_end_date = tool_cluster_df.iloc[main_c_index.index(ii),0]\n",
    "        \n",
    "    for j,jj in enumerate(overlaps3[i]):\n",
    "        j_start_date = tool_cluster_df.iloc[main_c_index.index(jj),-1]\n",
    "        j_end_date = tool_cluster_df.iloc[main_c_index.index(jj),0]\n",
    "        \n",
    "        if j_start_date < c_start_date:\n",
    "            c_start_date = deepcopy(j_start_date)\n",
    "        \n",
    "        if j_end_date > c_end_date:\n",
    "            c_end_date = deepcopy(j_end_date)\n",
    "        \n",
    "    upsert_df.iloc[i,1:] = [c_end_date,c_start_date]"
   ]
  },
  {
   "cell_type": "code",
   "execution_count": 28,
   "metadata": {
    "execution": {
     "iopub.execute_input": "2022-01-31T03:38:00.795501Z",
     "iopub.status.busy": "2022-01-31T03:38:00.794067Z",
     "iopub.status.idle": "2022-01-31T03:38:00.821749Z",
     "shell.execute_reply": "2022-01-31T03:38:00.820576Z",
     "shell.execute_reply.started": "2022-01-31T03:38:00.795285Z"
    },
    "papermill": {
     "duration": null,
     "end_time": null,
     "exception": null,
     "start_time": null,
     "status": "pending"
    },
    "tags": [],
    "pycharm": {
     "name": "#%%\n"
    }
   },
   "outputs": [
    {
     "data": {
      "text/html": [
       "<div>\n",
       "<style scoped>\n",
       "    .dataframe tbody tr th:only-of-type {\n",
       "        vertical-align: middle;\n",
       "    }\n",
       "\n",
       "    .dataframe tbody tr th {\n",
       "        vertical-align: top;\n",
       "    }\n",
       "\n",
       "    .dataframe thead th {\n",
       "        text-align: right;\n",
       "    }\n",
       "</style>\n",
       "<table border=\"1\" class=\"dataframe\">\n",
       "  <thead>\n",
       "    <tr style=\"text-align: right;\">\n",
       "      <th></th>\n",
       "      <th>Id</th>\n",
       "      <th>Ending_Date__c</th>\n",
       "      <th>Starting_Date__c</th>\n",
       "    </tr>\n",
       "  </thead>\n",
       "  <tbody>\n",
       "    <tr>\n",
       "      <th>0</th>\n",
       "      <td>a0w5w000009Q7CwAAK</td>\n",
       "      <td>2019-11-28</td>\n",
       "      <td>2019-11-04</td>\n",
       "    </tr>\n",
       "    <tr>\n",
       "      <th>1</th>\n",
       "      <td>a0w5w000009Q7CxAAK</td>\n",
       "      <td>2017-12-16</td>\n",
       "      <td>2017-10-03</td>\n",
       "    </tr>\n",
       "    <tr>\n",
       "      <th>2</th>\n",
       "      <td>a0w5w000009Q7CzAAK</td>\n",
       "      <td>2018-04-19</td>\n",
       "      <td>2018-02-05</td>\n",
       "    </tr>\n",
       "    <tr>\n",
       "      <th>3</th>\n",
       "      <td>a0w5w000009Q7D9AAK</td>\n",
       "      <td>2007-04-23</td>\n",
       "      <td>2007-02-07</td>\n",
       "    </tr>\n",
       "    <tr>\n",
       "      <th>4</th>\n",
       "      <td>a0w5w000009Q7DFAA0</td>\n",
       "      <td>2008-12-18</td>\n",
       "      <td>2008-10-05</td>\n",
       "    </tr>\n",
       "  </tbody>\n",
       "</table>\n",
       "</div>"
      ],
      "text/plain": [
       "                   Id Ending_Date__c Starting_Date__c\n",
       "0  a0w5w000009Q7CwAAK     2019-11-28       2019-11-04\n",
       "1  a0w5w000009Q7CxAAK     2017-12-16       2017-10-03\n",
       "2  a0w5w000009Q7CzAAK     2018-04-19       2018-02-05\n",
       "3  a0w5w000009Q7D9AAK     2007-04-23       2007-02-07\n",
       "4  a0w5w000009Q7DFAA0     2008-12-18       2008-10-05"
      ]
     },
     "metadata": {},
     "output_type": "display_data"
    },
    {
     "data": {
      "text/html": [
       "<div>\n",
       "<style scoped>\n",
       "    .dataframe tbody tr th:only-of-type {\n",
       "        vertical-align: middle;\n",
       "    }\n",
       "\n",
       "    .dataframe tbody tr th {\n",
       "        vertical-align: top;\n",
       "    }\n",
       "\n",
       "    .dataframe thead th {\n",
       "        text-align: right;\n",
       "    }\n",
       "</style>\n",
       "<table border=\"1\" class=\"dataframe\">\n",
       "  <thead>\n",
       "    <tr style=\"text-align: right;\">\n",
       "      <th></th>\n",
       "      <th>Id</th>\n",
       "      <th>Ending_Date__c</th>\n",
       "      <th>Starting_Date__c</th>\n",
       "    </tr>\n",
       "  </thead>\n",
       "  <tbody>\n",
       "    <tr>\n",
       "      <th>628</th>\n",
       "      <td>a0w5w00000AXc7vAAD</td>\n",
       "      <td>2021-04-07</td>\n",
       "      <td>2021-03-27</td>\n",
       "    </tr>\n",
       "    <tr>\n",
       "      <th>629</th>\n",
       "      <td>a0w5w00000AXc7zAAD</td>\n",
       "      <td>2021-04-11</td>\n",
       "      <td>2021-04-05</td>\n",
       "    </tr>\n",
       "    <tr>\n",
       "      <th>630</th>\n",
       "      <td>a0w5w00000AXc8AAAT</td>\n",
       "      <td>2021-04-22</td>\n",
       "      <td>2021-04-04</td>\n",
       "    </tr>\n",
       "    <tr>\n",
       "      <th>631</th>\n",
       "      <td>a0w5w00000AXc8aAAD</td>\n",
       "      <td>2021-04-09</td>\n",
       "      <td>2021-04-02</td>\n",
       "    </tr>\n",
       "    <tr>\n",
       "      <th>632</th>\n",
       "      <td>a0w5w00000AXc8pAAD</td>\n",
       "      <td>2021-04-03</td>\n",
       "      <td>2021-03-27</td>\n",
       "    </tr>\n",
       "  </tbody>\n",
       "</table>\n",
       "</div>"
      ],
      "text/plain": [
       "                     Id Ending_Date__c Starting_Date__c\n",
       "628  a0w5w00000AXc7vAAD     2021-04-07       2021-03-27\n",
       "629  a0w5w00000AXc7zAAD     2021-04-11       2021-04-05\n",
       "630  a0w5w00000AXc8AAAT     2021-04-22       2021-04-04\n",
       "631  a0w5w00000AXc8aAAD     2021-04-09       2021-04-02\n",
       "632  a0w5w00000AXc8pAAD     2021-04-03       2021-03-27"
      ]
     },
     "metadata": {},
     "output_type": "display_data"
    }
   ],
   "source": [
    "display(upsert_df.head(5))\n",
    "display(upsert_df.tail(5))"
   ]
  },
  {
   "cell_type": "code",
   "execution_count": 29,
   "metadata": {
    "execution": {
     "iopub.execute_input": "2022-01-31T03:38:00.824549Z",
     "iopub.status.busy": "2022-01-31T03:38:00.824237Z",
     "iopub.status.idle": "2022-01-31T03:38:00.841697Z",
     "shell.execute_reply": "2022-01-31T03:38:00.839752Z",
     "shell.execute_reply.started": "2022-01-31T03:38:00.824508Z"
    },
    "papermill": {
     "duration": null,
     "end_time": null,
     "exception": null,
     "start_time": null,
     "status": "pending"
    },
    "tags": [],
    "pycharm": {
     "name": "#%%\n"
    }
   },
   "outputs": [],
   "source": [
    "### buliding the delete dataframe - should be all Ids in overlaps that are not main clusters\n",
    "deletion_df = pd.DataFrame(columns=['Id']) #Id of the main cluster\n",
    "\n",
    "deletion_ids = []\n",
    "\n",
    "for i,ii in enumerate(main_clusters):\n",
    "    for j in overlaps3[i][1:]:\n",
    "        deletion_ids.append(j)\n",
    "deletion_df['Id'] = deletion_ids"
   ]
  },
  {
   "cell_type": "code",
   "execution_count": 30,
   "metadata": {
    "execution": {
     "iopub.execute_input": "2022-01-31T03:38:00.845308Z",
     "iopub.status.busy": "2022-01-31T03:38:00.844789Z",
     "iopub.status.idle": "2022-01-31T03:38:00.861327Z",
     "shell.execute_reply": "2022-01-31T03:38:00.858460Z",
     "shell.execute_reply.started": "2022-01-31T03:38:00.845250Z"
    },
    "papermill": {
     "duration": null,
     "end_time": null,
     "exception": null,
     "start_time": null,
     "status": "pending"
    },
    "tags": [],
    "pycharm": {
     "name": "#%%\n"
    }
   },
   "outputs": [
    {
     "data": {
      "text/html": [
       "<div>\n",
       "<style scoped>\n",
       "    .dataframe tbody tr th:only-of-type {\n",
       "        vertical-align: middle;\n",
       "    }\n",
       "\n",
       "    .dataframe tbody tr th {\n",
       "        vertical-align: top;\n",
       "    }\n",
       "\n",
       "    .dataframe thead th {\n",
       "        text-align: right;\n",
       "    }\n",
       "</style>\n",
       "<table border=\"1\" class=\"dataframe\">\n",
       "  <thead>\n",
       "    <tr style=\"text-align: right;\">\n",
       "      <th></th>\n",
       "      <th>Id</th>\n",
       "    </tr>\n",
       "  </thead>\n",
       "  <tbody>\n",
       "    <tr>\n",
       "      <th>0</th>\n",
       "      <td>a0w5w00000A8WKZAA3</td>\n",
       "    </tr>\n",
       "    <tr>\n",
       "      <th>1</th>\n",
       "      <td>a0w5w00000A8OJTAA3</td>\n",
       "    </tr>\n",
       "    <tr>\n",
       "      <th>2</th>\n",
       "      <td>a0w5w00000A8OFhAAN</td>\n",
       "    </tr>\n",
       "  </tbody>\n",
       "</table>\n",
       "</div>"
      ],
      "text/plain": [
       "                   Id\n",
       "0  a0w5w00000A8WKZAA3\n",
       "1  a0w5w00000A8OJTAA3\n",
       "2  a0w5w00000A8OFhAAN"
      ]
     },
     "metadata": {},
     "output_type": "display_data"
    }
   ],
   "source": [
    "display(deletion_df.head(3))"
   ]
  },
  {
   "cell_type": "code",
   "execution_count": 31,
   "metadata": {
    "execution": {
     "iopub.execute_input": "2022-01-31T03:38:00.863770Z",
     "iopub.status.busy": "2022-01-31T03:38:00.863474Z",
     "iopub.status.idle": "2022-01-31T03:38:00.875914Z",
     "shell.execute_reply": "2022-01-31T03:38:00.869551Z",
     "shell.execute_reply.started": "2022-01-31T03:38:00.863727Z"
    },
    "papermill": {
     "duration": null,
     "end_time": null,
     "exception": null,
     "start_time": null,
     "status": "pending"
    },
    "tags": [],
    "pycharm": {
     "name": "#%%\n"
    }
   },
   "outputs": [],
   "source": [
    "## summary up to this point\n",
    "## upsert_df db.send_data(upsert_df)\n",
    "## db.object_id = 'tool_usage_cluster__c'\n",
    "## db.external_id = 'Id'\n",
    "\n",
    "## deletion_df db.delete_data(deletion_df)\n",
    "## db.object_id = 'tool_usage_cluster__c'\n",
    "## db.external_id = 'Id'"
   ]
  },
  {
   "cell_type": "code",
   "execution_count": 32,
   "metadata": {
    "execution": {
     "iopub.execute_input": "2022-01-31T03:38:00.878668Z",
     "iopub.status.busy": "2022-01-31T03:38:00.878392Z",
     "iopub.status.idle": "2022-01-31T03:38:00.901017Z",
     "shell.execute_reply": "2022-01-31T03:38:00.899240Z",
     "shell.execute_reply.started": "2022-01-31T03:38:00.878630Z"
    },
    "papermill": {
     "duration": null,
     "end_time": null,
     "exception": null,
     "start_time": null,
     "status": "pending"
    },
    "tags": [],
    "pycharm": {
     "name": "#%%\n"
    }
   },
   "outputs": [
    {
     "data": {
      "text/html": [
       "<div>\n",
       "<style scoped>\n",
       "    .dataframe tbody tr th:only-of-type {\n",
       "        vertical-align: middle;\n",
       "    }\n",
       "\n",
       "    .dataframe tbody tr th {\n",
       "        vertical-align: top;\n",
       "    }\n",
       "\n",
       "    .dataframe thead th {\n",
       "        text-align: right;\n",
       "    }\n",
       "</style>\n",
       "<table border=\"1\" class=\"dataframe\">\n",
       "  <thead>\n",
       "    <tr style=\"text-align: right;\">\n",
       "      <th></th>\n",
       "      <th>Contact__c</th>\n",
       "      <th>Id</th>\n",
       "      <th>Name</th>\n",
       "      <th>Tool_Usage_Cluster__c</th>\n",
       "    </tr>\n",
       "  </thead>\n",
       "  <tbody>\n",
       "    <tr>\n",
       "      <th>0</th>\n",
       "      <td>0035w000034JG1EAAW</td>\n",
       "      <td>a0x5w00000cMzV5AAK</td>\n",
       "      <td>gekco_454</td>\n",
       "      <td>a0w5w000009Q7m3AAC</td>\n",
       "    </tr>\n",
       "    <tr>\n",
       "      <th>1</th>\n",
       "      <td>0035w000034I5sjAAC</td>\n",
       "      <td>a0x5w00000cMzVAAA0</td>\n",
       "      <td>lalzatev_454</td>\n",
       "      <td>a0w5w000009Q7m3AAC</td>\n",
       "    </tr>\n",
       "  </tbody>\n",
       "</table>\n",
       "</div>"
      ],
      "text/plain": [
       "           Contact__c                  Id          Name Tool_Usage_Cluster__c\n",
       "0  0035w000034JG1EAAW  a0x5w00000cMzV5AAK     gekco_454    a0w5w000009Q7m3AAC\n",
       "1  0035w000034I5sjAAC  a0x5w00000cMzVAAA0  lalzatev_454    a0w5w000009Q7m3AAC"
      ]
     },
     "metadata": {},
     "output_type": "display_data"
    },
    {
     "name": "stdout",
     "output_type": "stream",
     "text": [
      "(101755, 4)\n"
     ]
    }
   ],
   "source": [
    "## updating contact and cluster mapping\n",
    "display(contact_in_cluster_df.head(2))\n",
    "print(contact_in_cluster_df.shape)"
   ]
  },
  {
   "cell_type": "code",
   "execution_count": 33,
   "metadata": {
    "execution": {
     "iopub.execute_input": "2022-01-31T03:38:00.904516Z",
     "iopub.status.busy": "2022-01-31T03:38:00.904116Z",
     "iopub.status.idle": "2022-01-31T03:38:00.920793Z",
     "shell.execute_reply": "2022-01-31T03:38:00.918359Z",
     "shell.execute_reply.started": "2022-01-31T03:38:00.904473Z"
    },
    "papermill": {
     "duration": null,
     "end_time": null,
     "exception": null,
     "start_time": null,
     "status": "pending"
    },
    "tags": [],
    "pycharm": {
     "name": "#%%\n"
    }
   },
   "outputs": [],
   "source": [
    "# NOTE: there are contacts that belong to non-overlapping clusters\n",
    "contact_usage_clusters = contact_in_cluster_df['Tool_Usage_Cluster__c'].to_list()\n",
    "contacts = contact_in_cluster_df['Contact__c'].to_list()\n",
    "change_indexes = []\n",
    "\n",
    "## check if current cluster belongs to overlaps3 - first need to convert overlaps3 into a direct list\n",
    "overlaps4 = list(itertools.chain.from_iterable(overlaps3))"
   ]
  },
  {
   "cell_type": "code",
   "execution_count": 34,
   "metadata": {
    "execution": {
     "iopub.execute_input": "2022-01-31T03:38:00.924012Z",
     "iopub.status.busy": "2022-01-31T03:38:00.923722Z",
     "iopub.status.idle": "2022-01-31T03:38:00.934540Z",
     "shell.execute_reply": "2022-01-31T03:38:00.932734Z",
     "shell.execute_reply.started": "2022-01-31T03:38:00.923971Z"
    },
    "papermill": {
     "duration": null,
     "end_time": null,
     "exception": null,
     "start_time": null,
     "status": "pending"
    },
    "tags": [],
    "pycharm": {
     "name": "#%%\n"
    }
   },
   "outputs": [
    {
     "name": "stdout",
     "output_type": "stream",
     "text": [
      "1661\n"
     ]
    }
   ],
   "source": [
    "print(len(overlaps4))"
   ]
  },
  {
   "cell_type": "code",
   "execution_count": 35,
   "metadata": {
    "execution": {
     "iopub.execute_input": "2022-01-31T03:38:00.937867Z",
     "iopub.status.busy": "2022-01-31T03:38:00.937565Z",
     "iopub.status.idle": "2022-01-31T03:38:03.015509Z",
     "shell.execute_reply": "2022-01-31T03:38:03.014116Z",
     "shell.execute_reply.started": "2022-01-31T03:38:00.937825Z"
    },
    "papermill": {
     "duration": null,
     "end_time": null,
     "exception": null,
     "start_time": null,
     "status": "pending"
    },
    "tags": [],
    "pycharm": {
     "name": "#%%\n"
    }
   },
   "outputs": [],
   "source": [
    "## populate the contacts that need changing\n",
    "for i,j in enumerate(contact_usage_clusters):\n",
    "    if j in overlaps4:\n",
    "        change_indexes.append(i)"
   ]
  },
  {
   "cell_type": "code",
   "execution_count": 36,
   "metadata": {
    "execution": {
     "iopub.execute_input": "2022-01-31T03:38:03.018308Z",
     "iopub.status.busy": "2022-01-31T03:38:03.017868Z",
     "iopub.status.idle": "2022-01-31T03:38:03.028750Z",
     "shell.execute_reply": "2022-01-31T03:38:03.025142Z",
     "shell.execute_reply.started": "2022-01-31T03:38:03.018256Z"
    },
    "papermill": {
     "duration": null,
     "end_time": null,
     "exception": null,
     "start_time": null,
     "status": "pending"
    },
    "tags": [],
    "pycharm": {
     "name": "#%%\n"
    }
   },
   "outputs": [
    {
     "name": "stdout",
     "output_type": "stream",
     "text": [
      "38562\n"
     ]
    }
   ],
   "source": [
    "print(len(change_indexes))"
   ]
  },
  {
   "cell_type": "code",
   "execution_count": 37,
   "metadata": {
    "execution": {
     "iopub.execute_input": "2022-01-31T03:38:03.032506Z",
     "iopub.status.busy": "2022-01-31T03:38:03.031905Z",
     "iopub.status.idle": "2022-01-31T03:38:04.093855Z",
     "shell.execute_reply": "2022-01-31T03:38:04.092084Z",
     "shell.execute_reply.started": "2022-01-31T03:38:03.032436Z"
    },
    "papermill": {
     "duration": null,
     "end_time": null,
     "exception": null,
     "start_time": null,
     "status": "pending"
    },
    "tags": [],
    "pycharm": {
     "name": "#%%\n"
    }
   },
   "outputs": [],
   "source": [
    "## search for each index that needs changing\n",
    "for i in change_indexes:\n",
    "    if contact_usage_clusters[i] not in main_clusters:\n",
    "        #print('testouter')\n",
    "        \n",
    "        # need to find its main_cluster\n",
    "        found_main = False\n",
    "        main_counter = 0\n",
    "        while found_main == False:\n",
    "            if contact_usage_clusters[i] in overlaps3[main_counter]:\n",
    "                #print('test')\n",
    "                found_main = True\n",
    "                contact_usage_clusters[i] = overlaps3[main_counter][0]\n",
    "            else:\n",
    "                main_counter += 1"
   ]
  },
  {
   "cell_type": "code",
   "execution_count": 38,
   "metadata": {
    "execution": {
     "iopub.execute_input": "2022-01-31T03:38:04.095850Z",
     "iopub.status.busy": "2022-01-31T03:38:04.095466Z",
     "iopub.status.idle": "2022-01-31T03:38:04.111562Z",
     "shell.execute_reply": "2022-01-31T03:38:04.110185Z",
     "shell.execute_reply.started": "2022-01-31T03:38:04.095818Z"
    },
    "papermill": {
     "duration": null,
     "end_time": null,
     "exception": null,
     "start_time": null,
     "status": "pending"
    },
    "tags": [],
    "pycharm": {
     "name": "#%%\n"
    }
   },
   "outputs": [],
   "source": [
    "contact_in_cluster_df['Tool_Usage_Cluster__c'] = contact_usage_clusters"
   ]
  },
  {
   "cell_type": "code",
   "execution_count": 39,
   "metadata": {
    "execution": {
     "iopub.execute_input": "2022-01-31T03:38:04.122387Z",
     "iopub.status.busy": "2022-01-31T03:38:04.121932Z",
     "iopub.status.idle": "2022-01-31T03:38:04.227270Z",
     "shell.execute_reply": "2022-01-31T03:38:04.225209Z",
     "shell.execute_reply.started": "2022-01-31T03:38:04.122341Z"
    },
    "papermill": {
     "duration": null,
     "end_time": null,
     "exception": null,
     "start_time": null,
     "status": "pending"
    },
    "tags": [],
    "pycharm": {
     "name": "#%%\n"
    }
   },
   "outputs": [
    {
     "data": {
      "text/html": [
       "<div>\n",
       "<style scoped>\n",
       "    .dataframe tbody tr th:only-of-type {\n",
       "        vertical-align: middle;\n",
       "    }\n",
       "\n",
       "    .dataframe tbody tr th {\n",
       "        vertical-align: top;\n",
       "    }\n",
       "\n",
       "    .dataframe thead th {\n",
       "        text-align: right;\n",
       "    }\n",
       "</style>\n",
       "<table border=\"1\" class=\"dataframe\">\n",
       "  <thead>\n",
       "    <tr style=\"text-align: right;\">\n",
       "      <th></th>\n",
       "      <th>Contact__c</th>\n",
       "      <th>Id</th>\n",
       "      <th>Name</th>\n",
       "      <th>Tool_Usage_Cluster__c</th>\n",
       "    </tr>\n",
       "  </thead>\n",
       "  <tbody>\n",
       "    <tr>\n",
       "      <th>0</th>\n",
       "      <td>0035w000034JG1EAAW</td>\n",
       "      <td>a0x5w00000cMzV5AAK</td>\n",
       "      <td>gekco_454</td>\n",
       "      <td>a0w5w000009Q7m3AAC</td>\n",
       "    </tr>\n",
       "    <tr>\n",
       "      <th>1</th>\n",
       "      <td>0035w000034I5sjAAC</td>\n",
       "      <td>a0x5w00000cMzVAAA0</td>\n",
       "      <td>lalzatev_454</td>\n",
       "      <td>a0w5w000009Q7m3AAC</td>\n",
       "    </tr>\n",
       "  </tbody>\n",
       "</table>\n",
       "</div>"
      ],
      "text/plain": [
       "           Contact__c                  Id          Name Tool_Usage_Cluster__c\n",
       "0  0035w000034JG1EAAW  a0x5w00000cMzV5AAK     gekco_454    a0w5w000009Q7m3AAC\n",
       "1  0035w000034I5sjAAC  a0x5w00000cMzVAAA0  lalzatev_454    a0w5w000009Q7m3AAC"
      ]
     },
     "metadata": {},
     "output_type": "display_data"
    },
    {
     "name": "stdout",
     "output_type": "stream",
     "text": [
      "(101755, 4)\n"
     ]
    }
   ],
   "source": [
    "## remove duplicates from contact_in_cluster_df\n",
    "contact_in_cluster_df = contact_in_cluster_df.drop_duplicates()\n",
    "display(contact_in_cluster_df.head(2))\n",
    "print(contact_in_cluster_df.shape)"
   ]
  },
  {
   "cell_type": "code",
   "execution_count": 40,
   "metadata": {
    "execution": {
     "iopub.execute_input": "2022-01-31T03:38:04.229627Z",
     "iopub.status.busy": "2022-01-31T03:38:04.229301Z",
     "iopub.status.idle": "2022-01-31T03:38:04.255769Z",
     "shell.execute_reply": "2022-01-31T03:38:04.254061Z",
     "shell.execute_reply.started": "2022-01-31T03:38:04.229583Z"
    },
    "papermill": {
     "duration": null,
     "end_time": null,
     "exception": null,
     "start_time": null,
     "status": "pending"
    },
    "tags": [],
    "pycharm": {
     "name": "#%%\n"
    }
   },
   "outputs": [
    {
     "data": {
      "text/html": [
       "<div>\n",
       "<style scoped>\n",
       "    .dataframe tbody tr th:only-of-type {\n",
       "        vertical-align: middle;\n",
       "    }\n",
       "\n",
       "    .dataframe tbody tr th {\n",
       "        vertical-align: top;\n",
       "    }\n",
       "\n",
       "    .dataframe thead th {\n",
       "        text-align: right;\n",
       "    }\n",
       "</style>\n",
       "<table border=\"1\" class=\"dataframe\">\n",
       "  <thead>\n",
       "    <tr style=\"text-align: right;\">\n",
       "      <th></th>\n",
       "      <th>Id</th>\n",
       "      <th>Name</th>\n",
       "      <th>Tool_Usage_Cluster__c</th>\n",
       "      <th>Tool__c</th>\n",
       "    </tr>\n",
       "  </thead>\n",
       "  <tbody>\n",
       "    <tr>\n",
       "      <th>0</th>\n",
       "      <td>a0y5w00000NuT38AAF</td>\n",
       "      <td>cntbands-ext_326</td>\n",
       "      <td>a0w5w000009Q7jzAAC</td>\n",
       "      <td>a0s5w00000k5MPqAAM</td>\n",
       "    </tr>\n",
       "    <tr>\n",
       "      <th>1</th>\n",
       "      <td>a0y5w00000NuT3xAAF</td>\n",
       "      <td>cntbands-ext_347</td>\n",
       "      <td>a0w5w000009Q7kKAAS</td>\n",
       "      <td>a0s5w00000k5MPqAAM</td>\n",
       "    </tr>\n",
       "  </tbody>\n",
       "</table>\n",
       "</div>"
      ],
      "text/plain": [
       "                   Id              Name Tool_Usage_Cluster__c  \\\n",
       "0  a0y5w00000NuT38AAF  cntbands-ext_326    a0w5w000009Q7jzAAC   \n",
       "1  a0y5w00000NuT3xAAF  cntbands-ext_347    a0w5w000009Q7kKAAS   \n",
       "\n",
       "              Tool__c  \n",
       "0  a0s5w00000k5MPqAAM  \n",
       "1  a0s5w00000k5MPqAAM  "
      ]
     },
     "metadata": {},
     "output_type": "display_data"
    }
   ],
   "source": [
    "## tools - take max, i.e. set all constituent clusters of a main cluster to the main cluster\n",
    "## then remove duplicates\n",
    "display(tools_in_cluster_df.head(2))"
   ]
  },
  {
   "cell_type": "code",
   "execution_count": 41,
   "metadata": {
    "execution": {
     "iopub.execute_input": "2022-01-31T03:38:04.257962Z",
     "iopub.status.busy": "2022-01-31T03:38:04.257689Z",
     "iopub.status.idle": "2022-01-31T03:38:04.421909Z",
     "shell.execute_reply": "2022-01-31T03:38:04.419581Z",
     "shell.execute_reply.started": "2022-01-31T03:38:04.257924Z"
    },
    "papermill": {
     "duration": null,
     "end_time": null,
     "exception": null,
     "start_time": null,
     "status": "pending"
    },
    "tags": [],
    "pycharm": {
     "name": "#%%\n"
    }
   },
   "outputs": [],
   "source": [
    "tuc = tools_in_cluster_df['Tool_Usage_Cluster__c'].to_list()\n",
    "\n",
    "# first find those cluster ids that are clustered\n",
    "tool_cluster_ids = []\n",
    "for i,j in enumerate(tuc):\n",
    "    if j in overlaps4:\n",
    "        tool_cluster_ids.append(i)"
   ]
  },
  {
   "cell_type": "code",
   "execution_count": 42,
   "metadata": {
    "execution": {
     "iopub.execute_input": "2022-01-31T03:38:04.425760Z",
     "iopub.status.busy": "2022-01-31T03:38:04.424909Z",
     "iopub.status.idle": "2022-01-31T03:38:04.444716Z",
     "shell.execute_reply": "2022-01-31T03:38:04.440089Z",
     "shell.execute_reply.started": "2022-01-31T03:38:04.425682Z"
    },
    "papermill": {
     "duration": null,
     "end_time": null,
     "exception": null,
     "start_time": null,
     "status": "pending"
    },
    "tags": [],
    "pycharm": {
     "name": "#%%\n"
    }
   },
   "outputs": [
    {
     "name": "stdout",
     "output_type": "stream",
     "text": [
      "2105\n"
     ]
    }
   ],
   "source": [
    "print(len(tool_cluster_ids))"
   ]
  },
  {
   "cell_type": "code",
   "execution_count": 43,
   "metadata": {
    "execution": {
     "iopub.execute_input": "2022-01-31T03:38:04.449088Z",
     "iopub.status.busy": "2022-01-31T03:38:04.447935Z",
     "iopub.status.idle": "2022-01-31T03:38:04.538470Z",
     "shell.execute_reply": "2022-01-31T03:38:04.537116Z",
     "shell.execute_reply.started": "2022-01-31T03:38:04.448855Z"
    },
    "papermill": {
     "duration": null,
     "end_time": null,
     "exception": null,
     "start_time": null,
     "status": "pending"
    },
    "tags": [],
    "pycharm": {
     "name": "#%%\n"
    }
   },
   "outputs": [],
   "source": [
    "for i in tool_cluster_ids:\n",
    "    if tuc[i] not in main_clusters: #then need to find its corresponding main cluster\n",
    "        found_main = False\n",
    "        main_counter = 0\n",
    "        \n",
    "        while found_main == False:\n",
    "            if tuc[i] in overlaps3[main_counter]:\n",
    "                #print('test')\n",
    "                found_main = True\n",
    "                tuc[i] = overlaps3[main_counter][0]\n",
    "            else:\n",
    "                main_counter += 1"
   ]
  },
  {
   "cell_type": "code",
   "execution_count": 44,
   "metadata": {
    "execution": {
     "iopub.execute_input": "2022-01-31T03:38:04.541200Z",
     "iopub.status.busy": "2022-01-31T03:38:04.540809Z",
     "iopub.status.idle": "2022-01-31T03:38:04.566623Z",
     "shell.execute_reply": "2022-01-31T03:38:04.562868Z",
     "shell.execute_reply.started": "2022-01-31T03:38:04.541065Z"
    },
    "papermill": {
     "duration": null,
     "end_time": null,
     "exception": null,
     "start_time": null,
     "status": "pending"
    },
    "tags": [],
    "pycharm": {
     "name": "#%%\n"
    }
   },
   "outputs": [
    {
     "data": {
      "text/html": [
       "<div>\n",
       "<style scoped>\n",
       "    .dataframe tbody tr th:only-of-type {\n",
       "        vertical-align: middle;\n",
       "    }\n",
       "\n",
       "    .dataframe tbody tr th {\n",
       "        vertical-align: top;\n",
       "    }\n",
       "\n",
       "    .dataframe thead th {\n",
       "        text-align: right;\n",
       "    }\n",
       "</style>\n",
       "<table border=\"1\" class=\"dataframe\">\n",
       "  <thead>\n",
       "    <tr style=\"text-align: right;\">\n",
       "      <th></th>\n",
       "      <th>Id</th>\n",
       "      <th>Name</th>\n",
       "      <th>Tool_Usage_Cluster__c</th>\n",
       "      <th>Tool__c</th>\n",
       "    </tr>\n",
       "  </thead>\n",
       "  <tbody>\n",
       "    <tr>\n",
       "      <th>0</th>\n",
       "      <td>a0y5w00000NuT38AAF</td>\n",
       "      <td>cntbands-ext_326</td>\n",
       "      <td>a0w5w000009Q7jzAAC</td>\n",
       "      <td>a0s5w00000k5MPqAAM</td>\n",
       "    </tr>\n",
       "    <tr>\n",
       "      <th>1</th>\n",
       "      <td>a0y5w00000NuT3xAAF</td>\n",
       "      <td>cntbands-ext_347</td>\n",
       "      <td>a0w5w000009Q7kKAAS</td>\n",
       "      <td>a0s5w00000k5MPqAAM</td>\n",
       "    </tr>\n",
       "  </tbody>\n",
       "</table>\n",
       "</div>"
      ],
      "text/plain": [
       "                   Id              Name Tool_Usage_Cluster__c  \\\n",
       "0  a0y5w00000NuT38AAF  cntbands-ext_326    a0w5w000009Q7jzAAC   \n",
       "1  a0y5w00000NuT3xAAF  cntbands-ext_347    a0w5w000009Q7kKAAS   \n",
       "\n",
       "              Tool__c  \n",
       "0  a0s5w00000k5MPqAAM  \n",
       "1  a0s5w00000k5MPqAAM  "
      ]
     },
     "metadata": {},
     "output_type": "display_data"
    }
   ],
   "source": [
    "tools_in_cluster_df['Tool_Usage_Cluster__c'] = tuc\n",
    "display(tools_in_cluster_df.head(2))"
   ]
  },
  {
   "cell_type": "markdown",
   "metadata": {
    "papermill": {
     "duration": null,
     "end_time": null,
     "exception": null,
     "start_time": null,
     "status": "pending"
    },
    "tags": [],
    "pycharm": {
     "name": "#%% md\n"
    }
   },
   "source": [
    "## Send to SF"
   ]
  },
  {
   "cell_type": "code",
   "execution_count": 45,
   "metadata": {
    "execution": {
     "iopub.execute_input": "2022-01-31T03:38:04.569742Z",
     "iopub.status.busy": "2022-01-31T03:38:04.569064Z",
     "iopub.status.idle": "2022-01-31T03:38:04.956719Z",
     "shell.execute_reply": "2022-01-31T03:38:04.955303Z",
     "shell.execute_reply.started": "2022-01-31T03:38:04.569669Z"
    },
    "papermill": {
     "duration": null,
     "end_time": null,
     "exception": null,
     "start_time": null,
     "status": "pending"
    },
    "tags": [],
    "pycharm": {
     "name": "#%%\n"
    }
   },
   "outputs": [
    {
     "name": "stdout",
     "output_type": "stream",
     "text": [
      "Obtained Salesforce access token ...... True\n"
     ]
    }
   ],
   "source": [
    "db_upsert_del = application.new_salesforce_engine()"
   ]
  },
  {
   "cell_type": "code",
   "execution_count": 46,
   "metadata": {
    "execution": {
     "iopub.execute_input": "2022-01-31T03:38:04.959383Z",
     "iopub.status.busy": "2022-01-31T03:38:04.958749Z",
     "iopub.status.idle": "2022-01-31T03:38:04.966663Z",
     "shell.execute_reply": "2022-01-31T03:38:04.963905Z",
     "shell.execute_reply.started": "2022-01-31T03:38:04.959326Z"
    },
    "papermill": {
     "duration": null,
     "end_time": null,
     "exception": null,
     "start_time": null,
     "status": "pending"
    },
    "tags": [],
    "pycharm": {
     "name": "#%%\n"
    }
   },
   "outputs": [],
   "source": [
    "db_upsert_del.object_id = 'tool_usage_cluster__c'\n",
    "db_upsert_del.external_id = 'Id'"
   ]
  },
  {
   "cell_type": "code",
   "execution_count": 47,
   "metadata": {
    "execution": {
     "iopub.execute_input": "2022-01-31T03:38:04.969855Z",
     "iopub.status.busy": "2022-01-31T03:38:04.969556Z",
     "iopub.status.idle": "2022-01-31T03:38:06.069611Z",
     "shell.execute_reply": "2022-01-31T03:38:06.068377Z",
     "shell.execute_reply.started": "2022-01-31T03:38:04.969815Z"
    },
    "papermill": {
     "duration": null,
     "end_time": null,
     "exception": null,
     "start_time": null,
     "status": "pending"
    },
    "tags": [],
    "pycharm": {
     "name": "#%%\n"
    }
   },
   "outputs": [
    {
     "name": "stdout",
     "output_type": "stream",
     "text": [
      "[Success] Bulk job creation successful. Job ID = 7505w00000cyX2lAAE\n",
      "hello\n",
      "[Success] CSV upload successful. Job ID = 7505w00000cyX2lAAE\n",
      "[Success] Closing job successful. Job ID = 7505w00000cyX2lAAE\n"
     ]
    }
   ],
   "source": [
    "db_upsert_del.send_data(upsert_df)"
   ]
  },
  {
   "cell_type": "code",
   "execution_count": 48,
   "metadata": {
    "execution": {
     "iopub.execute_input": "2022-01-31T03:38:06.073285Z",
     "iopub.status.busy": "2022-01-31T03:38:06.072544Z",
     "iopub.status.idle": "2022-01-31T03:38:06.454257Z",
     "shell.execute_reply": "2022-01-31T03:38:06.453216Z",
     "shell.execute_reply.started": "2022-01-31T03:38:06.073242Z"
    },
    "papermill": {
     "duration": null,
     "end_time": null,
     "exception": null,
     "start_time": null,
     "status": "pending"
    },
    "tags": [],
    "pycharm": {
     "name": "#%%\n"
    }
   },
   "outputs": [
    {
     "data": {
      "text/plain": [
       "{'id': '7505w00000cyX2lAAE',\n",
       " 'operation': 'upsert',\n",
       " 'object': 'tool_usage_cluster__c',\n",
       " 'createdById': '0055w00000DM5bOAAT',\n",
       " 'createdDate': '2022-01-31T03:38:05.000+0000',\n",
       " 'systemModstamp': '2022-01-31T03:38:06.000+0000',\n",
       " 'state': 'InProgress',\n",
       " 'externalIdFieldName': 'Id',\n",
       " 'concurrencyMode': 'Parallel',\n",
       " 'contentType': 'CSV',\n",
       " 'apiVersion': 47.0,\n",
       " 'jobType': 'V2Ingest',\n",
       " 'lineEnding': 'LF',\n",
       " 'columnDelimiter': 'COMMA',\n",
       " 'numberRecordsProcessed': 0,\n",
       " 'numberRecordsFailed': 0,\n",
       " 'retries': 0,\n",
       " 'totalProcessingTime': 0,\n",
       " 'apiActiveProcessingTime': 0,\n",
       " 'apexProcessingTime': 0}"
      ]
     },
     "execution_count": 48,
     "metadata": {},
     "output_type": "execute_result"
    }
   ],
   "source": [
    "db_upsert_del.check_bulk_status()"
   ]
  },
  {
   "cell_type": "code",
   "execution_count": 49,
   "metadata": {
    "execution": {
     "iopub.execute_input": "2022-01-31T03:38:06.458670Z",
     "iopub.status.busy": "2022-01-31T03:38:06.456908Z",
     "iopub.status.idle": "2022-01-31T03:38:06.687663Z",
     "shell.execute_reply": "2022-01-31T03:38:06.685786Z",
     "shell.execute_reply.started": "2022-01-31T03:38:06.458464Z"
    },
    "papermill": {
     "duration": null,
     "end_time": null,
     "exception": null,
     "start_time": null,
     "status": "pending"
    },
    "tags": [],
    "pycharm": {
     "name": "#%%\n"
    }
   },
   "outputs": [
    {
     "name": "stdout",
     "output_type": "stream",
     "text": [
      "''\n"
     ]
    }
   ],
   "source": [
    "from pprint import pprint\n",
    "pprint(db_upsert_del.check_bulk_failed_results())"
   ]
  },
  {
   "cell_type": "markdown",
   "metadata": {
    "papermill": {
     "duration": null,
     "end_time": null,
     "exception": null,
     "start_time": null,
     "status": "pending"
    },
    "tags": [],
    "pycharm": {
     "name": "#%% md\n"
    }
   },
   "source": [
    "#### upload contact_in_cluster_df"
   ]
  },
  {
   "cell_type": "code",
   "execution_count": 50,
   "metadata": {
    "execution": {
     "iopub.execute_input": "2022-01-31T03:38:06.692356Z",
     "iopub.status.busy": "2022-01-31T03:38:06.691303Z",
     "iopub.status.idle": "2022-01-31T03:38:07.053891Z",
     "shell.execute_reply": "2022-01-31T03:38:07.052660Z",
     "shell.execute_reply.started": "2022-01-31T03:38:06.692296Z"
    },
    "papermill": {
     "duration": null,
     "end_time": null,
     "exception": null,
     "start_time": null,
     "status": "pending"
    },
    "tags": [],
    "pycharm": {
     "name": "#%%\n"
    }
   },
   "outputs": [
    {
     "name": "stdout",
     "output_type": "stream",
     "text": [
      "Obtained Salesforce access token ...... True\n"
     ]
    }
   ],
   "source": [
    "db_contact_upsert = application.new_salesforce_engine()"
   ]
  },
  {
   "cell_type": "code",
   "execution_count": 51,
   "metadata": {
    "execution": {
     "iopub.execute_input": "2022-01-31T03:38:07.057522Z",
     "iopub.status.busy": "2022-01-31T03:38:07.056419Z",
     "iopub.status.idle": "2022-01-31T03:38:07.074898Z",
     "shell.execute_reply": "2022-01-31T03:38:07.073872Z",
     "shell.execute_reply.started": "2022-01-31T03:38:07.057404Z"
    },
    "papermill": {
     "duration": null,
     "end_time": null,
     "exception": null,
     "start_time": null,
     "status": "pending"
    },
    "tags": [],
    "pycharm": {
     "name": "#%%\n"
    }
   },
   "outputs": [],
   "source": [
    "## need to delete first, then upload\n",
    "contact_in_cluster_df_del = pd.DataFrame(contact_in_cluster_df['Id'])\n",
    "contact_in_cluster_df_up = contact_in_cluster_df.drop(columns='Id')"
   ]
  },
  {
   "cell_type": "code",
   "execution_count": 52,
   "metadata": {
    "execution": {
     "iopub.execute_input": "2022-01-31T03:38:07.078148Z",
     "iopub.status.busy": "2022-01-31T03:38:07.076536Z",
     "iopub.status.idle": "2022-01-31T03:38:07.105852Z",
     "shell.execute_reply": "2022-01-31T03:38:07.104483Z",
     "shell.execute_reply.started": "2022-01-31T03:38:07.077939Z"
    },
    "papermill": {
     "duration": null,
     "end_time": null,
     "exception": null,
     "start_time": null,
     "status": "pending"
    },
    "tags": [],
    "pycharm": {
     "name": "#%%\n"
    }
   },
   "outputs": [
    {
     "data": {
      "text/html": [
       "<div>\n",
       "<style scoped>\n",
       "    .dataframe tbody tr th:only-of-type {\n",
       "        vertical-align: middle;\n",
       "    }\n",
       "\n",
       "    .dataframe tbody tr th {\n",
       "        vertical-align: top;\n",
       "    }\n",
       "\n",
       "    .dataframe thead th {\n",
       "        text-align: right;\n",
       "    }\n",
       "</style>\n",
       "<table border=\"1\" class=\"dataframe\">\n",
       "  <thead>\n",
       "    <tr style=\"text-align: right;\">\n",
       "      <th></th>\n",
       "      <th>Id</th>\n",
       "    </tr>\n",
       "  </thead>\n",
       "  <tbody>\n",
       "    <tr>\n",
       "      <th>0</th>\n",
       "      <td>a0x5w00000cMzV5AAK</td>\n",
       "    </tr>\n",
       "    <tr>\n",
       "      <th>1</th>\n",
       "      <td>a0x5w00000cMzVAAA0</td>\n",
       "    </tr>\n",
       "  </tbody>\n",
       "</table>\n",
       "</div>"
      ],
      "text/plain": [
       "                   Id\n",
       "0  a0x5w00000cMzV5AAK\n",
       "1  a0x5w00000cMzVAAA0"
      ]
     },
     "metadata": {},
     "output_type": "display_data"
    },
    {
     "data": {
      "text/html": [
       "<div>\n",
       "<style scoped>\n",
       "    .dataframe tbody tr th:only-of-type {\n",
       "        vertical-align: middle;\n",
       "    }\n",
       "\n",
       "    .dataframe tbody tr th {\n",
       "        vertical-align: top;\n",
       "    }\n",
       "\n",
       "    .dataframe thead th {\n",
       "        text-align: right;\n",
       "    }\n",
       "</style>\n",
       "<table border=\"1\" class=\"dataframe\">\n",
       "  <thead>\n",
       "    <tr style=\"text-align: right;\">\n",
       "      <th></th>\n",
       "      <th>Contact__c</th>\n",
       "      <th>Name</th>\n",
       "      <th>Tool_Usage_Cluster__c</th>\n",
       "    </tr>\n",
       "  </thead>\n",
       "  <tbody>\n",
       "    <tr>\n",
       "      <th>0</th>\n",
       "      <td>0035w000034JG1EAAW</td>\n",
       "      <td>gekco_454</td>\n",
       "      <td>a0w5w000009Q7m3AAC</td>\n",
       "    </tr>\n",
       "    <tr>\n",
       "      <th>1</th>\n",
       "      <td>0035w000034I5sjAAC</td>\n",
       "      <td>lalzatev_454</td>\n",
       "      <td>a0w5w000009Q7m3AAC</td>\n",
       "    </tr>\n",
       "  </tbody>\n",
       "</table>\n",
       "</div>"
      ],
      "text/plain": [
       "           Contact__c          Name Tool_Usage_Cluster__c\n",
       "0  0035w000034JG1EAAW     gekco_454    a0w5w000009Q7m3AAC\n",
       "1  0035w000034I5sjAAC  lalzatev_454    a0w5w000009Q7m3AAC"
      ]
     },
     "metadata": {},
     "output_type": "display_data"
    }
   ],
   "source": [
    "display(contact_in_cluster_df_del.head(2))\n",
    "display(contact_in_cluster_df_up.head(2))"
   ]
  },
  {
   "cell_type": "code",
   "execution_count": 53,
   "metadata": {
    "execution": {
     "iopub.execute_input": "2022-01-31T03:38:07.108741Z",
     "iopub.status.busy": "2022-01-31T03:38:07.107592Z",
     "iopub.status.idle": "2022-01-31T03:38:07.116555Z",
     "shell.execute_reply": "2022-01-31T03:38:07.114249Z",
     "shell.execute_reply.started": "2022-01-31T03:38:07.108692Z"
    },
    "papermill": {
     "duration": null,
     "end_time": null,
     "exception": null,
     "start_time": null,
     "status": "pending"
    },
    "tags": [],
    "pycharm": {
     "name": "#%%\n"
    }
   },
   "outputs": [],
   "source": [
    "db_contact_upsert.object_id = 'ContactToolClusterAssociation__c'\n",
    "db_contact_upsert.external_id = 'Id'"
   ]
  },
  {
   "cell_type": "code",
   "execution_count": 54,
   "metadata": {
    "execution": {
     "iopub.execute_input": "2022-01-31T03:38:07.122143Z",
     "iopub.status.busy": "2022-01-31T03:38:07.121313Z",
     "iopub.status.idle": "2022-01-31T03:38:08.806663Z",
     "shell.execute_reply": "2022-01-31T03:38:08.805342Z",
     "shell.execute_reply.started": "2022-01-31T03:38:07.122095Z"
    },
    "papermill": {
     "duration": null,
     "end_time": null,
     "exception": null,
     "start_time": null,
     "status": "pending"
    },
    "tags": [],
    "pycharm": {
     "name": "#%%\n"
    }
   },
   "outputs": [
    {
     "name": "stdout",
     "output_type": "stream",
     "text": [
      "[Success] Bulk job creation successful. Job ID = 7505w00000cyWv2AAE\n",
      "hello\n",
      "[Success] CSV upload successful. Job ID = 7505w00000cyWv2AAE\n",
      "[Success] Closing job successful. Job ID = 7505w00000cyWv2AAE\n"
     ]
    }
   ],
   "source": [
    "db_contact_upsert.delete_data(contact_in_cluster_df_del)"
   ]
  },
  {
   "cell_type": "code",
   "execution_count": 55,
   "metadata": {
    "execution": {
     "iopub.execute_input": "2022-01-31T03:38:08.809538Z",
     "iopub.status.busy": "2022-01-31T03:38:08.808438Z",
     "iopub.status.idle": "2022-01-31T03:38:09.160778Z",
     "shell.execute_reply": "2022-01-31T03:38:09.157231Z",
     "shell.execute_reply.started": "2022-01-31T03:38:08.809464Z"
    },
    "papermill": {
     "duration": null,
     "end_time": null,
     "exception": null,
     "start_time": null,
     "status": "pending"
    },
    "tags": [],
    "pycharm": {
     "name": "#%%\n"
    }
   },
   "outputs": [
    {
     "data": {
      "text/plain": [
       "{'id': '7505w00000cyWv2AAE',\n",
       " 'operation': 'delete',\n",
       " 'object': 'ContactToolClusterAssociation__c',\n",
       " 'createdById': '0055w00000DM5bOAAT',\n",
       " 'createdDate': '2022-01-31T03:38:07.000+0000',\n",
       " 'systemModstamp': '2022-01-31T03:38:08.000+0000',\n",
       " 'state': 'UploadComplete',\n",
       " 'concurrencyMode': 'Parallel',\n",
       " 'contentType': 'CSV',\n",
       " 'apiVersion': 47.0,\n",
       " 'jobType': 'V2Ingest',\n",
       " 'lineEnding': 'LF',\n",
       " 'columnDelimiter': 'COMMA',\n",
       " 'numberRecordsProcessed': 0,\n",
       " 'numberRecordsFailed': 0,\n",
       " 'retries': 0,\n",
       " 'totalProcessingTime': 0,\n",
       " 'apiActiveProcessingTime': 0,\n",
       " 'apexProcessingTime': 0}"
      ]
     },
     "execution_count": 55,
     "metadata": {},
     "output_type": "execute_result"
    }
   ],
   "source": [
    "db_contact_upsert.check_bulk_status()"
   ]
  },
  {
   "cell_type": "code",
   "execution_count": 56,
   "metadata": {
    "execution": {
     "iopub.execute_input": "2022-01-31T03:38:09.163975Z",
     "iopub.status.busy": "2022-01-31T03:38:09.162737Z",
     "iopub.status.idle": "2022-01-31T03:38:09.401261Z",
     "shell.execute_reply": "2022-01-31T03:38:09.399098Z",
     "shell.execute_reply.started": "2022-01-31T03:38:09.163922Z"
    },
    "papermill": {
     "duration": null,
     "end_time": null,
     "exception": null,
     "start_time": null,
     "status": "pending"
    },
    "tags": [],
    "pycharm": {
     "name": "#%%\n"
    }
   },
   "outputs": [
    {
     "name": "stdout",
     "output_type": "stream",
     "text": [
      "''\n"
     ]
    }
   ],
   "source": [
    "pprint(db_contact_upsert.check_bulk_failed_results())"
   ]
  },
  {
   "cell_type": "code",
   "execution_count": null,
   "metadata": {
    "papermill": {
     "duration": null,
     "end_time": null,
     "exception": null,
     "start_time": null,
     "status": "pending"
    },
    "tags": [],
    "pycharm": {
     "name": "#%%\n"
    }
   },
   "outputs": [],
   "source": []
  },
  {
   "cell_type": "code",
   "execution_count": null,
   "metadata": {
    "papermill": {
     "duration": null,
     "end_time": null,
     "exception": null,
     "start_time": null,
     "status": "pending"
    },
    "tags": [],
    "pycharm": {
     "name": "#%%\n"
    }
   },
   "outputs": [],
   "source": []
  },
  {
   "cell_type": "code",
   "execution_count": 57,
   "metadata": {
    "execution": {
     "iopub.execute_input": "2022-01-31T03:38:09.406959Z",
     "iopub.status.busy": "2022-01-31T03:38:09.404839Z",
     "iopub.status.idle": "2022-01-31T03:38:09.418079Z",
     "shell.execute_reply": "2022-01-31T03:38:09.415027Z",
     "shell.execute_reply.started": "2022-01-31T03:38:09.406886Z"
    },
    "papermill": {
     "duration": null,
     "end_time": null,
     "exception": null,
     "start_time": null,
     "status": "pending"
    },
    "tags": [],
    "pycharm": {
     "name": "#%%\n"
    }
   },
   "outputs": [],
   "source": [
    "db_contact_upsert.object_id = 'ContactToolClusterAssociation__c'\n",
    "db_contact_upsert.external_id = 'Name'"
   ]
  },
  {
   "cell_type": "code",
   "execution_count": 58,
   "metadata": {
    "execution": {
     "iopub.execute_input": "2022-01-31T03:38:09.422583Z",
     "iopub.status.busy": "2022-01-31T03:38:09.421640Z",
     "iopub.status.idle": "2022-01-31T03:38:12.222799Z",
     "shell.execute_reply": "2022-01-31T03:38:12.219823Z",
     "shell.execute_reply.started": "2022-01-31T03:38:09.422527Z"
    },
    "papermill": {
     "duration": null,
     "end_time": null,
     "exception": null,
     "start_time": null,
     "status": "pending"
    },
    "tags": [],
    "pycharm": {
     "name": "#%%\n"
    }
   },
   "outputs": [
    {
     "name": "stdout",
     "output_type": "stream",
     "text": [
      "[Success] Bulk job creation successful. Job ID = 7505w00000cyX2qAAE\n",
      "hello\n",
      "[Success] CSV upload successful. Job ID = 7505w00000cyX2qAAE\n",
      "[Success] Closing job successful. Job ID = 7505w00000cyX2qAAE\n"
     ]
    }
   ],
   "source": [
    "db_contact_upsert.send_data(contact_in_cluster_df_up)"
   ]
  },
  {
   "cell_type": "code",
   "execution_count": 59,
   "metadata": {
    "execution": {
     "iopub.execute_input": "2022-01-31T03:38:12.227042Z",
     "iopub.status.busy": "2022-01-31T03:38:12.225432Z",
     "iopub.status.idle": "2022-01-31T03:38:12.556117Z",
     "shell.execute_reply": "2022-01-31T03:38:12.554385Z",
     "shell.execute_reply.started": "2022-01-31T03:38:12.226975Z"
    },
    "papermill": {
     "duration": null,
     "end_time": null,
     "exception": null,
     "start_time": null,
     "status": "pending"
    },
    "tags": [],
    "pycharm": {
     "name": "#%%\n"
    }
   },
   "outputs": [
    {
     "data": {
      "text/plain": [
       "{'id': '7505w00000cyX2qAAE',\n",
       " 'operation': 'upsert',\n",
       " 'object': 'ContactToolClusterAssociation__c',\n",
       " 'createdById': '0055w00000DM5bOAAT',\n",
       " 'createdDate': '2022-01-31T03:38:09.000+0000',\n",
       " 'systemModstamp': '2022-01-31T03:38:12.000+0000',\n",
       " 'state': 'InProgress',\n",
       " 'externalIdFieldName': 'Name',\n",
       " 'concurrencyMode': 'Parallel',\n",
       " 'contentType': 'CSV',\n",
       " 'apiVersion': 47.0,\n",
       " 'jobType': 'V2Ingest',\n",
       " 'lineEnding': 'LF',\n",
       " 'columnDelimiter': 'COMMA',\n",
       " 'numberRecordsProcessed': 0,\n",
       " 'numberRecordsFailed': 0,\n",
       " 'retries': 0,\n",
       " 'totalProcessingTime': 0,\n",
       " 'apiActiveProcessingTime': 0,\n",
       " 'apexProcessingTime': 0}"
      ]
     },
     "execution_count": 59,
     "metadata": {},
     "output_type": "execute_result"
    }
   ],
   "source": [
    "db_contact_upsert.check_bulk_status()"
   ]
  },
  {
   "cell_type": "code",
   "execution_count": 60,
   "metadata": {
    "execution": {
     "iopub.execute_input": "2022-01-31T03:38:12.559146Z",
     "iopub.status.busy": "2022-01-31T03:38:12.558455Z",
     "iopub.status.idle": "2022-01-31T03:38:12.783655Z",
     "shell.execute_reply": "2022-01-31T03:38:12.781921Z",
     "shell.execute_reply.started": "2022-01-31T03:38:12.559100Z"
    },
    "papermill": {
     "duration": null,
     "end_time": null,
     "exception": null,
     "start_time": null,
     "status": "pending"
    },
    "tags": [],
    "pycharm": {
     "name": "#%%\n"
    }
   },
   "outputs": [
    {
     "name": "stdout",
     "output_type": "stream",
     "text": [
      "''\n"
     ]
    }
   ],
   "source": [
    "pprint(db_contact_upsert.check_bulk_failed_results())"
   ]
  },
  {
   "cell_type": "code",
   "execution_count": null,
   "metadata": {
    "papermill": {
     "duration": null,
     "end_time": null,
     "exception": null,
     "start_time": null,
     "status": "pending"
    },
    "tags": [],
    "pycharm": {
     "name": "#%%\n"
    }
   },
   "outputs": [],
   "source": []
  },
  {
   "cell_type": "markdown",
   "metadata": {
    "papermill": {
     "duration": null,
     "end_time": null,
     "exception": null,
     "start_time": null,
     "status": "pending"
    },
    "tags": [],
    "pycharm": {
     "name": "#%% md\n"
    }
   },
   "source": [
    "#### tools_in_cluster_df"
   ]
  },
  {
   "cell_type": "code",
   "execution_count": 61,
   "metadata": {
    "execution": {
     "iopub.execute_input": "2022-01-31T03:38:12.788831Z",
     "iopub.status.busy": "2022-01-31T03:38:12.787042Z",
     "iopub.status.idle": "2022-01-31T03:38:13.142919Z",
     "shell.execute_reply": "2022-01-31T03:38:13.141054Z",
     "shell.execute_reply.started": "2022-01-31T03:38:12.788770Z"
    },
    "papermill": {
     "duration": null,
     "end_time": null,
     "exception": null,
     "start_time": null,
     "status": "pending"
    },
    "tags": [],
    "pycharm": {
     "name": "#%%\n"
    }
   },
   "outputs": [
    {
     "name": "stdout",
     "output_type": "stream",
     "text": [
      "Obtained Salesforce access token ...... True\n"
     ]
    }
   ],
   "source": [
    "db_tool_upsert = application.new_salesforce_engine()"
   ]
  },
  {
   "cell_type": "code",
   "execution_count": 62,
   "metadata": {
    "execution": {
     "iopub.execute_input": "2022-01-31T03:38:13.150710Z",
     "iopub.status.busy": "2022-01-31T03:38:13.149473Z",
     "iopub.status.idle": "2022-01-31T03:38:13.167742Z",
     "shell.execute_reply": "2022-01-31T03:38:13.165724Z",
     "shell.execute_reply.started": "2022-01-31T03:38:13.150532Z"
    },
    "papermill": {
     "duration": null,
     "end_time": null,
     "exception": null,
     "start_time": null,
     "status": "pending"
    },
    "tags": [],
    "pycharm": {
     "name": "#%%\n"
    }
   },
   "outputs": [],
   "source": [
    "## need to delete first, then upload\n",
    "db_tool_upsert_del = pd.DataFrame(tools_in_cluster_df['Id'])\n",
    "db_tool_upsert_up = tools_in_cluster_df.drop(columns='Id')"
   ]
  },
  {
   "cell_type": "code",
   "execution_count": 63,
   "metadata": {
    "execution": {
     "iopub.execute_input": "2022-01-31T03:38:13.172042Z",
     "iopub.status.busy": "2022-01-31T03:38:13.171621Z",
     "iopub.status.idle": "2022-01-31T03:38:13.199556Z",
     "shell.execute_reply": "2022-01-31T03:38:13.197278Z",
     "shell.execute_reply.started": "2022-01-31T03:38:13.171980Z"
    },
    "papermill": {
     "duration": null,
     "end_time": null,
     "exception": null,
     "start_time": null,
     "status": "pending"
    },
    "tags": [],
    "pycharm": {
     "name": "#%%\n"
    }
   },
   "outputs": [
    {
     "data": {
      "text/html": [
       "<div>\n",
       "<style scoped>\n",
       "    .dataframe tbody tr th:only-of-type {\n",
       "        vertical-align: middle;\n",
       "    }\n",
       "\n",
       "    .dataframe tbody tr th {\n",
       "        vertical-align: top;\n",
       "    }\n",
       "\n",
       "    .dataframe thead th {\n",
       "        text-align: right;\n",
       "    }\n",
       "</style>\n",
       "<table border=\"1\" class=\"dataframe\">\n",
       "  <thead>\n",
       "    <tr style=\"text-align: right;\">\n",
       "      <th></th>\n",
       "      <th>Id</th>\n",
       "    </tr>\n",
       "  </thead>\n",
       "  <tbody>\n",
       "    <tr>\n",
       "      <th>0</th>\n",
       "      <td>a0y5w00000NuT38AAF</td>\n",
       "    </tr>\n",
       "    <tr>\n",
       "      <th>1</th>\n",
       "      <td>a0y5w00000NuT3xAAF</td>\n",
       "    </tr>\n",
       "  </tbody>\n",
       "</table>\n",
       "</div>"
      ],
      "text/plain": [
       "                   Id\n",
       "0  a0y5w00000NuT38AAF\n",
       "1  a0y5w00000NuT3xAAF"
      ]
     },
     "metadata": {},
     "output_type": "display_data"
    },
    {
     "data": {
      "text/html": [
       "<div>\n",
       "<style scoped>\n",
       "    .dataframe tbody tr th:only-of-type {\n",
       "        vertical-align: middle;\n",
       "    }\n",
       "\n",
       "    .dataframe tbody tr th {\n",
       "        vertical-align: top;\n",
       "    }\n",
       "\n",
       "    .dataframe thead th {\n",
       "        text-align: right;\n",
       "    }\n",
       "</style>\n",
       "<table border=\"1\" class=\"dataframe\">\n",
       "  <thead>\n",
       "    <tr style=\"text-align: right;\">\n",
       "      <th></th>\n",
       "      <th>Name</th>\n",
       "      <th>Tool_Usage_Cluster__c</th>\n",
       "      <th>Tool__c</th>\n",
       "    </tr>\n",
       "  </thead>\n",
       "  <tbody>\n",
       "    <tr>\n",
       "      <th>0</th>\n",
       "      <td>cntbands-ext_326</td>\n",
       "      <td>a0w5w000009Q7jzAAC</td>\n",
       "      <td>a0s5w00000k5MPqAAM</td>\n",
       "    </tr>\n",
       "    <tr>\n",
       "      <th>1</th>\n",
       "      <td>cntbands-ext_347</td>\n",
       "      <td>a0w5w000009Q7kKAAS</td>\n",
       "      <td>a0s5w00000k5MPqAAM</td>\n",
       "    </tr>\n",
       "  </tbody>\n",
       "</table>\n",
       "</div>"
      ],
      "text/plain": [
       "               Name Tool_Usage_Cluster__c             Tool__c\n",
       "0  cntbands-ext_326    a0w5w000009Q7jzAAC  a0s5w00000k5MPqAAM\n",
       "1  cntbands-ext_347    a0w5w000009Q7kKAAS  a0s5w00000k5MPqAAM"
      ]
     },
     "metadata": {},
     "output_type": "display_data"
    }
   ],
   "source": [
    "display(db_tool_upsert_del.head(2))\n",
    "display(db_tool_upsert_up.head(2))"
   ]
  },
  {
   "cell_type": "code",
   "execution_count": 64,
   "metadata": {
    "execution": {
     "iopub.execute_input": "2022-01-31T03:38:13.202003Z",
     "iopub.status.busy": "2022-01-31T03:38:13.201707Z",
     "iopub.status.idle": "2022-01-31T03:38:13.215364Z",
     "shell.execute_reply": "2022-01-31T03:38:13.209996Z",
     "shell.execute_reply.started": "2022-01-31T03:38:13.201962Z"
    },
    "papermill": {
     "duration": null,
     "end_time": null,
     "exception": null,
     "start_time": null,
     "status": "pending"
    },
    "tags": [],
    "pycharm": {
     "name": "#%%\n"
    }
   },
   "outputs": [],
   "source": [
    "db_tool_upsert.external_id = 'Id'\n",
    "db_tool_upsert.object_id = 'ToolToolClusterAssociation__c'"
   ]
  },
  {
   "cell_type": "code",
   "execution_count": 65,
   "metadata": {
    "execution": {
     "iopub.execute_input": "2022-01-31T03:38:13.220495Z",
     "iopub.status.busy": "2022-01-31T03:38:13.219854Z",
     "iopub.status.idle": "2022-01-31T03:38:14.324531Z",
     "shell.execute_reply": "2022-01-31T03:38:14.322340Z",
     "shell.execute_reply.started": "2022-01-31T03:38:13.220425Z"
    },
    "papermill": {
     "duration": null,
     "end_time": null,
     "exception": null,
     "start_time": null,
     "status": "pending"
    },
    "tags": [],
    "pycharm": {
     "name": "#%%\n"
    }
   },
   "outputs": [
    {
     "name": "stdout",
     "output_type": "stream",
     "text": [
      "[Success] Bulk job creation successful. Job ID = 7505w00000cyX2vAAE\n",
      "hello\n",
      "[Success] CSV upload successful. Job ID = 7505w00000cyX2vAAE\n",
      "[Success] Closing job successful. Job ID = 7505w00000cyX2vAAE\n"
     ]
    }
   ],
   "source": [
    "db_tool_upsert.delete_data(db_tool_upsert_del)"
   ]
  },
  {
   "cell_type": "code",
   "execution_count": 66,
   "metadata": {
    "execution": {
     "iopub.execute_input": "2022-01-31T03:38:14.327765Z",
     "iopub.status.busy": "2022-01-31T03:38:14.327086Z",
     "iopub.status.idle": "2022-01-31T03:38:14.712119Z",
     "shell.execute_reply": "2022-01-31T03:38:14.709259Z",
     "shell.execute_reply.started": "2022-01-31T03:38:14.327710Z"
    },
    "papermill": {
     "duration": null,
     "end_time": null,
     "exception": null,
     "start_time": null,
     "status": "pending"
    },
    "tags": [],
    "pycharm": {
     "name": "#%%\n"
    }
   },
   "outputs": [
    {
     "data": {
      "text/plain": [
       "{'id': '7505w00000cyX2vAAE',\n",
       " 'operation': 'delete',\n",
       " 'object': 'ToolToolClusterAssociation__c',\n",
       " 'createdById': '0055w00000DM5bOAAT',\n",
       " 'createdDate': '2022-01-31T03:38:13.000+0000',\n",
       " 'systemModstamp': '2022-01-31T03:38:14.000+0000',\n",
       " 'state': 'UploadComplete',\n",
       " 'concurrencyMode': 'Parallel',\n",
       " 'contentType': 'CSV',\n",
       " 'apiVersion': 47.0,\n",
       " 'jobType': 'V2Ingest',\n",
       " 'lineEnding': 'LF',\n",
       " 'columnDelimiter': 'COMMA',\n",
       " 'numberRecordsProcessed': 0,\n",
       " 'numberRecordsFailed': 0,\n",
       " 'retries': 0,\n",
       " 'totalProcessingTime': 0,\n",
       " 'apiActiveProcessingTime': 0,\n",
       " 'apexProcessingTime': 0}"
      ]
     },
     "execution_count": 66,
     "metadata": {},
     "output_type": "execute_result"
    }
   ],
   "source": [
    "db_tool_upsert.check_bulk_status()"
   ]
  },
  {
   "cell_type": "code",
   "execution_count": 67,
   "metadata": {
    "execution": {
     "iopub.execute_input": "2022-01-31T03:38:14.716521Z",
     "iopub.status.busy": "2022-01-31T03:38:14.716013Z",
     "iopub.status.idle": "2022-01-31T03:38:14.961453Z",
     "shell.execute_reply": "2022-01-31T03:38:14.959934Z",
     "shell.execute_reply.started": "2022-01-31T03:38:14.716455Z"
    },
    "papermill": {
     "duration": null,
     "end_time": null,
     "exception": null,
     "start_time": null,
     "status": "pending"
    },
    "tags": [],
    "pycharm": {
     "name": "#%%\n"
    }
   },
   "outputs": [
    {
     "name": "stdout",
     "output_type": "stream",
     "text": [
      "''\n"
     ]
    }
   ],
   "source": [
    "pprint(db_tool_upsert.check_bulk_failed_results())"
   ]
  },
  {
   "cell_type": "code",
   "execution_count": null,
   "metadata": {
    "papermill": {
     "duration": null,
     "end_time": null,
     "exception": null,
     "start_time": null,
     "status": "pending"
    },
    "tags": [],
    "pycharm": {
     "name": "#%%\n"
    }
   },
   "outputs": [],
   "source": []
  },
  {
   "cell_type": "code",
   "execution_count": 68,
   "metadata": {
    "execution": {
     "iopub.execute_input": "2022-01-31T03:38:14.965842Z",
     "iopub.status.busy": "2022-01-31T03:38:14.964639Z",
     "iopub.status.idle": "2022-01-31T03:38:14.975632Z",
     "shell.execute_reply": "2022-01-31T03:38:14.971905Z",
     "shell.execute_reply.started": "2022-01-31T03:38:14.965782Z"
    },
    "papermill": {
     "duration": null,
     "end_time": null,
     "exception": null,
     "start_time": null,
     "status": "pending"
    },
    "tags": [],
    "pycharm": {
     "name": "#%%\n"
    }
   },
   "outputs": [],
   "source": [
    "## now upload"
   ]
  },
  {
   "cell_type": "code",
   "execution_count": 69,
   "metadata": {
    "execution": {
     "iopub.execute_input": "2022-01-31T03:38:14.979332Z",
     "iopub.status.busy": "2022-01-31T03:38:14.978026Z",
     "iopub.status.idle": "2022-01-31T03:38:14.991994Z",
     "shell.execute_reply": "2022-01-31T03:38:14.988811Z",
     "shell.execute_reply.started": "2022-01-31T03:38:14.978448Z"
    },
    "papermill": {
     "duration": null,
     "end_time": null,
     "exception": null,
     "start_time": null,
     "status": "pending"
    },
    "tags": [],
    "pycharm": {
     "name": "#%%\n"
    }
   },
   "outputs": [],
   "source": [
    "db_tool_upsert.external_id = 'Name'\n",
    "db_tool_upsert.object_id = 'ToolToolClusterAssociation__c'"
   ]
  },
  {
   "cell_type": "code",
   "execution_count": 70,
   "metadata": {
    "execution": {
     "iopub.execute_input": "2022-01-31T03:38:14.994693Z",
     "iopub.status.busy": "2022-01-31T03:38:14.994110Z",
     "iopub.status.idle": "2022-01-31T03:38:16.021419Z",
     "shell.execute_reply": "2022-01-31T03:38:16.019089Z",
     "shell.execute_reply.started": "2022-01-31T03:38:14.994659Z"
    },
    "papermill": {
     "duration": null,
     "end_time": null,
     "exception": null,
     "start_time": null,
     "status": "pending"
    },
    "tags": [],
    "pycharm": {
     "name": "#%%\n"
    }
   },
   "outputs": [
    {
     "name": "stdout",
     "output_type": "stream",
     "text": [
      "[Success] Bulk job creation successful. Job ID = 7505w00000cyX30AAE\n",
      "hello\n",
      "[Success] CSV upload successful. Job ID = 7505w00000cyX30AAE\n",
      "[Success] Closing job successful. Job ID = 7505w00000cyX30AAE\n"
     ]
    }
   ],
   "source": [
    "db_tool_upsert.send_data(db_tool_upsert_up)"
   ]
  },
  {
   "cell_type": "code",
   "execution_count": 71,
   "metadata": {
    "execution": {
     "iopub.execute_input": "2022-01-31T03:38:16.024931Z",
     "iopub.status.busy": "2022-01-31T03:38:16.024069Z",
     "iopub.status.idle": "2022-01-31T03:38:16.405903Z",
     "shell.execute_reply": "2022-01-31T03:38:16.403498Z",
     "shell.execute_reply.started": "2022-01-31T03:38:16.024886Z"
    },
    "papermill": {
     "duration": null,
     "end_time": null,
     "exception": null,
     "start_time": null,
     "status": "pending"
    },
    "tags": [],
    "pycharm": {
     "name": "#%%\n"
    }
   },
   "outputs": [
    {
     "data": {
      "text/plain": [
       "{'id': '7505w00000cyX30AAE',\n",
       " 'operation': 'upsert',\n",
       " 'object': 'ToolToolClusterAssociation__c',\n",
       " 'createdById': '0055w00000DM5bOAAT',\n",
       " 'createdDate': '2022-01-31T03:38:15.000+0000',\n",
       " 'systemModstamp': '2022-01-31T03:38:16.000+0000',\n",
       " 'state': 'InProgress',\n",
       " 'externalIdFieldName': 'Name',\n",
       " 'concurrencyMode': 'Parallel',\n",
       " 'contentType': 'CSV',\n",
       " 'apiVersion': 47.0,\n",
       " 'jobType': 'V2Ingest',\n",
       " 'lineEnding': 'LF',\n",
       " 'columnDelimiter': 'COMMA',\n",
       " 'numberRecordsProcessed': 0,\n",
       " 'numberRecordsFailed': 0,\n",
       " 'retries': 0,\n",
       " 'totalProcessingTime': 0,\n",
       " 'apiActiveProcessingTime': 0,\n",
       " 'apexProcessingTime': 0}"
      ]
     },
     "execution_count": 71,
     "metadata": {},
     "output_type": "execute_result"
    }
   ],
   "source": [
    "db_tool_upsert.check_bulk_status()"
   ]
  },
  {
   "cell_type": "code",
   "execution_count": 72,
   "metadata": {
    "execution": {
     "iopub.execute_input": "2022-01-31T03:38:16.408403Z",
     "iopub.status.busy": "2022-01-31T03:38:16.407751Z",
     "iopub.status.idle": "2022-01-31T03:38:16.641907Z",
     "shell.execute_reply": "2022-01-31T03:38:16.640647Z",
     "shell.execute_reply.started": "2022-01-31T03:38:16.408358Z"
    },
    "papermill": {
     "duration": null,
     "end_time": null,
     "exception": null,
     "start_time": null,
     "status": "pending"
    },
    "tags": [],
    "pycharm": {
     "name": "#%%\n"
    }
   },
   "outputs": [
    {
     "name": "stdout",
     "output_type": "stream",
     "text": [
      "''\n"
     ]
    }
   ],
   "source": [
    "pprint(db_tool_upsert.check_bulk_failed_results())"
   ]
  },
  {
   "cell_type": "code",
   "execution_count": null,
   "metadata": {
    "papermill": {
     "duration": null,
     "end_time": null,
     "exception": null,
     "start_time": null,
     "status": "pending"
    },
    "tags": [],
    "pycharm": {
     "name": "#%%\n"
    }
   },
   "outputs": [],
   "source": []
  },
  {
   "cell_type": "markdown",
   "metadata": {
    "papermill": {
     "duration": null,
     "end_time": null,
     "exception": null,
     "start_time": null,
     "status": "pending"
    },
    "tags": [],
    "pycharm": {
     "name": "#%% md\n"
    }
   },
   "source": [
    "#### delete clustered tool cluster ids"
   ]
  },
  {
   "cell_type": "code",
   "execution_count": 73,
   "metadata": {
    "execution": {
     "iopub.execute_input": "2022-01-31T03:38:16.644947Z",
     "iopub.status.busy": "2022-01-31T03:38:16.643884Z",
     "iopub.status.idle": "2022-01-31T03:38:16.975238Z",
     "shell.execute_reply": "2022-01-31T03:38:16.972689Z",
     "shell.execute_reply.started": "2022-01-31T03:38:16.644811Z"
    },
    "papermill": {
     "duration": null,
     "end_time": null,
     "exception": null,
     "start_time": null,
     "status": "pending"
    },
    "tags": [],
    "pycharm": {
     "name": "#%%\n"
    }
   },
   "outputs": [
    {
     "name": "stdout",
     "output_type": "stream",
     "text": [
      "Obtained Salesforce access token ...... True\n"
     ]
    }
   ],
   "source": [
    "db_del = application.new_salesforce_engine()"
   ]
  },
  {
   "cell_type": "code",
   "execution_count": 74,
   "metadata": {
    "execution": {
     "iopub.execute_input": "2022-01-31T03:38:16.978651Z",
     "iopub.status.busy": "2022-01-31T03:38:16.977620Z",
     "iopub.status.idle": "2022-01-31T03:38:16.988038Z",
     "shell.execute_reply": "2022-01-31T03:38:16.986486Z",
     "shell.execute_reply.started": "2022-01-31T03:38:16.978555Z"
    },
    "papermill": {
     "duration": null,
     "end_time": null,
     "exception": null,
     "start_time": null,
     "status": "pending"
    },
    "tags": [],
    "pycharm": {
     "name": "#%%\n"
    }
   },
   "outputs": [],
   "source": [
    "db_del.object_id = 'tool_usage_cluster__c'\n",
    "db_del.external_id = 'id'"
   ]
  },
  {
   "cell_type": "code",
   "execution_count": 75,
   "metadata": {
    "execution": {
     "iopub.execute_input": "2022-01-31T03:38:16.990809Z",
     "iopub.status.busy": "2022-01-31T03:38:16.990181Z",
     "iopub.status.idle": "2022-01-31T03:38:17.963865Z",
     "shell.execute_reply": "2022-01-31T03:38:17.960727Z",
     "shell.execute_reply.started": "2022-01-31T03:38:16.990699Z"
    },
    "papermill": {
     "duration": null,
     "end_time": null,
     "exception": null,
     "start_time": null,
     "status": "pending"
    },
    "tags": [],
    "pycharm": {
     "name": "#%%\n"
    }
   },
   "outputs": [
    {
     "name": "stdout",
     "output_type": "stream",
     "text": [
      "[Success] Bulk job creation successful. Job ID = 7505w00000cyX35AAE\n",
      "hello\n",
      "[Success] CSV upload successful. Job ID = 7505w00000cyX35AAE\n",
      "[Success] Closing job successful. Job ID = 7505w00000cyX35AAE\n"
     ]
    }
   ],
   "source": [
    "db_del.delete_data(deletion_df)"
   ]
  },
  {
   "cell_type": "code",
   "execution_count": 76,
   "metadata": {
    "execution": {
     "iopub.execute_input": "2022-01-31T03:38:17.968831Z",
     "iopub.status.busy": "2022-01-31T03:38:17.967470Z",
     "iopub.status.idle": "2022-01-31T03:38:17.992286Z",
     "shell.execute_reply": "2022-01-31T03:38:17.990605Z",
     "shell.execute_reply.started": "2022-01-31T03:38:17.968759Z"
    },
    "papermill": {
     "duration": null,
     "end_time": null,
     "exception": null,
     "start_time": null,
     "status": "pending"
    },
    "tags": [],
    "pycharm": {
     "name": "#%%\n"
    }
   },
   "outputs": [
    {
     "data": {
      "text/html": [
       "<div>\n",
       "<style scoped>\n",
       "    .dataframe tbody tr th:only-of-type {\n",
       "        vertical-align: middle;\n",
       "    }\n",
       "\n",
       "    .dataframe tbody tr th {\n",
       "        vertical-align: top;\n",
       "    }\n",
       "\n",
       "    .dataframe thead th {\n",
       "        text-align: right;\n",
       "    }\n",
       "</style>\n",
       "<table border=\"1\" class=\"dataframe\">\n",
       "  <thead>\n",
       "    <tr style=\"text-align: right;\">\n",
       "      <th></th>\n",
       "      <th>Id</th>\n",
       "    </tr>\n",
       "  </thead>\n",
       "  <tbody>\n",
       "    <tr>\n",
       "      <th>0</th>\n",
       "      <td>a0w5w00000A8WKZAA3</td>\n",
       "    </tr>\n",
       "    <tr>\n",
       "      <th>1</th>\n",
       "      <td>a0w5w00000A8OJTAA3</td>\n",
       "    </tr>\n",
       "  </tbody>\n",
       "</table>\n",
       "</div>"
      ],
      "text/plain": [
       "                   Id\n",
       "0  a0w5w00000A8WKZAA3\n",
       "1  a0w5w00000A8OJTAA3"
      ]
     },
     "metadata": {},
     "output_type": "display_data"
    }
   ],
   "source": [
    "display(deletion_df.head(2))"
   ]
  },
  {
   "cell_type": "code",
   "execution_count": 77,
   "metadata": {
    "execution": {
     "iopub.execute_input": "2022-01-31T03:38:17.996709Z",
     "iopub.status.busy": "2022-01-31T03:38:17.994947Z",
     "iopub.status.idle": "2022-01-31T03:38:18.457743Z",
     "shell.execute_reply": "2022-01-31T03:38:18.456415Z",
     "shell.execute_reply.started": "2022-01-31T03:38:17.996640Z"
    },
    "papermill": {
     "duration": null,
     "end_time": null,
     "exception": null,
     "start_time": null,
     "status": "pending"
    },
    "tags": [],
    "pycharm": {
     "name": "#%%\n"
    }
   },
   "outputs": [
    {
     "data": {
      "text/plain": [
       "{'id': '7505w00000cyX35AAE',\n",
       " 'operation': 'delete',\n",
       " 'object': 'tool_usage_cluster__c',\n",
       " 'createdById': '0055w00000DM5bOAAT',\n",
       " 'createdDate': '2022-01-31T03:38:17.000+0000',\n",
       " 'systemModstamp': '2022-01-31T03:38:17.000+0000',\n",
       " 'state': 'InProgress',\n",
       " 'concurrencyMode': 'Parallel',\n",
       " 'contentType': 'CSV',\n",
       " 'apiVersion': 47.0,\n",
       " 'jobType': 'V2Ingest',\n",
       " 'lineEnding': 'LF',\n",
       " 'columnDelimiter': 'COMMA',\n",
       " 'numberRecordsProcessed': 0,\n",
       " 'numberRecordsFailed': 0,\n",
       " 'retries': 0,\n",
       " 'totalProcessingTime': 0,\n",
       " 'apiActiveProcessingTime': 0,\n",
       " 'apexProcessingTime': 0}"
      ]
     },
     "execution_count": 77,
     "metadata": {},
     "output_type": "execute_result"
    }
   ],
   "source": [
    "db_del.check_bulk_status()"
   ]
  },
  {
   "cell_type": "code",
   "execution_count": 78,
   "metadata": {
    "execution": {
     "iopub.execute_input": "2022-01-31T03:38:18.460045Z",
     "iopub.status.busy": "2022-01-31T03:38:18.459427Z",
     "iopub.status.idle": "2022-01-31T03:38:18.693945Z",
     "shell.execute_reply": "2022-01-31T03:38:18.691517Z",
     "shell.execute_reply.started": "2022-01-31T03:38:18.460002Z"
    },
    "papermill": {
     "duration": null,
     "end_time": null,
     "exception": null,
     "start_time": null,
     "status": "pending"
    },
    "tags": [],
    "pycharm": {
     "name": "#%%\n"
    }
   },
   "outputs": [
    {
     "name": "stdout",
     "output_type": "stream",
     "text": [
      "''\n"
     ]
    }
   ],
   "source": [
    "pprint(db_del.check_bulk_failed_results())"
   ]
  },
  {
   "cell_type": "code",
   "execution_count": null,
   "metadata": {
    "papermill": {
     "duration": null,
     "end_time": null,
     "exception": null,
     "start_time": null,
     "status": "pending"
    },
    "tags": [],
    "pycharm": {
     "name": "#%%\n"
    }
   },
   "outputs": [],
   "source": []
  },
  {
   "cell_type": "code",
   "execution_count": 79,
   "metadata": {
    "execution": {
     "iopub.execute_input": "2022-01-31T03:38:18.697748Z",
     "iopub.status.busy": "2022-01-31T03:38:18.696045Z",
     "iopub.status.idle": "2022-01-31T03:38:18.703257Z",
     "shell.execute_reply": "2022-01-31T03:38:18.701817Z",
     "shell.execute_reply.started": "2022-01-31T03:38:18.697699Z"
    },
    "papermill": {
     "duration": null,
     "end_time": null,
     "exception": null,
     "start_time": null,
     "status": "pending"
    },
    "tags": [],
    "pycharm": {
     "name": "#%%\n"
    }
   },
   "outputs": [],
   "source": [
    "### eventually, want to update DB2 with this information\n"
   ]
  },
  {
   "cell_type": "code",
   "execution_count": null,
   "metadata": {
    "papermill": {
     "duration": null,
     "end_time": null,
     "exception": null,
     "start_time": null,
     "status": "pending"
    },
    "tags": [],
    "pycharm": {
     "name": "#%%\n"
    }
   },
   "outputs": [],
   "source": []
  },
  {
   "cell_type": "code",
   "execution_count": null,
   "metadata": {
    "papermill": {
     "duration": null,
     "end_time": null,
     "exception": null,
     "start_time": null,
     "status": "pending"
    },
    "tags": [],
    "pycharm": {
     "name": "#%%\n"
    }
   },
   "outputs": [],
   "source": []
  },
  {
   "cell_type": "code",
   "execution_count": null,
   "metadata": {
    "papermill": {
     "duration": null,
     "end_time": null,
     "exception": null,
     "start_time": null,
     "status": "pending"
    },
    "tags": [],
    "pycharm": {
     "name": "#%%\n"
    }
   },
   "outputs": [],
   "source": []
  },
  {
   "cell_type": "code",
   "execution_count": null,
   "metadata": {
    "papermill": {
     "duration": null,
     "end_time": null,
     "exception": null,
     "start_time": null,
     "status": "pending"
    },
    "tags": [],
    "pycharm": {
     "name": "#%%\n"
    }
   },
   "outputs": [],
   "source": []
  }
 ],
 "metadata": {
  "kernelspec": {
   "display_name": "Python 3 (ipykernel)",
   "language": "python",
   "name": "python3"
  },
  "language_info": {
   "codemirror_mode": {
    "name": "ipython",
    "version": 3
   },
   "file_extension": ".py",
   "mimetype": "text/x-python",
   "name": "python",
   "nbconvert_exporter": "python",
   "pygments_lexer": "ipython3",
   "version": "3.8.10"
  },
  "papermill": {
   "duration": 132.172203,
   "end_time": "2021-01-21T17:13:53.164310",
   "environment_variables": {},
   "exception": true,
   "input_path": "/home/users/wang2506/nanohub_salesforce_integ/salesforce/SF_filter_clusters.ipynb",
   "output_path": "/home/users/wang2506/nanohub_salesforce_integ/salesforce/SF_filter_clusters.ipynb",
   "parameters": {},
   "start_time": "2021-01-21T17:11:40.992107",
   "version": "2.1.1"
  }
 },
 "nbformat": 4,
 "nbformat_minor": 4
}