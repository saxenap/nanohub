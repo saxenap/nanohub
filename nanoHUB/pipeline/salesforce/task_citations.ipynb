{
 "cells": [
  {
   "cell_type": "markdown",
   "metadata": {
    "papermill": {
     "duration": 0.010872,
     "end_time": "2021-01-21T06:30:34.666344",
     "exception": false,
     "start_time": "2021-01-21T06:30:34.655472",
     "status": "completed"
    },
    "tags": []
   },
   "source": [
    "# DB2-Salesforce connector: Citation information updates"
   ]
  },
  {
   "cell_type": "code",
   "execution_count": 20,
   "metadata": {
    "execution": {
     "iopub.execute_input": "2021-01-21T06:30:34.689900Z",
     "iopub.status.busy": "2021-01-21T06:30:34.689322Z",
     "iopub.status.idle": "2021-01-21T06:30:34.694058Z",
     "shell.execute_reply": "2021-01-21T06:30:34.693330Z"
    },
    "papermill": {
     "duration": 0.017949,
     "end_time": "2021-01-21T06:30:34.694200",
     "exception": false,
     "start_time": "2021-01-21T06:30:34.676251",
     "status": "completed"
    },
    "tags": [
     "parameters"
    ]
   },
   "outputs": [],
   "source": [
    "# API settings\n",
    "api_url = '/services/data/v43.0/sobjects'\n",
    "external_id = 'Record_ID__c'\n",
    "object_id = 'nanoHUB_citations__c'\n",
    "\n",
    "# login parameters to be handled by Papermill\n",
    "# login credentials\n",
    "\n",
    "\n",
    "\n",
    "    #\"username\": \"wang159-4j1v@force.com\",\n",
    "    #\"password\": \"napoleon0eZ3PQpQqE3C3z4wWqEqKGhQ8\","
   ]
  },
  {
   "cell_type": "code",
   "execution_count": 21,
   "metadata": {
    "execution": {
     "iopub.execute_input": "2021-01-21T06:30:34.727564Z",
     "iopub.status.busy": "2021-01-21T06:30:34.726971Z",
     "iopub.status.idle": "2021-01-21T06:30:40.331415Z",
     "shell.execute_reply": "2021-01-21T06:30:40.330934Z"
    },
    "papermill": {
     "duration": 5.62901,
     "end_time": "2021-01-21T06:30:40.331550",
     "exception": false,
     "start_time": "2021-01-21T06:30:34.702540",
     "status": "completed"
    },
    "tags": []
   },
   "outputs": [],
   "source": [
    "import sys\n",
    "import os\n",
    "sys.path.append('/home/users/wang2506/nanohub_salesforce_integ/salesforce')\n",
    "    \n",
    "import pandas as pd\n",
    "import datetime"
   ]
  },
  {
   "cell_type": "markdown",
   "metadata": {
    "papermill": {
     "duration": 0.051121,
     "end_time": "2021-01-21T06:30:40.390932",
     "exception": false,
     "start_time": "2021-01-21T06:30:40.339811",
     "status": "completed"
    },
    "tags": []
   },
   "source": [
    "## Obtain tool information from DB2 "
   ]
  },
  {
   "cell_type": "code",
   "execution_count": 22,
   "metadata": {
    "execution": {
     "iopub.execute_input": "2021-01-21T06:30:40.477131Z",
     "iopub.status.busy": "2021-01-21T06:30:40.476049Z",
     "iopub.status.idle": "2021-01-21T06:30:40.478435Z",
     "shell.execute_reply": "2021-01-21T06:30:40.476595Z"
    },
    "papermill": {
     "duration": 0.079462,
     "end_time": "2021-01-21T06:30:40.478562",
     "exception": false,
     "start_time": "2021-01-21T06:30:40.399100",
     "status": "completed"
    },
    "scrolled": true,
    "tags": []
   },
   "outputs": [
    {
     "name": "stdout",
     "output_type": "stream",
     "text": [
      "select *, c.id as c_id from jos_citations as c             left join jos_citations_types as t             on c.type = t.id             where uid=2143\n"
     ]
    }
   ],
   "source": [
    "# Basic tool information\n",
    "sql_query = \"select *, c.id as c_id from jos_citations as c \\\n",
    "            left join jos_citations_types as t \\\n",
    "            on c.type = t.id \\\n",
    "            where uid=2143\"\n",
    "\n",
    "# display\n",
    "print(sql_query)"
   ]
  },
  {
   "cell_type": "code",
   "execution_count": 23,
   "metadata": {
    "execution": {
     "iopub.execute_input": "2021-01-21T06:30:40.590599Z",
     "iopub.status.busy": "2021-01-21T06:30:40.589988Z",
     "iopub.status.idle": "2021-01-21T06:30:43.441112Z",
     "shell.execute_reply": "2021-01-21T06:30:43.463813Z"
    },
    "papermill": {
     "duration": 2.932271,
     "end_time": "2021-01-21T06:30:43.463988",
     "exception": false,
     "start_time": "2021-01-21T06:30:40.531717",
     "status": "completed"
    },
    "tags": []
   },
   "outputs": [
    {
     "name": "stdout",
     "output_type": "stream",
     "text": [
      "dsds\n",
      "2021-06-11 08:14:34,447 - [INFO] nanoHUB.core_containers [connection.get_connection_for:71]: Started SSH Tunnel with db2.nanohub.org\n",
      "2021-06-11 08:14:34,474 - [DEBUG] paramiko.transport [transport._log:1819]: starting thread (client mode): 0x10061580\n",
      "2021-06-11 08:14:34,475 - [DEBUG] paramiko.transport [transport._log:1819]: Local version/idstring: SSH-2.0-paramiko_2.7.2\n",
      "2021-06-11 08:14:34,506 - [DEBUG] paramiko.transport [transport._log:1819]: Remote version/idstring: SSH-2.0-OpenSSH_7.4\n",
      "2021-06-11 08:14:34,507 - [INFO] paramiko.transport [transport._log:1819]: Connected (version 2.0, client OpenSSH_7.4)\n",
      "2021-06-11 08:14:34,532 - [DEBUG] paramiko.transport [transport._log:1819]: kex algos:['curve25519-sha256', 'curve25519-sha256@libssh.org', 'ecdh-sha2-nistp256', 'ecdh-sha2-nistp384', 'ecdh-sha2-nistp521', 'diffie-hellman-group-exchange-sha256', 'diffie-hellman-group16-sha512', 'diffie-hellman-group18-sha512', 'diffie-hellman-group-exchange-sha1', 'diffie-hellman-group14-sha256', 'diffie-hellman-group14-sha1', 'diffie-hellman-group1-sha1'] server key:['ssh-rsa', 'rsa-sha2-512', 'rsa-sha2-256'] client encrypt:['aes256-ctr', 'aes192-ctr', 'aes128-ctr'] server encrypt:['aes256-ctr', 'aes192-ctr', 'aes128-ctr'] client mac:['hmac-sha2-512', 'hmac-sha2-256'] server mac:['hmac-sha2-512', 'hmac-sha2-256'] client compress:['none', 'zlib@openssh.com'] server compress:['none', 'zlib@openssh.com'] client lang:[''] server lang:[''] kex follows?False\n",
      "2021-06-11 08:14:34,532 - [DEBUG] paramiko.transport [transport._log:1819]: Kex agreed: curve25519-sha256@libssh.org\n",
      "2021-06-11 08:14:34,533 - [DEBUG] paramiko.transport [transport._log:1819]: HostKey agreed: ssh-rsa\n",
      "2021-06-11 08:14:34,534 - [DEBUG] paramiko.transport [transport._log:1819]: Cipher agreed: aes128-ctr\n",
      "2021-06-11 08:14:34,535 - [DEBUG] paramiko.transport [transport._log:1819]: MAC agreed: hmac-sha2-256\n",
      "2021-06-11 08:14:34,535 - [DEBUG] paramiko.transport [transport._log:1819]: Compression agreed: none\n",
      "2021-06-11 08:14:34,604 - [DEBUG] paramiko.transport [transport._log:1819]: kex engine KexCurve25519 specified hash_algo <built-in function openssl_sha256>\n",
      "2021-06-11 08:14:34,605 - [DEBUG] paramiko.transport [transport._log:1819]: Switch to new keys ...\n",
      "2021-06-11 08:14:34,607 - [DEBUG] paramiko.transport [transport._log:1819]: Attempting password auth...\n",
      "2021-06-11 08:14:34,694 - [DEBUG] paramiko.transport [transport._log:1819]: userauth is OK\n",
      "2021-06-11 08:14:34,742 - [INFO] paramiko.transport [transport._log:1819]: Authentication (password) successful!\n",
      "2021-06-11 08:14:34,746 - [DEBUG] paramiko.transport [channel._log:1212]: [chan 0] Max packet in: 32768 bytes\n",
      "2021-06-11 08:14:34,768 - [DEBUG] paramiko.transport [transport._log:1819]: Received global request \"hostkeys-00@openssh.com\"\n",
      "2021-06-11 08:14:34,769 - [DEBUG] paramiko.transport [transport._log:1819]: Rejecting \"hostkeys-00@openssh.com\" global request from server.\n",
      "2021-06-11 08:14:34,791 - [DEBUG] paramiko.transport [channel._log:1212]: [chan 0] Max packet out: 32768 bytes\n",
      "2021-06-11 08:14:34,792 - [DEBUG] paramiko.transport [transport._log:1819]: Secsh channel 0 opened.\n",
      "2021-06-11 08:14:34,849 - [DEBUG] paramiko.transport [channel._log:1212]: [chan 0] EOF sent (0)\n",
      "2021-06-11 08:14:34,876 - [DEBUG] paramiko.transport [channel._log:1212]: [chan 0] EOF received (0)\n"
     ]
    }
   ],
   "source": [
    "# connect with DB2\n",
    "import sqlalchemy as sql\n",
    "from nanoHUB.helpers import ConnectionFactory\n",
    "\n",
    "nanohub_db = ConnectionFactory().new_for_db('nanohub')\n",
    "\n",
    "df = pd.read_sql_query(sql_query, nanohub_db)"
   ]
  },
  {
   "cell_type": "code",
   "execution_count": 24,
   "metadata": {
    "execution": {
     "iopub.execute_input": "2021-01-21T06:30:43.530503Z",
     "iopub.status.busy": "2021-01-21T06:30:43.529870Z",
     "iopub.status.idle": "2021-01-21T06:30:43.685347Z",
     "shell.execute_reply": "2021-01-21T06:30:43.684612Z"
    },
    "papermill": {
     "duration": 0.212877,
     "end_time": "2021-01-21T06:30:43.685502",
     "exception": false,
     "start_time": "2021-01-21T06:30:43.472625",
     "status": "completed"
    },
    "tags": []
   },
   "outputs": [],
   "source": [
    "# convert and clean some columns, so we can, for example, sort values\n",
    "df['date_publish'] = pd.to_datetime(df['date_publish'], errors='coerce') \n",
    "df['created'] = pd.to_datetime(df['created'], errors='coerce') \n",
    "df['date_submit'] = pd.to_datetime(df['date_submit'], errors='coerce') \n",
    "df['date_accept'] = pd.to_datetime(df['date_accept'], errors='coerce') "
   ]
  },
  {
   "cell_type": "code",
   "execution_count": 25,
   "metadata": {
    "execution": {
     "iopub.execute_input": "2021-01-21T06:30:43.776481Z",
     "iopub.status.busy": "2021-01-21T06:30:43.775908Z",
     "iopub.status.idle": "2021-01-21T06:30:43.835006Z",
     "shell.execute_reply": "2021-01-21T06:30:43.834384Z"
    },
    "papermill": {
     "duration": 0.141029,
     "end_time": "2021-01-21T06:30:43.835134",
     "exception": false,
     "start_time": "2021-01-21T06:30:43.694105",
     "status": "completed"
    },
    "tags": []
   },
   "outputs": [
    {
     "data": {
      "text/plain": "     id   uid  affiliated  fundedby created address  \\\n0  1816  2143           0        -1     NaT           \n\n                                              author booktitle chapter  \\\n0  Demetrio Logoteta{{82529}};Gianluca Fiori{{981...                     \n\n                   cite  ... custom2 custom3 custom4  \\\n0  logoteta2014graphene  ...    None    None    None   \n\n                                             pdf_url id     type type_title  \\\n0  https://nanohub.org/nanoHUBCitations/citmanage...  2  journal    Journal   \n\n  type_desc type_export  c_id  \n0      None        None  1816  \n\n[1 rows x 68 columns]",
      "text/html": "<div>\n<style scoped>\n    .dataframe tbody tr th:only-of-type {\n        vertical-align: middle;\n    }\n\n    .dataframe tbody tr th {\n        vertical-align: top;\n    }\n\n    .dataframe thead th {\n        text-align: right;\n    }\n</style>\n<table border=\"1\" class=\"dataframe\">\n  <thead>\n    <tr style=\"text-align: right;\">\n      <th></th>\n      <th>id</th>\n      <th>uid</th>\n      <th>affiliated</th>\n      <th>fundedby</th>\n      <th>created</th>\n      <th>address</th>\n      <th>author</th>\n      <th>booktitle</th>\n      <th>chapter</th>\n      <th>cite</th>\n      <th>...</th>\n      <th>custom2</th>\n      <th>custom3</th>\n      <th>custom4</th>\n      <th>pdf_url</th>\n      <th>id</th>\n      <th>type</th>\n      <th>type_title</th>\n      <th>type_desc</th>\n      <th>type_export</th>\n      <th>c_id</th>\n    </tr>\n  </thead>\n  <tbody>\n    <tr>\n      <th>0</th>\n      <td>1816</td>\n      <td>2143</td>\n      <td>0</td>\n      <td>-1</td>\n      <td>NaT</td>\n      <td></td>\n      <td>Demetrio Logoteta{{82529}};Gianluca Fiori{{981...</td>\n      <td></td>\n      <td></td>\n      <td>logoteta2014graphene</td>\n      <td>...</td>\n      <td>None</td>\n      <td>None</td>\n      <td>None</td>\n      <td>https://nanohub.org/nanoHUBCitations/citmanage...</td>\n      <td>2</td>\n      <td>journal</td>\n      <td>Journal</td>\n      <td>None</td>\n      <td>None</td>\n      <td>1816</td>\n    </tr>\n  </tbody>\n</table>\n<p>1 rows × 68 columns</p>\n</div>"
     },
     "metadata": {},
     "output_type": "display_data"
    },
    {
     "data": {
      "text/plain": "'size=(2507, 68)'"
     },
     "metadata": {},
     "output_type": "display_data"
    }
   ],
   "source": [
    "# display\n",
    "display(df.head(1))\n",
    "display('size='+str(df.shape))"
   ]
  },
  {
   "cell_type": "markdown",
   "metadata": {
    "papermill": {
     "duration": 0.031494,
     "end_time": "2021-01-21T06:30:43.875904",
     "exception": false,
     "start_time": "2021-01-21T06:30:43.844410",
     "status": "completed"
    },
    "tags": []
   },
   "source": [
    "## Match data with Salesforce format"
   ]
  },
  {
   "cell_type": "code",
   "execution_count": 26,
   "metadata": {
    "execution": {
     "iopub.execute_input": "2021-01-21T06:30:43.963631Z",
     "iopub.status.busy": "2021-01-21T06:30:43.963055Z",
     "iopub.status.idle": "2021-01-21T06:30:44.060687Z",
     "shell.execute_reply": "2021-01-21T06:30:44.059620Z"
    },
    "papermill": {
     "duration": 0.162962,
     "end_time": "2021-01-21T06:30:44.060819",
     "exception": false,
     "start_time": "2021-01-21T06:30:43.897857",
     "status": "completed"
    },
    "tags": []
   },
   "outputs": [
    {
     "data": {
      "text/plain": "                                                                   0  \\\nRecord_ID__c                                                    1816   \nURL__c             http://scholar.google.com/scholar?hl=en&q=http...   \nNCN_Affiliated__c                                                  0   \nAuthor_List__c     Demetrio Logoteta{{82529}};Gianluca Fiori{{981...   \nJournal__c                                        Scientific Reports   \nYear__c                                                         2014   \nType__c                                                            R   \nNotes__c                                                               \nName               Graphene-based Lateral Heterostructure Transis...   \nFull_title__c      Graphene-based Lateral Heterostructure Transis...   \nFormat__c                                                    Journal   \n\n                                                                   1  \nRecord_ID__c                                                     330  \nURL__c             http://papers.ssrn.com/sol3/papers.cfm?abstrac...  \nNCN_Affiliated__c                                                  0  \nAuthor_List__c              Shiferaw Gurmu;Grant Black;Paula Stephan  \nJournal__c                                          Economic Inquiry  \nYear__c                                                         2007  \nType__c                                                            R  \nNotes__c           URL link for doc is broken. I replaced with vi...  \nName               The Knowledge Production Function for Universi...  \nFull_title__c      The Knowledge Production Function for Universi...  \nFormat__c                                                   Preprint  ",
      "text/html": "<div>\n<style scoped>\n    .dataframe tbody tr th:only-of-type {\n        vertical-align: middle;\n    }\n\n    .dataframe tbody tr th {\n        vertical-align: top;\n    }\n\n    .dataframe thead th {\n        text-align: right;\n    }\n</style>\n<table border=\"1\" class=\"dataframe\">\n  <thead>\n    <tr style=\"text-align: right;\">\n      <th></th>\n      <th>0</th>\n      <th>1</th>\n    </tr>\n  </thead>\n  <tbody>\n    <tr>\n      <th>Record_ID__c</th>\n      <td>1816</td>\n      <td>330</td>\n    </tr>\n    <tr>\n      <th>URL__c</th>\n      <td>http://scholar.google.com/scholar?hl=en&amp;q=http...</td>\n      <td>http://papers.ssrn.com/sol3/papers.cfm?abstrac...</td>\n    </tr>\n    <tr>\n      <th>NCN_Affiliated__c</th>\n      <td>0</td>\n      <td>0</td>\n    </tr>\n    <tr>\n      <th>Author_List__c</th>\n      <td>Demetrio Logoteta{{82529}};Gianluca Fiori{{981...</td>\n      <td>Shiferaw Gurmu;Grant Black;Paula Stephan</td>\n    </tr>\n    <tr>\n      <th>Journal__c</th>\n      <td>Scientific Reports</td>\n      <td>Economic Inquiry</td>\n    </tr>\n    <tr>\n      <th>Year__c</th>\n      <td>2014</td>\n      <td>2007</td>\n    </tr>\n    <tr>\n      <th>Type__c</th>\n      <td>R</td>\n      <td>R</td>\n    </tr>\n    <tr>\n      <th>Notes__c</th>\n      <td></td>\n      <td>URL link for doc is broken. I replaced with vi...</td>\n    </tr>\n    <tr>\n      <th>Name</th>\n      <td>Graphene-based Lateral Heterostructure Transis...</td>\n      <td>The Knowledge Production Function for Universi...</td>\n    </tr>\n    <tr>\n      <th>Full_title__c</th>\n      <td>Graphene-based Lateral Heterostructure Transis...</td>\n      <td>The Knowledge Production Function for Universi...</td>\n    </tr>\n    <tr>\n      <th>Format__c</th>\n      <td>Journal</td>\n      <td>Preprint</td>\n    </tr>\n  </tbody>\n</table>\n</div>"
     },
     "execution_count": 26,
     "metadata": {},
     "output_type": "execute_result"
    }
   ],
   "source": [
    "df_sf = pd.DataFrame()\n",
    "\n",
    "# Make sure NaN and NaT values are taken care of here\n",
    "\n",
    "df_sf['Record_ID__c']      = df['c_id']\n",
    "df_sf['URL__c']            = df['url']\n",
    "df_sf['NCN_Affiliated__c'] = df['affiliated'].apply(lambda x: 1 if x==1 else 0)\n",
    "df_sf['Author_List__c']    = df['author']\n",
    "df_sf['Journal__c']        = df['journal']\n",
    "df_sf['Year__c']           = df['year']\n",
    "df_sf['Type__c']           = df['ref_type']\n",
    "df_sf['Notes__c']          = df['notes']\n",
    "df_sf['Name']              = df['title'].apply(lambda x: x[:70])\n",
    "df_sf['Full_title__c']     = df['title']\n",
    "df_sf['Format__c']         = df['type_title']\n",
    "\n",
    "sf_original_fields = df_sf.columns\n",
    "\n",
    "# display\n",
    "df_sf.head(2).T"
   ]
  },
  {
   "cell_type": "markdown",
   "metadata": {
    "papermill": {
     "duration": 0.03106,
     "end_time": "2021-01-21T06:30:44.113964",
     "exception": false,
     "start_time": "2021-01-21T06:30:44.082904",
     "status": "completed"
    },
    "tags": []
   },
   "source": [
    "## To Salesforce Sales Cloud CRM"
   ]
  },
  {
   "cell_type": "code",
   "execution_count": 27,
   "metadata": {
    "execution": {
     "iopub.execute_input": "2021-01-21T06:30:44.196587Z",
     "iopub.status.busy": "2021-01-21T06:30:44.196019Z",
     "iopub.status.idle": "2021-01-21T06:30:44.720953Z",
     "shell.execute_reply": "2021-01-21T06:30:44.719815Z"
    },
    "papermill": {
     "duration": 0.597212,
     "end_time": "2021-01-21T06:30:44.721083",
     "exception": false,
     "start_time": "2021-01-21T06:30:44.123871",
     "status": "completed"
    },
    "tags": []
   },
   "outputs": [
    {
     "name": "stdout",
     "output_type": "stream",
     "text": [
      "2021-06-11 08:14:35,468 - [DEBUG] urllib3.connectionpool [connectionpool._new_conn:971]: Starting new HTTPS connection (1): login.salesforce.com:443\n",
      "2021-06-11 08:14:35,797 - [DEBUG] urllib3.connectionpool [connectionpool._make_request:452]: https://login.salesforce.com:443 \"POST /services/oauth2/token?grant_type=password&client_id=3MVG95jctIhbyCppj0SNJ75IsZ1y8UPGZtSNF4j8FNVXz.De8Lu4jHm3rjRosAtsHy6qjHx3i4S_QbQzvBePG&client_secret=D1623C6D3607D4FC8004B92C761DFB6C1F70CCD129C5501E357028DFA00F5764&username=wang2506%40purdue.edu&password=npass2021HDfJLhBGDx11xWCKlEbHQKhF HTTP/1.1\" 200 None\n",
      "Obtained Salesforce access token ...... True\n"
     ]
    }
   ],
   "source": [
    "salesforce = ConnectionFactory().new_for_salesforce()\n",
    "db_s = salesforce\n",
    "# create DB2 to Salesforce API object\n",
    "\n",
    "# specify Salesforce object ID and external ID\n",
    "db_s.object_id = object_id\n",
    "db_s.external_id = external_id"
   ]
  },
  {
   "cell_type": "code",
   "execution_count": 28,
   "metadata": {
    "execution": {
     "iopub.execute_input": "2021-01-21T06:30:44.791672Z",
     "iopub.status.busy": "2021-01-21T06:30:44.791121Z",
     "iopub.status.idle": "2021-01-21T06:30:45.864338Z",
     "shell.execute_reply": "2021-01-21T06:30:45.863866Z"
    },
    "papermill": {
     "duration": 1.115775,
     "end_time": "2021-01-21T06:30:45.864471",
     "exception": false,
     "start_time": "2021-01-21T06:30:44.748696",
     "status": "completed"
    },
    "tags": []
   },
   "outputs": [
    {
     "name": "stdout",
     "output_type": "stream",
     "text": [
      "2021-06-11 08:14:35,916 - [DEBUG] urllib3.connectionpool [connectionpool._new_conn:971]: Starting new HTTPS connection (1): na172.salesforce.com:443\n",
      "2021-06-11 08:14:36,214 - [DEBUG] urllib3.connectionpool [connectionpool._make_request:452]: https://na172.salesforce.com:443 \"POST /services/data/v47.0/jobs/ingest/ HTTP/1.1\" 200 None\n",
      "[Success] Bulk job creation successful. Job ID = 7505w00000Ww38WAAR\n",
      "hello\n",
      "2021-06-11 08:14:36,249 - [DEBUG] urllib3.connectionpool [connectionpool._new_conn:971]: Starting new HTTPS connection (1): na172.salesforce.com:443\n",
      "2021-06-11 08:14:38,784 - [DEBUG] urllib3.connectionpool [connectionpool._make_request:452]: https://na172.salesforce.com:443 \"PUT /services/data/v47.0/jobs/ingest/7505w00000Ww38WAAR/batches/ HTTP/1.1\" 201 None\n",
      "[Success] CSV upload successful. Job ID = 7505w00000Ww38WAAR\n",
      "2021-06-11 08:14:38,790 - [DEBUG] urllib3.connectionpool [connectionpool._new_conn:971]: Starting new HTTPS connection (1): na172.salesforce.com:443\n",
      "2021-06-11 08:14:39,039 - [DEBUG] urllib3.connectionpool [connectionpool._make_request:452]: https://na172.salesforce.com:443 \"PATCH /services/data/v47.0/jobs/ingest/7505w00000Ww38WAAR HTTP/1.1\" 200 None\n",
      "[Success] Closing job successful. Job ID = 7505w00000Ww38WAAR\n"
     ]
    }
   ],
   "source": [
    "# send data to Salesforce\n",
    "db_s.send_data(df_sf)"
   ]
  },
  {
   "cell_type": "code",
   "execution_count": 29,
   "metadata": {
    "execution": {
     "iopub.execute_input": "2021-01-21T06:30:45.913523Z",
     "iopub.status.busy": "2021-01-21T06:30:45.912805Z",
     "iopub.status.idle": "2021-01-21T06:30:46.157717Z",
     "shell.execute_reply": "2021-01-21T06:30:46.158115Z"
    },
    "papermill": {
     "duration": 0.261041,
     "end_time": "2021-01-21T06:30:46.158293",
     "exception": false,
     "start_time": "2021-01-21T06:30:45.897252",
     "status": "completed"
    },
    "tags": []
   },
   "outputs": [
    {
     "name": "stdout",
     "output_type": "stream",
     "text": [
      "2021-06-11 08:14:39,049 - [DEBUG] urllib3.connectionpool [connectionpool._new_conn:971]: Starting new HTTPS connection (1): na172.salesforce.com:443\n",
      "2021-06-11 08:14:39,417 - [DEBUG] urllib3.connectionpool [connectionpool._make_request:452]: https://na172.salesforce.com:443 \"GET /services/data/v47.0/jobs/ingest/7505w00000Ww38WAAR HTTP/1.1\" 200 None\n"
     ]
    },
    {
     "data": {
      "text/plain": "{'id': '7505w00000Ww38WAAR',\n 'operation': 'upsert',\n 'object': 'nanoHUB_citations__c',\n 'createdById': '0055w00000DM5bOAAT',\n 'createdDate': '2021-06-11T12:14:36.000+0000',\n 'systemModstamp': '2021-06-11T12:14:39.000+0000',\n 'state': 'InProgress',\n 'externalIdFieldName': 'Record_ID__c',\n 'concurrencyMode': 'Parallel',\n 'contentType': 'CSV',\n 'apiVersion': 47.0,\n 'jobType': 'V2Ingest',\n 'lineEnding': 'LF',\n 'columnDelimiter': 'COMMA',\n 'numberRecordsProcessed': 0,\n 'numberRecordsFailed': 0,\n 'retries': 0,\n 'totalProcessingTime': 0,\n 'apiActiveProcessingTime': 0,\n 'apexProcessingTime': 0}"
     },
     "execution_count": 29,
     "metadata": {},
     "output_type": "execute_result"
    }
   ],
   "source": [
    "# check status\n",
    "db_s.check_bulk_status()"
   ]
  },
  {
   "cell_type": "code",
   "execution_count": 30,
   "metadata": {
    "execution": {
     "iopub.execute_input": "2021-01-21T06:30:46.240577Z",
     "iopub.status.busy": "2021-01-21T06:30:46.239993Z",
     "iopub.status.idle": "2021-01-21T06:30:46.437073Z",
     "shell.execute_reply": "2021-01-21T06:30:46.426533Z"
    },
    "papermill": {
     "duration": 0.256352,
     "end_time": "2021-01-21T06:30:46.437231",
     "exception": false,
     "start_time": "2021-01-21T06:30:46.180879",
     "status": "completed"
    },
    "tags": []
   },
   "outputs": [
    {
     "name": "stdout",
     "output_type": "stream",
     "text": [
      "2021-06-11 08:14:39,430 - [DEBUG] urllib3.connectionpool [connectionpool._new_conn:971]: Starting new HTTPS connection (1): na172.salesforce.com:443\n",
      "2021-06-11 08:14:39,642 - [DEBUG] urllib3.connectionpool [connectionpool._make_request:452]: https://na172.salesforce.com:443 \"GET /services/data/v47.0/jobs/ingest/7505w00000Ww38WAAR/failedResults/ HTTP/1.1\" 204 0\n",
      "''\n"
     ]
    }
   ],
   "source": [
    "from pprint import pprint\n",
    "pprint(db_s.check_bulk_failed_results())"
   ]
  },
  {
   "cell_type": "code",
   "execution_count": 30,
   "metadata": {
    "papermill": {
     "duration": 0.031082,
     "end_time": "2021-01-21T06:30:46.501577",
     "exception": false,
     "start_time": "2021-01-21T06:30:46.470495",
     "status": "completed"
    },
    "tags": []
   },
   "outputs": [],
   "source": []
  }
 ],
 "metadata": {
  "celltoolbar": "Tags",
  "kernelspec": {
   "display_name": "Python 3",
   "language": "python",
   "name": "python3"
  },
  "language_info": {
   "codemirror_mode": {
    "name": "ipython",
    "version": 3
   },
   "file_extension": ".py",
   "mimetype": "text/x-python",
   "name": "python",
   "nbconvert_exporter": "python",
   "pygments_lexer": "ipython3",
   "version": "3.7.10"
  },
  "papermill": {
   "duration": 15.722182,
   "end_time": "2021-01-21T06:30:47.783846",
   "environment_variables": {},
   "exception": null,
   "input_path": "/home/users/wang2506/nanohub_salesforce_integ/salesforce/task_citations.ipynb",
   "output_path": "/home/users/wang2506/nanohub_salesforce_integ/salesforce/task_citations.ipynb",
   "parameters": {},
   "start_time": "2021-01-21T06:30:32.061664",
   "version": "2.1.1"
  }
 },
 "nbformat": 4,
 "nbformat_minor": 4
}