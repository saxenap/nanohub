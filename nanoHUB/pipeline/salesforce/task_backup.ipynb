{
 "cells": [
  {
   "cell_type": "code",
   "execution_count": null,
   "id": "d3f4b0d4-f75f-4080-91fd-88fa756caf99",
   "metadata": {},
   "outputs": [],
   "source": []
  },
  {
   "cell_type": "code",
   "execution_count": 1,
   "id": "5a3b3357-09a5-4c1b-b240-119b25ebf057",
   "metadata": {
    "execution": {
     "iopub.execute_input": "2022-06-23T19:44:51.229079Z",
     "iopub.status.busy": "2022-06-23T19:44:51.227722Z",
     "iopub.status.idle": "2022-06-23T19:44:52.837768Z",
     "shell.execute_reply": "2022-06-23T19:44:52.836569Z",
     "shell.execute_reply.started": "2022-06-23T19:44:51.228846Z"
    },
    "tags": []
   },
   "outputs": [
    {
     "name": "stdout",
     "output_type": "stream",
     "text": [
      "\u001b[1mnanoHUB - Serving Students, Researchers & Instructors\u001b[0m\n",
      "salesforce_backups/20220623-144452\n"
     ]
    }
   ],
   "source": [
    "from simple_salesforce import Salesforce, SalesforceMalformedRequest\n",
    "from argparse import ArgumentParser\n",
    "from csv import DictWriter\n",
    "from datetime import date\n",
    "import time\n",
    "from pathlib import Path\n",
    "from nanoHUB.infrastructure.salesforce.contact import SalesforceFromEnvironment\n",
    "from dotenv import load_dotenv\n",
    "from nanoHUB.application import Application\n",
    "from nanoHUB.configuration import ClusteringConfiguration\n",
    "from nanoHUB.pipeline.geddes.data import get_default_s3_client\n",
    "from nanoHUB.dataaccess.lake import S3FileMapper\n",
    "import os\n",
    "import pandas as pd\n",
    "\n",
    "cwd = os.getcwd()\n",
    "load_dotenv()\n",
    "\n",
    "now = time.strftime(\"%Y%m%d-%H%M%S\")\n",
    "backup_folder = 'salesforce_backups' + '/' + now\n",
    "print(backup_folder)"
   ]
  },
  {
   "cell_type": "code",
   "execution_count": 2,
   "id": "61999a49-ede9-40a4-9420-7e406ee7ab68",
   "metadata": {
    "execution": {
     "iopub.execute_input": "2022-06-23T19:44:52.842892Z",
     "iopub.status.busy": "2022-06-23T19:44:52.842380Z",
     "iopub.status.idle": "2022-06-23T19:44:52.864574Z",
     "shell.execute_reply": "2022-06-23T19:44:52.863136Z",
     "shell.execute_reply.started": "2022-06-23T19:44:52.842857Z"
    },
    "tags": []
   },
   "outputs": [
    {
     "name": "stdout",
     "output_type": "stream",
     "text": [
      "Saving Results -> Local dir: /home/saxenap/nanoHUB/salesforce_backups/20220623-144452\n"
     ]
    }
   ],
   "source": [
    "datadir = os.environ['APP_DIR'] + '/' + backup_folder\n",
    "print('Saving Results -> Local dir: ' + datadir)\n",
    "\n",
    "datapath = Path(datadir)\n",
    "try:\n",
    "  datapath.mkdir(parents=True) #in python 3.5 we can switch to using  exist_ok=True\n",
    "except FileExistsError:\n",
    "  pass"
   ]
  },
  {
   "cell_type": "code",
   "execution_count": 3,
   "id": "773ac8d1-40fe-4608-8467-68dd1586d211",
   "metadata": {
    "execution": {
     "iopub.execute_input": "2022-06-23T19:44:52.866184Z",
     "iopub.status.busy": "2022-06-23T19:44:52.865858Z",
     "iopub.status.idle": "2022-06-23T19:44:52.964933Z",
     "shell.execute_reply": "2022-06-23T19:44:52.963819Z",
     "shell.execute_reply.started": "2022-06-23T19:44:52.866154Z"
    }
   },
   "outputs": [],
   "source": [
    "application = Application.get_instance()\n",
    "\n",
    "s3_client = get_default_s3_client(application)\n",
    "raw_mapper = S3FileMapper(s3_client, ClusteringConfiguration().bucket_name_raw)"
   ]
  },
  {
   "cell_type": "code",
   "execution_count": 4,
   "id": "26d0f6b7-599b-4229-871c-e7b96588ea83",
   "metadata": {
    "execution": {
     "iopub.execute_input": "2022-06-23T19:44:52.967092Z",
     "iopub.status.busy": "2022-06-23T19:44:52.965914Z",
     "iopub.status.idle": "2022-06-23T19:44:53.248522Z",
     "shell.execute_reply": "2022-06-23T19:44:53.245090Z",
     "shell.execute_reply.started": "2022-06-23T19:44:52.967036Z"
    },
    "tags": []
   },
   "outputs": [
    {
     "name": "stdout",
     "output_type": "stream",
     "text": [
      "<simple_salesforce.api.Salesforce object at 0x7f46e9d0f370>\n"
     ]
    }
   ],
   "source": [
    "sf = SalesforceFromEnvironment('dev').create_new()\n",
    "print(sf)"
   ]
  },
  {
   "cell_type": "code",
   "execution_count": 5,
   "id": "56aab891-c923-421c-bcfd-20826dd877f7",
   "metadata": {
    "execution": {
     "iopub.execute_input": "2022-06-23T19:44:53.252673Z",
     "iopub.status.busy": "2022-06-23T19:44:53.252051Z",
     "iopub.status.idle": "2022-06-23T19:44:53.612519Z",
     "shell.execute_reply": "2022-06-23T19:44:53.609803Z",
     "shell.execute_reply.started": "2022-06-23T19:44:53.252637Z"
    },
    "tags": []
   },
   "outputs": [],
   "source": [
    "description = sf.describe()"
   ]
  },
  {
   "cell_type": "code",
   "execution_count": 6,
   "id": "2d149af6-5a9e-4044-a06f-ca26c76a8c35",
   "metadata": {
    "execution": {
     "iopub.execute_input": "2022-06-23T19:44:53.614807Z",
     "iopub.status.busy": "2022-06-23T19:44:53.614358Z",
     "iopub.status.idle": "2022-06-23T19:44:53.627887Z",
     "shell.execute_reply": "2022-06-23T19:44:53.625952Z",
     "shell.execute_reply.started": "2022-06-23T19:44:53.614766Z"
    },
    "tags": []
   },
   "outputs": [
    {
     "name": "stdout",
     "output_type": "stream",
     "text": [
      "['AIApplication', 'AIApplicationConfig', 'AIInsightAction', 'AIInsightFeedback', 'AIInsightReason', 'AIInsightValue', 'AIRecordInsight', 'AcceptedEventRelation', 'Account', 'AccountContactRole', 'AccountFeed', 'AccountHistory', 'AccountPartner', 'AccountShare', 'ActionLinkGroupTemplate', 'ActionLinkTemplate', 'ActiveFeatureLicenseMetric', 'ActivePermSetLicenseMetric', 'ActiveProfileMetric', 'AdditionalNumber', 'AgentWork', 'AgentWorkShare', 'Announcement', 'ApexClass', 'ApexComponent', 'ApexEmailNotification', 'ApexLog', 'ApexPage', 'ApexPageInfo', 'ApexTestQueueItem', 'ApexTestResult', 'ApexTestResultLimits', 'ApexTestRunResult', 'ApexTestSuite', 'ApexTrigger', 'AppAnalyticsQueryRequest', 'AppDefinition', 'AppMenuItem', 'AppTabMember', 'Asset', 'AssetFeed', 'AssetHistory', 'AssetRelationship', 'AssetRelationshipFeed', 'AssetRelationshipHistory', 'AssetShare', 'AssignmentRule', 'AssociatedLocation', 'AssociatedLocationHistory', 'AsyncApexJob', 'Attachment', 'AuraDefinition', 'AuraDefinitionBundle', 'AuraDefinitionBundleInfo', 'AuraDefinitionInfo', 'AuthConfig', 'AuthConfigProviders', 'AuthProvider', 'AuthSession', 'AuthorToolAssociation__c', 'AuthorizationForm', 'AuthorizationFormConsent', 'AuthorizationFormConsentHistory', 'AuthorizationFormConsentShare', 'AuthorizationFormDataUse', 'AuthorizationFormDataUseHistory', 'AuthorizationFormDataUseShare', 'AuthorizationFormHistory', 'AuthorizationFormShare', 'AuthorizationFormText', 'AuthorizationFormTextFeed', 'AuthorizationFormTextHistory', 'BackgroundOperation', 'BrandTemplate', 'BrandingSet', 'BrandingSetProperty', 'BriefcaseAssignment', 'BriefcaseDefinition', 'BriefcaseRule', 'BriefcaseRuleFilter', 'BusinessHours', 'BusinessProcess', 'Calendar', 'CalendarView', 'CalendarViewShare', 'CallCenter', 'CallCoachingMediaProvider', 'Campaign', 'CampaignFeed', 'CampaignHistory', 'CampaignMember', 'CampaignMemberStatus', 'CampaignShare', 'Case', 'CaseArticle', 'CaseComment', 'CaseContactRole', 'CaseExternalDocument', 'CaseFeed', 'CaseHistory', 'CaseShare', 'CaseSolution', 'CaseStatus', 'CaseSubjectParticle', 'CaseTeamMember', 'CaseTeamRole', 'CaseTeamTemplate', 'CaseTeamTemplateMember', 'CaseTeamTemplateRecord', 'CategoryData', 'CategoryNode', 'ChatterActivity', 'ChatterExtension', 'ChatterExtensionConfig', 'ClientBrowser', 'CollaborationGroup', 'CollaborationGroupFeed', 'CollaborationGroupMember', 'CollaborationGroupMemberRequest', 'CollaborationGroupRecord', 'CollaborationInvitation', 'ColorDefinition', 'CommSubscription', 'CommSubscriptionChannelType', 'CommSubscriptionChannelTypeFeed', 'CommSubscriptionChannelTypeHistory', 'CommSubscriptionChannelTypeShare', 'CommSubscriptionConsent', 'CommSubscriptionConsentFeed', 'CommSubscriptionConsentHistory', 'CommSubscriptionConsentShare', 'CommSubscriptionFeed', 'CommSubscriptionHistory', 'CommSubscriptionShare', 'CommSubscriptionTiming', 'CommSubscriptionTimingFeed', 'CommSubscriptionTimingHistory', 'Community', 'ConferenceNumber', 'ConnectedApplication', 'Contact', 'ContactFeed', 'ContactHistory', 'ContactPointAddress', 'ContactPointAddressHistory', 'ContactPointAddressShare', 'ContactPointConsent', 'ContactPointConsentHistory', 'ContactPointConsentShare', 'ContactPointEmail', 'ContactPointEmailHistory', 'ContactPointEmailShare', 'ContactPointPhone', 'ContactPointPhoneHistory', 'ContactPointPhoneShare', 'ContactPointTypeConsent', 'ContactPointTypeConsentHistory', 'ContactPointTypeConsentShare', 'ContactRequest', 'ContactRequestShare', 'ContactShare', 'ContactToolAssociation__c', 'ContactToolClusterAssociation__c', 'ContentAsset', 'ContentDistribution', 'ContentDistributionView', 'ContentDocument', 'ContentDocumentFeed', 'ContentDocumentHistory', 'ContentDocumentLink', 'ContentDocumentSubscription', 'ContentFolder', 'ContentFolderItem', 'ContentFolderLink', 'ContentFolderMember', 'ContentNote', 'ContentNotification', 'ContentTagSubscription', 'ContentUserSubscription', 'ContentVersion', 'ContentVersionComment', 'ContentVersionHistory', 'ContentVersionRating', 'ContentWorkspace', 'ContentWorkspaceDoc', 'ContentWorkspaceMember', 'ContentWorkspacePermission', 'ContentWorkspaceSubscription', 'Contract', 'ContractContactRole', 'ContractFeed', 'ContractHistory', 'ContractStatus', 'CorsWhitelistEntry', 'CronJobDetail', 'CronTrigger', 'CspTrustedSite', 'CustomBrand', 'CustomBrandAsset', 'CustomHelpMenuItem', 'CustomHelpMenuSection', 'CustomHttpHeader', 'CustomNotificationType', 'CustomObjectUserLicenseMetrics', 'CustomPermission', 'CustomPermissionDependency', 'Dashboard', 'DashboardComponent', 'DashboardComponentFeed', 'DashboardFeed', 'DataAssessmentFieldMetric', 'DataAssessmentMetric', 'DataAssessmentValueMetric', 'DataIntegrationRecordPurchasePermission', 'DataStatistics', 'DataType', 'DataUseLegalBasis', 'DataUseLegalBasisHistory', 'DataUseLegalBasisShare', 'DataUsePurpose', 'DataUsePurposeHistory', 'DataUsePurposeShare', 'DeclinedEventRelation', 'DeleteEvent', 'DialerCallUsage', 'DialerCallUsageShare', 'Document', 'DocumentAttachmentMap', 'Domain', 'DomainSite', 'DuplicateJob', 'DuplicateJobDefinition', 'DuplicateJobMatchingRule', 'DuplicateJobMatchingRuleDefinition', 'DuplicateRecordItem', 'DuplicateRecordSet', 'DuplicateRule', 'EmailCapture', 'EmailDomainKey', 'EmailMessage', 'EmailMessageRelation', 'EmailServicesAddress', 'EmailServicesFunction', 'EmailTemplate', 'EmbeddedServiceDetail', 'EmbeddedServiceLabel', 'EngagementChannelType', 'EngagementChannelTypeFeed', 'EngagementChannelTypeHistory', 'EngagementChannelTypeShare', 'EnhancedLetterhead', 'EnhancedLetterheadFeed', 'EntityDefinition', 'EntityParticle', 'EntitySubscription', 'Event', 'EventBusSubscriber', 'EventFeed', 'EventLogFile', 'EventRelation', 'ExpressionFilter', 'ExpressionFilterCriteria', 'ExternalDataSource', 'ExternalDataUserAuth', 'ExternalEvent', 'ExternalEventMapping', 'ExternalEventMappingShare', 'ExternalSocialAccount', 'FeedAttachment', 'FeedComment', 'FeedItem', 'FeedPollChoice', 'FeedPollVote', 'FeedRevision', 'FieldDefinition', 'FieldPermissions', 'FieldSecurityClassification', 'FileSearchActivity', 'FiscalYearSettings', 'FlexQueueItem', 'FlowDefinitionView', 'FlowInterview', 'FlowInterviewLog', 'FlowInterviewLogEntry', 'FlowInterviewLogShare', 'FlowInterviewShare', 'FlowRecordRelation', 'FlowStageRelation', 'FlowVariableView', 'FlowVersionView', 'Folder', 'FormulaFunction', 'FormulaFunctionAllowedType', 'FormulaFunctionCategory', 'GrantedByLicense', 'Group', 'GroupMember', 'Holiday', 'IPAddressRange', 'IconDefinition', 'IdpEventLog', 'IframeWhiteListUrl', 'Image', 'ImageFeed', 'ImageHistory', 'ImageShare', 'Individual', 'IndividualHistory', 'IndividualShare', 'InstalledMobileApp', 'KnowledgeArticle', 'KnowledgeArticleVersion', 'KnowledgeArticleVersionHistory', 'KnowledgeArticleViewStat', 'KnowledgeArticleVoteStat', 'Knowledge__DataCategorySelection', 'Knowledge__ViewStat', 'Knowledge__VoteStat', 'Knowledge__ka', 'Knowledge__kav', 'KnowledgeableUser', 'Lead', 'LeadFeed', 'LeadHistory', 'LeadShare', 'LeadStatus', 'LightningExitByPageMetrics', 'LightningExperienceTheme', 'LightningOnboardingConfig', 'LightningToggleMetrics', 'LightningUsageByAppTypeMetrics', 'LightningUsageByBrowserMetrics', 'LightningUsageByFlexiPageMetrics', 'LightningUsageByPageMetrics', 'LinkedArticle', 'LinkedArticleFeed', 'LinkedArticleHistory', 'ListEmail', 'ListEmailIndividualRecipient', 'ListEmailRecipientSource', 'ListEmailShare', 'ListView', 'ListViewChart', 'ListViewChartInstance', 'Location', 'LocationFeed', 'LocationHistory', 'LocationShare', 'LocationTrustMeasure', 'LocationTrustMeasureShare', 'LoginGeo', 'LoginHistory', 'LoginIp', 'MLField', 'MLPredictionDefinition', 'Macro', 'MacroHistory', 'MacroInstruction', 'MacroShare', 'MacroUsage', 'MacroUsageShare', 'MailmergeTemplate', 'MatchingInformation', 'MatchingRule', 'MatchingRuleItem', 'MobileApplicationDetail', 'MutingPermissionSet', 'MyDomainDiscoverableLogin', 'NH_group__c', 'NH_group_members__c', 'NamedCredential', 'Note', 'OauthCustomScope', 'OauthCustomScopeApp', 'OauthToken', 'ObjectPermissions', 'OmniRoutingEventStore', 'OmniSupervisorConfig', 'OmniSupervisorConfigGroup', 'OmniSupervisorConfigProfile', 'OmniSupervisorConfigUser', 'OnboardingMetrics', 'Opportunity', 'OpportunityCompetitor', 'OpportunityContactRole', 'OpportunityFeed', 'OpportunityFieldHistory', 'OpportunityHistory', 'OpportunityLineItem', 'OpportunityPartner', 'OpportunityShare', 'OpportunityStage', 'Order', 'OrderFeed', 'OrderHistory', 'OrderItem', 'OrderItemFeed', 'OrderItemHistory', 'OrderShare', 'OrderStatus', 'OrgMetric', 'OrgMetricScanResult', 'OrgMetricScanSummary', 'OrgWideEmailAddress', 'Organization', 'OutgoingEmail', 'OutgoingEmailRelation', 'OwnerChangeOptionInfo', 'PackageLicense', 'Partner', 'PartnerRole', 'PartyConsent', 'PartyConsentFeed', 'PartyConsentHistory', 'PartyConsentShare', 'PendingServiceRouting', 'PendingServiceRoutingShare', 'Period', 'PermissionSet', 'PermissionSetAssignment', 'PermissionSetGroup', 'PermissionSetGroupComponent', 'PermissionSetLicense', 'PermissionSetLicenseAssign', 'PermissionSetTabSetting', 'PicklistValueInfo', 'PlatformAction', 'PlatformCachePartition', 'PlatformCachePartitionType', 'PlatformEventUsageMetric', 'PresenceConfigDeclineReason', 'PresenceDeclineReason', 'PresenceUserConfig', 'PresenceUserConfigProfile', 'PresenceUserConfigUser', 'Pricebook2', 'Pricebook2History', 'PricebookEntry', 'PricebookEntryHistory', 'ProcessDefinition', 'ProcessException', 'ProcessExceptionShare', 'ProcessInstance', 'ProcessInstanceNode', 'ProcessInstanceStep', 'ProcessInstanceWorkitem', 'ProcessNode', 'Product2', 'Product2Feed', 'Product2History', 'Profile', 'Prompt', 'PromptAction', 'PromptActionShare', 'PromptError', 'PromptErrorShare', 'PromptVersion', 'Publisher', 'PushTopic', 'QueueRoutingConfig', 'QueueSobject', 'QuickText', 'QuickTextHistory', 'QuickTextShare', 'QuickTextUsage', 'QuickTextUsageShare', 'RecentlyViewed', 'Recommendation', 'RecommendationResponse', 'RecordAction', 'RecordActionHistory', 'RecordType', 'RedirectWhitelistUrl', 'RelationshipDomain', 'RelationshipInfo', 'Report', 'ReportFeed', 'SPSamlAttributes', 'SamlSsoConfig', 'Scontrol', 'SearchActivity', 'SearchLayout', 'Secondary_Account__c', 'SecurityCustomBaseline', 'ServiceChannel', 'ServiceChannelStatus', 'ServicePresenceStatus', 'ServiceResource', 'ServiceResourceFeed', 'ServiceResourceHistory', 'ServiceResourceShare', 'ServiceSetupProvisioning', 'SessionPermSetActivation', 'SetupAssistantStep', 'SetupEntityAccess', 'SharingRecordCollection', 'SharingRecordCollectionItem', 'SharingRecordCollectionMember', 'SharingRecordCollectionShare', 'SignupRequest', 'SignupRequestFeed', 'SignupRequestHistory', 'SignupRequestShare', 'Site', 'SiteDetail', 'SiteFeed', 'SiteHistory', 'SiteIframeWhiteListUrl', 'SiteRedirectMapping', 'SocialPersona', 'SocialPersonaHistory', 'SocialPost', 'SocialPostFeed', 'SocialPostHistory', 'SocialPostShare', 'Solution', 'SolutionFeed', 'SolutionHistory', 'SolutionStatus', 'Stamp', 'StampAssignment', 'StaticResource', 'StreamingChannel', 'StreamingChannelShare', 'Survey_Data__History', 'Survey_Data__c', 'TabDefinition', 'Task', 'TaskFeed', 'TaskPriority', 'TaskStatus', 'TenantUsageEntitlement', 'TestSuiteMembership', 'ThirdPartyAccountLink', 'TodayGoal', 'TodayGoalShare', 'ToolToolClusterAssociation__c', 'Topic', 'TopicAssignment', 'TopicFeed', 'TopicUserEvent', 'Translation', 'UiFormulaCriterion', 'UiFormulaRule', 'UndecidedEventRelation', 'User', 'UserAppInfo', 'UserAppMenuCustomization', 'UserAppMenuCustomizationShare', 'UserAppMenuItem', 'UserEmailPreferredPerson', 'UserEmailPreferredPersonShare', 'UserEntityAccess', 'UserFeed', 'UserFieldAccess', 'UserLicense', 'UserListView', 'UserListViewCriterion', 'UserLogin', 'UserPackageLicense', 'UserPermissionAccess', 'UserPreference', 'UserProvAccount', 'UserProvAccountStaging', 'UserProvMockTarget', 'UserProvisioningConfig', 'UserProvisioningLog', 'UserProvisioningRequest', 'UserProvisioningRequestShare', 'UserRecordAccess', 'UserRole', 'UserServicePresence', 'UserServicePresenceShare', 'UserSetupEntityAccess', 'UserShare', 'VerificationHistory', 'VideoCall', 'VideoCallFeed', 'VideoCallParticipant', 'VideoCallRecording', 'VideoCallShare', 'VisualforceAccessMetrics', 'VoiceCall', 'VoiceCallFeed', 'VoiceCallRecording', 'VoiceCallShare', 'VoiceVendorInfo', 'Vote', 'WaveAutoInstallRequest', 'WaveCompatibilityCheckItem', 'WebLink', 'contact_citation_asso__c', 'et4ae5__AggregateLink__c', 'et4ae5__Automated_Send__History', 'et4ae5__Automated_Send__c', 'et4ae5__Business_Unit__c', 'et4ae5__Campaign_Member_Configuration__c', 'et4ae5__Configuration__c', 'et4ae5__ET4AEConfig__c', 'et4ae5__ET4AE_Config__c', 'et4ae5__Email_Linkage__c', 'et4ae5__IndividualEmailResult__c', 'et4ae5__IndividualLink__c', 'et4ae5__Journey__c', 'et4ae5__MC_CDC_Journey__c', 'et4ae5__SMSDefinition__History', 'et4ae5__SMSDefinition__c', 'et4ae5__SMSJunction__c', 'et4ae5__SendDefinition__History', 'et4ae5__SendDefinition__c', 'et4ae5__SendJunction__c', 'et4ae5__SupportRequest__c', 'et4ae5__Triggered_Send_Execution__c', 'et4ae5__UEBU__c', 'et4ae5__abTest__c', 'hed__Academic_Certification__c', 'hed__Address__Feed', 'hed__Address__c', 'hed__Affiliation__History', 'hed__Affiliation__c', 'hed__Affl_Mappings__c', 'hed__Application__History', 'hed__Application__c', 'hed__Attendance_Event__c', 'hed__Attribute__c', 'hed__Behavior_Involvement__c', 'hed__Behavior_Response__c', 'hed__Contact_Language__c', 'hed__Course_Enrollment__c', 'hed__Course_Offering_Schedule__History', 'hed__Course_Offering_Schedule__c', 'hed__Course_Offering__c', 'hed__Course__c', 'hed__Credential__c', 'hed__Education_History__c', 'hed__Error__c', 'hed__Facility__c', 'hed__Hierarchy_Settings__c', 'hed__Language__c', 'hed__Plan_Requirement__c', 'hed__Product_Registry__mdt', 'hed__Program_Enrollment__c', 'hed__Program_Plan__c', 'hed__Relationship_Auto_Create__c', 'hed__Relationship_Lookup__c', 'hed__Relationship__History', 'hed__Relationship__c', 'hed__Term_Grade__c', 'hed__Term__c', 'hed__Test_Definition__mdt', 'hed__Test_Score_Definition__mdt', 'hed__Test_Score__c', 'hed__Test__c', 'hed__Time_Block__History', 'hed__Time_Block__c', 'hed__Trigger_Handler__c', 'nH_Webinars__c', 'nanoHUB_citations__Feed', 'nanoHUB_citations__c', 'nanoHUB_issue__Feed', 'nanoHUB_issue__c', 'nanoHUB_tools__Feed', 'nanoHUB_tools__c', 'organization__Feed', 'organization__c', 'rh2__Filter__c', 'rh2__HS_Filter__c', 'rh2__PS_Describe__c', 'rh2__PS_Exception__c', 'rh2__PS_Export_Rollups__History', 'rh2__PS_Export_Rollups__c', 'rh2__PS_Object_Realtime__c', 'rh2__PS_Queue__c', 'rh2__PS_Rollup_Conditions__c', 'rh2__PS_Rollup_Dummy__History', 'rh2__PS_Rollup_Dummy__Share', 'rh2__PS_Rollup_Dummy__c', 'rh2__PS_Rollup_Group__c', 'rh2__PS_Settings__c', 'rh2__RH_Job__c', 'rh2__Rollup_Helper_Record_Scope__c', 'tool_usage_cluster__Feed', 'tool_usage_cluster__c']\n"
     ]
    }
   ],
   "source": [
    "names = [obj['name'] for obj in description['sobjects'] if obj['queryable']]\n",
    "print(names)"
   ]
  },
  {
   "cell_type": "code",
   "execution_count": null,
   "id": "4d061351-4d72-4743-9d1c-1e8f68e74527",
   "metadata": {
    "execution": {
     "iopub.status.busy": "2022-06-23T19:46:21.334246Z",
     "iopub.status.idle": "2022-06-23T19:46:21.335786Z",
     "shell.execute_reply": "2022-06-23T19:46:21.335170Z",
     "shell.execute_reply.started": "2022-06-23T19:46:21.334985Z"
    },
    "tags": []
   },
   "outputs": [],
   "source": [
    "name = 'Contact'\n",
    "salesforceObject = sf.__getattr__(name)\n",
    "fieldNames = [field['name'] for field in salesforceObject.describe()['fields']]\n",
    "\n",
    "try:\n",
    "    results = sf.query_all( \"SELECT \" + \", \".join(fieldNames) + \" FROM \" + name + \" WHERE nanoHUB_username__c = tfaltens\" )\n",
    "    print(results)\n",
    "    # df = pd.DataFrame.from_dict(results, orient='columns').drop('attributes',axis=1)\n",
    "    # print(df)\n",
    "except SalesforceMalformedRequest as e:\n",
    "    print(e)\n",
    "exit(0)     \n",
    "\n",
    "for name in names:\n",
    "    # salesforceObject = sf.__getattr__(name)\n",
    "    salesforceObject = sf.__getattr__('Contact')\n",
    "    # so get a list of the object fields for this object.\n",
    "  \n",
    "    fieldNames = [field['name'] for field in salesforceObject.describe()['fields']]\n",
    "    # then build a SOQL query against that object and do a query_all\n",
    "    try:\n",
    "        results = sf.query_all( \"SELECT \" + \", \".join(fieldNames) + \" FROM \" + name  )\n",
    "        print(results)\n",
    "        df = pd.DataFrame.from_dict(results, orient='columns').drop('attributes',axis=1)\n",
    "        print(df)\n",
    "        exit(0)\n",
    "    except SalesforceMalformedRequest as e:\n",
    "        # ignore objects with rules about getting queried. \n",
    "        continue\n",
    "    outputfile = datapath / (name+\".csv\")\n",
    "    print(df)\n",
    "    processed_mapper.save_as_csv(df, backup_folder + '/' + name + '.csv', index=None)\n",
    "    df.to_csv(datadir + '/' + name + '.csv', index=None)"
   ]
  },
  {
   "cell_type": "code",
   "execution_count": null,
   "id": "8250a9b1-e975-4540-93d6-4b78cbcf98d1",
   "metadata": {
    "execution": {
     "iopub.status.busy": "2022-06-23T19:46:21.320484Z",
     "iopub.status.idle": "2022-06-23T19:46:21.321088Z",
     "shell.execute_reply": "2022-06-23T19:46:21.320826Z",
     "shell.execute_reply.started": "2022-06-23T19:46:21.320790Z"
    },
    "tags": []
   },
   "outputs": [],
   "source": [
    "def get_df_for(name: str):\n",
    "    salesforceObject = sf.__getattr__(name)\n",
    "    fieldNames = [field['name'] for field in salesforceObject.describe()['fields']]\n",
    "    try:\n",
    "        results = sf.query_all( \"SELECT \" + \", \".join(fieldNames) + \" FROM \" + name  )\n",
    "        print(results)\n",
    "        # df = pd.DataFrame.from_dict(results, orient='columns').drop('attributes',axis=1)\n",
    "        # print(df)\n",
    "    except SalesforceMalformedRequest as e:\n",
    "        print(e)\n",
    "    exit(0)  "
   ]
  }
 ],
 "metadata": {
  "kernelspec": {
   "display_name": "Python 3 (ipykernel)",
   "language": "python",
   "name": "python3"
  },
  "language_info": {
   "codemirror_mode": {
    "name": "ipython",
    "version": 3
   },
   "file_extension": ".py",
   "mimetype": "text/x-python",
   "name": "python",
   "nbconvert_exporter": "python",
   "pygments_lexer": "ipython3",
   "version": "3.8.10"
  }
 },
 "nbformat": 4,
 "nbformat_minor": 5
}
