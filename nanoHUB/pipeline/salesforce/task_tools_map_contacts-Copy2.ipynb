{
 "cells": [
  {
   "cell_type": "markdown",
   "metadata": {
    "papermill": {
     "duration": 0.039641,
     "end_time": "2021-01-21T06:30:34.834802",
     "exception": false,
     "start_time": "2021-01-21T06:30:34.795161",
     "status": "completed"
    },
    "tags": [],
    "pycharm": {
     "name": "#%% md\n"
    }
   },
   "source": [
    "# DB2-Salesforce connector: Tools mapping to users"
   ]
  },
  {
   "cell_type": "code",
   "execution_count": 1,
   "metadata": {
    "execution": {
     "iopub.execute_input": "2022-04-22T14:08:22.247435Z",
     "iopub.status.busy": "2022-04-22T14:08:22.243445Z",
     "iopub.status.idle": "2022-04-22T14:08:51.174426Z",
     "shell.execute_reply": "2022-04-22T14:08:51.095150Z",
     "shell.execute_reply.started": "2022-04-22T14:08:22.244636Z"
    },
    "papermill": {
     "duration": 0.056328,
     "end_time": "2021-01-21T06:30:34.930924",
     "exception": false,
     "start_time": "2021-01-21T06:30:34.874596",
     "status": "completed"
    },
    "tags": [
     "parameters"
    ],
    "pycharm": {
     "name": "#%%\n"
    }
   },
   "outputs": [
    {
     "name": "stdout",
     "output_type": "stream",
     "text": [
      "\u001B[1mnanoHUB - Serving Students, Researchers & Instructors\u001B[0m\n",
      "Obtained Salesforce access token ...... True\n"
     ]
    }
   ],
   "source": [
    "# API settings\n",
    "api_url = '/services/data/v43.0/sobjects'\n",
    "external_id = 'Name'\n",
    "object_id = 'ContactToolAssociation__c'\n",
    "\n",
    "from nanoHUB.application import Application\n",
    "\n",
    "application = Application.get_instance()\n",
    "nanohub_db = application.new_db_engine('nanohub')\n",
    "nanohub_metrics_db = application.new_db_engine('nanohub_metrics')\n",
    "\n",
    "\n",
    "salesforce = application.new_salesforce_engine()\n",
    "db_s = salesforce"
   ]
  },
  {
   "cell_type": "code",
   "execution_count": 2,
   "metadata": {
    "execution": {
     "iopub.execute_input": "2022-04-22T14:08:51.219083Z",
     "iopub.status.busy": "2022-04-22T14:08:51.218456Z",
     "iopub.status.idle": "2022-04-22T14:08:51.307185Z",
     "shell.execute_reply": "2022-04-22T14:08:51.304435Z",
     "shell.execute_reply.started": "2022-04-22T14:08:51.219004Z"
    },
    "papermill": {
     "duration": 5.790574,
     "end_time": "2021-01-21T06:30:40.739666",
     "exception": false,
     "start_time": "2021-01-21T06:30:34.949092",
     "status": "completed"
    },
    "tags": [],
    "pycharm": {
     "name": "#%%\n"
    }
   },
   "outputs": [],
   "source": [
    "import pandas as pd\n",
    "import time\n",
    "import datetime"
   ]
  },
  {
   "cell_type": "markdown",
   "metadata": {
    "papermill": {
     "duration": 0.012627,
     "end_time": "2021-01-21T06:30:40.766699",
     "exception": false,
     "start_time": "2021-01-21T06:30:40.754072",
     "status": "completed"
    },
    "tags": [],
    "pycharm": {
     "name": "#%% md\n"
    }
   },
   "source": [
    "## Obtain tool information from DB2 "
   ]
  },
  {
   "cell_type": "code",
   "execution_count": 3,
   "metadata": {
    "execution": {
     "iopub.execute_input": "2022-04-22T14:08:51.485921Z",
     "iopub.status.busy": "2022-04-22T14:08:51.484564Z",
     "iopub.status.idle": "2022-04-22T14:08:51.537147Z",
     "shell.execute_reply": "2022-04-22T14:08:51.527363Z",
     "shell.execute_reply.started": "2022-04-22T14:08:51.485728Z"
    },
    "papermill": {
     "duration": 2166.765297,
     "end_time": "2021-01-21T07:06:47.543975",
     "exception": false,
     "start_time": "2021-01-21T06:30:40.778678",
     "status": "completed"
    },
    "tags": [],
    "pycharm": {
     "name": "#%%\n"
    }
   },
   "outputs": [],
   "source": [
    "# connect with DB2\n",
    "\n",
    "# toolstart\n",
    "sql_query = '''\n",
    "SELECT DISTINCT LOWER(users.username),\n",
    "                LOWER(versions.toolname) AS tool_name,\n",
    "                LOWER(toolstart.tool) AS tool_version,\n",
    "                COUNT(toolstart.id) AS COUNT,\n",
    "                MIN(COALESCE(toolstart.datetime)) AS min_datetime,\n",
    "                MAX(COALESCE(toolstart.datetime)) AS max_datetime,\n",
    "                users.registerDate\n",
    "FROM nanohub_metrics.toolstart toolstart\n",
    "  JOIN nanohub.jos_tool_version versions\n",
    "    ON toolstart.tool = versions.instance\n",
    "  JOIN nanohub.jos_users users\n",
    "    ON users.username = toolstart.user\n",
    "GROUP BY users.username, toolstart.tool\n",
    "'''\n",
    "\n"
   ]
  },
  {
   "cell_type": "code",
   "execution_count": 4,
   "metadata": {
    "execution": {
     "iopub.execute_input": "2022-04-22T14:08:52.651468Z",
     "iopub.status.busy": "2022-04-22T14:08:52.649583Z",
     "iopub.status.idle": "2022-04-22T14:36:10.390448Z",
     "shell.execute_reply": "2022-04-22T14:36:10.377274Z",
     "shell.execute_reply.started": "2022-04-22T14:08:52.651347Z"
    },
    "tags": [],
    "pycharm": {
     "name": "#%%\n"
    }
   },
   "outputs": [
    {
     "data": {
      "text/html": [
       "<div>\n",
       "<style scoped>\n",
       "    .dataframe tbody tr th:only-of-type {\n",
       "        vertical-align: middle;\n",
       "    }\n",
       "\n",
       "    .dataframe tbody tr th {\n",
       "        vertical-align: top;\n",
       "    }\n",
       "\n",
       "    .dataframe thead th {\n",
       "        text-align: right;\n",
       "    }\n",
       "</style>\n",
       "<table border=\"1\" class=\"dataframe\">\n",
       "  <thead>\n",
       "    <tr style=\"text-align: right;\">\n",
       "      <th></th>\n",
       "      <th>username</th>\n",
       "      <th>tool_name</th>\n",
       "      <th>tool_version</th>\n",
       "      <th>COUNT</th>\n",
       "      <th>min_datetime</th>\n",
       "      <th>max_datetime</th>\n",
       "      <th>registerDate</th>\n",
       "    </tr>\n",
       "  </thead>\n",
       "  <tbody>\n",
       "    <tr>\n",
       "      <th>0</th>\n",
       "      <td>0.yao.yuan</td>\n",
       "      <td>mosfetsat</td>\n",
       "      <td>mosfetsat_r66</td>\n",
       "      <td>4</td>\n",
       "      <td>2017-03-08 10:15:23</td>\n",
       "      <td>2017-03-08 10:33:22</td>\n",
       "      <td>2017-03-08 15:14:41</td>\n",
       "    </tr>\n",
       "    <tr>\n",
       "      <th>1</th>\n",
       "      <td>0.yao.yuan</td>\n",
       "      <td>mosfet</td>\n",
       "      <td>mosfet_r134</td>\n",
       "      <td>11</td>\n",
       "      <td>2017-03-08 11:36:08</td>\n",
       "      <td>2017-03-09 05:09:22</td>\n",
       "      <td>2017-03-08 15:14:41</td>\n",
       "    </tr>\n",
       "    <tr>\n",
       "      <th>2</th>\n",
       "      <td>007sribabu</td>\n",
       "      <td>deviceelectron</td>\n",
       "      <td>deviceelectron_r21</td>\n",
       "      <td>1</td>\n",
       "      <td>2021-11-06 20:46:21</td>\n",
       "      <td>2021-11-06 20:46:21</td>\n",
       "      <td>2021-11-07 03:43:24</td>\n",
       "    </tr>\n",
       "    <tr>\n",
       "      <th>3</th>\n",
       "      <td>008dilip</td>\n",
       "      <td>abacus</td>\n",
       "      <td>abacus_r31</td>\n",
       "      <td>14</td>\n",
       "      <td>2016-09-28 20:27:13</td>\n",
       "      <td>2016-10-12 23:50:56</td>\n",
       "      <td>2016-09-29 00:25:23</td>\n",
       "    </tr>\n",
       "    <tr>\n",
       "      <th>4</th>\n",
       "      <td>00ff</td>\n",
       "      <td>bmcsuite</td>\n",
       "      <td>bmcsuite_r40</td>\n",
       "      <td>2</td>\n",
       "      <td>2013-11-19 00:53:23</td>\n",
       "      <td>2013-11-19 00:58:56</td>\n",
       "      <td>2013-11-19 05:49:54</td>\n",
       "    </tr>\n",
       "  </tbody>\n",
       "</table>\n",
       "</div>"
      ],
      "text/plain": [
       "     username       tool_name        tool_version  COUNT         min_datetime  \\\n",
       "0  0.yao.yuan       mosfetsat       mosfetsat_r66      4  2017-03-08 10:15:23   \n",
       "1  0.yao.yuan          mosfet         mosfet_r134     11  2017-03-08 11:36:08   \n",
       "2  007sribabu  deviceelectron  deviceelectron_r21      1  2021-11-06 20:46:21   \n",
       "3    008dilip          abacus          abacus_r31     14  2016-09-28 20:27:13   \n",
       "4        00ff        bmcsuite        bmcsuite_r40      2  2013-11-19 00:53:23   \n",
       "\n",
       "         max_datetime        registerDate  \n",
       "0 2017-03-08 10:33:22 2017-03-08 15:14:41  \n",
       "1 2017-03-09 05:09:22 2017-03-08 15:14:41  \n",
       "2 2021-11-06 20:46:21 2021-11-07 03:43:24  \n",
       "3 2016-10-12 23:50:56 2016-09-29 00:25:23  \n",
       "4 2013-11-19 00:58:56 2013-11-19 05:49:54  "
      ]
     },
     "metadata": {},
     "output_type": "display_data"
    },
    {
     "data": {
      "text/html": [
       "<div>\n",
       "<style scoped>\n",
       "    .dataframe tbody tr th:only-of-type {\n",
       "        vertical-align: middle;\n",
       "    }\n",
       "\n",
       "    .dataframe tbody tr th {\n",
       "        vertical-align: top;\n",
       "    }\n",
       "\n",
       "    .dataframe thead th {\n",
       "        text-align: right;\n",
       "    }\n",
       "</style>\n",
       "<table border=\"1\" class=\"dataframe\">\n",
       "  <thead>\n",
       "    <tr style=\"text-align: right;\">\n",
       "      <th></th>\n",
       "      <th>username</th>\n",
       "      <th>tool_name</th>\n",
       "      <th>tool_version</th>\n",
       "      <th>COUNT</th>\n",
       "      <th>min_datetime</th>\n",
       "      <th>max_datetime</th>\n",
       "      <th>registerDate</th>\n",
       "    </tr>\n",
       "  </thead>\n",
       "  <tbody>\n",
       "    <tr>\n",
       "      <th>525932</th>\n",
       "      <td>z_e_u_s</td>\n",
       "      <td>cenems</td>\n",
       "      <td>cenems</td>\n",
       "      <td>1</td>\n",
       "      <td>2006-10-16 20:25:49</td>\n",
       "      <td>2006-10-16 20:25:49</td>\n",
       "      <td>2006-10-16 20:24:48</td>\n",
       "    </tr>\n",
       "    <tr>\n",
       "      <th>525933</th>\n",
       "      <td>z_henry35</td>\n",
       "      <td>cndo</td>\n",
       "      <td>cndo_r34</td>\n",
       "      <td>10</td>\n",
       "      <td>2013-02-18 15:24:54</td>\n",
       "      <td>2013-02-19 01:53:39</td>\n",
       "      <td>2013-02-08 15:08:41</td>\n",
       "    </tr>\n",
       "    <tr>\n",
       "      <th>525934</th>\n",
       "      <td>z_henry35</td>\n",
       "      <td>nsoptics</td>\n",
       "      <td>nsoptics_r21</td>\n",
       "      <td>37</td>\n",
       "      <td>2013-02-11 14:42:41</td>\n",
       "      <td>2013-02-12 02:12:28</td>\n",
       "      <td>2013-02-08 15:08:41</td>\n",
       "    </tr>\n",
       "    <tr>\n",
       "      <th>525935</th>\n",
       "      <td>z_sath</td>\n",
       "      <td>fermi</td>\n",
       "      <td>fermi_r27</td>\n",
       "      <td>3</td>\n",
       "      <td>2008-07-09 22:51:51</td>\n",
       "      <td>2008-07-09 22:52:23</td>\n",
       "      <td>2008-07-06 23:55:51</td>\n",
       "    </tr>\n",
       "    <tr>\n",
       "      <th>525936</th>\n",
       "      <td>z_sath</td>\n",
       "      <td>nanomos</td>\n",
       "      <td>nanomos_r79</td>\n",
       "      <td>2</td>\n",
       "      <td>2008-07-23 09:39:12</td>\n",
       "      <td>2008-07-23 09:39:34</td>\n",
       "      <td>2008-07-06 23:55:51</td>\n",
       "    </tr>\n",
       "  </tbody>\n",
       "</table>\n",
       "</div>"
      ],
      "text/plain": [
       "         username tool_name  tool_version  COUNT         min_datetime  \\\n",
       "525932    z_e_u_s    cenems        cenems      1  2006-10-16 20:25:49   \n",
       "525933  z_henry35      cndo      cndo_r34     10  2013-02-18 15:24:54   \n",
       "525934  z_henry35  nsoptics  nsoptics_r21     37  2013-02-11 14:42:41   \n",
       "525935     z_sath     fermi     fermi_r27      3  2008-07-09 22:51:51   \n",
       "525936     z_sath   nanomos   nanomos_r79      2  2008-07-23 09:39:12   \n",
       "\n",
       "              max_datetime        registerDate  \n",
       "525932 2006-10-16 20:25:49 2006-10-16 20:24:48  \n",
       "525933 2013-02-19 01:53:39 2013-02-08 15:08:41  \n",
       "525934 2013-02-12 02:12:28 2013-02-08 15:08:41  \n",
       "525935 2008-07-09 22:52:23 2008-07-06 23:55:51  \n",
       "525936 2008-07-23 09:39:34 2008-07-06 23:55:51  "
      ]
     },
     "metadata": {},
     "output_type": "display_data"
    }
   ],
   "source": [
    "toolstart_df = pd.read_sql_query(sql_query, nanohub_metrics_db)\n",
    "display(toolstart_df.head())\n",
    "display(toolstart_df.tail())"
   ]
  },
  {
   "cell_type": "code",
   "execution_count": 4,
   "metadata": {
    "execution": {
     "iopub.execute_input": "2022-04-08T03:09:35.823175Z",
     "iopub.status.busy": "2022-04-08T03:09:35.812831Z",
     "iopub.status.idle": "2022-04-08T03:10:06.284743Z",
     "shell.execute_reply": "2022-04-08T03:10:06.281525Z",
     "shell.execute_reply.started": "2022-04-08T03:09:35.813798Z"
    },
    "papermill": {
     "duration": 15.861831,
     "end_time": "2021-01-21T07:07:05.683663",
     "exception": false,
     "start_time": "2021-01-21T07:06:49.821832",
     "status": "completed"
    },
    "tags": [],
    "pycharm": {
     "name": "#%%\n"
    }
   },
   "outputs": [
    {
     "data": {
      "text/html": [
       "<div>\n",
       "<style scoped>\n",
       "    .dataframe tbody tr th:only-of-type {\n",
       "        vertical-align: middle;\n",
       "    }\n",
       "\n",
       "    .dataframe tbody tr th {\n",
       "        vertical-align: top;\n",
       "    }\n",
       "\n",
       "    .dataframe thead th {\n",
       "        text-align: right;\n",
       "    }\n",
       "</style>\n",
       "<table border=\"1\" class=\"dataframe\">\n",
       "  <thead>\n",
       "    <tr style=\"text-align: right;\">\n",
       "      <th></th>\n",
       "      <th>user</th>\n",
       "      <th>instance</th>\n",
       "    </tr>\n",
       "  </thead>\n",
       "  <tbody>\n",
       "    <tr>\n",
       "      <th>0</th>\n",
       "      <td>herre</td>\n",
       "      <td>cnt-iv</td>\n",
       "    </tr>\n",
       "    <tr>\n",
       "      <th>1</th>\n",
       "      <td>donovan</td>\n",
       "      <td>huckel-iv</td>\n",
       "    </tr>\n",
       "  </tbody>\n",
       "</table>\n",
       "</div>"
      ],
      "text/plain": [
       "      user   instance\n",
       "0    herre     cnt-iv\n",
       "1  donovan  huckel-iv"
      ]
     },
     "metadata": {},
     "output_type": "display_data"
    },
    {
     "data": {
      "text/html": [
       "<div>\n",
       "<style scoped>\n",
       "    .dataframe tbody tr th:only-of-type {\n",
       "        vertical-align: middle;\n",
       "    }\n",
       "\n",
       "    .dataframe tbody tr th {\n",
       "        vertical-align: top;\n",
       "    }\n",
       "\n",
       "    .dataframe thead th {\n",
       "        text-align: right;\n",
       "    }\n",
       "</style>\n",
       "<table border=\"1\" class=\"dataframe\">\n",
       "  <thead>\n",
       "    <tr style=\"text-align: right;\">\n",
       "      <th></th>\n",
       "      <th>toolname</th>\n",
       "      <th>instance</th>\n",
       "    </tr>\n",
       "  </thead>\n",
       "  <tbody>\n",
       "    <tr>\n",
       "      <th>0</th>\n",
       "      <td></td>\n",
       "      <td></td>\n",
       "    </tr>\n",
       "    <tr>\n",
       "      <th>1</th>\n",
       "      <td>112016a</td>\n",
       "      <td>112016a_dev</td>\n",
       "    </tr>\n",
       "  </tbody>\n",
       "</table>\n",
       "</div>"
      ],
      "text/plain": [
       "  toolname     instance\n",
       "0                      \n",
       "1  112016a  112016a_dev"
      ]
     },
     "metadata": {},
     "output_type": "display_data"
    }
   ],
   "source": [
    "# convert all to lower case\n",
    "toolstart_df['user'] = toolstart_df['user'].apply(str.lower)\n",
    "toolstart_df['instance'] = toolstart_df['instance'].apply(str.lower)\n",
    "\n",
    "tool_version_df['toolname'] = tool_version_df['toolname'].apply(str.lower)\n",
    "tool_version_df['instance'] = tool_version_df['instance'].apply(str.lower)\n",
    "\n",
    "# display\n",
    "\n",
    "display(toolstart_df.head(2))\n",
    "display(tool_version_df.head(2))"
   ]
  },
  {
   "cell_type": "code",
   "execution_count": 5,
   "metadata": {
    "execution": {
     "iopub.execute_input": "2022-04-08T03:10:06.403947Z",
     "iopub.status.busy": "2022-04-08T03:10:06.399784Z",
     "iopub.status.idle": "2022-04-08T03:10:07.086456Z",
     "shell.execute_reply": "2022-04-08T03:10:07.080591Z",
     "shell.execute_reply.started": "2022-04-08T03:10:06.403611Z"
    },
    "papermill": {
     "duration": 1.904273,
     "end_time": "2021-01-21T07:07:07.618027",
     "exception": false,
     "start_time": "2021-01-21T07:07:05.713754",
     "status": "completed"
    },
    "tags": [],
    "pycharm": {
     "name": "#%%\n"
    }
   },
   "outputs": [
    {
     "data": {
      "text/html": [
       "<div>\n",
       "<style scoped>\n",
       "    .dataframe tbody tr th:only-of-type {\n",
       "        vertical-align: middle;\n",
       "    }\n",
       "\n",
       "    .dataframe tbody tr th {\n",
       "        vertical-align: top;\n",
       "    }\n",
       "\n",
       "    .dataframe thead th {\n",
       "        text-align: right;\n",
       "    }\n",
       "</style>\n",
       "<table border=\"1\" class=\"dataframe\">\n",
       "  <thead>\n",
       "    <tr style=\"text-align: right;\">\n",
       "      <th></th>\n",
       "      <th>toolname</th>\n",
       "      <th>instance</th>\n",
       "    </tr>\n",
       "  </thead>\n",
       "  <tbody>\n",
       "    <tr>\n",
       "      <th>0</th>\n",
       "      <td></td>\n",
       "      <td></td>\n",
       "    </tr>\n",
       "    <tr>\n",
       "      <th>1</th>\n",
       "      <td>112016a</td>\n",
       "      <td>112016a</td>\n",
       "    </tr>\n",
       "    <tr>\n",
       "      <th>2</th>\n",
       "      <td>1dbtetransient</td>\n",
       "      <td>1dbtetransient</td>\n",
       "    </tr>\n",
       "  </tbody>\n",
       "</table>\n",
       "</div>"
      ],
      "text/plain": [
       "         toolname        instance\n",
       "0                                \n",
       "1         112016a         112016a\n",
       "2  1dbtetransient  1dbtetransient"
      ]
     },
     "execution_count": 5,
     "metadata": {},
     "output_type": "execute_result"
    }
   ],
   "source": [
    "# insert the toolname into instance as well\n",
    "dummy = pd.DataFrame()\n",
    "dummy['toolname'] = tool_version_df['toolname'].drop_duplicates()\n",
    "dummy['instance'] = dummy['toolname']\n",
    "\n",
    "tool_version_df = pd.concat([dummy, tool_version_df], axis=0).drop_duplicates().reset_index(drop=True)\n",
    "\n",
    "# display\n",
    "tool_version_df.head(3)"
   ]
  },
  {
   "cell_type": "code",
   "execution_count": 6,
   "metadata": {
    "execution": {
     "iopub.execute_input": "2022-04-08T03:10:07.156727Z",
     "iopub.status.busy": "2022-04-08T03:10:07.144652Z",
     "iopub.status.idle": "2022-04-08T03:10:37.206378Z",
     "shell.execute_reply": "2022-04-08T03:10:37.204925Z",
     "shell.execute_reply.started": "2022-04-08T03:10:07.156626Z"
    },
    "papermill": {
     "duration": 11.473066,
     "end_time": "2021-01-21T07:07:19.114688",
     "exception": false,
     "start_time": "2021-01-21T07:07:07.641622",
     "status": "completed"
    },
    "tags": [],
    "pycharm": {
     "name": "#%%\n"
    }
   },
   "outputs": [],
   "source": [
    "# merge toolname into toolstart\n",
    "df = pd.merge(toolstart_df, tool_version_df, how='left', left_on='instance', right_on='instance')[['user', 'toolname']]"
   ]
  },
  {
   "cell_type": "code",
   "execution_count": 7,
   "metadata": {
    "execution": {
     "iopub.execute_input": "2022-04-08T03:10:37.224965Z",
     "iopub.status.busy": "2022-04-08T03:10:37.223512Z",
     "iopub.status.idle": "2022-04-08T03:10:53.365475Z",
     "shell.execute_reply": "2022-04-08T03:10:53.363936Z",
     "shell.execute_reply.started": "2022-04-08T03:10:37.224890Z"
    },
    "papermill": {
     "duration": 9.023866,
     "end_time": "2021-01-21T07:07:28.177213",
     "exception": false,
     "start_time": "2021-01-21T07:07:19.153347",
     "status": "completed"
    },
    "tags": [],
    "pycharm": {
     "name": "#%%\n"
    }
   },
   "outputs": [],
   "source": [
    "# count number of tool runs by each user, each tool\n",
    "df = df.groupby(['user', 'toolname'])['toolname'].count().to_frame(name='cnt').reset_index()"
   ]
  },
  {
   "cell_type": "code",
   "execution_count": 8,
   "metadata": {
    "execution": {
     "iopub.execute_input": "2022-04-08T03:10:53.384420Z",
     "iopub.status.busy": "2022-04-08T03:10:53.383428Z",
     "iopub.status.idle": "2022-04-08T03:10:54.233184Z",
     "shell.execute_reply": "2022-04-08T03:10:54.229901Z",
     "shell.execute_reply.started": "2022-04-08T03:10:53.384353Z"
    },
    "papermill": {
     "duration": 0.284195,
     "end_time": "2021-01-21T07:07:28.481933",
     "exception": false,
     "start_time": "2021-01-21T07:07:28.197738",
     "status": "completed"
    },
    "tags": [],
    "pycharm": {
     "name": "#%%\n"
    }
   },
   "outputs": [
    {
     "data": {
      "text/html": [
       "<div>\n",
       "<style scoped>\n",
       "    .dataframe tbody tr th:only-of-type {\n",
       "        vertical-align: middle;\n",
       "    }\n",
       "\n",
       "    .dataframe tbody tr th {\n",
       "        vertical-align: top;\n",
       "    }\n",
       "\n",
       "    .dataframe thead th {\n",
       "        text-align: right;\n",
       "    }\n",
       "</style>\n",
       "<table border=\"1\" class=\"dataframe\">\n",
       "  <thead>\n",
       "    <tr style=\"text-align: right;\">\n",
       "      <th></th>\n",
       "      <th>user</th>\n",
       "      <th>toolname</th>\n",
       "      <th>cnt</th>\n",
       "    </tr>\n",
       "  </thead>\n",
       "  <tbody>\n",
       "    <tr>\n",
       "      <th>0</th>\n",
       "      <td></td>\n",
       "      <td></td>\n",
       "      <td>885</td>\n",
       "    </tr>\n",
       "    <tr>\n",
       "      <th>1</th>\n",
       "      <td>0.yao.yuan</td>\n",
       "      <td>mosfet</td>\n",
       "      <td>11</td>\n",
       "    </tr>\n",
       "    <tr>\n",
       "      <th>2</th>\n",
       "      <td>0.yao.yuan</td>\n",
       "      <td>mosfetsat</td>\n",
       "      <td>4</td>\n",
       "    </tr>\n",
       "  </tbody>\n",
       "</table>\n",
       "</div>"
      ],
      "text/plain": [
       "         user   toolname  cnt\n",
       "0                         885\n",
       "1  0.yao.yuan     mosfet   11\n",
       "2  0.yao.yuan  mosfetsat    4"
      ]
     },
     "execution_count": 8,
     "metadata": {},
     "output_type": "execute_result"
    }
   ],
   "source": [
    "# just in case some NaN values made through\n",
    "df = df[~df.user.isna()]\n",
    "df = df[~df.toolname.isna()]\n",
    "\n",
    "# display\n",
    "df.head(3)"
   ]
  },
  {
   "cell_type": "code",
   "execution_count": 9,
   "metadata": {
    "execution": {
     "iopub.execute_input": "2022-04-08T03:10:54.254364Z",
     "iopub.status.busy": "2022-04-08T03:10:54.252569Z",
     "iopub.status.idle": "2022-04-08T03:10:55.264579Z",
     "shell.execute_reply": "2022-04-08T03:10:55.261643Z",
     "shell.execute_reply.started": "2022-04-08T03:10:54.254199Z"
    },
    "tags": [],
    "pycharm": {
     "name": "#%%\n"
    }
   },
   "outputs": [
    {
     "data": {
      "text/html": [
       "<div>\n",
       "<style scoped>\n",
       "    .dataframe tbody tr th:only-of-type {\n",
       "        vertical-align: middle;\n",
       "    }\n",
       "\n",
       "    .dataframe tbody tr th {\n",
       "        vertical-align: top;\n",
       "    }\n",
       "\n",
       "    .dataframe thead th {\n",
       "        text-align: right;\n",
       "    }\n",
       "</style>\n",
       "<table border=\"1\" class=\"dataframe\">\n",
       "  <thead>\n",
       "    <tr style=\"text-align: right;\">\n",
       "      <th></th>\n",
       "      <th>user</th>\n",
       "      <th>toolname</th>\n",
       "      <th>cnt</th>\n",
       "    </tr>\n",
       "  </thead>\n",
       "  <tbody>\n",
       "    <tr>\n",
       "      <th>326760</th>\n",
       "      <td>pjs970918</td>\n",
       "      <td>semi</td>\n",
       "      <td>6</td>\n",
       "    </tr>\n",
       "  </tbody>\n",
       "</table>\n",
       "</div>"
      ],
      "text/plain": [
       "             user toolname  cnt\n",
       "326760  pjs970918     semi    6"
      ]
     },
     "metadata": {},
     "output_type": "display_data"
    },
    {
     "data": {
      "text/html": [
       "<div>\n",
       "<style scoped>\n",
       "    .dataframe tbody tr th:only-of-type {\n",
       "        vertical-align: middle;\n",
       "    }\n",
       "\n",
       "    .dataframe tbody tr th {\n",
       "        vertical-align: top;\n",
       "    }\n",
       "\n",
       "    .dataframe thead th {\n",
       "        text-align: right;\n",
       "    }\n",
       "</style>\n",
       "<table border=\"1\" class=\"dataframe\">\n",
       "  <thead>\n",
       "    <tr style=\"text-align: right;\">\n",
       "      <th></th>\n",
       "      <th>user</th>\n",
       "      <th>toolname</th>\n",
       "      <th>cnt</th>\n",
       "    </tr>\n",
       "  </thead>\n",
       "  <tbody>\n",
       "    <tr>\n",
       "      <th>454182</th>\n",
       "      <td>wodyd909</td>\n",
       "      <td>abacus</td>\n",
       "      <td>8</td>\n",
       "    </tr>\n",
       "  </tbody>\n",
       "</table>\n",
       "</div>"
      ],
      "text/plain": [
       "            user toolname  cnt\n",
       "454182  wodyd909   abacus    8"
      ]
     },
     "metadata": {},
     "output_type": "display_data"
    },
    {
     "data": {
      "text/html": [
       "<div>\n",
       "<style scoped>\n",
       "    .dataframe tbody tr th:only-of-type {\n",
       "        vertical-align: middle;\n",
       "    }\n",
       "\n",
       "    .dataframe tbody tr th {\n",
       "        vertical-align: top;\n",
       "    }\n",
       "\n",
       "    .dataframe thead th {\n",
       "        text-align: right;\n",
       "    }\n",
       "</style>\n",
       "<table border=\"1\" class=\"dataframe\">\n",
       "  <thead>\n",
       "    <tr style=\"text-align: right;\">\n",
       "      <th></th>\n",
       "      <th>user</th>\n",
       "      <th>toolname</th>\n",
       "      <th>cnt</th>\n",
       "    </tr>\n",
       "  </thead>\n",
       "  <tbody>\n",
       "    <tr>\n",
       "      <th>389279</th>\n",
       "      <td>shrutik</td>\n",
       "      <td>abacus</td>\n",
       "      <td>1</td>\n",
       "    </tr>\n",
       "  </tbody>\n",
       "</table>\n",
       "</div>"
      ],
      "text/plain": [
       "           user toolname  cnt\n",
       "389279  shrutik   abacus    1"
      ]
     },
     "metadata": {},
     "output_type": "display_data"
    }
   ],
   "source": [
    "display(df.loc[df['user'] == 'pjs970918'])\n",
    "display(df.loc[df['user'] == 'wodyd909'])\n",
    "display(df.loc[df['user'] == 'shrutik'])"
   ]
  },
  {
   "cell_type": "markdown",
   "metadata": {
    "papermill": {
     "duration": 0.035835,
     "end_time": "2021-01-21T07:07:28.541885",
     "exception": false,
     "start_time": "2021-01-21T07:07:28.506050",
     "status": "completed"
    },
    "tags": [],
    "pycharm": {
     "name": "#%% md\n"
    }
   },
   "source": [
    "## Obtain Salesforce IDs"
   ]
  },
  {
   "cell_type": "code",
   "execution_count": 10,
   "metadata": {
    "execution": {
     "iopub.execute_input": "2022-04-08T03:10:55.311721Z",
     "iopub.status.busy": "2022-04-08T03:10:55.310332Z",
     "iopub.status.idle": "2022-04-08T03:10:55.443455Z",
     "shell.execute_reply": "2022-04-08T03:10:55.440049Z",
     "shell.execute_reply.started": "2022-04-08T03:10:55.311638Z"
    },
    "papermill": {
     "duration": 5.119463,
     "end_time": "2021-01-21T07:07:33.674600",
     "exception": false,
     "start_time": "2021-01-21T07:07:28.555137",
     "status": "completed"
    },
    "tags": [],
    "pycharm": {
     "name": "#%%\n"
    }
   },
   "outputs": [],
   "source": [
    "# create DB2 to Salesforce API object"
   ]
  },
  {
   "cell_type": "code",
   "execution_count": 11,
   "metadata": {
    "execution": {
     "iopub.execute_input": "2022-04-08T03:10:55.474671Z",
     "iopub.status.busy": "2022-04-08T03:10:55.472141Z",
     "iopub.status.idle": "2022-04-08T03:11:13.302742Z",
     "shell.execute_reply": "2022-04-08T03:11:13.299645Z",
     "shell.execute_reply.started": "2022-04-08T03:10:55.474545Z"
    },
    "papermill": {
     "duration": 14.830485,
     "end_time": "2021-01-21T07:07:48.523992",
     "exception": false,
     "start_time": "2021-01-21T07:07:33.693507",
     "status": "completed"
    },
    "tags": [],
    "pycharm": {
     "name": "#%%\n"
    }
   },
   "outputs": [
    {
     "name": "stdout",
     "output_type": "stream",
     "text": [
      "[Success] Bulk job creation successful. Job ID = 7508W00000f5uhUQAQ\n",
      "{\"id\":\"7508W00000f5uhUQAQ\",\"operation\":\"query\",\"object\":\"Contact\",\"createdById\":\"0055w00000DM5bOAAT\",\"createdDate\":\"2022-04-08T03:10:56.000+0000\",\"systemModstamp\":\"2022-04-08T03:10:56.000+0000\",\"state\":\"InProgress\",\"concurrencyMode\":\"Parallel\",\"contentType\":\"CSV\",\"apiVersion\":47.0,\"jobType\":\"V2Query\",\"lineEnding\":\"LF\",\"columnDelimiter\":\"COMMA\",\"numberRecordsProcessed\":0,\"retries\":0,\"totalProcessingTime\":0}\n",
      "{\"id\":\"7508W00000f5uhUQAQ\",\"operation\":\"query\",\"object\":\"Contact\",\"createdById\":\"0055w00000DM5bOAAT\",\"createdDate\":\"2022-04-08T03:10:56.000+0000\",\"systemModstamp\":\"2022-04-08T03:11:06.000+0000\",\"state\":\"JobComplete\",\"concurrencyMode\":\"Parallel\",\"contentType\":\"CSV\",\"apiVersion\":47.0,\"jobType\":\"V2Query\",\"lineEnding\":\"LF\",\"columnDelimiter\":\"COMMA\",\"numberRecordsProcessed\":277656,\"retries\":0,\"totalProcessingTime\":10164}\n",
      "[Success] Bulk job completed successfully.\n"
     ]
    },
    {
     "data": {
      "text/html": [
       "<div>\n",
       "<style scoped>\n",
       "    .dataframe tbody tr th:only-of-type {\n",
       "        vertical-align: middle;\n",
       "    }\n",
       "\n",
       "    .dataframe tbody tr th {\n",
       "        vertical-align: top;\n",
       "    }\n",
       "\n",
       "    .dataframe thead th {\n",
       "        text-align: right;\n",
       "    }\n",
       "</style>\n",
       "<table border=\"1\" class=\"dataframe\">\n",
       "  <thead>\n",
       "    <tr style=\"text-align: right;\">\n",
       "      <th></th>\n",
       "      <th>Id</th>\n",
       "      <th>nanoHUB_username__c</th>\n",
       "    </tr>\n",
       "  </thead>\n",
       "  <tbody>\n",
       "    <tr>\n",
       "      <th>0</th>\n",
       "      <td>0035w000031Vsp1AAC</td>\n",
       "      <td>hubrepo</td>\n",
       "    </tr>\n",
       "    <tr>\n",
       "      <th>1</th>\n",
       "      <td>0035w000031Vsp2AAC</td>\n",
       "      <td>support</td>\n",
       "    </tr>\n",
       "    <tr>\n",
       "      <th>2</th>\n",
       "      <td>0035w000031Vsp3AAC</td>\n",
       "      <td>gridstat</td>\n",
       "    </tr>\n",
       "  </tbody>\n",
       "</table>\n",
       "</div>"
      ],
      "text/plain": [
       "                   Id nanoHUB_username__c\n",
       "0  0035w000031Vsp1AAC             hubrepo\n",
       "1  0035w000031Vsp2AAC             support\n",
       "2  0035w000031Vsp3AAC            gridstat"
      ]
     },
     "execution_count": 11,
     "metadata": {},
     "output_type": "execute_result"
    }
   ],
   "source": [
    "# query the Salesforce IDs for contacts and citations. when updating junction objects, these IDs must be used\n",
    "\n",
    "# get Salesforce ID for contacts\n",
    "sf_username_df = db_s.query_data('SELECT Id, nanoHUB_username__c FROM Contact where nanoHUB_username__c != NULL')\n",
    "\n",
    "# display\n",
    "sf_username_df.head(3)"
   ]
  },
  {
   "cell_type": "code",
   "execution_count": 12,
   "metadata": {
    "execution": {
     "iopub.execute_input": "2022-04-08T03:11:13.475427Z",
     "iopub.status.busy": "2022-04-08T03:11:13.471974Z",
     "iopub.status.idle": "2022-04-08T03:11:13.538635Z",
     "shell.execute_reply": "2022-04-08T03:11:13.535451Z",
     "shell.execute_reply.started": "2022-04-08T03:11:13.475332Z"
    },
    "pycharm": {
     "name": "#%%\n"
    }
   },
   "outputs": [
    {
     "data": {
      "text/html": [
       "<div>\n",
       "<style scoped>\n",
       "    .dataframe tbody tr th:only-of-type {\n",
       "        vertical-align: middle;\n",
       "    }\n",
       "\n",
       "    .dataframe tbody tr th {\n",
       "        vertical-align: top;\n",
       "    }\n",
       "\n",
       "    .dataframe thead th {\n",
       "        text-align: right;\n",
       "    }\n",
       "</style>\n",
       "<table border=\"1\" class=\"dataframe\">\n",
       "  <thead>\n",
       "    <tr style=\"text-align: right;\">\n",
       "      <th></th>\n",
       "      <th>Id</th>\n",
       "      <th>nanoHUB_username__c</th>\n",
       "    </tr>\n",
       "  </thead>\n",
       "  <tbody>\n",
       "    <tr>\n",
       "      <th>252212</th>\n",
       "      <td>0035w00003YY1KCAA1</td>\n",
       "      <td>-185514</td>\n",
       "    </tr>\n",
       "    <tr>\n",
       "      <th>252213</th>\n",
       "      <td>0035w00003YY1KDAA1</td>\n",
       "      <td>nxp790</td>\n",
       "    </tr>\n",
       "    <tr>\n",
       "      <th>252214</th>\n",
       "      <td>0035w00003YY1KEAA1</td>\n",
       "      <td>lng35</td>\n",
       "    </tr>\n",
       "    <tr>\n",
       "      <th>252215</th>\n",
       "      <td>0035w00003YY1KFAA1</td>\n",
       "      <td>agrawalmahima361</td>\n",
       "    </tr>\n",
       "    <tr>\n",
       "      <th>252216</th>\n",
       "      <td>0035w00003YY1KGAA1</td>\n",
       "      <td>eee_aiub</td>\n",
       "    </tr>\n",
       "  </tbody>\n",
       "</table>\n",
       "</div>"
      ],
      "text/plain": [
       "                        Id nanoHUB_username__c\n",
       "252212  0035w00003YY1KCAA1             -185514\n",
       "252213  0035w00003YY1KDAA1              nxp790\n",
       "252214  0035w00003YY1KEAA1               lng35\n",
       "252215  0035w00003YY1KFAA1    agrawalmahima361\n",
       "252216  0035w00003YY1KGAA1            eee_aiub"
      ]
     },
     "execution_count": 12,
     "metadata": {},
     "output_type": "execute_result"
    }
   ],
   "source": [
    "sf_username_df.tail()"
   ]
  },
  {
   "cell_type": "code",
   "execution_count": 13,
   "metadata": {
    "execution": {
     "iopub.execute_input": "2022-04-08T03:11:13.567768Z",
     "iopub.status.busy": "2022-04-08T03:11:13.559842Z",
     "iopub.status.idle": "2022-04-08T03:11:13.824036Z",
     "shell.execute_reply": "2022-04-08T03:11:13.822522Z",
     "shell.execute_reply.started": "2022-04-08T03:11:13.567427Z"
    },
    "tags": [],
    "pycharm": {
     "name": "#%%\n"
    }
   },
   "outputs": [
    {
     "data": {
      "text/html": [
       "<div>\n",
       "<style scoped>\n",
       "    .dataframe tbody tr th:only-of-type {\n",
       "        vertical-align: middle;\n",
       "    }\n",
       "\n",
       "    .dataframe tbody tr th {\n",
       "        vertical-align: top;\n",
       "    }\n",
       "\n",
       "    .dataframe thead th {\n",
       "        text-align: right;\n",
       "    }\n",
       "</style>\n",
       "<table border=\"1\" class=\"dataframe\">\n",
       "  <thead>\n",
       "    <tr style=\"text-align: right;\">\n",
       "      <th></th>\n",
       "      <th>Id</th>\n",
       "      <th>nanoHUB_username__c</th>\n",
       "    </tr>\n",
       "  </thead>\n",
       "  <tbody>\n",
       "  </tbody>\n",
       "</table>\n",
       "</div>"
      ],
      "text/plain": [
       "Empty DataFrame\n",
       "Columns: [Id, nanoHUB_username__c]\n",
       "Index: []"
      ]
     },
     "metadata": {},
     "output_type": "display_data"
    },
    {
     "data": {
      "text/html": [
       "<div>\n",
       "<style scoped>\n",
       "    .dataframe tbody tr th:only-of-type {\n",
       "        vertical-align: middle;\n",
       "    }\n",
       "\n",
       "    .dataframe tbody tr th {\n",
       "        vertical-align: top;\n",
       "    }\n",
       "\n",
       "    .dataframe thead th {\n",
       "        text-align: right;\n",
       "    }\n",
       "</style>\n",
       "<table border=\"1\" class=\"dataframe\">\n",
       "  <thead>\n",
       "    <tr style=\"text-align: right;\">\n",
       "      <th></th>\n",
       "      <th>Id</th>\n",
       "      <th>nanoHUB_username__c</th>\n",
       "    </tr>\n",
       "  </thead>\n",
       "  <tbody>\n",
       "  </tbody>\n",
       "</table>\n",
       "</div>"
      ],
      "text/plain": [
       "Empty DataFrame\n",
       "Columns: [Id, nanoHUB_username__c]\n",
       "Index: []"
      ]
     },
     "metadata": {},
     "output_type": "display_data"
    },
    {
     "data": {
      "text/html": [
       "<div>\n",
       "<style scoped>\n",
       "    .dataframe tbody tr th:only-of-type {\n",
       "        vertical-align: middle;\n",
       "    }\n",
       "\n",
       "    .dataframe tbody tr th {\n",
       "        vertical-align: top;\n",
       "    }\n",
       "\n",
       "    .dataframe thead th {\n",
       "        text-align: right;\n",
       "    }\n",
       "</style>\n",
       "<table border=\"1\" class=\"dataframe\">\n",
       "  <thead>\n",
       "    <tr style=\"text-align: right;\">\n",
       "      <th></th>\n",
       "      <th>Id</th>\n",
       "      <th>nanoHUB_username__c</th>\n",
       "    </tr>\n",
       "  </thead>\n",
       "  <tbody>\n",
       "  </tbody>\n",
       "</table>\n",
       "</div>"
      ],
      "text/plain": [
       "Empty DataFrame\n",
       "Columns: [Id, nanoHUB_username__c]\n",
       "Index: []"
      ]
     },
     "metadata": {},
     "output_type": "display_data"
    }
   ],
   "source": [
    "display(sf_username_df.loc[sf_username_df['nanoHUB_username__c'] == 'pjs970918'])\n",
    "display(sf_username_df.loc[sf_username_df['nanoHUB_username__c'] == 'wodyd909'])\n",
    "display(sf_username_df.loc[sf_username_df['nanoHUB_username__c'] == 'shrutik'])"
   ]
  },
  {
   "cell_type": "code",
   "execution_count": 14,
   "metadata": {
    "execution": {
     "iopub.execute_input": "2022-04-08T03:11:13.849526Z",
     "iopub.status.busy": "2022-04-08T03:11:13.841755Z",
     "iopub.status.idle": "2022-04-08T03:11:18.256364Z",
     "shell.execute_reply": "2022-04-08T03:11:18.250645Z",
     "shell.execute_reply.started": "2022-04-08T03:11:13.849366Z"
    },
    "papermill": {
     "duration": 12.021683,
     "end_time": "2021-01-21T07:08:00.560659",
     "exception": false,
     "start_time": "2021-01-21T07:07:48.538976",
     "status": "completed"
    },
    "tags": [],
    "pycharm": {
     "name": "#%%\n"
    }
   },
   "outputs": [
    {
     "name": "stdout",
     "output_type": "stream",
     "text": [
      "[Success] Bulk job creation successful. Job ID = 7508W00000f5uhjQAA\n",
      "{\"id\":\"7508W00000f5uhjQAA\",\"operation\":\"query\",\"object\":\"nanoHUB_tools__c\",\"createdById\":\"0055w00000DM5bOAAT\",\"createdDate\":\"2022-04-08T03:11:15.000+0000\",\"systemModstamp\":\"2022-04-08T03:11:16.000+0000\",\"state\":\"JobComplete\",\"concurrencyMode\":\"Parallel\",\"contentType\":\"CSV\",\"apiVersion\":47.0,\"jobType\":\"V2Query\",\"lineEnding\":\"LF\",\"columnDelimiter\":\"COMMA\",\"numberRecordsProcessed\":1878,\"retries\":0,\"totalProcessingTime\":230}\n",
      "[Success] Bulk job completed successfully.\n"
     ]
    },
    {
     "data": {
      "text/html": [
       "<div>\n",
       "<style scoped>\n",
       "    .dataframe tbody tr th:only-of-type {\n",
       "        vertical-align: middle;\n",
       "    }\n",
       "\n",
       "    .dataframe tbody tr th {\n",
       "        vertical-align: top;\n",
       "    }\n",
       "\n",
       "    .dataframe thead th {\n",
       "        text-align: right;\n",
       "    }\n",
       "</style>\n",
       "<table border=\"1\" class=\"dataframe\">\n",
       "  <thead>\n",
       "    <tr style=\"text-align: right;\">\n",
       "      <th></th>\n",
       "      <th>Id</th>\n",
       "      <th>Tool_name__c</th>\n",
       "    </tr>\n",
       "  </thead>\n",
       "  <tbody>\n",
       "    <tr>\n",
       "      <th>0</th>\n",
       "      <td>a0s5w00000k5MOwAAM</td>\n",
       "      <td>ellipsom</td>\n",
       "    </tr>\n",
       "    <tr>\n",
       "      <th>1</th>\n",
       "      <td>a0s5w00000k5MOxAAM</td>\n",
       "      <td>hydrolab</td>\n",
       "    </tr>\n",
       "    <tr>\n",
       "      <th>2</th>\n",
       "      <td>a0s5w00000k5MOyAAM</td>\n",
       "      <td>huckel</td>\n",
       "    </tr>\n",
       "  </tbody>\n",
       "</table>\n",
       "</div>"
      ],
      "text/plain": [
       "                   Id Tool_name__c\n",
       "0  a0s5w00000k5MOwAAM     ellipsom\n",
       "1  a0s5w00000k5MOxAAM     hydrolab\n",
       "2  a0s5w00000k5MOyAAM       huckel"
      ]
     },
     "execution_count": 14,
     "metadata": {},
     "output_type": "execute_result"
    }
   ],
   "source": [
    "# get Salesforce ID for citations\n",
    "sf_tool_df = db_s.query_data('SELECT Id, Tool_name__c FROM nanoHUB_tools__c')\n",
    "\n",
    "# display\n",
    "sf_tool_df.head(3)"
   ]
  },
  {
   "cell_type": "markdown",
   "metadata": {
    "papermill": {
     "duration": 0.01671,
     "end_time": "2021-01-21T07:08:00.594258",
     "exception": false,
     "start_time": "2021-01-21T07:08:00.577548",
     "status": "completed"
    },
    "tags": [],
    "pycharm": {
     "name": "#%% md\n"
    }
   },
   "source": [
    "## Match data with Salesforce format"
   ]
  },
  {
   "cell_type": "code",
   "execution_count": 15,
   "metadata": {
    "execution": {
     "iopub.execute_input": "2022-04-08T03:11:18.278155Z",
     "iopub.status.busy": "2022-04-08T03:11:18.273362Z",
     "iopub.status.idle": "2022-04-08T03:11:18.532240Z",
     "shell.execute_reply": "2022-04-08T03:11:18.511589Z",
     "shell.execute_reply.started": "2022-04-08T03:11:18.278049Z"
    },
    "papermill": {
     "duration": 0.156842,
     "end_time": "2021-01-21T07:08:00.767047",
     "exception": false,
     "start_time": "2021-01-21T07:08:00.610205",
     "status": "completed"
    },
    "tags": [],
    "pycharm": {
     "name": "#%%\n"
    }
   },
   "outputs": [],
   "source": [
    "# make sure all strings are lower cases\n",
    "\n",
    "sf_username_df['nanoHUB_username__c'] = sf_username_df['nanoHUB_username__c'].astype('str').apply(str.lower)\n",
    "\n",
    "sf_tool_df['Tool_name__c'] = sf_tool_df['Tool_name__c'].astype('str').apply(str.lower)"
   ]
  },
  {
   "cell_type": "code",
   "execution_count": 16,
   "metadata": {
    "execution": {
     "iopub.execute_input": "2022-04-08T03:11:18.593843Z",
     "iopub.status.busy": "2022-04-08T03:11:18.589088Z",
     "iopub.status.idle": "2022-04-08T03:11:19.957386Z",
     "shell.execute_reply": "2022-04-08T03:11:19.943906Z",
     "shell.execute_reply.started": "2022-04-08T03:11:18.593316Z"
    },
    "papermill": {
     "duration": 1.173232,
     "end_time": "2021-01-21T07:08:01.956665",
     "exception": false,
     "start_time": "2021-01-21T07:08:00.783433",
     "status": "completed"
    },
    "tags": [],
    "pycharm": {
     "name": "#%%\n"
    }
   },
   "outputs": [
    {
     "data": {
      "text/html": [
       "<div>\n",
       "<style scoped>\n",
       "    .dataframe tbody tr th:only-of-type {\n",
       "        vertical-align: middle;\n",
       "    }\n",
       "\n",
       "    .dataframe tbody tr th {\n",
       "        vertical-align: top;\n",
       "    }\n",
       "\n",
       "    .dataframe thead th {\n",
       "        text-align: right;\n",
       "    }\n",
       "</style>\n",
       "<table border=\"1\" class=\"dataframe\">\n",
       "  <thead>\n",
       "    <tr style=\"text-align: right;\">\n",
       "      <th></th>\n",
       "      <th>user</th>\n",
       "      <th>toolname</th>\n",
       "      <th>cnt</th>\n",
       "      <th>SF_ID_tool</th>\n",
       "      <th>Tool_name__c</th>\n",
       "    </tr>\n",
       "  </thead>\n",
       "  <tbody>\n",
       "    <tr>\n",
       "      <th>0</th>\n",
       "      <td>0.yao.yuan</td>\n",
       "      <td>mosfet</td>\n",
       "      <td>11</td>\n",
       "      <td>a0s5w00000k5MPbAAM</td>\n",
       "      <td>mosfet</td>\n",
       "    </tr>\n",
       "    <tr>\n",
       "      <th>1</th>\n",
       "      <td>01024461660a</td>\n",
       "      <td>mosfet</td>\n",
       "      <td>90</td>\n",
       "      <td>a0s5w00000k5MPbAAM</td>\n",
       "      <td>mosfet</td>\n",
       "    </tr>\n",
       "  </tbody>\n",
       "</table>\n",
       "</div>"
      ],
      "text/plain": [
       "           user toolname  cnt          SF_ID_tool Tool_name__c\n",
       "0    0.yao.yuan   mosfet   11  a0s5w00000k5MPbAAM       mosfet\n",
       "1  01024461660a   mosfet   90  a0s5w00000k5MPbAAM       mosfet"
      ]
     },
     "execution_count": 16,
     "metadata": {},
     "output_type": "execute_result"
    }
   ],
   "source": [
    "# merge SF citation and contact IDs into user-citation DF\n",
    "ct_tolink_df = pd.merge(df, sf_tool_df, how='inner', left_on='toolname', right_on='Tool_name__c')\\\n",
    "                           .rename(columns={'Id':'SF_ID_tool'})\n",
    "                                            \n",
    "\n",
    "# display\n",
    "ct_tolink_df.head(2)"
   ]
  },
  {
   "cell_type": "code",
   "execution_count": 17,
   "metadata": {
    "execution": {
     "iopub.execute_input": "2022-04-08T03:11:19.993260Z",
     "iopub.status.busy": "2022-04-08T03:11:19.992496Z",
     "iopub.status.idle": "2022-04-08T03:11:22.863485Z",
     "shell.execute_reply": "2022-04-08T03:11:22.860018Z",
     "shell.execute_reply.started": "2022-04-08T03:11:19.993075Z"
    },
    "pycharm": {
     "name": "#%%\n"
    }
   },
   "outputs": [
    {
     "data": {
      "text/html": [
       "<div>\n",
       "<style scoped>\n",
       "    .dataframe tbody tr th:only-of-type {\n",
       "        vertical-align: middle;\n",
       "    }\n",
       "\n",
       "    .dataframe tbody tr th {\n",
       "        vertical-align: top;\n",
       "    }\n",
       "\n",
       "    .dataframe thead th {\n",
       "        text-align: right;\n",
       "    }\n",
       "</style>\n",
       "<table border=\"1\" class=\"dataframe\">\n",
       "  <thead>\n",
       "    <tr style=\"text-align: right;\">\n",
       "      <th></th>\n",
       "      <th>user</th>\n",
       "      <th>toolname</th>\n",
       "      <th>cnt</th>\n",
       "      <th>SF_ID_tool</th>\n",
       "      <th>Tool_name__c</th>\n",
       "      <th>SF_ID_contact</th>\n",
       "      <th>nanoHUB_username__c</th>\n",
       "    </tr>\n",
       "  </thead>\n",
       "  <tbody>\n",
       "    <tr>\n",
       "      <th>0</th>\n",
       "      <td>0.yao.yuan</td>\n",
       "      <td>mosfet</td>\n",
       "      <td>11</td>\n",
       "      <td>a0s5w00000k5MPbAAM</td>\n",
       "      <td>mosfet</td>\n",
       "      <td>0035w000034IX15AAG</td>\n",
       "      <td>0.yao.yuan</td>\n",
       "    </tr>\n",
       "    <tr>\n",
       "      <th>1</th>\n",
       "      <td>0.yao.yuan</td>\n",
       "      <td>mosfetsat</td>\n",
       "      <td>4</td>\n",
       "      <td>a0s5w00000k5Mc5AAE</td>\n",
       "      <td>mosfetsat</td>\n",
       "      <td>0035w000034IX15AAG</td>\n",
       "      <td>0.yao.yuan</td>\n",
       "    </tr>\n",
       "  </tbody>\n",
       "</table>\n",
       "</div>"
      ],
      "text/plain": [
       "         user   toolname  cnt          SF_ID_tool Tool_name__c  \\\n",
       "0  0.yao.yuan     mosfet   11  a0s5w00000k5MPbAAM       mosfet   \n",
       "1  0.yao.yuan  mosfetsat    4  a0s5w00000k5Mc5AAE    mosfetsat   \n",
       "\n",
       "        SF_ID_contact nanoHUB_username__c  \n",
       "0  0035w000034IX15AAG          0.yao.yuan  \n",
       "1  0035w000034IX15AAG          0.yao.yuan  "
      ]
     },
     "execution_count": 17,
     "metadata": {},
     "output_type": "execute_result"
    }
   ],
   "source": [
    "ct_tolink_df = pd.merge(ct_tolink_df, sf_username_df, how='inner', left_on='user', right_on='nanoHUB_username__c')\\\n",
    "                           .rename(columns={'Id':'SF_ID_contact'})\n",
    "\n",
    "# display\n",
    "ct_tolink_df.head(2)"
   ]
  },
  {
   "cell_type": "code",
   "execution_count": 18,
   "metadata": {
    "execution": {
     "iopub.execute_input": "2022-04-08T03:11:22.913407Z",
     "iopub.status.busy": "2022-04-08T03:11:22.910599Z",
     "iopub.status.idle": "2022-04-08T03:11:23.643669Z",
     "shell.execute_reply": "2022-04-08T03:11:23.641015Z",
     "shell.execute_reply.started": "2022-04-08T03:11:22.912143Z"
    },
    "tags": [],
    "pycharm": {
     "name": "#%%\n"
    }
   },
   "outputs": [
    {
     "data": {
      "text/html": [
       "<div>\n",
       "<style scoped>\n",
       "    .dataframe tbody tr th:only-of-type {\n",
       "        vertical-align: middle;\n",
       "    }\n",
       "\n",
       "    .dataframe tbody tr th {\n",
       "        vertical-align: top;\n",
       "    }\n",
       "\n",
       "    .dataframe thead th {\n",
       "        text-align: right;\n",
       "    }\n",
       "</style>\n",
       "<table border=\"1\" class=\"dataframe\">\n",
       "  <thead>\n",
       "    <tr style=\"text-align: right;\">\n",
       "      <th></th>\n",
       "      <th>user</th>\n",
       "      <th>toolname</th>\n",
       "      <th>cnt</th>\n",
       "      <th>SF_ID_tool</th>\n",
       "      <th>Tool_name__c</th>\n",
       "      <th>SF_ID_contact</th>\n",
       "      <th>nanoHUB_username__c</th>\n",
       "    </tr>\n",
       "  </thead>\n",
       "  <tbody>\n",
       "  </tbody>\n",
       "</table>\n",
       "</div>"
      ],
      "text/plain": [
       "Empty DataFrame\n",
       "Columns: [user, toolname, cnt, SF_ID_tool, Tool_name__c, SF_ID_contact, nanoHUB_username__c]\n",
       "Index: []"
      ]
     },
     "metadata": {},
     "output_type": "display_data"
    },
    {
     "data": {
      "text/html": [
       "<div>\n",
       "<style scoped>\n",
       "    .dataframe tbody tr th:only-of-type {\n",
       "        vertical-align: middle;\n",
       "    }\n",
       "\n",
       "    .dataframe tbody tr th {\n",
       "        vertical-align: top;\n",
       "    }\n",
       "\n",
       "    .dataframe thead th {\n",
       "        text-align: right;\n",
       "    }\n",
       "</style>\n",
       "<table border=\"1\" class=\"dataframe\">\n",
       "  <thead>\n",
       "    <tr style=\"text-align: right;\">\n",
       "      <th></th>\n",
       "      <th>user</th>\n",
       "      <th>toolname</th>\n",
       "      <th>cnt</th>\n",
       "      <th>SF_ID_tool</th>\n",
       "      <th>Tool_name__c</th>\n",
       "      <th>SF_ID_contact</th>\n",
       "      <th>nanoHUB_username__c</th>\n",
       "    </tr>\n",
       "  </thead>\n",
       "  <tbody>\n",
       "  </tbody>\n",
       "</table>\n",
       "</div>"
      ],
      "text/plain": [
       "Empty DataFrame\n",
       "Columns: [user, toolname, cnt, SF_ID_tool, Tool_name__c, SF_ID_contact, nanoHUB_username__c]\n",
       "Index: []"
      ]
     },
     "metadata": {},
     "output_type": "display_data"
    },
    {
     "data": {
      "text/html": [
       "<div>\n",
       "<style scoped>\n",
       "    .dataframe tbody tr th:only-of-type {\n",
       "        vertical-align: middle;\n",
       "    }\n",
       "\n",
       "    .dataframe tbody tr th {\n",
       "        vertical-align: top;\n",
       "    }\n",
       "\n",
       "    .dataframe thead th {\n",
       "        text-align: right;\n",
       "    }\n",
       "</style>\n",
       "<table border=\"1\" class=\"dataframe\">\n",
       "  <thead>\n",
       "    <tr style=\"text-align: right;\">\n",
       "      <th></th>\n",
       "      <th>user</th>\n",
       "      <th>toolname</th>\n",
       "      <th>cnt</th>\n",
       "      <th>SF_ID_tool</th>\n",
       "      <th>Tool_name__c</th>\n",
       "      <th>SF_ID_contact</th>\n",
       "      <th>nanoHUB_username__c</th>\n",
       "    </tr>\n",
       "  </thead>\n",
       "  <tbody>\n",
       "  </tbody>\n",
       "</table>\n",
       "</div>"
      ],
      "text/plain": [
       "Empty DataFrame\n",
       "Columns: [user, toolname, cnt, SF_ID_tool, Tool_name__c, SF_ID_contact, nanoHUB_username__c]\n",
       "Index: []"
      ]
     },
     "metadata": {},
     "output_type": "display_data"
    }
   ],
   "source": [
    "display(ct_tolink_df.loc[ct_tolink_df['user'] == 'pjs970918'])\n",
    "display(ct_tolink_df.loc[ct_tolink_df['user'] == 'wodyd909'])\n",
    "display(ct_tolink_df.loc[ct_tolink_df['user'] == 'shrutik'])"
   ]
  },
  {
   "cell_type": "code",
   "execution_count": 19,
   "metadata": {
    "execution": {
     "iopub.execute_input": "2022-04-08T03:11:23.673064Z",
     "iopub.status.busy": "2022-04-08T03:11:23.665595Z",
     "iopub.status.idle": "2022-04-08T03:12:20.518681Z",
     "shell.execute_reply": "2022-04-08T03:12:20.503610Z",
     "shell.execute_reply.started": "2022-04-08T03:11:23.672398Z"
    },
    "papermill": {
     "duration": 13.717554,
     "end_time": "2021-01-21T07:08:15.690713",
     "exception": false,
     "start_time": "2021-01-21T07:08:01.973159",
     "status": "completed"
    },
    "tags": [],
    "pycharm": {
     "name": "#%%\n"
    }
   },
   "outputs": [],
   "source": [
    "# create a new column for object name\n",
    "ct_tolink_df['Name'] = ct_tolink_df.apply(lambda x: '%s_%s'%(x.nanoHUB_username__c, x.Tool_name__c), axis=1)"
   ]
  },
  {
   "cell_type": "code",
   "execution_count": 20,
   "metadata": {
    "execution": {
     "iopub.execute_input": "2022-04-08T03:12:20.657996Z",
     "iopub.status.busy": "2022-04-08T03:12:20.637186Z",
     "iopub.status.idle": "2022-04-08T03:12:21.027864Z",
     "shell.execute_reply": "2022-04-08T03:12:21.016032Z",
     "shell.execute_reply.started": "2022-04-08T03:12:20.657769Z"
    },
    "papermill": {
     "duration": 0.140412,
     "end_time": "2021-01-21T07:08:15.848772",
     "exception": false,
     "start_time": "2021-01-21T07:08:15.708360",
     "status": "completed"
    },
    "tags": [],
    "pycharm": {
     "name": "#%%\n"
    }
   },
   "outputs": [
    {
     "data": {
      "text/html": [
       "<div>\n",
       "<style scoped>\n",
       "    .dataframe tbody tr th:only-of-type {\n",
       "        vertical-align: middle;\n",
       "    }\n",
       "\n",
       "    .dataframe tbody tr th {\n",
       "        vertical-align: top;\n",
       "    }\n",
       "\n",
       "    .dataframe thead th {\n",
       "        text-align: right;\n",
       "    }\n",
       "</style>\n",
       "<table border=\"1\" class=\"dataframe\">\n",
       "  <thead>\n",
       "    <tr style=\"text-align: right;\">\n",
       "      <th></th>\n",
       "      <th>0</th>\n",
       "      <th>1</th>\n",
       "    </tr>\n",
       "  </thead>\n",
       "  <tbody>\n",
       "    <tr>\n",
       "      <th>Name</th>\n",
       "      <td>0.yao.yuan_mosfet</td>\n",
       "      <td>0.yao.yuan_mosfetsat</td>\n",
       "    </tr>\n",
       "    <tr>\n",
       "      <th>Contact__c</th>\n",
       "      <td>0035w000034IX15AAG</td>\n",
       "      <td>0035w000034IX15AAG</td>\n",
       "    </tr>\n",
       "    <tr>\n",
       "      <th>Tool__c</th>\n",
       "      <td>a0s5w00000k5MPbAAM</td>\n",
       "      <td>a0s5w00000k5Mc5AAE</td>\n",
       "    </tr>\n",
       "    <tr>\n",
       "      <th>Total_Runs__c</th>\n",
       "      <td>11</td>\n",
       "      <td>4</td>\n",
       "    </tr>\n",
       "  </tbody>\n",
       "</table>\n",
       "</div>"
      ],
      "text/plain": [
       "                                0                     1\n",
       "Name            0.yao.yuan_mosfet  0.yao.yuan_mosfetsat\n",
       "Contact__c     0035w000034IX15AAG    0035w000034IX15AAG\n",
       "Tool__c        a0s5w00000k5MPbAAM    a0s5w00000k5Mc5AAE\n",
       "Total_Runs__c                  11                     4"
      ]
     },
     "execution_count": 20,
     "metadata": {},
     "output_type": "execute_result"
    }
   ],
   "source": [
    "df_sf = pd.DataFrame()\n",
    "\n",
    "# Make sure NaN and NaT values are taken care of here\n",
    "df_sf['Name']         = ct_tolink_df['Name']\n",
    "df_sf['Contact__c'] = ct_tolink_df['SF_ID_contact']\n",
    "df_sf['Tool__c']       = ct_tolink_df['SF_ID_tool']\n",
    "df_sf['Total_Runs__c'] = ct_tolink_df['cnt']\n",
    "sf_original_fields = df_sf.columns\n",
    "\n",
    "# display\n",
    "df_sf.head(2).T"
   ]
  },
  {
   "cell_type": "code",
   "execution_count": 21,
   "metadata": {
    "execution": {
     "iopub.execute_input": "2022-04-08T03:12:21.037617Z",
     "iopub.status.busy": "2022-04-08T03:12:21.036049Z",
     "iopub.status.idle": "2022-04-08T03:12:21.764785Z",
     "shell.execute_reply": "2022-04-08T03:12:21.751786Z",
     "shell.execute_reply.started": "2022-04-08T03:12:21.037513Z"
    },
    "pycharm": {
     "name": "#%%\n"
    }
   },
   "outputs": [
    {
     "data": {
      "text/html": [
       "<div>\n",
       "<style scoped>\n",
       "    .dataframe tbody tr th:only-of-type {\n",
       "        vertical-align: middle;\n",
       "    }\n",
       "\n",
       "    .dataframe tbody tr th {\n",
       "        vertical-align: top;\n",
       "    }\n",
       "\n",
       "    .dataframe thead th {\n",
       "        text-align: right;\n",
       "    }\n",
       "</style>\n",
       "<table border=\"1\" class=\"dataframe\">\n",
       "  <thead>\n",
       "    <tr style=\"text-align: right;\">\n",
       "      <th></th>\n",
       "      <th>Name</th>\n",
       "      <th>Contact__c</th>\n",
       "      <th>Tool__c</th>\n",
       "      <th>Total_Runs__c</th>\n",
       "    </tr>\n",
       "  </thead>\n",
       "  <tbody>\n",
       "  </tbody>\n",
       "</table>\n",
       "</div>"
      ],
      "text/plain": [
       "Empty DataFrame\n",
       "Columns: [Name, Contact__c, Tool__c, Total_Runs__c]\n",
       "Index: []"
      ]
     },
     "metadata": {},
     "output_type": "display_data"
    }
   ],
   "source": [
    "display(df_sf.loc[df_sf['Contact__c'] == '362377'])\n",
    "# display(df_sf.loc[df_sf['Contact__c'] == 'wodyd909'])\n",
    "# display(df_sf.loc[df_sf['Contact__c'] == 'nkissebe'])"
   ]
  },
  {
   "cell_type": "markdown",
   "metadata": {
    "papermill": {
     "duration": 0.016407,
     "end_time": "2021-01-21T07:08:15.881766",
     "exception": false,
     "start_time": "2021-01-21T07:08:15.865359",
     "status": "completed"
    },
    "tags": [],
    "pycharm": {
     "name": "#%% md\n"
    }
   },
   "source": [
    "## To Salesforce Sales Cloud CRM"
   ]
  },
  {
   "cell_type": "code",
   "execution_count": 22,
   "metadata": {
    "execution": {
     "iopub.execute_input": "2022-04-08T03:12:21.832311Z",
     "iopub.status.busy": "2022-04-08T03:12:21.819721Z",
     "iopub.status.idle": "2022-04-08T03:12:21.985268Z",
     "shell.execute_reply": "2022-04-08T03:12:21.952956Z",
     "shell.execute_reply.started": "2022-04-08T03:12:21.830665Z"
    },
    "papermill": {
     "duration": 0.42769,
     "end_time": "2021-01-21T07:08:16.325615",
     "exception": false,
     "start_time": "2021-01-21T07:08:15.897925",
     "status": "completed"
    },
    "tags": [],
    "pycharm": {
     "name": "#%%\n"
    }
   },
   "outputs": [],
   "source": [
    "# create DB2 to Salesforce API object\n",
    "\n",
    "# specify Salesforce object ID and external ID\n",
    "db_s.object_id = object_id\n",
    "db_s.external_id = external_id"
   ]
  },
  {
   "cell_type": "code",
   "execution_count": 23,
   "metadata": {
    "execution": {
     "iopub.execute_input": "2022-04-08T03:12:22.044660Z",
     "iopub.status.busy": "2022-04-08T03:12:22.030756Z",
     "iopub.status.idle": "2022-04-08T03:12:34.686739Z",
     "shell.execute_reply": "2022-04-08T03:12:34.656560Z",
     "shell.execute_reply.started": "2022-04-08T03:12:22.044252Z"
    },
    "papermill": {
     "duration": 4.344691,
     "end_time": "2021-01-21T07:08:20.686922",
     "exception": false,
     "start_time": "2021-01-21T07:08:16.342231",
     "status": "completed"
    },
    "tags": [],
    "pycharm": {
     "name": "#%%\n"
    }
   },
   "outputs": [
    {
     "name": "stdout",
     "output_type": "stream",
     "text": [
      "[Success] Bulk job creation successful. Job ID = 7508W00000f5uiSQAQ\n",
      "hello\n",
      "[Success] CSV upload successful. Job ID = 7508W00000f5uiSQAQ\n",
      "[Success] Closing job successful. Job ID = 7508W00000f5uiSQAQ\n"
     ]
    }
   ],
   "source": [
    "# send data to Salesforce\n",
    "db_s.send_data(df_sf)"
   ]
  },
  {
   "cell_type": "code",
   "execution_count": 24,
   "metadata": {
    "execution": {
     "iopub.execute_input": "2022-04-08T03:12:34.741240Z",
     "iopub.status.busy": "2022-04-08T03:12:34.738753Z",
     "iopub.status.idle": "2022-04-08T03:12:35.346545Z",
     "shell.execute_reply": "2022-04-08T03:12:35.340449Z",
     "shell.execute_reply.started": "2022-04-08T03:12:34.741115Z"
    },
    "papermill": {
     "duration": 0.441625,
     "end_time": "2021-01-21T07:08:21.147064",
     "exception": false,
     "start_time": "2021-01-21T07:08:20.705439",
     "status": "completed"
    },
    "tags": [],
    "pycharm": {
     "name": "#%%\n"
    }
   },
   "outputs": [
    {
     "name": "stdout",
     "output_type": "stream",
     "text": [
      "{'apexProcessingTime': 0,\n",
      " 'apiActiveProcessingTime': 0,\n",
      " 'apiVersion': 47.0,\n",
      " 'columnDelimiter': 'COMMA',\n",
      " 'concurrencyMode': 'Parallel',\n",
      " 'contentType': 'CSV',\n",
      " 'createdById': '0055w00000DM5bOAAT',\n",
      " 'createdDate': '2022-04-08T03:12:22.000+0000',\n",
      " 'externalIdFieldName': 'Name',\n",
      " 'id': '7508W00000f5uiSQAQ',\n",
      " 'jobType': 'V2Ingest',\n",
      " 'lineEnding': 'LF',\n",
      " 'numberRecordsFailed': 0,\n",
      " 'numberRecordsProcessed': 0,\n",
      " 'object': 'ContactToolAssociation__c',\n",
      " 'operation': 'upsert',\n",
      " 'retries': 0,\n",
      " 'state': 'InProgress',\n",
      " 'systemModstamp': '2022-04-08T03:12:34.000+0000',\n",
      " 'totalProcessingTime': 0}\n"
     ]
    }
   ],
   "source": [
    "# check status\n",
    "from pprint import pprint\n",
    "\n",
    "pprint(db_s.check_bulk_status())"
   ]
  },
  {
   "cell_type": "code",
   "execution_count": null,
   "metadata": {
    "papermill": {
     "duration": 0.019052,
     "end_time": "2021-01-21T07:08:21.188035",
     "exception": false,
     "start_time": "2021-01-21T07:08:21.168983",
     "status": "completed"
    },
    "tags": [],
    "pycharm": {
     "name": "#%%\n"
    }
   },
   "outputs": [],
   "source": []
  }
 ],
 "metadata": {
  "celltoolbar": "Tags",
  "kernelspec": {
   "display_name": "Python 3 (ipykernel)",
   "language": "python",
   "name": "python3"
  },
  "language_info": {
   "codemirror_mode": {
    "name": "ipython",
    "version": 3
   },
   "file_extension": ".py",
   "mimetype": "text/x-python",
   "name": "python",
   "nbconvert_exporter": "python",
   "pygments_lexer": "ipython3",
   "version": "3.8.10"
  },
  "papermill": {
   "duration": 2276.894298,
   "end_time": "2021-01-21T07:08:28.955316",
   "environment_variables": {},
   "exception": null,
   "input_path": "/home/users/wang2506/nanohub_salesforce_integ/salesforce/task_tools_map_contacts.ipynb",
   "output_path": "/home/users/wang2506/nanohub_salesforce_integ/salesforce/task_tools_map_contacts.ipynb",
   "parameters": {},
   "start_time": "2021-01-21T06:30:32.061018",
   "version": "2.1.1"
  }
 },
 "nbformat": 4,
 "nbformat_minor": 4
}