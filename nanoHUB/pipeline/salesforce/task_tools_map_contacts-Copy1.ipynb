{
 "cells": [
  {
   "cell_type": "markdown",
   "metadata": {
    "papermill": {
     "duration": 0.039641,
     "end_time": "2021-01-21T06:30:34.834802",
     "exception": false,
     "start_time": "2021-01-21T06:30:34.795161",
     "status": "completed"
    },
    "tags": [],
    "pycharm": {
     "name": "#%% md\n"
    }
   },
   "source": [
    "# DB2-Salesforce connector: Tools mapping to users"
   ]
  },
  {
   "cell_type": "code",
   "execution_count": 1,
   "metadata": {
    "execution": {
     "iopub.execute_input": "2022-04-22T13:45:49.990782Z",
     "iopub.status.busy": "2022-04-22T13:45:49.990239Z",
     "iopub.status.idle": "2022-04-22T13:46:04.051150Z",
     "shell.execute_reply": "2022-04-22T13:46:04.026705Z",
     "shell.execute_reply.started": "2022-04-22T13:45:49.990691Z"
    },
    "papermill": {
     "duration": 0.056328,
     "end_time": "2021-01-21T06:30:34.930924",
     "exception": false,
     "start_time": "2021-01-21T06:30:34.874596",
     "status": "completed"
    },
    "tags": [
     "parameters"
    ],
    "pycharm": {
     "name": "#%%\n"
    }
   },
   "outputs": [
    {
     "name": "stdout",
     "output_type": "stream",
     "text": [
      "\u001B[1mnanoHUB - Serving Students, Researchers & Instructors\u001B[0m\n",
      "Obtained Salesforce access token ...... True\n"
     ]
    }
   ],
   "source": [
    "# API settings\n",
    "api_url = '/services/data/v43.0/sobjects'\n",
    "external_id = 'Name'\n",
    "object_id = 'ContactToolAssociation__c'\n",
    "\n",
    "from nanoHUB.application import Application\n",
    "\n",
    "application = Application.get_instance()\n",
    "nanohub_db = application.new_db_engine('nanohub')\n",
    "nanohub_metrics_db = application.new_db_engine('nanohub_metrics')\n",
    "\n",
    "\n",
    "salesforce = application.new_salesforce_engine()\n",
    "db_s = salesforce"
   ]
  },
  {
   "cell_type": "code",
   "execution_count": 2,
   "metadata": {
    "execution": {
     "iopub.execute_input": "2022-04-22T13:46:04.169822Z",
     "iopub.status.busy": "2022-04-22T13:46:04.151246Z",
     "iopub.status.idle": "2022-04-22T13:46:04.211422Z",
     "shell.execute_reply": "2022-04-22T13:46:04.200266Z",
     "shell.execute_reply.started": "2022-04-22T13:46:04.169072Z"
    },
    "papermill": {
     "duration": 5.790574,
     "end_time": "2021-01-21T06:30:40.739666",
     "exception": false,
     "start_time": "2021-01-21T06:30:34.949092",
     "status": "completed"
    },
    "tags": [],
    "pycharm": {
     "name": "#%%\n"
    }
   },
   "outputs": [],
   "source": [
    "import pandas as pd\n",
    "import time\n",
    "import datetime"
   ]
  },
  {
   "cell_type": "markdown",
   "metadata": {
    "papermill": {
     "duration": 0.012627,
     "end_time": "2021-01-21T06:30:40.766699",
     "exception": false,
     "start_time": "2021-01-21T06:30:40.754072",
     "status": "completed"
    },
    "tags": [],
    "pycharm": {
     "name": "#%% md\n"
    }
   },
   "source": [
    "## Obtain tool information from DB2 "
   ]
  },
  {
   "cell_type": "code",
   "execution_count": null,
   "metadata": {
    "execution": {
     "iopub.execute_input": "2022-04-22T13:46:04.257854Z",
     "iopub.status.busy": "2022-04-22T13:46:04.256504Z"
    },
    "papermill": {
     "duration": 2166.765297,
     "end_time": "2021-01-21T07:06:47.543975",
     "exception": false,
     "start_time": "2021-01-21T06:30:40.778678",
     "status": "completed"
    },
    "tags": [],
    "pycharm": {
     "name": "#%%\n"
    }
   },
   "outputs": [],
   "source": [
    "# connect with DB2\n",
    "\n",
    "# toolstart\n",
    "sql_query = \"select user, tool as instance from nanohub_metrics.toolstart\"\n",
    "\n",
    "toolstart_df = pd.read_sql_query(sql_query, nanohub_metrics_db)\n",
    "\n",
    "# tool_version\n",
    "sql_query = \"select toolname, instance from nanohub.jos_tool_version\"\n",
    "\n",
    "tool_version_df = pd.read_sql_query(sql_query, nanohub_db)"
   ]
  },
  {
   "cell_type": "code",
   "execution_count": null,
   "metadata": {
    "pycharm": {
     "name": "#%%\n"
    }
   },
   "outputs": [],
   "source": [
    "sql_query = '''\n",
    "SELECT toolstart.user, toolstart.tool as instance\n",
    "'''"
   ]
  },
  {
   "cell_type": "code",
   "execution_count": null,
   "metadata": {
    "papermill": {
     "duration": 15.861831,
     "end_time": "2021-01-21T07:07:05.683663",
     "exception": false,
     "start_time": "2021-01-21T07:06:49.821832",
     "status": "completed"
    },
    "tags": [],
    "pycharm": {
     "name": "#%%\n"
    }
   },
   "outputs": [],
   "source": [
    "# convert all to lower case\n",
    "toolstart_df['user'] = toolstart_df['user'].apply(str.lower)\n",
    "toolstart_df['instance'] = toolstart_df['instance'].apply(str.lower)\n",
    "\n",
    "tool_version_df['toolname'] = tool_version_df['toolname'].apply(str.lower)\n",
    "tool_version_df['instance'] = tool_version_df['instance'].apply(str.lower)\n",
    "\n",
    "# display\n",
    "\n",
    "display(toolstart_df.head(2))\n",
    "display(tool_version_df.head(2))"
   ]
  },
  {
   "cell_type": "code",
   "execution_count": null,
   "metadata": {
    "papermill": {
     "duration": 1.904273,
     "end_time": "2021-01-21T07:07:07.618027",
     "exception": false,
     "start_time": "2021-01-21T07:07:05.713754",
     "status": "completed"
    },
    "tags": [],
    "pycharm": {
     "name": "#%%\n"
    }
   },
   "outputs": [],
   "source": [
    "# insert the toolname into instance as well\n",
    "dummy = pd.DataFrame()\n",
    "dummy['toolname'] = tool_version_df['toolname'].drop_duplicates()\n",
    "dummy['instance'] = dummy['toolname']\n",
    "\n",
    "tool_version_df = pd.concat([dummy, tool_version_df], axis=0).drop_duplicates().reset_index(drop=True)\n",
    "\n",
    "# display\n",
    "tool_version_df.head(3)"
   ]
  },
  {
   "cell_type": "code",
   "execution_count": null,
   "metadata": {
    "papermill": {
     "duration": 11.473066,
     "end_time": "2021-01-21T07:07:19.114688",
     "exception": false,
     "start_time": "2021-01-21T07:07:07.641622",
     "status": "completed"
    },
    "tags": [],
    "pycharm": {
     "name": "#%%\n"
    }
   },
   "outputs": [],
   "source": [
    "# merge toolname into toolstart\n",
    "df = pd.merge(toolstart_df, tool_version_df, how='left', left_on='instance', right_on='instance')[['user', 'toolname']]"
   ]
  },
  {
   "cell_type": "code",
   "execution_count": null,
   "metadata": {
    "papermill": {
     "duration": 9.023866,
     "end_time": "2021-01-21T07:07:28.177213",
     "exception": false,
     "start_time": "2021-01-21T07:07:19.153347",
     "status": "completed"
    },
    "tags": [],
    "pycharm": {
     "name": "#%%\n"
    }
   },
   "outputs": [],
   "source": [
    "# count number of tool runs by each user, each tool\n",
    "df = df.groupby(['user', 'toolname'])['toolname'].count().to_frame(name='cnt').reset_index()"
   ]
  },
  {
   "cell_type": "code",
   "execution_count": null,
   "metadata": {
    "papermill": {
     "duration": 0.284195,
     "end_time": "2021-01-21T07:07:28.481933",
     "exception": false,
     "start_time": "2021-01-21T07:07:28.197738",
     "status": "completed"
    },
    "tags": [],
    "pycharm": {
     "name": "#%%\n"
    }
   },
   "outputs": [],
   "source": [
    "# just in case some NaN values made through\n",
    "df = df[~df.user.isna()]\n",
    "df = df[~df.toolname.isna()]\n",
    "\n",
    "# display\n",
    "df.head(3)"
   ]
  },
  {
   "cell_type": "code",
   "execution_count": null,
   "metadata": {
    "pycharm": {
     "name": "#%%\n"
    }
   },
   "outputs": [],
   "source": [
    "display(df.loc[df['user'] == 'shrutik'])\n",
    "display(df.loc[df['user'] == 'wodyd909'])\n",
    "display(df.loc[df['user'] == 'nkissebe'])"
   ]
  },
  {
   "cell_type": "markdown",
   "metadata": {
    "papermill": {
     "duration": 0.035835,
     "end_time": "2021-01-21T07:07:28.541885",
     "exception": false,
     "start_time": "2021-01-21T07:07:28.506050",
     "status": "completed"
    },
    "tags": [],
    "pycharm": {
     "name": "#%% md\n"
    }
   },
   "source": [
    "## Obtain Salesforce IDs"
   ]
  },
  {
   "cell_type": "code",
   "execution_count": null,
   "metadata": {
    "papermill": {
     "duration": 5.119463,
     "end_time": "2021-01-21T07:07:33.674600",
     "exception": false,
     "start_time": "2021-01-21T07:07:28.555137",
     "status": "completed"
    },
    "tags": [],
    "pycharm": {
     "name": "#%%\n"
    }
   },
   "outputs": [],
   "source": [
    "# create DB2 to Salesforce API object"
   ]
  },
  {
   "cell_type": "code",
   "execution_count": null,
   "metadata": {
    "papermill": {
     "duration": 14.830485,
     "end_time": "2021-01-21T07:07:48.523992",
     "exception": false,
     "start_time": "2021-01-21T07:07:33.693507",
     "status": "completed"
    },
    "tags": [],
    "pycharm": {
     "name": "#%%\n"
    }
   },
   "outputs": [],
   "source": [
    "# query the Salesforce IDs for contacts and citations. when updating junction objects, these IDs must be used\n",
    "\n",
    "# get Salesforce ID for contacts\n",
    "sf_username_df = db_s.query_data('SELECT Id, nanoHUB_username__c FROM Contact where nanoHUB_username__c != NULL')\n",
    "\n",
    "# display\n",
    "sf_username_df.head(3)"
   ]
  },
  {
   "cell_type": "code",
   "execution_count": null,
   "metadata": {
    "papermill": {
     "duration": 12.021683,
     "end_time": "2021-01-21T07:08:00.560659",
     "exception": false,
     "start_time": "2021-01-21T07:07:48.538976",
     "status": "completed"
    },
    "tags": [],
    "pycharm": {
     "name": "#%%\n"
    }
   },
   "outputs": [],
   "source": [
    "# get Salesforce ID for citations\n",
    "sf_tool_df = db_s.query_data('SELECT Id, Tool_name__c FROM nanoHUB_tools__c')\n",
    "\n",
    "# display\n",
    "sf_tool_df.head(3)"
   ]
  },
  {
   "cell_type": "markdown",
   "metadata": {
    "papermill": {
     "duration": 0.01671,
     "end_time": "2021-01-21T07:08:00.594258",
     "exception": false,
     "start_time": "2021-01-21T07:08:00.577548",
     "status": "completed"
    },
    "tags": [],
    "pycharm": {
     "name": "#%% md\n"
    }
   },
   "source": [
    "## Match data with Salesforce format"
   ]
  },
  {
   "cell_type": "code",
   "execution_count": null,
   "metadata": {
    "papermill": {
     "duration": 0.156842,
     "end_time": "2021-01-21T07:08:00.767047",
     "exception": false,
     "start_time": "2021-01-21T07:08:00.610205",
     "status": "completed"
    },
    "tags": [],
    "pycharm": {
     "name": "#%%\n"
    }
   },
   "outputs": [],
   "source": [
    "# make sure all strings are lower cases\n",
    "\n",
    "sf_username_df['nanoHUB_username__c'] = sf_username_df['nanoHUB_username__c'].astype('str').apply(str.lower)\n",
    "\n",
    "sf_tool_df['Tool_name__c'] = sf_tool_df['Tool_name__c'].astype('str').apply(str.lower)"
   ]
  },
  {
   "cell_type": "code",
   "execution_count": null,
   "metadata": {
    "papermill": {
     "duration": 1.173232,
     "end_time": "2021-01-21T07:08:01.956665",
     "exception": false,
     "start_time": "2021-01-21T07:08:00.783433",
     "status": "completed"
    },
    "tags": [],
    "pycharm": {
     "name": "#%%\n"
    }
   },
   "outputs": [],
   "source": [
    "# merge SF citation and contact IDs into user-citation DF\n",
    "ct_tolink_df = pd.merge(df, sf_tool_df, how='inner', left_on='toolname', right_on='Tool_name__c')\\\n",
    "                           .rename(columns={'Id':'SF_ID_tool'})\n",
    "                                            \n",
    "ct_tolink_df = pd.merge(ct_tolink_df, sf_username_df, how='inner', left_on='user', right_on='nanoHUB_username__c')\\\n",
    "                           .rename(columns={'Id':'SF_ID_contact'})\n",
    "\n",
    "# display\n",
    "ct_tolink_df.head(2)"
   ]
  },
  {
   "cell_type": "code",
   "execution_count": null,
   "metadata": {
    "papermill": {
     "duration": 13.717554,
     "end_time": "2021-01-21T07:08:15.690713",
     "exception": false,
     "start_time": "2021-01-21T07:08:01.973159",
     "status": "completed"
    },
    "tags": [],
    "pycharm": {
     "name": "#%%\n"
    }
   },
   "outputs": [],
   "source": [
    "# create a new column for object name\n",
    "ct_tolink_df['Name'] = ct_tolink_df.apply(lambda x: '%s_%s'%(x.nanoHUB_username__c, x.Tool_name__c), axis=1)"
   ]
  },
  {
   "cell_type": "code",
   "execution_count": null,
   "metadata": {
    "papermill": {
     "duration": 0.140412,
     "end_time": "2021-01-21T07:08:15.848772",
     "exception": false,
     "start_time": "2021-01-21T07:08:15.708360",
     "status": "completed"
    },
    "tags": [],
    "pycharm": {
     "name": "#%%\n"
    }
   },
   "outputs": [],
   "source": [
    "df_sf = pd.DataFrame()\n",
    "\n",
    "# Make sure NaN and NaT values are taken care of here\n",
    "df_sf['Name']         = ct_tolink_df['Name']\n",
    "df_sf['Contact__c'] = ct_tolink_df['SF_ID_contact']\n",
    "df_sf['Tool__c']       = ct_tolink_df['SF_ID_tool']\n",
    "df_sf['Total_Runs__c'] = ct_tolink_df['cnt']\n",
    "sf_original_fields = df_sf.columns\n",
    "\n",
    "# display\n",
    "df_sf.head(2).T"
   ]
  },
  {
   "cell_type": "markdown",
   "metadata": {
    "papermill": {
     "duration": 0.016407,
     "end_time": "2021-01-21T07:08:15.881766",
     "exception": false,
     "start_time": "2021-01-21T07:08:15.865359",
     "status": "completed"
    },
    "tags": [],
    "pycharm": {
     "name": "#%% md\n"
    }
   },
   "source": [
    "## To Salesforce Sales Cloud CRM"
   ]
  },
  {
   "cell_type": "code",
   "execution_count": null,
   "metadata": {
    "papermill": {
     "duration": 0.42769,
     "end_time": "2021-01-21T07:08:16.325615",
     "exception": false,
     "start_time": "2021-01-21T07:08:15.897925",
     "status": "completed"
    },
    "tags": [],
    "pycharm": {
     "name": "#%%\n"
    }
   },
   "outputs": [],
   "source": [
    "# create DB2 to Salesforce API object\n",
    "\n",
    "# specify Salesforce object ID and external ID\n",
    "db_s.object_id = object_id\n",
    "db_s.external_id = external_id"
   ]
  },
  {
   "cell_type": "code",
   "execution_count": null,
   "metadata": {
    "papermill": {
     "duration": 4.344691,
     "end_time": "2021-01-21T07:08:20.686922",
     "exception": false,
     "start_time": "2021-01-21T07:08:16.342231",
     "status": "completed"
    },
    "tags": [],
    "pycharm": {
     "name": "#%%\n"
    }
   },
   "outputs": [],
   "source": [
    "# send data to Salesforce\n",
    "db_s.send_data(df_sf)"
   ]
  },
  {
   "cell_type": "code",
   "execution_count": null,
   "metadata": {
    "papermill": {
     "duration": 0.441625,
     "end_time": "2021-01-21T07:08:21.147064",
     "exception": false,
     "start_time": "2021-01-21T07:08:20.705439",
     "status": "completed"
    },
    "tags": [],
    "pycharm": {
     "name": "#%%\n"
    }
   },
   "outputs": [],
   "source": [
    "# check status\n",
    "from pprint import pprint\n",
    "\n",
    "pprint(db_s.check_bulk_status())"
   ]
  },
  {
   "cell_type": "code",
   "execution_count": null,
   "metadata": {
    "papermill": {
     "duration": 0.019052,
     "end_time": "2021-01-21T07:08:21.188035",
     "exception": false,
     "start_time": "2021-01-21T07:08:21.168983",
     "status": "completed"
    },
    "tags": [],
    "pycharm": {
     "name": "#%%\n"
    }
   },
   "outputs": [],
   "source": []
  }
 ],
 "metadata": {
  "celltoolbar": "Tags",
  "kernelspec": {
   "display_name": "Python 3 (ipykernel)",
   "language": "python",
   "name": "python3"
  },
  "language_info": {
   "codemirror_mode": {
    "name": "ipython",
    "version": 3
   },
   "file_extension": ".py",
   "mimetype": "text/x-python",
   "name": "python",
   "nbconvert_exporter": "python",
   "pygments_lexer": "ipython3",
   "version": "3.8.10"
  },
  "papermill": {
   "duration": 2276.894298,
   "end_time": "2021-01-21T07:08:28.955316",
   "environment_variables": {},
   "exception": null,
   "input_path": "/home/users/wang2506/nanohub_salesforce_integ/salesforce/task_tools_map_contacts.ipynb",
   "output_path": "/home/users/wang2506/nanohub_salesforce_integ/salesforce/task_tools_map_contacts.ipynb",
   "parameters": {},
   "start_time": "2021-01-21T06:30:32.061018",
   "version": "2.1.1"
  }
 },
 "nbformat": 4,
 "nbformat_minor": 4
}