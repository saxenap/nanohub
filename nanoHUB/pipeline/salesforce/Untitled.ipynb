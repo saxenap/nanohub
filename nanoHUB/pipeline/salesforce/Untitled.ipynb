{
 "cells": [
  {
   "cell_type": "code",
   "execution_count": 1,
   "id": "695dff61-c684-471a-b9cd-94a2531138eb",
   "metadata": {
    "execution": {
     "iopub.execute_input": "2022-04-22T15:13:21.184307Z",
     "iopub.status.busy": "2022-04-22T15:13:21.182225Z",
     "iopub.status.idle": "2022-04-22T15:13:42.160978Z",
     "shell.execute_reply": "2022-04-22T15:13:42.155477Z",
     "shell.execute_reply.started": "2022-04-22T15:13:21.182710Z"
    },
    "papermill": {
     "duration": 0.056328,
     "end_time": "2021-01-21T06:30:34.930924",
     "exception": false,
     "start_time": "2021-01-21T06:30:34.874596",
     "status": "completed"
    },
    "tags": [
     "parameters"
    ]
   },
   "outputs": [
    {
     "name": "stdout",
     "output_type": "stream",
     "text": [
      "\u001b[1mnanoHUB - Serving Students, Researchers & Instructors\u001b[0m\n",
      "Obtained Salesforce access token ...... True\n"
     ]
    }
   ],
   "source": [
    "# API settings\n",
    "api_url = '/services/data/v43.0/sobjects'\n",
    "external_id = 'Name'\n",
    "object_id = 'ContactToolAssociation__c'\n",
    "\n",
    "from nanoHUB.application import Application\n",
    "\n",
    "application = Application.get_instance()\n",
    "salesforce = application.new_salesforce_engine()\n",
    "db_s = salesforce"
   ]
  },
  {
   "cell_type": "code",
   "execution_count": 2,
   "id": "20612875-afff-4520-a217-11428da9d018",
   "metadata": {
    "execution": {
     "iopub.execute_input": "2022-04-22T15:13:42.299078Z",
     "iopub.status.busy": "2022-04-22T15:13:42.293010Z",
     "iopub.status.idle": "2022-04-22T15:13:42.315838Z",
     "shell.execute_reply": "2022-04-22T15:13:42.312273Z",
     "shell.execute_reply.started": "2022-04-22T15:13:42.298912Z"
    },
    "papermill": {
     "duration": 5.790574,
     "end_time": "2021-01-21T06:30:40.739666",
     "exception": false,
     "start_time": "2021-01-21T06:30:34.949092",
     "status": "completed"
    },
    "tags": []
   },
   "outputs": [],
   "source": [
    "import pandas as pd\n",
    "import time\n",
    "import datetime"
   ]
  },
  {
   "cell_type": "code",
   "execution_count": 3,
   "id": "e8b75acd-cff2-4901-9e08-c96cce2c0f44",
   "metadata": {
    "execution": {
     "iopub.execute_input": "2022-04-22T15:13:42.358464Z",
     "iopub.status.busy": "2022-04-22T15:13:42.354547Z",
     "iopub.status.idle": "2022-04-22T15:14:13.992678Z",
     "shell.execute_reply": "2022-04-22T15:14:13.990092Z",
     "shell.execute_reply.started": "2022-04-22T15:13:42.358300Z"
    }
   },
   "outputs": [
    {
     "name": "stdout",
     "output_type": "stream",
     "text": [
      "[Success] Bulk job creation successful. Job ID = 7508W00000f7Yo4QAE\n",
      "{\"id\":\"7508W00000f7Yo4QAE\",\"operation\":\"queryAll\",\"object\":\"Contact\",\"createdById\":\"0055w00000DM5bOAAT\",\"createdDate\":\"2022-04-22T15:13:43.000+0000\",\"systemModstamp\":\"2022-04-22T15:13:43.000+0000\",\"state\":\"InProgress\",\"concurrencyMode\":\"Parallel\",\"contentType\":\"CSV\",\"apiVersion\":47.0,\"jobType\":\"V2Query\",\"lineEnding\":\"LF\",\"columnDelimiter\":\"COMMA\",\"numberRecordsProcessed\":0,\"retries\":0,\"totalProcessingTime\":0}\n",
      "{\"id\":\"7508W00000f7Yo4QAE\",\"operation\":\"queryAll\",\"object\":\"Contact\",\"createdById\":\"0055w00000DM5bOAAT\",\"createdDate\":\"2022-04-22T15:13:43.000+0000\",\"systemModstamp\":\"2022-04-22T15:13:43.000+0000\",\"state\":\"InProgress\",\"concurrencyMode\":\"Parallel\",\"contentType\":\"CSV\",\"apiVersion\":47.0,\"jobType\":\"V2Query\",\"lineEnding\":\"LF\",\"columnDelimiter\":\"COMMA\",\"numberRecordsProcessed\":25577,\"retries\":0,\"totalProcessingTime\":1378}\n",
      "{\"id\":\"7508W00000f7Yo4QAE\",\"operation\":\"queryAll\",\"object\":\"Contact\",\"createdById\":\"0055w00000DM5bOAAT\",\"createdDate\":\"2022-04-22T15:13:43.000+0000\",\"systemModstamp\":\"2022-04-22T15:13:57.000+0000\",\"state\":\"JobComplete\",\"concurrencyMode\":\"Parallel\",\"contentType\":\"CSV\",\"apiVersion\":47.0,\"jobType\":\"V2Query\",\"lineEnding\":\"LF\",\"columnDelimiter\":\"COMMA\",\"numberRecordsProcessed\":279606,\"retries\":0,\"totalProcessingTime\":13862}\n",
      "[Success] Bulk job completed successfully.\n"
     ]
    },
    {
     "data": {
      "text/html": [
       "<div>\n",
       "<style scoped>\n",
       "    .dataframe tbody tr th:only-of-type {\n",
       "        vertical-align: middle;\n",
       "    }\n",
       "\n",
       "    .dataframe tbody tr th {\n",
       "        vertical-align: top;\n",
       "    }\n",
       "\n",
       "    .dataframe thead th {\n",
       "        text-align: right;\n",
       "    }\n",
       "</style>\n",
       "<table border=\"1\" class=\"dataframe\">\n",
       "  <thead>\n",
       "    <tr style=\"text-align: right;\">\n",
       "      <th></th>\n",
       "      <th>Id</th>\n",
       "      <th>nanoHUB_user_ID__c</th>\n",
       "      <th>nanoHUB_username__c</th>\n",
       "    </tr>\n",
       "  </thead>\n",
       "  <tbody>\n",
       "    <tr>\n",
       "      <th>0</th>\n",
       "      <td>0035w000031Vsp1AAC</td>\n",
       "      <td>998.0</td>\n",
       "      <td>hubrepo</td>\n",
       "    </tr>\n",
       "    <tr>\n",
       "      <th>1</th>\n",
       "      <td>0035w000031Vsp2AAC</td>\n",
       "      <td>1683.0</td>\n",
       "      <td>support</td>\n",
       "    </tr>\n",
       "    <tr>\n",
       "      <th>2</th>\n",
       "      <td>0035w000031Vsp3AAC</td>\n",
       "      <td>1684.0</td>\n",
       "      <td>gridstat</td>\n",
       "    </tr>\n",
       "  </tbody>\n",
       "</table>\n",
       "</div>"
      ],
      "text/plain": [
       "                   Id  nanoHUB_user_ID__c nanoHUB_username__c\n",
       "0  0035w000031Vsp1AAC               998.0             hubrepo\n",
       "1  0035w000031Vsp2AAC              1683.0             support\n",
       "2  0035w000031Vsp3AAC              1684.0            gridstat"
      ]
     },
     "execution_count": 3,
     "metadata": {},
     "output_type": "execute_result"
    }
   ],
   "source": [
    "# query the Salesforce IDs for contacts and citations. when updating junction objects, these IDs must be used\n",
    "\n",
    "# get Salesforce ID for contacts\n",
    "sf_username_df = db_s.query_data('SELECT Id, nanoHUB_user_ID__c, nanoHUB_username__c FROM Contact')\n",
    "\n",
    "# display\n",
    "sf_username_df.head(3)\n"
   ]
  },
  {
   "cell_type": "code",
   "execution_count": 4,
   "id": "794f2873-da63-43c9-9c7f-a6c2d8220a46",
   "metadata": {
    "execution": {
     "iopub.execute_input": "2022-04-22T15:14:14.007082Z",
     "iopub.status.busy": "2022-04-22T15:14:14.004258Z",
     "iopub.status.idle": "2022-04-22T15:14:14.347590Z",
     "shell.execute_reply": "2022-04-22T15:14:14.339250Z",
     "shell.execute_reply.started": "2022-04-22T15:14:14.007004Z"
    }
   },
   "outputs": [
    {
     "data": {
      "text/html": [
       "<div>\n",
       "<style scoped>\n",
       "    .dataframe tbody tr th:only-of-type {\n",
       "        vertical-align: middle;\n",
       "    }\n",
       "\n",
       "    .dataframe tbody tr th {\n",
       "        vertical-align: top;\n",
       "    }\n",
       "\n",
       "    .dataframe thead th {\n",
       "        text-align: right;\n",
       "    }\n",
       "</style>\n",
       "<table border=\"1\" class=\"dataframe\">\n",
       "  <thead>\n",
       "    <tr style=\"text-align: right;\">\n",
       "      <th></th>\n",
       "      <th>Id</th>\n",
       "      <th>nanoHUB_user_ID__c</th>\n",
       "      <th>nanoHUB_username__c</th>\n",
       "    </tr>\n",
       "  </thead>\n",
       "  <tbody>\n",
       "    <tr>\n",
       "      <th>252288</th>\n",
       "      <td>0035w00003YY1KFAA1</td>\n",
       "      <td>346260.0</td>\n",
       "      <td>agrawalmahima361</td>\n",
       "    </tr>\n",
       "  </tbody>\n",
       "</table>\n",
       "</div>"
      ],
      "text/plain": [
       "                        Id  nanoHUB_user_ID__c nanoHUB_username__c\n",
       "252288  0035w00003YY1KFAA1            346260.0    agrawalmahima361"
      ]
     },
     "metadata": {},
     "output_type": "display_data"
    }
   ],
   "source": [
    "display(sf_username_df.loc[sf_username_df['nanoHUB_username__c'] == 'agrawalmahima361'])"
   ]
  },
  {
   "cell_type": "code",
   "execution_count": 5,
   "id": "ac8588d4-e7dc-4b8b-8c32-2e4b1423fb11",
   "metadata": {
    "execution": {
     "iopub.execute_input": "2022-04-22T15:14:14.422353Z",
     "iopub.status.busy": "2022-04-22T15:14:14.416240Z",
     "iopub.status.idle": "2022-04-22T15:14:15.098853Z",
     "shell.execute_reply": "2022-04-22T15:14:15.097120Z",
     "shell.execute_reply.started": "2022-04-22T15:14:14.422069Z"
    }
   },
   "outputs": [
    {
     "data": {
      "text/html": [
       "<div>\n",
       "<style scoped>\n",
       "    .dataframe tbody tr th:only-of-type {\n",
       "        vertical-align: middle;\n",
       "    }\n",
       "\n",
       "    .dataframe tbody tr th {\n",
       "        vertical-align: top;\n",
       "    }\n",
       "\n",
       "    .dataframe thead th {\n",
       "        text-align: right;\n",
       "    }\n",
       "</style>\n",
       "<table border=\"1\" class=\"dataframe\">\n",
       "  <thead>\n",
       "    <tr style=\"text-align: right;\">\n",
       "      <th></th>\n",
       "      <th>Id</th>\n",
       "      <th>nanoHUB_user_ID__c</th>\n",
       "      <th>nanoHUB_username__c</th>\n",
       "    </tr>\n",
       "  </thead>\n",
       "  <tbody>\n",
       "  </tbody>\n",
       "</table>\n",
       "</div>"
      ],
      "text/plain": [
       "Empty DataFrame\n",
       "Columns: [Id, nanoHUB_user_ID__c, nanoHUB_username__c]\n",
       "Index: []"
      ]
     },
     "metadata": {},
     "output_type": "display_data"
    },
    {
     "data": {
      "text/html": [
       "<div>\n",
       "<style scoped>\n",
       "    .dataframe tbody tr th:only-of-type {\n",
       "        vertical-align: middle;\n",
       "    }\n",
       "\n",
       "    .dataframe tbody tr th {\n",
       "        vertical-align: top;\n",
       "    }\n",
       "\n",
       "    .dataframe thead th {\n",
       "        text-align: right;\n",
       "    }\n",
       "</style>\n",
       "<table border=\"1\" class=\"dataframe\">\n",
       "  <thead>\n",
       "    <tr style=\"text-align: right;\">\n",
       "      <th></th>\n",
       "      <th>Id</th>\n",
       "      <th>nanoHUB_user_ID__c</th>\n",
       "      <th>nanoHUB_username__c</th>\n",
       "    </tr>\n",
       "  </thead>\n",
       "  <tbody>\n",
       "  </tbody>\n",
       "</table>\n",
       "</div>"
      ],
      "text/plain": [
       "Empty DataFrame\n",
       "Columns: [Id, nanoHUB_user_ID__c, nanoHUB_username__c]\n",
       "Index: []"
      ]
     },
     "metadata": {},
     "output_type": "display_data"
    },
    {
     "data": {
      "text/html": [
       "<div>\n",
       "<style scoped>\n",
       "    .dataframe tbody tr th:only-of-type {\n",
       "        vertical-align: middle;\n",
       "    }\n",
       "\n",
       "    .dataframe tbody tr th {\n",
       "        vertical-align: top;\n",
       "    }\n",
       "\n",
       "    .dataframe thead th {\n",
       "        text-align: right;\n",
       "    }\n",
       "</style>\n",
       "<table border=\"1\" class=\"dataframe\">\n",
       "  <thead>\n",
       "    <tr style=\"text-align: right;\">\n",
       "      <th></th>\n",
       "      <th>Id</th>\n",
       "      <th>nanoHUB_user_ID__c</th>\n",
       "      <th>nanoHUB_username__c</th>\n",
       "    </tr>\n",
       "  </thead>\n",
       "  <tbody>\n",
       "  </tbody>\n",
       "</table>\n",
       "</div>"
      ],
      "text/plain": [
       "Empty DataFrame\n",
       "Columns: [Id, nanoHUB_user_ID__c, nanoHUB_username__c]\n",
       "Index: []"
      ]
     },
     "metadata": {},
     "output_type": "display_data"
    }
   ],
   "source": [
    "display(sf_username_df.loc[sf_username_df['nanoHUB_username__c'] == 'pjs970918'])\n",
    "display(sf_username_df.loc[sf_username_df['nanoHUB_username__c'] == 'wodyd909'])\n",
    "display(sf_username_df.loc[sf_username_df['nanoHUB_username__c'] == 'shrutik'])"
   ]
  },
  {
   "cell_type": "code",
   "execution_count": 19,
   "id": "801c7d90-7021-4e74-a59e-53e4791a303a",
   "metadata": {
    "execution": {
     "iopub.execute_input": "2022-04-22T15:43:37.490658Z",
     "iopub.status.busy": "2022-04-22T15:43:37.489333Z",
     "iopub.status.idle": "2022-04-22T15:43:37.773943Z",
     "shell.execute_reply": "2022-04-22T15:43:37.719582Z",
     "shell.execute_reply.started": "2022-04-22T15:43:37.490568Z"
    },
    "tags": []
   },
   "outputs": [
    {
     "data": {
      "text/html": [
       "<div>\n",
       "<style scoped>\n",
       "    .dataframe tbody tr th:only-of-type {\n",
       "        vertical-align: middle;\n",
       "    }\n",
       "\n",
       "    .dataframe tbody tr th {\n",
       "        vertical-align: top;\n",
       "    }\n",
       "\n",
       "    .dataframe thead th {\n",
       "        text-align: right;\n",
       "    }\n",
       "</style>\n",
       "<table border=\"1\" class=\"dataframe\">\n",
       "  <thead>\n",
       "    <tr style=\"text-align: right;\">\n",
       "      <th></th>\n",
       "      <th>Id</th>\n",
       "      <th>nanoHUB_user_ID__c</th>\n",
       "      <th>nanoHUB_username__c</th>\n",
       "    </tr>\n",
       "  </thead>\n",
       "  <tbody>\n",
       "  </tbody>\n",
       "</table>\n",
       "</div>"
      ],
      "text/plain": [
       "Empty DataFrame\n",
       "Columns: [Id, nanoHUB_user_ID__c, nanoHUB_username__c]\n",
       "Index: []"
      ]
     },
     "metadata": {},
     "output_type": "display_data"
    },
    {
     "data": {
      "text/html": [
       "<div>\n",
       "<style scoped>\n",
       "    .dataframe tbody tr th:only-of-type {\n",
       "        vertical-align: middle;\n",
       "    }\n",
       "\n",
       "    .dataframe tbody tr th {\n",
       "        vertical-align: top;\n",
       "    }\n",
       "\n",
       "    .dataframe thead th {\n",
       "        text-align: right;\n",
       "    }\n",
       "</style>\n",
       "<table border=\"1\" class=\"dataframe\">\n",
       "  <thead>\n",
       "    <tr style=\"text-align: right;\">\n",
       "      <th></th>\n",
       "      <th>Id</th>\n",
       "      <th>nanoHUB_user_ID__c</th>\n",
       "      <th>nanoHUB_username__c</th>\n",
       "    </tr>\n",
       "  </thead>\n",
       "  <tbody>\n",
       "    <tr>\n",
       "      <th>0</th>\n",
       "      <td>0038W00001Yuww4QAB</td>\n",
       "      <td>362374.0</td>\n",
       "      <td>wodyd909</td>\n",
       "    </tr>\n",
       "  </tbody>\n",
       "</table>\n",
       "</div>"
      ],
      "text/plain": [
       "                   Id  nanoHUB_user_ID__c nanoHUB_username__c\n",
       "0  0038W00001Yuww4QAB            362374.0            wodyd909"
      ]
     },
     "metadata": {},
     "output_type": "display_data"
    }
   ],
   "source": [
    "sf_username_df = sf_username_df[~sf_username_df.nanoHUB_username__c.isna()]\n",
    "\n",
    "display(sf_username_df.loc[sf_username_df['nanoHUB_username__c'].str.contains('pjs970918')])\n",
    "display(sf_username_df.loc[sf_username_df['nanoHUB_username__c'].str.contains('wodyd909')])\n",
    "#display(sf_username_df.loc[sf_username_df['nanoHUB_username__c'].str.contains('shrutik')])"
   ]
  },
  {
   "cell_type": "code",
   "execution_count": 7,
   "id": "2ad828a6-2b52-4afd-a5c0-6fe4b92f32ac",
   "metadata": {
    "execution": {
     "iopub.execute_input": "2022-04-22T15:14:17.137384Z",
     "iopub.status.busy": "2022-04-22T15:14:17.136616Z",
     "iopub.status.idle": "2022-04-22T15:14:17.670358Z",
     "shell.execute_reply": "2022-04-22T15:14:17.655917Z",
     "shell.execute_reply.started": "2022-04-22T15:14:17.137315Z"
    },
    "tags": []
   },
   "outputs": [
    {
     "data": {
      "text/html": [
       "<div>\n",
       "<style scoped>\n",
       "    .dataframe tbody tr th:only-of-type {\n",
       "        vertical-align: middle;\n",
       "    }\n",
       "\n",
       "    .dataframe tbody tr th {\n",
       "        vertical-align: top;\n",
       "    }\n",
       "\n",
       "    .dataframe thead th {\n",
       "        text-align: right;\n",
       "    }\n",
       "</style>\n",
       "<table border=\"1\" class=\"dataframe\">\n",
       "  <thead>\n",
       "    <tr style=\"text-align: right;\">\n",
       "      <th></th>\n",
       "      <th>Id</th>\n",
       "      <th>nanoHUB_user_ID__c</th>\n",
       "      <th>nanoHUB_username__c</th>\n",
       "    </tr>\n",
       "  </thead>\n",
       "  <tbody>\n",
       "  </tbody>\n",
       "</table>\n",
       "</div>"
      ],
      "text/plain": [
       "Empty DataFrame\n",
       "Columns: [Id, nanoHUB_user_ID__c, nanoHUB_username__c]\n",
       "Index: []"
      ]
     },
     "metadata": {},
     "output_type": "display_data"
    }
   ],
   "source": [
    "display(sf_username_df.loc[sf_username_df['Id'].str.contains('0038W00001Yuww4')])"
   ]
  },
  {
   "cell_type": "code",
   "execution_count": 8,
   "id": "6ee47fd6-2de4-44e9-9b4c-1751d99d0970",
   "metadata": {
    "execution": {
     "iopub.execute_input": "2022-04-22T15:14:17.731834Z",
     "iopub.status.busy": "2022-04-22T15:14:17.726981Z",
     "iopub.status.idle": "2022-04-22T15:14:17.928411Z",
     "shell.execute_reply": "2022-04-22T15:14:17.886102Z",
     "shell.execute_reply.started": "2022-04-22T15:14:17.728751Z"
    }
   },
   "outputs": [
    {
     "data": {
      "text/plain": [
       "253954"
      ]
     },
     "metadata": {},
     "output_type": "display_data"
    }
   ],
   "source": [
    "display(len(sf_username_df))"
   ]
  },
  {
   "cell_type": "code",
   "execution_count": 9,
   "id": "8917095b-0a57-4273-8609-2d3b8d6e687c",
   "metadata": {
    "execution": {
     "iopub.execute_input": "2022-04-22T15:14:17.969869Z",
     "iopub.status.busy": "2022-04-22T15:14:17.968991Z",
     "iopub.status.idle": "2022-04-22T15:14:18.459037Z",
     "shell.execute_reply": "2022-04-22T15:14:18.447443Z",
     "shell.execute_reply.started": "2022-04-22T15:14:17.969504Z"
    },
    "tags": []
   },
   "outputs": [
    {
     "data": {
      "text/html": [
       "<div>\n",
       "<style scoped>\n",
       "    .dataframe tbody tr th:only-of-type {\n",
       "        vertical-align: middle;\n",
       "    }\n",
       "\n",
       "    .dataframe tbody tr th {\n",
       "        vertical-align: top;\n",
       "    }\n",
       "\n",
       "    .dataframe thead th {\n",
       "        text-align: right;\n",
       "    }\n",
       "</style>\n",
       "<table border=\"1\" class=\"dataframe\">\n",
       "  <thead>\n",
       "    <tr style=\"text-align: right;\">\n",
       "      <th></th>\n",
       "      <th>Id</th>\n",
       "      <th>nanoHUB_user_ID__c</th>\n",
       "      <th>nanoHUB_username__c</th>\n",
       "    </tr>\n",
       "  </thead>\n",
       "  <tbody>\n",
       "  </tbody>\n",
       "</table>\n",
       "</div>"
      ],
      "text/plain": [
       "Empty DataFrame\n",
       "Columns: [Id, nanoHUB_user_ID__c, nanoHUB_username__c]\n",
       "Index: []"
      ]
     },
     "metadata": {},
     "output_type": "display_data"
    }
   ],
   "source": [
    "display(sf_username_df.loc[sf_username_df['nanoHUB_user_ID__c'] == 362374])"
   ]
  },
  {
   "cell_type": "code",
   "execution_count": 10,
   "id": "1d1888a2-97ab-48d2-9155-547b2027b9f9",
   "metadata": {
    "execution": {
     "iopub.execute_input": "2022-04-22T15:14:18.516293Z",
     "iopub.status.busy": "2022-04-22T15:14:18.507348Z",
     "iopub.status.idle": "2022-04-22T15:14:19.588058Z",
     "shell.execute_reply": "2022-04-22T15:14:19.548849Z",
     "shell.execute_reply.started": "2022-04-22T15:14:18.516075Z"
    },
    "tags": []
   },
   "outputs": [
    {
     "data": {
      "text/html": [
       "<div>\n",
       "<style scoped>\n",
       "    .dataframe tbody tr th:only-of-type {\n",
       "        vertical-align: middle;\n",
       "    }\n",
       "\n",
       "    .dataframe tbody tr th {\n",
       "        vertical-align: top;\n",
       "    }\n",
       "\n",
       "    .dataframe thead th {\n",
       "        text-align: right;\n",
       "    }\n",
       "</style>\n",
       "<table border=\"1\" class=\"dataframe\">\n",
       "  <thead>\n",
       "    <tr style=\"text-align: right;\">\n",
       "      <th></th>\n",
       "      <th>Id</th>\n",
       "      <th>nanoHUB_user_ID__c</th>\n",
       "      <th>nanoHUB_username__c</th>\n",
       "    </tr>\n",
       "  </thead>\n",
       "  <tbody>\n",
       "  </tbody>\n",
       "</table>\n",
       "</div>"
      ],
      "text/plain": [
       "Empty DataFrame\n",
       "Columns: [Id, nanoHUB_user_ID__c, nanoHUB_username__c]\n",
       "Index: []"
      ]
     },
     "metadata": {},
     "output_type": "display_data"
    },
    {
     "data": {
      "text/html": [
       "<div>\n",
       "<style scoped>\n",
       "    .dataframe tbody tr th:only-of-type {\n",
       "        vertical-align: middle;\n",
       "    }\n",
       "\n",
       "    .dataframe tbody tr th {\n",
       "        vertical-align: top;\n",
       "    }\n",
       "\n",
       "    .dataframe thead th {\n",
       "        text-align: right;\n",
       "    }\n",
       "</style>\n",
       "<table border=\"1\" class=\"dataframe\">\n",
       "  <thead>\n",
       "    <tr style=\"text-align: right;\">\n",
       "      <th></th>\n",
       "      <th>Id</th>\n",
       "      <th>nanoHUB_user_ID__c</th>\n",
       "      <th>nanoHUB_username__c</th>\n",
       "    </tr>\n",
       "  </thead>\n",
       "  <tbody>\n",
       "  </tbody>\n",
       "</table>\n",
       "</div>"
      ],
      "text/plain": [
       "Empty DataFrame\n",
       "Columns: [Id, nanoHUB_user_ID__c, nanoHUB_username__c]\n",
       "Index: []"
      ]
     },
     "metadata": {},
     "output_type": "display_data"
    }
   ],
   "source": [
    "display(sf_username_df.loc[sf_username_df['nanoHUB_user_ID__c'] == 362299])\n",
    "display(sf_username_df.loc[sf_username_df['nanoHUB_username__c'].str.contains('bepisinusoidale')])\n",
    "\n",
    "\n"
   ]
  },
  {
   "cell_type": "code",
   "execution_count": 11,
   "id": "155754da-3a15-4b0e-8f37-705a1c857f37",
   "metadata": {
    "execution": {
     "iopub.execute_input": "2022-04-22T15:14:19.918351Z",
     "iopub.status.busy": "2022-04-22T15:14:19.912201Z",
     "iopub.status.idle": "2022-04-22T15:14:20.693907Z",
     "shell.execute_reply": "2022-04-22T15:14:20.655923Z",
     "shell.execute_reply.started": "2022-04-22T15:14:19.918159Z"
    },
    "tags": []
   },
   "outputs": [
    {
     "data": {
      "text/html": [
       "<div>\n",
       "<style scoped>\n",
       "    .dataframe tbody tr th:only-of-type {\n",
       "        vertical-align: middle;\n",
       "    }\n",
       "\n",
       "    .dataframe tbody tr th {\n",
       "        vertical-align: top;\n",
       "    }\n",
       "\n",
       "    .dataframe thead th {\n",
       "        text-align: right;\n",
       "    }\n",
       "</style>\n",
       "<table border=\"1\" class=\"dataframe\">\n",
       "  <thead>\n",
       "    <tr style=\"text-align: right;\">\n",
       "      <th></th>\n",
       "      <th>Id</th>\n",
       "      <th>nanoHUB_user_ID__c</th>\n",
       "      <th>nanoHUB_username__c</th>\n",
       "    </tr>\n",
       "  </thead>\n",
       "  <tbody>\n",
       "  </tbody>\n",
       "</table>\n",
       "</div>"
      ],
      "text/plain": [
       "Empty DataFrame\n",
       "Columns: [Id, nanoHUB_user_ID__c, nanoHUB_username__c]\n",
       "Index: []"
      ]
     },
     "metadata": {},
     "output_type": "display_data"
    },
    {
     "data": {
      "text/html": [
       "<div>\n",
       "<style scoped>\n",
       "    .dataframe tbody tr th:only-of-type {\n",
       "        vertical-align: middle;\n",
       "    }\n",
       "\n",
       "    .dataframe tbody tr th {\n",
       "        vertical-align: top;\n",
       "    }\n",
       "\n",
       "    .dataframe thead th {\n",
       "        text-align: right;\n",
       "    }\n",
       "</style>\n",
       "<table border=\"1\" class=\"dataframe\">\n",
       "  <thead>\n",
       "    <tr style=\"text-align: right;\">\n",
       "      <th></th>\n",
       "      <th>Id</th>\n",
       "      <th>nanoHUB_user_ID__c</th>\n",
       "      <th>nanoHUB_username__c</th>\n",
       "    </tr>\n",
       "  </thead>\n",
       "  <tbody>\n",
       "  </tbody>\n",
       "</table>\n",
       "</div>"
      ],
      "text/plain": [
       "Empty DataFrame\n",
       "Columns: [Id, nanoHUB_user_ID__c, nanoHUB_username__c]\n",
       "Index: []"
      ]
     },
     "metadata": {},
     "output_type": "display_data"
    }
   ],
   "source": [
    "display(sf_username_df.loc[sf_username_df['nanoHUB_user_ID__c'] == 361923])\n",
    "display(sf_username_df.loc[sf_username_df['nanoHUB_username__c'].str.contains('ericbmdz')])\n",
    "\n",
    "\n",
    "\n"
   ]
  },
  {
   "cell_type": "code",
   "execution_count": 12,
   "id": "3a11a410-b511-4f3f-b1f9-8a0c812aeabc",
   "metadata": {
    "execution": {
     "iopub.execute_input": "2022-04-22T15:14:20.756180Z",
     "iopub.status.busy": "2022-04-22T15:14:20.717085Z",
     "iopub.status.idle": "2022-04-22T15:14:21.816180Z",
     "shell.execute_reply": "2022-04-22T15:14:21.805477Z",
     "shell.execute_reply.started": "2022-04-22T15:14:20.756073Z"
    }
   },
   "outputs": [
    {
     "data": {
      "text/html": [
       "<div>\n",
       "<style scoped>\n",
       "    .dataframe tbody tr th:only-of-type {\n",
       "        vertical-align: middle;\n",
       "    }\n",
       "\n",
       "    .dataframe tbody tr th {\n",
       "        vertical-align: top;\n",
       "    }\n",
       "\n",
       "    .dataframe thead th {\n",
       "        text-align: right;\n",
       "    }\n",
       "</style>\n",
       "<table border=\"1\" class=\"dataframe\">\n",
       "  <thead>\n",
       "    <tr style=\"text-align: right;\">\n",
       "      <th></th>\n",
       "      <th>Id</th>\n",
       "      <th>nanoHUB_user_ID__c</th>\n",
       "      <th>nanoHUB_username__c</th>\n",
       "    </tr>\n",
       "  </thead>\n",
       "  <tbody>\n",
       "  </tbody>\n",
       "</table>\n",
       "</div>"
      ],
      "text/plain": [
       "Empty DataFrame\n",
       "Columns: [Id, nanoHUB_user_ID__c, nanoHUB_username__c]\n",
       "Index: []"
      ]
     },
     "metadata": {},
     "output_type": "display_data"
    },
    {
     "data": {
      "text/html": [
       "<div>\n",
       "<style scoped>\n",
       "    .dataframe tbody tr th:only-of-type {\n",
       "        vertical-align: middle;\n",
       "    }\n",
       "\n",
       "    .dataframe tbody tr th {\n",
       "        vertical-align: top;\n",
       "    }\n",
       "\n",
       "    .dataframe thead th {\n",
       "        text-align: right;\n",
       "    }\n",
       "</style>\n",
       "<table border=\"1\" class=\"dataframe\">\n",
       "  <thead>\n",
       "    <tr style=\"text-align: right;\">\n",
       "      <th></th>\n",
       "      <th>Id</th>\n",
       "      <th>nanoHUB_user_ID__c</th>\n",
       "      <th>nanoHUB_username__c</th>\n",
       "    </tr>\n",
       "  </thead>\n",
       "  <tbody>\n",
       "  </tbody>\n",
       "</table>\n",
       "</div>"
      ],
      "text/plain": [
       "Empty DataFrame\n",
       "Columns: [Id, nanoHUB_user_ID__c, nanoHUB_username__c]\n",
       "Index: []"
      ]
     },
     "metadata": {},
     "output_type": "display_data"
    }
   ],
   "source": [
    "display(sf_username_df.loc[sf_username_df['nanoHUB_user_ID__c'] == 358792])\n",
    "display(sf_username_df.loc[sf_username_df['nanoHUB_username__c'].str.contains('pbrumm')])"
   ]
  },
  {
   "cell_type": "code",
   "execution_count": 13,
   "id": "76b9e881-6d2f-4f7a-a52b-669b1ed5d589",
   "metadata": {
    "execution": {
     "iopub.execute_input": "2022-04-22T15:14:21.861683Z",
     "iopub.status.busy": "2022-04-22T15:14:21.854141Z",
     "iopub.status.idle": "2022-04-22T15:14:22.218275Z",
     "shell.execute_reply": "2022-04-22T15:14:22.185871Z",
     "shell.execute_reply.started": "2022-04-22T15:14:21.861590Z"
    }
   },
   "outputs": [
    {
     "data": {
      "text/html": [
       "<div>\n",
       "<style scoped>\n",
       "    .dataframe tbody tr th:only-of-type {\n",
       "        vertical-align: middle;\n",
       "    }\n",
       "\n",
       "    .dataframe tbody tr th {\n",
       "        vertical-align: top;\n",
       "    }\n",
       "\n",
       "    .dataframe thead th {\n",
       "        text-align: right;\n",
       "    }\n",
       "</style>\n",
       "<table border=\"1\" class=\"dataframe\">\n",
       "  <thead>\n",
       "    <tr style=\"text-align: right;\">\n",
       "      <th></th>\n",
       "      <th>Id</th>\n",
       "      <th>nanoHUB_user_ID__c</th>\n",
       "      <th>nanoHUB_username__c</th>\n",
       "    </tr>\n",
       "  </thead>\n",
       "  <tbody>\n",
       "    <tr>\n",
       "      <th>254024</th>\n",
       "      <td>0035w00003YYrqTAAT</td>\n",
       "      <td>347735.0</td>\n",
       "      <td>rubenmendia</td>\n",
       "    </tr>\n",
       "    <tr>\n",
       "      <th>254025</th>\n",
       "      <td>0035w00003YYrqUAAT</td>\n",
       "      <td>347736.0</td>\n",
       "      <td>chanyoup</td>\n",
       "    </tr>\n",
       "    <tr>\n",
       "      <th>254026</th>\n",
       "      <td>0035w00003YYrqVAAT</td>\n",
       "      <td>347738.0</td>\n",
       "      <td>ariaghevli</td>\n",
       "    </tr>\n",
       "    <tr>\n",
       "      <th>254027</th>\n",
       "      <td>0035w00003YYrqWAAT</td>\n",
       "      <td>347739.0</td>\n",
       "      <td>-186740</td>\n",
       "    </tr>\n",
       "    <tr>\n",
       "      <th>254028</th>\n",
       "      <td>0035w00003YYrqXAAT</td>\n",
       "      <td>347740.0</td>\n",
       "      <td>paulfhaake</td>\n",
       "    </tr>\n",
       "  </tbody>\n",
       "</table>\n",
       "</div>"
      ],
      "text/plain": [
       "                        Id  nanoHUB_user_ID__c nanoHUB_username__c\n",
       "254024  0035w00003YYrqTAAT            347735.0         rubenmendia\n",
       "254025  0035w00003YYrqUAAT            347736.0            chanyoup\n",
       "254026  0035w00003YYrqVAAT            347738.0          ariaghevli\n",
       "254027  0035w00003YYrqWAAT            347739.0             -186740\n",
       "254028  0035w00003YYrqXAAT            347740.0          paulfhaake"
      ]
     },
     "metadata": {},
     "output_type": "display_data"
    }
   ],
   "source": [
    "display(sf_username_df.tail())"
   ]
  },
  {
   "cell_type": "code",
   "execution_count": 15,
   "id": "3ae53cd4-4fa6-463e-8c68-8422fe5dac2b",
   "metadata": {
    "execution": {
     "iopub.execute_input": "2022-04-22T15:17:57.203134Z",
     "iopub.status.busy": "2022-04-22T15:17:57.150868Z",
     "iopub.status.idle": "2022-04-22T15:17:57.389779Z",
     "shell.execute_reply": "2022-04-22T15:17:57.377716Z",
     "shell.execute_reply.started": "2022-04-22T15:17:57.203076Z"
    }
   },
   "outputs": [],
   "source": [
    "query_str = '''\n",
    "SELECT Id, nanoHUB_user_ID__c, nanoHUB_username__c FROM Contact WHERE nanoHUB_username__c = 'rubenmendia'\n",
    "'''"
   ]
  },
  {
   "cell_type": "code",
   "execution_count": 16,
   "id": "0ac19534-3bd2-4497-aba7-999cf571fed4",
   "metadata": {
    "execution": {
     "iopub.execute_input": "2022-04-22T15:17:59.071587Z",
     "iopub.status.busy": "2022-04-22T15:17:59.067620Z",
     "iopub.status.idle": "2022-04-22T15:18:11.699109Z",
     "shell.execute_reply": "2022-04-22T15:18:11.696854Z",
     "shell.execute_reply.started": "2022-04-22T15:17:59.069699Z"
    },
    "tags": []
   },
   "outputs": [
    {
     "name": "stdout",
     "output_type": "stream",
     "text": [
      "[Success] Bulk job creation successful. Job ID = 7508W00000f7YzVQAU\n",
      "{\"id\":\"7508W00000f7YzVQAU\",\"operation\":\"queryAll\",\"object\":\"Contact\",\"createdById\":\"0055w00000DM5bOAAT\",\"createdDate\":\"2022-04-22T15:17:59.000+0000\",\"systemModstamp\":\"2022-04-22T15:17:59.000+0000\",\"state\":\"UploadComplete\",\"concurrencyMode\":\"Parallel\",\"contentType\":\"CSV\",\"apiVersion\":47.0,\"jobType\":\"V2Query\",\"lineEnding\":\"LF\",\"columnDelimiter\":\"COMMA\",\"retries\":0,\"totalProcessingTime\":0}\n",
      "{\"id\":\"7508W00000f7YzVQAU\",\"operation\":\"queryAll\",\"object\":\"Contact\",\"createdById\":\"0055w00000DM5bOAAT\",\"createdDate\":\"2022-04-22T15:17:59.000+0000\",\"systemModstamp\":\"2022-04-22T15:18:02.000+0000\",\"state\":\"JobComplete\",\"concurrencyMode\":\"Parallel\",\"contentType\":\"CSV\",\"apiVersion\":47.0,\"jobType\":\"V2Query\",\"lineEnding\":\"LF\",\"columnDelimiter\":\"COMMA\",\"numberRecordsProcessed\":1,\"retries\":0,\"totalProcessingTime\":303}\n",
      "[Success] Bulk job completed successfully.\n"
     ]
    },
    {
     "data": {
      "text/html": [
       "<div>\n",
       "<style scoped>\n",
       "    .dataframe tbody tr th:only-of-type {\n",
       "        vertical-align: middle;\n",
       "    }\n",
       "\n",
       "    .dataframe tbody tr th {\n",
       "        vertical-align: top;\n",
       "    }\n",
       "\n",
       "    .dataframe thead th {\n",
       "        text-align: right;\n",
       "    }\n",
       "</style>\n",
       "<table border=\"1\" class=\"dataframe\">\n",
       "  <thead>\n",
       "    <tr style=\"text-align: right;\">\n",
       "      <th></th>\n",
       "      <th>Id</th>\n",
       "      <th>nanoHUB_user_ID__c</th>\n",
       "      <th>nanoHUB_username__c</th>\n",
       "    </tr>\n",
       "  </thead>\n",
       "  <tbody>\n",
       "    <tr>\n",
       "      <th>0</th>\n",
       "      <td>0035w00003YYrqTAAT</td>\n",
       "      <td>347735.0</td>\n",
       "      <td>rubenmendia</td>\n",
       "    </tr>\n",
       "  </tbody>\n",
       "</table>\n",
       "</div>"
      ],
      "text/plain": [
       "                   Id  nanoHUB_user_ID__c nanoHUB_username__c\n",
       "0  0035w00003YYrqTAAT            347735.0         rubenmendia"
      ]
     },
     "execution_count": 16,
     "metadata": {},
     "output_type": "execute_result"
    }
   ],
   "source": [
    "# query the Salesforce IDs for contacts and citations. when updating junction objects, these IDs must be used\n",
    "\n",
    "# get Salesforce ID for contacts\n",
    "sf_username_df = db_s.query_data(query_str)\n",
    "\n",
    "# display\n",
    "sf_username_df.head(3)\n",
    "\n"
   ]
  },
  {
   "cell_type": "code",
   "execution_count": null,
   "id": "f6fa5c66-0340-4c0c-b73d-b06698090fae",
   "metadata": {
    "tags": []
   },
   "outputs": [],
   "source": []
  },
  {
   "cell_type": "code",
   "execution_count": 17,
   "id": "ceb81ae4-edc8-47ed-8306-8632c214e5f3",
   "metadata": {
    "execution": {
     "iopub.execute_input": "2022-04-22T15:18:48.365741Z",
     "iopub.status.busy": "2022-04-22T15:18:48.364420Z",
     "iopub.status.idle": "2022-04-22T15:18:48.474248Z",
     "shell.execute_reply": "2022-04-22T15:18:48.439150Z",
     "shell.execute_reply.started": "2022-04-22T15:18:48.365376Z"
    },
    "tags": []
   },
   "outputs": [],
   "source": [
    "query_str = '''\n",
    "SELECT Id, nanoHUB_user_ID__c, nanoHUB_username__c FROM Contact WHERE nanoHUB_username__c = 'wodyd909'\n",
    "'''"
   ]
  },
  {
   "cell_type": "code",
   "execution_count": 18,
   "id": "a1423409-b0e6-490d-bc8b-7a4efd6c20e1",
   "metadata": {
    "execution": {
     "iopub.execute_input": "2022-04-22T15:18:49.410071Z",
     "iopub.status.busy": "2022-04-22T15:18:49.409443Z",
     "iopub.status.idle": "2022-04-22T15:19:04.047721Z",
     "shell.execute_reply": "2022-04-22T15:19:04.031944Z",
     "shell.execute_reply.started": "2022-04-22T15:18:49.409992Z"
    },
    "tags": []
   },
   "outputs": [
    {
     "name": "stdout",
     "output_type": "stream",
     "text": [
      "[Success] Bulk job creation successful. Job ID = 7508W00000f7YzpQAE\n",
      "{\"id\":\"7508W00000f7YzpQAE\",\"operation\":\"queryAll\",\"object\":\"Contact\",\"createdById\":\"0055w00000DM5bOAAT\",\"createdDate\":\"2022-04-22T15:18:49.000+0000\",\"systemModstamp\":\"2022-04-22T15:18:50.000+0000\",\"state\":\"InProgress\",\"concurrencyMode\":\"Parallel\",\"contentType\":\"CSV\",\"apiVersion\":47.0,\"jobType\":\"V2Query\",\"lineEnding\":\"LF\",\"columnDelimiter\":\"COMMA\",\"numberRecordsProcessed\":0,\"retries\":0,\"totalProcessingTime\":0}\n",
      "{\"id\":\"7508W00000f7YzpQAE\",\"operation\":\"queryAll\",\"object\":\"Contact\",\"createdById\":\"0055w00000DM5bOAAT\",\"createdDate\":\"2022-04-22T15:18:49.000+0000\",\"systemModstamp\":\"2022-04-22T15:18:51.000+0000\",\"state\":\"JobComplete\",\"concurrencyMode\":\"Parallel\",\"contentType\":\"CSV\",\"apiVersion\":47.0,\"jobType\":\"V2Query\",\"lineEnding\":\"LF\",\"columnDelimiter\":\"COMMA\",\"numberRecordsProcessed\":1,\"retries\":0,\"totalProcessingTime\":185}\n",
      "[Success] Bulk job completed successfully.\n"
     ]
    },
    {
     "data": {
      "text/html": [
       "<div>\n",
       "<style scoped>\n",
       "    .dataframe tbody tr th:only-of-type {\n",
       "        vertical-align: middle;\n",
       "    }\n",
       "\n",
       "    .dataframe tbody tr th {\n",
       "        vertical-align: top;\n",
       "    }\n",
       "\n",
       "    .dataframe thead th {\n",
       "        text-align: right;\n",
       "    }\n",
       "</style>\n",
       "<table border=\"1\" class=\"dataframe\">\n",
       "  <thead>\n",
       "    <tr style=\"text-align: right;\">\n",
       "      <th></th>\n",
       "      <th>Id</th>\n",
       "      <th>nanoHUB_user_ID__c</th>\n",
       "      <th>nanoHUB_username__c</th>\n",
       "    </tr>\n",
       "  </thead>\n",
       "  <tbody>\n",
       "    <tr>\n",
       "      <th>0</th>\n",
       "      <td>0038W00001Yuww4QAB</td>\n",
       "      <td>362374.0</td>\n",
       "      <td>wodyd909</td>\n",
       "    </tr>\n",
       "  </tbody>\n",
       "</table>\n",
       "</div>"
      ],
      "text/plain": [
       "                   Id  nanoHUB_user_ID__c nanoHUB_username__c\n",
       "0  0038W00001Yuww4QAB            362374.0            wodyd909"
      ]
     },
     "execution_count": 18,
     "metadata": {},
     "output_type": "execute_result"
    }
   ],
   "source": [
    "# query the Salesforce IDs for contacts and citations. when updating junction objects, these IDs must be used\n",
    "\n",
    "# get Salesforce ID for contacts\n",
    "sf_username_df = db_s.query_data(query_str)\n",
    "\n",
    "# display\n",
    "sf_username_df.head(3)\n",
    "\n"
   ]
  },
  {
   "cell_type": "code",
   "execution_count": null,
   "id": "fccf04ec-b05f-4bab-9425-d64566f2b802",
   "metadata": {},
   "outputs": [],
   "source": []
  }
 ],
 "metadata": {
  "kernelspec": {
   "display_name": "Python 3 (ipykernel)",
   "language": "python",
   "name": "python3"
  },
  "language_info": {
   "codemirror_mode": {
    "name": "ipython",
    "version": 3
   },
   "file_extension": ".py",
   "mimetype": "text/x-python",
   "name": "python",
   "nbconvert_exporter": "python",
   "pygments_lexer": "ipython3",
   "version": "3.8.10"
  }
 },
 "nbformat": 4,
 "nbformat_minor": 5
}
