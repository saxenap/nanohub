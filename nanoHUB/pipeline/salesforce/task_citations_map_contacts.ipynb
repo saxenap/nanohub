{
 "cells": [
  {
   "cell_type": "markdown",
   "metadata": {
    "tags": [
     "papermill-error-cell-tag"
    ]
   },
   "source": [
    "<span style=\"color:red; font-family:Helvetica Neue, Helvetica, Arial, sans-serif; font-size:2em;\">An Exception was encountered at '<a href=\"#papermill-error-cell\">In [14]</a>'.</span>"
   ]
  },
  {
   "cell_type": "markdown",
   "metadata": {
    "papermill": {
     "duration": 0.054529,
     "end_time": "2021-01-21T06:30:34.811441",
     "exception": false,
     "start_time": "2021-01-21T06:30:34.756912",
     "status": "completed"
    },
    "tags": []
   },
   "source": [
    "# DB2-Salesforce connector: Citation mapping to users"
   ]
  },
  {
   "cell_type": "code",
   "execution_count": 1,
   "metadata": {
    "papermill": {
     "duration": 0.109568,
     "end_time": "2021-01-21T06:30:34.962075",
     "exception": false,
     "start_time": "2021-01-21T06:30:34.852507",
     "status": "completed"
    },
    "tags": [
     "parameters"
    ]
   },
   "outputs": [
    {
     "name": "stdout",
     "output_type": "stream",
     "text": [
      "\n",
      "``````````````````````````````````````````````````````````````````````````````````````````````````````````````````````````````````````````````````````\n",
      "```````````````````````````````$$$$$``````````````````````````````````````````````````````````````````````````````````````````````````````````````````\n",
      "`````````````````````````````$$$$`$$$$````````````````````````````````````````````````````````````````````````````````````````````````````````````````\n",
      "`````````````````$$$$$```````$$`````$$$```````````````````````````````````````````````````````````````````````````````````````````````````````````````\n",
      "````````````````$$```$$``````$$$$``$$$````````````````````````````````````````````````````````````````````````````````````````````````````````````````\n",
      "````````````````$$$$$$$```````$$$$$$``````````````````````````````````````````````````````````````````````````````````````````````````````````````````\n",
      "``````$$$$````````$$$$$```````$$$``````$$$$$$`````````````````````````````````````````````````````````````````````````````````````````````````````````\n",
      "````$$$$`$$$$```````$$$$$$$$$$$$$``````$$``$$$````````````````````````````````````````````````````````````````````````````````````````````````````````\n",
      "````$$`````$$$```$$$$$$$$$`$$$$$$$$``$$$$$$$$$````````````````````````````````````````````````````````$$$```````$$$$``$$$```````$$$```$$$$$$$$$$$`````\n",
      "````$$````$$$$``$$$$$``````````$$$$$$$$$$$$$$````````````````````````````````````````````````````````$$$$```````$$$$`$$$$```````$$$$`$$$$$$$$$$$$$$```\n",
      "`````$$$$$$$`$$$$$$```````````````$$$$```````````$$$$$$$``````$$$$$$$$`````$$$$$$$```````$$$$$$$`````$$$$```````$$$$`$$$$```````$$$$`$$$$``````$$$$```\n",
      "``````````````$$$`````$$$$$$$$`````$$$$````````$$$$$$$$$$$``$$$$$$$$$$$``$$$$$$$$$$$```$$$$$$$$$$$```$$$$``````$$$$$`$$$$```````$$$$`$$$$`````$$$$$```\n",
      "``````````````$$$`````$$````$$`````$$$$````````$$$`````$$$$````````$$$$$`$$$$````$$$$`$$$$`````$$$$``$$$$$$$$$$$$$$$`$$$$```````$$$$`$$$$$$$$$$$$$$```\n",
      "`````$$$$$```$$$$`````$$````$$`````$$$$````````$$$`````$$$$``$$$$$$$$$$$`$$$$````$$$$`$$$$`````$$$$``$$$$```````$$$$`$$$$```````$$$$`$$$$``````$$$$$``\n",
      "```$$$``$$$$$$$$$`````$$````$$`````$$$$````````$$$`````$$$$`$$$$````$$$$`$$$$````$$$$`$$$$`````$$$$``$$$$```````$$$$`$$$$$``````$$$``$$$$```````$$$$``\n",
      "````$$$`$$$````$$$````````````````$$$$`````````$$$`````$$$$`$$$$$$$$$$$``$$$$````$$$$``$$$$$$$$$$$```$$$$```````$$$$``$$$$$$$$$$$$$``$$$$$$$$$$$$$$```\n",
      "``````$$$```````$$$$$``````````$$$$$$``````````$$$`````$$$$``$$$$$$$$$```$$$$````$$$$````$$$$$$$`````$$$$```````$$$$````$$$$$$$$$````$$$$$$$$$$$$$````\n",
      "````````````````$$$$$$$$$```$$$$$$$$``````````````````````````````````````````````````````````````````````````````````````````````````````````````````\n",
      "```````````$$$$$$$``$$$$$$$$$$$$```$$$$$$$$```````````````````````````````````````````````````````````````````````````````````````````````````````````\n",
      "````````$$$$$$$$$````````$$$````````$$$``$$$$`````````````````````````````````````````````````````````````````````````````````````````````````````````\n",
      "```````$$$````$$$````````$$$```````$$$````$$$`````````````````````````````````````````````````````````````````````````````````````````````````````````\n",
      "````````$$````$$$``````$$$$$$$``````$$$``$$$$`````````````````````````````````````````````````````````````````````````````````````````````````````````\n",
      "`````````$$$$$$````````$$$``$$````````$$$$````````````````````````````````````````````````````````````````````````````````````````````````````````````\n",
      "````````````````````````$$$$$`````````````````````````````````````````````````````````````````````````````````````````````````````````````````````````\n",
      "``````````````````````````````````````````````````````````````````````````````````````````````````````````````````````````````````````````````````````\n",
      "\n",
      "Serving Students, Researchers & Instructors\n",
      "\n",
      "dsds\n",
      "2021-06-15 19:31:53,144 - [\u001B[1mINFO\u001B[0m] \u001B[1mnanoHUB.core_containers\u001B[0m [connection.get_connection_for:77]: Started SSH Tunnel with db2.nanohub.org\n",
      "2021-06-15 19:31:53,179 - [DEBUG] paramiko.transport [transport._log:1819]: starting thread (client mode): 0x85d506a0\n",
      "2021-06-15 19:31:53,181 - [DEBUG] paramiko.transport [transport._log:1819]: Local version/idstring: SSH-2.0-paramiko_2.7.2\n",
      "2021-06-15 19:31:53,216 - [DEBUG] paramiko.transport [transport._log:1819]: Remote version/idstring: SSH-2.0-OpenSSH_7.4\n",
      "2021-06-15 19:31:53,218 - [INFO] paramiko.transport [transport._log:1819]: Connected (version 2.0, client OpenSSH_7.4)\n",
      "2021-06-15 19:31:53,241 - [DEBUG] paramiko.transport [transport._log:1819]: kex algos:['curve25519-sha256', 'curve25519-sha256@libssh.org', 'ecdh-sha2-nistp256', 'ecdh-sha2-nistp384', 'ecdh-sha2-nistp521', 'diffie-hellman-group-exchange-sha256', 'diffie-hellman-group16-sha512', 'diffie-hellman-group18-sha512', 'diffie-hellman-group-exchange-sha1', 'diffie-hellman-group14-sha256', 'diffie-hellman-group14-sha1', 'diffie-hellman-group1-sha1'] server key:['ssh-rsa', 'rsa-sha2-512', 'rsa-sha2-256'] client encrypt:['aes256-ctr', 'aes192-ctr', 'aes128-ctr'] server encrypt:['aes256-ctr', 'aes192-ctr', 'aes128-ctr'] client mac:['hmac-sha2-512', 'hmac-sha2-256'] server mac:['hmac-sha2-512', 'hmac-sha2-256'] client compress:['none', 'zlib@openssh.com'] server compress:['none', 'zlib@openssh.com'] client lang:[''] server lang:[''] kex follows?False\n",
      "2021-06-15 19:31:53,242 - [DEBUG] paramiko.transport [transport._log:1819]: Kex agreed: curve25519-sha256@libssh.org\n",
      "2021-06-15 19:31:53,243 - [DEBUG] paramiko.transport [transport._log:1819]: HostKey agreed: ssh-rsa\n",
      "2021-06-15 19:31:53,243 - [DEBUG] paramiko.transport [transport._log:1819]: Cipher agreed: aes128-ctr\n",
      "2021-06-15 19:31:53,245 - [DEBUG] paramiko.transport [transport._log:1819]: MAC agreed: hmac-sha2-256\n",
      "2021-06-15 19:31:53,245 - [DEBUG] paramiko.transport [transport._log:1819]: Compression agreed: none\n",
      "2021-06-15 19:31:53,279 - [DEBUG] paramiko.transport [transport._log:1819]: kex engine KexCurve25519 specified hash_algo <built-in function openssl_sha256>\n",
      "2021-06-15 19:31:53,281 - [DEBUG] paramiko.transport [transport._log:1819]: Switch to new keys ...\n",
      "2021-06-15 19:31:53,282 - [DEBUG] paramiko.transport [transport._log:1819]: Attempting password auth...\n",
      "2021-06-15 19:31:53,308 - [DEBUG] paramiko.transport [transport._log:1819]: userauth is OK\n",
      "2021-06-15 19:31:53,363 - [INFO] paramiko.transport [transport._log:1819]: Authentication (password) successful!\n",
      "2021-06-15 19:31:53,365 - [DEBUG] paramiko.transport [channel._log:1212]: [chan 0] Max packet in: 32768 bytes\n",
      "2021-06-15 19:31:53,394 - [DEBUG] paramiko.transport [transport._log:1819]: Received global request \"hostkeys-00@openssh.com\"\n",
      "2021-06-15 19:31:53,395 - [DEBUG] paramiko.transport [transport._log:1819]: Rejecting \"hostkeys-00@openssh.com\" global request from server.\n",
      "2021-06-15 19:31:53,421 - [DEBUG] paramiko.transport [channel._log:1212]: [chan 0] Max packet out: 32768 bytes\n",
      "2021-06-15 19:31:53,424 - [DEBUG] paramiko.transport [transport._log:1819]: Secsh channel 0 opened.\n",
      "dsds\n",
      "2021-06-15 19:31:53,480 - [\u001B[1mINFO\u001B[0m] \u001B[1mnanoHUB.core_containers\u001B[0m [connection.get_connection_for:77]: Started SSH Tunnel with db2.nanohub.org\n",
      "2021-06-15 19:31:53,519 - [DEBUG] paramiko.transport [transport._log:1819]: starting thread (client mode): 0x85d80d60\n",
      "2021-06-15 19:31:53,521 - [DEBUG] paramiko.transport [transport._log:1819]: Local version/idstring: SSH-2.0-paramiko_2.7.2\n",
      "2021-06-15 19:31:53,552 - [DEBUG] paramiko.transport [transport._log:1819]: Remote version/idstring: SSH-2.0-OpenSSH_7.4\n",
      "2021-06-15 19:31:53,554 - [INFO] paramiko.transport [transport._log:1819]: Connected (version 2.0, client OpenSSH_7.4)\n",
      "2021-06-15 19:31:53,576 - [DEBUG] paramiko.transport [transport._log:1819]: kex algos:['curve25519-sha256', 'curve25519-sha256@libssh.org', 'ecdh-sha2-nistp256', 'ecdh-sha2-nistp384', 'ecdh-sha2-nistp521', 'diffie-hellman-group-exchange-sha256', 'diffie-hellman-group16-sha512', 'diffie-hellman-group18-sha512', 'diffie-hellman-group-exchange-sha1', 'diffie-hellman-group14-sha256', 'diffie-hellman-group14-sha1', 'diffie-hellman-group1-sha1'] server key:['ssh-rsa', 'rsa-sha2-512', 'rsa-sha2-256'] client encrypt:['aes256-ctr', 'aes192-ctr', 'aes128-ctr'] server encrypt:['aes256-ctr', 'aes192-ctr', 'aes128-ctr'] client mac:['hmac-sha2-512', 'hmac-sha2-256'] server mac:['hmac-sha2-512', 'hmac-sha2-256'] client compress:['none', 'zlib@openssh.com'] server compress:['none', 'zlib@openssh.com'] client lang:[''] server lang:[''] kex follows?False\n",
      "2021-06-15 19:31:53,577 - [DEBUG] paramiko.transport [transport._log:1819]: Kex agreed: curve25519-sha256@libssh.org\n",
      "2021-06-15 19:31:53,577 - [DEBUG] paramiko.transport [transport._log:1819]: HostKey agreed: ssh-rsa\n",
      "2021-06-15 19:31:53,578 - [DEBUG] paramiko.transport [transport._log:1819]: Cipher agreed: aes128-ctr\n",
      "2021-06-15 19:31:53,579 - [DEBUG] paramiko.transport [transport._log:1819]: MAC agreed: hmac-sha2-256\n",
      "2021-06-15 19:31:53,579 - [DEBUG] paramiko.transport [transport._log:1819]: Compression agreed: none\n",
      "2021-06-15 19:31:53,616 - [DEBUG] paramiko.transport [transport._log:1819]: kex engine KexCurve25519 specified hash_algo <built-in function openssl_sha256>\n",
      "2021-06-15 19:31:53,617 - [DEBUG] paramiko.transport [transport._log:1819]: Switch to new keys ...\n",
      "2021-06-15 19:31:53,618 - [DEBUG] paramiko.transport [transport._log:1819]: Attempting password auth...\n",
      "2021-06-15 19:31:53,646 - [DEBUG] paramiko.transport [transport._log:1819]: userauth is OK\n",
      "2021-06-15 19:31:53,693 - [INFO] paramiko.transport [transport._log:1819]: Authentication (password) successful!\n",
      "2021-06-15 19:31:53,698 - [DEBUG] paramiko.transport [channel._log:1212]: [chan 0] Max packet in: 32768 bytes\n",
      "2021-06-15 19:31:53,716 - [DEBUG] paramiko.transport [transport._log:1819]: Received global request \"hostkeys-00@openssh.com\"\n",
      "2021-06-15 19:31:53,717 - [DEBUG] paramiko.transport [transport._log:1819]: Rejecting \"hostkeys-00@openssh.com\" global request from server.\n",
      "2021-06-15 19:31:53,741 - [DEBUG] paramiko.transport [channel._log:1212]: [chan 0] Max packet out: 32768 bytes\n",
      "2021-06-15 19:31:53,743 - [DEBUG] paramiko.transport [transport._log:1819]: Secsh channel 0 opened.\n",
      "2021-06-15 19:31:53,775 - [DEBUG] paramiko.transport [channel._log:1212]: [chan 0] EOF sent (0)\n",
      "2021-06-15 19:31:53,797 - [DEBUG] paramiko.transport [channel._log:1212]: [chan 0] EOF received (0)\n"
     ]
    },
    {
     "ename": "OperationalError",
     "evalue": "(1044, \"Access denied for user 'saxenap_ro'@'localhost' to database 'wang159_myrmekes'\")",
     "output_type": "error",
     "traceback": [
      "\u001B[0;31m---------------------------------------------------------------------------\u001B[0m",
      "\u001B[0;31mOperationalError\u001B[0m                          Traceback (most recent call last)",
      "\u001B[0;32m<ipython-input-1-acd8cbcf48c3>\u001B[0m in \u001B[0;36m<module>\u001B[0;34m\u001B[0m\n\u001B[1;32m      8\u001B[0m \u001B[0mapplication\u001B[0m \u001B[0;34m=\u001B[0m \u001B[0mApplication\u001B[0m\u001B[0;34m.\u001B[0m\u001B[0mget_instance\u001B[0m\u001B[0;34m(\u001B[0m\u001B[0;34m)\u001B[0m\u001B[0;34m\u001B[0m\u001B[0;34m\u001B[0m\u001B[0m\n\u001B[1;32m      9\u001B[0m \u001B[0mnanohub_db\u001B[0m \u001B[0;34m=\u001B[0m \u001B[0mapplication\u001B[0m\u001B[0;34m.\u001B[0m\u001B[0mnew_db_engine\u001B[0m\u001B[0;34m(\u001B[0m\u001B[0;34m'nanohub'\u001B[0m\u001B[0;34m)\u001B[0m\u001B[0;34m\u001B[0m\u001B[0;34m\u001B[0m\u001B[0m\n\u001B[0;32m---> 10\u001B[0;31m \u001B[0mwang159_myrmekes_db\u001B[0m \u001B[0;34m=\u001B[0m \u001B[0mapplication\u001B[0m\u001B[0;34m.\u001B[0m\u001B[0mnew_db_engine\u001B[0m\u001B[0;34m(\u001B[0m\u001B[0;34m'wang159_myrmekes'\u001B[0m\u001B[0;34m)\u001B[0m\u001B[0;34m\u001B[0m\u001B[0;34m\u001B[0m\u001B[0m\n\u001B[0m\u001B[1;32m     11\u001B[0m \u001B[0;34m\u001B[0m\u001B[0m\n\u001B[1;32m     12\u001B[0m \u001B[0msalesforce\u001B[0m \u001B[0;34m=\u001B[0m \u001B[0mapplication\u001B[0m\u001B[0;34m.\u001B[0m\u001B[0mnew_salesforce_engine\u001B[0m\u001B[0;34m(\u001B[0m\u001B[0;34m)\u001B[0m\u001B[0;34m\u001B[0m\u001B[0;34m\u001B[0m\u001B[0m\n",
      "\u001B[0;32m~/work/nanoHUB/pipeline/application.py\u001B[0m in \u001B[0;36mnew_db_engine\u001B[0;34m(self, db_name)\u001B[0m\n\u001B[1;32m     13\u001B[0m     \u001B[0;32mdef\u001B[0m \u001B[0mnew_db_engine\u001B[0m\u001B[0;34m(\u001B[0m\u001B[0mself\u001B[0m\u001B[0;34m,\u001B[0m \u001B[0mdb_name\u001B[0m\u001B[0;34m:\u001B[0m \u001B[0mstr\u001B[0m\u001B[0;34m)\u001B[0m \u001B[0;34m->\u001B[0m \u001B[0mIDbConnectionFactory\u001B[0m\u001B[0;34m:\u001B[0m\u001B[0;34m\u001B[0m\u001B[0;34m\u001B[0m\u001B[0m\n\u001B[1;32m     14\u001B[0m \u001B[0;34m\u001B[0m\u001B[0m\n\u001B[0;32m---> 15\u001B[0;31m         \u001B[0;32mreturn\u001B[0m \u001B[0mself\u001B[0m\u001B[0;34m.\u001B[0m\u001B[0mcontainer\u001B[0m\u001B[0;34m.\u001B[0m\u001B[0mdatabase\u001B[0m\u001B[0;34m.\u001B[0m\u001B[0mdb_connection_factory\u001B[0m\u001B[0;34m(\u001B[0m\u001B[0;34m)\u001B[0m\u001B[0;34m.\u001B[0m\u001B[0mget_connection_for\u001B[0m\u001B[0;34m(\u001B[0m\u001B[0mdb_name\u001B[0m\u001B[0;34m)\u001B[0m\u001B[0;34m\u001B[0m\u001B[0;34m\u001B[0m\u001B[0m\n\u001B[0m\u001B[1;32m     16\u001B[0m \u001B[0;34m\u001B[0m\u001B[0m\n\u001B[1;32m     17\u001B[0m     \u001B[0;32mdef\u001B[0m \u001B[0mnew_salesforce_engine\u001B[0m\u001B[0;34m(\u001B[0m\u001B[0mself\u001B[0m\u001B[0;34m)\u001B[0m \u001B[0;34m->\u001B[0m \u001B[0mDB2SalesforceAPI\u001B[0m\u001B[0;34m:\u001B[0m\u001B[0;34m\u001B[0m\u001B[0;34m\u001B[0m\u001B[0m\n",
      "\u001B[0;32m~/work/nanoHUB/connection.py\u001B[0m in \u001B[0;36mget_connection_for\u001B[0;34m(self, db_name)\u001B[0m\n\u001B[1;32m     80\u001B[0m \u001B[0;34m\u001B[0m\u001B[0m\n\u001B[1;32m     81\u001B[0m         \u001B[0mself\u001B[0m\u001B[0;34m.\u001B[0m\u001B[0mdb_factory\u001B[0m\u001B[0;34m.\u001B[0m\u001B[0mset_port\u001B[0m\u001B[0;34m(\u001B[0m\u001B[0mtunnel\u001B[0m\u001B[0;34m.\u001B[0m\u001B[0mlocal_bind_port\u001B[0m\u001B[0;34m)\u001B[0m\u001B[0;34m\u001B[0m\u001B[0;34m\u001B[0m\u001B[0m\n\u001B[0;32m---> 82\u001B[0;31m         \u001B[0;32mreturn\u001B[0m \u001B[0mself\u001B[0m\u001B[0;34m.\u001B[0m\u001B[0mdb_factory\u001B[0m\u001B[0;34m.\u001B[0m\u001B[0mget_connection_for\u001B[0m\u001B[0;34m(\u001B[0m\u001B[0mdb_name\u001B[0m\u001B[0;34m)\u001B[0m\u001B[0;34m\u001B[0m\u001B[0;34m\u001B[0m\u001B[0m\n\u001B[0m\u001B[1;32m     83\u001B[0m \u001B[0;34m\u001B[0m\u001B[0m\n\u001B[1;32m     84\u001B[0m \u001B[0;34m\u001B[0m\u001B[0m\n",
      "\u001B[0;32m~/work/nanoHUB/connection.py\u001B[0m in \u001B[0;36mget_connection_for\u001B[0;34m(self, db_name)\u001B[0m\n\u001B[1;32m     31\u001B[0m     \u001B[0;32mdef\u001B[0m \u001B[0mget_connection_for\u001B[0m\u001B[0;34m(\u001B[0m\u001B[0mself\u001B[0m\u001B[0;34m,\u001B[0m \u001B[0mdb_name\u001B[0m\u001B[0;34m:\u001B[0m \u001B[0mstr\u001B[0m\u001B[0;34m)\u001B[0m\u001B[0;34m:\u001B[0m\u001B[0;34m\u001B[0m\u001B[0;34m\u001B[0m\u001B[0m\n\u001B[1;32m     32\u001B[0m \u001B[0;34m\u001B[0m\u001B[0m\n\u001B[0;32m---> 33\u001B[0;31m         return pymysql.connect(\n\u001B[0m\u001B[1;32m     34\u001B[0m             \u001B[0mhost\u001B[0m\u001B[0;34m=\u001B[0m\u001B[0mself\u001B[0m\u001B[0;34m.\u001B[0m\u001B[0mparams\u001B[0m\u001B[0;34m.\u001B[0m\u001B[0mdb_host\u001B[0m\u001B[0;34m,\u001B[0m\u001B[0;34m\u001B[0m\u001B[0;34m\u001B[0m\u001B[0m\n\u001B[1;32m     35\u001B[0m             \u001B[0mdatabase\u001B[0m\u001B[0;34m=\u001B[0m\u001B[0mdb_name\u001B[0m\u001B[0;34m,\u001B[0m\u001B[0;34m\u001B[0m\u001B[0;34m\u001B[0m\u001B[0m\n",
      "\u001B[0;32m/opt/conda/lib/python3.9/site-packages/pymysql/connections.py\u001B[0m in \u001B[0;36m__init__\u001B[0;34m(self, user, password, host, database, unix_socket, port, charset, sql_mode, read_default_file, conv, use_unicode, client_flag, cursorclass, init_command, connect_timeout, read_default_group, autocommit, local_infile, max_allowed_packet, defer_connect, auth_plugin_map, read_timeout, write_timeout, bind_address, binary_prefix, program_name, server_public_key, ssl, ssl_ca, ssl_cert, ssl_disabled, ssl_key, ssl_verify_cert, ssl_verify_identity, compress, named_pipe, passwd, db)\u001B[0m\n\u001B[1;32m    351\u001B[0m             \u001B[0mself\u001B[0m\u001B[0;34m.\u001B[0m\u001B[0m_sock\u001B[0m \u001B[0;34m=\u001B[0m \u001B[0;32mNone\u001B[0m\u001B[0;34m\u001B[0m\u001B[0;34m\u001B[0m\u001B[0m\n\u001B[1;32m    352\u001B[0m         \u001B[0;32melse\u001B[0m\u001B[0;34m:\u001B[0m\u001B[0;34m\u001B[0m\u001B[0;34m\u001B[0m\u001B[0m\n\u001B[0;32m--> 353\u001B[0;31m             \u001B[0mself\u001B[0m\u001B[0;34m.\u001B[0m\u001B[0mconnect\u001B[0m\u001B[0;34m(\u001B[0m\u001B[0;34m)\u001B[0m\u001B[0;34m\u001B[0m\u001B[0;34m\u001B[0m\u001B[0m\n\u001B[0m\u001B[1;32m    354\u001B[0m \u001B[0;34m\u001B[0m\u001B[0m\n\u001B[1;32m    355\u001B[0m     \u001B[0;32mdef\u001B[0m \u001B[0m__enter__\u001B[0m\u001B[0;34m(\u001B[0m\u001B[0mself\u001B[0m\u001B[0;34m)\u001B[0m\u001B[0;34m:\u001B[0m\u001B[0;34m\u001B[0m\u001B[0;34m\u001B[0m\u001B[0m\n",
      "\u001B[0;32m/opt/conda/lib/python3.9/site-packages/pymysql/connections.py\u001B[0m in \u001B[0;36mconnect\u001B[0;34m(self, sock)\u001B[0m\n\u001B[1;32m    631\u001B[0m \u001B[0;34m\u001B[0m\u001B[0m\n\u001B[1;32m    632\u001B[0m             \u001B[0mself\u001B[0m\u001B[0;34m.\u001B[0m\u001B[0m_get_server_information\u001B[0m\u001B[0;34m(\u001B[0m\u001B[0;34m)\u001B[0m\u001B[0;34m\u001B[0m\u001B[0;34m\u001B[0m\u001B[0m\n\u001B[0;32m--> 633\u001B[0;31m             \u001B[0mself\u001B[0m\u001B[0;34m.\u001B[0m\u001B[0m_request_authentication\u001B[0m\u001B[0;34m(\u001B[0m\u001B[0;34m)\u001B[0m\u001B[0;34m\u001B[0m\u001B[0;34m\u001B[0m\u001B[0m\n\u001B[0m\u001B[1;32m    634\u001B[0m \u001B[0;34m\u001B[0m\u001B[0m\n\u001B[1;32m    635\u001B[0m             \u001B[0;32mif\u001B[0m \u001B[0mself\u001B[0m\u001B[0;34m.\u001B[0m\u001B[0msql_mode\u001B[0m \u001B[0;32mis\u001B[0m \u001B[0;32mnot\u001B[0m \u001B[0;32mNone\u001B[0m\u001B[0;34m:\u001B[0m\u001B[0;34m\u001B[0m\u001B[0;34m\u001B[0m\u001B[0m\n",
      "\u001B[0;32m/opt/conda/lib/python3.9/site-packages/pymysql/connections.py\u001B[0m in \u001B[0;36m_request_authentication\u001B[0;34m(self)\u001B[0m\n\u001B[1;32m    905\u001B[0m \u001B[0;34m\u001B[0m\u001B[0m\n\u001B[1;32m    906\u001B[0m         \u001B[0mself\u001B[0m\u001B[0;34m.\u001B[0m\u001B[0mwrite_packet\u001B[0m\u001B[0;34m(\u001B[0m\u001B[0mdata\u001B[0m\u001B[0;34m)\u001B[0m\u001B[0;34m\u001B[0m\u001B[0;34m\u001B[0m\u001B[0m\n\u001B[0;32m--> 907\u001B[0;31m         \u001B[0mauth_packet\u001B[0m \u001B[0;34m=\u001B[0m \u001B[0mself\u001B[0m\u001B[0;34m.\u001B[0m\u001B[0m_read_packet\u001B[0m\u001B[0;34m(\u001B[0m\u001B[0;34m)\u001B[0m\u001B[0;34m\u001B[0m\u001B[0;34m\u001B[0m\u001B[0m\n\u001B[0m\u001B[1;32m    908\u001B[0m \u001B[0;34m\u001B[0m\u001B[0m\n\u001B[1;32m    909\u001B[0m         \u001B[0;31m# if authentication method isn't accepted the first byte\u001B[0m\u001B[0;34m\u001B[0m\u001B[0;34m\u001B[0m\u001B[0;34m\u001B[0m\u001B[0m\n",
      "\u001B[0;32m/opt/conda/lib/python3.9/site-packages/pymysql/connections.py\u001B[0m in \u001B[0;36m_read_packet\u001B[0;34m(self, packet_type)\u001B[0m\n\u001B[1;32m    723\u001B[0m             \u001B[0;32mif\u001B[0m \u001B[0mself\u001B[0m\u001B[0;34m.\u001B[0m\u001B[0m_result\u001B[0m \u001B[0;32mis\u001B[0m \u001B[0;32mnot\u001B[0m \u001B[0;32mNone\u001B[0m \u001B[0;32mand\u001B[0m \u001B[0mself\u001B[0m\u001B[0;34m.\u001B[0m\u001B[0m_result\u001B[0m\u001B[0;34m.\u001B[0m\u001B[0munbuffered_active\u001B[0m \u001B[0;32mis\u001B[0m \u001B[0;32mTrue\u001B[0m\u001B[0;34m:\u001B[0m\u001B[0;34m\u001B[0m\u001B[0;34m\u001B[0m\u001B[0m\n\u001B[1;32m    724\u001B[0m                 \u001B[0mself\u001B[0m\u001B[0;34m.\u001B[0m\u001B[0m_result\u001B[0m\u001B[0;34m.\u001B[0m\u001B[0munbuffered_active\u001B[0m \u001B[0;34m=\u001B[0m \u001B[0;32mFalse\u001B[0m\u001B[0;34m\u001B[0m\u001B[0;34m\u001B[0m\u001B[0m\n\u001B[0;32m--> 725\u001B[0;31m             \u001B[0mpacket\u001B[0m\u001B[0;34m.\u001B[0m\u001B[0mraise_for_error\u001B[0m\u001B[0;34m(\u001B[0m\u001B[0;34m)\u001B[0m\u001B[0;34m\u001B[0m\u001B[0;34m\u001B[0m\u001B[0m\n\u001B[0m\u001B[1;32m    726\u001B[0m         \u001B[0;32mreturn\u001B[0m \u001B[0mpacket\u001B[0m\u001B[0;34m\u001B[0m\u001B[0;34m\u001B[0m\u001B[0m\n\u001B[1;32m    727\u001B[0m \u001B[0;34m\u001B[0m\u001B[0m\n",
      "\u001B[0;32m/opt/conda/lib/python3.9/site-packages/pymysql/protocol.py\u001B[0m in \u001B[0;36mraise_for_error\u001B[0;34m(self)\u001B[0m\n\u001B[1;32m    219\u001B[0m         \u001B[0;32mif\u001B[0m \u001B[0mDEBUG\u001B[0m\u001B[0;34m:\u001B[0m\u001B[0;34m\u001B[0m\u001B[0;34m\u001B[0m\u001B[0m\n\u001B[1;32m    220\u001B[0m             \u001B[0mprint\u001B[0m\u001B[0;34m(\u001B[0m\u001B[0;34m\"errno =\"\u001B[0m\u001B[0;34m,\u001B[0m \u001B[0merrno\u001B[0m\u001B[0;34m)\u001B[0m\u001B[0;34m\u001B[0m\u001B[0;34m\u001B[0m\u001B[0m\n\u001B[0;32m--> 221\u001B[0;31m         \u001B[0merr\u001B[0m\u001B[0;34m.\u001B[0m\u001B[0mraise_mysql_exception\u001B[0m\u001B[0;34m(\u001B[0m\u001B[0mself\u001B[0m\u001B[0;34m.\u001B[0m\u001B[0m_data\u001B[0m\u001B[0;34m)\u001B[0m\u001B[0;34m\u001B[0m\u001B[0;34m\u001B[0m\u001B[0m\n\u001B[0m\u001B[1;32m    222\u001B[0m \u001B[0;34m\u001B[0m\u001B[0m\n\u001B[1;32m    223\u001B[0m     \u001B[0;32mdef\u001B[0m \u001B[0mdump\u001B[0m\u001B[0;34m(\u001B[0m\u001B[0mself\u001B[0m\u001B[0;34m)\u001B[0m\u001B[0;34m:\u001B[0m\u001B[0;34m\u001B[0m\u001B[0;34m\u001B[0m\u001B[0m\n",
      "\u001B[0;32m/opt/conda/lib/python3.9/site-packages/pymysql/err.py\u001B[0m in \u001B[0;36mraise_mysql_exception\u001B[0;34m(data)\u001B[0m\n\u001B[1;32m    141\u001B[0m     \u001B[0;32mif\u001B[0m \u001B[0merrorclass\u001B[0m \u001B[0;32mis\u001B[0m \u001B[0;32mNone\u001B[0m\u001B[0;34m:\u001B[0m\u001B[0;34m\u001B[0m\u001B[0;34m\u001B[0m\u001B[0m\n\u001B[1;32m    142\u001B[0m         \u001B[0merrorclass\u001B[0m \u001B[0;34m=\u001B[0m \u001B[0mInternalError\u001B[0m \u001B[0;32mif\u001B[0m \u001B[0merrno\u001B[0m \u001B[0;34m<\u001B[0m \u001B[0;36m1000\u001B[0m \u001B[0;32melse\u001B[0m \u001B[0mOperationalError\u001B[0m\u001B[0;34m\u001B[0m\u001B[0;34m\u001B[0m\u001B[0m\n\u001B[0;32m--> 143\u001B[0;31m     \u001B[0;32mraise\u001B[0m \u001B[0merrorclass\u001B[0m\u001B[0;34m(\u001B[0m\u001B[0merrno\u001B[0m\u001B[0;34m,\u001B[0m \u001B[0merrval\u001B[0m\u001B[0;34m)\u001B[0m\u001B[0;34m\u001B[0m\u001B[0;34m\u001B[0m\u001B[0m\n\u001B[0m",
      "\u001B[0;31mOperationalError\u001B[0m: (1044, \"Access denied for user 'saxenap_ro'@'localhost' to database 'wang159_myrmekes'\")"
     ]
    }
   ],
   "source": [
    "# API settings\n",
    "api_url = '/services/data/v43.0/sobjects'\n",
    "external_id = 'Name'\n",
    "object_id = 'contact_citation_asso__c'\n",
    "\n",
    "from nanoHUB.application import Application\n",
    "\n",
    "application = Application.get_instance()\n",
    "nanohub_db = application.new_db_engine('nanohub')\n",
    "wang159_myrmekes_db = application.new_db_engine('wang159_myrmekes')\n",
    "\n",
    "salesforce = application.new_salesforce_engine()\n",
    "db_s = salesforce"
   ]
  },
  {
   "cell_type": "code",
   "execution_count": null,
   "metadata": {
    "papermill": {
     "duration": 5.682217,
     "end_time": "2021-01-21T06:30:40.732331",
     "exception": false,
     "start_time": "2021-01-21T06:30:35.050114",
     "status": "completed"
    },
    "tags": []
   },
   "outputs": [],
   "source": [
    "import sys\n",
    "sys.path.append('/home/users/wang2506/nanohub_salesforce_integ/salesforce')\n",
    "    \n",
    "import pandas as pd\n",
    "import time\n",
    "import datetime\n",
    "\n"
   ]
  },
  {
   "cell_type": "markdown",
   "metadata": {
    "papermill": {
     "duration": 0.027134,
     "end_time": "2021-01-21T06:30:40.805177",
     "exception": false,
     "start_time": "2021-01-21T06:30:40.778043",
     "status": "completed"
    },
    "tags": [],
    "pycharm": {
     "name": "#%% md\n"
    }
   },
   "source": [
    "## Obtain tool information from DB2 "
   ]
  },
  {
   "cell_type": "code",
   "execution_count": null,
   "metadata": {
    "papermill": {
     "duration": 4.753466,
     "end_time": "2021-01-21T06:30:45.580043",
     "exception": false,
     "start_time": "2021-01-21T06:30:40.826577",
     "status": "completed"
    },
    "tags": []
   },
   "outputs": [],
   "source": [
    "\n",
    "\n",
    "# Citations\n",
    "sql_query = \"select * from jos_citations\"\n",
    "\n",
    "citations_df = pd.read_sql_query(sql_query, nanohub_db)\n",
    "\n",
    "# Citation authors\n",
    "sql_query = \"select * from jos_citations_authors;\"\n",
    "\n",
    "authors_df = pd.read_sql_query(sql_query, nanohub_db)"
   ]
  },
  {
   "cell_type": "code",
   "execution_count": null,
   "metadata": {
    "papermill": {
     "duration": 0.052121,
     "end_time": "2021-01-21T06:30:45.663519",
     "exception": false,
     "start_time": "2021-01-21T06:30:45.611398",
     "status": "completed"
    },
    "tags": []
   },
   "outputs": [],
   "source": [
    "# replace N/A and empty values with None\n",
    "authors_df.organization.replace('N/A', '', inplace=True)"
   ]
  },
  {
   "cell_type": "code",
   "execution_count": null,
   "metadata": {
    "papermill": {
     "duration": 0.107241,
     "end_time": "2021-01-21T06:30:45.790684",
     "exception": false,
     "start_time": "2021-01-21T06:30:45.683443",
     "status": "completed"
    },
    "tags": []
   },
   "outputs": [],
   "source": [
    "authors_df.columns"
   ]
  },
  {
   "cell_type": "code",
   "execution_count": null,
   "metadata": {
    "papermill": {
     "duration": 0.118148,
     "end_time": "2021-01-21T06:30:45.932224",
     "exception": false,
     "start_time": "2021-01-21T06:30:45.814076",
     "status": "completed"
    },
    "tags": []
   },
   "outputs": [],
   "source": [
    "# combining authors and citations\n",
    "ac_df = pd.merge(citations_df[['id']], authors_df[['cid', 'uidNumber','id','organization','orcid','research_id','gscholar_id']], how='inner',\\\n",
    "                 left_on='id', right_on='cid', suffixes=['_c', '_a'])\\\n",
    "                .drop(columns='id_c')\n",
    "\n",
    "ac_df.rename(columns={'cid':'citation_ID', 'uidNumber':'nanohub_user_id', 'id_a':'author_id'}, inplace=True)\n",
    "\n",
    "# display\n",
    "ac_df.head(3)"
   ]
  },
  {
   "cell_type": "code",
   "execution_count": null,
   "metadata": {
    "papermill": {
     "duration": 209.478758,
     "end_time": "2021-01-21T06:34:15.442067",
     "exception": false,
     "start_time": "2021-01-21T06:30:45.963309",
     "status": "completed"
    },
    "tags": []
   },
   "outputs": [],
   "source": [
    "# Obtain company domain information from DB2\n",
    "domain_df = pd.read_sql_query(\"select name as domain_name, domain, industry, `size range` as size, country \\\n",
    "from wang159_myrmekes.companies_email_domain\", wang159_myrmekes_db)\n",
    "\n",
    "# make sure domain is unique and drop NaN\n",
    "domain_df = domain_df.drop_duplicates(subset='domain', keep='first')"
   ]
  },
  {
   "cell_type": "code",
   "execution_count": null,
   "metadata": {
    "papermill": {
     "duration": 13.277199,
     "end_time": "2021-01-21T06:34:28.739767",
     "exception": false,
     "start_time": "2021-01-21T06:34:15.462568",
     "status": "completed"
    },
    "tags": []
   },
   "outputs": [],
   "source": [
    "import nltk\n",
    "#nltk.download('stopwords')\n",
    "\n",
    "from nltk.corpus import stopwords\n",
    "s_words = stopwords.words('english')"
   ]
  },
  {
   "cell_type": "code",
   "execution_count": null,
   "metadata": {
    "papermill": {
     "duration": 0.060898,
     "end_time": "2021-01-21T06:34:28.851633",
     "exception": false,
     "start_time": "2021-01-21T06:34:28.790735",
     "status": "completed"
    },
    "tags": []
   },
   "outputs": [],
   "source": [
    "import re\n",
    "\n",
    "def clean_domain(this_domain_name):\n",
    "    \n",
    "    if not this_domain_name:\n",
    "        return None\n",
    "    \n",
    "    # Replace all non-alphanumeric characters with space\n",
    "    this_domain_name = re.sub(\"[^0-9a-zA-Z]+\", \" \", this_domain_name.lower())\n",
    "    name_list = this_domain_name.split(' ')\n",
    "        \n",
    "    # remove all stop words\n",
    "    name_list = ['' if x in s_words else x for x in name_list]\n",
    "    \n",
    "    return set(filter(None, name_list))"
   ]
  },
  {
   "cell_type": "code",
   "execution_count": null,
   "metadata": {
    "papermill": {
     "duration": 240.642913,
     "end_time": "2021-01-21T06:38:29.523206",
     "exception": false,
     "start_time": "2021-01-21T06:34:28.880293",
     "status": "completed"
    },
    "tags": []
   },
   "outputs": [],
   "source": [
    "# clean domain name\n",
    "domain_df['domain_cleaned_set'] = domain_df.domain_name.apply(clean_domain)\n",
    "\n",
    "# hash cleaned domain name\n",
    "domain_df['domain_cleaned_hash'] = domain_df['domain_cleaned_set'].apply(lambda x: '-'.join(sorted(list(x))) if x else None)"
   ]
  },
  {
   "cell_type": "code",
   "execution_count": null,
   "metadata": {
    "papermill": {
     "duration": 3.017443,
     "end_time": "2021-01-21T06:38:32.612142",
     "exception": false,
     "start_time": "2021-01-21T06:38:29.594699",
     "status": "completed"
    },
    "tags": []
   },
   "outputs": [],
   "source": [
    "# clean domain name\n",
    "ac_df['domain_cleaned_set'] = ac_df.organization.apply(clean_domain)\n",
    "\n",
    "# hash cleaned domain name\n",
    "ac_df['domain_cleaned_hash'] = ac_df['domain_cleaned_set'].apply(lambda x: '-'.join(sorted(list(x))) if x else None)"
   ]
  },
  {
   "cell_type": "code",
   "execution_count": null,
   "metadata": {
    "papermill": {
     "duration": 24.240054,
     "end_time": "2021-01-21T06:38:56.873600",
     "exception": false,
     "start_time": "2021-01-21T06:38:32.633546",
     "status": "completed"
    },
    "tags": []
   },
   "outputs": [],
   "source": [
    "# get domain subset that contains domain_cleaned_hash in authors_df\n",
    "domain_subset_df = domain_df[domain_df.domain_cleaned_hash.isin(ac_df.domain_cleaned_hash.unique())]\\\n",
    "                                        [['domain', 'domain_cleaned_hash']]\n",
    "domain_subset_df = domain_subset_df[domain_subset_df.domain.notnull()&domain_subset_df.domain_cleaned_hash.notnull()]\n",
    "\n",
    "domain_subset_all_df = domain_subset_df.rename(columns={'domain_cleaned_hash':'domain_hash'}).drop_duplicates()"
   ]
  },
  {
   "cell_type": "code",
   "execution_count": null,
   "metadata": {
    "papermill": {
     "duration": 0.897343,
     "end_time": "2021-01-21T06:38:57.790944",
     "exception": false,
     "start_time": "2021-01-21T06:38:56.893601",
     "status": "completed"
    },
    "tags": []
   },
   "outputs": [],
   "source": [
    "# attempt direct join by hash\n",
    "derived_authors_df = pd.merge(ac_df, domain_subset_all_df\\\n",
    "                              ,how='left', left_on='domain_cleaned_hash', right_on='domain_hash')\\\n",
    "                              .drop('domain_hash', axis=1)\\\n",
    "                              .rename(columns={'domain':'domain_by_citation'})\n",
    "\n",
    "# display\n",
    "derived_authors_df.sample(5).T"
   ]
  },
  {
   "cell_type": "markdown",
   "metadata": {
    "tags": [
     "papermill-error-cell-tag"
    ]
   },
   "source": [
    "<span id=\"papermill-error-cell\" style=\"color:red; font-family:Helvetica Neue, Helvetica, Arial, sans-serif; font-size:2em;\">Execution using papermill encountered an exception here and stopped:</span>"
   ]
  },
  {
   "cell_type": "code",
   "execution_count": null,
   "metadata": {
    "papermill": {
     "duration": 3.381547,
     "end_time": "2021-01-21T06:39:01.192100",
     "exception": false,
     "start_time": "2021-01-21T06:38:57.810553",
     "status": "completed"
    },
    "tags": []
   },
   "outputs": [],
   "source": [
    "# rank the nanoHUB profile institutions that cannot be directly matched by occurance\n",
    "\n",
    "derived_authors_subset_df = derived_authors_df[(derived_authors_df.domain_cleaned_hash.notnull() \\\n",
    "                                                                & derived_authors_df.domain_by_citation.isna())]\n",
    "\n",
    "most_common_sets = derived_authors_subset_df.domain_cleaned_set.value_counts()\n",
    "\n",
    "# display\n",
    "most_common_sets.sort_values(ascending=False)"
   ]
  },
  {
   "cell_type": "code",
   "execution_count": null,
   "metadata": {
    "papermill": {
     "duration": 7.312794,
     "end_time": "2021-01-21T06:39:08.533575",
     "exception": false,
     "start_time": "2021-01-21T06:39:01.220781",
     "status": "completed"
    },
    "tags": []
   },
   "outputs": [],
   "source": [
    "# attempt to reduce domain_df size to speedup Jaccard calculation\n",
    "from itertools import chain\n",
    "\n",
    "all_word_set = set(chain.from_iterable(derived_authors_subset_df.domain_cleaned_set.values))\n",
    "\n",
    "# select the domain_df entry with words from all_word_set\n",
    "domain_subset_df = domain_df[domain_df.domain_cleaned_set.notnull()]\n",
    "domain_subset_df = domain_subset_df[domain_subset_df.domain_cleaned_set\\\n",
    "                             .apply(lambda x: True if len(x.intersection(all_word_set)) > 0 else False)]\n",
    "\n",
    "domain_subset_df = domain_subset_df[['domain_cleaned_set', 'domain']]"
   ]
  },
  {
   "cell_type": "code",
   "execution_count": null,
   "metadata": {
    "papermill": {
     "duration": 3314.233632,
     "end_time": "2021-01-21T07:34:22.790406",
     "exception": false,
     "start_time": "2021-01-21T06:39:08.556774",
     "status": "completed"
    },
    "tags": []
   },
   "outputs": [],
   "source": [
    "# Time consuming part: calculating Jaccard similarity score\n",
    "def get_jaccard_score(a,b):\n",
    "    \n",
    "    if (not a) & (not b):\n",
    "        return 0\n",
    "    \n",
    "    score = len(a.intersection(b))/len(a.union(b))\n",
    "    \n",
    "    return score\n",
    "\n",
    "\n",
    "for this_set in most_common_sets.index:\n",
    "    # calculate the Jaccard similarity\n",
    "    max_index = domain_subset_df.domain_cleaned_set.apply(lambda x: get_jaccard_score(x, this_set)).idxmax()\n",
    "\n",
    "    derived_authors_df.loc[derived_authors_df.domain_cleaned_set == this_set, 'domain_by_citation'] \\\n",
    "                = domain_subset_df.loc[max_index, 'domain']"
   ]
  },
  {
   "cell_type": "code",
   "execution_count": null,
   "metadata": {
    "papermill": {
     "duration": 0.93389,
     "end_time": "2021-01-21T07:34:24.007933",
     "exception": false,
     "start_time": "2021-01-21T07:34:23.074043",
     "status": "completed"
    },
    "tags": []
   },
   "outputs": [],
   "source": [
    "# display\n",
    "derived_authors_df.sample(5).T"
   ]
  },
  {
   "cell_type": "markdown",
   "metadata": {
    "papermill": {
     "duration": 0.021812,
     "end_time": "2021-01-21T07:34:24.055768",
     "exception": false,
     "start_time": "2021-01-21T07:34:24.033956",
     "status": "completed"
    },
    "tags": []
   },
   "source": [
    "## Obtain Salesforce IDs"
   ]
  },
  {
   "cell_type": "code",
   "execution_count": null,
   "metadata": {
    "collapsed": false,
    "jupyter": {
     "outputs_hidden": false
    },
    "pycharm": {
     "name": "#%%\n"
    }
   },
   "outputs": [],
   "source": [
    "# create DB2 to Salesforce API object\n",
    "db_s = salesforce"
   ]
  },
  {
   "cell_type": "code",
   "execution_count": null,
   "metadata": {
    "papermill": {
     "duration": 26.50013,
     "end_time": "2021-01-21T07:34:57.334472",
     "exception": false,
     "start_time": "2021-01-21T07:34:30.834342",
     "status": "completed"
    },
    "tags": []
   },
   "outputs": [],
   "source": [
    "# query the Salesforce IDs for contacts and citations. when updating junction objects, these IDs must be used\n",
    "\n",
    "# get Salesforce ID for contacts\n",
    "sf_userID_df = db_s.query_data('SELECT Id, nanoHUB_user_ID__c FROM Contact where nanoHUB_user_ID__c != NULL')\n",
    "\n",
    "sf_userID_df['nanoHUB_user_ID__c'] = sf_userID_df['nanoHUB_user_ID__c'].astype('int')"
   ]
  },
  {
   "cell_type": "code",
   "execution_count": null,
   "metadata": {
    "papermill": {
     "duration": 11.624954,
     "end_time": "2021-01-21T07:35:08.982192",
     "exception": false,
     "start_time": "2021-01-21T07:34:57.357238",
     "status": "completed"
    },
    "scrolled": true,
    "tags": []
   },
   "outputs": [],
   "source": [
    "# get Salesforce ID for citations\n",
    "sf_citationID_df = db_s.query_data('SELECT Id, Record_ID__c FROM nanoHUB_citations__c')\n",
    "\n",
    "sf_citationID_df['Record_ID__c'] = sf_citationID_df['Record_ID__c'].astype('int')"
   ]
  },
  {
   "cell_type": "code",
   "execution_count": null,
   "metadata": {
    "papermill": {
     "duration": 11.520054,
     "end_time": "2021-01-21T07:35:20.528827",
     "exception": false,
     "start_time": "2021-01-21T07:35:09.008773",
     "status": "completed"
    },
    "tags": []
   },
   "outputs": [],
   "source": [
    "# get Salesforce ID for organizations\n",
    "sf_orgID_df = db_s.query_data('SELECT Id, Domain__c FROM organization__c')"
   ]
  },
  {
   "cell_type": "markdown",
   "metadata": {
    "papermill": {
     "duration": 0.023442,
     "end_time": "2021-01-21T07:35:20.575302",
     "exception": false,
     "start_time": "2021-01-21T07:35:20.551860",
     "status": "completed"
    },
    "tags": []
   },
   "source": [
    "## Match data with Salesforce format"
   ]
  },
  {
   "cell_type": "code",
   "execution_count": null,
   "metadata": {
    "papermill": {
     "duration": 0.434185,
     "end_time": "2021-01-21T07:35:21.032891",
     "exception": false,
     "start_time": "2021-01-21T07:35:20.598706",
     "status": "completed"
    },
    "tags": []
   },
   "outputs": [],
   "source": [
    "# valid citation - nanohub user links\n",
    "ac_tolink_df = derived_authors_df[derived_authors_df.nanohub_user_id != 0]\n",
    "\n",
    "display(ac_tolink_df.head(2))\n",
    "display(sf_citationID_df.head(2))\n",
    "display(sf_userID_df.head(2))\n",
    "display(sf_orgID_df.head(2))"
   ]
  },
  {
   "cell_type": "code",
   "execution_count": null,
   "metadata": {
    "papermill": {
     "duration": 0.362638,
     "end_time": "2021-01-21T07:35:21.420646",
     "exception": false,
     "start_time": "2021-01-21T07:35:21.058008",
     "status": "completed"
    },
    "tags": []
   },
   "outputs": [],
   "source": [
    "# merge SF citation and contact IDs into user-citation DF\n",
    "ac_tolink_df = pd.merge(ac_tolink_df, sf_citationID_df, how='inner', left_on='citation_ID', right_on='Record_ID__c')\\\n",
    "                           .rename(columns={'Id':'SF_ID_citation'})\n",
    "                                            \n",
    "ac_tolink_df = pd.merge(ac_tolink_df, sf_userID_df, how='inner', left_on='nanohub_user_id', right_on='nanoHUB_user_ID__c')\\\n",
    "                           .rename(columns={'Id':'SF_ID_contact'})\n",
    "\n",
    "ac_tolink_df = pd.merge(ac_tolink_df, sf_orgID_df, how='left', left_on='domain_by_citation', right_on='Domain__c')\\\n",
    "                           .rename(columns={'Id':'SF_ID_organization'})\n",
    "\n",
    "# display\n",
    "ac_tolink_df.head(2)"
   ]
  },
  {
   "cell_type": "code",
   "execution_count": null,
   "metadata": {
    "papermill": {
     "duration": 0.534917,
     "end_time": "2021-01-21T07:35:21.980831",
     "exception": false,
     "start_time": "2021-01-21T07:35:21.445914",
     "status": "completed"
    },
    "tags": []
   },
   "outputs": [],
   "source": [
    "# create a new column for object name\n",
    "ac_tolink_df['Name'] = ac_tolink_df.apply(lambda x: '%d_%d'%(x.nanoHUB_user_ID__c, x.Record_ID__c), axis=1)"
   ]
  },
  {
   "cell_type": "code",
   "execution_count": null,
   "metadata": {
    "papermill": {
     "duration": 0.228277,
     "end_time": "2021-01-21T07:35:22.238323",
     "exception": false,
     "start_time": "2021-01-21T07:35:22.010046",
     "status": "completed"
    },
    "tags": []
   },
   "outputs": [],
   "source": [
    "df_sf = pd.DataFrame()\n",
    "\n",
    "# Make sure NaN and NaT values are taken care of here\n",
    "df_sf['Name']         = ac_tolink_df['Name']\n",
    "df_sf['Contact__c'] = ac_tolink_df['SF_ID_contact']\n",
    "df_sf['Citation__c'] = ac_tolink_df['SF_ID_citation']\n",
    "\n",
    "df_sf['gscholar_id__c'] = ac_tolink_df['gscholar_id'].fillna('')\n",
    "df_sf['ORCID__c'] = ac_tolink_df['orcid'].fillna('')\n",
    "df_sf['Organization__c'] = ac_tolink_df['SF_ID_organization']\n",
    "df_sf['Organization_nanohub__c'] = ac_tolink_df['organization'].fillna('')\n",
    "df_sf['research_id__c'] = ac_tolink_df['research_id'].fillna('')\n",
    "\n",
    "sf_original_fields = df_sf.columns\n",
    "\n",
    "# display\n",
    "df_sf.head(2).T"
   ]
  },
  {
   "cell_type": "markdown",
   "metadata": {
    "papermill": {
     "duration": 0.026787,
     "end_time": "2021-01-21T07:35:22.292169",
     "exception": false,
     "start_time": "2021-01-21T07:35:22.265382",
     "status": "completed"
    },
    "tags": []
   },
   "source": [
    "## To Salesforce Sales Cloud CRM"
   ]
  },
  {
   "cell_type": "code",
   "execution_count": null,
   "metadata": {
    "papermill": {
     "duration": 0.441413,
     "end_time": "2021-01-21T07:35:22.759879",
     "exception": false,
     "start_time": "2021-01-21T07:35:22.318466",
     "status": "completed"
    },
    "tags": []
   },
   "outputs": [],
   "source": [
    "# create DB2 to Salesforce API object\n",
    "db_s = salesforce\n",
    "\n",
    "# specify Salesforce object ID and external ID\n",
    "db_s.object_id = 'contact_citation_asso__c'\n",
    "db_s.external_id = 'Name'"
   ]
  },
  {
   "cell_type": "code",
   "execution_count": null,
   "metadata": {
    "papermill": {
     "duration": 1.419453,
     "end_time": "2021-01-21T07:35:24.212627",
     "exception": false,
     "start_time": "2021-01-21T07:35:22.793174",
     "status": "completed"
    },
    "tags": []
   },
   "outputs": [],
   "source": [
    "# send data to Salesforce\n",
    "db_s.send_data(df_sf)"
   ]
  },
  {
   "cell_type": "code",
   "execution_count": null,
   "metadata": {
    "papermill": {
     "duration": 0.431784,
     "end_time": "2021-01-21T07:35:24.671803",
     "exception": false,
     "start_time": "2021-01-21T07:35:24.240019",
     "status": "completed"
    },
    "tags": []
   },
   "outputs": [],
   "source": [
    "# check status\n",
    "from pprint import pprint\n",
    "\n",
    "pprint(db_s.check_bulk_status())"
   ]
  },
  {
   "cell_type": "code",
   "execution_count": null,
   "metadata": {
    "papermill": {
     "duration": 0.180571,
     "end_time": "2021-01-21T07:35:24.879886",
     "exception": false,
     "start_time": "2021-01-21T07:35:24.699315",
     "status": "completed"
    },
    "tags": []
   },
   "outputs": [
    {
     "name": "stdout",
     "output_type": "stream",
     "text": [
      "2021-06-15 19:31:58,507 - [DEBUG] paramiko.transport [transport._log:1819]: Sending global request \"keepalive@lag.net\"\n",
      "2021-06-15 19:31:58,814 - [DEBUG] paramiko.transport [transport._log:1819]: Sending global request \"keepalive@lag.net\"\n",
      "2021-06-15 19:32:03,522 - [DEBUG] paramiko.transport [transport._log:1819]: Sending global request \"keepalive@lag.net\"\n",
      "2021-06-15 19:32:03,833 - [DEBUG] paramiko.transport [transport._log:1819]: Sending global request \"keepalive@lag.net\"\n",
      "2021-06-15 19:32:08,551 - [DEBUG] paramiko.transport [transport._log:1819]: Sending global request \"keepalive@lag.net\"\n",
      "2021-06-15 19:32:08,855 - [DEBUG] paramiko.transport [transport._log:1819]: Sending global request \"keepalive@lag.net\"\n",
      "2021-06-15 19:32:13,571 - [DEBUG] paramiko.transport [transport._log:1819]: Sending global request \"keepalive@lag.net\"\n",
      "2021-06-15 19:32:13,872 - [DEBUG] paramiko.transport [transport._log:1819]: Sending global request \"keepalive@lag.net\"\n",
      "2021-06-15 19:32:18,587 - [DEBUG] paramiko.transport [transport._log:1819]: Sending global request \"keepalive@lag.net\"\n",
      "2021-06-15 19:32:18,899 - [DEBUG] paramiko.transport [transport._log:1819]: Sending global request \"keepalive@lag.net\"\n",
      "2021-06-15 19:32:23,605 - [DEBUG] paramiko.transport [transport._log:1819]: Sending global request \"keepalive@lag.net\"\n",
      "2021-06-15 19:32:23,916 - [DEBUG] paramiko.transport [transport._log:1819]: Sending global request \"keepalive@lag.net\"\n",
      "2021-06-15 19:32:28,658 - [DEBUG] paramiko.transport [transport._log:1819]: Sending global request \"keepalive@lag.net\"\n",
      "2021-06-15 19:32:28,961 - [DEBUG] paramiko.transport [transport._log:1819]: Sending global request \"keepalive@lag.net\"\n",
      "2021-06-15 19:32:33,668 - [DEBUG] paramiko.transport [transport._log:1819]: Sending global request \"keepalive@lag.net\"\n",
      "2021-06-15 19:32:33,974 - [DEBUG] paramiko.transport [transport._log:1819]: Sending global request \"keepalive@lag.net\"\n",
      "2021-06-15 19:32:38,694 - [DEBUG] paramiko.transport [transport._log:1819]: Sending global request \"keepalive@lag.net\"\n",
      "2021-06-15 19:32:39,003 - [DEBUG] paramiko.transport [transport._log:1819]: Sending global request \"keepalive@lag.net\"\n",
      "2021-06-15 19:32:43,710 - [DEBUG] paramiko.transport [transport._log:1819]: Sending global request \"keepalive@lag.net\"\n",
      "2021-06-15 19:32:44,017 - [DEBUG] paramiko.transport [transport._log:1819]: Sending global request \"keepalive@lag.net\"\n",
      "2021-06-15 19:32:48,733 - [DEBUG] paramiko.transport [transport._log:1819]: Sending global request \"keepalive@lag.net\"\n",
      "2021-06-15 19:32:49,035 - [DEBUG] paramiko.transport [transport._log:1819]: Sending global request \"keepalive@lag.net\"\n",
      "2021-06-15 19:32:53,745 - [DEBUG] paramiko.transport [transport._log:1819]: Sending global request \"keepalive@lag.net\"\n",
      "2021-06-15 19:32:54,050 - [DEBUG] paramiko.transport [transport._log:1819]: Sending global request \"keepalive@lag.net\"\n",
      "2021-06-15 19:32:58,753 - [DEBUG] paramiko.transport [transport._log:1819]: Sending global request \"keepalive@lag.net\"\n",
      "2021-06-15 19:32:59,058 - [DEBUG] paramiko.transport [transport._log:1819]: Sending global request \"keepalive@lag.net\"\n",
      "2021-06-15 19:33:03,852 - [DEBUG] paramiko.transport [transport._log:1819]: Sending global request \"keepalive@lag.net\"\n",
      "2021-06-15 19:33:04,159 - [DEBUG] paramiko.transport [transport._log:1819]: Sending global request \"keepalive@lag.net\"\n",
      "2021-06-15 19:33:08,878 - [DEBUG] paramiko.transport [transport._log:1819]: Sending global request \"keepalive@lag.net\"\n",
      "2021-06-15 19:33:09,186 - [DEBUG] paramiko.transport [transport._log:1819]: Sending global request \"keepalive@lag.net\"\n",
      "2021-06-15 19:33:13,881 - [DEBUG] paramiko.transport [transport._log:1819]: Sending global request \"keepalive@lag.net\"\n",
      "2021-06-15 19:33:14,187 - [DEBUG] paramiko.transport [transport._log:1819]: Sending global request \"keepalive@lag.net\"\n",
      "2021-06-15 19:33:18,901 - [DEBUG] paramiko.transport [transport._log:1819]: Sending global request \"keepalive@lag.net\"\n",
      "2021-06-15 19:33:19,210 - [DEBUG] paramiko.transport [transport._log:1819]: Sending global request \"keepalive@lag.net\"\n",
      "2021-06-15 19:33:23,926 - [DEBUG] paramiko.transport [transport._log:1819]: Sending global request \"keepalive@lag.net\"\n",
      "2021-06-15 19:33:24,235 - [DEBUG] paramiko.transport [transport._log:1819]: Sending global request \"keepalive@lag.net\"\n",
      "2021-06-15 19:33:28,933 - [DEBUG] paramiko.transport [transport._log:1819]: Sending global request \"keepalive@lag.net\"\n",
      "2021-06-15 19:33:29,240 - [DEBUG] paramiko.transport [transport._log:1819]: Sending global request \"keepalive@lag.net\"\n",
      "2021-06-15 19:33:33,942 - [DEBUG] paramiko.transport [transport._log:1819]: Sending global request \"keepalive@lag.net\"\n",
      "2021-06-15 19:33:34,249 - [DEBUG] paramiko.transport [transport._log:1819]: Sending global request \"keepalive@lag.net\"\n"
     ]
    }
   ],
   "source": [
    "# check status\n",
    "from pprint import pprint\n",
    "\n",
    "pprint(db_s.check_bulk_failed_results())"
   ]
  },
  {
   "cell_type": "code",
   "execution_count": null,
   "metadata": {
    "papermill": {
     "duration": 0.02719,
     "end_time": "2021-01-21T07:35:24.934568",
     "exception": false,
     "start_time": "2021-01-21T07:35:24.907378",
     "status": "completed"
    },
    "tags": []
   },
   "outputs": [],
   "source": []
  },
  {
   "cell_type": "code",
   "execution_count": null,
   "metadata": {
    "papermill": {
     "duration": 0.028306,
     "end_time": "2021-01-21T07:35:24.991565",
     "exception": false,
     "start_time": "2021-01-21T07:35:24.963259",
     "status": "completed"
    },
    "tags": []
   },
   "outputs": [],
   "source": []
  }
 ],
 "metadata": {
  "celltoolbar": "Tags",
  "kernelspec": {
   "display_name": "Python 3",
   "language": "python",
   "name": "python3"
  },
  "language_info": {
   "codemirror_mode": {
    "name": "ipython",
    "version": 3
   },
   "file_extension": ".py",
   "mimetype": "text/x-python",
   "name": "python",
   "nbconvert_exporter": "python",
   "pygments_lexer": "ipython3",
   "version": "3.9.2"
  },
  "papermill": {
   "duration": 3900.953283,
   "end_time": "2021-01-21T07:35:33.016782",
   "environment_variables": {},
   "exception": null,
   "input_path": "/home/users/wang2506/nanohub_salesforce_integ/salesforce/task_citations_map_contacts.ipynb",
   "output_path": "/home/users/wang2506/nanohub_salesforce_integ/salesforce/task_citations_map_contacts.ipynb",
   "parameters": {},
   "start_time": "2021-01-21T06:30:32.063499",
   "version": "2.1.1"
  }
 },
 "nbformat": 4,
 "nbformat_minor": 4
}