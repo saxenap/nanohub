{
 "cells": [
  {
   "cell_type": "markdown",
   "metadata": {
    "tags": [
     "papermill-error-cell-tag"
    ]
   },
   "source": [
    "<span style=\"color:red; font-family:Helvetica Neue, Helvetica, Arial, sans-serif; font-size:2em;\">An Exception was encountered at '<a href=\"#papermill-error-cell\">In [14]</a>'.</span>"
   ]
  },
  {
   "cell_type": "markdown",
   "metadata": {
    "papermill": {
     "duration": 0.054529,
     "end_time": "2021-01-21T06:30:34.811441",
     "exception": false,
     "start_time": "2021-01-21T06:30:34.756912",
     "status": "completed"
    },
    "tags": []
   },
   "source": [
    "# DB2-Salesforce connector: Citation mapping to users"
   ]
  },
  {
   "cell_type": "code",
   "execution_count": 1,
   "metadata": {
    "execution": {
     "iopub.execute_input": "2022-02-15T22:36:24.624871Z",
     "iopub.status.busy": "2022-02-15T22:36:24.624529Z",
     "iopub.status.idle": "2022-02-15T22:36:27.526883Z",
     "shell.execute_reply": "2022-02-15T22:36:27.524344Z",
     "shell.execute_reply.started": "2022-02-15T22:36:24.624776Z"
    },
    "papermill": {
     "duration": 0.109568,
     "end_time": "2021-01-21T06:30:34.962075",
     "exception": false,
     "start_time": "2021-01-21T06:30:34.852507",
     "status": "completed"
    },
    "tags": [
     "parameters"
    ]
   },
   "outputs": [
    {
     "name": "stdout",
     "output_type": "stream",
     "text": [
      "\u001b[1mnanoHUB - Serving Students, Researchers & Instructors\u001b[0m\n",
      "Obtained Salesforce access token ...... True\n"
     ]
    }
   ],
   "source": [
    "# API settings\n",
    "api_url = '/services/data/v43.0/sobjects'\n",
    "external_id = 'Name'\n",
    "object_id = 'contact_citation_asso__c'\n",
    "\n",
    "from nanoHUB.application import Application\n",
    "\n",
    "application = Application.get_instance()\n",
    "nanohub_db = application.new_db_engine('nanohub')\n",
    "wang159_myrmekes_db = application.new_db_engine('wang159_myrmekes')\n",
    "\n",
    "salesforce = application.new_salesforce_engine()\n",
    "db_s = salesforce"
   ]
  },
  {
   "cell_type": "code",
   "execution_count": 2,
   "metadata": {
    "execution": {
     "iopub.execute_input": "2022-02-15T22:36:27.532453Z",
     "iopub.status.busy": "2022-02-15T22:36:27.530146Z",
     "iopub.status.idle": "2022-02-15T22:36:27.544982Z",
     "shell.execute_reply": "2022-02-15T22:36:27.543009Z",
     "shell.execute_reply.started": "2022-02-15T22:36:27.532386Z"
    },
    "papermill": {
     "duration": 5.682217,
     "end_time": "2021-01-21T06:30:40.732331",
     "exception": false,
     "start_time": "2021-01-21T06:30:35.050114",
     "status": "completed"
    },
    "tags": []
   },
   "outputs": [],
   "source": [
    "import sys\n",
    "sys.path.append('/home/users/wang2506/nanohub_salesforce_integ/salesforce')\n",
    "    \n",
    "import pandas as pd\n",
    "import time\n",
    "import datetime\n",
    "\n"
   ]
  },
  {
   "cell_type": "markdown",
   "metadata": {
    "papermill": {
     "duration": 0.027134,
     "end_time": "2021-01-21T06:30:40.805177",
     "exception": false,
     "start_time": "2021-01-21T06:30:40.778043",
     "status": "completed"
    },
    "pycharm": {
     "name": "#%% md\n"
    },
    "tags": []
   },
   "source": [
    "## Obtain tool information from DB2 "
   ]
  },
  {
   "cell_type": "code",
   "execution_count": 3,
   "metadata": {
    "execution": {
     "iopub.execute_input": "2022-02-15T22:36:27.553412Z",
     "iopub.status.busy": "2022-02-15T22:36:27.551299Z",
     "iopub.status.idle": "2022-02-15T22:36:31.695947Z",
     "shell.execute_reply": "2022-02-15T22:36:31.693085Z",
     "shell.execute_reply.started": "2022-02-15T22:36:27.553352Z"
    },
    "papermill": {
     "duration": 4.753466,
     "end_time": "2021-01-21T06:30:45.580043",
     "exception": false,
     "start_time": "2021-01-21T06:30:40.826577",
     "status": "completed"
    },
    "tags": []
   },
   "outputs": [],
   "source": [
    "\n",
    "\n",
    "# Citations\n",
    "sql_query = \"select * from jos_citations\"\n",
    "\n",
    "citations_df = pd.read_sql_query(sql_query, nanohub_db)\n",
    "\n",
    "# Citation authors\n",
    "sql_query = \"select * from jos_citations_authors;\"\n",
    "\n",
    "authors_df = pd.read_sql_query(sql_query, nanohub_db)"
   ]
  },
  {
   "cell_type": "code",
   "execution_count": 4,
   "metadata": {
    "execution": {
     "iopub.execute_input": "2022-02-15T22:36:31.697602Z",
     "iopub.status.busy": "2022-02-15T22:36:31.697344Z",
     "iopub.status.idle": "2022-02-15T22:36:31.710898Z",
     "shell.execute_reply": "2022-02-15T22:36:31.709088Z",
     "shell.execute_reply.started": "2022-02-15T22:36:31.697563Z"
    },
    "papermill": {
     "duration": 0.052121,
     "end_time": "2021-01-21T06:30:45.663519",
     "exception": false,
     "start_time": "2021-01-21T06:30:45.611398",
     "status": "completed"
    },
    "tags": []
   },
   "outputs": [],
   "source": [
    "# replace N/A and empty values with None\n",
    "authors_df.organization.replace('N/A', '', inplace=True)"
   ]
  },
  {
   "cell_type": "code",
   "execution_count": 5,
   "metadata": {
    "execution": {
     "iopub.execute_input": "2022-02-15T22:36:31.712576Z",
     "iopub.status.busy": "2022-02-15T22:36:31.712292Z",
     "iopub.status.idle": "2022-02-15T22:36:31.740690Z",
     "shell.execute_reply": "2022-02-15T22:36:31.737045Z",
     "shell.execute_reply.started": "2022-02-15T22:36:31.712535Z"
    },
    "papermill": {
     "duration": 0.107241,
     "end_time": "2021-01-21T06:30:45.790684",
     "exception": false,
     "start_time": "2021-01-21T06:30:45.683443",
     "status": "completed"
    },
    "tags": []
   },
   "outputs": [
    {
     "data": {
      "text/plain": [
       "Index(['id', 'cid', 'author', 'authorid', 'uidNumber', 'ordering', 'givenName',\n",
       "       'middleName', 'surname', 'organization', 'org_dept', 'orgtype',\n",
       "       'countryresident', 'email', 'ip', 'host', 'countrySHORT', 'countryLONG',\n",
       "       'ipREGION', 'ipCITY', 'ipLATITUDE', 'ipLONGITUDE', 'in_network',\n",
       "       'orcid', 'research_id', 'gscholar_id', 'scopus_id', 'researchgate_id',\n",
       "       'notes'],\n",
       "      dtype='object')"
      ]
     },
     "execution_count": 5,
     "metadata": {},
     "output_type": "execute_result"
    }
   ],
   "source": [
    "authors_df.columns"
   ]
  },
  {
   "cell_type": "code",
   "execution_count": 6,
   "metadata": {
    "execution": {
     "iopub.execute_input": "2022-02-15T22:36:32.142929Z",
     "iopub.status.busy": "2022-02-15T22:36:32.142423Z",
     "iopub.status.idle": "2022-02-15T22:36:32.198109Z",
     "shell.execute_reply": "2022-02-15T22:36:32.196912Z",
     "shell.execute_reply.started": "2022-02-15T22:36:32.142695Z"
    },
    "papermill": {
     "duration": 0.118148,
     "end_time": "2021-01-21T06:30:45.932224",
     "exception": false,
     "start_time": "2021-01-21T06:30:45.814076",
     "status": "completed"
    },
    "tags": []
   },
   "outputs": [
    {
     "data": {
      "text/html": [
       "<div>\n",
       "<style scoped>\n",
       "    .dataframe tbody tr th:only-of-type {\n",
       "        vertical-align: middle;\n",
       "    }\n",
       "\n",
       "    .dataframe tbody tr th {\n",
       "        vertical-align: top;\n",
       "    }\n",
       "\n",
       "    .dataframe thead th {\n",
       "        text-align: right;\n",
       "    }\n",
       "</style>\n",
       "<table border=\"1\" class=\"dataframe\">\n",
       "  <thead>\n",
       "    <tr style=\"text-align: right;\">\n",
       "      <th></th>\n",
       "      <th>citation_ID</th>\n",
       "      <th>nanohub_user_id</th>\n",
       "      <th>author_id</th>\n",
       "      <th>organization</th>\n",
       "      <th>orcid</th>\n",
       "      <th>research_id</th>\n",
       "      <th>gscholar_id</th>\n",
       "    </tr>\n",
       "  </thead>\n",
       "  <tbody>\n",
       "    <tr>\n",
       "      <th>16860</th>\n",
       "      <td>1280</td>\n",
       "      <td>30369</td>\n",
       "      <td>17997619</td>\n",
       "      <td>Purdue University</td>\n",
       "      <td></td>\n",
       "      <td></td>\n",
       "      <td></td>\n",
       "    </tr>\n",
       "    <tr>\n",
       "      <th>16861</th>\n",
       "      <td>256</td>\n",
       "      <td>0</td>\n",
       "      <td>17997617</td>\n",
       "      <td>Chinese Academy Of Sciences</td>\n",
       "      <td></td>\n",
       "      <td></td>\n",
       "      <td></td>\n",
       "    </tr>\n",
       "    <tr>\n",
       "      <th>16862</th>\n",
       "      <td>256</td>\n",
       "      <td>0</td>\n",
       "      <td>17997616</td>\n",
       "      <td>Chinese Academy Of Sciences</td>\n",
       "      <td></td>\n",
       "      <td></td>\n",
       "      <td></td>\n",
       "    </tr>\n",
       "    <tr>\n",
       "      <th>16863</th>\n",
       "      <td>256</td>\n",
       "      <td>0</td>\n",
       "      <td>17997615</td>\n",
       "      <td>Chinese Academy Of Sciences</td>\n",
       "      <td></td>\n",
       "      <td></td>\n",
       "      <td></td>\n",
       "    </tr>\n",
       "    <tr>\n",
       "      <th>16864</th>\n",
       "      <td>1024</td>\n",
       "      <td>0</td>\n",
       "      <td>17997618</td>\n",
       "      <td>Ohio University</td>\n",
       "      <td></td>\n",
       "      <td></td>\n",
       "      <td></td>\n",
       "    </tr>\n",
       "  </tbody>\n",
       "</table>\n",
       "</div>"
      ],
      "text/plain": [
       "       citation_ID  nanohub_user_id  author_id                 organization  \\\n",
       "16860         1280            30369   17997619            Purdue University   \n",
       "16861          256                0   17997617  Chinese Academy Of Sciences   \n",
       "16862          256                0   17997616  Chinese Academy Of Sciences   \n",
       "16863          256                0   17997615  Chinese Academy Of Sciences   \n",
       "16864         1024                0   17997618              Ohio University   \n",
       "\n",
       "      orcid research_id gscholar_id  \n",
       "16860                                \n",
       "16861                                \n",
       "16862                                \n",
       "16863                                \n",
       "16864                                "
      ]
     },
     "execution_count": 6,
     "metadata": {},
     "output_type": "execute_result"
    }
   ],
   "source": [
    "# combining authors and citations\n",
    "ac_df = pd.merge(citations_df[['id']], authors_df[['cid', 'uidNumber','id','organization','orcid','research_id','gscholar_id']], how='inner',\\\n",
    "                 left_on='id', right_on='cid', suffixes=['_c', '_a'])\\\n",
    "                .drop(columns='id_c')\n",
    "\n",
    "ac_df.rename(columns={'cid':'citation_ID', 'uidNumber':'nanohub_user_id', 'id_a':'author_id'}, inplace=True)\n",
    "\n",
    "# display\n",
    "ac_df.head()\n"
   ]
  },
  {
   "cell_type": "code",
   "execution_count": 7,
   "metadata": {
    "execution": {
     "iopub.execute_input": "2022-02-15T22:36:46.307171Z",
     "iopub.status.busy": "2022-02-15T22:36:46.306834Z",
     "iopub.status.idle": "2022-02-15T22:36:46.328585Z",
     "shell.execute_reply": "2022-02-15T22:36:46.326973Z",
     "shell.execute_reply.started": "2022-02-15T22:36:46.307129Z"
    }
   },
   "outputs": [
    {
     "data": {
      "text/html": [
       "<div>\n",
       "<style scoped>\n",
       "    .dataframe tbody tr th:only-of-type {\n",
       "        vertical-align: middle;\n",
       "    }\n",
       "\n",
       "    .dataframe tbody tr th {\n",
       "        vertical-align: top;\n",
       "    }\n",
       "\n",
       "    .dataframe thead th {\n",
       "        text-align: right;\n",
       "    }\n",
       "</style>\n",
       "<table border=\"1\" class=\"dataframe\">\n",
       "  <thead>\n",
       "    <tr style=\"text-align: right;\">\n",
       "      <th></th>\n",
       "      <th>citation_ID</th>\n",
       "      <th>nanohub_user_id</th>\n",
       "      <th>author_id</th>\n",
       "      <th>organization</th>\n",
       "      <th>orcid</th>\n",
       "      <th>research_id</th>\n",
       "      <th>gscholar_id</th>\n",
       "    </tr>\n",
       "  </thead>\n",
       "  <tbody>\n",
       "    <tr>\n",
       "      <th>16860</th>\n",
       "      <td>1280</td>\n",
       "      <td>30369</td>\n",
       "      <td>17997619</td>\n",
       "      <td>Purdue University</td>\n",
       "      <td></td>\n",
       "      <td></td>\n",
       "      <td></td>\n",
       "    </tr>\n",
       "    <tr>\n",
       "      <th>16861</th>\n",
       "      <td>256</td>\n",
       "      <td>0</td>\n",
       "      <td>17997617</td>\n",
       "      <td>Chinese Academy Of Sciences</td>\n",
       "      <td></td>\n",
       "      <td></td>\n",
       "      <td></td>\n",
       "    </tr>\n",
       "    <tr>\n",
       "      <th>16862</th>\n",
       "      <td>256</td>\n",
       "      <td>0</td>\n",
       "      <td>17997616</td>\n",
       "      <td>Chinese Academy Of Sciences</td>\n",
       "      <td></td>\n",
       "      <td></td>\n",
       "      <td></td>\n",
       "    </tr>\n",
       "    <tr>\n",
       "      <th>16863</th>\n",
       "      <td>256</td>\n",
       "      <td>0</td>\n",
       "      <td>17997615</td>\n",
       "      <td>Chinese Academy Of Sciences</td>\n",
       "      <td></td>\n",
       "      <td></td>\n",
       "      <td></td>\n",
       "    </tr>\n",
       "    <tr>\n",
       "      <th>16864</th>\n",
       "      <td>1024</td>\n",
       "      <td>0</td>\n",
       "      <td>17997618</td>\n",
       "      <td>Ohio University</td>\n",
       "      <td></td>\n",
       "      <td></td>\n",
       "      <td></td>\n",
       "    </tr>\n",
       "  </tbody>\n",
       "</table>\n",
       "</div>"
      ],
      "text/plain": [
       "       citation_ID  nanohub_user_id  author_id                 organization  \\\n",
       "16860         1280            30369   17997619            Purdue University   \n",
       "16861          256                0   17997617  Chinese Academy Of Sciences   \n",
       "16862          256                0   17997616  Chinese Academy Of Sciences   \n",
       "16863          256                0   17997615  Chinese Academy Of Sciences   \n",
       "16864         1024                0   17997618              Ohio University   \n",
       "\n",
       "      orcid research_id gscholar_id  \n",
       "16860                                \n",
       "16861                                \n",
       "16862                                \n",
       "16863                                \n",
       "16864                                "
      ]
     },
     "metadata": {},
     "output_type": "display_data"
    }
   ],
   "source": [
    "display(ac_df.tail())"
   ]
  },
  {
   "cell_type": "code",
   "execution_count": 8,
   "metadata": {
    "execution": {
     "iopub.execute_input": "2022-02-15T22:37:18.636292Z",
     "iopub.status.busy": "2022-02-15T22:37:18.635982Z",
     "iopub.status.idle": "2022-02-15T22:43:59.140576Z",
     "shell.execute_reply": "2022-02-15T22:43:59.139195Z",
     "shell.execute_reply.started": "2022-02-15T22:37:18.636251Z"
    },
    "papermill": {
     "duration": 209.478758,
     "end_time": "2021-01-21T06:34:15.442067",
     "exception": false,
     "start_time": "2021-01-21T06:30:45.963309",
     "status": "completed"
    },
    "tags": []
   },
   "outputs": [],
   "source": [
    "# Obtain company domain information from DB2\n",
    "domain_df = pd.read_sql_query(\"select name as domain_name, domain, industry, `size range` as size, country \\\n",
    "from wang159_myrmekes.companies_email_domain\", wang159_myrmekes_db)\n",
    "\n",
    "# make sure domain is unique and drop NaN\n",
    "domain_df = domain_df.drop_duplicates(subset='domain', keep='first')"
   ]
  },
  {
   "cell_type": "code",
   "execution_count": 9,
   "metadata": {
    "execution": {
     "iopub.execute_input": "2022-02-15T22:43:59.143418Z",
     "iopub.status.busy": "2022-02-15T22:43:59.142924Z",
     "iopub.status.idle": "2022-02-15T22:44:00.850163Z",
     "shell.execute_reply": "2022-02-15T22:44:00.849256Z",
     "shell.execute_reply.started": "2022-02-15T22:43:59.143345Z"
    },
    "papermill": {
     "duration": 13.277199,
     "end_time": "2021-01-21T06:34:28.739767",
     "exception": false,
     "start_time": "2021-01-21T06:34:15.462568",
     "status": "completed"
    },
    "tags": []
   },
   "outputs": [],
   "source": [
    "import nltk\n",
    "#nltk.download('stopwords')\n",
    "\n",
    "from nltk.corpus import stopwords\n",
    "s_words = stopwords.words('english')"
   ]
  },
  {
   "cell_type": "code",
   "execution_count": 10,
   "metadata": {
    "execution": {
     "iopub.execute_input": "2022-02-15T22:44:00.853378Z",
     "iopub.status.busy": "2022-02-15T22:44:00.852481Z",
     "iopub.status.idle": "2022-02-15T22:44:00.865579Z",
     "shell.execute_reply": "2022-02-15T22:44:00.864309Z",
     "shell.execute_reply.started": "2022-02-15T22:44:00.853317Z"
    },
    "papermill": {
     "duration": 0.060898,
     "end_time": "2021-01-21T06:34:28.851633",
     "exception": false,
     "start_time": "2021-01-21T06:34:28.790735",
     "status": "completed"
    },
    "tags": []
   },
   "outputs": [],
   "source": [
    "import re\n",
    "\n",
    "def clean_domain(this_domain_name):\n",
    "    \n",
    "    if not this_domain_name:\n",
    "        return None\n",
    "    \n",
    "    # Replace all non-alphanumeric characters with space\n",
    "    this_domain_name = re.sub(\"[^0-9a-zA-Z]+\", \" \", this_domain_name.lower())\n",
    "    name_list = this_domain_name.split(' ')\n",
    "        \n",
    "    # remove all stop words\n",
    "    name_list = ['' if x in s_words else x for x in name_list]\n",
    "    \n",
    "    return set(filter(None, name_list))"
   ]
  },
  {
   "cell_type": "code",
   "execution_count": 11,
   "metadata": {
    "execution": {
     "iopub.execute_input": "2022-02-15T22:44:00.871130Z",
     "iopub.status.busy": "2022-02-15T22:44:00.869561Z",
     "iopub.status.idle": "2022-02-15T22:45:32.597469Z",
     "shell.execute_reply": "2022-02-15T22:45:32.596216Z",
     "shell.execute_reply.started": "2022-02-15T22:44:00.870915Z"
    },
    "papermill": {
     "duration": 240.642913,
     "end_time": "2021-01-21T06:38:29.523206",
     "exception": false,
     "start_time": "2021-01-21T06:34:28.880293",
     "status": "completed"
    },
    "tags": []
   },
   "outputs": [],
   "source": [
    "# clean domain name\n",
    "domain_df['domain_cleaned_set'] = domain_df.domain_name.apply(clean_domain)\n",
    "\n",
    "# hash cleaned domain name\n",
    "domain_df['domain_cleaned_hash'] = domain_df['domain_cleaned_set'].apply(lambda x: '-'.join(sorted(list(x))) if x else None)"
   ]
  },
  {
   "cell_type": "code",
   "execution_count": 12,
   "metadata": {
    "execution": {
     "iopub.execute_input": "2022-02-15T22:45:32.601640Z",
     "iopub.status.busy": "2022-02-15T22:45:32.600440Z",
     "iopub.status.idle": "2022-02-15T22:45:32.828067Z",
     "shell.execute_reply": "2022-02-15T22:45:32.826220Z",
     "shell.execute_reply.started": "2022-02-15T22:45:32.601467Z"
    },
    "papermill": {
     "duration": 3.017443,
     "end_time": "2021-01-21T06:38:32.612142",
     "exception": false,
     "start_time": "2021-01-21T06:38:29.594699",
     "status": "completed"
    },
    "tags": []
   },
   "outputs": [],
   "source": [
    "# clean domain name\n",
    "ac_df['domain_cleaned_set'] = ac_df.organization.apply(clean_domain)\n",
    "\n",
    "# hash cleaned domain name\n",
    "ac_df['domain_cleaned_hash'] = ac_df['domain_cleaned_set'].apply(lambda x: '-'.join(sorted(list(x))) if x else None)"
   ]
  },
  {
   "cell_type": "code",
   "execution_count": 13,
   "metadata": {
    "execution": {
     "iopub.execute_input": "2022-02-15T22:45:32.833434Z",
     "iopub.status.busy": "2022-02-15T22:45:32.832323Z",
     "iopub.status.idle": "2022-02-15T22:45:38.677501Z",
     "shell.execute_reply": "2022-02-15T22:45:38.674195Z",
     "shell.execute_reply.started": "2022-02-15T22:45:32.833360Z"
    },
    "papermill": {
     "duration": 24.240054,
     "end_time": "2021-01-21T06:38:56.873600",
     "exception": false,
     "start_time": "2021-01-21T06:38:32.633546",
     "status": "completed"
    },
    "tags": []
   },
   "outputs": [],
   "source": [
    "# get domain subset that contains domain_cleaned_hash in authors_df\n",
    "domain_subset_df = domain_df[domain_df.domain_cleaned_hash.isin(ac_df.domain_cleaned_hash.unique())]\\\n",
    "                                        [['domain', 'domain_cleaned_hash']]\n",
    "domain_subset_df = domain_subset_df[domain_subset_df.domain.notnull()&domain_subset_df.domain_cleaned_hash.notnull()]\n",
    "\n",
    "domain_subset_all_df = domain_subset_df.rename(columns={'domain_cleaned_hash':'domain_hash'}).drop_duplicates()"
   ]
  },
  {
   "cell_type": "code",
   "execution_count": 14,
   "metadata": {
    "execution": {
     "iopub.execute_input": "2022-02-15T22:45:38.689667Z",
     "iopub.status.busy": "2022-02-15T22:45:38.688918Z",
     "iopub.status.idle": "2022-02-15T22:45:38.818748Z",
     "shell.execute_reply": "2022-02-15T22:45:38.817147Z",
     "shell.execute_reply.started": "2022-02-15T22:45:38.689599Z"
    },
    "papermill": {
     "duration": 0.897343,
     "end_time": "2021-01-21T06:38:57.790944",
     "exception": false,
     "start_time": "2021-01-21T06:38:56.893601",
     "status": "completed"
    },
    "tags": []
   },
   "outputs": [
    {
     "data": {
      "text/html": [
       "<div>\n",
       "<style scoped>\n",
       "    .dataframe tbody tr th:only-of-type {\n",
       "        vertical-align: middle;\n",
       "    }\n",
       "\n",
       "    .dataframe tbody tr th {\n",
       "        vertical-align: top;\n",
       "    }\n",
       "\n",
       "    .dataframe thead th {\n",
       "        text-align: right;\n",
       "    }\n",
       "</style>\n",
       "<table border=\"1\" class=\"dataframe\">\n",
       "  <thead>\n",
       "    <tr style=\"text-align: right;\">\n",
       "      <th></th>\n",
       "      <th>9564</th>\n",
       "      <th>14795</th>\n",
       "      <th>2915</th>\n",
       "      <th>9758</th>\n",
       "      <th>311</th>\n",
       "    </tr>\n",
       "  </thead>\n",
       "  <tbody>\n",
       "    <tr>\n",
       "      <th>citation_ID</th>\n",
       "      <td>186</td>\n",
       "      <td>835</td>\n",
       "      <td>10000678</td>\n",
       "      <td>2228</td>\n",
       "      <td>10000069</td>\n",
       "    </tr>\n",
       "    <tr>\n",
       "      <th>nanohub_user_id</th>\n",
       "      <td>0</td>\n",
       "      <td>0</td>\n",
       "      <td>3482</td>\n",
       "      <td>7997</td>\n",
       "      <td>3482</td>\n",
       "    </tr>\n",
       "    <tr>\n",
       "      <th>author_id</th>\n",
       "      <td>18005121</td>\n",
       "      <td>18000316</td>\n",
       "      <td>7491</td>\n",
       "      <td>18004874</td>\n",
       "      <td>4922</td>\n",
       "    </tr>\n",
       "    <tr>\n",
       "      <th>organization</th>\n",
       "      <td>Brookhaven National Laboratory</td>\n",
       "      <td>U. S. National Science Foundation</td>\n",
       "      <td>Purdue University</td>\n",
       "      <td>Purdue Universty</td>\n",
       "      <td>Purdue University</td>\n",
       "    </tr>\n",
       "    <tr>\n",
       "      <th>orcid</th>\n",
       "      <td></td>\n",
       "      <td></td>\n",
       "      <td>None</td>\n",
       "      <td></td>\n",
       "      <td>None</td>\n",
       "    </tr>\n",
       "    <tr>\n",
       "      <th>research_id</th>\n",
       "      <td></td>\n",
       "      <td></td>\n",
       "      <td>None</td>\n",
       "      <td></td>\n",
       "      <td>None</td>\n",
       "    </tr>\n",
       "    <tr>\n",
       "      <th>gscholar_id</th>\n",
       "      <td></td>\n",
       "      <td></td>\n",
       "      <td>None</td>\n",
       "      <td></td>\n",
       "      <td>None</td>\n",
       "    </tr>\n",
       "    <tr>\n",
       "      <th>domain_cleaned_set</th>\n",
       "      <td>{brookhaven, laboratory, national}</td>\n",
       "      <td>{u, science, national, foundation}</td>\n",
       "      <td>{purdue, university}</td>\n",
       "      <td>{purdue, universty}</td>\n",
       "      <td>{purdue, university}</td>\n",
       "    </tr>\n",
       "    <tr>\n",
       "      <th>domain_cleaned_hash</th>\n",
       "      <td>brookhaven-laboratory-national</td>\n",
       "      <td>foundation-national-science-u</td>\n",
       "      <td>purdue-university</td>\n",
       "      <td>purdue-universty</td>\n",
       "      <td>purdue-university</td>\n",
       "    </tr>\n",
       "    <tr>\n",
       "      <th>domain_by_citation</th>\n",
       "      <td>bnl.gov</td>\n",
       "      <td>NaN</td>\n",
       "      <td>purdue.edu</td>\n",
       "      <td>NaN</td>\n",
       "      <td>purdue.edu</td>\n",
       "    </tr>\n",
       "  </tbody>\n",
       "</table>\n",
       "</div>"
      ],
      "text/plain": [
       "                                                  9564   \\\n",
       "citation_ID                                         186   \n",
       "nanohub_user_id                                       0   \n",
       "author_id                                      18005121   \n",
       "organization             Brookhaven National Laboratory   \n",
       "orcid                                                     \n",
       "research_id                                               \n",
       "gscholar_id                                               \n",
       "domain_cleaned_set   {brookhaven, laboratory, national}   \n",
       "domain_cleaned_hash      brookhaven-laboratory-national   \n",
       "domain_by_citation                              bnl.gov   \n",
       "\n",
       "                                                  14795                 2915   \\\n",
       "citation_ID                                         835              10000678   \n",
       "nanohub_user_id                                       0                  3482   \n",
       "author_id                                      18000316                  7491   \n",
       "organization          U. S. National Science Foundation     Purdue University   \n",
       "orcid                                                                    None   \n",
       "research_id                                                              None   \n",
       "gscholar_id                                                              None   \n",
       "domain_cleaned_set   {u, science, national, foundation}  {purdue, university}   \n",
       "domain_cleaned_hash       foundation-national-science-u     purdue-university   \n",
       "domain_by_citation                                  NaN            purdue.edu   \n",
       "\n",
       "                                   9758                  311    \n",
       "citation_ID                         2228              10000069  \n",
       "nanohub_user_id                     7997                  3482  \n",
       "author_id                       18004874                  4922  \n",
       "organization            Purdue Universty     Purdue University  \n",
       "orcid                                                     None  \n",
       "research_id                                               None  \n",
       "gscholar_id                                               None  \n",
       "domain_cleaned_set   {purdue, universty}  {purdue, university}  \n",
       "domain_cleaned_hash     purdue-universty     purdue-university  \n",
       "domain_by_citation                   NaN            purdue.edu  "
      ]
     },
     "execution_count": 14,
     "metadata": {},
     "output_type": "execute_result"
    }
   ],
   "source": [
    "# attempt direct join by hash\n",
    "derived_authors_df = pd.merge(ac_df, domain_subset_all_df\\\n",
    "                              ,how='left', left_on='domain_cleaned_hash', right_on='domain_hash')\\\n",
    "                              .drop('domain_hash', axis=1)\\\n",
    "                              .rename(columns={'domain':'domain_by_citation'})\n",
    "\n",
    "# display\n",
    "derived_authors_df.sample(5).T"
   ]
  },
  {
   "cell_type": "markdown",
   "metadata": {
    "tags": [
     "papermill-error-cell-tag"
    ]
   },
   "source": [
    "<span id=\"papermill-error-cell\" style=\"color:red; font-family:Helvetica Neue, Helvetica, Arial, sans-serif; font-size:2em;\">Execution using papermill encountered an exception here and stopped:</span>"
   ]
  },
  {
   "cell_type": "code",
   "execution_count": null,
   "metadata": {
    "papermill": {
     "duration": 3.381547,
     "end_time": "2021-01-21T06:39:01.192100",
     "exception": false,
     "start_time": "2021-01-21T06:38:57.810553",
     "status": "completed"
    },
    "tags": []
   },
   "outputs": [],
   "source": [
    "# rank the nanoHUB profile institutions that cannot be directly matched by occurance\n",
    "\n",
    "derived_authors_subset_df = derived_authors_df[(derived_authors_df.domain_cleaned_hash.notnull() \\\n",
    "                                                                & derived_authors_df.domain_by_citation.isna())]\n",
    "\n",
    "most_common_sets = derived_authors_subset_df.domain_cleaned_set.value_counts()\n",
    "\n",
    "# display\n",
    "most_common_sets.sort_values(ascending=False)"
   ]
  },
  {
   "cell_type": "code",
   "execution_count": null,
   "metadata": {
    "papermill": {
     "duration": 7.312794,
     "end_time": "2021-01-21T06:39:08.533575",
     "exception": false,
     "start_time": "2021-01-21T06:39:01.220781",
     "status": "completed"
    },
    "tags": []
   },
   "outputs": [],
   "source": [
    "# attempt to reduce domain_df size to speedup Jaccard calculation\n",
    "from itertools import chain\n",
    "\n",
    "all_word_set = set(chain.from_iterable(derived_authors_subset_df.domain_cleaned_set.values))\n",
    "\n",
    "# select the domain_df entry with words from all_word_set\n",
    "domain_subset_df = domain_df[domain_df.domain_cleaned_set.notnull()]\n",
    "domain_subset_df = domain_subset_df[domain_subset_df.domain_cleaned_set\\\n",
    "                             .apply(lambda x: True if len(x.intersection(all_word_set)) > 0 else False)]\n",
    "\n",
    "domain_subset_df = domain_subset_df[['domain_cleaned_set', 'domain']]"
   ]
  },
  {
   "cell_type": "code",
   "execution_count": null,
   "metadata": {
    "papermill": {
     "duration": 3314.233632,
     "end_time": "2021-01-21T07:34:22.790406",
     "exception": false,
     "start_time": "2021-01-21T06:39:08.556774",
     "status": "completed"
    },
    "tags": []
   },
   "outputs": [],
   "source": [
    "# Time consuming part: calculating Jaccard similarity score\n",
    "def get_jaccard_score(a,b):\n",
    "    \n",
    "    if (not a) & (not b):\n",
    "        return 0\n",
    "    \n",
    "    score = len(a.intersection(b))/len(a.union(b))\n",
    "    \n",
    "    return score\n",
    "\n",
    "\n",
    "for this_set in most_common_sets.index:\n",
    "    # calculate the Jaccard similarity\n",
    "    max_index = domain_subset_df.domain_cleaned_set.apply(lambda x: get_jaccard_score(x, this_set)).idxmax()\n",
    "\n",
    "    derived_authors_df.loc[derived_authors_df.domain_cleaned_set == this_set, 'domain_by_citation'] \\\n",
    "                = domain_subset_df.loc[max_index, 'domain']"
   ]
  },
  {
   "cell_type": "code",
   "execution_count": null,
   "metadata": {
    "papermill": {
     "duration": 0.93389,
     "end_time": "2021-01-21T07:34:24.007933",
     "exception": false,
     "start_time": "2021-01-21T07:34:23.074043",
     "status": "completed"
    },
    "tags": []
   },
   "outputs": [],
   "source": [
    "# display\n",
    "derived_authors_df.sample(5).T"
   ]
  },
  {
   "cell_type": "markdown",
   "metadata": {
    "papermill": {
     "duration": 0.021812,
     "end_time": "2021-01-21T07:34:24.055768",
     "exception": false,
     "start_time": "2021-01-21T07:34:24.033956",
     "status": "completed"
    },
    "tags": []
   },
   "source": [
    "## Obtain Salesforce IDs"
   ]
  },
  {
   "cell_type": "code",
   "execution_count": null,
   "metadata": {
    "collapsed": false,
    "jupyter": {
     "outputs_hidden": false
    },
    "pycharm": {
     "name": "#%%\n"
    }
   },
   "outputs": [],
   "source": [
    "# create DB2 to Salesforce API object\n",
    "db_s = salesforce"
   ]
  },
  {
   "cell_type": "code",
   "execution_count": null,
   "metadata": {
    "papermill": {
     "duration": 26.50013,
     "end_time": "2021-01-21T07:34:57.334472",
     "exception": false,
     "start_time": "2021-01-21T07:34:30.834342",
     "status": "completed"
    },
    "tags": []
   },
   "outputs": [],
   "source": [
    "# query the Salesforce IDs for contacts and citations. when updating junction objects, these IDs must be used\n",
    "\n",
    "# get Salesforce ID for contacts\n",
    "sf_userID_df = db_s.query_data('SELECT Id, nanoHUB_user_ID__c FROM Contact where nanoHUB_user_ID__c != NULL')\n",
    "\n",
    "sf_userID_df['nanoHUB_user_ID__c'] = sf_userID_df['nanoHUB_user_ID__c'].astype('int')"
   ]
  },
  {
   "cell_type": "code",
   "execution_count": null,
   "metadata": {
    "papermill": {
     "duration": 11.624954,
     "end_time": "2021-01-21T07:35:08.982192",
     "exception": false,
     "start_time": "2021-01-21T07:34:57.357238",
     "status": "completed"
    },
    "scrolled": true,
    "tags": []
   },
   "outputs": [],
   "source": [
    "# get Salesforce ID for citations\n",
    "sf_citationID_df = db_s.query_data('SELECT Id, Record_ID__c FROM nanoHUB_citations__c')\n",
    "\n",
    "sf_citationID_df['Record_ID__c'] = sf_citationID_df['Record_ID__c'].astype('int')"
   ]
  },
  {
   "cell_type": "code",
   "execution_count": null,
   "metadata": {
    "papermill": {
     "duration": 11.520054,
     "end_time": "2021-01-21T07:35:20.528827",
     "exception": false,
     "start_time": "2021-01-21T07:35:09.008773",
     "status": "completed"
    },
    "tags": []
   },
   "outputs": [],
   "source": [
    "# get Salesforce ID for organizations\n",
    "sf_orgID_df = db_s.query_data('SELECT Id, Domain__c FROM organization__c')"
   ]
  },
  {
   "cell_type": "markdown",
   "metadata": {
    "papermill": {
     "duration": 0.023442,
     "end_time": "2021-01-21T07:35:20.575302",
     "exception": false,
     "start_time": "2021-01-21T07:35:20.551860",
     "status": "completed"
    },
    "tags": []
   },
   "source": [
    "## Match data with Salesforce format"
   ]
  },
  {
   "cell_type": "code",
   "execution_count": null,
   "metadata": {
    "papermill": {
     "duration": 0.434185,
     "end_time": "2021-01-21T07:35:21.032891",
     "exception": false,
     "start_time": "2021-01-21T07:35:20.598706",
     "status": "completed"
    },
    "tags": []
   },
   "outputs": [],
   "source": [
    "# valid citation - nanohub user links\n",
    "ac_tolink_df = derived_authors_df[derived_authors_df.nanohub_user_id != 0]\n",
    "\n",
    "display(ac_tolink_df.head(2))\n",
    "display(sf_citationID_df.head(2))\n",
    "display(sf_userID_df.head(2))\n",
    "display(sf_orgID_df.head(2))"
   ]
  },
  {
   "cell_type": "code",
   "execution_count": null,
   "metadata": {
    "papermill": {
     "duration": 0.362638,
     "end_time": "2021-01-21T07:35:21.420646",
     "exception": false,
     "start_time": "2021-01-21T07:35:21.058008",
     "status": "completed"
    },
    "tags": []
   },
   "outputs": [],
   "source": [
    "# merge SF citation and contact IDs into user-citation DF\n",
    "ac_tolink_df = pd.merge(ac_tolink_df, sf_citationID_df, how='inner', left_on='citation_ID', right_on='Record_ID__c')\\\n",
    "                           .rename(columns={'Id':'SF_ID_citation'})\n",
    "                                            \n",
    "ac_tolink_df = pd.merge(ac_tolink_df, sf_userID_df, how='inner', left_on='nanohub_user_id', right_on='nanoHUB_user_ID__c')\\\n",
    "                           .rename(columns={'Id':'SF_ID_contact'})\n",
    "\n",
    "ac_tolink_df = pd.merge(ac_tolink_df, sf_orgID_df, how='left', left_on='domain_by_citation', right_on='Domain__c')\\\n",
    "                           .rename(columns={'Id':'SF_ID_organization'})\n",
    "\n",
    "# display\n",
    "ac_tolink_df.head(2)"
   ]
  },
  {
   "cell_type": "code",
   "execution_count": null,
   "metadata": {
    "papermill": {
     "duration": 0.534917,
     "end_time": "2021-01-21T07:35:21.980831",
     "exception": false,
     "start_time": "2021-01-21T07:35:21.445914",
     "status": "completed"
    },
    "tags": []
   },
   "outputs": [],
   "source": [
    "# create a new column for object name\n",
    "ac_tolink_df['Name'] = ac_tolink_df.apply(lambda x: '%d_%d'%(x.nanoHUB_user_ID__c, x.Record_ID__c), axis=1)"
   ]
  },
  {
   "cell_type": "code",
   "execution_count": null,
   "metadata": {
    "papermill": {
     "duration": 0.228277,
     "end_time": "2021-01-21T07:35:22.238323",
     "exception": false,
     "start_time": "2021-01-21T07:35:22.010046",
     "status": "completed"
    },
    "tags": []
   },
   "outputs": [],
   "source": [
    "df_sf = pd.DataFrame()\n",
    "\n",
    "# Make sure NaN and NaT values are taken care of here\n",
    "df_sf['Name']         = ac_tolink_df['Name']\n",
    "df_sf['Contact__c'] = ac_tolink_df['SF_ID_contact']\n",
    "df_sf['Citation__c'] = ac_tolink_df['SF_ID_citation']\n",
    "\n",
    "df_sf['gscholar_id__c'] = ac_tolink_df['gscholar_id'].fillna('')\n",
    "df_sf['ORCID__c'] = ac_tolink_df['orcid'].fillna('')\n",
    "df_sf['Organization__c'] = ac_tolink_df['SF_ID_organization']\n",
    "df_sf['Organization_nanohub__c'] = ac_tolink_df['organization'].fillna('')\n",
    "df_sf['research_id__c'] = ac_tolink_df['research_id'].fillna('')\n",
    "\n",
    "sf_original_fields = df_sf.columns\n",
    "\n",
    "# display\n",
    "df_sf.head(2).T"
   ]
  },
  {
   "cell_type": "markdown",
   "metadata": {
    "papermill": {
     "duration": 0.026787,
     "end_time": "2021-01-21T07:35:22.292169",
     "exception": false,
     "start_time": "2021-01-21T07:35:22.265382",
     "status": "completed"
    },
    "tags": []
   },
   "source": [
    "## To Salesforce Sales Cloud CRM"
   ]
  },
  {
   "cell_type": "code",
   "execution_count": null,
   "metadata": {
    "papermill": {
     "duration": 0.441413,
     "end_time": "2021-01-21T07:35:22.759879",
     "exception": false,
     "start_time": "2021-01-21T07:35:22.318466",
     "status": "completed"
    },
    "tags": []
   },
   "outputs": [],
   "source": [
    "# create DB2 to Salesforce API object\n",
    "db_s = salesforce\n",
    "\n",
    "# specify Salesforce object ID and external ID\n",
    "db_s.object_id = 'contact_citation_asso__c'\n",
    "db_s.external_id = 'Name'"
   ]
  },
  {
   "cell_type": "code",
   "execution_count": null,
   "metadata": {
    "papermill": {
     "duration": 1.419453,
     "end_time": "2021-01-21T07:35:24.212627",
     "exception": false,
     "start_time": "2021-01-21T07:35:22.793174",
     "status": "completed"
    },
    "tags": []
   },
   "outputs": [],
   "source": [
    "# send data to Salesforce\n",
    "db_s.send_data(df_sf)"
   ]
  },
  {
   "cell_type": "code",
   "execution_count": null,
   "metadata": {
    "papermill": {
     "duration": 0.431784,
     "end_time": "2021-01-21T07:35:24.671803",
     "exception": false,
     "start_time": "2021-01-21T07:35:24.240019",
     "status": "completed"
    },
    "tags": []
   },
   "outputs": [],
   "source": [
    "# check status\n",
    "from pprint import pprint\n",
    "\n",
    "pprint(db_s.check_bulk_status())"
   ]
  },
  {
   "cell_type": "code",
   "execution_count": null,
   "metadata": {
    "papermill": {
     "duration": 0.180571,
     "end_time": "2021-01-21T07:35:24.879886",
     "exception": false,
     "start_time": "2021-01-21T07:35:24.699315",
     "status": "completed"
    },
    "tags": []
   },
   "outputs": [
    {
     "name": "stdout",
     "output_type": "stream",
     "text": [
      "2021-06-15 19:31:58,507 - [DEBUG] paramiko.transport [transport._log:1819]: Sending global request \"keepalive@lag.net\"\n",
      "2021-06-15 19:31:58,814 - [DEBUG] paramiko.transport [transport._log:1819]: Sending global request \"keepalive@lag.net\"\n",
      "2021-06-15 19:32:03,522 - [DEBUG] paramiko.transport [transport._log:1819]: Sending global request \"keepalive@lag.net\"\n",
      "2021-06-15 19:32:03,833 - [DEBUG] paramiko.transport [transport._log:1819]: Sending global request \"keepalive@lag.net\"\n",
      "2021-06-15 19:32:08,551 - [DEBUG] paramiko.transport [transport._log:1819]: Sending global request \"keepalive@lag.net\"\n",
      "2021-06-15 19:32:08,855 - [DEBUG] paramiko.transport [transport._log:1819]: Sending global request \"keepalive@lag.net\"\n",
      "2021-06-15 19:32:13,571 - [DEBUG] paramiko.transport [transport._log:1819]: Sending global request \"keepalive@lag.net\"\n",
      "2021-06-15 19:32:13,872 - [DEBUG] paramiko.transport [transport._log:1819]: Sending global request \"keepalive@lag.net\"\n",
      "2021-06-15 19:32:18,587 - [DEBUG] paramiko.transport [transport._log:1819]: Sending global request \"keepalive@lag.net\"\n",
      "2021-06-15 19:32:18,899 - [DEBUG] paramiko.transport [transport._log:1819]: Sending global request \"keepalive@lag.net\"\n",
      "2021-06-15 19:32:23,605 - [DEBUG] paramiko.transport [transport._log:1819]: Sending global request \"keepalive@lag.net\"\n",
      "2021-06-15 19:32:23,916 - [DEBUG] paramiko.transport [transport._log:1819]: Sending global request \"keepalive@lag.net\"\n",
      "2021-06-15 19:32:28,658 - [DEBUG] paramiko.transport [transport._log:1819]: Sending global request \"keepalive@lag.net\"\n",
      "2021-06-15 19:32:28,961 - [DEBUG] paramiko.transport [transport._log:1819]: Sending global request \"keepalive@lag.net\"\n",
      "2021-06-15 19:32:33,668 - [DEBUG] paramiko.transport [transport._log:1819]: Sending global request \"keepalive@lag.net\"\n",
      "2021-06-15 19:32:33,974 - [DEBUG] paramiko.transport [transport._log:1819]: Sending global request \"keepalive@lag.net\"\n",
      "2021-06-15 19:32:38,694 - [DEBUG] paramiko.transport [transport._log:1819]: Sending global request \"keepalive@lag.net\"\n",
      "2021-06-15 19:32:39,003 - [DEBUG] paramiko.transport [transport._log:1819]: Sending global request \"keepalive@lag.net\"\n",
      "2021-06-15 19:32:43,710 - [DEBUG] paramiko.transport [transport._log:1819]: Sending global request \"keepalive@lag.net\"\n",
      "2021-06-15 19:32:44,017 - [DEBUG] paramiko.transport [transport._log:1819]: Sending global request \"keepalive@lag.net\"\n",
      "2021-06-15 19:32:48,733 - [DEBUG] paramiko.transport [transport._log:1819]: Sending global request \"keepalive@lag.net\"\n",
      "2021-06-15 19:32:49,035 - [DEBUG] paramiko.transport [transport._log:1819]: Sending global request \"keepalive@lag.net\"\n",
      "2021-06-15 19:32:53,745 - [DEBUG] paramiko.transport [transport._log:1819]: Sending global request \"keepalive@lag.net\"\n",
      "2021-06-15 19:32:54,050 - [DEBUG] paramiko.transport [transport._log:1819]: Sending global request \"keepalive@lag.net\"\n",
      "2021-06-15 19:32:58,753 - [DEBUG] paramiko.transport [transport._log:1819]: Sending global request \"keepalive@lag.net\"\n",
      "2021-06-15 19:32:59,058 - [DEBUG] paramiko.transport [transport._log:1819]: Sending global request \"keepalive@lag.net\"\n",
      "2021-06-15 19:33:03,852 - [DEBUG] paramiko.transport [transport._log:1819]: Sending global request \"keepalive@lag.net\"\n",
      "2021-06-15 19:33:04,159 - [DEBUG] paramiko.transport [transport._log:1819]: Sending global request \"keepalive@lag.net\"\n",
      "2021-06-15 19:33:08,878 - [DEBUG] paramiko.transport [transport._log:1819]: Sending global request \"keepalive@lag.net\"\n",
      "2021-06-15 19:33:09,186 - [DEBUG] paramiko.transport [transport._log:1819]: Sending global request \"keepalive@lag.net\"\n",
      "2021-06-15 19:33:13,881 - [DEBUG] paramiko.transport [transport._log:1819]: Sending global request \"keepalive@lag.net\"\n",
      "2021-06-15 19:33:14,187 - [DEBUG] paramiko.transport [transport._log:1819]: Sending global request \"keepalive@lag.net\"\n",
      "2021-06-15 19:33:18,901 - [DEBUG] paramiko.transport [transport._log:1819]: Sending global request \"keepalive@lag.net\"\n",
      "2021-06-15 19:33:19,210 - [DEBUG] paramiko.transport [transport._log:1819]: Sending global request \"keepalive@lag.net\"\n",
      "2021-06-15 19:33:23,926 - [DEBUG] paramiko.transport [transport._log:1819]: Sending global request \"keepalive@lag.net\"\n",
      "2021-06-15 19:33:24,235 - [DEBUG] paramiko.transport [transport._log:1819]: Sending global request \"keepalive@lag.net\"\n",
      "2021-06-15 19:33:28,933 - [DEBUG] paramiko.transport [transport._log:1819]: Sending global request \"keepalive@lag.net\"\n",
      "2021-06-15 19:33:29,240 - [DEBUG] paramiko.transport [transport._log:1819]: Sending global request \"keepalive@lag.net\"\n",
      "2021-06-15 19:33:33,942 - [DEBUG] paramiko.transport [transport._log:1819]: Sending global request \"keepalive@lag.net\"\n",
      "2021-06-15 19:33:34,249 - [DEBUG] paramiko.transport [transport._log:1819]: Sending global request \"keepalive@lag.net\"\n"
     ]
    }
   ],
   "source": [
    "# check status\n",
    "from pprint import pprint\n",
    "\n",
    "pprint(db_s.check_bulk_failed_results())"
   ]
  },
  {
   "cell_type": "code",
   "execution_count": null,
   "metadata": {
    "papermill": {
     "duration": 0.02719,
     "end_time": "2021-01-21T07:35:24.934568",
     "exception": false,
     "start_time": "2021-01-21T07:35:24.907378",
     "status": "completed"
    },
    "tags": []
   },
   "outputs": [],
   "source": []
  },
  {
   "cell_type": "code",
   "execution_count": null,
   "metadata": {
    "papermill": {
     "duration": 0.028306,
     "end_time": "2021-01-21T07:35:24.991565",
     "exception": false,
     "start_time": "2021-01-21T07:35:24.963259",
     "status": "completed"
    },
    "tags": []
   },
   "outputs": [],
   "source": []
  }
 ],
 "metadata": {
  "celltoolbar": "Tags",
  "kernelspec": {
   "display_name": "Python 3 (ipykernel)",
   "language": "python",
   "name": "python3"
  },
  "language_info": {
   "codemirror_mode": {
    "name": "ipython",
    "version": 3
   },
   "file_extension": ".py",
   "mimetype": "text/x-python",
   "name": "python",
   "nbconvert_exporter": "python",
   "pygments_lexer": "ipython3",
   "version": "3.8.10"
  },
  "papermill": {
   "duration": 3900.953283,
   "end_time": "2021-01-21T07:35:33.016782",
   "environment_variables": {},
   "exception": null,
   "input_path": "/home/users/wang2506/nanohub_salesforce_integ/salesforce/task_citations_map_contacts.ipynb",
   "output_path": "/home/users/wang2506/nanohub_salesforce_integ/salesforce/task_citations_map_contacts.ipynb",
   "parameters": {},
   "start_time": "2021-01-21T06:30:32.063499",
   "version": "2.1.1"
  }
 },
 "nbformat": 4,
 "nbformat_minor": 4
}
