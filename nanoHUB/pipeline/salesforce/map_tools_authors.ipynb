{
 "cells": [
  {
   "cell_type": "markdown",
   "metadata": {
    "papermill": {
     "duration": 0.023712,
     "end_time": "2021-01-21T06:30:34.775545",
     "exception": false,
     "start_time": "2021-01-21T06:30:34.751833",
     "status": "completed"
    },
    "tags": []
   },
   "source": [
    "# Mapping Tools to Authors The Right Way\n",
    "\n",
    "##### Author: Praveen Saxena\n",
    "##### Email: saxep01@gmail.com\n",
    "##### Create Date: 10/27/2021\n",
    "##### Purpose: Mapping tool to authors the right way"
   ]
  },
  {
   "cell_type": "markdown",
   "metadata": {
    "execution": {
     "iopub.execute_input": "2021-10-28T00:32:53.599176Z",
     "iopub.status.busy": "2021-10-28T00:32:53.598518Z",
     "iopub.status.idle": "2021-10-28T00:32:53.611793Z",
     "shell.execute_reply": "2021-10-28T00:32:53.610379Z",
     "shell.execute_reply.started": "2021-10-28T00:32:53.599066Z"
    }
   },
   "source": [
    "## 1. Preliminaries\n",
    "[top](#Contents)"
   ]
  },
  {
   "cell_type": "code",
   "execution_count": 1,
   "metadata": {
    "execution": {
     "iopub.execute_input": "2021-10-28T03:47:31.836904Z",
     "iopub.status.busy": "2021-10-28T03:47:31.836490Z",
     "iopub.status.idle": "2021-10-28T03:47:33.114634Z",
     "shell.execute_reply": "2021-10-28T03:47:33.113155Z",
     "shell.execute_reply.started": "2021-10-28T03:47:31.836832Z"
    },
    "papermill": {
     "duration": 0.118034,
     "end_time": "2021-01-21T06:30:34.917291",
     "exception": false,
     "start_time": "2021-01-21T06:30:34.799257",
     "status": "completed"
    },
    "tags": [
     "parameters"
    ]
   },
   "outputs": [
    {
     "name": "stdout",
     "output_type": "stream",
     "text": [
      "\u001b[1mnanoHUB - Serving Students, Researchers & Instructors\u001b[0m\n"
     ]
    }
   ],
   "source": [
    "# API settings\n",
    "api_url = '/services/data/v43.0/sobjects'\n",
    "external_id = 'Name'\n",
    "object_id = 'AuthorToolAssociation__c'\n",
    "\n",
    "import pandas as pd\n",
    "import os\n",
    "import time\n",
    "import datetime\n",
    "from pathlib import Path\n",
    "\n",
    "from nanoHUB.application import Application\n",
    "from nanoHUB.salesforce import CachedRepository, ContactsRepository, ToolsRepository\n",
    "\n",
    "application = Application.get_instance()\n",
    "nanohub_db = application.new_db_engine('nanohub')"
   ]
  },
  {
   "cell_type": "markdown",
   "metadata": {
    "execution": {
     "iopub.execute_input": "2021-01-21T06:30:35.079135Z",
     "iopub.status.busy": "2021-01-21T06:30:35.078532Z",
     "iopub.status.idle": "2021-01-21T06:30:40.778540Z",
     "shell.execute_reply": "2021-01-21T06:30:40.778010Z"
    },
    "papermill": {
     "duration": 5.812883,
     "end_time": "2021-01-21T06:30:40.778675",
     "exception": false,
     "start_time": "2021-01-21T06:30:34.965792",
     "status": "completed"
    },
    "tags": []
   },
   "source": [
    "## 2. Variables and Functions\n",
    "[top](#Contents)"
   ]
  },
  {
   "cell_type": "code",
   "execution_count": 2,
   "metadata": {
    "execution": {
     "iopub.execute_input": "2021-10-28T03:47:33.118263Z",
     "iopub.status.busy": "2021-10-28T03:47:33.117520Z",
     "iopub.status.idle": "2021-10-28T03:47:33.125429Z",
     "shell.execute_reply": "2021-10-28T03:47:33.123708Z",
     "shell.execute_reply.started": "2021-10-28T03:47:33.118063Z"
    },
    "tags": []
   },
   "outputs": [],
   "source": [
    "def display_for(df: pd.DataFrame, author_name: str) -> None:\n",
    "    display(df.loc[df['name'] == author_name])"
   ]
  },
  {
   "cell_type": "markdown",
   "metadata": {
    "execution": {
     "iopub.execute_input": "2021-10-28T01:11:02.871576Z",
     "iopub.status.busy": "2021-10-28T01:11:02.871265Z",
     "iopub.status.idle": "2021-10-28T01:11:02.880286Z",
     "shell.execute_reply": "2021-10-28T01:11:02.878711Z",
     "shell.execute_reply.started": "2021-10-28T01:11:02.871539Z"
    }
   },
   "source": [
    "## 3. Base Query - Obtain tool info with authors\n",
    "[top](#Contents)"
   ]
  },
  {
   "cell_type": "code",
   "execution_count": null,
   "metadata": {},
   "outputs": [],
   "source": []
  },
  {
   "cell_type": "code",
   "execution_count": 3,
   "metadata": {
    "execution": {
     "iopub.execute_input": "2021-10-28T03:47:33.129029Z",
     "iopub.status.busy": "2021-10-28T03:47:33.128758Z",
     "iopub.status.idle": "2021-10-28T03:47:33.136788Z",
     "shell.execute_reply": "2021-10-28T03:47:33.134546Z",
     "shell.execute_reply.started": "2021-10-28T03:47:33.128998Z"
    },
    "tags": []
   },
   "outputs": [],
   "source": [
    "sql_string = '''\n",
    "SELECT DISTINCT \n",
    "       tool.toolname AS toolname, tool.title AS title,\n",
    "       author.authorid, author.name \n",
    "FROM nanohub.jos_resources res\n",
    "LEFT JOIN nanohub.jos_author_assoc author\n",
    "  ON author.subid  = res.id\n",
    "LEFT JOIN nanohub.jos_tool tool\n",
    "  ON LOWER(tool.title) = LOWER(res.title) \n",
    "WHERE\n",
    "    res.title != '' AND\n",
    "    res.published = 1 AND \n",
    "    res.type = '7' AND \n",
    "    res.access IN ('0','3','1') AND \n",
    "    res.standalone = '1'\n",
    "    \n",
    "UNION DISTINCT\n",
    "SELECT DISTINCT \n",
    "       res.alias AS toolname, res.title AS title,\n",
    "       author.authorid, author.name \n",
    "FROM nanohub.jos_resources res\n",
    "LEFT JOIN nanohub.jos_author_assoc author\n",
    "  ON author.subid  = res.id\n",
    "LEFT JOIN nanohub.jos_tool tool\n",
    "  ON LOWER(tool.title) = LOWER(res.alias)\n",
    "WHERE\n",
    "    res.alias != '' AND\n",
    "    res.published = 1 AND \n",
    "    res.type = '7' AND \n",
    "    res.access IN ('0','3','1') AND \n",
    "    res.standalone = '1'\n",
    ";\n",
    "'''"
   ]
  },
  {
   "cell_type": "code",
   "execution_count": 4,
   "metadata": {
    "execution": {
     "iopub.execute_input": "2021-10-28T03:47:33.138653Z",
     "iopub.status.busy": "2021-10-28T03:47:33.138136Z",
     "iopub.status.idle": "2021-10-28T03:47:39.603691Z",
     "shell.execute_reply": "2021-10-28T03:47:39.603020Z",
     "shell.execute_reply.started": "2021-10-28T03:47:33.138602Z"
    },
    "tags": []
   },
   "outputs": [
    {
     "name": "stdout",
     "output_type": "stream",
     "text": [
      "<class 'pandas.core.frame.DataFrame'>\n",
      "RangeIndex: 2716 entries, 0 to 2715\n",
      "Data columns (total 4 columns):\n",
      " #   Column    Non-Null Count  Dtype  \n",
      "---  ------    --------------  -----  \n",
      " 0   toolname  2239 non-null   object \n",
      " 1   title     2239 non-null   object \n",
      " 2   authorid  2706 non-null   float64\n",
      " 3   name      2706 non-null   object \n",
      "dtypes: float64(1), object(3)\n",
      "memory usage: 85.0+ KB\n"
     ]
    },
    {
     "data": {
      "text/plain": [
       "None"
      ]
     },
     "metadata": {},
     "output_type": "display_data"
    },
    {
     "data": {
      "text/html": [
       "<div>\n",
       "<style scoped>\n",
       "    .dataframe tbody tr th:only-of-type {\n",
       "        vertical-align: middle;\n",
       "    }\n",
       "\n",
       "    .dataframe tbody tr th {\n",
       "        vertical-align: top;\n",
       "    }\n",
       "\n",
       "    .dataframe thead th {\n",
       "        text-align: right;\n",
       "    }\n",
       "</style>\n",
       "<table border=\"1\" class=\"dataframe\">\n",
       "  <thead>\n",
       "    <tr style=\"text-align: right;\">\n",
       "      <th></th>\n",
       "      <th>toolname</th>\n",
       "      <th>title</th>\n",
       "      <th>authorid</th>\n",
       "      <th>name</th>\n",
       "    </tr>\n",
       "  </thead>\n",
       "  <tbody>\n",
       "    <tr>\n",
       "      <th>0</th>\n",
       "      <td>hydrolab</td>\n",
       "      <td>Hydrophobicity Lab</td>\n",
       "      <td>4713.0</td>\n",
       "      <td>Eric Darve</td>\n",
       "    </tr>\n",
       "    <tr>\n",
       "      <th>1</th>\n",
       "      <td>hydrolab</td>\n",
       "      <td>Hydrophobicity Lab</td>\n",
       "      <td>12486.0</td>\n",
       "      <td>Artit Wangperawong</td>\n",
       "    </tr>\n",
       "    <tr>\n",
       "      <th>2</th>\n",
       "      <td>hydrolab</td>\n",
       "      <td>Hydrophobicity Lab</td>\n",
       "      <td>12590.0</td>\n",
       "      <td>Kazutora Hayashida</td>\n",
       "    </tr>\n",
       "    <tr>\n",
       "      <th>3</th>\n",
       "      <td>nanomos</td>\n",
       "      <td>NanoMOS</td>\n",
       "      <td>-39.0</td>\n",
       "      <td></td>\n",
       "    </tr>\n",
       "    <tr>\n",
       "      <th>4</th>\n",
       "      <td>nanomos</td>\n",
       "      <td>NanoMOS</td>\n",
       "      <td>4323.0</td>\n",
       "      <td></td>\n",
       "    </tr>\n",
       "  </tbody>\n",
       "</table>\n",
       "</div>"
      ],
      "text/plain": [
       "   toolname               title  authorid                name\n",
       "0  hydrolab  Hydrophobicity Lab    4713.0          Eric Darve\n",
       "1  hydrolab  Hydrophobicity Lab   12486.0  Artit Wangperawong\n",
       "2  hydrolab  Hydrophobicity Lab   12590.0  Kazutora Hayashida\n",
       "3   nanomos             NanoMOS     -39.0                    \n",
       "4   nanomos             NanoMOS    4323.0                    "
      ]
     },
     "metadata": {},
     "output_type": "display_data"
    },
    {
     "data": {
      "text/html": [
       "<div>\n",
       "<style scoped>\n",
       "    .dataframe tbody tr th:only-of-type {\n",
       "        vertical-align: middle;\n",
       "    }\n",
       "\n",
       "    .dataframe tbody tr th {\n",
       "        vertical-align: top;\n",
       "    }\n",
       "\n",
       "    .dataframe thead th {\n",
       "        text-align: right;\n",
       "    }\n",
       "</style>\n",
       "<table border=\"1\" class=\"dataframe\">\n",
       "  <thead>\n",
       "    <tr style=\"text-align: right;\">\n",
       "      <th></th>\n",
       "      <th>toolname</th>\n",
       "      <th>title</th>\n",
       "      <th>authorid</th>\n",
       "      <th>name</th>\n",
       "    </tr>\n",
       "  </thead>\n",
       "  <tbody>\n",
       "    <tr>\n",
       "      <th>2711</th>\n",
       "      <td>workspace</td>\n",
       "      <td>Workspace</td>\n",
       "      <td>NaN</td>\n",
       "      <td>None</td>\n",
       "    </tr>\n",
       "    <tr>\n",
       "      <th>2712</th>\n",
       "      <td>nrr</td>\n",
       "      <td>Non-Rigid Registration for STEM</td>\n",
       "      <td>NaN</td>\n",
       "      <td>None</td>\n",
       "    </tr>\n",
       "    <tr>\n",
       "      <th>2713</th>\n",
       "      <td>diffanalyzer</td>\n",
       "      <td>Particle Trajectory Diffusion Analysis</td>\n",
       "      <td>NaN</td>\n",
       "      <td>None</td>\n",
       "    </tr>\n",
       "    <tr>\n",
       "      <th>2714</th>\n",
       "      <td>cc3dwf</td>\n",
       "      <td>CompuCell3D - 2D wet foam coarsening</td>\n",
       "      <td>NaN</td>\n",
       "      <td>None</td>\n",
       "    </tr>\n",
       "    <tr>\n",
       "      <th>2715</th>\n",
       "      <td>cc3dwfdrain</td>\n",
       "      <td>CompuCell3D - 2D wet foam coarsening with drai...</td>\n",
       "      <td>NaN</td>\n",
       "      <td>None</td>\n",
       "    </tr>\n",
       "  </tbody>\n",
       "</table>\n",
       "</div>"
      ],
      "text/plain": [
       "          toolname                                              title  \\\n",
       "2711     workspace                                          Workspace   \n",
       "2712           nrr                    Non-Rigid Registration for STEM   \n",
       "2713  diffanalyzer             Particle Trajectory Diffusion Analysis   \n",
       "2714        cc3dwf               CompuCell3D - 2D wet foam coarsening   \n",
       "2715   cc3dwfdrain  CompuCell3D - 2D wet foam coarsening with drai...   \n",
       "\n",
       "      authorid  name  \n",
       "2711       NaN  None  \n",
       "2712       NaN  None  \n",
       "2713       NaN  None  \n",
       "2714       NaN  None  \n",
       "2715       NaN  None  "
      ]
     },
     "metadata": {},
     "output_type": "display_data"
    }
   ],
   "source": [
    "toolauthors_df = pd.read_sql_query(sql_string, nanohub_db)\n",
    "\n",
    "display(toolauthors_df.info())\n",
    "display(toolauthors_df.head())\n",
    "display(toolauthors_df.tail())"
   ]
  },
  {
   "cell_type": "code",
   "execution_count": 5,
   "metadata": {
    "execution": {
     "iopub.execute_input": "2021-10-28T03:47:39.606271Z",
     "iopub.status.busy": "2021-10-28T03:47:39.605618Z",
     "iopub.status.idle": "2021-10-28T03:47:39.616157Z",
     "shell.execute_reply": "2021-10-28T03:47:39.614778Z",
     "shell.execute_reply.started": "2021-10-28T03:47:39.606224Z"
    },
    "tags": []
   },
   "outputs": [],
   "source": [
    "toolauthors_df = toolauthors_df[pd.notnull(toolauthors_df['toolname'])]"
   ]
  },
  {
   "cell_type": "markdown",
   "metadata": {},
   "source": [
    "### 3.a. Base Query - Sanity Check\n",
    "[top](#Contents)"
   ]
  },
  {
   "cell_type": "markdown",
   "metadata": {},
   "source": [
    "#### - _Tanya's tools_"
   ]
  },
  {
   "cell_type": "code",
   "execution_count": 6,
   "metadata": {
    "execution": {
     "iopub.execute_input": "2021-10-28T03:47:39.619615Z",
     "iopub.status.busy": "2021-10-28T03:47:39.618584Z",
     "iopub.status.idle": "2021-10-28T03:47:39.640115Z",
     "shell.execute_reply": "2021-10-28T03:47:39.637159Z",
     "shell.execute_reply.started": "2021-10-28T03:47:39.619542Z"
    },
    "tags": []
   },
   "outputs": [
    {
     "data": {
      "text/html": [
       "<div>\n",
       "<style scoped>\n",
       "    .dataframe tbody tr th:only-of-type {\n",
       "        vertical-align: middle;\n",
       "    }\n",
       "\n",
       "    .dataframe tbody tr th {\n",
       "        vertical-align: top;\n",
       "    }\n",
       "\n",
       "    .dataframe thead th {\n",
       "        text-align: right;\n",
       "    }\n",
       "</style>\n",
       "<table border=\"1\" class=\"dataframe\">\n",
       "  <thead>\n",
       "    <tr style=\"text-align: right;\">\n",
       "      <th></th>\n",
       "      <th>toolname</th>\n",
       "      <th>title</th>\n",
       "      <th>authorid</th>\n",
       "      <th>name</th>\n",
       "    </tr>\n",
       "  </thead>\n",
       "  <tbody>\n",
       "    <tr>\n",
       "      <th>730</th>\n",
       "      <td>mosfetsat</td>\n",
       "      <td>MOSFET Simulation</td>\n",
       "      <td>29294.0</td>\n",
       "      <td>Tanya Faltens</td>\n",
       "    </tr>\n",
       "    <tr>\n",
       "      <th>840</th>\n",
       "      <td>mif</td>\n",
       "      <td>MIF generator for OOMMF</td>\n",
       "      <td>29294.0</td>\n",
       "      <td>Tanya Faltens</td>\n",
       "    </tr>\n",
       "  </tbody>\n",
       "</table>\n",
       "</div>"
      ],
      "text/plain": [
       "      toolname                    title  authorid           name\n",
       "730  mosfetsat        MOSFET Simulation   29294.0  Tanya Faltens\n",
       "840        mif  MIF generator for OOMMF   29294.0  Tanya Faltens"
      ]
     },
     "metadata": {},
     "output_type": "display_data"
    }
   ],
   "source": [
    "display_for(toolauthors_df, 'Tanya Faltens')"
   ]
  },
  {
   "cell_type": "markdown",
   "metadata": {
    "execution": {
     "iopub.execute_input": "2021-10-28T01:38:12.784275Z",
     "iopub.status.busy": "2021-10-28T01:38:12.783915Z",
     "iopub.status.idle": "2021-10-28T01:38:12.789517Z",
     "shell.execute_reply": "2021-10-28T01:38:12.788213Z",
     "shell.execute_reply.started": "2021-10-28T01:38:12.784238Z"
    }
   },
   "source": [
    "#### - _Stephen M. Goodnick's tools_"
   ]
  },
  {
   "cell_type": "code",
   "execution_count": 7,
   "metadata": {
    "execution": {
     "iopub.execute_input": "2021-10-28T03:47:39.643583Z",
     "iopub.status.busy": "2021-10-28T03:47:39.642649Z",
     "iopub.status.idle": "2021-10-28T03:47:39.664446Z",
     "shell.execute_reply": "2021-10-28T03:47:39.662404Z",
     "shell.execute_reply.started": "2021-10-28T03:47:39.643534Z"
    },
    "tags": []
   },
   "outputs": [
    {
     "data": {
      "text/html": [
       "<div>\n",
       "<style scoped>\n",
       "    .dataframe tbody tr th:only-of-type {\n",
       "        vertical-align: middle;\n",
       "    }\n",
       "\n",
       "    .dataframe tbody tr th {\n",
       "        vertical-align: top;\n",
       "    }\n",
       "\n",
       "    .dataframe thead th {\n",
       "        text-align: right;\n",
       "    }\n",
       "</style>\n",
       "<table border=\"1\" class=\"dataframe\">\n",
       "  <thead>\n",
       "    <tr style=\"text-align: right;\">\n",
       "      <th></th>\n",
       "      <th>toolname</th>\n",
       "      <th>title</th>\n",
       "      <th>authorid</th>\n",
       "      <th>name</th>\n",
       "    </tr>\n",
       "  </thead>\n",
       "  <tbody>\n",
       "    <tr>\n",
       "      <th>1993</th>\n",
       "      <td>bulkmc</td>\n",
       "      <td>Bulk Monte Carlo Lab</td>\n",
       "      <td>29476.0</td>\n",
       "      <td>Stephen M. Goodnick</td>\n",
       "    </tr>\n",
       "    <tr>\n",
       "      <th>2024</th>\n",
       "      <td>acute</td>\n",
       "      <td>ACUTE</td>\n",
       "      <td>29476.0</td>\n",
       "      <td>Stephen M. Goodnick</td>\n",
       "    </tr>\n",
       "  </tbody>\n",
       "</table>\n",
       "</div>"
      ],
      "text/plain": [
       "     toolname                 title  authorid                 name\n",
       "1993   bulkmc  Bulk Monte Carlo Lab   29476.0  Stephen M. Goodnick\n",
       "2024    acute                 ACUTE   29476.0  Stephen M. Goodnick"
      ]
     },
     "metadata": {},
     "output_type": "display_data"
    }
   ],
   "source": [
    "display_for(toolauthors_df, 'Stephen M. Goodnick')"
   ]
  },
  {
   "cell_type": "code",
   "execution_count": null,
   "metadata": {},
   "outputs": [],
   "source": []
  },
  {
   "cell_type": "code",
   "execution_count": 23,
   "metadata": {
    "execution": {
     "iopub.execute_input": "2021-10-28T15:10:06.537575Z",
     "iopub.status.busy": "2021-10-28T15:10:06.536142Z",
     "iopub.status.idle": "2021-10-28T15:10:07.077848Z",
     "shell.execute_reply": "2021-10-28T15:10:07.068822Z",
     "shell.execute_reply.started": "2021-10-28T15:10:06.537234Z"
    },
    "tags": []
   },
   "outputs": [
    {
     "name": "stdout",
     "output_type": "stream",
     "text": [
      "Obtained Salesforce access token ...... True\n"
     ]
    }
   ],
   "source": [
    "cache_folder = Path(os.getenv('APP_DIR'), '.cache')\n",
    "salesforce_engine = application.new_salesforce_engine()"
   ]
  },
  {
   "cell_type": "markdown",
   "metadata": {},
   "source": [
    "#### _Contact IDs_"
   ]
  },
  {
   "cell_type": "code",
   "execution_count": 9,
   "metadata": {
    "execution": {
     "iopub.execute_input": "2021-10-28T03:47:40.124881Z",
     "iopub.status.busy": "2021-10-28T03:47:40.123825Z",
     "iopub.status.idle": "2021-10-28T03:48:06.399486Z",
     "shell.execute_reply": "2021-10-28T03:48:06.398238Z",
     "shell.execute_reply.started": "2021-10-28T03:47:40.124770Z"
    },
    "tags": []
   },
   "outputs": [
    {
     "name": "stdout",
     "output_type": "stream",
     "text": [
      "[Success] Bulk job creation successful. Job ID = 7505w00000b2dCwAAI\n",
      "{\"id\":\"7505w00000b2dCwAAI\",\"operation\":\"query\",\"object\":\"Contact\",\"createdById\":\"0055w00000DM5bOAAT\",\"createdDate\":\"2021-10-28T03:47:40.000+0000\",\"systemModstamp\":\"2021-10-28T03:47:40.000+0000\",\"state\":\"UploadComplete\",\"concurrencyMode\":\"Parallel\",\"contentType\":\"CSV\",\"apiVersion\":47.0,\"jobType\":\"V2Query\",\"lineEnding\":\"LF\",\"columnDelimiter\":\"COMMA\",\"retries\":0,\"totalProcessingTime\":0}\n",
      "{\"id\":\"7505w00000b2dCwAAI\",\"operation\":\"query\",\"object\":\"Contact\",\"createdById\":\"0055w00000DM5bOAAT\",\"createdDate\":\"2021-10-28T03:47:40.000+0000\",\"systemModstamp\":\"2021-10-28T03:47:41.000+0000\",\"state\":\"InProgress\",\"concurrencyMode\":\"Parallel\",\"contentType\":\"CSV\",\"apiVersion\":47.0,\"jobType\":\"V2Query\",\"lineEnding\":\"LF\",\"columnDelimiter\":\"COMMA\",\"numberRecordsProcessed\":15032,\"retries\":0,\"totalProcessingTime\":898}\n",
      "{\"id\":\"7505w00000b2dCwAAI\",\"operation\":\"query\",\"object\":\"Contact\",\"createdById\":\"0055w00000DM5bOAAT\",\"createdDate\":\"2021-10-28T03:47:40.000+0000\",\"systemModstamp\":\"2021-10-28T03:47:56.000+0000\",\"state\":\"JobComplete\",\"concurrencyMode\":\"Parallel\",\"contentType\":\"CSV\",\"apiVersion\":47.0,\"jobType\":\"V2Query\",\"lineEnding\":\"LF\",\"columnDelimiter\":\"COMMA\",\"numberRecordsProcessed\":262756,\"retries\":0,\"totalProcessingTime\":15051}\n",
      "[Success] Bulk job completed successfully.\n"
     ]
    },
    {
     "data": {
      "text/html": [
       "<div>\n",
       "<style scoped>\n",
       "    .dataframe tbody tr th:only-of-type {\n",
       "        vertical-align: middle;\n",
       "    }\n",
       "\n",
       "    .dataframe tbody tr th {\n",
       "        vertical-align: top;\n",
       "    }\n",
       "\n",
       "    .dataframe thead th {\n",
       "        text-align: right;\n",
       "    }\n",
       "</style>\n",
       "<table border=\"1\" class=\"dataframe\">\n",
       "  <thead>\n",
       "    <tr style=\"text-align: right;\">\n",
       "      <th></th>\n",
       "      <th>Id</th>\n",
       "      <th>nanoHUB_user_ID__c</th>\n",
       "    </tr>\n",
       "  </thead>\n",
       "  <tbody>\n",
       "    <tr>\n",
       "      <th>0</th>\n",
       "      <td>0035w000031Vsp1AAC</td>\n",
       "      <td>998</td>\n",
       "    </tr>\n",
       "    <tr>\n",
       "      <th>1</th>\n",
       "      <td>0035w000031Vsp2AAC</td>\n",
       "      <td>1683</td>\n",
       "    </tr>\n",
       "    <tr>\n",
       "      <th>2</th>\n",
       "      <td>0035w000031Vsp3AAC</td>\n",
       "      <td>1684</td>\n",
       "    </tr>\n",
       "    <tr>\n",
       "      <th>3</th>\n",
       "      <td>0035w000031Vsp4AAC</td>\n",
       "      <td>1685</td>\n",
       "    </tr>\n",
       "    <tr>\n",
       "      <th>4</th>\n",
       "      <td>0035w000031Vsp5AAC</td>\n",
       "      <td>1686</td>\n",
       "    </tr>\n",
       "  </tbody>\n",
       "</table>\n",
       "</div>"
      ],
      "text/plain": [
       "                   Id  nanoHUB_user_ID__c\n",
       "0  0035w000031Vsp1AAC                 998\n",
       "1  0035w000031Vsp2AAC                1683\n",
       "2  0035w000031Vsp3AAC                1684\n",
       "3  0035w000031Vsp4AAC                1685\n",
       "4  0035w000031Vsp5AAC                1686"
      ]
     },
     "metadata": {},
     "output_type": "display_data"
    },
    {
     "data": {
      "text/html": [
       "<div>\n",
       "<style scoped>\n",
       "    .dataframe tbody tr th:only-of-type {\n",
       "        vertical-align: middle;\n",
       "    }\n",
       "\n",
       "    .dataframe tbody tr th {\n",
       "        vertical-align: top;\n",
       "    }\n",
       "\n",
       "    .dataframe thead th {\n",
       "        text-align: right;\n",
       "    }\n",
       "</style>\n",
       "<table border=\"1\" class=\"dataframe\">\n",
       "  <thead>\n",
       "    <tr style=\"text-align: right;\">\n",
       "      <th></th>\n",
       "      <th>Id</th>\n",
       "      <th>nanoHUB_user_ID__c</th>\n",
       "    </tr>\n",
       "  </thead>\n",
       "  <tbody>\n",
       "    <tr>\n",
       "      <th>247719</th>\n",
       "      <td>0035w00003WNV0sAAH</td>\n",
       "      <td>339872</td>\n",
       "    </tr>\n",
       "    <tr>\n",
       "      <th>247720</th>\n",
       "      <td>0035w00003WNVIsAAP</td>\n",
       "      <td>20159</td>\n",
       "    </tr>\n",
       "    <tr>\n",
       "      <th>247721</th>\n",
       "      <td>0035w00003WNVllAAH</td>\n",
       "      <td>1819</td>\n",
       "    </tr>\n",
       "    <tr>\n",
       "      <th>247722</th>\n",
       "      <td>0035w00003WNVlmAAH</td>\n",
       "      <td>8106</td>\n",
       "    </tr>\n",
       "    <tr>\n",
       "      <th>247723</th>\n",
       "      <td>0035w00003WNW5TAAX</td>\n",
       "      <td>40187</td>\n",
       "    </tr>\n",
       "  </tbody>\n",
       "</table>\n",
       "</div>"
      ],
      "text/plain": [
       "                        Id  nanoHUB_user_ID__c\n",
       "247719  0035w00003WNV0sAAH              339872\n",
       "247720  0035w00003WNVIsAAP               20159\n",
       "247721  0035w00003WNVllAAH                1819\n",
       "247722  0035w00003WNVlmAAH                8106\n",
       "247723  0035w00003WNW5TAAX               40187"
      ]
     },
     "metadata": {},
     "output_type": "display_data"
    },
    {
     "name": "stdout",
     "output_type": "stream",
     "text": [
      "<class 'pandas.core.frame.DataFrame'>\n",
      "RangeIndex: 247724 entries, 0 to 247723\n",
      "Data columns (total 2 columns):\n",
      " #   Column              Non-Null Count   Dtype \n",
      "---  ------              --------------   ----- \n",
      " 0   Id                  247724 non-null  object\n",
      " 1   nanoHUB_user_ID__c  247724 non-null  int64 \n",
      "dtypes: int64(1), object(1)\n",
      "memory usage: 3.8+ MB\n"
     ]
    },
    {
     "data": {
      "text/plain": [
       "None"
      ]
     },
     "metadata": {},
     "output_type": "display_data"
    }
   ],
   "source": [
    "contacts = CachedRepository(\n",
    "    ContactsRepository(salesforce_engine), \n",
    "    cache_folder\n",
    ")\n",
    "sf_contacts_df = contacts.get_all()\n",
    "\n",
    "display(sf_contacts_df.head())\n",
    "display(sf_contacts_df.tail())\n",
    "display(sf_contacts_df.info())"
   ]
  },
  {
   "cell_type": "code",
   "execution_count": 10,
   "metadata": {
    "execution": {
     "iopub.execute_input": "2021-10-28T03:48:06.401056Z",
     "iopub.status.busy": "2021-10-28T03:48:06.400474Z",
     "iopub.status.idle": "2021-10-28T03:48:06.416007Z",
     "shell.execute_reply": "2021-10-28T03:48:06.414779Z",
     "shell.execute_reply.started": "2021-10-28T03:48:06.401025Z"
    },
    "tags": []
   },
   "outputs": [
    {
     "data": {
      "text/html": [
       "<div>\n",
       "<style scoped>\n",
       "    .dataframe tbody tr th:only-of-type {\n",
       "        vertical-align: middle;\n",
       "    }\n",
       "\n",
       "    .dataframe tbody tr th {\n",
       "        vertical-align: top;\n",
       "    }\n",
       "\n",
       "    .dataframe thead th {\n",
       "        text-align: right;\n",
       "    }\n",
       "</style>\n",
       "<table border=\"1\" class=\"dataframe\">\n",
       "  <thead>\n",
       "    <tr style=\"text-align: right;\">\n",
       "      <th></th>\n",
       "      <th>Id</th>\n",
       "      <th>nanoHUB_user_ID__c</th>\n",
       "    </tr>\n",
       "  </thead>\n",
       "  <tbody>\n",
       "    <tr>\n",
       "      <th>105293</th>\n",
       "      <td>0035w000034JKc2AAG</td>\n",
       "      <td>29476</td>\n",
       "    </tr>\n",
       "  </tbody>\n",
       "</table>\n",
       "</div>"
      ],
      "text/plain": [
       "                        Id  nanoHUB_user_ID__c\n",
       "105293  0035w000034JKc2AAG               29476"
      ]
     },
     "metadata": {},
     "output_type": "display_data"
    }
   ],
   "source": [
    "display(sf_contacts_df.loc[sf_contacts_df['nanoHUB_user_ID__c'] == 29476])"
   ]
  },
  {
   "cell_type": "markdown",
   "metadata": {},
   "source": [
    "#### _Tool IDs_"
   ]
  },
  {
   "cell_type": "code",
   "execution_count": 11,
   "metadata": {
    "execution": {
     "iopub.execute_input": "2021-10-28T03:48:06.418318Z",
     "iopub.status.busy": "2021-10-28T03:48:06.417223Z",
     "iopub.status.idle": "2021-10-28T03:48:08.700285Z",
     "shell.execute_reply": "2021-10-28T03:48:08.699001Z",
     "shell.execute_reply.started": "2021-10-28T03:48:06.418283Z"
    },
    "tags": []
   },
   "outputs": [
    {
     "name": "stdout",
     "output_type": "stream",
     "text": [
      "[Success] Bulk job creation successful. Job ID = 7505w00000b2dD1AAI\n",
      "{\"id\":\"7505w00000b2dD1AAI\",\"operation\":\"query\",\"object\":\"nanoHUB_tools__c\",\"createdById\":\"0055w00000DM5bOAAT\",\"createdDate\":\"2021-10-28T03:48:07.000+0000\",\"systemModstamp\":\"2021-10-28T03:48:08.000+0000\",\"state\":\"JobComplete\",\"concurrencyMode\":\"Parallel\",\"contentType\":\"CSV\",\"apiVersion\":47.0,\"jobType\":\"V2Query\",\"lineEnding\":\"LF\",\"columnDelimiter\":\"COMMA\",\"numberRecordsProcessed\":1827,\"retries\":0,\"totalProcessingTime\":213}\n",
      "[Success] Bulk job completed successfully.\n",
      "<class 'pandas.core.frame.DataFrame'>\n",
      "RangeIndex: 1827 entries, 0 to 1826\n",
      "Data columns (total 2 columns):\n",
      " #   Column        Non-Null Count  Dtype \n",
      "---  ------        --------------  ----- \n",
      " 0   Id            1827 non-null   object\n",
      " 1   Tool_name__c  1827 non-null   object\n",
      "dtypes: object(2)\n",
      "memory usage: 28.7+ KB\n"
     ]
    },
    {
     "data": {
      "text/plain": [
       "None"
      ]
     },
     "metadata": {},
     "output_type": "display_data"
    },
    {
     "data": {
      "text/html": [
       "<div>\n",
       "<style scoped>\n",
       "    .dataframe tbody tr th:only-of-type {\n",
       "        vertical-align: middle;\n",
       "    }\n",
       "\n",
       "    .dataframe tbody tr th {\n",
       "        vertical-align: top;\n",
       "    }\n",
       "\n",
       "    .dataframe thead th {\n",
       "        text-align: right;\n",
       "    }\n",
       "</style>\n",
       "<table border=\"1\" class=\"dataframe\">\n",
       "  <thead>\n",
       "    <tr style=\"text-align: right;\">\n",
       "      <th></th>\n",
       "      <th>Id</th>\n",
       "      <th>Tool_name__c</th>\n",
       "    </tr>\n",
       "  </thead>\n",
       "  <tbody>\n",
       "    <tr>\n",
       "      <th>0</th>\n",
       "      <td>a0s5w00000k5MOwAAM</td>\n",
       "      <td>ellipsom</td>\n",
       "    </tr>\n",
       "    <tr>\n",
       "      <th>1</th>\n",
       "      <td>a0s5w00000k5MOxAAM</td>\n",
       "      <td>hydrolab</td>\n",
       "    </tr>\n",
       "    <tr>\n",
       "      <th>2</th>\n",
       "      <td>a0s5w00000k5MOyAAM</td>\n",
       "      <td>huckel</td>\n",
       "    </tr>\n",
       "    <tr>\n",
       "      <th>3</th>\n",
       "      <td>a0s5w00000k5MOzAAM</td>\n",
       "      <td>nanomos</td>\n",
       "    </tr>\n",
       "    <tr>\n",
       "      <th>4</th>\n",
       "      <td>a0s5w00000k5MP0AAM</td>\n",
       "      <td>sete</td>\n",
       "    </tr>\n",
       "  </tbody>\n",
       "</table>\n",
       "</div>"
      ],
      "text/plain": [
       "                   Id Tool_name__c\n",
       "0  a0s5w00000k5MOwAAM     ellipsom\n",
       "1  a0s5w00000k5MOxAAM     hydrolab\n",
       "2  a0s5w00000k5MOyAAM       huckel\n",
       "3  a0s5w00000k5MOzAAM      nanomos\n",
       "4  a0s5w00000k5MP0AAM         sete"
      ]
     },
     "metadata": {},
     "output_type": "display_data"
    },
    {
     "data": {
      "text/html": [
       "<div>\n",
       "<style scoped>\n",
       "    .dataframe tbody tr th:only-of-type {\n",
       "        vertical-align: middle;\n",
       "    }\n",
       "\n",
       "    .dataframe tbody tr th {\n",
       "        vertical-align: top;\n",
       "    }\n",
       "\n",
       "    .dataframe thead th {\n",
       "        text-align: right;\n",
       "    }\n",
       "</style>\n",
       "<table border=\"1\" class=\"dataframe\">\n",
       "  <thead>\n",
       "    <tr style=\"text-align: right;\">\n",
       "      <th></th>\n",
       "      <th>Id</th>\n",
       "      <th>Tool_name__c</th>\n",
       "    </tr>\n",
       "  </thead>\n",
       "  <tbody>\n",
       "    <tr>\n",
       "      <th>1822</th>\n",
       "      <td>a0s5w00000mi2zOAAQ</td>\n",
       "      <td>myemailverifier</td>\n",
       "    </tr>\n",
       "    <tr>\n",
       "      <th>1823</th>\n",
       "      <td>a0s5w00000mi3laAAA</td>\n",
       "      <td>dislocateqtb</td>\n",
       "    </tr>\n",
       "    <tr>\n",
       "      <th>1824</th>\n",
       "      <td>a0s5w00000mi3zpAAA</td>\n",
       "      <td>optprop</td>\n",
       "    </tr>\n",
       "    <tr>\n",
       "      <th>1825</th>\n",
       "      <td>a0s5w00000mi4WfAAI</td>\n",
       "      <td>selfies</td>\n",
       "    </tr>\n",
       "    <tr>\n",
       "      <th>1826</th>\n",
       "      <td>a0s5w00000mi4zBAAQ</td>\n",
       "      <td>kssolv</td>\n",
       "    </tr>\n",
       "  </tbody>\n",
       "</table>\n",
       "</div>"
      ],
      "text/plain": [
       "                      Id     Tool_name__c\n",
       "1822  a0s5w00000mi2zOAAQ  myemailverifier\n",
       "1823  a0s5w00000mi3laAAA     dislocateqtb\n",
       "1824  a0s5w00000mi3zpAAA          optprop\n",
       "1825  a0s5w00000mi4WfAAI          selfies\n",
       "1826  a0s5w00000mi4zBAAQ           kssolv"
      ]
     },
     "metadata": {},
     "output_type": "display_data"
    }
   ],
   "source": [
    "tools = CachedRepository(\n",
    "    ToolsRepository(salesforce_engine), \n",
    "    cache_folder\n",
    ")\n",
    "sf_tool_df = tools.get_all()\n",
    "sf_tool_df['Tool_name__c'] = sf_tool_df['Tool_name__c'].str.lower()\n",
    "\n",
    "display(sf_tool_df.info())\n",
    "display(sf_tool_df.head())\n",
    "display(sf_tool_df.tail())"
   ]
  },
  {
   "cell_type": "code",
   "execution_count": 12,
   "metadata": {
    "execution": {
     "iopub.execute_input": "2021-10-28T03:48:08.705245Z",
     "iopub.status.busy": "2021-10-28T03:48:08.703790Z",
     "iopub.status.idle": "2021-10-28T03:48:08.815379Z",
     "shell.execute_reply": "2021-10-28T03:48:08.813982Z",
     "shell.execute_reply.started": "2021-10-28T03:48:08.705165Z"
    },
    "tags": []
   },
   "outputs": [
    {
     "data": {
      "text/html": [
       "<div>\n",
       "<style scoped>\n",
       "    .dataframe tbody tr th:only-of-type {\n",
       "        vertical-align: middle;\n",
       "    }\n",
       "\n",
       "    .dataframe tbody tr th {\n",
       "        vertical-align: top;\n",
       "    }\n",
       "\n",
       "    .dataframe thead th {\n",
       "        text-align: right;\n",
       "    }\n",
       "</style>\n",
       "<table border=\"1\" class=\"dataframe\">\n",
       "  <thead>\n",
       "    <tr style=\"text-align: right;\">\n",
       "      <th></th>\n",
       "      <th>toolname</th>\n",
       "      <th>title</th>\n",
       "      <th>authorid</th>\n",
       "      <th>name</th>\n",
       "      <th>SF_ID_tool</th>\n",
       "      <th>Tool_name__c</th>\n",
       "      <th>SF_ID_contact</th>\n",
       "      <th>nanoHUB_user_ID__c</th>\n",
       "      <th>Name</th>\n",
       "    </tr>\n",
       "  </thead>\n",
       "  <tbody>\n",
       "    <tr>\n",
       "      <th>0</th>\n",
       "      <td>hydrolab</td>\n",
       "      <td>Hydrophobicity Lab</td>\n",
       "      <td>4713.0</td>\n",
       "      <td>Eric Darve</td>\n",
       "      <td>a0s5w00000k5MOxAAM</td>\n",
       "      <td>hydrolab</td>\n",
       "      <td>0035w000034JHMwAAO</td>\n",
       "      <td>4713</td>\n",
       "      <td>4713_hydrolab</td>\n",
       "    </tr>\n",
       "    <tr>\n",
       "      <th>1</th>\n",
       "      <td>hydrolab</td>\n",
       "      <td>Hydrophobicity Lab</td>\n",
       "      <td>12486.0</td>\n",
       "      <td>Artit Wangperawong</td>\n",
       "      <td>a0s5w00000k5MOxAAM</td>\n",
       "      <td>hydrolab</td>\n",
       "      <td>0035w000034JNV0AAO</td>\n",
       "      <td>12486</td>\n",
       "      <td>12486_hydrolab</td>\n",
       "    </tr>\n",
       "    <tr>\n",
       "      <th>2</th>\n",
       "      <td>hydrolab</td>\n",
       "      <td>Hydrophobicity Lab</td>\n",
       "      <td>12590.0</td>\n",
       "      <td>Kazutora Hayashida</td>\n",
       "      <td>a0s5w00000k5MOxAAM</td>\n",
       "      <td>hydrolab</td>\n",
       "      <td>0035w000034JNWdAAO</td>\n",
       "      <td>12590</td>\n",
       "      <td>12590_hydrolab</td>\n",
       "    </tr>\n",
       "    <tr>\n",
       "      <th>3</th>\n",
       "      <td>nanomos</td>\n",
       "      <td>NanoMOS</td>\n",
       "      <td>4323.0</td>\n",
       "      <td></td>\n",
       "      <td>a0s5w00000k5MOzAAM</td>\n",
       "      <td>nanomos</td>\n",
       "      <td>0035w000034JGxWAAW</td>\n",
       "      <td>4323</td>\n",
       "      <td>4323_nanomos</td>\n",
       "    </tr>\n",
       "    <tr>\n",
       "      <th>4</th>\n",
       "      <td>moscap</td>\n",
       "      <td>MOSCap</td>\n",
       "      <td>4323.0</td>\n",
       "      <td>Akira Matsudaira</td>\n",
       "      <td>a0s5w00000k5MPaAAM</td>\n",
       "      <td>moscap</td>\n",
       "      <td>0035w000034JGxWAAW</td>\n",
       "      <td>4323</td>\n",
       "      <td>4323_moscap</td>\n",
       "    </tr>\n",
       "  </tbody>\n",
       "</table>\n",
       "</div>"
      ],
      "text/plain": [
       "   toolname               title  authorid                name  \\\n",
       "0  hydrolab  Hydrophobicity Lab    4713.0          Eric Darve   \n",
       "1  hydrolab  Hydrophobicity Lab   12486.0  Artit Wangperawong   \n",
       "2  hydrolab  Hydrophobicity Lab   12590.0  Kazutora Hayashida   \n",
       "3   nanomos             NanoMOS    4323.0                       \n",
       "4    moscap              MOSCap    4323.0    Akira Matsudaira   \n",
       "\n",
       "           SF_ID_tool Tool_name__c       SF_ID_contact  nanoHUB_user_ID__c  \\\n",
       "0  a0s5w00000k5MOxAAM     hydrolab  0035w000034JHMwAAO                4713   \n",
       "1  a0s5w00000k5MOxAAM     hydrolab  0035w000034JNV0AAO               12486   \n",
       "2  a0s5w00000k5MOxAAM     hydrolab  0035w000034JNWdAAO               12590   \n",
       "3  a0s5w00000k5MOzAAM      nanomos  0035w000034JGxWAAW                4323   \n",
       "4  a0s5w00000k5MPaAAM       moscap  0035w000034JGxWAAW                4323   \n",
       "\n",
       "             Name  \n",
       "0   4713_hydrolab  \n",
       "1  12486_hydrolab  \n",
       "2  12590_hydrolab  \n",
       "3    4323_nanomos  \n",
       "4     4323_moscap  "
      ]
     },
     "metadata": {},
     "output_type": "display_data"
    }
   ],
   "source": [
    "ct_tolink_df = pd.merge(toolauthors_df, sf_tool_df, how='inner', left_on='toolname', right_on='Tool_name__c')\\\n",
    "                          .rename(columns={'Id':'SF_ID_tool'})                                            \n",
    "ct_tolink_df = pd.merge(ct_tolink_df, sf_contacts_df, how='inner', left_on='authorid', right_on='nanoHUB_user_ID__c')\\\n",
    "                           .rename(columns={'Id':'SF_ID_contact'})\n",
    "ct_tolink_df['Name'] = ct_tolink_df.apply(lambda x: '%s_%s'%(x.nanoHUB_user_ID__c, x.Tool_name__c), axis=1)\n",
    "\n",
    "display(ct_tolink_df.head())"
   ]
  },
  {
   "cell_type": "code",
   "execution_count": 13,
   "metadata": {
    "execution": {
     "iopub.execute_input": "2021-10-28T03:48:08.816719Z",
     "iopub.status.busy": "2021-10-28T03:48:08.816290Z",
     "iopub.status.idle": "2021-10-28T03:48:08.828251Z",
     "shell.execute_reply": "2021-10-28T03:48:08.826673Z",
     "shell.execute_reply.started": "2021-10-28T03:48:08.816690Z"
    },
    "tags": []
   },
   "outputs": [
    {
     "data": {
      "text/html": [
       "<div>\n",
       "<style scoped>\n",
       "    .dataframe tbody tr th:only-of-type {\n",
       "        vertical-align: middle;\n",
       "    }\n",
       "\n",
       "    .dataframe tbody tr th {\n",
       "        vertical-align: top;\n",
       "    }\n",
       "\n",
       "    .dataframe thead th {\n",
       "        text-align: right;\n",
       "    }\n",
       "</style>\n",
       "<table border=\"1\" class=\"dataframe\">\n",
       "  <thead>\n",
       "    <tr style=\"text-align: right;\">\n",
       "      <th></th>\n",
       "      <th>Id</th>\n",
       "      <th>Tool_name__c</th>\n",
       "    </tr>\n",
       "  </thead>\n",
       "  <tbody>\n",
       "    <tr>\n",
       "      <th>254</th>\n",
       "      <td>a0s5w00000k5MT2AAM</td>\n",
       "      <td>acute</td>\n",
       "    </tr>\n",
       "  </tbody>\n",
       "</table>\n",
       "</div>"
      ],
      "text/plain": [
       "                     Id Tool_name__c\n",
       "254  a0s5w00000k5MT2AAM        acute"
      ]
     },
     "metadata": {},
     "output_type": "display_data"
    }
   ],
   "source": [
    "display(sf_tool_df.loc[sf_tool_df['Tool_name__c'] == 'acute'])"
   ]
  },
  {
   "cell_type": "code",
   "execution_count": 14,
   "metadata": {
    "execution": {
     "iopub.execute_input": "2021-10-28T03:48:08.829993Z",
     "iopub.status.busy": "2021-10-28T03:48:08.829180Z",
     "iopub.status.idle": "2021-10-28T03:48:08.847263Z",
     "shell.execute_reply": "2021-10-28T03:48:08.845388Z",
     "shell.execute_reply.started": "2021-10-28T03:48:08.829761Z"
    },
    "tags": []
   },
   "outputs": [
    {
     "data": {
      "text/html": [
       "<div>\n",
       "<style scoped>\n",
       "    .dataframe tbody tr th:only-of-type {\n",
       "        vertical-align: middle;\n",
       "    }\n",
       "\n",
       "    .dataframe tbody tr th {\n",
       "        vertical-align: top;\n",
       "    }\n",
       "\n",
       "    .dataframe thead th {\n",
       "        text-align: right;\n",
       "    }\n",
       "</style>\n",
       "<table border=\"1\" class=\"dataframe\">\n",
       "  <thead>\n",
       "    <tr style=\"text-align: right;\">\n",
       "      <th></th>\n",
       "      <th>toolname</th>\n",
       "      <th>title</th>\n",
       "      <th>authorid</th>\n",
       "      <th>name</th>\n",
       "      <th>SF_ID_tool</th>\n",
       "      <th>Tool_name__c</th>\n",
       "      <th>SF_ID_contact</th>\n",
       "      <th>nanoHUB_user_ID__c</th>\n",
       "      <th>Name</th>\n",
       "    </tr>\n",
       "  </thead>\n",
       "  <tbody>\n",
       "  </tbody>\n",
       "</table>\n",
       "</div>"
      ],
      "text/plain": [
       "Empty DataFrame\n",
       "Columns: [toolname, title, authorid, name, SF_ID_tool, Tool_name__c, SF_ID_contact, nanoHUB_user_ID__c, Name]\n",
       "Index: []"
      ]
     },
     "metadata": {},
     "output_type": "display_data"
    }
   ],
   "source": [
    "display(ct_tolink_df.loc[ct_tolink_df['SF_ID_tool'] == '0035w000034JHCCAA4'])"
   ]
  },
  {
   "cell_type": "code",
   "execution_count": 15,
   "metadata": {
    "execution": {
     "iopub.execute_input": "2021-10-28T03:48:08.850072Z",
     "iopub.status.busy": "2021-10-28T03:48:08.848571Z",
     "iopub.status.idle": "2021-10-28T03:48:08.875934Z",
     "shell.execute_reply": "2021-10-28T03:48:08.874100Z",
     "shell.execute_reply.started": "2021-10-28T03:48:08.850026Z"
    },
    "tags": []
   },
   "outputs": [
    {
     "data": {
      "text/html": [
       "<div>\n",
       "<style scoped>\n",
       "    .dataframe tbody tr th:only-of-type {\n",
       "        vertical-align: middle;\n",
       "    }\n",
       "\n",
       "    .dataframe tbody tr th {\n",
       "        vertical-align: top;\n",
       "    }\n",
       "\n",
       "    .dataframe thead th {\n",
       "        text-align: right;\n",
       "    }\n",
       "</style>\n",
       "<table border=\"1\" class=\"dataframe\">\n",
       "  <thead>\n",
       "    <tr style=\"text-align: right;\">\n",
       "      <th></th>\n",
       "      <th>toolname</th>\n",
       "      <th>title</th>\n",
       "      <th>authorid</th>\n",
       "      <th>name</th>\n",
       "      <th>SF_ID_tool</th>\n",
       "      <th>Tool_name__c</th>\n",
       "      <th>SF_ID_contact</th>\n",
       "      <th>nanoHUB_user_ID__c</th>\n",
       "      <th>Name</th>\n",
       "    </tr>\n",
       "  </thead>\n",
       "  <tbody>\n",
       "    <tr>\n",
       "      <th>1221</th>\n",
       "      <td>mosfetsat</td>\n",
       "      <td>MOSFET Simulation</td>\n",
       "      <td>29294.0</td>\n",
       "      <td>Tanya Faltens</td>\n",
       "      <td>a0s5w00000k5Mc5AAE</td>\n",
       "      <td>mosfetsat</td>\n",
       "      <td>0035w000034JKPQAA4</td>\n",
       "      <td>29294</td>\n",
       "      <td>29294_mosfetsat</td>\n",
       "    </tr>\n",
       "    <tr>\n",
       "      <th>1222</th>\n",
       "      <td>mif</td>\n",
       "      <td>MIF generator for OOMMF</td>\n",
       "      <td>29294.0</td>\n",
       "      <td>Tanya Faltens</td>\n",
       "      <td>a0s5w00000k5MeDAAU</td>\n",
       "      <td>mif</td>\n",
       "      <td>0035w000034JKPQAA4</td>\n",
       "      <td>29294</td>\n",
       "      <td>29294_mif</td>\n",
       "    </tr>\n",
       "  </tbody>\n",
       "</table>\n",
       "</div>"
      ],
      "text/plain": [
       "       toolname                    title  authorid           name  \\\n",
       "1221  mosfetsat        MOSFET Simulation   29294.0  Tanya Faltens   \n",
       "1222        mif  MIF generator for OOMMF   29294.0  Tanya Faltens   \n",
       "\n",
       "              SF_ID_tool Tool_name__c       SF_ID_contact  nanoHUB_user_ID__c  \\\n",
       "1221  a0s5w00000k5Mc5AAE    mosfetsat  0035w000034JKPQAA4               29294   \n",
       "1222  a0s5w00000k5MeDAAU          mif  0035w000034JKPQAA4               29294   \n",
       "\n",
       "                 Name  \n",
       "1221  29294_mosfetsat  \n",
       "1222        29294_mif  "
      ]
     },
     "metadata": {},
     "output_type": "display_data"
    }
   ],
   "source": [
    "display_for(ct_tolink_df, 'Tanya Faltens')"
   ]
  },
  {
   "cell_type": "code",
   "execution_count": 16,
   "metadata": {
    "execution": {
     "iopub.execute_input": "2021-10-28T03:48:08.878654Z",
     "iopub.status.busy": "2021-10-28T03:48:08.877535Z",
     "iopub.status.idle": "2021-10-28T03:48:08.901972Z",
     "shell.execute_reply": "2021-10-28T03:48:08.900997Z",
     "shell.execute_reply.started": "2021-10-28T03:48:08.878601Z"
    },
    "tags": []
   },
   "outputs": [
    {
     "data": {
      "text/html": [
       "<div>\n",
       "<style scoped>\n",
       "    .dataframe tbody tr th:only-of-type {\n",
       "        vertical-align: middle;\n",
       "    }\n",
       "\n",
       "    .dataframe tbody tr th {\n",
       "        vertical-align: top;\n",
       "    }\n",
       "\n",
       "    .dataframe thead th {\n",
       "        text-align: right;\n",
       "    }\n",
       "</style>\n",
       "<table border=\"1\" class=\"dataframe\">\n",
       "  <thead>\n",
       "    <tr style=\"text-align: right;\">\n",
       "      <th></th>\n",
       "      <th>toolname</th>\n",
       "      <th>title</th>\n",
       "      <th>authorid</th>\n",
       "      <th>name</th>\n",
       "      <th>SF_ID_tool</th>\n",
       "      <th>Tool_name__c</th>\n",
       "      <th>SF_ID_contact</th>\n",
       "      <th>nanoHUB_user_ID__c</th>\n",
       "      <th>Name</th>\n",
       "    </tr>\n",
       "  </thead>\n",
       "  <tbody>\n",
       "    <tr>\n",
       "      <th>1926</th>\n",
       "      <td>bulkmc</td>\n",
       "      <td>Bulk Monte Carlo Lab</td>\n",
       "      <td>29476.0</td>\n",
       "      <td>Stephen M. Goodnick</td>\n",
       "      <td>a0s5w00000k5MSLAA2</td>\n",
       "      <td>bulkmc</td>\n",
       "      <td>0035w000034JKc2AAG</td>\n",
       "      <td>29476</td>\n",
       "      <td>29476_bulkmc</td>\n",
       "    </tr>\n",
       "    <tr>\n",
       "      <th>1927</th>\n",
       "      <td>acute</td>\n",
       "      <td>ACUTE</td>\n",
       "      <td>29476.0</td>\n",
       "      <td>Stephen M. Goodnick</td>\n",
       "      <td>a0s5w00000k5MT2AAM</td>\n",
       "      <td>acute</td>\n",
       "      <td>0035w000034JKc2AAG</td>\n",
       "      <td>29476</td>\n",
       "      <td>29476_acute</td>\n",
       "    </tr>\n",
       "  </tbody>\n",
       "</table>\n",
       "</div>"
      ],
      "text/plain": [
       "     toolname                 title  authorid                 name  \\\n",
       "1926   bulkmc  Bulk Monte Carlo Lab   29476.0  Stephen M. Goodnick   \n",
       "1927    acute                 ACUTE   29476.0  Stephen M. Goodnick   \n",
       "\n",
       "              SF_ID_tool Tool_name__c       SF_ID_contact  nanoHUB_user_ID__c  \\\n",
       "1926  a0s5w00000k5MSLAA2       bulkmc  0035w000034JKc2AAG               29476   \n",
       "1927  a0s5w00000k5MT2AAM        acute  0035w000034JKc2AAG               29476   \n",
       "\n",
       "              Name  \n",
       "1926  29476_bulkmc  \n",
       "1927   29476_acute  "
      ]
     },
     "metadata": {},
     "output_type": "display_data"
    }
   ],
   "source": [
    "display_for(ct_tolink_df, 'Stephen M. Goodnick')"
   ]
  },
  {
   "cell_type": "code",
   "execution_count": 17,
   "metadata": {
    "execution": {
     "iopub.execute_input": "2021-10-28T03:48:08.905041Z",
     "iopub.status.busy": "2021-10-28T03:48:08.903901Z",
     "iopub.status.idle": "2021-10-28T03:48:08.930325Z",
     "shell.execute_reply": "2021-10-28T03:48:08.928871Z",
     "shell.execute_reply.started": "2021-10-28T03:48:08.904975Z"
    },
    "tags": []
   },
   "outputs": [
    {
     "data": {
      "text/html": [
       "<div>\n",
       "<style scoped>\n",
       "    .dataframe tbody tr th:only-of-type {\n",
       "        vertical-align: middle;\n",
       "    }\n",
       "\n",
       "    .dataframe tbody tr th {\n",
       "        vertical-align: top;\n",
       "    }\n",
       "\n",
       "    .dataframe thead th {\n",
       "        text-align: right;\n",
       "    }\n",
       "</style>\n",
       "<table border=\"1\" class=\"dataframe\">\n",
       "  <thead>\n",
       "    <tr style=\"text-align: right;\">\n",
       "      <th></th>\n",
       "      <th>toolname</th>\n",
       "      <th>title</th>\n",
       "      <th>authorid</th>\n",
       "      <th>name</th>\n",
       "      <th>SF_ID_tool</th>\n",
       "      <th>Tool_name__c</th>\n",
       "      <th>SF_ID_contact</th>\n",
       "      <th>nanoHUB_user_ID__c</th>\n",
       "      <th>Name</th>\n",
       "    </tr>\n",
       "  </thead>\n",
       "  <tbody>\n",
       "    <tr>\n",
       "      <th>1926</th>\n",
       "      <td>bulkmc</td>\n",
       "      <td>Bulk Monte Carlo Lab</td>\n",
       "      <td>29476.0</td>\n",
       "      <td>Stephen M. Goodnick</td>\n",
       "      <td>a0s5w00000k5MSLAA2</td>\n",
       "      <td>bulkmc</td>\n",
       "      <td>0035w000034JKc2AAG</td>\n",
       "      <td>29476</td>\n",
       "      <td>29476_bulkmc</td>\n",
       "    </tr>\n",
       "    <tr>\n",
       "      <th>1927</th>\n",
       "      <td>acute</td>\n",
       "      <td>ACUTE</td>\n",
       "      <td>29476.0</td>\n",
       "      <td>Stephen M. Goodnick</td>\n",
       "      <td>a0s5w00000k5MT2AAM</td>\n",
       "      <td>acute</td>\n",
       "      <td>0035w000034JKc2AAG</td>\n",
       "      <td>29476</td>\n",
       "      <td>29476_acute</td>\n",
       "    </tr>\n",
       "  </tbody>\n",
       "</table>\n",
       "</div>"
      ],
      "text/plain": [
       "     toolname                 title  authorid                 name  \\\n",
       "1926   bulkmc  Bulk Monte Carlo Lab   29476.0  Stephen M. Goodnick   \n",
       "1927    acute                 ACUTE   29476.0  Stephen M. Goodnick   \n",
       "\n",
       "              SF_ID_tool Tool_name__c       SF_ID_contact  nanoHUB_user_ID__c  \\\n",
       "1926  a0s5w00000k5MSLAA2       bulkmc  0035w000034JKc2AAG               29476   \n",
       "1927  a0s5w00000k5MT2AAM        acute  0035w000034JKc2AAG               29476   \n",
       "\n",
       "              Name  \n",
       "1926  29476_bulkmc  \n",
       "1927   29476_acute  "
      ]
     },
     "metadata": {},
     "output_type": "display_data"
    }
   ],
   "source": [
    "display(ct_tolink_df.loc[ct_tolink_df['authorid'] == 29476])"
   ]
  },
  {
   "cell_type": "markdown",
   "metadata": {},
   "source": [
    "## 5. Salesforce - Save Final Data\n",
    "[top](#Contents)"
   ]
  },
  {
   "cell_type": "code",
   "execution_count": 18,
   "metadata": {
    "execution": {
     "iopub.execute_input": "2021-10-28T03:48:08.933730Z",
     "iopub.status.busy": "2021-10-28T03:48:08.932015Z",
     "iopub.status.idle": "2021-10-28T03:48:08.959998Z",
     "shell.execute_reply": "2021-10-28T03:48:08.958820Z",
     "shell.execute_reply.started": "2021-10-28T03:48:08.933682Z"
    },
    "tags": []
   },
   "outputs": [
    {
     "data": {
      "text/html": [
       "<div>\n",
       "<style scoped>\n",
       "    .dataframe tbody tr th:only-of-type {\n",
       "        vertical-align: middle;\n",
       "    }\n",
       "\n",
       "    .dataframe tbody tr th {\n",
       "        vertical-align: top;\n",
       "    }\n",
       "\n",
       "    .dataframe thead th {\n",
       "        text-align: right;\n",
       "    }\n",
       "</style>\n",
       "<table border=\"1\" class=\"dataframe\">\n",
       "  <thead>\n",
       "    <tr style=\"text-align: right;\">\n",
       "      <th></th>\n",
       "      <th>0</th>\n",
       "      <th>1</th>\n",
       "      <th>2</th>\n",
       "      <th>3</th>\n",
       "      <th>4</th>\n",
       "    </tr>\n",
       "  </thead>\n",
       "  <tbody>\n",
       "    <tr>\n",
       "      <th>Name</th>\n",
       "      <td>4713_hydrolab</td>\n",
       "      <td>12486_hydrolab</td>\n",
       "      <td>12590_hydrolab</td>\n",
       "      <td>4323_nanomos</td>\n",
       "      <td>4323_moscap</td>\n",
       "    </tr>\n",
       "    <tr>\n",
       "      <th>Contact__c</th>\n",
       "      <td>0035w000034JHMwAAO</td>\n",
       "      <td>0035w000034JNV0AAO</td>\n",
       "      <td>0035w000034JNWdAAO</td>\n",
       "      <td>0035w000034JGxWAAW</td>\n",
       "      <td>0035w000034JGxWAAW</td>\n",
       "    </tr>\n",
       "    <tr>\n",
       "      <th>Tool__c</th>\n",
       "      <td>a0s5w00000k5MOxAAM</td>\n",
       "      <td>a0s5w00000k5MOxAAM</td>\n",
       "      <td>a0s5w00000k5MOxAAM</td>\n",
       "      <td>a0s5w00000k5MOzAAM</td>\n",
       "      <td>a0s5w00000k5MPaAAM</td>\n",
       "    </tr>\n",
       "  </tbody>\n",
       "</table>\n",
       "</div>"
      ],
      "text/plain": [
       "                             0                   1                   2  \\\n",
       "Name             4713_hydrolab      12486_hydrolab      12590_hydrolab   \n",
       "Contact__c  0035w000034JHMwAAO  0035w000034JNV0AAO  0035w000034JNWdAAO   \n",
       "Tool__c     a0s5w00000k5MOxAAM  a0s5w00000k5MOxAAM  a0s5w00000k5MOxAAM   \n",
       "\n",
       "                             3                   4  \n",
       "Name              4323_nanomos         4323_moscap  \n",
       "Contact__c  0035w000034JGxWAAW  0035w000034JGxWAAW  \n",
       "Tool__c     a0s5w00000k5MOzAAM  a0s5w00000k5MPaAAM  "
      ]
     },
     "metadata": {},
     "output_type": "display_data"
    }
   ],
   "source": [
    "df_sf = pd.DataFrame()\n",
    "\n",
    "# Make sure NaN and NaT values are taken care of here\n",
    "df_sf['Name']         = ct_tolink_df['Name']\n",
    "df_sf['Contact__c'] = ct_tolink_df['SF_ID_contact']\n",
    "df_sf['Tool__c']       = ct_tolink_df['SF_ID_tool']\n",
    "sf_original_fields = df_sf.columns\n",
    "\n",
    "display(df_sf.head().T)"
   ]
  },
  {
   "cell_type": "code",
   "execution_count": 22,
   "metadata": {
    "execution": {
     "iopub.execute_input": "2021-10-28T03:57:26.041916Z",
     "iopub.status.busy": "2021-10-28T03:57:26.041467Z",
     "iopub.status.idle": "2021-10-28T03:57:26.058682Z",
     "shell.execute_reply": "2021-10-28T03:57:26.057764Z",
     "shell.execute_reply.started": "2021-10-28T03:57:26.041887Z"
    }
   },
   "outputs": [
    {
     "data": {
      "text/html": [
       "<div>\n",
       "<style scoped>\n",
       "    .dataframe tbody tr th:only-of-type {\n",
       "        vertical-align: middle;\n",
       "    }\n",
       "\n",
       "    .dataframe tbody tr th {\n",
       "        vertical-align: top;\n",
       "    }\n",
       "\n",
       "    .dataframe thead th {\n",
       "        text-align: right;\n",
       "    }\n",
       "</style>\n",
       "<table border=\"1\" class=\"dataframe\">\n",
       "  <thead>\n",
       "    <tr style=\"text-align: right;\">\n",
       "      <th></th>\n",
       "      <th>Name</th>\n",
       "      <th>Contact__c</th>\n",
       "      <th>Tool__c</th>\n",
       "    </tr>\n",
       "  </thead>\n",
       "  <tbody>\n",
       "    <tr>\n",
       "      <th>1221</th>\n",
       "      <td>29294_mosfetsat</td>\n",
       "      <td>0035w000034JKPQAA4</td>\n",
       "      <td>a0s5w00000k5Mc5AAE</td>\n",
       "    </tr>\n",
       "    <tr>\n",
       "      <th>1222</th>\n",
       "      <td>29294_mif</td>\n",
       "      <td>0035w000034JKPQAA4</td>\n",
       "      <td>a0s5w00000k5MeDAAU</td>\n",
       "    </tr>\n",
       "  </tbody>\n",
       "</table>\n",
       "</div>"
      ],
      "text/plain": [
       "                 Name          Contact__c             Tool__c\n",
       "1221  29294_mosfetsat  0035w000034JKPQAA4  a0s5w00000k5Mc5AAE\n",
       "1222        29294_mif  0035w000034JKPQAA4  a0s5w00000k5MeDAAU"
      ]
     },
     "metadata": {},
     "output_type": "display_data"
    }
   ],
   "source": [
    "display(df_sf.loc[df_sf['Contact__c'] == '0035w000034JKPQAA4'])"
   ]
  },
  {
   "cell_type": "code",
   "execution_count": 19,
   "metadata": {
    "execution": {
     "iopub.execute_input": "2021-10-28T03:48:08.962754Z",
     "iopub.status.busy": "2021-10-28T03:48:08.961074Z",
     "iopub.status.idle": "2021-10-28T03:48:08.970268Z",
     "shell.execute_reply": "2021-10-28T03:48:08.966763Z",
     "shell.execute_reply.started": "2021-10-28T03:48:08.962696Z"
    }
   },
   "outputs": [],
   "source": [
    "# create DB2 to Salesforce API object\n",
    "db_s = salesforce_engine\n",
    "\n",
    "db_s.object_id = object_id\n",
    "db_s.external_id = external_id"
   ]
  },
  {
   "cell_type": "code",
   "execution_count": 20,
   "metadata": {
    "execution": {
     "iopub.execute_input": "2021-10-28T03:48:08.971704Z",
     "iopub.status.busy": "2021-10-28T03:48:08.971141Z",
     "iopub.status.idle": "2021-10-28T03:48:10.482048Z",
     "shell.execute_reply": "2021-10-28T03:48:10.480693Z",
     "shell.execute_reply.started": "2021-10-28T03:48:08.971522Z"
    }
   },
   "outputs": [
    {
     "name": "stdout",
     "output_type": "stream",
     "text": [
      "[Success] Bulk job creation successful. Job ID = 7505w00000b2dD6AAI\n",
      "hello\n",
      "[Success] CSV upload successful. Job ID = 7505w00000b2dD6AAI\n",
      "[Success] Closing job successful. Job ID = 7505w00000b2dD6AAI\n"
     ]
    }
   ],
   "source": [
    "db_s.send_data(df_sf)"
   ]
  },
  {
   "cell_type": "code",
   "execution_count": 21,
   "metadata": {
    "execution": {
     "iopub.execute_input": "2021-10-28T03:48:10.485823Z",
     "iopub.status.busy": "2021-10-28T03:48:10.483956Z",
     "iopub.status.idle": "2021-10-28T03:48:10.893837Z",
     "shell.execute_reply": "2021-10-28T03:48:10.892641Z",
     "shell.execute_reply.started": "2021-10-28T03:48:10.485777Z"
    },
    "tags": []
   },
   "outputs": [
    {
     "name": "stdout",
     "output_type": "stream",
     "text": [
      "{'apexProcessingTime': 0,\n",
      " 'apiActiveProcessingTime': 0,\n",
      " 'apiVersion': 47.0,\n",
      " 'columnDelimiter': 'COMMA',\n",
      " 'concurrencyMode': 'Parallel',\n",
      " 'contentType': 'CSV',\n",
      " 'createdById': '0055w00000DM5bOAAT',\n",
      " 'createdDate': '2021-10-28T03:48:09.000+0000',\n",
      " 'externalIdFieldName': 'Name',\n",
      " 'id': '7505w00000b2dD6AAI',\n",
      " 'jobType': 'V2Ingest',\n",
      " 'lineEnding': 'LF',\n",
      " 'numberRecordsFailed': 0,\n",
      " 'numberRecordsProcessed': 0,\n",
      " 'object': 'AuthorToolAssociation__c',\n",
      " 'operation': 'upsert',\n",
      " 'retries': 0,\n",
      " 'state': 'InProgress',\n",
      " 'systemModstamp': '2021-10-28T03:48:10.000+0000',\n",
      " 'totalProcessingTime': 0}\n"
     ]
    }
   ],
   "source": [
    "# check status\n",
    "from pprint import pprint\n",
    "\n",
    "pprint(db_s.check_bulk_status())"
   ]
  }
 ],
 "metadata": {
  "celltoolbar": "Tags",
  "kernelspec": {
   "display_name": "Python 3 (ipykernel)",
   "language": "python",
   "name": "python3"
  },
  "language_info": {
   "codemirror_mode": {
    "name": "ipython",
    "version": 3
   },
   "file_extension": ".py",
   "mimetype": "text/x-python",
   "name": "python",
   "nbconvert_exporter": "python",
   "pygments_lexer": "ipython3",
   "version": "3.8.10"
  },
  "papermill": {
   "duration": 721.008636,
   "end_time": "2021-01-21T06:42:33.081027",
   "environment_variables": {},
   "exception": null,
   "input_path": "/home/users/wang2506/nanohub_salesforce_integ/salesforce/task_tools_map_authors.ipynb",
   "output_path": "/home/users/wang2506/nanohub_salesforce_integ/salesforce/task_tools_map_authors.ipynb",
   "parameters": {},
   "start_time": "2021-01-21T06:30:32.072391",
   "version": "2.1.1"
  }
 },
 "nbformat": 4,
 "nbformat_minor": 4
}
