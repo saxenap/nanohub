{
 "cells": [
  {
   "cell_type": "markdown",
   "metadata": {
    "tags": [
     "papermill-error-cell-tag"
    ]
   },
   "source": [
    "<span style=\"color:red; font-family:Helvetica Neue, Helvetica, Arial, sans-serif; font-size:2em;\">An Exception was encountered at '<a href=\"#papermill-error-cell\">In [3]</a>'.</span>"
   ]
  },
  {
   "cell_type": "markdown",
   "metadata": {
    "papermill": {
     "duration": 0.02634,
     "end_time": "2020-12-28T05:30:22.763452",
     "exception": false,
     "start_time": "2020-12-28T05:30:22.737112",
     "status": "completed"
    },
    "tags": []
   },
   "source": [
    "## update user contributions\n"
   ]
  },
  {
   "cell_type": "code",
   "execution_count": 1,
   "metadata": {
    "execution": {
     "iopub.execute_input": "2020-12-28T05:30:22.814422Z",
     "iopub.status.busy": "2020-12-28T05:30:22.813843Z",
     "iopub.status.idle": "2020-12-28T05:30:22.817354Z",
     "shell.execute_reply": "2020-12-28T05:30:22.816813Z"
    },
    "papermill": {
     "duration": 0.028915,
     "end_time": "2020-12-28T05:30:22.817484",
     "exception": false,
     "start_time": "2020-12-28T05:30:22.788569",
     "status": "completed"
    },
    "tags": []
   },
   "outputs": [],
   "source": [
    "## should do this on a monthly basis because 1) this is will quickly use up BULK API's allotted quantity\n",
    "## and 2) db2 only updates some usage numbers on a yearly or monthly basis\n",
    "\n",
    "## currently this script takes over 25 minutes to upload to SF"
   ]
  },
  {
   "cell_type": "code",
   "execution_count": 2,
   "metadata": {
    "execution": {
     "iopub.execute_input": "2020-12-28T05:30:22.866289Z",
     "iopub.status.busy": "2020-12-28T05:30:22.865719Z",
     "iopub.status.idle": "2020-12-28T05:30:22.868230Z",
     "shell.execute_reply": "2020-12-28T05:30:22.868755Z"
    },
    "papermill": {
     "duration": 0.029544,
     "end_time": "2020-12-28T05:30:22.868926",
     "exception": false,
     "start_time": "2020-12-28T05:30:22.839382",
     "status": "completed"
    },
    "tags": []
   },
   "outputs": [],
   "source": [
    "# API settings\n",
    "api_url = '/services/data/v43.0/sobjects'\n",
    "external_id = 'Name'\n",
    "#object_id = 'ContactToolAssociation__c'\n",
    "\n",
    "# login parameters to be handled by Papermill\n",
    "sql_login_params = {\"username\": \"wang2506_ro\", \"password\": \"fnVnwcCS7iT45EsA\"}\n",
    "sf_login_params = {\n",
    "    \"grant_type\": \"password\",\n",
    "    \"client_id\": \"3MVG95jctIhbyCppj0SNJ75IsZ1y8UPGZtSNF4j8FNVXz.De8Lu4jHm3rjRosAtsHy6qjHx3i4S_QbQzvBePG\",\n",
    "    \"client_secret\": \"D1623C6D3607D4FC8004B92C761DFB6C1F70CCD129C5501E357028DFA00F5764\",\n",
    "    \"username\":\"wang2506@purdue.edu\",\n",
    "    \"password\":\"sf2021shitOPmlIiFMLnrudgC6oSX0WV1T\",     \n",
    "}\n",
    "    #\"username\": \"wang159-4j1v@force.com\",\n",
    "    #\"password\": \"napoleon0eZ3PQpQqE3C3z4wWqEqKGhQ8\","
   ]
  },
  {
   "cell_type": "markdown",
   "metadata": {
    "tags": [
     "papermill-error-cell-tag"
    ]
   },
   "source": [
    "<span id=\"papermill-error-cell\" style=\"color:red; font-family:Helvetica Neue, Helvetica, Arial, sans-serif; font-size:2em;\">Execution using papermill encountered an exception here and stopped:</span>"
   ]
  },
  {
   "cell_type": "code",
   "execution_count": 3,
   "metadata": {
    "execution": {
     "iopub.execute_input": "2020-12-28T05:30:22.918792Z",
     "iopub.status.busy": "2020-12-28T05:30:22.917841Z",
     "iopub.status.idle": "2020-12-28T05:30:26.198547Z",
     "shell.execute_reply": "2020-12-28T05:30:26.197466Z"
    },
    "papermill": {
     "duration": 3.307216,
     "end_time": "2020-12-28T05:30:26.198802",
     "exception": true,
     "start_time": "2020-12-28T05:30:22.891586",
     "status": "failed"
    },
    "tags": []
   },
   "outputs": [
    {
     "ename": "ModuleNotFoundError",
     "evalue": "No module named 'DB2SalesforceAPI'",
     "output_type": "error",
     "traceback": [
      "\u001B[0;31m---------------------------------------------------------------------------\u001B[0m",
      "\u001B[0;31mModuleNotFoundError\u001B[0m                       Traceback (most recent call last)",
      "\u001B[0;32m<ipython-input-3-d5a451578efc>\u001B[0m in \u001B[0;36m<module>\u001B[0;34m\u001B[0m\n\u001B[1;32m      6\u001B[0m \u001B[0;32mimport\u001B[0m \u001B[0mdatetime\u001B[0m\u001B[0;34m\u001B[0m\u001B[0;34m\u001B[0m\u001B[0m\n\u001B[1;32m      7\u001B[0m \u001B[0;34m\u001B[0m\u001B[0m\n\u001B[0;32m----> 8\u001B[0;31m \u001B[0;32mfrom\u001B[0m \u001B[0mDB2SalesforceAPI\u001B[0m \u001B[0;32mimport\u001B[0m \u001B[0mDB2SalesforceAPI\u001B[0m\u001B[0;34m\u001B[0m\u001B[0;34m\u001B[0m\u001B[0m\n\u001B[0m",
      "\u001B[0;31mModuleNotFoundError\u001B[0m: No module named 'DB2SalesforceAPI'"
     ]
    }
   ],
   "source": [
    "import sys\n",
    "#sys.path.append('/home/users/wang2506/nanohub_salesforce_integ/salesforce')\n",
    "\n",
    "import pandas as pd\n",
    "import time\n",
    "import datetime\n",
    "\n",
    "from DB2SalesforceAPI import DB2SalesforceAPI"
   ]
  },
  {
   "cell_type": "markdown",
   "metadata": {
    "papermill": {
     "duration": null,
     "end_time": null,
     "exception": null,
     "start_time": null,
     "status": "pending"
    },
    "tags": []
   },
   "source": [
    "## Obtain information from DB2 "
   ]
  },
  {
   "cell_type": "code",
   "execution_count": null,
   "metadata": {
    "papermill": {
     "duration": null,
     "end_time": null,
     "exception": null,
     "start_time": null,
     "status": "pending"
    },
    "tags": []
   },
   "outputs": [],
   "source": [
    "#pre-filtering queries using datetime\n",
    "date_temp = datetime.datetime.today()\n",
    "year = date_temp.year\n",
    "month = date_temp.month\n",
    "period = 14\n",
    "if month < 10:\n",
    "    date_str0 = '\\''+ str(year)+'-0'+str(month)+'-00'+'\\''\n",
    "    date_str1 = '\\''+str(year)+'-0'+str(month)+'-01'+'\\''\n",
    "else:\n",
    "    date_str0 = '\\''+ str(year)+'-'+str(month)+'-00'+'\\''\n",
    "    date_str1 = '\\''+str(year)+'-'+str(month)+'-01'+'\\''"
   ]
  },
  {
   "cell_type": "code",
   "execution_count": null,
   "metadata": {
    "papermill": {
     "duration": null,
     "end_time": null,
     "exception": null,
     "start_time": null,
     "status": "pending"
    },
    "tags": []
   },
   "outputs": [],
   "source": [
    "print(date_str0)\n",
    "print(date_str1)"
   ]
  },
  {
   "cell_type": "code",
   "execution_count": null,
   "metadata": {
    "papermill": {
     "duration": null,
     "end_time": null,
     "exception": null,
     "start_time": null,
     "status": "pending"
    },
    "tags": []
   },
   "outputs": [],
   "source": [
    "# connect with DB2\n",
    "import sqlalchemy as sql\n",
    "\n",
    "engine = sql.create_engine('mysql+pymysql://%s:%s@127.0.0.1/nanohub' \\\n",
    "                                               %(sql_login_params['username'], sql_login_params['password']))"
   ]
  },
  {
   "cell_type": "code",
   "execution_count": null,
   "metadata": {
    "papermill": {
     "duration": null,
     "end_time": null,
     "exception": null,
     "start_time": null,
     "status": "pending"
    },
    "tags": []
   },
   "outputs": [],
   "source": [
    "# extract the wiki contributions\n",
    "sql_query = \"select hits, created_by from jos_wiki_pages where state = '1' and scope = 'site';\"\n",
    "wiki_results_df = pd.read_sql_query(sql_query,engine)\n",
    "#corresponds to wiki_usage__c, wiki_contributions__c"
   ]
  },
  {
   "cell_type": "code",
   "execution_count": null,
   "metadata": {
    "papermill": {
     "duration": null,
     "end_time": null,
     "exception": null,
     "start_time": null,
     "status": "pending"
    },
    "tags": []
   },
   "outputs": [],
   "source": [
    "# extract paper contributions; need investigate how to get the usage per paper\n",
    "sql_query = \"select authorid, hits from jos_resources left join jos_author_assoc \"\\\n",
    "            \"on jos_author_assoc.subid = jos_resources.id where type = '3' and access in ('0','3','1') \"\\\n",
    "            \"and standalone = '1' and published in ('1');\"\n",
    "papers_df = pd.read_sql_query(sql_query,engine)"
   ]
  },
  {
   "cell_type": "code",
   "execution_count": null,
   "metadata": {
    "papermill": {
     "duration": null,
     "end_time": null,
     "exception": null,
     "start_time": null,
     "status": "pending"
    },
    "tags": []
   },
   "outputs": [],
   "source": [
    "# extract presentation contributions; need to see how to get usage per presentation\n",
    "sql_query = \"select authorid, hits from jos_resources left join jos_author_assoc \"\\\n",
    "            \"on jos_author_assoc.subid = jos_resources.id where type = '1' and access in ('0','3','1') \"\\\n",
    "            \"and standalone = '1' and published in ('1');\"\n",
    "presentation_df = pd.read_sql_query(sql_query,engine)"
   ]
  },
  {
   "cell_type": "code",
   "execution_count": null,
   "metadata": {
    "papermill": {
     "duration": null,
     "end_time": null,
     "exception": null,
     "start_time": null,
     "status": "pending"
    },
    "tags": []
   },
   "outputs": [],
   "source": [
    "# extract presentation contributions; need to see how to get usage per presentation\n",
    "sql_query = \"select authorid, hits from jos_resources left join jos_author_assoc \"\\\n",
    "            \"on jos_author_assoc.subid = jos_resources.id where type = '7' and access in ('0','3','1') \"\\\n",
    "            \"and standalone = '1' and published in ('1');\"\n",
    "tools_df = pd.read_sql_query(sql_query,engine)"
   ]
  },
  {
   "cell_type": "code",
   "execution_count": null,
   "metadata": {
    "papermill": {
     "duration": null,
     "end_time": null,
     "exception": null,
     "start_time": null,
     "status": "pending"
    },
    "tags": []
   },
   "outputs": [],
   "source": [
    "# getting the users that used the contributions\n",
    "sql_query = \"select * from jos_author_stats WHERE datetime \" \\\n",
    "    \"between \" + date_str0 +\" and \" + date_str1 + \" and period = 14;\"\n",
    "\n",
    "result_users_df = pd.read_sql_query(sql_query, engine)"
   ]
  },
  {
   "cell_type": "raw",
   "metadata": {
    "papermill": {
     "duration": null,
     "end_time": null,
     "exception": null,
     "start_time": null,
     "status": "pending"
    },
    "tags": []
   },
   "source": [
    "## deprecated - the table hasn't been updated in years\n",
    "# getting the total number of contributions\n",
    "sql_query = \"select * from jos_real_contributors;\" #this is not up-to-date\n",
    "\n",
    "num_contri_df = pd.read_sql_query(sql_query, engine)\n",
    "display(num_contri_df.head(2))"
   ]
  },
  {
   "cell_type": "code",
   "execution_count": null,
   "metadata": {
    "papermill": {
     "duration": null,
     "end_time": null,
     "exception": null,
     "start_time": null,
     "status": "pending"
    },
    "tags": []
   },
   "outputs": [],
   "source": [
    "display(wiki_results_df.head(2))\n",
    "display(papers_df.head(2))\n",
    "display(presentation_df.head(2))\n",
    "display(tools_df.head(2))\n",
    "display(result_users_df.head(2))\n",
    "print(result_users_df.shape)"
   ]
  },
  {
   "cell_type": "code",
   "execution_count": null,
   "metadata": {
    "papermill": {
     "duration": null,
     "end_time": null,
     "exception": null,
     "start_time": null,
     "status": "pending"
    },
    "tags": []
   },
   "outputs": [],
   "source": [
    "## get rid of all negative authorids from all of the dataframes\n",
    "wikidrops = []\n",
    "wikikeeps = []\n",
    "for ind,val in enumerate(wiki_results_df['created_by'].to_list()):\n",
    "    if val <= 0:\n",
    "        wikidrops.append(ind)\n",
    "    else:\n",
    "        wikikeeps.append(ind)\n",
    "wiki_results_df = wiki_results_df.iloc[wikikeeps,:]"
   ]
  },
  {
   "cell_type": "code",
   "execution_count": null,
   "metadata": {
    "papermill": {
     "duration": null,
     "end_time": null,
     "exception": null,
     "start_time": null,
     "status": "pending"
    },
    "tags": []
   },
   "outputs": [],
   "source": [
    "display(wiki_results_df.head(2))"
   ]
  },
  {
   "cell_type": "code",
   "execution_count": null,
   "metadata": {
    "papermill": {
     "duration": null,
     "end_time": null,
     "exception": null,
     "start_time": null,
     "status": "pending"
    },
    "tags": []
   },
   "outputs": [],
   "source": [
    "## papers df \n",
    "pdrops = []\n",
    "pkeeps = []\n",
    "for ind,val in enumerate(papers_df['authorid'].to_list()):\n",
    "    if val <= 0:\n",
    "        pdrops.append(ind)\n",
    "    else:\n",
    "        pkeeps.append(ind)\n",
    "papers_df = papers_df.iloc[pkeeps,:]"
   ]
  },
  {
   "cell_type": "code",
   "execution_count": null,
   "metadata": {
    "papermill": {
     "duration": null,
     "end_time": null,
     "exception": null,
     "start_time": null,
     "status": "pending"
    },
    "tags": []
   },
   "outputs": [],
   "source": [
    "display(papers_df.head(2))"
   ]
  },
  {
   "cell_type": "code",
   "execution_count": null,
   "metadata": {
    "papermill": {
     "duration": null,
     "end_time": null,
     "exception": null,
     "start_time": null,
     "status": "pending"
    },
    "tags": []
   },
   "outputs": [],
   "source": [
    "## presentation_df\n",
    "prdrops = []\n",
    "prkeeps = []\n",
    "for ind,val in enumerate(presentation_df['authorid'].to_list()):\n",
    "    if val <= 0:\n",
    "        prdrops.append(ind)\n",
    "    else:\n",
    "        prkeeps.append(ind)\n",
    "presentation_df = presentation_df.iloc[prkeeps,:]"
   ]
  },
  {
   "cell_type": "code",
   "execution_count": null,
   "metadata": {
    "papermill": {
     "duration": null,
     "end_time": null,
     "exception": null,
     "start_time": null,
     "status": "pending"
    },
    "tags": []
   },
   "outputs": [],
   "source": [
    "display(presentation_df.head(2))"
   ]
  },
  {
   "cell_type": "markdown",
   "metadata": {
    "papermill": {
     "duration": null,
     "end_time": null,
     "exception": null,
     "start_time": null,
     "status": "pending"
    },
    "tags": []
   },
   "source": [
    "## roll up information from wiki_results_df, papers_df, and presentation_df"
   ]
  },
  {
   "cell_type": "code",
   "execution_count": null,
   "metadata": {
    "papermill": {
     "duration": null,
     "end_time": null,
     "exception": null,
     "start_time": null,
     "status": "pending"
    },
    "tags": []
   },
   "outputs": [],
   "source": [
    "# wiki_results_df\n",
    "\n",
    "## get the number of unique wiki contributions\n",
    "wikic = wiki_results_df.groupby(['created_by']).size().reset_index() #need reset_index to save the authorid/created_by field\n",
    "wikic.columns = ['nanoHUB_user_ID__c','wiki_contributions__c']\n",
    "wikic = pd.DataFrame(wikic)\n",
    "\n",
    "## rollup usage\n",
    "wikic2 = wiki_results_df.groupby(['created_by']).sum().reset_index()\n",
    "wikic2.columns = ['nanoHUB_user_ID__c','wiki_usage__c']\n",
    "wikic2 = pd.DataFrame(wikic2)\n",
    "\n",
    "wikic = wikic.join(wikic2,lsuffix='1', rsuffix='2')\n",
    "display(wikic.head(2))"
   ]
  },
  {
   "cell_type": "code",
   "execution_count": null,
   "metadata": {
    "papermill": {
     "duration": null,
     "end_time": null,
     "exception": null,
     "start_time": null,
     "status": "pending"
    },
    "tags": []
   },
   "outputs": [],
   "source": [
    "wikic = wikic.drop(columns=['nanoHUB_user_ID__c2'])\n",
    "wikic = wikic.rename(columns={\"nanoHUB_user_ID__c1\": \"nanoHUB_user_ID__c\"})\n",
    "display(wikic.head(2))"
   ]
  },
  {
   "cell_type": "code",
   "execution_count": null,
   "metadata": {
    "papermill": {
     "duration": null,
     "end_time": null,
     "exception": null,
     "start_time": null,
     "status": "pending"
    },
    "tags": []
   },
   "outputs": [],
   "source": [
    "# papers_df - just need the number of unique contributions\n",
    "\n",
    "## get the number of unique paper contributions\n",
    "papersc = papers_df.groupby(['authorid']).size().reset_index() #need reset_index to save the authorid/created_by field\n",
    "papersc.columns = ['nanoHUB_user_ID__c','paper_contributions__c']\n",
    "papersc = pd.DataFrame(papersc)\n",
    "\n",
    "## to add in the number of paper hits in the future ##TODO\n",
    "\n",
    "display(papersc.head(2))"
   ]
  },
  {
   "cell_type": "code",
   "execution_count": null,
   "metadata": {
    "papermill": {
     "duration": null,
     "end_time": null,
     "exception": null,
     "start_time": null,
     "status": "pending"
    },
    "tags": []
   },
   "outputs": [],
   "source": [
    "# presentation_df - just need the number of unique contributions\n",
    "\n",
    "## get the number of unique presentation contributions\n",
    "pres_c = presentation_df.groupby(['authorid']).size().reset_index() #need reset_index to save the authorid/created_by field\n",
    "pres_c.columns = ['nanoHUB_user_ID__c','presentations_contributions__c']\n",
    "pres_c = pd.DataFrame(pres_c)\n",
    "\n",
    "## to add in the number of paper hits in the future ##TODO\n",
    "\n",
    "display(pres_c.head(2))"
   ]
  },
  {
   "cell_type": "markdown",
   "metadata": {
    "papermill": {
     "duration": null,
     "end_time": null,
     "exception": null,
     "start_time": null,
     "status": "pending"
    },
    "tags": []
   },
   "source": [
    "## Big picture users dataframe development"
   ]
  },
  {
   "cell_type": "code",
   "execution_count": null,
   "metadata": {
    "papermill": {
     "duration": null,
     "end_time": null,
     "exception": null,
     "start_time": null,
     "status": "pending"
    },
    "tags": []
   },
   "outputs": [],
   "source": [
    "# rename the authorid in result_users_df, then join all of the dataframes\n",
    "ovr_df = result_users_df.rename(columns={\"authorid\": \"nanoHUB_user_ID__c\"})\n",
    "ovr_df['contributor__c'] = 0"
   ]
  },
  {
   "cell_type": "code",
   "execution_count": null,
   "metadata": {
    "papermill": {
     "duration": null,
     "end_time": null,
     "exception": null,
     "start_time": null,
     "status": "pending"
    },
    "tags": []
   },
   "outputs": [],
   "source": [
    "## get rid of all negative nanohub ids\n",
    "drops = []\n",
    "keeps = []\n",
    "for ind,val in enumerate(ovr_df['nanoHUB_user_ID__c'].to_list()):\n",
    "    if val <= 0:\n",
    "        drops.append(ind)\n",
    "    else:\n",
    "        keeps.append(ind)\n",
    "ovr_df = ovr_df.iloc[keeps,:]\n",
    "\n",
    "ovr_df = ovr_df.drop(columns=['datetime','period','id'])\n",
    "\n",
    "display(ovr_df.head(2))\n",
    "display(ovr_df.tail(2))"
   ]
  },
  {
   "cell_type": "code",
   "execution_count": null,
   "metadata": {
    "papermill": {
     "duration": null,
     "end_time": null,
     "exception": null,
     "start_time": null,
     "status": "pending"
    },
    "tags": []
   },
   "outputs": [],
   "source": [
    "ovr_df = ovr_df.set_index('nanoHUB_user_ID__c').join(wikic.set_index('nanoHUB_user_ID__c')) \n",
    "ovr_df = ovr_df.join(papersc.set_index('nanoHUB_user_ID__c')) \n",
    "ovr_df = ovr_df.join(pres_c.set_index('nanoHUB_user_ID__c')) \n",
    "\n",
    "display(ovr_df.head(10))\n",
    "#use .reset_index() to extract it later"
   ]
  },
  {
   "cell_type": "raw",
   "metadata": {
    "papermill": {
     "duration": null,
     "end_time": null,
     "exception": null,
     "start_time": null,
     "status": "pending"
    },
    "tags": []
   },
   "source": [
    "ovr_df = ovr_df.reset_index()\n",
    "\n",
    "# calculate contributor flag\n",
    "for index,val in enumerate(ovr_df['contributor__c'].to_list()):\n",
    "    # if any of the entries are non zero/non-NaN, then contributor__c = 1\n",
    "    if ovr_df['total_users'][index] > 0:\n",
    "        ovr_df['contributor__c'][index] = 1\n",
    "    elif ovr_df['wiki_contributions__c'][index] > 0:\n",
    "        ovr_df['contributor__c'][index] = 1\n",
    "    elif ovr_df['paper_contributions__c'][index] > 0:\n",
    "        ovr_df['contributor__c'][index] = 1\n",
    "    elif ovr_df['presentations_contributions__c'][index] > 0:\n",
    "        ovr_df['contributor__c'][index] = 1\n",
    "    elif ovr_df['Total_tool_contributions__c'][index] > 0:\n",
    "        ovr_df['contributor__c'][index] = 1\n",
    "        \n",
    "display(ovr_df.head(10))"
   ]
  },
  {
   "cell_type": "code",
   "execution_count": null,
   "metadata": {
    "papermill": {
     "duration": null,
     "end_time": null,
     "exception": null,
     "start_time": null,
     "status": "pending"
    },
    "tags": []
   },
   "outputs": [],
   "source": []
  },
  {
   "cell_type": "code",
   "execution_count": null,
   "metadata": {
    "papermill": {
     "duration": null,
     "end_time": null,
     "exception": null,
     "start_time": null,
     "status": "pending"
    },
    "tags": []
   },
   "outputs": [],
   "source": []
  },
  {
   "cell_type": "markdown",
   "metadata": {
    "papermill": {
     "duration": null,
     "end_time": null,
     "exception": null,
     "start_time": null,
     "status": "pending"
    },
    "tags": []
   },
   "source": [
    "## Get the current nanohub user IDs and their tool counts from SF\n",
    "then begin the dataframe merge and post-processing"
   ]
  },
  {
   "cell_type": "code",
   "execution_count": null,
   "metadata": {
    "papermill": {
     "duration": null,
     "end_time": null,
     "exception": null,
     "start_time": null,
     "status": "pending"
    },
    "tags": []
   },
   "outputs": [],
   "source": [
    "# create DB2 to Salesforce API object\n",
    "db_s = DB2SalesforceAPI(sf_login_params)"
   ]
  },
  {
   "cell_type": "code",
   "execution_count": null,
   "metadata": {
    "papermill": {
     "duration": null,
     "end_time": null,
     "exception": null,
     "start_time": null,
     "status": "pending"
    },
    "tags": []
   },
   "outputs": [],
   "source": [
    "# get nanohub ID for contacts to being matching and processing\n",
    "sf_username_df = db_s.query_data('SELECT nanoHUB_user_ID__c,Total_tool_contributions__c FROM Contact')\n",
    "\n",
    "# display\n",
    "display(sf_username_df.head(2))\n",
    "print(sf_username_df.shape)"
   ]
  },
  {
   "cell_type": "code",
   "execution_count": null,
   "metadata": {
    "papermill": {
     "duration": null,
     "end_time": null,
     "exception": null,
     "start_time": null,
     "status": "pending"
    },
    "tags": []
   },
   "outputs": [],
   "source": [
    "# join the two dataframes\n",
    "nover_df = sf_username_df.set_index('nanoHUB_user_ID__c').join(ovr_df.set_index('nanoHUB_user_ID__c'))"
   ]
  },
  {
   "cell_type": "code",
   "execution_count": null,
   "metadata": {
    "papermill": {
     "duration": null,
     "end_time": null,
     "exception": null,
     "start_time": null,
     "status": "pending"
    },
    "tags": []
   },
   "outputs": [],
   "source": [
    "display(nover_df.head(2))"
   ]
  },
  {
   "cell_type": "code",
   "execution_count": null,
   "metadata": {
    "papermill": {
     "duration": null,
     "end_time": null,
     "exception": null,
     "start_time": null,
     "status": "pending"
    },
    "tags": []
   },
   "outputs": [],
   "source": [
    "## calculate the non tool contributions\n",
    "nover_df['And_More_Contributions__c'] = nover_df['wiki_contributions__c']+nover_df['paper_contributions__c']\\\n",
    "        +nover_df['presentations_contributions__c']"
   ]
  },
  {
   "cell_type": "code",
   "execution_count": null,
   "metadata": {
    "papermill": {
     "duration": null,
     "end_time": null,
     "exception": null,
     "start_time": null,
     "status": "pending"
    },
    "tags": []
   },
   "outputs": [],
   "source": [
    "# recover nanohub ids \n",
    "nover_df = nover_df.reset_index()\n",
    "display(nover_df.head(2))"
   ]
  },
  {
   "cell_type": "code",
   "execution_count": null,
   "metadata": {
    "papermill": {
     "duration": null,
     "end_time": null,
     "exception": null,
     "start_time": null,
     "status": "pending"
    },
    "tags": []
   },
   "outputs": [],
   "source": [
    "## remove NAN rows for index\n",
    "nover_df = nover_df.dropna(subset=['nanoHUB_user_ID__c'])\n",
    "nover_df.shape"
   ]
  },
  {
   "cell_type": "code",
   "execution_count": null,
   "metadata": {
    "papermill": {
     "duration": null,
     "end_time": null,
     "exception": null,
     "start_time": null,
     "status": "pending"
    },
    "tags": []
   },
   "outputs": [],
   "source": [
    "## then make the indexes integers\n",
    "import numpy as np\n",
    "nover_df['nanoHUB_user_ID__c'] = nover_df['nanoHUB_user_ID__c'].apply(lambda x: int(x))\n",
    "display(nover_df.head(2))"
   ]
  },
  {
   "cell_type": "code",
   "execution_count": null,
   "metadata": {
    "papermill": {
     "duration": null,
     "end_time": null,
     "exception": null,
     "start_time": null,
     "status": "pending"
    },
    "tags": []
   },
   "outputs": [],
   "source": [
    "# calculate contributor flag\n",
    "for index,val in enumerate(nover_df['contributor__c'].to_list()):\n",
    "    # if any of the entries are non zero/non-NaN, then contributor__c = 1\n",
    "    if nover_df['total_users'][index] > 0:\n",
    "        nover_df['contributor__c'][index] = 1\n",
    "    elif nover_df['wiki_contributions__c'][index] > 0:\n",
    "        nover_df['contributor__c'][index] = 1\n",
    "    elif nover_df['paper_contributions__c'][index] > 0:\n",
    "        nover_df['contributor__c'][index] = 1\n",
    "    elif nover_df['presentations_contributions__c'][index] > 0:\n",
    "        nover_df['contributor__c'][index] = 1\n",
    "    elif nover_df['Total_tool_contributions__c'][index] > 0:\n",
    "        nover_df['contributor__c'][index] = 1\n",
    "        \n",
    "display(nover_df.head(10))"
   ]
  },
  {
   "cell_type": "code",
   "execution_count": null,
   "metadata": {
    "papermill": {
     "duration": null,
     "end_time": null,
     "exception": null,
     "start_time": null,
     "status": "pending"
    },
    "tags": []
   },
   "outputs": [],
   "source": []
  },
  {
   "cell_type": "markdown",
   "metadata": {
    "papermill": {
     "duration": null,
     "end_time": null,
     "exception": null,
     "start_time": null,
     "status": "pending"
    },
    "tags": []
   },
   "source": [
    "## Fitting data to SF format"
   ]
  },
  {
   "cell_type": "code",
   "execution_count": null,
   "metadata": {
    "papermill": {
     "duration": null,
     "end_time": null,
     "exception": null,
     "start_time": null,
     "status": "pending"
    },
    "tags": []
   },
   "outputs": [],
   "source": [
    "## creating and populating the sf dataframe\n",
    "df_sf = pd.DataFrame()\n",
    "temp_df = nover_df.fillna(0)\n",
    "\n",
    "# populating df_sf and make integers\n",
    "df_sf['nanoHUB_user_ID__c'] = temp_df['nanoHUB_user_ID__c'].apply(lambda x: int(x))\n",
    "df_sf['And_More_Contributions__c'] = temp_df['And_More_Contributions__c'].apply(lambda x: int(x))\n",
    "df_sf['contributed_tool_usage__c'] = temp_df['tool_users'].apply(lambda x: int(x))\n",
    "df_sf['contributed_andmore_usage__c'] = temp_df['andmore_users'].apply(lambda x: int(x))\n",
    "df_sf['contributor__c'] = temp_df['contributor__c']\n",
    "\n",
    "df_sf['wiki_contributions__c'] = temp_df['wiki_contributions__c']\n",
    "df_sf['wiki_usage__c'] = temp_df['wiki_usage__c']\n",
    "df_sf['paper_contributions__c'] = temp_df['paper_contributions__c']\n",
    "df_sf['presentations_contributions__c'] = temp_df['presentations_contributions__c']\n",
    "\n",
    "display(df_sf.head(2))"
   ]
  },
  {
   "cell_type": "markdown",
   "metadata": {
    "papermill": {
     "duration": null,
     "end_time": null,
     "exception": null,
     "start_time": null,
     "status": "pending"
    },
    "tags": []
   },
   "source": [
    "## send data to SF"
   ]
  },
  {
   "cell_type": "code",
   "execution_count": null,
   "metadata": {
    "papermill": {
     "duration": null,
     "end_time": null,
     "exception": null,
     "start_time": null,
     "status": "pending"
    },
    "tags": []
   },
   "outputs": [],
   "source": [
    "# create DB2 to Salesforce API object\n",
    "db_s = DB2SalesforceAPI(sf_login_params)\n",
    "\n",
    "# specify Salesforce object ID and external ID\n",
    "db_s.object_id = 'Contact'\n",
    "db_s.external_id = 'nanoHUB_user_ID__c'"
   ]
  },
  {
   "cell_type": "code",
   "execution_count": null,
   "metadata": {
    "papermill": {
     "duration": null,
     "end_time": null,
     "exception": null,
     "start_time": null,
     "status": "pending"
    },
    "tags": []
   },
   "outputs": [],
   "source": [
    "# send data to Salesforce\n",
    "db_s.send_data(df_sf)"
   ]
  },
  {
   "cell_type": "code",
   "execution_count": null,
   "metadata": {
    "papermill": {
     "duration": null,
     "end_time": null,
     "exception": null,
     "start_time": null,
     "status": "pending"
    },
    "scrolled": true,
    "tags": []
   },
   "outputs": [],
   "source": [
    "# check status\n",
    "from pprint import pprint\n",
    "\n",
    "pprint(db_s.check_bulk_status())"
   ]
  },
  {
   "cell_type": "code",
   "execution_count": null,
   "metadata": {
    "papermill": {
     "duration": null,
     "end_time": null,
     "exception": null,
     "start_time": null,
     "status": "pending"
    },
    "tags": []
   },
   "outputs": [],
   "source": [
    "pprint(db_s.check_bulk_failed_results())"
   ]
  },
  {
   "cell_type": "code",
   "execution_count": null,
   "metadata": {
    "papermill": {
     "duration": null,
     "end_time": null,
     "exception": null,
     "start_time": null,
     "status": "pending"
    },
    "tags": []
   },
   "outputs": [],
   "source": []
  }
 ],
 "metadata": {
  "kernelspec": {
   "display_name": "Python 3",
   "language": "python",
   "name": "python3"
  },
  "language_info": {
   "codemirror_mode": {
    "name": "ipython",
    "version": 3
   },
   "file_extension": ".py",
   "mimetype": "text/x-python",
   "name": "python",
   "nbconvert_exporter": "python",
   "pygments_lexer": "ipython3",
   "version": "3.7.10"
  },
  "papermill": {
   "duration": 5.596024,
   "end_time": "2020-12-28T05:30:26.605834",
   "environment_variables": {},
   "exception": true,
   "input_path": "/home/users/wang2506/nanohub_salesforce_integ/salesforce/task_user_contribution_update.ipynb",
   "output_path": "/home/users/wang2506/nanohub_salesforce_integ/salesforce/task_user_contribution_updated.ipynb",
   "parameters": {},
   "start_time": "2020-12-28T05:30:21.009810",
   "version": "2.1.1"
  }
 },
 "nbformat": 4,
 "nbformat_minor": 4
}