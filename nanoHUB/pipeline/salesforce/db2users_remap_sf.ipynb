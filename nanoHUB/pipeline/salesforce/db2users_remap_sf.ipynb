{
 "cells": [
  {
   "cell_type": "markdown",
   "metadata": {},
   "source": [
    "## Finding NH DB2 deleted users by doing a back scrawl search"
   ]
  },
  {
   "cell_type": "code",
   "execution_count": 2,
   "metadata": {},
   "outputs": [],
   "source": [
    "# API settings\n",
    "api_url = '/services/data/v43.0/sobjects'\n",
    "external_id = 'Name'\n",
    "object_id = 'ContactToolAssociation__c'\n",
    "\n",
    "# login parameters to be handled by Papermill\n",
    "from nanoHUB.application import Application\n",
    "\n",
    "application = Application.get_instance()\n",
    "nanohub_db = application.new_db_engine('nanohub')\n",
    "\n",
    "salesforce = application.new_salesforce_engine()\n",
    "db_s = salesforce"
   ]
  },
  {
   "cell_type": "code",
   "execution_count": 3,
   "metadata": {},
   "outputs": [],
   "source": [
    "import sys\n",
    "# sys.path.append('/home/users/wang2506/nanohub_salesforce_integ/salesforce')\n",
    "\n",
    "import pandas as pd\n",
    "import time\n",
    "import datetime\n",
    "\n",
    "# from DB2SalesforceAPI import DB2SalesforceAPI"
   ]
  },
  {
   "cell_type": "markdown",
   "metadata": {},
   "source": [
    "## Pull data from SF"
   ]
  },
  {
   "cell_type": "code",
   "execution_count": 4,
   "metadata": {},
   "outputs": [
    {
     "name": "stdout",
     "output_type": "stream",
     "text": [
      "Obtained Salesforce access token ...... True\n"
     ]
    }
   ],
   "source": [
    "db_1 = salesforce"
   ]
  },
  {
   "cell_type": "code",
   "execution_count": 10,
   "metadata": {},
   "outputs": [
    {
     "name": "stdout",
     "output_type": "stream",
     "text": [
      "[Success] Bulk job creation successful. Job ID = 7505w00000VrVcWAAV\n",
      "{\"id\":\"7505w00000VrVcWAAV\",\"operation\":\"query\",\"object\":\"Contact\",\"createdById\":\"0055w00000DM5bOAAT\",\"createdDate\":\"2021-05-05T01:44:50.000+0000\",\"systemModstamp\":\"2021-05-05T01:44:51.000+0000\",\"state\":\"InProgress\",\"concurrencyMode\":\"Parallel\",\"contentType\":\"CSV\",\"apiVersion\":47.0,\"jobType\":\"V2Query\",\"lineEnding\":\"LF\",\"columnDelimiter\":\"COMMA\",\"numberRecordsProcessed\":0,\"retries\":0,\"totalProcessingTime\":0}\n",
      "{\"id\":\"7505w00000VrVcWAAV\",\"operation\":\"query\",\"object\":\"Contact\",\"createdById\":\"0055w00000DM5bOAAT\",\"createdDate\":\"2021-05-05T01:44:50.000+0000\",\"systemModstamp\":\"2021-05-05T01:44:51.000+0000\",\"state\":\"InProgress\",\"concurrencyMode\":\"Parallel\",\"contentType\":\"CSV\",\"apiVersion\":47.0,\"jobType\":\"V2Query\",\"lineEnding\":\"LF\",\"columnDelimiter\":\"COMMA\",\"numberRecordsProcessed\":0,\"retries\":0,\"totalProcessingTime\":0}\n",
      "{\"id\":\"7505w00000VrVcWAAV\",\"operation\":\"query\",\"object\":\"Contact\",\"createdById\":\"0055w00000DM5bOAAT\",\"createdDate\":\"2021-05-05T01:44:50.000+0000\",\"systemModstamp\":\"2021-05-05T01:45:04.000+0000\",\"state\":\"JobComplete\",\"concurrencyMode\":\"Parallel\",\"contentType\":\"CSV\",\"apiVersion\":47.0,\"jobType\":\"V2Query\",\"lineEnding\":\"LF\",\"columnDelimiter\":\"COMMA\",\"numberRecordsProcessed\":245975,\"retries\":0,\"totalProcessingTime\":12900}\n",
      "[Success] Bulk job completed successfully.\n"
     ]
    }
   ],
   "source": [
    "NH_ids_sf = db_1.query_data('Select ID, nanoHUB_user_ID__c, Name, Email from Contact')"
   ]
  },
  {
   "cell_type": "code",
   "execution_count": 11,
   "metadata": {},
   "outputs": [
    {
     "data": {
      "text/html": [
       "<div>\n",
       "<style scoped>\n",
       "    .dataframe tbody tr th:only-of-type {\n",
       "        vertical-align: middle;\n",
       "    }\n",
       "\n",
       "    .dataframe tbody tr th {\n",
       "        vertical-align: top;\n",
       "    }\n",
       "\n",
       "    .dataframe thead th {\n",
       "        text-align: right;\n",
       "    }\n",
       "</style>\n",
       "<table border=\"1\" class=\"dataframe\">\n",
       "  <thead>\n",
       "    <tr style=\"text-align: right;\">\n",
       "      <th></th>\n",
       "      <th>Email</th>\n",
       "      <th>Id</th>\n",
       "      <th>Name</th>\n",
       "      <th>nanoHUB_user_ID__c</th>\n",
       "    </tr>\n",
       "  </thead>\n",
       "  <tbody>\n",
       "    <tr>\n",
       "      <th>0</th>\n",
       "      <td>nkissebe@gmail.com</td>\n",
       "      <td>0035w000031Vsp1AAC</td>\n",
       "      <td>hubrepo hubrepo</td>\n",
       "      <td>998.0</td>\n",
       "    </tr>\n",
       "    <tr>\n",
       "      <th>1</th>\n",
       "      <td>support@nanohub.org</td>\n",
       "      <td>0035w000031Vsp2AAC</td>\n",
       "      <td>nanoHUB support</td>\n",
       "      <td>1683.0</td>\n",
       "    </tr>\n",
       "    <tr>\n",
       "      <th>2</th>\n",
       "      <td>gridstat@nanohub.org</td>\n",
       "      <td>0035w000031Vsp3AAC</td>\n",
       "      <td>Grid Statistics</td>\n",
       "      <td>1684.0</td>\n",
       "    </tr>\n",
       "    <tr>\n",
       "      <th>3</th>\n",
       "      <td>ncn@nanohub.org</td>\n",
       "      <td>0035w000031Vsp4AAC</td>\n",
       "      <td>NCN NCN</td>\n",
       "      <td>1685.0</td>\n",
       "    </tr>\n",
       "    <tr>\n",
       "      <th>4</th>\n",
       "      <td>apps@nanohub.org</td>\n",
       "      <td>0035w000031Vsp5AAC</td>\n",
       "      <td>nanoHUB nanoHUB</td>\n",
       "      <td>1686.0</td>\n",
       "    </tr>\n",
       "  </tbody>\n",
       "</table>\n",
       "</div>"
      ],
      "text/plain": [
       "                  Email                  Id             Name  \\\n",
       "0    nkissebe@gmail.com  0035w000031Vsp1AAC  hubrepo hubrepo   \n",
       "1   support@nanohub.org  0035w000031Vsp2AAC  nanoHUB support   \n",
       "2  gridstat@nanohub.org  0035w000031Vsp3AAC  Grid Statistics   \n",
       "3       ncn@nanohub.org  0035w000031Vsp4AAC          NCN NCN   \n",
       "4      apps@nanohub.org  0035w000031Vsp5AAC  nanoHUB nanoHUB   \n",
       "\n",
       "   nanoHUB_user_ID__c  \n",
       "0               998.0  \n",
       "1              1683.0  \n",
       "2              1684.0  \n",
       "3              1685.0  \n",
       "4              1686.0  "
      ]
     },
     "metadata": {},
     "output_type": "display_data"
    },
    {
     "name": "stdout",
     "output_type": "stream",
     "text": [
      "(245975, 4)\n"
     ]
    }
   ],
   "source": [
    "display(NH_ids_sf.head(5))\n",
    "print(NH_ids_sf.shape)"
   ]
  },
  {
   "cell_type": "markdown",
   "metadata": {},
   "source": [
    "## Pull data from DB2"
   ]
  },
  {
   "cell_type": "code",
   "execution_count": 12,
   "metadata": {},
   "outputs": [
    {
     "name": "stdout",
     "output_type": "stream",
     "text": [
      "select id, name, username, email from jos_users\n"
     ]
    }
   ],
   "source": [
    "sql_query = \"select id, name, username, email from jos_users\" ## this id is the NH user id\n",
    "\n",
    "# display\n",
    "print(sql_query)"
   ]
  },
  {
   "cell_type": "code",
   "execution_count": 13,
   "metadata": {},
   "outputs": [],
   "source": [
    "df = pd.read_sql_query(sql_query, nanohub_db)"
   ]
  },
  {
   "cell_type": "code",
   "execution_count": 14,
   "metadata": {},
   "outputs": [
    {
     "data": {
      "text/html": [
       "<div>\n",
       "<style scoped>\n",
       "    .dataframe tbody tr th:only-of-type {\n",
       "        vertical-align: middle;\n",
       "    }\n",
       "\n",
       "    .dataframe tbody tr th {\n",
       "        vertical-align: top;\n",
       "    }\n",
       "\n",
       "    .dataframe thead th {\n",
       "        text-align: right;\n",
       "    }\n",
       "</style>\n",
       "<table border=\"1\" class=\"dataframe\">\n",
       "  <thead>\n",
       "    <tr style=\"text-align: right;\">\n",
       "      <th></th>\n",
       "      <th>id</th>\n",
       "      <th>name</th>\n",
       "      <th>username</th>\n",
       "      <th>email</th>\n",
       "    </tr>\n",
       "  </thead>\n",
       "  <tbody>\n",
       "    <tr>\n",
       "      <th>0</th>\n",
       "      <td>998</td>\n",
       "      <td>hubrepo hubrepo</td>\n",
       "      <td>hubrepo</td>\n",
       "      <td>nkissebe@gmail.com</td>\n",
       "    </tr>\n",
       "    <tr>\n",
       "      <th>1</th>\n",
       "      <td>1000</td>\n",
       "      <td>CMS Admin Manager</td>\n",
       "      <td>admin</td>\n",
       "      <td>support@nanohub.org</td>\n",
       "    </tr>\n",
       "    <tr>\n",
       "      <th>2</th>\n",
       "      <td>1683</td>\n",
       "      <td>nanoHUB support</td>\n",
       "      <td>support</td>\n",
       "      <td>support@nanohub.org</td>\n",
       "    </tr>\n",
       "    <tr>\n",
       "      <th>3</th>\n",
       "      <td>1684</td>\n",
       "      <td>Grid Statistics</td>\n",
       "      <td>gridstat</td>\n",
       "      <td>gridstat@nanohub.org</td>\n",
       "    </tr>\n",
       "    <tr>\n",
       "      <th>4</th>\n",
       "      <td>1685</td>\n",
       "      <td>NCN NCN</td>\n",
       "      <td>ncn</td>\n",
       "      <td>ncn@nanohub.org</td>\n",
       "    </tr>\n",
       "  </tbody>\n",
       "</table>\n",
       "</div>"
      ],
      "text/plain": [
       "     id               name  username                 email\n",
       "0   998    hubrepo hubrepo   hubrepo    nkissebe@gmail.com\n",
       "1  1000  CMS Admin Manager     admin   support@nanohub.org\n",
       "2  1683    nanoHUB support   support   support@nanohub.org\n",
       "3  1684    Grid Statistics  gridstat  gridstat@nanohub.org\n",
       "4  1685            NCN NCN       ncn       ncn@nanohub.org"
      ]
     },
     "metadata": {},
     "output_type": "display_data"
    },
    {
     "name": "stdout",
     "output_type": "stream",
     "text": [
      "(248150, 4)\n"
     ]
    }
   ],
   "source": [
    "display(df.head(5))\n",
    "print(df.shape)"
   ]
  },
  {
   "cell_type": "markdown",
   "metadata": {},
   "source": [
    "## Find deleted DB2 folks via NH id "
   ]
  },
  {
   "cell_type": "code",
   "execution_count": 20,
   "metadata": {},
   "outputs": [
    {
     "name": "stdout",
     "output_type": "stream",
     "text": [
      "(233404, 4)\n"
     ]
    }
   ],
   "source": [
    "NH_ids_sf = NH_ids_sf.dropna()\n",
    "print(NH_ids_sf.shape)"
   ]
  },
  {
   "cell_type": "code",
   "execution_count": 53,
   "metadata": {},
   "outputs": [],
   "source": [
    "# crossref nh ids and sf nh id\n",
    "# reformat the SF nh ids as integers rather than floats\n",
    "nh_uids = NH_ids_sf['nanoHUB_user_ID__c'].apply(lambda x: int(x))\n",
    "nh_uids = nh_uids.tolist()"
   ]
  },
  {
   "cell_type": "code",
   "execution_count": 54,
   "metadata": {},
   "outputs": [],
   "source": [
    "db2_uids = df['id'].tolist()"
   ]
  },
  {
   "cell_type": "code",
   "execution_count": 82,
   "metadata": {},
   "outputs": [],
   "source": [
    "## find all SF NH_ids that are not in db2_uids\n",
    "temp = set(nh_uids).intersection(db2_uids) #set(db2_uids).intersection(nh_uids)\n",
    "temp_diff = set(nh_uids).difference(db2_uids) #set(db2_uids).difference(nh_uids)"
   ]
  },
  {
   "cell_type": "code",
   "execution_count": 83,
   "metadata": {},
   "outputs": [
    {
     "name": "stdout",
     "output_type": "stream",
     "text": [
      "233209\n",
      "195\n"
     ]
    }
   ],
   "source": [
    "print(len(temp))\n",
    "print(len(temp_diff))"
   ]
  },
  {
   "cell_type": "code",
   "execution_count": 84,
   "metadata": {},
   "outputs": [],
   "source": [
    "temp_diff = sorted(list(temp_diff))"
   ]
  },
  {
   "cell_type": "code",
   "execution_count": 85,
   "metadata": {},
   "outputs": [],
   "source": [
    "## map nh_id_val to corresponding NH_ids_sf dataframe's x row index"
   ]
  },
  {
   "cell_type": "code",
   "execution_count": 86,
   "metadata": {},
   "outputs": [
    {
     "name": "stdout",
     "output_type": "stream",
     "text": [
      "[8628, 10086, 10287, 10424, 10533, 10832, 12070, 12314, 20780, 20938, 23192, 28538, 28626, 31179, 32694, 35202, 35782, 41960, 44341, 45203]\n"
     ]
    }
   ],
   "source": [
    "print(temp_diff[:20])"
   ]
  },
  {
   "cell_type": "code",
   "execution_count": 87,
   "metadata": {},
   "outputs": [],
   "source": [
    "x_inds = []\n",
    "\n",
    "for i in temp_diff:\n",
    "    try:\n",
    "        x_inds.append(nh_uids.index(i))\n",
    "    except:\n",
    "        # duplicate emails so that index not there\n",
    "        tt_temp = 1"
   ]
  },
  {
   "cell_type": "code",
   "execution_count": 89,
   "metadata": {},
   "outputs": [
    {
     "name": "stdout",
     "output_type": "stream",
     "text": [
      "195\n"
     ]
    }
   ],
   "source": [
    "print(len(x_inds))"
   ]
  },
  {
   "cell_type": "code",
   "execution_count": 168,
   "metadata": {},
   "outputs": [
    {
     "data": {
      "text/html": [
       "<div>\n",
       "<style scoped>\n",
       "    .dataframe tbody tr th:only-of-type {\n",
       "        vertical-align: middle;\n",
       "    }\n",
       "\n",
       "    .dataframe tbody tr th {\n",
       "        vertical-align: top;\n",
       "    }\n",
       "\n",
       "    .dataframe thead th {\n",
       "        text-align: right;\n",
       "    }\n",
       "</style>\n",
       "<table border=\"1\" class=\"dataframe\">\n",
       "  <thead>\n",
       "    <tr style=\"text-align: right;\">\n",
       "      <th></th>\n",
       "      <th>index</th>\n",
       "      <th>Email</th>\n",
       "      <th>Id</th>\n",
       "      <th>Name</th>\n",
       "      <th>nanoHUB_user_ID__c</th>\n",
       "    </tr>\n",
       "  </thead>\n",
       "  <tbody>\n",
       "    <tr>\n",
       "      <th>0</th>\n",
       "      <td>101575</td>\n",
       "      <td>dwsievers@gmail.com</td>\n",
       "      <td>0035w000034JJcfAAG</td>\n",
       "      <td>D Sievers</td>\n",
       "      <td>8628.0</td>\n",
       "    </tr>\n",
       "    <tr>\n",
       "      <th>1</th>\n",
       "      <td>107389</td>\n",
       "      <td>anoshraj@gmail.com</td>\n",
       "      <td>0035w000034JL8XAAW</td>\n",
       "      <td>anosh raj</td>\n",
       "      <td>10086.0</td>\n",
       "    </tr>\n",
       "    <tr>\n",
       "      <th>2</th>\n",
       "      <td>107981</td>\n",
       "      <td>dlr@ee.wustl.edu</td>\n",
       "      <td>0035w000034JLI6AAO</td>\n",
       "      <td>dan rode</td>\n",
       "      <td>10287.0</td>\n",
       "    </tr>\n",
       "    <tr>\n",
       "      <th>3</th>\n",
       "      <td>108686</td>\n",
       "      <td>willsd@appstate.edu</td>\n",
       "      <td>0035w000034JLTTAA4</td>\n",
       "      <td>steve williams</td>\n",
       "      <td>10424.0</td>\n",
       "    </tr>\n",
       "    <tr>\n",
       "      <th>4</th>\n",
       "      <td>108795</td>\n",
       "      <td>hmadanian@gmail.com</td>\n",
       "      <td>0035w000034JLVEAA4</td>\n",
       "      <td>Jam gord</td>\n",
       "      <td>10533.0</td>\n",
       "    </tr>\n",
       "  </tbody>\n",
       "</table>\n",
       "</div>"
      ],
      "text/plain": [
       "    index                Email                  Id            Name  \\\n",
       "0  101575  dwsievers@gmail.com  0035w000034JJcfAAG       D Sievers   \n",
       "1  107389   anoshraj@gmail.com  0035w000034JL8XAAW       anosh raj   \n",
       "2  107981     dlr@ee.wustl.edu  0035w000034JLI6AAO        dan rode   \n",
       "3  108686  willsd@appstate.edu  0035w000034JLTTAA4  steve williams   \n",
       "4  108795  hmadanian@gmail.com  0035w000034JLVEAA4        Jam gord   \n",
       "\n",
       "   nanoHUB_user_ID__c  \n",
       "0              8628.0  \n",
       "1             10086.0  \n",
       "2             10287.0  \n",
       "3             10424.0  \n",
       "4             10533.0  "
      ]
     },
     "metadata": {},
     "output_type": "display_data"
    }
   ],
   "source": [
    "nh_dels_df = NH_ids_sf.iloc[x_inds,:].reset_index()\n",
    "display(nh_dels_df.head(5))"
   ]
  },
  {
   "cell_type": "code",
   "execution_count": 169,
   "metadata": {},
   "outputs": [
    {
     "data": {
      "text/html": [
       "<div>\n",
       "<style scoped>\n",
       "    .dataframe tbody tr th:only-of-type {\n",
       "        vertical-align: middle;\n",
       "    }\n",
       "\n",
       "    .dataframe tbody tr th {\n",
       "        vertical-align: top;\n",
       "    }\n",
       "\n",
       "    .dataframe thead th {\n",
       "        text-align: right;\n",
       "    }\n",
       "</style>\n",
       "<table border=\"1\" class=\"dataframe\">\n",
       "  <thead>\n",
       "    <tr style=\"text-align: right;\">\n",
       "      <th></th>\n",
       "      <th>Email</th>\n",
       "      <th>Id</th>\n",
       "      <th>Name</th>\n",
       "      <th>nanoHUB_user_ID__c</th>\n",
       "    </tr>\n",
       "  </thead>\n",
       "  <tbody>\n",
       "    <tr>\n",
       "      <th>0</th>\n",
       "      <td>dwsievers@gmail.com</td>\n",
       "      <td>0035w000034JJcfAAG</td>\n",
       "      <td>D Sievers</td>\n",
       "      <td>8628.0</td>\n",
       "    </tr>\n",
       "    <tr>\n",
       "      <th>1</th>\n",
       "      <td>anoshraj@gmail.com</td>\n",
       "      <td>0035w000034JL8XAAW</td>\n",
       "      <td>anosh raj</td>\n",
       "      <td>10086.0</td>\n",
       "    </tr>\n",
       "    <tr>\n",
       "      <th>2</th>\n",
       "      <td>dlr@ee.wustl.edu</td>\n",
       "      <td>0035w000034JLI6AAO</td>\n",
       "      <td>dan rode</td>\n",
       "      <td>10287.0</td>\n",
       "    </tr>\n",
       "    <tr>\n",
       "      <th>3</th>\n",
       "      <td>willsd@appstate.edu</td>\n",
       "      <td>0035w000034JLTTAA4</td>\n",
       "      <td>steve williams</td>\n",
       "      <td>10424.0</td>\n",
       "    </tr>\n",
       "    <tr>\n",
       "      <th>4</th>\n",
       "      <td>hmadanian@gmail.com</td>\n",
       "      <td>0035w000034JLVEAA4</td>\n",
       "      <td>Jam gord</td>\n",
       "      <td>10533.0</td>\n",
       "    </tr>\n",
       "  </tbody>\n",
       "</table>\n",
       "</div>"
      ],
      "text/plain": [
       "                 Email                  Id            Name  nanoHUB_user_ID__c\n",
       "0  dwsievers@gmail.com  0035w000034JJcfAAG       D Sievers              8628.0\n",
       "1   anoshraj@gmail.com  0035w000034JL8XAAW       anosh raj             10086.0\n",
       "2     dlr@ee.wustl.edu  0035w000034JLI6AAO        dan rode             10287.0\n",
       "3  willsd@appstate.edu  0035w000034JLTTAA4  steve williams             10424.0\n",
       "4  hmadanian@gmail.com  0035w000034JLVEAA4        Jam gord             10533.0"
      ]
     },
     "metadata": {},
     "output_type": "display_data"
    }
   ],
   "source": [
    "nh_dels_df = nh_dels_df.drop(columns=['index'])\n",
    "display(nh_dels_df.head(5))"
   ]
  },
  {
   "cell_type": "code",
   "execution_count": 170,
   "metadata": {},
   "outputs": [],
   "source": [
    "dels_emails = ['deleted_'+i for i in nh_dels_df['Email'].tolist()]\n",
    "# dels_names = ['deleted_'+i for i in nh_dels_df['Name'].tolist()]\n",
    "dels_nhids = nh_dels_df['nanoHUB_user_ID__c'].apply(lambda x: int(x))"
   ]
  },
  {
   "cell_type": "code",
   "execution_count": 171,
   "metadata": {},
   "outputs": [],
   "source": [
    "nh_dels_df['Email'] = dels_emails\n",
    "# nh_dels_df['Name'] = dels_names\n",
    "nh_dels_df['nanoHUB_user_ID__c'] = dels_nhids"
   ]
  },
  {
   "cell_type": "code",
   "execution_count": 172,
   "metadata": {},
   "outputs": [],
   "source": [
    "nh_dels_df = nh_dels_df.drop(columns=['Id','Name'])\n",
    "nh_dels_df['DB2_deleted__c'] = True"
   ]
  },
  {
   "cell_type": "code",
   "execution_count": 173,
   "metadata": {},
   "outputs": [
    {
     "data": {
      "text/html": [
       "<div>\n",
       "<style scoped>\n",
       "    .dataframe tbody tr th:only-of-type {\n",
       "        vertical-align: middle;\n",
       "    }\n",
       "\n",
       "    .dataframe tbody tr th {\n",
       "        vertical-align: top;\n",
       "    }\n",
       "\n",
       "    .dataframe thead th {\n",
       "        text-align: right;\n",
       "    }\n",
       "</style>\n",
       "<table border=\"1\" class=\"dataframe\">\n",
       "  <thead>\n",
       "    <tr style=\"text-align: right;\">\n",
       "      <th></th>\n",
       "      <th>Email</th>\n",
       "      <th>nanoHUB_user_ID__c</th>\n",
       "      <th>DB2_deleted__c</th>\n",
       "    </tr>\n",
       "  </thead>\n",
       "  <tbody>\n",
       "    <tr>\n",
       "      <th>0</th>\n",
       "      <td>deleted_dwsievers@gmail.com</td>\n",
       "      <td>8628</td>\n",
       "      <td>True</td>\n",
       "    </tr>\n",
       "    <tr>\n",
       "      <th>1</th>\n",
       "      <td>deleted_anoshraj@gmail.com</td>\n",
       "      <td>10086</td>\n",
       "      <td>True</td>\n",
       "    </tr>\n",
       "    <tr>\n",
       "      <th>2</th>\n",
       "      <td>deleted_dlr@ee.wustl.edu</td>\n",
       "      <td>10287</td>\n",
       "      <td>True</td>\n",
       "    </tr>\n",
       "    <tr>\n",
       "      <th>3</th>\n",
       "      <td>deleted_willsd@appstate.edu</td>\n",
       "      <td>10424</td>\n",
       "      <td>True</td>\n",
       "    </tr>\n",
       "    <tr>\n",
       "      <th>4</th>\n",
       "      <td>deleted_hmadanian@gmail.com</td>\n",
       "      <td>10533</td>\n",
       "      <td>True</td>\n",
       "    </tr>\n",
       "  </tbody>\n",
       "</table>\n",
       "</div>"
      ],
      "text/plain": [
       "                         Email  nanoHUB_user_ID__c  DB2_deleted__c\n",
       "0  deleted_dwsievers@gmail.com                8628            True\n",
       "1   deleted_anoshraj@gmail.com               10086            True\n",
       "2     deleted_dlr@ee.wustl.edu               10287            True\n",
       "3  deleted_willsd@appstate.edu               10424            True\n",
       "4  deleted_hmadanian@gmail.com               10533            True"
      ]
     },
     "metadata": {},
     "output_type": "display_data"
    }
   ],
   "source": [
    "display(nh_dels_df.head(5))"
   ]
  },
  {
   "cell_type": "markdown",
   "metadata": {},
   "source": [
    "## push results to SF"
   ]
  },
  {
   "cell_type": "code",
   "execution_count": 174,
   "metadata": {},
   "outputs": [
    {
     "name": "stdout",
     "output_type": "stream",
     "text": [
      "Obtained Salesforce access token ...... True\n"
     ]
    }
   ],
   "source": [
    "db_2 = salesforce"
   ]
  },
  {
   "cell_type": "code",
   "execution_count": 175,
   "metadata": {},
   "outputs": [],
   "source": [
    "db_2.object_id = 'Contact'\n",
    "db_2.external_id = 'nanoHUB_user_ID__c'"
   ]
  },
  {
   "cell_type": "code",
   "execution_count": 176,
   "metadata": {},
   "outputs": [
    {
     "name": "stdout",
     "output_type": "stream",
     "text": [
      "[Success] Bulk job creation successful. Job ID = 7505w00000VrWPTAA3\n",
      "hello\n",
      "[Success] CSV upload successful. Job ID = 7505w00000VrWPTAA3\n",
      "[Success] Closing job successful. Job ID = 7505w00000VrWPTAA3\n"
     ]
    }
   ],
   "source": [
    "db_2.send_data(nh_dels_df)"
   ]
  },
  {
   "cell_type": "code",
   "execution_count": 183,
   "metadata": {},
   "outputs": [
    {
     "data": {
      "text/plain": [
       "{'id': '7505w00000VrWPTAA3',\n",
       " 'operation': 'upsert',\n",
       " 'object': 'Contact',\n",
       " 'createdById': '0055w00000DM5bOAAT',\n",
       " 'createdDate': '2021-05-05T03:33:07.000+0000',\n",
       " 'systemModstamp': '2021-05-05T03:33:17.000+0000',\n",
       " 'state': 'JobComplete',\n",
       " 'externalIdFieldName': 'nanoHUB_user_ID__c',\n",
       " 'concurrencyMode': 'Parallel',\n",
       " 'contentType': 'CSV',\n",
       " 'apiVersion': 47.0,\n",
       " 'jobType': 'V2Ingest',\n",
       " 'lineEnding': 'LF',\n",
       " 'columnDelimiter': 'COMMA',\n",
       " 'numberRecordsProcessed': 195,\n",
       " 'numberRecordsFailed': 0,\n",
       " 'retries': 0,\n",
       " 'totalProcessingTime': 1997,\n",
       " 'apiActiveProcessingTime': 1840,\n",
       " 'apexProcessingTime': 784}"
      ]
     },
     "execution_count": 183,
     "metadata": {},
     "output_type": "execute_result"
    }
   ],
   "source": [
    "# check status\n",
    "db_2.check_bulk_status()"
   ]
  },
  {
   "cell_type": "code",
   "execution_count": 184,
   "metadata": {},
   "outputs": [
    {
     "name": "stdout",
     "output_type": "stream",
     "text": [
      "'\"sf__Id\",\"sf__Error\",DB2_deleted__c,Email,nanoHUB_user_ID__c\\n'\n"
     ]
    }
   ],
   "source": [
    "# check status\n",
    "from pprint import pprint\n",
    "\n",
    "pprint(db_2.check_bulk_failed_results())"
   ]
  },
  {
   "cell_type": "code",
   "execution_count": null,
   "metadata": {},
   "outputs": [],
   "source": []
  }
 ],
 "metadata": {
  "kernelspec": {
   "display_name": "Python 3",
   "language": "python",
   "name": "python3"
  },
  "language_info": {
   "codemirror_mode": {
    "name": "ipython",
    "version": 3
   },
   "file_extension": ".py",
   "mimetype": "text/x-python",
   "name": "python",
   "nbconvert_exporter": "python",
   "pygments_lexer": "ipython3",
   "version": "3.7.10"
  }
 },
 "nbformat": 4,
 "nbformat_minor": 4
}