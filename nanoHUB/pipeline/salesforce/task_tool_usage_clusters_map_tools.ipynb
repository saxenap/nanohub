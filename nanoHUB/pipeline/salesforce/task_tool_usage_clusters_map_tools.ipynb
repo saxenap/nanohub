{
 "cells": [
  {
   "cell_type": "markdown",
   "metadata": {
    "papermill": {
     "duration": 0.013087,
     "end_time": "2021-01-21T17:09:19.684759",
     "exception": false,
     "start_time": "2021-01-21T17:09:19.671672",
     "status": "completed"
    },
    "tags": []
   },
   "source": [
    "# DB2-Salesforce connector: Tool usage clusters mapping to tools"
   ]
  },
  {
   "cell_type": "code",
   "execution_count": 1,
   "metadata": {
    "execution": {
     "iopub.execute_input": "2021-01-21T17:09:19.713626Z",
     "iopub.status.busy": "2021-01-21T17:09:19.713002Z",
     "iopub.status.idle": "2021-01-21T17:09:19.715781Z",
     "shell.execute_reply": "2021-01-21T17:09:19.715266Z"
    },
    "papermill": {
     "duration": 0.01899,
     "end_time": "2021-01-21T17:09:19.715933",
     "exception": false,
     "start_time": "2021-01-21T17:09:19.696943",
     "status": "completed"
    },
    "tags": [
     "parameters"
    ]
   },
   "outputs": [],
   "source": [
    "# API settings\n",
    "api_url = '/services/data/v43.0/sobjects'\n",
    "external_id = 'Name'\n",
    "object_id = 'ToolToolClusterAssociation__c'\n",
    "\n",
    "from nanoHUB.pipeline.application import Application\n",
    "\n",
    "application = Application.get_instance()\n",
    "wang159_myrmekes_db = application.new_db_engine('wang159_myrmekes')\n",
    "\n",
    "\n",
    "salesforce = application.new_salesforce_engine()\n",
    "db_s = salesforce\n"
   ]
  },
  {
   "cell_type": "code",
   "execution_count": 2,
   "metadata": {
    "execution": {
     "iopub.execute_input": "2021-01-21T17:09:19.741108Z",
     "iopub.status.busy": "2021-01-21T17:09:19.740526Z",
     "iopub.status.idle": "2021-01-21T17:09:20.096874Z",
     "shell.execute_reply": "2021-01-21T17:09:20.097317Z"
    },
    "papermill": {
     "duration": 0.371055,
     "end_time": "2021-01-21T17:09:20.097498",
     "exception": false,
     "start_time": "2021-01-21T17:09:19.726443",
     "status": "completed"
    },
    "tags": []
   },
   "outputs": [],
   "source": [
    "import pandas as pd\n",
    "import time\n",
    "import datetime\n",
    "\n",
    "from DB2SalesforceAPI import DB2SalesforceAPI"
   ]
  },
  {
   "cell_type": "markdown",
   "metadata": {
    "papermill": {
     "duration": 0.010741,
     "end_time": "2021-01-21T17:09:20.119095",
     "exception": false,
     "start_time": "2021-01-21T17:09:20.108354",
     "status": "completed"
    },
    "tags": []
   },
   "source": [
    "## Obtain tool information from DB2 "
   ]
  },
  {
   "cell_type": "code",
   "execution_count": 3,
   "metadata": {
    "execution": {
     "iopub.execute_input": "2021-01-21T17:09:20.144775Z",
     "iopub.status.busy": "2021-01-21T17:09:20.144197Z",
     "iopub.status.idle": "2021-01-21T17:09:20.378269Z",
     "shell.execute_reply": "2021-01-21T17:09:20.377524Z"
    },
    "papermill": {
     "duration": 0.248758,
     "end_time": "2021-01-21T17:09:20.378467",
     "exception": false,
     "start_time": "2021-01-21T17:09:20.129709",
     "status": "completed"
    },
    "tags": []
   },
   "outputs": [],
   "source": [
    "\n",
    "classtool_info_df = pd.read_sql_query('select * from cluster_classtool_info', wang159_myrmekes_db)"
   ]
  },
  {
   "cell_type": "code",
   "execution_count": 4,
   "metadata": {
    "execution": {
     "iopub.execute_input": "2021-01-21T17:09:20.414109Z",
     "iopub.status.busy": "2021-01-21T17:09:20.411185Z",
     "iopub.status.idle": "2021-01-21T17:09:20.417169Z",
     "shell.execute_reply": "2021-01-21T17:09:20.417577Z"
    },
    "papermill": {
     "duration": 0.02872,
     "end_time": "2021-01-21T17:09:20.417739",
     "exception": false,
     "start_time": "2021-01-21T17:09:20.389019",
     "status": "completed"
    },
    "tags": []
   },
   "outputs": [
    {
     "data": {
      "text/html": [
       "<div>\n",
       "<style scoped>\n",
       "    .dataframe tbody tr th:only-of-type {\n",
       "        vertical-align: middle;\n",
       "    }\n",
       "\n",
       "    .dataframe tbody tr th {\n",
       "        vertical-align: top;\n",
       "    }\n",
       "\n",
       "    .dataframe thead th {\n",
       "        text-align: right;\n",
       "    }\n",
       "</style>\n",
       "<table border=\"1\" class=\"dataframe\">\n",
       "  <thead>\n",
       "    <tr style=\"text-align: right;\">\n",
       "      <th></th>\n",
       "      <th>index</th>\n",
       "      <th>toolname</th>\n",
       "      <th>class_id</th>\n",
       "    </tr>\n",
       "  </thead>\n",
       "  <tbody>\n",
       "    <tr>\n",
       "      <th>0</th>\n",
       "      <td>0</td>\n",
       "      <td>geneticalgo</td>\n",
       "      <td>0</td>\n",
       "    </tr>\n",
       "    <tr>\n",
       "      <th>1</th>\n",
       "      <td>1</td>\n",
       "      <td>geneticalgo</td>\n",
       "      <td>1</td>\n",
       "    </tr>\n",
       "    <tr>\n",
       "      <th>2</th>\n",
       "      <td>2</td>\n",
       "      <td>geneticalgo</td>\n",
       "      <td>2</td>\n",
       "    </tr>\n",
       "  </tbody>\n",
       "</table>\n",
       "</div>"
      ],
      "text/plain": [
       "   index     toolname  class_id\n",
       "0      0  geneticalgo         0\n",
       "1      1  geneticalgo         1\n",
       "2      2  geneticalgo         2"
      ]
     },
     "execution_count": 4,
     "metadata": {},
     "output_type": "execute_result"
    }
   ],
   "source": [
    "classtool_info_df.head(3)"
   ]
  },
  {
   "cell_type": "markdown",
   "metadata": {
    "papermill": {
     "duration": 0.010362,
     "end_time": "2021-01-21T17:09:20.440720",
     "exception": false,
     "start_time": "2021-01-21T17:09:20.430358",
     "status": "completed"
    },
    "tags": []
   },
   "source": [
    "## Obtain Salesforce IDs"
   ]
  },
  {
   "cell_type": "code",
   "execution_count": 6,
   "metadata": {
    "execution": {
     "iopub.execute_input": "2021-01-21T17:09:20.827651Z",
     "iopub.status.busy": "2021-01-21T17:09:20.827096Z",
     "iopub.status.idle": "2021-01-21T17:09:53.149637Z",
     "shell.execute_reply": "2021-01-21T17:09:53.149166Z"
    },
    "papermill": {
     "duration": 32.337621,
     "end_time": "2021-01-21T17:09:53.149774",
     "exception": false,
     "start_time": "2021-01-21T17:09:20.812153",
     "status": "completed"
    },
    "tags": []
   },
   "outputs": [
    {
     "name": "stdout",
     "output_type": "stream",
     "text": [
      "[Success] Bulk job creation successful. Job ID = 7505w00000TmOs9AAF\n",
      "{\"id\":\"7505w00000TmOs9AAF\",\"operation\":\"query\",\"object\":\"nanoHUB_tools__c\",\"createdById\":\"0055w00000DM5bOAAT\",\"createdDate\":\"2021-01-21T17:09:20.000+0000\",\"systemModstamp\":\"2021-01-21T17:09:20.000+0000\",\"state\":\"UploadComplete\",\"concurrencyMode\":\"Parallel\",\"contentType\":\"CSV\",\"apiVersion\":47.0,\"jobType\":\"V2Query\",\"lineEnding\":\"LF\",\"columnDelimiter\":\"COMMA\",\"retries\":0,\"totalProcessingTime\":0}\n",
      "{\"id\":\"7505w00000TmOs9AAF\",\"operation\":\"query\",\"object\":\"nanoHUB_tools__c\",\"createdById\":\"0055w00000DM5bOAAT\",\"createdDate\":\"2021-01-21T17:09:20.000+0000\",\"systemModstamp\":\"2021-01-21T17:09:20.000+0000\",\"state\":\"UploadComplete\",\"concurrencyMode\":\"Parallel\",\"contentType\":\"CSV\",\"apiVersion\":47.0,\"jobType\":\"V2Query\",\"lineEnding\":\"LF\",\"columnDelimiter\":\"COMMA\",\"retries\":0,\"totalProcessingTime\":0}\n",
      "{\"id\":\"7505w00000TmOs9AAF\",\"operation\":\"query\",\"object\":\"nanoHUB_tools__c\",\"createdById\":\"0055w00000DM5bOAAT\",\"createdDate\":\"2021-01-21T17:09:20.000+0000\",\"systemModstamp\":\"2021-01-21T17:09:41.000+0000\",\"state\":\"InProgress\",\"concurrencyMode\":\"Parallel\",\"contentType\":\"CSV\",\"apiVersion\":47.0,\"jobType\":\"V2Query\",\"lineEnding\":\"LF\",\"columnDelimiter\":\"COMMA\",\"numberRecordsProcessed\":0,\"retries\":0,\"totalProcessingTime\":0}\n",
      "{\"id\":\"7505w00000TmOs9AAF\",\"operation\":\"query\",\"object\":\"nanoHUB_tools__c\",\"createdById\":\"0055w00000DM5bOAAT\",\"createdDate\":\"2021-01-21T17:09:20.000+0000\",\"systemModstamp\":\"2021-01-21T17:09:47.000+0000\",\"state\":\"JobComplete\",\"concurrencyMode\":\"Parallel\",\"contentType\":\"CSV\",\"apiVersion\":47.0,\"jobType\":\"V2Query\",\"lineEnding\":\"LF\",\"columnDelimiter\":\"COMMA\",\"numberRecordsProcessed\":1693,\"retries\":0,\"totalProcessingTime\":218}\n",
      "[Success] Bulk job completed successfully.\n"
     ]
    }
   ],
   "source": [
    "# query the Salesforce IDs for contacts and citations. when updating junction objects, these IDs must be used\n",
    "\n",
    "# get Salesforce ID for contacts\n",
    "sf_toolname_df = db_s.query_data('SELECT Id, Tool_name__c FROM nanoHUB_tools__c where Tool_name__c != NULL')"
   ]
  },
  {
   "cell_type": "code",
   "execution_count": 7,
   "metadata": {
    "execution": {
     "iopub.execute_input": "2021-01-21T17:09:53.180860Z",
     "iopub.status.busy": "2021-01-21T17:09:53.180229Z",
     "iopub.status.idle": "2021-01-21T17:10:36.081432Z",
     "shell.execute_reply": "2021-01-21T17:10:36.081891Z"
    },
    "papermill": {
     "duration": 42.919686,
     "end_time": "2021-01-21T17:10:36.082073",
     "exception": false,
     "start_time": "2021-01-21T17:09:53.162387",
     "status": "completed"
    },
    "tags": []
   },
   "outputs": [
    {
     "name": "stdout",
     "output_type": "stream",
     "text": [
      "[Success] Bulk job creation successful. Job ID = 7505w00000TmOsOAAV\n",
      "{\"id\":\"7505w00000TmOsOAAV\",\"operation\":\"query\",\"object\":\"tool_usage_cluster__c\",\"createdById\":\"0055w00000DM5bOAAT\",\"createdDate\":\"2021-01-21T17:09:53.000+0000\",\"systemModstamp\":\"2021-01-21T17:09:53.000+0000\",\"state\":\"UploadComplete\",\"concurrencyMode\":\"Parallel\",\"contentType\":\"CSV\",\"apiVersion\":47.0,\"jobType\":\"V2Query\",\"lineEnding\":\"LF\",\"columnDelimiter\":\"COMMA\",\"retries\":0,\"totalProcessingTime\":0}\n",
      "{\"id\":\"7505w00000TmOsOAAV\",\"operation\":\"query\",\"object\":\"tool_usage_cluster__c\",\"createdById\":\"0055w00000DM5bOAAT\",\"createdDate\":\"2021-01-21T17:09:53.000+0000\",\"systemModstamp\":\"2021-01-21T17:09:53.000+0000\",\"state\":\"UploadComplete\",\"concurrencyMode\":\"Parallel\",\"contentType\":\"CSV\",\"apiVersion\":47.0,\"jobType\":\"V2Query\",\"lineEnding\":\"LF\",\"columnDelimiter\":\"COMMA\",\"retries\":0,\"totalProcessingTime\":0}\n",
      "{\"id\":\"7505w00000TmOsOAAV\",\"operation\":\"query\",\"object\":\"tool_usage_cluster__c\",\"createdById\":\"0055w00000DM5bOAAT\",\"createdDate\":\"2021-01-21T17:09:53.000+0000\",\"systemModstamp\":\"2021-01-21T17:09:53.000+0000\",\"state\":\"UploadComplete\",\"concurrencyMode\":\"Parallel\",\"contentType\":\"CSV\",\"apiVersion\":47.0,\"jobType\":\"V2Query\",\"lineEnding\":\"LF\",\"columnDelimiter\":\"COMMA\",\"retries\":0,\"totalProcessingTime\":0}\n",
      "{\"id\":\"7505w00000TmOsOAAV\",\"operation\":\"query\",\"object\":\"tool_usage_cluster__c\",\"createdById\":\"0055w00000DM5bOAAT\",\"createdDate\":\"2021-01-21T17:09:53.000+0000\",\"systemModstamp\":\"2021-01-21T17:09:53.000+0000\",\"state\":\"UploadComplete\",\"concurrencyMode\":\"Parallel\",\"contentType\":\"CSV\",\"apiVersion\":47.0,\"jobType\":\"V2Query\",\"lineEnding\":\"LF\",\"columnDelimiter\":\"COMMA\",\"retries\":0,\"totalProcessingTime\":0}\n",
      "{\"id\":\"7505w00000TmOsOAAV\",\"operation\":\"query\",\"object\":\"tool_usage_cluster__c\",\"createdById\":\"0055w00000DM5bOAAT\",\"createdDate\":\"2021-01-21T17:09:53.000+0000\",\"systemModstamp\":\"2021-01-21T17:10:28.000+0000\",\"state\":\"JobComplete\",\"concurrencyMode\":\"Parallel\",\"contentType\":\"CSV\",\"apiVersion\":47.0,\"jobType\":\"V2Query\",\"lineEnding\":\"LF\",\"columnDelimiter\":\"COMMA\",\"numberRecordsProcessed\":3944,\"retries\":0,\"totalProcessingTime\":376}\n",
      "[Success] Bulk job completed successfully.\n"
     ]
    }
   ],
   "source": [
    "# get Salesforce ID for citations\n",
    "sf_clusterID_df = db_s.query_data('SELECT Id, ID__c FROM tool_usage_cluster__c')\n",
    "\n",
    "sf_clusterID_df['ID__c'] = sf_clusterID_df['ID__c'].astype('int')"
   ]
  },
  {
   "cell_type": "markdown",
   "metadata": {
    "papermill": {
     "duration": 0.01444,
     "end_time": "2021-01-21T17:10:36.111060",
     "exception": false,
     "start_time": "2021-01-21T17:10:36.096620",
     "status": "completed"
    },
    "tags": []
   },
   "source": [
    "## Match data with Salesforce format"
   ]
  },
  {
   "cell_type": "code",
   "execution_count": 8,
   "metadata": {
    "execution": {
     "iopub.execute_input": "2021-01-21T17:10:36.145727Z",
     "iopub.status.busy": "2021-01-21T17:10:36.145146Z",
     "iopub.status.idle": "2021-01-21T17:10:36.156459Z",
     "shell.execute_reply": "2021-01-21T17:10:36.157160Z"
    },
    "papermill": {
     "duration": 0.032886,
     "end_time": "2021-01-21T17:10:36.157319",
     "exception": false,
     "start_time": "2021-01-21T17:10:36.124433",
     "status": "completed"
    },
    "tags": []
   },
   "outputs": [
    {
     "data": {
      "text/html": [
       "<div>\n",
       "<style scoped>\n",
       "    .dataframe tbody tr th:only-of-type {\n",
       "        vertical-align: middle;\n",
       "    }\n",
       "\n",
       "    .dataframe tbody tr th {\n",
       "        vertical-align: top;\n",
       "    }\n",
       "\n",
       "    .dataframe thead th {\n",
       "        text-align: right;\n",
       "    }\n",
       "</style>\n",
       "<table border=\"1\" class=\"dataframe\">\n",
       "  <thead>\n",
       "    <tr style=\"text-align: right;\">\n",
       "      <th></th>\n",
       "      <th>index</th>\n",
       "      <th>toolname</th>\n",
       "      <th>class_id</th>\n",
       "    </tr>\n",
       "  </thead>\n",
       "  <tbody>\n",
       "    <tr>\n",
       "      <th>0</th>\n",
       "      <td>0</td>\n",
       "      <td>geneticalgo</td>\n",
       "      <td>0</td>\n",
       "    </tr>\n",
       "    <tr>\n",
       "      <th>1</th>\n",
       "      <td>1</td>\n",
       "      <td>geneticalgo</td>\n",
       "      <td>1</td>\n",
       "    </tr>\n",
       "  </tbody>\n",
       "</table>\n",
       "</div>"
      ],
      "text/plain": [
       "   index     toolname  class_id\n",
       "0      0  geneticalgo         0\n",
       "1      1  geneticalgo         1"
      ]
     },
     "metadata": {},
     "output_type": "display_data"
    },
    {
     "data": {
      "text/html": [
       "<div>\n",
       "<style scoped>\n",
       "    .dataframe tbody tr th:only-of-type {\n",
       "        vertical-align: middle;\n",
       "    }\n",
       "\n",
       "    .dataframe tbody tr th {\n",
       "        vertical-align: top;\n",
       "    }\n",
       "\n",
       "    .dataframe thead th {\n",
       "        text-align: right;\n",
       "    }\n",
       "</style>\n",
       "<table border=\"1\" class=\"dataframe\">\n",
       "  <thead>\n",
       "    <tr style=\"text-align: right;\">\n",
       "      <th></th>\n",
       "      <th>Id</th>\n",
       "      <th>Tool_name__c</th>\n",
       "    </tr>\n",
       "  </thead>\n",
       "  <tbody>\n",
       "    <tr>\n",
       "      <th>0</th>\n",
       "      <td>a0s5w00000k5MOwAAM</td>\n",
       "      <td>ellipsom</td>\n",
       "    </tr>\n",
       "    <tr>\n",
       "      <th>1</th>\n",
       "      <td>a0s5w00000k5MOxAAM</td>\n",
       "      <td>hydrolab</td>\n",
       "    </tr>\n",
       "  </tbody>\n",
       "</table>\n",
       "</div>"
      ],
      "text/plain": [
       "                   Id Tool_name__c\n",
       "0  a0s5w00000k5MOwAAM     ellipsom\n",
       "1  a0s5w00000k5MOxAAM     hydrolab"
      ]
     },
     "metadata": {},
     "output_type": "display_data"
    },
    {
     "data": {
      "text/html": [
       "<div>\n",
       "<style scoped>\n",
       "    .dataframe tbody tr th:only-of-type {\n",
       "        vertical-align: middle;\n",
       "    }\n",
       "\n",
       "    .dataframe tbody tr th {\n",
       "        vertical-align: top;\n",
       "    }\n",
       "\n",
       "    .dataframe thead th {\n",
       "        text-align: right;\n",
       "    }\n",
       "</style>\n",
       "<table border=\"1\" class=\"dataframe\">\n",
       "  <thead>\n",
       "    <tr style=\"text-align: right;\">\n",
       "      <th></th>\n",
       "      <th>ID__c</th>\n",
       "      <th>Id</th>\n",
       "    </tr>\n",
       "  </thead>\n",
       "  <tbody>\n",
       "    <tr>\n",
       "      <th>0</th>\n",
       "      <td>4</td>\n",
       "      <td>a0w5w000009Q7CuAAK</td>\n",
       "    </tr>\n",
       "    <tr>\n",
       "      <th>1</th>\n",
       "      <td>5</td>\n",
       "      <td>a0w5w000009Q7CvAAK</td>\n",
       "    </tr>\n",
       "  </tbody>\n",
       "</table>\n",
       "</div>"
      ],
      "text/plain": [
       "   ID__c                  Id\n",
       "0      4  a0w5w000009Q7CuAAK\n",
       "1      5  a0w5w000009Q7CvAAK"
      ]
     },
     "metadata": {},
     "output_type": "display_data"
    }
   ],
   "source": [
    "# Display\n",
    "display(classtool_info_df.head(2))\n",
    "display(sf_toolname_df.head(2))\n",
    "display(sf_clusterID_df.head(2))"
   ]
  },
  {
   "cell_type": "code",
   "execution_count": 9,
   "metadata": {
    "execution": {
     "iopub.execute_input": "2021-01-21T17:10:36.194996Z",
     "iopub.status.busy": "2021-01-21T17:10:36.194266Z",
     "iopub.status.idle": "2021-01-21T17:10:36.214305Z",
     "shell.execute_reply": "2021-01-21T17:10:36.214710Z"
    },
    "papermill": {
     "duration": 0.041617,
     "end_time": "2021-01-21T17:10:36.214883",
     "exception": false,
     "start_time": "2021-01-21T17:10:36.173266",
     "status": "completed"
    },
    "tags": []
   },
   "outputs": [
    {
     "data": {
      "text/html": [
       "<div>\n",
       "<style scoped>\n",
       "    .dataframe tbody tr th:only-of-type {\n",
       "        vertical-align: middle;\n",
       "    }\n",
       "\n",
       "    .dataframe tbody tr th {\n",
       "        vertical-align: top;\n",
       "    }\n",
       "\n",
       "    .dataframe thead th {\n",
       "        text-align: right;\n",
       "    }\n",
       "</style>\n",
       "<table border=\"1\" class=\"dataframe\">\n",
       "  <thead>\n",
       "    <tr style=\"text-align: right;\">\n",
       "      <th></th>\n",
       "      <th>index</th>\n",
       "      <th>toolname</th>\n",
       "      <th>class_id</th>\n",
       "      <th>SF_ID_tool</th>\n",
       "      <th>Tool_name__c</th>\n",
       "      <th>ID__c</th>\n",
       "      <th>SF_ID_cluster</th>\n",
       "    </tr>\n",
       "  </thead>\n",
       "  <tbody>\n",
       "    <tr>\n",
       "      <th>0</th>\n",
       "      <td>0</td>\n",
       "      <td>geneticalgo</td>\n",
       "      <td>0</td>\n",
       "      <td>a0s5w00000k5MXTAA2</td>\n",
       "      <td>geneticalgo</td>\n",
       "      <td>0</td>\n",
       "      <td>a0w5w00000A8U1UAAV</td>\n",
       "    </tr>\n",
       "    <tr>\n",
       "      <th>1</th>\n",
       "      <td>1</td>\n",
       "      <td>geneticalgo</td>\n",
       "      <td>1</td>\n",
       "      <td>a0s5w00000k5MXTAA2</td>\n",
       "      <td>geneticalgo</td>\n",
       "      <td>1</td>\n",
       "      <td>a0w5w00000A8OFeAAN</td>\n",
       "    </tr>\n",
       "  </tbody>\n",
       "</table>\n",
       "</div>"
      ],
      "text/plain": [
       "   index     toolname  class_id          SF_ID_tool Tool_name__c  ID__c  \\\n",
       "0      0  geneticalgo         0  a0s5w00000k5MXTAA2  geneticalgo      0   \n",
       "1      1  geneticalgo         1  a0s5w00000k5MXTAA2  geneticalgo      1   \n",
       "\n",
       "        SF_ID_cluster  \n",
       "0  a0w5w00000A8U1UAAV  \n",
       "1  a0w5w00000A8OFeAAN  "
      ]
     },
     "execution_count": 9,
     "metadata": {},
     "output_type": "execute_result"
    }
   ],
   "source": [
    "# merge dataframes\n",
    "ct_tolink_df = pd.merge(classtool_info_df, sf_toolname_df, how='inner', left_on='toolname', right_on='Tool_name__c')\\\n",
    "                           .rename(columns={'Id':'SF_ID_tool'})\n",
    "\n",
    "ct_tolink_df = pd.merge(ct_tolink_df, sf_clusterID_df, how='inner', left_on='class_id', right_on='ID__c')\\\n",
    "                           .rename(columns={'Id':'SF_ID_cluster'})\n",
    "\n",
    "# display\n",
    "ct_tolink_df.head(2)"
   ]
  },
  {
   "cell_type": "code",
   "execution_count": 10,
   "metadata": {
    "execution": {
     "iopub.execute_input": "2021-01-21T17:10:36.250577Z",
     "iopub.status.busy": "2021-01-21T17:10:36.250015Z",
     "iopub.status.idle": "2021-01-21T17:10:36.469715Z",
     "shell.execute_reply": "2021-01-21T17:10:36.469213Z"
    },
    "papermill": {
     "duration": 0.239378,
     "end_time": "2021-01-21T17:10:36.469871",
     "exception": false,
     "start_time": "2021-01-21T17:10:36.230493",
     "status": "completed"
    },
    "tags": []
   },
   "outputs": [],
   "source": [
    "# create a new column for object name\n",
    "ct_tolink_df['Name'] = ct_tolink_df.apply(lambda x: '%s_%d'%(x.Tool_name__c, x.ID__c), axis=1)"
   ]
  },
  {
   "cell_type": "code",
   "execution_count": 11,
   "metadata": {
    "execution": {
     "iopub.execute_input": "2021-01-21T17:10:36.514480Z",
     "iopub.status.busy": "2021-01-21T17:10:36.508706Z",
     "iopub.status.idle": "2021-01-21T17:10:36.520087Z",
     "shell.execute_reply": "2021-01-21T17:10:36.520552Z"
    },
    "papermill": {
     "duration": 0.034996,
     "end_time": "2021-01-21T17:10:36.520705",
     "exception": false,
     "start_time": "2021-01-21T17:10:36.485709",
     "status": "completed"
    },
    "tags": []
   },
   "outputs": [
    {
     "data": {
      "text/html": [
       "<div>\n",
       "<style scoped>\n",
       "    .dataframe tbody tr th:only-of-type {\n",
       "        vertical-align: middle;\n",
       "    }\n",
       "\n",
       "    .dataframe tbody tr th {\n",
       "        vertical-align: top;\n",
       "    }\n",
       "\n",
       "    .dataframe thead th {\n",
       "        text-align: right;\n",
       "    }\n",
       "</style>\n",
       "<table border=\"1\" class=\"dataframe\">\n",
       "  <thead>\n",
       "    <tr style=\"text-align: right;\">\n",
       "      <th></th>\n",
       "      <th>0</th>\n",
       "      <th>1</th>\n",
       "    </tr>\n",
       "  </thead>\n",
       "  <tbody>\n",
       "    <tr>\n",
       "      <th>Name</th>\n",
       "      <td>geneticalgo_0</td>\n",
       "      <td>geneticalgo_1</td>\n",
       "    </tr>\n",
       "    <tr>\n",
       "      <th>Tool__c</th>\n",
       "      <td>a0s5w00000k5MXTAA2</td>\n",
       "      <td>a0s5w00000k5MXTAA2</td>\n",
       "    </tr>\n",
       "    <tr>\n",
       "      <th>Tool_Usage_Cluster__c</th>\n",
       "      <td>a0w5w00000A8U1UAAV</td>\n",
       "      <td>a0w5w00000A8OFeAAN</td>\n",
       "    </tr>\n",
       "  </tbody>\n",
       "</table>\n",
       "</div>"
      ],
      "text/plain": [
       "                                        0                   1\n",
       "Name                        geneticalgo_0       geneticalgo_1\n",
       "Tool__c                a0s5w00000k5MXTAA2  a0s5w00000k5MXTAA2\n",
       "Tool_Usage_Cluster__c  a0w5w00000A8U1UAAV  a0w5w00000A8OFeAAN"
      ]
     },
     "metadata": {},
     "output_type": "display_data"
    },
    {
     "data": {
      "text/plain": [
       "'Total rows: '"
      ]
     },
     "metadata": {},
     "output_type": "display_data"
    },
    {
     "data": {
      "text/plain": [
       "6002"
      ]
     },
     "metadata": {},
     "output_type": "display_data"
    }
   ],
   "source": [
    "df_sf = pd.DataFrame()\n",
    "\n",
    "# Make sure NaN and NaT values are taken care of here\n",
    "df_sf['Name']         = ct_tolink_df['Name']\n",
    "df_sf['Tool__c'] = ct_tolink_df['SF_ID_tool']\n",
    "df_sf['Tool_Usage_Cluster__c'] = ct_tolink_df['SF_ID_cluster']\n",
    "\n",
    "sf_original_fields = df_sf.columns\n",
    "\n",
    "# display\n",
    "display(df_sf.head(2).T)\n",
    "display('Total rows: ', df_sf.shape[0])"
   ]
  },
  {
   "cell_type": "markdown",
   "metadata": {
    "papermill": {
     "duration": 0.016503,
     "end_time": "2021-01-21T17:10:36.553432",
     "exception": false,
     "start_time": "2021-01-21T17:10:36.536929",
     "status": "completed"
    },
    "tags": []
   },
   "source": [
    "## To Salesforce Sales Cloud CRM"
   ]
  },
  {
   "cell_type": "code",
   "execution_count": 12,
   "metadata": {
    "execution": {
     "iopub.execute_input": "2021-01-21T17:10:36.590588Z",
     "iopub.status.busy": "2021-01-21T17:10:36.590039Z",
     "iopub.status.idle": "2021-01-21T17:10:36.973191Z",
     "shell.execute_reply": "2021-01-21T17:10:36.973627Z"
    },
    "papermill": {
     "duration": 0.404279,
     "end_time": "2021-01-21T17:10:36.973791",
     "exception": false,
     "start_time": "2021-01-21T17:10:36.569512",
     "status": "completed"
    },
    "tags": []
   },
   "outputs": [
    {
     "name": "stdout",
     "output_type": "stream",
     "text": [
      "Obtained Salesforce access token ...... True\n"
     ]
    }
   ],
   "source": [
    "# specify Salesforce object ID and external ID\n",
    "db_s.object_id = object_id\n",
    "db_s.external_id = external_id"
   ]
  },
  {
   "cell_type": "code",
   "execution_count": 13,
   "metadata": {
    "execution": {
     "iopub.execute_input": "2021-01-21T17:10:37.011078Z",
     "iopub.status.busy": "2021-01-21T17:10:37.010511Z",
     "iopub.status.idle": "2021-01-21T17:10:38.260863Z",
     "shell.execute_reply": "2021-01-21T17:10:38.260220Z"
    },
    "papermill": {
     "duration": 1.270705,
     "end_time": "2021-01-21T17:10:38.261002",
     "exception": false,
     "start_time": "2021-01-21T17:10:36.990297",
     "status": "completed"
    },
    "tags": []
   },
   "outputs": [
    {
     "name": "stdout",
     "output_type": "stream",
     "text": [
      "[Success] Bulk job creation successful. Job ID = 7505w00000TmOsiAAF\n",
      "hello\n",
      "[Success] CSV upload successful. Job ID = 7505w00000TmOsiAAF\n",
      "[Success] Closing job successful. Job ID = 7505w00000TmOsiAAF\n"
     ]
    }
   ],
   "source": [
    "# send data to Salesforce\n",
    "db_s.send_data(df_sf)"
   ]
  },
  {
   "cell_type": "code",
   "execution_count": 14,
   "metadata": {
    "execution": {
     "iopub.execute_input": "2021-01-21T17:10:38.303164Z",
     "iopub.status.busy": "2021-01-21T17:10:38.302590Z",
     "iopub.status.idle": "2021-01-21T17:10:38.788215Z",
     "shell.execute_reply": "2021-01-21T17:10:38.788664Z"
    },
    "papermill": {
     "duration": 0.508522,
     "end_time": "2021-01-21T17:10:38.788847",
     "exception": false,
     "start_time": "2021-01-21T17:10:38.280325",
     "status": "completed"
    },
    "tags": []
   },
   "outputs": [
    {
     "name": "stdout",
     "output_type": "stream",
     "text": [
      "{'apexProcessingTime': 0,\n",
      " 'apiActiveProcessingTime': 0,\n",
      " 'apiVersion': 47.0,\n",
      " 'columnDelimiter': 'COMMA',\n",
      " 'concurrencyMode': 'Parallel',\n",
      " 'contentType': 'CSV',\n",
      " 'createdById': '0055w00000DM5bOAAT',\n",
      " 'createdDate': '2021-01-21T17:10:37.000+0000',\n",
      " 'externalIdFieldName': 'Name',\n",
      " 'id': '7505w00000TmOsiAAF',\n",
      " 'jobType': 'V2Ingest',\n",
      " 'lineEnding': 'LF',\n",
      " 'numberRecordsFailed': 0,\n",
      " 'numberRecordsProcessed': 0,\n",
      " 'object': 'ToolToolClusterAssociation__c',\n",
      " 'operation': 'upsert',\n",
      " 'retries': 0,\n",
      " 'state': 'UploadComplete',\n",
      " 'systemModstamp': '2021-01-21T17:10:37.000+0000',\n",
      " 'totalProcessingTime': 0}\n"
     ]
    }
   ],
   "source": [
    "# check status\n",
    "from pprint import pprint\n",
    "\n",
    "pprint(db_s.check_bulk_status())"
   ]
  },
  {
   "cell_type": "code",
   "execution_count": null,
   "metadata": {
    "papermill": {
     "duration": 0.017226,
     "end_time": "2021-01-21T17:10:38.824377",
     "exception": false,
     "start_time": "2021-01-21T17:10:38.807151",
     "status": "completed"
    },
    "tags": []
   },
   "outputs": [],
   "source": []
  }
 ],
 "metadata": {
  "celltoolbar": "Tags",
  "kernelspec": {
   "display_name": "Python 3",
   "language": "python",
   "name": "python3"
  },
  "language_info": {
   "codemirror_mode": {
    "name": "ipython",
    "version": 3
   },
   "file_extension": ".py",
   "mimetype": "text/x-python",
   "name": "python",
   "nbconvert_exporter": "python",
   "pygments_lexer": "ipython3",
   "version": "3.7.10"
  },
  "papermill": {
   "duration": 80.304961,
   "end_time": "2021-01-21T17:10:39.149916",
   "environment_variables": {},
   "exception": null,
   "input_path": "/home/users/wang2506/nanohub_salesforce_integ/salesforce/task_tool_usage_clusters_map_tools.ipynb",
   "output_path": "/home/users/wang2506/nanohub_salesforce_integ/salesforce/task_tool_usage_clusters_map_tools.ipynb",
   "parameters": {},
   "start_time": "2021-01-21T17:09:18.844955",
   "version": "2.1.1"
  }
 },
 "nbformat": 4,
 "nbformat_minor": 4
}