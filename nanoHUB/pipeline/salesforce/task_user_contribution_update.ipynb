{
 "cells": [
  {
   "cell_type": "markdown",
   "metadata": {},
   "source": [
    "## update user contributions\n"
   ]
  },
  {
   "cell_type": "code",
   "execution_count": 8,
   "metadata": {
    "execution": {
     "iopub.execute_input": "2021-10-27T18:59:15.612010Z",
     "iopub.status.busy": "2021-10-27T18:59:15.611196Z",
     "iopub.status.idle": "2021-10-27T18:59:15.617434Z",
     "shell.execute_reply": "2021-10-27T18:59:15.615192Z",
     "shell.execute_reply.started": "2021-10-27T18:59:15.611983Z"
    }
   },
   "outputs": [],
   "source": [
    "## should do this on a monthly basis because 1) this is will quickly use up BULK API's allotted quantity\n",
    "## and 2) db2 only updates some usage numbers on a yearly or monthly basis\n",
    "\n",
    "## currently this script takes over 25 minutes to upload to SF"
   ]
  },
  {
   "cell_type": "code",
   "execution_count": 9,
   "metadata": {
    "execution": {
     "iopub.execute_input": "2021-10-27T18:59:15.626171Z",
     "iopub.status.busy": "2021-10-27T18:59:15.625772Z",
     "iopub.status.idle": "2021-10-27T18:59:17.237338Z",
     "shell.execute_reply": "2021-10-27T18:59:17.236661Z",
     "shell.execute_reply.started": "2021-10-27T18:59:15.626148Z"
    }
   },
   "outputs": [
    {
     "name": "stdout",
     "output_type": "stream",
     "text": [
      "\u001B[1mnanoHUB - Serving Students, Researchers & Instructors\u001B[0m\n",
      "Obtained Salesforce access token ...... True\n"
     ]
    }
   ],
   "source": [
    "# API settings\n",
    "api_url = '/services/data/v43.0/sobjects'\n",
    "external_id = 'Name'\n",
    "#object_id = 'ContactToolAssociation__c'\n",
    "\n",
    "# login parameters to be handled by Papermill\n",
    "from nanoHUB.application import Application\n",
    "\n",
    "application = Application.get_instance()\n",
    "nanohub_db = application.new_db_engine('nanohub')\n",
    "nanohub_metrics_db = application.new_db_engine('nanohub_metrics')\n",
    "wang159_myrmekes_db = application.new_db_engine('wang159_myrmekes')\n",
    "\n",
    "\n",
    "salesforce = application.new_salesforce_engine()\n",
    "db_s = salesforce"
   ]
  },
  {
   "cell_type": "code",
   "execution_count": 10,
   "metadata": {
    "execution": {
     "iopub.execute_input": "2021-10-27T18:59:17.239169Z",
     "iopub.status.busy": "2021-10-27T18:59:17.238812Z",
     "iopub.status.idle": "2021-10-27T18:59:17.244377Z",
     "shell.execute_reply": "2021-10-27T18:59:17.243598Z",
     "shell.execute_reply.started": "2021-10-27T18:59:17.239148Z"
    }
   },
   "outputs": [],
   "source": [
    "import sys\n",
    "#sys.path.append('/home/users/wang2506/nanohub_salesforce_integ/salesforce')\n",
    "\n",
    "import pandas as pd\n",
    "import time\n",
    "import datetime\n",
    "\n",
    "# from DB2SalesforceAPI import DB2SalesforceAPI"
   ]
  },
  {
   "cell_type": "markdown",
   "metadata": {},
   "source": [
    "## Obtain information from DB2 "
   ]
  },
  {
   "cell_type": "code",
   "execution_count": null,
   "metadata": {},
   "outputs": [],
   "source": []
  },
  {
   "cell_type": "code",
   "execution_count": 11,
   "metadata": {
    "execution": {
     "iopub.execute_input": "2021-10-27T18:59:17.246475Z",
     "iopub.status.busy": "2021-10-27T18:59:17.245865Z",
     "iopub.status.idle": "2021-10-27T18:59:17.376757Z",
     "shell.execute_reply": "2021-10-27T18:59:17.376284Z",
     "shell.execute_reply.started": "2021-10-27T18:59:17.246450Z"
    },
    "pycharm": {
     "name": "#%%\n"
    }
   },
   "outputs": [],
   "source": [
    "# extract the wiki contributions\n",
    "sql_query = \"select hits, created_by from jos_wiki_pages where state = '1' and scope = 'site';\"\n",
    "wiki_results_df = pd.read_sql_query(sql_query,nanohub_db)\n",
    "#corresponds to wiki_usage__c, wiki_contributions__c"
   ]
  },
  {
   "cell_type": "code",
   "execution_count": 12,
   "metadata": {
    "execution": {
     "iopub.execute_input": "2021-10-27T18:59:17.380511Z",
     "iopub.status.busy": "2021-10-27T18:59:17.378949Z",
     "iopub.status.idle": "2021-10-27T18:59:17.396208Z",
     "shell.execute_reply": "2021-10-27T18:59:17.395402Z",
     "shell.execute_reply.started": "2021-10-27T18:59:17.380477Z"
    },
    "tags": []
   },
   "outputs": [
    {
     "data": {
      "text/html": [
       "<div>\n",
       "<style scoped>\n",
       "    .dataframe tbody tr th:only-of-type {\n",
       "        vertical-align: middle;\n",
       "    }\n",
       "\n",
       "    .dataframe tbody tr th {\n",
       "        vertical-align: top;\n",
       "    }\n",
       "\n",
       "    .dataframe thead th {\n",
       "        text-align: right;\n",
       "    }\n",
       "</style>\n",
       "<table border=\"1\" class=\"dataframe\">\n",
       "  <thead>\n",
       "    <tr style=\"text-align: right;\">\n",
       "      <th></th>\n",
       "      <th>hits</th>\n",
       "      <th>created_by</th>\n",
       "    </tr>\n",
       "  </thead>\n",
       "  <tbody>\n",
       "    <tr>\n",
       "      <th>0</th>\n",
       "      <td>6540</td>\n",
       "      <td>4843</td>\n",
       "    </tr>\n",
       "    <tr>\n",
       "      <th>1</th>\n",
       "      <td>44525</td>\n",
       "      <td>8780</td>\n",
       "    </tr>\n",
       "    <tr>\n",
       "      <th>2</th>\n",
       "      <td>5509</td>\n",
       "      <td>12642</td>\n",
       "    </tr>\n",
       "    <tr>\n",
       "      <th>3</th>\n",
       "      <td>7863</td>\n",
       "      <td>8757</td>\n",
       "    </tr>\n",
       "    <tr>\n",
       "      <th>4</th>\n",
       "      <td>44764</td>\n",
       "      <td>8629</td>\n",
       "    </tr>\n",
       "  </tbody>\n",
       "</table>\n",
       "</div>"
      ],
      "text/plain": [
       "    hits  created_by\n",
       "0   6540        4843\n",
       "1  44525        8780\n",
       "2   5509       12642\n",
       "3   7863        8757\n",
       "4  44764        8629"
      ]
     },
     "metadata": {},
     "output_type": "display_data"
    }
   ],
   "source": [
    "display(wiki_results_df.head())"
   ]
  },
  {
   "cell_type": "code",
   "execution_count": 13,
   "metadata": {
    "execution": {
     "iopub.execute_input": "2021-10-27T18:59:17.398932Z",
     "iopub.status.busy": "2021-10-27T18:59:17.398145Z",
     "iopub.status.idle": "2021-10-27T18:59:17.903281Z",
     "shell.execute_reply": "2021-10-27T18:59:17.902505Z",
     "shell.execute_reply.started": "2021-10-27T18:59:17.398894Z"
    },
    "tags": []
   },
   "outputs": [],
   "source": [
    "# extract paper contributions; need investigate how to get the usage per paper\n",
    "sql_query = \"select authorid, hits from jos_resources left join jos_author_assoc \"\\\n",
    "            \"on jos_author_assoc.subid = jos_resources.id where type = '3' and access in ('0','3','1') \"\\\n",
    "            \"and standalone = '1' and published in ('1');\"\n",
    "papers_df = pd.read_sql_query(sql_query,nanohub_db)"
   ]
  },
  {
   "cell_type": "code",
   "execution_count": 14,
   "metadata": {
    "execution": {
     "iopub.execute_input": "2021-10-27T18:59:17.904466Z",
     "iopub.status.busy": "2021-10-27T18:59:17.904299Z",
     "iopub.status.idle": "2021-10-27T18:59:17.919888Z",
     "shell.execute_reply": "2021-10-27T18:59:17.918548Z",
     "shell.execute_reply.started": "2021-10-27T18:59:17.904447Z"
    }
   },
   "outputs": [
    {
     "data": {
      "text/html": [
       "<div>\n",
       "<style scoped>\n",
       "    .dataframe tbody tr th:only-of-type {\n",
       "        vertical-align: middle;\n",
       "    }\n",
       "\n",
       "    .dataframe tbody tr th {\n",
       "        vertical-align: top;\n",
       "    }\n",
       "\n",
       "    .dataframe thead th {\n",
       "        text-align: right;\n",
       "    }\n",
       "</style>\n",
       "<table border=\"1\" class=\"dataframe\">\n",
       "  <thead>\n",
       "    <tr style=\"text-align: right;\">\n",
       "      <th></th>\n",
       "      <th>authorid</th>\n",
       "      <th>hits</th>\n",
       "    </tr>\n",
       "  </thead>\n",
       "  <tbody>\n",
       "    <tr>\n",
       "      <th>0</th>\n",
       "      <td>1871.0</td>\n",
       "      <td>13674</td>\n",
       "    </tr>\n",
       "    <tr>\n",
       "      <th>1</th>\n",
       "      <td>2862.0</td>\n",
       "      <td>24552</td>\n",
       "    </tr>\n",
       "    <tr>\n",
       "      <th>2</th>\n",
       "      <td>8629.0</td>\n",
       "      <td>24552</td>\n",
       "    </tr>\n",
       "    <tr>\n",
       "      <th>3</th>\n",
       "      <td>3858.0</td>\n",
       "      <td>24552</td>\n",
       "    </tr>\n",
       "    <tr>\n",
       "      <th>4</th>\n",
       "      <td>1986.0</td>\n",
       "      <td>24552</td>\n",
       "    </tr>\n",
       "  </tbody>\n",
       "</table>\n",
       "</div>"
      ],
      "text/plain": [
       "   authorid   hits\n",
       "0    1871.0  13674\n",
       "1    2862.0  24552\n",
       "2    8629.0  24552\n",
       "3    3858.0  24552\n",
       "4    1986.0  24552"
      ]
     },
     "metadata": {},
     "output_type": "display_data"
    }
   ],
   "source": [
    "display(papers_df.head())"
   ]
  },
  {
   "cell_type": "code",
   "execution_count": 15,
   "metadata": {
    "execution": {
     "iopub.execute_input": "2021-10-27T18:59:17.922462Z",
     "iopub.status.busy": "2021-10-27T18:59:17.922154Z",
     "iopub.status.idle": "2021-10-27T18:59:26.186239Z",
     "shell.execute_reply": "2021-10-27T18:59:26.185384Z",
     "shell.execute_reply.started": "2021-10-27T18:59:17.922439Z"
    },
    "tags": []
   },
   "outputs": [],
   "source": [
    "# extract presentation contributions; need to see how to get usage per presentation\n",
    "sql_query = \"select authorid, hits from jos_resources left join jos_author_assoc \"\\\n",
    "            \"on jos_author_assoc.subid = jos_resources.id where type = '1' and access in ('0','3','1') \"\\\n",
    "            \"and standalone = '1' and published in ('1');\"\n",
    "presentation_df = pd.read_sql_query(sql_query,nanohub_db)"
   ]
  },
  {
   "cell_type": "code",
   "execution_count": 16,
   "metadata": {
    "execution": {
     "iopub.execute_input": "2021-10-27T18:59:26.189300Z",
     "iopub.status.busy": "2021-10-27T18:59:26.189054Z",
     "iopub.status.idle": "2021-10-27T18:59:26.201619Z",
     "shell.execute_reply": "2021-10-27T18:59:26.200537Z",
     "shell.execute_reply.started": "2021-10-27T18:59:26.189277Z"
    }
   },
   "outputs": [
    {
     "data": {
      "text/html": [
       "<div>\n",
       "<style scoped>\n",
       "    .dataframe tbody tr th:only-of-type {\n",
       "        vertical-align: middle;\n",
       "    }\n",
       "\n",
       "    .dataframe tbody tr th {\n",
       "        vertical-align: top;\n",
       "    }\n",
       "\n",
       "    .dataframe thead th {\n",
       "        text-align: right;\n",
       "    }\n",
       "</style>\n",
       "<table border=\"1\" class=\"dataframe\">\n",
       "  <thead>\n",
       "    <tr style=\"text-align: right;\">\n",
       "      <th></th>\n",
       "      <th>authorid</th>\n",
       "      <th>hits</th>\n",
       "    </tr>\n",
       "  </thead>\n",
       "  <tbody>\n",
       "    <tr>\n",
       "      <th>0</th>\n",
       "      <td>-16.0</td>\n",
       "      <td>10468</td>\n",
       "    </tr>\n",
       "    <tr>\n",
       "      <th>1</th>\n",
       "      <td>3013.0</td>\n",
       "      <td>6991</td>\n",
       "    </tr>\n",
       "    <tr>\n",
       "      <th>2</th>\n",
       "      <td>2862.0</td>\n",
       "      <td>21358</td>\n",
       "    </tr>\n",
       "    <tr>\n",
       "      <th>3</th>\n",
       "      <td>45455.0</td>\n",
       "      <td>19139</td>\n",
       "    </tr>\n",
       "    <tr>\n",
       "      <th>4</th>\n",
       "      <td>-32.0</td>\n",
       "      <td>21475</td>\n",
       "    </tr>\n",
       "  </tbody>\n",
       "</table>\n",
       "</div>"
      ],
      "text/plain": [
       "   authorid   hits\n",
       "0     -16.0  10468\n",
       "1    3013.0   6991\n",
       "2    2862.0  21358\n",
       "3   45455.0  19139\n",
       "4     -32.0  21475"
      ]
     },
     "metadata": {},
     "output_type": "display_data"
    }
   ],
   "source": [
    "display(presentation_df.head())"
   ]
  },
  {
   "cell_type": "code",
   "execution_count": 17,
   "metadata": {
    "execution": {
     "iopub.execute_input": "2021-10-27T18:59:26.203363Z",
     "iopub.status.busy": "2021-10-27T18:59:26.203001Z",
     "iopub.status.idle": "2021-10-27T18:59:27.576801Z",
     "shell.execute_reply": "2021-10-27T18:59:27.575747Z",
     "shell.execute_reply.started": "2021-10-27T18:59:26.203338Z"
    },
    "tags": []
   },
   "outputs": [],
   "source": [
    "# extract presentation contributions; need to see how to get usage per presentation\n",
    "sql_query = \"select authorid, hits from jos_resources left join jos_author_assoc \"\\\n",
    "            \"on jos_author_assoc.subid = jos_resources.id where type = '7' and access in ('0','3','1') \"\\\n",
    "            \"and standalone = '1' and published in ('1');\"\n",
    "tools_df = pd.read_sql_query(sql_query,nanohub_db)"
   ]
  },
  {
   "cell_type": "code",
   "execution_count": 18,
   "metadata": {
    "execution": {
     "iopub.execute_input": "2021-10-27T18:59:27.577868Z",
     "iopub.status.busy": "2021-10-27T18:59:27.577662Z",
     "iopub.status.idle": "2021-10-27T18:59:27.589359Z",
     "shell.execute_reply": "2021-10-27T18:59:27.588168Z",
     "shell.execute_reply.started": "2021-10-27T18:59:27.577817Z"
    }
   },
   "outputs": [
    {
     "data": {
      "text/html": [
       "<div>\n",
       "<style scoped>\n",
       "    .dataframe tbody tr th:only-of-type {\n",
       "        vertical-align: middle;\n",
       "    }\n",
       "\n",
       "    .dataframe tbody tr th {\n",
       "        vertical-align: top;\n",
       "    }\n",
       "\n",
       "    .dataframe thead th {\n",
       "        text-align: right;\n",
       "    }\n",
       "</style>\n",
       "<table border=\"1\" class=\"dataframe\">\n",
       "  <thead>\n",
       "    <tr style=\"text-align: right;\">\n",
       "      <th></th>\n",
       "      <th>authorid</th>\n",
       "      <th>hits</th>\n",
       "    </tr>\n",
       "  </thead>\n",
       "  <tbody>\n",
       "    <tr>\n",
       "      <th>0</th>\n",
       "      <td>-5.0</td>\n",
       "      <td>251605</td>\n",
       "    </tr>\n",
       "    <tr>\n",
       "      <th>1</th>\n",
       "      <td>8629.0</td>\n",
       "      <td>50032</td>\n",
       "    </tr>\n",
       "    <tr>\n",
       "      <th>2</th>\n",
       "      <td>3482.0</td>\n",
       "      <td>125516</td>\n",
       "    </tr>\n",
       "    <tr>\n",
       "      <th>3</th>\n",
       "      <td>2862.0</td>\n",
       "      <td>251605</td>\n",
       "    </tr>\n",
       "    <tr>\n",
       "      <th>4</th>\n",
       "      <td>8629.0</td>\n",
       "      <td>251605</td>\n",
       "    </tr>\n",
       "  </tbody>\n",
       "</table>\n",
       "</div>"
      ],
      "text/plain": [
       "   authorid    hits\n",
       "0      -5.0  251605\n",
       "1    8629.0   50032\n",
       "2    3482.0  125516\n",
       "3    2862.0  251605\n",
       "4    8629.0  251605"
      ]
     },
     "metadata": {},
     "output_type": "display_data"
    }
   ],
   "source": [
    "display(tools_df.head())"
   ]
  },
  {
   "cell_type": "code",
   "execution_count": 19,
   "metadata": {
    "execution": {
     "iopub.execute_input": "2021-10-27T18:59:27.590643Z",
     "iopub.status.busy": "2021-10-27T18:59:27.590442Z",
     "iopub.status.idle": "2021-10-27T18:59:27.601584Z",
     "shell.execute_reply": "2021-10-27T18:59:27.600357Z",
     "shell.execute_reply.started": "2021-10-27T18:59:27.590624Z"
    },
    "tags": []
   },
   "outputs": [
    {
     "data": {
      "text/plain": [
       "\"'2021-10-00'\""
      ]
     },
     "metadata": {},
     "output_type": "display_data"
    },
    {
     "data": {
      "text/plain": [
       "\"'2021-10-01'\""
      ]
     },
     "metadata": {},
     "output_type": "display_data"
    }
   ],
   "source": [
    "#pre-filtering queries using datetime\n",
    "date_temp = datetime.datetime.today()\n",
    "year = date_temp.year\n",
    "month = date_temp.month\n",
    "period = 14\n",
    "if month < 10:\n",
    "    date_str0 = '\\''+ str(year)+'-0'+str(month)+'-00'+'\\''\n",
    "    date_str1 = '\\''+str(year)+'-0'+str(month)+'-01'+'\\''\n",
    "else:\n",
    "    date_str0 = '\\''+ str(year)+'-'+str(month)+'-00'+'\\''\n",
    "    date_str1 = '\\''+str(year)+'-'+str(month)+'-01'+'\\''\n",
    "    \n",
    "display(date_str0)\n",
    "display(date_str1)"
   ]
  },
  {
   "cell_type": "code",
   "execution_count": 20,
   "metadata": {
    "execution": {
     "iopub.execute_input": "2021-10-27T18:59:27.603272Z",
     "iopub.status.busy": "2021-10-27T18:59:27.603087Z",
     "iopub.status.idle": "2021-10-27T18:59:27.613441Z",
     "shell.execute_reply": "2021-10-27T18:59:27.612575Z",
     "shell.execute_reply.started": "2021-10-27T18:59:27.603251Z"
    },
    "tags": []
   },
   "outputs": [
    {
     "data": {
      "text/plain": [
       "\"select * from jos_author_stats WHERE datetime between '2021-10-00' and '2021-10-01' and period = 14;\""
      ]
     },
     "metadata": {},
     "output_type": "display_data"
    },
    {
     "data": {
      "text/plain": [
       "'SELECT * FROM jos_author_stats WHERE `datetime` > (NOW() - INTERVAL 1 MONTH) AND period = 14;'"
      ]
     },
     "metadata": {},
     "output_type": "display_data"
    }
   ],
   "source": [
    "# getting the users that used the contributions\n",
    "sql_query = \"select * from jos_author_stats WHERE datetime \" \\\n",
    "    \"between \" + date_str0 +\" and \" + date_str1 + \" and period = 14;\"\n",
    "\n",
    "display(sql_query)\n",
    "\n",
    "sql_query = \"SELECT * FROM jos_author_stats \" \\\n",
    "    \"WHERE `datetime` > \" + \"(NOW() - INTERVAL 1 MONTH) AND period = 14;\"\n",
    "\n",
    "display(sql_query)"
   ]
  },
  {
   "cell_type": "code",
   "execution_count": 21,
   "metadata": {
    "execution": {
     "iopub.execute_input": "2021-10-27T18:59:27.615549Z",
     "iopub.status.busy": "2021-10-27T18:59:27.615129Z",
     "iopub.status.idle": "2021-10-27T18:59:27.845671Z",
     "shell.execute_reply": "2021-10-27T18:59:27.844453Z",
     "shell.execute_reply.started": "2021-10-27T18:59:27.615518Z"
    },
    "tags": []
   },
   "outputs": [
    {
     "data": {
      "text/html": [
       "<div>\n",
       "<style scoped>\n",
       "    .dataframe tbody tr th:only-of-type {\n",
       "        vertical-align: middle;\n",
       "    }\n",
       "\n",
       "    .dataframe tbody tr th {\n",
       "        vertical-align: top;\n",
       "    }\n",
       "\n",
       "    .dataframe thead th {\n",
       "        text-align: right;\n",
       "    }\n",
       "</style>\n",
       "<table border=\"1\" class=\"dataframe\">\n",
       "  <thead>\n",
       "    <tr style=\"text-align: right;\">\n",
       "      <th></th>\n",
       "      <th>id</th>\n",
       "      <th>authorid</th>\n",
       "      <th>tool_users</th>\n",
       "      <th>andmore_users</th>\n",
       "      <th>total_users</th>\n",
       "      <th>datetime</th>\n",
       "      <th>period</th>\n",
       "    </tr>\n",
       "  </thead>\n",
       "  <tbody>\n",
       "    <tr>\n",
       "      <th>3380</th>\n",
       "      <td>1287950</td>\n",
       "      <td>88194</td>\n",
       "      <td>NaN</td>\n",
       "      <td>5</td>\n",
       "      <td>5</td>\n",
       "      <td>2021-10-00 00:00:00</td>\n",
       "      <td>14</td>\n",
       "    </tr>\n",
       "    <tr>\n",
       "      <th>3381</th>\n",
       "      <td>1287953</td>\n",
       "      <td>10712</td>\n",
       "      <td>NaN</td>\n",
       "      <td>6</td>\n",
       "      <td>6</td>\n",
       "      <td>2021-10-00 00:00:00</td>\n",
       "      <td>14</td>\n",
       "    </tr>\n",
       "    <tr>\n",
       "      <th>3382</th>\n",
       "      <td>1287956</td>\n",
       "      <td>337740</td>\n",
       "      <td>1.0</td>\n",
       "      <td>0</td>\n",
       "      <td>1</td>\n",
       "      <td>2021-10-00 00:00:00</td>\n",
       "      <td>14</td>\n",
       "    </tr>\n",
       "    <tr>\n",
       "      <th>3383</th>\n",
       "      <td>1287959</td>\n",
       "      <td>338337</td>\n",
       "      <td>1.0</td>\n",
       "      <td>0</td>\n",
       "      <td>1</td>\n",
       "      <td>2021-10-00 00:00:00</td>\n",
       "      <td>14</td>\n",
       "    </tr>\n",
       "    <tr>\n",
       "      <th>3384</th>\n",
       "      <td>1287962</td>\n",
       "      <td>16514</td>\n",
       "      <td>NaN</td>\n",
       "      <td>0</td>\n",
       "      <td>0</td>\n",
       "      <td>2021-10-00 00:00:00</td>\n",
       "      <td>14</td>\n",
       "    </tr>\n",
       "  </tbody>\n",
       "</table>\n",
       "</div>"
      ],
      "text/plain": [
       "           id  authorid  tool_users  andmore_users  total_users  \\\n",
       "3380  1287950     88194         NaN              5            5   \n",
       "3381  1287953     10712         NaN              6            6   \n",
       "3382  1287956    337740         1.0              0            1   \n",
       "3383  1287959    338337         1.0              0            1   \n",
       "3384  1287962     16514         NaN              0            0   \n",
       "\n",
       "                 datetime  period  \n",
       "3380  2021-10-00 00:00:00      14  \n",
       "3381  2021-10-00 00:00:00      14  \n",
       "3382  2021-10-00 00:00:00      14  \n",
       "3383  2021-10-00 00:00:00      14  \n",
       "3384  2021-10-00 00:00:00      14  "
      ]
     },
     "metadata": {},
     "output_type": "display_data"
    }
   ],
   "source": [
    "result_users_df = pd.read_sql_query(sql_query, nanohub_db)\n",
    "display(result_users_df.tail())"
   ]
  },
  {
   "cell_type": "code",
   "execution_count": 22,
   "metadata": {
    "execution": {
     "iopub.execute_input": "2021-10-27T18:59:27.850345Z",
     "iopub.status.busy": "2021-10-27T18:59:27.849132Z",
     "iopub.status.idle": "2021-10-27T18:59:28.064204Z",
     "shell.execute_reply": "2021-10-27T18:59:28.063519Z",
     "shell.execute_reply.started": "2021-10-27T18:59:27.850306Z"
    },
    "tags": []
   },
   "outputs": [
    {
     "data": {
      "text/plain": [
       "'select * from jos_author_stats WHERE period = 14 ORDER BY datetime DESC LIMIT 100;'"
      ]
     },
     "metadata": {},
     "output_type": "display_data"
    },
    {
     "data": {
      "text/html": [
       "<div>\n",
       "<style scoped>\n",
       "    .dataframe tbody tr th:only-of-type {\n",
       "        vertical-align: middle;\n",
       "    }\n",
       "\n",
       "    .dataframe tbody tr th {\n",
       "        vertical-align: top;\n",
       "    }\n",
       "\n",
       "    .dataframe thead th {\n",
       "        text-align: right;\n",
       "    }\n",
       "</style>\n",
       "<table border=\"1\" class=\"dataframe\">\n",
       "  <thead>\n",
       "    <tr style=\"text-align: right;\">\n",
       "      <th></th>\n",
       "      <th>id</th>\n",
       "      <th>authorid</th>\n",
       "      <th>tool_users</th>\n",
       "      <th>andmore_users</th>\n",
       "      <th>total_users</th>\n",
       "      <th>datetime</th>\n",
       "      <th>period</th>\n",
       "    </tr>\n",
       "  </thead>\n",
       "  <tbody>\n",
       "    <tr>\n",
       "      <th>0</th>\n",
       "      <td>1277810</td>\n",
       "      <td>4843</td>\n",
       "      <td>3514</td>\n",
       "      <td>923</td>\n",
       "      <td>4416</td>\n",
       "      <td>2021-10-00 00:00:00</td>\n",
       "      <td>14</td>\n",
       "    </tr>\n",
       "    <tr>\n",
       "      <th>1</th>\n",
       "      <td>1277813</td>\n",
       "      <td>28115</td>\n",
       "      <td>2008</td>\n",
       "      <td>0</td>\n",
       "      <td>2008</td>\n",
       "      <td>2021-10-00 00:00:00</td>\n",
       "      <td>14</td>\n",
       "    </tr>\n",
       "    <tr>\n",
       "      <th>2</th>\n",
       "      <td>1277816</td>\n",
       "      <td>3482</td>\n",
       "      <td>82013</td>\n",
       "      <td>788473</td>\n",
       "      <td>834868</td>\n",
       "      <td>2021-10-00 00:00:00</td>\n",
       "      <td>14</td>\n",
       "    </tr>\n",
       "    <tr>\n",
       "      <th>3</th>\n",
       "      <td>1277819</td>\n",
       "      <td>9736</td>\n",
       "      <td>51234</td>\n",
       "      <td>917383</td>\n",
       "      <td>945985</td>\n",
       "      <td>2021-10-00 00:00:00</td>\n",
       "      <td>14</td>\n",
       "    </tr>\n",
       "    <tr>\n",
       "      <th>4</th>\n",
       "      <td>1277822</td>\n",
       "      <td>10617</td>\n",
       "      <td>8577</td>\n",
       "      <td>5608</td>\n",
       "      <td>13235</td>\n",
       "      <td>2021-10-00 00:00:00</td>\n",
       "      <td>14</td>\n",
       "    </tr>\n",
       "    <tr>\n",
       "      <th>...</th>\n",
       "      <td>...</td>\n",
       "      <td>...</td>\n",
       "      <td>...</td>\n",
       "      <td>...</td>\n",
       "      <td>...</td>\n",
       "      <td>...</td>\n",
       "      <td>...</td>\n",
       "    </tr>\n",
       "    <tr>\n",
       "      <th>95</th>\n",
       "      <td>1278095</td>\n",
       "      <td>83475</td>\n",
       "      <td>161</td>\n",
       "      <td>0</td>\n",
       "      <td>161</td>\n",
       "      <td>2021-10-00 00:00:00</td>\n",
       "      <td>14</td>\n",
       "    </tr>\n",
       "    <tr>\n",
       "      <th>96</th>\n",
       "      <td>1278098</td>\n",
       "      <td>21711</td>\n",
       "      <td>2243</td>\n",
       "      <td>1857</td>\n",
       "      <td>3940</td>\n",
       "      <td>2021-10-00 00:00:00</td>\n",
       "      <td>14</td>\n",
       "    </tr>\n",
       "    <tr>\n",
       "      <th>97</th>\n",
       "      <td>1278101</td>\n",
       "      <td>46626</td>\n",
       "      <td>674</td>\n",
       "      <td>0</td>\n",
       "      <td>674</td>\n",
       "      <td>2021-10-00 00:00:00</td>\n",
       "      <td>14</td>\n",
       "    </tr>\n",
       "    <tr>\n",
       "      <th>98</th>\n",
       "      <td>1278104</td>\n",
       "      <td>123827</td>\n",
       "      <td>143</td>\n",
       "      <td>0</td>\n",
       "      <td>143</td>\n",
       "      <td>2021-10-00 00:00:00</td>\n",
       "      <td>14</td>\n",
       "    </tr>\n",
       "    <tr>\n",
       "      <th>99</th>\n",
       "      <td>1278107</td>\n",
       "      <td>1986</td>\n",
       "      <td>5411</td>\n",
       "      <td>5370</td>\n",
       "      <td>10169</td>\n",
       "      <td>2021-10-00 00:00:00</td>\n",
       "      <td>14</td>\n",
       "    </tr>\n",
       "  </tbody>\n",
       "</table>\n",
       "<p>100 rows × 7 columns</p>\n",
       "</div>"
      ],
      "text/plain": [
       "         id  authorid  tool_users  andmore_users  total_users  \\\n",
       "0   1277810      4843        3514            923         4416   \n",
       "1   1277813     28115        2008              0         2008   \n",
       "2   1277816      3482       82013         788473       834868   \n",
       "3   1277819      9736       51234         917383       945985   \n",
       "4   1277822     10617        8577           5608        13235   \n",
       "..      ...       ...         ...            ...          ...   \n",
       "95  1278095     83475         161              0          161   \n",
       "96  1278098     21711        2243           1857         3940   \n",
       "97  1278101     46626         674              0          674   \n",
       "98  1278104    123827         143              0          143   \n",
       "99  1278107      1986        5411           5370        10169   \n",
       "\n",
       "               datetime  period  \n",
       "0   2021-10-00 00:00:00      14  \n",
       "1   2021-10-00 00:00:00      14  \n",
       "2   2021-10-00 00:00:00      14  \n",
       "3   2021-10-00 00:00:00      14  \n",
       "4   2021-10-00 00:00:00      14  \n",
       "..                  ...     ...  \n",
       "95  2021-10-00 00:00:00      14  \n",
       "96  2021-10-00 00:00:00      14  \n",
       "97  2021-10-00 00:00:00      14  \n",
       "98  2021-10-00 00:00:00      14  \n",
       "99  2021-10-00 00:00:00      14  \n",
       "\n",
       "[100 rows x 7 columns]"
      ]
     },
     "metadata": {},
     "output_type": "display_data"
    }
   ],
   "source": [
    "# getting the users that used the contributions\n",
    "sql_query = \"select * from jos_author_stats WHERE period = 14 ORDER BY datetime DESC LIMIT 100;\"\n",
    "display(sql_query)\n",
    "\n",
    "test_df = pd.read_sql_query(sql_query, nanohub_db)\n",
    "display(test_df)\n"
   ]
  },
  {
   "cell_type": "code",
   "execution_count": 23,
   "metadata": {
    "execution": {
     "iopub.execute_input": "2021-10-27T18:59:28.066906Z",
     "iopub.status.busy": "2021-10-27T18:59:28.065656Z",
     "iopub.status.idle": "2021-10-27T18:59:28.078904Z",
     "shell.execute_reply": "2021-10-27T18:59:28.077876Z",
     "shell.execute_reply.started": "2021-10-27T18:59:28.066870Z"
    },
    "tags": []
   },
   "outputs": [
    {
     "data": {
      "text/html": [
       "<div>\n",
       "<style scoped>\n",
       "    .dataframe tbody tr th:only-of-type {\n",
       "        vertical-align: middle;\n",
       "    }\n",
       "\n",
       "    .dataframe tbody tr th {\n",
       "        vertical-align: top;\n",
       "    }\n",
       "\n",
       "    .dataframe thead th {\n",
       "        text-align: right;\n",
       "    }\n",
       "</style>\n",
       "<table border=\"1\" class=\"dataframe\">\n",
       "  <thead>\n",
       "    <tr style=\"text-align: right;\">\n",
       "      <th></th>\n",
       "      <th>id</th>\n",
       "      <th>authorid</th>\n",
       "      <th>tool_users</th>\n",
       "      <th>andmore_users</th>\n",
       "      <th>total_users</th>\n",
       "      <th>datetime</th>\n",
       "      <th>period</th>\n",
       "    </tr>\n",
       "  </thead>\n",
       "  <tbody>\n",
       "    <tr>\n",
       "      <th>271</th>\n",
       "      <td>1278623</td>\n",
       "      <td>29294</td>\n",
       "      <td>4609.0</td>\n",
       "      <td>19282</td>\n",
       "      <td>23639</td>\n",
       "      <td>2021-10-00 00:00:00</td>\n",
       "      <td>14</td>\n",
       "    </tr>\n",
       "  </tbody>\n",
       "</table>\n",
       "</div>"
      ],
      "text/plain": [
       "          id  authorid  tool_users  andmore_users  total_users  \\\n",
       "271  1278623     29294      4609.0          19282        23639   \n",
       "\n",
       "                datetime  period  \n",
       "271  2021-10-00 00:00:00      14  "
      ]
     },
     "metadata": {},
     "output_type": "display_data"
    }
   ],
   "source": [
    "# for Tanya\n",
    "display(result_users_df.loc[result_users_df['authorid'] == 29294])"
   ]
  },
  {
   "cell_type": "raw",
   "metadata": {},
   "source": [
    "## deprecated - the table hasn't been updated in years\n",
    "# getting the total number of contributions\n",
    "sql_query = \"select * from jos_real_contributors;\" #this is not up-to-date\n",
    "\n",
    "num_contri_df = pd.read_sql_query(sql_query, engine)\n",
    "display(num_contri_df.head(2))"
   ]
  },
  {
   "cell_type": "code",
   "execution_count": 24,
   "metadata": {
    "execution": {
     "iopub.execute_input": "2021-10-27T18:59:28.080794Z",
     "iopub.status.busy": "2021-10-27T18:59:28.079980Z",
     "iopub.status.idle": "2021-10-27T18:59:28.116141Z",
     "shell.execute_reply": "2021-10-27T18:59:28.115537Z",
     "shell.execute_reply.started": "2021-10-27T18:59:28.080768Z"
    }
   },
   "outputs": [
    {
     "data": {
      "text/html": [
       "<div>\n",
       "<style scoped>\n",
       "    .dataframe tbody tr th:only-of-type {\n",
       "        vertical-align: middle;\n",
       "    }\n",
       "\n",
       "    .dataframe tbody tr th {\n",
       "        vertical-align: top;\n",
       "    }\n",
       "\n",
       "    .dataframe thead th {\n",
       "        text-align: right;\n",
       "    }\n",
       "</style>\n",
       "<table border=\"1\" class=\"dataframe\">\n",
       "  <thead>\n",
       "    <tr style=\"text-align: right;\">\n",
       "      <th></th>\n",
       "      <th>hits</th>\n",
       "      <th>created_by</th>\n",
       "    </tr>\n",
       "  </thead>\n",
       "  <tbody>\n",
       "    <tr>\n",
       "      <th>0</th>\n",
       "      <td>6540</td>\n",
       "      <td>4843</td>\n",
       "    </tr>\n",
       "    <tr>\n",
       "      <th>1</th>\n",
       "      <td>44525</td>\n",
       "      <td>8780</td>\n",
       "    </tr>\n",
       "  </tbody>\n",
       "</table>\n",
       "</div>"
      ],
      "text/plain": [
       "    hits  created_by\n",
       "0   6540        4843\n",
       "1  44525        8780"
      ]
     },
     "metadata": {},
     "output_type": "display_data"
    },
    {
     "data": {
      "text/html": [
       "<div>\n",
       "<style scoped>\n",
       "    .dataframe tbody tr th:only-of-type {\n",
       "        vertical-align: middle;\n",
       "    }\n",
       "\n",
       "    .dataframe tbody tr th {\n",
       "        vertical-align: top;\n",
       "    }\n",
       "\n",
       "    .dataframe thead th {\n",
       "        text-align: right;\n",
       "    }\n",
       "</style>\n",
       "<table border=\"1\" class=\"dataframe\">\n",
       "  <thead>\n",
       "    <tr style=\"text-align: right;\">\n",
       "      <th></th>\n",
       "      <th>authorid</th>\n",
       "      <th>hits</th>\n",
       "    </tr>\n",
       "  </thead>\n",
       "  <tbody>\n",
       "    <tr>\n",
       "      <th>0</th>\n",
       "      <td>1871.0</td>\n",
       "      <td>13674</td>\n",
       "    </tr>\n",
       "    <tr>\n",
       "      <th>1</th>\n",
       "      <td>2862.0</td>\n",
       "      <td>24552</td>\n",
       "    </tr>\n",
       "  </tbody>\n",
       "</table>\n",
       "</div>"
      ],
      "text/plain": [
       "   authorid   hits\n",
       "0    1871.0  13674\n",
       "1    2862.0  24552"
      ]
     },
     "metadata": {},
     "output_type": "display_data"
    },
    {
     "data": {
      "text/html": [
       "<div>\n",
       "<style scoped>\n",
       "    .dataframe tbody tr th:only-of-type {\n",
       "        vertical-align: middle;\n",
       "    }\n",
       "\n",
       "    .dataframe tbody tr th {\n",
       "        vertical-align: top;\n",
       "    }\n",
       "\n",
       "    .dataframe thead th {\n",
       "        text-align: right;\n",
       "    }\n",
       "</style>\n",
       "<table border=\"1\" class=\"dataframe\">\n",
       "  <thead>\n",
       "    <tr style=\"text-align: right;\">\n",
       "      <th></th>\n",
       "      <th>authorid</th>\n",
       "      <th>hits</th>\n",
       "    </tr>\n",
       "  </thead>\n",
       "  <tbody>\n",
       "    <tr>\n",
       "      <th>0</th>\n",
       "      <td>-16.0</td>\n",
       "      <td>10468</td>\n",
       "    </tr>\n",
       "    <tr>\n",
       "      <th>1</th>\n",
       "      <td>3013.0</td>\n",
       "      <td>6991</td>\n",
       "    </tr>\n",
       "  </tbody>\n",
       "</table>\n",
       "</div>"
      ],
      "text/plain": [
       "   authorid   hits\n",
       "0     -16.0  10468\n",
       "1    3013.0   6991"
      ]
     },
     "metadata": {},
     "output_type": "display_data"
    },
    {
     "data": {
      "text/html": [
       "<div>\n",
       "<style scoped>\n",
       "    .dataframe tbody tr th:only-of-type {\n",
       "        vertical-align: middle;\n",
       "    }\n",
       "\n",
       "    .dataframe tbody tr th {\n",
       "        vertical-align: top;\n",
       "    }\n",
       "\n",
       "    .dataframe thead th {\n",
       "        text-align: right;\n",
       "    }\n",
       "</style>\n",
       "<table border=\"1\" class=\"dataframe\">\n",
       "  <thead>\n",
       "    <tr style=\"text-align: right;\">\n",
       "      <th></th>\n",
       "      <th>authorid</th>\n",
       "      <th>hits</th>\n",
       "    </tr>\n",
       "  </thead>\n",
       "  <tbody>\n",
       "    <tr>\n",
       "      <th>0</th>\n",
       "      <td>-5.0</td>\n",
       "      <td>251605</td>\n",
       "    </tr>\n",
       "    <tr>\n",
       "      <th>1</th>\n",
       "      <td>8629.0</td>\n",
       "      <td>50032</td>\n",
       "    </tr>\n",
       "  </tbody>\n",
       "</table>\n",
       "</div>"
      ],
      "text/plain": [
       "   authorid    hits\n",
       "0      -5.0  251605\n",
       "1    8629.0   50032"
      ]
     },
     "metadata": {},
     "output_type": "display_data"
    },
    {
     "data": {
      "text/html": [
       "<div>\n",
       "<style scoped>\n",
       "    .dataframe tbody tr th:only-of-type {\n",
       "        vertical-align: middle;\n",
       "    }\n",
       "\n",
       "    .dataframe tbody tr th {\n",
       "        vertical-align: top;\n",
       "    }\n",
       "\n",
       "    .dataframe thead th {\n",
       "        text-align: right;\n",
       "    }\n",
       "</style>\n",
       "<table border=\"1\" class=\"dataframe\">\n",
       "  <thead>\n",
       "    <tr style=\"text-align: right;\">\n",
       "      <th></th>\n",
       "      <th>id</th>\n",
       "      <th>authorid</th>\n",
       "      <th>tool_users</th>\n",
       "      <th>andmore_users</th>\n",
       "      <th>total_users</th>\n",
       "      <th>datetime</th>\n",
       "      <th>period</th>\n",
       "    </tr>\n",
       "  </thead>\n",
       "  <tbody>\n",
       "    <tr>\n",
       "      <th>0</th>\n",
       "      <td>1277810</td>\n",
       "      <td>4843</td>\n",
       "      <td>3514.0</td>\n",
       "      <td>923</td>\n",
       "      <td>4416</td>\n",
       "      <td>2021-10-00 00:00:00</td>\n",
       "      <td>14</td>\n",
       "    </tr>\n",
       "    <tr>\n",
       "      <th>1</th>\n",
       "      <td>1277813</td>\n",
       "      <td>28115</td>\n",
       "      <td>2008.0</td>\n",
       "      <td>0</td>\n",
       "      <td>2008</td>\n",
       "      <td>2021-10-00 00:00:00</td>\n",
       "      <td>14</td>\n",
       "    </tr>\n",
       "  </tbody>\n",
       "</table>\n",
       "</div>"
      ],
      "text/plain": [
       "        id  authorid  tool_users  andmore_users  total_users  \\\n",
       "0  1277810      4843      3514.0            923         4416   \n",
       "1  1277813     28115      2008.0              0         2008   \n",
       "\n",
       "              datetime  period  \n",
       "0  2021-10-00 00:00:00      14  \n",
       "1  2021-10-00 00:00:00      14  "
      ]
     },
     "metadata": {},
     "output_type": "display_data"
    },
    {
     "name": "stdout",
     "output_type": "stream",
     "text": [
      "(3385, 7)\n"
     ]
    }
   ],
   "source": [
    "display(wiki_results_df.head(2))\n",
    "display(papers_df.head(2))\n",
    "display(presentation_df.head(2))\n",
    "display(tools_df.head(2))\n",
    "display(result_users_df.head(2))\n",
    "print(result_users_df.shape)"
   ]
  },
  {
   "cell_type": "code",
   "execution_count": 25,
   "metadata": {
    "execution": {
     "iopub.execute_input": "2021-10-27T18:59:28.118078Z",
     "iopub.status.busy": "2021-10-27T18:59:28.117466Z",
     "iopub.status.idle": "2021-10-27T18:59:28.133110Z",
     "shell.execute_reply": "2021-10-27T18:59:28.132134Z",
     "shell.execute_reply.started": "2021-10-27T18:59:28.118045Z"
    },
    "tags": []
   },
   "outputs": [
    {
     "data": {
      "text/html": [
       "<div>\n",
       "<style scoped>\n",
       "    .dataframe tbody tr th:only-of-type {\n",
       "        vertical-align: middle;\n",
       "    }\n",
       "\n",
       "    .dataframe tbody tr th {\n",
       "        vertical-align: top;\n",
       "    }\n",
       "\n",
       "    .dataframe thead th {\n",
       "        text-align: right;\n",
       "    }\n",
       "</style>\n",
       "<table border=\"1\" class=\"dataframe\">\n",
       "  <thead>\n",
       "    <tr style=\"text-align: right;\">\n",
       "      <th></th>\n",
       "      <th>id</th>\n",
       "      <th>authorid</th>\n",
       "      <th>tool_users</th>\n",
       "      <th>andmore_users</th>\n",
       "      <th>total_users</th>\n",
       "      <th>datetime</th>\n",
       "      <th>period</th>\n",
       "    </tr>\n",
       "  </thead>\n",
       "  <tbody>\n",
       "    <tr>\n",
       "      <th>271</th>\n",
       "      <td>1278623</td>\n",
       "      <td>29294</td>\n",
       "      <td>4609.0</td>\n",
       "      <td>19282</td>\n",
       "      <td>23639</td>\n",
       "      <td>2021-10-00 00:00:00</td>\n",
       "      <td>14</td>\n",
       "    </tr>\n",
       "  </tbody>\n",
       "</table>\n",
       "</div>"
      ],
      "text/plain": [
       "          id  authorid  tool_users  andmore_users  total_users  \\\n",
       "271  1278623     29294      4609.0          19282        23639   \n",
       "\n",
       "                datetime  period  \n",
       "271  2021-10-00 00:00:00      14  "
      ]
     },
     "metadata": {},
     "output_type": "display_data"
    }
   ],
   "source": [
    "display(result_users_df.loc[result_users_df['authorid'] == 29294])"
   ]
  },
  {
   "cell_type": "code",
   "execution_count": 26,
   "metadata": {
    "execution": {
     "iopub.execute_input": "2021-10-27T19:00:41.616320Z",
     "iopub.status.busy": "2021-10-27T19:00:41.616084Z",
     "iopub.status.idle": "2021-10-27T19:00:41.624305Z",
     "shell.execute_reply": "2021-10-27T19:00:41.622380Z",
     "shell.execute_reply.started": "2021-10-27T19:00:41.616300Z"
    },
    "tags": []
   },
   "outputs": [],
   "source": [
    "## get rid of all negative authorids from all of the dataframes\n",
    "wikidrops = []\n",
    "wikikeeps = []\n",
    "for ind,val in enumerate(wiki_results_df['created_by'].to_list()):\n",
    "    if val <= 0:\n",
    "        wikidrops.append(ind)\n",
    "    else:\n",
    "        wikikeeps.append(ind)\n",
    "wiki_results_df = wiki_results_df.iloc[wikikeeps,:]"
   ]
  },
  {
   "cell_type": "code",
   "execution_count": 27,
   "metadata": {
    "execution": {
     "iopub.execute_input": "2021-10-27T19:00:43.108253Z",
     "iopub.status.busy": "2021-10-27T19:00:43.108018Z",
     "iopub.status.idle": "2021-10-27T19:00:43.118783Z",
     "shell.execute_reply": "2021-10-27T19:00:43.117586Z",
     "shell.execute_reply.started": "2021-10-27T19:00:43.108232Z"
    },
    "tags": []
   },
   "outputs": [
    {
     "data": {
      "text/html": [
       "<div>\n",
       "<style scoped>\n",
       "    .dataframe tbody tr th:only-of-type {\n",
       "        vertical-align: middle;\n",
       "    }\n",
       "\n",
       "    .dataframe tbody tr th {\n",
       "        vertical-align: top;\n",
       "    }\n",
       "\n",
       "    .dataframe thead th {\n",
       "        text-align: right;\n",
       "    }\n",
       "</style>\n",
       "<table border=\"1\" class=\"dataframe\">\n",
       "  <thead>\n",
       "    <tr style=\"text-align: right;\">\n",
       "      <th></th>\n",
       "      <th>hits</th>\n",
       "      <th>created_by</th>\n",
       "    </tr>\n",
       "  </thead>\n",
       "  <tbody>\n",
       "    <tr>\n",
       "      <th>0</th>\n",
       "      <td>6540</td>\n",
       "      <td>4843</td>\n",
       "    </tr>\n",
       "    <tr>\n",
       "      <th>1</th>\n",
       "      <td>44525</td>\n",
       "      <td>8780</td>\n",
       "    </tr>\n",
       "  </tbody>\n",
       "</table>\n",
       "</div>"
      ],
      "text/plain": [
       "    hits  created_by\n",
       "0   6540        4843\n",
       "1  44525        8780"
      ]
     },
     "metadata": {},
     "output_type": "display_data"
    }
   ],
   "source": [
    "display(wiki_results_df.head(2))"
   ]
  },
  {
   "cell_type": "code",
   "execution_count": 28,
   "metadata": {
    "execution": {
     "iopub.execute_input": "2021-10-27T19:00:45.759002Z",
     "iopub.status.busy": "2021-10-27T19:00:45.758706Z",
     "iopub.status.idle": "2021-10-27T19:00:45.765172Z",
     "shell.execute_reply": "2021-10-27T19:00:45.764445Z",
     "shell.execute_reply.started": "2021-10-27T19:00:45.758969Z"
    },
    "tags": []
   },
   "outputs": [],
   "source": [
    "## papers df \n",
    "pdrops = []\n",
    "pkeeps = []\n",
    "for ind,val in enumerate(papers_df['authorid'].to_list()):\n",
    "    if val <= 0:\n",
    "        pdrops.append(ind)\n",
    "    else:\n",
    "        pkeeps.append(ind)\n",
    "papers_df = papers_df.iloc[pkeeps,:]"
   ]
  },
  {
   "cell_type": "code",
   "execution_count": 29,
   "metadata": {
    "execution": {
     "iopub.execute_input": "2021-10-27T19:00:46.703088Z",
     "iopub.status.busy": "2021-10-27T19:00:46.702020Z",
     "iopub.status.idle": "2021-10-27T19:00:46.713537Z",
     "shell.execute_reply": "2021-10-27T19:00:46.712650Z",
     "shell.execute_reply.started": "2021-10-27T19:00:46.703060Z"
    },
    "tags": []
   },
   "outputs": [
    {
     "data": {
      "text/html": [
       "<div>\n",
       "<style scoped>\n",
       "    .dataframe tbody tr th:only-of-type {\n",
       "        vertical-align: middle;\n",
       "    }\n",
       "\n",
       "    .dataframe tbody tr th {\n",
       "        vertical-align: top;\n",
       "    }\n",
       "\n",
       "    .dataframe thead th {\n",
       "        text-align: right;\n",
       "    }\n",
       "</style>\n",
       "<table border=\"1\" class=\"dataframe\">\n",
       "  <thead>\n",
       "    <tr style=\"text-align: right;\">\n",
       "      <th></th>\n",
       "      <th>authorid</th>\n",
       "      <th>hits</th>\n",
       "    </tr>\n",
       "  </thead>\n",
       "  <tbody>\n",
       "    <tr>\n",
       "      <th>0</th>\n",
       "      <td>1871.0</td>\n",
       "      <td>13674</td>\n",
       "    </tr>\n",
       "    <tr>\n",
       "      <th>1</th>\n",
       "      <td>2862.0</td>\n",
       "      <td>24552</td>\n",
       "    </tr>\n",
       "  </tbody>\n",
       "</table>\n",
       "</div>"
      ],
      "text/plain": [
       "   authorid   hits\n",
       "0    1871.0  13674\n",
       "1    2862.0  24552"
      ]
     },
     "metadata": {},
     "output_type": "display_data"
    }
   ],
   "source": [
    "display(papers_df.head(2))"
   ]
  },
  {
   "cell_type": "code",
   "execution_count": 30,
   "metadata": {
    "execution": {
     "iopub.execute_input": "2021-10-27T19:00:48.466353Z",
     "iopub.status.busy": "2021-10-27T19:00:48.463782Z",
     "iopub.status.idle": "2021-10-27T19:00:48.477569Z",
     "shell.execute_reply": "2021-10-27T19:00:48.476891Z",
     "shell.execute_reply.started": "2021-10-27T19:00:48.466208Z"
    },
    "tags": []
   },
   "outputs": [],
   "source": [
    "## presentation_df\n",
    "prdrops = []\n",
    "prkeeps = []\n",
    "for ind,val in enumerate(presentation_df['authorid'].to_list()):\n",
    "    if val <= 0:\n",
    "        prdrops.append(ind)\n",
    "    else:\n",
    "        prkeeps.append(ind)\n",
    "presentation_df = presentation_df.iloc[prkeeps,:]"
   ]
  },
  {
   "cell_type": "code",
   "execution_count": 31,
   "metadata": {
    "execution": {
     "iopub.execute_input": "2021-10-27T19:00:50.356790Z",
     "iopub.status.busy": "2021-10-27T19:00:50.356538Z",
     "iopub.status.idle": "2021-10-27T19:00:50.367972Z",
     "shell.execute_reply": "2021-10-27T19:00:50.367401Z",
     "shell.execute_reply.started": "2021-10-27T19:00:50.356769Z"
    },
    "tags": []
   },
   "outputs": [
    {
     "data": {
      "text/html": [
       "<div>\n",
       "<style scoped>\n",
       "    .dataframe tbody tr th:only-of-type {\n",
       "        vertical-align: middle;\n",
       "    }\n",
       "\n",
       "    .dataframe tbody tr th {\n",
       "        vertical-align: top;\n",
       "    }\n",
       "\n",
       "    .dataframe thead th {\n",
       "        text-align: right;\n",
       "    }\n",
       "</style>\n",
       "<table border=\"1\" class=\"dataframe\">\n",
       "  <thead>\n",
       "    <tr style=\"text-align: right;\">\n",
       "      <th></th>\n",
       "      <th>authorid</th>\n",
       "      <th>hits</th>\n",
       "    </tr>\n",
       "  </thead>\n",
       "  <tbody>\n",
       "    <tr>\n",
       "      <th>1</th>\n",
       "      <td>3013.0</td>\n",
       "      <td>6991</td>\n",
       "    </tr>\n",
       "    <tr>\n",
       "      <th>2</th>\n",
       "      <td>2862.0</td>\n",
       "      <td>21358</td>\n",
       "    </tr>\n",
       "  </tbody>\n",
       "</table>\n",
       "</div>"
      ],
      "text/plain": [
       "   authorid   hits\n",
       "1    3013.0   6991\n",
       "2    2862.0  21358"
      ]
     },
     "metadata": {},
     "output_type": "display_data"
    }
   ],
   "source": [
    "display(presentation_df.head(2))"
   ]
  },
  {
   "cell_type": "markdown",
   "metadata": {},
   "source": [
    "## roll up information from wiki_results_df, papers_df, and presentation_df"
   ]
  },
  {
   "cell_type": "code",
   "execution_count": 32,
   "metadata": {
    "execution": {
     "iopub.execute_input": "2021-10-27T19:00:52.726486Z",
     "iopub.status.busy": "2021-10-27T19:00:52.725940Z",
     "iopub.status.idle": "2021-10-27T19:00:52.745097Z",
     "shell.execute_reply": "2021-10-27T19:00:52.744588Z",
     "shell.execute_reply.started": "2021-10-27T19:00:52.726432Z"
    },
    "tags": []
   },
   "outputs": [
    {
     "data": {
      "text/html": [
       "<div>\n",
       "<style scoped>\n",
       "    .dataframe tbody tr th:only-of-type {\n",
       "        vertical-align: middle;\n",
       "    }\n",
       "\n",
       "    .dataframe tbody tr th {\n",
       "        vertical-align: top;\n",
       "    }\n",
       "\n",
       "    .dataframe thead th {\n",
       "        text-align: right;\n",
       "    }\n",
       "</style>\n",
       "<table border=\"1\" class=\"dataframe\">\n",
       "  <thead>\n",
       "    <tr style=\"text-align: right;\">\n",
       "      <th></th>\n",
       "      <th>nanoHUB_user_ID__c1</th>\n",
       "      <th>wiki_contributions__c</th>\n",
       "      <th>nanoHUB_user_ID__c2</th>\n",
       "      <th>wiki_usage__c</th>\n",
       "    </tr>\n",
       "  </thead>\n",
       "  <tbody>\n",
       "    <tr>\n",
       "      <th>0</th>\n",
       "      <td>1852</td>\n",
       "      <td>3</td>\n",
       "      <td>1852</td>\n",
       "      <td>27718</td>\n",
       "    </tr>\n",
       "    <tr>\n",
       "      <th>1</th>\n",
       "      <td>2862</td>\n",
       "      <td>1</td>\n",
       "      <td>2862</td>\n",
       "      <td>5280</td>\n",
       "    </tr>\n",
       "  </tbody>\n",
       "</table>\n",
       "</div>"
      ],
      "text/plain": [
       "   nanoHUB_user_ID__c1  wiki_contributions__c  nanoHUB_user_ID__c2  \\\n",
       "0                 1852                      3                 1852   \n",
       "1                 2862                      1                 2862   \n",
       "\n",
       "   wiki_usage__c  \n",
       "0          27718  \n",
       "1           5280  "
      ]
     },
     "metadata": {},
     "output_type": "display_data"
    }
   ],
   "source": [
    "# wiki_results_df\n",
    "\n",
    "## get the number of unique wiki contributions\n",
    "wikic = wiki_results_df.groupby(['created_by']).size().reset_index() #need reset_index to save the authorid/created_by field\n",
    "wikic.columns = ['nanoHUB_user_ID__c','wiki_contributions__c']\n",
    "wikic = pd.DataFrame(wikic)\n",
    "\n",
    "## rollup usage\n",
    "wikic2 = wiki_results_df.groupby(['created_by']).sum().reset_index()\n",
    "wikic2.columns = ['nanoHUB_user_ID__c','wiki_usage__c']\n",
    "wikic2 = pd.DataFrame(wikic2)\n",
    "\n",
    "wikic = wikic.join(wikic2,lsuffix='1', rsuffix='2')\n",
    "display(wikic.head(2))"
   ]
  },
  {
   "cell_type": "code",
   "execution_count": 33,
   "metadata": {
    "execution": {
     "iopub.execute_input": "2021-10-27T19:01:05.148003Z",
     "iopub.status.busy": "2021-10-27T19:01:05.147628Z",
     "iopub.status.idle": "2021-10-27T19:01:05.160111Z",
     "shell.execute_reply": "2021-10-27T19:01:05.159353Z",
     "shell.execute_reply.started": "2021-10-27T19:01:05.147981Z"
    },
    "tags": []
   },
   "outputs": [
    {
     "data": {
      "text/html": [
       "<div>\n",
       "<style scoped>\n",
       "    .dataframe tbody tr th:only-of-type {\n",
       "        vertical-align: middle;\n",
       "    }\n",
       "\n",
       "    .dataframe tbody tr th {\n",
       "        vertical-align: top;\n",
       "    }\n",
       "\n",
       "    .dataframe thead th {\n",
       "        text-align: right;\n",
       "    }\n",
       "</style>\n",
       "<table border=\"1\" class=\"dataframe\">\n",
       "  <thead>\n",
       "    <tr style=\"text-align: right;\">\n",
       "      <th></th>\n",
       "      <th>nanoHUB_user_ID__c</th>\n",
       "      <th>wiki_contributions__c</th>\n",
       "      <th>wiki_usage__c</th>\n",
       "    </tr>\n",
       "  </thead>\n",
       "  <tbody>\n",
       "    <tr>\n",
       "      <th>0</th>\n",
       "      <td>1852</td>\n",
       "      <td>3</td>\n",
       "      <td>27718</td>\n",
       "    </tr>\n",
       "    <tr>\n",
       "      <th>1</th>\n",
       "      <td>2862</td>\n",
       "      <td>1</td>\n",
       "      <td>5280</td>\n",
       "    </tr>\n",
       "  </tbody>\n",
       "</table>\n",
       "</div>"
      ],
      "text/plain": [
       "   nanoHUB_user_ID__c  wiki_contributions__c  wiki_usage__c\n",
       "0                1852                      3          27718\n",
       "1                2862                      1           5280"
      ]
     },
     "metadata": {},
     "output_type": "display_data"
    }
   ],
   "source": [
    "wikic = wikic.drop(columns=['nanoHUB_user_ID__c2'])\n",
    "wikic = wikic.rename(columns={\"nanoHUB_user_ID__c1\": \"nanoHUB_user_ID__c\"})\n",
    "display(wikic.head(2))"
   ]
  },
  {
   "cell_type": "code",
   "execution_count": 34,
   "metadata": {
    "execution": {
     "iopub.execute_input": "2021-10-27T19:01:13.277346Z",
     "iopub.status.busy": "2021-10-27T19:01:13.277050Z",
     "iopub.status.idle": "2021-10-27T19:01:13.292384Z",
     "shell.execute_reply": "2021-10-27T19:01:13.291409Z",
     "shell.execute_reply.started": "2021-10-27T19:01:13.277315Z"
    },
    "tags": []
   },
   "outputs": [
    {
     "data": {
      "text/html": [
       "<div>\n",
       "<style scoped>\n",
       "    .dataframe tbody tr th:only-of-type {\n",
       "        vertical-align: middle;\n",
       "    }\n",
       "\n",
       "    .dataframe tbody tr th {\n",
       "        vertical-align: top;\n",
       "    }\n",
       "\n",
       "    .dataframe thead th {\n",
       "        text-align: right;\n",
       "    }\n",
       "</style>\n",
       "<table border=\"1\" class=\"dataframe\">\n",
       "  <thead>\n",
       "    <tr style=\"text-align: right;\">\n",
       "      <th></th>\n",
       "      <th>nanoHUB_user_ID__c</th>\n",
       "      <th>paper_contributions__c</th>\n",
       "    </tr>\n",
       "  </thead>\n",
       "  <tbody>\n",
       "    <tr>\n",
       "      <th>0</th>\n",
       "      <td>1852.0</td>\n",
       "      <td>3</td>\n",
       "    </tr>\n",
       "    <tr>\n",
       "      <th>1</th>\n",
       "      <td>1871.0</td>\n",
       "      <td>1</td>\n",
       "    </tr>\n",
       "  </tbody>\n",
       "</table>\n",
       "</div>"
      ],
      "text/plain": [
       "   nanoHUB_user_ID__c  paper_contributions__c\n",
       "0              1852.0                       3\n",
       "1              1871.0                       1"
      ]
     },
     "metadata": {},
     "output_type": "display_data"
    }
   ],
   "source": [
    "# papers_df - just need the number of unique contributions\n",
    "\n",
    "## get the number of unique paper contributions\n",
    "papersc = papers_df.groupby(['authorid']).size().reset_index() #need reset_index to save the authorid/created_by field\n",
    "papersc.columns = ['nanoHUB_user_ID__c','paper_contributions__c']\n",
    "papersc = pd.DataFrame(papersc)\n",
    "\n",
    "## to add in the number of paper hits in the future ##TODO\n",
    "\n",
    "display(papersc.head(2))"
   ]
  },
  {
   "cell_type": "code",
   "execution_count": 35,
   "metadata": {
    "execution": {
     "iopub.execute_input": "2021-10-27T19:01:17.564469Z",
     "iopub.status.busy": "2021-10-27T19:01:17.564045Z",
     "iopub.status.idle": "2021-10-27T19:01:17.578315Z",
     "shell.execute_reply": "2021-10-27T19:01:17.577064Z",
     "shell.execute_reply.started": "2021-10-27T19:01:17.564450Z"
    },
    "tags": []
   },
   "outputs": [
    {
     "data": {
      "text/html": [
       "<div>\n",
       "<style scoped>\n",
       "    .dataframe tbody tr th:only-of-type {\n",
       "        vertical-align: middle;\n",
       "    }\n",
       "\n",
       "    .dataframe tbody tr th {\n",
       "        vertical-align: top;\n",
       "    }\n",
       "\n",
       "    .dataframe thead th {\n",
       "        text-align: right;\n",
       "    }\n",
       "</style>\n",
       "<table border=\"1\" class=\"dataframe\">\n",
       "  <thead>\n",
       "    <tr style=\"text-align: right;\">\n",
       "      <th></th>\n",
       "      <th>nanoHUB_user_ID__c</th>\n",
       "      <th>presentations_contributions__c</th>\n",
       "    </tr>\n",
       "  </thead>\n",
       "  <tbody>\n",
       "    <tr>\n",
       "      <th>0</th>\n",
       "      <td>1742.0</td>\n",
       "      <td>2</td>\n",
       "    </tr>\n",
       "    <tr>\n",
       "      <th>1</th>\n",
       "      <td>1810.0</td>\n",
       "      <td>1</td>\n",
       "    </tr>\n",
       "  </tbody>\n",
       "</table>\n",
       "</div>"
      ],
      "text/plain": [
       "   nanoHUB_user_ID__c  presentations_contributions__c\n",
       "0              1742.0                               2\n",
       "1              1810.0                               1"
      ]
     },
     "metadata": {},
     "output_type": "display_data"
    }
   ],
   "source": [
    "# presentation_df - just need the number of unique contributions\n",
    "\n",
    "## get the number of unique presentation contributions\n",
    "pres_c = presentation_df.groupby(['authorid']).size().reset_index() #need reset_index to save the authorid/created_by field\n",
    "pres_c.columns = ['nanoHUB_user_ID__c','presentations_contributions__c']\n",
    "pres_c = pd.DataFrame(pres_c)\n",
    "\n",
    "## to add in the number of paper hits in the future ##TODO\n",
    "\n",
    "display(pres_c.head(2))"
   ]
  },
  {
   "cell_type": "markdown",
   "metadata": {},
   "source": [
    "## Big picture users dataframe development"
   ]
  },
  {
   "cell_type": "code",
   "execution_count": 36,
   "metadata": {
    "execution": {
     "iopub.execute_input": "2021-10-27T19:01:19.908063Z",
     "iopub.status.busy": "2021-10-27T19:01:19.906819Z",
     "iopub.status.idle": "2021-10-27T19:01:19.914918Z",
     "shell.execute_reply": "2021-10-27T19:01:19.914375Z",
     "shell.execute_reply.started": "2021-10-27T19:01:19.908036Z"
    },
    "tags": []
   },
   "outputs": [],
   "source": [
    "# rename the authorid in result_users_df, then join all of the dataframes\n",
    "ovr_df = result_users_df.rename(columns={\"authorid\": \"nanoHUB_user_ID__c\"})\n",
    "ovr_df['contributor__c'] = 0"
   ]
  },
  {
   "cell_type": "code",
   "execution_count": 37,
   "metadata": {
    "execution": {
     "iopub.execute_input": "2021-10-27T19:01:22.698939Z",
     "iopub.status.busy": "2021-10-27T19:01:22.698517Z",
     "iopub.status.idle": "2021-10-27T19:01:22.722262Z",
     "shell.execute_reply": "2021-10-27T19:01:22.720315Z",
     "shell.execute_reply.started": "2021-10-27T19:01:22.698919Z"
    },
    "tags": []
   },
   "outputs": [
    {
     "data": {
      "text/html": [
       "<div>\n",
       "<style scoped>\n",
       "    .dataframe tbody tr th:only-of-type {\n",
       "        vertical-align: middle;\n",
       "    }\n",
       "\n",
       "    .dataframe tbody tr th {\n",
       "        vertical-align: top;\n",
       "    }\n",
       "\n",
       "    .dataframe thead th {\n",
       "        text-align: right;\n",
       "    }\n",
       "</style>\n",
       "<table border=\"1\" class=\"dataframe\">\n",
       "  <thead>\n",
       "    <tr style=\"text-align: right;\">\n",
       "      <th></th>\n",
       "      <th>nanoHUB_user_ID__c</th>\n",
       "      <th>tool_users</th>\n",
       "      <th>andmore_users</th>\n",
       "      <th>total_users</th>\n",
       "      <th>contributor__c</th>\n",
       "    </tr>\n",
       "  </thead>\n",
       "  <tbody>\n",
       "    <tr>\n",
       "      <th>0</th>\n",
       "      <td>4843</td>\n",
       "      <td>3514.0</td>\n",
       "      <td>923</td>\n",
       "      <td>4416</td>\n",
       "      <td>0</td>\n",
       "    </tr>\n",
       "    <tr>\n",
       "      <th>1</th>\n",
       "      <td>28115</td>\n",
       "      <td>2008.0</td>\n",
       "      <td>0</td>\n",
       "      <td>2008</td>\n",
       "      <td>0</td>\n",
       "    </tr>\n",
       "  </tbody>\n",
       "</table>\n",
       "</div>"
      ],
      "text/plain": [
       "   nanoHUB_user_ID__c  tool_users  andmore_users  total_users  contributor__c\n",
       "0                4843      3514.0            923         4416               0\n",
       "1               28115      2008.0              0         2008               0"
      ]
     },
     "metadata": {},
     "output_type": "display_data"
    },
    {
     "data": {
      "text/html": [
       "<div>\n",
       "<style scoped>\n",
       "    .dataframe tbody tr th:only-of-type {\n",
       "        vertical-align: middle;\n",
       "    }\n",
       "\n",
       "    .dataframe tbody tr th {\n",
       "        vertical-align: top;\n",
       "    }\n",
       "\n",
       "    .dataframe thead th {\n",
       "        text-align: right;\n",
       "    }\n",
       "</style>\n",
       "<table border=\"1\" class=\"dataframe\">\n",
       "  <thead>\n",
       "    <tr style=\"text-align: right;\">\n",
       "      <th></th>\n",
       "      <th>nanoHUB_user_ID__c</th>\n",
       "      <th>tool_users</th>\n",
       "      <th>andmore_users</th>\n",
       "      <th>total_users</th>\n",
       "      <th>contributor__c</th>\n",
       "    </tr>\n",
       "  </thead>\n",
       "  <tbody>\n",
       "    <tr>\n",
       "      <th>3383</th>\n",
       "      <td>338337</td>\n",
       "      <td>1.0</td>\n",
       "      <td>0</td>\n",
       "      <td>1</td>\n",
       "      <td>0</td>\n",
       "    </tr>\n",
       "    <tr>\n",
       "      <th>3384</th>\n",
       "      <td>16514</td>\n",
       "      <td>NaN</td>\n",
       "      <td>0</td>\n",
       "      <td>0</td>\n",
       "      <td>0</td>\n",
       "    </tr>\n",
       "  </tbody>\n",
       "</table>\n",
       "</div>"
      ],
      "text/plain": [
       "      nanoHUB_user_ID__c  tool_users  andmore_users  total_users  \\\n",
       "3383              338337         1.0              0            1   \n",
       "3384               16514         NaN              0            0   \n",
       "\n",
       "      contributor__c  \n",
       "3383               0  \n",
       "3384               0  "
      ]
     },
     "metadata": {},
     "output_type": "display_data"
    }
   ],
   "source": [
    "## get rid of all negative nanohub ids\n",
    "drops = []\n",
    "keeps = []\n",
    "for ind,val in enumerate(ovr_df['nanoHUB_user_ID__c'].to_list()):\n",
    "    if val <= 0:\n",
    "        drops.append(ind)\n",
    "    else:\n",
    "        keeps.append(ind)\n",
    "ovr_df = ovr_df.iloc[keeps,:]\n",
    "\n",
    "ovr_df = ovr_df.drop(columns=['datetime','period','id'])\n",
    "\n",
    "display(ovr_df.head(2))\n",
    "display(ovr_df.tail(2))"
   ]
  },
  {
   "cell_type": "code",
   "execution_count": 38,
   "metadata": {
    "execution": {
     "iopub.execute_input": "2021-10-27T19:01:26.721875Z",
     "iopub.status.busy": "2021-10-27T19:01:26.720728Z",
     "iopub.status.idle": "2021-10-27T19:01:26.746632Z",
     "shell.execute_reply": "2021-10-27T19:01:26.745349Z",
     "shell.execute_reply.started": "2021-10-27T19:01:26.721795Z"
    },
    "tags": []
   },
   "outputs": [
    {
     "data": {
      "text/html": [
       "<div>\n",
       "<style scoped>\n",
       "    .dataframe tbody tr th:only-of-type {\n",
       "        vertical-align: middle;\n",
       "    }\n",
       "\n",
       "    .dataframe tbody tr th {\n",
       "        vertical-align: top;\n",
       "    }\n",
       "\n",
       "    .dataframe thead th {\n",
       "        text-align: right;\n",
       "    }\n",
       "</style>\n",
       "<table border=\"1\" class=\"dataframe\">\n",
       "  <thead>\n",
       "    <tr style=\"text-align: right;\">\n",
       "      <th></th>\n",
       "      <th>tool_users</th>\n",
       "      <th>andmore_users</th>\n",
       "      <th>total_users</th>\n",
       "      <th>contributor__c</th>\n",
       "      <th>wiki_contributions__c</th>\n",
       "      <th>wiki_usage__c</th>\n",
       "      <th>paper_contributions__c</th>\n",
       "      <th>presentations_contributions__c</th>\n",
       "    </tr>\n",
       "    <tr>\n",
       "      <th>nanoHUB_user_ID__c</th>\n",
       "      <th></th>\n",
       "      <th></th>\n",
       "      <th></th>\n",
       "      <th></th>\n",
       "      <th></th>\n",
       "      <th></th>\n",
       "      <th></th>\n",
       "      <th></th>\n",
       "    </tr>\n",
       "  </thead>\n",
       "  <tbody>\n",
       "    <tr>\n",
       "      <th>4843</th>\n",
       "      <td>3514.0</td>\n",
       "      <td>923</td>\n",
       "      <td>4416</td>\n",
       "      <td>0</td>\n",
       "      <td>1.0</td>\n",
       "      <td>6540.0</td>\n",
       "      <td>NaN</td>\n",
       "      <td>NaN</td>\n",
       "    </tr>\n",
       "    <tr>\n",
       "      <th>28115</th>\n",
       "      <td>2008.0</td>\n",
       "      <td>0</td>\n",
       "      <td>2008</td>\n",
       "      <td>0</td>\n",
       "      <td>NaN</td>\n",
       "      <td>NaN</td>\n",
       "      <td>NaN</td>\n",
       "      <td>NaN</td>\n",
       "    </tr>\n",
       "    <tr>\n",
       "      <th>3482</th>\n",
       "      <td>82013.0</td>\n",
       "      <td>788473</td>\n",
       "      <td>834868</td>\n",
       "      <td>0</td>\n",
       "      <td>20.0</td>\n",
       "      <td>259089.0</td>\n",
       "      <td>9.0</td>\n",
       "      <td>133.0</td>\n",
       "    </tr>\n",
       "    <tr>\n",
       "      <th>9736</th>\n",
       "      <td>51234.0</td>\n",
       "      <td>917383</td>\n",
       "      <td>945985</td>\n",
       "      <td>0</td>\n",
       "      <td>6.0</td>\n",
       "      <td>40012.0</td>\n",
       "      <td>4.0</td>\n",
       "      <td>39.0</td>\n",
       "    </tr>\n",
       "    <tr>\n",
       "      <th>10617</th>\n",
       "      <td>8577.0</td>\n",
       "      <td>5608</td>\n",
       "      <td>13235</td>\n",
       "      <td>0</td>\n",
       "      <td>NaN</td>\n",
       "      <td>NaN</td>\n",
       "      <td>NaN</td>\n",
       "      <td>4.0</td>\n",
       "    </tr>\n",
       "    <tr>\n",
       "      <th>14002</th>\n",
       "      <td>51333.0</td>\n",
       "      <td>16057</td>\n",
       "      <td>65121</td>\n",
       "      <td>0</td>\n",
       "      <td>NaN</td>\n",
       "      <td>NaN</td>\n",
       "      <td>1.0</td>\n",
       "      <td>2.0</td>\n",
       "    </tr>\n",
       "    <tr>\n",
       "      <th>28836</th>\n",
       "      <td>9985.0</td>\n",
       "      <td>11154</td>\n",
       "      <td>20297</td>\n",
       "      <td>0</td>\n",
       "      <td>NaN</td>\n",
       "      <td>NaN</td>\n",
       "      <td>1.0</td>\n",
       "      <td>8.0</td>\n",
       "    </tr>\n",
       "    <tr>\n",
       "      <th>13570</th>\n",
       "      <td>3578.0</td>\n",
       "      <td>4009</td>\n",
       "      <td>7420</td>\n",
       "      <td>0</td>\n",
       "      <td>NaN</td>\n",
       "      <td>NaN</td>\n",
       "      <td>NaN</td>\n",
       "      <td>1.0</td>\n",
       "    </tr>\n",
       "    <tr>\n",
       "      <th>10676</th>\n",
       "      <td>19092.0</td>\n",
       "      <td>3038</td>\n",
       "      <td>21497</td>\n",
       "      <td>0</td>\n",
       "      <td>NaN</td>\n",
       "      <td>NaN</td>\n",
       "      <td>NaN</td>\n",
       "      <td>NaN</td>\n",
       "    </tr>\n",
       "    <tr>\n",
       "      <th>37033</th>\n",
       "      <td>12179.0</td>\n",
       "      <td>0</td>\n",
       "      <td>12179</td>\n",
       "      <td>0</td>\n",
       "      <td>NaN</td>\n",
       "      <td>NaN</td>\n",
       "      <td>NaN</td>\n",
       "      <td>NaN</td>\n",
       "    </tr>\n",
       "  </tbody>\n",
       "</table>\n",
       "</div>"
      ],
      "text/plain": [
       "                    tool_users  andmore_users  total_users  contributor__c  \\\n",
       "nanoHUB_user_ID__c                                                           \n",
       "4843                    3514.0            923         4416               0   \n",
       "28115                   2008.0              0         2008               0   \n",
       "3482                   82013.0         788473       834868               0   \n",
       "9736                   51234.0         917383       945985               0   \n",
       "10617                   8577.0           5608        13235               0   \n",
       "14002                  51333.0          16057        65121               0   \n",
       "28836                   9985.0          11154        20297               0   \n",
       "13570                   3578.0           4009         7420               0   \n",
       "10676                  19092.0           3038        21497               0   \n",
       "37033                  12179.0              0        12179               0   \n",
       "\n",
       "                    wiki_contributions__c  wiki_usage__c  \\\n",
       "nanoHUB_user_ID__c                                         \n",
       "4843                                  1.0         6540.0   \n",
       "28115                                 NaN            NaN   \n",
       "3482                                 20.0       259089.0   \n",
       "9736                                  6.0        40012.0   \n",
       "10617                                 NaN            NaN   \n",
       "14002                                 NaN            NaN   \n",
       "28836                                 NaN            NaN   \n",
       "13570                                 NaN            NaN   \n",
       "10676                                 NaN            NaN   \n",
       "37033                                 NaN            NaN   \n",
       "\n",
       "                    paper_contributions__c  presentations_contributions__c  \n",
       "nanoHUB_user_ID__c                                                          \n",
       "4843                                   NaN                             NaN  \n",
       "28115                                  NaN                             NaN  \n",
       "3482                                   9.0                           133.0  \n",
       "9736                                   4.0                            39.0  \n",
       "10617                                  NaN                             4.0  \n",
       "14002                                  1.0                             2.0  \n",
       "28836                                  1.0                             8.0  \n",
       "13570                                  NaN                             1.0  \n",
       "10676                                  NaN                             NaN  \n",
       "37033                                  NaN                             NaN  "
      ]
     },
     "metadata": {},
     "output_type": "display_data"
    }
   ],
   "source": [
    "ovr_df = ovr_df.set_index('nanoHUB_user_ID__c').join(wikic.set_index('nanoHUB_user_ID__c')) \n",
    "ovr_df = ovr_df.join(papersc.set_index('nanoHUB_user_ID__c')) \n",
    "ovr_df = ovr_df.join(pres_c.set_index('nanoHUB_user_ID__c')) \n",
    "\n",
    "display(ovr_df.head(10))\n",
    "#use .reset_index() to extract it later"
   ]
  },
  {
   "cell_type": "code",
   "execution_count": 42,
   "metadata": {
    "execution": {
     "iopub.execute_input": "2021-10-27T19:03:10.889204Z",
     "iopub.status.busy": "2021-10-27T19:03:10.888954Z",
     "iopub.status.idle": "2021-10-27T19:03:10.908817Z",
     "shell.execute_reply": "2021-10-27T19:03:10.907650Z",
     "shell.execute_reply.started": "2021-10-27T19:03:10.889185Z"
    }
   },
   "outputs": [
    {
     "data": {
      "text/html": [
       "<div>\n",
       "<style scoped>\n",
       "    .dataframe tbody tr th:only-of-type {\n",
       "        vertical-align: middle;\n",
       "    }\n",
       "\n",
       "    .dataframe tbody tr th {\n",
       "        vertical-align: top;\n",
       "    }\n",
       "\n",
       "    .dataframe thead th {\n",
       "        text-align: right;\n",
       "    }\n",
       "</style>\n",
       "<table border=\"1\" class=\"dataframe\">\n",
       "  <thead>\n",
       "    <tr style=\"text-align: right;\">\n",
       "      <th></th>\n",
       "      <th>nanoHUB_user_ID__c</th>\n",
       "      <th>tool_users</th>\n",
       "      <th>andmore_users</th>\n",
       "      <th>total_users</th>\n",
       "      <th>contributor__c</th>\n",
       "      <th>wiki_contributions__c</th>\n",
       "      <th>wiki_usage__c</th>\n",
       "      <th>paper_contributions__c</th>\n",
       "      <th>presentations_contributions__c</th>\n",
       "    </tr>\n",
       "  </thead>\n",
       "  <tbody>\n",
       "    <tr>\n",
       "      <th>0</th>\n",
       "      <td>4843</td>\n",
       "      <td>3514.0</td>\n",
       "      <td>923</td>\n",
       "      <td>4416</td>\n",
       "      <td>0</td>\n",
       "      <td>1.0</td>\n",
       "      <td>6540.0</td>\n",
       "      <td>NaN</td>\n",
       "      <td>NaN</td>\n",
       "    </tr>\n",
       "    <tr>\n",
       "      <th>1</th>\n",
       "      <td>28115</td>\n",
       "      <td>2008.0</td>\n",
       "      <td>0</td>\n",
       "      <td>2008</td>\n",
       "      <td>0</td>\n",
       "      <td>NaN</td>\n",
       "      <td>NaN</td>\n",
       "      <td>NaN</td>\n",
       "      <td>NaN</td>\n",
       "    </tr>\n",
       "    <tr>\n",
       "      <th>2</th>\n",
       "      <td>3482</td>\n",
       "      <td>82013.0</td>\n",
       "      <td>788473</td>\n",
       "      <td>834868</td>\n",
       "      <td>0</td>\n",
       "      <td>20.0</td>\n",
       "      <td>259089.0</td>\n",
       "      <td>9.0</td>\n",
       "      <td>133.0</td>\n",
       "    </tr>\n",
       "    <tr>\n",
       "      <th>3</th>\n",
       "      <td>9736</td>\n",
       "      <td>51234.0</td>\n",
       "      <td>917383</td>\n",
       "      <td>945985</td>\n",
       "      <td>0</td>\n",
       "      <td>6.0</td>\n",
       "      <td>40012.0</td>\n",
       "      <td>4.0</td>\n",
       "      <td>39.0</td>\n",
       "    </tr>\n",
       "    <tr>\n",
       "      <th>4</th>\n",
       "      <td>10617</td>\n",
       "      <td>8577.0</td>\n",
       "      <td>5608</td>\n",
       "      <td>13235</td>\n",
       "      <td>0</td>\n",
       "      <td>NaN</td>\n",
       "      <td>NaN</td>\n",
       "      <td>NaN</td>\n",
       "      <td>4.0</td>\n",
       "    </tr>\n",
       "    <tr>\n",
       "      <th>5</th>\n",
       "      <td>14002</td>\n",
       "      <td>51333.0</td>\n",
       "      <td>16057</td>\n",
       "      <td>65121</td>\n",
       "      <td>0</td>\n",
       "      <td>NaN</td>\n",
       "      <td>NaN</td>\n",
       "      <td>1.0</td>\n",
       "      <td>2.0</td>\n",
       "    </tr>\n",
       "    <tr>\n",
       "      <th>6</th>\n",
       "      <td>28836</td>\n",
       "      <td>9985.0</td>\n",
       "      <td>11154</td>\n",
       "      <td>20297</td>\n",
       "      <td>0</td>\n",
       "      <td>NaN</td>\n",
       "      <td>NaN</td>\n",
       "      <td>1.0</td>\n",
       "      <td>8.0</td>\n",
       "    </tr>\n",
       "    <tr>\n",
       "      <th>7</th>\n",
       "      <td>13570</td>\n",
       "      <td>3578.0</td>\n",
       "      <td>4009</td>\n",
       "      <td>7420</td>\n",
       "      <td>0</td>\n",
       "      <td>NaN</td>\n",
       "      <td>NaN</td>\n",
       "      <td>NaN</td>\n",
       "      <td>1.0</td>\n",
       "    </tr>\n",
       "    <tr>\n",
       "      <th>8</th>\n",
       "      <td>10676</td>\n",
       "      <td>19092.0</td>\n",
       "      <td>3038</td>\n",
       "      <td>21497</td>\n",
       "      <td>0</td>\n",
       "      <td>NaN</td>\n",
       "      <td>NaN</td>\n",
       "      <td>NaN</td>\n",
       "      <td>NaN</td>\n",
       "    </tr>\n",
       "    <tr>\n",
       "      <th>9</th>\n",
       "      <td>37033</td>\n",
       "      <td>12179.0</td>\n",
       "      <td>0</td>\n",
       "      <td>12179</td>\n",
       "      <td>0</td>\n",
       "      <td>NaN</td>\n",
       "      <td>NaN</td>\n",
       "      <td>NaN</td>\n",
       "      <td>NaN</td>\n",
       "    </tr>\n",
       "  </tbody>\n",
       "</table>\n",
       "</div>"
      ],
      "text/plain": [
       "   nanoHUB_user_ID__c  tool_users  andmore_users  total_users  contributor__c  \\\n",
       "0                4843      3514.0            923         4416               0   \n",
       "1               28115      2008.0              0         2008               0   \n",
       "2                3482     82013.0         788473       834868               0   \n",
       "3                9736     51234.0         917383       945985               0   \n",
       "4               10617      8577.0           5608        13235               0   \n",
       "5               14002     51333.0          16057        65121               0   \n",
       "6               28836      9985.0          11154        20297               0   \n",
       "7               13570      3578.0           4009         7420               0   \n",
       "8               10676     19092.0           3038        21497               0   \n",
       "9               37033     12179.0              0        12179               0   \n",
       "\n",
       "   wiki_contributions__c  wiki_usage__c  paper_contributions__c  \\\n",
       "0                    1.0         6540.0                     NaN   \n",
       "1                    NaN            NaN                     NaN   \n",
       "2                   20.0       259089.0                     9.0   \n",
       "3                    6.0        40012.0                     4.0   \n",
       "4                    NaN            NaN                     NaN   \n",
       "5                    NaN            NaN                     1.0   \n",
       "6                    NaN            NaN                     1.0   \n",
       "7                    NaN            NaN                     NaN   \n",
       "8                    NaN            NaN                     NaN   \n",
       "9                    NaN            NaN                     NaN   \n",
       "\n",
       "   presentations_contributions__c  \n",
       "0                             NaN  \n",
       "1                             NaN  \n",
       "2                           133.0  \n",
       "3                            39.0  \n",
       "4                             4.0  \n",
       "5                             2.0  \n",
       "6                             8.0  \n",
       "7                             1.0  \n",
       "8                             NaN  \n",
       "9                             NaN  "
      ]
     },
     "metadata": {},
     "output_type": "display_data"
    }
   ],
   "source": [
    "ovr_df = ovr_df.reset_index()\n",
    "display(ovr_df.head(10))"
   ]
  },
  {
   "cell_type": "raw",
   "metadata": {},
   "source": [
    "ovr_df = ovr_df.reset_index()\n",
    "\n",
    "# calculate contributor flag\n",
    "for index,val in enumerate(ovr_df['contributor__c'].to_list()):\n",
    "    # if any of the entries are non zero/non-NaN, then contributor__c = 1\n",
    "    if ovr_df['total_users'][index] > 0:\n",
    "        ovr_df['contributor__c'][index] = 1\n",
    "    elif ovr_df['wiki_contributions__c'][index] > 0:\n",
    "        ovr_df['contributor__c'][index] = 1\n",
    "    elif ovr_df['paper_contributions__c'][index] > 0:\n",
    "        ovr_df['contributor__c'][index] = 1\n",
    "    elif ovr_df['presentations_contributions__c'][index] > 0:\n",
    "        ovr_df['contributor__c'][index] = 1\n",
    "    elif ovr_df['Total_tool_contributions__c'][index] > 0:\n",
    "        ovr_df['contributor__c'][index] = 1\n",
    "        \n",
    "display(ovr_df.head(10))"
   ]
  },
  {
   "cell_type": "code",
   "execution_count": null,
   "metadata": {},
   "outputs": [],
   "source": []
  },
  {
   "cell_type": "code",
   "execution_count": null,
   "metadata": {},
   "outputs": [],
   "source": []
  },
  {
   "cell_type": "markdown",
   "metadata": {},
   "source": [
    "## Get the current nanohub user IDs and their tool counts from SF\n",
    "then begin the dataframe merge and post-processing"
   ]
  },
  {
   "cell_type": "code",
   "execution_count": 39,
   "metadata": {
    "execution": {
     "iopub.execute_input": "2021-10-27T19:01:40.712518Z",
     "iopub.status.busy": "2021-10-27T19:01:40.712286Z",
     "iopub.status.idle": "2021-10-27T19:01:40.718361Z",
     "shell.execute_reply": "2021-10-27T19:01:40.717149Z",
     "shell.execute_reply.started": "2021-10-27T19:01:40.712499Z"
    },
    "tags": []
   },
   "outputs": [],
   "source": [
    "# create DB2 to Salesforce API object\n",
    "db_s = salesforce"
   ]
  },
  {
   "cell_type": "code",
   "execution_count": 40,
   "metadata": {
    "execution": {
     "iopub.execute_input": "2021-10-27T19:01:41.661683Z",
     "iopub.status.busy": "2021-10-27T19:01:41.661441Z",
     "iopub.status.idle": "2021-10-27T19:02:16.207126Z",
     "shell.execute_reply": "2021-10-27T19:02:16.206173Z",
     "shell.execute_reply.started": "2021-10-27T19:01:41.661663Z"
    },
    "tags": []
   },
   "outputs": [
    {
     "name": "stdout",
     "output_type": "stream",
     "text": [
      "[Success] Bulk job creation successful. Job ID = 7505w00000b2Zq4AAE\n",
      "{\"id\":\"7505w00000b2Zq4AAE\",\"operation\":\"query\",\"object\":\"Contact\",\"createdById\":\"0055w00000DM5bOAAT\",\"createdDate\":\"2021-10-27T19:01:42.000+0000\",\"systemModstamp\":\"2021-10-27T19:01:42.000+0000\",\"state\":\"UploadComplete\",\"concurrencyMode\":\"Parallel\",\"contentType\":\"CSV\",\"apiVersion\":47.0,\"jobType\":\"V2Query\",\"lineEnding\":\"LF\",\"columnDelimiter\":\"COMMA\",\"retries\":0,\"totalProcessingTime\":0}\n",
      "{\"id\":\"7505w00000b2Zq4AAE\",\"operation\":\"query\",\"object\":\"Contact\",\"createdById\":\"0055w00000DM5bOAAT\",\"createdDate\":\"2021-10-27T19:01:42.000+0000\",\"systemModstamp\":\"2021-10-27T19:01:42.000+0000\",\"state\":\"InProgress\",\"concurrencyMode\":\"Parallel\",\"contentType\":\"CSV\",\"apiVersion\":47.0,\"jobType\":\"V2Query\",\"lineEnding\":\"LF\",\"columnDelimiter\":\"COMMA\",\"numberRecordsProcessed\":14971,\"retries\":0,\"totalProcessingTime\":2747}\n",
      "{\"id\":\"7505w00000b2Zq4AAE\",\"operation\":\"query\",\"object\":\"Contact\",\"createdById\":\"0055w00000DM5bOAAT\",\"createdDate\":\"2021-10-27T19:01:42.000+0000\",\"systemModstamp\":\"2021-10-27T19:01:42.000+0000\",\"state\":\"InProgress\",\"concurrencyMode\":\"Parallel\",\"contentType\":\"CSV\",\"apiVersion\":47.0,\"jobType\":\"V2Query\",\"lineEnding\":\"LF\",\"columnDelimiter\":\"COMMA\",\"numberRecordsProcessed\":14971,\"retries\":0,\"totalProcessingTime\":2747}\n",
      "{\"id\":\"7505w00000b2Zq4AAE\",\"operation\":\"query\",\"object\":\"Contact\",\"createdById\":\"0055w00000DM5bOAAT\",\"createdDate\":\"2021-10-27T19:01:42.000+0000\",\"systemModstamp\":\"2021-10-27T19:02:08.000+0000\",\"state\":\"JobComplete\",\"concurrencyMode\":\"Parallel\",\"contentType\":\"CSV\",\"apiVersion\":47.0,\"jobType\":\"V2Query\",\"lineEnding\":\"LF\",\"columnDelimiter\":\"COMMA\",\"numberRecordsProcessed\":262713,\"retries\":0,\"totalProcessingTime\":14697}\n",
      "[Success] Bulk job completed successfully.\n"
     ]
    },
    {
     "data": {
      "text/html": [
       "<div>\n",
       "<style scoped>\n",
       "    .dataframe tbody tr th:only-of-type {\n",
       "        vertical-align: middle;\n",
       "    }\n",
       "\n",
       "    .dataframe tbody tr th {\n",
       "        vertical-align: top;\n",
       "    }\n",
       "\n",
       "    .dataframe thead th {\n",
       "        text-align: right;\n",
       "    }\n",
       "</style>\n",
       "<table border=\"1\" class=\"dataframe\">\n",
       "  <thead>\n",
       "    <tr style=\"text-align: right;\">\n",
       "      <th></th>\n",
       "      <th>Total_tool_contributions__c</th>\n",
       "      <th>nanoHUB_user_ID__c</th>\n",
       "    </tr>\n",
       "  </thead>\n",
       "  <tbody>\n",
       "    <tr>\n",
       "      <th>0</th>\n",
       "      <td>0.0</td>\n",
       "      <td>998.0</td>\n",
       "    </tr>\n",
       "    <tr>\n",
       "      <th>1</th>\n",
       "      <td>0.0</td>\n",
       "      <td>1683.0</td>\n",
       "    </tr>\n",
       "  </tbody>\n",
       "</table>\n",
       "</div>"
      ],
      "text/plain": [
       "   Total_tool_contributions__c  nanoHUB_user_ID__c\n",
       "0                          0.0               998.0\n",
       "1                          0.0              1683.0"
      ]
     },
     "metadata": {},
     "output_type": "display_data"
    },
    {
     "name": "stdout",
     "output_type": "stream",
     "text": [
      "(247742, 2)\n"
     ]
    }
   ],
   "source": [
    "# get nanohub ID for contacts to being matching and processing\n",
    "sf_username_df = db_s.query_data('SELECT nanoHUB_user_ID__c,Total_tool_contributions__c FROM Contact')\n",
    "\n",
    "# display\n",
    "display(sf_username_df.head(2))\n",
    "print(sf_username_df.shape)"
   ]
  },
  {
   "cell_type": "code",
   "execution_count": 43,
   "metadata": {
    "execution": {
     "iopub.execute_input": "2021-10-27T19:03:17.967340Z",
     "iopub.status.busy": "2021-10-27T19:03:17.966854Z",
     "iopub.status.idle": "2021-10-27T19:03:18.214750Z",
     "shell.execute_reply": "2021-10-27T19:03:18.213808Z",
     "shell.execute_reply.started": "2021-10-27T19:03:17.967311Z"
    },
    "tags": []
   },
   "outputs": [],
   "source": [
    "# join the two dataframes\n",
    "nover_df = sf_username_df.set_index('nanoHUB_user_ID__c').join(ovr_df.set_index('nanoHUB_user_ID__c'))"
   ]
  },
  {
   "cell_type": "code",
   "execution_count": 44,
   "metadata": {
    "execution": {
     "iopub.execute_input": "2021-10-27T19:03:20.501075Z",
     "iopub.status.busy": "2021-10-27T19:03:20.500774Z",
     "iopub.status.idle": "2021-10-27T19:03:20.516877Z",
     "shell.execute_reply": "2021-10-27T19:03:20.515688Z",
     "shell.execute_reply.started": "2021-10-27T19:03:20.501055Z"
    },
    "tags": []
   },
   "outputs": [
    {
     "data": {
      "text/html": [
       "<div>\n",
       "<style scoped>\n",
       "    .dataframe tbody tr th:only-of-type {\n",
       "        vertical-align: middle;\n",
       "    }\n",
       "\n",
       "    .dataframe tbody tr th {\n",
       "        vertical-align: top;\n",
       "    }\n",
       "\n",
       "    .dataframe thead th {\n",
       "        text-align: right;\n",
       "    }\n",
       "</style>\n",
       "<table border=\"1\" class=\"dataframe\">\n",
       "  <thead>\n",
       "    <tr style=\"text-align: right;\">\n",
       "      <th></th>\n",
       "      <th>Total_tool_contributions__c</th>\n",
       "      <th>tool_users</th>\n",
       "      <th>andmore_users</th>\n",
       "      <th>total_users</th>\n",
       "      <th>contributor__c</th>\n",
       "      <th>wiki_contributions__c</th>\n",
       "      <th>wiki_usage__c</th>\n",
       "      <th>paper_contributions__c</th>\n",
       "      <th>presentations_contributions__c</th>\n",
       "    </tr>\n",
       "    <tr>\n",
       "      <th>nanoHUB_user_ID__c</th>\n",
       "      <th></th>\n",
       "      <th></th>\n",
       "      <th></th>\n",
       "      <th></th>\n",
       "      <th></th>\n",
       "      <th></th>\n",
       "      <th></th>\n",
       "      <th></th>\n",
       "      <th></th>\n",
       "    </tr>\n",
       "  </thead>\n",
       "  <tbody>\n",
       "    <tr>\n",
       "      <th>998.0</th>\n",
       "      <td>0.0</td>\n",
       "      <td>NaN</td>\n",
       "      <td>NaN</td>\n",
       "      <td>NaN</td>\n",
       "      <td>NaN</td>\n",
       "      <td>NaN</td>\n",
       "      <td>NaN</td>\n",
       "      <td>NaN</td>\n",
       "      <td>NaN</td>\n",
       "    </tr>\n",
       "    <tr>\n",
       "      <th>1683.0</th>\n",
       "      <td>0.0</td>\n",
       "      <td>NaN</td>\n",
       "      <td>NaN</td>\n",
       "      <td>NaN</td>\n",
       "      <td>NaN</td>\n",
       "      <td>NaN</td>\n",
       "      <td>NaN</td>\n",
       "      <td>NaN</td>\n",
       "      <td>NaN</td>\n",
       "    </tr>\n",
       "  </tbody>\n",
       "</table>\n",
       "</div>"
      ],
      "text/plain": [
       "                    Total_tool_contributions__c  tool_users  andmore_users  \\\n",
       "nanoHUB_user_ID__c                                                           \n",
       "998.0                                       0.0         NaN            NaN   \n",
       "1683.0                                      0.0         NaN            NaN   \n",
       "\n",
       "                    total_users  contributor__c  wiki_contributions__c  \\\n",
       "nanoHUB_user_ID__c                                                       \n",
       "998.0                       NaN             NaN                    NaN   \n",
       "1683.0                      NaN             NaN                    NaN   \n",
       "\n",
       "                    wiki_usage__c  paper_contributions__c  \\\n",
       "nanoHUB_user_ID__c                                          \n",
       "998.0                         NaN                     NaN   \n",
       "1683.0                        NaN                     NaN   \n",
       "\n",
       "                    presentations_contributions__c  \n",
       "nanoHUB_user_ID__c                                  \n",
       "998.0                                          NaN  \n",
       "1683.0                                         NaN  "
      ]
     },
     "metadata": {},
     "output_type": "display_data"
    }
   ],
   "source": [
    "display(nover_df.head(2))"
   ]
  },
  {
   "cell_type": "code",
   "execution_count": 45,
   "metadata": {
    "execution": {
     "iopub.execute_input": "2021-10-27T19:03:27.294695Z",
     "iopub.status.busy": "2021-10-27T19:03:27.294455Z",
     "iopub.status.idle": "2021-10-27T19:03:27.304795Z",
     "shell.execute_reply": "2021-10-27T19:03:27.303368Z",
     "shell.execute_reply.started": "2021-10-27T19:03:27.294676Z"
    },
    "tags": []
   },
   "outputs": [],
   "source": [
    "## calculate the non tool contributions\n",
    "nover_df['And_More_Contributions__c'] = nover_df['wiki_contributions__c']+nover_df['paper_contributions__c']\\\n",
    "        +nover_df['presentations_contributions__c']"
   ]
  },
  {
   "cell_type": "code",
   "execution_count": 46,
   "metadata": {
    "execution": {
     "iopub.execute_input": "2021-10-27T19:03:30.760147Z",
     "iopub.status.busy": "2021-10-27T19:03:30.759911Z",
     "iopub.status.idle": "2021-10-27T19:03:30.814355Z",
     "shell.execute_reply": "2021-10-27T19:03:30.812791Z",
     "shell.execute_reply.started": "2021-10-27T19:03:30.760128Z"
    },
    "tags": []
   },
   "outputs": [
    {
     "data": {
      "text/html": [
       "<div>\n",
       "<style scoped>\n",
       "    .dataframe tbody tr th:only-of-type {\n",
       "        vertical-align: middle;\n",
       "    }\n",
       "\n",
       "    .dataframe tbody tr th {\n",
       "        vertical-align: top;\n",
       "    }\n",
       "\n",
       "    .dataframe thead th {\n",
       "        text-align: right;\n",
       "    }\n",
       "</style>\n",
       "<table border=\"1\" class=\"dataframe\">\n",
       "  <thead>\n",
       "    <tr style=\"text-align: right;\">\n",
       "      <th></th>\n",
       "      <th>nanoHUB_user_ID__c</th>\n",
       "      <th>Total_tool_contributions__c</th>\n",
       "      <th>tool_users</th>\n",
       "      <th>andmore_users</th>\n",
       "      <th>total_users</th>\n",
       "      <th>contributor__c</th>\n",
       "      <th>wiki_contributions__c</th>\n",
       "      <th>wiki_usage__c</th>\n",
       "      <th>paper_contributions__c</th>\n",
       "      <th>presentations_contributions__c</th>\n",
       "      <th>And_More_Contributions__c</th>\n",
       "    </tr>\n",
       "  </thead>\n",
       "  <tbody>\n",
       "    <tr>\n",
       "      <th>0</th>\n",
       "      <td>998.0</td>\n",
       "      <td>0.0</td>\n",
       "      <td>NaN</td>\n",
       "      <td>NaN</td>\n",
       "      <td>NaN</td>\n",
       "      <td>NaN</td>\n",
       "      <td>NaN</td>\n",
       "      <td>NaN</td>\n",
       "      <td>NaN</td>\n",
       "      <td>NaN</td>\n",
       "      <td>NaN</td>\n",
       "    </tr>\n",
       "    <tr>\n",
       "      <th>1</th>\n",
       "      <td>1683.0</td>\n",
       "      <td>0.0</td>\n",
       "      <td>NaN</td>\n",
       "      <td>NaN</td>\n",
       "      <td>NaN</td>\n",
       "      <td>NaN</td>\n",
       "      <td>NaN</td>\n",
       "      <td>NaN</td>\n",
       "      <td>NaN</td>\n",
       "      <td>NaN</td>\n",
       "      <td>NaN</td>\n",
       "    </tr>\n",
       "  </tbody>\n",
       "</table>\n",
       "</div>"
      ],
      "text/plain": [
       "   nanoHUB_user_ID__c  Total_tool_contributions__c  tool_users  andmore_users  \\\n",
       "0               998.0                          0.0         NaN            NaN   \n",
       "1              1683.0                          0.0         NaN            NaN   \n",
       "\n",
       "   total_users  contributor__c  wiki_contributions__c  wiki_usage__c  \\\n",
       "0          NaN             NaN                    NaN            NaN   \n",
       "1          NaN             NaN                    NaN            NaN   \n",
       "\n",
       "   paper_contributions__c  presentations_contributions__c  \\\n",
       "0                     NaN                             NaN   \n",
       "1                     NaN                             NaN   \n",
       "\n",
       "   And_More_Contributions__c  \n",
       "0                        NaN  \n",
       "1                        NaN  "
      ]
     },
     "metadata": {},
     "output_type": "display_data"
    }
   ],
   "source": [
    "# recover nanohub ids \n",
    "nover_df = nover_df.reset_index()\n",
    "display(nover_df.head(2))"
   ]
  },
  {
   "cell_type": "code",
   "execution_count": 47,
   "metadata": {
    "execution": {
     "iopub.execute_input": "2021-10-27T19:03:33.192066Z",
     "iopub.status.busy": "2021-10-27T19:03:33.190767Z",
     "iopub.status.idle": "2021-10-27T19:03:33.249182Z",
     "shell.execute_reply": "2021-10-27T19:03:33.248388Z",
     "shell.execute_reply.started": "2021-10-27T19:03:33.192036Z"
    },
    "tags": []
   },
   "outputs": [
    {
     "data": {
      "text/plain": [
       "(247724, 11)"
      ]
     },
     "execution_count": 47,
     "metadata": {},
     "output_type": "execute_result"
    }
   ],
   "source": [
    "## remove NAN rows for index\n",
    "nover_df = nover_df.dropna(subset=['nanoHUB_user_ID__c'])\n",
    "nover_df.shape"
   ]
  },
  {
   "cell_type": "code",
   "execution_count": 48,
   "metadata": {
    "execution": {
     "iopub.execute_input": "2021-10-27T19:03:34.799687Z",
     "iopub.status.busy": "2021-10-27T19:03:34.799452Z",
     "iopub.status.idle": "2021-10-27T19:03:34.900587Z",
     "shell.execute_reply": "2021-10-27T19:03:34.899581Z",
     "shell.execute_reply.started": "2021-10-27T19:03:34.799668Z"
    },
    "tags": []
   },
   "outputs": [
    {
     "data": {
      "text/html": [
       "<div>\n",
       "<style scoped>\n",
       "    .dataframe tbody tr th:only-of-type {\n",
       "        vertical-align: middle;\n",
       "    }\n",
       "\n",
       "    .dataframe tbody tr th {\n",
       "        vertical-align: top;\n",
       "    }\n",
       "\n",
       "    .dataframe thead th {\n",
       "        text-align: right;\n",
       "    }\n",
       "</style>\n",
       "<table border=\"1\" class=\"dataframe\">\n",
       "  <thead>\n",
       "    <tr style=\"text-align: right;\">\n",
       "      <th></th>\n",
       "      <th>nanoHUB_user_ID__c</th>\n",
       "      <th>Total_tool_contributions__c</th>\n",
       "      <th>tool_users</th>\n",
       "      <th>andmore_users</th>\n",
       "      <th>total_users</th>\n",
       "      <th>contributor__c</th>\n",
       "      <th>wiki_contributions__c</th>\n",
       "      <th>wiki_usage__c</th>\n",
       "      <th>paper_contributions__c</th>\n",
       "      <th>presentations_contributions__c</th>\n",
       "      <th>And_More_Contributions__c</th>\n",
       "    </tr>\n",
       "  </thead>\n",
       "  <tbody>\n",
       "    <tr>\n",
       "      <th>0</th>\n",
       "      <td>998</td>\n",
       "      <td>0.0</td>\n",
       "      <td>NaN</td>\n",
       "      <td>NaN</td>\n",
       "      <td>NaN</td>\n",
       "      <td>NaN</td>\n",
       "      <td>NaN</td>\n",
       "      <td>NaN</td>\n",
       "      <td>NaN</td>\n",
       "      <td>NaN</td>\n",
       "      <td>NaN</td>\n",
       "    </tr>\n",
       "    <tr>\n",
       "      <th>1</th>\n",
       "      <td>1683</td>\n",
       "      <td>0.0</td>\n",
       "      <td>NaN</td>\n",
       "      <td>NaN</td>\n",
       "      <td>NaN</td>\n",
       "      <td>NaN</td>\n",
       "      <td>NaN</td>\n",
       "      <td>NaN</td>\n",
       "      <td>NaN</td>\n",
       "      <td>NaN</td>\n",
       "      <td>NaN</td>\n",
       "    </tr>\n",
       "  </tbody>\n",
       "</table>\n",
       "</div>"
      ],
      "text/plain": [
       "   nanoHUB_user_ID__c  Total_tool_contributions__c  tool_users  andmore_users  \\\n",
       "0                 998                          0.0         NaN            NaN   \n",
       "1                1683                          0.0         NaN            NaN   \n",
       "\n",
       "   total_users  contributor__c  wiki_contributions__c  wiki_usage__c  \\\n",
       "0          NaN             NaN                    NaN            NaN   \n",
       "1          NaN             NaN                    NaN            NaN   \n",
       "\n",
       "   paper_contributions__c  presentations_contributions__c  \\\n",
       "0                     NaN                             NaN   \n",
       "1                     NaN                             NaN   \n",
       "\n",
       "   And_More_Contributions__c  \n",
       "0                        NaN  \n",
       "1                        NaN  "
      ]
     },
     "metadata": {},
     "output_type": "display_data"
    }
   ],
   "source": [
    "## then make the indexes integers\n",
    "import numpy as np\n",
    "nover_df['nanoHUB_user_ID__c'] = nover_df['nanoHUB_user_ID__c'].apply(lambda x: int(x))\n",
    "display(nover_df.head(2))"
   ]
  },
  {
   "cell_type": "code",
   "execution_count": 49,
   "metadata": {
    "execution": {
     "iopub.execute_input": "2021-10-27T19:03:38.041755Z",
     "iopub.status.busy": "2021-10-27T19:03:38.041188Z",
     "iopub.status.idle": "2021-10-27T19:03:43.948895Z",
     "shell.execute_reply": "2021-10-27T19:03:43.948002Z",
     "shell.execute_reply.started": "2021-10-27T19:03:38.041727Z"
    },
    "tags": []
   },
   "outputs": [
    {
     "name": "stdout",
     "output_type": "stream",
     "text": [
      "[WARNING] [warnings - py.warnings]: /tmp/ipykernel_145/2408927924.py:5: SettingWithCopyWarning: \n",
      "A value is trying to be set on a copy of a slice from a DataFrame\n",
      "\n",
      "See the caveats in the documentation: https://pandas.pydata.org/pandas-docs/stable/user_guide/indexing.html#returning-a-view-versus-a-copy\n",
      "  nover_df['contributor__c'][index] = 1\n",
      " [warnings._showwarnmsg:109]\n",
      "[WARNING] [warnings - py.warnings]: /tmp/ipykernel_145/2408927924.py:13: SettingWithCopyWarning: \n",
      "A value is trying to be set on a copy of a slice from a DataFrame\n",
      "\n",
      "See the caveats in the documentation: https://pandas.pydata.org/pandas-docs/stable/user_guide/indexing.html#returning-a-view-versus-a-copy\n",
      "  nover_df['contributor__c'][index] = 1\n",
      " [warnings._showwarnmsg:109]\n",
      "[WARNING] [warnings - py.warnings]: /tmp/ipykernel_145/2408927924.py:11: SettingWithCopyWarning: \n",
      "A value is trying to be set on a copy of a slice from a DataFrame\n",
      "\n",
      "See the caveats in the documentation: https://pandas.pydata.org/pandas-docs/stable/user_guide/indexing.html#returning-a-view-versus-a-copy\n",
      "  nover_df['contributor__c'][index] = 1\n",
      " [warnings._showwarnmsg:109]\n",
      "[WARNING] [warnings - py.warnings]: /tmp/ipykernel_145/2408927924.py:9: SettingWithCopyWarning: \n",
      "A value is trying to be set on a copy of a slice from a DataFrame\n",
      "\n",
      "See the caveats in the documentation: https://pandas.pydata.org/pandas-docs/stable/user_guide/indexing.html#returning-a-view-versus-a-copy\n",
      "  nover_df['contributor__c'][index] = 1\n",
      " [warnings._showwarnmsg:109]\n",
      "[WARNING] [warnings - py.warnings]: /tmp/ipykernel_145/2408927924.py:7: SettingWithCopyWarning: \n",
      "A value is trying to be set on a copy of a slice from a DataFrame\n",
      "\n",
      "See the caveats in the documentation: https://pandas.pydata.org/pandas-docs/stable/user_guide/indexing.html#returning-a-view-versus-a-copy\n",
      "  nover_df['contributor__c'][index] = 1\n",
      " [warnings._showwarnmsg:109]\n"
     ]
    },
    {
     "data": {
      "text/html": [
       "<div>\n",
       "<style scoped>\n",
       "    .dataframe tbody tr th:only-of-type {\n",
       "        vertical-align: middle;\n",
       "    }\n",
       "\n",
       "    .dataframe tbody tr th {\n",
       "        vertical-align: top;\n",
       "    }\n",
       "\n",
       "    .dataframe thead th {\n",
       "        text-align: right;\n",
       "    }\n",
       "</style>\n",
       "<table border=\"1\" class=\"dataframe\">\n",
       "  <thead>\n",
       "    <tr style=\"text-align: right;\">\n",
       "      <th></th>\n",
       "      <th>nanoHUB_user_ID__c</th>\n",
       "      <th>Total_tool_contributions__c</th>\n",
       "      <th>tool_users</th>\n",
       "      <th>andmore_users</th>\n",
       "      <th>total_users</th>\n",
       "      <th>contributor__c</th>\n",
       "      <th>wiki_contributions__c</th>\n",
       "      <th>wiki_usage__c</th>\n",
       "      <th>paper_contributions__c</th>\n",
       "      <th>presentations_contributions__c</th>\n",
       "      <th>And_More_Contributions__c</th>\n",
       "    </tr>\n",
       "  </thead>\n",
       "  <tbody>\n",
       "    <tr>\n",
       "      <th>0</th>\n",
       "      <td>998</td>\n",
       "      <td>0.0</td>\n",
       "      <td>NaN</td>\n",
       "      <td>NaN</td>\n",
       "      <td>NaN</td>\n",
       "      <td>NaN</td>\n",
       "      <td>NaN</td>\n",
       "      <td>NaN</td>\n",
       "      <td>NaN</td>\n",
       "      <td>NaN</td>\n",
       "      <td>NaN</td>\n",
       "    </tr>\n",
       "    <tr>\n",
       "      <th>1</th>\n",
       "      <td>1683</td>\n",
       "      <td>0.0</td>\n",
       "      <td>NaN</td>\n",
       "      <td>NaN</td>\n",
       "      <td>NaN</td>\n",
       "      <td>NaN</td>\n",
       "      <td>NaN</td>\n",
       "      <td>NaN</td>\n",
       "      <td>NaN</td>\n",
       "      <td>NaN</td>\n",
       "      <td>NaN</td>\n",
       "    </tr>\n",
       "    <tr>\n",
       "      <th>2</th>\n",
       "      <td>1684</td>\n",
       "      <td>0.0</td>\n",
       "      <td>NaN</td>\n",
       "      <td>NaN</td>\n",
       "      <td>NaN</td>\n",
       "      <td>NaN</td>\n",
       "      <td>NaN</td>\n",
       "      <td>NaN</td>\n",
       "      <td>NaN</td>\n",
       "      <td>NaN</td>\n",
       "      <td>NaN</td>\n",
       "    </tr>\n",
       "    <tr>\n",
       "      <th>3</th>\n",
       "      <td>1685</td>\n",
       "      <td>0.0</td>\n",
       "      <td>NaN</td>\n",
       "      <td>NaN</td>\n",
       "      <td>NaN</td>\n",
       "      <td>NaN</td>\n",
       "      <td>NaN</td>\n",
       "      <td>NaN</td>\n",
       "      <td>NaN</td>\n",
       "      <td>NaN</td>\n",
       "      <td>NaN</td>\n",
       "    </tr>\n",
       "    <tr>\n",
       "      <th>4</th>\n",
       "      <td>1686</td>\n",
       "      <td>0.0</td>\n",
       "      <td>NaN</td>\n",
       "      <td>NaN</td>\n",
       "      <td>NaN</td>\n",
       "      <td>NaN</td>\n",
       "      <td>NaN</td>\n",
       "      <td>NaN</td>\n",
       "      <td>NaN</td>\n",
       "      <td>NaN</td>\n",
       "      <td>NaN</td>\n",
       "    </tr>\n",
       "    <tr>\n",
       "      <th>5</th>\n",
       "      <td>1687</td>\n",
       "      <td>0.0</td>\n",
       "      <td>NaN</td>\n",
       "      <td>NaN</td>\n",
       "      <td>NaN</td>\n",
       "      <td>NaN</td>\n",
       "      <td>NaN</td>\n",
       "      <td>NaN</td>\n",
       "      <td>NaN</td>\n",
       "      <td>NaN</td>\n",
       "      <td>NaN</td>\n",
       "    </tr>\n",
       "    <tr>\n",
       "      <th>6</th>\n",
       "      <td>1688</td>\n",
       "      <td>0.0</td>\n",
       "      <td>NaN</td>\n",
       "      <td>NaN</td>\n",
       "      <td>NaN</td>\n",
       "      <td>NaN</td>\n",
       "      <td>NaN</td>\n",
       "      <td>NaN</td>\n",
       "      <td>NaN</td>\n",
       "      <td>NaN</td>\n",
       "      <td>NaN</td>\n",
       "    </tr>\n",
       "    <tr>\n",
       "      <th>7</th>\n",
       "      <td>1689</td>\n",
       "      <td>0.0</td>\n",
       "      <td>NaN</td>\n",
       "      <td>NaN</td>\n",
       "      <td>NaN</td>\n",
       "      <td>NaN</td>\n",
       "      <td>NaN</td>\n",
       "      <td>NaN</td>\n",
       "      <td>NaN</td>\n",
       "      <td>NaN</td>\n",
       "      <td>NaN</td>\n",
       "    </tr>\n",
       "    <tr>\n",
       "      <th>8</th>\n",
       "      <td>1690</td>\n",
       "      <td>0.0</td>\n",
       "      <td>NaN</td>\n",
       "      <td>NaN</td>\n",
       "      <td>NaN</td>\n",
       "      <td>NaN</td>\n",
       "      <td>NaN</td>\n",
       "      <td>NaN</td>\n",
       "      <td>NaN</td>\n",
       "      <td>NaN</td>\n",
       "      <td>NaN</td>\n",
       "    </tr>\n",
       "    <tr>\n",
       "      <th>9</th>\n",
       "      <td>1691</td>\n",
       "      <td>0.0</td>\n",
       "      <td>NaN</td>\n",
       "      <td>NaN</td>\n",
       "      <td>NaN</td>\n",
       "      <td>NaN</td>\n",
       "      <td>NaN</td>\n",
       "      <td>NaN</td>\n",
       "      <td>NaN</td>\n",
       "      <td>NaN</td>\n",
       "      <td>NaN</td>\n",
       "    </tr>\n",
       "  </tbody>\n",
       "</table>\n",
       "</div>"
      ],
      "text/plain": [
       "   nanoHUB_user_ID__c  Total_tool_contributions__c  tool_users  andmore_users  \\\n",
       "0                 998                          0.0         NaN            NaN   \n",
       "1                1683                          0.0         NaN            NaN   \n",
       "2                1684                          0.0         NaN            NaN   \n",
       "3                1685                          0.0         NaN            NaN   \n",
       "4                1686                          0.0         NaN            NaN   \n",
       "5                1687                          0.0         NaN            NaN   \n",
       "6                1688                          0.0         NaN            NaN   \n",
       "7                1689                          0.0         NaN            NaN   \n",
       "8                1690                          0.0         NaN            NaN   \n",
       "9                1691                          0.0         NaN            NaN   \n",
       "\n",
       "   total_users  contributor__c  wiki_contributions__c  wiki_usage__c  \\\n",
       "0          NaN             NaN                    NaN            NaN   \n",
       "1          NaN             NaN                    NaN            NaN   \n",
       "2          NaN             NaN                    NaN            NaN   \n",
       "3          NaN             NaN                    NaN            NaN   \n",
       "4          NaN             NaN                    NaN            NaN   \n",
       "5          NaN             NaN                    NaN            NaN   \n",
       "6          NaN             NaN                    NaN            NaN   \n",
       "7          NaN             NaN                    NaN            NaN   \n",
       "8          NaN             NaN                    NaN            NaN   \n",
       "9          NaN             NaN                    NaN            NaN   \n",
       "\n",
       "   paper_contributions__c  presentations_contributions__c  \\\n",
       "0                     NaN                             NaN   \n",
       "1                     NaN                             NaN   \n",
       "2                     NaN                             NaN   \n",
       "3                     NaN                             NaN   \n",
       "4                     NaN                             NaN   \n",
       "5                     NaN                             NaN   \n",
       "6                     NaN                             NaN   \n",
       "7                     NaN                             NaN   \n",
       "8                     NaN                             NaN   \n",
       "9                     NaN                             NaN   \n",
       "\n",
       "   And_More_Contributions__c  \n",
       "0                        NaN  \n",
       "1                        NaN  \n",
       "2                        NaN  \n",
       "3                        NaN  \n",
       "4                        NaN  \n",
       "5                        NaN  \n",
       "6                        NaN  \n",
       "7                        NaN  \n",
       "8                        NaN  \n",
       "9                        NaN  "
      ]
     },
     "metadata": {},
     "output_type": "display_data"
    }
   ],
   "source": [
    "# calculate contributor flag\n",
    "for index,val in enumerate(nover_df['contributor__c'].to_list()):\n",
    "    # if any of the entries are non zero/non-NaN, then contributor__c = 1\n",
    "    if nover_df['total_users'][index] > 0:\n",
    "        nover_df['contributor__c'][index] = 1\n",
    "    elif nover_df['wiki_contributions__c'][index] > 0:\n",
    "        nover_df['contributor__c'][index] = 1\n",
    "    elif nover_df['paper_contributions__c'][index] > 0:\n",
    "        nover_df['contributor__c'][index] = 1\n",
    "    elif nover_df['presentations_contributions__c'][index] > 0:\n",
    "        nover_df['contributor__c'][index] = 1\n",
    "    elif nover_df['Total_tool_contributions__c'][index] > 0:\n",
    "        nover_df['contributor__c'][index] = 1\n",
    "        \n",
    "display(nover_df.head(10))"
   ]
  },
  {
   "cell_type": "code",
   "execution_count": 50,
   "metadata": {
    "execution": {
     "iopub.execute_input": "2021-10-27T19:04:29.260943Z",
     "iopub.status.busy": "2021-10-27T19:04:29.260599Z",
     "iopub.status.idle": "2021-10-27T19:04:29.280510Z",
     "shell.execute_reply": "2021-10-27T19:04:29.279334Z",
     "shell.execute_reply.started": "2021-10-27T19:04:29.260892Z"
    }
   },
   "outputs": [
    {
     "data": {
      "text/html": [
       "<div>\n",
       "<style scoped>\n",
       "    .dataframe tbody tr th:only-of-type {\n",
       "        vertical-align: middle;\n",
       "    }\n",
       "\n",
       "    .dataframe tbody tr th {\n",
       "        vertical-align: top;\n",
       "    }\n",
       "\n",
       "    .dataframe thead th {\n",
       "        text-align: right;\n",
       "    }\n",
       "</style>\n",
       "<table border=\"1\" class=\"dataframe\">\n",
       "  <thead>\n",
       "    <tr style=\"text-align: right;\">\n",
       "      <th></th>\n",
       "      <th>nanoHUB_user_ID__c</th>\n",
       "      <th>Total_tool_contributions__c</th>\n",
       "      <th>tool_users</th>\n",
       "      <th>andmore_users</th>\n",
       "      <th>total_users</th>\n",
       "      <th>contributor__c</th>\n",
       "      <th>wiki_contributions__c</th>\n",
       "      <th>wiki_usage__c</th>\n",
       "      <th>paper_contributions__c</th>\n",
       "      <th>presentations_contributions__c</th>\n",
       "      <th>And_More_Contributions__c</th>\n",
       "    </tr>\n",
       "  </thead>\n",
       "  <tbody>\n",
       "    <tr>\n",
       "      <th>25508</th>\n",
       "      <td>29294</td>\n",
       "      <td>5.0</td>\n",
       "      <td>4609.0</td>\n",
       "      <td>19282.0</td>\n",
       "      <td>23639.0</td>\n",
       "      <td>1.0</td>\n",
       "      <td>6.0</td>\n",
       "      <td>0.0</td>\n",
       "      <td>NaN</td>\n",
       "      <td>5.0</td>\n",
       "      <td>NaN</td>\n",
       "    </tr>\n",
       "  </tbody>\n",
       "</table>\n",
       "</div>"
      ],
      "text/plain": [
       "       nanoHUB_user_ID__c  Total_tool_contributions__c  tool_users  \\\n",
       "25508               29294                          5.0      4609.0   \n",
       "\n",
       "       andmore_users  total_users  contributor__c  wiki_contributions__c  \\\n",
       "25508        19282.0      23639.0             1.0                    6.0   \n",
       "\n",
       "       wiki_usage__c  paper_contributions__c  presentations_contributions__c  \\\n",
       "25508            0.0                     NaN                             5.0   \n",
       "\n",
       "       And_More_Contributions__c  \n",
       "25508                        NaN  "
      ]
     },
     "metadata": {},
     "output_type": "display_data"
    }
   ],
   "source": [
    "display(nover_df.loc[nover_df['nanoHUB_user_ID__c'] == 29294])"
   ]
  },
  {
   "cell_type": "markdown",
   "metadata": {},
   "source": [
    "## Fitting data to SF format"
   ]
  },
  {
   "cell_type": "code",
   "execution_count": 51,
   "metadata": {
    "execution": {
     "iopub.execute_input": "2021-10-27T19:05:23.205890Z",
     "iopub.status.busy": "2021-10-27T19:05:23.205705Z",
     "iopub.status.idle": "2021-10-27T19:05:23.512183Z",
     "shell.execute_reply": "2021-10-27T19:05:23.511646Z",
     "shell.execute_reply.started": "2021-10-27T19:05:23.205871Z"
    },
    "tags": []
   },
   "outputs": [
    {
     "data": {
      "text/html": [
       "<div>\n",
       "<style scoped>\n",
       "    .dataframe tbody tr th:only-of-type {\n",
       "        vertical-align: middle;\n",
       "    }\n",
       "\n",
       "    .dataframe tbody tr th {\n",
       "        vertical-align: top;\n",
       "    }\n",
       "\n",
       "    .dataframe thead th {\n",
       "        text-align: right;\n",
       "    }\n",
       "</style>\n",
       "<table border=\"1\" class=\"dataframe\">\n",
       "  <thead>\n",
       "    <tr style=\"text-align: right;\">\n",
       "      <th></th>\n",
       "      <th>nanoHUB_user_ID__c</th>\n",
       "      <th>And_More_Contributions__c</th>\n",
       "      <th>contributed_tool_usage__c</th>\n",
       "      <th>contributed_andmore_usage__c</th>\n",
       "      <th>contributor__c</th>\n",
       "      <th>wiki_contributions__c</th>\n",
       "      <th>wiki_usage__c</th>\n",
       "      <th>paper_contributions__c</th>\n",
       "      <th>presentations_contributions__c</th>\n",
       "    </tr>\n",
       "  </thead>\n",
       "  <tbody>\n",
       "    <tr>\n",
       "      <th>0</th>\n",
       "      <td>998</td>\n",
       "      <td>0</td>\n",
       "      <td>0</td>\n",
       "      <td>0</td>\n",
       "      <td>0.0</td>\n",
       "      <td>0.0</td>\n",
       "      <td>0.0</td>\n",
       "      <td>0.0</td>\n",
       "      <td>0.0</td>\n",
       "    </tr>\n",
       "    <tr>\n",
       "      <th>1</th>\n",
       "      <td>1683</td>\n",
       "      <td>0</td>\n",
       "      <td>0</td>\n",
       "      <td>0</td>\n",
       "      <td>0.0</td>\n",
       "      <td>0.0</td>\n",
       "      <td>0.0</td>\n",
       "      <td>0.0</td>\n",
       "      <td>0.0</td>\n",
       "    </tr>\n",
       "  </tbody>\n",
       "</table>\n",
       "</div>"
      ],
      "text/plain": [
       "   nanoHUB_user_ID__c  And_More_Contributions__c  contributed_tool_usage__c  \\\n",
       "0                 998                          0                          0   \n",
       "1                1683                          0                          0   \n",
       "\n",
       "   contributed_andmore_usage__c  contributor__c  wiki_contributions__c  \\\n",
       "0                             0             0.0                    0.0   \n",
       "1                             0             0.0                    0.0   \n",
       "\n",
       "   wiki_usage__c  paper_contributions__c  presentations_contributions__c  \n",
       "0            0.0                     0.0                             0.0  \n",
       "1            0.0                     0.0                             0.0  "
      ]
     },
     "metadata": {},
     "output_type": "display_data"
    }
   ],
   "source": [
    "## creating and populating the sf dataframe\n",
    "df_sf = pd.DataFrame()\n",
    "temp_df = nover_df.fillna(0)\n",
    "\n",
    "# populating df_sf and make integers\n",
    "df_sf['nanoHUB_user_ID__c'] = temp_df['nanoHUB_user_ID__c'].apply(lambda x: int(x))\n",
    "df_sf['And_More_Contributions__c'] = temp_df['And_More_Contributions__c'].apply(lambda x: int(x))\n",
    "df_sf['contributed_tool_usage__c'] = temp_df['tool_users'].apply(lambda x: int(x))\n",
    "df_sf['contributed_andmore_usage__c'] = temp_df['andmore_users'].apply(lambda x: int(x))\n",
    "df_sf['contributor__c'] = temp_df['contributor__c']\n",
    "\n",
    "df_sf['wiki_contributions__c'] = temp_df['wiki_contributions__c']\n",
    "df_sf['wiki_usage__c'] = temp_df['wiki_usage__c']\n",
    "df_sf['paper_contributions__c'] = temp_df['paper_contributions__c']\n",
    "df_sf['presentations_contributions__c'] = temp_df['presentations_contributions__c']\n",
    "\n",
    "display(df_sf.head(2))"
   ]
  },
  {
   "cell_type": "code",
   "execution_count": 52,
   "metadata": {
    "execution": {
     "iopub.execute_input": "2021-10-27T19:05:24.429831Z",
     "iopub.status.busy": "2021-10-27T19:05:24.429043Z",
     "iopub.status.idle": "2021-10-27T19:05:24.462126Z",
     "shell.execute_reply": "2021-10-27T19:05:24.461042Z",
     "shell.execute_reply.started": "2021-10-27T19:05:24.429777Z"
    }
   },
   "outputs": [
    {
     "data": {
      "text/html": [
       "<div>\n",
       "<style scoped>\n",
       "    .dataframe tbody tr th:only-of-type {\n",
       "        vertical-align: middle;\n",
       "    }\n",
       "\n",
       "    .dataframe tbody tr th {\n",
       "        vertical-align: top;\n",
       "    }\n",
       "\n",
       "    .dataframe thead th {\n",
       "        text-align: right;\n",
       "    }\n",
       "</style>\n",
       "<table border=\"1\" class=\"dataframe\">\n",
       "  <thead>\n",
       "    <tr style=\"text-align: right;\">\n",
       "      <th></th>\n",
       "      <th>nanoHUB_user_ID__c</th>\n",
       "      <th>And_More_Contributions__c</th>\n",
       "      <th>contributed_tool_usage__c</th>\n",
       "      <th>contributed_andmore_usage__c</th>\n",
       "      <th>contributor__c</th>\n",
       "      <th>wiki_contributions__c</th>\n",
       "      <th>wiki_usage__c</th>\n",
       "      <th>paper_contributions__c</th>\n",
       "      <th>presentations_contributions__c</th>\n",
       "    </tr>\n",
       "  </thead>\n",
       "  <tbody>\n",
       "    <tr>\n",
       "      <th>25508</th>\n",
       "      <td>29294</td>\n",
       "      <td>0</td>\n",
       "      <td>4609</td>\n",
       "      <td>19282</td>\n",
       "      <td>1.0</td>\n",
       "      <td>6.0</td>\n",
       "      <td>0.0</td>\n",
       "      <td>0.0</td>\n",
       "      <td>5.0</td>\n",
       "    </tr>\n",
       "  </tbody>\n",
       "</table>\n",
       "</div>"
      ],
      "text/plain": [
       "       nanoHUB_user_ID__c  And_More_Contributions__c  \\\n",
       "25508               29294                          0   \n",
       "\n",
       "       contributed_tool_usage__c  contributed_andmore_usage__c  \\\n",
       "25508                       4609                         19282   \n",
       "\n",
       "       contributor__c  wiki_contributions__c  wiki_usage__c  \\\n",
       "25508             1.0                    6.0            0.0   \n",
       "\n",
       "       paper_contributions__c  presentations_contributions__c  \n",
       "25508                     0.0                             5.0  "
      ]
     },
     "metadata": {},
     "output_type": "display_data"
    }
   ],
   "source": [
    "display(df_sf.loc[df_sf['nanoHUB_user_ID__c'] == 29294])"
   ]
  },
  {
   "cell_type": "markdown",
   "metadata": {},
   "source": [
    "## send data to SF"
   ]
  },
  {
   "cell_type": "code",
   "execution_count": 53,
   "metadata": {
    "execution": {
     "iopub.execute_input": "2021-10-27T19:05:49.193894Z",
     "iopub.status.busy": "2021-10-27T19:05:49.193656Z",
     "iopub.status.idle": "2021-10-27T19:05:49.200532Z",
     "shell.execute_reply": "2021-10-27T19:05:49.197599Z",
     "shell.execute_reply.started": "2021-10-27T19:05:49.193872Z"
    },
    "tags": []
   },
   "outputs": [],
   "source": [
    "# create DB2 to Salesforce API object\n",
    "db_s = salesforce\n",
    "\n",
    "# specify Salesforce object ID and external ID\n",
    "db_s.object_id = 'Contact'\n",
    "db_s.external_id = 'nanoHUB_user_ID__c'"
   ]
  },
  {
   "cell_type": "code",
   "execution_count": 54,
   "metadata": {
    "execution": {
     "iopub.execute_input": "2021-10-27T19:05:50.894908Z",
     "iopub.status.busy": "2021-10-27T19:05:50.894676Z",
     "iopub.status.idle": "2021-10-27T19:05:54.996722Z",
     "shell.execute_reply": "2021-10-27T19:05:54.995828Z",
     "shell.execute_reply.started": "2021-10-27T19:05:50.894889Z"
    },
    "tags": []
   },
   "outputs": [
    {
     "name": "stdout",
     "output_type": "stream",
     "text": [
      "[Success] Bulk job creation successful. Job ID = 7505w00000b2ZstAAE\n",
      "hello\n",
      "[Success] CSV upload successful. Job ID = 7505w00000b2ZstAAE\n",
      "[Success] Closing job successful. Job ID = 7505w00000b2ZstAAE\n"
     ]
    }
   ],
   "source": [
    "# send data to Salesforce\n",
    "db_s.send_data(df_sf)"
   ]
  },
  {
   "cell_type": "code",
   "execution_count": 55,
   "metadata": {
    "execution": {
     "iopub.execute_input": "2021-10-27T19:05:56.621537Z",
     "iopub.status.busy": "2021-10-27T19:05:56.621123Z",
     "iopub.status.idle": "2021-10-27T19:05:57.112014Z",
     "shell.execute_reply": "2021-10-27T19:05:57.110871Z",
     "shell.execute_reply.started": "2021-10-27T19:05:56.621516Z"
    },
    "scrolled": true,
    "tags": []
   },
   "outputs": [
    {
     "name": "stdout",
     "output_type": "stream",
     "text": [
      "{'apexProcessingTime': 0,\n",
      " 'apiActiveProcessingTime': 0,\n",
      " 'apiVersion': 47.0,\n",
      " 'columnDelimiter': 'COMMA',\n",
      " 'concurrencyMode': 'Parallel',\n",
      " 'contentType': 'CSV',\n",
      " 'createdById': '0055w00000DM5bOAAT',\n",
      " 'createdDate': '2021-10-27T19:05:51.000+0000',\n",
      " 'externalIdFieldName': 'nanoHUB_user_ID__c',\n",
      " 'id': '7505w00000b2ZstAAE',\n",
      " 'jobType': 'V2Ingest',\n",
      " 'lineEnding': 'LF',\n",
      " 'numberRecordsFailed': 0,\n",
      " 'numberRecordsProcessed': 0,\n",
      " 'object': 'Contact',\n",
      " 'operation': 'upsert',\n",
      " 'retries': 0,\n",
      " 'state': 'InProgress',\n",
      " 'systemModstamp': '2021-10-27T19:05:54.000+0000',\n",
      " 'totalProcessingTime': 0}\n"
     ]
    }
   ],
   "source": [
    "# check status\n",
    "from pprint import pprint\n",
    "\n",
    "pprint(db_s.check_bulk_status())"
   ]
  },
  {
   "cell_type": "code",
   "execution_count": 56,
   "metadata": {
    "execution": {
     "iopub.execute_input": "2021-10-27T19:06:01.478825Z",
     "iopub.status.busy": "2021-10-27T19:06:01.478647Z",
     "iopub.status.idle": "2021-10-27T19:06:01.741401Z",
     "shell.execute_reply": "2021-10-27T19:06:01.740626Z",
     "shell.execute_reply.started": "2021-10-27T19:06:01.478808Z"
    },
    "tags": []
   },
   "outputs": [
    {
     "name": "stdout",
     "output_type": "stream",
     "text": [
      "''\n"
     ]
    }
   ],
   "source": [
    "pprint(db_s.check_bulk_failed_results())"
   ]
  },
  {
   "cell_type": "code",
   "execution_count": null,
   "metadata": {},
   "outputs": [],
   "source": []
  }
 ],
 "metadata": {
  "kernelspec": {
   "display_name": "Python 3 (ipykernel)",
   "language": "python",
   "name": "python3"
  },
  "language_info": {
   "codemirror_mode": {
    "name": "ipython",
    "version": 3
   },
   "file_extension": ".py",
   "mimetype": "text/x-python",
   "name": "python",
   "nbconvert_exporter": "python",
   "pygments_lexer": "ipython3",
   "version": "3.8.10"
  }
 },
 "nbformat": 4,
 "nbformat_minor": 4
}