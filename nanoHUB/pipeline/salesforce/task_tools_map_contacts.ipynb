{
 "cells": [
  {
   "cell_type": "markdown",
   "metadata": {
    "papermill": {
     "duration": 0.039641,
     "end_time": "2021-01-21T06:30:34.834802",
     "exception": false,
     "start_time": "2021-01-21T06:30:34.795161",
     "status": "completed"
    },
    "tags": []
   },
   "source": [
    "# DB2-Salesforce connector: Tools mapping to users"
   ]
  },
  {
   "cell_type": "code",
   "execution_count": 1,
   "metadata": {
    "execution": {
     "iopub.execute_input": "2021-01-21T06:30:34.924245Z",
     "iopub.status.busy": "2021-01-21T06:30:34.923023Z",
     "iopub.status.idle": "2021-01-21T06:30:34.930776Z",
     "shell.execute_reply": "2021-01-21T06:30:34.923599Z"
    },
    "papermill": {
     "duration": 0.056328,
     "end_time": "2021-01-21T06:30:34.930924",
     "exception": false,
     "start_time": "2021-01-21T06:30:34.874596",
     "status": "completed"
    },
    "tags": [
     "parameters"
    ]
   },
   "outputs": [],
   "source": [
    "# API settings\n",
    "api_url = '/services/data/v43.0/sobjects'\n",
    "external_id = 'Name'\n",
    "object_id = 'ContactToolAssociation__c'\n",
    "\n",
    "from nanoHUB.pipeline.application import Application\n",
    "\n",
    "application = Application.get_instance()\n",
    "nanohub_db = application.new_db_engine('nanohub')\n",
    "nanohub_metrics_db = application.new_db_engine('nanohub_metrics')\n",
    "\n",
    "\n",
    "salesforce = application.new_salesforce_engine()\n",
    "db_s = salesforce"
   ]
  },
  {
   "cell_type": "code",
   "execution_count": 2,
   "metadata": {
    "execution": {
     "iopub.execute_input": "2021-01-21T06:30:35.045878Z",
     "iopub.status.busy": "2021-01-21T06:30:35.045309Z",
     "iopub.status.idle": "2021-01-21T06:30:40.739502Z",
     "shell.execute_reply": "2021-01-21T06:30:40.738695Z"
    },
    "papermill": {
     "duration": 5.790574,
     "end_time": "2021-01-21T06:30:40.739666",
     "exception": false,
     "start_time": "2021-01-21T06:30:34.949092",
     "status": "completed"
    },
    "tags": []
   },
   "outputs": [],
   "source": [
    "import pandas as pd\n",
    "import time\n",
    "import datetime\n"
   ]
  },
  {
   "cell_type": "markdown",
   "metadata": {
    "papermill": {
     "duration": 0.012627,
     "end_time": "2021-01-21T06:30:40.766699",
     "exception": false,
     "start_time": "2021-01-21T06:30:40.754072",
     "status": "completed"
    },
    "tags": []
   },
   "source": [
    "## Obtain tool information from DB2 "
   ]
  },
  {
   "cell_type": "code",
   "execution_count": 3,
   "metadata": {
    "execution": {
     "iopub.execute_input": "2021-01-21T06:30:40.817453Z",
     "iopub.status.busy": "2021-01-21T06:30:40.816878Z",
     "iopub.status.idle": "2021-01-21T07:06:47.379882Z",
     "shell.execute_reply": "2021-01-21T07:06:46.942124Z"
    },
    "papermill": {
     "duration": 2166.765297,
     "end_time": "2021-01-21T07:06:47.543975",
     "exception": false,
     "start_time": "2021-01-21T06:30:40.778678",
     "status": "completed"
    },
    "tags": []
   },
   "outputs": [],
   "source": [
    "# connect with DB2\n",
    "\n",
    "# toolstart\n",
    "sql_query = \"select user, tool as instance from nanohub_metrics.toolstart\"\n",
    "\n",
    "toolstart_df = pd.read_sql_query(sql_query, nanohub_metrics_db)\n",
    "\n",
    "# tool_version\n",
    "sql_query = \"select toolname, instance from nanohub.jos_tool_version\"\n",
    "\n",
    "tool_version_df = pd.read_sql_query(sql_query, nanohub_db)"
   ]
  },
  {
   "cell_type": "code",
   "execution_count": 4,
   "metadata": {
    "execution": {
     "iopub.execute_input": "2021-01-21T07:06:50.612377Z",
     "iopub.status.busy": "2021-01-21T07:06:50.515088Z",
     "iopub.status.idle": "2021-01-21T07:07:05.683457Z",
     "shell.execute_reply": "2021-01-21T07:07:05.662746Z"
    },
    "papermill": {
     "duration": 15.861831,
     "end_time": "2021-01-21T07:07:05.683663",
     "exception": false,
     "start_time": "2021-01-21T07:06:49.821832",
     "status": "completed"
    },
    "tags": []
   },
   "outputs": [
    {
     "data": {
      "text/html": [
       "<div>\n",
       "<style scoped>\n",
       "    .dataframe tbody tr th:only-of-type {\n",
       "        vertical-align: middle;\n",
       "    }\n",
       "\n",
       "    .dataframe tbody tr th {\n",
       "        vertical-align: top;\n",
       "    }\n",
       "\n",
       "    .dataframe thead th {\n",
       "        text-align: right;\n",
       "    }\n",
       "</style>\n",
       "<table border=\"1\" class=\"dataframe\">\n",
       "  <thead>\n",
       "    <tr style=\"text-align: right;\">\n",
       "      <th></th>\n",
       "      <th>user</th>\n",
       "      <th>instance</th>\n",
       "    </tr>\n",
       "  </thead>\n",
       "  <tbody>\n",
       "    <tr>\n",
       "      <th>0</th>\n",
       "      <td>herre</td>\n",
       "      <td>cnt-iv</td>\n",
       "    </tr>\n",
       "    <tr>\n",
       "      <th>1</th>\n",
       "      <td>donovan</td>\n",
       "      <td>huckel-iv</td>\n",
       "    </tr>\n",
       "  </tbody>\n",
       "</table>\n",
       "</div>"
      ],
      "text/plain": [
       "      user   instance\n",
       "0    herre     cnt-iv\n",
       "1  donovan  huckel-iv"
      ]
     },
     "metadata": {},
     "output_type": "display_data"
    },
    {
     "data": {
      "text/html": [
       "<div>\n",
       "<style scoped>\n",
       "    .dataframe tbody tr th:only-of-type {\n",
       "        vertical-align: middle;\n",
       "    }\n",
       "\n",
       "    .dataframe tbody tr th {\n",
       "        vertical-align: top;\n",
       "    }\n",
       "\n",
       "    .dataframe thead th {\n",
       "        text-align: right;\n",
       "    }\n",
       "</style>\n",
       "<table border=\"1\" class=\"dataframe\">\n",
       "  <thead>\n",
       "    <tr style=\"text-align: right;\">\n",
       "      <th></th>\n",
       "      <th>toolname</th>\n",
       "      <th>instance</th>\n",
       "    </tr>\n",
       "  </thead>\n",
       "  <tbody>\n",
       "    <tr>\n",
       "      <th>0</th>\n",
       "      <td></td>\n",
       "      <td></td>\n",
       "    </tr>\n",
       "    <tr>\n",
       "      <th>1</th>\n",
       "      <td>112016a</td>\n",
       "      <td>112016a_dev</td>\n",
       "    </tr>\n",
       "  </tbody>\n",
       "</table>\n",
       "</div>"
      ],
      "text/plain": [
       "  toolname     instance\n",
       "0                      \n",
       "1  112016a  112016a_dev"
      ]
     },
     "metadata": {},
     "output_type": "display_data"
    }
   ],
   "source": [
    "# convert all to lower case\n",
    "toolstart_df['user'] = toolstart_df['user'].apply(str.lower)\n",
    "toolstart_df['instance'] = toolstart_df['instance'].apply(str.lower)\n",
    "\n",
    "tool_version_df['toolname'] = tool_version_df['toolname'].apply(str.lower)\n",
    "tool_version_df['instance'] = tool_version_df['instance'].apply(str.lower)\n",
    "\n",
    "# display\n",
    "\n",
    "display(toolstart_df.head(2))\n",
    "display(tool_version_df.head(2))"
   ]
  },
  {
   "cell_type": "code",
   "execution_count": 5,
   "metadata": {
    "execution": {
     "iopub.execute_input": "2021-01-21T07:07:05.844280Z",
     "iopub.status.busy": "2021-01-21T07:07:05.814242Z",
     "iopub.status.idle": "2021-01-21T07:07:07.617384Z",
     "shell.execute_reply": "2021-01-21T07:07:07.617842Z"
    },
    "papermill": {
     "duration": 1.904273,
     "end_time": "2021-01-21T07:07:07.618027",
     "exception": false,
     "start_time": "2021-01-21T07:07:05.713754",
     "status": "completed"
    },
    "tags": []
   },
   "outputs": [
    {
     "data": {
      "text/html": [
       "<div>\n",
       "<style scoped>\n",
       "    .dataframe tbody tr th:only-of-type {\n",
       "        vertical-align: middle;\n",
       "    }\n",
       "\n",
       "    .dataframe tbody tr th {\n",
       "        vertical-align: top;\n",
       "    }\n",
       "\n",
       "    .dataframe thead th {\n",
       "        text-align: right;\n",
       "    }\n",
       "</style>\n",
       "<table border=\"1\" class=\"dataframe\">\n",
       "  <thead>\n",
       "    <tr style=\"text-align: right;\">\n",
       "      <th></th>\n",
       "      <th>toolname</th>\n",
       "      <th>instance</th>\n",
       "    </tr>\n",
       "  </thead>\n",
       "  <tbody>\n",
       "    <tr>\n",
       "      <th>0</th>\n",
       "      <td></td>\n",
       "      <td></td>\n",
       "    </tr>\n",
       "    <tr>\n",
       "      <th>1</th>\n",
       "      <td>112016a</td>\n",
       "      <td>112016a</td>\n",
       "    </tr>\n",
       "    <tr>\n",
       "      <th>2</th>\n",
       "      <td>1dbtetransient</td>\n",
       "      <td>1dbtetransient</td>\n",
       "    </tr>\n",
       "  </tbody>\n",
       "</table>\n",
       "</div>"
      ],
      "text/plain": [
       "         toolname        instance\n",
       "0                                \n",
       "1         112016a         112016a\n",
       "2  1dbtetransient  1dbtetransient"
      ]
     },
     "execution_count": 5,
     "metadata": {},
     "output_type": "execute_result"
    }
   ],
   "source": [
    "# insert the toolname into instance as well\n",
    "dummy = pd.DataFrame()\n",
    "dummy['toolname'] = tool_version_df['toolname'].drop_duplicates()\n",
    "dummy['instance'] = dummy['toolname']\n",
    "\n",
    "tool_version_df = pd.concat([dummy, tool_version_df], axis=0).drop_duplicates().reset_index(drop=True)\n",
    "\n",
    "# display\n",
    "tool_version_df.head(3)"
   ]
  },
  {
   "cell_type": "code",
   "execution_count": 6,
   "metadata": {
    "execution": {
     "iopub.execute_input": "2021-01-21T07:07:07.784898Z",
     "iopub.status.busy": "2021-01-21T07:07:07.761362Z",
     "iopub.status.idle": "2021-01-21T07:07:19.106168Z",
     "shell.execute_reply": "2021-01-21T07:07:19.113310Z"
    },
    "papermill": {
     "duration": 11.473066,
     "end_time": "2021-01-21T07:07:19.114688",
     "exception": false,
     "start_time": "2021-01-21T07:07:07.641622",
     "status": "completed"
    },
    "tags": []
   },
   "outputs": [],
   "source": [
    "# merge toolname into toolstart\n",
    "df = pd.merge(toolstart_df, tool_version_df, how='left', left_on='instance', right_on='instance')[['user', 'toolname']]"
   ]
  },
  {
   "cell_type": "code",
   "execution_count": 7,
   "metadata": {
    "execution": {
     "iopub.execute_input": "2021-01-21T07:07:19.383653Z",
     "iopub.status.busy": "2021-01-21T07:07:19.235625Z",
     "iopub.status.idle": "2021-01-21T07:07:28.176984Z",
     "shell.execute_reply": "2021-01-21T07:07:28.176229Z"
    },
    "papermill": {
     "duration": 9.023866,
     "end_time": "2021-01-21T07:07:28.177213",
     "exception": false,
     "start_time": "2021-01-21T07:07:19.153347",
     "status": "completed"
    },
    "tags": []
   },
   "outputs": [],
   "source": [
    "# count number of tool runs by each user, each tool\n",
    "df = df.groupby(['user', 'toolname'])['toolname'].count().to_frame(name='cnt').reset_index()"
   ]
  },
  {
   "cell_type": "code",
   "execution_count": 8,
   "metadata": {
    "execution": {
     "iopub.execute_input": "2021-01-21T07:07:28.342560Z",
     "iopub.status.busy": "2021-01-21T07:07:28.341968Z",
     "iopub.status.idle": "2021-01-21T07:07:28.481205Z",
     "shell.execute_reply": "2021-01-21T07:07:28.481772Z"
    },
    "papermill": {
     "duration": 0.284195,
     "end_time": "2021-01-21T07:07:28.481933",
     "exception": false,
     "start_time": "2021-01-21T07:07:28.197738",
     "status": "completed"
    },
    "tags": []
   },
   "outputs": [
    {
     "data": {
      "text/html": [
       "<div>\n",
       "<style scoped>\n",
       "    .dataframe tbody tr th:only-of-type {\n",
       "        vertical-align: middle;\n",
       "    }\n",
       "\n",
       "    .dataframe tbody tr th {\n",
       "        vertical-align: top;\n",
       "    }\n",
       "\n",
       "    .dataframe thead th {\n",
       "        text-align: right;\n",
       "    }\n",
       "</style>\n",
       "<table border=\"1\" class=\"dataframe\">\n",
       "  <thead>\n",
       "    <tr style=\"text-align: right;\">\n",
       "      <th></th>\n",
       "      <th>user</th>\n",
       "      <th>toolname</th>\n",
       "      <th>cnt</th>\n",
       "    </tr>\n",
       "  </thead>\n",
       "  <tbody>\n",
       "    <tr>\n",
       "      <th>0</th>\n",
       "      <td></td>\n",
       "      <td></td>\n",
       "      <td>885</td>\n",
       "    </tr>\n",
       "    <tr>\n",
       "      <th>1</th>\n",
       "      <td>0.yao.yuan</td>\n",
       "      <td>mosfet</td>\n",
       "      <td>11</td>\n",
       "    </tr>\n",
       "    <tr>\n",
       "      <th>2</th>\n",
       "      <td>0.yao.yuan</td>\n",
       "      <td>mosfetsat</td>\n",
       "      <td>4</td>\n",
       "    </tr>\n",
       "  </tbody>\n",
       "</table>\n",
       "</div>"
      ],
      "text/plain": [
       "         user   toolname  cnt\n",
       "0                         885\n",
       "1  0.yao.yuan     mosfet   11\n",
       "2  0.yao.yuan  mosfetsat    4"
      ]
     },
     "execution_count": 8,
     "metadata": {},
     "output_type": "execute_result"
    }
   ],
   "source": [
    "# just in case some NaN values made through\n",
    "df = df[~df.user.isna()]\n",
    "df = df[~df.toolname.isna()]\n",
    "\n",
    "# display\n",
    "df.head(3)"
   ]
  },
  {
   "cell_type": "markdown",
   "metadata": {
    "papermill": {
     "duration": 0.035835,
     "end_time": "2021-01-21T07:07:28.541885",
     "exception": false,
     "start_time": "2021-01-21T07:07:28.506050",
     "status": "completed"
    },
    "tags": []
   },
   "source": [
    "## Obtain Salesforce IDs"
   ]
  },
  {
   "cell_type": "code",
   "execution_count": 9,
   "metadata": {
    "execution": {
     "iopub.execute_input": "2021-01-21T07:07:28.754083Z",
     "iopub.status.busy": "2021-01-21T07:07:28.610556Z",
     "iopub.status.idle": "2021-01-21T07:07:33.673900Z",
     "shell.execute_reply": "2021-01-21T07:07:33.674385Z"
    },
    "papermill": {
     "duration": 5.119463,
     "end_time": "2021-01-21T07:07:33.674600",
     "exception": false,
     "start_time": "2021-01-21T07:07:28.555137",
     "status": "completed"
    },
    "tags": []
   },
   "outputs": [
    {
     "name": "stdout",
     "output_type": "stream",
     "text": [
      "Obtained Salesforce access token ...... True\n"
     ]
    }
   ],
   "source": [
    "# create DB2 to Salesforce API object"
   ]
  },
  {
   "cell_type": "code",
   "execution_count": 10,
   "metadata": {
    "execution": {
     "iopub.execute_input": "2021-01-21T07:07:33.834944Z",
     "iopub.status.busy": "2021-01-21T07:07:33.816327Z",
     "iopub.status.idle": "2021-01-21T07:07:48.523863Z",
     "shell.execute_reply": "2021-01-21T07:07:48.523438Z"
    },
    "papermill": {
     "duration": 14.830485,
     "end_time": "2021-01-21T07:07:48.523992",
     "exception": false,
     "start_time": "2021-01-21T07:07:33.693507",
     "status": "completed"
    },
    "tags": []
   },
   "outputs": [
    {
     "name": "stdout",
     "output_type": "stream",
     "text": [
      "[Success] Bulk job creation successful. Job ID = 7505w00000TmJWNAA3\n",
      "{\"id\":\"7505w00000TmJWNAA3\",\"operation\":\"query\",\"object\":\"Contact\",\"createdById\":\"0055w00000DM5bOAAT\",\"createdDate\":\"2021-01-21T07:07:34.000+0000\",\"systemModstamp\":\"2021-01-21T07:07:34.000+0000\",\"state\":\"UploadComplete\",\"concurrencyMode\":\"Parallel\",\"contentType\":\"CSV\",\"apiVersion\":47.0,\"jobType\":\"V2Query\",\"lineEnding\":\"LF\",\"columnDelimiter\":\"COMMA\",\"retries\":0,\"totalProcessingTime\":0}\n",
      "{\"id\":\"7505w00000TmJWNAA3\",\"operation\":\"query\",\"object\":\"Contact\",\"createdById\":\"0055w00000DM5bOAAT\",\"createdDate\":\"2021-01-21T07:07:34.000+0000\",\"systemModstamp\":\"2021-01-21T07:07:44.000+0000\",\"state\":\"JobComplete\",\"concurrencyMode\":\"Parallel\",\"contentType\":\"CSV\",\"apiVersion\":47.0,\"jobType\":\"V2Query\",\"lineEnding\":\"LF\",\"columnDelimiter\":\"COMMA\",\"numberRecordsProcessed\":229673,\"retries\":0,\"totalProcessingTime\":8326}\n",
      "[Success] Bulk job completed successfully.\n"
     ]
    },
    {
     "data": {
      "text/html": [
       "<div>\n",
       "<style scoped>\n",
       "    .dataframe tbody tr th:only-of-type {\n",
       "        vertical-align: middle;\n",
       "    }\n",
       "\n",
       "    .dataframe tbody tr th {\n",
       "        vertical-align: top;\n",
       "    }\n",
       "\n",
       "    .dataframe thead th {\n",
       "        text-align: right;\n",
       "    }\n",
       "</style>\n",
       "<table border=\"1\" class=\"dataframe\">\n",
       "  <thead>\n",
       "    <tr style=\"text-align: right;\">\n",
       "      <th></th>\n",
       "      <th>Id</th>\n",
       "      <th>nanoHUB_username__c</th>\n",
       "    </tr>\n",
       "  </thead>\n",
       "  <tbody>\n",
       "    <tr>\n",
       "      <th>0</th>\n",
       "      <td>0035w000031Vsp1AAC</td>\n",
       "      <td>hubrepo</td>\n",
       "    </tr>\n",
       "    <tr>\n",
       "      <th>1</th>\n",
       "      <td>0035w000031Vsp2AAC</td>\n",
       "      <td>support</td>\n",
       "    </tr>\n",
       "    <tr>\n",
       "      <th>2</th>\n",
       "      <td>0035w000031Vsp3AAC</td>\n",
       "      <td>gridstat</td>\n",
       "    </tr>\n",
       "  </tbody>\n",
       "</table>\n",
       "</div>"
      ],
      "text/plain": [
       "                   Id nanoHUB_username__c\n",
       "0  0035w000031Vsp1AAC             hubrepo\n",
       "1  0035w000031Vsp2AAC             support\n",
       "2  0035w000031Vsp3AAC            gridstat"
      ]
     },
     "execution_count": 10,
     "metadata": {},
     "output_type": "execute_result"
    }
   ],
   "source": [
    "# query the Salesforce IDs for contacts and citations. when updating junction objects, these IDs must be used\n",
    "\n",
    "# get Salesforce ID for contacts\n",
    "sf_username_df = db_s.query_data('SELECT Id, nanoHUB_username__c FROM Contact where nanoHUB_username__c != NULL')\n",
    "\n",
    "# display\n",
    "sf_username_df.head(3)"
   ]
  },
  {
   "cell_type": "code",
   "execution_count": 11,
   "metadata": {
    "execution": {
     "iopub.execute_input": "2021-01-21T07:07:48.601692Z",
     "iopub.status.busy": "2021-01-21T07:07:48.601132Z",
     "iopub.status.idle": "2021-01-21T07:08:00.560085Z",
     "shell.execute_reply": "2021-01-21T07:08:00.560497Z"
    },
    "papermill": {
     "duration": 12.021683,
     "end_time": "2021-01-21T07:08:00.560659",
     "exception": false,
     "start_time": "2021-01-21T07:07:48.538976",
     "status": "completed"
    },
    "tags": []
   },
   "outputs": [
    {
     "name": "stdout",
     "output_type": "stream",
     "text": [
      "[Success] Bulk job creation successful. Job ID = 7505w00000TmJ4eAAF\n",
      "{\"id\":\"7505w00000TmJ4eAAF\",\"operation\":\"query\",\"object\":\"nanoHUB_tools__c\",\"createdById\":\"0055w00000DM5bOAAT\",\"createdDate\":\"2021-01-21T07:07:48.000+0000\",\"systemModstamp\":\"2021-01-21T07:07:48.000+0000\",\"state\":\"UploadComplete\",\"concurrencyMode\":\"Parallel\",\"contentType\":\"CSV\",\"apiVersion\":47.0,\"jobType\":\"V2Query\",\"lineEnding\":\"LF\",\"columnDelimiter\":\"COMMA\",\"retries\":0,\"totalProcessingTime\":0}\n",
      "{\"id\":\"7505w00000TmJ4eAAF\",\"operation\":\"query\",\"object\":\"nanoHUB_tools__c\",\"createdById\":\"0055w00000DM5bOAAT\",\"createdDate\":\"2021-01-21T07:07:48.000+0000\",\"systemModstamp\":\"2021-01-21T07:07:53.000+0000\",\"state\":\"JobComplete\",\"concurrencyMode\":\"Parallel\",\"contentType\":\"CSV\",\"apiVersion\":47.0,\"jobType\":\"V2Query\",\"lineEnding\":\"LF\",\"columnDelimiter\":\"COMMA\",\"numberRecordsProcessed\":1693,\"retries\":0,\"totalProcessingTime\":404}\n",
      "[Success] Bulk job completed successfully.\n"
     ]
    },
    {
     "data": {
      "text/html": [
       "<div>\n",
       "<style scoped>\n",
       "    .dataframe tbody tr th:only-of-type {\n",
       "        vertical-align: middle;\n",
       "    }\n",
       "\n",
       "    .dataframe tbody tr th {\n",
       "        vertical-align: top;\n",
       "    }\n",
       "\n",
       "    .dataframe thead th {\n",
       "        text-align: right;\n",
       "    }\n",
       "</style>\n",
       "<table border=\"1\" class=\"dataframe\">\n",
       "  <thead>\n",
       "    <tr style=\"text-align: right;\">\n",
       "      <th></th>\n",
       "      <th>Id</th>\n",
       "      <th>Tool_name__c</th>\n",
       "    </tr>\n",
       "  </thead>\n",
       "  <tbody>\n",
       "    <tr>\n",
       "      <th>0</th>\n",
       "      <td>a0s5w00000k5MOwAAM</td>\n",
       "      <td>ellipsom</td>\n",
       "    </tr>\n",
       "    <tr>\n",
       "      <th>1</th>\n",
       "      <td>a0s5w00000k5MOxAAM</td>\n",
       "      <td>hydrolab</td>\n",
       "    </tr>\n",
       "    <tr>\n",
       "      <th>2</th>\n",
       "      <td>a0s5w00000k5MOyAAM</td>\n",
       "      <td>huckel</td>\n",
       "    </tr>\n",
       "  </tbody>\n",
       "</table>\n",
       "</div>"
      ],
      "text/plain": [
       "                   Id Tool_name__c\n",
       "0  a0s5w00000k5MOwAAM     ellipsom\n",
       "1  a0s5w00000k5MOxAAM     hydrolab\n",
       "2  a0s5w00000k5MOyAAM       huckel"
      ]
     },
     "execution_count": 11,
     "metadata": {},
     "output_type": "execute_result"
    }
   ],
   "source": [
    "# get Salesforce ID for citations\n",
    "sf_tool_df = db_s.query_data('SELECT Id, Tool_name__c FROM nanoHUB_tools__c')\n",
    "\n",
    "# display\n",
    "sf_tool_df.head(3)"
   ]
  },
  {
   "cell_type": "markdown",
   "metadata": {
    "papermill": {
     "duration": 0.01671,
     "end_time": "2021-01-21T07:08:00.594258",
     "exception": false,
     "start_time": "2021-01-21T07:08:00.577548",
     "status": "completed"
    },
    "tags": []
   },
   "source": [
    "## Match data with Salesforce format"
   ]
  },
  {
   "cell_type": "code",
   "execution_count": 12,
   "metadata": {
    "execution": {
     "iopub.execute_input": "2021-01-21T07:08:00.671717Z",
     "iopub.status.busy": "2021-01-21T07:08:00.671109Z",
     "iopub.status.idle": "2021-01-21T07:08:00.766459Z",
     "shell.execute_reply": "2021-01-21T07:08:00.766876Z"
    },
    "papermill": {
     "duration": 0.156842,
     "end_time": "2021-01-21T07:08:00.767047",
     "exception": false,
     "start_time": "2021-01-21T07:08:00.610205",
     "status": "completed"
    },
    "tags": []
   },
   "outputs": [],
   "source": [
    "# make sure all strings are lower cases\n",
    "\n",
    "sf_username_df['nanoHUB_username__c'] = sf_username_df['nanoHUB_username__c'].astype('str').apply(str.lower)\n",
    "\n",
    "sf_tool_df['Tool_name__c'] = sf_tool_df['Tool_name__c'].astype('str').apply(str.lower)"
   ]
  },
  {
   "cell_type": "code",
   "execution_count": 13,
   "metadata": {
    "execution": {
     "iopub.execute_input": "2021-01-21T07:08:00.931960Z",
     "iopub.status.busy": "2021-01-21T07:08:00.931389Z",
     "iopub.status.idle": "2021-01-21T07:08:01.956537Z",
     "shell.execute_reply": "2021-01-21T07:08:01.956073Z"
    },
    "papermill": {
     "duration": 1.173232,
     "end_time": "2021-01-21T07:08:01.956665",
     "exception": false,
     "start_time": "2021-01-21T07:08:00.783433",
     "status": "completed"
    },
    "tags": []
   },
   "outputs": [
    {
     "data": {
      "text/html": [
       "<div>\n",
       "<style scoped>\n",
       "    .dataframe tbody tr th:only-of-type {\n",
       "        vertical-align: middle;\n",
       "    }\n",
       "\n",
       "    .dataframe tbody tr th {\n",
       "        vertical-align: top;\n",
       "    }\n",
       "\n",
       "    .dataframe thead th {\n",
       "        text-align: right;\n",
       "    }\n",
       "</style>\n",
       "<table border=\"1\" class=\"dataframe\">\n",
       "  <thead>\n",
       "    <tr style=\"text-align: right;\">\n",
       "      <th></th>\n",
       "      <th>user</th>\n",
       "      <th>toolname</th>\n",
       "      <th>cnt</th>\n",
       "      <th>SF_ID_tool</th>\n",
       "      <th>Tool_name__c</th>\n",
       "      <th>SF_ID_contact</th>\n",
       "      <th>nanoHUB_username__c</th>\n",
       "    </tr>\n",
       "  </thead>\n",
       "  <tbody>\n",
       "    <tr>\n",
       "      <th>0</th>\n",
       "      <td>0.yao.yuan</td>\n",
       "      <td>mosfet</td>\n",
       "      <td>11</td>\n",
       "      <td>a0s5w00000k5MPbAAM</td>\n",
       "      <td>mosfet</td>\n",
       "      <td>0035w000034IX15AAG</td>\n",
       "      <td>0.yao.yuan</td>\n",
       "    </tr>\n",
       "    <tr>\n",
       "      <th>1</th>\n",
       "      <td>0.yao.yuan</td>\n",
       "      <td>mosfetsat</td>\n",
       "      <td>4</td>\n",
       "      <td>a0s5w00000k5Mc5AAE</td>\n",
       "      <td>mosfetsat</td>\n",
       "      <td>0035w000034IX15AAG</td>\n",
       "      <td>0.yao.yuan</td>\n",
       "    </tr>\n",
       "  </tbody>\n",
       "</table>\n",
       "</div>"
      ],
      "text/plain": [
       "         user   toolname  cnt          SF_ID_tool Tool_name__c  \\\n",
       "0  0.yao.yuan     mosfet   11  a0s5w00000k5MPbAAM       mosfet   \n",
       "1  0.yao.yuan  mosfetsat    4  a0s5w00000k5Mc5AAE    mosfetsat   \n",
       "\n",
       "        SF_ID_contact nanoHUB_username__c  \n",
       "0  0035w000034IX15AAG          0.yao.yuan  \n",
       "1  0035w000034IX15AAG          0.yao.yuan  "
      ]
     },
     "execution_count": 13,
     "metadata": {},
     "output_type": "execute_result"
    }
   ],
   "source": [
    "# merge SF citation and contact IDs into user-citation DF\n",
    "ct_tolink_df = pd.merge(df, sf_tool_df, how='inner', left_on='toolname', right_on='Tool_name__c')\\\n",
    "                           .rename(columns={'Id':'SF_ID_tool'})\n",
    "                                            \n",
    "ct_tolink_df = pd.merge(ct_tolink_df, sf_username_df, how='inner', left_on='user', right_on='nanoHUB_username__c')\\\n",
    "                           .rename(columns={'Id':'SF_ID_contact'})\n",
    "\n",
    "# display\n",
    "ct_tolink_df.head(2)"
   ]
  },
  {
   "cell_type": "code",
   "execution_count": 14,
   "metadata": {
    "execution": {
     "iopub.execute_input": "2021-01-21T07:08:02.022779Z",
     "iopub.status.busy": "2021-01-21T07:08:02.022218Z",
     "iopub.status.idle": "2021-01-21T07:08:15.690556Z",
     "shell.execute_reply": "2021-01-21T07:08:15.657096Z"
    },
    "papermill": {
     "duration": 13.717554,
     "end_time": "2021-01-21T07:08:15.690713",
     "exception": false,
     "start_time": "2021-01-21T07:08:01.973159",
     "status": "completed"
    },
    "tags": []
   },
   "outputs": [],
   "source": [
    "# create a new column for object name\n",
    "ct_tolink_df['Name'] = ct_tolink_df.apply(lambda x: '%s_%s'%(x.nanoHUB_username__c, x.Tool_name__c), axis=1)"
   ]
  },
  {
   "cell_type": "code",
   "execution_count": 15,
   "metadata": {
    "execution": {
     "iopub.execute_input": "2021-01-21T07:08:15.756427Z",
     "iopub.status.busy": "2021-01-21T07:08:15.755802Z",
     "iopub.status.idle": "2021-01-21T07:08:15.848643Z",
     "shell.execute_reply": "2021-01-21T07:08:15.848208Z"
    },
    "papermill": {
     "duration": 0.140412,
     "end_time": "2021-01-21T07:08:15.848772",
     "exception": false,
     "start_time": "2021-01-21T07:08:15.708360",
     "status": "completed"
    },
    "tags": []
   },
   "outputs": [
    {
     "data": {
      "text/html": [
       "<div>\n",
       "<style scoped>\n",
       "    .dataframe tbody tr th:only-of-type {\n",
       "        vertical-align: middle;\n",
       "    }\n",
       "\n",
       "    .dataframe tbody tr th {\n",
       "        vertical-align: top;\n",
       "    }\n",
       "\n",
       "    .dataframe thead th {\n",
       "        text-align: right;\n",
       "    }\n",
       "</style>\n",
       "<table border=\"1\" class=\"dataframe\">\n",
       "  <thead>\n",
       "    <tr style=\"text-align: right;\">\n",
       "      <th></th>\n",
       "      <th>0</th>\n",
       "      <th>1</th>\n",
       "    </tr>\n",
       "  </thead>\n",
       "  <tbody>\n",
       "    <tr>\n",
       "      <th>Name</th>\n",
       "      <td>0.yao.yuan_mosfet</td>\n",
       "      <td>0.yao.yuan_mosfetsat</td>\n",
       "    </tr>\n",
       "    <tr>\n",
       "      <th>Contact__c</th>\n",
       "      <td>0035w000034IX15AAG</td>\n",
       "      <td>0035w000034IX15AAG</td>\n",
       "    </tr>\n",
       "    <tr>\n",
       "      <th>Tool__c</th>\n",
       "      <td>a0s5w00000k5MPbAAM</td>\n",
       "      <td>a0s5w00000k5Mc5AAE</td>\n",
       "    </tr>\n",
       "    <tr>\n",
       "      <th>Total_Runs__c</th>\n",
       "      <td>11</td>\n",
       "      <td>4</td>\n",
       "    </tr>\n",
       "  </tbody>\n",
       "</table>\n",
       "</div>"
      ],
      "text/plain": [
       "                                0                     1\n",
       "Name            0.yao.yuan_mosfet  0.yao.yuan_mosfetsat\n",
       "Contact__c     0035w000034IX15AAG    0035w000034IX15AAG\n",
       "Tool__c        a0s5w00000k5MPbAAM    a0s5w00000k5Mc5AAE\n",
       "Total_Runs__c                  11                     4"
      ]
     },
     "execution_count": 15,
     "metadata": {},
     "output_type": "execute_result"
    }
   ],
   "source": [
    "df_sf = pd.DataFrame()\n",
    "\n",
    "# Make sure NaN and NaT values are taken care of here\n",
    "df_sf['Name']         = ct_tolink_df['Name']\n",
    "df_sf['Contact__c'] = ct_tolink_df['SF_ID_contact']\n",
    "df_sf['Tool__c']       = ct_tolink_df['SF_ID_tool']\n",
    "df_sf['Total_Runs__c'] = ct_tolink_df['cnt']\n",
    "sf_original_fields = df_sf.columns\n",
    "\n",
    "# display\n",
    "df_sf.head(2).T"
   ]
  },
  {
   "cell_type": "markdown",
   "metadata": {
    "papermill": {
     "duration": 0.016407,
     "end_time": "2021-01-21T07:08:15.881766",
     "exception": false,
     "start_time": "2021-01-21T07:08:15.865359",
     "status": "completed"
    },
    "tags": []
   },
   "source": [
    "## To Salesforce Sales Cloud CRM"
   ]
  },
  {
   "cell_type": "code",
   "execution_count": 16,
   "metadata": {
    "execution": {
     "iopub.execute_input": "2021-01-21T07:08:15.946084Z",
     "iopub.status.busy": "2021-01-21T07:08:15.945458Z",
     "iopub.status.idle": "2021-01-21T07:08:16.325028Z",
     "shell.execute_reply": "2021-01-21T07:08:16.325453Z"
    },
    "papermill": {
     "duration": 0.42769,
     "end_time": "2021-01-21T07:08:16.325615",
     "exception": false,
     "start_time": "2021-01-21T07:08:15.897925",
     "status": "completed"
    },
    "tags": []
   },
   "outputs": [
    {
     "name": "stdout",
     "output_type": "stream",
     "text": [
      "Obtained Salesforce access token ...... True\n"
     ]
    }
   ],
   "source": [
    "# create DB2 to Salesforce API object\n",
    "\n",
    "# specify Salesforce object ID and external ID\n",
    "db_s.object_id = object_id\n",
    "db_s.external_id = external_id"
   ]
  },
  {
   "cell_type": "code",
   "execution_count": 17,
   "metadata": {
    "execution": {
     "iopub.execute_input": "2021-01-21T07:08:16.424232Z",
     "iopub.status.busy": "2021-01-21T07:08:16.423158Z",
     "iopub.status.idle": "2021-01-21T07:08:20.686260Z",
     "shell.execute_reply": "2021-01-21T07:08:20.686758Z"
    },
    "papermill": {
     "duration": 4.344691,
     "end_time": "2021-01-21T07:08:20.686922",
     "exception": false,
     "start_time": "2021-01-21T07:08:16.342231",
     "status": "completed"
    },
    "tags": []
   },
   "outputs": [
    {
     "name": "stdout",
     "output_type": "stream",
     "text": [
      "[Success] Bulk job creation successful. Job ID = 7505w00000TmJXaAAN\n",
      "hello\n",
      "[Success] CSV upload successful. Job ID = 7505w00000TmJXaAAN\n",
      "[Success] Closing job successful. Job ID = 7505w00000TmJXaAAN\n"
     ]
    }
   ],
   "source": [
    "# send data to Salesforce\n",
    "db_s.send_data(df_sf)"
   ]
  },
  {
   "cell_type": "code",
   "execution_count": 18,
   "metadata": {
    "execution": {
     "iopub.execute_input": "2021-01-21T07:08:20.764863Z",
     "iopub.status.busy": "2021-01-21T07:08:20.764304Z",
     "iopub.status.idle": "2021-01-21T07:08:21.146934Z",
     "shell.execute_reply": "2021-01-21T07:08:21.146500Z"
    },
    "papermill": {
     "duration": 0.441625,
     "end_time": "2021-01-21T07:08:21.147064",
     "exception": false,
     "start_time": "2021-01-21T07:08:20.705439",
     "status": "completed"
    },
    "tags": []
   },
   "outputs": [
    {
     "name": "stdout",
     "output_type": "stream",
     "text": [
      "{'apexProcessingTime': 0,\n",
      " 'apiActiveProcessingTime': 0,\n",
      " 'apiVersion': 47.0,\n",
      " 'columnDelimiter': 'COMMA',\n",
      " 'concurrencyMode': 'Parallel',\n",
      " 'contentType': 'CSV',\n",
      " 'createdById': '0055w00000DM5bOAAT',\n",
      " 'createdDate': '2021-01-21T07:08:16.000+0000',\n",
      " 'externalIdFieldName': 'Name',\n",
      " 'id': '7505w00000TmJXaAAN',\n",
      " 'jobType': 'V2Ingest',\n",
      " 'lineEnding': 'LF',\n",
      " 'numberRecordsFailed': 0,\n",
      " 'numberRecordsProcessed': 0,\n",
      " 'object': 'ContactToolAssociation__c',\n",
      " 'operation': 'upsert',\n",
      " 'retries': 0,\n",
      " 'state': 'InProgress',\n",
      " 'systemModstamp': '2021-01-21T07:08:20.000+0000',\n",
      " 'totalProcessingTime': 0}\n"
     ]
    }
   ],
   "source": [
    "# check status\n",
    "from pprint import pprint\n",
    "\n",
    "pprint(db_s.check_bulk_status())"
   ]
  },
  {
   "cell_type": "code",
   "execution_count": null,
   "metadata": {
    "papermill": {
     "duration": 0.019052,
     "end_time": "2021-01-21T07:08:21.188035",
     "exception": false,
     "start_time": "2021-01-21T07:08:21.168983",
     "status": "completed"
    },
    "tags": []
   },
   "outputs": [],
   "source": []
  }
 ],
 "metadata": {
  "celltoolbar": "Tags",
  "kernelspec": {
   "display_name": "Python 3",
   "language": "python",
   "name": "python3"
  },
  "language_info": {
   "codemirror_mode": {
    "name": "ipython",
    "version": 3
   },
   "file_extension": ".py",
   "mimetype": "text/x-python",
   "name": "python",
   "nbconvert_exporter": "python",
   "pygments_lexer": "ipython3",
   "version": "3.7.10"
  },
  "papermill": {
   "duration": 2276.894298,
   "end_time": "2021-01-21T07:08:28.955316",
   "environment_variables": {},
   "exception": null,
   "input_path": "/home/users/wang2506/nanohub_salesforce_integ/salesforce/task_tools_map_contacts.ipynb",
   "output_path": "/home/users/wang2506/nanohub_salesforce_integ/salesforce/task_tools_map_contacts.ipynb",
   "parameters": {},
   "start_time": "2021-01-21T06:30:32.061018",
   "version": "2.1.1"
  }
 },
 "nbformat": 4,
 "nbformat_minor": 4
}