{
 "cells": [
  {
   "cell_type": "markdown",
   "metadata": {
    "papermill": {
     "duration": 0.034047,
     "end_time": "2021-01-21T06:30:34.779159",
     "exception": false,
     "start_time": "2021-01-21T06:30:34.745112",
     "status": "completed"
    },
    "tags": []
   },
   "source": [
    "# DB2-Salesforce connector: determine organization of each contact based on aggregated cluster and citation information.\n"
   ]
  },
  {
   "cell_type": "code",
   "execution_count": 1,
   "metadata": {
    "execution": {
     "iopub.execute_input": "2021-01-21T06:30:34.963430Z",
     "iopub.status.busy": "2021-01-21T06:30:34.962261Z",
     "iopub.status.idle": "2021-01-21T06:30:34.963989Z",
     "shell.execute_reply": "2021-01-21T06:30:34.962777Z"
    },
    "papermill": {
     "duration": 0.140095,
     "end_time": "2021-01-21T06:30:34.964155",
     "exception": false,
     "start_time": "2021-01-21T06:30:34.824060",
     "status": "completed"
    },
    "tags": [
     "parameters"
    ]
   },
   "outputs": [],
   "source": [
    "# API settings\n",
    "api_url = '/services/data/v43.0/sobjects'\n",
    "external_id = 'Name'\n",
    "object_id = 'contact_citation_asso__c'\n",
    "\n",
    "from nanoHUB.pipeline.application import Application\n",
    "\n",
    "application = Application.get_instance()\n",
    "nanohub_db = application.new_db_engine('nanohub')\n",
    "wang159_myrmekes_db = application.new_db_engine('wang159_myrmekes')\n",
    "\n",
    "salesforce = application.new_salesforce_engine()\n",
    "db_s = salesforce\n"
   ]
  },
  {
   "cell_type": "code",
   "execution_count": 2,
   "metadata": {
    "execution": {
     "iopub.execute_input": "2021-01-21T06:30:35.051524Z",
     "iopub.status.busy": "2021-01-21T06:30:35.050918Z",
     "iopub.status.idle": "2021-01-21T06:30:40.492611Z",
     "shell.execute_reply": "2021-01-21T06:30:40.492124Z"
    },
    "papermill": {
     "duration": 5.496616,
     "end_time": "2021-01-21T06:30:40.492750",
     "exception": false,
     "start_time": "2021-01-21T06:30:34.996134",
     "status": "completed"
    },
    "tags": []
   },
   "outputs": [],
   "source": [
    "    \n",
    "import pandas as pd\n",
    "import time\n",
    "import datetime"
   ]
  },
  {
   "cell_type": "markdown",
   "metadata": {
    "papermill": {
     "duration": 0.074745,
     "end_time": "2021-01-21T06:30:40.614583",
     "exception": false,
     "start_time": "2021-01-21T06:30:40.539838",
     "status": "completed"
    },
    "tags": []
   },
   "source": [
    "## Obtain tool information from DB2 "
   ]
  },
  {
   "cell_type": "markdown",
   "metadata": {
    "papermill": {
     "duration": 0.033707,
     "end_time": "2021-01-21T06:30:40.698303",
     "exception": false,
     "start_time": "2021-01-21T06:30:40.664596",
     "status": "completed"
    },
    "tags": []
   },
   "source": [
    "## Obtain Salesforce IDs\n"
   ]
  },
  {
   "cell_type": "code",
   "execution_count": 4,
   "metadata": {
    "execution": {
     "iopub.execute_input": "2021-01-21T06:30:41.283919Z",
     "iopub.status.busy": "2021-01-21T06:30:41.283283Z",
     "iopub.status.idle": "2021-01-21T06:40:48.021144Z",
     "shell.execute_reply": "2021-01-21T06:40:48.181956Z"
    },
    "papermill": {
     "duration": 607.380609,
     "end_time": "2021-01-21T06:40:48.625467",
     "exception": false,
     "start_time": "2021-01-21T06:30:41.244858",
     "status": "completed"
    },
    "tags": []
   },
   "outputs": [
    {
     "name": "stdout",
     "output_type": "stream",
     "text": [
      "[Success] Bulk job creation successful. Job ID = 7505w00000TmJFRAA3\n",
      "{\"id\":\"7505w00000TmJFRAA3\",\"operation\":\"query\",\"object\":\"contact_citation_asso__c\",\"createdById\":\"0055w00000DM5bOAAT\",\"createdDate\":\"2021-01-21T06:30:41.000+0000\",\"systemModstamp\":\"2021-01-21T06:30:41.000+0000\",\"state\":\"UploadComplete\",\"concurrencyMode\":\"Parallel\",\"contentType\":\"CSV\",\"apiVersion\":47.0,\"jobType\":\"V2Query\",\"lineEnding\":\"LF\",\"columnDelimiter\":\"COMMA\",\"retries\":0,\"totalProcessingTime\":0}\n",
      "{\"id\":\"7505w00000TmJFRAA3\",\"operation\":\"query\",\"object\":\"contact_citation_asso__c\",\"createdById\":\"0055w00000DM5bOAAT\",\"createdDate\":\"2021-01-21T06:30:41.000+0000\",\"systemModstamp\":\"2021-01-21T06:30:41.000+0000\",\"state\":\"UploadComplete\",\"concurrencyMode\":\"Parallel\",\"contentType\":\"CSV\",\"apiVersion\":47.0,\"jobType\":\"V2Query\",\"lineEnding\":\"LF\",\"columnDelimiter\":\"COMMA\",\"retries\":0,\"totalProcessingTime\":0}\n",
      "{\"id\":\"7505w00000TmJFRAA3\",\"operation\":\"query\",\"object\":\"contact_citation_asso__c\",\"createdById\":\"0055w00000DM5bOAAT\",\"createdDate\":\"2021-01-21T06:30:41.000+0000\",\"systemModstamp\":\"2021-01-21T06:30:41.000+0000\",\"state\":\"UploadComplete\",\"concurrencyMode\":\"Parallel\",\"contentType\":\"CSV\",\"apiVersion\":47.0,\"jobType\":\"V2Query\",\"lineEnding\":\"LF\",\"columnDelimiter\":\"COMMA\",\"retries\":0,\"totalProcessingTime\":0}\n",
      "{\"id\":\"7505w00000TmJFRAA3\",\"operation\":\"query\",\"object\":\"contact_citation_asso__c\",\"createdById\":\"0055w00000DM5bOAAT\",\"createdDate\":\"2021-01-21T06:30:41.000+0000\",\"systemModstamp\":\"2021-01-21T06:30:41.000+0000\",\"state\":\"UploadComplete\",\"concurrencyMode\":\"Parallel\",\"contentType\":\"CSV\",\"apiVersion\":47.0,\"jobType\":\"V2Query\",\"lineEnding\":\"LF\",\"columnDelimiter\":\"COMMA\",\"retries\":0,\"totalProcessingTime\":0}\n",
      "{\"id\":\"7505w00000TmJFRAA3\",\"operation\":\"query\",\"object\":\"contact_citation_asso__c\",\"createdById\":\"0055w00000DM5bOAAT\",\"createdDate\":\"2021-01-21T06:30:41.000+0000\",\"systemModstamp\":\"2021-01-21T06:30:41.000+0000\",\"state\":\"UploadComplete\",\"concurrencyMode\":\"Parallel\",\"contentType\":\"CSV\",\"apiVersion\":47.0,\"jobType\":\"V2Query\",\"lineEnding\":\"LF\",\"columnDelimiter\":\"COMMA\",\"retries\":0,\"totalProcessingTime\":0}\n",
      "{\"id\":\"7505w00000TmJFRAA3\",\"operation\":\"query\",\"object\":\"contact_citation_asso__c\",\"createdById\":\"0055w00000DM5bOAAT\",\"createdDate\":\"2021-01-21T06:30:41.000+0000\",\"systemModstamp\":\"2021-01-21T06:30:41.000+0000\",\"state\":\"UploadComplete\",\"concurrencyMode\":\"Parallel\",\"contentType\":\"CSV\",\"apiVersion\":47.0,\"jobType\":\"V2Query\",\"lineEnding\":\"LF\",\"columnDelimiter\":\"COMMA\",\"retries\":0,\"totalProcessingTime\":0}\n",
      "{\"id\":\"7505w00000TmJFRAA3\",\"operation\":\"query\",\"object\":\"contact_citation_asso__c\",\"createdById\":\"0055w00000DM5bOAAT\",\"createdDate\":\"2021-01-21T06:30:41.000+0000\",\"systemModstamp\":\"2021-01-21T06:30:41.000+0000\",\"state\":\"UploadComplete\",\"concurrencyMode\":\"Parallel\",\"contentType\":\"CSV\",\"apiVersion\":47.0,\"jobType\":\"V2Query\",\"lineEnding\":\"LF\",\"columnDelimiter\":\"COMMA\",\"retries\":0,\"totalProcessingTime\":0}\n",
      "{\"id\":\"7505w00000TmJFRAA3\",\"operation\":\"query\",\"object\":\"contact_citation_asso__c\",\"createdById\":\"0055w00000DM5bOAAT\",\"createdDate\":\"2021-01-21T06:30:41.000+0000\",\"systemModstamp\":\"2021-01-21T06:30:41.000+0000\",\"state\":\"UploadComplete\",\"concurrencyMode\":\"Parallel\",\"contentType\":\"CSV\",\"apiVersion\":47.0,\"jobType\":\"V2Query\",\"lineEnding\":\"LF\",\"columnDelimiter\":\"COMMA\",\"retries\":0,\"totalProcessingTime\":0}\n",
      "{\"id\":\"7505w00000TmJFRAA3\",\"operation\":\"query\",\"object\":\"contact_citation_asso__c\",\"createdById\":\"0055w00000DM5bOAAT\",\"createdDate\":\"2021-01-21T06:30:41.000+0000\",\"systemModstamp\":\"2021-01-21T06:30:41.000+0000\",\"state\":\"UploadComplete\",\"concurrencyMode\":\"Parallel\",\"contentType\":\"CSV\",\"apiVersion\":47.0,\"jobType\":\"V2Query\",\"lineEnding\":\"LF\",\"columnDelimiter\":\"COMMA\",\"retries\":0,\"totalProcessingTime\":0}\n",
      "{\"id\":\"7505w00000TmJFRAA3\",\"operation\":\"query\",\"object\":\"contact_citation_asso__c\",\"createdById\":\"0055w00000DM5bOAAT\",\"createdDate\":\"2021-01-21T06:30:41.000+0000\",\"systemModstamp\":\"2021-01-21T06:30:41.000+0000\",\"state\":\"UploadComplete\",\"concurrencyMode\":\"Parallel\",\"contentType\":\"CSV\",\"apiVersion\":47.0,\"jobType\":\"V2Query\",\"lineEnding\":\"LF\",\"columnDelimiter\":\"COMMA\",\"retries\":0,\"totalProcessingTime\":0}\n",
      "{\"id\":\"7505w00000TmJFRAA3\",\"operation\":\"query\",\"object\":\"contact_citation_asso__c\",\"createdById\":\"0055w00000DM5bOAAT\",\"createdDate\":\"2021-01-21T06:30:41.000+0000\",\"systemModstamp\":\"2021-01-21T06:30:41.000+0000\",\"state\":\"UploadComplete\",\"concurrencyMode\":\"Parallel\",\"contentType\":\"CSV\",\"apiVersion\":47.0,\"jobType\":\"V2Query\",\"lineEnding\":\"LF\",\"columnDelimiter\":\"COMMA\",\"retries\":0,\"totalProcessingTime\":0}\n",
      "{\"id\":\"7505w00000TmJFRAA3\",\"operation\":\"query\",\"object\":\"contact_citation_asso__c\",\"createdById\":\"0055w00000DM5bOAAT\",\"createdDate\":\"2021-01-21T06:30:41.000+0000\",\"systemModstamp\":\"2021-01-21T06:30:41.000+0000\",\"state\":\"UploadComplete\",\"concurrencyMode\":\"Parallel\",\"contentType\":\"CSV\",\"apiVersion\":47.0,\"jobType\":\"V2Query\",\"lineEnding\":\"LF\",\"columnDelimiter\":\"COMMA\",\"retries\":0,\"totalProcessingTime\":0}\n",
      "{\"id\":\"7505w00000TmJFRAA3\",\"operation\":\"query\",\"object\":\"contact_citation_asso__c\",\"createdById\":\"0055w00000DM5bOAAT\",\"createdDate\":\"2021-01-21T06:30:41.000+0000\",\"systemModstamp\":\"2021-01-21T06:30:41.000+0000\",\"state\":\"UploadComplete\",\"concurrencyMode\":\"Parallel\",\"contentType\":\"CSV\",\"apiVersion\":47.0,\"jobType\":\"V2Query\",\"lineEnding\":\"LF\",\"columnDelimiter\":\"COMMA\",\"retries\":0,\"totalProcessingTime\":0}\n",
      "{\"id\":\"7505w00000TmJFRAA3\",\"operation\":\"query\",\"object\":\"contact_citation_asso__c\",\"createdById\":\"0055w00000DM5bOAAT\",\"createdDate\":\"2021-01-21T06:30:41.000+0000\",\"systemModstamp\":\"2021-01-21T06:30:41.000+0000\",\"state\":\"UploadComplete\",\"concurrencyMode\":\"Parallel\",\"contentType\":\"CSV\",\"apiVersion\":47.0,\"jobType\":\"V2Query\",\"lineEnding\":\"LF\",\"columnDelimiter\":\"COMMA\",\"retries\":0,\"totalProcessingTime\":0}\n",
      "{\"id\":\"7505w00000TmJFRAA3\",\"operation\":\"query\",\"object\":\"contact_citation_asso__c\",\"createdById\":\"0055w00000DM5bOAAT\",\"createdDate\":\"2021-01-21T06:30:41.000+0000\",\"systemModstamp\":\"2021-01-21T06:30:41.000+0000\",\"state\":\"UploadComplete\",\"concurrencyMode\":\"Parallel\",\"contentType\":\"CSV\",\"apiVersion\":47.0,\"jobType\":\"V2Query\",\"lineEnding\":\"LF\",\"columnDelimiter\":\"COMMA\",\"retries\":0,\"totalProcessingTime\":0}\n",
      "{\"id\":\"7505w00000TmJFRAA3\",\"operation\":\"query\",\"object\":\"contact_citation_asso__c\",\"createdById\":\"0055w00000DM5bOAAT\",\"createdDate\":\"2021-01-21T06:30:41.000+0000\",\"systemModstamp\":\"2021-01-21T06:30:41.000+0000\",\"state\":\"UploadComplete\",\"concurrencyMode\":\"Parallel\",\"contentType\":\"CSV\",\"apiVersion\":47.0,\"jobType\":\"V2Query\",\"lineEnding\":\"LF\",\"columnDelimiter\":\"COMMA\",\"retries\":0,\"totalProcessingTime\":0}\n",
      "{\"id\":\"7505w00000TmJFRAA3\",\"operation\":\"query\",\"object\":\"contact_citation_asso__c\",\"createdById\":\"0055w00000DM5bOAAT\",\"createdDate\":\"2021-01-21T06:30:41.000+0000\",\"systemModstamp\":\"2021-01-21T06:30:41.000+0000\",\"state\":\"UploadComplete\",\"concurrencyMode\":\"Parallel\",\"contentType\":\"CSV\",\"apiVersion\":47.0,\"jobType\":\"V2Query\",\"lineEnding\":\"LF\",\"columnDelimiter\":\"COMMA\",\"retries\":0,\"totalProcessingTime\":0}\n",
      "{\"id\":\"7505w00000TmJFRAA3\",\"operation\":\"query\",\"object\":\"contact_citation_asso__c\",\"createdById\":\"0055w00000DM5bOAAT\",\"createdDate\":\"2021-01-21T06:30:41.000+0000\",\"systemModstamp\":\"2021-01-21T06:30:41.000+0000\",\"state\":\"UploadComplete\",\"concurrencyMode\":\"Parallel\",\"contentType\":\"CSV\",\"apiVersion\":47.0,\"jobType\":\"V2Query\",\"lineEnding\":\"LF\",\"columnDelimiter\":\"COMMA\",\"retries\":0,\"totalProcessingTime\":0}\n",
      "{\"id\":\"7505w00000TmJFRAA3\",\"operation\":\"query\",\"object\":\"contact_citation_asso__c\",\"createdById\":\"0055w00000DM5bOAAT\",\"createdDate\":\"2021-01-21T06:30:41.000+0000\",\"systemModstamp\":\"2021-01-21T06:30:41.000+0000\",\"state\":\"UploadComplete\",\"concurrencyMode\":\"Parallel\",\"contentType\":\"CSV\",\"apiVersion\":47.0,\"jobType\":\"V2Query\",\"lineEnding\":\"LF\",\"columnDelimiter\":\"COMMA\",\"retries\":0,\"totalProcessingTime\":0}\n",
      "{\"id\":\"7505w00000TmJFRAA3\",\"operation\":\"query\",\"object\":\"contact_citation_asso__c\",\"createdById\":\"0055w00000DM5bOAAT\",\"createdDate\":\"2021-01-21T06:30:41.000+0000\",\"systemModstamp\":\"2021-01-21T06:30:41.000+0000\",\"state\":\"UploadComplete\",\"concurrencyMode\":\"Parallel\",\"contentType\":\"CSV\",\"apiVersion\":47.0,\"jobType\":\"V2Query\",\"lineEnding\":\"LF\",\"columnDelimiter\":\"COMMA\",\"retries\":0,\"totalProcessingTime\":0}\n",
      "{\"id\":\"7505w00000TmJFRAA3\",\"operation\":\"query\",\"object\":\"contact_citation_asso__c\",\"createdById\":\"0055w00000DM5bOAAT\",\"createdDate\":\"2021-01-21T06:30:41.000+0000\",\"systemModstamp\":\"2021-01-21T06:30:41.000+0000\",\"state\":\"UploadComplete\",\"concurrencyMode\":\"Parallel\",\"contentType\":\"CSV\",\"apiVersion\":47.0,\"jobType\":\"V2Query\",\"lineEnding\":\"LF\",\"columnDelimiter\":\"COMMA\",\"retries\":0,\"totalProcessingTime\":0}\n"
     ]
    },
    {
     "name": "stdout",
     "output_type": "stream",
     "text": [
      "{\"id\":\"7505w00000TmJFRAA3\",\"operation\":\"query\",\"object\":\"contact_citation_asso__c\",\"createdById\":\"0055w00000DM5bOAAT\",\"createdDate\":\"2021-01-21T06:30:41.000+0000\",\"systemModstamp\":\"2021-01-21T06:30:41.000+0000\",\"state\":\"UploadComplete\",\"concurrencyMode\":\"Parallel\",\"contentType\":\"CSV\",\"apiVersion\":47.0,\"jobType\":\"V2Query\",\"lineEnding\":\"LF\",\"columnDelimiter\":\"COMMA\",\"retries\":0,\"totalProcessingTime\":0}\n",
      "{\"id\":\"7505w00000TmJFRAA3\",\"operation\":\"query\",\"object\":\"contact_citation_asso__c\",\"createdById\":\"0055w00000DM5bOAAT\",\"createdDate\":\"2021-01-21T06:30:41.000+0000\",\"systemModstamp\":\"2021-01-21T06:30:41.000+0000\",\"state\":\"UploadComplete\",\"concurrencyMode\":\"Parallel\",\"contentType\":\"CSV\",\"apiVersion\":47.0,\"jobType\":\"V2Query\",\"lineEnding\":\"LF\",\"columnDelimiter\":\"COMMA\",\"retries\":0,\"totalProcessingTime\":0}\n",
      "{\"id\":\"7505w00000TmJFRAA3\",\"operation\":\"query\",\"object\":\"contact_citation_asso__c\",\"createdById\":\"0055w00000DM5bOAAT\",\"createdDate\":\"2021-01-21T06:30:41.000+0000\",\"systemModstamp\":\"2021-01-21T06:30:41.000+0000\",\"state\":\"UploadComplete\",\"concurrencyMode\":\"Parallel\",\"contentType\":\"CSV\",\"apiVersion\":47.0,\"jobType\":\"V2Query\",\"lineEnding\":\"LF\",\"columnDelimiter\":\"COMMA\",\"retries\":0,\"totalProcessingTime\":0}\n",
      "{\"id\":\"7505w00000TmJFRAA3\",\"operation\":\"query\",\"object\":\"contact_citation_asso__c\",\"createdById\":\"0055w00000DM5bOAAT\",\"createdDate\":\"2021-01-21T06:30:41.000+0000\",\"systemModstamp\":\"2021-01-21T06:30:41.000+0000\",\"state\":\"UploadComplete\",\"concurrencyMode\":\"Parallel\",\"contentType\":\"CSV\",\"apiVersion\":47.0,\"jobType\":\"V2Query\",\"lineEnding\":\"LF\",\"columnDelimiter\":\"COMMA\",\"retries\":0,\"totalProcessingTime\":0}\n",
      "{\"id\":\"7505w00000TmJFRAA3\",\"operation\":\"query\",\"object\":\"contact_citation_asso__c\",\"createdById\":\"0055w00000DM5bOAAT\",\"createdDate\":\"2021-01-21T06:30:41.000+0000\",\"systemModstamp\":\"2021-01-21T06:30:41.000+0000\",\"state\":\"UploadComplete\",\"concurrencyMode\":\"Parallel\",\"contentType\":\"CSV\",\"apiVersion\":47.0,\"jobType\":\"V2Query\",\"lineEnding\":\"LF\",\"columnDelimiter\":\"COMMA\",\"retries\":0,\"totalProcessingTime\":0}\n",
      "{\"id\":\"7505w00000TmJFRAA3\",\"operation\":\"query\",\"object\":\"contact_citation_asso__c\",\"createdById\":\"0055w00000DM5bOAAT\",\"createdDate\":\"2021-01-21T06:30:41.000+0000\",\"systemModstamp\":\"2021-01-21T06:30:41.000+0000\",\"state\":\"UploadComplete\",\"concurrencyMode\":\"Parallel\",\"contentType\":\"CSV\",\"apiVersion\":47.0,\"jobType\":\"V2Query\",\"lineEnding\":\"LF\",\"columnDelimiter\":\"COMMA\",\"retries\":0,\"totalProcessingTime\":0}\n",
      "{\"id\":\"7505w00000TmJFRAA3\",\"operation\":\"query\",\"object\":\"contact_citation_asso__c\",\"createdById\":\"0055w00000DM5bOAAT\",\"createdDate\":\"2021-01-21T06:30:41.000+0000\",\"systemModstamp\":\"2021-01-21T06:30:41.000+0000\",\"state\":\"UploadComplete\",\"concurrencyMode\":\"Parallel\",\"contentType\":\"CSV\",\"apiVersion\":47.0,\"jobType\":\"V2Query\",\"lineEnding\":\"LF\",\"columnDelimiter\":\"COMMA\",\"retries\":0,\"totalProcessingTime\":0}\n",
      "{\"id\":\"7505w00000TmJFRAA3\",\"operation\":\"query\",\"object\":\"contact_citation_asso__c\",\"createdById\":\"0055w00000DM5bOAAT\",\"createdDate\":\"2021-01-21T06:30:41.000+0000\",\"systemModstamp\":\"2021-01-21T06:30:41.000+0000\",\"state\":\"UploadComplete\",\"concurrencyMode\":\"Parallel\",\"contentType\":\"CSV\",\"apiVersion\":47.0,\"jobType\":\"V2Query\",\"lineEnding\":\"LF\",\"columnDelimiter\":\"COMMA\",\"retries\":0,\"totalProcessingTime\":0}\n",
      "{\"id\":\"7505w00000TmJFRAA3\",\"operation\":\"query\",\"object\":\"contact_citation_asso__c\",\"createdById\":\"0055w00000DM5bOAAT\",\"createdDate\":\"2021-01-21T06:30:41.000+0000\",\"systemModstamp\":\"2021-01-21T06:30:41.000+0000\",\"state\":\"UploadComplete\",\"concurrencyMode\":\"Parallel\",\"contentType\":\"CSV\",\"apiVersion\":47.0,\"jobType\":\"V2Query\",\"lineEnding\":\"LF\",\"columnDelimiter\":\"COMMA\",\"retries\":0,\"totalProcessingTime\":0}\n",
      "{\"id\":\"7505w00000TmJFRAA3\",\"operation\":\"query\",\"object\":\"contact_citation_asso__c\",\"createdById\":\"0055w00000DM5bOAAT\",\"createdDate\":\"2021-01-21T06:30:41.000+0000\",\"systemModstamp\":\"2021-01-21T06:30:41.000+0000\",\"state\":\"UploadComplete\",\"concurrencyMode\":\"Parallel\",\"contentType\":\"CSV\",\"apiVersion\":47.0,\"jobType\":\"V2Query\",\"lineEnding\":\"LF\",\"columnDelimiter\":\"COMMA\",\"retries\":0,\"totalProcessingTime\":0}\n",
      "{\"id\":\"7505w00000TmJFRAA3\",\"operation\":\"query\",\"object\":\"contact_citation_asso__c\",\"createdById\":\"0055w00000DM5bOAAT\",\"createdDate\":\"2021-01-21T06:30:41.000+0000\",\"systemModstamp\":\"2021-01-21T06:30:41.000+0000\",\"state\":\"UploadComplete\",\"concurrencyMode\":\"Parallel\",\"contentType\":\"CSV\",\"apiVersion\":47.0,\"jobType\":\"V2Query\",\"lineEnding\":\"LF\",\"columnDelimiter\":\"COMMA\",\"retries\":0,\"totalProcessingTime\":0}\n",
      "{\"id\":\"7505w00000TmJFRAA3\",\"operation\":\"query\",\"object\":\"contact_citation_asso__c\",\"createdById\":\"0055w00000DM5bOAAT\",\"createdDate\":\"2021-01-21T06:30:41.000+0000\",\"systemModstamp\":\"2021-01-21T06:30:41.000+0000\",\"state\":\"UploadComplete\",\"concurrencyMode\":\"Parallel\",\"contentType\":\"CSV\",\"apiVersion\":47.0,\"jobType\":\"V2Query\",\"lineEnding\":\"LF\",\"columnDelimiter\":\"COMMA\",\"retries\":0,\"totalProcessingTime\":0}\n",
      "{\"id\":\"7505w00000TmJFRAA3\",\"operation\":\"query\",\"object\":\"contact_citation_asso__c\",\"createdById\":\"0055w00000DM5bOAAT\",\"createdDate\":\"2021-01-21T06:30:41.000+0000\",\"systemModstamp\":\"2021-01-21T06:30:41.000+0000\",\"state\":\"UploadComplete\",\"concurrencyMode\":\"Parallel\",\"contentType\":\"CSV\",\"apiVersion\":47.0,\"jobType\":\"V2Query\",\"lineEnding\":\"LF\",\"columnDelimiter\":\"COMMA\",\"retries\":0,\"totalProcessingTime\":0}\n",
      "{\"id\":\"7505w00000TmJFRAA3\",\"operation\":\"query\",\"object\":\"contact_citation_asso__c\",\"createdById\":\"0055w00000DM5bOAAT\",\"createdDate\":\"2021-01-21T06:30:41.000+0000\",\"systemModstamp\":\"2021-01-21T06:30:41.000+0000\",\"state\":\"UploadComplete\",\"concurrencyMode\":\"Parallel\",\"contentType\":\"CSV\",\"apiVersion\":47.0,\"jobType\":\"V2Query\",\"lineEnding\":\"LF\",\"columnDelimiter\":\"COMMA\",\"retries\":0,\"totalProcessingTime\":0}\n",
      "{\"id\":\"7505w00000TmJFRAA3\",\"operation\":\"query\",\"object\":\"contact_citation_asso__c\",\"createdById\":\"0055w00000DM5bOAAT\",\"createdDate\":\"2021-01-21T06:30:41.000+0000\",\"systemModstamp\":\"2021-01-21T06:30:41.000+0000\",\"state\":\"UploadComplete\",\"concurrencyMode\":\"Parallel\",\"contentType\":\"CSV\",\"apiVersion\":47.0,\"jobType\":\"V2Query\",\"lineEnding\":\"LF\",\"columnDelimiter\":\"COMMA\",\"retries\":0,\"totalProcessingTime\":0}\n",
      "{\"id\":\"7505w00000TmJFRAA3\",\"operation\":\"query\",\"object\":\"contact_citation_asso__c\",\"createdById\":\"0055w00000DM5bOAAT\",\"createdDate\":\"2021-01-21T06:30:41.000+0000\",\"systemModstamp\":\"2021-01-21T06:30:41.000+0000\",\"state\":\"UploadComplete\",\"concurrencyMode\":\"Parallel\",\"contentType\":\"CSV\",\"apiVersion\":47.0,\"jobType\":\"V2Query\",\"lineEnding\":\"LF\",\"columnDelimiter\":\"COMMA\",\"retries\":0,\"totalProcessingTime\":0}\n",
      "{\"id\":\"7505w00000TmJFRAA3\",\"operation\":\"query\",\"object\":\"contact_citation_asso__c\",\"createdById\":\"0055w00000DM5bOAAT\",\"createdDate\":\"2021-01-21T06:30:41.000+0000\",\"systemModstamp\":\"2021-01-21T06:30:41.000+0000\",\"state\":\"UploadComplete\",\"concurrencyMode\":\"Parallel\",\"contentType\":\"CSV\",\"apiVersion\":47.0,\"jobType\":\"V2Query\",\"lineEnding\":\"LF\",\"columnDelimiter\":\"COMMA\",\"retries\":0,\"totalProcessingTime\":0}\n",
      "{\"id\":\"7505w00000TmJFRAA3\",\"operation\":\"query\",\"object\":\"contact_citation_asso__c\",\"createdById\":\"0055w00000DM5bOAAT\",\"createdDate\":\"2021-01-21T06:30:41.000+0000\",\"systemModstamp\":\"2021-01-21T06:30:41.000+0000\",\"state\":\"UploadComplete\",\"concurrencyMode\":\"Parallel\",\"contentType\":\"CSV\",\"apiVersion\":47.0,\"jobType\":\"V2Query\",\"lineEnding\":\"LF\",\"columnDelimiter\":\"COMMA\",\"retries\":0,\"totalProcessingTime\":0}\n",
      "{\"id\":\"7505w00000TmJFRAA3\",\"operation\":\"query\",\"object\":\"contact_citation_asso__c\",\"createdById\":\"0055w00000DM5bOAAT\",\"createdDate\":\"2021-01-21T06:30:41.000+0000\",\"systemModstamp\":\"2021-01-21T06:30:41.000+0000\",\"state\":\"UploadComplete\",\"concurrencyMode\":\"Parallel\",\"contentType\":\"CSV\",\"apiVersion\":47.0,\"jobType\":\"V2Query\",\"lineEnding\":\"LF\",\"columnDelimiter\":\"COMMA\",\"retries\":0,\"totalProcessingTime\":0}\n",
      "{\"id\":\"7505w00000TmJFRAA3\",\"operation\":\"query\",\"object\":\"contact_citation_asso__c\",\"createdById\":\"0055w00000DM5bOAAT\",\"createdDate\":\"2021-01-21T06:30:41.000+0000\",\"systemModstamp\":\"2021-01-21T06:30:41.000+0000\",\"state\":\"UploadComplete\",\"concurrencyMode\":\"Parallel\",\"contentType\":\"CSV\",\"apiVersion\":47.0,\"jobType\":\"V2Query\",\"lineEnding\":\"LF\",\"columnDelimiter\":\"COMMA\",\"retries\":0,\"totalProcessingTime\":0}\n",
      "{\"id\":\"7505w00000TmJFRAA3\",\"operation\":\"query\",\"object\":\"contact_citation_asso__c\",\"createdById\":\"0055w00000DM5bOAAT\",\"createdDate\":\"2021-01-21T06:30:41.000+0000\",\"systemModstamp\":\"2021-01-21T06:30:41.000+0000\",\"state\":\"UploadComplete\",\"concurrencyMode\":\"Parallel\",\"contentType\":\"CSV\",\"apiVersion\":47.0,\"jobType\":\"V2Query\",\"lineEnding\":\"LF\",\"columnDelimiter\":\"COMMA\",\"retries\":0,\"totalProcessingTime\":0}\n"
     ]
    },
    {
     "name": "stdout",
     "output_type": "stream",
     "text": [
      "{\"id\":\"7505w00000TmJFRAA3\",\"operation\":\"query\",\"object\":\"contact_citation_asso__c\",\"createdById\":\"0055w00000DM5bOAAT\",\"createdDate\":\"2021-01-21T06:30:41.000+0000\",\"systemModstamp\":\"2021-01-21T06:30:41.000+0000\",\"state\":\"UploadComplete\",\"concurrencyMode\":\"Parallel\",\"contentType\":\"CSV\",\"apiVersion\":47.0,\"jobType\":\"V2Query\",\"lineEnding\":\"LF\",\"columnDelimiter\":\"COMMA\",\"retries\":0,\"totalProcessingTime\":0}\n",
      "{\"id\":\"7505w00000TmJFRAA3\",\"operation\":\"query\",\"object\":\"contact_citation_asso__c\",\"createdById\":\"0055w00000DM5bOAAT\",\"createdDate\":\"2021-01-21T06:30:41.000+0000\",\"systemModstamp\":\"2021-01-21T06:30:41.000+0000\",\"state\":\"UploadComplete\",\"concurrencyMode\":\"Parallel\",\"contentType\":\"CSV\",\"apiVersion\":47.0,\"jobType\":\"V2Query\",\"lineEnding\":\"LF\",\"columnDelimiter\":\"COMMA\",\"retries\":0,\"totalProcessingTime\":0}\n",
      "{\"id\":\"7505w00000TmJFRAA3\",\"operation\":\"query\",\"object\":\"contact_citation_asso__c\",\"createdById\":\"0055w00000DM5bOAAT\",\"createdDate\":\"2021-01-21T06:30:41.000+0000\",\"systemModstamp\":\"2021-01-21T06:30:41.000+0000\",\"state\":\"UploadComplete\",\"concurrencyMode\":\"Parallel\",\"contentType\":\"CSV\",\"apiVersion\":47.0,\"jobType\":\"V2Query\",\"lineEnding\":\"LF\",\"columnDelimiter\":\"COMMA\",\"retries\":0,\"totalProcessingTime\":0}\n",
      "{\"id\":\"7505w00000TmJFRAA3\",\"operation\":\"query\",\"object\":\"contact_citation_asso__c\",\"createdById\":\"0055w00000DM5bOAAT\",\"createdDate\":\"2021-01-21T06:30:41.000+0000\",\"systemModstamp\":\"2021-01-21T06:30:41.000+0000\",\"state\":\"UploadComplete\",\"concurrencyMode\":\"Parallel\",\"contentType\":\"CSV\",\"apiVersion\":47.0,\"jobType\":\"V2Query\",\"lineEnding\":\"LF\",\"columnDelimiter\":\"COMMA\",\"retries\":0,\"totalProcessingTime\":0}\n",
      "{\"id\":\"7505w00000TmJFRAA3\",\"operation\":\"query\",\"object\":\"contact_citation_asso__c\",\"createdById\":\"0055w00000DM5bOAAT\",\"createdDate\":\"2021-01-21T06:30:41.000+0000\",\"systemModstamp\":\"2021-01-21T06:30:41.000+0000\",\"state\":\"UploadComplete\",\"concurrencyMode\":\"Parallel\",\"contentType\":\"CSV\",\"apiVersion\":47.0,\"jobType\":\"V2Query\",\"lineEnding\":\"LF\",\"columnDelimiter\":\"COMMA\",\"retries\":0,\"totalProcessingTime\":0}\n",
      "{\"id\":\"7505w00000TmJFRAA3\",\"operation\":\"query\",\"object\":\"contact_citation_asso__c\",\"createdById\":\"0055w00000DM5bOAAT\",\"createdDate\":\"2021-01-21T06:30:41.000+0000\",\"systemModstamp\":\"2021-01-21T06:30:41.000+0000\",\"state\":\"UploadComplete\",\"concurrencyMode\":\"Parallel\",\"contentType\":\"CSV\",\"apiVersion\":47.0,\"jobType\":\"V2Query\",\"lineEnding\":\"LF\",\"columnDelimiter\":\"COMMA\",\"retries\":0,\"totalProcessingTime\":0}\n",
      "{\"id\":\"7505w00000TmJFRAA3\",\"operation\":\"query\",\"object\":\"contact_citation_asso__c\",\"createdById\":\"0055w00000DM5bOAAT\",\"createdDate\":\"2021-01-21T06:30:41.000+0000\",\"systemModstamp\":\"2021-01-21T06:30:41.000+0000\",\"state\":\"UploadComplete\",\"concurrencyMode\":\"Parallel\",\"contentType\":\"CSV\",\"apiVersion\":47.0,\"jobType\":\"V2Query\",\"lineEnding\":\"LF\",\"columnDelimiter\":\"COMMA\",\"retries\":0,\"totalProcessingTime\":0}\n",
      "{\"id\":\"7505w00000TmJFRAA3\",\"operation\":\"query\",\"object\":\"contact_citation_asso__c\",\"createdById\":\"0055w00000DM5bOAAT\",\"createdDate\":\"2021-01-21T06:30:41.000+0000\",\"systemModstamp\":\"2021-01-21T06:30:41.000+0000\",\"state\":\"UploadComplete\",\"concurrencyMode\":\"Parallel\",\"contentType\":\"CSV\",\"apiVersion\":47.0,\"jobType\":\"V2Query\",\"lineEnding\":\"LF\",\"columnDelimiter\":\"COMMA\",\"retries\":0,\"totalProcessingTime\":0}\n",
      "{\"id\":\"7505w00000TmJFRAA3\",\"operation\":\"query\",\"object\":\"contact_citation_asso__c\",\"createdById\":\"0055w00000DM5bOAAT\",\"createdDate\":\"2021-01-21T06:30:41.000+0000\",\"systemModstamp\":\"2021-01-21T06:30:41.000+0000\",\"state\":\"UploadComplete\",\"concurrencyMode\":\"Parallel\",\"contentType\":\"CSV\",\"apiVersion\":47.0,\"jobType\":\"V2Query\",\"lineEnding\":\"LF\",\"columnDelimiter\":\"COMMA\",\"retries\":0,\"totalProcessingTime\":0}\n",
      "{\"id\":\"7505w00000TmJFRAA3\",\"operation\":\"query\",\"object\":\"contact_citation_asso__c\",\"createdById\":\"0055w00000DM5bOAAT\",\"createdDate\":\"2021-01-21T06:30:41.000+0000\",\"systemModstamp\":\"2021-01-21T06:30:41.000+0000\",\"state\":\"UploadComplete\",\"concurrencyMode\":\"Parallel\",\"contentType\":\"CSV\",\"apiVersion\":47.0,\"jobType\":\"V2Query\",\"lineEnding\":\"LF\",\"columnDelimiter\":\"COMMA\",\"retries\":0,\"totalProcessingTime\":0}\n",
      "{\"id\":\"7505w00000TmJFRAA3\",\"operation\":\"query\",\"object\":\"contact_citation_asso__c\",\"createdById\":\"0055w00000DM5bOAAT\",\"createdDate\":\"2021-01-21T06:30:41.000+0000\",\"systemModstamp\":\"2021-01-21T06:30:41.000+0000\",\"state\":\"UploadComplete\",\"concurrencyMode\":\"Parallel\",\"contentType\":\"CSV\",\"apiVersion\":47.0,\"jobType\":\"V2Query\",\"lineEnding\":\"LF\",\"columnDelimiter\":\"COMMA\",\"retries\":0,\"totalProcessingTime\":0}\n",
      "{\"id\":\"7505w00000TmJFRAA3\",\"operation\":\"query\",\"object\":\"contact_citation_asso__c\",\"createdById\":\"0055w00000DM5bOAAT\",\"createdDate\":\"2021-01-21T06:30:41.000+0000\",\"systemModstamp\":\"2021-01-21T06:30:41.000+0000\",\"state\":\"UploadComplete\",\"concurrencyMode\":\"Parallel\",\"contentType\":\"CSV\",\"apiVersion\":47.0,\"jobType\":\"V2Query\",\"lineEnding\":\"LF\",\"columnDelimiter\":\"COMMA\",\"retries\":0,\"totalProcessingTime\":0}\n",
      "{\"id\":\"7505w00000TmJFRAA3\",\"operation\":\"query\",\"object\":\"contact_citation_asso__c\",\"createdById\":\"0055w00000DM5bOAAT\",\"createdDate\":\"2021-01-21T06:30:41.000+0000\",\"systemModstamp\":\"2021-01-21T06:30:41.000+0000\",\"state\":\"UploadComplete\",\"concurrencyMode\":\"Parallel\",\"contentType\":\"CSV\",\"apiVersion\":47.0,\"jobType\":\"V2Query\",\"lineEnding\":\"LF\",\"columnDelimiter\":\"COMMA\",\"retries\":0,\"totalProcessingTime\":0}\n",
      "{\"id\":\"7505w00000TmJFRAA3\",\"operation\":\"query\",\"object\":\"contact_citation_asso__c\",\"createdById\":\"0055w00000DM5bOAAT\",\"createdDate\":\"2021-01-21T06:30:41.000+0000\",\"systemModstamp\":\"2021-01-21T06:40:07.000+0000\",\"state\":\"InProgress\",\"concurrencyMode\":\"Parallel\",\"contentType\":\"CSV\",\"apiVersion\":47.0,\"jobType\":\"V2Query\",\"lineEnding\":\"LF\",\"columnDelimiter\":\"COMMA\",\"numberRecordsProcessed\":0,\"retries\":0,\"totalProcessingTime\":0}\n",
      "{\"id\":\"7505w00000TmJFRAA3\",\"operation\":\"query\",\"object\":\"contact_citation_asso__c\",\"createdById\":\"0055w00000DM5bOAAT\",\"createdDate\":\"2021-01-21T06:30:41.000+0000\",\"systemModstamp\":\"2021-01-21T06:40:07.000+0000\",\"state\":\"InProgress\",\"concurrencyMode\":\"Parallel\",\"contentType\":\"CSV\",\"apiVersion\":47.0,\"jobType\":\"V2Query\",\"lineEnding\":\"LF\",\"columnDelimiter\":\"COMMA\",\"numberRecordsProcessed\":0,\"retries\":0,\"totalProcessingTime\":0}\n",
      "{\"id\":\"7505w00000TmJFRAA3\",\"operation\":\"query\",\"object\":\"contact_citation_asso__c\",\"createdById\":\"0055w00000DM5bOAAT\",\"createdDate\":\"2021-01-21T06:30:41.000+0000\",\"systemModstamp\":\"2021-01-21T06:40:33.000+0000\",\"state\":\"JobComplete\",\"concurrencyMode\":\"Parallel\",\"contentType\":\"CSV\",\"apiVersion\":47.0,\"jobType\":\"V2Query\",\"lineEnding\":\"LF\",\"columnDelimiter\":\"COMMA\",\"numberRecordsProcessed\":4935,\"retries\":0,\"totalProcessingTime\":836}\n",
      "[Success] Bulk job completed successfully.\n"
     ]
    }
   ],
   "source": [
    "# get Salesforce ID for contact-citation associations\n",
    "sf_citation_asso_df = db_s.query_data('SELECT Id, Organization__c, Contact__c, Citation__c FROM contact_citation_asso__c')"
   ]
  },
  {
   "cell_type": "code",
   "execution_count": 5,
   "metadata": {
    "execution": {
     "iopub.execute_input": "2021-01-21T06:40:50.024869Z",
     "iopub.status.busy": "2021-01-21T06:40:50.016494Z",
     "iopub.status.idle": "2021-01-21T06:42:16.080148Z",
     "shell.execute_reply": "2021-01-21T06:42:16.135159Z"
    },
    "papermill": {
     "duration": 87.090994,
     "end_time": "2021-01-21T06:42:16.254871",
     "exception": false,
     "start_time": "2021-01-21T06:40:49.163877",
     "status": "completed"
    },
    "scrolled": true,
    "tags": []
   },
   "outputs": [
    {
     "name": "stdout",
     "output_type": "stream",
     "text": [
      "[Success] Bulk job creation successful. Job ID = 7505w00000TmJJdAAN\n",
      "{\"id\":\"7505w00000TmJJdAAN\",\"operation\":\"query\",\"object\":\"ContactToolClusterAssociation__c\",\"createdById\":\"0055w00000DM5bOAAT\",\"createdDate\":\"2021-01-21T06:40:50.000+0000\",\"systemModstamp\":\"2021-01-21T06:40:50.000+0000\",\"state\":\"UploadComplete\",\"concurrencyMode\":\"Parallel\",\"contentType\":\"CSV\",\"apiVersion\":47.0,\"jobType\":\"V2Query\",\"lineEnding\":\"LF\",\"columnDelimiter\":\"COMMA\",\"retries\":0,\"totalProcessingTime\":0}\n",
      "{\"id\":\"7505w00000TmJJdAAN\",\"operation\":\"query\",\"object\":\"ContactToolClusterAssociation__c\",\"createdById\":\"0055w00000DM5bOAAT\",\"createdDate\":\"2021-01-21T06:40:50.000+0000\",\"systemModstamp\":\"2021-01-21T06:40:50.000+0000\",\"state\":\"UploadComplete\",\"concurrencyMode\":\"Parallel\",\"contentType\":\"CSV\",\"apiVersion\":47.0,\"jobType\":\"V2Query\",\"lineEnding\":\"LF\",\"columnDelimiter\":\"COMMA\",\"retries\":0,\"totalProcessingTime\":0}\n",
      "{\"id\":\"7505w00000TmJJdAAN\",\"operation\":\"query\",\"object\":\"ContactToolClusterAssociation__c\",\"createdById\":\"0055w00000DM5bOAAT\",\"createdDate\":\"2021-01-21T06:40:50.000+0000\",\"systemModstamp\":\"2021-01-21T06:40:50.000+0000\",\"state\":\"UploadComplete\",\"concurrencyMode\":\"Parallel\",\"contentType\":\"CSV\",\"apiVersion\":47.0,\"jobType\":\"V2Query\",\"lineEnding\":\"LF\",\"columnDelimiter\":\"COMMA\",\"retries\":0,\"totalProcessingTime\":0}\n",
      "{\"id\":\"7505w00000TmJJdAAN\",\"operation\":\"query\",\"object\":\"ContactToolClusterAssociation__c\",\"createdById\":\"0055w00000DM5bOAAT\",\"createdDate\":\"2021-01-21T06:40:50.000+0000\",\"systemModstamp\":\"2021-01-21T06:40:50.000+0000\",\"state\":\"UploadComplete\",\"concurrencyMode\":\"Parallel\",\"contentType\":\"CSV\",\"apiVersion\":47.0,\"jobType\":\"V2Query\",\"lineEnding\":\"LF\",\"columnDelimiter\":\"COMMA\",\"retries\":0,\"totalProcessingTime\":0}\n",
      "{\"id\":\"7505w00000TmJJdAAN\",\"operation\":\"query\",\"object\":\"ContactToolClusterAssociation__c\",\"createdById\":\"0055w00000DM5bOAAT\",\"createdDate\":\"2021-01-21T06:40:50.000+0000\",\"systemModstamp\":\"2021-01-21T06:41:23.000+0000\",\"state\":\"InProgress\",\"concurrencyMode\":\"Parallel\",\"contentType\":\"CSV\",\"apiVersion\":47.0,\"jobType\":\"V2Query\",\"lineEnding\":\"LF\",\"columnDelimiter\":\"COMMA\",\"numberRecordsProcessed\":0,\"retries\":0,\"totalProcessingTime\":0}\n",
      "{\"id\":\"7505w00000TmJJdAAN\",\"operation\":\"query\",\"object\":\"ContactToolClusterAssociation__c\",\"createdById\":\"0055w00000DM5bOAAT\",\"createdDate\":\"2021-01-21T06:40:50.000+0000\",\"systemModstamp\":\"2021-01-21T06:41:23.000+0000\",\"state\":\"InProgress\",\"concurrencyMode\":\"Parallel\",\"contentType\":\"CSV\",\"apiVersion\":47.0,\"jobType\":\"V2Query\",\"lineEnding\":\"LF\",\"columnDelimiter\":\"COMMA\",\"numberRecordsProcessed\":0,\"retries\":0,\"totalProcessingTime\":0}\n",
      "{\"id\":\"7505w00000TmJJdAAN\",\"operation\":\"query\",\"object\":\"ContactToolClusterAssociation__c\",\"createdById\":\"0055w00000DM5bOAAT\",\"createdDate\":\"2021-01-21T06:40:50.000+0000\",\"systemModstamp\":\"2021-01-21T06:41:23.000+0000\",\"state\":\"InProgress\",\"concurrencyMode\":\"Parallel\",\"contentType\":\"CSV\",\"apiVersion\":47.0,\"jobType\":\"V2Query\",\"lineEnding\":\"LF\",\"columnDelimiter\":\"COMMA\",\"numberRecordsProcessed\":0,\"retries\":0,\"totalProcessingTime\":0}\n",
      "{\"id\":\"7505w00000TmJJdAAN\",\"operation\":\"query\",\"object\":\"ContactToolClusterAssociation__c\",\"createdById\":\"0055w00000DM5bOAAT\",\"createdDate\":\"2021-01-21T06:40:50.000+0000\",\"systemModstamp\":\"2021-01-21T06:41:23.000+0000\",\"state\":\"InProgress\",\"concurrencyMode\":\"Parallel\",\"contentType\":\"CSV\",\"apiVersion\":47.0,\"jobType\":\"V2Query\",\"lineEnding\":\"LF\",\"columnDelimiter\":\"COMMA\",\"numberRecordsProcessed\":770,\"retries\":0,\"totalProcessingTime\":339}\n",
      "{\"id\":\"7505w00000TmJJdAAN\",\"operation\":\"query\",\"object\":\"ContactToolClusterAssociation__c\",\"createdById\":\"0055w00000DM5bOAAT\",\"createdDate\":\"2021-01-21T06:40:50.000+0000\",\"systemModstamp\":\"2021-01-21T06:42:04.000+0000\",\"state\":\"JobComplete\",\"concurrencyMode\":\"Parallel\",\"contentType\":\"CSV\",\"apiVersion\":47.0,\"jobType\":\"V2Query\",\"lineEnding\":\"LF\",\"columnDelimiter\":\"COMMA\",\"numberRecordsProcessed\":90026,\"retries\":0,\"totalProcessingTime\":6393}\n",
      "[Success] Bulk job completed successfully.\n"
     ]
    }
   ],
   "source": [
    "# get Salesforce ID for contact-cluster associations\n",
    "sf_cluster_asso_df = db_s.query_data('SELECT Id, Contact__c, Tool_Usage_Cluster__c FROM ContactToolClusterAssociation__c')"
   ]
  },
  {
   "cell_type": "code",
   "execution_count": 6,
   "metadata": {
    "execution": {
     "iopub.execute_input": "2021-01-21T06:42:16.732655Z",
     "iopub.status.busy": "2021-01-21T06:42:16.732015Z",
     "iopub.status.idle": "2021-01-21T06:42:41.103387Z",
     "shell.execute_reply": "2021-01-21T06:42:41.103878Z"
    },
    "papermill": {
     "duration": 24.757213,
     "end_time": "2021-01-21T06:42:41.104083",
     "exception": false,
     "start_time": "2021-01-21T06:42:16.346870",
     "status": "completed"
    },
    "tags": []
   },
   "outputs": [
    {
     "name": "stdout",
     "output_type": "stream",
     "text": [
      "[Success] Bulk job creation successful. Job ID = 7505w00000TmJKCAA3\n",
      "{\"id\":\"7505w00000TmJKCAA3\",\"operation\":\"query\",\"object\":\"Contact\",\"createdById\":\"0055w00000DM5bOAAT\",\"createdDate\":\"2021-01-21T06:42:17.000+0000\",\"systemModstamp\":\"2021-01-21T06:42:17.000+0000\",\"state\":\"UploadComplete\",\"concurrencyMode\":\"Parallel\",\"contentType\":\"CSV\",\"apiVersion\":47.0,\"jobType\":\"V2Query\",\"lineEnding\":\"LF\",\"columnDelimiter\":\"COMMA\",\"retries\":0,\"totalProcessingTime\":0}\n",
      "{\"id\":\"7505w00000TmJKCAA3\",\"operation\":\"query\",\"object\":\"Contact\",\"createdById\":\"0055w00000DM5bOAAT\",\"createdDate\":\"2021-01-21T06:42:17.000+0000\",\"systemModstamp\":\"2021-01-21T06:42:23.000+0000\",\"state\":\"InProgress\",\"concurrencyMode\":\"Parallel\",\"contentType\":\"CSV\",\"apiVersion\":47.0,\"jobType\":\"V2Query\",\"lineEnding\":\"LF\",\"columnDelimiter\":\"COMMA\",\"numberRecordsProcessed\":0,\"retries\":0,\"totalProcessingTime\":0}\n",
      "{\"id\":\"7505w00000TmJKCAA3\",\"operation\":\"query\",\"object\":\"Contact\",\"createdById\":\"0055w00000DM5bOAAT\",\"createdDate\":\"2021-01-21T06:42:17.000+0000\",\"systemModstamp\":\"2021-01-21T06:42:35.000+0000\",\"state\":\"JobComplete\",\"concurrencyMode\":\"Parallel\",\"contentType\":\"CSV\",\"apiVersion\":47.0,\"jobType\":\"V2Query\",\"lineEnding\":\"LF\",\"columnDelimiter\":\"COMMA\",\"numberRecordsProcessed\":236292,\"retries\":0,\"totalProcessingTime\":10659}\n",
      "[Success] Bulk job completed successfully.\n"
     ]
    }
   ],
   "source": [
    "# get Salesforce ID for contacts\n",
    "sf_contact_df = db_s.query_data('SELECT Id, Organization_Overwrite__c, Organization_email_derived__c FROM Contact')"
   ]
  },
  {
   "cell_type": "code",
   "execution_count": 7,
   "metadata": {
    "execution": {
     "iopub.execute_input": "2021-01-21T06:42:41.211699Z",
     "iopub.status.busy": "2021-01-21T06:42:41.211043Z",
     "iopub.status.idle": "2021-01-21T06:42:54.537877Z",
     "shell.execute_reply": "2021-01-21T06:42:54.507518Z"
    },
    "papermill": {
     "duration": 13.390834,
     "end_time": "2021-01-21T06:42:54.538056",
     "exception": false,
     "start_time": "2021-01-21T06:42:41.147222",
     "status": "completed"
    },
    "tags": []
   },
   "outputs": [
    {
     "name": "stdout",
     "output_type": "stream",
     "text": [
      "[Success] Bulk job creation successful. Job ID = 7505w00000TmJIRAA3\n",
      "{\"id\":\"7505w00000TmJIRAA3\",\"operation\":\"query\",\"object\":\"nanoHUB_citations__c\",\"createdById\":\"0055w00000DM5bOAAT\",\"createdDate\":\"2021-01-21T06:42:41.000+0000\",\"systemModstamp\":\"2021-01-21T06:42:41.000+0000\",\"state\":\"UploadComplete\",\"concurrencyMode\":\"Parallel\",\"contentType\":\"CSV\",\"apiVersion\":47.0,\"jobType\":\"V2Query\",\"lineEnding\":\"LF\",\"columnDelimiter\":\"COMMA\",\"retries\":0,\"totalProcessingTime\":0}\n",
      "{\"id\":\"7505w00000TmJIRAA3\",\"operation\":\"query\",\"object\":\"nanoHUB_citations__c\",\"createdById\":\"0055w00000DM5bOAAT\",\"createdDate\":\"2021-01-21T06:42:41.000+0000\",\"systemModstamp\":\"2021-01-21T06:42:46.000+0000\",\"state\":\"JobComplete\",\"concurrencyMode\":\"Parallel\",\"contentType\":\"CSV\",\"apiVersion\":47.0,\"jobType\":\"V2Query\",\"lineEnding\":\"LF\",\"columnDelimiter\":\"COMMA\",\"numberRecordsProcessed\":2507,\"retries\":0,\"totalProcessingTime\":300}\n",
      "[Success] Bulk job completed successfully.\n"
     ]
    }
   ],
   "source": [
    "# get Salesforce ID for citations\n",
    "sf_citation_df = db_s.query_data('SELECT Id, Year__c FROM nanoHUB_citations__c')"
   ]
  },
  {
   "cell_type": "code",
   "execution_count": 8,
   "metadata": {
    "execution": {
     "iopub.execute_input": "2021-01-21T06:42:54.705394Z",
     "iopub.status.busy": "2021-01-21T06:42:54.704760Z",
     "iopub.status.idle": "2021-01-21T06:45:10.549415Z",
     "shell.execute_reply": "2021-01-21T06:45:10.549857Z"
    },
    "papermill": {
     "duration": 135.968969,
     "end_time": "2021-01-21T06:45:10.550078",
     "exception": false,
     "start_time": "2021-01-21T06:42:54.581109",
     "status": "completed"
    },
    "tags": []
   },
   "outputs": [
    {
     "name": "stdout",
     "output_type": "stream",
     "text": [
      "[Success] Bulk job creation successful. Job ID = 7505w00000TmJKgAAN\n",
      "{\"id\":\"7505w00000TmJKgAAN\",\"operation\":\"query\",\"object\":\"tool_usage_cluster__c\",\"createdById\":\"0055w00000DM5bOAAT\",\"createdDate\":\"2021-01-21T06:42:54.000+0000\",\"systemModstamp\":\"2021-01-21T06:42:54.000+0000\",\"state\":\"UploadComplete\",\"concurrencyMode\":\"Parallel\",\"contentType\":\"CSV\",\"apiVersion\":47.0,\"jobType\":\"V2Query\",\"lineEnding\":\"LF\",\"columnDelimiter\":\"COMMA\",\"retries\":0,\"totalProcessingTime\":0}\n",
      "{\"id\":\"7505w00000TmJKgAAN\",\"operation\":\"query\",\"object\":\"tool_usage_cluster__c\",\"createdById\":\"0055w00000DM5bOAAT\",\"createdDate\":\"2021-01-21T06:42:54.000+0000\",\"systemModstamp\":\"2021-01-21T06:42:54.000+0000\",\"state\":\"UploadComplete\",\"concurrencyMode\":\"Parallel\",\"contentType\":\"CSV\",\"apiVersion\":47.0,\"jobType\":\"V2Query\",\"lineEnding\":\"LF\",\"columnDelimiter\":\"COMMA\",\"retries\":0,\"totalProcessingTime\":0}\n",
      "{\"id\":\"7505w00000TmJKgAAN\",\"operation\":\"query\",\"object\":\"tool_usage_cluster__c\",\"createdById\":\"0055w00000DM5bOAAT\",\"createdDate\":\"2021-01-21T06:42:54.000+0000\",\"systemModstamp\":\"2021-01-21T06:42:54.000+0000\",\"state\":\"UploadComplete\",\"concurrencyMode\":\"Parallel\",\"contentType\":\"CSV\",\"apiVersion\":47.0,\"jobType\":\"V2Query\",\"lineEnding\":\"LF\",\"columnDelimiter\":\"COMMA\",\"retries\":0,\"totalProcessingTime\":0}\n",
      "{\"id\":\"7505w00000TmJKgAAN\",\"operation\":\"query\",\"object\":\"tool_usage_cluster__c\",\"createdById\":\"0055w00000DM5bOAAT\",\"createdDate\":\"2021-01-21T06:42:54.000+0000\",\"systemModstamp\":\"2021-01-21T06:42:54.000+0000\",\"state\":\"UploadComplete\",\"concurrencyMode\":\"Parallel\",\"contentType\":\"CSV\",\"apiVersion\":47.0,\"jobType\":\"V2Query\",\"lineEnding\":\"LF\",\"columnDelimiter\":\"COMMA\",\"retries\":0,\"totalProcessingTime\":0}\n",
      "{\"id\":\"7505w00000TmJKgAAN\",\"operation\":\"query\",\"object\":\"tool_usage_cluster__c\",\"createdById\":\"0055w00000DM5bOAAT\",\"createdDate\":\"2021-01-21T06:42:54.000+0000\",\"systemModstamp\":\"2021-01-21T06:42:54.000+0000\",\"state\":\"UploadComplete\",\"concurrencyMode\":\"Parallel\",\"contentType\":\"CSV\",\"apiVersion\":47.0,\"jobType\":\"V2Query\",\"lineEnding\":\"LF\",\"columnDelimiter\":\"COMMA\",\"retries\":0,\"totalProcessingTime\":0}\n",
      "{\"id\":\"7505w00000TmJKgAAN\",\"operation\":\"query\",\"object\":\"tool_usage_cluster__c\",\"createdById\":\"0055w00000DM5bOAAT\",\"createdDate\":\"2021-01-21T06:42:54.000+0000\",\"systemModstamp\":\"2021-01-21T06:42:54.000+0000\",\"state\":\"UploadComplete\",\"concurrencyMode\":\"Parallel\",\"contentType\":\"CSV\",\"apiVersion\":47.0,\"jobType\":\"V2Query\",\"lineEnding\":\"LF\",\"columnDelimiter\":\"COMMA\",\"retries\":0,\"totalProcessingTime\":0}\n",
      "{\"id\":\"7505w00000TmJKgAAN\",\"operation\":\"query\",\"object\":\"tool_usage_cluster__c\",\"createdById\":\"0055w00000DM5bOAAT\",\"createdDate\":\"2021-01-21T06:42:54.000+0000\",\"systemModstamp\":\"2021-01-21T06:42:54.000+0000\",\"state\":\"UploadComplete\",\"concurrencyMode\":\"Parallel\",\"contentType\":\"CSV\",\"apiVersion\":47.0,\"jobType\":\"V2Query\",\"lineEnding\":\"LF\",\"columnDelimiter\":\"COMMA\",\"retries\":0,\"totalProcessingTime\":0}\n",
      "{\"id\":\"7505w00000TmJKgAAN\",\"operation\":\"query\",\"object\":\"tool_usage_cluster__c\",\"createdById\":\"0055w00000DM5bOAAT\",\"createdDate\":\"2021-01-21T06:42:54.000+0000\",\"systemModstamp\":\"2021-01-21T06:42:54.000+0000\",\"state\":\"UploadComplete\",\"concurrencyMode\":\"Parallel\",\"contentType\":\"CSV\",\"apiVersion\":47.0,\"jobType\":\"V2Query\",\"lineEnding\":\"LF\",\"columnDelimiter\":\"COMMA\",\"retries\":0,\"totalProcessingTime\":0}\n",
      "{\"id\":\"7505w00000TmJKgAAN\",\"operation\":\"query\",\"object\":\"tool_usage_cluster__c\",\"createdById\":\"0055w00000DM5bOAAT\",\"createdDate\":\"2021-01-21T06:42:54.000+0000\",\"systemModstamp\":\"2021-01-21T06:42:54.000+0000\",\"state\":\"UploadComplete\",\"concurrencyMode\":\"Parallel\",\"contentType\":\"CSV\",\"apiVersion\":47.0,\"jobType\":\"V2Query\",\"lineEnding\":\"LF\",\"columnDelimiter\":\"COMMA\",\"retries\":0,\"totalProcessingTime\":0}\n",
      "{\"id\":\"7505w00000TmJKgAAN\",\"operation\":\"query\",\"object\":\"tool_usage_cluster__c\",\"createdById\":\"0055w00000DM5bOAAT\",\"createdDate\":\"2021-01-21T06:42:54.000+0000\",\"systemModstamp\":\"2021-01-21T06:42:54.000+0000\",\"state\":\"UploadComplete\",\"concurrencyMode\":\"Parallel\",\"contentType\":\"CSV\",\"apiVersion\":47.0,\"jobType\":\"V2Query\",\"lineEnding\":\"LF\",\"columnDelimiter\":\"COMMA\",\"retries\":0,\"totalProcessingTime\":0}\n",
      "{\"id\":\"7505w00000TmJKgAAN\",\"operation\":\"query\",\"object\":\"tool_usage_cluster__c\",\"createdById\":\"0055w00000DM5bOAAT\",\"createdDate\":\"2021-01-21T06:42:54.000+0000\",\"systemModstamp\":\"2021-01-21T06:42:54.000+0000\",\"state\":\"UploadComplete\",\"concurrencyMode\":\"Parallel\",\"contentType\":\"CSV\",\"apiVersion\":47.0,\"jobType\":\"V2Query\",\"lineEnding\":\"LF\",\"columnDelimiter\":\"COMMA\",\"retries\":0,\"totalProcessingTime\":0}\n",
      "{\"id\":\"7505w00000TmJKgAAN\",\"operation\":\"query\",\"object\":\"tool_usage_cluster__c\",\"createdById\":\"0055w00000DM5bOAAT\",\"createdDate\":\"2021-01-21T06:42:54.000+0000\",\"systemModstamp\":\"2021-01-21T06:44:46.000+0000\",\"state\":\"InProgress\",\"concurrencyMode\":\"Parallel\",\"contentType\":\"CSV\",\"apiVersion\":47.0,\"jobType\":\"V2Query\",\"lineEnding\":\"LF\",\"columnDelimiter\":\"COMMA\",\"numberRecordsProcessed\":0,\"retries\":0,\"totalProcessingTime\":0}\n",
      "{\"id\":\"7505w00000TmJKgAAN\",\"operation\":\"query\",\"object\":\"tool_usage_cluster__c\",\"createdById\":\"0055w00000DM5bOAAT\",\"createdDate\":\"2021-01-21T06:42:54.000+0000\",\"systemModstamp\":\"2021-01-21T06:44:46.000+0000\",\"state\":\"InProgress\",\"concurrencyMode\":\"Parallel\",\"contentType\":\"CSV\",\"apiVersion\":47.0,\"jobType\":\"V2Query\",\"lineEnding\":\"LF\",\"columnDelimiter\":\"COMMA\",\"numberRecordsProcessed\":0,\"retries\":0,\"totalProcessingTime\":0}\n",
      "{\"id\":\"7505w00000TmJKgAAN\",\"operation\":\"query\",\"object\":\"tool_usage_cluster__c\",\"createdById\":\"0055w00000DM5bOAAT\",\"createdDate\":\"2021-01-21T06:42:54.000+0000\",\"systemModstamp\":\"2021-01-21T06:45:00.000+0000\",\"state\":\"JobComplete\",\"concurrencyMode\":\"Parallel\",\"contentType\":\"CSV\",\"apiVersion\":47.0,\"jobType\":\"V2Query\",\"lineEnding\":\"LF\",\"columnDelimiter\":\"COMMA\",\"numberRecordsProcessed\":3944,\"retries\":0,\"totalProcessingTime\":375}\n",
      "[Success] Bulk job completed successfully.\n"
     ]
    }
   ],
   "source": [
    "# get Salesforce ID for clusters\n",
    "sf_cluster_df = db_s.query_data('SELECT Id, Starting_Date__c FROM tool_usage_cluster__c')"
   ]
  },
  {
   "cell_type": "markdown",
   "metadata": {
    "papermill": {
     "duration": 0.045341,
     "end_time": "2021-01-21T06:45:10.642031",
     "exception": false,
     "start_time": "2021-01-21T06:45:10.596690",
     "status": "completed"
    },
    "tags": []
   },
   "source": [
    "## Determine domain by citation by latest citation"
   ]
  },
  {
   "cell_type": "code",
   "execution_count": 9,
   "metadata": {
    "execution": {
     "iopub.execute_input": "2021-01-21T06:45:11.198963Z",
     "iopub.status.busy": "2021-01-21T06:45:10.924461Z",
     "iopub.status.idle": "2021-01-21T06:45:14.686466Z",
     "shell.execute_reply": "2021-01-21T06:45:14.685934Z"
    },
    "papermill": {
     "duration": 3.999956,
     "end_time": "2021-01-21T06:45:14.686601",
     "exception": false,
     "start_time": "2021-01-21T06:45:10.686645",
     "status": "completed"
    },
    "scrolled": true,
    "tags": []
   },
   "outputs": [
    {
     "data": {
      "text/html": [
       "<div>\n",
       "<style scoped>\n",
       "    .dataframe tbody tr th:only-of-type {\n",
       "        vertical-align: middle;\n",
       "    }\n",
       "\n",
       "    .dataframe tbody tr th {\n",
       "        vertical-align: top;\n",
       "    }\n",
       "\n",
       "    .dataframe thead th {\n",
       "        text-align: right;\n",
       "    }\n",
       "</style>\n",
       "<table border=\"1\" class=\"dataframe\">\n",
       "  <thead>\n",
       "    <tr style=\"text-align: right;\">\n",
       "      <th></th>\n",
       "      <th>Id</th>\n",
       "      <th>Year__c</th>\n",
       "    </tr>\n",
       "  </thead>\n",
       "  <tbody>\n",
       "    <tr>\n",
       "      <th>0</th>\n",
       "      <td>a0t5w000008p7pSAAQ</td>\n",
       "      <td>2012.0</td>\n",
       "    </tr>\n",
       "    <tr>\n",
       "      <th>1</th>\n",
       "      <td>a0t5w000008p7pTAAQ</td>\n",
       "      <td>2013.0</td>\n",
       "    </tr>\n",
       "  </tbody>\n",
       "</table>\n",
       "</div>"
      ],
      "text/plain": [
       "                   Id  Year__c\n",
       "0  a0t5w000008p7pSAAQ   2012.0\n",
       "1  a0t5w000008p7pTAAQ   2013.0"
      ]
     },
     "metadata": {},
     "output_type": "display_data"
    },
    {
     "data": {
      "text/html": [
       "<div>\n",
       "<style scoped>\n",
       "    .dataframe tbody tr th:only-of-type {\n",
       "        vertical-align: middle;\n",
       "    }\n",
       "\n",
       "    .dataframe tbody tr th {\n",
       "        vertical-align: top;\n",
       "    }\n",
       "\n",
       "    .dataframe thead th {\n",
       "        text-align: right;\n",
       "    }\n",
       "</style>\n",
       "<table border=\"1\" class=\"dataframe\">\n",
       "  <thead>\n",
       "    <tr style=\"text-align: right;\">\n",
       "      <th></th>\n",
       "      <th>Citation__c</th>\n",
       "      <th>Contact__c</th>\n",
       "      <th>Id</th>\n",
       "      <th>Organization__c</th>\n",
       "    </tr>\n",
       "  </thead>\n",
       "  <tbody>\n",
       "    <tr>\n",
       "      <th>0</th>\n",
       "      <td>a0t5w000008p7pSAAQ</td>\n",
       "      <td>0035w000034JLpOAAW</td>\n",
       "      <td>a0u5w00000RhVhTAAV</td>\n",
       "      <td>a0r5w00000V42cCAAR</td>\n",
       "    </tr>\n",
       "    <tr>\n",
       "      <th>1</th>\n",
       "      <td>a0t5w000008p7q1AAA</td>\n",
       "      <td>0035w000034JLpOAAW</td>\n",
       "      <td>a0u5w00000RhVhUAAV</td>\n",
       "      <td>a0r5w00000V42cCAAR</td>\n",
       "    </tr>\n",
       "  </tbody>\n",
       "</table>\n",
       "</div>"
      ],
      "text/plain": [
       "          Citation__c          Contact__c                  Id  \\\n",
       "0  a0t5w000008p7pSAAQ  0035w000034JLpOAAW  a0u5w00000RhVhTAAV   \n",
       "1  a0t5w000008p7q1AAA  0035w000034JLpOAAW  a0u5w00000RhVhUAAV   \n",
       "\n",
       "      Organization__c  \n",
       "0  a0r5w00000V42cCAAR  \n",
       "1  a0r5w00000V42cCAAR  "
      ]
     },
     "metadata": {},
     "output_type": "display_data"
    }
   ],
   "source": [
    "# display data used in this section\n",
    "display(sf_citation_df.head(2))\n",
    "display(sf_citation_asso_df.head(2))"
   ]
  },
  {
   "cell_type": "code",
   "execution_count": 10,
   "metadata": {
    "execution": {
     "iopub.execute_input": "2021-01-21T06:45:14.896202Z",
     "iopub.status.busy": "2021-01-21T06:45:14.895567Z",
     "iopub.status.idle": "2021-01-21T06:45:15.324881Z",
     "shell.execute_reply": "2021-01-21T06:45:15.324328Z"
    },
    "papermill": {
     "duration": 0.591162,
     "end_time": "2021-01-21T06:45:15.325030",
     "exception": false,
     "start_time": "2021-01-21T06:45:14.733868",
     "status": "completed"
    },
    "tags": []
   },
   "outputs": [
    {
     "data": {
      "text/html": [
       "<div>\n",
       "<style scoped>\n",
       "    .dataframe tbody tr th:only-of-type {\n",
       "        vertical-align: middle;\n",
       "    }\n",
       "\n",
       "    .dataframe tbody tr th {\n",
       "        vertical-align: top;\n",
       "    }\n",
       "\n",
       "    .dataframe thead th {\n",
       "        text-align: right;\n",
       "    }\n",
       "</style>\n",
       "<table border=\"1\" class=\"dataframe\">\n",
       "  <thead>\n",
       "    <tr style=\"text-align: right;\">\n",
       "      <th></th>\n",
       "      <th>Id</th>\n",
       "      <th>Year__c</th>\n",
       "      <th>Citation__c</th>\n",
       "      <th>Contact__c</th>\n",
       "      <th>Id_citation_asso</th>\n",
       "      <th>Organization__c</th>\n",
       "    </tr>\n",
       "  </thead>\n",
       "  <tbody>\n",
       "    <tr>\n",
       "      <th>0</th>\n",
       "      <td>a0t5w000008p7pSAAQ</td>\n",
       "      <td>2012.0</td>\n",
       "      <td>a0t5w000008p7pSAAQ</td>\n",
       "      <td>0035w000034JLpOAAW</td>\n",
       "      <td>a0u5w00000RhVhTAAV</td>\n",
       "      <td>a0r5w00000V42cCAAR</td>\n",
       "    </tr>\n",
       "    <tr>\n",
       "      <th>1</th>\n",
       "      <td>a0t5w000008p7pSAAQ</td>\n",
       "      <td>2012.0</td>\n",
       "      <td>a0t5w000008p7pSAAQ</td>\n",
       "      <td>0035w000034JLfwAAG</td>\n",
       "      <td>a0u5w00000RhVi2AAF</td>\n",
       "      <td>a0r5w00000V42cCAAR</td>\n",
       "    </tr>\n",
       "  </tbody>\n",
       "</table>\n",
       "</div>"
      ],
      "text/plain": [
       "                   Id  Year__c         Citation__c          Contact__c  \\\n",
       "0  a0t5w000008p7pSAAQ   2012.0  a0t5w000008p7pSAAQ  0035w000034JLpOAAW   \n",
       "1  a0t5w000008p7pSAAQ   2012.0  a0t5w000008p7pSAAQ  0035w000034JLfwAAG   \n",
       "\n",
       "     Id_citation_asso     Organization__c  \n",
       "0  a0u5w00000RhVhTAAV  a0r5w00000V42cCAAR  \n",
       "1  a0u5w00000RhVi2AAF  a0r5w00000V42cCAAR  "
      ]
     },
     "execution_count": 10,
     "metadata": {},
     "output_type": "execute_result"
    }
   ],
   "source": [
    "overall_df = pd.merge(sf_citation_df, sf_citation_asso_df, \\\n",
    "                      how='inner', left_on='Id', right_on='Citation__c', suffixes=['', '_citation_asso'])\n",
    "\n",
    "# display\n",
    "overall_df.head(2)"
   ]
  },
  {
   "cell_type": "code",
   "execution_count": 11,
   "metadata": {
    "execution": {
     "iopub.execute_input": "2021-01-21T06:45:15.740097Z",
     "iopub.status.busy": "2021-01-21T06:45:15.739263Z",
     "iopub.status.idle": "2021-01-21T06:45:18.024882Z",
     "shell.execute_reply": "2021-01-21T06:45:18.024312Z"
    },
    "papermill": {
     "duration": 2.654739,
     "end_time": "2021-01-21T06:45:18.025016",
     "exception": false,
     "start_time": "2021-01-21T06:45:15.370277",
     "status": "completed"
    },
    "scrolled": true,
    "tags": []
   },
   "outputs": [
    {
     "data": {
      "text/html": [
       "<div>\n",
       "<style scoped>\n",
       "    .dataframe tbody tr th:only-of-type {\n",
       "        vertical-align: middle;\n",
       "    }\n",
       "\n",
       "    .dataframe tbody tr th {\n",
       "        vertical-align: top;\n",
       "    }\n",
       "\n",
       "    .dataframe thead th {\n",
       "        text-align: right;\n",
       "    }\n",
       "</style>\n",
       "<table border=\"1\" class=\"dataframe\">\n",
       "  <thead>\n",
       "    <tr style=\"text-align: right;\">\n",
       "      <th></th>\n",
       "      <th>Contact__c</th>\n",
       "      <th>Organization_citation_derived__c</th>\n",
       "    </tr>\n",
       "  </thead>\n",
       "  <tbody>\n",
       "    <tr>\n",
       "      <th>0</th>\n",
       "      <td>0035w000031Vt92AAC</td>\n",
       "      <td>a0r5w00000V42pJAAR</td>\n",
       "    </tr>\n",
       "    <tr>\n",
       "      <th>1</th>\n",
       "      <td>0035w000031Vt9kAAC</td>\n",
       "      <td>a0r5w00000V42nyAAB</td>\n",
       "    </tr>\n",
       "  </tbody>\n",
       "</table>\n",
       "</div>"
      ],
      "text/plain": [
       "           Contact__c Organization_citation_derived__c\n",
       "0  0035w000031Vt92AAC               a0r5w00000V42pJAAR\n",
       "1  0035w000031Vt9kAAC               a0r5w00000V42nyAAB"
      ]
     },
     "execution_count": 11,
     "metadata": {},
     "output_type": "execute_result"
    }
   ],
   "source": [
    "# infer contact's organziation by using latest citation organization\n",
    "org_from_citation_df = overall_df.groupby('Contact__c').apply(lambda x: \\\n",
    "                                                   x.sort_values(by=['Year__c'], ascending=False).head(1).Organization__c.iloc[0])\\\n",
    "                                            .dropna().reset_index(name='Organization_citation_derived__c')\n",
    "\n",
    "# display\n",
    "org_from_citation_df.head(2)"
   ]
  },
  {
   "cell_type": "code",
   "execution_count": 12,
   "metadata": {
    "execution": {
     "iopub.execute_input": "2021-01-21T06:45:18.206373Z",
     "iopub.status.busy": "2021-01-21T06:45:18.205752Z",
     "iopub.status.idle": "2021-01-21T06:45:18.209995Z",
     "shell.execute_reply": "2021-01-21T06:45:18.209432Z"
    },
    "papermill": {
     "duration": 0.135379,
     "end_time": "2021-01-21T06:45:18.210127",
     "exception": false,
     "start_time": "2021-01-21T06:45:18.074748",
     "status": "completed"
    },
    "tags": []
   },
   "outputs": [
    {
     "data": {
      "text/html": [
       "<div>\n",
       "<style scoped>\n",
       "    .dataframe tbody tr th:only-of-type {\n",
       "        vertical-align: middle;\n",
       "    }\n",
       "\n",
       "    .dataframe tbody tr th {\n",
       "        vertical-align: top;\n",
       "    }\n",
       "\n",
       "    .dataframe thead th {\n",
       "        text-align: right;\n",
       "    }\n",
       "</style>\n",
       "<table border=\"1\" class=\"dataframe\">\n",
       "  <thead>\n",
       "    <tr style=\"text-align: right;\">\n",
       "      <th></th>\n",
       "      <th>0</th>\n",
       "      <th>1</th>\n",
       "    </tr>\n",
       "  </thead>\n",
       "  <tbody>\n",
       "    <tr>\n",
       "      <th>Id</th>\n",
       "      <td>0035w000031Vt92AAC</td>\n",
       "      <td>0035w000031Vt9kAAC</td>\n",
       "    </tr>\n",
       "    <tr>\n",
       "      <th>Organization_citation_derived__c</th>\n",
       "      <td>a0r5w00000V42pJAAR</td>\n",
       "      <td>a0r5w00000V42nyAAB</td>\n",
       "    </tr>\n",
       "  </tbody>\n",
       "</table>\n",
       "</div>"
      ],
      "text/plain": [
       "                                                   0                   1\n",
       "Id                                0035w000031Vt92AAC  0035w000031Vt9kAAC\n",
       "Organization_citation_derived__c  a0r5w00000V42pJAAR  a0r5w00000V42nyAAB"
      ]
     },
     "execution_count": 12,
     "metadata": {},
     "output_type": "execute_result"
    }
   ],
   "source": [
    "# Send data to Salesforce\n",
    "\n",
    "df_sf = pd.DataFrame()\n",
    "\n",
    "# Make sure NaN and NaT values are taken care of here\n",
    "df_sf['Id']         = org_from_citation_df['Contact__c']\n",
    "df_sf['Organization_citation_derived__c'] = org_from_citation_df['Organization_citation_derived__c']\n",
    "\n",
    "sf_original_fields = df_sf.columns\n",
    "\n",
    "# display\n",
    "df_sf.head(2).T"
   ]
  },
  {
   "cell_type": "code",
   "execution_count": 13,
   "metadata": {
    "execution": {
     "iopub.execute_input": "2021-01-21T06:45:18.335057Z",
     "iopub.status.busy": "2021-01-21T06:45:18.334480Z",
     "iopub.status.idle": "2021-01-21T06:45:18.678826Z",
     "shell.execute_reply": "2021-01-21T06:45:18.679271Z"
    },
    "papermill": {
     "duration": 0.423323,
     "end_time": "2021-01-21T06:45:18.679439",
     "exception": false,
     "start_time": "2021-01-21T06:45:18.256116",
     "status": "completed"
    },
    "tags": []
   },
   "outputs": [
    {
     "name": "stdout",
     "output_type": "stream",
     "text": [
      "Obtained Salesforce access token ...... True\n"
     ]
    }
   ],
   "source": [
    "db_s = salesforce\n",
    "\n",
    "# specify Salesforce object ID and external ID\n",
    "db_s.object_id = 'Contact'\n",
    "db_s.external_id = 'Id'"
   ]
  },
  {
   "cell_type": "code",
   "execution_count": 14,
   "metadata": {
    "execution": {
     "iopub.execute_input": "2021-01-21T06:45:18.786098Z",
     "iopub.status.busy": "2021-01-21T06:45:18.785504Z",
     "iopub.status.idle": "2021-01-21T06:45:19.974958Z",
     "shell.execute_reply": "2021-01-21T06:45:19.975612Z"
    },
    "papermill": {
     "duration": 1.249952,
     "end_time": "2021-01-21T06:45:19.975777",
     "exception": false,
     "start_time": "2021-01-21T06:45:18.725825",
     "status": "completed"
    },
    "tags": []
   },
   "outputs": [
    {
     "name": "stdout",
     "output_type": "stream",
     "text": [
      "[Success] Bulk job creation successful. Job ID = 7505w00000TmJLZAA3\n",
      "hello\n",
      "[Success] CSV upload successful. Job ID = 7505w00000TmJLZAA3\n",
      "[Success] Closing job successful. Job ID = 7505w00000TmJLZAA3\n"
     ]
    }
   ],
   "source": [
    "# send data to Salesforce\n",
    "db_s.send_data(df_sf)"
   ]
  },
  {
   "cell_type": "code",
   "execution_count": 15,
   "metadata": {
    "execution": {
     "iopub.execute_input": "2021-01-21T06:45:20.111708Z",
     "iopub.status.busy": "2021-01-21T06:45:20.111052Z",
     "iopub.status.idle": "2021-01-21T06:45:20.524557Z",
     "shell.execute_reply": "2021-01-21T06:45:20.523842Z"
    },
    "papermill": {
     "duration": 0.500056,
     "end_time": "2021-01-21T06:45:20.524693",
     "exception": false,
     "start_time": "2021-01-21T06:45:20.024637",
     "status": "completed"
    },
    "tags": []
   },
   "outputs": [
    {
     "name": "stdout",
     "output_type": "stream",
     "text": [
      "{'apexProcessingTime': 0,\n",
      " 'apiActiveProcessingTime': 0,\n",
      " 'apiVersion': 47.0,\n",
      " 'columnDelimiter': 'COMMA',\n",
      " 'concurrencyMode': 'Parallel',\n",
      " 'contentType': 'CSV',\n",
      " 'createdById': '0055w00000DM5bOAAT',\n",
      " 'createdDate': '2021-01-21T06:45:18.000+0000',\n",
      " 'externalIdFieldName': 'Id',\n",
      " 'id': '7505w00000TmJLZAA3',\n",
      " 'jobType': 'V2Ingest',\n",
      " 'lineEnding': 'LF',\n",
      " 'numberRecordsFailed': 0,\n",
      " 'numberRecordsProcessed': 0,\n",
      " 'object': 'Contact',\n",
      " 'operation': 'upsert',\n",
      " 'retries': 0,\n",
      " 'state': 'UploadComplete',\n",
      " 'systemModstamp': '2021-01-21T06:45:19.000+0000',\n",
      " 'totalProcessingTime': 0}\n"
     ]
    }
   ],
   "source": [
    "# check status\n",
    "from pprint import pprint\n",
    "\n",
    "pprint(db_s.check_bulk_status())"
   ]
  },
  {
   "cell_type": "markdown",
   "metadata": {
    "papermill": {
     "duration": 0.048122,
     "end_time": "2021-01-21T06:45:20.621687",
     "exception": false,
     "start_time": "2021-01-21T06:45:20.573565",
     "status": "completed"
    },
    "tags": []
   },
   "source": [
    "## Determine cluster's domain by contact information"
   ]
  },
  {
   "cell_type": "code",
   "execution_count": 16,
   "metadata": {
    "execution": {
     "iopub.execute_input": "2021-01-21T06:45:20.727137Z",
     "iopub.status.busy": "2021-01-21T06:45:20.726459Z",
     "iopub.status.idle": "2021-01-21T06:45:20.735202Z",
     "shell.execute_reply": "2021-01-21T06:45:20.734467Z"
    },
    "papermill": {
     "duration": 0.066226,
     "end_time": "2021-01-21T06:45:20.735343",
     "exception": false,
     "start_time": "2021-01-21T06:45:20.669117",
     "status": "completed"
    },
    "tags": []
   },
   "outputs": [
    {
     "data": {
      "text/html": [
       "<div>\n",
       "<style scoped>\n",
       "    .dataframe tbody tr th:only-of-type {\n",
       "        vertical-align: middle;\n",
       "    }\n",
       "\n",
       "    .dataframe tbody tr th {\n",
       "        vertical-align: top;\n",
       "    }\n",
       "\n",
       "    .dataframe thead th {\n",
       "        text-align: right;\n",
       "    }\n",
       "</style>\n",
       "<table border=\"1\" class=\"dataframe\">\n",
       "  <thead>\n",
       "    <tr style=\"text-align: right;\">\n",
       "      <th></th>\n",
       "      <th>Contact__c</th>\n",
       "      <th>Id</th>\n",
       "      <th>Tool_Usage_Cluster__c</th>\n",
       "    </tr>\n",
       "  </thead>\n",
       "  <tbody>\n",
       "    <tr>\n",
       "      <th>0</th>\n",
       "      <td>0035w000034IX2vAAG</td>\n",
       "      <td>a0x5w00000bwaVOAAY</td>\n",
       "      <td>a0w5w000009Q8HQAA0</td>\n",
       "    </tr>\n",
       "    <tr>\n",
       "      <th>1</th>\n",
       "      <td>0035w000034IQ74AAG</td>\n",
       "      <td>a0x5w00000bwaVPAAY</td>\n",
       "      <td>a0w5w000009Q85EAAS</td>\n",
       "    </tr>\n",
       "  </tbody>\n",
       "</table>\n",
       "</div>"
      ],
      "text/plain": [
       "           Contact__c                  Id Tool_Usage_Cluster__c\n",
       "0  0035w000034IX2vAAG  a0x5w00000bwaVOAAY    a0w5w000009Q8HQAA0\n",
       "1  0035w000034IQ74AAG  a0x5w00000bwaVPAAY    a0w5w000009Q85EAAS"
      ]
     },
     "metadata": {},
     "output_type": "display_data"
    },
    {
     "data": {
      "text/html": [
       "<div>\n",
       "<style scoped>\n",
       "    .dataframe tbody tr th:only-of-type {\n",
       "        vertical-align: middle;\n",
       "    }\n",
       "\n",
       "    .dataframe tbody tr th {\n",
       "        vertical-align: top;\n",
       "    }\n",
       "\n",
       "    .dataframe thead th {\n",
       "        text-align: right;\n",
       "    }\n",
       "</style>\n",
       "<table border=\"1\" class=\"dataframe\">\n",
       "  <thead>\n",
       "    <tr style=\"text-align: right;\">\n",
       "      <th></th>\n",
       "      <th>Id</th>\n",
       "      <th>Organization_Overwrite__c</th>\n",
       "      <th>Organization_email_derived__c</th>\n",
       "    </tr>\n",
       "  </thead>\n",
       "  <tbody>\n",
       "    <tr>\n",
       "      <th>0</th>\n",
       "      <td>0035w000031Vsp1AAC</td>\n",
       "      <td>NaN</td>\n",
       "      <td>NaN</td>\n",
       "    </tr>\n",
       "    <tr>\n",
       "      <th>1</th>\n",
       "      <td>0035w000031Vsp2AAC</td>\n",
       "      <td>NaN</td>\n",
       "      <td>a0r5w00000V42cCAAR</td>\n",
       "    </tr>\n",
       "  </tbody>\n",
       "</table>\n",
       "</div>"
      ],
      "text/plain": [
       "                   Id Organization_Overwrite__c Organization_email_derived__c\n",
       "0  0035w000031Vsp1AAC                       NaN                           NaN\n",
       "1  0035w000031Vsp2AAC                       NaN            a0r5w00000V42cCAAR"
      ]
     },
     "metadata": {},
     "output_type": "display_data"
    }
   ],
   "source": [
    "# display data used in this section\n",
    "display(sf_cluster_asso_df.head(2))\n",
    "display(sf_contact_df.head(2))"
   ]
  },
  {
   "cell_type": "code",
   "execution_count": 17,
   "metadata": {
    "execution": {
     "iopub.execute_input": "2021-01-21T06:45:46.360803Z",
     "iopub.status.busy": "2021-01-21T06:45:46.338176Z",
     "iopub.status.idle": "2021-01-21T06:45:46.650488Z",
     "shell.execute_reply": "2021-01-21T06:45:46.649852Z"
    },
    "papermill": {
     "duration": 0.424396,
     "end_time": "2021-01-21T06:45:46.650646",
     "exception": false,
     "start_time": "2021-01-21T06:45:46.226250",
     "status": "completed"
    },
    "tags": []
   },
   "outputs": [],
   "source": [
    "# Convert time to datetime in Pandas\n",
    "sf_cluster_df['Starting_Date__c'] = pd.to_datetime(sf_cluster_df.Starting_Date__c)"
   ]
  },
  {
   "cell_type": "code",
   "execution_count": 18,
   "metadata": {
    "execution": {
     "iopub.execute_input": "2021-01-21T06:45:46.985034Z",
     "iopub.status.busy": "2021-01-21T06:45:46.852179Z",
     "iopub.status.idle": "2021-01-21T06:45:47.093704Z",
     "shell.execute_reply": "2021-01-21T06:45:47.094370Z"
    },
    "papermill": {
     "duration": 0.388515,
     "end_time": "2021-01-21T06:45:47.094531",
     "exception": false,
     "start_time": "2021-01-21T06:45:46.706016",
     "status": "completed"
    },
    "tags": []
   },
   "outputs": [
    {
     "data": {
      "text/html": [
       "<div>\n",
       "<style scoped>\n",
       "    .dataframe tbody tr th:only-of-type {\n",
       "        vertical-align: middle;\n",
       "    }\n",
       "\n",
       "    .dataframe tbody tr th {\n",
       "        vertical-align: top;\n",
       "    }\n",
       "\n",
       "    .dataframe thead th {\n",
       "        text-align: right;\n",
       "    }\n",
       "</style>\n",
       "<table border=\"1\" class=\"dataframe\">\n",
       "  <thead>\n",
       "    <tr style=\"text-align: right;\">\n",
       "      <th></th>\n",
       "      <th>Tool_Usage_Cluster__c</th>\n",
       "      <th>Organization_Overwrite__c</th>\n",
       "      <th>Organization_email_derived__c</th>\n",
       "    </tr>\n",
       "  </thead>\n",
       "  <tbody>\n",
       "    <tr>\n",
       "      <th>0</th>\n",
       "      <td>a0w5w000009Q8HQAA0</td>\n",
       "      <td>NaN</td>\n",
       "      <td>NaN</td>\n",
       "    </tr>\n",
       "    <tr>\n",
       "      <th>1</th>\n",
       "      <td>a0w5w000009Q85EAAS</td>\n",
       "      <td>NaN</td>\n",
       "      <td>NaN</td>\n",
       "    </tr>\n",
       "  </tbody>\n",
       "</table>\n",
       "</div>"
      ],
      "text/plain": [
       "  Tool_Usage_Cluster__c Organization_Overwrite__c  \\\n",
       "0    a0w5w000009Q8HQAA0                       NaN   \n",
       "1    a0w5w000009Q85EAAS                       NaN   \n",
       "\n",
       "  Organization_email_derived__c  \n",
       "0                           NaN  \n",
       "1                           NaN  "
      ]
     },
     "execution_count": 18,
     "metadata": {},
     "output_type": "execute_result"
    }
   ],
   "source": [
    "overall_df = pd.merge(sf_cluster_asso_df[['Contact__c', 'Tool_Usage_Cluster__c']], sf_contact_df, \\\n",
    "                                     how ='inner', left_on='Contact__c', right_on='Id' )\n",
    "\n",
    "overall_df.drop(columns=['Id', 'Contact__c'], inplace=True)\n",
    "\n",
    "# display\n",
    "overall_df.head(2)"
   ]
  },
  {
   "cell_type": "code",
   "execution_count": 19,
   "metadata": {
    "execution": {
     "iopub.execute_input": "2021-01-21T06:45:47.275951Z",
     "iopub.status.busy": "2021-01-21T06:45:47.275375Z",
     "iopub.status.idle": "2021-01-21T06:45:47.663649Z",
     "shell.execute_reply": "2021-01-21T06:45:47.662973Z"
    },
    "papermill": {
     "duration": 0.518934,
     "end_time": "2021-01-21T06:45:47.663780",
     "exception": false,
     "start_time": "2021-01-21T06:45:47.144846",
     "status": "completed"
    },
    "tags": []
   },
   "outputs": [
    {
     "data": {
      "text/html": [
       "<div>\n",
       "<style scoped>\n",
       "    .dataframe tbody tr th:only-of-type {\n",
       "        vertical-align: middle;\n",
       "    }\n",
       "\n",
       "    .dataframe tbody tr th {\n",
       "        vertical-align: top;\n",
       "    }\n",
       "\n",
       "    .dataframe thead th {\n",
       "        text-align: right;\n",
       "    }\n",
       "</style>\n",
       "<table border=\"1\" class=\"dataframe\">\n",
       "  <thead>\n",
       "    <tr style=\"text-align: right;\">\n",
       "      <th></th>\n",
       "      <th>Tool_Usage_Cluster__c</th>\n",
       "      <th>Organization_Overwrite__c</th>\n",
       "      <th>Organization_email_derived__c</th>\n",
       "      <th>final_org</th>\n",
       "    </tr>\n",
       "  </thead>\n",
       "  <tbody>\n",
       "    <tr>\n",
       "      <th>0</th>\n",
       "      <td>a0w5w000009Q8HQAA0</td>\n",
       "      <td>NaN</td>\n",
       "      <td>NaN</td>\n",
       "      <td></td>\n",
       "    </tr>\n",
       "    <tr>\n",
       "      <th>1</th>\n",
       "      <td>a0w5w000009Q85EAAS</td>\n",
       "      <td>NaN</td>\n",
       "      <td>NaN</td>\n",
       "      <td></td>\n",
       "    </tr>\n",
       "  </tbody>\n",
       "</table>\n",
       "</div>"
      ],
      "text/plain": [
       "  Tool_Usage_Cluster__c Organization_Overwrite__c  \\\n",
       "0    a0w5w000009Q8HQAA0                       NaN   \n",
       "1    a0w5w000009Q85EAAS                       NaN   \n",
       "\n",
       "  Organization_email_derived__c final_org  \n",
       "0                           NaN            \n",
       "1                           NaN            "
      ]
     },
     "execution_count": 19,
     "metadata": {},
     "output_type": "execute_result"
    }
   ],
   "source": [
    "# apply overwrite\n",
    "overall_df['final_org'] = overall_df.fillna('').apply(lambda x: \\\n",
    "                                    x.Organization_Overwrite__c if x.Organization_Overwrite__c!='' \\\n",
    "                                    else x.Organization_email_derived__c, axis=1)\n",
    "\n",
    "# display\n",
    "overall_df.head(2)"
   ]
  },
  {
   "cell_type": "code",
   "execution_count": 20,
   "metadata": {
    "execution": {
     "iopub.execute_input": "2021-01-21T06:45:47.824008Z",
     "iopub.status.busy": "2021-01-21T06:45:47.800950Z",
     "iopub.status.idle": "2021-01-21T06:45:47.928773Z",
     "shell.execute_reply": "2021-01-21T06:45:47.927786Z"
    },
    "papermill": {
     "duration": 0.215913,
     "end_time": "2021-01-21T06:45:47.928939",
     "exception": false,
     "start_time": "2021-01-21T06:45:47.713026",
     "status": "completed"
    },
    "tags": []
   },
   "outputs": [
    {
     "data": {
      "text/html": [
       "<div>\n",
       "<style scoped>\n",
       "    .dataframe tbody tr th:only-of-type {\n",
       "        vertical-align: middle;\n",
       "    }\n",
       "\n",
       "    .dataframe tbody tr th {\n",
       "        vertical-align: top;\n",
       "    }\n",
       "\n",
       "    .dataframe thead th {\n",
       "        text-align: right;\n",
       "    }\n",
       "</style>\n",
       "<table border=\"1\" class=\"dataframe\">\n",
       "  <thead>\n",
       "    <tr style=\"text-align: right;\">\n",
       "      <th></th>\n",
       "      <th>Tool_Usage_Cluster__c</th>\n",
       "      <th>Organization__c</th>\n",
       "    </tr>\n",
       "  </thead>\n",
       "  <tbody>\n",
       "    <tr>\n",
       "      <th>0</th>\n",
       "      <td>a0w5w000009Q7pSAAS</td>\n",
       "      <td></td>\n",
       "    </tr>\n",
       "    <tr>\n",
       "      <th>1</th>\n",
       "      <td>a0w5w000009Q7pfAAC</td>\n",
       "      <td></td>\n",
       "    </tr>\n",
       "  </tbody>\n",
       "</table>\n",
       "</div>"
      ],
      "text/plain": [
       "  Tool_Usage_Cluster__c Organization__c\n",
       "0    a0w5w000009Q7pSAAS                \n",
       "1    a0w5w000009Q7pfAAC                "
      ]
     },
     "execution_count": 20,
     "metadata": {},
     "output_type": "execute_result"
    }
   ],
   "source": [
    "# infer the organization of this cluster through majority vote\n",
    "org_from_cluster_df = overall_df.groupby('Tool_Usage_Cluster__c').final_org.apply(lambda x: \\\n",
    "                                                   x.mode().iloc[0])\\\n",
    "                                            .dropna().reset_index(name='Organization__c')\n",
    "\n",
    "# display\n",
    "org_from_cluster_df.head(2)"
   ]
  },
  {
   "cell_type": "code",
   "execution_count": 21,
   "metadata": {
    "execution": {
     "iopub.execute_input": "2021-01-21T06:45:48.044505Z",
     "iopub.status.busy": "2021-01-21T06:45:48.043874Z",
     "iopub.status.idle": "2021-01-21T06:45:48.046653Z",
     "shell.execute_reply": "2021-01-21T06:45:48.047247Z"
    },
    "papermill": {
     "duration": 0.065843,
     "end_time": "2021-01-21T06:45:48.047416",
     "exception": false,
     "start_time": "2021-01-21T06:45:47.981573",
     "status": "completed"
    },
    "tags": []
   },
   "outputs": [
    {
     "data": {
      "text/html": [
       "<div>\n",
       "<style scoped>\n",
       "    .dataframe tbody tr th:only-of-type {\n",
       "        vertical-align: middle;\n",
       "    }\n",
       "\n",
       "    .dataframe tbody tr th {\n",
       "        vertical-align: top;\n",
       "    }\n",
       "\n",
       "    .dataframe thead th {\n",
       "        text-align: right;\n",
       "    }\n",
       "</style>\n",
       "<table border=\"1\" class=\"dataframe\">\n",
       "  <thead>\n",
       "    <tr style=\"text-align: right;\">\n",
       "      <th></th>\n",
       "      <th>0</th>\n",
       "      <th>1</th>\n",
       "    </tr>\n",
       "  </thead>\n",
       "  <tbody>\n",
       "    <tr>\n",
       "      <th>Id</th>\n",
       "      <td>a0w5w000009Q7pSAAS</td>\n",
       "      <td>a0w5w000009Q7pfAAC</td>\n",
       "    </tr>\n",
       "    <tr>\n",
       "      <th>Organization__c</th>\n",
       "      <td></td>\n",
       "      <td></td>\n",
       "    </tr>\n",
       "  </tbody>\n",
       "</table>\n",
       "</div>"
      ],
      "text/plain": [
       "                                  0                   1\n",
       "Id               a0w5w000009Q7pSAAS  a0w5w000009Q7pfAAC\n",
       "Organization__c                                        "
      ]
     },
     "execution_count": 21,
     "metadata": {},
     "output_type": "execute_result"
    }
   ],
   "source": [
    "# Send data to Salesforce\n",
    "\n",
    "df_sf = pd.DataFrame()\n",
    "\n",
    "# Make sure NaN and NaT values are taken care of here\n",
    "df_sf['Id']         = org_from_cluster_df['Tool_Usage_Cluster__c']\n",
    "df_sf['Organization__c'] = org_from_cluster_df['Organization__c']\n",
    "\n",
    "sf_original_fields = df_sf.columns\n",
    "\n",
    "# display\n",
    "df_sf.head(2).T"
   ]
  },
  {
   "cell_type": "code",
   "execution_count": 22,
   "metadata": {
    "execution": {
     "iopub.execute_input": "2021-01-21T06:45:48.155438Z",
     "iopub.status.busy": "2021-01-21T06:45:48.154842Z",
     "iopub.status.idle": "2021-01-21T06:45:48.438911Z",
     "shell.execute_reply": "2021-01-21T06:45:48.439547Z"
    },
    "papermill": {
     "duration": 0.341873,
     "end_time": "2021-01-21T06:45:48.439730",
     "exception": false,
     "start_time": "2021-01-21T06:45:48.097857",
     "status": "completed"
    },
    "tags": []
   },
   "outputs": [
    {
     "name": "stdout",
     "output_type": "stream",
     "text": [
      "Obtained Salesforce access token ...... True\n"
     ]
    }
   ],
   "source": [
    "# create DB2 to Salesforce API object\n",
    "db_s = salesforce\n",
    "\n",
    "# specify Salesforce object ID and external ID\n",
    "db_s.object_id = 'tool_usage_cluster__c'\n",
    "db_s.external_id = 'Id'"
   ]
  },
  {
   "cell_type": "code",
   "execution_count": 23,
   "metadata": {
    "execution": {
     "iopub.execute_input": "2021-01-21T06:45:48.557484Z",
     "iopub.status.busy": "2021-01-21T06:45:48.556888Z",
     "iopub.status.idle": "2021-01-21T06:45:49.611871Z",
     "shell.execute_reply": "2021-01-21T06:45:49.611232Z"
    },
    "papermill": {
     "duration": 1.115612,
     "end_time": "2021-01-21T06:45:49.612004",
     "exception": false,
     "start_time": "2021-01-21T06:45:48.496392",
     "status": "completed"
    },
    "tags": []
   },
   "outputs": [
    {
     "name": "stdout",
     "output_type": "stream",
     "text": [
      "[Success] Bulk job creation successful. Job ID = 7505w00000TmJLeAAN\n",
      "hello\n",
      "[Success] CSV upload successful. Job ID = 7505w00000TmJLeAAN\n",
      "[Success] Closing job successful. Job ID = 7505w00000TmJLeAAN\n"
     ]
    }
   ],
   "source": [
    "# send data to Salesforce\n",
    "db_s.send_data(df_sf)"
   ]
  },
  {
   "cell_type": "code",
   "execution_count": 24,
   "metadata": {
    "execution": {
     "iopub.execute_input": "2021-01-21T06:45:49.756266Z",
     "iopub.status.busy": "2021-01-21T06:45:49.755407Z",
     "iopub.status.idle": "2021-01-21T06:45:50.044148Z",
     "shell.execute_reply": "2021-01-21T06:45:50.044617Z"
    },
    "papermill": {
     "duration": 0.382185,
     "end_time": "2021-01-21T06:45:50.044786",
     "exception": false,
     "start_time": "2021-01-21T06:45:49.662601",
     "status": "completed"
    },
    "tags": []
   },
   "outputs": [
    {
     "name": "stdout",
     "output_type": "stream",
     "text": [
      "{'apexProcessingTime': 0,\n",
      " 'apiActiveProcessingTime': 0,\n",
      " 'apiVersion': 47.0,\n",
      " 'columnDelimiter': 'COMMA',\n",
      " 'concurrencyMode': 'Parallel',\n",
      " 'contentType': 'CSV',\n",
      " 'createdById': '0055w00000DM5bOAAT',\n",
      " 'createdDate': '2021-01-21T06:45:48.000+0000',\n",
      " 'externalIdFieldName': 'Id',\n",
      " 'id': '7505w00000TmJLeAAN',\n",
      " 'jobType': 'V2Ingest',\n",
      " 'lineEnding': 'LF',\n",
      " 'numberRecordsFailed': 0,\n",
      " 'numberRecordsProcessed': 0,\n",
      " 'object': 'tool_usage_cluster__c',\n",
      " 'operation': 'upsert',\n",
      " 'retries': 0,\n",
      " 'state': 'UploadComplete',\n",
      " 'systemModstamp': '2021-01-21T06:45:49.000+0000',\n",
      " 'totalProcessingTime': 0}\n"
     ]
    }
   ],
   "source": [
    "# check status\n",
    "from pprint import pprint\n",
    "\n",
    "pprint(db_s.check_bulk_status())"
   ]
  },
  {
   "cell_type": "markdown",
   "metadata": {
    "papermill": {
     "duration": 0.051964,
     "end_time": "2021-01-21T06:45:50.150962",
     "exception": false,
     "start_time": "2021-01-21T06:45:50.098998",
     "status": "completed"
    },
    "tags": []
   },
   "source": [
    "## Determine domain by cluster by latest cluster"
   ]
  },
  {
   "cell_type": "code",
   "execution_count": 25,
   "metadata": {
    "execution": {
     "iopub.execute_input": "2021-01-21T06:45:50.270602Z",
     "iopub.status.busy": "2021-01-21T06:45:50.269984Z",
     "iopub.status.idle": "2021-01-21T06:45:50.603572Z",
     "shell.execute_reply": "2021-01-21T06:45:50.603117Z"
    },
    "papermill": {
     "duration": 0.402228,
     "end_time": "2021-01-21T06:45:50.603704",
     "exception": false,
     "start_time": "2021-01-21T06:45:50.201476",
     "status": "completed"
    },
    "tags": []
   },
   "outputs": [
    {
     "data": {
      "text/html": [
       "<div>\n",
       "<style scoped>\n",
       "    .dataframe tbody tr th:only-of-type {\n",
       "        vertical-align: middle;\n",
       "    }\n",
       "\n",
       "    .dataframe tbody tr th {\n",
       "        vertical-align: top;\n",
       "    }\n",
       "\n",
       "    .dataframe thead th {\n",
       "        text-align: right;\n",
       "    }\n",
       "</style>\n",
       "<table border=\"1\" class=\"dataframe\">\n",
       "  <thead>\n",
       "    <tr style=\"text-align: right;\">\n",
       "      <th></th>\n",
       "      <th>Id</th>\n",
       "      <th>Starting_Date__c</th>\n",
       "    </tr>\n",
       "  </thead>\n",
       "  <tbody>\n",
       "    <tr>\n",
       "      <th>0</th>\n",
       "      <td>a0w5w000009Q7CuAAK</td>\n",
       "      <td>2010-09-05</td>\n",
       "    </tr>\n",
       "    <tr>\n",
       "      <th>1</th>\n",
       "      <td>a0w5w000009Q7CvAAK</td>\n",
       "      <td>2018-11-29</td>\n",
       "    </tr>\n",
       "  </tbody>\n",
       "</table>\n",
       "</div>"
      ],
      "text/plain": [
       "                   Id Starting_Date__c\n",
       "0  a0w5w000009Q7CuAAK       2010-09-05\n",
       "1  a0w5w000009Q7CvAAK       2018-11-29"
      ]
     },
     "metadata": {},
     "output_type": "display_data"
    },
    {
     "data": {
      "text/html": [
       "<div>\n",
       "<style scoped>\n",
       "    .dataframe tbody tr th:only-of-type {\n",
       "        vertical-align: middle;\n",
       "    }\n",
       "\n",
       "    .dataframe tbody tr th {\n",
       "        vertical-align: top;\n",
       "    }\n",
       "\n",
       "    .dataframe thead th {\n",
       "        text-align: right;\n",
       "    }\n",
       "</style>\n",
       "<table border=\"1\" class=\"dataframe\">\n",
       "  <thead>\n",
       "    <tr style=\"text-align: right;\">\n",
       "      <th></th>\n",
       "      <th>Contact__c</th>\n",
       "      <th>Id</th>\n",
       "      <th>Tool_Usage_Cluster__c</th>\n",
       "    </tr>\n",
       "  </thead>\n",
       "  <tbody>\n",
       "    <tr>\n",
       "      <th>0</th>\n",
       "      <td>0035w000034IX2vAAG</td>\n",
       "      <td>a0x5w00000bwaVOAAY</td>\n",
       "      <td>a0w5w000009Q8HQAA0</td>\n",
       "    </tr>\n",
       "    <tr>\n",
       "      <th>1</th>\n",
       "      <td>0035w000034IQ74AAG</td>\n",
       "      <td>a0x5w00000bwaVPAAY</td>\n",
       "      <td>a0w5w000009Q85EAAS</td>\n",
       "    </tr>\n",
       "  </tbody>\n",
       "</table>\n",
       "</div>"
      ],
      "text/plain": [
       "           Contact__c                  Id Tool_Usage_Cluster__c\n",
       "0  0035w000034IX2vAAG  a0x5w00000bwaVOAAY    a0w5w000009Q8HQAA0\n",
       "1  0035w000034IQ74AAG  a0x5w00000bwaVPAAY    a0w5w000009Q85EAAS"
      ]
     },
     "metadata": {},
     "output_type": "display_data"
    },
    {
     "data": {
      "text/html": [
       "<div>\n",
       "<style scoped>\n",
       "    .dataframe tbody tr th:only-of-type {\n",
       "        vertical-align: middle;\n",
       "    }\n",
       "\n",
       "    .dataframe tbody tr th {\n",
       "        vertical-align: top;\n",
       "    }\n",
       "\n",
       "    .dataframe thead th {\n",
       "        text-align: right;\n",
       "    }\n",
       "</style>\n",
       "<table border=\"1\" class=\"dataframe\">\n",
       "  <thead>\n",
       "    <tr style=\"text-align: right;\">\n",
       "      <th></th>\n",
       "      <th>Tool_Usage_Cluster__c</th>\n",
       "      <th>Organization__c</th>\n",
       "    </tr>\n",
       "  </thead>\n",
       "  <tbody>\n",
       "    <tr>\n",
       "      <th>0</th>\n",
       "      <td>a0w5w000009Q7pSAAS</td>\n",
       "      <td></td>\n",
       "    </tr>\n",
       "    <tr>\n",
       "      <th>1</th>\n",
       "      <td>a0w5w000009Q7pfAAC</td>\n",
       "      <td></td>\n",
       "    </tr>\n",
       "  </tbody>\n",
       "</table>\n",
       "</div>"
      ],
      "text/plain": [
       "  Tool_Usage_Cluster__c Organization__c\n",
       "0    a0w5w000009Q7pSAAS                \n",
       "1    a0w5w000009Q7pfAAC                "
      ]
     },
     "metadata": {},
     "output_type": "display_data"
    },
    {
     "data": {
      "text/html": [
       "<div>\n",
       "<style scoped>\n",
       "    .dataframe tbody tr th:only-of-type {\n",
       "        vertical-align: middle;\n",
       "    }\n",
       "\n",
       "    .dataframe tbody tr th {\n",
       "        vertical-align: top;\n",
       "    }\n",
       "\n",
       "    .dataframe thead th {\n",
       "        text-align: right;\n",
       "    }\n",
       "</style>\n",
       "<table border=\"1\" class=\"dataframe\">\n",
       "  <thead>\n",
       "    <tr style=\"text-align: right;\">\n",
       "      <th></th>\n",
       "      <th>Id</th>\n",
       "      <th>Organization_Overwrite__c</th>\n",
       "      <th>Organization_email_derived__c</th>\n",
       "    </tr>\n",
       "  </thead>\n",
       "  <tbody>\n",
       "    <tr>\n",
       "      <th>0</th>\n",
       "      <td>0035w000031Vsp1AAC</td>\n",
       "      <td>NaN</td>\n",
       "      <td>NaN</td>\n",
       "    </tr>\n",
       "    <tr>\n",
       "      <th>1</th>\n",
       "      <td>0035w000031Vsp2AAC</td>\n",
       "      <td>NaN</td>\n",
       "      <td>a0r5w00000V42cCAAR</td>\n",
       "    </tr>\n",
       "  </tbody>\n",
       "</table>\n",
       "</div>"
      ],
      "text/plain": [
       "                   Id Organization_Overwrite__c Organization_email_derived__c\n",
       "0  0035w000031Vsp1AAC                       NaN                           NaN\n",
       "1  0035w000031Vsp2AAC                       NaN            a0r5w00000V42cCAAR"
      ]
     },
     "metadata": {},
     "output_type": "display_data"
    }
   ],
   "source": [
    "# display data used in this section\n",
    "display(sf_cluster_df.head(2))\n",
    "display(sf_cluster_asso_df.head(2))\n",
    "display(org_from_cluster_df.head(2))\n",
    "display(sf_contact_df.head(2))"
   ]
  },
  {
   "cell_type": "code",
   "execution_count": 26,
   "metadata": {
    "execution": {
     "iopub.execute_input": "2021-01-21T06:45:50.720714Z",
     "iopub.status.busy": "2021-01-21T06:45:50.720092Z",
     "iopub.status.idle": "2021-01-21T06:45:50.764720Z",
     "shell.execute_reply": "2021-01-21T06:45:50.776435Z"
    },
    "papermill": {
     "duration": 0.120227,
     "end_time": "2021-01-21T06:45:50.776612",
     "exception": false,
     "start_time": "2021-01-21T06:45:50.656385",
     "status": "completed"
    },
    "tags": []
   },
   "outputs": [
    {
     "data": {
      "text/html": [
       "<div>\n",
       "<style scoped>\n",
       "    .dataframe tbody tr th:only-of-type {\n",
       "        vertical-align: middle;\n",
       "    }\n",
       "\n",
       "    .dataframe tbody tr th {\n",
       "        vertical-align: top;\n",
       "    }\n",
       "\n",
       "    .dataframe thead th {\n",
       "        text-align: right;\n",
       "    }\n",
       "</style>\n",
       "<table border=\"1\" class=\"dataframe\">\n",
       "  <thead>\n",
       "    <tr style=\"text-align: right;\">\n",
       "      <th></th>\n",
       "      <th>Contact__c</th>\n",
       "      <th>Tool_Usage_Cluster__c</th>\n",
       "      <th>Organization__c</th>\n",
       "      <th>Starting_Date__c</th>\n",
       "    </tr>\n",
       "  </thead>\n",
       "  <tbody>\n",
       "    <tr>\n",
       "      <th>0</th>\n",
       "      <td>0035w000034IX2vAAG</td>\n",
       "      <td>a0w5w000009Q8HQAA0</td>\n",
       "      <td></td>\n",
       "      <td>2017-04-01</td>\n",
       "    </tr>\n",
       "    <tr>\n",
       "      <th>1</th>\n",
       "      <td>0035w000034IQ74AAG</td>\n",
       "      <td>a0w5w000009Q85EAAS</td>\n",
       "      <td></td>\n",
       "      <td>2017-03-25</td>\n",
       "    </tr>\n",
       "  </tbody>\n",
       "</table>\n",
       "</div>"
      ],
      "text/plain": [
       "           Contact__c Tool_Usage_Cluster__c Organization__c Starting_Date__c\n",
       "0  0035w000034IX2vAAG    a0w5w000009Q8HQAA0                       2017-04-01\n",
       "1  0035w000034IQ74AAG    a0w5w000009Q85EAAS                       2017-03-25"
      ]
     },
     "execution_count": 26,
     "metadata": {},
     "output_type": "execute_result"
    }
   ],
   "source": [
    "overall_df = pd.merge(sf_cluster_asso_df, org_from_cluster_df,\\\n",
    "                      how='inner', left_on='Tool_Usage_Cluster__c', right_on='Tool_Usage_Cluster__c')\n",
    "overall_df.drop(columns='Id', inplace=True)\n",
    "\n",
    "# join cluster date\n",
    "overall_df = pd.merge(overall_df, sf_cluster_df, \\\n",
    "                     how='inner', left_on='Tool_Usage_Cluster__c', right_on='Id')\n",
    "overall_df.drop(columns='Id', inplace=True)\n",
    "\n",
    "# display\n",
    "overall_df.head(2)"
   ]
  },
  {
   "cell_type": "code",
   "execution_count": 27,
   "metadata": {
    "execution": {
     "iopub.execute_input": "2021-01-21T06:45:50.893318Z",
     "iopub.status.busy": "2021-01-21T06:45:50.892728Z",
     "iopub.status.idle": "2021-01-21T06:45:51.394449Z",
     "shell.execute_reply": "2021-01-21T06:45:51.393917Z"
    },
    "papermill": {
     "duration": 0.561854,
     "end_time": "2021-01-21T06:45:51.394589",
     "exception": false,
     "start_time": "2021-01-21T06:45:50.832735",
     "status": "completed"
    },
    "tags": []
   },
   "outputs": [
    {
     "data": {
      "text/html": [
       "<div>\n",
       "<style scoped>\n",
       "    .dataframe tbody tr th:only-of-type {\n",
       "        vertical-align: middle;\n",
       "    }\n",
       "\n",
       "    .dataframe tbody tr th {\n",
       "        vertical-align: top;\n",
       "    }\n",
       "\n",
       "    .dataframe thead th {\n",
       "        text-align: right;\n",
       "    }\n",
       "</style>\n",
       "<table border=\"1\" class=\"dataframe\">\n",
       "  <thead>\n",
       "    <tr style=\"text-align: right;\">\n",
       "      <th></th>\n",
       "      <th>Contact__c</th>\n",
       "      <th>Organization_cluster_derived__c</th>\n",
       "    </tr>\n",
       "  </thead>\n",
       "  <tbody>\n",
       "    <tr>\n",
       "      <th>0</th>\n",
       "      <td>0035w000031VuMZAA0</td>\n",
       "      <td></td>\n",
       "    </tr>\n",
       "    <tr>\n",
       "      <th>1</th>\n",
       "      <td>0035w000031VuinAAC</td>\n",
       "      <td></td>\n",
       "    </tr>\n",
       "  </tbody>\n",
       "</table>\n",
       "</div>"
      ],
      "text/plain": [
       "           Contact__c Organization_cluster_derived__c\n",
       "0  0035w000031VuMZAA0                                \n",
       "1  0035w000031VuinAAC                                "
      ]
     },
     "execution_count": 27,
     "metadata": {},
     "output_type": "execute_result"
    }
   ],
   "source": [
    "# infer the organization of this cluster through majority vote\n",
    "contact_org_from_cluster_df = overall_df.groupby('Contact__c').apply(lambda x: \\\n",
    "                                                   x.sort_values(by=['Starting_Date__c'], ascending=False).head(1).Organization__c.iloc[0])\\\n",
    "                                            .dropna().reset_index(name='Organization_cluster_derived__c')\n",
    "\n",
    "# display\n",
    "contact_org_from_cluster_df.head(2)"
   ]
  },
  {
   "cell_type": "code",
   "execution_count": 28,
   "metadata": {
    "execution": {
     "iopub.execute_input": "2021-01-21T06:45:51.561973Z",
     "iopub.status.busy": "2021-01-21T06:45:51.551276Z",
     "iopub.status.idle": "2021-01-21T06:45:51.746749Z",
     "shell.execute_reply": "2021-01-21T06:45:51.747241Z"
    },
    "papermill": {
     "duration": 0.297169,
     "end_time": "2021-01-21T06:45:51.747416",
     "exception": false,
     "start_time": "2021-01-21T06:45:51.450247",
     "status": "completed"
    },
    "tags": []
   },
   "outputs": [],
   "source": [
    "contact_org_from_cluster_df = contact_org_from_cluster_df[contact_org_from_cluster_df.Organization_cluster_derived__c!='']"
   ]
  },
  {
   "cell_type": "code",
   "execution_count": 29,
   "metadata": {
    "execution": {
     "iopub.execute_input": "2021-01-21T06:45:51.864389Z",
     "iopub.status.busy": "2021-01-21T06:45:51.863779Z",
     "iopub.status.idle": "2021-01-21T06:45:51.867940Z",
     "shell.execute_reply": "2021-01-21T06:45:51.867256Z"
    },
    "papermill": {
     "duration": 0.068375,
     "end_time": "2021-01-21T06:45:51.868067",
     "exception": false,
     "start_time": "2021-01-21T06:45:51.799692",
     "status": "completed"
    },
    "tags": []
   },
   "outputs": [
    {
     "data": {
      "text/html": [
       "<div>\n",
       "<style scoped>\n",
       "    .dataframe tbody tr th:only-of-type {\n",
       "        vertical-align: middle;\n",
       "    }\n",
       "\n",
       "    .dataframe tbody tr th {\n",
       "        vertical-align: top;\n",
       "    }\n",
       "\n",
       "    .dataframe thead th {\n",
       "        text-align: right;\n",
       "    }\n",
       "</style>\n",
       "<table border=\"1\" class=\"dataframe\">\n",
       "  <thead>\n",
       "    <tr style=\"text-align: right;\">\n",
       "      <th></th>\n",
       "      <th>9</th>\n",
       "      <th>10</th>\n",
       "    </tr>\n",
       "  </thead>\n",
       "  <tbody>\n",
       "    <tr>\n",
       "      <th>Id</th>\n",
       "      <td>0035w000034IPkRAAW</td>\n",
       "      <td>0035w000034IPm8AAG</td>\n",
       "    </tr>\n",
       "    <tr>\n",
       "      <th>Organization_cluster_derived__c</th>\n",
       "      <td>a0r5w00000V43MjAAJ</td>\n",
       "      <td>a0r5w00000V43MjAAJ</td>\n",
       "    </tr>\n",
       "  </tbody>\n",
       "</table>\n",
       "</div>"
      ],
      "text/plain": [
       "                                                 9                   10\n",
       "Id                               0035w000034IPkRAAW  0035w000034IPm8AAG\n",
       "Organization_cluster_derived__c  a0r5w00000V43MjAAJ  a0r5w00000V43MjAAJ"
      ]
     },
     "execution_count": 29,
     "metadata": {},
     "output_type": "execute_result"
    }
   ],
   "source": [
    "# Send data to Salesforce\n",
    "\n",
    "df_sf = pd.DataFrame()\n",
    "\n",
    "# Make sure NaN and NaT values are taken care of here\n",
    "df_sf['Id']         = contact_org_from_cluster_df['Contact__c']\n",
    "df_sf['Organization_cluster_derived__c'] = contact_org_from_cluster_df['Organization_cluster_derived__c']\n",
    "\n",
    "sf_original_fields = df_sf.columns\n",
    "\n",
    "# display\n",
    "df_sf.head(2).T"
   ]
  },
  {
   "cell_type": "code",
   "execution_count": 30,
   "metadata": {
    "execution": {
     "iopub.execute_input": "2021-01-21T06:45:51.982008Z",
     "iopub.status.busy": "2021-01-21T06:45:51.981389Z",
     "iopub.status.idle": "2021-01-21T06:45:52.230651Z",
     "shell.execute_reply": "2021-01-21T06:45:52.229933Z"
    },
    "papermill": {
     "duration": 0.308145,
     "end_time": "2021-01-21T06:45:52.230784",
     "exception": false,
     "start_time": "2021-01-21T06:45:51.922639",
     "status": "completed"
    },
    "tags": []
   },
   "outputs": [
    {
     "name": "stdout",
     "output_type": "stream",
     "text": [
      "Obtained Salesforce access token ...... True\n"
     ]
    }
   ],
   "source": [
    "db_s = salesforce\n",
    "\n",
    "# specify Salesforce object ID and external ID\n",
    "db_s.object_id = 'Contact'\n",
    "db_s.external_id = 'Id'"
   ]
  },
  {
   "cell_type": "code",
   "execution_count": 31,
   "metadata": {
    "execution": {
     "iopub.execute_input": "2021-01-21T06:45:52.343784Z",
     "iopub.status.busy": "2021-01-21T06:45:52.343226Z",
     "iopub.status.idle": "2021-01-21T06:45:53.322026Z",
     "shell.execute_reply": "2021-01-21T06:45:53.321380Z"
    },
    "papermill": {
     "duration": 1.036985,
     "end_time": "2021-01-21T06:45:53.322160",
     "exception": false,
     "start_time": "2021-01-21T06:45:52.285175",
     "status": "completed"
    },
    "tags": []
   },
   "outputs": [
    {
     "name": "stdout",
     "output_type": "stream",
     "text": [
      "[Success] Bulk job creation successful. Job ID = 7505w00000TmJAsAAN\n",
      "hello\n",
      "[Success] CSV upload successful. Job ID = 7505w00000TmJAsAAN\n",
      "[Success] Closing job successful. Job ID = 7505w00000TmJAsAAN\n"
     ]
    }
   ],
   "source": [
    "# send data to Salesforce\n",
    "db_s.send_data(df_sf)"
   ]
  },
  {
   "cell_type": "code",
   "execution_count": 32,
   "metadata": {
    "execution": {
     "iopub.execute_input": "2021-01-21T06:45:53.439320Z",
     "iopub.status.busy": "2021-01-21T06:45:53.438734Z",
     "iopub.status.idle": "2021-01-21T06:45:53.833115Z",
     "shell.execute_reply": "2021-01-21T06:45:53.832655Z"
    },
    "papermill": {
     "duration": 0.455433,
     "end_time": "2021-01-21T06:45:53.833270",
     "exception": false,
     "start_time": "2021-01-21T06:45:53.377837",
     "status": "completed"
    },
    "tags": []
   },
   "outputs": [
    {
     "name": "stdout",
     "output_type": "stream",
     "text": [
      "{'apexProcessingTime': 0,\n",
      " 'apiActiveProcessingTime': 0,\n",
      " 'apiVersion': 47.0,\n",
      " 'columnDelimiter': 'COMMA',\n",
      " 'concurrencyMode': 'Parallel',\n",
      " 'contentType': 'CSV',\n",
      " 'createdById': '0055w00000DM5bOAAT',\n",
      " 'createdDate': '2021-01-21T06:45:52.000+0000',\n",
      " 'externalIdFieldName': 'Id',\n",
      " 'id': '7505w00000TmJAsAAN',\n",
      " 'jobType': 'V2Ingest',\n",
      " 'lineEnding': 'LF',\n",
      " 'numberRecordsFailed': 0,\n",
      " 'numberRecordsProcessed': 0,\n",
      " 'object': 'Contact',\n",
      " 'operation': 'upsert',\n",
      " 'retries': 0,\n",
      " 'state': 'UploadComplete',\n",
      " 'systemModstamp': '2021-01-21T06:45:53.000+0000',\n",
      " 'totalProcessingTime': 0}\n"
     ]
    }
   ],
   "source": [
    "# check status\n",
    "from pprint import pprint\n",
    "\n",
    "pprint(db_s.check_bulk_status())"
   ]
  },
  {
   "cell_type": "code",
   "execution_count": null,
   "metadata": {
    "papermill": {
     "duration": 0.056762,
     "end_time": "2021-01-21T06:45:53.945966",
     "exception": false,
     "start_time": "2021-01-21T06:45:53.889204",
     "status": "completed"
    },
    "tags": []
   },
   "outputs": [],
   "source": []
  },
  {
   "cell_type": "markdown",
   "metadata": {
    "papermill": {
     "duration": 0.057048,
     "end_time": "2021-01-21T06:45:54.058551",
     "exception": false,
     "start_time": "2021-01-21T06:45:54.001503",
     "status": "completed"
    },
    "tags": []
   },
   "source": [
    "## Determine domain by cluster by latest cluster"
   ]
  },
  {
   "cell_type": "raw",
   "metadata": {
    "papermill": {
     "duration": 0.058114,
     "end_time": "2021-01-21T06:45:54.174329",
     "exception": false,
     "start_time": "2021-01-21T06:45:54.116215",
     "status": "completed"
    },
    "tags": []
   },
   "source": [
    "# get Salesforce ID for contact-cluster associations\n",
    "sf_contact_domain_df = db_s.query_data('SELECT Id, Organization_citation_derived__c,\\\n",
    "Organization_cluster_derived__c, Organization_email_derived__c, Organization_Overwrite__c FROM Contact')"
   ]
  },
  {
   "cell_type": "raw",
   "metadata": {
    "papermill": {
     "duration": 0.058632,
     "end_time": "2021-01-21T06:45:54.291513",
     "exception": false,
     "start_time": "2021-01-21T06:45:54.232881",
     "status": "completed"
    },
    "tags": []
   },
   "source": [
    "# display\n",
    "display(sf_contact_domain_df.head(2).T)"
   ]
  },
  {
   "cell_type": "raw",
   "metadata": {
    "papermill": {
     "duration": 0.052635,
     "end_time": "2021-01-21T06:45:54.397037",
     "exception": false,
     "start_time": "2021-01-21T06:45:54.344402",
     "status": "completed"
    },
    "tags": []
   },
   "source": [
    "def calc_final_domain(this_row):\n",
    "    \n",
    "    # if overwrite exists\n",
    "    if this_row.Organization_Overwrite__c != '':\n",
    "        return this_row.Organization_Overwrite__c\n",
    "    \n",
    "    # if citation exists\n",
    "    if this_row.Organization_citation_derived__c != '':\n",
    "        return this_row.Organization_citation_derived__c\n",
    "    \n",
    "    # if email exists\n",
    "    if this_row.Organization_email_derived__c != '':\n",
    "        return this_row.Organization_email_derived__c\n",
    "    \n",
    "    # if cluster exists\n",
    "    if this_row.Organization_cluster_derived__c != '':\n",
    "        return this_row.Organization_cluster_derived__c\n",
    "    \n",
    "    return None\n",
    "\n",
    "\n",
    "sf_contact_domain_df['Organization_composite__c'] = sf_contact_domain_df.fillna('').apply(calc_final_domain, axis=1)\n",
    "\n",
    "sf_contact_domain_df = sf_contact_domain_df[sf_contact_domain_df['Organization_composite__c'].notnull()]\n",
    "\n",
    "# display\n",
    "sf_contact_domain_df.head(4).T"
   ]
  },
  {
   "cell_type": "raw",
   "metadata": {
    "papermill": {
     "duration": 0.052703,
     "end_time": "2021-01-21T06:45:54.502520",
     "exception": false,
     "start_time": "2021-01-21T06:45:54.449817",
     "status": "completed"
    },
    "tags": []
   },
   "source": [
    "# Send data to Salesforce\n",
    "\n",
    "df_sf = pd.DataFrame()\n",
    "\n",
    "# Make sure NaN and NaT values are taken care of here\n",
    "df_sf['Id']         = sf_contact_domain_df['Id']\n",
    "df_sf['Organization_composite__c'] = sf_contact_domain_df['Organization_composite__c']\n",
    "\n",
    "sf_original_fields = df_sf.columns\n",
    "\n",
    "# display\n",
    "df_sf.head(2).T"
   ]
  },
  {
   "cell_type": "raw",
   "metadata": {
    "papermill": {
     "duration": 0.053509,
     "end_time": "2021-01-21T06:45:54.613767",
     "exception": false,
     "start_time": "2021-01-21T06:45:54.560258",
     "status": "completed"
    },
    "tags": []
   },
   "source": [
    "# create DB2 to Salesforce API object\n",
    "db_s = DB2SalesforceAPI(sf_login_params)\n",
    "\n",
    "# specify Salesforce object ID and external ID\n",
    "db_s.object_id = 'Contact'\n",
    "db_s.external_id = 'Id'"
   ]
  },
  {
   "cell_type": "raw",
   "metadata": {
    "papermill": {
     "duration": 0.05339,
     "end_time": "2021-01-21T06:45:54.724480",
     "exception": false,
     "start_time": "2021-01-21T06:45:54.671090",
     "status": "completed"
    },
    "tags": []
   },
   "source": [
    "# send data to Salesforce\n",
    "db_s.send_data(df_sf)"
   ]
  },
  {
   "cell_type": "raw",
   "metadata": {
    "papermill": {
     "duration": 0.060681,
     "end_time": "2021-01-21T06:45:54.839811",
     "exception": false,
     "start_time": "2021-01-21T06:45:54.779130",
     "status": "completed"
    },
    "tags": []
   },
   "source": [
    "# check status\n",
    "from pprint import pprint\n",
    "\n",
    "pprint(db_s.check_bulk_status())"
   ]
  },
  {
   "cell_type": "code",
   "execution_count": null,
   "metadata": {
    "papermill": {
     "duration": 0.054527,
     "end_time": "2021-01-21T06:45:54.949407",
     "exception": false,
     "start_time": "2021-01-21T06:45:54.894880",
     "status": "completed"
    },
    "tags": []
   },
   "outputs": [],
   "source": []
  }
 ],
 "metadata": {
  "celltoolbar": "Tags",
  "kernelspec": {
   "display_name": "Python 3",
   "language": "python",
   "name": "python3"
  },
  "language_info": {
   "codemirror_mode": {
    "name": "ipython",
    "version": 3
   },
   "file_extension": ".py",
   "mimetype": "text/x-python",
   "name": "python",
   "nbconvert_exporter": "python",
   "pygments_lexer": "ipython3",
   "version": "3.7.10"
  },
  "papermill": {
   "duration": 929.208811,
   "end_time": "2021-01-21T06:46:01.275304",
   "environment_variables": {},
   "exception": null,
   "input_path": "/home/users/wang2506/nanohub_salesforce_integ/salesforce/task_orgs_map_contacts.ipynb",
   "output_path": "/home/users/wang2506/nanohub_salesforce_integ/salesforce/task_orgs_map_contacts.ipynb",
   "parameters": {},
   "start_time": "2021-01-21T06:30:32.066493",
   "version": "2.1.1"
  }
 },
 "nbformat": 4,
 "nbformat_minor": 4
}