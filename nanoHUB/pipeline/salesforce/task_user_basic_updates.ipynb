{
 "cells": [
  {
   "cell_type": "markdown",
   "metadata": {
    "pycharm": {
     "name": "#%% md\n"
    }
   },
   "source": [
    "# DB2-Salesforce connector: Basic user information updates"
   ]
  },
  {
   "cell_type": "code",
   "execution_count": 1,
   "metadata": {
    "collapsed": false,
    "execution": {
     "iopub.execute_input": "2021-12-01T03:49:11.141982Z",
     "iopub.status.busy": "2021-12-01T03:49:11.141779Z",
     "iopub.status.idle": "2021-12-01T03:49:11.160116Z",
     "shell.execute_reply": "2021-12-01T03:49:11.158745Z",
     "shell.execute_reply.started": "2021-12-01T03:49:11.141875Z"
    },
    "jupyter": {
     "outputs_hidden": false
    },
    "pycharm": {
     "name": "#%%\n"
    },
    "tags": []
   },
   "outputs": [],
   "source": [
    "# Parameters\n",
    "hours_range = 24*365*30 # number of hours to look back\n",
    "\n",
    "# API settings\n",
    "api_url = '/services/data/v43.0/sobjects'\n",
    "external_id = 'nanoHUB_user_ID__c'\n",
    "object_id = 'Contact'\n",
    "\n",
    "# login parameters to be handled by Papermill\n",
    "sf_login_params = None\n",
    "sql_login_params = None\n",
    "\n",
    "lib_dir = ''"
   ]
  },
  {
   "cell_type": "code",
   "execution_count": 2,
   "metadata": {
    "collapsed": false,
    "execution": {
     "iopub.execute_input": "2021-12-01T03:49:11.162899Z",
     "iopub.status.busy": "2021-12-01T03:49:11.161601Z",
     "iopub.status.idle": "2021-12-01T03:49:15.547218Z",
     "shell.execute_reply": "2021-12-01T03:49:15.545563Z",
     "shell.execute_reply.started": "2021-12-01T03:49:11.162821Z"
    },
    "jupyter": {
     "outputs_hidden": false
    },
    "pycharm": {
     "name": "#%%\n"
    },
    "tags": []
   },
   "outputs": [
    {
     "name": "stdout",
     "output_type": "stream",
     "text": [
      "\u001B[1mnanoHUB - Serving Students, Researchers & Instructors\u001B[0m\n",
      "Obtained Salesforce access token ...... True\n"
     ]
    }
   ],
   "source": [
    "# Parameters\n",
    "from nanoHUB.application import Application\n",
    "\n",
    "application = Application.get_instance()\n",
    "nanohub_db = application.new_db_engine('nanohub')\n",
    "wang159_myrmekes_db = application.new_db_engine('wang159_myrmekes')\n",
    "\n",
    "\n",
    "salesforce = application.new_salesforce_engine()\n",
    "db_s = salesforce\n"
   ]
  },
  {
   "cell_type": "code",
   "execution_count": 3,
   "metadata": {
    "collapsed": false,
    "execution": {
     "iopub.execute_input": "2021-12-01T03:49:15.551152Z",
     "iopub.status.busy": "2021-12-01T03:49:15.550327Z",
     "iopub.status.idle": "2021-12-01T03:49:15.556766Z",
     "shell.execute_reply": "2021-12-01T03:49:15.555701Z",
     "shell.execute_reply.started": "2021-12-01T03:49:15.551101Z"
    },
    "jupyter": {
     "outputs_hidden": false
    },
    "pycharm": {
     "name": "#%%\n"
    },
    "tags": []
   },
   "outputs": [],
   "source": [
    "import sys\n",
    "sys.path.append(lib_dir)\n",
    "\n",
    "import pandas as pd\n",
    "import numpy as np\n",
    "import datetime"
   ]
  },
  {
   "cell_type": "markdown",
   "metadata": {
    "pycharm": {
     "name": "#%% md\n"
    }
   },
   "source": [
    "## Obtain contacts from DB2\n",
    "that have last visit date within range of interest specified by day_range"
   ]
  },
  {
   "cell_type": "raw",
   "metadata": {
    "pycharm": {
     "name": "#%% raw\n"
    }
   },
   "source": [
    "MariaDB [nanohub]> select id, name, label from jos_user_profile_fields;\n",
    "+----+-----------------+-------------------------------------------------------+\n",
    "| id | name            | label                                                 |\n",
    "+----+-----------------+-------------------------------------------------------+\n",
    "|  1 | organization    | Organization                                          |\n",
    "|  2 | orgtype         | Organization / Position Type                          |\n",
    "|  3 | countryresident | Residency                                             |\n",
    "|  4 | countryorigin   | Citizenship                                           |\n",
    "|  5 | url             | Website                                               |\n",
    "|  6 | phone           | Telephone                                             |\n",
    "|  7 | orcid           | ORCID                                                 |\n",
    "|  8 | gender          | Gender                                                |\n",
    "|  9 | race            | Racial Background                                     |\n",
    "| 10 | disability      | Disability                                            |\n",
    "| 11 | reason          | Reason                                                |\n",
    "| 12 | tags            | Interests                                             |\n",
    "| 13 | address         | Address                                               |\n",
    "| 14 | hispanic        | Hispanic Heritage                                     |\n",
    "| 15 | bio             | Biography                                             |\n",
    "| 16 | howdidyouhear   | How did you first hear about nanoHUB?                 |\n",
    "| 17 | purposeofvisit  | What is the primary purpose of your visit to nanoHUB? |\n",
    "+----+-----------------+-------------------------------------------------------+\n",
    "\n",
    "\n",
    "\n",
    "MariaDB [nanohub]> explain  jos_user_profiles;\n",
    "+---------------+------------------+------+-----+---------+----------------+\n",
    "| Field         | Type             | Null | Key | Default | Extra          |\n",
    "+---------------+------------------+------+-----+---------+----------------+\n",
    "| id            | int(11) unsigned | NO   | PRI | NULL    | auto_increment |\n",
    "| user_id       | int(11)          | NO   | MUL | NULL    |                |\n",
    "| profile_key   | varchar(100)     | NO   |     | NULL    |                |\n",
    "| profile_value | text             | NO   |     | NULL    |                |\n",
    "| ordering      | int(11)          | NO   |     | 0       |                |\n",
    "| access        | int(10)          | NO   |     | 0       |                |\n",
    "+---------------+------------------+------+-----+---------+----------------+"
   ]
  },
  {
   "cell_type": "code",
   "execution_count": 4,
   "metadata": {
    "collapsed": false,
    "execution": {
     "iopub.execute_input": "2021-12-01T03:49:15.558946Z",
     "iopub.status.busy": "2021-12-01T03:49:15.558186Z",
     "iopub.status.idle": "2021-12-01T03:49:15.567136Z",
     "shell.execute_reply": "2021-12-01T03:49:15.566060Z",
     "shell.execute_reply.started": "2021-12-01T03:49:15.558912Z"
    },
    "jupyter": {
     "outputs_hidden": false
    },
    "pycharm": {
     "name": "#%%\n"
    },
    "tags": []
   },
   "outputs": [
    {
     "name": "stdout",
     "output_type": "stream",
     "text": [
      "select id, name, username, block, email, sendEmail, registerDate, lastvisitDate                     from jos_users where registerDate >= '1991-12-09'\n"
     ]
    }
   ],
   "source": [
    "# Depending on the task, use different query and cutoff\n",
    "\n",
    "# Hourly update for new registrations\n",
    "date_cutoff = (datetime.datetime.today().date() - datetime.timedelta(hours=hours_range)).strftime('%Y-%m-%d')\n",
    "sql_query = \"select id, name, username, block, email, sendEmail, registerDate, lastvisitDate \\\n",
    "                    from jos_users where registerDate >= '%s'\" % date_cutoff\n",
    "\n",
    "# display\n",
    "print(sql_query)"
   ]
  },
  {
   "cell_type": "code",
   "execution_count": 5,
   "metadata": {
    "execution": {
     "iopub.execute_input": "2021-12-01T03:49:15.569066Z",
     "iopub.status.busy": "2021-12-01T03:49:15.568575Z",
     "iopub.status.idle": "2021-12-01T03:49:32.214045Z",
     "shell.execute_reply": "2021-12-01T03:49:32.213032Z",
     "shell.execute_reply.started": "2021-12-01T03:49:15.569035Z"
    },
    "pycharm": {
     "name": "#%%\n"
    }
   },
   "outputs": [
    {
     "data": {
      "text/html": [
       "<div>\n",
       "<style scoped>\n",
       "    .dataframe tbody tr th:only-of-type {\n",
       "        vertical-align: middle;\n",
       "    }\n",
       "\n",
       "    .dataframe tbody tr th {\n",
       "        vertical-align: top;\n",
       "    }\n",
       "\n",
       "    .dataframe thead th {\n",
       "        text-align: right;\n",
       "    }\n",
       "</style>\n",
       "<table border=\"1\" class=\"dataframe\">\n",
       "  <thead>\n",
       "    <tr style=\"text-align: right;\">\n",
       "      <th></th>\n",
       "      <th>id</th>\n",
       "      <th>name</th>\n",
       "      <th>username</th>\n",
       "      <th>block</th>\n",
       "      <th>email</th>\n",
       "      <th>sendEmail</th>\n",
       "      <th>registerDate</th>\n",
       "      <th>lastvisitDate</th>\n",
       "    </tr>\n",
       "  </thead>\n",
       "  <tbody>\n",
       "    <tr>\n",
       "      <th>0</th>\n",
       "      <td>998</td>\n",
       "      <td>hubrepo hubrepo</td>\n",
       "      <td>hubrepo</td>\n",
       "      <td>0</td>\n",
       "      <td>nkissebe@gmail.com</td>\n",
       "      <td>0</td>\n",
       "      <td>2014-11-13 21:09:09</td>\n",
       "      <td>NaT</td>\n",
       "    </tr>\n",
       "    <tr>\n",
       "      <th>1</th>\n",
       "      <td>1683</td>\n",
       "      <td>nanoHUB support</td>\n",
       "      <td>support</td>\n",
       "      <td>0</td>\n",
       "      <td>support@nanohub.org</td>\n",
       "      <td>0</td>\n",
       "      <td>2008-11-19 22:51:04</td>\n",
       "      <td>2008-11-19 23:55:30</td>\n",
       "    </tr>\n",
       "    <tr>\n",
       "      <th>2</th>\n",
       "      <td>1684</td>\n",
       "      <td>Grid Statistics</td>\n",
       "      <td>gridstat</td>\n",
       "      <td>0</td>\n",
       "      <td>gridstat@nanohub.org</td>\n",
       "      <td>0</td>\n",
       "      <td>2008-11-18 17:29:56</td>\n",
       "      <td>2020-02-14 18:50:14</td>\n",
       "    </tr>\n",
       "    <tr>\n",
       "      <th>3</th>\n",
       "      <td>1685</td>\n",
       "      <td>NCN NCN</td>\n",
       "      <td>ncn</td>\n",
       "      <td>0</td>\n",
       "      <td>ncn@nanohub.org</td>\n",
       "      <td>0</td>\n",
       "      <td>2008-11-11 19:17:04</td>\n",
       "      <td>NaT</td>\n",
       "    </tr>\n",
       "    <tr>\n",
       "      <th>4</th>\n",
       "      <td>1686</td>\n",
       "      <td>nanoHUB nanoHUB</td>\n",
       "      <td>nanohub</td>\n",
       "      <td>0</td>\n",
       "      <td>apps@nanohub.org</td>\n",
       "      <td>0</td>\n",
       "      <td>2014-06-26 19:38:57</td>\n",
       "      <td>NaT</td>\n",
       "    </tr>\n",
       "  </tbody>\n",
       "</table>\n",
       "</div>"
      ],
      "text/plain": [
       "     id             name  username  block                 email  sendEmail  \\\n",
       "0   998  hubrepo hubrepo   hubrepo      0    nkissebe@gmail.com          0   \n",
       "1  1683  nanoHUB support   support      0   support@nanohub.org          0   \n",
       "2  1684  Grid Statistics  gridstat      0  gridstat@nanohub.org          0   \n",
       "3  1685          NCN NCN       ncn      0       ncn@nanohub.org          0   \n",
       "4  1686  nanoHUB nanoHUB   nanohub      0      apps@nanohub.org          0   \n",
       "\n",
       "         registerDate       lastvisitDate  \n",
       "0 2014-11-13 21:09:09                 NaT  \n",
       "1 2008-11-19 22:51:04 2008-11-19 23:55:30  \n",
       "2 2008-11-18 17:29:56 2020-02-14 18:50:14  \n",
       "3 2008-11-11 19:17:04                 NaT  \n",
       "4 2014-06-26 19:38:57                 NaT  "
      ]
     },
     "metadata": {},
     "output_type": "display_data"
    },
    {
     "data": {
      "text/html": [
       "<div>\n",
       "<style scoped>\n",
       "    .dataframe tbody tr th:only-of-type {\n",
       "        vertical-align: middle;\n",
       "    }\n",
       "\n",
       "    .dataframe tbody tr th {\n",
       "        vertical-align: top;\n",
       "    }\n",
       "\n",
       "    .dataframe thead th {\n",
       "        text-align: right;\n",
       "    }\n",
       "</style>\n",
       "<table border=\"1\" class=\"dataframe\">\n",
       "  <thead>\n",
       "    <tr style=\"text-align: right;\">\n",
       "      <th></th>\n",
       "      <th>id</th>\n",
       "      <th>name</th>\n",
       "      <th>username</th>\n",
       "      <th>block</th>\n",
       "      <th>email</th>\n",
       "      <th>sendEmail</th>\n",
       "      <th>registerDate</th>\n",
       "      <th>lastvisitDate</th>\n",
       "    </tr>\n",
       "  </thead>\n",
       "  <tbody>\n",
       "    <tr>\n",
       "      <th>265470</th>\n",
       "      <td>347747</td>\n",
       "      <td>Folk Narongrit</td>\n",
       "      <td>folknarongrit</td>\n",
       "      <td>0</td>\n",
       "      <td>wnarongr@purdue.edu</td>\n",
       "      <td>0</td>\n",
       "      <td>2021-12-01 01:27:05</td>\n",
       "      <td>2021-12-01 01:27:05</td>\n",
       "    </tr>\n",
       "    <tr>\n",
       "      <th>265471</th>\n",
       "      <td>347750</td>\n",
       "      <td>Nimul Islam</td>\n",
       "      <td>nimul.me</td>\n",
       "      <td>0</td>\n",
       "      <td>nimul.me@gmail.com</td>\n",
       "      <td>0</td>\n",
       "      <td>2021-12-01 03:17:30</td>\n",
       "      <td>2021-12-01 03:17:31</td>\n",
       "    </tr>\n",
       "    <tr>\n",
       "      <th>265472</th>\n",
       "      <td>347751</td>\n",
       "      <td>Kang Jinfeng</td>\n",
       "      <td>-186750</td>\n",
       "      <td>0</td>\n",
       "      <td>-186750@invalid</td>\n",
       "      <td>-1</td>\n",
       "      <td>2021-12-01 03:41:07</td>\n",
       "      <td>2021-12-01 03:41:07</td>\n",
       "    </tr>\n",
       "    <tr>\n",
       "      <th>265473</th>\n",
       "      <td>347752</td>\n",
       "      <td>Jack Robert Van Sambeek</td>\n",
       "      <td>jsambeek</td>\n",
       "      <td>0</td>\n",
       "      <td>jsambeek@mit.edu</td>\n",
       "      <td>0</td>\n",
       "      <td>2021-12-01 03:45:42</td>\n",
       "      <td>2021-12-01 03:45:43</td>\n",
       "    </tr>\n",
       "    <tr>\n",
       "      <th>265474</th>\n",
       "      <td>347753</td>\n",
       "      <td>‍손세준(학부학생/공과대학 신소재공학)</td>\n",
       "      <td>-186752</td>\n",
       "      <td>0</td>\n",
       "      <td>-186752@invalid</td>\n",
       "      <td>-1</td>\n",
       "      <td>2021-12-01 03:45:47</td>\n",
       "      <td>2021-12-01 03:45:48</td>\n",
       "    </tr>\n",
       "  </tbody>\n",
       "</table>\n",
       "</div>"
      ],
      "text/plain": [
       "            id                     name       username  block  \\\n",
       "265470  347747           Folk Narongrit  folknarongrit      0   \n",
       "265471  347750              Nimul Islam       nimul.me      0   \n",
       "265472  347751             Kang Jinfeng        -186750      0   \n",
       "265473  347752  Jack Robert Van Sambeek       jsambeek      0   \n",
       "265474  347753    ‍손세준(학부학생/공과대학 신소재공학)        -186752      0   \n",
       "\n",
       "                      email  sendEmail        registerDate       lastvisitDate  \n",
       "265470  wnarongr@purdue.edu          0 2021-12-01 01:27:05 2021-12-01 01:27:05  \n",
       "265471   nimul.me@gmail.com          0 2021-12-01 03:17:30 2021-12-01 03:17:31  \n",
       "265472      -186750@invalid         -1 2021-12-01 03:41:07 2021-12-01 03:41:07  \n",
       "265473     jsambeek@mit.edu          0 2021-12-01 03:45:42 2021-12-01 03:45:43  \n",
       "265474      -186752@invalid         -1 2021-12-01 03:45:47 2021-12-01 03:45:48  "
      ]
     },
     "metadata": {},
     "output_type": "display_data"
    }
   ],
   "source": [
    "# connect with DB2\n",
    "import sqlalchemy as sql\n",
    "\n",
    "df = pd.read_sql_query(sql_query, nanohub_db)\n",
    "# display\n",
    "display(df.head())\n",
    "display(df.tail())"
   ]
  },
  {
   "cell_type": "code",
   "execution_count": 6,
   "metadata": {
    "execution": {
     "iopub.execute_input": "2021-12-01T03:49:32.216190Z",
     "iopub.status.busy": "2021-12-01T03:49:32.215663Z",
     "iopub.status.idle": "2021-12-01T03:49:32.221263Z",
     "shell.execute_reply": "2021-12-01T03:49:32.219813Z",
     "shell.execute_reply.started": "2021-12-01T03:49:32.216155Z"
    },
    "tags": [],
    "pycharm": {
     "name": "#%%\n"
    }
   },
   "outputs": [],
   "source": [
    "#df_test = df\n",
    "\n",
    "#splitted = df_test['name'].str.split()\n",
    "#df_test['first_name'] = splitted.str[0]\n",
    "#df_test['last_name'] = splitted.str[-1]\n",
    "#df_test['Middle_Name'] = df_test['name'].loc[df_test['name'].str.split().str.len() == 3].str.split(expand=True)[1]\n",
    "\n",
    "#display(df_test)"
   ]
  },
  {
   "cell_type": "code",
   "execution_count": null,
   "metadata": {
    "collapsed": false,
    "jupyter": {
     "outputs_hidden": false
    },
    "pycharm": {
     "name": "#%%\n"
    },
    "tags": []
   },
   "outputs": [],
   "source": []
  },
  {
   "cell_type": "code",
   "execution_count": 7,
   "metadata": {
    "execution": {
     "iopub.execute_input": "2021-12-01T03:49:32.224062Z",
     "iopub.status.busy": "2021-12-01T03:49:32.223285Z",
     "iopub.status.idle": "2021-12-01T03:49:40.495908Z",
     "shell.execute_reply": "2021-12-01T03:49:40.495251Z",
     "shell.execute_reply.started": "2021-12-01T03:49:32.224016Z"
    },
    "tags": [],
    "pycharm": {
     "name": "#%%\n"
    }
   },
   "outputs": [
    {
     "data": {
      "text/html": [
       "<div>\n",
       "<style scoped>\n",
       "    .dataframe tbody tr th:only-of-type {\n",
       "        vertical-align: middle;\n",
       "    }\n",
       "\n",
       "    .dataframe tbody tr th {\n",
       "        vertical-align: top;\n",
       "    }\n",
       "\n",
       "    .dataframe thead th {\n",
       "        text-align: right;\n",
       "    }\n",
       "</style>\n",
       "<table border=\"1\" class=\"dataframe\">\n",
       "  <thead>\n",
       "    <tr style=\"text-align: right;\">\n",
       "      <th></th>\n",
       "      <th>id</th>\n",
       "      <th>user_id</th>\n",
       "      <th>profile_key</th>\n",
       "      <th>profile_value</th>\n",
       "      <th>ordering</th>\n",
       "      <th>access</th>\n",
       "    </tr>\n",
       "  </thead>\n",
       "  <tbody>\n",
       "    <tr>\n",
       "      <th>0</th>\n",
       "      <td>1</td>\n",
       "      <td>15623</td>\n",
       "      <td>orgtype</td>\n",
       "      <td>university</td>\n",
       "      <td>2</td>\n",
       "      <td>5</td>\n",
       "    </tr>\n",
       "    <tr>\n",
       "      <th>1</th>\n",
       "      <td>2</td>\n",
       "      <td>10060</td>\n",
       "      <td>orgtype</td>\n",
       "      <td>university</td>\n",
       "      <td>2</td>\n",
       "      <td>5</td>\n",
       "    </tr>\n",
       "    <tr>\n",
       "      <th>2</th>\n",
       "      <td>3</td>\n",
       "      <td>24268</td>\n",
       "      <td>orgtype</td>\n",
       "      <td>industry</td>\n",
       "      <td>2</td>\n",
       "      <td>5</td>\n",
       "    </tr>\n",
       "    <tr>\n",
       "      <th>3</th>\n",
       "      <td>4</td>\n",
       "      <td>17838</td>\n",
       "      <td>orgtype</td>\n",
       "      <td>university</td>\n",
       "      <td>2</td>\n",
       "      <td>5</td>\n",
       "    </tr>\n",
       "    <tr>\n",
       "      <th>4</th>\n",
       "      <td>5</td>\n",
       "      <td>13197</td>\n",
       "      <td>orgtype</td>\n",
       "      <td>universityfaculty</td>\n",
       "      <td>2</td>\n",
       "      <td>5</td>\n",
       "    </tr>\n",
       "  </tbody>\n",
       "</table>\n",
       "</div>"
      ],
      "text/plain": [
       "   id  user_id profile_key      profile_value  ordering  access\n",
       "0   1    15623     orgtype         university         2       5\n",
       "1   2    10060     orgtype         university         2       5\n",
       "2   3    24268     orgtype           industry         2       5\n",
       "3   4    17838     orgtype         university         2       5\n",
       "4   5    13197     orgtype  universityfaculty         2       5"
      ]
     },
     "metadata": {},
     "output_type": "display_data"
    },
    {
     "data": {
      "text/html": [
       "<div>\n",
       "<style scoped>\n",
       "    .dataframe tbody tr th:only-of-type {\n",
       "        vertical-align: middle;\n",
       "    }\n",
       "\n",
       "    .dataframe tbody tr th {\n",
       "        vertical-align: top;\n",
       "    }\n",
       "\n",
       "    .dataframe thead th {\n",
       "        text-align: right;\n",
       "    }\n",
       "</style>\n",
       "<table border=\"1\" class=\"dataframe\">\n",
       "  <thead>\n",
       "    <tr style=\"text-align: right;\">\n",
       "      <th></th>\n",
       "      <th>id</th>\n",
       "      <th>user_id</th>\n",
       "      <th>profile_key</th>\n",
       "      <th>profile_value</th>\n",
       "      <th>ordering</th>\n",
       "      <th>access</th>\n",
       "    </tr>\n",
       "  </thead>\n",
       "  <tbody>\n",
       "    <tr>\n",
       "      <th>252647</th>\n",
       "      <td>2234374</td>\n",
       "      <td>347747</td>\n",
       "      <td>orgtype</td>\n",
       "      <td>universitygraduate</td>\n",
       "      <td>2</td>\n",
       "      <td>5</td>\n",
       "    </tr>\n",
       "    <tr>\n",
       "      <th>252648</th>\n",
       "      <td>2234383</td>\n",
       "      <td>347750</td>\n",
       "      <td>organization</td>\n",
       "      <td>Renata Limited</td>\n",
       "      <td>1</td>\n",
       "      <td>5</td>\n",
       "    </tr>\n",
       "    <tr>\n",
       "      <th>252649</th>\n",
       "      <td>2234384</td>\n",
       "      <td>347750</td>\n",
       "      <td>orgtype</td>\n",
       "      <td>industry</td>\n",
       "      <td>2</td>\n",
       "      <td>5</td>\n",
       "    </tr>\n",
       "    <tr>\n",
       "      <th>252650</th>\n",
       "      <td>2234391</td>\n",
       "      <td>347752</td>\n",
       "      <td>organization</td>\n",
       "      <td>Massachusetts Institute of Technology (MIT)</td>\n",
       "      <td>1</td>\n",
       "      <td>5</td>\n",
       "    </tr>\n",
       "    <tr>\n",
       "      <th>252651</th>\n",
       "      <td>2234392</td>\n",
       "      <td>347752</td>\n",
       "      <td>orgtype</td>\n",
       "      <td>universitygraduate</td>\n",
       "      <td>2</td>\n",
       "      <td>5</td>\n",
       "    </tr>\n",
       "  </tbody>\n",
       "</table>\n",
       "</div>"
      ],
      "text/plain": [
       "             id  user_id   profile_key  \\\n",
       "252647  2234374   347747       orgtype   \n",
       "252648  2234383   347750  organization   \n",
       "252649  2234384   347750       orgtype   \n",
       "252650  2234391   347752  organization   \n",
       "252651  2234392   347752       orgtype   \n",
       "\n",
       "                                      profile_value  ordering  access  \n",
       "252647                           universitygraduate         2       5  \n",
       "252648                               Renata Limited         1       5  \n",
       "252649                                     industry         2       5  \n",
       "252650  Massachusetts Institute of Technology (MIT)         1       5  \n",
       "252651                           universitygraduate         2       5  "
      ]
     },
     "metadata": {},
     "output_type": "display_data"
    }
   ],
   "source": [
    "# get user profile details\n",
    "profile_df = pd.read_sql_query(\"select * from jos_user_profiles where profile_key in ('orgtype', 'organization', 'orcid')\", nanohub_db)\n",
    "\n",
    "\n",
    "display(profile_df.head())\n",
    "display(profile_df.tail())"
   ]
  },
  {
   "cell_type": "code",
   "execution_count": null,
   "metadata": {
    "collapsed": false,
    "jupyter": {
     "outputs_hidden": false
    },
    "pycharm": {
     "name": "#%%\n"
    },
    "tags": []
   },
   "outputs": [],
   "source": []
  },
  {
   "cell_type": "code",
   "execution_count": 8,
   "metadata": {
    "collapsed": false,
    "execution": {
     "iopub.execute_input": "2021-12-01T03:49:40.497608Z",
     "iopub.status.busy": "2021-12-01T03:49:40.497199Z",
     "iopub.status.idle": "2021-12-01T03:49:43.684467Z",
     "shell.execute_reply": "2021-12-01T03:49:43.683854Z",
     "shell.execute_reply.started": "2021-12-01T03:49:40.497576Z"
    },
    "jupyter": {
     "outputs_hidden": false
    },
    "pycharm": {
     "name": "#%%\n"
    },
    "tags": []
   },
   "outputs": [
    {
     "data": {
      "text/html": [
       "<div>\n",
       "<style scoped>\n",
       "    .dataframe tbody tr th:only-of-type {\n",
       "        vertical-align: middle;\n",
       "    }\n",
       "\n",
       "    .dataframe tbody tr th {\n",
       "        vertical-align: top;\n",
       "    }\n",
       "\n",
       "    .dataframe thead th {\n",
       "        text-align: right;\n",
       "    }\n",
       "</style>\n",
       "<table border=\"1\" class=\"dataframe\">\n",
       "  <thead>\n",
       "    <tr style=\"text-align: right;\">\n",
       "      <th></th>\n",
       "      <th>id</th>\n",
       "      <th>name</th>\n",
       "      <th>username</th>\n",
       "      <th>block</th>\n",
       "      <th>email</th>\n",
       "      <th>sendEmail</th>\n",
       "      <th>registerDate</th>\n",
       "      <th>lastvisitDate</th>\n",
       "      <th>orgtype</th>\n",
       "      <th>organization</th>\n",
       "      <th>orcid</th>\n",
       "    </tr>\n",
       "  </thead>\n",
       "  <tbody>\n",
       "    <tr>\n",
       "      <th>0</th>\n",
       "      <td>998</td>\n",
       "      <td>hubrepo hubrepo</td>\n",
       "      <td>hubrepo</td>\n",
       "      <td>0</td>\n",
       "      <td>nkissebe@gmail.com</td>\n",
       "      <td>0</td>\n",
       "      <td>2014-11-13 21:09:09</td>\n",
       "      <td>NaT</td>\n",
       "      <td>NaN</td>\n",
       "      <td>NaN</td>\n",
       "      <td>NaN</td>\n",
       "    </tr>\n",
       "    <tr>\n",
       "      <th>1</th>\n",
       "      <td>1683</td>\n",
       "      <td>nanoHUB support</td>\n",
       "      <td>support</td>\n",
       "      <td>0</td>\n",
       "      <td>support@nanohub.org</td>\n",
       "      <td>0</td>\n",
       "      <td>2008-11-19 22:51:04</td>\n",
       "      <td>2008-11-19 23:55:30</td>\n",
       "      <td>university</td>\n",
       "      <td>Purdue University</td>\n",
       "      <td>NaN</td>\n",
       "    </tr>\n",
       "    <tr>\n",
       "      <th>2</th>\n",
       "      <td>1684</td>\n",
       "      <td>Grid Statistics</td>\n",
       "      <td>gridstat</td>\n",
       "      <td>0</td>\n",
       "      <td>gridstat@nanohub.org</td>\n",
       "      <td>0</td>\n",
       "      <td>2008-11-18 17:29:56</td>\n",
       "      <td>2020-02-14 18:50:14</td>\n",
       "      <td>universitystaff</td>\n",
       "      <td>Purdue University</td>\n",
       "      <td>NaN</td>\n",
       "    </tr>\n",
       "    <tr>\n",
       "      <th>3</th>\n",
       "      <td>1685</td>\n",
       "      <td>NCN NCN</td>\n",
       "      <td>ncn</td>\n",
       "      <td>0</td>\n",
       "      <td>ncn@nanohub.org</td>\n",
       "      <td>0</td>\n",
       "      <td>2008-11-11 19:17:04</td>\n",
       "      <td>NaT</td>\n",
       "      <td>NaN</td>\n",
       "      <td>Purdue University</td>\n",
       "      <td>NaN</td>\n",
       "    </tr>\n",
       "    <tr>\n",
       "      <th>4</th>\n",
       "      <td>1686</td>\n",
       "      <td>nanoHUB nanoHUB</td>\n",
       "      <td>nanohub</td>\n",
       "      <td>0</td>\n",
       "      <td>apps@nanohub.org</td>\n",
       "      <td>0</td>\n",
       "      <td>2014-06-26 19:38:57</td>\n",
       "      <td>NaT</td>\n",
       "      <td>NaN</td>\n",
       "      <td>Purdue University</td>\n",
       "      <td>NaN</td>\n",
       "    </tr>\n",
       "  </tbody>\n",
       "</table>\n",
       "</div>"
      ],
      "text/plain": [
       "     id             name  username  block                 email  sendEmail  \\\n",
       "0   998  hubrepo hubrepo   hubrepo      0    nkissebe@gmail.com          0   \n",
       "1  1683  nanoHUB support   support      0   support@nanohub.org          0   \n",
       "2  1684  Grid Statistics  gridstat      0  gridstat@nanohub.org          0   \n",
       "3  1685          NCN NCN       ncn      0       ncn@nanohub.org          0   \n",
       "4  1686  nanoHUB nanoHUB   nanohub      0      apps@nanohub.org          0   \n",
       "\n",
       "         registerDate       lastvisitDate          orgtype       organization  \\\n",
       "0 2014-11-13 21:09:09                 NaT              NaN                NaN   \n",
       "1 2008-11-19 22:51:04 2008-11-19 23:55:30       university  Purdue University   \n",
       "2 2008-11-18 17:29:56 2020-02-14 18:50:14  universitystaff  Purdue University   \n",
       "3 2008-11-11 19:17:04                 NaT              NaN  Purdue University   \n",
       "4 2014-06-26 19:38:57                 NaT              NaN  Purdue University   \n",
       "\n",
       "  orcid  \n",
       "0   NaN  \n",
       "1   NaN  \n",
       "2   NaN  \n",
       "3   NaN  \n",
       "4   NaN  "
      ]
     },
     "metadata": {},
     "output_type": "display_data"
    },
    {
     "data": {
      "text/html": [
       "<div>\n",
       "<style scoped>\n",
       "    .dataframe tbody tr th:only-of-type {\n",
       "        vertical-align: middle;\n",
       "    }\n",
       "\n",
       "    .dataframe tbody tr th {\n",
       "        vertical-align: top;\n",
       "    }\n",
       "\n",
       "    .dataframe thead th {\n",
       "        text-align: right;\n",
       "    }\n",
       "</style>\n",
       "<table border=\"1\" class=\"dataframe\">\n",
       "  <thead>\n",
       "    <tr style=\"text-align: right;\">\n",
       "      <th></th>\n",
       "      <th>id</th>\n",
       "      <th>name</th>\n",
       "      <th>username</th>\n",
       "      <th>block</th>\n",
       "      <th>email</th>\n",
       "      <th>sendEmail</th>\n",
       "      <th>registerDate</th>\n",
       "      <th>lastvisitDate</th>\n",
       "      <th>orgtype</th>\n",
       "      <th>organization</th>\n",
       "      <th>orcid</th>\n",
       "    </tr>\n",
       "  </thead>\n",
       "  <tbody>\n",
       "    <tr>\n",
       "      <th>1994763</th>\n",
       "      <td>347747</td>\n",
       "      <td>Folk Narongrit</td>\n",
       "      <td>folknarongrit</td>\n",
       "      <td>0</td>\n",
       "      <td>wnarongr@purdue.edu</td>\n",
       "      <td>0</td>\n",
       "      <td>2021-12-01 01:27:05</td>\n",
       "      <td>2021-12-01 01:27:05</td>\n",
       "      <td>universitygraduate</td>\n",
       "      <td>Purdue University</td>\n",
       "      <td>NaN</td>\n",
       "    </tr>\n",
       "    <tr>\n",
       "      <th>1994764</th>\n",
       "      <td>347750</td>\n",
       "      <td>Nimul Islam</td>\n",
       "      <td>nimul.me</td>\n",
       "      <td>0</td>\n",
       "      <td>nimul.me@gmail.com</td>\n",
       "      <td>0</td>\n",
       "      <td>2021-12-01 03:17:30</td>\n",
       "      <td>2021-12-01 03:17:31</td>\n",
       "      <td>industry</td>\n",
       "      <td>Renata Limited</td>\n",
       "      <td>NaN</td>\n",
       "    </tr>\n",
       "    <tr>\n",
       "      <th>1994765</th>\n",
       "      <td>347751</td>\n",
       "      <td>Kang Jinfeng</td>\n",
       "      <td>-186750</td>\n",
       "      <td>0</td>\n",
       "      <td>-186750@invalid</td>\n",
       "      <td>-1</td>\n",
       "      <td>2021-12-01 03:41:07</td>\n",
       "      <td>2021-12-01 03:41:07</td>\n",
       "      <td>NaN</td>\n",
       "      <td>NaN</td>\n",
       "      <td>NaN</td>\n",
       "    </tr>\n",
       "    <tr>\n",
       "      <th>1994766</th>\n",
       "      <td>347752</td>\n",
       "      <td>Jack Robert Van Sambeek</td>\n",
       "      <td>jsambeek</td>\n",
       "      <td>0</td>\n",
       "      <td>jsambeek@mit.edu</td>\n",
       "      <td>0</td>\n",
       "      <td>2021-12-01 03:45:42</td>\n",
       "      <td>2021-12-01 03:45:43</td>\n",
       "      <td>universitygraduate</td>\n",
       "      <td>Massachusetts Institute of Technology (MIT)</td>\n",
       "      <td>NaN</td>\n",
       "    </tr>\n",
       "    <tr>\n",
       "      <th>1994767</th>\n",
       "      <td>347753</td>\n",
       "      <td>‍손세준(학부학생/공과대학 신소재공학)</td>\n",
       "      <td>-186752</td>\n",
       "      <td>0</td>\n",
       "      <td>-186752@invalid</td>\n",
       "      <td>-1</td>\n",
       "      <td>2021-12-01 03:45:47</td>\n",
       "      <td>2021-12-01 03:45:48</td>\n",
       "      <td>NaN</td>\n",
       "      <td>NaN</td>\n",
       "      <td>NaN</td>\n",
       "    </tr>\n",
       "  </tbody>\n",
       "</table>\n",
       "</div>"
      ],
      "text/plain": [
       "             id                     name       username  block  \\\n",
       "1994763  347747           Folk Narongrit  folknarongrit      0   \n",
       "1994764  347750              Nimul Islam       nimul.me      0   \n",
       "1994765  347751             Kang Jinfeng        -186750      0   \n",
       "1994766  347752  Jack Robert Van Sambeek       jsambeek      0   \n",
       "1994767  347753    ‍손세준(학부학생/공과대학 신소재공학)        -186752      0   \n",
       "\n",
       "                       email  sendEmail        registerDate  \\\n",
       "1994763  wnarongr@purdue.edu          0 2021-12-01 01:27:05   \n",
       "1994764   nimul.me@gmail.com          0 2021-12-01 03:17:30   \n",
       "1994765      -186750@invalid         -1 2021-12-01 03:41:07   \n",
       "1994766     jsambeek@mit.edu          0 2021-12-01 03:45:42   \n",
       "1994767      -186752@invalid         -1 2021-12-01 03:45:47   \n",
       "\n",
       "              lastvisitDate             orgtype  \\\n",
       "1994763 2021-12-01 01:27:05  universitygraduate   \n",
       "1994764 2021-12-01 03:17:31            industry   \n",
       "1994765 2021-12-01 03:41:07                 NaN   \n",
       "1994766 2021-12-01 03:45:43  universitygraduate   \n",
       "1994767 2021-12-01 03:45:48                 NaN   \n",
       "\n",
       "                                        organization orcid  \n",
       "1994763                            Purdue University   NaN  \n",
       "1994764                               Renata Limited   NaN  \n",
       "1994765                                          NaN   NaN  \n",
       "1994766  Massachusetts Institute of Technology (MIT)   NaN  \n",
       "1994767                                          NaN   NaN  "
      ]
     },
     "metadata": {},
     "output_type": "display_data"
    }
   ],
   "source": [
    "df = pd.merge(df, profile_df[profile_df['profile_key'] == 'orgtype'][['user_id', 'profile_value']],how='left', left_on='id', right_on='user_id').drop(columns=['user_id']).rename(columns={'profile_value':'orgtype'})\n",
    "\n",
    "df = pd.merge(df, profile_df[profile_df['profile_key'] == 'organization'][['user_id', 'profile_value']],how='left', left_on='id', right_on='user_id').drop(columns=['user_id']).rename(columns={'profile_value':'organization'})\n",
    "\n",
    "df = pd.merge(df, profile_df[profile_df['profile_key'] == 'orcid'][['user_id', 'profile_value']],how='left', left_on='id', right_on='user_id').drop(columns=['user_id']).rename(columns={'profile_value':'orcid'})\n",
    "\n",
    "# display\n",
    "display(df.head())\n",
    "display(df.tail())"
   ]
  },
  {
   "cell_type": "code",
   "execution_count": 9,
   "metadata": {
    "collapsed": false,
    "execution": {
     "iopub.execute_input": "2021-12-01T03:49:43.686682Z",
     "iopub.status.busy": "2021-12-01T03:49:43.686080Z",
     "iopub.status.idle": "2021-12-01T03:53:54.267056Z",
     "shell.execute_reply": "2021-12-01T03:53:54.264751Z",
     "shell.execute_reply.started": "2021-12-01T03:49:43.686645Z"
    },
    "jupyter": {
     "outputs_hidden": false
    },
    "pycharm": {
     "name": "#%%\n"
    },
    "tags": []
   },
   "outputs": [
    {
     "data": {
      "text/html": [
       "<div>\n",
       "<style scoped>\n",
       "    .dataframe tbody tr th:only-of-type {\n",
       "        vertical-align: middle;\n",
       "    }\n",
       "\n",
       "    .dataframe tbody tr th {\n",
       "        vertical-align: top;\n",
       "    }\n",
       "\n",
       "    .dataframe thead th {\n",
       "        text-align: right;\n",
       "    }\n",
       "</style>\n",
       "<table border=\"1\" class=\"dataframe\">\n",
       "  <thead>\n",
       "    <tr style=\"text-align: right;\">\n",
       "      <th></th>\n",
       "      <th>domain_name</th>\n",
       "      <th>domain</th>\n",
       "      <th>industry</th>\n",
       "      <th>size</th>\n",
       "      <th>country</th>\n",
       "    </tr>\n",
       "  </thead>\n",
       "  <tbody>\n",
       "    <tr>\n",
       "      <th>0</th>\n",
       "      <td>strategic interns</td>\n",
       "      <td>strategicinterns.com</td>\n",
       "      <td>education management</td>\n",
       "      <td>1-10</td>\n",
       "      <td>india</td>\n",
       "    </tr>\n",
       "    <tr>\n",
       "      <th>1</th>\n",
       "      <td>bosque y comunidad</td>\n",
       "      <td>bosqueycomunidad.org</td>\n",
       "      <td>non-profit organization management</td>\n",
       "      <td>1-10</td>\n",
       "      <td>spain</td>\n",
       "    </tr>\n",
       "    <tr>\n",
       "      <th>2</th>\n",
       "      <td>alaric as</td>\n",
       "      <td>alaric.no</td>\n",
       "      <td>management consulting</td>\n",
       "      <td>1-10</td>\n",
       "      <td>None</td>\n",
       "    </tr>\n",
       "    <tr>\n",
       "      <th>3</th>\n",
       "      <td>tws technology inc.</td>\n",
       "      <td>talkwithsam.co</td>\n",
       "      <td>computer software</td>\n",
       "      <td>1-10</td>\n",
       "      <td>None</td>\n",
       "    </tr>\n",
       "    <tr>\n",
       "      <th>4</th>\n",
       "      <td>cardinal strategies, llc</td>\n",
       "      <td>cardinal-strategies.com</td>\n",
       "      <td>civil engineering</td>\n",
       "      <td>11-50</td>\n",
       "      <td>united states</td>\n",
       "    </tr>\n",
       "  </tbody>\n",
       "</table>\n",
       "</div>"
      ],
      "text/plain": [
       "                domain_name                   domain  \\\n",
       "0         strategic interns     strategicinterns.com   \n",
       "1        bosque y comunidad     bosqueycomunidad.org   \n",
       "2                 alaric as                alaric.no   \n",
       "3       tws technology inc.           talkwithsam.co   \n",
       "4  cardinal strategies, llc  cardinal-strategies.com   \n",
       "\n",
       "                             industry   size        country  \n",
       "0                education management   1-10          india  \n",
       "1  non-profit organization management   1-10          spain  \n",
       "2               management consulting   1-10           None  \n",
       "3                   computer software   1-10           None  \n",
       "4                   civil engineering  11-50  united states  "
      ]
     },
     "metadata": {},
     "output_type": "display_data"
    }
   ],
   "source": [
    "# Obtain company domain information from DB2\n",
    "domain_df = pd.read_sql_query(\"select name as domain_name, domain, industry, `size range` as size, country from wang159_myrmekes.companies_email_domain\", nanohub_db)\n",
    "\n",
    "display(domain_df.head())"
   ]
  },
  {
   "cell_type": "code",
   "execution_count": 10,
   "metadata": {
    "collapsed": false,
    "execution": {
     "iopub.execute_input": "2021-12-01T03:53:54.276195Z",
     "iopub.status.busy": "2021-12-01T03:53:54.272723Z",
     "iopub.status.idle": "2021-12-01T03:54:09.391609Z",
     "shell.execute_reply": "2021-12-01T03:54:09.390402Z",
     "shell.execute_reply.started": "2021-12-01T03:53:54.276069Z"
    },
    "jupyter": {
     "outputs_hidden": false
    },
    "pycharm": {
     "name": "#%%\n"
    },
    "tags": []
   },
   "outputs": [],
   "source": [
    "# make sure domain is unique and drop NaN\n",
    "domain_df = domain_df.drop_duplicates(subset='domain', keep='first').dropna()"
   ]
  },
  {
   "cell_type": "code",
   "execution_count": 11,
   "metadata": {
    "collapsed": false,
    "execution": {
     "iopub.execute_input": "2021-12-01T03:54:09.401247Z",
     "iopub.status.busy": "2021-12-01T03:54:09.397303Z",
     "iopub.status.idle": "2021-12-01T03:54:10.130709Z",
     "shell.execute_reply": "2021-12-01T03:54:10.129701Z",
     "shell.execute_reply.started": "2021-12-01T03:54:09.401177Z"
    },
    "jupyter": {
     "outputs_hidden": false
    },
    "pycharm": {
     "name": "#%%\n"
    },
    "tags": []
   },
   "outputs": [],
   "source": [
    "# get email domain of nanoHUB users\n",
    "def get_domain(this_email):\n",
    "    seg_list = this_email.split('@')\n",
    "\n",
    "    if len(seg_list) == 2:\n",
    "        return seg_list[1].lower()\n",
    "    else:\n",
    "        return None\n",
    "\n",
    "df['email_host'] = df['email'].apply(get_domain)"
   ]
  },
  {
   "cell_type": "raw",
   "metadata": {
    "pycharm": {
     "name": "#%% raw\n"
    }
   },
   "source": [
    "df = pd.merge(df, domain_df[domain_df.domain.isin(df['email_domain'].unique()) & ~domain_df.domain.isna()], how='left', left_on='email_domain', right_on='domain')\n",
    "\n",
    "# display\n",
    "display(df.head(2))"
   ]
  },
  {
   "cell_type": "code",
   "execution_count": 12,
   "metadata": {
    "execution": {
     "iopub.execute_input": "2021-12-01T03:54:10.137714Z",
     "iopub.status.busy": "2021-12-01T03:54:10.137450Z",
     "iopub.status.idle": "2021-12-01T03:54:10.798777Z",
     "shell.execute_reply": "2021-12-01T03:54:10.797865Z",
     "shell.execute_reply.started": "2021-12-01T03:54:10.137674Z"
    },
    "pycharm": {
     "name": "#%%\n"
    },
    "tags": []
   },
   "outputs": [],
   "source": [
    "# get domain by nanoHUB organization field\n",
    "df['organization'] = df.organization.astype('str').apply(str.lower)\n",
    "\n",
    "df.loc[(df['organization']=='nan'),'organization'] = None"
   ]
  },
  {
   "cell_type": "code",
   "execution_count": 13,
   "metadata": {
    "collapsed": false,
    "execution": {
     "iopub.execute_input": "2021-12-01T03:54:10.806509Z",
     "iopub.status.busy": "2021-12-01T03:54:10.805723Z",
     "iopub.status.idle": "2021-12-01T03:54:12.721645Z",
     "shell.execute_reply": "2021-12-01T03:54:12.719173Z",
     "shell.execute_reply.started": "2021-12-01T03:54:10.806468Z"
    },
    "jupyter": {
     "outputs_hidden": false
    },
    "pycharm": {
     "name": "#%%\n"
    },
    "tags": []
   },
   "outputs": [
    {
     "name": "stderr",
     "output_type": "stream",
     "text": [
      "[nltk_data] Downloading package stopwords to\n",
      "[nltk_data]     /home/saxenap/venv/nltk_data...\n",
      "[nltk_data]   Package stopwords is already up-to-date!\n"
     ]
    }
   ],
   "source": [
    "import nltk\n",
    "nltk.download('stopwords')\n",
    "\n",
    "from nltk.corpus import stopwords\n",
    "s_words = stopwords.words('english')"
   ]
  },
  {
   "cell_type": "code",
   "execution_count": 14,
   "metadata": {
    "collapsed": false,
    "execution": {
     "iopub.execute_input": "2021-12-01T03:54:12.732456Z",
     "iopub.status.busy": "2021-12-01T03:54:12.730333Z",
     "iopub.status.idle": "2021-12-01T03:54:12.752425Z",
     "shell.execute_reply": "2021-12-01T03:54:12.750019Z",
     "shell.execute_reply.started": "2021-12-01T03:54:12.732319Z"
    },
    "jupyter": {
     "outputs_hidden": false
    },
    "pycharm": {
     "name": "#%%\n"
    },
    "tags": []
   },
   "outputs": [],
   "source": [
    "import re\n",
    "\n",
    "def clean_domain(this_domain_name):\n",
    "\n",
    "    if not this_domain_name:\n",
    "        return None\n",
    "\n",
    "    # Replace all non-alphanumeric characters with space\n",
    "    this_domain_name = re.sub(\"[^0-9a-zA-Z]+\", \" \", this_domain_name.lower())\n",
    "    name_list = this_domain_name.split(' ')\n",
    "\n",
    "    # remove all stop words\n",
    "    name_list = ['' if x in s_words else x for x in name_list]\n",
    "\n",
    "    return set(filter(None, name_list))"
   ]
  },
  {
   "cell_type": "code",
   "execution_count": 15,
   "metadata": {
    "collapsed": false,
    "execution": {
     "iopub.execute_input": "2021-12-01T03:54:12.760599Z",
     "iopub.status.busy": "2021-12-01T03:54:12.760105Z",
     "iopub.status.idle": "2021-12-01T03:55:20.475042Z",
     "shell.execute_reply": "2021-12-01T03:55:20.474365Z",
     "shell.execute_reply.started": "2021-12-01T03:54:12.760565Z"
    },
    "jupyter": {
     "outputs_hidden": false
    },
    "pycharm": {
     "name": "#%%\n"
    },
    "tags": []
   },
   "outputs": [],
   "source": [
    "# clean domain name\n",
    "domain_df['domain_cleaned_set'] = domain_df.domain_name.apply(clean_domain)\n",
    "\n",
    "# clean nanohub org name\n",
    "df['org_cleaned_set'] = df.organization.apply(clean_domain)"
   ]
  },
  {
   "cell_type": "code",
   "execution_count": 16,
   "metadata": {
    "collapsed": false,
    "execution": {
     "iopub.execute_input": "2021-12-01T03:55:20.493934Z",
     "iopub.status.busy": "2021-12-01T03:55:20.488029Z",
     "iopub.status.idle": "2021-12-01T03:55:25.135112Z",
     "shell.execute_reply": "2021-12-01T03:55:25.134444Z",
     "shell.execute_reply.started": "2021-12-01T03:55:20.493817Z"
    },
    "jupyter": {
     "outputs_hidden": false
    },
    "pycharm": {
     "name": "#%%\n"
    },
    "tags": []
   },
   "outputs": [],
   "source": [
    "# hash cleaned domain name\n",
    "domain_df['domain_cleaned_hash'] = domain_df['domain_cleaned_set'].apply(lambda x: '-'.join(sorted(list(x))) if x else None)\n",
    "\n",
    "# hash cleaned clean nanohub org name\n",
    "df['org_cleaned_hash'] = df['org_cleaned_set'].apply(lambda x: '-'.join(sorted(list(x))) if x else None)"
   ]
  },
  {
   "cell_type": "markdown",
   "metadata": {
    "pycharm": {
     "name": "#%% md\n"
    }
   },
   "source": [
    "## Collaborative filtering for commerical email hosts"
   ]
  },
  {
   "cell_type": "code",
   "execution_count": 17,
   "metadata": {
    "collapsed": false,
    "execution": {
     "iopub.execute_input": "2021-12-01T03:55:25.136949Z",
     "iopub.status.busy": "2021-12-01T03:55:25.136372Z",
     "iopub.status.idle": "2021-12-01T03:55:34.119906Z",
     "shell.execute_reply": "2021-12-01T03:55:34.116408Z",
     "shell.execute_reply.started": "2021-12-01T03:55:25.136898Z"
    },
    "jupyter": {
     "outputs_hidden": false
    },
    "pycharm": {
     "name": "#%%\n"
    },
    "tags": []
   },
   "outputs": [],
   "source": [
    "def predict_if_commerical(this_email_host_df):\n",
    "    # predict if this email host is commerical\n",
    "    top_cnt = this_email_host_df['org_cleaned_hash'].value_counts()\n",
    "\n",
    "    if top_cnt.shape[0] > 0:\n",
    "        if (top_cnt.iloc[0]/top_cnt.sum()) < 0.2:\n",
    "            return True\n",
    "        else:\n",
    "            return False\n",
    "\n",
    "    else:\n",
    "        return False\n",
    "\n",
    "is_email_commerical = df[['email_host', 'org_cleaned_hash']].groupby('email_host').apply(predict_if_commerical)"
   ]
  },
  {
   "cell_type": "code",
   "execution_count": 18,
   "metadata": {
    "collapsed": false,
    "execution": {
     "iopub.execute_input": "2021-12-01T03:55:34.128992Z",
     "iopub.status.busy": "2021-12-01T03:55:34.128348Z",
     "iopub.status.idle": "2021-12-01T03:55:36.619879Z",
     "shell.execute_reply": "2021-12-01T03:55:36.618429Z",
     "shell.execute_reply.started": "2021-12-01T03:55:34.128927Z"
    },
    "jupyter": {
     "outputs_hidden": false
    },
    "pycharm": {
     "name": "#%%\n"
    },
    "tags": []
   },
   "outputs": [],
   "source": [
    "# mark commerical email addresses\n",
    "df = pd.merge(df, is_email_commerical.reset_index(name='is_email_commerical'), how='left', left_on='email_host', right_on='email_host' ,)"
   ]
  },
  {
   "cell_type": "code",
   "execution_count": 19,
   "metadata": {
    "collapsed": false,
    "execution": {
     "iopub.execute_input": "2021-12-01T03:55:36.625768Z",
     "iopub.status.busy": "2021-12-01T03:55:36.625497Z",
     "iopub.status.idle": "2021-12-01T03:55:49.166114Z",
     "shell.execute_reply": "2021-12-01T03:55:49.165384Z",
     "shell.execute_reply.started": "2021-12-01T03:55:36.625736Z"
    },
    "jupyter": {
     "outputs_hidden": false
    },
    "pycharm": {
     "name": "#%%\n"
    },
    "tags": []
   },
   "outputs": [
    {
     "data": {
      "text/html": [
       "<div>\n",
       "<style scoped>\n",
       "    .dataframe tbody tr th:only-of-type {\n",
       "        vertical-align: middle;\n",
       "    }\n",
       "\n",
       "    .dataframe tbody tr th {\n",
       "        vertical-align: top;\n",
       "    }\n",
       "\n",
       "    .dataframe thead th {\n",
       "        text-align: right;\n",
       "    }\n",
       "</style>\n",
       "<table border=\"1\" class=\"dataframe\">\n",
       "  <thead>\n",
       "    <tr style=\"text-align: right;\">\n",
       "      <th></th>\n",
       "      <th>0</th>\n",
       "      <th>1</th>\n",
       "    </tr>\n",
       "  </thead>\n",
       "  <tbody>\n",
       "    <tr>\n",
       "      <th>id</th>\n",
       "      <td>998</td>\n",
       "      <td>1683</td>\n",
       "    </tr>\n",
       "    <tr>\n",
       "      <th>name</th>\n",
       "      <td>hubrepo hubrepo</td>\n",
       "      <td>nanoHUB support</td>\n",
       "    </tr>\n",
       "    <tr>\n",
       "      <th>username</th>\n",
       "      <td>hubrepo</td>\n",
       "      <td>support</td>\n",
       "    </tr>\n",
       "    <tr>\n",
       "      <th>block</th>\n",
       "      <td>0</td>\n",
       "      <td>0</td>\n",
       "    </tr>\n",
       "    <tr>\n",
       "      <th>email</th>\n",
       "      <td>nkissebe@gmail.com</td>\n",
       "      <td>support@nanohub.org</td>\n",
       "    </tr>\n",
       "    <tr>\n",
       "      <th>sendEmail</th>\n",
       "      <td>0</td>\n",
       "      <td>0</td>\n",
       "    </tr>\n",
       "    <tr>\n",
       "      <th>registerDate</th>\n",
       "      <td>2014-11-13 21:09:09</td>\n",
       "      <td>2008-11-19 22:51:04</td>\n",
       "    </tr>\n",
       "    <tr>\n",
       "      <th>lastvisitDate</th>\n",
       "      <td>NaT</td>\n",
       "      <td>2008-11-19 23:55:30</td>\n",
       "    </tr>\n",
       "    <tr>\n",
       "      <th>orgtype</th>\n",
       "      <td>NaN</td>\n",
       "      <td>university</td>\n",
       "    </tr>\n",
       "    <tr>\n",
       "      <th>organization</th>\n",
       "      <td>None</td>\n",
       "      <td>purdue university</td>\n",
       "    </tr>\n",
       "    <tr>\n",
       "      <th>orcid</th>\n",
       "      <td>NaN</td>\n",
       "      <td>NaN</td>\n",
       "    </tr>\n",
       "    <tr>\n",
       "      <th>email_host</th>\n",
       "      <td>gmail.com</td>\n",
       "      <td>nanohub.org</td>\n",
       "    </tr>\n",
       "    <tr>\n",
       "      <th>org_cleaned_set</th>\n",
       "      <td>None</td>\n",
       "      <td>{university, purdue}</td>\n",
       "    </tr>\n",
       "    <tr>\n",
       "      <th>org_cleaned_hash</th>\n",
       "      <td>None</td>\n",
       "      <td>purdue-university</td>\n",
       "    </tr>\n",
       "    <tr>\n",
       "      <th>is_email_commerical</th>\n",
       "      <td>False</td>\n",
       "      <td>False</td>\n",
       "    </tr>\n",
       "    <tr>\n",
       "      <th>domain_by_email</th>\n",
       "      <td>NaN</td>\n",
       "      <td>NaN</td>\n",
       "    </tr>\n",
       "  </tbody>\n",
       "</table>\n",
       "</div>"
      ],
      "text/plain": [
       "                                       0                     1\n",
       "id                                   998                  1683\n",
       "name                     hubrepo hubrepo       nanoHUB support\n",
       "username                         hubrepo               support\n",
       "block                                  0                     0\n",
       "email                 nkissebe@gmail.com   support@nanohub.org\n",
       "sendEmail                              0                     0\n",
       "registerDate         2014-11-13 21:09:09   2008-11-19 22:51:04\n",
       "lastvisitDate                        NaT   2008-11-19 23:55:30\n",
       "orgtype                              NaN            university\n",
       "organization                        None     purdue university\n",
       "orcid                                NaN                   NaN\n",
       "email_host                     gmail.com           nanohub.org\n",
       "org_cleaned_set                     None  {university, purdue}\n",
       "org_cleaned_hash                    None     purdue-university\n",
       "is_email_commerical                False                 False\n",
       "domain_by_email                      NaN                   NaN"
      ]
     },
     "metadata": {},
     "output_type": "display_data"
    }
   ],
   "source": [
    "# obtain domain estimation from email addresses\n",
    "df = pd.merge(df, domain_df[~domain_df.domain.isin(is_email_commerical[is_email_commerical].index)]['domain'], how='left', left_on='email_host', right_on='domain').rename(columns={'domain':'domain_by_email'})\n",
    "\n",
    "# display\n",
    "display(df.head(2).T)"
   ]
  },
  {
   "cell_type": "markdown",
   "metadata": {
    "pycharm": {
     "name": "#%% md\n"
    }
   },
   "source": [
    "## Fuzzy derive organization from nanoHUB profiles"
   ]
  },
  {
   "cell_type": "code",
   "execution_count": 20,
   "metadata": {
    "collapsed": false,
    "execution": {
     "iopub.execute_input": "2021-12-01T03:55:49.176260Z",
     "iopub.status.busy": "2021-12-01T03:55:49.173518Z",
     "iopub.status.idle": "2021-12-01T03:55:54.714733Z",
     "shell.execute_reply": "2021-12-01T03:55:54.712262Z",
     "shell.execute_reply.started": "2021-12-01T03:55:49.176036Z"
    },
    "jupyter": {
     "outputs_hidden": false
    },
    "pycharm": {
     "name": "#%%\n"
    },
    "tags": []
   },
   "outputs": [
    {
     "data": {
      "text/html": [
       "<div>\n",
       "<style scoped>\n",
       "    .dataframe tbody tr th:only-of-type {\n",
       "        vertical-align: middle;\n",
       "    }\n",
       "\n",
       "    .dataframe tbody tr th {\n",
       "        vertical-align: top;\n",
       "    }\n",
       "\n",
       "    .dataframe thead th {\n",
       "        text-align: right;\n",
       "    }\n",
       "</style>\n",
       "<table border=\"1\" class=\"dataframe\">\n",
       "  <thead>\n",
       "    <tr style=\"text-align: right;\">\n",
       "      <th></th>\n",
       "      <th>1413443</th>\n",
       "      <th>1796929</th>\n",
       "      <th>337217</th>\n",
       "      <th>491891</th>\n",
       "      <th>150123</th>\n",
       "    </tr>\n",
       "  </thead>\n",
       "  <tbody>\n",
       "    <tr>\n",
       "      <th>id</th>\n",
       "      <td>346844</td>\n",
       "      <td>346844</td>\n",
       "      <td>346844</td>\n",
       "      <td>346844</td>\n",
       "      <td>177057</td>\n",
       "    </tr>\n",
       "    <tr>\n",
       "      <th>name</th>\n",
       "      <td>joonsung lee</td>\n",
       "      <td>joonsung lee</td>\n",
       "      <td>joonsung lee</td>\n",
       "      <td>joonsung lee</td>\n",
       "      <td>Vaibhav Nagar</td>\n",
       "    </tr>\n",
       "    <tr>\n",
       "      <th>username</th>\n",
       "      <td>sgu20181551</td>\n",
       "      <td>sgu20181551</td>\n",
       "      <td>sgu20181551</td>\n",
       "      <td>sgu20181551</td>\n",
       "      <td>vaibhavnagar08</td>\n",
       "    </tr>\n",
       "    <tr>\n",
       "      <th>block</th>\n",
       "      <td>1</td>\n",
       "      <td>1</td>\n",
       "      <td>1</td>\n",
       "      <td>1</td>\n",
       "      <td>0</td>\n",
       "    </tr>\n",
       "    <tr>\n",
       "      <th>email</th>\n",
       "      <td>dytpq299@naver.com</td>\n",
       "      <td>dytpq299@naver.com</td>\n",
       "      <td>dytpq299@naver.com</td>\n",
       "      <td>dytpq299@naver.com</td>\n",
       "      <td>vaibhavnagar08@gmail.com</td>\n",
       "    </tr>\n",
       "    <tr>\n",
       "      <th>sendEmail</th>\n",
       "      <td>0</td>\n",
       "      <td>0</td>\n",
       "      <td>0</td>\n",
       "      <td>0</td>\n",
       "      <td>-1</td>\n",
       "    </tr>\n",
       "    <tr>\n",
       "      <th>registerDate</th>\n",
       "      <td>2021-11-23 12:18:58</td>\n",
       "      <td>2021-11-23 12:18:58</td>\n",
       "      <td>2021-11-23 12:18:58</td>\n",
       "      <td>2021-11-23 12:18:58</td>\n",
       "      <td>2017-08-23 09:07:50</td>\n",
       "    </tr>\n",
       "    <tr>\n",
       "      <th>lastvisitDate</th>\n",
       "      <td>2021-11-23 13:22:29</td>\n",
       "      <td>2021-11-23 13:22:29</td>\n",
       "      <td>2021-11-23 13:22:29</td>\n",
       "      <td>2021-11-23 13:22:29</td>\n",
       "      <td>2018-03-23 08:46:45</td>\n",
       "    </tr>\n",
       "    <tr>\n",
       "      <th>orgtype</th>\n",
       "      <td>universityundergraduate</td>\n",
       "      <td>universityundergraduate</td>\n",
       "      <td>universityundergraduate</td>\n",
       "      <td>universityundergraduate</td>\n",
       "      <td>universityundergraduate</td>\n",
       "    </tr>\n",
       "    <tr>\n",
       "      <th>organization</th>\n",
       "      <td>sogang university</td>\n",
       "      <td>sogang university</td>\n",
       "      <td>sogang univ</td>\n",
       "      <td>sogang university</td>\n",
       "      <td>None</td>\n",
       "    </tr>\n",
       "    <tr>\n",
       "      <th>orcid</th>\n",
       "      <td>NaN</td>\n",
       "      <td>NaN</td>\n",
       "      <td>NaN</td>\n",
       "      <td>NaN</td>\n",
       "      <td>NaN</td>\n",
       "    </tr>\n",
       "    <tr>\n",
       "      <th>email_host</th>\n",
       "      <td>naver.com</td>\n",
       "      <td>naver.com</td>\n",
       "      <td>naver.com</td>\n",
       "      <td>naver.com</td>\n",
       "      <td>gmail.com</td>\n",
       "    </tr>\n",
       "    <tr>\n",
       "      <th>org_cleaned_set</th>\n",
       "      <td>{sogang, university}</td>\n",
       "      <td>{sogang, university}</td>\n",
       "      <td>{sogang, univ}</td>\n",
       "      <td>{sogang, university}</td>\n",
       "      <td>None</td>\n",
       "    </tr>\n",
       "    <tr>\n",
       "      <th>org_cleaned_hash</th>\n",
       "      <td>sogang-university</td>\n",
       "      <td>sogang-university</td>\n",
       "      <td>sogang-univ</td>\n",
       "      <td>sogang-university</td>\n",
       "      <td>None</td>\n",
       "    </tr>\n",
       "    <tr>\n",
       "      <th>is_email_commerical</th>\n",
       "      <td>False</td>\n",
       "      <td>False</td>\n",
       "      <td>False</td>\n",
       "      <td>False</td>\n",
       "      <td>False</td>\n",
       "    </tr>\n",
       "    <tr>\n",
       "      <th>domain_by_email</th>\n",
       "      <td>NaN</td>\n",
       "      <td>NaN</td>\n",
       "      <td>NaN</td>\n",
       "      <td>NaN</td>\n",
       "      <td>NaN</td>\n",
       "    </tr>\n",
       "    <tr>\n",
       "      <th>domain_by_profile</th>\n",
       "      <td>NaN</td>\n",
       "      <td>NaN</td>\n",
       "      <td>NaN</td>\n",
       "      <td>NaN</td>\n",
       "      <td>NaN</td>\n",
       "    </tr>\n",
       "  </tbody>\n",
       "</table>\n",
       "</div>"
      ],
      "text/plain": [
       "                                     1413443                  1796929  \\\n",
       "id                                    346844                   346844   \n",
       "name                            joonsung lee             joonsung lee   \n",
       "username                         sgu20181551              sgu20181551   \n",
       "block                                      1                        1   \n",
       "email                     dytpq299@naver.com       dytpq299@naver.com   \n",
       "sendEmail                                  0                        0   \n",
       "registerDate             2021-11-23 12:18:58      2021-11-23 12:18:58   \n",
       "lastvisitDate            2021-11-23 13:22:29      2021-11-23 13:22:29   \n",
       "orgtype              universityundergraduate  universityundergraduate   \n",
       "organization               sogang university        sogang university   \n",
       "orcid                                    NaN                      NaN   \n",
       "email_host                         naver.com                naver.com   \n",
       "org_cleaned_set         {sogang, university}     {sogang, university}   \n",
       "org_cleaned_hash           sogang-university        sogang-university   \n",
       "is_email_commerical                    False                    False   \n",
       "domain_by_email                          NaN                      NaN   \n",
       "domain_by_profile                        NaN                      NaN   \n",
       "\n",
       "                                     337217                   491891   \\\n",
       "id                                    346844                   346844   \n",
       "name                            joonsung lee             joonsung lee   \n",
       "username                         sgu20181551              sgu20181551   \n",
       "block                                      1                        1   \n",
       "email                     dytpq299@naver.com       dytpq299@naver.com   \n",
       "sendEmail                                  0                        0   \n",
       "registerDate             2021-11-23 12:18:58      2021-11-23 12:18:58   \n",
       "lastvisitDate            2021-11-23 13:22:29      2021-11-23 13:22:29   \n",
       "orgtype              universityundergraduate  universityundergraduate   \n",
       "organization                     sogang univ        sogang university   \n",
       "orcid                                    NaN                      NaN   \n",
       "email_host                         naver.com                naver.com   \n",
       "org_cleaned_set               {sogang, univ}     {sogang, university}   \n",
       "org_cleaned_hash                 sogang-univ        sogang-university   \n",
       "is_email_commerical                    False                    False   \n",
       "domain_by_email                          NaN                      NaN   \n",
       "domain_by_profile                        NaN                      NaN   \n",
       "\n",
       "                                      150123   \n",
       "id                                     177057  \n",
       "name                            Vaibhav Nagar  \n",
       "username                       vaibhavnagar08  \n",
       "block                                       0  \n",
       "email                vaibhavnagar08@gmail.com  \n",
       "sendEmail                                  -1  \n",
       "registerDate              2017-08-23 09:07:50  \n",
       "lastvisitDate             2018-03-23 08:46:45  \n",
       "orgtype               universityundergraduate  \n",
       "organization                             None  \n",
       "orcid                                     NaN  \n",
       "email_host                          gmail.com  \n",
       "org_cleaned_set                          None  \n",
       "org_cleaned_hash                         None  \n",
       "is_email_commerical                     False  \n",
       "domain_by_email                           NaN  \n",
       "domain_by_profile                         NaN  "
      ]
     },
     "execution_count": 20,
     "metadata": {},
     "output_type": "execute_result"
    }
   ],
   "source": [
    "# attempt direct join by hash\n",
    "domain_subset_df = domain_df[domain_df.domain.isin(df.email_host.unique())][['domain', 'domain_cleaned_hash']]\n",
    "domain_subset_df = domain_subset_df[~domain_subset_df.domain.isna()&~domain_subset_df.domain_cleaned_hash.isna()]\n",
    "\n",
    "derived_df = pd.merge(df, domain_subset_df.rename(columns={'domain':'domain_by_profile'}),how='left', left_on='org_cleaned_hash', right_on='domain_cleaned_hash').drop('domain_cleaned_hash', axis=1)\n",
    "\n",
    "# display\n",
    "derived_df.sample(5).T"
   ]
  },
  {
   "cell_type": "code",
   "execution_count": 21,
   "metadata": {
    "collapsed": false,
    "execution": {
     "iopub.execute_input": "2021-12-01T03:55:54.720322Z",
     "iopub.status.busy": "2021-12-01T03:55:54.719952Z",
     "iopub.status.idle": "2021-12-01T03:56:10.634085Z",
     "shell.execute_reply": "2021-12-01T03:56:10.621530Z",
     "shell.execute_reply.started": "2021-12-01T03:55:54.720286Z"
    },
    "jupyter": {
     "outputs_hidden": false
    },
    "pycharm": {
     "name": "#%%\n"
    },
    "tags": []
   },
   "outputs": [],
   "source": [
    "# attempt to reduce domain_df size to speedup Jaccard calculation\n",
    "from itertools import chain\n",
    "\n",
    "all_word_set = set(chain.from_iterable(derived_df[(derived_df['domain_by_profile'].isna() & (~derived_df['organization'].isna()))].org_cleaned_set.values))\n",
    "\n",
    "# select the domain_df entry with words from all_word_set\n",
    "domain_subset_df = domain_df[domain_df.domain_cleaned_set.notnull()]\n",
    "domain_subset_df = domain_subset_df[domain_subset_df.domain_cleaned_set.apply(lambda x: True if len(x.intersection(all_word_set)) > 0 else False)]"
   ]
  },
  {
   "cell_type": "code",
   "execution_count": 22,
   "metadata": {
    "collapsed": false,
    "execution": {
     "iopub.execute_input": "2021-12-01T03:56:10.641539Z",
     "iopub.status.busy": "2021-12-01T03:56:10.640292Z",
     "iopub.status.idle": "2021-12-01T03:56:22.326608Z",
     "shell.execute_reply": "2021-12-01T03:56:22.325919Z",
     "shell.execute_reply.started": "2021-12-01T03:56:10.641488Z"
    },
    "jupyter": {
     "outputs_hidden": false
    },
    "pycharm": {
     "name": "#%%\n"
    },
    "tags": []
   },
   "outputs": [],
   "source": [
    "def get_org(this_df):\n",
    "    # look at the cohort with this label, do they have a commonly agreed domain_by_email? If so, use it\n",
    "    this_dbe_count = this_df.domain_by_email.value_counts()\n",
    "\n",
    "    if this_dbe_count.shape[0] < 1:\n",
    "        return None\n",
    "\n",
    "    this_top_dbe_perc = this_dbe_count.iloc[0]/this_dbe_count.sum()\n",
    "\n",
    "    # if top choice occupies majority of cases, then this cohort can be implied to this domain_by_email address\n",
    "    if this_top_dbe_perc > 0.5:\n",
    "        return this_dbe_count.index[0]\n",
    "\n",
    "\n",
    "derived_hash = derived_df.groupby('org_cleaned_hash').apply(get_org)"
   ]
  },
  {
   "cell_type": "code",
   "execution_count": 23,
   "metadata": {
    "collapsed": false,
    "execution": {
     "iopub.execute_input": "2021-12-01T03:56:22.333303Z",
     "iopub.status.busy": "2021-12-01T03:56:22.331911Z",
     "iopub.status.idle": "2021-12-01T03:56:26.004481Z",
     "shell.execute_reply": "2021-12-01T03:56:26.000032Z",
     "shell.execute_reply.started": "2021-12-01T03:56:22.333237Z"
    },
    "jupyter": {
     "outputs_hidden": false
    },
    "pycharm": {
     "name": "#%%\n"
    },
    "tags": []
   },
   "outputs": [],
   "source": [
    "derived_df = pd.merge(derived_df, derived_hash.reset_index(name='domain_by_profile_infer'), how='left', left_on='org_cleaned_hash', right_on='org_cleaned_hash')"
   ]
  },
  {
   "cell_type": "code",
   "execution_count": 24,
   "metadata": {
    "collapsed": false,
    "execution": {
     "iopub.execute_input": "2021-12-01T03:56:26.019454Z",
     "iopub.status.busy": "2021-12-01T03:56:26.017873Z",
     "iopub.status.idle": "2021-12-01T03:57:33.585301Z",
     "shell.execute_reply": "2021-12-01T03:57:33.583707Z",
     "shell.execute_reply.started": "2021-12-01T03:56:26.019267Z"
    },
    "jupyter": {
     "outputs_hidden": false
    },
    "pycharm": {
     "name": "#%%\n"
    },
    "tags": []
   },
   "outputs": [],
   "source": [
    "# calculate a composite domain based on domain_by_email, domain_by_profile, and domain_by_profile_infer\n",
    "def get_composite_domain(this_df):\n",
    "\n",
    "    # if domain found via profile with direct match, use it\n",
    "    if this_df.domain_by_profile != '':\n",
    "        return this_df.domain_by_profile\n",
    "\n",
    "    # if domain found via email, use it\n",
    "    if this_df.domain_by_email != '':\n",
    "        return this_df.domain_by_email\n",
    "\n",
    "        # if domain found via profile but not with a direct match, use it\n",
    "    if this_df.domain_by_profile_infer != '':\n",
    "        return this_df.domain_by_profile_infer\n",
    "\n",
    "    # else, no organization can be concluded, return none\n",
    "    return None\n",
    "\n",
    "\n",
    "derived_df['domain_final'] = derived_df[['domain_by_email', 'domain_by_profile', 'domain_by_profile_infer']].fillna('').apply(get_composite_domain, axis=1)"
   ]
  },
  {
   "cell_type": "code",
   "execution_count": 25,
   "metadata": {
    "collapsed": false,
    "execution": {
     "iopub.execute_input": "2021-12-01T03:57:33.592323Z",
     "iopub.status.busy": "2021-12-01T03:57:33.591921Z",
     "iopub.status.idle": "2021-12-01T03:57:36.631079Z",
     "shell.execute_reply": "2021-12-01T03:57:36.629589Z",
     "shell.execute_reply.started": "2021-12-01T03:57:33.592267Z"
    },
    "jupyter": {
     "outputs_hidden": false
    },
    "pycharm": {
     "name": "#%%\n"
    },
    "tags": []
   },
   "outputs": [
    {
     "data": {
      "text/html": [
       "<div>\n",
       "<style scoped>\n",
       "    .dataframe tbody tr th:only-of-type {\n",
       "        vertical-align: middle;\n",
       "    }\n",
       "\n",
       "    .dataframe tbody tr th {\n",
       "        vertical-align: top;\n",
       "    }\n",
       "\n",
       "    .dataframe thead th {\n",
       "        text-align: right;\n",
       "    }\n",
       "</style>\n",
       "<table border=\"1\" class=\"dataframe\">\n",
       "  <thead>\n",
       "    <tr style=\"text-align: right;\">\n",
       "      <th></th>\n",
       "      <th>domain_final</th>\n",
       "      <th>domain_by_email</th>\n",
       "    </tr>\n",
       "  </thead>\n",
       "  <tbody>\n",
       "    <tr>\n",
       "      <th>8</th>\n",
       "      <td>None</td>\n",
       "      <td>None</td>\n",
       "    </tr>\n",
       "    <tr>\n",
       "      <th>17</th>\n",
       "      <td>None</td>\n",
       "      <td>None</td>\n",
       "    </tr>\n",
       "    <tr>\n",
       "      <th>42</th>\n",
       "      <td>None</td>\n",
       "      <td>None</td>\n",
       "    </tr>\n",
       "    <tr>\n",
       "      <th>52</th>\n",
       "      <td>None</td>\n",
       "      <td>None</td>\n",
       "    </tr>\n",
       "    <tr>\n",
       "      <th>76</th>\n",
       "      <td>None</td>\n",
       "      <td>None</td>\n",
       "    </tr>\n",
       "    <tr>\n",
       "      <th>...</th>\n",
       "      <td>...</td>\n",
       "      <td>...</td>\n",
       "    </tr>\n",
       "    <tr>\n",
       "      <th>1974177</th>\n",
       "      <td>None</td>\n",
       "      <td>NaN</td>\n",
       "    </tr>\n",
       "    <tr>\n",
       "      <th>1995930</th>\n",
       "      <td>aol.com</td>\n",
       "      <td>NaN</td>\n",
       "    </tr>\n",
       "    <tr>\n",
       "      <th>1995960</th>\n",
       "      <td>None</td>\n",
       "      <td>NaN</td>\n",
       "    </tr>\n",
       "    <tr>\n",
       "      <th>1995966</th>\n",
       "      <td>csu.edu</td>\n",
       "      <td>NaN</td>\n",
       "    </tr>\n",
       "    <tr>\n",
       "      <th>1996046</th>\n",
       "      <td>None</td>\n",
       "      <td>NaN</td>\n",
       "    </tr>\n",
       "  </tbody>\n",
       "</table>\n",
       "<p>12982 rows × 2 columns</p>\n",
       "</div>"
      ],
      "text/plain": [
       "        domain_final domain_by_email\n",
       "8               None            None\n",
       "17              None            None\n",
       "42              None            None\n",
       "52              None            None\n",
       "76              None            None\n",
       "...              ...             ...\n",
       "1974177         None             NaN\n",
       "1995930      aol.com             NaN\n",
       "1995960         None             NaN\n",
       "1995966      csu.edu             NaN\n",
       "1996046         None             NaN\n",
       "\n",
       "[12982 rows x 2 columns]"
      ]
     },
     "execution_count": 25,
     "metadata": {},
     "output_type": "execute_result"
    }
   ],
   "source": [
    "derived_df[derived_df.email_host == 'yahoo.com'][['domain_final', 'domain_by_email']]"
   ]
  },
  {
   "cell_type": "markdown",
   "metadata": {
    "pycharm": {
     "name": "#%% md\n"
    }
   },
   "source": [
    "## Update Salesforce institution"
   ]
  },
  {
   "cell_type": "code",
   "execution_count": 26,
   "metadata": {
    "collapsed": false,
    "execution": {
     "iopub.execute_input": "2021-12-01T03:57:36.637161Z",
     "iopub.status.busy": "2021-12-01T03:57:36.636913Z",
     "iopub.status.idle": "2021-12-01T03:57:43.064263Z",
     "shell.execute_reply": "2021-12-01T03:57:43.063269Z",
     "shell.execute_reply.started": "2021-12-01T03:57:36.637134Z"
    },
    "jupyter": {
     "outputs_hidden": false
    },
    "pycharm": {
     "name": "#%%\n"
    },
    "tags": []
   },
   "outputs": [
    {
     "data": {
      "text/html": [
       "<div>\n",
       "<style scoped>\n",
       "    .dataframe tbody tr th:only-of-type {\n",
       "        vertical-align: middle;\n",
       "    }\n",
       "\n",
       "    .dataframe tbody tr th {\n",
       "        vertical-align: top;\n",
       "    }\n",
       "\n",
       "    .dataframe thead th {\n",
       "        text-align: right;\n",
       "    }\n",
       "</style>\n",
       "<table border=\"1\" class=\"dataframe\">\n",
       "  <thead>\n",
       "    <tr style=\"text-align: right;\">\n",
       "      <th></th>\n",
       "      <th>domain_name</th>\n",
       "      <th>domain</th>\n",
       "      <th>industry</th>\n",
       "      <th>size</th>\n",
       "      <th>country</th>\n",
       "    </tr>\n",
       "  </thead>\n",
       "  <tbody>\n",
       "    <tr>\n",
       "      <th>0</th>\n",
       "      <td>purdue university</td>\n",
       "      <td>purdue.edu</td>\n",
       "      <td>higher education</td>\n",
       "      <td>10001+</td>\n",
       "      <td>united states</td>\n",
       "    </tr>\n",
       "    <tr>\n",
       "      <th>1</th>\n",
       "      <td>netzero inc</td>\n",
       "      <td>netzero.net</td>\n",
       "      <td>computer software</td>\n",
       "      <td>1-10</td>\n",
       "      <td>united states</td>\n",
       "    </tr>\n",
       "  </tbody>\n",
       "</table>\n",
       "</div>"
      ],
      "text/plain": [
       "         domain_name       domain           industry    size        country\n",
       "0  purdue university   purdue.edu   higher education  10001+  united states\n",
       "1        netzero inc  netzero.net  computer software    1-10  united states"
      ]
     },
     "metadata": {},
     "output_type": "display_data"
    }
   ],
   "source": [
    "# get a unique list of organizations that appears in contact\n",
    "#org_df = derived_df[['domain_name', 'domain', 'industry', 'size', 'country']].drop_duplicates().dropna()\n",
    "org_df = pd.merge(derived_df[['domain_final']].drop_duplicates().dropna(), domain_df, how='inner', left_on='domain_final', right_on='domain')\n",
    "org_df = org_df[['domain_name', 'domain', 'industry', 'size', 'country']]\n",
    "\n",
    "# display\n",
    "display(org_df.head(2))"
   ]
  },
  {
   "cell_type": "code",
   "execution_count": 27,
   "metadata": {
    "collapsed": false,
    "execution": {
     "iopub.execute_input": "2021-12-01T03:57:43.074734Z",
     "iopub.status.busy": "2021-12-01T03:57:43.070997Z",
     "iopub.status.idle": "2021-12-01T03:57:43.112382Z",
     "shell.execute_reply": "2021-12-01T03:57:43.111806Z",
     "shell.execute_reply.started": "2021-12-01T03:57:43.072177Z"
    },
    "jupyter": {
     "outputs_hidden": false
    },
    "pycharm": {
     "name": "#%%\n"
    },
    "tags": []
   },
   "outputs": [
    {
     "data": {
      "text/html": [
       "<div>\n",
       "<style scoped>\n",
       "    .dataframe tbody tr th:only-of-type {\n",
       "        vertical-align: middle;\n",
       "    }\n",
       "\n",
       "    .dataframe tbody tr th {\n",
       "        vertical-align: top;\n",
       "    }\n",
       "\n",
       "    .dataframe thead th {\n",
       "        text-align: right;\n",
       "    }\n",
       "</style>\n",
       "<table border=\"1\" class=\"dataframe\">\n",
       "  <thead>\n",
       "    <tr style=\"text-align: right;\">\n",
       "      <th></th>\n",
       "      <th>0</th>\n",
       "      <th>1</th>\n",
       "    </tr>\n",
       "  </thead>\n",
       "  <tbody>\n",
       "    <tr>\n",
       "      <th>Name</th>\n",
       "      <td>purdue university</td>\n",
       "      <td>netzero inc</td>\n",
       "    </tr>\n",
       "    <tr>\n",
       "      <th>Size_Range__c</th>\n",
       "      <td>10001+</td>\n",
       "      <td>1-10</td>\n",
       "    </tr>\n",
       "    <tr>\n",
       "      <th>Country__c</th>\n",
       "      <td>united states</td>\n",
       "      <td>united states</td>\n",
       "    </tr>\n",
       "    <tr>\n",
       "      <th>Domain__c</th>\n",
       "      <td>purdue.edu</td>\n",
       "      <td>netzero.net</td>\n",
       "    </tr>\n",
       "    <tr>\n",
       "      <th>Industry__c</th>\n",
       "      <td>higher education</td>\n",
       "      <td>computer software</td>\n",
       "    </tr>\n",
       "  </tbody>\n",
       "</table>\n",
       "</div>"
      ],
      "text/plain": [
       "                               0                  1\n",
       "Name           purdue university        netzero inc\n",
       "Size_Range__c             10001+               1-10\n",
       "Country__c         united states      united states\n",
       "Domain__c             purdue.edu        netzero.net\n",
       "Industry__c     higher education  computer software"
      ]
     },
     "execution_count": 27,
     "metadata": {},
     "output_type": "execute_result"
    }
   ],
   "source": [
    "df_sf = pd.DataFrame()\n",
    "\n",
    "# Make sure NaN and NaT values are taken care of here\n",
    "df_sf['Name'] = org_df['domain_name']\n",
    "\n",
    "df_sf['Size_Range__c'] = org_df['size'].fillna('Unknown')\n",
    "df_sf['Country__c'] = org_df['country']\n",
    "df_sf['Domain__c'] = org_df['domain']\n",
    "df_sf['Industry__c'] = org_df['industry']\n",
    "\n",
    "sf_original_fields = df_sf.columns\n",
    "\n",
    "# display\n",
    "df_sf.head(2).T"
   ]
  },
  {
   "cell_type": "code",
   "execution_count": 28,
   "metadata": {
    "collapsed": false,
    "execution": {
     "iopub.execute_input": "2021-12-01T03:57:43.124456Z",
     "iopub.status.busy": "2021-12-01T03:57:43.121433Z",
     "iopub.status.idle": "2021-12-01T03:57:43.138896Z",
     "shell.execute_reply": "2021-12-01T03:57:43.137697Z",
     "shell.execute_reply.started": "2021-12-01T03:57:43.124387Z"
    },
    "jupyter": {
     "outputs_hidden": false
    },
    "pycharm": {
     "name": "#%%\n"
    },
    "tags": []
   },
   "outputs": [],
   "source": [
    "\n",
    "\n",
    "db_s.object_id = 'organization__c'\n",
    "db_s.external_id = 'Domain__c'"
   ]
  },
  {
   "cell_type": "code",
   "execution_count": 29,
   "metadata": {
    "collapsed": false,
    "execution": {
     "iopub.execute_input": "2021-12-01T03:57:43.150401Z",
     "iopub.status.busy": "2021-12-01T03:57:43.146609Z",
     "iopub.status.idle": "2021-12-01T03:57:45.664023Z",
     "shell.execute_reply": "2021-12-01T03:57:45.662365Z",
     "shell.execute_reply.started": "2021-12-01T03:57:43.150322Z"
    },
    "jupyter": {
     "outputs_hidden": false
    },
    "pycharm": {
     "name": "#%%\n"
    },
    "tags": []
   },
   "outputs": [
    {
     "name": "stdout",
     "output_type": "stream",
     "text": [
      "[Success] Bulk job creation successful. Job ID = 7505w00000bmcxUAAQ\n",
      "hello\n",
      "[Success] CSV upload successful. Job ID = 7505w00000bmcxUAAQ\n",
      "[Success] Closing job successful. Job ID = 7505w00000bmcxUAAQ\n"
     ]
    }
   ],
   "source": [
    "# send data to Salesforce\n",
    "db_s.send_data(df_sf)"
   ]
  },
  {
   "cell_type": "code",
   "execution_count": 30,
   "metadata": {
    "collapsed": false,
    "execution": {
     "iopub.execute_input": "2021-12-01T03:57:45.672611Z",
     "iopub.status.busy": "2021-12-01T03:57:45.672038Z",
     "iopub.status.idle": "2021-12-01T03:57:46.125717Z",
     "shell.execute_reply": "2021-12-01T03:57:46.125078Z",
     "shell.execute_reply.started": "2021-12-01T03:57:45.672502Z"
    },
    "jupyter": {
     "outputs_hidden": false
    },
    "pycharm": {
     "name": "#%%\n"
    },
    "tags": []
   },
   "outputs": [
    {
     "data": {
      "text/plain": [
       "{'id': '7505w00000bmcxUAAQ',\n",
       " 'operation': 'upsert',\n",
       " 'object': 'organization__c',\n",
       " 'createdById': '0055w00000DM5bOAAT',\n",
       " 'createdDate': '2021-12-01T03:57:44.000+0000',\n",
       " 'systemModstamp': '2021-12-01T03:57:45.000+0000',\n",
       " 'state': 'InProgress',\n",
       " 'externalIdFieldName': 'Domain__c',\n",
       " 'concurrencyMode': 'Parallel',\n",
       " 'contentType': 'CSV',\n",
       " 'apiVersion': 47.0,\n",
       " 'jobType': 'V2Ingest',\n",
       " 'lineEnding': 'LF',\n",
       " 'columnDelimiter': 'COMMA',\n",
       " 'numberRecordsProcessed': 0,\n",
       " 'numberRecordsFailed': 0,\n",
       " 'retries': 0,\n",
       " 'totalProcessingTime': 0,\n",
       " 'apiActiveProcessingTime': 0,\n",
       " 'apexProcessingTime': 0}"
      ]
     },
     "execution_count": 30,
     "metadata": {},
     "output_type": "execute_result"
    }
   ],
   "source": [
    "# check status\n",
    "db_s.check_bulk_status()"
   ]
  },
  {
   "cell_type": "code",
   "execution_count": 31,
   "metadata": {
    "collapsed": false,
    "execution": {
     "iopub.execute_input": "2021-12-01T03:57:46.137865Z",
     "iopub.status.busy": "2021-12-01T03:57:46.134916Z",
     "iopub.status.idle": "2021-12-01T03:57:46.378139Z",
     "shell.execute_reply": "2021-12-01T03:57:46.374846Z",
     "shell.execute_reply.started": "2021-12-01T03:57:46.137681Z"
    },
    "jupyter": {
     "outputs_hidden": false
    },
    "pycharm": {
     "name": "#%%\n"
    },
    "tags": []
   },
   "outputs": [
    {
     "name": "stdout",
     "output_type": "stream",
     "text": [
      "''\n"
     ]
    }
   ],
   "source": [
    "# check status\n",
    "from pprint import pprint\n",
    "\n",
    "pprint(db_s.check_bulk_failed_results())"
   ]
  },
  {
   "cell_type": "markdown",
   "metadata": {
    "pycharm": {
     "name": "#%% md\n"
    }
   },
   "source": [
    "## Obtain newly updated organization IDs from Salesforce"
   ]
  },
  {
   "cell_type": "code",
   "execution_count": 32,
   "metadata": {
    "collapsed": false,
    "execution": {
     "iopub.execute_input": "2021-12-01T03:57:46.381935Z",
     "iopub.status.busy": "2021-12-01T03:57:46.381618Z",
     "iopub.status.idle": "2021-12-01T03:57:46.386944Z",
     "shell.execute_reply": "2021-12-01T03:57:46.385774Z",
     "shell.execute_reply.started": "2021-12-01T03:57:46.381904Z"
    },
    "jupyter": {
     "outputs_hidden": false
    },
    "pycharm": {
     "name": "#%%\n"
    },
    "tags": []
   },
   "outputs": [],
   "source": [
    "# create DB2 to Salesforce API object\n"
   ]
  },
  {
   "cell_type": "code",
   "execution_count": 33,
   "metadata": {
    "collapsed": false,
    "execution": {
     "iopub.execute_input": "2021-12-01T03:57:46.396161Z",
     "iopub.status.busy": "2021-12-01T03:57:46.393218Z",
     "iopub.status.idle": "2021-12-01T03:57:58.448157Z",
     "shell.execute_reply": "2021-12-01T03:57:58.446630Z",
     "shell.execute_reply.started": "2021-12-01T03:57:46.396102Z"
    },
    "jupyter": {
     "outputs_hidden": false
    },
    "pycharm": {
     "name": "#%%\n"
    },
    "tags": []
   },
   "outputs": [
    {
     "name": "stdout",
     "output_type": "stream",
     "text": [
      "[Success] Bulk job creation successful. Job ID = 7505w00000bmcxZAAQ\n",
      "{\"id\":\"7505w00000bmcxZAAQ\",\"operation\":\"query\",\"object\":\"organization__c\",\"createdById\":\"0055w00000DM5bOAAT\",\"createdDate\":\"2021-12-01T03:57:46.000+0000\",\"systemModstamp\":\"2021-12-01T03:57:46.000+0000\",\"state\":\"UploadComplete\",\"concurrencyMode\":\"Parallel\",\"contentType\":\"CSV\",\"apiVersion\":47.0,\"jobType\":\"V2Query\",\"lineEnding\":\"LF\",\"columnDelimiter\":\"COMMA\",\"retries\":0,\"totalProcessingTime\":0}\n",
      "{\"id\":\"7505w00000bmcxZAAQ\",\"operation\":\"query\",\"object\":\"organization__c\",\"createdById\":\"0055w00000DM5bOAAT\",\"createdDate\":\"2021-12-01T03:57:46.000+0000\",\"systemModstamp\":\"2021-12-01T03:57:48.000+0000\",\"state\":\"JobComplete\",\"concurrencyMode\":\"Parallel\",\"contentType\":\"CSV\",\"apiVersion\":47.0,\"jobType\":\"V2Query\",\"lineEnding\":\"LF\",\"columnDelimiter\":\"COMMA\",\"numberRecordsProcessed\":6495,\"retries\":0,\"totalProcessingTime\":451}\n",
      "[Success] Bulk job completed successfully.\n"
     ]
    },
    {
     "data": {
      "text/html": [
       "<div>\n",
       "<style scoped>\n",
       "    .dataframe tbody tr th:only-of-type {\n",
       "        vertical-align: middle;\n",
       "    }\n",
       "\n",
       "    .dataframe tbody tr th {\n",
       "        vertical-align: top;\n",
       "    }\n",
       "\n",
       "    .dataframe thead th {\n",
       "        text-align: right;\n",
       "    }\n",
       "</style>\n",
       "<table border=\"1\" class=\"dataframe\">\n",
       "  <thead>\n",
       "    <tr style=\"text-align: right;\">\n",
       "      <th></th>\n",
       "      <th>Domain__c</th>\n",
       "      <th>Id</th>\n",
       "    </tr>\n",
       "  </thead>\n",
       "  <tbody>\n",
       "    <tr>\n",
       "      <th>0</th>\n",
       "      <td>upenn.edu</td>\n",
       "      <td>a0r5w00000V42c0AAB</td>\n",
       "    </tr>\n",
       "    <tr>\n",
       "      <th>1</th>\n",
       "      <td>fer.hr</td>\n",
       "      <td>a0r5w00000V42c1AAB</td>\n",
       "    </tr>\n",
       "    <tr>\n",
       "      <th>2</th>\n",
       "      <td>wheatoncollege.edu</td>\n",
       "      <td>a0r5w00000V42c2AAB</td>\n",
       "    </tr>\n",
       "  </tbody>\n",
       "</table>\n",
       "</div>"
      ],
      "text/plain": [
       "            Domain__c                  Id\n",
       "0           upenn.edu  a0r5w00000V42c0AAB\n",
       "1              fer.hr  a0r5w00000V42c1AAB\n",
       "2  wheatoncollege.edu  a0r5w00000V42c2AAB"
      ]
     },
     "execution_count": 33,
     "metadata": {},
     "output_type": "execute_result"
    }
   ],
   "source": [
    "# get Salesforce ID for organizations\n",
    "sf_org_ID_df = db_s.query_data('SELECT Id, Domain__c FROM organization__c')\n",
    "\n",
    "# display\n",
    "sf_org_ID_df.head(3)"
   ]
  },
  {
   "cell_type": "code",
   "execution_count": null,
   "metadata": {
    "collapsed": false,
    "execution": {
     "iopub.execute_input": "2021-12-01T03:57:58.455101Z",
     "iopub.status.busy": "2021-12-01T03:57:58.453568Z"
    },
    "jupyter": {
     "outputs_hidden": false
    },
    "pycharm": {
     "name": "#%%\n"
    },
    "tags": []
   },
   "outputs": [],
   "source": [
    "# join salesforce ID back to contact DF\n",
    "df = pd.merge(sf_org_ID_df, derived_df, how='right', left_on='Domain__c', right_on='domain_final').drop('Domain__c', axis=1).rename(columns={'Id':'Salesforce_org_ID'})"
   ]
  },
  {
   "cell_type": "code",
   "execution_count": null,
   "metadata": {
    "collapsed": false,
    "jupyter": {
     "outputs_hidden": false
    },
    "pycharm": {
     "name": "#%%\n"
    },
    "tags": []
   },
   "outputs": [],
   "source": [
    "# display\n",
    "display(df.head(2))"
   ]
  },
  {
   "cell_type": "markdown",
   "metadata": {
    "pycharm": {
     "name": "#%% md\n"
    }
   },
   "source": [
    "## Match data with Salesforce format"
   ]
  },
  {
   "cell_type": "code",
   "execution_count": null,
   "metadata": {
    "collapsed": false,
    "jupyter": {
     "outputs_hidden": false
    },
    "pycharm": {
     "name": "#%%\n"
    },
    "tags": []
   },
   "outputs": [],
   "source": [
    "# split full name into first, middle, and last names\n",
    "def split_full_name(this_name):\n",
    "    try:\n",
    "        this_name_list = list(filter(None, this_name.split(' ')))\n",
    "        if this_name_list is not None:\n",
    "            if len(this_name_list) == 1:\n",
    "                # single word name\n",
    "                return pd.Series([this_name_list[0],None, this_name_list[0]])\n",
    "            \n",
    "            elif len(this_name_list) > 1:\n",
    "                # multi word name\n",
    "                return pd.Series([this_name_list[0],' '.join(this_name_list[1:-1]),this_name_list[-1]])\n",
    "            \n",
    "            else:\n",
    "                return pd.Series([None, None, None])\n",
    "\n",
    "    except Exception as e:\n",
    "        print(e)\n",
    "        raise e\n",
    "        \n",
    "\n"
   ]
  },
  {
   "cell_type": "code",
   "execution_count": null,
   "metadata": {
    "pycharm": {
     "name": "#%%\n"
    },
    "tags": []
   },
   "outputs": [],
   "source": [
    "\n",
    "\n",
    "# Make sure NaN and NaT values are taken care of here\n",
    "df['name'] = df.name.str.strip()\n",
    "df = df[df['name'].notnull()]\n",
    "\n",
    "display(df.head())\n",
    "display(df.tail())"
   ]
  },
  {
   "cell_type": "code",
   "execution_count": null,
   "metadata": {
    "tags": [],
    "pycharm": {
     "name": "#%%\n"
    }
   },
   "outputs": [],
   "source": []
  },
  {
   "cell_type": "code",
   "execution_count": null,
   "metadata": {
    "tags": [],
    "pycharm": {
     "name": "#%%\n"
    }
   },
   "outputs": [],
   "source": [
    "df_sf = pd.DataFrame()\n",
    "#df_sf[['firstname', 'Middle_name__c', 'lastname']] = df['name'].apply(split_full_name)\n",
    "\n",
    "splitted = df['name'].str.split()\n",
    "\n",
    "df_test['firstname'] = splitted.str[0]\n",
    "df_test['lastname'] = splitted.str[-1]\n",
    "df_test['Middle_name__c'] = df['name'].loc[df['name'].str.split().str.len() == 3].str.split(expand=True)[1]\n",
    "\n",
    "display(df_sf.head())\n",
    "display(df_sf.tail())"
   ]
  },
  {
   "cell_type": "code",
   "execution_count": null,
   "metadata": {
    "pycharm": {
     "name": "#%%\n"
    }
   },
   "outputs": [],
   "source": [
    "display(df_sf[(df_sf['firstname'].isnull()) & (df_sf['Middle_name__c'].isnull()) & (df_sf['lastname'].isnull())])"
   ]
  },
  {
   "cell_type": "code",
   "execution_count": null,
   "metadata": {
    "tags": [],
    "pycharm": {
     "name": "#%%\n"
    }
   },
   "outputs": [],
   "source": [
    "df_sf = df_sf[(df_sf['firstname'].notnull()) & (df_sf['Middle_name__c'].notnull()) & (df_sf['lastname'].notnull())]\n",
    "display(df_sf.head())"
   ]
  },
  {
   "cell_type": "code",
   "execution_count": null,
   "metadata": {
    "tags": [],
    "pycharm": {
     "name": "#%%\n"
    }
   },
   "outputs": [],
   "source": [
    "df_sf['nanoHUB_user_ID__c']            = df['id']\n",
    "df_sf['nanoHUB_username__c']           = df['username']\n",
    "df_sf['Email']                         = df['email'].fillna('').apply(lambda x: '' if '@invalid' in x else x).apply(lambda x: '' if '@' not in x else x)\n",
    "\n",
    "# for sendEmail: 0 = opt-out, 1 = receive email. For salesforce HasOptedOutOfEmail, it's exact opposite\n",
    "df_sf['HasOptedOutOfEmail']            = df['sendEmail'].apply(lambda x: 0 if x==1 else 1)\n",
    "df_sf['nanoHUB_account_BLOCKED__c']    = df['block'].fillna(0)\n",
    "\n",
    "# solidify time-related columns from datetime to string\n",
    "df_sf['nanoHUB_registration_date__c']  = df['registerDate'].dt.date.fillna('').astype('str')\n",
    "df_sf['nanoHUB_last_active_date__c']   = df['lastvisitDate'].dt.date.fillna('').astype('str')\n",
    "\n",
    "# Tableau detailed view\n",
    "df_sf['Detailed_user_timeline_to_Tableau__c'] = df_sf['Email'].apply(lambda x: 'https://tableauqa.itap.purdue.edu/views/profile/ProfileTimeline?Id%20Email='+x+'\\\n",
    "&:iframeSizedToWindow=true&:embed=y&:showAppBanner=false\\\n",
    "&:display_count=no&:showVizHome=no#6' if x != '' else '')\n",
    "\n",
    "# nanoHUB user profile\n",
    "df_sf['nanoHUB_user_page__c'] = df_sf['nanoHUB_user_ID__c'].apply(lambda x: 'https://nanohub.org/members/%d'%x if x != '' else '')\n",
    "df_sf['Organization__c'] = df['organization'].fillna('')\n",
    "\n",
    "df_sf['ORCID__c'] = df['orcid'].fillna('')\n",
    "\n",
    "# derived information\n",
    "df_sf['Organization_email_derived__c'] = df['Salesforce_org_ID'].fillna(' ')\n",
    "\n",
    "sf_original_fields = df_sf.columns\n",
    "\n",
    "# display\n",
    "df_sf.head()\n",
    "df_sf.tail()"
   ]
  },
  {
   "cell_type": "markdown",
   "metadata": {
    "pycharm": {
     "name": "#%% md\n"
    }
   },
   "source": [
    "## To Salesforce Sales Cloud CRM"
   ]
  },
  {
   "cell_type": "code",
   "execution_count": null,
   "metadata": {
    "collapsed": false,
    "jupyter": {
     "outputs_hidden": false
    },
    "pycharm": {
     "name": "#%%\n"
    },
    "tags": []
   },
   "outputs": [],
   "source": [
    "\n",
    "db_s.object_id = object_id\n",
    "db_s.external_id = external_id"
   ]
  },
  {
   "cell_type": "code",
   "execution_count": null,
   "metadata": {
    "collapsed": false,
    "jupyter": {
     "outputs_hidden": false
    },
    "pycharm": {
     "name": "#%%\n"
    },
    "tags": []
   },
   "outputs": [],
   "source": [
    "# send data to Salesforce\n",
    "db_s.send_data(df_sf)"
   ]
  },
  {
   "cell_type": "code",
   "execution_count": null,
   "metadata": {
    "collapsed": false,
    "jupyter": {
     "outputs_hidden": false
    },
    "pycharm": {
     "name": "#%%\n"
    },
    "tags": []
   },
   "outputs": [],
   "source": [
    "# check status\n",
    "db_s.check_bulk_status()"
   ]
  },
  {
   "cell_type": "code",
   "execution_count": null,
   "metadata": {
    "collapsed": false,
    "jupyter": {
     "outputs_hidden": false
    },
    "pycharm": {
     "name": "#%%\n"
    },
    "tags": []
   },
   "outputs": [],
   "source": [
    "# check status\n",
    "from pprint import pprint\n",
    "\n",
    "pprint(db_s.check_bulk_failed_results())"
   ]
  },
  {
   "cell_type": "code",
   "execution_count": null,
   "metadata": {
    "collapsed": false,
    "jupyter": {
     "outputs_hidden": false
    },
    "pycharm": {
     "name": "#%%\n"
    }
   },
   "outputs": [],
   "source": []
  },
  {
   "cell_type": "code",
   "execution_count": null,
   "metadata": {
    "collapsed": false,
    "jupyter": {
     "outputs_hidden": false
    },
    "pycharm": {
     "name": "#%%\n"
    }
   },
   "outputs": [],
   "source": []
  },
  {
   "cell_type": "code",
   "execution_count": null,
   "metadata": {
    "collapsed": false,
    "jupyter": {
     "outputs_hidden": false
    },
    "pycharm": {
     "name": "#%%\n"
    }
   },
   "outputs": [],
   "source": []
  }
 ],
 "metadata": {
  "celltoolbar": "Tags",
  "kernelspec": {
   "display_name": "Python 3 (ipykernel)",
   "language": "python",
   "name": "python3"
  },
  "language_info": {
   "codemirror_mode": {
    "name": "ipython",
    "version": 3
   },
   "file_extension": ".py",
   "mimetype": "text/x-python",
   "name": "python",
   "nbconvert_exporter": "python",
   "pygments_lexer": "ipython3",
   "version": "3.8.10"
  },
  "papermill": {
   "duration": 2655.425782,
   "end_time": "2021-01-21T07:14:47.508407",
   "environment_variables": {},
   "exception": null,
   "input_path": "/home/users/wang2506/nanohub_salesforce_integ/salesforce/task_user_basic_updates.ipynb",
   "output_path": "/home/users/wang2506/nanohub_salesforce_integ/salesforce/task_user_basic_updates.ipynb",
   "parameters": {},
   "start_time": "2021-01-21T06:30:32.082625",
   "version": "2.1.1"
  }
 },
 "nbformat": 4,
 "nbformat_minor": 4
}