{
 "cells": [
  {
   "cell_type": "markdown",
   "metadata": {},
   "source": [
    "# DB2-Salesforce connector: Basic user information updates"
   ]
  },
  {
   "cell_type": "code",
   "execution_count": 1,
   "metadata": {
    "collapsed": false,
    "execution": {
     "iopub.execute_input": "2021-11-12T18:44:57.210396Z",
     "iopub.status.busy": "2021-11-12T18:44:57.210168Z",
     "iopub.status.idle": "2021-11-12T18:44:57.222414Z",
     "shell.execute_reply": "2021-11-12T18:44:57.220569Z",
     "shell.execute_reply.started": "2021-11-12T18:44:57.210330Z"
    },
    "jupyter": {
     "outputs_hidden": false
    },
    "pycharm": {
     "name": "#%%\n"
    }
   },
   "outputs": [],
   "source": [
    "# Parameters\n",
    "hours_range = 24*365*30 # number of hours to look back\n",
    "\n",
    "# API settings\n",
    "api_url = '/services/data/v43.0/sobjects'\n",
    "external_id = 'nanoHUB_user_ID__c'\n",
    "object_id = 'Contact'\n",
    "\n",
    "# login parameters to be handled by Papermill\n",
    "sf_login_params = None\n",
    "sql_login_params = None\n",
    "\n",
    "lib_dir = ''"
   ]
  },
  {
   "cell_type": "code",
   "execution_count": 2,
   "metadata": {
    "collapsed": false,
    "execution": {
     "iopub.execute_input": "2021-11-12T18:44:57.225530Z",
     "iopub.status.busy": "2021-11-12T18:44:57.225305Z",
     "iopub.status.idle": "2021-11-12T18:45:05.545938Z",
     "shell.execute_reply": "2021-11-12T18:45:05.544979Z",
     "shell.execute_reply.started": "2021-11-12T18:44:57.225502Z"
    },
    "jupyter": {
     "outputs_hidden": false
    },
    "pycharm": {
     "name": "#%%\n"
    }
   },
   "outputs": [
    {
     "name": "stdout",
     "output_type": "stream",
     "text": [
      "\u001b[1mnanoHUB - Serving Students, Researchers & Instructors\u001b[0m\n",
      "Obtained Salesforce access token ...... True\n"
     ]
    }
   ],
   "source": [
    "# Parameters\n",
    "from nanoHUB.application import Application\n",
    "\n",
    "application = Application.get_instance()\n",
    "nanohub_db = application.new_db_engine('nanohub')\n",
    "wang159_myrmekes_db = application.new_db_engine('wang159_myrmekes')\n",
    "\n",
    "\n",
    "salesforce = application.new_salesforce_engine()\n",
    "db_s = salesforce\n"
   ]
  },
  {
   "cell_type": "code",
   "execution_count": 3,
   "metadata": {
    "collapsed": false,
    "execution": {
     "iopub.execute_input": "2021-11-12T18:45:05.550289Z",
     "iopub.status.busy": "2021-11-12T18:45:05.548071Z",
     "iopub.status.idle": "2021-11-12T18:45:05.564325Z",
     "shell.execute_reply": "2021-11-12T18:45:05.562228Z",
     "shell.execute_reply.started": "2021-11-12T18:45:05.550170Z"
    },
    "jupyter": {
     "outputs_hidden": false
    },
    "pycharm": {
     "name": "#%%\n"
    }
   },
   "outputs": [],
   "source": [
    "import sys\n",
    "sys.path.append(lib_dir)\n",
    "\n",
    "import pandas as pd\n",
    "import datetime"
   ]
  },
  {
   "cell_type": "markdown",
   "metadata": {},
   "source": [
    "## Obtain contacts from DB2\n",
    "that have last visit date within range of interest specified by day_range"
   ]
  },
  {
   "cell_type": "raw",
   "metadata": {},
   "source": [
    "MariaDB [nanohub]> select id, name, label from jos_user_profile_fields;\n",
    "+----+-----------------+-------------------------------------------------------+\n",
    "| id | name            | label                                                 |\n",
    "+----+-----------------+-------------------------------------------------------+\n",
    "|  1 | organization    | Organization                                          |\n",
    "|  2 | orgtype         | Organization / Position Type                          |\n",
    "|  3 | countryresident | Residency                                             |\n",
    "|  4 | countryorigin   | Citizenship                                           |\n",
    "|  5 | url             | Website                                               |\n",
    "|  6 | phone           | Telephone                                             |\n",
    "|  7 | orcid           | ORCID                                                 |\n",
    "|  8 | gender          | Gender                                                |\n",
    "|  9 | race            | Racial Background                                     |\n",
    "| 10 | disability      | Disability                                            |\n",
    "| 11 | reason          | Reason                                                |\n",
    "| 12 | tags            | Interests                                             |\n",
    "| 13 | address         | Address                                               |\n",
    "| 14 | hispanic        | Hispanic Heritage                                     |\n",
    "| 15 | bio             | Biography                                             |\n",
    "| 16 | howdidyouhear   | How did you first hear about nanoHUB?                 |\n",
    "| 17 | purposeofvisit  | What is the primary purpose of your visit to nanoHUB? |\n",
    "+----+-----------------+-------------------------------------------------------+\n",
    "\n",
    "\n",
    "\n",
    "MariaDB [nanohub]> explain  jos_user_profiles;\n",
    "+---------------+------------------+------+-----+---------+----------------+\n",
    "| Field         | Type             | Null | Key | Default | Extra          |\n",
    "+---------------+------------------+------+-----+---------+----------------+\n",
    "| id            | int(11) unsigned | NO   | PRI | NULL    | auto_increment |\n",
    "| user_id       | int(11)          | NO   | MUL | NULL    |                |\n",
    "| profile_key   | varchar(100)     | NO   |     | NULL    |                |\n",
    "| profile_value | text             | NO   |     | NULL    |                |\n",
    "| ordering      | int(11)          | NO   |     | 0       |                |\n",
    "| access        | int(10)          | NO   |     | 0       |                |\n",
    "+---------------+------------------+------+-----+---------+----------------+"
   ]
  },
  {
   "cell_type": "code",
   "execution_count": 4,
   "metadata": {
    "collapsed": false,
    "execution": {
     "iopub.execute_input": "2021-11-12T18:45:05.569552Z",
     "iopub.status.busy": "2021-11-12T18:45:05.567498Z",
     "iopub.status.idle": "2021-11-12T18:45:05.581658Z",
     "shell.execute_reply": "2021-11-12T18:45:05.579606Z",
     "shell.execute_reply.started": "2021-11-12T18:45:05.569495Z"
    },
    "jupyter": {
     "outputs_hidden": false
    },
    "pycharm": {
     "name": "#%%\n"
    }
   },
   "outputs": [
    {
     "name": "stdout",
     "output_type": "stream",
     "text": [
      "select id, name, username, block, email, sendEmail, registerDate, lastvisitDate                     from jos_users where registerDate >= '1991-11-20'\n"
     ]
    }
   ],
   "source": [
    "# Depending on the task, use different query and cutoff\n",
    "\n",
    "# Hourly update for new registrations\n",
    "date_cutoff = (datetime.datetime.today().date() - datetime.timedelta(hours=hours_range)).strftime('%Y-%m-%d')\n",
    "sql_query = \"select id, name, username, block, email, sendEmail, registerDate, lastvisitDate \\\n",
    "                    from jos_users where registerDate >= '%s'\" % date_cutoff\n",
    "\n",
    "# display\n",
    "print(sql_query)"
   ]
  },
  {
   "cell_type": "code",
   "execution_count": 5,
   "metadata": {
    "collapsed": false,
    "execution": {
     "iopub.execute_input": "2021-11-12T18:45:05.585701Z",
     "iopub.status.busy": "2021-11-12T18:45:05.585010Z",
     "iopub.status.idle": "2021-11-12T18:45:47.525457Z",
     "shell.execute_reply": "2021-11-12T18:45:47.524451Z",
     "shell.execute_reply.started": "2021-11-12T18:45:05.585213Z"
    },
    "jupyter": {
     "outputs_hidden": false
    },
    "pycharm": {
     "name": "#%%\n"
    },
    "tags": []
   },
   "outputs": [],
   "source": [
    "# connect with DB2\n",
    "import sqlalchemy as sql\n",
    "\n",
    "df = pd.read_sql_query(sql_query, nanohub_db)\n",
    "\n",
    "# get user profile details\n",
    "profile_df = pd.read_sql_query(\"select * from jos_user_profiles where profile_key in ('orgtype', 'organization', 'orcid')\", nanohub_db)"
   ]
  },
  {
   "cell_type": "code",
   "execution_count": 6,
   "metadata": {
    "collapsed": false,
    "execution": {
     "iopub.execute_input": "2021-11-12T18:45:47.527695Z",
     "iopub.status.busy": "2021-11-12T18:45:47.526949Z",
     "iopub.status.idle": "2021-11-12T18:45:47.567342Z",
     "shell.execute_reply": "2021-11-12T18:45:47.565864Z",
     "shell.execute_reply.started": "2021-11-12T18:45:47.527577Z"
    },
    "jupyter": {
     "outputs_hidden": false
    },
    "pycharm": {
     "name": "#%%\n"
    },
    "tags": []
   },
   "outputs": [
    {
     "data": {
      "text/html": [
       "<div>\n",
       "<style scoped>\n",
       "    .dataframe tbody tr th:only-of-type {\n",
       "        vertical-align: middle;\n",
       "    }\n",
       "\n",
       "    .dataframe tbody tr th {\n",
       "        vertical-align: top;\n",
       "    }\n",
       "\n",
       "    .dataframe thead th {\n",
       "        text-align: right;\n",
       "    }\n",
       "</style>\n",
       "<table border=\"1\" class=\"dataframe\">\n",
       "  <thead>\n",
       "    <tr style=\"text-align: right;\">\n",
       "      <th></th>\n",
       "      <th>id</th>\n",
       "      <th>name</th>\n",
       "      <th>username</th>\n",
       "      <th>block</th>\n",
       "      <th>email</th>\n",
       "      <th>sendEmail</th>\n",
       "      <th>registerDate</th>\n",
       "      <th>lastvisitDate</th>\n",
       "    </tr>\n",
       "  </thead>\n",
       "  <tbody>\n",
       "    <tr>\n",
       "      <th>0</th>\n",
       "      <td>998</td>\n",
       "      <td>hubrepo hubrepo</td>\n",
       "      <td>hubrepo</td>\n",
       "      <td>0</td>\n",
       "      <td>nkissebe@gmail.com</td>\n",
       "      <td>0</td>\n",
       "      <td>2014-11-13 21:09:09</td>\n",
       "      <td>NaT</td>\n",
       "    </tr>\n",
       "    <tr>\n",
       "      <th>1</th>\n",
       "      <td>1683</td>\n",
       "      <td>nanoHUB support</td>\n",
       "      <td>support</td>\n",
       "      <td>0</td>\n",
       "      <td>support@nanohub.org</td>\n",
       "      <td>0</td>\n",
       "      <td>2008-11-19 22:51:04</td>\n",
       "      <td>2008-11-19 23:55:30</td>\n",
       "    </tr>\n",
       "    <tr>\n",
       "      <th>2</th>\n",
       "      <td>1684</td>\n",
       "      <td>Grid Statistics</td>\n",
       "      <td>gridstat</td>\n",
       "      <td>0</td>\n",
       "      <td>gridstat@nanohub.org</td>\n",
       "      <td>0</td>\n",
       "      <td>2008-11-18 17:29:56</td>\n",
       "      <td>2020-02-14 18:50:14</td>\n",
       "    </tr>\n",
       "    <tr>\n",
       "      <th>3</th>\n",
       "      <td>1685</td>\n",
       "      <td>NCN NCN</td>\n",
       "      <td>ncn</td>\n",
       "      <td>0</td>\n",
       "      <td>ncn@nanohub.org</td>\n",
       "      <td>0</td>\n",
       "      <td>2008-11-11 19:17:04</td>\n",
       "      <td>NaT</td>\n",
       "    </tr>\n",
       "    <tr>\n",
       "      <th>4</th>\n",
       "      <td>1686</td>\n",
       "      <td>nanoHUB nanoHUB</td>\n",
       "      <td>nanohub</td>\n",
       "      <td>0</td>\n",
       "      <td>apps@nanohub.org</td>\n",
       "      <td>0</td>\n",
       "      <td>2014-06-26 19:38:57</td>\n",
       "      <td>NaT</td>\n",
       "    </tr>\n",
       "  </tbody>\n",
       "</table>\n",
       "</div>"
      ],
      "text/plain": [
       "     id             name  username  block                 email  sendEmail  \\\n",
       "0   998  hubrepo hubrepo   hubrepo      0    nkissebe@gmail.com          0   \n",
       "1  1683  nanoHUB support   support      0   support@nanohub.org          0   \n",
       "2  1684  Grid Statistics  gridstat      0  gridstat@nanohub.org          0   \n",
       "3  1685          NCN NCN       ncn      0       ncn@nanohub.org          0   \n",
       "4  1686  nanoHUB nanoHUB   nanohub      0      apps@nanohub.org          0   \n",
       "\n",
       "         registerDate       lastvisitDate  \n",
       "0 2014-11-13 21:09:09                 NaT  \n",
       "1 2008-11-19 22:51:04 2008-11-19 23:55:30  \n",
       "2 2008-11-18 17:29:56 2020-02-14 18:50:14  \n",
       "3 2008-11-11 19:17:04                 NaT  \n",
       "4 2014-06-26 19:38:57                 NaT  "
      ]
     },
     "metadata": {},
     "output_type": "display_data"
    },
    {
     "data": {
      "text/html": [
       "<div>\n",
       "<style scoped>\n",
       "    .dataframe tbody tr th:only-of-type {\n",
       "        vertical-align: middle;\n",
       "    }\n",
       "\n",
       "    .dataframe tbody tr th {\n",
       "        vertical-align: top;\n",
       "    }\n",
       "\n",
       "    .dataframe thead th {\n",
       "        text-align: right;\n",
       "    }\n",
       "</style>\n",
       "<table border=\"1\" class=\"dataframe\">\n",
       "  <thead>\n",
       "    <tr style=\"text-align: right;\">\n",
       "      <th></th>\n",
       "      <th>id</th>\n",
       "      <th>name</th>\n",
       "      <th>username</th>\n",
       "      <th>block</th>\n",
       "      <th>email</th>\n",
       "      <th>sendEmail</th>\n",
       "      <th>registerDate</th>\n",
       "      <th>lastvisitDate</th>\n",
       "    </tr>\n",
       "  </thead>\n",
       "  <tbody>\n",
       "    <tr>\n",
       "      <th>263937</th>\n",
       "      <td>345791</td>\n",
       "      <td>VENKATA ANIRUDH KOMAL KODAVALI</td>\n",
       "      <td>anirudh_k</td>\n",
       "      <td>0</td>\n",
       "      <td>venkata_a@ec.iitr.ac.in</td>\n",
       "      <td>0</td>\n",
       "      <td>2021-11-12 18:06:19</td>\n",
       "      <td>2021-11-12 18:06:19</td>\n",
       "    </tr>\n",
       "    <tr>\n",
       "      <th>263938</th>\n",
       "      <td>345792</td>\n",
       "      <td>vishesh chandrikapure</td>\n",
       "      <td>visheshc38</td>\n",
       "      <td>0</td>\n",
       "      <td>visheshc38@gmail.com</td>\n",
       "      <td>0</td>\n",
       "      <td>2021-11-12 18:15:28</td>\n",
       "      <td>2021-11-12 18:15:28</td>\n",
       "    </tr>\n",
       "    <tr>\n",
       "      <th>263939</th>\n",
       "      <td>345793</td>\n",
       "      <td>Rahul Kumar</td>\n",
       "      <td>rahul20150133775</td>\n",
       "      <td>0</td>\n",
       "      <td>rahul20150133775@gmail.com</td>\n",
       "      <td>0</td>\n",
       "      <td>2021-11-12 18:30:07</td>\n",
       "      <td>2021-11-12 18:30:07</td>\n",
       "    </tr>\n",
       "    <tr>\n",
       "      <th>263940</th>\n",
       "      <td>345795</td>\n",
       "      <td>Karan Kannoujiya</td>\n",
       "      <td>kannoujiya432</td>\n",
       "      <td>0</td>\n",
       "      <td>kannoujiya432@gmail.com</td>\n",
       "      <td>0</td>\n",
       "      <td>2021-11-12 18:37:49</td>\n",
       "      <td>2021-11-12 18:37:49</td>\n",
       "    </tr>\n",
       "    <tr>\n",
       "      <th>263941</th>\n",
       "      <td>345796</td>\n",
       "      <td>sarana solusindo informatika</td>\n",
       "      <td>solusitraining</td>\n",
       "      <td>0</td>\n",
       "      <td>annurulizza3@gmail.com</td>\n",
       "      <td>0</td>\n",
       "      <td>2021-11-12 18:42:07</td>\n",
       "      <td>2021-11-12 18:43:58</td>\n",
       "    </tr>\n",
       "  </tbody>\n",
       "</table>\n",
       "</div>"
      ],
      "text/plain": [
       "            id                            name          username  block  \\\n",
       "263937  345791  VENKATA ANIRUDH KOMAL KODAVALI         anirudh_k      0   \n",
       "263938  345792           vishesh chandrikapure        visheshc38      0   \n",
       "263939  345793                     Rahul Kumar  rahul20150133775      0   \n",
       "263940  345795                Karan Kannoujiya     kannoujiya432      0   \n",
       "263941  345796    sarana solusindo informatika    solusitraining      0   \n",
       "\n",
       "                             email  sendEmail        registerDate  \\\n",
       "263937     venkata_a@ec.iitr.ac.in          0 2021-11-12 18:06:19   \n",
       "263938        visheshc38@gmail.com          0 2021-11-12 18:15:28   \n",
       "263939  rahul20150133775@gmail.com          0 2021-11-12 18:30:07   \n",
       "263940     kannoujiya432@gmail.com          0 2021-11-12 18:37:49   \n",
       "263941      annurulizza3@gmail.com          0 2021-11-12 18:42:07   \n",
       "\n",
       "             lastvisitDate  \n",
       "263937 2021-11-12 18:06:19  \n",
       "263938 2021-11-12 18:15:28  \n",
       "263939 2021-11-12 18:30:07  \n",
       "263940 2021-11-12 18:37:49  \n",
       "263941 2021-11-12 18:43:58  "
      ]
     },
     "metadata": {},
     "output_type": "display_data"
    },
    {
     "data": {
      "text/html": [
       "<div>\n",
       "<style scoped>\n",
       "    .dataframe tbody tr th:only-of-type {\n",
       "        vertical-align: middle;\n",
       "    }\n",
       "\n",
       "    .dataframe tbody tr th {\n",
       "        vertical-align: top;\n",
       "    }\n",
       "\n",
       "    .dataframe thead th {\n",
       "        text-align: right;\n",
       "    }\n",
       "</style>\n",
       "<table border=\"1\" class=\"dataframe\">\n",
       "  <thead>\n",
       "    <tr style=\"text-align: right;\">\n",
       "      <th></th>\n",
       "      <th>id</th>\n",
       "      <th>user_id</th>\n",
       "      <th>profile_key</th>\n",
       "      <th>profile_value</th>\n",
       "      <th>ordering</th>\n",
       "      <th>access</th>\n",
       "    </tr>\n",
       "  </thead>\n",
       "  <tbody>\n",
       "    <tr>\n",
       "      <th>0</th>\n",
       "      <td>1</td>\n",
       "      <td>15623</td>\n",
       "      <td>orgtype</td>\n",
       "      <td>university</td>\n",
       "      <td>2</td>\n",
       "      <td>5</td>\n",
       "    </tr>\n",
       "  </tbody>\n",
       "</table>\n",
       "</div>"
      ],
      "text/plain": [
       "   id  user_id profile_key profile_value  ordering  access\n",
       "0   1    15623     orgtype    university         2       5"
      ]
     },
     "metadata": {},
     "output_type": "display_data"
    }
   ],
   "source": [
    "# display\n",
    "display(df.head())\n",
    "display(df.tail())\n",
    "\n",
    "display(profile_df.head(1))"
   ]
  },
  {
   "cell_type": "code",
   "execution_count": 7,
   "metadata": {
    "collapsed": false,
    "execution": {
     "iopub.execute_input": "2021-11-12T18:45:47.571855Z",
     "iopub.status.busy": "2021-11-12T18:45:47.571613Z",
     "iopub.status.idle": "2021-11-12T18:45:48.633013Z",
     "shell.execute_reply": "2021-11-12T18:45:48.632039Z",
     "shell.execute_reply.started": "2021-11-12T18:45:47.571820Z"
    },
    "jupyter": {
     "outputs_hidden": false
    },
    "pycharm": {
     "name": "#%%\n"
    },
    "tags": []
   },
   "outputs": [
    {
     "data": {
      "text/html": [
       "<div>\n",
       "<style scoped>\n",
       "    .dataframe tbody tr th:only-of-type {\n",
       "        vertical-align: middle;\n",
       "    }\n",
       "\n",
       "    .dataframe tbody tr th {\n",
       "        vertical-align: top;\n",
       "    }\n",
       "\n",
       "    .dataframe thead th {\n",
       "        text-align: right;\n",
       "    }\n",
       "</style>\n",
       "<table border=\"1\" class=\"dataframe\">\n",
       "  <thead>\n",
       "    <tr style=\"text-align: right;\">\n",
       "      <th></th>\n",
       "      <th>id</th>\n",
       "      <th>name</th>\n",
       "      <th>username</th>\n",
       "      <th>block</th>\n",
       "      <th>email</th>\n",
       "      <th>sendEmail</th>\n",
       "      <th>registerDate</th>\n",
       "      <th>lastvisitDate</th>\n",
       "      <th>orgtype</th>\n",
       "      <th>organization</th>\n",
       "      <th>orcid</th>\n",
       "    </tr>\n",
       "  </thead>\n",
       "  <tbody>\n",
       "    <tr>\n",
       "      <th>0</th>\n",
       "      <td>998</td>\n",
       "      <td>hubrepo hubrepo</td>\n",
       "      <td>hubrepo</td>\n",
       "      <td>0</td>\n",
       "      <td>nkissebe@gmail.com</td>\n",
       "      <td>0</td>\n",
       "      <td>2014-11-13 21:09:09</td>\n",
       "      <td>NaT</td>\n",
       "      <td>NaN</td>\n",
       "      <td>NaN</td>\n",
       "      <td>NaN</td>\n",
       "    </tr>\n",
       "  </tbody>\n",
       "</table>\n",
       "</div>"
      ],
      "text/plain": [
       "    id             name username  block               email  sendEmail  \\\n",
       "0  998  hubrepo hubrepo  hubrepo      0  nkissebe@gmail.com          0   \n",
       "\n",
       "         registerDate lastvisitDate orgtype organization orcid  \n",
       "0 2014-11-13 21:09:09           NaT     NaN          NaN   NaN  "
      ]
     },
     "metadata": {},
     "output_type": "display_data"
    }
   ],
   "source": [
    "df = pd.merge(df, profile_df[profile_df['profile_key'] == 'orgtype'][['user_id', 'profile_value']],how='left', left_on='id', right_on='user_id').drop(columns=['user_id']).rename(columns={'profile_value':'orgtype'})\n",
    "\n",
    "df = pd.merge(df, profile_df[profile_df['profile_key'] == 'organization'][['user_id', 'profile_value']],how='left', left_on='id', right_on='user_id').drop(columns=['user_id']).rename(columns={'profile_value':'organization'})\n",
    "\n",
    "df = pd.merge(df, profile_df[profile_df['profile_key'] == 'orcid'][['user_id', 'profile_value']],how='left', left_on='id', right_on='user_id').drop(columns=['user_id']).rename(columns={'profile_value':'orcid'})\n",
    "\n",
    "# display\n",
    "display(df.head(1))"
   ]
  },
  {
   "cell_type": "code",
   "execution_count": 8,
   "metadata": {
    "collapsed": false,
    "execution": {
     "iopub.execute_input": "2021-11-12T18:45:48.636593Z",
     "iopub.status.busy": "2021-11-12T18:45:48.636314Z",
     "iopub.status.idle": "2021-11-12T18:51:58.480096Z",
     "shell.execute_reply": "2021-11-12T18:51:58.479293Z",
     "shell.execute_reply.started": "2021-11-12T18:45:48.636559Z"
    },
    "jupyter": {
     "outputs_hidden": false
    },
    "pycharm": {
     "name": "#%%\n"
    },
    "tags": []
   },
   "outputs": [
    {
     "data": {
      "text/html": [
       "<div>\n",
       "<style scoped>\n",
       "    .dataframe tbody tr th:only-of-type {\n",
       "        vertical-align: middle;\n",
       "    }\n",
       "\n",
       "    .dataframe tbody tr th {\n",
       "        vertical-align: top;\n",
       "    }\n",
       "\n",
       "    .dataframe thead th {\n",
       "        text-align: right;\n",
       "    }\n",
       "</style>\n",
       "<table border=\"1\" class=\"dataframe\">\n",
       "  <thead>\n",
       "    <tr style=\"text-align: right;\">\n",
       "      <th></th>\n",
       "      <th>domain_name</th>\n",
       "      <th>domain</th>\n",
       "      <th>industry</th>\n",
       "      <th>size</th>\n",
       "      <th>country</th>\n",
       "    </tr>\n",
       "  </thead>\n",
       "  <tbody>\n",
       "    <tr>\n",
       "      <th>0</th>\n",
       "      <td>strategic interns</td>\n",
       "      <td>strategicinterns.com</td>\n",
       "      <td>education management</td>\n",
       "      <td>1-10</td>\n",
       "      <td>india</td>\n",
       "    </tr>\n",
       "    <tr>\n",
       "      <th>1</th>\n",
       "      <td>bosque y comunidad</td>\n",
       "      <td>bosqueycomunidad.org</td>\n",
       "      <td>non-profit organization management</td>\n",
       "      <td>1-10</td>\n",
       "      <td>spain</td>\n",
       "    </tr>\n",
       "    <tr>\n",
       "      <th>2</th>\n",
       "      <td>alaric as</td>\n",
       "      <td>alaric.no</td>\n",
       "      <td>management consulting</td>\n",
       "      <td>1-10</td>\n",
       "      <td>None</td>\n",
       "    </tr>\n",
       "    <tr>\n",
       "      <th>3</th>\n",
       "      <td>tws technology inc.</td>\n",
       "      <td>talkwithsam.co</td>\n",
       "      <td>computer software</td>\n",
       "      <td>1-10</td>\n",
       "      <td>None</td>\n",
       "    </tr>\n",
       "    <tr>\n",
       "      <th>4</th>\n",
       "      <td>cardinal strategies, llc</td>\n",
       "      <td>cardinal-strategies.com</td>\n",
       "      <td>civil engineering</td>\n",
       "      <td>11-50</td>\n",
       "      <td>united states</td>\n",
       "    </tr>\n",
       "  </tbody>\n",
       "</table>\n",
       "</div>"
      ],
      "text/plain": [
       "                domain_name                   domain  \\\n",
       "0         strategic interns     strategicinterns.com   \n",
       "1        bosque y comunidad     bosqueycomunidad.org   \n",
       "2                 alaric as                alaric.no   \n",
       "3       tws technology inc.           talkwithsam.co   \n",
       "4  cardinal strategies, llc  cardinal-strategies.com   \n",
       "\n",
       "                             industry   size        country  \n",
       "0                education management   1-10          india  \n",
       "1  non-profit organization management   1-10          spain  \n",
       "2               management consulting   1-10           None  \n",
       "3                   computer software   1-10           None  \n",
       "4                   civil engineering  11-50  united states  "
      ]
     },
     "metadata": {},
     "output_type": "display_data"
    }
   ],
   "source": [
    "# Obtain company domain information from DB2\n",
    "domain_df = pd.read_sql_query(\"select name as domain_name, domain, industry, `size range` as size, country from wang159_myrmekes.companies_email_domain\", nanohub_db)\n",
    "\n",
    "display(domain_df.head())"
   ]
  },
  {
   "cell_type": "code",
   "execution_count": 9,
   "metadata": {
    "collapsed": false,
    "execution": {
     "iopub.execute_input": "2021-11-12T18:51:58.482518Z",
     "iopub.status.busy": "2021-11-12T18:51:58.482228Z",
     "iopub.status.idle": "2021-11-12T18:52:08.772560Z",
     "shell.execute_reply": "2021-11-12T18:52:08.771155Z",
     "shell.execute_reply.started": "2021-11-12T18:51:58.482484Z"
    },
    "jupyter": {
     "outputs_hidden": false
    },
    "pycharm": {
     "name": "#%%\n"
    },
    "tags": []
   },
   "outputs": [],
   "source": [
    "# make sure domain is unique and drop NaN\n",
    "domain_df = domain_df.drop_duplicates(subset='domain', keep='first').dropna()"
   ]
  },
  {
   "cell_type": "code",
   "execution_count": 10,
   "metadata": {
    "collapsed": false,
    "execution": {
     "iopub.execute_input": "2021-11-12T18:52:08.774864Z",
     "iopub.status.busy": "2021-11-12T18:52:08.774392Z",
     "iopub.status.idle": "2021-11-12T18:52:08.904636Z",
     "shell.execute_reply": "2021-11-12T18:52:08.903519Z",
     "shell.execute_reply.started": "2021-11-12T18:52:08.774827Z"
    },
    "jupyter": {
     "outputs_hidden": false
    },
    "pycharm": {
     "name": "#%%\n"
    },
    "tags": []
   },
   "outputs": [],
   "source": [
    "# get email domain of nanoHUB users\n",
    "def get_domain(this_email):\n",
    "    seg_list = this_email.split('@')\n",
    "\n",
    "    if len(seg_list) == 2:\n",
    "        return seg_list[1].lower()\n",
    "    else:\n",
    "        return None\n",
    "\n",
    "df['email_host'] = df['email'].apply(get_domain)"
   ]
  },
  {
   "cell_type": "raw",
   "metadata": {},
   "source": [
    "df = pd.merge(df, domain_df[domain_df.domain.isin(df['email_domain'].unique()) & ~domain_df.domain.isna()], how='left', left_on='email_domain', right_on='domain')\n",
    "\n",
    "# display\n",
    "display(df.head(2))"
   ]
  },
  {
   "cell_type": "code",
   "execution_count": 11,
   "metadata": {
    "collapsed": false,
    "execution": {
     "iopub.execute_input": "2021-11-12T18:52:08.906250Z",
     "iopub.status.busy": "2021-11-12T18:52:08.905966Z",
     "iopub.status.idle": "2021-11-12T18:52:09.089347Z",
     "shell.execute_reply": "2021-11-12T18:52:09.088303Z",
     "shell.execute_reply.started": "2021-11-12T18:52:08.906179Z"
    },
    "jupyter": {
     "outputs_hidden": false
    },
    "pycharm": {
     "name": "#%%\n"
    },
    "tags": []
   },
   "outputs": [],
   "source": [
    "# get domain by nanoHUB organization field\n",
    "df['organization'] = df.organization.astype('str').apply(str.lower)\n",
    "\n",
    "df.loc[(df['organization']=='nan'),'organization'] = None"
   ]
  },
  {
   "cell_type": "code",
   "execution_count": 12,
   "metadata": {
    "collapsed": false,
    "execution": {
     "iopub.execute_input": "2021-11-12T18:52:09.091234Z",
     "iopub.status.busy": "2021-11-12T18:52:09.090825Z",
     "iopub.status.idle": "2021-11-12T18:52:10.038596Z",
     "shell.execute_reply": "2021-11-12T18:52:10.037069Z",
     "shell.execute_reply.started": "2021-11-12T18:52:09.091148Z"
    },
    "jupyter": {
     "outputs_hidden": false
    },
    "pycharm": {
     "name": "#%%\n"
    }
   },
   "outputs": [
    {
     "name": "stderr",
     "output_type": "stream",
     "text": [
      "[nltk_data] Downloading package stopwords to\n",
      "[nltk_data]     /home/saxenap/venv/nltk_data...\n",
      "[nltk_data]   Package stopwords is already up-to-date!\n"
     ]
    }
   ],
   "source": [
    "import nltk\n",
    "nltk.download('stopwords')\n",
    "\n",
    "from nltk.corpus import stopwords\n",
    "s_words = stopwords.words('english')"
   ]
  },
  {
   "cell_type": "code",
   "execution_count": 13,
   "metadata": {
    "collapsed": false,
    "execution": {
     "iopub.execute_input": "2021-11-12T18:52:10.040943Z",
     "iopub.status.busy": "2021-11-12T18:52:10.040625Z",
     "iopub.status.idle": "2021-11-12T18:52:10.050109Z",
     "shell.execute_reply": "2021-11-12T18:52:10.048382Z",
     "shell.execute_reply.started": "2021-11-12T18:52:10.040905Z"
    },
    "jupyter": {
     "outputs_hidden": false
    },
    "pycharm": {
     "name": "#%%\n"
    }
   },
   "outputs": [],
   "source": [
    "import re\n",
    "\n",
    "def clean_domain(this_domain_name):\n",
    "\n",
    "    if not this_domain_name:\n",
    "        return None\n",
    "\n",
    "    # Replace all non-alphanumeric characters with space\n",
    "    this_domain_name = re.sub(\"[^0-9a-zA-Z]+\", \" \", this_domain_name.lower())\n",
    "    name_list = this_domain_name.split(' ')\n",
    "\n",
    "    # remove all stop words\n",
    "    name_list = ['' if x in s_words else x for x in name_list]\n",
    "\n",
    "    return set(filter(None, name_list))"
   ]
  },
  {
   "cell_type": "code",
   "execution_count": 14,
   "metadata": {
    "collapsed": false,
    "execution": {
     "iopub.execute_input": "2021-11-12T18:52:10.052259Z",
     "iopub.status.busy": "2021-11-12T18:52:10.052004Z",
     "iopub.status.idle": "2021-11-12T18:52:45.322813Z",
     "shell.execute_reply": "2021-11-12T18:52:45.321843Z",
     "shell.execute_reply.started": "2021-11-12T18:52:10.052227Z"
    },
    "jupyter": {
     "outputs_hidden": false
    },
    "pycharm": {
     "name": "#%%\n"
    }
   },
   "outputs": [],
   "source": [
    "# clean domain name\n",
    "domain_df['domain_cleaned_set'] = domain_df.domain_name.apply(clean_domain)\n",
    "\n",
    "# clean nanohub org name\n",
    "df['org_cleaned_set'] = df.organization.apply(clean_domain)"
   ]
  },
  {
   "cell_type": "code",
   "execution_count": 15,
   "metadata": {
    "collapsed": false,
    "execution": {
     "iopub.execute_input": "2021-11-12T18:52:45.324805Z",
     "iopub.status.busy": "2021-11-12T18:52:45.323819Z",
     "iopub.status.idle": "2021-11-12T18:52:48.157618Z",
     "shell.execute_reply": "2021-11-12T18:52:48.156954Z",
     "shell.execute_reply.started": "2021-11-12T18:52:45.324773Z"
    },
    "jupyter": {
     "outputs_hidden": false
    },
    "pycharm": {
     "name": "#%%\n"
    }
   },
   "outputs": [],
   "source": [
    "# hash cleaned domain name\n",
    "domain_df['domain_cleaned_hash'] = domain_df['domain_cleaned_set'].apply(lambda x: '-'.join(sorted(list(x))) if x else None)\n",
    "\n",
    "# hash cleaned clean nanohub org name\n",
    "df['org_cleaned_hash'] = df['org_cleaned_set'].apply(lambda x: '-'.join(sorted(list(x))) if x else None)"
   ]
  },
  {
   "cell_type": "markdown",
   "metadata": {},
   "source": [
    "## Collaborative filtering for commerical email hosts"
   ]
  },
  {
   "cell_type": "code",
   "execution_count": 16,
   "metadata": {
    "collapsed": false,
    "execution": {
     "iopub.execute_input": "2021-11-12T18:52:48.158949Z",
     "iopub.status.busy": "2021-11-12T18:52:48.158412Z",
     "iopub.status.idle": "2021-11-12T18:52:54.928680Z",
     "shell.execute_reply": "2021-11-12T18:52:54.926922Z",
     "shell.execute_reply.started": "2021-11-12T18:52:48.158920Z"
    },
    "jupyter": {
     "outputs_hidden": false
    },
    "pycharm": {
     "name": "#%%\n"
    }
   },
   "outputs": [],
   "source": [
    "def predict_if_commerical(this_email_host_df):\n",
    "    # predict if this email host is commerical\n",
    "    top_cnt = this_email_host_df['org_cleaned_hash'].value_counts()\n",
    "\n",
    "    if top_cnt.shape[0] > 0:\n",
    "        if (top_cnt.iloc[0]/top_cnt.sum()) < 0.2:\n",
    "            return True\n",
    "        else:\n",
    "            return False\n",
    "\n",
    "    else:\n",
    "        return False\n",
    "\n",
    "is_email_commerical = df[['email_host', 'org_cleaned_hash']].groupby('email_host').apply(predict_if_commerical)"
   ]
  },
  {
   "cell_type": "code",
   "execution_count": 17,
   "metadata": {
    "collapsed": false,
    "execution": {
     "iopub.execute_input": "2021-11-12T18:52:54.931504Z",
     "iopub.status.busy": "2021-11-12T18:52:54.930393Z",
     "iopub.status.idle": "2021-11-12T18:52:55.307258Z",
     "shell.execute_reply": "2021-11-12T18:52:55.306241Z",
     "shell.execute_reply.started": "2021-11-12T18:52:54.931327Z"
    },
    "jupyter": {
     "outputs_hidden": false
    },
    "pycharm": {
     "name": "#%%\n"
    }
   },
   "outputs": [],
   "source": [
    "# mark commerical email addresses\n",
    "df = pd.merge(df, is_email_commerical.reset_index(name='is_email_commerical'), how='left', left_on='email_host', right_on='email_host' ,)"
   ]
  },
  {
   "cell_type": "code",
   "execution_count": 18,
   "metadata": {
    "collapsed": false,
    "execution": {
     "iopub.execute_input": "2021-11-12T18:52:55.309158Z",
     "iopub.status.busy": "2021-11-12T18:52:55.308926Z",
     "iopub.status.idle": "2021-11-12T18:53:03.624520Z",
     "shell.execute_reply": "2021-11-12T18:53:03.623757Z",
     "shell.execute_reply.started": "2021-11-12T18:52:55.309127Z"
    },
    "jupyter": {
     "outputs_hidden": false
    },
    "pycharm": {
     "name": "#%%\n"
    }
   },
   "outputs": [
    {
     "data": {
      "text/html": [
       "<div>\n",
       "<style scoped>\n",
       "    .dataframe tbody tr th:only-of-type {\n",
       "        vertical-align: middle;\n",
       "    }\n",
       "\n",
       "    .dataframe tbody tr th {\n",
       "        vertical-align: top;\n",
       "    }\n",
       "\n",
       "    .dataframe thead th {\n",
       "        text-align: right;\n",
       "    }\n",
       "</style>\n",
       "<table border=\"1\" class=\"dataframe\">\n",
       "  <thead>\n",
       "    <tr style=\"text-align: right;\">\n",
       "      <th></th>\n",
       "      <th>0</th>\n",
       "      <th>1</th>\n",
       "    </tr>\n",
       "  </thead>\n",
       "  <tbody>\n",
       "    <tr>\n",
       "      <th>id</th>\n",
       "      <td>998</td>\n",
       "      <td>1683</td>\n",
       "    </tr>\n",
       "    <tr>\n",
       "      <th>name</th>\n",
       "      <td>hubrepo hubrepo</td>\n",
       "      <td>nanoHUB support</td>\n",
       "    </tr>\n",
       "    <tr>\n",
       "      <th>username</th>\n",
       "      <td>hubrepo</td>\n",
       "      <td>support</td>\n",
       "    </tr>\n",
       "    <tr>\n",
       "      <th>block</th>\n",
       "      <td>0</td>\n",
       "      <td>0</td>\n",
       "    </tr>\n",
       "    <tr>\n",
       "      <th>email</th>\n",
       "      <td>nkissebe@gmail.com</td>\n",
       "      <td>support@nanohub.org</td>\n",
       "    </tr>\n",
       "    <tr>\n",
       "      <th>sendEmail</th>\n",
       "      <td>0</td>\n",
       "      <td>0</td>\n",
       "    </tr>\n",
       "    <tr>\n",
       "      <th>registerDate</th>\n",
       "      <td>2014-11-13 21:09:09</td>\n",
       "      <td>2008-11-19 22:51:04</td>\n",
       "    </tr>\n",
       "    <tr>\n",
       "      <th>lastvisitDate</th>\n",
       "      <td>NaT</td>\n",
       "      <td>2008-11-19 23:55:30</td>\n",
       "    </tr>\n",
       "    <tr>\n",
       "      <th>orgtype</th>\n",
       "      <td>NaN</td>\n",
       "      <td>university</td>\n",
       "    </tr>\n",
       "    <tr>\n",
       "      <th>organization</th>\n",
       "      <td>None</td>\n",
       "      <td>purdue university</td>\n",
       "    </tr>\n",
       "    <tr>\n",
       "      <th>orcid</th>\n",
       "      <td>NaN</td>\n",
       "      <td>NaN</td>\n",
       "    </tr>\n",
       "    <tr>\n",
       "      <th>email_host</th>\n",
       "      <td>gmail.com</td>\n",
       "      <td>nanohub.org</td>\n",
       "    </tr>\n",
       "    <tr>\n",
       "      <th>org_cleaned_set</th>\n",
       "      <td>None</td>\n",
       "      <td>{university, purdue}</td>\n",
       "    </tr>\n",
       "    <tr>\n",
       "      <th>org_cleaned_hash</th>\n",
       "      <td>None</td>\n",
       "      <td>purdue-university</td>\n",
       "    </tr>\n",
       "    <tr>\n",
       "      <th>is_email_commerical</th>\n",
       "      <td>True</td>\n",
       "      <td>False</td>\n",
       "    </tr>\n",
       "    <tr>\n",
       "      <th>domain_by_email</th>\n",
       "      <td>NaN</td>\n",
       "      <td>NaN</td>\n",
       "    </tr>\n",
       "  </tbody>\n",
       "</table>\n",
       "</div>"
      ],
      "text/plain": [
       "                                       0                     1\n",
       "id                                   998                  1683\n",
       "name                     hubrepo hubrepo       nanoHUB support\n",
       "username                         hubrepo               support\n",
       "block                                  0                     0\n",
       "email                 nkissebe@gmail.com   support@nanohub.org\n",
       "sendEmail                              0                     0\n",
       "registerDate         2014-11-13 21:09:09   2008-11-19 22:51:04\n",
       "lastvisitDate                        NaT   2008-11-19 23:55:30\n",
       "orgtype                              NaN            university\n",
       "organization                        None     purdue university\n",
       "orcid                                NaN                   NaN\n",
       "email_host                     gmail.com           nanohub.org\n",
       "org_cleaned_set                     None  {university, purdue}\n",
       "org_cleaned_hash                    None     purdue-university\n",
       "is_email_commerical                 True                 False\n",
       "domain_by_email                      NaN                   NaN"
      ]
     },
     "metadata": {},
     "output_type": "display_data"
    }
   ],
   "source": [
    "# obtain domain estimation from email addresses\n",
    "df = pd.merge(df, domain_df[~domain_df.domain.isin(is_email_commerical[is_email_commerical].index)]['domain'], how='left', left_on='email_host', right_on='domain').rename(columns={'domain':'domain_by_email'})\n",
    "\n",
    "# display\n",
    "display(df.head(2).T)"
   ]
  },
  {
   "cell_type": "markdown",
   "metadata": {},
   "source": [
    "## Fuzzy derive organization from nanoHUB profiles"
   ]
  },
  {
   "cell_type": "code",
   "execution_count": 19,
   "metadata": {
    "collapsed": false,
    "execution": {
     "iopub.execute_input": "2021-11-12T18:53:03.626498Z",
     "iopub.status.busy": "2021-11-12T18:53:03.626205Z",
     "iopub.status.idle": "2021-11-12T18:53:04.847214Z",
     "shell.execute_reply": "2021-11-12T18:53:04.846009Z",
     "shell.execute_reply.started": "2021-11-12T18:53:03.626464Z"
    },
    "jupyter": {
     "outputs_hidden": false
    },
    "pycharm": {
     "name": "#%%\n"
    }
   },
   "outputs": [
    {
     "data": {
      "text/html": [
       "<div>\n",
       "<style scoped>\n",
       "    .dataframe tbody tr th:only-of-type {\n",
       "        vertical-align: middle;\n",
       "    }\n",
       "\n",
       "    .dataframe tbody tr th {\n",
       "        vertical-align: top;\n",
       "    }\n",
       "\n",
       "    .dataframe thead th {\n",
       "        text-align: right;\n",
       "    }\n",
       "</style>\n",
       "<table border=\"1\" class=\"dataframe\">\n",
       "  <thead>\n",
       "    <tr style=\"text-align: right;\">\n",
       "      <th></th>\n",
       "      <th>138129</th>\n",
       "      <th>34372</th>\n",
       "      <th>143786</th>\n",
       "      <th>135674</th>\n",
       "      <th>233466</th>\n",
       "    </tr>\n",
       "  </thead>\n",
       "  <tbody>\n",
       "    <tr>\n",
       "      <th>id</th>\n",
       "      <td>161580</td>\n",
       "      <td>37776</td>\n",
       "      <td>169032</td>\n",
       "      <td>158575</td>\n",
       "      <td>306619</td>\n",
       "    </tr>\n",
       "    <tr>\n",
       "      <th>name</th>\n",
       "      <td>Yunqing Tang</td>\n",
       "      <td>Max Paganini</td>\n",
       "      <td>Christopher Sole</td>\n",
       "      <td>Yong Zhang</td>\n",
       "      <td>Daniel sousa Filho</td>\n",
       "    </tr>\n",
       "    <tr>\n",
       "      <th>username</th>\n",
       "      <td>yunqing</td>\n",
       "      <td>mpaganin</td>\n",
       "      <td>cgsole46</td>\n",
       "      <td>rafemicky</td>\n",
       "      <td>danielsousaflor2014</td>\n",
       "    </tr>\n",
       "    <tr>\n",
       "      <th>block</th>\n",
       "      <td>0</td>\n",
       "      <td>0</td>\n",
       "      <td>0</td>\n",
       "      <td>0</td>\n",
       "      <td>0</td>\n",
       "    </tr>\n",
       "    <tr>\n",
       "      <th>email</th>\n",
       "      <td>yqing518@gmail.com</td>\n",
       "      <td>mpaganin@purdue.edu</td>\n",
       "      <td>cgsole46@liv.ac.uk</td>\n",
       "      <td>hitrafe@163.com</td>\n",
       "      <td>danielsousaflor2014@gmail.com</td>\n",
       "    </tr>\n",
       "    <tr>\n",
       "      <th>sendEmail</th>\n",
       "      <td>0</td>\n",
       "      <td>0</td>\n",
       "      <td>0</td>\n",
       "      <td>0</td>\n",
       "      <td>0</td>\n",
       "    </tr>\n",
       "    <tr>\n",
       "      <th>registerDate</th>\n",
       "      <td>2017-01-09 10:37:54</td>\n",
       "      <td>2009-09-03 18:06:48</td>\n",
       "      <td>2017-04-07 15:39:31</td>\n",
       "      <td>2016-11-21 09:10:25</td>\n",
       "      <td>2020-11-08 15:32:13</td>\n",
       "    </tr>\n",
       "    <tr>\n",
       "      <th>lastvisitDate</th>\n",
       "      <td>2017-02-01 19:04:42</td>\n",
       "      <td>2009-09-04 01:30:46</td>\n",
       "      <td>2017-04-07 15:40:05</td>\n",
       "      <td>2016-11-21 09:10:40</td>\n",
       "      <td>2020-12-02 12:04:19</td>\n",
       "    </tr>\n",
       "    <tr>\n",
       "      <th>orgtype</th>\n",
       "      <td>NaN</td>\n",
       "      <td>universityundergraduate</td>\n",
       "      <td>NaN</td>\n",
       "      <td>NaN</td>\n",
       "      <td>universityfaculty</td>\n",
       "    </tr>\n",
       "    <tr>\n",
       "      <th>organization</th>\n",
       "      <td>None</td>\n",
       "      <td>purdue university</td>\n",
       "      <td>None</td>\n",
       "      <td>None</td>\n",
       "      <td>None</td>\n",
       "    </tr>\n",
       "    <tr>\n",
       "      <th>orcid</th>\n",
       "      <td>NaN</td>\n",
       "      <td>NaN</td>\n",
       "      <td>NaN</td>\n",
       "      <td>NaN</td>\n",
       "      <td>NaN</td>\n",
       "    </tr>\n",
       "    <tr>\n",
       "      <th>email_host</th>\n",
       "      <td>gmail.com</td>\n",
       "      <td>purdue.edu</td>\n",
       "      <td>liv.ac.uk</td>\n",
       "      <td>163.com</td>\n",
       "      <td>gmail.com</td>\n",
       "    </tr>\n",
       "    <tr>\n",
       "      <th>org_cleaned_set</th>\n",
       "      <td>None</td>\n",
       "      <td>{university, purdue}</td>\n",
       "      <td>None</td>\n",
       "      <td>None</td>\n",
       "      <td>None</td>\n",
       "    </tr>\n",
       "    <tr>\n",
       "      <th>org_cleaned_hash</th>\n",
       "      <td>None</td>\n",
       "      <td>purdue-university</td>\n",
       "      <td>None</td>\n",
       "      <td>None</td>\n",
       "      <td>None</td>\n",
       "    </tr>\n",
       "    <tr>\n",
       "      <th>is_email_commerical</th>\n",
       "      <td>True</td>\n",
       "      <td>False</td>\n",
       "      <td>False</td>\n",
       "      <td>False</td>\n",
       "      <td>True</td>\n",
       "    </tr>\n",
       "    <tr>\n",
       "      <th>domain_by_email</th>\n",
       "      <td>NaN</td>\n",
       "      <td>purdue.edu</td>\n",
       "      <td>liv.ac.uk</td>\n",
       "      <td>NaN</td>\n",
       "      <td>NaN</td>\n",
       "    </tr>\n",
       "    <tr>\n",
       "      <th>domain_by_profile</th>\n",
       "      <td>NaN</td>\n",
       "      <td>purdue.edu</td>\n",
       "      <td>NaN</td>\n",
       "      <td>NaN</td>\n",
       "      <td>NaN</td>\n",
       "    </tr>\n",
       "  </tbody>\n",
       "</table>\n",
       "</div>"
      ],
      "text/plain": [
       "                                  138129                   34372   \\\n",
       "id                                161580                    37776   \n",
       "name                        Yunqing Tang             Max Paganini   \n",
       "username                         yunqing                 mpaganin   \n",
       "block                                  0                        0   \n",
       "email                 yqing518@gmail.com      mpaganin@purdue.edu   \n",
       "sendEmail                              0                        0   \n",
       "registerDate         2017-01-09 10:37:54      2009-09-03 18:06:48   \n",
       "lastvisitDate        2017-02-01 19:04:42      2009-09-04 01:30:46   \n",
       "orgtype                              NaN  universityundergraduate   \n",
       "organization                        None        purdue university   \n",
       "orcid                                NaN                      NaN   \n",
       "email_host                     gmail.com               purdue.edu   \n",
       "org_cleaned_set                     None     {university, purdue}   \n",
       "org_cleaned_hash                    None        purdue-university   \n",
       "is_email_commerical                 True                    False   \n",
       "domain_by_email                      NaN               purdue.edu   \n",
       "domain_by_profile                    NaN               purdue.edu   \n",
       "\n",
       "                                  143786               135674  \\\n",
       "id                                169032               158575   \n",
       "name                    Christopher Sole           Yong Zhang   \n",
       "username                        cgsole46            rafemicky   \n",
       "block                                  0                    0   \n",
       "email                 cgsole46@liv.ac.uk      hitrafe@163.com   \n",
       "sendEmail                              0                    0   \n",
       "registerDate         2017-04-07 15:39:31  2016-11-21 09:10:25   \n",
       "lastvisitDate        2017-04-07 15:40:05  2016-11-21 09:10:40   \n",
       "orgtype                              NaN                  NaN   \n",
       "organization                        None                 None   \n",
       "orcid                                NaN                  NaN   \n",
       "email_host                     liv.ac.uk              163.com   \n",
       "org_cleaned_set                     None                 None   \n",
       "org_cleaned_hash                    None                 None   \n",
       "is_email_commerical                False                False   \n",
       "domain_by_email                liv.ac.uk                  NaN   \n",
       "domain_by_profile                    NaN                  NaN   \n",
       "\n",
       "                                            233466  \n",
       "id                                          306619  \n",
       "name                            Daniel sousa Filho  \n",
       "username                       danielsousaflor2014  \n",
       "block                                            0  \n",
       "email                danielsousaflor2014@gmail.com  \n",
       "sendEmail                                        0  \n",
       "registerDate                   2020-11-08 15:32:13  \n",
       "lastvisitDate                  2020-12-02 12:04:19  \n",
       "orgtype                          universityfaculty  \n",
       "organization                                  None  \n",
       "orcid                                          NaN  \n",
       "email_host                               gmail.com  \n",
       "org_cleaned_set                               None  \n",
       "org_cleaned_hash                              None  \n",
       "is_email_commerical                           True  \n",
       "domain_by_email                                NaN  \n",
       "domain_by_profile                              NaN  "
      ]
     },
     "execution_count": 19,
     "metadata": {},
     "output_type": "execute_result"
    }
   ],
   "source": [
    "# attempt direct join by hash\n",
    "domain_subset_df = domain_df[domain_df.domain.isin(df.email_host.unique())][['domain', 'domain_cleaned_hash']]\n",
    "domain_subset_df = domain_subset_df[~domain_subset_df.domain.isna()&~domain_subset_df.domain_cleaned_hash.isna()]\n",
    "\n",
    "derived_df = pd.merge(df, domain_subset_df.rename(columns={'domain':'domain_by_profile'}),how='left', left_on='org_cleaned_hash', right_on='domain_cleaned_hash').drop('domain_cleaned_hash', axis=1)\n",
    "\n",
    "# display\n",
    "derived_df.sample(5).T"
   ]
  },
  {
   "cell_type": "code",
   "execution_count": 20,
   "metadata": {
    "collapsed": false,
    "execution": {
     "iopub.execute_input": "2021-11-12T18:53:04.848966Z",
     "iopub.status.busy": "2021-11-12T18:53:04.848641Z",
     "iopub.status.idle": "2021-11-12T18:53:08.850481Z",
     "shell.execute_reply": "2021-11-12T18:53:08.849588Z",
     "shell.execute_reply.started": "2021-11-12T18:53:04.848908Z"
    },
    "jupyter": {
     "outputs_hidden": false
    },
    "pycharm": {
     "name": "#%%\n"
    }
   },
   "outputs": [],
   "source": [
    "# attempt to reduce domain_df size to speedup Jaccard calculation\n",
    "from itertools import chain\n",
    "\n",
    "all_word_set = set(chain.from_iterable(derived_df[(derived_df['domain_by_profile'].isna() & (~derived_df['organization'].isna()))].org_cleaned_set.values))\n",
    "\n",
    "# select the domain_df entry with words from all_word_set\n",
    "domain_subset_df = domain_df[domain_df.domain_cleaned_set.notnull()]\n",
    "domain_subset_df = domain_subset_df[domain_subset_df.domain_cleaned_set.apply(lambda x: True if len(x.intersection(all_word_set)) > 0 else False)]"
   ]
  },
  {
   "cell_type": "code",
   "execution_count": 21,
   "metadata": {
    "collapsed": false,
    "execution": {
     "iopub.execute_input": "2021-11-12T18:53:08.851974Z",
     "iopub.status.busy": "2021-11-12T18:53:08.851772Z",
     "iopub.status.idle": "2021-11-12T18:53:16.652331Z",
     "shell.execute_reply": "2021-11-12T18:53:16.650528Z",
     "shell.execute_reply.started": "2021-11-12T18:53:08.851941Z"
    },
    "jupyter": {
     "outputs_hidden": false
    },
    "pycharm": {
     "name": "#%%\n"
    }
   },
   "outputs": [],
   "source": [
    "def get_org(this_df):\n",
    "    # look at the cohort with this label, do they have a commonly agreed domain_by_email? If so, use it\n",
    "    this_dbe_count = this_df.domain_by_email.value_counts()\n",
    "\n",
    "    if this_dbe_count.shape[0] < 1:\n",
    "        return None\n",
    "\n",
    "    this_top_dbe_perc = this_dbe_count.iloc[0]/this_dbe_count.sum()\n",
    "\n",
    "    # if top choice occupies majority of cases, then this cohort can be implied to this domain_by_email address\n",
    "    if this_top_dbe_perc > 0.5:\n",
    "        return this_dbe_count.index[0]\n",
    "\n",
    "\n",
    "derived_hash = derived_df.groupby('org_cleaned_hash').apply(get_org)"
   ]
  },
  {
   "cell_type": "code",
   "execution_count": 22,
   "metadata": {
    "collapsed": false,
    "execution": {
     "iopub.execute_input": "2021-11-12T18:53:16.657772Z",
     "iopub.status.busy": "2021-11-12T18:53:16.657208Z",
     "iopub.status.idle": "2021-11-12T18:53:17.030082Z",
     "shell.execute_reply": "2021-11-12T18:53:17.029248Z",
     "shell.execute_reply.started": "2021-11-12T18:53:16.657737Z"
    },
    "jupyter": {
     "outputs_hidden": false
    },
    "pycharm": {
     "name": "#%%\n"
    }
   },
   "outputs": [],
   "source": [
    "derived_df = pd.merge(derived_df, derived_hash.reset_index(name='domain_by_profile_infer'), how='left', left_on='org_cleaned_hash', right_on='org_cleaned_hash')"
   ]
  },
  {
   "cell_type": "code",
   "execution_count": 23,
   "metadata": {
    "collapsed": false,
    "execution": {
     "iopub.execute_input": "2021-11-12T18:53:17.031411Z",
     "iopub.status.busy": "2021-11-12T18:53:17.031127Z",
     "iopub.status.idle": "2021-11-12T18:53:22.110675Z",
     "shell.execute_reply": "2021-11-12T18:53:22.109764Z",
     "shell.execute_reply.started": "2021-11-12T18:53:17.031382Z"
    },
    "jupyter": {
     "outputs_hidden": false
    },
    "pycharm": {
     "name": "#%%\n"
    }
   },
   "outputs": [],
   "source": [
    "# calculate a composite domain based on domain_by_email, domain_by_profile, and domain_by_profile_infer\n",
    "def get_composite_domain(this_df):\n",
    "\n",
    "    # if domain found via profile with direct match, use it\n",
    "    if this_df.domain_by_profile != '':\n",
    "        return this_df.domain_by_profile\n",
    "\n",
    "    # if domain found via email, use it\n",
    "    if this_df.domain_by_email != '':\n",
    "        return this_df.domain_by_email\n",
    "\n",
    "        # if domain found via profile but not with a direct match, use it\n",
    "    if this_df.domain_by_profile_infer != '':\n",
    "        return this_df.domain_by_profile_infer\n",
    "\n",
    "    # else, no organization can be concluded, return none\n",
    "    return None\n",
    "\n",
    "\n",
    "derived_df['domain_final'] = derived_df[['domain_by_email', 'domain_by_profile', 'domain_by_profile_infer']].fillna('').apply(get_composite_domain, axis=1)"
   ]
  },
  {
   "cell_type": "code",
   "execution_count": 24,
   "metadata": {
    "collapsed": false,
    "execution": {
     "iopub.execute_input": "2021-11-12T18:53:22.112439Z",
     "iopub.status.busy": "2021-11-12T18:53:22.112074Z",
     "iopub.status.idle": "2021-11-12T18:53:22.268747Z",
     "shell.execute_reply": "2021-11-12T18:53:22.267955Z",
     "shell.execute_reply.started": "2021-11-12T18:53:22.112411Z"
    },
    "jupyter": {
     "outputs_hidden": false
    },
    "pycharm": {
     "name": "#%%\n"
    }
   },
   "outputs": [
    {
     "data": {
      "text/html": [
       "<div>\n",
       "<style scoped>\n",
       "    .dataframe tbody tr th:only-of-type {\n",
       "        vertical-align: middle;\n",
       "    }\n",
       "\n",
       "    .dataframe tbody tr th {\n",
       "        vertical-align: top;\n",
       "    }\n",
       "\n",
       "    .dataframe thead th {\n",
       "        text-align: right;\n",
       "    }\n",
       "</style>\n",
       "<table border=\"1\" class=\"dataframe\">\n",
       "  <thead>\n",
       "    <tr style=\"text-align: right;\">\n",
       "      <th></th>\n",
       "      <th>domain_final</th>\n",
       "      <th>domain_by_email</th>\n",
       "    </tr>\n",
       "  </thead>\n",
       "  <tbody>\n",
       "    <tr>\n",
       "      <th>8</th>\n",
       "      <td>None</td>\n",
       "      <td>None</td>\n",
       "    </tr>\n",
       "    <tr>\n",
       "      <th>17</th>\n",
       "      <td>None</td>\n",
       "      <td>None</td>\n",
       "    </tr>\n",
       "    <tr>\n",
       "      <th>42</th>\n",
       "      <td>None</td>\n",
       "      <td>None</td>\n",
       "    </tr>\n",
       "    <tr>\n",
       "      <th>52</th>\n",
       "      <td>None</td>\n",
       "      <td>None</td>\n",
       "    </tr>\n",
       "    <tr>\n",
       "      <th>76</th>\n",
       "      <td>None</td>\n",
       "      <td>None</td>\n",
       "    </tr>\n",
       "    <tr>\n",
       "      <th>...</th>\n",
       "      <td>...</td>\n",
       "      <td>...</td>\n",
       "    </tr>\n",
       "    <tr>\n",
       "      <th>275120</th>\n",
       "      <td>utah.edu</td>\n",
       "      <td>NaN</td>\n",
       "    </tr>\n",
       "    <tr>\n",
       "      <th>275572</th>\n",
       "      <td>None</td>\n",
       "      <td>NaN</td>\n",
       "    </tr>\n",
       "    <tr>\n",
       "      <th>275717</th>\n",
       "      <td>bsu.edu</td>\n",
       "      <td>NaN</td>\n",
       "    </tr>\n",
       "    <tr>\n",
       "      <th>275985</th>\n",
       "      <td>iupui.edu</td>\n",
       "      <td>NaN</td>\n",
       "    </tr>\n",
       "    <tr>\n",
       "      <th>276128</th>\n",
       "      <td>enea.it</td>\n",
       "      <td>NaN</td>\n",
       "    </tr>\n",
       "  </tbody>\n",
       "</table>\n",
       "<p>12973 rows × 2 columns</p>\n",
       "</div>"
      ],
      "text/plain": [
       "       domain_final domain_by_email\n",
       "8              None            None\n",
       "17             None            None\n",
       "42             None            None\n",
       "52             None            None\n",
       "76             None            None\n",
       "...             ...             ...\n",
       "275120     utah.edu             NaN\n",
       "275572         None             NaN\n",
       "275717      bsu.edu             NaN\n",
       "275985    iupui.edu             NaN\n",
       "276128      enea.it             NaN\n",
       "\n",
       "[12973 rows x 2 columns]"
      ]
     },
     "execution_count": 24,
     "metadata": {},
     "output_type": "execute_result"
    }
   ],
   "source": [
    "derived_df[derived_df.email_host == 'yahoo.com'][['domain_final', 'domain_by_email']]"
   ]
  },
  {
   "cell_type": "markdown",
   "metadata": {},
   "source": [
    "## Update Salesforce institution"
   ]
  },
  {
   "cell_type": "code",
   "execution_count": 25,
   "metadata": {
    "collapsed": false,
    "execution": {
     "iopub.execute_input": "2021-11-12T18:53:22.272741Z",
     "iopub.status.busy": "2021-11-12T18:53:22.271244Z",
     "iopub.status.idle": "2021-11-12T18:53:26.675959Z",
     "shell.execute_reply": "2021-11-12T18:53:26.674758Z",
     "shell.execute_reply.started": "2021-11-12T18:53:22.272666Z"
    },
    "jupyter": {
     "outputs_hidden": false
    },
    "pycharm": {
     "name": "#%%\n"
    }
   },
   "outputs": [
    {
     "data": {
      "text/html": [
       "<div>\n",
       "<style scoped>\n",
       "    .dataframe tbody tr th:only-of-type {\n",
       "        vertical-align: middle;\n",
       "    }\n",
       "\n",
       "    .dataframe tbody tr th {\n",
       "        vertical-align: top;\n",
       "    }\n",
       "\n",
       "    .dataframe thead th {\n",
       "        text-align: right;\n",
       "    }\n",
       "</style>\n",
       "<table border=\"1\" class=\"dataframe\">\n",
       "  <thead>\n",
       "    <tr style=\"text-align: right;\">\n",
       "      <th></th>\n",
       "      <th>domain_name</th>\n",
       "      <th>domain</th>\n",
       "      <th>industry</th>\n",
       "      <th>size</th>\n",
       "      <th>country</th>\n",
       "    </tr>\n",
       "  </thead>\n",
       "  <tbody>\n",
       "    <tr>\n",
       "      <th>0</th>\n",
       "      <td>purdue university</td>\n",
       "      <td>purdue.edu</td>\n",
       "      <td>higher education</td>\n",
       "      <td>10001+</td>\n",
       "      <td>united states</td>\n",
       "    </tr>\n",
       "    <tr>\n",
       "      <th>1</th>\n",
       "      <td>netzero inc</td>\n",
       "      <td>netzero.net</td>\n",
       "      <td>computer software</td>\n",
       "      <td>1-10</td>\n",
       "      <td>united states</td>\n",
       "    </tr>\n",
       "  </tbody>\n",
       "</table>\n",
       "</div>"
      ],
      "text/plain": [
       "         domain_name       domain           industry    size        country\n",
       "0  purdue university   purdue.edu   higher education  10001+  united states\n",
       "1        netzero inc  netzero.net  computer software    1-10  united states"
      ]
     },
     "metadata": {},
     "output_type": "display_data"
    }
   ],
   "source": [
    "# get a unique list of organizations that appears in contact\n",
    "#org_df = derived_df[['domain_name', 'domain', 'industry', 'size', 'country']].drop_duplicates().dropna()\n",
    "org_df = pd.merge(derived_df[['domain_final']].drop_duplicates().dropna(), domain_df, how='inner', left_on='domain_final', right_on='domain')\n",
    "org_df = org_df[['domain_name', 'domain', 'industry', 'size', 'country']]\n",
    "\n",
    "# display\n",
    "display(org_df.head(2))"
   ]
  },
  {
   "cell_type": "code",
   "execution_count": 26,
   "metadata": {
    "collapsed": false,
    "execution": {
     "iopub.execute_input": "2021-11-12T18:53:26.678208Z",
     "iopub.status.busy": "2021-11-12T18:53:26.677531Z",
     "iopub.status.idle": "2021-11-12T18:53:26.702571Z",
     "shell.execute_reply": "2021-11-12T18:53:26.701482Z",
     "shell.execute_reply.started": "2021-11-12T18:53:26.678171Z"
    },
    "jupyter": {
     "outputs_hidden": false
    },
    "pycharm": {
     "name": "#%%\n"
    }
   },
   "outputs": [
    {
     "data": {
      "text/html": [
       "<div>\n",
       "<style scoped>\n",
       "    .dataframe tbody tr th:only-of-type {\n",
       "        vertical-align: middle;\n",
       "    }\n",
       "\n",
       "    .dataframe tbody tr th {\n",
       "        vertical-align: top;\n",
       "    }\n",
       "\n",
       "    .dataframe thead th {\n",
       "        text-align: right;\n",
       "    }\n",
       "</style>\n",
       "<table border=\"1\" class=\"dataframe\">\n",
       "  <thead>\n",
       "    <tr style=\"text-align: right;\">\n",
       "      <th></th>\n",
       "      <th>0</th>\n",
       "      <th>1</th>\n",
       "    </tr>\n",
       "  </thead>\n",
       "  <tbody>\n",
       "    <tr>\n",
       "      <th>Name</th>\n",
       "      <td>purdue university</td>\n",
       "      <td>netzero inc</td>\n",
       "    </tr>\n",
       "    <tr>\n",
       "      <th>Size_Range__c</th>\n",
       "      <td>10001+</td>\n",
       "      <td>1-10</td>\n",
       "    </tr>\n",
       "    <tr>\n",
       "      <th>Country__c</th>\n",
       "      <td>united states</td>\n",
       "      <td>united states</td>\n",
       "    </tr>\n",
       "    <tr>\n",
       "      <th>Domain__c</th>\n",
       "      <td>purdue.edu</td>\n",
       "      <td>netzero.net</td>\n",
       "    </tr>\n",
       "    <tr>\n",
       "      <th>Industry__c</th>\n",
       "      <td>higher education</td>\n",
       "      <td>computer software</td>\n",
       "    </tr>\n",
       "  </tbody>\n",
       "</table>\n",
       "</div>"
      ],
      "text/plain": [
       "                               0                  1\n",
       "Name           purdue university        netzero inc\n",
       "Size_Range__c             10001+               1-10\n",
       "Country__c         united states      united states\n",
       "Domain__c             purdue.edu        netzero.net\n",
       "Industry__c     higher education  computer software"
      ]
     },
     "execution_count": 26,
     "metadata": {},
     "output_type": "execute_result"
    }
   ],
   "source": [
    "df_sf = pd.DataFrame()\n",
    "\n",
    "# Make sure NaN and NaT values are taken care of here\n",
    "df_sf['Name'] = org_df['domain_name']\n",
    "\n",
    "df_sf['Size_Range__c'] = org_df['size'].fillna('Unknown')\n",
    "df_sf['Country__c'] = org_df['country']\n",
    "df_sf['Domain__c'] = org_df['domain']\n",
    "df_sf['Industry__c'] = org_df['industry']\n",
    "\n",
    "sf_original_fields = df_sf.columns\n",
    "\n",
    "# display\n",
    "df_sf.head(2).T"
   ]
  },
  {
   "cell_type": "code",
   "execution_count": 27,
   "metadata": {
    "collapsed": false,
    "execution": {
     "iopub.execute_input": "2021-11-12T18:53:26.705544Z",
     "iopub.status.busy": "2021-11-12T18:53:26.703957Z",
     "iopub.status.idle": "2021-11-12T18:53:26.710908Z",
     "shell.execute_reply": "2021-11-12T18:53:26.709613Z",
     "shell.execute_reply.started": "2021-11-12T18:53:26.705493Z"
    },
    "jupyter": {
     "outputs_hidden": false
    },
    "pycharm": {
     "name": "#%%\n"
    }
   },
   "outputs": [],
   "source": [
    "\n",
    "\n",
    "db_s.object_id = 'organization__c'\n",
    "db_s.external_id = 'Domain__c'"
   ]
  },
  {
   "cell_type": "code",
   "execution_count": 28,
   "metadata": {
    "collapsed": false,
    "execution": {
     "iopub.execute_input": "2021-11-12T18:53:26.713343Z",
     "iopub.status.busy": "2021-11-12T18:53:26.712492Z",
     "iopub.status.idle": "2021-11-12T18:53:32.553975Z",
     "shell.execute_reply": "2021-11-12T18:53:32.552408Z",
     "shell.execute_reply.started": "2021-11-12T18:53:26.713294Z"
    },
    "jupyter": {
     "outputs_hidden": false
    },
    "pycharm": {
     "name": "#%%\n"
    }
   },
   "outputs": [
    {
     "name": "stdout",
     "output_type": "stream",
     "text": [
      "[Success] Bulk job creation successful. Job ID = 7505w00000b4jKRAAY\n",
      "hello\n",
      "[Success] CSV upload successful. Job ID = 7505w00000b4jKRAAY\n",
      "[Success] Closing job successful. Job ID = 7505w00000b4jKRAAY\n"
     ]
    }
   ],
   "source": [
    "# send data to Salesforce\n",
    "db_s.send_data(df_sf)"
   ]
  },
  {
   "cell_type": "code",
   "execution_count": 29,
   "metadata": {
    "collapsed": false,
    "execution": {
     "iopub.execute_input": "2021-11-12T18:53:32.558927Z",
     "iopub.status.busy": "2021-11-12T18:53:32.557544Z",
     "iopub.status.idle": "2021-11-12T18:53:34.050715Z",
     "shell.execute_reply": "2021-11-12T18:53:34.048870Z",
     "shell.execute_reply.started": "2021-11-12T18:53:32.558680Z"
    },
    "jupyter": {
     "outputs_hidden": false
    },
    "pycharm": {
     "name": "#%%\n"
    }
   },
   "outputs": [
    {
     "data": {
      "text/plain": [
       "{'id': '7505w00000b4jKRAAY',\n",
       " 'operation': 'upsert',\n",
       " 'object': 'organization__c',\n",
       " 'createdById': '0055w00000DM5bOAAT',\n",
       " 'createdDate': '2021-11-12T18:53:30.000+0000',\n",
       " 'systemModstamp': '2021-11-12T18:53:34.000+0000',\n",
       " 'state': 'UploadComplete',\n",
       " 'externalIdFieldName': 'Domain__c',\n",
       " 'concurrencyMode': 'Parallel',\n",
       " 'contentType': 'CSV',\n",
       " 'apiVersion': 47.0,\n",
       " 'jobType': 'V2Ingest',\n",
       " 'lineEnding': 'LF',\n",
       " 'columnDelimiter': 'COMMA',\n",
       " 'numberRecordsProcessed': 0,\n",
       " 'numberRecordsFailed': 0,\n",
       " 'retries': 0,\n",
       " 'totalProcessingTime': 0,\n",
       " 'apiActiveProcessingTime': 0,\n",
       " 'apexProcessingTime': 0}"
      ]
     },
     "execution_count": 29,
     "metadata": {},
     "output_type": "execute_result"
    }
   ],
   "source": [
    "# check status\n",
    "db_s.check_bulk_status()"
   ]
  },
  {
   "cell_type": "code",
   "execution_count": 30,
   "metadata": {
    "collapsed": false,
    "execution": {
     "iopub.execute_input": "2021-11-12T18:53:34.052170Z",
     "iopub.status.busy": "2021-11-12T18:53:34.051876Z",
     "iopub.status.idle": "2021-11-12T18:53:35.376068Z",
     "shell.execute_reply": "2021-11-12T18:53:35.374013Z",
     "shell.execute_reply.started": "2021-11-12T18:53:34.052139Z"
    },
    "jupyter": {
     "outputs_hidden": false
    },
    "pycharm": {
     "name": "#%%\n"
    }
   },
   "outputs": [
    {
     "name": "stdout",
     "output_type": "stream",
     "text": [
      "''\n"
     ]
    }
   ],
   "source": [
    "# check status\n",
    "from pprint import pprint\n",
    "\n",
    "pprint(db_s.check_bulk_failed_results())"
   ]
  },
  {
   "cell_type": "markdown",
   "metadata": {},
   "source": [
    "## Obtain newly updated organization IDs from Salesforce"
   ]
  },
  {
   "cell_type": "code",
   "execution_count": 31,
   "metadata": {
    "collapsed": false,
    "execution": {
     "iopub.execute_input": "2021-11-12T18:53:35.380523Z",
     "iopub.status.busy": "2021-11-12T18:53:35.379467Z",
     "iopub.status.idle": "2021-11-12T18:53:35.389360Z",
     "shell.execute_reply": "2021-11-12T18:53:35.386920Z",
     "shell.execute_reply.started": "2021-11-12T18:53:35.380343Z"
    },
    "jupyter": {
     "outputs_hidden": false
    },
    "pycharm": {
     "name": "#%%\n"
    }
   },
   "outputs": [],
   "source": [
    "# create DB2 to Salesforce API object\n"
   ]
  },
  {
   "cell_type": "code",
   "execution_count": 32,
   "metadata": {
    "collapsed": false,
    "execution": {
     "iopub.execute_input": "2021-11-12T18:53:35.392914Z",
     "iopub.status.busy": "2021-11-12T18:53:35.392161Z",
     "iopub.status.idle": "2021-11-12T18:53:41.637371Z",
     "shell.execute_reply": "2021-11-12T18:53:41.635486Z",
     "shell.execute_reply.started": "2021-11-12T18:53:35.392869Z"
    },
    "jupyter": {
     "outputs_hidden": false
    },
    "pycharm": {
     "name": "#%%\n"
    }
   },
   "outputs": [
    {
     "name": "stdout",
     "output_type": "stream",
     "text": [
      "[Success] Bulk job creation successful. Job ID = 7505w00000b4jKqAAI\n",
      "{\"id\":\"7505w00000b4jKqAAI\",\"operation\":\"query\",\"object\":\"organization__c\",\"createdById\":\"0055w00000DM5bOAAT\",\"createdDate\":\"2021-11-12T18:53:38.000+0000\",\"systemModstamp\":\"2021-11-12T18:53:41.000+0000\",\"state\":\"JobComplete\",\"concurrencyMode\":\"Parallel\",\"contentType\":\"CSV\",\"apiVersion\":47.0,\"jobType\":\"V2Query\",\"lineEnding\":\"LF\",\"columnDelimiter\":\"COMMA\",\"numberRecordsProcessed\":6485,\"retries\":0,\"totalProcessingTime\":406}\n",
      "[Success] Bulk job completed successfully.\n"
     ]
    },
    {
     "data": {
      "text/html": [
       "<div>\n",
       "<style scoped>\n",
       "    .dataframe tbody tr th:only-of-type {\n",
       "        vertical-align: middle;\n",
       "    }\n",
       "\n",
       "    .dataframe tbody tr th {\n",
       "        vertical-align: top;\n",
       "    }\n",
       "\n",
       "    .dataframe thead th {\n",
       "        text-align: right;\n",
       "    }\n",
       "</style>\n",
       "<table border=\"1\" class=\"dataframe\">\n",
       "  <thead>\n",
       "    <tr style=\"text-align: right;\">\n",
       "      <th></th>\n",
       "      <th>Domain__c</th>\n",
       "      <th>Id</th>\n",
       "    </tr>\n",
       "  </thead>\n",
       "  <tbody>\n",
       "    <tr>\n",
       "      <th>0</th>\n",
       "      <td>upenn.edu</td>\n",
       "      <td>a0r5w00000V42c0AAB</td>\n",
       "    </tr>\n",
       "    <tr>\n",
       "      <th>1</th>\n",
       "      <td>fer.hr</td>\n",
       "      <td>a0r5w00000V42c1AAB</td>\n",
       "    </tr>\n",
       "    <tr>\n",
       "      <th>2</th>\n",
       "      <td>wheatoncollege.edu</td>\n",
       "      <td>a0r5w00000V42c2AAB</td>\n",
       "    </tr>\n",
       "  </tbody>\n",
       "</table>\n",
       "</div>"
      ],
      "text/plain": [
       "            Domain__c                  Id\n",
       "0           upenn.edu  a0r5w00000V42c0AAB\n",
       "1              fer.hr  a0r5w00000V42c1AAB\n",
       "2  wheatoncollege.edu  a0r5w00000V42c2AAB"
      ]
     },
     "execution_count": 32,
     "metadata": {},
     "output_type": "execute_result"
    }
   ],
   "source": [
    "# get Salesforce ID for organizations\n",
    "sf_org_ID_df = db_s.query_data('SELECT Id, Domain__c FROM organization__c')\n",
    "\n",
    "# display\n",
    "sf_org_ID_df.head(3)"
   ]
  },
  {
   "cell_type": "code",
   "execution_count": 33,
   "metadata": {
    "collapsed": false,
    "execution": {
     "iopub.execute_input": "2021-11-12T18:53:41.639886Z",
     "iopub.status.busy": "2021-11-12T18:53:41.639505Z",
     "iopub.status.idle": "2021-11-12T18:53:42.379719Z",
     "shell.execute_reply": "2021-11-12T18:53:42.378614Z",
     "shell.execute_reply.started": "2021-11-12T18:53:41.639847Z"
    },
    "jupyter": {
     "outputs_hidden": false
    },
    "pycharm": {
     "name": "#%%\n"
    }
   },
   "outputs": [],
   "source": [
    "# join salesforce ID back to contact DF\n",
    "df = pd.merge(sf_org_ID_df, derived_df, how='right', left_on='Domain__c', right_on='domain_final').drop('Domain__c', axis=1).rename(columns={'Id':'Salesforce_org_ID'})"
   ]
  },
  {
   "cell_type": "code",
   "execution_count": 34,
   "metadata": {
    "collapsed": false,
    "execution": {
     "iopub.execute_input": "2021-11-12T18:53:42.380724Z",
     "iopub.status.busy": "2021-11-12T18:53:42.380465Z",
     "iopub.status.idle": "2021-11-12T18:53:42.404820Z",
     "shell.execute_reply": "2021-11-12T18:53:42.403053Z",
     "shell.execute_reply.started": "2021-11-12T18:53:42.380701Z"
    },
    "jupyter": {
     "outputs_hidden": false
    },
    "pycharm": {
     "name": "#%%\n"
    }
   },
   "outputs": [
    {
     "data": {
      "text/html": [
       "<div>\n",
       "<style scoped>\n",
       "    .dataframe tbody tr th:only-of-type {\n",
       "        vertical-align: middle;\n",
       "    }\n",
       "\n",
       "    .dataframe tbody tr th {\n",
       "        vertical-align: top;\n",
       "    }\n",
       "\n",
       "    .dataframe thead th {\n",
       "        text-align: right;\n",
       "    }\n",
       "</style>\n",
       "<table border=\"1\" class=\"dataframe\">\n",
       "  <thead>\n",
       "    <tr style=\"text-align: right;\">\n",
       "      <th></th>\n",
       "      <th>Salesforce_org_ID</th>\n",
       "      <th>id</th>\n",
       "      <th>name</th>\n",
       "      <th>username</th>\n",
       "      <th>block</th>\n",
       "      <th>email</th>\n",
       "      <th>sendEmail</th>\n",
       "      <th>registerDate</th>\n",
       "      <th>lastvisitDate</th>\n",
       "      <th>orgtype</th>\n",
       "      <th>organization</th>\n",
       "      <th>orcid</th>\n",
       "      <th>email_host</th>\n",
       "      <th>org_cleaned_set</th>\n",
       "      <th>org_cleaned_hash</th>\n",
       "      <th>is_email_commerical</th>\n",
       "      <th>domain_by_email</th>\n",
       "      <th>domain_by_profile</th>\n",
       "      <th>domain_by_profile_infer</th>\n",
       "      <th>domain_final</th>\n",
       "    </tr>\n",
       "  </thead>\n",
       "  <tbody>\n",
       "    <tr>\n",
       "      <th>0</th>\n",
       "      <td>NaN</td>\n",
       "      <td>998</td>\n",
       "      <td>hubrepo hubrepo</td>\n",
       "      <td>hubrepo</td>\n",
       "      <td>0</td>\n",
       "      <td>nkissebe@gmail.com</td>\n",
       "      <td>0</td>\n",
       "      <td>2014-11-13 21:09:09</td>\n",
       "      <td>NaT</td>\n",
       "      <td>NaN</td>\n",
       "      <td>None</td>\n",
       "      <td>NaN</td>\n",
       "      <td>gmail.com</td>\n",
       "      <td>None</td>\n",
       "      <td>None</td>\n",
       "      <td>True</td>\n",
       "      <td>NaN</td>\n",
       "      <td>NaN</td>\n",
       "      <td>NaN</td>\n",
       "      <td>None</td>\n",
       "    </tr>\n",
       "    <tr>\n",
       "      <th>1</th>\n",
       "      <td>a0r5w00000V42cCAAR</td>\n",
       "      <td>1683</td>\n",
       "      <td>nanoHUB support</td>\n",
       "      <td>support</td>\n",
       "      <td>0</td>\n",
       "      <td>support@nanohub.org</td>\n",
       "      <td>0</td>\n",
       "      <td>2008-11-19 22:51:04</td>\n",
       "      <td>2008-11-19 23:55:30</td>\n",
       "      <td>university</td>\n",
       "      <td>purdue university</td>\n",
       "      <td>NaN</td>\n",
       "      <td>nanohub.org</td>\n",
       "      <td>{university, purdue}</td>\n",
       "      <td>purdue-university</td>\n",
       "      <td>False</td>\n",
       "      <td>NaN</td>\n",
       "      <td>purdue.edu</td>\n",
       "      <td>purdue.edu</td>\n",
       "      <td>purdue.edu</td>\n",
       "    </tr>\n",
       "  </tbody>\n",
       "</table>\n",
       "</div>"
      ],
      "text/plain": [
       "    Salesforce_org_ID    id             name username  block  \\\n",
       "0                 NaN   998  hubrepo hubrepo  hubrepo      0   \n",
       "1  a0r5w00000V42cCAAR  1683  nanoHUB support  support      0   \n",
       "\n",
       "                 email  sendEmail        registerDate       lastvisitDate  \\\n",
       "0   nkissebe@gmail.com          0 2014-11-13 21:09:09                 NaT   \n",
       "1  support@nanohub.org          0 2008-11-19 22:51:04 2008-11-19 23:55:30   \n",
       "\n",
       "      orgtype       organization orcid   email_host       org_cleaned_set  \\\n",
       "0         NaN               None   NaN    gmail.com                  None   \n",
       "1  university  purdue university   NaN  nanohub.org  {university, purdue}   \n",
       "\n",
       "    org_cleaned_hash is_email_commerical domain_by_email domain_by_profile  \\\n",
       "0               None                True             NaN               NaN   \n",
       "1  purdue-university               False             NaN        purdue.edu   \n",
       "\n",
       "  domain_by_profile_infer domain_final  \n",
       "0                     NaN         None  \n",
       "1              purdue.edu   purdue.edu  "
      ]
     },
     "metadata": {},
     "output_type": "display_data"
    }
   ],
   "source": [
    "# display\n",
    "display(df.head(2))"
   ]
  },
  {
   "cell_type": "markdown",
   "metadata": {},
   "source": [
    "## Match data with Salesforce format"
   ]
  },
  {
   "cell_type": "code",
   "execution_count": 35,
   "metadata": {
    "collapsed": false,
    "execution": {
     "iopub.execute_input": "2021-11-12T18:53:42.406879Z",
     "iopub.status.busy": "2021-11-12T18:53:42.406081Z",
     "iopub.status.idle": "2021-11-12T18:53:42.431480Z",
     "shell.execute_reply": "2021-11-12T18:53:42.429973Z",
     "shell.execute_reply.started": "2021-11-12T18:53:42.406809Z"
    },
    "jupyter": {
     "outputs_hidden": false
    },
    "pycharm": {
     "name": "#%%\n"
    },
    "tags": []
   },
   "outputs": [],
   "source": [
    "# split full name into first, middle, and last names\n",
    "def split_full_name(this_name):\n",
    "    try:\n",
    "        this_name_list = list(filter(None, this_name.split(' ')))\n",
    "        if this_name_list is not None and type(this_name_list) is list:\n",
    "            if len(this_name_list) == 1:\n",
    "                # single word name\n",
    "                return pd.Series([this_name_list[0],None, this_name_list[0]])\n",
    "            \n",
    "            elif len(this_name_list) > 1:\n",
    "                # multi word name\n",
    "                return pd.Series([this_name_list[0],' '.join(this_name_list[1:-1]),this_name_list[-1]])\n",
    "            \n",
    "            else:\n",
    "                return pd.Series([None, None, None])\n",
    "\n",
    "    except Exception as e:\n",
    "        print(e)\n",
    "        raise e\n",
    "        "
   ]
  },
  {
   "cell_type": "code",
   "execution_count": 36,
   "metadata": {
    "execution": {
     "iopub.execute_input": "2021-11-12T18:53:42.432634Z",
     "iopub.status.busy": "2021-11-12T18:53:42.432426Z",
     "iopub.status.idle": "2021-11-12T18:54:37.652375Z",
     "shell.execute_reply": "2021-11-12T18:54:37.651428Z",
     "shell.execute_reply.started": "2021-11-12T18:53:42.432606Z"
    },
    "pycharm": {
     "name": "#%%\n"
    },
    "tags": []
   },
   "outputs": [
    {
     "data": {
      "text/html": [
       "<div>\n",
       "<style scoped>\n",
       "    .dataframe tbody tr th:only-of-type {\n",
       "        vertical-align: middle;\n",
       "    }\n",
       "\n",
       "    .dataframe tbody tr th {\n",
       "        vertical-align: top;\n",
       "    }\n",
       "\n",
       "    .dataframe thead th {\n",
       "        text-align: right;\n",
       "    }\n",
       "</style>\n",
       "<table border=\"1\" class=\"dataframe\">\n",
       "  <thead>\n",
       "    <tr style=\"text-align: right;\">\n",
       "      <th></th>\n",
       "      <th>Salesforce_org_ID</th>\n",
       "      <th>id</th>\n",
       "      <th>name</th>\n",
       "      <th>username</th>\n",
       "      <th>block</th>\n",
       "      <th>email</th>\n",
       "      <th>sendEmail</th>\n",
       "      <th>registerDate</th>\n",
       "      <th>lastvisitDate</th>\n",
       "      <th>orgtype</th>\n",
       "      <th>organization</th>\n",
       "      <th>orcid</th>\n",
       "      <th>email_host</th>\n",
       "      <th>org_cleaned_set</th>\n",
       "      <th>org_cleaned_hash</th>\n",
       "      <th>is_email_commerical</th>\n",
       "      <th>domain_by_email</th>\n",
       "      <th>domain_by_profile</th>\n",
       "      <th>domain_by_profile_infer</th>\n",
       "      <th>domain_final</th>\n",
       "    </tr>\n",
       "  </thead>\n",
       "  <tbody>\n",
       "    <tr>\n",
       "      <th>0</th>\n",
       "      <td>NaN</td>\n",
       "      <td>998</td>\n",
       "      <td>hubrepo hubrepo</td>\n",
       "      <td>hubrepo</td>\n",
       "      <td>0</td>\n",
       "      <td>nkissebe@gmail.com</td>\n",
       "      <td>0</td>\n",
       "      <td>2014-11-13 21:09:09</td>\n",
       "      <td>NaT</td>\n",
       "      <td>NaN</td>\n",
       "      <td>None</td>\n",
       "      <td>NaN</td>\n",
       "      <td>gmail.com</td>\n",
       "      <td>None</td>\n",
       "      <td>None</td>\n",
       "      <td>True</td>\n",
       "      <td>NaN</td>\n",
       "      <td>NaN</td>\n",
       "      <td>NaN</td>\n",
       "      <td>None</td>\n",
       "    </tr>\n",
       "    <tr>\n",
       "      <th>1</th>\n",
       "      <td>a0r5w00000V42cCAAR</td>\n",
       "      <td>1683</td>\n",
       "      <td>nanoHUB support</td>\n",
       "      <td>support</td>\n",
       "      <td>0</td>\n",
       "      <td>support@nanohub.org</td>\n",
       "      <td>0</td>\n",
       "      <td>2008-11-19 22:51:04</td>\n",
       "      <td>2008-11-19 23:55:30</td>\n",
       "      <td>university</td>\n",
       "      <td>purdue university</td>\n",
       "      <td>NaN</td>\n",
       "      <td>nanohub.org</td>\n",
       "      <td>{university, purdue}</td>\n",
       "      <td>purdue-university</td>\n",
       "      <td>False</td>\n",
       "      <td>NaN</td>\n",
       "      <td>purdue.edu</td>\n",
       "      <td>purdue.edu</td>\n",
       "      <td>purdue.edu</td>\n",
       "    </tr>\n",
       "    <tr>\n",
       "      <th>2</th>\n",
       "      <td>a0r5w00000V42cCAAR</td>\n",
       "      <td>1684</td>\n",
       "      <td>Grid Statistics</td>\n",
       "      <td>gridstat</td>\n",
       "      <td>0</td>\n",
       "      <td>gridstat@nanohub.org</td>\n",
       "      <td>0</td>\n",
       "      <td>2008-11-18 17:29:56</td>\n",
       "      <td>2020-02-14 18:50:14</td>\n",
       "      <td>universitystaff</td>\n",
       "      <td>purdue university</td>\n",
       "      <td>NaN</td>\n",
       "      <td>nanohub.org</td>\n",
       "      <td>{university, purdue}</td>\n",
       "      <td>purdue-university</td>\n",
       "      <td>False</td>\n",
       "      <td>NaN</td>\n",
       "      <td>purdue.edu</td>\n",
       "      <td>purdue.edu</td>\n",
       "      <td>purdue.edu</td>\n",
       "    </tr>\n",
       "    <tr>\n",
       "      <th>3</th>\n",
       "      <td>a0r5w00000V42cCAAR</td>\n",
       "      <td>1685</td>\n",
       "      <td>NCN NCN</td>\n",
       "      <td>ncn</td>\n",
       "      <td>0</td>\n",
       "      <td>ncn@nanohub.org</td>\n",
       "      <td>0</td>\n",
       "      <td>2008-11-11 19:17:04</td>\n",
       "      <td>NaT</td>\n",
       "      <td>NaN</td>\n",
       "      <td>purdue university</td>\n",
       "      <td>NaN</td>\n",
       "      <td>nanohub.org</td>\n",
       "      <td>{university, purdue}</td>\n",
       "      <td>purdue-university</td>\n",
       "      <td>False</td>\n",
       "      <td>NaN</td>\n",
       "      <td>purdue.edu</td>\n",
       "      <td>purdue.edu</td>\n",
       "      <td>purdue.edu</td>\n",
       "    </tr>\n",
       "    <tr>\n",
       "      <th>4</th>\n",
       "      <td>a0r5w00000V42cCAAR</td>\n",
       "      <td>1686</td>\n",
       "      <td>nanoHUB nanoHUB</td>\n",
       "      <td>nanohub</td>\n",
       "      <td>0</td>\n",
       "      <td>apps@nanohub.org</td>\n",
       "      <td>0</td>\n",
       "      <td>2014-06-26 19:38:57</td>\n",
       "      <td>NaT</td>\n",
       "      <td>NaN</td>\n",
       "      <td>purdue university</td>\n",
       "      <td>NaN</td>\n",
       "      <td>nanohub.org</td>\n",
       "      <td>{university, purdue}</td>\n",
       "      <td>purdue-university</td>\n",
       "      <td>False</td>\n",
       "      <td>NaN</td>\n",
       "      <td>purdue.edu</td>\n",
       "      <td>purdue.edu</td>\n",
       "      <td>purdue.edu</td>\n",
       "    </tr>\n",
       "    <tr>\n",
       "      <th>...</th>\n",
       "      <td>...</td>\n",
       "      <td>...</td>\n",
       "      <td>...</td>\n",
       "      <td>...</td>\n",
       "      <td>...</td>\n",
       "      <td>...</td>\n",
       "      <td>...</td>\n",
       "      <td>...</td>\n",
       "      <td>...</td>\n",
       "      <td>...</td>\n",
       "      <td>...</td>\n",
       "      <td>...</td>\n",
       "      <td>...</td>\n",
       "      <td>...</td>\n",
       "      <td>...</td>\n",
       "      <td>...</td>\n",
       "      <td>...</td>\n",
       "      <td>...</td>\n",
       "      <td>...</td>\n",
       "      <td>...</td>\n",
       "    </tr>\n",
       "    <tr>\n",
       "      <th>276205</th>\n",
       "      <td>NaN</td>\n",
       "      <td>345791</td>\n",
       "      <td>VENKATA ANIRUDH KOMAL KODAVALI</td>\n",
       "      <td>anirudh_k</td>\n",
       "      <td>0</td>\n",
       "      <td>venkata_a@ec.iitr.ac.in</td>\n",
       "      <td>0</td>\n",
       "      <td>2021-11-12 18:06:19</td>\n",
       "      <td>2021-11-12 18:06:19</td>\n",
       "      <td>government</td>\n",
       "      <td>iit roorkee</td>\n",
       "      <td>NaN</td>\n",
       "      <td>ec.iitr.ac.in</td>\n",
       "      <td>{roorkee, iit}</td>\n",
       "      <td>iit-roorkee</td>\n",
       "      <td>False</td>\n",
       "      <td>NaN</td>\n",
       "      <td>NaN</td>\n",
       "      <td>None</td>\n",
       "      <td>None</td>\n",
       "    </tr>\n",
       "    <tr>\n",
       "      <th>276206</th>\n",
       "      <td>a0r5w00000V42qYAAR</td>\n",
       "      <td>345792</td>\n",
       "      <td>vishesh chandrikapure</td>\n",
       "      <td>visheshc38</td>\n",
       "      <td>0</td>\n",
       "      <td>visheshc38@gmail.com</td>\n",
       "      <td>0</td>\n",
       "      <td>2021-11-12 18:15:28</td>\n",
       "      <td>2021-11-12 18:15:28</td>\n",
       "      <td>universityundergraduate</td>\n",
       "      <td>wright state university</td>\n",
       "      <td>NaN</td>\n",
       "      <td>gmail.com</td>\n",
       "      <td>{wright, state, university}</td>\n",
       "      <td>state-university-wright</td>\n",
       "      <td>True</td>\n",
       "      <td>NaN</td>\n",
       "      <td>wright.edu</td>\n",
       "      <td>wright.edu</td>\n",
       "      <td>wright.edu</td>\n",
       "    </tr>\n",
       "    <tr>\n",
       "      <th>276207</th>\n",
       "      <td>a0r5w00000V43O1AAJ</td>\n",
       "      <td>345793</td>\n",
       "      <td>Rahul Kumar</td>\n",
       "      <td>rahul20150133775</td>\n",
       "      <td>0</td>\n",
       "      <td>rahul20150133775@gmail.com</td>\n",
       "      <td>0</td>\n",
       "      <td>2021-11-12 18:30:07</td>\n",
       "      <td>2021-11-12 18:30:07</td>\n",
       "      <td>universityundergraduate</td>\n",
       "      <td>indian institute of technology, roorkee</td>\n",
       "      <td>NaN</td>\n",
       "      <td>gmail.com</td>\n",
       "      <td>{technology, institute, roorkee, indian}</td>\n",
       "      <td>indian-institute-roorkee-technology</td>\n",
       "      <td>True</td>\n",
       "      <td>NaN</td>\n",
       "      <td>iitr.ac.in</td>\n",
       "      <td>None</td>\n",
       "      <td>iitr.ac.in</td>\n",
       "    </tr>\n",
       "    <tr>\n",
       "      <th>276208</th>\n",
       "      <td>NaN</td>\n",
       "      <td>345795</td>\n",
       "      <td>Karan Kannoujiya</td>\n",
       "      <td>kannoujiya432</td>\n",
       "      <td>0</td>\n",
       "      <td>kannoujiya432@gmail.com</td>\n",
       "      <td>0</td>\n",
       "      <td>2021-11-12 18:37:49</td>\n",
       "      <td>2021-11-12 18:37:49</td>\n",
       "      <td>universityundergraduate</td>\n",
       "      <td>iit roorkee</td>\n",
       "      <td>NaN</td>\n",
       "      <td>gmail.com</td>\n",
       "      <td>{roorkee, iit}</td>\n",
       "      <td>iit-roorkee</td>\n",
       "      <td>True</td>\n",
       "      <td>NaN</td>\n",
       "      <td>NaN</td>\n",
       "      <td>None</td>\n",
       "      <td>None</td>\n",
       "    </tr>\n",
       "    <tr>\n",
       "      <th>276209</th>\n",
       "      <td>a0r5w00000V42kEAAR</td>\n",
       "      <td>345796</td>\n",
       "      <td>sarana solusindo informatika</td>\n",
       "      <td>solusitraining</td>\n",
       "      <td>0</td>\n",
       "      <td>annurulizza3@gmail.com</td>\n",
       "      <td>0</td>\n",
       "      <td>2021-11-12 18:42:07</td>\n",
       "      <td>2021-11-12 18:43:58</td>\n",
       "      <td>industry</td>\n",
       "      <td>harvard university</td>\n",
       "      <td>NaN</td>\n",
       "      <td>gmail.com</td>\n",
       "      <td>{harvard, university}</td>\n",
       "      <td>harvard-university</td>\n",
       "      <td>True</td>\n",
       "      <td>NaN</td>\n",
       "      <td>harvard.edu</td>\n",
       "      <td>None</td>\n",
       "      <td>harvard.edu</td>\n",
       "    </tr>\n",
       "  </tbody>\n",
       "</table>\n",
       "<p>276210 rows × 20 columns</p>\n",
       "</div>"
      ],
      "text/plain": [
       "         Salesforce_org_ID      id                            name  \\\n",
       "0                      NaN     998                 hubrepo hubrepo   \n",
       "1       a0r5w00000V42cCAAR    1683                 nanoHUB support   \n",
       "2       a0r5w00000V42cCAAR    1684                 Grid Statistics   \n",
       "3       a0r5w00000V42cCAAR    1685                         NCN NCN   \n",
       "4       a0r5w00000V42cCAAR    1686                 nanoHUB nanoHUB   \n",
       "...                    ...     ...                             ...   \n",
       "276205                 NaN  345791  VENKATA ANIRUDH KOMAL KODAVALI   \n",
       "276206  a0r5w00000V42qYAAR  345792           vishesh chandrikapure   \n",
       "276207  a0r5w00000V43O1AAJ  345793                     Rahul Kumar   \n",
       "276208                 NaN  345795                Karan Kannoujiya   \n",
       "276209  a0r5w00000V42kEAAR  345796    sarana solusindo informatika   \n",
       "\n",
       "                username  block                       email  sendEmail  \\\n",
       "0                hubrepo      0          nkissebe@gmail.com          0   \n",
       "1                support      0         support@nanohub.org          0   \n",
       "2               gridstat      0        gridstat@nanohub.org          0   \n",
       "3                    ncn      0             ncn@nanohub.org          0   \n",
       "4                nanohub      0            apps@nanohub.org          0   \n",
       "...                  ...    ...                         ...        ...   \n",
       "276205         anirudh_k      0     venkata_a@ec.iitr.ac.in          0   \n",
       "276206        visheshc38      0        visheshc38@gmail.com          0   \n",
       "276207  rahul20150133775      0  rahul20150133775@gmail.com          0   \n",
       "276208     kannoujiya432      0     kannoujiya432@gmail.com          0   \n",
       "276209    solusitraining      0      annurulizza3@gmail.com          0   \n",
       "\n",
       "              registerDate       lastvisitDate                  orgtype  \\\n",
       "0      2014-11-13 21:09:09                 NaT                      NaN   \n",
       "1      2008-11-19 22:51:04 2008-11-19 23:55:30               university   \n",
       "2      2008-11-18 17:29:56 2020-02-14 18:50:14          universitystaff   \n",
       "3      2008-11-11 19:17:04                 NaT                      NaN   \n",
       "4      2014-06-26 19:38:57                 NaT                      NaN   \n",
       "...                    ...                 ...                      ...   \n",
       "276205 2021-11-12 18:06:19 2021-11-12 18:06:19               government   \n",
       "276206 2021-11-12 18:15:28 2021-11-12 18:15:28  universityundergraduate   \n",
       "276207 2021-11-12 18:30:07 2021-11-12 18:30:07  universityundergraduate   \n",
       "276208 2021-11-12 18:37:49 2021-11-12 18:37:49  universityundergraduate   \n",
       "276209 2021-11-12 18:42:07 2021-11-12 18:43:58                 industry   \n",
       "\n",
       "                                   organization orcid     email_host  \\\n",
       "0                                          None   NaN      gmail.com   \n",
       "1                             purdue university   NaN    nanohub.org   \n",
       "2                             purdue university   NaN    nanohub.org   \n",
       "3                             purdue university   NaN    nanohub.org   \n",
       "4                             purdue university   NaN    nanohub.org   \n",
       "...                                         ...   ...            ...   \n",
       "276205                              iit roorkee   NaN  ec.iitr.ac.in   \n",
       "276206                  wright state university   NaN      gmail.com   \n",
       "276207  indian institute of technology, roorkee   NaN      gmail.com   \n",
       "276208                              iit roorkee   NaN      gmail.com   \n",
       "276209                       harvard university   NaN      gmail.com   \n",
       "\n",
       "                                 org_cleaned_set  \\\n",
       "0                                           None   \n",
       "1                           {university, purdue}   \n",
       "2                           {university, purdue}   \n",
       "3                           {university, purdue}   \n",
       "4                           {university, purdue}   \n",
       "...                                          ...   \n",
       "276205                            {roorkee, iit}   \n",
       "276206               {wright, state, university}   \n",
       "276207  {technology, institute, roorkee, indian}   \n",
       "276208                            {roorkee, iit}   \n",
       "276209                     {harvard, university}   \n",
       "\n",
       "                           org_cleaned_hash is_email_commerical  \\\n",
       "0                                      None                True   \n",
       "1                         purdue-university               False   \n",
       "2                         purdue-university               False   \n",
       "3                         purdue-university               False   \n",
       "4                         purdue-university               False   \n",
       "...                                     ...                 ...   \n",
       "276205                          iit-roorkee               False   \n",
       "276206              state-university-wright                True   \n",
       "276207  indian-institute-roorkee-technology                True   \n",
       "276208                          iit-roorkee                True   \n",
       "276209                   harvard-university                True   \n",
       "\n",
       "       domain_by_email domain_by_profile domain_by_profile_infer domain_final  \n",
       "0                  NaN               NaN                     NaN         None  \n",
       "1                  NaN        purdue.edu              purdue.edu   purdue.edu  \n",
       "2                  NaN        purdue.edu              purdue.edu   purdue.edu  \n",
       "3                  NaN        purdue.edu              purdue.edu   purdue.edu  \n",
       "4                  NaN        purdue.edu              purdue.edu   purdue.edu  \n",
       "...                ...               ...                     ...          ...  \n",
       "276205             NaN               NaN                    None         None  \n",
       "276206             NaN        wright.edu              wright.edu   wright.edu  \n",
       "276207             NaN        iitr.ac.in                    None   iitr.ac.in  \n",
       "276208             NaN               NaN                    None         None  \n",
       "276209             NaN       harvard.edu                    None  harvard.edu  \n",
       "\n",
       "[276210 rows x 20 columns]"
      ]
     },
     "metadata": {},
     "output_type": "display_data"
    },
    {
     "data": {
      "text/html": [
       "<div>\n",
       "<style scoped>\n",
       "    .dataframe tbody tr th:only-of-type {\n",
       "        vertical-align: middle;\n",
       "    }\n",
       "\n",
       "    .dataframe tbody tr th {\n",
       "        vertical-align: top;\n",
       "    }\n",
       "\n",
       "    .dataframe thead th {\n",
       "        text-align: right;\n",
       "    }\n",
       "</style>\n",
       "<table border=\"1\" class=\"dataframe\">\n",
       "  <thead>\n",
       "    <tr style=\"text-align: right;\">\n",
       "      <th></th>\n",
       "      <th>firstname</th>\n",
       "      <th>Middle_name__c</th>\n",
       "      <th>lastname</th>\n",
       "    </tr>\n",
       "  </thead>\n",
       "  <tbody>\n",
       "    <tr>\n",
       "      <th>125087</th>\n",
       "      <td>None</td>\n",
       "      <td>None</td>\n",
       "      <td>None</td>\n",
       "    </tr>\n",
       "  </tbody>\n",
       "</table>\n",
       "</div>"
      ],
      "text/plain": [
       "       firstname Middle_name__c lastname\n",
       "125087      None           None     None"
      ]
     },
     "metadata": {},
     "output_type": "display_data"
    },
    {
     "data": {
      "text/html": [
       "<div>\n",
       "<style scoped>\n",
       "    .dataframe tbody tr th:only-of-type {\n",
       "        vertical-align: middle;\n",
       "    }\n",
       "\n",
       "    .dataframe tbody tr th {\n",
       "        vertical-align: top;\n",
       "    }\n",
       "\n",
       "    .dataframe thead th {\n",
       "        text-align: right;\n",
       "    }\n",
       "</style>\n",
       "<table border=\"1\" class=\"dataframe\">\n",
       "  <thead>\n",
       "    <tr style=\"text-align: right;\">\n",
       "      <th></th>\n",
       "      <th>firstname</th>\n",
       "      <th>Middle_name__c</th>\n",
       "      <th>lastname</th>\n",
       "    </tr>\n",
       "  </thead>\n",
       "  <tbody>\n",
       "    <tr>\n",
       "      <th>0</th>\n",
       "      <td>hubrepo</td>\n",
       "      <td></td>\n",
       "      <td>hubrepo</td>\n",
       "    </tr>\n",
       "    <tr>\n",
       "      <th>1</th>\n",
       "      <td>nanoHUB</td>\n",
       "      <td></td>\n",
       "      <td>support</td>\n",
       "    </tr>\n",
       "    <tr>\n",
       "      <th>2</th>\n",
       "      <td>Grid</td>\n",
       "      <td></td>\n",
       "      <td>Statistics</td>\n",
       "    </tr>\n",
       "    <tr>\n",
       "      <th>3</th>\n",
       "      <td>NCN</td>\n",
       "      <td></td>\n",
       "      <td>NCN</td>\n",
       "    </tr>\n",
       "    <tr>\n",
       "      <th>4</th>\n",
       "      <td>nanoHUB</td>\n",
       "      <td></td>\n",
       "      <td>nanoHUB</td>\n",
       "    </tr>\n",
       "  </tbody>\n",
       "</table>\n",
       "</div>"
      ],
      "text/plain": [
       "  firstname Middle_name__c    lastname\n",
       "0   hubrepo                    hubrepo\n",
       "1   nanoHUB                    support\n",
       "2      Grid                 Statistics\n",
       "3       NCN                        NCN\n",
       "4   nanoHUB                    nanoHUB"
      ]
     },
     "metadata": {},
     "output_type": "display_data"
    }
   ],
   "source": [
    "df_sf = pd.DataFrame()\n",
    "\n",
    "# Make sure NaN and NaT values are taken care of here\n",
    "df['name'] = df.name.str.strip()\n",
    "df = df[df['name'].notnull()]\n",
    "\n",
    "display(df)\n",
    "df_sf[['firstname', 'Middle_name__c', 'lastname']] = df['name'].apply(split_full_name)\n",
    "\n",
    "display(df_sf[(df_sf['firstname'].isnull()) & (df_sf['Middle_name__c'].isnull()) & (df_sf['lastname'].isnull())])\n",
    "df_sf = df_sf[(df_sf['firstname'].notnull()) & (df_sf['Middle_name__c'].notnull()) & (df_sf['lastname'].notnull())]\n",
    "\n",
    "display(df_sf.head())\n",
    "\n"
   ]
  },
  {
   "cell_type": "code",
   "execution_count": 37,
   "metadata": {
    "execution": {
     "iopub.execute_input": "2021-11-12T18:54:37.655464Z",
     "iopub.status.busy": "2021-11-12T18:54:37.654853Z",
     "iopub.status.idle": "2021-11-12T18:54:38.694204Z",
     "shell.execute_reply": "2021-11-12T18:54:38.693039Z",
     "shell.execute_reply.started": "2021-11-12T18:54:37.655418Z"
    }
   },
   "outputs": [
    {
     "data": {
      "text/html": [
       "<div>\n",
       "<style scoped>\n",
       "    .dataframe tbody tr th:only-of-type {\n",
       "        vertical-align: middle;\n",
       "    }\n",
       "\n",
       "    .dataframe tbody tr th {\n",
       "        vertical-align: top;\n",
       "    }\n",
       "\n",
       "    .dataframe thead th {\n",
       "        text-align: right;\n",
       "    }\n",
       "</style>\n",
       "<table border=\"1\" class=\"dataframe\">\n",
       "  <thead>\n",
       "    <tr style=\"text-align: right;\">\n",
       "      <th></th>\n",
       "      <th>firstname</th>\n",
       "      <th>Middle_name__c</th>\n",
       "      <th>lastname</th>\n",
       "      <th>nanoHUB_user_ID__c</th>\n",
       "      <th>nanoHUB_username__c</th>\n",
       "      <th>Email</th>\n",
       "      <th>HasOptedOutOfEmail</th>\n",
       "      <th>nanoHUB_account_BLOCKED__c</th>\n",
       "      <th>nanoHUB_registration_date__c</th>\n",
       "      <th>nanoHUB_last_active_date__c</th>\n",
       "      <th>Detailed_user_timeline_to_Tableau__c</th>\n",
       "      <th>nanoHUB_user_page__c</th>\n",
       "      <th>Organization__c</th>\n",
       "      <th>ORCID__c</th>\n",
       "      <th>Organization_email_derived__c</th>\n",
       "    </tr>\n",
       "  </thead>\n",
       "  <tbody>\n",
       "    <tr>\n",
       "      <th>276205</th>\n",
       "      <td>VENKATA</td>\n",
       "      <td>ANIRUDH KOMAL</td>\n",
       "      <td>KODAVALI</td>\n",
       "      <td>345791</td>\n",
       "      <td>anirudh_k</td>\n",
       "      <td>venkata_a@ec.iitr.ac.in</td>\n",
       "      <td>1</td>\n",
       "      <td>0</td>\n",
       "      <td>2021-11-12</td>\n",
       "      <td>2021-11-12</td>\n",
       "      <td>https://tableauqa.itap.purdue.edu/views/profil...</td>\n",
       "      <td>https://nanohub.org/members/345791</td>\n",
       "      <td>iit roorkee</td>\n",
       "      <td></td>\n",
       "      <td></td>\n",
       "    </tr>\n",
       "    <tr>\n",
       "      <th>276206</th>\n",
       "      <td>vishesh</td>\n",
       "      <td></td>\n",
       "      <td>chandrikapure</td>\n",
       "      <td>345792</td>\n",
       "      <td>visheshc38</td>\n",
       "      <td>visheshc38@gmail.com</td>\n",
       "      <td>1</td>\n",
       "      <td>0</td>\n",
       "      <td>2021-11-12</td>\n",
       "      <td>2021-11-12</td>\n",
       "      <td>https://tableauqa.itap.purdue.edu/views/profil...</td>\n",
       "      <td>https://nanohub.org/members/345792</td>\n",
       "      <td>wright state university</td>\n",
       "      <td></td>\n",
       "      <td>a0r5w00000V42qYAAR</td>\n",
       "    </tr>\n",
       "    <tr>\n",
       "      <th>276207</th>\n",
       "      <td>Rahul</td>\n",
       "      <td></td>\n",
       "      <td>Kumar</td>\n",
       "      <td>345793</td>\n",
       "      <td>rahul20150133775</td>\n",
       "      <td>rahul20150133775@gmail.com</td>\n",
       "      <td>1</td>\n",
       "      <td>0</td>\n",
       "      <td>2021-11-12</td>\n",
       "      <td>2021-11-12</td>\n",
       "      <td>https://tableauqa.itap.purdue.edu/views/profil...</td>\n",
       "      <td>https://nanohub.org/members/345793</td>\n",
       "      <td>indian institute of technology, roorkee</td>\n",
       "      <td></td>\n",
       "      <td>a0r5w00000V43O1AAJ</td>\n",
       "    </tr>\n",
       "    <tr>\n",
       "      <th>276208</th>\n",
       "      <td>Karan</td>\n",
       "      <td></td>\n",
       "      <td>Kannoujiya</td>\n",
       "      <td>345795</td>\n",
       "      <td>kannoujiya432</td>\n",
       "      <td>kannoujiya432@gmail.com</td>\n",
       "      <td>1</td>\n",
       "      <td>0</td>\n",
       "      <td>2021-11-12</td>\n",
       "      <td>2021-11-12</td>\n",
       "      <td>https://tableauqa.itap.purdue.edu/views/profil...</td>\n",
       "      <td>https://nanohub.org/members/345795</td>\n",
       "      <td>iit roorkee</td>\n",
       "      <td></td>\n",
       "      <td></td>\n",
       "    </tr>\n",
       "    <tr>\n",
       "      <th>276209</th>\n",
       "      <td>sarana</td>\n",
       "      <td>solusindo</td>\n",
       "      <td>informatika</td>\n",
       "      <td>345796</td>\n",
       "      <td>solusitraining</td>\n",
       "      <td>annurulizza3@gmail.com</td>\n",
       "      <td>1</td>\n",
       "      <td>0</td>\n",
       "      <td>2021-11-12</td>\n",
       "      <td>2021-11-12</td>\n",
       "      <td>https://tableauqa.itap.purdue.edu/views/profil...</td>\n",
       "      <td>https://nanohub.org/members/345796</td>\n",
       "      <td>harvard university</td>\n",
       "      <td></td>\n",
       "      <td>a0r5w00000V42kEAAR</td>\n",
       "    </tr>\n",
       "  </tbody>\n",
       "</table>\n",
       "</div>"
      ],
      "text/plain": [
       "       firstname Middle_name__c       lastname  nanoHUB_user_ID__c  \\\n",
       "276205   VENKATA  ANIRUDH KOMAL       KODAVALI              345791   \n",
       "276206   vishesh                 chandrikapure              345792   \n",
       "276207     Rahul                         Kumar              345793   \n",
       "276208     Karan                    Kannoujiya              345795   \n",
       "276209    sarana      solusindo    informatika              345796   \n",
       "\n",
       "       nanoHUB_username__c                       Email  HasOptedOutOfEmail  \\\n",
       "276205           anirudh_k     venkata_a@ec.iitr.ac.in                   1   \n",
       "276206          visheshc38        visheshc38@gmail.com                   1   \n",
       "276207    rahul20150133775  rahul20150133775@gmail.com                   1   \n",
       "276208       kannoujiya432     kannoujiya432@gmail.com                   1   \n",
       "276209      solusitraining      annurulizza3@gmail.com                   1   \n",
       "\n",
       "        nanoHUB_account_BLOCKED__c nanoHUB_registration_date__c  \\\n",
       "276205                           0                   2021-11-12   \n",
       "276206                           0                   2021-11-12   \n",
       "276207                           0                   2021-11-12   \n",
       "276208                           0                   2021-11-12   \n",
       "276209                           0                   2021-11-12   \n",
       "\n",
       "       nanoHUB_last_active_date__c  \\\n",
       "276205                  2021-11-12   \n",
       "276206                  2021-11-12   \n",
       "276207                  2021-11-12   \n",
       "276208                  2021-11-12   \n",
       "276209                  2021-11-12   \n",
       "\n",
       "                     Detailed_user_timeline_to_Tableau__c  \\\n",
       "276205  https://tableauqa.itap.purdue.edu/views/profil...   \n",
       "276206  https://tableauqa.itap.purdue.edu/views/profil...   \n",
       "276207  https://tableauqa.itap.purdue.edu/views/profil...   \n",
       "276208  https://tableauqa.itap.purdue.edu/views/profil...   \n",
       "276209  https://tableauqa.itap.purdue.edu/views/profil...   \n",
       "\n",
       "                      nanoHUB_user_page__c  \\\n",
       "276205  https://nanohub.org/members/345791   \n",
       "276206  https://nanohub.org/members/345792   \n",
       "276207  https://nanohub.org/members/345793   \n",
       "276208  https://nanohub.org/members/345795   \n",
       "276209  https://nanohub.org/members/345796   \n",
       "\n",
       "                                Organization__c ORCID__c  \\\n",
       "276205                              iit roorkee            \n",
       "276206                  wright state university            \n",
       "276207  indian institute of technology, roorkee            \n",
       "276208                              iit roorkee            \n",
       "276209                       harvard university            \n",
       "\n",
       "       Organization_email_derived__c  \n",
       "276205                                \n",
       "276206            a0r5w00000V42qYAAR  \n",
       "276207            a0r5w00000V43O1AAJ  \n",
       "276208                                \n",
       "276209            a0r5w00000V42kEAAR  "
      ]
     },
     "execution_count": 37,
     "metadata": {},
     "output_type": "execute_result"
    }
   ],
   "source": [
    "df_sf['nanoHUB_user_ID__c']            = df['id']\n",
    "df_sf['nanoHUB_username__c']           = df['username']\n",
    "df_sf['Email']                         = df['email'].fillna('').apply(lambda x: '' if '@invalid' in x else x).apply(lambda x: '' if '@' not in x else x)\n",
    "\n",
    "# for sendEmail: 0 = opt-out, 1 = receive email. For salesforce HasOptedOutOfEmail, it's exact opposite\n",
    "df_sf['HasOptedOutOfEmail']            = df['sendEmail'].apply(lambda x: 0 if x==1 else 1)\n",
    "df_sf['nanoHUB_account_BLOCKED__c']    = df['block'].fillna(0)\n",
    "\n",
    "# solidify time-related columns from datetime to string\n",
    "df_sf['nanoHUB_registration_date__c']  = df['registerDate'].dt.date.fillna('').astype('str')\n",
    "df_sf['nanoHUB_last_active_date__c']   = df['lastvisitDate'].dt.date.fillna('').astype('str')\n",
    "\n",
    "# Tableau detailed view\n",
    "df_sf['Detailed_user_timeline_to_Tableau__c'] = df_sf['Email'].apply(lambda x: 'https://tableauqa.itap.purdue.edu/views/profile/ProfileTimeline?Id%20Email='+x+'\\\n",
    "&:iframeSizedToWindow=true&:embed=y&:showAppBanner=false\\\n",
    "&:display_count=no&:showVizHome=no#6' if x != '' else '')\n",
    "\n",
    "# nanoHUB user profile\n",
    "df_sf['nanoHUB_user_page__c'] = df_sf['nanoHUB_user_ID__c'].apply(lambda x: 'https://nanohub.org/members/%d'%x if x != '' else '')\n",
    "df_sf['Organization__c'] = df['organization'].fillna('')\n",
    "\n",
    "df_sf['ORCID__c'] = df['orcid'].fillna('')\n",
    "\n",
    "# derived information\n",
    "df_sf['Organization_email_derived__c'] = df['Salesforce_org_ID'].fillna(' ')\n",
    "\n",
    "sf_original_fields = df_sf.columns\n",
    "\n",
    "# display\n",
    "df_sf.head()\n",
    "df_sf.tail()"
   ]
  },
  {
   "cell_type": "markdown",
   "metadata": {},
   "source": [
    "## To Salesforce Sales Cloud CRM"
   ]
  },
  {
   "cell_type": "code",
   "execution_count": 38,
   "metadata": {
    "collapsed": false,
    "execution": {
     "iopub.execute_input": "2021-11-12T18:54:38.697708Z",
     "iopub.status.busy": "2021-11-12T18:54:38.696672Z",
     "iopub.status.idle": "2021-11-12T18:54:38.704768Z",
     "shell.execute_reply": "2021-11-12T18:54:38.701735Z",
     "shell.execute_reply.started": "2021-11-12T18:54:38.697524Z"
    },
    "jupyter": {
     "outputs_hidden": false
    },
    "pycharm": {
     "name": "#%%\n"
    }
   },
   "outputs": [],
   "source": [
    "\n",
    "db_s.object_id = object_id\n",
    "db_s.external_id = external_id"
   ]
  },
  {
   "cell_type": "code",
   "execution_count": 39,
   "metadata": {
    "collapsed": false,
    "execution": {
     "iopub.execute_input": "2021-11-12T18:54:38.710327Z",
     "iopub.status.busy": "2021-11-12T18:54:38.707770Z",
     "iopub.status.idle": "2021-11-12T18:55:48.319367Z",
     "shell.execute_reply": "2021-11-12T18:55:48.317318Z",
     "shell.execute_reply.started": "2021-11-12T18:54:38.710227Z"
    },
    "jupyter": {
     "outputs_hidden": false
    },
    "pycharm": {
     "name": "#%%\n"
    }
   },
   "outputs": [
    {
     "name": "stdout",
     "output_type": "stream",
     "text": [
      "[Success] Bulk job creation successful. Job ID = 7505w00000b4jN6AAI\n",
      "hello\n",
      "[Success] CSV upload successful. Job ID = 7505w00000b4jN6AAI\n",
      "[Success] Closing job successful. Job ID = 7505w00000b4jN6AAI\n"
     ]
    }
   ],
   "source": [
    "# send data to Salesforce\n",
    "db_s.send_data(df_sf)"
   ]
  },
  {
   "cell_type": "code",
   "execution_count": 40,
   "metadata": {
    "collapsed": false,
    "execution": {
     "iopub.execute_input": "2021-11-12T18:55:48.322584Z",
     "iopub.status.busy": "2021-11-12T18:55:48.321533Z",
     "iopub.status.idle": "2021-11-12T18:55:49.747503Z",
     "shell.execute_reply": "2021-11-12T18:55:49.746777Z",
     "shell.execute_reply.started": "2021-11-12T18:55:48.322445Z"
    },
    "jupyter": {
     "outputs_hidden": false
    },
    "pycharm": {
     "name": "#%%\n"
    }
   },
   "outputs": [
    {
     "data": {
      "text/plain": [
       "{'id': '7505w00000b4jN6AAI',\n",
       " 'operation': 'upsert',\n",
       " 'object': 'Contact',\n",
       " 'createdById': '0055w00000DM5bOAAT',\n",
       " 'createdDate': '2021-11-12T18:54:43.000+0000',\n",
       " 'systemModstamp': '2021-11-12T18:55:50.000+0000',\n",
       " 'state': 'UploadComplete',\n",
       " 'externalIdFieldName': 'nanoHUB_user_ID__c',\n",
       " 'concurrencyMode': 'Parallel',\n",
       " 'contentType': 'CSV',\n",
       " 'apiVersion': 47.0,\n",
       " 'jobType': 'V2Ingest',\n",
       " 'lineEnding': 'LF',\n",
       " 'columnDelimiter': 'COMMA',\n",
       " 'numberRecordsProcessed': 0,\n",
       " 'numberRecordsFailed': 0,\n",
       " 'retries': 0,\n",
       " 'totalProcessingTime': 0,\n",
       " 'apiActiveProcessingTime': 0,\n",
       " 'apexProcessingTime': 0}"
      ]
     },
     "execution_count": 40,
     "metadata": {},
     "output_type": "execute_result"
    }
   ],
   "source": [
    "# check status\n",
    "db_s.check_bulk_status()"
   ]
  },
  {
   "cell_type": "code",
   "execution_count": 41,
   "metadata": {
    "collapsed": false,
    "execution": {
     "iopub.execute_input": "2021-11-12T18:55:49.749701Z",
     "iopub.status.busy": "2021-11-12T18:55:49.749080Z",
     "iopub.status.idle": "2021-11-12T18:55:51.078227Z",
     "shell.execute_reply": "2021-11-12T18:55:51.077031Z",
     "shell.execute_reply.started": "2021-11-12T18:55:49.749453Z"
    },
    "jupyter": {
     "outputs_hidden": false
    },
    "pycharm": {
     "name": "#%%\n"
    },
    "tags": []
   },
   "outputs": [
    {
     "name": "stdout",
     "output_type": "stream",
     "text": [
      "''\n"
     ]
    }
   ],
   "source": [
    "# check status\n",
    "from pprint import pprint\n",
    "\n",
    "pprint(db_s.check_bulk_failed_results())"
   ]
  },
  {
   "cell_type": "code",
   "execution_count": null,
   "metadata": {
    "collapsed": false,
    "jupyter": {
     "outputs_hidden": false
    },
    "pycharm": {
     "name": "#%%\n"
    }
   },
   "outputs": [],
   "source": []
  },
  {
   "cell_type": "code",
   "execution_count": null,
   "metadata": {
    "collapsed": false,
    "jupyter": {
     "outputs_hidden": false
    },
    "pycharm": {
     "name": "#%%\n"
    }
   },
   "outputs": [],
   "source": []
  },
  {
   "cell_type": "code",
   "execution_count": null,
   "metadata": {
    "collapsed": false,
    "jupyter": {
     "outputs_hidden": false
    },
    "pycharm": {
     "name": "#%%\n"
    }
   },
   "outputs": [],
   "source": []
  }
 ],
 "metadata": {
  "celltoolbar": "Tags",
  "kernelspec": {
   "display_name": "Python 3 (ipykernel)",
   "language": "python",
   "name": "python3"
  },
  "language_info": {
   "codemirror_mode": {
    "name": "ipython",
    "version": 3
   },
   "file_extension": ".py",
   "mimetype": "text/x-python",
   "name": "python",
   "nbconvert_exporter": "python",
   "pygments_lexer": "ipython3",
   "version": "3.8.10"
  },
  "papermill": {
   "duration": 2655.425782,
   "end_time": "2021-01-21T07:14:47.508407",
   "environment_variables": {},
   "exception": null,
   "input_path": "/home/users/wang2506/nanohub_salesforce_integ/salesforce/task_user_basic_updates.ipynb",
   "output_path": "/home/users/wang2506/nanohub_salesforce_integ/salesforce/task_user_basic_updates.ipynb",
   "parameters": {},
   "start_time": "2021-01-21T06:30:32.082625",
   "version": "2.1.1"
  }
 },
 "nbformat": 4,
 "nbformat_minor": 4
}
