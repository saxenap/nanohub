{
 "cells": [
  {
   "cell_type": "markdown",
   "source": [
    "# DB2-Salesforce connector: Basic user information updates"
   ],
   "metadata": {
    "collapsed": false
   }
  },
  {
   "cell_type": "code",
   "execution_count": null,
   "outputs": [],
   "source": [
    "# Parameters\n",
    "hours_range = 24*365*30 # number of hours to look back\n",
    "\n",
    "# API settings\n",
    "api_url = '/services/data/v43.0/sobjects'\n",
    "external_id = 'nanoHUB_user_ID__c'\n",
    "object_id = 'Contact'\n",
    "\n",
    "# login parameters to be handled by Papermill\n",
    "sf_login_params = None\n",
    "sql_login_params = None\n",
    "\n",
    "lib_dir = ''"
   ],
   "metadata": {
    "collapsed": false,
    "pycharm": {
     "name": "#%%\n"
    }
   }
  },
  {
   "cell_type": "code",
   "execution_count": null,
   "outputs": [],
   "source": [
    "# Parameters\n",
    "from nanoHUB.application import Application\n",
    "\n",
    "application = Application.get_instance()\n",
    "nanohub_db = application.new_db_engine('nanohub')\n",
    "wang159_myrmekes_db = application.new_db_engine('wang159_myrmekes')\n",
    "\n",
    "\n",
    "salesforce = application.new_salesforce_engine()\n",
    "db_s = salesforce\n"
   ],
   "metadata": {
    "collapsed": false,
    "pycharm": {
     "name": "#%%\n"
    }
   }
  },
  {
   "cell_type": "code",
   "execution_count": null,
   "outputs": [],
   "source": [
    "import sys\n",
    "sys.path.append(lib_dir)\n",
    "\n",
    "import pandas as pd\n",
    "import datetime"
   ],
   "metadata": {
    "collapsed": false,
    "pycharm": {
     "name": "#%%\n"
    }
   }
  },
  {
   "cell_type": "markdown",
   "source": [
    "## Obtain contacts from DB2\n",
    "that have last visit date within range of interest specified by day_range"
   ],
   "metadata": {
    "collapsed": false
   }
  },
  {
   "cell_type": "raw",
   "source": [
    "MariaDB [nanohub]> select id, name, label from jos_user_profile_fields;\n",
    "+----+-----------------+-------------------------------------------------------+\n",
    "| id | name            | label                                                 |\n",
    "+----+-----------------+-------------------------------------------------------+\n",
    "|  1 | organization    | Organization                                          |\n",
    "|  2 | orgtype         | Organization / Position Type                          |\n",
    "|  3 | countryresident | Residency                                             |\n",
    "|  4 | countryorigin   | Citizenship                                           |\n",
    "|  5 | url             | Website                                               |\n",
    "|  6 | phone           | Telephone                                             |\n",
    "|  7 | orcid           | ORCID                                                 |\n",
    "|  8 | gender          | Gender                                                |\n",
    "|  9 | race            | Racial Background                                     |\n",
    "| 10 | disability      | Disability                                            |\n",
    "| 11 | reason          | Reason                                                |\n",
    "| 12 | tags            | Interests                                             |\n",
    "| 13 | address         | Address                                               |\n",
    "| 14 | hispanic        | Hispanic Heritage                                     |\n",
    "| 15 | bio             | Biography                                             |\n",
    "| 16 | howdidyouhear   | How did you first hear about nanoHUB?                 |\n",
    "| 17 | purposeofvisit  | What is the primary purpose of your visit to nanoHUB? |\n",
    "+----+-----------------+-------------------------------------------------------+\n",
    "\n",
    "\n",
    "\n",
    "MariaDB [nanohub]> explain  jos_user_profiles;\n",
    "+---------------+------------------+------+-----+---------+----------------+\n",
    "| Field         | Type             | Null | Key | Default | Extra          |\n",
    "+---------------+------------------+------+-----+---------+----------------+\n",
    "| id            | int(11) unsigned | NO   | PRI | NULL    | auto_increment |\n",
    "| user_id       | int(11)          | NO   | MUL | NULL    |                |\n",
    "| profile_key   | varchar(100)     | NO   |     | NULL    |                |\n",
    "| profile_value | text             | NO   |     | NULL    |                |\n",
    "| ordering      | int(11)          | NO   |     | 0       |                |\n",
    "| access        | int(10)          | NO   |     | 0       |                |\n",
    "+---------------+------------------+------+-----+---------+----------------+"
   ],
   "metadata": {
    "collapsed": false
   }
  },
  {
   "cell_type": "code",
   "execution_count": null,
   "outputs": [],
   "source": [
    "# Depending on the task, use different query and cutoff\n",
    "\n",
    "# Hourly update for new registrations\n",
    "date_cutoff = (datetime.datetime.today().date() - datetime.timedelta(hours=hours_range)).strftime('%Y-%m-%d')\n",
    "sql_query = \"select id, name, username, block, email, sendEmail, registerDate, lastvisitDate \\\n",
    "                    from jos_users where registerDate >= '%s'\" % date_cutoff\n",
    "\n",
    "# display\n",
    "print(sql_query)"
   ],
   "metadata": {
    "collapsed": false,
    "pycharm": {
     "name": "#%%\n"
    }
   }
  },
  {
   "cell_type": "code",
   "execution_count": null,
   "outputs": [],
   "source": [
    "# connect with DB2\n",
    "import sqlalchemy as sql\n",
    "\n",
    "df = pd.read_sql_query(sql_query, nanohub_db)\n",
    "\n",
    "# get user profile details\n",
    "profile_df = pd.read_sql_query(\"select * from jos_user_profiles where profile_key in ('orgtype', 'organization', 'orcid')\", nanohub_db)"
   ],
   "metadata": {
    "collapsed": false,
    "pycharm": {
     "name": "#%%\n"
    }
   }
  },
  {
   "cell_type": "code",
   "execution_count": null,
   "outputs": [],
   "source": [
    "# display\n",
    "display(df.head(1))\n",
    "\n",
    "display(profile_df.head(1))"
   ],
   "metadata": {
    "collapsed": false,
    "pycharm": {
     "name": "#%%\n"
    }
   }
  },
  {
   "cell_type": "code",
   "execution_count": null,
   "outputs": [],
   "source": [
    "df = pd.merge(df, profile_df[profile_df['profile_key'] == 'orgtype'][['user_id', 'profile_value']],how='left', left_on='id', right_on='user_id').drop(columns=['user_id']).rename(columns={'profile_value':'orgtype'})\n",
    "\n",
    "df = pd.merge(df, profile_df[profile_df['profile_key'] == 'organization'][['user_id', 'profile_value']],how='left', left_on='id', right_on='user_id').drop(columns=['user_id']).rename(columns={'profile_value':'organization'})\n",
    "\n",
    "df = pd.merge(df, profile_df[profile_df['profile_key'] == 'orcid'][['user_id', 'profile_value']],how='left', left_on='id', right_on='user_id').drop(columns=['user_id']).rename(columns={'profile_value':'orcid'})\n",
    "\n",
    "# display\n",
    "display(df.head(1))"
   ],
   "metadata": {
    "collapsed": false,
    "pycharm": {
     "name": "#%%\n"
    }
   }
  },
  {
   "cell_type": "code",
   "execution_count": null,
   "outputs": [],
   "source": [
    "# Obtain company domain information from DB2\n",
    "domain_df = pd.read_sql_query(\"select name as domain_name, domain, industry, `size range` as size, country from wang159_myrmekes.companies_email_domain\", wang159_myrmekes_db)"
   ],
   "metadata": {
    "collapsed": false,
    "pycharm": {
     "name": "#%%\n"
    }
   }
  },
  {
   "cell_type": "code",
   "execution_count": null,
   "outputs": [],
   "source": [
    "# make sure domain is unique and drop NaN\n",
    "domain_df = domain_df.drop_duplicates(subset='domain', keep='first').dropna()"
   ],
   "metadata": {
    "collapsed": false,
    "pycharm": {
     "name": "#%%\n"
    }
   }
  },
  {
   "cell_type": "code",
   "execution_count": null,
   "outputs": [],
   "source": [
    "# get email domain of nanoHUB users\n",
    "def get_domain(this_email):\n",
    "    seg_list = this_email.split('@')\n",
    "\n",
    "    if len(seg_list) == 2:\n",
    "        return seg_list[1].lower()\n",
    "    else:\n",
    "        return None\n",
    "\n",
    "df['email_host'] = df['email'].apply(get_domain)"
   ],
   "metadata": {
    "collapsed": false,
    "pycharm": {
     "name": "#%%\n"
    }
   }
  },
  {
   "cell_type": "raw",
   "source": [
    "df = pd.merge(df, domain_df[domain_df.domain.isin(df['email_domain'].unique()) & ~domain_df.domain.isna()], how='left', left_on='email_domain', right_on='domain')\n",
    "\n",
    "# display\n",
    "display(df.head(2))"
   ],
   "metadata": {
    "collapsed": false
   }
  },
  {
   "cell_type": "code",
   "execution_count": null,
   "outputs": [],
   "source": [
    "# get domain by nanoHUB organization field\n",
    "df['organization'] = df.organization.astype('str').apply(str.lower)\n",
    "\n",
    "df.loc[(df['organization']=='nan'),'organization'] = None"
   ],
   "metadata": {
    "collapsed": false,
    "pycharm": {
     "name": "#%%\n"
    }
   }
  },
  {
   "cell_type": "code",
   "execution_count": null,
   "outputs": [],
   "source": [
    "import nltk\n",
    "nltk.download('stopwords')\n",
    "\n",
    "from nltk.corpus import stopwords\n",
    "s_words = stopwords.words('english')"
   ],
   "metadata": {
    "collapsed": false,
    "pycharm": {
     "name": "#%%\n"
    }
   }
  },
  {
   "cell_type": "code",
   "execution_count": null,
   "outputs": [],
   "source": [
    "import re\n",
    "\n",
    "def clean_domain(this_domain_name):\n",
    "\n",
    "    if not this_domain_name:\n",
    "        return None\n",
    "\n",
    "    # Replace all non-alphanumeric characters with space\n",
    "    this_domain_name = re.sub(\"[^0-9a-zA-Z]+\", \" \", this_domain_name.lower())\n",
    "    name_list = this_domain_name.split(' ')\n",
    "\n",
    "    # remove all stop words\n",
    "    name_list = ['' if x in s_words else x for x in name_list]\n",
    "\n",
    "    return set(filter(None, name_list))"
   ],
   "metadata": {
    "collapsed": false,
    "pycharm": {
     "name": "#%%\n"
    }
   }
  },
  {
   "cell_type": "code",
   "execution_count": null,
   "outputs": [],
   "source": [
    "# clean domain name\n",
    "domain_df['domain_cleaned_set'] = domain_df.domain_name.apply(clean_domain)\n",
    "\n",
    "# clean nanohub org name\n",
    "df['org_cleaned_set'] = df.organization.apply(clean_domain)"
   ],
   "metadata": {
    "collapsed": false,
    "pycharm": {
     "name": "#%%\n"
    }
   }
  },
  {
   "cell_type": "code",
   "execution_count": null,
   "outputs": [],
   "source": [
    "# hash cleaned domain name\n",
    "domain_df['domain_cleaned_hash'] = domain_df['domain_cleaned_set'].apply(lambda x: '-'.join(sorted(list(x))) if x else None)\n",
    "\n",
    "# hash cleaned clean nanohub org name\n",
    "df['org_cleaned_hash'] = df['org_cleaned_set'].apply(lambda x: '-'.join(sorted(list(x))) if x else None)"
   ],
   "metadata": {
    "collapsed": false,
    "pycharm": {
     "name": "#%%\n"
    }
   }
  },
  {
   "cell_type": "markdown",
   "source": [
    "## Collaborative filtering for commerical email hosts"
   ],
   "metadata": {
    "collapsed": false
   }
  },
  {
   "cell_type": "code",
   "execution_count": null,
   "outputs": [],
   "source": [
    "def predict_if_commerical(this_email_host_df):\n",
    "    # predict if this email host is commerical\n",
    "    top_cnt = this_email_host_df['org_cleaned_hash'].value_counts()\n",
    "\n",
    "    if top_cnt.shape[0] > 0:\n",
    "        if (top_cnt.iloc[0]/top_cnt.sum()) < 0.2:\n",
    "            return True\n",
    "        else:\n",
    "            return False\n",
    "\n",
    "    else:\n",
    "        return False\n",
    "\n",
    "is_email_commerical = df[['email_host', 'org_cleaned_hash']].groupby('email_host').apply(predict_if_commerical)"
   ],
   "metadata": {
    "collapsed": false,
    "pycharm": {
     "name": "#%%\n"
    }
   }
  },
  {
   "cell_type": "code",
   "execution_count": null,
   "outputs": [],
   "source": [
    "# mark commerical email addresses\n",
    "df = pd.merge(df, is_email_commerical.reset_index(name='is_email_commerical'), how='left', left_on='email_host', right_on='email_host' ,)"
   ],
   "metadata": {
    "collapsed": false,
    "pycharm": {
     "name": "#%%\n"
    }
   }
  },
  {
   "cell_type": "code",
   "execution_count": null,
   "outputs": [],
   "source": [
    "# obtain domain estimation from email addresses\n",
    "df = pd.merge(df, domain_df[~domain_df.domain.isin(is_email_commerical[is_email_commerical].index)]['domain'], how='left', left_on='email_host', right_on='domain').rename(columns={'domain':'domain_by_email'})\n",
    "\n",
    "# display\n",
    "display(df.head(2).T)"
   ],
   "metadata": {
    "collapsed": false,
    "pycharm": {
     "name": "#%%\n"
    }
   }
  },
  {
   "cell_type": "markdown",
   "source": [
    "## Fuzzy derive organization from nanoHUB profiles"
   ],
   "metadata": {
    "collapsed": false
   }
  },
  {
   "cell_type": "code",
   "execution_count": null,
   "outputs": [],
   "source": [
    "# attempt direct join by hash\n",
    "domain_subset_df = domain_df[domain_df.domain.isin(df.email_host.unique())][['domain', 'domain_cleaned_hash']]\n",
    "domain_subset_df = domain_subset_df[~domain_subset_df.domain.isna()&~domain_subset_df.domain_cleaned_hash.isna()]\n",
    "\n",
    "derived_df = pd.merge(df, domain_subset_df.rename(columns={'domain':'domain_by_profile'}),how='left', left_on='org_cleaned_hash', right_on='domain_cleaned_hash').drop('domain_cleaned_hash', axis=1)\n",
    "\n",
    "# display\n",
    "derived_df.sample(5).T"
   ],
   "metadata": {
    "collapsed": false,
    "pycharm": {
     "name": "#%%\n"
    }
   }
  },
  {
   "cell_type": "code",
   "execution_count": null,
   "outputs": [],
   "source": [
    "# attempt to reduce domain_df size to speedup Jaccard calculation\n",
    "from itertools import chain\n",
    "\n",
    "all_word_set = set(chain.from_iterable(derived_df[(derived_df['domain_by_profile'].isna() & (~derived_df['organization'].isna()))].org_cleaned_set.values))\n",
    "\n",
    "# select the domain_df entry with words from all_word_set\n",
    "domain_subset_df = domain_df[domain_df.domain_cleaned_set.notnull()]\n",
    "domain_subset_df = domain_subset_df[domain_subset_df.domain_cleaned_set.apply(lambda x: True if len(x.intersection(all_word_set)) > 0 else False)]"
   ],
   "metadata": {
    "collapsed": false,
    "pycharm": {
     "name": "#%%\n"
    }
   }
  },
  {
   "cell_type": "code",
   "execution_count": null,
   "outputs": [],
   "source": [
    "def get_org(this_df):\n",
    "    # look at the cohort with this label, do they have a commonly agreed domain_by_email? If so, use it\n",
    "    this_dbe_count = this_df.domain_by_email.value_counts()\n",
    "\n",
    "    if this_dbe_count.shape[0] < 1:\n",
    "        return None\n",
    "\n",
    "    this_top_dbe_perc = this_dbe_count.iloc[0]/this_dbe_count.sum()\n",
    "\n",
    "    # if top choice occupies majority of cases, then this cohort can be implied to this domain_by_email address\n",
    "    if this_top_dbe_perc > 0.5:\n",
    "        return this_dbe_count.index[0]\n",
    "\n",
    "\n",
    "derived_hash = derived_df.groupby('org_cleaned_hash').apply(get_org)"
   ],
   "metadata": {
    "collapsed": false,
    "pycharm": {
     "name": "#%%\n"
    }
   }
  },
  {
   "cell_type": "code",
   "execution_count": null,
   "outputs": [],
   "source": [
    "derived_df = pd.merge(derived_df, derived_hash.reset_index(name='domain_by_profile_infer'), how='left', left_on='org_cleaned_hash', right_on='org_cleaned_hash')"
   ],
   "metadata": {
    "collapsed": false,
    "pycharm": {
     "name": "#%%\n"
    }
   }
  },
  {
   "cell_type": "code",
   "execution_count": null,
   "outputs": [],
   "source": [
    "# calculate a composite domain based on domain_by_email, domain_by_profile, and domain_by_profile_infer\n",
    "def get_composite_domain(this_df):\n",
    "\n",
    "    # if domain found via profile with direct match, use it\n",
    "    if this_df.domain_by_profile != '':\n",
    "        return this_df.domain_by_profile\n",
    "\n",
    "    # if domain found via email, use it\n",
    "    if this_df.domain_by_email != '':\n",
    "        return this_df.domain_by_email\n",
    "\n",
    "        # if domain found via profile but not with a direct match, use it\n",
    "    if this_df.domain_by_profile_infer != '':\n",
    "        return this_df.domain_by_profile_infer\n",
    "\n",
    "    # else, no organization can be concluded, return none\n",
    "    return None\n",
    "\n",
    "\n",
    "derived_df['domain_final'] = derived_df[['domain_by_email', 'domain_by_profile', 'domain_by_profile_infer']].fillna('').apply(get_composite_domain, axis=1)"
   ],
   "metadata": {
    "collapsed": false,
    "pycharm": {
     "name": "#%%\n"
    }
   }
  },
  {
   "cell_type": "code",
   "execution_count": null,
   "outputs": [],
   "source": [
    "derived_df[derived_df.email_host == 'yahoo.com'][['domain_final', 'domain_by_email']]"
   ],
   "metadata": {
    "collapsed": false,
    "pycharm": {
     "name": "#%%\n"
    }
   }
  },
  {
   "cell_type": "markdown",
   "source": [
    "## Update Salesforce institution"
   ],
   "metadata": {
    "collapsed": false
   }
  },
  {
   "cell_type": "code",
   "execution_count": null,
   "outputs": [],
   "source": [
    "# get a unique list of organizations that appears in contact\n",
    "#org_df = derived_df[['domain_name', 'domain', 'industry', 'size', 'country']].drop_duplicates().dropna()\n",
    "org_df = pd.merge(derived_df[['domain_final']].drop_duplicates().dropna(), domain_df, how='inner', left_on='domain_final', right_on='domain')\n",
    "org_df = org_df[['domain_name', 'domain', 'industry', 'size', 'country']]\n",
    "\n",
    "# display\n",
    "display(org_df.head(2))"
   ],
   "metadata": {
    "collapsed": false,
    "pycharm": {
     "name": "#%%\n"
    }
   }
  },
  {
   "cell_type": "code",
   "execution_count": null,
   "outputs": [],
   "source": [
    "df_sf = pd.DataFrame()\n",
    "\n",
    "# Make sure NaN and NaT values are taken care of here\n",
    "df_sf['Name'] = org_df['domain_name']\n",
    "\n",
    "df_sf['Size_Range__c'] = org_df['size'].fillna('Unknown')\n",
    "df_sf['Country__c'] = org_df['country']\n",
    "df_sf['Domain__c'] = org_df['domain']\n",
    "df_sf['Industry__c'] = org_df['industry']\n",
    "\n",
    "sf_original_fields = df_sf.columns\n",
    "\n",
    "# display\n",
    "df_sf.head(2).T"
   ],
   "metadata": {
    "collapsed": false,
    "pycharm": {
     "name": "#%%\n"
    }
   }
  },
  {
   "cell_type": "code",
   "execution_count": null,
   "outputs": [],
   "source": [
    "\n",
    "\n",
    "db_s.object_id = 'organization__c'\n",
    "db_s.external_id = 'Domain__c'"
   ],
   "metadata": {
    "collapsed": false,
    "pycharm": {
     "name": "#%%\n"
    }
   }
  },
  {
   "cell_type": "code",
   "execution_count": null,
   "outputs": [],
   "source": [
    "# send data to Salesforce\n",
    "db_s.send_data(df_sf)"
   ],
   "metadata": {
    "collapsed": false,
    "pycharm": {
     "name": "#%%\n"
    }
   }
  },
  {
   "cell_type": "code",
   "execution_count": null,
   "outputs": [],
   "source": [
    "# check status\n",
    "db_s.check_bulk_status()"
   ],
   "metadata": {
    "collapsed": false,
    "pycharm": {
     "name": "#%%\n"
    }
   }
  },
  {
   "cell_type": "code",
   "execution_count": null,
   "outputs": [],
   "source": [
    "# check status\n",
    "from pprint import pprint\n",
    "\n",
    "pprint(db_s.check_bulk_failed_results())"
   ],
   "metadata": {
    "collapsed": false,
    "pycharm": {
     "name": "#%%\n"
    }
   }
  },
  {
   "cell_type": "markdown",
   "source": [
    "## Obtain newly updated organization IDs from Salesforce"
   ],
   "metadata": {
    "collapsed": false
   }
  },
  {
   "cell_type": "code",
   "execution_count": null,
   "outputs": [],
   "source": [
    "# create DB2 to Salesforce API object\n"
   ],
   "metadata": {
    "collapsed": false,
    "pycharm": {
     "name": "#%%\n"
    }
   }
  },
  {
   "cell_type": "code",
   "execution_count": null,
   "outputs": [],
   "source": [
    "# get Salesforce ID for organizations\n",
    "sf_org_ID_df = db_s.query_data('SELECT Id, Domain__c FROM organization__c')\n",
    "\n",
    "# display\n",
    "sf_org_ID_df.head(3)"
   ],
   "metadata": {
    "collapsed": false,
    "pycharm": {
     "name": "#%%\n"
    }
   }
  },
  {
   "cell_type": "code",
   "execution_count": null,
   "outputs": [],
   "source": [
    "# join salesforce ID back to contact DF\n",
    "df = pd.merge(sf_org_ID_df, derived_df, how='right', left_on='Domain__c', right_on='domain_final').drop('Domain__c', axis=1).rename(columns={'Id':'Salesforce_org_ID'})"
   ],
   "metadata": {
    "collapsed": false,
    "pycharm": {
     "name": "#%%\n"
    }
   }
  },
  {
   "cell_type": "code",
   "execution_count": null,
   "outputs": [],
   "source": [
    "# display\n",
    "display(df.head(2))"
   ],
   "metadata": {
    "collapsed": false,
    "pycharm": {
     "name": "#%%\n"
    }
   }
  },
  {
   "cell_type": "markdown",
   "source": [
    "## Match data with Salesforce format"
   ],
   "metadata": {
    "collapsed": false
   }
  },
  {
   "cell_type": "code",
   "execution_count": null,
   "outputs": [],
   "source": [
    "# split full name into first, middle, and last names\n",
    "def split_full_name(this_name):\n",
    "    this_name_list = list(filter(None, this_name.split(' ')))\n",
    "\n",
    "    if len(this_name_list) == 1:\n",
    "        # single word name\n",
    "        return pd.Series([this_name_list[0],None, this_name_list[0]])\n",
    "\n",
    "    elif len(this_name_list) > 1:\n",
    "        # multi word name\n",
    "        return pd.Series([this_name_list[0],' '.join(this_name_list[1:-1]),this_name_list[-1]])"
   ],
   "metadata": {
    "collapsed": false,
    "pycharm": {
     "name": "#%%\n"
    }
   }
  },
  {
   "cell_type": "code",
   "execution_count": null,
   "outputs": [],
   "source": [
    "df_sf = pd.DataFrame()\n",
    "\n",
    "# Make sure NaN and NaT values are taken care of here\n",
    "df_sf[['firstname', 'Middle_name__c', 'lastname']] = df['name'].apply(split_full_name)\n",
    "\n",
    "df_sf['nanoHUB_user_ID__c']            = df['id']\n",
    "df_sf['nanoHUB_username__c']           = df['username']\n",
    "df_sf['Email']                         = df['email'].fillna('').apply(lambda x: '' if '@invalid' in x else x).apply(lambda x: '' if '@' not in x else x)\n",
    "\n",
    "# for sendEmail: 0 = opt-out, 1 = receive email. For salesforce HasOptedOutOfEmail, it's exact opposite\n",
    "df_sf['HasOptedOutOfEmail']            = df['sendEmail'].apply(lambda x: 0 if x==1 else 1)\n",
    "df_sf['nanoHUB_account_BLOCKED__c']    = df['block'].fillna(0)\n",
    "\n",
    "# solidify time-related columns from datetime to string\n",
    "df_sf['nanoHUB_registration_date__c']  = df['registerDate'].dt.date.fillna('').astype('str')\n",
    "df_sf['nanoHUB_last_active_date__c']   = df['lastvisitDate'].dt.date.fillna('').astype('str')\n",
    "\n",
    "# Tableau detailed view\n",
    "df_sf['Detailed_user_timeline_to_Tableau__c'] = df_sf['Email'].apply(lambda x: 'https://tableauqa.itap.purdue.edu/views/profile/ProfileTimeline?Id%20Email='+x+'\\\n",
    "&:iframeSizedToWindow=true&:embed=y&:showAppBanner=false\\\n",
    "&:display_count=no&:showVizHome=no#6' if x != '' else '')\n",
    "\n",
    "# nanoHUB user profile\n",
    "df_sf['nanoHUB_user_page__c'] = df_sf['nanoHUB_user_ID__c'].apply(lambda x: 'https://nanohub.org/members/%d'%x if x != '' else '')\n",
    "df_sf['Organization__c'] = df['organization'].fillna('')\n",
    "\n",
    "df_sf['ORCID__c'] = df['orcid'].fillna('')\n",
    "\n",
    "# derived information\n",
    "df_sf['Organization_email_derived__c'] = df['Salesforce_org_ID'].fillna(' ')\n",
    "\n",
    "sf_original_fields = df_sf.columns\n",
    "\n",
    "# display\n",
    "df_sf.head(2).T"
   ],
   "metadata": {
    "collapsed": false,
    "pycharm": {
     "name": "#%%\n"
    }
   }
  },
  {
   "cell_type": "markdown",
   "source": [
    "## To Salesforce Sales Cloud CRM"
   ],
   "metadata": {
    "collapsed": false
   }
  },
  {
   "cell_type": "code",
   "execution_count": null,
   "outputs": [],
   "source": [
    "\n",
    "db_s.object_id = object_id\n",
    "db_s.external_id = external_id"
   ],
   "metadata": {
    "collapsed": false,
    "pycharm": {
     "name": "#%%\n"
    }
   }
  },
  {
   "cell_type": "code",
   "execution_count": null,
   "outputs": [],
   "source": [
    "# send data to Salesforce\n",
    "db_s.send_data(df_sf)"
   ],
   "metadata": {
    "collapsed": false,
    "pycharm": {
     "name": "#%%\n"
    }
   }
  },
  {
   "cell_type": "code",
   "execution_count": null,
   "outputs": [],
   "source": [
    "# check status\n",
    "db_s.check_bulk_status()"
   ],
   "metadata": {
    "collapsed": false,
    "pycharm": {
     "name": "#%%\n"
    }
   }
  },
  {
   "cell_type": "code",
   "execution_count": null,
   "outputs": [],
   "source": [
    "# check status\n",
    "from pprint import pprint\n",
    "\n",
    "pprint(db_s.check_bulk_failed_results())"
   ],
   "metadata": {
    "collapsed": false,
    "pycharm": {
     "name": "#%%\n"
    }
   }
  },
  {
   "cell_type": "code",
   "execution_count": null,
   "outputs": [],
   "source": [],
   "metadata": {
    "collapsed": false,
    "pycharm": {
     "name": "#%%\n"
    }
   }
  },
  {
   "cell_type": "code",
   "execution_count": null,
   "outputs": [],
   "source": [],
   "metadata": {
    "collapsed": false,
    "pycharm": {
     "name": "#%%\n"
    }
   }
  },
  {
   "cell_type": "code",
   "execution_count": null,
   "outputs": [],
   "source": [],
   "metadata": {
    "collapsed": false,
    "pycharm": {
     "name": "#%%\n"
    }
   }
  }
 ],
 "metadata": {
  "celltoolbar": "Tags",
  "kernelspec": {
   "display_name": "Python 3",
   "language": "python",
   "name": "python3"
  },
  "language_info": {
   "codemirror_mode": {
    "name": "ipython",
    "version": 3
   },
   "file_extension": ".py",
   "mimetype": "text/x-python",
   "name": "python",
   "nbconvert_exporter": "python",
   "pygments_lexer": "ipython3",
   "version": "3.8.10"
  },
  "papermill": {
   "duration": 2655.425782,
   "end_time": "2021-01-21T07:14:47.508407",
   "environment_variables": {},
   "exception": null,
   "input_path": "/home/users/wang2506/nanohub_salesforce_integ/salesforce/task_user_basic_updates.ipynb",
   "output_path": "/home/users/wang2506/nanohub_salesforce_integ/salesforce/task_user_basic_updates.ipynb",
   "parameters": {},
   "start_time": "2021-01-21T06:30:32.082625",
   "version": "2.1.1"
  }
 },
 "nbformat": 4,
 "nbformat_minor": 4
}