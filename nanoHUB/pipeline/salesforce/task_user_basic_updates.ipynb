{
 "cells": [
  {
   "cell_type": "markdown",
   "metadata": {
    "papermill": {
     "duration": 0.146843,
     "end_time": "2021-01-21T06:30:34.876757",
     "exception": false,
     "start_time": "2021-01-21T06:30:34.729914",
     "status": "completed"
    },
    "tags": []
   },
   "source": [
    "# DB2-Salesforce connector: Basic user information updates"
   ]
  },
  {
   "cell_type": "markdown",
   "metadata": {
    "papermill": {
     "duration": 0.117686,
     "end_time": "2021-01-21T06:30:35.178458",
     "exception": false,
     "start_time": "2021-01-21T06:30:35.060772",
     "status": "completed"
    },
    "tags": []
   },
   "source": [
    "%load_ext autoreload\n",
    "%autoreload 2"
   ]
  },
  {
   "cell_type": "code",
   "execution_count": 1,
   "metadata": {
    "execution": {
     "iopub.execute_input": "2021-01-21T06:30:35.338607Z",
     "iopub.status.busy": "2021-01-21T06:30:35.337951Z",
     "iopub.status.idle": "2021-01-21T06:30:35.341367Z",
     "shell.execute_reply": "2021-01-21T06:30:35.340829Z"
    },
    "papermill": {
     "duration": 0.051634,
     "end_time": "2021-01-21T06:30:35.341505",
     "exception": false,
     "start_time": "2021-01-21T06:30:35.289871",
     "status": "completed"
    },
    "tags": [
     "parameters"
    ]
   },
   "outputs": [],
   "source": [
    "# Parameters\n",
    "hours_range = 24*365*1 # number of hours to look back\n",
    "#change this back to one year, once you're done\n",
    "\n",
    "# API settings\n",
    "api_url = '/services/data/v43.0/sobjects'\n",
    "external_id = 'nanoHUB_user_ID__c'\n",
    "object_id = 'Contact'\n",
    "\n",
    "from nanoHUB.application import Application\n",
    "\n",
    "application = Application.get_instance()\n",
    "nanohub_db = application.new_db_engine('nanohub')\n",
    "wang159_myrmekes_db = application.new_db_engine('wang159_myrmekes')\n",
    "\n",
    "\n",
    "salesforce = application.new_salesforce_engine()\n",
    "db_s = salesforce"
   ]
  },
  {
   "cell_type": "code",
   "execution_count": 2,
   "metadata": {
    "execution": {
     "iopub.execute_input": "2021-01-21T06:30:35.420057Z",
     "iopub.status.busy": "2021-01-21T06:30:35.419282Z",
     "iopub.status.idle": "2021-01-21T06:30:40.313630Z",
     "shell.execute_reply": "2021-01-21T06:30:40.313093Z"
    },
    "papermill": {
     "duration": 4.934353,
     "end_time": "2021-01-21T06:30:40.313798",
     "exception": false,
     "start_time": "2021-01-21T06:30:35.379445",
     "status": "completed"
    },
    "tags": []
   },
   "outputs": [],
   "source": [
    "\n",
    "import pandas as pd\n",
    "import datetime"
   ]
  },
  {
   "cell_type": "markdown",
   "metadata": {
    "papermill": {
     "duration": 0.185227,
     "end_time": "2021-01-21T06:30:40.628047",
     "exception": false,
     "start_time": "2021-01-21T06:30:40.442820",
     "status": "completed"
    },
    "tags": []
   },
   "source": [
    "## Obtain contacts from DB2 \n",
    "that have last visit date within range of interest specified by day_range"
   ]
  },
  {
   "cell_type": "raw",
   "metadata": {
    "papermill": {
     "duration": 0.06183,
     "end_time": "2021-01-21T06:30:40.850928",
     "exception": false,
     "start_time": "2021-01-21T06:30:40.789098",
     "status": "completed"
    },
    "tags": []
   },
   "source": [
    "MariaDB [nanohub]> select id, name, label from jos_user_profile_fields;\n",
    "+----+-----------------+-------------------------------------------------------+\n",
    "| id | name            | label                                                 |\n",
    "+----+-----------------+-------------------------------------------------------+\n",
    "|  1 | organization    | Organization                                          |\n",
    "|  2 | orgtype         | Organization / Position Type                          |\n",
    "|  3 | countryresident | Residency                                             |\n",
    "|  4 | countryorigin   | Citizenship                                           |\n",
    "|  5 | url             | Website                                               |\n",
    "|  6 | phone           | Telephone                                             |\n",
    "|  7 | orcid           | ORCID                                                 |\n",
    "|  8 | gender          | Gender                                                |\n",
    "|  9 | race            | Racial Background                                     |\n",
    "| 10 | disability      | Disability                                            |\n",
    "| 11 | reason          | Reason                                                |\n",
    "| 12 | tags            | Interests                                             |\n",
    "| 13 | address         | Address                                               |\n",
    "| 14 | hispanic        | Hispanic Heritage                                     |\n",
    "| 15 | bio             | Biography                                             |\n",
    "| 16 | howdidyouhear   | How did you first hear about nanoHUB?                 |\n",
    "| 17 | purposeofvisit  | What is the primary purpose of your visit to nanoHUB? |\n",
    "+----+-----------------+-------------------------------------------------------+\n",
    "\n",
    "\n",
    "\n",
    "MariaDB [nanohub]> explain  jos_user_profiles;\n",
    "+---------------+------------------+------+-----+---------+----------------+\n",
    "| Field         | Type             | Null | Key | Default | Extra          |\n",
    "+---------------+------------------+------+-----+---------+----------------+\n",
    "| id            | int(11) unsigned | NO   | PRI | NULL    | auto_increment |\n",
    "| user_id       | int(11)          | NO   | MUL | NULL    |                |\n",
    "| profile_key   | varchar(100)     | NO   |     | NULL    |                |\n",
    "| profile_value | text             | NO   |     | NULL    |                |\n",
    "| ordering      | int(11)          | NO   |     | 0       |                |\n",
    "| access        | int(10)          | NO   |     | 0       |                |\n",
    "+---------------+------------------+------+-----+---------+----------------+"
   ]
  },
  {
   "cell_type": "code",
   "execution_count": 3,
   "metadata": {
    "execution": {
     "iopub.execute_input": "2021-01-21T06:30:40.942627Z",
     "iopub.status.busy": "2021-01-21T06:30:40.941998Z",
     "iopub.status.idle": "2021-01-21T06:30:40.972720Z",
     "shell.execute_reply": "2021-01-21T06:30:40.973126Z"
    },
    "papermill": {
     "duration": 0.085257,
     "end_time": "2021-01-21T06:30:40.973314",
     "exception": false,
     "start_time": "2021-01-21T06:30:40.888057",
     "status": "completed"
    },
    "scrolled": true,
    "tags": []
   },
   "outputs": [
    {
     "name": "stdout",
     "output_type": "stream",
     "text": [
      "select id, name, username, block, email, sendEmail, registerDate, lastvisitDate                     from jos_users where registerDate >= '2020-01-22' or lastvisitDate >= '2021-01-16'\n"
     ]
    }
   ],
   "source": [
    "# Depending on the task, use different query and cutoff\n",
    "\n",
    "# Hourly update for new registrations\n",
    "date_cutoff = (datetime.datetime.today().date() - datetime.timedelta(hours=hours_range))\\\n",
    "                    .strftime('%Y-%m-%d')\n",
    "lvd_cutoff = (datetime.datetime.today().date() - datetime.timedelta(hours=24*5))\\\n",
    "                    .strftime('%Y-%m-%d')\n",
    "sql_query = \"select id, name, username, block, email, sendEmail, registerDate, lastvisitDate \\\n",
    "                    from jos_users where registerDate >= '{}' or lastvisitDate >= '{}'\".format(date_cutoff,lvd_cutoff)\n",
    "\n",
    "# display\n",
    "print(sql_query)"
   ]
  },
  {
   "cell_type": "code",
   "execution_count": 4,
   "metadata": {
    "execution": {
     "iopub.execute_input": "2021-01-21T06:30:41.060857Z",
     "iopub.status.busy": "2021-01-21T06:30:41.060290Z",
     "iopub.status.idle": "2021-01-21T06:30:54.332260Z",
     "shell.execute_reply": "2021-01-21T06:30:54.331725Z"
    },
    "papermill": {
     "duration": 13.311362,
     "end_time": "2021-01-21T06:30:54.332398",
     "exception": false,
     "start_time": "2021-01-21T06:30:41.021036",
     "status": "completed"
    },
    "tags": []
   },
   "outputs": [],
   "source": [
    "df = pd.read_sql_query(sql_query, nanohub_db)\n",
    "\n",
    "# get user profile details\n",
    "profile_df = pd.read_sql_query(\"select * from jos_user_profiles where profile_key \\\n",
    "in ('orgtype', 'organization', 'orcid')\", nanohub_db)"
   ]
  },
  {
   "cell_type": "code",
   "execution_count": 5,
   "metadata": {
    "execution": {
     "iopub.execute_input": "2021-01-21T06:30:54.439358Z",
     "iopub.status.busy": "2021-01-21T06:30:54.438765Z",
     "iopub.status.idle": "2021-01-21T06:30:54.453843Z",
     "shell.execute_reply": "2021-01-21T06:30:54.452997Z"
    },
    "papermill": {
     "duration": 0.07632,
     "end_time": "2021-01-21T06:30:54.453983",
     "exception": false,
     "start_time": "2021-01-21T06:30:54.377663",
     "status": "completed"
    },
    "tags": []
   },
   "outputs": [
    {
     "data": {
      "text/html": [
       "<div>\n",
       "<style scoped>\n",
       "    .dataframe tbody tr th:only-of-type {\n",
       "        vertical-align: middle;\n",
       "    }\n",
       "\n",
       "    .dataframe tbody tr th {\n",
       "        vertical-align: top;\n",
       "    }\n",
       "\n",
       "    .dataframe thead th {\n",
       "        text-align: right;\n",
       "    }\n",
       "</style>\n",
       "<table border=\"1\" class=\"dataframe\">\n",
       "  <thead>\n",
       "    <tr style=\"text-align: right;\">\n",
       "      <th></th>\n",
       "      <th>id</th>\n",
       "      <th>name</th>\n",
       "      <th>username</th>\n",
       "      <th>block</th>\n",
       "      <th>email</th>\n",
       "      <th>sendEmail</th>\n",
       "      <th>registerDate</th>\n",
       "      <th>lastvisitDate</th>\n",
       "    </tr>\n",
       "  </thead>\n",
       "  <tbody>\n",
       "    <tr>\n",
       "      <th>0</th>\n",
       "      <td>3482</td>\n",
       "      <td>Gerhard Klimeck</td>\n",
       "      <td>gekco</td>\n",
       "      <td>0</td>\n",
       "      <td>gekco@purdue.edu</td>\n",
       "      <td>1</td>\n",
       "      <td>2004-04-10 17:58:53</td>\n",
       "      <td>2021-01-19 20:10:54</td>\n",
       "    </tr>\n",
       "    <tr>\n",
       "      <th>1</th>\n",
       "      <td>3858</td>\n",
       "      <td>Jing Guo</td>\n",
       "      <td>guoj</td>\n",
       "      <td>0</td>\n",
       "      <td>guoj@ufl.edu</td>\n",
       "      <td>0</td>\n",
       "      <td>2004-12-17 22:14:51</td>\n",
       "      <td>2021-01-19 21:06:55</td>\n",
       "    </tr>\n",
       "  </tbody>\n",
       "</table>\n",
       "</div>"
      ],
      "text/plain": [
       "     id             name username  block             email  sendEmail  \\\n",
       "0  3482  Gerhard Klimeck    gekco      0  gekco@purdue.edu          1   \n",
       "1  3858         Jing Guo     guoj      0      guoj@ufl.edu          0   \n",
       "\n",
       "         registerDate       lastvisitDate  \n",
       "0 2004-04-10 17:58:53 2021-01-19 20:10:54  \n",
       "1 2004-12-17 22:14:51 2021-01-19 21:06:55  "
      ]
     },
     "metadata": {},
     "output_type": "display_data"
    },
    {
     "data": {
      "text/html": [
       "<div>\n",
       "<style scoped>\n",
       "    .dataframe tbody tr th:only-of-type {\n",
       "        vertical-align: middle;\n",
       "    }\n",
       "\n",
       "    .dataframe tbody tr th {\n",
       "        vertical-align: top;\n",
       "    }\n",
       "\n",
       "    .dataframe thead th {\n",
       "        text-align: right;\n",
       "    }\n",
       "</style>\n",
       "<table border=\"1\" class=\"dataframe\">\n",
       "  <thead>\n",
       "    <tr style=\"text-align: right;\">\n",
       "      <th></th>\n",
       "      <th>id</th>\n",
       "      <th>user_id</th>\n",
       "      <th>profile_key</th>\n",
       "      <th>profile_value</th>\n",
       "      <th>ordering</th>\n",
       "      <th>access</th>\n",
       "    </tr>\n",
       "  </thead>\n",
       "  <tbody>\n",
       "    <tr>\n",
       "      <th>0</th>\n",
       "      <td>1</td>\n",
       "      <td>15623</td>\n",
       "      <td>orgtype</td>\n",
       "      <td>university</td>\n",
       "      <td>2</td>\n",
       "      <td>5</td>\n",
       "    </tr>\n",
       "    <tr>\n",
       "      <th>1</th>\n",
       "      <td>2</td>\n",
       "      <td>10060</td>\n",
       "      <td>orgtype</td>\n",
       "      <td>university</td>\n",
       "      <td>2</td>\n",
       "      <td>5</td>\n",
       "    </tr>\n",
       "  </tbody>\n",
       "</table>\n",
       "</div>"
      ],
      "text/plain": [
       "   id  user_id profile_key profile_value  ordering  access\n",
       "0   1    15623     orgtype    university         2       5\n",
       "1   2    10060     orgtype    university         2       5"
      ]
     },
     "metadata": {},
     "output_type": "display_data"
    }
   ],
   "source": [
    "# display\n",
    "display(df.head(2))\n",
    "\n",
    "display(profile_df.head(2))"
   ]
  },
  {
   "cell_type": "code",
   "execution_count": 6,
   "metadata": {
    "execution": {
     "iopub.execute_input": "2021-01-21T06:30:54.560791Z",
     "iopub.status.busy": "2021-01-21T06:30:54.560194Z",
     "iopub.status.idle": "2021-01-21T06:30:54.671902Z",
     "shell.execute_reply": "2021-01-21T06:30:54.671448Z"
    },
    "papermill": {
     "duration": 0.180266,
     "end_time": "2021-01-21T06:30:54.672038",
     "exception": false,
     "start_time": "2021-01-21T06:30:54.491772",
     "status": "completed"
    },
    "tags": []
   },
   "outputs": [
    {
     "data": {
      "text/plain": [
       "[Timestamp('2021-01-21 04:30:54'),\n",
       " Timestamp('2021-01-21 05:05:54'),\n",
       " Timestamp('2021-01-21 05:39:52'),\n",
       " Timestamp('2021-01-21 05:42:53'),\n",
       " Timestamp('2021-01-21 06:11:11')]"
      ]
     },
     "metadata": {},
     "output_type": "display_data"
    }
   ],
   "source": [
    "display(sorted(df['lastvisitDate'].to_list())[-5:])"
   ]
  },
  {
   "cell_type": "code",
   "execution_count": 7,
   "metadata": {
    "execution": {
     "iopub.execute_input": "2021-01-21T06:30:54.798895Z",
     "iopub.status.busy": "2021-01-21T06:30:54.798277Z",
     "iopub.status.idle": "2021-01-21T06:30:54.984428Z",
     "shell.execute_reply": "2021-01-21T06:30:54.983942Z"
    },
    "papermill": {
     "duration": 0.274181,
     "end_time": "2021-01-21T06:30:54.984565",
     "exception": false,
     "start_time": "2021-01-21T06:30:54.710384",
     "status": "completed"
    },
    "tags": []
   },
   "outputs": [
    {
     "data": {
      "text/html": [
       "<div>\n",
       "<style scoped>\n",
       "    .dataframe tbody tr th:only-of-type {\n",
       "        vertical-align: middle;\n",
       "    }\n",
       "\n",
       "    .dataframe tbody tr th {\n",
       "        vertical-align: top;\n",
       "    }\n",
       "\n",
       "    .dataframe thead th {\n",
       "        text-align: right;\n",
       "    }\n",
       "</style>\n",
       "<table border=\"1\" class=\"dataframe\">\n",
       "  <thead>\n",
       "    <tr style=\"text-align: right;\">\n",
       "      <th></th>\n",
       "      <th>id</th>\n",
       "      <th>name</th>\n",
       "      <th>username</th>\n",
       "      <th>block</th>\n",
       "      <th>email</th>\n",
       "      <th>sendEmail</th>\n",
       "      <th>registerDate</th>\n",
       "      <th>lastvisitDate</th>\n",
       "      <th>orgtype</th>\n",
       "      <th>organization</th>\n",
       "    </tr>\n",
       "  </thead>\n",
       "  <tbody>\n",
       "    <tr>\n",
       "      <th>0</th>\n",
       "      <td>3482</td>\n",
       "      <td>Gerhard Klimeck</td>\n",
       "      <td>gekco</td>\n",
       "      <td>0</td>\n",
       "      <td>gekco@purdue.edu</td>\n",
       "      <td>1</td>\n",
       "      <td>2004-04-10 17:58:53</td>\n",
       "      <td>2021-01-19 20:10:54</td>\n",
       "      <td>universityfaculty</td>\n",
       "      <td>Purdue University</td>\n",
       "    </tr>\n",
       "  </tbody>\n",
       "</table>\n",
       "</div>"
      ],
      "text/plain": [
       "     id             name username  block             email  sendEmail  \\\n",
       "0  3482  Gerhard Klimeck    gekco      0  gekco@purdue.edu          1   \n",
       "\n",
       "         registerDate       lastvisitDate            orgtype  \\\n",
       "0 2004-04-10 17:58:53 2021-01-19 20:10:54  universityfaculty   \n",
       "\n",
       "        organization  \n",
       "0  Purdue University  "
      ]
     },
     "metadata": {},
     "output_type": "display_data"
    },
    {
     "data": {
      "text/html": [
       "<div>\n",
       "<style scoped>\n",
       "    .dataframe tbody tr th:only-of-type {\n",
       "        vertical-align: middle;\n",
       "    }\n",
       "\n",
       "    .dataframe tbody tr th {\n",
       "        vertical-align: top;\n",
       "    }\n",
       "\n",
       "    .dataframe thead th {\n",
       "        text-align: right;\n",
       "    }\n",
       "</style>\n",
       "<table border=\"1\" class=\"dataframe\">\n",
       "  <thead>\n",
       "    <tr style=\"text-align: right;\">\n",
       "      <th></th>\n",
       "      <th>id</th>\n",
       "      <th>name</th>\n",
       "      <th>username</th>\n",
       "      <th>block</th>\n",
       "      <th>email</th>\n",
       "      <th>sendEmail</th>\n",
       "      <th>registerDate</th>\n",
       "      <th>lastvisitDate</th>\n",
       "      <th>orgtype</th>\n",
       "      <th>organization</th>\n",
       "      <th>orcid</th>\n",
       "    </tr>\n",
       "  </thead>\n",
       "  <tbody>\n",
       "    <tr>\n",
       "      <th>0</th>\n",
       "      <td>3482</td>\n",
       "      <td>Gerhard Klimeck</td>\n",
       "      <td>gekco</td>\n",
       "      <td>0</td>\n",
       "      <td>gekco@purdue.edu</td>\n",
       "      <td>1</td>\n",
       "      <td>2004-04-10 17:58:53</td>\n",
       "      <td>2021-01-19 20:10:54</td>\n",
       "      <td>universityfaculty</td>\n",
       "      <td>Purdue University</td>\n",
       "      <td>0000-0001-7128-773X</td>\n",
       "    </tr>\n",
       "  </tbody>\n",
       "</table>\n",
       "</div>"
      ],
      "text/plain": [
       "     id             name username  block             email  sendEmail  \\\n",
       "0  3482  Gerhard Klimeck    gekco      0  gekco@purdue.edu          1   \n",
       "\n",
       "         registerDate       lastvisitDate            orgtype  \\\n",
       "0 2004-04-10 17:58:53 2021-01-19 20:10:54  universityfaculty   \n",
       "\n",
       "        organization                orcid  \n",
       "0  Purdue University  0000-0001-7128-773X  "
      ]
     },
     "metadata": {},
     "output_type": "display_data"
    }
   ],
   "source": [
    "df = pd.merge(df, profile_df[profile_df['profile_key'] == 'orgtype'][['user_id', 'profile_value']],\\\n",
    "                         how='left', left_on='id', right_on='user_id')\\\n",
    "    .drop(columns=['user_id']).rename(columns={'profile_value':'orgtype'})\n",
    "\n",
    "df = pd.merge(df, profile_df[profile_df['profile_key'] == 'organization'][['user_id', 'profile_value']],\\\n",
    "                         how='left', left_on='id', right_on='user_id')\\\n",
    "    .drop(columns=['user_id']).rename(columns={'profile_value':'organization'})\n",
    "display(df.head(1))\n",
    "\n",
    "df = pd.merge(df, profile_df[profile_df['profile_key'] == 'orcid'][['user_id', 'profile_value']],\\\n",
    "                         how='left', left_on='id', right_on='user_id')\\\n",
    "    .drop(columns=['user_id']).rename(columns={'profile_value':'orcid'})\n",
    "\n",
    "# display\n",
    "display(df.head(1))"
   ]
  },
  {
   "cell_type": "code",
   "execution_count": 8,
   "metadata": {
    "execution": {
     "iopub.execute_input": "2021-01-21T06:30:55.148584Z",
     "iopub.status.busy": "2021-01-21T06:30:55.147990Z",
     "iopub.status.idle": "2021-01-21T06:34:06.826970Z",
     "shell.execute_reply": "2021-01-21T06:34:06.826390Z"
    },
    "papermill": {
     "duration": 191.762484,
     "end_time": "2021-01-21T06:34:06.827121",
     "exception": false,
     "start_time": "2021-01-21T06:30:55.064637",
     "status": "completed"
    },
    "tags": []
   },
   "outputs": [],
   "source": [
    "# Obtain company domain information from DB2\n",
    "domain_df = pd.read_sql_query(\"select name as domain_name, domain, industry, `size range` as size, country \\\n",
    "from wang159_myrmekes.companies_email_domain\", wang159_myrmekes_db)"
   ]
  },
  {
   "cell_type": "code",
   "execution_count": 9,
   "metadata": {
    "execution": {
     "iopub.execute_input": "2021-01-21T06:34:07.928677Z",
     "iopub.status.busy": "2021-01-21T06:34:07.928023Z",
     "iopub.status.idle": "2021-01-21T06:34:22.190810Z",
     "shell.execute_reply": "2021-01-21T06:34:22.190318Z"
    },
    "papermill": {
     "duration": 15.299774,
     "end_time": "2021-01-21T06:34:22.190950",
     "exception": false,
     "start_time": "2021-01-21T06:34:06.891176",
     "status": "completed"
    },
    "tags": []
   },
   "outputs": [],
   "source": [
    "# make sure domain is unique and drop NaN\n",
    "domain_df = domain_df.drop_duplicates(subset='domain', keep='first').dropna()"
   ]
  },
  {
   "cell_type": "code",
   "execution_count": 10,
   "metadata": {
    "execution": {
     "iopub.execute_input": "2021-01-21T06:34:22.292987Z",
     "iopub.status.busy": "2021-01-21T06:34:22.292388Z",
     "iopub.status.idle": "2021-01-21T06:34:22.304089Z",
     "shell.execute_reply": "2021-01-21T06:34:22.303250Z"
    },
    "papermill": {
     "duration": 0.073637,
     "end_time": "2021-01-21T06:34:22.304240",
     "exception": false,
     "start_time": "2021-01-21T06:34:22.230603",
     "status": "completed"
    },
    "tags": []
   },
   "outputs": [],
   "source": [
    "# get email domain of nanoHUB users\n",
    "def get_domain(this_email):\n",
    "    seg_list = this_email.split('@')\n",
    "    \n",
    "    if len(seg_list) == 2:\n",
    "        return seg_list[1].lower()\n",
    "    else:\n",
    "        return None\n",
    "    \n",
    "df['email_host'] = df['email'].apply(get_domain)"
   ]
  },
  {
   "cell_type": "raw",
   "metadata": {
    "papermill": {
     "duration": 0.039914,
     "end_time": "2021-01-21T06:34:22.384152",
     "exception": false,
     "start_time": "2021-01-21T06:34:22.344238",
     "status": "completed"
    },
    "tags": []
   },
   "source": [
    "df = pd.merge(df, domain_df[domain_df.domain.isin(df['email_domain'].unique()) & ~domain_df.domain.isna()],\\\n",
    "         how='left', left_on='email_domain', right_on='domain')\n",
    "\n",
    "# display\n",
    "display(df.head(2))"
   ]
  },
  {
   "cell_type": "code",
   "execution_count": 11,
   "metadata": {
    "execution": {
     "iopub.execute_input": "2021-01-21T06:34:22.485388Z",
     "iopub.status.busy": "2021-01-21T06:34:22.484773Z",
     "iopub.status.idle": "2021-01-21T06:34:22.490068Z",
     "shell.execute_reply": "2021-01-21T06:34:22.489585Z"
    },
    "papermill": {
     "duration": 0.064795,
     "end_time": "2021-01-21T06:34:22.490223",
     "exception": false,
     "start_time": "2021-01-21T06:34:22.425428",
     "status": "completed"
    },
    "tags": []
   },
   "outputs": [],
   "source": [
    "# save a constuct for debugging\n",
    "from copy import deepcopy\n",
    "temp = deepcopy(df)"
   ]
  },
  {
   "cell_type": "code",
   "execution_count": 12,
   "metadata": {
    "execution": {
     "iopub.execute_input": "2021-01-21T06:34:22.594958Z",
     "iopub.status.busy": "2021-01-21T06:34:22.594314Z",
     "iopub.status.idle": "2021-01-21T06:34:23.288573Z",
     "shell.execute_reply": "2021-01-21T06:34:23.288065Z"
    },
    "papermill": {
     "duration": 0.7579,
     "end_time": "2021-01-21T06:34:23.288723",
     "exception": false,
     "start_time": "2021-01-21T06:34:22.530823",
     "status": "completed"
    },
    "tags": []
   },
   "outputs": [
    {
     "data": {
      "text/html": [
       "<div>\n",
       "<style scoped>\n",
       "    .dataframe tbody tr th:only-of-type {\n",
       "        vertical-align: middle;\n",
       "    }\n",
       "\n",
       "    .dataframe tbody tr th {\n",
       "        vertical-align: top;\n",
       "    }\n",
       "\n",
       "    .dataframe thead th {\n",
       "        text-align: right;\n",
       "    }\n",
       "</style>\n",
       "<table border=\"1\" class=\"dataframe\">\n",
       "  <thead>\n",
       "    <tr style=\"text-align: right;\">\n",
       "      <th></th>\n",
       "      <th>id</th>\n",
       "      <th>name</th>\n",
       "      <th>username</th>\n",
       "      <th>block</th>\n",
       "      <th>email</th>\n",
       "      <th>sendEmail</th>\n",
       "      <th>registerDate</th>\n",
       "      <th>lastvisitDate</th>\n",
       "      <th>orgtype</th>\n",
       "      <th>organization</th>\n",
       "      <th>orcid</th>\n",
       "      <th>email_host</th>\n",
       "    </tr>\n",
       "  </thead>\n",
       "  <tbody>\n",
       "    <tr>\n",
       "      <th>0</th>\n",
       "      <td>3482</td>\n",
       "      <td>Gerhard Klimeck</td>\n",
       "      <td>gekco</td>\n",
       "      <td>0</td>\n",
       "      <td>gekco@purdue.edu</td>\n",
       "      <td>1</td>\n",
       "      <td>2004-04-10 17:58:53</td>\n",
       "      <td>2021-01-19 20:10:54</td>\n",
       "      <td>universityfaculty</td>\n",
       "      <td>Purdue University</td>\n",
       "      <td>0000-0001-7128-773X</td>\n",
       "      <td>purdue.edu</td>\n",
       "    </tr>\n",
       "    <tr>\n",
       "      <th>1</th>\n",
       "      <td>3858</td>\n",
       "      <td>Jing Guo</td>\n",
       "      <td>guoj</td>\n",
       "      <td>0</td>\n",
       "      <td>guoj@ufl.edu</td>\n",
       "      <td>0</td>\n",
       "      <td>2004-12-17 22:14:51</td>\n",
       "      <td>2021-01-19 21:06:55</td>\n",
       "      <td>university</td>\n",
       "      <td>University of Florida</td>\n",
       "      <td>NaN</td>\n",
       "      <td>ufl.edu</td>\n",
       "    </tr>\n",
       "  </tbody>\n",
       "</table>\n",
       "</div>"
      ],
      "text/plain": [
       "     id             name username  block             email  sendEmail  \\\n",
       "0  3482  Gerhard Klimeck    gekco      0  gekco@purdue.edu          1   \n",
       "1  3858         Jing Guo     guoj      0      guoj@ufl.edu          0   \n",
       "\n",
       "         registerDate       lastvisitDate            orgtype  \\\n",
       "0 2004-04-10 17:58:53 2021-01-19 20:10:54  universityfaculty   \n",
       "1 2004-12-17 22:14:51 2021-01-19 21:06:55         university   \n",
       "\n",
       "            organization                orcid  email_host  \n",
       "0      Purdue University  0000-0001-7128-773X  purdue.edu  \n",
       "1  University of Florida                  NaN     ufl.edu  "
      ]
     },
     "metadata": {},
     "output_type": "display_data"
    }
   ],
   "source": [
    "# get domain by nanoHUB organization field\n",
    "df = deepcopy(temp)\n",
    "display(df.head(2))\n",
    "df['organization'] = df['organization'].str.lower()\n",
    "df = df.fillna('   ')\n",
    "\n",
    "df.loc[(df['organization']=='nan'),'organization'] = None\n",
    "df.loc[(df['organization']=='NaN'),'organization'] = None"
   ]
  },
  {
   "cell_type": "markdown",
   "metadata": {
    "papermill": {
     "duration": 0.03864,
     "end_time": "2021-01-21T06:34:23.368771",
     "exception": false,
     "start_time": "2021-01-21T06:34:23.330131",
     "status": "completed"
    },
    "tags": []
   },
   "source": [
    "display(df.tail())"
   ]
  },
  {
   "cell_type": "code",
   "execution_count": 13,
   "metadata": {
    "execution": {
     "iopub.execute_input": "2021-01-21T06:34:23.581974Z",
     "iopub.status.busy": "2021-01-21T06:34:23.581391Z",
     "iopub.status.idle": "2021-01-21T06:34:28.739312Z",
     "shell.execute_reply": "2021-01-21T06:34:28.738800Z"
    },
    "papermill": {
     "duration": 5.326844,
     "end_time": "2021-01-21T06:34:28.739452",
     "exception": false,
     "start_time": "2021-01-21T06:34:23.412608",
     "status": "completed"
    },
    "tags": []
   },
   "outputs": [],
   "source": [
    "import nltk\n",
    "#nltk.download('stopwords')\n",
    "\n",
    "from nltk.corpus import stopwords\n",
    "s_words = stopwords.words('english')"
   ]
  },
  {
   "cell_type": "code",
   "execution_count": 14,
   "metadata": {
    "execution": {
     "iopub.execute_input": "2021-01-21T06:34:28.841904Z",
     "iopub.status.busy": "2021-01-21T06:34:28.841305Z",
     "iopub.status.idle": "2021-01-21T06:34:28.846971Z",
     "shell.execute_reply": "2021-01-21T06:34:28.846516Z"
    },
    "papermill": {
     "duration": 0.068332,
     "end_time": "2021-01-21T06:34:28.847126",
     "exception": false,
     "start_time": "2021-01-21T06:34:28.778794",
     "status": "completed"
    },
    "tags": []
   },
   "outputs": [],
   "source": [
    "import re\n",
    "\n",
    "def clean_domain(this_domain_name):\n",
    "    \n",
    "    if not this_domain_name:\n",
    "        return None\n",
    "    \n",
    "    # Replace all non-alphanumeric characters with space\n",
    "    this_domain_name = re.sub(\"[^0-9a-zA-Z]+\", \" \", this_domain_name.lower())\n",
    "    name_list = this_domain_name.split(' ')\n",
    "        \n",
    "    # remove all stop words\n",
    "    name_list = ['' if x in s_words else x for x in name_list]\n",
    "    \n",
    "    return set(filter(None, name_list))"
   ]
  },
  {
   "cell_type": "code",
   "execution_count": 15,
   "metadata": {
    "execution": {
     "iopub.execute_input": "2021-01-21T06:34:28.966455Z",
     "iopub.status.busy": "2021-01-21T06:34:28.965804Z",
     "iopub.status.idle": "2021-01-21T06:34:28.970059Z",
     "shell.execute_reply": "2021-01-21T06:34:28.969619Z"
    },
    "papermill": {
     "duration": 0.082071,
     "end_time": "2021-01-21T06:34:28.970216",
     "exception": false,
     "start_time": "2021-01-21T06:34:28.888145",
     "status": "completed"
    },
    "tags": []
   },
   "outputs": [
    {
     "data": {
      "text/html": [
       "<div>\n",
       "<style scoped>\n",
       "    .dataframe tbody tr th:only-of-type {\n",
       "        vertical-align: middle;\n",
       "    }\n",
       "\n",
       "    .dataframe tbody tr th {\n",
       "        vertical-align: top;\n",
       "    }\n",
       "\n",
       "    .dataframe thead th {\n",
       "        text-align: right;\n",
       "    }\n",
       "</style>\n",
       "<table border=\"1\" class=\"dataframe\">\n",
       "  <thead>\n",
       "    <tr style=\"text-align: right;\">\n",
       "      <th></th>\n",
       "      <th>domain_name</th>\n",
       "      <th>domain</th>\n",
       "      <th>industry</th>\n",
       "      <th>size</th>\n",
       "      <th>country</th>\n",
       "    </tr>\n",
       "  </thead>\n",
       "  <tbody>\n",
       "    <tr>\n",
       "      <th>0</th>\n",
       "      <td>strategic interns</td>\n",
       "      <td>strategicinterns.com</td>\n",
       "      <td>education management</td>\n",
       "      <td>1-10</td>\n",
       "      <td>india</td>\n",
       "    </tr>\n",
       "    <tr>\n",
       "      <th>1</th>\n",
       "      <td>bosque y comunidad</td>\n",
       "      <td>bosqueycomunidad.org</td>\n",
       "      <td>non-profit organization management</td>\n",
       "      <td>1-10</td>\n",
       "      <td>spain</td>\n",
       "    </tr>\n",
       "  </tbody>\n",
       "</table>\n",
       "</div>"
      ],
      "text/plain": [
       "          domain_name                domain  \\\n",
       "0   strategic interns  strategicinterns.com   \n",
       "1  bosque y comunidad  bosqueycomunidad.org   \n",
       "\n",
       "                             industry  size country  \n",
       "0                education management  1-10   india  \n",
       "1  non-profit organization management  1-10   spain  "
      ]
     },
     "metadata": {},
     "output_type": "display_data"
    }
   ],
   "source": [
    "display(domain_df.head(2))"
   ]
  },
  {
   "cell_type": "code",
   "execution_count": 16,
   "metadata": {
    "execution": {
     "iopub.execute_input": "2021-01-21T06:34:29.166538Z",
     "iopub.status.busy": "2021-01-21T06:34:29.165903Z",
     "iopub.status.idle": "2021-01-21T06:35:32.401070Z",
     "shell.execute_reply": "2021-01-21T06:35:32.401530Z"
    },
    "papermill": {
     "duration": 63.387735,
     "end_time": "2021-01-21T06:35:32.406679",
     "exception": false,
     "start_time": "2021-01-21T06:34:29.018944",
     "status": "completed"
    },
    "tags": []
   },
   "outputs": [
    {
     "data": {
      "text/html": [
       "<div>\n",
       "<style scoped>\n",
       "    .dataframe tbody tr th:only-of-type {\n",
       "        vertical-align: middle;\n",
       "    }\n",
       "\n",
       "    .dataframe tbody tr th {\n",
       "        vertical-align: top;\n",
       "    }\n",
       "\n",
       "    .dataframe thead th {\n",
       "        text-align: right;\n",
       "    }\n",
       "</style>\n",
       "<table border=\"1\" class=\"dataframe\">\n",
       "  <thead>\n",
       "    <tr style=\"text-align: right;\">\n",
       "      <th></th>\n",
       "      <th>domain_name</th>\n",
       "      <th>domain</th>\n",
       "      <th>industry</th>\n",
       "      <th>size</th>\n",
       "      <th>country</th>\n",
       "      <th>domain_cleaned_set</th>\n",
       "    </tr>\n",
       "  </thead>\n",
       "  <tbody>\n",
       "    <tr>\n",
       "      <th>0</th>\n",
       "      <td>strategic interns</td>\n",
       "      <td>strategicinterns.com</td>\n",
       "      <td>education management</td>\n",
       "      <td>1-10</td>\n",
       "      <td>india</td>\n",
       "      <td>{strategic, interns}</td>\n",
       "    </tr>\n",
       "  </tbody>\n",
       "</table>\n",
       "</div>"
      ],
      "text/plain": [
       "         domain_name                domain              industry  size  \\\n",
       "0  strategic interns  strategicinterns.com  education management  1-10   \n",
       "\n",
       "  country    domain_cleaned_set  \n",
       "0   india  {strategic, interns}  "
      ]
     },
     "metadata": {},
     "output_type": "display_data"
    },
    {
     "data": {
      "text/html": [
       "<div>\n",
       "<style scoped>\n",
       "    .dataframe tbody tr th:only-of-type {\n",
       "        vertical-align: middle;\n",
       "    }\n",
       "\n",
       "    .dataframe tbody tr th {\n",
       "        vertical-align: top;\n",
       "    }\n",
       "\n",
       "    .dataframe thead th {\n",
       "        text-align: right;\n",
       "    }\n",
       "</style>\n",
       "<table border=\"1\" class=\"dataframe\">\n",
       "  <thead>\n",
       "    <tr style=\"text-align: right;\">\n",
       "      <th></th>\n",
       "      <th>id</th>\n",
       "      <th>name</th>\n",
       "      <th>username</th>\n",
       "      <th>block</th>\n",
       "      <th>email</th>\n",
       "      <th>sendEmail</th>\n",
       "      <th>registerDate</th>\n",
       "      <th>lastvisitDate</th>\n",
       "      <th>orgtype</th>\n",
       "      <th>organization</th>\n",
       "      <th>orcid</th>\n",
       "      <th>email_host</th>\n",
       "      <th>org_cleaned_set</th>\n",
       "    </tr>\n",
       "  </thead>\n",
       "  <tbody>\n",
       "    <tr>\n",
       "      <th>0</th>\n",
       "      <td>3482</td>\n",
       "      <td>Gerhard Klimeck</td>\n",
       "      <td>gekco</td>\n",
       "      <td>0</td>\n",
       "      <td>gekco@purdue.edu</td>\n",
       "      <td>1</td>\n",
       "      <td>2004-04-10 17:58:53</td>\n",
       "      <td>2021-01-19 20:10:54</td>\n",
       "      <td>universityfaculty</td>\n",
       "      <td>purdue university</td>\n",
       "      <td>0000-0001-7128-773X</td>\n",
       "      <td>purdue.edu</td>\n",
       "      <td>{purdue, university}</td>\n",
       "    </tr>\n",
       "  </tbody>\n",
       "</table>\n",
       "</div>"
      ],
      "text/plain": [
       "     id             name username  block             email  sendEmail  \\\n",
       "0  3482  Gerhard Klimeck    gekco      0  gekco@purdue.edu          1   \n",
       "\n",
       "         registerDate        lastvisitDate            orgtype  \\\n",
       "0 2004-04-10 17:58:53  2021-01-19 20:10:54  universityfaculty   \n",
       "\n",
       "        organization                orcid  email_host       org_cleaned_set  \n",
       "0  purdue university  0000-0001-7128-773X  purdue.edu  {purdue, university}  "
      ]
     },
     "metadata": {},
     "output_type": "display_data"
    }
   ],
   "source": [
    "# clean domain name\n",
    "domain_df['domain_cleaned_set'] = domain_df.domain_name.apply(clean_domain)\n",
    "display(domain_df.head(1))\n",
    "# clean nanohub org name\n",
    "df['org_cleaned_set'] = df.organization.apply(clean_domain)\n",
    "display(df.head(1))"
   ]
  },
  {
   "cell_type": "code",
   "execution_count": 17,
   "metadata": {
    "execution": {
     "iopub.execute_input": "2021-01-21T06:35:32.569020Z",
     "iopub.status.busy": "2021-01-21T06:35:32.568145Z",
     "iopub.status.idle": "2021-01-21T06:35:36.856484Z",
     "shell.execute_reply": "2021-01-21T06:35:36.855731Z"
    },
    "papermill": {
     "duration": 4.408564,
     "end_time": "2021-01-21T06:35:36.856639",
     "exception": false,
     "start_time": "2021-01-21T06:35:32.448075",
     "status": "completed"
    },
    "tags": []
   },
   "outputs": [],
   "source": [
    "# hash cleaned domain name\n",
    "domain_df['domain_cleaned_hash'] = domain_df['domain_cleaned_set'].apply(lambda x: '-'.join(sorted(list(x))) if x else None)\n",
    "\n",
    "# hash cleaned clean nanohub org name\n",
    "df['org_cleaned_hash'] = df['org_cleaned_set'].apply(lambda x: '-'.join(sorted(list(x))) if x else None)"
   ]
  },
  {
   "cell_type": "code",
   "execution_count": 18,
   "metadata": {
    "execution": {
     "iopub.execute_input": "2021-01-21T06:35:37.111010Z",
     "iopub.status.busy": "2021-01-21T06:35:37.100979Z",
     "iopub.status.idle": "2021-01-21T06:35:37.218949Z",
     "shell.execute_reply": "2021-01-21T06:35:37.218453Z"
    },
    "papermill": {
     "duration": 0.312565,
     "end_time": "2021-01-21T06:35:37.219100",
     "exception": false,
     "start_time": "2021-01-21T06:35:36.906535",
     "status": "completed"
    },
    "tags": []
   },
   "outputs": [
    {
     "data": {
      "text/html": [
       "<div>\n",
       "<style scoped>\n",
       "    .dataframe tbody tr th:only-of-type {\n",
       "        vertical-align: middle;\n",
       "    }\n",
       "\n",
       "    .dataframe tbody tr th {\n",
       "        vertical-align: top;\n",
       "    }\n",
       "\n",
       "    .dataframe thead th {\n",
       "        text-align: right;\n",
       "    }\n",
       "</style>\n",
       "<table border=\"1\" class=\"dataframe\">\n",
       "  <thead>\n",
       "    <tr style=\"text-align: right;\">\n",
       "      <th></th>\n",
       "      <th>domain_name</th>\n",
       "      <th>domain</th>\n",
       "      <th>industry</th>\n",
       "      <th>size</th>\n",
       "      <th>country</th>\n",
       "      <th>domain_cleaned_set</th>\n",
       "      <th>domain_cleaned_hash</th>\n",
       "    </tr>\n",
       "  </thead>\n",
       "  <tbody>\n",
       "    <tr>\n",
       "      <th>0</th>\n",
       "      <td>strategic interns</td>\n",
       "      <td>strategicinterns.com</td>\n",
       "      <td>education management</td>\n",
       "      <td>1-10</td>\n",
       "      <td>india</td>\n",
       "      <td>{strategic, interns}</td>\n",
       "      <td>interns-strategic</td>\n",
       "    </tr>\n",
       "  </tbody>\n",
       "</table>\n",
       "</div>"
      ],
      "text/plain": [
       "         domain_name                domain              industry  size  \\\n",
       "0  strategic interns  strategicinterns.com  education management  1-10   \n",
       "\n",
       "  country    domain_cleaned_set domain_cleaned_hash  \n",
       "0   india  {strategic, interns}   interns-strategic  "
      ]
     },
     "metadata": {},
     "output_type": "display_data"
    },
    {
     "data": {
      "text/html": [
       "<div>\n",
       "<style scoped>\n",
       "    .dataframe tbody tr th:only-of-type {\n",
       "        vertical-align: middle;\n",
       "    }\n",
       "\n",
       "    .dataframe tbody tr th {\n",
       "        vertical-align: top;\n",
       "    }\n",
       "\n",
       "    .dataframe thead th {\n",
       "        text-align: right;\n",
       "    }\n",
       "</style>\n",
       "<table border=\"1\" class=\"dataframe\">\n",
       "  <thead>\n",
       "    <tr style=\"text-align: right;\">\n",
       "      <th></th>\n",
       "      <th>id</th>\n",
       "      <th>name</th>\n",
       "      <th>username</th>\n",
       "      <th>block</th>\n",
       "      <th>email</th>\n",
       "      <th>sendEmail</th>\n",
       "      <th>registerDate</th>\n",
       "      <th>lastvisitDate</th>\n",
       "      <th>orgtype</th>\n",
       "      <th>organization</th>\n",
       "      <th>orcid</th>\n",
       "      <th>email_host</th>\n",
       "      <th>org_cleaned_set</th>\n",
       "      <th>org_cleaned_hash</th>\n",
       "    </tr>\n",
       "  </thead>\n",
       "  <tbody>\n",
       "    <tr>\n",
       "      <th>0</th>\n",
       "      <td>3482</td>\n",
       "      <td>Gerhard Klimeck</td>\n",
       "      <td>gekco</td>\n",
       "      <td>0</td>\n",
       "      <td>gekco@purdue.edu</td>\n",
       "      <td>1</td>\n",
       "      <td>2004-04-10 17:58:53</td>\n",
       "      <td>2021-01-19 20:10:54</td>\n",
       "      <td>universityfaculty</td>\n",
       "      <td>purdue university</td>\n",
       "      <td>0000-0001-7128-773X</td>\n",
       "      <td>purdue.edu</td>\n",
       "      <td>{purdue, university}</td>\n",
       "      <td>purdue-university</td>\n",
       "    </tr>\n",
       "  </tbody>\n",
       "</table>\n",
       "</div>"
      ],
      "text/plain": [
       "     id             name username  block             email  sendEmail  \\\n",
       "0  3482  Gerhard Klimeck    gekco      0  gekco@purdue.edu          1   \n",
       "\n",
       "         registerDate        lastvisitDate            orgtype  \\\n",
       "0 2004-04-10 17:58:53  2021-01-19 20:10:54  universityfaculty   \n",
       "\n",
       "        organization                orcid  email_host       org_cleaned_set  \\\n",
       "0  purdue university  0000-0001-7128-773X  purdue.edu  {purdue, university}   \n",
       "\n",
       "    org_cleaned_hash  \n",
       "0  purdue-university  "
      ]
     },
     "metadata": {},
     "output_type": "display_data"
    }
   ],
   "source": [
    "display(domain_df.head(1))\n",
    "display(df.head(1))"
   ]
  },
  {
   "cell_type": "markdown",
   "metadata": {
    "papermill": {
     "duration": 0.047727,
     "end_time": "2021-01-21T06:35:37.313887",
     "exception": false,
     "start_time": "2021-01-21T06:35:37.266160",
     "status": "completed"
    },
    "tags": []
   },
   "source": [
    "## Collaborative filtering for commerical email hosts"
   ]
  },
  {
   "cell_type": "code",
   "execution_count": 19,
   "metadata": {
    "execution": {
     "iopub.execute_input": "2021-01-21T06:35:37.437475Z",
     "iopub.status.busy": "2021-01-21T06:35:37.436879Z",
     "iopub.status.idle": "2021-01-21T06:35:39.942978Z",
     "shell.execute_reply": "2021-01-21T06:35:39.942254Z"
    },
    "papermill": {
     "duration": 2.563085,
     "end_time": "2021-01-21T06:35:39.943131",
     "exception": false,
     "start_time": "2021-01-21T06:35:37.380046",
     "status": "completed"
    },
    "tags": []
   },
   "outputs": [],
   "source": [
    "def predict_if_commerical(this_email_host_df):\n",
    "    # predict if this email host is commerical\n",
    "    top_cnt = this_email_host_df['org_cleaned_hash'].value_counts() #returns uniques in descending order\n",
    "    \n",
    "    if top_cnt.shape[0] > 0:\n",
    "        if (top_cnt.iloc[0]/top_cnt.sum()) < 0.2:\n",
    "            return True\n",
    "        else:\n",
    "            return False\n",
    "    \n",
    "    else:\n",
    "        return False\n",
    "    \n",
    "    \n",
    "is_email_commercial = df[['email_host', 'org_cleaned_hash']].groupby('email_host').apply(predict_if_commerical)"
   ]
  },
  {
   "cell_type": "code",
   "execution_count": 20,
   "metadata": {
    "execution": {
     "iopub.execute_input": "2021-01-21T06:36:30.491214Z",
     "iopub.status.busy": "2021-01-21T06:36:30.490639Z",
     "iopub.status.idle": "2021-01-21T06:36:30.876433Z",
     "shell.execute_reply": "2021-01-21T06:36:30.874695Z"
    },
    "papermill": {
     "duration": 50.884622,
     "end_time": "2021-01-21T06:36:30.876572",
     "exception": false,
     "start_time": "2021-01-21T06:35:39.991950",
     "status": "completed"
    },
    "tags": []
   },
   "outputs": [],
   "source": [
    "temp2 = deepcopy(df)"
   ]
  },
  {
   "cell_type": "code",
   "execution_count": 21,
   "metadata": {
    "execution": {
     "iopub.execute_input": "2021-01-21T06:36:30.997360Z",
     "iopub.status.busy": "2021-01-21T06:36:30.996776Z",
     "iopub.status.idle": "2021-01-21T06:36:31.019961Z",
     "shell.execute_reply": "2021-01-21T06:36:31.009885Z"
    },
    "papermill": {
     "duration": 0.096788,
     "end_time": "2021-01-21T06:36:31.020107",
     "exception": false,
     "start_time": "2021-01-21T06:36:30.923319",
     "status": "completed"
    },
    "tags": []
   },
   "outputs": [],
   "source": [
    "df = deepcopy(temp2)"
   ]
  },
  {
   "cell_type": "code",
   "execution_count": 22,
   "metadata": {
    "execution": {
     "iopub.execute_input": "2021-01-21T06:36:31.217875Z",
     "iopub.status.busy": "2021-01-21T06:36:31.188969Z",
     "iopub.status.idle": "2021-01-21T06:36:31.543640Z",
     "shell.execute_reply": "2021-01-21T06:36:31.543165Z"
    },
    "papermill": {
     "duration": 0.481781,
     "end_time": "2021-01-21T06:36:31.543784",
     "exception": false,
     "start_time": "2021-01-21T06:36:31.062003",
     "status": "completed"
    },
    "tags": []
   },
   "outputs": [],
   "source": [
    "# mark commerical email addresses\n",
    "df = pd.merge(df, is_email_commercial.reset_index(name='is_email_commercial'),\\\n",
    "         how='left', left_on='email_host', right_on='email_host' ,)"
   ]
  },
  {
   "cell_type": "code",
   "execution_count": 23,
   "metadata": {
    "execution": {
     "iopub.execute_input": "2021-01-21T06:36:31.672769Z",
     "iopub.status.busy": "2021-01-21T06:36:31.672203Z",
     "iopub.status.idle": "2021-01-21T06:36:31.729595Z",
     "shell.execute_reply": "2021-01-21T06:36:31.729103Z"
    },
    "papermill": {
     "duration": 0.14225,
     "end_time": "2021-01-21T06:36:31.729728",
     "exception": false,
     "start_time": "2021-01-21T06:36:31.587478",
     "status": "completed"
    },
    "tags": []
   },
   "outputs": [
    {
     "data": {
      "text/html": [
       "<div>\n",
       "<style scoped>\n",
       "    .dataframe tbody tr th:only-of-type {\n",
       "        vertical-align: middle;\n",
       "    }\n",
       "\n",
       "    .dataframe tbody tr th {\n",
       "        vertical-align: top;\n",
       "    }\n",
       "\n",
       "    .dataframe thead th {\n",
       "        text-align: right;\n",
       "    }\n",
       "</style>\n",
       "<table border=\"1\" class=\"dataframe\">\n",
       "  <thead>\n",
       "    <tr style=\"text-align: right;\">\n",
       "      <th></th>\n",
       "      <th>id</th>\n",
       "      <th>name</th>\n",
       "      <th>username</th>\n",
       "      <th>block</th>\n",
       "      <th>email</th>\n",
       "      <th>sendEmail</th>\n",
       "      <th>registerDate</th>\n",
       "      <th>lastvisitDate</th>\n",
       "      <th>orgtype</th>\n",
       "      <th>organization</th>\n",
       "      <th>orcid</th>\n",
       "      <th>email_host</th>\n",
       "      <th>org_cleaned_set</th>\n",
       "      <th>org_cleaned_hash</th>\n",
       "      <th>is_email_commercial</th>\n",
       "    </tr>\n",
       "  </thead>\n",
       "  <tbody>\n",
       "    <tr>\n",
       "      <th>31080</th>\n",
       "      <td>313424</td>\n",
       "      <td>reem hadaj ALqarni</td>\n",
       "      <td>reemo</td>\n",
       "      <td>0</td>\n",
       "      <td>alqarni.reem@hotmail.com</td>\n",
       "      <td>0</td>\n",
       "      <td>2021-01-21 05:40:23</td>\n",
       "      <td>2021-01-21 05:42:53</td>\n",
       "      <td>other</td>\n",
       "      <td></td>\n",
       "      <td></td>\n",
       "      <td>hotmail.com</td>\n",
       "      <td>{}</td>\n",
       "      <td>None</td>\n",
       "      <td>True</td>\n",
       "    </tr>\n",
       "  </tbody>\n",
       "</table>\n",
       "</div>"
      ],
      "text/plain": [
       "           id                name username  block                     email  \\\n",
       "31080  313424  reem hadaj ALqarni    reemo      0  alqarni.reem@hotmail.com   \n",
       "\n",
       "       sendEmail        registerDate        lastvisitDate orgtype  \\\n",
       "31080          0 2021-01-21 05:40:23  2021-01-21 05:42:53   other   \n",
       "\n",
       "      organization orcid   email_host org_cleaned_set org_cleaned_hash  \\\n",
       "31080                     hotmail.com              {}             None   \n",
       "\n",
       "       is_email_commercial  \n",
       "31080                 True  "
      ]
     },
     "metadata": {},
     "output_type": "display_data"
    }
   ],
   "source": [
    "display(df.tail(1))"
   ]
  },
  {
   "cell_type": "code",
   "execution_count": 24,
   "metadata": {
    "execution": {
     "iopub.execute_input": "2021-01-21T06:36:32.122978Z",
     "iopub.status.busy": "2021-01-21T06:36:32.122375Z",
     "iopub.status.idle": "2021-01-21T07:12:04.073889Z",
     "shell.execute_reply": "2021-01-21T07:12:04.080115Z"
    },
    "papermill": {
     "duration": 2132.330506,
     "end_time": "2021-01-21T07:12:04.103295",
     "exception": false,
     "start_time": "2021-01-21T06:36:31.772789",
     "status": "completed"
    },
    "tags": []
   },
   "outputs": [
    {
     "data": {
      "text/html": [
       "<div>\n",
       "<style scoped>\n",
       "    .dataframe tbody tr th:only-of-type {\n",
       "        vertical-align: middle;\n",
       "    }\n",
       "\n",
       "    .dataframe tbody tr th {\n",
       "        vertical-align: top;\n",
       "    }\n",
       "\n",
       "    .dataframe thead th {\n",
       "        text-align: right;\n",
       "    }\n",
       "</style>\n",
       "<table border=\"1\" class=\"dataframe\">\n",
       "  <thead>\n",
       "    <tr style=\"text-align: right;\">\n",
       "      <th></th>\n",
       "      <th>0</th>\n",
       "      <th>1</th>\n",
       "    </tr>\n",
       "  </thead>\n",
       "  <tbody>\n",
       "    <tr>\n",
       "      <th>id</th>\n",
       "      <td>3482</td>\n",
       "      <td>3858</td>\n",
       "    </tr>\n",
       "    <tr>\n",
       "      <th>name</th>\n",
       "      <td>Gerhard Klimeck</td>\n",
       "      <td>Jing Guo</td>\n",
       "    </tr>\n",
       "    <tr>\n",
       "      <th>username</th>\n",
       "      <td>gekco</td>\n",
       "      <td>guoj</td>\n",
       "    </tr>\n",
       "    <tr>\n",
       "      <th>block</th>\n",
       "      <td>0</td>\n",
       "      <td>0</td>\n",
       "    </tr>\n",
       "    <tr>\n",
       "      <th>email</th>\n",
       "      <td>gekco@purdue.edu</td>\n",
       "      <td>guoj@ufl.edu</td>\n",
       "    </tr>\n",
       "    <tr>\n",
       "      <th>sendEmail</th>\n",
       "      <td>1</td>\n",
       "      <td>0</td>\n",
       "    </tr>\n",
       "    <tr>\n",
       "      <th>registerDate</th>\n",
       "      <td>2004-04-10 17:58:53</td>\n",
       "      <td>2004-12-17 22:14:51</td>\n",
       "    </tr>\n",
       "    <tr>\n",
       "      <th>lastvisitDate</th>\n",
       "      <td>2021-01-19 20:10:54</td>\n",
       "      <td>2021-01-19 21:06:55</td>\n",
       "    </tr>\n",
       "    <tr>\n",
       "      <th>orgtype</th>\n",
       "      <td>universityfaculty</td>\n",
       "      <td>university</td>\n",
       "    </tr>\n",
       "    <tr>\n",
       "      <th>organization</th>\n",
       "      <td>purdue university</td>\n",
       "      <td>university of florida</td>\n",
       "    </tr>\n",
       "    <tr>\n",
       "      <th>orcid</th>\n",
       "      <td>0000-0001-7128-773X</td>\n",
       "      <td></td>\n",
       "    </tr>\n",
       "    <tr>\n",
       "      <th>email_host</th>\n",
       "      <td>purdue.edu</td>\n",
       "      <td>ufl.edu</td>\n",
       "    </tr>\n",
       "    <tr>\n",
       "      <th>org_cleaned_set</th>\n",
       "      <td>{purdue, university}</td>\n",
       "      <td>{university, florida}</td>\n",
       "    </tr>\n",
       "    <tr>\n",
       "      <th>org_cleaned_hash</th>\n",
       "      <td>purdue-university</td>\n",
       "      <td>florida-university</td>\n",
       "    </tr>\n",
       "    <tr>\n",
       "      <th>is_email_commercial</th>\n",
       "      <td>False</td>\n",
       "      <td>False</td>\n",
       "    </tr>\n",
       "    <tr>\n",
       "      <th>domain_by_email</th>\n",
       "      <td>purdue.edu</td>\n",
       "      <td>ufl.edu</td>\n",
       "    </tr>\n",
       "  </tbody>\n",
       "</table>\n",
       "</div>"
      ],
      "text/plain": [
       "                                        0                      1\n",
       "id                                   3482                   3858\n",
       "name                      Gerhard Klimeck               Jing Guo\n",
       "username                            gekco                   guoj\n",
       "block                                   0                      0\n",
       "email                    gekco@purdue.edu           guoj@ufl.edu\n",
       "sendEmail                               1                      0\n",
       "registerDate          2004-04-10 17:58:53    2004-12-17 22:14:51\n",
       "lastvisitDate         2021-01-19 20:10:54    2021-01-19 21:06:55\n",
       "orgtype                 universityfaculty             university\n",
       "organization            purdue university  university of florida\n",
       "orcid                 0000-0001-7128-773X                       \n",
       "email_host                     purdue.edu                ufl.edu\n",
       "org_cleaned_set      {purdue, university}  {university, florida}\n",
       "org_cleaned_hash        purdue-university     florida-university\n",
       "is_email_commercial                 False                  False\n",
       "domain_by_email                purdue.edu                ufl.edu"
      ]
     },
     "metadata": {},
     "output_type": "display_data"
    }
   ],
   "source": [
    "# obtain domain estimation from email addresses\n",
    "df = pd.merge(df, domain_df[~domain_df.domain.isin(is_email_commercial[is_email_commercial].index)]['domain'],\\\n",
    "         how='left', left_on='email_host', right_on='domain').rename(columns={'domain':'domain_by_email'})\n",
    "\n",
    "# display\n",
    "display(df.head(2).T)"
   ]
  },
  {
   "cell_type": "markdown",
   "metadata": {
    "papermill": {
     "duration": 0.051048,
     "end_time": "2021-01-21T07:12:04.215283",
     "exception": false,
     "start_time": "2021-01-21T07:12:04.164235",
     "status": "completed"
    },
    "tags": []
   },
   "source": [
    "## Fuzzy derive organization from nanoHUB profiles"
   ]
  },
  {
   "cell_type": "code",
   "execution_count": 25,
   "metadata": {
    "execution": {
     "iopub.execute_input": "2021-01-21T07:12:04.479035Z",
     "iopub.status.busy": "2021-01-21T07:12:04.478446Z",
     "iopub.status.idle": "2021-01-21T07:12:05.496787Z",
     "shell.execute_reply": "2021-01-21T07:12:05.507594Z"
    },
    "papermill": {
     "duration": 1.240975,
     "end_time": "2021-01-21T07:12:05.507774",
     "exception": false,
     "start_time": "2021-01-21T07:12:04.266799",
     "status": "completed"
    },
    "tags": []
   },
   "outputs": [
    {
     "data": {
      "text/html": [
       "<div>\n",
       "<style scoped>\n",
       "    .dataframe tbody tr th:only-of-type {\n",
       "        vertical-align: middle;\n",
       "    }\n",
       "\n",
       "    .dataframe tbody tr th {\n",
       "        vertical-align: top;\n",
       "    }\n",
       "\n",
       "    .dataframe thead th {\n",
       "        text-align: right;\n",
       "    }\n",
       "</style>\n",
       "<table border=\"1\" class=\"dataframe\">\n",
       "  <thead>\n",
       "    <tr style=\"text-align: right;\">\n",
       "      <th></th>\n",
       "      <th>11995</th>\n",
       "      <th>8193</th>\n",
       "      <th>17794</th>\n",
       "      <th>3221</th>\n",
       "      <th>6394</th>\n",
       "    </tr>\n",
       "  </thead>\n",
       "  <tbody>\n",
       "    <tr>\n",
       "      <th>id</th>\n",
       "      <td>290078</td>\n",
       "      <td>285420</td>\n",
       "      <td>297118</td>\n",
       "      <td>279254</td>\n",
       "      <td>283238</td>\n",
       "    </tr>\n",
       "    <tr>\n",
       "      <th>name</th>\n",
       "      <td>Wenjia Zhou</td>\n",
       "      <td>laura</td>\n",
       "      <td>Mitchell Mckay</td>\n",
       "      <td>Aril Sahak</td>\n",
       "      <td>MIN WOO LEE</td>\n",
       "    </tr>\n",
       "    <tr>\n",
       "      <th>username</th>\n",
       "      <td>wjzhouustc</td>\n",
       "      <td>lauraosh99</td>\n",
       "      <td>mmckay3</td>\n",
       "      <td>arilsahak</td>\n",
       "      <td>twins9638</td>\n",
       "    </tr>\n",
       "    <tr>\n",
       "      <th>block</th>\n",
       "      <td>0</td>\n",
       "      <td>0</td>\n",
       "      <td>0</td>\n",
       "      <td>0</td>\n",
       "      <td>0</td>\n",
       "    </tr>\n",
       "    <tr>\n",
       "      <th>email</th>\n",
       "      <td>wjzhouustc@gmail.com</td>\n",
       "      <td>lauraosh99@gmail.com</td>\n",
       "      <td>mmckay3@asu.edu</td>\n",
       "      <td>arilsahak@gmail.com</td>\n",
       "      <td>mwl96@naver.com</td>\n",
       "    </tr>\n",
       "    <tr>\n",
       "      <th>sendEmail</th>\n",
       "      <td>0</td>\n",
       "      <td>-1</td>\n",
       "      <td>0</td>\n",
       "      <td>-1</td>\n",
       "      <td>-1</td>\n",
       "    </tr>\n",
       "    <tr>\n",
       "      <th>registerDate</th>\n",
       "      <td>2020-06-03 03:07:37</td>\n",
       "      <td>2020-04-21 21:09:18</td>\n",
       "      <td>2020-08-18 04:18:48</td>\n",
       "      <td>2020-02-24 11:19:59</td>\n",
       "      <td>2020-04-05 21:29:41</td>\n",
       "    </tr>\n",
       "    <tr>\n",
       "      <th>lastvisitDate</th>\n",
       "      <td>2020-06-03 03:07:38</td>\n",
       "      <td>2020-04-21 21:09:19</td>\n",
       "      <td>2020-08-25 22:28:59</td>\n",
       "      <td>2020-02-24 11:19:59</td>\n",
       "      <td>2020-09-28 11:05:20</td>\n",
       "    </tr>\n",
       "    <tr>\n",
       "      <th>orgtype</th>\n",
       "      <td>industry</td>\n",
       "      <td>universityfaculty</td>\n",
       "      <td>universitygraduate</td>\n",
       "      <td>universitygraduate</td>\n",
       "      <td>universitygraduate</td>\n",
       "    </tr>\n",
       "    <tr>\n",
       "      <th>organization</th>\n",
       "      <td></td>\n",
       "      <td></td>\n",
       "      <td></td>\n",
       "      <td></td>\n",
       "      <td></td>\n",
       "    </tr>\n",
       "    <tr>\n",
       "      <th>orcid</th>\n",
       "      <td></td>\n",
       "      <td></td>\n",
       "      <td></td>\n",
       "      <td></td>\n",
       "      <td></td>\n",
       "    </tr>\n",
       "    <tr>\n",
       "      <th>email_host</th>\n",
       "      <td>gmail.com</td>\n",
       "      <td>gmail.com</td>\n",
       "      <td>asu.edu</td>\n",
       "      <td>gmail.com</td>\n",
       "      <td>naver.com</td>\n",
       "    </tr>\n",
       "    <tr>\n",
       "      <th>org_cleaned_set</th>\n",
       "      <td>{}</td>\n",
       "      <td>{}</td>\n",
       "      <td>{}</td>\n",
       "      <td>{}</td>\n",
       "      <td>{}</td>\n",
       "    </tr>\n",
       "    <tr>\n",
       "      <th>org_cleaned_hash</th>\n",
       "      <td>None</td>\n",
       "      <td>None</td>\n",
       "      <td>None</td>\n",
       "      <td>None</td>\n",
       "      <td>None</td>\n",
       "    </tr>\n",
       "    <tr>\n",
       "      <th>is_email_commercial</th>\n",
       "      <td>True</td>\n",
       "      <td>True</td>\n",
       "      <td>False</td>\n",
       "      <td>True</td>\n",
       "      <td>False</td>\n",
       "    </tr>\n",
       "    <tr>\n",
       "      <th>domain_by_email</th>\n",
       "      <td>NaN</td>\n",
       "      <td>NaN</td>\n",
       "      <td>asu.edu</td>\n",
       "      <td>NaN</td>\n",
       "      <td>NaN</td>\n",
       "    </tr>\n",
       "    <tr>\n",
       "      <th>domain_by_profile</th>\n",
       "      <td>NaN</td>\n",
       "      <td>NaN</td>\n",
       "      <td>NaN</td>\n",
       "      <td>NaN</td>\n",
       "      <td>NaN</td>\n",
       "    </tr>\n",
       "  </tbody>\n",
       "</table>\n",
       "</div>"
      ],
      "text/plain": [
       "                                    11995                 8193   \\\n",
       "id                                 290078                285420   \n",
       "name                          Wenjia Zhou                 laura   \n",
       "username                       wjzhouustc            lauraosh99   \n",
       "block                                   0                     0   \n",
       "email                wjzhouustc@gmail.com  lauraosh99@gmail.com   \n",
       "sendEmail                               0                    -1   \n",
       "registerDate          2020-06-03 03:07:37   2020-04-21 21:09:18   \n",
       "lastvisitDate         2020-06-03 03:07:38   2020-04-21 21:09:19   \n",
       "orgtype                          industry     universityfaculty   \n",
       "organization                                                      \n",
       "orcid                                                             \n",
       "email_host                      gmail.com             gmail.com   \n",
       "org_cleaned_set                        {}                    {}   \n",
       "org_cleaned_hash                     None                  None   \n",
       "is_email_commercial                  True                  True   \n",
       "domain_by_email                       NaN                   NaN   \n",
       "domain_by_profile                     NaN                   NaN   \n",
       "\n",
       "                                   17794                3221   \\\n",
       "id                                297118               279254   \n",
       "name                      Mitchell Mckay           Aril Sahak   \n",
       "username                         mmckay3            arilsahak   \n",
       "block                                  0                    0   \n",
       "email                    mmckay3@asu.edu  arilsahak@gmail.com   \n",
       "sendEmail                              0                   -1   \n",
       "registerDate         2020-08-18 04:18:48  2020-02-24 11:19:59   \n",
       "lastvisitDate        2020-08-25 22:28:59  2020-02-24 11:19:59   \n",
       "orgtype               universitygraduate   universitygraduate   \n",
       "organization                                                    \n",
       "orcid                                                           \n",
       "email_host                       asu.edu            gmail.com   \n",
       "org_cleaned_set                       {}                   {}   \n",
       "org_cleaned_hash                    None                 None   \n",
       "is_email_commercial                False                 True   \n",
       "domain_by_email                  asu.edu                  NaN   \n",
       "domain_by_profile                    NaN                  NaN   \n",
       "\n",
       "                                   6394   \n",
       "id                                283238  \n",
       "name                         MIN WOO LEE  \n",
       "username                       twins9638  \n",
       "block                                  0  \n",
       "email                    mwl96@naver.com  \n",
       "sendEmail                             -1  \n",
       "registerDate         2020-04-05 21:29:41  \n",
       "lastvisitDate        2020-09-28 11:05:20  \n",
       "orgtype               universitygraduate  \n",
       "organization                              \n",
       "orcid                                     \n",
       "email_host                     naver.com  \n",
       "org_cleaned_set                       {}  \n",
       "org_cleaned_hash                    None  \n",
       "is_email_commercial                False  \n",
       "domain_by_email                      NaN  \n",
       "domain_by_profile                    NaN  "
      ]
     },
     "execution_count": 25,
     "metadata": {},
     "output_type": "execute_result"
    }
   ],
   "source": [
    "# attempt direct join by hash\n",
    "domain_subset_df = domain_df[domain_df.domain.isin(df.email_host.unique())][['domain', 'domain_cleaned_hash']]\n",
    "# only take values that exist\n",
    "domain_subset_df = domain_subset_df[~domain_subset_df.domain.isna()&~domain_subset_df.domain_cleaned_hash.isna()]\n",
    "\n",
    "derived_df = pd.merge(df, domain_subset_df.rename(columns={'domain':'domain_by_profile'}),\\\n",
    "         how='left', left_on='org_cleaned_hash', right_on='domain_cleaned_hash')\\\n",
    "        .drop('domain_cleaned_hash', axis=1)\n",
    "\n",
    "# display\n",
    "derived_df.sample(5).T"
   ]
  },
  {
   "cell_type": "code",
   "execution_count": 26,
   "metadata": {
    "execution": {
     "iopub.execute_input": "2021-01-21T07:12:05.697352Z",
     "iopub.status.busy": "2021-01-21T07:12:05.696739Z",
     "iopub.status.idle": "2021-01-21T07:13:58.063157Z",
     "shell.execute_reply": "2021-01-21T07:13:58.050585Z"
    },
    "papermill": {
     "duration": 112.500431,
     "end_time": "2021-01-21T07:13:58.063357",
     "exception": false,
     "start_time": "2021-01-21T07:12:05.562926",
     "status": "completed"
    },
    "tags": []
   },
   "outputs": [],
   "source": [
    "# attempt to reduce domain_df size to speedup Jaccard calculation\n",
    "from itertools import chain\n",
    "\n",
    "all_word_set = set(chain.from_iterable(derived_df[(derived_df['domain_by_profile'].isna() & (~derived_df['organization'].isna()))]\\\n",
    "                    .org_cleaned_set.values))\n",
    "\n",
    "# select the domain_df entry with words from all_word_set\n",
    "domain_subset_df = domain_df[domain_df.domain_cleaned_set.notnull()]\n",
    "domain_subset_df = domain_subset_df[domain_subset_df.domain_cleaned_set\\\n",
    "                             .apply(lambda x: True if len(x.intersection(all_word_set)) > 0 else False)]"
   ]
  },
  {
   "cell_type": "code",
   "execution_count": 27,
   "metadata": {
    "execution": {
     "iopub.execute_input": "2021-01-21T07:13:58.320587Z",
     "iopub.status.busy": "2021-01-21T07:13:58.246313Z",
     "iopub.status.idle": "2021-01-21T07:13:58.347985Z",
     "shell.execute_reply": "2021-01-21T07:13:58.348412Z"
    },
    "papermill": {
     "duration": 0.24195,
     "end_time": "2021-01-21T07:13:58.348577",
     "exception": false,
     "start_time": "2021-01-21T07:13:58.106627",
     "status": "completed"
    },
    "tags": []
   },
   "outputs": [
    {
     "data": {
      "text/html": [
       "<div>\n",
       "<style scoped>\n",
       "    .dataframe tbody tr th:only-of-type {\n",
       "        vertical-align: middle;\n",
       "    }\n",
       "\n",
       "    .dataframe tbody tr th {\n",
       "        vertical-align: top;\n",
       "    }\n",
       "\n",
       "    .dataframe thead th {\n",
       "        text-align: right;\n",
       "    }\n",
       "</style>\n",
       "<table border=\"1\" class=\"dataframe\">\n",
       "  <thead>\n",
       "    <tr style=\"text-align: right;\">\n",
       "      <th></th>\n",
       "      <th>domain_name</th>\n",
       "      <th>domain</th>\n",
       "      <th>industry</th>\n",
       "      <th>size</th>\n",
       "      <th>country</th>\n",
       "      <th>domain_cleaned_set</th>\n",
       "      <th>domain_cleaned_hash</th>\n",
       "    </tr>\n",
       "  </thead>\n",
       "  <tbody>\n",
       "    <tr>\n",
       "      <th>4</th>\n",
       "      <td>cardinal strategies, llc</td>\n",
       "      <td>cardinal-strategies.com</td>\n",
       "      <td>civil engineering</td>\n",
       "      <td>11-50</td>\n",
       "      <td>united states</td>\n",
       "      <td>{cardinal, llc, strategies}</td>\n",
       "      <td>cardinal-llc-strategies</td>\n",
       "    </tr>\n",
       "    <tr>\n",
       "      <th>16</th>\n",
       "      <td>grail research</td>\n",
       "      <td>grailresearch.com</td>\n",
       "      <td>research</td>\n",
       "      <td>201-500</td>\n",
       "      <td>united states</td>\n",
       "      <td>{research, grail}</td>\n",
       "      <td>grail-research</td>\n",
       "    </tr>\n",
       "  </tbody>\n",
       "</table>\n",
       "</div>"
      ],
      "text/plain": [
       "                 domain_name                   domain           industry  \\\n",
       "4   cardinal strategies, llc  cardinal-strategies.com  civil engineering   \n",
       "16            grail research        grailresearch.com           research   \n",
       "\n",
       "       size        country           domain_cleaned_set  \\\n",
       "4     11-50  united states  {cardinal, llc, strategies}   \n",
       "16  201-500  united states            {research, grail}   \n",
       "\n",
       "        domain_cleaned_hash  \n",
       "4   cardinal-llc-strategies  \n",
       "16           grail-research  "
      ]
     },
     "metadata": {},
     "output_type": "display_data"
    }
   ],
   "source": [
    "display(domain_subset_df.head(2))"
   ]
  },
  {
   "cell_type": "code",
   "execution_count": 28,
   "metadata": {
    "execution": {
     "iopub.execute_input": "2021-01-21T07:13:58.674744Z",
     "iopub.status.busy": "2021-01-21T07:13:58.672687Z",
     "iopub.status.idle": "2021-01-21T07:14:00.565253Z",
     "shell.execute_reply": "2021-01-21T07:14:00.564698Z"
    },
    "papermill": {
     "duration": 2.172835,
     "end_time": "2021-01-21T07:14:00.565407",
     "exception": false,
     "start_time": "2021-01-21T07:13:58.392572",
     "status": "completed"
    },
    "tags": []
   },
   "outputs": [],
   "source": [
    "def get_org(this_df):\n",
    "    # look at the cohort with this label, do they have a commonly agreed domain_by_email? If so, use it\n",
    "    this_dbe_count = this_df.domain_by_email.value_counts()\n",
    "\n",
    "    if this_dbe_count.shape[0] < 1:\n",
    "        return None\n",
    "\n",
    "    this_top_dbe_perc = this_dbe_count.iloc[0]/this_dbe_count.sum()\n",
    "\n",
    "    # if top choice occupies majority of cases, then this cohort can be implied to this domain_by_email address\n",
    "    if this_top_dbe_perc > 0.5:\n",
    "        return this_dbe_count.index[0] \n",
    "\n",
    "\n",
    "derived_hash = derived_df.groupby('org_cleaned_hash').apply(get_org)"
   ]
  },
  {
   "cell_type": "code",
   "execution_count": 29,
   "metadata": {
    "execution": {
     "iopub.execute_input": "2021-01-21T07:14:00.701086Z",
     "iopub.status.busy": "2021-01-21T07:14:00.677694Z",
     "iopub.status.idle": "2021-01-21T07:14:00.757480Z",
     "shell.execute_reply": "2021-01-21T07:14:00.756991Z"
    },
    "papermill": {
     "duration": 0.148156,
     "end_time": "2021-01-21T07:14:00.757617",
     "exception": false,
     "start_time": "2021-01-21T07:14:00.609461",
     "status": "completed"
    },
    "tags": []
   },
   "outputs": [],
   "source": [
    "derived_df = pd.merge(derived_df, derived_hash.reset_index(name='domain_by_profile_infer')\\\n",
    "                      , how='left', left_on='org_cleaned_hash', right_on='org_cleaned_hash')"
   ]
  },
  {
   "cell_type": "code",
   "execution_count": 30,
   "metadata": {
    "execution": {
     "iopub.execute_input": "2021-01-21T07:14:00.868918Z",
     "iopub.status.busy": "2021-01-21T07:14:00.868348Z",
     "iopub.status.idle": "2021-01-21T07:14:03.067178Z",
     "shell.execute_reply": "2021-01-21T07:14:03.066718Z"
    },
    "papermill": {
     "duration": 2.265266,
     "end_time": "2021-01-21T07:14:03.067332",
     "exception": false,
     "start_time": "2021-01-21T07:14:00.802066",
     "status": "completed"
    },
    "tags": []
   },
   "outputs": [],
   "source": [
    "# calculate a composite domain based on domain_by_email, domain_by_profile, and domain_by_profile_infer\n",
    "def get_composite_domain(this_df):\n",
    "\n",
    "    # if domain found via profile with direct match, use it\n",
    "    if this_df.domain_by_profile != '':\n",
    "        return this_df.domain_by_profile\n",
    "    \n",
    "    # if domain found via email, use it\n",
    "    if this_df.domain_by_email != '':\n",
    "        return this_df.domain_by_email    \n",
    "    \n",
    "    # if domain found via profile but not with a direct match, use it\n",
    "    if this_df.domain_by_profile_infer != '':\n",
    "        return this_df.domain_by_profile_infer\n",
    "    \n",
    "    # else, no organization can be concluded, return none\n",
    "    return None\n",
    "\n",
    "    \n",
    "derived_df['domain_final'] = derived_df[['domain_by_email', 'domain_by_profile', 'domain_by_profile_infer']].fillna('')\\\n",
    "                                                        .apply(get_composite_domain, axis=1)"
   ]
  },
  {
   "cell_type": "code",
   "execution_count": 31,
   "metadata": {
    "execution": {
     "iopub.execute_input": "2021-01-21T07:14:03.223737Z",
     "iopub.status.busy": "2021-01-21T07:14:03.222983Z",
     "iopub.status.idle": "2021-01-21T07:14:03.229774Z",
     "shell.execute_reply": "2021-01-21T07:14:03.229310Z"
    },
    "papermill": {
     "duration": 0.120229,
     "end_time": "2021-01-21T07:14:03.229904",
     "exception": false,
     "start_time": "2021-01-21T07:14:03.109675",
     "status": "completed"
    },
    "tags": []
   },
   "outputs": [
    {
     "data": {
      "text/html": [
       "<div>\n",
       "<style scoped>\n",
       "    .dataframe tbody tr th:only-of-type {\n",
       "        vertical-align: middle;\n",
       "    }\n",
       "\n",
       "    .dataframe tbody tr th {\n",
       "        vertical-align: top;\n",
       "    }\n",
       "\n",
       "    .dataframe thead th {\n",
       "        text-align: right;\n",
       "    }\n",
       "</style>\n",
       "<table border=\"1\" class=\"dataframe\">\n",
       "  <thead>\n",
       "    <tr style=\"text-align: right;\">\n",
       "      <th></th>\n",
       "      <th>id</th>\n",
       "      <th>name</th>\n",
       "      <th>username</th>\n",
       "      <th>block</th>\n",
       "      <th>email</th>\n",
       "      <th>sendEmail</th>\n",
       "      <th>registerDate</th>\n",
       "      <th>lastvisitDate</th>\n",
       "      <th>orgtype</th>\n",
       "      <th>organization</th>\n",
       "      <th>orcid</th>\n",
       "      <th>email_host</th>\n",
       "      <th>org_cleaned_set</th>\n",
       "      <th>org_cleaned_hash</th>\n",
       "      <th>is_email_commercial</th>\n",
       "      <th>domain_by_email</th>\n",
       "      <th>domain_by_profile</th>\n",
       "      <th>domain_by_profile_infer</th>\n",
       "      <th>domain_final</th>\n",
       "    </tr>\n",
       "  </thead>\n",
       "  <tbody>\n",
       "    <tr>\n",
       "      <th>0</th>\n",
       "      <td>3482</td>\n",
       "      <td>Gerhard Klimeck</td>\n",
       "      <td>gekco</td>\n",
       "      <td>0</td>\n",
       "      <td>gekco@purdue.edu</td>\n",
       "      <td>1</td>\n",
       "      <td>2004-04-10 17:58:53</td>\n",
       "      <td>2021-01-19 20:10:54</td>\n",
       "      <td>universityfaculty</td>\n",
       "      <td>purdue university</td>\n",
       "      <td>0000-0001-7128-773X</td>\n",
       "      <td>purdue.edu</td>\n",
       "      <td>{purdue, university}</td>\n",
       "      <td>purdue-university</td>\n",
       "      <td>False</td>\n",
       "      <td>purdue.edu</td>\n",
       "      <td>purdue.edu</td>\n",
       "      <td>purdue.edu</td>\n",
       "      <td>purdue.edu</td>\n",
       "    </tr>\n",
       "    <tr>\n",
       "      <th>1</th>\n",
       "      <td>3858</td>\n",
       "      <td>Jing Guo</td>\n",
       "      <td>guoj</td>\n",
       "      <td>0</td>\n",
       "      <td>guoj@ufl.edu</td>\n",
       "      <td>0</td>\n",
       "      <td>2004-12-17 22:14:51</td>\n",
       "      <td>2021-01-19 21:06:55</td>\n",
       "      <td>university</td>\n",
       "      <td>university of florida</td>\n",
       "      <td></td>\n",
       "      <td>ufl.edu</td>\n",
       "      <td>{university, florida}</td>\n",
       "      <td>florida-university</td>\n",
       "      <td>False</td>\n",
       "      <td>ufl.edu</td>\n",
       "      <td>famu.edu</td>\n",
       "      <td>ufl.edu</td>\n",
       "      <td>famu.edu</td>\n",
       "    </tr>\n",
       "  </tbody>\n",
       "</table>\n",
       "</div>"
      ],
      "text/plain": [
       "     id             name username  block             email  sendEmail  \\\n",
       "0  3482  Gerhard Klimeck    gekco      0  gekco@purdue.edu          1   \n",
       "1  3858         Jing Guo     guoj      0      guoj@ufl.edu          0   \n",
       "\n",
       "         registerDate        lastvisitDate            orgtype  \\\n",
       "0 2004-04-10 17:58:53  2021-01-19 20:10:54  universityfaculty   \n",
       "1 2004-12-17 22:14:51  2021-01-19 21:06:55         university   \n",
       "\n",
       "            organization                orcid  email_host  \\\n",
       "0      purdue university  0000-0001-7128-773X  purdue.edu   \n",
       "1  university of florida                          ufl.edu   \n",
       "\n",
       "         org_cleaned_set    org_cleaned_hash  is_email_commercial  \\\n",
       "0   {purdue, university}   purdue-university                False   \n",
       "1  {university, florida}  florida-university                False   \n",
       "\n",
       "  domain_by_email domain_by_profile domain_by_profile_infer domain_final  \n",
       "0      purdue.edu        purdue.edu              purdue.edu   purdue.edu  \n",
       "1         ufl.edu          famu.edu                 ufl.edu     famu.edu  "
      ]
     },
     "metadata": {},
     "output_type": "display_data"
    }
   ],
   "source": [
    "display(derived_df.head(2))"
   ]
  },
  {
   "cell_type": "code",
   "execution_count": null,
   "metadata": {
    "papermill": {
     "duration": 0.044874,
     "end_time": "2021-01-21T07:14:03.321343",
     "exception": false,
     "start_time": "2021-01-21T07:14:03.276469",
     "status": "completed"
    },
    "tags": []
   },
   "outputs": [],
   "source": []
  },
  {
   "cell_type": "markdown",
   "metadata": {
    "papermill": {
     "duration": 0.042708,
     "end_time": "2021-01-21T07:14:03.406865",
     "exception": false,
     "start_time": "2021-01-21T07:14:03.364157",
     "status": "completed"
    },
    "tags": []
   },
   "source": [
    "## Update Salesforce institution "
   ]
  },
  {
   "cell_type": "code",
   "execution_count": 32,
   "metadata": {
    "execution": {
     "iopub.execute_input": "2021-01-21T07:14:03.524691Z",
     "iopub.status.busy": "2021-01-21T07:14:03.524083Z",
     "iopub.status.idle": "2021-01-21T07:14:08.244325Z",
     "shell.execute_reply": "2021-01-21T07:14:08.252132Z"
    },
    "papermill": {
     "duration": 4.802035,
     "end_time": "2021-01-21T07:14:08.252407",
     "exception": false,
     "start_time": "2021-01-21T07:14:03.450372",
     "status": "completed"
    },
    "tags": []
   },
   "outputs": [
    {
     "data": {
      "text/html": [
       "<div>\n",
       "<style scoped>\n",
       "    .dataframe tbody tr th:only-of-type {\n",
       "        vertical-align: middle;\n",
       "    }\n",
       "\n",
       "    .dataframe tbody tr th {\n",
       "        vertical-align: top;\n",
       "    }\n",
       "\n",
       "    .dataframe thead th {\n",
       "        text-align: right;\n",
       "    }\n",
       "</style>\n",
       "<table border=\"1\" class=\"dataframe\">\n",
       "  <thead>\n",
       "    <tr style=\"text-align: right;\">\n",
       "      <th></th>\n",
       "      <th>domain_name</th>\n",
       "      <th>domain</th>\n",
       "      <th>industry</th>\n",
       "      <th>size</th>\n",
       "      <th>country</th>\n",
       "    </tr>\n",
       "  </thead>\n",
       "  <tbody>\n",
       "    <tr>\n",
       "      <th>0</th>\n",
       "      <td>purdue university</td>\n",
       "      <td>purdue.edu</td>\n",
       "      <td>higher education</td>\n",
       "      <td>10001+</td>\n",
       "      <td>united states</td>\n",
       "    </tr>\n",
       "    <tr>\n",
       "      <th>1</th>\n",
       "      <td>florida a&amp;m university</td>\n",
       "      <td>famu.edu</td>\n",
       "      <td>higher education</td>\n",
       "      <td>1001-5000</td>\n",
       "      <td>united states</td>\n",
       "    </tr>\n",
       "  </tbody>\n",
       "</table>\n",
       "</div>"
      ],
      "text/plain": [
       "              domain_name      domain          industry       size  \\\n",
       "0       purdue university  purdue.edu  higher education     10001+   \n",
       "1  florida a&m university    famu.edu  higher education  1001-5000   \n",
       "\n",
       "         country  \n",
       "0  united states  \n",
       "1  united states  "
      ]
     },
     "metadata": {},
     "output_type": "display_data"
    }
   ],
   "source": [
    "# get a unique list of organizations that appears in contact\n",
    "#org_df = derived_df[['domain_name', 'domain', 'industry', 'size', 'country']].drop_duplicates().dropna()\n",
    "org_df = pd.merge(derived_df[['domain_final']].drop_duplicates().dropna(), domain_df, how='inner', left_on='domain_final', right_on='domain') \n",
    "org_df = org_df[['domain_name', 'domain', 'industry', 'size', 'country']]\n",
    "\n",
    "# display\n",
    "display(org_df.head(2))"
   ]
  },
  {
   "cell_type": "code",
   "execution_count": 33,
   "metadata": {
    "execution": {
     "iopub.execute_input": "2021-01-21T07:14:08.409870Z",
     "iopub.status.busy": "2021-01-21T07:14:08.407692Z",
     "iopub.status.idle": "2021-01-21T07:14:08.420378Z",
     "shell.execute_reply": "2021-01-21T07:14:08.420770Z"
    },
    "papermill": {
     "duration": 0.115865,
     "end_time": "2021-01-21T07:14:08.420953",
     "exception": false,
     "start_time": "2021-01-21T07:14:08.305088",
     "status": "completed"
    },
    "tags": []
   },
   "outputs": [
    {
     "data": {
      "text/html": [
       "<div>\n",
       "<style scoped>\n",
       "    .dataframe tbody tr th:only-of-type {\n",
       "        vertical-align: middle;\n",
       "    }\n",
       "\n",
       "    .dataframe tbody tr th {\n",
       "        vertical-align: top;\n",
       "    }\n",
       "\n",
       "    .dataframe thead th {\n",
       "        text-align: right;\n",
       "    }\n",
       "</style>\n",
       "<table border=\"1\" class=\"dataframe\">\n",
       "  <thead>\n",
       "    <tr style=\"text-align: right;\">\n",
       "      <th></th>\n",
       "      <th>0</th>\n",
       "      <th>1</th>\n",
       "    </tr>\n",
       "  </thead>\n",
       "  <tbody>\n",
       "    <tr>\n",
       "      <th>Name</th>\n",
       "      <td>purdue university</td>\n",
       "      <td>florida a&amp;m university</td>\n",
       "    </tr>\n",
       "    <tr>\n",
       "      <th>Size_Range__c</th>\n",
       "      <td>10001+</td>\n",
       "      <td>1001-5000</td>\n",
       "    </tr>\n",
       "    <tr>\n",
       "      <th>Country__c</th>\n",
       "      <td>united states</td>\n",
       "      <td>united states</td>\n",
       "    </tr>\n",
       "    <tr>\n",
       "      <th>Domain__c</th>\n",
       "      <td>purdue.edu</td>\n",
       "      <td>famu.edu</td>\n",
       "    </tr>\n",
       "    <tr>\n",
       "      <th>Industry__c</th>\n",
       "      <td>higher education</td>\n",
       "      <td>higher education</td>\n",
       "    </tr>\n",
       "  </tbody>\n",
       "</table>\n",
       "</div>"
      ],
      "text/plain": [
       "                               0                       1\n",
       "Name           purdue university  florida a&m university\n",
       "Size_Range__c             10001+               1001-5000\n",
       "Country__c         united states           united states\n",
       "Domain__c             purdue.edu                famu.edu\n",
       "Industry__c     higher education        higher education"
      ]
     },
     "execution_count": 33,
     "metadata": {},
     "output_type": "execute_result"
    }
   ],
   "source": [
    "df_sf = pd.DataFrame()\n",
    "\n",
    "# Make sure NaN and NaT values are taken care of here\n",
    "df_sf['Name'] = org_df['domain_name']\n",
    "\n",
    "df_sf['Size_Range__c'] = org_df['size'].fillna('Unknown')\n",
    "df_sf['Country__c'] = org_df['country']\n",
    "df_sf['Domain__c'] = org_df['domain']\n",
    "df_sf['Industry__c'] = org_df['industry']\n",
    "\n",
    "sf_original_fields = df_sf.columns\n",
    "\n",
    "# display\n",
    "df_sf.head(2).T"
   ]
  },
  {
   "cell_type": "code",
   "execution_count": 34,
   "metadata": {
    "execution": {
     "iopub.execute_input": "2021-01-21T07:14:08.526126Z",
     "iopub.status.busy": "2021-01-21T07:14:08.525563Z",
     "iopub.status.idle": "2021-01-21T07:14:11.662389Z",
     "shell.execute_reply": "2021-01-21T07:14:11.662947Z"
    },
    "papermill": {
     "duration": 3.196999,
     "end_time": "2021-01-21T07:14:11.663115",
     "exception": false,
     "start_time": "2021-01-21T07:14:08.466116",
     "status": "completed"
    },
    "tags": []
   },
   "outputs": [
    {
     "name": "stdout",
     "output_type": "stream",
     "text": [
      "Obtained Salesforce access token ...... True\n"
     ]
    }
   ],
   "source": [
    "\n",
    "\n",
    "db_s.object_id = 'organization__c'\n",
    "db_s.external_id = 'Domain__c'"
   ]
  },
  {
   "cell_type": "code",
   "execution_count": 35,
   "metadata": {
    "execution": {
     "iopub.execute_input": "2021-01-21T07:14:11.765477Z",
     "iopub.status.busy": "2021-01-21T07:14:11.764874Z",
     "iopub.status.idle": "2021-01-21T07:14:11.775526Z",
     "shell.execute_reply": "2021-01-21T07:14:11.775063Z"
    },
    "papermill": {
     "duration": 0.065704,
     "end_time": "2021-01-21T07:14:11.775662",
     "exception": false,
     "start_time": "2021-01-21T07:14:11.709958",
     "status": "completed"
    },
    "tags": []
   },
   "outputs": [
    {
     "data": {
      "text/html": [
       "<div>\n",
       "<style scoped>\n",
       "    .dataframe tbody tr th:only-of-type {\n",
       "        vertical-align: middle;\n",
       "    }\n",
       "\n",
       "    .dataframe tbody tr th {\n",
       "        vertical-align: top;\n",
       "    }\n",
       "\n",
       "    .dataframe thead th {\n",
       "        text-align: right;\n",
       "    }\n",
       "</style>\n",
       "<table border=\"1\" class=\"dataframe\">\n",
       "  <thead>\n",
       "    <tr style=\"text-align: right;\">\n",
       "      <th></th>\n",
       "      <th>Name</th>\n",
       "      <th>Size_Range__c</th>\n",
       "      <th>Country__c</th>\n",
       "      <th>Domain__c</th>\n",
       "      <th>Industry__c</th>\n",
       "    </tr>\n",
       "  </thead>\n",
       "  <tbody>\n",
       "    <tr>\n",
       "      <th>0</th>\n",
       "      <td>purdue university</td>\n",
       "      <td>10001+</td>\n",
       "      <td>united states</td>\n",
       "      <td>purdue.edu</td>\n",
       "      <td>higher education</td>\n",
       "    </tr>\n",
       "    <tr>\n",
       "      <th>1</th>\n",
       "      <td>florida a&amp;m university</td>\n",
       "      <td>1001-5000</td>\n",
       "      <td>united states</td>\n",
       "      <td>famu.edu</td>\n",
       "      <td>higher education</td>\n",
       "    </tr>\n",
       "  </tbody>\n",
       "</table>\n",
       "</div>"
      ],
      "text/plain": [
       "                     Name Size_Range__c     Country__c   Domain__c  \\\n",
       "0       purdue university        10001+  united states  purdue.edu   \n",
       "1  florida a&m university     1001-5000  united states    famu.edu   \n",
       "\n",
       "        Industry__c  \n",
       "0  higher education  \n",
       "1  higher education  "
      ]
     },
     "metadata": {},
     "output_type": "display_data"
    },
    {
     "data": {
      "text/html": [
       "<div>\n",
       "<style scoped>\n",
       "    .dataframe tbody tr th:only-of-type {\n",
       "        vertical-align: middle;\n",
       "    }\n",
       "\n",
       "    .dataframe tbody tr th {\n",
       "        vertical-align: top;\n",
       "    }\n",
       "\n",
       "    .dataframe thead th {\n",
       "        text-align: right;\n",
       "    }\n",
       "</style>\n",
       "<table border=\"1\" class=\"dataframe\">\n",
       "  <thead>\n",
       "    <tr style=\"text-align: right;\">\n",
       "      <th></th>\n",
       "      <th>Name</th>\n",
       "      <th>Size_Range__c</th>\n",
       "      <th>Country__c</th>\n",
       "      <th>Domain__c</th>\n",
       "      <th>Industry__c</th>\n",
       "    </tr>\n",
       "  </thead>\n",
       "  <tbody>\n",
       "    <tr>\n",
       "      <th>946</th>\n",
       "      <td>national research university - higher school o...</td>\n",
       "      <td>1001-5000</td>\n",
       "      <td>russia</td>\n",
       "      <td>hse.ru</td>\n",
       "      <td>higher education</td>\n",
       "    </tr>\n",
       "    <tr>\n",
       "      <th>947</th>\n",
       "      <td>draper laboratory</td>\n",
       "      <td>1001-5000</td>\n",
       "      <td>united states</td>\n",
       "      <td>draper.com</td>\n",
       "      <td>defense &amp; space</td>\n",
       "    </tr>\n",
       "  </tbody>\n",
       "</table>\n",
       "</div>"
      ],
      "text/plain": [
       "                                                  Name Size_Range__c  \\\n",
       "946  national research university - higher school o...     1001-5000   \n",
       "947                                  draper laboratory     1001-5000   \n",
       "\n",
       "        Country__c   Domain__c       Industry__c  \n",
       "946         russia      hse.ru  higher education  \n",
       "947  united states  draper.com   defense & space  "
      ]
     },
     "metadata": {},
     "output_type": "display_data"
    }
   ],
   "source": [
    "display(df_sf.head(2))\n",
    "display(df_sf.tail(2))\n"
   ]
  },
  {
   "cell_type": "code",
   "execution_count": 36,
   "metadata": {
    "execution": {
     "iopub.execute_input": "2021-01-21T07:14:11.929763Z",
     "iopub.status.busy": "2021-01-21T07:14:11.897392Z",
     "iopub.status.idle": "2021-01-21T07:14:11.986074Z",
     "shell.execute_reply": "2021-01-21T07:14:11.986497Z"
    },
    "papermill": {
     "duration": 0.164877,
     "end_time": "2021-01-21T07:14:11.986678",
     "exception": false,
     "start_time": "2021-01-21T07:14:11.821801",
     "status": "completed"
    },
    "tags": []
   },
   "outputs": [],
   "source": [
    "## correcting name overflows\n",
    "names = df_sf['Name'].str.len()\n",
    "\n",
    "sf_char_limit = 80\n",
    "name_indexes = names.index[names >= sf_char_limit].tolist()\n",
    "for index in name_indexes:\n",
    "    df_sf['Name'][index] =  df_sf['Name'][index][0:sf_char_limit]"
   ]
  },
  {
   "cell_type": "code",
   "execution_count": 37,
   "metadata": {
    "execution": {
     "iopub.execute_input": "2021-01-21T07:14:12.090265Z",
     "iopub.status.busy": "2021-01-21T07:14:12.089705Z",
     "iopub.status.idle": "2021-01-21T07:14:12.092647Z",
     "shell.execute_reply": "2021-01-21T07:14:12.093171Z"
    },
    "papermill": {
     "duration": 0.059335,
     "end_time": "2021-01-21T07:14:12.093372",
     "exception": false,
     "start_time": "2021-01-21T07:14:12.034037",
     "status": "completed"
    },
    "tags": []
   },
   "outputs": [
    {
     "data": {
      "text/html": [
       "<div>\n",
       "<style scoped>\n",
       "    .dataframe tbody tr th:only-of-type {\n",
       "        vertical-align: middle;\n",
       "    }\n",
       "\n",
       "    .dataframe tbody tr th {\n",
       "        vertical-align: top;\n",
       "    }\n",
       "\n",
       "    .dataframe thead th {\n",
       "        text-align: right;\n",
       "    }\n",
       "</style>\n",
       "<table border=\"1\" class=\"dataframe\">\n",
       "  <thead>\n",
       "    <tr style=\"text-align: right;\">\n",
       "      <th></th>\n",
       "      <th>Name</th>\n",
       "      <th>Size_Range__c</th>\n",
       "      <th>Country__c</th>\n",
       "      <th>Domain__c</th>\n",
       "      <th>Industry__c</th>\n",
       "    </tr>\n",
       "  </thead>\n",
       "  <tbody>\n",
       "    <tr>\n",
       "      <th>0</th>\n",
       "      <td>purdue university</td>\n",
       "      <td>10001+</td>\n",
       "      <td>united states</td>\n",
       "      <td>purdue.edu</td>\n",
       "      <td>higher education</td>\n",
       "    </tr>\n",
       "    <tr>\n",
       "      <th>1</th>\n",
       "      <td>florida a&amp;m university</td>\n",
       "      <td>1001-5000</td>\n",
       "      <td>united states</td>\n",
       "      <td>famu.edu</td>\n",
       "      <td>higher education</td>\n",
       "    </tr>\n",
       "  </tbody>\n",
       "</table>\n",
       "</div>"
      ],
      "text/plain": [
       "                     Name Size_Range__c     Country__c   Domain__c  \\\n",
       "0       purdue university        10001+  united states  purdue.edu   \n",
       "1  florida a&m university     1001-5000  united states    famu.edu   \n",
       "\n",
       "        Industry__c  \n",
       "0  higher education  \n",
       "1  higher education  "
      ]
     },
     "metadata": {},
     "output_type": "display_data"
    }
   ],
   "source": [
    "display(df_sf.head(2))"
   ]
  },
  {
   "cell_type": "code",
   "execution_count": 38,
   "metadata": {
    "execution": {
     "iopub.execute_input": "2021-01-21T07:14:12.190541Z",
     "iopub.status.busy": "2021-01-21T07:14:12.189991Z",
     "iopub.status.idle": "2021-01-21T07:14:13.214712Z",
     "shell.execute_reply": "2021-01-21T07:14:13.213911Z"
    },
    "papermill": {
     "duration": 1.075869,
     "end_time": "2021-01-21T07:14:13.214841",
     "exception": false,
     "start_time": "2021-01-21T07:14:12.138972",
     "status": "completed"
    },
    "tags": []
   },
   "outputs": [
    {
     "name": "stdout",
     "output_type": "stream",
     "text": [
      "[Success] Bulk job creation successful. Job ID = 7505w00000TmJZlAAN\n",
      "hello\n",
      "[Success] CSV upload successful. Job ID = 7505w00000TmJZlAAN\n",
      "[Success] Closing job successful. Job ID = 7505w00000TmJZlAAN\n"
     ]
    }
   ],
   "source": [
    "# send data to Salesforce\n",
    "db_s.send_data(df_sf)"
   ]
  },
  {
   "cell_type": "code",
   "execution_count": 39,
   "metadata": {
    "execution": {
     "iopub.execute_input": "2021-01-21T07:14:13.319030Z",
     "iopub.status.busy": "2021-01-21T07:14:13.318503Z",
     "iopub.status.idle": "2021-01-21T07:14:13.697515Z",
     "shell.execute_reply": "2021-01-21T07:14:13.697050Z"
    },
    "papermill": {
     "duration": 0.433189,
     "end_time": "2021-01-21T07:14:13.697648",
     "exception": false,
     "start_time": "2021-01-21T07:14:13.264459",
     "status": "completed"
    },
    "tags": []
   },
   "outputs": [
    {
     "data": {
      "text/plain": [
       "{'id': '7505w00000TmJZlAAN',\n",
       " 'operation': 'upsert',\n",
       " 'object': 'organization__c',\n",
       " 'createdById': '0055w00000DM5bOAAT',\n",
       " 'createdDate': '2021-01-21T07:14:12.000+0000',\n",
       " 'systemModstamp': '2021-01-21T07:14:13.000+0000',\n",
       " 'state': 'InProgress',\n",
       " 'externalIdFieldName': 'Domain__c',\n",
       " 'concurrencyMode': 'Parallel',\n",
       " 'contentType': 'CSV',\n",
       " 'apiVersion': 47.0,\n",
       " 'jobType': 'V2Ingest',\n",
       " 'lineEnding': 'LF',\n",
       " 'columnDelimiter': 'COMMA',\n",
       " 'numberRecordsProcessed': 0,\n",
       " 'numberRecordsFailed': 0,\n",
       " 'retries': 0,\n",
       " 'totalProcessingTime': 0,\n",
       " 'apiActiveProcessingTime': 0,\n",
       " 'apexProcessingTime': 0}"
      ]
     },
     "execution_count": 39,
     "metadata": {},
     "output_type": "execute_result"
    }
   ],
   "source": [
    "# check status\n",
    "db_s.check_bulk_status()"
   ]
  },
  {
   "cell_type": "code",
   "execution_count": 40,
   "metadata": {
    "execution": {
     "iopub.execute_input": "2021-01-21T07:14:13.798462Z",
     "iopub.status.busy": "2021-01-21T07:14:13.797791Z",
     "iopub.status.idle": "2021-01-21T07:14:13.988281Z",
     "shell.execute_reply": "2021-01-21T07:14:13.987615Z"
    },
    "papermill": {
     "duration": 0.243433,
     "end_time": "2021-01-21T07:14:13.988409",
     "exception": false,
     "start_time": "2021-01-21T07:14:13.744976",
     "status": "completed"
    },
    "tags": []
   },
   "outputs": [
    {
     "name": "stdout",
     "output_type": "stream",
     "text": [
      "''\n"
     ]
    }
   ],
   "source": [
    "# check status\n",
    "from pprint import pprint\n",
    "\n",
    "pprint(db_s.check_bulk_failed_results())"
   ]
  },
  {
   "cell_type": "markdown",
   "metadata": {
    "papermill": {
     "duration": 0.047637,
     "end_time": "2021-01-21T07:14:14.085228",
     "exception": false,
     "start_time": "2021-01-21T07:14:14.037591",
     "status": "completed"
    },
    "tags": []
   },
   "source": [
    "## Obtain newly updated organization IDs from Salesforce"
   ]
  },
  {
   "cell_type": "code",
   "execution_count": 41,
   "metadata": {
    "execution": {
     "iopub.execute_input": "2021-01-21T07:14:14.185533Z",
     "iopub.status.busy": "2021-01-21T07:14:14.184936Z",
     "iopub.status.idle": "2021-01-21T07:14:14.445699Z",
     "shell.execute_reply": "2021-01-21T07:14:14.445035Z"
    },
    "papermill": {
     "duration": 0.313169,
     "end_time": "2021-01-21T07:14:14.445831",
     "exception": false,
     "start_time": "2021-01-21T07:14:14.132662",
     "status": "completed"
    },
    "tags": []
   },
   "outputs": [
    {
     "name": "stdout",
     "output_type": "stream",
     "text": [
      "Obtained Salesforce access token ...... True\n"
     ]
    }
   ],
   "source": [
    "# create DB2 to Salesforce API object\n",
    "db_s = salesforce"
   ]
  },
  {
   "cell_type": "code",
   "execution_count": 42,
   "metadata": {
    "execution": {
     "iopub.execute_input": "2021-01-21T07:14:14.555517Z",
     "iopub.status.busy": "2021-01-21T07:14:14.554860Z",
     "iopub.status.idle": "2021-01-21T07:14:26.008133Z",
     "shell.execute_reply": "2021-01-21T07:14:26.008838Z"
    },
    "papermill": {
     "duration": 11.514409,
     "end_time": "2021-01-21T07:14:26.009060",
     "exception": false,
     "start_time": "2021-01-21T07:14:14.494651",
     "status": "completed"
    },
    "tags": []
   },
   "outputs": [
    {
     "name": "stdout",
     "output_type": "stream",
     "text": [
      "[Success] Bulk job creation successful. Job ID = 7505w00000TmJZqAAN\n",
      "{\"id\":\"7505w00000TmJZqAAN\",\"operation\":\"query\",\"object\":\"organization__c\",\"createdById\":\"0055w00000DM5bOAAT\",\"createdDate\":\"2021-01-21T07:14:14.000+0000\",\"systemModstamp\":\"2021-01-21T07:14:15.000+0000\",\"state\":\"InProgress\",\"concurrencyMode\":\"Parallel\",\"contentType\":\"CSV\",\"apiVersion\":47.0,\"jobType\":\"V2Query\",\"lineEnding\":\"LF\",\"columnDelimiter\":\"COMMA\",\"numberRecordsProcessed\":0,\"retries\":0,\"totalProcessingTime\":0}\n",
      "{\"id\":\"7505w00000TmJZqAAN\",\"operation\":\"query\",\"object\":\"organization__c\",\"createdById\":\"0055w00000DM5bOAAT\",\"createdDate\":\"2021-01-21T07:14:14.000+0000\",\"systemModstamp\":\"2021-01-21T07:14:16.000+0000\",\"state\":\"JobComplete\",\"concurrencyMode\":\"Parallel\",\"contentType\":\"CSV\",\"apiVersion\":47.0,\"jobType\":\"V2Query\",\"lineEnding\":\"LF\",\"columnDelimiter\":\"COMMA\",\"numberRecordsProcessed\":6365,\"retries\":0,\"totalProcessingTime\":673}\n",
      "[Success] Bulk job completed successfully.\n"
     ]
    },
    {
     "data": {
      "text/html": [
       "<div>\n",
       "<style scoped>\n",
       "    .dataframe tbody tr th:only-of-type {\n",
       "        vertical-align: middle;\n",
       "    }\n",
       "\n",
       "    .dataframe tbody tr th {\n",
       "        vertical-align: top;\n",
       "    }\n",
       "\n",
       "    .dataframe thead th {\n",
       "        text-align: right;\n",
       "    }\n",
       "</style>\n",
       "<table border=\"1\" class=\"dataframe\">\n",
       "  <thead>\n",
       "    <tr style=\"text-align: right;\">\n",
       "      <th></th>\n",
       "      <th>Domain__c</th>\n",
       "      <th>Id</th>\n",
       "    </tr>\n",
       "  </thead>\n",
       "  <tbody>\n",
       "    <tr>\n",
       "      <th>0</th>\n",
       "      <td>upenn.edu</td>\n",
       "      <td>a0r5w00000V42c0AAB</td>\n",
       "    </tr>\n",
       "    <tr>\n",
       "      <th>1</th>\n",
       "      <td>fer.hr</td>\n",
       "      <td>a0r5w00000V42c1AAB</td>\n",
       "    </tr>\n",
       "    <tr>\n",
       "      <th>2</th>\n",
       "      <td>wheatoncollege.edu</td>\n",
       "      <td>a0r5w00000V42c2AAB</td>\n",
       "    </tr>\n",
       "  </tbody>\n",
       "</table>\n",
       "</div>"
      ],
      "text/plain": [
       "            Domain__c                  Id\n",
       "0           upenn.edu  a0r5w00000V42c0AAB\n",
       "1              fer.hr  a0r5w00000V42c1AAB\n",
       "2  wheatoncollege.edu  a0r5w00000V42c2AAB"
      ]
     },
     "execution_count": 42,
     "metadata": {},
     "output_type": "execute_result"
    }
   ],
   "source": [
    "# get Salesforce ID for organizations\n",
    "sf_org_ID_df = db_s.query_data('SELECT Id, Domain__c FROM organization__c')\n",
    "\n",
    "# display\n",
    "sf_org_ID_df.head(3)"
   ]
  },
  {
   "cell_type": "code",
   "execution_count": 43,
   "metadata": {
    "execution": {
     "iopub.execute_input": "2021-01-21T07:14:26.121797Z",
     "iopub.status.busy": "2021-01-21T07:14:26.121041Z",
     "iopub.status.idle": "2021-01-21T07:14:26.237746Z",
     "shell.execute_reply": "2021-01-21T07:14:26.237011Z"
    },
    "papermill": {
     "duration": 0.178298,
     "end_time": "2021-01-21T07:14:26.237878",
     "exception": false,
     "start_time": "2021-01-21T07:14:26.059580",
     "status": "completed"
    },
    "tags": []
   },
   "outputs": [],
   "source": [
    "# join salesforce ID back to contact DF\n",
    "df = pd.merge(sf_org_ID_df, derived_df, how='right', left_on='Domain__c', right_on='domain_final')\\\n",
    "            .drop('Domain__c', axis=1)\\\n",
    "            .rename(columns={'Id':'Salesforce_org_ID'})"
   ]
  },
  {
   "cell_type": "code",
   "execution_count": 44,
   "metadata": {
    "execution": {
     "iopub.execute_input": "2021-01-21T07:14:26.356520Z",
     "iopub.status.busy": "2021-01-21T07:14:26.355721Z",
     "iopub.status.idle": "2021-01-21T07:14:26.359395Z",
     "shell.execute_reply": "2021-01-21T07:14:26.358825Z"
    },
    "papermill": {
     "duration": 0.071986,
     "end_time": "2021-01-21T07:14:26.359522",
     "exception": false,
     "start_time": "2021-01-21T07:14:26.287536",
     "status": "completed"
    },
    "tags": []
   },
   "outputs": [
    {
     "data": {
      "text/html": [
       "<div>\n",
       "<style scoped>\n",
       "    .dataframe tbody tr th:only-of-type {\n",
       "        vertical-align: middle;\n",
       "    }\n",
       "\n",
       "    .dataframe tbody tr th {\n",
       "        vertical-align: top;\n",
       "    }\n",
       "\n",
       "    .dataframe thead th {\n",
       "        text-align: right;\n",
       "    }\n",
       "</style>\n",
       "<table border=\"1\" class=\"dataframe\">\n",
       "  <thead>\n",
       "    <tr style=\"text-align: right;\">\n",
       "      <th></th>\n",
       "      <th>Salesforce_org_ID</th>\n",
       "      <th>id</th>\n",
       "      <th>name</th>\n",
       "      <th>username</th>\n",
       "      <th>block</th>\n",
       "      <th>email</th>\n",
       "      <th>sendEmail</th>\n",
       "      <th>registerDate</th>\n",
       "      <th>lastvisitDate</th>\n",
       "      <th>orgtype</th>\n",
       "      <th>organization</th>\n",
       "      <th>orcid</th>\n",
       "      <th>email_host</th>\n",
       "      <th>org_cleaned_set</th>\n",
       "      <th>org_cleaned_hash</th>\n",
       "      <th>is_email_commercial</th>\n",
       "      <th>domain_by_email</th>\n",
       "      <th>domain_by_profile</th>\n",
       "      <th>domain_by_profile_infer</th>\n",
       "      <th>domain_final</th>\n",
       "    </tr>\n",
       "  </thead>\n",
       "  <tbody>\n",
       "    <tr>\n",
       "      <th>0</th>\n",
       "      <td>a0r5w00000V42c0AAB</td>\n",
       "      <td>278735</td>\n",
       "      <td>Foley, Emmet T</td>\n",
       "      <td>emmetf</td>\n",
       "      <td>0</td>\n",
       "      <td>emmet@upenn.edu</td>\n",
       "      <td>0</td>\n",
       "      <td>2020-02-17 21:04:05</td>\n",
       "      <td>2020-02-17 21:04:05</td>\n",
       "      <td>universityundergraduate</td>\n",
       "      <td></td>\n",
       "      <td></td>\n",
       "      <td>upenn.edu</td>\n",
       "      <td>{}</td>\n",
       "      <td>None</td>\n",
       "      <td>False</td>\n",
       "      <td>upenn.edu</td>\n",
       "      <td>NaN</td>\n",
       "      <td>NaN</td>\n",
       "      <td>upenn.edu</td>\n",
       "    </tr>\n",
       "    <tr>\n",
       "      <th>1</th>\n",
       "      <td>a0r5w00000V42c0AAB</td>\n",
       "      <td>279901</td>\n",
       "      <td>Tong, Yijun</td>\n",
       "      <td>yijunt</td>\n",
       "      <td>0</td>\n",
       "      <td>yijunt@upenn.edu</td>\n",
       "      <td>0</td>\n",
       "      <td>2020-03-04 01:07:38</td>\n",
       "      <td>2020-05-28 01:08:28</td>\n",
       "      <td>universitygraduate</td>\n",
       "      <td></td>\n",
       "      <td></td>\n",
       "      <td>upenn.edu</td>\n",
       "      <td>{}</td>\n",
       "      <td>None</td>\n",
       "      <td>False</td>\n",
       "      <td>upenn.edu</td>\n",
       "      <td>NaN</td>\n",
       "      <td>NaN</td>\n",
       "      <td>upenn.edu</td>\n",
       "    </tr>\n",
       "  </tbody>\n",
       "</table>\n",
       "</div>"
      ],
      "text/plain": [
       "    Salesforce_org_ID      id            name username  block  \\\n",
       "0  a0r5w00000V42c0AAB  278735  Foley, Emmet T   emmetf      0   \n",
       "1  a0r5w00000V42c0AAB  279901     Tong, Yijun   yijunt      0   \n",
       "\n",
       "              email  sendEmail        registerDate        lastvisitDate  \\\n",
       "0   emmet@upenn.edu          0 2020-02-17 21:04:05  2020-02-17 21:04:05   \n",
       "1  yijunt@upenn.edu          0 2020-03-04 01:07:38  2020-05-28 01:08:28   \n",
       "\n",
       "                   orgtype organization orcid email_host org_cleaned_set  \\\n",
       "0  universityundergraduate                     upenn.edu              {}   \n",
       "1       universitygraduate                     upenn.edu              {}   \n",
       "\n",
       "  org_cleaned_hash  is_email_commercial domain_by_email domain_by_profile  \\\n",
       "0             None                False       upenn.edu               NaN   \n",
       "1             None                False       upenn.edu               NaN   \n",
       "\n",
       "  domain_by_profile_infer domain_final  \n",
       "0                     NaN    upenn.edu  \n",
       "1                     NaN    upenn.edu  "
      ]
     },
     "metadata": {},
     "output_type": "display_data"
    }
   ],
   "source": [
    "# display\n",
    "display(df.head(2))"
   ]
  },
  {
   "cell_type": "markdown",
   "metadata": {
    "papermill": {
     "duration": 0.049344,
     "end_time": "2021-01-21T07:14:26.456689",
     "exception": false,
     "start_time": "2021-01-21T07:14:26.407345",
     "status": "completed"
    },
    "tags": []
   },
   "source": [
    "## Match data with Salesforce format"
   ]
  },
  {
   "cell_type": "code",
   "execution_count": 45,
   "metadata": {
    "execution": {
     "iopub.execute_input": "2021-01-21T07:14:26.573985Z",
     "iopub.status.busy": "2021-01-21T07:14:26.573394Z",
     "iopub.status.idle": "2021-01-21T07:14:26.575579Z",
     "shell.execute_reply": "2021-01-21T07:14:26.576020Z"
    },
    "papermill": {
     "duration": 0.062406,
     "end_time": "2021-01-21T07:14:26.576198",
     "exception": false,
     "start_time": "2021-01-21T07:14:26.513792",
     "status": "completed"
    },
    "tags": []
   },
   "outputs": [],
   "source": [
    "# split full name into first, middle, and last names\n",
    "def split_full_name(this_name):\n",
    "    this_name_list = list(filter(None, this_name.split(' ')))\n",
    "    \n",
    "    if len(this_name_list) == 1:\n",
    "        # single word name\n",
    "        return pd.Series([this_name_list[0],None, this_name_list[0]])\n",
    "    \n",
    "    elif len(this_name_list) > 1:\n",
    "        # multi word name\n",
    "        return pd.Series([this_name_list[0],' '.join(this_name_list[1:-1]),this_name_list[-1]])"
   ]
  },
  {
   "cell_type": "code",
   "execution_count": 46,
   "metadata": {
    "execution": {
     "iopub.execute_input": "2021-01-21T07:14:26.701289Z",
     "iopub.status.busy": "2021-01-21T07:14:26.700627Z",
     "iopub.status.idle": "2021-01-21T07:14:26.703878Z",
     "shell.execute_reply": "2021-01-21T07:14:26.704301Z"
    },
    "papermill": {
     "duration": 0.076713,
     "end_time": "2021-01-21T07:14:26.704470",
     "exception": false,
     "start_time": "2021-01-21T07:14:26.627757",
     "status": "completed"
    },
    "tags": []
   },
   "outputs": [
    {
     "data": {
      "text/html": [
       "<div>\n",
       "<style scoped>\n",
       "    .dataframe tbody tr th:only-of-type {\n",
       "        vertical-align: middle;\n",
       "    }\n",
       "\n",
       "    .dataframe tbody tr th {\n",
       "        vertical-align: top;\n",
       "    }\n",
       "\n",
       "    .dataframe thead th {\n",
       "        text-align: right;\n",
       "    }\n",
       "</style>\n",
       "<table border=\"1\" class=\"dataframe\">\n",
       "  <thead>\n",
       "    <tr style=\"text-align: right;\">\n",
       "      <th></th>\n",
       "      <th>Salesforce_org_ID</th>\n",
       "      <th>id</th>\n",
       "      <th>name</th>\n",
       "      <th>username</th>\n",
       "      <th>block</th>\n",
       "      <th>email</th>\n",
       "      <th>sendEmail</th>\n",
       "      <th>registerDate</th>\n",
       "      <th>lastvisitDate</th>\n",
       "      <th>orgtype</th>\n",
       "      <th>organization</th>\n",
       "      <th>orcid</th>\n",
       "      <th>email_host</th>\n",
       "      <th>org_cleaned_set</th>\n",
       "      <th>org_cleaned_hash</th>\n",
       "      <th>is_email_commercial</th>\n",
       "      <th>domain_by_email</th>\n",
       "      <th>domain_by_profile</th>\n",
       "      <th>domain_by_profile_infer</th>\n",
       "      <th>domain_final</th>\n",
       "    </tr>\n",
       "  </thead>\n",
       "  <tbody>\n",
       "    <tr>\n",
       "      <th>0</th>\n",
       "      <td>a0r5w00000V42c0AAB</td>\n",
       "      <td>278735</td>\n",
       "      <td>Foley, Emmet T</td>\n",
       "      <td>emmetf</td>\n",
       "      <td>0</td>\n",
       "      <td>emmet@upenn.edu</td>\n",
       "      <td>0</td>\n",
       "      <td>2020-02-17 21:04:05</td>\n",
       "      <td>2020-02-17 21:04:05</td>\n",
       "      <td>universityundergraduate</td>\n",
       "      <td></td>\n",
       "      <td></td>\n",
       "      <td>upenn.edu</td>\n",
       "      <td>{}</td>\n",
       "      <td>None</td>\n",
       "      <td>False</td>\n",
       "      <td>upenn.edu</td>\n",
       "      <td>NaN</td>\n",
       "      <td>NaN</td>\n",
       "      <td>upenn.edu</td>\n",
       "    </tr>\n",
       "  </tbody>\n",
       "</table>\n",
       "</div>"
      ],
      "text/plain": [
       "    Salesforce_org_ID      id            name username  block  \\\n",
       "0  a0r5w00000V42c0AAB  278735  Foley, Emmet T   emmetf      0   \n",
       "\n",
       "             email  sendEmail        registerDate        lastvisitDate  \\\n",
       "0  emmet@upenn.edu          0 2020-02-17 21:04:05  2020-02-17 21:04:05   \n",
       "\n",
       "                   orgtype organization orcid email_host org_cleaned_set  \\\n",
       "0  universityundergraduate                     upenn.edu              {}   \n",
       "\n",
       "  org_cleaned_hash  is_email_commercial domain_by_email domain_by_profile  \\\n",
       "0             None                False       upenn.edu               NaN   \n",
       "\n",
       "  domain_by_profile_infer domain_final  \n",
       "0                     NaN    upenn.edu  "
      ]
     },
     "metadata": {},
     "output_type": "display_data"
    }
   ],
   "source": [
    "## stop here\n",
    "display(df.head(1))"
   ]
  },
  {
   "cell_type": "code",
   "execution_count": 47,
   "metadata": {
    "execution": {
     "iopub.execute_input": "2021-01-21T07:14:26.834008Z",
     "iopub.status.busy": "2021-01-21T07:14:26.833413Z",
     "iopub.status.idle": "2021-01-21T07:14:27.978642Z",
     "shell.execute_reply": "2021-01-21T07:14:27.979208Z"
    },
    "papermill": {
     "duration": 1.222147,
     "end_time": "2021-01-21T07:14:27.979370",
     "exception": false,
     "start_time": "2021-01-21T07:14:26.757223",
     "status": "completed"
    },
    "tags": []
   },
   "outputs": [
    {
     "data": {
      "text/html": [
       "<div>\n",
       "<style scoped>\n",
       "    .dataframe tbody tr th:only-of-type {\n",
       "        vertical-align: middle;\n",
       "    }\n",
       "\n",
       "    .dataframe tbody tr th {\n",
       "        vertical-align: top;\n",
       "    }\n",
       "\n",
       "    .dataframe thead th {\n",
       "        text-align: right;\n",
       "    }\n",
       "</style>\n",
       "<table border=\"1\" class=\"dataframe\">\n",
       "  <thead>\n",
       "    <tr style=\"text-align: right;\">\n",
       "      <th></th>\n",
       "      <th>Salesforce_org_ID</th>\n",
       "      <th>id</th>\n",
       "      <th>name</th>\n",
       "      <th>username</th>\n",
       "      <th>block</th>\n",
       "      <th>email</th>\n",
       "      <th>sendEmail</th>\n",
       "      <th>registerDate</th>\n",
       "      <th>lastvisitDate</th>\n",
       "      <th>orgtype</th>\n",
       "      <th>organization</th>\n",
       "      <th>orcid</th>\n",
       "      <th>email_host</th>\n",
       "      <th>org_cleaned_set</th>\n",
       "      <th>org_cleaned_hash</th>\n",
       "      <th>is_email_commercial</th>\n",
       "      <th>domain_by_email</th>\n",
       "      <th>domain_by_profile</th>\n",
       "      <th>domain_by_profile_infer</th>\n",
       "      <th>domain_final</th>\n",
       "    </tr>\n",
       "  </thead>\n",
       "  <tbody>\n",
       "    <tr>\n",
       "      <th>0</th>\n",
       "      <td>a0r5w00000V42c0AAB</td>\n",
       "      <td>278735</td>\n",
       "      <td>Foley, Emmet T</td>\n",
       "      <td>emmetf</td>\n",
       "      <td>0</td>\n",
       "      <td>emmet@upenn.edu</td>\n",
       "      <td>0</td>\n",
       "      <td>2020-02-17 21:04:05</td>\n",
       "      <td>2020-02-17 21:04:05</td>\n",
       "      <td>universityundergraduate</td>\n",
       "      <td></td>\n",
       "      <td></td>\n",
       "      <td>upenn.edu</td>\n",
       "      <td>{}</td>\n",
       "      <td>None</td>\n",
       "      <td>False</td>\n",
       "      <td>upenn.edu</td>\n",
       "      <td>NaN</td>\n",
       "      <td>NaN</td>\n",
       "      <td>upenn.edu</td>\n",
       "    </tr>\n",
       "    <tr>\n",
       "      <th>1</th>\n",
       "      <td>a0r5w00000V42c0AAB</td>\n",
       "      <td>279901</td>\n",
       "      <td>Tong, Yijun</td>\n",
       "      <td>yijunt</td>\n",
       "      <td>0</td>\n",
       "      <td>yijunt@upenn.edu</td>\n",
       "      <td>0</td>\n",
       "      <td>2020-03-04 01:07:38</td>\n",
       "      <td>2020-05-28 01:08:28</td>\n",
       "      <td>universitygraduate</td>\n",
       "      <td></td>\n",
       "      <td></td>\n",
       "      <td>upenn.edu</td>\n",
       "      <td>{}</td>\n",
       "      <td>None</td>\n",
       "      <td>False</td>\n",
       "      <td>upenn.edu</td>\n",
       "      <td>NaN</td>\n",
       "      <td>NaN</td>\n",
       "      <td>upenn.edu</td>\n",
       "    </tr>\n",
       "  </tbody>\n",
       "</table>\n",
       "</div>"
      ],
      "text/plain": [
       "    Salesforce_org_ID      id            name username  block  \\\n",
       "0  a0r5w00000V42c0AAB  278735  Foley, Emmet T   emmetf      0   \n",
       "1  a0r5w00000V42c0AAB  279901     Tong, Yijun   yijunt      0   \n",
       "\n",
       "              email  sendEmail        registerDate        lastvisitDate  \\\n",
       "0   emmet@upenn.edu          0 2020-02-17 21:04:05  2020-02-17 21:04:05   \n",
       "1  yijunt@upenn.edu          0 2020-03-04 01:07:38  2020-05-28 01:08:28   \n",
       "\n",
       "                   orgtype organization orcid email_host org_cleaned_set  \\\n",
       "0  universityundergraduate                     upenn.edu              {}   \n",
       "1       universitygraduate                     upenn.edu              {}   \n",
       "\n",
       "  org_cleaned_hash  is_email_commercial domain_by_email domain_by_profile  \\\n",
       "0             None                False       upenn.edu               NaN   \n",
       "1             None                False       upenn.edu               NaN   \n",
       "\n",
       "  domain_by_profile_infer domain_final  \n",
       "0                     NaN    upenn.edu  \n",
       "1                     NaN    upenn.edu  "
      ]
     },
     "metadata": {},
     "output_type": "display_data"
    }
   ],
   "source": [
    "## if last visit date is empty - set it equal to the register date\n",
    "lvd = df.lastvisitDate.index[df.lastvisitDate == '   '].tolist()\n",
    "\n",
    "for i in lvd:\n",
    "    df.iloc[i,8] = df.iloc[i,7]\n",
    "\n",
    "display(df.head(2))"
   ]
  },
  {
   "cell_type": "code",
   "execution_count": 48,
   "metadata": {
    "execution": {
     "iopub.execute_input": "2021-01-21T07:14:28.119935Z",
     "iopub.status.busy": "2021-01-21T07:14:28.119343Z",
     "iopub.status.idle": "2021-01-21T07:14:36.080989Z",
     "shell.execute_reply": "2021-01-21T07:14:36.080356Z"
    },
    "papermill": {
     "duration": 8.051692,
     "end_time": "2021-01-21T07:14:36.081120",
     "exception": false,
     "start_time": "2021-01-21T07:14:28.029428",
     "status": "completed"
    },
    "tags": []
   },
   "outputs": [
    {
     "data": {
      "text/html": [
       "<div>\n",
       "<style scoped>\n",
       "    .dataframe tbody tr th:only-of-type {\n",
       "        vertical-align: middle;\n",
       "    }\n",
       "\n",
       "    .dataframe tbody tr th {\n",
       "        vertical-align: top;\n",
       "    }\n",
       "\n",
       "    .dataframe thead th {\n",
       "        text-align: right;\n",
       "    }\n",
       "</style>\n",
       "<table border=\"1\" class=\"dataframe\">\n",
       "  <thead>\n",
       "    <tr style=\"text-align: right;\">\n",
       "      <th></th>\n",
       "      <th>0</th>\n",
       "      <th>1</th>\n",
       "    </tr>\n",
       "  </thead>\n",
       "  <tbody>\n",
       "    <tr>\n",
       "      <th>firstname</th>\n",
       "      <td>Foley,</td>\n",
       "      <td>Tong,</td>\n",
       "    </tr>\n",
       "    <tr>\n",
       "      <th>Middle_name__c</th>\n",
       "      <td>Emmet</td>\n",
       "      <td></td>\n",
       "    </tr>\n",
       "    <tr>\n",
       "      <th>lastname</th>\n",
       "      <td>T</td>\n",
       "      <td>Yijun</td>\n",
       "    </tr>\n",
       "    <tr>\n",
       "      <th>nanoHUB_user_ID__c</th>\n",
       "      <td>278735</td>\n",
       "      <td>279901</td>\n",
       "    </tr>\n",
       "    <tr>\n",
       "      <th>nanoHUB_username__c</th>\n",
       "      <td>emmetf</td>\n",
       "      <td>yijunt</td>\n",
       "    </tr>\n",
       "    <tr>\n",
       "      <th>Email</th>\n",
       "      <td>emmet@upenn.edu</td>\n",
       "      <td>yijunt@upenn.edu</td>\n",
       "    </tr>\n",
       "    <tr>\n",
       "      <th>HasOptedOutOfEmail</th>\n",
       "      <td>1</td>\n",
       "      <td>1</td>\n",
       "    </tr>\n",
       "    <tr>\n",
       "      <th>nanoHUB_account_BLOCKED__c</th>\n",
       "      <td>0</td>\n",
       "      <td>0</td>\n",
       "    </tr>\n",
       "    <tr>\n",
       "      <th>nanoHUB_registration_date__c</th>\n",
       "      <td>2020-02-17</td>\n",
       "      <td>2020-03-04</td>\n",
       "    </tr>\n",
       "    <tr>\n",
       "      <th>nanoHUB_last_active_date__c</th>\n",
       "      <td>2020-02-17</td>\n",
       "      <td>2020-05-28</td>\n",
       "    </tr>\n",
       "    <tr>\n",
       "      <th>Detailed_user_timeline_to_Tableau__c</th>\n",
       "      <td>https://tableauqa.itap.purdue.edu/views/profil...</td>\n",
       "      <td>https://tableauqa.itap.purdue.edu/views/profil...</td>\n",
       "    </tr>\n",
       "    <tr>\n",
       "      <th>nanoHUB_user_page__c</th>\n",
       "      <td>https://nanohub.org/members/278735</td>\n",
       "      <td>https://nanohub.org/members/279901</td>\n",
       "    </tr>\n",
       "    <tr>\n",
       "      <th>ORCID__c</th>\n",
       "      <td></td>\n",
       "      <td></td>\n",
       "    </tr>\n",
       "    <tr>\n",
       "      <th>Organization__c</th>\n",
       "      <td></td>\n",
       "      <td></td>\n",
       "    </tr>\n",
       "    <tr>\n",
       "      <th>Organization_email_derived__c</th>\n",
       "      <td>a0r5w00000V42c0AAB</td>\n",
       "      <td>a0r5w00000V42c0AAB</td>\n",
       "    </tr>\n",
       "    <tr>\n",
       "      <th>Organization_composite__c</th>\n",
       "      <td>a0r5w00000V42c0AAB</td>\n",
       "      <td>a0r5w00000V42c0AAB</td>\n",
       "    </tr>\n",
       "  </tbody>\n",
       "</table>\n",
       "</div>"
      ],
      "text/plain": [
       "                                                                                      0  \\\n",
       "firstname                                                                        Foley,   \n",
       "Middle_name__c                                                                    Emmet   \n",
       "lastname                                                                              T   \n",
       "nanoHUB_user_ID__c                                                               278735   \n",
       "nanoHUB_username__c                                                              emmetf   \n",
       "Email                                                                   emmet@upenn.edu   \n",
       "HasOptedOutOfEmail                                                                    1   \n",
       "nanoHUB_account_BLOCKED__c                                                            0   \n",
       "nanoHUB_registration_date__c                                                 2020-02-17   \n",
       "nanoHUB_last_active_date__c                                                  2020-02-17   \n",
       "Detailed_user_timeline_to_Tableau__c  https://tableauqa.itap.purdue.edu/views/profil...   \n",
       "nanoHUB_user_page__c                                 https://nanohub.org/members/278735   \n",
       "ORCID__c                                                                                  \n",
       "Organization__c                                                                           \n",
       "Organization_email_derived__c                                        a0r5w00000V42c0AAB   \n",
       "Organization_composite__c                                            a0r5w00000V42c0AAB   \n",
       "\n",
       "                                                                                      1  \n",
       "firstname                                                                         Tong,  \n",
       "Middle_name__c                                                                           \n",
       "lastname                                                                          Yijun  \n",
       "nanoHUB_user_ID__c                                                               279901  \n",
       "nanoHUB_username__c                                                              yijunt  \n",
       "Email                                                                  yijunt@upenn.edu  \n",
       "HasOptedOutOfEmail                                                                    1  \n",
       "nanoHUB_account_BLOCKED__c                                                            0  \n",
       "nanoHUB_registration_date__c                                                 2020-03-04  \n",
       "nanoHUB_last_active_date__c                                                  2020-05-28  \n",
       "Detailed_user_timeline_to_Tableau__c  https://tableauqa.itap.purdue.edu/views/profil...  \n",
       "nanoHUB_user_page__c                                 https://nanohub.org/members/279901  \n",
       "ORCID__c                                                                                 \n",
       "Organization__c                                                                          \n",
       "Organization_email_derived__c                                        a0r5w00000V42c0AAB  \n",
       "Organization_composite__c                                            a0r5w00000V42c0AAB  "
      ]
     },
     "execution_count": 48,
     "metadata": {},
     "output_type": "execute_result"
    }
   ],
   "source": [
    "df_sf = pd.DataFrame()\n",
    "\n",
    "# Make sure NaN and NaT values are taken care of here\n",
    "df_sf[['firstname', 'Middle_name__c', 'lastname']] = df['name'].apply(split_full_name)\n",
    "\n",
    "df_sf['nanoHUB_user_ID__c']            = df['id']\n",
    "df_sf['nanoHUB_username__c']           = df['username']\n",
    "df_sf['Email']                         = df['email'].fillna('').apply(lambda x: '' if '@invalid' in x else x)\n",
    "\n",
    "# for sendEmail: 0 = opt-out, 1 = receive email. For salesforce HasOptedOutOfEmail, it's exact opposite\n",
    "df_sf['HasOptedOutOfEmail']            = df['sendEmail'].apply(lambda x: 0 if x==1 else 1)\n",
    "df_sf['nanoHUB_account_BLOCKED__c']    = df['block'].fillna(0)\n",
    "\n",
    "# solidify time-related columns from datetime to string\n",
    "df_sf['nanoHUB_registration_date__c']  = df['registerDate'].dt.date.fillna('').astype('str')\n",
    "df_sf['nanoHUB_last_active_date__c']   = df['lastvisitDate'].dt.date.fillna('').astype('str')\n",
    "\n",
    "# Tableau detailed view\n",
    "df_sf['Detailed_user_timeline_to_Tableau__c'] = df_sf['Email'].apply(lambda x: 'https://tableauqa.itap.purdue.edu/views/profile/ProfileTimeline?Id%20Email='+x+'\\\n",
    "&:iframeSizedToWindow=true&:embed=y&:showAppBanner=false\\\n",
    "&:display_count=no&:showVizHome=no#6' if x != '' else '')\n",
    "\n",
    "# nanoHUB user profile\n",
    "df_sf['nanoHUB_user_page__c'] = df_sf['nanoHUB_user_ID__c'].apply(lambda x: 'https://nanohub.org/members/%d'%x if x != '' else '')\n",
    "\n",
    "df_sf['ORCID__c'] = df['orcid'].fillna('')\n",
    "df_sf['Organization__c'] = df['organization'].fillna('')\n",
    "\n",
    "# derived information\n",
    "df_sf['Organization_email_derived__c'] = df['Salesforce_org_ID']\n",
    "df_sf['Organization_composite__c'] = df['Salesforce_org_ID']\n",
    "\n",
    "sf_original_fields = df_sf.columns\n",
    "\n",
    "# display\n",
    "df_sf.head(2).T"
   ]
  },
  {
   "cell_type": "code",
   "execution_count": 49,
   "metadata": {
    "execution": {
     "iopub.execute_input": "2021-01-21T07:14:36.204940Z",
     "iopub.status.busy": "2021-01-21T07:14:36.185023Z",
     "iopub.status.idle": "2021-01-21T07:14:36.305721Z",
     "shell.execute_reply": "2021-01-21T07:14:36.306125Z"
    },
    "papermill": {
     "duration": 0.175432,
     "end_time": "2021-01-21T07:14:36.306306",
     "exception": false,
     "start_time": "2021-01-21T07:14:36.130874",
     "status": "completed"
    },
    "tags": []
   },
   "outputs": [],
   "source": [
    "## filtering out accounts that have positive block attributes\n",
    "spam_rows = df_sf[df_sf['nanoHUB_account_BLOCKED__c'].astype(str).str.contains(\"1\")]\n",
    "good_rows = df_sf[~df_sf['nanoHUB_account_BLOCKED__c'].astype(str).str.contains('1')]"
   ]
  },
  {
   "cell_type": "markdown",
   "metadata": {
    "papermill": {
     "duration": 0.051798,
     "end_time": "2021-01-21T07:14:36.408497",
     "exception": false,
     "start_time": "2021-01-21T07:14:36.356699",
     "status": "completed"
    },
    "tags": []
   },
   "source": [
    "## To Salesforce Sales Cloud CRM"
   ]
  },
  {
   "cell_type": "code",
   "execution_count": 50,
   "metadata": {
    "execution": {
     "iopub.execute_input": "2021-01-21T07:14:36.514674Z",
     "iopub.status.busy": "2021-01-21T07:14:36.514136Z",
     "iopub.status.idle": "2021-01-21T07:14:36.916160Z",
     "shell.execute_reply": "2021-01-21T07:14:36.916778Z"
    },
    "papermill": {
     "duration": 0.458224,
     "end_time": "2021-01-21T07:14:36.916948",
     "exception": false,
     "start_time": "2021-01-21T07:14:36.458724",
     "status": "completed"
    },
    "tags": []
   },
   "outputs": [
    {
     "name": "stdout",
     "output_type": "stream",
     "text": [
      "Obtained Salesforce access token ...... True\n"
     ]
    }
   ],
   "source": [
    "\n",
    "# create DB2 to Salesforce API object\n",
    "db_s = salesforce\n",
    "\n",
    "db_s.object_id = object_id\n",
    "db_s.external_id = external_id"
   ]
  },
  {
   "cell_type": "code",
   "execution_count": 51,
   "metadata": {
    "execution": {
     "iopub.execute_input": "2021-01-21T07:14:37.039138Z",
     "iopub.status.busy": "2021-01-21T07:14:37.038582Z",
     "iopub.status.idle": "2021-01-21T07:14:37.054930Z",
     "shell.execute_reply": "2021-01-21T07:14:37.055460Z"
    },
    "papermill": {
     "duration": 0.086417,
     "end_time": "2021-01-21T07:14:37.055624",
     "exception": false,
     "start_time": "2021-01-21T07:14:36.969207",
     "status": "completed"
    },
    "tags": []
   },
   "outputs": [
    {
     "data": {
      "text/html": [
       "<div>\n",
       "<style scoped>\n",
       "    .dataframe tbody tr th:only-of-type {\n",
       "        vertical-align: middle;\n",
       "    }\n",
       "\n",
       "    .dataframe tbody tr th {\n",
       "        vertical-align: top;\n",
       "    }\n",
       "\n",
       "    .dataframe thead th {\n",
       "        text-align: right;\n",
       "    }\n",
       "</style>\n",
       "<table border=\"1\" class=\"dataframe\">\n",
       "  <thead>\n",
       "    <tr style=\"text-align: right;\">\n",
       "      <th></th>\n",
       "      <th>firstname</th>\n",
       "      <th>Middle_name__c</th>\n",
       "      <th>lastname</th>\n",
       "      <th>nanoHUB_user_ID__c</th>\n",
       "      <th>nanoHUB_username__c</th>\n",
       "      <th>Email</th>\n",
       "      <th>HasOptedOutOfEmail</th>\n",
       "      <th>nanoHUB_account_BLOCKED__c</th>\n",
       "      <th>nanoHUB_registration_date__c</th>\n",
       "      <th>nanoHUB_last_active_date__c</th>\n",
       "      <th>Detailed_user_timeline_to_Tableau__c</th>\n",
       "      <th>nanoHUB_user_page__c</th>\n",
       "      <th>ORCID__c</th>\n",
       "      <th>Organization__c</th>\n",
       "      <th>Organization_email_derived__c</th>\n",
       "      <th>Organization_composite__c</th>\n",
       "    </tr>\n",
       "  </thead>\n",
       "  <tbody>\n",
       "    <tr>\n",
       "      <th>636</th>\n",
       "      <td>Mark</td>\n",
       "      <td></td>\n",
       "      <td>Calaway</td>\n",
       "      <td>283456</td>\n",
       "      <td>markcalaway4</td>\n",
       "      <td>2r1st141@gmail.com</td>\n",
       "      <td>1</td>\n",
       "      <td>1</td>\n",
       "      <td>2020-04-07</td>\n",
       "      <td>2020-04-07</td>\n",
       "      <td>https://tableauqa.itap.purdue.edu/views/profil...</td>\n",
       "      <td>https://nanohub.org/members/283456</td>\n",
       "      <td></td>\n",
       "      <td>purdue university</td>\n",
       "      <td>a0r5w00000V42cCAAR</td>\n",
       "      <td>a0r5w00000V42cCAAR</td>\n",
       "    </tr>\n",
       "    <tr>\n",
       "      <th>948</th>\n",
       "      <td>John</td>\n",
       "      <td></td>\n",
       "      <td>Neesham</td>\n",
       "      <td>295831</td>\n",
       "      <td>neeshamvm</td>\n",
       "      <td>johnneeshamvm@gmail.com</td>\n",
       "      <td>0</td>\n",
       "      <td>1</td>\n",
       "      <td>2020-08-03</td>\n",
       "      <td>2020-08-03</td>\n",
       "      <td>https://tableauqa.itap.purdue.edu/views/profil...</td>\n",
       "      <td>https://nanohub.org/members/295831</td>\n",
       "      <td></td>\n",
       "      <td>purdue university</td>\n",
       "      <td>a0r5w00000V42cCAAR</td>\n",
       "      <td>a0r5w00000V42cCAAR</td>\n",
       "    </tr>\n",
       "  </tbody>\n",
       "</table>\n",
       "</div>"
      ],
      "text/plain": [
       "    firstname Middle_name__c lastname  nanoHUB_user_ID__c nanoHUB_username__c  \\\n",
       "636      Mark                 Calaway              283456        markcalaway4   \n",
       "948      John                 Neesham              295831           neeshamvm   \n",
       "\n",
       "                       Email  HasOptedOutOfEmail  nanoHUB_account_BLOCKED__c  \\\n",
       "636       2r1st141@gmail.com                   1                           1   \n",
       "948  johnneeshamvm@gmail.com                   0                           1   \n",
       "\n",
       "    nanoHUB_registration_date__c nanoHUB_last_active_date__c  \\\n",
       "636                   2020-04-07                  2020-04-07   \n",
       "948                   2020-08-03                  2020-08-03   \n",
       "\n",
       "                  Detailed_user_timeline_to_Tableau__c  \\\n",
       "636  https://tableauqa.itap.purdue.edu/views/profil...   \n",
       "948  https://tableauqa.itap.purdue.edu/views/profil...   \n",
       "\n",
       "                   nanoHUB_user_page__c ORCID__c    Organization__c  \\\n",
       "636  https://nanohub.org/members/283456           purdue university   \n",
       "948  https://nanohub.org/members/295831           purdue university   \n",
       "\n",
       "    Organization_email_derived__c Organization_composite__c  \n",
       "636            a0r5w00000V42cCAAR        a0r5w00000V42cCAAR  \n",
       "948            a0r5w00000V42cCAAR        a0r5w00000V42cCAAR  "
      ]
     },
     "metadata": {},
     "output_type": "display_data"
    },
    {
     "data": {
      "text/html": [
       "<div>\n",
       "<style scoped>\n",
       "    .dataframe tbody tr th:only-of-type {\n",
       "        vertical-align: middle;\n",
       "    }\n",
       "\n",
       "    .dataframe tbody tr th {\n",
       "        vertical-align: top;\n",
       "    }\n",
       "\n",
       "    .dataframe thead th {\n",
       "        text-align: right;\n",
       "    }\n",
       "</style>\n",
       "<table border=\"1\" class=\"dataframe\">\n",
       "  <thead>\n",
       "    <tr style=\"text-align: right;\">\n",
       "      <th></th>\n",
       "      <th>firstname</th>\n",
       "      <th>Middle_name__c</th>\n",
       "      <th>lastname</th>\n",
       "      <th>nanoHUB_user_ID__c</th>\n",
       "      <th>nanoHUB_username__c</th>\n",
       "      <th>Email</th>\n",
       "      <th>HasOptedOutOfEmail</th>\n",
       "      <th>nanoHUB_account_BLOCKED__c</th>\n",
       "      <th>nanoHUB_registration_date__c</th>\n",
       "      <th>nanoHUB_last_active_date__c</th>\n",
       "      <th>Detailed_user_timeline_to_Tableau__c</th>\n",
       "      <th>nanoHUB_user_page__c</th>\n",
       "      <th>ORCID__c</th>\n",
       "      <th>Organization__c</th>\n",
       "      <th>Organization_email_derived__c</th>\n",
       "      <th>Organization_composite__c</th>\n",
       "    </tr>\n",
       "  </thead>\n",
       "  <tbody>\n",
       "    <tr>\n",
       "      <th>31164</th>\n",
       "      <td>Sai</td>\n",
       "      <td>Saran</td>\n",
       "      <td>Dammavalam</td>\n",
       "      <td>313423</td>\n",
       "      <td>saran3072.d</td>\n",
       "      <td>saran3072.d@gmail.com</td>\n",
       "      <td>1</td>\n",
       "      <td>0</td>\n",
       "      <td>2021-01-21</td>\n",
       "      <td>2021-01-21</td>\n",
       "      <td>https://tableauqa.itap.purdue.edu/views/profil...</td>\n",
       "      <td>https://nanohub.org/members/313423</td>\n",
       "      <td></td>\n",
       "      <td></td>\n",
       "      <td>NaN</td>\n",
       "      <td>NaN</td>\n",
       "    </tr>\n",
       "    <tr>\n",
       "      <th>31165</th>\n",
       "      <td>reem</td>\n",
       "      <td>hadaj</td>\n",
       "      <td>ALqarni</td>\n",
       "      <td>313424</td>\n",
       "      <td>reemo</td>\n",
       "      <td>alqarni.reem@hotmail.com</td>\n",
       "      <td>1</td>\n",
       "      <td>0</td>\n",
       "      <td>2021-01-21</td>\n",
       "      <td>2021-01-21</td>\n",
       "      <td>https://tableauqa.itap.purdue.edu/views/profil...</td>\n",
       "      <td>https://nanohub.org/members/313424</td>\n",
       "      <td></td>\n",
       "      <td></td>\n",
       "      <td>NaN</td>\n",
       "      <td>NaN</td>\n",
       "    </tr>\n",
       "  </tbody>\n",
       "</table>\n",
       "</div>"
      ],
      "text/plain": [
       "      firstname Middle_name__c    lastname  nanoHUB_user_ID__c  \\\n",
       "31164       Sai          Saran  Dammavalam              313423   \n",
       "31165      reem          hadaj     ALqarni              313424   \n",
       "\n",
       "      nanoHUB_username__c                     Email  HasOptedOutOfEmail  \\\n",
       "31164         saran3072.d     saran3072.d@gmail.com                   1   \n",
       "31165               reemo  alqarni.reem@hotmail.com                   1   \n",
       "\n",
       "       nanoHUB_account_BLOCKED__c nanoHUB_registration_date__c  \\\n",
       "31164                           0                   2021-01-21   \n",
       "31165                           0                   2021-01-21   \n",
       "\n",
       "      nanoHUB_last_active_date__c  \\\n",
       "31164                  2021-01-21   \n",
       "31165                  2021-01-21   \n",
       "\n",
       "                    Detailed_user_timeline_to_Tableau__c  \\\n",
       "31164  https://tableauqa.itap.purdue.edu/views/profil...   \n",
       "31165  https://tableauqa.itap.purdue.edu/views/profil...   \n",
       "\n",
       "                     nanoHUB_user_page__c ORCID__c Organization__c  \\\n",
       "31164  https://nanohub.org/members/313423                            \n",
       "31165  https://nanohub.org/members/313424                            \n",
       "\n",
       "      Organization_email_derived__c Organization_composite__c  \n",
       "31164                           NaN                       NaN  \n",
       "31165                           NaN                       NaN  "
      ]
     },
     "metadata": {},
     "output_type": "display_data"
    }
   ],
   "source": [
    "display(spam_rows.head(2))\n",
    "display(good_rows.tail(2))"
   ]
  },
  {
   "cell_type": "code",
   "execution_count": 52,
   "metadata": {
    "execution": {
     "iopub.execute_input": "2021-01-21T07:14:37.166392Z",
     "iopub.status.busy": "2021-01-21T07:14:37.165754Z",
     "iopub.status.idle": "2021-01-21T07:14:39.178239Z",
     "shell.execute_reply": "2021-01-21T07:14:39.177405Z"
    },
    "papermill": {
     "duration": 2.069343,
     "end_time": "2021-01-21T07:14:39.178411",
     "exception": false,
     "start_time": "2021-01-21T07:14:37.109068",
     "status": "completed"
    },
    "tags": []
   },
   "outputs": [
    {
     "name": "stdout",
     "output_type": "stream",
     "text": [
      "[Success] Bulk job creation successful. Job ID = 7505w00000TmJX7AAN\n",
      "hello\n",
      "[Success] CSV upload successful. Job ID = 7505w00000TmJX7AAN\n",
      "[Success] Closing job successful. Job ID = 7505w00000TmJX7AAN\n"
     ]
    }
   ],
   "source": [
    "# send data to Salesforce\n",
    "db_s.send_data(good_rows)"
   ]
  },
  {
   "cell_type": "code",
   "execution_count": 53,
   "metadata": {
    "execution": {
     "iopub.execute_input": "2021-01-21T07:14:39.318547Z",
     "iopub.status.busy": "2021-01-21T07:14:39.317926Z",
     "iopub.status.idle": "2021-01-21T07:14:39.694600Z",
     "shell.execute_reply": "2021-01-21T07:14:39.693944Z"
    },
    "papermill": {
     "duration": 0.44412,
     "end_time": "2021-01-21T07:14:39.694726",
     "exception": false,
     "start_time": "2021-01-21T07:14:39.250606",
     "status": "completed"
    },
    "tags": []
   },
   "outputs": [
    {
     "data": {
      "text/plain": [
       "{'id': '7505w00000TmJX7AAN',\n",
       " 'operation': 'upsert',\n",
       " 'object': 'Contact',\n",
       " 'createdById': '0055w00000DM5bOAAT',\n",
       " 'createdDate': '2021-01-21T07:14:37.000+0000',\n",
       " 'systemModstamp': '2021-01-21T07:14:39.000+0000',\n",
       " 'state': 'InProgress',\n",
       " 'externalIdFieldName': 'nanoHUB_user_ID__c',\n",
       " 'concurrencyMode': 'Parallel',\n",
       " 'contentType': 'CSV',\n",
       " 'apiVersion': 47.0,\n",
       " 'jobType': 'V2Ingest',\n",
       " 'lineEnding': 'LF',\n",
       " 'columnDelimiter': 'COMMA',\n",
       " 'numberRecordsProcessed': 0,\n",
       " 'numberRecordsFailed': 0,\n",
       " 'retries': 0,\n",
       " 'totalProcessingTime': 0,\n",
       " 'apiActiveProcessingTime': 0,\n",
       " 'apexProcessingTime': 0}"
      ]
     },
     "execution_count": 53,
     "metadata": {},
     "output_type": "execute_result"
    }
   ],
   "source": [
    "# check status\n",
    "db_s.check_bulk_status()"
   ]
  },
  {
   "cell_type": "code",
   "execution_count": 54,
   "metadata": {
    "execution": {
     "iopub.execute_input": "2021-01-21T07:14:39.824076Z",
     "iopub.status.busy": "2021-01-21T07:14:39.823510Z",
     "iopub.status.idle": "2021-01-21T07:14:39.987482Z",
     "shell.execute_reply": "2021-01-21T07:14:39.986834Z"
    },
    "papermill": {
     "duration": 0.23841,
     "end_time": "2021-01-21T07:14:39.987613",
     "exception": false,
     "start_time": "2021-01-21T07:14:39.749203",
     "status": "completed"
    },
    "tags": []
   },
   "outputs": [
    {
     "name": "stdout",
     "output_type": "stream",
     "text": [
      "''\n"
     ]
    }
   ],
   "source": [
    "# check status\n",
    "from pprint import pprint\n",
    "\n",
    "pprint(db_s.check_bulk_failed_results())"
   ]
  },
  {
   "cell_type": "code",
   "execution_count": 55,
   "metadata": {
    "execution": {
     "iopub.execute_input": "2021-01-21T07:14:40.119340Z",
     "iopub.status.busy": "2021-01-21T07:14:40.118672Z",
     "iopub.status.idle": "2021-01-21T07:14:40.122922Z",
     "shell.execute_reply": "2021-01-21T07:14:40.123735Z"
    },
    "papermill": {
     "duration": 0.08234,
     "end_time": "2021-01-21T07:14:40.123986",
     "exception": false,
     "start_time": "2021-01-21T07:14:40.041646",
     "status": "completed"
    },
    "tags": []
   },
   "outputs": [
    {
     "data": {
      "text/html": [
       "<div>\n",
       "<style scoped>\n",
       "    .dataframe tbody tr th:only-of-type {\n",
       "        vertical-align: middle;\n",
       "    }\n",
       "\n",
       "    .dataframe tbody tr th {\n",
       "        vertical-align: top;\n",
       "    }\n",
       "\n",
       "    .dataframe thead th {\n",
       "        text-align: right;\n",
       "    }\n",
       "</style>\n",
       "<table border=\"1\" class=\"dataframe\">\n",
       "  <thead>\n",
       "    <tr style=\"text-align: right;\">\n",
       "      <th></th>\n",
       "      <th>firstname</th>\n",
       "      <th>Middle_name__c</th>\n",
       "      <th>lastname</th>\n",
       "      <th>nanoHUB_user_ID__c</th>\n",
       "      <th>nanoHUB_username__c</th>\n",
       "      <th>Email</th>\n",
       "      <th>HasOptedOutOfEmail</th>\n",
       "      <th>nanoHUB_account_BLOCKED__c</th>\n",
       "      <th>nanoHUB_registration_date__c</th>\n",
       "      <th>nanoHUB_last_active_date__c</th>\n",
       "      <th>Detailed_user_timeline_to_Tableau__c</th>\n",
       "      <th>nanoHUB_user_page__c</th>\n",
       "      <th>ORCID__c</th>\n",
       "      <th>Organization__c</th>\n",
       "      <th>Organization_email_derived__c</th>\n",
       "      <th>Organization_composite__c</th>\n",
       "    </tr>\n",
       "  </thead>\n",
       "  <tbody>\n",
       "    <tr>\n",
       "      <th>31164</th>\n",
       "      <td>Sai</td>\n",
       "      <td>Saran</td>\n",
       "      <td>Dammavalam</td>\n",
       "      <td>313423</td>\n",
       "      <td>saran3072.d</td>\n",
       "      <td>saran3072.d@gmail.com</td>\n",
       "      <td>1</td>\n",
       "      <td>0</td>\n",
       "      <td>2021-01-21</td>\n",
       "      <td>2021-01-21</td>\n",
       "      <td>https://tableauqa.itap.purdue.edu/views/profil...</td>\n",
       "      <td>https://nanohub.org/members/313423</td>\n",
       "      <td></td>\n",
       "      <td></td>\n",
       "      <td>NaN</td>\n",
       "      <td>NaN</td>\n",
       "    </tr>\n",
       "    <tr>\n",
       "      <th>31165</th>\n",
       "      <td>reem</td>\n",
       "      <td>hadaj</td>\n",
       "      <td>ALqarni</td>\n",
       "      <td>313424</td>\n",
       "      <td>reemo</td>\n",
       "      <td>alqarni.reem@hotmail.com</td>\n",
       "      <td>1</td>\n",
       "      <td>0</td>\n",
       "      <td>2021-01-21</td>\n",
       "      <td>2021-01-21</td>\n",
       "      <td>https://tableauqa.itap.purdue.edu/views/profil...</td>\n",
       "      <td>https://nanohub.org/members/313424</td>\n",
       "      <td></td>\n",
       "      <td></td>\n",
       "      <td>NaN</td>\n",
       "      <td>NaN</td>\n",
       "    </tr>\n",
       "  </tbody>\n",
       "</table>\n",
       "</div>"
      ],
      "text/plain": [
       "      firstname Middle_name__c    lastname  nanoHUB_user_ID__c  \\\n",
       "31164       Sai          Saran  Dammavalam              313423   \n",
       "31165      reem          hadaj     ALqarni              313424   \n",
       "\n",
       "      nanoHUB_username__c                     Email  HasOptedOutOfEmail  \\\n",
       "31164         saran3072.d     saran3072.d@gmail.com                   1   \n",
       "31165               reemo  alqarni.reem@hotmail.com                   1   \n",
       "\n",
       "       nanoHUB_account_BLOCKED__c nanoHUB_registration_date__c  \\\n",
       "31164                           0                   2021-01-21   \n",
       "31165                           0                   2021-01-21   \n",
       "\n",
       "      nanoHUB_last_active_date__c  \\\n",
       "31164                  2021-01-21   \n",
       "31165                  2021-01-21   \n",
       "\n",
       "                    Detailed_user_timeline_to_Tableau__c  \\\n",
       "31164  https://tableauqa.itap.purdue.edu/views/profil...   \n",
       "31165  https://tableauqa.itap.purdue.edu/views/profil...   \n",
       "\n",
       "                     nanoHUB_user_page__c ORCID__c Organization__c  \\\n",
       "31164  https://nanohub.org/members/313423                            \n",
       "31165  https://nanohub.org/members/313424                            \n",
       "\n",
       "      Organization_email_derived__c Organization_composite__c  \n",
       "31164                           NaN                       NaN  \n",
       "31165                           NaN                       NaN  "
      ]
     },
     "metadata": {},
     "output_type": "display_data"
    },
    {
     "name": "stdout",
     "output_type": "stream",
     "text": [
      "(28833, 16)\n"
     ]
    }
   ],
   "source": [
    "display(good_rows.tail(2))\n",
    "print(good_rows.shape)"
   ]
  },
  {
   "cell_type": "markdown",
   "metadata": {
    "papermill": {
     "duration": 0.058045,
     "end_time": "2021-01-21T07:14:40.243145",
     "exception": false,
     "start_time": "2021-01-21T07:14:40.185100",
     "status": "completed"
    },
    "tags": []
   },
   "source": [
    "## Verification\n",
    "Checking to see if salesforce has updated contacts with the new users\n",
    "\n",
    "request name and nanohub_user_id"
   ]
  },
  {
   "cell_type": "raw",
   "metadata": {
    "papermill": {
     "duration": 0.05481,
     "end_time": "2021-01-21T07:14:40.352260",
     "exception": false,
     "start_time": "2021-01-21T07:14:40.297450",
     "status": "completed"
    },
    "tags": []
   },
   "source": [
    "# create DB2 to Salesforce API object\n",
    "db_s = DB2SalesforceAPI(sf_login_params)"
   ]
  },
  {
   "cell_type": "raw",
   "metadata": {
    "papermill": {
     "duration": 0.092315,
     "end_time": "2021-01-21T07:14:40.530672",
     "exception": false,
     "start_time": "2021-01-21T07:14:40.438357",
     "status": "completed"
    },
    "tags": []
   },
   "source": [
    "# get Salesforce ID for organizations\n",
    "sf_org_ID_df = db_s.query_data('SELECT Id, firstname, lastname, nanoHUB_user_ID__c FROM Contact')\n",
    "\n",
    "# display\n",
    "sf_org_ID_df.head(3)"
   ]
  },
  {
   "cell_type": "raw",
   "metadata": {
    "papermill": {
     "duration": 0.091362,
     "end_time": "2021-01-21T07:14:40.715141",
     "exception": false,
     "start_time": "2021-01-21T07:14:40.623779",
     "status": "completed"
    },
    "tags": []
   },
   "source": [
    "display(sf_org_ID_df.tail(5))"
   ]
  },
  {
   "cell_type": "code",
   "execution_count": null,
   "metadata": {
    "papermill": {
     "duration": 0.053634,
     "end_time": "2021-01-21T07:14:40.841295",
     "exception": false,
     "start_time": "2021-01-21T07:14:40.787661",
     "status": "completed"
    },
    "tags": []
   },
   "outputs": [],
   "source": []
  },
  {
   "cell_type": "code",
   "execution_count": null,
   "metadata": {
    "papermill": {
     "duration": 0.052684,
     "end_time": "2021-01-21T07:14:40.948636",
     "exception": false,
     "start_time": "2021-01-21T07:14:40.895952",
     "status": "completed"
    },
    "tags": []
   },
   "outputs": [],
   "source": []
  },
  {
   "cell_type": "code",
   "execution_count": null,
   "metadata": {
    "papermill": {
     "duration": 0.053292,
     "end_time": "2021-01-21T07:14:41.055292",
     "exception": false,
     "start_time": "2021-01-21T07:14:41.002000",
     "status": "completed"
    },
    "tags": []
   },
   "outputs": [],
   "source": []
  },
  {
   "cell_type": "code",
   "execution_count": null,
   "metadata": {
    "papermill": {
     "duration": 0.054394,
     "end_time": "2021-01-21T07:14:41.163385",
     "exception": false,
     "start_time": "2021-01-21T07:14:41.108991",
     "status": "completed"
    },
    "tags": []
   },
   "outputs": [],
   "source": []
  }
 ],
 "metadata": {
  "celltoolbar": "Tags",
  "kernelspec": {
   "display_name": "Python 3",
   "language": "python",
   "name": "python3"
  },
  "language_info": {
   "codemirror_mode": {
    "name": "ipython",
    "version": 3
   },
   "file_extension": ".py",
   "mimetype": "text/x-python",
   "name": "python",
   "nbconvert_exporter": "python",
   "pygments_lexer": "ipython3",
   "version": "3.8.10"
  },
  "papermill": {
   "duration": 2655.425782,
   "end_time": "2021-01-21T07:14:47.508407",
   "environment_variables": {},
   "exception": null,
   "input_path": "/home/users/wang2506/nanohub_salesforce_integ/salesforce/task_user_basic_updates.ipynb",
   "output_path": "/home/users/wang2506/nanohub_salesforce_integ/salesforce/task_user_basic_updates.ipynb",
   "parameters": {},
   "start_time": "2021-01-21T06:30:32.082625",
   "version": "2.1.1"
  }
 },
 "nbformat": 4,
 "nbformat_minor": 4
}
