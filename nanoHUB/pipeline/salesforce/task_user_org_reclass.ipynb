{
 "cells": [
  {
   "cell_type": "markdown",
   "metadata": {
    "papermill": {
     "duration": 0.0212,
     "end_time": "2021-01-21T08:30:03.602717",
     "exception": false,
     "start_time": "2021-01-21T08:30:03.581517",
     "status": "completed"
    },
    "tags": []
   },
   "source": [
    "# Reclassify user/contact organizations"
   ]
  },
  {
   "cell_type": "raw",
   "metadata": {
    "papermill": {
     "duration": 0.020022,
     "end_time": "2021-01-21T08:30:03.641806",
     "exception": false,
     "start_time": "2021-01-21T08:30:03.621784",
     "status": "completed"
    },
    "tags": []
   },
   "source": [
    "## this notebook does\n",
    "1) fix the email domain classification errors (e.g. if gmail.com, then should have empty classification\n",
    "2) fix overall decision making\n",
    "3) if there is a non-commercial domain, then that domain conflicts with nanohub user self-described org, then turn on organizational conflict flag\n",
    "\n",
    "Since all of these goals rely on the Salesforce side, only need to import data from SF"
   ]
  },
  {
   "cell_type": "code",
   "execution_count": 1,
   "metadata": {
    "execution": {
     "iopub.execute_input": "2021-01-21T08:30:03.685269Z",
     "iopub.status.busy": "2021-01-21T08:30:03.684619Z",
     "iopub.status.idle": "2021-01-21T08:30:03.686709Z",
     "shell.execute_reply": "2021-01-21T08:30:03.685989Z"
    },
    "papermill": {
     "duration": 0.027783,
     "end_time": "2021-01-21T08:30:03.686847",
     "exception": false,
     "start_time": "2021-01-21T08:30:03.659064",
     "status": "completed"
    },
    "tags": [
     "parameters"
    ]
   },
   "outputs": [],
   "source": [
    "# API settings\n",
    "api_url = '/services/data/v43.0/sobjects'\n",
    "object_id = 'Contact'\n",
    "external_id = 'nanoHUB_user_ID__c'\n",
    "\n",
    "# login parameters to be handled by Papermill\n",
    "from nanoHUB.pipeline.application import Application\n",
    "\n",
    "application = Application.get_instance()\n",
    "\n",
    "\n",
    "salesforce = application.new_salesforce_engine()\n",
    "db_s = salesforce\n"
   ]
  },
  {
   "cell_type": "code",
   "execution_count": 2,
   "metadata": {
    "execution": {
     "iopub.execute_input": "2021-01-21T08:30:03.765073Z",
     "iopub.status.busy": "2021-01-21T08:30:03.763538Z",
     "iopub.status.idle": "2021-01-21T08:30:04.028762Z",
     "shell.execute_reply": "2021-01-21T08:30:04.028059Z"
    },
    "papermill": {
     "duration": 0.291215,
     "end_time": "2021-01-21T08:30:04.028895",
     "exception": false,
     "start_time": "2021-01-21T08:30:03.737680",
     "status": "completed"
    },
    "tags": []
   },
   "outputs": [],
   "source": [
    "import pandas as pd\n",
    "import datetime"
   ]
  },
  {
   "cell_type": "markdown",
   "metadata": {
    "papermill": {
     "duration": 0.018646,
     "end_time": "2021-01-21T08:30:04.066717",
     "exception": false,
     "start_time": "2021-01-21T08:30:04.048071",
     "status": "completed"
    },
    "tags": []
   },
   "source": [
    "## Obtain user org classifications from Salesforce"
   ]
  },
  {
   "cell_type": "code",
   "execution_count": 3,
   "metadata": {
    "execution": {
     "iopub.execute_input": "2021-01-21T08:30:04.106830Z",
     "iopub.status.busy": "2021-01-21T08:30:04.106265Z",
     "iopub.status.idle": "2021-01-21T08:30:16.419700Z",
     "shell.execute_reply": "2021-01-21T08:30:16.418877Z"
    },
    "papermill": {
     "duration": 12.335261,
     "end_time": "2021-01-21T08:30:16.419831",
     "exception": false,
     "start_time": "2021-01-21T08:30:04.084570",
     "status": "completed"
    },
    "tags": []
   },
   "outputs": [
    {
     "name": "stdout",
     "output_type": "stream",
     "text": [
      "Obtained Salesforce access token ...... True\n",
      "[Success] Bulk job creation successful. Job ID = 7505w00000TmKWdAAN\n",
      "{\"id\":\"7505w00000TmKWdAAN\",\"operation\":\"query\",\"object\":\"Contact\",\"createdById\":\"0055w00000DM5bOAAT\",\"createdDate\":\"2021-01-21T08:30:04.000+0000\",\"systemModstamp\":\"2021-01-21T08:30:04.000+0000\",\"state\":\"UploadComplete\",\"concurrencyMode\":\"Parallel\",\"contentType\":\"CSV\",\"apiVersion\":47.0,\"jobType\":\"V2Query\",\"lineEnding\":\"LF\",\"columnDelimiter\":\"COMMA\",\"retries\":0,\"totalProcessingTime\":0}\n",
      "{\"id\":\"7505w00000TmKWdAAN\",\"operation\":\"query\",\"object\":\"Contact\",\"createdById\":\"0055w00000DM5bOAAT\",\"createdDate\":\"2021-01-21T08:30:04.000+0000\",\"systemModstamp\":\"2021-01-21T08:30:15.000+0000\",\"state\":\"JobComplete\",\"concurrencyMode\":\"Parallel\",\"contentType\":\"CSV\",\"apiVersion\":47.0,\"jobType\":\"V2Query\",\"lineEnding\":\"LF\",\"columnDelimiter\":\"COMMA\",\"numberRecordsProcessed\":5000,\"retries\":0,\"totalProcessingTime\":5452}\n",
      "[Success] Bulk job completed successfully.\n"
     ]
    },
    {
     "data": {
      "text/html": [
       "<div>\n",
       "<style scoped>\n",
       "    .dataframe tbody tr th:only-of-type {\n",
       "        vertical-align: middle;\n",
       "    }\n",
       "\n",
       "    .dataframe tbody tr th {\n",
       "        vertical-align: top;\n",
       "    }\n",
       "\n",
       "    .dataframe thead th {\n",
       "        text-align: right;\n",
       "    }\n",
       "</style>\n",
       "<table border=\"1\" class=\"dataframe\">\n",
       "  <thead>\n",
       "    <tr style=\"text-align: right;\">\n",
       "      <th></th>\n",
       "      <th>Email</th>\n",
       "      <th>Id</th>\n",
       "      <th>Organization_Conflict__c</th>\n",
       "      <th>Organization__c</th>\n",
       "      <th>Organization_composite__c</th>\n",
       "      <th>Organization_email_derived__c</th>\n",
       "      <th>nanoHUB_user_ID__c</th>\n",
       "    </tr>\n",
       "  </thead>\n",
       "  <tbody>\n",
       "    <tr>\n",
       "      <th>0</th>\n",
       "      <td>lisagundy@arizona.edu</td>\n",
       "      <td>0035w00003EE0MoAAL</td>\n",
       "      <td>False</td>\n",
       "      <td>NaN</td>\n",
       "      <td>NaN</td>\n",
       "      <td>NaN</td>\n",
       "      <td>NaN</td>\n",
       "    </tr>\n",
       "    <tr>\n",
       "      <th>1</th>\n",
       "      <td>asdf1234@invalidaddress5.org</td>\n",
       "      <td>0035w00003DA2NpAAL</td>\n",
       "      <td>False</td>\n",
       "      <td>NaN</td>\n",
       "      <td>NaN</td>\n",
       "      <td>NaN</td>\n",
       "      <td>NaN</td>\n",
       "    </tr>\n",
       "    <tr>\n",
       "      <th>2</th>\n",
       "      <td>defnitelynotanemail7193@purdue.edu</td>\n",
       "      <td>0035w00003DA2MmAAL</td>\n",
       "      <td>False</td>\n",
       "      <td>NaN</td>\n",
       "      <td>NaN</td>\n",
       "      <td>NaN</td>\n",
       "      <td>NaN</td>\n",
       "    </tr>\n",
       "  </tbody>\n",
       "</table>\n",
       "</div>"
      ],
      "text/plain": [
       "                                Email                  Id  \\\n",
       "0               lisagundy@arizona.edu  0035w00003EE0MoAAL   \n",
       "1        asdf1234@invalidaddress5.org  0035w00003DA2NpAAL   \n",
       "2  defnitelynotanemail7193@purdue.edu  0035w00003DA2MmAAL   \n",
       "\n",
       "   Organization_Conflict__c Organization__c Organization_composite__c  \\\n",
       "0                     False             NaN                       NaN   \n",
       "1                     False             NaN                       NaN   \n",
       "2                     False             NaN                       NaN   \n",
       "\n",
       "  Organization_email_derived__c  nanoHUB_user_ID__c  \n",
       "0                           NaN                 NaN  \n",
       "1                           NaN                 NaN  \n",
       "2                           NaN                 NaN  "
      ]
     },
     "execution_count": 3,
     "metadata": {},
     "output_type": "execute_result"
    }
   ],
   "source": [
    "# get Salesforce ID for organizations\n",
    "contact_org_df = db_s.query_data('SELECT Id, nanoHUB_user_ID__c, Email, Organization_composite__c,\\\n",
    "Organization_email_derived__c, Organization_Conflict__c, \\\n",
    "Organization__c FROM Contact Order by nanoHUB_user_ID__c DESC limit 5000') # limit 5000\n",
    "\n",
    "#Organization_citation_derived__c\n",
    "\n",
    "# display\n",
    "contact_org_df.head(3)"
   ]
  },
  {
   "cell_type": "code",
   "execution_count": 4,
   "metadata": {
    "execution": {
     "iopub.execute_input": "2021-01-21T08:30:16.464856Z",
     "iopub.status.busy": "2021-01-21T08:30:16.464266Z",
     "iopub.status.idle": "2021-01-21T08:30:28.073025Z",
     "shell.execute_reply": "2021-01-21T08:30:28.072570Z"
    },
    "papermill": {
     "duration": 11.634175,
     "end_time": "2021-01-21T08:30:28.073157",
     "exception": false,
     "start_time": "2021-01-21T08:30:16.438982",
     "status": "completed"
    },
    "tags": []
   },
   "outputs": [
    {
     "name": "stdout",
     "output_type": "stream",
     "text": [
      "[Success] Bulk job creation successful. Job ID = 7505w00000TmKINAA3\n",
      "{\"id\":\"7505w00000TmKINAA3\",\"operation\":\"query\",\"object\":\"organization__c\",\"createdById\":\"0055w00000DM5bOAAT\",\"createdDate\":\"2021-01-21T08:30:16.000+0000\",\"systemModstamp\":\"2021-01-21T08:30:16.000+0000\",\"state\":\"UploadComplete\",\"concurrencyMode\":\"Parallel\",\"contentType\":\"CSV\",\"apiVersion\":47.0,\"jobType\":\"V2Query\",\"lineEnding\":\"LF\",\"columnDelimiter\":\"COMMA\",\"retries\":0,\"totalProcessingTime\":0}\n",
      "{\"id\":\"7505w00000TmKINAA3\",\"operation\":\"query\",\"object\":\"organization__c\",\"createdById\":\"0055w00000DM5bOAAT\",\"createdDate\":\"2021-01-21T08:30:16.000+0000\",\"systemModstamp\":\"2021-01-21T08:30:20.000+0000\",\"state\":\"JobComplete\",\"concurrencyMode\":\"Parallel\",\"contentType\":\"CSV\",\"apiVersion\":47.0,\"jobType\":\"V2Query\",\"lineEnding\":\"LF\",\"columnDelimiter\":\"COMMA\",\"numberRecordsProcessed\":6365,\"retries\":0,\"totalProcessingTime\":481}\n",
      "[Success] Bulk job completed successfully.\n"
     ]
    },
    {
     "data": {
      "text/html": [
       "<div>\n",
       "<style scoped>\n",
       "    .dataframe tbody tr th:only-of-type {\n",
       "        vertical-align: middle;\n",
       "    }\n",
       "\n",
       "    .dataframe tbody tr th {\n",
       "        vertical-align: top;\n",
       "    }\n",
       "\n",
       "    .dataframe thead th {\n",
       "        text-align: right;\n",
       "    }\n",
       "</style>\n",
       "<table border=\"1\" class=\"dataframe\">\n",
       "  <thead>\n",
       "    <tr style=\"text-align: right;\">\n",
       "      <th></th>\n",
       "      <th>Domain__c</th>\n",
       "      <th>Id</th>\n",
       "      <th>Name</th>\n",
       "    </tr>\n",
       "  </thead>\n",
       "  <tbody>\n",
       "    <tr>\n",
       "      <th>0</th>\n",
       "      <td>upenn.edu</td>\n",
       "      <td>a0r5w00000V42c0AAB</td>\n",
       "      <td>university of pennsylvania</td>\n",
       "    </tr>\n",
       "    <tr>\n",
       "      <th>1</th>\n",
       "      <td>fer.hr</td>\n",
       "      <td>a0r5w00000V42c1AAB</td>\n",
       "      <td>fer</td>\n",
       "    </tr>\n",
       "  </tbody>\n",
       "</table>\n",
       "</div>"
      ],
      "text/plain": [
       "   Domain__c                  Id                        Name\n",
       "0  upenn.edu  a0r5w00000V42c0AAB  university of pennsylvania\n",
       "1     fer.hr  a0r5w00000V42c1AAB                         fer"
      ]
     },
     "metadata": {},
     "output_type": "display_data"
    },
    {
     "name": "stdout",
     "output_type": "stream",
     "text": [
      "(6365, 3)\n"
     ]
    }
   ],
   "source": [
    "# pull all the organizations from SF to get their unique tokens\n",
    "all_org_df = db_s.query_data('SELECT Id, Name, Domain__c FROM Organization__c')\n",
    "\n",
    "display(all_org_df.head(2))\n",
    "print(all_org_df.shape)"
   ]
  },
  {
   "cell_type": "code",
   "execution_count": 5,
   "metadata": {
    "execution": {
     "iopub.execute_input": "2021-01-21T08:30:28.126965Z",
     "iopub.status.busy": "2021-01-21T08:30:28.126272Z",
     "iopub.status.idle": "2021-01-21T08:30:28.130708Z",
     "shell.execute_reply": "2021-01-21T08:30:28.129877Z"
    },
    "papermill": {
     "duration": 0.037182,
     "end_time": "2021-01-21T08:30:28.130837",
     "exception": false,
     "start_time": "2021-01-21T08:30:28.093655",
     "status": "completed"
    },
    "tags": []
   },
   "outputs": [
    {
     "data": {
      "text/plain": [
       "0            arizona.edu\n",
       "1    invalidaddress5.org\n",
       "Name: Email, dtype: object"
      ]
     },
     "metadata": {},
     "output_type": "display_data"
    }
   ],
   "source": [
    "## extract the domain from contact_org_df\n",
    "user_domains = contact_org_df['Email'].fillna(' ').apply(lambda x: x.split('@')[-1])\n",
    "display(user_domains.head(2))"
   ]
  },
  {
   "cell_type": "code",
   "execution_count": 6,
   "metadata": {
    "execution": {
     "iopub.execute_input": "2021-01-21T08:30:28.176648Z",
     "iopub.status.busy": "2021-01-21T08:30:28.176086Z",
     "iopub.status.idle": "2021-01-21T08:30:28.193475Z",
     "shell.execute_reply": "2021-01-21T08:30:28.194114Z"
    },
    "papermill": {
     "duration": 0.042913,
     "end_time": "2021-01-21T08:30:28.194379",
     "exception": false,
     "start_time": "2021-01-21T08:30:28.151466",
     "status": "completed"
    },
    "tags": []
   },
   "outputs": [
    {
     "data": {
      "text/plain": [
       "0            arizona.edu\n",
       "1    invalidaddress5.org\n",
       "Name: Email, dtype: object"
      ]
     },
     "metadata": {},
     "output_type": "display_data"
    }
   ],
   "source": [
    "## if contact domain is a commercial email domain, then find the index and empty out the entry \n",
    "import commercial_domains as cdomains\n",
    "user_domains = user_domains.apply(lambda x: ' ' if x in cdomains.domains else x)\n",
    "display(user_domains.head(2))"
   ]
  },
  {
   "cell_type": "code",
   "execution_count": 7,
   "metadata": {
    "execution": {
     "iopub.execute_input": "2021-01-21T08:30:28.241614Z",
     "iopub.status.busy": "2021-01-21T08:30:28.241064Z",
     "iopub.status.idle": "2021-01-21T08:30:28.256756Z",
     "shell.execute_reply": "2021-01-21T08:30:28.256331Z"
    },
    "papermill": {
     "duration": 0.040857,
     "end_time": "2021-01-21T08:30:28.256887",
     "exception": false,
     "start_time": "2021-01-21T08:30:28.216030",
     "status": "completed"
    },
    "tags": []
   },
   "outputs": [
    {
     "name": "stderr",
     "output_type": "stream",
     "text": [
      "/home/users/wang2506/anaconda3/lib/python3.7/site-packages/ipykernel_launcher.py:4: SettingWithCopyWarning: \n",
      "A value is trying to be set on a copy of a slice from a DataFrame\n",
      "\n",
      "See the caveats in the documentation: https://pandas.pydata.org/pandas-docs/stable/user_guide/indexing.html#returning-a-view-versus-a-copy\n",
      "  after removing the cwd from sys.path.\n"
     ]
    },
    {
     "data": {
      "text/html": [
       "<div>\n",
       "<style scoped>\n",
       "    .dataframe tbody tr th:only-of-type {\n",
       "        vertical-align: middle;\n",
       "    }\n",
       "\n",
       "    .dataframe tbody tr th {\n",
       "        vertical-align: top;\n",
       "    }\n",
       "\n",
       "    .dataframe thead th {\n",
       "        text-align: right;\n",
       "    }\n",
       "</style>\n",
       "<table border=\"1\" class=\"dataframe\">\n",
       "  <thead>\n",
       "    <tr style=\"text-align: right;\">\n",
       "      <th></th>\n",
       "      <th>Email</th>\n",
       "      <th>Id</th>\n",
       "      <th>Organization_Conflict__c</th>\n",
       "      <th>Organization__c</th>\n",
       "      <th>Organization_composite__c</th>\n",
       "      <th>Organization_email_derived__c</th>\n",
       "      <th>nanoHUB_user_ID__c</th>\n",
       "    </tr>\n",
       "  </thead>\n",
       "  <tbody>\n",
       "    <tr>\n",
       "      <th>0</th>\n",
       "      <td>lisagundy@arizona.edu</td>\n",
       "      <td>0035w00003EE0MoAAL</td>\n",
       "      <td>False</td>\n",
       "      <td>NaN</td>\n",
       "      <td>NaN</td>\n",
       "      <td>NaN</td>\n",
       "      <td>NaN</td>\n",
       "    </tr>\n",
       "    <tr>\n",
       "      <th>1</th>\n",
       "      <td>asdf1234@invalidaddress5.org</td>\n",
       "      <td>0035w00003DA2NpAAL</td>\n",
       "      <td>False</td>\n",
       "      <td>NaN</td>\n",
       "      <td>NaN</td>\n",
       "      <td>NaN</td>\n",
       "      <td>NaN</td>\n",
       "    </tr>\n",
       "    <tr>\n",
       "      <th>2</th>\n",
       "      <td>defnitelynotanemail7193@purdue.edu</td>\n",
       "      <td>0035w00003DA2MmAAL</td>\n",
       "      <td>False</td>\n",
       "      <td>NaN</td>\n",
       "      <td>NaN</td>\n",
       "      <td>NaN</td>\n",
       "      <td>NaN</td>\n",
       "    </tr>\n",
       "    <tr>\n",
       "      <th>3</th>\n",
       "      <td>lbaker@kellpartners.com</td>\n",
       "      <td>0035w000034KEj2AAG</td>\n",
       "      <td>False</td>\n",
       "      <td>NaN</td>\n",
       "      <td>NaN</td>\n",
       "      <td>NaN</td>\n",
       "      <td>NaN</td>\n",
       "    </tr>\n",
       "    <tr>\n",
       "      <th>4</th>\n",
       "      <td>amy.morgan@northwestern.edu</td>\n",
       "      <td>0035w00003BSD5mAAH</td>\n",
       "      <td>False</td>\n",
       "      <td>NaN</td>\n",
       "      <td>NaN</td>\n",
       "      <td>NaN</td>\n",
       "      <td>NaN</td>\n",
       "    </tr>\n",
       "  </tbody>\n",
       "</table>\n",
       "</div>"
      ],
      "text/plain": [
       "                                Email                  Id  \\\n",
       "0               lisagundy@arizona.edu  0035w00003EE0MoAAL   \n",
       "1        asdf1234@invalidaddress5.org  0035w00003DA2NpAAL   \n",
       "2  defnitelynotanemail7193@purdue.edu  0035w00003DA2MmAAL   \n",
       "3             lbaker@kellpartners.com  0035w000034KEj2AAG   \n",
       "4         amy.morgan@northwestern.edu  0035w00003BSD5mAAH   \n",
       "\n",
       "   Organization_Conflict__c Organization__c Organization_composite__c  \\\n",
       "0                     False             NaN                       NaN   \n",
       "1                     False             NaN                       NaN   \n",
       "2                     False             NaN                       NaN   \n",
       "3                     False             NaN                       NaN   \n",
       "4                     False             NaN                       NaN   \n",
       "\n",
       "  Organization_email_derived__c  nanoHUB_user_ID__c  \n",
       "0                           NaN                 NaN  \n",
       "1                           NaN                 NaN  \n",
       "2                           NaN                 NaN  \n",
       "3                           NaN                 NaN  \n",
       "4                           NaN                 NaN  "
      ]
     },
     "metadata": {},
     "output_type": "display_data"
    }
   ],
   "source": [
    "## finding indexes in contact_org_df and zero out Organization_email_derived__c\n",
    "indices = [i for i, x in enumerate(user_domains.to_list()) if x == ' ']\n",
    "\n",
    "contact_org_df['Organization_email_derived__c'][indices] = ' '\n",
    "\n",
    "## list comprehension method\n",
    "display(contact_org_df.head(5))\n"
   ]
  },
  {
   "cell_type": "code",
   "execution_count": 8,
   "metadata": {
    "execution": {
     "iopub.execute_input": "2021-01-21T08:30:28.307353Z",
     "iopub.status.busy": "2021-01-21T08:30:28.306750Z",
     "iopub.status.idle": "2021-01-21T08:30:28.313287Z",
     "shell.execute_reply": "2021-01-21T08:30:28.312762Z"
    },
    "papermill": {
     "duration": 0.035272,
     "end_time": "2021-01-21T08:30:28.313422",
     "exception": false,
     "start_time": "2021-01-21T08:30:28.278150",
     "status": "completed"
    },
    "tags": []
   },
   "outputs": [],
   "source": [
    "## match/find all_org_df ID values\n",
    "nh_orgs = contact_org_df['Organization__c'].fillna(' ').apply(lambda x: x.lower())\n",
    "sf_org_strings = all_org_df['Name'].fillna(' ').apply(lambda x: x.lower()).to_list()\n",
    "sf_org_ids = all_org_df['Id'].fillna(' ')"
   ]
  },
  {
   "cell_type": "code",
   "execution_count": 9,
   "metadata": {
    "execution": {
     "iopub.execute_input": "2021-01-21T08:30:28.362689Z",
     "iopub.status.busy": "2021-01-21T08:30:28.361903Z",
     "iopub.status.idle": "2021-01-21T08:30:28.405671Z",
     "shell.execute_reply": "2021-01-21T08:30:28.406070Z"
    },
    "papermill": {
     "duration": 0.071259,
     "end_time": "2021-01-21T08:30:28.406265",
     "exception": false,
     "start_time": "2021-01-21T08:30:28.335006",
     "status": "completed"
    },
    "tags": []
   },
   "outputs": [],
   "source": [
    "# continued from above snippet\n",
    "indices = [i for i, x in enumerate(nh_orgs.to_list()) if x != ' ']\n",
    "\n",
    "#check if organization already has a SF entry\n",
    "for i in indices:\n",
    "    if nh_orgs[i] in sf_org_strings: #if exact match\n",
    "        t_index = sf_org_strings.index(nh_orgs[i]) #pull exact id\n",
    "        nh_orgs[i] = sf_org_ids[t_index]\n",
    "    else:\n",
    "        nh_orgs[i] = ' '\n",
    "        \n",
    "#    else:\n",
    "#        #calculate the damerau levenshtein distance\n",
    "#        min_dl_dist,org_index = dl_dist(nh_orgs[i],sf_org_strings)\n",
    "#        if min_dl_dist <= 4: #fit the org to the org_index \n",
    "#            t_index = org_index\n",
    "#            nh_orgs[i] = sf_org_ids[t_index]\n",
    "        ## create new entry is involved... create a new DF, populate with new org entries, send to SF\n",
    "        ## pull SF assigned new org ID back, then repopulate the contacts SF DF with new org ID only for those new orgs \n",
    "        #else: #create new entry\n",
    "        #    t_index = org_index"
   ]
  },
  {
   "cell_type": "code",
   "execution_count": 10,
   "metadata": {
    "execution": {
     "iopub.execute_input": "2021-01-21T08:30:28.456657Z",
     "iopub.status.busy": "2021-01-21T08:30:28.456042Z",
     "iopub.status.idle": "2021-01-21T08:30:28.460205Z",
     "shell.execute_reply": "2021-01-21T08:30:28.460629Z"
    },
    "papermill": {
     "duration": 0.032379,
     "end_time": "2021-01-21T08:30:28.460789",
     "exception": false,
     "start_time": "2021-01-21T08:30:28.428410",
     "status": "completed"
    },
    "tags": []
   },
   "outputs": [
    {
     "data": {
      "text/plain": [
       "0     \n",
       "1     \n",
       "2     \n",
       "Name: Organization__c, dtype: object"
      ]
     },
     "metadata": {},
     "output_type": "display_data"
    }
   ],
   "source": [
    "display(nh_orgs.head(3))"
   ]
  },
  {
   "cell_type": "code",
   "execution_count": 11,
   "metadata": {
    "execution": {
     "iopub.execute_input": "2021-01-21T08:30:28.511296Z",
     "iopub.status.busy": "2021-01-21T08:30:28.510708Z",
     "iopub.status.idle": "2021-01-21T08:30:28.513604Z",
     "shell.execute_reply": "2021-01-21T08:30:28.513100Z"
    },
    "papermill": {
     "duration": 0.031693,
     "end_time": "2021-01-21T08:30:28.513745",
     "exception": false,
     "start_time": "2021-01-21T08:30:28.482052",
     "status": "completed"
    },
    "tags": []
   },
   "outputs": [],
   "source": [
    "## Compare and readjust the organization_email_derived__c based on email domains\n",
    "email_orgs = contact_org_df['Organization_email_derived__c']\n",
    "emails = contact_org_df['Email'].fillna(' ').apply(lambda x: x.split('@')[-1])"
   ]
  },
  {
   "cell_type": "code",
   "execution_count": 12,
   "metadata": {
    "execution": {
     "iopub.execute_input": "2021-01-21T08:30:28.564376Z",
     "iopub.status.busy": "2021-01-21T08:30:28.563796Z",
     "iopub.status.idle": "2021-01-21T08:30:28.566447Z",
     "shell.execute_reply": "2021-01-21T08:30:28.565807Z"
    },
    "papermill": {
     "duration": 0.030562,
     "end_time": "2021-01-21T08:30:28.566574",
     "exception": false,
     "start_time": "2021-01-21T08:30:28.536012",
     "status": "completed"
    },
    "tags": []
   },
   "outputs": [],
   "source": [
    "## all sf domains\n",
    "sf_domains = all_org_df['Domain__c'].to_list()"
   ]
  },
  {
   "cell_type": "code",
   "execution_count": 13,
   "metadata": {
    "execution": {
     "iopub.execute_input": "2021-01-21T08:30:28.623759Z",
     "iopub.status.busy": "2021-01-21T08:30:28.623098Z",
     "iopub.status.idle": "2021-01-21T08:30:28.635689Z",
     "shell.execute_reply": "2021-01-21T08:30:28.634899Z"
    },
    "papermill": {
     "duration": 0.047575,
     "end_time": "2021-01-21T08:30:28.635827",
     "exception": false,
     "start_time": "2021-01-21T08:30:28.588252",
     "status": "completed"
    },
    "tags": []
   },
   "outputs": [
    {
     "data": {
      "text/html": [
       "<div>\n",
       "<style scoped>\n",
       "    .dataframe tbody tr th:only-of-type {\n",
       "        vertical-align: middle;\n",
       "    }\n",
       "\n",
       "    .dataframe tbody tr th {\n",
       "        vertical-align: top;\n",
       "    }\n",
       "\n",
       "    .dataframe thead th {\n",
       "        text-align: right;\n",
       "    }\n",
       "</style>\n",
       "<table border=\"1\" class=\"dataframe\">\n",
       "  <thead>\n",
       "    <tr style=\"text-align: right;\">\n",
       "      <th></th>\n",
       "      <th>Email</th>\n",
       "      <th>Id</th>\n",
       "      <th>Organization_Conflict__c</th>\n",
       "      <th>Organization__c</th>\n",
       "      <th>Organization_composite__c</th>\n",
       "      <th>Organization_email_derived__c</th>\n",
       "      <th>nanoHUB_user_ID__c</th>\n",
       "    </tr>\n",
       "  </thead>\n",
       "  <tbody>\n",
       "    <tr>\n",
       "      <th>0</th>\n",
       "      <td>lisagundy@arizona.edu</td>\n",
       "      <td>0035w00003EE0MoAAL</td>\n",
       "      <td>False</td>\n",
       "      <td>NaN</td>\n",
       "      <td>NaN</td>\n",
       "      <td>NaN</td>\n",
       "      <td>NaN</td>\n",
       "    </tr>\n",
       "    <tr>\n",
       "      <th>1</th>\n",
       "      <td>asdf1234@invalidaddress5.org</td>\n",
       "      <td>0035w00003DA2NpAAL</td>\n",
       "      <td>False</td>\n",
       "      <td>NaN</td>\n",
       "      <td>NaN</td>\n",
       "      <td>NaN</td>\n",
       "      <td>NaN</td>\n",
       "    </tr>\n",
       "  </tbody>\n",
       "</table>\n",
       "</div>"
      ],
      "text/plain": [
       "                          Email                  Id  Organization_Conflict__c  \\\n",
       "0         lisagundy@arizona.edu  0035w00003EE0MoAAL                     False   \n",
       "1  asdf1234@invalidaddress5.org  0035w00003DA2NpAAL                     False   \n",
       "\n",
       "  Organization__c Organization_composite__c Organization_email_derived__c  \\\n",
       "0             NaN                       NaN                           NaN   \n",
       "1             NaN                       NaN                           NaN   \n",
       "\n",
       "   nanoHUB_user_ID__c  \n",
       "0                 NaN  \n",
       "1                 NaN  "
      ]
     },
     "metadata": {},
     "output_type": "display_data"
    },
    {
     "data": {
      "text/html": [
       "<div>\n",
       "<style scoped>\n",
       "    .dataframe tbody tr th:only-of-type {\n",
       "        vertical-align: middle;\n",
       "    }\n",
       "\n",
       "    .dataframe tbody tr th {\n",
       "        vertical-align: top;\n",
       "    }\n",
       "\n",
       "    .dataframe thead th {\n",
       "        text-align: right;\n",
       "    }\n",
       "</style>\n",
       "<table border=\"1\" class=\"dataframe\">\n",
       "  <thead>\n",
       "    <tr style=\"text-align: right;\">\n",
       "      <th></th>\n",
       "      <th>Email</th>\n",
       "      <th>Id</th>\n",
       "      <th>Organization_Conflict__c</th>\n",
       "      <th>Organization__c</th>\n",
       "      <th>Organization_composite__c</th>\n",
       "      <th>Organization_email_derived__c</th>\n",
       "      <th>nanoHUB_user_ID__c</th>\n",
       "    </tr>\n",
       "  </thead>\n",
       "  <tbody>\n",
       "    <tr>\n",
       "      <th>4998</th>\n",
       "      <td>wendy.barnard@asu.edu</td>\n",
       "      <td>0035w00003HVpRPAA1</td>\n",
       "      <td>False</td>\n",
       "      <td>NaN</td>\n",
       "      <td>a0r5w00000V42jDAAR</td>\n",
       "      <td>a0r5w00000V42jDAAR</td>\n",
       "      <td>307095.0</td>\n",
       "    </tr>\n",
       "    <tr>\n",
       "      <th>4999</th>\n",
       "      <td>eliaskaroui@gmail.com</td>\n",
       "      <td>0035w00003HVpuvAAD</td>\n",
       "      <td>False</td>\n",
       "      <td>NaN</td>\n",
       "      <td>NaN</td>\n",
       "      <td></td>\n",
       "      <td>307093.0</td>\n",
       "    </tr>\n",
       "  </tbody>\n",
       "</table>\n",
       "</div>"
      ],
      "text/plain": [
       "                      Email                  Id  Organization_Conflict__c  \\\n",
       "4998  wendy.barnard@asu.edu  0035w00003HVpRPAA1                     False   \n",
       "4999  eliaskaroui@gmail.com  0035w00003HVpuvAAD                     False   \n",
       "\n",
       "     Organization__c Organization_composite__c Organization_email_derived__c  \\\n",
       "4998             NaN        a0r5w00000V42jDAAR            a0r5w00000V42jDAAR   \n",
       "4999             NaN                       NaN                                 \n",
       "\n",
       "      nanoHUB_user_ID__c  \n",
       "4998            307095.0  \n",
       "4999            307093.0  "
      ]
     },
     "metadata": {},
     "output_type": "display_data"
    }
   ],
   "source": [
    "display(contact_org_df.head(2))\n",
    "display(contact_org_df.tail(2))"
   ]
  },
  {
   "cell_type": "code",
   "execution_count": 14,
   "metadata": {
    "execution": {
     "iopub.execute_input": "2021-01-21T08:30:29.128569Z",
     "iopub.status.busy": "2021-01-21T08:30:28.930278Z",
     "iopub.status.idle": "2021-01-21T08:30:29.246869Z",
     "shell.execute_reply": "2021-01-21T08:30:29.247290Z"
    },
    "papermill": {
     "duration": 0.58653,
     "end_time": "2021-01-21T08:30:29.247488",
     "exception": false,
     "start_time": "2021-01-21T08:30:28.660958",
     "status": "completed"
    },
    "tags": []
   },
   "outputs": [
    {
     "name": "stderr",
     "output_type": "stream",
     "text": [
      "/home/users/wang2506/anaconda3/lib/python3.7/site-packages/ipykernel_launcher.py:11: SettingWithCopyWarning: \n",
      "A value is trying to be set on a copy of a slice from a DataFrame\n",
      "\n",
      "See the caveats in the documentation: https://pandas.pydata.org/pandas-docs/stable/user_guide/indexing.html#returning-a-view-versus-a-copy\n",
      "  # This is added back by InteractiveShellApp.init_path()\n"
     ]
    },
    {
     "data": {
      "text/html": [
       "<div>\n",
       "<style scoped>\n",
       "    .dataframe tbody tr th:only-of-type {\n",
       "        vertical-align: middle;\n",
       "    }\n",
       "\n",
       "    .dataframe tbody tr th {\n",
       "        vertical-align: top;\n",
       "    }\n",
       "\n",
       "    .dataframe thead th {\n",
       "        text-align: right;\n",
       "    }\n",
       "</style>\n",
       "<table border=\"1\" class=\"dataframe\">\n",
       "  <thead>\n",
       "    <tr style=\"text-align: right;\">\n",
       "      <th></th>\n",
       "      <th>Email</th>\n",
       "      <th>Id</th>\n",
       "      <th>Organization_Conflict__c</th>\n",
       "      <th>Organization__c</th>\n",
       "      <th>Organization_composite__c</th>\n",
       "      <th>Organization_email_derived__c</th>\n",
       "      <th>nanoHUB_user_ID__c</th>\n",
       "    </tr>\n",
       "  </thead>\n",
       "  <tbody>\n",
       "    <tr>\n",
       "      <th>0</th>\n",
       "      <td>lisagundy@arizona.edu</td>\n",
       "      <td>0035w00003EE0MoAAL</td>\n",
       "      <td>False</td>\n",
       "      <td>NaN</td>\n",
       "      <td>NaN</td>\n",
       "      <td>a0r5w00000V433WAAR</td>\n",
       "      <td>NaN</td>\n",
       "    </tr>\n",
       "    <tr>\n",
       "      <th>1</th>\n",
       "      <td>asdf1234@invalidaddress5.org</td>\n",
       "      <td>0035w00003DA2NpAAL</td>\n",
       "      <td>False</td>\n",
       "      <td>NaN</td>\n",
       "      <td>NaN</td>\n",
       "      <td>NaN</td>\n",
       "      <td>NaN</td>\n",
       "    </tr>\n",
       "  </tbody>\n",
       "</table>\n",
       "</div>"
      ],
      "text/plain": [
       "                          Email                  Id  Organization_Conflict__c  \\\n",
       "0         lisagundy@arizona.edu  0035w00003EE0MoAAL                     False   \n",
       "1  asdf1234@invalidaddress5.org  0035w00003DA2NpAAL                     False   \n",
       "\n",
       "  Organization__c Organization_composite__c Organization_email_derived__c  \\\n",
       "0             NaN                       NaN            a0r5w00000V433WAAR   \n",
       "1             NaN                       NaN                           NaN   \n",
       "\n",
       "   nanoHUB_user_ID__c  \n",
       "0                 NaN  \n",
       "1                 NaN  "
      ]
     },
     "metadata": {},
     "output_type": "display_data"
    },
    {
     "data": {
      "text/html": [
       "<div>\n",
       "<style scoped>\n",
       "    .dataframe tbody tr th:only-of-type {\n",
       "        vertical-align: middle;\n",
       "    }\n",
       "\n",
       "    .dataframe tbody tr th {\n",
       "        vertical-align: top;\n",
       "    }\n",
       "\n",
       "    .dataframe thead th {\n",
       "        text-align: right;\n",
       "    }\n",
       "</style>\n",
       "<table border=\"1\" class=\"dataframe\">\n",
       "  <thead>\n",
       "    <tr style=\"text-align: right;\">\n",
       "      <th></th>\n",
       "      <th>Email</th>\n",
       "      <th>Id</th>\n",
       "      <th>Organization_Conflict__c</th>\n",
       "      <th>Organization__c</th>\n",
       "      <th>Organization_composite__c</th>\n",
       "      <th>Organization_email_derived__c</th>\n",
       "      <th>nanoHUB_user_ID__c</th>\n",
       "    </tr>\n",
       "  </thead>\n",
       "  <tbody>\n",
       "    <tr>\n",
       "      <th>4998</th>\n",
       "      <td>wendy.barnard@asu.edu</td>\n",
       "      <td>0035w00003HVpRPAA1</td>\n",
       "      <td>False</td>\n",
       "      <td>NaN</td>\n",
       "      <td>a0r5w00000V42jDAAR</td>\n",
       "      <td>a0r5w00000V42jDAAR</td>\n",
       "      <td>307095.0</td>\n",
       "    </tr>\n",
       "    <tr>\n",
       "      <th>4999</th>\n",
       "      <td>eliaskaroui@gmail.com</td>\n",
       "      <td>0035w00003HVpuvAAD</td>\n",
       "      <td>False</td>\n",
       "      <td>NaN</td>\n",
       "      <td>NaN</td>\n",
       "      <td></td>\n",
       "      <td>307093.0</td>\n",
       "    </tr>\n",
       "  </tbody>\n",
       "</table>\n",
       "</div>"
      ],
      "text/plain": [
       "                      Email                  Id  Organization_Conflict__c  \\\n",
       "4998  wendy.barnard@asu.edu  0035w00003HVpRPAA1                     False   \n",
       "4999  eliaskaroui@gmail.com  0035w00003HVpuvAAD                     False   \n",
       "\n",
       "     Organization__c Organization_composite__c Organization_email_derived__c  \\\n",
       "4998             NaN        a0r5w00000V42jDAAR            a0r5w00000V42jDAAR   \n",
       "4999             NaN                       NaN                                 \n",
       "\n",
       "      nanoHUB_user_ID__c  \n",
       "4998            307095.0  \n",
       "4999            307093.0  "
      ]
     },
     "metadata": {},
     "output_type": "display_data"
    }
   ],
   "source": [
    "## verify that the email_org entry corresponds to the correct organizational domain\n",
    "for i,j in enumerate(emails.to_list()):\n",
    "    ## apply fixes for mail.usf.edu to usf.edu - i.e., use the simplest derivative of the domains    \n",
    "    j_test = j.split('.')\n",
    "    if len(j_test) >= 3:\n",
    "        j = '.'.join(j_test[-2:])\n",
    "    \n",
    "    if j in sf_domains:\n",
    "        # pull the corresponding org Id\n",
    "        j_org = all_org_df['Id'][sf_domains.index(j)]\n",
    "        contact_org_df['Organization_email_derived__c'][i] = j_org\n",
    "        \n",
    "display(contact_org_df.head(2))\n",
    "display(contact_org_df.tail(2))"
   ]
  },
  {
   "cell_type": "code",
   "execution_count": 15,
   "metadata": {
    "execution": {
     "iopub.execute_input": "2021-01-21T08:30:29.355235Z",
     "iopub.status.busy": "2021-01-21T08:30:29.354608Z",
     "iopub.status.idle": "2021-01-21T08:30:29.367537Z",
     "shell.execute_reply": "2021-01-21T08:30:29.366955Z"
    },
    "papermill": {
     "duration": 0.094796,
     "end_time": "2021-01-21T08:30:29.367667",
     "exception": false,
     "start_time": "2021-01-21T08:30:29.272871",
     "status": "completed"
    },
    "tags": []
   },
   "outputs": [
    {
     "name": "stderr",
     "output_type": "stream",
     "text": [
      "/home/users/wang2506/anaconda3/lib/python3.7/site-packages/ipykernel_launcher.py:13: SettingWithCopyWarning: \n",
      "A value is trying to be set on a copy of a slice from a DataFrame\n",
      "\n",
      "See the caveats in the documentation: https://pandas.pydata.org/pandas-docs/stable/user_guide/indexing.html#returning-a-view-versus-a-copy\n",
      "  del sys.path[0]\n",
      "/home/users/wang2506/anaconda3/lib/python3.7/site-packages/ipykernel_launcher.py:14: SettingWithCopyWarning: \n",
      "A value is trying to be set on a copy of a slice from a DataFrame\n",
      "\n",
      "See the caveats in the documentation: https://pandas.pydata.org/pandas-docs/stable/user_guide/indexing.html#returning-a-view-versus-a-copy\n",
      "  \n",
      "/home/users/wang2506/anaconda3/lib/python3.7/site-packages/ipykernel_launcher.py:7: SettingWithCopyWarning: \n",
      "A value is trying to be set on a copy of a slice from a DataFrame\n",
      "\n",
      "See the caveats in the documentation: https://pandas.pydata.org/pandas-docs/stable/user_guide/indexing.html#returning-a-view-versus-a-copy\n",
      "  import sys\n",
      "/home/users/wang2506/anaconda3/lib/python3.7/site-packages/ipykernel_launcher.py:9: SettingWithCopyWarning: \n",
      "A value is trying to be set on a copy of a slice from a DataFrame\n",
      "\n",
      "See the caveats in the documentation: https://pandas.pydata.org/pandas-docs/stable/user_guide/indexing.html#returning-a-view-versus-a-copy\n",
      "  if __name__ == '__main__':\n",
      "/home/users/wang2506/anaconda3/lib/python3.7/site-packages/ipykernel_launcher.py:10: SettingWithCopyWarning: \n",
      "A value is trying to be set on a copy of a slice from a DataFrame\n",
      "\n",
      "See the caveats in the documentation: https://pandas.pydata.org/pandas-docs/stable/user_guide/indexing.html#returning-a-view-versus-a-copy\n",
      "  # Remove the CWD from sys.path while we load stuff.\n"
     ]
    },
    {
     "data": {
      "text/html": [
       "<div>\n",
       "<style scoped>\n",
       "    .dataframe tbody tr th:only-of-type {\n",
       "        vertical-align: middle;\n",
       "    }\n",
       "\n",
       "    .dataframe tbody tr th {\n",
       "        vertical-align: top;\n",
       "    }\n",
       "\n",
       "    .dataframe thead th {\n",
       "        text-align: right;\n",
       "    }\n",
       "</style>\n",
       "<table border=\"1\" class=\"dataframe\">\n",
       "  <thead>\n",
       "    <tr style=\"text-align: right;\">\n",
       "      <th></th>\n",
       "      <th>Email</th>\n",
       "      <th>Id</th>\n",
       "      <th>Organization_Conflict__c</th>\n",
       "      <th>Organization__c</th>\n",
       "      <th>Organization_composite__c</th>\n",
       "      <th>Organization_email_derived__c</th>\n",
       "      <th>nanoHUB_user_ID__c</th>\n",
       "    </tr>\n",
       "  </thead>\n",
       "  <tbody>\n",
       "    <tr>\n",
       "      <th>0</th>\n",
       "      <td>lisagundy@arizona.edu</td>\n",
       "      <td>0035w00003EE0MoAAL</td>\n",
       "      <td>False</td>\n",
       "      <td>NaN</td>\n",
       "      <td>NaN</td>\n",
       "      <td>a0r5w00000V433WAAR</td>\n",
       "      <td>NaN</td>\n",
       "    </tr>\n",
       "    <tr>\n",
       "      <th>1</th>\n",
       "      <td>asdf1234@invalidaddress5.org</td>\n",
       "      <td>0035w00003DA2NpAAL</td>\n",
       "      <td>False</td>\n",
       "      <td>NaN</td>\n",
       "      <td>NaN</td>\n",
       "      <td>NaN</td>\n",
       "      <td>NaN</td>\n",
       "    </tr>\n",
       "    <tr>\n",
       "      <th>2</th>\n",
       "      <td>defnitelynotanemail7193@purdue.edu</td>\n",
       "      <td>0035w00003DA2MmAAL</td>\n",
       "      <td>False</td>\n",
       "      <td>NaN</td>\n",
       "      <td>NaN</td>\n",
       "      <td>a0r5w00000V42cCAAR</td>\n",
       "      <td>NaN</td>\n",
       "    </tr>\n",
       "    <tr>\n",
       "      <th>3</th>\n",
       "      <td>lbaker@kellpartners.com</td>\n",
       "      <td>0035w000034KEj2AAG</td>\n",
       "      <td>False</td>\n",
       "      <td>NaN</td>\n",
       "      <td>NaN</td>\n",
       "      <td>NaN</td>\n",
       "      <td>NaN</td>\n",
       "    </tr>\n",
       "  </tbody>\n",
       "</table>\n",
       "</div>"
      ],
      "text/plain": [
       "                                Email                  Id  \\\n",
       "0               lisagundy@arizona.edu  0035w00003EE0MoAAL   \n",
       "1        asdf1234@invalidaddress5.org  0035w00003DA2NpAAL   \n",
       "2  defnitelynotanemail7193@purdue.edu  0035w00003DA2MmAAL   \n",
       "3             lbaker@kellpartners.com  0035w000034KEj2AAG   \n",
       "\n",
       "   Organization_Conflict__c Organization__c Organization_composite__c  \\\n",
       "0                     False             NaN                       NaN   \n",
       "1                     False             NaN                       NaN   \n",
       "2                     False             NaN                       NaN   \n",
       "3                     False             NaN                       NaN   \n",
       "\n",
       "  Organization_email_derived__c  nanoHUB_user_ID__c  \n",
       "0            a0r5w00000V433WAAR                 NaN  \n",
       "1                           NaN                 NaN  \n",
       "2            a0r5w00000V42cCAAR                 NaN  \n",
       "3                           NaN                 NaN  "
      ]
     },
     "metadata": {},
     "output_type": "display_data"
    },
    {
     "data": {
      "text/html": [
       "<div>\n",
       "<style scoped>\n",
       "    .dataframe tbody tr th:only-of-type {\n",
       "        vertical-align: middle;\n",
       "    }\n",
       "\n",
       "    .dataframe tbody tr th {\n",
       "        vertical-align: top;\n",
       "    }\n",
       "\n",
       "    .dataframe thead th {\n",
       "        text-align: right;\n",
       "    }\n",
       "</style>\n",
       "<table border=\"1\" class=\"dataframe\">\n",
       "  <thead>\n",
       "    <tr style=\"text-align: right;\">\n",
       "      <th></th>\n",
       "      <th>Email</th>\n",
       "      <th>Id</th>\n",
       "      <th>Organization_Conflict__c</th>\n",
       "      <th>Organization__c</th>\n",
       "      <th>Organization_composite__c</th>\n",
       "      <th>Organization_email_derived__c</th>\n",
       "      <th>nanoHUB_user_ID__c</th>\n",
       "    </tr>\n",
       "  </thead>\n",
       "  <tbody>\n",
       "    <tr>\n",
       "      <th>4996</th>\n",
       "      <td>subrata.niser@gmail.com</td>\n",
       "      <td>0035w00003HVpuxAAD</td>\n",
       "      <td>False</td>\n",
       "      <td>NaN</td>\n",
       "      <td>NaN</td>\n",
       "      <td></td>\n",
       "      <td>307097.0</td>\n",
       "    </tr>\n",
       "    <tr>\n",
       "      <th>4997</th>\n",
       "      <td>NaN</td>\n",
       "      <td>0035w00003HVpuwAAD</td>\n",
       "      <td>False</td>\n",
       "      <td>NaN</td>\n",
       "      <td>NaN</td>\n",
       "      <td></td>\n",
       "      <td>307096.0</td>\n",
       "    </tr>\n",
       "    <tr>\n",
       "      <th>4998</th>\n",
       "      <td>wendy.barnard@asu.edu</td>\n",
       "      <td>0035w00003HVpRPAA1</td>\n",
       "      <td>False</td>\n",
       "      <td>NaN</td>\n",
       "      <td>a0r5w00000V42jDAAR</td>\n",
       "      <td>a0r5w00000V42jDAAR</td>\n",
       "      <td>307095.0</td>\n",
       "    </tr>\n",
       "    <tr>\n",
       "      <th>4999</th>\n",
       "      <td>eliaskaroui@gmail.com</td>\n",
       "      <td>0035w00003HVpuvAAD</td>\n",
       "      <td>False</td>\n",
       "      <td>NaN</td>\n",
       "      <td>NaN</td>\n",
       "      <td></td>\n",
       "      <td>307093.0</td>\n",
       "    </tr>\n",
       "  </tbody>\n",
       "</table>\n",
       "</div>"
      ],
      "text/plain": [
       "                        Email                  Id  Organization_Conflict__c  \\\n",
       "4996  subrata.niser@gmail.com  0035w00003HVpuxAAD                     False   \n",
       "4997                      NaN  0035w00003HVpuwAAD                     False   \n",
       "4998    wendy.barnard@asu.edu  0035w00003HVpRPAA1                     False   \n",
       "4999    eliaskaroui@gmail.com  0035w00003HVpuvAAD                     False   \n",
       "\n",
       "     Organization__c Organization_composite__c Organization_email_derived__c  \\\n",
       "4996             NaN                       NaN                                 \n",
       "4997             NaN                       NaN                                 \n",
       "4998             NaN        a0r5w00000V42jDAAR            a0r5w00000V42jDAAR   \n",
       "4999             NaN                       NaN                                 \n",
       "\n",
       "      nanoHUB_user_ID__c  \n",
       "4996            307097.0  \n",
       "4997            307096.0  \n",
       "4998            307095.0  \n",
       "4999            307093.0  "
      ]
     },
     "metadata": {},
     "output_type": "display_data"
    }
   ],
   "source": [
    "## Compare the SF indexes of NH determined organization against that of Organization_email_derived__c\n",
    "email_orgs = contact_org_df['Organization_email_derived__c']\n",
    "\n",
    "for i,j in enumerate(nh_orgs.to_list()):\n",
    "    if j != ' ' and email_orgs[i] == ' ':\n",
    "        # nanohub org overwrites all other org flags\n",
    "        contact_org_df['Organization_composite__c'][i] = j\n",
    "    elif j != ' ' and j != email_orgs[i]:\n",
    "        contact_org_df['Organization_Conflict__c'][i] = True\n",
    "        contact_org_df['Organization_composite__c'][i] = j\n",
    "\n",
    "    elif j != ' ' and j == email_orgs[i]:\n",
    "        contact_org_df['Organization_Conflict__c'][i] = False\n",
    "        contact_org_df['Organization_composite__c'][i] = j\n",
    "\n",
    "        \n",
    "display(contact_org_df.head(4))\n",
    "display(contact_org_df.tail(4))"
   ]
  },
  {
   "cell_type": "code",
   "execution_count": 16,
   "metadata": {
    "execution": {
     "iopub.execute_input": "2021-01-21T08:30:29.423127Z",
     "iopub.status.busy": "2021-01-21T08:30:29.422579Z",
     "iopub.status.idle": "2021-01-21T08:30:29.425385Z",
     "shell.execute_reply": "2021-01-21T08:30:29.424779Z"
    },
    "papermill": {
     "duration": 0.032794,
     "end_time": "2021-01-21T08:30:29.425510",
     "exception": false,
     "start_time": "2021-01-21T08:30:29.392716",
     "status": "completed"
    },
    "tags": []
   },
   "outputs": [],
   "source": [
    "contact_org_df = contact_org_df.drop(columns='Id')"
   ]
  },
  {
   "cell_type": "code",
   "execution_count": 17,
   "metadata": {
    "execution": {
     "iopub.execute_input": "2021-01-21T08:30:29.485106Z",
     "iopub.status.busy": "2021-01-21T08:30:29.484549Z",
     "iopub.status.idle": "2021-01-21T08:30:29.487745Z",
     "shell.execute_reply": "2021-01-21T08:30:29.488340Z"
    },
    "papermill": {
     "duration": 0.038737,
     "end_time": "2021-01-21T08:30:29.488506",
     "exception": false,
     "start_time": "2021-01-21T08:30:29.449769",
     "status": "completed"
    },
    "tags": []
   },
   "outputs": [
    {
     "data": {
      "text/html": [
       "<div>\n",
       "<style scoped>\n",
       "    .dataframe tbody tr th:only-of-type {\n",
       "        vertical-align: middle;\n",
       "    }\n",
       "\n",
       "    .dataframe tbody tr th {\n",
       "        vertical-align: top;\n",
       "    }\n",
       "\n",
       "    .dataframe thead th {\n",
       "        text-align: right;\n",
       "    }\n",
       "</style>\n",
       "<table border=\"1\" class=\"dataframe\">\n",
       "  <thead>\n",
       "    <tr style=\"text-align: right;\">\n",
       "      <th></th>\n",
       "      <th>Email</th>\n",
       "      <th>Organization_Conflict__c</th>\n",
       "      <th>Organization__c</th>\n",
       "      <th>Organization_composite__c</th>\n",
       "      <th>Organization_email_derived__c</th>\n",
       "      <th>nanoHUB_user_ID__c</th>\n",
       "    </tr>\n",
       "  </thead>\n",
       "  <tbody>\n",
       "    <tr>\n",
       "      <th>0</th>\n",
       "      <td>lisagundy@arizona.edu</td>\n",
       "      <td>False</td>\n",
       "      <td>NaN</td>\n",
       "      <td>NaN</td>\n",
       "      <td>a0r5w00000V433WAAR</td>\n",
       "      <td>NaN</td>\n",
       "    </tr>\n",
       "    <tr>\n",
       "      <th>1</th>\n",
       "      <td>asdf1234@invalidaddress5.org</td>\n",
       "      <td>False</td>\n",
       "      <td>NaN</td>\n",
       "      <td>NaN</td>\n",
       "      <td>NaN</td>\n",
       "      <td>NaN</td>\n",
       "    </tr>\n",
       "  </tbody>\n",
       "</table>\n",
       "</div>"
      ],
      "text/plain": [
       "                          Email  Organization_Conflict__c Organization__c  \\\n",
       "0         lisagundy@arizona.edu                     False             NaN   \n",
       "1  asdf1234@invalidaddress5.org                     False             NaN   \n",
       "\n",
       "  Organization_composite__c Organization_email_derived__c  nanoHUB_user_ID__c  \n",
       "0                       NaN            a0r5w00000V433WAAR                 NaN  \n",
       "1                       NaN                           NaN                 NaN  "
      ]
     },
     "metadata": {},
     "output_type": "display_data"
    }
   ],
   "source": [
    "display(contact_org_df.head(2))"
   ]
  },
  {
   "cell_type": "code",
   "execution_count": 18,
   "metadata": {
    "execution": {
     "iopub.execute_input": "2021-01-21T08:30:29.545628Z",
     "iopub.status.busy": "2021-01-21T08:30:29.545080Z",
     "iopub.status.idle": "2021-01-21T08:30:29.548520Z",
     "shell.execute_reply": "2021-01-21T08:30:29.548919Z"
    },
    "papermill": {
     "duration": 0.035486,
     "end_time": "2021-01-21T08:30:29.549076",
     "exception": false,
     "start_time": "2021-01-21T08:30:29.513590",
     "status": "completed"
    },
    "tags": []
   },
   "outputs": [
    {
     "name": "stderr",
     "output_type": "stream",
     "text": [
      "/home/users/wang2506/anaconda3/lib/python3.7/site-packages/ipykernel_launcher.py:5: SettingWithCopyWarning: \n",
      "A value is trying to be set on a copy of a slice from a DataFrame\n",
      "\n",
      "See the caveats in the documentation: https://pandas.pydata.org/pandas-docs/stable/user_guide/indexing.html#returning-a-view-versus-a-copy\n",
      "  \"\"\"\n"
     ]
    }
   ],
   "source": [
    "## fixing commercial email hosts - zero out both Organization_composite__c and Organization_email_derived__c  \n",
    "indices = [i for i, x in enumerate(user_domains.to_list()) if x == ' ']\n",
    "\n",
    "#contact_org_df['Organization_composite__c'][indices] = ' '\n",
    "contact_org_df['Organization_email_derived__c'][indices] = ' '\n"
   ]
  },
  {
   "cell_type": "code",
   "execution_count": 19,
   "metadata": {
    "execution": {
     "iopub.execute_input": "2021-01-21T08:30:29.619326Z",
     "iopub.status.busy": "2021-01-21T08:30:29.618713Z",
     "iopub.status.idle": "2021-01-21T08:30:29.620964Z",
     "shell.execute_reply": "2021-01-21T08:30:29.621390Z"
    },
    "papermill": {
     "duration": 0.047271,
     "end_time": "2021-01-21T08:30:29.621553",
     "exception": false,
     "start_time": "2021-01-21T08:30:29.574282",
     "status": "completed"
    },
    "tags": []
   },
   "outputs": [],
   "source": [
    "## all_org_df - find all commercial names that correspond to a commerical email domain\n",
    "nh_domains = all_org_df['Domain__c'].to_list()\n",
    "nh_cdi = [] #cdi = commercial domain indexes\n",
    "\n",
    "for i,j in enumerate(nh_domains):\n",
    "    if j in cdomains.domains:\n",
    "        nh_cdi.append(i)\n"
   ]
  },
  {
   "cell_type": "code",
   "execution_count": 20,
   "metadata": {
    "execution": {
     "iopub.execute_input": "2021-01-21T08:30:29.678444Z",
     "iopub.status.busy": "2021-01-21T08:30:29.677862Z",
     "iopub.status.idle": "2021-01-21T08:30:29.686087Z",
     "shell.execute_reply": "2021-01-21T08:30:29.686522Z"
    },
    "papermill": {
     "duration": 0.038903,
     "end_time": "2021-01-21T08:30:29.686681",
     "exception": false,
     "start_time": "2021-01-21T08:30:29.647778",
     "status": "completed"
    },
    "tags": []
   },
   "outputs": [
    {
     "data": {
      "text/html": [
       "<div>\n",
       "<style scoped>\n",
       "    .dataframe tbody tr th:only-of-type {\n",
       "        vertical-align: middle;\n",
       "    }\n",
       "\n",
       "    .dataframe tbody tr th {\n",
       "        vertical-align: top;\n",
       "    }\n",
       "\n",
       "    .dataframe thead th {\n",
       "        text-align: right;\n",
       "    }\n",
       "</style>\n",
       "<table border=\"1\" class=\"dataframe\">\n",
       "  <thead>\n",
       "    <tr style=\"text-align: right;\">\n",
       "      <th></th>\n",
       "      <th>Domain__c</th>\n",
       "      <th>Id</th>\n",
       "      <th>Name</th>\n",
       "    </tr>\n",
       "  </thead>\n",
       "  <tbody>\n",
       "    <tr>\n",
       "      <th>13</th>\n",
       "      <td>yahoo.com</td>\n",
       "      <td>a0r5w00000V42iXAAR</td>\n",
       "      <td>yahoo</td>\n",
       "    </tr>\n",
       "    <tr>\n",
       "      <th>24</th>\n",
       "      <td>aol.com</td>\n",
       "      <td>a0r5w00000V42iiAAB</td>\n",
       "      <td>aol</td>\n",
       "    </tr>\n",
       "  </tbody>\n",
       "</table>\n",
       "</div>"
      ],
      "text/plain": [
       "    Domain__c                  Id   Name\n",
       "13  yahoo.com  a0r5w00000V42iXAAR  yahoo\n",
       "24    aol.com  a0r5w00000V42iiAAB    aol"
      ]
     },
     "metadata": {},
     "output_type": "display_data"
    }
   ],
   "source": [
    "nh_c_all = all_org_df.iloc[nh_cdi,:]\n",
    "\n",
    "display(nh_c_all.head(2))\n",
    "nh_c_all = nh_c_all['Id'].to_list()"
   ]
  },
  {
   "cell_type": "code",
   "execution_count": 21,
   "metadata": {
    "execution": {
     "iopub.execute_input": "2021-01-21T08:30:29.745882Z",
     "iopub.status.busy": "2021-01-21T08:30:29.745329Z",
     "iopub.status.idle": "2021-01-21T08:30:29.778199Z",
     "shell.execute_reply": "2021-01-21T08:30:29.777562Z"
    },
    "papermill": {
     "duration": 0.065513,
     "end_time": "2021-01-21T08:30:29.778374",
     "exception": false,
     "start_time": "2021-01-21T08:30:29.712861",
     "status": "completed"
    },
    "tags": []
   },
   "outputs": [],
   "source": [
    "## go through every single composite organization, and ensure that they are all non-commercial\n",
    "composite_org_verify = contact_org_df['Organization_composite__c'][indices].to_list()\n",
    "\n",
    "for i,j in enumerate(composite_org_verify):\n",
    "    if j in nh_c_all:\n",
    "        contact_org_df.iloc[i,3] = ' '\n"
   ]
  },
  {
   "cell_type": "code",
   "execution_count": 22,
   "metadata": {
    "execution": {
     "iopub.execute_input": "2021-01-21T08:30:29.846918Z",
     "iopub.status.busy": "2021-01-21T08:30:29.835307Z",
     "iopub.status.idle": "2021-01-21T08:30:29.850849Z",
     "shell.execute_reply": "2021-01-21T08:30:29.850409Z"
    },
    "papermill": {
     "duration": 0.046193,
     "end_time": "2021-01-21T08:30:29.850987",
     "exception": false,
     "start_time": "2021-01-21T08:30:29.804794",
     "status": "completed"
    },
    "scrolled": false,
    "tags": []
   },
   "outputs": [
    {
     "data": {
      "text/html": [
       "<div>\n",
       "<style scoped>\n",
       "    .dataframe tbody tr th:only-of-type {\n",
       "        vertical-align: middle;\n",
       "    }\n",
       "\n",
       "    .dataframe tbody tr th {\n",
       "        vertical-align: top;\n",
       "    }\n",
       "\n",
       "    .dataframe thead th {\n",
       "        text-align: right;\n",
       "    }\n",
       "</style>\n",
       "<table border=\"1\" class=\"dataframe\">\n",
       "  <thead>\n",
       "    <tr style=\"text-align: right;\">\n",
       "      <th></th>\n",
       "      <th>Email</th>\n",
       "      <th>Organization_Conflict__c</th>\n",
       "      <th>Organization__c</th>\n",
       "      <th>Organization_composite__c</th>\n",
       "      <th>Organization_email_derived__c</th>\n",
       "      <th>nanoHUB_user_ID__c</th>\n",
       "    </tr>\n",
       "  </thead>\n",
       "  <tbody>\n",
       "    <tr>\n",
       "      <th>0</th>\n",
       "      <td>lisagundy@arizona.edu</td>\n",
       "      <td>False</td>\n",
       "      <td>NaN</td>\n",
       "      <td>NaN</td>\n",
       "      <td>a0r5w00000V433WAAR</td>\n",
       "      <td>NaN</td>\n",
       "    </tr>\n",
       "    <tr>\n",
       "      <th>1</th>\n",
       "      <td>asdf1234@invalidaddress5.org</td>\n",
       "      <td>False</td>\n",
       "      <td>NaN</td>\n",
       "      <td>NaN</td>\n",
       "      <td>NaN</td>\n",
       "      <td>NaN</td>\n",
       "    </tr>\n",
       "    <tr>\n",
       "      <th>2</th>\n",
       "      <td>defnitelynotanemail7193@purdue.edu</td>\n",
       "      <td>False</td>\n",
       "      <td>NaN</td>\n",
       "      <td>NaN</td>\n",
       "      <td>a0r5w00000V42cCAAR</td>\n",
       "      <td>NaN</td>\n",
       "    </tr>\n",
       "    <tr>\n",
       "      <th>3</th>\n",
       "      <td>lbaker@kellpartners.com</td>\n",
       "      <td>False</td>\n",
       "      <td>NaN</td>\n",
       "      <td>NaN</td>\n",
       "      <td>NaN</td>\n",
       "      <td>NaN</td>\n",
       "    </tr>\n",
       "    <tr>\n",
       "      <th>4</th>\n",
       "      <td>amy.morgan@northwestern.edu</td>\n",
       "      <td>False</td>\n",
       "      <td>NaN</td>\n",
       "      <td>NaN</td>\n",
       "      <td>a0r5w00000V42ikAAB</td>\n",
       "      <td>NaN</td>\n",
       "    </tr>\n",
       "    <tr>\n",
       "      <th>...</th>\n",
       "      <td>...</td>\n",
       "      <td>...</td>\n",
       "      <td>...</td>\n",
       "      <td>...</td>\n",
       "      <td>...</td>\n",
       "      <td>...</td>\n",
       "    </tr>\n",
       "    <tr>\n",
       "      <th>95</th>\n",
       "      <td>nada_kh98@hotmail.com</td>\n",
       "      <td>False</td>\n",
       "      <td>NaN</td>\n",
       "      <td>NaN</td>\n",
       "      <td></td>\n",
       "      <td>313344.0</td>\n",
       "    </tr>\n",
       "    <tr>\n",
       "      <th>96</th>\n",
       "      <td>maldacena1984@gmail.com</td>\n",
       "      <td>False</td>\n",
       "      <td>NaN</td>\n",
       "      <td>NaN</td>\n",
       "      <td></td>\n",
       "      <td>313342.0</td>\n",
       "    </tr>\n",
       "    <tr>\n",
       "      <th>97</th>\n",
       "      <td>sssd.john@gmail.com</td>\n",
       "      <td>False</td>\n",
       "      <td>NaN</td>\n",
       "      <td>NaN</td>\n",
       "      <td></td>\n",
       "      <td>313341.0</td>\n",
       "    </tr>\n",
       "    <tr>\n",
       "      <th>98</th>\n",
       "      <td>NaN</td>\n",
       "      <td>False</td>\n",
       "      <td>NaN</td>\n",
       "      <td>NaN</td>\n",
       "      <td></td>\n",
       "      <td>313340.0</td>\n",
       "    </tr>\n",
       "    <tr>\n",
       "      <th>99</th>\n",
       "      <td>laangzawaters0@gmail.com</td>\n",
       "      <td>False</td>\n",
       "      <td>NaN</td>\n",
       "      <td>NaN</td>\n",
       "      <td></td>\n",
       "      <td>313339.0</td>\n",
       "    </tr>\n",
       "  </tbody>\n",
       "</table>\n",
       "<p>100 rows × 6 columns</p>\n",
       "</div>"
      ],
      "text/plain": [
       "                                 Email  Organization_Conflict__c  \\\n",
       "0                lisagundy@arizona.edu                     False   \n",
       "1         asdf1234@invalidaddress5.org                     False   \n",
       "2   defnitelynotanemail7193@purdue.edu                     False   \n",
       "3              lbaker@kellpartners.com                     False   \n",
       "4          amy.morgan@northwestern.edu                     False   \n",
       "..                                 ...                       ...   \n",
       "95               nada_kh98@hotmail.com                     False   \n",
       "96             maldacena1984@gmail.com                     False   \n",
       "97                 sssd.john@gmail.com                     False   \n",
       "98                                 NaN                     False   \n",
       "99            laangzawaters0@gmail.com                     False   \n",
       "\n",
       "   Organization__c Organization_composite__c Organization_email_derived__c  \\\n",
       "0              NaN                       NaN            a0r5w00000V433WAAR   \n",
       "1              NaN                       NaN                           NaN   \n",
       "2              NaN                       NaN            a0r5w00000V42cCAAR   \n",
       "3              NaN                       NaN                           NaN   \n",
       "4              NaN                       NaN            a0r5w00000V42ikAAB   \n",
       "..             ...                       ...                           ...   \n",
       "95             NaN                       NaN                                 \n",
       "96             NaN                       NaN                                 \n",
       "97             NaN                       NaN                                 \n",
       "98             NaN                       NaN                                 \n",
       "99             NaN                       NaN                                 \n",
       "\n",
       "    nanoHUB_user_ID__c  \n",
       "0                  NaN  \n",
       "1                  NaN  \n",
       "2                  NaN  \n",
       "3                  NaN  \n",
       "4                  NaN  \n",
       "..                 ...  \n",
       "95            313344.0  \n",
       "96            313342.0  \n",
       "97            313341.0  \n",
       "98            313340.0  \n",
       "99            313339.0  \n",
       "\n",
       "[100 rows x 6 columns]"
      ]
     },
     "metadata": {},
     "output_type": "display_data"
    }
   ],
   "source": [
    "display(contact_org_df.head(100))"
   ]
  },
  {
   "cell_type": "code",
   "execution_count": null,
   "metadata": {
    "papermill": {
     "duration": 0.026084,
     "end_time": "2021-01-21T08:30:29.903478",
     "exception": false,
     "start_time": "2021-01-21T08:30:29.877394",
     "status": "completed"
    },
    "tags": []
   },
   "outputs": [],
   "source": []
  },
  {
   "cell_type": "markdown",
   "metadata": {
    "papermill": {
     "duration": 0.026798,
     "end_time": "2021-01-21T08:30:29.956729",
     "exception": false,
     "start_time": "2021-01-21T08:30:29.929931",
     "status": "completed"
    },
    "tags": []
   },
   "source": [
    "## To Salesforce Sales Cloud CRM"
   ]
  },
  {
   "cell_type": "code",
   "execution_count": 23,
   "metadata": {
    "execution": {
     "iopub.execute_input": "2021-01-21T08:30:30.017241Z",
     "iopub.status.busy": "2021-01-21T08:30:30.016681Z",
     "iopub.status.idle": "2021-01-21T08:30:30.279576Z",
     "shell.execute_reply": "2021-01-21T08:30:30.279110Z"
    },
    "papermill": {
     "duration": 0.296984,
     "end_time": "2021-01-21T08:30:30.279712",
     "exception": false,
     "start_time": "2021-01-21T08:30:29.982728",
     "status": "completed"
    },
    "tags": []
   },
   "outputs": [
    {
     "name": "stdout",
     "output_type": "stream",
     "text": [
      "Obtained Salesforce access token ...... True\n"
     ]
    }
   ],
   "source": [
    "\n",
    "# create DB2 to Salesforce API object\n",
    "db_s = salesforce\n",
    "\n",
    "# specify Salesforce object ID and external ID\n",
    "db_s.object_id = object_id\n",
    "db_s.external_id = external_id"
   ]
  },
  {
   "cell_type": "code",
   "execution_count": 24,
   "metadata": {
    "execution": {
     "iopub.execute_input": "2021-01-21T08:30:30.340740Z",
     "iopub.status.busy": "2021-01-21T08:30:30.340163Z",
     "iopub.status.idle": "2021-01-21T08:30:31.475546Z",
     "shell.execute_reply": "2021-01-21T08:30:31.474834Z"
    },
    "papermill": {
     "duration": 1.167248,
     "end_time": "2021-01-21T08:30:31.475678",
     "exception": false,
     "start_time": "2021-01-21T08:30:30.308430",
     "status": "completed"
    },
    "tags": []
   },
   "outputs": [
    {
     "name": "stdout",
     "output_type": "stream",
     "text": [
      "[Success] Bulk job creation successful. Job ID = 7505w00000TmKAWAA3\n",
      "hello\n",
      "[Success] CSV upload successful. Job ID = 7505w00000TmKAWAA3\n",
      "[Success] Closing job successful. Job ID = 7505w00000TmKAWAA3\n"
     ]
    }
   ],
   "source": [
    "# send data to Salesforce\n",
    "db_s.send_data(contact_org_df)"
   ]
  },
  {
   "cell_type": "code",
   "execution_count": 25,
   "metadata": {
    "execution": {
     "iopub.execute_input": "2021-01-21T08:30:31.536864Z",
     "iopub.status.busy": "2021-01-21T08:30:31.536337Z",
     "iopub.status.idle": "2021-01-21T08:30:31.886780Z",
     "shell.execute_reply": "2021-01-21T08:30:31.886206Z"
    },
    "papermill": {
     "duration": 0.383409,
     "end_time": "2021-01-21T08:30:31.886910",
     "exception": false,
     "start_time": "2021-01-21T08:30:31.503501",
     "status": "completed"
    },
    "tags": []
   },
   "outputs": [
    {
     "data": {
      "text/plain": [
       "{'id': '7505w00000TmKAWAA3',\n",
       " 'operation': 'upsert',\n",
       " 'object': 'Contact',\n",
       " 'createdById': '0055w00000DM5bOAAT',\n",
       " 'createdDate': '2021-01-21T08:30:30.000+0000',\n",
       " 'systemModstamp': '2021-01-21T08:30:31.000+0000',\n",
       " 'state': 'InProgress',\n",
       " 'externalIdFieldName': 'nanoHUB_user_ID__c',\n",
       " 'concurrencyMode': 'Parallel',\n",
       " 'contentType': 'CSV',\n",
       " 'apiVersion': 47.0,\n",
       " 'jobType': 'V2Ingest',\n",
       " 'lineEnding': 'LF',\n",
       " 'columnDelimiter': 'COMMA',\n",
       " 'numberRecordsProcessed': 0,\n",
       " 'numberRecordsFailed': 0,\n",
       " 'retries': 0,\n",
       " 'totalProcessingTime': 0,\n",
       " 'apiActiveProcessingTime': 0,\n",
       " 'apexProcessingTime': 0}"
      ]
     },
     "execution_count": 25,
     "metadata": {},
     "output_type": "execute_result"
    }
   ],
   "source": [
    "# check status\n",
    "db_s.check_bulk_status()"
   ]
  },
  {
   "cell_type": "code",
   "execution_count": 26,
   "metadata": {
    "execution": {
     "iopub.execute_input": "2021-01-21T08:30:31.949653Z",
     "iopub.status.busy": "2021-01-21T08:30:31.948807Z",
     "iopub.status.idle": "2021-01-21T08:30:32.088805Z",
     "shell.execute_reply": "2021-01-21T08:30:32.089282Z"
    },
    "papermill": {
     "duration": 0.173461,
     "end_time": "2021-01-21T08:30:32.089446",
     "exception": false,
     "start_time": "2021-01-21T08:30:31.915985",
     "status": "completed"
    },
    "scrolled": true,
    "tags": []
   },
   "outputs": [
    {
     "name": "stdout",
     "output_type": "stream",
     "text": [
      "''\n"
     ]
    }
   ],
   "source": [
    "from pprint import pprint\n",
    "pprint(db_s.check_bulk_failed_results())"
   ]
  },
  {
   "cell_type": "code",
   "execution_count": null,
   "metadata": {
    "papermill": {
     "duration": 0.027422,
     "end_time": "2021-01-21T08:30:32.144051",
     "exception": false,
     "start_time": "2021-01-21T08:30:32.116629",
     "status": "completed"
    },
    "tags": []
   },
   "outputs": [],
   "source": []
  },
  {
   "cell_type": "code",
   "execution_count": null,
   "metadata": {
    "papermill": {
     "duration": 0.049875,
     "end_time": "2021-01-21T08:30:32.222673",
     "exception": false,
     "start_time": "2021-01-21T08:30:32.172798",
     "status": "completed"
    },
    "tags": []
   },
   "outputs": [],
   "source": []
  }
 ],
 "metadata": {
  "celltoolbar": "Tags",
  "kernelspec": {
   "display_name": "Python 3",
   "language": "python",
   "name": "python3"
  },
  "language_info": {
   "codemirror_mode": {
    "name": "ipython",
    "version": 3
   },
   "file_extension": ".py",
   "mimetype": "text/x-python",
   "name": "python",
   "nbconvert_exporter": "python",
   "pygments_lexer": "ipython3",
   "version": "3.7.10"
  },
  "papermill": {
   "duration": 29.705327,
   "end_time": "2021-01-21T08:30:32.565641",
   "environment_variables": {},
   "exception": null,
   "input_path": "/home/users/wang2506/nanohub_salesforce_integ/salesforce/task_user_org_reclass.ipynb",
   "output_path": "/home/users/wang2506/nanohub_salesforce_integ/salesforce/task_user_org_reclass.ipynb",
   "parameters": {},
   "start_time": "2021-01-21T08:30:02.860314",
   "version": "2.1.1"
  }
 },
 "nbformat": 4,
 "nbformat_minor": 4
}