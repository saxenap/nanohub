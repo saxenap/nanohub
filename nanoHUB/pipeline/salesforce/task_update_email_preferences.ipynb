{
 "cells": [
  {
   "cell_type": "markdown",
   "metadata": {
    "papermill": {
     "duration": 0.01243,
     "end_time": "2021-01-21T08:30:03.544343",
     "exception": false,
     "start_time": "2021-01-21T08:30:03.531913",
     "status": "completed"
    },
    "tags": []
   },
   "source": [
    "# DB2-Salesforce connector: pull in new email flags from DB2"
   ]
  },
  {
   "cell_type": "code",
   "execution_count": 1,
   "metadata": {
    "execution": {
     "iopub.execute_input": "2021-01-21T08:30:03.570538Z",
     "iopub.status.busy": "2021-01-21T08:30:03.569905Z",
     "iopub.status.idle": "2021-01-21T08:30:03.573445Z",
     "shell.execute_reply": "2021-01-21T08:30:03.573841Z"
    },
    "papermill": {
     "duration": 0.019334,
     "end_time": "2021-01-21T08:30:03.574047",
     "exception": false,
     "start_time": "2021-01-21T08:30:03.554713",
     "status": "completed"
    },
    "tags": []
   },
   "outputs": [],
   "source": [
    "# Parameters\n",
    "# API settings\n",
    "api_url = '/services/data/v43.0/sobjects'\n",
    "external_id = 'nanoHUB_user_ID__c'\n",
    "object_id = 'Contact'\n",
    "\n",
    "# login parameters to be handled by Papermill\n",
    "from nanoHUB.pipeline.application import Application\n",
    "\n",
    "application = Application.get_instance()\n",
    "nanohub_db = application.new_db_engine('nanohub')\n",
    "\n",
    "salesforce = application.new_salesforce_engine()\n",
    "db_s = salesforce"
   ]
  },
  {
   "cell_type": "code",
   "execution_count": 2,
   "metadata": {
    "execution": {
     "iopub.execute_input": "2021-01-21T08:30:03.605931Z",
     "iopub.status.busy": "2021-01-21T08:30:03.603663Z",
     "iopub.status.idle": "2021-01-21T08:30:03.874627Z",
     "shell.execute_reply": "2021-01-21T08:30:03.874072Z"
    },
    "papermill": {
     "duration": 0.290721,
     "end_time": "2021-01-21T08:30:03.874764",
     "exception": false,
     "start_time": "2021-01-21T08:30:03.584043",
     "status": "completed"
    },
    "tags": []
   },
   "outputs": [],
   "source": [
    "import pandas as pd\n",
    "import datetime"
   ]
  },
  {
   "cell_type": "markdown",
   "metadata": {
    "papermill": {
     "duration": 0.010075,
     "end_time": "2021-01-21T08:30:03.895209",
     "exception": false,
     "start_time": "2021-01-21T08:30:03.885134",
     "status": "completed"
    },
    "tags": []
   },
   "source": [
    "## Get the latest email opt in/out data from DB2\n"
   ]
  },
  {
   "cell_type": "code",
   "execution_count": 3,
   "metadata": {
    "execution": {
     "iopub.execute_input": "2021-01-21T08:30:03.921113Z",
     "iopub.status.busy": "2021-01-21T08:30:03.920495Z",
     "iopub.status.idle": "2021-01-21T08:30:14.543822Z",
     "shell.execute_reply": "2021-01-21T08:30:14.543285Z"
    },
    "papermill": {
     "duration": 10.638574,
     "end_time": "2021-01-21T08:30:14.543957",
     "exception": false,
     "start_time": "2021-01-21T08:30:03.905383",
     "status": "completed"
    },
    "tags": []
   },
   "outputs": [],
   "source": [
    "# get new preferences for users\n",
    "pcomms = pd.read_sql_query(\"select id, user_id, profile_key, profile_value from jos_user_profiles \\\n",
    "where profile_key in ('personalizedcommunication');\",nanohub_db)#order by rand() limit 50000;\",engine) #and modifiedDate >= '2019-08-08'\n",
    "\n",
    "up_news = pd.read_sql_query(\"select id, user_id, profile_key, profile_value from jos_user_profiles \\\n",
    "where profile_key in ('updates_news');\",nanohub_db) #order by rand() limit 50000;\",engine)"
   ]
  },
  {
   "cell_type": "code",
   "execution_count": 4,
   "metadata": {
    "execution": {
     "iopub.execute_input": "2021-01-21T08:30:14.577828Z",
     "iopub.status.busy": "2021-01-21T08:30:14.577275Z",
     "iopub.status.idle": "2021-01-21T08:30:14.598523Z",
     "shell.execute_reply": "2021-01-21T08:30:14.598936Z"
    },
    "papermill": {
     "duration": 0.044439,
     "end_time": "2021-01-21T08:30:14.599102",
     "exception": false,
     "start_time": "2021-01-21T08:30:14.554663",
     "status": "completed"
    },
    "tags": []
   },
   "outputs": [
    {
     "data": {
      "text/html": [
       "<div>\n",
       "<style scoped>\n",
       "    .dataframe tbody tr th:only-of-type {\n",
       "        vertical-align: middle;\n",
       "    }\n",
       "\n",
       "    .dataframe tbody tr th {\n",
       "        vertical-align: top;\n",
       "    }\n",
       "\n",
       "    .dataframe thead th {\n",
       "        text-align: right;\n",
       "    }\n",
       "</style>\n",
       "<table border=\"1\" class=\"dataframe\">\n",
       "  <thead>\n",
       "    <tr style=\"text-align: right;\">\n",
       "      <th></th>\n",
       "      <th>id</th>\n",
       "      <th>user_id</th>\n",
       "      <th>profile_key</th>\n",
       "      <th>profile_value</th>\n",
       "    </tr>\n",
       "  </thead>\n",
       "  <tbody>\n",
       "    <tr>\n",
       "      <th>0</th>\n",
       "      <td>1524493</td>\n",
       "      <td>998</td>\n",
       "      <td>personalizedcommunication</td>\n",
       "      <td>Yes, I would like to receive personalized comm...</td>\n",
       "    </tr>\n",
       "    <tr>\n",
       "      <th>1</th>\n",
       "      <td>1524495</td>\n",
       "      <td>1000</td>\n",
       "      <td>personalizedcommunication</td>\n",
       "      <td>Yes, I would like to receive personalized comm...</td>\n",
       "    </tr>\n",
       "  </tbody>\n",
       "</table>\n",
       "</div>"
      ],
      "text/plain": [
       "        id  user_id                profile_key  \\\n",
       "0  1524493      998  personalizedcommunication   \n",
       "1  1524495     1000  personalizedcommunication   \n",
       "\n",
       "                                       profile_value  \n",
       "0  Yes, I would like to receive personalized comm...  \n",
       "1  Yes, I would like to receive personalized comm...  "
      ]
     },
     "metadata": {},
     "output_type": "display_data"
    },
    {
     "data": {
      "text/html": [
       "<div>\n",
       "<style scoped>\n",
       "    .dataframe tbody tr th:only-of-type {\n",
       "        vertical-align: middle;\n",
       "    }\n",
       "\n",
       "    .dataframe tbody tr th {\n",
       "        vertical-align: top;\n",
       "    }\n",
       "\n",
       "    .dataframe thead th {\n",
       "        text-align: right;\n",
       "    }\n",
       "</style>\n",
       "<table border=\"1\" class=\"dataframe\">\n",
       "  <thead>\n",
       "    <tr style=\"text-align: right;\">\n",
       "      <th></th>\n",
       "      <th>id</th>\n",
       "      <th>user_id</th>\n",
       "      <th>profile_key</th>\n",
       "      <th>profile_value</th>\n",
       "    </tr>\n",
       "  </thead>\n",
       "  <tbody>\n",
       "    <tr>\n",
       "      <th>229047</th>\n",
       "      <td>2059137</td>\n",
       "      <td>313432</td>\n",
       "      <td>personalizedcommunication</td>\n",
       "      <td>No, I do not want to receive personalized comm...</td>\n",
       "    </tr>\n",
       "    <tr>\n",
       "      <th>229048</th>\n",
       "      <td>2059142</td>\n",
       "      <td>313433</td>\n",
       "      <td>personalizedcommunication</td>\n",
       "      <td>Yes, I would like to receive personalized comm...</td>\n",
       "    </tr>\n",
       "  </tbody>\n",
       "</table>\n",
       "</div>"
      ],
      "text/plain": [
       "             id  user_id                profile_key  \\\n",
       "229047  2059137   313432  personalizedcommunication   \n",
       "229048  2059142   313433  personalizedcommunication   \n",
       "\n",
       "                                            profile_value  \n",
       "229047  No, I do not want to receive personalized comm...  \n",
       "229048  Yes, I would like to receive personalized comm...  "
      ]
     },
     "metadata": {},
     "output_type": "display_data"
    },
    {
     "data": {
      "text/html": [
       "<div>\n",
       "<style scoped>\n",
       "    .dataframe tbody tr th:only-of-type {\n",
       "        vertical-align: middle;\n",
       "    }\n",
       "\n",
       "    .dataframe tbody tr th {\n",
       "        vertical-align: top;\n",
       "    }\n",
       "\n",
       "    .dataframe thead th {\n",
       "        text-align: right;\n",
       "    }\n",
       "</style>\n",
       "<table border=\"1\" class=\"dataframe\">\n",
       "  <thead>\n",
       "    <tr style=\"text-align: right;\">\n",
       "      <th></th>\n",
       "      <th>id</th>\n",
       "      <th>user_id</th>\n",
       "      <th>profile_key</th>\n",
       "      <th>profile_value</th>\n",
       "    </tr>\n",
       "  </thead>\n",
       "  <tbody>\n",
       "    <tr>\n",
       "      <th>0</th>\n",
       "      <td>1524494</td>\n",
       "      <td>998</td>\n",
       "      <td>updates_news</td>\n",
       "      <td>No, I do not want to receive updates and news</td>\n",
       "    </tr>\n",
       "    <tr>\n",
       "      <th>1</th>\n",
       "      <td>1524496</td>\n",
       "      <td>1000</td>\n",
       "      <td>updates_news</td>\n",
       "      <td>No, I do not want to receive updates and news</td>\n",
       "    </tr>\n",
       "  </tbody>\n",
       "</table>\n",
       "</div>"
      ],
      "text/plain": [
       "        id  user_id   profile_key  \\\n",
       "0  1524494      998  updates_news   \n",
       "1  1524496     1000  updates_news   \n",
       "\n",
       "                                   profile_value  \n",
       "0  No, I do not want to receive updates and news  \n",
       "1  No, I do not want to receive updates and news  "
      ]
     },
     "metadata": {},
     "output_type": "display_data"
    },
    {
     "data": {
      "text/html": [
       "<div>\n",
       "<style scoped>\n",
       "    .dataframe tbody tr th:only-of-type {\n",
       "        vertical-align: middle;\n",
       "    }\n",
       "\n",
       "    .dataframe tbody tr th {\n",
       "        vertical-align: top;\n",
       "    }\n",
       "\n",
       "    .dataframe thead th {\n",
       "        text-align: right;\n",
       "    }\n",
       "</style>\n",
       "<table border=\"1\" class=\"dataframe\">\n",
       "  <thead>\n",
       "    <tr style=\"text-align: right;\">\n",
       "      <th></th>\n",
       "      <th>id</th>\n",
       "      <th>user_id</th>\n",
       "      <th>profile_key</th>\n",
       "      <th>profile_value</th>\n",
       "    </tr>\n",
       "  </thead>\n",
       "  <tbody>\n",
       "    <tr>\n",
       "      <th>229048</th>\n",
       "      <td>2059138</td>\n",
       "      <td>313432</td>\n",
       "      <td>updates_news</td>\n",
       "      <td>No, I do not want to receive updates and news</td>\n",
       "    </tr>\n",
       "    <tr>\n",
       "      <th>229049</th>\n",
       "      <td>2059143</td>\n",
       "      <td>313433</td>\n",
       "      <td>updates_news</td>\n",
       "      <td>Yes, I would like to receive updates and news</td>\n",
       "    </tr>\n",
       "  </tbody>\n",
       "</table>\n",
       "</div>"
      ],
      "text/plain": [
       "             id  user_id   profile_key  \\\n",
       "229048  2059138   313432  updates_news   \n",
       "229049  2059143   313433  updates_news   \n",
       "\n",
       "                                        profile_value  \n",
       "229048  No, I do not want to receive updates and news  \n",
       "229049  Yes, I would like to receive updates and news  "
      ]
     },
     "metadata": {},
     "output_type": "display_data"
    }
   ],
   "source": [
    "display(pcomms.head(2))\n",
    "display(pcomms.tail(2))\n",
    "display(up_news.head(2))\n",
    "display(up_news.tail(2))"
   ]
  },
  {
   "cell_type": "code",
   "execution_count": 5,
   "metadata": {
    "execution": {
     "iopub.execute_input": "2021-01-21T08:30:14.629671Z",
     "iopub.status.busy": "2021-01-21T08:30:14.629065Z",
     "iopub.status.idle": "2021-01-21T08:30:14.632617Z",
     "shell.execute_reply": "2021-01-21T08:30:14.632199Z"
    },
    "papermill": {
     "duration": 0.019712,
     "end_time": "2021-01-21T08:30:14.632743",
     "exception": false,
     "start_time": "2021-01-21T08:30:14.613031",
     "status": "completed"
    },
    "tags": []
   },
   "outputs": [
    {
     "name": "stdout",
     "output_type": "stream",
     "text": [
      "(229049, 4)\n",
      "(229050, 4)\n"
     ]
    }
   ],
   "source": [
    "print(pcomms.shape)\n",
    "print(up_news.shape)"
   ]
  },
  {
   "cell_type": "code",
   "execution_count": 6,
   "metadata": {
    "execution": {
     "iopub.execute_input": "2021-01-21T08:30:14.663199Z",
     "iopub.status.busy": "2021-01-21T08:30:14.662612Z",
     "iopub.status.idle": "2021-01-21T08:30:14.684481Z",
     "shell.execute_reply": "2021-01-21T08:30:14.684940Z"
    },
    "papermill": {
     "duration": 0.040172,
     "end_time": "2021-01-21T08:30:14.685176",
     "exception": false,
     "start_time": "2021-01-21T08:30:14.645004",
     "status": "completed"
    },
    "tags": []
   },
   "outputs": [
    {
     "data": {
      "text/html": [
       "<div>\n",
       "<style scoped>\n",
       "    .dataframe tbody tr th:only-of-type {\n",
       "        vertical-align: middle;\n",
       "    }\n",
       "\n",
       "    .dataframe tbody tr th {\n",
       "        vertical-align: top;\n",
       "    }\n",
       "\n",
       "    .dataframe thead th {\n",
       "        text-align: right;\n",
       "    }\n",
       "</style>\n",
       "<table border=\"1\" class=\"dataframe\">\n",
       "  <thead>\n",
       "    <tr style=\"text-align: right;\">\n",
       "      <th></th>\n",
       "      <th>user_id</th>\n",
       "      <th>profile_value</th>\n",
       "    </tr>\n",
       "  </thead>\n",
       "  <tbody>\n",
       "    <tr>\n",
       "      <th>0</th>\n",
       "      <td>998</td>\n",
       "      <td>Yes, I would like to receive personalized comm...</td>\n",
       "    </tr>\n",
       "    <tr>\n",
       "      <th>1</th>\n",
       "      <td>1000</td>\n",
       "      <td>Yes, I would like to receive personalized comm...</td>\n",
       "    </tr>\n",
       "  </tbody>\n",
       "</table>\n",
       "</div>"
      ],
      "text/plain": [
       "   user_id                                      profile_value\n",
       "0      998  Yes, I would like to receive personalized comm...\n",
       "1     1000  Yes, I would like to receive personalized comm..."
      ]
     },
     "metadata": {},
     "output_type": "display_data"
    },
    {
     "data": {
      "text/html": [
       "<div>\n",
       "<style scoped>\n",
       "    .dataframe tbody tr th:only-of-type {\n",
       "        vertical-align: middle;\n",
       "    }\n",
       "\n",
       "    .dataframe tbody tr th {\n",
       "        vertical-align: top;\n",
       "    }\n",
       "\n",
       "    .dataframe thead th {\n",
       "        text-align: right;\n",
       "    }\n",
       "</style>\n",
       "<table border=\"1\" class=\"dataframe\">\n",
       "  <thead>\n",
       "    <tr style=\"text-align: right;\">\n",
       "      <th></th>\n",
       "      <th>user_id</th>\n",
       "      <th>profile_value</th>\n",
       "    </tr>\n",
       "  </thead>\n",
       "  <tbody>\n",
       "    <tr>\n",
       "      <th>0</th>\n",
       "      <td>998</td>\n",
       "      <td>No, I do not want to receive updates and news</td>\n",
       "    </tr>\n",
       "    <tr>\n",
       "      <th>1</th>\n",
       "      <td>1000</td>\n",
       "      <td>No, I do not want to receive updates and news</td>\n",
       "    </tr>\n",
       "  </tbody>\n",
       "</table>\n",
       "</div>"
      ],
      "text/plain": [
       "   user_id                                  profile_value\n",
       "0      998  No, I do not want to receive updates and news\n",
       "1     1000  No, I do not want to receive updates and news"
      ]
     },
     "metadata": {},
     "output_type": "display_data"
    }
   ],
   "source": [
    "## adjusting new_email dataframe for the new email optin values \n",
    "# 0 or 1\n",
    "pcomms_t = pcomms[['user_id','profile_value']]\n",
    "up_news_t = up_news[['user_id','profile_value']]\n",
    "\n",
    "display(pcomms_t.head(2))\n",
    "display(up_news_t.head(2))"
   ]
  },
  {
   "cell_type": "code",
   "execution_count": 7,
   "metadata": {
    "execution": {
     "iopub.execute_input": "2021-01-21T08:30:14.737424Z",
     "iopub.status.busy": "2021-01-21T08:30:14.726949Z",
     "iopub.status.idle": "2021-01-21T08:30:14.895398Z",
     "shell.execute_reply": "2021-01-21T08:30:14.894716Z"
    },
    "papermill": {
     "duration": 0.196221,
     "end_time": "2021-01-21T08:30:14.895525",
     "exception": false,
     "start_time": "2021-01-21T08:30:14.699304",
     "status": "completed"
    },
    "tags": []
   },
   "outputs": [
    {
     "name": "stderr",
     "output_type": "stream",
     "text": [
      "/home/users/wang2506/anaconda3/lib/python3.7/site-packages/pandas/core/indexing.py:965: SettingWithCopyWarning: \n",
      "A value is trying to be set on a copy of a slice from a DataFrame.\n",
      "Try using .loc[row_indexer,col_indexer] = value instead\n",
      "\n",
      "See the caveats in the documentation: https://pandas.pydata.org/pandas-docs/stable/user_guide/indexing.html#returning-a-view-versus-a-copy\n",
      "  self.obj[item] = s\n"
     ]
    }
   ],
   "source": [
    "## filtering pcomms_t with 0 or 1\n",
    "ptt = pcomms_t['profile_value'].to_list()\n",
    "\n",
    "for index, val in enumerate(ptt):\n",
    "    val = val.split(',')[0]\n",
    "    if val == 'Yes':\n",
    "        ptt[index] = 1 # 1 indicates opt-in\n",
    "    else:\n",
    "        ptt[index] = 0 # 1 indicates opt-out\n",
    "\n",
    "pcomms_t.loc[:,'profile_value'] = ptt\n"
   ]
  },
  {
   "cell_type": "code",
   "execution_count": 8,
   "metadata": {
    "execution": {
     "iopub.execute_input": "2021-01-21T08:30:14.978638Z",
     "iopub.status.busy": "2021-01-21T08:30:14.952919Z",
     "iopub.status.idle": "2021-01-21T08:30:15.103752Z",
     "shell.execute_reply": "2021-01-21T08:30:15.102977Z"
    },
    "papermill": {
     "duration": 0.194238,
     "end_time": "2021-01-21T08:30:15.103891",
     "exception": false,
     "start_time": "2021-01-21T08:30:14.909653",
     "status": "completed"
    },
    "tags": []
   },
   "outputs": [],
   "source": [
    "## filtering up news t with 0 or 1\n",
    "untt = up_news_t['profile_value'].to_list()\n",
    "\n",
    "for index, val in enumerate(untt):\n",
    "    val = val.split(',')[0]\n",
    "    if val == 'Yes':\n",
    "        untt[index] = 1 # 1 indicates opt-in\n",
    "    else:\n",
    "        untt[index] = 0 # 1 indicates opt-out\n",
    "\n",
    "up_news_t.loc[:,'profile_value'] = untt\n"
   ]
  },
  {
   "cell_type": "code",
   "execution_count": 9,
   "metadata": {
    "execution": {
     "iopub.execute_input": "2021-01-21T08:30:15.138475Z",
     "iopub.status.busy": "2021-01-21T08:30:15.137926Z",
     "iopub.status.idle": "2021-01-21T08:30:15.152048Z",
     "shell.execute_reply": "2021-01-21T08:30:15.151600Z"
    },
    "papermill": {
     "duration": 0.034836,
     "end_time": "2021-01-21T08:30:15.152454",
     "exception": false,
     "start_time": "2021-01-21T08:30:15.117618",
     "status": "completed"
    },
    "tags": []
   },
   "outputs": [
    {
     "data": {
      "text/html": [
       "<div>\n",
       "<style scoped>\n",
       "    .dataframe tbody tr th:only-of-type {\n",
       "        vertical-align: middle;\n",
       "    }\n",
       "\n",
       "    .dataframe tbody tr th {\n",
       "        vertical-align: top;\n",
       "    }\n",
       "\n",
       "    .dataframe thead th {\n",
       "        text-align: right;\n",
       "    }\n",
       "</style>\n",
       "<table border=\"1\" class=\"dataframe\">\n",
       "  <thead>\n",
       "    <tr style=\"text-align: right;\">\n",
       "      <th></th>\n",
       "      <th>user_id</th>\n",
       "      <th>profile_value</th>\n",
       "    </tr>\n",
       "  </thead>\n",
       "  <tbody>\n",
       "    <tr>\n",
       "      <th>0</th>\n",
       "      <td>998</td>\n",
       "      <td>1</td>\n",
       "    </tr>\n",
       "    <tr>\n",
       "      <th>1</th>\n",
       "      <td>1000</td>\n",
       "      <td>1</td>\n",
       "    </tr>\n",
       "  </tbody>\n",
       "</table>\n",
       "</div>"
      ],
      "text/plain": [
       "   user_id  profile_value\n",
       "0      998              1\n",
       "1     1000              1"
      ]
     },
     "metadata": {},
     "output_type": "display_data"
    },
    {
     "data": {
      "text/html": [
       "<div>\n",
       "<style scoped>\n",
       "    .dataframe tbody tr th:only-of-type {\n",
       "        vertical-align: middle;\n",
       "    }\n",
       "\n",
       "    .dataframe tbody tr th {\n",
       "        vertical-align: top;\n",
       "    }\n",
       "\n",
       "    .dataframe thead th {\n",
       "        text-align: right;\n",
       "    }\n",
       "</style>\n",
       "<table border=\"1\" class=\"dataframe\">\n",
       "  <thead>\n",
       "    <tr style=\"text-align: right;\">\n",
       "      <th></th>\n",
       "      <th>user_id</th>\n",
       "      <th>profile_value</th>\n",
       "    </tr>\n",
       "  </thead>\n",
       "  <tbody>\n",
       "    <tr>\n",
       "      <th>229047</th>\n",
       "      <td>313432</td>\n",
       "      <td>0</td>\n",
       "    </tr>\n",
       "    <tr>\n",
       "      <th>229048</th>\n",
       "      <td>313433</td>\n",
       "      <td>1</td>\n",
       "    </tr>\n",
       "  </tbody>\n",
       "</table>\n",
       "</div>"
      ],
      "text/plain": [
       "        user_id  profile_value\n",
       "229047   313432              0\n",
       "229048   313433              1"
      ]
     },
     "metadata": {},
     "output_type": "display_data"
    },
    {
     "data": {
      "text/html": [
       "<div>\n",
       "<style scoped>\n",
       "    .dataframe tbody tr th:only-of-type {\n",
       "        vertical-align: middle;\n",
       "    }\n",
       "\n",
       "    .dataframe tbody tr th {\n",
       "        vertical-align: top;\n",
       "    }\n",
       "\n",
       "    .dataframe thead th {\n",
       "        text-align: right;\n",
       "    }\n",
       "</style>\n",
       "<table border=\"1\" class=\"dataframe\">\n",
       "  <thead>\n",
       "    <tr style=\"text-align: right;\">\n",
       "      <th></th>\n",
       "      <th>user_id</th>\n",
       "      <th>profile_value</th>\n",
       "    </tr>\n",
       "  </thead>\n",
       "  <tbody>\n",
       "    <tr>\n",
       "      <th>0</th>\n",
       "      <td>998</td>\n",
       "      <td>0</td>\n",
       "    </tr>\n",
       "    <tr>\n",
       "      <th>1</th>\n",
       "      <td>1000</td>\n",
       "      <td>0</td>\n",
       "    </tr>\n",
       "  </tbody>\n",
       "</table>\n",
       "</div>"
      ],
      "text/plain": [
       "   user_id  profile_value\n",
       "0      998              0\n",
       "1     1000              0"
      ]
     },
     "metadata": {},
     "output_type": "display_data"
    },
    {
     "data": {
      "text/html": [
       "<div>\n",
       "<style scoped>\n",
       "    .dataframe tbody tr th:only-of-type {\n",
       "        vertical-align: middle;\n",
       "    }\n",
       "\n",
       "    .dataframe tbody tr th {\n",
       "        vertical-align: top;\n",
       "    }\n",
       "\n",
       "    .dataframe thead th {\n",
       "        text-align: right;\n",
       "    }\n",
       "</style>\n",
       "<table border=\"1\" class=\"dataframe\">\n",
       "  <thead>\n",
       "    <tr style=\"text-align: right;\">\n",
       "      <th></th>\n",
       "      <th>user_id</th>\n",
       "      <th>profile_value</th>\n",
       "    </tr>\n",
       "  </thead>\n",
       "  <tbody>\n",
       "    <tr>\n",
       "      <th>229048</th>\n",
       "      <td>313432</td>\n",
       "      <td>0</td>\n",
       "    </tr>\n",
       "    <tr>\n",
       "      <th>229049</th>\n",
       "      <td>313433</td>\n",
       "      <td>1</td>\n",
       "    </tr>\n",
       "  </tbody>\n",
       "</table>\n",
       "</div>"
      ],
      "text/plain": [
       "        user_id  profile_value\n",
       "229048   313432              0\n",
       "229049   313433              1"
      ]
     },
     "metadata": {},
     "output_type": "display_data"
    }
   ],
   "source": [
    "## display\n",
    "display(pcomms_t.head(2))\n",
    "display(pcomms_t.tail(2))\n",
    "display(up_news_t.head(2))\n",
    "display(up_news_t.tail(2))"
   ]
  },
  {
   "cell_type": "code",
   "execution_count": 10,
   "metadata": {
    "execution": {
     "iopub.execute_input": "2021-01-21T08:30:15.194760Z",
     "iopub.status.busy": "2021-01-21T08:30:15.193913Z",
     "iopub.status.idle": "2021-01-21T08:30:15.217141Z",
     "shell.execute_reply": "2021-01-21T08:30:15.216260Z"
    },
    "papermill": {
     "duration": 0.049888,
     "end_time": "2021-01-21T08:30:15.217346",
     "exception": false,
     "start_time": "2021-01-21T08:30:15.167458",
     "status": "completed"
    },
    "tags": []
   },
   "outputs": [],
   "source": [
    "## create new dataframe\n",
    "new_opts = pd.DataFrame()\n",
    "\n",
    "new_opts['nanoHUB_user_ID__c'] = pcomms_t['user_id']\n",
    "new_opts['personalizedcommunication__c'] = pcomms_t['profile_value']\n",
    "new_opts['updatesnews__c'] = up_news_t['profile_value']\n"
   ]
  },
  {
   "cell_type": "code",
   "execution_count": 11,
   "metadata": {
    "execution": {
     "iopub.execute_input": "2021-01-21T08:30:15.261097Z",
     "iopub.status.busy": "2021-01-21T08:30:15.260530Z",
     "iopub.status.idle": "2021-01-21T08:30:15.264538Z",
     "shell.execute_reply": "2021-01-21T08:30:15.264076Z"
    },
    "papermill": {
     "duration": 0.02804,
     "end_time": "2021-01-21T08:30:15.264662",
     "exception": false,
     "start_time": "2021-01-21T08:30:15.236622",
     "status": "completed"
    },
    "tags": []
   },
   "outputs": [
    {
     "data": {
      "text/html": [
       "<div>\n",
       "<style scoped>\n",
       "    .dataframe tbody tr th:only-of-type {\n",
       "        vertical-align: middle;\n",
       "    }\n",
       "\n",
       "    .dataframe tbody tr th {\n",
       "        vertical-align: top;\n",
       "    }\n",
       "\n",
       "    .dataframe thead th {\n",
       "        text-align: right;\n",
       "    }\n",
       "</style>\n",
       "<table border=\"1\" class=\"dataframe\">\n",
       "  <thead>\n",
       "    <tr style=\"text-align: right;\">\n",
       "      <th></th>\n",
       "      <th>nanoHUB_user_ID__c</th>\n",
       "      <th>personalizedcommunication__c</th>\n",
       "      <th>updatesnews__c</th>\n",
       "    </tr>\n",
       "  </thead>\n",
       "  <tbody>\n",
       "    <tr>\n",
       "      <th>0</th>\n",
       "      <td>998</td>\n",
       "      <td>1</td>\n",
       "      <td>0</td>\n",
       "    </tr>\n",
       "    <tr>\n",
       "      <th>1</th>\n",
       "      <td>1000</td>\n",
       "      <td>1</td>\n",
       "      <td>0</td>\n",
       "    </tr>\n",
       "  </tbody>\n",
       "</table>\n",
       "</div>"
      ],
      "text/plain": [
       "   nanoHUB_user_ID__c  personalizedcommunication__c  updatesnews__c\n",
       "0                 998                             1               0\n",
       "1                1000                             1               0"
      ]
     },
     "metadata": {},
     "output_type": "display_data"
    },
    {
     "name": "stdout",
     "output_type": "stream",
     "text": [
      "<class 'pandas.core.frame.DataFrame'>\n"
     ]
    }
   ],
   "source": [
    "display(new_opts.head(2))\n",
    "print(type(new_opts))"
   ]
  },
  {
   "cell_type": "markdown",
   "metadata": {
    "papermill": {
     "duration": 0.015377,
     "end_time": "2021-01-21T08:30:15.295148",
     "exception": false,
     "start_time": "2021-01-21T08:30:15.279771",
     "status": "completed"
    },
    "tags": []
   },
   "source": [
    "## Send to SF"
   ]
  },
  {
   "cell_type": "code",
   "execution_count": 12,
   "metadata": {
    "execution": {
     "iopub.execute_input": "2021-01-21T08:30:15.328818Z",
     "iopub.status.busy": "2021-01-21T08:30:15.328272Z",
     "iopub.status.idle": "2021-01-21T08:30:15.648178Z",
     "shell.execute_reply": "2021-01-21T08:30:15.647746Z"
    },
    "papermill": {
     "duration": 0.338275,
     "end_time": "2021-01-21T08:30:15.648332",
     "exception": false,
     "start_time": "2021-01-21T08:30:15.310057",
     "status": "completed"
    },
    "tags": []
   },
   "outputs": [
    {
     "name": "stdout",
     "output_type": "stream",
     "text": [
      "Obtained Salesforce access token ...... True\n"
     ]
    }
   ],
   "source": []
  },
  {
   "cell_type": "code",
   "execution_count": 13,
   "metadata": {
    "execution": {
     "iopub.execute_input": "2021-01-21T08:30:15.688979Z",
     "iopub.status.busy": "2021-01-21T08:30:15.688425Z",
     "iopub.status.idle": "2021-01-21T08:30:17.198423Z",
     "shell.execute_reply": "2021-01-21T08:30:17.198814Z"
    },
    "papermill": {
     "duration": 1.533374,
     "end_time": "2021-01-21T08:30:17.198974",
     "exception": false,
     "start_time": "2021-01-21T08:30:15.665600",
     "status": "completed"
    },
    "tags": []
   },
   "outputs": [
    {
     "name": "stdout",
     "output_type": "stream",
     "text": [
      "[Success] Bulk job creation successful. Job ID = 7505w00000TmKWnAAN\n",
      "hello\n",
      "[Success] CSV upload successful. Job ID = 7505w00000TmKWnAAN\n",
      "[Success] Closing job successful. Job ID = 7505w00000TmKWnAAN\n"
     ]
    }
   ],
   "source": [
    "db_s.object_id = object_id\n",
    "db_s.external_id = external_id\n",
    "\n",
    "# send data to Salesforce\n",
    "db_s.send_data(new_opts)\n"
   ]
  },
  {
   "cell_type": "code",
   "execution_count": 14,
   "metadata": {
    "execution": {
     "iopub.execute_input": "2021-01-21T08:30:17.241848Z",
     "iopub.status.busy": "2021-01-21T08:30:17.241053Z",
     "iopub.status.idle": "2021-01-21T08:30:17.539252Z",
     "shell.execute_reply": "2021-01-21T08:30:17.539831Z"
    },
    "papermill": {
     "duration": 0.323732,
     "end_time": "2021-01-21T08:30:17.539990",
     "exception": false,
     "start_time": "2021-01-21T08:30:17.216258",
     "status": "completed"
    },
    "tags": []
   },
   "outputs": [
    {
     "data": {
      "text/plain": [
       "{'id': '7505w00000TmKWnAAN',\n",
       " 'operation': 'upsert',\n",
       " 'object': 'Contact',\n",
       " 'createdById': '0055w00000DM5bOAAT',\n",
       " 'createdDate': '2021-01-21T08:30:15.000+0000',\n",
       " 'systemModstamp': '2021-01-21T08:30:17.000+0000',\n",
       " 'state': 'UploadComplete',\n",
       " 'externalIdFieldName': 'nanoHUB_user_ID__c',\n",
       " 'concurrencyMode': 'Parallel',\n",
       " 'contentType': 'CSV',\n",
       " 'apiVersion': 47.0,\n",
       " 'jobType': 'V2Ingest',\n",
       " 'lineEnding': 'LF',\n",
       " 'columnDelimiter': 'COMMA',\n",
       " 'numberRecordsProcessed': 0,\n",
       " 'numberRecordsFailed': 0,\n",
       " 'retries': 0,\n",
       " 'totalProcessingTime': 0,\n",
       " 'apiActiveProcessingTime': 0,\n",
       " 'apexProcessingTime': 0}"
      ]
     },
     "execution_count": 14,
     "metadata": {},
     "output_type": "execute_result"
    }
   ],
   "source": [
    "# check status\n",
    "db_s.check_bulk_status()"
   ]
  },
  {
   "cell_type": "code",
   "execution_count": 15,
   "metadata": {
    "execution": {
     "iopub.execute_input": "2021-01-21T08:30:17.581132Z",
     "iopub.status.busy": "2021-01-21T08:30:17.580539Z",
     "iopub.status.idle": "2021-01-21T08:30:17.704834Z",
     "shell.execute_reply": "2021-01-21T08:30:17.705404Z"
    },
    "papermill": {
     "duration": 0.147901,
     "end_time": "2021-01-21T08:30:17.705562",
     "exception": false,
     "start_time": "2021-01-21T08:30:17.557661",
     "status": "completed"
    },
    "tags": []
   },
   "outputs": [
    {
     "name": "stdout",
     "output_type": "stream",
     "text": [
      "''\n"
     ]
    }
   ],
   "source": [
    "# check status\n",
    "from pprint import pprint\n",
    "\n",
    "pprint(db_s.check_bulk_failed_results())"
   ]
  },
  {
   "cell_type": "code",
   "execution_count": null,
   "metadata": {
    "papermill": {
     "duration": 0.017868,
     "end_time": "2021-01-21T08:30:17.740749",
     "exception": false,
     "start_time": "2021-01-21T08:30:17.722881",
     "status": "completed"
    },
    "tags": []
   },
   "outputs": [],
   "source": []
  }
 ],
 "metadata": {
  "kernelspec": {
   "display_name": "Python 3",
   "language": "python",
   "name": "python3"
  },
  "language_info": {
   "codemirror_mode": {
    "name": "ipython",
    "version": 3
   },
   "file_extension": ".py",
   "mimetype": "text/x-python",
   "name": "python",
   "nbconvert_exporter": "python",
   "pygments_lexer": "ipython3",
   "version": "3.7.10"
  },
  "papermill": {
   "duration": 15.356506,
   "end_time": "2021-01-21T08:30:18.168322",
   "environment_variables": {},
   "exception": null,
   "input_path": "/home/users/wang2506/nanohub_salesforce_integ/salesforce/task_update_email_preferences.ipynb",
   "output_path": "/home/users/wang2506/nanohub_salesforce_integ/salesforce/task_update_email_preferences.ipynb",
   "parameters": {},
   "start_time": "2021-01-21T08:30:02.811816",
   "version": "2.1.1"
  }
 },
 "nbformat": 4,
 "nbformat_minor": 4
}