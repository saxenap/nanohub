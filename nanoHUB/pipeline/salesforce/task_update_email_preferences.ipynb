{
 "cells": [
  {
   "cell_type": "markdown",
   "metadata": {
    "papermill": {
     "duration": 0.01243,
     "end_time": "2021-01-21T08:30:03.544343",
     "exception": false,
     "start_time": "2021-01-21T08:30:03.531913",
     "status": "completed"
    },
    "pycharm": {
     "name": "#%% md\n"
    },
    "tags": []
   },
   "source": [
    "# DB2-Salesforce connector: pull in new email flags from DB2"
   ]
  },
  {
   "cell_type": "code",
   "execution_count": 1,
   "metadata": {
    "execution": {
     "iopub.execute_input": "2022-06-30T05:24:41.719007Z",
     "iopub.status.busy": "2022-06-30T05:24:41.702600Z",
     "iopub.status.idle": "2022-06-30T05:24:46.126058Z",
     "shell.execute_reply": "2022-06-30T05:24:46.121885Z",
     "shell.execute_reply.started": "2022-06-30T05:24:41.718755Z"
    },
    "papermill": {
     "duration": 0.019334,
     "end_time": "2021-01-21T08:30:03.574047",
     "exception": false,
     "start_time": "2021-01-21T08:30:03.554713",
     "status": "completed"
    },
    "pycharm": {
     "name": "#%%\n"
    },
    "tags": []
   },
   "outputs": [
    {
     "name": "stdout",
     "output_type": "stream",
     "text": [
      "\u001B[1mnanoHUB - Serving Students, Researchers & Instructors\u001B[0m\n",
      "Obtained Salesforce access token ...... True\n"
     ]
    }
   ],
   "source": [
    "# Parameters\n",
    "# API settings\n",
    "api_url = '/services/data/v43.0/sobjects'\n",
    "external_id = 'nanoHUB_user_ID__c'\n",
    "object_id = 'Contact'\n",
    "\n",
    "# login parameters to be handled by Papermill\n",
    "from nanoHUB.application import Application\n",
    "\n",
    "application = Application.get_instance()\n",
    "nanohub_db = application.new_db_engine('nanohub')\n",
    "\n",
    "salesforce = application.new_salesforce_engine()\n",
    "db_s = salesforce"
   ]
  },
  {
   "cell_type": "code",
   "execution_count": 2,
   "metadata": {
    "execution": {
     "iopub.execute_input": "2022-06-30T05:24:46.131568Z",
     "iopub.status.busy": "2022-06-30T05:24:46.130001Z",
     "iopub.status.idle": "2022-06-30T05:24:46.156059Z",
     "shell.execute_reply": "2022-06-30T05:24:46.149198Z",
     "shell.execute_reply.started": "2022-06-30T05:24:46.131504Z"
    },
    "papermill": {
     "duration": 0.290721,
     "end_time": "2021-01-21T08:30:03.874764",
     "exception": false,
     "start_time": "2021-01-21T08:30:03.584043",
     "status": "completed"
    },
    "pycharm": {
     "name": "#%%\n"
    },
    "tags": []
   },
   "outputs": [],
   "source": [
    "import pandas as pd\n",
    "import datetime"
   ]
  },
  {
   "cell_type": "code",
   "execution_count": 3,
   "metadata": {
    "execution": {
     "iopub.execute_input": "2022-06-30T05:24:46.174112Z",
     "iopub.status.busy": "2022-06-30T05:24:46.173170Z",
     "iopub.status.idle": "2022-06-30T05:24:46.242750Z",
     "shell.execute_reply": "2022-06-30T05:24:46.222477Z",
     "shell.execute_reply.started": "2022-06-30T05:24:46.174018Z"
    },
    "pycharm": {
     "name": "#%%\n"
    },
    "tags": []
   },
   "outputs": [],
   "source": [
    "sql_query_pc = '''\n",
    "SELECT user_id AS nanoHUB_user_ID__c,\n",
    "    CASE\n",
    "        WHEN profile_value LIKE 'yes%%' THEN 1\n",
    "        ELSE 0\n",
    "      END AS personalizedcommunication__c\n",
    "FROM nanohub.jos_user_profiles\n",
    "WHERE profile_key in ('personalizedcommunication')\n",
    ";\n",
    "'''"
   ]
  },
  {
   "cell_type": "code",
   "execution_count": 4,
   "metadata": {
    "execution": {
     "iopub.execute_input": "2022-06-30T05:24:46.252900Z",
     "iopub.status.busy": "2022-06-30T05:24:46.251740Z",
     "iopub.status.idle": "2022-06-30T05:24:53.990240Z",
     "shell.execute_reply": "2022-06-30T05:24:53.988766Z",
     "shell.execute_reply.started": "2022-06-30T05:24:46.252805Z"
    },
    "tags": []
   },
   "outputs": [
    {
     "name": "stdout",
     "output_type": "stream",
     "text": [
      "<class 'pandas.core.frame.DataFrame'>\n",
      "RangeIndex: 272921 entries, 0 to 272920\n",
      "Data columns (total 2 columns):\n",
      " #   Column                        Non-Null Count   Dtype\n",
      "---  ------                        --------------   -----\n",
      " 0   nanoHUB_user_ID__c            272921 non-null  int64\n",
      " 1   personalizedcommunication__c  272921 non-null  int64\n",
      "dtypes: int64(2)\n",
      "memory usage: 4.2 MB\n",
      "None\n",
      "        nanoHUB_user_ID__c  personalizedcommunication__c\n",
      "272916              370546                             0\n",
      "272917              370551                             1\n",
      "272918              370552                             1\n",
      "272919              370553                             1\n",
      "272920              370554                             1\n"
     ]
    }
   ],
   "source": [
    "pc_df = pd.read_sql_query(sql_query_pc, nanohub_db)\n",
    "print(pc_df.info())\n",
    "print(pc_df.tail())"
   ]
  },
  {
   "cell_type": "code",
   "execution_count": 5,
   "metadata": {
    "execution": {
     "iopub.execute_input": "2022-06-30T05:24:54.005626Z",
     "iopub.status.busy": "2022-06-30T05:24:54.004495Z",
     "iopub.status.idle": "2022-06-30T05:24:54.023124Z",
     "shell.execute_reply": "2022-06-30T05:24:54.019785Z",
     "shell.execute_reply.started": "2022-06-30T05:24:54.005569Z"
    },
    "pycharm": {
     "name": "#%%\n"
    },
    "tags": []
   },
   "outputs": [],
   "source": [
    "sql_query_un = '''\n",
    "SELECT user_id AS nanoHUB_user_ID__c,\n",
    "      CASE\n",
    "        WHEN profile_value LIKE 'yes%%' THEN 1\n",
    "        ELSE 0\n",
    "      END AS updatesnews__c\n",
    "FROM nanohub.jos_user_profiles\n",
    "WHERE profile_key in ('updates_news')\n",
    ";\n",
    "'''"
   ]
  },
  {
   "cell_type": "code",
   "execution_count": 6,
   "metadata": {
    "execution": {
     "iopub.execute_input": "2022-06-30T05:24:54.035389Z",
     "iopub.status.busy": "2022-06-30T05:24:54.033975Z",
     "iopub.status.idle": "2022-06-30T05:24:59.547687Z",
     "shell.execute_reply": "2022-06-30T05:24:59.544409Z",
     "shell.execute_reply.started": "2022-06-30T05:24:54.035337Z"
    },
    "pycharm": {
     "name": "#%%\n"
    },
    "tags": []
   },
   "outputs": [
    {
     "name": "stdout",
     "output_type": "stream",
     "text": [
      "<class 'pandas.core.frame.DataFrame'>\n",
      "RangeIndex: 271588 entries, 0 to 271587\n",
      "Data columns (total 2 columns):\n",
      " #   Column              Non-Null Count   Dtype\n",
      "---  ------              --------------   -----\n",
      " 0   nanoHUB_user_ID__c  271588 non-null  int64\n",
      " 1   updatesnews__c      271588 non-null  int64\n",
      "dtypes: int64(2)\n",
      "memory usage: 4.1 MB\n",
      "None\n",
      "        nanoHUB_user_ID__c  updatesnews__c\n",
      "271583              370546               0\n",
      "271584              370551               1\n",
      "271585              370552               1\n",
      "271586              370553               1\n",
      "271587              370554               1\n"
     ]
    }
   ],
   "source": [
    "un_df = pd.read_sql_query(sql_query_un, nanohub_db)\n",
    "print(un_df.info())\n",
    "print(un_df.tail())"
   ]
  },
  {
   "cell_type": "code",
   "execution_count": 7,
   "metadata": {
    "execution": {
     "iopub.execute_input": "2022-06-30T05:24:59.563155Z",
     "iopub.status.busy": "2022-06-30T05:24:59.558657Z",
     "iopub.status.idle": "2022-06-30T05:24:59.957744Z",
     "shell.execute_reply": "2022-06-30T05:24:59.955755Z",
     "shell.execute_reply.started": "2022-06-30T05:24:59.563037Z"
    },
    "tags": []
   },
   "outputs": [
    {
     "name": "stdout",
     "output_type": "stream",
     "text": [
      "[WARNING] [warnings - py.warnings]: /tmp/ipykernel_530/2799278649.py:3: FutureWarning: In a future version of pandas all arguments of DataFrame.drop except for the argument 'labels' will be keyword-only.\n",
      "  merged_df = un_df.merge(pc_df, how='outer').drop('g',1)\n",
      " [warnings._showwarnmsg:109]\n",
      "   nanoHUB_user_ID__c  updatesnews__c  personalizedcommunication__c\n",
      "0                 998             0.0                           1.0\n",
      "1                1000             0.0                           1.0\n",
      "2                1683             0.0                           1.0\n",
      "3                1684             0.0                           1.0\n",
      "4                1685             0.0                           1.0\n",
      "        nanoHUB_user_ID__c  updatesnews__c  personalizedcommunication__c\n",
      "273013              359369             1.0                           0.0\n",
      "273014              369414             1.0                           0.0\n",
      "273015              369414             1.0                           0.0\n",
      "273016              369414             1.0                           0.0\n",
      "273017              328084             1.0                           1.0\n",
      "<class 'pandas.core.frame.DataFrame'>\n",
      "Int64Index: 273018 entries, 0 to 273017\n",
      "Data columns (total 3 columns):\n",
      " #   Column                        Non-Null Count   Dtype  \n",
      "---  ------                        --------------   -----  \n",
      " 0   nanoHUB_user_ID__c            273018 non-null  int64  \n",
      " 1   updatesnews__c                273018 non-null  float64\n",
      " 2   personalizedcommunication__c  273018 non-null  float64\n",
      "dtypes: float64(2), int64(1)\n",
      "memory usage: 8.3 MB\n",
      "None\n"
     ]
    }
   ],
   "source": [
    "un_df['g'] = un_df.groupby('nanoHUB_user_ID__c').cumcount()\n",
    "pc_df['g'] = pc_df.groupby('nanoHUB_user_ID__c').cumcount()\n",
    "merged_df = un_df.merge(pc_df, how='outer').drop('g',1)\n",
    "merged_df.fillna(1, inplace=True)\n",
    "\n",
    "print(merged_df.head())\n",
    "print(merged_df.tail())\n",
    "print(merged_df.info())"
   ]
  },
  {
   "cell_type": "code",
   "execution_count": 8,
   "metadata": {
    "collapsed": false,
    "execution": {
     "iopub.execute_input": "2022-06-30T05:24:59.973664Z",
     "iopub.status.busy": "2022-06-30T05:24:59.967745Z",
     "iopub.status.idle": "2022-06-30T05:24:59.997321Z",
     "shell.execute_reply": "2022-06-30T05:24:59.993183Z",
     "shell.execute_reply.started": "2022-06-30T05:24:59.973596Z"
    },
    "jupyter": {
     "outputs_hidden": false
    },
    "pycharm": {
     "name": "#%%\n"
    },
    "tags": []
   },
   "outputs": [
    {
     "name": "stdout",
     "output_type": "stream",
     "text": [
      "        nanoHUB_user_ID__c  updatesnews__c  personalizedcommunication__c\n",
      "237427              325902             0.0                           0.0\n"
     ]
    }
   ],
   "source": [
    "print(merged_df.loc[merged_df['nanoHUB_user_ID__c'] == 325902])"
   ]
  },
  {
   "cell_type": "code",
   "execution_count": null,
   "outputs": [],
   "source": [
    "print(merged_df.loc[merged_df['nanoHUB_user_ID__c'] == 314658])"
   ],
   "metadata": {
    "collapsed": false,
    "pycharm": {
     "name": "#%%\n"
    }
   }
  },
  {
   "cell_type": "code",
   "execution_count": null,
   "outputs": [],
   "source": [
    "print(merged_df.loc[merged_df['nanoHUB_user_ID__c'] == 9533])"
   ],
   "metadata": {
    "collapsed": false,
    "pycharm": {
     "name": "#%%\n"
    }
   }
  },
  {
   "cell_type": "markdown",
   "metadata": {
    "papermill": {
     "duration": 0.015377,
     "end_time": "2021-01-21T08:30:15.295148",
     "exception": false,
     "start_time": "2021-01-21T08:30:15.279771",
     "status": "completed"
    },
    "pycharm": {
     "name": "#%% md\n"
    },
    "tags": []
   },
   "source": [
    "## Send to SF"
   ]
  },
  {
   "cell_type": "code",
   "execution_count": null,
   "metadata": {
    "papermill": {
     "duration": 0.338275,
     "end_time": "2021-01-21T08:30:15.648332",
     "exception": false,
     "start_time": "2021-01-21T08:30:15.310057",
     "status": "completed"
    },
    "pycharm": {
     "name": "#%%\n"
    },
    "tags": []
   },
   "outputs": [],
   "source": []
  },
  {
   "cell_type": "code",
   "execution_count": 9,
   "metadata": {
    "execution": {
     "iopub.execute_input": "2022-06-30T05:25:00.005379Z",
     "iopub.status.busy": "2022-06-30T05:24:59.999368Z",
     "iopub.status.idle": "2022-06-30T05:25:04.676516Z",
     "shell.execute_reply": "2022-06-30T05:25:04.674669Z",
     "shell.execute_reply.started": "2022-06-30T05:25:00.005261Z"
    },
    "papermill": {
     "duration": 1.533374,
     "end_time": "2021-01-21T08:30:17.198974",
     "exception": false,
     "start_time": "2021-01-21T08:30:15.665600",
     "status": "completed"
    },
    "pycharm": {
     "name": "#%%\n"
    },
    "tags": []
   },
   "outputs": [
    {
     "name": "stdout",
     "output_type": "stream",
     "text": [
      "[Success] Bulk job creation successful. Job ID = 7508W00000i7HakQAE\n",
      "hello\n",
      "[Success] CSV upload successful. Job ID = 7508W00000i7HakQAE\n",
      "[Success] Closing job successful. Job ID = 7508W00000i7HakQAE\n"
     ]
    }
   ],
   "source": [
    "db_s.object_id = object_id\n",
    "db_s.external_id = external_id\n",
    "\n",
    "# send data to Salesforce\n",
    "db_s.send_data(merged_df)\n"
   ]
  },
  {
   "cell_type": "code",
   "execution_count": 10,
   "metadata": {
    "execution": {
     "iopub.execute_input": "2022-06-30T05:25:04.679418Z",
     "iopub.status.busy": "2022-06-30T05:25:04.678656Z",
     "iopub.status.idle": "2022-06-30T05:25:05.059307Z",
     "shell.execute_reply": "2022-06-30T05:25:05.053936Z",
     "shell.execute_reply.started": "2022-06-30T05:25:04.679369Z"
    },
    "papermill": {
     "duration": 0.323732,
     "end_time": "2021-01-21T08:30:17.539990",
     "exception": false,
     "start_time": "2021-01-21T08:30:17.216258",
     "status": "completed"
    },
    "pycharm": {
     "name": "#%%\n"
    },
    "tags": []
   },
   "outputs": [
    {
     "data": {
      "text/plain": [
       "{'id': '7508W00000i7HakQAE',\n",
       " 'operation': 'upsert',\n",
       " 'object': 'Contact',\n",
       " 'createdById': '0055w00000DM5bOAAT',\n",
       " 'createdDate': '2022-06-30T05:25:01.000+0000',\n",
       " 'systemModstamp': '2022-06-30T05:25:04.000+0000',\n",
       " 'state': 'UploadComplete',\n",
       " 'externalIdFieldName': 'nanoHUB_user_ID__c',\n",
       " 'concurrencyMode': 'Parallel',\n",
       " 'contentType': 'CSV',\n",
       " 'apiVersion': 47.0,\n",
       " 'jobType': 'V2Ingest',\n",
       " 'lineEnding': 'LF',\n",
       " 'columnDelimiter': 'COMMA',\n",
       " 'numberRecordsProcessed': 0,\n",
       " 'numberRecordsFailed': 0,\n",
       " 'retries': 0,\n",
       " 'totalProcessingTime': 0,\n",
       " 'apiActiveProcessingTime': 0,\n",
       " 'apexProcessingTime': 0}"
      ]
     },
     "execution_count": 10,
     "metadata": {},
     "output_type": "execute_result"
    }
   ],
   "source": [
    "# check status\n",
    "db_s.check_bulk_status()"
   ]
  },
  {
   "cell_type": "code",
   "execution_count": 11,
   "metadata": {
    "execution": {
     "iopub.execute_input": "2022-06-30T05:25:05.066707Z",
     "iopub.status.busy": "2022-06-30T05:25:05.064595Z",
     "iopub.status.idle": "2022-06-30T05:25:05.562803Z",
     "shell.execute_reply": "2022-06-30T05:25:05.559326Z",
     "shell.execute_reply.started": "2022-06-30T05:25:05.066616Z"
    },
    "papermill": {
     "duration": 0.147901,
     "end_time": "2021-01-21T08:30:17.705562",
     "exception": false,
     "start_time": "2021-01-21T08:30:17.557661",
     "status": "completed"
    },
    "pycharm": {
     "name": "#%%\n"
    },
    "tags": []
   },
   "outputs": [
    {
     "name": "stdout",
     "output_type": "stream",
     "text": [
      "''\n"
     ]
    }
   ],
   "source": [
    "# check status\n",
    "from pprint import pprint\n",
    "\n",
    "pprint(db_s.check_bulk_failed_results())"
   ]
  },
  {
   "cell_type": "code",
   "execution_count": null,
   "metadata": {
    "papermill": {
     "duration": 0.017868,
     "end_time": "2021-01-21T08:30:17.740749",
     "exception": false,
     "start_time": "2021-01-21T08:30:17.722881",
     "status": "completed"
    },
    "pycharm": {
     "name": "#%%\n"
    },
    "tags": []
   },
   "outputs": [],
   "source": []
  }
 ],
 "metadata": {
  "kernelspec": {
   "display_name": "Python 3 (ipykernel)",
   "language": "python",
   "name": "python3"
  },
  "language_info": {
   "codemirror_mode": {
    "name": "ipython",
    "version": 3
   },
   "file_extension": ".py",
   "mimetype": "text/x-python",
   "name": "python",
   "nbconvert_exporter": "python",
   "pygments_lexer": "ipython3",
   "version": "3.8.10"
  },
  "papermill": {
   "duration": 15.356506,
   "end_time": "2021-01-21T08:30:18.168322",
   "environment_variables": {},
   "exception": null,
   "input_path": "/home/users/wang2506/nanohub_salesforce_integ/salesforce/task_update_email_preferences.ipynb",
   "output_path": "/home/users/wang2506/nanohub_salesforce_integ/salesforce/task_update_email_preferences.ipynb",
   "parameters": {},
   "start_time": "2021-01-21T08:30:02.811816",
   "version": "2.1.1"
  }
 },
 "nbformat": 4,
 "nbformat_minor": 4
}