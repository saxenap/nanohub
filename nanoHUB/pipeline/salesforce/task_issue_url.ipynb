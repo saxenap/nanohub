{
 "cells": [
  {
   "cell_type": "markdown",
   "metadata": {
    "papermill": {
     "duration": 0.03792,
     "end_time": "2021-01-21T06:30:34.800740",
     "exception": false,
     "start_time": "2021-01-21T06:30:34.762820",
     "status": "completed"
    },
    "tags": []
   },
   "source": [
    "# DB2-Salesforce connector: URL issues"
   ]
  },
  {
   "cell_type": "code",
   "execution_count": 1,
   "metadata": {
    "execution": {
     "iopub.execute_input": "2021-01-21T06:30:34.906659Z",
     "iopub.status.busy": "2021-01-21T06:30:34.906015Z",
     "iopub.status.idle": "2021-01-21T06:30:34.922555Z",
     "shell.execute_reply": "2021-01-21T06:30:34.922006Z"
    },
    "papermill": {
     "duration": 0.075564,
     "end_time": "2021-01-21T06:30:34.922700",
     "exception": false,
     "start_time": "2021-01-21T06:30:34.847136",
     "status": "completed"
    },
    "tags": [
     "parameters"
    ]
   },
   "outputs": [],
   "source": [
    "# API settings\n",
    "api_url = '/services/data/v43.0/sobjects'\n",
    "object_id = 'nanoHUB_issue__c'\n",
    "external_id = 'Issue_ID__c'\n",
    "\n",
    "from nanoHUB.pipeline.application import Application\n",
    "\n",
    "application = Application.get_instance()\n",
    "nanohub_db = application.new_db_engine('nanohub')\n",
    "\n",
    "salesforce = application.new_salesforce_engine()\n",
    "db_s = salesforce"
   ]
  },
  {
   "cell_type": "code",
   "execution_count": 2,
   "metadata": {
    "execution": {
     "iopub.execute_input": "2021-01-21T06:30:35.094718Z",
     "iopub.status.busy": "2021-01-21T06:30:35.094124Z",
     "iopub.status.idle": "2021-01-21T06:30:40.299122Z",
     "shell.execute_reply": "2021-01-21T06:30:40.298654Z"
    },
    "papermill": {
     "duration": 5.352435,
     "end_time": "2021-01-21T06:30:40.299270",
     "exception": false,
     "start_time": "2021-01-21T06:30:34.946835",
     "status": "completed"
    },
    "tags": []
   },
   "outputs": [],
   "source": [
    "\n",
    "import pandas as pd\n",
    "import datetime"
   ]
  },
  {
   "cell_type": "markdown",
   "metadata": {
    "papermill": {
     "duration": 0.02053,
     "end_time": "2021-01-21T06:30:40.351478",
     "exception": false,
     "start_time": "2021-01-21T06:30:40.330948",
     "status": "completed"
    },
    "tags": []
   },
   "source": [
    "## Obtain tool information from DB2 "
   ]
  },
  {
   "cell_type": "code",
   "execution_count": 3,
   "metadata": {
    "execution": {
     "iopub.execute_input": "2021-01-21T06:30:40.403304Z",
     "iopub.status.busy": "2021-01-21T06:30:40.402737Z",
     "iopub.status.idle": "2021-01-21T06:30:40.416917Z",
     "shell.execute_reply": "2021-01-21T06:30:40.416082Z"
    },
    "papermill": {
     "duration": 0.049373,
     "end_time": "2021-01-21T06:30:40.417047",
     "exception": false,
     "start_time": "2021-01-21T06:30:40.367674",
     "status": "completed"
    },
    "scrolled": true,
    "tags": []
   },
   "outputs": [
    {
     "name": "stdout",
     "output_type": "stream",
     "text": [
      "select * from issue_invalid_urls\n"
     ]
    }
   ],
   "source": [
    "# Basic tool information\n",
    "sql_query = \"select * from issue_invalid_urls\"\n",
    "\n",
    "# display\n",
    "print(sql_query)"
   ]
  },
  {
   "cell_type": "code",
   "execution_count": 4,
   "metadata": {
    "execution": {
     "iopub.execute_input": "2021-01-21T06:30:40.476355Z",
     "iopub.status.busy": "2021-01-21T06:30:40.475772Z",
     "iopub.status.idle": "2021-01-21T06:30:42.035030Z",
     "shell.execute_reply": "2021-01-21T06:30:42.034486Z"
    },
    "papermill": {
     "duration": 1.597971,
     "end_time": "2021-01-21T06:30:42.035166",
     "exception": false,
     "start_time": "2021-01-21T06:30:40.437195",
     "status": "completed"
    },
    "tags": []
   },
   "outputs": [],
   "source": [
    "wang159_myrmekes_db = application.new_db_engine('wang159_myrmekes')\n",
    "df = pd.read_sql_query(sql_query, wang159_myrmekes_db)"
   ]
  },
  {
   "cell_type": "code",
   "execution_count": 5,
   "metadata": {
    "execution": {
     "iopub.execute_input": "2021-01-21T06:30:42.124326Z",
     "iopub.status.busy": "2021-01-21T06:30:42.123739Z",
     "iopub.status.idle": "2021-01-21T06:30:42.200793Z",
     "shell.execute_reply": "2021-01-21T06:30:42.200280Z"
    },
    "papermill": {
     "duration": 0.122093,
     "end_time": "2021-01-21T06:30:42.200941",
     "exception": false,
     "start_time": "2021-01-21T06:30:42.078848",
     "status": "completed"
    },
    "tags": []
   },
   "outputs": [
    {
     "data": {
      "text/html": [
       "<div>\n",
       "<style scoped>\n",
       "    .dataframe tbody tr th:only-of-type {\n",
       "        vertical-align: middle;\n",
       "    }\n",
       "\n",
       "    .dataframe tbody tr th {\n",
       "        vertical-align: top;\n",
       "    }\n",
       "\n",
       "    .dataframe thead th {\n",
       "        text-align: right;\n",
       "    }\n",
       "</style>\n",
       "<table border=\"1\" class=\"dataframe\">\n",
       "  <thead>\n",
       "    <tr style=\"text-align: right;\">\n",
       "      <th></th>\n",
       "      <th>index</th>\n",
       "      <th>resource_ID</th>\n",
       "      <th>href</th>\n",
       "      <th>href_text</th>\n",
       "      <th>status</th>\n",
       "    </tr>\n",
       "  </thead>\n",
       "  <tbody>\n",
       "    <tr>\n",
       "      <th>0</th>\n",
       "      <td>0</td>\n",
       "      <td>90</td>\n",
       "      <td>http://epics.ecn.purdue.edu/lspm</td>\n",
       "      <td>Lego Scanning Probe Microscope</td>\n",
       "      <td>404</td>\n",
       "    </tr>\n",
       "    <tr>\n",
       "      <th>1</th>\n",
       "      <td>1</td>\n",
       "      <td>90</td>\n",
       "      <td>http://www.inac.purdue.edu/education/lspm/exhi...</td>\n",
       "      <td>Lego SPM website</td>\n",
       "      <td>Connection error.</td>\n",
       "    </tr>\n",
       "  </tbody>\n",
       "</table>\n",
       "</div>"
      ],
      "text/plain": [
       "   index resource_ID                                               href  \\\n",
       "0      0          90                   http://epics.ecn.purdue.edu/lspm   \n",
       "1      1          90  http://www.inac.purdue.edu/education/lspm/exhi...   \n",
       "\n",
       "                        href_text             status  \n",
       "0  Lego Scanning Probe Microscope                404  \n",
       "1                Lego SPM website  Connection error.  "
      ]
     },
     "execution_count": 5,
     "metadata": {},
     "output_type": "execute_result"
    }
   ],
   "source": [
    "# display\n",
    "df.head(2)"
   ]
  },
  {
   "cell_type": "code",
   "execution_count": 6,
   "metadata": {
    "execution": {
     "iopub.execute_input": "2021-01-21T06:30:42.328443Z",
     "iopub.status.busy": "2021-01-21T06:30:42.327857Z",
     "iopub.status.idle": "2021-01-21T06:30:44.623131Z",
     "shell.execute_reply": "2021-01-21T06:30:44.636067Z"
    },
    "papermill": {
     "duration": 2.36976,
     "end_time": "2021-01-21T06:30:44.636274",
     "exception": false,
     "start_time": "2021-01-21T06:30:42.266514",
     "status": "completed"
    },
    "tags": []
   },
   "outputs": [],
   "source": [
    "df_export = pd.DataFrame()\n",
    "\n",
    "# Make sure NaN and NaT values are taken care of here\n",
    "\n",
    "# construct a consistent ID for this issue\n",
    "df_export[external_id]      =  'Resource_URL::::'+df.resource_ID+'::::'+df.href+'::::'+df.href_text\n",
    "\n",
    "df_export['Resource ID'] = df['resource_ID']\n",
    "df_export['Resource URL'] = 'https://nanohub.org/resources/'+df['resource_ID']\n",
    "df_export['Reason']           = 'Invalid URL'\n",
    "\n",
    "df_export['Invalid URL label'] = df['href_text']\n",
    "df_export['Invalid URL'] = df['href']\n",
    "\n",
    "# display\n",
    "df_export.to_excel('./invalid_URL_export.xlsx', engine='xlsxwriter')"
   ]
  },
  {
   "cell_type": "markdown",
   "metadata": {
    "papermill": {
     "duration": 0.035316,
     "end_time": "2021-01-21T06:30:44.693392",
     "exception": false,
     "start_time": "2021-01-21T06:30:44.658076",
     "status": "completed"
    },
    "tags": []
   },
   "source": [
    "## Match data with Salesforce format"
   ]
  },
  {
   "cell_type": "code",
   "execution_count": 7,
   "metadata": {
    "execution": {
     "iopub.execute_input": "2021-01-21T06:30:44.778886Z",
     "iopub.status.busy": "2021-01-21T06:30:44.778302Z",
     "iopub.status.idle": "2021-01-21T06:30:44.898417Z",
     "shell.execute_reply": "2021-01-21T06:30:44.897884Z"
    },
    "papermill": {
     "duration": 0.189808,
     "end_time": "2021-01-21T06:30:44.898542",
     "exception": false,
     "start_time": "2021-01-21T06:30:44.708734",
     "status": "completed"
    },
    "tags": []
   },
   "outputs": [
    {
     "data": {
      "text/html": [
       "<div>\n",
       "<style scoped>\n",
       "    .dataframe tbody tr th:only-of-type {\n",
       "        vertical-align: middle;\n",
       "    }\n",
       "\n",
       "    .dataframe tbody tr th {\n",
       "        vertical-align: top;\n",
       "    }\n",
       "\n",
       "    .dataframe thead th {\n",
       "        text-align: right;\n",
       "    }\n",
       "</style>\n",
       "<table border=\"1\" class=\"dataframe\">\n",
       "  <thead>\n",
       "    <tr style=\"text-align: right;\">\n",
       "      <th></th>\n",
       "      <th>0</th>\n",
       "      <th>1</th>\n",
       "    </tr>\n",
       "  </thead>\n",
       "  <tbody>\n",
       "    <tr>\n",
       "      <th>Issue_ID__c</th>\n",
       "      <td>Resource_URL::::90::::http://epics.ecn.purdue....</td>\n",
       "      <td>Resource_URL::::90::::http://www.inac.purdue.e...</td>\n",
       "    </tr>\n",
       "    <tr>\n",
       "      <th>nanoHUB_resource_ID__c</th>\n",
       "      <td>90</td>\n",
       "      <td>90</td>\n",
       "    </tr>\n",
       "    <tr>\n",
       "      <th>Origin_URL__c</th>\n",
       "      <td>https://nanohub.org/resources/90</td>\n",
       "      <td>https://nanohub.org/resources/90</td>\n",
       "    </tr>\n",
       "    <tr>\n",
       "      <th>Type__c</th>\n",
       "      <td>Invalid URL</td>\n",
       "      <td>Invalid URL</td>\n",
       "    </tr>\n",
       "    <tr>\n",
       "      <th>Issue_message__c</th>\n",
       "      <td>Invalid URL found on page.&lt;br&gt;&lt;br&gt;         Lin...</td>\n",
       "      <td>Invalid URL found on page.&lt;br&gt;&lt;br&gt;         Lin...</td>\n",
       "    </tr>\n",
       "  </tbody>\n",
       "</table>\n",
       "</div>"
      ],
      "text/plain": [
       "                                                                        0  \\\n",
       "Issue_ID__c             Resource_URL::::90::::http://epics.ecn.purdue....   \n",
       "nanoHUB_resource_ID__c                                                 90   \n",
       "Origin_URL__c                            https://nanohub.org/resources/90   \n",
       "Type__c                                                       Invalid URL   \n",
       "Issue_message__c        Invalid URL found on page.<br><br>         Lin...   \n",
       "\n",
       "                                                                        1  \n",
       "Issue_ID__c             Resource_URL::::90::::http://www.inac.purdue.e...  \n",
       "nanoHUB_resource_ID__c                                                 90  \n",
       "Origin_URL__c                            https://nanohub.org/resources/90  \n",
       "Type__c                                                       Invalid URL  \n",
       "Issue_message__c        Invalid URL found on page.<br><br>         Lin...  "
      ]
     },
     "execution_count": 7,
     "metadata": {},
     "output_type": "execute_result"
    }
   ],
   "source": [
    "df_sf = pd.DataFrame()\n",
    "\n",
    "# Make sure NaN and NaT values are taken care of here\n",
    "\n",
    "# construct a consistent ID for this issue\n",
    "df_sf[external_id]      =  'Resource_URL::::'+df.resource_ID+'::::'+df.href+'::::'+df.href_text\n",
    "\n",
    "df_sf['nanoHUB_resource_ID__c'] = df['resource_ID']\n",
    "df_sf['Origin_URL__c'] = 'https://nanohub.org/resources/'+df['resource_ID']\n",
    "df_sf['Type__c']           = 'Invalid URL'\n",
    "\n",
    "df_sf['Issue_message__c'] = df.apply(lambda x: \\\n",
    "         'Invalid URL found on page.<br><br>\\\n",
    "         Link label: <p style=\"color:Tomato;\">%s</p><br>\\\n",
    "         Link: <p style=\"color:Tomato;\">%s</p>'%(x.href_text, x.href), axis=1)\n",
    "\n",
    "sf_original_fields = df_sf.columns\n",
    "\n",
    "# display\n",
    "df_sf.head(2).T"
   ]
  },
  {
   "cell_type": "markdown",
   "metadata": {
    "papermill": {
     "duration": 0.009593,
     "end_time": "2021-01-21T06:30:44.917545",
     "exception": false,
     "start_time": "2021-01-21T06:30:44.907952",
     "status": "completed"
    },
    "tags": []
   },
   "source": [
    "## To Salesforce Sales Cloud CRM"
   ]
  },
  {
   "cell_type": "code",
   "execution_count": 8,
   "metadata": {
    "execution": {
     "iopub.execute_input": "2021-01-21T06:30:45.060838Z",
     "iopub.status.busy": "2021-01-21T06:30:45.060256Z",
     "iopub.status.idle": "2021-01-21T06:30:45.450728Z",
     "shell.execute_reply": "2021-01-21T06:30:45.450258Z"
    },
    "papermill": {
     "duration": 0.457847,
     "end_time": "2021-01-21T06:30:45.450876",
     "exception": false,
     "start_time": "2021-01-21T06:30:44.993029",
     "status": "completed"
    },
    "tags": []
   },
   "outputs": [
    {
     "name": "stdout",
     "output_type": "stream",
     "text": [
      "Obtained Salesforce access token ...... True\n"
     ]
    }
   ],
   "source": [
    "# specify Salesforce object ID and external ID\n",
    "db_s.object_id = object_id\n",
    "db_s.external_id = external_id"
   ]
  },
  {
   "cell_type": "code",
   "execution_count": 9,
   "metadata": {
    "execution": {
     "iopub.execute_input": "2021-01-21T06:30:45.511523Z",
     "iopub.status.busy": "2021-01-21T06:30:45.510961Z",
     "iopub.status.idle": "2021-01-21T06:30:46.438069Z",
     "shell.execute_reply": "2021-01-21T06:30:46.437626Z"
    },
    "papermill": {
     "duration": 0.969959,
     "end_time": "2021-01-21T06:30:46.438215",
     "exception": false,
     "start_time": "2021-01-21T06:30:45.468256",
     "status": "completed"
    },
    "tags": []
   },
   "outputs": [
    {
     "name": "stdout",
     "output_type": "stream",
     "text": [
      "[Success] Bulk job creation successful. Job ID = 7505w00000TmJFgAAN\n",
      "hello\n",
      "[Success] CSV upload successful. Job ID = 7505w00000TmJFgAAN\n",
      "[Success] Closing job successful. Job ID = 7505w00000TmJFgAAN\n"
     ]
    }
   ],
   "source": [
    "# send data to Salesforce\n",
    "db_s.send_data(df_sf)"
   ]
  },
  {
   "cell_type": "code",
   "execution_count": 10,
   "metadata": {
    "execution": {
     "iopub.execute_input": "2021-01-21T06:30:46.496518Z",
     "iopub.status.busy": "2021-01-21T06:30:46.495952Z",
     "iopub.status.idle": "2021-01-21T06:30:46.902841Z",
     "shell.execute_reply": "2021-01-21T06:30:46.902392Z"
    },
    "papermill": {
     "duration": 0.446582,
     "end_time": "2021-01-21T06:30:46.902976",
     "exception": false,
     "start_time": "2021-01-21T06:30:46.456394",
     "status": "completed"
    },
    "tags": []
   },
   "outputs": [
    {
     "data": {
      "text/plain": [
       "{'id': '7505w00000TmJFgAAN',\n",
       " 'operation': 'upsert',\n",
       " 'object': 'nanoHUB_issue__c',\n",
       " 'createdById': '0055w00000DM5bOAAT',\n",
       " 'createdDate': '2021-01-21T06:30:45.000+0000',\n",
       " 'systemModstamp': '2021-01-21T06:30:46.000+0000',\n",
       " 'state': 'UploadComplete',\n",
       " 'externalIdFieldName': 'Issue_ID__c',\n",
       " 'concurrencyMode': 'Parallel',\n",
       " 'contentType': 'CSV',\n",
       " 'apiVersion': 47.0,\n",
       " 'jobType': 'V2Ingest',\n",
       " 'lineEnding': 'LF',\n",
       " 'columnDelimiter': 'COMMA',\n",
       " 'numberRecordsProcessed': 0,\n",
       " 'numberRecordsFailed': 0,\n",
       " 'retries': 0,\n",
       " 'totalProcessingTime': 0,\n",
       " 'apiActiveProcessingTime': 0,\n",
       " 'apexProcessingTime': 0}"
      ]
     },
     "execution_count": 10,
     "metadata": {},
     "output_type": "execute_result"
    }
   ],
   "source": [
    "# check status\n",
    "db_s.check_bulk_status()"
   ]
  },
  {
   "cell_type": "code",
   "execution_count": 11,
   "metadata": {
    "execution": {
     "iopub.execute_input": "2021-01-21T06:30:46.964294Z",
     "iopub.status.busy": "2021-01-21T06:30:46.963707Z",
     "iopub.status.idle": "2021-01-21T06:30:47.227970Z",
     "shell.execute_reply": "2021-01-21T06:30:47.227180Z"
    },
    "papermill": {
     "duration": 0.30222,
     "end_time": "2021-01-21T06:30:47.228096",
     "exception": false,
     "start_time": "2021-01-21T06:30:46.925876",
     "status": "completed"
    },
    "tags": []
   },
   "outputs": [
    {
     "name": "stdout",
     "output_type": "stream",
     "text": [
      "''\n"
     ]
    }
   ],
   "source": [
    "from pprint import pprint\n",
    "pprint(db_s.check_bulk_failed_results())"
   ]
  },
  {
   "cell_type": "code",
   "execution_count": null,
   "metadata": {
    "papermill": {
     "duration": 0.023826,
     "end_time": "2021-01-21T06:30:47.285207",
     "exception": false,
     "start_time": "2021-01-21T06:30:47.261381",
     "status": "completed"
    },
    "tags": []
   },
   "outputs": [],
   "source": []
  }
 ],
 "metadata": {
  "celltoolbar": "Tags",
  "kernelspec": {
   "display_name": "Python 3",
   "language": "python",
   "name": "python3"
  },
  "language_info": {
   "codemirror_mode": {
    "name": "ipython",
    "version": 3
   },
   "file_extension": ".py",
   "mimetype": "text/x-python",
   "name": "python",
   "nbconvert_exporter": "python",
   "pygments_lexer": "ipython3",
   "version": "3.7.10"
  },
  "papermill": {
   "duration": 16.675139,
   "end_time": "2021-01-21T06:30:48.748049",
   "environment_variables": {},
   "exception": null,
   "input_path": "/home/users/wang2506/nanohub_salesforce_integ/salesforce/task_issue_url.ipynb",
   "output_path": "/home/users/wang2506/nanohub_salesforce_integ/salesforce/task_issue_url.ipynb",
   "parameters": {},
   "start_time": "2021-01-21T06:30:32.072910",
   "version": "2.1.1"
  }
 },
 "nbformat": 4,
 "nbformat_minor": 4
}