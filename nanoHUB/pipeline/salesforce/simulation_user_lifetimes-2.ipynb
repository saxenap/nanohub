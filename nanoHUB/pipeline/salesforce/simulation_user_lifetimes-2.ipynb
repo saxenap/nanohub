{
 "cells": [
  {
   "cell_type": "markdown",
   "metadata": {},
   "source": [
    "## simulation user lifetimes "
   ]
  },
  {
   "cell_type": "code",
   "execution_count": 1,
   "metadata": {
    "execution": {
     "iopub.execute_input": "2022-09-23T15:03:24.904180Z",
     "iopub.status.busy": "2022-09-23T15:03:24.902826Z",
     "iopub.status.idle": "2022-09-23T15:03:25.754795Z",
     "shell.execute_reply": "2022-09-23T15:03:25.753457Z",
     "shell.execute_reply.started": "2022-09-23T15:03:24.904099Z"
    },
    "tags": []
   },
   "outputs": [],
   "source": [
    "import sys\n",
    "import pandas as pd\n",
    "import time\n",
    "import datetime"
   ]
  },
  {
   "cell_type": "code",
   "execution_count": 2,
   "metadata": {
    "execution": {
     "iopub.execute_input": "2022-09-23T15:03:26.296385Z",
     "iopub.status.busy": "2022-09-23T15:03:26.295875Z",
     "iopub.status.idle": "2022-09-23T15:03:26.304022Z",
     "shell.execute_reply": "2022-09-23T15:03:26.302351Z",
     "shell.execute_reply.started": "2022-09-23T15:03:26.296351Z"
    },
    "tags": []
   },
   "outputs": [],
   "source": [
    "## warnings handler\n",
    "import warnings\n",
    "warnings.filterwarnings('ignore')\n",
    "# warnings.filterwarnings(action='once')\n",
    "warnings.simplefilter(action='ignore', category=FutureWarning)"
   ]
  },
  {
   "cell_type": "code",
   "execution_count": 3,
   "metadata": {
    "execution": {
     "iopub.execute_input": "2022-09-23T15:03:27.736677Z",
     "iopub.status.busy": "2022-09-23T15:03:27.735593Z",
     "iopub.status.idle": "2022-09-23T15:03:30.128461Z",
     "shell.execute_reply": "2022-09-23T15:03:30.126399Z",
     "shell.execute_reply.started": "2022-09-23T15:03:27.736645Z"
    },
    "tags": []
   },
   "outputs": [
    {
     "name": "stdout",
     "output_type": "stream",
     "text": [
      "\u001b[1mnanoHUB - Serving Students, Researchers & Instructors\u001b[0m\n",
      "[INFO] [DB2SalesforceAPI - root]: Obtained Salesforce access token ...... True [DB2SalesforceAPI.obtain_token:54]\n"
     ]
    }
   ],
   "source": [
    "from nanoHUB.application import Application\n",
    "\n",
    "application = Application.get_instance()\n",
    "nanohub_db = application.new_db_engine('nanohub')\n",
    "metrics_db = application.new_db_engine('nanohub_metrics')\n",
    "\n",
    "salesforce = application.new_salesforce_engine()\n",
    "db_s = salesforce"
   ]
  },
  {
   "cell_type": "code",
   "execution_count": 4,
   "metadata": {
    "execution": {
     "iopub.execute_input": "2022-09-23T15:03:31.472326Z",
     "iopub.status.busy": "2022-09-23T15:03:31.470262Z",
     "iopub.status.idle": "2022-09-23T15:06:42.718687Z",
     "shell.execute_reply": "2022-09-23T15:06:42.717583Z",
     "shell.execute_reply.started": "2022-09-23T15:03:31.472163Z"
    },
    "tags": []
   },
   "outputs": [],
   "source": [
    "sql_query = '''\n",
    "SELECT *\n",
    "FROM (\n",
    "       SELECT DISTINCT id,\n",
    "                       user,\n",
    "                       MIN(COALESCE(datetime)) AS min_datetime,\n",
    "                       MAX(COALESCE(datetime)) AS max_datetime,\n",
    "                       CASE\n",
    "                         WHEN datediff(MAX(COALESCE(datetime)), MIN(COALESCE(datetime))) = 0\n",
    "                           THEN 1\n",
    "                         ELSE\n",
    "                           datediff(MAX(COALESCE(datetime)), MIN(COALESCE(datetime)))\n",
    "                         END\n",
    "                                               AS sim_lifetime\n",
    "       FROM nanohub_metrics.toolstart\n",
    "       WHERE (datetime != 0 OR datetime != '') \n",
    "       GROUP BY user\n",
    "       UNION\n",
    "       SELECT DISTINCT id,\n",
    "                       user,\n",
    "                       '1980-00-00 00:00:00' AS min_datetime,\n",
    "                       '1980-00-00 00:00:00' AS max_datetime,\n",
    "                       'indeterminate'       AS sim_lifetime\n",
    "       FROM nanohub_metrics.toolstart\n",
    "       GROUP BY user\n",
    "       HAVING COALESCE(SUM(datetime), 0) = 0\n",
    "     ) A\n",
    "WHERE A.user != '';\n",
    "'''\n",
    "#\"select min(datetime), max(datetime), user from toolstart group by user\"\n",
    "lifetimes_df = pd.read_sql_query(sql_query,metrics_db)"
   ]
  },
  {
   "cell_type": "code",
   "execution_count": 5,
   "metadata": {
    "execution": {
     "iopub.execute_input": "2021-09-29T02:15:35.882373Z",
     "iopub.status.busy": "2021-09-29T02:15:35.882192Z",
     "iopub.status.idle": "2021-09-29T02:15:35.926480Z",
     "shell.execute_reply": "2021-09-29T02:15:35.924728Z",
     "shell.execute_reply.started": "2021-09-29T02:15:35.882346Z"
    }
   },
   "outputs": [],
   "source": [
    "# remove garbage usernames\n",
    "lifetimes_df = lifetimes_df[lifetimes_df['user'] != '']"
   ]
  },
  {
   "cell_type": "code",
   "execution_count": 6,
   "metadata": {
    "execution": {
     "iopub.execute_input": "2021-09-29T02:15:35.928609Z",
     "iopub.status.busy": "2021-09-29T02:15:35.928333Z",
     "iopub.status.idle": "2021-09-29T02:15:35.956763Z",
     "shell.execute_reply": "2021-09-29T02:15:35.953232Z",
     "shell.execute_reply.started": "2021-09-29T02:15:35.928576Z"
    }
   },
   "outputs": [
    {
     "data": {
      "text/html": [
       "<div>\n",
       "<style scoped>\n",
       "    .dataframe tbody tr th:only-of-type {\n",
       "        vertical-align: middle;\n",
       "    }\n",
       "\n",
       "    .dataframe tbody tr th {\n",
       "        vertical-align: top;\n",
       "    }\n",
       "\n",
       "    .dataframe thead th {\n",
       "        text-align: right;\n",
       "    }\n",
       "</style>\n",
       "<table border=\"1\" class=\"dataframe\">\n",
       "  <thead>\n",
       "    <tr style=\"text-align: right;\">\n",
       "      <th></th>\n",
       "      <th>id</th>\n",
       "      <th>user</th>\n",
       "      <th>min_datetime</th>\n",
       "      <th>max_datetime</th>\n",
       "      <th>sim_lifetime</th>\n",
       "    </tr>\n",
       "  </thead>\n",
       "  <tbody>\n",
       "    <tr>\n",
       "      <th>0</th>\n",
       "      <td>8486100</td>\n",
       "      <td>0.yao.yuan</td>\n",
       "      <td>2017-03-08 10:15:23</td>\n",
       "      <td>2017-03-09 05:09:22</td>\n",
       "      <td>1</td>\n",
       "    </tr>\n",
       "    <tr>\n",
       "      <th>1</th>\n",
       "      <td>7813898</td>\n",
       "      <td>008dilip</td>\n",
       "      <td>2016-09-28 20:27:13</td>\n",
       "      <td>2016-10-12 23:50:56</td>\n",
       "      <td>14</td>\n",
       "    </tr>\n",
       "    <tr>\n",
       "      <th>2</th>\n",
       "      <td>5495446</td>\n",
       "      <td>00ff</td>\n",
       "      <td>2013-11-19 00:53:23</td>\n",
       "      <td>2013-11-19 00:58:56</td>\n",
       "      <td>1</td>\n",
       "    </tr>\n",
       "    <tr>\n",
       "      <th>3</th>\n",
       "      <td>8537204</td>\n",
       "      <td>00thamizharasi00</td>\n",
       "      <td>2017-03-20 09:46:36</td>\n",
       "      <td>2017-03-20 09:46:36</td>\n",
       "      <td>1</td>\n",
       "    </tr>\n",
       "    <tr>\n",
       "      <th>4</th>\n",
       "      <td>24637464</td>\n",
       "      <td>01024461660a</td>\n",
       "      <td>2020-09-23 18:14:20</td>\n",
       "      <td>2020-12-11 02:58:30</td>\n",
       "      <td>79</td>\n",
       "    </tr>\n",
       "    <tr>\n",
       "      <th>...</th>\n",
       "      <td>...</td>\n",
       "      <td>...</td>\n",
       "      <td>...</td>\n",
       "      <td>...</td>\n",
       "      <td>...</td>\n",
       "    </tr>\n",
       "    <tr>\n",
       "      <th>157411</th>\n",
       "      <td>26348982</td>\n",
       "      <td>zzzwmhq</td>\n",
       "      <td>2021-07-05 13:19:19</td>\n",
       "      <td>2021-07-05 13:27:28</td>\n",
       "      <td>1</td>\n",
       "    </tr>\n",
       "    <tr>\n",
       "      <th>157412</th>\n",
       "      <td>719</td>\n",
       "      <td>z_depth</td>\n",
       "      <td>2002-07-23 02:52:49</td>\n",
       "      <td>2002-07-23 03:04:24</td>\n",
       "      <td>1</td>\n",
       "    </tr>\n",
       "    <tr>\n",
       "      <th>157413</th>\n",
       "      <td>577288</td>\n",
       "      <td>Z_E_U_S</td>\n",
       "      <td>2006-10-16 20:25:49</td>\n",
       "      <td>2006-10-16 20:27:53</td>\n",
       "      <td>1</td>\n",
       "    </tr>\n",
       "    <tr>\n",
       "      <th>157414</th>\n",
       "      <td>5078871</td>\n",
       "      <td>z_henry35</td>\n",
       "      <td>2013-02-11 14:42:41</td>\n",
       "      <td>2013-02-19 01:53:39</td>\n",
       "      <td>8</td>\n",
       "    </tr>\n",
       "    <tr>\n",
       "      <th>157415</th>\n",
       "      <td>1088018</td>\n",
       "      <td>z_sath</td>\n",
       "      <td>2008-07-09 22:51:51</td>\n",
       "      <td>2008-07-23 09:39:34</td>\n",
       "      <td>14</td>\n",
       "    </tr>\n",
       "  </tbody>\n",
       "</table>\n",
       "<p>157416 rows × 5 columns</p>\n",
       "</div>"
      ],
      "text/plain": [
       "              id              user         min_datetime         max_datetime  \\\n",
       "0        8486100        0.yao.yuan  2017-03-08 10:15:23  2017-03-09 05:09:22   \n",
       "1        7813898          008dilip  2016-09-28 20:27:13  2016-10-12 23:50:56   \n",
       "2        5495446              00ff  2013-11-19 00:53:23  2013-11-19 00:58:56   \n",
       "3        8537204  00thamizharasi00  2017-03-20 09:46:36  2017-03-20 09:46:36   \n",
       "4       24637464      01024461660a  2020-09-23 18:14:20  2020-12-11 02:58:30   \n",
       "...          ...               ...                  ...                  ...   \n",
       "157411  26348982           zzzwmhq  2021-07-05 13:19:19  2021-07-05 13:27:28   \n",
       "157412       719           z_depth  2002-07-23 02:52:49  2002-07-23 03:04:24   \n",
       "157413    577288           Z_E_U_S  2006-10-16 20:25:49  2006-10-16 20:27:53   \n",
       "157414   5078871         z_henry35  2013-02-11 14:42:41  2013-02-19 01:53:39   \n",
       "157415   1088018            z_sath  2008-07-09 22:51:51  2008-07-23 09:39:34   \n",
       "\n",
       "       sim_lifetime  \n",
       "0                 1  \n",
       "1                14  \n",
       "2                 1  \n",
       "3                 1  \n",
       "4                79  \n",
       "...             ...  \n",
       "157411            1  \n",
       "157412            1  \n",
       "157413            1  \n",
       "157414            8  \n",
       "157415           14  \n",
       "\n",
       "[157416 rows x 5 columns]"
      ]
     },
     "execution_count": 6,
     "metadata": {},
     "output_type": "execute_result"
    }
   ],
   "source": [
    "lifetimes_df"
   ]
  },
  {
   "cell_type": "code",
   "execution_count": 7,
   "metadata": {
    "execution": {
     "iopub.execute_input": "2021-09-29T02:15:35.959279Z",
     "iopub.status.busy": "2021-09-29T02:15:35.958660Z",
     "iopub.status.idle": "2021-09-29T02:15:35.985964Z",
     "shell.execute_reply": "2021-09-29T02:15:35.984821Z",
     "shell.execute_reply.started": "2021-09-29T02:15:35.959244Z"
    }
   },
   "outputs": [],
   "source": [
    "lifetimes_df = lifetimes_df.rename(columns={'user':'nanoHUB_username__c','sim_lifetime':'sim_lifetimes__c',\\\n",
    "                    'min_datetime':'earliest_sim__c','max_datetime':'latest_sim__c'})"
   ]
  },
  {
   "cell_type": "code",
   "execution_count": 8,
   "metadata": {
    "execution": {
     "iopub.execute_input": "2021-09-29T02:15:35.988295Z",
     "iopub.status.busy": "2021-09-29T02:15:35.987456Z",
     "iopub.status.idle": "2021-09-29T02:15:36.011640Z",
     "shell.execute_reply": "2021-09-29T02:15:36.010706Z",
     "shell.execute_reply.started": "2021-09-29T02:15:35.987787Z"
    }
   },
   "outputs": [
    {
     "data": {
      "text/html": [
       "<div>\n",
       "<style scoped>\n",
       "    .dataframe tbody tr th:only-of-type {\n",
       "        vertical-align: middle;\n",
       "    }\n",
       "\n",
       "    .dataframe tbody tr th {\n",
       "        vertical-align: top;\n",
       "    }\n",
       "\n",
       "    .dataframe thead th {\n",
       "        text-align: right;\n",
       "    }\n",
       "</style>\n",
       "<table border=\"1\" class=\"dataframe\">\n",
       "  <thead>\n",
       "    <tr style=\"text-align: right;\">\n",
       "      <th></th>\n",
       "      <th>id</th>\n",
       "      <th>nanoHUB_username__c</th>\n",
       "      <th>earliest_sim__c</th>\n",
       "      <th>latest_sim__c</th>\n",
       "      <th>sim_lifetimes__c</th>\n",
       "    </tr>\n",
       "  </thead>\n",
       "  <tbody>\n",
       "    <tr>\n",
       "      <th>0</th>\n",
       "      <td>8486100</td>\n",
       "      <td>0.yao.yuan</td>\n",
       "      <td>2017-03-08 10:15:23</td>\n",
       "      <td>2017-03-09 05:09:22</td>\n",
       "      <td>1</td>\n",
       "    </tr>\n",
       "    <tr>\n",
       "      <th>1</th>\n",
       "      <td>7813898</td>\n",
       "      <td>008dilip</td>\n",
       "      <td>2016-09-28 20:27:13</td>\n",
       "      <td>2016-10-12 23:50:56</td>\n",
       "      <td>14</td>\n",
       "    </tr>\n",
       "    <tr>\n",
       "      <th>2</th>\n",
       "      <td>5495446</td>\n",
       "      <td>00ff</td>\n",
       "      <td>2013-11-19 00:53:23</td>\n",
       "      <td>2013-11-19 00:58:56</td>\n",
       "      <td>1</td>\n",
       "    </tr>\n",
       "    <tr>\n",
       "      <th>3</th>\n",
       "      <td>8537204</td>\n",
       "      <td>00thamizharasi00</td>\n",
       "      <td>2017-03-20 09:46:36</td>\n",
       "      <td>2017-03-20 09:46:36</td>\n",
       "      <td>1</td>\n",
       "    </tr>\n",
       "    <tr>\n",
       "      <th>4</th>\n",
       "      <td>24637464</td>\n",
       "      <td>01024461660a</td>\n",
       "      <td>2020-09-23 18:14:20</td>\n",
       "      <td>2020-12-11 02:58:30</td>\n",
       "      <td>79</td>\n",
       "    </tr>\n",
       "    <tr>\n",
       "      <th>...</th>\n",
       "      <td>...</td>\n",
       "      <td>...</td>\n",
       "      <td>...</td>\n",
       "      <td>...</td>\n",
       "      <td>...</td>\n",
       "    </tr>\n",
       "    <tr>\n",
       "      <th>157411</th>\n",
       "      <td>26348982</td>\n",
       "      <td>zzzwmhq</td>\n",
       "      <td>2021-07-05 13:19:19</td>\n",
       "      <td>2021-07-05 13:27:28</td>\n",
       "      <td>1</td>\n",
       "    </tr>\n",
       "    <tr>\n",
       "      <th>157412</th>\n",
       "      <td>719</td>\n",
       "      <td>z_depth</td>\n",
       "      <td>2002-07-23 02:52:49</td>\n",
       "      <td>2002-07-23 03:04:24</td>\n",
       "      <td>1</td>\n",
       "    </tr>\n",
       "    <tr>\n",
       "      <th>157413</th>\n",
       "      <td>577288</td>\n",
       "      <td>Z_E_U_S</td>\n",
       "      <td>2006-10-16 20:25:49</td>\n",
       "      <td>2006-10-16 20:27:53</td>\n",
       "      <td>1</td>\n",
       "    </tr>\n",
       "    <tr>\n",
       "      <th>157414</th>\n",
       "      <td>5078871</td>\n",
       "      <td>z_henry35</td>\n",
       "      <td>2013-02-11 14:42:41</td>\n",
       "      <td>2013-02-19 01:53:39</td>\n",
       "      <td>8</td>\n",
       "    </tr>\n",
       "    <tr>\n",
       "      <th>157415</th>\n",
       "      <td>1088018</td>\n",
       "      <td>z_sath</td>\n",
       "      <td>2008-07-09 22:51:51</td>\n",
       "      <td>2008-07-23 09:39:34</td>\n",
       "      <td>14</td>\n",
       "    </tr>\n",
       "  </tbody>\n",
       "</table>\n",
       "<p>157416 rows × 5 columns</p>\n",
       "</div>"
      ],
      "text/plain": [
       "              id nanoHUB_username__c      earliest_sim__c  \\\n",
       "0        8486100          0.yao.yuan  2017-03-08 10:15:23   \n",
       "1        7813898            008dilip  2016-09-28 20:27:13   \n",
       "2        5495446                00ff  2013-11-19 00:53:23   \n",
       "3        8537204    00thamizharasi00  2017-03-20 09:46:36   \n",
       "4       24637464        01024461660a  2020-09-23 18:14:20   \n",
       "...          ...                 ...                  ...   \n",
       "157411  26348982             zzzwmhq  2021-07-05 13:19:19   \n",
       "157412       719             z_depth  2002-07-23 02:52:49   \n",
       "157413    577288             Z_E_U_S  2006-10-16 20:25:49   \n",
       "157414   5078871           z_henry35  2013-02-11 14:42:41   \n",
       "157415   1088018              z_sath  2008-07-09 22:51:51   \n",
       "\n",
       "              latest_sim__c sim_lifetimes__c  \n",
       "0       2017-03-09 05:09:22                1  \n",
       "1       2016-10-12 23:50:56               14  \n",
       "2       2013-11-19 00:58:56                1  \n",
       "3       2017-03-20 09:46:36                1  \n",
       "4       2020-12-11 02:58:30               79  \n",
       "...                     ...              ...  \n",
       "157411  2021-07-05 13:27:28                1  \n",
       "157412  2002-07-23 03:04:24                1  \n",
       "157413  2006-10-16 20:27:53                1  \n",
       "157414  2013-02-19 01:53:39                8  \n",
       "157415  2008-07-23 09:39:34               14  \n",
       "\n",
       "[157416 rows x 5 columns]"
      ]
     },
     "execution_count": 8,
     "metadata": {},
     "output_type": "execute_result"
    }
   ],
   "source": [
    "lifetimes_df"
   ]
  },
  {
   "cell_type": "code",
   "execution_count": 9,
   "metadata": {
    "execution": {
     "iopub.execute_input": "2021-09-29T02:15:36.016770Z",
     "iopub.status.busy": "2021-09-29T02:15:36.014437Z",
     "iopub.status.idle": "2021-09-29T02:15:36.032083Z",
     "shell.execute_reply": "2021-09-29T02:15:36.030860Z",
     "shell.execute_reply.started": "2021-09-29T02:15:36.016646Z"
    },
    "tags": []
   },
   "outputs": [
    {
     "name": "stdout",
     "output_type": "stream",
     "text": [
      "37722\n"
     ]
    }
   ],
   "source": [
    "print(lifetimes_df['nanoHUB_username__c'].to_list().index('drjohnbegg'))"
   ]
  },
  {
   "cell_type": "code",
   "execution_count": 10,
   "metadata": {
    "execution": {
     "iopub.execute_input": "2021-09-29T02:15:36.035189Z",
     "iopub.status.busy": "2021-09-29T02:15:36.033659Z",
     "iopub.status.idle": "2021-09-29T02:15:36.044547Z",
     "shell.execute_reply": "2021-09-29T02:15:36.042913Z",
     "shell.execute_reply.started": "2021-09-29T02:15:36.034905Z"
    }
   },
   "outputs": [
    {
     "name": "stdout",
     "output_type": "stream",
     "text": [
      "id                                 8239889\n",
      "nanoHUB_username__c                 dongws\n",
      "earliest_sim__c        2017-01-23 16:35:49\n",
      "latest_sim__c          2017-03-29 22:21:41\n",
      "sim_lifetimes__c                        65\n",
      "Name: 37081, dtype: object\n"
     ]
    }
   ],
   "source": [
    "print(lifetimes_df.iloc[37081,:]) ## a sanity check"
   ]
  },
  {
   "cell_type": "code",
   "execution_count": 11,
   "metadata": {
    "execution": {
     "iopub.execute_input": "2021-09-29T02:15:36.046752Z",
     "iopub.status.busy": "2021-09-29T02:15:36.045980Z",
     "iopub.status.idle": "2021-09-29T02:15:36.062337Z",
     "shell.execute_reply": "2021-09-29T02:15:36.061533Z",
     "shell.execute_reply.started": "2021-09-29T02:15:36.046713Z"
    },
    "tags": []
   },
   "outputs": [
    {
     "name": "stdout",
     "output_type": "stream",
     "text": [
      "id                                22723493\n",
      "nanoHUB_username__c             drjohnbegg\n",
      "earliest_sim__c        2020-02-10 01:55:57\n",
      "latest_sim__c          2021-09-23 04:55:26\n",
      "sim_lifetimes__c                       591\n",
      "Name: 37722, dtype: object\n"
     ]
    }
   ],
   "source": [
    "print(lifetimes_df.iloc[lifetimes_df['nanoHUB_username__c'].to_list().index('drjohnbegg'),:]) ## a sanity check"
   ]
  },
  {
   "cell_type": "code",
   "execution_count": 12,
   "metadata": {
    "execution": {
     "iopub.execute_input": "2021-09-29T02:15:36.066501Z",
     "iopub.status.busy": "2021-09-29T02:15:36.065309Z",
     "iopub.status.idle": "2021-09-29T02:15:36.080107Z",
     "shell.execute_reply": "2021-09-29T02:15:36.078804Z",
     "shell.execute_reply.started": "2021-09-29T02:15:36.066371Z"
    }
   },
   "outputs": [
    {
     "name": "stdout",
     "output_type": "stream",
     "text": [
      "id                                 4867414\n",
      "nanoHUB_username__c                faltens\n",
      "earliest_sim__c        2009-10-27 22:45:33\n",
      "latest_sim__c          2021-09-27 20:40:12\n",
      "sim_lifetimes__c                      4353\n",
      "Name: 44063, dtype: object\n"
     ]
    }
   ],
   "source": [
    "print(lifetimes_df.iloc[lifetimes_df['nanoHUB_username__c'].to_list().index('faltens'),:]) ## a sanity check"
   ]
  },
  {
   "cell_type": "code",
   "execution_count": 13,
   "metadata": {
    "execution": {
     "iopub.execute_input": "2021-09-29T02:15:36.082811Z",
     "iopub.status.busy": "2021-09-29T02:15:36.081655Z",
     "iopub.status.idle": "2021-09-29T02:15:36.101343Z",
     "shell.execute_reply": "2021-09-29T02:15:36.100565Z",
     "shell.execute_reply.started": "2021-09-29T02:15:36.082772Z"
    }
   },
   "outputs": [
    {
     "name": "stdout",
     "output_type": "stream",
     "text": [
      "id                                  338947\n",
      "nanoHUB_username__c                  gekco\n",
      "earliest_sim__c        2004-02-02 12:58:12\n",
      "latest_sim__c          2021-09-26 12:12:39\n",
      "sim_lifetimes__c                      6446\n",
      "Name: 48400, dtype: object\n"
     ]
    }
   ],
   "source": [
    "print(lifetimes_df.iloc[lifetimes_df['nanoHUB_username__c'].to_list().index('gekco'),:]) ## a sanity check"
   ]
  },
  {
   "cell_type": "code",
   "execution_count": 14,
   "metadata": {
    "execution": {
     "iopub.execute_input": "2021-09-29T02:15:36.104330Z",
     "iopub.status.busy": "2021-09-29T02:15:36.103116Z",
     "iopub.status.idle": "2021-09-29T02:15:36.113212Z",
     "shell.execute_reply": "2021-09-29T02:15:36.110161Z",
     "shell.execute_reply.started": "2021-09-29T02:15:36.104251Z"
    }
   },
   "outputs": [],
   "source": [
    "## send to salesforce"
   ]
  },
  {
   "cell_type": "code",
   "execution_count": 15,
   "metadata": {
    "execution": {
     "iopub.execute_input": "2021-09-29T02:15:36.116978Z",
     "iopub.status.busy": "2021-09-29T02:15:36.115478Z",
     "iopub.status.idle": "2021-09-29T02:15:36.124158Z",
     "shell.execute_reply": "2021-09-29T02:15:36.121887Z",
     "shell.execute_reply.started": "2021-09-29T02:15:36.116936Z"
    }
   },
   "outputs": [],
   "source": [
    "db_s.external_id = 'nanoHUB_username__c' #external_id\n",
    "db_s.object_id = 'Contact' #object_id"
   ]
  },
  {
   "cell_type": "code",
   "execution_count": 16,
   "metadata": {
    "execution": {
     "iopub.execute_input": "2021-09-29T02:15:36.129350Z",
     "iopub.status.busy": "2021-09-29T02:15:36.126895Z",
     "iopub.status.idle": "2021-09-29T02:15:51.753046Z",
     "shell.execute_reply": "2021-09-29T02:15:51.751839Z",
     "shell.execute_reply.started": "2021-09-29T02:15:36.129294Z"
    }
   },
   "outputs": [
    {
     "name": "stdout",
     "output_type": "stream",
     "text": [
      "[Success] Bulk job creation successful. Job ID = 7505w00000aGLLSAA4\n",
      "hello\n",
      "[Success] CSV upload successful. Job ID = 7505w00000aGLLSAA4\n",
      "[Success] Closing job successful. Job ID = 7505w00000aGLLSAA4\n"
     ]
    }
   ],
   "source": [
    "db_s.send_data(lifetimes_df)"
   ]
  },
  {
   "cell_type": "code",
   "execution_count": 17,
   "metadata": {
    "execution": {
     "iopub.execute_input": "2021-09-29T02:15:51.755162Z",
     "iopub.status.busy": "2021-09-29T02:15:51.754169Z",
     "iopub.status.idle": "2021-09-29T02:15:52.184985Z",
     "shell.execute_reply": "2021-09-29T02:15:52.180819Z",
     "shell.execute_reply.started": "2021-09-29T02:15:51.755103Z"
    }
   },
   "outputs": [
    {
     "data": {
      "text/plain": [
       "{'id': '7505w00000aGLLSAA4',\n",
       " 'operation': 'upsert',\n",
       " 'object': 'Contact',\n",
       " 'createdById': '0055w00000DM5bOAAT',\n",
       " 'createdDate': '2021-09-29T02:15:36.000+0000',\n",
       " 'systemModstamp': '2021-09-29T02:15:51.000+0000',\n",
       " 'state': 'UploadComplete',\n",
       " 'externalIdFieldName': 'nanoHUB_username__c',\n",
       " 'concurrencyMode': 'Parallel',\n",
       " 'contentType': 'CSV',\n",
       " 'apiVersion': 47.0,\n",
       " 'jobType': 'V2Ingest',\n",
       " 'lineEnding': 'LF',\n",
       " 'columnDelimiter': 'COMMA',\n",
       " 'numberRecordsProcessed': 0,\n",
       " 'numberRecordsFailed': 0,\n",
       " 'retries': 0,\n",
       " 'totalProcessingTime': 0,\n",
       " 'apiActiveProcessingTime': 0,\n",
       " 'apexProcessingTime': 0}"
      ]
     },
     "execution_count": 17,
     "metadata": {},
     "output_type": "execute_result"
    }
   ],
   "source": [
    "db_s.check_bulk_status()"
   ]
  },
  {
   "cell_type": "code",
   "execution_count": 18,
   "metadata": {
    "execution": {
     "iopub.execute_input": "2021-09-29T02:15:52.186773Z",
     "iopub.status.busy": "2021-09-29T02:15:52.186479Z",
     "iopub.status.idle": "2021-09-29T02:15:52.418511Z",
     "shell.execute_reply": "2021-09-29T02:15:52.416765Z",
     "shell.execute_reply.started": "2021-09-29T02:15:52.186744Z"
    }
   },
   "outputs": [
    {
     "name": "stdout",
     "output_type": "stream",
     "text": [
      "''\n"
     ]
    }
   ],
   "source": [
    "import pprint\n",
    "pprint.pprint(db_s.check_bulk_failed_results())"
   ]
  },
  {
   "cell_type": "code",
   "execution_count": null,
   "metadata": {},
   "outputs": [],
   "source": []
  }
 ],
 "metadata": {
  "kernelspec": {
   "display_name": "Python 3 (ipykernel)",
   "language": "python",
   "name": "python3"
  },
  "language_info": {
   "codemirror_mode": {
    "name": "ipython",
    "version": 3
   },
   "file_extension": ".py",
   "mimetype": "text/x-python",
   "name": "python",
   "nbconvert_exporter": "python",
   "pygments_lexer": "ipython3",
   "version": "3.8.10"
  }
 },
 "nbformat": 4,
 "nbformat_minor": 4
}
