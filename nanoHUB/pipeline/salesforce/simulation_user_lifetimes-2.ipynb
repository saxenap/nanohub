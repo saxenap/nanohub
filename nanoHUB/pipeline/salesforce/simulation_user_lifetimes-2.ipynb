{
 "cells": [
  {
   "cell_type": "markdown",
   "metadata": {},
   "source": [
    "## simulation user lifetimes "
   ]
  },
  {
   "cell_type": "code",
   "execution_count": 1,
   "metadata": {
    "execution": {
     "iopub.execute_input": "2021-09-29T00:17:19.730124Z",
     "iopub.status.busy": "2021-09-29T00:17:19.728342Z",
     "iopub.status.idle": "2021-09-29T00:17:20.135417Z",
     "shell.execute_reply": "2021-09-29T00:17:20.133942Z",
     "shell.execute_reply.started": "2021-09-29T00:17:19.730024Z"
    }
   },
   "outputs": [],
   "source": [
    "import sys\n",
    "import pandas as pd\n",
    "import time\n",
    "import datetime"
   ]
  },
  {
   "cell_type": "code",
   "execution_count": 2,
   "metadata": {
    "execution": {
     "iopub.execute_input": "2021-09-29T00:17:20.144484Z",
     "iopub.status.busy": "2021-09-29T00:17:20.144130Z",
     "iopub.status.idle": "2021-09-29T00:17:20.152310Z",
     "shell.execute_reply": "2021-09-29T00:17:20.151639Z",
     "shell.execute_reply.started": "2021-09-29T00:17:20.144445Z"
    }
   },
   "outputs": [],
   "source": [
    "## warnings handler\n",
    "import warnings\n",
    "warnings.filterwarnings('ignore')\n",
    "# warnings.filterwarnings(action='once')\n",
    "warnings.simplefilter(action='ignore', category=FutureWarning)"
   ]
  },
  {
   "cell_type": "code",
   "execution_count": 3,
   "metadata": {
    "execution": {
     "iopub.execute_input": "2021-09-29T00:17:20.156749Z",
     "iopub.status.busy": "2021-09-29T00:17:20.155822Z",
     "iopub.status.idle": "2021-09-29T00:17:22.192546Z",
     "shell.execute_reply": "2021-09-29T00:17:22.189581Z",
     "shell.execute_reply.started": "2021-09-29T00:17:20.156624Z"
    }
   },
   "outputs": [
    {
     "name": "stdout",
     "output_type": "stream",
     "text": [
      "\u001b[1mnanoHUB - Serving Students, Researchers & Instructors\u001b[0m\n",
      "Obtained Salesforce access token ...... True\n"
     ]
    }
   ],
   "source": [
    "from nanoHUB.application import Application\n",
    "\n",
    "application = Application.get_instance()\n",
    "nanohub_db = application.new_db_engine('nanohub')\n",
    "metrics_db = application.new_db_engine('nanohub_metrics')\n",
    "\n",
    "salesforce = application.new_salesforce_engine()\n",
    "db_s = salesforce"
   ]
  },
  {
   "cell_type": "code",
   "execution_count": 4,
   "metadata": {
    "execution": {
     "iopub.execute_input": "2021-09-29T00:17:22.195827Z",
     "iopub.status.busy": "2021-09-29T00:17:22.194748Z",
     "iopub.status.idle": "2021-09-29T00:21:30.986263Z",
     "shell.execute_reply": "2021-09-29T00:21:30.985197Z",
     "shell.execute_reply.started": "2021-09-29T00:17:22.195787Z"
    }
   },
   "outputs": [],
   "source": [
    "sql_query = '''\n",
    "SELECT *\n",
    "FROM (\n",
    "       SELECT DISTINCT id,\n",
    "                       user,\n",
    "                       MIN(COALESCE(datetime)) AS min_datetime,\n",
    "                       MAX(COALESCE(datetime)) AS max_datetime,\n",
    "                       CASE\n",
    "                         WHEN datediff(MAX(COALESCE(datetime)), MIN(COALESCE(datetime))) = 0\n",
    "                           THEN 1\n",
    "                         ELSE\n",
    "                           datediff(MAX(COALESCE(datetime)), MIN(COALESCE(datetime)))\n",
    "                         END\n",
    "                                               AS sim_lifetime\n",
    "       FROM nanohub_metrics.toolstart\n",
    "       WHERE (datetime != 0 OR datetime != '') &&\n",
    "             user != ''\n",
    "       GROUP BY user\n",
    "       UNION\n",
    "       SELECT DISTINCT id,\n",
    "                       user,\n",
    "                       '1980-00-00 00:00:00' AS min_datetime,\n",
    "                       '1980-00-00 00:00:00' AS max_datetime,\n",
    "                       'indeterminate'       AS sim_lifetime\n",
    "       FROM nanohub_metrics.toolstart\n",
    "       WHERE user != ''\n",
    "       GROUP BY user\n",
    "       HAVING COALESCE(SUM(datetime), 0) = 0\n",
    "     ) A\n",
    "WHERE A.user != '';\n",
    "'''\n",
    "#\"select min(datetime), max(datetime), user from toolstart group by user\"\n",
    "lifetimes_df = pd.read_sql_query(sql_query,metrics_db)"
   ]
  },
  {
   "cell_type": "code",
   "execution_count": 5,
   "metadata": {
    "execution": {
     "iopub.execute_input": "2021-09-29T00:21:30.987584Z",
     "iopub.status.busy": "2021-09-29T00:21:30.987439Z",
     "iopub.status.idle": "2021-09-29T00:21:31.037617Z",
     "shell.execute_reply": "2021-09-29T00:21:31.036284Z",
     "shell.execute_reply.started": "2021-09-29T00:21:30.987558Z"
    }
   },
   "outputs": [],
   "source": [
    "# remove garbage usernames\n",
    "lifetimes_df = lifetimes_df[lifetimes_df['user'] != '']"
   ]
  },
  {
   "cell_type": "code",
   "execution_count": 6,
   "metadata": {
    "execution": {
     "iopub.execute_input": "2021-09-29T00:21:31.039330Z",
     "iopub.status.busy": "2021-09-29T00:21:31.039106Z",
     "iopub.status.idle": "2021-09-29T00:21:31.074871Z",
     "shell.execute_reply": "2021-09-29T00:21:31.072686Z",
     "shell.execute_reply.started": "2021-09-29T00:21:31.039301Z"
    }
   },
   "outputs": [
    {
     "data": {
      "text/html": [
       "<div>\n",
       "<style scoped>\n",
       "    .dataframe tbody tr th:only-of-type {\n",
       "        vertical-align: middle;\n",
       "    }\n",
       "\n",
       "    .dataframe tbody tr th {\n",
       "        vertical-align: top;\n",
       "    }\n",
       "\n",
       "    .dataframe thead th {\n",
       "        text-align: right;\n",
       "    }\n",
       "</style>\n",
       "<table border=\"1\" class=\"dataframe\">\n",
       "  <thead>\n",
       "    <tr style=\"text-align: right;\">\n",
       "      <th></th>\n",
       "      <th>id</th>\n",
       "      <th>user</th>\n",
       "      <th>min_datetime</th>\n",
       "      <th>max_datetime</th>\n",
       "      <th>sim_lifetime</th>\n",
       "    </tr>\n",
       "  </thead>\n",
       "  <tbody>\n",
       "    <tr>\n",
       "      <th>0</th>\n",
       "      <td>8486100</td>\n",
       "      <td>0.yao.yuan</td>\n",
       "      <td>2017-03-08 10:15:23</td>\n",
       "      <td>2017-03-09 05:09:22</td>\n",
       "      <td>1</td>\n",
       "    </tr>\n",
       "    <tr>\n",
       "      <th>1</th>\n",
       "      <td>7813898</td>\n",
       "      <td>008dilip</td>\n",
       "      <td>2016-09-28 20:27:13</td>\n",
       "      <td>2016-10-12 23:50:56</td>\n",
       "      <td>14</td>\n",
       "    </tr>\n",
       "    <tr>\n",
       "      <th>2</th>\n",
       "      <td>5495446</td>\n",
       "      <td>00ff</td>\n",
       "      <td>2013-11-19 00:53:23</td>\n",
       "      <td>2013-11-19 00:58:56</td>\n",
       "      <td>1</td>\n",
       "    </tr>\n",
       "    <tr>\n",
       "      <th>3</th>\n",
       "      <td>8537204</td>\n",
       "      <td>00thamizharasi00</td>\n",
       "      <td>2017-03-20 09:46:36</td>\n",
       "      <td>2017-03-20 09:46:36</td>\n",
       "      <td>1</td>\n",
       "    </tr>\n",
       "    <tr>\n",
       "      <th>4</th>\n",
       "      <td>24637464</td>\n",
       "      <td>01024461660a</td>\n",
       "      <td>2020-09-23 18:14:20</td>\n",
       "      <td>2020-12-11 02:58:30</td>\n",
       "      <td>79</td>\n",
       "    </tr>\n",
       "    <tr>\n",
       "      <th>...</th>\n",
       "      <td>...</td>\n",
       "      <td>...</td>\n",
       "      <td>...</td>\n",
       "      <td>...</td>\n",
       "      <td>...</td>\n",
       "    </tr>\n",
       "    <tr>\n",
       "      <th>157411</th>\n",
       "      <td>26348982</td>\n",
       "      <td>zzzwmhq</td>\n",
       "      <td>2021-07-05 13:19:19</td>\n",
       "      <td>2021-07-05 13:27:28</td>\n",
       "      <td>1</td>\n",
       "    </tr>\n",
       "    <tr>\n",
       "      <th>157412</th>\n",
       "      <td>719</td>\n",
       "      <td>z_depth</td>\n",
       "      <td>2002-07-23 02:52:49</td>\n",
       "      <td>2002-07-23 03:04:24</td>\n",
       "      <td>1</td>\n",
       "    </tr>\n",
       "    <tr>\n",
       "      <th>157413</th>\n",
       "      <td>577288</td>\n",
       "      <td>Z_E_U_S</td>\n",
       "      <td>2006-10-16 20:25:49</td>\n",
       "      <td>2006-10-16 20:27:53</td>\n",
       "      <td>1</td>\n",
       "    </tr>\n",
       "    <tr>\n",
       "      <th>157414</th>\n",
       "      <td>5078871</td>\n",
       "      <td>z_henry35</td>\n",
       "      <td>2013-02-11 14:42:41</td>\n",
       "      <td>2013-02-19 01:53:39</td>\n",
       "      <td>8</td>\n",
       "    </tr>\n",
       "    <tr>\n",
       "      <th>157415</th>\n",
       "      <td>1088018</td>\n",
       "      <td>z_sath</td>\n",
       "      <td>2008-07-09 22:51:51</td>\n",
       "      <td>2008-07-23 09:39:34</td>\n",
       "      <td>14</td>\n",
       "    </tr>\n",
       "  </tbody>\n",
       "</table>\n",
       "<p>157416 rows × 5 columns</p>\n",
       "</div>"
      ],
      "text/plain": [
       "              id              user         min_datetime         max_datetime  \\\n",
       "0        8486100        0.yao.yuan  2017-03-08 10:15:23  2017-03-09 05:09:22   \n",
       "1        7813898          008dilip  2016-09-28 20:27:13  2016-10-12 23:50:56   \n",
       "2        5495446              00ff  2013-11-19 00:53:23  2013-11-19 00:58:56   \n",
       "3        8537204  00thamizharasi00  2017-03-20 09:46:36  2017-03-20 09:46:36   \n",
       "4       24637464      01024461660a  2020-09-23 18:14:20  2020-12-11 02:58:30   \n",
       "...          ...               ...                  ...                  ...   \n",
       "157411  26348982           zzzwmhq  2021-07-05 13:19:19  2021-07-05 13:27:28   \n",
       "157412       719           z_depth  2002-07-23 02:52:49  2002-07-23 03:04:24   \n",
       "157413    577288           Z_E_U_S  2006-10-16 20:25:49  2006-10-16 20:27:53   \n",
       "157414   5078871         z_henry35  2013-02-11 14:42:41  2013-02-19 01:53:39   \n",
       "157415   1088018            z_sath  2008-07-09 22:51:51  2008-07-23 09:39:34   \n",
       "\n",
       "       sim_lifetime  \n",
       "0                 1  \n",
       "1                14  \n",
       "2                 1  \n",
       "3                 1  \n",
       "4                79  \n",
       "...             ...  \n",
       "157411            1  \n",
       "157412            1  \n",
       "157413            1  \n",
       "157414            8  \n",
       "157415           14  \n",
       "\n",
       "[157416 rows x 5 columns]"
      ]
     },
     "execution_count": 6,
     "metadata": {},
     "output_type": "execute_result"
    }
   ],
   "source": [
    "lifetimes_df"
   ]
  },
  {
   "cell_type": "code",
   "execution_count": 7,
   "metadata": {
    "execution": {
     "iopub.execute_input": "2021-09-29T00:21:31.077451Z",
     "iopub.status.busy": "2021-09-29T00:21:31.076452Z",
     "iopub.status.idle": "2021-09-29T00:21:31.105719Z",
     "shell.execute_reply": "2021-09-29T00:21:31.104775Z",
     "shell.execute_reply.started": "2021-09-29T00:21:31.077390Z"
    }
   },
   "outputs": [],
   "source": [
    "lifetimes_df = lifetimes_df.rename(columns={'user':'nanoHUB_username__c','sim_lifetime':'sim_lifetimes__c',\\\n",
    "                    'min_datetime':'earliest_sim__c','max_datetime':'latest_sim__c'})"
   ]
  },
  {
   "cell_type": "code",
   "execution_count": 8,
   "metadata": {
    "execution": {
     "iopub.execute_input": "2021-09-29T00:21:31.107729Z",
     "iopub.status.busy": "2021-09-29T00:21:31.107331Z",
     "iopub.status.idle": "2021-09-29T00:21:31.130057Z",
     "shell.execute_reply": "2021-09-29T00:21:31.128452Z",
     "shell.execute_reply.started": "2021-09-29T00:21:31.107552Z"
    }
   },
   "outputs": [
    {
     "data": {
      "text/html": [
       "<div>\n",
       "<style scoped>\n",
       "    .dataframe tbody tr th:only-of-type {\n",
       "        vertical-align: middle;\n",
       "    }\n",
       "\n",
       "    .dataframe tbody tr th {\n",
       "        vertical-align: top;\n",
       "    }\n",
       "\n",
       "    .dataframe thead th {\n",
       "        text-align: right;\n",
       "    }\n",
       "</style>\n",
       "<table border=\"1\" class=\"dataframe\">\n",
       "  <thead>\n",
       "    <tr style=\"text-align: right;\">\n",
       "      <th></th>\n",
       "      <th>id</th>\n",
       "      <th>nanoHUB_username__c</th>\n",
       "      <th>earliest_sim__c</th>\n",
       "      <th>latest_sim__c</th>\n",
       "      <th>sim_lifetimes__c</th>\n",
       "    </tr>\n",
       "  </thead>\n",
       "  <tbody>\n",
       "    <tr>\n",
       "      <th>0</th>\n",
       "      <td>8486100</td>\n",
       "      <td>0.yao.yuan</td>\n",
       "      <td>2017-03-08 10:15:23</td>\n",
       "      <td>2017-03-09 05:09:22</td>\n",
       "      <td>1</td>\n",
       "    </tr>\n",
       "    <tr>\n",
       "      <th>1</th>\n",
       "      <td>7813898</td>\n",
       "      <td>008dilip</td>\n",
       "      <td>2016-09-28 20:27:13</td>\n",
       "      <td>2016-10-12 23:50:56</td>\n",
       "      <td>14</td>\n",
       "    </tr>\n",
       "    <tr>\n",
       "      <th>2</th>\n",
       "      <td>5495446</td>\n",
       "      <td>00ff</td>\n",
       "      <td>2013-11-19 00:53:23</td>\n",
       "      <td>2013-11-19 00:58:56</td>\n",
       "      <td>1</td>\n",
       "    </tr>\n",
       "    <tr>\n",
       "      <th>3</th>\n",
       "      <td>8537204</td>\n",
       "      <td>00thamizharasi00</td>\n",
       "      <td>2017-03-20 09:46:36</td>\n",
       "      <td>2017-03-20 09:46:36</td>\n",
       "      <td>1</td>\n",
       "    </tr>\n",
       "    <tr>\n",
       "      <th>4</th>\n",
       "      <td>24637464</td>\n",
       "      <td>01024461660a</td>\n",
       "      <td>2020-09-23 18:14:20</td>\n",
       "      <td>2020-12-11 02:58:30</td>\n",
       "      <td>79</td>\n",
       "    </tr>\n",
       "    <tr>\n",
       "      <th>...</th>\n",
       "      <td>...</td>\n",
       "      <td>...</td>\n",
       "      <td>...</td>\n",
       "      <td>...</td>\n",
       "      <td>...</td>\n",
       "    </tr>\n",
       "    <tr>\n",
       "      <th>157411</th>\n",
       "      <td>26348982</td>\n",
       "      <td>zzzwmhq</td>\n",
       "      <td>2021-07-05 13:19:19</td>\n",
       "      <td>2021-07-05 13:27:28</td>\n",
       "      <td>1</td>\n",
       "    </tr>\n",
       "    <tr>\n",
       "      <th>157412</th>\n",
       "      <td>719</td>\n",
       "      <td>z_depth</td>\n",
       "      <td>2002-07-23 02:52:49</td>\n",
       "      <td>2002-07-23 03:04:24</td>\n",
       "      <td>1</td>\n",
       "    </tr>\n",
       "    <tr>\n",
       "      <th>157413</th>\n",
       "      <td>577288</td>\n",
       "      <td>Z_E_U_S</td>\n",
       "      <td>2006-10-16 20:25:49</td>\n",
       "      <td>2006-10-16 20:27:53</td>\n",
       "      <td>1</td>\n",
       "    </tr>\n",
       "    <tr>\n",
       "      <th>157414</th>\n",
       "      <td>5078871</td>\n",
       "      <td>z_henry35</td>\n",
       "      <td>2013-02-11 14:42:41</td>\n",
       "      <td>2013-02-19 01:53:39</td>\n",
       "      <td>8</td>\n",
       "    </tr>\n",
       "    <tr>\n",
       "      <th>157415</th>\n",
       "      <td>1088018</td>\n",
       "      <td>z_sath</td>\n",
       "      <td>2008-07-09 22:51:51</td>\n",
       "      <td>2008-07-23 09:39:34</td>\n",
       "      <td>14</td>\n",
       "    </tr>\n",
       "  </tbody>\n",
       "</table>\n",
       "<p>157416 rows × 5 columns</p>\n",
       "</div>"
      ],
      "text/plain": [
       "              id nanoHUB_username__c      earliest_sim__c  \\\n",
       "0        8486100          0.yao.yuan  2017-03-08 10:15:23   \n",
       "1        7813898            008dilip  2016-09-28 20:27:13   \n",
       "2        5495446                00ff  2013-11-19 00:53:23   \n",
       "3        8537204    00thamizharasi00  2017-03-20 09:46:36   \n",
       "4       24637464        01024461660a  2020-09-23 18:14:20   \n",
       "...          ...                 ...                  ...   \n",
       "157411  26348982             zzzwmhq  2021-07-05 13:19:19   \n",
       "157412       719             z_depth  2002-07-23 02:52:49   \n",
       "157413    577288             Z_E_U_S  2006-10-16 20:25:49   \n",
       "157414   5078871           z_henry35  2013-02-11 14:42:41   \n",
       "157415   1088018              z_sath  2008-07-09 22:51:51   \n",
       "\n",
       "              latest_sim__c sim_lifetimes__c  \n",
       "0       2017-03-09 05:09:22                1  \n",
       "1       2016-10-12 23:50:56               14  \n",
       "2       2013-11-19 00:58:56                1  \n",
       "3       2017-03-20 09:46:36                1  \n",
       "4       2020-12-11 02:58:30               79  \n",
       "...                     ...              ...  \n",
       "157411  2021-07-05 13:27:28                1  \n",
       "157412  2002-07-23 03:04:24                1  \n",
       "157413  2006-10-16 20:27:53                1  \n",
       "157414  2013-02-19 01:53:39                8  \n",
       "157415  2008-07-23 09:39:34               14  \n",
       "\n",
       "[157416 rows x 5 columns]"
      ]
     },
     "execution_count": 8,
     "metadata": {},
     "output_type": "execute_result"
    }
   ],
   "source": [
    "lifetimes_df"
   ]
  },
  {
   "cell_type": "code",
   "execution_count": 9,
   "metadata": {
    "execution": {
     "iopub.execute_input": "2021-09-29T00:21:31.132732Z",
     "iopub.status.busy": "2021-09-29T00:21:31.132205Z",
     "iopub.status.idle": "2021-09-29T00:21:31.148729Z",
     "shell.execute_reply": "2021-09-29T00:21:31.146681Z",
     "shell.execute_reply.started": "2021-09-29T00:21:31.132693Z"
    },
    "tags": []
   },
   "outputs": [
    {
     "name": "stdout",
     "output_type": "stream",
     "text": [
      "37722\n"
     ]
    }
   ],
   "source": [
    "print(lifetimes_df['nanoHUB_username__c'].to_list().index('drjohnbegg'))"
   ]
  },
  {
   "cell_type": "code",
   "execution_count": 10,
   "metadata": {
    "execution": {
     "iopub.execute_input": "2021-09-29T00:21:31.152035Z",
     "iopub.status.busy": "2021-09-29T00:21:31.151139Z",
     "iopub.status.idle": "2021-09-29T00:21:31.161391Z",
     "shell.execute_reply": "2021-09-29T00:21:31.159318Z",
     "shell.execute_reply.started": "2021-09-29T00:21:31.151999Z"
    }
   },
   "outputs": [
    {
     "name": "stdout",
     "output_type": "stream",
     "text": [
      "id                                 8239889\n",
      "nanoHUB_username__c                 dongws\n",
      "earliest_sim__c        2017-01-23 16:35:49\n",
      "latest_sim__c          2017-03-29 22:21:41\n",
      "sim_lifetimes__c                        65\n",
      "Name: 37081, dtype: object\n"
     ]
    }
   ],
   "source": [
    "print(lifetimes_df.iloc[37081,:]) ## a sanity check"
   ]
  },
  {
   "cell_type": "code",
   "execution_count": 11,
   "metadata": {
    "execution": {
     "iopub.execute_input": "2021-09-29T00:21:31.163357Z",
     "iopub.status.busy": "2021-09-29T00:21:31.163100Z",
     "iopub.status.idle": "2021-09-29T00:21:31.180311Z",
     "shell.execute_reply": "2021-09-29T00:21:31.178297Z",
     "shell.execute_reply.started": "2021-09-29T00:21:31.163325Z"
    },
    "tags": []
   },
   "outputs": [
    {
     "name": "stdout",
     "output_type": "stream",
     "text": [
      "id                                22723493\n",
      "nanoHUB_username__c             drjohnbegg\n",
      "earliest_sim__c        2020-02-10 01:55:57\n",
      "latest_sim__c          2021-09-23 04:55:26\n",
      "sim_lifetimes__c                       591\n",
      "Name: 37722, dtype: object\n"
     ]
    }
   ],
   "source": [
    "print(lifetimes_df.iloc[lifetimes_df['nanoHUB_username__c'].to_list().index('drjohnbegg'),:]) ## a sanity check"
   ]
  },
  {
   "cell_type": "code",
   "execution_count": 12,
   "metadata": {
    "execution": {
     "iopub.execute_input": "2021-09-29T00:21:31.184018Z",
     "iopub.status.busy": "2021-09-29T00:21:31.183497Z",
     "iopub.status.idle": "2021-09-29T00:21:31.200884Z",
     "shell.execute_reply": "2021-09-29T00:21:31.199446Z",
     "shell.execute_reply.started": "2021-09-29T00:21:31.183883Z"
    }
   },
   "outputs": [
    {
     "name": "stdout",
     "output_type": "stream",
     "text": [
      "id                                 4867414\n",
      "nanoHUB_username__c                faltens\n",
      "earliest_sim__c        2009-10-27 22:45:33\n",
      "latest_sim__c          2021-09-27 20:40:12\n",
      "sim_lifetimes__c                      4353\n",
      "Name: 44063, dtype: object\n"
     ]
    }
   ],
   "source": [
    "print(lifetimes_df.iloc[lifetimes_df['nanoHUB_username__c'].to_list().index('faltens'),:]) ## a sanity check"
   ]
  },
  {
   "cell_type": "code",
   "execution_count": 13,
   "metadata": {
    "execution": {
     "iopub.execute_input": "2021-09-29T00:21:31.202861Z",
     "iopub.status.busy": "2021-09-29T00:21:31.202503Z",
     "iopub.status.idle": "2021-09-29T00:21:31.220776Z",
     "shell.execute_reply": "2021-09-29T00:21:31.219130Z",
     "shell.execute_reply.started": "2021-09-29T00:21:31.202691Z"
    }
   },
   "outputs": [
    {
     "name": "stdout",
     "output_type": "stream",
     "text": [
      "id                                  338947\n",
      "nanoHUB_username__c                  gekco\n",
      "earliest_sim__c        2004-02-02 12:58:12\n",
      "latest_sim__c          2021-09-26 12:12:39\n",
      "sim_lifetimes__c                      6446\n",
      "Name: 48400, dtype: object\n"
     ]
    }
   ],
   "source": [
    "print(lifetimes_df.iloc[lifetimes_df['nanoHUB_username__c'].to_list().index('gekco'),:]) ## a sanity check"
   ]
  },
  {
   "cell_type": "code",
   "execution_count": 14,
   "metadata": {
    "execution": {
     "iopub.execute_input": "2021-09-29T00:21:31.223564Z",
     "iopub.status.busy": "2021-09-29T00:21:31.222363Z",
     "iopub.status.idle": "2021-09-29T00:21:31.230246Z",
     "shell.execute_reply": "2021-09-29T00:21:31.227470Z",
     "shell.execute_reply.started": "2021-09-29T00:21:31.223522Z"
    }
   },
   "outputs": [],
   "source": [
    "## send to salesforce"
   ]
  },
  {
   "cell_type": "code",
   "execution_count": 15,
   "metadata": {
    "execution": {
     "iopub.execute_input": "2021-09-29T00:21:31.232982Z",
     "iopub.status.busy": "2021-09-29T00:21:31.232552Z",
     "iopub.status.idle": "2021-09-29T00:21:31.243596Z",
     "shell.execute_reply": "2021-09-29T00:21:31.242081Z",
     "shell.execute_reply.started": "2021-09-29T00:21:31.232805Z"
    }
   },
   "outputs": [],
   "source": [
    "db_s.external_id = 'nanoHUB_username__c' #external_id\n",
    "db_s.object_id = 'Contact' #object_id"
   ]
  },
  {
   "cell_type": "code",
   "execution_count": 16,
   "metadata": {
    "execution": {
     "iopub.execute_input": "2021-09-29T00:21:31.248416Z",
     "iopub.status.busy": "2021-09-29T00:21:31.246223Z",
     "iopub.status.idle": "2021-09-29T00:21:48.166489Z",
     "shell.execute_reply": "2021-09-29T00:21:48.164752Z",
     "shell.execute_reply.started": "2021-09-29T00:21:31.248269Z"
    }
   },
   "outputs": [
    {
     "name": "stdout",
     "output_type": "stream",
     "text": [
      "[Success] Bulk job creation successful. Job ID = 7505w00000aGKFTAA4\n",
      "hello\n",
      "[Success] CSV upload successful. Job ID = 7505w00000aGKFTAA4\n",
      "[Success] Closing job successful. Job ID = 7505w00000aGKFTAA4\n"
     ]
    }
   ],
   "source": [
    "db_s.send_data(lifetimes_df)"
   ]
  },
  {
   "cell_type": "code",
   "execution_count": 17,
   "metadata": {
    "execution": {
     "iopub.execute_input": "2021-09-29T00:21:48.169670Z",
     "iopub.status.busy": "2021-09-29T00:21:48.169071Z",
     "iopub.status.idle": "2021-09-29T00:21:48.560799Z",
     "shell.execute_reply": "2021-09-29T00:21:48.559496Z",
     "shell.execute_reply.started": "2021-09-29T00:21:48.169584Z"
    }
   },
   "outputs": [
    {
     "data": {
      "text/plain": [
       "{'id': '7505w00000aGKFTAA4',\n",
       " 'operation': 'upsert',\n",
       " 'object': 'Contact',\n",
       " 'createdById': '0055w00000DM5bOAAT',\n",
       " 'createdDate': '2021-09-29T00:21:31.000+0000',\n",
       " 'systemModstamp': '2021-09-29T00:21:48.000+0000',\n",
       " 'state': 'InProgress',\n",
       " 'externalIdFieldName': 'nanoHUB_username__c',\n",
       " 'concurrencyMode': 'Parallel',\n",
       " 'contentType': 'CSV',\n",
       " 'apiVersion': 47.0,\n",
       " 'jobType': 'V2Ingest',\n",
       " 'lineEnding': 'LF',\n",
       " 'columnDelimiter': 'COMMA',\n",
       " 'numberRecordsProcessed': 0,\n",
       " 'numberRecordsFailed': 0,\n",
       " 'retries': 0,\n",
       " 'totalProcessingTime': 0,\n",
       " 'apiActiveProcessingTime': 0,\n",
       " 'apexProcessingTime': 0}"
      ]
     },
     "execution_count": 17,
     "metadata": {},
     "output_type": "execute_result"
    }
   ],
   "source": [
    "db_s.check_bulk_status()"
   ]
  },
  {
   "cell_type": "code",
   "execution_count": 18,
   "metadata": {
    "execution": {
     "iopub.execute_input": "2021-09-29T00:21:48.564055Z",
     "iopub.status.busy": "2021-09-29T00:21:48.562922Z",
     "iopub.status.idle": "2021-09-29T00:21:48.794842Z",
     "shell.execute_reply": "2021-09-29T00:21:48.792922Z",
     "shell.execute_reply.started": "2021-09-29T00:21:48.564003Z"
    }
   },
   "outputs": [
    {
     "name": "stdout",
     "output_type": "stream",
     "text": [
      "''\n"
     ]
    }
   ],
   "source": [
    "import pprint\n",
    "pprint.pprint(db_s.check_bulk_failed_results())"
   ]
  },
  {
   "cell_type": "code",
   "execution_count": null,
   "metadata": {},
   "outputs": [],
   "source": []
  }
 ],
 "metadata": {
  "kernelspec": {
   "display_name": "Python 3 (ipykernel)",
   "language": "python",
   "name": "python3"
  },
  "language_info": {
   "codemirror_mode": {
    "name": "ipython",
    "version": 3
   },
   "file_extension": ".py",
   "mimetype": "text/x-python",
   "name": "python",
   "nbconvert_exporter": "python",
   "pygments_lexer": "ipython3",
   "version": "3.8.10"
  }
 },
 "nbformat": 4,
 "nbformat_minor": 4
}
