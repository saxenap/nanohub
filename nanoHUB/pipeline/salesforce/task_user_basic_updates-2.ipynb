{
 "cells": [
  {
   "cell_type": "markdown",
   "metadata": {},
   "source": [
    "# DB2-Salesforce connector: Basic user information updates"
   ]
  },
  {
   "cell_type": "code",
   "execution_count": 1,
   "metadata": {
    "collapsed": false,
    "execution": {
     "iopub.execute_input": "2021-12-01T03:52:20.155441Z",
     "iopub.status.busy": "2021-12-01T03:52:20.153406Z",
     "iopub.status.idle": "2021-12-01T03:52:20.183159Z",
     "shell.execute_reply": "2021-12-01T03:52:20.178702Z",
     "shell.execute_reply.started": "2021-12-01T03:52:20.155288Z"
    },
    "jupyter": {
     "outputs_hidden": false
    },
    "pycharm": {
     "name": "#%%\n"
    },
    "tags": []
   },
   "outputs": [],
   "source": [
    "# Parameters\n",
    "hours_range = 24*365*30 # number of hours to look back\n",
    "\n",
    "# API settings\n",
    "external_id = 'nanoHUB_user_ID__c'\n",
    "object_id = 'Contact'"
   ]
  },
  {
   "cell_type": "code",
   "execution_count": 2,
   "metadata": {
    "collapsed": false,
    "execution": {
     "iopub.execute_input": "2021-12-01T03:52:20.186407Z",
     "iopub.status.busy": "2021-12-01T03:52:20.185945Z",
     "iopub.status.idle": "2021-12-01T03:52:22.980876Z",
     "shell.execute_reply": "2021-12-01T03:52:22.980092Z",
     "shell.execute_reply.started": "2021-12-01T03:52:20.186363Z"
    },
    "jupyter": {
     "outputs_hidden": false
    },
    "pycharm": {
     "name": "#%%\n"
    },
    "tags": []
   },
   "outputs": [
    {
     "name": "stdout",
     "output_type": "stream",
     "text": [
      "\u001b[1mnanoHUB - Serving Students, Researchers & Instructors\u001b[0m\n",
      "Obtained Salesforce access token ...... True\n"
     ]
    }
   ],
   "source": [
    "# Parameters\n",
    "import sqlalchemy as sql\n",
    "from nanoHUB.application import Application\n",
    "\n",
    "application = Application.get_instance()\n",
    "nanohub_db = application.new_db_engine('nanohub')\n",
    "wang159_myrmekes_db = application.new_db_engine('wang159_myrmekes')\n",
    "\n",
    "\n",
    "salesforce = application.new_salesforce_engine()\n",
    "db_s = salesforce\n"
   ]
  },
  {
   "cell_type": "code",
   "execution_count": 3,
   "metadata": {
    "collapsed": false,
    "execution": {
     "iopub.execute_input": "2021-12-01T03:52:22.988517Z",
     "iopub.status.busy": "2021-12-01T03:52:22.982514Z",
     "iopub.status.idle": "2021-12-01T03:52:22.999309Z",
     "shell.execute_reply": "2021-12-01T03:52:22.994714Z",
     "shell.execute_reply.started": "2021-12-01T03:52:22.988417Z"
    },
    "jupyter": {
     "outputs_hidden": false
    },
    "pycharm": {
     "name": "#%%\n"
    },
    "tags": []
   },
   "outputs": [],
   "source": [
    "import sys\n",
    "import pandas as pd\n",
    "import datetime"
   ]
  },
  {
   "cell_type": "markdown",
   "metadata": {},
   "source": [
    "## Obtain contacts from DB2\n",
    "that have last visit date within range of interest specified by day_range"
   ]
  },
  {
   "cell_type": "raw",
   "metadata": {},
   "source": [
    "MariaDB [nanohub]> select id, name, label from jos_user_profile_fields;\n",
    "+----+-----------------+-------------------------------------------------------+\n",
    "| id | name            | label                                                 |\n",
    "+----+-----------------+-------------------------------------------------------+\n",
    "|  1 | organization    | Organization                                          |\n",
    "|  2 | orgtype         | Organization / Position Type                          |\n",
    "|  3 | countryresident | Residency                                             |\n",
    "|  4 | countryorigin   | Citizenship                                           |\n",
    "|  5 | url             | Website                                               |\n",
    "|  6 | phone           | Telephone                                             |\n",
    "|  7 | orcid           | ORCID                                                 |\n",
    "|  8 | gender          | Gender                                                |\n",
    "|  9 | race            | Racial Background                                     |\n",
    "| 10 | disability      | Disability                                            |\n",
    "| 11 | reason          | Reason                                                |\n",
    "| 12 | tags            | Interests                                             |\n",
    "| 13 | address         | Address                                               |\n",
    "| 14 | hispanic        | Hispanic Heritage                                     |\n",
    "| 15 | bio             | Biography                                             |\n",
    "| 16 | howdidyouhear   | How did you first hear about nanoHUB?                 |\n",
    "| 17 | purposeofvisit  | What is the primary purpose of your visit to nanoHUB? |\n",
    "+----+-----------------+-------------------------------------------------------+\n",
    "\n",
    "\n",
    "\n",
    "MariaDB [nanohub]> explain  jos_user_profiles;\n",
    "+---------------+------------------+------+-----+---------+----------------+\n",
    "| Field         | Type             | Null | Key | Default | Extra          |\n",
    "+---------------+------------------+------+-----+---------+----------------+\n",
    "| id            | int(11) unsigned | NO   | PRI | NULL    | auto_increment |\n",
    "| user_id       | int(11)          | NO   | MUL | NULL    |                |\n",
    "| profile_key   | varchar(100)     | NO   |     | NULL    |                |\n",
    "| profile_value | text             | NO   |     | NULL    |                |\n",
    "| ordering      | int(11)          | NO   |     | 0       |                |\n",
    "| access        | int(10)          | NO   |     | 0       |                |\n",
    "+---------------+------------------+------+-----+---------+----------------+"
   ]
  },
  {
   "cell_type": "code",
   "execution_count": 4,
   "metadata": {
    "execution": {
     "iopub.execute_input": "2021-12-01T03:52:23.005193Z",
     "iopub.status.busy": "2021-12-01T03:52:23.004107Z",
     "iopub.status.idle": "2021-12-01T03:52:23.017107Z",
     "shell.execute_reply": "2021-12-01T03:52:23.015212Z",
     "shell.execute_reply.started": "2021-12-01T03:52:23.005123Z"
    },
    "tags": []
   },
   "outputs": [],
   "source": [
    "# Hourly update for new registrations\n",
    "date_cutoff = (datetime.datetime.today().date() - datetime.timedelta(hours=hours_range)).strftime('%Y-%m-%d')"
   ]
  },
  {
   "cell_type": "code",
   "execution_count": 5,
   "metadata": {
    "execution": {
     "iopub.execute_input": "2021-12-01T03:52:23.021158Z",
     "iopub.status.busy": "2021-12-01T03:52:23.019537Z",
     "iopub.status.idle": "2021-12-01T03:52:23.044332Z",
     "shell.execute_reply": "2021-12-01T03:52:23.042379Z",
     "shell.execute_reply.started": "2021-12-01T03:52:23.020538Z"
    },
    "tags": []
   },
   "outputs": [],
   "source": [
    "sql_query = '''\n",
    "  SELECT user_info.*\n",
    "       , CASE\n",
    "           WHEN 0 = LOCATE(' ', user_info.REST_OF_NAME)\n",
    "             THEN NULL\n",
    "           ELSE SUBSTRING(\n",
    "                   user_info.REST_OF_NAME\n",
    "             , 1\n",
    "             , LOCATE(' ', user_info.REST_OF_NAME) - 1\n",
    "             )\n",
    "    END AS middle_name\n",
    "       , SUBSTRING(\n",
    "          user_info.REST_OF_NAME\n",
    "    , 1 + LOCATE(' ', user_info.REST_OF_NAME)\n",
    "    , LENGTH(user_info.REST_OF_NAME)\n",
    "    )   AS last_name\n",
    "    , (CASE WHEN profiles.profile_key = 'organization' THEN profiles.profile_value ELSE NULL end) organization\n",
    "    , (CASE WHEN profiles.profile_key = 'orcid' THEN profiles.profile_value ELSE NULL end) orcid\n",
    "    , (CASE WHEN profiles.profile_key = 'orgtype' THEN profiles.profile_value ELSE NULL end) orgtype\n",
    "  FROM (\n",
    "         SELECT user_id,\n",
    "                username,\n",
    "                block,\n",
    "                email,\n",
    "                sendEmail,\n",
    "                registerDate,\n",
    "                lastvisitDate\n",
    "              , LOWER(RIGHT(email, length(email)-INSTR(email, '@'))) AS email_host\n",
    "              , title.title\n",
    "              , CASE\n",
    "                  WHEN 0 = LOCATE(' ', title.REST_OF_NAME)\n",
    "                    THEN title.REST_OF_NAME\n",
    "                  ELSE SUBSTRING(\n",
    "                          title.REST_OF_NAME\n",
    "                    , 1\n",
    "                    , LOCATE(' ', title.REST_OF_NAME) - 1\n",
    "                    )\n",
    "           END AS first_name\n",
    "              , CASE\n",
    "                  WHEN 0 = LOCATE(' ', title.REST_OF_NAME)\n",
    "                    THEN NULL\n",
    "                  ELSE SUBSTRING(\n",
    "                          title.REST_OF_NAME\n",
    "                    , LOCATE(' ', title.REST_OF_NAME) + 1\n",
    "                    , LENGTH(title.REST_OF_NAME)\n",
    "                    )\n",
    "           END AS REST_OF_NAME\n",
    "              , title.raw_full_name\n",
    "         FROM (\n",
    "                SELECT\n",
    "                       user_id,\n",
    "                       username,\n",
    "                       block,\n",
    "                       email,\n",
    "                       sendEmail,\n",
    "                       registerDate,\n",
    "                       lastvisitDate\n",
    "                     , CASE\n",
    "                         WHEN SUBSTRING(TEST_DATA.full_name, 1, 3) IN ('PROF ', 'MR ', 'MS ', 'DR ', 'MRS ')\n",
    "                           THEN LTRIM(RTRIM(SUBSTRING(TEST_DATA.full_name, 1, 3)))\n",
    "                         ELSE NULL\n",
    "                  END AS title\n",
    "                     , CASE\n",
    "                         WHEN SUBSTRING(TEST_DATA.full_name, 1, 3) IN ('PROF ', 'MR ', 'MS ', 'DR ', 'MRS ')\n",
    "                           THEN LTRIM(RTRIM(SUBSTRING(TEST_DATA.full_name, 4, LENGTH(TEST_DATA.full_name))))\n",
    "                         ELSE LTRIM(RTRIM(TEST_DATA.full_name))\n",
    "                  END AS REST_OF_NAME\n",
    "                     , TEST_DATA.raw_full_name\n",
    "                FROM (\n",
    "                       SELECT REPLACE(REPLACE(LTRIM(RTRIM(name)), '  ', ' '), '  ', ' ') AS full_name,\n",
    "                              name                                                       AS raw_full_name,\n",
    "                              user_id,\n",
    "                              username,\n",
    "                              block,\n",
    "                              email,\n",
    "                              sendEmail,\n",
    "                              registerDate,\n",
    "                              lastvisitDate\n",
    "                       FROM (\n",
    "                              SELECT\n",
    "                                     id AS user_id,\n",
    "                                     name,\n",
    "                                     username,\n",
    "                                     block,\n",
    "                                     email,\n",
    "                                     sendEmail,\n",
    "                                     registerDate,\n",
    "                                     lastvisitDate\n",
    "                              FROM nanohub.jos_users\n",
    "                            ) RAW_DATA\n",
    "                     ) TEST_DATA\n",
    "              ) title\n",
    "       ) user_info\n",
    "LEFT JOIN nanohub.jos_user_profiles profiles\n",
    "    ON profiles.user_id = user_info.user_id\n",
    "WHERE \n",
    "    user_info.username IS NOT NULL \n",
    "        AND \n",
    "    user_info.registerDate >= ' \n",
    "''' + \"%s\" +  \"';\"\n",
    "\n",
    "sql_query = sql_query % date_cutoff "
   ]
  },
  {
   "cell_type": "code",
   "execution_count": 6,
   "metadata": {
    "collapsed": false,
    "execution": {
     "iopub.execute_input": "2021-12-01T03:52:23.051040Z",
     "iopub.status.busy": "2021-12-01T03:52:23.050039Z",
     "iopub.status.idle": "2021-12-01T03:54:11.641017Z",
     "shell.execute_reply": "2021-12-01T03:54:11.639315Z",
     "shell.execute_reply.started": "2021-12-01T03:52:23.050969Z"
    },
    "jupyter": {
     "outputs_hidden": false
    },
    "pycharm": {
     "name": "#%%\n"
    },
    "tags": []
   },
   "outputs": [
    {
     "data": {
      "text/html": [
       "<div>\n",
       "<style scoped>\n",
       "    .dataframe tbody tr th:only-of-type {\n",
       "        vertical-align: middle;\n",
       "    }\n",
       "\n",
       "    .dataframe tbody tr th {\n",
       "        vertical-align: top;\n",
       "    }\n",
       "\n",
       "    .dataframe thead th {\n",
       "        text-align: right;\n",
       "    }\n",
       "</style>\n",
       "<table border=\"1\" class=\"dataframe\">\n",
       "  <thead>\n",
       "    <tr style=\"text-align: right;\">\n",
       "      <th></th>\n",
       "      <th>user_id</th>\n",
       "      <th>username</th>\n",
       "      <th>block</th>\n",
       "      <th>email</th>\n",
       "      <th>sendEmail</th>\n",
       "      <th>registerDate</th>\n",
       "      <th>lastvisitDate</th>\n",
       "      <th>email_host</th>\n",
       "      <th>title</th>\n",
       "      <th>first_name</th>\n",
       "      <th>REST_OF_NAME</th>\n",
       "      <th>raw_full_name</th>\n",
       "      <th>middle_name</th>\n",
       "      <th>last_name</th>\n",
       "      <th>organization</th>\n",
       "      <th>orcid</th>\n",
       "      <th>orgtype</th>\n",
       "    </tr>\n",
       "  </thead>\n",
       "  <tbody>\n",
       "    <tr>\n",
       "      <th>0</th>\n",
       "      <td>998</td>\n",
       "      <td>hubrepo</td>\n",
       "      <td>0</td>\n",
       "      <td>nkissebe@gmail.com</td>\n",
       "      <td>0</td>\n",
       "      <td>2014-11-13 21:09:09</td>\n",
       "      <td>NaT</td>\n",
       "      <td>gmail.com</td>\n",
       "      <td>None</td>\n",
       "      <td>hubrepo</td>\n",
       "      <td>hubrepo</td>\n",
       "      <td>hubrepo hubrepo</td>\n",
       "      <td>None</td>\n",
       "      <td>hubrepo</td>\n",
       "      <td>None</td>\n",
       "      <td>None</td>\n",
       "      <td>None</td>\n",
       "    </tr>\n",
       "    <tr>\n",
       "      <th>1</th>\n",
       "      <td>998</td>\n",
       "      <td>hubrepo</td>\n",
       "      <td>0</td>\n",
       "      <td>nkissebe@gmail.com</td>\n",
       "      <td>0</td>\n",
       "      <td>2014-11-13 21:09:09</td>\n",
       "      <td>NaT</td>\n",
       "      <td>gmail.com</td>\n",
       "      <td>None</td>\n",
       "      <td>hubrepo</td>\n",
       "      <td>hubrepo</td>\n",
       "      <td>hubrepo hubrepo</td>\n",
       "      <td>None</td>\n",
       "      <td>hubrepo</td>\n",
       "      <td>None</td>\n",
       "      <td>None</td>\n",
       "      <td>None</td>\n",
       "    </tr>\n",
       "    <tr>\n",
       "      <th>2</th>\n",
       "      <td>1683</td>\n",
       "      <td>support</td>\n",
       "      <td>0</td>\n",
       "      <td>support@nanohub.org</td>\n",
       "      <td>0</td>\n",
       "      <td>2008-11-19 22:51:04</td>\n",
       "      <td>2008-11-19 23:55:30</td>\n",
       "      <td>nanohub.org</td>\n",
       "      <td>None</td>\n",
       "      <td>nanoHUB</td>\n",
       "      <td>support</td>\n",
       "      <td>nanoHUB support</td>\n",
       "      <td>None</td>\n",
       "      <td>support</td>\n",
       "      <td>None</td>\n",
       "      <td>None</td>\n",
       "      <td>university</td>\n",
       "    </tr>\n",
       "    <tr>\n",
       "      <th>3</th>\n",
       "      <td>1683</td>\n",
       "      <td>support</td>\n",
       "      <td>0</td>\n",
       "      <td>support@nanohub.org</td>\n",
       "      <td>0</td>\n",
       "      <td>2008-11-19 22:51:04</td>\n",
       "      <td>2008-11-19 23:55:30</td>\n",
       "      <td>nanohub.org</td>\n",
       "      <td>None</td>\n",
       "      <td>nanoHUB</td>\n",
       "      <td>support</td>\n",
       "      <td>nanoHUB support</td>\n",
       "      <td>None</td>\n",
       "      <td>support</td>\n",
       "      <td>Purdue University</td>\n",
       "      <td>None</td>\n",
       "      <td>None</td>\n",
       "    </tr>\n",
       "    <tr>\n",
       "      <th>4</th>\n",
       "      <td>1683</td>\n",
       "      <td>support</td>\n",
       "      <td>0</td>\n",
       "      <td>support@nanohub.org</td>\n",
       "      <td>0</td>\n",
       "      <td>2008-11-19 22:51:04</td>\n",
       "      <td>2008-11-19 23:55:30</td>\n",
       "      <td>nanohub.org</td>\n",
       "      <td>None</td>\n",
       "      <td>nanoHUB</td>\n",
       "      <td>support</td>\n",
       "      <td>nanoHUB support</td>\n",
       "      <td>None</td>\n",
       "      <td>support</td>\n",
       "      <td>None</td>\n",
       "      <td>None</td>\n",
       "      <td>None</td>\n",
       "    </tr>\n",
       "  </tbody>\n",
       "</table>\n",
       "</div>"
      ],
      "text/plain": [
       "   user_id username  block                email  sendEmail  \\\n",
       "0      998  hubrepo      0   nkissebe@gmail.com          0   \n",
       "1      998  hubrepo      0   nkissebe@gmail.com          0   \n",
       "2     1683  support      0  support@nanohub.org          0   \n",
       "3     1683  support      0  support@nanohub.org          0   \n",
       "4     1683  support      0  support@nanohub.org          0   \n",
       "\n",
       "         registerDate       lastvisitDate   email_host title first_name  \\\n",
       "0 2014-11-13 21:09:09                 NaT    gmail.com  None    hubrepo   \n",
       "1 2014-11-13 21:09:09                 NaT    gmail.com  None    hubrepo   \n",
       "2 2008-11-19 22:51:04 2008-11-19 23:55:30  nanohub.org  None    nanoHUB   \n",
       "3 2008-11-19 22:51:04 2008-11-19 23:55:30  nanohub.org  None    nanoHUB   \n",
       "4 2008-11-19 22:51:04 2008-11-19 23:55:30  nanohub.org  None    nanoHUB   \n",
       "\n",
       "  REST_OF_NAME    raw_full_name middle_name last_name       organization  \\\n",
       "0      hubrepo  hubrepo hubrepo        None   hubrepo               None   \n",
       "1      hubrepo  hubrepo hubrepo        None   hubrepo               None   \n",
       "2      support  nanoHUB support        None   support               None   \n",
       "3      support  nanoHUB support        None   support  Purdue University   \n",
       "4      support  nanoHUB support        None   support               None   \n",
       "\n",
       "  orcid     orgtype  \n",
       "0  None        None  \n",
       "1  None        None  \n",
       "2  None  university  \n",
       "3  None        None  \n",
       "4  None        None  "
      ]
     },
     "metadata": {},
     "output_type": "display_data"
    },
    {
     "data": {
      "text/html": [
       "<div>\n",
       "<style scoped>\n",
       "    .dataframe tbody tr th:only-of-type {\n",
       "        vertical-align: middle;\n",
       "    }\n",
       "\n",
       "    .dataframe tbody tr th {\n",
       "        vertical-align: top;\n",
       "    }\n",
       "\n",
       "    .dataframe thead th {\n",
       "        text-align: right;\n",
       "    }\n",
       "</style>\n",
       "<table border=\"1\" class=\"dataframe\">\n",
       "  <thead>\n",
       "    <tr style=\"text-align: right;\">\n",
       "      <th></th>\n",
       "      <th>user_id</th>\n",
       "      <th>username</th>\n",
       "      <th>block</th>\n",
       "      <th>email</th>\n",
       "      <th>sendEmail</th>\n",
       "      <th>registerDate</th>\n",
       "      <th>lastvisitDate</th>\n",
       "      <th>email_host</th>\n",
       "      <th>title</th>\n",
       "      <th>first_name</th>\n",
       "      <th>REST_OF_NAME</th>\n",
       "      <th>raw_full_name</th>\n",
       "      <th>middle_name</th>\n",
       "      <th>last_name</th>\n",
       "      <th>organization</th>\n",
       "      <th>orcid</th>\n",
       "      <th>orgtype</th>\n",
       "    </tr>\n",
       "  </thead>\n",
       "  <tbody>\n",
       "    <tr>\n",
       "      <th>1451594</th>\n",
       "      <td>347752</td>\n",
       "      <td>jsambeek</td>\n",
       "      <td>0</td>\n",
       "      <td>jsambeek@mit.edu</td>\n",
       "      <td>0</td>\n",
       "      <td>2021-12-01 03:45:42</td>\n",
       "      <td>2021-12-01 03:45:43</td>\n",
       "      <td>mit.edu</td>\n",
       "      <td>None</td>\n",
       "      <td>Jack</td>\n",
       "      <td>Robert Van Sambeek</td>\n",
       "      <td>Jack Robert Van Sambeek</td>\n",
       "      <td>Robert</td>\n",
       "      <td>Van Sambeek</td>\n",
       "      <td>None</td>\n",
       "      <td>None</td>\n",
       "      <td>None</td>\n",
       "    </tr>\n",
       "    <tr>\n",
       "      <th>1451595</th>\n",
       "      <td>347752</td>\n",
       "      <td>jsambeek</td>\n",
       "      <td>0</td>\n",
       "      <td>jsambeek@mit.edu</td>\n",
       "      <td>0</td>\n",
       "      <td>2021-12-01 03:45:42</td>\n",
       "      <td>2021-12-01 03:45:43</td>\n",
       "      <td>mit.edu</td>\n",
       "      <td>None</td>\n",
       "      <td>Jack</td>\n",
       "      <td>Robert Van Sambeek</td>\n",
       "      <td>Jack Robert Van Sambeek</td>\n",
       "      <td>Robert</td>\n",
       "      <td>Van Sambeek</td>\n",
       "      <td>None</td>\n",
       "      <td>None</td>\n",
       "      <td>None</td>\n",
       "    </tr>\n",
       "    <tr>\n",
       "      <th>1451596</th>\n",
       "      <td>347752</td>\n",
       "      <td>jsambeek</td>\n",
       "      <td>0</td>\n",
       "      <td>jsambeek@mit.edu</td>\n",
       "      <td>0</td>\n",
       "      <td>2021-12-01 03:45:42</td>\n",
       "      <td>2021-12-01 03:45:43</td>\n",
       "      <td>mit.edu</td>\n",
       "      <td>None</td>\n",
       "      <td>Jack</td>\n",
       "      <td>Robert Van Sambeek</td>\n",
       "      <td>Jack Robert Van Sambeek</td>\n",
       "      <td>Robert</td>\n",
       "      <td>Van Sambeek</td>\n",
       "      <td>None</td>\n",
       "      <td>None</td>\n",
       "      <td>None</td>\n",
       "    </tr>\n",
       "    <tr>\n",
       "      <th>1451597</th>\n",
       "      <td>347752</td>\n",
       "      <td>jsambeek</td>\n",
       "      <td>0</td>\n",
       "      <td>jsambeek@mit.edu</td>\n",
       "      <td>0</td>\n",
       "      <td>2021-12-01 03:45:42</td>\n",
       "      <td>2021-12-01 03:45:43</td>\n",
       "      <td>mit.edu</td>\n",
       "      <td>None</td>\n",
       "      <td>Jack</td>\n",
       "      <td>Robert Van Sambeek</td>\n",
       "      <td>Jack Robert Van Sambeek</td>\n",
       "      <td>Robert</td>\n",
       "      <td>Van Sambeek</td>\n",
       "      <td>None</td>\n",
       "      <td>None</td>\n",
       "      <td>None</td>\n",
       "    </tr>\n",
       "    <tr>\n",
       "      <th>1451598</th>\n",
       "      <td>347753</td>\n",
       "      <td>-186752</td>\n",
       "      <td>0</td>\n",
       "      <td>-186752@invalid</td>\n",
       "      <td>-1</td>\n",
       "      <td>2021-12-01 03:45:47</td>\n",
       "      <td>2021-12-01 03:45:48</td>\n",
       "      <td>invalid</td>\n",
       "      <td>None</td>\n",
       "      <td>‍손세준(학부학생/공과대학</td>\n",
       "      <td>신소재공학)</td>\n",
       "      <td>‍손세준(학부학생/공과대학 신소재공학)</td>\n",
       "      <td>None</td>\n",
       "      <td>신소재공학)</td>\n",
       "      <td>None</td>\n",
       "      <td>None</td>\n",
       "      <td>None</td>\n",
       "    </tr>\n",
       "  </tbody>\n",
       "</table>\n",
       "</div>"
      ],
      "text/plain": [
       "         user_id  username  block             email  sendEmail  \\\n",
       "1451594   347752  jsambeek      0  jsambeek@mit.edu          0   \n",
       "1451595   347752  jsambeek      0  jsambeek@mit.edu          0   \n",
       "1451596   347752  jsambeek      0  jsambeek@mit.edu          0   \n",
       "1451597   347752  jsambeek      0  jsambeek@mit.edu          0   \n",
       "1451598   347753   -186752      0   -186752@invalid         -1   \n",
       "\n",
       "               registerDate       lastvisitDate email_host title  \\\n",
       "1451594 2021-12-01 03:45:42 2021-12-01 03:45:43    mit.edu  None   \n",
       "1451595 2021-12-01 03:45:42 2021-12-01 03:45:43    mit.edu  None   \n",
       "1451596 2021-12-01 03:45:42 2021-12-01 03:45:43    mit.edu  None   \n",
       "1451597 2021-12-01 03:45:42 2021-12-01 03:45:43    mit.edu  None   \n",
       "1451598 2021-12-01 03:45:47 2021-12-01 03:45:48    invalid  None   \n",
       "\n",
       "             first_name        REST_OF_NAME            raw_full_name  \\\n",
       "1451594            Jack  Robert Van Sambeek  Jack Robert Van Sambeek   \n",
       "1451595            Jack  Robert Van Sambeek  Jack Robert Van Sambeek   \n",
       "1451596            Jack  Robert Van Sambeek  Jack Robert Van Sambeek   \n",
       "1451597            Jack  Robert Van Sambeek  Jack Robert Van Sambeek   \n",
       "1451598  ‍손세준(학부학생/공과대학              신소재공학)    ‍손세준(학부학생/공과대학 신소재공학)   \n",
       "\n",
       "        middle_name    last_name organization orcid orgtype  \n",
       "1451594      Robert  Van Sambeek         None  None    None  \n",
       "1451595      Robert  Van Sambeek         None  None    None  \n",
       "1451596      Robert  Van Sambeek         None  None    None  \n",
       "1451597      Robert  Van Sambeek         None  None    None  \n",
       "1451598        None       신소재공학)         None  None    None  "
      ]
     },
     "metadata": {},
     "output_type": "display_data"
    }
   ],
   "source": [
    "df = pd.read_sql_query(sql_query, nanohub_db)\n",
    "# display\n",
    "display(df.head())\n",
    "display(df.tail())"
   ]
  },
  {
   "cell_type": "code",
   "execution_count": null,
   "metadata": {
    "pycharm": {
     "name": "#%%\n"
    },
    "tags": []
   },
   "outputs": [],
   "source": []
  },
  {
   "cell_type": "code",
   "execution_count": null,
   "metadata": {},
   "outputs": [],
   "source": []
  },
  {
   "cell_type": "code",
   "execution_count": 7,
   "metadata": {
    "execution": {
     "iopub.execute_input": "2021-12-01T03:54:11.646930Z",
     "iopub.status.busy": "2021-12-01T03:54:11.644116Z",
     "iopub.status.idle": "2021-12-01T03:59:29.328053Z",
     "shell.execute_reply": "2021-12-01T03:59:29.327020Z",
     "shell.execute_reply.started": "2021-12-01T03:54:11.646888Z"
    },
    "pycharm": {
     "name": "#%%\n"
    },
    "tags": []
   },
   "outputs": [
    {
     "data": {
      "text/html": [
       "<div>\n",
       "<style scoped>\n",
       "    .dataframe tbody tr th:only-of-type {\n",
       "        vertical-align: middle;\n",
       "    }\n",
       "\n",
       "    .dataframe tbody tr th {\n",
       "        vertical-align: top;\n",
       "    }\n",
       "\n",
       "    .dataframe thead th {\n",
       "        text-align: right;\n",
       "    }\n",
       "</style>\n",
       "<table border=\"1\" class=\"dataframe\">\n",
       "  <thead>\n",
       "    <tr style=\"text-align: right;\">\n",
       "      <th></th>\n",
       "      <th>domain_name</th>\n",
       "      <th>domain</th>\n",
       "      <th>industry</th>\n",
       "      <th>size</th>\n",
       "      <th>country</th>\n",
       "    </tr>\n",
       "  </thead>\n",
       "  <tbody>\n",
       "    <tr>\n",
       "      <th>0</th>\n",
       "      <td>strategic interns</td>\n",
       "      <td>strategicinterns.com</td>\n",
       "      <td>education management</td>\n",
       "      <td>1-10</td>\n",
       "      <td>india</td>\n",
       "    </tr>\n",
       "    <tr>\n",
       "      <th>1</th>\n",
       "      <td>bosque y comunidad</td>\n",
       "      <td>bosqueycomunidad.org</td>\n",
       "      <td>non-profit organization management</td>\n",
       "      <td>1-10</td>\n",
       "      <td>spain</td>\n",
       "    </tr>\n",
       "    <tr>\n",
       "      <th>2</th>\n",
       "      <td>alaric as</td>\n",
       "      <td>alaric.no</td>\n",
       "      <td>management consulting</td>\n",
       "      <td>1-10</td>\n",
       "      <td>None</td>\n",
       "    </tr>\n",
       "    <tr>\n",
       "      <th>3</th>\n",
       "      <td>tws technology inc.</td>\n",
       "      <td>talkwithsam.co</td>\n",
       "      <td>computer software</td>\n",
       "      <td>1-10</td>\n",
       "      <td>None</td>\n",
       "    </tr>\n",
       "    <tr>\n",
       "      <th>4</th>\n",
       "      <td>cardinal strategies, llc</td>\n",
       "      <td>cardinal-strategies.com</td>\n",
       "      <td>civil engineering</td>\n",
       "      <td>11-50</td>\n",
       "      <td>united states</td>\n",
       "    </tr>\n",
       "  </tbody>\n",
       "</table>\n",
       "</div>"
      ],
      "text/plain": [
       "                domain_name                   domain  \\\n",
       "0         strategic interns     strategicinterns.com   \n",
       "1        bosque y comunidad     bosqueycomunidad.org   \n",
       "2                 alaric as                alaric.no   \n",
       "3       tws technology inc.           talkwithsam.co   \n",
       "4  cardinal strategies, llc  cardinal-strategies.com   \n",
       "\n",
       "                             industry   size        country  \n",
       "0                education management   1-10          india  \n",
       "1  non-profit organization management   1-10          spain  \n",
       "2               management consulting   1-10           None  \n",
       "3                   computer software   1-10           None  \n",
       "4                   civil engineering  11-50  united states  "
      ]
     },
     "metadata": {},
     "output_type": "display_data"
    }
   ],
   "source": [
    "# Obtain company domain information from DB2\n",
    "domain_df = pd.read_sql_query(\"select name as domain_name, domain, industry, `size range` as size, country from wang159_myrmekes.companies_email_domain\", nanohub_db)\n",
    "\n",
    "display(domain_df.head())"
   ]
  },
  {
   "cell_type": "code",
   "execution_count": 8,
   "metadata": {
    "collapsed": false,
    "execution": {
     "iopub.execute_input": "2021-12-01T03:59:29.333356Z",
     "iopub.status.busy": "2021-12-01T03:59:29.332636Z",
     "iopub.status.idle": "2021-12-01T03:59:40.757425Z",
     "shell.execute_reply": "2021-12-01T03:59:40.755903Z",
     "shell.execute_reply.started": "2021-12-01T03:59:29.333296Z"
    },
    "jupyter": {
     "outputs_hidden": false
    },
    "pycharm": {
     "name": "#%%\n"
    },
    "tags": []
   },
   "outputs": [],
   "source": [
    "# make sure domain is unique and drop NaN\n",
    "domain_df = domain_df.drop_duplicates(subset='domain', keep='first').dropna()"
   ]
  },
  {
   "cell_type": "code",
   "execution_count": 10,
   "metadata": {
    "execution": {
     "iopub.execute_input": "2021-12-01T04:00:21.160323Z",
     "iopub.status.busy": "2021-12-01T04:00:21.159239Z",
     "iopub.status.idle": "2021-12-01T04:00:21.164769Z",
     "shell.execute_reply": "2021-12-01T04:00:21.164064Z",
     "shell.execute_reply.started": "2021-12-01T04:00:21.159926Z"
    },
    "tags": []
   },
   "outputs": [],
   "source": [
    "#df = pd.merge(df, domain_df[domain_df.domain.isin(df['email_host'].unique()) & ~domain_df.domain.isna()], how='left', left_on='email_host', right_on='domain')\n",
    "\n",
    "# display\n",
    "#display(df.head())\n",
    "#display(df.tail())"
   ]
  },
  {
   "cell_type": "code",
   "execution_count": 11,
   "metadata": {
    "collapsed": false,
    "execution": {
     "iopub.execute_input": "2021-12-01T04:00:21.166677Z",
     "iopub.status.busy": "2021-12-01T04:00:21.166169Z",
     "iopub.status.idle": "2021-12-01T04:00:30.381016Z",
     "shell.execute_reply": "2021-12-01T04:00:30.380417Z",
     "shell.execute_reply.started": "2021-12-01T04:00:21.166585Z"
    },
    "jupyter": {
     "outputs_hidden": false
    },
    "pycharm": {
     "name": "#%%\n"
    },
    "tags": []
   },
   "outputs": [],
   "source": [
    "# get domain by nanoHUB organization field\n",
    "df['organization'] = df.organization.astype('str').apply(str.lower)\n",
    "\n",
    "df.loc[(df['organization']=='nan'),'organization'] = None"
   ]
  },
  {
   "cell_type": "code",
   "execution_count": 12,
   "metadata": {
    "collapsed": false,
    "execution": {
     "iopub.execute_input": "2021-12-01T04:00:31.905179Z",
     "iopub.status.busy": "2021-12-01T04:00:31.904052Z",
     "iopub.status.idle": "2021-12-01T04:00:33.516516Z",
     "shell.execute_reply": "2021-12-01T04:00:33.515355Z",
     "shell.execute_reply.started": "2021-12-01T04:00:31.905137Z"
    },
    "jupyter": {
     "outputs_hidden": false
    },
    "pycharm": {
     "name": "#%%\n"
    },
    "tags": []
   },
   "outputs": [
    {
     "name": "stderr",
     "output_type": "stream",
     "text": [
      "[nltk_data] Downloading package stopwords to\n",
      "[nltk_data]     /home/saxenap/venv/nltk_data...\n",
      "[nltk_data]   Package stopwords is already up-to-date!\n"
     ]
    }
   ],
   "source": [
    "import nltk\n",
    "nltk.download('stopwords')\n",
    "\n",
    "from nltk.corpus import stopwords\n",
    "s_words = stopwords.words('english')"
   ]
  },
  {
   "cell_type": "code",
   "execution_count": 13,
   "metadata": {
    "collapsed": false,
    "execution": {
     "iopub.execute_input": "2021-12-01T04:00:34.718230Z",
     "iopub.status.busy": "2021-12-01T04:00:34.717534Z",
     "iopub.status.idle": "2021-12-01T04:00:34.725344Z",
     "shell.execute_reply": "2021-12-01T04:00:34.723829Z",
     "shell.execute_reply.started": "2021-12-01T04:00:34.718165Z"
    },
    "jupyter": {
     "outputs_hidden": false
    },
    "pycharm": {
     "name": "#%%\n"
    },
    "tags": []
   },
   "outputs": [],
   "source": [
    "import re\n",
    "\n",
    "def clean_domain(this_domain_name):\n",
    "\n",
    "    if not this_domain_name:\n",
    "        return None\n",
    "\n",
    "    # Replace all non-alphanumeric characters with space\n",
    "    this_domain_name = re.sub(\"[^0-9a-zA-Z]+\", \" \", this_domain_name.lower())\n",
    "    name_list = this_domain_name.split(' ')\n",
    "\n",
    "    # remove all stop words\n",
    "    name_list = ['' if x in s_words else x for x in name_list]\n",
    "\n",
    "    return set(filter(None, name_list))"
   ]
  },
  {
   "cell_type": "code",
   "execution_count": 14,
   "metadata": {
    "collapsed": false,
    "execution": {
     "iopub.execute_input": "2021-12-01T04:00:37.356145Z",
     "iopub.status.busy": "2021-12-01T04:00:37.355870Z",
     "iopub.status.idle": "2021-12-01T04:01:19.923494Z",
     "shell.execute_reply": "2021-12-01T04:01:19.922968Z",
     "shell.execute_reply.started": "2021-12-01T04:00:37.356110Z"
    },
    "jupyter": {
     "outputs_hidden": false
    },
    "pycharm": {
     "name": "#%%\n"
    },
    "tags": []
   },
   "outputs": [],
   "source": [
    "# clean domain name\n",
    "domain_df['domain_cleaned_set'] = domain_df.domain_name.apply(clean_domain)\n",
    "\n",
    "# clean nanohub org name\n",
    "df['org_cleaned_set'] = df.organization.apply(clean_domain)"
   ]
  },
  {
   "cell_type": "code",
   "execution_count": 15,
   "metadata": {
    "collapsed": false,
    "execution": {
     "iopub.execute_input": "2021-12-01T04:01:19.926703Z",
     "iopub.status.busy": "2021-12-01T04:01:19.925219Z",
     "iopub.status.idle": "2021-12-01T04:01:23.090929Z",
     "shell.execute_reply": "2021-12-01T04:01:23.090347Z",
     "shell.execute_reply.started": "2021-12-01T04:01:19.926661Z"
    },
    "jupyter": {
     "outputs_hidden": false
    },
    "pycharm": {
     "name": "#%%\n"
    },
    "tags": []
   },
   "outputs": [],
   "source": [
    "# hash cleaned domain name\n",
    "domain_df['domain_cleaned_hash'] = domain_df['domain_cleaned_set'].apply(lambda x: '-'.join(sorted(list(x))) if x else None)\n",
    "\n",
    "# hash cleaned clean nanohub org name\n",
    "df['org_cleaned_hash'] = df['org_cleaned_set'].apply(lambda x: '-'.join(sorted(list(x))) if x else None)"
   ]
  },
  {
   "cell_type": "markdown",
   "metadata": {},
   "source": [
    "## Collaborative filtering for commerical email hosts"
   ]
  },
  {
   "cell_type": "code",
   "execution_count": 16,
   "metadata": {
    "collapsed": false,
    "execution": {
     "iopub.execute_input": "2021-12-01T04:01:23.092942Z",
     "iopub.status.busy": "2021-12-01T04:01:23.091735Z",
     "iopub.status.idle": "2021-12-01T04:01:35.338191Z",
     "shell.execute_reply": "2021-12-01T04:01:35.336240Z",
     "shell.execute_reply.started": "2021-12-01T04:01:23.092910Z"
    },
    "jupyter": {
     "outputs_hidden": false
    },
    "pycharm": {
     "name": "#%%\n"
    },
    "tags": []
   },
   "outputs": [],
   "source": [
    "def predict_if_commerical(this_email_host_df):\n",
    "    # predict if this email host is commerical\n",
    "    top_cnt = this_email_host_df['org_cleaned_hash'].value_counts()\n",
    "\n",
    "    if top_cnt.shape[0] > 0:\n",
    "        if (top_cnt.iloc[0]/top_cnt.sum()) < 0.2:\n",
    "            return True\n",
    "        else:\n",
    "            return False\n",
    "\n",
    "    else:\n",
    "        return False\n",
    "\n",
    "is_email_commerical = df[['email_host', 'org_cleaned_hash']].groupby('email_host').apply(predict_if_commerical)"
   ]
  },
  {
   "cell_type": "code",
   "execution_count": 17,
   "metadata": {
    "collapsed": false,
    "execution": {
     "iopub.execute_input": "2021-12-01T04:01:35.341010Z",
     "iopub.status.busy": "2021-12-01T04:01:35.340804Z",
     "iopub.status.idle": "2021-12-01T04:01:38.376296Z",
     "shell.execute_reply": "2021-12-01T04:01:38.374436Z",
     "shell.execute_reply.started": "2021-12-01T04:01:35.340979Z"
    },
    "jupyter": {
     "outputs_hidden": false
    },
    "pycharm": {
     "name": "#%%\n"
    },
    "tags": []
   },
   "outputs": [],
   "source": [
    "# mark commerical email addresses\n",
    "df = pd.merge(df, is_email_commerical.reset_index(name='is_email_commerical'), how='left', left_on='email_host', right_on='email_host' ,)"
   ]
  },
  {
   "cell_type": "code",
   "execution_count": 18,
   "metadata": {
    "collapsed": false,
    "execution": {
     "iopub.execute_input": "2021-12-01T04:01:38.377920Z",
     "iopub.status.busy": "2021-12-01T04:01:38.377725Z",
     "iopub.status.idle": "2021-12-01T04:01:48.289408Z",
     "shell.execute_reply": "2021-12-01T04:01:48.288844Z",
     "shell.execute_reply.started": "2021-12-01T04:01:38.377891Z"
    },
    "jupyter": {
     "outputs_hidden": false
    },
    "pycharm": {
     "name": "#%%\n"
    },
    "tags": []
   },
   "outputs": [
    {
     "data": {
      "text/html": [
       "<div>\n",
       "<style scoped>\n",
       "    .dataframe tbody tr th:only-of-type {\n",
       "        vertical-align: middle;\n",
       "    }\n",
       "\n",
       "    .dataframe tbody tr th {\n",
       "        vertical-align: top;\n",
       "    }\n",
       "\n",
       "    .dataframe thead th {\n",
       "        text-align: right;\n",
       "    }\n",
       "</style>\n",
       "<table border=\"1\" class=\"dataframe\">\n",
       "  <thead>\n",
       "    <tr style=\"text-align: right;\">\n",
       "      <th></th>\n",
       "      <th>0</th>\n",
       "      <th>1</th>\n",
       "    </tr>\n",
       "  </thead>\n",
       "  <tbody>\n",
       "    <tr>\n",
       "      <th>user_id</th>\n",
       "      <td>998</td>\n",
       "      <td>998</td>\n",
       "    </tr>\n",
       "    <tr>\n",
       "      <th>username</th>\n",
       "      <td>hubrepo</td>\n",
       "      <td>hubrepo</td>\n",
       "    </tr>\n",
       "    <tr>\n",
       "      <th>block</th>\n",
       "      <td>0</td>\n",
       "      <td>0</td>\n",
       "    </tr>\n",
       "    <tr>\n",
       "      <th>email</th>\n",
       "      <td>nkissebe@gmail.com</td>\n",
       "      <td>nkissebe@gmail.com</td>\n",
       "    </tr>\n",
       "    <tr>\n",
       "      <th>sendEmail</th>\n",
       "      <td>0</td>\n",
       "      <td>0</td>\n",
       "    </tr>\n",
       "    <tr>\n",
       "      <th>registerDate</th>\n",
       "      <td>2014-11-13 21:09:09</td>\n",
       "      <td>2014-11-13 21:09:09</td>\n",
       "    </tr>\n",
       "    <tr>\n",
       "      <th>lastvisitDate</th>\n",
       "      <td>NaT</td>\n",
       "      <td>NaT</td>\n",
       "    </tr>\n",
       "    <tr>\n",
       "      <th>email_host</th>\n",
       "      <td>gmail.com</td>\n",
       "      <td>gmail.com</td>\n",
       "    </tr>\n",
       "    <tr>\n",
       "      <th>title</th>\n",
       "      <td>None</td>\n",
       "      <td>None</td>\n",
       "    </tr>\n",
       "    <tr>\n",
       "      <th>first_name</th>\n",
       "      <td>hubrepo</td>\n",
       "      <td>hubrepo</td>\n",
       "    </tr>\n",
       "    <tr>\n",
       "      <th>REST_OF_NAME</th>\n",
       "      <td>hubrepo</td>\n",
       "      <td>hubrepo</td>\n",
       "    </tr>\n",
       "    <tr>\n",
       "      <th>raw_full_name</th>\n",
       "      <td>hubrepo hubrepo</td>\n",
       "      <td>hubrepo hubrepo</td>\n",
       "    </tr>\n",
       "    <tr>\n",
       "      <th>middle_name</th>\n",
       "      <td>None</td>\n",
       "      <td>None</td>\n",
       "    </tr>\n",
       "    <tr>\n",
       "      <th>last_name</th>\n",
       "      <td>hubrepo</td>\n",
       "      <td>hubrepo</td>\n",
       "    </tr>\n",
       "    <tr>\n",
       "      <th>organization</th>\n",
       "      <td>none</td>\n",
       "      <td>none</td>\n",
       "    </tr>\n",
       "    <tr>\n",
       "      <th>orcid</th>\n",
       "      <td>None</td>\n",
       "      <td>None</td>\n",
       "    </tr>\n",
       "    <tr>\n",
       "      <th>orgtype</th>\n",
       "      <td>None</td>\n",
       "      <td>None</td>\n",
       "    </tr>\n",
       "    <tr>\n",
       "      <th>org_cleaned_set</th>\n",
       "      <td>{none}</td>\n",
       "      <td>{none}</td>\n",
       "    </tr>\n",
       "    <tr>\n",
       "      <th>org_cleaned_hash</th>\n",
       "      <td>none</td>\n",
       "      <td>none</td>\n",
       "    </tr>\n",
       "    <tr>\n",
       "      <th>is_email_commerical</th>\n",
       "      <td>False</td>\n",
       "      <td>False</td>\n",
       "    </tr>\n",
       "    <tr>\n",
       "      <th>domain_by_email</th>\n",
       "      <td>NaN</td>\n",
       "      <td>NaN</td>\n",
       "    </tr>\n",
       "  </tbody>\n",
       "</table>\n",
       "</div>"
      ],
      "text/plain": [
       "                                       0                    1\n",
       "user_id                              998                  998\n",
       "username                         hubrepo              hubrepo\n",
       "block                                  0                    0\n",
       "email                 nkissebe@gmail.com   nkissebe@gmail.com\n",
       "sendEmail                              0                    0\n",
       "registerDate         2014-11-13 21:09:09  2014-11-13 21:09:09\n",
       "lastvisitDate                        NaT                  NaT\n",
       "email_host                     gmail.com            gmail.com\n",
       "title                               None                 None\n",
       "first_name                       hubrepo              hubrepo\n",
       "REST_OF_NAME                     hubrepo              hubrepo\n",
       "raw_full_name            hubrepo hubrepo      hubrepo hubrepo\n",
       "middle_name                         None                 None\n",
       "last_name                        hubrepo              hubrepo\n",
       "organization                        none                 none\n",
       "orcid                               None                 None\n",
       "orgtype                             None                 None\n",
       "org_cleaned_set                   {none}               {none}\n",
       "org_cleaned_hash                    none                 none\n",
       "is_email_commerical                False                False\n",
       "domain_by_email                      NaN                  NaN"
      ]
     },
     "metadata": {},
     "output_type": "display_data"
    }
   ],
   "source": [
    "# obtain domain estimation from email addresses\n",
    "df = pd.merge(df, domain_df[~domain_df.domain.isin(is_email_commerical[is_email_commerical].index)]['domain'], how='left', left_on='email_host', right_on='domain').rename(columns={'domain':'domain_by_email'})\n",
    "\n",
    "# display\n",
    "display(df.head(2).T)"
   ]
  },
  {
   "cell_type": "markdown",
   "metadata": {},
   "source": [
    "## Fuzzy derive organization from nanoHUB profiles"
   ]
  },
  {
   "cell_type": "code",
   "execution_count": 19,
   "metadata": {
    "collapsed": false,
    "execution": {
     "iopub.execute_input": "2021-12-01T04:01:48.292404Z",
     "iopub.status.busy": "2021-12-01T04:01:48.291057Z",
     "iopub.status.idle": "2021-12-01T04:01:54.675623Z",
     "shell.execute_reply": "2021-12-01T04:01:54.672283Z",
     "shell.execute_reply.started": "2021-12-01T04:01:48.292359Z"
    },
    "jupyter": {
     "outputs_hidden": false
    },
    "pycharm": {
     "name": "#%%\n"
    },
    "tags": []
   },
   "outputs": [
    {
     "data": {
      "text/html": [
       "<div>\n",
       "<style scoped>\n",
       "    .dataframe tbody tr th:only-of-type {\n",
       "        vertical-align: middle;\n",
       "    }\n",
       "\n",
       "    .dataframe tbody tr th {\n",
       "        vertical-align: top;\n",
       "    }\n",
       "\n",
       "    .dataframe thead th {\n",
       "        text-align: right;\n",
       "    }\n",
       "</style>\n",
       "<table border=\"1\" class=\"dataframe\">\n",
       "  <thead>\n",
       "    <tr style=\"text-align: right;\">\n",
       "      <th></th>\n",
       "      <th>260203</th>\n",
       "      <th>1187716</th>\n",
       "      <th>987542</th>\n",
       "      <th>1126933</th>\n",
       "      <th>294673</th>\n",
       "    </tr>\n",
       "  </thead>\n",
       "  <tbody>\n",
       "    <tr>\n",
       "      <th>user_id</th>\n",
       "      <td>33762</td>\n",
       "      <td>292610</td>\n",
       "      <td>221817</td>\n",
       "      <td>279094</td>\n",
       "      <td>37399</td>\n",
       "    </tr>\n",
       "    <tr>\n",
       "      <th>username</th>\n",
       "      <td>pecheneg</td>\n",
       "      <td>williamlem</td>\n",
       "      <td>depannage92</td>\n",
       "      <td>frederik.hover</td>\n",
       "      <td>doodduuy</td>\n",
       "    </tr>\n",
       "    <tr>\n",
       "      <th>block</th>\n",
       "      <td>0</td>\n",
       "      <td>0</td>\n",
       "      <td>1</td>\n",
       "      <td>0</td>\n",
       "      <td>0</td>\n",
       "    </tr>\n",
       "    <tr>\n",
       "      <th>email</th>\n",
       "      <td>iv.pecheneg@berkeley.edu</td>\n",
       "      <td>befour@eauie.top</td>\n",
       "      <td>DISABLED_SPAM_bfddepannage91@gmail.com</td>\n",
       "      <td>frederik.hover@gmail.com</td>\n",
       "      <td>dukduy44@hotmail.com</td>\n",
       "    </tr>\n",
       "    <tr>\n",
       "      <th>sendEmail</th>\n",
       "      <td>0</td>\n",
       "      <td>1</td>\n",
       "      <td>1</td>\n",
       "      <td>-1</td>\n",
       "      <td>0</td>\n",
       "    </tr>\n",
       "    <tr>\n",
       "      <th>registerDate</th>\n",
       "      <td>2009-01-25 03:25:21</td>\n",
       "      <td>2020-06-24 06:47:11</td>\n",
       "      <td>2019-02-15 13:35:29</td>\n",
       "      <td>2020-02-21 03:52:56</td>\n",
       "      <td>2009-08-26 03:56:30</td>\n",
       "    </tr>\n",
       "    <tr>\n",
       "      <th>lastvisitDate</th>\n",
       "      <td>2012-06-14 06:01:33</td>\n",
       "      <td>2020-06-25 18:33:59</td>\n",
       "      <td>2019-02-15 13:36:17</td>\n",
       "      <td>2020-02-26 22:47:11</td>\n",
       "      <td>2009-09-11 14:26:43</td>\n",
       "    </tr>\n",
       "    <tr>\n",
       "      <th>email_host</th>\n",
       "      <td>berkeley.edu</td>\n",
       "      <td>eauie.top</td>\n",
       "      <td>gmail.com</td>\n",
       "      <td>gmail.com</td>\n",
       "      <td>hotmail.com</td>\n",
       "    </tr>\n",
       "    <tr>\n",
       "      <th>title</th>\n",
       "      <td>None</td>\n",
       "      <td>None</td>\n",
       "      <td>None</td>\n",
       "      <td>None</td>\n",
       "      <td>None</td>\n",
       "    </tr>\n",
       "    <tr>\n",
       "      <th>first_name</th>\n",
       "      <td>Ivan</td>\n",
       "      <td>WilliamLem</td>\n",
       "      <td>Depannage</td>\n",
       "      <td>Frederik</td>\n",
       "      <td>napapol</td>\n",
       "    </tr>\n",
       "    <tr>\n",
       "      <th>REST_OF_NAME</th>\n",
       "      <td>Pechenezhskiy</td>\n",
       "      <td>WilliamLem WilliamLem</td>\n",
       "      <td>92</td>\n",
       "      <td>Hover</td>\n",
       "      <td>kumpeera</td>\n",
       "    </tr>\n",
       "    <tr>\n",
       "      <th>raw_full_name</th>\n",
       "      <td>Ivan Pechenezhskiy</td>\n",
       "      <td>WilliamLem WilliamLem WilliamLem</td>\n",
       "      <td>Depannage 92</td>\n",
       "      <td>Frederik Hover</td>\n",
       "      <td>napapol kumpeera</td>\n",
       "    </tr>\n",
       "    <tr>\n",
       "      <th>middle_name</th>\n",
       "      <td>None</td>\n",
       "      <td>WilliamLem</td>\n",
       "      <td>None</td>\n",
       "      <td>None</td>\n",
       "      <td>None</td>\n",
       "    </tr>\n",
       "    <tr>\n",
       "      <th>last_name</th>\n",
       "      <td>Pechenezhskiy</td>\n",
       "      <td>WilliamLem</td>\n",
       "      <td>92</td>\n",
       "      <td>Hover</td>\n",
       "      <td>kumpeera</td>\n",
       "    </tr>\n",
       "    <tr>\n",
       "      <th>organization</th>\n",
       "      <td>none</td>\n",
       "      <td>none</td>\n",
       "      <td>none</td>\n",
       "      <td>none</td>\n",
       "      <td>none</td>\n",
       "    </tr>\n",
       "    <tr>\n",
       "      <th>orcid</th>\n",
       "      <td>None</td>\n",
       "      <td>None</td>\n",
       "      <td>None</td>\n",
       "      <td>None</td>\n",
       "      <td>None</td>\n",
       "    </tr>\n",
       "    <tr>\n",
       "      <th>orgtype</th>\n",
       "      <td>None</td>\n",
       "      <td>None</td>\n",
       "      <td>government</td>\n",
       "      <td>None</td>\n",
       "      <td>None</td>\n",
       "    </tr>\n",
       "    <tr>\n",
       "      <th>org_cleaned_set</th>\n",
       "      <td>{none}</td>\n",
       "      <td>{none}</td>\n",
       "      <td>{none}</td>\n",
       "      <td>{none}</td>\n",
       "      <td>{none}</td>\n",
       "    </tr>\n",
       "    <tr>\n",
       "      <th>org_cleaned_hash</th>\n",
       "      <td>none</td>\n",
       "      <td>none</td>\n",
       "      <td>none</td>\n",
       "      <td>none</td>\n",
       "      <td>none</td>\n",
       "    </tr>\n",
       "    <tr>\n",
       "      <th>is_email_commerical</th>\n",
       "      <td>False</td>\n",
       "      <td>False</td>\n",
       "      <td>False</td>\n",
       "      <td>False</td>\n",
       "      <td>False</td>\n",
       "    </tr>\n",
       "    <tr>\n",
       "      <th>domain_by_email</th>\n",
       "      <td>berkeley.edu</td>\n",
       "      <td>NaN</td>\n",
       "      <td>NaN</td>\n",
       "      <td>NaN</td>\n",
       "      <td>NaN</td>\n",
       "    </tr>\n",
       "    <tr>\n",
       "      <th>domain_by_profile</th>\n",
       "      <td>NaN</td>\n",
       "      <td>NaN</td>\n",
       "      <td>NaN</td>\n",
       "      <td>NaN</td>\n",
       "      <td>NaN</td>\n",
       "    </tr>\n",
       "  </tbody>\n",
       "</table>\n",
       "</div>"
      ],
      "text/plain": [
       "                                      260203   \\\n",
       "user_id                                 33762   \n",
       "username                             pecheneg   \n",
       "block                                       0   \n",
       "email                iv.pecheneg@berkeley.edu   \n",
       "sendEmail                                   0   \n",
       "registerDate              2009-01-25 03:25:21   \n",
       "lastvisitDate             2012-06-14 06:01:33   \n",
       "email_host                       berkeley.edu   \n",
       "title                                    None   \n",
       "first_name                               Ivan   \n",
       "REST_OF_NAME                    Pechenezhskiy   \n",
       "raw_full_name              Ivan Pechenezhskiy   \n",
       "middle_name                              None   \n",
       "last_name                       Pechenezhskiy   \n",
       "organization                             none   \n",
       "orcid                                    None   \n",
       "orgtype                                  None   \n",
       "org_cleaned_set                        {none}   \n",
       "org_cleaned_hash                         none   \n",
       "is_email_commerical                     False   \n",
       "domain_by_email                  berkeley.edu   \n",
       "domain_by_profile                         NaN   \n",
       "\n",
       "                                              1187716  \\\n",
       "user_id                                        292610   \n",
       "username                                   williamlem   \n",
       "block                                               0   \n",
       "email                                befour@eauie.top   \n",
       "sendEmail                                           1   \n",
       "registerDate                      2020-06-24 06:47:11   \n",
       "lastvisitDate                     2020-06-25 18:33:59   \n",
       "email_host                                  eauie.top   \n",
       "title                                            None   \n",
       "first_name                                 WilliamLem   \n",
       "REST_OF_NAME                    WilliamLem WilliamLem   \n",
       "raw_full_name        WilliamLem WilliamLem WilliamLem   \n",
       "middle_name                                WilliamLem   \n",
       "last_name                                  WilliamLem   \n",
       "organization                                     none   \n",
       "orcid                                            None   \n",
       "orgtype                                          None   \n",
       "org_cleaned_set                                {none}   \n",
       "org_cleaned_hash                                 none   \n",
       "is_email_commerical                             False   \n",
       "domain_by_email                                   NaN   \n",
       "domain_by_profile                                 NaN   \n",
       "\n",
       "                                                    987542   \\\n",
       "user_id                                              221817   \n",
       "username                                        depannage92   \n",
       "block                                                     1   \n",
       "email                DISABLED_SPAM_bfddepannage91@gmail.com   \n",
       "sendEmail                                                 1   \n",
       "registerDate                            2019-02-15 13:35:29   \n",
       "lastvisitDate                           2019-02-15 13:36:17   \n",
       "email_host                                        gmail.com   \n",
       "title                                                  None   \n",
       "first_name                                        Depannage   \n",
       "REST_OF_NAME                                             92   \n",
       "raw_full_name                                  Depannage 92   \n",
       "middle_name                                            None   \n",
       "last_name                                                92   \n",
       "organization                                           none   \n",
       "orcid                                                  None   \n",
       "orgtype                                          government   \n",
       "org_cleaned_set                                      {none}   \n",
       "org_cleaned_hash                                       none   \n",
       "is_email_commerical                                   False   \n",
       "domain_by_email                                         NaN   \n",
       "domain_by_profile                                       NaN   \n",
       "\n",
       "                                      1126933               294673   \n",
       "user_id                                279094                 37399  \n",
       "username                       frederik.hover              doodduuy  \n",
       "block                                       0                     0  \n",
       "email                frederik.hover@gmail.com  dukduy44@hotmail.com  \n",
       "sendEmail                                  -1                     0  \n",
       "registerDate              2020-02-21 03:52:56   2009-08-26 03:56:30  \n",
       "lastvisitDate             2020-02-26 22:47:11   2009-09-11 14:26:43  \n",
       "email_host                          gmail.com           hotmail.com  \n",
       "title                                    None                  None  \n",
       "first_name                           Frederik               napapol  \n",
       "REST_OF_NAME                            Hover              kumpeera  \n",
       "raw_full_name                  Frederik Hover      napapol kumpeera  \n",
       "middle_name                              None                  None  \n",
       "last_name                               Hover              kumpeera  \n",
       "organization                             none                  none  \n",
       "orcid                                    None                  None  \n",
       "orgtype                                  None                  None  \n",
       "org_cleaned_set                        {none}                {none}  \n",
       "org_cleaned_hash                         none                  none  \n",
       "is_email_commerical                     False                 False  \n",
       "domain_by_email                           NaN                   NaN  \n",
       "domain_by_profile                         NaN                   NaN  "
      ]
     },
     "execution_count": 19,
     "metadata": {},
     "output_type": "execute_result"
    }
   ],
   "source": [
    "# attempt direct join by hash\n",
    "domain_subset_df = domain_df[domain_df.domain.isin(df.email_host.unique())][['domain', 'domain_cleaned_hash']]\n",
    "domain_subset_df = domain_subset_df[~domain_subset_df.domain.isna()&~domain_subset_df.domain_cleaned_hash.isna()]\n",
    "\n",
    "derived_df = pd.merge(df, domain_subset_df.rename(columns={'domain':'domain_by_profile'}),how='left', left_on='org_cleaned_hash', right_on='domain_cleaned_hash').drop('domain_cleaned_hash', axis=1)\n",
    "\n",
    "# display\n",
    "derived_df.sample(5).T"
   ]
  },
  {
   "cell_type": "code",
   "execution_count": 20,
   "metadata": {
    "collapsed": false,
    "execution": {
     "iopub.execute_input": "2021-12-01T04:01:54.682262Z",
     "iopub.status.busy": "2021-12-01T04:01:54.677457Z",
     "iopub.status.idle": "2021-12-01T04:01:59.486714Z",
     "shell.execute_reply": "2021-12-01T04:01:59.485443Z",
     "shell.execute_reply.started": "2021-12-01T04:01:54.682186Z"
    },
    "jupyter": {
     "outputs_hidden": false
    },
    "pycharm": {
     "name": "#%%\n"
    },
    "tags": []
   },
   "outputs": [],
   "source": [
    "# attempt to reduce domain_df size to speedup Jaccard calculation\n",
    "from itertools import chain\n",
    "\n",
    "all_word_set = set(chain.from_iterable(derived_df[(derived_df['domain_by_profile'].isna() & (~derived_df['organization'].isna()))].org_cleaned_set.values))\n",
    "\n",
    "# select the domain_df entry with words from all_word_set\n",
    "domain_subset_df = domain_df[domain_df.domain_cleaned_set.notnull()]\n",
    "domain_subset_df = domain_subset_df[domain_subset_df.domain_cleaned_set.apply(lambda x: True if len(x.intersection(all_word_set)) > 0 else False)]"
   ]
  },
  {
   "cell_type": "code",
   "execution_count": 21,
   "metadata": {
    "collapsed": false,
    "execution": {
     "iopub.execute_input": "2021-12-01T04:01:59.489137Z",
     "iopub.status.busy": "2021-12-01T04:01:59.487979Z",
     "iopub.status.idle": "2021-12-01T04:02:07.481747Z",
     "shell.execute_reply": "2021-12-01T04:02:07.480351Z",
     "shell.execute_reply.started": "2021-12-01T04:01:59.489094Z"
    },
    "jupyter": {
     "outputs_hidden": false
    },
    "pycharm": {
     "name": "#%%\n"
    },
    "tags": []
   },
   "outputs": [],
   "source": [
    "def get_org(this_df):\n",
    "    # look at the cohort with this label, do they have a commonly agreed domain_by_email? If so, use it\n",
    "    this_dbe_count = this_df.domain_by_email.value_counts()\n",
    "\n",
    "    if this_dbe_count.shape[0] < 1:\n",
    "        return None\n",
    "\n",
    "    this_top_dbe_perc = this_dbe_count.iloc[0]/this_dbe_count.sum()\n",
    "\n",
    "    # if top choice occupies majority of cases, then this cohort can be implied to this domain_by_email address\n",
    "    if this_top_dbe_perc > 0.5:\n",
    "        return this_dbe_count.index[0]\n",
    "\n",
    "\n",
    "derived_hash = derived_df.groupby('org_cleaned_hash').apply(get_org)"
   ]
  },
  {
   "cell_type": "code",
   "execution_count": 22,
   "metadata": {
    "collapsed": false,
    "execution": {
     "iopub.execute_input": "2021-12-01T04:02:07.483215Z",
     "iopub.status.busy": "2021-12-01T04:02:07.482816Z",
     "iopub.status.idle": "2021-12-01T04:02:11.166174Z",
     "shell.execute_reply": "2021-12-01T04:02:11.165211Z",
     "shell.execute_reply.started": "2021-12-01T04:02:07.483186Z"
    },
    "jupyter": {
     "outputs_hidden": false
    },
    "pycharm": {
     "name": "#%%\n"
    },
    "tags": []
   },
   "outputs": [],
   "source": [
    "derived_df = pd.merge(derived_df, derived_hash.reset_index(name='domain_by_profile_infer'), how='left', left_on='org_cleaned_hash', right_on='org_cleaned_hash')"
   ]
  },
  {
   "cell_type": "code",
   "execution_count": 23,
   "metadata": {
    "collapsed": false,
    "execution": {
     "iopub.execute_input": "2021-12-01T04:02:11.168629Z",
     "iopub.status.busy": "2021-12-01T04:02:11.167782Z",
     "iopub.status.idle": "2021-12-01T04:02:38.676199Z",
     "shell.execute_reply": "2021-12-01T04:02:38.675670Z",
     "shell.execute_reply.started": "2021-12-01T04:02:11.168589Z"
    },
    "jupyter": {
     "outputs_hidden": false
    },
    "pycharm": {
     "name": "#%%\n"
    },
    "tags": []
   },
   "outputs": [],
   "source": [
    "# calculate a composite domain based on domain_by_email, domain_by_profile, and domain_by_profile_infer\n",
    "def get_composite_domain(this_df):\n",
    "\n",
    "    # if domain found via profile with direct match, use it\n",
    "    if this_df.domain_by_profile != '':\n",
    "        return this_df.domain_by_profile\n",
    "\n",
    "    # if domain found via email, use it\n",
    "    if this_df.domain_by_email != '':\n",
    "        return this_df.domain_by_email\n",
    "\n",
    "        # if domain found via profile but not with a direct match, use it\n",
    "    if this_df.domain_by_profile_infer != '':\n",
    "        return this_df.domain_by_profile_infer\n",
    "\n",
    "    # else, no organization can be concluded, return none\n",
    "    return None\n",
    "\n",
    "\n",
    "derived_df['domain_final'] = derived_df[['domain_by_email', 'domain_by_profile', 'domain_by_profile_infer']].fillna('').apply(get_composite_domain, axis=1)"
   ]
  },
  {
   "cell_type": "code",
   "execution_count": 24,
   "metadata": {
    "collapsed": false,
    "execution": {
     "iopub.execute_input": "2021-12-01T04:02:38.677613Z",
     "iopub.status.busy": "2021-12-01T04:02:38.677197Z",
     "iopub.status.idle": "2021-12-01T04:02:40.141409Z",
     "shell.execute_reply": "2021-12-01T04:02:40.140810Z",
     "shell.execute_reply.started": "2021-12-01T04:02:38.677524Z"
    },
    "jupyter": {
     "outputs_hidden": false
    },
    "pycharm": {
     "name": "#%%\n"
    },
    "tags": []
   },
   "outputs": [
    {
     "data": {
      "text/html": [
       "<div>\n",
       "<style scoped>\n",
       "    .dataframe tbody tr th:only-of-type {\n",
       "        vertical-align: middle;\n",
       "    }\n",
       "\n",
       "    .dataframe tbody tr th {\n",
       "        vertical-align: top;\n",
       "    }\n",
       "\n",
       "    .dataframe thead th {\n",
       "        text-align: right;\n",
       "    }\n",
       "</style>\n",
       "<table border=\"1\" class=\"dataframe\">\n",
       "  <thead>\n",
       "    <tr style=\"text-align: right;\">\n",
       "      <th></th>\n",
       "      <th>domain_final</th>\n",
       "      <th>domain_by_email</th>\n",
       "    </tr>\n",
       "  </thead>\n",
       "  <tbody>\n",
       "    <tr>\n",
       "      <th>63</th>\n",
       "      <td>yahoo.com</td>\n",
       "      <td>yahoo.com</td>\n",
       "    </tr>\n",
       "    <tr>\n",
       "      <th>64</th>\n",
       "      <td>yahoo.com</td>\n",
       "      <td>yahoo.com</td>\n",
       "    </tr>\n",
       "    <tr>\n",
       "      <th>65</th>\n",
       "      <td>yahoo.com</td>\n",
       "      <td>yahoo.com</td>\n",
       "    </tr>\n",
       "    <tr>\n",
       "      <th>66</th>\n",
       "      <td>yahoo.com</td>\n",
       "      <td>yahoo.com</td>\n",
       "    </tr>\n",
       "    <tr>\n",
       "      <th>67</th>\n",
       "      <td>yahoo.com</td>\n",
       "      <td>yahoo.com</td>\n",
       "    </tr>\n",
       "    <tr>\n",
       "      <th>...</th>\n",
       "      <td>...</td>\n",
       "      <td>...</td>\n",
       "    </tr>\n",
       "    <tr>\n",
       "      <th>1452094</th>\n",
       "      <td>yahoo.com</td>\n",
       "      <td>yahoo.com</td>\n",
       "    </tr>\n",
       "    <tr>\n",
       "      <th>1452095</th>\n",
       "      <td>yahoo.com</td>\n",
       "      <td>yahoo.com</td>\n",
       "    </tr>\n",
       "    <tr>\n",
       "      <th>1452096</th>\n",
       "      <td>yahoo.com</td>\n",
       "      <td>yahoo.com</td>\n",
       "    </tr>\n",
       "    <tr>\n",
       "      <th>1452097</th>\n",
       "      <td>yahoo.com</td>\n",
       "      <td>yahoo.com</td>\n",
       "    </tr>\n",
       "    <tr>\n",
       "      <th>1452098</th>\n",
       "      <td>yahoo.com</td>\n",
       "      <td>yahoo.com</td>\n",
       "    </tr>\n",
       "  </tbody>\n",
       "</table>\n",
       "<p>79811 rows × 2 columns</p>\n",
       "</div>"
      ],
      "text/plain": [
       "        domain_final domain_by_email\n",
       "63         yahoo.com       yahoo.com\n",
       "64         yahoo.com       yahoo.com\n",
       "65         yahoo.com       yahoo.com\n",
       "66         yahoo.com       yahoo.com\n",
       "67         yahoo.com       yahoo.com\n",
       "...              ...             ...\n",
       "1452094    yahoo.com       yahoo.com\n",
       "1452095    yahoo.com       yahoo.com\n",
       "1452096    yahoo.com       yahoo.com\n",
       "1452097    yahoo.com       yahoo.com\n",
       "1452098    yahoo.com       yahoo.com\n",
       "\n",
       "[79811 rows x 2 columns]"
      ]
     },
     "execution_count": 24,
     "metadata": {},
     "output_type": "execute_result"
    }
   ],
   "source": [
    "derived_df[derived_df.email_host == 'yahoo.com'][['domain_final', 'domain_by_email']]"
   ]
  },
  {
   "cell_type": "markdown",
   "metadata": {},
   "source": [
    "## Update Salesforce institution"
   ]
  },
  {
   "cell_type": "code",
   "execution_count": 25,
   "metadata": {
    "collapsed": false,
    "execution": {
     "iopub.execute_input": "2021-12-01T04:02:40.144809Z",
     "iopub.status.busy": "2021-12-01T04:02:40.142736Z",
     "iopub.status.idle": "2021-12-01T04:02:44.628482Z",
     "shell.execute_reply": "2021-12-01T04:02:44.627430Z",
     "shell.execute_reply.started": "2021-12-01T04:02:40.144760Z"
    },
    "jupyter": {
     "outputs_hidden": false
    },
    "pycharm": {
     "name": "#%%\n"
    },
    "tags": []
   },
   "outputs": [
    {
     "data": {
      "text/html": [
       "<div>\n",
       "<style scoped>\n",
       "    .dataframe tbody tr th:only-of-type {\n",
       "        vertical-align: middle;\n",
       "    }\n",
       "\n",
       "    .dataframe tbody tr th {\n",
       "        vertical-align: top;\n",
       "    }\n",
       "\n",
       "    .dataframe thead th {\n",
       "        text-align: right;\n",
       "    }\n",
       "</style>\n",
       "<table border=\"1\" class=\"dataframe\">\n",
       "  <thead>\n",
       "    <tr style=\"text-align: right;\">\n",
       "      <th></th>\n",
       "      <th>domain_name</th>\n",
       "      <th>domain</th>\n",
       "      <th>industry</th>\n",
       "      <th>size</th>\n",
       "      <th>country</th>\n",
       "    </tr>\n",
       "  </thead>\n",
       "  <tbody>\n",
       "    <tr>\n",
       "      <th>0</th>\n",
       "      <td>purdue university</td>\n",
       "      <td>purdue.edu</td>\n",
       "      <td>higher education</td>\n",
       "      <td>10001+</td>\n",
       "      <td>united states</td>\n",
       "    </tr>\n",
       "    <tr>\n",
       "      <th>1</th>\n",
       "      <td>yahoo</td>\n",
       "      <td>yahoo.com</td>\n",
       "      <td>internet</td>\n",
       "      <td>10001+</td>\n",
       "      <td>united states</td>\n",
       "    </tr>\n",
       "  </tbody>\n",
       "</table>\n",
       "</div>"
      ],
      "text/plain": [
       "         domain_name      domain          industry    size        country\n",
       "0  purdue university  purdue.edu  higher education  10001+  united states\n",
       "1              yahoo   yahoo.com          internet  10001+  united states"
      ]
     },
     "metadata": {},
     "output_type": "display_data"
    }
   ],
   "source": [
    "# get a unique list of organizations that appears in contact\n",
    "#org_df = derived_df[['domain_name', 'domain', 'industry', 'size', 'country']].drop_duplicates().dropna()\n",
    "org_df = pd.merge(derived_df[['domain_final']].drop_duplicates().dropna(), domain_df, how='inner', left_on='domain_final', right_on='domain')\n",
    "org_df = org_df[['domain_name', 'domain', 'industry', 'size', 'country']]\n",
    "\n",
    "# display\n",
    "display(org_df.head(2))"
   ]
  },
  {
   "cell_type": "code",
   "execution_count": 26,
   "metadata": {
    "collapsed": false,
    "execution": {
     "iopub.execute_input": "2021-12-01T04:02:44.634423Z",
     "iopub.status.busy": "2021-12-01T04:02:44.629962Z",
     "iopub.status.idle": "2021-12-01T04:02:44.703621Z",
     "shell.execute_reply": "2021-12-01T04:02:44.702896Z",
     "shell.execute_reply.started": "2021-12-01T04:02:44.634240Z"
    },
    "jupyter": {
     "outputs_hidden": false
    },
    "pycharm": {
     "name": "#%%\n"
    },
    "tags": []
   },
   "outputs": [
    {
     "data": {
      "text/html": [
       "<div>\n",
       "<style scoped>\n",
       "    .dataframe tbody tr th:only-of-type {\n",
       "        vertical-align: middle;\n",
       "    }\n",
       "\n",
       "    .dataframe tbody tr th {\n",
       "        vertical-align: top;\n",
       "    }\n",
       "\n",
       "    .dataframe thead th {\n",
       "        text-align: right;\n",
       "    }\n",
       "</style>\n",
       "<table border=\"1\" class=\"dataframe\">\n",
       "  <thead>\n",
       "    <tr style=\"text-align: right;\">\n",
       "      <th></th>\n",
       "      <th>0</th>\n",
       "      <th>1</th>\n",
       "    </tr>\n",
       "  </thead>\n",
       "  <tbody>\n",
       "    <tr>\n",
       "      <th>Name</th>\n",
       "      <td>purdue university</td>\n",
       "      <td>yahoo</td>\n",
       "    </tr>\n",
       "    <tr>\n",
       "      <th>Size_Range__c</th>\n",
       "      <td>10001+</td>\n",
       "      <td>10001+</td>\n",
       "    </tr>\n",
       "    <tr>\n",
       "      <th>Country__c</th>\n",
       "      <td>united states</td>\n",
       "      <td>united states</td>\n",
       "    </tr>\n",
       "    <tr>\n",
       "      <th>Domain__c</th>\n",
       "      <td>purdue.edu</td>\n",
       "      <td>yahoo.com</td>\n",
       "    </tr>\n",
       "    <tr>\n",
       "      <th>Industry__c</th>\n",
       "      <td>higher education</td>\n",
       "      <td>internet</td>\n",
       "    </tr>\n",
       "  </tbody>\n",
       "</table>\n",
       "</div>"
      ],
      "text/plain": [
       "                               0              1\n",
       "Name           purdue university          yahoo\n",
       "Size_Range__c             10001+         10001+\n",
       "Country__c         united states  united states\n",
       "Domain__c             purdue.edu      yahoo.com\n",
       "Industry__c     higher education       internet"
      ]
     },
     "execution_count": 26,
     "metadata": {},
     "output_type": "execute_result"
    }
   ],
   "source": [
    "df_sf = pd.DataFrame()\n",
    "\n",
    "# Make sure NaN and NaT values are taken care of here\n",
    "df_sf['Name'] = org_df['domain_name']\n",
    "\n",
    "df_sf['Size_Range__c'] = org_df['size'].fillna('Unknown')\n",
    "df_sf['Country__c'] = org_df['country']\n",
    "df_sf['Domain__c'] = org_df['domain']\n",
    "df_sf['Industry__c'] = org_df['industry']\n",
    "\n",
    "sf_original_fields = df_sf.columns\n",
    "\n",
    "# display\n",
    "df_sf.head(2).T"
   ]
  },
  {
   "cell_type": "code",
   "execution_count": 27,
   "metadata": {
    "collapsed": false,
    "execution": {
     "iopub.execute_input": "2021-12-01T04:02:44.705045Z",
     "iopub.status.busy": "2021-12-01T04:02:44.704435Z",
     "iopub.status.idle": "2021-12-01T04:02:44.711254Z",
     "shell.execute_reply": "2021-12-01T04:02:44.710137Z",
     "shell.execute_reply.started": "2021-12-01T04:02:44.705012Z"
    },
    "jupyter": {
     "outputs_hidden": false
    },
    "pycharm": {
     "name": "#%%\n"
    },
    "tags": []
   },
   "outputs": [],
   "source": [
    "\n",
    "\n",
    "db_s.object_id = 'organization__c'\n",
    "db_s.external_id = 'Domain__c'"
   ]
  },
  {
   "cell_type": "code",
   "execution_count": 28,
   "metadata": {
    "collapsed": false,
    "execution": {
     "iopub.execute_input": "2021-12-01T04:02:44.712745Z",
     "iopub.status.busy": "2021-12-01T04:02:44.712254Z",
     "iopub.status.idle": "2021-12-01T04:02:46.035385Z",
     "shell.execute_reply": "2021-12-01T04:02:46.034596Z",
     "shell.execute_reply.started": "2021-12-01T04:02:44.712714Z"
    },
    "jupyter": {
     "outputs_hidden": false
    },
    "pycharm": {
     "name": "#%%\n"
    },
    "tags": []
   },
   "outputs": [
    {
     "name": "stdout",
     "output_type": "stream",
     "text": [
      "[Success] Bulk job creation successful. Job ID = 7505w00000bmd0sAAA\n",
      "hello\n",
      "[Success] CSV upload successful. Job ID = 7505w00000bmd0sAAA\n",
      "[Success] Closing job successful. Job ID = 7505w00000bmd0sAAA\n"
     ]
    }
   ],
   "source": [
    "# send data to Salesforce\n",
    "db_s.send_data(df_sf)"
   ]
  },
  {
   "cell_type": "code",
   "execution_count": 29,
   "metadata": {
    "collapsed": false,
    "execution": {
     "iopub.execute_input": "2021-12-01T04:02:46.039033Z",
     "iopub.status.busy": "2021-12-01T04:02:46.037271Z",
     "iopub.status.idle": "2021-12-01T04:02:46.429502Z",
     "shell.execute_reply": "2021-12-01T04:02:46.426553Z",
     "shell.execute_reply.started": "2021-12-01T04:02:46.038939Z"
    },
    "jupyter": {
     "outputs_hidden": false
    },
    "pycharm": {
     "name": "#%%\n"
    },
    "tags": []
   },
   "outputs": [
    {
     "data": {
      "text/plain": [
       "{'id': '7505w00000bmd0sAAA',\n",
       " 'operation': 'upsert',\n",
       " 'object': 'organization__c',\n",
       " 'createdById': '0055w00000DM5bOAAT',\n",
       " 'createdDate': '2021-12-01T04:02:45.000+0000',\n",
       " 'systemModstamp': '2021-12-01T04:02:46.000+0000',\n",
       " 'state': 'UploadComplete',\n",
       " 'externalIdFieldName': 'Domain__c',\n",
       " 'concurrencyMode': 'Parallel',\n",
       " 'contentType': 'CSV',\n",
       " 'apiVersion': 47.0,\n",
       " 'jobType': 'V2Ingest',\n",
       " 'lineEnding': 'LF',\n",
       " 'columnDelimiter': 'COMMA',\n",
       " 'numberRecordsProcessed': 0,\n",
       " 'numberRecordsFailed': 0,\n",
       " 'retries': 0,\n",
       " 'totalProcessingTime': 0,\n",
       " 'apiActiveProcessingTime': 0,\n",
       " 'apexProcessingTime': 0}"
      ]
     },
     "execution_count": 29,
     "metadata": {},
     "output_type": "execute_result"
    }
   ],
   "source": [
    "# check status\n",
    "db_s.check_bulk_status()"
   ]
  },
  {
   "cell_type": "code",
   "execution_count": 30,
   "metadata": {
    "collapsed": false,
    "execution": {
     "iopub.execute_input": "2021-12-01T04:02:46.434827Z",
     "iopub.status.busy": "2021-12-01T04:02:46.431967Z",
     "iopub.status.idle": "2021-12-01T04:02:46.638849Z",
     "shell.execute_reply": "2021-12-01T04:02:46.636690Z",
     "shell.execute_reply.started": "2021-12-01T04:02:46.434653Z"
    },
    "jupyter": {
     "outputs_hidden": false
    },
    "pycharm": {
     "name": "#%%\n"
    },
    "tags": []
   },
   "outputs": [
    {
     "name": "stdout",
     "output_type": "stream",
     "text": [
      "''\n"
     ]
    }
   ],
   "source": [
    "# check status\n",
    "from pprint import pprint\n",
    "\n",
    "pprint(db_s.check_bulk_failed_results())"
   ]
  },
  {
   "cell_type": "markdown",
   "metadata": {},
   "source": [
    "## Obtain newly updated organization IDs from Salesforce"
   ]
  },
  {
   "cell_type": "code",
   "execution_count": 31,
   "metadata": {
    "collapsed": false,
    "execution": {
     "iopub.execute_input": "2021-12-01T04:03:13.264149Z",
     "iopub.status.busy": "2021-12-01T04:03:13.263600Z",
     "iopub.status.idle": "2021-12-01T04:03:13.275289Z",
     "shell.execute_reply": "2021-12-01T04:03:13.273734Z",
     "shell.execute_reply.started": "2021-12-01T04:03:13.264100Z"
    },
    "jupyter": {
     "outputs_hidden": false
    },
    "pycharm": {
     "name": "#%%\n"
    },
    "tags": []
   },
   "outputs": [],
   "source": [
    "# create DB2 to Salesforce API object\n"
   ]
  },
  {
   "cell_type": "code",
   "execution_count": 32,
   "metadata": {
    "collapsed": false,
    "execution": {
     "iopub.execute_input": "2021-12-01T04:03:13.975687Z",
     "iopub.status.busy": "2021-12-01T04:03:13.975355Z",
     "iopub.status.idle": "2021-12-01T04:03:25.931672Z",
     "shell.execute_reply": "2021-12-01T04:03:25.930691Z",
     "shell.execute_reply.started": "2021-12-01T04:03:13.975641Z"
    },
    "jupyter": {
     "outputs_hidden": false
    },
    "pycharm": {
     "name": "#%%\n"
    },
    "tags": []
   },
   "outputs": [
    {
     "name": "stdout",
     "output_type": "stream",
     "text": [
      "[Success] Bulk job creation successful. Job ID = 7505w00000bmczqAAA\n",
      "{\"id\":\"7505w00000bmczqAAA\",\"operation\":\"query\",\"object\":\"organization__c\",\"createdById\":\"0055w00000DM5bOAAT\",\"createdDate\":\"2021-12-01T04:03:14.000+0000\",\"systemModstamp\":\"2021-12-01T04:03:14.000+0000\",\"state\":\"UploadComplete\",\"concurrencyMode\":\"Parallel\",\"contentType\":\"CSV\",\"apiVersion\":47.0,\"jobType\":\"V2Query\",\"lineEnding\":\"LF\",\"columnDelimiter\":\"COMMA\",\"retries\":0,\"totalProcessingTime\":0}\n",
      "{\"id\":\"7505w00000bmczqAAA\",\"operation\":\"query\",\"object\":\"organization__c\",\"createdById\":\"0055w00000DM5bOAAT\",\"createdDate\":\"2021-12-01T04:03:14.000+0000\",\"systemModstamp\":\"2021-12-01T04:03:16.000+0000\",\"state\":\"JobComplete\",\"concurrencyMode\":\"Parallel\",\"contentType\":\"CSV\",\"apiVersion\":47.0,\"jobType\":\"V2Query\",\"lineEnding\":\"LF\",\"columnDelimiter\":\"COMMA\",\"numberRecordsProcessed\":6508,\"retries\":0,\"totalProcessingTime\":897}\n",
      "[Success] Bulk job completed successfully.\n"
     ]
    },
    {
     "data": {
      "text/html": [
       "<div>\n",
       "<style scoped>\n",
       "    .dataframe tbody tr th:only-of-type {\n",
       "        vertical-align: middle;\n",
       "    }\n",
       "\n",
       "    .dataframe tbody tr th {\n",
       "        vertical-align: top;\n",
       "    }\n",
       "\n",
       "    .dataframe thead th {\n",
       "        text-align: right;\n",
       "    }\n",
       "</style>\n",
       "<table border=\"1\" class=\"dataframe\">\n",
       "  <thead>\n",
       "    <tr style=\"text-align: right;\">\n",
       "      <th></th>\n",
       "      <th>Domain__c</th>\n",
       "      <th>Id</th>\n",
       "    </tr>\n",
       "  </thead>\n",
       "  <tbody>\n",
       "    <tr>\n",
       "      <th>0</th>\n",
       "      <td>upenn.edu</td>\n",
       "      <td>a0r5w00000V42c0AAB</td>\n",
       "    </tr>\n",
       "    <tr>\n",
       "      <th>1</th>\n",
       "      <td>fer.hr</td>\n",
       "      <td>a0r5w00000V42c1AAB</td>\n",
       "    </tr>\n",
       "    <tr>\n",
       "      <th>2</th>\n",
       "      <td>wheatoncollege.edu</td>\n",
       "      <td>a0r5w00000V42c2AAB</td>\n",
       "    </tr>\n",
       "  </tbody>\n",
       "</table>\n",
       "</div>"
      ],
      "text/plain": [
       "            Domain__c                  Id\n",
       "0           upenn.edu  a0r5w00000V42c0AAB\n",
       "1              fer.hr  a0r5w00000V42c1AAB\n",
       "2  wheatoncollege.edu  a0r5w00000V42c2AAB"
      ]
     },
     "execution_count": 32,
     "metadata": {},
     "output_type": "execute_result"
    }
   ],
   "source": [
    "# get Salesforce ID for organizations\n",
    "sf_org_ID_df = db_s.query_data('SELECT Id, Domain__c FROM organization__c')\n",
    "\n",
    "# display\n",
    "sf_org_ID_df.head(3)"
   ]
  },
  {
   "cell_type": "code",
   "execution_count": 33,
   "metadata": {
    "collapsed": false,
    "execution": {
     "iopub.execute_input": "2021-12-01T04:03:25.934530Z",
     "iopub.status.busy": "2021-12-01T04:03:25.933193Z",
     "iopub.status.idle": "2021-12-01T04:03:32.664640Z",
     "shell.execute_reply": "2021-12-01T04:03:32.663186Z",
     "shell.execute_reply.started": "2021-12-01T04:03:25.934482Z"
    },
    "jupyter": {
     "outputs_hidden": false
    },
    "pycharm": {
     "name": "#%%\n"
    },
    "tags": []
   },
   "outputs": [],
   "source": [
    "# join salesforce ID back to contact DF\n",
    "df = pd.merge(sf_org_ID_df, derived_df, how='right', left_on='Domain__c', right_on='domain_final').drop('Domain__c', axis=1).rename(columns={'Id':'Salesforce_org_ID'})"
   ]
  },
  {
   "cell_type": "code",
   "execution_count": 34,
   "metadata": {
    "collapsed": false,
    "execution": {
     "iopub.execute_input": "2021-12-01T04:03:32.665885Z",
     "iopub.status.busy": "2021-12-01T04:03:32.665701Z",
     "iopub.status.idle": "2021-12-01T04:03:32.707477Z",
     "shell.execute_reply": "2021-12-01T04:03:32.706035Z",
     "shell.execute_reply.started": "2021-12-01T04:03:32.665854Z"
    },
    "jupyter": {
     "outputs_hidden": false
    },
    "pycharm": {
     "name": "#%%\n"
    },
    "tags": []
   },
   "outputs": [
    {
     "data": {
      "text/html": [
       "<div>\n",
       "<style scoped>\n",
       "    .dataframe tbody tr th:only-of-type {\n",
       "        vertical-align: middle;\n",
       "    }\n",
       "\n",
       "    .dataframe tbody tr th {\n",
       "        vertical-align: top;\n",
       "    }\n",
       "\n",
       "    .dataframe thead th {\n",
       "        text-align: right;\n",
       "    }\n",
       "</style>\n",
       "<table border=\"1\" class=\"dataframe\">\n",
       "  <thead>\n",
       "    <tr style=\"text-align: right;\">\n",
       "      <th></th>\n",
       "      <th>Salesforce_org_ID</th>\n",
       "      <th>user_id</th>\n",
       "      <th>username</th>\n",
       "      <th>block</th>\n",
       "      <th>email</th>\n",
       "      <th>sendEmail</th>\n",
       "      <th>registerDate</th>\n",
       "      <th>lastvisitDate</th>\n",
       "      <th>email_host</th>\n",
       "      <th>title</th>\n",
       "      <th>...</th>\n",
       "      <th>organization</th>\n",
       "      <th>orcid</th>\n",
       "      <th>orgtype</th>\n",
       "      <th>org_cleaned_set</th>\n",
       "      <th>org_cleaned_hash</th>\n",
       "      <th>is_email_commerical</th>\n",
       "      <th>domain_by_email</th>\n",
       "      <th>domain_by_profile</th>\n",
       "      <th>domain_by_profile_infer</th>\n",
       "      <th>domain_final</th>\n",
       "    </tr>\n",
       "  </thead>\n",
       "  <tbody>\n",
       "    <tr>\n",
       "      <th>0</th>\n",
       "      <td>NaN</td>\n",
       "      <td>998</td>\n",
       "      <td>hubrepo</td>\n",
       "      <td>0</td>\n",
       "      <td>nkissebe@gmail.com</td>\n",
       "      <td>0</td>\n",
       "      <td>2014-11-13 21:09:09</td>\n",
       "      <td>NaT</td>\n",
       "      <td>gmail.com</td>\n",
       "      <td>None</td>\n",
       "      <td>...</td>\n",
       "      <td>none</td>\n",
       "      <td>None</td>\n",
       "      <td>None</td>\n",
       "      <td>{none}</td>\n",
       "      <td>none</td>\n",
       "      <td>False</td>\n",
       "      <td>NaN</td>\n",
       "      <td>NaN</td>\n",
       "      <td>None</td>\n",
       "      <td>None</td>\n",
       "    </tr>\n",
       "    <tr>\n",
       "      <th>1</th>\n",
       "      <td>NaN</td>\n",
       "      <td>998</td>\n",
       "      <td>hubrepo</td>\n",
       "      <td>0</td>\n",
       "      <td>nkissebe@gmail.com</td>\n",
       "      <td>0</td>\n",
       "      <td>2014-11-13 21:09:09</td>\n",
       "      <td>NaT</td>\n",
       "      <td>gmail.com</td>\n",
       "      <td>None</td>\n",
       "      <td>...</td>\n",
       "      <td>none</td>\n",
       "      <td>None</td>\n",
       "      <td>None</td>\n",
       "      <td>{none}</td>\n",
       "      <td>none</td>\n",
       "      <td>False</td>\n",
       "      <td>NaN</td>\n",
       "      <td>NaN</td>\n",
       "      <td>None</td>\n",
       "      <td>None</td>\n",
       "    </tr>\n",
       "  </tbody>\n",
       "</table>\n",
       "<p>2 rows × 25 columns</p>\n",
       "</div>"
      ],
      "text/plain": [
       "  Salesforce_org_ID  user_id username  block               email  sendEmail  \\\n",
       "0               NaN      998  hubrepo      0  nkissebe@gmail.com          0   \n",
       "1               NaN      998  hubrepo      0  nkissebe@gmail.com          0   \n",
       "\n",
       "         registerDate lastvisitDate email_host title  ... organization orcid  \\\n",
       "0 2014-11-13 21:09:09           NaT  gmail.com  None  ...         none  None   \n",
       "1 2014-11-13 21:09:09           NaT  gmail.com  None  ...         none  None   \n",
       "\n",
       "  orgtype org_cleaned_set org_cleaned_hash is_email_commerical  \\\n",
       "0    None          {none}             none               False   \n",
       "1    None          {none}             none               False   \n",
       "\n",
       "  domain_by_email domain_by_profile domain_by_profile_infer domain_final  \n",
       "0             NaN               NaN                    None         None  \n",
       "1             NaN               NaN                    None         None  \n",
       "\n",
       "[2 rows x 25 columns]"
      ]
     },
     "metadata": {},
     "output_type": "display_data"
    }
   ],
   "source": [
    "# display\n",
    "display(df.head(2))"
   ]
  },
  {
   "cell_type": "markdown",
   "metadata": {},
   "source": [
    "## Match data with Salesforce format"
   ]
  },
  {
   "cell_type": "code",
   "execution_count": null,
   "metadata": {
    "collapsed": false,
    "jupyter": {
     "outputs_hidden": false
    },
    "pycharm": {
     "name": "#%%\n"
    },
    "tags": []
   },
   "outputs": [],
   "source": []
  },
  {
   "cell_type": "code",
   "execution_count": 39,
   "metadata": {
    "execution": {
     "iopub.execute_input": "2021-12-01T04:05:39.543445Z",
     "iopub.status.busy": "2021-12-01T04:05:39.543183Z",
     "iopub.status.idle": "2021-12-01T04:05:40.887030Z",
     "shell.execute_reply": "2021-12-01T04:05:40.884021Z",
     "shell.execute_reply.started": "2021-12-01T04:05:39.543415Z"
    },
    "pycharm": {
     "name": "#%%\n"
    },
    "tags": []
   },
   "outputs": [
    {
     "data": {
      "text/html": [
       "<div>\n",
       "<style scoped>\n",
       "    .dataframe tbody tr th:only-of-type {\n",
       "        vertical-align: middle;\n",
       "    }\n",
       "\n",
       "    .dataframe tbody tr th {\n",
       "        vertical-align: top;\n",
       "    }\n",
       "\n",
       "    .dataframe thead th {\n",
       "        text-align: right;\n",
       "    }\n",
       "</style>\n",
       "<table border=\"1\" class=\"dataframe\">\n",
       "  <thead>\n",
       "    <tr style=\"text-align: right;\">\n",
       "      <th></th>\n",
       "      <th>Salesforce_org_ID</th>\n",
       "      <th>user_id</th>\n",
       "      <th>username</th>\n",
       "      <th>block</th>\n",
       "      <th>email</th>\n",
       "      <th>sendEmail</th>\n",
       "      <th>registerDate</th>\n",
       "      <th>lastvisitDate</th>\n",
       "      <th>email_host</th>\n",
       "      <th>title</th>\n",
       "      <th>...</th>\n",
       "      <th>organization</th>\n",
       "      <th>orcid</th>\n",
       "      <th>orgtype</th>\n",
       "      <th>org_cleaned_set</th>\n",
       "      <th>org_cleaned_hash</th>\n",
       "      <th>is_email_commerical</th>\n",
       "      <th>domain_by_email</th>\n",
       "      <th>domain_by_profile</th>\n",
       "      <th>domain_by_profile_infer</th>\n",
       "      <th>domain_final</th>\n",
       "    </tr>\n",
       "  </thead>\n",
       "  <tbody>\n",
       "    <tr>\n",
       "      <th>0</th>\n",
       "      <td>NaN</td>\n",
       "      <td>998</td>\n",
       "      <td>hubrepo</td>\n",
       "      <td>0</td>\n",
       "      <td>nkissebe@gmail.com</td>\n",
       "      <td>0</td>\n",
       "      <td>2014-11-13 21:09:09</td>\n",
       "      <td>NaT</td>\n",
       "      <td>gmail.com</td>\n",
       "      <td>None</td>\n",
       "      <td>...</td>\n",
       "      <td>none</td>\n",
       "      <td>None</td>\n",
       "      <td>None</td>\n",
       "      <td>{none}</td>\n",
       "      <td>none</td>\n",
       "      <td>False</td>\n",
       "      <td>NaN</td>\n",
       "      <td>NaN</td>\n",
       "      <td>None</td>\n",
       "      <td>None</td>\n",
       "    </tr>\n",
       "    <tr>\n",
       "      <th>1</th>\n",
       "      <td>NaN</td>\n",
       "      <td>998</td>\n",
       "      <td>hubrepo</td>\n",
       "      <td>0</td>\n",
       "      <td>nkissebe@gmail.com</td>\n",
       "      <td>0</td>\n",
       "      <td>2014-11-13 21:09:09</td>\n",
       "      <td>NaT</td>\n",
       "      <td>gmail.com</td>\n",
       "      <td>None</td>\n",
       "      <td>...</td>\n",
       "      <td>none</td>\n",
       "      <td>None</td>\n",
       "      <td>None</td>\n",
       "      <td>{none}</td>\n",
       "      <td>none</td>\n",
       "      <td>False</td>\n",
       "      <td>NaN</td>\n",
       "      <td>NaN</td>\n",
       "      <td>None</td>\n",
       "      <td>None</td>\n",
       "    </tr>\n",
       "    <tr>\n",
       "      <th>2</th>\n",
       "      <td>NaN</td>\n",
       "      <td>1683</td>\n",
       "      <td>support</td>\n",
       "      <td>0</td>\n",
       "      <td>support@nanohub.org</td>\n",
       "      <td>0</td>\n",
       "      <td>2008-11-19 22:51:04</td>\n",
       "      <td>2008-11-19 23:55:30</td>\n",
       "      <td>nanohub.org</td>\n",
       "      <td>None</td>\n",
       "      <td>...</td>\n",
       "      <td>none</td>\n",
       "      <td>None</td>\n",
       "      <td>university</td>\n",
       "      <td>{none}</td>\n",
       "      <td>none</td>\n",
       "      <td>False</td>\n",
       "      <td>NaN</td>\n",
       "      <td>NaN</td>\n",
       "      <td>None</td>\n",
       "      <td>None</td>\n",
       "    </tr>\n",
       "    <tr>\n",
       "      <th>3</th>\n",
       "      <td>a0r5w00000V42cCAAR</td>\n",
       "      <td>1683</td>\n",
       "      <td>support</td>\n",
       "      <td>0</td>\n",
       "      <td>support@nanohub.org</td>\n",
       "      <td>0</td>\n",
       "      <td>2008-11-19 22:51:04</td>\n",
       "      <td>2008-11-19 23:55:30</td>\n",
       "      <td>nanohub.org</td>\n",
       "      <td>None</td>\n",
       "      <td>...</td>\n",
       "      <td>purdue university</td>\n",
       "      <td>None</td>\n",
       "      <td>None</td>\n",
       "      <td>{university, purdue}</td>\n",
       "      <td>purdue-university</td>\n",
       "      <td>False</td>\n",
       "      <td>NaN</td>\n",
       "      <td>purdue.edu</td>\n",
       "      <td>purdue.edu</td>\n",
       "      <td>purdue.edu</td>\n",
       "    </tr>\n",
       "    <tr>\n",
       "      <th>4</th>\n",
       "      <td>NaN</td>\n",
       "      <td>1683</td>\n",
       "      <td>support</td>\n",
       "      <td>0</td>\n",
       "      <td>support@nanohub.org</td>\n",
       "      <td>0</td>\n",
       "      <td>2008-11-19 22:51:04</td>\n",
       "      <td>2008-11-19 23:55:30</td>\n",
       "      <td>nanohub.org</td>\n",
       "      <td>None</td>\n",
       "      <td>...</td>\n",
       "      <td>none</td>\n",
       "      <td>None</td>\n",
       "      <td>None</td>\n",
       "      <td>{none}</td>\n",
       "      <td>none</td>\n",
       "      <td>False</td>\n",
       "      <td>NaN</td>\n",
       "      <td>NaN</td>\n",
       "      <td>None</td>\n",
       "      <td>None</td>\n",
       "    </tr>\n",
       "  </tbody>\n",
       "</table>\n",
       "<p>5 rows × 25 columns</p>\n",
       "</div>"
      ],
      "text/plain": [
       "    Salesforce_org_ID  user_id username  block                email  \\\n",
       "0                 NaN      998  hubrepo      0   nkissebe@gmail.com   \n",
       "1                 NaN      998  hubrepo      0   nkissebe@gmail.com   \n",
       "2                 NaN     1683  support      0  support@nanohub.org   \n",
       "3  a0r5w00000V42cCAAR     1683  support      0  support@nanohub.org   \n",
       "4                 NaN     1683  support      0  support@nanohub.org   \n",
       "\n",
       "   sendEmail        registerDate       lastvisitDate   email_host title  ...  \\\n",
       "0          0 2014-11-13 21:09:09                 NaT    gmail.com  None  ...   \n",
       "1          0 2014-11-13 21:09:09                 NaT    gmail.com  None  ...   \n",
       "2          0 2008-11-19 22:51:04 2008-11-19 23:55:30  nanohub.org  None  ...   \n",
       "3          0 2008-11-19 22:51:04 2008-11-19 23:55:30  nanohub.org  None  ...   \n",
       "4          0 2008-11-19 22:51:04 2008-11-19 23:55:30  nanohub.org  None  ...   \n",
       "\n",
       "        organization orcid     orgtype       org_cleaned_set  \\\n",
       "0               none  None        None                {none}   \n",
       "1               none  None        None                {none}   \n",
       "2               none  None  university                {none}   \n",
       "3  purdue university  None        None  {university, purdue}   \n",
       "4               none  None        None                {none}   \n",
       "\n",
       "    org_cleaned_hash is_email_commerical domain_by_email domain_by_profile  \\\n",
       "0               none               False             NaN               NaN   \n",
       "1               none               False             NaN               NaN   \n",
       "2               none               False             NaN               NaN   \n",
       "3  purdue-university               False             NaN        purdue.edu   \n",
       "4               none               False             NaN               NaN   \n",
       "\n",
       "  domain_by_profile_infer domain_final  \n",
       "0                    None         None  \n",
       "1                    None         None  \n",
       "2                    None         None  \n",
       "3              purdue.edu   purdue.edu  \n",
       "4                    None         None  \n",
       "\n",
       "[5 rows x 25 columns]"
      ]
     },
     "metadata": {},
     "output_type": "display_data"
    },
    {
     "data": {
      "text/html": [
       "<div>\n",
       "<style scoped>\n",
       "    .dataframe tbody tr th:only-of-type {\n",
       "        vertical-align: middle;\n",
       "    }\n",
       "\n",
       "    .dataframe tbody tr th {\n",
       "        vertical-align: top;\n",
       "    }\n",
       "\n",
       "    .dataframe thead th {\n",
       "        text-align: right;\n",
       "    }\n",
       "</style>\n",
       "<table border=\"1\" class=\"dataframe\">\n",
       "  <thead>\n",
       "    <tr style=\"text-align: right;\">\n",
       "      <th></th>\n",
       "      <th>Salesforce_org_ID</th>\n",
       "      <th>user_id</th>\n",
       "      <th>username</th>\n",
       "      <th>block</th>\n",
       "      <th>email</th>\n",
       "      <th>sendEmail</th>\n",
       "      <th>registerDate</th>\n",
       "      <th>lastvisitDate</th>\n",
       "      <th>email_host</th>\n",
       "      <th>title</th>\n",
       "      <th>...</th>\n",
       "      <th>organization</th>\n",
       "      <th>orcid</th>\n",
       "      <th>orgtype</th>\n",
       "      <th>org_cleaned_set</th>\n",
       "      <th>org_cleaned_hash</th>\n",
       "      <th>is_email_commerical</th>\n",
       "      <th>domain_by_email</th>\n",
       "      <th>domain_by_profile</th>\n",
       "      <th>domain_by_profile_infer</th>\n",
       "      <th>domain_final</th>\n",
       "    </tr>\n",
       "  </thead>\n",
       "  <tbody>\n",
       "    <tr>\n",
       "      <th>1453077</th>\n",
       "      <td>a0r5w00000V42kYAAR</td>\n",
       "      <td>347752</td>\n",
       "      <td>jsambeek</td>\n",
       "      <td>0</td>\n",
       "      <td>jsambeek@mit.edu</td>\n",
       "      <td>0</td>\n",
       "      <td>2021-12-01 03:45:42</td>\n",
       "      <td>2021-12-01 03:45:43</td>\n",
       "      <td>mit.edu</td>\n",
       "      <td>None</td>\n",
       "      <td>...</td>\n",
       "      <td>none</td>\n",
       "      <td>None</td>\n",
       "      <td>None</td>\n",
       "      <td>{none}</td>\n",
       "      <td>none</td>\n",
       "      <td>False</td>\n",
       "      <td>mit.edu</td>\n",
       "      <td>NaN</td>\n",
       "      <td>None</td>\n",
       "      <td>mit.edu</td>\n",
       "    </tr>\n",
       "    <tr>\n",
       "      <th>1453078</th>\n",
       "      <td>a0r5w00000V42kYAAR</td>\n",
       "      <td>347752</td>\n",
       "      <td>jsambeek</td>\n",
       "      <td>0</td>\n",
       "      <td>jsambeek@mit.edu</td>\n",
       "      <td>0</td>\n",
       "      <td>2021-12-01 03:45:42</td>\n",
       "      <td>2021-12-01 03:45:43</td>\n",
       "      <td>mit.edu</td>\n",
       "      <td>None</td>\n",
       "      <td>...</td>\n",
       "      <td>none</td>\n",
       "      <td>None</td>\n",
       "      <td>None</td>\n",
       "      <td>{none}</td>\n",
       "      <td>none</td>\n",
       "      <td>False</td>\n",
       "      <td>mit.edu</td>\n",
       "      <td>NaN</td>\n",
       "      <td>None</td>\n",
       "      <td>mit.edu</td>\n",
       "    </tr>\n",
       "    <tr>\n",
       "      <th>1453079</th>\n",
       "      <td>a0r5w00000V42kYAAR</td>\n",
       "      <td>347752</td>\n",
       "      <td>jsambeek</td>\n",
       "      <td>0</td>\n",
       "      <td>jsambeek@mit.edu</td>\n",
       "      <td>0</td>\n",
       "      <td>2021-12-01 03:45:42</td>\n",
       "      <td>2021-12-01 03:45:43</td>\n",
       "      <td>mit.edu</td>\n",
       "      <td>None</td>\n",
       "      <td>...</td>\n",
       "      <td>none</td>\n",
       "      <td>None</td>\n",
       "      <td>None</td>\n",
       "      <td>{none}</td>\n",
       "      <td>none</td>\n",
       "      <td>False</td>\n",
       "      <td>mit.edu</td>\n",
       "      <td>NaN</td>\n",
       "      <td>None</td>\n",
       "      <td>mit.edu</td>\n",
       "    </tr>\n",
       "    <tr>\n",
       "      <th>1453080</th>\n",
       "      <td>a0r5w00000V42kYAAR</td>\n",
       "      <td>347752</td>\n",
       "      <td>jsambeek</td>\n",
       "      <td>0</td>\n",
       "      <td>jsambeek@mit.edu</td>\n",
       "      <td>0</td>\n",
       "      <td>2021-12-01 03:45:42</td>\n",
       "      <td>2021-12-01 03:45:43</td>\n",
       "      <td>mit.edu</td>\n",
       "      <td>None</td>\n",
       "      <td>...</td>\n",
       "      <td>none</td>\n",
       "      <td>None</td>\n",
       "      <td>None</td>\n",
       "      <td>{none}</td>\n",
       "      <td>none</td>\n",
       "      <td>False</td>\n",
       "      <td>mit.edu</td>\n",
       "      <td>NaN</td>\n",
       "      <td>None</td>\n",
       "      <td>mit.edu</td>\n",
       "    </tr>\n",
       "    <tr>\n",
       "      <th>1453081</th>\n",
       "      <td>NaN</td>\n",
       "      <td>347753</td>\n",
       "      <td>-186752</td>\n",
       "      <td>0</td>\n",
       "      <td>-186752@invalid</td>\n",
       "      <td>-1</td>\n",
       "      <td>2021-12-01 03:45:47</td>\n",
       "      <td>2021-12-01 03:45:48</td>\n",
       "      <td>invalid</td>\n",
       "      <td>None</td>\n",
       "      <td>...</td>\n",
       "      <td>none</td>\n",
       "      <td>None</td>\n",
       "      <td>None</td>\n",
       "      <td>{none}</td>\n",
       "      <td>none</td>\n",
       "      <td>False</td>\n",
       "      <td>NaN</td>\n",
       "      <td>NaN</td>\n",
       "      <td>None</td>\n",
       "      <td>None</td>\n",
       "    </tr>\n",
       "  </tbody>\n",
       "</table>\n",
       "<p>5 rows × 25 columns</p>\n",
       "</div>"
      ],
      "text/plain": [
       "          Salesforce_org_ID  user_id  username  block             email  \\\n",
       "1453077  a0r5w00000V42kYAAR   347752  jsambeek      0  jsambeek@mit.edu   \n",
       "1453078  a0r5w00000V42kYAAR   347752  jsambeek      0  jsambeek@mit.edu   \n",
       "1453079  a0r5w00000V42kYAAR   347752  jsambeek      0  jsambeek@mit.edu   \n",
       "1453080  a0r5w00000V42kYAAR   347752  jsambeek      0  jsambeek@mit.edu   \n",
       "1453081                 NaN   347753   -186752      0   -186752@invalid   \n",
       "\n",
       "         sendEmail        registerDate       lastvisitDate email_host title  \\\n",
       "1453077          0 2021-12-01 03:45:42 2021-12-01 03:45:43    mit.edu  None   \n",
       "1453078          0 2021-12-01 03:45:42 2021-12-01 03:45:43    mit.edu  None   \n",
       "1453079          0 2021-12-01 03:45:42 2021-12-01 03:45:43    mit.edu  None   \n",
       "1453080          0 2021-12-01 03:45:42 2021-12-01 03:45:43    mit.edu  None   \n",
       "1453081         -1 2021-12-01 03:45:47 2021-12-01 03:45:48    invalid  None   \n",
       "\n",
       "         ... organization orcid orgtype org_cleaned_set org_cleaned_hash  \\\n",
       "1453077  ...         none  None    None          {none}             none   \n",
       "1453078  ...         none  None    None          {none}             none   \n",
       "1453079  ...         none  None    None          {none}             none   \n",
       "1453080  ...         none  None    None          {none}             none   \n",
       "1453081  ...         none  None    None          {none}             none   \n",
       "\n",
       "        is_email_commerical domain_by_email domain_by_profile  \\\n",
       "1453077               False         mit.edu               NaN   \n",
       "1453078               False         mit.edu               NaN   \n",
       "1453079               False         mit.edu               NaN   \n",
       "1453080               False         mit.edu               NaN   \n",
       "1453081               False             NaN               NaN   \n",
       "\n",
       "        domain_by_profile_infer domain_final  \n",
       "1453077                    None      mit.edu  \n",
       "1453078                    None      mit.edu  \n",
       "1453079                    None      mit.edu  \n",
       "1453080                    None      mit.edu  \n",
       "1453081                    None         None  \n",
       "\n",
       "[5 rows x 25 columns]"
      ]
     },
     "metadata": {},
     "output_type": "display_data"
    }
   ],
   "source": [
    "\n",
    "\n",
    "# Make sure NaN and NaT values are taken care of here\n",
    "df['raw_full_name'] = df.raw_full_name.str.strip()\n",
    "df = df[df['raw_full_name'].notnull()]\n",
    "\n",
    "display(df.head())\n",
    "display(df.tail())"
   ]
  },
  {
   "cell_type": "code",
   "execution_count": 40,
   "metadata": {
    "execution": {
     "iopub.execute_input": "2021-12-01T04:05:46.659762Z",
     "iopub.status.busy": "2021-12-01T04:05:46.659449Z",
     "iopub.status.idle": "2021-12-01T04:05:46.845127Z",
     "shell.execute_reply": "2021-12-01T04:05:46.844095Z",
     "shell.execute_reply.started": "2021-12-01T04:05:46.659732Z"
    },
    "tags": []
   },
   "outputs": [
    {
     "data": {
      "text/html": [
       "<div>\n",
       "<style scoped>\n",
       "    .dataframe tbody tr th:only-of-type {\n",
       "        vertical-align: middle;\n",
       "    }\n",
       "\n",
       "    .dataframe tbody tr th {\n",
       "        vertical-align: top;\n",
       "    }\n",
       "\n",
       "    .dataframe thead th {\n",
       "        text-align: right;\n",
       "    }\n",
       "</style>\n",
       "<table border=\"1\" class=\"dataframe\">\n",
       "  <thead>\n",
       "    <tr style=\"text-align: right;\">\n",
       "      <th></th>\n",
       "      <th>firstname</th>\n",
       "      <th>Middle_name__c</th>\n",
       "      <th>lastname</th>\n",
       "    </tr>\n",
       "  </thead>\n",
       "  <tbody>\n",
       "    <tr>\n",
       "      <th>0</th>\n",
       "      <td>hubrepo</td>\n",
       "      <td>None</td>\n",
       "      <td>hubrepo</td>\n",
       "    </tr>\n",
       "    <tr>\n",
       "      <th>1</th>\n",
       "      <td>hubrepo</td>\n",
       "      <td>None</td>\n",
       "      <td>hubrepo</td>\n",
       "    </tr>\n",
       "    <tr>\n",
       "      <th>2</th>\n",
       "      <td>nanoHUB</td>\n",
       "      <td>None</td>\n",
       "      <td>support</td>\n",
       "    </tr>\n",
       "    <tr>\n",
       "      <th>3</th>\n",
       "      <td>nanoHUB</td>\n",
       "      <td>None</td>\n",
       "      <td>support</td>\n",
       "    </tr>\n",
       "    <tr>\n",
       "      <th>4</th>\n",
       "      <td>nanoHUB</td>\n",
       "      <td>None</td>\n",
       "      <td>support</td>\n",
       "    </tr>\n",
       "  </tbody>\n",
       "</table>\n",
       "</div>"
      ],
      "text/plain": [
       "  firstname Middle_name__c lastname\n",
       "0   hubrepo           None  hubrepo\n",
       "1   hubrepo           None  hubrepo\n",
       "2   nanoHUB           None  support\n",
       "3   nanoHUB           None  support\n",
       "4   nanoHUB           None  support"
      ]
     },
     "metadata": {},
     "output_type": "display_data"
    },
    {
     "data": {
      "text/html": [
       "<div>\n",
       "<style scoped>\n",
       "    .dataframe tbody tr th:only-of-type {\n",
       "        vertical-align: middle;\n",
       "    }\n",
       "\n",
       "    .dataframe tbody tr th {\n",
       "        vertical-align: top;\n",
       "    }\n",
       "\n",
       "    .dataframe thead th {\n",
       "        text-align: right;\n",
       "    }\n",
       "</style>\n",
       "<table border=\"1\" class=\"dataframe\">\n",
       "  <thead>\n",
       "    <tr style=\"text-align: right;\">\n",
       "      <th></th>\n",
       "      <th>firstname</th>\n",
       "      <th>Middle_name__c</th>\n",
       "      <th>lastname</th>\n",
       "    </tr>\n",
       "  </thead>\n",
       "  <tbody>\n",
       "    <tr>\n",
       "      <th>1453077</th>\n",
       "      <td>Jack</td>\n",
       "      <td>Robert</td>\n",
       "      <td>Van Sambeek</td>\n",
       "    </tr>\n",
       "    <tr>\n",
       "      <th>1453078</th>\n",
       "      <td>Jack</td>\n",
       "      <td>Robert</td>\n",
       "      <td>Van Sambeek</td>\n",
       "    </tr>\n",
       "    <tr>\n",
       "      <th>1453079</th>\n",
       "      <td>Jack</td>\n",
       "      <td>Robert</td>\n",
       "      <td>Van Sambeek</td>\n",
       "    </tr>\n",
       "    <tr>\n",
       "      <th>1453080</th>\n",
       "      <td>Jack</td>\n",
       "      <td>Robert</td>\n",
       "      <td>Van Sambeek</td>\n",
       "    </tr>\n",
       "    <tr>\n",
       "      <th>1453081</th>\n",
       "      <td>‍손세준(학부학생/공과대학</td>\n",
       "      <td>None</td>\n",
       "      <td>신소재공학)</td>\n",
       "    </tr>\n",
       "  </tbody>\n",
       "</table>\n",
       "</div>"
      ],
      "text/plain": [
       "              firstname Middle_name__c     lastname\n",
       "1453077            Jack         Robert  Van Sambeek\n",
       "1453078            Jack         Robert  Van Sambeek\n",
       "1453079            Jack         Robert  Van Sambeek\n",
       "1453080            Jack         Robert  Van Sambeek\n",
       "1453081  ‍손세준(학부학생/공과대학           None       신소재공학)"
      ]
     },
     "metadata": {},
     "output_type": "display_data"
    }
   ],
   "source": [
    "df_sf = pd.DataFrame()\n",
    "\n",
    "df_sf['firstname']            = df['first_name']\n",
    "df_sf['Middle_name__c']                = df['middle_name']\n",
    "df_sf['lastname']                      = df['last_name']\n",
    "\n",
    "display(df_sf.head())\n",
    "display(df_sf.tail())"
   ]
  },
  {
   "cell_type": "code",
   "execution_count": 41,
   "metadata": {
    "execution": {
     "iopub.execute_input": "2021-12-01T04:05:54.190987Z",
     "iopub.status.busy": "2021-12-01T04:05:54.189633Z",
     "iopub.status.idle": "2021-12-01T04:05:54.666239Z",
     "shell.execute_reply": "2021-12-01T04:05:54.664210Z",
     "shell.execute_reply.started": "2021-12-01T04:05:54.190933Z"
    }
   },
   "outputs": [
    {
     "data": {
      "text/html": [
       "<div>\n",
       "<style scoped>\n",
       "    .dataframe tbody tr th:only-of-type {\n",
       "        vertical-align: middle;\n",
       "    }\n",
       "\n",
       "    .dataframe tbody tr th {\n",
       "        vertical-align: top;\n",
       "    }\n",
       "\n",
       "    .dataframe thead th {\n",
       "        text-align: right;\n",
       "    }\n",
       "</style>\n",
       "<table border=\"1\" class=\"dataframe\">\n",
       "  <thead>\n",
       "    <tr style=\"text-align: right;\">\n",
       "      <th></th>\n",
       "      <th>firstname</th>\n",
       "      <th>Middle_name__c</th>\n",
       "      <th>lastname</th>\n",
       "    </tr>\n",
       "  </thead>\n",
       "  <tbody>\n",
       "  </tbody>\n",
       "</table>\n",
       "</div>"
      ],
      "text/plain": [
       "Empty DataFrame\n",
       "Columns: [firstname, Middle_name__c, lastname]\n",
       "Index: []"
      ]
     },
     "metadata": {},
     "output_type": "display_data"
    }
   ],
   "source": [
    "display(df_sf[(df_sf['firstname'].isnull()) & (df_sf['Middle_name__c'].isnull()) & (df_sf['lastname'].isnull())])"
   ]
  },
  {
   "cell_type": "code",
   "execution_count": 42,
   "metadata": {
    "execution": {
     "iopub.execute_input": "2021-12-01T04:05:55.408810Z",
     "iopub.status.busy": "2021-12-01T04:05:55.408527Z",
     "iopub.status.idle": "2021-12-01T04:05:55.768719Z",
     "shell.execute_reply": "2021-12-01T04:05:55.768232Z",
     "shell.execute_reply.started": "2021-12-01T04:05:55.408785Z"
    },
    "tags": []
   },
   "outputs": [
    {
     "data": {
      "text/html": [
       "<div>\n",
       "<style scoped>\n",
       "    .dataframe tbody tr th:only-of-type {\n",
       "        vertical-align: middle;\n",
       "    }\n",
       "\n",
       "    .dataframe tbody tr th {\n",
       "        vertical-align: top;\n",
       "    }\n",
       "\n",
       "    .dataframe thead th {\n",
       "        text-align: right;\n",
       "    }\n",
       "</style>\n",
       "<table border=\"1\" class=\"dataframe\">\n",
       "  <thead>\n",
       "    <tr style=\"text-align: right;\">\n",
       "      <th></th>\n",
       "      <th>firstname</th>\n",
       "      <th>Middle_name__c</th>\n",
       "      <th>lastname</th>\n",
       "    </tr>\n",
       "  </thead>\n",
       "  <tbody>\n",
       "    <tr>\n",
       "      <th>60</th>\n",
       "      <td>Pedro</td>\n",
       "      <td>G.</td>\n",
       "      <td>Mireles</td>\n",
       "    </tr>\n",
       "    <tr>\n",
       "      <th>61</th>\n",
       "      <td>Pedro</td>\n",
       "      <td>G.</td>\n",
       "      <td>Mireles</td>\n",
       "    </tr>\n",
       "    <tr>\n",
       "      <th>62</th>\n",
       "      <td>Pedro</td>\n",
       "      <td>G.</td>\n",
       "      <td>Mireles</td>\n",
       "    </tr>\n",
       "    <tr>\n",
       "      <th>63</th>\n",
       "      <td>Khaled</td>\n",
       "      <td>M.</td>\n",
       "      <td>Dadesh</td>\n",
       "    </tr>\n",
       "    <tr>\n",
       "      <th>64</th>\n",
       "      <td>Khaled</td>\n",
       "      <td>M.</td>\n",
       "      <td>Dadesh</td>\n",
       "    </tr>\n",
       "  </tbody>\n",
       "</table>\n",
       "</div>"
      ],
      "text/plain": [
       "   firstname Middle_name__c lastname\n",
       "60     Pedro             G.  Mireles\n",
       "61     Pedro             G.  Mireles\n",
       "62     Pedro             G.  Mireles\n",
       "63    Khaled             M.   Dadesh\n",
       "64    Khaled             M.   Dadesh"
      ]
     },
     "metadata": {},
     "output_type": "display_data"
    }
   ],
   "source": [
    "df_sf = df_sf[(df_sf['firstname'].notnull()) & (df_sf['Middle_name__c'].notnull()) & (df_sf['lastname'].notnull())]\n",
    "display(df_sf.head())"
   ]
  },
  {
   "cell_type": "code",
   "execution_count": 45,
   "metadata": {
    "execution": {
     "iopub.execute_input": "2021-12-01T04:06:45.157328Z",
     "iopub.status.busy": "2021-12-01T04:06:45.157066Z",
     "iopub.status.idle": "2021-12-01T04:06:48.545819Z",
     "shell.execute_reply": "2021-12-01T04:06:48.544066Z",
     "shell.execute_reply.started": "2021-12-01T04:06:45.157297Z"
    },
    "tags": []
   },
   "outputs": [],
   "source": [
    "df_sf['nanoHUB_user_ID__c']            = df['user_id']\n",
    "df_sf['nanoHUB_username__c']           = df['username']\n",
    "df_sf['Email']                         = df['email'].fillna('').apply(lambda x: '' if '@invalid' in x else x).apply(lambda x: '' if '@' not in x else x)\n",
    "\n",
    "# for sendEmail: 0 = opt-out, 1 = receive email. For salesforce HasOptedOutOfEmail, it's exact opposite\n",
    "df_sf['HasOptedOutOfEmail']            = df['sendEmail'].apply(lambda x: 0 if x==1 else 1)\n",
    "df_sf['nanoHUB_account_BLOCKED__c']    = df['block'].fillna(0)\n",
    "\n",
    "# solidify time-related columns from datetime to string\n",
    "df_sf['nanoHUB_registration_date__c']  = df['registerDate'].dt.date.fillna('').astype('str')\n",
    "df_sf['nanoHUB_last_active_date__c']   = df['lastvisitDate'].dt.date.fillna('').astype('str')\n"
   ]
  },
  {
   "cell_type": "code",
   "execution_count": 46,
   "metadata": {
    "execution": {
     "iopub.execute_input": "2021-12-01T04:06:50.425750Z",
     "iopub.status.busy": "2021-12-01T04:06:50.425395Z",
     "iopub.status.idle": "2021-12-01T04:06:51.025994Z",
     "shell.execute_reply": "2021-12-01T04:06:51.024854Z",
     "shell.execute_reply.started": "2021-12-01T04:06:50.425642Z"
    }
   },
   "outputs": [
    {
     "data": {
      "text/html": [
       "<div>\n",
       "<style scoped>\n",
       "    .dataframe tbody tr th:only-of-type {\n",
       "        vertical-align: middle;\n",
       "    }\n",
       "\n",
       "    .dataframe tbody tr th {\n",
       "        vertical-align: top;\n",
       "    }\n",
       "\n",
       "    .dataframe thead th {\n",
       "        text-align: right;\n",
       "    }\n",
       "</style>\n",
       "<table border=\"1\" class=\"dataframe\">\n",
       "  <thead>\n",
       "    <tr style=\"text-align: right;\">\n",
       "      <th></th>\n",
       "      <th>firstname</th>\n",
       "      <th>Middle_name__c</th>\n",
       "      <th>lastname</th>\n",
       "      <th>nanoHUB_user_ID__c</th>\n",
       "      <th>nanoHUB_username__c</th>\n",
       "      <th>Email</th>\n",
       "      <th>HasOptedOutOfEmail</th>\n",
       "      <th>nanoHUB_account_BLOCKED__c</th>\n",
       "      <th>nanoHUB_registration_date__c</th>\n",
       "      <th>nanoHUB_last_active_date__c</th>\n",
       "      <th>Detailed_user_timeline_to_Tableau__c</th>\n",
       "      <th>nanoHUB_user_page__c</th>\n",
       "      <th>Organization__c</th>\n",
       "      <th>ORCID__c</th>\n",
       "      <th>Organization_email_derived__c</th>\n",
       "    </tr>\n",
       "  </thead>\n",
       "  <tbody>\n",
       "    <tr>\n",
       "      <th>1453076</th>\n",
       "      <td>Jack</td>\n",
       "      <td>Robert</td>\n",
       "      <td>Van Sambeek</td>\n",
       "      <td>347752</td>\n",
       "      <td>jsambeek</td>\n",
       "      <td>jsambeek@mit.edu</td>\n",
       "      <td>1</td>\n",
       "      <td>0</td>\n",
       "      <td>2021-12-01</td>\n",
       "      <td>2021-12-01</td>\n",
       "      <td>https://tableauqa.itap.purdue.edu/views/profil...</td>\n",
       "      <td>https://nanohub.org/members/347752</td>\n",
       "      <td>none</td>\n",
       "      <td></td>\n",
       "      <td>a0r5w00000V42kYAAR</td>\n",
       "    </tr>\n",
       "    <tr>\n",
       "      <th>1453077</th>\n",
       "      <td>Jack</td>\n",
       "      <td>Robert</td>\n",
       "      <td>Van Sambeek</td>\n",
       "      <td>347752</td>\n",
       "      <td>jsambeek</td>\n",
       "      <td>jsambeek@mit.edu</td>\n",
       "      <td>1</td>\n",
       "      <td>0</td>\n",
       "      <td>2021-12-01</td>\n",
       "      <td>2021-12-01</td>\n",
       "      <td>https://tableauqa.itap.purdue.edu/views/profil...</td>\n",
       "      <td>https://nanohub.org/members/347752</td>\n",
       "      <td>none</td>\n",
       "      <td></td>\n",
       "      <td>a0r5w00000V42kYAAR</td>\n",
       "    </tr>\n",
       "    <tr>\n",
       "      <th>1453078</th>\n",
       "      <td>Jack</td>\n",
       "      <td>Robert</td>\n",
       "      <td>Van Sambeek</td>\n",
       "      <td>347752</td>\n",
       "      <td>jsambeek</td>\n",
       "      <td>jsambeek@mit.edu</td>\n",
       "      <td>1</td>\n",
       "      <td>0</td>\n",
       "      <td>2021-12-01</td>\n",
       "      <td>2021-12-01</td>\n",
       "      <td>https://tableauqa.itap.purdue.edu/views/profil...</td>\n",
       "      <td>https://nanohub.org/members/347752</td>\n",
       "      <td>none</td>\n",
       "      <td></td>\n",
       "      <td>a0r5w00000V42kYAAR</td>\n",
       "    </tr>\n",
       "    <tr>\n",
       "      <th>1453079</th>\n",
       "      <td>Jack</td>\n",
       "      <td>Robert</td>\n",
       "      <td>Van Sambeek</td>\n",
       "      <td>347752</td>\n",
       "      <td>jsambeek</td>\n",
       "      <td>jsambeek@mit.edu</td>\n",
       "      <td>1</td>\n",
       "      <td>0</td>\n",
       "      <td>2021-12-01</td>\n",
       "      <td>2021-12-01</td>\n",
       "      <td>https://tableauqa.itap.purdue.edu/views/profil...</td>\n",
       "      <td>https://nanohub.org/members/347752</td>\n",
       "      <td>none</td>\n",
       "      <td></td>\n",
       "      <td>a0r5w00000V42kYAAR</td>\n",
       "    </tr>\n",
       "    <tr>\n",
       "      <th>1453080</th>\n",
       "      <td>Jack</td>\n",
       "      <td>Robert</td>\n",
       "      <td>Van Sambeek</td>\n",
       "      <td>347752</td>\n",
       "      <td>jsambeek</td>\n",
       "      <td>jsambeek@mit.edu</td>\n",
       "      <td>1</td>\n",
       "      <td>0</td>\n",
       "      <td>2021-12-01</td>\n",
       "      <td>2021-12-01</td>\n",
       "      <td>https://tableauqa.itap.purdue.edu/views/profil...</td>\n",
       "      <td>https://nanohub.org/members/347752</td>\n",
       "      <td>none</td>\n",
       "      <td></td>\n",
       "      <td>a0r5w00000V42kYAAR</td>\n",
       "    </tr>\n",
       "  </tbody>\n",
       "</table>\n",
       "</div>"
      ],
      "text/plain": [
       "        firstname Middle_name__c     lastname  nanoHUB_user_ID__c  \\\n",
       "1453076      Jack         Robert  Van Sambeek              347752   \n",
       "1453077      Jack         Robert  Van Sambeek              347752   \n",
       "1453078      Jack         Robert  Van Sambeek              347752   \n",
       "1453079      Jack         Robert  Van Sambeek              347752   \n",
       "1453080      Jack         Robert  Van Sambeek              347752   \n",
       "\n",
       "        nanoHUB_username__c             Email  HasOptedOutOfEmail  \\\n",
       "1453076            jsambeek  jsambeek@mit.edu                   1   \n",
       "1453077            jsambeek  jsambeek@mit.edu                   1   \n",
       "1453078            jsambeek  jsambeek@mit.edu                   1   \n",
       "1453079            jsambeek  jsambeek@mit.edu                   1   \n",
       "1453080            jsambeek  jsambeek@mit.edu                   1   \n",
       "\n",
       "         nanoHUB_account_BLOCKED__c nanoHUB_registration_date__c  \\\n",
       "1453076                           0                   2021-12-01   \n",
       "1453077                           0                   2021-12-01   \n",
       "1453078                           0                   2021-12-01   \n",
       "1453079                           0                   2021-12-01   \n",
       "1453080                           0                   2021-12-01   \n",
       "\n",
       "        nanoHUB_last_active_date__c  \\\n",
       "1453076                  2021-12-01   \n",
       "1453077                  2021-12-01   \n",
       "1453078                  2021-12-01   \n",
       "1453079                  2021-12-01   \n",
       "1453080                  2021-12-01   \n",
       "\n",
       "                      Detailed_user_timeline_to_Tableau__c  \\\n",
       "1453076  https://tableauqa.itap.purdue.edu/views/profil...   \n",
       "1453077  https://tableauqa.itap.purdue.edu/views/profil...   \n",
       "1453078  https://tableauqa.itap.purdue.edu/views/profil...   \n",
       "1453079  https://tableauqa.itap.purdue.edu/views/profil...   \n",
       "1453080  https://tableauqa.itap.purdue.edu/views/profil...   \n",
       "\n",
       "                       nanoHUB_user_page__c Organization__c ORCID__c  \\\n",
       "1453076  https://nanohub.org/members/347752            none            \n",
       "1453077  https://nanohub.org/members/347752            none            \n",
       "1453078  https://nanohub.org/members/347752            none            \n",
       "1453079  https://nanohub.org/members/347752            none            \n",
       "1453080  https://nanohub.org/members/347752            none            \n",
       "\n",
       "        Organization_email_derived__c  \n",
       "1453076            a0r5w00000V42kYAAR  \n",
       "1453077            a0r5w00000V42kYAAR  \n",
       "1453078            a0r5w00000V42kYAAR  \n",
       "1453079            a0r5w00000V42kYAAR  \n",
       "1453080            a0r5w00000V42kYAAR  "
      ]
     },
     "execution_count": 46,
     "metadata": {},
     "output_type": "execute_result"
    }
   ],
   "source": [
    "# Tableau detailed view\n",
    "df_sf['Detailed_user_timeline_to_Tableau__c'] = df_sf['Email'].apply(lambda x: 'https://tableauqa.itap.purdue.edu/views/profile/ProfileTimeline?Id%20Email='+x+'\\\n",
    "&:iframeSizedToWindow=true&:embed=y&:showAppBanner=false\\\n",
    "&:display_count=no&:showVizHome=no#6' if x != '' else '')\n",
    "\n",
    "# nanoHUB user profile\n",
    "df_sf['nanoHUB_user_page__c'] = df_sf['nanoHUB_user_ID__c'].apply(lambda x: 'https://nanohub.org/members/%d'%x if x != '' else '')\n",
    "df_sf['Organization__c'] = df['organization'].fillna('')\n",
    "\n",
    "df_sf['ORCID__c'] = df['orcid'].fillna('')\n",
    "\n",
    "# derived information\n",
    "df_sf['Organization_email_derived__c'] = df['Salesforce_org_ID'].fillna(' ')\n",
    "\n",
    "sf_original_fields = df_sf.columns\n",
    "\n",
    "# display\n",
    "df_sf.head()\n",
    "df_sf.tail()"
   ]
  },
  {
   "cell_type": "markdown",
   "metadata": {},
   "source": [
    "## To Salesforce Sales Cloud CRM"
   ]
  },
  {
   "cell_type": "code",
   "execution_count": 47,
   "metadata": {
    "collapsed": false,
    "execution": {
     "iopub.execute_input": "2021-12-01T04:07:00.407302Z",
     "iopub.status.busy": "2021-12-01T04:07:00.406925Z",
     "iopub.status.idle": "2021-12-01T04:07:00.413912Z",
     "shell.execute_reply": "2021-12-01T04:07:00.412935Z",
     "shell.execute_reply.started": "2021-12-01T04:07:00.407259Z"
    },
    "jupyter": {
     "outputs_hidden": false
    },
    "pycharm": {
     "name": "#%%\n"
    },
    "tags": []
   },
   "outputs": [],
   "source": [
    "\n",
    "db_s.object_id = object_id\n",
    "db_s.external_id = external_id"
   ]
  },
  {
   "cell_type": "code",
   "execution_count": 48,
   "metadata": {
    "collapsed": false,
    "execution": {
     "iopub.execute_input": "2021-12-01T04:07:01.556684Z",
     "iopub.status.busy": "2021-12-01T04:07:01.556233Z",
     "iopub.status.idle": "2021-12-01T04:08:31.068272Z",
     "shell.execute_reply": "2021-12-01T04:08:31.066641Z",
     "shell.execute_reply.started": "2021-12-01T04:07:01.556619Z"
    },
    "jupyter": {
     "outputs_hidden": false
    },
    "pycharm": {
     "name": "#%%\n"
    },
    "tags": []
   },
   "outputs": [
    {
     "name": "stdout",
     "output_type": "stream",
     "text": [
      "[Success] Bulk job creation successful. Job ID = 7505w00000bmd1HAAQ\n",
      "hello\n",
      "[Success] CSV upload successful. Job ID = 7505w00000bmd1HAAQ\n",
      "[Success] Closing job successful. Job ID = 7505w00000bmd1HAAQ\n"
     ]
    }
   ],
   "source": [
    "# send data to Salesforce\n",
    "db_s.send_data(df_sf)"
   ]
  },
  {
   "cell_type": "code",
   "execution_count": 49,
   "metadata": {
    "collapsed": false,
    "execution": {
     "iopub.execute_input": "2021-12-01T04:08:31.071549Z",
     "iopub.status.busy": "2021-12-01T04:08:31.070512Z",
     "iopub.status.idle": "2021-12-01T04:08:31.464355Z",
     "shell.execute_reply": "2021-12-01T04:08:31.462388Z",
     "shell.execute_reply.started": "2021-12-01T04:08:31.071508Z"
    },
    "jupyter": {
     "outputs_hidden": false
    },
    "pycharm": {
     "name": "#%%\n"
    },
    "tags": []
   },
   "outputs": [
    {
     "data": {
      "text/plain": [
       "{'id': '7505w00000bmd1HAAQ',\n",
       " 'operation': 'upsert',\n",
       " 'object': 'Contact',\n",
       " 'createdById': '0055w00000DM5bOAAT',\n",
       " 'createdDate': '2021-12-01T04:07:02.000+0000',\n",
       " 'systemModstamp': '2021-12-01T04:08:30.000+0000',\n",
       " 'state': 'UploadComplete',\n",
       " 'externalIdFieldName': 'nanoHUB_user_ID__c',\n",
       " 'concurrencyMode': 'Parallel',\n",
       " 'contentType': 'CSV',\n",
       " 'apiVersion': 47.0,\n",
       " 'jobType': 'V2Ingest',\n",
       " 'lineEnding': 'LF',\n",
       " 'columnDelimiter': 'COMMA',\n",
       " 'numberRecordsProcessed': 0,\n",
       " 'numberRecordsFailed': 0,\n",
       " 'retries': 0,\n",
       " 'totalProcessingTime': 0,\n",
       " 'apiActiveProcessingTime': 0,\n",
       " 'apexProcessingTime': 0}"
      ]
     },
     "execution_count": 49,
     "metadata": {},
     "output_type": "execute_result"
    }
   ],
   "source": [
    "# check status\n",
    "db_s.check_bulk_status()"
   ]
  },
  {
   "cell_type": "code",
   "execution_count": 50,
   "metadata": {
    "collapsed": false,
    "execution": {
     "iopub.execute_input": "2021-12-01T04:08:31.467899Z",
     "iopub.status.busy": "2021-12-01T04:08:31.465686Z",
     "iopub.status.idle": "2021-12-01T04:08:31.670256Z",
     "shell.execute_reply": "2021-12-01T04:08:31.669065Z",
     "shell.execute_reply.started": "2021-12-01T04:08:31.467776Z"
    },
    "jupyter": {
     "outputs_hidden": false
    },
    "pycharm": {
     "name": "#%%\n"
    },
    "tags": []
   },
   "outputs": [
    {
     "name": "stdout",
     "output_type": "stream",
     "text": [
      "''\n"
     ]
    }
   ],
   "source": [
    "# check status\n",
    "from pprint import pprint\n",
    "\n",
    "pprint(db_s.check_bulk_failed_results())"
   ]
  },
  {
   "cell_type": "code",
   "execution_count": null,
   "metadata": {
    "collapsed": false,
    "jupyter": {
     "outputs_hidden": false
    },
    "pycharm": {
     "name": "#%%\n"
    }
   },
   "outputs": [],
   "source": []
  },
  {
   "cell_type": "code",
   "execution_count": null,
   "metadata": {
    "collapsed": false,
    "jupyter": {
     "outputs_hidden": false
    },
    "pycharm": {
     "name": "#%%\n"
    }
   },
   "outputs": [],
   "source": []
  },
  {
   "cell_type": "code",
   "execution_count": null,
   "metadata": {
    "collapsed": false,
    "jupyter": {
     "outputs_hidden": false
    },
    "pycharm": {
     "name": "#%%\n"
    }
   },
   "outputs": [],
   "source": []
  }
 ],
 "metadata": {
  "celltoolbar": "Tags",
  "kernelspec": {
   "display_name": "Python 3 (ipykernel)",
   "language": "python",
   "name": "python3"
  },
  "language_info": {
   "codemirror_mode": {
    "name": "ipython",
    "version": 3
   },
   "file_extension": ".py",
   "mimetype": "text/x-python",
   "name": "python",
   "nbconvert_exporter": "python",
   "pygments_lexer": "ipython3",
   "version": "3.8.10"
  },
  "papermill": {
   "duration": 2655.425782,
   "end_time": "2021-01-21T07:14:47.508407",
   "environment_variables": {},
   "exception": null,
   "input_path": "/home/users/wang2506/nanohub_salesforce_integ/salesforce/task_user_basic_updates.ipynb",
   "output_path": "/home/users/wang2506/nanohub_salesforce_integ/salesforce/task_user_basic_updates.ipynb",
   "parameters": {},
   "start_time": "2021-01-21T06:30:32.082625",
   "version": "2.1.1"
  }
 },
 "nbformat": 4,
 "nbformat_minor": 4
}
