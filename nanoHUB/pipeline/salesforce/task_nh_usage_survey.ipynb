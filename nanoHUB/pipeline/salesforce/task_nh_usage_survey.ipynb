{
 "cells": [
  {
   "cell_type": "markdown",
   "metadata": {
    "papermill": {
     "duration": 0.013989,
     "end_time": "2021-01-21T08:30:03.545516",
     "exception": false,
     "start_time": "2021-01-21T08:30:03.531527",
     "status": "completed"
    },
    "tags": []
   },
   "source": [
    "# DB2-Salesforce populate survey results obtain from DB2"
   ]
  },
  {
   "cell_type": "code",
   "execution_count": 1,
   "metadata": {
    "execution": {
     "iopub.execute_input": "2021-01-21T08:30:03.569860Z",
     "iopub.status.busy": "2021-01-21T08:30:03.569197Z",
     "iopub.status.idle": "2021-01-21T08:30:03.571517Z",
     "shell.execute_reply": "2021-01-21T08:30:03.570856Z"
    },
    "papermill": {
     "duration": 0.01654,
     "end_time": "2021-01-21T08:30:03.571657",
     "exception": false,
     "start_time": "2021-01-21T08:30:03.555117",
     "status": "completed"
    },
    "tags": []
   },
   "outputs": [],
   "source": [
    "# Parameters\n",
    "# API settings\n",
    "api_url = '/services/data/v43.0/sobjects'\n",
    "external_id = 'nanoHUB_user_ID__c'\n",
    "object_id = 'Contact'\n",
    "\n",
    "# login parameters to be handled by Papermill\n",
    "from nanoHUB.application import Application\n",
    "\n",
    "application = Application.get_instance()\n",
    "nanohub_db = application.new_db_engine('nanohub')\n",
    "nanohub_metrics_db = application.new_db_engine('nanohub_metrics')\n",
    "wang159_myrmekes_db = application.new_db_engine('wang159_myrmekes')\n",
    "\n",
    "\n",
    "salesforce = application.new_salesforce_engine()\n",
    "db_s = salesforce"
   ]
  },
  {
   "cell_type": "code",
   "execution_count": 2,
   "metadata": {
    "execution": {
     "iopub.execute_input": "2021-01-21T08:30:03.601596Z",
     "iopub.status.busy": "2021-01-21T08:30:03.600990Z",
     "iopub.status.idle": "2021-01-21T08:30:03.875611Z",
     "shell.execute_reply": "2021-01-21T08:30:03.875097Z"
    },
    "papermill": {
     "duration": 0.293444,
     "end_time": "2021-01-21T08:30:03.875746",
     "exception": false,
     "start_time": "2021-01-21T08:30:03.582302",
     "status": "completed"
    },
    "tags": []
   },
   "outputs": [],
   "source": [
    "import pandas as pd\n",
    "import datetime"
   ]
  },
  {
   "cell_type": "markdown",
   "metadata": {
    "papermill": {
     "duration": 0.009039,
     "end_time": "2021-01-21T08:30:03.894552",
     "exception": false,
     "start_time": "2021-01-21T08:30:03.885513",
     "status": "completed"
    },
    "tags": []
   },
   "source": [
    "## Get the URL code from DB2\n"
   ]
  },
  {
   "cell_type": "code",
   "execution_count": 3,
   "metadata": {
    "execution": {
     "iopub.execute_input": "2021-01-21T08:30:03.917907Z",
     "iopub.status.busy": "2021-01-21T08:30:03.917336Z",
     "iopub.status.idle": "2021-01-21T08:30:05.980296Z",
     "shell.execute_reply": "2021-01-21T08:30:05.980726Z"
    },
    "papermill": {
     "duration": 2.07753,
     "end_time": "2021-01-21T08:30:05.980896",
     "exception": false,
     "start_time": "2021-01-21T08:30:03.903366",
     "status": "completed"
    },
    "tags": []
   },
   "outputs": [],
   "source": [
    "# page_id indicates the question\n",
    "survey_df = pd.read_sql_query(\"select user_id,input from jos_reply_replies;\",nanohub_db) #limit 5000"
   ]
  },
  {
   "cell_type": "code",
   "execution_count": 4,
   "metadata": {
    "execution": {
     "iopub.execute_input": "2021-01-21T08:30:06.012334Z",
     "iopub.status.busy": "2021-01-21T08:30:06.009232Z",
     "iopub.status.idle": "2021-01-21T08:30:06.019412Z",
     "shell.execute_reply": "2021-01-21T08:30:06.018817Z"
    },
    "papermill": {
     "duration": 0.029093,
     "end_time": "2021-01-21T08:30:06.019554",
     "exception": false,
     "start_time": "2021-01-21T08:30:05.990461",
     "status": "completed"
    },
    "tags": []
   },
   "outputs": [
    {
     "data": {
      "text/html": [
       "<div>\n",
       "<style scoped>\n",
       "    .dataframe tbody tr th:only-of-type {\n",
       "        vertical-align: middle;\n",
       "    }\n",
       "\n",
       "    .dataframe tbody tr th {\n",
       "        vertical-align: top;\n",
       "    }\n",
       "\n",
       "    .dataframe thead th {\n",
       "        text-align: right;\n",
       "    }\n",
       "</style>\n",
       "<table border=\"1\" class=\"dataframe\">\n",
       "  <thead>\n",
       "    <tr style=\"text-align: right;\">\n",
       "      <th></th>\n",
       "      <th>user_id</th>\n",
       "      <th>input</th>\n",
       "    </tr>\n",
       "  </thead>\n",
       "  <tbody>\n",
       "    <tr>\n",
       "      <th>0</th>\n",
       "      <td>170942</td>\n",
       "      <td>{\"text\":\"Test.\"}</td>\n",
       "    </tr>\n",
       "    <tr>\n",
       "      <th>1</th>\n",
       "      <td>206944</td>\n",
       "      <td>{\"text\":\"NCN staff test.\"}</td>\n",
       "    </tr>\n",
       "  </tbody>\n",
       "</table>\n",
       "</div>"
      ],
      "text/plain": [
       "   user_id                       input\n",
       "0   170942            {\"text\":\"Test.\"}\n",
       "1   206944  {\"text\":\"NCN staff test.\"}"
      ]
     },
     "metadata": {},
     "output_type": "display_data"
    }
   ],
   "source": [
    "display(survey_df.head(2))"
   ]
  },
  {
   "cell_type": "code",
   "execution_count": 5,
   "metadata": {},
   "outputs": [],
   "source": [
    "## some processing\n",
    "s_temp = [i.split('\":\"')[-1][:-2] for i in survey_df['input'].to_list()]\n",
    "\n",
    "survey_df['NH_survey_results__c'] = s_temp"
   ]
  },
  {
   "cell_type": "code",
   "execution_count": 6,
   "metadata": {},
   "outputs": [
    {
     "data": {
      "text/html": [
       "<div>\n",
       "<style scoped>\n",
       "    .dataframe tbody tr th:only-of-type {\n",
       "        vertical-align: middle;\n",
       "    }\n",
       "\n",
       "    .dataframe tbody tr th {\n",
       "        vertical-align: top;\n",
       "    }\n",
       "\n",
       "    .dataframe thead th {\n",
       "        text-align: right;\n",
       "    }\n",
       "</style>\n",
       "<table border=\"1\" class=\"dataframe\">\n",
       "  <thead>\n",
       "    <tr style=\"text-align: right;\">\n",
       "      <th></th>\n",
       "      <th>user_id</th>\n",
       "      <th>input</th>\n",
       "      <th>NH_survey_results__c</th>\n",
       "    </tr>\n",
       "  </thead>\n",
       "  <tbody>\n",
       "    <tr>\n",
       "      <th>0</th>\n",
       "      <td>170942</td>\n",
       "      <td>{\"text\":\"Test.\"}</td>\n",
       "      <td>Test.</td>\n",
       "    </tr>\n",
       "    <tr>\n",
       "      <th>1</th>\n",
       "      <td>206944</td>\n",
       "      <td>{\"text\":\"NCN staff test.\"}</td>\n",
       "      <td>NCN staff test.</td>\n",
       "    </tr>\n",
       "  </tbody>\n",
       "</table>\n",
       "</div>"
      ],
      "text/plain": [
       "   user_id                       input NH_survey_results__c\n",
       "0   170942            {\"text\":\"Test.\"}                Test.\n",
       "1   206944  {\"text\":\"NCN staff test.\"}      NCN staff test."
      ]
     },
     "metadata": {},
     "output_type": "display_data"
    },
    {
     "data": {
      "text/html": [
       "<div>\n",
       "<style scoped>\n",
       "    .dataframe tbody tr th:only-of-type {\n",
       "        vertical-align: middle;\n",
       "    }\n",
       "\n",
       "    .dataframe tbody tr th {\n",
       "        vertical-align: top;\n",
       "    }\n",
       "\n",
       "    .dataframe thead th {\n",
       "        text-align: right;\n",
       "    }\n",
       "</style>\n",
       "<table border=\"1\" class=\"dataframe\">\n",
       "  <thead>\n",
       "    <tr style=\"text-align: right;\">\n",
       "      <th></th>\n",
       "      <th>user_id</th>\n",
       "      <th>input</th>\n",
       "      <th>NH_survey_results__c</th>\n",
       "    </tr>\n",
       "  </thead>\n",
       "  <tbody>\n",
       "    <tr>\n",
       "      <th>83</th>\n",
       "      <td>164228</td>\n",
       "      <td>{\"text\":\"This is Tanya on 5\\/6\\/2021 submittin...</td>\n",
       "      <td>This is Tanya on 5\\/6\\/2021 submitting somethi...</td>\n",
       "    </tr>\n",
       "    <tr>\n",
       "      <th>84</th>\n",
       "      <td>47430</td>\n",
       "      <td>{\"text\":\"Testing.  This is Lynn\\u2019s test ac...</td>\n",
       "      <td>Testing.  This is Lynn\\u2019s test account.  Z...</td>\n",
       "    </tr>\n",
       "  </tbody>\n",
       "</table>\n",
       "</div>"
      ],
      "text/plain": [
       "    user_id                                              input  \\\n",
       "83   164228  {\"text\":\"This is Tanya on 5\\/6\\/2021 submittin...   \n",
       "84    47430  {\"text\":\"Testing.  This is Lynn\\u2019s test ac...   \n",
       "\n",
       "                                 NH_survey_results__c  \n",
       "83  This is Tanya on 5\\/6\\/2021 submitting somethi...  \n",
       "84  Testing.  This is Lynn\\u2019s test account.  Z...  "
      ]
     },
     "metadata": {},
     "output_type": "display_data"
    }
   ],
   "source": [
    "display(survey_df.head(2))\n",
    "display(survey_df.tail(2))"
   ]
  },
  {
   "cell_type": "code",
   "execution_count": 7,
   "metadata": {},
   "outputs": [],
   "source": [
    "survey_df = survey_df.drop(columns=['input'])"
   ]
  },
  {
   "cell_type": "code",
   "execution_count": 9,
   "metadata": {},
   "outputs": [
    {
     "data": {
      "text/html": [
       "<div>\n",
       "<style scoped>\n",
       "    .dataframe tbody tr th:only-of-type {\n",
       "        vertical-align: middle;\n",
       "    }\n",
       "\n",
       "    .dataframe tbody tr th {\n",
       "        vertical-align: top;\n",
       "    }\n",
       "\n",
       "    .dataframe thead th {\n",
       "        text-align: right;\n",
       "    }\n",
       "</style>\n",
       "<table border=\"1\" class=\"dataframe\">\n",
       "  <thead>\n",
       "    <tr style=\"text-align: right;\">\n",
       "      <th></th>\n",
       "      <th>user_id</th>\n",
       "      <th>NH_survey_results__c</th>\n",
       "    </tr>\n",
       "  </thead>\n",
       "  <tbody>\n",
       "    <tr>\n",
       "      <th>0</th>\n",
       "      <td>170942</td>\n",
       "      <td>Test.</td>\n",
       "    </tr>\n",
       "    <tr>\n",
       "      <th>1</th>\n",
       "      <td>206944</td>\n",
       "      <td>NCN staff test.</td>\n",
       "    </tr>\n",
       "    <tr>\n",
       "      <th>2</th>\n",
       "      <td>3482</td>\n",
       "      <td>This is a test - Gerhard Klimeck, \\r\\nHenry Bu...</td>\n",
       "    </tr>\n",
       "    <tr>\n",
       "      <th>3</th>\n",
       "      <td>3482</td>\n",
       "      <td>Well, let's see what happens when I type anoth...</td>\n",
       "    </tr>\n",
       "    <tr>\n",
       "      <th>4</th>\n",
       "      <td>279076</td>\n",
       "      <td>We (the group of Prof. James Glazier at Indian...</td>\n",
       "    </tr>\n",
       "  </tbody>\n",
       "</table>\n",
       "</div>"
      ],
      "text/plain": [
       "   user_id                               NH_survey_results__c\n",
       "0   170942                                              Test.\n",
       "1   206944                                    NCN staff test.\n",
       "2     3482  This is a test - Gerhard Klimeck, \\r\\nHenry Bu...\n",
       "3     3482  Well, let's see what happens when I type anoth...\n",
       "4   279076  We (the group of Prof. James Glazier at Indian..."
      ]
     },
     "metadata": {},
     "output_type": "display_data"
    }
   ],
   "source": [
    "display(survey_df.head(5))"
   ]
  },
  {
   "cell_type": "code",
   "execution_count": 10,
   "metadata": {},
   "outputs": [
    {
     "data": {
      "text/html": [
       "<div>\n",
       "<style scoped>\n",
       "    .dataframe tbody tr th:only-of-type {\n",
       "        vertical-align: middle;\n",
       "    }\n",
       "\n",
       "    .dataframe tbody tr th {\n",
       "        vertical-align: top;\n",
       "    }\n",
       "\n",
       "    .dataframe thead th {\n",
       "        text-align: right;\n",
       "    }\n",
       "</style>\n",
       "<table border=\"1\" class=\"dataframe\">\n",
       "  <thead>\n",
       "    <tr style=\"text-align: right;\">\n",
       "      <th></th>\n",
       "      <th>nanoHUB_user_ID__c</th>\n",
       "      <th>NH_survey_results__c</th>\n",
       "    </tr>\n",
       "  </thead>\n",
       "  <tbody>\n",
       "    <tr>\n",
       "      <th>0</th>\n",
       "      <td>170942</td>\n",
       "      <td>Test.</td>\n",
       "    </tr>\n",
       "    <tr>\n",
       "      <th>1</th>\n",
       "      <td>206944</td>\n",
       "      <td>NCN staff test.</td>\n",
       "    </tr>\n",
       "  </tbody>\n",
       "</table>\n",
       "</div>"
      ],
      "text/plain": [
       "   nanoHUB_user_ID__c NH_survey_results__c\n",
       "0              170942                Test.\n",
       "1              206944      NCN staff test."
      ]
     },
     "metadata": {},
     "output_type": "display_data"
    }
   ],
   "source": [
    "survey_df = survey_df.rename(columns={'user_id':'nanoHUB_user_ID__c'})\n",
    "display(survey_df.head(2))"
   ]
  },
  {
   "cell_type": "code",
   "execution_count": 11,
   "metadata": {},
   "outputs": [
    {
     "data": {
      "text/html": [
       "<div>\n",
       "<style scoped>\n",
       "    .dataframe tbody tr th:only-of-type {\n",
       "        vertical-align: middle;\n",
       "    }\n",
       "\n",
       "    .dataframe tbody tr th {\n",
       "        vertical-align: top;\n",
       "    }\n",
       "\n",
       "    .dataframe thead th {\n",
       "        text-align: right;\n",
       "    }\n",
       "</style>\n",
       "<table border=\"1\" class=\"dataframe\">\n",
       "  <thead>\n",
       "    <tr style=\"text-align: right;\">\n",
       "      <th></th>\n",
       "      <th>nanoHUB_user_ID__c</th>\n",
       "      <th>NH_survey_results__c</th>\n",
       "    </tr>\n",
       "  </thead>\n",
       "  <tbody>\n",
       "    <tr>\n",
       "      <th>2</th>\n",
       "      <td>3482</td>\n",
       "      <td>This is a test - Gerhard Klimeck, \\r\\nHenry Bu...</td>\n",
       "    </tr>\n",
       "    <tr>\n",
       "      <th>3</th>\n",
       "      <td>3482</td>\n",
       "      <td>Well, let's see what happens when I type anoth...</td>\n",
       "    </tr>\n",
       "    <tr>\n",
       "      <th>49</th>\n",
       "      <td>164228</td>\n",
       "      <td>Wow- what a lot of questions!  I don\\u2019t k ...</td>\n",
       "    </tr>\n",
       "    <tr>\n",
       "      <th>50</th>\n",
       "      <td>164228</td>\n",
       "      <td>Wow- what a lot of questions!  I don\\u2019t k ...</td>\n",
       "    </tr>\n",
       "    <tr>\n",
       "      <th>51</th>\n",
       "      <td>164228</td>\n",
       "      <td>Did you preview this or get any feedback befor...</td>\n",
       "    </tr>\n",
       "    <tr>\n",
       "      <th>83</th>\n",
       "      <td>164228</td>\n",
       "      <td>This is Tanya on 5\\/6\\/2021 submitting somethi...</td>\n",
       "    </tr>\n",
       "    <tr>\n",
       "      <th>1</th>\n",
       "      <td>206944</td>\n",
       "      <td>NCN staff test.</td>\n",
       "    </tr>\n",
       "    <tr>\n",
       "      <th>6</th>\n",
       "      <td>206944</td>\n",
       "      <td>Test 4\\/23</td>\n",
       "    </tr>\n",
       "  </tbody>\n",
       "</table>\n",
       "</div>"
      ],
      "text/plain": [
       "    nanoHUB_user_ID__c                               NH_survey_results__c\n",
       "2                 3482  This is a test - Gerhard Klimeck, \\r\\nHenry Bu...\n",
       "3                 3482  Well, let's see what happens when I type anoth...\n",
       "49              164228  Wow- what a lot of questions!  I don\\u2019t k ...\n",
       "50              164228  Wow- what a lot of questions!  I don\\u2019t k ...\n",
       "51              164228  Did you preview this or get any feedback befor...\n",
       "83              164228  This is Tanya on 5\\/6\\/2021 submitting somethi...\n",
       "1               206944                                    NCN staff test.\n",
       "6               206944                                         Test 4\\/23"
      ]
     },
     "metadata": {},
     "output_type": "display_data"
    }
   ],
   "source": [
    "## check for duplicates, if they exist, then merge\n",
    "duplicates = pd.concat(g for _, g in survey_df.groupby(\"nanoHUB_user_ID__c\") if len(g) > 1)\n",
    "\n",
    "display(duplicates)"
   ]
  },
  {
   "cell_type": "code",
   "execution_count": 12,
   "metadata": {},
   "outputs": [],
   "source": [
    "nh_ids = duplicates['nanoHUB_user_ID__c'].to_list()\n",
    "nh_results = duplicates['NH_survey_results__c'].to_list()"
   ]
  },
  {
   "cell_type": "code",
   "execution_count": 13,
   "metadata": {},
   "outputs": [],
   "source": [
    "from collections import Counter"
   ]
  },
  {
   "cell_type": "code",
   "execution_count": 14,
   "metadata": {},
   "outputs": [],
   "source": [
    "# build new array\n",
    "dict_nh_ids = Counter(nh_ids)\n",
    "\n",
    "nh_uniques_ids = [i for i in dict_nh_ids.keys()]\n",
    "nh_uniques_freq = [i for i in dict_nh_ids.values()]"
   ]
  },
  {
   "cell_type": "code",
   "execution_count": 15,
   "metadata": {},
   "outputs": [],
   "source": [
    "survey_res_uniques = []\n",
    "dups_list = duplicates['NH_survey_results__c'].to_list()\n",
    "\n",
    "counter = 0\n",
    "for i,j in enumerate(nh_uniques_freq):\n",
    "    temp_survey_res = []\n",
    "    for k in range(j):\n",
    "        temp_survey_res.append(dups_list[counter+k])\n",
    "        \n",
    "    survey_res_uniques.append('\\n '.join(temp_survey_res) )\n",
    "    \n",
    "    counter += j"
   ]
  },
  {
   "cell_type": "code",
   "execution_count": 18,
   "metadata": {},
   "outputs": [
    {
     "data": {
      "text/html": [
       "<div>\n",
       "<style scoped>\n",
       "    .dataframe tbody tr th:only-of-type {\n",
       "        vertical-align: middle;\n",
       "    }\n",
       "\n",
       "    .dataframe tbody tr th {\n",
       "        vertical-align: top;\n",
       "    }\n",
       "\n",
       "    .dataframe thead th {\n",
       "        text-align: right;\n",
       "    }\n",
       "</style>\n",
       "<table border=\"1\" class=\"dataframe\">\n",
       "  <thead>\n",
       "    <tr style=\"text-align: right;\">\n",
       "      <th></th>\n",
       "      <th>nanoHUB_user_ID__c</th>\n",
       "      <th>NH_survey_results__c</th>\n",
       "    </tr>\n",
       "  </thead>\n",
       "  <tbody>\n",
       "    <tr>\n",
       "      <th>0</th>\n",
       "      <td>3482</td>\n",
       "      <td>This is a test - Gerhard Klimeck, \\r\\nHenry Bu...</td>\n",
       "    </tr>\n",
       "    <tr>\n",
       "      <th>1</th>\n",
       "      <td>164228</td>\n",
       "      <td>Wow- what a lot of questions!  I don\\u2019t k ...</td>\n",
       "    </tr>\n",
       "    <tr>\n",
       "      <th>2</th>\n",
       "      <td>206944</td>\n",
       "      <td>NCN staff test.\\n Test 4\\/23</td>\n",
       "    </tr>\n",
       "  </tbody>\n",
       "</table>\n",
       "</div>"
      ],
      "text/plain": [
       "   nanoHUB_user_ID__c                               NH_survey_results__c\n",
       "0                3482  This is a test - Gerhard Klimeck, \\r\\nHenry Bu...\n",
       "1              164228  Wow- what a lot of questions!  I don\\u2019t k ...\n",
       "2              206944                       NCN staff test.\\n Test 4\\/23"
      ]
     },
     "metadata": {},
     "output_type": "display_data"
    }
   ],
   "source": [
    "dups_df = pd.DataFrame()\n",
    "dups_df['nanoHUB_user_ID__c'] = nh_uniques_ids\n",
    "dups_df['NH_survey_results__c'] = survey_res_uniques\n",
    "display(dups_df.head(5))"
   ]
  },
  {
   "cell_type": "code",
   "execution_count": null,
   "metadata": {},
   "outputs": [],
   "source": [
    "## send both survey_df and dups_df; dups after survey "
   ]
  },
  {
   "cell_type": "markdown",
   "metadata": {
    "papermill": {
     "duration": 0.010113,
     "end_time": "2021-01-21T08:30:06.172465",
     "exception": false,
     "start_time": "2021-01-21T08:30:06.162352",
     "status": "completed"
    },
    "tags": []
   },
   "source": [
    "## Send to SF"
   ]
  },
  {
   "cell_type": "code",
   "execution_count": 19,
   "metadata": {
    "execution": {
     "iopub.execute_input": "2021-01-21T08:30:06.197020Z",
     "iopub.status.busy": "2021-01-21T08:30:06.196492Z",
     "iopub.status.idle": "2021-01-21T08:30:06.566904Z",
     "shell.execute_reply": "2021-01-21T08:30:06.567578Z"
    },
    "papermill": {
     "duration": 0.385283,
     "end_time": "2021-01-21T08:30:06.567807",
     "exception": false,
     "start_time": "2021-01-21T08:30:06.182524",
     "status": "completed"
    },
    "tags": []
   },
   "outputs": [
    {
     "name": "stdout",
     "output_type": "stream",
     "text": [
      "Obtained Salesforce access token ...... True\n"
     ]
    }
   ],
   "source": []
  },
  {
   "cell_type": "code",
   "execution_count": 20,
   "metadata": {
    "execution": {
     "iopub.execute_input": "2021-01-21T08:30:06.596004Z",
     "iopub.status.busy": "2021-01-21T08:30:06.595445Z",
     "iopub.status.idle": "2021-01-21T08:30:08.930262Z",
     "shell.execute_reply": "2021-01-21T08:30:08.929718Z"
    },
    "papermill": {
     "duration": 2.350932,
     "end_time": "2021-01-21T08:30:08.930389",
     "exception": false,
     "start_time": "2021-01-21T08:30:06.579457",
     "status": "completed"
    },
    "tags": []
   },
   "outputs": [
    {
     "name": "stdout",
     "output_type": "stream",
     "text": [
      "[Success] Bulk job creation successful. Job ID = 7505w00000VryNfAAJ\n",
      "hello\n",
      "[Success] CSV upload successful. Job ID = 7505w00000VryNfAAJ\n",
      "[Success] Closing job successful. Job ID = 7505w00000VryNfAAJ\n"
     ]
    }
   ],
   "source": [
    "db_s.object_id = object_id\n",
    "db_s.external_id = external_id\n",
    "\n",
    "# send data to Salesforce\n",
    "db_s.send_data(survey_df)"
   ]
  },
  {
   "cell_type": "code",
   "execution_count": 28,
   "metadata": {
    "execution": {
     "iopub.execute_input": "2021-01-21T08:30:08.958605Z",
     "iopub.status.busy": "2021-01-21T08:30:08.958007Z",
     "iopub.status.idle": "2021-01-21T08:30:09.342362Z",
     "shell.execute_reply": "2021-01-21T08:30:09.341652Z"
    },
    "papermill": {
     "duration": 0.400081,
     "end_time": "2021-01-21T08:30:09.342531",
     "exception": false,
     "start_time": "2021-01-21T08:30:08.942450",
     "status": "completed"
    },
    "tags": []
   },
   "outputs": [
    {
     "data": {
      "text/plain": [
       "{'id': '7505w00000VryNfAAJ',\n",
       " 'operation': 'upsert',\n",
       " 'object': 'Contact',\n",
       " 'createdById': '0055w00000DM5bOAAT',\n",
       " 'createdDate': '2021-05-07T04:43:03.000+0000',\n",
       " 'systemModstamp': '2021-05-07T04:43:24.000+0000',\n",
       " 'state': 'JobComplete',\n",
       " 'externalIdFieldName': 'nanoHUB_user_ID__c',\n",
       " 'concurrencyMode': 'Parallel',\n",
       " 'contentType': 'CSV',\n",
       " 'apiVersion': 47.0,\n",
       " 'jobType': 'V2Ingest',\n",
       " 'lineEnding': 'LF',\n",
       " 'columnDelimiter': 'COMMA',\n",
       " 'numberRecordsProcessed': 85,\n",
       " 'numberRecordsFailed': 8,\n",
       " 'retries': 0,\n",
       " 'totalProcessingTime': 2091,\n",
       " 'apiActiveProcessingTime': 1934,\n",
       " 'apexProcessingTime': 542}"
      ]
     },
     "execution_count": 28,
     "metadata": {},
     "output_type": "execute_result"
    }
   ],
   "source": [
    "# check status\n",
    "db_s.check_bulk_status()"
   ]
  },
  {
   "cell_type": "code",
   "execution_count": 29,
   "metadata": {
    "execution": {
     "iopub.execute_input": "2021-01-21T08:30:09.373673Z",
     "iopub.status.busy": "2021-01-21T08:30:09.373033Z",
     "iopub.status.idle": "2021-01-21T08:30:09.562775Z",
     "shell.execute_reply": "2021-01-21T08:30:09.563407Z"
    },
    "papermill": {
     "duration": 0.208133,
     "end_time": "2021-01-21T08:30:09.563575",
     "exception": false,
     "start_time": "2021-01-21T08:30:09.355442",
     "status": "completed"
    },
    "tags": []
   },
   "outputs": [
    {
     "name": "stdout",
     "output_type": "stream",
     "text": [
      "('\"sf__Id\",\"sf__Error\",NH_survey_results__c,nanoHUB_user_ID__c\\n'\n",
      " '\"\",\"DUPLICATE_VALUE:Duplicate external id specified: '\n",
      " '206944.0:nanoHUB_user_ID__c --\",\"NCN staff test.\",\"206944.0\"\\n'\n",
      " '\"\",\"DUPLICATE_VALUE:Duplicate external id specified: '\n",
      " '3482.0:nanoHUB_user_ID__c --\",\"This is a test - Gerhard Klimeck, \\\\r\\\\nHenry '\n",
      " 'Buzz off.\\\\r\\\\nI do have a google scholar '\n",
      " 'page.\\\\r\\\\nhttps:\\\\/\\\\/scholar.google.com\\\\/citations?user=t_ziGRgAAAAJ&hl=en\\\\r\\\\nand '\n",
      " '\\\\r\\\\nhttps:\\\\/\\\\/www.linkedin.com\\\\/in\\\\/gerhardklimeck\\\\r\\\\n\\\\r\\\\nand\\\\r\\\\nhttps:\\\\/\\\\/www.researchgate.net\\\\/profile\\\\/Gerhard-Klimeck\\\\r\\\\n\\\\r\\\\nhttps:\\\\/\\\\/publons.com\\\\/researcher\\\\/2763812\\\\/gerhard-klimeck\\\\/\\\\r\\\\n\\\\r\\\\nhttps:\\\\/\\\\/orcid.org\\\\/0000-0001-7128-773X\\\\r\\\\n\\\\r\\\\nhttps:\\\\/\\\\/www.scopus.com\\\\/authid\\\\/detail.uri?authorId=56250324100\",\"3482.0\"\\n'\n",
      " '\"\",\"DUPLICATE_VALUE:Duplicate external id specified: '\n",
      " '3482.0:nanoHUB_user_ID__c --\",\"Well, let\\'s see what happens when I type '\n",
      " 'another message here... will the original message get lost?\",\"3482.0\"\\n'\n",
      " '\"\",\"DUPLICATE_VALUE:Duplicate external id specified: '\n",
      " '206944.0:nanoHUB_user_ID__c --\",\"Test 4\\\\/23\",\"206944.0\"\\n'\n",
      " '\"\",\"DUPLICATE_VALUE:Duplicate external id specified: '\n",
      " '164228.0:nanoHUB_user_ID__c --\",\"Wow- what a lot of questions!  I '\n",
      " 'don\\\\u2019t k ow where to start or what I really need to respond to.   Let '\n",
      " 'me  '\n",
      " 'see...\\\\r\\\\n\\\\r\\\\n\\\\r\\\\nYes\\\\r\\\\n\\\\r\\\\nNo\\\\r\\\\n\\\\r\\\\nYes\\\\r\\\\n\\\\r\\\\nNo\\\\r\\\\n- '\n",
      " 'yes- no-no -yes- yes\\\\r\\\\n\\\\r\\\\nI\\\\u2019m on my phone, this is a little '\n",
      " 'awkward.  Sorry!\",\"164228.0\"\\n'\n",
      " '\"\",\"DUPLICATE_VALUE:Duplicate external id specified: '\n",
      " '164228.0:nanoHUB_user_ID__c --\",\"Wow- what a lot of questions!  I '\n",
      " 'don\\\\u2019t k ow where to start or what I really need to respond to.   Let '\n",
      " 'me  '\n",
      " 'see...\\\\r\\\\n\\\\r\\\\n\\\\r\\\\nYes\\\\r\\\\n\\\\r\\\\nNo\\\\r\\\\n\\\\r\\\\nYes\\\\r\\\\n\\\\r\\\\nNo\\\\r\\\\n- '\n",
      " 'yes- no-no -yes- yes\\\\r\\\\n\\\\r\\\\nI\\\\u2019m on my phone, this is a little '\n",
      " 'awkward.  Sorry!\",\"164228.0\"\\n'\n",
      " '\"\",\"DUPLICATE_VALUE:Duplicate external id specified: '\n",
      " '164228.0:nanoHUB_user_ID__c --\",\"Did you preview this or get any feedback '\n",
      " 'before launching this?\",\"164228.0\"\\n'\n",
      " '\"\",\"DUPLICATE_VALUE:Duplicate external id specified: '\n",
      " '164228.0:nanoHUB_user_ID__c --\",\"This is Tanya on 5\\\\/6\\\\/2021 submitting '\n",
      " 'something to test the system, a 3rd time (or at least a 2nd '\n",
      " 'time).\\\\r\\\\n\\\\r\\\\n\",\"164228.0\"\\n')\n"
     ]
    }
   ],
   "source": [
    "# check status\n",
    "from pprint import pprint\n",
    "\n",
    "pprint(db_s.check_bulk_failed_results())"
   ]
  },
  {
   "cell_type": "code",
   "execution_count": 23,
   "metadata": {
    "papermill": {
     "duration": 0.011859,
     "end_time": "2021-01-21T08:30:09.587616",
     "exception": false,
     "start_time": "2021-01-21T08:30:09.575757",
     "status": "completed"
    },
    "tags": []
   },
   "outputs": [],
   "source": [
    "## second send for dups_df"
   ]
  },
  {
   "cell_type": "code",
   "execution_count": 24,
   "metadata": {},
   "outputs": [
    {
     "name": "stdout",
     "output_type": "stream",
     "text": [
      "Obtained Salesforce access token ...... True\n"
     ]
    }
   ],
   "source": [
    "# create DB2 to Salesforce API object\n",
    "db_2 = salesforce"
   ]
  },
  {
   "cell_type": "code",
   "execution_count": 32,
   "metadata": {},
   "outputs": [
    {
     "name": "stdout",
     "output_type": "stream",
     "text": [
      "[Success] Bulk job creation successful. Job ID = 7505w00000VryIHAAZ\n",
      "hello\n",
      "[Success] CSV upload successful. Job ID = 7505w00000VryIHAAZ\n",
      "[Success] Closing job successful. Job ID = 7505w00000VryIHAAZ\n"
     ]
    }
   ],
   "source": [
    "db_2.object_id = object_id\n",
    "db_2.external_id = external_id\n",
    "\n",
    "# send data to Salesforce\n",
    "db_2.send_data(dups_df)"
   ]
  },
  {
   "cell_type": "code",
   "execution_count": 39,
   "metadata": {},
   "outputs": [
    {
     "data": {
      "text/plain": [
       "{'id': '7505w00000VryIHAAZ',\n",
       " 'operation': 'upsert',\n",
       " 'object': 'Contact',\n",
       " 'createdById': '0055w00000DM5bOAAT',\n",
       " 'createdDate': '2021-05-07T04:44:08.000+0000',\n",
       " 'systemModstamp': '2021-05-07T04:44:19.000+0000',\n",
       " 'state': 'JobComplete',\n",
       " 'externalIdFieldName': 'nanoHUB_user_ID__c',\n",
       " 'concurrencyMode': 'Parallel',\n",
       " 'contentType': 'CSV',\n",
       " 'apiVersion': 47.0,\n",
       " 'jobType': 'V2Ingest',\n",
       " 'lineEnding': 'LF',\n",
       " 'columnDelimiter': 'COMMA',\n",
       " 'numberRecordsProcessed': 3,\n",
       " 'numberRecordsFailed': 0,\n",
       " 'retries': 0,\n",
       " 'totalProcessingTime': 596,\n",
       " 'apiActiveProcessingTime': 532,\n",
       " 'apexProcessingTime': 420}"
      ]
     },
     "execution_count": 39,
     "metadata": {},
     "output_type": "execute_result"
    }
   ],
   "source": [
    "# check status\n",
    "db_2.check_bulk_status()"
   ]
  },
  {
   "cell_type": "code",
   "execution_count": 40,
   "metadata": {},
   "outputs": [
    {
     "name": "stdout",
     "output_type": "stream",
     "text": [
      "'\"sf__Id\",\"sf__Error\",NH_survey_results__c,nanoHUB_user_ID__c\\n'\n"
     ]
    }
   ],
   "source": [
    "# check status\n",
    "pprint(db_2.check_bulk_failed_results())"
   ]
  },
  {
   "cell_type": "code",
   "execution_count": null,
   "metadata": {},
   "outputs": [],
   "source": []
  }
 ],
 "metadata": {
  "kernelspec": {
   "display_name": "Python 3",
   "language": "python",
   "name": "python3"
  },
  "language_info": {
   "codemirror_mode": {
    "name": "ipython",
    "version": 3
   },
   "file_extension": ".py",
   "mimetype": "text/x-python",
   "name": "python",
   "nbconvert_exporter": "python",
   "pygments_lexer": "ipython3",
   "version": "3.7.10"
  },
  "papermill": {
   "duration": 8.097029,
   "end_time": "2021-01-21T08:30:10.887628",
   "environment_variables": {},
   "exception": null,
   "input_path": "/home/users/wang2506/nanohub_salesforce_integ/salesforce/task_nh_survey_urls.ipynb",
   "output_path": "/home/users/wang2506/nanohub_salesforce_integ/salesforce/task_nh_survey_urls.ipynb",
   "parameters": {},
   "start_time": "2021-01-21T08:30:02.790599",
   "version": "2.1.1"
  }
 },
 "nbformat": 4,
 "nbformat_minor": 4
}