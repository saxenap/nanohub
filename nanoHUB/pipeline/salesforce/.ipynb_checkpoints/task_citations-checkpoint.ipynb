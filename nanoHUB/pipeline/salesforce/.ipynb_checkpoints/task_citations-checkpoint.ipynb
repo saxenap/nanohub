{
 "cells": [
  {
   "cell_type": "markdown",
   "metadata": {},
   "source": [
    "# DB2-Salesforce connector: Citation information updates"
   ]
  },
  {
   "cell_type": "code",
   "execution_count": 1,
   "metadata": {
    "tags": [
     "parameters"
    ]
   },
   "outputs": [],
   "source": [
    "# API settings\n",
    "api_url = '/services/data/v43.0/sobjects'\n",
    "external_id = 'Record_ID__c'\n",
    "object_id = 'nanoHUB_citations__c'\n",
    "\n",
    "# login parameters to be handled by Papermill\n",
    "# login credentials\n",
    "sql_login_params = {\"username\": \"wang2506_ro\", \"password\": \"fnVnwcCS7iT45EsA\"}\n",
    "sf_login_params = {\n",
    "    \"grant_type\": \"password\",\n",
    "    \"client_id\": \"3MVG95jctIhbyCppj0SNJ75IsZ1y8UPGZtSNF4j8FNVXz.De8Lu4jHm3rjRosAtsHy6qjHx3i4S_QbQzvBePG\",\n",
    "    \"client_secret\": \"D1623C6D3607D4FC8004B92C761DFB6C1F70CCD129C5501E357028DFA00F5764\",\n",
    "    \"username\": \"wang159-4j1v@force.com\",\n",
    "    \"password\": \"napoleon0eZ3PQpQqE3C3z4wWqEqKGhQ8\",\n",
    "} #6Cel800D5w000001jiQu8885w0000003U7mRvSj2dp1TvmgHngvv195i9eJLpzFNuMZBHkjibu07pj7Mk18p7MQxBEO318UtbzlBv7BpFQU"
   ]
  },
  {
   "cell_type": "code",
   "execution_count": 2,
   "metadata": {},
   "outputs": [
    {
     "ename": "NameError",
     "evalue": "name 'lib_dir' is not defined",
     "output_type": "error",
     "traceback": [
      "\u001b[1;31m---------------------------------------------------------------------------\u001b[0m",
      "\u001b[1;31mNameError\u001b[0m                                 Traceback (most recent call last)",
      "\u001b[1;32m<ipython-input-2-e6aad78855d4>\u001b[0m in \u001b[0;36m<module>\u001b[1;34m\u001b[0m\n\u001b[0;32m      1\u001b[0m \u001b[1;32mimport\u001b[0m \u001b[0msys\u001b[0m\u001b[1;33m\u001b[0m\u001b[1;33m\u001b[0m\u001b[0m\n\u001b[1;32m----> 2\u001b[1;33m \u001b[0msys\u001b[0m\u001b[1;33m.\u001b[0m\u001b[0mpath\u001b[0m\u001b[1;33m.\u001b[0m\u001b[0mappend\u001b[0m\u001b[1;33m(\u001b[0m\u001b[0mlib_dir\u001b[0m\u001b[1;33m)\u001b[0m\u001b[1;33m\u001b[0m\u001b[1;33m\u001b[0m\u001b[0m\n\u001b[0m\u001b[0;32m      3\u001b[0m \u001b[1;33m\u001b[0m\u001b[0m\n\u001b[0;32m      4\u001b[0m \u001b[1;32mimport\u001b[0m \u001b[0mpandas\u001b[0m \u001b[1;32mas\u001b[0m \u001b[0mpd\u001b[0m\u001b[1;33m\u001b[0m\u001b[1;33m\u001b[0m\u001b[0m\n\u001b[0;32m      5\u001b[0m \u001b[1;32mimport\u001b[0m \u001b[0mdatetime\u001b[0m\u001b[1;33m\u001b[0m\u001b[1;33m\u001b[0m\u001b[0m\n",
      "\u001b[1;31mNameError\u001b[0m: name 'lib_dir' is not defined"
     ]
    }
   ],
   "source": [
    "import sys\n",
    "#sys.path.append(lib_dir)\n",
    "    \n",
    "import pandas as pd\n",
    "import datetime"
   ]
  },
  {
   "cell_type": "markdown",
   "metadata": {},
   "source": [
    "## Obtain tool information from DB2 "
   ]
  },
  {
   "cell_type": "code",
   "execution_count": 5,
   "metadata": {
    "scrolled": true
   },
   "outputs": [
    {
     "name": "stdout",
     "output_type": "stream",
     "text": [
      "select *, c.id as c_id from jos_citations as c             left join jos_citations_types as t             on c.type = t.id             where uid=2143\n"
     ]
    }
   ],
   "source": [
    "# Basic tool information\n",
    "sql_query = \"select *, c.id as c_id from jos_citations as c \\\n",
    "            left join jos_citations_types as t \\\n",
    "            on c.type = t.id \\\n",
    "            where uid=2143\"\n",
    "\n",
    "# display\n",
    "print(sql_query)"
   ]
  },
  {
   "cell_type": "code",
   "execution_count": 6,
   "metadata": {},
   "outputs": [],
   "source": [
    "# connect with DB2\n",
    "import sqlalchemy as sql\n",
    "\n",
    "engine = sql.create_engine('mysql+pymysql://%s:%s@127.0.0.1/nanohub' \\\n",
    "                                               %(sql_login_params['username'], sql_login_params['password']))\n",
    "df = pd.read_sql_query(sql_query, engine)"
   ]
  },
  {
   "cell_type": "code",
   "execution_count": 7,
   "metadata": {},
   "outputs": [],
   "source": [
    "# convert and clean some columns, so we can, for example, sort values\n",
    "df['date_publish'] = pd.to_datetime(df['date_publish'], errors='coerce') \n",
    "df['created'] = pd.to_datetime(df['created'], errors='coerce') \n",
    "df['date_submit'] = pd.to_datetime(df['date_submit'], errors='coerce') \n",
    "df['date_accept'] = pd.to_datetime(df['date_accept'], errors='coerce') "
   ]
  },
  {
   "cell_type": "code",
   "execution_count": 8,
   "metadata": {},
   "outputs": [
    {
     "data": {
      "text/html": [
       "<div>\n",
       "<style scoped>\n",
       "    .dataframe tbody tr th:only-of-type {\n",
       "        vertical-align: middle;\n",
       "    }\n",
       "\n",
       "    .dataframe tbody tr th {\n",
       "        vertical-align: top;\n",
       "    }\n",
       "\n",
       "    .dataframe thead th {\n",
       "        text-align: right;\n",
       "    }\n",
       "</style>\n",
       "<table border=\"1\" class=\"dataframe\">\n",
       "  <thead>\n",
       "    <tr style=\"text-align: right;\">\n",
       "      <th></th>\n",
       "      <th>id</th>\n",
       "      <th>uid</th>\n",
       "      <th>affiliated</th>\n",
       "      <th>fundedby</th>\n",
       "      <th>created</th>\n",
       "      <th>address</th>\n",
       "      <th>author</th>\n",
       "      <th>booktitle</th>\n",
       "      <th>chapter</th>\n",
       "      <th>cite</th>\n",
       "      <th>...</th>\n",
       "      <th>custom1</th>\n",
       "      <th>custom2</th>\n",
       "      <th>custom3</th>\n",
       "      <th>custom4</th>\n",
       "      <th>id</th>\n",
       "      <th>type</th>\n",
       "      <th>type_title</th>\n",
       "      <th>type_desc</th>\n",
       "      <th>type_export</th>\n",
       "      <th>c_id</th>\n",
       "    </tr>\n",
       "  </thead>\n",
       "  <tbody>\n",
       "    <tr>\n",
       "      <th>0</th>\n",
       "      <td>1279</td>\n",
       "      <td>2143</td>\n",
       "      <td>1</td>\n",
       "      <td>-1</td>\n",
       "      <td>NaT</td>\n",
       "      <td></td>\n",
       "      <td>Daniel Kiracofe{{30551}};Arvind Raman{{10597}}</td>\n",
       "      <td></td>\n",
       "      <td></td>\n",
       "      <td>kiracofe2012nonlinear</td>\n",
       "      <td>...</td>\n",
       "      <td>None</td>\n",
       "      <td>None</td>\n",
       "      <td>None</td>\n",
       "      <td>None</td>\n",
       "      <td>2</td>\n",
       "      <td>journal</td>\n",
       "      <td>Journal</td>\n",
       "      <td>None</td>\n",
       "      <td>None</td>\n",
       "      <td>1279</td>\n",
       "    </tr>\n",
       "  </tbody>\n",
       "</table>\n",
       "<p>1 rows × 67 columns</p>\n",
       "</div>"
      ],
      "text/plain": [
       "     id   uid  affiliated  fundedby created address  \\\n",
       "0  1279  2143           1        -1     NaT           \n",
       "\n",
       "                                           author booktitle chapter  \\\n",
       "0  Daniel Kiracofe{{30551}};Arvind Raman{{10597}}                     \n",
       "\n",
       "                    cite  ... custom1 custom2 custom3 custom4 id     type  \\\n",
       "0  kiracofe2012nonlinear  ...    None    None    None    None  2  journal   \n",
       "\n",
       "  type_title type_desc type_export  c_id  \n",
       "0    Journal      None        None  1279  \n",
       "\n",
       "[1 rows x 67 columns]"
      ]
     },
     "metadata": {},
     "output_type": "display_data"
    },
    {
     "data": {
      "text/plain": [
       "'size=(2449, 67)'"
      ]
     },
     "metadata": {},
     "output_type": "display_data"
    }
   ],
   "source": [
    "# display\n",
    "display(df.head(1))\n",
    "display('size='+str(df.shape))"
   ]
  },
  {
   "cell_type": "markdown",
   "metadata": {},
   "source": [
    "## Match data with Salesforce format"
   ]
  },
  {
   "cell_type": "code",
   "execution_count": 31,
   "metadata": {},
   "outputs": [
    {
     "data": {
      "text/html": [
       "<div>\n",
       "<style scoped>\n",
       "    .dataframe tbody tr th:only-of-type {\n",
       "        vertical-align: middle;\n",
       "    }\n",
       "\n",
       "    .dataframe tbody tr th {\n",
       "        vertical-align: top;\n",
       "    }\n",
       "\n",
       "    .dataframe thead th {\n",
       "        text-align: right;\n",
       "    }\n",
       "</style>\n",
       "<table border=\"1\" class=\"dataframe\">\n",
       "  <thead>\n",
       "    <tr style=\"text-align: right;\">\n",
       "      <th></th>\n",
       "      <th>0</th>\n",
       "      <th>1</th>\n",
       "    </tr>\n",
       "  </thead>\n",
       "  <tbody>\n",
       "    <tr>\n",
       "      <th>Record_ID__c</th>\n",
       "      <td>1279</td>\n",
       "      <td>1535</td>\n",
       "    </tr>\n",
       "    <tr>\n",
       "      <th>URL__c</th>\n",
       "      <td>http://prb.aps.org/abstract/PRB/v86/i20/e205405</td>\n",
       "      <td>http://scholar.google.com/scholar?hl=en&amp;q=http...</td>\n",
       "    </tr>\n",
       "    <tr>\n",
       "      <th>NCN_Affiliated__c</th>\n",
       "      <td>1</td>\n",
       "      <td>0</td>\n",
       "    </tr>\n",
       "    <tr>\n",
       "      <th>Author_List__c</th>\n",
       "      <td>Daniel Kiracofe{{30551}};Arvind Raman{{10597}}</td>\n",
       "      <td>Amir Abedi</td>\n",
       "    </tr>\n",
       "    <tr>\n",
       "      <th>Journal__c</th>\n",
       "      <td>Physical Review B</td>\n",
       "      <td>Chalmers University of Technology</td>\n",
       "    </tr>\n",
       "    <tr>\n",
       "      <th>Year__c</th>\n",
       "      <td>2012</td>\n",
       "      <td>2013</td>\n",
       "    </tr>\n",
       "    <tr>\n",
       "      <th>Type__c</th>\n",
       "      <td>R,N</td>\n",
       "      <td>R</td>\n",
       "    </tr>\n",
       "    <tr>\n",
       "      <th>Notes__c</th>\n",
       "      <td>{{APS}}\\r\\n</td>\n",
       "      <td></td>\n",
       "    </tr>\n",
       "    <tr>\n",
       "      <th>Name</th>\n",
       "      <td>Nonlinear Dynamics Of The Atomic Force Microsc...</td>\n",
       "      <td>Characterization of plasma treated PET for loa...</td>\n",
       "    </tr>\n",
       "    <tr>\n",
       "      <th>Full_title__c</th>\n",
       "      <td>Nonlinear Dynamics Of The Atomic Force Microsc...</td>\n",
       "      <td>Characterization of plasma treated PET for loa...</td>\n",
       "    </tr>\n",
       "    <tr>\n",
       "      <th>Format__c</th>\n",
       "      <td>Journal</td>\n",
       "      <td>Masters Thesis</td>\n",
       "    </tr>\n",
       "  </tbody>\n",
       "</table>\n",
       "</div>"
      ],
      "text/plain": [
       "                                                                   0  \\\n",
       "Record_ID__c                                                    1279   \n",
       "URL__c               http://prb.aps.org/abstract/PRB/v86/i20/e205405   \n",
       "NCN_Affiliated__c                                                  1   \n",
       "Author_List__c        Daniel Kiracofe{{30551}};Arvind Raman{{10597}}   \n",
       "Journal__c                                         Physical Review B   \n",
       "Year__c                                                         2012   \n",
       "Type__c                                                          R,N   \n",
       "Notes__c                                                 {{APS}}\\r\\n   \n",
       "Name               Nonlinear Dynamics Of The Atomic Force Microsc...   \n",
       "Full_title__c      Nonlinear Dynamics Of The Atomic Force Microsc...   \n",
       "Format__c                                                    Journal   \n",
       "\n",
       "                                                                   1  \n",
       "Record_ID__c                                                    1535  \n",
       "URL__c             http://scholar.google.com/scholar?hl=en&q=http...  \n",
       "NCN_Affiliated__c                                                  0  \n",
       "Author_List__c                                            Amir Abedi  \n",
       "Journal__c                         Chalmers University of Technology  \n",
       "Year__c                                                         2013  \n",
       "Type__c                                                            R  \n",
       "Notes__c                                                              \n",
       "Name               Characterization of plasma treated PET for loa...  \n",
       "Full_title__c      Characterization of plasma treated PET for loa...  \n",
       "Format__c                                             Masters Thesis  "
      ]
     },
     "execution_count": 31,
     "metadata": {},
     "output_type": "execute_result"
    }
   ],
   "source": [
    "df_sf = pd.DataFrame()\n",
    "\n",
    "# Make sure NaN and NaT values are taken care of here\n",
    "\n",
    "df_sf['Record_ID__c']      = df['c_id']\n",
    "df_sf['URL__c']            = df['url']\n",
    "df_sf['NCN_Affiliated__c'] = df['affiliated'].apply(lambda x: 1 if x==1 else 0)\n",
    "df_sf['Author_List__c']    = df['author']\n",
    "df_sf['Journal__c']        = df['journal']\n",
    "df_sf['Year__c']           = df['year']\n",
    "df_sf['Type__c']           = df['ref_type']\n",
    "df_sf['Notes__c']          = df['notes']\n",
    "df_sf['Name']              = df['title'].apply(lambda x: x[:70])\n",
    "df_sf['Full_title__c']     = df['title']\n",
    "df_sf['Format__c']         = df['type_title']\n",
    "\n",
    "sf_original_fields = df_sf.columns\n",
    "\n",
    "# display\n",
    "df_sf.head(2).T"
   ]
  },
  {
   "cell_type": "markdown",
   "metadata": {},
   "source": [
    "## To Salesforce Sales Cloud CRM"
   ]
  },
  {
   "cell_type": "code",
   "execution_count": 33,
   "metadata": {},
   "outputs": [
    {
     "name": "stdout",
     "output_type": "stream",
     "text": [
      "Obtained Salesforce access token ...... True\n"
     ]
    }
   ],
   "source": [
    "from DB2SalesforceAPI import DB2SalesforceAPI\n",
    "\n",
    "# create DB2 to Salesforce API object\n",
    "db_s = DB2SalesforceAPI(sf_login_params)\n",
    "\n",
    "# specify Salesforce object ID and external ID\n",
    "db_s.object_id = object_id\n",
    "db_s.external_id = external_id"
   ]
  },
  {
   "cell_type": "code",
   "execution_count": 34,
   "metadata": {},
   "outputs": [
    {
     "name": "stdout",
     "output_type": "stream",
     "text": [
      "[Success] Bulk job creation successful. Job ID = 7505w00000M1rC7AAJ\n",
      "[Success] CSV upload successful. Job ID = 7505w00000M1rC7AAJ\n",
      "[Success] Closing job successful. Job ID = 7505w00000M1rC7AAJ\n"
     ]
    }
   ],
   "source": [
    "# send data to Salesforce\n",
    "db_s.send_data(df_sf)"
   ]
  },
  {
   "cell_type": "code",
   "execution_count": 36,
   "metadata": {},
   "outputs": [
    {
     "data": {
      "text/plain": [
       "{'id': '7505w00000M1rC7AAJ',\n",
       " 'operation': 'upsert',\n",
       " 'object': 'nanoHUB_citations__c',\n",
       " 'createdById': '0055w00000ArpYvAAJ',\n",
       " 'createdDate': '2020-05-15T00:42:41.000+0000',\n",
       " 'systemModstamp': '2020-05-15T00:43:05.000+0000',\n",
       " 'state': 'JobComplete',\n",
       " 'externalIdFieldName': 'Record_ID__c',\n",
       " 'concurrencyMode': 'Parallel',\n",
       " 'contentType': 'CSV',\n",
       " 'apiVersion': 47.0,\n",
       " 'jobType': 'V2Ingest',\n",
       " 'lineEnding': 'LF',\n",
       " 'columnDelimiter': 'COMMA',\n",
       " 'numberRecordsProcessed': 2449,\n",
       " 'numberRecordsFailed': 0,\n",
       " 'retries': 0,\n",
       " 'totalProcessingTime': 5114,\n",
       " 'apiActiveProcessingTime': 3418,\n",
       " 'apexProcessingTime': 0}"
      ]
     },
     "execution_count": 36,
     "metadata": {},
     "output_type": "execute_result"
    }
   ],
   "source": [
    "# check status\n",
    "db_s.check_bulk_status()"
   ]
  },
  {
   "cell_type": "code",
   "execution_count": 27,
   "metadata": {},
   "outputs": [
    {
     "name": "stdout",
     "output_type": "stream",
     "text": [
      "('\"sf__Id\",\"sf__Error\",Author_List__c,Format__c,Full_title__c,Journal__c,NCN_Affiliated__c,Name,Notes__c,Record_ID__c,Type__c,URL__c,Year__c\\n'\n",
      " '\"\",\"INVALID_FIELD:Failed to deserialize field at col 2. Due to, \\'-1\\' is '\n",
      " \"not valid for type xsd:boolean, should be '0', '1', 'true' or \"\n",
      " '\\'false\\':NCN_Affiliated__c --\",\"JCS Kadupitiya{{176202}};Geoffrey '\n",
      " 'Fox;Vikram Jadhao{{155430}}\",\"Report\",\"Machine Learning For Parameter '\n",
      " 'Auto-tuning In Molecular Dynamics Simulations: Efficient Dynamics Of Ions '\n",
      " 'Near Polarizable Nanoparticles\",\"Paper In Preparation\",\"-1\",\"Machine '\n",
      " 'Learning For Parameter Auto-tuning In Molecular Dynamics '\n",
      " 'Simul\",\"non-published paper at present '\n",
      " 'time.\",\"3133.0\",\"R\",\"https://scholar.google.com/scholar?hl=en&as_sdt=0%2C15&q=http%3A%2F%2Fdsc.soic.indiana.edu%2Fpublications%2FManuscript.IJHPCA.Nov2018.pdf&btnG=\",\"2018.0\"\\n'\n",
      " '\"\",\"INVALID_FIELD:Failed to deserialize field at col 2. Due to, \\'-1\\' is '\n",
      " \"not valid for type xsd:boolean, should be '0', '1', 'true' or \"\n",
      " '\\'false\\':NCN_Affiliated__c --\",\"Anibal Pacheco-Sanchez{{54184}};Martin '\n",
      " 'Claus{{11071}}\",\"Article\",\"Bias-Dependent Contact Resistance '\n",
      " 'Characterization Of Carbon Nanotube FETs\",\"IEEE Transactions On '\n",
      " 'Nanotechnology\",\"-1\",\"Bias-Dependent Contact Resistance Characterization Of '\n",
      " 'Carbon Nanotube '\n",
      " '\",\"{{IEEE}}\",\"3379.0\",\"R\",\"https://scholar.google.com/scholar?hl=en&as_sdt=0%2C15&q=https%3A%2F%2Fieeexplore.ieee.org%2Fabstract%2Fdocument%2F8933335%2F&btnG=\",\"2019.0\"\\n')\n"
     ]
    }
   ],
   "source": [
    "from pprint import pprint\n",
    "pprint(db_s.check_bulk_failed_results())"
   ]
  },
  {
   "cell_type": "code",
   "execution_count": null,
   "metadata": {},
   "outputs": [],
   "source": []
  }
 ],
 "metadata": {
  "celltoolbar": "Tags",
  "kernelspec": {
   "display_name": "Python 3",
   "language": "python",
   "name": "python3"
  },
  "language_info": {
   "codemirror_mode": {
    "name": "ipython",
    "version": 3
   },
   "file_extension": ".py",
   "mimetype": "text/x-python",
   "name": "python",
   "nbconvert_exporter": "python",
   "pygments_lexer": "ipython3",
   "version": "3.7.6"
  }
 },
 "nbformat": 4,
 "nbformat_minor": 4
}
