{
 "cells": [
  {
   "cell_type": "markdown",
   "metadata": {},
   "source": [
    "# DB2-Salesforce connector: Tool usage clusters information updates"
   ]
  },
  {
   "cell_type": "code",
   "execution_count": 1,
   "metadata": {
    "tags": [
     "parameters"
    ]
   },
   "outputs": [],
   "source": [
    "# API settings\n",
    "api_url = '/services/data/v43.0/sobjects'\n",
    "external_id = 'ID__c'\n",
    "object_id = 'tool_usage_cluster__c'\n",
    "\n",
    "# login parameters to be handled by Papermill\n",
    "sql_login_params = {\"username\": \"wang2506_ro\", \"password\": \"fnVnwcCS7iT45EsA\"}\n",
    "sf_login_params = {\n",
    "    \"grant_type\": \"password\",\n",
    "    \"client_id\": \"3MVG95jctIhbyCppj0SNJ75IsZ1y8UPGZtSNF4j8FNVXz.De8Lu4jHm3rjRosAtsHy6qjHx3i4S_QbQzvBePG\",\n",
    "    \"client_secret\": \"D1623C6D3607D4FC8004B92C761DFB6C1F70CCD129C5501E357028DFA00F5764\",\n",
    "    \"username\": \"wang159-4j1v@force.com\",\n",
    "    \"password\": \"napoleon0eZ3PQpQqE3C3z4wWqEqKGhQ8\",\n",
    "} #6Cel800D5w000001jiQu8885w0000003U7mRvSj2dp1TvmgHngvv195i9eJLpzFNuMZBHkjibu07pj7Mk18p7MQxBEO318UtbzlBv7BpFQU"
   ]
  },
  {
   "cell_type": "code",
   "execution_count": 127,
   "metadata": {},
   "outputs": [],
   "source": [
    "import sys\n",
    "sys.path.append(lib_dir)\n",
    "    \n",
    "import pandas as pd\n",
    "import datetime"
   ]
  },
  {
   "cell_type": "markdown",
   "metadata": {},
   "source": [
    "## Obtain cluster information from DB2 "
   ]
  },
  {
   "cell_type": "code",
   "execution_count": 128,
   "metadata": {},
   "outputs": [],
   "source": [
    "# connect with DB2\n",
    "import sqlalchemy as sql\n",
    "\n",
    "engine = sql.create_engine('mysql+pymysql://%s:%s@127.0.0.1/wang159_myrmekes' \\\n",
    "                                               %(sql_login_params['username'], sql_login_params['password']))"
   ]
  },
  {
   "cell_type": "code",
   "execution_count": 129,
   "metadata": {},
   "outputs": [
    {
     "data": {
      "text/html": [
       "<div>\n",
       "<style scoped>\n",
       "    .dataframe tbody tr th:only-of-type {\n",
       "        vertical-align: middle;\n",
       "    }\n",
       "\n",
       "    .dataframe tbody tr th {\n",
       "        vertical-align: top;\n",
       "    }\n",
       "\n",
       "    .dataframe thead th {\n",
       "        text-align: right;\n",
       "    }\n",
       "</style>\n",
       "<table border=\"1\" class=\"dataframe\">\n",
       "  <thead>\n",
       "    <tr style=\"text-align: right;\">\n",
       "      <th></th>\n",
       "      <th>index</th>\n",
       "      <th>class_id</th>\n",
       "      <th>start</th>\n",
       "      <th>end</th>\n",
       "      <th>lon</th>\n",
       "      <th>lat</th>\n",
       "      <th>size</th>\n",
       "    </tr>\n",
       "  </thead>\n",
       "  <tbody>\n",
       "    <tr>\n",
       "      <th>0</th>\n",
       "      <td>0</td>\n",
       "      <td>0</td>\n",
       "      <td>2013-09-13</td>\n",
       "      <td>2013-09-20</td>\n",
       "      <td>-86.907866</td>\n",
       "      <td>40.430972</td>\n",
       "      <td>93</td>\n",
       "    </tr>\n",
       "    <tr>\n",
       "      <th>1</th>\n",
       "      <td>1</td>\n",
       "      <td>1</td>\n",
       "      <td>2013-09-15</td>\n",
       "      <td>2013-09-20</td>\n",
       "      <td>-87.924079</td>\n",
       "      <td>42.019433</td>\n",
       "      <td>10</td>\n",
       "    </tr>\n",
       "  </tbody>\n",
       "</table>\n",
       "</div>"
      ],
      "text/plain": [
       "   index  class_id      start        end        lon        lat  size\n",
       "0      0         0 2013-09-13 2013-09-20 -86.907866  40.430972    93\n",
       "1      1         1 2013-09-15 2013-09-20 -87.924079  42.019433    10"
      ]
     },
     "metadata": {},
     "output_type": "display_data"
    }
   ],
   "source": [
    "class_info_df = pd.read_sql_query('select * from cluster_class_info', engine)\n",
    "#students_info_df = pd.read_sql_query('select * from cluster_students_info', engine)\n",
    "#classtool_info_df = pd.read_sql_query('select * from cluster_classtool_info', engine)\n",
    "\n",
    "# display\n",
    "display(class_info_df.head(2))\n",
    "#display(students_info_df.head(2))\n",
    "#display(classtool_info_df.head(2))"
   ]
  },
  {
   "cell_type": "code",
   "execution_count": 130,
   "metadata": {},
   "outputs": [],
   "source": [
    "# convert and clean some columns, so we can, for example, sort values\n",
    "class_info_df['start'] = pd.to_datetime(class_info_df['start'], errors='coerce') \n",
    "class_info_df['end'] = pd.to_datetime(class_info_df['end'], errors='coerce')"
   ]
  },
  {
   "cell_type": "code",
   "execution_count": 131,
   "metadata": {},
   "outputs": [],
   "source": [
    "# create geolocation Estimated_Location__c\n",
    "# {\"house\":{\"location__latitude__s\":34, \"location__longitude__s\":23}}\n",
    "\n",
    "class_info_df['Estimated_Location__c'] = class_info_df.apply(lambda x: {\"Estimated_Location__c\":\\\n",
    "                                                                 {\"location__latitude__s\":x.lat, \"location__longitude__s\":x.lon}}, axis=1)\n",
    "\n",
    "class_info_df['Map_Location__c'] = class_info_df\\\n",
    "      .apply(lambda x: 'https://www.google.com/maps/@?api=1&map_action=map&center=%f,%f&zoom=9'%(x.lat, x.lon), axis=1)"
   ]
  },
  {
   "cell_type": "code",
   "execution_count": 132,
   "metadata": {},
   "outputs": [
    {
     "data": {
      "text/html": [
       "<div>\n",
       "<style scoped>\n",
       "    .dataframe tbody tr th:only-of-type {\n",
       "        vertical-align: middle;\n",
       "    }\n",
       "\n",
       "    .dataframe tbody tr th {\n",
       "        vertical-align: top;\n",
       "    }\n",
       "\n",
       "    .dataframe thead th {\n",
       "        text-align: right;\n",
       "    }\n",
       "</style>\n",
       "<table border=\"1\" class=\"dataframe\">\n",
       "  <thead>\n",
       "    <tr style=\"text-align: right;\">\n",
       "      <th></th>\n",
       "      <th>index</th>\n",
       "      <th>class_id</th>\n",
       "      <th>start</th>\n",
       "      <th>end</th>\n",
       "      <th>lon</th>\n",
       "      <th>lat</th>\n",
       "      <th>size</th>\n",
       "      <th>Estimated_Location__c</th>\n",
       "      <th>Map_Location__c</th>\n",
       "    </tr>\n",
       "  </thead>\n",
       "  <tbody>\n",
       "    <tr>\n",
       "      <th>0</th>\n",
       "      <td>0</td>\n",
       "      <td>0</td>\n",
       "      <td>2013-09-13</td>\n",
       "      <td>2013-09-20</td>\n",
       "      <td>-86.907866</td>\n",
       "      <td>40.430972</td>\n",
       "      <td>93</td>\n",
       "      <td>{'Estimated_Location__c': {'location__latitude...</td>\n",
       "      <td>https://www.google.com/maps/@?api=1&amp;map_action...</td>\n",
       "    </tr>\n",
       "    <tr>\n",
       "      <th>1</th>\n",
       "      <td>1</td>\n",
       "      <td>1</td>\n",
       "      <td>2013-09-15</td>\n",
       "      <td>2013-09-20</td>\n",
       "      <td>-87.924079</td>\n",
       "      <td>42.019433</td>\n",
       "      <td>10</td>\n",
       "      <td>{'Estimated_Location__c': {'location__latitude...</td>\n",
       "      <td>https://www.google.com/maps/@?api=1&amp;map_action...</td>\n",
       "    </tr>\n",
       "  </tbody>\n",
       "</table>\n",
       "</div>"
      ],
      "text/plain": [
       "   index  class_id      start        end        lon        lat  size  \\\n",
       "0      0         0 2013-09-13 2013-09-20 -86.907866  40.430972    93   \n",
       "1      1         1 2013-09-15 2013-09-20 -87.924079  42.019433    10   \n",
       "\n",
       "                               Estimated_Location__c  \\\n",
       "0  {'Estimated_Location__c': {'location__latitude...   \n",
       "1  {'Estimated_Location__c': {'location__latitude...   \n",
       "\n",
       "                                     Map_Location__c  \n",
       "0  https://www.google.com/maps/@?api=1&map_action...  \n",
       "1  https://www.google.com/maps/@?api=1&map_action...  "
      ]
     },
     "execution_count": 132,
     "metadata": {},
     "output_type": "execute_result"
    }
   ],
   "source": [
    "class_info_df.head(2)"
   ]
  },
  {
   "cell_type": "markdown",
   "metadata": {},
   "source": [
    "## Match data with Salesforce format"
   ]
  },
  {
   "cell_type": "code",
   "execution_count": 133,
   "metadata": {},
   "outputs": [
    {
     "data": {
      "text/html": [
       "<div>\n",
       "<style scoped>\n",
       "    .dataframe tbody tr th:only-of-type {\n",
       "        vertical-align: middle;\n",
       "    }\n",
       "\n",
       "    .dataframe tbody tr th {\n",
       "        vertical-align: top;\n",
       "    }\n",
       "\n",
       "    .dataframe thead th {\n",
       "        text-align: right;\n",
       "    }\n",
       "</style>\n",
       "<table border=\"1\" class=\"dataframe\">\n",
       "  <thead>\n",
       "    <tr style=\"text-align: right;\">\n",
       "      <th></th>\n",
       "      <th>0</th>\n",
       "      <th>1</th>\n",
       "    </tr>\n",
       "  </thead>\n",
       "  <tbody>\n",
       "    <tr>\n",
       "      <th>ID__c</th>\n",
       "      <td>0</td>\n",
       "      <td>1</td>\n",
       "    </tr>\n",
       "    <tr>\n",
       "      <th>Starting_Date__c</th>\n",
       "      <td>2013-09-13 00:00:00</td>\n",
       "      <td>2013-09-15 00:00:00</td>\n",
       "    </tr>\n",
       "    <tr>\n",
       "      <th>Ending_Date__c</th>\n",
       "      <td>2013-09-20 00:00:00</td>\n",
       "      <td>2013-09-20 00:00:00</td>\n",
       "    </tr>\n",
       "    <tr>\n",
       "      <th>Map_Location__c</th>\n",
       "      <td>https://www.google.com/maps/@?api=1&amp;map_action...</td>\n",
       "      <td>https://www.google.com/maps/@?api=1&amp;map_action...</td>\n",
       "    </tr>\n",
       "    <tr>\n",
       "      <th>Estimated_Location__latitude__s</th>\n",
       "      <td>40.431</td>\n",
       "      <td>42.0194</td>\n",
       "    </tr>\n",
       "    <tr>\n",
       "      <th>Estimated_Location__longitude__s</th>\n",
       "      <td>-86.9079</td>\n",
       "      <td>-87.9241</td>\n",
       "    </tr>\n",
       "  </tbody>\n",
       "</table>\n",
       "</div>"
      ],
      "text/plain": [
       "                                                                                  0  \\\n",
       "ID__c                                                                             0   \n",
       "Starting_Date__c                                                2013-09-13 00:00:00   \n",
       "Ending_Date__c                                                  2013-09-20 00:00:00   \n",
       "Map_Location__c                   https://www.google.com/maps/@?api=1&map_action...   \n",
       "Estimated_Location__latitude__s                                              40.431   \n",
       "Estimated_Location__longitude__s                                           -86.9079   \n",
       "\n",
       "                                                                                  1  \n",
       "ID__c                                                                             1  \n",
       "Starting_Date__c                                                2013-09-15 00:00:00  \n",
       "Ending_Date__c                                                  2013-09-20 00:00:00  \n",
       "Map_Location__c                   https://www.google.com/maps/@?api=1&map_action...  \n",
       "Estimated_Location__latitude__s                                             42.0194  \n",
       "Estimated_Location__longitude__s                                           -87.9241  "
      ]
     },
     "execution_count": 133,
     "metadata": {},
     "output_type": "execute_result"
    }
   ],
   "source": [
    "df_sf = pd.DataFrame()\n",
    "\n",
    "# Make sure NaN and NaT values are taken care of here\n",
    "\n",
    "df_sf['ID__c']                             = class_info_df['class_id']\n",
    "df_sf['Starting_Date__c']          = class_info_df['start']\n",
    "df_sf['Ending_Date__c']            = class_info_df['end']\n",
    "df_sf['Map_Location__c'] = class_info_df['Map_Location__c']\n",
    "df_sf['Estimated_Location__latitude__s'] = class_info_df['lat']\n",
    "df_sf['Estimated_Location__longitude__s'] = class_info_df['lon']\n",
    "\n",
    "sf_original_fields = df_sf.columns\n",
    "\n",
    "# display\n",
    "df_sf.head(2).T"
   ]
  },
  {
   "cell_type": "markdown",
   "metadata": {},
   "source": [
    "## To Salesforce Sales Cloud CRM"
   ]
  },
  {
   "cell_type": "code",
   "execution_count": 134,
   "metadata": {},
   "outputs": [
    {
     "name": "stdout",
     "output_type": "stream",
     "text": [
      "Obtained Salesforce access token ...... True\n"
     ]
    }
   ],
   "source": [
    "from DB2SalesforceAPI import DB2SalesforceAPI\n",
    "\n",
    "# create DB2 to Salesforce API object\n",
    "db_s = DB2SalesforceAPI(sf_login_params)\n",
    "\n",
    "# specify Salesforce object ID and external ID\n",
    "db_s.object_id = object_id\n",
    "db_s.external_id = external_id"
   ]
  },
  {
   "cell_type": "code",
   "execution_count": 135,
   "metadata": {},
   "outputs": [
    {
     "name": "stdout",
     "output_type": "stream",
     "text": [
      "[Success] Bulk job creation successful. Job ID = 7505w00000Lzx6eAAB\n",
      "[Success] CSV upload successful. Job ID = 7505w00000Lzx6eAAB\n",
      "[Success] Closing job successful. Job ID = 7505w00000Lzx6eAAB\n"
     ]
    }
   ],
   "source": [
    "# send data to Salesforce\n",
    "db_s.send_data(df_sf)"
   ]
  },
  {
   "cell_type": "code",
   "execution_count": 138,
   "metadata": {},
   "outputs": [
    {
     "data": {
      "text/plain": [
       "{'id': '7505w00000Lzx6eAAB', 'operation': 'upsert', 'object': 'tool_usage_cluster__c', 'createdById': '0055w00000ArpYvAAJ', 'createdDate': '2020-05-07T16:19:29.000+0000', 'systemModstamp': '2020-05-07T16:19:29.000+0000', 'state': 'InProgress', 'externalIdFieldName': 'ID__c', 'concurrencyMode': 'Parallel', 'contentType': 'CSV', 'apiVersion': 47.0, 'jobType': 'V2Ingest', 'lineEnding': 'LF', 'columnDelimiter': 'COMMA', 'numberRecordsProcessed': 3534, 'numberRecordsFailed': 0, 'retries': 0, 'totalProcessingTime': 7200, 'apiActiveProcessingTime': 5615, 'apexProcessingTime': 0}"
      ]
     },
     "execution_count": 138,
     "metadata": {},
     "output_type": "execute_result"
    }
   ],
   "source": [
    "# check status\n",
    "db_s.check_bulk_status()"
   ]
  },
  {
   "cell_type": "code",
   "execution_count": 137,
   "metadata": {},
   "outputs": [
    {
     "name": "stdout",
     "output_type": "stream",
     "text": [
      "''\n"
     ]
    }
   ],
   "source": [
    "from pprint import pprint\n",
    "pprint(db_s.check_bulk_failed_results())"
   ]
  },
  {
   "cell_type": "code",
   "execution_count": null,
   "metadata": {},
   "outputs": [],
   "source": []
  },
  {
   "cell_type": "code",
   "execution_count": null,
   "metadata": {},
   "outputs": [],
   "source": []
  },
  {
   "cell_type": "code",
   "execution_count": null,
   "metadata": {},
   "outputs": [],
   "source": []
  }
 ],
 "metadata": {
  "celltoolbar": "Tags",
  "kernelspec": {
   "display_name": "Python 3",
   "language": "python",
   "name": "python3"
  },
  "language_info": {
   "codemirror_mode": {
    "name": "ipython",
    "version": 3
   },
   "file_extension": ".py",
   "mimetype": "text/x-python",
   "name": "python",
   "nbconvert_exporter": "python",
   "pygments_lexer": "ipython3",
   "version": "3.7.6"
  }
 },
 "nbformat": 4,
 "nbformat_minor": 4
}
