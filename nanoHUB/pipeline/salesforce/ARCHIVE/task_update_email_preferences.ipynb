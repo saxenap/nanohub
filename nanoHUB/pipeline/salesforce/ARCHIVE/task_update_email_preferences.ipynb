{
 "cells": [
  {
   "cell_type": "code",
   "execution_count": null,
   "outputs": [],
   "source": [
    "# Parameters\n",
    "# API settings\n",
    "api_url = '/services/data/v43.0/sobjects'\n",
    "external_id = 'nanoHUB_user_ID__c'\n",
    "object_id = 'Contact'\n",
    "\n",
    "# login parameters to be handled by Papermill\n",
    "from nanoHUB.application import Application\n",
    "\n",
    "application = Application.get_instance()\n",
    "nanohub_db = application.new_db_engine('nanohub')\n",
    "\n",
    "salesforce = application.new_salesforce_engine()\n",
    "db_s = salesforce"
   ],
   "metadata": {
    "collapsed": false,
    "pycharm": {
     "name": "#%%\n"
    }
   }
  },
  {
   "cell_type": "markdown",
   "metadata": {
    "papermill": {
     "duration": 0.010075,
     "end_time": "2021-01-21T08:30:03.895209",
     "exception": false,
     "start_time": "2021-01-21T08:30:03.885134",
     "status": "completed"
    },
    "pycharm": {
     "name": "#%% md\n"
    },
    "tags": []
   },
   "source": [
    "## Get the latest email opt in/out data from DB2\n"
   ]
  },
  {
   "cell_type": "code",
   "execution_count": 3,
   "metadata": {
    "execution": {
     "iopub.execute_input": "2022-06-29T19:11:48.217278Z",
     "iopub.status.busy": "2022-06-29T19:11:48.216171Z",
     "iopub.status.idle": "2022-06-29T19:26:51.251597Z",
     "shell.execute_reply": "2022-06-29T19:26:51.247532Z",
     "shell.execute_reply.started": "2022-06-29T19:11:48.217227Z"
    },
    "papermill": {
     "duration": 10.638574,
     "end_time": "2021-01-21T08:30:14.543957",
     "exception": false,
     "start_time": "2021-01-21T08:30:03.905383",
     "status": "completed"
    },
    "pycharm": {
     "name": "#%%\n"
    },
    "tags": []
   },
   "outputs": [
    {
     "ename": "KeyboardInterrupt",
     "evalue": "",
     "output_type": "error",
     "traceback": [
      "\u001B[0;31m---------------------------------------------------------------------------\u001B[0m",
      "\u001B[0;31mKeyboardInterrupt\u001B[0m                         Traceback (most recent call last)",
      "Input \u001B[0;32mIn [3]\u001B[0m, in \u001B[0;36m<cell line: 5>\u001B[0;34m()\u001B[0m\n\u001B[1;32m      1\u001B[0m \u001B[38;5;66;03m# get new preferences for users\u001B[39;00m\n\u001B[1;32m      2\u001B[0m pcomms \u001B[38;5;241m=\u001B[39m pd\u001B[38;5;241m.\u001B[39mread_sql_query(\u001B[38;5;124m\"\u001B[39m\u001B[38;5;124mselect id, user_id, profile_key, profile_value from jos_user_profiles \u001B[39m\u001B[38;5;130;01m\\\u001B[39;00m\n\u001B[1;32m      3\u001B[0m \u001B[38;5;124mwhere profile_key in (\u001B[39m\u001B[38;5;124m'\u001B[39m\u001B[38;5;124mpersonalizedcommunication\u001B[39m\u001B[38;5;124m'\u001B[39m\u001B[38;5;124m);\u001B[39m\u001B[38;5;124m\"\u001B[39m,nanohub_db)\u001B[38;5;66;03m#order by rand() limit 50000;\",engine) #and modifiedDate >= '2019-08-08'\u001B[39;00m\n\u001B[0;32m----> 5\u001B[0m up_news \u001B[38;5;241m=\u001B[39m \u001B[43mpd\u001B[49m\u001B[38;5;241;43m.\u001B[39;49m\u001B[43mread_sql_query\u001B[49m\u001B[43m(\u001B[49m\u001B[38;5;124;43m\"\u001B[39;49m\u001B[38;5;124;43mselect id, user_id, profile_key, profile_value from jos_user_profiles \u001B[39;49m\u001B[38;5;130;43;01m\\\u001B[39;49;00m\n\u001B[1;32m      6\u001B[0m \u001B[38;5;124;43mwhere profile_key in (\u001B[39;49m\u001B[38;5;124;43m'\u001B[39;49m\u001B[38;5;124;43mupdates_news\u001B[39;49m\u001B[38;5;124;43m'\u001B[39;49m\u001B[38;5;124;43m);\u001B[39;49m\u001B[38;5;124;43m\"\u001B[39;49m\u001B[43m,\u001B[49m\u001B[43mnanohub_db\u001B[49m\u001B[43m)\u001B[49m\n",
      "File \u001B[0;32m~/venv/lib/python3.8/site-packages/pandas/io/sql.py:399\u001B[0m, in \u001B[0;36mread_sql_query\u001B[0;34m(sql, con, index_col, coerce_float, params, parse_dates, chunksize, dtype)\u001B[0m\n\u001B[1;32m    341\u001B[0m \u001B[38;5;124;03m\"\"\"\u001B[39;00m\n\u001B[1;32m    342\u001B[0m \u001B[38;5;124;03mRead SQL query into a DataFrame.\u001B[39;00m\n\u001B[1;32m    343\u001B[0m \n\u001B[0;32m   (...)\u001B[0m\n\u001B[1;32m    396\u001B[0m \u001B[38;5;124;03mparameter will be converted to UTC.\u001B[39;00m\n\u001B[1;32m    397\u001B[0m \u001B[38;5;124;03m\"\"\"\u001B[39;00m\n\u001B[1;32m    398\u001B[0m pandas_sql \u001B[38;5;241m=\u001B[39m pandasSQL_builder(con)\n\u001B[0;32m--> 399\u001B[0m \u001B[38;5;28;01mreturn\u001B[39;00m \u001B[43mpandas_sql\u001B[49m\u001B[38;5;241;43m.\u001B[39;49m\u001B[43mread_query\u001B[49m\u001B[43m(\u001B[49m\n\u001B[1;32m    400\u001B[0m \u001B[43m    \u001B[49m\u001B[43msql\u001B[49m\u001B[43m,\u001B[49m\n\u001B[1;32m    401\u001B[0m \u001B[43m    \u001B[49m\u001B[43mindex_col\u001B[49m\u001B[38;5;241;43m=\u001B[39;49m\u001B[43mindex_col\u001B[49m\u001B[43m,\u001B[49m\n\u001B[1;32m    402\u001B[0m \u001B[43m    \u001B[49m\u001B[43mparams\u001B[49m\u001B[38;5;241;43m=\u001B[39;49m\u001B[43mparams\u001B[49m\u001B[43m,\u001B[49m\n\u001B[1;32m    403\u001B[0m \u001B[43m    \u001B[49m\u001B[43mcoerce_float\u001B[49m\u001B[38;5;241;43m=\u001B[39;49m\u001B[43mcoerce_float\u001B[49m\u001B[43m,\u001B[49m\n\u001B[1;32m    404\u001B[0m \u001B[43m    \u001B[49m\u001B[43mparse_dates\u001B[49m\u001B[38;5;241;43m=\u001B[39;49m\u001B[43mparse_dates\u001B[49m\u001B[43m,\u001B[49m\n\u001B[1;32m    405\u001B[0m \u001B[43m    \u001B[49m\u001B[43mchunksize\u001B[49m\u001B[38;5;241;43m=\u001B[39;49m\u001B[43mchunksize\u001B[49m\u001B[43m,\u001B[49m\n\u001B[1;32m    406\u001B[0m \u001B[43m    \u001B[49m\u001B[43mdtype\u001B[49m\u001B[38;5;241;43m=\u001B[39;49m\u001B[43mdtype\u001B[49m\u001B[43m,\u001B[49m\n\u001B[1;32m    407\u001B[0m \u001B[43m\u001B[49m\u001B[43m)\u001B[49m\n",
      "File \u001B[0;32m~/venv/lib/python3.8/site-packages/pandas/io/sql.py:1557\u001B[0m, in \u001B[0;36mSQLDatabase.read_query\u001B[0;34m(self, sql, index_col, coerce_float, parse_dates, params, chunksize, dtype)\u001B[0m\n\u001B[1;32m   1509\u001B[0m \u001B[38;5;124;03m\"\"\"\u001B[39;00m\n\u001B[1;32m   1510\u001B[0m \u001B[38;5;124;03mRead SQL query into a DataFrame.\u001B[39;00m\n\u001B[1;32m   1511\u001B[0m \n\u001B[0;32m   (...)\u001B[0m\n\u001B[1;32m   1553\u001B[0m \n\u001B[1;32m   1554\u001B[0m \u001B[38;5;124;03m\"\"\"\u001B[39;00m\n\u001B[1;32m   1555\u001B[0m args \u001B[38;5;241m=\u001B[39m _convert_params(sql, params)\n\u001B[0;32m-> 1557\u001B[0m result \u001B[38;5;241m=\u001B[39m \u001B[38;5;28;43mself\u001B[39;49m\u001B[38;5;241;43m.\u001B[39;49m\u001B[43mexecute\u001B[49m\u001B[43m(\u001B[49m\u001B[38;5;241;43m*\u001B[39;49m\u001B[43margs\u001B[49m\u001B[43m)\u001B[49m\n\u001B[1;32m   1558\u001B[0m columns \u001B[38;5;241m=\u001B[39m result\u001B[38;5;241m.\u001B[39mkeys()\n\u001B[1;32m   1560\u001B[0m \u001B[38;5;28;01mif\u001B[39;00m chunksize \u001B[38;5;129;01mis\u001B[39;00m \u001B[38;5;129;01mnot\u001B[39;00m \u001B[38;5;28;01mNone\u001B[39;00m:\n",
      "File \u001B[0;32m~/venv/lib/python3.8/site-packages/pandas/io/sql.py:1402\u001B[0m, in \u001B[0;36mSQLDatabase.execute\u001B[0;34m(self, *args, **kwargs)\u001B[0m\n\u001B[1;32m   1400\u001B[0m \u001B[38;5;28;01mdef\u001B[39;00m \u001B[38;5;21mexecute\u001B[39m(\u001B[38;5;28mself\u001B[39m, \u001B[38;5;241m*\u001B[39margs, \u001B[38;5;241m*\u001B[39m\u001B[38;5;241m*\u001B[39mkwargs):\n\u001B[1;32m   1401\u001B[0m     \u001B[38;5;124;03m\"\"\"Simple passthrough to SQLAlchemy connectable\"\"\"\u001B[39;00m\n\u001B[0;32m-> 1402\u001B[0m     \u001B[38;5;28;01mreturn\u001B[39;00m \u001B[38;5;28;43mself\u001B[39;49m\u001B[38;5;241;43m.\u001B[39;49m\u001B[43mconnectable\u001B[49m\u001B[38;5;241;43m.\u001B[39;49m\u001B[43mexecution_options\u001B[49m\u001B[43m(\u001B[49m\u001B[43m)\u001B[49m\u001B[38;5;241;43m.\u001B[39;49m\u001B[43mexecute\u001B[49m\u001B[43m(\u001B[49m\u001B[38;5;241;43m*\u001B[39;49m\u001B[43margs\u001B[49m\u001B[43m,\u001B[49m\u001B[43m \u001B[49m\u001B[38;5;241;43m*\u001B[39;49m\u001B[38;5;241;43m*\u001B[39;49m\u001B[43mkwargs\u001B[49m\u001B[43m)\u001B[49m\n",
      "File \u001B[0;32m<string>:2\u001B[0m, in \u001B[0;36mexecute\u001B[0;34m(self, statement, *multiparams, **params)\u001B[0m\n",
      "File \u001B[0;32m~/venv/lib/python3.8/site-packages/sqlalchemy/util/deprecations.py:402\u001B[0m, in \u001B[0;36m_decorate_with_warning.<locals>.warned\u001B[0;34m(fn, *args, **kwargs)\u001B[0m\n\u001B[1;32m    400\u001B[0m \u001B[38;5;28;01mif\u001B[39;00m \u001B[38;5;129;01mnot\u001B[39;00m skip_warning:\n\u001B[1;32m    401\u001B[0m     _warn_with_version(message, version, wtype, stacklevel\u001B[38;5;241m=\u001B[39m\u001B[38;5;241m3\u001B[39m)\n\u001B[0;32m--> 402\u001B[0m \u001B[38;5;28;01mreturn\u001B[39;00m \u001B[43mfn\u001B[49m\u001B[43m(\u001B[49m\u001B[38;5;241;43m*\u001B[39;49m\u001B[43margs\u001B[49m\u001B[43m,\u001B[49m\u001B[43m \u001B[49m\u001B[38;5;241;43m*\u001B[39;49m\u001B[38;5;241;43m*\u001B[39;49m\u001B[43mkwargs\u001B[49m\u001B[43m)\u001B[49m\n",
      "File \u001B[0;32m~/venv/lib/python3.8/site-packages/sqlalchemy/engine/base.py:3176\u001B[0m, in \u001B[0;36mEngine.execute\u001B[0;34m(self, statement, *multiparams, **params)\u001B[0m\n\u001B[1;32m   3158\u001B[0m \u001B[38;5;124;03m\"\"\"Executes the given construct and returns a\u001B[39;00m\n\u001B[1;32m   3159\u001B[0m \u001B[38;5;124;03m:class:`_engine.CursorResult`.\u001B[39;00m\n\u001B[1;32m   3160\u001B[0m \n\u001B[0;32m   (...)\u001B[0m\n\u001B[1;32m   3173\u001B[0m \n\u001B[1;32m   3174\u001B[0m \u001B[38;5;124;03m\"\"\"\u001B[39;00m\n\u001B[1;32m   3175\u001B[0m connection \u001B[38;5;241m=\u001B[39m \u001B[38;5;28mself\u001B[39m\u001B[38;5;241m.\u001B[39mconnect(close_with_result\u001B[38;5;241m=\u001B[39m\u001B[38;5;28;01mTrue\u001B[39;00m)\n\u001B[0;32m-> 3176\u001B[0m \u001B[38;5;28;01mreturn\u001B[39;00m \u001B[43mconnection\u001B[49m\u001B[38;5;241;43m.\u001B[39;49m\u001B[43mexecute\u001B[49m\u001B[43m(\u001B[49m\u001B[43mstatement\u001B[49m\u001B[43m,\u001B[49m\u001B[43m \u001B[49m\u001B[38;5;241;43m*\u001B[39;49m\u001B[43mmultiparams\u001B[49m\u001B[43m,\u001B[49m\u001B[43m \u001B[49m\u001B[38;5;241;43m*\u001B[39;49m\u001B[38;5;241;43m*\u001B[39;49m\u001B[43mparams\u001B[49m\u001B[43m)\u001B[49m\n",
      "File \u001B[0;32m~/venv/lib/python3.8/site-packages/sqlalchemy/engine/base.py:1291\u001B[0m, in \u001B[0;36mConnection.execute\u001B[0;34m(self, statement, *multiparams, **params)\u001B[0m\n\u001B[1;32m   1282\u001B[0m \u001B[38;5;28;01mif\u001B[39;00m \u001B[38;5;28misinstance\u001B[39m(statement, util\u001B[38;5;241m.\u001B[39mstring_types):\n\u001B[1;32m   1283\u001B[0m     util\u001B[38;5;241m.\u001B[39mwarn_deprecated_20(\n\u001B[1;32m   1284\u001B[0m         \u001B[38;5;124m\"\u001B[39m\u001B[38;5;124mPassing a string to Connection.execute() is \u001B[39m\u001B[38;5;124m\"\u001B[39m\n\u001B[1;32m   1285\u001B[0m         \u001B[38;5;124m\"\u001B[39m\u001B[38;5;124mdeprecated and will be removed in version 2.0.  Use the \u001B[39m\u001B[38;5;124m\"\u001B[39m\n\u001B[0;32m   (...)\u001B[0m\n\u001B[1;32m   1288\u001B[0m         \u001B[38;5;124m\"\u001B[39m\u001B[38;5;124mdriver-level SQL string.\u001B[39m\u001B[38;5;124m\"\u001B[39m\n\u001B[1;32m   1289\u001B[0m     )\n\u001B[0;32m-> 1291\u001B[0m     \u001B[38;5;28;01mreturn\u001B[39;00m \u001B[38;5;28;43mself\u001B[39;49m\u001B[38;5;241;43m.\u001B[39;49m\u001B[43m_exec_driver_sql\u001B[49m\u001B[43m(\u001B[49m\n\u001B[1;32m   1292\u001B[0m \u001B[43m        \u001B[49m\u001B[43mstatement\u001B[49m\u001B[43m,\u001B[49m\n\u001B[1;32m   1293\u001B[0m \u001B[43m        \u001B[49m\u001B[43mmultiparams\u001B[49m\u001B[43m,\u001B[49m\n\u001B[1;32m   1294\u001B[0m \u001B[43m        \u001B[49m\u001B[43mparams\u001B[49m\u001B[43m,\u001B[49m\n\u001B[1;32m   1295\u001B[0m \u001B[43m        \u001B[49m\u001B[43m_EMPTY_EXECUTION_OPTS\u001B[49m\u001B[43m,\u001B[49m\n\u001B[1;32m   1296\u001B[0m \u001B[43m        \u001B[49m\u001B[43mfuture\u001B[49m\u001B[38;5;241;43m=\u001B[39;49m\u001B[38;5;28;43;01mFalse\u001B[39;49;00m\u001B[43m,\u001B[49m\n\u001B[1;32m   1297\u001B[0m \u001B[43m    \u001B[49m\u001B[43m)\u001B[49m\n\u001B[1;32m   1299\u001B[0m \u001B[38;5;28;01mtry\u001B[39;00m:\n\u001B[1;32m   1300\u001B[0m     meth \u001B[38;5;241m=\u001B[39m statement\u001B[38;5;241m.\u001B[39m_execute_on_connection\n",
      "File \u001B[0;32m~/venv/lib/python3.8/site-packages/sqlalchemy/engine/base.py:1595\u001B[0m, in \u001B[0;36mConnection._exec_driver_sql\u001B[0;34m(self, statement, multiparams, params, execution_options, future)\u001B[0m\n\u001B[1;32m   1585\u001B[0m         (\n\u001B[1;32m   1586\u001B[0m             statement,\n\u001B[1;32m   1587\u001B[0m             distilled_params,\n\u001B[0;32m   (...)\u001B[0m\n\u001B[1;32m   1591\u001B[0m             statement, distilled_parameters, execution_options\n\u001B[1;32m   1592\u001B[0m         )\n\u001B[1;32m   1594\u001B[0m dialect \u001B[38;5;241m=\u001B[39m \u001B[38;5;28mself\u001B[39m\u001B[38;5;241m.\u001B[39mdialect\n\u001B[0;32m-> 1595\u001B[0m ret \u001B[38;5;241m=\u001B[39m \u001B[38;5;28;43mself\u001B[39;49m\u001B[38;5;241;43m.\u001B[39;49m\u001B[43m_execute_context\u001B[49m\u001B[43m(\u001B[49m\n\u001B[1;32m   1596\u001B[0m \u001B[43m    \u001B[49m\u001B[43mdialect\u001B[49m\u001B[43m,\u001B[49m\n\u001B[1;32m   1597\u001B[0m \u001B[43m    \u001B[49m\u001B[43mdialect\u001B[49m\u001B[38;5;241;43m.\u001B[39;49m\u001B[43mexecution_ctx_cls\u001B[49m\u001B[38;5;241;43m.\u001B[39;49m\u001B[43m_init_statement\u001B[49m\u001B[43m,\u001B[49m\n\u001B[1;32m   1598\u001B[0m \u001B[43m    \u001B[49m\u001B[43mstatement\u001B[49m\u001B[43m,\u001B[49m\n\u001B[1;32m   1599\u001B[0m \u001B[43m    \u001B[49m\u001B[43mdistilled_parameters\u001B[49m\u001B[43m,\u001B[49m\n\u001B[1;32m   1600\u001B[0m \u001B[43m    \u001B[49m\u001B[43mexecution_options\u001B[49m\u001B[43m,\u001B[49m\n\u001B[1;32m   1601\u001B[0m \u001B[43m    \u001B[49m\u001B[43mstatement\u001B[49m\u001B[43m,\u001B[49m\n\u001B[1;32m   1602\u001B[0m \u001B[43m    \u001B[49m\u001B[43mdistilled_parameters\u001B[49m\u001B[43m,\u001B[49m\n\u001B[1;32m   1603\u001B[0m \u001B[43m\u001B[49m\u001B[43m)\u001B[49m\n\u001B[1;32m   1605\u001B[0m \u001B[38;5;28;01mif\u001B[39;00m \u001B[38;5;129;01mnot\u001B[39;00m future:\n\u001B[1;32m   1606\u001B[0m     \u001B[38;5;28;01mif\u001B[39;00m \u001B[38;5;28mself\u001B[39m\u001B[38;5;241m.\u001B[39m_has_events \u001B[38;5;129;01mor\u001B[39;00m \u001B[38;5;28mself\u001B[39m\u001B[38;5;241m.\u001B[39mengine\u001B[38;5;241m.\u001B[39m_has_events:\n",
      "File \u001B[0;32m~/venv/lib/python3.8/site-packages/sqlalchemy/engine/base.py:1862\u001B[0m, in \u001B[0;36mConnection._execute_context\u001B[0;34m(self, dialect, constructor, statement, parameters, execution_options, *args, **kw)\u001B[0m\n\u001B[1;32m   1859\u001B[0m             branched\u001B[38;5;241m.\u001B[39mclose()\n\u001B[1;32m   1861\u001B[0m \u001B[38;5;28;01mexcept\u001B[39;00m \u001B[38;5;167;01mBaseException\u001B[39;00m \u001B[38;5;28;01mas\u001B[39;00m e:\n\u001B[0;32m-> 1862\u001B[0m     \u001B[38;5;28;43mself\u001B[39;49m\u001B[38;5;241;43m.\u001B[39;49m\u001B[43m_handle_dbapi_exception\u001B[49m\u001B[43m(\u001B[49m\n\u001B[1;32m   1863\u001B[0m \u001B[43m        \u001B[49m\u001B[43me\u001B[49m\u001B[43m,\u001B[49m\u001B[43m \u001B[49m\u001B[43mstatement\u001B[49m\u001B[43m,\u001B[49m\u001B[43m \u001B[49m\u001B[43mparameters\u001B[49m\u001B[43m,\u001B[49m\u001B[43m \u001B[49m\u001B[43mcursor\u001B[49m\u001B[43m,\u001B[49m\u001B[43m \u001B[49m\u001B[43mcontext\u001B[49m\n\u001B[1;32m   1864\u001B[0m \u001B[43m    \u001B[49m\u001B[43m)\u001B[49m\n\u001B[1;32m   1866\u001B[0m \u001B[38;5;28;01mreturn\u001B[39;00m result\n",
      "File \u001B[0;32m~/venv/lib/python3.8/site-packages/sqlalchemy/engine/base.py:2047\u001B[0m, in \u001B[0;36mConnection._handle_dbapi_exception\u001B[0;34m(self, e, statement, parameters, cursor, context)\u001B[0m\n\u001B[1;32m   2043\u001B[0m         util\u001B[38;5;241m.\u001B[39mraise_(\n\u001B[1;32m   2044\u001B[0m             sqlalchemy_exception, with_traceback\u001B[38;5;241m=\u001B[39mexc_info[\u001B[38;5;241m2\u001B[39m], from_\u001B[38;5;241m=\u001B[39me\n\u001B[1;32m   2045\u001B[0m         )\n\u001B[1;32m   2046\u001B[0m     \u001B[38;5;28;01melse\u001B[39;00m:\n\u001B[0;32m-> 2047\u001B[0m         \u001B[43mutil\u001B[49m\u001B[38;5;241;43m.\u001B[39;49m\u001B[43mraise_\u001B[49m\u001B[43m(\u001B[49m\u001B[43mexc_info\u001B[49m\u001B[43m[\u001B[49m\u001B[38;5;241;43m1\u001B[39;49m\u001B[43m]\u001B[49m\u001B[43m,\u001B[49m\u001B[43m \u001B[49m\u001B[43mwith_traceback\u001B[49m\u001B[38;5;241;43m=\u001B[39;49m\u001B[43mexc_info\u001B[49m\u001B[43m[\u001B[49m\u001B[38;5;241;43m2\u001B[39;49m\u001B[43m]\u001B[49m\u001B[43m)\u001B[49m\n\u001B[1;32m   2049\u001B[0m \u001B[38;5;28;01mfinally\u001B[39;00m:\n\u001B[1;32m   2050\u001B[0m     \u001B[38;5;28;01mdel\u001B[39;00m \u001B[38;5;28mself\u001B[39m\u001B[38;5;241m.\u001B[39m_reentrant_error\n",
      "File \u001B[0;32m~/venv/lib/python3.8/site-packages/sqlalchemy/util/compat.py:208\u001B[0m, in \u001B[0;36mraise_\u001B[0;34m(***failed resolving arguments***)\u001B[0m\n\u001B[1;32m    205\u001B[0m     exception\u001B[38;5;241m.\u001B[39m__cause__ \u001B[38;5;241m=\u001B[39m replace_context\n\u001B[1;32m    207\u001B[0m \u001B[38;5;28;01mtry\u001B[39;00m:\n\u001B[0;32m--> 208\u001B[0m     \u001B[38;5;28;01mraise\u001B[39;00m exception\n\u001B[1;32m    209\u001B[0m \u001B[38;5;28;01mfinally\u001B[39;00m:\n\u001B[1;32m    210\u001B[0m     \u001B[38;5;66;03m# credit to\u001B[39;00m\n\u001B[1;32m    211\u001B[0m     \u001B[38;5;66;03m# https://cosmicpercolator.com/2016/01/13/exception-leaks-in-python-2-and-3/\u001B[39;00m\n\u001B[1;32m    212\u001B[0m     \u001B[38;5;66;03m# as the __traceback__ object creates a cycle\u001B[39;00m\n\u001B[1;32m    213\u001B[0m     \u001B[38;5;28;01mdel\u001B[39;00m exception, replace_context, from_, with_traceback\n",
      "File \u001B[0;32m~/venv/lib/python3.8/site-packages/sqlalchemy/engine/base.py:1819\u001B[0m, in \u001B[0;36mConnection._execute_context\u001B[0;34m(self, dialect, constructor, statement, parameters, execution_options, *args, **kw)\u001B[0m\n\u001B[1;32m   1817\u001B[0m                 \u001B[38;5;28;01mbreak\u001B[39;00m\n\u001B[1;32m   1818\u001B[0m     \u001B[38;5;28;01mif\u001B[39;00m \u001B[38;5;129;01mnot\u001B[39;00m evt_handled:\n\u001B[0;32m-> 1819\u001B[0m         \u001B[38;5;28;43mself\u001B[39;49m\u001B[38;5;241;43m.\u001B[39;49m\u001B[43mdialect\u001B[49m\u001B[38;5;241;43m.\u001B[39;49m\u001B[43mdo_execute\u001B[49m\u001B[43m(\u001B[49m\n\u001B[1;32m   1820\u001B[0m \u001B[43m            \u001B[49m\u001B[43mcursor\u001B[49m\u001B[43m,\u001B[49m\u001B[43m \u001B[49m\u001B[43mstatement\u001B[49m\u001B[43m,\u001B[49m\u001B[43m \u001B[49m\u001B[43mparameters\u001B[49m\u001B[43m,\u001B[49m\u001B[43m \u001B[49m\u001B[43mcontext\u001B[49m\n\u001B[1;32m   1821\u001B[0m \u001B[43m        \u001B[49m\u001B[43m)\u001B[49m\n\u001B[1;32m   1823\u001B[0m \u001B[38;5;28;01mif\u001B[39;00m \u001B[38;5;28mself\u001B[39m\u001B[38;5;241m.\u001B[39m_has_events \u001B[38;5;129;01mor\u001B[39;00m \u001B[38;5;28mself\u001B[39m\u001B[38;5;241m.\u001B[39mengine\u001B[38;5;241m.\u001B[39m_has_events:\n\u001B[1;32m   1824\u001B[0m     \u001B[38;5;28mself\u001B[39m\u001B[38;5;241m.\u001B[39mdispatch\u001B[38;5;241m.\u001B[39mafter_cursor_execute(\n\u001B[1;32m   1825\u001B[0m         \u001B[38;5;28mself\u001B[39m,\n\u001B[1;32m   1826\u001B[0m         cursor,\n\u001B[0;32m   (...)\u001B[0m\n\u001B[1;32m   1830\u001B[0m         context\u001B[38;5;241m.\u001B[39mexecutemany,\n\u001B[1;32m   1831\u001B[0m     )\n",
      "File \u001B[0;32m~/venv/lib/python3.8/site-packages/sqlalchemy/engine/default.py:732\u001B[0m, in \u001B[0;36mDefaultDialect.do_execute\u001B[0;34m(self, cursor, statement, parameters, context)\u001B[0m\n\u001B[1;32m    731\u001B[0m \u001B[38;5;28;01mdef\u001B[39;00m \u001B[38;5;21mdo_execute\u001B[39m(\u001B[38;5;28mself\u001B[39m, cursor, statement, parameters, context\u001B[38;5;241m=\u001B[39m\u001B[38;5;28;01mNone\u001B[39;00m):\n\u001B[0;32m--> 732\u001B[0m     \u001B[43mcursor\u001B[49m\u001B[38;5;241;43m.\u001B[39;49m\u001B[43mexecute\u001B[49m\u001B[43m(\u001B[49m\u001B[43mstatement\u001B[49m\u001B[43m,\u001B[49m\u001B[43m \u001B[49m\u001B[43mparameters\u001B[49m\u001B[43m)\u001B[49m\n",
      "File \u001B[0;32m~/venv/lib/python3.8/site-packages/pymysql/cursors.py:148\u001B[0m, in \u001B[0;36mCursor.execute\u001B[0;34m(self, query, args)\u001B[0m\n\u001B[1;32m    144\u001B[0m     \u001B[38;5;28;01mpass\u001B[39;00m\n\u001B[1;32m    146\u001B[0m query \u001B[38;5;241m=\u001B[39m \u001B[38;5;28mself\u001B[39m\u001B[38;5;241m.\u001B[39mmogrify(query, args)\n\u001B[0;32m--> 148\u001B[0m result \u001B[38;5;241m=\u001B[39m \u001B[38;5;28;43mself\u001B[39;49m\u001B[38;5;241;43m.\u001B[39;49m\u001B[43m_query\u001B[49m\u001B[43m(\u001B[49m\u001B[43mquery\u001B[49m\u001B[43m)\u001B[49m\n\u001B[1;32m    149\u001B[0m \u001B[38;5;28mself\u001B[39m\u001B[38;5;241m.\u001B[39m_executed \u001B[38;5;241m=\u001B[39m query\n\u001B[1;32m    150\u001B[0m \u001B[38;5;28;01mreturn\u001B[39;00m result\n",
      "File \u001B[0;32m~/venv/lib/python3.8/site-packages/pymysql/cursors.py:310\u001B[0m, in \u001B[0;36mCursor._query\u001B[0;34m(self, q)\u001B[0m\n\u001B[1;32m    308\u001B[0m \u001B[38;5;28mself\u001B[39m\u001B[38;5;241m.\u001B[39m_last_executed \u001B[38;5;241m=\u001B[39m q\n\u001B[1;32m    309\u001B[0m \u001B[38;5;28mself\u001B[39m\u001B[38;5;241m.\u001B[39m_clear_result()\n\u001B[0;32m--> 310\u001B[0m \u001B[43mconn\u001B[49m\u001B[38;5;241;43m.\u001B[39;49m\u001B[43mquery\u001B[49m\u001B[43m(\u001B[49m\u001B[43mq\u001B[49m\u001B[43m)\u001B[49m\n\u001B[1;32m    311\u001B[0m \u001B[38;5;28mself\u001B[39m\u001B[38;5;241m.\u001B[39m_do_get_result()\n\u001B[1;32m    312\u001B[0m \u001B[38;5;28;01mreturn\u001B[39;00m \u001B[38;5;28mself\u001B[39m\u001B[38;5;241m.\u001B[39mrowcount\n",
      "File \u001B[0;32m~/venv/lib/python3.8/site-packages/pymysql/connections.py:548\u001B[0m, in \u001B[0;36mConnection.query\u001B[0;34m(self, sql, unbuffered)\u001B[0m\n\u001B[1;32m    546\u001B[0m     sql \u001B[38;5;241m=\u001B[39m sql\u001B[38;5;241m.\u001B[39mencode(\u001B[38;5;28mself\u001B[39m\u001B[38;5;241m.\u001B[39mencoding, \u001B[38;5;124m\"\u001B[39m\u001B[38;5;124msurrogateescape\u001B[39m\u001B[38;5;124m\"\u001B[39m)\n\u001B[1;32m    547\u001B[0m \u001B[38;5;28mself\u001B[39m\u001B[38;5;241m.\u001B[39m_execute_command(COMMAND\u001B[38;5;241m.\u001B[39mCOM_QUERY, sql)\n\u001B[0;32m--> 548\u001B[0m \u001B[38;5;28mself\u001B[39m\u001B[38;5;241m.\u001B[39m_affected_rows \u001B[38;5;241m=\u001B[39m \u001B[38;5;28;43mself\u001B[39;49m\u001B[38;5;241;43m.\u001B[39;49m\u001B[43m_read_query_result\u001B[49m\u001B[43m(\u001B[49m\u001B[43munbuffered\u001B[49m\u001B[38;5;241;43m=\u001B[39;49m\u001B[43munbuffered\u001B[49m\u001B[43m)\u001B[49m\n\u001B[1;32m    549\u001B[0m \u001B[38;5;28;01mreturn\u001B[39;00m \u001B[38;5;28mself\u001B[39m\u001B[38;5;241m.\u001B[39m_affected_rows\n",
      "File \u001B[0;32m~/venv/lib/python3.8/site-packages/pymysql/connections.py:775\u001B[0m, in \u001B[0;36mConnection._read_query_result\u001B[0;34m(self, unbuffered)\u001B[0m\n\u001B[1;32m    773\u001B[0m \u001B[38;5;28;01melse\u001B[39;00m:\n\u001B[1;32m    774\u001B[0m     result \u001B[38;5;241m=\u001B[39m MySQLResult(\u001B[38;5;28mself\u001B[39m)\n\u001B[0;32m--> 775\u001B[0m     \u001B[43mresult\u001B[49m\u001B[38;5;241;43m.\u001B[39;49m\u001B[43mread\u001B[49m\u001B[43m(\u001B[49m\u001B[43m)\u001B[49m\n\u001B[1;32m    776\u001B[0m \u001B[38;5;28mself\u001B[39m\u001B[38;5;241m.\u001B[39m_result \u001B[38;5;241m=\u001B[39m result\n\u001B[1;32m    777\u001B[0m \u001B[38;5;28;01mif\u001B[39;00m result\u001B[38;5;241m.\u001B[39mserver_status \u001B[38;5;129;01mis\u001B[39;00m \u001B[38;5;129;01mnot\u001B[39;00m \u001B[38;5;28;01mNone\u001B[39;00m:\n",
      "File \u001B[0;32m~/venv/lib/python3.8/site-packages/pymysql/connections.py:1163\u001B[0m, in \u001B[0;36mMySQLResult.read\u001B[0;34m(self)\u001B[0m\n\u001B[1;32m   1161\u001B[0m         \u001B[38;5;28mself\u001B[39m\u001B[38;5;241m.\u001B[39m_read_load_local_packet(first_packet)\n\u001B[1;32m   1162\u001B[0m     \u001B[38;5;28;01melse\u001B[39;00m:\n\u001B[0;32m-> 1163\u001B[0m         \u001B[38;5;28;43mself\u001B[39;49m\u001B[38;5;241;43m.\u001B[39;49m\u001B[43m_read_result_packet\u001B[49m\u001B[43m(\u001B[49m\u001B[43mfirst_packet\u001B[49m\u001B[43m)\u001B[49m\n\u001B[1;32m   1164\u001B[0m \u001B[38;5;28;01mfinally\u001B[39;00m:\n\u001B[1;32m   1165\u001B[0m     \u001B[38;5;28mself\u001B[39m\u001B[38;5;241m.\u001B[39mconnection \u001B[38;5;241m=\u001B[39m \u001B[38;5;28;01mNone\u001B[39;00m\n",
      "File \u001B[0;32m~/venv/lib/python3.8/site-packages/pymysql/connections.py:1236\u001B[0m, in \u001B[0;36mMySQLResult._read_result_packet\u001B[0;34m(self, first_packet)\u001B[0m\n\u001B[1;32m   1234\u001B[0m \u001B[38;5;28mself\u001B[39m\u001B[38;5;241m.\u001B[39mfield_count \u001B[38;5;241m=\u001B[39m first_packet\u001B[38;5;241m.\u001B[39mread_length_encoded_integer()\n\u001B[1;32m   1235\u001B[0m \u001B[38;5;28mself\u001B[39m\u001B[38;5;241m.\u001B[39m_get_descriptions()\n\u001B[0;32m-> 1236\u001B[0m \u001B[38;5;28;43mself\u001B[39;49m\u001B[38;5;241;43m.\u001B[39;49m\u001B[43m_read_rowdata_packet\u001B[49m\u001B[43m(\u001B[49m\u001B[43m)\u001B[49m\n",
      "File \u001B[0;32m~/venv/lib/python3.8/site-packages/pymysql/connections.py:1270\u001B[0m, in \u001B[0;36mMySQLResult._read_rowdata_packet\u001B[0;34m(self)\u001B[0m\n\u001B[1;32m   1268\u001B[0m rows \u001B[38;5;241m=\u001B[39m []\n\u001B[1;32m   1269\u001B[0m \u001B[38;5;28;01mwhile\u001B[39;00m \u001B[38;5;28;01mTrue\u001B[39;00m:\n\u001B[0;32m-> 1270\u001B[0m     packet \u001B[38;5;241m=\u001B[39m \u001B[38;5;28;43mself\u001B[39;49m\u001B[38;5;241;43m.\u001B[39;49m\u001B[43mconnection\u001B[49m\u001B[38;5;241;43m.\u001B[39;49m\u001B[43m_read_packet\u001B[49m\u001B[43m(\u001B[49m\u001B[43m)\u001B[49m\n\u001B[1;32m   1271\u001B[0m     \u001B[38;5;28;01mif\u001B[39;00m \u001B[38;5;28mself\u001B[39m\u001B[38;5;241m.\u001B[39m_check_packet_is_eof(packet):\n\u001B[1;32m   1272\u001B[0m         \u001B[38;5;28mself\u001B[39m\u001B[38;5;241m.\u001B[39mconnection \u001B[38;5;241m=\u001B[39m \u001B[38;5;28;01mNone\u001B[39;00m  \u001B[38;5;66;03m# release reference to kill cyclic reference.\u001B[39;00m\n",
      "File \u001B[0;32m~/venv/lib/python3.8/site-packages/pymysql/connections.py:711\u001B[0m, in \u001B[0;36mConnection._read_packet\u001B[0;34m(self, packet_type)\u001B[0m\n\u001B[1;32m    705\u001B[0m     \u001B[38;5;28;01mraise\u001B[39;00m err\u001B[38;5;241m.\u001B[39mInternalError(\n\u001B[1;32m    706\u001B[0m         \u001B[38;5;124m\"\u001B[39m\u001B[38;5;124mPacket sequence number wrong - got \u001B[39m\u001B[38;5;132;01m%d\u001B[39;00m\u001B[38;5;124m expected \u001B[39m\u001B[38;5;132;01m%d\u001B[39;00m\u001B[38;5;124m\"\u001B[39m\n\u001B[1;32m    707\u001B[0m         \u001B[38;5;241m%\u001B[39m (packet_number, \u001B[38;5;28mself\u001B[39m\u001B[38;5;241m.\u001B[39m_next_seq_id)\n\u001B[1;32m    708\u001B[0m     )\n\u001B[1;32m    709\u001B[0m \u001B[38;5;28mself\u001B[39m\u001B[38;5;241m.\u001B[39m_next_seq_id \u001B[38;5;241m=\u001B[39m (\u001B[38;5;28mself\u001B[39m\u001B[38;5;241m.\u001B[39m_next_seq_id \u001B[38;5;241m+\u001B[39m \u001B[38;5;241m1\u001B[39m) \u001B[38;5;241m%\u001B[39m \u001B[38;5;241m256\u001B[39m\n\u001B[0;32m--> 711\u001B[0m recv_data \u001B[38;5;241m=\u001B[39m \u001B[38;5;28;43mself\u001B[39;49m\u001B[38;5;241;43m.\u001B[39;49m\u001B[43m_read_bytes\u001B[49m\u001B[43m(\u001B[49m\u001B[43mbytes_to_read\u001B[49m\u001B[43m)\u001B[49m\n\u001B[1;32m    712\u001B[0m \u001B[38;5;28;01mif\u001B[39;00m DEBUG:\n\u001B[1;32m    713\u001B[0m     dump_packet(recv_data)\n",
      "File \u001B[0;32m~/venv/lib/python3.8/site-packages/pymysql/connections.py:732\u001B[0m, in \u001B[0;36mConnection._read_bytes\u001B[0;34m(self, num_bytes)\u001B[0m\n\u001B[1;32m    730\u001B[0m \u001B[38;5;28;01mwhile\u001B[39;00m \u001B[38;5;28;01mTrue\u001B[39;00m:\n\u001B[1;32m    731\u001B[0m     \u001B[38;5;28;01mtry\u001B[39;00m:\n\u001B[0;32m--> 732\u001B[0m         data \u001B[38;5;241m=\u001B[39m \u001B[38;5;28;43mself\u001B[39;49m\u001B[38;5;241;43m.\u001B[39;49m\u001B[43m_rfile\u001B[49m\u001B[38;5;241;43m.\u001B[39;49m\u001B[43mread\u001B[49m\u001B[43m(\u001B[49m\u001B[43mnum_bytes\u001B[49m\u001B[43m)\u001B[49m\n\u001B[1;32m    733\u001B[0m         \u001B[38;5;28;01mbreak\u001B[39;00m\n\u001B[1;32m    734\u001B[0m     \u001B[38;5;28;01mexcept\u001B[39;00m (\u001B[38;5;167;01mIOError\u001B[39;00m, \u001B[38;5;167;01mOSError\u001B[39;00m) \u001B[38;5;28;01mas\u001B[39;00m e:\n",
      "File \u001B[0;32m/usr/lib/python3.8/socket.py:669\u001B[0m, in \u001B[0;36mSocketIO.readinto\u001B[0;34m(self, b)\u001B[0m\n\u001B[1;32m    667\u001B[0m \u001B[38;5;28;01mwhile\u001B[39;00m \u001B[38;5;28;01mTrue\u001B[39;00m:\n\u001B[1;32m    668\u001B[0m     \u001B[38;5;28;01mtry\u001B[39;00m:\n\u001B[0;32m--> 669\u001B[0m         \u001B[38;5;28;01mreturn\u001B[39;00m \u001B[38;5;28;43mself\u001B[39;49m\u001B[38;5;241;43m.\u001B[39;49m\u001B[43m_sock\u001B[49m\u001B[38;5;241;43m.\u001B[39;49m\u001B[43mrecv_into\u001B[49m\u001B[43m(\u001B[49m\u001B[43mb\u001B[49m\u001B[43m)\u001B[49m\n\u001B[1;32m    670\u001B[0m     \u001B[38;5;28;01mexcept\u001B[39;00m timeout:\n\u001B[1;32m    671\u001B[0m         \u001B[38;5;28mself\u001B[39m\u001B[38;5;241m.\u001B[39m_timeout_occurred \u001B[38;5;241m=\u001B[39m \u001B[38;5;28;01mTrue\u001B[39;00m\n",
      "\u001B[0;31mKeyboardInterrupt\u001B[0m: "
     ]
    }
   ],
   "source": [
    "# get new preferences for users\n",
    "pcomms = pd.read_sql_query(\"select id, user_id, profile_key, profile_value from jos_user_profiles \n",
    "where profile_key in ('personalizedcommunication');\",nanohub_db)#order by rand() limit 50000;\",engine) #and modifiedDate >= '2019-08-08'\n",
    "\n",
    "up_news = pd.read_sql_query(\"select id, user_id, profile_key, profile_value from jos_user_profiles \\\n",
    "where profile_key in ('updates_news');\",nanohub_db) #order by rand() limit 50000;\",engine)"
   ]
  },
  {
   "cell_type": "code",
   "execution_count": null,
   "metadata": {
    "execution": {
     "iopub.status.busy": "2022-06-29T19:26:51.253574Z",
     "iopub.status.idle": "2022-06-29T19:26:51.254539Z",
     "shell.execute_reply": "2022-06-29T19:26:51.254224Z",
     "shell.execute_reply.started": "2022-06-29T19:26:51.254127Z"
    },
    "papermill": {
     "duration": 0.044439,
     "end_time": "2021-01-21T08:30:14.599102",
     "exception": false,
     "start_time": "2021-01-21T08:30:14.554663",
     "status": "completed"
    },
    "pycharm": {
     "name": "#%%\n"
    },
    "tags": []
   },
   "outputs": [],
   "source": [
    "display(pcomms.head(2))\n",
    "display(pcomms.tail(2))\n",
    "display(up_news.head(2))\n",
    "display(up_news.tail(2))"
   ]
  },
  {
   "cell_type": "code",
   "execution_count": null,
   "metadata": {
    "execution": {
     "iopub.status.busy": "2022-06-29T19:26:51.256619Z",
     "iopub.status.idle": "2022-06-29T19:26:51.259217Z",
     "shell.execute_reply": "2022-06-29T19:26:51.258270Z",
     "shell.execute_reply.started": "2022-06-29T19:26:51.258207Z"
    },
    "papermill": {
     "duration": 0.019712,
     "end_time": "2021-01-21T08:30:14.632743",
     "exception": false,
     "start_time": "2021-01-21T08:30:14.613031",
     "status": "completed"
    },
    "pycharm": {
     "name": "#%%\n"
    },
    "tags": []
   },
   "outputs": [],
   "source": [
    "print(pcomms.shape)\n",
    "print(up_news.shape)"
   ]
  },
  {
   "cell_type": "code",
   "execution_count": null,
   "metadata": {
    "execution": {
     "iopub.status.busy": "2022-06-29T19:26:51.263638Z",
     "iopub.status.idle": "2022-06-29T19:26:51.265600Z",
     "shell.execute_reply": "2022-06-29T19:26:51.265235Z",
     "shell.execute_reply.started": "2022-06-29T19:26:51.265176Z"
    },
    "papermill": {
     "duration": 0.040172,
     "end_time": "2021-01-21T08:30:14.685176",
     "exception": false,
     "start_time": "2021-01-21T08:30:14.645004",
     "status": "completed"
    },
    "pycharm": {
     "name": "#%%\n"
    },
    "tags": []
   },
   "outputs": [],
   "source": [
    "## adjusting new_email dataframe for the new email optin values \n",
    "# 0 or 1\n",
    "pcomms_t = pcomms[['user_id','profile_value']]\n",
    "up_news_t = up_news[['user_id','profile_value']]\n",
    "\n",
    "display(pcomms_t.head(2))\n",
    "display(up_news_t.head(2))"
   ]
  },
  {
   "cell_type": "code",
   "execution_count": null,
   "metadata": {
    "execution": {
     "iopub.status.busy": "2022-06-29T19:26:51.267725Z",
     "iopub.status.idle": "2022-06-29T19:26:51.269883Z",
     "shell.execute_reply": "2022-06-29T19:26:51.269199Z",
     "shell.execute_reply.started": "2022-06-29T19:26:51.269060Z"
    },
    "papermill": {
     "duration": 0.196221,
     "end_time": "2021-01-21T08:30:14.895525",
     "exception": false,
     "start_time": "2021-01-21T08:30:14.699304",
     "status": "completed"
    },
    "pycharm": {
     "name": "#%%\n"
    },
    "tags": []
   },
   "outputs": [],
   "source": [
    "## filtering pcomms_t with 0 or 1\n",
    "ptt = pcomms_t['profile_value'].to_list()\n",
    "\n",
    "for index, val in enumerate(ptt):\n",
    "    val = val.split(',')[0]\n",
    "    if val == 'Yes':\n",
    "        ptt[index] = 1 # 1 indicates opt-in\n",
    "    else:\n",
    "        ptt[index] = 0 # 1 indicates opt-out\n",
    "\n",
    "pcomms_t.loc[:,'profile_value'] = ptt\n"
   ]
  },
  {
   "cell_type": "code",
   "execution_count": null,
   "metadata": {
    "execution": {
     "iopub.status.busy": "2022-06-29T19:26:51.273050Z",
     "iopub.status.idle": "2022-06-29T19:26:51.274076Z",
     "shell.execute_reply": "2022-06-29T19:26:51.273829Z",
     "shell.execute_reply.started": "2022-06-29T19:26:51.273790Z"
    },
    "papermill": {
     "duration": 0.194238,
     "end_time": "2021-01-21T08:30:15.103891",
     "exception": false,
     "start_time": "2021-01-21T08:30:14.909653",
     "status": "completed"
    },
    "pycharm": {
     "name": "#%%\n"
    },
    "tags": []
   },
   "outputs": [],
   "source": [
    "## filtering up news t with 0 or 1\n",
    "untt = up_news_t['profile_value'].to_list()\n",
    "\n",
    "for index, val in enumerate(untt):\n",
    "    val = val.split(',')[0]\n",
    "    if val == 'Yes':\n",
    "        untt[index] = 1 # 1 indicates opt-in\n",
    "    else:\n",
    "        untt[index] = 0 # 1 indicates opt-out\n",
    "\n",
    "up_news_t.loc[:,'profile_value'] = untt\n"
   ]
  },
  {
   "cell_type": "code",
   "execution_count": null,
   "metadata": {
    "execution": {
     "iopub.status.busy": "2022-06-29T19:26:51.275840Z",
     "iopub.status.idle": "2022-06-29T19:26:51.277132Z",
     "shell.execute_reply": "2022-06-29T19:26:51.276852Z",
     "shell.execute_reply.started": "2022-06-29T19:26:51.276819Z"
    },
    "papermill": {
     "duration": 0.034836,
     "end_time": "2021-01-21T08:30:15.152454",
     "exception": false,
     "start_time": "2021-01-21T08:30:15.117618",
     "status": "completed"
    },
    "pycharm": {
     "name": "#%%\n"
    },
    "tags": []
   },
   "outputs": [],
   "source": [
    "## display\n",
    "display(pcomms_t.head(2))\n",
    "display(pcomms_t.tail(2))\n",
    "display(up_news_t.head(2))\n",
    "display(up_news_t.tail(2))"
   ]
  },
  {
   "cell_type": "code",
   "execution_count": null,
   "metadata": {
    "execution": {
     "iopub.status.busy": "2022-06-29T19:26:51.284765Z",
     "iopub.status.idle": "2022-06-29T19:26:51.286355Z",
     "shell.execute_reply": "2022-06-29T19:26:51.286009Z",
     "shell.execute_reply.started": "2022-06-29T19:26:51.285935Z"
    },
    "papermill": {
     "duration": 0.049888,
     "end_time": "2021-01-21T08:30:15.217346",
     "exception": false,
     "start_time": "2021-01-21T08:30:15.167458",
     "status": "completed"
    },
    "pycharm": {
     "name": "#%%\n"
    },
    "tags": []
   },
   "outputs": [],
   "source": [
    "## create new dataframe\n",
    "new_opts = pd.DataFrame()\n",
    "\n",
    "new_opts['nanoHUB_user_ID__c'] = pcomms_t['user_id']\n",
    "new_opts['personalizedcommunication__c'] = pcomms_t['profile_value']\n",
    "new_opts['updatesnews__c'] = up_news_t['profile_value']\n"
   ]
  },
  {
   "cell_type": "code",
   "execution_count": null,
   "metadata": {
    "execution": {
     "iopub.status.busy": "2022-06-29T19:26:51.298326Z",
     "iopub.status.idle": "2022-06-29T19:26:51.300266Z",
     "shell.execute_reply": "2022-06-29T19:26:51.299765Z",
     "shell.execute_reply.started": "2022-06-29T19:26:51.299715Z"
    },
    "papermill": {
     "duration": 0.02804,
     "end_time": "2021-01-21T08:30:15.264662",
     "exception": false,
     "start_time": "2021-01-21T08:30:15.236622",
     "status": "completed"
    },
    "pycharm": {
     "name": "#%%\n"
    },
    "tags": []
   },
   "outputs": [],
   "source": [
    "display(new_opts.head(2))\n",
    "print(type(new_opts))"
   ]
  },
  {
   "cell_type": "markdown",
   "metadata": {
    "papermill": {
     "duration": 0.015377,
     "end_time": "2021-01-21T08:30:15.295148",
     "exception": false,
     "start_time": "2021-01-21T08:30:15.279771",
     "status": "completed"
    },
    "pycharm": {
     "name": "#%% md\n"
    },
    "tags": []
   },
   "source": [
    "## Send to SF"
   ]
  },
  {
   "cell_type": "code",
   "execution_count": null,
   "metadata": {
    "papermill": {
     "duration": 0.338275,
     "end_time": "2021-01-21T08:30:15.648332",
     "exception": false,
     "start_time": "2021-01-21T08:30:15.310057",
     "status": "completed"
    },
    "pycharm": {
     "name": "#%%\n"
    },
    "tags": []
   },
   "outputs": [],
   "source": []
  },
  {
   "cell_type": "code",
   "execution_count": null,
   "metadata": {
    "execution": {
     "iopub.status.busy": "2022-06-29T19:26:51.307209Z",
     "iopub.status.idle": "2022-06-29T19:26:51.311202Z",
     "shell.execute_reply": "2022-06-29T19:26:51.309176Z",
     "shell.execute_reply.started": "2022-06-29T19:26:51.308550Z"
    },
    "papermill": {
     "duration": 1.533374,
     "end_time": "2021-01-21T08:30:17.198974",
     "exception": false,
     "start_time": "2021-01-21T08:30:15.665600",
     "status": "completed"
    },
    "pycharm": {
     "name": "#%%\n"
    },
    "tags": []
   },
   "outputs": [],
   "source": [
    "db_s.object_id = object_id\n",
    "db_s.external_id = external_id\n",
    "\n",
    "# send data to Salesforce\n",
    "db_s.send_data(new_opts)\n"
   ]
  },
  {
   "cell_type": "code",
   "execution_count": null,
   "metadata": {
    "execution": {
     "iopub.status.busy": "2022-06-29T19:26:51.319457Z",
     "iopub.status.idle": "2022-06-29T19:26:51.329160Z",
     "shell.execute_reply": "2022-06-29T19:26:51.326224Z",
     "shell.execute_reply.started": "2022-06-29T19:26:51.326122Z"
    },
    "papermill": {
     "duration": 0.323732,
     "end_time": "2021-01-21T08:30:17.539990",
     "exception": false,
     "start_time": "2021-01-21T08:30:17.216258",
     "status": "completed"
    },
    "pycharm": {
     "name": "#%%\n"
    },
    "tags": []
   },
   "outputs": [],
   "source": [
    "# check status\n",
    "db_s.check_bulk_status()"
   ]
  },
  {
   "cell_type": "code",
   "execution_count": null,
   "metadata": {
    "execution": {
     "iopub.status.busy": "2022-06-29T19:26:51.338277Z",
     "iopub.status.idle": "2022-06-29T19:26:51.344609Z",
     "shell.execute_reply": "2022-06-29T19:26:51.344097Z",
     "shell.execute_reply.started": "2022-06-29T19:26:51.343709Z"
    },
    "papermill": {
     "duration": 0.147901,
     "end_time": "2021-01-21T08:30:17.705562",
     "exception": false,
     "start_time": "2021-01-21T08:30:17.557661",
     "status": "completed"
    },
    "pycharm": {
     "name": "#%%\n"
    },
    "tags": []
   },
   "outputs": [],
   "source": [
    "# check status\n",
    "from pprint import pprint\n",
    "\n",
    "pprint(db_s.check_bulk_failed_results())"
   ]
  },
  {
   "cell_type": "code",
   "execution_count": null,
   "metadata": {
    "papermill": {
     "duration": 0.017868,
     "end_time": "2021-01-21T08:30:17.740749",
     "exception": false,
     "start_time": "2021-01-21T08:30:17.722881",
     "status": "completed"
    },
    "pycharm": {
     "name": "#%%\n"
    },
    "tags": []
   },
   "outputs": [],
   "source": []
  }
 ],
 "metadata": {
  "kernelspec": {
   "display_name": "Python 3 (ipykernel)",
   "language": "python",
   "name": "python3"
  },
  "language_info": {
   "codemirror_mode": {
    "name": "ipython",
    "version": 3
   },
   "file_extension": ".py",
   "mimetype": "text/x-python",
   "name": "python",
   "nbconvert_exporter": "python",
   "pygments_lexer": "ipython3",
   "version": "3.8.10"
  },
  "papermill": {
   "duration": 15.356506,
   "end_time": "2021-01-21T08:30:18.168322",
   "environment_variables": {},
   "exception": null,
   "input_path": "/home/users/wang2506/nanohub_salesforce_integ/salesforce/task_update_email_preferences.ipynb",
   "output_path": "/home/users/wang2506/nanohub_salesforce_integ/salesforce/task_update_email_preferences.ipynb",
   "parameters": {},
   "start_time": "2021-01-21T08:30:02.811816",
   "version": "2.1.1"
  }
 },
 "nbformat": 4,
 "nbformat_minor": 4
}