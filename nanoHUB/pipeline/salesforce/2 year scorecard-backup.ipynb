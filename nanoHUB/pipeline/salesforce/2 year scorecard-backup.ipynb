{
 "cells": [
  {
   "cell_type": "markdown",
   "metadata": {},
   "source": [
    "# Builds GH's 2 year scorecard"
   ]
  },
  {
   "cell_type": "code",
   "execution_count": 1,
   "metadata": {},
   "outputs": [],
   "source": [
    "# API settings\n",
    "api_url = '/services/data/v43.0/sobjects'\n",
    "external_id = 'Name'\n",
    "object_id = 'ContactToolAssociation__c'\n",
    "\n",
    "# login parameters to be handled by Papermill\n",
    "sql_login_params = {\"username\": \"wang2506_ro\", \"password\": \"fnVnwcCS7iT45EsA\"}\n",
    "sf_login_params = {\n",
    "    \"grant_type\": \"password\",\n",
    "    \"client_id\": \"3MVG95jctIhbyCppj0SNJ75IsZ1y8UPGZtSNF4j8FNVXz.De8Lu4jHm3rjRosAtsHy6qjHx3i4S_QbQzvBePG\",\n",
    "    \"client_secret\": \"D1623C6D3607D4FC8004B92C761DFB6C1F70CCD129C5501E357028DFA00F5764\",\n",
    "    \"username\":\"wang2506@purdue.edu\",\n",
    "    \"password\":\"sf2021shitOPmlIiFMLnrudgC6oSX0WV1T\",   \n",
    "} \n",
    "    #\"username\": \"wang159-4j1v@force.com\",\n",
    "    #\"password\": \"napoleon0eZ3PQpQqE3C3z4wWqEqKGhQ8\","
   ]
  },
  {
   "cell_type": "code",
   "execution_count": 2,
   "metadata": {},
   "outputs": [],
   "source": [
    "import sys\n",
    "sys.path.append('/home/users/wang2506/nanohub_salesforce_integ/salesforce')\n",
    "    \n",
    "import pandas as pd\n",
    "import time\n",
    "import datetime\n",
    "\n",
    "from DB2SalesforceAPI import DB2SalesforceAPI"
   ]
  },
  {
   "cell_type": "markdown",
   "metadata": {},
   "source": [
    "## Pull data from SF"
   ]
  },
  {
   "cell_type": "code",
   "execution_count": 3,
   "metadata": {},
   "outputs": [],
   "source": [
    "##########################################################################################\n",
    "## 1 - Pull all tool_usage_cluster__c information\n",
    "##     i) ID\n",
    "##     ii) Ending_Date__c\n",
    "##     iii) Starting_Date__c\n",
    "##     iv) Organization__c\n",
    "##     v) Estimated_cluster_size__c\n",
    "##     vi) Estimated_number_of_tools__c\n",
    "##########################################################################################"
   ]
  },
  {
   "cell_type": "code",
   "execution_count": 4,
   "metadata": {},
   "outputs": [
    {
     "name": "stdout",
     "output_type": "stream",
     "text": [
      "Obtained Salesforce access token ...... True\n"
     ]
    }
   ],
   "source": [
    "db_1 = DB2SalesforceAPI(sf_login_params)"
   ]
  },
  {
   "cell_type": "code",
   "execution_count": 5,
   "metadata": {},
   "outputs": [
    {
     "name": "stdout",
     "output_type": "stream",
     "text": [
      "[Success] Bulk job creation successful. Job ID = 7505w00000TmdEdAAJ\n",
      "{\"id\":\"7505w00000TmdEdAAJ\",\"operation\":\"query\",\"object\":\"tool_usage_cluster__c\",\"createdById\":\"0055w00000DM5bOAAT\",\"createdDate\":\"2021-01-22T19:28:52.000+0000\",\"systemModstamp\":\"2021-01-22T19:28:52.000+0000\",\"state\":\"InProgress\",\"concurrencyMode\":\"Parallel\",\"contentType\":\"CSV\",\"apiVersion\":47.0,\"jobType\":\"V2Query\",\"lineEnding\":\"LF\",\"columnDelimiter\":\"COMMA\",\"numberRecordsProcessed\":0,\"retries\":0,\"totalProcessingTime\":0}\n",
      "{\"id\":\"7505w00000TmdEdAAJ\",\"operation\":\"query\",\"object\":\"tool_usage_cluster__c\",\"createdById\":\"0055w00000DM5bOAAT\",\"createdDate\":\"2021-01-22T19:28:52.000+0000\",\"systemModstamp\":\"2021-01-22T19:28:53.000+0000\",\"state\":\"JobComplete\",\"concurrencyMode\":\"Parallel\",\"contentType\":\"CSV\",\"apiVersion\":47.0,\"jobType\":\"V2Query\",\"lineEnding\":\"LF\",\"columnDelimiter\":\"COMMA\",\"numberRecordsProcessed\":3944,\"retries\":0,\"totalProcessingTime\":688}\n",
      "[Success] Bulk job completed successfully.\n"
     ]
    }
   ],
   "source": [
    "tool_cluster_df = db_1.query_data('Select ID, Ending_Date__c, Starting_Date__c, Organization__c,Estimated_cluster_size__c, \\\n",
    "                        Estimated_number_of_tools__c from tool_usage_cluster__c')"
   ]
  },
  {
   "cell_type": "code",
   "execution_count": 6,
   "metadata": {},
   "outputs": [
    {
     "data": {
      "text/html": [
       "<div>\n",
       "<style scoped>\n",
       "    .dataframe tbody tr th:only-of-type {\n",
       "        vertical-align: middle;\n",
       "    }\n",
       "\n",
       "    .dataframe tbody tr th {\n",
       "        vertical-align: top;\n",
       "    }\n",
       "\n",
       "    .dataframe thead th {\n",
       "        text-align: right;\n",
       "    }\n",
       "</style>\n",
       "<table border=\"1\" class=\"dataframe\">\n",
       "  <thead>\n",
       "    <tr style=\"text-align: right;\">\n",
       "      <th></th>\n",
       "      <th>Ending_Date__c</th>\n",
       "      <th>Estimated_cluster_size__c</th>\n",
       "      <th>Estimated_number_of_tools__c</th>\n",
       "      <th>Id</th>\n",
       "      <th>Organization__c</th>\n",
       "      <th>Starting_Date__c</th>\n",
       "    </tr>\n",
       "  </thead>\n",
       "  <tbody>\n",
       "    <tr>\n",
       "      <th>0</th>\n",
       "      <td>2011-01-30</td>\n",
       "      <td>12.0</td>\n",
       "      <td>5.0</td>\n",
       "      <td>a0w5w000009Q7CuAAK</td>\n",
       "      <td>NaN</td>\n",
       "      <td>2010-09-05</td>\n",
       "    </tr>\n",
       "    <tr>\n",
       "      <th>1</th>\n",
       "      <td>2018-11-30</td>\n",
       "      <td>5.0</td>\n",
       "      <td>1.0</td>\n",
       "      <td>a0w5w000009Q7CvAAK</td>\n",
       "      <td>a0r5w00000V42iyAAB</td>\n",
       "      <td>2018-11-29</td>\n",
       "    </tr>\n",
       "    <tr>\n",
       "      <th>2</th>\n",
       "      <td>2019-11-28</td>\n",
       "      <td>39.0</td>\n",
       "      <td>3.0</td>\n",
       "      <td>a0w5w000009Q7CwAAK</td>\n",
       "      <td>a0r5w00000V42iyAAB</td>\n",
       "      <td>2019-11-04</td>\n",
       "    </tr>\n",
       "    <tr>\n",
       "      <th>3</th>\n",
       "      <td>2017-10-29</td>\n",
       "      <td>44.0</td>\n",
       "      <td>2.0</td>\n",
       "      <td>a0w5w000009Q7CxAAK</td>\n",
       "      <td>a0r5w00000V42cCAAR</td>\n",
       "      <td>2017-10-21</td>\n",
       "    </tr>\n",
       "    <tr>\n",
       "      <th>4</th>\n",
       "      <td>2018-01-21</td>\n",
       "      <td>18.0</td>\n",
       "      <td>1.0</td>\n",
       "      <td>a0w5w000009Q7CyAAK</td>\n",
       "      <td>a0r5w00000V42cCAAR</td>\n",
       "      <td>2018-01-15</td>\n",
       "    </tr>\n",
       "  </tbody>\n",
       "</table>\n",
       "</div>"
      ],
      "text/plain": [
       "  Ending_Date__c  Estimated_cluster_size__c  Estimated_number_of_tools__c  \\\n",
       "0     2011-01-30                       12.0                           5.0   \n",
       "1     2018-11-30                        5.0                           1.0   \n",
       "2     2019-11-28                       39.0                           3.0   \n",
       "3     2017-10-29                       44.0                           2.0   \n",
       "4     2018-01-21                       18.0                           1.0   \n",
       "\n",
       "                   Id     Organization__c Starting_Date__c  \n",
       "0  a0w5w000009Q7CuAAK                 NaN       2010-09-05  \n",
       "1  a0w5w000009Q7CvAAK  a0r5w00000V42iyAAB       2018-11-29  \n",
       "2  a0w5w000009Q7CwAAK  a0r5w00000V42iyAAB       2019-11-04  \n",
       "3  a0w5w000009Q7CxAAK  a0r5w00000V42cCAAR       2017-10-21  \n",
       "4  a0w5w000009Q7CyAAK  a0r5w00000V42cCAAR       2018-01-15  "
      ]
     },
     "metadata": {},
     "output_type": "display_data"
    }
   ],
   "source": [
    "display(tool_cluster_df.head(5))"
   ]
  },
  {
   "cell_type": "code",
   "execution_count": 7,
   "metadata": {},
   "outputs": [
    {
     "name": "stdout",
     "output_type": "stream",
     "text": [
      "[Success] Bulk job creation successful. Job ID = 7505w00000TmdEiAAJ\n",
      "{\"id\":\"7505w00000TmdEiAAJ\",\"operation\":\"query\",\"object\":\"ContactToolClusterAssociation__c\",\"createdById\":\"0055w00000DM5bOAAT\",\"createdDate\":\"2021-01-22T19:29:04.000+0000\",\"systemModstamp\":\"2021-01-22T19:29:04.000+0000\",\"state\":\"UploadComplete\",\"concurrencyMode\":\"Parallel\",\"contentType\":\"CSV\",\"apiVersion\":47.0,\"jobType\":\"V2Query\",\"lineEnding\":\"LF\",\"columnDelimiter\":\"COMMA\",\"retries\":0,\"totalProcessingTime\":0}\n",
      "{\"id\":\"7505w00000TmdEiAAJ\",\"operation\":\"query\",\"object\":\"ContactToolClusterAssociation__c\",\"createdById\":\"0055w00000DM5bOAAT\",\"createdDate\":\"2021-01-22T19:29:04.000+0000\",\"systemModstamp\":\"2021-01-22T19:29:14.000+0000\",\"state\":\"JobComplete\",\"concurrencyMode\":\"Parallel\",\"contentType\":\"CSV\",\"apiVersion\":47.0,\"jobType\":\"V2Query\",\"lineEnding\":\"LF\",\"columnDelimiter\":\"COMMA\",\"numberRecordsProcessed\":92474,\"retries\":0,\"totalProcessingTime\":5330}\n",
      "[Success] Bulk job completed successfully.\n"
     ]
    }
   ],
   "source": [
    "## pull the list of contacts within each cluster\n",
    "contacts_in_cluster_df = db_1.query_data('Select Contact__c, Tool_Usage_Cluster__c from ContactToolClusterAssociation__c')"
   ]
  },
  {
   "cell_type": "code",
   "execution_count": 8,
   "metadata": {},
   "outputs": [
    {
     "data": {
      "text/html": [
       "<div>\n",
       "<style scoped>\n",
       "    .dataframe tbody tr th:only-of-type {\n",
       "        vertical-align: middle;\n",
       "    }\n",
       "\n",
       "    .dataframe tbody tr th {\n",
       "        vertical-align: top;\n",
       "    }\n",
       "\n",
       "    .dataframe thead th {\n",
       "        text-align: right;\n",
       "    }\n",
       "</style>\n",
       "<table border=\"1\" class=\"dataframe\">\n",
       "  <thead>\n",
       "    <tr style=\"text-align: right;\">\n",
       "      <th></th>\n",
       "      <th>Contact__c</th>\n",
       "      <th>Tool_Usage_Cluster__c</th>\n",
       "    </tr>\n",
       "  </thead>\n",
       "  <tbody>\n",
       "    <tr>\n",
       "      <th>0</th>\n",
       "      <td>0035w000034I3dJAAS</td>\n",
       "      <td>a0w5w000009Q7ufAAC</td>\n",
       "    </tr>\n",
       "    <tr>\n",
       "      <th>1</th>\n",
       "      <td>0035w000034I3giAAC</td>\n",
       "      <td>a0w5w000009Q7ufAAC</td>\n",
       "    </tr>\n",
       "    <tr>\n",
       "      <th>2</th>\n",
       "      <td>0035w000034I3fOAAS</td>\n",
       "      <td>a0w5w000009Q7ufAAC</td>\n",
       "    </tr>\n",
       "    <tr>\n",
       "      <th>3</th>\n",
       "      <td>0035w000031VzX2AAK</td>\n",
       "      <td>a0w5w000009Q7ufAAC</td>\n",
       "    </tr>\n",
       "    <tr>\n",
       "      <th>4</th>\n",
       "      <td>0035w000034I3ffAAC</td>\n",
       "      <td>a0w5w000009Q7ufAAC</td>\n",
       "    </tr>\n",
       "  </tbody>\n",
       "</table>\n",
       "</div>"
      ],
      "text/plain": [
       "           Contact__c Tool_Usage_Cluster__c\n",
       "0  0035w000034I3dJAAS    a0w5w000009Q7ufAAC\n",
       "1  0035w000034I3giAAC    a0w5w000009Q7ufAAC\n",
       "2  0035w000034I3fOAAS    a0w5w000009Q7ufAAC\n",
       "3  0035w000031VzX2AAK    a0w5w000009Q7ufAAC\n",
       "4  0035w000034I3ffAAC    a0w5w000009Q7ufAAC"
      ]
     },
     "metadata": {},
     "output_type": "display_data"
    }
   ],
   "source": [
    "display(contacts_in_cluster_df.head(5))"
   ]
  },
  {
   "cell_type": "code",
   "execution_count": 9,
   "metadata": {},
   "outputs": [
    {
     "data": {
      "text/plain": [
       "(4987, 2)"
      ]
     },
     "execution_count": 9,
     "metadata": {},
     "output_type": "execute_result"
    }
   ],
   "source": [
    "contacts_in_cluster_df.shape"
   ]
  },
  {
   "cell_type": "code",
   "execution_count": 10,
   "metadata": {},
   "outputs": [
    {
     "name": "stdout",
     "output_type": "stream",
     "text": [
      "2021-01-22 14:29:16.207001\n"
     ]
    }
   ],
   "source": [
    "## filter by dates, keep only most recent two years worth of data\n",
    "import datetime\n",
    "print(datetime.datetime.now())"
   ]
  },
  {
   "cell_type": "code",
   "execution_count": 11,
   "metadata": {},
   "outputs": [],
   "source": [
    "now = datetime.datetime.now() \n",
    "date_diff = datetime.timedelta(days=365*2)\n",
    "earliest = now-date_diff"
   ]
  },
  {
   "cell_type": "code",
   "execution_count": 12,
   "metadata": {},
   "outputs": [],
   "source": [
    "earliest_string = '{year}-{month}-{day}'.format(year=earliest.year, month = earliest.month, day = earliest.day)\n",
    "earliest_date = datetime.datetime.strptime(earliest_string,'%Y-%m-%d')"
   ]
  },
  {
   "cell_type": "code",
   "execution_count": 13,
   "metadata": {},
   "outputs": [
    {
     "name": "stdout",
     "output_type": "stream",
     "text": [
      "954\n"
     ]
    }
   ],
   "source": [
    "row_indexes = []\n",
    "starting = tool_cluster_df['Starting_Date__c'].to_list()\n",
    "#ending = tool_cluster_df['Ending_Date__c'].to_list()\n",
    "\n",
    "#check starting dates 2 years\n",
    "for i,j in enumerate(starting):\n",
    "    j = datetime.datetime.strptime(j,'%Y-%m-%d')\n",
    "    \n",
    "    if j >= earliest:\n",
    "        row_indexes.append(i)\n",
    "\n",
    "print(len(row_indexes))"
   ]
  },
  {
   "cell_type": "code",
   "execution_count": 14,
   "metadata": {},
   "outputs": [
    {
     "data": {
      "text/html": [
       "<div>\n",
       "<style scoped>\n",
       "    .dataframe tbody tr th:only-of-type {\n",
       "        vertical-align: middle;\n",
       "    }\n",
       "\n",
       "    .dataframe tbody tr th {\n",
       "        vertical-align: top;\n",
       "    }\n",
       "\n",
       "    .dataframe thead th {\n",
       "        text-align: right;\n",
       "    }\n",
       "</style>\n",
       "<table border=\"1\" class=\"dataframe\">\n",
       "  <thead>\n",
       "    <tr style=\"text-align: right;\">\n",
       "      <th></th>\n",
       "      <th>Ending_Date__c</th>\n",
       "      <th>Estimated_cluster_size__c</th>\n",
       "      <th>Estimated_number_of_tools__c</th>\n",
       "      <th>Id</th>\n",
       "      <th>Organization__c</th>\n",
       "      <th>Starting_Date__c</th>\n",
       "    </tr>\n",
       "  </thead>\n",
       "  <tbody>\n",
       "    <tr>\n",
       "      <th>0</th>\n",
       "      <td>2019-11-28</td>\n",
       "      <td>39.0</td>\n",
       "      <td>3.0</td>\n",
       "      <td>a0w5w000009Q7CwAAK</td>\n",
       "      <td>a0r5w00000V42iyAAB</td>\n",
       "      <td>2019-11-04</td>\n",
       "    </tr>\n",
       "    <tr>\n",
       "      <th>1</th>\n",
       "      <td>2019-11-15</td>\n",
       "      <td>42.0</td>\n",
       "      <td>3.0</td>\n",
       "      <td>a0w5w000009Q7D4AAK</td>\n",
       "      <td>a0r5w00000V42cCAAR</td>\n",
       "      <td>2019-08-19</td>\n",
       "    </tr>\n",
       "    <tr>\n",
       "      <th>2</th>\n",
       "      <td>2019-02-24</td>\n",
       "      <td>9.0</td>\n",
       "      <td>1.0</td>\n",
       "      <td>a0w5w000009Q7ECAA0</td>\n",
       "      <td>a0r5w00000V43WSAAZ</td>\n",
       "      <td>2019-02-20</td>\n",
       "    </tr>\n",
       "    <tr>\n",
       "      <th>3</th>\n",
       "      <td>2019-08-20</td>\n",
       "      <td>12.0</td>\n",
       "      <td>2.0</td>\n",
       "      <td>a0w5w000009Q7EDAA0</td>\n",
       "      <td>a0r5w00000V42yLAAR</td>\n",
       "      <td>2019-08-03</td>\n",
       "    </tr>\n",
       "    <tr>\n",
       "      <th>4</th>\n",
       "      <td>2020-01-29</td>\n",
       "      <td>16.0</td>\n",
       "      <td>6.0</td>\n",
       "      <td>a0w5w000009Q7EEAA0</td>\n",
       "      <td>a0r5w00000V42c1AAB</td>\n",
       "      <td>2019-10-05</td>\n",
       "    </tr>\n",
       "  </tbody>\n",
       "</table>\n",
       "</div>"
      ],
      "text/plain": [
       "  Ending_Date__c  Estimated_cluster_size__c  Estimated_number_of_tools__c  \\\n",
       "0     2019-11-28                       39.0                           3.0   \n",
       "1     2019-11-15                       42.0                           3.0   \n",
       "2     2019-02-24                        9.0                           1.0   \n",
       "3     2019-08-20                       12.0                           2.0   \n",
       "4     2020-01-29                       16.0                           6.0   \n",
       "\n",
       "                   Id     Organization__c Starting_Date__c  \n",
       "0  a0w5w000009Q7CwAAK  a0r5w00000V42iyAAB       2019-11-04  \n",
       "1  a0w5w000009Q7D4AAK  a0r5w00000V42cCAAR       2019-08-19  \n",
       "2  a0w5w000009Q7ECAA0  a0r5w00000V43WSAAZ       2019-02-20  \n",
       "3  a0w5w000009Q7EDAA0  a0r5w00000V42yLAAR       2019-08-03  \n",
       "4  a0w5w000009Q7EEAA0  a0r5w00000V42c1AAB       2019-10-05  "
      ]
     },
     "metadata": {},
     "output_type": "display_data"
    }
   ],
   "source": [
    "tool_cluster_df2 = tool_cluster_df.iloc[row_indexes,:].reset_index().drop(columns='index')\n",
    "display(tool_cluster_df2.head(5))"
   ]
  },
  {
   "cell_type": "code",
   "execution_count": 15,
   "metadata": {},
   "outputs": [],
   "source": [
    "interested_ids = tool_cluster_df2['Id'].to_list()"
   ]
  },
  {
   "cell_type": "code",
   "execution_count": 16,
   "metadata": {},
   "outputs": [
    {
     "name": "stdout",
     "output_type": "stream",
     "text": [
      "496\n"
     ]
    }
   ],
   "source": [
    "## filter contacts_in_cluster_df to keep only those contacts with a valid cluster ID\n",
    "cluster_indexes = []\n",
    "for i,j in enumerate(contacts_in_cluster_df['Tool_Usage_Cluster__c'].to_list()):\n",
    "    if j in interested_ids:\n",
    "        cluster_indexes.append(i)\n",
    "print(len(cluster_indexes))"
   ]
  },
  {
   "cell_type": "code",
   "execution_count": 17,
   "metadata": {},
   "outputs": [
    {
     "data": {
      "text/html": [
       "<div>\n",
       "<style scoped>\n",
       "    .dataframe tbody tr th:only-of-type {\n",
       "        vertical-align: middle;\n",
       "    }\n",
       "\n",
       "    .dataframe tbody tr th {\n",
       "        vertical-align: top;\n",
       "    }\n",
       "\n",
       "    .dataframe thead th {\n",
       "        text-align: right;\n",
       "    }\n",
       "</style>\n",
       "<table border=\"1\" class=\"dataframe\">\n",
       "  <thead>\n",
       "    <tr style=\"text-align: right;\">\n",
       "      <th></th>\n",
       "      <th>Contact__c</th>\n",
       "      <th>Tool_Usage_Cluster__c</th>\n",
       "    </tr>\n",
       "  </thead>\n",
       "  <tbody>\n",
       "    <tr>\n",
       "      <th>0</th>\n",
       "      <td>0035w000034JwAVAA0</td>\n",
       "      <td>a0w5w00000A8NYdAAN</td>\n",
       "    </tr>\n",
       "    <tr>\n",
       "      <th>1</th>\n",
       "      <td>0035w00003ECPbqAAH</td>\n",
       "      <td>a0w5w00000A8NYdAAN</td>\n",
       "    </tr>\n",
       "  </tbody>\n",
       "</table>\n",
       "</div>"
      ],
      "text/plain": [
       "           Contact__c Tool_Usage_Cluster__c\n",
       "0  0035w000034JwAVAA0    a0w5w00000A8NYdAAN\n",
       "1  0035w00003ECPbqAAH    a0w5w00000A8NYdAAN"
      ]
     },
     "metadata": {},
     "output_type": "display_data"
    }
   ],
   "source": [
    "contacts_in_cluster_df2 = contacts_in_cluster_df.iloc[cluster_indexes,:].reset_index().drop(columns='index')\n",
    "display(contacts_in_cluster_df2.head(2))"
   ]
  },
  {
   "cell_type": "code",
   "execution_count": 18,
   "metadata": {},
   "outputs": [
    {
     "name": "stdout",
     "output_type": "stream",
     "text": [
      "[Success] Bulk job creation successful. Job ID = 7505w00000TmdEnAAJ\n",
      "{\"id\":\"7505w00000TmdEnAAJ\",\"operation\":\"query\",\"object\":\"Contact\",\"createdById\":\"0055w00000DM5bOAAT\",\"createdDate\":\"2021-01-22T19:29:17.000+0000\",\"systemModstamp\":\"2021-01-22T19:29:18.000+0000\",\"state\":\"InProgress\",\"concurrencyMode\":\"Parallel\",\"contentType\":\"CSV\",\"apiVersion\":47.0,\"jobType\":\"V2Query\",\"lineEnding\":\"LF\",\"columnDelimiter\":\"COMMA\",\"numberRecordsProcessed\":0,\"retries\":0,\"totalProcessingTime\":0}\n",
      "{\"id\":\"7505w00000TmdEnAAJ\",\"operation\":\"query\",\"object\":\"Contact\",\"createdById\":\"0055w00000DM5bOAAT\",\"createdDate\":\"2021-01-22T19:29:17.000+0000\",\"systemModstamp\":\"2021-01-22T19:29:18.000+0000\",\"state\":\"InProgress\",\"concurrencyMode\":\"Parallel\",\"contentType\":\"CSV\",\"apiVersion\":47.0,\"jobType\":\"V2Query\",\"lineEnding\":\"LF\",\"columnDelimiter\":\"COMMA\",\"numberRecordsProcessed\":0,\"retries\":0,\"totalProcessingTime\":0}\n",
      "{\"id\":\"7505w00000TmdEnAAJ\",\"operation\":\"query\",\"object\":\"Contact\",\"createdById\":\"0055w00000DM5bOAAT\",\"createdDate\":\"2021-01-22T19:29:17.000+0000\",\"systemModstamp\":\"2021-01-22T19:29:32.000+0000\",\"state\":\"JobComplete\",\"concurrencyMode\":\"Parallel\",\"contentType\":\"CSV\",\"apiVersion\":47.0,\"jobType\":\"V2Query\",\"lineEnding\":\"LF\",\"columnDelimiter\":\"COMMA\",\"numberRecordsProcessed\":236479,\"retries\":0,\"totalProcessingTime\":13235}\n",
      "[Success] Bulk job completed successfully.\n"
     ]
    }
   ],
   "source": [
    "# pull contacts from SF to obtain their nanohub usernames\n",
    "#earliest_string_sf = '{year}-{month}-{day}'.format(year=earliest.year, month = earliest.month, day = earliest.day)\n",
    "contacts_df = db_1.query_data('Select Id, nanoHUB_username__c,nanoHUB_last_active_date__c from Contact') #\\\n",
    "    #where nanoHUB_last_active_date__c >='+earliest_string_sf)"
   ]
  },
  {
   "cell_type": "code",
   "execution_count": 19,
   "metadata": {},
   "outputs": [
    {
     "name": "stdout",
     "output_type": "stream",
     "text": [
      "(229720, 3)\n",
      "<bound method NDFrame.head of                         Id nanoHUB_last_active_date__c nanoHUB_username__c\n",
      "0       0035w000031Vsp1AAC                  2014-11-13             hubrepo\n",
      "1       0035w000031Vsp2AAC                  2008-11-19             support\n",
      "2       0035w000031Vsp3AAC                  2020-02-14            gridstat\n",
      "3       0035w000031Vsp4AAC                  2008-11-11                 ncn\n",
      "4       0035w000031Vsp5AAC                  2014-06-26             nanohub\n",
      "...                    ...                         ...                 ...\n",
      "236474  0035w00003KsD0DAAV                  2021-01-22             kim77ky\n",
      "236475  0035w00003KsD0EAAV                  2021-01-22       reddykusuma33\n",
      "236476  0035w00003KsD0FAAV                  2021-01-22         2017ceb1016\n",
      "236477  0035w00003KsD0GAAV                  2021-01-22    ayushisharma0825\n",
      "236478  0035w00003KsD0HAAV                  2021-01-22       celebritynews\n",
      "\n",
      "[229720 rows x 3 columns]>\n"
     ]
    }
   ],
   "source": [
    "contacts_df = contacts_df.dropna()\n",
    "print(contacts_df.shape)\n",
    "print(contacts_df.head)"
   ]
  },
  {
   "cell_type": "code",
   "execution_count": 20,
   "metadata": {},
   "outputs": [],
   "source": [
    "contact_sf_indexes =[]\n",
    "for i,j in enumerate(contacts_df['nanoHUB_last_active_date__c'].to_list()):\n",
    "    if datetime.datetime.strptime(j,'%Y-%m-%d') >= earliest_date:\n",
    "        contact_sf_indexes.append(i)"
   ]
  },
  {
   "cell_type": "code",
   "execution_count": 21,
   "metadata": {},
   "outputs": [
    {
     "data": {
      "text/plain": [
       "61357"
      ]
     },
     "execution_count": 21,
     "metadata": {},
     "output_type": "execute_result"
    }
   ],
   "source": [
    "len(contact_sf_indexes)"
   ]
  },
  {
   "cell_type": "code",
   "execution_count": 22,
   "metadata": {},
   "outputs": [
    {
     "data": {
      "text/html": [
       "<div>\n",
       "<style scoped>\n",
       "    .dataframe tbody tr th:only-of-type {\n",
       "        vertical-align: middle;\n",
       "    }\n",
       "\n",
       "    .dataframe tbody tr th {\n",
       "        vertical-align: top;\n",
       "    }\n",
       "\n",
       "    .dataframe thead th {\n",
       "        text-align: right;\n",
       "    }\n",
       "</style>\n",
       "<table border=\"1\" class=\"dataframe\">\n",
       "  <thead>\n",
       "    <tr style=\"text-align: right;\">\n",
       "      <th></th>\n",
       "      <th>Id</th>\n",
       "      <th>nanoHUB_last_active_date__c</th>\n",
       "      <th>nanoHUB_username__c</th>\n",
       "    </tr>\n",
       "  </thead>\n",
       "  <tbody>\n",
       "    <tr>\n",
       "      <th>0</th>\n",
       "      <td>0035w000031Vsp3AAC</td>\n",
       "      <td>2020-02-14</td>\n",
       "      <td>gridstat</td>\n",
       "    </tr>\n",
       "    <tr>\n",
       "      <th>1</th>\n",
       "      <td>0035w000031Vt9BAAS</td>\n",
       "      <td>2020-12-08</td>\n",
       "      <td>sheelan</td>\n",
       "    </tr>\n",
       "  </tbody>\n",
       "</table>\n",
       "</div>"
      ],
      "text/plain": [
       "                   Id nanoHUB_last_active_date__c nanoHUB_username__c\n",
       "0  0035w000031Vsp3AAC                  2020-02-14            gridstat\n",
       "1  0035w000031Vt9BAAS                  2020-12-08             sheelan"
      ]
     },
     "metadata": {},
     "output_type": "display_data"
    }
   ],
   "source": [
    "contacts_df2 = contacts_df.iloc[contact_sf_indexes,:].reset_index().drop(columns='index')\n",
    "display(contacts_df2.head(2))"
   ]
  },
  {
   "cell_type": "code",
   "execution_count": null,
   "metadata": {},
   "outputs": [],
   "source": []
  },
  {
   "cell_type": "markdown",
   "metadata": {},
   "source": [
    "## algorithm\n",
    "    1. for each week, pull toolstart dataframe from db2\n",
    "    2. from usernames get ids\n",
    "    3. from ids see if they belong to some cluster\n",
    "    4. if yes, record (increment) the simulation use and the person as a novel individual"
   ]
  },
  {
   "cell_type": "code",
   "execution_count": null,
   "metadata": {},
   "outputs": [],
   "source": []
  },
  {
   "cell_type": "code",
   "execution_count": 23,
   "metadata": {},
   "outputs": [
    {
     "name": "stdout",
     "output_type": "stream",
     "text": [
      "2021-01-13 14:29:16.220962\n"
     ]
    }
   ],
   "source": [
    "## filter the starting and ending dates into weeks\n",
    "week = datetime.timedelta(days=7) #a week\n",
    "\n",
    "## build dataframe from earliest date all the way to the end\n",
    "## the end is whatever is left + the previous week\n",
    "ending_week = (365*2)%7 + 7 #timedelta this\n",
    "ending_week_start = now-datetime.timedelta(days=ending_week)\n",
    "print(ending_week_start)"
   ]
  },
  {
   "cell_type": "code",
   "execution_count": 24,
   "metadata": {},
   "outputs": [],
   "source": [
    "week_construct = int(365*2/7)+1\n",
    "\n",
    "# build dataframe\n",
    "weekly_df = pd.DataFrame(columns=['Week Start','Number_Unique_Institutions','Number_Unique_Users',\\\n",
    "                                  'Number_Unique_Classes'])"
   ]
  },
  {
   "cell_type": "code",
   "execution_count": 25,
   "metadata": {},
   "outputs": [
    {
     "name": "stdout",
     "output_type": "stream",
     "text": [
      "['2019-1-30', '2019-2-6']\n",
      "['2021-1-20', '2021-1-27']\n"
     ]
    }
   ],
   "source": [
    "# build week start\n",
    "week_start = []\n",
    "\n",
    "temp = earliest_date+week\n",
    "for i,j in enumerate(range(week_construct)):\n",
    "    if i == 0:\n",
    "        temp = earliest_date+week\n",
    "    else:\n",
    "        temp += week\n",
    "    temp_string = '{year}-{month}-{day}'.format(year=temp.year, month = temp.month, day = temp.day)\n",
    "    week_start.append(temp_string)    \n",
    "    \n",
    "print(week_start[:2])\n",
    "print(week_start[-2:])"
   ]
  },
  {
   "cell_type": "code",
   "execution_count": 26,
   "metadata": {},
   "outputs": [
    {
     "data": {
      "text/html": [
       "<div>\n",
       "<style scoped>\n",
       "    .dataframe tbody tr th:only-of-type {\n",
       "        vertical-align: middle;\n",
       "    }\n",
       "\n",
       "    .dataframe tbody tr th {\n",
       "        vertical-align: top;\n",
       "    }\n",
       "\n",
       "    .dataframe thead th {\n",
       "        text-align: right;\n",
       "    }\n",
       "</style>\n",
       "<table border=\"1\" class=\"dataframe\">\n",
       "  <thead>\n",
       "    <tr style=\"text-align: right;\">\n",
       "      <th></th>\n",
       "      <th>Week Start</th>\n",
       "      <th>Number_Unique_Institutions</th>\n",
       "      <th>Number_Unique_Users</th>\n",
       "      <th>Number_Unique_Classes</th>\n",
       "      <th>Number_Simulations</th>\n",
       "    </tr>\n",
       "  </thead>\n",
       "  <tbody>\n",
       "    <tr>\n",
       "      <th>0</th>\n",
       "      <td>2019-1-30</td>\n",
       "      <td>0</td>\n",
       "      <td>0</td>\n",
       "      <td>0</td>\n",
       "      <td>0</td>\n",
       "    </tr>\n",
       "    <tr>\n",
       "      <th>1</th>\n",
       "      <td>2019-2-6</td>\n",
       "      <td>0</td>\n",
       "      <td>0</td>\n",
       "      <td>0</td>\n",
       "      <td>0</td>\n",
       "    </tr>\n",
       "  </tbody>\n",
       "</table>\n",
       "</div>"
      ],
      "text/plain": [
       "  Week Start  Number_Unique_Institutions  Number_Unique_Users  \\\n",
       "0  2019-1-30                           0                    0   \n",
       "1   2019-2-6                           0                    0   \n",
       "\n",
       "   Number_Unique_Classes  Number_Simulations  \n",
       "0                      0                   0  \n",
       "1                      0                   0  "
      ]
     },
     "metadata": {},
     "output_type": "display_data"
    }
   ],
   "source": [
    "weekly_df['Week Start'] = week_start\n",
    "weekly_df['Number_Unique_Institutions'] = 0\n",
    "weekly_df['Number_Unique_Users'] = 0\n",
    "weekly_df['Number_Unique_Classes'] = 0\n",
    "weekly_df['Number_Simulations'] = 0\n",
    "display(weekly_df.head(2))"
   ]
  },
  {
   "cell_type": "code",
   "execution_count": 27,
   "metadata": {},
   "outputs": [
    {
     "data": {
      "text/html": [
       "<div>\n",
       "<style scoped>\n",
       "    .dataframe tbody tr th:only-of-type {\n",
       "        vertical-align: middle;\n",
       "    }\n",
       "\n",
       "    .dataframe tbody tr th {\n",
       "        vertical-align: top;\n",
       "    }\n",
       "\n",
       "    .dataframe thead th {\n",
       "        text-align: right;\n",
       "    }\n",
       "</style>\n",
       "<table border=\"1\" class=\"dataframe\">\n",
       "  <thead>\n",
       "    <tr style=\"text-align: right;\">\n",
       "      <th></th>\n",
       "      <th>Ending_Date__c</th>\n",
       "      <th>Estimated_cluster_size__c</th>\n",
       "      <th>Estimated_number_of_tools__c</th>\n",
       "      <th>Id</th>\n",
       "      <th>Organization__c</th>\n",
       "      <th>Starting_Date__c</th>\n",
       "    </tr>\n",
       "  </thead>\n",
       "  <tbody>\n",
       "    <tr>\n",
       "      <th>0</th>\n",
       "      <td>2019-11-28</td>\n",
       "      <td>39.0</td>\n",
       "      <td>3.0</td>\n",
       "      <td>a0w5w000009Q7CwAAK</td>\n",
       "      <td>a0r5w00000V42iyAAB</td>\n",
       "      <td>2019-11-04</td>\n",
       "    </tr>\n",
       "    <tr>\n",
       "      <th>1</th>\n",
       "      <td>2019-11-15</td>\n",
       "      <td>42.0</td>\n",
       "      <td>3.0</td>\n",
       "      <td>a0w5w000009Q7D4AAK</td>\n",
       "      <td>a0r5w00000V42cCAAR</td>\n",
       "      <td>2019-08-19</td>\n",
       "    </tr>\n",
       "  </tbody>\n",
       "</table>\n",
       "</div>"
      ],
      "text/plain": [
       "  Ending_Date__c  Estimated_cluster_size__c  Estimated_number_of_tools__c  \\\n",
       "0     2019-11-28                       39.0                           3.0   \n",
       "1     2019-11-15                       42.0                           3.0   \n",
       "\n",
       "                   Id     Organization__c Starting_Date__c  \n",
       "0  a0w5w000009Q7CwAAK  a0r5w00000V42iyAAB       2019-11-04  \n",
       "1  a0w5w000009Q7D4AAK  a0r5w00000V42cCAAR       2019-08-19  "
      ]
     },
     "metadata": {},
     "output_type": "display_data"
    }
   ],
   "source": [
    "# use the filter\n",
    "new_df = tool_cluster_df.iloc[row_indexes,:].reset_index().drop(columns='index')\n",
    "display(new_df.head(2))"
   ]
  },
  {
   "cell_type": "code",
   "execution_count": 28,
   "metadata": {},
   "outputs": [],
   "source": [
    "ws_dt = datetime.datetime.strptime('2019-11-28','%Y-%m-%d')\n",
    "\n",
    "ws_dt1 = datetime.datetime.strptime('2019-10-28','%Y-%m-%d')\n",
    "ws_dt2 = datetime.datetime.strptime('2019-12-28','%Y-%m-%d')"
   ]
  },
  {
   "cell_type": "code",
   "execution_count": 29,
   "metadata": {},
   "outputs": [],
   "source": [
    "# search \n",
    "clusters_in_week = {}\n",
    "for i,j in enumerate(week_start):\n",
    "    clusters_in_week_inner = []\n",
    "    \n",
    "    # convert to datetime\n",
    "    ws_dt = datetime.datetime.strptime(j,'%Y-%m-%d')\n",
    "    \n",
    "    org_list = [] #to keep track of unique orgs\n",
    "    \n",
    "    # iterate through dataframe\n",
    "    for k,h in enumerate(new_df['Starting_Date__c'].to_list()): \n",
    "        # case 1 ()[], case 2 []()\n",
    "        end_date_dt = datetime.datetime.strptime(new_df.iloc[k,0],'%Y-%m-%d')\n",
    "        start_date_dt = datetime.datetime.strptime(h,'%Y-%m-%d')\n",
    "        \n",
    "        if end_date_dt >= ws_dt and start_date_dt <= (ws_dt+week):\n",
    "        # demorgan's law end_date_dt < ws_dt or start_date_dt > (ws_dt+week): \n",
    "            # add information to weekly_df\n",
    "            #weekly_df.iloc[i,2] += new_df.iloc[k,1] ## this guy double counted\n",
    "            weekly_df.iloc[i,3] += 1\n",
    "        \n",
    "            org_list.append(new_df.iloc[k,-2])\n",
    "            \n",
    "            clusters_in_week_inner.append(new_df.iloc[k,-3])\n",
    "            \n",
    "    org_list = set(org_list)\n",
    "    weekly_df.iloc[i,1] = len(org_list)\n",
    "    clusters_in_week[i] = clusters_in_week_inner"
   ]
  },
  {
   "cell_type": "code",
   "execution_count": 30,
   "metadata": {},
   "outputs": [
    {
     "data": {
      "text/html": [
       "<div>\n",
       "<style scoped>\n",
       "    .dataframe tbody tr th:only-of-type {\n",
       "        vertical-align: middle;\n",
       "    }\n",
       "\n",
       "    .dataframe tbody tr th {\n",
       "        vertical-align: top;\n",
       "    }\n",
       "\n",
       "    .dataframe thead th {\n",
       "        text-align: right;\n",
       "    }\n",
       "</style>\n",
       "<table border=\"1\" class=\"dataframe\">\n",
       "  <thead>\n",
       "    <tr style=\"text-align: right;\">\n",
       "      <th></th>\n",
       "      <th>Week Start</th>\n",
       "      <th>Number_Unique_Institutions</th>\n",
       "      <th>Number_Unique_Users</th>\n",
       "      <th>Number_Unique_Classes</th>\n",
       "      <th>Number_Simulations</th>\n",
       "    </tr>\n",
       "  </thead>\n",
       "  <tbody>\n",
       "    <tr>\n",
       "      <th>0</th>\n",
       "      <td>2019-1-30</td>\n",
       "      <td>13</td>\n",
       "      <td>0</td>\n",
       "      <td>18</td>\n",
       "      <td>0</td>\n",
       "    </tr>\n",
       "    <tr>\n",
       "      <th>1</th>\n",
       "      <td>2019-2-6</td>\n",
       "      <td>16</td>\n",
       "      <td>0</td>\n",
       "      <td>24</td>\n",
       "      <td>0</td>\n",
       "    </tr>\n",
       "    <tr>\n",
       "      <th>2</th>\n",
       "      <td>2019-2-13</td>\n",
       "      <td>20</td>\n",
       "      <td>0</td>\n",
       "      <td>27</td>\n",
       "      <td>0</td>\n",
       "    </tr>\n",
       "    <tr>\n",
       "      <th>3</th>\n",
       "      <td>2019-2-20</td>\n",
       "      <td>21</td>\n",
       "      <td>0</td>\n",
       "      <td>28</td>\n",
       "      <td>0</td>\n",
       "    </tr>\n",
       "    <tr>\n",
       "      <th>4</th>\n",
       "      <td>2019-2-27</td>\n",
       "      <td>18</td>\n",
       "      <td>0</td>\n",
       "      <td>28</td>\n",
       "      <td>0</td>\n",
       "    </tr>\n",
       "  </tbody>\n",
       "</table>\n",
       "</div>"
      ],
      "text/plain": [
       "  Week Start  Number_Unique_Institutions  Number_Unique_Users  \\\n",
       "0  2019-1-30                          13                    0   \n",
       "1   2019-2-6                          16                    0   \n",
       "2  2019-2-13                          20                    0   \n",
       "3  2019-2-20                          21                    0   \n",
       "4  2019-2-27                          18                    0   \n",
       "\n",
       "   Number_Unique_Classes  Number_Simulations  \n",
       "0                     18                   0  \n",
       "1                     24                   0  \n",
       "2                     27                   0  \n",
       "3                     28                   0  \n",
       "4                     28                   0  "
      ]
     },
     "metadata": {},
     "output_type": "display_data"
    }
   ],
   "source": [
    "display(weekly_df.head(5))"
   ]
  },
  {
   "cell_type": "markdown",
   "metadata": {},
   "source": [
    "### populate number of unique users + number simulations"
   ]
  },
  {
   "cell_type": "code",
   "execution_count": 31,
   "metadata": {},
   "outputs": [],
   "source": [
    "# connect with DB2\n",
    "import sqlalchemy as sql\n",
    "\n",
    "engine = sql.create_engine('mysql+pymysql://%s:%s@127.0.0.1/nanohub_metrics' \\\n",
    "                                               %(sql_login_params['username'], sql_login_params['password']))"
   ]
  },
  {
   "cell_type": "code",
   "execution_count": 32,
   "metadata": {},
   "outputs": [
    {
     "name": "stdout",
     "output_type": "stream",
     "text": [
      "2019-1-30\n",
      "2019-2-6\n"
     ]
    },
    {
     "name": "stderr",
     "output_type": "stream",
     "text": [
      "C:\\Users\\henry\\Anaconda3\\envs\\tf\\lib\\site-packages\\pymysql\\cursors.py:170: Warning: (1292, \"Incorrect datetime value: '1988'\")\n",
      "  result = self._query(query)\n",
      "C:\\Users\\henry\\Anaconda3\\envs\\tf\\lib\\site-packages\\pymysql\\cursors.py:170: Warning: (1292, \"Incorrect datetime value: '2011'\")\n",
      "  result = self._query(query)\n"
     ]
    }
   ],
   "source": [
    "# for each week run a separate sql query\n",
    "for i,j in enumerate(week_start[:1]):#[:-1]):\n",
    "    print(j)\n",
    "    print(week_start[i+1])\n",
    "    sql_query = \"select user, tool from toolstart where datetime between {init_date} and {end_date};\".format(init_date=j,end_date = week_start[i+1])\n",
    "\n",
    "    toolstart_df = pd.read_sql_query(sql_query, engine)    "
   ]
  },
  {
   "cell_type": "code",
   "execution_count": 33,
   "metadata": {},
   "outputs": [
    {
     "data": {
      "text/html": [
       "<div>\n",
       "<style scoped>\n",
       "    .dataframe tbody tr th:only-of-type {\n",
       "        vertical-align: middle;\n",
       "    }\n",
       "\n",
       "    .dataframe tbody tr th {\n",
       "        vertical-align: top;\n",
       "    }\n",
       "\n",
       "    .dataframe thead th {\n",
       "        text-align: right;\n",
       "    }\n",
       "</style>\n",
       "<table border=\"1\" class=\"dataframe\">\n",
       "  <thead>\n",
       "    <tr style=\"text-align: right;\">\n",
       "      <th></th>\n",
       "      <th>user</th>\n",
       "      <th>tool</th>\n",
       "    </tr>\n",
       "  </thead>\n",
       "  <tbody>\n",
       "    <tr>\n",
       "      <th>0</th>\n",
       "      <td>082080112abk</td>\n",
       "      <td>nanowire_r227</td>\n",
       "    </tr>\n",
       "    <tr>\n",
       "      <th>1</th>\n",
       "      <td>aabedin</td>\n",
       "      <td>fettoy_r36</td>\n",
       "    </tr>\n",
       "  </tbody>\n",
       "</table>\n",
       "</div>"
      ],
      "text/plain": [
       "           user           tool\n",
       "0  082080112abk  nanowire_r227\n",
       "1       aabedin     fettoy_r36"
      ]
     },
     "metadata": {},
     "output_type": "display_data"
    }
   ],
   "source": [
    "## filter for empty strings and nans\n",
    "toolstart_df['user'].replace('', pd.np.nan, inplace=True)\n",
    "toolstart_df2 = toolstart_df.dropna()\n",
    "display(toolstart_df2.head(2))"
   ]
  },
  {
   "cell_type": "code",
   "execution_count": 34,
   "metadata": {},
   "outputs": [
    {
     "data": {
      "text/plain": [
       "3710"
      ]
     },
     "execution_count": 34,
     "metadata": {},
     "output_type": "execute_result"
    }
   ],
   "source": [
    "## build set of unique usernames, and get their SF IDs\n",
    "toolstart_df_users = []\n",
    "for i,j in enumerate(toolstart_df2['user'].to_list()):\n",
    "    if j not in toolstart_df_users:\n",
    "        toolstart_df_users.append(j)\n",
    "len(toolstart_df_users)"
   ]
  },
  {
   "cell_type": "code",
   "execution_count": 35,
   "metadata": {},
   "outputs": [],
   "source": [
    "master_sf_username_list = contacts_df['nanoHUB_username__c'].to_list()\n",
    "master_sf_id_list = contacts_df['Id'].to_list()"
   ]
  },
  {
   "cell_type": "code",
   "execution_count": 36,
   "metadata": {},
   "outputs": [],
   "source": [
    "## pull SF ids\n",
    "toolstart_df_user_ids = [] # one-to-one inplace matching to toolstart_df_users\n",
    "\n",
    "desired_toolstart_users = []\n",
    "desired_toolstart_ids = []\n",
    "\n",
    "contacts_in_clusters = contacts_in_cluster_df2['Contact__c'].to_list()\n",
    "for i,j in enumerate(toolstart_df_users):\n",
    "    #toolstart_df_user_ids.append(master_sf_id_list[master_sf_username_list.index(j)])  \n",
    "    \n",
    "    ## check which ids are in clusters\n",
    "    try:\n",
    "        if master_sf_id_list[master_sf_username_list.index(j)] in contacts_in_clusters:\n",
    "            desired_toolstart_users.append(j)    \n",
    "            desired_toolstart_ids.append(master_sf_id_list[master_sf_username_list.index(j)])\n",
    "    except:\n",
    "        garb = 1 #print('user not in SF')\n"
   ]
  },
  {
   "cell_type": "code",
   "execution_count": 37,
   "metadata": {},
   "outputs": [],
   "source": [
    "## was their class at this time? not necessarily\n",
    "## build a filter for these users\n",
    "filtered_desired_toolstart_ids = []\n",
    "filtered_desired_toolstart_users = []\n",
    "\n",
    "weeks_user_directory = ['init']\n",
    "for h,hh in enumerate(clusters_in_week[0]): #hard coded for now\n",
    "    temp = [contacts_in_clusters[m] for m,mm in enumerate(contacts_in_cluster_df2['Tool_Usage_Cluster__c'])\\\n",
    "           if mm == hh]\n",
    "    \n",
    "    weeks_user_directory += (temp)\n",
    "\n",
    "if weeks_user_directory[0] == 'init':\n",
    "    del weeks_user_directory[0]\n",
    "    \n",
    "for i,j in enumerate(desired_toolstart_ids):\n",
    "    if j in weeks_user_directory:\n",
    "        filtered_desired_toolstart_users.append(master_sf_username_list[master_sf_id_list.index(j)])\n",
    "        filtered_desired_toolstart_ids.append(j)\n"
   ]
  },
  {
   "cell_type": "code",
   "execution_count": 38,
   "metadata": {},
   "outputs": [],
   "source": [
    "import re #regex pattern match time"
   ]
  },
  {
   "cell_type": "code",
   "execution_count": 39,
   "metadata": {},
   "outputs": [],
   "source": [
    "## pick out the total simulation usage among these filtered_desired users\n",
    "# sum up instances of toolstart_df2 with said username\n",
    "sim_sum = 0\n",
    "sim_use = toolstart_df2['user'] #each occurence of name indicates one novel use\n",
    "sim_use_string = ''.join(sim_use)\n",
    "\n",
    "for i,j in enumerate(filtered_desired_toolstart_users):\n",
    "    match = re.findall(j,sim_use_string)\n",
    "    sim_sum += len(match)"
   ]
  },
  {
   "cell_type": "code",
   "execution_count": 40,
   "metadata": {},
   "outputs": [
    {
     "data": {
      "text/plain": [
       "0"
      ]
     },
     "execution_count": 40,
     "metadata": {},
     "output_type": "execute_result"
    }
   ],
   "source": [
    "sim_sum"
   ]
  },
  {
   "cell_type": "code",
   "execution_count": 41,
   "metadata": {},
   "outputs": [
    {
     "ename": "NameError",
     "evalue": "name 'match' is not defined",
     "output_type": "error",
     "traceback": [
      "\u001b[1;31m---------------------------------------------------------------------------\u001b[0m",
      "\u001b[1;31mNameError\u001b[0m                                 Traceback (most recent call last)",
      "\u001b[1;32m<ipython-input-41-ac43cdef79f4>\u001b[0m in \u001b[0;36m<module>\u001b[1;34m\u001b[0m\n\u001b[1;32m----> 1\u001b[1;33m \u001b[0mmatch\u001b[0m\u001b[1;33m\u001b[0m\u001b[1;33m\u001b[0m\u001b[0m\n\u001b[0m",
      "\u001b[1;31mNameError\u001b[0m: name 'match' is not defined"
     ]
    }
   ],
   "source": [
    "match"
   ]
  },
  {
   "cell_type": "code",
   "execution_count": null,
   "metadata": {},
   "outputs": [],
   "source": [
    "toolstart_df2['user']"
   ]
  },
  {
   "cell_type": "code",
   "execution_count": null,
   "metadata": {},
   "outputs": [],
   "source": [
    "filtered_desired_toolstart_users"
   ]
  },
  {
   "cell_type": "code",
   "execution_count": null,
   "metadata": {},
   "outputs": [],
   "source": [
    "weeks_user_directory"
   ]
  },
  {
   "cell_type": "code",
   "execution_count": null,
   "metadata": {},
   "outputs": [],
   "source": []
  },
  {
   "cell_type": "code",
   "execution_count": null,
   "metadata": {},
   "outputs": [],
   "source": []
  },
  {
   "cell_type": "code",
   "execution_count": null,
   "metadata": {},
   "outputs": [],
   "source": []
  },
  {
   "cell_type": "code",
   "execution_count": null,
   "metadata": {},
   "outputs": [],
   "source": [
    "print(desired_toolstart_users[:4])\n",
    "print(desired_toolstart_ids[:4])"
   ]
  },
  {
   "cell_type": "code",
   "execution_count": null,
   "metadata": {},
   "outputs": [],
   "source": [
    "print(len(desired_toolstart_users))\n",
    "print(len(desired_toolstart_ids))"
   ]
  },
  {
   "cell_type": "code",
   "execution_count": null,
   "metadata": {},
   "outputs": [],
   "source": []
  },
  {
   "cell_type": "code",
   "execution_count": null,
   "metadata": {},
   "outputs": [],
   "source": [
    "display(toolstart_df.tail(2))\n",
    "print(toolstart_df.shape)"
   ]
  },
  {
   "cell_type": "code",
   "execution_count": null,
   "metadata": {},
   "outputs": [],
   "source": [
    "toolstart_df['user'].replace('', pd.np.nan, inplace=True)\n",
    "toolstart_df2 = toolstart_df.dropna()\n",
    "print(toolstart_df2.shape)\n",
    "display(toolstart_df2.tail(5))"
   ]
  },
  {
   "cell_type": "code",
   "execution_count": null,
   "metadata": {},
   "outputs": [],
   "source": [
    "toolstart_df2.iloc[-1,0]"
   ]
  },
  {
   "cell_type": "code",
   "execution_count": null,
   "metadata": {},
   "outputs": [],
   "source": []
  },
  {
   "cell_type": "code",
   "execution_count": null,
   "metadata": {},
   "outputs": [],
   "source": []
  },
  {
   "cell_type": "code",
   "execution_count": null,
   "metadata": {},
   "outputs": [],
   "source": []
  },
  {
   "cell_type": "code",
   "execution_count": null,
   "metadata": {},
   "outputs": [],
   "source": [
    "weekly_df.to_csv('scorecard.csv')"
   ]
  }
 ],
 "metadata": {
  "kernelspec": {
   "display_name": "Python 3",
   "language": "python",
   "name": "python3"
  },
  "language_info": {
   "codemirror_mode": {
    "name": "ipython",
    "version": 3
   },
   "file_extension": ".py",
   "mimetype": "text/x-python",
   "name": "python",
   "nbconvert_exporter": "python",
   "pygments_lexer": "ipython3",
   "version": "3.7.7"
  }
 },
 "nbformat": 4,
 "nbformat_minor": 4
}
