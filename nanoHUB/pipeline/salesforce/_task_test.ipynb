{
 "cells": [
  {
   "cell_type": "markdown",
   "metadata": {
    "papermill": {
     "duration": 0.010872,
     "end_time": "2021-01-21T06:30:34.666344",
     "exception": false,
     "start_time": "2021-01-21T06:30:34.655472",
     "status": "completed"
    },
    "tags": []
   },
   "source": [
    "# DB2-Salesforce Test"
   ]
  },
  {
   "cell_type": "code",
   "execution_count": 1,
   "metadata": {
    "pycharm": {
     "name": "#%%\n"
    }
   },
   "outputs": [
    {
     "name": "stdout",
     "output_type": "stream",
     "text": [
      "\n",
      "``````````````````````````````````````````````````````````````````````````````````````````````````````````````````````````````````````````````````````\n",
      "```````````````````````````````$$$$$``````````````````````````````````````````````````````````````````````````````````````````````````````````````````\n",
      "`````````````````````````````$$$$`$$$$````````````````````````````````````````````````````````````````````````````````````````````````````````````````\n",
      "`````````````````$$$$$```````$$`````$$$```````````````````````````````````````````````````````````````````````````````````````````````````````````````\n",
      "````````````````$$```$$``````$$$$``$$$````````````````````````````````````````````````````````````````````````````````````````````````````````````````\n",
      "````````````````$$$$$$$```````$$$$$$``````````````````````````````````````````````````````````````````````````````````````````````````````````````````\n",
      "``````$$$$````````$$$$$```````$$$``````$$$$$$`````````````````````````````````````````````````````````````````````````````````````````````````````````\n",
      "````$$$$`$$$$```````$$$$$$$$$$$$$``````$$``$$$````````````````````````````````````````````````````````````````````````````````````````````````````````\n",
      "````$$`````$$$```$$$$$$$$$`$$$$$$$$``$$$$$$$$$````````````````````````````````````````````````````````$$$```````$$$$``$$$```````$$$```$$$$$$$$$$$`````\n",
      "````$$````$$$$``$$$$$``````````$$$$$$$$$$$$$$````````````````````````````````````````````````````````$$$$```````$$$$`$$$$```````$$$$`$$$$$$$$$$$$$$```\n",
      "`````$$$$$$$`$$$$$$```````````````$$$$```````````$$$$$$$``````$$$$$$$$`````$$$$$$$```````$$$$$$$`````$$$$```````$$$$`$$$$```````$$$$`$$$$``````$$$$```\n",
      "``````````````$$$`````$$$$$$$$`````$$$$````````$$$$$$$$$$$``$$$$$$$$$$$``$$$$$$$$$$$```$$$$$$$$$$$```$$$$``````$$$$$`$$$$```````$$$$`$$$$`````$$$$$```\n",
      "``````````````$$$`````$$````$$`````$$$$````````$$$`````$$$$````````$$$$$`$$$$````$$$$`$$$$`````$$$$``$$$$$$$$$$$$$$$`$$$$```````$$$$`$$$$$$$$$$$$$$```\n",
      "`````$$$$$```$$$$`````$$````$$`````$$$$````````$$$`````$$$$``$$$$$$$$$$$`$$$$````$$$$`$$$$`````$$$$``$$$$```````$$$$`$$$$```````$$$$`$$$$``````$$$$$``\n",
      "```$$$``$$$$$$$$$`````$$````$$`````$$$$````````$$$`````$$$$`$$$$````$$$$`$$$$````$$$$`$$$$`````$$$$``$$$$```````$$$$`$$$$$``````$$$``$$$$```````$$$$``\n",
      "````$$$`$$$````$$$````````````````$$$$`````````$$$`````$$$$`$$$$$$$$$$$``$$$$````$$$$``$$$$$$$$$$$```$$$$```````$$$$``$$$$$$$$$$$$$``$$$$$$$$$$$$$$```\n",
      "``````$$$```````$$$$$``````````$$$$$$``````````$$$`````$$$$``$$$$$$$$$```$$$$````$$$$````$$$$$$$`````$$$$```````$$$$````$$$$$$$$$````$$$$$$$$$$$$$````\n",
      "````````````````$$$$$$$$$```$$$$$$$$``````````````````````````````````````````````````````````````````````````````````````````````````````````````````\n",
      "```````````$$$$$$$``$$$$$$$$$$$$```$$$$$$$$```````````````````````````````````````````````````````````````````````````````````````````````````````````\n",
      "````````$$$$$$$$$````````$$$````````$$$``$$$$`````````````````````````````````````````````````````````````````````````````````````````````````````````\n",
      "```````$$$````$$$````````$$$```````$$$````$$$`````````````````````````````````````````````````````````````````````````````````````````````````````````\n",
      "````````$$````$$$``````$$$$$$$``````$$$``$$$$`````````````````````````````````````````````````````````````````````````````````````````````````````````\n",
      "`````````$$$$$$````````$$$``$$````````$$$$````````````````````````````````````````````````````````````````````````````````````````````````````````````\n",
      "````````````````````````$$$$$`````````````````````````````````````````````````````````````````````````````````````````````````````````````````````````\n",
      "``````````````````````````````````````````````````````````````````````````````````````````````````````````````````````````````````````````````````````\n",
      "\n",
      "Serving Students, Researchers & Instructors\n",
      "\n"
     ]
    },
    {
     "name": "stderr",
     "output_type": "stream",
     "text": [
      "2021-06-20 22:44:09,845| WARNING | Could not read SSH configuration file: ~/.ssh/config\n"
     ]
    },
    {
     "name": "stdout",
     "output_type": "stream",
     "text": [
      "2021-06-20 22:44:09,845 - [WARNING] sshtunnel.SSHTunnelForwarder [sshtunnel._read_ssh_config:1032]: Could not read SSH configuration file: ~/.ssh/config\n"
     ]
    },
    {
     "name": "stderr",
     "output_type": "stream",
     "text": [
      "2021-06-20 22:44:09,851| INFO    | 0 keys loaded from agent\n"
     ]
    },
    {
     "name": "stdout",
     "output_type": "stream",
     "text": [
      "2021-06-20 22:44:09,851 - [INFO] sshtunnel.SSHTunnelForwarder [sshtunnel.get_agent_keys:1060]: 0 keys loaded from agent\n"
     ]
    },
    {
     "name": "stderr",
     "output_type": "stream",
     "text": [
      "2021-06-20 22:44:09,854| INFO    | 0 key(s) loaded\n"
     ]
    },
    {
     "name": "stdout",
     "output_type": "stream",
     "text": [
      "2021-06-20 22:44:09,854 - [INFO] sshtunnel.SSHTunnelForwarder [sshtunnel.get_keys:1117]: 0 key(s) loaded\n"
     ]
    },
    {
     "name": "stderr",
     "output_type": "stream",
     "text": [
      "2021-06-20 22:44:09,858| INFO    | Connecting to gateway: db2.nanohub.org:22 as user 'saxenap'\n"
     ]
    },
    {
     "name": "stdout",
     "output_type": "stream",
     "text": [
      "2021-06-20 22:44:09,858 - [INFO] sshtunnel.SSHTunnelForwarder [sshtunnel.__init__:978]: Connecting to gateway: db2.nanohub.org:22 as user 'saxenap'\n",
      "2021-06-20 22:44:09,860 - [\u001B[1mINFO\u001B[0m] \u001B[1mnanoHUB.core_containers\u001B[0m [connection.get_connection_for:78]: Started SSH Tunnel with db2.nanohub.org\n",
      "2021-06-20 22:44:10,080 - [DEBUG] paramiko.transport [transport._log:1819]: starting thread (client mode): 0x3c585640\n",
      "2021-06-20 22:44:10,081 - [DEBUG] paramiko.transport [transport._log:1819]: Local version/idstring: SSH-2.0-paramiko_2.7.2\n",
      "2021-06-20 22:44:10,113 - [DEBUG] paramiko.transport [transport._log:1819]: Remote version/idstring: SSH-2.0-OpenSSH_7.4\n"
     ]
    },
    {
     "name": "stderr",
     "output_type": "stream",
     "text": [
      "2021-06-20 22:44:10,114| INFO    | Connected (version 2.0, client OpenSSH_7.4)\n"
     ]
    },
    {
     "name": "stdout",
     "output_type": "stream",
     "text": [
      "2021-06-20 22:44:10,114 - [INFO] paramiko.transport [transport._log:1819]: Connected (version 2.0, client OpenSSH_7.4)\n",
      "2021-06-20 22:44:10,137 - [DEBUG] paramiko.transport [transport._log:1819]: kex algos:['curve25519-sha256', 'curve25519-sha256@libssh.org', 'ecdh-sha2-nistp256', 'ecdh-sha2-nistp384', 'ecdh-sha2-nistp521', 'diffie-hellman-group-exchange-sha256', 'diffie-hellman-group16-sha512', 'diffie-hellman-group18-sha512', 'diffie-hellman-group-exchange-sha1', 'diffie-hellman-group14-sha256', 'diffie-hellman-group14-sha1', 'diffie-hellman-group1-sha1'] server key:['ssh-rsa', 'rsa-sha2-512', 'rsa-sha2-256'] client encrypt:['aes256-ctr', 'aes192-ctr', 'aes128-ctr'] server encrypt:['aes256-ctr', 'aes192-ctr', 'aes128-ctr'] client mac:['hmac-sha2-512', 'hmac-sha2-256'] server mac:['hmac-sha2-512', 'hmac-sha2-256'] client compress:['none', 'zlib@openssh.com'] server compress:['none', 'zlib@openssh.com'] client lang:[''] server lang:[''] kex follows?False\n",
      "2021-06-20 22:44:10,138 - [DEBUG] paramiko.transport [transport._log:1819]: Kex agreed: curve25519-sha256@libssh.org\n",
      "2021-06-20 22:44:10,139 - [DEBUG] paramiko.transport [transport._log:1819]: HostKey agreed: ssh-rsa\n",
      "2021-06-20 22:44:10,141 - [DEBUG] paramiko.transport [transport._log:1819]: Cipher agreed: aes128-ctr\n",
      "2021-06-20 22:44:10,141 - [DEBUG] paramiko.transport [transport._log:1819]: MAC agreed: hmac-sha2-256\n",
      "2021-06-20 22:44:10,144 - [DEBUG] paramiko.transport [transport._log:1819]: Compression agreed: none\n",
      "2021-06-20 22:44:10,181 - [DEBUG] paramiko.transport [transport._log:1819]: kex engine KexCurve25519 specified hash_algo <built-in function openssl_sha256>\n",
      "2021-06-20 22:44:10,183 - [DEBUG] paramiko.transport [transport._log:1819]: Switch to new keys ...\n",
      "2021-06-20 22:44:10,184 - [DEBUG] paramiko.transport [transport._log:1819]: Attempting password auth...\n",
      "2021-06-20 22:44:10,211 - [DEBUG] paramiko.transport [transport._log:1819]: userauth is OK\n"
     ]
    },
    {
     "name": "stderr",
     "output_type": "stream",
     "text": [
      "2021-06-20 22:44:10,268| INFO    | Authentication (password) successful!\n"
     ]
    },
    {
     "name": "stdout",
     "output_type": "stream",
     "text": [
      "2021-06-20 22:44:10,268 - [INFO] paramiko.transport [transport._log:1819]: Authentication (password) successful!\n"
     ]
    },
    {
     "name": "stderr",
     "output_type": "stream",
     "text": [
      "2021-06-20 22:44:10,270| INFO    | Opening tunnel: 0.0.0.0:44319 <> 127.0.0.1:3306\n"
     ]
    },
    {
     "name": "stdout",
     "output_type": "stream",
     "text": [
      "2021-06-20 22:44:10,270 - [INFO] sshtunnel.SSHTunnelForwarder [sshtunnel._serve_forever_wrapper:1433]: Opening tunnel: 0.0.0.0:44319 <> 127.0.0.1:3306\n",
      "2021-06-20 22:44:10,277 - [DEBUG] paramiko.transport [channel._log:1212]: [chan 0] Max packet in: 32768 bytes\n",
      "2021-06-20 22:44:10,300 - [DEBUG] paramiko.transport [transport._log:1819]: Received global request \"hostkeys-00@openssh.com\"\n",
      "2021-06-20 22:44:10,301 - [DEBUG] paramiko.transport [transport._log:1819]: Rejecting \"hostkeys-00@openssh.com\" global request from server.\n",
      "2021-06-20 22:44:10,323 - [DEBUG] paramiko.transport [channel._log:1212]: [chan 0] Max packet out: 32768 bytes\n",
      "2021-06-20 22:44:10,324 - [DEBUG] paramiko.transport [transport._log:1819]: Secsh channel 0 opened.\n",
      "2021-06-20 22:44:10,382 - [DEBUG] urllib3.connectionpool [connectionpool._new_conn:971]: Starting new HTTPS connection (1): login.salesforce.com:443\n",
      "2021-06-20 22:44:10,709 - [DEBUG] urllib3.connectionpool [connectionpool._make_request:452]: https://login.salesforce.com:443 \"POST /services/oauth2/token?grant_type=password&client_id=3MVG95jctIhbyCppj0SNJ75IsZ1y8UPGZtSNF4j8FNVXz.De8Lu4jHm3rjRosAtsHy6qjHx3i4S_QbQzvBePG&client_secret=D1623C6D3607D4FC8004B92C761DFB6C1F70CCD129C5501E357028DFA00F5764&username=wang2506%40purdue.edu&password=npass2021HDfJLhBGDx11xWCKlEbHQKhF HTTP/1.1\" 200 None\n",
      "Obtained Salesforce access token ...... True\n",
      "<nanoHUB.pipeline.salesforce.DB2SalesforceAPI.DB2SalesforceAPI object at 0x7fda3c585100>\n"
     ]
    }
   ],
   "source": [
    "import pandas as pd\n",
    "from pprint import pprint\n",
    "from nanoHUB.application import Application\n",
    "\n",
    "\n",
    "# logger.debug('Testing')\n",
    "application = Application.get_instance()\n",
    "nanohub_db = application.new_db_engine('nanohub')\n",
    "\n",
    "salesforce = application.new_salesforce_engine()\n",
    "# print(salesforce)"
   ]
  },
  {
   "cell_type": "code",
   "execution_count": 3,
   "metadata": {
    "pycharm": {
     "name": "#%%\n"
    }
   },
   "outputs": [
    {
     "name": "stdout",
     "output_type": "stream",
     "text": [
      "            id   uid  affiliated  fundedby              created address  \\\n",
      "0     10000001  5568         NaN       NaN  2015-11-20 21:26:04    None   \n",
      "1     10000002  5568         NaN       NaN  2015-11-20 21:29:40    None   \n",
      "2     10000003  None         NaN       0.0                 None           \n",
      "3     10000004  None         NaN       0.0                 None           \n",
      "4     10000005  None         NaN       0.0                 None           \n",
      "...        ...   ...         ...       ...                  ...     ...   \n",
      "4150      2777  2143         0.0      -1.0  0000-00-00 00:00:00           \n",
      "4151      2437  2143         0.0      -1.0  0000-00-00 00:00:00           \n",
      "4152      1709  2143         0.0      -1.0  0000-00-00 00:00:00           \n",
      "4153       242  2143         0.0       0.0  2010-04-22 00:00:00           \n",
      "4154      3549  2143         0.0      -1.0  0000-00-00 00:00:00           \n",
      "\n",
      "                                                 author booktitle chapter  \\\n",
      "0     Weber, Bent; Mahapatra, Suddhasatta; Ryu, Hoon...      None    None   \n",
      "1     Andrawis, Robert; Bermeo, Jose; Charles, James...      None    None   \n",
      "2     Sebastian Steiger;Michael Povolotskyi;Hong-Hyu...                     \n",
      "3     Muhammad Usman;Yui-Hong Matthias Tan;Hoon Ryu;...                     \n",
      "4       Neophytos Neophytou;Gerhard Klimeck;Hans Kosina                     \n",
      "...                                                 ...       ...     ...   \n",
      "4150  Debashis Panda{{84094}};Paritosh Sahu;Tseung T...                     \n",
      "4151  Dimitrios Zografopoulos{{58355}};Mohamed Swill...                     \n",
      "4152               Muhammad Usman{{9702}};Eoin O'Reilly                     \n",
      "4153                         S. Balasubramanian{{4259}}                     \n",
      "4154  Francesco Bellando;Chetan Dabhi;Ali Saeidi;Car...                     \n",
      "\n",
      "                           cite  ... published format formatted  scope  \\\n",
      "0                 1165weber2012  ...         2   None      None  group   \n",
      "1              1564andrawis2015  ...         2   None      None  group   \n",
      "2                  1steiger2011  ...         1             None  group   \n",
      "3                    2usman2011  ...         1             None  group   \n",
      "4                3neophytou2011  ...         1             None  group   \n",
      "...                         ...  ...       ...    ...       ...    ...   \n",
      "4150        panda2018collective  ...         1   None      None    hub   \n",
      "4151                             ...         1   None      None    hub   \n",
      "4152         usman2014atomistic  ...         1   None      None    hub   \n",
      "4153                             ...         1   None      None    hub   \n",
      "4154  bellando2020subthermionic  ...         1   None      None    hub   \n",
      "\n",
      "     scope_id custom1 custom2 custom3    custom4  \\\n",
      "0       20184    None    None    None       None   \n",
      "1       20184    None    None    None       None   \n",
      "2       20184               1    J162  J_2011_24   \n",
      "3       20184               2    J156  J_2011_16   \n",
      "4       20184               3    J155  J_2011_15   \n",
      "...       ...     ...     ...     ...        ...   \n",
      "4150        0    None    None    None       None   \n",
      "4151        0    None    None    None       None   \n",
      "4152        0    None    None    None       None   \n",
      "4153        0    None    None    None       None   \n",
      "4154        0    None    None    None       None   \n",
      "\n",
      "                                                pdf_url  \n",
      "0                                                  None  \n",
      "1                                                  None  \n",
      "2                                                  None  \n",
      "3                                                  None  \n",
      "4                                                  None  \n",
      "...                                                 ...  \n",
      "4150  https://nanohub.org/nanoHUBCitations/citmanage...  \n",
      "4151  https://nanohub.org/nanoHUBCitations/citmanage...  \n",
      "4152  https://nanohub.org/nanoHUBCitations/citmanage...  \n",
      "4153  https://nanohub.org/nanoHUBCitations/citmanage...  \n",
      "4154  https://nanohub.org/nanoHUBCitations/citmanage...  \n",
      "\n",
      "[4155 rows x 62 columns]\n",
      "2021-06-20 22:44:29,737 - [DEBUG] paramiko.transport [transport._log:1819]: Sending global request \"keepalive@lag.net\"\n",
      "2021-06-20 22:44:34,793 - [DEBUG] paramiko.transport [transport._log:1819]: Sending global request \"keepalive@lag.net\"\n",
      "2021-06-20 22:44:39,811 - [DEBUG] paramiko.transport [transport._log:1819]: Sending global request \"keepalive@lag.net\"\n",
      "2021-06-20 22:44:44,843 - [DEBUG] paramiko.transport [transport._log:1819]: Sending global request \"keepalive@lag.net\"\n",
      "2021-06-20 22:44:49,875 - [DEBUG] paramiko.transport [transport._log:1819]: Sending global request \"keepalive@lag.net\"\n",
      "2021-06-20 22:44:54,927 - [DEBUG] paramiko.transport [transport._log:1819]: Sending global request \"keepalive@lag.net\"\n",
      "2021-06-20 22:44:59,961 - [DEBUG] paramiko.transport [transport._log:1819]: Sending global request \"keepalive@lag.net\"\n",
      "2021-06-20 22:45:04,986 - [DEBUG] paramiko.transport [transport._log:1819]: Sending global request \"keepalive@lag.net\"\n",
      "2021-06-20 22:45:10,044 - [DEBUG] paramiko.transport [transport._log:1819]: Sending global request \"keepalive@lag.net\"\n",
      "2021-06-20 22:45:15,084 - [DEBUG] paramiko.transport [transport._log:1819]: Sending global request \"keepalive@lag.net\"\n",
      "2021-06-20 22:45:20,104 - [DEBUG] paramiko.transport [transport._log:1819]: Sending global request \"keepalive@lag.net\"\n",
      "2021-06-20 22:45:25,162 - [DEBUG] paramiko.transport [transport._log:1819]: Sending global request \"keepalive@lag.net\"\n",
      "2021-06-20 22:45:30,222 - [DEBUG] paramiko.transport [transport._log:1819]: Sending global request \"keepalive@lag.net\"\n"
     ]
    }
   ],
   "source": [
    "sql_query = \"select * from jos_citations\"\n",
    "citations_df = pd.read_sql_query(sql_query, nanohub_db)\n",
    "pprint(citations_df)\n",
    "\n",
    "\n",
    "# sql_query = \"select * from jos_users\"\n",
    "# users = pd.read_sql_query(sql_query, nanohub_db)\n",
    "# pprint(users)"
   ]
  },
  {
   "cell_type": "code",
   "execution_count": null,
   "metadata": {
    "collapsed": false,
    "jupyter": {
     "outputs_hidden": false
    },
    "pycharm": {
     "name": "#%%\n"
    }
   },
   "outputs": [],
   "source": [
    "# sql_query = \"select * from jos_citations_authors;\"\n",
    "# authors_df = pd.read_sql_query(sql_query, nanohub_db)\n",
    "# pprint(authors_df)\n",
    "#\n",
    "# nanohub_db.close()"
   ]
  },
  {
   "cell_type": "code",
   "execution_count": null,
   "metadata": {
    "collapsed": false,
    "jupyter": {
     "outputs_hidden": false
    },
    "pycharm": {
     "name": "#%%\n"
    }
   },
   "outputs": [],
   "source": []
  }
 ],
 "metadata": {
  "celltoolbar": "Tags",
  "kernelspec": {
   "display_name": "Python 3 (ipykernel)",
   "language": "python",
   "name": "python3"
  },
  "language_info": {
   "codemirror_mode": {
    "name": "ipython",
    "version": 3
   },
   "file_extension": ".py",
   "mimetype": "text/x-python",
   "name": "python",
   "nbconvert_exporter": "python",
   "pygments_lexer": "ipython3",
   "version": "3.8.10"
  },
  "papermill": {
   "duration": 15.722182,
   "end_time": "2021-01-21T06:30:47.783846",
   "environment_variables": {},
   "exception": null,
   "input_path": "/home/users/wang2506/nanohub_salesforce_integ/salesforce/task_citations.ipynb",
   "output_path": "/home/users/wang2506/nanohub_salesforce_integ/salesforce/task_citations.ipynb",
   "parameters": {},
   "start_time": "2021-01-21T06:30:32.061664",
   "version": "2.1.1"
  }
 },
 "nbformat": 4,
 "nbformat_minor": 4
}