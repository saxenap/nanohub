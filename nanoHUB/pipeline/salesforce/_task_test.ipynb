{
 "cells": [
  {
   "cell_type": "markdown",
   "metadata": {
    "papermill": {
     "duration": 0.010872,
     "end_time": "2021-01-21T06:30:34.666344",
     "exception": false,
     "start_time": "2021-01-21T06:30:34.655472",
     "status": "completed"
    },
    "tags": []
   },
   "source": [
    "# DB2-Salesforce Test"
   ]
  },
  {
   "cell_type": "code",
   "execution_count": 1,
   "metadata": {
    "execution": {
     "iopub.execute_input": "2021-11-11T18:28:09.027403Z",
     "iopub.status.busy": "2021-11-11T18:28:09.025035Z",
     "iopub.status.idle": "2021-11-11T18:28:15.358775Z",
     "shell.execute_reply": "2021-11-11T18:28:15.357068Z",
     "shell.execute_reply.started": "2021-11-11T18:28:09.026302Z"
    },
    "pycharm": {
     "name": "#%%\n"
    }
   },
   "outputs": [
    {
     "name": "stdout",
     "output_type": "stream",
     "text": [
      "\u001B[1mnanoHUB - Serving Students, Researchers & Instructors\u001B[0m\n",
      "Obtained Salesforce access token ...... True\n"
     ]
    }
   ],
   "source": [
    "import pandas as pd\n",
    "from pprint import pprint\n",
    "from nanoHUB.application import Application\n",
    "\n",
    "\n",
    "# logger.debug('Testing')\n",
    "application = Application.get_instance()\n",
    "nanohub_db = application.new_db_engine('nanohub')\n",
    "\n",
    "salesforce = application.new_salesforce_engine()\n",
    "# print(salesforce)"
   ]
  },
  {
   "cell_type": "code",
   "execution_count": 2,
   "metadata": {
    "execution": {
     "iopub.execute_input": "2021-11-11T18:28:15.367988Z",
     "iopub.status.busy": "2021-11-11T18:28:15.366833Z",
     "iopub.status.idle": "2021-11-11T18:28:27.165269Z",
     "shell.execute_reply": "2021-11-11T18:28:27.163572Z",
     "shell.execute_reply.started": "2021-11-11T18:28:15.367937Z"
    },
    "pycharm": {
     "name": "#%%\n"
    }
   },
   "outputs": [
    {
     "name": "stdout",
     "output_type": "stream",
     "text": [
      "            id   uid  affiliated  fundedby              created address  \\\n",
      "0     10000001  5568         NaN       NaN  2015-11-20 21:26:04    None   \n",
      "1     10000002  5568         NaN       NaN  2015-11-20 21:29:40    None   \n",
      "2     10000003  None         NaN       0.0                 None           \n",
      "3     10000004  None         NaN       0.0                 None           \n",
      "4     10000005  None         NaN       0.0                 None           \n",
      "...        ...   ...         ...       ...                  ...     ...   \n",
      "4159      1793  2143         0.0      -1.0  0000-00-00 00:00:00           \n",
      "4160      1434  2143         0.0      -1.0  0000-00-00 00:00:00           \n",
      "4161      3152  2143         0.0      -1.0  0000-00-00 00:00:00           \n",
      "4162      2345  2143         0.0      -1.0  0000-00-00 00:00:00           \n",
      "4163       857  2143         0.0       0.0  2011-05-20 00:00:00           \n",
      "\n",
      "                                                 author  \\\n",
      "0     Weber, Bent; Mahapatra, Suddhasatta; Ryu, Hoon...   \n",
      "1     Andrawis, Robert; Bermeo, Jose; Charles, James...   \n",
      "2     Sebastian Steiger;Michael Povolotskyi;Hong-Hyu...   \n",
      "3     Muhammad Usman;Yui-Hong Matthias Tan;Hoon Ryu;...   \n",
      "4       Neophytos Neophytou;Gerhard Klimeck;Hans Kosina   \n",
      "...                                                 ...   \n",
      "4159  Kai Kugler;K. Chard;Simon Caton;Omer Rana;D. Katz   \n",
      "4160  Y.J. Jung;Jongbae Moon{{22832}};Du-Seok Jin;B....   \n",
      "4161  Jiaxin Zhu;Jung-Woo Lee;Hyungwoo Lee;Lin Xie{{...   \n",
      "4162  M. Gulzar;H. Masjuki;M. Kalam{{14898}};M. Varm...   \n",
      "4163                             Mincheol Shin{{10886}}   \n",
      "\n",
      "                                              booktitle chapter  \\\n",
      "0                                                  None    None   \n",
      "1                                                  None    None   \n",
      "2                                                                 \n",
      "3                                                                 \n",
      "4                                                                 \n",
      "...                                                 ...     ...   \n",
      "4159  eScience \\eScience), 2013 IEEE 9th Internation...           \n",
      "4160                                                              \n",
      "4161                                                              \n",
      "4162                                                              \n",
      "4163                                                              \n",
      "\n",
      "                        cite  ... published format formatted  scope scope_id  \\\n",
      "0              1165weber2012  ...         2   None      None  group    20184   \n",
      "1           1564andrawis2015  ...         2   None      None  group    20184   \n",
      "2               1steiger2011  ...         1             None  group    20184   \n",
      "3                 2usman2011  ...         1             None  group    20184   \n",
      "4             3neophytou2011  ...         1             None  group    20184   \n",
      "...                      ...  ...       ...    ...       ...    ...      ...   \n",
      "4159  kugler2013constructing  ...         1   None      None    hub        0   \n",
      "4160         jungperformance  ...         1   None      None    hub        0   \n",
      "4161          zhu2019probing  ...         1   None      None    hub        0   \n",
      "4162                          ...         1   None      None    hub        0   \n",
      "4163                          ...         1   None      None    hub        0   \n",
      "\n",
      "     custom1 custom2 custom3    custom4  \\\n",
      "0       None    None    None       None   \n",
      "1       None    None    None       None   \n",
      "2                  1    J162  J_2011_24   \n",
      "3                  2    J156  J_2011_16   \n",
      "4                  3    J155  J_2011_15   \n",
      "...      ...     ...     ...        ...   \n",
      "4159    None    None    None       None   \n",
      "4160    None    None    None       None   \n",
      "4161    None    None    None       None   \n",
      "4162    None    None    None       None   \n",
      "4163    None    None    None       None   \n",
      "\n",
      "                                                pdf_url  \n",
      "0                                                  None  \n",
      "1                                                  None  \n",
      "2                                                  None  \n",
      "3                                                  None  \n",
      "4                                                  None  \n",
      "...                                                 ...  \n",
      "4159  https://nanohub.org/nanoHUBCitations/citmanage...  \n",
      "4160  https://nanohub.org/nanoHUBCitations/citmanage...  \n",
      "4161  https://nanohub.org/nanoHUBCitations/citmanage...  \n",
      "4162  https://nanohub.org/nanoHUBCitations/citmanage...  \n",
      "4163  https://nanohub.org/nanoHUBCitations/citmanage...  \n",
      "\n",
      "[4164 rows x 62 columns]\n"
     ]
    }
   ],
   "source": [
    "sql_query = \"select * from jos_citations\"\n",
    "citations_df = pd.read_sql_query(sql_query, nanohub_db)\n",
    "pprint(citations_df)\n",
    "\n",
    "\n",
    "# sql_query = \"select * from jos_users\"\n",
    "# users = pd.read_sql_query(sql_query, nanohub_db)\n",
    "# pprint(users)"
   ]
  },
  {
   "cell_type": "code",
   "execution_count": 3,
   "metadata": {
    "collapsed": false,
    "execution": {
     "iopub.execute_input": "2021-11-11T18:28:27.171801Z",
     "iopub.status.busy": "2021-11-11T18:28:27.170584Z",
     "iopub.status.idle": "2021-11-11T18:28:27.180004Z",
     "shell.execute_reply": "2021-11-11T18:28:27.177310Z",
     "shell.execute_reply.started": "2021-11-11T18:28:27.171640Z"
    },
    "jupyter": {
     "outputs_hidden": false
    },
    "pycharm": {
     "name": "#%%\n"
    }
   },
   "outputs": [],
   "source": [
    "# sql_query = \"select * from jos_citations_authors;\"\n",
    "# authors_df = pd.read_sql_query(sql_query, nanohub_db)\n",
    "# pprint(authors_df)\n",
    "#\n",
    "# nanohub_db.close()"
   ]
  },
  {
   "cell_type": "code",
   "execution_count": 6,
   "metadata": {
    "collapsed": false,
    "execution": {
     "iopub.execute_input": "2021-11-11T18:28:47.573358Z",
     "iopub.status.busy": "2021-11-11T18:28:47.572340Z",
     "iopub.status.idle": "2021-11-11T18:28:48.040305Z",
     "shell.execute_reply": "2021-11-11T18:28:48.038920Z",
     "shell.execute_reply.started": "2021-11-11T18:28:47.573316Z"
    },
    "jupyter": {
     "outputs_hidden": false
    },
    "pycharm": {
     "name": "#%%\n"
    },
    "tags": []
   },
   "outputs": [],
   "source": [
    "# import cartopy"
   ]
  },
  {
   "cell_type": "code",
   "execution_count": null,
   "metadata": {},
   "outputs": [],
   "source": []
  }
 ],
 "metadata": {
  "celltoolbar": "Tags",
  "kernelspec": {
   "display_name": "Python 3 (ipykernel)",
   "language": "python",
   "name": "python3"
  },
  "language_info": {
   "codemirror_mode": {
    "name": "ipython",
    "version": 3
   },
   "file_extension": ".py",
   "mimetype": "text/x-python",
   "name": "python",
   "nbconvert_exporter": "python",
   "pygments_lexer": "ipython3",
   "version": "3.8.10"
  },
  "papermill": {
   "duration": 15.722182,
   "end_time": "2021-01-21T06:30:47.783846",
   "environment_variables": {},
   "exception": null,
   "input_path": "/home/users/wang2506/nanohub_salesforce_integ/salesforce/task_citations.ipynb",
   "output_path": "/home/users/wang2506/nanohub_salesforce_integ/salesforce/task_citations.ipynb",
   "parameters": {},
   "start_time": "2021-01-21T06:30:32.061664",
   "version": "2.1.1"
  }
 },
 "nbformat": 4,
 "nbformat_minor": 4
}