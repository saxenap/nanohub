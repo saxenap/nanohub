{
 "cells": [
  {
   "cell_type": "markdown",
   "metadata": {
    "papermill": {
     "duration": 0.010872,
     "end_time": "2021-01-21T06:30:34.666344",
     "exception": false,
     "start_time": "2021-01-21T06:30:34.655472",
     "status": "completed"
    },
    "pycharm": {
     "name": "#%% md\n"
    },
    "tags": []
   },
   "source": [
    "# DB2-Salesforce Test"
   ]
  },
  {
   "cell_type": "code",
   "execution_count": 1,
   "metadata": {
    "execution": {
     "iopub.execute_input": "2022-08-30T17:35:39.324863Z",
     "iopub.status.busy": "2022-08-30T17:35:39.324484Z",
     "iopub.status.idle": "2022-08-30T17:35:41.156462Z",
     "shell.execute_reply": "2022-08-30T17:35:41.153152Z",
     "shell.execute_reply.started": "2022-08-30T17:35:39.324781Z"
    },
    "pycharm": {
     "name": "#%%\n"
    },
    "tags": []
   },
   "outputs": [
    {
     "name": "stdout",
     "output_type": "stream",
     "text": [
      "\u001b[1mnanoHUB - Serving Students, Researchers & Instructors\u001b[0m\n"
     ]
    },
    {
     "name": "stderr",
     "output_type": "stream",
     "text": [
      "/home/saxenap/venv/lib/python3.8/site-packages/requests/__init__.py:102: RequestsDependencyWarning: urllib3 (1.26.9) or chardet (5.0.0)/charset_normalizer (2.0.12) doesn't match a supported version!\n",
      "  warnings.warn(\"urllib3 ({}) or chardet ({})/charset_normalizer ({}) doesn't match a supported \"\n"
     ]
    },
    {
     "name": "stdout",
     "output_type": "stream",
     "text": [
      "[INFO] [DB2SalesforceAPI - root]: Obtained Salesforce access token ...... True [DB2SalesforceAPI.obtain_token:55]\n"
     ]
    }
   ],
   "source": [
    "import pandas as pd\n",
    "from pprint import pprint\n",
    "from nanoHUB.application import Application\n",
    "\n",
    "\n",
    "# logger.debug('Testing')\n",
    "application = Application.get_instance()\n",
    "nanohub_db = application.new_db_engine('nanohub')\n",
    "\n",
    "salesforce = application.new_salesforce_engine()\n",
    "# print(salesforce)"
   ]
  },
  {
   "cell_type": "code",
   "execution_count": 2,
   "metadata": {
    "execution": {
     "iopub.execute_input": "2022-08-30T17:35:45.443233Z",
     "iopub.status.busy": "2022-08-30T17:35:45.442626Z",
     "iopub.status.idle": "2022-08-30T17:35:45.452644Z",
     "shell.execute_reply": "2022-08-30T17:35:45.450846Z",
     "shell.execute_reply.started": "2022-08-30T17:35:45.443198Z"
    },
    "pycharm": {
     "name": "#%%\n"
    },
    "tags": []
   },
   "outputs": [],
   "source": [
    "# Select Id, Name, (Select Id, Email from Contacts) from Account"
   ]
  },
  {
   "cell_type": "code",
   "execution_count": 3,
   "metadata": {
    "execution": {
     "iopub.execute_input": "2022-08-30T17:35:45.640779Z",
     "iopub.status.busy": "2022-08-30T17:35:45.640390Z",
     "iopub.status.idle": "2022-08-30T17:35:45.648468Z",
     "shell.execute_reply": "2022-08-30T17:35:45.646001Z",
     "shell.execute_reply.started": "2022-08-30T17:35:45.640715Z"
    },
    "pycharm": {
     "name": "#%%\n"
    },
    "tags": []
   },
   "outputs": [],
   "source": [
    "# sql_query = \"select * from jos_citations\"\n",
    "# citations_df = pd.read_sql_query(sql_query, nanohub_db)\n",
    "# pprint(citations_df)\n",
    "\n",
    "\n",
    "# sql_query = \"select * from jos_users\"\n",
    "# users = pd.read_sql_query(sql_query, nanohub_db)\n",
    "# pprint(users)"
   ]
  },
  {
   "cell_type": "code",
   "execution_count": 4,
   "metadata": {
    "execution": {
     "iopub.execute_input": "2022-08-30T17:35:45.919861Z",
     "iopub.status.busy": "2022-08-30T17:35:45.919553Z",
     "iopub.status.idle": "2022-08-30T17:36:09.433612Z",
     "shell.execute_reply": "2022-08-30T17:36:09.432702Z",
     "shell.execute_reply.started": "2022-08-30T17:35:45.919840Z"
    },
    "pycharm": {
     "name": "#%%\n"
    },
    "tags": []
   },
   "outputs": [
    {
     "name": "stdout",
     "output_type": "stream",
     "text": [
      "[INFO] [DB2SalesforceAPI - root]: [Success] Bulk job creation successful. Job ID = 7508W00000ljcGoQAI [DB2SalesforceAPI.query_data:81]\n",
      "[INFO] [DB2SalesforceAPI - root]: {\"id\":\"7508W00000ljcGoQAI\",\"operation\":\"query\",\"object\":\"Account\",\"createdById\":\"0055w00000DM5bOAAT\",\"createdDate\":\"2022-08-30T17:35:46.000+0000\",\"systemModstamp\":\"2022-08-30T17:35:46.000+0000\",\"state\":\"InProgress\",\"concurrencyMode\":\"Parallel\",\"contentType\":\"CSV\",\"apiVersion\":47.0,\"jobType\":\"V2Query\",\"lineEnding\":\"LF\",\"columnDelimiter\":\"COMMA\",\"numberRecordsProcessed\":0,\"retries\":0,\"totalProcessingTime\":0} [DB2SalesforceAPI.query_data:92]\n",
      "[INFO] [DB2SalesforceAPI - root]: {\"id\":\"7508W00000ljcGoQAI\",\"operation\":\"query\",\"object\":\"Account\",\"createdById\":\"0055w00000DM5bOAAT\",\"createdDate\":\"2022-08-30T17:35:46.000+0000\",\"systemModstamp\":\"2022-08-30T17:35:46.000+0000\",\"state\":\"InProgress\",\"concurrencyMode\":\"Parallel\",\"contentType\":\"CSV\",\"apiVersion\":47.0,\"jobType\":\"V2Query\",\"lineEnding\":\"LF\",\"columnDelimiter\":\"COMMA\",\"numberRecordsProcessed\":66565,\"retries\":0,\"totalProcessingTime\":2946} [DB2SalesforceAPI.query_data:92]\n",
      "[INFO] [DB2SalesforceAPI - root]: {\"id\":\"7508W00000ljcGoQAI\",\"operation\":\"query\",\"object\":\"Account\",\"createdById\":\"0055w00000DM5bOAAT\",\"createdDate\":\"2022-08-30T17:35:46.000+0000\",\"systemModstamp\":\"2022-08-30T17:35:59.000+0000\",\"state\":\"JobComplete\",\"concurrencyMode\":\"Parallel\",\"contentType\":\"CSV\",\"apiVersion\":47.0,\"jobType\":\"V2Query\",\"lineEnding\":\"LF\",\"columnDelimiter\":\"COMMA\",\"numberRecordsProcessed\":287583,\"retries\":0,\"totalProcessingTime\":10829} [DB2SalesforceAPI.query_data:92]\n",
      "[INFO] [DB2SalesforceAPI - root]: [Success] Bulk job completed successfully. [DB2SalesforceAPI.query_data:113]\n"
     ]
    },
    {
     "data": {
      "text/html": [
       "<div>\n",
       "<style scoped>\n",
       "    .dataframe tbody tr th:only-of-type {\n",
       "        vertical-align: middle;\n",
       "    }\n",
       "\n",
       "    .dataframe tbody tr th {\n",
       "        vertical-align: top;\n",
       "    }\n",
       "\n",
       "    .dataframe thead th {\n",
       "        text-align: right;\n",
       "    }\n",
       "</style>\n",
       "<table border=\"1\" class=\"dataframe\">\n",
       "  <thead>\n",
       "    <tr style=\"text-align: right;\">\n",
       "      <th></th>\n",
       "      <th>Id</th>\n",
       "      <th>Name</th>\n",
       "    </tr>\n",
       "  </thead>\n",
       "  <tbody>\n",
       "    <tr>\n",
       "      <th>0</th>\n",
       "      <td>0015w0000262NhlAAE</td>\n",
       "      <td>hubrepo hubrepo</td>\n",
       "    </tr>\n",
       "    <tr>\n",
       "      <th>1</th>\n",
       "      <td>0015w0000262NhnAAE</td>\n",
       "      <td>nanoHUB support</td>\n",
       "    </tr>\n",
       "    <tr>\n",
       "      <th>2</th>\n",
       "      <td>0015w0000262NhoAAE</td>\n",
       "      <td>Grid Statistics</td>\n",
       "    </tr>\n",
       "    <tr>\n",
       "      <th>3</th>\n",
       "      <td>0015w0000262NhpAAE</td>\n",
       "      <td>NCN</td>\n",
       "    </tr>\n",
       "    <tr>\n",
       "      <th>4</th>\n",
       "      <td>0015w0000262NhqAAE</td>\n",
       "      <td>nanoHUB nanoHUB</td>\n",
       "    </tr>\n",
       "    <tr>\n",
       "      <th>...</th>\n",
       "      <td>...</td>\n",
       "      <td>...</td>\n",
       "    </tr>\n",
       "    <tr>\n",
       "      <th>66560</th>\n",
       "      <td>0015w000029RoMYAA0</td>\n",
       "      <td>(k) Administrative Account</td>\n",
       "    </tr>\n",
       "    <tr>\n",
       "      <th>66561</th>\n",
       "      <td>0015w000029RoMZAA0</td>\n",
       "      <td>Kroymann Administrative Account</td>\n",
       "    </tr>\n",
       "    <tr>\n",
       "      <th>66562</th>\n",
       "      <td>0015w000029RoMaAAK</td>\n",
       "      <td>Metzger Administrative Account</td>\n",
       "    </tr>\n",
       "    <tr>\n",
       "      <th>66563</th>\n",
       "      <td>0015w000029RoMbAAK</td>\n",
       "      <td>Rivet Administrative Account</td>\n",
       "    </tr>\n",
       "    <tr>\n",
       "      <th>66564</th>\n",
       "      <td>0015w000029RoMcAAK</td>\n",
       "      <td>Koree Administrative Account</td>\n",
       "    </tr>\n",
       "  </tbody>\n",
       "</table>\n",
       "<p>66565 rows × 2 columns</p>\n",
       "</div>"
      ],
      "text/plain": [
       "                       Id                             Name\n",
       "0      0015w0000262NhlAAE                  hubrepo hubrepo\n",
       "1      0015w0000262NhnAAE                  nanoHUB support\n",
       "2      0015w0000262NhoAAE                  Grid Statistics\n",
       "3      0015w0000262NhpAAE                              NCN\n",
       "4      0015w0000262NhqAAE                  nanoHUB nanoHUB\n",
       "...                   ...                              ...\n",
       "66560  0015w000029RoMYAA0       (k) Administrative Account\n",
       "66561  0015w000029RoMZAA0  Kroymann Administrative Account\n",
       "66562  0015w000029RoMaAAK   Metzger Administrative Account\n",
       "66563  0015w000029RoMbAAK     Rivet Administrative Account\n",
       "66564  0015w000029RoMcAAK     Koree Administrative Account\n",
       "\n",
       "[66565 rows x 2 columns]"
      ]
     },
     "metadata": {},
     "output_type": "display_data"
    }
   ],
   "source": [
    "salesforce_query = '''\n",
    "SELECT Id, \n",
    "       Name \n",
    "FROM ACCOUNT\n",
    "WHERE Id IN (SELECT AccountId FROM Contact)\n",
    "'''\n",
    "sf_userID_df = salesforce.query_data(salesforce_query)\n",
    "\n",
    "display(sf_userID_df)"
   ]
  },
  {
   "cell_type": "code",
   "execution_count": null,
   "metadata": {
    "collapsed": false,
    "execution": {
     "iopub.status.busy": "2022-08-30T15:50:56.118543Z",
     "iopub.status.idle": "2022-08-30T15:50:56.120288Z",
     "shell.execute_reply": "2022-08-30T15:50:56.119835Z",
     "shell.execute_reply.started": "2022-08-30T15:50:56.119799Z"
    },
    "jupyter": {
     "outputs_hidden": false
    },
    "pycharm": {
     "name": "#%%\n"
    }
   },
   "outputs": [],
   "source": [
    "# sql_query = \"select * from jos_citations_authors;\"\n",
    "# authors_df = pd.read_sql_query(sql_query, nanohub_db)\n",
    "# pprint(authors_df)\n",
    "#\n",
    "# nanohub_db.close()"
   ]
  },
  {
   "cell_type": "code",
   "execution_count": null,
   "metadata": {
    "collapsed": false,
    "execution": {
     "iopub.status.busy": "2022-08-30T15:50:56.123042Z",
     "iopub.status.idle": "2022-08-30T15:50:56.124610Z",
     "shell.execute_reply": "2022-08-30T15:50:56.124198Z",
     "shell.execute_reply.started": "2022-08-30T15:50:56.124174Z"
    },
    "jupyter": {
     "outputs_hidden": false
    },
    "pycharm": {
     "name": "#%%\n"
    },
    "tags": []
   },
   "outputs": [],
   "source": [
    "# import cartopy"
   ]
  },
  {
   "cell_type": "code",
   "execution_count": null,
   "metadata": {
    "pycharm": {
     "name": "#%%\n"
    }
   },
   "outputs": [],
   "source": []
  }
 ],
 "metadata": {
  "celltoolbar": "Tags",
  "kernelspec": {
   "display_name": "Python 3 (ipykernel)",
   "language": "python",
   "name": "python3"
  },
  "language_info": {
   "codemirror_mode": {
    "name": "ipython",
    "version": 3
   },
   "file_extension": ".py",
   "mimetype": "text/x-python",
   "name": "python",
   "nbconvert_exporter": "python",
   "pygments_lexer": "ipython3",
   "version": "3.8.10"
  },
  "papermill": {
   "duration": 15.722182,
   "end_time": "2021-01-21T06:30:47.783846",
   "environment_variables": {},
   "exception": null,
   "input_path": "/home/users/wang2506/nanohub_salesforce_integ/salesforce/task_citations.ipynb",
   "output_path": "/home/users/wang2506/nanohub_salesforce_integ/salesforce/task_citations.ipynb",
   "parameters": {},
   "start_time": "2021-01-21T06:30:32.061664",
   "version": "2.1.1"
  }
 },
 "nbformat": 4,
 "nbformat_minor": 4
}
