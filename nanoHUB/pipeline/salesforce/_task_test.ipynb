{
 "cells": [
  {
   "cell_type": "markdown",
   "metadata": {
    "papermill": {
     "duration": 0.010872,
     "end_time": "2021-01-21T06:30:34.666344",
     "exception": false,
     "start_time": "2021-01-21T06:30:34.655472",
     "status": "completed"
    },
    "tags": []
   },
   "source": [
    "# DB2-Salesforce Test"
   ]
  },
  {
   "cell_type": "code",
   "execution_count": 1,
   "metadata": {
    "execution": {
     "iopub.execute_input": "2021-12-01T21:15:07.701591Z",
     "iopub.status.busy": "2021-12-01T21:15:07.701238Z",
     "iopub.status.idle": "2021-12-01T21:15:11.067147Z",
     "shell.execute_reply": "2021-12-01T21:15:11.064720Z",
     "shell.execute_reply.started": "2021-12-01T21:15:07.701511Z"
    },
    "pycharm": {
     "name": "#%%\n"
    },
    "tags": []
   },
   "outputs": [
    {
     "name": "stdout",
     "output_type": "stream",
     "text": [
      "\u001b[1mnanoHUB - Serving Students, Researchers & Instructors\u001b[0m\n",
      "Obtained Salesforce access token ...... True\n"
     ]
    }
   ],
   "source": [
    "import pandas as pd\n",
    "from pprint import pprint\n",
    "from nanoHUB.application import Application\n",
    "\n",
    "\n",
    "# logger.debug('Testing')\n",
    "application = Application.get_instance()\n",
    "nanohub_db = application.new_db_engine('nanohub')\n",
    "\n",
    "salesforce = application.new_salesforce_engine()\n",
    "# print(salesforce)"
   ]
  },
  {
   "cell_type": "code",
   "execution_count": 2,
   "metadata": {
    "execution": {
     "iopub.execute_input": "2021-12-01T21:15:11.071302Z",
     "iopub.status.busy": "2021-12-01T21:15:11.070253Z",
     "iopub.status.idle": "2021-12-01T21:15:12.405754Z",
     "shell.execute_reply": "2021-12-01T21:15:12.403917Z",
     "shell.execute_reply.started": "2021-12-01T21:15:11.071235Z"
    },
    "pycharm": {
     "name": "#%%\n"
    },
    "tags": []
   },
   "outputs": [
    {
     "name": "stdout",
     "output_type": "stream",
     "text": [
      "            id   uid  affiliated  fundedby              created address  \\\n",
      "0     10000001  5568         NaN       NaN  2015-11-20 21:26:04    None   \n",
      "1     10000002  5568         NaN       NaN  2015-11-20 21:29:40    None   \n",
      "2     10000003  None         NaN       0.0                 None           \n",
      "3     10000004  None         NaN       0.0                 None           \n",
      "4     10000005  None         NaN       0.0                 None           \n",
      "...        ...   ...         ...       ...                  ...     ...   \n",
      "4159      2048  2143         0.0      -1.0  0000-00-00 00:00:00           \n",
      "4160       256  2143         0.0       0.0  2010-04-22 00:00:00           \n",
      "4161      1024  2143         0.0      -1.0  0000-00-00 00:00:00           \n",
      "4162      1280  2143         1.0      -1.0  0000-00-00 00:00:00           \n",
      "4163      1792  2143         0.0      -1.0  0000-00-00 00:00:00           \n",
      "\n",
      "                                                 author  \\\n",
      "0     Weber, Bent; Mahapatra, Suddhasatta; Ryu, Hoon...   \n",
      "1     Andrawis, Robert; Bermeo, Jose; Charles, James...   \n",
      "2     Sebastian Steiger;Michael Povolotskyi;Hong-Hyu...   \n",
      "3     Muhammad Usman;Yui-Hong Matthias Tan;Hoon Ryu;...   \n",
      "4       Neophytos Neophytou;Gerhard Klimeck;Hans Kosina   \n",
      "...                                                 ...   \n",
      "4159     Jung-Lok Yu{{53507}};Hee-Jung Byun;Du-Seok Jin   \n",
      "4160                   Zhiwei Xu;Lijuan Xiao;Xingwu Liu   \n",
      "4161                                          J. Ramani   \n",
      "4162  Yaohua Tan{{30369}};Michael Povolotskyi{{37771...   \n",
      "4163  M Krahlisch;U Wulf;H Richter;J. Kucera;J. Hont...   \n",
      "\n",
      "                           booktitle chapter                     cite  ...  \\\n",
      "0                               None    None            1165weber2012  ...   \n",
      "1                               None    None         1564andrawis2015  ...   \n",
      "2                                                        1steiger2011  ...   \n",
      "3                                                          2usman2011  ...   \n",
      "4                                                      3neophytou2011  ...   \n",
      "...                              ...     ...                      ...  ...   \n",
      "4159                                                                   ...   \n",
      "4160  Network and Parallel Computing                                   ...   \n",
      "4161                                            ramani2011development  ...   \n",
      "4162                                                 tan2012empirical  ...   \n",
      "4163                                          krahlisch2014analytical  ...   \n",
      "\n",
      "     published format formatted  scope scope_id custom1 custom2 custom3  \\\n",
      "0            2   None      None  group    20184    None    None    None   \n",
      "1            2   None      None  group    20184    None    None    None   \n",
      "2            1             None  group    20184               1    J162   \n",
      "3            1             None  group    20184               2    J156   \n",
      "4            1             None  group    20184               3    J155   \n",
      "...        ...    ...       ...    ...      ...     ...     ...     ...   \n",
      "4159         1   None      None    hub        0    None    None    None   \n",
      "4160         1   None      None    hub        0    None    None    None   \n",
      "4161         1   None      None    hub        0    None    None    None   \n",
      "4162         1   None      None    hub        0    None    None    None   \n",
      "4163         1   None      None    hub        0    None    None    None   \n",
      "\n",
      "        custom4                                            pdf_url  \n",
      "0          None                                               None  \n",
      "1          None                                               None  \n",
      "2     J_2011_24                                               None  \n",
      "3     J_2011_16                                               None  \n",
      "4     J_2011_15                                               None  \n",
      "...         ...                                                ...  \n",
      "4159       None  https://nanohub.org/nanoHUBCitations/citmanage...  \n",
      "4160       None  https://nanohub.org/nanoHUBCitations/citmanage...  \n",
      "4161       None  https://nanohub.org/nanoHUBCitations/citmanage...  \n",
      "4162       None  https://nanohub.org/nanoHUBCitations/citmanage...  \n",
      "4163       None  https://nanohub.org/nanoHUBCitations/citmanage...  \n",
      "\n",
      "[4164 rows x 62 columns]\n"
     ]
    }
   ],
   "source": [
    "sql_query = \"select * from jos_citations\"\n",
    "citations_df = pd.read_sql_query(sql_query, nanohub_db)\n",
    "pprint(citations_df)\n",
    "\n",
    "\n",
    "# sql_query = \"select * from jos_users\"\n",
    "# users = pd.read_sql_query(sql_query, nanohub_db)\n",
    "# pprint(users)"
   ]
  },
  {
   "cell_type": "code",
   "execution_count": 3,
   "metadata": {
    "collapsed": false,
    "execution": {
     "iopub.execute_input": "2021-11-11T18:28:27.171801Z",
     "iopub.status.busy": "2021-11-11T18:28:27.170584Z",
     "iopub.status.idle": "2021-11-11T18:28:27.180004Z",
     "shell.execute_reply": "2021-11-11T18:28:27.177310Z",
     "shell.execute_reply.started": "2021-11-11T18:28:27.171640Z"
    },
    "jupyter": {
     "outputs_hidden": false
    },
    "pycharm": {
     "name": "#%%\n"
    }
   },
   "outputs": [],
   "source": [
    "# sql_query = \"select * from jos_citations_authors;\"\n",
    "# authors_df = pd.read_sql_query(sql_query, nanohub_db)\n",
    "# pprint(authors_df)\n",
    "#\n",
    "# nanohub_db.close()"
   ]
  },
  {
   "cell_type": "code",
   "execution_count": 6,
   "metadata": {
    "collapsed": false,
    "execution": {
     "iopub.execute_input": "2021-11-11T18:28:47.573358Z",
     "iopub.status.busy": "2021-11-11T18:28:47.572340Z",
     "iopub.status.idle": "2021-11-11T18:28:48.040305Z",
     "shell.execute_reply": "2021-11-11T18:28:48.038920Z",
     "shell.execute_reply.started": "2021-11-11T18:28:47.573316Z"
    },
    "jupyter": {
     "outputs_hidden": false
    },
    "pycharm": {
     "name": "#%%\n"
    },
    "tags": []
   },
   "outputs": [],
   "source": [
    "# import cartopy"
   ]
  },
  {
   "cell_type": "code",
   "execution_count": null,
   "metadata": {},
   "outputs": [],
   "source": []
  }
 ],
 "metadata": {
  "celltoolbar": "Tags",
  "kernelspec": {
   "display_name": "Python 3 (ipykernel)",
   "language": "python",
   "name": "python3"
  },
  "language_info": {
   "codemirror_mode": {
    "name": "ipython",
    "version": 3
   },
   "file_extension": ".py",
   "mimetype": "text/x-python",
   "name": "python",
   "nbconvert_exporter": "python",
   "pygments_lexer": "ipython3",
   "version": "3.8.10"
  },
  "papermill": {
   "duration": 15.722182,
   "end_time": "2021-01-21T06:30:47.783846",
   "environment_variables": {},
   "exception": null,
   "input_path": "/home/users/wang2506/nanohub_salesforce_integ/salesforce/task_citations.ipynb",
   "output_path": "/home/users/wang2506/nanohub_salesforce_integ/salesforce/task_citations.ipynb",
   "parameters": {},
   "start_time": "2021-01-21T06:30:32.061664",
   "version": "2.1.1"
  }
 },
 "nbformat": 4,
 "nbformat_minor": 4
}
