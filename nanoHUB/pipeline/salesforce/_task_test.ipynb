{
 "cells": [
  {
   "cell_type": "markdown",
   "metadata": {
    "papermill": {
     "duration": 0.010872,
     "end_time": "2021-01-21T06:30:34.666344",
     "exception": false,
     "start_time": "2021-01-21T06:30:34.655472",
     "status": "completed"
    },
    "tags": []
   },
   "source": [
    "# DB2-Salesforce Test"
   ]
  },
  {
   "cell_type": "code",
   "execution_count": 1,
   "metadata": {
    "execution": {
     "iopub.execute_input": "2022-04-27T16:18:45.897017Z",
     "iopub.status.busy": "2022-04-27T16:18:45.896726Z",
     "iopub.status.idle": "2022-04-27T16:19:52.820288Z",
     "shell.execute_reply": "2022-04-27T16:19:52.817534Z",
     "shell.execute_reply.started": "2022-04-27T16:18:45.896965Z"
    },
    "pycharm": {
     "name": "#%%\n"
    },
    "tags": []
   },
   "outputs": [
    {
     "name": "stdout",
     "output_type": "stream",
     "text": [
      "\u001b[1mnanoHUB - Serving Students, Researchers & Instructors\u001b[0m\n",
      "Obtained Salesforce access token ...... True\n"
     ]
    }
   ],
   "source": [
    "import pandas as pd\n",
    "from pprint import pprint\n",
    "from nanoHUB.application import Application\n",
    "\n",
    "\n",
    "# logger.debug('Testing')\n",
    "application = Application.get_instance()\n",
    "nanohub_db = application.new_db_engine('nanohub')\n",
    "\n",
    "salesforce = application.new_salesforce_engine()\n",
    "# print(salesforce)"
   ]
  },
  {
   "cell_type": "code",
   "execution_count": 2,
   "metadata": {
    "execution": {
     "iopub.execute_input": "2022-04-27T16:19:52.823604Z",
     "iopub.status.busy": "2022-04-27T16:19:52.821982Z",
     "iopub.status.idle": "2022-04-27T16:19:52.830101Z",
     "shell.execute_reply": "2022-04-27T16:19:52.827926Z",
     "shell.execute_reply.started": "2022-04-27T16:19:52.823465Z"
    }
   },
   "outputs": [],
   "source": [
    "# Select Id, Name, (Select Id, Email from Contacts) from Account"
   ]
  },
  {
   "cell_type": "code",
   "execution_count": 3,
   "metadata": {
    "execution": {
     "iopub.execute_input": "2022-04-27T16:19:52.840161Z",
     "iopub.status.busy": "2022-04-27T16:19:52.838318Z",
     "iopub.status.idle": "2022-04-27T16:19:52.850651Z",
     "shell.execute_reply": "2022-04-27T16:19:52.849477Z",
     "shell.execute_reply.started": "2022-04-27T16:19:52.840086Z"
    },
    "pycharm": {
     "name": "#%%\n"
    },
    "tags": []
   },
   "outputs": [],
   "source": [
    "# sql_query = \"select * from jos_citations\"\n",
    "# citations_df = pd.read_sql_query(sql_query, nanohub_db)\n",
    "# pprint(citations_df)\n",
    "\n",
    "\n",
    "# sql_query = \"select * from jos_users\"\n",
    "# users = pd.read_sql_query(sql_query, nanohub_db)\n",
    "# pprint(users)"
   ]
  },
  {
   "cell_type": "code",
   "execution_count": 5,
   "metadata": {
    "execution": {
     "iopub.execute_input": "2022-04-27T16:29:35.985439Z",
     "iopub.status.busy": "2022-04-27T16:29:35.983793Z",
     "iopub.status.idle": "2022-04-27T16:29:56.270982Z",
     "shell.execute_reply": "2022-04-27T16:29:56.270029Z",
     "shell.execute_reply.started": "2022-04-27T16:29:35.985391Z"
    },
    "tags": []
   },
   "outputs": [
    {
     "name": "stdout",
     "output_type": "stream",
     "text": [
      "[Success] Bulk job creation successful. Job ID = 7508W00000f8ByRQAU\n",
      "{\"id\":\"7508W00000f8ByRQAU\",\"operation\":\"query\",\"object\":\"Account\",\"createdById\":\"0055w00000DM5bOAAT\",\"createdDate\":\"2022-04-27T16:29:44.000+0000\",\"systemModstamp\":\"2022-04-27T16:29:44.000+0000\",\"state\":\"UploadComplete\",\"concurrencyMode\":\"Parallel\",\"contentType\":\"CSV\",\"apiVersion\":47.0,\"jobType\":\"V2Query\",\"lineEnding\":\"LF\",\"columnDelimiter\":\"COMMA\",\"retries\":0,\"totalProcessingTime\":0}\n",
      "{\"id\":\"7508W00000f8ByRQAU\",\"operation\":\"query\",\"object\":\"Account\",\"createdById\":\"0055w00000DM5bOAAT\",\"createdDate\":\"2022-04-27T16:29:44.000+0000\",\"systemModstamp\":\"2022-04-27T16:29:54.000+0000\",\"state\":\"JobComplete\",\"concurrencyMode\":\"Parallel\",\"contentType\":\"CSV\",\"apiVersion\":47.0,\"jobType\":\"V2Query\",\"lineEnding\":\"LF\",\"columnDelimiter\":\"COMMA\",\"numberRecordsProcessed\":279264,\"retries\":0,\"totalProcessingTime\":14771}\n",
      "[Success] Bulk job completed successfully.\n"
     ]
    },
    {
     "data": {
      "text/html": [
       "<div>\n",
       "<style scoped>\n",
       "    .dataframe tbody tr th:only-of-type {\n",
       "        vertical-align: middle;\n",
       "    }\n",
       "\n",
       "    .dataframe tbody tr th {\n",
       "        vertical-align: top;\n",
       "    }\n",
       "\n",
       "    .dataframe thead th {\n",
       "        text-align: right;\n",
       "    }\n",
       "</style>\n",
       "<table border=\"1\" class=\"dataframe\">\n",
       "  <thead>\n",
       "    <tr style=\"text-align: right;\">\n",
       "      <th></th>\n",
       "      <th>Id</th>\n",
       "      <th>Name</th>\n",
       "    </tr>\n",
       "  </thead>\n",
       "  <tbody>\n",
       "    <tr>\n",
       "      <th>0</th>\n",
       "      <td>0015w0000262NhlAAE</td>\n",
       "      <td>hubrepo hubrepo</td>\n",
       "    </tr>\n",
       "    <tr>\n",
       "      <th>1</th>\n",
       "      <td>0015w0000262NhnAAE</td>\n",
       "      <td>nanoHUB support</td>\n",
       "    </tr>\n",
       "    <tr>\n",
       "      <th>2</th>\n",
       "      <td>0015w0000262NhoAAE</td>\n",
       "      <td>Grid Statistics</td>\n",
       "    </tr>\n",
       "    <tr>\n",
       "      <th>3</th>\n",
       "      <td>0015w0000262NhpAAE</td>\n",
       "      <td>NCN</td>\n",
       "    </tr>\n",
       "    <tr>\n",
       "      <th>4</th>\n",
       "      <td>0015w0000262NhqAAE</td>\n",
       "      <td>nanoHUB nanoHUB</td>\n",
       "    </tr>\n",
       "    <tr>\n",
       "      <th>...</th>\n",
       "      <td>...</td>\n",
       "      <td>...</td>\n",
       "    </tr>\n",
       "    <tr>\n",
       "      <th>66564</th>\n",
       "      <td>0015w000029RoMYAA0</td>\n",
       "      <td>(k) Administrative Account</td>\n",
       "    </tr>\n",
       "    <tr>\n",
       "      <th>66565</th>\n",
       "      <td>0015w000029RoMZAA0</td>\n",
       "      <td>Kroymann Administrative Account</td>\n",
       "    </tr>\n",
       "    <tr>\n",
       "      <th>66566</th>\n",
       "      <td>0015w000029RoMaAAK</td>\n",
       "      <td>Metzger Administrative Account</td>\n",
       "    </tr>\n",
       "    <tr>\n",
       "      <th>66567</th>\n",
       "      <td>0015w000029RoMbAAK</td>\n",
       "      <td>Rivet Administrative Account</td>\n",
       "    </tr>\n",
       "    <tr>\n",
       "      <th>66568</th>\n",
       "      <td>0015w000029RoMcAAK</td>\n",
       "      <td>Koree Administrative Account</td>\n",
       "    </tr>\n",
       "  </tbody>\n",
       "</table>\n",
       "<p>66569 rows × 2 columns</p>\n",
       "</div>"
      ],
      "text/plain": [
       "                       Id                             Name\n",
       "0      0015w0000262NhlAAE                  hubrepo hubrepo\n",
       "1      0015w0000262NhnAAE                  nanoHUB support\n",
       "2      0015w0000262NhoAAE                  Grid Statistics\n",
       "3      0015w0000262NhpAAE                              NCN\n",
       "4      0015w0000262NhqAAE                  nanoHUB nanoHUB\n",
       "...                   ...                              ...\n",
       "66564  0015w000029RoMYAA0       (k) Administrative Account\n",
       "66565  0015w000029RoMZAA0  Kroymann Administrative Account\n",
       "66566  0015w000029RoMaAAK   Metzger Administrative Account\n",
       "66567  0015w000029RoMbAAK     Rivet Administrative Account\n",
       "66568  0015w000029RoMcAAK     Koree Administrative Account\n",
       "\n",
       "[66569 rows x 2 columns]"
      ]
     },
     "metadata": {},
     "output_type": "display_data"
    }
   ],
   "source": [
    "salesforce_query = '''\n",
    "SELECT Id, \n",
    "       Name \n",
    "FROM ACCOUNT\n",
    "WHERE Id IN (SELECT AccountId FROM Contact)\n",
    "'''\n",
    "sf_userID_df = salesforce.query_data(salesforce_query)\n",
    "\n",
    "display(sf_userID_df)"
   ]
  },
  {
   "cell_type": "code",
   "execution_count": null,
   "metadata": {
    "collapsed": false,
    "execution": {
     "iopub.status.busy": "2022-04-27T16:19:56.490074Z",
     "iopub.status.idle": "2022-04-27T16:19:56.491226Z",
     "shell.execute_reply": "2022-04-27T16:19:56.490986Z",
     "shell.execute_reply.started": "2022-04-27T16:19:56.490941Z"
    },
    "jupyter": {
     "outputs_hidden": false
    },
    "pycharm": {
     "name": "#%%\n"
    }
   },
   "outputs": [],
   "source": [
    "# sql_query = \"select * from jos_citations_authors;\"\n",
    "# authors_df = pd.read_sql_query(sql_query, nanohub_db)\n",
    "# pprint(authors_df)\n",
    "#\n",
    "# nanohub_db.close()"
   ]
  },
  {
   "cell_type": "code",
   "execution_count": null,
   "metadata": {
    "collapsed": false,
    "execution": {
     "iopub.status.busy": "2022-04-27T16:19:56.492625Z",
     "iopub.status.idle": "2022-04-27T16:19:56.493536Z",
     "shell.execute_reply": "2022-04-27T16:19:56.493245Z",
     "shell.execute_reply.started": "2022-04-27T16:19:56.493219Z"
    },
    "jupyter": {
     "outputs_hidden": false
    },
    "pycharm": {
     "name": "#%%\n"
    },
    "tags": []
   },
   "outputs": [],
   "source": [
    "# import cartopy"
   ]
  },
  {
   "cell_type": "code",
   "execution_count": null,
   "metadata": {},
   "outputs": [],
   "source": []
  }
 ],
 "metadata": {
  "celltoolbar": "Tags",
  "kernelspec": {
   "display_name": "Python 3 (ipykernel)",
   "language": "python",
   "name": "python3"
  },
  "language_info": {
   "codemirror_mode": {
    "name": "ipython",
    "version": 3
   },
   "file_extension": ".py",
   "mimetype": "text/x-python",
   "name": "python",
   "nbconvert_exporter": "python",
   "pygments_lexer": "ipython3",
   "version": "3.8.10"
  },
  "papermill": {
   "duration": 15.722182,
   "end_time": "2021-01-21T06:30:47.783846",
   "environment_variables": {},
   "exception": null,
   "input_path": "/home/users/wang2506/nanohub_salesforce_integ/salesforce/task_citations.ipynb",
   "output_path": "/home/users/wang2506/nanohub_salesforce_integ/salesforce/task_citations.ipynb",
   "parameters": {},
   "start_time": "2021-01-21T06:30:32.061664",
   "version": "2.1.1"
  }
 },
 "nbformat": 4,
 "nbformat_minor": 4
}
