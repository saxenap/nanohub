{
 "cells": [
  {
   "cell_type": "markdown",
   "metadata": {
    "papermill": {
     "duration": 0.010872,
     "end_time": "2021-01-21T06:30:34.666344",
     "exception": false,
     "start_time": "2021-01-21T06:30:34.655472",
     "status": "completed"
    },
    "tags": []
   },
   "source": [
    "# DB2-Salesforce connector: Citation information updates"
   ]
  },
  {
   "cell_type": "code",
   "execution_count": 1,
   "metadata": {
    "execution": {
     "iopub.execute_input": "2021-01-21T06:30:34.689900Z",
     "iopub.status.busy": "2021-01-21T06:30:34.689322Z",
     "iopub.status.idle": "2021-01-21T06:30:34.694058Z",
     "shell.execute_reply": "2021-01-21T06:30:34.693330Z"
    },
    "papermill": {
     "duration": 0.017949,
     "end_time": "2021-01-21T06:30:34.694200",
     "exception": false,
     "start_time": "2021-01-21T06:30:34.676251",
     "status": "completed"
    },
    "tags": [
     "parameters"
    ],
    "pycharm": {
     "name": "#%%\n"
    }
   },
   "outputs": [],
   "source": [
    "sql_login_params = {\"username\": \"wang2506_ro\", \"password\": \"fnVnwcCS7iT45EsA\"}"
   ]
  },
  {
   "cell_type": "markdown",
   "source": [
    "## To Salesforce Sales Cloud CRM"
   ],
   "metadata": {
    "collapsed": false,
    "pycharm": {
     "name": "#%% md\n"
    }
   }
  },
  {
   "cell_type": "code",
   "execution_count": null,
   "outputs": [],
   "source": [
    "# from logger import logger\n",
    "import pandas as pd\n",
    "from dotenv import load_dotenv\n",
    "import os\n",
    "from pprint import pprint\n",
    "from ..helpers import CachedConnection, TunneledConnection\n",
    "\n",
    "load_dotenv()\n",
    "\n",
    "cached_connection = CachedConnection(TunneledConnection(\n",
    "    ssh_host = os.getenv('tunnel_ssh_host'),\n",
    "    ssh_username = os.getenv('tunnel_ssh_username'),\n",
    "    ssh_password = os.getenv('tunnel_ssh_password'),\n",
    "    ssh_port = int(os.getenv('tunnel_ssh_port')),\n",
    "    remote_bind_address = os.getenv('tunnel_remote_bind_address'),\n",
    "    remote_bind_port = int(os.getenv('tunnel_remote_bind_port')),\n",
    "    db_host = os.getenv('db_host'),\n",
    "    db_username = os.getenv('db_user'),\n",
    "    db_password = os.getenv('db_password')\n",
    "))\n",
    "\n",
    "# logger.debug('Testing')\n",
    "connection = cached_connection.get_connection_for('nanohub')\n",
    "sql_query = \"select * from jos_citations\"\n",
    "citations_df = pd.read_sql_query(sql_query, connection)\n",
    "pprint(citations_df)\n",
    "\n",
    "sql_query = \"select * from jos_citations_authors;\"\n",
    "authors_df = pd.read_sql_query(sql_query, connection)\n",
    "pprint(authors_df)\n",
    "\n",
    "\n",
    "\n"
   ],
   "metadata": {
    "collapsed": false,
    "pycharm": {
     "name": "#%%\n"
    }
   }
  }
 ],
 "metadata": {
  "celltoolbar": "Tags",
  "kernelspec": {
   "display_name": "Python 3",
   "language": "python",
   "name": "python3"
  },
  "language_info": {
   "codemirror_mode": {
    "name": "ipython",
    "version": 3
   },
   "file_extension": ".py",
   "mimetype": "text/x-python",
   "name": "python",
   "nbconvert_exporter": "python",
   "pygments_lexer": "ipython3",
   "version": "3.8.2"
  },
  "papermill": {
   "duration": 15.722182,
   "end_time": "2021-01-21T06:30:47.783846",
   "environment_variables": {},
   "exception": null,
   "input_path": "/home/users/wang2506/nanohub_salesforce_integ/salesforce/task_citations.ipynb",
   "output_path": "/home/users/wang2506/nanohub_salesforce_integ/salesforce/task_citations.ipynb",
   "parameters": {},
   "start_time": "2021-01-21T06:30:32.061664",
   "version": "2.1.1"
  }
 },
 "nbformat": 4,
 "nbformat_minor": 4
}