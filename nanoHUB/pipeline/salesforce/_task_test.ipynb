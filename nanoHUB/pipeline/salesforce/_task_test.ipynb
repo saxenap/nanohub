{
 "cells": [
  {
   "cell_type": "markdown",
   "metadata": {
    "papermill": {
     "duration": 0.010872,
     "end_time": "2021-01-21T06:30:34.666344",
     "exception": false,
     "start_time": "2021-01-21T06:30:34.655472",
     "status": "completed"
    },
    "tags": []
   },
   "source": [
    "# DB2-Salesforce Test"
   ]
  },
  {
   "cell_type": "code",
   "execution_count": 1,
   "metadata": {
    "pycharm": {
     "name": "#%%\n"
    }
   },
   "outputs": [
    {
     "name": "stdout",
     "output_type": "stream",
     "text": [
      "dsds\n",
      "2021-06-11 20:50:03,608 - [INFO] nanoHUB.core_containers [connection.get_connection_for:71]: Started SSH Tunnel with db2.nanohub.org\n",
      "2021-06-11 20:50:03,653 - [DEBUG] paramiko.transport [transport._log:1819]: starting thread (client mode): 0xca974fa0\n",
      "2021-06-11 20:50:03,655 - [DEBUG] paramiko.transport [transport._log:1819]: Local version/idstring: SSH-2.0-paramiko_2.7.2\n",
      "2021-06-11 20:50:03,689 - [DEBUG] paramiko.transport [transport._log:1819]: Remote version/idstring: SSH-2.0-OpenSSH_7.4\n",
      "2021-06-11 20:50:03,692 - [INFO] paramiko.transport [transport._log:1819]: Connected (version 2.0, client OpenSSH_7.4)\n",
      "2021-06-11 20:50:03,715 - [DEBUG] paramiko.transport [transport._log:1819]: kex algos:['curve25519-sha256', 'curve25519-sha256@libssh.org', 'ecdh-sha2-nistp256', 'ecdh-sha2-nistp384', 'ecdh-sha2-nistp521', 'diffie-hellman-group-exchange-sha256', 'diffie-hellman-group16-sha512', 'diffie-hellman-group18-sha512', 'diffie-hellman-group-exchange-sha1', 'diffie-hellman-group14-sha256', 'diffie-hellman-group14-sha1', 'diffie-hellman-group1-sha1'] server key:['ssh-rsa', 'rsa-sha2-512', 'rsa-sha2-256'] client encrypt:['aes256-ctr', 'aes192-ctr', 'aes128-ctr'] server encrypt:['aes256-ctr', 'aes192-ctr', 'aes128-ctr'] client mac:['hmac-sha2-512', 'hmac-sha2-256'] server mac:['hmac-sha2-512', 'hmac-sha2-256'] client compress:['none', 'zlib@openssh.com'] server compress:['none', 'zlib@openssh.com'] client lang:[''] server lang:[''] kex follows?False\n",
      "2021-06-11 20:50:03,716 - [DEBUG] paramiko.transport [transport._log:1819]: Kex agreed: curve25519-sha256@libssh.org\n",
      "2021-06-11 20:50:03,717 - [DEBUG] paramiko.transport [transport._log:1819]: HostKey agreed: ssh-rsa\n",
      "2021-06-11 20:50:03,718 - [DEBUG] paramiko.transport [transport._log:1819]: Cipher agreed: aes128-ctr\n",
      "2021-06-11 20:50:03,719 - [DEBUG] paramiko.transport [transport._log:1819]: MAC agreed: hmac-sha2-256\n",
      "2021-06-11 20:50:03,721 - [DEBUG] paramiko.transport [transport._log:1819]: Compression agreed: none\n",
      "2021-06-11 20:50:03,757 - [DEBUG] paramiko.transport [transport._log:1819]: kex engine KexCurve25519 specified hash_algo <built-in function openssl_sha256>\n",
      "2021-06-11 20:50:03,760 - [DEBUG] paramiko.transport [transport._log:1819]: Switch to new keys ...\n",
      "2021-06-11 20:50:03,762 - [DEBUG] paramiko.transport [transport._log:1819]: Attempting password auth...\n",
      "2021-06-11 20:50:03,792 - [DEBUG] paramiko.transport [transport._log:1819]: userauth is OK\n",
      "2021-06-11 20:50:03,841 - [INFO] paramiko.transport [transport._log:1819]: Authentication (password) successful!\n",
      "2021-06-11 20:50:03,846 - [DEBUG] paramiko.transport [channel._log:1212]: [chan 0] Max packet in: 32768 bytes\n",
      "2021-06-11 20:50:03,875 - [DEBUG] paramiko.transport [transport._log:1819]: Received global request \"hostkeys-00@openssh.com\"\n",
      "2021-06-11 20:50:03,878 - [DEBUG] paramiko.transport [transport._log:1819]: Rejecting \"hostkeys-00@openssh.com\" global request from server.\n",
      "2021-06-11 20:50:03,899 - [DEBUG] paramiko.transport [channel._log:1212]: [chan 0] Max packet out: 32768 bytes\n",
      "2021-06-11 20:50:03,900 - [DEBUG] paramiko.transport [transport._log:1819]: Secsh channel 0 opened.\n",
      "2021-06-11 20:50:03,972 - [DEBUG] urllib3.connectionpool [connectionpool._new_conn:971]: Starting new HTTPS connection (1): login.salesforce.com:443\n",
      "2021-06-11 20:50:04,321 - [DEBUG] urllib3.connectionpool [connectionpool._make_request:452]: https://login.salesforce.com:443 \"POST /services/oauth2/token?grant_type=password&client_id=3MVG95jctIhbyCppj0SNJ75IsZ1y8UPGZtSNF4j8FNVXz.De8Lu4jHm3rjRosAtsHy6qjHx3i4S_QbQzvBePG&client_secret=D1623C6D3607D4FC8004B92C761DFB6C1F70CCD129C5501E357028DFA00F5764&username=wang2506%40purdue.edu&password=npass2021HDfJLhBGDx11xWCKlEbHQKhF HTTP/1.1\" 200 None\n",
      "Obtained Salesforce access token ...... True\n",
      "<nanoHUB.pipeline.salesforce.DB2SalesforceAPI.DB2SalesforceAPI object at 0x7f8cca974c10>\n"
     ]
    }
   ],
   "source": [
    "import pandas as pd\n",
    "from pprint import pprint\n",
    "from nanoHUB.pipeline.application import Application\n",
    "\n",
    "\n",
    "# logger.debug('Testing')\n",
    "application = Application.get_instance()\n",
    "nanohub_db = application.new_db_engine('nanohub')\n",
    "\n",
    "salesforce = application.new_salesforce_engine()\n",
    "print(salesforce)"
   ]
  },
  {
   "cell_type": "code",
   "execution_count": 2,
   "metadata": {},
   "outputs": [
    {
     "name": "stdout",
     "output_type": "stream",
     "text": [
      "            id   uid  affiliated  fundedby              created address  \\\n",
      "0     10000001  5568         NaN       NaN  2015-11-20 21:26:04    None   \n",
      "1     10000002  5568         NaN       NaN  2015-11-20 21:29:40    None   \n",
      "2     10000003  None         NaN       0.0                 None           \n",
      "3     10000004  None         NaN       0.0                 None           \n",
      "4     10000005  None         NaN       0.0                 None           \n",
      "...        ...   ...         ...       ...                  ...     ...   \n",
      "4150      2108  2143         0.0      -1.0  0000-00-00 00:00:00           \n",
      "4151      1335  2143         0.0      -1.0  0000-00-00 00:00:00           \n",
      "4152      3050  2143         0.0      -1.0  0000-00-00 00:00:00           \n",
      "4153        38  2143         1.0       0.0  2010-04-22 00:00:00           \n",
      "4154      1525  2143         1.0      -1.0  0000-00-00 00:00:00           \n",
      "\n",
      "                                                 author  \\\n",
      "0     Weber, Bent; Mahapatra, Suddhasatta; Ryu, Hoon...   \n",
      "1     Andrawis, Robert; Bermeo, Jose; Charles, James...   \n",
      "2     Sebastian Steiger;Michael Povolotskyi;Hong-Hyu...   \n",
      "3     Muhammad Usman;Yui-Hong Matthias Tan;Hoon Ryu;...   \n",
      "4       Neophytos Neophytou;Gerhard Klimeck;Hans Kosina   \n",
      "...                                                 ...   \n",
      "4150                       Saurabh Singh;Gautam Kanungo   \n",
      "4151  Saji Joseph{{20305}};Vincent Mathew{{11539}};G...   \n",
      "4152  Kirill Cherkasov{{157635}};Sergey Meshkov;Msti...   \n",
      "4153  D.Q. Andrews{{5431}};R. Cohen{{5632}};R.P. Van...   \n",
      "4154  Hoon Ryu{{14414}};Sunhee Lee{{13570}};B. Weber...   \n",
      "\n",
      "                                              booktitle chapter  \\\n",
      "0                                                  None    None   \n",
      "1                                                  None    None   \n",
      "2                                                                 \n",
      "3                                                                 \n",
      "4                                                                 \n",
      "...                                                 ...     ...   \n",
      "4150                                                              \n",
      "4151                                                              \n",
      "4152                                                              \n",
      "4153                                                              \n",
      "4154  Simulation of Semiconductor Processes and Devi...           \n",
      "\n",
      "                      cite  ... published format formatted  scope scope_id  \\\n",
      "0            1165weber2012  ...         2   None      None  group    20184   \n",
      "1         1564andrawis2015  ...         2   None      None  group    20184   \n",
      "2             1steiger2011  ...         1             None  group    20184   \n",
      "3               2usman2011  ...         1             None  group    20184   \n",
      "4           3neophytou2011  ...         1             None  group    20184   \n",
      "...                    ...  ...       ...    ...       ...    ...      ...   \n",
      "4150                        ...         1   None      None    hub        0   \n",
      "4151  josepha2012transport  ...         1   None      None    hub        0   \n",
      "4152        Cherkasov_2018  ...         1   None      None    hub        0   \n",
      "4153             andrews06  ...         1   None      None    hub        0   \n",
      "4154              ryutight  ...         1   None      None    hub        0   \n",
      "\n",
      "     custom1 custom2 custom3    custom4  \\\n",
      "0       None    None    None       None   \n",
      "1       None    None    None       None   \n",
      "2                  1    J162  J_2011_24   \n",
      "3                  2    J156  J_2011_16   \n",
      "4                  3    J155  J_2011_15   \n",
      "...      ...     ...     ...        ...   \n",
      "4150    None    None    None       None   \n",
      "4151    None    None    None       None   \n",
      "4152    None    None    None       None   \n",
      "4153    None    None    None       None   \n",
      "4154    None    None    None       None   \n",
      "\n",
      "                                                pdf_url  \n",
      "0                                                  None  \n",
      "1                                                  None  \n",
      "2                                                  None  \n",
      "3                                                  None  \n",
      "4                                                  None  \n",
      "...                                                 ...  \n",
      "4150  https://nanohub.org/nanoHUBCitations/citmanage...  \n",
      "4151  https://nanohub.org/nanoHUBCitations/citmanage...  \n",
      "4152  https://nanohub.org/nanoHUBCitations/citmanage...  \n",
      "4153  https://nanohub.org/nanoHUBCitations/citmanage...  \n",
      "4154  https://nanohub.org/nanoHUBCitations/citmanage...  \n",
      "\n",
      "[4155 rows x 62 columns]\n"
     ]
    }
   ],
   "source": [
    "sql_query = \"select * from jos_citations\"\n",
    "citations_df = pd.read_sql_query(sql_query, nanohub_db)\n",
    "pprint(citations_df)\n"
   ]
  },
  {
   "cell_type": "code",
   "execution_count": 3,
   "metadata": {},
   "outputs": [
    {
     "name": "stdout",
     "output_type": "stream",
     "text": [
      "             id       cid                    author  authorid  uidNumber  \\\n",
      "0        189134  10001576          Woody Gilbertson         0     100100   \n",
      "1        189135  10001576  Hesameddin Ilatikhameneh         0      42735   \n",
      "2        189132  10001576            Daniel F Mejia         0      52349   \n",
      "3        189133  10001576             James Charles         0      65635   \n",
      "4        189131  10001576        Prasad Sarangapani         0      72949   \n",
      "...         ...       ...                       ...       ...        ...   \n",
      "16661  15568564      3050            Sergey Meshkov      9765          0   \n",
      "16662  15568560      1335               Saji Joseph      3160      20305   \n",
      "16663  15568561      1335            Vincent Mathew      3161      11539   \n",
      "16664  15568558      2108             Saurabh Singh      6822          0   \n",
      "16665  15568559      2108            Gautam Kanungo      6823          0   \n",
      "\n",
      "       ordering   givenName middleName        surname  \\\n",
      "0             4       Woody                Gilbertson   \n",
      "1             5  Hesameddin             Ilatikhameneh   \n",
      "2             2      Daniel          F          Mejia   \n",
      "3             3       James                   Charles   \n",
      "4             1      Prasad               Sarangapani   \n",
      "...         ...         ...        ...            ...   \n",
      "16661         1      Sergey         A.        Meshkov   \n",
      "16662         0        Saji                    Joseph   \n",
      "16663         1     Vincent                    Mathew   \n",
      "16664         0     Saurabh      Kumar          Singh   \n",
      "16665         1      Gautam        Dey        Kanungo   \n",
      "\n",
      "                                   organization  ... ipCITY ipLATITUDE  \\\n",
      "0                             Purdue University  ...               NaN   \n",
      "1                             Purdue University  ...               NaN   \n",
      "2                             Purdue University  ...               NaN   \n",
      "3                             Purdue University  ...               NaN   \n",
      "4                             Purdue University  ...               NaN   \n",
      "...                                         ...  ...    ...        ...   \n",
      "16661  Bauman Moscow State Technical University  ...               0.0   \n",
      "16662                         Pavanatma College  ...               0.0   \n",
      "16663              Central University of Kerala  ...               0.0   \n",
      "16664                        Stmicroelectronics  ...               0.0   \n",
      "16665                        Stmicroelectronics  ...               0.0   \n",
      "\n",
      "      ipLONGITUDE in_network orcid research_id gscholar_id scopus_id  \\\n",
      "0             NaN          0  None        None        None      None   \n",
      "1             NaN          0  None        None        None      None   \n",
      "2             NaN          0  None        None        None      None   \n",
      "3             NaN          0  None        None        None      None   \n",
      "4             NaN          0  None        None        None      None   \n",
      "...           ...        ...   ...         ...         ...       ...   \n",
      "16661         0.0          0                                           \n",
      "16662         0.0          0                                           \n",
      "16663         0.0          0                                           \n",
      "16664         0.0          0                                           \n",
      "16665         0.0          0                                           \n",
      "\n",
      "      researchgate_id notes  \n",
      "0                None  None  \n",
      "1                None  None  \n",
      "2                None  None  \n",
      "3                None  None  \n",
      "4                None  None  \n",
      "...               ...   ...  \n",
      "16661                        \n",
      "16662                        \n",
      "16663                        \n",
      "16664                        \n",
      "16665                        \n",
      "\n",
      "[16666 rows x 29 columns]\n"
     ]
    }
   ],
   "source": [
    "sql_query = \"select * from jos_citations_authors;\"\n",
    "authors_df = pd.read_sql_query(sql_query, nanohub_db)\n",
    "pprint(authors_df)"
   ]
  },
  {
   "cell_type": "code",
   "execution_count": null,
   "metadata": {
    "jupyter": {
     "outputs_hidden": false
    },
    "pycharm": {
     "name": "#%%\n"
    }
   },
   "outputs": [],
   "source": []
  }
 ],
 "metadata": {
  "celltoolbar": "Tags",
  "kernelspec": {
   "display_name": "Python 3",
   "language": "python",
   "name": "python3"
  },
  "language_info": {
   "codemirror_mode": {
    "name": "ipython",
    "version": 3
   },
   "file_extension": ".py",
   "mimetype": "text/x-python",
   "name": "python",
   "nbconvert_exporter": "python",
   "pygments_lexer": "ipython3",
   "version": "3.9.2"
  },
  "papermill": {
   "duration": 15.722182,
   "end_time": "2021-01-21T06:30:47.783846",
   "environment_variables": {},
   "exception": null,
   "input_path": "/home/users/wang2506/nanohub_salesforce_integ/salesforce/task_citations.ipynb",
   "output_path": "/home/users/wang2506/nanohub_salesforce_integ/salesforce/task_citations.ipynb",
   "parameters": {},
   "start_time": "2021-01-21T06:30:32.061664",
   "version": "2.1.1"
  }
 },
 "nbformat": 4,
 "nbformat_minor": 4
}