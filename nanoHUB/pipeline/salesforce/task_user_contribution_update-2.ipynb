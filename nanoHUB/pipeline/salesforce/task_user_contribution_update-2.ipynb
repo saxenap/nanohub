{
 "cells": [
  {
   "cell_type": "markdown",
   "metadata": {},
   "source": [
    "## update user contributions\n"
   ]
  },
  {
   "cell_type": "code",
   "execution_count": 1,
   "metadata": {
    "execution": {
     "iopub.execute_input": "2021-10-28T03:51:10.685195Z",
     "iopub.status.busy": "2021-10-28T03:51:10.684536Z",
     "iopub.status.idle": "2021-10-28T03:51:10.690537Z",
     "shell.execute_reply": "2021-10-28T03:51:10.689757Z",
     "shell.execute_reply.started": "2021-10-28T03:51:10.685122Z"
    }
   },
   "outputs": [],
   "source": [
    "## should do this on a monthly basis because 1) this is will quickly use up BULK API's allotted quantity\n",
    "## and 2) db2 only updates some usage numbers on a yearly or monthly basis\n",
    "\n",
    "## currently this script takes over 25 minutes to upload to SF"
   ]
  },
  {
   "cell_type": "code",
   "execution_count": 2,
   "metadata": {
    "execution": {
     "iopub.execute_input": "2021-10-28T03:51:10.693364Z",
     "iopub.status.busy": "2021-10-28T03:51:10.692950Z",
     "iopub.status.idle": "2021-10-28T03:51:12.555433Z",
     "shell.execute_reply": "2021-10-28T03:51:12.553875Z",
     "shell.execute_reply.started": "2021-10-28T03:51:10.693335Z"
    }
   },
   "outputs": [
    {
     "name": "stdout",
     "output_type": "stream",
     "text": [
      "\u001b[1mnanoHUB - Serving Students, Researchers & Instructors\u001b[0m\n",
      "Obtained Salesforce access token ...... True\n"
     ]
    }
   ],
   "source": [
    "# API settings\n",
    "api_url = '/services/data/v43.0/sobjects'\n",
    "external_id = 'Name'\n",
    "#object_id = 'ContactToolAssociation__c'\n",
    "\n",
    "# login parameters to be handled by Papermill\n",
    "from nanoHUB.application import Application\n",
    "\n",
    "application = Application.get_instance()\n",
    "nanohub_db = application.new_db_engine('nanohub')\n",
    "\n",
    "salesforce = application.new_salesforce_engine()\n",
    "db_s = salesforce"
   ]
  },
  {
   "cell_type": "code",
   "execution_count": 3,
   "metadata": {
    "execution": {
     "iopub.execute_input": "2021-10-28T03:51:12.558975Z",
     "iopub.status.busy": "2021-10-28T03:51:12.557943Z",
     "iopub.status.idle": "2021-10-28T03:51:12.566702Z",
     "shell.execute_reply": "2021-10-28T03:51:12.565959Z",
     "shell.execute_reply.started": "2021-10-28T03:51:12.558937Z"
    }
   },
   "outputs": [],
   "source": [
    "import sys\n",
    "import pandas as pd\n",
    "import time\n",
    "import datetime"
   ]
  },
  {
   "cell_type": "markdown",
   "metadata": {},
   "source": [
    "## Obtain information from DB2 "
   ]
  },
  {
   "cell_type": "code",
   "execution_count": null,
   "metadata": {},
   "outputs": [],
   "source": []
  },
  {
   "cell_type": "code",
   "execution_count": null,
   "metadata": {
    "tags": []
   },
   "outputs": [],
   "source": []
  },
  {
   "cell_type": "code",
   "execution_count": 4,
   "metadata": {
    "execution": {
     "iopub.execute_input": "2021-10-28T03:51:12.569124Z",
     "iopub.status.busy": "2021-10-28T03:51:12.567976Z",
     "iopub.status.idle": "2021-10-28T03:51:13.031248Z",
     "shell.execute_reply": "2021-10-28T03:51:13.030477Z",
     "shell.execute_reply.started": "2021-10-28T03:51:12.569080Z"
    },
    "pycharm": {
     "name": "#%%\n"
    },
    "tags": []
   },
   "outputs": [
    {
     "data": {
      "text/html": [
       "<div>\n",
       "<style scoped>\n",
       "    .dataframe tbody tr th:only-of-type {\n",
       "        vertical-align: middle;\n",
       "    }\n",
       "\n",
       "    .dataframe tbody tr th {\n",
       "        vertical-align: top;\n",
       "    }\n",
       "\n",
       "    .dataframe thead th {\n",
       "        text-align: right;\n",
       "    }\n",
       "</style>\n",
       "<table border=\"1\" class=\"dataframe\">\n",
       "  <thead>\n",
       "    <tr style=\"text-align: right;\">\n",
       "      <th></th>\n",
       "      <th>hits</th>\n",
       "      <th>created_by</th>\n",
       "    </tr>\n",
       "  </thead>\n",
       "  <tbody>\n",
       "    <tr>\n",
       "      <th>0</th>\n",
       "      <td>6540</td>\n",
       "      <td>4843</td>\n",
       "    </tr>\n",
       "    <tr>\n",
       "      <th>1</th>\n",
       "      <td>44525</td>\n",
       "      <td>8780</td>\n",
       "    </tr>\n",
       "    <tr>\n",
       "      <th>2</th>\n",
       "      <td>5509</td>\n",
       "      <td>12642</td>\n",
       "    </tr>\n",
       "    <tr>\n",
       "      <th>3</th>\n",
       "      <td>7863</td>\n",
       "      <td>8757</td>\n",
       "    </tr>\n",
       "    <tr>\n",
       "      <th>4</th>\n",
       "      <td>44764</td>\n",
       "      <td>8629</td>\n",
       "    </tr>\n",
       "  </tbody>\n",
       "</table>\n",
       "</div>"
      ],
      "text/plain": [
       "    hits  created_by\n",
       "0   6540        4843\n",
       "1  44525        8780\n",
       "2   5509       12642\n",
       "3   7863        8757\n",
       "4  44764        8629"
      ]
     },
     "metadata": {},
     "output_type": "display_data"
    }
   ],
   "source": [
    "# extract the wiki contributions\n",
    "wiki_query = \"select hits, created_by from jos_wiki_pages where state = '1' and scope = 'site';\"\n",
    "wiki_results_df = pd.read_sql_query(wiki_query,nanohub_db)\n",
    "display(wiki_results_df.head())"
   ]
  },
  {
   "cell_type": "code",
   "execution_count": 5,
   "metadata": {
    "execution": {
     "iopub.execute_input": "2021-10-28T03:51:13.034186Z",
     "iopub.status.busy": "2021-10-28T03:51:13.032474Z",
     "iopub.status.idle": "2021-10-28T03:51:13.811841Z",
     "shell.execute_reply": "2021-10-28T03:51:13.810820Z",
     "shell.execute_reply.started": "2021-10-28T03:51:13.034139Z"
    },
    "tags": []
   },
   "outputs": [
    {
     "data": {
      "text/html": [
       "<div>\n",
       "<style scoped>\n",
       "    .dataframe tbody tr th:only-of-type {\n",
       "        vertical-align: middle;\n",
       "    }\n",
       "\n",
       "    .dataframe tbody tr th {\n",
       "        vertical-align: top;\n",
       "    }\n",
       "\n",
       "    .dataframe thead th {\n",
       "        text-align: right;\n",
       "    }\n",
       "</style>\n",
       "<table border=\"1\" class=\"dataframe\">\n",
       "  <thead>\n",
       "    <tr style=\"text-align: right;\">\n",
       "      <th></th>\n",
       "      <th>authorid</th>\n",
       "      <th>hits</th>\n",
       "    </tr>\n",
       "  </thead>\n",
       "  <tbody>\n",
       "    <tr>\n",
       "      <th>0</th>\n",
       "      <td>1871.0</td>\n",
       "      <td>13674</td>\n",
       "    </tr>\n",
       "    <tr>\n",
       "      <th>1</th>\n",
       "      <td>2862.0</td>\n",
       "      <td>24552</td>\n",
       "    </tr>\n",
       "    <tr>\n",
       "      <th>2</th>\n",
       "      <td>8629.0</td>\n",
       "      <td>24552</td>\n",
       "    </tr>\n",
       "    <tr>\n",
       "      <th>3</th>\n",
       "      <td>3858.0</td>\n",
       "      <td>24552</td>\n",
       "    </tr>\n",
       "    <tr>\n",
       "      <th>4</th>\n",
       "      <td>1986.0</td>\n",
       "      <td>24552</td>\n",
       "    </tr>\n",
       "  </tbody>\n",
       "</table>\n",
       "</div>"
      ],
      "text/plain": [
       "   authorid   hits\n",
       "0    1871.0  13674\n",
       "1    2862.0  24552\n",
       "2    8629.0  24552\n",
       "3    3858.0  24552\n",
       "4    1986.0  24552"
      ]
     },
     "metadata": {},
     "output_type": "display_data"
    }
   ],
   "source": [
    "# extract paper contributions; need investigate how to get the usage per paper\n",
    "paper_contribs_query = \"select authorid, hits from jos_resources left join jos_author_assoc \"\\\n",
    "            \"on jos_author_assoc.subid = jos_resources.id where type = '3' and access in ('0','3','1') \"\\\n",
    "            \"and standalone = '1' and published in ('1');\"\n",
    "papers_df = pd.read_sql_query(paper_contribs_query,nanohub_db)\n",
    "display(papers_df.head())"
   ]
  },
  {
   "cell_type": "code",
   "execution_count": 6,
   "metadata": {
    "execution": {
     "iopub.execute_input": "2021-10-28T03:51:13.816534Z",
     "iopub.status.busy": "2021-10-28T03:51:13.813102Z",
     "iopub.status.idle": "2021-10-28T03:51:22.521465Z",
     "shell.execute_reply": "2021-10-28T03:51:22.519905Z",
     "shell.execute_reply.started": "2021-10-28T03:51:13.816468Z"
    },
    "tags": []
   },
   "outputs": [
    {
     "data": {
      "text/html": [
       "<div>\n",
       "<style scoped>\n",
       "    .dataframe tbody tr th:only-of-type {\n",
       "        vertical-align: middle;\n",
       "    }\n",
       "\n",
       "    .dataframe tbody tr th {\n",
       "        vertical-align: top;\n",
       "    }\n",
       "\n",
       "    .dataframe thead th {\n",
       "        text-align: right;\n",
       "    }\n",
       "</style>\n",
       "<table border=\"1\" class=\"dataframe\">\n",
       "  <thead>\n",
       "    <tr style=\"text-align: right;\">\n",
       "      <th></th>\n",
       "      <th>authorid</th>\n",
       "      <th>hits</th>\n",
       "    </tr>\n",
       "  </thead>\n",
       "  <tbody>\n",
       "    <tr>\n",
       "      <th>0</th>\n",
       "      <td>-16.0</td>\n",
       "      <td>10468</td>\n",
       "    </tr>\n",
       "    <tr>\n",
       "      <th>1</th>\n",
       "      <td>3013.0</td>\n",
       "      <td>6991</td>\n",
       "    </tr>\n",
       "    <tr>\n",
       "      <th>2</th>\n",
       "      <td>2862.0</td>\n",
       "      <td>21358</td>\n",
       "    </tr>\n",
       "    <tr>\n",
       "      <th>3</th>\n",
       "      <td>45455.0</td>\n",
       "      <td>19139</td>\n",
       "    </tr>\n",
       "    <tr>\n",
       "      <th>4</th>\n",
       "      <td>-32.0</td>\n",
       "      <td>21475</td>\n",
       "    </tr>\n",
       "    <tr>\n",
       "      <th>...</th>\n",
       "      <td>...</td>\n",
       "      <td>...</td>\n",
       "    </tr>\n",
       "    <tr>\n",
       "      <th>7202</th>\n",
       "      <td>NaN</td>\n",
       "      <td>0</td>\n",
       "    </tr>\n",
       "    <tr>\n",
       "      <th>7203</th>\n",
       "      <td>NaN</td>\n",
       "      <td>0</td>\n",
       "    </tr>\n",
       "    <tr>\n",
       "      <th>7204</th>\n",
       "      <td>NaN</td>\n",
       "      <td>0</td>\n",
       "    </tr>\n",
       "    <tr>\n",
       "      <th>7205</th>\n",
       "      <td>NaN</td>\n",
       "      <td>0</td>\n",
       "    </tr>\n",
       "    <tr>\n",
       "      <th>7206</th>\n",
       "      <td>NaN</td>\n",
       "      <td>0</td>\n",
       "    </tr>\n",
       "  </tbody>\n",
       "</table>\n",
       "<p>7207 rows × 2 columns</p>\n",
       "</div>"
      ],
      "text/plain": [
       "      authorid   hits\n",
       "0        -16.0  10468\n",
       "1       3013.0   6991\n",
       "2       2862.0  21358\n",
       "3      45455.0  19139\n",
       "4        -32.0  21475\n",
       "...        ...    ...\n",
       "7202       NaN      0\n",
       "7203       NaN      0\n",
       "7204       NaN      0\n",
       "7205       NaN      0\n",
       "7206       NaN      0\n",
       "\n",
       "[7207 rows x 2 columns]"
      ]
     },
     "metadata": {},
     "output_type": "display_data"
    }
   ],
   "source": [
    "# extract presentation contributions; need to see how to get usage per presentation\n",
    "presentations_query = \"select authorid, hits from jos_resources left join jos_author_assoc \"\\\n",
    "            \"on jos_author_assoc.subid = jos_resources.id where type = '1' and access in ('0','3','1') \"\\\n",
    "            \"and standalone = '1' and published in ('1');\"\n",
    "presentation_df = pd.read_sql_query(presentations_query,nanohub_db)\n",
    "display(presentation_df)"
   ]
  },
  {
   "cell_type": "code",
   "execution_count": 7,
   "metadata": {
    "execution": {
     "iopub.execute_input": "2021-10-28T03:51:22.525233Z",
     "iopub.status.busy": "2021-10-28T03:51:22.522971Z",
     "iopub.status.idle": "2021-10-28T03:51:24.057643Z",
     "shell.execute_reply": "2021-10-28T03:51:24.056250Z",
     "shell.execute_reply.started": "2021-10-28T03:51:22.525185Z"
    },
    "tags": []
   },
   "outputs": [],
   "source": [
    "sql_query = \"select authorid, hits from jos_resources left join jos_author_assoc \"\\\n",
    "            \"on jos_author_assoc.subid = jos_resources.id where type = '7' and access in ('0','3','1') \"\\\n",
    "            \"and standalone = '1' and published in ('1');\"\n",
    "authors_query = '''\n",
    "SELECT author.authorid, res.hits FROM nanohub.jos_tool tool\n",
    "  LEFT JOIN nanohub.jos_resources res ON res.title = tool.title\n",
    "  LEFT JOIN nanohub.jos_author_assoc author ON author.subid  = res.id\n",
    "WHERE res.published = 1 AND res.;\n",
    "'''\n",
    "tools_df = pd.read_sql_query(sql_query,nanohub_db)"
   ]
  },
  {
   "cell_type": "code",
   "execution_count": null,
   "metadata": {
    "tags": []
   },
   "outputs": [],
   "source": []
  },
  {
   "cell_type": "code",
   "execution_count": 8,
   "metadata": {
    "execution": {
     "iopub.execute_input": "2021-10-28T03:51:24.061273Z",
     "iopub.status.busy": "2021-10-28T03:51:24.060614Z",
     "iopub.status.idle": "2021-10-28T03:51:24.073533Z",
     "shell.execute_reply": "2021-10-28T03:51:24.073011Z",
     "shell.execute_reply.started": "2021-10-28T03:51:24.061236Z"
    },
    "tags": []
   },
   "outputs": [
    {
     "data": {
      "text/html": [
       "<div>\n",
       "<style scoped>\n",
       "    .dataframe tbody tr th:only-of-type {\n",
       "        vertical-align: middle;\n",
       "    }\n",
       "\n",
       "    .dataframe tbody tr th {\n",
       "        vertical-align: top;\n",
       "    }\n",
       "\n",
       "    .dataframe thead th {\n",
       "        text-align: right;\n",
       "    }\n",
       "</style>\n",
       "<table border=\"1\" class=\"dataframe\">\n",
       "  <thead>\n",
       "    <tr style=\"text-align: right;\">\n",
       "      <th></th>\n",
       "      <th>authorid</th>\n",
       "      <th>hits</th>\n",
       "    </tr>\n",
       "  </thead>\n",
       "  <tbody>\n",
       "    <tr>\n",
       "      <th>0</th>\n",
       "      <td>-16.0</td>\n",
       "      <td>10468</td>\n",
       "    </tr>\n",
       "    <tr>\n",
       "      <th>1</th>\n",
       "      <td>3013.0</td>\n",
       "      <td>6991</td>\n",
       "    </tr>\n",
       "    <tr>\n",
       "      <th>2</th>\n",
       "      <td>2862.0</td>\n",
       "      <td>21358</td>\n",
       "    </tr>\n",
       "    <tr>\n",
       "      <th>3</th>\n",
       "      <td>45455.0</td>\n",
       "      <td>19139</td>\n",
       "    </tr>\n",
       "    <tr>\n",
       "      <th>4</th>\n",
       "      <td>-32.0</td>\n",
       "      <td>21475</td>\n",
       "    </tr>\n",
       "  </tbody>\n",
       "</table>\n",
       "</div>"
      ],
      "text/plain": [
       "   authorid   hits\n",
       "0     -16.0  10468\n",
       "1    3013.0   6991\n",
       "2    2862.0  21358\n",
       "3   45455.0  19139\n",
       "4     -32.0  21475"
      ]
     },
     "metadata": {},
     "output_type": "display_data"
    }
   ],
   "source": [
    "display(presentation_df.head())"
   ]
  },
  {
   "cell_type": "code",
   "execution_count": null,
   "metadata": {
    "tags": []
   },
   "outputs": [],
   "source": []
  },
  {
   "cell_type": "code",
   "execution_count": 9,
   "metadata": {
    "execution": {
     "iopub.execute_input": "2021-10-28T03:51:24.076604Z",
     "iopub.status.busy": "2021-10-28T03:51:24.075702Z",
     "iopub.status.idle": "2021-10-28T03:51:24.087738Z",
     "shell.execute_reply": "2021-10-28T03:51:24.087095Z",
     "shell.execute_reply.started": "2021-10-28T03:51:24.076459Z"
    },
    "tags": []
   },
   "outputs": [
    {
     "data": {
      "text/html": [
       "<div>\n",
       "<style scoped>\n",
       "    .dataframe tbody tr th:only-of-type {\n",
       "        vertical-align: middle;\n",
       "    }\n",
       "\n",
       "    .dataframe tbody tr th {\n",
       "        vertical-align: top;\n",
       "    }\n",
       "\n",
       "    .dataframe thead th {\n",
       "        text-align: right;\n",
       "    }\n",
       "</style>\n",
       "<table border=\"1\" class=\"dataframe\">\n",
       "  <thead>\n",
       "    <tr style=\"text-align: right;\">\n",
       "      <th></th>\n",
       "      <th>authorid</th>\n",
       "      <th>hits</th>\n",
       "    </tr>\n",
       "  </thead>\n",
       "  <tbody>\n",
       "    <tr>\n",
       "      <th>0</th>\n",
       "      <td>-5.0</td>\n",
       "      <td>251605</td>\n",
       "    </tr>\n",
       "    <tr>\n",
       "      <th>1</th>\n",
       "      <td>8629.0</td>\n",
       "      <td>50032</td>\n",
       "    </tr>\n",
       "    <tr>\n",
       "      <th>2</th>\n",
       "      <td>3482.0</td>\n",
       "      <td>125516</td>\n",
       "    </tr>\n",
       "    <tr>\n",
       "      <th>3</th>\n",
       "      <td>2862.0</td>\n",
       "      <td>251605</td>\n",
       "    </tr>\n",
       "    <tr>\n",
       "      <th>4</th>\n",
       "      <td>8629.0</td>\n",
       "      <td>251605</td>\n",
       "    </tr>\n",
       "  </tbody>\n",
       "</table>\n",
       "</div>"
      ],
      "text/plain": [
       "   authorid    hits\n",
       "0      -5.0  251605\n",
       "1    8629.0   50032\n",
       "2    3482.0  125516\n",
       "3    2862.0  251605\n",
       "4    8629.0  251605"
      ]
     },
     "metadata": {},
     "output_type": "display_data"
    }
   ],
   "source": [
    "display(tools_df.head())"
   ]
  },
  {
   "cell_type": "code",
   "execution_count": 10,
   "metadata": {
    "execution": {
     "iopub.execute_input": "2021-10-28T03:51:24.090778Z",
     "iopub.status.busy": "2021-10-28T03:51:24.089623Z",
     "iopub.status.idle": "2021-10-28T03:51:24.101399Z",
     "shell.execute_reply": "2021-10-28T03:51:24.099749Z",
     "shell.execute_reply.started": "2021-10-28T03:51:24.090411Z"
    },
    "tags": []
   },
   "outputs": [
    {
     "data": {
      "text/plain": [
       "\"'2021-10-00'\""
      ]
     },
     "metadata": {},
     "output_type": "display_data"
    },
    {
     "data": {
      "text/plain": [
       "\"'2021-10-01'\""
      ]
     },
     "metadata": {},
     "output_type": "display_data"
    }
   ],
   "source": [
    "#pre-filtering queries using datetime\n",
    "date_temp = datetime.datetime.today()\n",
    "year = date_temp.year\n",
    "month = date_temp.month\n",
    "period = 14\n",
    "if month < 10:\n",
    "    date_str0 = '\\''+ str(year)+'-0'+str(month)+'-00'+'\\''\n",
    "    date_str1 = '\\''+str(year)+'-0'+str(month)+'-01'+'\\''\n",
    "else:\n",
    "    date_str0 = '\\''+ str(year)+'-'+str(month)+'-00'+'\\''\n",
    "    date_str1 = '\\''+str(year)+'-'+str(month)+'-01'+'\\''\n",
    "    \n",
    "display(date_str0)\n",
    "display(date_str1)"
   ]
  },
  {
   "cell_type": "code",
   "execution_count": 11,
   "metadata": {
    "execution": {
     "iopub.execute_input": "2021-10-28T03:51:24.104671Z",
     "iopub.status.busy": "2021-10-28T03:51:24.104126Z",
     "iopub.status.idle": "2021-10-28T03:51:24.112502Z",
     "shell.execute_reply": "2021-10-28T03:51:24.111480Z",
     "shell.execute_reply.started": "2021-10-28T03:51:24.104639Z"
    },
    "tags": []
   },
   "outputs": [
    {
     "data": {
      "text/plain": [
       "\"select * from jos_author_stats WHERE datetime between '2021-10-00' and '2021-10-01' and period = 14;\""
      ]
     },
     "metadata": {},
     "output_type": "display_data"
    },
    {
     "data": {
      "text/plain": [
       "'SELECT * FROM jos_author_stats WHERE `datetime` > (NOW() - INTERVAL 1 MONTH) AND period = 14;'"
      ]
     },
     "metadata": {},
     "output_type": "display_data"
    }
   ],
   "source": [
    "# getting the users that used the contributions\n",
    "sql_query = \"select * from jos_author_stats WHERE datetime \" \\\n",
    "    \"between \" + date_str0 +\" and \" + date_str1 + \" and period = 14;\"\n",
    "\n",
    "display(sql_query)\n",
    "\n",
    "sql_query = \"SELECT * FROM jos_author_stats \" \\\n",
    "    \"WHERE `datetime` > \" + \"(NOW() - INTERVAL 1 MONTH) AND period = 14;\"\n",
    "\n",
    "display(sql_query)"
   ]
  },
  {
   "cell_type": "code",
   "execution_count": 12,
   "metadata": {
    "execution": {
     "iopub.execute_input": "2021-10-28T03:51:24.117029Z",
     "iopub.status.busy": "2021-10-28T03:51:24.116226Z",
     "iopub.status.idle": "2021-10-28T03:51:24.499291Z",
     "shell.execute_reply": "2021-10-28T03:51:24.497306Z",
     "shell.execute_reply.started": "2021-10-28T03:51:24.116688Z"
    },
    "tags": []
   },
   "outputs": [
    {
     "data": {
      "text/html": [
       "<div>\n",
       "<style scoped>\n",
       "    .dataframe tbody tr th:only-of-type {\n",
       "        vertical-align: middle;\n",
       "    }\n",
       "\n",
       "    .dataframe tbody tr th {\n",
       "        vertical-align: top;\n",
       "    }\n",
       "\n",
       "    .dataframe thead th {\n",
       "        text-align: right;\n",
       "    }\n",
       "</style>\n",
       "<table border=\"1\" class=\"dataframe\">\n",
       "  <thead>\n",
       "    <tr style=\"text-align: right;\">\n",
       "      <th></th>\n",
       "      <th>id</th>\n",
       "      <th>authorid</th>\n",
       "      <th>tool_users</th>\n",
       "      <th>andmore_users</th>\n",
       "      <th>total_users</th>\n",
       "      <th>datetime</th>\n",
       "      <th>period</th>\n",
       "    </tr>\n",
       "  </thead>\n",
       "  <tbody>\n",
       "    <tr>\n",
       "      <th>3380</th>\n",
       "      <td>1287950</td>\n",
       "      <td>88194</td>\n",
       "      <td>NaN</td>\n",
       "      <td>5</td>\n",
       "      <td>5</td>\n",
       "      <td>2021-10-00 00:00:00</td>\n",
       "      <td>14</td>\n",
       "    </tr>\n",
       "    <tr>\n",
       "      <th>3381</th>\n",
       "      <td>1287953</td>\n",
       "      <td>10712</td>\n",
       "      <td>NaN</td>\n",
       "      <td>6</td>\n",
       "      <td>6</td>\n",
       "      <td>2021-10-00 00:00:00</td>\n",
       "      <td>14</td>\n",
       "    </tr>\n",
       "    <tr>\n",
       "      <th>3382</th>\n",
       "      <td>1287956</td>\n",
       "      <td>337740</td>\n",
       "      <td>1.0</td>\n",
       "      <td>0</td>\n",
       "      <td>1</td>\n",
       "      <td>2021-10-00 00:00:00</td>\n",
       "      <td>14</td>\n",
       "    </tr>\n",
       "    <tr>\n",
       "      <th>3383</th>\n",
       "      <td>1287959</td>\n",
       "      <td>338337</td>\n",
       "      <td>1.0</td>\n",
       "      <td>0</td>\n",
       "      <td>1</td>\n",
       "      <td>2021-10-00 00:00:00</td>\n",
       "      <td>14</td>\n",
       "    </tr>\n",
       "    <tr>\n",
       "      <th>3384</th>\n",
       "      <td>1287962</td>\n",
       "      <td>16514</td>\n",
       "      <td>NaN</td>\n",
       "      <td>0</td>\n",
       "      <td>0</td>\n",
       "      <td>2021-10-00 00:00:00</td>\n",
       "      <td>14</td>\n",
       "    </tr>\n",
       "  </tbody>\n",
       "</table>\n",
       "</div>"
      ],
      "text/plain": [
       "           id  authorid  tool_users  andmore_users  total_users  \\\n",
       "3380  1287950     88194         NaN              5            5   \n",
       "3381  1287953     10712         NaN              6            6   \n",
       "3382  1287956    337740         1.0              0            1   \n",
       "3383  1287959    338337         1.0              0            1   \n",
       "3384  1287962     16514         NaN              0            0   \n",
       "\n",
       "                 datetime  period  \n",
       "3380  2021-10-00 00:00:00      14  \n",
       "3381  2021-10-00 00:00:00      14  \n",
       "3382  2021-10-00 00:00:00      14  \n",
       "3383  2021-10-00 00:00:00      14  \n",
       "3384  2021-10-00 00:00:00      14  "
      ]
     },
     "metadata": {},
     "output_type": "display_data"
    }
   ],
   "source": [
    "result_users_df = pd.read_sql_query(sql_query, nanohub_db)\n",
    "display(result_users_df.tail())"
   ]
  },
  {
   "cell_type": "code",
   "execution_count": 13,
   "metadata": {
    "execution": {
     "iopub.execute_input": "2021-10-28T03:51:24.503316Z",
     "iopub.status.busy": "2021-10-28T03:51:24.502265Z",
     "iopub.status.idle": "2021-10-28T03:51:26.527511Z",
     "shell.execute_reply": "2021-10-28T03:51:26.525982Z",
     "shell.execute_reply.started": "2021-10-28T03:51:24.503273Z"
    },
    "tags": []
   },
   "outputs": [
    {
     "data": {
      "text/plain": [
       "'select * from jos_author_stats WHERE period = 14 ORDER BY datetime DESC LIMIT 100;'"
      ]
     },
     "metadata": {},
     "output_type": "display_data"
    },
    {
     "data": {
      "text/html": [
       "<div>\n",
       "<style scoped>\n",
       "    .dataframe tbody tr th:only-of-type {\n",
       "        vertical-align: middle;\n",
       "    }\n",
       "\n",
       "    .dataframe tbody tr th {\n",
       "        vertical-align: top;\n",
       "    }\n",
       "\n",
       "    .dataframe thead th {\n",
       "        text-align: right;\n",
       "    }\n",
       "</style>\n",
       "<table border=\"1\" class=\"dataframe\">\n",
       "  <thead>\n",
       "    <tr style=\"text-align: right;\">\n",
       "      <th></th>\n",
       "      <th>id</th>\n",
       "      <th>authorid</th>\n",
       "      <th>tool_users</th>\n",
       "      <th>andmore_users</th>\n",
       "      <th>total_users</th>\n",
       "      <th>datetime</th>\n",
       "      <th>period</th>\n",
       "    </tr>\n",
       "  </thead>\n",
       "  <tbody>\n",
       "    <tr>\n",
       "      <th>0</th>\n",
       "      <td>1277810</td>\n",
       "      <td>4843</td>\n",
       "      <td>3514</td>\n",
       "      <td>923</td>\n",
       "      <td>4416</td>\n",
       "      <td>2021-10-00 00:00:00</td>\n",
       "      <td>14</td>\n",
       "    </tr>\n",
       "    <tr>\n",
       "      <th>1</th>\n",
       "      <td>1277813</td>\n",
       "      <td>28115</td>\n",
       "      <td>2008</td>\n",
       "      <td>0</td>\n",
       "      <td>2008</td>\n",
       "      <td>2021-10-00 00:00:00</td>\n",
       "      <td>14</td>\n",
       "    </tr>\n",
       "    <tr>\n",
       "      <th>2</th>\n",
       "      <td>1277816</td>\n",
       "      <td>3482</td>\n",
       "      <td>82013</td>\n",
       "      <td>788473</td>\n",
       "      <td>834868</td>\n",
       "      <td>2021-10-00 00:00:00</td>\n",
       "      <td>14</td>\n",
       "    </tr>\n",
       "    <tr>\n",
       "      <th>3</th>\n",
       "      <td>1277819</td>\n",
       "      <td>9736</td>\n",
       "      <td>51234</td>\n",
       "      <td>917383</td>\n",
       "      <td>945985</td>\n",
       "      <td>2021-10-00 00:00:00</td>\n",
       "      <td>14</td>\n",
       "    </tr>\n",
       "    <tr>\n",
       "      <th>4</th>\n",
       "      <td>1277822</td>\n",
       "      <td>10617</td>\n",
       "      <td>8577</td>\n",
       "      <td>5608</td>\n",
       "      <td>13235</td>\n",
       "      <td>2021-10-00 00:00:00</td>\n",
       "      <td>14</td>\n",
       "    </tr>\n",
       "    <tr>\n",
       "      <th>...</th>\n",
       "      <td>...</td>\n",
       "      <td>...</td>\n",
       "      <td>...</td>\n",
       "      <td>...</td>\n",
       "      <td>...</td>\n",
       "      <td>...</td>\n",
       "      <td>...</td>\n",
       "    </tr>\n",
       "    <tr>\n",
       "      <th>95</th>\n",
       "      <td>1278095</td>\n",
       "      <td>83475</td>\n",
       "      <td>161</td>\n",
       "      <td>0</td>\n",
       "      <td>161</td>\n",
       "      <td>2021-10-00 00:00:00</td>\n",
       "      <td>14</td>\n",
       "    </tr>\n",
       "    <tr>\n",
       "      <th>96</th>\n",
       "      <td>1278098</td>\n",
       "      <td>21711</td>\n",
       "      <td>2243</td>\n",
       "      <td>1857</td>\n",
       "      <td>3940</td>\n",
       "      <td>2021-10-00 00:00:00</td>\n",
       "      <td>14</td>\n",
       "    </tr>\n",
       "    <tr>\n",
       "      <th>97</th>\n",
       "      <td>1278101</td>\n",
       "      <td>46626</td>\n",
       "      <td>674</td>\n",
       "      <td>0</td>\n",
       "      <td>674</td>\n",
       "      <td>2021-10-00 00:00:00</td>\n",
       "      <td>14</td>\n",
       "    </tr>\n",
       "    <tr>\n",
       "      <th>98</th>\n",
       "      <td>1278104</td>\n",
       "      <td>123827</td>\n",
       "      <td>143</td>\n",
       "      <td>0</td>\n",
       "      <td>143</td>\n",
       "      <td>2021-10-00 00:00:00</td>\n",
       "      <td>14</td>\n",
       "    </tr>\n",
       "    <tr>\n",
       "      <th>99</th>\n",
       "      <td>1278107</td>\n",
       "      <td>1986</td>\n",
       "      <td>5411</td>\n",
       "      <td>5370</td>\n",
       "      <td>10169</td>\n",
       "      <td>2021-10-00 00:00:00</td>\n",
       "      <td>14</td>\n",
       "    </tr>\n",
       "  </tbody>\n",
       "</table>\n",
       "<p>100 rows × 7 columns</p>\n",
       "</div>"
      ],
      "text/plain": [
       "         id  authorid  tool_users  andmore_users  total_users  \\\n",
       "0   1277810      4843        3514            923         4416   \n",
       "1   1277813     28115        2008              0         2008   \n",
       "2   1277816      3482       82013         788473       834868   \n",
       "3   1277819      9736       51234         917383       945985   \n",
       "4   1277822     10617        8577           5608        13235   \n",
       "..      ...       ...         ...            ...          ...   \n",
       "95  1278095     83475         161              0          161   \n",
       "96  1278098     21711        2243           1857         3940   \n",
       "97  1278101     46626         674              0          674   \n",
       "98  1278104    123827         143              0          143   \n",
       "99  1278107      1986        5411           5370        10169   \n",
       "\n",
       "               datetime  period  \n",
       "0   2021-10-00 00:00:00      14  \n",
       "1   2021-10-00 00:00:00      14  \n",
       "2   2021-10-00 00:00:00      14  \n",
       "3   2021-10-00 00:00:00      14  \n",
       "4   2021-10-00 00:00:00      14  \n",
       "..                  ...     ...  \n",
       "95  2021-10-00 00:00:00      14  \n",
       "96  2021-10-00 00:00:00      14  \n",
       "97  2021-10-00 00:00:00      14  \n",
       "98  2021-10-00 00:00:00      14  \n",
       "99  2021-10-00 00:00:00      14  \n",
       "\n",
       "[100 rows x 7 columns]"
      ]
     },
     "metadata": {},
     "output_type": "display_data"
    }
   ],
   "source": [
    "# getting the users that used the contributions\n",
    "sql_query = \"select * from jos_author_stats WHERE period = 14 ORDER BY datetime DESC LIMIT 100;\"\n",
    "display(sql_query)\n",
    "\n",
    "test_df = pd.read_sql_query(sql_query, nanohub_db)\n",
    "display(test_df)\n"
   ]
  },
  {
   "cell_type": "code",
   "execution_count": 14,
   "metadata": {
    "execution": {
     "iopub.execute_input": "2021-10-28T03:51:26.529023Z",
     "iopub.status.busy": "2021-10-28T03:51:26.528757Z",
     "iopub.status.idle": "2021-10-28T03:51:26.545112Z",
     "shell.execute_reply": "2021-10-28T03:51:26.543999Z",
     "shell.execute_reply.started": "2021-10-28T03:51:26.528994Z"
    },
    "tags": []
   },
   "outputs": [
    {
     "data": {
      "text/html": [
       "<div>\n",
       "<style scoped>\n",
       "    .dataframe tbody tr th:only-of-type {\n",
       "        vertical-align: middle;\n",
       "    }\n",
       "\n",
       "    .dataframe tbody tr th {\n",
       "        vertical-align: top;\n",
       "    }\n",
       "\n",
       "    .dataframe thead th {\n",
       "        text-align: right;\n",
       "    }\n",
       "</style>\n",
       "<table border=\"1\" class=\"dataframe\">\n",
       "  <thead>\n",
       "    <tr style=\"text-align: right;\">\n",
       "      <th></th>\n",
       "      <th>id</th>\n",
       "      <th>authorid</th>\n",
       "      <th>tool_users</th>\n",
       "      <th>andmore_users</th>\n",
       "      <th>total_users</th>\n",
       "      <th>datetime</th>\n",
       "      <th>period</th>\n",
       "    </tr>\n",
       "  </thead>\n",
       "  <tbody>\n",
       "    <tr>\n",
       "      <th>271</th>\n",
       "      <td>1278623</td>\n",
       "      <td>29294</td>\n",
       "      <td>4609.0</td>\n",
       "      <td>19282</td>\n",
       "      <td>23639</td>\n",
       "      <td>2021-10-00 00:00:00</td>\n",
       "      <td>14</td>\n",
       "    </tr>\n",
       "  </tbody>\n",
       "</table>\n",
       "</div>"
      ],
      "text/plain": [
       "          id  authorid  tool_users  andmore_users  total_users  \\\n",
       "271  1278623     29294      4609.0          19282        23639   \n",
       "\n",
       "                datetime  period  \n",
       "271  2021-10-00 00:00:00      14  "
      ]
     },
     "metadata": {},
     "output_type": "display_data"
    }
   ],
   "source": [
    "# for Tanya\n",
    "display(result_users_df.loc[result_users_df['authorid'] == 29294])"
   ]
  },
  {
   "cell_type": "raw",
   "metadata": {},
   "source": [
    "## deprecated - the table hasn't been updated in years\n",
    "# getting the total number of contributions\n",
    "sql_query = \"select * from jos_real_contributors;\" #this is not up-to-date\n",
    "\n",
    "num_contri_df = pd.read_sql_query(sql_query, engine)\n",
    "display(num_contri_df.head(2))"
   ]
  },
  {
   "cell_type": "code",
   "execution_count": 15,
   "metadata": {
    "execution": {
     "iopub.execute_input": "2021-10-28T03:51:26.546482Z",
     "iopub.status.busy": "2021-10-28T03:51:26.546301Z",
     "iopub.status.idle": "2021-10-28T03:51:26.589274Z",
     "shell.execute_reply": "2021-10-28T03:51:26.587983Z",
     "shell.execute_reply.started": "2021-10-28T03:51:26.546454Z"
    },
    "tags": []
   },
   "outputs": [
    {
     "data": {
      "text/html": [
       "<div>\n",
       "<style scoped>\n",
       "    .dataframe tbody tr th:only-of-type {\n",
       "        vertical-align: middle;\n",
       "    }\n",
       "\n",
       "    .dataframe tbody tr th {\n",
       "        vertical-align: top;\n",
       "    }\n",
       "\n",
       "    .dataframe thead th {\n",
       "        text-align: right;\n",
       "    }\n",
       "</style>\n",
       "<table border=\"1\" class=\"dataframe\">\n",
       "  <thead>\n",
       "    <tr style=\"text-align: right;\">\n",
       "      <th></th>\n",
       "      <th>hits</th>\n",
       "      <th>created_by</th>\n",
       "    </tr>\n",
       "  </thead>\n",
       "  <tbody>\n",
       "    <tr>\n",
       "      <th>0</th>\n",
       "      <td>6540</td>\n",
       "      <td>4843</td>\n",
       "    </tr>\n",
       "    <tr>\n",
       "      <th>1</th>\n",
       "      <td>44525</td>\n",
       "      <td>8780</td>\n",
       "    </tr>\n",
       "  </tbody>\n",
       "</table>\n",
       "</div>"
      ],
      "text/plain": [
       "    hits  created_by\n",
       "0   6540        4843\n",
       "1  44525        8780"
      ]
     },
     "metadata": {},
     "output_type": "display_data"
    },
    {
     "data": {
      "text/html": [
       "<div>\n",
       "<style scoped>\n",
       "    .dataframe tbody tr th:only-of-type {\n",
       "        vertical-align: middle;\n",
       "    }\n",
       "\n",
       "    .dataframe tbody tr th {\n",
       "        vertical-align: top;\n",
       "    }\n",
       "\n",
       "    .dataframe thead th {\n",
       "        text-align: right;\n",
       "    }\n",
       "</style>\n",
       "<table border=\"1\" class=\"dataframe\">\n",
       "  <thead>\n",
       "    <tr style=\"text-align: right;\">\n",
       "      <th></th>\n",
       "      <th>authorid</th>\n",
       "      <th>hits</th>\n",
       "    </tr>\n",
       "  </thead>\n",
       "  <tbody>\n",
       "    <tr>\n",
       "      <th>0</th>\n",
       "      <td>1871.0</td>\n",
       "      <td>13674</td>\n",
       "    </tr>\n",
       "    <tr>\n",
       "      <th>1</th>\n",
       "      <td>2862.0</td>\n",
       "      <td>24552</td>\n",
       "    </tr>\n",
       "  </tbody>\n",
       "</table>\n",
       "</div>"
      ],
      "text/plain": [
       "   authorid   hits\n",
       "0    1871.0  13674\n",
       "1    2862.0  24552"
      ]
     },
     "metadata": {},
     "output_type": "display_data"
    },
    {
     "data": {
      "text/html": [
       "<div>\n",
       "<style scoped>\n",
       "    .dataframe tbody tr th:only-of-type {\n",
       "        vertical-align: middle;\n",
       "    }\n",
       "\n",
       "    .dataframe tbody tr th {\n",
       "        vertical-align: top;\n",
       "    }\n",
       "\n",
       "    .dataframe thead th {\n",
       "        text-align: right;\n",
       "    }\n",
       "</style>\n",
       "<table border=\"1\" class=\"dataframe\">\n",
       "  <thead>\n",
       "    <tr style=\"text-align: right;\">\n",
       "      <th></th>\n",
       "      <th>authorid</th>\n",
       "      <th>hits</th>\n",
       "    </tr>\n",
       "  </thead>\n",
       "  <tbody>\n",
       "    <tr>\n",
       "      <th>0</th>\n",
       "      <td>-16.0</td>\n",
       "      <td>10468</td>\n",
       "    </tr>\n",
       "    <tr>\n",
       "      <th>1</th>\n",
       "      <td>3013.0</td>\n",
       "      <td>6991</td>\n",
       "    </tr>\n",
       "  </tbody>\n",
       "</table>\n",
       "</div>"
      ],
      "text/plain": [
       "   authorid   hits\n",
       "0     -16.0  10468\n",
       "1    3013.0   6991"
      ]
     },
     "metadata": {},
     "output_type": "display_data"
    },
    {
     "data": {
      "text/html": [
       "<div>\n",
       "<style scoped>\n",
       "    .dataframe tbody tr th:only-of-type {\n",
       "        vertical-align: middle;\n",
       "    }\n",
       "\n",
       "    .dataframe tbody tr th {\n",
       "        vertical-align: top;\n",
       "    }\n",
       "\n",
       "    .dataframe thead th {\n",
       "        text-align: right;\n",
       "    }\n",
       "</style>\n",
       "<table border=\"1\" class=\"dataframe\">\n",
       "  <thead>\n",
       "    <tr style=\"text-align: right;\">\n",
       "      <th></th>\n",
       "      <th>authorid</th>\n",
       "      <th>hits</th>\n",
       "    </tr>\n",
       "  </thead>\n",
       "  <tbody>\n",
       "    <tr>\n",
       "      <th>0</th>\n",
       "      <td>-5.0</td>\n",
       "      <td>251605</td>\n",
       "    </tr>\n",
       "    <tr>\n",
       "      <th>1</th>\n",
       "      <td>8629.0</td>\n",
       "      <td>50032</td>\n",
       "    </tr>\n",
       "  </tbody>\n",
       "</table>\n",
       "</div>"
      ],
      "text/plain": [
       "   authorid    hits\n",
       "0      -5.0  251605\n",
       "1    8629.0   50032"
      ]
     },
     "metadata": {},
     "output_type": "display_data"
    },
    {
     "data": {
      "text/html": [
       "<div>\n",
       "<style scoped>\n",
       "    .dataframe tbody tr th:only-of-type {\n",
       "        vertical-align: middle;\n",
       "    }\n",
       "\n",
       "    .dataframe tbody tr th {\n",
       "        vertical-align: top;\n",
       "    }\n",
       "\n",
       "    .dataframe thead th {\n",
       "        text-align: right;\n",
       "    }\n",
       "</style>\n",
       "<table border=\"1\" class=\"dataframe\">\n",
       "  <thead>\n",
       "    <tr style=\"text-align: right;\">\n",
       "      <th></th>\n",
       "      <th>id</th>\n",
       "      <th>authorid</th>\n",
       "      <th>tool_users</th>\n",
       "      <th>andmore_users</th>\n",
       "      <th>total_users</th>\n",
       "      <th>datetime</th>\n",
       "      <th>period</th>\n",
       "    </tr>\n",
       "  </thead>\n",
       "  <tbody>\n",
       "    <tr>\n",
       "      <th>0</th>\n",
       "      <td>1277810</td>\n",
       "      <td>4843</td>\n",
       "      <td>3514.0</td>\n",
       "      <td>923</td>\n",
       "      <td>4416</td>\n",
       "      <td>2021-10-00 00:00:00</td>\n",
       "      <td>14</td>\n",
       "    </tr>\n",
       "    <tr>\n",
       "      <th>1</th>\n",
       "      <td>1277813</td>\n",
       "      <td>28115</td>\n",
       "      <td>2008.0</td>\n",
       "      <td>0</td>\n",
       "      <td>2008</td>\n",
       "      <td>2021-10-00 00:00:00</td>\n",
       "      <td>14</td>\n",
       "    </tr>\n",
       "  </tbody>\n",
       "</table>\n",
       "</div>"
      ],
      "text/plain": [
       "        id  authorid  tool_users  andmore_users  total_users  \\\n",
       "0  1277810      4843      3514.0            923         4416   \n",
       "1  1277813     28115      2008.0              0         2008   \n",
       "\n",
       "              datetime  period  \n",
       "0  2021-10-00 00:00:00      14  \n",
       "1  2021-10-00 00:00:00      14  "
      ]
     },
     "metadata": {},
     "output_type": "display_data"
    },
    {
     "name": "stdout",
     "output_type": "stream",
     "text": [
      "(3385, 7)\n"
     ]
    }
   ],
   "source": [
    "display(wiki_results_df.head(2))\n",
    "display(papers_df.head(2))\n",
    "display(presentation_df.head(2))\n",
    "display(tools_df.head(2))\n",
    "display(result_users_df.head(2))\n",
    "print(result_users_df.shape)"
   ]
  },
  {
   "cell_type": "code",
   "execution_count": 16,
   "metadata": {
    "execution": {
     "iopub.execute_input": "2021-10-28T03:51:26.592008Z",
     "iopub.status.busy": "2021-10-28T03:51:26.590561Z",
     "iopub.status.idle": "2021-10-28T03:51:26.604153Z",
     "shell.execute_reply": "2021-10-28T03:51:26.603267Z",
     "shell.execute_reply.started": "2021-10-28T03:51:26.591972Z"
    },
    "tags": []
   },
   "outputs": [
    {
     "data": {
      "text/html": [
       "<div>\n",
       "<style scoped>\n",
       "    .dataframe tbody tr th:only-of-type {\n",
       "        vertical-align: middle;\n",
       "    }\n",
       "\n",
       "    .dataframe tbody tr th {\n",
       "        vertical-align: top;\n",
       "    }\n",
       "\n",
       "    .dataframe thead th {\n",
       "        text-align: right;\n",
       "    }\n",
       "</style>\n",
       "<table border=\"1\" class=\"dataframe\">\n",
       "  <thead>\n",
       "    <tr style=\"text-align: right;\">\n",
       "      <th></th>\n",
       "      <th>id</th>\n",
       "      <th>authorid</th>\n",
       "      <th>tool_users</th>\n",
       "      <th>andmore_users</th>\n",
       "      <th>total_users</th>\n",
       "      <th>datetime</th>\n",
       "      <th>period</th>\n",
       "    </tr>\n",
       "  </thead>\n",
       "  <tbody>\n",
       "    <tr>\n",
       "      <th>271</th>\n",
       "      <td>1278623</td>\n",
       "      <td>29294</td>\n",
       "      <td>4609.0</td>\n",
       "      <td>19282</td>\n",
       "      <td>23639</td>\n",
       "      <td>2021-10-00 00:00:00</td>\n",
       "      <td>14</td>\n",
       "    </tr>\n",
       "  </tbody>\n",
       "</table>\n",
       "</div>"
      ],
      "text/plain": [
       "          id  authorid  tool_users  andmore_users  total_users  \\\n",
       "271  1278623     29294      4609.0          19282        23639   \n",
       "\n",
       "                datetime  period  \n",
       "271  2021-10-00 00:00:00      14  "
      ]
     },
     "metadata": {},
     "output_type": "display_data"
    }
   ],
   "source": [
    "display(result_users_df.loc[result_users_df['authorid'] == 29294])"
   ]
  },
  {
   "cell_type": "code",
   "execution_count": 17,
   "metadata": {
    "execution": {
     "iopub.execute_input": "2021-10-28T03:51:26.606582Z",
     "iopub.status.busy": "2021-10-28T03:51:26.605267Z",
     "iopub.status.idle": "2021-10-28T03:51:26.613455Z",
     "shell.execute_reply": "2021-10-28T03:51:26.611821Z",
     "shell.execute_reply.started": "2021-10-28T03:51:26.606546Z"
    },
    "tags": []
   },
   "outputs": [],
   "source": [
    "## get rid of all negative authorids from all of the dataframes\n",
    "wikidrops = []\n",
    "wikikeeps = []\n",
    "for ind,val in enumerate(wiki_results_df['created_by'].to_list()):\n",
    "    if val <= 0:\n",
    "        wikidrops.append(ind)\n",
    "    else:\n",
    "        wikikeeps.append(ind)\n",
    "wiki_results_df = wiki_results_df.iloc[wikikeeps,:]"
   ]
  },
  {
   "cell_type": "code",
   "execution_count": 18,
   "metadata": {
    "execution": {
     "iopub.execute_input": "2021-10-28T03:51:26.616831Z",
     "iopub.status.busy": "2021-10-28T03:51:26.615450Z",
     "iopub.status.idle": "2021-10-28T03:51:26.632351Z",
     "shell.execute_reply": "2021-10-28T03:51:26.630615Z",
     "shell.execute_reply.started": "2021-10-28T03:51:26.616785Z"
    },
    "tags": []
   },
   "outputs": [
    {
     "data": {
      "text/html": [
       "<div>\n",
       "<style scoped>\n",
       "    .dataframe tbody tr th:only-of-type {\n",
       "        vertical-align: middle;\n",
       "    }\n",
       "\n",
       "    .dataframe tbody tr th {\n",
       "        vertical-align: top;\n",
       "    }\n",
       "\n",
       "    .dataframe thead th {\n",
       "        text-align: right;\n",
       "    }\n",
       "</style>\n",
       "<table border=\"1\" class=\"dataframe\">\n",
       "  <thead>\n",
       "    <tr style=\"text-align: right;\">\n",
       "      <th></th>\n",
       "      <th>hits</th>\n",
       "      <th>created_by</th>\n",
       "    </tr>\n",
       "  </thead>\n",
       "  <tbody>\n",
       "    <tr>\n",
       "      <th>0</th>\n",
       "      <td>6540</td>\n",
       "      <td>4843</td>\n",
       "    </tr>\n",
       "    <tr>\n",
       "      <th>1</th>\n",
       "      <td>44525</td>\n",
       "      <td>8780</td>\n",
       "    </tr>\n",
       "  </tbody>\n",
       "</table>\n",
       "</div>"
      ],
      "text/plain": [
       "    hits  created_by\n",
       "0   6540        4843\n",
       "1  44525        8780"
      ]
     },
     "metadata": {},
     "output_type": "display_data"
    }
   ],
   "source": [
    "display(wiki_results_df.head(2))"
   ]
  },
  {
   "cell_type": "code",
   "execution_count": 19,
   "metadata": {
    "execution": {
     "iopub.execute_input": "2021-10-28T03:51:26.634916Z",
     "iopub.status.busy": "2021-10-28T03:51:26.633694Z",
     "iopub.status.idle": "2021-10-28T03:51:26.641594Z",
     "shell.execute_reply": "2021-10-28T03:51:26.640805Z",
     "shell.execute_reply.started": "2021-10-28T03:51:26.634878Z"
    },
    "tags": []
   },
   "outputs": [],
   "source": [
    "## papers df \n",
    "pdrops = []\n",
    "pkeeps = []\n",
    "for ind,val in enumerate(papers_df['authorid'].to_list()):\n",
    "    if val <= 0:\n",
    "        pdrops.append(ind)\n",
    "    else:\n",
    "        pkeeps.append(ind)\n",
    "papers_df = papers_df.iloc[pkeeps,:]"
   ]
  },
  {
   "cell_type": "code",
   "execution_count": 20,
   "metadata": {
    "execution": {
     "iopub.execute_input": "2021-10-28T03:51:26.644551Z",
     "iopub.status.busy": "2021-10-28T03:51:26.643354Z",
     "iopub.status.idle": "2021-10-28T03:51:26.655857Z",
     "shell.execute_reply": "2021-10-28T03:51:26.654288Z",
     "shell.execute_reply.started": "2021-10-28T03:51:26.644499Z"
    },
    "tags": []
   },
   "outputs": [
    {
     "data": {
      "text/html": [
       "<div>\n",
       "<style scoped>\n",
       "    .dataframe tbody tr th:only-of-type {\n",
       "        vertical-align: middle;\n",
       "    }\n",
       "\n",
       "    .dataframe tbody tr th {\n",
       "        vertical-align: top;\n",
       "    }\n",
       "\n",
       "    .dataframe thead th {\n",
       "        text-align: right;\n",
       "    }\n",
       "</style>\n",
       "<table border=\"1\" class=\"dataframe\">\n",
       "  <thead>\n",
       "    <tr style=\"text-align: right;\">\n",
       "      <th></th>\n",
       "      <th>authorid</th>\n",
       "      <th>hits</th>\n",
       "    </tr>\n",
       "  </thead>\n",
       "  <tbody>\n",
       "    <tr>\n",
       "      <th>0</th>\n",
       "      <td>1871.0</td>\n",
       "      <td>13674</td>\n",
       "    </tr>\n",
       "    <tr>\n",
       "      <th>1</th>\n",
       "      <td>2862.0</td>\n",
       "      <td>24552</td>\n",
       "    </tr>\n",
       "  </tbody>\n",
       "</table>\n",
       "</div>"
      ],
      "text/plain": [
       "   authorid   hits\n",
       "0    1871.0  13674\n",
       "1    2862.0  24552"
      ]
     },
     "metadata": {},
     "output_type": "display_data"
    }
   ],
   "source": [
    "display(papers_df.head(2))"
   ]
  },
  {
   "cell_type": "code",
   "execution_count": 21,
   "metadata": {
    "execution": {
     "iopub.execute_input": "2021-10-28T03:51:26.658001Z",
     "iopub.status.busy": "2021-10-28T03:51:26.657171Z",
     "iopub.status.idle": "2021-10-28T03:51:26.667407Z",
     "shell.execute_reply": "2021-10-28T03:51:26.666502Z",
     "shell.execute_reply.started": "2021-10-28T03:51:26.657968Z"
    },
    "tags": []
   },
   "outputs": [],
   "source": [
    "## presentation_df\n",
    "prdrops = []\n",
    "prkeeps = []\n",
    "for ind,val in enumerate(presentation_df['authorid'].to_list()):\n",
    "    if val <= 0:\n",
    "        prdrops.append(ind)\n",
    "    else:\n",
    "        prkeeps.append(ind)\n",
    "presentation_df = presentation_df.iloc[prkeeps,:]"
   ]
  },
  {
   "cell_type": "code",
   "execution_count": 22,
   "metadata": {
    "execution": {
     "iopub.execute_input": "2021-10-28T03:51:26.670548Z",
     "iopub.status.busy": "2021-10-28T03:51:26.668671Z",
     "iopub.status.idle": "2021-10-28T03:51:26.680581Z",
     "shell.execute_reply": "2021-10-28T03:51:26.679863Z",
     "shell.execute_reply.started": "2021-10-28T03:51:26.670503Z"
    },
    "tags": []
   },
   "outputs": [
    {
     "data": {
      "text/html": [
       "<div>\n",
       "<style scoped>\n",
       "    .dataframe tbody tr th:only-of-type {\n",
       "        vertical-align: middle;\n",
       "    }\n",
       "\n",
       "    .dataframe tbody tr th {\n",
       "        vertical-align: top;\n",
       "    }\n",
       "\n",
       "    .dataframe thead th {\n",
       "        text-align: right;\n",
       "    }\n",
       "</style>\n",
       "<table border=\"1\" class=\"dataframe\">\n",
       "  <thead>\n",
       "    <tr style=\"text-align: right;\">\n",
       "      <th></th>\n",
       "      <th>authorid</th>\n",
       "      <th>hits</th>\n",
       "    </tr>\n",
       "  </thead>\n",
       "  <tbody>\n",
       "    <tr>\n",
       "      <th>1</th>\n",
       "      <td>3013.0</td>\n",
       "      <td>6991</td>\n",
       "    </tr>\n",
       "    <tr>\n",
       "      <th>2</th>\n",
       "      <td>2862.0</td>\n",
       "      <td>21358</td>\n",
       "    </tr>\n",
       "  </tbody>\n",
       "</table>\n",
       "</div>"
      ],
      "text/plain": [
       "   authorid   hits\n",
       "1    3013.0   6991\n",
       "2    2862.0  21358"
      ]
     },
     "metadata": {},
     "output_type": "display_data"
    }
   ],
   "source": [
    "display(presentation_df.head(2))"
   ]
  },
  {
   "cell_type": "markdown",
   "metadata": {},
   "source": [
    "## roll up information from wiki_results_df, papers_df, and presentation_df"
   ]
  },
  {
   "cell_type": "code",
   "execution_count": 23,
   "metadata": {
    "execution": {
     "iopub.execute_input": "2021-10-28T03:51:26.684216Z",
     "iopub.status.busy": "2021-10-28T03:51:26.683377Z",
     "iopub.status.idle": "2021-10-28T03:51:26.705914Z",
     "shell.execute_reply": "2021-10-28T03:51:26.704192Z",
     "shell.execute_reply.started": "2021-10-28T03:51:26.684180Z"
    },
    "tags": []
   },
   "outputs": [
    {
     "data": {
      "text/html": [
       "<div>\n",
       "<style scoped>\n",
       "    .dataframe tbody tr th:only-of-type {\n",
       "        vertical-align: middle;\n",
       "    }\n",
       "\n",
       "    .dataframe tbody tr th {\n",
       "        vertical-align: top;\n",
       "    }\n",
       "\n",
       "    .dataframe thead th {\n",
       "        text-align: right;\n",
       "    }\n",
       "</style>\n",
       "<table border=\"1\" class=\"dataframe\">\n",
       "  <thead>\n",
       "    <tr style=\"text-align: right;\">\n",
       "      <th></th>\n",
       "      <th>nanoHUB_user_ID__c1</th>\n",
       "      <th>wiki_contributions__c</th>\n",
       "      <th>nanoHUB_user_ID__c2</th>\n",
       "      <th>wiki_usage__c</th>\n",
       "    </tr>\n",
       "  </thead>\n",
       "  <tbody>\n",
       "    <tr>\n",
       "      <th>0</th>\n",
       "      <td>1852</td>\n",
       "      <td>3</td>\n",
       "      <td>1852</td>\n",
       "      <td>27718</td>\n",
       "    </tr>\n",
       "    <tr>\n",
       "      <th>1</th>\n",
       "      <td>2862</td>\n",
       "      <td>1</td>\n",
       "      <td>2862</td>\n",
       "      <td>5280</td>\n",
       "    </tr>\n",
       "  </tbody>\n",
       "</table>\n",
       "</div>"
      ],
      "text/plain": [
       "   nanoHUB_user_ID__c1  wiki_contributions__c  nanoHUB_user_ID__c2  \\\n",
       "0                 1852                      3                 1852   \n",
       "1                 2862                      1                 2862   \n",
       "\n",
       "   wiki_usage__c  \n",
       "0          27718  \n",
       "1           5280  "
      ]
     },
     "metadata": {},
     "output_type": "display_data"
    }
   ],
   "source": [
    "# wiki_results_df\n",
    "\n",
    "## get the number of unique wiki contributions\n",
    "wikic = wiki_results_df.groupby(['created_by']).size().reset_index() #need reset_index to save the authorid/created_by field\n",
    "wikic.columns = ['nanoHUB_user_ID__c','wiki_contributions__c']\n",
    "wikic = pd.DataFrame(wikic)\n",
    "\n",
    "## rollup usage\n",
    "wikic2 = wiki_results_df.groupby(['created_by']).sum().reset_index()\n",
    "wikic2.columns = ['nanoHUB_user_ID__c','wiki_usage__c']\n",
    "wikic2 = pd.DataFrame(wikic2)\n",
    "\n",
    "wikic = wikic.join(wikic2,lsuffix='1', rsuffix='2')\n",
    "display(wikic.head(2))"
   ]
  },
  {
   "cell_type": "code",
   "execution_count": 24,
   "metadata": {
    "execution": {
     "iopub.execute_input": "2021-10-28T03:51:26.708241Z",
     "iopub.status.busy": "2021-10-28T03:51:26.707528Z",
     "iopub.status.idle": "2021-10-28T03:51:26.721231Z",
     "shell.execute_reply": "2021-10-28T03:51:26.719877Z",
     "shell.execute_reply.started": "2021-10-28T03:51:26.708205Z"
    },
    "tags": []
   },
   "outputs": [
    {
     "data": {
      "text/html": [
       "<div>\n",
       "<style scoped>\n",
       "    .dataframe tbody tr th:only-of-type {\n",
       "        vertical-align: middle;\n",
       "    }\n",
       "\n",
       "    .dataframe tbody tr th {\n",
       "        vertical-align: top;\n",
       "    }\n",
       "\n",
       "    .dataframe thead th {\n",
       "        text-align: right;\n",
       "    }\n",
       "</style>\n",
       "<table border=\"1\" class=\"dataframe\">\n",
       "  <thead>\n",
       "    <tr style=\"text-align: right;\">\n",
       "      <th></th>\n",
       "      <th>nanoHUB_user_ID__c</th>\n",
       "      <th>wiki_contributions__c</th>\n",
       "      <th>wiki_usage__c</th>\n",
       "    </tr>\n",
       "  </thead>\n",
       "  <tbody>\n",
       "    <tr>\n",
       "      <th>0</th>\n",
       "      <td>1852</td>\n",
       "      <td>3</td>\n",
       "      <td>27718</td>\n",
       "    </tr>\n",
       "    <tr>\n",
       "      <th>1</th>\n",
       "      <td>2862</td>\n",
       "      <td>1</td>\n",
       "      <td>5280</td>\n",
       "    </tr>\n",
       "  </tbody>\n",
       "</table>\n",
       "</div>"
      ],
      "text/plain": [
       "   nanoHUB_user_ID__c  wiki_contributions__c  wiki_usage__c\n",
       "0                1852                      3          27718\n",
       "1                2862                      1           5280"
      ]
     },
     "metadata": {},
     "output_type": "display_data"
    }
   ],
   "source": [
    "wikic = wikic.drop(columns=['nanoHUB_user_ID__c2'])\n",
    "wikic = wikic.rename(columns={\"nanoHUB_user_ID__c1\": \"nanoHUB_user_ID__c\"})\n",
    "display(wikic.head(2))"
   ]
  },
  {
   "cell_type": "code",
   "execution_count": 25,
   "metadata": {
    "execution": {
     "iopub.execute_input": "2021-10-28T03:51:26.724355Z",
     "iopub.status.busy": "2021-10-28T03:51:26.723198Z",
     "iopub.status.idle": "2021-10-28T03:51:26.737987Z",
     "shell.execute_reply": "2021-10-28T03:51:26.736464Z",
     "shell.execute_reply.started": "2021-10-28T03:51:26.724319Z"
    },
    "tags": []
   },
   "outputs": [
    {
     "data": {
      "text/html": [
       "<div>\n",
       "<style scoped>\n",
       "    .dataframe tbody tr th:only-of-type {\n",
       "        vertical-align: middle;\n",
       "    }\n",
       "\n",
       "    .dataframe tbody tr th {\n",
       "        vertical-align: top;\n",
       "    }\n",
       "\n",
       "    .dataframe thead th {\n",
       "        text-align: right;\n",
       "    }\n",
       "</style>\n",
       "<table border=\"1\" class=\"dataframe\">\n",
       "  <thead>\n",
       "    <tr style=\"text-align: right;\">\n",
       "      <th></th>\n",
       "      <th>nanoHUB_user_ID__c</th>\n",
       "      <th>paper_contributions__c</th>\n",
       "    </tr>\n",
       "  </thead>\n",
       "  <tbody>\n",
       "    <tr>\n",
       "      <th>0</th>\n",
       "      <td>1852.0</td>\n",
       "      <td>3</td>\n",
       "    </tr>\n",
       "    <tr>\n",
       "      <th>1</th>\n",
       "      <td>1871.0</td>\n",
       "      <td>1</td>\n",
       "    </tr>\n",
       "  </tbody>\n",
       "</table>\n",
       "</div>"
      ],
      "text/plain": [
       "   nanoHUB_user_ID__c  paper_contributions__c\n",
       "0              1852.0                       3\n",
       "1              1871.0                       1"
      ]
     },
     "metadata": {},
     "output_type": "display_data"
    }
   ],
   "source": [
    "# papers_df - just need the number of unique contributions\n",
    "\n",
    "## get the number of unique paper contributions\n",
    "papersc = papers_df.groupby(['authorid']).size().reset_index() #need reset_index to save the authorid/created_by field\n",
    "papersc.columns = ['nanoHUB_user_ID__c','paper_contributions__c']\n",
    "papersc = pd.DataFrame(papersc)\n",
    "\n",
    "## to add in the number of paper hits in the future ##TODO\n",
    "\n",
    "display(papersc.head(2))"
   ]
  },
  {
   "cell_type": "code",
   "execution_count": 26,
   "metadata": {
    "execution": {
     "iopub.execute_input": "2021-10-28T03:51:26.740597Z",
     "iopub.status.busy": "2021-10-28T03:51:26.739213Z",
     "iopub.status.idle": "2021-10-28T03:51:26.761042Z",
     "shell.execute_reply": "2021-10-28T03:51:26.759988Z",
     "shell.execute_reply.started": "2021-10-28T03:51:26.740549Z"
    },
    "tags": []
   },
   "outputs": [
    {
     "data": {
      "text/html": [
       "<div>\n",
       "<style scoped>\n",
       "    .dataframe tbody tr th:only-of-type {\n",
       "        vertical-align: middle;\n",
       "    }\n",
       "\n",
       "    .dataframe tbody tr th {\n",
       "        vertical-align: top;\n",
       "    }\n",
       "\n",
       "    .dataframe thead th {\n",
       "        text-align: right;\n",
       "    }\n",
       "</style>\n",
       "<table border=\"1\" class=\"dataframe\">\n",
       "  <thead>\n",
       "    <tr style=\"text-align: right;\">\n",
       "      <th></th>\n",
       "      <th>nanoHUB_user_ID__c</th>\n",
       "      <th>presentations_contributions__c</th>\n",
       "    </tr>\n",
       "  </thead>\n",
       "  <tbody>\n",
       "    <tr>\n",
       "      <th>0</th>\n",
       "      <td>1742.0</td>\n",
       "      <td>2</td>\n",
       "    </tr>\n",
       "    <tr>\n",
       "      <th>1</th>\n",
       "      <td>1810.0</td>\n",
       "      <td>1</td>\n",
       "    </tr>\n",
       "  </tbody>\n",
       "</table>\n",
       "</div>"
      ],
      "text/plain": [
       "   nanoHUB_user_ID__c  presentations_contributions__c\n",
       "0              1742.0                               2\n",
       "1              1810.0                               1"
      ]
     },
     "metadata": {},
     "output_type": "display_data"
    }
   ],
   "source": [
    "# presentation_df - just need the number of unique contributions\n",
    "\n",
    "## get the number of unique presentation contributions\n",
    "pres_c = presentation_df.groupby(['authorid']).size().reset_index() #need reset_index to save the authorid/created_by field\n",
    "pres_c.columns = ['nanoHUB_user_ID__c','presentations_contributions__c']\n",
    "pres_c = pd.DataFrame(pres_c)\n",
    "\n",
    "## to add in the number of paper hits in the future ##TODO\n",
    "\n",
    "display(pres_c.head(2))"
   ]
  },
  {
   "cell_type": "markdown",
   "metadata": {},
   "source": [
    "## Big picture users dataframe development"
   ]
  },
  {
   "cell_type": "code",
   "execution_count": 27,
   "metadata": {
    "execution": {
     "iopub.execute_input": "2021-10-28T03:51:26.763016Z",
     "iopub.status.busy": "2021-10-28T03:51:26.762088Z",
     "iopub.status.idle": "2021-10-28T03:51:26.770726Z",
     "shell.execute_reply": "2021-10-28T03:51:26.769892Z",
     "shell.execute_reply.started": "2021-10-28T03:51:26.762840Z"
    },
    "tags": []
   },
   "outputs": [],
   "source": [
    "# rename the authorid in result_users_df, then join all of the dataframes\n",
    "ovr_df = result_users_df.rename(columns={\"authorid\": \"nanoHUB_user_ID__c\"})\n",
    "ovr_df['contributor__c'] = 0"
   ]
  },
  {
   "cell_type": "code",
   "execution_count": 28,
   "metadata": {
    "execution": {
     "iopub.execute_input": "2021-10-28T03:51:26.773440Z",
     "iopub.status.busy": "2021-10-28T03:51:26.772614Z",
     "iopub.status.idle": "2021-10-28T03:51:26.794171Z",
     "shell.execute_reply": "2021-10-28T03:51:26.792995Z",
     "shell.execute_reply.started": "2021-10-28T03:51:26.773407Z"
    },
    "tags": []
   },
   "outputs": [
    {
     "data": {
      "text/html": [
       "<div>\n",
       "<style scoped>\n",
       "    .dataframe tbody tr th:only-of-type {\n",
       "        vertical-align: middle;\n",
       "    }\n",
       "\n",
       "    .dataframe tbody tr th {\n",
       "        vertical-align: top;\n",
       "    }\n",
       "\n",
       "    .dataframe thead th {\n",
       "        text-align: right;\n",
       "    }\n",
       "</style>\n",
       "<table border=\"1\" class=\"dataframe\">\n",
       "  <thead>\n",
       "    <tr style=\"text-align: right;\">\n",
       "      <th></th>\n",
       "      <th>nanoHUB_user_ID__c</th>\n",
       "      <th>tool_users</th>\n",
       "      <th>andmore_users</th>\n",
       "      <th>total_users</th>\n",
       "      <th>contributor__c</th>\n",
       "    </tr>\n",
       "  </thead>\n",
       "  <tbody>\n",
       "    <tr>\n",
       "      <th>0</th>\n",
       "      <td>4843</td>\n",
       "      <td>3514.0</td>\n",
       "      <td>923</td>\n",
       "      <td>4416</td>\n",
       "      <td>0</td>\n",
       "    </tr>\n",
       "    <tr>\n",
       "      <th>1</th>\n",
       "      <td>28115</td>\n",
       "      <td>2008.0</td>\n",
       "      <td>0</td>\n",
       "      <td>2008</td>\n",
       "      <td>0</td>\n",
       "    </tr>\n",
       "  </tbody>\n",
       "</table>\n",
       "</div>"
      ],
      "text/plain": [
       "   nanoHUB_user_ID__c  tool_users  andmore_users  total_users  contributor__c\n",
       "0                4843      3514.0            923         4416               0\n",
       "1               28115      2008.0              0         2008               0"
      ]
     },
     "metadata": {},
     "output_type": "display_data"
    },
    {
     "data": {
      "text/html": [
       "<div>\n",
       "<style scoped>\n",
       "    .dataframe tbody tr th:only-of-type {\n",
       "        vertical-align: middle;\n",
       "    }\n",
       "\n",
       "    .dataframe tbody tr th {\n",
       "        vertical-align: top;\n",
       "    }\n",
       "\n",
       "    .dataframe thead th {\n",
       "        text-align: right;\n",
       "    }\n",
       "</style>\n",
       "<table border=\"1\" class=\"dataframe\">\n",
       "  <thead>\n",
       "    <tr style=\"text-align: right;\">\n",
       "      <th></th>\n",
       "      <th>nanoHUB_user_ID__c</th>\n",
       "      <th>tool_users</th>\n",
       "      <th>andmore_users</th>\n",
       "      <th>total_users</th>\n",
       "      <th>contributor__c</th>\n",
       "    </tr>\n",
       "  </thead>\n",
       "  <tbody>\n",
       "    <tr>\n",
       "      <th>3383</th>\n",
       "      <td>338337</td>\n",
       "      <td>1.0</td>\n",
       "      <td>0</td>\n",
       "      <td>1</td>\n",
       "      <td>0</td>\n",
       "    </tr>\n",
       "    <tr>\n",
       "      <th>3384</th>\n",
       "      <td>16514</td>\n",
       "      <td>NaN</td>\n",
       "      <td>0</td>\n",
       "      <td>0</td>\n",
       "      <td>0</td>\n",
       "    </tr>\n",
       "  </tbody>\n",
       "</table>\n",
       "</div>"
      ],
      "text/plain": [
       "      nanoHUB_user_ID__c  tool_users  andmore_users  total_users  \\\n",
       "3383              338337         1.0              0            1   \n",
       "3384               16514         NaN              0            0   \n",
       "\n",
       "      contributor__c  \n",
       "3383               0  \n",
       "3384               0  "
      ]
     },
     "metadata": {},
     "output_type": "display_data"
    }
   ],
   "source": [
    "## get rid of all negative nanohub ids\n",
    "drops = []\n",
    "keeps = []\n",
    "for ind,val in enumerate(ovr_df['nanoHUB_user_ID__c'].to_list()):\n",
    "    if val <= 0:\n",
    "        drops.append(ind)\n",
    "    else:\n",
    "        keeps.append(ind)\n",
    "ovr_df = ovr_df.iloc[keeps,:]\n",
    "\n",
    "ovr_df = ovr_df.drop(columns=['datetime','period','id'])\n",
    "\n",
    "display(ovr_df.head(2))\n",
    "display(ovr_df.tail(2))"
   ]
  },
  {
   "cell_type": "code",
   "execution_count": 29,
   "metadata": {
    "execution": {
     "iopub.execute_input": "2021-10-28T03:51:26.795511Z",
     "iopub.status.busy": "2021-10-28T03:51:26.795037Z",
     "iopub.status.idle": "2021-10-28T03:51:26.819204Z",
     "shell.execute_reply": "2021-10-28T03:51:26.818275Z",
     "shell.execute_reply.started": "2021-10-28T03:51:26.795482Z"
    },
    "tags": []
   },
   "outputs": [
    {
     "data": {
      "text/html": [
       "<div>\n",
       "<style scoped>\n",
       "    .dataframe tbody tr th:only-of-type {\n",
       "        vertical-align: middle;\n",
       "    }\n",
       "\n",
       "    .dataframe tbody tr th {\n",
       "        vertical-align: top;\n",
       "    }\n",
       "\n",
       "    .dataframe thead th {\n",
       "        text-align: right;\n",
       "    }\n",
       "</style>\n",
       "<table border=\"1\" class=\"dataframe\">\n",
       "  <thead>\n",
       "    <tr style=\"text-align: right;\">\n",
       "      <th></th>\n",
       "      <th>tool_users</th>\n",
       "      <th>andmore_users</th>\n",
       "      <th>total_users</th>\n",
       "      <th>contributor__c</th>\n",
       "      <th>wiki_contributions__c</th>\n",
       "      <th>wiki_usage__c</th>\n",
       "      <th>paper_contributions__c</th>\n",
       "      <th>presentations_contributions__c</th>\n",
       "    </tr>\n",
       "    <tr>\n",
       "      <th>nanoHUB_user_ID__c</th>\n",
       "      <th></th>\n",
       "      <th></th>\n",
       "      <th></th>\n",
       "      <th></th>\n",
       "      <th></th>\n",
       "      <th></th>\n",
       "      <th></th>\n",
       "      <th></th>\n",
       "    </tr>\n",
       "  </thead>\n",
       "  <tbody>\n",
       "    <tr>\n",
       "      <th>4843</th>\n",
       "      <td>3514.0</td>\n",
       "      <td>923</td>\n",
       "      <td>4416</td>\n",
       "      <td>0</td>\n",
       "      <td>1.0</td>\n",
       "      <td>6540.0</td>\n",
       "      <td>NaN</td>\n",
       "      <td>NaN</td>\n",
       "    </tr>\n",
       "    <tr>\n",
       "      <th>28115</th>\n",
       "      <td>2008.0</td>\n",
       "      <td>0</td>\n",
       "      <td>2008</td>\n",
       "      <td>0</td>\n",
       "      <td>NaN</td>\n",
       "      <td>NaN</td>\n",
       "      <td>NaN</td>\n",
       "      <td>NaN</td>\n",
       "    </tr>\n",
       "    <tr>\n",
       "      <th>3482</th>\n",
       "      <td>82013.0</td>\n",
       "      <td>788473</td>\n",
       "      <td>834868</td>\n",
       "      <td>0</td>\n",
       "      <td>20.0</td>\n",
       "      <td>259089.0</td>\n",
       "      <td>9.0</td>\n",
       "      <td>133.0</td>\n",
       "    </tr>\n",
       "    <tr>\n",
       "      <th>9736</th>\n",
       "      <td>51234.0</td>\n",
       "      <td>917383</td>\n",
       "      <td>945985</td>\n",
       "      <td>0</td>\n",
       "      <td>6.0</td>\n",
       "      <td>40012.0</td>\n",
       "      <td>4.0</td>\n",
       "      <td>39.0</td>\n",
       "    </tr>\n",
       "    <tr>\n",
       "      <th>10617</th>\n",
       "      <td>8577.0</td>\n",
       "      <td>5608</td>\n",
       "      <td>13235</td>\n",
       "      <td>0</td>\n",
       "      <td>NaN</td>\n",
       "      <td>NaN</td>\n",
       "      <td>NaN</td>\n",
       "      <td>4.0</td>\n",
       "    </tr>\n",
       "    <tr>\n",
       "      <th>14002</th>\n",
       "      <td>51333.0</td>\n",
       "      <td>16057</td>\n",
       "      <td>65121</td>\n",
       "      <td>0</td>\n",
       "      <td>NaN</td>\n",
       "      <td>NaN</td>\n",
       "      <td>1.0</td>\n",
       "      <td>2.0</td>\n",
       "    </tr>\n",
       "    <tr>\n",
       "      <th>28836</th>\n",
       "      <td>9985.0</td>\n",
       "      <td>11154</td>\n",
       "      <td>20297</td>\n",
       "      <td>0</td>\n",
       "      <td>NaN</td>\n",
       "      <td>NaN</td>\n",
       "      <td>1.0</td>\n",
       "      <td>8.0</td>\n",
       "    </tr>\n",
       "    <tr>\n",
       "      <th>13570</th>\n",
       "      <td>3578.0</td>\n",
       "      <td>4009</td>\n",
       "      <td>7420</td>\n",
       "      <td>0</td>\n",
       "      <td>NaN</td>\n",
       "      <td>NaN</td>\n",
       "      <td>NaN</td>\n",
       "      <td>1.0</td>\n",
       "    </tr>\n",
       "    <tr>\n",
       "      <th>10676</th>\n",
       "      <td>19092.0</td>\n",
       "      <td>3038</td>\n",
       "      <td>21497</td>\n",
       "      <td>0</td>\n",
       "      <td>NaN</td>\n",
       "      <td>NaN</td>\n",
       "      <td>NaN</td>\n",
       "      <td>NaN</td>\n",
       "    </tr>\n",
       "    <tr>\n",
       "      <th>37033</th>\n",
       "      <td>12179.0</td>\n",
       "      <td>0</td>\n",
       "      <td>12179</td>\n",
       "      <td>0</td>\n",
       "      <td>NaN</td>\n",
       "      <td>NaN</td>\n",
       "      <td>NaN</td>\n",
       "      <td>NaN</td>\n",
       "    </tr>\n",
       "  </tbody>\n",
       "</table>\n",
       "</div>"
      ],
      "text/plain": [
       "                    tool_users  andmore_users  total_users  contributor__c  \\\n",
       "nanoHUB_user_ID__c                                                           \n",
       "4843                    3514.0            923         4416               0   \n",
       "28115                   2008.0              0         2008               0   \n",
       "3482                   82013.0         788473       834868               0   \n",
       "9736                   51234.0         917383       945985               0   \n",
       "10617                   8577.0           5608        13235               0   \n",
       "14002                  51333.0          16057        65121               0   \n",
       "28836                   9985.0          11154        20297               0   \n",
       "13570                   3578.0           4009         7420               0   \n",
       "10676                  19092.0           3038        21497               0   \n",
       "37033                  12179.0              0        12179               0   \n",
       "\n",
       "                    wiki_contributions__c  wiki_usage__c  \\\n",
       "nanoHUB_user_ID__c                                         \n",
       "4843                                  1.0         6540.0   \n",
       "28115                                 NaN            NaN   \n",
       "3482                                 20.0       259089.0   \n",
       "9736                                  6.0        40012.0   \n",
       "10617                                 NaN            NaN   \n",
       "14002                                 NaN            NaN   \n",
       "28836                                 NaN            NaN   \n",
       "13570                                 NaN            NaN   \n",
       "10676                                 NaN            NaN   \n",
       "37033                                 NaN            NaN   \n",
       "\n",
       "                    paper_contributions__c  presentations_contributions__c  \n",
       "nanoHUB_user_ID__c                                                          \n",
       "4843                                   NaN                             NaN  \n",
       "28115                                  NaN                             NaN  \n",
       "3482                                   9.0                           133.0  \n",
       "9736                                   4.0                            39.0  \n",
       "10617                                  NaN                             4.0  \n",
       "14002                                  1.0                             2.0  \n",
       "28836                                  1.0                             8.0  \n",
       "13570                                  NaN                             1.0  \n",
       "10676                                  NaN                             NaN  \n",
       "37033                                  NaN                             NaN  "
      ]
     },
     "metadata": {},
     "output_type": "display_data"
    }
   ],
   "source": [
    "ovr_df = ovr_df.set_index('nanoHUB_user_ID__c').join(wikic.set_index('nanoHUB_user_ID__c')) \n",
    "ovr_df = ovr_df.join(papersc.set_index('nanoHUB_user_ID__c')) \n",
    "ovr_df = ovr_df.join(pres_c.set_index('nanoHUB_user_ID__c')) \n",
    "\n",
    "display(ovr_df.head(10))\n",
    "#use .reset_index() to extract it later"
   ]
  },
  {
   "cell_type": "code",
   "execution_count": 30,
   "metadata": {
    "execution": {
     "iopub.execute_input": "2021-10-28T03:51:26.821589Z",
     "iopub.status.busy": "2021-10-28T03:51:26.820129Z",
     "iopub.status.idle": "2021-10-28T03:51:26.837551Z",
     "shell.execute_reply": "2021-10-28T03:51:26.836893Z",
     "shell.execute_reply.started": "2021-10-28T03:51:26.821558Z"
    },
    "tags": []
   },
   "outputs": [
    {
     "data": {
      "text/html": [
       "<div>\n",
       "<style scoped>\n",
       "    .dataframe tbody tr th:only-of-type {\n",
       "        vertical-align: middle;\n",
       "    }\n",
       "\n",
       "    .dataframe tbody tr th {\n",
       "        vertical-align: top;\n",
       "    }\n",
       "\n",
       "    .dataframe thead th {\n",
       "        text-align: right;\n",
       "    }\n",
       "</style>\n",
       "<table border=\"1\" class=\"dataframe\">\n",
       "  <thead>\n",
       "    <tr style=\"text-align: right;\">\n",
       "      <th></th>\n",
       "      <th>nanoHUB_user_ID__c</th>\n",
       "      <th>tool_users</th>\n",
       "      <th>andmore_users</th>\n",
       "      <th>total_users</th>\n",
       "      <th>contributor__c</th>\n",
       "      <th>wiki_contributions__c</th>\n",
       "      <th>wiki_usage__c</th>\n",
       "      <th>paper_contributions__c</th>\n",
       "      <th>presentations_contributions__c</th>\n",
       "    </tr>\n",
       "  </thead>\n",
       "  <tbody>\n",
       "    <tr>\n",
       "      <th>0</th>\n",
       "      <td>4843</td>\n",
       "      <td>3514.0</td>\n",
       "      <td>923</td>\n",
       "      <td>4416</td>\n",
       "      <td>0</td>\n",
       "      <td>1.0</td>\n",
       "      <td>6540.0</td>\n",
       "      <td>NaN</td>\n",
       "      <td>NaN</td>\n",
       "    </tr>\n",
       "    <tr>\n",
       "      <th>1</th>\n",
       "      <td>28115</td>\n",
       "      <td>2008.0</td>\n",
       "      <td>0</td>\n",
       "      <td>2008</td>\n",
       "      <td>0</td>\n",
       "      <td>NaN</td>\n",
       "      <td>NaN</td>\n",
       "      <td>NaN</td>\n",
       "      <td>NaN</td>\n",
       "    </tr>\n",
       "    <tr>\n",
       "      <th>2</th>\n",
       "      <td>3482</td>\n",
       "      <td>82013.0</td>\n",
       "      <td>788473</td>\n",
       "      <td>834868</td>\n",
       "      <td>0</td>\n",
       "      <td>20.0</td>\n",
       "      <td>259089.0</td>\n",
       "      <td>9.0</td>\n",
       "      <td>133.0</td>\n",
       "    </tr>\n",
       "    <tr>\n",
       "      <th>3</th>\n",
       "      <td>9736</td>\n",
       "      <td>51234.0</td>\n",
       "      <td>917383</td>\n",
       "      <td>945985</td>\n",
       "      <td>0</td>\n",
       "      <td>6.0</td>\n",
       "      <td>40012.0</td>\n",
       "      <td>4.0</td>\n",
       "      <td>39.0</td>\n",
       "    </tr>\n",
       "    <tr>\n",
       "      <th>4</th>\n",
       "      <td>10617</td>\n",
       "      <td>8577.0</td>\n",
       "      <td>5608</td>\n",
       "      <td>13235</td>\n",
       "      <td>0</td>\n",
       "      <td>NaN</td>\n",
       "      <td>NaN</td>\n",
       "      <td>NaN</td>\n",
       "      <td>4.0</td>\n",
       "    </tr>\n",
       "    <tr>\n",
       "      <th>5</th>\n",
       "      <td>14002</td>\n",
       "      <td>51333.0</td>\n",
       "      <td>16057</td>\n",
       "      <td>65121</td>\n",
       "      <td>0</td>\n",
       "      <td>NaN</td>\n",
       "      <td>NaN</td>\n",
       "      <td>1.0</td>\n",
       "      <td>2.0</td>\n",
       "    </tr>\n",
       "    <tr>\n",
       "      <th>6</th>\n",
       "      <td>28836</td>\n",
       "      <td>9985.0</td>\n",
       "      <td>11154</td>\n",
       "      <td>20297</td>\n",
       "      <td>0</td>\n",
       "      <td>NaN</td>\n",
       "      <td>NaN</td>\n",
       "      <td>1.0</td>\n",
       "      <td>8.0</td>\n",
       "    </tr>\n",
       "    <tr>\n",
       "      <th>7</th>\n",
       "      <td>13570</td>\n",
       "      <td>3578.0</td>\n",
       "      <td>4009</td>\n",
       "      <td>7420</td>\n",
       "      <td>0</td>\n",
       "      <td>NaN</td>\n",
       "      <td>NaN</td>\n",
       "      <td>NaN</td>\n",
       "      <td>1.0</td>\n",
       "    </tr>\n",
       "    <tr>\n",
       "      <th>8</th>\n",
       "      <td>10676</td>\n",
       "      <td>19092.0</td>\n",
       "      <td>3038</td>\n",
       "      <td>21497</td>\n",
       "      <td>0</td>\n",
       "      <td>NaN</td>\n",
       "      <td>NaN</td>\n",
       "      <td>NaN</td>\n",
       "      <td>NaN</td>\n",
       "    </tr>\n",
       "    <tr>\n",
       "      <th>9</th>\n",
       "      <td>37033</td>\n",
       "      <td>12179.0</td>\n",
       "      <td>0</td>\n",
       "      <td>12179</td>\n",
       "      <td>0</td>\n",
       "      <td>NaN</td>\n",
       "      <td>NaN</td>\n",
       "      <td>NaN</td>\n",
       "      <td>NaN</td>\n",
       "    </tr>\n",
       "  </tbody>\n",
       "</table>\n",
       "</div>"
      ],
      "text/plain": [
       "   nanoHUB_user_ID__c  tool_users  andmore_users  total_users  contributor__c  \\\n",
       "0                4843      3514.0            923         4416               0   \n",
       "1               28115      2008.0              0         2008               0   \n",
       "2                3482     82013.0         788473       834868               0   \n",
       "3                9736     51234.0         917383       945985               0   \n",
       "4               10617      8577.0           5608        13235               0   \n",
       "5               14002     51333.0          16057        65121               0   \n",
       "6               28836      9985.0          11154        20297               0   \n",
       "7               13570      3578.0           4009         7420               0   \n",
       "8               10676     19092.0           3038        21497               0   \n",
       "9               37033     12179.0              0        12179               0   \n",
       "\n",
       "   wiki_contributions__c  wiki_usage__c  paper_contributions__c  \\\n",
       "0                    1.0         6540.0                     NaN   \n",
       "1                    NaN            NaN                     NaN   \n",
       "2                   20.0       259089.0                     9.0   \n",
       "3                    6.0        40012.0                     4.0   \n",
       "4                    NaN            NaN                     NaN   \n",
       "5                    NaN            NaN                     1.0   \n",
       "6                    NaN            NaN                     1.0   \n",
       "7                    NaN            NaN                     NaN   \n",
       "8                    NaN            NaN                     NaN   \n",
       "9                    NaN            NaN                     NaN   \n",
       "\n",
       "   presentations_contributions__c  \n",
       "0                             NaN  \n",
       "1                             NaN  \n",
       "2                           133.0  \n",
       "3                            39.0  \n",
       "4                             4.0  \n",
       "5                             2.0  \n",
       "6                             8.0  \n",
       "7                             1.0  \n",
       "8                             NaN  \n",
       "9                             NaN  "
      ]
     },
     "metadata": {},
     "output_type": "display_data"
    }
   ],
   "source": [
    "ovr_df = ovr_df.reset_index()\n",
    "display(ovr_df.head(10))"
   ]
  },
  {
   "cell_type": "code",
   "execution_count": 31,
   "metadata": {
    "execution": {
     "iopub.execute_input": "2021-10-28T03:51:26.840004Z",
     "iopub.status.busy": "2021-10-28T03:51:26.838560Z",
     "iopub.status.idle": "2021-10-28T03:51:26.845332Z",
     "shell.execute_reply": "2021-10-28T03:51:26.844288Z",
     "shell.execute_reply.started": "2021-10-28T03:51:26.839958Z"
    },
    "tags": []
   },
   "outputs": [
    {
     "data": {
      "text/plain": [
       "2626"
      ]
     },
     "metadata": {},
     "output_type": "display_data"
    }
   ],
   "source": [
    "display(len(ovr_df))"
   ]
  },
  {
   "cell_type": "raw",
   "metadata": {},
   "source": [
    "ovr_df = ovr_df.reset_index()\n",
    "\n",
    "# calculate contributor flag\n",
    "for index,val in enumerate(ovr_df['contributor__c'].to_list()):\n",
    "    # if any of the entries are non zero/non-NaN, then contributor__c = 1\n",
    "    if ovr_df['total_users'][index] > 0:\n",
    "        ovr_df['contributor__c'][index] = 1\n",
    "    elif ovr_df['wiki_contributions__c'][index] > 0:\n",
    "        ovr_df['contributor__c'][index] = 1\n",
    "    elif ovr_df['paper_contributions__c'][index] > 0:\n",
    "        ovr_df['contributor__c'][index] = 1\n",
    "    elif ovr_df['presentations_contributions__c'][index] > 0:\n",
    "        ovr_df['contributor__c'][index] = 1\n",
    "    elif ovr_df['Total_tool_contributions__c'][index] > 0:\n",
    "        ovr_df['contributor__c'][index] = 1\n",
    "        \n",
    "display(ovr_df.head(10))"
   ]
  },
  {
   "cell_type": "code",
   "execution_count": null,
   "metadata": {},
   "outputs": [],
   "source": []
  },
  {
   "cell_type": "code",
   "execution_count": null,
   "metadata": {},
   "outputs": [],
   "source": []
  },
  {
   "cell_type": "markdown",
   "metadata": {},
   "source": [
    "## Get the current nanohub user IDs and their tool counts from SF\n",
    "then begin the dataframe merge and post-processing"
   ]
  },
  {
   "cell_type": "code",
   "execution_count": 32,
   "metadata": {
    "execution": {
     "iopub.execute_input": "2021-10-28T03:51:26.847224Z",
     "iopub.status.busy": "2021-10-28T03:51:26.846726Z",
     "iopub.status.idle": "2021-10-28T03:51:26.851361Z",
     "shell.execute_reply": "2021-10-28T03:51:26.850310Z",
     "shell.execute_reply.started": "2021-10-28T03:51:26.847196Z"
    },
    "tags": []
   },
   "outputs": [],
   "source": [
    "# create DB2 to Salesforce API object\n",
    "db_s = salesforce"
   ]
  },
  {
   "cell_type": "code",
   "execution_count": 33,
   "metadata": {
    "execution": {
     "iopub.execute_input": "2021-10-28T03:51:26.853153Z",
     "iopub.status.busy": "2021-10-28T03:51:26.852532Z",
     "iopub.status.idle": "2021-10-28T03:51:51.684445Z",
     "shell.execute_reply": "2021-10-28T03:51:51.682799Z",
     "shell.execute_reply.started": "2021-10-28T03:51:26.853123Z"
    },
    "tags": []
   },
   "outputs": [
    {
     "name": "stdout",
     "output_type": "stream",
     "text": [
      "[Success] Bulk job creation successful. Job ID = 7505w00000b2dDVAAY\n",
      "{\"id\":\"7505w00000b2dDVAAY\",\"operation\":\"query\",\"object\":\"Contact\",\"createdById\":\"0055w00000DM5bOAAT\",\"createdDate\":\"2021-10-28T03:51:27.000+0000\",\"systemModstamp\":\"2021-10-28T03:51:27.000+0000\",\"state\":\"UploadComplete\",\"concurrencyMode\":\"Parallel\",\"contentType\":\"CSV\",\"apiVersion\":47.0,\"jobType\":\"V2Query\",\"lineEnding\":\"LF\",\"columnDelimiter\":\"COMMA\",\"retries\":0,\"totalProcessingTime\":0}\n",
      "{\"id\":\"7505w00000b2dDVAAY\",\"operation\":\"query\",\"object\":\"Contact\",\"createdById\":\"0055w00000DM5bOAAT\",\"createdDate\":\"2021-10-28T03:51:27.000+0000\",\"systemModstamp\":\"2021-10-28T03:51:27.000+0000\",\"state\":\"InProgress\",\"concurrencyMode\":\"Parallel\",\"contentType\":\"CSV\",\"apiVersion\":47.0,\"jobType\":\"V2Query\",\"lineEnding\":\"LF\",\"columnDelimiter\":\"COMMA\",\"numberRecordsProcessed\":15032,\"retries\":0,\"totalProcessingTime\":865}\n",
      "{\"id\":\"7505w00000b2dDVAAY\",\"operation\":\"query\",\"object\":\"Contact\",\"createdById\":\"0055w00000DM5bOAAT\",\"createdDate\":\"2021-10-28T03:51:27.000+0000\",\"systemModstamp\":\"2021-10-28T03:51:40.000+0000\",\"state\":\"JobComplete\",\"concurrencyMode\":\"Parallel\",\"contentType\":\"CSV\",\"apiVersion\":47.0,\"jobType\":\"V2Query\",\"lineEnding\":\"LF\",\"columnDelimiter\":\"COMMA\",\"numberRecordsProcessed\":262774,\"retries\":0,\"totalProcessingTime\":12140}\n",
      "[Success] Bulk job completed successfully.\n"
     ]
    },
    {
     "data": {
      "text/html": [
       "<div>\n",
       "<style scoped>\n",
       "    .dataframe tbody tr th:only-of-type {\n",
       "        vertical-align: middle;\n",
       "    }\n",
       "\n",
       "    .dataframe tbody tr th {\n",
       "        vertical-align: top;\n",
       "    }\n",
       "\n",
       "    .dataframe thead th {\n",
       "        text-align: right;\n",
       "    }\n",
       "</style>\n",
       "<table border=\"1\" class=\"dataframe\">\n",
       "  <thead>\n",
       "    <tr style=\"text-align: right;\">\n",
       "      <th></th>\n",
       "      <th>Total_tool_contributions__c</th>\n",
       "      <th>nanoHUB_user_ID__c</th>\n",
       "    </tr>\n",
       "  </thead>\n",
       "  <tbody>\n",
       "    <tr>\n",
       "      <th>0</th>\n",
       "      <td>0.0</td>\n",
       "      <td>998.0</td>\n",
       "    </tr>\n",
       "    <tr>\n",
       "      <th>1</th>\n",
       "      <td>0.0</td>\n",
       "      <td>1683.0</td>\n",
       "    </tr>\n",
       "  </tbody>\n",
       "</table>\n",
       "</div>"
      ],
      "text/plain": [
       "   Total_tool_contributions__c  nanoHUB_user_ID__c\n",
       "0                          0.0               998.0\n",
       "1                          0.0              1683.0"
      ]
     },
     "metadata": {},
     "output_type": "display_data"
    },
    {
     "name": "stdout",
     "output_type": "stream",
     "text": [
      "(247742, 2)\n"
     ]
    }
   ],
   "source": [
    "# get nanohub ID for contacts to being matching and processing\n",
    "sf_username_df = db_s.query_data('SELECT nanoHUB_user_ID__c,Total_tool_contributions__c FROM Contact')\n",
    "\n",
    "# display\n",
    "display(sf_username_df.head(2))\n",
    "print(sf_username_df.shape)"
   ]
  },
  {
   "cell_type": "code",
   "execution_count": 34,
   "metadata": {
    "execution": {
     "iopub.execute_input": "2021-10-28T03:51:51.687769Z",
     "iopub.status.busy": "2021-10-28T03:51:51.686797Z",
     "iopub.status.idle": "2021-10-28T03:51:51.922401Z",
     "shell.execute_reply": "2021-10-28T03:51:51.921339Z",
     "shell.execute_reply.started": "2021-10-28T03:51:51.687729Z"
    },
    "tags": []
   },
   "outputs": [],
   "source": [
    "# join the two dataframes\n",
    "nover_df = sf_username_df.set_index('nanoHUB_user_ID__c').join(ovr_df.set_index('nanoHUB_user_ID__c'))"
   ]
  },
  {
   "cell_type": "code",
   "execution_count": 35,
   "metadata": {
    "execution": {
     "iopub.execute_input": "2021-10-28T03:51:51.923593Z",
     "iopub.status.busy": "2021-10-28T03:51:51.923407Z",
     "iopub.status.idle": "2021-10-28T03:51:51.939713Z",
     "shell.execute_reply": "2021-10-28T03:51:51.939115Z",
     "shell.execute_reply.started": "2021-10-28T03:51:51.923564Z"
    },
    "tags": []
   },
   "outputs": [
    {
     "data": {
      "text/html": [
       "<div>\n",
       "<style scoped>\n",
       "    .dataframe tbody tr th:only-of-type {\n",
       "        vertical-align: middle;\n",
       "    }\n",
       "\n",
       "    .dataframe tbody tr th {\n",
       "        vertical-align: top;\n",
       "    }\n",
       "\n",
       "    .dataframe thead th {\n",
       "        text-align: right;\n",
       "    }\n",
       "</style>\n",
       "<table border=\"1\" class=\"dataframe\">\n",
       "  <thead>\n",
       "    <tr style=\"text-align: right;\">\n",
       "      <th></th>\n",
       "      <th>Total_tool_contributions__c</th>\n",
       "      <th>tool_users</th>\n",
       "      <th>andmore_users</th>\n",
       "      <th>total_users</th>\n",
       "      <th>contributor__c</th>\n",
       "      <th>wiki_contributions__c</th>\n",
       "      <th>wiki_usage__c</th>\n",
       "      <th>paper_contributions__c</th>\n",
       "      <th>presentations_contributions__c</th>\n",
       "    </tr>\n",
       "    <tr>\n",
       "      <th>nanoHUB_user_ID__c</th>\n",
       "      <th></th>\n",
       "      <th></th>\n",
       "      <th></th>\n",
       "      <th></th>\n",
       "      <th></th>\n",
       "      <th></th>\n",
       "      <th></th>\n",
       "      <th></th>\n",
       "      <th></th>\n",
       "    </tr>\n",
       "  </thead>\n",
       "  <tbody>\n",
       "    <tr>\n",
       "      <th>998.0</th>\n",
       "      <td>0.0</td>\n",
       "      <td>NaN</td>\n",
       "      <td>NaN</td>\n",
       "      <td>NaN</td>\n",
       "      <td>NaN</td>\n",
       "      <td>NaN</td>\n",
       "      <td>NaN</td>\n",
       "      <td>NaN</td>\n",
       "      <td>NaN</td>\n",
       "    </tr>\n",
       "    <tr>\n",
       "      <th>1683.0</th>\n",
       "      <td>0.0</td>\n",
       "      <td>NaN</td>\n",
       "      <td>NaN</td>\n",
       "      <td>NaN</td>\n",
       "      <td>NaN</td>\n",
       "      <td>NaN</td>\n",
       "      <td>NaN</td>\n",
       "      <td>NaN</td>\n",
       "      <td>NaN</td>\n",
       "    </tr>\n",
       "  </tbody>\n",
       "</table>\n",
       "</div>"
      ],
      "text/plain": [
       "                    Total_tool_contributions__c  tool_users  andmore_users  \\\n",
       "nanoHUB_user_ID__c                                                           \n",
       "998.0                                       0.0         NaN            NaN   \n",
       "1683.0                                      0.0         NaN            NaN   \n",
       "\n",
       "                    total_users  contributor__c  wiki_contributions__c  \\\n",
       "nanoHUB_user_ID__c                                                       \n",
       "998.0                       NaN             NaN                    NaN   \n",
       "1683.0                      NaN             NaN                    NaN   \n",
       "\n",
       "                    wiki_usage__c  paper_contributions__c  \\\n",
       "nanoHUB_user_ID__c                                          \n",
       "998.0                         NaN                     NaN   \n",
       "1683.0                        NaN                     NaN   \n",
       "\n",
       "                    presentations_contributions__c  \n",
       "nanoHUB_user_ID__c                                  \n",
       "998.0                                          NaN  \n",
       "1683.0                                         NaN  "
      ]
     },
     "metadata": {},
     "output_type": "display_data"
    }
   ],
   "source": [
    "display(nover_df.head(2))"
   ]
  },
  {
   "cell_type": "code",
   "execution_count": 36,
   "metadata": {
    "execution": {
     "iopub.execute_input": "2021-10-28T03:51:51.943334Z",
     "iopub.status.busy": "2021-10-28T03:51:51.941934Z",
     "iopub.status.idle": "2021-10-28T03:51:51.951438Z",
     "shell.execute_reply": "2021-10-28T03:51:51.950488Z",
     "shell.execute_reply.started": "2021-10-28T03:51:51.943291Z"
    },
    "tags": []
   },
   "outputs": [],
   "source": [
    "## calculate the non tool contributions\n",
    "nover_df['And_More_Contributions__c'] = nover_df['wiki_contributions__c']+nover_df['paper_contributions__c']\\\n",
    "        +nover_df['presentations_contributions__c']"
   ]
  },
  {
   "cell_type": "code",
   "execution_count": 37,
   "metadata": {
    "execution": {
     "iopub.execute_input": "2021-10-28T03:51:51.954313Z",
     "iopub.status.busy": "2021-10-28T03:51:51.952785Z",
     "iopub.status.idle": "2021-10-28T03:51:52.506285Z",
     "shell.execute_reply": "2021-10-28T03:51:52.504634Z",
     "shell.execute_reply.started": "2021-10-28T03:51:51.954268Z"
    },
    "tags": []
   },
   "outputs": [
    {
     "data": {
      "text/html": [
       "<div>\n",
       "<style scoped>\n",
       "    .dataframe tbody tr th:only-of-type {\n",
       "        vertical-align: middle;\n",
       "    }\n",
       "\n",
       "    .dataframe tbody tr th {\n",
       "        vertical-align: top;\n",
       "    }\n",
       "\n",
       "    .dataframe thead th {\n",
       "        text-align: right;\n",
       "    }\n",
       "</style>\n",
       "<table border=\"1\" class=\"dataframe\">\n",
       "  <thead>\n",
       "    <tr style=\"text-align: right;\">\n",
       "      <th></th>\n",
       "      <th>nanoHUB_user_ID__c</th>\n",
       "      <th>Total_tool_contributions__c</th>\n",
       "      <th>tool_users</th>\n",
       "      <th>andmore_users</th>\n",
       "      <th>total_users</th>\n",
       "      <th>contributor__c</th>\n",
       "      <th>wiki_contributions__c</th>\n",
       "      <th>wiki_usage__c</th>\n",
       "      <th>paper_contributions__c</th>\n",
       "      <th>presentations_contributions__c</th>\n",
       "      <th>And_More_Contributions__c</th>\n",
       "    </tr>\n",
       "  </thead>\n",
       "  <tbody>\n",
       "    <tr>\n",
       "      <th>0</th>\n",
       "      <td>998.0</td>\n",
       "      <td>0.0</td>\n",
       "      <td>NaN</td>\n",
       "      <td>NaN</td>\n",
       "      <td>NaN</td>\n",
       "      <td>NaN</td>\n",
       "      <td>NaN</td>\n",
       "      <td>NaN</td>\n",
       "      <td>NaN</td>\n",
       "      <td>NaN</td>\n",
       "      <td>NaN</td>\n",
       "    </tr>\n",
       "    <tr>\n",
       "      <th>1</th>\n",
       "      <td>1683.0</td>\n",
       "      <td>0.0</td>\n",
       "      <td>NaN</td>\n",
       "      <td>NaN</td>\n",
       "      <td>NaN</td>\n",
       "      <td>NaN</td>\n",
       "      <td>NaN</td>\n",
       "      <td>NaN</td>\n",
       "      <td>NaN</td>\n",
       "      <td>NaN</td>\n",
       "      <td>NaN</td>\n",
       "    </tr>\n",
       "  </tbody>\n",
       "</table>\n",
       "</div>"
      ],
      "text/plain": [
       "   nanoHUB_user_ID__c  Total_tool_contributions__c  tool_users  andmore_users  \\\n",
       "0               998.0                          0.0         NaN            NaN   \n",
       "1              1683.0                          0.0         NaN            NaN   \n",
       "\n",
       "   total_users  contributor__c  wiki_contributions__c  wiki_usage__c  \\\n",
       "0          NaN             NaN                    NaN            NaN   \n",
       "1          NaN             NaN                    NaN            NaN   \n",
       "\n",
       "   paper_contributions__c  presentations_contributions__c  \\\n",
       "0                     NaN                             NaN   \n",
       "1                     NaN                             NaN   \n",
       "\n",
       "   And_More_Contributions__c  \n",
       "0                        NaN  \n",
       "1                        NaN  "
      ]
     },
     "metadata": {},
     "output_type": "display_data"
    }
   ],
   "source": [
    "# recover nanohub ids \n",
    "nover_df = nover_df.reset_index()\n",
    "display(nover_df.head(2))"
   ]
  },
  {
   "cell_type": "code",
   "execution_count": 38,
   "metadata": {
    "execution": {
     "iopub.execute_input": "2021-10-28T03:51:52.510346Z",
     "iopub.status.busy": "2021-10-28T03:51:52.507933Z",
     "iopub.status.idle": "2021-10-28T03:51:52.771319Z",
     "shell.execute_reply": "2021-10-28T03:51:52.770783Z",
     "shell.execute_reply.started": "2021-10-28T03:51:52.510296Z"
    },
    "tags": []
   },
   "outputs": [
    {
     "data": {
      "text/plain": [
       "(247724, 11)"
      ]
     },
     "execution_count": 38,
     "metadata": {},
     "output_type": "execute_result"
    }
   ],
   "source": [
    "## remove NAN rows for index\n",
    "nover_df = nover_df.dropna(subset=['nanoHUB_user_ID__c'])\n",
    "nover_df.shape"
   ]
  },
  {
   "cell_type": "code",
   "execution_count": 39,
   "metadata": {
    "execution": {
     "iopub.execute_input": "2021-10-28T03:51:52.776821Z",
     "iopub.status.busy": "2021-10-28T03:51:52.775379Z",
     "iopub.status.idle": "2021-10-28T03:51:52.872308Z",
     "shell.execute_reply": "2021-10-28T03:51:52.870954Z",
     "shell.execute_reply.started": "2021-10-28T03:51:52.776635Z"
    },
    "tags": []
   },
   "outputs": [
    {
     "data": {
      "text/html": [
       "<div>\n",
       "<style scoped>\n",
       "    .dataframe tbody tr th:only-of-type {\n",
       "        vertical-align: middle;\n",
       "    }\n",
       "\n",
       "    .dataframe tbody tr th {\n",
       "        vertical-align: top;\n",
       "    }\n",
       "\n",
       "    .dataframe thead th {\n",
       "        text-align: right;\n",
       "    }\n",
       "</style>\n",
       "<table border=\"1\" class=\"dataframe\">\n",
       "  <thead>\n",
       "    <tr style=\"text-align: right;\">\n",
       "      <th></th>\n",
       "      <th>nanoHUB_user_ID__c</th>\n",
       "      <th>Total_tool_contributions__c</th>\n",
       "      <th>tool_users</th>\n",
       "      <th>andmore_users</th>\n",
       "      <th>total_users</th>\n",
       "      <th>contributor__c</th>\n",
       "      <th>wiki_contributions__c</th>\n",
       "      <th>wiki_usage__c</th>\n",
       "      <th>paper_contributions__c</th>\n",
       "      <th>presentations_contributions__c</th>\n",
       "      <th>And_More_Contributions__c</th>\n",
       "    </tr>\n",
       "  </thead>\n",
       "  <tbody>\n",
       "    <tr>\n",
       "      <th>0</th>\n",
       "      <td>998</td>\n",
       "      <td>0.0</td>\n",
       "      <td>NaN</td>\n",
       "      <td>NaN</td>\n",
       "      <td>NaN</td>\n",
       "      <td>NaN</td>\n",
       "      <td>NaN</td>\n",
       "      <td>NaN</td>\n",
       "      <td>NaN</td>\n",
       "      <td>NaN</td>\n",
       "      <td>NaN</td>\n",
       "    </tr>\n",
       "    <tr>\n",
       "      <th>1</th>\n",
       "      <td>1683</td>\n",
       "      <td>0.0</td>\n",
       "      <td>NaN</td>\n",
       "      <td>NaN</td>\n",
       "      <td>NaN</td>\n",
       "      <td>NaN</td>\n",
       "      <td>NaN</td>\n",
       "      <td>NaN</td>\n",
       "      <td>NaN</td>\n",
       "      <td>NaN</td>\n",
       "      <td>NaN</td>\n",
       "    </tr>\n",
       "  </tbody>\n",
       "</table>\n",
       "</div>"
      ],
      "text/plain": [
       "   nanoHUB_user_ID__c  Total_tool_contributions__c  tool_users  andmore_users  \\\n",
       "0                 998                          0.0         NaN            NaN   \n",
       "1                1683                          0.0         NaN            NaN   \n",
       "\n",
       "   total_users  contributor__c  wiki_contributions__c  wiki_usage__c  \\\n",
       "0          NaN             NaN                    NaN            NaN   \n",
       "1          NaN             NaN                    NaN            NaN   \n",
       "\n",
       "   paper_contributions__c  presentations_contributions__c  \\\n",
       "0                     NaN                             NaN   \n",
       "1                     NaN                             NaN   \n",
       "\n",
       "   And_More_Contributions__c  \n",
       "0                        NaN  \n",
       "1                        NaN  "
      ]
     },
     "metadata": {},
     "output_type": "display_data"
    }
   ],
   "source": [
    "## then make the indexes integers\n",
    "import numpy as np\n",
    "nover_df['nanoHUB_user_ID__c'] = nover_df['nanoHUB_user_ID__c'].apply(lambda x: int(x))\n",
    "display(nover_df.head(2))"
   ]
  },
  {
   "cell_type": "code",
   "execution_count": 40,
   "metadata": {
    "execution": {
     "iopub.execute_input": "2021-10-28T03:51:52.875078Z",
     "iopub.status.busy": "2021-10-28T03:51:52.873434Z",
     "iopub.status.idle": "2021-10-28T03:51:59.523101Z",
     "shell.execute_reply": "2021-10-28T03:51:59.521984Z",
     "shell.execute_reply.started": "2021-10-28T03:51:52.875036Z"
    },
    "tags": []
   },
   "outputs": [
    {
     "name": "stdout",
     "output_type": "stream",
     "text": [
      "[WARNING] [warnings - py.warnings]: /tmp/ipykernel_1150/2408927924.py:5: SettingWithCopyWarning: \n",
      "A value is trying to be set on a copy of a slice from a DataFrame\n",
      "\n",
      "See the caveats in the documentation: https://pandas.pydata.org/pandas-docs/stable/user_guide/indexing.html#returning-a-view-versus-a-copy\n",
      "  nover_df['contributor__c'][index] = 1\n",
      " [warnings._showwarnmsg:109]\n",
      "[WARNING] [warnings - py.warnings]: /tmp/ipykernel_1150/2408927924.py:13: SettingWithCopyWarning: \n",
      "A value is trying to be set on a copy of a slice from a DataFrame\n",
      "\n",
      "See the caveats in the documentation: https://pandas.pydata.org/pandas-docs/stable/user_guide/indexing.html#returning-a-view-versus-a-copy\n",
      "  nover_df['contributor__c'][index] = 1\n",
      " [warnings._showwarnmsg:109]\n",
      "[WARNING] [warnings - py.warnings]: /tmp/ipykernel_1150/2408927924.py:11: SettingWithCopyWarning: \n",
      "A value is trying to be set on a copy of a slice from a DataFrame\n",
      "\n",
      "See the caveats in the documentation: https://pandas.pydata.org/pandas-docs/stable/user_guide/indexing.html#returning-a-view-versus-a-copy\n",
      "  nover_df['contributor__c'][index] = 1\n",
      " [warnings._showwarnmsg:109]\n",
      "[WARNING] [warnings - py.warnings]: /tmp/ipykernel_1150/2408927924.py:9: SettingWithCopyWarning: \n",
      "A value is trying to be set on a copy of a slice from a DataFrame\n",
      "\n",
      "See the caveats in the documentation: https://pandas.pydata.org/pandas-docs/stable/user_guide/indexing.html#returning-a-view-versus-a-copy\n",
      "  nover_df['contributor__c'][index] = 1\n",
      " [warnings._showwarnmsg:109]\n",
      "[WARNING] [warnings - py.warnings]: /tmp/ipykernel_1150/2408927924.py:7: SettingWithCopyWarning: \n",
      "A value is trying to be set on a copy of a slice from a DataFrame\n",
      "\n",
      "See the caveats in the documentation: https://pandas.pydata.org/pandas-docs/stable/user_guide/indexing.html#returning-a-view-versus-a-copy\n",
      "  nover_df['contributor__c'][index] = 1\n",
      " [warnings._showwarnmsg:109]\n"
     ]
    },
    {
     "data": {
      "text/html": [
       "<div>\n",
       "<style scoped>\n",
       "    .dataframe tbody tr th:only-of-type {\n",
       "        vertical-align: middle;\n",
       "    }\n",
       "\n",
       "    .dataframe tbody tr th {\n",
       "        vertical-align: top;\n",
       "    }\n",
       "\n",
       "    .dataframe thead th {\n",
       "        text-align: right;\n",
       "    }\n",
       "</style>\n",
       "<table border=\"1\" class=\"dataframe\">\n",
       "  <thead>\n",
       "    <tr style=\"text-align: right;\">\n",
       "      <th></th>\n",
       "      <th>nanoHUB_user_ID__c</th>\n",
       "      <th>Total_tool_contributions__c</th>\n",
       "      <th>tool_users</th>\n",
       "      <th>andmore_users</th>\n",
       "      <th>total_users</th>\n",
       "      <th>contributor__c</th>\n",
       "      <th>wiki_contributions__c</th>\n",
       "      <th>wiki_usage__c</th>\n",
       "      <th>paper_contributions__c</th>\n",
       "      <th>presentations_contributions__c</th>\n",
       "      <th>And_More_Contributions__c</th>\n",
       "    </tr>\n",
       "  </thead>\n",
       "  <tbody>\n",
       "    <tr>\n",
       "      <th>0</th>\n",
       "      <td>998</td>\n",
       "      <td>0.0</td>\n",
       "      <td>NaN</td>\n",
       "      <td>NaN</td>\n",
       "      <td>NaN</td>\n",
       "      <td>NaN</td>\n",
       "      <td>NaN</td>\n",
       "      <td>NaN</td>\n",
       "      <td>NaN</td>\n",
       "      <td>NaN</td>\n",
       "      <td>NaN</td>\n",
       "    </tr>\n",
       "    <tr>\n",
       "      <th>1</th>\n",
       "      <td>1683</td>\n",
       "      <td>0.0</td>\n",
       "      <td>NaN</td>\n",
       "      <td>NaN</td>\n",
       "      <td>NaN</td>\n",
       "      <td>NaN</td>\n",
       "      <td>NaN</td>\n",
       "      <td>NaN</td>\n",
       "      <td>NaN</td>\n",
       "      <td>NaN</td>\n",
       "      <td>NaN</td>\n",
       "    </tr>\n",
       "    <tr>\n",
       "      <th>2</th>\n",
       "      <td>1684</td>\n",
       "      <td>0.0</td>\n",
       "      <td>NaN</td>\n",
       "      <td>NaN</td>\n",
       "      <td>NaN</td>\n",
       "      <td>NaN</td>\n",
       "      <td>NaN</td>\n",
       "      <td>NaN</td>\n",
       "      <td>NaN</td>\n",
       "      <td>NaN</td>\n",
       "      <td>NaN</td>\n",
       "    </tr>\n",
       "    <tr>\n",
       "      <th>3</th>\n",
       "      <td>1685</td>\n",
       "      <td>0.0</td>\n",
       "      <td>NaN</td>\n",
       "      <td>NaN</td>\n",
       "      <td>NaN</td>\n",
       "      <td>NaN</td>\n",
       "      <td>NaN</td>\n",
       "      <td>NaN</td>\n",
       "      <td>NaN</td>\n",
       "      <td>NaN</td>\n",
       "      <td>NaN</td>\n",
       "    </tr>\n",
       "    <tr>\n",
       "      <th>4</th>\n",
       "      <td>1686</td>\n",
       "      <td>0.0</td>\n",
       "      <td>NaN</td>\n",
       "      <td>NaN</td>\n",
       "      <td>NaN</td>\n",
       "      <td>NaN</td>\n",
       "      <td>NaN</td>\n",
       "      <td>NaN</td>\n",
       "      <td>NaN</td>\n",
       "      <td>NaN</td>\n",
       "      <td>NaN</td>\n",
       "    </tr>\n",
       "    <tr>\n",
       "      <th>5</th>\n",
       "      <td>1687</td>\n",
       "      <td>0.0</td>\n",
       "      <td>NaN</td>\n",
       "      <td>NaN</td>\n",
       "      <td>NaN</td>\n",
       "      <td>NaN</td>\n",
       "      <td>NaN</td>\n",
       "      <td>NaN</td>\n",
       "      <td>NaN</td>\n",
       "      <td>NaN</td>\n",
       "      <td>NaN</td>\n",
       "    </tr>\n",
       "    <tr>\n",
       "      <th>6</th>\n",
       "      <td>1688</td>\n",
       "      <td>0.0</td>\n",
       "      <td>NaN</td>\n",
       "      <td>NaN</td>\n",
       "      <td>NaN</td>\n",
       "      <td>NaN</td>\n",
       "      <td>NaN</td>\n",
       "      <td>NaN</td>\n",
       "      <td>NaN</td>\n",
       "      <td>NaN</td>\n",
       "      <td>NaN</td>\n",
       "    </tr>\n",
       "    <tr>\n",
       "      <th>7</th>\n",
       "      <td>1689</td>\n",
       "      <td>0.0</td>\n",
       "      <td>NaN</td>\n",
       "      <td>NaN</td>\n",
       "      <td>NaN</td>\n",
       "      <td>NaN</td>\n",
       "      <td>NaN</td>\n",
       "      <td>NaN</td>\n",
       "      <td>NaN</td>\n",
       "      <td>NaN</td>\n",
       "      <td>NaN</td>\n",
       "    </tr>\n",
       "    <tr>\n",
       "      <th>8</th>\n",
       "      <td>1690</td>\n",
       "      <td>0.0</td>\n",
       "      <td>NaN</td>\n",
       "      <td>NaN</td>\n",
       "      <td>NaN</td>\n",
       "      <td>NaN</td>\n",
       "      <td>NaN</td>\n",
       "      <td>NaN</td>\n",
       "      <td>NaN</td>\n",
       "      <td>NaN</td>\n",
       "      <td>NaN</td>\n",
       "    </tr>\n",
       "    <tr>\n",
       "      <th>9</th>\n",
       "      <td>1691</td>\n",
       "      <td>0.0</td>\n",
       "      <td>NaN</td>\n",
       "      <td>NaN</td>\n",
       "      <td>NaN</td>\n",
       "      <td>NaN</td>\n",
       "      <td>NaN</td>\n",
       "      <td>NaN</td>\n",
       "      <td>NaN</td>\n",
       "      <td>NaN</td>\n",
       "      <td>NaN</td>\n",
       "    </tr>\n",
       "  </tbody>\n",
       "</table>\n",
       "</div>"
      ],
      "text/plain": [
       "   nanoHUB_user_ID__c  Total_tool_contributions__c  tool_users  andmore_users  \\\n",
       "0                 998                          0.0         NaN            NaN   \n",
       "1                1683                          0.0         NaN            NaN   \n",
       "2                1684                          0.0         NaN            NaN   \n",
       "3                1685                          0.0         NaN            NaN   \n",
       "4                1686                          0.0         NaN            NaN   \n",
       "5                1687                          0.0         NaN            NaN   \n",
       "6                1688                          0.0         NaN            NaN   \n",
       "7                1689                          0.0         NaN            NaN   \n",
       "8                1690                          0.0         NaN            NaN   \n",
       "9                1691                          0.0         NaN            NaN   \n",
       "\n",
       "   total_users  contributor__c  wiki_contributions__c  wiki_usage__c  \\\n",
       "0          NaN             NaN                    NaN            NaN   \n",
       "1          NaN             NaN                    NaN            NaN   \n",
       "2          NaN             NaN                    NaN            NaN   \n",
       "3          NaN             NaN                    NaN            NaN   \n",
       "4          NaN             NaN                    NaN            NaN   \n",
       "5          NaN             NaN                    NaN            NaN   \n",
       "6          NaN             NaN                    NaN            NaN   \n",
       "7          NaN             NaN                    NaN            NaN   \n",
       "8          NaN             NaN                    NaN            NaN   \n",
       "9          NaN             NaN                    NaN            NaN   \n",
       "\n",
       "   paper_contributions__c  presentations_contributions__c  \\\n",
       "0                     NaN                             NaN   \n",
       "1                     NaN                             NaN   \n",
       "2                     NaN                             NaN   \n",
       "3                     NaN                             NaN   \n",
       "4                     NaN                             NaN   \n",
       "5                     NaN                             NaN   \n",
       "6                     NaN                             NaN   \n",
       "7                     NaN                             NaN   \n",
       "8                     NaN                             NaN   \n",
       "9                     NaN                             NaN   \n",
       "\n",
       "   And_More_Contributions__c  \n",
       "0                        NaN  \n",
       "1                        NaN  \n",
       "2                        NaN  \n",
       "3                        NaN  \n",
       "4                        NaN  \n",
       "5                        NaN  \n",
       "6                        NaN  \n",
       "7                        NaN  \n",
       "8                        NaN  \n",
       "9                        NaN  "
      ]
     },
     "metadata": {},
     "output_type": "display_data"
    }
   ],
   "source": [
    "# calculate contributor flag\n",
    "for index,val in enumerate(nover_df['contributor__c'].to_list()):\n",
    "    # if any of the entries are non zero/non-NaN, then contributor__c = 1\n",
    "    if nover_df['total_users'][index] > 0:\n",
    "        nover_df['contributor__c'][index] = 1\n",
    "    elif nover_df['wiki_contributions__c'][index] > 0:\n",
    "        nover_df['contributor__c'][index] = 1\n",
    "    elif nover_df['paper_contributions__c'][index] > 0:\n",
    "        nover_df['contributor__c'][index] = 1\n",
    "    elif nover_df['presentations_contributions__c'][index] > 0:\n",
    "        nover_df['contributor__c'][index] = 1\n",
    "    elif nover_df['Total_tool_contributions__c'][index] > 0:\n",
    "        nover_df['contributor__c'][index] = 1\n",
    "        \n",
    "display(nover_df.head(10))"
   ]
  },
  {
   "cell_type": "code",
   "execution_count": 41,
   "metadata": {
    "execution": {
     "iopub.execute_input": "2021-10-28T03:51:59.524813Z",
     "iopub.status.busy": "2021-10-28T03:51:59.524377Z",
     "iopub.status.idle": "2021-10-28T03:51:59.554120Z",
     "shell.execute_reply": "2021-10-28T03:51:59.553147Z",
     "shell.execute_reply.started": "2021-10-28T03:51:59.524729Z"
    }
   },
   "outputs": [
    {
     "data": {
      "text/html": [
       "<div>\n",
       "<style scoped>\n",
       "    .dataframe tbody tr th:only-of-type {\n",
       "        vertical-align: middle;\n",
       "    }\n",
       "\n",
       "    .dataframe tbody tr th {\n",
       "        vertical-align: top;\n",
       "    }\n",
       "\n",
       "    .dataframe thead th {\n",
       "        text-align: right;\n",
       "    }\n",
       "</style>\n",
       "<table border=\"1\" class=\"dataframe\">\n",
       "  <thead>\n",
       "    <tr style=\"text-align: right;\">\n",
       "      <th></th>\n",
       "      <th>nanoHUB_user_ID__c</th>\n",
       "      <th>Total_tool_contributions__c</th>\n",
       "      <th>tool_users</th>\n",
       "      <th>andmore_users</th>\n",
       "      <th>total_users</th>\n",
       "      <th>contributor__c</th>\n",
       "      <th>wiki_contributions__c</th>\n",
       "      <th>wiki_usage__c</th>\n",
       "      <th>paper_contributions__c</th>\n",
       "      <th>presentations_contributions__c</th>\n",
       "      <th>And_More_Contributions__c</th>\n",
       "    </tr>\n",
       "  </thead>\n",
       "  <tbody>\n",
       "    <tr>\n",
       "      <th>25508</th>\n",
       "      <td>29294</td>\n",
       "      <td>5.0</td>\n",
       "      <td>4609.0</td>\n",
       "      <td>19282.0</td>\n",
       "      <td>23639.0</td>\n",
       "      <td>1.0</td>\n",
       "      <td>6.0</td>\n",
       "      <td>0.0</td>\n",
       "      <td>NaN</td>\n",
       "      <td>5.0</td>\n",
       "      <td>NaN</td>\n",
       "    </tr>\n",
       "  </tbody>\n",
       "</table>\n",
       "</div>"
      ],
      "text/plain": [
       "       nanoHUB_user_ID__c  Total_tool_contributions__c  tool_users  \\\n",
       "25508               29294                          5.0      4609.0   \n",
       "\n",
       "       andmore_users  total_users  contributor__c  wiki_contributions__c  \\\n",
       "25508        19282.0      23639.0             1.0                    6.0   \n",
       "\n",
       "       wiki_usage__c  paper_contributions__c  presentations_contributions__c  \\\n",
       "25508            0.0                     NaN                             5.0   \n",
       "\n",
       "       And_More_Contributions__c  \n",
       "25508                        NaN  "
      ]
     },
     "metadata": {},
     "output_type": "display_data"
    }
   ],
   "source": [
    "display(nover_df.loc[nover_df['nanoHUB_user_ID__c'] == 29294])"
   ]
  },
  {
   "cell_type": "markdown",
   "metadata": {},
   "source": [
    "## Fitting data to SF format"
   ]
  },
  {
   "cell_type": "code",
   "execution_count": 42,
   "metadata": {
    "execution": {
     "iopub.execute_input": "2021-10-28T03:51:59.556122Z",
     "iopub.status.busy": "2021-10-28T03:51:59.555361Z",
     "iopub.status.idle": "2021-10-28T03:51:59.894518Z",
     "shell.execute_reply": "2021-10-28T03:51:59.893752Z",
     "shell.execute_reply.started": "2021-10-28T03:51:59.556065Z"
    },
    "tags": []
   },
   "outputs": [
    {
     "data": {
      "text/html": [
       "<div>\n",
       "<style scoped>\n",
       "    .dataframe tbody tr th:only-of-type {\n",
       "        vertical-align: middle;\n",
       "    }\n",
       "\n",
       "    .dataframe tbody tr th {\n",
       "        vertical-align: top;\n",
       "    }\n",
       "\n",
       "    .dataframe thead th {\n",
       "        text-align: right;\n",
       "    }\n",
       "</style>\n",
       "<table border=\"1\" class=\"dataframe\">\n",
       "  <thead>\n",
       "    <tr style=\"text-align: right;\">\n",
       "      <th></th>\n",
       "      <th>nanoHUB_user_ID__c</th>\n",
       "      <th>And_More_Contributions__c</th>\n",
       "      <th>contributed_tool_usage__c</th>\n",
       "      <th>contributed_andmore_usage__c</th>\n",
       "      <th>contributor__c</th>\n",
       "      <th>wiki_contributions__c</th>\n",
       "      <th>wiki_usage__c</th>\n",
       "      <th>paper_contributions__c</th>\n",
       "      <th>presentations_contributions__c</th>\n",
       "    </tr>\n",
       "  </thead>\n",
       "  <tbody>\n",
       "    <tr>\n",
       "      <th>0</th>\n",
       "      <td>998</td>\n",
       "      <td>0</td>\n",
       "      <td>0</td>\n",
       "      <td>0</td>\n",
       "      <td>0.0</td>\n",
       "      <td>0.0</td>\n",
       "      <td>0.0</td>\n",
       "      <td>0.0</td>\n",
       "      <td>0.0</td>\n",
       "    </tr>\n",
       "    <tr>\n",
       "      <th>1</th>\n",
       "      <td>1683</td>\n",
       "      <td>0</td>\n",
       "      <td>0</td>\n",
       "      <td>0</td>\n",
       "      <td>0.0</td>\n",
       "      <td>0.0</td>\n",
       "      <td>0.0</td>\n",
       "      <td>0.0</td>\n",
       "      <td>0.0</td>\n",
       "    </tr>\n",
       "  </tbody>\n",
       "</table>\n",
       "</div>"
      ],
      "text/plain": [
       "   nanoHUB_user_ID__c  And_More_Contributions__c  contributed_tool_usage__c  \\\n",
       "0                 998                          0                          0   \n",
       "1                1683                          0                          0   \n",
       "\n",
       "   contributed_andmore_usage__c  contributor__c  wiki_contributions__c  \\\n",
       "0                             0             0.0                    0.0   \n",
       "1                             0             0.0                    0.0   \n",
       "\n",
       "   wiki_usage__c  paper_contributions__c  presentations_contributions__c  \n",
       "0            0.0                     0.0                             0.0  \n",
       "1            0.0                     0.0                             0.0  "
      ]
     },
     "metadata": {},
     "output_type": "display_data"
    }
   ],
   "source": [
    "## creating and populating the sf dataframe\n",
    "df_sf = pd.DataFrame()\n",
    "temp_df = nover_df.fillna(0)\n",
    "\n",
    "# populating df_sf and make integers\n",
    "df_sf['nanoHUB_user_ID__c'] = temp_df['nanoHUB_user_ID__c'].apply(lambda x: int(x))\n",
    "df_sf['And_More_Contributions__c'] = temp_df['And_More_Contributions__c'].apply(lambda x: int(x))\n",
    "df_sf['contributed_tool_usage__c'] = temp_df['tool_users'].apply(lambda x: int(x))\n",
    "df_sf['contributed_andmore_usage__c'] = temp_df['andmore_users'].apply(lambda x: int(x))\n",
    "df_sf['contributor__c'] = temp_df['contributor__c']\n",
    "\n",
    "df_sf['wiki_contributions__c'] = temp_df['wiki_contributions__c']\n",
    "df_sf['wiki_usage__c'] = temp_df['wiki_usage__c']\n",
    "df_sf['paper_contributions__c'] = temp_df['paper_contributions__c']\n",
    "df_sf['presentations_contributions__c'] = temp_df['presentations_contributions__c']\n",
    "\n",
    "display(df_sf.head(2))"
   ]
  },
  {
   "cell_type": "code",
   "execution_count": 43,
   "metadata": {
    "execution": {
     "iopub.execute_input": "2021-10-28T03:51:59.897913Z",
     "iopub.status.busy": "2021-10-28T03:51:59.897126Z",
     "iopub.status.idle": "2021-10-28T03:52:00.109570Z",
     "shell.execute_reply": "2021-10-28T03:52:00.108697Z",
     "shell.execute_reply.started": "2021-10-28T03:51:59.897808Z"
    }
   },
   "outputs": [
    {
     "data": {
      "text/html": [
       "<div>\n",
       "<style scoped>\n",
       "    .dataframe tbody tr th:only-of-type {\n",
       "        vertical-align: middle;\n",
       "    }\n",
       "\n",
       "    .dataframe tbody tr th {\n",
       "        vertical-align: top;\n",
       "    }\n",
       "\n",
       "    .dataframe thead th {\n",
       "        text-align: right;\n",
       "    }\n",
       "</style>\n",
       "<table border=\"1\" class=\"dataframe\">\n",
       "  <thead>\n",
       "    <tr style=\"text-align: right;\">\n",
       "      <th></th>\n",
       "      <th>nanoHUB_user_ID__c</th>\n",
       "      <th>And_More_Contributions__c</th>\n",
       "      <th>contributed_tool_usage__c</th>\n",
       "      <th>contributed_andmore_usage__c</th>\n",
       "      <th>contributor__c</th>\n",
       "      <th>wiki_contributions__c</th>\n",
       "      <th>wiki_usage__c</th>\n",
       "      <th>paper_contributions__c</th>\n",
       "      <th>presentations_contributions__c</th>\n",
       "    </tr>\n",
       "  </thead>\n",
       "  <tbody>\n",
       "    <tr>\n",
       "      <th>25508</th>\n",
       "      <td>29294</td>\n",
       "      <td>0</td>\n",
       "      <td>4609</td>\n",
       "      <td>19282</td>\n",
       "      <td>1.0</td>\n",
       "      <td>6.0</td>\n",
       "      <td>0.0</td>\n",
       "      <td>0.0</td>\n",
       "      <td>5.0</td>\n",
       "    </tr>\n",
       "  </tbody>\n",
       "</table>\n",
       "</div>"
      ],
      "text/plain": [
       "       nanoHUB_user_ID__c  And_More_Contributions__c  \\\n",
       "25508               29294                          0   \n",
       "\n",
       "       contributed_tool_usage__c  contributed_andmore_usage__c  \\\n",
       "25508                       4609                         19282   \n",
       "\n",
       "       contributor__c  wiki_contributions__c  wiki_usage__c  \\\n",
       "25508             1.0                    6.0            0.0   \n",
       "\n",
       "       paper_contributions__c  presentations_contributions__c  \n",
       "25508                     0.0                             5.0  "
      ]
     },
     "metadata": {},
     "output_type": "display_data"
    }
   ],
   "source": [
    "display(df_sf.loc[df_sf['nanoHUB_user_ID__c'] == 29294])"
   ]
  },
  {
   "cell_type": "markdown",
   "metadata": {},
   "source": [
    "## send data to SF"
   ]
  },
  {
   "cell_type": "code",
   "execution_count": 44,
   "metadata": {
    "execution": {
     "iopub.execute_input": "2021-10-28T03:52:00.111342Z",
     "iopub.status.busy": "2021-10-28T03:52:00.111036Z",
     "iopub.status.idle": "2021-10-28T03:52:00.114751Z",
     "shell.execute_reply": "2021-10-28T03:52:00.114088Z",
     "shell.execute_reply.started": "2021-10-28T03:52:00.111315Z"
    },
    "tags": []
   },
   "outputs": [],
   "source": [
    "# create DB2 to Salesforce API object\n",
    "db_s = salesforce\n",
    "\n",
    "# specify Salesforce object ID and external ID\n",
    "db_s.object_id = 'Contact'\n",
    "db_s.external_id = 'nanoHUB_user_ID__c'"
   ]
  },
  {
   "cell_type": "code",
   "execution_count": 45,
   "metadata": {
    "execution": {
     "iopub.execute_input": "2021-10-28T03:52:00.116960Z",
     "iopub.status.busy": "2021-10-28T03:52:00.116410Z",
     "iopub.status.idle": "2021-10-28T03:52:13.828076Z",
     "shell.execute_reply": "2021-10-28T03:52:13.827118Z",
     "shell.execute_reply.started": "2021-10-28T03:52:00.116837Z"
    },
    "tags": []
   },
   "outputs": [
    {
     "name": "stdout",
     "output_type": "stream",
     "text": [
      "[Success] Bulk job creation successful. Job ID = 7505w00000b2dDaAAI\n",
      "hello\n",
      "[Success] CSV upload successful. Job ID = 7505w00000b2dDaAAI\n",
      "[Success] Closing job successful. Job ID = 7505w00000b2dDaAAI\n"
     ]
    }
   ],
   "source": [
    "# send data to Salesforce\n",
    "db_s.send_data(df_sf)"
   ]
  },
  {
   "cell_type": "code",
   "execution_count": 46,
   "metadata": {
    "execution": {
     "iopub.execute_input": "2021-10-28T03:52:13.830327Z",
     "iopub.status.busy": "2021-10-28T03:52:13.829246Z",
     "iopub.status.idle": "2021-10-28T03:52:14.223429Z",
     "shell.execute_reply": "2021-10-28T03:52:14.222665Z",
     "shell.execute_reply.started": "2021-10-28T03:52:13.830219Z"
    },
    "scrolled": true,
    "tags": []
   },
   "outputs": [
    {
     "name": "stdout",
     "output_type": "stream",
     "text": [
      "{'apexProcessingTime': 0,\n",
      " 'apiActiveProcessingTime': 0,\n",
      " 'apiVersion': 47.0,\n",
      " 'columnDelimiter': 'COMMA',\n",
      " 'concurrencyMode': 'Parallel',\n",
      " 'contentType': 'CSV',\n",
      " 'createdById': '0055w00000DM5bOAAT',\n",
      " 'createdDate': '2021-10-28T03:52:00.000+0000',\n",
      " 'externalIdFieldName': 'nanoHUB_user_ID__c',\n",
      " 'id': '7505w00000b2dDaAAI',\n",
      " 'jobType': 'V2Ingest',\n",
      " 'lineEnding': 'LF',\n",
      " 'numberRecordsFailed': 0,\n",
      " 'numberRecordsProcessed': 0,\n",
      " 'object': 'Contact',\n",
      " 'operation': 'upsert',\n",
      " 'retries': 0,\n",
      " 'state': 'UploadComplete',\n",
      " 'systemModstamp': '2021-10-28T03:52:13.000+0000',\n",
      " 'totalProcessingTime': 0}\n"
     ]
    }
   ],
   "source": [
    "# check status\n",
    "from pprint import pprint\n",
    "\n",
    "pprint(db_s.check_bulk_status())"
   ]
  },
  {
   "cell_type": "code",
   "execution_count": 47,
   "metadata": {
    "execution": {
     "iopub.execute_input": "2021-10-28T03:52:14.225181Z",
     "iopub.status.busy": "2021-10-28T03:52:14.224970Z",
     "iopub.status.idle": "2021-10-28T03:52:14.471986Z",
     "shell.execute_reply": "2021-10-28T03:52:14.470087Z",
     "shell.execute_reply.started": "2021-10-28T03:52:14.225151Z"
    },
    "tags": []
   },
   "outputs": [
    {
     "name": "stdout",
     "output_type": "stream",
     "text": [
      "''\n"
     ]
    }
   ],
   "source": [
    "pprint(db_s.check_bulk_failed_results())"
   ]
  },
  {
   "cell_type": "code",
   "execution_count": null,
   "metadata": {},
   "outputs": [],
   "source": []
  }
 ],
 "metadata": {
  "kernelspec": {
   "display_name": "Python 3 (ipykernel)",
   "language": "python",
   "name": "python3"
  },
  "language_info": {
   "codemirror_mode": {
    "name": "ipython",
    "version": 3
   },
   "file_extension": ".py",
   "mimetype": "text/x-python",
   "name": "python",
   "nbconvert_exporter": "python",
   "pygments_lexer": "ipython3",
   "version": "3.8.10"
  }
 },
 "nbformat": 4,
 "nbformat_minor": 4
}
