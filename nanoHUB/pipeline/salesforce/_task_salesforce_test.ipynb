{
 "cells": [
  {
   "cell_type": "code",
   "execution_count": 1,
   "id": "18db03b9-ae02-41a6-9125-0881a7a52b86",
   "metadata": {
    "execution": {
     "iopub.execute_input": "2021-12-01T01:20:15.762265Z",
     "iopub.status.busy": "2021-12-01T01:20:15.761121Z",
     "iopub.status.idle": "2021-12-01T01:20:17.681698Z",
     "shell.execute_reply": "2021-12-01T01:20:17.680793Z",
     "shell.execute_reply.started": "2021-12-01T01:20:15.762138Z"
    },
    "tags": []
   },
   "outputs": [
    {
     "name": "stdout",
     "output_type": "stream",
     "text": [
      "\u001b[1mnanoHUB - Serving Students, Researchers & Instructors\u001b[0m\n"
     ]
    }
   ],
   "source": [
    "# Parameters\n",
    "import sqlalchemy as sql\n",
    "from nanoHUB.application import Application\n",
    "import pandas as pd\n",
    "import datetime\n",
    "from nanoHUB.repositories import RegisteredUsers\n",
    "\n",
    "application = Application.get_instance()\n",
    "nanohub_db = application.new_db_engine('nanohub')"
   ]
  },
  {
   "cell_type": "code",
   "execution_count": 2,
   "id": "c13bf956-1658-4b3b-a847-be1dce62895a",
   "metadata": {
    "execution": {
     "iopub.execute_input": "2021-12-01T01:20:17.684678Z",
     "iopub.status.busy": "2021-12-01T01:20:17.682614Z",
     "iopub.status.idle": "2021-12-01T01:20:17.692157Z",
     "shell.execute_reply": "2021-12-01T01:20:17.689980Z",
     "shell.execute_reply.started": "2021-12-01T01:20:17.684567Z"
    },
    "tags": []
   },
   "outputs": [],
   "source": [
    "# Parameters\n",
    "hours_range = 24*365*30 # number of hours to look back\n",
    "\n",
    "# API settings\n",
    "api_url = '/services/data/v43.0/sobjects'\n",
    "external_id = 'nanoHUB_user_ID__c'\n",
    "object_id = 'Contact'"
   ]
  },
  {
   "cell_type": "code",
   "execution_count": 1,
   "id": "3f8beb85-58a8-4670-9e8d-80615dd60933",
   "metadata": {
    "execution": {
     "iopub.execute_input": "2021-12-01T01:33:50.038440Z",
     "iopub.status.busy": "2021-12-01T01:33:50.038147Z",
     "iopub.status.idle": "2021-12-01T01:33:51.170530Z",
     "shell.execute_reply": "2021-12-01T01:33:51.169652Z",
     "shell.execute_reply.started": "2021-12-01T01:33:50.038371Z"
    },
    "tags": []
   },
   "outputs": [
    {
     "name": "stderr",
     "output_type": "stream",
     "text": [
      "[nltk_data] Downloading package stopwords to\n",
      "[nltk_data]     /home/saxenap/venv/nltk_data...\n",
      "[nltk_data]   Package stopwords is already up-to-date!\n"
     ]
    },
    {
     "data": {
      "text/plain": [
       "179"
      ]
     },
     "metadata": {},
     "output_type": "display_data"
    }
   ],
   "source": [
    "import nltk\n",
    "nltk.download('stopwords')\n",
    "\n",
    "from nltk.corpus import stopwords\n",
    "s_words = stopwords.words('english')\n",
    "\n",
    "display(len(s_words))"
   ]
  },
  {
   "cell_type": "code",
   "execution_count": null,
   "id": "29a41481-8eeb-4e47-bc90-08607e284d81",
   "metadata": {
    "tags": []
   },
   "outputs": [],
   "source": []
  },
  {
   "cell_type": "code",
   "execution_count": null,
   "id": "3fcf3cfc-853b-4a62-9abc-9f11e0aeb33f",
   "metadata": {},
   "outputs": [],
   "source": []
  },
  {
   "cell_type": "code",
   "execution_count": null,
   "id": "39136198-6e29-480b-ae12-64aa8c21496c",
   "metadata": {
    "execution": {
     "iopub.execute_input": "2021-12-01T01:20:18.496383Z",
     "iopub.status.busy": "2021-12-01T01:20:18.494406Z"
    },
    "tags": []
   },
   "outputs": [],
   "source": []
  },
  {
   "cell_type": "code",
   "execution_count": null,
   "id": "cf102695-f75f-4103-acfd-a2ecaf4a3e05",
   "metadata": {
    "tags": []
   },
   "outputs": [],
   "source": []
  },
  {
   "cell_type": "code",
   "execution_count": null,
   "id": "e0adaedc-8978-441a-bc35-03a518c28553",
   "metadata": {},
   "outputs": [],
   "source": [
    "df.name.str.extractall(r\"\\b(\\w*)\\s*(.*)\\s*\\b(\\w+$)\").fillna(\"\").rename({0:\"First_Name\",1:\"Middle_Name\",2:\"Last_Name\"},axis=1)"
   ]
  },
  {
   "cell_type": "code",
   "execution_count": null,
   "id": "040d0f4f-e624-4b3a-b510-8516215e0503",
   "metadata": {},
   "outputs": [],
   "source": []
  },
  {
   "cell_type": "code",
   "execution_count": null,
   "id": "4e33fb3e-2288-4829-894a-2ef54ac99987",
   "metadata": {},
   "outputs": [],
   "source": []
  },
  {
   "cell_type": "code",
   "execution_count": 2,
   "id": "d7c4ec7c-259e-4ed0-b6f5-7a07d9a6f0d9",
   "metadata": {
    "execution": {
     "iopub.execute_input": "2021-11-30T23:56:06.565930Z",
     "iopub.status.busy": "2021-11-30T23:56:06.565584Z",
     "iopub.status.idle": "2021-11-30T23:56:06.573969Z",
     "shell.execute_reply": "2021-11-30T23:56:06.572657Z",
     "shell.execute_reply.started": "2021-11-30T23:56:06.565894Z"
    },
    "tags": []
   },
   "outputs": [],
   "source": [
    "# Parameters\n",
    "hours_range = 24*365*30 # number of hours to look back\n",
    "\n",
    "# API settings\n",
    "external_id = 'nanoHUB_user_ID__c'\n",
    "object_id = 'Contact'\n",
    "\n",
    "# login parameters to be handled by Papermill\n",
    "sf_login_params = None\n",
    "sql_login_params = None\n",
    "\n"
   ]
  },
  {
   "cell_type": "code",
   "execution_count": 1,
   "id": "4be112ea-73a9-4a4d-9023-000b8f68ae1a",
   "metadata": {
    "execution": {
     "iopub.execute_input": "2021-12-01T00:11:29.349495Z",
     "iopub.status.busy": "2021-12-01T00:11:29.349088Z",
     "iopub.status.idle": "2021-12-01T00:11:31.096033Z",
     "shell.execute_reply": "2021-12-01T00:11:31.093683Z",
     "shell.execute_reply.started": "2021-12-01T00:11:29.349397Z"
    },
    "tags": []
   },
   "outputs": [
    {
     "name": "stdout",
     "output_type": "stream",
     "text": [
      "\u001b[1mnanoHUB - Serving Students, Researchers & Instructors\u001b[0m\n",
      "Obtained Salesforce access token ...... True\n"
     ]
    }
   ],
   "source": [
    "from nanoHUB.application import Application\n",
    "\n",
    "application = Application.get_instance()\n",
    "salesforce = application.new_salesforce_engine()\n",
    "db_s = salesforce"
   ]
  },
  {
   "cell_type": "code",
   "execution_count": 2,
   "id": "b16195e7-d4b1-4ffe-ac14-17dbd033dbf0",
   "metadata": {
    "execution": {
     "iopub.execute_input": "2021-12-01T00:11:31.103881Z",
     "iopub.status.busy": "2021-12-01T00:11:31.098091Z",
     "iopub.status.idle": "2021-12-01T00:12:10.596022Z",
     "shell.execute_reply": "2021-12-01T00:12:10.595154Z",
     "shell.execute_reply.started": "2021-12-01T00:11:31.103519Z"
    },
    "tags": []
   },
   "outputs": [
    {
     "name": "stdout",
     "output_type": "stream",
     "text": [
      "[Success] Bulk job creation successful. Job ID = 7505w00000bmbqIAAQ\n",
      "{\"id\":\"7505w00000bmbqIAAQ\",\"operation\":\"query\",\"object\":\"Contact\",\"createdById\":\"0055w00000DM5bOAAT\",\"createdDate\":\"2021-12-01T00:11:31.000+0000\",\"systemModstamp\":\"2021-12-01T00:11:31.000+0000\",\"state\":\"UploadComplete\",\"concurrencyMode\":\"Parallel\",\"contentType\":\"CSV\",\"apiVersion\":47.0,\"jobType\":\"V2Query\",\"lineEnding\":\"LF\",\"columnDelimiter\":\"COMMA\",\"retries\":0,\"totalProcessingTime\":0}\n",
      "{\"id\":\"7505w00000bmbqIAAQ\",\"operation\":\"query\",\"object\":\"Contact\",\"createdById\":\"0055w00000DM5bOAAT\",\"createdDate\":\"2021-12-01T00:11:31.000+0000\",\"systemModstamp\":\"2021-12-01T00:11:33.000+0000\",\"state\":\"InProgress\",\"concurrencyMode\":\"Parallel\",\"contentType\":\"CSV\",\"apiVersion\":47.0,\"jobType\":\"V2Query\",\"lineEnding\":\"LF\",\"columnDelimiter\":\"COMMA\",\"numberRecordsProcessed\":0,\"retries\":0,\"totalProcessingTime\":0}\n",
      "{\"id\":\"7505w00000bmbqIAAQ\",\"operation\":\"query\",\"object\":\"Contact\",\"createdById\":\"0055w00000DM5bOAAT\",\"createdDate\":\"2021-12-01T00:11:31.000+0000\",\"systemModstamp\":\"2021-12-01T00:11:33.000+0000\",\"state\":\"InProgress\",\"concurrencyMode\":\"Parallel\",\"contentType\":\"CSV\",\"apiVersion\":47.0,\"jobType\":\"V2Query\",\"lineEnding\":\"LF\",\"columnDelimiter\":\"COMMA\",\"numberRecordsProcessed\":0,\"retries\":0,\"totalProcessingTime\":0}\n",
      "{\"id\":\"7505w00000bmbqIAAQ\",\"operation\":\"query\",\"object\":\"Contact\",\"createdById\":\"0055w00000DM5bOAAT\",\"createdDate\":\"2021-12-01T00:11:31.000+0000\",\"systemModstamp\":\"2021-12-01T00:11:54.000+0000\",\"state\":\"JobComplete\",\"concurrencyMode\":\"Parallel\",\"contentType\":\"CSV\",\"apiVersion\":47.0,\"jobType\":\"V2Query\",\"lineEnding\":\"LF\",\"columnDelimiter\":\"COMMA\",\"numberRecordsProcessed\":265188,\"retries\":0,\"totalProcessingTime\":19764}\n",
      "[Success] Bulk job completed successfully.\n"
     ]
    },
    {
     "data": {
      "text/html": [
       "<div>\n",
       "<style scoped>\n",
       "    .dataframe tbody tr th:only-of-type {\n",
       "        vertical-align: middle;\n",
       "    }\n",
       "\n",
       "    .dataframe tbody tr th {\n",
       "        vertical-align: top;\n",
       "    }\n",
       "\n",
       "    .dataframe thead th {\n",
       "        text-align: right;\n",
       "    }\n",
       "</style>\n",
       "<table border=\"1\" class=\"dataframe\">\n",
       "  <thead>\n",
       "    <tr style=\"text-align: right;\">\n",
       "      <th></th>\n",
       "      <th>Name</th>\n",
       "      <th>nanoHUB_registration_date__c</th>\n",
       "      <th>nanoHUB_user_ID__c</th>\n",
       "      <th>nanoHUB_username__c</th>\n",
       "    </tr>\n",
       "  </thead>\n",
       "  <tbody>\n",
       "    <tr>\n",
       "      <th>0</th>\n",
       "      <td>Pavan R</td>\n",
       "      <td>2021-11-21</td>\n",
       "      <td>346632.0</td>\n",
       "      <td>pavanrao218</td>\n",
       "    </tr>\n",
       "    <tr>\n",
       "      <th>1</th>\n",
       "      <td>Chao Yin</td>\n",
       "      <td>2021-11-21</td>\n",
       "      <td>346648.0</td>\n",
       "      <td>chaoyin1989</td>\n",
       "    </tr>\n",
       "    <tr>\n",
       "      <th>2</th>\n",
       "      <td>singiresu teja</td>\n",
       "      <td>2021-11-21</td>\n",
       "      <td>346634.0</td>\n",
       "      <td>teja80963</td>\n",
       "    </tr>\n",
       "    <tr>\n",
       "      <th>3</th>\n",
       "      <td>88shi Tak</td>\n",
       "      <td>2021-11-21</td>\n",
       "      <td>346635.0</td>\n",
       "      <td>-185838</td>\n",
       "    </tr>\n",
       "    <tr>\n",
       "      <th>4</th>\n",
       "      <td>FURKAN KURUOÄLU</td>\n",
       "      <td>2021-11-21</td>\n",
       "      <td>346686.0</td>\n",
       "      <td>furkan.kuruoglu</td>\n",
       "    </tr>\n",
       "    <tr>\n",
       "      <th>...</th>\n",
       "      <td>...</td>\n",
       "      <td>...</td>\n",
       "      <td>...</td>\n",
       "      <td>...</td>\n",
       "    </tr>\n",
       "    <tr>\n",
       "      <th>265183</th>\n",
       "      <td>Hasan Akay</td>\n",
       "      <td>1999-02-23</td>\n",
       "      <td>2299.0</td>\n",
       "      <td>akay</td>\n",
       "    </tr>\n",
       "    <tr>\n",
       "      <th>265184</th>\n",
       "      <td>Shibly Ahmed</td>\n",
       "      <td>1999-01-19</td>\n",
       "      <td>2864.0</td>\n",
       "      <td>shibly</td>\n",
       "    </tr>\n",
       "    <tr>\n",
       "      <th>265185</th>\n",
       "      <td>David Rumsey</td>\n",
       "      <td>1999-01-14</td>\n",
       "      <td>3855.0</td>\n",
       "      <td>rumsey</td>\n",
       "    </tr>\n",
       "    <tr>\n",
       "      <th>265186</th>\n",
       "      <td>Daniel Chrastina</td>\n",
       "      <td>1999-01-05</td>\n",
       "      <td>3854.0</td>\n",
       "      <td>phrwr</td>\n",
       "    </tr>\n",
       "    <tr>\n",
       "      <th>265187</th>\n",
       "      <td>damle damle</td>\n",
       "      <td>1998-11-06</td>\n",
       "      <td>3226.0</td>\n",
       "      <td>damle</td>\n",
       "    </tr>\n",
       "  </tbody>\n",
       "</table>\n",
       "<p>265188 rows × 4 columns</p>\n",
       "</div>"
      ],
      "text/plain": [
       "                    Name nanoHUB_registration_date__c  nanoHUB_user_ID__c  \\\n",
       "0                Pavan R                   2021-11-21            346632.0   \n",
       "1               Chao Yin                   2021-11-21            346648.0   \n",
       "2         singiresu teja                   2021-11-21            346634.0   \n",
       "3              88shi Tak                   2021-11-21            346635.0   \n",
       "4       FURKAN KURUOÄLU                   2021-11-21            346686.0   \n",
       "...                  ...                          ...                 ...   \n",
       "265183        Hasan Akay                   1999-02-23              2299.0   \n",
       "265184      Shibly Ahmed                   1999-01-19              2864.0   \n",
       "265185      David Rumsey                   1999-01-14              3855.0   \n",
       "265186  Daniel Chrastina                   1999-01-05              3854.0   \n",
       "265187       damle damle                   1998-11-06              3226.0   \n",
       "\n",
       "       nanoHUB_username__c  \n",
       "0              pavanrao218  \n",
       "1              chaoyin1989  \n",
       "2                teja80963  \n",
       "3                  -185838  \n",
       "4          furkan.kuruoglu  \n",
       "...                    ...  \n",
       "265183                akay  \n",
       "265184              shibly  \n",
       "265185              rumsey  \n",
       "265186               phrwr  \n",
       "265187               damle  \n",
       "\n",
       "[265188 rows x 4 columns]"
      ]
     },
     "metadata": {},
     "output_type": "display_data"
    }
   ],
   "source": [
    "query_string = '''\n",
    "SELECT \n",
    "    nanoHUB_user_ID__c, \n",
    "    nanoHUB_username__c, \n",
    "    name, \n",
    "    nanoHUB_registration_date__c \n",
    "FROM Contact\n",
    "WHERE nanoHUB_registration_date__c != NULL\n",
    "ORDER BY nanoHUB_registration_date__c\n",
    "DESC\n",
    "'''\n",
    "\n",
    "sf_contact_ID_df = db_s.query_data(query_string)\n",
    "\n",
    "display(sf_contact_ID_df)"
   ]
  },
  {
   "cell_type": "code",
   "execution_count": null,
   "id": "bf90ea89-cb15-4dc2-8e9d-7da0571f53f2",
   "metadata": {},
   "outputs": [],
   "source": []
  }
 ],
 "metadata": {
  "kernelspec": {
   "display_name": "Python 3 (ipykernel)",
   "language": "python",
   "name": "python3"
  },
  "language_info": {
   "codemirror_mode": {
    "name": "ipython",
    "version": 3
   },
   "file_extension": ".py",
   "mimetype": "text/x-python",
   "name": "python",
   "nbconvert_exporter": "python",
   "pygments_lexer": "ipython3",
   "version": "3.8.10"
  }
 },
 "nbformat": 4,
 "nbformat_minor": 5
}
