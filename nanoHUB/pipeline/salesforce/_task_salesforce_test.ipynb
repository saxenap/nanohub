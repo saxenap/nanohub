{
 "cells": [
  {
   "cell_type": "code",
   "execution_count": 1,
   "id": "4be112ea-73a9-4a4d-9023-000b8f68ae1a",
   "metadata": {
    "execution": {
     "iopub.execute_input": "2022-08-24T15:53:04.016872Z",
     "iopub.status.busy": "2022-08-24T15:53:04.015685Z",
     "iopub.status.idle": "2022-08-24T15:53:06.869861Z",
     "shell.execute_reply": "2022-08-24T15:53:06.868645Z",
     "shell.execute_reply.started": "2022-08-24T15:53:04.016780Z"
    },
    "tags": []
   },
   "outputs": [
    {
     "name": "stdout",
     "output_type": "stream",
     "text": [
      "\u001b[1mnanoHUB - Serving Students, Researchers & Instructors\u001b[0m\n"
     ]
    },
    {
     "name": "stderr",
     "output_type": "stream",
     "text": [
      "/home/saxenap/venv/lib/python3.8/site-packages/requests/__init__.py:102: RequestsDependencyWarning: urllib3 (1.26.9) or chardet (5.0.0)/charset_normalizer (2.0.12) doesn't match a supported version!\n",
      "  warnings.warn(\"urllib3 ({}) or chardet ({})/charset_normalizer ({}) doesn't match a supported \"\n"
     ]
    },
    {
     "name": "stdout",
     "output_type": "stream",
     "text": [
      "Obtained Salesforce access token ...... True\n"
     ]
    }
   ],
   "source": [
    "from nanoHUB.application import Application\n",
    "\n",
    "application = Application.get_instance()\n",
    "salesforce = application.new_salesforce_engine()\n",
    "db_s = salesforce"
   ]
  },
  {
   "cell_type": "code",
   "execution_count": 2,
   "id": "b16195e7-d4b1-4ffe-ac14-17dbd033dbf0",
   "metadata": {
    "execution": {
     "iopub.execute_input": "2022-06-24T21:03:40.179044Z",
     "iopub.status.busy": "2022-06-24T21:03:40.176654Z",
     "iopub.status.idle": "2022-06-24T21:03:46.735919Z",
     "shell.execute_reply": "2022-06-24T21:03:46.733620Z",
     "shell.execute_reply.started": "2022-06-24T21:03:40.178981Z"
    },
    "tags": []
   },
   "outputs": [
    {
     "name": "stdout",
     "output_type": "stream",
     "text": [
      "[Success] Bulk job creation successful. Job ID = 7508W00000i6ST9QAM\n",
      "{\"id\":\"7508W00000i6ST9QAM\",\"operation\":\"query\",\"object\":\"Contact\",\"createdById\":\"0055w00000DM5bOAAT\",\"createdDate\":\"2022-06-24T21:03:40.000+0000\",\"systemModstamp\":\"2022-06-24T21:03:41.000+0000\",\"state\":\"InProgress\",\"concurrencyMode\":\"Parallel\",\"contentType\":\"CSV\",\"apiVersion\":47.0,\"jobType\":\"V2Query\",\"lineEnding\":\"LF\",\"columnDelimiter\":\"COMMA\",\"numberRecordsProcessed\":0,\"retries\":0,\"totalProcessingTime\":0}\n"
     ]
    },
    {
     "ename": "KeyboardInterrupt",
     "evalue": "",
     "output_type": "error",
     "traceback": [
      "\u001b[0;31m---------------------------------------------------------------------------\u001b[0m",
      "\u001b[0;31mKeyboardInterrupt\u001b[0m                         Traceback (most recent call last)",
      "Input \u001b[0;32mIn [2]\u001b[0m, in \u001b[0;36m<cell line: 13>\u001b[0;34m()\u001b[0m\n\u001b[1;32m      1\u001b[0m query_string \u001b[38;5;241m=\u001b[39m \u001b[38;5;124m'''\u001b[39m\n\u001b[1;32m      2\u001b[0m \u001b[38;5;124mSELECT \u001b[39m\n\u001b[1;32m      3\u001b[0m \u001b[38;5;124m    nanoHUB_user_ID__c, \u001b[39m\n\u001b[0;32m   (...)\u001b[0m\n\u001b[1;32m     10\u001b[0m \u001b[38;5;124mDESC\u001b[39m\n\u001b[1;32m     11\u001b[0m \u001b[38;5;124m'''\u001b[39m\n\u001b[0;32m---> 13\u001b[0m sf_contact_ID_df \u001b[38;5;241m=\u001b[39m \u001b[43mdb_s\u001b[49m\u001b[38;5;241;43m.\u001b[39;49m\u001b[43mquery_data\u001b[49m\u001b[43m(\u001b[49m\u001b[43mquery_string\u001b[49m\u001b[43m)\u001b[49m\n\u001b[1;32m     15\u001b[0m display(sf_contact_ID_df)\n",
      "File \u001b[0;32m~/nanoHUB/nanoHUB/pipeline/salesforce/DB2SalesforceAPI.py:79\u001b[0m, in \u001b[0;36mDB2SalesforceAPI.query_data\u001b[0;34m(self, query)\u001b[0m\n\u001b[1;32m     75\u001b[0m         \u001b[38;5;28;01mbreak\u001b[39;00m\n\u001b[1;32m     77\u001b[0m     \u001b[38;5;28;01melse\u001b[39;00m:\n\u001b[1;32m     78\u001b[0m         \u001b[38;5;66;03m# check job status every 10 seconds\u001b[39;00m\n\u001b[0;32m---> 79\u001b[0m         \u001b[43mtime\u001b[49m\u001b[38;5;241;43m.\u001b[39;49m\u001b[43msleep\u001b[49m\u001b[43m(\u001b[49m\u001b[38;5;241;43m10\u001b[39;49m\u001b[43m)\u001b[49m\n\u001b[1;32m     81\u001b[0m     response \u001b[38;5;241m=\u001b[39m requests\u001b[38;5;241m.\u001b[39mget(\u001b[38;5;124m'\u001b[39m\u001b[38;5;124mhttps://na172.salesforce.com/services/data/v47.0/jobs/query/\u001b[39m\u001b[38;5;132;01m%s\u001b[39;00m\u001b[38;5;124m'\u001b[39m\u001b[38;5;241m%\u001b[39mjob_id, \n\u001b[1;32m     82\u001b[0m                             headers\u001b[38;5;241m=\u001b[39m{\u001b[38;5;124m\"\u001b[39m\u001b[38;5;124mAuthorization\u001b[39m\u001b[38;5;124m\"\u001b[39m: \u001b[38;5;124m\"\u001b[39m\u001b[38;5;124mBearer \u001b[39m\u001b[38;5;132;01m%s\u001b[39;00m\u001b[38;5;124m\"\u001b[39m \u001b[38;5;241m%\u001b[39m\u001b[38;5;28mself\u001b[39m\u001b[38;5;241m.\u001b[39maccess_token}\n\u001b[1;32m     83\u001b[0m                             )\n\u001b[1;32m     85\u001b[0m \u001b[38;5;28;01mif\u001b[39;00m \u001b[38;5;129;01mnot\u001b[39;00m response\u001b[38;5;241m.\u001b[39mok:\n\u001b[1;32m     86\u001b[0m     \u001b[38;5;66;03m# job request not successful\u001b[39;00m\n",
      "\u001b[0;31mKeyboardInterrupt\u001b[0m: "
     ]
    }
   ],
   "source": [
    "query_string = '''\n",
    "SELECT \n",
    "    nanoHUB_user_ID__c, \n",
    "    nanoHUB_username__c, \n",
    "    name, \n",
    "    nanoHUB_registration_date__c \n",
    "FROM Contact\n",
    "WHERE nanoHUB_registration_date__c != NULL\n",
    "ORDER BY nanoHUB_registration_date__c\n",
    "DESC\n",
    "'''\n",
    "\n",
    "sf_contact_ID_df = db_s.query_data(query_string)\n",
    "\n",
    "display(sf_contact_ID_df)"
   ]
  },
  {
   "cell_type": "code",
   "execution_count": null,
   "id": "bf90ea89-cb15-4dc2-8e9d-7da0571f53f2",
   "metadata": {},
   "outputs": [],
   "source": []
  }
 ],
 "metadata": {
  "kernelspec": {
   "display_name": "Python 3 (ipykernel)",
   "language": "python",
   "name": "python3"
  },
  "language_info": {
   "codemirror_mode": {
    "name": "ipython",
    "version": 3
   },
   "file_extension": ".py",
   "mimetype": "text/x-python",
   "name": "python",
   "nbconvert_exporter": "python",
   "pygments_lexer": "ipython3",
   "version": "3.8.10"
  }
 },
 "nbformat": 4,
 "nbformat_minor": 5
}
