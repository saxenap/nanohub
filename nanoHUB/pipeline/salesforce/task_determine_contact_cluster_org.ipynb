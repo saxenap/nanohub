{
 "cells": [
  {
   "cell_type": "markdown",
   "metadata": {
    "papermill": {
     "duration": 0.058374,
     "end_time": "2021-01-21T06:30:34.804261",
     "exception": false,
     "start_time": "2021-01-21T06:30:34.745887",
     "status": "completed"
    },
    "tags": []
   },
   "source": [
    "# DB2-Salesforce connector: Determine cluster organization"
   ]
  },
  {
   "cell_type": "code",
   "execution_count": 1,
   "metadata": {
    "execution": {
     "iopub.execute_input": "2021-01-21T06:30:35.020226Z",
     "iopub.status.busy": "2021-01-21T06:30:35.019006Z",
     "iopub.status.idle": "2021-01-21T06:30:35.020798Z",
     "shell.execute_reply": "2021-01-21T06:30:35.019561Z"
    },
    "papermill": {
     "duration": 0.122778,
     "end_time": "2021-01-21T06:30:35.020927",
     "exception": false,
     "start_time": "2021-01-21T06:30:34.898149",
     "status": "completed"
    },
    "tags": [
     "parameters"
    ]
   },
   "outputs": [],
   "source": [
    "# API settings\n",
    "api_url = '/services/data/v43.0/sobjects'\n",
    "external_id = 'nanoHUB_user_ID__c'\n",
    "object_id = 'Contact'\n",
    "\n",
    "from nanoHUB.application import Application\n",
    "\n",
    "application = Application.get_instance()\n",
    "nanohub_db = application.new_db_engine('nanohub')\n",
    "\n",
    "salesforce = application.new_salesforce_engine()\n",
    "db_s = salesforce"
   ]
  },
  {
   "cell_type": "code",
   "execution_count": 2,
   "metadata": {
    "execution": {
     "iopub.execute_input": "2021-01-21T06:30:35.280561Z",
     "iopub.status.busy": "2021-01-21T06:30:35.279966Z",
     "iopub.status.idle": "2021-01-21T06:30:40.341481Z",
     "shell.execute_reply": "2021-01-21T06:30:40.341013Z"
    },
    "papermill": {
     "duration": 5.241012,
     "end_time": "2021-01-21T06:30:40.341620",
     "exception": false,
     "start_time": "2021-01-21T06:30:35.100608",
     "status": "completed"
    },
    "tags": []
   },
   "outputs": [],
   "source": [
    "import pandas as pd\n",
    "import datetime\n",
    "import numpy as np\n",
    "pd.options.mode.chained_assignment = None"
   ]
  },
  {
   "cell_type": "markdown",
   "metadata": {
    "papermill": {
     "duration": 0.081963,
     "end_time": "2021-01-21T06:30:40.504410",
     "exception": false,
     "start_time": "2021-01-21T06:30:40.422447",
     "status": "completed"
    },
    "tags": []
   },
   "source": [
    "## Obtain contacts from DB2 \n",
    "that have last visit date within range of interest specified by day_range"
   ]
  },
  {
   "cell_type": "raw",
   "metadata": {
    "papermill": {
     "duration": 0.045246,
     "end_time": "2021-01-21T06:30:40.605715",
     "exception": false,
     "start_time": "2021-01-21T06:30:40.560469",
     "status": "completed"
    },
    "tags": []
   },
   "source": [
    "MariaDB [nanohub]> select id, name, label from jos_user_profile_fields;\n",
    "+----+-----------------+-------------------------------------------------------+\n",
    "| id | name            | label                                                 |\n",
    "+----+-----------------+-------------------------------------------------------+\n",
    "|  1 | organization    | Organization                                          |\n",
    "|  2 | orgtype         | Organization / Position Type                          |\n",
    "|  3 | countryresident | Residency                                             |\n",
    "|  4 | countryorigin   | Citizenship                                           |\n",
    "|  5 | url             | Website                                               |\n",
    "|  6 | phone           | Telephone                                             |\n",
    "|  7 | orcid           | ORCID                                                 |\n",
    "|  8 | gender          | Gender                                                |\n",
    "|  9 | race            | Racial Background                                     |\n",
    "| 10 | disability      | Disability                                            |\n",
    "| 11 | reason          | Reason                                                |\n",
    "| 12 | tags            | Interests                                             |\n",
    "| 13 | address         | Address                                               |\n",
    "| 14 | hispanic        | Hispanic Heritage                                     |\n",
    "| 15 | bio             | Biography                                             |\n",
    "| 16 | howdidyouhear   | How did you first hear about nanoHUB?                 |\n",
    "| 17 | purposeofvisit  | What is the primary purpose of your visit to nanoHUB? |\n",
    "+----+-----------------+-------------------------------------------------------+\n",
    "\n",
    "\n",
    "\n",
    "MariaDB [nanohub]> explain  jos_user_profiles;\n",
    "+---------------+------------------+------+-----+---------+----------------+\n",
    "| Field         | Type             | Null | Key | Default | Extra          |\n",
    "+---------------+------------------+------+-----+---------+----------------+\n",
    "| id            | int(11) unsigned | NO   | PRI | NULL    | auto_increment |\n",
    "| user_id       | int(11)          | NO   | MUL | NULL    |                |\n",
    "| profile_key   | varchar(100)     | NO   |     | NULL    |                |\n",
    "| profile_value | text             | NO   |     | NULL    |                |\n",
    "| ordering      | int(11)          | NO   |     | 0       |                |\n",
    "| access        | int(10)          | NO   |     | 0       |                |\n",
    "+---------------+------------------+------+-----+---------+----------------+"
   ]
  },
  {
   "cell_type": "code",
   "execution_count": 3,
   "metadata": {
    "execution": {
     "iopub.execute_input": "2021-01-21T06:30:40.753733Z",
     "iopub.status.busy": "2021-01-21T06:30:40.752701Z",
     "iopub.status.idle": "2021-01-21T06:30:40.755333Z",
     "shell.execute_reply": "2021-01-21T06:30:40.753177Z"
    },
    "papermill": {
     "duration": 0.097455,
     "end_time": "2021-01-21T06:30:40.755473",
     "exception": false,
     "start_time": "2021-01-21T06:30:40.658018",
     "status": "completed"
    },
    "tags": []
   },
   "outputs": [
    {
     "name": "stdout",
     "output_type": "stream",
     "text": [
      "select id, name, username, block, email, sendEmail, registerDate, lastvisitDate                     from jos_users\n"
     ]
    }
   ],
   "source": [
    "# Depending on the task, use different query and cutoff\n",
    "\n",
    "sql_query = \"select id, name, username, block, email, sendEmail, registerDate, lastvisitDate \\\n",
    "                    from jos_users\"\n",
    "\n",
    "# display\n",
    "print(sql_query)"
   ]
  },
  {
   "cell_type": "code",
   "execution_count": 4,
   "metadata": {
    "execution": {
     "iopub.execute_input": "2021-01-21T06:30:40.844118Z",
     "iopub.status.busy": "2021-01-21T06:30:40.843535Z",
     "iopub.status.idle": "2021-01-21T06:31:10.188490Z",
     "shell.execute_reply": "2021-01-21T06:31:10.188015Z"
    },
    "papermill": {
     "duration": 29.389381,
     "end_time": "2021-01-21T06:31:10.188648",
     "exception": false,
     "start_time": "2021-01-21T06:30:40.799267",
     "status": "completed"
    },
    "tags": []
   },
   "outputs": [],
   "source": [
    "# connect with DB2\n",
    "df = pd.read_sql_query(sql_query, nanohub_db)\n",
    "\n",
    "# get user profile details\n",
    "profile_df = pd.read_sql_query(\"select * from jos_user_profiles where profile_key in ('orgtype', 'organization', 'orcid')\", nanohub_db)"
   ]
  },
  {
   "cell_type": "code",
   "execution_count": 5,
   "metadata": {
    "execution": {
     "iopub.execute_input": "2021-01-21T06:31:10.313052Z",
     "iopub.status.busy": "2021-01-21T06:31:10.312440Z",
     "iopub.status.idle": "2021-01-21T06:31:10.335455Z",
     "shell.execute_reply": "2021-01-21T06:31:10.334995Z"
    },
    "papermill": {
     "duration": 0.095663,
     "end_time": "2021-01-21T06:31:10.335589",
     "exception": false,
     "start_time": "2021-01-21T06:31:10.239926",
     "status": "completed"
    },
    "tags": []
   },
   "outputs": [
    {
     "data": {
      "text/html": [
       "<div>\n",
       "<style scoped>\n",
       "    .dataframe tbody tr th:only-of-type {\n",
       "        vertical-align: middle;\n",
       "    }\n",
       "\n",
       "    .dataframe tbody tr th {\n",
       "        vertical-align: top;\n",
       "    }\n",
       "\n",
       "    .dataframe thead th {\n",
       "        text-align: right;\n",
       "    }\n",
       "</style>\n",
       "<table border=\"1\" class=\"dataframe\">\n",
       "  <thead>\n",
       "    <tr style=\"text-align: right;\">\n",
       "      <th></th>\n",
       "      <th>id</th>\n",
       "      <th>name</th>\n",
       "      <th>username</th>\n",
       "      <th>block</th>\n",
       "      <th>email</th>\n",
       "      <th>sendEmail</th>\n",
       "      <th>registerDate</th>\n",
       "      <th>lastvisitDate</th>\n",
       "    </tr>\n",
       "  </thead>\n",
       "  <tbody>\n",
       "    <tr>\n",
       "      <th>0</th>\n",
       "      <td>998</td>\n",
       "      <td>hubrepo hubrepo</td>\n",
       "      <td>hubrepo</td>\n",
       "      <td>0</td>\n",
       "      <td>nkissebe@gmail.com</td>\n",
       "      <td>0</td>\n",
       "      <td>2014-11-13 21:09:09</td>\n",
       "      <td>NaT</td>\n",
       "    </tr>\n",
       "  </tbody>\n",
       "</table>\n",
       "</div>"
      ],
      "text/plain": [
       "    id             name username  block               email  sendEmail  \\\n",
       "0  998  hubrepo hubrepo  hubrepo      0  nkissebe@gmail.com          0   \n",
       "\n",
       "         registerDate lastvisitDate  \n",
       "0 2014-11-13 21:09:09           NaT  "
      ]
     },
     "metadata": {},
     "output_type": "display_data"
    },
    {
     "data": {
      "text/html": [
       "<div>\n",
       "<style scoped>\n",
       "    .dataframe tbody tr th:only-of-type {\n",
       "        vertical-align: middle;\n",
       "    }\n",
       "\n",
       "    .dataframe tbody tr th {\n",
       "        vertical-align: top;\n",
       "    }\n",
       "\n",
       "    .dataframe thead th {\n",
       "        text-align: right;\n",
       "    }\n",
       "</style>\n",
       "<table border=\"1\" class=\"dataframe\">\n",
       "  <thead>\n",
       "    <tr style=\"text-align: right;\">\n",
       "      <th></th>\n",
       "      <th>id</th>\n",
       "      <th>user_id</th>\n",
       "      <th>profile_key</th>\n",
       "      <th>profile_value</th>\n",
       "      <th>ordering</th>\n",
       "      <th>access</th>\n",
       "    </tr>\n",
       "  </thead>\n",
       "  <tbody>\n",
       "    <tr>\n",
       "      <th>0</th>\n",
       "      <td>1</td>\n",
       "      <td>15623</td>\n",
       "      <td>orgtype</td>\n",
       "      <td>university</td>\n",
       "      <td>2</td>\n",
       "      <td>5</td>\n",
       "    </tr>\n",
       "  </tbody>\n",
       "</table>\n",
       "</div>"
      ],
      "text/plain": [
       "   id  user_id profile_key profile_value  ordering  access\n",
       "0   1    15623     orgtype    university         2       5"
      ]
     },
     "metadata": {},
     "output_type": "display_data"
    }
   ],
   "source": [
    "# display\n",
    "display(df.head(1))\n",
    "\n",
    "display(profile_df.head(1))"
   ]
  },
  {
   "cell_type": "code",
   "execution_count": 6,
   "metadata": {
    "execution": {
     "iopub.execute_input": "2021-01-21T06:31:10.450684Z",
     "iopub.status.busy": "2021-01-21T06:31:10.450086Z",
     "iopub.status.idle": "2021-01-21T06:31:13.409511Z",
     "shell.execute_reply": "2021-01-21T06:31:13.409042Z"
    },
    "papermill": {
     "duration": 3.040371,
     "end_time": "2021-01-21T06:31:13.409676",
     "exception": false,
     "start_time": "2021-01-21T06:31:10.369305",
     "status": "completed"
    },
    "tags": []
   },
   "outputs": [
    {
     "data": {
      "text/html": [
       "<div>\n",
       "<style scoped>\n",
       "    .dataframe tbody tr th:only-of-type {\n",
       "        vertical-align: middle;\n",
       "    }\n",
       "\n",
       "    .dataframe tbody tr th {\n",
       "        vertical-align: top;\n",
       "    }\n",
       "\n",
       "    .dataframe thead th {\n",
       "        text-align: right;\n",
       "    }\n",
       "</style>\n",
       "<table border=\"1\" class=\"dataframe\">\n",
       "  <thead>\n",
       "    <tr style=\"text-align: right;\">\n",
       "      <th></th>\n",
       "      <th>id</th>\n",
       "      <th>name</th>\n",
       "      <th>username</th>\n",
       "      <th>block</th>\n",
       "      <th>email</th>\n",
       "      <th>sendEmail</th>\n",
       "      <th>registerDate</th>\n",
       "      <th>lastvisitDate</th>\n",
       "      <th>orgtype</th>\n",
       "      <th>organization</th>\n",
       "      <th>orcid</th>\n",
       "    </tr>\n",
       "  </thead>\n",
       "  <tbody>\n",
       "    <tr>\n",
       "      <th>0</th>\n",
       "      <td>998</td>\n",
       "      <td>hubrepo hubrepo</td>\n",
       "      <td>hubrepo</td>\n",
       "      <td>0</td>\n",
       "      <td>nkissebe@gmail.com</td>\n",
       "      <td>0</td>\n",
       "      <td>2014-11-13 21:09:09</td>\n",
       "      <td>NaT</td>\n",
       "      <td>NaN</td>\n",
       "      <td>NaN</td>\n",
       "      <td>NaN</td>\n",
       "    </tr>\n",
       "  </tbody>\n",
       "</table>\n",
       "</div>"
      ],
      "text/plain": [
       "    id             name username  block               email  sendEmail  \\\n",
       "0  998  hubrepo hubrepo  hubrepo      0  nkissebe@gmail.com          0   \n",
       "\n",
       "         registerDate lastvisitDate orgtype organization orcid  \n",
       "0 2014-11-13 21:09:09           NaT     NaN          NaN   NaN  "
      ]
     },
     "metadata": {},
     "output_type": "display_data"
    }
   ],
   "source": [
    "df = pd.merge(df, profile_df[profile_df['profile_key'] == 'orgtype'][['user_id', 'profile_value']],\\\n",
    "                         how='left', left_on='id', right_on='user_id')\\\n",
    "    .drop(columns=['user_id']).rename(columns={'profile_value':'orgtype'})\n",
    "\n",
    "df = pd.merge(df, profile_df[profile_df['profile_key'] == 'organization'][['user_id', 'profile_value']],\\\n",
    "                         how='left', left_on='id', right_on='user_id')\\\n",
    "    .drop(columns=['user_id']).rename(columns={'profile_value':'organization'})\n",
    "\n",
    "df = pd.merge(df, profile_df[profile_df['profile_key'] == 'orcid'][['user_id', 'profile_value']],\\\n",
    "                         how='left', left_on='id', right_on='user_id')\\\n",
    "    .drop(columns=['user_id']).rename(columns={'profile_value':'orcid'})\n",
    "\n",
    "# display\n",
    "display(df.head(1))"
   ]
  },
  {
   "cell_type": "code",
   "execution_count": 7,
   "metadata": {
    "execution": {
     "iopub.execute_input": "2021-01-21T06:31:13.566586Z",
     "iopub.status.busy": "2021-01-21T06:31:13.565998Z",
     "iopub.status.idle": "2021-01-21T06:34:38.706166Z",
     "shell.execute_reply": "2021-01-21T06:34:38.705367Z"
    },
    "papermill": {
     "duration": 205.242656,
     "end_time": "2021-01-21T06:34:38.706354",
     "exception": false,
     "start_time": "2021-01-21T06:31:13.463698",
     "status": "completed"
    },
    "tags": []
   },
   "outputs": [],
   "source": [
    "# Obtain company domain information from DB2\n",
    "wang159_myrmekes_db = application.new_db_engine('wang159_myrmekes')\n",
    "domain_df = pd.read_sql_query(\"select name as domain_name, domain, industry, `size range` as size, country \\\n",
    "from wang159_myrmekes.companies_email_domain\", wang159_myrmekes_db)"
   ]
  },
  {
   "cell_type": "code",
   "execution_count": 8,
   "metadata": {
    "execution": {
     "iopub.execute_input": "2021-01-21T06:34:39.214132Z",
     "iopub.status.busy": "2021-01-21T06:34:39.213566Z",
     "iopub.status.idle": "2021-01-21T06:34:51.574525Z",
     "shell.execute_reply": "2021-01-21T06:34:51.574055Z"
    },
    "papermill": {
     "duration": 12.842231,
     "end_time": "2021-01-21T06:34:51.574679",
     "exception": false,
     "start_time": "2021-01-21T06:34:38.732448",
     "status": "completed"
    },
    "tags": []
   },
   "outputs": [],
   "source": [
    "# make sure domain is unique and drop NaN\n",
    "domain_df = domain_df.drop_duplicates(subset='domain', keep='first').dropna()"
   ]
  },
  {
   "cell_type": "code",
   "execution_count": 9,
   "metadata": {
    "execution": {
     "iopub.execute_input": "2021-01-21T06:34:51.699690Z",
     "iopub.status.busy": "2021-01-21T06:34:51.699116Z",
     "iopub.status.idle": "2021-01-21T06:34:52.013756Z",
     "shell.execute_reply": "2021-01-21T06:34:52.011373Z"
    },
    "papermill": {
     "duration": 0.40452,
     "end_time": "2021-01-21T06:34:52.013892",
     "exception": false,
     "start_time": "2021-01-21T06:34:51.609372",
     "status": "completed"
    },
    "tags": []
   },
   "outputs": [],
   "source": [
    "# get email domain of nanoHUB users\n",
    "def get_domain(this_email):\n",
    "    seg_list = this_email.split('@')\n",
    "    \n",
    "    if len(seg_list) == 2:\n",
    "        return seg_list[1].lower()\n",
    "    else:\n",
    "        return None\n",
    "    \n",
    "df['email_domain'] = df['email'].apply(get_domain)"
   ]
  },
  {
   "cell_type": "code",
   "execution_count": 10,
   "metadata": {
    "execution": {
     "iopub.execute_input": "2021-01-21T06:34:52.116674Z",
     "iopub.status.busy": "2021-01-21T06:34:52.116038Z",
     "iopub.status.idle": "2021-01-21T06:34:54.235595Z",
     "shell.execute_reply": "2021-01-21T06:34:54.235060Z"
    },
    "papermill": {
     "duration": 2.196788,
     "end_time": "2021-01-21T06:34:54.235733",
     "exception": false,
     "start_time": "2021-01-21T06:34:52.038945",
     "status": "completed"
    },
    "tags": []
   },
   "outputs": [
    {
     "data": {
      "text/html": [
       "<div>\n",
       "<style scoped>\n",
       "    .dataframe tbody tr th:only-of-type {\n",
       "        vertical-align: middle;\n",
       "    }\n",
       "\n",
       "    .dataframe tbody tr th {\n",
       "        vertical-align: top;\n",
       "    }\n",
       "\n",
       "    .dataframe thead th {\n",
       "        text-align: right;\n",
       "    }\n",
       "</style>\n",
       "<table border=\"1\" class=\"dataframe\">\n",
       "  <thead>\n",
       "    <tr style=\"text-align: right;\">\n",
       "      <th></th>\n",
       "      <th>id</th>\n",
       "      <th>name</th>\n",
       "      <th>username</th>\n",
       "      <th>block</th>\n",
       "      <th>email</th>\n",
       "      <th>sendEmail</th>\n",
       "      <th>registerDate</th>\n",
       "      <th>lastvisitDate</th>\n",
       "      <th>orgtype</th>\n",
       "      <th>organization</th>\n",
       "      <th>orcid</th>\n",
       "      <th>email_domain</th>\n",
       "      <th>domain_name</th>\n",
       "      <th>domain</th>\n",
       "      <th>industry</th>\n",
       "      <th>size</th>\n",
       "      <th>country</th>\n",
       "    </tr>\n",
       "  </thead>\n",
       "  <tbody>\n",
       "    <tr>\n",
       "      <th>0</th>\n",
       "      <td>998</td>\n",
       "      <td>hubrepo hubrepo</td>\n",
       "      <td>hubrepo</td>\n",
       "      <td>0</td>\n",
       "      <td>nkissebe@gmail.com</td>\n",
       "      <td>0</td>\n",
       "      <td>2014-11-13 21:09:09</td>\n",
       "      <td>NaT</td>\n",
       "      <td>NaN</td>\n",
       "      <td>NaN</td>\n",
       "      <td>NaN</td>\n",
       "      <td>gmail.com</td>\n",
       "      <td>NaN</td>\n",
       "      <td>NaN</td>\n",
       "      <td>NaN</td>\n",
       "      <td>NaN</td>\n",
       "      <td>NaN</td>\n",
       "    </tr>\n",
       "    <tr>\n",
       "      <th>1</th>\n",
       "      <td>1000</td>\n",
       "      <td>CMS Admin Manager</td>\n",
       "      <td>admin</td>\n",
       "      <td>0</td>\n",
       "      <td>support@nanohub.org</td>\n",
       "      <td>0</td>\n",
       "      <td>NaT</td>\n",
       "      <td>NaT</td>\n",
       "      <td>NaN</td>\n",
       "      <td>NaN</td>\n",
       "      <td>NaN</td>\n",
       "      <td>nanohub.org</td>\n",
       "      <td>NaN</td>\n",
       "      <td>NaN</td>\n",
       "      <td>NaN</td>\n",
       "      <td>NaN</td>\n",
       "      <td>NaN</td>\n",
       "    </tr>\n",
       "  </tbody>\n",
       "</table>\n",
       "</div>"
      ],
      "text/plain": [
       "     id               name username  block                email  sendEmail  \\\n",
       "0   998    hubrepo hubrepo  hubrepo      0   nkissebe@gmail.com          0   \n",
       "1  1000  CMS Admin Manager    admin      0  support@nanohub.org          0   \n",
       "\n",
       "         registerDate lastvisitDate orgtype organization orcid email_domain  \\\n",
       "0 2014-11-13 21:09:09           NaT     NaN          NaN   NaN    gmail.com   \n",
       "1                 NaT           NaT     NaN          NaN   NaN  nanohub.org   \n",
       "\n",
       "  domain_name domain industry size country  \n",
       "0         NaN    NaN      NaN  NaN     NaN  \n",
       "1         NaN    NaN      NaN  NaN     NaN  "
      ]
     },
     "metadata": {},
     "output_type": "display_data"
    }
   ],
   "source": [
    "df = pd.merge(df, domain_df[domain_df.domain.isin(df['email_domain'].unique()) & ~domain_df.domain.isna()],\\\n",
    "         how='left', left_on='email_domain', right_on='domain')\n",
    "\n",
    "# display\n",
    "display(df.head(2))"
   ]
  },
  {
   "cell_type": "markdown",
   "metadata": {
    "papermill": {
     "duration": 0.024805,
     "end_time": "2021-01-21T06:34:54.285201",
     "exception": false,
     "start_time": "2021-01-21T06:34:54.260396",
     "status": "completed"
    },
    "tags": []
   },
   "source": [
    "## Obtain newly updated organization IDs from Salesforce"
   ]
  },
  {
   "cell_type": "code",
   "execution_count": 25,
   "metadata": {
    "execution": {
     "iopub.execute_input": "2021-01-21T06:34:56.445635Z",
     "iopub.status.busy": "2021-01-21T06:34:56.445069Z",
     "iopub.status.idle": "2021-01-21T06:41:38.217148Z",
     "shell.execute_reply": "2021-01-21T06:41:38.220461Z"
    },
    "papermill": {
     "duration": 401.844692,
     "end_time": "2021-01-21T06:41:38.220773",
     "exception": false,
     "start_time": "2021-01-21T06:34:56.376081",
     "status": "completed"
    },
    "tags": []
   },
   "outputs": [
    {
     "name": "stdout",
     "output_type": "stream",
     "text": [
      "[Success] Bulk job creation successful. Job ID = 7505w00000VprwaAAB\n",
      "{\"id\":\"7505w00000VprwaAAB\",\"operation\":\"query\",\"object\":\"ContactToolClusterAssociation__c\",\"createdById\":\"0055w00000DM5bOAAT\",\"createdDate\":\"2021-04-27T05:41:27.000+0000\",\"systemModstamp\":\"2021-04-27T05:41:27.000+0000\",\"state\":\"UploadComplete\",\"concurrencyMode\":\"Parallel\",\"contentType\":\"CSV\",\"apiVersion\":47.0,\"jobType\":\"V2Query\",\"lineEnding\":\"LF\",\"columnDelimiter\":\"COMMA\",\"retries\":0,\"totalProcessingTime\":0}\n",
      "{\"id\":\"7505w00000VprwaAAB\",\"operation\":\"query\",\"object\":\"ContactToolClusterAssociation__c\",\"createdById\":\"0055w00000DM5bOAAT\",\"createdDate\":\"2021-04-27T05:41:27.000+0000\",\"systemModstamp\":\"2021-04-27T05:41:29.000+0000\",\"state\":\"InProgress\",\"concurrencyMode\":\"Parallel\",\"contentType\":\"CSV\",\"apiVersion\":47.0,\"jobType\":\"V2Query\",\"lineEnding\":\"LF\",\"columnDelimiter\":\"COMMA\",\"numberRecordsProcessed\":0,\"retries\":0,\"totalProcessingTime\":0}\n",
      "{\"id\":\"7505w00000VprwaAAB\",\"operation\":\"query\",\"object\":\"ContactToolClusterAssociation__c\",\"createdById\":\"0055w00000DM5bOAAT\",\"createdDate\":\"2021-04-27T05:41:27.000+0000\",\"systemModstamp\":\"2021-04-27T05:41:29.000+0000\",\"state\":\"InProgress\",\"concurrencyMode\":\"Parallel\",\"contentType\":\"CSV\",\"apiVersion\":47.0,\"jobType\":\"V2Query\",\"lineEnding\":\"LF\",\"columnDelimiter\":\"COMMA\",\"numberRecordsProcessed\":0,\"retries\":0,\"totalProcessingTime\":0}\n",
      "{\"id\":\"7505w00000VprwaAAB\",\"operation\":\"query\",\"object\":\"ContactToolClusterAssociation__c\",\"createdById\":\"0055w00000DM5bOAAT\",\"createdDate\":\"2021-04-27T05:41:27.000+0000\",\"systemModstamp\":\"2021-04-27T05:41:49.000+0000\",\"state\":\"JobComplete\",\"concurrencyMode\":\"Parallel\",\"contentType\":\"CSV\",\"apiVersion\":47.0,\"jobType\":\"V2Query\",\"lineEnding\":\"LF\",\"columnDelimiter\":\"COMMA\",\"numberRecordsProcessed\":98079,\"retries\":0,\"totalProcessingTime\":16928}\n",
      "[Success] Bulk job completed successfully.\n"
     ]
    },
    {
     "data": {
      "text/html": [
       "<div>\n",
       "<style scoped>\n",
       "    .dataframe tbody tr th:only-of-type {\n",
       "        vertical-align: middle;\n",
       "    }\n",
       "\n",
       "    .dataframe tbody tr th {\n",
       "        vertical-align: top;\n",
       "    }\n",
       "\n",
       "    .dataframe thead th {\n",
       "        text-align: right;\n",
       "    }\n",
       "</style>\n",
       "<table border=\"1\" class=\"dataframe\">\n",
       "  <thead>\n",
       "    <tr style=\"text-align: right;\">\n",
       "      <th></th>\n",
       "      <th>Contact__c</th>\n",
       "      <th>Id</th>\n",
       "      <th>Tool_Usage_Cluster__c</th>\n",
       "    </tr>\n",
       "  </thead>\n",
       "  <tbody>\n",
       "    <tr>\n",
       "      <th>0</th>\n",
       "      <td>0035w00003NeIaTAAV</td>\n",
       "      <td>a0x5w00000cRtKRAA0</td>\n",
       "      <td>a0w5w00000AXc7TAAT</td>\n",
       "    </tr>\n",
       "    <tr>\n",
       "      <th>1</th>\n",
       "      <td>0035w00003NeIaFAAV</td>\n",
       "      <td>a0x5w00000cRtU8AAK</td>\n",
       "      <td>a0w5w00000AXc7TAAT</td>\n",
       "    </tr>\n",
       "    <tr>\n",
       "      <th>2</th>\n",
       "      <td>0035w00003NeIaXAAV</td>\n",
       "      <td>a0x5w00000cRtU9AAK</td>\n",
       "      <td>a0w5w00000AXc7TAAT</td>\n",
       "    </tr>\n",
       "  </tbody>\n",
       "</table>\n",
       "</div>"
      ],
      "text/plain": [
       "           Contact__c                  Id Tool_Usage_Cluster__c\n",
       "0  0035w00003NeIaTAAV  a0x5w00000cRtKRAA0    a0w5w00000AXc7TAAT\n",
       "1  0035w00003NeIaFAAV  a0x5w00000cRtU8AAK    a0w5w00000AXc7TAAT\n",
       "2  0035w00003NeIaXAAV  a0x5w00000cRtU9AAK    a0w5w00000AXc7TAAT"
      ]
     },
     "execution_count": 25,
     "metadata": {},
     "output_type": "execute_result"
    }
   ],
   "source": [
    "# get Salesforce ID for organizations\n",
    "lim_val = 5*10**6\n",
    "sf_cluster_df = db_s.query_data('SELECT Id, Contact__c, Tool_Usage_Cluster__c FROM ContactToolClusterAssociation__c limit '\\\n",
    "                +str(lim_val))\n",
    "\n",
    "# display\n",
    "sf_cluster_df.head(3)"
   ]
  },
  {
   "cell_type": "code",
   "execution_count": 26,
   "metadata": {},
   "outputs": [
    {
     "name": "stdout",
     "output_type": "stream",
     "text": [
      "(98079, 3)\n"
     ]
    }
   ],
   "source": [
    "print(sf_cluster_df.shape)"
   ]
  },
  {
   "cell_type": "code",
   "execution_count": 13,
   "metadata": {
    "execution": {
     "iopub.execute_input": "2021-01-21T06:41:38.570419Z",
     "iopub.status.busy": "2021-01-21T06:41:38.569696Z",
     "iopub.status.idle": "2021-01-21T06:43:16.222075Z",
     "shell.execute_reply": "2021-01-21T06:43:16.221568Z"
    },
    "papermill": {
     "duration": 97.952316,
     "end_time": "2021-01-21T06:43:16.222240",
     "exception": false,
     "start_time": "2021-01-21T06:41:38.269924",
     "status": "completed"
    },
    "tags": []
   },
   "outputs": [
    {
     "name": "stdout",
     "output_type": "stream",
     "text": [
      "[Success] Bulk job creation successful. Job ID = 7505w00000VprrtAAB\n",
      "{\"id\":\"7505w00000VprrtAAB\",\"operation\":\"query\",\"object\":\"Contact\",\"createdById\":\"0055w00000DM5bOAAT\",\"createdDate\":\"2021-04-27T05:34:30.000+0000\",\"systemModstamp\":\"2021-04-27T05:34:30.000+0000\",\"state\":\"UploadComplete\",\"concurrencyMode\":\"Parallel\",\"contentType\":\"CSV\",\"apiVersion\":47.0,\"jobType\":\"V2Query\",\"lineEnding\":\"LF\",\"columnDelimiter\":\"COMMA\",\"retries\":0,\"totalProcessingTime\":0}\n",
      "{\"id\":\"7505w00000VprrtAAB\",\"operation\":\"query\",\"object\":\"Contact\",\"createdById\":\"0055w00000DM5bOAAT\",\"createdDate\":\"2021-04-27T05:34:30.000+0000\",\"systemModstamp\":\"2021-04-27T05:34:32.000+0000\",\"state\":\"InProgress\",\"concurrencyMode\":\"Parallel\",\"contentType\":\"CSV\",\"apiVersion\":47.0,\"jobType\":\"V2Query\",\"lineEnding\":\"LF\",\"columnDelimiter\":\"COMMA\",\"numberRecordsProcessed\":0,\"retries\":0,\"totalProcessingTime\":0}\n",
      "{\"id\":\"7505w00000VprrtAAB\",\"operation\":\"query\",\"object\":\"Contact\",\"createdById\":\"0055w00000DM5bOAAT\",\"createdDate\":\"2021-04-27T05:34:30.000+0000\",\"systemModstamp\":\"2021-04-27T05:34:51.000+0000\",\"state\":\"JobComplete\",\"concurrencyMode\":\"Parallel\",\"contentType\":\"CSV\",\"apiVersion\":47.0,\"jobType\":\"V2Query\",\"lineEnding\":\"LF\",\"columnDelimiter\":\"COMMA\",\"numberRecordsProcessed\":245156,\"retries\":0,\"totalProcessingTime\":18296}\n",
      "[Success] Bulk job completed successfully.\n"
     ]
    },
    {
     "data": {
      "text/html": [
       "<div>\n",
       "<style scoped>\n",
       "    .dataframe tbody tr th:only-of-type {\n",
       "        vertical-align: middle;\n",
       "    }\n",
       "\n",
       "    .dataframe tbody tr th {\n",
       "        vertical-align: top;\n",
       "    }\n",
       "\n",
       "    .dataframe thead th {\n",
       "        text-align: right;\n",
       "    }\n",
       "</style>\n",
       "<table border=\"1\" class=\"dataframe\">\n",
       "  <thead>\n",
       "    <tr style=\"text-align: right;\">\n",
       "      <th></th>\n",
       "      <th>Id</th>\n",
       "      <th>Name</th>\n",
       "      <th>Organization_Overwrite__c</th>\n",
       "      <th>Organization__c</th>\n",
       "      <th>Organization_composite__c</th>\n",
       "      <th>Organization_email_derived__c</th>\n",
       "    </tr>\n",
       "  </thead>\n",
       "  <tbody>\n",
       "    <tr>\n",
       "      <th>0</th>\n",
       "      <td>0035w000031Vsp1AAC</td>\n",
       "      <td>hubrepo hubrepo</td>\n",
       "      <td>NaN</td>\n",
       "      <td>NaN</td>\n",
       "      <td>NaN</td>\n",
       "      <td>NaN</td>\n",
       "    </tr>\n",
       "    <tr>\n",
       "      <th>1</th>\n",
       "      <td>0035w000031Vsp2AAC</td>\n",
       "      <td>nanoHUB support</td>\n",
       "      <td>NaN</td>\n",
       "      <td>purdue university</td>\n",
       "      <td>a0r5w00000V42cCAAR</td>\n",
       "      <td>a0r5w00000V42cCAAR</td>\n",
       "    </tr>\n",
       "    <tr>\n",
       "      <th>2</th>\n",
       "      <td>0035w000031Vsp3AAC</td>\n",
       "      <td>Grid Statistics</td>\n",
       "      <td>NaN</td>\n",
       "      <td>purdue university</td>\n",
       "      <td>a0r5w00000V42cCAAR</td>\n",
       "      <td>a0r5w00000V42cCAAR</td>\n",
       "    </tr>\n",
       "  </tbody>\n",
       "</table>\n",
       "</div>"
      ],
      "text/plain": [
       "                   Id             Name Organization_Overwrite__c  \\\n",
       "0  0035w000031Vsp1AAC  hubrepo hubrepo                       NaN   \n",
       "1  0035w000031Vsp2AAC  nanoHUB support                       NaN   \n",
       "2  0035w000031Vsp3AAC  Grid Statistics                       NaN   \n",
       "\n",
       "     Organization__c Organization_composite__c Organization_email_derived__c  \n",
       "0                NaN                       NaN                           NaN  \n",
       "1  purdue university        a0r5w00000V42cCAAR            a0r5w00000V42cCAAR  \n",
       "2  purdue university        a0r5w00000V42cCAAR            a0r5w00000V42cCAAR  "
      ]
     },
     "execution_count": 13,
     "metadata": {},
     "output_type": "execute_result"
    }
   ],
   "source": [
    "# get Contacts from Salesforce\n",
    "sf_contact_df = db_s.query_data('SELECT Id, Name, Organization__c, Organization_composite__c, \\\n",
    "Organization_email_derived__c, Organization_\\\n",
    "Overwrite__c FROM Contact')\n",
    "#db_s.query_data('SELECT Id, Organization__c, Organization_email_derived__c, Organization_Overwrite__c FROM Contact')\n",
    "\n",
    "# display\n",
    "sf_contact_df.head(3)"
   ]
  },
  {
   "cell_type": "code",
   "execution_count": 14,
   "metadata": {
    "execution": {
     "iopub.execute_input": "2021-01-21T06:43:16.440356Z",
     "iopub.status.busy": "2021-01-21T06:43:16.439768Z",
     "iopub.status.idle": "2021-01-21T06:45:12.227940Z",
     "shell.execute_reply": "2021-01-21T06:45:12.228365Z"
    },
    "papermill": {
     "duration": 115.966911,
     "end_time": "2021-01-21T06:45:12.228566",
     "exception": false,
     "start_time": "2021-01-21T06:43:16.261655",
     "status": "completed"
    },
    "tags": []
   },
   "outputs": [
    {
     "name": "stdout",
     "output_type": "stream",
     "text": [
      "[Success] Bulk job creation successful. Job ID = 7505w00000VprhfAAB\n",
      "{\"id\":\"7505w00000VprhfAAB\",\"operation\":\"query\",\"object\":\"organization__c\",\"createdById\":\"0055w00000DM5bOAAT\",\"createdDate\":\"2021-04-27T05:34:59.000+0000\",\"systemModstamp\":\"2021-04-27T05:34:59.000+0000\",\"state\":\"InProgress\",\"concurrencyMode\":\"Parallel\",\"contentType\":\"CSV\",\"apiVersion\":47.0,\"jobType\":\"V2Query\",\"lineEnding\":\"LF\",\"columnDelimiter\":\"COMMA\",\"numberRecordsProcessed\":0,\"retries\":0,\"totalProcessingTime\":0}\n",
      "{\"id\":\"7505w00000VprhfAAB\",\"operation\":\"query\",\"object\":\"organization__c\",\"createdById\":\"0055w00000DM5bOAAT\",\"createdDate\":\"2021-04-27T05:34:59.000+0000\",\"systemModstamp\":\"2021-04-27T05:35:00.000+0000\",\"state\":\"JobComplete\",\"concurrencyMode\":\"Parallel\",\"contentType\":\"CSV\",\"apiVersion\":47.0,\"jobType\":\"V2Query\",\"lineEnding\":\"LF\",\"columnDelimiter\":\"COMMA\",\"numberRecordsProcessed\":6409,\"retries\":0,\"totalProcessingTime\":636}\n",
      "[Success] Bulk job completed successfully.\n"
     ]
    },
    {
     "data": {
      "text/html": [
       "<div>\n",
       "<style scoped>\n",
       "    .dataframe tbody tr th:only-of-type {\n",
       "        vertical-align: middle;\n",
       "    }\n",
       "\n",
       "    .dataframe tbody tr th {\n",
       "        vertical-align: top;\n",
       "    }\n",
       "\n",
       "    .dataframe thead th {\n",
       "        text-align: right;\n",
       "    }\n",
       "</style>\n",
       "<table border=\"1\" class=\"dataframe\">\n",
       "  <thead>\n",
       "    <tr style=\"text-align: right;\">\n",
       "      <th></th>\n",
       "      <th>Domain__c</th>\n",
       "      <th>Id</th>\n",
       "      <th>Name</th>\n",
       "    </tr>\n",
       "  </thead>\n",
       "  <tbody>\n",
       "    <tr>\n",
       "      <th>0</th>\n",
       "      <td>upenn.edu</td>\n",
       "      <td>a0r5w00000V42c0AAB</td>\n",
       "      <td>University of Pennsylvania</td>\n",
       "    </tr>\n",
       "    <tr>\n",
       "      <th>1</th>\n",
       "      <td>fer.hr</td>\n",
       "      <td>a0r5w00000V42c1AAB</td>\n",
       "      <td>fer</td>\n",
       "    </tr>\n",
       "    <tr>\n",
       "      <th>2</th>\n",
       "      <td>wheatoncollege.edu</td>\n",
       "      <td>a0r5w00000V42c2AAB</td>\n",
       "      <td>Wheaton College</td>\n",
       "    </tr>\n",
       "  </tbody>\n",
       "</table>\n",
       "</div>"
      ],
      "text/plain": [
       "            Domain__c                  Id                        Name\n",
       "0           upenn.edu  a0r5w00000V42c0AAB  University of Pennsylvania\n",
       "1              fer.hr  a0r5w00000V42c1AAB                         fer\n",
       "2  wheatoncollege.edu  a0r5w00000V42c2AAB             Wheaton College"
      ]
     },
     "execution_count": 14,
     "metadata": {},
     "output_type": "execute_result"
    }
   ],
   "source": [
    "# get organization from Salesforce\n",
    "sf_org_df = db_s.query_data('SELECT Id, Name, Domain__c FROM organization__c')\n",
    "\n",
    "# display\n",
    "sf_org_df.head(3)"
   ]
  },
  {
   "cell_type": "code",
   "execution_count": 15,
   "metadata": {
    "execution": {
     "iopub.execute_input": "2021-01-21T06:45:12.338255Z",
     "iopub.status.busy": "2021-01-21T06:45:12.337650Z",
     "iopub.status.idle": "2021-01-21T06:46:46.929730Z",
     "shell.execute_reply": "2021-01-21T06:46:46.929017Z"
    },
    "papermill": {
     "duration": 94.659466,
     "end_time": "2021-01-21T06:46:46.929885",
     "exception": false,
     "start_time": "2021-01-21T06:45:12.270419",
     "status": "completed"
    },
    "tags": []
   },
   "outputs": [
    {
     "name": "stdout",
     "output_type": "stream",
     "text": [
      "[Success] Bulk job creation successful. Job ID = 7505w00000VprsSAAR\n",
      "{\"id\":\"7505w00000VprsSAAR\",\"operation\":\"query\",\"object\":\"contact_citation_asso__c\",\"createdById\":\"0055w00000DM5bOAAT\",\"createdDate\":\"2021-04-27T05:35:11.000+0000\",\"systemModstamp\":\"2021-04-27T05:35:11.000+0000\",\"state\":\"InProgress\",\"concurrencyMode\":\"Parallel\",\"contentType\":\"CSV\",\"apiVersion\":47.0,\"jobType\":\"V2Query\",\"lineEnding\":\"LF\",\"columnDelimiter\":\"COMMA\",\"numberRecordsProcessed\":0,\"retries\":0,\"totalProcessingTime\":0}\n",
      "{\"id\":\"7505w00000VprsSAAR\",\"operation\":\"query\",\"object\":\"contact_citation_asso__c\",\"createdById\":\"0055w00000DM5bOAAT\",\"createdDate\":\"2021-04-27T05:35:11.000+0000\",\"systemModstamp\":\"2021-04-27T05:35:12.000+0000\",\"state\":\"JobComplete\",\"concurrencyMode\":\"Parallel\",\"contentType\":\"CSV\",\"apiVersion\":47.0,\"jobType\":\"V2Query\",\"lineEnding\":\"LF\",\"columnDelimiter\":\"COMMA\",\"numberRecordsProcessed\":4936,\"retries\":0,\"totalProcessingTime\":362}\n",
      "[Success] Bulk job completed successfully.\n"
     ]
    },
    {
     "data": {
      "text/html": [
       "<div>\n",
       "<style scoped>\n",
       "    .dataframe tbody tr th:only-of-type {\n",
       "        vertical-align: middle;\n",
       "    }\n",
       "\n",
       "    .dataframe tbody tr th {\n",
       "        vertical-align: top;\n",
       "    }\n",
       "\n",
       "    .dataframe thead th {\n",
       "        text-align: right;\n",
       "    }\n",
       "</style>\n",
       "<table border=\"1\" class=\"dataframe\">\n",
       "  <thead>\n",
       "    <tr style=\"text-align: right;\">\n",
       "      <th></th>\n",
       "      <th>Contact__c</th>\n",
       "      <th>Id</th>\n",
       "      <th>Organization__c</th>\n",
       "    </tr>\n",
       "  </thead>\n",
       "  <tbody>\n",
       "    <tr>\n",
       "      <th>0</th>\n",
       "      <td>0035w000034JLpOAAW</td>\n",
       "      <td>a0u5w00000RhVhTAAV</td>\n",
       "      <td>a0r5w00000V42cCAAR</td>\n",
       "    </tr>\n",
       "    <tr>\n",
       "      <th>1</th>\n",
       "      <td>0035w000034JLpOAAW</td>\n",
       "      <td>a0u5w00000RhVhUAAV</td>\n",
       "      <td>a0r5w00000V42cCAAR</td>\n",
       "    </tr>\n",
       "    <tr>\n",
       "      <th>2</th>\n",
       "      <td>0035w000034JLpOAAW</td>\n",
       "      <td>a0u5w00000RhVhVAAV</td>\n",
       "      <td>a0r5w00000V42cCAAR</td>\n",
       "    </tr>\n",
       "  </tbody>\n",
       "</table>\n",
       "</div>"
      ],
      "text/plain": [
       "           Contact__c                  Id     Organization__c\n",
       "0  0035w000034JLpOAAW  a0u5w00000RhVhTAAV  a0r5w00000V42cCAAR\n",
       "1  0035w000034JLpOAAW  a0u5w00000RhVhUAAV  a0r5w00000V42cCAAR\n",
       "2  0035w000034JLpOAAW  a0u5w00000RhVhVAAV  a0r5w00000V42cCAAR"
      ]
     },
     "execution_count": 15,
     "metadata": {},
     "output_type": "execute_result"
    }
   ],
   "source": [
    "# get organization according to citation from Salesforce\n",
    "sf_cit_org_df = db_s.query_data('SELECT Id, Contact__c, Organization__c FROM contact_citation_asso__c')\n",
    "\n",
    "# display\n",
    "sf_cit_org_df.head(3)"
   ]
  },
  {
   "cell_type": "code",
   "execution_count": 27,
   "metadata": {
    "execution": {
     "iopub.execute_input": "2021-01-21T06:46:47.214962Z",
     "iopub.status.busy": "2021-01-21T06:46:47.214019Z",
     "iopub.status.idle": "2021-01-21T06:46:49.075105Z",
     "shell.execute_reply": "2021-01-21T06:46:49.074638Z"
    },
    "papermill": {
     "duration": 2.099629,
     "end_time": "2021-01-21T06:46:49.075263",
     "exception": false,
     "start_time": "2021-01-21T06:46:46.975634",
     "status": "completed"
    },
    "tags": []
   },
   "outputs": [],
   "source": [
    "# rename Id of each Salesforce DF to avoid collision\n",
    "sf_cluster_df.rename(columns={'Id':'cluster_Id'}, inplace=True)\n",
    "sf_org_df.rename(columns={'Id':'org_Id'}, inplace=True)\n",
    "sf_contact_df.rename(columns={'Id':'contact_Id'}, inplace=True)\n",
    "sf_cit_org_df.rename(columns={'Id':'cit_org_Id'}, inplace=True)"
   ]
  },
  {
   "cell_type": "markdown",
   "metadata": {
    "papermill": {
     "duration": 0.050669,
     "end_time": "2021-01-21T06:46:49.173620",
     "exception": false,
     "start_time": "2021-01-21T06:46:49.122951",
     "status": "completed"
    },
    "tags": []
   },
   "source": [
    "## Determine the most likely organization of each cluster"
   ]
  },
  {
   "cell_type": "code",
   "execution_count": null,
   "metadata": {
    "papermill": {
     "duration": 0.04706,
     "end_time": "2021-01-21T06:46:49.268731",
     "exception": false,
     "start_time": "2021-01-21T06:46:49.221671",
     "status": "completed"
    },
    "tags": []
   },
   "outputs": [],
   "source": []
  },
  {
   "cell_type": "code",
   "execution_count": 28,
   "metadata": {
    "execution": {
     "iopub.execute_input": "2021-01-21T06:46:49.465379Z",
     "iopub.status.busy": "2021-01-21T06:46:49.456106Z",
     "iopub.status.idle": "2021-01-21T06:46:49.523149Z",
     "shell.execute_reply": "2021-01-21T06:46:49.523617Z"
    },
    "papermill": {
     "duration": 0.206571,
     "end_time": "2021-01-21T06:46:49.523774",
     "exception": false,
     "start_time": "2021-01-21T06:46:49.317203",
     "status": "completed"
    },
    "tags": []
   },
   "outputs": [
    {
     "data": {
      "text/plain": [
       "'sf_cluster_df'"
      ]
     },
     "metadata": {},
     "output_type": "display_data"
    },
    {
     "data": {
      "text/html": [
       "<div>\n",
       "<style scoped>\n",
       "    .dataframe tbody tr th:only-of-type {\n",
       "        vertical-align: middle;\n",
       "    }\n",
       "\n",
       "    .dataframe tbody tr th {\n",
       "        vertical-align: top;\n",
       "    }\n",
       "\n",
       "    .dataframe thead th {\n",
       "        text-align: right;\n",
       "    }\n",
       "</style>\n",
       "<table border=\"1\" class=\"dataframe\">\n",
       "  <thead>\n",
       "    <tr style=\"text-align: right;\">\n",
       "      <th></th>\n",
       "      <th>Contact__c</th>\n",
       "      <th>cluster_Id</th>\n",
       "      <th>Tool_Usage_Cluster__c</th>\n",
       "    </tr>\n",
       "  </thead>\n",
       "  <tbody>\n",
       "    <tr>\n",
       "      <th>0</th>\n",
       "      <td>0035w00003NeIaTAAV</td>\n",
       "      <td>a0x5w00000cRtKRAA0</td>\n",
       "      <td>a0w5w00000AXc7TAAT</td>\n",
       "    </tr>\n",
       "  </tbody>\n",
       "</table>\n",
       "</div>"
      ],
      "text/plain": [
       "           Contact__c          cluster_Id Tool_Usage_Cluster__c\n",
       "0  0035w00003NeIaTAAV  a0x5w00000cRtKRAA0    a0w5w00000AXc7TAAT"
      ]
     },
     "metadata": {},
     "output_type": "display_data"
    },
    {
     "data": {
      "text/plain": [
       "'sf_org_df'"
      ]
     },
     "metadata": {},
     "output_type": "display_data"
    },
    {
     "data": {
      "text/html": [
       "<div>\n",
       "<style scoped>\n",
       "    .dataframe tbody tr th:only-of-type {\n",
       "        vertical-align: middle;\n",
       "    }\n",
       "\n",
       "    .dataframe tbody tr th {\n",
       "        vertical-align: top;\n",
       "    }\n",
       "\n",
       "    .dataframe thead th {\n",
       "        text-align: right;\n",
       "    }\n",
       "</style>\n",
       "<table border=\"1\" class=\"dataframe\">\n",
       "  <thead>\n",
       "    <tr style=\"text-align: right;\">\n",
       "      <th></th>\n",
       "      <th>Domain__c</th>\n",
       "      <th>org_Id</th>\n",
       "      <th>Name</th>\n",
       "    </tr>\n",
       "  </thead>\n",
       "  <tbody>\n",
       "    <tr>\n",
       "      <th>0</th>\n",
       "      <td>upenn.edu</td>\n",
       "      <td>a0r5w00000V42c0AAB</td>\n",
       "      <td>University of Pennsylvania</td>\n",
       "    </tr>\n",
       "  </tbody>\n",
       "</table>\n",
       "</div>"
      ],
      "text/plain": [
       "   Domain__c              org_Id                        Name\n",
       "0  upenn.edu  a0r5w00000V42c0AAB  University of Pennsylvania"
      ]
     },
     "metadata": {},
     "output_type": "display_data"
    },
    {
     "data": {
      "text/plain": [
       "'sf_contact_df'"
      ]
     },
     "metadata": {},
     "output_type": "display_data"
    },
    {
     "data": {
      "text/html": [
       "<div>\n",
       "<style scoped>\n",
       "    .dataframe tbody tr th:only-of-type {\n",
       "        vertical-align: middle;\n",
       "    }\n",
       "\n",
       "    .dataframe tbody tr th {\n",
       "        vertical-align: top;\n",
       "    }\n",
       "\n",
       "    .dataframe thead th {\n",
       "        text-align: right;\n",
       "    }\n",
       "</style>\n",
       "<table border=\"1\" class=\"dataframe\">\n",
       "  <thead>\n",
       "    <tr style=\"text-align: right;\">\n",
       "      <th></th>\n",
       "      <th>contact_Id</th>\n",
       "      <th>Name</th>\n",
       "      <th>Organization_Overwrite__c</th>\n",
       "      <th>Organization__c</th>\n",
       "      <th>Organization_composite__c</th>\n",
       "      <th>Organization_email_derived__c</th>\n",
       "    </tr>\n",
       "  </thead>\n",
       "  <tbody>\n",
       "    <tr>\n",
       "      <th>0</th>\n",
       "      <td>0035w000031Vsp1AAC</td>\n",
       "      <td>hubrepo hubrepo</td>\n",
       "      <td>NaN</td>\n",
       "      <td>NaN</td>\n",
       "      <td>NaN</td>\n",
       "      <td>NaN</td>\n",
       "    </tr>\n",
       "  </tbody>\n",
       "</table>\n",
       "</div>"
      ],
      "text/plain": [
       "           contact_Id             Name Organization_Overwrite__c  \\\n",
       "0  0035w000031Vsp1AAC  hubrepo hubrepo                       NaN   \n",
       "\n",
       "  Organization__c Organization_composite__c Organization_email_derived__c  \n",
       "0             NaN                       NaN                           NaN  "
      ]
     },
     "metadata": {},
     "output_type": "display_data"
    },
    {
     "data": {
      "text/plain": [
       "'sf_cit_org_df'"
      ]
     },
     "metadata": {},
     "output_type": "display_data"
    },
    {
     "data": {
      "text/html": [
       "<div>\n",
       "<style scoped>\n",
       "    .dataframe tbody tr th:only-of-type {\n",
       "        vertical-align: middle;\n",
       "    }\n",
       "\n",
       "    .dataframe tbody tr th {\n",
       "        vertical-align: top;\n",
       "    }\n",
       "\n",
       "    .dataframe thead th {\n",
       "        text-align: right;\n",
       "    }\n",
       "</style>\n",
       "<table border=\"1\" class=\"dataframe\">\n",
       "  <thead>\n",
       "    <tr style=\"text-align: right;\">\n",
       "      <th></th>\n",
       "      <th>Contact__c</th>\n",
       "      <th>cit_org_Id</th>\n",
       "      <th>Organization__c</th>\n",
       "    </tr>\n",
       "  </thead>\n",
       "  <tbody>\n",
       "    <tr>\n",
       "      <th>0</th>\n",
       "      <td>0035w000034JLpOAAW</td>\n",
       "      <td>a0u5w00000RhVhTAAV</td>\n",
       "      <td>a0r5w00000V42cCAAR</td>\n",
       "    </tr>\n",
       "  </tbody>\n",
       "</table>\n",
       "</div>"
      ],
      "text/plain": [
       "           Contact__c          cit_org_Id     Organization__c\n",
       "0  0035w000034JLpOAAW  a0u5w00000RhVhTAAV  a0r5w00000V42cCAAR"
      ]
     },
     "metadata": {},
     "output_type": "display_data"
    }
   ],
   "source": [
    "# data given\n",
    "display('sf_cluster_df'); display(sf_cluster_df.head(1))\n",
    "display('sf_org_df'); display(sf_org_df.head(1))\n",
    "display('sf_contact_df'); display(sf_contact_df.head(1))\n",
    "display('sf_cit_org_df'); display(sf_cit_org_df.head(1))"
   ]
  },
  {
   "cell_type": "code",
   "execution_count": 29,
   "metadata": {
    "execution": {
     "iopub.execute_input": "2021-01-21T06:46:49.646169Z",
     "iopub.status.busy": "2021-01-21T06:46:49.645555Z",
     "iopub.status.idle": "2021-01-21T06:46:50.809868Z",
     "shell.execute_reply": "2021-01-21T06:46:50.810432Z"
    },
    "papermill": {
     "duration": 1.234268,
     "end_time": "2021-01-21T06:46:50.810593",
     "exception": false,
     "start_time": "2021-01-21T06:46:49.576325",
     "status": "completed"
    },
    "tags": []
   },
   "outputs": [
    {
     "data": {
      "text/html": [
       "<div>\n",
       "<style scoped>\n",
       "    .dataframe tbody tr th:only-of-type {\n",
       "        vertical-align: middle;\n",
       "    }\n",
       "\n",
       "    .dataframe tbody tr th {\n",
       "        vertical-align: top;\n",
       "    }\n",
       "\n",
       "    .dataframe thead th {\n",
       "        text-align: right;\n",
       "    }\n",
       "</style>\n",
       "<table border=\"1\" class=\"dataframe\">\n",
       "  <thead>\n",
       "    <tr style=\"text-align: right;\">\n",
       "      <th></th>\n",
       "      <th>Contact__c</th>\n",
       "      <th>cluster_Id</th>\n",
       "      <th>Tool_Usage_Cluster__c</th>\n",
       "      <th>contact_Id</th>\n",
       "      <th>Name</th>\n",
       "      <th>Organization_Overwrite__c</th>\n",
       "      <th>Organization__c</th>\n",
       "      <th>Organization_composite__c</th>\n",
       "      <th>Organization_email_derived__c</th>\n",
       "    </tr>\n",
       "  </thead>\n",
       "  <tbody>\n",
       "    <tr>\n",
       "      <th>0</th>\n",
       "      <td>0035w00003NeIaTAAV</td>\n",
       "      <td>a0x5w00000cRtKRAA0</td>\n",
       "      <td>a0w5w00000AXc7TAAT</td>\n",
       "      <td>0035w00003NeIaTAAV</td>\n",
       "      <td>Noelia Moreno</td>\n",
       "      <td>NaN</td>\n",
       "      <td>harvard university</td>\n",
       "      <td>a0r5w00000V42kEAAR</td>\n",
       "      <td>NaN</td>\n",
       "    </tr>\n",
       "    <tr>\n",
       "      <th>1</th>\n",
       "      <td>0035w00003NeIaFAAV</td>\n",
       "      <td>a0x5w00000cRtU8AAK</td>\n",
       "      <td>a0w5w00000AXc7TAAT</td>\n",
       "      <td>0035w00003NeIaFAAV</td>\n",
       "      <td>InÃ©s Ojeda</td>\n",
       "      <td>NaN</td>\n",
       "      <td>universidad de sevilla</td>\n",
       "      <td>NaN</td>\n",
       "      <td>NaN</td>\n",
       "    </tr>\n",
       "    <tr>\n",
       "      <th>2</th>\n",
       "      <td>0035w00003NeIaXAAV</td>\n",
       "      <td>a0x5w00000cRtU9AAK</td>\n",
       "      <td>a0w5w00000AXc7TAAT</td>\n",
       "      <td>0035w00003NeIaXAAV</td>\n",
       "      <td>Isabel JimÃ©nez</td>\n",
       "      <td>NaN</td>\n",
       "      <td>universidad de sevilla</td>\n",
       "      <td>NaN</td>\n",
       "      <td>NaN</td>\n",
       "    </tr>\n",
       "  </tbody>\n",
       "</table>\n",
       "</div>"
      ],
      "text/plain": [
       "           Contact__c          cluster_Id Tool_Usage_Cluster__c  \\\n",
       "0  0035w00003NeIaTAAV  a0x5w00000cRtKRAA0    a0w5w00000AXc7TAAT   \n",
       "1  0035w00003NeIaFAAV  a0x5w00000cRtU8AAK    a0w5w00000AXc7TAAT   \n",
       "2  0035w00003NeIaXAAV  a0x5w00000cRtU9AAK    a0w5w00000AXc7TAAT   \n",
       "\n",
       "           contact_Id             Name Organization_Overwrite__c  \\\n",
       "0  0035w00003NeIaTAAV    Noelia Moreno                       NaN   \n",
       "1  0035w00003NeIaFAAV      InÃ©s Ojeda                       NaN   \n",
       "2  0035w00003NeIaXAAV  Isabel JimÃ©nez                       NaN   \n",
       "\n",
       "          Organization__c Organization_composite__c  \\\n",
       "0      harvard university        a0r5w00000V42kEAAR   \n",
       "1  universidad de sevilla                       NaN   \n",
       "2  universidad de sevilla                       NaN   \n",
       "\n",
       "  Organization_email_derived__c  \n",
       "0                           NaN  \n",
       "1                           NaN  \n",
       "2                           NaN  "
      ]
     },
     "metadata": {},
     "output_type": "display_data"
    }
   ],
   "source": [
    "# merge cluster with contact info\n",
    "cc_df = pd.merge(sf_cluster_df, sf_contact_df, how='left', left_on='Contact__c', right_on='contact_Id')\n",
    "\n",
    "# display\n",
    "display(cc_df.head(3))"
   ]
  },
  {
   "cell_type": "code",
   "execution_count": 30,
   "metadata": {
    "execution": {
     "iopub.execute_input": "2021-01-21T06:46:50.985749Z",
     "iopub.status.busy": "2021-01-21T06:46:50.985165Z",
     "iopub.status.idle": "2021-01-21T06:46:51.878380Z",
     "shell.execute_reply": "2021-01-21T06:46:51.877832Z"
    },
    "papermill": {
     "duration": 1.017684,
     "end_time": "2021-01-21T06:46:51.878539",
     "exception": false,
     "start_time": "2021-01-21T06:46:50.860855",
     "status": "completed"
    },
    "tags": []
   },
   "outputs": [],
   "source": [
    "# apply overwrite\n",
    "#cc_df['org_final'] = cc_df.fillna('').apply(lambda x: \\\n",
    "#                    x['Organization_email_derived__c'] if x['Organization_Overwrite__c']=='' else x['Organization_Overwrite__c'],\\\n",
    "#                                 axis=1)\n",
    "\n",
    "cc_df['org_final'] = cc_df.fillna(' ').apply(lambda x: \\\n",
    "                    x['Organization_composite__c'] if x['Organization_Overwrite__c']==' ' else x['Organization_Overwrite__c'],\\\n",
    "                    axis=1)\n"
   ]
  },
  {
   "cell_type": "code",
   "execution_count": 31,
   "metadata": {
    "execution": {
     "iopub.execute_input": "2021-01-21T06:46:51.986299Z",
     "iopub.status.busy": "2021-01-21T06:46:51.985731Z",
     "iopub.status.idle": "2021-01-21T06:46:52.117806Z",
     "shell.execute_reply": "2021-01-21T06:46:52.117252Z"
    },
    "papermill": {
     "duration": 0.190873,
     "end_time": "2021-01-21T06:46:52.117937",
     "exception": false,
     "start_time": "2021-01-21T06:46:51.927064",
     "status": "completed"
    },
    "tags": []
   },
   "outputs": [
    {
     "data": {
      "text/html": [
       "<div>\n",
       "<style scoped>\n",
       "    .dataframe tbody tr th:only-of-type {\n",
       "        vertical-align: middle;\n",
       "    }\n",
       "\n",
       "    .dataframe tbody tr th {\n",
       "        vertical-align: top;\n",
       "    }\n",
       "\n",
       "    .dataframe thead th {\n",
       "        text-align: right;\n",
       "    }\n",
       "</style>\n",
       "<table border=\"1\" class=\"dataframe\">\n",
       "  <thead>\n",
       "    <tr style=\"text-align: right;\">\n",
       "      <th></th>\n",
       "      <th>Contact__c</th>\n",
       "      <th>cluster_Id</th>\n",
       "      <th>Tool_Usage_Cluster__c</th>\n",
       "      <th>contact_Id</th>\n",
       "      <th>Name</th>\n",
       "      <th>Organization_Overwrite__c</th>\n",
       "      <th>Organization__c</th>\n",
       "      <th>Organization_composite__c</th>\n",
       "      <th>Organization_email_derived__c</th>\n",
       "      <th>org_final</th>\n",
       "    </tr>\n",
       "  </thead>\n",
       "  <tbody>\n",
       "    <tr>\n",
       "      <th>0</th>\n",
       "      <td>0035w00003NeIaTAAV</td>\n",
       "      <td>a0x5w00000cRtKRAA0</td>\n",
       "      <td>a0w5w00000AXc7TAAT</td>\n",
       "      <td>0035w00003NeIaTAAV</td>\n",
       "      <td>Noelia Moreno</td>\n",
       "      <td>NaN</td>\n",
       "      <td>harvard university</td>\n",
       "      <td>a0r5w00000V42kEAAR</td>\n",
       "      <td>NaN</td>\n",
       "      <td>a0r5w00000V42kEAAR</td>\n",
       "    </tr>\n",
       "    <tr>\n",
       "      <th>1</th>\n",
       "      <td>0035w00003NeIaFAAV</td>\n",
       "      <td>a0x5w00000cRtU8AAK</td>\n",
       "      <td>a0w5w00000AXc7TAAT</td>\n",
       "      <td>0035w00003NeIaFAAV</td>\n",
       "      <td>InÃ©s Ojeda</td>\n",
       "      <td>NaN</td>\n",
       "      <td>universidad de sevilla</td>\n",
       "      <td>NaN</td>\n",
       "      <td>NaN</td>\n",
       "      <td></td>\n",
       "    </tr>\n",
       "  </tbody>\n",
       "</table>\n",
       "</div>"
      ],
      "text/plain": [
       "           Contact__c          cluster_Id Tool_Usage_Cluster__c  \\\n",
       "0  0035w00003NeIaTAAV  a0x5w00000cRtKRAA0    a0w5w00000AXc7TAAT   \n",
       "1  0035w00003NeIaFAAV  a0x5w00000cRtU8AAK    a0w5w00000AXc7TAAT   \n",
       "\n",
       "           contact_Id           Name Organization_Overwrite__c  \\\n",
       "0  0035w00003NeIaTAAV  Noelia Moreno                       NaN   \n",
       "1  0035w00003NeIaFAAV    InÃ©s Ojeda                       NaN   \n",
       "\n",
       "          Organization__c Organization_composite__c  \\\n",
       "0      harvard university        a0r5w00000V42kEAAR   \n",
       "1  universidad de sevilla                       NaN   \n",
       "\n",
       "  Organization_email_derived__c           org_final  \n",
       "0                           NaN  a0r5w00000V42kEAAR  \n",
       "1                           NaN                      "
      ]
     },
     "metadata": {},
     "output_type": "display_data"
    }
   ],
   "source": [
    "display(cc_df.head(2))"
   ]
  },
  {
   "cell_type": "code",
   "execution_count": 32,
   "metadata": {
    "execution": {
     "iopub.execute_input": "2021-01-21T06:46:52.236883Z",
     "iopub.status.busy": "2021-01-21T06:46:52.236237Z",
     "iopub.status.idle": "2021-01-21T06:46:52.696213Z",
     "shell.execute_reply": "2021-01-21T06:46:52.695631Z"
    },
    "papermill": {
     "duration": 0.530035,
     "end_time": "2021-01-21T06:46:52.696350",
     "exception": false,
     "start_time": "2021-01-21T06:46:52.166315",
     "status": "completed"
    },
    "tags": []
   },
   "outputs": [
    {
     "data": {
      "text/html": [
       "<div>\n",
       "<style scoped>\n",
       "    .dataframe tbody tr th:only-of-type {\n",
       "        vertical-align: middle;\n",
       "    }\n",
       "\n",
       "    .dataframe tbody tr th {\n",
       "        vertical-align: top;\n",
       "    }\n",
       "\n",
       "    .dataframe thead th {\n",
       "        text-align: right;\n",
       "    }\n",
       "</style>\n",
       "<table border=\"1\" class=\"dataframe\">\n",
       "  <thead>\n",
       "    <tr style=\"text-align: right;\">\n",
       "      <th></th>\n",
       "      <th>Tool_Usage_Cluster__c</th>\n",
       "      <th>Organization_composite__c</th>\n",
       "    </tr>\n",
       "  </thead>\n",
       "  <tbody>\n",
       "    <tr>\n",
       "      <th>0</th>\n",
       "      <td>a0w5w000009Q7CuAAK</td>\n",
       "      <td></td>\n",
       "    </tr>\n",
       "    <tr>\n",
       "      <th>1</th>\n",
       "      <td>a0w5w000009Q7CvAAK</td>\n",
       "      <td>a0r5w00000V42iyAAB</td>\n",
       "    </tr>\n",
       "    <tr>\n",
       "      <th>2</th>\n",
       "      <td>a0w5w000009Q7CwAAK</td>\n",
       "      <td>a0r5w00000V42iyAAB</td>\n",
       "    </tr>\n",
       "  </tbody>\n",
       "</table>\n",
       "</div>"
      ],
      "text/plain": [
       "  Tool_Usage_Cluster__c Organization_composite__c\n",
       "0    a0w5w000009Q7CuAAK                          \n",
       "1    a0w5w000009Q7CvAAK        a0r5w00000V42iyAAB\n",
       "2    a0w5w000009Q7CwAAK        a0r5w00000V42iyAAB"
      ]
     },
     "execution_count": 32,
     "metadata": {},
     "output_type": "execute_result"
    }
   ],
   "source": [
    "# find the most likely org within each cluster\n",
    "def get_likely_org(this_cluster_df):\n",
    "    non_empty_df = this_cluster_df[this_cluster_df.org_final != ' ']\n",
    "    \n",
    "    if non_empty_df.shape[0] > 0:\n",
    "        # there are non-empty organization information\n",
    "        return non_empty_df.org_final.mode().iloc[0]\n",
    "    else:\n",
    "        return ' '\n",
    "\n",
    "        \n",
    "cluster_org_df = cc_df[['Tool_Usage_Cluster__c', 'org_final']].groupby('Tool_Usage_Cluster__c')\\\n",
    "                            .apply(get_likely_org).reset_index(name='Organization_composite__c')#'Organization_email_derived__c')\n",
    "\n",
    "# display\n",
    "cluster_org_df.head(3)"
   ]
  },
  {
   "cell_type": "code",
   "execution_count": 33,
   "metadata": {
    "execution": {
     "iopub.execute_input": "2021-01-21T06:46:52.833581Z",
     "iopub.status.busy": "2021-01-21T06:46:52.833005Z",
     "iopub.status.idle": "2021-01-21T06:46:52.836249Z",
     "shell.execute_reply": "2021-01-21T06:46:52.836638Z"
    },
    "papermill": {
     "duration": 0.069856,
     "end_time": "2021-01-21T06:46:52.836796",
     "exception": false,
     "start_time": "2021-01-21T06:46:52.766940",
     "status": "completed"
    },
    "tags": []
   },
   "outputs": [
    {
     "data": {
      "text/html": [
       "<div>\n",
       "<style scoped>\n",
       "    .dataframe tbody tr th:only-of-type {\n",
       "        vertical-align: middle;\n",
       "    }\n",
       "\n",
       "    .dataframe tbody tr th {\n",
       "        vertical-align: top;\n",
       "    }\n",
       "\n",
       "    .dataframe thead th {\n",
       "        text-align: right;\n",
       "    }\n",
       "</style>\n",
       "<table border=\"1\" class=\"dataframe\">\n",
       "  <thead>\n",
       "    <tr style=\"text-align: right;\">\n",
       "      <th></th>\n",
       "      <th>Tool_Usage_Cluster__c</th>\n",
       "      <th>Organization__c</th>\n",
       "    </tr>\n",
       "  </thead>\n",
       "  <tbody>\n",
       "    <tr>\n",
       "      <th>0</th>\n",
       "      <td>a0w5w000009Q7CuAAK</td>\n",
       "      <td></td>\n",
       "    </tr>\n",
       "    <tr>\n",
       "      <th>1</th>\n",
       "      <td>a0w5w000009Q7CvAAK</td>\n",
       "      <td>a0r5w00000V42iyAAB</td>\n",
       "    </tr>\n",
       "  </tbody>\n",
       "</table>\n",
       "</div>"
      ],
      "text/plain": [
       "  Tool_Usage_Cluster__c     Organization__c\n",
       "0    a0w5w000009Q7CuAAK                    \n",
       "1    a0w5w000009Q7CvAAK  a0r5w00000V42iyAAB"
      ]
     },
     "execution_count": 33,
     "metadata": {},
     "output_type": "execute_result"
    }
   ],
   "source": [
    "cluster_org_df = cluster_org_df.rename(columns={\"Organization_composite__c\": \"Organization__c\"})\n",
    "cluster_org_df.head(2)"
   ]
  },
  {
   "cell_type": "markdown",
   "metadata": {
    "papermill": {
     "duration": 0.048899,
     "end_time": "2021-01-21T06:46:52.934386",
     "exception": false,
     "start_time": "2021-01-21T06:46:52.885487",
     "status": "completed"
    },
    "tags": []
   },
   "source": [
    "## Write to Salesforce"
   ]
  },
  {
   "cell_type": "code",
   "execution_count": 34,
   "metadata": {
    "execution": {
     "iopub.execute_input": "2021-01-21T06:47:13.718819Z",
     "iopub.status.busy": "2021-01-21T06:47:13.689091Z",
     "iopub.status.idle": "2021-01-21T06:47:13.721843Z",
     "shell.execute_reply": "2021-01-21T06:47:13.722761Z"
    },
    "papermill": {
     "duration": 20.739402,
     "end_time": "2021-01-21T06:47:13.723033",
     "exception": false,
     "start_time": "2021-01-21T06:46:52.983631",
     "status": "completed"
    },
    "tags": []
   },
   "outputs": [
    {
     "data": {
      "text/html": [
       "<div>\n",
       "<style scoped>\n",
       "    .dataframe tbody tr th:only-of-type {\n",
       "        vertical-align: middle;\n",
       "    }\n",
       "\n",
       "    .dataframe tbody tr th {\n",
       "        vertical-align: top;\n",
       "    }\n",
       "\n",
       "    .dataframe thead th {\n",
       "        text-align: right;\n",
       "    }\n",
       "</style>\n",
       "<table border=\"1\" class=\"dataframe\">\n",
       "  <thead>\n",
       "    <tr style=\"text-align: right;\">\n",
       "      <th></th>\n",
       "      <th>0</th>\n",
       "      <th>1</th>\n",
       "    </tr>\n",
       "  </thead>\n",
       "  <tbody>\n",
       "    <tr>\n",
       "      <th>Id</th>\n",
       "      <td>a0w5w000009Q7CuAAK</td>\n",
       "      <td>a0w5w000009Q7CvAAK</td>\n",
       "    </tr>\n",
       "    <tr>\n",
       "      <th>Organization__c</th>\n",
       "      <td></td>\n",
       "      <td>a0r5w00000V42iyAAB</td>\n",
       "    </tr>\n",
       "  </tbody>\n",
       "</table>\n",
       "</div>"
      ],
      "text/plain": [
       "                                  0                   1\n",
       "Id               a0w5w000009Q7CuAAK  a0w5w000009Q7CvAAK\n",
       "Organization__c                      a0r5w00000V42iyAAB"
      ]
     },
     "execution_count": 34,
     "metadata": {},
     "output_type": "execute_result"
    }
   ],
   "source": [
    "df_sf = pd.DataFrame()\n",
    "\n",
    "# Make sure NaN and NaT values are taken care of here\n",
    "df_sf['Id'] = cluster_org_df['Tool_Usage_Cluster__c']\n",
    "\n",
    "# derived information\n",
    "df_sf['Organization__c'] = cluster_org_df['Organization__c']#['Organization_email_derived__c']\n",
    "\n",
    "sf_original_fields = df_sf.columns\n",
    "\n",
    "# display\n",
    "df_sf.head(2).T"
   ]
  },
  {
   "cell_type": "code",
   "execution_count": 36,
   "metadata": {},
   "outputs": [
    {
     "data": {
      "text/plain": [
       "(4270, 2)"
      ]
     },
     "execution_count": 36,
     "metadata": {},
     "output_type": "execute_result"
    }
   ],
   "source": [
    "df_sf.shape"
   ]
  },
  {
   "cell_type": "code",
   "execution_count": 37,
   "metadata": {
    "execution": {
     "iopub.execute_input": "2021-01-21T06:47:13.883750Z",
     "iopub.status.busy": "2021-01-21T06:47:13.882841Z",
     "iopub.status.idle": "2021-01-21T06:47:14.261071Z",
     "shell.execute_reply": "2021-01-21T06:47:14.262257Z"
    },
    "papermill": {
     "duration": 0.480509,
     "end_time": "2021-01-21T06:47:14.262485",
     "exception": false,
     "start_time": "2021-01-21T06:47:13.781976",
     "status": "completed"
    },
    "tags": []
   },
   "outputs": [
    {
     "name": "stdout",
     "output_type": "stream",
     "text": [
      "Obtained Salesforce access token ...... True\n"
     ]
    }
   ],
   "source": [
    "from DB2SalesforceAPI import DB2SalesforceAPI\n",
    "\n",
    "# create DB2 to Salesforce API object\n",
    "db_s = salesforce\n",
    "\n",
    "db_s.object_id = 'tool_usage_cluster__c'\n",
    "db_s.external_id = 'Id'"
   ]
  },
  {
   "cell_type": "code",
   "execution_count": 38,
   "metadata": {
    "execution": {
     "iopub.execute_input": "2021-01-21T06:47:14.471267Z",
     "iopub.status.busy": "2021-01-21T06:47:14.470702Z",
     "iopub.status.idle": "2021-01-21T06:47:15.830432Z",
     "shell.execute_reply": "2021-01-21T06:47:15.829652Z"
    },
    "papermill": {
     "duration": 1.466199,
     "end_time": "2021-01-21T06:47:15.830634",
     "exception": false,
     "start_time": "2021-01-21T06:47:14.364435",
     "status": "completed"
    },
    "tags": []
   },
   "outputs": [
    {
     "name": "stdout",
     "output_type": "stream",
     "text": [
      "[Success] Bulk job creation successful. Job ID = 7505w00000VprwyAAB\n",
      "hello\n",
      "[Success] CSV upload successful. Job ID = 7505w00000VprwyAAB\n",
      "[Success] Closing job successful. Job ID = 7505w00000VprwyAAB\n"
     ]
    }
   ],
   "source": [
    "# send data to Salesforce\n",
    "db_s.send_data(df_sf)"
   ]
  },
  {
   "cell_type": "code",
   "execution_count": 41,
   "metadata": {
    "execution": {
     "iopub.execute_input": "2021-01-21T06:47:15.953417Z",
     "iopub.status.busy": "2021-01-21T06:47:15.952839Z",
     "iopub.status.idle": "2021-01-21T06:47:16.396310Z",
     "shell.execute_reply": "2021-01-21T06:47:16.395546Z"
    },
    "papermill": {
     "duration": 0.509083,
     "end_time": "2021-01-21T06:47:16.396543",
     "exception": false,
     "start_time": "2021-01-21T06:47:15.887460",
     "status": "completed"
    },
    "tags": []
   },
   "outputs": [
    {
     "data": {
      "text/plain": [
       "{'id': '7505w00000VprwyAAB',\n",
       " 'operation': 'upsert',\n",
       " 'object': 'tool_usage_cluster__c',\n",
       " 'createdById': '0055w00000DM5bOAAT',\n",
       " 'createdDate': '2021-04-27T05:42:42.000+0000',\n",
       " 'systemModstamp': '2021-04-27T05:42:57.000+0000',\n",
       " 'state': 'JobComplete',\n",
       " 'externalIdFieldName': 'Id',\n",
       " 'concurrencyMode': 'Parallel',\n",
       " 'contentType': 'CSV',\n",
       " 'apiVersion': 47.0,\n",
       " 'jobType': 'V2Ingest',\n",
       " 'lineEnding': 'LF',\n",
       " 'columnDelimiter': 'COMMA',\n",
       " 'numberRecordsProcessed': 4270,\n",
       " 'numberRecordsFailed': 0,\n",
       " 'retries': 0,\n",
       " 'totalProcessingTime': 9924,\n",
       " 'apiActiveProcessingTime': 8590,\n",
       " 'apexProcessingTime': 0}"
      ]
     },
     "execution_count": 41,
     "metadata": {},
     "output_type": "execute_result"
    }
   ],
   "source": [
    "# check status\n",
    "db_s.check_bulk_status()"
   ]
  },
  {
   "cell_type": "code",
   "execution_count": null,
   "metadata": {
    "papermill": {
     "duration": 0.062955,
     "end_time": "2021-01-21T06:47:16.536389",
     "exception": false,
     "start_time": "2021-01-21T06:47:16.473434",
     "status": "completed"
    },
    "tags": []
   },
   "outputs": [],
   "source": []
  },
  {
   "cell_type": "code",
   "execution_count": null,
   "metadata": {
    "papermill": {
     "duration": 0.062652,
     "end_time": "2021-01-21T06:47:16.656539",
     "exception": false,
     "start_time": "2021-01-21T06:47:16.593887",
     "status": "completed"
    },
    "tags": []
   },
   "outputs": [],
   "source": []
  },
  {
   "cell_type": "code",
   "execution_count": null,
   "metadata": {
    "papermill": {
     "duration": 0.054492,
     "end_time": "2021-01-21T06:47:16.768821",
     "exception": false,
     "start_time": "2021-01-21T06:47:16.714329",
     "status": "completed"
    },
    "tags": []
   },
   "outputs": [],
   "source": []
  },
  {
   "cell_type": "markdown",
   "metadata": {
    "papermill": {
     "duration": 0.056522,
     "end_time": "2021-01-21T06:47:16.893021",
     "exception": false,
     "start_time": "2021-01-21T06:47:16.836499",
     "status": "completed"
    },
    "tags": []
   },
   "source": [
    "# Graveyard\n",
    "## Determine the most likely organization of each contact"
   ]
  },
  {
   "cell_type": "markdown",
   "metadata": {
    "papermill": {
     "duration": 0.055461,
     "end_time": "2021-01-21T06:47:17.006497",
     "exception": false,
     "start_time": "2021-01-21T06:47:16.951036",
     "status": "completed"
    },
    "tags": []
   },
   "source": [
    "### Rules\n",
    "\n",
    "In the following order:\n",
    "\n",
    "- If overwrite set, use overwrite\n",
    "- If nanohub profile exists, use profile [NEW ADDITION]\n",
    "- If citation exists, use citation\n",
    "- If email exists, use email - stop here\n",
    "- If cluster exists, use cluster\n",
    "- If none above, none"
   ]
  },
  {
   "cell_type": "raw",
   "metadata": {
    "papermill": {
     "duration": 0.053857,
     "end_time": "2021-01-21T06:47:17.117129",
     "exception": false,
     "start_time": "2021-01-21T06:47:17.063272",
     "status": "completed"
    },
    "tags": []
   },
   "source": [
    "# data given\n",
    "display('sf_cluster_df'); display(sf_cluster_df.head(1))\n",
    "display('sf_org_df'); display(sf_org_df.head(1))\n",
    "display('sf_contact_df'); display(sf_contact_df.head(1))\n",
    "display('sf_cit_org_df'); display(sf_cit_org_df.head(1))\n",
    "display('cluster_org_df'); display(cluster_org_df.head(1))"
   ]
  },
  {
   "cell_type": "raw",
   "metadata": {
    "papermill": {
     "duration": 0.053764,
     "end_time": "2021-01-21T06:47:17.226355",
     "exception": false,
     "start_time": "2021-01-21T06:47:17.172591",
     "status": "completed"
    },
    "tags": []
   },
   "source": [
    "# build domain, org cluster ID as salesforce cluster\n",
    "sf_org_ID_df = pd.DataFrame()\n",
    "sf_org_ID_df['Domain__c'] = sf_org_df.iloc[:,0]\n",
    "sf_org_ID_df['Salesforce_ID'] = sf_org_df.iloc[:,1]\n",
    "display(sf_org_ID_df.head(2))\n",
    "display(df.head(2))"
   ]
  },
  {
   "cell_type": "raw",
   "metadata": {
    "papermill": {
     "duration": 0.055919,
     "end_time": "2021-01-21T06:47:17.337009",
     "exception": false,
     "start_time": "2021-01-21T06:47:17.281090",
     "status": "completed"
    },
    "tags": []
   },
   "source": [
    "# join salesforce ID back to contact DF\n",
    "df = pd.merge(sf_org_ID_df, df, how='right', left_on='Domain__c', right_on='domain').drop('Domain__c', axis=1)\\\n",
    "            .rename(columns={'Id':'Salesforce_ID'})\n",
    "display(df.head(2))"
   ]
  },
  {
   "cell_type": "raw",
   "metadata": {
    "papermill": {
     "duration": 0.058191,
     "end_time": "2021-01-21T06:47:17.447360",
     "exception": false,
     "start_time": "2021-01-21T06:47:17.389169",
     "status": "completed"
    },
    "tags": []
   },
   "source": [
    "## Correct organizations for citations\n",
    "sf_cit_ovr = sf_cit_org_df.drop_duplicates(subset='Contact__c',keep='first')\n",
    "temp = sf_cit_ovr.loc[:,'Contact__c']\n",
    "t_names = sf_contact_df.loc[:,'Id'].tolist()\n",
    "\n",
    "# iterate over all\n",
    "names = []\n",
    "for i in temp:\n",
    "    names.append(t_names.index(i))"
   ]
  },
  {
   "cell_type": "raw",
   "metadata": {
    "papermill": {
     "duration": 0.054795,
     "end_time": "2021-01-21T06:47:17.559114",
     "exception": false,
     "start_time": "2021-01-21T06:47:17.504319",
     "status": "completed"
    },
    "tags": []
   },
   "source": [
    "# populate df.Salesforce_ID\n",
    "use_names = sf_contact_df.loc[names,'Name'].tolist()\n",
    "citation_orgs = sf_cit_ovr.loc[:,'Organization__c'].tolist()\n",
    "\n",
    "t0 = df.name.tolist()\n",
    "for index,val in enumerate(use_names):\n",
    "    try:\n",
    "        name_index = t0.index(val)\n",
    "        df.Salesforce_ID[name_index] = citation_orgs[index]\n",
    "    except:\n",
    "        t = 1"
   ]
  },
  {
   "cell_type": "raw",
   "metadata": {
    "papermill": {
     "duration": 0.053604,
     "end_time": "2021-01-21T06:47:17.664609",
     "exception": false,
     "start_time": "2021-01-21T06:47:17.611005",
     "status": "completed"
    },
    "tags": []
   },
   "source": [
    "## Correct organizations for nanohub profile\n",
    "# extract Organization__c\n",
    "nano_orgs = (sf_contact_df.Organization__c[sf_contact_df.Organization__c.notnull()]).to_numpy()\n",
    "\n",
    "# nanohub organizations aren't necessarily ine ntlk database...\n",
    "# manual trial-and-error corrections\n",
    "nano_orgs[np.argwhere(nano_orgs == 'purdue university')] = 'Purdue University-Main Campus'\n",
    "nano_orgs[np.argwhere(nano_orgs == 'centerfor solar energy studies')] = 'University of Central Florida'\n",
    "nano_orgs[np.argwhere(nano_orgs == 'jpl')] = 'nasa'\n",
    "nano_orgs[np.argwhere(nano_orgs == 'bechtel bettis, inc.')] = 'bechtel corporation'\n",
    "nano_orgs[np.argwhere(nano_orgs == 'cadence')] = 'cadence design systems'\n",
    "\n",
    "nano_orgs[np.argwhere(nano_orgs == 'university of illinois at urbana-champaign')] = 'University of Illinois at Urbana-Champaign'\n",
    "nano_orgs[np.argwhere(nano_orgs == 'university of texas at austin')] = 'The University of Texas at Austin'\n",
    "nano_orgs[np.argwhere(nano_orgs == 'university of texas at el paso')] = 'The University of Texas at El Paso'\n",
    "\n",
    "#comment out later\n",
    "#nano_orgs[np.argwhere(nano_orgs == 'universidad de buenos aires')] = 'universidad del valle'\n",
    "#nano_orgs[np.argwhere(nano_orgs == 'federal university of rio grande do sul (ufrgs)')] = 'universidad del valle'\n",
    "\n",
    "# get orgnization ids\n",
    "orgs_list = sf_org_df.Name.tolist()\n",
    "orgs_index = [] #orgs_index used to find salesforce org ID\n",
    "for i in nano_orgs:\n",
    "    try:\n",
    "        orgs_index.append(orgs_list.index(i))\n",
    "    except:\n",
    "        t = 1"
   ]
  },
  {
   "cell_type": "raw",
   "metadata": {
    "papermill": {
     "duration": 0.051522,
     "end_time": "2021-01-21T06:47:17.768153",
     "exception": false,
     "start_time": "2021-01-21T06:47:17.716631",
     "status": "completed"
    },
    "tags": []
   },
   "source": [
    "# populate df.Salesforce\n",
    "#names of people who've have a nanohub organization filled out\n",
    "nano_names = sf_contact_df.Name[sf_contact_df.Organization__c.notnull()]\n",
    "\n",
    "# both orgs_index + nano_names are sequential (first come first served)\n",
    "t0 = df.name.tolist()\n",
    "for index,val in enumerate(nano_names):\n",
    "    try:\n",
    "        name_index = t0.index(val)\n",
    "        df.Salesforce_ID[name_index] = orgs_index[index]\n",
    "    except:\n",
    "        t = 1 "
   ]
  },
  {
   "cell_type": "raw",
   "metadata": {
    "papermill": {
     "duration": 0.050743,
     "end_time": "2021-01-21T06:47:17.871533",
     "exception": false,
     "start_time": "2021-01-21T06:47:17.820790",
     "status": "completed"
    },
    "tags": []
   },
   "source": [
    "## correct for overwrites (Organization_Overwrite__c from contact is the nanohubProfile)\n",
    "# find all indexes where Organization_Overwrite__c is not NaN\n",
    "df_replace = sf_contact_df.loc[:,'Name'][sf_contact_df['Organization_Overwrite__c'].notnull()]\n",
    "display(df_replace.head(2))"
   ]
  },
  {
   "cell_type": "code",
   "execution_count": null,
   "metadata": {
    "papermill": {
     "duration": 0.050461,
     "end_time": "2021-01-21T06:47:17.977892",
     "exception": false,
     "start_time": "2021-01-21T06:47:17.927431",
     "status": "completed"
    },
    "tags": []
   },
   "outputs": [],
   "source": []
  },
  {
   "cell_type": "markdown",
   "metadata": {
    "papermill": {
     "duration": 0.052268,
     "end_time": "2021-01-21T06:47:18.081403",
     "exception": false,
     "start_time": "2021-01-21T06:47:18.029135",
     "status": "completed"
    },
    "tags": []
   },
   "source": [
    "## Match data with Salesforce format"
   ]
  },
  {
   "cell_type": "raw",
   "metadata": {
    "papermill": {
     "duration": 0.052419,
     "end_time": "2021-01-21T06:47:18.186679",
     "exception": false,
     "start_time": "2021-01-21T06:47:18.134260",
     "status": "completed"
    },
    "tags": []
   },
   "source": [
    "# split full name into first, middle, and last names\n",
    "def split_full_name(this_name):\n",
    "    this_name_list = list(filter(None, this_name.split(' ')))\n",
    "    \n",
    "    if len(this_name_list) == 1:\n",
    "        # single word name\n",
    "        return pd.Series([this_name_list[0],None, this_name_list[0]])\n",
    "    \n",
    "    elif len(this_name_list) > 1:\n",
    "        # multi word name\n",
    "        return pd.Series([this_name_list[0],' '.join(this_name_list[1:-1]),this_name_list[-1]])"
   ]
  },
  {
   "cell_type": "raw",
   "metadata": {
    "papermill": {
     "duration": 0.05104,
     "end_time": "2021-01-21T06:47:18.287901",
     "exception": false,
     "start_time": "2021-01-21T06:47:18.236861",
     "status": "completed"
    },
    "tags": []
   },
   "source": [
    "df_sf = pd.DataFrame()\n",
    "\n",
    "# Make sure NaN and NaT values are taken care of here\n",
    "df_sf[['firstname', 'Middle_name__c', 'lastname']] = df['name'].apply(split_full_name)\n",
    "\n",
    "df_sf['nanoHUB_user_ID__c']            = df['id']\n",
    "df_sf['nanoHUB_username__c']           = df['username']\n",
    "df_sf['Email']                         = df['email'].fillna('').apply(lambda x: '' if '@invalid' in x else x)\n",
    "\n",
    "# for sendEmail: 0 = opt-out, 1 = receive email. For salesforce HasOptedOutOfEmail, it's exact opposite\n",
    "df_sf['HasOptedOutOfEmail']            = df['sendEmail'].apply(lambda x: 0 if x==1 else 1)\n",
    "df_sf['nanoHUB_account_BLOCKED__c']    = df['block'].fillna(0)\n",
    "\n",
    "# solidify time-related columns from datetime to string - DUPLICATED IN TASK_USER_UPDATE_PROFILES\n",
    "#df_sf['nanoHUB_registration_date__c']  = df['registerDate'].dt.date.fillna('').astype('str')\n",
    "#df_sf['nanoHUB_last_active_date__c']   = df['lastvisitDate'].dt.date.fillna('').astype('str')\n",
    "\n",
    "# Tableau detailed view\n",
    "df_sf['Detailed_user_timeline_to_Tableau__c'] = df_sf['Email'].apply(lambda x: 'https://tableauqa.itap.purdue.edu/views/profile/ProfileTimeline?Id%20Email='+x+'\\\n",
    "&:iframeSizedToWindow=true&:embed=y&:showAppBanner=false\\\n",
    "&:display_count=no&:showVizHome=no#6' if x != '' else '')\n",
    "\n",
    "# nanoHUB user profile\n",
    "df_sf['nanoHUB_user_page__c'] = df_sf['nanoHUB_user_ID__c'].apply(lambda x: 'https://nanohub.org/members/%d'%x if x != '' else '')\n",
    "\n",
    "df_sf['ORCID__c'] = df['orcid'].fillna('')\n",
    "df_sf['Organization__c'] = df['organization'].fillna('')\n",
    "df_sf['Organization_Type__c'] = df['orgtype'].fillna('')\n",
    "\n",
    "# derived information\n",
    "df_sf['Organization_email_derived__c'] = df['Salesforce_ID']\n",
    "\n",
    "sf_original_fields = df_sf.columns\n",
    "\n",
    "# display\n",
    "df_sf.head(2).T"
   ]
  },
  {
   "cell_type": "raw",
   "metadata": {
    "papermill": {
     "duration": 0.053813,
     "end_time": "2021-01-21T06:47:18.394559",
     "exception": false,
     "start_time": "2021-01-21T06:47:18.340746",
     "status": "completed"
    },
    "tags": []
   },
   "source": [
    "## organization composite population\n",
    "# check overwrites - organization_overwrite__c\n",
    "df_sf['Organization_composite__c'] = sf_contact_df['Organization_Overwrite__c']\n",
    "\n",
    "# find remaining indexes that are NaN\n",
    "nan_index = df_sf['Organization_composite__c'].isna()\n",
    "nan_index = [i for i,flag in enumerate(nan_index) if flag==True]\n",
    "\n",
    "from copy import deepcopy\n",
    "# look at nanohub profile\n",
    "pd.options.mode.chained_assignment = None\n",
    "df_sf['Organization_composite__c'][nan_index] = deepcopy(df_sf['Organization__c'][nan_index])\n",
    "\n",
    "empty_index = df_sf['Organization_composite__c']==''\n",
    "empty_index = [i for i,flag in enumerate(empty_index) if flag==True]\n",
    "\n",
    "# look at emails\n",
    "df_sf['Organization_composite__c'][empty_index] = deepcopy(df_sf['Organization_email_derived__c'][empty_index])"
   ]
  },
  {
   "cell_type": "raw",
   "metadata": {
    "papermill": {
     "duration": 0.05299,
     "end_time": "2021-01-21T06:47:18.500270",
     "exception": false,
     "start_time": "2021-01-21T06:47:18.447280",
     "status": "completed"
    },
    "tags": []
   },
   "source": [
    "print(df_sf['nanoHUB_user_ID__c'].index[df_sf['nanoHUB_user_ID__c']==3379])\n",
    "print(df_sf['Organization_composite__c'][67870])\n",
    "df_sf['Organization_email_derived__c'][67870] = 'University of Florida'"
   ]
  },
  {
   "cell_type": "markdown",
   "metadata": {
    "papermill": {
     "duration": 0.052079,
     "end_time": "2021-01-21T06:47:18.608255",
     "exception": false,
     "start_time": "2021-01-21T06:47:18.556176",
     "status": "completed"
    },
    "tags": []
   },
   "source": [
    "## To Salesforce Sales Cloud CRM"
   ]
  },
  {
   "cell_type": "raw",
   "metadata": {
    "papermill": {
     "duration": 0.052063,
     "end_time": "2021-01-21T06:47:18.713264",
     "exception": false,
     "start_time": "2021-01-21T06:47:18.661201",
     "status": "completed"
    },
    "tags": []
   },
   "source": [
    "from DB2SalesforceAPI import DB2SalesforceAPI\n",
    "\n",
    "# create DB2 to Salesforce API object\n",
    "db_s = DB2SalesforceAPI(sf_login_params)\n",
    "\n",
    "db_s.object_id = object_id\n",
    "db_s.external_id = external_id"
   ]
  },
  {
   "cell_type": "raw",
   "metadata": {
    "papermill": {
     "duration": 0.051485,
     "end_time": "2021-01-21T06:47:18.816008",
     "exception": false,
     "start_time": "2021-01-21T06:47:18.764523",
     "status": "completed"
    },
    "tags": []
   },
   "source": [
    "# send data to Salesforce\n",
    "db_s.send_data(df_sf)"
   ]
  },
  {
   "cell_type": "raw",
   "metadata": {
    "papermill": {
     "duration": 0.052208,
     "end_time": "2021-01-21T06:47:18.921493",
     "exception": false,
     "start_time": "2021-01-21T06:47:18.869285",
     "status": "completed"
    },
    "tags": []
   },
   "source": [
    "# check status\n",
    "db_s.check_bulk_status()"
   ]
  },
  {
   "cell_type": "raw",
   "metadata": {
    "papermill": {
     "duration": 0.052053,
     "end_time": "2021-01-21T06:47:19.024546",
     "exception": false,
     "start_time": "2021-01-21T06:47:18.972493",
     "status": "completed"
    },
    "tags": []
   },
   "source": [
    "# check status\n",
    "from pprint import pprint\n",
    "\n",
    "pprint(db_s.check_bulk_failed_results())"
   ]
  },
  {
   "cell_type": "code",
   "execution_count": null,
   "metadata": {
    "papermill": {
     "duration": 0.053684,
     "end_time": "2021-01-21T06:47:19.130222",
     "exception": false,
     "start_time": "2021-01-21T06:47:19.076538",
     "status": "completed"
    },
    "tags": []
   },
   "outputs": [],
   "source": []
  }
 ],
 "metadata": {
  "celltoolbar": "Tags",
  "kernelspec": {
   "display_name": "Python 3",
   "language": "python",
   "name": "python3"
  },
  "language_info": {
   "codemirror_mode": {
    "name": "ipython",
    "version": 3
   },
   "file_extension": ".py",
   "mimetype": "text/x-python",
   "name": "python",
   "nbconvert_exporter": "python",
   "pygments_lexer": "ipython3",
   "version": "3.7.10"
  },
  "papermill": {
   "duration": 1012.542998,
   "end_time": "2021-01-21T06:47:24.626085",
   "environment_variables": {},
   "exception": null,
   "input_path": "/home/users/wang2506/nanohub_salesforce_integ/salesforce/task_determine_contact_cluster_org.ipynb",
   "output_path": "/home/users/wang2506/nanohub_salesforce_integ/salesforce/task_determine_contact_cluster_org.ipynb",
   "parameters": {},
   "start_time": "2021-01-21T06:30:32.083087",
   "version": "2.1.1"
  }
 },
 "nbformat": 4,
 "nbformat_minor": 4
}