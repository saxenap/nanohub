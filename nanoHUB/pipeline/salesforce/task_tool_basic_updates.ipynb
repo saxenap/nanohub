{
 "cells": [
  {
   "cell_type": "markdown",
   "metadata": {
    "papermill": {
     "duration": 0.074769,
     "end_time": "2021-01-21T06:30:34.837599",
     "exception": false,
     "start_time": "2021-01-21T06:30:34.762830",
     "status": "completed"
    },
    "tags": []
   },
   "source": [
    "# DB2-Salesforce connector: Basic tool information updates"
   ]
  },
  {
   "cell_type": "code",
   "execution_count": 1,
   "metadata": {
    "execution": {
     "iopub.execute_input": "2022-03-25T10:24:47.800004Z",
     "iopub.status.busy": "2022-03-25T10:24:47.797796Z",
     "iopub.status.idle": "2022-03-25T10:24:51.207702Z",
     "shell.execute_reply": "2022-03-25T10:24:51.204609Z",
     "shell.execute_reply.started": "2022-03-25T10:24:47.799281Z"
    },
    "papermill": {
     "duration": 0.10095,
     "end_time": "2021-01-21T06:30:35.011752",
     "exception": false,
     "start_time": "2021-01-21T06:30:34.910802",
     "status": "completed"
    },
    "tags": [
     "parameters"
    ]
   },
   "outputs": [
    {
     "name": "stdout",
     "output_type": "stream",
     "text": [
      "\u001B[1mnanoHUB - Serving Students, Researchers & Instructors\u001B[0m\n",
      "Obtained Salesforce access token ...... True\n"
     ]
    }
   ],
   "source": [
    "# Parameters\n",
    "api_url = '/services/data/v43.0/sobjects'\n",
    "external_id = 'Tool_name__c'\n",
    "object_id = 'nanoHUB_tools__c'\n",
    "\n",
    "from nanoHUB.application import Application\n",
    "\n",
    "application = Application.get_instance()\n",
    "nanohub_db = application.new_db_engine('nanohub')\n",
    "nanohub_metrics_db = application.new_db_engine('nanohub_metrics')\n",
    "\n",
    "salesforce = application.new_salesforce_engine()\n",
    "db_s = salesforce"
   ]
  },
  {
   "cell_type": "code",
   "execution_count": 2,
   "metadata": {
    "execution": {
     "iopub.execute_input": "2022-03-25T10:24:51.210554Z",
     "iopub.status.busy": "2022-03-25T10:24:51.209809Z",
     "iopub.status.idle": "2022-03-25T10:24:51.217742Z",
     "shell.execute_reply": "2022-03-25T10:24:51.214878Z",
     "shell.execute_reply.started": "2022-03-25T10:24:51.210519Z"
    },
    "papermill": {
     "duration": 5.241886,
     "end_time": "2021-01-21T06:30:40.305670",
     "exception": false,
     "start_time": "2021-01-21T06:30:35.063784",
     "status": "completed"
    },
    "tags": []
   },
   "outputs": [],
   "source": [
    "import pandas as pd\n",
    "import datetime"
   ]
  },
  {
   "cell_type": "markdown",
   "metadata": {
    "papermill": {
     "duration": 0.112863,
     "end_time": "2021-01-21T06:30:40.440137",
     "exception": false,
     "start_time": "2021-01-21T06:30:40.327274",
     "status": "completed"
    },
    "tags": []
   },
   "source": [
    "## Obtain tool information from DB2 "
   ]
  },
  {
   "cell_type": "code",
   "execution_count": 3,
   "metadata": {
    "execution": {
     "iopub.execute_input": "2022-03-25T10:24:51.220744Z",
     "iopub.status.busy": "2022-03-25T10:24:51.220508Z",
     "iopub.status.idle": "2022-03-25T10:24:51.227822Z",
     "shell.execute_reply": "2022-03-25T10:24:51.226373Z",
     "shell.execute_reply.started": "2022-03-25T10:24:51.220721Z"
    },
    "papermill": {
     "duration": 0.1835,
     "end_time": "2021-01-21T06:30:40.674399",
     "exception": false,
     "start_time": "2021-01-21T06:30:40.490899",
     "status": "completed"
    },
    "tags": []
   },
   "outputs": [
    {
     "name": "stdout",
     "output_type": "stream",
     "text": [
      "select toolname, title, published, registered from jos_tool\n"
     ]
    }
   ],
   "source": [
    "# Basic tool information\n",
    "sql_query = \"select toolname, title, published, registered from jos_tool\"\n",
    "\n",
    "# display\n",
    "print(sql_query)"
   ]
  },
  {
   "cell_type": "code",
   "execution_count": 4,
   "metadata": {
    "execution": {
     "iopub.execute_input": "2022-03-25T10:24:51.229999Z",
     "iopub.status.busy": "2022-03-25T10:24:51.229751Z",
     "iopub.status.idle": "2022-03-25T10:24:51.839645Z",
     "shell.execute_reply": "2022-03-25T10:24:51.839083Z",
     "shell.execute_reply.started": "2022-03-25T10:24:51.229976Z"
    },
    "papermill": {
     "duration": 1.575408,
     "end_time": "2021-01-21T06:30:42.278612",
     "exception": false,
     "start_time": "2021-01-21T06:30:40.703204",
     "status": "completed"
    },
    "tags": []
   },
   "outputs": [
    {
     "data": {
      "text/html": [
       "<div>\n",
       "<style scoped>\n",
       "    .dataframe tbody tr th:only-of-type {\n",
       "        vertical-align: middle;\n",
       "    }\n",
       "\n",
       "    .dataframe tbody tr th {\n",
       "        vertical-align: top;\n",
       "    }\n",
       "\n",
       "    .dataframe thead th {\n",
       "        text-align: right;\n",
       "    }\n",
       "</style>\n",
       "<table border=\"1\" class=\"dataframe\">\n",
       "  <thead>\n",
       "    <tr style=\"text-align: right;\">\n",
       "      <th></th>\n",
       "      <th>toolname</th>\n",
       "      <th>title</th>\n",
       "      <th>published</th>\n",
       "      <th>registered</th>\n",
       "    </tr>\n",
       "  </thead>\n",
       "  <tbody>\n",
       "    <tr>\n",
       "      <th>0</th>\n",
       "      <td>ellipsom</td>\n",
       "      <td>title-ellipsom</td>\n",
       "      <td>0</td>\n",
       "      <td>2005-03-05 03:02:47</td>\n",
       "    </tr>\n",
       "    <tr>\n",
       "      <th>1</th>\n",
       "      <td>hydrolab</td>\n",
       "      <td>Hydrophobicity Lab</td>\n",
       "      <td>1</td>\n",
       "      <td>2006-02-24 03:38:23</td>\n",
       "    </tr>\n",
       "  </tbody>\n",
       "</table>\n",
       "</div>"
      ],
      "text/plain": [
       "   toolname               title  published          registered\n",
       "0  ellipsom      title-ellipsom          0 2005-03-05 03:02:47\n",
       "1  hydrolab  Hydrophobicity Lab          1 2006-02-24 03:38:23"
      ]
     },
     "execution_count": 4,
     "metadata": {},
     "output_type": "execute_result"
    }
   ],
   "source": [
    "# connect with DB2\n",
    "# import sqlalchemy as sql\n",
    "\n",
    "df = pd.read_sql_query(sql_query, nanohub_db, parse_dates=['registered'])\n",
    "# display\n",
    "df.head(2)"
   ]
  },
  {
   "cell_type": "code",
   "execution_count": 5,
   "metadata": {
    "execution": {
     "iopub.execute_input": "2022-03-25T10:24:51.841343Z",
     "iopub.status.busy": "2022-03-25T10:24:51.840616Z",
     "iopub.status.idle": "2022-03-25T10:24:51.864227Z",
     "shell.execute_reply": "2022-03-25T10:24:51.863592Z",
     "shell.execute_reply.started": "2022-03-25T10:24:51.841314Z"
    },
    "papermill": {
     "duration": 0.237981,
     "end_time": "2021-01-21T06:30:42.621918",
     "exception": false,
     "start_time": "2021-01-21T06:30:42.383937",
     "status": "completed"
    },
    "tags": []
   },
   "outputs": [
    {
     "data": {
      "text/html": [
       "<div>\n",
       "<style scoped>\n",
       "    .dataframe tbody tr th:only-of-type {\n",
       "        vertical-align: middle;\n",
       "    }\n",
       "\n",
       "    .dataframe tbody tr th {\n",
       "        vertical-align: top;\n",
       "    }\n",
       "\n",
       "    .dataframe thead th {\n",
       "        text-align: right;\n",
       "    }\n",
       "</style>\n",
       "<table border=\"1\" class=\"dataframe\">\n",
       "  <thead>\n",
       "    <tr style=\"text-align: right;\">\n",
       "      <th></th>\n",
       "      <th>toolname</th>\n",
       "      <th>title</th>\n",
       "      <th>published</th>\n",
       "      <th>registered</th>\n",
       "    </tr>\n",
       "  </thead>\n",
       "  <tbody>\n",
       "    <tr>\n",
       "      <th>348</th>\n",
       "      <td>matlab</td>\n",
       "      <td>Matlab</td>\n",
       "      <td>0</td>\n",
       "      <td>2000-10-02 02:34:37</td>\n",
       "    </tr>\n",
       "    <tr>\n",
       "      <th>350</th>\n",
       "      <td>octave</td>\n",
       "      <td>Octave</td>\n",
       "      <td>0</td>\n",
       "      <td>2001-04-04 19:03:01</td>\n",
       "    </tr>\n",
       "    <tr>\n",
       "      <th>347</th>\n",
       "      <td>gamess</td>\n",
       "      <td>GAMESS</td>\n",
       "      <td>0</td>\n",
       "      <td>2003-01-15 15:41:22</td>\n",
       "    </tr>\n",
       "    <tr>\n",
       "      <th>352</th>\n",
       "      <td>rebo</td>\n",
       "      <td>REBO-1</td>\n",
       "      <td>0</td>\n",
       "      <td>2003-05-08 00:41:33</td>\n",
       "    </tr>\n",
       "    <tr>\n",
       "      <th>0</th>\n",
       "      <td>ellipsom</td>\n",
       "      <td>title-ellipsom</td>\n",
       "      <td>0</td>\n",
       "      <td>2005-03-05 03:02:47</td>\n",
       "    </tr>\n",
       "  </tbody>\n",
       "</table>\n",
       "</div>"
      ],
      "text/plain": [
       "     toolname           title  published          registered\n",
       "348    matlab          Matlab          0 2000-10-02 02:34:37\n",
       "350    octave          Octave          0 2001-04-04 19:03:01\n",
       "347    gamess          GAMESS          0 2003-01-15 15:41:22\n",
       "352      rebo          REBO-1          0 2003-05-08 00:41:33\n",
       "0    ellipsom  title-ellipsom          0 2005-03-05 03:02:47"
      ]
     },
     "metadata": {},
     "output_type": "display_data"
    },
    {
     "data": {
      "text/html": [
       "<div>\n",
       "<style scoped>\n",
       "    .dataframe tbody tr th:only-of-type {\n",
       "        vertical-align: middle;\n",
       "    }\n",
       "\n",
       "    .dataframe tbody tr th {\n",
       "        vertical-align: top;\n",
       "    }\n",
       "\n",
       "    .dataframe thead th {\n",
       "        text-align: right;\n",
       "    }\n",
       "</style>\n",
       "<table border=\"1\" class=\"dataframe\">\n",
       "  <thead>\n",
       "    <tr style=\"text-align: right;\">\n",
       "      <th></th>\n",
       "      <th>toolname</th>\n",
       "      <th>title</th>\n",
       "      <th>published</th>\n",
       "      <th>registered</th>\n",
       "    </tr>\n",
       "  </thead>\n",
       "  <tbody>\n",
       "    <tr>\n",
       "      <th>1891</th>\n",
       "      <td>mcscelbldr</td>\n",
       "      <td>Molecular Crystal Supercell Builder</td>\n",
       "      <td>0</td>\n",
       "      <td>2022-02-25 20:25:21</td>\n",
       "    </tr>\n",
       "    <tr>\n",
       "      <th>1892</th>\n",
       "      <td>jupyter80</td>\n",
       "      <td>Jupyter Notebook</td>\n",
       "      <td>0</td>\n",
       "      <td>2022-02-28 14:04:02</td>\n",
       "    </tr>\n",
       "    <tr>\n",
       "      <th>1893</th>\n",
       "      <td>mcscellbuilder</td>\n",
       "      <td>Supercell Builder (Molecular Crystals)</td>\n",
       "      <td>0</td>\n",
       "      <td>2022-02-28 19:11:22</td>\n",
       "    </tr>\n",
       "    <tr>\n",
       "      <th>1894</th>\n",
       "      <td>st4sgmoscap</td>\n",
       "      <td>Single Gate Moscap</td>\n",
       "      <td>0</td>\n",
       "      <td>2022-03-01 15:34:51</td>\n",
       "    </tr>\n",
       "    <tr>\n",
       "      <th>1895</th>\n",
       "      <td>gibbsml</td>\n",
       "      <td>Gibbs ML</td>\n",
       "      <td>0</td>\n",
       "      <td>2022-03-02 14:16:00</td>\n",
       "    </tr>\n",
       "    <tr>\n",
       "      <th>1896</th>\n",
       "      <td>pc4tubule</td>\n",
       "      <td>PhysiCell Model for kidney tubule dynamics</td>\n",
       "      <td>0</td>\n",
       "      <td>2022-03-06 21:32:10</td>\n",
       "    </tr>\n",
       "    <tr>\n",
       "      <th>1897</th>\n",
       "      <td>teac</td>\n",
       "      <td>Thermoelectric Air Conditioning</td>\n",
       "      <td>0</td>\n",
       "      <td>2022-03-10 21:58:16</td>\n",
       "    </tr>\n",
       "    <tr>\n",
       "      <th>1898</th>\n",
       "      <td>mrbayes</td>\n",
       "      <td>MrBayes</td>\n",
       "      <td>0</td>\n",
       "      <td>2022-03-12 00:01:10</td>\n",
       "    </tr>\n",
       "    <tr>\n",
       "      <th>1899</th>\n",
       "      <td>e3nntutorial</td>\n",
       "      <td>Euclidean Neural Network Tutorial</td>\n",
       "      <td>0</td>\n",
       "      <td>2022-03-17 19:38:20</td>\n",
       "    </tr>\n",
       "    <tr>\n",
       "      <th>1900</th>\n",
       "      <td>pidaypython2022</td>\n",
       "      <td>Pi Day Python Workshop 2022</td>\n",
       "      <td>1</td>\n",
       "      <td>2022-03-18 20:58:16</td>\n",
       "    </tr>\n",
       "    <tr>\n",
       "      <th>1901</th>\n",
       "      <td>pc4membrane2d</td>\n",
       "      <td>PhysiCell for cell mechanics on a 2D membrane</td>\n",
       "      <td>1</td>\n",
       "      <td>2022-03-22 23:39:09</td>\n",
       "    </tr>\n",
       "    <tr>\n",
       "      <th>345</th>\n",
       "      <td>cnt-iv</td>\n",
       "      <td>CNT-IV</td>\n",
       "      <td>0</td>\n",
       "      <td>NaT</td>\n",
       "    </tr>\n",
       "    <tr>\n",
       "      <th>346</th>\n",
       "      <td>dmgr</td>\n",
       "      <td>Design Manager</td>\n",
       "      <td>0</td>\n",
       "      <td>NaT</td>\n",
       "    </tr>\n",
       "    <tr>\n",
       "      <th>353</th>\n",
       "      <td>sequal</td>\n",
       "      <td>Sequal</td>\n",
       "      <td>0</td>\n",
       "      <td>NaT</td>\n",
       "    </tr>\n",
       "    <tr>\n",
       "      <th>355</th>\n",
       "      <td>staroffice</td>\n",
       "      <td>StarOffice</td>\n",
       "      <td>1</td>\n",
       "      <td>NaT</td>\n",
       "    </tr>\n",
       "    <tr>\n",
       "      <th>356</th>\n",
       "      <td>spicesoi</td>\n",
       "      <td>UFSOI/Spice3</td>\n",
       "      <td>0</td>\n",
       "      <td>NaT</td>\n",
       "    </tr>\n",
       "    <tr>\n",
       "      <th>358</th>\n",
       "      <td>devtesttool</td>\n",
       "      <td>Dev Test Tool</td>\n",
       "      <td>0</td>\n",
       "      <td>NaT</td>\n",
       "    </tr>\n",
       "    <tr>\n",
       "      <th>359</th>\n",
       "      <td>ncntesttool</td>\n",
       "      <td>NCN test tool</td>\n",
       "      <td>0</td>\n",
       "      <td>NaT</td>\n",
       "    </tr>\n",
       "    <tr>\n",
       "      <th>360</th>\n",
       "      <td>WTND</td>\n",
       "      <td>WTND Tool Title</td>\n",
       "      <td>0</td>\n",
       "      <td>NaT</td>\n",
       "    </tr>\n",
       "    <tr>\n",
       "      <th>361</th>\n",
       "      <td>wtest</td>\n",
       "      <td>My WTest Tool Test</td>\n",
       "      <td>0</td>\n",
       "      <td>NaT</td>\n",
       "    </tr>\n",
       "    <tr>\n",
       "      <th>362</th>\n",
       "      <td>Mynewtool</td>\n",
       "      <td>My New Tool</td>\n",
       "      <td>0</td>\n",
       "      <td>NaT</td>\n",
       "    </tr>\n",
       "    <tr>\n",
       "      <th>363</th>\n",
       "      <td>nanohub</td>\n",
       "      <td>nanoHUB</td>\n",
       "      <td>0</td>\n",
       "      <td>NaT</td>\n",
       "    </tr>\n",
       "    <tr>\n",
       "      <th>364</th>\n",
       "      <td>nanohub-for-kids</td>\n",
       "      <td>nanohub-for-kids</td>\n",
       "      <td>0</td>\n",
       "      <td>NaT</td>\n",
       "    </tr>\n",
       "    <tr>\n",
       "      <th>365</th>\n",
       "      <td>sysman</td>\n",
       "      <td>sysman</td>\n",
       "      <td>0</td>\n",
       "      <td>NaT</td>\n",
       "    </tr>\n",
       "    <tr>\n",
       "      <th>366</th>\n",
       "      <td>nanohub-support</td>\n",
       "      <td>nanohub-support</td>\n",
       "      <td>0</td>\n",
       "      <td>NaT</td>\n",
       "    </tr>\n",
       "    <tr>\n",
       "      <th>367</th>\n",
       "      <td>rkspack</td>\n",
       "      <td>rkspack</td>\n",
       "      <td>0</td>\n",
       "      <td>NaT</td>\n",
       "    </tr>\n",
       "    <tr>\n",
       "      <th>368</th>\n",
       "      <td>lib-gangli</td>\n",
       "      <td>Gang Li's Library of Useful Stuff</td>\n",
       "      <td>0</td>\n",
       "      <td>NaT</td>\n",
       "    </tr>\n",
       "    <tr>\n",
       "      <th>369</th>\n",
       "      <td>rappture-runtime</td>\n",
       "      <td>rappture-runtime</td>\n",
       "      <td>0</td>\n",
       "      <td>NaT</td>\n",
       "    </tr>\n",
       "    <tr>\n",
       "      <th>370</th>\n",
       "      <td>hubzero</td>\n",
       "      <td>hubzero</td>\n",
       "      <td>0</td>\n",
       "      <td>NaT</td>\n",
       "    </tr>\n",
       "    <tr>\n",
       "      <th>371</th>\n",
       "      <td>rappture</td>\n",
       "      <td>rappture</td>\n",
       "      <td>0</td>\n",
       "      <td>NaT</td>\n",
       "    </tr>\n",
       "    <tr>\n",
       "      <th>372</th>\n",
       "      <td>mw</td>\n",
       "      <td>mw</td>\n",
       "      <td>0</td>\n",
       "      <td>NaT</td>\n",
       "    </tr>\n",
       "    <tr>\n",
       "      <th>373</th>\n",
       "      <td>ncn_students</td>\n",
       "      <td>ncn_students</td>\n",
       "      <td>0</td>\n",
       "      <td>NaT</td>\n",
       "    </tr>\n",
       "    <tr>\n",
       "      <th>374</th>\n",
       "      <td>pharmengine</td>\n",
       "      <td>pharmengine</td>\n",
       "      <td>0</td>\n",
       "      <td>NaT</td>\n",
       "    </tr>\n",
       "    <tr>\n",
       "      <th>375</th>\n",
       "      <td>xhub</td>\n",
       "      <td>xhub</td>\n",
       "      <td>0</td>\n",
       "      <td>NaT</td>\n",
       "    </tr>\n",
       "    <tr>\n",
       "      <th>376</th>\n",
       "      <td>breeze-admin</td>\n",
       "      <td>breeze-admin</td>\n",
       "      <td>0</td>\n",
       "      <td>NaT</td>\n",
       "    </tr>\n",
       "    <tr>\n",
       "      <th>377</th>\n",
       "      <td>ncn</td>\n",
       "      <td>ncn</td>\n",
       "      <td>0</td>\n",
       "      <td>NaT</td>\n",
       "    </tr>\n",
       "    <tr>\n",
       "      <th>378</th>\n",
       "      <td>nanowhim</td>\n",
       "      <td>nanowhim</td>\n",
       "      <td>0</td>\n",
       "      <td>NaT</td>\n",
       "    </tr>\n",
       "    <tr>\n",
       "      <th>379</th>\n",
       "      <td>mimi</td>\n",
       "      <td>Mimi</td>\n",
       "      <td>0</td>\n",
       "      <td>NaT</td>\n",
       "    </tr>\n",
       "    <tr>\n",
       "      <th>380</th>\n",
       "      <td>rappture-bat</td>\n",
       "      <td>rappture-bat</td>\n",
       "      <td>0</td>\n",
       "      <td>NaT</td>\n",
       "    </tr>\n",
       "    <tr>\n",
       "      <th>408</th>\n",
       "      <td>reliabilityhub</td>\n",
       "      <td></td>\n",
       "      <td>0</td>\n",
       "      <td>NaT</td>\n",
       "    </tr>\n",
       "    <tr>\n",
       "      <th>418</th>\n",
       "      <td>nmi</td>\n",
       "      <td>nmi</td>\n",
       "      <td>0</td>\n",
       "      <td>NaT</td>\n",
       "    </tr>\n",
       "    <tr>\n",
       "      <th>419</th>\n",
       "      <td>rp2</td>\n",
       "      <td>rp2</td>\n",
       "      <td>0</td>\n",
       "      <td>NaT</td>\n",
       "    </tr>\n",
       "    <tr>\n",
       "      <th>1471</th>\n",
       "      <td>maccalibrate</td>\n",
       "      <td></td>\n",
       "      <td>0</td>\n",
       "      <td>NaT</td>\n",
       "    </tr>\n",
       "    <tr>\n",
       "      <th>1472</th>\n",
       "      <td>maccalibrator</td>\n",
       "      <td>Calibrate the NASA MAC Rappture tool</td>\n",
       "      <td>0</td>\n",
       "      <td>NaT</td>\n",
       "    </tr>\n",
       "    <tr>\n",
       "      <th>1473</th>\n",
       "      <td>calibratemac</td>\n",
       "      <td></td>\n",
       "      <td>0</td>\n",
       "      <td>NaT</td>\n",
       "    </tr>\n",
       "    <tr>\n",
       "      <th>1474</th>\n",
       "      <td>microfsi</td>\n",
       "      <td></td>\n",
       "      <td>0</td>\n",
       "      <td>NaT</td>\n",
       "    </tr>\n",
       "    <tr>\n",
       "      <th>1475</th>\n",
       "      <td>deformchan</td>\n",
       "      <td></td>\n",
       "      <td>0</td>\n",
       "      <td>NaT</td>\n",
       "    </tr>\n",
       "    <tr>\n",
       "      <th>1476</th>\n",
       "      <td>dakotamac</td>\n",
       "      <td></td>\n",
       "      <td>0</td>\n",
       "      <td>NaT</td>\n",
       "    </tr>\n",
       "    <tr>\n",
       "      <th>1477</th>\n",
       "      <td>nasamaccalib</td>\n",
       "      <td></td>\n",
       "      <td>0</td>\n",
       "      <td>NaT</td>\n",
       "    </tr>\n",
       "    <tr>\n",
       "      <th>1883</th>\n",
       "      <td>nano</td>\n",
       "      <td></td>\n",
       "      <td>0</td>\n",
       "      <td>NaT</td>\n",
       "    </tr>\n",
       "  </tbody>\n",
       "</table>\n",
       "</div>"
      ],
      "text/plain": [
       "              toolname                                          title  \\\n",
       "1891        mcscelbldr            Molecular Crystal Supercell Builder   \n",
       "1892         jupyter80                               Jupyter Notebook   \n",
       "1893    mcscellbuilder         Supercell Builder (Molecular Crystals)   \n",
       "1894       st4sgmoscap                             Single Gate Moscap   \n",
       "1895           gibbsml                                       Gibbs ML   \n",
       "1896         pc4tubule     PhysiCell Model for kidney tubule dynamics   \n",
       "1897              teac                Thermoelectric Air Conditioning   \n",
       "1898           mrbayes                                        MrBayes   \n",
       "1899      e3nntutorial              Euclidean Neural Network Tutorial   \n",
       "1900   pidaypython2022                    Pi Day Python Workshop 2022   \n",
       "1901     pc4membrane2d  PhysiCell for cell mechanics on a 2D membrane   \n",
       "345             cnt-iv                                         CNT-IV   \n",
       "346               dmgr                                 Design Manager   \n",
       "353             sequal                                         Sequal   \n",
       "355         staroffice                                     StarOffice   \n",
       "356           spicesoi                                   UFSOI/Spice3   \n",
       "358        devtesttool                                  Dev Test Tool   \n",
       "359        ncntesttool                                  NCN test tool   \n",
       "360               WTND                                WTND Tool Title   \n",
       "361              wtest                             My WTest Tool Test   \n",
       "362          Mynewtool                                    My New Tool   \n",
       "363            nanohub                                        nanoHUB   \n",
       "364   nanohub-for-kids                               nanohub-for-kids   \n",
       "365             sysman                                         sysman   \n",
       "366    nanohub-support                                nanohub-support   \n",
       "367            rkspack                                        rkspack   \n",
       "368         lib-gangli              Gang Li's Library of Useful Stuff   \n",
       "369   rappture-runtime                               rappture-runtime   \n",
       "370            hubzero                                        hubzero   \n",
       "371           rappture                                       rappture   \n",
       "372                 mw                                             mw   \n",
       "373       ncn_students                                   ncn_students   \n",
       "374        pharmengine                                    pharmengine   \n",
       "375               xhub                                           xhub   \n",
       "376       breeze-admin                                   breeze-admin   \n",
       "377                ncn                                            ncn   \n",
       "378           nanowhim                                       nanowhim   \n",
       "379               mimi                                           Mimi   \n",
       "380       rappture-bat                                   rappture-bat   \n",
       "408     reliabilityhub                                                  \n",
       "418                nmi                                            nmi   \n",
       "419                rp2                                            rp2   \n",
       "1471      maccalibrate                                                  \n",
       "1472     maccalibrator           Calibrate the NASA MAC Rappture tool   \n",
       "1473      calibratemac                                                  \n",
       "1474          microfsi                                                  \n",
       "1475        deformchan                                                  \n",
       "1476         dakotamac                                                  \n",
       "1477      nasamaccalib                                                  \n",
       "1883              nano                                                  \n",
       "\n",
       "      published          registered  \n",
       "1891          0 2022-02-25 20:25:21  \n",
       "1892          0 2022-02-28 14:04:02  \n",
       "1893          0 2022-02-28 19:11:22  \n",
       "1894          0 2022-03-01 15:34:51  \n",
       "1895          0 2022-03-02 14:16:00  \n",
       "1896          0 2022-03-06 21:32:10  \n",
       "1897          0 2022-03-10 21:58:16  \n",
       "1898          0 2022-03-12 00:01:10  \n",
       "1899          0 2022-03-17 19:38:20  \n",
       "1900          1 2022-03-18 20:58:16  \n",
       "1901          1 2022-03-22 23:39:09  \n",
       "345           0                 NaT  \n",
       "346           0                 NaT  \n",
       "353           0                 NaT  \n",
       "355           1                 NaT  \n",
       "356           0                 NaT  \n",
       "358           0                 NaT  \n",
       "359           0                 NaT  \n",
       "360           0                 NaT  \n",
       "361           0                 NaT  \n",
       "362           0                 NaT  \n",
       "363           0                 NaT  \n",
       "364           0                 NaT  \n",
       "365           0                 NaT  \n",
       "366           0                 NaT  \n",
       "367           0                 NaT  \n",
       "368           0                 NaT  \n",
       "369           0                 NaT  \n",
       "370           0                 NaT  \n",
       "371           0                 NaT  \n",
       "372           0                 NaT  \n",
       "373           0                 NaT  \n",
       "374           0                 NaT  \n",
       "375           0                 NaT  \n",
       "376           0                 NaT  \n",
       "377           0                 NaT  \n",
       "378           0                 NaT  \n",
       "379           0                 NaT  \n",
       "380           0                 NaT  \n",
       "408           0                 NaT  \n",
       "418           0                 NaT  \n",
       "419           0                 NaT  \n",
       "1471          0                 NaT  \n",
       "1472          0                 NaT  \n",
       "1473          0                 NaT  \n",
       "1474          0                 NaT  \n",
       "1475          0                 NaT  \n",
       "1476          0                 NaT  \n",
       "1477          0                 NaT  \n",
       "1883          0                 NaT  "
      ]
     },
     "metadata": {},
     "output_type": "display_data"
    },
    {
     "name": "stdout",
     "output_type": "stream",
     "text": [
      "(1902, 4)\n"
     ]
    }
   ],
   "source": [
    "df = df.sort_values(by='registered')\n",
    "display(df.head(5))\n",
    "display(df.tail(50))\n",
    "print(df.shape)"
   ]
  },
  {
   "cell_type": "code",
   "execution_count": 6,
   "metadata": {
    "execution": {
     "iopub.execute_input": "2022-03-25T10:24:51.865637Z",
     "iopub.status.busy": "2022-03-25T10:24:51.865226Z",
     "iopub.status.idle": "2022-03-25T10:24:51.873447Z",
     "shell.execute_reply": "2022-03-25T10:24:51.872572Z",
     "shell.execute_reply.started": "2022-03-25T10:24:51.865613Z"
    },
    "papermill": {
     "duration": 0.140228,
     "end_time": "2021-01-21T06:30:42.858367",
     "exception": false,
     "start_time": "2021-01-21T06:30:42.718139",
     "status": "completed"
    },
    "tags": []
   },
   "outputs": [
    {
     "name": "stdout",
     "output_type": "stream",
     "text": [
      "1578\n",
      "toolname                                citrinednn\n",
      "title         Hands-on Deep Learning for Materials\n",
      "published                                        1\n",
      "registered                     2020-05-27 14:49:06\n",
      "Name: 1617, dtype: object\n"
     ]
    }
   ],
   "source": [
    "# debugging\n",
    "print(df['toolname'].to_list().index('citrinednn'))\n",
    "print(df.iloc[df['toolname'].to_list().index('citrinednn'),:])"
   ]
  },
  {
   "cell_type": "code",
   "execution_count": 7,
   "metadata": {
    "execution": {
     "iopub.execute_input": "2022-03-25T10:24:51.875401Z",
     "iopub.status.busy": "2022-03-25T10:24:51.874923Z",
     "iopub.status.idle": "2022-03-25T10:24:51.882901Z",
     "shell.execute_reply": "2022-03-25T10:24:51.882423Z",
     "shell.execute_reply.started": "2022-03-25T10:24:51.875378Z"
    },
    "papermill": {
     "duration": 0.136857,
     "end_time": "2021-01-21T06:30:43.067714",
     "exception": false,
     "start_time": "2021-01-21T06:30:42.930857",
     "status": "completed"
    },
    "tags": []
   },
   "outputs": [
    {
     "data": {
      "text/plain": [
       "True"
      ]
     },
     "execution_count": 7,
     "metadata": {},
     "output_type": "execute_result"
    }
   ],
   "source": [
    "'mldefect' in df['toolname'].to_list()"
   ]
  },
  {
   "cell_type": "raw",
   "metadata": {
    "papermill": {
     "duration": 0.095395,
     "end_time": "2021-01-21T06:30:43.248116",
     "exception": false,
     "start_time": "2021-01-21T06:30:43.152721",
     "status": "completed"
    },
    "tags": []
   },
   "source": [
    "+-------------------+----------+\n",
    "| user              | cnt      |\n",
    "+-------------------+----------+\n",
    "| instanton         | 12192882 |\n",
    "| gridstat          |  8001390 |\n",
    "| enassakr          |   363553 |\n",
    "| luisetepor        |   340823 |\n",
    "| falkke87          |   282754 |\n",
    "| jovenpaoloangeles |   264310 |\n",
    "| hamu8278          |   210741 |\n",
    "| denphi            |   167766 |\n",
    "| iago              |   164634 |\n",
    "| clarksm           |   147987 |\n",
    "+-------------------+----------+"
   ]
  },
  {
   "cell_type": "code",
   "execution_count": 8,
   "metadata": {
    "execution": {
     "iopub.execute_input": "2022-03-25T10:24:51.885217Z",
     "iopub.status.busy": "2022-03-25T10:24:51.884634Z",
     "iopub.status.idle": "2022-03-25T10:24:51.965048Z",
     "shell.execute_reply": "2022-03-25T10:24:51.964636Z",
     "shell.execute_reply.started": "2022-03-25T10:24:51.885193Z"
    },
    "papermill": {
     "duration": 0.207527,
     "end_time": "2021-01-21T06:30:43.536549",
     "exception": false,
     "start_time": "2021-01-21T06:30:43.329022",
     "status": "completed"
    },
    "tags": []
   },
   "outputs": [
    {
     "data": {
      "text/html": [
       "<div>\n",
       "<style scoped>\n",
       "    .dataframe tbody tr th:only-of-type {\n",
       "        vertical-align: middle;\n",
       "    }\n",
       "\n",
       "    .dataframe tbody tr th {\n",
       "        vertical-align: top;\n",
       "    }\n",
       "\n",
       "    .dataframe thead th {\n",
       "        text-align: right;\n",
       "    }\n",
       "</style>\n",
       "<table border=\"1\" class=\"dataframe\">\n",
       "  <thead>\n",
       "    <tr style=\"text-align: right;\">\n",
       "      <th></th>\n",
       "      <th>tool_version_id</th>\n",
       "      <th>alias</th>\n",
       "    </tr>\n",
       "  </thead>\n",
       "  <tbody>\n",
       "    <tr>\n",
       "      <th>0</th>\n",
       "      <td>977</td>\n",
       "      <td>2ds</td>\n",
       "    </tr>\n",
       "    <tr>\n",
       "      <th>1</th>\n",
       "      <td>978</td>\n",
       "      <td>abinit</td>\n",
       "    </tr>\n",
       "  </tbody>\n",
       "</table>\n",
       "</div>"
      ],
      "text/plain": [
       "   tool_version_id   alias\n",
       "0              977     2ds\n",
       "1              978  abinit"
      ]
     },
     "execution_count": 8,
     "metadata": {},
     "output_type": "execute_result"
    }
   ],
   "source": [
    "# Basic tool information\n",
    "sql_query = \"select * from jos_tool_version_alias\"\n",
    "\n",
    "df_jtva = pd.read_sql_query(sql_query, nanohub_db)\n",
    "\n",
    "# display\n",
    "df_jtva.head(2)"
   ]
  },
  {
   "cell_type": "code",
   "execution_count": 9,
   "metadata": {
    "execution": {
     "iopub.execute_input": "2022-03-25T10:24:51.969026Z",
     "iopub.status.busy": "2022-03-25T10:24:51.968444Z",
     "iopub.status.idle": "2022-03-25T10:24:51.976896Z",
     "shell.execute_reply": "2022-03-25T10:24:51.976101Z",
     "shell.execute_reply.started": "2022-03-25T10:24:51.969001Z"
    },
    "papermill": {
     "duration": 0.12098,
     "end_time": "2021-01-21T06:30:43.694939",
     "exception": false,
     "start_time": "2021-01-21T06:30:43.573959",
     "status": "completed"
    },
    "tags": []
   },
   "outputs": [
    {
     "data": {
      "text/plain": [
       "False"
      ]
     },
     "execution_count": 9,
     "metadata": {},
     "output_type": "execute_result"
    }
   ],
   "source": [
    "'mldefect' in df_jtva['alias'].to_list()"
   ]
  },
  {
   "cell_type": "code",
   "execution_count": null,
   "metadata": {
    "papermill": {
     "duration": 0.102244,
     "end_time": "2021-01-21T06:30:43.881089",
     "exception": false,
     "start_time": "2021-01-21T06:30:43.778845",
     "status": "completed"
    },
    "tags": []
   },
   "outputs": [],
   "source": []
  },
  {
   "cell_type": "markdown",
   "metadata": {
    "papermill": {
     "duration": 0.117909,
     "end_time": "2021-01-21T06:30:44.047026",
     "exception": false,
     "start_time": "2021-01-21T06:30:43.929117",
     "status": "completed"
    },
    "tags": []
   },
   "source": [
    "## Building new SQL queries that roll up instances"
   ]
  },
  {
   "cell_type": "code",
   "execution_count": 10,
   "metadata": {
    "execution": {
     "iopub.execute_input": "2022-03-25T10:24:51.978912Z",
     "iopub.status.busy": "2022-03-25T10:24:51.978256Z",
     "iopub.status.idle": "2022-03-25T10:24:52.177361Z",
     "shell.execute_reply": "2022-03-25T10:24:52.176802Z",
     "shell.execute_reply.started": "2022-03-25T10:24:51.978777Z"
    },
    "papermill": {
     "duration": 0.474186,
     "end_time": "2021-01-21T06:30:44.597227",
     "exception": false,
     "start_time": "2021-01-21T06:30:44.123041",
     "status": "completed"
    },
    "tags": []
   },
   "outputs": [
    {
     "data": {
      "text/html": [
       "<div>\n",
       "<style scoped>\n",
       "    .dataframe tbody tr th:only-of-type {\n",
       "        vertical-align: middle;\n",
       "    }\n",
       "\n",
       "    .dataframe tbody tr th {\n",
       "        vertical-align: top;\n",
       "    }\n",
       "\n",
       "    .dataframe thead th {\n",
       "        text-align: right;\n",
       "    }\n",
       "</style>\n",
       "<table border=\"1\" class=\"dataframe\">\n",
       "  <thead>\n",
       "    <tr style=\"text-align: right;\">\n",
       "      <th></th>\n",
       "      <th>toolname</th>\n",
       "      <th>instance</th>\n",
       "    </tr>\n",
       "  </thead>\n",
       "  <tbody>\n",
       "    <tr>\n",
       "      <th>0</th>\n",
       "      <td></td>\n",
       "      <td></td>\n",
       "    </tr>\n",
       "    <tr>\n",
       "      <th>1</th>\n",
       "      <td>112016a</td>\n",
       "      <td>112016a_dev</td>\n",
       "    </tr>\n",
       "    <tr>\n",
       "      <th>2</th>\n",
       "      <td>1dbtetransient</td>\n",
       "      <td>1dbtetransient_dev</td>\n",
       "    </tr>\n",
       "    <tr>\n",
       "      <th>3</th>\n",
       "      <td>1dchainmd</td>\n",
       "      <td>1dchainmd_dev</td>\n",
       "    </tr>\n",
       "    <tr>\n",
       "      <th>4</th>\n",
       "      <td>1dchainmd</td>\n",
       "      <td>1dchainmd_r13</td>\n",
       "    </tr>\n",
       "  </tbody>\n",
       "</table>\n",
       "</div>"
      ],
      "text/plain": [
       "         toolname            instance\n",
       "0                                    \n",
       "1         112016a         112016a_dev\n",
       "2  1dbtetransient  1dbtetransient_dev\n",
       "3       1dchainmd       1dchainmd_dev\n",
       "4       1dchainmd       1dchainmd_r13"
      ]
     },
     "metadata": {},
     "output_type": "display_data"
    },
    {
     "name": "stdout",
     "output_type": "stream",
     "text": [
      "(5346, 2)\n"
     ]
    }
   ],
   "source": [
    "# pull all tools in DB2\n",
    "sql_tools = 'select toolname, instance from nanohub.jos_tool_version;'\n",
    "tools_df = pd.read_sql_query(sql_tools,nanohub_db)\n",
    "display(tools_df.head(5))\n",
    "print(tools_df.shape)"
   ]
  },
  {
   "cell_type": "code",
   "execution_count": 11,
   "metadata": {
    "execution": {
     "iopub.execute_input": "2022-03-25T10:24:52.179502Z",
     "iopub.status.busy": "2022-03-25T10:24:52.179025Z",
     "iopub.status.idle": "2022-03-25T10:24:52.185408Z",
     "shell.execute_reply": "2022-03-25T10:24:52.184595Z",
     "shell.execute_reply.started": "2022-03-25T10:24:52.179471Z"
    },
    "papermill": {
     "duration": 0.09024,
     "end_time": "2021-01-21T06:30:44.727842",
     "exception": false,
     "start_time": "2021-01-21T06:30:44.637602",
     "status": "completed"
    },
    "tags": []
   },
   "outputs": [
    {
     "data": {
      "text/plain": [
       "True"
      ]
     },
     "execution_count": 11,
     "metadata": {},
     "output_type": "execute_result"
    }
   ],
   "source": [
    "'mldefect' in tools_df['toolname'].to_list()"
   ]
  },
  {
   "cell_type": "code",
   "execution_count": 12,
   "metadata": {
    "execution": {
     "iopub.execute_input": "2022-03-25T10:24:52.188189Z",
     "iopub.status.busy": "2022-03-25T10:24:52.187565Z",
     "iopub.status.idle": "2022-03-25T10:24:53.118308Z",
     "shell.execute_reply": "2022-03-25T10:24:53.117440Z",
     "shell.execute_reply.started": "2022-03-25T10:24:52.188164Z"
    },
    "papermill": {
     "duration": 2.704056,
     "end_time": "2021-01-21T06:30:47.477867",
     "exception": false,
     "start_time": "2021-01-21T06:30:44.773811",
     "status": "completed"
    },
    "tags": []
   },
   "outputs": [
    {
     "data": {
      "text/plain": [
       "False"
      ]
     },
     "execution_count": 12,
     "metadata": {},
     "output_type": "execute_result"
    }
   ],
   "source": [
    "## debugging for Tanya\n",
    "# jos_resource_stats_clusters\n",
    "ql = 'select toolname from jos_resource_stats_clusters;'\n",
    "df_ql = pd.read_sql_query(ql,nanohub_db)\n",
    "'mldefect' in df_ql['toolname'].to_list()\n"
   ]
  },
  {
   "cell_type": "code",
   "execution_count": 13,
   "metadata": {
    "execution": {
     "iopub.execute_input": "2022-03-25T10:24:53.122479Z",
     "iopub.status.busy": "2022-03-25T10:24:53.121887Z",
     "iopub.status.idle": "2022-03-25T10:24:53.132541Z",
     "shell.execute_reply": "2022-03-25T10:24:53.131424Z",
     "shell.execute_reply.started": "2022-03-25T10:24:53.122450Z"
    },
    "papermill": {
     "duration": 0.133513,
     "end_time": "2021-01-21T06:30:47.648794",
     "exception": false,
     "start_time": "2021-01-21T06:30:47.515281",
     "status": "completed"
    },
    "tags": []
   },
   "outputs": [
    {
     "data": {
      "text/html": [
       "<div>\n",
       "<style scoped>\n",
       "    .dataframe tbody tr th:only-of-type {\n",
       "        vertical-align: middle;\n",
       "    }\n",
       "\n",
       "    .dataframe tbody tr th {\n",
       "        vertical-align: top;\n",
       "    }\n",
       "\n",
       "    .dataframe thead th {\n",
       "        text-align: right;\n",
       "    }\n",
       "</style>\n",
       "<table border=\"1\" class=\"dataframe\">\n",
       "  <thead>\n",
       "    <tr style=\"text-align: right;\">\n",
       "      <th></th>\n",
       "      <th>toolname</th>\n",
       "    </tr>\n",
       "  </thead>\n",
       "  <tbody>\n",
       "    <tr>\n",
       "      <th>0</th>\n",
       "      <td>1dchainmd</td>\n",
       "    </tr>\n",
       "    <tr>\n",
       "      <th>1</th>\n",
       "      <td>1dchainmd</td>\n",
       "    </tr>\n",
       "    <tr>\n",
       "      <th>2</th>\n",
       "      <td>1dchainmd</td>\n",
       "    </tr>\n",
       "    <tr>\n",
       "      <th>3</th>\n",
       "      <td>1dchainmd</td>\n",
       "    </tr>\n",
       "    <tr>\n",
       "      <th>4</th>\n",
       "      <td>1dchainmd</td>\n",
       "    </tr>\n",
       "  </tbody>\n",
       "</table>\n",
       "</div>"
      ],
      "text/plain": [
       "    toolname\n",
       "0  1dchainmd\n",
       "1  1dchainmd\n",
       "2  1dchainmd\n",
       "3  1dchainmd\n",
       "4  1dchainmd"
      ]
     },
     "execution_count": 13,
     "metadata": {},
     "output_type": "execute_result"
    }
   ],
   "source": [
    "df_ql.head(5)"
   ]
  },
  {
   "cell_type": "code",
   "execution_count": 14,
   "metadata": {
    "execution": {
     "iopub.execute_input": "2022-03-25T10:24:53.133785Z",
     "iopub.status.busy": "2022-03-25T10:24:53.133495Z",
     "iopub.status.idle": "2022-03-25T10:24:53.326583Z",
     "shell.execute_reply": "2022-03-25T10:24:53.325603Z",
     "shell.execute_reply.started": "2022-03-25T10:24:53.133766Z"
    },
    "papermill": {
     "duration": 0.674525,
     "end_time": "2021-01-21T06:30:48.365304",
     "exception": false,
     "start_time": "2021-01-21T06:30:47.690779",
     "status": "completed"
    },
    "tags": []
   },
   "outputs": [
    {
     "data": {
      "text/plain": [
       "True"
      ]
     },
     "execution_count": 14,
     "metadata": {},
     "output_type": "execute_result"
    }
   ],
   "source": [
    "# jos_tool_authors\n",
    "ql = 'select toolname from jos_tool_authors;'\n",
    "df_ql = pd.read_sql_query(ql,nanohub_db)\n",
    "'mldefect' in df_ql['toolname'].to_list()\n",
    "\n"
   ]
  },
  {
   "cell_type": "code",
   "execution_count": 15,
   "metadata": {
    "execution": {
     "iopub.execute_input": "2022-03-25T10:24:53.328638Z",
     "iopub.status.busy": "2022-03-25T10:24:53.327655Z",
     "iopub.status.idle": "2022-03-25T10:24:53.340921Z",
     "shell.execute_reply": "2022-03-25T10:24:53.338815Z",
     "shell.execute_reply.started": "2022-03-25T10:24:53.328573Z"
    },
    "papermill": {
     "duration": 0.19809,
     "end_time": "2021-01-21T06:30:48.625775",
     "exception": false,
     "start_time": "2021-01-21T06:30:48.427685",
     "status": "completed"
    },
    "tags": []
   },
   "outputs": [
    {
     "data": {
      "text/html": [
       "<div>\n",
       "<style scoped>\n",
       "    .dataframe tbody tr th:only-of-type {\n",
       "        vertical-align: middle;\n",
       "    }\n",
       "\n",
       "    .dataframe tbody tr th {\n",
       "        vertical-align: top;\n",
       "    }\n",
       "\n",
       "    .dataframe thead th {\n",
       "        text-align: right;\n",
       "    }\n",
       "</style>\n",
       "<table border=\"1\" class=\"dataframe\">\n",
       "  <thead>\n",
       "    <tr style=\"text-align: right;\">\n",
       "      <th></th>\n",
       "      <th>toolname</th>\n",
       "    </tr>\n",
       "  </thead>\n",
       "  <tbody>\n",
       "    <tr>\n",
       "      <th>0</th>\n",
       "      <td>1dchainmd</td>\n",
       "    </tr>\n",
       "    <tr>\n",
       "      <th>1</th>\n",
       "      <td>1dchainmd</td>\n",
       "    </tr>\n",
       "    <tr>\n",
       "      <th>2</th>\n",
       "      <td>1dchainmd</td>\n",
       "    </tr>\n",
       "    <tr>\n",
       "      <th>3</th>\n",
       "      <td>1dchainmd</td>\n",
       "    </tr>\n",
       "    <tr>\n",
       "      <th>4</th>\n",
       "      <td>1dfdmht</td>\n",
       "    </tr>\n",
       "  </tbody>\n",
       "</table>\n",
       "</div>"
      ],
      "text/plain": [
       "    toolname\n",
       "0  1dchainmd\n",
       "1  1dchainmd\n",
       "2  1dchainmd\n",
       "3  1dchainmd\n",
       "4    1dfdmht"
      ]
     },
     "execution_count": 15,
     "metadata": {},
     "output_type": "execute_result"
    }
   ],
   "source": [
    "df_ql.head(5)"
   ]
  },
  {
   "cell_type": "code",
   "execution_count": 16,
   "metadata": {
    "execution": {
     "iopub.execute_input": "2022-03-25T10:24:53.342718Z",
     "iopub.status.busy": "2022-03-25T10:24:53.342424Z",
     "iopub.status.idle": "2022-03-25T10:24:53.847647Z",
     "shell.execute_reply": "2022-03-25T10:24:53.846664Z",
     "shell.execute_reply.started": "2022-03-25T10:24:53.342699Z"
    },
    "papermill": {
     "duration": 0.247788,
     "end_time": "2021-01-21T06:30:48.925923",
     "exception": false,
     "start_time": "2021-01-21T06:30:48.678135",
     "status": "completed"
    },
    "tags": []
   },
   "outputs": [
    {
     "data": {
      "text/plain": [
       "False"
      ]
     },
     "execution_count": 16,
     "metadata": {},
     "output_type": "execute_result"
    }
   ],
   "source": [
    "## nanohub_metrics trials\n",
    "# metrics_tool_version\n",
    "ql_metrics = 'select toolname from nanohub_metrics.metrics_tool_version;'\n",
    "mdf = pd.read_sql_query(ql_metrics,nanohub_metrics_db)\n",
    "\n",
    "'mldefect' in mdf['toolname'].to_list()"
   ]
  },
  {
   "cell_type": "code",
   "execution_count": 17,
   "metadata": {
    "execution": {
     "iopub.execute_input": "2022-03-25T10:24:53.849285Z",
     "iopub.status.busy": "2022-03-25T10:24:53.848633Z",
     "iopub.status.idle": "2022-03-25T10:24:53.868245Z",
     "shell.execute_reply": "2022-03-25T10:24:53.867026Z",
     "shell.execute_reply.started": "2022-03-25T10:24:53.849260Z"
    },
    "papermill": {
     "duration": 0.086693,
     "end_time": "2021-01-21T06:30:49.058377",
     "exception": false,
     "start_time": "2021-01-21T06:30:48.971684",
     "status": "completed"
    },
    "tags": []
   },
   "outputs": [
    {
     "data": {
      "text/html": [
       "<div>\n",
       "<style scoped>\n",
       "    .dataframe tbody tr th:only-of-type {\n",
       "        vertical-align: middle;\n",
       "    }\n",
       "\n",
       "    .dataframe tbody tr th {\n",
       "        vertical-align: top;\n",
       "    }\n",
       "\n",
       "    .dataframe thead th {\n",
       "        text-align: right;\n",
       "    }\n",
       "</style>\n",
       "<table border=\"1\" class=\"dataframe\">\n",
       "  <thead>\n",
       "    <tr style=\"text-align: right;\">\n",
       "      <th></th>\n",
       "      <th>toolname</th>\n",
       "    </tr>\n",
       "  </thead>\n",
       "  <tbody>\n",
       "    <tr>\n",
       "      <th>0</th>\n",
       "      <td>1dchainmd</td>\n",
       "    </tr>\n",
       "    <tr>\n",
       "      <th>1</th>\n",
       "      <td>1dchainmd</td>\n",
       "    </tr>\n",
       "    <tr>\n",
       "      <th>2</th>\n",
       "      <td>1dfdmht</td>\n",
       "    </tr>\n",
       "    <tr>\n",
       "      <th>3</th>\n",
       "      <td>1dfs</td>\n",
       "    </tr>\n",
       "    <tr>\n",
       "      <th>4</th>\n",
       "      <td>1dhetero</td>\n",
       "    </tr>\n",
       "  </tbody>\n",
       "</table>\n",
       "</div>"
      ],
      "text/plain": [
       "    toolname\n",
       "0  1dchainmd\n",
       "1  1dchainmd\n",
       "2    1dfdmht\n",
       "3       1dfs\n",
       "4   1dhetero"
      ]
     },
     "metadata": {},
     "output_type": "display_data"
    },
    {
     "data": {
      "text/html": [
       "<div>\n",
       "<style scoped>\n",
       "    .dataframe tbody tr th:only-of-type {\n",
       "        vertical-align: middle;\n",
       "    }\n",
       "\n",
       "    .dataframe tbody tr th {\n",
       "        vertical-align: top;\n",
       "    }\n",
       "\n",
       "    .dataframe thead th {\n",
       "        text-align: right;\n",
       "    }\n",
       "</style>\n",
       "<table border=\"1\" class=\"dataframe\">\n",
       "  <thead>\n",
       "    <tr style=\"text-align: right;\">\n",
       "      <th></th>\n",
       "      <th>toolname</th>\n",
       "    </tr>\n",
       "  </thead>\n",
       "  <tbody>\n",
       "    <tr>\n",
       "      <th>1867</th>\n",
       "      <td>xfig</td>\n",
       "    </tr>\n",
       "    <tr>\n",
       "      <th>1868</th>\n",
       "      <td>xhub</td>\n",
       "    </tr>\n",
       "    <tr>\n",
       "      <th>1869</th>\n",
       "      <td>xterm</td>\n",
       "    </tr>\n",
       "    <tr>\n",
       "      <th>1870</th>\n",
       "      <td>xterm</td>\n",
       "    </tr>\n",
       "    <tr>\n",
       "      <th>1871</th>\n",
       "      <td>yambo</td>\n",
       "    </tr>\n",
       "  </tbody>\n",
       "</table>\n",
       "</div>"
      ],
      "text/plain": [
       "     toolname\n",
       "1867     xfig\n",
       "1868     xhub\n",
       "1869    xterm\n",
       "1870    xterm\n",
       "1871    yambo"
      ]
     },
     "metadata": {},
     "output_type": "display_data"
    },
    {
     "name": "stdout",
     "output_type": "stream",
     "text": [
      "(1872, 1)\n"
     ]
    }
   ],
   "source": [
    "display(mdf.head(5))\n",
    "display(mdf.tail(5))\n",
    "print(mdf.shape)"
   ]
  },
  {
   "cell_type": "code",
   "execution_count": 18,
   "metadata": {
    "execution": {
     "iopub.execute_input": "2022-03-25T10:24:53.870765Z",
     "iopub.status.busy": "2022-03-25T10:24:53.869990Z",
     "iopub.status.idle": "2022-03-25T10:24:53.877435Z",
     "shell.execute_reply": "2022-03-25T10:24:53.876476Z",
     "shell.execute_reply.started": "2022-03-25T10:24:53.870739Z"
    },
    "papermill": {
     "duration": 0.126077,
     "end_time": "2021-01-21T06:30:49.249653",
     "exception": false,
     "start_time": "2021-01-21T06:30:49.123576",
     "status": "completed"
    },
    "tags": []
   },
   "outputs": [
    {
     "data": {
      "text/plain": [
       "['mimi',\n",
       " 'minimol',\n",
       " 'minimol',\n",
       " 'minimol',\n",
       " 'minimol',\n",
       " 'minimol',\n",
       " 'minimos',\n",
       " 'minimos',\n",
       " 'minimos',\n",
       " 'mmfl',\n",
       " 'mmst',\n",
       " 'mmst',\n",
       " 'mmst',\n",
       " 'mmst',\n",
       " 'mmst',\n",
       " 'mmsttf',\n",
       " 'mmsttf',\n",
       " 'mmsttf',\n",
       " 'mmsttf',\n",
       " 'moca']"
      ]
     },
     "execution_count": 18,
     "metadata": {},
     "output_type": "execute_result"
    }
   ],
   "source": [
    "mdf['toolname'].to_list()[730:750]"
   ]
  },
  {
   "cell_type": "code",
   "execution_count": null,
   "metadata": {
    "papermill": {
     "duration": 0.062252,
     "end_time": "2021-01-21T06:30:49.358643",
     "exception": false,
     "start_time": "2021-01-21T06:30:49.296391",
     "status": "completed"
    },
    "tags": []
   },
   "outputs": [],
   "source": []
  },
  {
   "cell_type": "code",
   "execution_count": null,
   "metadata": {
    "papermill": {
     "duration": 0.050837,
     "end_time": "2021-01-21T06:30:49.469637",
     "exception": false,
     "start_time": "2021-01-21T06:30:49.418800",
     "status": "completed"
    },
    "tags": []
   },
   "outputs": [],
   "source": []
  },
  {
   "cell_type": "code",
   "execution_count": null,
   "metadata": {
    "papermill": {
     "duration": 0.067419,
     "end_time": "2021-01-21T06:30:49.588390",
     "exception": false,
     "start_time": "2021-01-21T06:30:49.520971",
     "status": "completed"
    },
    "tags": []
   },
   "outputs": [],
   "source": []
  },
  {
   "cell_type": "code",
   "execution_count": null,
   "metadata": {
    "papermill": {
     "duration": 0.083073,
     "end_time": "2021-01-21T06:30:49.725179",
     "exception": false,
     "start_time": "2021-01-21T06:30:49.642106",
     "status": "completed"
    },
    "tags": []
   },
   "outputs": [],
   "source": []
  },
  {
   "cell_type": "code",
   "execution_count": null,
   "metadata": {
    "papermill": {
     "duration": 0.057281,
     "end_time": "2021-01-21T06:30:49.871584",
     "exception": false,
     "start_time": "2021-01-21T06:30:49.814303",
     "status": "completed"
    },
    "tags": []
   },
   "outputs": [],
   "source": []
  },
  {
   "cell_type": "code",
   "execution_count": 19,
   "metadata": {
    "execution": {
     "iopub.execute_input": "2022-03-25T10:24:53.879293Z",
     "iopub.status.busy": "2022-03-25T10:24:53.878966Z",
     "iopub.status.idle": "2022-03-25T10:24:53.914585Z",
     "shell.execute_reply": "2022-03-25T10:24:53.913953Z",
     "shell.execute_reply.started": "2022-03-25T10:24:53.879272Z"
    },
    "papermill": {
     "duration": 0.287695,
     "end_time": "2021-01-21T06:30:50.231301",
     "exception": false,
     "start_time": "2021-01-21T06:30:49.943606",
     "status": "completed"
    },
    "tags": []
   },
   "outputs": [],
   "source": [
    "# create a dict strictly of toolnames and their instances\n",
    "grouped_tools = tools_df.groupby(['toolname']).groups #this is a dict already; need to change the value pairs\n",
    "import numpy as np\n",
    "tn_instances = tools_df['instance'].to_numpy()\n",
    "for i,j in grouped_tools.items():\n",
    "    grouped_tools[i] = tuple(tn_instances[j])"
   ]
  },
  {
   "cell_type": "code",
   "execution_count": 20,
   "metadata": {
    "execution": {
     "iopub.execute_input": "2022-03-25T10:24:53.916905Z",
     "iopub.status.busy": "2022-03-25T10:24:53.916050Z",
     "iopub.status.idle": "2022-03-25T10:24:53.930066Z",
     "shell.execute_reply": "2022-03-25T10:24:53.929249Z",
     "shell.execute_reply.started": "2022-03-25T10:24:53.916877Z"
    },
    "papermill": {
     "duration": 0.155574,
     "end_time": "2021-01-21T06:30:50.443431",
     "exception": false,
     "start_time": "2021-01-21T06:30:50.287857",
     "status": "completed"
    },
    "tags": []
   },
   "outputs": [
    {
     "name": "stdout",
     "output_type": "stream",
     "text": [
      "{'': ('',), '112016a': ('112016a_dev',), '1dbtetransient': ('1dbtetransient_dev',), '1dchainmd': ('1dchainmd_dev', '1dchainmd_r13', '1dchainmd_r15'), '1dfdmht': ('1dfdmht_dev', '1dfdmht_r24', '1dfdmht_r26', '1dfdmht_r28'), '1dfs': ('1dfs_dev',), '1dhetero': ('1dhetero_dev', '1dhetero_r10', '1dhetero_r13', '1dhetero_r14', '1dhetero_r298', '1dhetero_r299', '1dhetero_r30', '1dhetero_r301', '1dhetero_r303', '1dhetero_r309', '1dhetero_r531', '1dhetero_r532', '1dhetero_r540', '1dhetero_r600', '1dhetero_r689', '1dhetero_r694', '1dhetero_r733', '1dhetero_r739', '1dhetero_r740', '1dhetero_r742'), '1dmd': ('1dmd_dev',), '1dnegf': ('1dnegf_dev',), '1doscillationla': ('1doscillationla_dev',), '1dphononbte': ('1dphononbte_dev', '1dphononbte_r5', '1dphononbte_r9'), '1sl': ('1sl_dev',), '2daiperc': ('2daiperc_dev',), '2degpot': ('2degpot_dev',), '2dfet': ('2dfet_dev',), '2dfets': ('2dfets_dev', '2dfets_r10', '2dfets_r8'), '2dmatstacks': ('2dmatstacks_dev', '2dmatstacks_r33', '2dmatstacks_r36'), '2dmlmodels': ('2dmlmodels_dev',), '2dreflect': ('2dreflect_dev', '2dreflect_r29', '2dreflect_r44'), '2ds': ('2ds', '2ds_dev'), '2wth': ('2wth_dev',), '3datomsmodel': ('3datomsmodel_dev',), '3dmatopt': ('3dmatopt_dev', '3dmatopt_r27'), '3drftsv': ('3drftsv_dev',), '670raman': ('670raman_dev',), 'Mynewtool': ('Mynewtool_dev',), 'WTND': ('WTND_dev',), 'abacus': ('abacus_dev', 'abacus_r11', 'abacus_r14', 'abacus_r15', 'abacus_r22', 'abacus_r23', 'abacus_r25', 'abacus_r28', 'abacus_r31', 'abacus_r36', 'abacus_r40', 'abacus_r8'), 'abase': ('abase_dev', 'abase_r6', 'abase_r8', 'abase_r9'), 'abdullah': ('abdullah_dev',), 'abinit': ('abinit', 'abinit_dev', 'abinit_r100', 'abinit_r103', 'abinit_r104', 'abinit_r105', 'abinit_r108', 'abinit_r109', 'abinit_r110', 'abinit_r111', 'abinit_r112', 'abinit_r114', 'abinit_r116', 'abinit_r118', 'abinit_r120', 'abinit_r121', 'abinit_r127', 'abinit_r130', 'abinit_r134', 'abinit_r135', 'abinit_r136', 'abinit_r137', 'abinit_r140', 'abinit_r147', 'abinit_r151', 'abinit_r152', 'abinit_r153', 'abinit_r154', 'abinit_r158', 'abinit_r159', 'abinit_r98'), 'abrm': ('abrm_dev',), 'aci': ('aci_dev',), 'acmenpds': ('acmenpds_dev', 'acmenpds_r41', 'acmenpds_r43', 'acmenpds_r44', 'acmenpds_r46', 'acmenpds_r49', 'acmenpds_r51'), 'acsa': ('acsa_dev',), 'acteomdb': ('acteomdb_dev', 'acteomdb_r5'), 'activelearning': ('activelearning_dev', 'activelearning_r4'), 'activemeltheas': ('activemeltheas_dev', 'activemeltheas_r23'), 'acute': ('acute_dev', 'acute_r5', 'acute_r9'), 'adac': ('adac_dev', 'adac_r1016', 'adac_r1027', 'adac_r103', 'adac_r1067', 'adac_r1072', 'adac_r1107', 'adac_r1119', 'adac_r117', 'adac_r296', 'adac_r303', 'adac_r328', 'adac_r481', 'adac_r514', 'adac_r519', 'adac_r524', 'adac_r551', 'adac_r596', 'adac_r600', 'adac_r607', 'adac_r653', 'adac_r682', 'adac_r723', 'adac_r726', 'adac_r737', 'adac_r738', 'adac_r774', 'adac_r794', 'adac_r799', 'adac_r823', 'adac_r906', 'adac_r912', 'adac_r921', 'adac_r951', 'adac_r994'), 'adept': ('adept', 'adept_dev', 'adept_r16', 'adept_r32'), 'adeptnpt': ('adeptnpt_dev', 'adeptnpt_r134', 'adeptnpt_r138', 'adeptnpt_r151', 'adeptnpt_r18', 'adeptnpt_r20', 'adeptnpt_r22', 'adeptnpt_r24', 'adeptnpt_r25', 'adeptnpt_r27', 'adeptnpt_r30', 'adeptnpt_r65', 'adeptnpt_r67', 'adeptnpt_r96', 'adeptnpt_r98'), 'adriene': ('adriene_dev',), 'adrienne': ('adrienne_dev',), 'ads2009': ('ads2009_dev',), 'adsorbit': ('adsorbit_dev',), 'adspr': ('adspr_dev',), 'advmemristor': ('advmemristor_dev',), 'advqdlab': ('advqdlab_dev',), 'advte': ('advte_dev', 'advte_r15'), 'aeneas': ('aeneas_dev',), 'aerersdffdsdfew': ('aerersdffdsdfew_dev',), 'afm': ('afm_dev', 'afm_r12', 'afm_r7'), 'afmfcanalysis': ('afmfcanalysis_dev',), 'aforce': ('aforce_dev',), 'aftestname': ('aftestname_dev',), 'agingmodel': ('agingmodel_dev',), 'agpvsim': ('agpvsim_dev', 'agpvsim_r37', 'agpvsim_r38', 'agpvsim_r41'), 'agropvsim': ('agropvsim_dev',), 'ahpull': ('ahpull_dev', 'ahpull_r25', 'ahpull_r27'), 'aiperc': ('aiperc_dev',), 'alissatesttool': ('alissatesttool_dev',), 'alphakconvnet': ('alphakconvnet_dev',), 'alphaknet': ('alphaknet_dev',), 'amidespec': ('amidespec_dev', 'amidespec_r6', 'amidespec_r7'), 'amobt': ('amobt_dev', 'amobt_r29', 'amobt_r31', 'amobt_r32', 'amobt_r33', 'amobt_r35', 'amobt_r37', 'amobt_r38', 'amobt_r39', 'amobt_r42', 'amobt_r46', 'amobt_r48', 'amobt_r49', 'amobt_r51'), 'anaconda': ('anaconda_dev',), 'anashousbane': ('anashousbane_dev',), 'andie': ('andie_dev', 'andie_r16'), 'angel': ('angel_dev', 'angel_r41', 'angel_r50'), 'angiogencc3d': ('angiogencc3d_dev', 'angiogencc3d_r11', 'angiogencc3d_r12', 'angiogencc3d_r5', 'angiogencc3d_r8'), 'anngenerator': ('anngenerator_dev',), 'anngraph': ('anngraph_dev', 'anngraph_r36'), 'annihilate': ('annihilate_dev', 'annihilate_r24', 'annihilate_r27', 'annihilate_r28'), 'annviz': ('annviz_dev',), 'ansys': ('ansys', 'ansys_dev'), 'antibacterial': ('antibacterial_dev', 'antibacterial_r5', 'antibacterial_r7'), 'antiresist': ('antiresist_dev',), 'antsy': ('antsy_dev', 'antsy_r11', 'antsy_r13', 'antsy_r15', 'antsy_r7', 'antsy_r9'), 'appapi': ('appapi_dev',), 'apu': ('apu_dev',), 'aqme': ('aqme_dev', 'aqme_r11', 'aqme_r14', 'aqme_r6', 'aqme_r8', 'aqme_r9'), 'arbd': ('arbd_dev', 'arbd_r13'), 'archimedes': ('archimedes_dev', 'archimedes_r17', 'archimedes_r22', 'archimedes_r47', 'archimedes_r61', 'archimedes_r68', 'archimedes_r71'), 'arraypmod': ('arraypmod_dev',), 'aru': ('aru_dev',), 'asdasdasdasdasd': ('asdasdasdasdasd_dev',), 'ase': ('ase_dev',), 'asegui': ('asegui_dev',), 'asetool': ('asetool_dev',), 'asilicon': ('asilicon_dev', 'asilicon_r15', 'asilicon_r22', 'asilicon_r24'), 'astarspin': ('astarspin_dev',), 'asts': ('asts_dev', 'asts_r3', 'asts_r8'), 'asynchup': ('asynchup_dev', 'asynchup_r10', 'asynchup_r12', 'asynchup_r7'), 'atcadlab': ('atcadlab_dev', 'atcadlab_r11', 'atcadlab_r13', 'atcadlab_r15', 'atcadlab_r9'), 'atomicstructure': ('atomicstructure_dev',), 'aurora': ('aurora_dev',), 'autonomousrobot': ('autonomousrobot_dev',), 'avalanche': ('avalanche_dev', 'avalanche_r13'), 'avasctum': ('avasctum_dev',), ...}\n"
     ]
    }
   ],
   "source": [
    "print(grouped_tools)"
   ]
  },
  {
   "cell_type": "code",
   "execution_count": 21,
   "metadata": {
    "execution": {
     "iopub.execute_input": "2022-03-25T10:24:53.933546Z",
     "iopub.status.busy": "2022-03-25T10:24:53.932389Z",
     "iopub.status.idle": "2022-03-25T10:24:53.943745Z",
     "shell.execute_reply": "2022-03-25T10:24:53.941779Z",
     "shell.execute_reply.started": "2022-03-25T10:24:53.933452Z"
    },
    "papermill": {
     "duration": 0.128734,
     "end_time": "2021-01-21T06:30:50.617471",
     "exception": false,
     "start_time": "2021-01-21T06:30:50.488737",
     "status": "completed"
    },
    "tags": []
   },
   "outputs": [
    {
     "name": "stdout",
     "output_type": "stream",
     "text": [
      "1dbtetransient\n",
      "('1dbtetransient_dev',)\n"
     ]
    }
   ],
   "source": [
    "print(list(grouped_tools.keys())[2])\n",
    "print(grouped_tools[list(grouped_tools.keys())[2]])"
   ]
  },
  {
   "cell_type": "code",
   "execution_count": 22,
   "metadata": {
    "execution": {
     "iopub.execute_input": "2022-03-25T10:24:53.945487Z",
     "iopub.status.busy": "2022-03-25T10:24:53.944883Z",
     "iopub.status.idle": "2022-03-25T10:24:54.766177Z",
     "shell.execute_reply": "2022-03-25T10:24:54.765373Z",
     "shell.execute_reply.started": "2022-03-25T10:24:53.945457Z"
    },
    "papermill": {
     "duration": 4.397834,
     "end_time": "2021-01-21T06:30:55.069681",
     "exception": false,
     "start_time": "2021-01-21T06:30:50.671847",
     "status": "completed"
    },
    "tags": []
   },
   "outputs": [
    {
     "name": "stdout",
     "output_type": "stream",
     "text": [
      "112016a\n",
      "('112016a_dev',)\n"
     ]
    },
    {
     "data": {
      "text/html": [
       "<div>\n",
       "<style scoped>\n",
       "    .dataframe tbody tr th:only-of-type {\n",
       "        vertical-align: middle;\n",
       "    }\n",
       "\n",
       "    .dataframe tbody tr th {\n",
       "        vertical-align: top;\n",
       "    }\n",
       "\n",
       "    .dataframe thead th {\n",
       "        text-align: right;\n",
       "    }\n",
       "</style>\n",
       "<table border=\"1\" class=\"dataframe\">\n",
       "  <thead>\n",
       "    <tr style=\"text-align: right;\">\n",
       "      <th></th>\n",
       "      <th>count(user)</th>\n",
       "    </tr>\n",
       "  </thead>\n",
       "  <tbody>\n",
       "    <tr>\n",
       "      <th>0</th>\n",
       "      <td>1940</td>\n",
       "    </tr>\n",
       "  </tbody>\n",
       "</table>\n",
       "</div>"
      ],
      "text/plain": [
       "   count(user)\n",
       "0         1940"
      ]
     },
     "metadata": {},
     "output_type": "display_data"
    }
   ],
   "source": [
    "## Run a separate query for each grouped tool\n",
    "for key in list(grouped_tools.keys())[1:2]:\n",
    "    print(key)\n",
    "    print(grouped_tools[key])\n",
    "    t_sql_tspec = \"select count(user) from nanohub_metrics.toolstart where tool in \" +\"('1dphononbte_dev', '1dphononbte_r5', '1dphononbte_r9')\"+\";\" #temp sql tool specific\n",
    "    t_r_df = pd.read_sql_query(t_sql_tspec,nanohub_metrics_db)\n",
    "    display(t_r_df.head(5))"
   ]
  },
  {
   "cell_type": "code",
   "execution_count": 23,
   "metadata": {
    "execution": {
     "iopub.execute_input": "2022-03-25T10:24:54.768222Z",
     "iopub.status.busy": "2022-03-25T10:24:54.767395Z",
     "iopub.status.idle": "2022-03-25T10:24:54.776125Z",
     "shell.execute_reply": "2022-03-25T10:24:54.774792Z",
     "shell.execute_reply.started": "2022-03-25T10:24:54.768143Z"
    },
    "papermill": {
     "duration": 0.097119,
     "end_time": "2021-01-21T06:30:55.239046",
     "exception": false,
     "start_time": "2021-01-21T06:30:55.141927",
     "status": "completed"
    },
    "tags": []
   },
   "outputs": [
    {
     "data": {
      "text/plain": [
       "(1, 1)"
      ]
     },
     "execution_count": 23,
     "metadata": {},
     "output_type": "execute_result"
    }
   ],
   "source": [
    "t_r_df.shape"
   ]
  },
  {
   "cell_type": "code",
   "execution_count": null,
   "metadata": {
    "papermill": {
     "duration": 0.045106,
     "end_time": "2021-01-21T06:30:55.359402",
     "exception": false,
     "start_time": "2021-01-21T06:30:55.314296",
     "status": "completed"
    },
    "tags": []
   },
   "outputs": [],
   "source": []
  },
  {
   "cell_type": "code",
   "execution_count": null,
   "metadata": {
    "papermill": {
     "duration": 0.059041,
     "end_time": "2021-01-21T06:30:55.514551",
     "exception": false,
     "start_time": "2021-01-21T06:30:55.455510",
     "status": "completed"
    },
    "tags": []
   },
   "outputs": [],
   "source": []
  },
  {
   "cell_type": "code",
   "execution_count": null,
   "metadata": {
    "papermill": {
     "duration": 0.032587,
     "end_time": "2021-01-21T06:30:55.587843",
     "exception": false,
     "start_time": "2021-01-21T06:30:55.555256",
     "status": "completed"
    },
    "tags": []
   },
   "outputs": [],
   "source": []
  },
  {
   "cell_type": "code",
   "execution_count": 24,
   "metadata": {
    "execution": {
     "iopub.execute_input": "2022-03-25T10:24:54.777955Z",
     "iopub.status.busy": "2022-03-25T10:24:54.777566Z",
     "iopub.status.idle": "2022-03-25T10:31:08.422270Z",
     "shell.execute_reply": "2022-03-25T10:31:08.420732Z",
     "shell.execute_reply.started": "2022-03-25T10:24:54.777821Z"
    },
    "papermill": {
     "duration": 539.619643,
     "end_time": "2021-01-21T06:39:55.241252",
     "exception": false,
     "start_time": "2021-01-21T06:30:55.621609",
     "status": "completed"
    },
    "tags": []
   },
   "outputs": [],
   "source": [
    "# Lifetime usage count\n",
    "sql_query = \"select v.toolname, count(*) as total, count(distinct t.user) as user_total from nanohub_metrics.toolstart as t \\\n",
    "inner join nanohub.jos_tool_version as v \\\n",
    "on v.instance = t.tool \\\n",
    "where t.user not in ('instanton', 'gridstat')\\\n",
    "group by v.toolname\"\n",
    "\n",
    "toolstart_lifetime_df = pd.read_sql_query(sql_query, nanohub_metrics_db)\n",
    "\n",
    "# last year usage count\n",
    "sql_query = \"select v.toolname, count(*) as total, count(distinct t.user) as user_total from nanohub_metrics.toolstart as t \\\n",
    "inner join nanohub.jos_tool_version as v \\\n",
    "on v.instance = t.tool \\\n",
    "where t.user not in ('instanton', 'gridstat') and t.datetime >= '%s'\\\n",
    "group by v.toolname\" % (datetime.datetime.now()-datetime.timedelta(days=365)).strftime('%Y-%m-%d')\n",
    "\n",
    "toolstart_last_year_df = pd.read_sql_query(sql_query, nanohub_metrics_db)\n",
    "\n",
    "# last 3-month usage count\n",
    "sql_query = \"select v.toolname, count(*) as total, count(distinct t.user) as user_total from nanohub_metrics.toolstart as t \\\n",
    "inner join nanohub.jos_tool_version as v \\\n",
    "on v.instance = t.tool \\\n",
    "where t.user not in ('instanton', 'gridstat') and t.datetime >= '%s'\\\n",
    "group by v.toolname\" % (datetime.datetime.now()-datetime.timedelta(days=90)).strftime('%Y-%m-%d')\n",
    "\n",
    "toolstart_last_3_month_df = pd.read_sql_query(sql_query, nanohub_metrics_db)\n",
    "\n",
    "# last month usage count\n",
    "sql_query = \"select v.toolname, count(*) as total, count(distinct t.user) as user_total from nanohub_metrics.toolstart as t \\\n",
    "inner join nanohub.jos_tool_version as v \\\n",
    "on v.instance = t.tool \\\n",
    "where t.user not in ('instanton', 'gridstat') and t.datetime >= '%s'\\\n",
    "group by v.toolname\" % (datetime.datetime.now()-datetime.timedelta(days=30)).strftime('%Y-%m-%d')\n",
    "\n",
    "toolstart_last_month_df = pd.read_sql_query(sql_query, nanohub_metrics_db)\n",
    "\n",
    "# last week usage count\n",
    "sql_query = \"select v.toolname, count(*) as total, count(distinct t.user) as user_total from nanohub_metrics.toolstart as t \\\n",
    "inner join nanohub.jos_tool_version as v \\\n",
    "on v.instance = t.tool \\\n",
    "where t.user not in ('instanton', 'gridstat') and t.datetime >= '%s'\\\n",
    "group by v.toolname\" % (datetime.datetime.now()-datetime.timedelta(days=7)).strftime('%Y-%m-%d')\n",
    "\n",
    "toolstart_last_week_df = pd.read_sql_query(sql_query, nanohub_metrics_db)\n",
    "\n",
    "# last 24 hours usage count\n",
    "sql_query = \"select v.toolname, count(*) as total, count(distinct t.user) as user_total from nanohub_metrics.toolstart as t \\\n",
    "inner join nanohub.jos_tool_version as v \\\n",
    "on v.instance = t.tool \\\n",
    "where t.user not in ('instanton', 'gridstat') and t.datetime >= '%s'\\\n",
    "group by v.toolname\" % (datetime.datetime.now()-datetime.timedelta(days=1)).strftime('%Y-%m-%d')\n",
    "\n",
    "toolstart_last_24_hours_df = pd.read_sql_query(sql_query, nanohub_metrics_db)"
   ]
  },
  {
   "cell_type": "code",
   "execution_count": 25,
   "metadata": {
    "execution": {
     "iopub.execute_input": "2022-03-25T10:31:08.426128Z",
     "iopub.status.busy": "2022-03-25T10:31:08.424722Z",
     "iopub.status.idle": "2022-03-25T10:31:08.438743Z",
     "shell.execute_reply": "2022-03-25T10:31:08.437863Z",
     "shell.execute_reply.started": "2022-03-25T10:31:08.426062Z"
    },
    "papermill": {
     "duration": 6.421184,
     "end_time": "2021-01-21T06:40:05.440497",
     "exception": false,
     "start_time": "2021-01-21T06:39:59.019313",
     "status": "completed"
    },
    "tags": []
   },
   "outputs": [
    {
     "data": {
      "text/html": [
       "<div>\n",
       "<style scoped>\n",
       "    .dataframe tbody tr th:only-of-type {\n",
       "        vertical-align: middle;\n",
       "    }\n",
       "\n",
       "    .dataframe tbody tr th {\n",
       "        vertical-align: top;\n",
       "    }\n",
       "\n",
       "    .dataframe thead th {\n",
       "        text-align: right;\n",
       "    }\n",
       "</style>\n",
       "<table border=\"1\" class=\"dataframe\">\n",
       "  <thead>\n",
       "    <tr style=\"text-align: right;\">\n",
       "      <th></th>\n",
       "      <th>toolname</th>\n",
       "      <th>total</th>\n",
       "      <th>user_total</th>\n",
       "    </tr>\n",
       "  </thead>\n",
       "  <tbody>\n",
       "    <tr>\n",
       "      <th>0</th>\n",
       "      <td>1dchainmd</td>\n",
       "      <td>235</td>\n",
       "      <td>78</td>\n",
       "    </tr>\n",
       "    <tr>\n",
       "      <th>1</th>\n",
       "      <td>1dfdmht</td>\n",
       "      <td>350</td>\n",
       "      <td>90</td>\n",
       "    </tr>\n",
       "  </tbody>\n",
       "</table>\n",
       "</div>"
      ],
      "text/plain": [
       "    toolname  total  user_total\n",
       "0  1dchainmd    235          78\n",
       "1    1dfdmht    350          90"
      ]
     },
     "execution_count": 25,
     "metadata": {},
     "output_type": "execute_result"
    }
   ],
   "source": [
    "# display\n",
    "toolstart_last_year_df.head(2)"
   ]
  },
  {
   "cell_type": "code",
   "execution_count": 26,
   "metadata": {
    "execution": {
     "iopub.execute_input": "2022-03-25T10:31:08.441438Z",
     "iopub.status.busy": "2022-03-25T10:31:08.440675Z",
     "iopub.status.idle": "2022-03-25T10:31:08.507010Z",
     "shell.execute_reply": "2022-03-25T10:31:08.505461Z",
     "shell.execute_reply.started": "2022-03-25T10:31:08.441396Z"
    },
    "papermill": {
     "duration": 6.705226,
     "end_time": "2021-01-21T06:40:12.219003",
     "exception": false,
     "start_time": "2021-01-21T06:40:05.513777",
     "status": "completed"
    },
    "tags": []
   },
   "outputs": [
    {
     "data": {
      "text/html": [
       "<div>\n",
       "<style scoped>\n",
       "    .dataframe tbody tr th:only-of-type {\n",
       "        vertical-align: middle;\n",
       "    }\n",
       "\n",
       "    .dataframe tbody tr th {\n",
       "        vertical-align: top;\n",
       "    }\n",
       "\n",
       "    .dataframe thead th {\n",
       "        text-align: right;\n",
       "    }\n",
       "</style>\n",
       "<table border=\"1\" class=\"dataframe\">\n",
       "  <thead>\n",
       "    <tr style=\"text-align: right;\">\n",
       "      <th></th>\n",
       "      <th>0</th>\n",
       "      <th>1</th>\n",
       "      <th>2</th>\n",
       "      <th>3</th>\n",
       "      <th>4</th>\n",
       "    </tr>\n",
       "  </thead>\n",
       "  <tbody>\n",
       "    <tr>\n",
       "      <th>toolname</th>\n",
       "      <td>matlab</td>\n",
       "      <td>octave</td>\n",
       "      <td>gamess</td>\n",
       "      <td>rebo</td>\n",
       "      <td>ellipsom</td>\n",
       "    </tr>\n",
       "    <tr>\n",
       "      <th>title</th>\n",
       "      <td>Matlab</td>\n",
       "      <td>Octave</td>\n",
       "      <td>GAMESS</td>\n",
       "      <td>REBO-1</td>\n",
       "      <td>title-ellipsom</td>\n",
       "    </tr>\n",
       "    <tr>\n",
       "      <th>published</th>\n",
       "      <td>0</td>\n",
       "      <td>0</td>\n",
       "      <td>0</td>\n",
       "      <td>0</td>\n",
       "      <td>0</td>\n",
       "    </tr>\n",
       "    <tr>\n",
       "      <th>registered</th>\n",
       "      <td>2000-10-02 02:34:37</td>\n",
       "      <td>2001-04-04 19:03:01</td>\n",
       "      <td>2003-01-15 15:41:22</td>\n",
       "      <td>2003-05-08 00:41:33</td>\n",
       "      <td>2005-03-05 03:02:47</td>\n",
       "    </tr>\n",
       "    <tr>\n",
       "      <th>Total_runs_over_lifetime</th>\n",
       "      <td>3470.0</td>\n",
       "      <td>59.0</td>\n",
       "      <td>2415.0</td>\n",
       "      <td>291.0</td>\n",
       "      <td>NaN</td>\n",
       "    </tr>\n",
       "    <tr>\n",
       "      <th>Total_users_over_lifetime</th>\n",
       "      <td>162.0</td>\n",
       "      <td>30.0</td>\n",
       "      <td>101.0</td>\n",
       "      <td>42.0</td>\n",
       "      <td>NaN</td>\n",
       "    </tr>\n",
       "    <tr>\n",
       "      <th>Total_runs_last_year</th>\n",
       "      <td>NaN</td>\n",
       "      <td>NaN</td>\n",
       "      <td>NaN</td>\n",
       "      <td>NaN</td>\n",
       "      <td>NaN</td>\n",
       "    </tr>\n",
       "    <tr>\n",
       "      <th>Total_users_last_year</th>\n",
       "      <td>NaN</td>\n",
       "      <td>NaN</td>\n",
       "      <td>NaN</td>\n",
       "      <td>NaN</td>\n",
       "      <td>NaN</td>\n",
       "    </tr>\n",
       "    <tr>\n",
       "      <th>Total_runs_last_3_month</th>\n",
       "      <td>NaN</td>\n",
       "      <td>NaN</td>\n",
       "      <td>NaN</td>\n",
       "      <td>NaN</td>\n",
       "      <td>NaN</td>\n",
       "    </tr>\n",
       "    <tr>\n",
       "      <th>Total_users_last_3_month</th>\n",
       "      <td>NaN</td>\n",
       "      <td>NaN</td>\n",
       "      <td>NaN</td>\n",
       "      <td>NaN</td>\n",
       "      <td>NaN</td>\n",
       "    </tr>\n",
       "    <tr>\n",
       "      <th>Total_runs_last_month</th>\n",
       "      <td>NaN</td>\n",
       "      <td>NaN</td>\n",
       "      <td>NaN</td>\n",
       "      <td>NaN</td>\n",
       "      <td>NaN</td>\n",
       "    </tr>\n",
       "    <tr>\n",
       "      <th>Total_users_last_month</th>\n",
       "      <td>NaN</td>\n",
       "      <td>NaN</td>\n",
       "      <td>NaN</td>\n",
       "      <td>NaN</td>\n",
       "      <td>NaN</td>\n",
       "    </tr>\n",
       "    <tr>\n",
       "      <th>Total_runs_last_week</th>\n",
       "      <td>NaN</td>\n",
       "      <td>NaN</td>\n",
       "      <td>NaN</td>\n",
       "      <td>NaN</td>\n",
       "      <td>NaN</td>\n",
       "    </tr>\n",
       "    <tr>\n",
       "      <th>Total_users_last_week</th>\n",
       "      <td>NaN</td>\n",
       "      <td>NaN</td>\n",
       "      <td>NaN</td>\n",
       "      <td>NaN</td>\n",
       "      <td>NaN</td>\n",
       "    </tr>\n",
       "    <tr>\n",
       "      <th>Total_runs_last_24_hours</th>\n",
       "      <td>NaN</td>\n",
       "      <td>NaN</td>\n",
       "      <td>NaN</td>\n",
       "      <td>NaN</td>\n",
       "      <td>NaN</td>\n",
       "    </tr>\n",
       "    <tr>\n",
       "      <th>Total_users_last_24_hours</th>\n",
       "      <td>NaN</td>\n",
       "      <td>NaN</td>\n",
       "      <td>NaN</td>\n",
       "      <td>NaN</td>\n",
       "      <td>NaN</td>\n",
       "    </tr>\n",
       "  </tbody>\n",
       "</table>\n",
       "</div>"
      ],
      "text/plain": [
       "                                             0                    1  \\\n",
       "toolname                                matlab               octave   \n",
       "title                                   Matlab               Octave   \n",
       "published                                    0                    0   \n",
       "registered                 2000-10-02 02:34:37  2001-04-04 19:03:01   \n",
       "Total_runs_over_lifetime                3470.0                 59.0   \n",
       "Total_users_over_lifetime                162.0                 30.0   \n",
       "Total_runs_last_year                       NaN                  NaN   \n",
       "Total_users_last_year                      NaN                  NaN   \n",
       "Total_runs_last_3_month                    NaN                  NaN   \n",
       "Total_users_last_3_month                   NaN                  NaN   \n",
       "Total_runs_last_month                      NaN                  NaN   \n",
       "Total_users_last_month                     NaN                  NaN   \n",
       "Total_runs_last_week                       NaN                  NaN   \n",
       "Total_users_last_week                      NaN                  NaN   \n",
       "Total_runs_last_24_hours                   NaN                  NaN   \n",
       "Total_users_last_24_hours                  NaN                  NaN   \n",
       "\n",
       "                                             2                    3  \\\n",
       "toolname                                gamess                 rebo   \n",
       "title                                   GAMESS               REBO-1   \n",
       "published                                    0                    0   \n",
       "registered                 2003-01-15 15:41:22  2003-05-08 00:41:33   \n",
       "Total_runs_over_lifetime                2415.0                291.0   \n",
       "Total_users_over_lifetime                101.0                 42.0   \n",
       "Total_runs_last_year                       NaN                  NaN   \n",
       "Total_users_last_year                      NaN                  NaN   \n",
       "Total_runs_last_3_month                    NaN                  NaN   \n",
       "Total_users_last_3_month                   NaN                  NaN   \n",
       "Total_runs_last_month                      NaN                  NaN   \n",
       "Total_users_last_month                     NaN                  NaN   \n",
       "Total_runs_last_week                       NaN                  NaN   \n",
       "Total_users_last_week                      NaN                  NaN   \n",
       "Total_runs_last_24_hours                   NaN                  NaN   \n",
       "Total_users_last_24_hours                  NaN                  NaN   \n",
       "\n",
       "                                             4  \n",
       "toolname                              ellipsom  \n",
       "title                           title-ellipsom  \n",
       "published                                    0  \n",
       "registered                 2005-03-05 03:02:47  \n",
       "Total_runs_over_lifetime                   NaN  \n",
       "Total_users_over_lifetime                  NaN  \n",
       "Total_runs_last_year                       NaN  \n",
       "Total_users_last_year                      NaN  \n",
       "Total_runs_last_3_month                    NaN  \n",
       "Total_users_last_3_month                   NaN  \n",
       "Total_runs_last_month                      NaN  \n",
       "Total_users_last_month                     NaN  \n",
       "Total_runs_last_week                       NaN  \n",
       "Total_users_last_week                      NaN  \n",
       "Total_runs_last_24_hours                   NaN  \n",
       "Total_users_last_24_hours                  NaN  "
      ]
     },
     "execution_count": 26,
     "metadata": {},
     "output_type": "execute_result"
    }
   ],
   "source": [
    "# insert user and run stats into df\n",
    "all_df = df.copy()\n",
    "\n",
    "all_df = pd.merge(all_df, toolstart_lifetime_df.rename(columns={\\\n",
    "                                                                'total':        'Total_runs_over_lifetime',\n",
    "                                                                'user_total':'Total_users_over_lifetime'}\\\n",
    "                                                      ), how='left', left_on='toolname', right_on='toolname')\n",
    "all_df = pd.merge(all_df, toolstart_last_year_df.rename(columns={\\\n",
    "                                                                'total':        'Total_runs_last_year',\n",
    "                                                                'user_total':'Total_users_last_year'}\\\n",
    "                                                      ), how='left', left_on='toolname', right_on='toolname')\n",
    "all_df = pd.merge(all_df, toolstart_last_3_month_df.rename(columns={\\\n",
    "                                                                'total':        'Total_runs_last_3_month',\n",
    "                                                                'user_total':'Total_users_last_3_month'}\\\n",
    "                                                      ), how='left', left_on='toolname', right_on='toolname')\n",
    "all_df = pd.merge(all_df, toolstart_last_month_df.rename(columns={\\\n",
    "                                                                'total':        'Total_runs_last_month',\n",
    "                                                                'user_total':'Total_users_last_month'}\\\n",
    "                                                      ), how='left', left_on='toolname', right_on='toolname')\n",
    "all_df = pd.merge(all_df, toolstart_last_week_df.rename(columns={\\\n",
    "                                                                'total':        'Total_runs_last_week',\n",
    "                                                                'user_total':'Total_users_last_week'}\\\n",
    "                                                      ), how='left', left_on='toolname', right_on='toolname')\n",
    "all_df = pd.merge(all_df, toolstart_last_24_hours_df.rename(columns={\\\n",
    "                                                                'total':        'Total_runs_last_24_hours',\n",
    "                                                                'user_total':'Total_users_last_24_hours'}\\\n",
    "                                                      ), how='left', left_on='toolname', right_on='toolname')\n",
    "\n",
    "# display\n",
    "all_df.head(5).T"
   ]
  },
  {
   "cell_type": "markdown",
   "metadata": {
    "papermill": {
     "duration": 0.071133,
     "end_time": "2021-01-21T06:40:12.338569",
     "exception": false,
     "start_time": "2021-01-21T06:40:12.267436",
     "status": "completed"
    },
    "tags": []
   },
   "source": [
    "## Match data with Salesforce format"
   ]
  },
  {
   "cell_type": "code",
   "execution_count": 27,
   "metadata": {
    "execution": {
     "iopub.execute_input": "2022-03-25T10:31:08.511080Z",
     "iopub.status.busy": "2022-03-25T10:31:08.510562Z",
     "iopub.status.idle": "2022-03-25T10:31:08.557686Z",
     "shell.execute_reply": "2022-03-25T10:31:08.556140Z",
     "shell.execute_reply.started": "2022-03-25T10:31:08.511045Z"
    },
    "papermill": {
     "duration": 3.316664,
     "end_time": "2021-01-21T06:40:15.694011",
     "exception": false,
     "start_time": "2021-01-21T06:40:12.377347",
     "status": "completed"
    },
    "tags": []
   },
   "outputs": [
    {
     "data": {
      "text/html": [
       "<div>\n",
       "<style scoped>\n",
       "    .dataframe tbody tr th:only-of-type {\n",
       "        vertical-align: middle;\n",
       "    }\n",
       "\n",
       "    .dataframe tbody tr th {\n",
       "        vertical-align: top;\n",
       "    }\n",
       "\n",
       "    .dataframe thead th {\n",
       "        text-align: right;\n",
       "    }\n",
       "</style>\n",
       "<table border=\"1\" class=\"dataframe\">\n",
       "  <thead>\n",
       "    <tr style=\"text-align: right;\">\n",
       "      <th></th>\n",
       "      <th>0</th>\n",
       "      <th>1</th>\n",
       "    </tr>\n",
       "  </thead>\n",
       "  <tbody>\n",
       "    <tr>\n",
       "      <th>Name</th>\n",
       "      <td>Matlab</td>\n",
       "      <td>Octave</td>\n",
       "    </tr>\n",
       "    <tr>\n",
       "      <th>Tool_name__c</th>\n",
       "      <td>matlab</td>\n",
       "      <td>octave</td>\n",
       "    </tr>\n",
       "    <tr>\n",
       "      <th>Tool_URL__c</th>\n",
       "      <td>https://nanohub.org/tools/matlab</td>\n",
       "      <td>https://nanohub.org/tools/octave</td>\n",
       "    </tr>\n",
       "    <tr>\n",
       "      <th>Published__c</th>\n",
       "      <td>0</td>\n",
       "      <td>0</td>\n",
       "    </tr>\n",
       "    <tr>\n",
       "      <th>Total_runs_over_lifetime__c</th>\n",
       "      <td>3470.0</td>\n",
       "      <td>59.0</td>\n",
       "    </tr>\n",
       "    <tr>\n",
       "      <th>Total_runs_past_year__c</th>\n",
       "      <td>0.0</td>\n",
       "      <td>0.0</td>\n",
       "    </tr>\n",
       "    <tr>\n",
       "      <th>Total_runs_past_3_months__c</th>\n",
       "      <td>0.0</td>\n",
       "      <td>0.0</td>\n",
       "    </tr>\n",
       "    <tr>\n",
       "      <th>Total_runs_past_month__c</th>\n",
       "      <td>0.0</td>\n",
       "      <td>0.0</td>\n",
       "    </tr>\n",
       "    <tr>\n",
       "      <th>Total_runs_past_week__c</th>\n",
       "      <td>0.0</td>\n",
       "      <td>0.0</td>\n",
       "    </tr>\n",
       "    <tr>\n",
       "      <th>Total_runs_past_24_hours__c</th>\n",
       "      <td>0.0</td>\n",
       "      <td>0.0</td>\n",
       "    </tr>\n",
       "    <tr>\n",
       "      <th>Total_users_over_lifetime__c</th>\n",
       "      <td>162.0</td>\n",
       "      <td>30.0</td>\n",
       "    </tr>\n",
       "    <tr>\n",
       "      <th>Total_users_past_year__c</th>\n",
       "      <td>0.0</td>\n",
       "      <td>0.0</td>\n",
       "    </tr>\n",
       "    <tr>\n",
       "      <th>Total_users_past_3_months__c</th>\n",
       "      <td>0.0</td>\n",
       "      <td>0.0</td>\n",
       "    </tr>\n",
       "    <tr>\n",
       "      <th>Total_users_past_month__c</th>\n",
       "      <td>0.0</td>\n",
       "      <td>0.0</td>\n",
       "    </tr>\n",
       "    <tr>\n",
       "      <th>Total_users_past_week__c</th>\n",
       "      <td>0.0</td>\n",
       "      <td>0.0</td>\n",
       "    </tr>\n",
       "    <tr>\n",
       "      <th>Total_users_past_24_hours__c</th>\n",
       "      <td>0.0</td>\n",
       "      <td>0.0</td>\n",
       "    </tr>\n",
       "    <tr>\n",
       "      <th>Creation_date__c</th>\n",
       "      <td>2000-10-02</td>\n",
       "      <td>2001-04-04</td>\n",
       "    </tr>\n",
       "  </tbody>\n",
       "</table>\n",
       "</div>"
      ],
      "text/plain": [
       "                                                             0  \\\n",
       "Name                                                    Matlab   \n",
       "Tool_name__c                                            matlab   \n",
       "Tool_URL__c                   https://nanohub.org/tools/matlab   \n",
       "Published__c                                                 0   \n",
       "Total_runs_over_lifetime__c                             3470.0   \n",
       "Total_runs_past_year__c                                    0.0   \n",
       "Total_runs_past_3_months__c                                0.0   \n",
       "Total_runs_past_month__c                                   0.0   \n",
       "Total_runs_past_week__c                                    0.0   \n",
       "Total_runs_past_24_hours__c                                0.0   \n",
       "Total_users_over_lifetime__c                             162.0   \n",
       "Total_users_past_year__c                                   0.0   \n",
       "Total_users_past_3_months__c                               0.0   \n",
       "Total_users_past_month__c                                  0.0   \n",
       "Total_users_past_week__c                                   0.0   \n",
       "Total_users_past_24_hours__c                               0.0   \n",
       "Creation_date__c                                    2000-10-02   \n",
       "\n",
       "                                                             1  \n",
       "Name                                                    Octave  \n",
       "Tool_name__c                                            octave  \n",
       "Tool_URL__c                   https://nanohub.org/tools/octave  \n",
       "Published__c                                                 0  \n",
       "Total_runs_over_lifetime__c                               59.0  \n",
       "Total_runs_past_year__c                                    0.0  \n",
       "Total_runs_past_3_months__c                                0.0  \n",
       "Total_runs_past_month__c                                   0.0  \n",
       "Total_runs_past_week__c                                    0.0  \n",
       "Total_runs_past_24_hours__c                                0.0  \n",
       "Total_users_over_lifetime__c                              30.0  \n",
       "Total_users_past_year__c                                   0.0  \n",
       "Total_users_past_3_months__c                               0.0  \n",
       "Total_users_past_month__c                                  0.0  \n",
       "Total_users_past_week__c                                   0.0  \n",
       "Total_users_past_24_hours__c                               0.0  \n",
       "Creation_date__c                                    2001-04-04  "
      ]
     },
     "execution_count": 27,
     "metadata": {},
     "output_type": "execute_result"
    }
   ],
   "source": [
    "df_sf = pd.DataFrame()\n",
    "\n",
    "# Make sure NaN and NaT values are taken care of here\n",
    "\n",
    "df_sf['Name']              = all_df['title']\n",
    "df_sf['Tool_name__c']  = all_df['toolname']\n",
    "df_sf['Tool_URL__c']     = all_df['toolname'].apply(lambda x: 'https://nanohub.org/tools/'+x)\n",
    "df_sf['Published__c']    = all_df['published']\n",
    "\n",
    "# stats\n",
    "df_sf['Total_runs_over_lifetime__c']  = all_df['Total_runs_over_lifetime']\n",
    "df_sf['Total_runs_past_year__c']        = all_df['Total_runs_last_year']\n",
    "df_sf['Total_runs_past_3_months__c'] = all_df['Total_runs_last_3_month']\n",
    "df_sf['Total_runs_past_month__c']     = all_df['Total_runs_last_month']\n",
    "df_sf['Total_runs_past_week__c']       = all_df['Total_runs_last_week']\n",
    "df_sf['Total_runs_past_24_hours__c'] = all_df['Total_runs_last_24_hours']\n",
    "\n",
    "df_sf['Total_users_over_lifetime__c']  = all_df['Total_users_over_lifetime']\n",
    "df_sf['Total_users_past_year__c']        = all_df['Total_users_last_year']\n",
    "df_sf['Total_users_past_3_months__c'] = all_df['Total_users_last_3_month']\n",
    "df_sf['Total_users_past_month__c']     = all_df['Total_users_last_month']\n",
    "df_sf['Total_users_past_week__c']       = all_df['Total_users_last_week']\n",
    "df_sf['Total_users_past_24_hours__c'] = all_df['Total_users_last_24_hours']\n",
    "\n",
    "# solidify time-related columns from datetime to string\n",
    "df_sf['Creation_date__c']  = all_df['registered'].dt.date.fillna('').astype('str')\n",
    "\n",
    "df_sf.fillna(0, inplace=True)\n",
    "\n",
    "sf_original_fields = df_sf.columns\n",
    "\n",
    "# display\n",
    "df_sf.head(2).T"
   ]
  },
  {
   "cell_type": "markdown",
   "metadata": {
    "papermill": {
     "duration": 0.147393,
     "end_time": "2021-01-21T06:40:15.875485",
     "exception": false,
     "start_time": "2021-01-21T06:40:15.728092",
     "status": "completed"
    },
    "tags": []
   },
   "source": [
    "## To Salesforce Sales Cloud CRM"
   ]
  },
  {
   "cell_type": "code",
   "execution_count": 28,
   "metadata": {
    "execution": {
     "iopub.execute_input": "2022-03-25T10:31:08.561331Z",
     "iopub.status.busy": "2022-03-25T10:31:08.560163Z",
     "iopub.status.idle": "2022-03-25T10:31:08.568976Z",
     "shell.execute_reply": "2022-03-25T10:31:08.566799Z",
     "shell.execute_reply.started": "2022-03-25T10:31:08.561116Z"
    },
    "papermill": {
     "duration": 15.900448,
     "end_time": "2021-01-21T06:40:31.811876",
     "exception": false,
     "start_time": "2021-01-21T06:40:15.911428",
     "status": "completed"
    },
    "tags": []
   },
   "outputs": [],
   "source": [
    "db_s.object_id = object_id\n",
    "db_s.external_id = external_id"
   ]
  },
  {
   "cell_type": "code",
   "execution_count": 29,
   "metadata": {
    "execution": {
     "iopub.execute_input": "2022-03-25T10:31:08.572050Z",
     "iopub.status.busy": "2022-03-25T10:31:08.571012Z",
     "iopub.status.idle": "2022-03-25T10:31:10.281710Z",
     "shell.execute_reply": "2022-03-25T10:31:10.280781Z",
     "shell.execute_reply.started": "2022-03-25T10:31:08.572011Z"
    },
    "papermill": {
     "duration": 2.441878,
     "end_time": "2021-01-21T06:40:34.289101",
     "exception": false,
     "start_time": "2021-01-21T06:40:31.847223",
     "status": "completed"
    },
    "tags": []
   },
   "outputs": [
    {
     "name": "stdout",
     "output_type": "stream",
     "text": [
      "[Success] Bulk job creation successful. Job ID = 7508W00000dmSkYQAU\n",
      "hello\n",
      "[Success] CSV upload successful. Job ID = 7508W00000dmSkYQAU\n",
      "[Success] Closing job successful. Job ID = 7508W00000dmSkYQAU\n"
     ]
    }
   ],
   "source": [
    "# send data to Salesforce\n",
    "db_s.send_data(df_sf)"
   ]
  },
  {
   "cell_type": "code",
   "execution_count": 30,
   "metadata": {
    "execution": {
     "iopub.execute_input": "2022-03-25T10:31:10.284490Z",
     "iopub.status.busy": "2022-03-25T10:31:10.283288Z",
     "iopub.status.idle": "2022-03-25T10:31:10.841540Z",
     "shell.execute_reply": "2022-03-25T10:31:10.840344Z",
     "shell.execute_reply.started": "2022-03-25T10:31:10.284400Z"
    },
    "papermill": {
     "duration": 0.474975,
     "end_time": "2021-01-21T06:40:34.799207",
     "exception": false,
     "start_time": "2021-01-21T06:40:34.324232",
     "status": "completed"
    },
    "tags": []
   },
   "outputs": [
    {
     "data": {
      "text/plain": [
       "{'id': '7508W00000dmSkYQAU',\n",
       " 'operation': 'upsert',\n",
       " 'object': 'nanoHUB_tools__c',\n",
       " 'createdById': '0055w00000DM5bOAAT',\n",
       " 'createdDate': '2022-03-25T10:31:08.000+0000',\n",
       " 'systemModstamp': '2022-03-25T10:31:10.000+0000',\n",
       " 'state': 'InProgress',\n",
       " 'externalIdFieldName': 'Tool_name__c',\n",
       " 'concurrencyMode': 'Parallel',\n",
       " 'contentType': 'CSV',\n",
       " 'apiVersion': 47.0,\n",
       " 'jobType': 'V2Ingest',\n",
       " 'lineEnding': 'LF',\n",
       " 'columnDelimiter': 'COMMA',\n",
       " 'numberRecordsProcessed': 0,\n",
       " 'numberRecordsFailed': 0,\n",
       " 'retries': 0,\n",
       " 'totalProcessingTime': 0,\n",
       " 'apiActiveProcessingTime': 0,\n",
       " 'apexProcessingTime': 0}"
      ]
     },
     "execution_count": 30,
     "metadata": {},
     "output_type": "execute_result"
    }
   ],
   "source": [
    "# check status\n",
    "db_s.check_bulk_status()"
   ]
  },
  {
   "cell_type": "code",
   "execution_count": null,
   "metadata": {
    "papermill": {
     "duration": 0.035391,
     "end_time": "2021-01-21T06:40:34.871159",
     "exception": false,
     "start_time": "2021-01-21T06:40:34.835768",
     "status": "completed"
    },
    "tags": []
   },
   "outputs": [],
   "source": []
  }
 ],
 "metadata": {
  "celltoolbar": "Tags",
  "kernelspec": {
   "display_name": "Python 3 (ipykernel)",
   "language": "python",
   "name": "python3"
  },
  "language_info": {
   "codemirror_mode": {
    "name": "ipython",
    "version": 3
   },
   "file_extension": ".py",
   "mimetype": "text/x-python",
   "name": "python",
   "nbconvert_exporter": "python",
   "pygments_lexer": "ipython3",
   "version": "3.8.10"
  },
  "papermill": {
   "duration": 611.119015,
   "end_time": "2021-01-21T06:40:43.191592",
   "environment_variables": {},
   "exception": null,
   "input_path": "/home/users/wang2506/nanohub_salesforce_integ/salesforce/task_tool_basic_updates.ipynb",
   "output_path": "/home/users/wang2506/nanohub_salesforce_integ/salesforce/task_tool_basic_updates.ipynb",
   "parameters": {},
   "start_time": "2021-01-21T06:30:32.072577",
   "version": "2.1.1"
  }
 },
 "nbformat": 4,
 "nbformat_minor": 4
}