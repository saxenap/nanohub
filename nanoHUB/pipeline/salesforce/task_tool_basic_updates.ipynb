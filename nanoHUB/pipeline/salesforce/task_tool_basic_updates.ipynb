{
 "cells": [
  {
   "cell_type": "markdown",
   "metadata": {
    "papermill": {
     "duration": 0.074769,
     "end_time": "2021-01-21T06:30:34.837599",
     "exception": false,
     "start_time": "2021-01-21T06:30:34.762830",
     "status": "completed"
    },
    "tags": []
   },
   "source": [
    "# DB2-Salesforce connector: Basic tool information updates"
   ]
  },
  {
   "cell_type": "code",
   "execution_count": 1,
   "metadata": {
    "execution": {
     "iopub.execute_input": "2021-01-21T06:30:35.011047Z",
     "iopub.status.busy": "2021-01-21T06:30:35.009839Z",
     "iopub.status.idle": "2021-01-21T06:30:35.011611Z",
     "shell.execute_reply": "2021-01-21T06:30:35.010392Z"
    },
    "papermill": {
     "duration": 0.10095,
     "end_time": "2021-01-21T06:30:35.011752",
     "exception": false,
     "start_time": "2021-01-21T06:30:34.910802",
     "status": "completed"
    },
    "tags": [
     "parameters"
    ]
   },
   "outputs": [],
   "source": [
    "# Parameters\n",
    "api_url = '/services/data/v43.0/sobjects'\n",
    "external_id = 'Tool_name__c'\n",
    "object_id = 'nanoHUB_tools__c'\n",
    "\n",
    "from nanoHUB.application import Application\n",
    "\n",
    "application = Application.get_instance()\n",
    "nanohub_db = application.new_db_engine('nanohub')\n",
    "nanohub_metrics_db = application.new_db_engine('nanohub_metrics')\n",
    "\n",
    "salesforce = application.new_salesforce_engine()\n",
    "db_s = salesforce"
   ]
  },
  {
   "cell_type": "code",
   "execution_count": 2,
   "metadata": {
    "execution": {
     "iopub.execute_input": "2021-01-21T06:30:35.164321Z",
     "iopub.status.busy": "2021-01-21T06:30:35.163713Z",
     "iopub.status.idle": "2021-01-21T06:30:40.305537Z",
     "shell.execute_reply": "2021-01-21T06:30:40.305064Z"
    },
    "papermill": {
     "duration": 5.241886,
     "end_time": "2021-01-21T06:30:40.305670",
     "exception": false,
     "start_time": "2021-01-21T06:30:35.063784",
     "status": "completed"
    },
    "tags": []
   },
   "outputs": [],
   "source": [
    "import pandas as pd\n",
    "import datetime"
   ]
  },
  {
   "cell_type": "markdown",
   "metadata": {
    "papermill": {
     "duration": 0.112863,
     "end_time": "2021-01-21T06:30:40.440137",
     "exception": false,
     "start_time": "2021-01-21T06:30:40.327274",
     "status": "completed"
    },
    "tags": []
   },
   "source": [
    "## Obtain tool information from DB2 "
   ]
  },
  {
   "cell_type": "code",
   "execution_count": 3,
   "metadata": {
    "execution": {
     "iopub.execute_input": "2021-01-21T06:30:40.634566Z",
     "iopub.status.busy": "2021-01-21T06:30:40.633978Z",
     "iopub.status.idle": "2021-01-21T06:30:40.674262Z",
     "shell.execute_reply": "2021-01-21T06:30:40.673749Z"
    },
    "papermill": {
     "duration": 0.1835,
     "end_time": "2021-01-21T06:30:40.674399",
     "exception": false,
     "start_time": "2021-01-21T06:30:40.490899",
     "status": "completed"
    },
    "tags": []
   },
   "outputs": [
    {
     "name": "stdout",
     "output_type": "stream",
     "text": [
      "select toolname, title, published, registered from jos_tool\n"
     ]
    }
   ],
   "source": [
    "# Basic tool information\n",
    "sql_query = \"select toolname, title, published, registered from jos_tool\"\n",
    "\n",
    "# display\n",
    "print(sql_query)"
   ]
  },
  {
   "cell_type": "code",
   "execution_count": 4,
   "metadata": {
    "execution": {
     "iopub.execute_input": "2021-01-21T06:30:40.787148Z",
     "iopub.status.busy": "2021-01-21T06:30:40.786507Z",
     "iopub.status.idle": "2021-01-21T06:30:42.278481Z",
     "shell.execute_reply": "2021-01-21T06:30:42.277617Z"
    },
    "papermill": {
     "duration": 1.575408,
     "end_time": "2021-01-21T06:30:42.278612",
     "exception": false,
     "start_time": "2021-01-21T06:30:40.703204",
     "status": "completed"
    },
    "tags": []
   },
   "outputs": [
    {
     "data": {
      "text/html": [
       "<div>\n",
       "<style scoped>\n",
       "    .dataframe tbody tr th:only-of-type {\n",
       "        vertical-align: middle;\n",
       "    }\n",
       "\n",
       "    .dataframe tbody tr th {\n",
       "        vertical-align: top;\n",
       "    }\n",
       "\n",
       "    .dataframe thead th {\n",
       "        text-align: right;\n",
       "    }\n",
       "</style>\n",
       "<table border=\"1\" class=\"dataframe\">\n",
       "  <thead>\n",
       "    <tr style=\"text-align: right;\">\n",
       "      <th></th>\n",
       "      <th>toolname</th>\n",
       "      <th>title</th>\n",
       "      <th>published</th>\n",
       "      <th>registered</th>\n",
       "    </tr>\n",
       "  </thead>\n",
       "  <tbody>\n",
       "    <tr>\n",
       "      <th>0</th>\n",
       "      <td>ellipsom</td>\n",
       "      <td>title-ellipsom</td>\n",
       "      <td>0</td>\n",
       "      <td>2005-03-05 03:02:47</td>\n",
       "    </tr>\n",
       "    <tr>\n",
       "      <th>1</th>\n",
       "      <td>hydrolab</td>\n",
       "      <td>Hydrophobicity Lab</td>\n",
       "      <td>1</td>\n",
       "      <td>2006-02-24 03:38:23</td>\n",
       "    </tr>\n",
       "  </tbody>\n",
       "</table>\n",
       "</div>"
      ],
      "text/plain": [
       "   toolname               title  published          registered\n",
       "0  ellipsom      title-ellipsom          0 2005-03-05 03:02:47\n",
       "1  hydrolab  Hydrophobicity Lab          1 2006-02-24 03:38:23"
      ]
     },
     "execution_count": 4,
     "metadata": {},
     "output_type": "execute_result"
    }
   ],
   "source": [
    "# connect with DB2\n",
    "# import sqlalchemy as sql\n",
    "\n",
    "df = pd.read_sql_query(sql_query, nanohub_db, parse_dates=['registered'])\n",
    "# display\n",
    "df.head(2)"
   ]
  },
  {
   "cell_type": "code",
   "execution_count": 5,
   "metadata": {
    "execution": {
     "iopub.execute_input": "2021-01-21T06:30:42.548968Z",
     "iopub.status.busy": "2021-01-21T06:30:42.548282Z",
     "iopub.status.idle": "2021-01-21T06:30:42.621774Z",
     "shell.execute_reply": "2021-01-21T06:30:42.621271Z"
    },
    "papermill": {
     "duration": 0.237981,
     "end_time": "2021-01-21T06:30:42.621918",
     "exception": false,
     "start_time": "2021-01-21T06:30:42.383937",
     "status": "completed"
    },
    "tags": []
   },
   "outputs": [
    {
     "data": {
      "text/html": [
       "<div>\n",
       "<style scoped>\n",
       "    .dataframe tbody tr th:only-of-type {\n",
       "        vertical-align: middle;\n",
       "    }\n",
       "\n",
       "    .dataframe tbody tr th {\n",
       "        vertical-align: top;\n",
       "    }\n",
       "\n",
       "    .dataframe thead th {\n",
       "        text-align: right;\n",
       "    }\n",
       "</style>\n",
       "<table border=\"1\" class=\"dataframe\">\n",
       "  <thead>\n",
       "    <tr style=\"text-align: right;\">\n",
       "      <th></th>\n",
       "      <th>toolname</th>\n",
       "      <th>title</th>\n",
       "      <th>published</th>\n",
       "      <th>registered</th>\n",
       "    </tr>\n",
       "  </thead>\n",
       "  <tbody>\n",
       "    <tr>\n",
       "      <th>348</th>\n",
       "      <td>matlab</td>\n",
       "      <td>Matlab</td>\n",
       "      <td>0</td>\n",
       "      <td>2000-10-02 02:34:37</td>\n",
       "    </tr>\n",
       "    <tr>\n",
       "      <th>350</th>\n",
       "      <td>octave</td>\n",
       "      <td>Octave</td>\n",
       "      <td>0</td>\n",
       "      <td>2001-04-04 19:03:01</td>\n",
       "    </tr>\n",
       "    <tr>\n",
       "      <th>347</th>\n",
       "      <td>gamess</td>\n",
       "      <td>GAMESS</td>\n",
       "      <td>0</td>\n",
       "      <td>2003-01-15 15:41:22</td>\n",
       "    </tr>\n",
       "    <tr>\n",
       "      <th>352</th>\n",
       "      <td>rebo</td>\n",
       "      <td>REBO-1</td>\n",
       "      <td>0</td>\n",
       "      <td>2003-05-08 00:41:33</td>\n",
       "    </tr>\n",
       "    <tr>\n",
       "      <th>0</th>\n",
       "      <td>ellipsom</td>\n",
       "      <td>title-ellipsom</td>\n",
       "      <td>0</td>\n",
       "      <td>2005-03-05 03:02:47</td>\n",
       "    </tr>\n",
       "  </tbody>\n",
       "</table>\n",
       "</div>"
      ],
      "text/plain": [
       "     toolname           title  published          registered\n",
       "348    matlab          Matlab          0 2000-10-02 02:34:37\n",
       "350    octave          Octave          0 2001-04-04 19:03:01\n",
       "347    gamess          GAMESS          0 2003-01-15 15:41:22\n",
       "352      rebo          REBO-1          0 2003-05-08 00:41:33\n",
       "0    ellipsom  title-ellipsom          0 2005-03-05 03:02:47"
      ]
     },
     "metadata": {},
     "output_type": "display_data"
    },
    {
     "data": {
      "text/html": [
       "<div>\n",
       "<style scoped>\n",
       "    .dataframe tbody tr th:only-of-type {\n",
       "        vertical-align: middle;\n",
       "    }\n",
       "\n",
       "    .dataframe tbody tr th {\n",
       "        vertical-align: top;\n",
       "    }\n",
       "\n",
       "    .dataframe thead th {\n",
       "        text-align: right;\n",
       "    }\n",
       "</style>\n",
       "<table border=\"1\" class=\"dataframe\">\n",
       "  <thead>\n",
       "    <tr style=\"text-align: right;\">\n",
       "      <th></th>\n",
       "      <th>toolname</th>\n",
       "      <th>title</th>\n",
       "      <th>published</th>\n",
       "      <th>registered</th>\n",
       "    </tr>\n",
       "  </thead>\n",
       "  <tbody>\n",
       "    <tr>\n",
       "      <th>1704</th>\n",
       "      <td>graphenetools1</td>\n",
       "      <td>Graphene Substrate</td>\n",
       "      <td>0</td>\n",
       "      <td>2020-12-29 23:42:44</td>\n",
       "    </tr>\n",
       "    <tr>\n",
       "      <th>1705</th>\n",
       "      <td>random</td>\n",
       "      <td>random tool</td>\n",
       "      <td>0</td>\n",
       "      <td>2021-01-01 00:05:55</td>\n",
       "    </tr>\n",
       "    <tr>\n",
       "      <th>1706</th>\n",
       "      <td>htq1</td>\n",
       "      <td>Heat Transfer Quiz Trial 1</td>\n",
       "      <td>0</td>\n",
       "      <td>2021-01-02 15:45:16</td>\n",
       "    </tr>\n",
       "    <tr>\n",
       "      <th>1707</th>\n",
       "      <td>gitlocaltool</td>\n",
       "      <td>My nanoHUB simulation tool using gitLocal.</td>\n",
       "      <td>0</td>\n",
       "      <td>2021-01-10 17:49:31</td>\n",
       "    </tr>\n",
       "    <tr>\n",
       "      <th>1708</th>\n",
       "      <td>gitlocalrapptur</td>\n",
       "      <td>Example nanoHUB Rappture tool using git local</td>\n",
       "      <td>0</td>\n",
       "      <td>2021-01-12 15:43:00</td>\n",
       "    </tr>\n",
       "    <tr>\n",
       "      <th>1709</th>\n",
       "      <td>githubexample</td>\n",
       "      <td>Example nanoHUB Jupyter tool using GitHub</td>\n",
       "      <td>0</td>\n",
       "      <td>2021-01-12 16:02:56</td>\n",
       "    </tr>\n",
       "    <tr>\n",
       "      <th>1710</th>\n",
       "      <td>inverter</td>\n",
       "      <td>cmos Inverter</td>\n",
       "      <td>0</td>\n",
       "      <td>2021-01-13 02:10:28</td>\n",
       "    </tr>\n",
       "    <tr>\n",
       "      <th>1711</th>\n",
       "      <td>pc4fury</td>\n",
       "      <td>PhysiCell-Fury 3D tumor</td>\n",
       "      <td>0</td>\n",
       "      <td>2021-01-13 11:26:35</td>\n",
       "    </tr>\n",
       "    <tr>\n",
       "      <th>1712</th>\n",
       "      <td>qucsngspice</td>\n",
       "      <td>Qucs with SPICE</td>\n",
       "      <td>0</td>\n",
       "      <td>2021-01-15 23:25:03</td>\n",
       "    </tr>\n",
       "    <tr>\n",
       "      <th>1713</th>\n",
       "      <td>bsvirdcovidmodo</td>\n",
       "      <td>Modeling a COVID-19 Pandemic Using a BSVIRD Model</td>\n",
       "      <td>0</td>\n",
       "      <td>2021-01-18 19:40:46</td>\n",
       "    </tr>\n",
       "    <tr>\n",
       "      <th>1714</th>\n",
       "      <td>bsvirdcovid19mo</td>\n",
       "      <td>Modeling a COVID-19 Pandemic with a BSVIRD Model</td>\n",
       "      <td>0</td>\n",
       "      <td>2021-01-18 20:35:02</td>\n",
       "    </tr>\n",
       "    <tr>\n",
       "      <th>1715</th>\n",
       "      <td>mosfetsimulatn</td>\n",
       "      <td>mosfetsimulatn</td>\n",
       "      <td>0</td>\n",
       "      <td>2021-01-19 04:05:36</td>\n",
       "    </tr>\n",
       "    <tr>\n",
       "      <th>345</th>\n",
       "      <td>cnt-iv</td>\n",
       "      <td>CNT-IV</td>\n",
       "      <td>0</td>\n",
       "      <td>NaT</td>\n",
       "    </tr>\n",
       "    <tr>\n",
       "      <th>346</th>\n",
       "      <td>dmgr</td>\n",
       "      <td>Design Manager</td>\n",
       "      <td>0</td>\n",
       "      <td>NaT</td>\n",
       "    </tr>\n",
       "    <tr>\n",
       "      <th>353</th>\n",
       "      <td>sequal</td>\n",
       "      <td>Sequal</td>\n",
       "      <td>0</td>\n",
       "      <td>NaT</td>\n",
       "    </tr>\n",
       "    <tr>\n",
       "      <th>355</th>\n",
       "      <td>staroffice</td>\n",
       "      <td>StarOffice</td>\n",
       "      <td>1</td>\n",
       "      <td>NaT</td>\n",
       "    </tr>\n",
       "    <tr>\n",
       "      <th>356</th>\n",
       "      <td>spicesoi</td>\n",
       "      <td>UFSOI/Spice3</td>\n",
       "      <td>0</td>\n",
       "      <td>NaT</td>\n",
       "    </tr>\n",
       "    <tr>\n",
       "      <th>358</th>\n",
       "      <td>devtesttool</td>\n",
       "      <td>Dev Test Tool</td>\n",
       "      <td>0</td>\n",
       "      <td>NaT</td>\n",
       "    </tr>\n",
       "    <tr>\n",
       "      <th>359</th>\n",
       "      <td>ncntesttool</td>\n",
       "      <td>NCN test tool</td>\n",
       "      <td>0</td>\n",
       "      <td>NaT</td>\n",
       "    </tr>\n",
       "    <tr>\n",
       "      <th>360</th>\n",
       "      <td>WTND</td>\n",
       "      <td>WTND Tool Title</td>\n",
       "      <td>0</td>\n",
       "      <td>NaT</td>\n",
       "    </tr>\n",
       "    <tr>\n",
       "      <th>361</th>\n",
       "      <td>wtest</td>\n",
       "      <td>My WTest Tool Test</td>\n",
       "      <td>0</td>\n",
       "      <td>NaT</td>\n",
       "    </tr>\n",
       "    <tr>\n",
       "      <th>362</th>\n",
       "      <td>Mynewtool</td>\n",
       "      <td>My New Tool</td>\n",
       "      <td>0</td>\n",
       "      <td>NaT</td>\n",
       "    </tr>\n",
       "    <tr>\n",
       "      <th>363</th>\n",
       "      <td>nanohub</td>\n",
       "      <td>nanoHUB</td>\n",
       "      <td>0</td>\n",
       "      <td>NaT</td>\n",
       "    </tr>\n",
       "    <tr>\n",
       "      <th>364</th>\n",
       "      <td>nanohub-for-kids</td>\n",
       "      <td>nanohub-for-kids</td>\n",
       "      <td>0</td>\n",
       "      <td>NaT</td>\n",
       "    </tr>\n",
       "    <tr>\n",
       "      <th>365</th>\n",
       "      <td>sysman</td>\n",
       "      <td>sysman</td>\n",
       "      <td>0</td>\n",
       "      <td>NaT</td>\n",
       "    </tr>\n",
       "    <tr>\n",
       "      <th>366</th>\n",
       "      <td>nanohub-support</td>\n",
       "      <td>nanohub-support</td>\n",
       "      <td>0</td>\n",
       "      <td>NaT</td>\n",
       "    </tr>\n",
       "    <tr>\n",
       "      <th>367</th>\n",
       "      <td>rkspack</td>\n",
       "      <td>rkspack</td>\n",
       "      <td>0</td>\n",
       "      <td>NaT</td>\n",
       "    </tr>\n",
       "    <tr>\n",
       "      <th>368</th>\n",
       "      <td>lib-gangli</td>\n",
       "      <td>Gang Li's Library of Useful Stuff</td>\n",
       "      <td>0</td>\n",
       "      <td>NaT</td>\n",
       "    </tr>\n",
       "    <tr>\n",
       "      <th>369</th>\n",
       "      <td>rappture-runtime</td>\n",
       "      <td>rappture-runtime</td>\n",
       "      <td>0</td>\n",
       "      <td>NaT</td>\n",
       "    </tr>\n",
       "    <tr>\n",
       "      <th>370</th>\n",
       "      <td>hubzero</td>\n",
       "      <td>hubzero</td>\n",
       "      <td>0</td>\n",
       "      <td>NaT</td>\n",
       "    </tr>\n",
       "    <tr>\n",
       "      <th>371</th>\n",
       "      <td>rappture</td>\n",
       "      <td>rappture</td>\n",
       "      <td>0</td>\n",
       "      <td>NaT</td>\n",
       "    </tr>\n",
       "    <tr>\n",
       "      <th>372</th>\n",
       "      <td>mw</td>\n",
       "      <td>mw</td>\n",
       "      <td>0</td>\n",
       "      <td>NaT</td>\n",
       "    </tr>\n",
       "    <tr>\n",
       "      <th>373</th>\n",
       "      <td>ncn_students</td>\n",
       "      <td>ncn_students</td>\n",
       "      <td>0</td>\n",
       "      <td>NaT</td>\n",
       "    </tr>\n",
       "    <tr>\n",
       "      <th>374</th>\n",
       "      <td>pharmengine</td>\n",
       "      <td>pharmengine</td>\n",
       "      <td>0</td>\n",
       "      <td>NaT</td>\n",
       "    </tr>\n",
       "    <tr>\n",
       "      <th>375</th>\n",
       "      <td>xhub</td>\n",
       "      <td>xhub</td>\n",
       "      <td>0</td>\n",
       "      <td>NaT</td>\n",
       "    </tr>\n",
       "    <tr>\n",
       "      <th>376</th>\n",
       "      <td>breeze-admin</td>\n",
       "      <td>breeze-admin</td>\n",
       "      <td>0</td>\n",
       "      <td>NaT</td>\n",
       "    </tr>\n",
       "    <tr>\n",
       "      <th>377</th>\n",
       "      <td>ncn</td>\n",
       "      <td>ncn</td>\n",
       "      <td>0</td>\n",
       "      <td>NaT</td>\n",
       "    </tr>\n",
       "    <tr>\n",
       "      <th>378</th>\n",
       "      <td>nanowhim</td>\n",
       "      <td>nanowhim</td>\n",
       "      <td>0</td>\n",
       "      <td>NaT</td>\n",
       "    </tr>\n",
       "    <tr>\n",
       "      <th>379</th>\n",
       "      <td>mimi</td>\n",
       "      <td>Mimi</td>\n",
       "      <td>0</td>\n",
       "      <td>NaT</td>\n",
       "    </tr>\n",
       "    <tr>\n",
       "      <th>380</th>\n",
       "      <td>rappture-bat</td>\n",
       "      <td>rappture-bat</td>\n",
       "      <td>0</td>\n",
       "      <td>NaT</td>\n",
       "    </tr>\n",
       "    <tr>\n",
       "      <th>408</th>\n",
       "      <td>reliabilityhub</td>\n",
       "      <td></td>\n",
       "      <td>0</td>\n",
       "      <td>NaT</td>\n",
       "    </tr>\n",
       "    <tr>\n",
       "      <th>418</th>\n",
       "      <td>nmi</td>\n",
       "      <td>nmi</td>\n",
       "      <td>0</td>\n",
       "      <td>NaT</td>\n",
       "    </tr>\n",
       "    <tr>\n",
       "      <th>419</th>\n",
       "      <td>rp2</td>\n",
       "      <td>rp2</td>\n",
       "      <td>0</td>\n",
       "      <td>NaT</td>\n",
       "    </tr>\n",
       "    <tr>\n",
       "      <th>1471</th>\n",
       "      <td>maccalibrate</td>\n",
       "      <td></td>\n",
       "      <td>0</td>\n",
       "      <td>NaT</td>\n",
       "    </tr>\n",
       "    <tr>\n",
       "      <th>1472</th>\n",
       "      <td>maccalibrator</td>\n",
       "      <td>Calibrate the NASA MAC Rappture tool</td>\n",
       "      <td>0</td>\n",
       "      <td>NaT</td>\n",
       "    </tr>\n",
       "    <tr>\n",
       "      <th>1473</th>\n",
       "      <td>calibratemac</td>\n",
       "      <td></td>\n",
       "      <td>0</td>\n",
       "      <td>NaT</td>\n",
       "    </tr>\n",
       "    <tr>\n",
       "      <th>1474</th>\n",
       "      <td>microfsi</td>\n",
       "      <td></td>\n",
       "      <td>0</td>\n",
       "      <td>NaT</td>\n",
       "    </tr>\n",
       "    <tr>\n",
       "      <th>1475</th>\n",
       "      <td>deformchan</td>\n",
       "      <td></td>\n",
       "      <td>0</td>\n",
       "      <td>NaT</td>\n",
       "    </tr>\n",
       "    <tr>\n",
       "      <th>1476</th>\n",
       "      <td>dakotamac</td>\n",
       "      <td></td>\n",
       "      <td>0</td>\n",
       "      <td>NaT</td>\n",
       "    </tr>\n",
       "    <tr>\n",
       "      <th>1477</th>\n",
       "      <td>nasamaccalib</td>\n",
       "      <td></td>\n",
       "      <td>0</td>\n",
       "      <td>NaT</td>\n",
       "    </tr>\n",
       "  </tbody>\n",
       "</table>\n",
       "</div>"
      ],
      "text/plain": [
       "              toolname                                              title  \\\n",
       "1704    graphenetools1                                 Graphene Substrate   \n",
       "1705            random                                        random tool   \n",
       "1706              htq1                         Heat Transfer Quiz Trial 1   \n",
       "1707      gitlocaltool         My nanoHUB simulation tool using gitLocal.   \n",
       "1708   gitlocalrapptur      Example nanoHUB Rappture tool using git local   \n",
       "1709     githubexample          Example nanoHUB Jupyter tool using GitHub   \n",
       "1710          inverter                                      cmos Inverter   \n",
       "1711           pc4fury                            PhysiCell-Fury 3D tumor   \n",
       "1712       qucsngspice                                    Qucs with SPICE   \n",
       "1713   bsvirdcovidmodo  Modeling a COVID-19 Pandemic Using a BSVIRD Model   \n",
       "1714   bsvirdcovid19mo   Modeling a COVID-19 Pandemic with a BSVIRD Model   \n",
       "1715    mosfetsimulatn                                     mosfetsimulatn   \n",
       "345             cnt-iv                                             CNT-IV   \n",
       "346               dmgr                                     Design Manager   \n",
       "353             sequal                                             Sequal   \n",
       "355         staroffice                                         StarOffice   \n",
       "356           spicesoi                                       UFSOI/Spice3   \n",
       "358        devtesttool                                      Dev Test Tool   \n",
       "359        ncntesttool                                      NCN test tool   \n",
       "360               WTND                                    WTND Tool Title   \n",
       "361              wtest                                 My WTest Tool Test   \n",
       "362          Mynewtool                                        My New Tool   \n",
       "363            nanohub                                            nanoHUB   \n",
       "364   nanohub-for-kids                                   nanohub-for-kids   \n",
       "365             sysman                                             sysman   \n",
       "366    nanohub-support                                    nanohub-support   \n",
       "367            rkspack                                            rkspack   \n",
       "368         lib-gangli                  Gang Li's Library of Useful Stuff   \n",
       "369   rappture-runtime                                   rappture-runtime   \n",
       "370            hubzero                                            hubzero   \n",
       "371           rappture                                           rappture   \n",
       "372                 mw                                                 mw   \n",
       "373       ncn_students                                       ncn_students   \n",
       "374        pharmengine                                        pharmengine   \n",
       "375               xhub                                               xhub   \n",
       "376       breeze-admin                                       breeze-admin   \n",
       "377                ncn                                                ncn   \n",
       "378           nanowhim                                           nanowhim   \n",
       "379               mimi                                               Mimi   \n",
       "380       rappture-bat                                       rappture-bat   \n",
       "408     reliabilityhub                                                      \n",
       "418                nmi                                                nmi   \n",
       "419                rp2                                                rp2   \n",
       "1471      maccalibrate                                                      \n",
       "1472     maccalibrator               Calibrate the NASA MAC Rappture tool   \n",
       "1473      calibratemac                                                      \n",
       "1474          microfsi                                                      \n",
       "1475        deformchan                                                      \n",
       "1476         dakotamac                                                      \n",
       "1477      nasamaccalib                                                      \n",
       "\n",
       "      published          registered  \n",
       "1704          0 2020-12-29 23:42:44  \n",
       "1705          0 2021-01-01 00:05:55  \n",
       "1706          0 2021-01-02 15:45:16  \n",
       "1707          0 2021-01-10 17:49:31  \n",
       "1708          0 2021-01-12 15:43:00  \n",
       "1709          0 2021-01-12 16:02:56  \n",
       "1710          0 2021-01-13 02:10:28  \n",
       "1711          0 2021-01-13 11:26:35  \n",
       "1712          0 2021-01-15 23:25:03  \n",
       "1713          0 2021-01-18 19:40:46  \n",
       "1714          0 2021-01-18 20:35:02  \n",
       "1715          0 2021-01-19 04:05:36  \n",
       "345           0                 NaT  \n",
       "346           0                 NaT  \n",
       "353           0                 NaT  \n",
       "355           1                 NaT  \n",
       "356           0                 NaT  \n",
       "358           0                 NaT  \n",
       "359           0                 NaT  \n",
       "360           0                 NaT  \n",
       "361           0                 NaT  \n",
       "362           0                 NaT  \n",
       "363           0                 NaT  \n",
       "364           0                 NaT  \n",
       "365           0                 NaT  \n",
       "366           0                 NaT  \n",
       "367           0                 NaT  \n",
       "368           0                 NaT  \n",
       "369           0                 NaT  \n",
       "370           0                 NaT  \n",
       "371           0                 NaT  \n",
       "372           0                 NaT  \n",
       "373           0                 NaT  \n",
       "374           0                 NaT  \n",
       "375           0                 NaT  \n",
       "376           0                 NaT  \n",
       "377           0                 NaT  \n",
       "378           0                 NaT  \n",
       "379           0                 NaT  \n",
       "380           0                 NaT  \n",
       "408           0                 NaT  \n",
       "418           0                 NaT  \n",
       "419           0                 NaT  \n",
       "1471          0                 NaT  \n",
       "1472          0                 NaT  \n",
       "1473          0                 NaT  \n",
       "1474          0                 NaT  \n",
       "1475          0                 NaT  \n",
       "1476          0                 NaT  \n",
       "1477          0                 NaT  "
      ]
     },
     "metadata": {},
     "output_type": "display_data"
    },
    {
     "name": "stdout",
     "output_type": "stream",
     "text": [
      "(1716, 4)\n"
     ]
    }
   ],
   "source": [
    "df = df.sort_values(by='registered')\n",
    "display(df.head(5))\n",
    "display(df.tail(50))\n",
    "print(df.shape)"
   ]
  },
  {
   "cell_type": "code",
   "execution_count": 6,
   "metadata": {
    "execution": {
     "iopub.execute_input": "2021-01-21T06:30:42.824218Z",
     "iopub.status.busy": "2021-01-21T06:30:42.823610Z",
     "iopub.status.idle": "2021-01-21T06:30:42.858212Z",
     "shell.execute_reply": "2021-01-21T06:30:42.846429Z"
    },
    "papermill": {
     "duration": 0.140228,
     "end_time": "2021-01-21T06:30:42.858367",
     "exception": false,
     "start_time": "2021-01-21T06:30:42.718139",
     "status": "completed"
    },
    "tags": []
   },
   "outputs": [
    {
     "name": "stdout",
     "output_type": "stream",
     "text": [
      "1578\n",
      "toolname                                citrinednn\n",
      "title         Hands-on Deep Learning for Materials\n",
      "published                                        1\n",
      "registered                     2020-05-27 14:49:06\n",
      "Name: 1617, dtype: object\n"
     ]
    }
   ],
   "source": [
    "# debugging\n",
    "print(df['toolname'].to_list().index('citrinednn'))\n",
    "print(df.iloc[df['toolname'].to_list().index('citrinednn'),:])"
   ]
  },
  {
   "cell_type": "code",
   "execution_count": 7,
   "metadata": {
    "execution": {
     "iopub.execute_input": "2021-01-21T06:30:43.065559Z",
     "iopub.status.busy": "2021-01-21T06:30:43.064927Z",
     "iopub.status.idle": "2021-01-21T06:30:43.067570Z",
     "shell.execute_reply": "2021-01-21T06:30:43.067028Z"
    },
    "papermill": {
     "duration": 0.136857,
     "end_time": "2021-01-21T06:30:43.067714",
     "exception": false,
     "start_time": "2021-01-21T06:30:42.930857",
     "status": "completed"
    },
    "tags": []
   },
   "outputs": [
    {
     "data": {
      "text/plain": [
       "True"
      ]
     },
     "execution_count": 7,
     "metadata": {},
     "output_type": "execute_result"
    }
   ],
   "source": [
    "'mldefect' in df['toolname'].to_list()"
   ]
  },
  {
   "cell_type": "raw",
   "metadata": {
    "papermill": {
     "duration": 0.095395,
     "end_time": "2021-01-21T06:30:43.248116",
     "exception": false,
     "start_time": "2021-01-21T06:30:43.152721",
     "status": "completed"
    },
    "tags": []
   },
   "source": [
    "+-------------------+----------+\n",
    "| user              | cnt      |\n",
    "+-------------------+----------+\n",
    "| instanton         | 12192882 |\n",
    "| gridstat          |  8001390 |\n",
    "| enassakr          |   363553 |\n",
    "| luisetepor        |   340823 |\n",
    "| falkke87          |   282754 |\n",
    "| jovenpaoloangeles |   264310 |\n",
    "| hamu8278          |   210741 |\n",
    "| denphi            |   167766 |\n",
    "| iago              |   164634 |\n",
    "| clarksm           |   147987 |\n",
    "+-------------------+----------+"
   ]
  },
  {
   "cell_type": "code",
   "execution_count": 8,
   "metadata": {
    "execution": {
     "iopub.execute_input": "2021-01-21T06:30:43.445049Z",
     "iopub.status.busy": "2021-01-21T06:30:43.444508Z",
     "iopub.status.idle": "2021-01-21T06:30:43.536408Z",
     "shell.execute_reply": "2021-01-21T06:30:43.535702Z"
    },
    "papermill": {
     "duration": 0.207527,
     "end_time": "2021-01-21T06:30:43.536549",
     "exception": false,
     "start_time": "2021-01-21T06:30:43.329022",
     "status": "completed"
    },
    "tags": []
   },
   "outputs": [
    {
     "data": {
      "text/html": [
       "<div>\n",
       "<style scoped>\n",
       "    .dataframe tbody tr th:only-of-type {\n",
       "        vertical-align: middle;\n",
       "    }\n",
       "\n",
       "    .dataframe tbody tr th {\n",
       "        vertical-align: top;\n",
       "    }\n",
       "\n",
       "    .dataframe thead th {\n",
       "        text-align: right;\n",
       "    }\n",
       "</style>\n",
       "<table border=\"1\" class=\"dataframe\">\n",
       "  <thead>\n",
       "    <tr style=\"text-align: right;\">\n",
       "      <th></th>\n",
       "      <th>tool_version_id</th>\n",
       "      <th>alias</th>\n",
       "    </tr>\n",
       "  </thead>\n",
       "  <tbody>\n",
       "    <tr>\n",
       "      <th>0</th>\n",
       "      <td>977</td>\n",
       "      <td>2ds</td>\n",
       "    </tr>\n",
       "    <tr>\n",
       "      <th>1</th>\n",
       "      <td>978</td>\n",
       "      <td>abinit</td>\n",
       "    </tr>\n",
       "  </tbody>\n",
       "</table>\n",
       "</div>"
      ],
      "text/plain": [
       "   tool_version_id   alias\n",
       "0              977     2ds\n",
       "1              978  abinit"
      ]
     },
     "execution_count": 8,
     "metadata": {},
     "output_type": "execute_result"
    }
   ],
   "source": [
    "# Basic tool information\n",
    "sql_query = \"select * from jos_tool_version_alias\"\n",
    "\n",
    "df_jtva = pd.read_sql_query(sql_query, nanohub_db)\n",
    "\n",
    "# display\n",
    "df_jtva.head(2)"
   ]
  },
  {
   "cell_type": "code",
   "execution_count": 9,
   "metadata": {
    "execution": {
     "iopub.execute_input": "2021-01-21T06:30:43.675116Z",
     "iopub.status.busy": "2021-01-21T06:30:43.674513Z",
     "iopub.status.idle": "2021-01-21T06:30:43.694809Z",
     "shell.execute_reply": "2021-01-21T06:30:43.693958Z"
    },
    "papermill": {
     "duration": 0.12098,
     "end_time": "2021-01-21T06:30:43.694939",
     "exception": false,
     "start_time": "2021-01-21T06:30:43.573959",
     "status": "completed"
    },
    "tags": []
   },
   "outputs": [
    {
     "data": {
      "text/plain": [
       "False"
      ]
     },
     "execution_count": 9,
     "metadata": {},
     "output_type": "execute_result"
    }
   ],
   "source": [
    "'mldefect' in df_jtva['alias'].to_list()"
   ]
  },
  {
   "cell_type": "code",
   "execution_count": null,
   "metadata": {
    "papermill": {
     "duration": 0.102244,
     "end_time": "2021-01-21T06:30:43.881089",
     "exception": false,
     "start_time": "2021-01-21T06:30:43.778845",
     "status": "completed"
    },
    "tags": []
   },
   "outputs": [],
   "source": []
  },
  {
   "cell_type": "markdown",
   "metadata": {
    "papermill": {
     "duration": 0.117909,
     "end_time": "2021-01-21T06:30:44.047026",
     "exception": false,
     "start_time": "2021-01-21T06:30:43.929117",
     "status": "completed"
    },
    "tags": []
   },
   "source": [
    "## Building new SQL queries that roll up instances"
   ]
  },
  {
   "cell_type": "code",
   "execution_count": 10,
   "metadata": {
    "execution": {
     "iopub.execute_input": "2021-01-21T06:30:44.216635Z",
     "iopub.status.busy": "2021-01-21T06:30:44.216076Z",
     "iopub.status.idle": "2021-01-21T06:30:44.597063Z",
     "shell.execute_reply": "2021-01-21T06:30:44.585686Z"
    },
    "papermill": {
     "duration": 0.474186,
     "end_time": "2021-01-21T06:30:44.597227",
     "exception": false,
     "start_time": "2021-01-21T06:30:44.123041",
     "status": "completed"
    },
    "tags": []
   },
   "outputs": [
    {
     "data": {
      "text/html": [
       "<div>\n",
       "<style scoped>\n",
       "    .dataframe tbody tr th:only-of-type {\n",
       "        vertical-align: middle;\n",
       "    }\n",
       "\n",
       "    .dataframe tbody tr th {\n",
       "        vertical-align: top;\n",
       "    }\n",
       "\n",
       "    .dataframe thead th {\n",
       "        text-align: right;\n",
       "    }\n",
       "</style>\n",
       "<table border=\"1\" class=\"dataframe\">\n",
       "  <thead>\n",
       "    <tr style=\"text-align: right;\">\n",
       "      <th></th>\n",
       "      <th>toolname</th>\n",
       "      <th>instance</th>\n",
       "    </tr>\n",
       "  </thead>\n",
       "  <tbody>\n",
       "    <tr>\n",
       "      <th>0</th>\n",
       "      <td></td>\n",
       "      <td></td>\n",
       "    </tr>\n",
       "    <tr>\n",
       "      <th>1</th>\n",
       "      <td>112016a</td>\n",
       "      <td>112016a_dev</td>\n",
       "    </tr>\n",
       "    <tr>\n",
       "      <th>2</th>\n",
       "      <td>1dbtetransient</td>\n",
       "      <td>1dbtetransient_dev</td>\n",
       "    </tr>\n",
       "    <tr>\n",
       "      <th>3</th>\n",
       "      <td>1dchainmd</td>\n",
       "      <td>1dchainmd_dev</td>\n",
       "    </tr>\n",
       "    <tr>\n",
       "      <th>4</th>\n",
       "      <td>1dchainmd</td>\n",
       "      <td>1dchainmd_r13</td>\n",
       "    </tr>\n",
       "  </tbody>\n",
       "</table>\n",
       "</div>"
      ],
      "text/plain": [
       "         toolname            instance\n",
       "0                                    \n",
       "1         112016a         112016a_dev\n",
       "2  1dbtetransient  1dbtetransient_dev\n",
       "3       1dchainmd       1dchainmd_dev\n",
       "4       1dchainmd       1dchainmd_r13"
      ]
     },
     "metadata": {},
     "output_type": "display_data"
    },
    {
     "name": "stdout",
     "output_type": "stream",
     "text": [
      "(4896, 2)\n"
     ]
    }
   ],
   "source": [
    "# pull all tools in DB2\n",
    "sql_tools = 'select toolname, instance from nanohub.jos_tool_version;'\n",
    "tools_df = pd.read_sql_query(sql_tools,nanohub_db)\n",
    "display(tools_df.head(5))\n",
    "print(tools_df.shape)"
   ]
  },
  {
   "cell_type": "code",
   "execution_count": 11,
   "metadata": {
    "execution": {
     "iopub.execute_input": "2021-01-21T06:30:44.714530Z",
     "iopub.status.busy": "2021-01-21T06:30:44.713927Z",
     "iopub.status.idle": "2021-01-21T06:30:44.727689Z",
     "shell.execute_reply": "2021-01-21T06:30:44.727173Z"
    },
    "papermill": {
     "duration": 0.09024,
     "end_time": "2021-01-21T06:30:44.727842",
     "exception": false,
     "start_time": "2021-01-21T06:30:44.637602",
     "status": "completed"
    },
    "tags": []
   },
   "outputs": [
    {
     "data": {
      "text/plain": [
       "True"
      ]
     },
     "execution_count": 11,
     "metadata": {},
     "output_type": "execute_result"
    }
   ],
   "source": [
    "'mldefect' in tools_df['toolname'].to_list()"
   ]
  },
  {
   "cell_type": "code",
   "execution_count": 12,
   "metadata": {
    "execution": {
     "iopub.execute_input": "2021-01-21T06:30:44.825711Z",
     "iopub.status.busy": "2021-01-21T06:30:44.825133Z",
     "iopub.status.idle": "2021-01-21T06:30:47.477712Z",
     "shell.execute_reply": "2021-01-21T06:30:47.477232Z"
    },
    "papermill": {
     "duration": 2.704056,
     "end_time": "2021-01-21T06:30:47.477867",
     "exception": false,
     "start_time": "2021-01-21T06:30:44.773811",
     "status": "completed"
    },
    "tags": []
   },
   "outputs": [
    {
     "data": {
      "text/plain": [
       "False"
      ]
     },
     "execution_count": 12,
     "metadata": {},
     "output_type": "execute_result"
    }
   ],
   "source": [
    "## debugging for Tanya\n",
    "# jos_resource_stats_clusters\n",
    "ql = 'select toolname from jos_resource_stats_clusters;'\n",
    "df_ql = pd.read_sql_query(ql,nanohub_db)\n",
    "'mldefect' in df_ql['toolname'].to_list()\n"
   ]
  },
  {
   "cell_type": "code",
   "execution_count": 13,
   "metadata": {
    "execution": {
     "iopub.execute_input": "2021-01-21T06:30:47.647237Z",
     "iopub.status.busy": "2021-01-21T06:30:47.646149Z",
     "iopub.status.idle": "2021-01-21T06:30:47.648661Z",
     "shell.execute_reply": "2021-01-21T06:30:47.646646Z"
    },
    "papermill": {
     "duration": 0.133513,
     "end_time": "2021-01-21T06:30:47.648794",
     "exception": false,
     "start_time": "2021-01-21T06:30:47.515281",
     "status": "completed"
    },
    "tags": []
   },
   "outputs": [
    {
     "data": {
      "text/html": [
       "<div>\n",
       "<style scoped>\n",
       "    .dataframe tbody tr th:only-of-type {\n",
       "        vertical-align: middle;\n",
       "    }\n",
       "\n",
       "    .dataframe tbody tr th {\n",
       "        vertical-align: top;\n",
       "    }\n",
       "\n",
       "    .dataframe thead th {\n",
       "        text-align: right;\n",
       "    }\n",
       "</style>\n",
       "<table border=\"1\" class=\"dataframe\">\n",
       "  <thead>\n",
       "    <tr style=\"text-align: right;\">\n",
       "      <th></th>\n",
       "      <th>toolname</th>\n",
       "    </tr>\n",
       "  </thead>\n",
       "  <tbody>\n",
       "    <tr>\n",
       "      <th>0</th>\n",
       "      <td>1dchainmd</td>\n",
       "    </tr>\n",
       "    <tr>\n",
       "      <th>1</th>\n",
       "      <td>1dchainmd</td>\n",
       "    </tr>\n",
       "    <tr>\n",
       "      <th>2</th>\n",
       "      <td>1dchainmd</td>\n",
       "    </tr>\n",
       "    <tr>\n",
       "      <th>3</th>\n",
       "      <td>1dchainmd</td>\n",
       "    </tr>\n",
       "    <tr>\n",
       "      <th>4</th>\n",
       "      <td>1dchainmd</td>\n",
       "    </tr>\n",
       "  </tbody>\n",
       "</table>\n",
       "</div>"
      ],
      "text/plain": [
       "    toolname\n",
       "0  1dchainmd\n",
       "1  1dchainmd\n",
       "2  1dchainmd\n",
       "3  1dchainmd\n",
       "4  1dchainmd"
      ]
     },
     "execution_count": 13,
     "metadata": {},
     "output_type": "execute_result"
    }
   ],
   "source": [
    "df_ql.head(5)"
   ]
  },
  {
   "cell_type": "code",
   "execution_count": 14,
   "metadata": {
    "execution": {
     "iopub.execute_input": "2021-01-21T06:30:47.840706Z",
     "iopub.status.busy": "2021-01-21T06:30:47.840070Z",
     "iopub.status.idle": "2021-01-21T06:30:48.365133Z",
     "shell.execute_reply": "2021-01-21T06:30:48.353095Z"
    },
    "papermill": {
     "duration": 0.674525,
     "end_time": "2021-01-21T06:30:48.365304",
     "exception": false,
     "start_time": "2021-01-21T06:30:47.690779",
     "status": "completed"
    },
    "tags": []
   },
   "outputs": [
    {
     "data": {
      "text/plain": [
       "True"
      ]
     },
     "execution_count": 14,
     "metadata": {},
     "output_type": "execute_result"
    }
   ],
   "source": [
    "# jos_tool_authors\n",
    "ql = 'select toolname from jos_tool_authors;'\n",
    "df_ql = pd.read_sql_query(ql,nanohub_db)\n",
    "'mldefect' in df_ql['toolname'].to_list()\n",
    "\n"
   ]
  },
  {
   "cell_type": "code",
   "execution_count": 15,
   "metadata": {
    "execution": {
     "iopub.execute_input": "2021-01-21T06:30:48.540157Z",
     "iopub.status.busy": "2021-01-21T06:30:48.539540Z",
     "iopub.status.idle": "2021-01-21T06:30:48.625633Z",
     "shell.execute_reply": "2021-01-21T06:30:48.625094Z"
    },
    "papermill": {
     "duration": 0.19809,
     "end_time": "2021-01-21T06:30:48.625775",
     "exception": false,
     "start_time": "2021-01-21T06:30:48.427685",
     "status": "completed"
    },
    "tags": []
   },
   "outputs": [
    {
     "data": {
      "text/html": [
       "<div>\n",
       "<style scoped>\n",
       "    .dataframe tbody tr th:only-of-type {\n",
       "        vertical-align: middle;\n",
       "    }\n",
       "\n",
       "    .dataframe tbody tr th {\n",
       "        vertical-align: top;\n",
       "    }\n",
       "\n",
       "    .dataframe thead th {\n",
       "        text-align: right;\n",
       "    }\n",
       "</style>\n",
       "<table border=\"1\" class=\"dataframe\">\n",
       "  <thead>\n",
       "    <tr style=\"text-align: right;\">\n",
       "      <th></th>\n",
       "      <th>toolname</th>\n",
       "    </tr>\n",
       "  </thead>\n",
       "  <tbody>\n",
       "    <tr>\n",
       "      <th>0</th>\n",
       "      <td>1dchainmd</td>\n",
       "    </tr>\n",
       "    <tr>\n",
       "      <th>1</th>\n",
       "      <td>1dchainmd</td>\n",
       "    </tr>\n",
       "    <tr>\n",
       "      <th>2</th>\n",
       "      <td>1dchainmd</td>\n",
       "    </tr>\n",
       "    <tr>\n",
       "      <th>3</th>\n",
       "      <td>1dchainmd</td>\n",
       "    </tr>\n",
       "    <tr>\n",
       "      <th>4</th>\n",
       "      <td>1dfdmht</td>\n",
       "    </tr>\n",
       "  </tbody>\n",
       "</table>\n",
       "</div>"
      ],
      "text/plain": [
       "    toolname\n",
       "0  1dchainmd\n",
       "1  1dchainmd\n",
       "2  1dchainmd\n",
       "3  1dchainmd\n",
       "4    1dfdmht"
      ]
     },
     "execution_count": 15,
     "metadata": {},
     "output_type": "execute_result"
    }
   ],
   "source": [
    "df_ql.head(5)"
   ]
  },
  {
   "cell_type": "code",
   "execution_count": 16,
   "metadata": {
    "execution": {
     "iopub.execute_input": "2021-01-21T06:30:48.783560Z",
     "iopub.status.busy": "2021-01-21T06:30:48.782981Z",
     "iopub.status.idle": "2021-01-21T06:30:48.925790Z",
     "shell.execute_reply": "2021-01-21T06:30:48.925316Z"
    },
    "papermill": {
     "duration": 0.247788,
     "end_time": "2021-01-21T06:30:48.925923",
     "exception": false,
     "start_time": "2021-01-21T06:30:48.678135",
     "status": "completed"
    },
    "tags": []
   },
   "outputs": [
    {
     "data": {
      "text/plain": [
       "False"
      ]
     },
     "execution_count": 16,
     "metadata": {},
     "output_type": "execute_result"
    }
   ],
   "source": [
    "## nanohub_metrics trials\n",
    "# metrics_tool_version\n",
    "ql_metrics = 'select toolname from nanohub_metrics.metrics_tool_version;'\n",
    "mdf = pd.read_sql_query(ql_metrics,nanohub_metrics_db)\n",
    "\n",
    "'mldefect' in mdf['toolname'].to_list()"
   ]
  },
  {
   "cell_type": "code",
   "execution_count": 17,
   "metadata": {
    "execution": {
     "iopub.execute_input": "2021-01-21T06:30:49.042288Z",
     "iopub.status.busy": "2021-01-21T06:30:49.041626Z",
     "iopub.status.idle": "2021-01-21T06:30:49.058221Z",
     "shell.execute_reply": "2021-01-21T06:30:49.057725Z"
    },
    "papermill": {
     "duration": 0.086693,
     "end_time": "2021-01-21T06:30:49.058377",
     "exception": false,
     "start_time": "2021-01-21T06:30:48.971684",
     "status": "completed"
    },
    "tags": []
   },
   "outputs": [
    {
     "data": {
      "text/html": [
       "<div>\n",
       "<style scoped>\n",
       "    .dataframe tbody tr th:only-of-type {\n",
       "        vertical-align: middle;\n",
       "    }\n",
       "\n",
       "    .dataframe tbody tr th {\n",
       "        vertical-align: top;\n",
       "    }\n",
       "\n",
       "    .dataframe thead th {\n",
       "        text-align: right;\n",
       "    }\n",
       "</style>\n",
       "<table border=\"1\" class=\"dataframe\">\n",
       "  <thead>\n",
       "    <tr style=\"text-align: right;\">\n",
       "      <th></th>\n",
       "      <th>toolname</th>\n",
       "    </tr>\n",
       "  </thead>\n",
       "  <tbody>\n",
       "    <tr>\n",
       "      <th>0</th>\n",
       "      <td>1dchainmd</td>\n",
       "    </tr>\n",
       "    <tr>\n",
       "      <th>1</th>\n",
       "      <td>1dchainmd</td>\n",
       "    </tr>\n",
       "    <tr>\n",
       "      <th>2</th>\n",
       "      <td>1dfdmht</td>\n",
       "    </tr>\n",
       "    <tr>\n",
       "      <th>3</th>\n",
       "      <td>1dfs</td>\n",
       "    </tr>\n",
       "    <tr>\n",
       "      <th>4</th>\n",
       "      <td>1dhetero</td>\n",
       "    </tr>\n",
       "  </tbody>\n",
       "</table>\n",
       "</div>"
      ],
      "text/plain": [
       "    toolname\n",
       "0  1dchainmd\n",
       "1  1dchainmd\n",
       "2    1dfdmht\n",
       "3       1dfs\n",
       "4   1dhetero"
      ]
     },
     "metadata": {},
     "output_type": "display_data"
    },
    {
     "data": {
      "text/html": [
       "<div>\n",
       "<style scoped>\n",
       "    .dataframe tbody tr th:only-of-type {\n",
       "        vertical-align: middle;\n",
       "    }\n",
       "\n",
       "    .dataframe tbody tr th {\n",
       "        vertical-align: top;\n",
       "    }\n",
       "\n",
       "    .dataframe thead th {\n",
       "        text-align: right;\n",
       "    }\n",
       "</style>\n",
       "<table border=\"1\" class=\"dataframe\">\n",
       "  <thead>\n",
       "    <tr style=\"text-align: right;\">\n",
       "      <th></th>\n",
       "      <th>toolname</th>\n",
       "    </tr>\n",
       "  </thead>\n",
       "  <tbody>\n",
       "    <tr>\n",
       "      <th>1867</th>\n",
       "      <td>xfig</td>\n",
       "    </tr>\n",
       "    <tr>\n",
       "      <th>1868</th>\n",
       "      <td>xhub</td>\n",
       "    </tr>\n",
       "    <tr>\n",
       "      <th>1869</th>\n",
       "      <td>xterm</td>\n",
       "    </tr>\n",
       "    <tr>\n",
       "      <th>1870</th>\n",
       "      <td>xterm</td>\n",
       "    </tr>\n",
       "    <tr>\n",
       "      <th>1871</th>\n",
       "      <td>yambo</td>\n",
       "    </tr>\n",
       "  </tbody>\n",
       "</table>\n",
       "</div>"
      ],
      "text/plain": [
       "     toolname\n",
       "1867     xfig\n",
       "1868     xhub\n",
       "1869    xterm\n",
       "1870    xterm\n",
       "1871    yambo"
      ]
     },
     "metadata": {},
     "output_type": "display_data"
    },
    {
     "name": "stdout",
     "output_type": "stream",
     "text": [
      "(1872, 1)\n"
     ]
    }
   ],
   "source": [
    "display(mdf.head(5))\n",
    "display(mdf.tail(5))\n",
    "print(mdf.shape)"
   ]
  },
  {
   "cell_type": "code",
   "execution_count": 18,
   "metadata": {
    "execution": {
     "iopub.execute_input": "2021-01-21T06:30:49.208574Z",
     "iopub.status.busy": "2021-01-21T06:30:49.207953Z",
     "iopub.status.idle": "2021-01-21T06:30:49.249510Z",
     "shell.execute_reply": "2021-01-21T06:30:49.249044Z"
    },
    "papermill": {
     "duration": 0.126077,
     "end_time": "2021-01-21T06:30:49.249653",
     "exception": false,
     "start_time": "2021-01-21T06:30:49.123576",
     "status": "completed"
    },
    "tags": []
   },
   "outputs": [
    {
     "data": {
      "text/plain": [
       "['mimi',\n",
       " 'minimol',\n",
       " 'minimol',\n",
       " 'minimol',\n",
       " 'minimol',\n",
       " 'minimol',\n",
       " 'minimos',\n",
       " 'minimos',\n",
       " 'minimos',\n",
       " 'mmfl',\n",
       " 'mmst',\n",
       " 'mmst',\n",
       " 'mmst',\n",
       " 'mmst',\n",
       " 'mmst',\n",
       " 'mmsttf',\n",
       " 'mmsttf',\n",
       " 'mmsttf',\n",
       " 'mmsttf',\n",
       " 'moca']"
      ]
     },
     "execution_count": 18,
     "metadata": {},
     "output_type": "execute_result"
    }
   ],
   "source": [
    "mdf['toolname'].to_list()[730:750]"
   ]
  },
  {
   "cell_type": "code",
   "execution_count": null,
   "metadata": {
    "papermill": {
     "duration": 0.062252,
     "end_time": "2021-01-21T06:30:49.358643",
     "exception": false,
     "start_time": "2021-01-21T06:30:49.296391",
     "status": "completed"
    },
    "tags": []
   },
   "outputs": [],
   "source": []
  },
  {
   "cell_type": "code",
   "execution_count": null,
   "metadata": {
    "papermill": {
     "duration": 0.050837,
     "end_time": "2021-01-21T06:30:49.469637",
     "exception": false,
     "start_time": "2021-01-21T06:30:49.418800",
     "status": "completed"
    },
    "tags": []
   },
   "outputs": [],
   "source": []
  },
  {
   "cell_type": "code",
   "execution_count": null,
   "metadata": {
    "papermill": {
     "duration": 0.067419,
     "end_time": "2021-01-21T06:30:49.588390",
     "exception": false,
     "start_time": "2021-01-21T06:30:49.520971",
     "status": "completed"
    },
    "tags": []
   },
   "outputs": [],
   "source": []
  },
  {
   "cell_type": "code",
   "execution_count": null,
   "metadata": {
    "papermill": {
     "duration": 0.083073,
     "end_time": "2021-01-21T06:30:49.725179",
     "exception": false,
     "start_time": "2021-01-21T06:30:49.642106",
     "status": "completed"
    },
    "tags": []
   },
   "outputs": [],
   "source": []
  },
  {
   "cell_type": "code",
   "execution_count": null,
   "metadata": {
    "papermill": {
     "duration": 0.057281,
     "end_time": "2021-01-21T06:30:49.871584",
     "exception": false,
     "start_time": "2021-01-21T06:30:49.814303",
     "status": "completed"
    },
    "tags": []
   },
   "outputs": [],
   "source": []
  },
  {
   "cell_type": "code",
   "execution_count": 19,
   "metadata": {
    "execution": {
     "iopub.execute_input": "2021-01-21T06:30:50.114716Z",
     "iopub.status.busy": "2021-01-21T06:30:50.114129Z",
     "iopub.status.idle": "2021-01-21T06:30:50.231117Z",
     "shell.execute_reply": "2021-01-21T06:30:50.214894Z"
    },
    "papermill": {
     "duration": 0.287695,
     "end_time": "2021-01-21T06:30:50.231301",
     "exception": false,
     "start_time": "2021-01-21T06:30:49.943606",
     "status": "completed"
    },
    "tags": []
   },
   "outputs": [],
   "source": [
    "# create a dict strictly of toolnames and their instances\n",
    "grouped_tools = tools_df.groupby(['toolname']).groups #this is a dict already; need to change the value pairs\n",
    "import numpy as np\n",
    "tn_instances = tools_df['instance'].to_numpy()\n",
    "for i,j in grouped_tools.items():\n",
    "    grouped_tools[i] = tuple(tn_instances[j])"
   ]
  },
  {
   "cell_type": "code",
   "execution_count": 20,
   "metadata": {
    "execution": {
     "iopub.execute_input": "2021-01-21T06:30:50.369695Z",
     "iopub.status.busy": "2021-01-21T06:30:50.369123Z",
     "iopub.status.idle": "2021-01-21T06:30:50.442603Z",
     "shell.execute_reply": "2021-01-21T06:30:50.443264Z"
    },
    "papermill": {
     "duration": 0.155574,
     "end_time": "2021-01-21T06:30:50.443431",
     "exception": false,
     "start_time": "2021-01-21T06:30:50.287857",
     "status": "completed"
    },
    "tags": []
   },
   "outputs": [
    {
     "name": "stdout",
     "output_type": "stream",
     "text": [
      "{'': ('',), '112016a': ('112016a_dev',), '1dbtetransient': ('1dbtetransient_dev',), '1dchainmd': ('1dchainmd_dev', '1dchainmd_r13', '1dchainmd_r15'), '1dfdmht': ('1dfdmht_dev', '1dfdmht_r24', '1dfdmht_r26', '1dfdmht_r28'), '1dfs': ('1dfs_dev',), '1dhetero': ('1dhetero_dev', '1dhetero_r10', '1dhetero_r13', '1dhetero_r14', '1dhetero_r298', '1dhetero_r299', '1dhetero_r30', '1dhetero_r301', '1dhetero_r303', '1dhetero_r309', '1dhetero_r531', '1dhetero_r532', '1dhetero_r540', '1dhetero_r600', '1dhetero_r689', '1dhetero_r694', '1dhetero_r733', '1dhetero_r739', '1dhetero_r740', '1dhetero_r742'), '1dmd': ('1dmd_dev',), '1dnegf': ('1dnegf_dev',), '1doscillationla': ('1doscillationla_dev',), '1dphononbte': ('1dphononbte_dev', '1dphononbte_r5', '1dphononbte_r9'), '1sl': ('1sl_dev',), '2degpot': ('2degpot_dev',), '2dmatstacks': ('2dmatstacks_dev', '2dmatstacks_r33', '2dmatstacks_r36'), '2dreflect': ('2dreflect_dev', '2dreflect_r29', '2dreflect_r44'), '2ds': ('2ds', '2ds_dev'), '2wth': ('2wth_dev',), '3datomsmodel': ('3datomsmodel_dev',), '3dmatopt': ('3dmatopt_dev', '3dmatopt_r27'), '3drftsv': ('3drftsv_dev',), 'Mynewtool': ('Mynewtool_dev',), 'WTND': ('WTND_dev',), 'abacus': ('abacus_dev', 'abacus_r11', 'abacus_r14', 'abacus_r15', 'abacus_r22', 'abacus_r23', 'abacus_r25', 'abacus_r28', 'abacus_r31', 'abacus_r36', 'abacus_r8'), 'abase': ('abase_dev', 'abase_r6', 'abase_r8', 'abase_r9'), 'abdullah': ('abdullah_dev',), 'abinit': ('abinit', 'abinit_dev', 'abinit_r100', 'abinit_r103', 'abinit_r104', 'abinit_r105', 'abinit_r108', 'abinit_r109', 'abinit_r110', 'abinit_r111', 'abinit_r112', 'abinit_r114', 'abinit_r116', 'abinit_r118', 'abinit_r120', 'abinit_r121', 'abinit_r127', 'abinit_r130', 'abinit_r134', 'abinit_r135', 'abinit_r136', 'abinit_r137', 'abinit_r140', 'abinit_r147', 'abinit_r151', 'abinit_r152', 'abinit_r153', 'abinit_r154', 'abinit_r98'), 'abrm': ('abrm_dev',), 'aci': ('aci_dev',), 'acmenpds': ('acmenpds_dev', 'acmenpds_r41', 'acmenpds_r43', 'acmenpds_r44', 'acmenpds_r46', 'acmenpds_r49', 'acmenpds_r51'), 'acsa': ('acsa_dev',), 'acteomdb': ('acteomdb_dev', 'acteomdb_r5'), 'acute': ('acute_dev', 'acute_r5', 'acute_r9'), 'adac': ('adac_dev', 'adac_r1016', 'adac_r1027', 'adac_r103', 'adac_r1067', 'adac_r1072', 'adac_r1107', 'adac_r1119', 'adac_r117', 'adac_r296', 'adac_r303', 'adac_r328', 'adac_r481', 'adac_r514', 'adac_r519', 'adac_r524', 'adac_r551', 'adac_r596', 'adac_r600', 'adac_r607', 'adac_r653', 'adac_r682', 'adac_r723', 'adac_r726', 'adac_r737', 'adac_r738', 'adac_r774', 'adac_r794', 'adac_r799', 'adac_r823', 'adac_r906', 'adac_r912', 'adac_r921', 'adac_r951', 'adac_r994'), 'adept': ('adept', 'adept_dev', 'adept_r16', 'adept_r32'), 'adeptnpt': ('adeptnpt_dev', 'adeptnpt_r134', 'adeptnpt_r138', 'adeptnpt_r151', 'adeptnpt_r18', 'adeptnpt_r20', 'adeptnpt_r22', 'adeptnpt_r24', 'adeptnpt_r25', 'adeptnpt_r27', 'adeptnpt_r30', 'adeptnpt_r65', 'adeptnpt_r67', 'adeptnpt_r96', 'adeptnpt_r98'), 'adriene': ('adriene_dev',), 'adrienne': ('adrienne_dev',), 'ads2009': ('ads2009_dev',), 'adsorbit': ('adsorbit_dev',), 'adspr': ('adspr_dev',), 'advmemristor': ('advmemristor_dev',), 'advqdlab': ('advqdlab_dev',), 'advte': ('advte_dev', 'advte_r15'), 'aeneas': ('aeneas_dev',), 'afm': ('afm_dev', 'afm_r12', 'afm_r7'), 'afmfcanalysis': ('afmfcanalysis_dev',), 'aforce': ('aforce_dev',), 'aftestname': ('aftestname_dev',), 'agingmodel': ('agingmodel_dev',), 'agpvsim': ('agpvsim_dev', 'agpvsim_r37', 'agpvsim_r38', 'agpvsim_r41'), 'agropvsim': ('agropvsim_dev',), 'ahpull': ('ahpull_dev', 'ahpull_r25', 'ahpull_r27'), 'alissatesttool': ('alissatesttool_dev',), 'amidespec': ('amidespec_dev', 'amidespec_r6'), 'amobt': ('amobt_dev', 'amobt_r29', 'amobt_r31', 'amobt_r32', 'amobt_r33', 'amobt_r35', 'amobt_r37', 'amobt_r38', 'amobt_r39', 'amobt_r42', 'amobt_r46', 'amobt_r48', 'amobt_r49', 'amobt_r51'), 'anaconda': ('anaconda_dev',), 'anashousbane': ('anashousbane_dev',), 'angel': ('angel_dev', 'angel_r41', 'angel_r50'), 'angiogencc3d': ('angiogencc3d_dev', 'angiogencc3d_r5', 'angiogencc3d_r8'), 'anngraph': ('anngraph_dev', 'anngraph_r36'), 'annihilate': ('annihilate_dev', 'annihilate_r24', 'annihilate_r27', 'annihilate_r28'), 'annviz': ('annviz_dev',), 'ansys': ('ansys', 'ansys_dev'), 'antsy': ('antsy_dev', 'antsy_r11', 'antsy_r13', 'antsy_r15', 'antsy_r7', 'antsy_r9'), 'appapi': ('appapi_dev',), 'apu': ('apu_dev',), 'aqme': ('aqme_dev', 'aqme_r11', 'aqme_r14', 'aqme_r6', 'aqme_r8', 'aqme_r9'), 'arbd': ('arbd_dev', 'arbd_r13'), 'archimedes': ('archimedes_dev', 'archimedes_r17', 'archimedes_r22', 'archimedes_r47', 'archimedes_r61', 'archimedes_r68', 'archimedes_r71'), 'arraypmod': ('arraypmod_dev',), 'aru': ('aru_dev',), 'asdasdasdasdasd': ('asdasdasdasdasd_dev',), 'ase': ('ase_dev',), 'asegui': ('asegui_dev',), 'asetool': ('asetool_dev',), 'asilicon': ('asilicon_dev', 'asilicon_r15', 'asilicon_r22', 'asilicon_r24'), 'astarspin': ('astarspin_dev',), 'asts': ('asts_dev', 'asts_r3', 'asts_r8'), 'asynchup': ('asynchup_dev', 'asynchup_r10', 'asynchup_r12', 'asynchup_r7'), 'atcadlab': ('atcadlab_dev', 'atcadlab_r11', 'atcadlab_r13', 'atcadlab_r15', 'atcadlab_r9'), 'atomicstructure': ('atomicstructure_dev',), 'aurora': ('aurora_dev',), 'autonomousrobot': ('autonomousrobot_dev',), 'avalanche': ('avalanche_dev', 'avalanche_r13'), 'avoidlearn': ('avoidlearn_dev', 'avoidlearn_r11', 'avoidlearn_r14', 'avoidlearn_r16', 'avoidlearn_r17'), 'avoidlearncall': ('avoidlearncall_dev', 'avoidlearncall_r3', 'avoidlearncall_r6', 'avoidlearncall_r8', 'avoidlearncall_r9'), 'backproptrain': ('backproptrain_dev',), 'bacmacrocc3d4': ('bacmacrocc3d4_dev', 'bacmacrocc3d4_r4', 'bacmacrocc3d4_r5', 'bacmacrocc3d4_r6'), 'banddiagcalcul8': ('banddiagcalcul8_dev',), 'bandstrlab': ('bandstrlab', 'bandstrlab_dev', 'bandstrlab_r100', 'bandstrlab_r108', 'bandstrlab_r124', 'bandstrlab_r134', 'bandstrlab_r153', 'bandstrlab_r156', 'bandstrlab_r157', 'bandstrlab_r159', 'bandstrlab_r162', 'bandstrlab_r168', 'bandstrlab_r172', 'bandstrlab_r174', 'bandstrlab_r175', 'bandstrlab_r176', 'bandstrlab_r180', 'bandstrlab_r182', 'bandstrlab_r253', 'bandstrlab_r258', 'bandstrlab_r259', 'bandstrlab_r262', 'bandstrlab_r263', 'bandstrlab_r288', 'bandstrlab_r313', 'bandstrlab_r315', 'bandstrlab_r319', 'bandstrlab_r320', 'bandstrlab_r321', 'bandstrlab_r325', 'bandstrlab_r327', 'bandstrlab_r328', 'bandstrlab_r339', 'bandstrlab_r342', 'bandstrlab_r344', 'bandstrlab_r347', 'bandstrlab_r348', 'bandstrlab_r99'), 'batteryopt': ('batteryopt_dev', 'batteryopt_r7'), 'batterytemp': ('batterytemp_dev',), 'bayes': ('bayes_dev', 'bayes_r17', 'bayes_r25', 'bayes_r26', 'bayes_r33', 'bayes_r41', 'bayes_r42', 'bayes_r45', 'bayes_r48', 'bayes_r49', 'bayes_r50', 'bayes_r53', 'bayes_r57', 'bayes_r58'), 'bayesdag': ('bayesdag_dev',), 'bbeetle': ('bbeetle_dev',), 'bcb4': ('bcb4_dev',), 'beamdyn': ('beamdyn_dev', 'beamdyn_r13'), 'beamprop': ('beamprop_dev', 'beamprop_r3', 'beamprop_r4', 'beamprop_r6', 'beamprop_r7'), 'beampropnbps09': ('beampropnbps09_dev',), 'bendmodvesicle': ('bendmodvesicle_dev',), 'bennetthw2ge': ('bennetthw2ge_dev',), 'berkeleygw': ('berkeleygw_dev', 'berkeleygw_r74', 'berkeleygw_r76', 'berkeleygw_r78'), 'berrabh': ('berrabh_dev',), 'bgfet': ('bgfet_dev',), 'bgo': ('bgo_dev',), 'bhjmorphology': ('bhjmorphology_dev', 'bhjmorphology_r103'), 'biconvex': ('biconvex_dev', 'biconvex_r13', 'biconvex_r16', 'biconvex_r17'), 'bigmess': ('bigmess_dev', 'bigmess_r10', 'bigmess_r11', 'bigmess_r5', 'bigmess_r8', 'bigmess_r9'), 'billoutest': ('billoutest_dev',), 'binbrush': ('binbrush_dev', 'binbrush_r13', 'binbrush_r15'), 'bio3d': ('bio3d_dev',), 'biofilm4nanobio': ('biofilm4nanobio_dev',), 'biofilm4nanohub': ('biofilm4nanohub_dev',), 'biofilmproject': ('biofilmproject_dev',), 'biofilmsp19': ('biofilmsp19_dev',), 'bioinedentation': ('bioinedentation_dev',), 'biolab': ('biolab_dev', 'biolab_r41', 'biolab_r42', 'biolab_r58', 'biolab_r64'), 'biolab2': ('biolab2_dev',), 'biolabisfet': ('biolabisfet_dev', 'biolabisfet_r35'), 'biomoca': ('biomoca', 'biomoca_dev', 'biomoca_r25', 'biomoca_r29'), 'biomolelab': ('biomolelab', 'biomolelab_dev', 'biomolelab_r1'), 'biophet': ('biophet', 'biophet_dev', 'biophet_r1'), 'biophotonicsim': ('biophotonicsim_dev', 'biophotonicsim_r10', 'biophotonicsim_r11', 'biophotonicsim_r7', 'biophotonicsim_r9'), 'biosensor': ('biosensor_dev',), 'biosensorlab': ('biosensorlab_dev',), 'biosensorlabv2': ('biosensorlabv2_dev',), 'biotrpnp': ('biotrpnp', 'biotrpnp_dev'), 'bipad': ('bipad', 'bipad_dev'), 'bisensorybayes': ('bisensorybayes_dev', 'bisensorybayes_r3', 'bisensorybayes_r6', 'bisensorybayes_r7'), 'bisensorydelta': ('bisensorydelta_dev', 'bisensorydelta_r2', 'bisensorydelta_r4', 'bisensorydelta_r5'), 'bision': ('bision_dev',), 'bjt': ('bjt_dev', 'bjt_r19', 'bjt_r21', 'bjt_r24', 'bjt_r26', 'bjt_r28', 'bjt_r30', 'bjt_r32', 'bjt_r33', 'bjt_r59', 'bjt_r73', 'bjt_r82', 'bjt_r83', 'bjt_r84', 'bjt_r86', 'bjt_r89', 'bjt_r92'), 'blahblah': ('blahblah_dev',), 'blahgerdouc': ('blahgerdouc_dev',), 'blast': ('blast', 'blast_dev', 'blast_r1'), 'blastocyst2d': ('blastocyst2d_dev',), 'bmcsuite': ('bmcsuite_dev', 'bmcsuite_r13', 'bmcsuite_r26', 'bmcsuite_r31', 'bmcsuite_r34', 'bmcsuite_r35', 'bmcsuite_r36', 'bmcsuite_r38', 'bmcsuite_r40', 'bmcsuite_r42', 'bmcsuite_r44'), 'bmptogds': ('bmptogds_dev',), 'boltzlantrap': ('boltzlantrap_dev',), 'boltzmann': ('boltzmann', 'boltzmann_dev'), 'bombbeetle': ('bombbeetle_dev',), 'bootcamp': ('bootcamp_dev',), 'bor1': ('bor1_dev',), 'bowtie': ('bowtie_dev', 'bowtie_r162', 'bowtie_r164', 'bowtie_r165'), 'bpm': ('bpm_dev',), 'breakcalc1': ('breakcalc1_dev', 'breakcalc1_r14'), 'breakdowncal7': ('breakdowncal7_dev', 'breakdowncal7_r13'), 'breakdowncalc1': ('breakdowncalc1_dev',), 'breeze-admin': ('breeze-admin',), 'brillouin': ('brillouin_dev', 'brillouin_r43', 'brillouin_r49'), 'broadbandqcmm': ('broadbandqcmm_dev',), 'brownianmotion': ('brownianmotion_dev',), 'brownies': ('brownies_dev',), 'bsclab': ('bsclab_dev', 'bsclab_r13', 'bsclab_r17', 'bsclab_r20', 'bsclab_r21', 'bsclab_r29', 'bsclab_r30', 'bsclab_r32', 'bsclab_r33', 'bsclab_r52'), 'bstr_sc_lab': ('bstr_sc_lab_dev',), 'bsvirdcovid19mo': ('bsvirdcovid19mo_dev',), 'bsvirdcovidmodo': ('bsvirdcovidmodo_dev',), 'btesolver': ('btesolver_dev', 'btesolver_r39', 'btesolver_r41'), 'btool': ('btool_dev',), 'bulkmc': ('bulkmc_dev', 'bulkmc_r15', 'bulkmc_r19', 'bulkmc_r39'), 'bulkmobility': ('bulkmobility_dev', 'bulkmobility_r11', 'bulkmobility_r13', 'bulkmobility_r9'), 'bulknf': ('bulknf_dev', 'bulknf_r54', 'bulknf_r57'), 'burak': ('burak_dev',), 'butdjdist': ('butdjdist_dev', 'butdjdist_r10', 'butdjdist_r4', 'butdjdist_r7', 'butdjdist_r8', 'butdjdist_r9'), 'butdprobinf': ('butdprobinf_dev', 'butdprobinf_r11', 'butdprobinf_r12', 'butdprobinf_r13', 'butdprobinf_r14', 'butdprobinf_r7'), 'cacti': ('cacti_dev',), 'cadnanocvrt': ('cadnanocvrt_dev', 'cadnanocvrt_r14', 'cadnanocvrt_r17', 'cadnanocvrt_r22', 'cadnanocvrt_r23', 'cadnanocvrt_r25', 'cadnanocvrt_r28', 'cadnanocvrt_r36', 'cadnanocvrt_r40', 'cadnanocvrt_r41', 'cadnanocvrt_r45', 'cadnanocvrt_r47', 'cadnanocvrt_r49', 'cadnanocvrt_r50', 'cadnanocvrt_r52'), 'cadnanovis': ('cadnanovis_dev', 'cadnanovis_r35', 'cadnanovis_r41'), 'caesarnegf': ('caesarnegf_dev',), 'calibdriver': ('calibdriver_dev', 'calibdriver_r9'), 'calibratemac': ('calibratemac_dev',), 'callawaysmodel': ('callawaysmodel_dev',), 'calphad': ('calphad_dev',), 'cantilever': ('cantilever_dev',), 'capacitancescm': ('capacitancescm_dev', 'capacitancescm_r4', 'capacitancescm_r6'), 'capsidsouffle': ('capsidsouffle_dev', 'capsidsouffle_r253'), 'car': ('car_dev',), 'carrierconc': ('carrierconc_dev', 'carrierconc_r10', 'carrierconc_r12'), 'cartmath': ('cartmath_dev',), 'cartmathtmg': ('cartmathtmg_dev',), 'caslip': ('caslip_dev',), 'casm': ('casm_dev',), 'cavitatesim': ('cavitatesim_dev',), 'cbddot': ('cbddot', 'cbddot_dev'), 'cbjts': ('cbjts_dev',), 'cbspv': ('cbspv_dev',), 'cc3dbactmacro': ('cc3dbactmacro_dev', 'cc3dbactmacro_r3'), 'cc3dbase4x': ('cc3dbase4x_dev', 'cc3dbase4x_r3', 'cc3dbase4x_r4'), 'cc3dcellsort': ('cc3dcellsort_dev', 'cc3dcellsort_r5'), 'cc3dcellsort3d': ('cc3dcellsort3d_dev', 'cc3dcellsort3d_r3'), 'cc3dcovid19': ('cc3dcovid19_dev', 'cc3dcovid19_r29', 'cc3dcovid19_r30', 'cc3dcovid19_r38', 'cc3dcovid19_r40', 'cc3dcovid19_r42', 'cc3dcovid19_r43', 'cc3dcovid19_r45'), 'cc3dinitsetup': ('cc3dinitsetup_dev',), 'cc3dvasctumor': ('cc3dvasctumor_dev', 'cc3dvasctumor_r3'), 'cc3dwf': ('cc3dwf_dev', 'cc3dwf_r14', 'cc3dwf_r15'), 'cc3dwfdrain': ('cc3dwfdrain_dev', 'cc3dwfdrain_r11', 'cc3dwfdrain_r12'), 'ccamt': ('ccamt_dev', 'ccamt_r10', 'ccamt_r12'), 'ccc': ('ccc_dev',), 'cdimodel': ('cdimodel_dev',), 'cdimodeling': ('cdimodeling_dev',), 'cdlev': ('cdlev_dev', 'cdlev_r10', 'cdlev_r7'), 'cellsorthexcc3d': ('cellsorthexcc3d_dev', 'cellsorthexcc3d_r4', 'cellsorthexcc3d_r5'), 'cendos': ('cendos_dev',), 'cenems': ('cenems', 'cenems_dev', 'cenems_r20'), 'cfd': ('cfd_dev',), 'cfd01': ('cfd01_dev',), 'cflow': ('cflow_dev',), 'cgls': ('cgls_dev', 'cgls_r24', 'cgls_r29', 'cgls_r31', 'cgls_r33', 'cgls_r34', 'cgls_r35'), 'cgmcc': ('cgmcc_dev', 'cgmcc_r16'), 'cgtb': ('cgtb', 'cgtb_dev', 'cgtb_r8'), 'chemae': ('chemae_dev', 'chemae_r198'), 'chemdic': ('chemdic_dev',), 'chemkinetics': ('chemkinetics', 'chemkinetics_dev', 'chemkinetics_r1'), 'chemnet': ('chemnet_dev',), 'chess': ('chess', 'chess_dev', 'chess_r3', 'chess_r4', 'chess_r5'), 'circuitelements': ('circuitelements_dev', 'circuitelements_r2', 'circuitelements_r4'), 'cismcm': ('cismcm_dev', 'cismcm_r28', 'cismcm_r30', 'cismcm_r31', 'cismcm_r32', 'cismcm_r34', 'cismcm_r36', 'cismcm_r37', 'cismcm_r43', 'cismcm_r48', 'cismcm_r50', 'cismcm_r55', 'cismcm_r57', 'cismcm_r63', 'cismcm_r64', 'cismcm_r65', 'cismcm_r71', 'cismcm_r74'), 'citrinednn': ('citrinednn_dev', 'citrinednn_r11', 'citrinednn_r14', 'citrinednn_r15', 'citrinednn_r4'), 'citrinetools': ('citrinetools_dev', 'citrinetools_r10', 'citrinetools_r12', 'citrinetools_r25', 'citrinetools_r29', 'citrinetools_r32', 'citrinetools_r35', 'citrinetools_r37'), 'classproject': ('classproject_dev',), 'clauncher': ('clauncher_dev',), 'climt': ('climt', 'climt_dev'), 'clusterbgo': ('clusterbgo_dev',), 'clusterbgopro': ('clusterbgopro_dev', 'clusterbgopro_r5'), 'cmodeldgbgfet': ('cmodeldgbgfet_dev',), 'cmpe131firat': ('cmpe131firat_dev',), 'cmtcomb': ('cmtcomb_dev',), 'cmtcomb2': ('cmtcomb2_dev',), 'cmtcomb3': ('cmtcomb3_dev', 'cmtcomb3_r17'), 'cnanowire': ('cnanowire_dev',), 'cnc': ('cnc_dev', 'cnc_r38'), 'cndo': ('cndo_dev', 'cndo_r10', 'cndo_r12', 'cndo_r16', 'cndo_r23', 'cndo_r26', 'cndo_r30', 'cndo_r31', 'cndo_r33', 'cndo_r34', 'cndo_r38'), 'cnegfmos': ('cnegfmos_dev', 'cnegfmos_r16', 'cnegfmos_r9'), 'cnia': ('cnia', 'cnia_dev', 'cnia_r15', 'cnia_r17', 'cnia_r19', 'cnia_r20', 'cnia_r24'), 'cnn2d': ('cnn2d_dev',), 'cnndiffusion': ('cnndiffusion_dev',), 'cnt-iv': ('cnt-iv', 'cnt-iv_dev'), 'cntantenna': ('cntantenna_dev',), 'cntbands': ('cntbands', 'cntbands_dev'), 'cntbands-ext': ('cntbands-ext', 'cntbands-ext_dev', 'cntbands-ext_r17', 'cntbands-ext_r18', 'cntbands-ext_r27', 'cntbands-ext_r28', 'cntbands-ext_r32', 'cntbands-ext_r39', 'cntbands-ext_r40', 'cntbands-ext_r41', 'cntbands-ext_r44'), 'cntbte': ('cntbte_dev', 'cntbte_r21', 'cntbte_r23', 'cntbte_r25'), 'cntbyvdwf': ('cntbyvdwf_dev',), 'cntfet': ('cntfet', 'cntfet_dev', 'cntfet_r45', 'cntfet_r46', 'cntfet_r47', 'cntfet_r49', 'cntfet_r53', 'cntfet_r59', 'cntfet_r63', 'cntfet_r64', 'cntfet_r66', 'cntfet_r67', 'cntfet_r68'), 'cntfetfab': ('cntfetfab_dev',), 'cntffnems': ('cntffnems_dev',), 'cntmob': ('cntmob_dev', 'cntmob_r40', 'cntmob_r43', 'cntmob_r44'), 'cntnemscant': ('cntnemscant_dev', 'cntnemscant_r3', 'cntnemscant_r5', 'cntnemscant_r7'), 'cntnemsff': ('cntnemsff_dev', 'cntnemsff_r3', 'cntnemsff_r5', 'cntnemsff_r7'), 'cntphonons': ('cntphonons', 'cntphonons_dev', 'cntphonons_r21', 'cntphonons_r23', 'cntphonons_r25'), 'cntrelay': ('cntrelay_dev', 'cntrelay_r23', 'cntrelay_r25'), 'cnts': ('cnts_dev',), 'coars': ('coars_dev',), 'combidataparser': ('combidataparser_dev',), 'compcatal': ('compcatal_dev', 'compcatal_r25', 'compcatal_r27', 'compcatal_r29'), 'compfilsim3d': ('compfilsim3d_dev', 'compfilsim3d_r26', 'compfilsim3d_r30', 'compfilsim3d_r37'), 'comphe': ('comphe_dev', 'comphe_r3'), 'comphydrogennb': ('comphydrogennb_dev', 'comphydrogennb_r2', 'comphydrogennb_r6'), 'complam': ('complam_dev', 'complam_r11', 'complam_r21', 'complam_r33', 'complam_r34', 'complam_r35'), 'complithiumnb': ('complithiumnb_dev',), 'compmat': ('compmat_dev',), 'compnano': ('compnano_dev', 'compnano_r31', 'compnano_r33', 'compnano_r41', 'compnano_r43'), 'compucell3d': ('compucell3d_dev', 'compucell3d_r13'), 'computehydrogen': ('computehydrogen_dev', 'computehydrogen_r3'), 'comsol': ('comsol_dev',), 'cond3d': ('cond3d_dev', 'cond3d_r12', 'cond3d_r14'), 'confphonons': ('confphonons', 'confphonons_dev', 'confphonons_r1'), 'contactmaps': ('contactmaps_dev', 'contactmaps_r40', 'contactmaps_r42', 'contactmaps_r45', 'contactmaps_r46', 'contactmaps_r47'), 'contourpv': ('contourpv_dev', 'contourpv_r12'), 'convn': ('convn_dev', 'convn_r11', 'convn_r13'), 'cool': ('cool_dev',), 'cooler': ('cooler_dev',), 'coomb': ('coomb_dev',), 'cotrell': ('cotrell_dev',), 'coulombsim': ('coulombsim', 'coulombsim_dev', 'coulombsim_r13', 'coulombsim_r14', 'coulombsim_r17', 'coulombsim_r19', 'coulombsim_r20'), 'covid19analysis': ('covid19analysis_dev', 'covid19analysis_r22'), 'covidvaccinemod': ('covidvaccinemod_dev',), 'cpmd': ('cpmd', 'cpmd_dev', 'cpmd_r1'), 'cpsim': ('cpsim_dev',), 'crackprop': ('crackprop_dev', 'crackprop_r25', 'crackprop_r28'), 'crackpropsim': ('crackpropsim_dev', 'crackpropsim_r12', 'crackpropsim_r14'), 'cracktestpfdm': ('cracktestpfdm_dev', 'cracktestpfdm_r64'), 'crcorganoid': ('crcorganoid_dev',), 'crm': ('crm_dev',), 'crmatomic': ('crmatomic_dev', 'crmatomic_r18', 'crmatomic_r20'), 'crmspectrum': ('crmspectrum_dev',), 'crollup': ('crollup_dev',), 'crt': ('crt_dev',), 'crystal_viewer': ('crystal_viewer_dev', 'crystal_viewer_r132', 'crystal_viewer_r133', 'crystal_viewer_r145', 'crystal_viewer_r149', 'crystal_viewer_r15', 'crystal_viewer_r152', 'crystal_viewer_r154', 'crystal_viewer_r159', 'crystal_viewer_r16', 'crystal_viewer_r27', 'crystal_viewer_r33', 'crystal_viewer_r336', 'crystal_viewer_r372', 'crystal_viewer_r373', 'crystal_viewer_r375', 'crystal_viewer_r394', 'crystal_viewer_r395', 'crystal_viewer_r396', 'crystal_viewer_r398', 'crystal_viewer_r414', 'crystal_viewer_r415', 'crystal_viewer_r416', 'crystal_viewer_r42', 'crystal_viewer_r43', 'crystal_viewer_r44', 'crystal_viewer_r46', 'crystal_viewer_r56', 'crystal_viewer_r65', 'crystal_viewer_r67', 'crystal_viewer_r70'), 'crystalviewer': ('crystalviewer_dev', 'crystalviewer_r18', 'crystalviewer_r24', 'crystalviewer_r28'), 'crystalviz': ('crystalviz_dev',), 'crysviewer': ('crysviewer_dev',), 'cscale': ('cscale_dev', 'cscale_r10', 'cscale_r8'), 'ctfit': ('ctfit_dev',), 'ctfsim': ('ctfsim_dev',), 'cubiclattice': ('cubiclattice_dev',), 'cvgraph': ('cvgraph_dev', 'cvgraph_r23', 'cvgraph_r25', 'cvgraph_r26'), 'cypredict': ('cypredict_dev',), 'dakotacalibrate': ('dakotacalibrate_dev', 'dakotacalibrate_r7', 'dakotacalibrate_r9'), 'dakotamac': ('dakotamac_dev',), 'danjup': ('danjup_dev',), 'dansg': ('dansg_dev',), 'dataexplorerlab': ('dataexplorerlab_dev', 'dataexplorerlab_r7', 'dataexplorerlab_r9'), 'datastart': ('datastart_dev',), 'dbrlaser': ('dbrlaser_dev', 'dbrlaser_r3', 'dbrlaser_r5'), 'dcharge': ('dcharge_dev',), 'dda': ('dda_dev', 'dda_r106', 'dda_r108', 'dda_r109', 'dda_r110', 'dda_r115', 'dda_r116', 'dda_r119', 'dda_r126', 'dda_r128', 'dda_r129', 'dda_r130', 'dda_r131', 'dda_r132', 'dda_r133', 'dda_r134', 'dda_r135', 'dda_r141', 'dda_r157', 'dda_r158', 'dda_r165', 'dda_r170', 'dda_r171', 'dda_r177', 'dda_r179', 'dda_r182', 'dda_r187', 'dda_r188', 'dda_r190', 'dda_r195', 'dda_r198', 'dda_r202', 'dda_r207', 'dda_r209', 'dda_r210', 'dda_r224', 'dda_r228', 'dda_r236', 'dda_r238', 'dda_r240', 'dda_r247', 'dda_r249', 'dda_r61', 'dda_r73', 'dda_r75', 'dda_r77', 'dda_r78', 'dda_r83', 'dda_r95', 'dda_r96', 'dda_r98'), 'ddaconvert': ('ddaconvert_dev', 'ddaconvert_r100', 'ddaconvert_r17', 'ddaconvert_r41', 'ddaconvert_r43', 'ddaconvert_r53', 'ddaconvert_r54', 'ddaconvert_r55', 'ddaconvert_r56', 'ddaconvert_r58', 'ddaconvert_r59', 'ddaconvert_r6', 'ddaconvert_r62', 'ddaconvert_r66', 'ddaconvert_r79', 'ddaconvert_r80', 'ddaconvert_r82', 'ddaconvert_r83', 'ddaconvert_r84', 'ddaconvert_r98'), 'ddaplus': ('ddaplus_dev', 'ddaplus_r122', 'ddaplus_r125', 'ddaplus_r126', 'ddaplus_r148', 'ddaplus_r156', 'ddaplus_r164', 'ddaplus_r166', 'ddaplus_r170', 'ddaplus_r172', 'ddaplus_r206', 'ddaplus_r208', 'ddaplus_r221', 'ddaplus_r224', 'ddaplus_r227', 'ddaplus_r231', 'ddaplus_r236', 'ddaplus_r240', 'ddaplus_r243', 'ddaplus_r247', 'ddaplus_r253', 'ddaplus_r33', 'ddaplus_r69', 'ddaplus_r78', 'ddaplus_r80', 'ddaplus_r81', 'ddaplus_r82', 'ddaplus_r84', 'ddaplus_r88', 'ddaplus_r89', 'ddaplus_r91', 'ddaplus_r95'), 'ddashapegen': ('ddashapegen_dev',), 'ddscat': ('ddscat_dev',), 'ddscatshapegen': ('ddscatshapegen_dev',), 'ddscatshapegene': ('ddscatshapegene_dev', 'ddscatshapegene_r10'), 'ddsolarcell': ('ddsolarcell_dev', 'ddsolarcell_r15', 'ddsolarcell_r16', 'ddsolarcell_r6'), 'ddsurf': ('ddsurf_dev',), 'decompmthds': ('decompmthds_dev',), 'defectfinder': ('defectfinder_dev',), 'defectml': ('defectml_dev',), 'defectsolver': ('defectsolver_dev',), 'deformchan': ('deformchan_dev',), 'deformnanowire': ('deformnanowire_dev', 'deformnanowire_r37', 'deformnanowire_r39', 'deformnanowire_r42', 'deformnanowire_r43'), 'delaminationpv': ('delaminationpv_dev',), 'deltanotchcc3d': ('deltanotchcc3d_dev', 'deltanotchcc3d_r5', 'deltanotchcc3d_r6'), 'deltaruletrain': ('deltaruletrain_dev',), 'deltawye': ('deltawye_dev', 'deltawye_r3', 'deltawye_r5'), 'deltawyecomplex': ('deltawyecomplex_dev',), 'dem': ('dem_dev',), 'demcolloid': ('demcolloid_dev',), 'demcolloids': ('demcolloids_dev',), 'demobrouk': ('demobrouk_dev',), 'demon': ('demon', 'demon_dev'), 'demons': ('demons', 'demons_dev', 'demons_r18', 'demons_r20', 'demons_r22'), 'demotoolnano': ('demotoolnano_dev',), 'dep': ('dep_dev',), 'desct': ('desct_dev',), 'designmgr': ('designmgr', 'designmgr_dev'), 'deviceelectron': ('deviceelectron_dev', 'deviceelectron_r12', 'deviceelectron_r14', 'deviceelectron_r16', 'deviceelectron_r18', 'deviceelectron_r21'), 'devrel': ('devrel', 'devrel_dev', 'devrel_r25', 'devrel_r27', 'devrel_r29', 'devrel_r33'), 'devsim': ('devsim_dev',), 'devtesttool': ('devtesttool',), 'dftcij': ('dftcij_dev',), 'dftexplorer': ('dftexplorer_dev',), 'dfthelium': ('dfthelium_dev',), 'dftldahelium': ('dftldahelium_dev', 'dftldahelium_r12'), 'dftman': ('dftman_dev',), 'dftmatprop': ('dftmatprop_dev', 'dftmatprop_r36', 'dftmatprop_r55', 'dftmatprop_r62'), 'dftqe': ('dftqe_dev', 'dftqe_r104', 'dftqe_r109', 'dftqe_r110', 'dftqe_r111', 'dftqe_r52', 'dftqe_r65', 'dftqe_r80', 'dftqe_r87', 'dftqe_r91', 'dftqe_r92', 'dftqe_r95', 'dftqe_r98', 'dftqe_r99'), 'dgbgfetmodel': ('dgbgfetmodel_dev',), 'dgmos': ('dgmos_dev',), 'diatom': ('diatom_dev',), 'dielchar': ('dielchar_dev',), 'dielsim': ('dielsim_dev',), 'diffanalyzer': ('diffanalyzer_dev', 'diffanalyzer_r21', 'diffanalyzer_r26'), 'diffclass': ('diffclass_dev',), 'diffusion': ('diffusion_dev', 'diffusion_r11', 'diffusion_r9'), 'diffusionfcc': ('diffusionfcc_dev', 'diffusionfcc_r6', 'diffusionfcc_r7', 'diffusionfcc_r8'), 'diffusiongame2d': ('diffusiongame2d_dev', 'diffusiongame2d_r6', 'diffusiongame2d_r9'), 'diffusionhcp': ('diffusionhcp_dev', 'diffusionhcp_r8', 'diffusionhcp_r9'), 'diluteimpv1': ('diluteimpv1_dev',), 'dimredmatdecmp': ('dimredmatdecmp_dev', 'dimredmatdecmp_r10', 'dimredmatdecmp_r11'), 'dip': ('dip_dev',), 'diprad': ('diprad_dev',), 'dirselectivity': ('dirselectivity_dev', 'dirselectivity_r10', 'dirselectivity_r11', 'dirselectivity_r12', 'dirselectivity_r13', 'dirselectivity_r7'), 'discharges': ('discharges_dev',), 'discnanoforces': ('discnanoforces_dev',), 'disloclab': ('disloclab_dev',), 'disperse': ('disperse', 'disperse_dev', 'disperse_r1'), 'disreg': ('disreg_dev',), 'distrfit': ('distrfit_dev', 'distrfit_r3'), 'djdjdj': ('djdjdj_dev',), 'dla': ('dla_dev',), 'dm4nanobio': ('dm4nanobio_dev',), 'dmgr': ('dmgr', 'dmgr_dev'), 'dopingsilicon': ('dopingsilicon_dev', 'dopingsilicon_r11', 'dopingsilicon_r8'), 'doubler': ('doubler_dev',), 'dpowj': ('dpowj_dev', 'dpowj_r11', 'dpowj_r13', 'dpowj_r15', 'dpowj_r16', 'dpowj_r17', 'dpowj_r18', 'dpowj_r19', 'dpowj_r9'), 'dqwtt': ('dqwtt_dev',), 'dreamteam': ('dreamteam_dev',), 'drivergen': ('drivergen_dev', 'drivergen_r5', 'drivergen_r7'), 'drsim': ('drsim_dev',), 'dsers': ('dsers_dev', 'dsers_r8'), 'dsmc': ('dsmc_dev', 'dsmc_r39', 'dsmc_r41', 'dsmc_r42'), 'dsmc0d': ('dsmc0d_dev', 'dsmc0d_r3', 'dsmc0d_r5', 'dsmc0d_r6'), 'dsmc1d': ('dsmc1d_dev', 'dsmc1d_r3', 'dsmc1d_r5'), 'dtes': ('dtes_dev', 'dtes_r17'), 'dtmf': ('dtmf_dev',), 'dualfoil': ('dualfoil_dev', 'dualfoil_r23', 'dualfoil_r25', 'dualfoil_r27', 'dualfoil_r29'), 'dummy': ('dummy_dev',), 'dynamicafm': ('dynamicafm', 'dynamicafm_dev', 'dynamicafm_r22', 'dynamicafm_r28', 'dynamicafm_r29'), 'dynrollcompact': ('dynrollcompact_dev',), 'echem': ('echem_dev', 'echem_r9'), 'eckart': ('eckart_dev',), 'ecm': ('ecm_dev',), 'ecmsimul': ('ecmsimul_dev', 'ecmsimul_r13', 'ecmsimul_r15', 'ecmsimul_r27', 'ecmsimul_r39', 'ecmsimul_r42', 'ecmsimul_r43', 'ecmsimul_r6', 'ecmsimul_r9'), 'ediagram': ('ediagram_dev',), 'efeff': ('efeff_dev',), 'eiet': ('eiet_dev',), 'elc': ('elc_dev',), 'elca': ('elca_dev',), 'elconabinit': ('elconabinit_dev',), 'electromat': ('electromat', 'electromat_dev', 'electromat_r42', 'electromat_r44'), 'ellipparticles': ('ellipparticles_dev',), 'ellipsoiddetect': ('ellipsoiddetect_dev',), 'ellipsom': ('ellipsom', 'ellipsom_dev'), 'ellipsosim': ('ellipsosim_dev',), 'elmod': ('elmod_dev', 'elmod_r6', 'elmod_r8'), 'emaf': ('emaf_dev',), 'emc': ('emc_dev',), 'emintensity': ('emintensity_dev',), 'emintenspec': ('emintenspec_dev',), 'emsimulator': ('emsimulator_dev',), 'endor': ('endor_dev',), 'energies': ('energies_dev',), 'energy': ('energy_dev',), 'energycurve': ('energycurve_dev', 'energycurve_r7', 'energycurve_r9'), 'engdata': ('engdata_dev', 'engdata_r4'), 'engr132hw': ('engr132hw_dev',), 'engr132jupytera': ('engr132jupytera_dev',), 'engr132ncn': ('engr132ncn_dev',), 'enmpredictor': ('enmpredictor_dev',), 'enmsdatabase': ('enmsdatabase_dev',), 'epflhemtmodel': ('epflhemtmodel_dev',), 'eprsim': ('eprsim_dev',), 'erichstool': ('erichstool_dev', 'erichstool_r2'), 'espei': ('espei_dev',), 'espresso': ('espresso_dev',), 'esprittree': ('esprittree_dev',), 'esrnano': ('esrnano_dev',), 'etest2': ('etest2_dev',), 'etool2': ('etool2_dev', 'etool2_r2'), 'ex2pnjunction': ('ex2pnjunction_dev', 'ex2pnjunction_r2', 'ex2pnjunction_r4'), 'examd': ('examd_dev',), 'excitons': ('excitons_dev',), 'excitonss': ('excitonss_dev',), 'exdynamics': ('exdynamics_dev', 'exdynamics_r89', 'exdynamics_r93'), 'exotictb': ('exotictb_dev',), 'extcs': ('extcs_dev',), 'extinction': ('extinction_dev',), 'extremedb': ('extremedb_dev', 'extremedb_r6'), 'ezandertal': ('ezandertal_dev',), 'facemask': ('facemask_dev',), 'fasp': ('fasp_dev',), 'fast': ('fast_dev',), 'fbsdcme': ('fbsdcme_dev', 'fbsdcme_r23', 'fbsdcme_r28', 'fbsdcme_r31', 'fbsdcme_r33'), 'fccpolymech': ('fccpolymech_dev',), 'fdc': ('fdc_dev',), 'fdcal': ('fdcal_dev',), 'fdical': ('fdical_dev', 'fdical_r21', 'fdical_r23', 'fdical_r24'), 'fdiscovery': ('fdiscovery_dev', 'fdiscovery_r15', 'fdiscovery_r17'), 'fdot': ('fdot_dev',), 'feap83t': ('feap83t_dev',), 'featureselect': ('featureselect_dev', 'featureselect_r10', 'featureselect_r11', 'featureselect_r9'), 'feefi': ('feefi_dev',), 'fermi': ('fermi_dev', 'fermi_r24', 'fermi_r27', 'fermi_r29', 'fermi_r31', 'fermi_r37', 'fermi_r40', 'fermi_r42', 'fermi_r60', 'fermi_r63', 'fermi_r66', 'fermi_r67', 'fermi_r74', 'fermi_r81', 'fermi_r83'), 'ferrodots': ('ferrodots_dev',), 'ferroelectric': ('ferroelectric_dev',), 'fettoy': ('fettoy', 'fettoy_dev', 'fettoy_r30', 'fettoy_r31', 'fettoy_r33', 'fettoy_r36', 'fettoy_r38', 'fettoy_r41'), 'ffettool': ('ffettool_dev', 'ffettool_r15', 'ffettool_r18'), 'fgm': ('fgm_dev',), 'fgmbuilder': ('fgmbuilder_dev', 'fgmbuilder_r20', 'fgmbuilder_r27', 'fgmbuilder_r28', 'fgmbuilder_r29', 'fgmbuilder_r33'), 'fibmd': ('fibmd_dev', 'fibmd_r16'), 'fibpredictor': ('fibpredictor_dev', 'fibpredictor_r37', 'fibpredictor_r39'), 'fibstream': ('fibstream_dev', 'fibstream_r24'), 'fieldem': ('fieldem_dev',), 'fifaviz': ('fifaviz_dev', 'fifaviz_r5'), 'filemanager': ('filemanager_dev',), 'filters': ('filters_dev', 'filters_r7', 'filters_r9'), 'filtr': ('filtr_dev',), 'fin': ('fin_dev', 'fin_r2'), 'fincanon': ('fincanon_dev',), 'fiona': ('fiona_dev', 'fiona_r12', 'fiona_r14', 'fiona_r16', 'fiona_r18', 'fiona_r20'), 'fipy': ('fipy_dev',), 'firstone': ('firstone_dev',), 'firsttool': ('firsttool_dev',), 'fishandriver': ('fishandriver_dev', 'fishandriver_r20'), 'fishbackprop': ('fishbackprop_dev', 'fishbackprop_r2', 'fishbackprop_r4', 'fishbackprop_r5'), 'fishbayesrule': ('fishbayesrule_dev', 'fishbayesrule_r2', 'fishbayesrule_r4', 'fishbayesrule_r6', 'fishbayesrule_r7'), 'fitepsilon': ('fitepsilon_dev',), 'fitting': ('fitting_dev',), 'fkt': ('fkt_dev', 'fkt_r28', 'fkt_r30'), 'flooxs': ('flooxs_dev',), 'flowers': ('flowers_dev',), 'fmmacrospice': ('fmmacrospice_dev', 'fmmacrospice_r3', 'fmmacrospice_r4'), 'fnecalc1': ('fnecalc1_dev', 'fnecalc1_r8'), 'footoddatki': ('footoddatki_dev',), 'fouriertrans': ('fouriertrans_dev',), 'fpuf': ('fpuf_dev', 'fpuf_r158', 'fpuf_r284', 'fpuf_r289', 'fpuf_r291', 'fpuf_r38', 'fpuf_r41', 'fpuf_r43', 'fpuf_r44', 'fpuf_r51', 'fpuf_r52', 'fpuf_r55', 'fpuf_r83'), 'fqhe': ('fqhe_dev',), 'fracval': ('fracval_dev',), 'franckcondon': ('franckcondon_dev',), 'freeedge': ('freeedge_dev', 'freeedge_r27', 'freeedge_r32', 'freeedge_r46'), 'freemol': ('freemol_dev', 'freemol_r17', 'freemol_r20', 'freemol_r22'), 'fss': ('fss_dev',), 'fuelcell': ('fuelcell_dev',), 'funuq': ('funuq_dev', 'funuq_r17', 'funuq_r8'), 'fvfdv': ('fvfdv_dev',), 'fvt': ('fvt_dev',), 'fzcurves': ('fzcurves_dev',), 'gabubble': ('gabubble_dev', 'gabubble_r11', 'gabubble_r9'), 'gahidden': ('gahidden_dev',), 'gahtest': ('gahtest_dev',), 'gamess': ('gamess', 'gamess_dev'), 'gamian': ('gamian_dev', 'gamian_r51'), 'gaminimum': ('gaminimum_dev',), 'gaopfield': ('gaopfield_dev',), 'garlicsim': ('garlicsim_dev',), 'gas': ('gas_dev', 'gas_r14', 'gas_r16'), 'gaslaws': ('gaslaws_dev',), 'gaslawsgui': ('gaslawsgui_dev',), 'gaussianpro': ('gaussianpro_dev', 'gaussianpro_r16'), 'gbdiffusion': ('gbdiffusion_dev', 'gbdiffusion_r13'), 'gbdiffusivity': ('gbdiffusivity_dev',), 'gcmcbd': ('gcmcbd', 'gcmcbd_dev', 'gcmcbd_r1'), 'gcmcbd2': ('gcmcbd2_dev',), 'gdsim': ('gdsim_dev',), 'geneticalgo': ('geneticalgo_dev', 'geneticalgo_r11', 'geneticalgo_r12', 'geneticalgo_r9'), 'genmodel': ('genmodel_dev',), 'gerhard_group': ('gerhard_group_dev',), 'gfed': ('gfed_dev',), 'gfettool': ('gfettool_dev', 'gfettool_r69', 'gfettool_r71'), 'ghost': ('ghost_dev',), 'gibbs': ('gibbs_dev', 'gibbs_r208', 'gibbs_r210', 'gibbs_r217'), 'gibbsads': ('gibbsads_dev', 'gibbsads_r5', 'gibbsads_r7'), 'gibbspy': ('gibbspy_dev',), 'githubexample': ('githubexample_dev',), 'gitlocalrapptur': ('gitlocalrapptur_dev',), 'gitlocaltool': ('gitlocaltool_dev',), 'gnor': ('gnor_dev', 'gnor_r5'), 'gnrinterconnect': ('gnrinterconnect_dev', 'gnrinterconnect_r10', 'gnrinterconnect_r12', 'gnrinterconnect_r6', 'gnrinterconnect_r8'), 'gp1d': ('gp1d_dev',), 'gp2d': ('gp2d_dev', 'gp2d_r19'), 'gprpiezo': ('gprpiezo_dev', 'gprpiezo_r10', 'gprpiezo_r14'), 'gpsamplepath': ('gpsamplepath_dev',), 'gptool': ('gptool_dev', 'gptool_r9'), 'gptool2': ('gptool2_dev', 'gptool2_r3', 'gptool2_r7', 'gptool2_r9'), 'gpuheompop': ('gpuheompop_dev', 'gpuheompop_r29', 'gpuheompop_r33', 'gpuheompop_r36', 'gpuheompop_r37'), 'graft': ('graft_dev', 'graft_r14', 'graft_r160', 'graft_r167', 'graft_r21'), 'graincorrelate': ('graincorrelate_dev',), 'graingrowth': ('graingrowth_dev',), 'gransurrogate': ('gransurrogate_dev', 'gransurrogate_r25'), 'granularmech': ('granularmech_dev',), 'graph': ('graph_dev',), 'graphene': ('graphene_dev',), 'graphenebattery': ('graphenebattery_dev',), 'graphenedevice': ('graphenedevice_dev',), 'graphenelab': ('graphenelab_dev',), 'grapheneswitch': ('grapheneswitch_dev', 'grapheneswitch_r11', 'grapheneswitch_r9'), 'graphenetools1': ('graphenetools1_dev',), 'greentherm': ('greentherm', 'greentherm_dev', 'greentherm_r31', 'greentherm_r32', 'greentherm_r33', 'greentherm_r35', 'greentherm_r37'), 'gresq': ('gresq_dev', 'gresq_r18', 'gresq_r26', 'gresq_r33', 'gresq_r37', 'gresq_r39'), 'grhetnuc': ('grhetnuc_dev',), 'grimp': ('grimp_dev',), 'grisp': ('grisp_dev', 'grisp_r29', 'grisp_r32', 'grisp_r35'), 'gro2lam': ('gro2lam_dev',), 'gromacs': ('gromacs', 'gromacs_dev'), 'gromicelle': ('gromicelle_dev',), 'grphc': ('grphc_dev',), 'gsaimage': ('gsaimage_dev', 'gsaimage_r10', 'gsaimage_r13', 'gsaimage_r18', 'gsaimage_r28'), 'gscan': ('gscan_dev', 'gscan_r38'), 'gscompaction': ('gscompaction_dev', 'gscompaction_r138', 'gscompaction_r139', 'gscompaction_r256', 'gscompaction_r257', 'gscompaction_r81', 'gscompaction_r86', 'gscompaction_r94', 'gscompaction_r95', 'gscompaction_r97', 'gscompaction_r99'), 'gtbat': ('gtbat_dev',), 'guivars': ('guivars_dev',), 'gumby': ('gumby_dev',), 'gwbands': ('gwbands_dev',), 'gyrocube': ('gyrocube_dev',), 'habituationgwr': ('habituationgwr_dev', 'habituationgwr_r10', 'habituationgwr_r11', 'habituationgwr_r4', 'habituationgwr_r7'), 'haha': ('haha_dev',), 'handwritingrec': ('handwritingrec_dev',), 'hares': ('hares_dev',), 'harman': ('harman_dev',), 'harshad': ('harshad_dev',), 'haynes2020': ('haynes2020_dev',), 'hcius': ('hcius_dev', 'hcius_r5'), 'heat': ('heat_dev',), 'heatsinw': ('heatsinw_dev',), 'hebbpatassoc': ('hebbpatassoc_dev',), 'hekinmod': ('hekinmod_dev',), 'hello': ('hello_dev',), 'hello2017': ('hello2017_dev',), 'helloworld': ('helloworld_dev',), 'hemt': ('hemt_dev',), 'hemt3d': ('hemt3d_dev',), 'hemts': ('hemts_dev',), 'henrycoeff': ('henrycoeff_dev', 'henrycoeff_r5', 'henrycoeff_r7'), 'hertzindent': ('hertzindent_dev', 'hertzindent_r13', 'hertzindent_r14', 'hertzindent_r15', 'hertzindent_r16', 'hertzindent_r17', 'hertzindent_r19', 'hertzindent_r4', 'hertzindent_r7'), 'heterojunction': ('heterojunction_dev', 'heterojunction_r143', 'heterojunction_r147', 'heterojunction_r155', 'heterojunction_r161', 'heterojunction_r163'), 'hgraphene': ('hgraphene_dev',), 'hipressdft': ('hipressdft_dev', 'hipressdft_r15', 'hipressdft_r17'), 'hipressdftjup': ('hipressdftjup_dev',), 'histogramtool': ('histogramtool_dev',), 'histool': ('histool_dev',), 'hitccas': ('hitccas_dev',), 'hjtfetnotebook': ('hjtfetnotebook_dev',), 'hmmer': ('hmmer', 'hmmer_dev', 'hmmer_r1'), 'holoviewstest': ('holoviewstest_dev', 'holoviewstest_r10', 'holoviewstest_r3', 'holoviewstest_r7'), 'homework': ('homework_dev',), 'horbit': ('horbit_dev',), 'hotspice': ('hotspice_dev', 'hotspice_r21', 'hotspice_r23'), 'hppt': ('hppt_dev',), 'hsot': ('hsot_dev', 'hsot_r16'), 'hspice': ('hspice_dev',), 'htdft': ('htdft_dev', 'htdft_r77'), 'htnp': ('htnp_dev',), 'htoxideprop': ('htoxideprop_dev', 'htoxideprop_r5', 'htoxideprop_r7', 'htoxideprop_r9'), 'htq1': ('htq1_dev',), 'htworkspace': ('htworkspace_dev', 'htworkspace_r2'), 'hubzero': ('hubzero',), 'huckel': ('huckel', 'huckel_dev', 'huckel_r1'), 'huckeltb': ('huckeltb_dev',), 'hw1': ('hw1_dev',), 'hwleongtools': ('hwleongtools_dev',), 'hwtool': ('hwtool_dev',), 'hydrolab': ('hydrolab', 'hydrolab_dev', 'hydrolab_r15'), 'hyperlens': ('hyperlens_dev',), 'hyperrebo': ('hyperrebo', 'hyperrebo_dev', 'hyperrebo_r13', 'hyperrebo_r16', 'hyperrebo_r18', 'hyperrebo_r19', 'hyperrebo_r21', 'hyperrebo_r23'), 'hypie': ('hypie_dev',), 'hypiedesigner': ('hypiedesigner_dev', 'hypiedesigner_r11', 'hypiedesigner_r8'), 'hypiesolver': ('hypiesolver_dev', 'hypiesolver_r42', 'hypiesolver_r43', 'hypiesolver_r44', 'hypiesolver_r47', 'hypiesolver_r49'), 'hypotrace': ('hypotrace_dev',), 'hypoxia19': ('hypoxia19_dev', 'hypoxia19_r10'), 'iavmodule': ('iavmodule_dev', 'iavmodule_r32'), 'iii': ('iii_dev',), 'illustmath': ('illustmath_dev', 'illustmath_r29', 'illustmath_r35', 'illustmath_r41'), 'imadeupthisname': ('imadeupthisname_dev',), 'imagej': ('imagej_dev', 'imagej_r40', 'imagej_r50', 'imagej_r59', 'imagej_r62', 'imagej_r63', 'imagej_r64', 'imagej_r66', 'imagej_r70', 'imagej_r71', 'imagej_r75'), 'imageprocessor': ('imageprocessor_dev',), 'imagesegment': ('imagesegment_dev', 'imagesegment_r13', 'imagesegment_r16'), 'immunesys2ode': ('immunesys2ode_dev', 'immunesys2ode_r12'), 'imod': ('imod_dev', 'imod_r15', 'imod_r19'), 'impadder': ('impadder_dev', 'impadder_r4', 'impadder_r6'), 'impurity': ('impurity_dev',), 'impurityml': ('impurityml_dev',), 'imsmodelbilayer': ('imsmodelbilayer_dev',), 'indentation': ('indentation_dev',), 'indexellipsoid': ('indexellipsoid_dev',), 'inelastictoy': ('inelastictoy_dev',), 'infantcloud': ('infantcloud_dev',), 'interfaceff': ('interfaceff_dev',), 'introchemlabs': ('introchemlabs_dev',), 'intromllab': ('intromllab_dev', 'intromllab_r24', 'intromllab_r26'), 'introtosimtools': ('introtosimtools_dev', 'introtosimtools_r8', 'introtosimtools_r9'), 'inverter': ('inverter_dev',), 'ioexamples': ('ioexamples_dev',), 'ionchannel': ('ionchannel_dev',), 'iontrace': ('iontrace', 'iontrace_dev', 'iontrace_r11', 'iontrace_r13', 'iontrace_r15'), 'ipctest': ('ipctest_dev',), 'irfantool1': ('irfantool1_dev',), 'itrs': ('itrs_dev',), 'itzik': ('itzik_dev',), 'iu399sp19p001': ('iu399sp19p001_dev', 'iu399sp19p001_r4'), 'iu399sp19p030': ('iu399sp19p030_dev',), 'iu399sp19p038': ('iu399sp19p038_dev',), 'iu399sp19p099': ('iu399sp19p099_dev',), 'iu399sp19p100': ('iu399sp19p100_dev', 'iu399sp19p100_r11', 'iu399sp19p100_r8'), 'iu399sp19p101': ('iu399sp19p101_dev', 'iu399sp19p101_r3', 'iu399sp19p101_r8'), 'iu399sp19p299': ('iu399sp19p299_dev',), 'iu399sp19p301': ('iu399sp19p301_dev',), 'ivytool': ('ivytool_dev',), 'ivytool2': ('ivytool2_dev',), 'jamming': ('jamming_dev', 'jamming_r6', 'jamming_r8'), 'jarvis': ('jarvis_dev',), 'jfetlab': ('jfetlab_dev', 'jfetlab_r11'), 'jgo222': ('jgo222_dev',), 'jkjupyter': ('jkjupyter_dev',), 'jktooltest': ('jktooltest_dev',), 'jmoltool': ('jmoltool_dev', 'jmoltool_r12', 'jmoltool_r14', 'jmoltool_r9'), 'jmolviewer': ('jmolviewer_dev',), 'joommf': ('joommf_dev', 'joommf_r2', 'joommf_r4'), 'jtest': ('jtest_dev',), 'juptest': ('juptest_dev',), 'jupyter': ('jupyter_dev', 'jupyter_r2', 'jupyter_r4', 'jupyter_r5', 'jupyter_r7', 'jupyter_r9'), 'jupyter41': ('jupyter41_dev', 'jupyter41_r2'), 'jupyter44': ('jupyter44_dev', 'jupyter44_r3'), 'jupyter51': ('jupyter51_dev', 'jupyter51_r2'), 'jupyter60': ('jupyter60_dev', 'jupyter60_r2', 'jupyter60_r4'), 'jupyterdev': ('jupyterdev_dev', 'jupyterdev_r2'), 'jupyterexamples': ('jupyterexamples_dev', 'jupyterexamples_r10', 'jupyterexamples_r148', 'jupyterexamples_r7'), 'jupyterlab': ('jupyterlab_dev', 'jupyterlab_r2'), 'jupytermanual': ('jupytermanual_dev',), 'jupyterprefs': ('jupyterprefs_dev', 'jupyterprefs_r3', 'jupyterprefs_r5', 'jupyterprefs_r6'), 'jupytersheet': ('jupytersheet_dev',), 'jupytertesttool': ('jupytertesttool_dev',), 'jytesttool1': ('jytesttool1_dev',), 'kekaoxing': ('kekaoxing_dev',), 'kepe': ('kepe_dev',), 'kimexplorer': ('kimexplorer_dev', 'kimexplorer_r14', 'kimexplorer_r16', 'kimexplorer_r18'), 'kinetic': ('kinetic_dev',), 'kineticevolver': ('kineticevolver_dev',), 'kmc': ('kmc_dev',), 'kohonensom': ('kohonensom_dev', 'kohonensom_r10', 'kohonensom_r11', 'kohonensom_r12', 'kohonensom_r14', 'kohonensom_r16', 'kohonensom_r7'), 'kompala': ('kompala_dev',), 'kpnanofet': ('kpnanofet_dev', 'kpnanofet_r15', 'kpnanofet_r19', 'kpnanofet_r21', 'kpnanofet_r26'), 'kronig_penney': ('kronig_penney_dev', 'kronig_penney_r15', 'kronig_penney_r17', 'kronig_penney_r18', 'kronig_penney_r28', 'kronig_penney_r30', 'kronig_penney_r34', 'kronig_penney_r41', 'kronig_penney_r46', 'kronig_penney_r50', 'kronig_penney_r53', 'kronig_penney_r55'), 'kronigpenneylab': ('kronigpenneylab_dev', 'kronigpenneylab_r12', 'kronigpenneylab_r13'), 'kwparaview': ('kwparaview_dev',), 'lab3': ('lab3_dev',), 'labdatanb': ('labdatanb_dev',), 'lacs': ('lacs_dev',), 'lammps': ('lammps_dev',), 'lammpsdid': ('lammpsdid_dev',), 'lammpstool': ('lammpstool_dev', 'lammpstool_r18', 'lammpstool_r20', 'lammpstool_r22', 'lammpstool_r23', 'lammpstool_r24', 'lammpstool_r26', 'lammpstool_r27', 'lammpstool_r28', 'lammpstool_r29', 'lammpstool_r30', 'lammpstool_r33', 'lammpstool_r42', 'lammpstool_r43', 'lammpstool_r45', 'lammpstool_r46'), 'land': ('land_dev',), 'land1': ('land1_dev',), 'langevinkinks': ('langevinkinks_dev',), 'lantrap': ('lantrap_dev', 'lantrap_r11', 'lantrap_r8'), 'lantrap2': ('lantrap2_dev',), 'laser': ('laser', 'laser_dev', 'laser_r1'), 'laser2': ('laser2_dev',), 'laserdyn': ('laserdyn_dev', 'laserdyn_r22', 'laserdyn_r50', 'laserdyn_r52'), 'laserprop1': ('laserprop1_dev',), 'lawtest1': ('lawtest1_dev',), 'lcoe': ('lcoe_dev', 'lcoe_r5', 'lcoe_r6', 'lcoe_r7', 'lcoe_r8', 'lcoe_r9'), 'lda': ('lda_dev',), 'learnqe': ('learnqe_dev',), 'led': ('led_dev',), 'lee': ('lee_dev',), 'legogen': ('legogen_dev', 'legogen_r32', 'legogen_r34', 'legogen_r37', 'legogen_r42', 'legogen_r55', 'legogen_r56', 'legogen_r57'), 'lemon': ('lemon_dev',), 'levytdtr': ('levytdtr_dev', 'levytdtr_r3'), 'lfmobility': ('lfmobility', 'lfmobility_dev', 'lfmobility_r18', 'lfmobility_r20'), 'lforcef': ('lforcef_dev',), 'lh2exctransfer': ('lh2exctransfer_dev',), 'lianm': ('lianm_dev',), 'lib-gangli': ('lib-gangli', 'lib-gangli_dev'), 'libefp': ('libefp_dev', 'libefp_r14'), 'libra': ('libra_dev',), 'linregress': ('linregress_dev',), 'liver2gui': ('liver2gui_dev',), 'lkztest': ('lkztest_dev',), 'lmprne': ('lmprne_dev',), 'loremipsum': ('loremipsum_dev',), 'lorentzfit': ('lorentzfit_dev', 'lorentzfit_r14', 'lorentzfit_r16', 'lorentzfit_r7', 'lorentzfit_r9'), 'lptool': ('lptool_dev',), 'lucent': ('lucent_dev',), 'lynntesttool2': ('lynntesttool2_dev',), 'lynntool': ('lynntool_dev',), 'lyotest': ('lyotest_dev',), 'maccalibrate': ('maccalibrate_dev',), 'maccalibration': ('maccalibration_dev',), 'maccalibrator': ('maccalibrator_dev',), 'macrodox': ('macrodox_dev',), 'mage': ('mage_dev', 'mage_r9'), 'makeshot': ('makeshot_dev',), 'maml': ('maml_dev',), 'man1': ('man1_dev',), 'mandelbrotx': ('mandelbrotx_dev',), 'manipulator': ('manipulator_dev',), 'mappeditor': ('mappeditor_dev',), 'mastml': ('mastml_dev',), 'mat': ('mat_dev',), 'matdatarepo': ('matdatarepo_dev', 'matdatarepo_r10', 'matdatarepo_r11', 'matdatarepo_r12', 'matdatarepo_r13', 'matdatarepo_r15', 'matdatarepo_r16', 'matdatarepo_r17'), 'matdatatrans': ('matdatatrans_dev',), 'matdcal': ('matdcal_dev', 'matdcal_r15', 'matdcal_r7', 'matdcal_r9'), 'material': ('material_dev',), 'matlab': ('matlab', 'matlab_dev'), 'matlabdata': ('matlabdata_dev', 'matlabdata_r17', 'matlabdata_r18', 'matlabdata_r19'), 'matlabrad': ('matlabrad_dev', 'matlabrad_r3'), 'matrix2surface': ('matrix2surface_dev', 'matrix2surface_r10', 'matrix2surface_r8'), 'matrixdecomp': ('matrixdecomp_dev',), 'matsimtk': ('matsimtk', 'matsimtk_dev', 'matsimtk_r36', 'matsimtk_r38', 'matsimtk_r58', 'matsimtk_r65', 'matsimtk_r66', 'matsimtk_r68'), 'mattgillett581': ('mattgillett581_dev',), 'mavelp': ('mavelp_dev', 'mavelp_r81', 'mavelp_r82', 'mavelp_r85'), 'mbrtd': ('mbrtd_dev',), 'mcbulk': ('mcbulk_dev',), 'mcde': ('mcde_dev', 'mcde_r12', 'mcde_r14'), 'mcdna': ('mcdna_dev', 'mcdna_r11', 'mcdna_r9'), 'mcprobf': ('mcprobf_dev',), 'mcpt': ('mcpt_dev', 'mcpt_r21', 'mcpt_r9'), 'mctrigate': ('mctrigate_dev', 'mctrigate_r19', 'mctrigate_r20', 'mctrigate_r22', 'mctrigate_r24', 'mctrigate_r7'), 'mdanalysis': ('mdanalysis_dev', 'mdanalysis_r54', 'mdanalysis_r56', 'mdanalysis_r58'), 'mde': ('mde_dev', 'mde_r10', 'mde_r12', 'mde_r16', 'mde_r4', 'mde_r7'), 'mdgui': ('mdgui_dev',), 'mdinterfaces': ('mdinterfaces_dev',), 'mdmelt': ('mdmelt_dev',), 'mdmeltnb': ('mdmeltnb_dev',), 'mdshocks': ('mdshocks_dev', 'mdshocks_r30', 'mdshocks_r36', 'mdshocks_r38'), 'mdshowbuilder': ('mdshowbuilder_dev', 'mdshowbuilder_r13', 'mdshowbuilder_r22', 'mdshowbuilder_r23', 'mdshowbuilder_r25', 'mdshowbuilder_r26', 'mdshowbuilder_r27', 'mdshowbuilder_r30', 'mdshowbuilder_r31', 'mdshowbuilder_r32', 'mdshowbuilder_r35', 'mdshowbuilder_r39', 'mdshowbuilder_r44', 'mdshowbuilder_r54', 'mdshowbuilder_r6', 'mdshowbuilder_r61', 'mdshowbuilder_r63', 'mdshowbuilder_r64', 'mdshowbuilder_r65', 'mdshowbuilder_r66', 'mdshowbuilder_r68', 'mdshowbuilder_r69', 'mdshowbuilder_r71', 'mdshowbuilder_r73', 'mdshowbuilder_r76', 'mdshowbuilder_r9'), 'mdshowcase': ('mdshowcase_dev', 'mdshowcase_r11', 'mdshowcase_r13', 'mdshowcase_r18', 'mdshowcase_r32', 'mdshowcase_r40', 'mdshowcase_r42', 'mdshowcase_r44', 'mdshowcase_r50', 'mdshowcase_r51', 'mdshowcase_r54', 'mdshowcase_r57', 'mdshowcase_r58', 'mdshowcase_r77', 'mdshowcase_r78', 'mdshowcase_r80', 'mdshowcase_r81', 'mdshowcase_r82', 'mdshowcase_r83', 'mdshowcase_r86', 'mdshowcase_r87', 'mdshowcase_r88', 'mdshowcase_r90', 'mdshowcase_r91', 'mdshowcase_r92', 'mdshowcase_r93', 'mdshowcase_r94', 'mdshowcase_r95', 'mdshowcase_r96'), 'mdsim': ('mdsim', 'mdsim_dev', 'mdsim_r23', 'mdsim_r25', 'mdsim_r28'), 'mdsl': ('mdsl_dev',), 'mdstresslab': ('mdstresslab_dev',), 'mdtensiletest': ('mdtensiletest_dev',), 'mdthermal': ('mdthermal_dev',), 'mdtimestephelp': ('mdtimestephelp_dev',), 'mdvacancy': ('mdvacancy_dev', 'mdvacancy_r12', 'mdvacancy_r4', 'mdvacancy_r9'), 'mdworkflow': ('mdworkflow_dev',), 'me323': ('me323_dev',), 'me581': ('me581_dev',), 'me58100': ('me58100_dev',), 'me581hw': ('me581hw_dev',), 'me581hwquan': ('me581hwquan_dev',), 'me581jeong4': ('me581jeong4_dev',), 'medea': ('medea_dev',), 'medici': ('medici', 'medici_dev', 'medici_r3', 'medici_r4', 'medici_r7', 'medici_r8', 'medici_r9'), 'meep': ('meep', 'meep_dev', 'meep_r20', 'meep_r23', 'meep_r25', 'meep_r26', 'meep_r28', 'meep_r29', 'meep_r31', 'meep_r32', 'meep_r33', 'meep_r36', 'meep_r37'), 'meepnew': ('meepnew_dev',), 'meeppv': ('meeppv_dev', 'meeppv_r15', 'meeppv_r17', 'meeppv_r9'), 'meetingvideos': ('meetingvideos_dev',), 'meltbccs': ('meltbccs_dev',), 'meltheas': ('meltheas_dev', 'meltheas_r20', 'meltheas_r21', 'meltheas_r23', 'meltheas_r24', 'meltheas_r27'), 'meltingkim': ('meltingkim_dev', 'meltingkim_r15', 'meltingkim_r2', 'meltingkim_r25', 'meltingkim_r4', 'meltingkim_r5', 'meltingkim_r6'), 'meltrccas': ('meltrccas_dev', 'meltrccas_r10', 'meltrccas_r11', 'meltrccas_r13', 'meltrccas_r5', 'meltrccas_r7', 'meltrccas_r8'), 'memosa': ('memosa_dev',), 'memosa2dpiv': ('memosa2dpiv_dev',), 'memosapiv2d': ('memosapiv2d_dev', 'memosapiv2d_r5'), 'memristor': ('memristor_dev', 'memristor_r26', 'memristor_r29'), 'memscad': ('memscad_dev',), 'memscreep': ('memscreep_dev', 'memscreep_r29'), 'memsoscillator': ('memsoscillator_dev',), 'memsoscnet': ('memsoscnet_dev', 'memsoscnet_r9'), 'memsresponse': ('memsresponse_dev',), 'memtool': ('memtool_dev',), 'menimarik': ('menimarik_dev',), 'mesfet': ('mesfet_dev', 'mesfet_r12', 'mesfet_r14', 'mesfet_r15', 'mesfet_r17', 'mesfet_r21', 'mesfet_r30', 'mesfet_r31', 'mesfet_r34'), 'mesh2d': ('mesh2d', 'mesh2d_dev'), 'mfbts': ('mfbts_dev',), 'mgbasic': ('mgbasic_dev', 'mgbasic_r5', 'mgbasic_r8'), 'mgnanowirefet': ('mgnanowirefet', 'mgnanowirefet_dev', 'mgnanowirefet_r30', 'mgnanowirefet_r31', 'mgnanowirefet_r32', 'mgnanowirefet_r33', 'mgnanowirefet_r34', 'mgnanowirefet_r35', 'mgnanowirefet_r71'), 'micelle': ('micelle', 'micelle_dev', 'micelle_r23', 'micelle_r25', 'micelle_r26', 'micelle_r28', 'micelle_r30', 'micelle_r31'), 'microenvnmtr': ('microenvnmtr_dev', 'microenvnmtr_r11', 'microenvnmtr_r12'), 'microflowdeform': ('microflowdeform_dev',), 'microfsi': ('microfsi_dev',), 'midbraindopamin': ('midbraindopamin_dev', 'midbraindopamin_r3', 'midbraindopamin_r6', 'midbraindopamin_r8', 'midbraindopamin_r9'), 'mif': ('mif_dev', 'mif_r6'), 'mimi': ('mimi_dev',), 'minimol': ('minimol_dev', 'minimol_r148', 'minimol_r151', 'minimol_r161', 'minimol_r162', 'minimol_r173', 'minimol_r176', 'minimol_r177'), 'minimos': ('minimos', 'minimos_dev'), 'miniproject': ('miniproject_dev',), 'minotest': ('minotest_dev',), 'mixedgasads': ('mixedgasads_dev', 'mixedgasads_r10', 'mixedgasads_r12'), 'mixedgasdiff': ('mixedgasdiff_dev', 'mixedgasdiff_r12', 'mixedgasdiff_r14'), 'ml4ecg': ('ml4ecg_dev', 'ml4ecg_r14'), 'mlatomprop': ('mlatomprop_dev',), 'mldefect': ('mldefect_dev', 'mldefect_r10', 'mldefect_r7'), 'mldev': ('mldev_dev',), 'mlspad': ('mlspad_dev', 'mlspad_r20'), 'mmfl': ('mmfl_dev',), 'mmm': ('mmm_dev',), 'mmst': ('mmst', 'mmst_dev', 'mmst_r20', 'mmst_r23', 'mmst_r25', 'mmst_r26'), 'mmsttf': ('mmsttf_dev', 'mmsttf_r29', 'mmsttf_r31', 'mmsttf_r32', 'mmsttf_r39', 'mmsttf_r41'), 'mnw': ('mnw_dev',), 'mobiresis': ('mobiresis_dev', 'mobiresis_r6', 'mobiresis_r8'), 'moca': ('moca', 'moca_dev', 'moca_r1', 'moca_r33', 'moca_r39'), 'moca-ensemble': ('moca-ensemble', 'moca-ensemble_dev', 'moca-ensemble_r10', 'moca-ensemble_r12'), 'mocrbt': ('mocrbt_dev',), 'modeling': ('modeling_dev',), 'modelpop': ('modelpop_dev',), 'molctoy': ('molctoy_dev', 'molctoy_r1', 'molctoy_r11', 'molctoy_r9'), 'molden': ('molden', 'molden_dev'), 'mole': ('mole_dev',), 'molecule': ('molecule_dev',), 'molecule2': ('molecule2_dev',), 'molexpl': ('molexpl_dev', 'molexpl_r22'), 'molpull': ('molpull_dev', 'molpull_r85', 'molpull_r87', 'molpull_r89', 'molpull_r91', 'molpull_r92'), 'molspec': ('molspec_dev', 'molspec_r14'), 'molst': ('molst_dev', 'molst_r11', 'molst_r13', 'molst_r16', 'molst_r19', 'molst_r20', 'molst_r4', 'molst_r5', 'molst_r7'), 'momentum': ('momentum_dev',), 'moonspace': ('moonspace_dev', 'moonspace_r2'), 'moose': ('moose_dev', 'moose_r4', 'moose_r5', 'moose_r6'), 'mos': ('mos_dev', 'mos_r13', 'mos_r14'), 'moscap': ('moscap', 'moscap_dev', 'moscap_r24', 'moscap_r26', 'moscap_r33', 'moscap_r48', 'moscap_r50', 'moscap_r51', 'moscap_r52', 'moscap_r53', 'moscap_r55', 'moscap_r56', 'moscap_r57', 'moscap_r58', 'moscap_r63', 'moscap_r69'), 'moscap00': ('moscap00_dev',), 'moscnt': ('moscnt_dev',), 'moscntr': ('moscntr_dev', 'moscntr_r16', 'moscntr_r19', 'moscntr_r21', 'moscntr_r23', 'moscntr_r24', 'moscntr_r25', 'moscntr_r26', 'moscntr_r27'), 'mosctool': ('mosctool_dev', 'mosctool_r11', 'mosctool_r13'), 'moscv': ('moscv', 'moscv_dev'), 'mosfet': ('mosfet', 'mosfet_dev', 'mosfet_r130', 'mosfet_r132', 'mosfet_r133', 'mosfet_r134', 'mosfet_r135', 'mosfet_r28', 'mosfet_r31', 'mosfet_r40', 'mosfet_r41', 'mosfet_r42', 'mosfet_r44', 'mosfet_r47', 'mosfet_r48', 'mosfet_r49', 'mosfet_r67', 'mosfet_r70', 'mosfet_r72', 'mosfet_r75', 'mosfet_r76', 'mosfet_r77', 'mosfet_r78', 'mosfet_r79', 'mosfet_r83'), 'mosfet1': ('mosfet1_dev',), 'mosfet2sat': ('mosfet2sat_dev', 'mosfet2sat_r5'), 'mosfetlab': ('mosfetlab_dev',), 'mosfetsat': ('mosfetsat_dev', 'mosfetsat_r66'), 'mosfetsimulatn': ('mosfetsimulatn_dev',), 'moslab': ('moslab_dev',), 'mot2ddemocc3d': ('mot2ddemocc3d_dev', 'mot2ddemocc3d_r5', 'mot2ddemocc3d_r8', 'mot2ddemocc3d_r9'), 'motility': ('motility_dev', 'motility_r15', 'motility_r8'), 'motilitytrainin': ('motilitytrainin_dev', 'motilitytrainin_r5', 'motilitytrainin_r6', 'motilitytrainin_r8'), 'mpb': ('mpb_dev', 'mpb_r12', 'mpb_r16'), 'mpconvex': ('mpconvex_dev',), 'mrappture': ('mrappture', 'mrappture_dev', 'mrappture_r1'), 'mrgp': ('mrgp_dev',), 'mrsim': ('mrsim_dev',), 'msedata': ('msedata_dev',), 'msedemo': ('msedemo_dev',), 'mseds': ('mseds_dev',), 'mseml': ('mseml_dev', 'mseml_r27', 'mseml_r30', 'mseml_r42', 'mseml_r45'), 'msemlg': ('msemlg_dev', 'msemlg_r7'), 'msimld': ('msimld_dev',), 'msl': ('msl', 'msl_dev', 'msl_r10', 'msl_r12', 'msl_r4', 'msl_r5', 'msl_r6', 'msl_r7'), 'mstaracademic': ('mstaracademic_dev',), 'mstm': ('mstm_dev',), 'msugmmpc': ('msugmmpc_dev', 'msugmmpc_r4'), 'mtjlab': ('mtjlab_dev', 'mtjlab_r37', 'mtjlab_r40'), 'mtjstt': ('mtjstt_dev',), 'mtstub': ('mtstub_dev', 'mtstub_r4', 'mtstub_r7'), 'mujahid': ('mujahid_dev',), 'mullitesttool': ('mullitesttool_dev',), 'mullitesttool2': ('mullitesttool2_dev',), 'mullitesttool3': ('mullitesttool3_dev',), 'multimeter': ('multimeter_dev', 'multimeter_r5', 'multimeter_r7'), 'multiscaletec': ('multiscaletec_dev', 'multiscaletec_r10', 'multiscaletec_r13'), 'mutpro': ('mutpro_dev',), 'mvs': ('mvs_dev',), 'mvsuqfit': ('mvsuqfit_dev',), 'mw': ('mw',), 'myhowitworkstoo': ('myhowitworkstoo_dev',), 'mynanodb': ('mynanodb_dev',), 'mynanosim': ('mynanosim_dev',), 'nacresim': ('nacresim_dev',), 'nacresimulation': ('nacresimulation_dev',), 'nacresimulator': ('nacresimulator_dev', 'nacresimulator_r33', 'nacresimulator_r35'), 'nanoadhesion': ('nanoadhesion_dev',), 'nanoadhesionlab': ('nanoadhesionlab_dev',), 'nanoarray': ('nanoarray_dev', 'nanoarray_r10', 'nanoarray_r12', 'nanoarray_r13', 'nanoarray_r7'), 'nanobind': ('nanobind_dev', 'nanobind_r16', 'nanobind_r62'), 'nanobio2': ('nanobio2_dev',), 'nanobiobuilder': ('nanobiobuilder_dev',), 'nanobiophotsim': ('nanobiophotsim_dev', 'nanobiophotsim_r10', 'nanobiophotsim_r7', 'nanobiophotsim_r9'), 'nanocmos': ('nanocmos', 'nanocmos_dev', 'nanocmos_r18', 'nanocmos_r19', 'nanocmos_r21', 'nanocmos_r24'), 'nanocomposit': ('nanocomposit_dev',), 'nanocomposite': ('nanocomposite_dev',), 'nanoconfinement': ('nanoconfinement_dev', 'nanoconfinement_r17', 'nanoconfinement_r27', 'nanoconfinement_r36', 'nanoconfinement_r43', 'nanoconfinement_r531', 'nanoconfinement_r537', 'nanoconfinement_r55', 'nanoconfinement_r550', 'nanoconfinement_r573', 'nanoconfinement_r574', 'nanoconfinement_r575', 'nanoconfinement_r58'), 'nanoconstructor': ('nanoconstructor_dev',), 'nanocontact': ('nanocontact_dev',), 'nanocsv': ('nanocsv_dev',), 'nanodatabank': ('nanodatabank_dev',), 'nanodatabase': ('nanodatabase_dev',), 'nanodiffraction': ('nanodiffraction_dev',), 'nanodiscforce': ('nanodiscforce_dev',), 'nanodiscovforce': ('nanodiscovforce_dev',), 'nanodrill': ('nanodrill_dev', 'nanodrill_r14', 'nanodrill_r8'), 'nanoenergytools': ('nanoenergytools_dev', 'nanoenergytools_r23', 'nanoenergytools_r51', 'nanoenergytools_r54', 'nanoenergytools_r57', 'nanoenergytools_r62', 'nanoenergytools_r66', 'nanoenergytools_r68'), 'nanofeap1': ('nanofeap1_dev',), 'nanofet': ('nanofet', 'nanofet_dev', 'nanofet_r102', 'nanofet_r107', 'nanofet_r110', 'nanofet_r42', 'nanofet_r45', 'nanofet_r47', 'nanofet_r48', 'nanofet_r60', 'nanofet_r68'), 'nanofilm': ('nanofilm_dev', 'nanofilm_r12', 'nanofilm_r14', 'nanofilm_r15', 'nanofilm_r16', 'nanofilm_r7'), 'nanofinfet': ('nanofinfet_dev', 'nanofinfet_r39', 'nanofinfet_r55', 'nanofinfet_r67', 'nanofinfet_r80', 'nanofinfet_r86', 'nanofinfet_r91', 'nanofinfet_r92'), 'nanogromacs': ('nanogromacs', 'nanogromacs_dev', 'nanogromacs_r22', 'nanogromacs_r34', 'nanogromacs_r35', 'nanogromacs_r37', 'nanogromacs_r38', 'nanogromacs_r40'), 'nanogromacsdemo': ('nanogromacsdemo_dev', 'nanogromacsdemo_r16', 'nanogromacsdemo_r18', 'nanogromacsdemo_r20', 'nanogromacsdemo_r22', 'nanogromacsdemo_r26', 'nanogromacsdemo_r27', 'nanogromacsdemo_r28'), 'nanogromacsii': ('nanogromacsii_dev', 'nanogromacsii_r10', 'nanogromacsii_r13', 'nanogromacsii_r15', 'nanogromacsii_r16', 'nanogromacsii_r17', 'nanogromacsii_r4', 'nanogromacsii_r9'), 'nanoheatflow': ('nanoheatflow_dev', 'nanoheatflow_r238', 'nanoheatflow_r248', 'nanoheatflow_r253', 'nanoheatflow_r263', 'nanoheatflow_r286', 'nanoheatflow_r288', 'nanoheatflow_r290'), 'nanohop': ('nanohop_dev',), 'nanohub': ('nanohub',), 'nanohub-for-kids': ('nanohub-for-kids',), 'nanohub-support': ('nanohub-support',), 'nanohubcd': ('nanohubcd_dev',), 'nanohubtest': ('nanohubtest_dev',), 'nanoin': ('nanoin_dev', 'nanoin_r3', 'nanoin_r5'), 'nanoindentation': ('nanoindentation_dev', 'nanoindentation_r16', 'nanoindentation_r18', 'nanoindentation_r21', 'nanoindentation_r23', 'nanoindentation_r24', 'nanoindentation_r26', 'nanoindentation_r34', 'nanoindentation_r37', 'nanoindentation_r40', 'nanoindentation_r41', 'nanoindentation_r43', 'nanoindentation_r44', 'nanoindentation_r45'), 'nanoindentplus': ('nanoindentplus_dev',), 'nanolammps': ('nanolammps_dev',), 'nanomatmech': ('nanomatmech_dev', 'nanomatmech_r182', 'nanomatmech_r186', 'nanomatmech_r187', 'nanomatmech_r196', 'nanomatmech_r198', 'nanomatmech_r209', 'nanomatmech_r213', 'nanomatmech_r222', 'nanomatmech_r230', 'nanomatmech_r234', 'nanomatmech_r246', 'nanomatmech_r253', 'nanomatmech_r264', 'nanomatmech_r267', 'nanomatmech_r269', 'nanomatmech_r295'), 'nanomgnets': ('nanomgnets_dev', 'nanomgnets_r10', 'nanomgnets_r13', 'nanomgnets_r15', 'nanomgnets_r6'), 'nanomoldy': ('nanomoldy_dev', 'nanomoldy_r29'), 'nanomos': ('nanomos', 'nanomos-3', 'nanomos_dev', 'nanomos_r158', 'nanomos_r178', 'nanomos_r181', 'nanomos_r185', 'nanomos_r186', 'nanomos_r235', 'nanomos_r237', 'nanomos_r240', 'nanomos_r241', 'nanomos_r243', 'nanomos_r67', 'nanomos_r70', 'nanomos_r73', 'nanomos_r79'), 'nanomoshemt': ('nanomoshemt_dev',), 'nanomove': ('nanomove_dev',), 'nanonet': ('nanonet', 'nanonet_dev', 'nanonet_r39', 'nanonet_r41', 'nanonet_r45', 'nanonet_r46', 'nanonet_r58', 'nanonet_r67', 'nanonet_r68', 'nanonet_r90', 'nanonet_r93', 'nanonet_r94', 'nanonet_r96'), 'nanonetcac': ('nanonetcac_dev',), 'nanonetwork': ('nanonetwork_dev',), 'nanonichrome': ('nanonichrome_dev',), 'nanopack': ('nanopack_dev',), 'nanoparticle': ('nanoparticle_dev', 'nanoparticle_r10', 'nanoparticle_r12', 'nanoparticle_r13', 'nanoparticle_r15', 'nanoparticle_r16', 'nanoparticle_r5'), 'nanoplasmonics': ('nanoplasmonics_dev',), 'nanoplasticity': ('nanoplasticity_dev', 'nanoplasticity_r39', 'nanoplasticity_r49', 'nanoplasticity_r60', 'nanoplasticity_r63', 'nanoplasticity_r66', 'nanoplasticity_r68', 'nanoplasticity_r69', 'nanoplasticity_r70', 'nanoplasticity_r71'), 'nanoplasticity2': ('nanoplasticity2_dev',), 'nanoplasticnb': ('nanoplasticnb_dev',), 'nanopredictor': ('nanopredictor_dev',), 'nanoreliability': ('nanoreliability_dev',), 'nanoriskapp1': ('nanoriskapp1_dev',), 'nanosim': ('nanosim_dev',), 'nanossl': ('nanossl_dev', 'nanossl_r39', 'nanossl_r54', 'nanossl_r55'), 'nanotech': ('nanotech_dev',), 'nanotest': ('nanotest_dev',), 'nanott': ('nanott_dev',), 'nanotube': ('nanotube_dev',), 'nanotubes': ('nanotubes_dev',), 'nanov': ('nanov_dev',), 'nanovisc': ('nanovisc_dev', 'nanovisc_r33'), 'nanowhim': ('nanowhim',), 'nanowire': ('nanowire', 'nanowire_dev', 'nanowire_r187', 'nanowire_r188', 'nanowire_r189', 'nanowire_r200', 'nanowire_r213', 'nanowire_r226', 'nanowire_r227', 'nanowire_r232'), 'nanowireclassic': ('nanowireclassic', 'nanowireclassic_dev', 'nanowireclassic_r4', 'nanowireclassic_r6'), 'nanowirephonon': ('nanowirephonon_dev',), 'nasamac': ('nasamac_dev',), 'nasamaccalib': ('nasamaccalib_dev',), 'nawigator': ('nawigator_dev',), 'nbas': ('nbas_dev',), 'nbrush': ('nbrush_dev', 'nbrush_r13', 'nbrush_r22', 'nbrush_r27', 'nbrush_r29'), 'nccpf': ('nccpf_dev', 'nccpf_r12', 'nccpf_r16', 'nccpf_r18', 'nccpf_r25', 'nccpf_r4', 'nccpf_r9'), 'ncevol': ('ncevol_dev', 'ncevol_r2'), 'ncn': ('ncn',), 'ncn_students': ('ncn_students',), 'ncnretroreport': ('ncnretroreport_dev', 'ncnretroreport_r4'), 'ncntesttool': ('ncntesttool_dev',), 'ncnure2018': ('ncnure2018_dev',), 'needsmtj': ('needsmtj_dev',), 'needsqsmmc': ('needsqsmmc_dev',), 'needsrelrbt': ('needsrelrbt_dev',), 'needssrr': ('needssrr_dev',), 'needstest': ('needstest_dev',), 'negfdgmos': ('negfdgmos_dev',), 'nemo': ('nemo_dev',), 'nemo3dvis': ('nemo3dvis_dev',), 'nemo5': ('nemo5_dev',), 'nemowire': ('nemowire_dev',), 'nems': ('nems_dev',), 'netacad': ('netacad_dev',), 'neuralsynch': ('neuralsynch_dev',), 'neursynch': ('neursynch_dev', 'neursynch_r3'), 'newnanodb': ('newnanodb_dev',), 'newnanodb2': ('newnanodb2_dev',), 'newuser': ('newuser_dev',), 'newuser2': ('newuser2_dev',), 'nexperiment': ('nexperiment_dev',), 'nextnano': ('nextnano_dev',), 'nfmbpp': ('nfmbpp_dev',), 'nh3h2o': ('nh3h2o_dev',), 'nhcrashtest': ('nhcrashtest_dev',), 'nhimpacts': ('nhimpacts_dev',), 'nhnetgen': ('nhnetgen_dev', 'nhnetgen_r45'), 'nhremote': ('nhremote_dev', 'nhremote_r3', 'nhremote_r4'), 'nianalyzer': ('nianalyzer_dev',), 'nicktest': ('nicktest_dev', 'nicktest_r1', 'nicktest_r11', 'nicktest_r15', 'nicktest_r17', 'nicktest_r28', 'nicktest_r4', 'nicktest_r40', 'nicktest_r42', 'nicktest_r44', 'nicktest_r47', 'nicktest_r49', 'nicktest_r5', 'nicktest_r51', 'nicktest_r53', 'nicktest_r55', 'nicktest_r567', 'nicktest_r568', 'nicktest_r569', 'nicktest_r57', 'nicktest_r570', 'nicktest_r571', 'nicktest_r572', 'nicktest_r573', 'nicktest_r574', 'nicktest_r59', 'nicktest_r6', 'nicktest_r61', 'nicktest_r63', 'nicktest_r65', 'nicktest_r67', 'nicktest_r69', 'nicktest_r7', 'nicktest_r71', 'nicktest_r73', 'nicktest_r75', 'nicktest_r77', 'nicktest_r79', 'nicktest_r81', 'nicktest_r82', 'nicktest_r83', 'nicktest_r85', 'nicktest_r86', 'nicktest_r87', 'nicktest_r89', 'nicktest_r9', 'nicktest_r90', 'nicktest_r91', 'nicktest_r93'), 'nicktest100': ('nicktest100_dev', 'nicktest100_r1'), 'nicktest2': ('nicktest2_dev',), 'nicktest20': ('nicktest20_dev', 'nicktest20_r2', 'nicktest20_r3'), 'nicktest3': ('nicktest3_dev', 'nicktest3_r1'), 'nicktest5': ('nicktest5_dev',), 'nil': ('nil_dev',), 'ninithi': ('ninithi_dev',), 'nisindiffusion': ('nisindiffusion_dev', 'nisindiffusion_r10', 'nisindiffusion_r20', 'nisindiffusion_r22', 'nisindiffusion_r4'), 'nistjarvis': ('nistjarvis_dev',), 'njktest': ('njktest_dev',), 'njktest2': ('njktest2_dev',), 'nlattice': ('nlattice_dev',), 'nmad': ('nmad_dev',), 'nmag': ('nmag_dev',), 'nmi': ('nmi',), 'nmie': ('nmie_dev', 'nmie_r11', 'nmie_r15', 'nmie_r16', 'nmie_r18', 'nmie_r8'), 'nmst_dft': ('nmst_dft_dev', 'nmst_dft_r54', 'nmst_dft_r72', 'nmst_dft_r74', 'nmst_dft_r78', 'nmst_dft_r90', 'nmst_dft_r91', 'nmst_dft_r96'), 'nmstseqquest': ('nmstseqquest_dev',), 'nmstthermal': ('nmstthermal_dev', 'nmstthermal_r49', 'nmstthermal_r57', 'nmstthermal_r64', 'nmstthermal_r65'), 'nmstthermaluq': ('nmstthermaluq_dev',), 'nnrf': ('nnrf_dev', 'nnrf_r26', 'nnrf_r35', 'nnrf_r37', 'nnrf_r43', 'nnrf_r48'), 'nntut': ('nntut_dev',), 'nonrigidmatch': ('nonrigidmatch_dev',), 'normdist': ('normdist_dev', 'normdist_r5', 'normdist_r7'), 'npassemblylab': ('npassemblylab_dev', 'npassemblylab_r11', 'npassemblylab_r24', 'npassemblylab_r49', 'npassemblylab_r51'), 'nplongbasedda': ('nplongbasedda_dev', 'nplongbasedda_r10', 'nplongbasedda_r16', 'nplongbasedda_r5'), 'npshapelab': ('npshapelab_dev', 'npshapelab_r163', 'npshapelab_r165', 'npshapelab_r209', 'npshapelab_r211'), 'npshortbasedda': ('npshortbasedda_dev', 'npshortbasedda_r10', 'npshortbasedda_r12', 'npshortbasedda_r5'), 'npt': ('npt_dev', 'npt_r10', 'npt_r8'), 'nptss': ('nptss_dev',), 'nqt': ('nqt_dev',), 'nribench': ('nribench_dev',), 'nrr': ('nrr_dev', 'nrr_r123'), 'nrstem': ('nrstem_dev',), 'nselectrostatic': ('nselectrostatic_dev', 'nselectrostatic_r167', 'nselectrostatic_r23', 'nselectrostatic_r29', 'nselectrostatic_r33', 'nselectrostatic_r40', 'nselectrostatic_r45'), 'nsmch10master': ('nsmch10master_dev', 'nsmch10master_r11', 'nsmch10master_r9'), 'nsmch13master': ('nsmch13master_dev',), 'nsmch6master': ('nsmch6master_dev', 'nsmch6master_r5', 'nsmch6master_r7'), 'nsmmaster': ('nsmmaster_dev', 'nsmmaster_r28', 'nsmmaster_r30', 'nsmmaster_r39', 'nsmmaster_r40'), 'nsoi': ('nsoi_dev',), 'nsoptics': ('nsoptics', 'nsoptics_dev', 'nsoptics_r21', 'nsoptics_r29', 'nsoptics_r30', 'nsoptics_r31', 'nsoptics_r33', 'nsoptics_r34'), 'nsoptics3d': ('nsoptics3d_dev', 'nsoptics3d_r11', 'nsoptics3d_r15', 'nsoptics3d_r17', 'nsoptics3d_r18', 'nsoptics3d_r9'), 'nsopticsjr': ('nsopticsjr', 'nsopticsjr_dev', 'nsopticsjr_r1'), 'ntat': ('ntat_dev',), 'ntueffect': ('ntueffect_dev',), 'nuitns': ('nuitns_dev', 'nuitns_r10', 'nuitns_r13'), 'numpytest': ('numpytest_dev',), 'nusimm': ('nusimm_dev', 'nusimm_r11', 'nusimm_r21', 'nusimm_r22', 'nusimm_r24', 'nusimm_r883'), 'nwabsorption': ('nwabsorption_dev', 'nwabsorption_r11', 'nwabsorption_r13', 'nwabsorption_r14', 'nwabsorption_r26', 'nwabsorption_r27', 'nwabsorption_r28'), 'nwchem': ('nwchem_dev',), 'nwchemband': ('nwchemband_dev',), 'nwldos': ('nwldos_dev', 'nwldos_r41'), 'nwoquantify': ('nwoquantify_dev',), 'octave': ('octave', 'octave_dev'), 'octaview': ('octaview_dev', 'octaview_r10', 'octaview_r15', 'octaview_r22', 'octaview_r24', 'octaview_r27', 'octaview_r6'), 'ofetmodel': ('ofetmodel_dev',), 'ohmlaw': ('ohmlaw_dev',), 'ohmslaw': ('ohmslaw_dev', 'ohmslaw_r10', 'ohmslaw_r5'), 'ohmygodann': ('ohmygodann_dev',), 'omen2vtk': ('omen2vtk_dev',), 'omenhfet': ('omenhfet_dev', 'omenhfet_r100', 'omenhfet_r123', 'omenhfet_r132', 'omenhfet_r134', 'omenhfet_r135', 'omenhfet_r95', 'omenhfet_r96', 'omenhfet_r98'), 'omenwire': ('omenwire_dev', 'omenwire_r105', 'omenwire_r108', 'omenwire_r119', 'omenwire_r121', 'omenwire_r124', 'omenwire_r130', 'omenwire_r132', 'omenwire_r141', 'omenwire_r142', 'omenwire_r143', 'omenwire_r144', 'omenwire_r50', 'omenwire_r63', 'omenwire_r75', 'omenwire_r80', 'omenwire_r84', 'omenwire_r91'), 'oneunitwiposfb': ('oneunitwiposfb_dev',), 'oneunitwposfb': ('oneunitwposfb_dev',), 'ontview': ('ontview_dev',), 'oof': ('oof', 'oof_dev'), 'oof1': ('oof1_dev',), 'oof2': ('oof2_dev', 'oof2_r10', 'oof2_r11', 'oof2_r15', 'oof2_r17', 'oof2_r18', 'oof2_r19', 'oof2_r2', 'oof2_r3', 'oof2_r4', 'oof2_r6', 'oof2_r8'), 'oof3d': ('oof3d_dev',), 'oof64': ('oof64_dev',), 'oommf': ('oommf_dev', 'oommf_r11', 'oommf_r12', 'oommf_r8'), 'oommfnotebooks': ('oommfnotebooks_dev', 'oommfnotebooks_r4', 'oommfnotebooks_r6', 'oommfnotebooks_r7', 'oommfnotebooks_r8'), 'oommfonline': ('oommfonline_dev',), 'opal': ('opal_dev',), 'opamp': ('opamp_dev',), 'opt': ('opt_dev', 'opt_r17'), 'opticalprop': ('opticalprop_dev',), 'opticslab': ('opticslab_dev', 'opticslab_r11', 'opticslab_r13', 'opticslab_r6'), 'opticslens': ('opticslens_dev', 'opticslens_r15', 'opticslens_r16', 'opticslens_r18', 'opticslens_r20', 'opticslens_r22'), 'optodet': ('optodet_dev', 'optodet_r50', 'optodet_r52'), 'opv': ('opv_dev', 'opv_r6', 'opv_r8', 'opv_r9'), 'opvdm': ('opvdm_dev',), 'orca': ('orca_dev',), 'orcatool': ('orcatool_dev', 'orcatool_r20', 'orcatool_r22', 'orcatool_r25', 'orcatool_r26', 'orcatool_r28', 'orcatool_r29', 'orcatool_r33'), 'organoidtumor': ('organoidtumor_dev',), 'ots': ('ots_dev',), 'owetp': ('owetp_dev', 'owetp_r21', 'owetp_r26'), 'oxidation': ('oxidation_dev',), 'oxideprop': ('oxideprop_dev',), 'padre': ('padre', 'padre_dev', 'padre_r12', 'padre_r17', 'padre_r20', 'padre_r22', 'padre_r8'), 'padreagere': ('padreagere_dev',), 'pamela': ('pamela_dev',), 'paradimtutorial': ('paradimtutorial_dev',), 'parallelcoding': ('parallelcoding_dev',), 'partad': ('partad_dev',), 'particlediffusi': ('particlediffusi_dev',), 'particlesim': ('particlesim_dev',), 'particletrap': ('particletrap_dev', 'particletrap_r11', 'particletrap_r5', 'particletrap_r8', 'particletrap_r9'), 'particleve': ('particleve_dev', 'particleve_r12', 'particleve_r15', 'particleve_r16', 'particleve_r18', 'particleve_r19', 'particleve_r2', 'particleve_r7'), 'partsub': ('partsub_dev', 'partsub_r27', 'partsub_r29', 'partsub_r31', 'partsub_r59', 'partsub_r61', 'partsub_r75', 'partsub_r93', 'partsub_r96', 'partsub_r98'), 'parttrack': ('parttrack_dev', 'parttrack_r14', 'parttrack_r17', 'parttrack_r20', 'parttrack_r22', 'parttrack_r23', 'parttrack_r24'), 'patform': ('patform_dev', 'patform_r31', 'patform_r34', 'patform_r41', 'patform_r43'), 'pathway': ('pathway_dev',), 'pb4covid19': ('pb4covid19_dev', 'pb4covid19_r41', 'pb4covid19_r42', 'pb4covid19_r46', 'pb4covid19_r47', 'pb4covid19_r49'), 'pba4tnf': ('pba4tnf_dev', 'pba4tnf_r3'), 'pbndeltarule': ('pbndeltarule_dev', 'pbndeltarule_r2', 'pbndeltarule_r4', 'pbndeltarule_r5'), 'pbnpredict': ('pbnpredict_dev', 'pbnpredict_r4', 'pbnpredict_r6', 'pbnpredict_r8', 'pbnpredict_r9'), 'pc1d': ('pc1d_dev', 'pc1d_r7', 'pc1d_r9'), 'pc3types': ('pc3types_dev', 'pc3types_r10', 'pc3types_r14', 'pc3types_r18', 'pc3types_r8'), 'pc4biorobots': ('pc4biorobots_dev', 'pc4biorobots_r16', 'pc4biorobots_r30', 'pc4biorobots_r41', 'pc4biorobots_r42', 'pc4biorobots_r44', 'pc4biorobots_r46', 'pc4biorobots_r48', 'pc4biorobots_r49', 'pc4biorobots_r51', 'pc4biorobots_r52', 'pc4biorobots_r56', 'pc4biorobots_r9'), 'pc4boogie': ('pc4boogie_dev',), 'pc4cancerbots': ('pc4cancerbots_dev', 'pc4cancerbots_r12', 'pc4cancerbots_r14', 'pc4cancerbots_r19', 'pc4cancerbots_r22', 'pc4cancerbots_r52', 'pc4cancerbots_r55', 'pc4cancerbots_r70', 'pc4cancerbots_r71', 'pc4cancerbots_r74', 'pc4cancerbots_r78', 'pc4cancerbots_r79'), 'pc4cancerimmune': ('pc4cancerimmune_dev', 'pc4cancerimmune_r15', 'pc4cancerimmune_r18', 'pc4cancerimmune_r21', 'pc4cancerimmune_r24', 'pc4cancerimmune_r26', 'pc4cancerimmune_r27', 'pc4cancerimmune_r28', 'pc4cancerimmune_r6'), 'pc4covid19': ('pc4covid19_dev', 'pc4covid19_r154', 'pc4covid19_r161', 'pc4covid19_r174', 'pc4covid19_r19', 'pc4covid19_r264', 'pc4covid19_r266', 'pc4covid19_r268', 'pc4covid19_r76', 'pc4covid19_r83'), 'pc4dummies': ('pc4dummies_dev',), 'pc4ecm': ('pc4ecm_dev',), 'pc4ecm2': ('pc4ecm2_dev',), 'pc4ecm3': ('pc4ecm3_dev',), 'pc4fury': ('pc4fury_dev',), 'pc4heterogen': ('pc4heterogen_dev', 'pc4heterogen_r12', 'pc4heterogen_r17', 'pc4heterogen_r2', 'pc4heterogen_r20', 'pc4heterogen_r32', 'pc4heterogen_r34', 'pc4heterogen_r35', 'pc4heterogen_r6', 'pc4heterogen_r9'), 'pc4hypoxia': ('pc4hypoxia_dev',), 'pc4livermedium': ('pc4livermedium_dev', 'pc4livermedium_r10', 'pc4livermedium_r13', 'pc4livermedium_r27', 'pc4livermedium_r3', 'pc4livermedium_r40', 'pc4livermedium_r54', 'pc4livermedium_r59'), 'pc4nanobio': ('pc4nanobio_dev', 'pc4nanobio_r127', 'pc4nanobio_r129', 'pc4nanobio_r133', 'pc4nanobio_r137', 'pc4nanobio_r141', 'pc4nanobio_r30', 'pc4nanobio_r50', 'pc4nanobio_r54', 'pc4nanobio_r56', 'pc4nanobio_r58', 'pc4nanobio_r64'), 'pc4sbml': ('pc4sbml_dev', 'pc4sbml_r29'), 'pc4thanos': ('pc4thanos_dev', 'pc4thanos_r16', 'pc4thanos_r9'), 'pc4training': ('pc4training_dev', 'pc4training_r12', 'pc4training_r13'), 'pc4tumor3d': ('pc4tumor3d_dev', 'pc4tumor3d_r38'), 'pc4tumorhypoxia': ('pc4tumorhypoxia_dev', 'pc4tumorhypoxia_r12', 'pc4tumorhypoxia_r13', 'pc4tumorhypoxia_r5', 'pc4tumorhypoxia_r7'), 'pc4virusmacro': ('pc4virusmacro_dev',), 'pcisa': ('pcisa_dev', 'pcisa_r10', 'pcisa_r15', 'pcisa_r18', 'pcisa_r56', 'pcisa_r57', 'pcisa_r7'), 'pcpbt': ('pcpbt_dev', 'pcpbt_r30', 'pcpbt_r39', 'pcpbt_r42', 'pcpbt_r45', 'pcpbt_r46', 'pcpbt_r52', 'pcpbt_r55', 'pcpbt_r56', 'pcpbt_r58', 'pcpbt_r59', 'pcpbt_r60', 'pcpbt_r61', 'pcpbt_r65', 'pcpbt_r70', 'pcpbt_r76', 'pcpbt_r83', 'pcpbt_r87', 'pcpbt_r89', 'pcpbt_r91', 'pcpbt_r95', 'pcpbt_r99'), 'pdbviewer': ('pdbviewer_dev',), 'pdot': ('pdot_dev',), 'pegtut': ('pegtut_dev', 'pegtut_r6'), 'perc': ('perc_dev',), 'perfectabsorber': ('perfectabsorber_dev', 'perfectabsorber_r38', 'perfectabsorber_r40'), 'periodicpot': ('periodicpot', 'periodicpot_dev', 'periodicpot_r19', 'periodicpot_r21'), 'perspinmtj': ('perspinmtj_dev',), 'pertdd': ('pertdd_dev', 'pertdd_r10', 'pertdd_r7', 'pertdd_r9'), 'pertdistrep': ('pertdistrep_dev', 'pertdistrep_r10', 'pertdistrep_r6', 'pertdistrep_r9'), 'pertgrad1by1': ('pertgrad1by1_dev', 'pertgrad1by1_r18', 'pertgrad1by1_r19', 'pertgrad1by1_r20', 'pertgrad1by1_r9'), 'pertgradll': ('pertgradll_dev', 'pertgradll_r13', 'pertgradll_r15', 'pertgradll_r16'), 'pete': ('pete', 'pete_dev', 'pete_r32', 'pete_r34', 'pete_r40', 'pete_r42', 'pete_r45', 'pete_r47', 'pete_r48', 'pete_r50'), 'petot': ('petot_dev',), 'pfel': ('pfel_dev',), 'pharmengine': ('pharmengine',), 'phasor': ('phasor_dev', 'phasor_r6', 'phasor_r8'), 'phcband': ('phcband', 'phcband_dev', 'phcband_r11', 'phcband_r9'), 'phir': ('phir_dev',), 'phononlifetime': ('phononlifetime_dev', 'phononlifetime_r106', 'phononlifetime_r108', 'phononlifetime_r69', 'phononlifetime_r71'), 'phononnegf': ('phononnegf_dev',), 'phononts': ('phononts_dev',), 'phonts': ('phonts_dev',), 'phot_matl_db': ('phot_matl_db_dev',), 'photocapacitor': ('photocapacitor_dev',), 'photonicscl': ('photonicscl_dev', 'photonicscl_r28', 'photonicscl_r56', 'photonicscl_r57', 'photonicscl_r68'), 'photonicsdb': ('photonicsdb_dev', 'photonicsdb_r174', 'photonicsdb_r176', 'photonicsdb_r36', 'photonicsdb_r41', 'photonicsdb_r44', 'photonicsdb_r46', 'photonicsdb_r47', 'photonicsdb_r60', 'photonicsdb_r63', 'photonicsdb_r65', 'photonicsdb_r66', 'photonicsdb_r68'), 'photonicsnl': ('photonicsnl_dev',), 'photonicspos': ('photonicspos_dev', 'photonicspos_r432', 'photonicspos_r433', 'photonicspos_r436', 'photonicspos_r443', 'photonicspos_r447', 'photonicspos_r459'), 'photonicsrt': ('photonicsrt_dev', 'photonicsrt_r12', 'photonicsrt_r14', 'photonicsrt_r20', 'photonicsrt_r22', 'photonicsrt_r26', 'photonicsrt_r27', 'photonicsrt_r28', 'photonicsrt_r29', 'photonicsrt_r31', 'photonicsrt_r33', 'photonicsrt_r39', 'photonicsrt_r4', 'photonicsrt_r41', 'photonicsrt_r63', 'photonicsrt_r66', 'photonicsrt_r8'), 'photonicstk': ('photonicstk_dev', 'photonicstk_r44', 'photonicstk_r50', 'photonicstk_r53', 'photonicstk_r56', 'photonicstk_r58'), 'photonicvasefit': ('photonicvasefit_dev', 'photonicvasefit_r10', 'photonicvasefit_r11', 'photonicvasefit_r12', 'photonicvasefit_r13', 'photonicvasefit_r8'), 'physicellecm': ('physicellecm_dev', 'physicellecm_r14', 'physicellecm_r25', 'physicellecm_r28', 'physicellecm_r34'), 'physicelltest': ('physicelltest_dev',), 'pid': ('pid_dev',), 'piezo': ('piezo_dev',), 'piezoharvest': ('piezoharvest_dev', 'piezoharvest_r38'), 'piezoslive': ('piezoslive_dev',), 'pigmentfinder': ('pigmentfinder_dev',), 'pigmenthunter': ('pigmenthunter_dev', 'pigmenthunter_r50', 'pigmenthunter_r86'), 'pigmentparser': ('pigmentparser_dev',), 'pimc': ('pimc_dev', 'pimc_r12', 'pimc_r13', 'pimc_r19', 'pimc_r7'), 'pin': ('pin_dev',), 'pitzer': ('pitzer_dev',), 'plainstrain2d': ('plainstrain2d_dev',), 'plottool': ('plottool_dev', 'plottool_r129', 'plottool_r234', 'plottool_r243', 'plottool_r292'), 'pmtddb': ('pmtddb_dev',), 'pnbase': ('pnbase_dev',), 'pndot': ('pndot_dev',), 'pnjunction1190': ('pnjunction1190_dev',), 'pnjunctionlab': ('pnjunctionlab_dev', 'pnjunctionlab_r12', 'pnjunctionlab_r14', 'pnjunctionlab_r15', 'pnjunctionlab_r3'), 'pnlongbasedda': ('pnlongbasedda_dev', 'pnlongbasedda_r11', 'pnlongbasedda_r12', 'pnlongbasedda_r17', 'pnlongbasedda_r6'), 'pnndemo': ('pnndemo_dev', 'pnndemo_r5'), 'pnppeptide': ('pnppeptide', 'pnppeptide_dev', 'pnppeptide_r22', 'pnppeptide_r24', 'pnppeptide_r25', 'pnppeptide_r26', 'pnppeptide_r27'), 'pnshortbasedda': ('pnshortbasedda_dev', 'pnshortbasedda_r10', 'pnshortbasedda_r11', 'pnshortbasedda_r12', 'pnshortbasedda_r5'), 'pntoy': ('pntoy', 'pntoy_dev', 'pntoy_r14', 'pntoy_r17', 'pntoy_r18', 'pntoy_r20', 'pntoy_r23', 'pntoy_r26', 'pntoy_r29', 'pntoy_r30', 'pntoy_r31', 'pntoy_r32', 'pntoy_r34', 'pntoy_r37', 'pntoy_r38', 'pntoy_r40', 'pntoy_r42', 'pntoy_r43', 'pntoy_r45', 'pntoy_r49', 'pntoy_r50', 'pntoy_r55', 'pntoy_r56'), 'polyexp': ('polyexp_dev',), 'polymatic': ('polymatic_dev', 'polymatic_r41', 'polymatic_r43', 'polymatic_r44', 'polymatic_r57'), 'polymerbuilder': ('polymerbuilder_dev',), 'polymerwfnb': ('polymerwfnb_dev', 'polymerwfnb_r3'), 'polymerxtal': ('polymerxtal_dev', 'polymerxtal_r130', 'polymerxtal_r132', 'polymerxtal_r90'), 'polymod': ('polymod_dev', 'polymod_r116', 'polymod_r215', 'polymod_r250', 'polymod_r253', 'polymod_r263', 'polymod_r333', 'polymod_r335', 'polymod_r339', 'polymod_r353', 'polymod_r355', 'polymod_r356', 'polymod_r359', 'polymod_r360', 'polymod_r365', 'polymod_r367', 'polymod_r377', 'polymod_r379', 'polymod_r383', 'polymod_r391', 'polymod_r394', 'polymod_r397', 'polymod_r400', 'polymod_r412', 'polymod_r415', 'polymod_r416', 'polymod_r423', 'polymod_r424', 'polymod_r426', 'polymod_r428', 'polymod_r429', 'polymod_r430', 'polymod_r431', 'polymod_r432', 'polymod_r435', 'polymod_r439', 'polymod_r442', 'polymod_r445', 'polymod_r446', 'polymod_r449', 'polymod_r450', 'polymod_r455', 'polymod_r457', 'polymod_r458', 'polymod_r460', 'polymod_r462', 'polymod_r67', 'polymod_r69', 'polymod_r72', 'polymod_r95'), 'popindetection': ('popindetection_dev',), 'power': ('power_dev',), 'practica1': ('practica1_dev',), 'practice': ('practice_dev',), 'predcorsetup': ('predcorsetup_dev', 'predcorsetup_r10', 'predcorsetup_r11', 'predcorsetup_r5', 'predcorsetup_r8', 'predcorsetup_r9'), 'predicts1d': ('predicts1d_dev', 'predicts1d_r36'), 'predicts2d': ('predicts2d_dev', 'predicts2d_r15', 'predicts2d_r18'), 'prismcg': ('prismcg_dev', 'prismcg_r32'), 'prismspfmisfit': ('prismspfmisfit_dev', 'prismspfmisfit_r15', 'prismspfmisfit_r16'), 'profrenfei001': ('profrenfei001_dev',), 'projectile': ('projectile_dev', 'projectile_r2', 'projectile_r5'), 'prolabcdd': ('prolabcdd', 'prolabcdd_dev', 'prolabcdd_r12', 'prolabcdd_r14'), 'prolabdcd': ('prolabdcd', 'prolabdcd_dev', 'prolabdcd_r12', 'prolabdcd_r14'), 'prolabion': ('prolabion_dev',), 'prolabox': ('prolabox', 'prolabox_dev', 'prolabox_r18', 'prolabox_r20'), 'prolaboxflux': ('prolaboxflux', 'prolaboxflux_dev', 'prolaboxflux_r10', 'prolaboxflux_r12'), 'prophet': ('prophet', 'prophet_dev', 'prophet_r21', 'prophet_r23', 'prophet_r27', 'prophet_r28'), 'prophetp': ('prophetp', 'prophetp_dev', 'prophetp_r1'), 'proteindemo': ('proteindemo_dev', 'proteindemo_r10', 'proteindemo_r12', 'proteindemo_r18', 'proteindemo_r19', 'proteindemo_r3', 'proteindemo_r5'), 'prova1': ('prova1_dev',), 'psh3d': ('psh3d_dev',), 'pslsim': ('pslsim_dev', 'pslsim_r17'), 'pspice': ('pspice_dev',), 'pspicelab': ('pspicelab_dev',), 'psugar': ('psugar_dev',), 'pub': ('pub_dev', 'pub_r14', 'pub_r16'), 'pumet': ('pumet_dev', 'pumet_r16', 'pumet_r19', 'pumet_r21', 'pumet_r22', 'pumet_r24'), 'puq': ('puq_dev', 'puq_r53', 'puq_r54', 'puq_r66'), 'purdueme323': ('purdueme323_dev', 'purdueme323_r12', 'purdueme323_r14', 'purdueme323_r16', 'purdueme323_r2', 'purdueme323_r25', 'purdueme323_r27', 'purdueme323_r30', 'purdueme323_r33', 'purdueme323_r36', 'purdueme323_r38', 'purdueme323_r4'), 'purdueme352': ('purdueme352_dev',), 'purdueme581': ('purdueme581_dev', 'purdueme581_r10', 'purdueme581_r12', 'purdueme581_r15', 'purdueme581_r17', 'purdueme581_r2', 'purdueme581_r20', 'purdueme581_r22', 'purdueme581_r24', 'purdueme581_r26', 'purdueme581_r28', 'purdueme581_r30', 'purdueme581_r36', 'purdueme581_r38', 'purdueme581_r42', 'purdueme581_r44', 'purdueme581_r46', 'purdueme581_r48', 'purdueme581_r5', 'purdueme581_r50', 'purdueme581_r52', 'purdueme581_r53', 'purdueme581_r55', 'purdueme581_r56', 'purdueme581_r57', 'purdueme581_r59', 'purdueme581_r60', 'purdueme581_r61', 'purdueme581_r62', 'purdueme581_r64', 'purdueme581_r65', 'purdueme581_r66', 'purdueme581_r67', 'purdueme581_r8'), 'purduemse250': ('purduemse250_dev',), 'purduemse270': ('purduemse270_dev', 'purduemse270_r23', 'purduemse270_r3'), 'pvanalyzer': ('pvanalyzer_dev', 'pvanalyzer_r4', 'pvanalyzer_r5', 'pvanalyzer_r6'), 'pviv': ('pviv_dev',), 'pvlimits': ('pvlimits_dev', 'pvlimits_r11', 'pvlimits_r12', 'pvlimits_r9'), 'pvmatdb': ('pvmatdb_dev',), 'pvpanel': ('pvpanel_dev',), 'pvpanelsim': ('pvpanelsim_dev', 'pvpanelsim_r10', 'pvpanelsim_r15', 'pvpanelsim_r24', 'pvpanelsim_r5'), 'pvsimulator': ('pvsimulator_dev',), 'pvte': ('pvte_dev',), 'pxcm': ('pxcm_dev', 'pxcm_r13', 'pxcm_r55'), 'pycalphad': ('pycalphad_dev',), 'pycalphadtest': ('pycalphadtest_dev',), 'pycalphadtest2': ('pycalphadtest2_dev',), 'pycalphadtest3': ('pycalphadtest3_dev',), 'pymatgengui': ('pymatgengui_dev',), 'pymol': ('pymol', 'pymol_dev', 'pymol_r1'), 'pysimmff': ('pysimmff_dev',), 'qbttgnb': ('qbttgnb_dev',), 'qcapro': ('qcapro_dev',), 'qcdpr001': ('qcdpr001_dev',), 'qclab': ('qclab', 'qclab_dev', 'qclab_r53', 'qclab_r55', 'qclab_r58', 'qclab_r60', 'qclab_r61', 'qclab_r66', 'qclab_r67', 'qclab_r70', 'qclab_r79'), 'qclgfet': ('qclgfet_dev',), 'qcmethod': ('qcmethod_dev', 'qcmethod_r13', 'qcmethod_r17'), 'qcrf4photo': ('qcrf4photo_dev', 'qcrf4photo_r7', 'qcrf4photo_r9'), 'qctest1': ('qctest1_dev',), 'qdot': ('qdot', 'qdot_dev', 'qdot_r108', 'qdot_r110', 'qdot_r112', 'qdot_r114', 'qdot_r127', 'qdot_r128', 'qdot_r129', 'qdot_r137', 'qdot_r139', 'qdot_r140', 'qdot_r171', 'qdot_r172', 'qdot_r29', 'qdot_r31', 'qdot_r33', 'qdot_r35', 'qdot_r36', 'qdot_r54', 'qdot_r57', 'qdot_r61', 'qdot_r69', 'qdot_r75'), 'qdotjr': ('qdotjr', 'qdotjr_dev', 'qdotjr_r1'), 'qdotjuptest': ('qdotjuptest_dev', 'qdotjuptest_r2', 'qdotjuptest_r7', 'qdotjuptest_r9'), 'qdotjupyter': ('qdotjupyter_dev', 'qdotjupyter_r4'), 'qdotled': ('qdotled_dev', 'qdotled_r62', 'qdotled_r63', 'qdotled_r65', 'qdotled_r66', 'qdotled_r67', 'qdotled_r71'), 'qdotmech': ('qdotmech_dev',), 'qdott': ('qdott_dev',), 'qeppdb': ('qeppdb_dev',), 'qewrapper': ('qewrapper_dev',), 'qhsolver': ('qhsolver_dev',), 'qnems': ('qnems', 'qnems_dev'), 'qpc': ('qpc', 'qpc_dev', 'qpc_r1', 'qpc_r17'), 'qstem': ('qstem_dev', 'qstem_r22'), 'qtblab': ('qtblab_dev',), 'qtrans': ('qtrans_dev',), 'quads3d': ('quads3d_dev',), 'quamc2d': ('quamc2d', 'quamc2d_dev', 'quamc2d_r53', 'quamc2d_r54', 'quamc2d_r55', 'quamc2d_r57', 'quamc2d_r69', 'quamc2d_r72', 'quamc2d_r75', 'quamc2d_r77'), 'quantumbathlab': ('quantumbathlab_dev',), 'quantumespresso': ('quantumespresso_dev',), 'quantumled': ('quantumled_dev',), 'qucsngspice': ('qucsngspice_dev',), 'qudosim': ('qudosim_dev', 'qudosim_r47', 'qudosim_r52'), 'querympdata': ('querympdata_dev',), 'qugate': ('qugate_dev',), 'quit': ('quit_dev',), 'quorumsensing': ('quorumsensing_dev',), 'quq': ('quq_dev', 'quq_r15', 'quq_r29', 'quq_r30', 'quq_r31', 'quq_r38', 'quq_r39', 'quq_r40'), 'qwalk': ('qwalk', 'qwalk_dev', 'qwalk_r159', 'qwalk_r161', 'qwalk_r183', 'qwalk_r185', 'qwalk_r204', 'qwalk_r208', 'qwalk_r210', 'qwalk_r211'), 'r0estimator': ('r0estimator_dev',), 'r0estimator2': ('r0estimator2_dev', 'r0estimator2_r8'), 'r169253': ('r169253_dev',), 'r2roptimizer': ('r2roptimizer_dev', 'r2roptimizer_r11'), 'r3xyce': ('r3xyce_dev', 'r3xyce_r13'), 'radcool': ('radcool_dev', 'radcool_r6'), 'radhardmod': ('radhardmod_dev',), 'radiantte': ('radiantte_dev',), 'radiationsim': ('radiationsim_dev', 'radiationsim_r11'), 'radrccas': ('radrccas_dev',), 'random': ('random_dev',), 'rapp': ('rapp_dev',), 'rappture': ('rappture',), 'rappture-bat': ('rappture-bat',), 'rappture-runtime': ('rappture-runtime',), 'rappturearchime': ('rappturearchime_dev',), 'rappturetest': ('rappturetest_dev',), 'rasmol': ('rasmol', 'rasmol_dev'), 'ratelaws': ('ratelaws_dev',), 'rawdog': ('rawdog_dev',), 'rccircuit': ('rccircuit_dev',), 'rdbnd': ('rdbnd_dev',), 'rdf': ('rdf_dev', 'rdf_r12', 'rdf_r14'), 'reaxff597a': ('reaxff597a_dev', 'reaxff597a_r13', 'reaxff597a_r18', 'reaxff597a_r23', 'reaxff597a_r30', 'reaxff597a_r36', 'reaxff597a_r38', 'reaxff597a_r39', 'reaxff597a_r50', 'reaxff597a_r51', 'reaxff597a_r55', 'reaxff597a_r56'), 'rebo': ('rebo', 'rebo_dev'), 'rebomd': ('rebomd', 'rebomd_dev', 'rebomd_r13', 'rebomd_r16'), 'rebomd-cho': ('rebomd-cho_dev',), 'redundancy': ('redundancy_dev',), 'reflectionfortr': ('reflectionfortr_dev',), 'reififa2010': ('reififa2010_dev',), 'reliabilityhub': ('reliabilityhub_dev',), 'remdfolding': ('remdfolding_dev',), 'reppertgrtest': ('reppertgrtest_dev',), 'resist': ('resist_dev', 'resist_r7'), 'resistorcode': ('resistorcode_dev', 'resistorcode_r12', 'resistorcode_r14'), 'rgf_suite': ('rgf_suite', 'rgf_suite_dev'), 'rgfp': ('rgfp_dev',), 'richardjupyter': ('richardjupyter_dev',), 'rispredictor': ('rispredictor_dev',), 'rivem': ('rivem', 'rivem_dev', 'rivem_r1'), 'rjupyternb': ('rjupyternb_dev', 'rjupyternb_r14'), 'rkspack': ('rkspack',), 'rlc': ('rlc_dev',), 'rndmfrc': ('rndmfrc_dev', 'rndmfrc_r11', 'rndmfrc_r13'), 'rollr': ('rollr_dev',), 'romdegradation': ('romdegradation_dev', 'romdegradation_r37', 'romdegradation_r39'), 'rp2': ('rp2',), 'rstudio': ('rstudio_dev', 'rstudio_r3', 'rstudio_r6', 'rstudio_r9'), 'rtd': ('rtd', 'rtd_dev', 'rtd_r10', 'rtd_r22', 'rtd_r25'), 'rtdnegf': ('rtdnegf_dev', 'rtdnegf_r11', 'rtdnegf_r114', 'rtdnegf_r13', 'rtdnegf_r15', 'rtdnegf_r16', 'rtdnegf_r160', 'rtdnegf_r170', 'rtdnegf_r171', 'rtdnegf_r19', 'rtdnegf_r20', 'rtdnegf_r21', 'rtdnegf_r22', 'rtdnegf_r226', 'rtdnegf_r244', 'rtdnegf_r25', 'rtdnegf_r26', 'rtdnegf_r280', 'rtdnegf_r295', 'rtdnegf_r303', 'rtdnegf_r304', 'rtdnegf_r308', 'rtdnegf_r31', 'rtdnegf_r351', 'rtdnegf_r353', 'rtdnegf_r354', 'rtdnegf_r355', 'rtdnegf_r36', 'rtdnegf_r376', 'rtdnegf_r377', 'rtdnegf_r55', 'rtdnegf_r74', 'rtdnegf_r75', 'rtdnegf_r76', 'rtdnegf_r77'), 'runningaverage': ('runningaverage_dev', 'runningaverage_r10', 'runningaverage_r11', 'runningaverage_r13', 'runningaverage_r5', 'runningaverage_r9'), 's4editor': ('s4editor_dev', 's4editor_r4', 's4editor_r7', 's4editor_r8'), 's4sim': ('s4sim_dev', 's4sim_r20', 's4sim_r21', 's4sim_r35', 's4sim_r36'), 's4sim2': ('s4sim2_dev',), 's4simu': ('s4simu_dev',), 's4simulation': ('s4simulation_dev',), 'saac': ('saac_dev',), 'saga': ('saga_dev',), 'samis': ('samis_dev', 'samis_r6', 'samis_r8', 'samis_r9'), 'sampletest1': ('sampletest1_dev',), 'sampletool': ('sampletool_dev',), 'sampletool001': ('sampletool001_dev',), 'sampletool01': ('sampletool01_dev',), 'sandbox': ('sandbox_dev',), 'sandbox1d': ('sandbox1d_dev', 'sandbox1d_r23', 'sandbox1d_r24', 'sandbox1d_r35'), 'sandbox1dba': ('sandbox1dba_dev', 'sandbox1dba_r40'), 'sandbox2d': ('sandbox2d_dev', 'sandbox2d_r16'), 'sandp': ('sandp_dev', 'sandp_r3', 'sandp_r5'), 'sbcnfet': ('sbcnfet', 'sbcnfet_dev', 'sbcnfet_r26', 'sbcnfet_r28', 'sbcnfet_r30'), 'sbox': ('sbox_dev',), 'sc04a': ('sc04a_dev',), 'scaledatarepo': ('scaledatarepo_dev',), 'scdisp': ('scdisp_dev',), 'scfnanowire': ('scfnanowire_dev',), 'schred': ('schred', 'schred_dev', 'schred_r65', 'schred_r69', 'schred_r76', 'schred_r78', 'schred_r81', 'schred_r82', 'schred_r83', 'schred_r85', 'schred_r86', 'schred_r88'), 'schredpois': ('schredpois_dev',), 'schrpoisson2d': ('schrpoisson2d', 'schrpoisson2d_dev', 'schrpoisson2d_r1'), 'scipytest': ('scipytest_dev',), 'scmosfet': ('scmosfet_dev',), 'sculptor': ('sculptor_dev',), 'sdemon': ('sdemon', 'sdemon_dev'), 'selfassembly': ('selfassembly_dev',), 'semi': ('semi_dev', 'semi_r18', 'semi_r19', 'semi_r20', 'semi_r23', 'semi_r24', 'semi_r25', 'semi_r27', 'semi_r35', 'semi_r37', 'semi_r40', 'semi_r44', 'semi_r46', 'semi_r47', 'semi_r52', 'semi_r55'), 'semidop': ('semidop_dev', 'semidop_r14', 'semidop_r16'), 'senstran': ('senstran', 'senstran_dev', 'senstran_r14', 'senstran_r15', 'senstran_r17', 'senstran_r56', 'senstran_r61', 'senstran_r63', 'senstran_r68', 'senstran_r71', 'senstran_r74'), 'sentaurus': ('sentaurus_dev',), 'sequal': ('sequal', 'sequal_dev'), 'sermslide': ('sermslide_dev',), 'sest': ('sest', 'sest_dev', 'sest_r7'), 'sete': ('sete', 'sete_dev'), 'seteb': ('seteb_dev',), 'setsim_nanohub': ('setsim_nanohub_dev',), 'sfdtd': ('sfdtd_dev',), 'sfe': ('sfe_dev', 'sfe_r12'), 'sfedemo': ('sfedemo_dev', 'sfedemo_r3', 'sfedemo_r5'), 'sha': ('sha_dev',), 'sha2d': ('sha2d_dev', 'sha2d_r102', 'sha2d_r104', 'sha2d_r105', 'sha2d_r106', 'sha2d_r109', 'sha2d_r119', 'sha2d_r120', 'sha2d_r126', 'sha2d_r131', 'sha2d_r132', 'sha2d_r134', 'sha2d_r136', 'sha2d_r138', 'sha2d_r77', 'sha2d_r90', 'sha2d_r96', 'sha2d_r97'), 'shakefailure': ('shakefailure_dev',), 'shakefracture': ('shakefracture_dev', 'shakefracture_r11'), 'shearlag': ('shearlag_dev', 'shearlag_r3', 'shearlag_r7'), 'shortcalc': ('shortcalc_dev',), 'shortname': ('shortname_dev',), 'shortname11111': ('shortname11111_dev',), 'shortnamedddddd': ('shortnamedddddd_dev',), 'shortnamejgjkhk': ('shortnamejgjkhk_dev',), 'shortnametry': ('shortnametry_dev',), 'shortnamezx': ('shortnamezx_dev',), 'sicloud': ('sicloud_dev',), 'sidtest': ('sidtest_dev',), 'siesta': ('siesta_dev', 'siesta_r123', 'siesta_r148', 'siesta_r149', 'siesta_r150', 'siesta_r153', 'siesta_r154'), 'silumen1d': ('silumen1d_dev',), 'silux1d': ('silux1d_dev',), 'silviajupyter': ('silviajupyter_dev',), 'silviatutorial': ('silviatutorial_dev',), 'sim-bpred': ('sim-bpred_dev',), 'simd': ('simd_dev',), 'simexplorer': ('simexplorer_dev',), 'simple': ('simple_dev',), 'simpletool': ('simpletool_dev',), 'sims': ('sims_dev',), 'simtech': ('simtech_dev',), 'simtooltest': ('simtooltest_dev',), 'simulatorblabla': ('simulatorblabla_dev',), 'sinwdnasensor': ('sinwdnasensor', 'sinwdnasensor_dev', 'sinwdnasensor_r1'), 'sitool': ('sitool_dev',), 'slab': ('slab_dev',), 'slabddscat': ('slabddscat_dev',), 'slinterface': ('slinterface_dev',), 'slpf': ('slpf_dev', 'slpf_r4', 'slpf_r8', 'slpf_r9'), 'smc': ('smc', 'smc_dev', 'smc_r1', 'smc_r11', 'smc_r13', 'smc_r15', 'smc_r18', 'smc_r19', 'smc_r20'), 'smdc': ('smdc_dev', 'smdc_r14', 'smdc_r16'), 'smlsv': ('smlsv_dev',), 'smoot': ('smoot_dev', 'smoot_r51', 'smoot_r53'), 'snap': ('snap_dev', 'snap_r3'), 'snapmd': ('snapmd_dev',), 'snowtool': ('snowtool_dev',), 'socialbehavior': ('socialbehavior_dev',), 'solarcell': ('solarcell_dev',), 'solarlayers': ('solarlayers_dev',), 'solarpv': ('solarpv_dev', 'solarpv_r18', 'solarpv_r23', 'solarpv_r8'), 'solarte': ('solarte_dev',), 'solidifpure': ('solidifpure_dev', 'solidifpure_r25'), 'spatialpatern': ('spatialpatern_dev', 'spatialpatern_r11', 'spatialpatern_r14', 'spatialpatern_r5', 'spatialpatern_r8'), 'spectraesrabs': ('spectraesrabs_dev', 'spectraesrabs_r15', 'spectraesrabs_r17'), 'spectralnemd': ('spectralnemd_dev', 'spectralnemd_r43'), 'spectrumcrm': ('spectrumcrm_dev',), 'sph': ('sph_dev',), 'sphpack': ('sphpack_dev',), 'spice2g': ('spice2g', 'spice2g_dev'), 'spice3f4': ('spice3f4', 'spice3f4_dev', 'spice3f4_r16', 'spice3f4_r18', 'spice3f4_r19'), 'spicesoi': ('spicesoi', 'spicesoi_dev'), 'spincircuit': ('spincircuit_dev', 'spincircuit_r16'), 'spincoupleddots': ('spincoupleddots_dev', 'spincoupleddots_r11', 'spincoupleddots_r8'), 'spinprecession': ('spinprecession_dev', 'spinprecession_r10', 'spinprecession_r11', 'spinprecession_r5'), 'spinqugate': ('spinqugate_dev', 'spinqugate_r12', 'spinqugate_r15', 'spinqugate_r19', 'spinqugate_r21', 'spinqugate_r9'), 'spintransport': ('spintransport_dev', 'spintransport_r10'), 'spiro': ('spiro_dev',), 'spmd': ('spmd_dev',), 'sqmrffsimu': ('sqmrffsimu_dev', 'sqmrffsimu_r4'), 'sqmrsimu': ('sqmrsimu_dev',), 'sqsatat': ('sqsatat_dev', 'sqsatat_r29'), 'squarewell': ('squarewell_dev',), 'ss07': ('ss07_dev',), 'sshred': ('sshred_dev',), 'sspredict': ('sspredict_dev',), 'stagptflow': ('stagptflow_dev',), 'stanalyzer': ('stanalyzer_dev',), 'staroffice': ('staroffice', 'staroffice_dev'), 'statslab': ('statslab_dev',), 'stedfast': ('stedfast_dev', 'stedfast_r55'), 'stick2d': ('stick2d_dev', 'stick2d_r11', 'stick2d_r13'), 'stickslip': ('stickslip_dev', 'stickslip_r53', 'stickslip_r61', 'stickslip_r64'), 'strainbands': ('strainbands', 'strainbands_dev', 'strainbands_r100', 'strainbands_r103', 'strainbands_r95'), 'straincalc': ('straincalc_dev', 'straincalc_r10'), 'straincomp': ('straincomp_dev', 'straincomp_r16', 'straincomp_r19', 'straincomp_r4', 'straincomp_r9'), 'strengthstr1': ('strengthstr1_dev',), 'strengthstruct': ('strengthstruct_dev',), 'stretchfcc': ('stretchfcc_dev', 'stretchfcc_r28', 'stretchfcc_r30', 'stretchfcc_r31'), 'stretchmol': ('stretchmol_dev', 'stretchmol_r30', 'stretchmol_r33'), 'struc2lammpsdf': ('struc2lammpsdf_dev', 'struc2lammpsdf_r27', 'struc2lammpsdf_r35', 'struc2lammpsdf_r50', 'struc2lammpsdf_r51', 'struc2lammpsdf_r53', 'struc2lammpsdf_r56', 'struc2lammpsdf_r57', 'struc2lammpsdf_r59', 'struc2lammpsdf_r60', 'struc2lammpsdf_r62', 'struc2lammpsdf_r64', 'struc2lammpsdf_r67', 'struc2lammpsdf_r68'), 'struct2lammps': ('struct2lammps_dev', 'struct2lammps_r2', 'struct2lammps_r4'), 'sudoku': ('sudoku', 'sudoku_dev', 'sudoku_r1'), 'sugar': ('sugar_dev', 'sugar_r29', 'sugar_r45', 'sugar_r47'), 'sugar2': ('sugar2_dev',), 'sugaradxl': ('sugaradxl_dev', 'sugaradxl_r18', 'sugaradxl_r19', 'sugaradxl_r20'), 'sugarag': ('sugarag_dev',), 'sugaraid': ('sugaraid_dev', 'sugaraid_r126', 'sugaraid_r128', 'sugaraid_r141', 'sugaraid_r143', 'sugaraid_r150', 'sugaraid_r152', 'sugaraid_r156', 'sugaraid_r162', 'sugaraid_r164', 'sugaraid_r167', 'sugaraid_r184', 'sugaraid_r185', 'sugaraid_r196', 'sugaraid_r198', 'sugaraid_r199', 'sugaraid_r201', 'sugaraid_r204', 'sugaraid_r208', 'sugaraid_r210', 'sugaraid_r211', 'sugaraid_r212', 'sugaraid_r213', 'sugaraid_r214', 'sugaraid_r215', 'sugaraid_r219', 'sugaraid_r220', 'sugaraid_r223', 'sugaraid_r225', 'sugaraid_r226', 'sugaraid_r227', 'sugaraid_r228', 'sugaraid_r229', 'sugaraid_r231', 'sugaraid_r232', 'sugaraid_r234', 'sugaraid_r235', 'sugaraid_r236', 'sugaraid_r237', 'sugaraid_r239', 'sugaraid_r240', 'sugaraid_r241', 'sugaraid_r242', 'sugaraid_r244', 'sugaraid_r245', 'sugaraid_r246', 'sugaraid_r247', 'sugaraid_r248', 'sugaraid_r251', 'sugaraid_r96', 'sugaraid_r98'), 'sugaraidece202': ('sugaraidece202_dev', 'sugaraidece202_r11', 'sugaraidece202_r14', 'sugaraidece202_r20', 'sugaraidece202_r36', 'sugaraidece202_r40', 'sugaraidece202_r48', 'sugaraidece202_r49', 'sugaraidece202_r53'), 'sugaraidme200': ('sugaraidme200_dev', 'sugaraidme200_r101', 'sugaraidme200_r102', 'sugaraidme200_r109', 'sugaraidme200_r110', 'sugaraidme200_r123', 'sugaraidme200_r125', 'sugaraidme200_r126', 'sugaraidme200_r129', 'sugaraidme200_r139', 'sugaraidme200_r141', 'sugaraidme200_r142', 'sugaraidme200_r149', 'sugaraidme200_r150', 'sugaraidme200_r151', 'sugaraidme200_r152', 'sugaraidme200_r155', 'sugaraidme200_r45', 'sugaraidme200_r49', 'sugaraidme200_r51', 'sugaraidme200_r54', 'sugaraidme200_r57', 'sugaraidme200_r64', 'sugaraidme200_r91'), 'sugarccflex': ('sugarccflex_dev',), 'sugarchevron': ('sugarchevron_dev', 'sugarchevron_r11', 'sugarchevron_r22', 'sugarchevron_r23', 'sugarchevron_r24'), 'sugarclflex': ('sugarclflex_dev',), 'sugarcube': ('sugarcube_dev', 'sugarcube_r100', 'sugarcube_r168', 'sugarcube_r184', 'sugarcube_r222', 'sugarcube_r60', 'sugarcube_r81'), 'sugarcube01a': ('sugarcube01a_dev',), 'sugarcubecad': ('sugarcubecad_dev', 'sugarcubecad_r76', 'sugarcubecad_r82', 'sugarcubecad_r83'), 'sugarex': ('sugarex_dev',), 'sugarnl': ('sugarnl_dev', 'sugarnl_r11', 'sugarnl_r13', 'sugarnl_r14'), 'sugarserpflex': ('sugarserpflex_dev',), 'sugartangcd': ('sugartangcd_dev', 'sugartangcd_r21', 'sugartangcd_r24', 'sugartangcd_r25'), 'sugarvariation': ('sugarvariation_dev',), 'surface_ek_tool': ('surface_ek_tool_dev',), 'surfacearea': ('surfacearea_dev', 'surfacearea_r4', 'surfacearea_r6'), 'surfevolvergui': ('surfevolvergui_dev', 'surfevolvergui_r34'), 'susanahubnb': ('susanahubnb_dev',), 'svcb': ('svcb_dev',), 'swntjiv': ('swntjiv_dev', 'swntjiv_r23', 'swntjiv_r26', 'swntjiv_r27'), 'synchup': ('synchup_dev', 'synchup_r10', 'synchup_r11', 'synchup_r7', 'synchup_r9'), 'sysman': ('sysman',), 't1111': ('t1111_dev',), 'tad': ('tad_dev', 'tad_r11', 'tad_r9'), 'tanyatest': ('tanyatest_dev',), 'tanyatesttool': ('tanyatesttool_dev',), 'tarch': ('tarch_dev',), 'tbat': ('tbat_dev',), 'tbgreen': ('tbgreen', 'tbgreen_dev'), 'tbmodel': ('tbmodel_dev',), 'tcad2dfet': ('tcad2dfet_dev',), 'tci': ('tci_dev',), 'tcnt': ('tcnt_dev', 'tcnt_r17', 'tcnt_r22', 'tcnt_r24', 'tcnt_r25'), 'tcplotter': ('tcplotter_dev',), 'tddb': ('tddb_dev', 'tddb_r8'), 'tddft': ('tddft_dev', 'tddft_r10', 'tddft_r8'), 'tdtrtest': ('tdtrtest_dev',), 'tec': ('tec_dev', 'tec_r3', 'tec_r6'), 'tecalc': ('tecalc_dev',), 'tedev': ('tedev_dev', 'tedev_r19', 'tedev_r21'), 'tedl': ('tedl_dev',), 'tedvis': ('tedvis_dev', 'tedvis_r13', 'tedvis_r17', 'tedvis_r19', 'tedvis_r23', 'tedvis_r24', 'tedvis_r5', 'tedvis_r9'), 'teg': ('teg_dev', 'teg_r25', 'teg_r33', 'teg_r36'), 'tellurium': ('tellurium_dev', 'tellurium_r14'), 'telluriumj': ('telluriumj_dev',), 'temlattice': ('temlattice_dev', 'temlattice_r24', 'temlattice_r26', 'temlattice_r27'), 'temoduleopt': ('temoduleopt_dev',), 'tempdiff': ('tempdiff_dev', 'tempdiff_r13', 'tempdiff_r15', 'tempdiff_r16', 'tempdiff_r18'), 'temttr': ('temttr_dev',), 'tesimtoolkit': ('tesimtoolkit_dev',), 'test': ('test_dev',), 'test001': ('test001_dev',), 'test09887665': ('test09887665_dev',), 'test1': ('test1_dev',), 'test111': ('test111_dev',), 'test12': ('test12_dev',), 'test2': ('test2_dev',), 'test27': ('test27_dev',), 'testaddtool': ('testaddtool_dev',), 'testcellulose': ('testcellulose_dev',), 'testd': ('testd_dev',), 'testgain0d': ('testgain0d_dev', 'testgain0d_r48', 'testgain0d_r49', 'testgain0d_r50', 'testgain0d_r51'), 'testgatech': ('testgatech_dev',), 'testhope': ('testhope_dev',), 'testing': ('testing_dev',), 'testing081816': ('testing081816_dev',), 'testingforian': ('testingforian_dev',), 'testingtoddatki': ('testingtoddatki_dev',), 'testjr': ('testjr_dev',), 'testqdot': ('testqdot_dev',), 'testtool': ('testtool', 'testtool_dev', 'testtool_r2', 'testtool_r4'), 'testtool1': ('testtool1_dev',), 'testtool231': ('testtool231_dev',), 'testtool9001': ('testtool9001_dev',), 'testworkshop1': ('testworkshop1_dev',), 'testx': ('testx_dev',), 'testxx': ('testxx_dev',), 'testzgan': ('testzgan_dev',), 'tfet': ('tfet_dev',), 'tftutorials': ('tftutorials_dev', 'tftutorials_r31', 'tftutorials_r34', 'tftutorials_r36'), 'tgnb': ('tgnb_dev', 'tgnb_r15', 'tgnb_r16', 'tgnb_r4', 'tgnb_r43', 'tgnb_r6'), 'thermalcond': ('thermalcond_dev', 'thermalcond_r9'), 'thermo': ('thermo_dev', 'thermo_r28', 'thermo_r60', 'thermo_r61'), 'thermocalc': ('thermocalc_dev',), 'thermoemp': ('thermoemp', 'thermoemp_dev'), 'thermomechcnt': ('thermomechcnt_dev', 'thermomechcnt_r30'), 'thermotrans': ('thermotrans_dev',), 'thinfilmsolar1': ('thinfilmsolar1_dev',), 'thjtfet': ('thjtfet_dev',), 'tightbinding': ('tightbinding_dev',), 'tinwhis': ('tinwhis_dev', 'tinwhis_r14', 'tinwhis_r16'), 'tolls': ('tolls_dev',), 'tonotopicsom': ('tonotopicsom_dev', 'tonotopicsom_r10', 'tonotopicsom_r11', 'tonotopicsom_r12', 'tonotopicsom_r13', 'tonotopicsom_r3', 'tonotopicsom_r6'), 'tool1': ('tool1_dev',), 'toolshortname': ('toolshortname_dev',), 'tooltest1': ('tooltest1_dev',), 'tooltestbylp': ('tooltestbylp_dev',), 'torrot': ('torrot_dev',), 'tpl': ('tpl_dev', 'tpl_r17', 'tpl_r21', 'tpl_r24'), 'tplvaranlz': ('tplvaranlz_dev', 'tplvaranlz_r22'), 'tpvexpt': ('tpvexpt_dev', 'tpvexpt_r35'), 'tpvtest': ('tpvtest_dev', 'tpvtest_r35', 'tpvtest_r48'), 'tpxsim': ('tpxsim_dev', 'tpxsim_r23', 'tpxsim_r26'), 'trailtool': ('trailtool_dev',), 'tran': ('tran_dev',), 'transistor': ('transistor_dev',), 'transportmech': ('transportmech_dev',), 'transpull': ('transpull_dev', 'transpull_r29', 'transpull_r34'), 'trapsimulation': ('trapsimulation_dev',), 'trapsimulator': ('trapsimulator_dev', 'trapsimulator_r15', 'trapsimulator_r21', 'trapsimulator_r25', 'trapsimulator_r32'), 'trcycle': ('trcycle_dev', 'trcycle_r3'), 'trdeath': ('trdeath_dev', 'trdeath_r4'), 'trial': ('trial_dev',), 'tripler': ('tripler_dev',), 'trmechanics': ('trmechanics_dev', 'trmechanics_r7'), 'trmicroenv': ('trmicroenv_dev',), 'trmicroenv2': ('trmicroenv2_dev',), 'trmicroenviron': ('trmicroenviron_dev',), 'trmotility': ('trmotility_dev', 'trmotility_r10', 'trmotility_r11', 'trmotility_r12', 'trmotility_r17'), 'trsecretion': ('trsecretion_dev',), 'trvolume': ('trvolume_dev',), 'trvolume2': ('trvolume2_dev', 'trvolume2_r5'), 'try000': ('try000_dev',), 'tsa': ('tsa_dev',), 'tsafm': ('tsafm_dev',), 'tsbiofilmsp19': ('tsbiofilmsp19_dev', 'tsbiofilmsp19_r5'), 'tscodereuse': ('tscodereuse_dev',), 'tsuprem4': ('tsuprem4', 'tsuprem4_dev', 'tsuprem4_r10', 'tsuprem4_r5', 'tsuprem4_r6', 'tsuprem4_r9'), 'ttmmd': ('ttmmd_dev', 'ttmmd_r18', 'ttmmd_r20', 'ttmmd_r23', 'ttmmd_r25'), 'ttoolmake': ('ttoolmake_dev',), 'ttrfit': ('ttrfit_dev',), 'ttt1': ('ttt1_dev',), 'tubeorwrinkle': ('tubeorwrinkle_dev',), 'tunnelfet': ('tunnelfet_dev', 'tunnelfet_r41'), 'tunprob': ('tunprob', 'tunprob_dev'), 'turbinepredict': ('turbinepredict_dev', 'turbinepredict_r2'), 'twistoflex': ('twistoflex_dev',), 'twoleakseries': ('twoleakseries_dev', 'twoleakseries_r16', 'twoleakseries_r18', 'twoleakseries_r20', 'twoleakseries_r21', 'twoleakseries_r22', 'twoleakseries_r23', 'twoleakseries_r24'), 'twounitintegrat': ('twounitintegrat_dev', 'twounitintegrat_r15', 'twounitintegrat_r16', 'twounitintegrat_r4', 'twounitintegrat_r7', 'twounitintegrat_r9'), 'twth': ('twth_dev',), 'ucb_compnano': ('ucb_compnano_dev', 'ucb_compnano_r174', 'ucb_compnano_r175', 'ucb_compnano_r177', 'ucb_compnano_r219', 'ucb_compnano_r220', 'ucb_compnano_r223', 'ucb_compnano_r227', 'ucb_compnano_r289', 'ucb_compnano_r290', 'ucb_compnano_r317', 'ucb_compnano_r350', 'ucb_compnano_r380', 'ucb_compnano_r395', 'ucb_compnano_r407', 'ucb_compnano_r409', 'ucb_compnano_r431', 'ucb_compnano_r432', 'ucb_compnano_r439', 'ucb_compnano_r452', 'ucb_compnano_r462', 'ucb_compnano_r476', 'ucb_compnano_r547', 'ucb_compnano_r561', 'ucb_compnano_r568', 'ucb_compnano_r571', 'ucb_compnano_r573', 'ucb_compnano_r574', 'ucb_compnano_r579', 'ucb_compnano_r581', 'ucb_compnano_r583', 'ucb_compnano_r584', 'ucb_compnano_r604', 'ucb_compnano_r608', 'ucb_compnano_r625', 'ucb_compnano_r631', 'ucb_compnano_r640', 'ucb_compnano_r657', 'ucb_compnano_r659', 'ucb_compnano_r67', 'ucb_compnano_r671', 'ucb_compnano_r680', 'ucb_compnano_r683', 'ucb_compnano_r686', 'ucb_compnano_r687', 'ucb_compnano_r694', 'ucb_compnano_r696', 'ucb_compnano_r699', 'ucb_compnano_r706', 'ucb_compnano_r713', 'ucb_compnano_r721', 'ucb_compnano_r722', 'ucb_compnano_r738', 'ucb_compnano_r740', 'ucb_compnano_r742', 'ucb_compnano_r745', 'ucb_compnano_r754', 'ucb_compnano_r758', 'ucb_compnano_r782', 'ucb_compnano_r804', 'ucb_compnano_r805', 'ucb_compnano_r813', 'ucb_compnano_r826', 'ucb_compnano_r830', 'ucb_compnano_r832', 'ucb_compnano_r837', 'ucb_compnano_r84', 'ucb_compnano_r843', 'ucb_compnano_r844'), 'udmfit': ('udmfit_dev',), 'uhometr': ('uhometr_dev',), 'unisensorybayes': ('unisensorybayes_dev', 'unisensorybayes_r2', 'unisensorybayes_r4', 'unisensorybayes_r5'), 'unisensorydelta': ('unisensorydelta_dev', 'unisensorydelta_r2', 'unisensorydelta_r4', 'unisensorydelta_r5'), 'unitwitposfb': ('unitwitposfb_dev', 'unitwitposfb_r10', 'unitwitposfb_r11', 'unitwitposfb_r12', 'unitwitposfb_r6', 'unitwitposfb_r9'), 'uq4mm': ('uq4mm_dev',), 'uqmd': ('uqmd_dev',), 'uqtest': ('uqtest_dev', 'uqtest_r3', 'uqtest_r5', 'uqtest_r6', 'uqtest_r8'), 'uqtutorial': ('uqtutorial_dev',), 'uvspec': ('uvspec_dev', 'uvspec_r10', 'uvspec_r12', 'uvspec_r14', 'uvspec_r16', 'uvspec_r17', 'uvspec_r18', 'uvspec_r20', 'uvspec_r6', 'uvspec_r7', 'uvspec_r8'), 'uwmcitrineedu': ('uwmcitrineedu_dev',), 'vachecker': ('vachecker_dev', 'vachecker_r118', 'vachecker_r130', 'vachecker_r165', 'vachecker_r76', 'vachecker_r85'), 'vae': ('vae_dev',), 'vb6dosenumber': ('vb6dosenumber_dev', 'vb6dosenumber_r8'), 'vcedit': ('vcedit_dev',), 'veda': ('veda_dev', 'veda_r1142', 'veda_r1144', 'veda_r1166', 'veda_r1180', 'veda_r1207', 'veda_r1209', 'veda_r1212', 'veda_r1217', 'veda_r1235', 'veda_r1239', 'veda_r1251', 'veda_r1258', 'veda_r1262', 'veda_r1272', 'veda_r1276', 'veda_r1376'), 'vedaams': ('vedaams', 'vedaams_dev', 'vedaams_r13', 'vedaams_r17', 'vedaams_r6'), 'velstoreleak': ('velstoreleak_dev', 'velstoreleak_r10', 'velstoreleak_r11', 'velstoreleak_r12', 'velstoreleak_r2', 'velstoreleak_r5', 'velstoreleak_r7'), 'vesa': ('vesa_dev',), 'vesicles': ('vesicles_dev',), 'vhmxcracks': ('vhmxcracks_dev',), 'vicypsom': ('vicypsom_dev',), 'vides': ('vides_dev', 'vides_r48', 'vides_r49', 'vides_r50', 'vides_r55', 'vides_r58', 'vides_r61', 'vides_r65'), 'virion2copy': ('virion2copy_dev', 'virion2copy_r3'), 'virion2pbpd': ('virion2pbpd_dev', 'virion2pbpd_r5'), 'virion2receptor': ('virion2receptor_dev', 'virion2receptor_r3'), 'virion2response': ('virion2response_dev', 'virion2response_r3'), 'viscoindent': ('viscoindent_dev', 'viscoindent_r10', 'viscoindent_r15', 'viscoindent_r20', 'viscoindent_r24', 'viscoindent_r26', 'viscoindent_r27', 'viscoindent_r28', 'viscoindent_r29', 'viscoindent_r32', 'viscoindent_r4', 'viscoindent_r9'), 'visi': ('visi_dev',), 'visserver': ('visserver_dev',), 'vivi': ('vivi_dev',), 'vkml': ('vkml_dev',), 'vkmlf': ('vkmlf_dev',), 'vkmlggs': ('vkmlggs_dev', 'vkmlggs_r13', 'vkmlggs_r16', 'vkmlggs_r17', 'vkmlggs_r21'), 'vkmllive': ('vkmllive_dev', 'vkmllive_r101', 'vkmllive_r121', 'vkmllive_r151', 'vkmllive_r164', 'vkmllive_r181', 'vkmllive_r185', 'vkmllive_r70', 'vkmllive_r72', 'vkmllive_r95'), 'vkmlpsgg': ('vkmlpsgg_dev', 'vkmlpsgg_r12', 'vkmlpsgg_r6', 'vkmlpsgg_r7'), 'vkmlsd': ('vkmlsd_dev', 'vkmlsd_r48', 'vkmlsd_r5', 'vkmlsd_r6'), 'vkmlsd3d': ('vkmlsd3d_dev', 'vkmlsd3d_r5', 'vkmlsd3d_r6', 'vkmlsd3d_r8'), 'vlab': ('vlab_dev',), 'vle': ('vle_dev', 'vle_r13', 'vle_r15', 'vle_r9'), 'vmdtool': ('vmdtool_dev',), 'voidfrac': ('voidfrac_dev', 'voidfrac_r7', 'voidfrac_r9'), 'volqd': ('volqd_dev',), 'volta': ('volta_dev',), 'volumetr': ('volumetr_dev', 'volumetr_r5'), 'vsepr': ('vsepr_dev', 'vsepr_r3', 'vsepr_r7', 'vsepr_r8'), 'vsmod': ('vsmod_dev', 'vsmod_r38', 'vsmod_r48', 'vsmod_r50'), 'vsmodel': ('vsmodel_dev',), 'vtk': ('vtk', 'vtk_dev'), 'vtqd': ('vtqd_dev',), 'wazedur': ('wazedur_dev',), 'webwatsite': ('webwatsite_dev',), 'weeklypulse': ('weeklypulse_dev', 'weeklypulse_r6'), 'wheat': ('wheat_dev',), 'wilsoncpg': ('wilsoncpg_dev', 'wilsoncpg_r10', 'wilsoncpg_r4', 'wilsoncpg_r7', 'wilsoncpg_r9'), 'winnerstakeall': ('winnerstakeall_dev',), 'wirecasting': ('wirecasting_dev', 'wirecasting_r13', 'wirecasting_r14'), 'wnallentest': ('wnallentest_dev',), 'workspace': ('workspace', 'workspace_dev', 'workspace_r10', 'workspace_r12', 'workspace_r3'), 'workspace-big': ('workspace-big', 'workspace-big_dev'), 'workspace-med': ('workspace-med', 'workspace-med_dev'), 'workspace10': ('workspace10_dev', 'workspace10_r2'), 'workspace32': ('workspace32_dev',), 'workspace64': ('workspace64_dev',), 'workspacenovnc': ('workspacenovnc_dev', 'workspacenovnc_r2'), 'woundhealingpc': ('woundhealingpc_dev', 'woundhealingpc_r5', 'woundhealingpc_r8'), 'wso': ('wso_dev',), 'wtest': ('wtest_111', 'wtest_dev', 'wtest_r112', 'wtest_r113', 'wtest_r114'), 'wulffman': ('wulffman_dev', 'wulffman_r3', 'wulffman_r5'), 'wustickslip': ('wustickslip_dev',), 'wxamps': ('wxamps_dev',), 'xagf': ('xagf_dev',), 'xas': ('xas_dev', 'xas_r212', 'xas_r214', 'xas_r216'), 'xdotgrid': ('xdotgrid_dev',), 'xfig': ('xfig', 'xfig_dev'), 'xhub': ('xhub',), 'xmds2': ('xmds2_dev',), 'xpsthick': ('xpsthick_dev',), 'xpsts': ('xpsts_dev', 'xpsts_r10', 'xpsts_r22', 'xpsts_r23'), 'xrd': ('xrd_dev', 'xrd_r10', 'xrd_r6', 'xrd_r9'), 'xrdinteract': ('xrdinteract_dev', 'xrdinteract_r6', 'xrdinteract_r8'), 'xterm': ('xterm', 'xterm_dev'), 'yambo': ('yambo_dev',), 'youngsmod': ('youngsmod_dev', 'youngsmod_r11'), 'youngsmoduluse': ('youngsmoduluse_dev', 'youngsmoduluse_r6'), 'zaddik': ('zaddik_dev',), 'zdiode': ('zdiode_dev',), 'zeno': ('zeno_dev', 'zeno_r28'), 'zentnerltest': ('zentnerltest_dev',), 'zia11': ('zia11_dev',), 'zooleyipnb1': ('zooleyipnb1_dev', 'zooleyipnb1_r5'), 'zooleyjupyter': ('zooleyjupyter_dev',), 'zooleylinux': ('zooleylinux_dev',), 'zooleylinux1': ('zooleylinux1_dev', 'zooleylinux1_r4')}\n"
     ]
    }
   ],
   "source": [
    "print(grouped_tools)"
   ]
  },
  {
   "cell_type": "code",
   "execution_count": 21,
   "metadata": {
    "execution": {
     "iopub.execute_input": "2021-01-21T06:30:50.581432Z",
     "iopub.status.busy": "2021-01-21T06:30:50.580794Z",
     "iopub.status.idle": "2021-01-21T06:30:50.616817Z",
     "shell.execute_reply": "2021-01-21T06:30:50.617293Z"
    },
    "papermill": {
     "duration": 0.128734,
     "end_time": "2021-01-21T06:30:50.617471",
     "exception": false,
     "start_time": "2021-01-21T06:30:50.488737",
     "status": "completed"
    },
    "tags": []
   },
   "outputs": [
    {
     "name": "stdout",
     "output_type": "stream",
     "text": [
      "1dbtetransient\n",
      "('1dbtetransient_dev',)\n"
     ]
    }
   ],
   "source": [
    "print(list(grouped_tools.keys())[2])\n",
    "print(grouped_tools[list(grouped_tools.keys())[2]])"
   ]
  },
  {
   "cell_type": "code",
   "execution_count": 22,
   "metadata": {
    "execution": {
     "iopub.execute_input": "2021-01-21T06:30:50.751821Z",
     "iopub.status.busy": "2021-01-21T06:30:50.751228Z",
     "iopub.status.idle": "2021-01-21T06:30:55.069549Z",
     "shell.execute_reply": "2021-01-21T06:30:55.069085Z"
    },
    "papermill": {
     "duration": 4.397834,
     "end_time": "2021-01-21T06:30:55.069681",
     "exception": false,
     "start_time": "2021-01-21T06:30:50.671847",
     "status": "completed"
    },
    "tags": []
   },
   "outputs": [
    {
     "name": "stdout",
     "output_type": "stream",
     "text": [
      "112016a\n",
      "('112016a_dev',)\n"
     ]
    },
    {
     "data": {
      "text/html": [
       "<div>\n",
       "<style scoped>\n",
       "    .dataframe tbody tr th:only-of-type {\n",
       "        vertical-align: middle;\n",
       "    }\n",
       "\n",
       "    .dataframe tbody tr th {\n",
       "        vertical-align: top;\n",
       "    }\n",
       "\n",
       "    .dataframe thead th {\n",
       "        text-align: right;\n",
       "    }\n",
       "</style>\n",
       "<table border=\"1\" class=\"dataframe\">\n",
       "  <thead>\n",
       "    <tr style=\"text-align: right;\">\n",
       "      <th></th>\n",
       "      <th>count(user)</th>\n",
       "    </tr>\n",
       "  </thead>\n",
       "  <tbody>\n",
       "    <tr>\n",
       "      <th>0</th>\n",
       "      <td>1743</td>\n",
       "    </tr>\n",
       "  </tbody>\n",
       "</table>\n",
       "</div>"
      ],
      "text/plain": [
       "   count(user)\n",
       "0         1743"
      ]
     },
     "metadata": {},
     "output_type": "display_data"
    }
   ],
   "source": [
    "## Run a separate query for each grouped tool\n",
    "for key in list(grouped_tools.keys())[1:2]:\n",
    "    print(key)\n",
    "    print(grouped_tools[key])\n",
    "    t_sql_tspec = \"select count(user) from nanohub_metrics.toolstart where tool in \" +\"('1dphononbte_dev', '1dphononbte_r5', '1dphononbte_r9')\"+\";\" #temp sql tool specific\n",
    "    t_r_df = pd.read_sql_query(t_sql_tspec,nanohub_metrics_db)\n",
    "    display(t_r_df.head(5))"
   ]
  },
  {
   "cell_type": "code",
   "execution_count": 23,
   "metadata": {
    "execution": {
     "iopub.execute_input": "2021-01-21T06:30:55.232795Z",
     "iopub.status.busy": "2021-01-21T06:30:55.232242Z",
     "iopub.status.idle": "2021-01-21T06:30:55.238916Z",
     "shell.execute_reply": "2021-01-21T06:30:55.238485Z"
    },
    "papermill": {
     "duration": 0.097119,
     "end_time": "2021-01-21T06:30:55.239046",
     "exception": false,
     "start_time": "2021-01-21T06:30:55.141927",
     "status": "completed"
    },
    "tags": []
   },
   "outputs": [
    {
     "data": {
      "text/plain": [
       "(1, 1)"
      ]
     },
     "execution_count": 23,
     "metadata": {},
     "output_type": "execute_result"
    }
   ],
   "source": [
    "t_r_df.shape"
   ]
  },
  {
   "cell_type": "code",
   "execution_count": null,
   "metadata": {
    "papermill": {
     "duration": 0.045106,
     "end_time": "2021-01-21T06:30:55.359402",
     "exception": false,
     "start_time": "2021-01-21T06:30:55.314296",
     "status": "completed"
    },
    "tags": []
   },
   "outputs": [],
   "source": []
  },
  {
   "cell_type": "code",
   "execution_count": null,
   "metadata": {
    "papermill": {
     "duration": 0.059041,
     "end_time": "2021-01-21T06:30:55.514551",
     "exception": false,
     "start_time": "2021-01-21T06:30:55.455510",
     "status": "completed"
    },
    "tags": []
   },
   "outputs": [],
   "source": []
  },
  {
   "cell_type": "code",
   "execution_count": null,
   "metadata": {
    "papermill": {
     "duration": 0.032587,
     "end_time": "2021-01-21T06:30:55.587843",
     "exception": false,
     "start_time": "2021-01-21T06:30:55.555256",
     "status": "completed"
    },
    "tags": []
   },
   "outputs": [],
   "source": []
  },
  {
   "cell_type": "code",
   "execution_count": 24,
   "metadata": {
    "execution": {
     "iopub.execute_input": "2021-01-21T06:30:55.667436Z",
     "iopub.status.busy": "2021-01-21T06:30:55.666808Z",
     "iopub.status.idle": "2021-01-21T06:39:54.289066Z",
     "shell.execute_reply": "2021-01-21T06:39:54.530008Z"
    },
    "papermill": {
     "duration": 539.619643,
     "end_time": "2021-01-21T06:39:55.241252",
     "exception": false,
     "start_time": "2021-01-21T06:30:55.621609",
     "status": "completed"
    },
    "tags": []
   },
   "outputs": [],
   "source": [
    "# Lifetime usage count\n",
    "sql_query = \"select v.toolname, count(*) as total, count(distinct t.user) as user_total from nanohub_metrics.toolstart as t \\\n",
    "inner join nanohub.jos_tool_version as v \\\n",
    "on v.instance = t.tool \\\n",
    "where t.user not in ('instanton', 'gridstat')\\\n",
    "group by v.toolname\"\n",
    "\n",
    "toolstart_lifetime_df = pd.read_sql_query(sql_query, nanohub_metrics_db)\n",
    "\n",
    "# last year usage count\n",
    "sql_query = \"select v.toolname, count(*) as total, count(distinct t.user) as user_total from nanohub_metrics.toolstart as t \\\n",
    "inner join nanohub.jos_tool_version as v \\\n",
    "on v.instance = t.tool \\\n",
    "where t.user not in ('instanton', 'gridstat') and t.datetime >= '%s'\\\n",
    "group by v.toolname\" % (datetime.datetime.now()-datetime.timedelta(days=365)).strftime('%Y-%m-%d')\n",
    "\n",
    "toolstart_last_year_df = pd.read_sql_query(sql_query, nanohub_metrics_db)\n",
    "\n",
    "# last 3-month usage count\n",
    "sql_query = \"select v.toolname, count(*) as total, count(distinct t.user) as user_total from nanohub_metrics.toolstart as t \\\n",
    "inner join nanohub.jos_tool_version as v \\\n",
    "on v.instance = t.tool \\\n",
    "where t.user not in ('instanton', 'gridstat') and t.datetime >= '%s'\\\n",
    "group by v.toolname\" % (datetime.datetime.now()-datetime.timedelta(days=90)).strftime('%Y-%m-%d')\n",
    "\n",
    "toolstart_last_3_month_df = pd.read_sql_query(sql_query, nanohub_metrics_db)\n",
    "\n",
    "# last month usage count\n",
    "sql_query = \"select v.toolname, count(*) as total, count(distinct t.user) as user_total from nanohub_metrics.toolstart as t \\\n",
    "inner join nanohub.jos_tool_version as v \\\n",
    "on v.instance = t.tool \\\n",
    "where t.user not in ('instanton', 'gridstat') and t.datetime >= '%s'\\\n",
    "group by v.toolname\" % (datetime.datetime.now()-datetime.timedelta(days=30)).strftime('%Y-%m-%d')\n",
    "\n",
    "toolstart_last_month_df = pd.read_sql_query(sql_query, nanohub_metrics_db)\n",
    "\n",
    "# last week usage count\n",
    "sql_query = \"select v.toolname, count(*) as total, count(distinct t.user) as user_total from nanohub_metrics.toolstart as t \\\n",
    "inner join nanohub.jos_tool_version as v \\\n",
    "on v.instance = t.tool \\\n",
    "where t.user not in ('instanton', 'gridstat') and t.datetime >= '%s'\\\n",
    "group by v.toolname\" % (datetime.datetime.now()-datetime.timedelta(days=7)).strftime('%Y-%m-%d')\n",
    "\n",
    "toolstart_last_week_df = pd.read_sql_query(sql_query, nanohub_metrics_db)\n",
    "\n",
    "# last 24 hours usage count\n",
    "sql_query = \"select v.toolname, count(*) as total, count(distinct t.user) as user_total from nanohub_metrics.toolstart as t \\\n",
    "inner join nanohub.jos_tool_version as v \\\n",
    "on v.instance = t.tool \\\n",
    "where t.user not in ('instanton', 'gridstat') and t.datetime >= '%s'\\\n",
    "group by v.toolname\" % (datetime.datetime.now()-datetime.timedelta(days=1)).strftime('%Y-%m-%d')\n",
    "\n",
    "toolstart_last_24_hours_df = pd.read_sql_query(sql_query, nanohub_metrics_db)"
   ]
  },
  {
   "cell_type": "code",
   "execution_count": 25,
   "metadata": {
    "execution": {
     "iopub.execute_input": "2021-01-21T06:40:01.180978Z",
     "iopub.status.busy": "2021-01-21T06:40:01.080797Z",
     "iopub.status.idle": "2021-01-21T06:40:05.383146Z",
     "shell.execute_reply": "2021-01-21T06:40:05.440173Z"
    },
    "papermill": {
     "duration": 6.421184,
     "end_time": "2021-01-21T06:40:05.440497",
     "exception": false,
     "start_time": "2021-01-21T06:39:59.019313",
     "status": "completed"
    },
    "tags": []
   },
   "outputs": [
    {
     "data": {
      "text/html": [
       "<div>\n",
       "<style scoped>\n",
       "    .dataframe tbody tr th:only-of-type {\n",
       "        vertical-align: middle;\n",
       "    }\n",
       "\n",
       "    .dataframe tbody tr th {\n",
       "        vertical-align: top;\n",
       "    }\n",
       "\n",
       "    .dataframe thead th {\n",
       "        text-align: right;\n",
       "    }\n",
       "</style>\n",
       "<table border=\"1\" class=\"dataframe\">\n",
       "  <thead>\n",
       "    <tr style=\"text-align: right;\">\n",
       "      <th></th>\n",
       "      <th>toolname</th>\n",
       "      <th>total</th>\n",
       "      <th>user_total</th>\n",
       "    </tr>\n",
       "  </thead>\n",
       "  <tbody>\n",
       "    <tr>\n",
       "      <th>0</th>\n",
       "      <td>1dchainmd</td>\n",
       "      <td>180</td>\n",
       "      <td>70</td>\n",
       "    </tr>\n",
       "    <tr>\n",
       "      <th>1</th>\n",
       "      <td>1dfdmht</td>\n",
       "      <td>210</td>\n",
       "      <td>88</td>\n",
       "    </tr>\n",
       "  </tbody>\n",
       "</table>\n",
       "</div>"
      ],
      "text/plain": [
       "    toolname  total  user_total\n",
       "0  1dchainmd    180          70\n",
       "1    1dfdmht    210          88"
      ]
     },
     "execution_count": 25,
     "metadata": {},
     "output_type": "execute_result"
    }
   ],
   "source": [
    "# display\n",
    "toolstart_last_year_df.head(2)"
   ]
  },
  {
   "cell_type": "code",
   "execution_count": 26,
   "metadata": {
    "execution": {
     "iopub.execute_input": "2021-01-21T06:40:05.724942Z",
     "iopub.status.busy": "2021-01-21T06:40:05.670321Z",
     "iopub.status.idle": "2021-01-21T06:40:12.156117Z",
     "shell.execute_reply": "2021-01-21T06:40:12.218760Z"
    },
    "papermill": {
     "duration": 6.705226,
     "end_time": "2021-01-21T06:40:12.219003",
     "exception": false,
     "start_time": "2021-01-21T06:40:05.513777",
     "status": "completed"
    },
    "tags": []
   },
   "outputs": [
    {
     "data": {
      "text/html": [
       "<div>\n",
       "<style scoped>\n",
       "    .dataframe tbody tr th:only-of-type {\n",
       "        vertical-align: middle;\n",
       "    }\n",
       "\n",
       "    .dataframe tbody tr th {\n",
       "        vertical-align: top;\n",
       "    }\n",
       "\n",
       "    .dataframe thead th {\n",
       "        text-align: right;\n",
       "    }\n",
       "</style>\n",
       "<table border=\"1\" class=\"dataframe\">\n",
       "  <thead>\n",
       "    <tr style=\"text-align: right;\">\n",
       "      <th></th>\n",
       "      <th>0</th>\n",
       "      <th>1</th>\n",
       "      <th>2</th>\n",
       "      <th>3</th>\n",
       "      <th>4</th>\n",
       "    </tr>\n",
       "  </thead>\n",
       "  <tbody>\n",
       "    <tr>\n",
       "      <th>toolname</th>\n",
       "      <td>matlab</td>\n",
       "      <td>octave</td>\n",
       "      <td>gamess</td>\n",
       "      <td>rebo</td>\n",
       "      <td>ellipsom</td>\n",
       "    </tr>\n",
       "    <tr>\n",
       "      <th>title</th>\n",
       "      <td>Matlab</td>\n",
       "      <td>Octave</td>\n",
       "      <td>GAMESS</td>\n",
       "      <td>REBO-1</td>\n",
       "      <td>title-ellipsom</td>\n",
       "    </tr>\n",
       "    <tr>\n",
       "      <th>published</th>\n",
       "      <td>0</td>\n",
       "      <td>0</td>\n",
       "      <td>0</td>\n",
       "      <td>0</td>\n",
       "      <td>0</td>\n",
       "    </tr>\n",
       "    <tr>\n",
       "      <th>registered</th>\n",
       "      <td>2000-10-02 02:34:37</td>\n",
       "      <td>2001-04-04 19:03:01</td>\n",
       "      <td>2003-01-15 15:41:22</td>\n",
       "      <td>2003-05-08 00:41:33</td>\n",
       "      <td>2005-03-05 03:02:47</td>\n",
       "    </tr>\n",
       "    <tr>\n",
       "      <th>Total_runs_over_lifetime</th>\n",
       "      <td>3470</td>\n",
       "      <td>59</td>\n",
       "      <td>2415</td>\n",
       "      <td>291</td>\n",
       "      <td>NaN</td>\n",
       "    </tr>\n",
       "    <tr>\n",
       "      <th>Total_users_over_lifetime</th>\n",
       "      <td>162</td>\n",
       "      <td>30</td>\n",
       "      <td>101</td>\n",
       "      <td>42</td>\n",
       "      <td>NaN</td>\n",
       "    </tr>\n",
       "    <tr>\n",
       "      <th>Total_runs_last_year</th>\n",
       "      <td>NaN</td>\n",
       "      <td>NaN</td>\n",
       "      <td>NaN</td>\n",
       "      <td>NaN</td>\n",
       "      <td>NaN</td>\n",
       "    </tr>\n",
       "    <tr>\n",
       "      <th>Total_users_last_year</th>\n",
       "      <td>NaN</td>\n",
       "      <td>NaN</td>\n",
       "      <td>NaN</td>\n",
       "      <td>NaN</td>\n",
       "      <td>NaN</td>\n",
       "    </tr>\n",
       "    <tr>\n",
       "      <th>Total_runs_last_3_month</th>\n",
       "      <td>NaN</td>\n",
       "      <td>NaN</td>\n",
       "      <td>NaN</td>\n",
       "      <td>NaN</td>\n",
       "      <td>NaN</td>\n",
       "    </tr>\n",
       "    <tr>\n",
       "      <th>Total_users_last_3_month</th>\n",
       "      <td>NaN</td>\n",
       "      <td>NaN</td>\n",
       "      <td>NaN</td>\n",
       "      <td>NaN</td>\n",
       "      <td>NaN</td>\n",
       "    </tr>\n",
       "    <tr>\n",
       "      <th>Total_runs_last_month</th>\n",
       "      <td>NaN</td>\n",
       "      <td>NaN</td>\n",
       "      <td>NaN</td>\n",
       "      <td>NaN</td>\n",
       "      <td>NaN</td>\n",
       "    </tr>\n",
       "    <tr>\n",
       "      <th>Total_users_last_month</th>\n",
       "      <td>NaN</td>\n",
       "      <td>NaN</td>\n",
       "      <td>NaN</td>\n",
       "      <td>NaN</td>\n",
       "      <td>NaN</td>\n",
       "    </tr>\n",
       "    <tr>\n",
       "      <th>Total_runs_last_week</th>\n",
       "      <td>NaN</td>\n",
       "      <td>NaN</td>\n",
       "      <td>NaN</td>\n",
       "      <td>NaN</td>\n",
       "      <td>NaN</td>\n",
       "    </tr>\n",
       "    <tr>\n",
       "      <th>Total_users_last_week</th>\n",
       "      <td>NaN</td>\n",
       "      <td>NaN</td>\n",
       "      <td>NaN</td>\n",
       "      <td>NaN</td>\n",
       "      <td>NaN</td>\n",
       "    </tr>\n",
       "    <tr>\n",
       "      <th>Total_runs_last_24_hours</th>\n",
       "      <td>NaN</td>\n",
       "      <td>NaN</td>\n",
       "      <td>NaN</td>\n",
       "      <td>NaN</td>\n",
       "      <td>NaN</td>\n",
       "    </tr>\n",
       "    <tr>\n",
       "      <th>Total_users_last_24_hours</th>\n",
       "      <td>NaN</td>\n",
       "      <td>NaN</td>\n",
       "      <td>NaN</td>\n",
       "      <td>NaN</td>\n",
       "      <td>NaN</td>\n",
       "    </tr>\n",
       "  </tbody>\n",
       "</table>\n",
       "</div>"
      ],
      "text/plain": [
       "                                             0                    1  \\\n",
       "toolname                                matlab               octave   \n",
       "title                                   Matlab               Octave   \n",
       "published                                    0                    0   \n",
       "registered                 2000-10-02 02:34:37  2001-04-04 19:03:01   \n",
       "Total_runs_over_lifetime                  3470                   59   \n",
       "Total_users_over_lifetime                  162                   30   \n",
       "Total_runs_last_year                       NaN                  NaN   \n",
       "Total_users_last_year                      NaN                  NaN   \n",
       "Total_runs_last_3_month                    NaN                  NaN   \n",
       "Total_users_last_3_month                   NaN                  NaN   \n",
       "Total_runs_last_month                      NaN                  NaN   \n",
       "Total_users_last_month                     NaN                  NaN   \n",
       "Total_runs_last_week                       NaN                  NaN   \n",
       "Total_users_last_week                      NaN                  NaN   \n",
       "Total_runs_last_24_hours                   NaN                  NaN   \n",
       "Total_users_last_24_hours                  NaN                  NaN   \n",
       "\n",
       "                                             2                    3  \\\n",
       "toolname                                gamess                 rebo   \n",
       "title                                   GAMESS               REBO-1   \n",
       "published                                    0                    0   \n",
       "registered                 2003-01-15 15:41:22  2003-05-08 00:41:33   \n",
       "Total_runs_over_lifetime                  2415                  291   \n",
       "Total_users_over_lifetime                  101                   42   \n",
       "Total_runs_last_year                       NaN                  NaN   \n",
       "Total_users_last_year                      NaN                  NaN   \n",
       "Total_runs_last_3_month                    NaN                  NaN   \n",
       "Total_users_last_3_month                   NaN                  NaN   \n",
       "Total_runs_last_month                      NaN                  NaN   \n",
       "Total_users_last_month                     NaN                  NaN   \n",
       "Total_runs_last_week                       NaN                  NaN   \n",
       "Total_users_last_week                      NaN                  NaN   \n",
       "Total_runs_last_24_hours                   NaN                  NaN   \n",
       "Total_users_last_24_hours                  NaN                  NaN   \n",
       "\n",
       "                                             4  \n",
       "toolname                              ellipsom  \n",
       "title                           title-ellipsom  \n",
       "published                                    0  \n",
       "registered                 2005-03-05 03:02:47  \n",
       "Total_runs_over_lifetime                   NaN  \n",
       "Total_users_over_lifetime                  NaN  \n",
       "Total_runs_last_year                       NaN  \n",
       "Total_users_last_year                      NaN  \n",
       "Total_runs_last_3_month                    NaN  \n",
       "Total_users_last_3_month                   NaN  \n",
       "Total_runs_last_month                      NaN  \n",
       "Total_users_last_month                     NaN  \n",
       "Total_runs_last_week                       NaN  \n",
       "Total_users_last_week                      NaN  \n",
       "Total_runs_last_24_hours                   NaN  \n",
       "Total_users_last_24_hours                  NaN  "
      ]
     },
     "execution_count": 26,
     "metadata": {},
     "output_type": "execute_result"
    }
   ],
   "source": [
    "# insert user and run stats into df\n",
    "all_df = df.copy()\n",
    "\n",
    "all_df = pd.merge(all_df, toolstart_lifetime_df.rename(columns={\\\n",
    "                                                                'total':        'Total_runs_over_lifetime',\n",
    "                                                                'user_total':'Total_users_over_lifetime'}\\\n",
    "                                                      ), how='left', left_on='toolname', right_on='toolname')\n",
    "all_df = pd.merge(all_df, toolstart_last_year_df.rename(columns={\\\n",
    "                                                                'total':        'Total_runs_last_year',\n",
    "                                                                'user_total':'Total_users_last_year'}\\\n",
    "                                                      ), how='left', left_on='toolname', right_on='toolname')\n",
    "all_df = pd.merge(all_df, toolstart_last_3_month_df.rename(columns={\\\n",
    "                                                                'total':        'Total_runs_last_3_month',\n",
    "                                                                'user_total':'Total_users_last_3_month'}\\\n",
    "                                                      ), how='left', left_on='toolname', right_on='toolname')\n",
    "all_df = pd.merge(all_df, toolstart_last_month_df.rename(columns={\\\n",
    "                                                                'total':        'Total_runs_last_month',\n",
    "                                                                'user_total':'Total_users_last_month'}\\\n",
    "                                                      ), how='left', left_on='toolname', right_on='toolname')\n",
    "all_df = pd.merge(all_df, toolstart_last_week_df.rename(columns={\\\n",
    "                                                                'total':        'Total_runs_last_week',\n",
    "                                                                'user_total':'Total_users_last_week'}\\\n",
    "                                                      ), how='left', left_on='toolname', right_on='toolname')\n",
    "all_df = pd.merge(all_df, toolstart_last_24_hours_df.rename(columns={\\\n",
    "                                                                'total':        'Total_runs_last_24_hours',\n",
    "                                                                'user_total':'Total_users_last_24_hours'}\\\n",
    "                                                      ), how='left', left_on='toolname', right_on='toolname')\n",
    "\n",
    "# display\n",
    "all_df.head(5).T"
   ]
  },
  {
   "cell_type": "markdown",
   "metadata": {
    "papermill": {
     "duration": 0.071133,
     "end_time": "2021-01-21T06:40:12.338569",
     "exception": false,
     "start_time": "2021-01-21T06:40:12.267436",
     "status": "completed"
    },
    "tags": []
   },
   "source": [
    "## Match data with Salesforce format"
   ]
  },
  {
   "cell_type": "code",
   "execution_count": 27,
   "metadata": {
    "execution": {
     "iopub.execute_input": "2021-01-21T06:40:12.932851Z",
     "iopub.status.busy": "2021-01-21T06:40:12.809543Z",
     "iopub.status.idle": "2021-01-21T06:40:15.693422Z",
     "shell.execute_reply": "2021-01-21T06:40:15.693847Z"
    },
    "papermill": {
     "duration": 3.316664,
     "end_time": "2021-01-21T06:40:15.694011",
     "exception": false,
     "start_time": "2021-01-21T06:40:12.377347",
     "status": "completed"
    },
    "tags": []
   },
   "outputs": [
    {
     "data": {
      "text/html": [
       "<div>\n",
       "<style scoped>\n",
       "    .dataframe tbody tr th:only-of-type {\n",
       "        vertical-align: middle;\n",
       "    }\n",
       "\n",
       "    .dataframe tbody tr th {\n",
       "        vertical-align: top;\n",
       "    }\n",
       "\n",
       "    .dataframe thead th {\n",
       "        text-align: right;\n",
       "    }\n",
       "</style>\n",
       "<table border=\"1\" class=\"dataframe\">\n",
       "  <thead>\n",
       "    <tr style=\"text-align: right;\">\n",
       "      <th></th>\n",
       "      <th>0</th>\n",
       "      <th>1</th>\n",
       "    </tr>\n",
       "  </thead>\n",
       "  <tbody>\n",
       "    <tr>\n",
       "      <th>Name</th>\n",
       "      <td>Matlab</td>\n",
       "      <td>Octave</td>\n",
       "    </tr>\n",
       "    <tr>\n",
       "      <th>Tool_name__c</th>\n",
       "      <td>matlab</td>\n",
       "      <td>octave</td>\n",
       "    </tr>\n",
       "    <tr>\n",
       "      <th>Tool_URL__c</th>\n",
       "      <td>https://nanohub.org/tools/matlab</td>\n",
       "      <td>https://nanohub.org/tools/octave</td>\n",
       "    </tr>\n",
       "    <tr>\n",
       "      <th>Published__c</th>\n",
       "      <td>0</td>\n",
       "      <td>0</td>\n",
       "    </tr>\n",
       "    <tr>\n",
       "      <th>Total_runs_over_lifetime__c</th>\n",
       "      <td>3470</td>\n",
       "      <td>59</td>\n",
       "    </tr>\n",
       "    <tr>\n",
       "      <th>Total_runs_last_year__c</th>\n",
       "      <td>0</td>\n",
       "      <td>0</td>\n",
       "    </tr>\n",
       "    <tr>\n",
       "      <th>Total_runs_last_3_month__c</th>\n",
       "      <td>0</td>\n",
       "      <td>0</td>\n",
       "    </tr>\n",
       "    <tr>\n",
       "      <th>Total_runs_last_month__c</th>\n",
       "      <td>0</td>\n",
       "      <td>0</td>\n",
       "    </tr>\n",
       "    <tr>\n",
       "      <th>Total_runs_last_week__c</th>\n",
       "      <td>0</td>\n",
       "      <td>0</td>\n",
       "    </tr>\n",
       "    <tr>\n",
       "      <th>Total_runs_last_24_hours__c</th>\n",
       "      <td>0</td>\n",
       "      <td>0</td>\n",
       "    </tr>\n",
       "    <tr>\n",
       "      <th>Total_users_over_lifetime__c</th>\n",
       "      <td>162</td>\n",
       "      <td>30</td>\n",
       "    </tr>\n",
       "    <tr>\n",
       "      <th>Total_users_last_year__c</th>\n",
       "      <td>0</td>\n",
       "      <td>0</td>\n",
       "    </tr>\n",
       "    <tr>\n",
       "      <th>Total_users_last_3_month__c</th>\n",
       "      <td>0</td>\n",
       "      <td>0</td>\n",
       "    </tr>\n",
       "    <tr>\n",
       "      <th>Total_users_last_month__c</th>\n",
       "      <td>0</td>\n",
       "      <td>0</td>\n",
       "    </tr>\n",
       "    <tr>\n",
       "      <th>Total_users_last_week__c</th>\n",
       "      <td>0</td>\n",
       "      <td>0</td>\n",
       "    </tr>\n",
       "    <tr>\n",
       "      <th>Total_users_last_24_hours__c</th>\n",
       "      <td>0</td>\n",
       "      <td>0</td>\n",
       "    </tr>\n",
       "    <tr>\n",
       "      <th>Creation_date__c</th>\n",
       "      <td>2000-10-02</td>\n",
       "      <td>2001-04-04</td>\n",
       "    </tr>\n",
       "  </tbody>\n",
       "</table>\n",
       "</div>"
      ],
      "text/plain": [
       "                                                             0  \\\n",
       "Name                                                    Matlab   \n",
       "Tool_name__c                                            matlab   \n",
       "Tool_URL__c                   https://nanohub.org/tools/matlab   \n",
       "Published__c                                                 0   \n",
       "Total_runs_over_lifetime__c                               3470   \n",
       "Total_runs_last_year__c                                      0   \n",
       "Total_runs_last_3_month__c                                   0   \n",
       "Total_runs_last_month__c                                     0   \n",
       "Total_runs_last_week__c                                      0   \n",
       "Total_runs_last_24_hours__c                                  0   \n",
       "Total_users_over_lifetime__c                               162   \n",
       "Total_users_last_year__c                                     0   \n",
       "Total_users_last_3_month__c                                  0   \n",
       "Total_users_last_month__c                                    0   \n",
       "Total_users_last_week__c                                     0   \n",
       "Total_users_last_24_hours__c                                 0   \n",
       "Creation_date__c                                    2000-10-02   \n",
       "\n",
       "                                                             1  \n",
       "Name                                                    Octave  \n",
       "Tool_name__c                                            octave  \n",
       "Tool_URL__c                   https://nanohub.org/tools/octave  \n",
       "Published__c                                                 0  \n",
       "Total_runs_over_lifetime__c                                 59  \n",
       "Total_runs_last_year__c                                      0  \n",
       "Total_runs_last_3_month__c                                   0  \n",
       "Total_runs_last_month__c                                     0  \n",
       "Total_runs_last_week__c                                      0  \n",
       "Total_runs_last_24_hours__c                                  0  \n",
       "Total_users_over_lifetime__c                                30  \n",
       "Total_users_last_year__c                                     0  \n",
       "Total_users_last_3_month__c                                  0  \n",
       "Total_users_last_month__c                                    0  \n",
       "Total_users_last_week__c                                     0  \n",
       "Total_users_last_24_hours__c                                 0  \n",
       "Creation_date__c                                    2001-04-04  "
      ]
     },
     "execution_count": 27,
     "metadata": {},
     "output_type": "execute_result"
    }
   ],
   "source": [
    "df_sf = pd.DataFrame()\n",
    "\n",
    "# Make sure NaN and NaT values are taken care of here\n",
    "\n",
    "df_sf['Name']              = all_df['title']\n",
    "df_sf['Tool_name__c']  = all_df['toolname']\n",
    "df_sf['Tool_URL__c']     = all_df['toolname'].apply(lambda x: 'https://nanohub.org/tools/'+x)\n",
    "df_sf['Published__c']    = all_df['published']\n",
    "\n",
    "# stats\n",
    "df_sf['Total_runs_over_lifetime__c']  = all_df['Total_runs_over_lifetime']\n",
    "df_sf['Total_runs_last_year__c']        = all_df['Total_runs_last_year']\n",
    "df_sf['Total_runs_last_3_month__c'] = all_df['Total_runs_last_3_month']\n",
    "df_sf['Total_runs_last_month__c']     = all_df['Total_runs_last_month']\n",
    "df_sf['Total_runs_last_week__c']       = all_df['Total_runs_last_week']\n",
    "df_sf['Total_runs_last_24_hours__c'] = all_df['Total_runs_last_24_hours']\n",
    "\n",
    "df_sf['Total_users_over_lifetime__c']  = all_df['Total_users_over_lifetime']\n",
    "df_sf['Total_users_last_year__c']        = all_df['Total_users_last_year']\n",
    "df_sf['Total_users_last_3_month__c'] = all_df['Total_users_last_3_month']\n",
    "df_sf['Total_users_last_month__c']     = all_df['Total_users_last_month']\n",
    "df_sf['Total_users_last_week__c']       = all_df['Total_users_last_week']\n",
    "df_sf['Total_users_last_24_hours__c'] = all_df['Total_users_last_24_hours']\n",
    "\n",
    "# solidify time-related columns from datetime to string\n",
    "df_sf['Creation_date__c']  = all_df['registered'].dt.date.fillna('').astype('str')\n",
    "\n",
    "df_sf.fillna(0, inplace=True)\n",
    "\n",
    "sf_original_fields = df_sf.columns\n",
    "\n",
    "# display\n",
    "df_sf.head(2).T"
   ]
  },
  {
   "cell_type": "markdown",
   "metadata": {
    "papermill": {
     "duration": 0.147393,
     "end_time": "2021-01-21T06:40:15.875485",
     "exception": false,
     "start_time": "2021-01-21T06:40:15.728092",
     "status": "completed"
    },
    "tags": []
   },
   "source": [
    "## To Salesforce Sales Cloud CRM"
   ]
  },
  {
   "cell_type": "code",
   "execution_count": 28,
   "metadata": {
    "execution": {
     "iopub.execute_input": "2021-01-21T06:40:16.032068Z",
     "iopub.status.busy": "2021-01-21T06:40:16.031491Z",
     "iopub.status.idle": "2021-01-21T06:40:31.811267Z",
     "shell.execute_reply": "2021-01-21T06:40:31.811707Z"
    },
    "papermill": {
     "duration": 15.900448,
     "end_time": "2021-01-21T06:40:31.811876",
     "exception": false,
     "start_time": "2021-01-21T06:40:15.911428",
     "status": "completed"
    },
    "tags": []
   },
   "outputs": [
    {
     "name": "stdout",
     "output_type": "stream",
     "text": [
      "Obtained Salesforce access token ...... True\n"
     ]
    }
   ],
   "source": [
    "db_s.object_id = object_id\n",
    "db_s.external_id = external_id"
   ]
  },
  {
   "cell_type": "code",
   "execution_count": 29,
   "metadata": {
    "execution": {
     "iopub.execute_input": "2021-01-21T06:40:31.896626Z",
     "iopub.status.busy": "2021-01-21T06:40:31.896011Z",
     "iopub.status.idle": "2021-01-21T06:40:34.288949Z",
     "shell.execute_reply": "2021-01-21T06:40:34.280273Z"
    },
    "papermill": {
     "duration": 2.441878,
     "end_time": "2021-01-21T06:40:34.289101",
     "exception": false,
     "start_time": "2021-01-21T06:40:31.847223",
     "status": "completed"
    },
    "tags": []
   },
   "outputs": [
    {
     "name": "stdout",
     "output_type": "stream",
     "text": [
      "[Success] Bulk job creation successful. Job ID = 7505w00000TmJJTAA3\n",
      "hello\n",
      "[Success] CSV upload successful. Job ID = 7505w00000TmJJTAA3\n",
      "[Success] Closing job successful. Job ID = 7505w00000TmJJTAA3\n"
     ]
    }
   ],
   "source": [
    "# send data to Salesforce\n",
    "db_s.send_data(df_sf)"
   ]
  },
  {
   "cell_type": "code",
   "execution_count": 30,
   "metadata": {
    "execution": {
     "iopub.execute_input": "2021-01-21T06:40:34.456968Z",
     "iopub.status.busy": "2021-01-21T06:40:34.456264Z",
     "iopub.status.idle": "2021-01-21T06:40:34.763053Z",
     "shell.execute_reply": "2021-01-21T06:40:34.798992Z"
    },
    "papermill": {
     "duration": 0.474975,
     "end_time": "2021-01-21T06:40:34.799207",
     "exception": false,
     "start_time": "2021-01-21T06:40:34.324232",
     "status": "completed"
    },
    "tags": []
   },
   "outputs": [
    {
     "data": {
      "text/plain": [
       "{'id': '7505w00000TmJJTAA3',\n",
       " 'operation': 'upsert',\n",
       " 'object': 'nanoHUB_tools__c',\n",
       " 'createdById': '0055w00000DM5bOAAT',\n",
       " 'createdDate': '2021-01-21T06:40:32.000+0000',\n",
       " 'systemModstamp': '2021-01-21T06:40:34.000+0000',\n",
       " 'state': 'UploadComplete',\n",
       " 'externalIdFieldName': 'Tool_name__c',\n",
       " 'concurrencyMode': 'Parallel',\n",
       " 'contentType': 'CSV',\n",
       " 'apiVersion': 47.0,\n",
       " 'jobType': 'V2Ingest',\n",
       " 'lineEnding': 'LF',\n",
       " 'columnDelimiter': 'COMMA',\n",
       " 'numberRecordsProcessed': 0,\n",
       " 'numberRecordsFailed': 0,\n",
       " 'retries': 0,\n",
       " 'totalProcessingTime': 0,\n",
       " 'apiActiveProcessingTime': 0,\n",
       " 'apexProcessingTime': 0}"
      ]
     },
     "execution_count": 30,
     "metadata": {},
     "output_type": "execute_result"
    }
   ],
   "source": [
    "# check status\n",
    "db_s.check_bulk_status()"
   ]
  },
  {
   "cell_type": "code",
   "execution_count": null,
   "metadata": {
    "papermill": {
     "duration": 0.035391,
     "end_time": "2021-01-21T06:40:34.871159",
     "exception": false,
     "start_time": "2021-01-21T06:40:34.835768",
     "status": "completed"
    },
    "tags": []
   },
   "outputs": [],
   "source": []
  }
 ],
 "metadata": {
  "celltoolbar": "Tags",
  "kernelspec": {
   "display_name": "Python 3",
   "language": "python",
   "name": "python3"
  },
  "language_info": {
   "codemirror_mode": {
    "name": "ipython",
    "version": 3
   },
   "file_extension": ".py",
   "mimetype": "text/x-python",
   "name": "python",
   "nbconvert_exporter": "python",
   "pygments_lexer": "ipython3",
   "version": "3.7.10"
  },
  "papermill": {
   "duration": 611.119015,
   "end_time": "2021-01-21T06:40:43.191592",
   "environment_variables": {},
   "exception": null,
   "input_path": "/home/users/wang2506/nanohub_salesforce_integ/salesforce/task_tool_basic_updates.ipynb",
   "output_path": "/home/users/wang2506/nanohub_salesforce_integ/salesforce/task_tool_basic_updates.ipynb",
   "parameters": {},
   "start_time": "2021-01-21T06:30:32.072577",
   "version": "2.1.1"
  }
 },
 "nbformat": 4,
 "nbformat_minor": 4
}