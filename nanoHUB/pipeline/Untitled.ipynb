{
 "cells": [
  {
   "cell_type": "code",
   "execution_count": null,
   "id": "6df44544-b135-42a8-bea1-4f0bc8c9dee9",
   "metadata": {},
   "outputs": [],
   "source": []
  }
 ],
 "metadata": {
  "kernelspec": {
   "display_name": "",
   "name": ""
  },
  "language_info": {
   "name": ""
  }
 },
 "nbformat": 4,
 "nbformat_minor": 5
}
