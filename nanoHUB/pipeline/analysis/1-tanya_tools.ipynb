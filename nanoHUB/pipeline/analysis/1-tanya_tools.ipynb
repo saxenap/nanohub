{
 "cells": [
  {
   "cell_type": "markdown",
   "id": "64303df3-6e49-475d-9790-b5323ecfa289",
   "metadata": {
    "execution": {
     "iopub.execute_input": "2021-10-28T13:14:58.540015Z",
     "iopub.status.busy": "2021-10-28T13:14:58.539478Z",
     "iopub.status.idle": "2021-10-28T13:14:58.546247Z",
     "shell.execute_reply": "2021-10-28T13:14:58.545308Z",
     "shell.execute_reply.started": "2021-10-28T13:14:58.539847Z"
    }
   },
   "source": [
    "###### Top"
   ]
  },
  {
   "cell_type": "markdown",
   "id": "a5b097f1-407e-4c5c-ba9e-3608041cc30c",
   "metadata": {
    "execution": {
     "iopub.execute_input": "2021-10-28T15:35:39.146944Z",
     "iopub.status.busy": "2021-10-28T15:35:39.146459Z",
     "iopub.status.idle": "2021-10-28T15:35:39.978750Z",
     "shell.execute_reply": "2021-10-28T15:35:39.976183Z",
     "shell.execute_reply.started": "2021-10-28T15:35:39.146897Z"
    }
   },
   "source": [
    "# Mapping Tools to Authors The Right Way - I\n",
    "### Tanya's Authored Tool List\n",
    "\n",
    "##### Author: Praveen Saxena\n",
    "##### Email: saxep01@gmail.com\n",
    "##### Create Date: 10/27/2021\n",
    "##### Purpose: Find the reason for discrepancy in Tanya's listed tools on Salesforce vs. nanoHUB\n",
    "##### Reference: https://trello.com/c/Rx9pOPik\n",
    "\n",
    "![Tanya's Tool Authorships on Salesforce](static/tanya-salesforce-tool-authorships.png \"Tanya's Tool Authorships on Salesforce\")\n",
    "\n",
    "![Tanya's Tool Authorships on nanoHUB.org](static/tanya-nanohub-tool-authorships.jpg \"Tanya's Tool Authorships on nanoHUB.org\")"
   ]
  },
  {
   "cell_type": "markdown",
   "id": "2930be5d-51ac-408d-91ae-69fed156e246",
   "metadata": {},
   "source": [
    "## 1. Preliminaries\n",
    "[Scroll to top](#Top)"
   ]
  },
  {
   "cell_type": "code",
   "execution_count": null,
   "id": "0fbf55de-c2ea-466a-bb19-96865a4c5333",
   "metadata": {},
   "outputs": [],
   "source": []
  },
  {
   "cell_type": "code",
   "execution_count": 1,
   "id": "632d7942-95c3-408c-b16e-a6f32017f494",
   "metadata": {
    "execution": {
     "iopub.execute_input": "2021-10-28T18:14:37.212847Z",
     "iopub.status.busy": "2021-10-28T18:14:37.211430Z",
     "iopub.status.idle": "2021-10-28T18:14:38.176983Z",
     "shell.execute_reply": "2021-10-28T18:14:38.174985Z",
     "shell.execute_reply.started": "2021-10-28T18:14:37.212417Z"
    },
    "tags": []
   },
   "outputs": [],
   "source": [
    "import pandas as pd\n",
    "import os\n",
    "import time\n",
    "import datetime\n",
    "from pathlib import Path\n",
    "from IPython.display import display, Markdown"
   ]
  },
  {
   "cell_type": "code",
   "execution_count": 2,
   "id": "46133b62-c33a-46ca-9d36-fafb1322a738",
   "metadata": {
    "execution": {
     "iopub.execute_input": "2021-10-28T18:14:38.188775Z",
     "iopub.status.busy": "2021-10-28T18:14:38.185423Z",
     "iopub.status.idle": "2021-10-28T18:14:40.415247Z",
     "shell.execute_reply": "2021-10-28T18:14:40.412882Z",
     "shell.execute_reply.started": "2021-10-28T18:14:38.188714Z"
    },
    "tags": []
   },
   "outputs": [
    {
     "name": "stdout",
     "output_type": "stream",
     "text": [
      "\u001b[1mnanoHUB - Serving Students, Researchers & Instructors\u001b[0m\n"
     ]
    }
   ],
   "source": [
    "from nanoHUB.application import Application\n",
    "from nanoHUB.repositories import CachedRepository, PandasRepository, ContactsRepository, ToolsRepository\n",
    "from nanoHUB.pandas import get_rows_by_keyvalue, display_number_of_rows\n",
    "\n",
    "application = Application.get_instance()\n",
    "nanohub_db = application.new_db_engine('nanohub')\n",
    "\n",
    "cache_folder = Path(os.getenv('APP_DIR'), '.cache/tool_authorships/tanya')"
   ]
  },
  {
   "cell_type": "markdown",
   "id": "6614bb43-588e-4557-a427-8f28522627c2",
   "metadata": {
    "execution": {
     "iopub.execute_input": "2021-10-28T14:18:12.215420Z",
     "iopub.status.busy": "2021-10-28T14:18:12.215150Z",
     "iopub.status.idle": "2021-10-28T14:18:12.233216Z",
     "shell.execute_reply": "2021-10-28T14:18:12.227826Z",
     "shell.execute_reply.started": "2021-10-28T14:18:12.215393Z"
    }
   },
   "source": [
    "## 2. Variables  \n",
    "[Scroll to top](#Top)"
   ]
  },
  {
   "cell_type": "code",
   "execution_count": 3,
   "id": "0899f04d-677f-4103-b0c3-0b53c63bb8dd",
   "metadata": {
    "execution": {
     "iopub.execute_input": "2021-10-28T18:14:40.433967Z",
     "iopub.status.busy": "2021-10-28T18:14:40.432209Z",
     "iopub.status.idle": "2021-10-28T18:14:40.445367Z",
     "shell.execute_reply": "2021-10-28T18:14:40.443892Z",
     "shell.execute_reply.started": "2021-10-28T18:14:40.433835Z"
    }
   },
   "outputs": [],
   "source": [
    "tanya_uid = 29294"
   ]
  },
  {
   "cell_type": "markdown",
   "id": "32892f02-5a5e-492c-8e51-af705648ab1b",
   "metadata": {
    "execution": {
     "iopub.execute_input": "2021-10-28T13:50:20.842176Z",
     "iopub.status.busy": "2021-10-28T13:50:20.840467Z",
     "iopub.status.idle": "2021-10-28T13:50:20.853579Z",
     "shell.execute_reply": "2021-10-28T13:50:20.850800Z",
     "shell.execute_reply.started": "2021-10-28T13:50:20.842109Z"
    }
   },
   "source": [
    "## 3. Analysis of current code \n",
    "#### CurrentQuery - Obtain tool info with authors\n",
    "[Scroll to top](#Top)"
   ]
  },
  {
   "cell_type": "code",
   "execution_count": 4,
   "id": "1a091f6e-6e8e-4934-b718-bda5827d278a",
   "metadata": {
    "execution": {
     "iopub.execute_input": "2021-10-28T18:14:40.458236Z",
     "iopub.status.busy": "2021-10-28T18:14:40.455377Z",
     "iopub.status.idle": "2021-10-28T18:14:41.247561Z",
     "shell.execute_reply": "2021-10-28T18:14:41.246049Z",
     "shell.execute_reply.started": "2021-10-28T18:14:40.458063Z"
    },
    "tags": []
   },
   "outputs": [
    {
     "data": {
      "text/markdown": [
       "#### Let's grab information for all tools along with their author ids"
      ],
      "text/plain": [
       "<IPython.core.display.Markdown object>"
      ]
     },
     "metadata": {},
     "output_type": "display_data"
    },
    {
     "data": {
      "text/html": [
       "<div>\n",
       "<style scoped>\n",
       "    .dataframe tbody tr th:only-of-type {\n",
       "        vertical-align: middle;\n",
       "    }\n",
       "\n",
       "    .dataframe tbody tr th {\n",
       "        vertical-align: top;\n",
       "    }\n",
       "\n",
       "    .dataframe thead th {\n",
       "        text-align: right;\n",
       "    }\n",
       "</style>\n",
       "<table border=\"1\" class=\"dataframe\">\n",
       "  <thead>\n",
       "    <tr style=\"text-align: right;\">\n",
       "      <th></th>\n",
       "      <th>toolname</th>\n",
       "      <th>revision</th>\n",
       "      <th>uid</th>\n",
       "      <th>ordering</th>\n",
       "      <th>version_id</th>\n",
       "      <th>name</th>\n",
       "      <th>organization</th>\n",
       "    </tr>\n",
       "  </thead>\n",
       "  <tbody>\n",
       "    <tr>\n",
       "      <th>0</th>\n",
       "      <td>adept</td>\n",
       "      <td>16</td>\n",
       "      <td>4645</td>\n",
       "      <td>1</td>\n",
       "      <td>2</td>\n",
       "      <td>None</td>\n",
       "      <td>None</td>\n",
       "    </tr>\n",
       "    <tr>\n",
       "      <th>1</th>\n",
       "      <td>adept</td>\n",
       "      <td>16</td>\n",
       "      <td>3013</td>\n",
       "      <td>2</td>\n",
       "      <td>2</td>\n",
       "      <td>None</td>\n",
       "      <td>None</td>\n",
       "    </tr>\n",
       "    <tr>\n",
       "      <th>2</th>\n",
       "      <td>greentherm</td>\n",
       "      <td>31</td>\n",
       "      <td>12642</td>\n",
       "      <td>1</td>\n",
       "      <td>4</td>\n",
       "      <td>None</td>\n",
       "      <td>None</td>\n",
       "    </tr>\n",
       "    <tr>\n",
       "      <th>3</th>\n",
       "      <td>greentherm</td>\n",
       "      <td>31</td>\n",
       "      <td>15601</td>\n",
       "      <td>2</td>\n",
       "      <td>4</td>\n",
       "      <td>None</td>\n",
       "      <td>None</td>\n",
       "    </tr>\n",
       "    <tr>\n",
       "      <th>4</th>\n",
       "      <td>greentherm</td>\n",
       "      <td>31</td>\n",
       "      <td>21031</td>\n",
       "      <td>3</td>\n",
       "      <td>4</td>\n",
       "      <td>None</td>\n",
       "      <td>None</td>\n",
       "    </tr>\n",
       "  </tbody>\n",
       "</table>\n",
       "</div>"
      ],
      "text/plain": [
       "     toolname  revision    uid  ordering  version_id  name organization\n",
       "0       adept        16   4645         1           2  None         None\n",
       "1       adept        16   3013         2           2  None         None\n",
       "2  greentherm        31  12642         1           4  None         None\n",
       "3  greentherm        31  15601         2           4  None         None\n",
       "4  greentherm        31  21031         3           4  None         None"
      ]
     },
     "metadata": {},
     "output_type": "display_data"
    },
    {
     "name": "stdout",
     "output_type": "stream",
     "text": [
      "<class 'pandas.core.frame.DataFrame'>\n",
      "RangeIndex: 11849 entries, 0 to 11848\n",
      "Data columns (total 7 columns):\n",
      " #   Column        Non-Null Count  Dtype \n",
      "---  ------        --------------  ----- \n",
      " 0   toolname      11849 non-null  object\n",
      " 1   revision      11849 non-null  int64 \n",
      " 2   uid           11849 non-null  int64 \n",
      " 3   ordering      11849 non-null  int64 \n",
      " 4   version_id    11849 non-null  int64 \n",
      " 5   name          8520 non-null   object\n",
      " 6   organization  8519 non-null   object\n",
      "dtypes: int64(4), object(3)\n",
      "memory usage: 648.1+ KB\n"
     ]
    },
    {
     "data": {
      "text/plain": [
       "None"
      ]
     },
     "metadata": {},
     "output_type": "display_data"
    },
    {
     "data": {
      "text/markdown": [
       "**A total of 11849 entries pulled in for tools**"
      ],
      "text/plain": [
       "<IPython.core.display.Markdown object>"
      ]
     },
     "metadata": {},
     "output_type": "display_data"
    }
   ],
   "source": [
    "display(Markdown(\"#### Let's grab information for all tools along with their author ids\"))\n",
    "\n",
    "naive_query = '''\n",
    "SELECT * from jos_tool_authors;\n",
    "'''\n",
    "naive_df = pd.read_sql_query(naive_query, nanohub_db)\n",
    "\n",
    "display(naive_df.head())\n",
    "display(naive_df.info())\n",
    "\n",
    "display(Markdown(\"**A total of %d entries pulled in for tools**\" % len(naive_df.index)))"
   ]
  },
  {
   "cell_type": "markdown",
   "id": "dca723c6-7333-4020-a9eb-deed2a50c5c6",
   "metadata": {
    "execution": {
     "iopub.execute_input": "2021-10-28T14:38:18.079512Z",
     "iopub.status.busy": "2021-10-28T14:38:18.079269Z",
     "iopub.status.idle": "2021-10-28T14:38:18.098651Z",
     "shell.execute_reply": "2021-10-28T14:38:18.092261Z",
     "shell.execute_reply.started": "2021-10-28T14:38:18.079482Z"
    }
   },
   "source": [
    "## 4. Problem \n",
    "#### To identify the problem, use Tanya's Results from Current Code\n",
    "[Scroll to top](#Top)"
   ]
  },
  {
   "cell_type": "code",
   "execution_count": 5,
   "id": "c91595f8-abd8-47f7-9f6e-7fa16247bcde",
   "metadata": {
    "execution": {
     "iopub.execute_input": "2021-10-28T18:14:41.260671Z",
     "iopub.status.busy": "2021-10-28T18:14:41.259661Z",
     "iopub.status.idle": "2021-10-28T18:14:41.307617Z",
     "shell.execute_reply": "2021-10-28T18:14:41.304453Z",
     "shell.execute_reply.started": "2021-10-28T18:14:41.260565Z"
    },
    "tags": []
   },
   "outputs": [
    {
     "data": {
      "text/html": [
       "<div>\n",
       "<style scoped>\n",
       "    .dataframe tbody tr th:only-of-type {\n",
       "        vertical-align: middle;\n",
       "    }\n",
       "\n",
       "    .dataframe tbody tr th {\n",
       "        vertical-align: top;\n",
       "    }\n",
       "\n",
       "    .dataframe thead th {\n",
       "        text-align: right;\n",
       "    }\n",
       "</style>\n",
       "<table border=\"1\" class=\"dataframe\">\n",
       "  <thead>\n",
       "    <tr style=\"text-align: right;\">\n",
       "      <th></th>\n",
       "      <th>toolname</th>\n",
       "      <th>revision</th>\n",
       "      <th>uid</th>\n",
       "      <th>ordering</th>\n",
       "      <th>version_id</th>\n",
       "      <th>name</th>\n",
       "      <th>organization</th>\n",
       "    </tr>\n",
       "  </thead>\n",
       "  <tbody>\n",
       "    <tr>\n",
       "      <th>5838</th>\n",
       "      <td>mosfetsat</td>\n",
       "      <td>66</td>\n",
       "      <td>29294</td>\n",
       "      <td>2</td>\n",
       "      <td>2755</td>\n",
       "      <td>Tanya Faltens</td>\n",
       "      <td>Purdue University</td>\n",
       "    </tr>\n",
       "    <tr>\n",
       "      <th>8210</th>\n",
       "      <td>mif</td>\n",
       "      <td>6</td>\n",
       "      <td>29294</td>\n",
       "      <td>2</td>\n",
       "      <td>3561</td>\n",
       "      <td>Tanya Faltens</td>\n",
       "      <td>Purdue University</td>\n",
       "    </tr>\n",
       "    <tr>\n",
       "      <th>8732</th>\n",
       "      <td>crystal_viewer</td>\n",
       "      <td>394</td>\n",
       "      <td>29294</td>\n",
       "      <td>4</td>\n",
       "      <td>3714</td>\n",
       "      <td>Tanya Faltens</td>\n",
       "      <td>Purdue University</td>\n",
       "    </tr>\n",
       "    <tr>\n",
       "      <th>8921</th>\n",
       "      <td>crystal_viewer</td>\n",
       "      <td>395</td>\n",
       "      <td>29294</td>\n",
       "      <td>4</td>\n",
       "      <td>3775</td>\n",
       "      <td>Tanya Faltens</td>\n",
       "      <td>Purdue University</td>\n",
       "    </tr>\n",
       "    <tr>\n",
       "      <th>9777</th>\n",
       "      <td>tinwhis</td>\n",
       "      <td>14</td>\n",
       "      <td>29294</td>\n",
       "      <td>2</td>\n",
       "      <td>4284</td>\n",
       "      <td>Tanya Faltens</td>\n",
       "      <td></td>\n",
       "    </tr>\n",
       "    <tr>\n",
       "      <th>10899</th>\n",
       "      <td>engdata</td>\n",
       "      <td>4</td>\n",
       "      <td>29294</td>\n",
       "      <td>1</td>\n",
       "      <td>4954</td>\n",
       "      <td>Tanya Faltens</td>\n",
       "      <td></td>\n",
       "    </tr>\n",
       "  </tbody>\n",
       "</table>\n",
       "</div>"
      ],
      "text/plain": [
       "             toolname  revision    uid  ordering  version_id           name  \\\n",
       "5838        mosfetsat        66  29294         2        2755  Tanya Faltens   \n",
       "8210              mif         6  29294         2        3561  Tanya Faltens   \n",
       "8732   crystal_viewer       394  29294         4        3714  Tanya Faltens   \n",
       "8921   crystal_viewer       395  29294         4        3775  Tanya Faltens   \n",
       "9777          tinwhis        14  29294         2        4284  Tanya Faltens   \n",
       "10899         engdata         4  29294         1        4954  Tanya Faltens   \n",
       "\n",
       "            organization  \n",
       "5838   Purdue University  \n",
       "8210   Purdue University  \n",
       "8732   Purdue University  \n",
       "8921   Purdue University  \n",
       "9777                      \n",
       "10899                     "
      ]
     },
     "metadata": {},
     "output_type": "display_data"
    }
   ],
   "source": [
    "display(get_rows_by_keyvalue(naive_df, 'uid', tanya_uid))"
   ]
  },
  {
   "cell_type": "markdown",
   "id": "e49a386b-7381-43e2-9cfe-7606d0a89eeb",
   "metadata": {},
   "source": [
    "Some of the entries for Tanya in the result above are not published tools. They definitely need to be filtered out. \n",
    "\n",
    "However, the current code uses table **_nanohub.jos_tool_authors_** which simply doesn't contain enough information to get the right number of tools for a user. We need more information about the tools, such as:\n",
    "\n",
    "1. Is the tool a version of an existing tool?\n",
    "2. Is the tool in development or is it a published final product in use by other users?"
   ]
  },
  {
   "cell_type": "markdown",
   "id": "35df7ef7-f1d9-4eb7-93b5-f48ef261f906",
   "metadata": {},
   "source": [
    "## 5. Potential Solution\n",
    "#### New Query - Obtain tool info including publication status and authors\n",
    "[Scroll to top](#Top)"
   ]
  },
  {
   "cell_type": "code",
   "execution_count": 6,
   "id": "0c61e4af-c897-47a4-b99e-af7a316ed1cc",
   "metadata": {
    "execution": {
     "iopub.execute_input": "2021-10-28T18:14:41.319892Z",
     "iopub.status.busy": "2021-10-28T18:14:41.317685Z",
     "iopub.status.idle": "2021-10-28T18:14:41.435787Z",
     "shell.execute_reply": "2021-10-28T18:14:41.434363Z",
     "shell.execute_reply.started": "2021-10-28T18:14:41.319819Z"
    },
    "tags": []
   },
   "outputs": [
    {
     "data": {
      "text/html": [
       "<div>\n",
       "<style scoped>\n",
       "    .dataframe tbody tr th:only-of-type {\n",
       "        vertical-align: middle;\n",
       "    }\n",
       "\n",
       "    .dataframe tbody tr th {\n",
       "        vertical-align: top;\n",
       "    }\n",
       "\n",
       "    .dataframe thead th {\n",
       "        text-align: right;\n",
       "    }\n",
       "</style>\n",
       "<table border=\"1\" class=\"dataframe\">\n",
       "  <thead>\n",
       "    <tr style=\"text-align: right;\">\n",
       "      <th></th>\n",
       "      <th>toolname</th>\n",
       "      <th>title</th>\n",
       "      <th>authorid</th>\n",
       "      <th>name</th>\n",
       "      <th>published</th>\n",
       "      <th>type</th>\n",
       "    </tr>\n",
       "  </thead>\n",
       "  <tbody>\n",
       "    <tr>\n",
       "      <th>0</th>\n",
       "      <td>hydrolab</td>\n",
       "      <td>Hydrophobicity Lab</td>\n",
       "      <td>4713.0</td>\n",
       "      <td>Eric Darve</td>\n",
       "      <td>1</td>\n",
       "      <td>7</td>\n",
       "    </tr>\n",
       "    <tr>\n",
       "      <th>1</th>\n",
       "      <td>hydrolab</td>\n",
       "      <td>Hydrophobicity Lab</td>\n",
       "      <td>12486.0</td>\n",
       "      <td>Artit Wangperawong</td>\n",
       "      <td>1</td>\n",
       "      <td>7</td>\n",
       "    </tr>\n",
       "    <tr>\n",
       "      <th>2</th>\n",
       "      <td>hydrolab</td>\n",
       "      <td>Hydrophobicity Lab</td>\n",
       "      <td>12590.0</td>\n",
       "      <td>Kazutora Hayashida</td>\n",
       "      <td>1</td>\n",
       "      <td>7</td>\n",
       "    </tr>\n",
       "    <tr>\n",
       "      <th>3</th>\n",
       "      <td>huckel</td>\n",
       "      <td>Huckel-IV</td>\n",
       "      <td>NaN</td>\n",
       "      <td>None</td>\n",
       "      <td>0</td>\n",
       "      <td>7</td>\n",
       "    </tr>\n",
       "    <tr>\n",
       "      <th>4</th>\n",
       "      <td>nanomos</td>\n",
       "      <td>NanoMOS</td>\n",
       "      <td>-39.0</td>\n",
       "      <td></td>\n",
       "      <td>1</td>\n",
       "      <td>7</td>\n",
       "    </tr>\n",
       "  </tbody>\n",
       "</table>\n",
       "</div>"
      ],
      "text/plain": [
       "   toolname               title  authorid                name  published  type\n",
       "0  hydrolab  Hydrophobicity Lab    4713.0          Eric Darve          1     7\n",
       "1  hydrolab  Hydrophobicity Lab   12486.0  Artit Wangperawong          1     7\n",
       "2  hydrolab  Hydrophobicity Lab   12590.0  Kazutora Hayashida          1     7\n",
       "3    huckel           Huckel-IV       NaN                None          0     7\n",
       "4   nanomos             NanoMOS     -39.0                              1     7"
      ]
     },
     "metadata": {},
     "output_type": "display_data"
    },
    {
     "name": "stdout",
     "output_type": "stream",
     "text": [
      "<class 'pandas.core.frame.DataFrame'>\n",
      "RangeIndex: 8154 entries, 0 to 8153\n",
      "Data columns (total 6 columns):\n",
      " #   Column     Non-Null Count  Dtype  \n",
      "---  ------     --------------  -----  \n",
      " 0   toolname   2918 non-null   object \n",
      " 1   title      2918 non-null   object \n",
      " 2   authorid   7936 non-null   float64\n",
      " 3   name       7936 non-null   object \n",
      " 4   published  8154 non-null   int64  \n",
      " 5   type       8154 non-null   int64  \n",
      "dtypes: float64(1), int64(2), object(3)\n",
      "memory usage: 382.3+ KB\n"
     ]
    },
    {
     "data": {
      "text/plain": [
       "None"
      ]
     },
     "metadata": {},
     "output_type": "display_data"
    },
    {
     "data": {
      "text/markdown": [
       "**A total of 8154 entries pulled in**"
      ],
      "text/plain": [
       "<IPython.core.display.Markdown object>"
      ]
     },
     "metadata": {},
     "output_type": "display_data"
    }
   ],
   "source": [
    "sql_string = '''\n",
    "SELECT DISTINCT \n",
    "       tool.toolname AS toolname, tool.title AS title,\n",
    "       author.authorid, author.name,\n",
    "       res.published, res.type\n",
    "FROM nanohub.jos_resources res\n",
    "LEFT JOIN nanohub.jos_author_assoc author\n",
    "  ON author.subid  = res.id\n",
    "LEFT JOIN nanohub.jos_tool tool\n",
    "  ON LOWER(tool.title) = LOWER(res.title) \n",
    ";\n",
    "'''\n",
    "\n",
    "potential_repo = CachedRepository(\n",
    "    PandasRepository(sql_string, nanohub_db, 'resources_data'),\n",
    "    cache_folder\n",
    ")\n",
    "potential_df = potential_repo.get_all()\n",
    "\n",
    "display(potential_df.head())\n",
    "display(potential_df.info())\n",
    "\n",
    "display_number_of_rows(potential_df)"
   ]
  },
  {
   "cell_type": "markdown",
   "id": "a886ebeb-dfe1-4af5-a470-5df325fcc1bf",
   "metadata": {},
   "source": [
    "#### Validation - Tanya's Results from Potential Solution "
   ]
  },
  {
   "cell_type": "code",
   "execution_count": 7,
   "id": "515b8aee-0781-4b2d-be9a-543fb438dc4c",
   "metadata": {
    "execution": {
     "iopub.execute_input": "2021-10-28T18:14:41.445654Z",
     "iopub.status.busy": "2021-10-28T18:14:41.442338Z",
     "iopub.status.idle": "2021-10-28T18:14:41.551119Z",
     "shell.execute_reply": "2021-10-28T18:14:41.549661Z",
     "shell.execute_reply.started": "2021-10-28T18:14:41.445481Z"
    },
    "tags": []
   },
   "outputs": [
    {
     "data": {
      "text/html": [
       "<div>\n",
       "<style scoped>\n",
       "    .dataframe tbody tr th:only-of-type {\n",
       "        vertical-align: middle;\n",
       "    }\n",
       "\n",
       "    .dataframe tbody tr th {\n",
       "        vertical-align: top;\n",
       "    }\n",
       "\n",
       "    .dataframe thead th {\n",
       "        text-align: right;\n",
       "    }\n",
       "</style>\n",
       "<table border=\"1\" class=\"dataframe\">\n",
       "  <thead>\n",
       "    <tr style=\"text-align: right;\">\n",
       "      <th></th>\n",
       "      <th>toolname</th>\n",
       "      <th>title</th>\n",
       "      <th>authorid</th>\n",
       "      <th>name</th>\n",
       "      <th>published</th>\n",
       "      <th>type</th>\n",
       "    </tr>\n",
       "  </thead>\n",
       "  <tbody>\n",
       "    <tr>\n",
       "      <th>2275</th>\n",
       "      <td>kicad</td>\n",
       "      <td>KiCad EDA</td>\n",
       "      <td>29294.0</td>\n",
       "      <td>Tanya Faltens</td>\n",
       "      <td>2</td>\n",
       "      <td>7</td>\n",
       "    </tr>\n",
       "    <tr>\n",
       "      <th>2329</th>\n",
       "      <td>None</td>\n",
       "      <td>None</td>\n",
       "      <td>29294.0</td>\n",
       "      <td>Tanya Faltens</td>\n",
       "      <td>1</td>\n",
       "      <td>1</td>\n",
       "    </tr>\n",
       "    <tr>\n",
       "      <th>3153</th>\n",
       "      <td>None</td>\n",
       "      <td>None</td>\n",
       "      <td>29294.0</td>\n",
       "      <td>Tanya Faltens</td>\n",
       "      <td>1</td>\n",
       "      <td>39</td>\n",
       "    </tr>\n",
       "    <tr>\n",
       "      <th>3666</th>\n",
       "      <td>githubpublic</td>\n",
       "      <td>Git Hub Public Tool</td>\n",
       "      <td>29294.0</td>\n",
       "      <td>Tanya Faltens</td>\n",
       "      <td>2</td>\n",
       "      <td>7</td>\n",
       "    </tr>\n",
       "    <tr>\n",
       "      <th>3667</th>\n",
       "      <td>githubprivate2</td>\n",
       "      <td>GitHub Private Tool Jupyter NB second try with...</td>\n",
       "      <td>29294.0</td>\n",
       "      <td>Tanya Faltens</td>\n",
       "      <td>2</td>\n",
       "      <td>7</td>\n",
       "    </tr>\n",
       "    <tr>\n",
       "      <th>3947</th>\n",
       "      <td>gumby</td>\n",
       "      <td>gumby</td>\n",
       "      <td>29294.0</td>\n",
       "      <td>Tanya Faltens</td>\n",
       "      <td>4</td>\n",
       "      <td>7</td>\n",
       "    </tr>\n",
       "    <tr>\n",
       "      <th>3966</th>\n",
       "      <td>mosfetsat</td>\n",
       "      <td>MOSFET Simulation</td>\n",
       "      <td>29294.0</td>\n",
       "      <td>Tanya Faltens</td>\n",
       "      <td>1</td>\n",
       "      <td>7</td>\n",
       "    </tr>\n",
       "    <tr>\n",
       "      <th>4296</th>\n",
       "      <td>None</td>\n",
       "      <td>None</td>\n",
       "      <td>29294.0</td>\n",
       "      <td>Tanya Faltens</td>\n",
       "      <td>1</td>\n",
       "      <td>10</td>\n",
       "    </tr>\n",
       "    <tr>\n",
       "      <th>4478</th>\n",
       "      <td>tanyatest</td>\n",
       "      <td>tanya test tool</td>\n",
       "      <td>29294.0</td>\n",
       "      <td>Tanya Faltens</td>\n",
       "      <td>2</td>\n",
       "      <td>7</td>\n",
       "    </tr>\n",
       "    <tr>\n",
       "      <th>4553</th>\n",
       "      <td>mif</td>\n",
       "      <td>MIF generator for OOMMF</td>\n",
       "      <td>29294.0</td>\n",
       "      <td>Tanya Faltens</td>\n",
       "      <td>1</td>\n",
       "      <td>7</td>\n",
       "    </tr>\n",
       "    <tr>\n",
       "      <th>4581</th>\n",
       "      <td>oommfonline</td>\n",
       "      <td>Object Oriented MicroMagnetic Framework - Aban...</td>\n",
       "      <td>29294.0</td>\n",
       "      <td>Tanya Faltens</td>\n",
       "      <td>4</td>\n",
       "      <td>7</td>\n",
       "    </tr>\n",
       "    <tr>\n",
       "      <th>4704</th>\n",
       "      <td>None</td>\n",
       "      <td>None</td>\n",
       "      <td>29294.0</td>\n",
       "      <td>Tanya Faltens</td>\n",
       "      <td>1</td>\n",
       "      <td>9</td>\n",
       "    </tr>\n",
       "    <tr>\n",
       "      <th>5603</th>\n",
       "      <td>test</td>\n",
       "      <td>test</td>\n",
       "      <td>29294.0</td>\n",
       "      <td>Tanya Faltens</td>\n",
       "      <td>2</td>\n",
       "      <td>10</td>\n",
       "    </tr>\n",
       "    <tr>\n",
       "      <th>5764</th>\n",
       "      <td>gitlocalrapptur</td>\n",
       "      <td>Example nanoHUB Rappture tool using git local</td>\n",
       "      <td>29294.0</td>\n",
       "      <td>Tanya Faltens</td>\n",
       "      <td>2</td>\n",
       "      <td>7</td>\n",
       "    </tr>\n",
       "    <tr>\n",
       "      <th>5949</th>\n",
       "      <td>None</td>\n",
       "      <td>None</td>\n",
       "      <td>29294.0</td>\n",
       "      <td>Tanya Faltens</td>\n",
       "      <td>2</td>\n",
       "      <td>39</td>\n",
       "    </tr>\n",
       "    <tr>\n",
       "      <th>6121</th>\n",
       "      <td>vesicles</td>\n",
       "      <td>Image analysis of a vesicle</td>\n",
       "      <td>29294.0</td>\n",
       "      <td>Tanya Faltens</td>\n",
       "      <td>2</td>\n",
       "      <td>7</td>\n",
       "    </tr>\n",
       "    <tr>\n",
       "      <th>7017</th>\n",
       "      <td>labdatanb</td>\n",
       "      <td>Lab Data Analysis Notebook</td>\n",
       "      <td>29294.0</td>\n",
       "      <td>Tanya Faltens</td>\n",
       "      <td>2</td>\n",
       "      <td>7</td>\n",
       "    </tr>\n",
       "    <tr>\n",
       "      <th>7018</th>\n",
       "      <td>uqtutorial</td>\n",
       "      <td>Uncertainty Quantification (UQ) Tutorial</td>\n",
       "      <td>29294.0</td>\n",
       "      <td>Tanya Faltens</td>\n",
       "      <td>2</td>\n",
       "      <td>7</td>\n",
       "    </tr>\n",
       "    <tr>\n",
       "      <th>7034</th>\n",
       "      <td>introchemlabs</td>\n",
       "      <td>introductory chemistry labs</td>\n",
       "      <td>29294.0</td>\n",
       "      <td>Tanya Faltens</td>\n",
       "      <td>2</td>\n",
       "      <td>7</td>\n",
       "    </tr>\n",
       "    <tr>\n",
       "      <th>7045</th>\n",
       "      <td>tanyatesttool</td>\n",
       "      <td>Tanya's Test Tool</td>\n",
       "      <td>29294.0</td>\n",
       "      <td>Tanya Faltens</td>\n",
       "      <td>4</td>\n",
       "      <td>7</td>\n",
       "    </tr>\n",
       "    <tr>\n",
       "      <th>7047</th>\n",
       "      <td>toolshortname</td>\n",
       "      <td>Longer Name for the Title of the Tool</td>\n",
       "      <td>29294.0</td>\n",
       "      <td>Tanya Faltens</td>\n",
       "      <td>2</td>\n",
       "      <td>7</td>\n",
       "    </tr>\n",
       "    <tr>\n",
       "      <th>7121</th>\n",
       "      <td>engr132jupytera</td>\n",
       "      <td>ENGR 132 Jupyter Notebooks (test)</td>\n",
       "      <td>29294.0</td>\n",
       "      <td>Tanya Faltens</td>\n",
       "      <td>2</td>\n",
       "      <td>7</td>\n",
       "    </tr>\n",
       "    <tr>\n",
       "      <th>7431</th>\n",
       "      <td>engr132ncn</td>\n",
       "      <td>ENGR 132 Notebooks</td>\n",
       "      <td>29294.0</td>\n",
       "      <td>Tanya Faltens</td>\n",
       "      <td>2</td>\n",
       "      <td>7</td>\n",
       "    </tr>\n",
       "    <tr>\n",
       "      <th>7548</th>\n",
       "      <td>githubexample</td>\n",
       "      <td>Example nanoHUB Jupyter tool using GitHub</td>\n",
       "      <td>29294.0</td>\n",
       "      <td>Tanya Faltens</td>\n",
       "      <td>2</td>\n",
       "      <td>7</td>\n",
       "    </tr>\n",
       "    <tr>\n",
       "      <th>7552</th>\n",
       "      <td>qucsngspice</td>\n",
       "      <td>Qucs with SPICE</td>\n",
       "      <td>29294.0</td>\n",
       "      <td>Tanya Faltens</td>\n",
       "      <td>2</td>\n",
       "      <td>7</td>\n",
       "    </tr>\n",
       "    <tr>\n",
       "      <th>7632</th>\n",
       "      <td>chemlabs</td>\n",
       "      <td>Chemistry labs for PCC</td>\n",
       "      <td>29294.0</td>\n",
       "      <td>Tanya Faltens</td>\n",
       "      <td>2</td>\n",
       "      <td>7</td>\n",
       "    </tr>\n",
       "    <tr>\n",
       "      <th>7720</th>\n",
       "      <td>learngit</td>\n",
       "      <td>Learn Git in nanoHUB</td>\n",
       "      <td>29294.0</td>\n",
       "      <td>Tanya Faltens</td>\n",
       "      <td>2</td>\n",
       "      <td>7</td>\n",
       "    </tr>\n",
       "    <tr>\n",
       "      <th>7935</th>\n",
       "      <td>None</td>\n",
       "      <td>None</td>\n",
       "      <td>29294.0</td>\n",
       "      <td>Tanya Faltens</td>\n",
       "      <td>2</td>\n",
       "      <td>7</td>\n",
       "    </tr>\n",
       "    <tr>\n",
       "      <th>8060</th>\n",
       "      <td>None</td>\n",
       "      <td>None</td>\n",
       "      <td>29294.0</td>\n",
       "      <td>Tanya Faltens</td>\n",
       "      <td>1</td>\n",
       "      <td>31</td>\n",
       "    </tr>\n",
       "  </tbody>\n",
       "</table>\n",
       "</div>"
      ],
      "text/plain": [
       "             toolname                                              title  \\\n",
       "2275            kicad                                          KiCad EDA   \n",
       "2329             None                                               None   \n",
       "3153             None                                               None   \n",
       "3666     githubpublic                                Git Hub Public Tool   \n",
       "3667   githubprivate2  GitHub Private Tool Jupyter NB second try with...   \n",
       "3947            gumby                                              gumby   \n",
       "3966        mosfetsat                                  MOSFET Simulation   \n",
       "4296             None                                               None   \n",
       "4478        tanyatest                                    tanya test tool   \n",
       "4553              mif                            MIF generator for OOMMF   \n",
       "4581      oommfonline  Object Oriented MicroMagnetic Framework - Aban...   \n",
       "4704             None                                               None   \n",
       "5603             test                                               test   \n",
       "5764  gitlocalrapptur      Example nanoHUB Rappture tool using git local   \n",
       "5949             None                                               None   \n",
       "6121         vesicles                        Image analysis of a vesicle   \n",
       "7017        labdatanb                         Lab Data Analysis Notebook   \n",
       "7018       uqtutorial           Uncertainty Quantification (UQ) Tutorial   \n",
       "7034    introchemlabs                        introductory chemistry labs   \n",
       "7045    tanyatesttool                                  Tanya's Test Tool   \n",
       "7047    toolshortname              Longer Name for the Title of the Tool   \n",
       "7121  engr132jupytera                  ENGR 132 Jupyter Notebooks (test)   \n",
       "7431       engr132ncn                                 ENGR 132 Notebooks   \n",
       "7548    githubexample          Example nanoHUB Jupyter tool using GitHub   \n",
       "7552      qucsngspice                                    Qucs with SPICE   \n",
       "7632         chemlabs                             Chemistry labs for PCC   \n",
       "7720         learngit                               Learn Git in nanoHUB   \n",
       "7935             None                                               None   \n",
       "8060             None                                               None   \n",
       "\n",
       "      authorid           name  published  type  \n",
       "2275   29294.0  Tanya Faltens          2     7  \n",
       "2329   29294.0  Tanya Faltens          1     1  \n",
       "3153   29294.0  Tanya Faltens          1    39  \n",
       "3666   29294.0  Tanya Faltens          2     7  \n",
       "3667   29294.0  Tanya Faltens          2     7  \n",
       "3947   29294.0  Tanya Faltens          4     7  \n",
       "3966   29294.0  Tanya Faltens          1     7  \n",
       "4296   29294.0  Tanya Faltens          1    10  \n",
       "4478   29294.0  Tanya Faltens          2     7  \n",
       "4553   29294.0  Tanya Faltens          1     7  \n",
       "4581   29294.0  Tanya Faltens          4     7  \n",
       "4704   29294.0  Tanya Faltens          1     9  \n",
       "5603   29294.0  Tanya Faltens          2    10  \n",
       "5764   29294.0  Tanya Faltens          2     7  \n",
       "5949   29294.0  Tanya Faltens          2    39  \n",
       "6121   29294.0  Tanya Faltens          2     7  \n",
       "7017   29294.0  Tanya Faltens          2     7  \n",
       "7018   29294.0  Tanya Faltens          2     7  \n",
       "7034   29294.0  Tanya Faltens          2     7  \n",
       "7045   29294.0  Tanya Faltens          4     7  \n",
       "7047   29294.0  Tanya Faltens          2     7  \n",
       "7121   29294.0  Tanya Faltens          2     7  \n",
       "7431   29294.0  Tanya Faltens          2     7  \n",
       "7548   29294.0  Tanya Faltens          2     7  \n",
       "7552   29294.0  Tanya Faltens          2     7  \n",
       "7632   29294.0  Tanya Faltens          2     7  \n",
       "7720   29294.0  Tanya Faltens          2     7  \n",
       "7935   29294.0  Tanya Faltens          2     7  \n",
       "8060   29294.0  Tanya Faltens          1    31  "
      ]
     },
     "metadata": {},
     "output_type": "display_data"
    },
    {
     "data": {
      "text/markdown": [
       "**A total of 29 entries pulled in**"
      ],
      "text/plain": [
       "<IPython.core.display.Markdown object>"
      ]
     },
     "metadata": {},
     "output_type": "display_data"
    }
   ],
   "source": [
    "tanya_df = get_rows_by_keyvalue(potential_df, 'authorid', tanya_uid)\n",
    "\n",
    "display(tanya_df)\n",
    "display_number_of_rows(tanya_df)"
   ]
  },
  {
   "cell_type": "markdown",
   "id": "5c4b1ebf-4686-4a51-a3e7-65c8afe8fa96",
   "metadata": {},
   "source": [
    "**NOTES:**\n",
    "\n",
    "1. This is an excessive amount of data for Tanya. Some of the entries in the potential solution are definitely not tools. Their type seems to be identifiable by _type_ column.\n",
    "2. All entries contain an identifier for whether they are published or not.\n",
    "\n",
    "\n",
    "Let's filter the results from the potential solution by:\n",
    "1. Publication status\n",
    "2. Type"
   ]
  },
  {
   "cell_type": "markdown",
   "id": "8e30f3d6-a7b9-416d-8d9e-ecb9bb8e27a4",
   "metadata": {},
   "source": [
    "#### Potential Solution - Filtered Results"
   ]
  },
  {
   "cell_type": "markdown",
   "id": "458c3147-07f1-4519-9a52-2abafc9d48e0",
   "metadata": {
    "execution": {
     "iopub.execute_input": "2021-10-28T18:12:57.133006Z",
     "iopub.status.busy": "2021-10-28T18:12:57.132482Z",
     "iopub.status.idle": "2021-10-28T18:12:57.144348Z",
     "shell.execute_reply": "2021-10-28T18:12:57.138461Z",
     "shell.execute_reply.started": "2021-10-28T18:12:57.132760Z"
    },
    "tags": []
   },
   "source": [
    "#### Query"
   ]
  },
  {
   "cell_type": "code",
   "execution_count": 8,
   "id": "959306f3-3171-4193-98f8-9994892babf7",
   "metadata": {
    "execution": {
     "iopub.execute_input": "2021-10-28T18:14:41.556977Z",
     "iopub.status.busy": "2021-10-28T18:14:41.553628Z",
     "iopub.status.idle": "2021-10-28T18:14:41.579405Z",
     "shell.execute_reply": "2021-10-28T18:14:41.572369Z",
     "shell.execute_reply.started": "2021-10-28T18:14:41.556820Z"
    },
    "tags": []
   },
   "outputs": [
    {
     "data": {
      "text/markdown": [
       "**Filtered Results**"
      ],
      "text/plain": [
       "<IPython.core.display.Markdown object>"
      ]
     },
     "metadata": {},
     "output_type": "display_data"
    }
   ],
   "source": [
    "display(Markdown(\"**Filtered Results**\"))\n",
    "\n",
    "sql_string = '''\n",
    "SELECT DISTINCT \n",
    "       tool.toolname AS toolname, tool.title AS title,\n",
    "       author.authorid, author.name,\n",
    "       res.published, res.type\n",
    "FROM nanohub.jos_resources res\n",
    "LEFT JOIN nanohub.jos_author_assoc author\n",
    "  ON author.subid  = res.id\n",
    "LEFT JOIN nanohub.jos_tool tool\n",
    "  ON LOWER(tool.title) = LOWER(res.title) \n",
    "WHERE\n",
    "    res.title != '' AND\n",
    "    res.published = 1 AND \n",
    "    res.type = '7' AND \n",
    "    res.access IN ('0','3','1') AND \n",
    "    res.standalone = '1'\n",
    ";\n",
    "'''"
   ]
  },
  {
   "cell_type": "markdown",
   "id": "157a4934-7543-4f78-8a4f-500618b1636f",
   "metadata": {},
   "source": [
    "#### Results"
   ]
  },
  {
   "cell_type": "code",
   "execution_count": 9,
   "id": "980d07c1-f704-4ee1-8560-976f98bee622",
   "metadata": {
    "execution": {
     "iopub.execute_input": "2021-10-28T18:14:41.585301Z",
     "iopub.status.busy": "2021-10-28T18:14:41.583186Z",
     "iopub.status.idle": "2021-10-28T18:14:41.656208Z",
     "shell.execute_reply": "2021-10-28T18:14:41.654077Z",
     "shell.execute_reply.started": "2021-10-28T18:14:41.585216Z"
    }
   },
   "outputs": [
    {
     "data": {
      "text/html": [
       "<div>\n",
       "<style scoped>\n",
       "    .dataframe tbody tr th:only-of-type {\n",
       "        vertical-align: middle;\n",
       "    }\n",
       "\n",
       "    .dataframe tbody tr th {\n",
       "        vertical-align: top;\n",
       "    }\n",
       "\n",
       "    .dataframe thead th {\n",
       "        text-align: right;\n",
       "    }\n",
       "</style>\n",
       "<table border=\"1\" class=\"dataframe\">\n",
       "  <thead>\n",
       "    <tr style=\"text-align: right;\">\n",
       "      <th></th>\n",
       "      <th>toolname</th>\n",
       "      <th>title</th>\n",
       "      <th>authorid</th>\n",
       "      <th>name</th>\n",
       "      <th>published</th>\n",
       "      <th>type</th>\n",
       "    </tr>\n",
       "  </thead>\n",
       "  <tbody>\n",
       "    <tr>\n",
       "      <th>0</th>\n",
       "      <td>hydrolab</td>\n",
       "      <td>Hydrophobicity Lab</td>\n",
       "      <td>4713.0</td>\n",
       "      <td>Eric Darve</td>\n",
       "      <td>1</td>\n",
       "      <td>7</td>\n",
       "    </tr>\n",
       "    <tr>\n",
       "      <th>1</th>\n",
       "      <td>hydrolab</td>\n",
       "      <td>Hydrophobicity Lab</td>\n",
       "      <td>12486.0</td>\n",
       "      <td>Artit Wangperawong</td>\n",
       "      <td>1</td>\n",
       "      <td>7</td>\n",
       "    </tr>\n",
       "    <tr>\n",
       "      <th>2</th>\n",
       "      <td>hydrolab</td>\n",
       "      <td>Hydrophobicity Lab</td>\n",
       "      <td>12590.0</td>\n",
       "      <td>Kazutora Hayashida</td>\n",
       "      <td>1</td>\n",
       "      <td>7</td>\n",
       "    </tr>\n",
       "    <tr>\n",
       "      <th>3</th>\n",
       "      <td>nanomos</td>\n",
       "      <td>NanoMOS</td>\n",
       "      <td>-39.0</td>\n",
       "      <td></td>\n",
       "      <td>1</td>\n",
       "      <td>7</td>\n",
       "    </tr>\n",
       "    <tr>\n",
       "      <th>4</th>\n",
       "      <td>nanomos</td>\n",
       "      <td>NanoMOS</td>\n",
       "      <td>4323.0</td>\n",
       "      <td></td>\n",
       "      <td>1</td>\n",
       "      <td>7</td>\n",
       "    </tr>\n",
       "  </tbody>\n",
       "</table>\n",
       "</div>"
      ],
      "text/plain": [
       "   toolname               title  authorid                name  published  type\n",
       "0  hydrolab  Hydrophobicity Lab    4713.0          Eric Darve          1     7\n",
       "1  hydrolab  Hydrophobicity Lab   12486.0  Artit Wangperawong          1     7\n",
       "2  hydrolab  Hydrophobicity Lab   12590.0  Kazutora Hayashida          1     7\n",
       "3   nanomos             NanoMOS     -39.0                              1     7\n",
       "4   nanomos             NanoMOS    4323.0                              1     7"
      ]
     },
     "metadata": {},
     "output_type": "display_data"
    },
    {
     "name": "stdout",
     "output_type": "stream",
     "text": [
      "<class 'pandas.core.frame.DataFrame'>\n",
      "RangeIndex: 1878 entries, 0 to 1877\n",
      "Data columns (total 6 columns):\n",
      " #   Column     Non-Null Count  Dtype  \n",
      "---  ------     --------------  -----  \n",
      " 0   toolname   1401 non-null   object \n",
      " 1   title      1401 non-null   object \n",
      " 2   authorid   1874 non-null   float64\n",
      " 3   name       1874 non-null   object \n",
      " 4   published  1878 non-null   int64  \n",
      " 5   type       1878 non-null   int64  \n",
      "dtypes: float64(1), int64(2), object(3)\n",
      "memory usage: 88.2+ KB\n"
     ]
    },
    {
     "data": {
      "text/plain": [
       "None"
      ]
     },
     "metadata": {},
     "output_type": "display_data"
    },
    {
     "data": {
      "text/markdown": [
       "**A total of 1878 entries pulled in**"
      ],
      "text/plain": [
       "<IPython.core.display.Markdown object>"
      ]
     },
     "metadata": {},
     "output_type": "display_data"
    }
   ],
   "source": [
    "filtered_repo = CachedRepository(\n",
    "    PandasRepository(sql_string, nanohub_db, 'resources_data_filtered'),\n",
    "    cache_folder\n",
    ")\n",
    "filtered_df = filtered_repo.get_all()\n",
    "\n",
    "display(filtered_df.head())\n",
    "display(filtered_df.info())\n",
    "\n",
    "display_number_of_rows(filtered_df)"
   ]
  },
  {
   "cell_type": "markdown",
   "id": "071cb22c-dde9-426b-bacb-e44e417c43c2",
   "metadata": {},
   "source": [
    "Okay, much better. We have now pulled in only published tools. Let's check for Tanya next."
   ]
  },
  {
   "cell_type": "markdown",
   "id": "f12a54d9-7d05-42c2-9ba4-79541daf3833",
   "metadata": {},
   "source": [
    "#### Final Results"
   ]
  },
  {
   "cell_type": "code",
   "execution_count": 10,
   "id": "17d82b08-3f7f-4e98-a129-15d535cb960a",
   "metadata": {
    "execution": {
     "iopub.execute_input": "2021-10-28T18:14:41.659915Z",
     "iopub.status.busy": "2021-10-28T18:14:41.659379Z",
     "iopub.status.idle": "2021-10-28T18:14:41.697956Z",
     "shell.execute_reply": "2021-10-28T18:14:41.696278Z",
     "shell.execute_reply.started": "2021-10-28T18:14:41.659861Z"
    }
   },
   "outputs": [
    {
     "data": {
      "text/html": [
       "<div>\n",
       "<style scoped>\n",
       "    .dataframe tbody tr th:only-of-type {\n",
       "        vertical-align: middle;\n",
       "    }\n",
       "\n",
       "    .dataframe tbody tr th {\n",
       "        vertical-align: top;\n",
       "    }\n",
       "\n",
       "    .dataframe thead th {\n",
       "        text-align: right;\n",
       "    }\n",
       "</style>\n",
       "<table border=\"1\" class=\"dataframe\">\n",
       "  <thead>\n",
       "    <tr style=\"text-align: right;\">\n",
       "      <th></th>\n",
       "      <th>toolname</th>\n",
       "      <th>title</th>\n",
       "      <th>authorid</th>\n",
       "      <th>name</th>\n",
       "      <th>published</th>\n",
       "      <th>type</th>\n",
       "    </tr>\n",
       "  </thead>\n",
       "  <tbody>\n",
       "    <tr>\n",
       "      <th>730</th>\n",
       "      <td>mosfetsat</td>\n",
       "      <td>MOSFET Simulation</td>\n",
       "      <td>29294.0</td>\n",
       "      <td>Tanya Faltens</td>\n",
       "      <td>1</td>\n",
       "      <td>7</td>\n",
       "    </tr>\n",
       "    <tr>\n",
       "      <th>840</th>\n",
       "      <td>mif</td>\n",
       "      <td>MIF generator for OOMMF</td>\n",
       "      <td>29294.0</td>\n",
       "      <td>Tanya Faltens</td>\n",
       "      <td>1</td>\n",
       "      <td>7</td>\n",
       "    </tr>\n",
       "  </tbody>\n",
       "</table>\n",
       "</div>"
      ],
      "text/plain": [
       "      toolname                    title  authorid           name  published  \\\n",
       "730  mosfetsat        MOSFET Simulation   29294.0  Tanya Faltens          1   \n",
       "840        mif  MIF generator for OOMMF   29294.0  Tanya Faltens          1   \n",
       "\n",
       "     type  \n",
       "730     7  \n",
       "840     7  "
      ]
     },
     "metadata": {},
     "output_type": "display_data"
    },
    {
     "data": {
      "text/markdown": [
       "**A total of 2 entries pulled in**"
      ],
      "text/plain": [
       "<IPython.core.display.Markdown object>"
      ]
     },
     "metadata": {},
     "output_type": "display_data"
    }
   ],
   "source": [
    "tanya_df = get_rows_by_keyvalue(filtered_df, 'authorid', tanya_uid)\n",
    "\n",
    "display(tanya_df)\n",
    "display_number_of_rows(tanya_df)"
   ]
  },
  {
   "cell_type": "markdown",
   "id": "95dfd23d-1de2-4b56-9501-1c631c8ce52d",
   "metadata": {},
   "source": [
    "## 5. Conclusion\n",
    "#### Great Success! \n",
    "\n",
    "We have matched Tanya's tool authorships from nanoHUB.org with [results](#Results) from our new [solution](#Query). \n",
    "\n",
    "![Tanya's Tool Authorships on nanoHUB.org](static/tanya-nanohub-tool-authorships.jpg \"Tanya's Tool Authorships on nanoHUB.org\")\n",
    "\n",
    "\n",
    "Next up: Analysis for Stephen Goodnick."
   ]
  },
  {
   "cell_type": "markdown",
   "id": "689a772c-e959-42b5-b843-295795b00a4e",
   "metadata": {},
   "source": [
    "Side Note:\n",
    "\n",
    "In the course of this analysis, I had to get data from db2 multiple times. This specific query took long and returned the same results for all practical purposes. \n",
    "\n",
    "This is a frequently used pattern and becomes repetitive, leading to wastage of analyst/developer time, and more pressure on db2. So I created a cacheable repository which stores the results locally and uses them automatically. By default, it refreshes the results from db2 or salesforce if the results have been stored for an hour. But that can be changed to 1 second, 1 minute, or 1 day, or any other time interval as desired.\n",
    "\n",
    "Cacheabled Repository - \n",
    "1. works for db2 and Salesforce. \n",
    "2. configurable time limit for caching of data\n",
    "\n",
    "[Click Here for Reference](#Potential-Solution)"
   ]
  },
  {
   "cell_type": "markdown",
   "id": "8ae6ac65-226c-4ace-8a7a-83ad26fda886",
   "metadata": {
    "execution": {
     "iopub.execute_input": "2021-10-28T15:42:07.527202Z",
     "iopub.status.busy": "2021-10-28T15:42:07.526223Z",
     "iopub.status.idle": "2021-10-28T15:42:07.545421Z",
     "shell.execute_reply": "2021-10-28T15:42:07.542283Z",
     "shell.execute_reply.started": "2021-10-28T15:42:07.527011Z"
    }
   },
   "source": [
    "[Scroll to top](#Top)"
   ]
  }
 ],
 "metadata": {
  "kernelspec": {
   "display_name": "Python 3 (ipykernel)",
   "language": "python",
   "name": "python3"
  },
  "language_info": {
   "codemirror_mode": {
    "name": "ipython",
    "version": 3
   },
   "file_extension": ".py",
   "mimetype": "text/x-python",
   "name": "python",
   "nbconvert_exporter": "python",
   "pygments_lexer": "ipython3",
   "version": "3.8.10"
  }
 },
 "nbformat": 4,
 "nbformat_minor": 5
}
