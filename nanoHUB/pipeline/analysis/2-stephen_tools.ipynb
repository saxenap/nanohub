{
 "cells": [
  {
   "cell_type": "markdown",
   "id": "64303df3-6e49-475d-9790-b5323ecfa289",
   "metadata": {
    "execution": {
     "iopub.execute_input": "2021-10-28T13:14:58.540015Z",
     "iopub.status.busy": "2021-10-28T13:14:58.539478Z",
     "iopub.status.idle": "2021-10-28T13:14:58.546247Z",
     "shell.execute_reply": "2021-10-28T13:14:58.545308Z",
     "shell.execute_reply.started": "2021-10-28T13:14:58.539847Z"
    }
   },
   "source": [
    "###### Top"
   ]
  },
  {
   "cell_type": "markdown",
   "id": "a5b097f1-407e-4c5c-ba9e-3608041cc30c",
   "metadata": {
    "execution": {
     "iopub.execute_input": "2021-10-28T15:35:39.146944Z",
     "iopub.status.busy": "2021-10-28T15:35:39.146459Z",
     "iopub.status.idle": "2021-10-28T15:35:39.978750Z",
     "shell.execute_reply": "2021-10-28T15:35:39.976183Z",
     "shell.execute_reply.started": "2021-10-28T15:35:39.146897Z"
    }
   },
   "source": [
    "# Mapping Tools to Authors The Right Way - II\n",
    "### Validation of Proposed New Solution from Part I Using Stephen's Authored Tool List\n",
    "\n",
    "##### Author: Praveen Saxena\n",
    "##### Email: saxep01@gmail.com\n",
    "##### Create Date: 10/28/2021\n",
    "##### Purpose: Validate the new solution using Stephen's listed tools on Salesforce vs. nanoHUB, or find another solution.\n",
    "##### Reference: https://trello.com/c/Rx9pOPik\n",
    "\n",
    "![Stephen's Tool Authorships on Salesforce](static/stephen-salesforce-tool-authorships.jpg \"Stephen's Tool Authorships on Salesforce\")\n",
    "\n",
    "![Stephen's Tool Authorships on nanoHUB.org](static/stephen-nanohub-tool-authorships.jpg \"Stephen's Tool Authorships on nanoHUB.org\")"
   ]
  },
  {
   "cell_type": "markdown",
   "id": "2930be5d-51ac-408d-91ae-69fed156e246",
   "metadata": {},
   "source": [
    "## 1. Preliminaries\n",
    "[Scroll to top](#Top)"
   ]
  },
  {
   "cell_type": "code",
   "execution_count": null,
   "id": "0fbf55de-c2ea-466a-bb19-96865a4c5333",
   "metadata": {},
   "outputs": [],
   "source": []
  },
  {
   "cell_type": "code",
   "execution_count": 1,
   "id": "632d7942-95c3-408c-b16e-a6f32017f494",
   "metadata": {
    "execution": {
     "iopub.execute_input": "2021-10-28T18:20:50.169441Z",
     "iopub.status.busy": "2021-10-28T18:20:50.168685Z",
     "iopub.status.idle": "2021-10-28T18:20:50.782425Z",
     "shell.execute_reply": "2021-10-28T18:20:50.780907Z",
     "shell.execute_reply.started": "2021-10-28T18:20:50.169293Z"
    },
    "tags": []
   },
   "outputs": [],
   "source": [
    "import pandas as pd\n",
    "import os\n",
    "import time\n",
    "import datetime\n",
    "from pathlib import Path\n",
    "from IPython.display import display, Markdown"
   ]
  },
  {
   "cell_type": "code",
   "execution_count": 2,
   "id": "46133b62-c33a-46ca-9d36-fafb1322a738",
   "metadata": {
    "execution": {
     "iopub.execute_input": "2021-10-28T18:20:50.783547Z",
     "iopub.status.busy": "2021-10-28T18:20:50.783344Z",
     "iopub.status.idle": "2021-10-28T18:20:52.154469Z",
     "shell.execute_reply": "2021-10-28T18:20:52.153098Z",
     "shell.execute_reply.started": "2021-10-28T18:20:50.783509Z"
    },
    "tags": []
   },
   "outputs": [
    {
     "name": "stdout",
     "output_type": "stream",
     "text": [
      "\u001b[1mnanoHUB - Serving Students, Researchers & Instructors\u001b[0m\n"
     ]
    }
   ],
   "source": [
    "from nanoHUB.application import Application\n",
    "from nanoHUB.repositories import CachedRepository, PandasRepository, ContactsRepository, ToolsRepository\n",
    "from nanoHUB.pandas import get_rows_by_keyvalue, display_number_of_rows\n",
    "\n",
    "application = Application.get_instance()\n",
    "nanohub_db = application.new_db_engine('nanohub')\n",
    "\n",
    "cache_folder = Path(os.getenv('APP_DIR'), '.cache/tool_authorships/stephen')"
   ]
  },
  {
   "cell_type": "markdown",
   "id": "6614bb43-588e-4557-a427-8f28522627c2",
   "metadata": {
    "execution": {
     "iopub.execute_input": "2021-10-28T14:18:12.215420Z",
     "iopub.status.busy": "2021-10-28T14:18:12.215150Z",
     "iopub.status.idle": "2021-10-28T14:18:12.233216Z",
     "shell.execute_reply": "2021-10-28T14:18:12.227826Z",
     "shell.execute_reply.started": "2021-10-28T14:18:12.215393Z"
    }
   },
   "source": [
    "## 2. Variables  \n",
    "[Scroll to top](#Top)"
   ]
  },
  {
   "cell_type": "code",
   "execution_count": 3,
   "id": "0899f04d-677f-4103-b0c3-0b53c63bb8dd",
   "metadata": {
    "execution": {
     "iopub.execute_input": "2021-10-28T18:20:52.166954Z",
     "iopub.status.busy": "2021-10-28T18:20:52.166035Z",
     "iopub.status.idle": "2021-10-28T18:20:52.175902Z",
     "shell.execute_reply": "2021-10-28T18:20:52.172047Z",
     "shell.execute_reply.started": "2021-10-28T18:20:52.166867Z"
    },
    "tags": []
   },
   "outputs": [],
   "source": [
    "stephen_uid = 29476\n",
    "tanya_uid = 29294"
   ]
  },
  {
   "cell_type": "markdown",
   "id": "32892f02-5a5e-492c-8e51-af705648ab1b",
   "metadata": {
    "execution": {
     "iopub.execute_input": "2021-10-28T13:50:20.842176Z",
     "iopub.status.busy": "2021-10-28T13:50:20.840467Z",
     "iopub.status.idle": "2021-10-28T13:50:20.853579Z",
     "shell.execute_reply": "2021-10-28T13:50:20.850800Z",
     "shell.execute_reply.started": "2021-10-28T13:50:20.842109Z"
    }
   },
   "source": [
    "## 3. Analysis\n",
    "[Scroll to top](#Top)"
   ]
  },
  {
   "cell_type": "markdown",
   "id": "ac82290a-83cb-4aaf-b335-93fb368c2097",
   "metadata": {},
   "source": [
    "The original existing code returns results for Stephen that exactly match what's on nanoHUB.org for him. Let's use the new proposed solution to grab tool data for Stephen and see how well that works."
   ]
  },
  {
   "cell_type": "code",
   "execution_count": 4,
   "id": "1a091f6e-6e8e-4934-b718-bda5827d278a",
   "metadata": {
    "execution": {
     "iopub.execute_input": "2021-10-28T18:20:52.183956Z",
     "iopub.status.busy": "2021-10-28T18:20:52.182425Z",
     "iopub.status.idle": "2021-10-28T18:20:52.356008Z",
     "shell.execute_reply": "2021-10-28T18:20:52.353882Z",
     "shell.execute_reply.started": "2021-10-28T18:20:52.183807Z"
    },
    "tags": []
   },
   "outputs": [
    {
     "data": {
      "text/markdown": [
       "#### Grab tool data using proposed solution from part I"
      ],
      "text/plain": [
       "<IPython.core.display.Markdown object>"
      ]
     },
     "metadata": {},
     "output_type": "display_data"
    },
    {
     "data": {
      "text/html": [
       "<div>\n",
       "<style scoped>\n",
       "    .dataframe tbody tr th:only-of-type {\n",
       "        vertical-align: middle;\n",
       "    }\n",
       "\n",
       "    .dataframe tbody tr th {\n",
       "        vertical-align: top;\n",
       "    }\n",
       "\n",
       "    .dataframe thead th {\n",
       "        text-align: right;\n",
       "    }\n",
       "</style>\n",
       "<table border=\"1\" class=\"dataframe\">\n",
       "  <thead>\n",
       "    <tr style=\"text-align: right;\">\n",
       "      <th></th>\n",
       "      <th>toolname</th>\n",
       "      <th>title</th>\n",
       "      <th>authorid</th>\n",
       "      <th>name</th>\n",
       "      <th>published</th>\n",
       "      <th>type</th>\n",
       "    </tr>\n",
       "  </thead>\n",
       "  <tbody>\n",
       "    <tr>\n",
       "      <th>0</th>\n",
       "      <td>hydrolab</td>\n",
       "      <td>Hydrophobicity Lab</td>\n",
       "      <td>4713.0</td>\n",
       "      <td>Eric Darve</td>\n",
       "      <td>1</td>\n",
       "      <td>7</td>\n",
       "    </tr>\n",
       "    <tr>\n",
       "      <th>1</th>\n",
       "      <td>hydrolab</td>\n",
       "      <td>Hydrophobicity Lab</td>\n",
       "      <td>12486.0</td>\n",
       "      <td>Artit Wangperawong</td>\n",
       "      <td>1</td>\n",
       "      <td>7</td>\n",
       "    </tr>\n",
       "    <tr>\n",
       "      <th>2</th>\n",
       "      <td>hydrolab</td>\n",
       "      <td>Hydrophobicity Lab</td>\n",
       "      <td>12590.0</td>\n",
       "      <td>Kazutora Hayashida</td>\n",
       "      <td>1</td>\n",
       "      <td>7</td>\n",
       "    </tr>\n",
       "    <tr>\n",
       "      <th>3</th>\n",
       "      <td>nanomos</td>\n",
       "      <td>NanoMOS</td>\n",
       "      <td>-39.0</td>\n",
       "      <td></td>\n",
       "      <td>1</td>\n",
       "      <td>7</td>\n",
       "    </tr>\n",
       "    <tr>\n",
       "      <th>4</th>\n",
       "      <td>nanomos</td>\n",
       "      <td>NanoMOS</td>\n",
       "      <td>4323.0</td>\n",
       "      <td></td>\n",
       "      <td>1</td>\n",
       "      <td>7</td>\n",
       "    </tr>\n",
       "  </tbody>\n",
       "</table>\n",
       "</div>"
      ],
      "text/plain": [
       "   toolname               title  authorid                name  published  type\n",
       "0  hydrolab  Hydrophobicity Lab    4713.0          Eric Darve          1     7\n",
       "1  hydrolab  Hydrophobicity Lab   12486.0  Artit Wangperawong          1     7\n",
       "2  hydrolab  Hydrophobicity Lab   12590.0  Kazutora Hayashida          1     7\n",
       "3   nanomos             NanoMOS     -39.0                              1     7\n",
       "4   nanomos             NanoMOS    4323.0                              1     7"
      ]
     },
     "metadata": {},
     "output_type": "display_data"
    },
    {
     "name": "stdout",
     "output_type": "stream",
     "text": [
      "<class 'pandas.core.frame.DataFrame'>\n",
      "RangeIndex: 1878 entries, 0 to 1877\n",
      "Data columns (total 6 columns):\n",
      " #   Column     Non-Null Count  Dtype  \n",
      "---  ------     --------------  -----  \n",
      " 0   toolname   1401 non-null   object \n",
      " 1   title      1401 non-null   object \n",
      " 2   authorid   1874 non-null   float64\n",
      " 3   name       1874 non-null   object \n",
      " 4   published  1878 non-null   int64  \n",
      " 5   type       1878 non-null   int64  \n",
      "dtypes: float64(1), int64(2), object(3)\n",
      "memory usage: 88.2+ KB\n"
     ]
    },
    {
     "data": {
      "text/plain": [
       "None"
      ]
     },
     "metadata": {},
     "output_type": "display_data"
    },
    {
     "data": {
      "text/markdown": [
       "**A total of 1878 entries pulled in**"
      ],
      "text/plain": [
       "<IPython.core.display.Markdown object>"
      ]
     },
     "metadata": {},
     "output_type": "display_data"
    }
   ],
   "source": [
    "display(Markdown(\"#### Grab tool data using proposed solution from part I\"))\n",
    "\n",
    "proposed_sql_string = '''\n",
    "SELECT DISTINCT \n",
    "       tool.toolname AS toolname, tool.title AS title,\n",
    "       author.authorid, author.name,\n",
    "       res.published, res.type\n",
    "FROM nanohub.jos_resources res\n",
    "LEFT JOIN nanohub.jos_author_assoc author\n",
    "  ON author.subid  = res.id\n",
    "LEFT JOIN nanohub.jos_tool tool\n",
    "  ON LOWER(tool.title) = LOWER(res.title) \n",
    "WHERE\n",
    "    res.title != '' AND\n",
    "    res.published = 1 AND \n",
    "    res.type = '7' AND \n",
    "    res.access IN ('0','3','1') AND \n",
    "    res.standalone = '1'\n",
    ";\n",
    "'''\n",
    "\n",
    "proposed_repo = CachedRepository(\n",
    "    PandasRepository(proposed_sql_string, nanohub_db, 'resources_data_filtered'),\n",
    "    cache_folder\n",
    ")\n",
    "proposed_df = proposed_repo.get_all()\n",
    "\n",
    "display(proposed_df.head())\n",
    "display(proposed_df.info())\n",
    "\n",
    "display_number_of_rows(proposed_df)"
   ]
  },
  {
   "cell_type": "code",
   "execution_count": 5,
   "id": "ebb61163-7c98-4d9c-8db9-18f8a67c0471",
   "metadata": {
    "execution": {
     "iopub.execute_input": "2021-10-28T18:20:52.359303Z",
     "iopub.status.busy": "2021-10-28T18:20:52.358969Z",
     "iopub.status.idle": "2021-10-28T18:20:52.410818Z",
     "shell.execute_reply": "2021-10-28T18:20:52.407333Z",
     "shell.execute_reply.started": "2021-10-28T18:20:52.359252Z"
    },
    "tags": []
   },
   "outputs": [
    {
     "data": {
      "text/markdown": [
       "#### Let's filter the tool authorship list for Stephen:"
      ],
      "text/plain": [
       "<IPython.core.display.Markdown object>"
      ]
     },
     "metadata": {},
     "output_type": "display_data"
    },
    {
     "data": {
      "text/html": [
       "<div>\n",
       "<style scoped>\n",
       "    .dataframe tbody tr th:only-of-type {\n",
       "        vertical-align: middle;\n",
       "    }\n",
       "\n",
       "    .dataframe tbody tr th {\n",
       "        vertical-align: top;\n",
       "    }\n",
       "\n",
       "    .dataframe thead th {\n",
       "        text-align: right;\n",
       "    }\n",
       "</style>\n",
       "<table border=\"1\" class=\"dataframe\">\n",
       "  <thead>\n",
       "    <tr style=\"text-align: right;\">\n",
       "      <th></th>\n",
       "      <th>toolname</th>\n",
       "      <th>title</th>\n",
       "      <th>authorid</th>\n",
       "      <th>name</th>\n",
       "      <th>published</th>\n",
       "      <th>type</th>\n",
       "    </tr>\n",
       "  </thead>\n",
       "  <tbody>\n",
       "    <tr>\n",
       "      <th>1462</th>\n",
       "      <td>None</td>\n",
       "      <td>None</td>\n",
       "      <td>29476.0</td>\n",
       "      <td>Stephen M. Goodnick</td>\n",
       "      <td>1</td>\n",
       "      <td>7</td>\n",
       "    </tr>\n",
       "  </tbody>\n",
       "</table>\n",
       "</div>"
      ],
      "text/plain": [
       "     toolname title  authorid                 name  published  type\n",
       "1462     None  None   29476.0  Stephen M. Goodnick          1     7"
      ]
     },
     "metadata": {},
     "output_type": "display_data"
    }
   ],
   "source": [
    "display(Markdown(\"#### Let's filter the tool authorship list for Stephen:\"))\n",
    "\n",
    "display(get_rows_by_keyvalue(proposed_df, 'authorid', stephen_uid))"
   ]
  },
  {
   "cell_type": "markdown",
   "id": "73abe2c8-2747-466a-bedf-027c9be324a9",
   "metadata": {},
   "source": [
    "Ouch! We only got one result for Stephen. And it doesn't include a toolname or a title.    "
   ]
  },
  {
   "cell_type": "markdown",
   "id": "27946264-d704-4bf5-bef1-210fa1235fc8",
   "metadata": {},
   "source": [
    "Is it possible that versions are playing a role in this? Let's look."
   ]
  },
  {
   "cell_type": "code",
   "execution_count": 6,
   "id": "6990e2a1-5cfc-4c06-af29-c8e4c500454b",
   "metadata": {
    "execution": {
     "iopub.execute_input": "2021-10-28T18:20:52.414432Z",
     "iopub.status.busy": "2021-10-28T18:20:52.412744Z",
     "iopub.status.idle": "2021-10-28T18:20:52.526998Z",
     "shell.execute_reply": "2021-10-28T18:20:52.524956Z",
     "shell.execute_reply.started": "2021-10-28T18:20:52.414306Z"
    },
    "tags": []
   },
   "outputs": [
    {
     "data": {
      "text/markdown": [
       "#### Grab tool data using proposed solution from part I"
      ],
      "text/plain": [
       "<IPython.core.display.Markdown object>"
      ]
     },
     "metadata": {},
     "output_type": "display_data"
    },
    {
     "data": {
      "text/html": [
       "<div>\n",
       "<style scoped>\n",
       "    .dataframe tbody tr th:only-of-type {\n",
       "        vertical-align: middle;\n",
       "    }\n",
       "\n",
       "    .dataframe tbody tr th {\n",
       "        vertical-align: top;\n",
       "    }\n",
       "\n",
       "    .dataframe thead th {\n",
       "        text-align: right;\n",
       "    }\n",
       "</style>\n",
       "<table border=\"1\" class=\"dataframe\">\n",
       "  <thead>\n",
       "    <tr style=\"text-align: right;\">\n",
       "      <th></th>\n",
       "      <th>toolname</th>\n",
       "      <th>title</th>\n",
       "      <th>authorid</th>\n",
       "      <th>name</th>\n",
       "      <th>published</th>\n",
       "      <th>type</th>\n",
       "      <th>instance</th>\n",
       "    </tr>\n",
       "  </thead>\n",
       "  <tbody>\n",
       "    <tr>\n",
       "      <th>0</th>\n",
       "      <td>hydrolab</td>\n",
       "      <td>Hydrophobicity Lab</td>\n",
       "      <td>4713.0</td>\n",
       "      <td>Eric Darve</td>\n",
       "      <td>1</td>\n",
       "      <td>7</td>\n",
       "      <td>hydrolab</td>\n",
       "    </tr>\n",
       "    <tr>\n",
       "      <th>1</th>\n",
       "      <td>hydrolab</td>\n",
       "      <td>Hydrophobicity Lab</td>\n",
       "      <td>12486.0</td>\n",
       "      <td>Artit Wangperawong</td>\n",
       "      <td>1</td>\n",
       "      <td>7</td>\n",
       "      <td>hydrolab</td>\n",
       "    </tr>\n",
       "    <tr>\n",
       "      <th>2</th>\n",
       "      <td>hydrolab</td>\n",
       "      <td>Hydrophobicity Lab</td>\n",
       "      <td>12590.0</td>\n",
       "      <td>Kazutora Hayashida</td>\n",
       "      <td>1</td>\n",
       "      <td>7</td>\n",
       "      <td>hydrolab</td>\n",
       "    </tr>\n",
       "    <tr>\n",
       "      <th>3</th>\n",
       "      <td>nanomos</td>\n",
       "      <td>NanoMOS</td>\n",
       "      <td>-39.0</td>\n",
       "      <td></td>\n",
       "      <td>1</td>\n",
       "      <td>7</td>\n",
       "      <td>nanomos</td>\n",
       "    </tr>\n",
       "    <tr>\n",
       "      <th>4</th>\n",
       "      <td>nanomos</td>\n",
       "      <td>NanoMOS</td>\n",
       "      <td>4323.0</td>\n",
       "      <td></td>\n",
       "      <td>1</td>\n",
       "      <td>7</td>\n",
       "      <td>nanomos</td>\n",
       "    </tr>\n",
       "  </tbody>\n",
       "</table>\n",
       "</div>"
      ],
      "text/plain": [
       "   toolname               title  authorid                name  published  \\\n",
       "0  hydrolab  Hydrophobicity Lab    4713.0          Eric Darve          1   \n",
       "1  hydrolab  Hydrophobicity Lab   12486.0  Artit Wangperawong          1   \n",
       "2  hydrolab  Hydrophobicity Lab   12590.0  Kazutora Hayashida          1   \n",
       "3   nanomos             NanoMOS     -39.0                              1   \n",
       "4   nanomos             NanoMOS    4323.0                              1   \n",
       "\n",
       "   type  instance  \n",
       "0     7  hydrolab  \n",
       "1     7  hydrolab  \n",
       "2     7  hydrolab  \n",
       "3     7   nanomos  \n",
       "4     7   nanomos  "
      ]
     },
     "metadata": {},
     "output_type": "display_data"
    },
    {
     "name": "stdout",
     "output_type": "stream",
     "text": [
      "<class 'pandas.core.frame.DataFrame'>\n",
      "RangeIndex: 1878 entries, 0 to 1877\n",
      "Data columns (total 7 columns):\n",
      " #   Column     Non-Null Count  Dtype  \n",
      "---  ------     --------------  -----  \n",
      " 0   toolname   1401 non-null   object \n",
      " 1   title      1401 non-null   object \n",
      " 2   authorid   1874 non-null   float64\n",
      " 3   name       1874 non-null   object \n",
      " 4   published  1878 non-null   int64  \n",
      " 5   type       1878 non-null   int64  \n",
      " 6   instance   252 non-null    object \n",
      "dtypes: float64(1), int64(2), object(4)\n",
      "memory usage: 102.8+ KB\n"
     ]
    },
    {
     "data": {
      "text/plain": [
       "None"
      ]
     },
     "metadata": {},
     "output_type": "display_data"
    },
    {
     "data": {
      "text/markdown": [
       "**A total of 1878 entries pulled in**"
      ],
      "text/plain": [
       "<IPython.core.display.Markdown object>"
      ]
     },
     "metadata": {},
     "output_type": "display_data"
    }
   ],
   "source": [
    "display(Markdown(\"#### Grab tool data using proposed solution from part I\"))\n",
    "\n",
    "modified_sql_string = '''\n",
    "SELECT DISTINCT \n",
    "       tool.toolname, tool.title,\n",
    "       author.authorid, author.name,\n",
    "       res.published, res.type,\n",
    "       version.instance\n",
    "FROM nanohub.jos_resources res\n",
    "LEFT JOIN nanohub.jos_author_assoc author\n",
    "    ON author.subid  = res.id\n",
    "LEFT JOIN nanohub.jos_tool tool\n",
    "    ON LOWER(tool.title) = LOWER(res.title) \n",
    "LEFT JOIN nanohub.jos_tool_version version\n",
    "    ON version.instance = tool.toolname\n",
    "WHERE\n",
    "    res.title != '' AND\n",
    "    res.published = 1 AND \n",
    "    res.type = '7' AND \n",
    "    res.access IN ('0','3','1') AND \n",
    "    res.standalone = '1'\n",
    ";\n",
    "'''\n",
    "\n",
    "modified_repo = CachedRepository(\n",
    "    PandasRepository(modified_sql_string, nanohub_db, 'tool_authorship__w_versioned'),\n",
    "    cache_folder\n",
    ")\n",
    "modified_df = modified_repo.get_all()\n",
    "\n",
    "display(modified_df.head())\n",
    "display(modified_df.info())\n",
    "\n",
    "display_number_of_rows(modified_df)"
   ]
  },
  {
   "cell_type": "code",
   "execution_count": 7,
   "id": "f95d7ae5-14ff-49b4-909d-1dd1387ad5b0",
   "metadata": {
    "execution": {
     "iopub.execute_input": "2021-10-28T18:20:52.532425Z",
     "iopub.status.busy": "2021-10-28T18:20:52.530957Z",
     "iopub.status.idle": "2021-10-28T18:20:52.583357Z",
     "shell.execute_reply": "2021-10-28T18:20:52.581254Z",
     "shell.execute_reply.started": "2021-10-28T18:20:52.532373Z"
    },
    "tags": []
   },
   "outputs": [
    {
     "data": {
      "text/markdown": [
       "#### And now, let's filter the tool authorship list for Stephen:"
      ],
      "text/plain": [
       "<IPython.core.display.Markdown object>"
      ]
     },
     "metadata": {},
     "output_type": "display_data"
    },
    {
     "data": {
      "text/html": [
       "<div>\n",
       "<style scoped>\n",
       "    .dataframe tbody tr th:only-of-type {\n",
       "        vertical-align: middle;\n",
       "    }\n",
       "\n",
       "    .dataframe tbody tr th {\n",
       "        vertical-align: top;\n",
       "    }\n",
       "\n",
       "    .dataframe thead th {\n",
       "        text-align: right;\n",
       "    }\n",
       "</style>\n",
       "<table border=\"1\" class=\"dataframe\">\n",
       "  <thead>\n",
       "    <tr style=\"text-align: right;\">\n",
       "      <th></th>\n",
       "      <th>toolname</th>\n",
       "      <th>title</th>\n",
       "      <th>authorid</th>\n",
       "      <th>name</th>\n",
       "      <th>published</th>\n",
       "      <th>type</th>\n",
       "      <th>instance</th>\n",
       "    </tr>\n",
       "  </thead>\n",
       "  <tbody>\n",
       "    <tr>\n",
       "      <th>1462</th>\n",
       "      <td>None</td>\n",
       "      <td>None</td>\n",
       "      <td>29476.0</td>\n",
       "      <td>Stephen M. Goodnick</td>\n",
       "      <td>1</td>\n",
       "      <td>7</td>\n",
       "      <td>None</td>\n",
       "    </tr>\n",
       "  </tbody>\n",
       "</table>\n",
       "</div>"
      ],
      "text/plain": [
       "     toolname title  authorid                 name  published  type instance\n",
       "1462     None  None   29476.0  Stephen M. Goodnick          1     7     None"
      ]
     },
     "metadata": {},
     "output_type": "display_data"
    }
   ],
   "source": [
    "display(Markdown(\"#### And now, let's filter the tool authorship list for Stephen:\"))\n",
    "\n",
    "display(get_rows_by_keyvalue(modified_df, 'authorid', stephen_uid))"
   ]
  },
  {
   "cell_type": "markdown",
   "id": "203917ad-de15-4c12-a174-b1938044c65c",
   "metadata": {},
   "source": [
    "**Nope, no luck.**\n",
    "\n",
    "Sanity Check - let's reconfirm the results for Tanya:"
   ]
  },
  {
   "cell_type": "code",
   "execution_count": 8,
   "id": "d7bb7958-7bdf-476b-9d84-4c1e1f04f567",
   "metadata": {
    "execution": {
     "iopub.execute_input": "2021-10-28T18:20:52.587501Z",
     "iopub.status.busy": "2021-10-28T18:20:52.585935Z",
     "iopub.status.idle": "2021-10-28T18:20:52.624673Z",
     "shell.execute_reply": "2021-10-28T18:20:52.623248Z",
     "shell.execute_reply.started": "2021-10-28T18:20:52.587438Z"
    }
   },
   "outputs": [
    {
     "data": {
      "text/markdown": [
       "#### Filtering the tool authorship list for Tanya:"
      ],
      "text/plain": [
       "<IPython.core.display.Markdown object>"
      ]
     },
     "metadata": {},
     "output_type": "display_data"
    },
    {
     "data": {
      "text/html": [
       "<div>\n",
       "<style scoped>\n",
       "    .dataframe tbody tr th:only-of-type {\n",
       "        vertical-align: middle;\n",
       "    }\n",
       "\n",
       "    .dataframe tbody tr th {\n",
       "        vertical-align: top;\n",
       "    }\n",
       "\n",
       "    .dataframe thead th {\n",
       "        text-align: right;\n",
       "    }\n",
       "</style>\n",
       "<table border=\"1\" class=\"dataframe\">\n",
       "  <thead>\n",
       "    <tr style=\"text-align: right;\">\n",
       "      <th></th>\n",
       "      <th>toolname</th>\n",
       "      <th>title</th>\n",
       "      <th>authorid</th>\n",
       "      <th>name</th>\n",
       "      <th>published</th>\n",
       "      <th>type</th>\n",
       "      <th>instance</th>\n",
       "    </tr>\n",
       "  </thead>\n",
       "  <tbody>\n",
       "    <tr>\n",
       "      <th>730</th>\n",
       "      <td>mosfetsat</td>\n",
       "      <td>MOSFET Simulation</td>\n",
       "      <td>29294.0</td>\n",
       "      <td>Tanya Faltens</td>\n",
       "      <td>1</td>\n",
       "      <td>7</td>\n",
       "      <td>None</td>\n",
       "    </tr>\n",
       "    <tr>\n",
       "      <th>840</th>\n",
       "      <td>mif</td>\n",
       "      <td>MIF generator for OOMMF</td>\n",
       "      <td>29294.0</td>\n",
       "      <td>Tanya Faltens</td>\n",
       "      <td>1</td>\n",
       "      <td>7</td>\n",
       "      <td>None</td>\n",
       "    </tr>\n",
       "  </tbody>\n",
       "</table>\n",
       "</div>"
      ],
      "text/plain": [
       "      toolname                    title  authorid           name  published  \\\n",
       "730  mosfetsat        MOSFET Simulation   29294.0  Tanya Faltens          1   \n",
       "840        mif  MIF generator for OOMMF   29294.0  Tanya Faltens          1   \n",
       "\n",
       "     type instance  \n",
       "730     7     None  \n",
       "840     7     None  "
      ]
     },
     "metadata": {},
     "output_type": "display_data"
    }
   ],
   "source": [
    "display(Markdown(\"#### Filtering the tool authorship list for Tanya:\"))\n",
    "\n",
    "display(get_rows_by_keyvalue(modified_df, 'authorid', tanya_uid))"
   ]
  },
  {
   "cell_type": "markdown",
   "id": "3fe880f0-a917-4853-afd5-bdda7a62279e",
   "metadata": {},
   "source": [
    "All's good for Tanya here.\n",
    "Let's see what tools pull up for Stephen without distinct."
   ]
  },
  {
   "cell_type": "code",
   "execution_count": 9,
   "id": "7fdf5280-5d01-4bfd-8051-815abab93084",
   "metadata": {
    "execution": {
     "iopub.execute_input": "2021-10-28T18:20:52.634584Z",
     "iopub.status.busy": "2021-10-28T18:20:52.629490Z",
     "iopub.status.idle": "2021-10-28T18:20:52.710272Z",
     "shell.execute_reply": "2021-10-28T18:20:52.709054Z",
     "shell.execute_reply.started": "2021-10-28T18:20:52.634314Z"
    },
    "tags": []
   },
   "outputs": [
    {
     "data": {
      "text/markdown": [
       "#### Grab tool data for Stephen"
      ],
      "text/plain": [
       "<IPython.core.display.Markdown object>"
      ]
     },
     "metadata": {},
     "output_type": "display_data"
    },
    {
     "data": {
      "text/html": [
       "<div>\n",
       "<style scoped>\n",
       "    .dataframe tbody tr th:only-of-type {\n",
       "        vertical-align: middle;\n",
       "    }\n",
       "\n",
       "    .dataframe tbody tr th {\n",
       "        vertical-align: top;\n",
       "    }\n",
       "\n",
       "    .dataframe thead th {\n",
       "        text-align: right;\n",
       "    }\n",
       "</style>\n",
       "<table border=\"1\" class=\"dataframe\">\n",
       "  <thead>\n",
       "    <tr style=\"text-align: right;\">\n",
       "      <th></th>\n",
       "      <th>toolname</th>\n",
       "      <th>title</th>\n",
       "      <th>authorid</th>\n",
       "      <th>name</th>\n",
       "      <th>published</th>\n",
       "      <th>type</th>\n",
       "    </tr>\n",
       "  </thead>\n",
       "  <tbody>\n",
       "    <tr>\n",
       "      <th>1483</th>\n",
       "      <td>None</td>\n",
       "      <td>None</td>\n",
       "      <td>29476.0</td>\n",
       "      <td>Stephen M. Goodnick</td>\n",
       "      <td>1</td>\n",
       "      <td>7</td>\n",
       "    </tr>\n",
       "    <tr>\n",
       "      <th>1514</th>\n",
       "      <td>None</td>\n",
       "      <td>None</td>\n",
       "      <td>29476.0</td>\n",
       "      <td>Stephen M. Goodnick</td>\n",
       "      <td>1</td>\n",
       "      <td>7</td>\n",
       "    </tr>\n",
       "  </tbody>\n",
       "</table>\n",
       "</div>"
      ],
      "text/plain": [
       "     toolname title  authorid                 name  published  type\n",
       "1483     None  None   29476.0  Stephen M. Goodnick          1     7\n",
       "1514     None  None   29476.0  Stephen M. Goodnick          1     7"
      ]
     },
     "metadata": {},
     "output_type": "display_data"
    }
   ],
   "source": [
    "display(Markdown(\"#### Grab tool data for Stephen\"))\n",
    "\n",
    "modified_sql_string = '''\n",
    "SELECT \n",
    "       tool.toolname, tool.title,\n",
    "       author.authorid, author.name,\n",
    "       res.published, res.type\n",
    "FROM nanohub.jos_resources res\n",
    "LEFT JOIN nanohub.jos_author_assoc author\n",
    "  ON author.subid  = res.id\n",
    "LEFT JOIN nanohub.jos_tool tool\n",
    "  ON LOWER(tool.title) = LOWER(res.title) \n",
    "WHERE\n",
    "    res.title != '' AND\n",
    "    res.published = 1 AND \n",
    "    res.type = '7' AND \n",
    "    res.access IN ('0','3','1') AND \n",
    "    res.standalone = '1'\n",
    ";\n",
    "'''\n",
    "\n",
    "modified_repo = CachedRepository(\n",
    "    PandasRepository(modified_sql_string, nanohub_db, 'tool_authorship__w_versioned_wo_distinct'),\n",
    "    cache_folder\n",
    ")\n",
    "modified_df = modified_repo.get_all()\n",
    "\n",
    "\n",
    "display(get_rows_by_keyvalue(modified_df, 'authorid', stephen_uid))"
   ]
  },
  {
   "cell_type": "markdown",
   "id": "1c43714a-b039-487f-bfd2-72cf9325e846",
   "metadata": {},
   "source": [
    "How can toolnames be _None_?\n",
    "Let's get Stephen's toolnames directly from _nanohub.jos_resources_:"
   ]
  },
  {
   "cell_type": "code",
   "execution_count": 10,
   "id": "52ddffc8-b96f-48e8-bbc4-880e720c9047",
   "metadata": {
    "execution": {
     "iopub.execute_input": "2021-10-28T18:20:52.713530Z",
     "iopub.status.busy": "2021-10-28T18:20:52.713122Z",
     "iopub.status.idle": "2021-10-28T18:20:52.789372Z",
     "shell.execute_reply": "2021-10-28T18:20:52.786756Z",
     "shell.execute_reply.started": "2021-10-28T18:20:52.713496Z"
    }
   },
   "outputs": [
    {
     "data": {
      "text/markdown": [
       "#### Grab tool data for Stephen"
      ],
      "text/plain": [
       "<IPython.core.display.Markdown object>"
      ]
     },
     "metadata": {},
     "output_type": "display_data"
    },
    {
     "data": {
      "text/html": [
       "<div>\n",
       "<style scoped>\n",
       "    .dataframe tbody tr th:only-of-type {\n",
       "        vertical-align: middle;\n",
       "    }\n",
       "\n",
       "    .dataframe tbody tr th {\n",
       "        vertical-align: top;\n",
       "    }\n",
       "\n",
       "    .dataframe thead th {\n",
       "        text-align: right;\n",
       "    }\n",
       "</style>\n",
       "<table border=\"1\" class=\"dataframe\">\n",
       "  <thead>\n",
       "    <tr style=\"text-align: right;\">\n",
       "      <th></th>\n",
       "      <th>authorid</th>\n",
       "      <th>name</th>\n",
       "      <th>title</th>\n",
       "      <th>published</th>\n",
       "      <th>type</th>\n",
       "    </tr>\n",
       "  </thead>\n",
       "  <tbody>\n",
       "    <tr>\n",
       "      <th>323</th>\n",
       "      <td>29476.0</td>\n",
       "      <td>Stephen M. Goodnick</td>\n",
       "      <td>Bulk Monte Carlo Lab</td>\n",
       "      <td>1</td>\n",
       "      <td>7</td>\n",
       "    </tr>\n",
       "    <tr>\n",
       "      <th>387</th>\n",
       "      <td>29476.0</td>\n",
       "      <td>Stephen M. Goodnick</td>\n",
       "      <td>ACUTE</td>\n",
       "      <td>1</td>\n",
       "      <td>7</td>\n",
       "    </tr>\n",
       "  </tbody>\n",
       "</table>\n",
       "</div>"
      ],
      "text/plain": [
       "     authorid                 name                 title  published  type\n",
       "323   29476.0  Stephen M. Goodnick  Bulk Monte Carlo Lab          1     7\n",
       "387   29476.0  Stephen M. Goodnick                 ACUTE          1     7"
      ]
     },
     "metadata": {},
     "output_type": "display_data"
    }
   ],
   "source": [
    "display(Markdown(\"#### Grab tool data for Stephen\"))\n",
    "\n",
    "modified_sql_string = '''\n",
    "SELECT \n",
    "       author.authorid, author.name,\n",
    "       res.title, res.published, res.type\n",
    "FROM nanohub.jos_resources res\n",
    "LEFT JOIN nanohub.jos_author_assoc author\n",
    "  ON author.subid  = res.id\n",
    "WHERE\n",
    "    res.title != '' AND\n",
    "    res.published = 1 AND \n",
    "    res.type = '7' AND \n",
    "    res.access IN ('0','3','1') AND \n",
    "    res.standalone = '1'\n",
    ";\n",
    "'''\n",
    "\n",
    "modified_repo = CachedRepository(\n",
    "    PandasRepository(modified_sql_string, nanohub_db, 'tool_authorship__w_versioned_wo_distinct_w_direct'),\n",
    "    cache_folder\n",
    ")\n",
    "modified_df = modified_repo.get_all()\n",
    "\n",
    "\n",
    "display(get_rows_by_keyvalue(modified_df, 'authorid', stephen_uid))"
   ]
  },
  {
   "cell_type": "markdown",
   "id": "8498d836-1fbd-4f7b-8616-63a9cae05494",
   "metadata": {},
   "source": [
    "And from _nanohub.jos_tools_ now:"
   ]
  },
  {
   "cell_type": "code",
   "execution_count": 11,
   "id": "a8b6b876-a4e4-4d03-94f5-dc5f38473433",
   "metadata": {
    "execution": {
     "iopub.execute_input": "2021-10-28T18:20:52.794558Z",
     "iopub.status.busy": "2021-10-28T18:20:52.793634Z",
     "iopub.status.idle": "2021-10-28T18:20:52.866282Z",
     "shell.execute_reply": "2021-10-28T18:20:52.865181Z",
     "shell.execute_reply.started": "2021-10-28T18:20:52.794511Z"
    },
    "tags": []
   },
   "outputs": [
    {
     "data": {
      "text/markdown": [
       "#### Grab tool data for Stephen"
      ],
      "text/plain": [
       "<IPython.core.display.Markdown object>"
      ]
     },
     "metadata": {},
     "output_type": "display_data"
    },
    {
     "data": {
      "text/html": [
       "<div>\n",
       "<style scoped>\n",
       "    .dataframe tbody tr th:only-of-type {\n",
       "        vertical-align: middle;\n",
       "    }\n",
       "\n",
       "    .dataframe tbody tr th {\n",
       "        vertical-align: top;\n",
       "    }\n",
       "\n",
       "    .dataframe thead th {\n",
       "        text-align: right;\n",
       "    }\n",
       "</style>\n",
       "<table border=\"1\" class=\"dataframe\">\n",
       "  <thead>\n",
       "    <tr style=\"text-align: right;\">\n",
       "      <th></th>\n",
       "      <th>id</th>\n",
       "      <th>toolname</th>\n",
       "      <th>title</th>\n",
       "      <th>revision</th>\n",
       "      <th>version</th>\n",
       "      <th>uid</th>\n",
       "    </tr>\n",
       "  </thead>\n",
       "  <tbody>\n",
       "    <tr>\n",
       "      <th>4120</th>\n",
       "      <td>213</td>\n",
       "      <td>bulkmc</td>\n",
       "      <td>Full Tool NameBulk Monte Carlo Tool</td>\n",
       "      <td>15.0</td>\n",
       "      <td>1.0</td>\n",
       "      <td>29476.0</td>\n",
       "    </tr>\n",
       "    <tr>\n",
       "      <th>4121</th>\n",
       "      <td>213</td>\n",
       "      <td>bulkmc</td>\n",
       "      <td>Full Tool NameBulk Monte Carlo Tool</td>\n",
       "      <td>15.0</td>\n",
       "      <td>1.0</td>\n",
       "      <td>29476.0</td>\n",
       "    </tr>\n",
       "    <tr>\n",
       "      <th>4125</th>\n",
       "      <td>213</td>\n",
       "      <td>bulkmc</td>\n",
       "      <td>Full Tool NameBulk Monte Carlo Tool</td>\n",
       "      <td>15.0</td>\n",
       "      <td>1.0</td>\n",
       "      <td>29476.0</td>\n",
       "    </tr>\n",
       "    <tr>\n",
       "      <th>4129</th>\n",
       "      <td>213</td>\n",
       "      <td>bulkmc</td>\n",
       "      <td>Full Tool NameBulk Monte Carlo Tool</td>\n",
       "      <td>15.0</td>\n",
       "      <td>1.0</td>\n",
       "      <td>29476.0</td>\n",
       "    </tr>\n",
       "    <tr>\n",
       "      <th>4844</th>\n",
       "      <td>259</td>\n",
       "      <td>acute</td>\n",
       "      <td>Advanced Computational Electronics</td>\n",
       "      <td>5.0</td>\n",
       "      <td>1.0</td>\n",
       "      <td>29476.0</td>\n",
       "    </tr>\n",
       "    <tr>\n",
       "      <th>4845</th>\n",
       "      <td>259</td>\n",
       "      <td>acute</td>\n",
       "      <td>Advanced Computational Electronics</td>\n",
       "      <td>5.0</td>\n",
       "      <td>1.0</td>\n",
       "      <td>29476.0</td>\n",
       "    </tr>\n",
       "    <tr>\n",
       "      <th>4849</th>\n",
       "      <td>259</td>\n",
       "      <td>acute</td>\n",
       "      <td>Advanced Computational Electronics</td>\n",
       "      <td>5.0</td>\n",
       "      <td>1.0</td>\n",
       "      <td>29476.0</td>\n",
       "    </tr>\n",
       "  </tbody>\n",
       "</table>\n",
       "</div>"
      ],
      "text/plain": [
       "       id toolname                                title  revision version  \\\n",
       "4120  213   bulkmc  Full Tool NameBulk Monte Carlo Tool      15.0     1.0   \n",
       "4121  213   bulkmc  Full Tool NameBulk Monte Carlo Tool      15.0     1.0   \n",
       "4125  213   bulkmc  Full Tool NameBulk Monte Carlo Tool      15.0     1.0   \n",
       "4129  213   bulkmc  Full Tool NameBulk Monte Carlo Tool      15.0     1.0   \n",
       "4844  259    acute   Advanced Computational Electronics       5.0     1.0   \n",
       "4845  259    acute   Advanced Computational Electronics       5.0     1.0   \n",
       "4849  259    acute   Advanced Computational Electronics       5.0     1.0   \n",
       "\n",
       "          uid  \n",
       "4120  29476.0  \n",
       "4121  29476.0  \n",
       "4125  29476.0  \n",
       "4129  29476.0  \n",
       "4844  29476.0  \n",
       "4845  29476.0  \n",
       "4849  29476.0  "
      ]
     },
     "metadata": {},
     "output_type": "display_data"
    }
   ],
   "source": [
    "display(Markdown(\"#### Grab tool data for Stephen\"))\n",
    "\n",
    "modified_sql_string = '''\n",
    "SELECT \n",
    "    tool.id, tool.toolname, tool.title, tool.revision, tool.version,\n",
    "    authors.uid\n",
    "FROM nanohub.jos_tool tool\n",
    "LEFT JOIN nanohub.jos_tool_authors authors \n",
    "    ON authors.toolname  = tool.toolname\n",
    ";\n",
    "'''\n",
    "\n",
    "modified_repo = CachedRepository(\n",
    "    PandasRepository(modified_sql_string, nanohub_db, 'jos_tools_w_author_w_revision'),\n",
    "    cache_folder\n",
    ")\n",
    "modified_df = modified_repo.get_all()\n",
    "\n",
    "\n",
    "display(get_rows_by_keyvalue(modified_df, 'uid', stephen_uid))"
   ]
  },
  {
   "cell_type": "markdown",
   "id": "2e360069-d3a6-47e4-8c01-7fabe0168cbd",
   "metadata": {},
   "source": [
    "1. So there's obvious duplicates here. No problem, we can get uniques later.\n",
    "2. We do have the two tools - bulkmc and acute. \n",
    "\n",
    "Note:\n",
    "_bulkmc's_ _title_ from _nanohub.jos_tool_ is **Bulk Monte Carlo Lab**.  \n",
    "However, its title from _nanohub.jos_resources_ is **Full Tool NameBulk Monte Carlo Tool**.\n",
    "\n",
    "Let's find out how many such tools with different titles exist."
   ]
  },
  {
   "cell_type": "code",
   "execution_count": 12,
   "id": "4fbba2cc-9a96-4cfa-9f61-9c30cb7ea921",
   "metadata": {
    "execution": {
     "iopub.execute_input": "2021-10-28T18:20:52.868489Z",
     "iopub.status.busy": "2021-10-28T18:20:52.868094Z",
     "iopub.status.idle": "2021-10-28T18:20:52.950396Z",
     "shell.execute_reply": "2021-10-28T18:20:52.948199Z",
     "shell.execute_reply.started": "2021-10-28T18:20:52.868437Z"
    },
    "tags": []
   },
   "outputs": [
    {
     "data": {
      "text/markdown": [
       "#### Mismatched titles in two tables"
      ],
      "text/plain": [
       "<IPython.core.display.Markdown object>"
      ]
     },
     "metadata": {},
     "output_type": "display_data"
    },
    {
     "data": {
      "text/html": [
       "<div>\n",
       "<style scoped>\n",
       "    .dataframe tbody tr th:only-of-type {\n",
       "        vertical-align: middle;\n",
       "    }\n",
       "\n",
       "    .dataframe tbody tr th {\n",
       "        vertical-align: top;\n",
       "    }\n",
       "\n",
       "    .dataframe thead th {\n",
       "        text-align: right;\n",
       "    }\n",
       "</style>\n",
       "<table border=\"1\" class=\"dataframe\">\n",
       "  <thead>\n",
       "    <tr style=\"text-align: right;\">\n",
       "      <th></th>\n",
       "      <th>number of titles in jos_tool but not in jos_resources</th>\n",
       "    </tr>\n",
       "  </thead>\n",
       "  <tbody>\n",
       "    <tr>\n",
       "      <th>0</th>\n",
       "      <td>389</td>\n",
       "    </tr>\n",
       "  </tbody>\n",
       "</table>\n",
       "</div>"
      ],
      "text/plain": [
       "   number of titles in jos_tool but not in jos_resources\n",
       "0                                                389    "
      ]
     },
     "metadata": {},
     "output_type": "display_data"
    },
    {
     "data": {
      "text/html": [
       "<div>\n",
       "<style scoped>\n",
       "    .dataframe tbody tr th:only-of-type {\n",
       "        vertical-align: middle;\n",
       "    }\n",
       "\n",
       "    .dataframe tbody tr th {\n",
       "        vertical-align: top;\n",
       "    }\n",
       "\n",
       "    .dataframe thead th {\n",
       "        text-align: right;\n",
       "    }\n",
       "</style>\n",
       "<table border=\"1\" class=\"dataframe\">\n",
       "  <thead>\n",
       "    <tr style=\"text-align: right;\">\n",
       "      <th></th>\n",
       "      <th>number of titles in jos_resources but not in jos_tool</th>\n",
       "    </tr>\n",
       "  </thead>\n",
       "  <tbody>\n",
       "    <tr>\n",
       "      <th>0</th>\n",
       "      <td>31175</td>\n",
       "    </tr>\n",
       "  </tbody>\n",
       "</table>\n",
       "</div>"
      ],
      "text/plain": [
       "   number of titles in jos_resources but not in jos_tool\n",
       "0                                              31175    "
      ]
     },
     "metadata": {},
     "output_type": "display_data"
    }
   ],
   "source": [
    "display(Markdown(\"#### Mismatched titles in two tables\"))\n",
    "\n",
    "count_sql_string = '''\n",
    "SELECT COUNT(*) AS `number of titles in jos_tool but not in jos_resources`\n",
    "FROM nanohub.jos_tool tools\n",
    "WHERE \n",
    "    LOWER(tools.title) NOT IN (SELECT LOWER(title) FROM jos_resources)\n",
    ";\n",
    "'''\n",
    "\n",
    "count_repo = CachedRepository(\n",
    "    PandasRepository(count_sql_string, nanohub_db, 'count_test_3'),\n",
    "    cache_folder\n",
    ")\n",
    "count_df = count_repo.get_all()\n",
    "\n",
    "display(count_df)\n",
    "\n",
    "count_sql_string = '''\n",
    "SELECT COUNT(*) AS `number of titles in jos_resources but not in jos_tool`\n",
    "FROM nanohub.jos_resources res\n",
    "WHERE \n",
    "    LOWER(res.title) NOT IN (SELECT LOWER(title) FROM jos_tool)\n",
    ";\n",
    "'''\n",
    "\n",
    "count_repo = CachedRepository(\n",
    "    PandasRepository(count_sql_string, nanohub_db, 'count_test_4'),\n",
    "    cache_folder\n",
    ")\n",
    "count_df = count_repo.get_all()\n",
    "\n",
    "display(count_df)"
   ]
  },
  {
   "cell_type": "markdown",
   "id": "b73ef7e4-9f53-41ab-b840-b9c70d4b005e",
   "metadata": {},
   "source": [
    "So clearly, we cannot join using the titles from the two tables like we did in the proposed solution."
   ]
  },
  {
   "cell_type": "markdown",
   "id": "da8769a1-9390-430f-a56c-c63672ae8935",
   "metadata": {},
   "source": [
    "Let's try using tool versions:"
   ]
  },
  {
   "cell_type": "code",
   "execution_count": 13,
   "id": "65a4c980-cfe4-473c-a803-dd6fade0c339",
   "metadata": {
    "execution": {
     "iopub.execute_input": "2021-10-28T18:20:52.957220Z",
     "iopub.status.busy": "2021-10-28T18:20:52.956763Z",
     "iopub.status.idle": "2021-10-28T18:20:53.018146Z",
     "shell.execute_reply": "2021-10-28T18:20:53.017077Z",
     "shell.execute_reply.started": "2021-10-28T18:20:52.957182Z"
    },
    "tags": []
   },
   "outputs": [
    {
     "data": {
      "text/markdown": [
       "#### Add versions"
      ],
      "text/plain": [
       "<IPython.core.display.Markdown object>"
      ]
     },
     "metadata": {},
     "output_type": "display_data"
    },
    {
     "data": {
      "text/html": [
       "<div>\n",
       "<style scoped>\n",
       "    .dataframe tbody tr th:only-of-type {\n",
       "        vertical-align: middle;\n",
       "    }\n",
       "\n",
       "    .dataframe tbody tr th {\n",
       "        vertical-align: top;\n",
       "    }\n",
       "\n",
       "    .dataframe thead th {\n",
       "        text-align: right;\n",
       "    }\n",
       "</style>\n",
       "<table border=\"1\" class=\"dataframe\">\n",
       "  <thead>\n",
       "    <tr style=\"text-align: right;\">\n",
       "      <th></th>\n",
       "      <th>toolname</th>\n",
       "      <th>title_from_jos_tools</th>\n",
       "      <th>authorid</th>\n",
       "      <th>name</th>\n",
       "      <th>title_from_jos_resources</th>\n",
       "      <th>published</th>\n",
       "      <th>type</th>\n",
       "      <th>instance</th>\n",
       "    </tr>\n",
       "  </thead>\n",
       "  <tbody>\n",
       "    <tr>\n",
       "      <th>1483</th>\n",
       "      <td>None</td>\n",
       "      <td>None</td>\n",
       "      <td>29476.0</td>\n",
       "      <td>Stephen M. Goodnick</td>\n",
       "      <td>Bulk Monte Carlo Lab</td>\n",
       "      <td>1</td>\n",
       "      <td>7</td>\n",
       "      <td>None</td>\n",
       "    </tr>\n",
       "    <tr>\n",
       "      <th>1514</th>\n",
       "      <td>None</td>\n",
       "      <td>None</td>\n",
       "      <td>29476.0</td>\n",
       "      <td>Stephen M. Goodnick</td>\n",
       "      <td>ACUTE</td>\n",
       "      <td>1</td>\n",
       "      <td>7</td>\n",
       "      <td>None</td>\n",
       "    </tr>\n",
       "  </tbody>\n",
       "</table>\n",
       "</div>"
      ],
      "text/plain": [
       "     toolname title_from_jos_tools  authorid                 name  \\\n",
       "1483     None                 None   29476.0  Stephen M. Goodnick   \n",
       "1514     None                 None   29476.0  Stephen M. Goodnick   \n",
       "\n",
       "     title_from_jos_resources  published  type instance  \n",
       "1483     Bulk Monte Carlo Lab          1     7     None  \n",
       "1514                    ACUTE          1     7     None  "
      ]
     },
     "metadata": {},
     "output_type": "display_data"
    }
   ],
   "source": [
    "display(Markdown(\"#### Add versions\"))\n",
    "\n",
    "modified_sql_string = '''\n",
    "SELECT \n",
    "       tool.toolname, tool.title AS title_from_jos_tools,\n",
    "       author.authorid, author.name,\n",
    "       res.title AS title_from_jos_resources, res.published, res.type,\n",
    "       version.instance\n",
    "FROM nanohub.jos_resources res\n",
    "LEFT JOIN nanohub.jos_author_assoc author\n",
    "  ON author.subid  = res.id\n",
    "LEFT JOIN nanohub.jos_tool tool\n",
    "  ON LOWER(tool.title) = LOWER(res.title) \n",
    "LEFT JOIN nanohub.jos_tool_version version\n",
    "  ON LOWER(tool.toolname) = LOWER(version.instance)\n",
    "WHERE\n",
    "    res.title != '' AND\n",
    "    res.published = 1 AND \n",
    "    res.type = '7' AND \n",
    "    res.access IN ('0','3','1') AND \n",
    "    res.standalone = '1'\n",
    ";\n",
    "'''\n",
    "\n",
    "modified_repo = CachedRepository(\n",
    "    PandasRepository(modified_sql_string, nanohub_db, 'tool_authorship__w_versions-7'),\n",
    "    cache_folder\n",
    ")\n",
    "modified_df = modified_repo.get_all()\n",
    "\n",
    "\n",
    "display(get_rows_by_keyvalue(modified_df, 'authorid', stephen_uid))"
   ]
  },
  {
   "cell_type": "markdown",
   "id": "b7a80fb9-39b5-48c8-85dc-43fd171d2fd1",
   "metadata": {},
   "source": [
    "Nope. That didn't work. Empty _instance_. Adding versions did not help identify the _toolname_ from _nanohub.jos_tool_.\n",
    "\n",
    "The _nanohub.jos_tool_ table isn't able to add _toolname_ and _title_ because it cannot JOIN with _nanohub.jos_resources_ as they have different titles. Hence the empty _title_from_jos_tools_ and _toolname_.  "
   ]
  },
  {
   "cell_type": "markdown",
   "id": "9cc6d1e3-8a37-4918-b2bb-581818110fbe",
   "metadata": {},
   "source": [
    "When looking at _nanohub.jos_resources_, I noticed a column _alias_. Let's try using that:"
   ]
  },
  {
   "cell_type": "code",
   "execution_count": 14,
   "id": "1e6a2786-1b11-4df2-a649-3fa436d32181",
   "metadata": {
    "execution": {
     "iopub.execute_input": "2021-10-28T18:20:53.020518Z",
     "iopub.status.busy": "2021-10-28T18:20:53.020164Z",
     "iopub.status.idle": "2021-10-28T18:20:53.073242Z",
     "shell.execute_reply": "2021-10-28T18:20:53.072312Z",
     "shell.execute_reply.started": "2021-10-28T18:20:53.020485Z"
    },
    "tags": []
   },
   "outputs": [
    {
     "data": {
      "text/markdown": [
       "#### Add alias"
      ],
      "text/plain": [
       "<IPython.core.display.Markdown object>"
      ]
     },
     "metadata": {},
     "output_type": "display_data"
    },
    {
     "data": {
      "text/html": [
       "<div>\n",
       "<style scoped>\n",
       "    .dataframe tbody tr th:only-of-type {\n",
       "        vertical-align: middle;\n",
       "    }\n",
       "\n",
       "    .dataframe tbody tr th {\n",
       "        vertical-align: top;\n",
       "    }\n",
       "\n",
       "    .dataframe thead th {\n",
       "        text-align: right;\n",
       "    }\n",
       "</style>\n",
       "<table border=\"1\" class=\"dataframe\">\n",
       "  <thead>\n",
       "    <tr style=\"text-align: right;\">\n",
       "      <th></th>\n",
       "      <th>toolname</th>\n",
       "      <th>title_from_jos_tools</th>\n",
       "      <th>authorid</th>\n",
       "      <th>name</th>\n",
       "      <th>title_from_jos_resources</th>\n",
       "      <th>published</th>\n",
       "      <th>type</th>\n",
       "      <th>alias</th>\n",
       "      <th>instance</th>\n",
       "    </tr>\n",
       "  </thead>\n",
       "  <tbody>\n",
       "    <tr>\n",
       "      <th>1483</th>\n",
       "      <td>None</td>\n",
       "      <td>None</td>\n",
       "      <td>29476.0</td>\n",
       "      <td>Stephen M. Goodnick</td>\n",
       "      <td>Bulk Monte Carlo Lab</td>\n",
       "      <td>1</td>\n",
       "      <td>7</td>\n",
       "      <td>bulkmc</td>\n",
       "      <td>None</td>\n",
       "    </tr>\n",
       "    <tr>\n",
       "      <th>1514</th>\n",
       "      <td>None</td>\n",
       "      <td>None</td>\n",
       "      <td>29476.0</td>\n",
       "      <td>Stephen M. Goodnick</td>\n",
       "      <td>ACUTE</td>\n",
       "      <td>1</td>\n",
       "      <td>7</td>\n",
       "      <td>acute</td>\n",
       "      <td>None</td>\n",
       "    </tr>\n",
       "  </tbody>\n",
       "</table>\n",
       "</div>"
      ],
      "text/plain": [
       "     toolname title_from_jos_tools  authorid                 name  \\\n",
       "1483     None                 None   29476.0  Stephen M. Goodnick   \n",
       "1514     None                 None   29476.0  Stephen M. Goodnick   \n",
       "\n",
       "     title_from_jos_resources  published  type   alias instance  \n",
       "1483     Bulk Monte Carlo Lab          1     7  bulkmc     None  \n",
       "1514                    ACUTE          1     7   acute     None  "
      ]
     },
     "metadata": {},
     "output_type": "display_data"
    }
   ],
   "source": [
    "display(Markdown(\"#### Add alias\"))\n",
    "\n",
    "modified_sql_string = '''\n",
    "SELECT \n",
    "       tool.toolname, tool.title AS title_from_jos_tools,\n",
    "       author.authorid, author.name,\n",
    "       res.title AS title_from_jos_resources, res.published, res.type, res.alias,\n",
    "       version.instance\n",
    "FROM nanohub.jos_resources res\n",
    "LEFT JOIN nanohub.jos_author_assoc author\n",
    "  ON author.subid  = res.id\n",
    "LEFT JOIN nanohub.jos_tool tool\n",
    "  ON LOWER(tool.title) = LOWER(res.title) \n",
    "LEFT JOIN nanohub.jos_tool_version version\n",
    "  ON LOWER(tool.toolname) = LOWER(version.instance)\n",
    "WHERE\n",
    "    res.title != '' AND\n",
    "    res.published = 1 AND \n",
    "    res.type = '7' AND \n",
    "    res.access IN ('0','3','1') AND \n",
    "    res.standalone = '1'\n",
    ";\n",
    "'''\n",
    "\n",
    "modified_repo = CachedRepository(\n",
    "    PandasRepository(modified_sql_string, nanohub_db, 'tool_authorship__w_versions-10'),\n",
    "    cache_folder\n",
    ")\n",
    "modified_df = modified_repo.get_all()\n",
    "\n",
    "\n",
    "display(get_rows_by_keyvalue(modified_df, 'authorid', stephen_uid))"
   ]
  },
  {
   "cell_type": "markdown",
   "id": "5156c2d3-c030-4fa3-a70f-55a750470032",
   "metadata": {},
   "source": [
    "Aha! So _alias_ matches the _toolname_ for at least Stephen's tools. \n",
    "\n",
    "How many other such tools are there? Let's find out."
   ]
  },
  {
   "cell_type": "code",
   "execution_count": 15,
   "id": "4c9d7d72-0614-4d4c-abb6-c2845d645918",
   "metadata": {
    "execution": {
     "iopub.execute_input": "2021-10-28T18:20:53.075933Z",
     "iopub.status.busy": "2021-10-28T18:20:53.075378Z",
     "iopub.status.idle": "2021-10-28T18:20:53.112955Z",
     "shell.execute_reply": "2021-10-28T18:20:53.110406Z",
     "shell.execute_reply.started": "2021-10-28T18:20:53.075892Z"
    },
    "tags": []
   },
   "outputs": [
    {
     "data": {
      "text/markdown": [
       "#### Count where _nanohub.jos_resources.alias_ = _nanohub.jos_tool.toolname_"
      ],
      "text/plain": [
       "<IPython.core.display.Markdown object>"
      ]
     },
     "metadata": {},
     "output_type": "display_data"
    },
    {
     "data": {
      "text/markdown": [
       "**A total of 2231 entries pulled in**"
      ],
      "text/plain": [
       "<IPython.core.display.Markdown object>"
      ]
     },
     "metadata": {},
     "output_type": "display_data"
    }
   ],
   "source": [
    "display(Markdown(\"#### Count where _nanohub.jos_resources.alias_ = _nanohub.jos_tool.toolname_\"))\n",
    "\n",
    "modified_sql_string = '''\n",
    "SELECT \n",
    "       tool.toolname, tool.title AS title_from_jos_tools,\n",
    "       author.authorid, author.name,\n",
    "       res.title AS title_from_jos_resources, res.published, res.type, res.alias,\n",
    "       version.instance\n",
    "FROM nanohub.jos_resources res\n",
    "LEFT JOIN nanohub.jos_author_assoc author\n",
    "    ON author.subid  = res.id\n",
    "LEFT JOIN nanohub.jos_tool tool\n",
    "    ON\n",
    "        LOWER(tool.title) != LOWER(res.title) AND\n",
    "        LOWER(tool.toolname) = LOWER(res.alias) \n",
    "LEFT JOIN nanohub.jos_tool_version version\n",
    "    ON LOWER(tool.toolname) = LOWER(version.instance)\n",
    "WHERE\n",
    "    res.title != '' AND\n",
    "    res.alias != '' AND\n",
    "    res.published = 1 AND \n",
    "    res.type = '7' AND \n",
    "    res.access IN ('0','3','1') AND \n",
    "    res.standalone = '1'\n",
    ";\n",
    "'''\n",
    "\n",
    "modified_repo = CachedRepository(\n",
    "    PandasRepository(modified_sql_string, nanohub_db, 'tool_authorship__w_versions-12'),\n",
    "    cache_folder\n",
    ")\n",
    "modified_df = modified_repo.get_all()\n",
    "\n",
    "\n",
    "display_number_of_rows(modified_df)"
   ]
  },
  {
   "cell_type": "markdown",
   "id": "67cf58ca-dbf5-4453-b0eb-4a1fba8a96e3",
   "metadata": {},
   "source": [
    "## 3. Validation for Stephen"
   ]
  },
  {
   "cell_type": "markdown",
   "id": "07ca9767-6bbf-4457-89f2-c2dafff2f728",
   "metadata": {},
   "source": [
    "Let's use the above query one more time to match Stephen's results from nanoHUB.org:"
   ]
  },
  {
   "cell_type": "markdown",
   "id": "59b42b5e-cea2-40f8-84b6-9e7c532393fb",
   "metadata": {},
   "source": [
    "#### Solution"
   ]
  },
  {
   "cell_type": "code",
   "execution_count": 16,
   "id": "2ffec9ea-6398-4e5b-a17b-8479ef70196d",
   "metadata": {
    "execution": {
     "iopub.execute_input": "2021-10-28T18:20:53.116986Z",
     "iopub.status.busy": "2021-10-28T18:20:53.115885Z",
     "iopub.status.idle": "2021-10-28T18:20:53.126024Z",
     "shell.execute_reply": "2021-10-28T18:20:53.123870Z",
     "shell.execute_reply.started": "2021-10-28T18:20:53.116934Z"
    },
    "tags": []
   },
   "outputs": [],
   "source": [
    "modified_sql_string = '''\n",
    "SELECT \n",
    "       tool.toolname, tool.title AS title_from_jos_tools,\n",
    "       author.authorid, author.name,\n",
    "       res.title AS title_from_jos_resources, res.published, res.type, res.alias,\n",
    "       version.instance\n",
    "FROM nanohub.jos_resources res\n",
    "LEFT JOIN nanohub.jos_author_assoc author\n",
    "    ON author.subid  = res.id\n",
    "LEFT JOIN nanohub.jos_tool tool\n",
    "    ON\n",
    "        LOWER(tool.title) != LOWER(res.title) AND\n",
    "        LOWER(tool.toolname) = LOWER(res.alias) \n",
    "LEFT JOIN nanohub.jos_tool_version version\n",
    "    ON LOWER(tool.toolname) = LOWER(version.instance)\n",
    "WHERE\n",
    "    res.title != '' AND\n",
    "    res.alias != '' AND\n",
    "    res.published = 1 AND \n",
    "    res.type = '7' AND \n",
    "    res.access IN ('0','3','1') AND \n",
    "    res.standalone = '1'\n",
    ";\n",
    "'''"
   ]
  },
  {
   "cell_type": "markdown",
   "id": "b9c876f2-7016-442c-bda4-9783fa088cf9",
   "metadata": {},
   "source": [
    "#### Results"
   ]
  },
  {
   "cell_type": "code",
   "execution_count": 17,
   "id": "923ab6e6-7351-40b5-92ac-b913df9bb1c4",
   "metadata": {
    "execution": {
     "iopub.execute_input": "2021-10-28T18:20:53.132719Z",
     "iopub.status.busy": "2021-10-28T18:20:53.131179Z",
     "iopub.status.idle": "2021-10-28T18:20:53.190559Z",
     "shell.execute_reply": "2021-10-28T18:20:53.189379Z",
     "shell.execute_reply.started": "2021-10-28T18:20:53.132574Z"
    },
    "tags": []
   },
   "outputs": [
    {
     "data": {
      "text/markdown": [
       "**A total of 2231 entries pulled in**"
      ],
      "text/plain": [
       "<IPython.core.display.Markdown object>"
      ]
     },
     "metadata": {},
     "output_type": "display_data"
    },
    {
     "data": {
      "text/html": [
       "<div>\n",
       "<style scoped>\n",
       "    .dataframe tbody tr th:only-of-type {\n",
       "        vertical-align: middle;\n",
       "    }\n",
       "\n",
       "    .dataframe tbody tr th {\n",
       "        vertical-align: top;\n",
       "    }\n",
       "\n",
       "    .dataframe thead th {\n",
       "        text-align: right;\n",
       "    }\n",
       "</style>\n",
       "<table border=\"1\" class=\"dataframe\">\n",
       "  <thead>\n",
       "    <tr style=\"text-align: right;\">\n",
       "      <th></th>\n",
       "      <th>toolname</th>\n",
       "      <th>title_from_jos_tools</th>\n",
       "      <th>authorid</th>\n",
       "      <th>name</th>\n",
       "      <th>title_from_jos_resources</th>\n",
       "      <th>published</th>\n",
       "      <th>type</th>\n",
       "      <th>alias</th>\n",
       "      <th>instance</th>\n",
       "    </tr>\n",
       "  </thead>\n",
       "  <tbody>\n",
       "    <tr>\n",
       "      <th>86</th>\n",
       "      <td>bulkmc</td>\n",
       "      <td>Full Tool NameBulk Monte Carlo Tool</td>\n",
       "      <td>29476.0</td>\n",
       "      <td>Stephen M. Goodnick</td>\n",
       "      <td>Bulk Monte Carlo Lab</td>\n",
       "      <td>1</td>\n",
       "      <td>7</td>\n",
       "      <td>bulkmc</td>\n",
       "      <td>None</td>\n",
       "    </tr>\n",
       "    <tr>\n",
       "      <th>133</th>\n",
       "      <td>acute</td>\n",
       "      <td>Advanced Computational Electronics</td>\n",
       "      <td>29476.0</td>\n",
       "      <td>Stephen M. Goodnick</td>\n",
       "      <td>ACUTE</td>\n",
       "      <td>1</td>\n",
       "      <td>7</td>\n",
       "      <td>acute</td>\n",
       "      <td>None</td>\n",
       "    </tr>\n",
       "  </tbody>\n",
       "</table>\n",
       "</div>"
      ],
      "text/plain": [
       "    toolname                 title_from_jos_tools  authorid  \\\n",
       "86    bulkmc  Full Tool NameBulk Monte Carlo Tool   29476.0   \n",
       "133    acute   Advanced Computational Electronics   29476.0   \n",
       "\n",
       "                    name title_from_jos_resources  published  type   alias  \\\n",
       "86   Stephen M. Goodnick     Bulk Monte Carlo Lab          1     7  bulkmc   \n",
       "133  Stephen M. Goodnick                    ACUTE          1     7   acute   \n",
       "\n",
       "    instance  \n",
       "86      None  \n",
       "133     None  "
      ]
     },
     "metadata": {},
     "output_type": "display_data"
    }
   ],
   "source": [
    "modified_repo = CachedRepository(\n",
    "    PandasRepository(modified_sql_string, nanohub_db, 'tool_authorship__w_versions-final'),\n",
    "    cache_folder\n",
    ")\n",
    "modified_df = modified_repo.get_all()\n",
    "display_number_of_rows(modified_df)\n",
    "\n",
    "\n",
    "display(get_rows_by_keyvalue(modified_df, 'authorid', stephen_uid))"
   ]
  },
  {
   "cell_type": "markdown",
   "id": "95dfd23d-1de2-4b56-9501-1c631c8ce52d",
   "metadata": {},
   "source": [
    "## 4. Conclusion\n",
    "\n",
    "We have matched Stephen's tool authorships from nanoHUB.org with [results](#Results) from yet another [solution](#Solution) besides the one from Part I. \n",
    "\n",
    "I believe the two solutions from Part I and Part II when combined will work for vast majority of the tool data, there's a lot more to be done including considering potential edge cases and other validations.\n",
    "\n",
    "![Stephen's Tool Authorships on nanoHUB.org](static/stephen-nanohub-tool-authorships.jpg \"Stephen's Tool Authorships on nanoHUB.org\")\n",
    "\n",
    "Next up: \n",
    "1. Validations\n",
    "2. Combining the sqls"
   ]
  },
  {
   "cell_type": "markdown",
   "id": "8ae6ac65-226c-4ace-8a7a-83ad26fda886",
   "metadata": {
    "execution": {
     "iopub.execute_input": "2021-10-28T15:42:07.527202Z",
     "iopub.status.busy": "2021-10-28T15:42:07.526223Z",
     "iopub.status.idle": "2021-10-28T15:42:07.545421Z",
     "shell.execute_reply": "2021-10-28T15:42:07.542283Z",
     "shell.execute_reply.started": "2021-10-28T15:42:07.527011Z"
    }
   },
   "source": [
    "[Scroll to top](#Top)"
   ]
  }
 ],
 "metadata": {
  "kernelspec": {
   "display_name": "Python 3 (ipykernel)",
   "language": "python",
   "name": "python3"
  },
  "language_info": {
   "codemirror_mode": {
    "name": "ipython",
    "version": 3
   },
   "file_extension": ".py",
   "mimetype": "text/x-python",
   "name": "python",
   "nbconvert_exporter": "python",
   "pygments_lexer": "ipython3",
   "version": "3.8.10"
  }
 },
 "nbformat": 4,
 "nbformat_minor": 5
}
