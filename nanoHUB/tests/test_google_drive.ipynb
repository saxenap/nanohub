{
 "cells": [
  {
   "cell_type": "code",
   "execution_count": 1,
   "id": "71ab0ef7-68af-47a5-ad79-d4cad2a0eb2c",
   "metadata": {
    "execution": {
     "iopub.execute_input": "2022-05-24T18:48:46.587644Z",
     "iopub.status.busy": "2022-05-24T18:48:46.586719Z",
     "iopub.status.idle": "2022-05-24T18:48:49.386744Z",
     "shell.execute_reply": "2022-05-24T18:48:49.384747Z",
     "shell.execute_reply.started": "2022-05-24T18:48:46.587511Z"
    },
    "tags": []
   },
   "outputs": [
    {
     "name": "stdout",
     "output_type": "stream",
     "text": [
      "\u001b[1mnanoHUB - Serving Students, Researchers & Instructors\u001b[0m\n"
     ]
    }
   ],
   "source": [
    "import pandas as pd\n",
    "from pprint import pprint\n",
    "from nanoHUB.application import Application\n",
    "from nanoHUB.infrastructure.google.service import ServiceFactory\n",
    "from nanoHUB.infrastructure.google.drive import GoogleFolder\n",
    "import logging\n",
    "\n",
    "# logger.debug('Testing')\n",
    "application = Application.get_instance()\n",
    "logger = logging.getLogger()\n"
   ]
  },
  {
   "cell_type": "code",
   "execution_count": 2,
   "id": "0b20ce03-bbac-4272-b784-94fa732f4a56",
   "metadata": {
    "execution": {
     "iopub.execute_input": "2022-05-24T18:48:49.389119Z",
     "iopub.status.busy": "2022-05-24T18:48:49.388293Z",
     "iopub.status.idle": "2022-05-24T18:48:49.491013Z",
     "shell.execute_reply": "2022-05-24T18:48:49.489630Z",
     "shell.execute_reply.started": "2022-05-24T18:48:49.388918Z"
    },
    "tags": []
   },
   "outputs": [],
   "source": [
    "engine = application.new_google_api_engine()"
   ]
  },
  {
   "cell_type": "code",
   "execution_count": 3,
   "id": "8bf613f5-d7a2-46d1-b870-d22dd6c75cd4",
   "metadata": {
    "execution": {
     "iopub.execute_input": "2022-05-24T18:48:49.497852Z",
     "iopub.status.busy": "2022-05-24T18:48:49.495286Z",
     "iopub.status.idle": "2022-05-24T18:48:52.540955Z",
     "shell.execute_reply": "2022-05-24T18:48:52.538783Z",
     "shell.execute_reply.started": "2022-05-24T18:48:49.497799Z"
    },
    "tags": []
   },
   "outputs": [],
   "source": [
    "folder = GoogleFolder.init_by_name('test', engine, logger)"
   ]
  },
  {
   "cell_type": "code",
   "execution_count": 4,
   "id": "580eb754-9a80-4ba0-88f7-c695cd65f021",
   "metadata": {
    "execution": {
     "iopub.execute_input": "2022-05-24T18:48:52.546894Z",
     "iopub.status.busy": "2022-05-24T18:48:52.544094Z",
     "iopub.status.idle": "2022-05-24T18:48:52.562696Z",
     "shell.execute_reply": "2022-05-24T18:48:52.558958Z",
     "shell.execute_reply.started": "2022-05-24T18:48:52.546822Z"
    },
    "tags": []
   },
   "outputs": [
    {
     "name": "stdout",
     "output_type": "stream",
     "text": [
      "1_srm_LCcUbLgTq8hZmuvZpQXGdk8N8oA\n"
     ]
    }
   ],
   "source": [
    "print(folder.get_id())"
   ]
  },
  {
   "cell_type": "code",
   "execution_count": 5,
   "id": "0beab110-be24-4d4d-9cb9-4dba0a06f3fc",
   "metadata": {
    "execution": {
     "iopub.execute_input": "2022-05-24T18:48:52.569128Z",
     "iopub.status.busy": "2022-05-24T18:48:52.565494Z",
     "iopub.status.idle": "2022-05-24T18:48:52.828431Z",
     "shell.execute_reply": "2022-05-24T18:48:52.823608Z",
     "shell.execute_reply.started": "2022-05-24T18:48:52.569067Z"
    },
    "tags": []
   },
   "outputs": [
    {
     "name": "stdout",
     "output_type": "stream",
     "text": [
      "<nanoHUB.infrastructure.google.drive.GoogleFolder object at 0x7f8a1f63ad00>\n"
     ]
    }
   ],
   "source": [
    "folder_to_import = folder.get_sub_folder('Test')\n",
    "\n",
    "print(folder_to_import)"
   ]
  },
  {
   "cell_type": "code",
   "execution_count": 6,
   "id": "8de294f3-35ca-4339-bff2-e62b1af0e136",
   "metadata": {
    "execution": {
     "iopub.execute_input": "2022-05-24T18:48:52.832911Z",
     "iopub.status.busy": "2022-05-24T18:48:52.831918Z",
     "iopub.status.idle": "2022-05-24T18:48:53.086182Z",
     "shell.execute_reply": "2022-05-24T18:48:53.082546Z",
     "shell.execute_reply.started": "2022-05-24T18:48:52.832737Z"
    },
    "tags": []
   },
   "outputs": [
    {
     "name": "stdout",
     "output_type": "stream",
     "text": [
      "Number of files: 0\n",
      "[]\n"
     ]
    }
   ],
   "source": [
    "files = folder_to_import.get_files()\n",
    "print(\"Number of files: %d\" % len(files))\n",
    "print(files)"
   ]
  },
  {
   "cell_type": "code",
   "execution_count": 7,
   "id": "4d47c6fa-513d-46cf-8c24-b6c8c57384fa",
   "metadata": {
    "execution": {
     "iopub.execute_input": "2022-05-24T18:48:53.093830Z",
     "iopub.status.busy": "2022-05-24T18:48:53.090175Z",
     "iopub.status.idle": "2022-05-24T18:48:53.443708Z",
     "shell.execute_reply": "2022-05-24T18:48:53.439468Z",
     "shell.execute_reply.started": "2022-05-24T18:48:53.093773Z"
    },
    "tags": []
   },
   "outputs": [],
   "source": [
    "folder_to_export = folder.get_sub_folder('To_Import')\n",
    "\n",
    "folder.move_files(files, folder_to_export)"
   ]
  },
  {
   "cell_type": "code",
   "execution_count": 8,
   "id": "86bbf6d3-ce3b-40db-987e-b72443039c9d",
   "metadata": {
    "execution": {
     "iopub.execute_input": "2022-05-24T18:48:53.449315Z",
     "iopub.status.busy": "2022-05-24T18:48:53.448149Z",
     "iopub.status.idle": "2022-05-24T18:48:53.462905Z",
     "shell.execute_reply": "2022-05-24T18:48:53.461475Z",
     "shell.execute_reply.started": "2022-05-24T18:48:53.449244Z"
    },
    "tags": []
   },
   "outputs": [],
   "source": [
    "for file in files:\n",
    "    print(file.read())"
   ]
  },
  {
   "cell_type": "code",
   "execution_count": null,
   "id": "2c27f71f-59df-4d9c-a4d4-6cb50867a862",
   "metadata": {},
   "outputs": [],
   "source": []
  }
 ],
 "metadata": {
  "kernelspec": {
   "display_name": "Python 3 (ipykernel)",
   "language": "python",
   "name": "python3"
  },
  "language_info": {
   "codemirror_mode": {
    "name": "ipython",
    "version": 3
   },
   "file_extension": ".py",
   "mimetype": "text/x-python",
   "name": "python",
   "nbconvert_exporter": "python",
   "pygments_lexer": "ipython3",
   "version": "3.8.10"
  }
 },
 "nbformat": 4,
 "nbformat_minor": 5
}
