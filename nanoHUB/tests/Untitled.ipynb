{
 "cells": [
  {
   "cell_type": "code",
   "execution_count": 1,
   "id": "71ab0ef7-68af-47a5-ad79-d4cad2a0eb2c",
   "metadata": {
    "execution": {
     "iopub.execute_input": "2022-05-24T15:53:54.720058Z",
     "iopub.status.busy": "2022-05-24T15:53:54.718977Z",
     "iopub.status.idle": "2022-05-24T15:53:55.846980Z",
     "shell.execute_reply": "2022-05-24T15:53:55.846367Z",
     "shell.execute_reply.started": "2022-05-24T15:53:54.719987Z"
    },
    "tags": [],
    "pycharm": {
     "name": "#%%\n"
    }
   },
   "outputs": [
    {
     "name": "stdout",
     "output_type": "stream",
     "text": [
      "\u001B[1mnanoHUB - Serving Students, Researchers & Instructors\u001B[0m\n"
     ]
    }
   ],
   "source": [
    "import pandas as pd\n",
    "from pprint import pprint\n",
    "from nanoHUB.application import Application\n",
    "from nanoHUB.infrastructure.google.service import ServiceFactory\n",
    "from nanoHUB.infrastructure.google.drive import GoogleFolder\n",
    "import logging\n",
    "\n",
    "# logger.debug('Testing')\n",
    "application = Application.get_instance()\n",
    "logger = logging.getLogger()\n"
   ]
  },
  {
   "cell_type": "code",
   "execution_count": 2,
   "id": "0b20ce03-bbac-4272-b784-94fa732f4a56",
   "metadata": {
    "execution": {
     "iopub.execute_input": "2022-05-24T15:53:55.848652Z",
     "iopub.status.busy": "2022-05-24T15:53:55.848232Z",
     "iopub.status.idle": "2022-05-24T15:53:55.898768Z",
     "shell.execute_reply": "2022-05-24T15:53:55.897606Z",
     "shell.execute_reply.started": "2022-05-24T15:53:55.848632Z"
    },
    "tags": [],
    "pycharm": {
     "name": "#%%\n"
    }
   },
   "outputs": [],
   "source": [
    "engine = application.new_google_api_engine()"
   ]
  },
  {
   "cell_type": "code",
   "execution_count": 3,
   "id": "8bf613f5-d7a2-46d1-b870-d22dd6c75cd4",
   "metadata": {
    "execution": {
     "iopub.execute_input": "2022-05-24T15:53:55.900228Z",
     "iopub.status.busy": "2022-05-24T15:53:55.899946Z",
     "iopub.status.idle": "2022-05-24T15:53:56.359159Z",
     "shell.execute_reply": "2022-05-24T15:53:56.356909Z",
     "shell.execute_reply.started": "2022-05-24T15:53:55.900213Z"
    },
    "tags": [],
    "pycharm": {
     "name": "#%%\n"
    }
   },
   "outputs": [],
   "source": [
    "folder = GoogleFolder.init_by_name('test', engine, logger)"
   ]
  },
  {
   "cell_type": "code",
   "execution_count": 4,
   "id": "580eb754-9a80-4ba0-88f7-c695cd65f021",
   "metadata": {
    "execution": {
     "iopub.execute_input": "2022-05-24T15:53:56.362988Z",
     "iopub.status.busy": "2022-05-24T15:53:56.362211Z",
     "iopub.status.idle": "2022-05-24T15:53:56.371505Z",
     "shell.execute_reply": "2022-05-24T15:53:56.368753Z",
     "shell.execute_reply.started": "2022-05-24T15:53:56.362798Z"
    },
    "tags": [],
    "pycharm": {
     "name": "#%%\n"
    }
   },
   "outputs": [
    {
     "name": "stdout",
     "output_type": "stream",
     "text": [
      "1_srm_LCcUbLgTq8hZmuvZpQXGdk8N8oA\n"
     ]
    }
   ],
   "source": [
    "print(folder.get_id())"
   ]
  },
  {
   "cell_type": "code",
   "execution_count": 9,
   "id": "0beab110-be24-4d4d-9cb9-4dba0a06f3fc",
   "metadata": {
    "execution": {
     "iopub.execute_input": "2022-05-24T15:54:10.798893Z",
     "iopub.status.busy": "2022-05-24T15:54:10.798361Z",
     "iopub.status.idle": "2022-05-24T15:54:10.977439Z",
     "shell.execute_reply": "2022-05-24T15:54:10.976671Z",
     "shell.execute_reply.started": "2022-05-24T15:54:10.798871Z"
    },
    "tags": [],
    "pycharm": {
     "name": "#%%\n"
    }
   },
   "outputs": [
    {
     "name": "stdout",
     "output_type": "stream",
     "text": [
      "1_srm_LCcUbLgTq8hZmuvZpQXGdk8N8oA\n",
      "<nanoHUB.infrastructure.google.drive.GoogleFolder object at 0x7f36ebc75d00>\n"
     ]
    }
   ],
   "source": [
    "folder_to_import = folder.get_sub_folder('Test')\n",
    "\n",
    "print(folder_to_import)"
   ]
  },
  {
   "cell_type": "code",
   "execution_count": 10,
   "id": "8de294f3-35ca-4339-bff2-e62b1af0e136",
   "metadata": {
    "execution": {
     "iopub.execute_input": "2022-05-24T15:54:13.164524Z",
     "iopub.status.busy": "2022-05-24T15:54:13.162933Z",
     "iopub.status.idle": "2022-05-24T15:54:14.400500Z",
     "shell.execute_reply": "2022-05-24T15:54:14.399248Z",
     "shell.execute_reply.started": "2022-05-24T15:54:13.164429Z"
    },
    "tags": [],
    "pycharm": {
     "name": "#%%\n"
    }
   },
   "outputs": [
    {
     "name": "stdout",
     "output_type": "stream",
     "text": [
      "[INFO] [drive - root]: Found file: Copy of Copy of UMC Mailing list 4.27.2020.csv (1lbuTN_chztJn4yTV2pA_U3rkS__Aduh9) [drive.get_files:101]\n",
      "[INFO] [drive - root]: Found file: Copy of UMC Mailing list 4.27.2020.csv (1ycGfM3i1gKifju_-wdYtWyQ7-xvgN-QM) [drive.get_files:101]\n",
      "Number of files: 2\n",
      "[<nanoHUB.infrastructure.google.drive.GoogleFile object at 0x7f36ebc16760>, <nanoHUB.infrastructure.google.drive.GoogleFile object at 0x7f36ebc16820>]\n"
     ]
    }
   ],
   "source": [
    "files = folder_to_import.get_files()\n",
    "print(\"Number of files: %d\" % len(files))\n",
    "print(files)"
   ]
  },
  {
   "cell_type": "code",
   "execution_count": 11,
   "id": "4d47c6fa-513d-46cf-8c24-b6c8c57384fa",
   "metadata": {
    "execution": {
     "iopub.execute_input": "2022-05-24T15:54:18.203427Z",
     "iopub.status.busy": "2022-05-24T15:54:18.202929Z",
     "iopub.status.idle": "2022-05-24T15:54:20.173478Z",
     "shell.execute_reply": "2022-05-24T15:54:20.171418Z",
     "shell.execute_reply.started": "2022-05-24T15:54:18.203403Z"
    },
    "tags": [],
    "pycharm": {
     "name": "#%%\n"
    }
   },
   "outputs": [
    {
     "name": "stdout",
     "output_type": "stream",
     "text": [
      "1_srm_LCcUbLgTq8hZmuvZpQXGdk8N8oA\n"
     ]
    }
   ],
   "source": [
    "folder_to_export = folder.get_sub_folder('To_Import')\n",
    "\n",
    "folder.move_files(files, folder_to_export)"
   ]
  },
  {
   "cell_type": "code",
   "execution_count": 12,
   "id": "86bbf6d3-ce3b-40db-987e-b72443039c9d",
   "metadata": {
    "execution": {
     "iopub.execute_input": "2022-05-24T15:54:21.805840Z",
     "iopub.status.busy": "2022-05-24T15:54:21.805133Z",
     "iopub.status.idle": "2022-05-24T15:54:22.313710Z",
     "shell.execute_reply": "2022-05-24T15:54:22.312706Z",
     "shell.execute_reply.started": "2022-05-24T15:54:21.805806Z"
    },
    "tags": [],
    "pycharm": {
     "name": "#%%\n"
    }
   },
   "outputs": [
    {
     "name": "stdout",
     "output_type": "stream",
     "text": [
      "[INFO] [drive - root]: Reading all files of mimetypes: \n",
      "            mimeType = 'application/vnd.openxmlformats-officedocument.spreadsheetml.sheet' or\n",
      "            mimeType = 'application/vnd.ms-excel' or\n",
      "            mimeType = 'text/csv'\n",
      "             [drive.read:130]\n",
      "[INFO] [drive - root]: Downloading Copy of Copy of UMC Mailing list 4.27.2020.csv 100%. [drive.read:133]\n",
      "﻿First Name,Last Name,Organization,Email Address\n",
      "Scott,Misture,Alfred,misture@alfred.edu\n",
      "Peter,Crozier,Arizona State,CROZIER@asu.edu\n",
      "Sefaattin,Tongay,Arizona State,sefaattin.tongay@asu.edu\n",
      "Zhongyang,Cheng,Auburn,chengzh@eng.auburn.edu\n",
      "Bryan,Chin,Auburn,chinbry@auburn.edu\n",
      "Junghyun,Cho,Binghamton,jcho@binghamton.edu\n",
      "Louis,Piper,Binghamton,lpiper@binghamton.edu\n",
      "Will,Hughes,Boise State,willhughes@boisestate.edu\n",
      "Dave,Bishop,Boston University,djb1@bu.edu\n",
      "Eric,Chason,Brown,eric_chason_phd@brown.edu\n",
      "Mohsen,Eshraghi,Cal State LA,Mohsen.Eshraghi@calstatela.edu\n",
      "Vilupanur,Ravi,Cal Poly Pomona,vravi@cpp.edu\n",
      "Trevor,Harding,Cal Poly SLO,tharding@calpoly.edu\n",
      "Silvana,Andreescu,Clarkson,eandrees@clarkson.edu\n",
      "Kyle,Brinkman,Clemson,ksbrink@clemson.edu\n",
      "Greg,Rohrer,CMU,gr20@andrew.cmu.edu\n",
      "Angus,Rockett,Colorado School of Mines,arockett@mines.edu\n",
      "William,Bailey,Columbia,web54@columbia.edu\n",
      "Bruce,van Dover,Cornell,vandover@cornell.edu\n",
      "Frank,Ernst,CWRU,fxe5@case.edu\n",
      "David,Schiraldi,CWRU,das44@case.edu\n",
      "Noubar,Yemenidjian,Dalhousie University,Noubar.Yemenidjian@dal.ca\n",
      "Michele,Marcolongo,Drexel,marcolms@drexel.edu\n",
      "Adrienne,Stiff-Roberts,Duke University,adrienne.stiffroberts@duke.edu\n",
      "L. Cate,Brinson,Duke University,cate.brinson@duke.edu\n",
      "Sylvain,Turenne,Ecole Poly Montreal,sylvain.turenne@polymtl.ca\n",
      "Arvind,Agarwal,Florida International U,agarwala@fiu.edu\n",
      "Naresh,Thadhani,Georgia Tech,naresh.thadhani@mse.gatech.edu\n",
      "Sumanta,Acharya,IIT,sacharya1@iit.edu\n",
      "Richard,Lesar,Iowa State Unversity,lesar@iastate.edu\n",
      "Jonah,Erlebacher,Johns Hopkins,jonah@jhu.edu\n",
      "Réal,Tremblay,Laval University  CANADA,real.tremblay@gmn.ulaval.ca\n",
      "Wojtek,Misiolek,Lehigh,wzm2@lehigh.edu\n",
      "George,Demopoulos,McGill,george.demopoulos@mcgill.ca\n",
      "Hatem,Zurob,McMaster,zurobh@mcmaster.ca\n",
      "Donald,Morelli,Michigan State,dmorelli@egr.msu.edu\n",
      "Stephen,Kampe,Michigan Tech,kampe@mtu.edu\n",
      "Greg,Hilmas,Missouri University of Sci and Tech,ghilmas@mst.edu\n",
      "Jeffrey,Grossman,MIT,schuh@mit.edu\n",
      "C,Young,Montana Tech,cyoung@mtech.edu\n",
      "Don,Brenner,NCSU,brenner@ncsu.edu\n",
      "Lisa,Axe,New Jersey Institute of Technology,axe@njit.edu\n",
      "David,Venerus,New Jersey Institute of Technology,david.c.venerus@njit.edu\n",
      "John,McCoy,New Mexico Inst. Mining & Tech,mccoy@nmt.edu\n",
      "Frances,Williams,Norfolk State University,williams@nsu.edu\n",
      "Erik,Luijten,Northwestern,luijten@northwestern.edu\n",
      "Michael,Mills,Ohio State,mills.108@osu.edu\n",
      "Raj,Singh,OK State,rajns@okstate.edu\n",
      "Gregory,Selby,Old Dominion,RGregory@odu.edu\n",
      "David,Cann,Oregon State University,cann@engr.orst.edu\n",
      "Julie,Tucker,Oregon State University,Julie.Tucker@oregonstate.edu\n",
      "Susan,Sinnott,Penn State,sbs5563@psu.edu\n",
      "Craig,Arnold,Princeton,cbarnold@princeton.edu\n",
      "David,Bahr,Purdue,dfbahr@purdue.edu\n",
      "Pulickel,Ajayan,Rice,ajayan@rice.edu\n",
      "Gabrielle,Gaustad,Alfred / RIT,gaustad@alfred.edu\n",
      "Ernesto,Gutierrez-Miravete,RPI,gutiee@rpi.edu\n",
      "Pawel,Keblinski,RPI,keblip@rpi.edu\n",
      "David,Lehman,Rutgers,rllehman1@gmail.com\n",
      "Richard,Chung,San Jose State University,richard.chung@sjsu.edu\n",
      "Michael,West,South Dakota School of Mines,michael.west@sdsmt.edu\n",
      "Ian,Suni,Southern Illinois University,isuni@siu.edu\n",
      "Alberto,Salleo,Stanford,asalleo@stanford.edu\n",
      "Ronald,Besser,Stevens,Ronald.Besser@stevens.edu\n",
      "Krishna,Rajan,SUNY Buffalo,krajan3@buffalo.edu\n",
      "Michael,Dudley,SUNY Stony Brook,mdudley@notes.cc.sunysb.edu\n",
      "Ibrahim,Karaman,Texas A & M,ikaraman@tamu.edu\n",
      "Jennifer,Irvin,Texas State,ji12@txstate.edu\n",
      "Daryl,Chrzan,UC Berkeley,dcchrzan@berkeley.edu\n",
      "Jeffrey,Gibeling,UC Davis,jcgibeling@ucdavis.edu\n",
      "Julie,Schoenung,UC Irvine,julie.schoenung@uci.edu\n",
      "Christopher,Viney,UC Merced,cviney@ucmerced.edu\n",
      "Suveen,Mathaudhu,UC Riverside,smathaudhu@engr.ucr.edu\n",
      "Bruce,Dunn,UCLA, bdunn@ucla.edu\n",
      "Michael,Chabinyc,UCSB,mchabinyc@engineering.ucsb.edu\n",
      "Prabhakar,Bandaru,UCSD,pbandaru@ucsd.edu\n",
      "Vitali,Nesterenko,UCSD,vnesterenko@ucsd.edu\n",
      "Charles,Browning,Univerisity of Dayton,CBrowning1@udayton.edu\n",
      "Stephen,Daniewicz,University of Alabama,srdaniewicz@ua.edu\n",
      "Cadien,Ken,University of Alberta,kcadien@ualberta.ca\n",
      "Pierre,Deymier,University of Arizona,deymier@email.arizona.edu\n",
      "Daan,Maijer,University of British Columbia,daan.maijer@ubc.ca\n",
      "Sudipta,Seal,University of Central Florida,Sudipta.Seal@ucf.edu\n",
      "Bryan,Huey,University of Connecticut,bhuey-MSEhead@uconn.edu\n",
      "Darrin,Pochan,University of Delaware,pochan@udel.edu\n",
      "Michele,Manuel,University of Florida,mmanuel@mse.ufl.edu\n",
      "Eric,Aston,University of Idaho,aston@uidaho.edu\n",
      "Pascal,Bellon,University of Illinois at Urbana-Champaign,matse-head@illinois.edu\n",
      "Nancy,Sottos,University of Illinois Urbana-Champaign,n-sottos@illinois.edu\n",
      "Abolfazl,Mohammadian,University of Illinois Chicago,kouros@uic.edu\n",
      "Thomas,Dziubla,University of Kentucky,thomas.dziubla@uky.edu\n",
      "Ji-Cheng (JC),Zhao,University of Maryland,jczhao@umd.edu\n",
      "Amit,Misra,University of Michigan,amitmis@umich.edu\n",
      "Daniel,Frisbie,University of Minnesota,frisbie@umn.edu\n",
      "Jeffrey,Shield,University of Nebraska Licoln,jshield2@unl.edu\n",
      "Jeffrey,LaCombe,University of Nevada,lacomj@unr.edu\n",
      "Paul,Munroe,University of New South Wales,p.munroe@unsw.edu.au\n",
      "Sean,Washburn,University of North Carolina,sean@physics.unc.edu\n",
      "Rick,Reidy,University of North Texas,Rick.Reidy@unt.edu\n",
      "Andrey,Voevodin,University of North Texas,Andrey.Voevodin@unt.edu\n",
      "Karen,Winey,University of Pennsylvania,winey@seas.upenn.edu\n",
      "Brian,Gleeson,University of Pittsburgh,bgleeson@pitt.edu\n",
      "John,Lambropoulos,University of Rochester,Jcl@me.rochester.edu\n",
      "Michael,Kassner,University of Southern California,kassner@usc.edu\n",
      "Veerle,Keppens,University of Tennessee Knoxville,vkeppens@utk.edu\n",
      "Manthiram,Arumugam,University of Texas,manth@austin.utexas.edu\n",
      "Efstatheios,Meletis,University of Texas Arlinton,meletis@uta.edu\n",
      "Glen,Hibbard,University of Toronto,glenn.hibbard@utoronto.ca\n",
      "Michael,Simpson,University of Utah,michael.simpson@utah.edu\n",
      "John,Scully,University of Virginia,jrs8d@virginia.edu\n",
      "Jihui,Yang,University of Washington,jihuiy@uw.edu\n",
      "Aiping,Yu,University of Waterloo,aipingyu@uwaterloo.ca\n",
      "Marc,McEllistrem,University of Wisc. Eau Claire,mcellimt@uwec.edu\n",
      "Nidal,Abu-Zahra,University of Wisc. Milwaukee,nidal@uwm.edu\n",
      "Sue,Babcock,University of Wisconsin,sue.babcock@wisc.edu\n",
      "Amy,Walker,UT Dallas,amy.walker@utdallas.edu\n",
      "Stella,Quiñones,The University of Texas at El Paso,stellaq@utep.edu\n",
      "Timothy,Hanusa,Vanderbilt,t.hanusa@vanderbilt.edu\n",
      "Greg,Walker,Vanderbilt,greg.walker@vanderbilt.edu\n",
      "David,Clark,Virginia Tech,dclark@vt.edu\n",
      "Indranath,Dutta,Washington StateUniversity,idutta@wsu.edu\n",
      "Katharine,Flores,Washington University St. Louis,floresk@seas.wustl.edu\n",
      "Guangzhao,Mao,Wayne State,guangzhao.mao@wayne.edu\n",
      "Fariborz,Parsi,WinonaState University,fparsi@winona.edu\n",
      "Brajendra,Mishra,Worcester Polytechnic Institute,bmishra@wpi.edu\n",
      "Jamal,Yagoobi,Worcester Polytechnic Institute,jyagoobi@wpi.edu\n",
      "George,Huang,Wright State,george.huang@wright.edu\n",
      "Xingbo,Liu,West Virginia University,Xingbo.Liu@mail.wvu.edu\n",
      "Mitchell,Smooke,Yale,mitchell.smooke@yale.edu\n",
      "Superfine,Richard,\"University of North Carolina, Chapel Hill\",superfine@unc.edu\n",
      "[INFO] [drive - root]: Reading all files of mimetypes: \n",
      "            mimeType = 'application/vnd.openxmlformats-officedocument.spreadsheetml.sheet' or\n",
      "            mimeType = 'application/vnd.ms-excel' or\n",
      "            mimeType = 'text/csv'\n",
      "             [drive.read:130]\n",
      "[INFO] [drive - root]: Downloading Copy of UMC Mailing list 4.27.2020.csv 100%. [drive.read:133]\n",
      "﻿First Name,Last Name,Organization,Email Address\n",
      "Scott,Misture,Alfred,misture@alfred.edu\n",
      "Peter,Crozier,Arizona State,CROZIER@asu.edu\n",
      "Sefaattin,Tongay,Arizona State,sefaattin.tongay@asu.edu\n",
      "Zhongyang,Cheng,Auburn,chengzh@eng.auburn.edu\n",
      "Bryan,Chin,Auburn,chinbry@auburn.edu\n",
      "Junghyun,Cho,Binghamton,jcho@binghamton.edu\n",
      "Louis,Piper,Binghamton,lpiper@binghamton.edu\n",
      "Will,Hughes,Boise State,willhughes@boisestate.edu\n",
      "Dave,Bishop,Boston University,djb1@bu.edu\n",
      "Eric,Chason,Brown,eric_chason_phd@brown.edu\n",
      "Mohsen,Eshraghi,Cal State LA,Mohsen.Eshraghi@calstatela.edu\n",
      "Vilupanur,Ravi,Cal Poly Pomona,vravi@cpp.edu\n",
      "Trevor,Harding,Cal Poly SLO,tharding@calpoly.edu\n",
      "Silvana,Andreescu,Clarkson,eandrees@clarkson.edu\n",
      "Kyle,Brinkman,Clemson,ksbrink@clemson.edu\n",
      "Greg,Rohrer,CMU,gr20@andrew.cmu.edu\n",
      "Angus,Rockett,Colorado School of Mines,arockett@mines.edu\n",
      "William,Bailey,Columbia,web54@columbia.edu\n",
      "Bruce,van Dover,Cornell,vandover@cornell.edu\n",
      "Frank,Ernst,CWRU,fxe5@case.edu\n",
      "David,Schiraldi,CWRU,das44@case.edu\n",
      "Noubar,Yemenidjian,Dalhousie University,Noubar.Yemenidjian@dal.ca\n",
      "Michele,Marcolongo,Drexel,marcolms@drexel.edu\n",
      "Adrienne,Stiff-Roberts,Duke University,adrienne.stiffroberts@duke.edu\n",
      "L. Cate,Brinson,Duke University,cate.brinson@duke.edu\n",
      "Sylvain,Turenne,Ecole Poly Montreal,sylvain.turenne@polymtl.ca\n",
      "Arvind,Agarwal,Florida International U,agarwala@fiu.edu\n",
      "Naresh,Thadhani,Georgia Tech,naresh.thadhani@mse.gatech.edu\n",
      "Sumanta,Acharya,IIT,sacharya1@iit.edu\n",
      "Richard,Lesar,Iowa State Unversity,lesar@iastate.edu\n",
      "Jonah,Erlebacher,Johns Hopkins,jonah@jhu.edu\n",
      "Réal,Tremblay,Laval University  CANADA,real.tremblay@gmn.ulaval.ca\n",
      "Wojtek,Misiolek,Lehigh,wzm2@lehigh.edu\n",
      "George,Demopoulos,McGill,george.demopoulos@mcgill.ca\n",
      "Hatem,Zurob,McMaster,zurobh@mcmaster.ca\n",
      "Donald,Morelli,Michigan State,dmorelli@egr.msu.edu\n",
      "Stephen,Kampe,Michigan Tech,kampe@mtu.edu\n",
      "Greg,Hilmas,Missouri University of Sci and Tech,ghilmas@mst.edu\n",
      "Jeffrey,Grossman,MIT,schuh@mit.edu\n",
      "C,Young,Montana Tech,cyoung@mtech.edu\n",
      "Don,Brenner,NCSU,brenner@ncsu.edu\n",
      "Lisa,Axe,New Jersey Institute of Technology,axe@njit.edu\n",
      "David,Venerus,New Jersey Institute of Technology,david.c.venerus@njit.edu\n",
      "John,McCoy,New Mexico Inst. Mining & Tech,mccoy@nmt.edu\n",
      "Frances,Williams,Norfolk State University,williams@nsu.edu\n",
      "Erik,Luijten,Northwestern,luijten@northwestern.edu\n",
      "Michael,Mills,Ohio State,mills.108@osu.edu\n",
      "Raj,Singh,OK State,rajns@okstate.edu\n",
      "Gregory,Selby,Old Dominion,RGregory@odu.edu\n",
      "David,Cann,Oregon State University,cann@engr.orst.edu\n",
      "Julie,Tucker,Oregon State University,Julie.Tucker@oregonstate.edu\n",
      "Susan,Sinnott,Penn State,sbs5563@psu.edu\n",
      "Craig,Arnold,Princeton,cbarnold@princeton.edu\n",
      "David,Bahr,Purdue,dfbahr@purdue.edu\n",
      "Pulickel,Ajayan,Rice,ajayan@rice.edu\n",
      "Gabrielle,Gaustad,Alfred / RIT,gaustad@alfred.edu\n",
      "Ernesto,Gutierrez-Miravete,RPI,gutiee@rpi.edu\n",
      "Pawel,Keblinski,RPI,keblip@rpi.edu\n",
      "David,Lehman,Rutgers,rllehman1@gmail.com\n",
      "Richard,Chung,San Jose State University,richard.chung@sjsu.edu\n",
      "Michael,West,South Dakota School of Mines,michael.west@sdsmt.edu\n",
      "Ian,Suni,Southern Illinois University,isuni@siu.edu\n",
      "Alberto,Salleo,Stanford,asalleo@stanford.edu\n",
      "Ronald,Besser,Stevens,Ronald.Besser@stevens.edu\n",
      "Krishna,Rajan,SUNY Buffalo,krajan3@buffalo.edu\n",
      "Michael,Dudley,SUNY Stony Brook,mdudley@notes.cc.sunysb.edu\n",
      "Ibrahim,Karaman,Texas A & M,ikaraman@tamu.edu\n",
      "Jennifer,Irvin,Texas State,ji12@txstate.edu\n",
      "Daryl,Chrzan,UC Berkeley,dcchrzan@berkeley.edu\n",
      "Jeffrey,Gibeling,UC Davis,jcgibeling@ucdavis.edu\n",
      "Julie,Schoenung,UC Irvine,julie.schoenung@uci.edu\n",
      "Christopher,Viney,UC Merced,cviney@ucmerced.edu\n",
      "Suveen,Mathaudhu,UC Riverside,smathaudhu@engr.ucr.edu\n",
      "Bruce,Dunn,UCLA, bdunn@ucla.edu\n",
      "Michael,Chabinyc,UCSB,mchabinyc@engineering.ucsb.edu\n",
      "Prabhakar,Bandaru,UCSD,pbandaru@ucsd.edu\n",
      "Vitali,Nesterenko,UCSD,vnesterenko@ucsd.edu\n",
      "Charles,Browning,Univerisity of Dayton,CBrowning1@udayton.edu\n",
      "Stephen,Daniewicz,University of Alabama,srdaniewicz@ua.edu\n",
      "Cadien,Ken,University of Alberta,kcadien@ualberta.ca\n",
      "Pierre,Deymier,University of Arizona,deymier@email.arizona.edu\n",
      "Daan,Maijer,University of British Columbia,daan.maijer@ubc.ca\n",
      "Sudipta,Seal,University of Central Florida,Sudipta.Seal@ucf.edu\n",
      "Bryan,Huey,University of Connecticut,bhuey-MSEhead@uconn.edu\n",
      "Darrin,Pochan,University of Delaware,pochan@udel.edu\n",
      "Michele,Manuel,University of Florida,mmanuel@mse.ufl.edu\n",
      "Eric,Aston,University of Idaho,aston@uidaho.edu\n",
      "Pascal,Bellon,University of Illinois at Urbana-Champaign,matse-head@illinois.edu\n",
      "Nancy,Sottos,University of Illinois Urbana-Champaign,n-sottos@illinois.edu\n",
      "Abolfazl,Mohammadian,University of Illinois Chicago,kouros@uic.edu\n",
      "Thomas,Dziubla,University of Kentucky,thomas.dziubla@uky.edu\n",
      "Ji-Cheng (JC),Zhao,University of Maryland,jczhao@umd.edu\n",
      "Amit,Misra,University of Michigan,amitmis@umich.edu\n",
      "Daniel,Frisbie,University of Minnesota,frisbie@umn.edu\n",
      "Jeffrey,Shield,University of Nebraska Licoln,jshield2@unl.edu\n",
      "Jeffrey,LaCombe,University of Nevada,lacomj@unr.edu\n",
      "Paul,Munroe,University of New South Wales,p.munroe@unsw.edu.au\n",
      "Sean,Washburn,University of North Carolina,sean@physics.unc.edu\n",
      "Rick,Reidy,University of North Texas,Rick.Reidy@unt.edu\n",
      "Andrey,Voevodin,University of North Texas,Andrey.Voevodin@unt.edu\n",
      "Karen,Winey,University of Pennsylvania,winey@seas.upenn.edu\n",
      "Brian,Gleeson,University of Pittsburgh,bgleeson@pitt.edu\n",
      "John,Lambropoulos,University of Rochester,Jcl@me.rochester.edu\n",
      "Michael,Kassner,University of Southern California,kassner@usc.edu\n",
      "Veerle,Keppens,University of Tennessee Knoxville,vkeppens@utk.edu\n",
      "Manthiram,Arumugam,University of Texas,manth@austin.utexas.edu\n",
      "Efstatheios,Meletis,University of Texas Arlinton,meletis@uta.edu\n",
      "Glen,Hibbard,University of Toronto,glenn.hibbard@utoronto.ca\n",
      "Michael,Simpson,University of Utah,michael.simpson@utah.edu\n",
      "John,Scully,University of Virginia,jrs8d@virginia.edu\n",
      "Jihui,Yang,University of Washington,jihuiy@uw.edu\n",
      "Aiping,Yu,University of Waterloo,aipingyu@uwaterloo.ca\n",
      "Marc,McEllistrem,University of Wisc. Eau Claire,mcellimt@uwec.edu\n",
      "Nidal,Abu-Zahra,University of Wisc. Milwaukee,nidal@uwm.edu\n",
      "Sue,Babcock,University of Wisconsin,sue.babcock@wisc.edu\n",
      "Amy,Walker,UT Dallas,amy.walker@utdallas.edu\n",
      "Stella,Quiñones,The University of Texas at El Paso,stellaq@utep.edu\n",
      "Timothy,Hanusa,Vanderbilt,t.hanusa@vanderbilt.edu\n",
      "Greg,Walker,Vanderbilt,greg.walker@vanderbilt.edu\n",
      "David,Clark,Virginia Tech,dclark@vt.edu\n",
      "Indranath,Dutta,Washington StateUniversity,idutta@wsu.edu\n",
      "Katharine,Flores,Washington University St. Louis,floresk@seas.wustl.edu\n",
      "Guangzhao,Mao,Wayne State,guangzhao.mao@wayne.edu\n",
      "Fariborz,Parsi,WinonaState University,fparsi@winona.edu\n",
      "Brajendra,Mishra,Worcester Polytechnic Institute,bmishra@wpi.edu\n",
      "Jamal,Yagoobi,Worcester Polytechnic Institute,jyagoobi@wpi.edu\n",
      "George,Huang,Wright State,george.huang@wright.edu\n",
      "Xingbo,Liu,West Virginia University,Xingbo.Liu@mail.wvu.edu\n",
      "Mitchell,Smooke,Yale,mitchell.smooke@yale.edu\n",
      "Superfine,Richard,\"University of North Carolina, Chapel Hill\",superfine@unc.edu\n"
     ]
    }
   ],
   "source": [
    "for file in files:\n",
    "    print(file.read())"
   ]
  },
  {
   "cell_type": "code",
   "execution_count": null,
   "id": "2c27f71f-59df-4d9c-a4d4-6cb50867a862",
   "metadata": {
    "pycharm": {
     "name": "#%%\n"
    }
   },
   "outputs": [],
   "source": []
  }
 ],
 "metadata": {
  "kernelspec": {
   "display_name": "Python 3 (ipykernel)",
   "language": "python",
   "name": "python3"
  },
  "language_info": {
   "codemirror_mode": {
    "name": "ipython",
    "version": 3
   },
   "file_extension": ".py",
   "mimetype": "text/x-python",
   "name": "python",
   "nbconvert_exporter": "python",
   "pygments_lexer": "ipython3",
   "version": "3.8.10"
  }
 },
 "nbformat": 4,
 "nbformat_minor": 5
}