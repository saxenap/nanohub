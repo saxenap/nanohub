{
 "cells": [
  {
   "cell_type": "code",
   "execution_count": 1,
   "id": "dd19b9b3-1268-4b8c-8a4b-aa73be65880e",
   "metadata": {
    "execution": {
     "iopub.execute_input": "2022-05-25T20:34:31.949037Z",
     "iopub.status.busy": "2022-05-25T20:34:31.948505Z",
     "iopub.status.idle": "2022-05-25T20:34:32.305610Z",
     "shell.execute_reply": "2022-05-25T20:34:32.304160Z",
     "shell.execute_reply.started": "2022-05-25T20:34:31.948959Z"
    },
    "tags": []
   },
   "outputs": [
    {
     "name": "stdout",
     "output_type": "stream",
     "text": [
      "\u001b[1mnanoHUB - Serving Students, Researchers & Instructors\u001b[0m\n"
     ]
    }
   ],
   "source": [
    "from nanoHUB.infrastructure.salesforce.contact import (\n",
    "    SalesforceFromEnvironment,\n",
    "    ContactMapper,\n",
    "    ContactFactory\n",
    ")\n",
    "import pprint"
   ]
  },
  {
   "cell_type": "code",
   "execution_count": 2,
   "id": "84ada2cc-f68a-483e-ace0-95d8f503edd1",
   "metadata": {
    "execution": {
     "iopub.execute_input": "2022-05-25T20:34:32.309383Z",
     "iopub.status.busy": "2022-05-25T20:34:32.308478Z",
     "iopub.status.idle": "2022-05-25T20:34:32.318731Z",
     "shell.execute_reply": "2022-05-25T20:34:32.317395Z",
     "shell.execute_reply.started": "2022-05-25T20:34:32.309345Z"
    },
    "tags": []
   },
   "outputs": [],
   "source": [
    "factory = SalesforceFromEnvironment('test')"
   ]
  },
  {
   "cell_type": "code",
   "execution_count": 3,
   "id": "0157b4f4-d911-4425-9c48-83da28ff38a3",
   "metadata": {
    "execution": {
     "iopub.execute_input": "2022-05-25T20:34:32.321738Z",
     "iopub.status.busy": "2022-05-25T20:34:32.321356Z",
     "iopub.status.idle": "2022-05-25T20:34:32.614792Z",
     "shell.execute_reply": "2022-05-25T20:34:32.613567Z",
     "shell.execute_reply.started": "2022-05-25T20:34:32.321707Z"
    }
   },
   "outputs": [
    {
     "name": "stdout",
     "output_type": "stream",
     "text": [
      "<nanoHUB.infrastructure.salesforce.contact.ContactMapper object at 0x7fa8286f4610>\n"
     ]
    }
   ],
   "source": [
    "contact_mapper = ContactMapper(factory.create_new(), ContactFactory())\n",
    "print(contact_mapper)"
   ]
  },
  {
   "cell_type": "code",
   "execution_count": 4,
   "id": "74656402-badc-4747-a0ca-bab6d31ba8af",
   "metadata": {
    "execution": {
     "iopub.execute_input": "2022-05-25T20:34:32.618106Z",
     "iopub.status.busy": "2022-05-25T20:34:32.617287Z",
     "iopub.status.idle": "2022-05-25T20:34:32.868680Z",
     "shell.execute_reply": "2022-05-25T20:34:32.865829Z",
     "shell.execute_reply.started": "2022-05-25T20:34:32.618068Z"
    },
    "tags": []
   },
   "outputs": [
    {
     "name": "stdout",
     "output_type": "stream",
     "text": [
      "<nanoHUB.domain.contact.Contact object at 0x7fa813752be0>\n"
     ]
    }
   ],
   "source": [
    "contact1 = contact_mapper.find_by_username('1vineetkumarsingh')\n",
    "pprint.pprint(contact1, sort_dicts=False)"
   ]
  },
  {
   "cell_type": "code",
   "execution_count": 5,
   "id": "0170cb4c-1e06-421f-9af8-5c6e909b4249",
   "metadata": {
    "execution": {
     "iopub.execute_input": "2022-05-25T20:34:32.872388Z",
     "iopub.status.busy": "2022-05-25T20:34:32.871358Z",
     "iopub.status.idle": "2022-05-25T20:34:32.883100Z",
     "shell.execute_reply": "2022-05-25T20:34:32.881436Z",
     "shell.execute_reply.started": "2022-05-25T20:34:32.872350Z"
    },
    "tags": []
   },
   "outputs": [
    {
     "name": "stdout",
     "output_type": "stream",
     "text": [
      "{'params': ContactParams(id=109690.0, username='1vineetkumarsingh', email='1vineetkumarsingh@gmail.com', registration_date='2014-10-03', last_active_date='2022-05-20', name=<nanoHUB.domain.contact.ContactName object at 0x7fa8137521f0>, meta={'salesforce_id': '0035w000034JszLAAS'})}\n"
     ]
    }
   ],
   "source": [
    "pprint.pprint(vars(contact1))"
   ]
  },
  {
   "cell_type": "code",
   "execution_count": null,
   "id": "facdc8cc-edc6-49f7-84fc-cdf82f90e939",
   "metadata": {},
   "outputs": [],
   "source": []
  }
 ],
 "metadata": {
  "kernelspec": {
   "display_name": "Python 3 (ipykernel)",
   "language": "python",
   "name": "python3"
  },
  "language_info": {
   "codemirror_mode": {
    "name": "ipython",
    "version": 3
   },
   "file_extension": ".py",
   "mimetype": "text/x-python",
   "name": "python",
   "nbconvert_exporter": "python",
   "pygments_lexer": "ipython3",
   "version": "3.8.10"
  }
 },
 "nbformat": 4,
 "nbformat_minor": 5
}
