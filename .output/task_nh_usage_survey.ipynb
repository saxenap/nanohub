{
 "cells": [
  {
   "cell_type": "markdown",
   "id": "5d37e814",
   "metadata": {
    "papermill": {
     "duration": 0.065292,
     "end_time": "2021-10-22T12:09:33.164664",
     "exception": false,
     "start_time": "2021-10-22T12:09:33.099372",
     "status": "completed"
    },
    "tags": []
   },
   "source": [
    "# DB2-Salesforce populate survey results obtain from DB2"
   ]
  },
  {
   "cell_type": "code",
   "execution_count": 1,
   "id": "696fda25",
   "metadata": {
    "execution": {
     "iopub.execute_input": "2021-10-22T12:09:33.271186Z",
     "iopub.status.busy": "2021-10-22T12:09:33.270365Z",
     "iopub.status.idle": "2021-10-22T12:09:35.476391Z",
     "shell.execute_reply": "2021-10-22T12:09:35.477570Z"
    },
    "jupyter": {
     "source_hidden": true
    },
    "papermill": {
     "duration": 2.265896,
     "end_time": "2021-10-22T12:09:35.478274",
     "exception": false,
     "start_time": "2021-10-22T12:09:33.212378",
     "status": "completed"
    },
    "tags": []
   },
   "outputs": [
    {
     "name": "stdout",
     "output_type": "stream",
     "text": [
      "\u001b[1mnanoHUB - Serving Students, Researchers & Instructors\u001b[0m\n"
     ]
    },
    {
     "name": "stdout",
     "output_type": "stream",
     "text": [
      "Obtained Salesforce access token ...... True\n"
     ]
    }
   ],
   "source": [
    "# Parameters\n",
    "# API settings\n",
    "api_url = '/services/data/v43.0/sobjects'\n",
    "external_id = 'nanoHUB_user_ID__c'\n",
    "object_id = 'Contact'\n",
    "\n",
    "# login parameters to be handled by Papermill\n",
    "from nanoHUB.application import Application\n",
    "\n",
    "application = Application.get_instance()\n",
    "nanohub_db = application.new_db_engine('nanohub')\n",
    "nanohub_metrics_db = application.new_db_engine('nanohub_metrics')\n",
    "wang159_myrmekes_db = application.new_db_engine('wang159_myrmekes')\n",
    "\n",
    "\n",
    "salesforce = application.new_salesforce_engine()\n",
    "db_s = salesforce"
   ]
  },
  {
   "cell_type": "code",
   "execution_count": 2,
   "id": "8c786402",
   "metadata": {
    "execution": {
     "iopub.execute_input": "2021-10-22T12:09:35.589434Z",
     "iopub.status.busy": "2021-10-22T12:09:35.588808Z",
     "iopub.status.idle": "2021-10-22T12:09:35.590667Z",
     "shell.execute_reply": "2021-10-22T12:09:35.591184Z"
    },
    "jupyter": {
     "source_hidden": true
    },
    "papermill": {
     "duration": 0.056523,
     "end_time": "2021-10-22T12:09:35.591433",
     "exception": false,
     "start_time": "2021-10-22T12:09:35.534910",
     "status": "completed"
    },
    "tags": []
   },
   "outputs": [],
   "source": [
    "import pandas as pd\n",
    "import datetime"
   ]
  },
  {
   "cell_type": "markdown",
   "id": "80528c83",
   "metadata": {
    "papermill": {
     "duration": 0.041808,
     "end_time": "2021-10-22T12:09:35.677965",
     "exception": false,
     "start_time": "2021-10-22T12:09:35.636157",
     "status": "completed"
    },
    "tags": []
   },
   "source": [
    "## Get the URL code from DB2\n"
   ]
  },
  {
   "cell_type": "code",
   "execution_count": 3,
   "id": "5d2d9a63",
   "metadata": {
    "execution": {
     "iopub.execute_input": "2021-10-22T12:09:35.764807Z",
     "iopub.status.busy": "2021-10-22T12:09:35.764007Z",
     "iopub.status.idle": "2021-10-22T12:09:36.213763Z",
     "shell.execute_reply": "2021-10-22T12:09:36.214920Z"
    },
    "jupyter": {
     "source_hidden": true
    },
    "papermill": {
     "duration": 0.497063,
     "end_time": "2021-10-22T12:09:36.215571",
     "exception": false,
     "start_time": "2021-10-22T12:09:35.718508",
     "status": "completed"
    },
    "tags": []
   },
   "outputs": [],
   "source": [
    "# page_id indicates the question\n",
    "survey_df = pd.read_sql_query(\"select user_id,input from jos_reply_replies;\",nanohub_db) #limit 5000"
   ]
  },
  {
   "cell_type": "code",
   "execution_count": 4,
   "id": "4227a7f5",
   "metadata": {
    "execution": {
     "iopub.execute_input": "2021-10-22T12:09:36.334080Z",
     "iopub.status.busy": "2021-10-22T12:09:36.333155Z",
     "iopub.status.idle": "2021-10-22T12:09:36.336384Z",
     "shell.execute_reply": "2021-10-22T12:09:36.336887Z"
    },
    "jupyter": {
     "source_hidden": true
    },
    "papermill": {
     "duration": 0.061636,
     "end_time": "2021-10-22T12:09:36.337212",
     "exception": false,
     "start_time": "2021-10-22T12:09:36.275576",
     "status": "completed"
    },
    "tags": []
   },
   "outputs": [
    {
     "data": {
      "text/html": [
       "<div>\n",
       "<style scoped>\n",
       "    .dataframe tbody tr th:only-of-type {\n",
       "        vertical-align: middle;\n",
       "    }\n",
       "\n",
       "    .dataframe tbody tr th {\n",
       "        vertical-align: top;\n",
       "    }\n",
       "\n",
       "    .dataframe thead th {\n",
       "        text-align: right;\n",
       "    }\n",
       "</style>\n",
       "<table border=\"1\" class=\"dataframe\">\n",
       "  <thead>\n",
       "    <tr style=\"text-align: right;\">\n",
       "      <th></th>\n",
       "      <th>user_id</th>\n",
       "      <th>input</th>\n",
       "    </tr>\n",
       "  </thead>\n",
       "  <tbody>\n",
       "    <tr>\n",
       "      <th>0</th>\n",
       "      <td>170942</td>\n",
       "      <td>{\"text\":\"Test.\"}</td>\n",
       "    </tr>\n",
       "    <tr>\n",
       "      <th>1</th>\n",
       "      <td>206944</td>\n",
       "      <td>{\"text\":\"NCN staff test.\"}</td>\n",
       "    </tr>\n",
       "  </tbody>\n",
       "</table>\n",
       "</div>"
      ],
      "text/plain": [
       "   user_id                       input\n",
       "0   170942            {\"text\":\"Test.\"}\n",
       "1   206944  {\"text\":\"NCN staff test.\"}"
      ]
     },
     "metadata": {},
     "output_type": "display_data"
    }
   ],
   "source": [
    "display(survey_df.head(2))"
   ]
  },
  {
   "cell_type": "code",
   "execution_count": 5,
   "id": "a2c1c71c",
   "metadata": {
    "execution": {
     "iopub.execute_input": "2021-10-22T12:09:36.438715Z",
     "iopub.status.busy": "2021-10-22T12:09:36.437840Z",
     "iopub.status.idle": "2021-10-22T12:09:36.439765Z",
     "shell.execute_reply": "2021-10-22T12:09:36.440283Z"
    },
    "jupyter": {
     "source_hidden": true
    },
    "papermill": {
     "duration": 0.053436,
     "end_time": "2021-10-22T12:09:36.440519",
     "exception": false,
     "start_time": "2021-10-22T12:09:36.387083",
     "status": "completed"
    },
    "tags": []
   },
   "outputs": [],
   "source": [
    "## some processing\n",
    "s_temp = [i.split('\":\"')[-1][:-2] for i in survey_df['input'].to_list()]\n",
    "\n",
    "survey_df['NH_survey_results__c'] = s_temp"
   ]
  },
  {
   "cell_type": "code",
   "execution_count": 6,
   "id": "13b998b7",
   "metadata": {
    "execution": {
     "iopub.execute_input": "2021-10-22T12:09:36.542778Z",
     "iopub.status.busy": "2021-10-22T12:09:36.542060Z",
     "iopub.status.idle": "2021-10-22T12:09:36.548761Z",
     "shell.execute_reply": "2021-10-22T12:09:36.549318Z"
    },
    "jupyter": {
     "source_hidden": true
    },
    "papermill": {
     "duration": 0.061062,
     "end_time": "2021-10-22T12:09:36.549571",
     "exception": false,
     "start_time": "2021-10-22T12:09:36.488509",
     "status": "completed"
    },
    "tags": []
   },
   "outputs": [
    {
     "data": {
      "text/html": [
       "<div>\n",
       "<style scoped>\n",
       "    .dataframe tbody tr th:only-of-type {\n",
       "        vertical-align: middle;\n",
       "    }\n",
       "\n",
       "    .dataframe tbody tr th {\n",
       "        vertical-align: top;\n",
       "    }\n",
       "\n",
       "    .dataframe thead th {\n",
       "        text-align: right;\n",
       "    }\n",
       "</style>\n",
       "<table border=\"1\" class=\"dataframe\">\n",
       "  <thead>\n",
       "    <tr style=\"text-align: right;\">\n",
       "      <th></th>\n",
       "      <th>user_id</th>\n",
       "      <th>input</th>\n",
       "      <th>NH_survey_results__c</th>\n",
       "    </tr>\n",
       "  </thead>\n",
       "  <tbody>\n",
       "    <tr>\n",
       "      <th>0</th>\n",
       "      <td>170942</td>\n",
       "      <td>{\"text\":\"Test.\"}</td>\n",
       "      <td>Test.</td>\n",
       "    </tr>\n",
       "    <tr>\n",
       "      <th>1</th>\n",
       "      <td>206944</td>\n",
       "      <td>{\"text\":\"NCN staff test.\"}</td>\n",
       "      <td>NCN staff test.</td>\n",
       "    </tr>\n",
       "  </tbody>\n",
       "</table>\n",
       "</div>"
      ],
      "text/plain": [
       "   user_id                       input NH_survey_results__c\n",
       "0   170942            {\"text\":\"Test.\"}                Test.\n",
       "1   206944  {\"text\":\"NCN staff test.\"}      NCN staff test."
      ]
     },
     "metadata": {},
     "output_type": "display_data"
    },
    {
     "data": {
      "text/html": [
       "<div>\n",
       "<style scoped>\n",
       "    .dataframe tbody tr th:only-of-type {\n",
       "        vertical-align: middle;\n",
       "    }\n",
       "\n",
       "    .dataframe tbody tr th {\n",
       "        vertical-align: top;\n",
       "    }\n",
       "\n",
       "    .dataframe thead th {\n",
       "        text-align: right;\n",
       "    }\n",
       "</style>\n",
       "<table border=\"1\" class=\"dataframe\">\n",
       "  <thead>\n",
       "    <tr style=\"text-align: right;\">\n",
       "      <th></th>\n",
       "      <th>user_id</th>\n",
       "      <th>input</th>\n",
       "      <th>NH_survey_results__c</th>\n",
       "    </tr>\n",
       "  </thead>\n",
       "  <tbody>\n",
       "    <tr>\n",
       "      <th>85</th>\n",
       "      <td>183731</td>\n",
       "      <td>{\"text\":\"Dear NanoHub Developers, \\r\\n\\r\\n\\r\\n...</td>\n",
       "      <td>Dear NanoHub Developers, \\r\\n\\r\\n\\r\\nI teach C...</td>\n",
       "    </tr>\n",
       "    <tr>\n",
       "      <th>86</th>\n",
       "      <td>36138</td>\n",
       "      <td>{\"text\":\"using  for self interest\\r\\n\\r\\nif I ...</td>\n",
       "      <td>using  for self interest\\r\\n\\r\\nif I apply for...</td>\n",
       "    </tr>\n",
       "  </tbody>\n",
       "</table>\n",
       "</div>"
      ],
      "text/plain": [
       "    user_id                                              input  \\\n",
       "85   183731  {\"text\":\"Dear NanoHub Developers, \\r\\n\\r\\n\\r\\n...   \n",
       "86    36138  {\"text\":\"using  for self interest\\r\\n\\r\\nif I ...   \n",
       "\n",
       "                                 NH_survey_results__c  \n",
       "85  Dear NanoHub Developers, \\r\\n\\r\\n\\r\\nI teach C...  \n",
       "86  using  for self interest\\r\\n\\r\\nif I apply for...  "
      ]
     },
     "metadata": {},
     "output_type": "display_data"
    }
   ],
   "source": [
    "display(survey_df.head(2))\n",
    "display(survey_df.tail(2))"
   ]
  },
  {
   "cell_type": "code",
   "execution_count": 7,
   "id": "4e494dd8",
   "metadata": {
    "execution": {
     "iopub.execute_input": "2021-10-22T12:09:36.654140Z",
     "iopub.status.busy": "2021-10-22T12:09:36.653502Z",
     "iopub.status.idle": "2021-10-22T12:09:36.655823Z",
     "shell.execute_reply": "2021-10-22T12:09:36.656332Z"
    },
    "jupyter": {
     "source_hidden": true
    },
    "papermill": {
     "duration": 0.058267,
     "end_time": "2021-10-22T12:09:36.656564",
     "exception": false,
     "start_time": "2021-10-22T12:09:36.598297",
     "status": "completed"
    },
    "tags": []
   },
   "outputs": [],
   "source": [
    "survey_df = survey_df.drop(columns=['input'])"
   ]
  },
  {
   "cell_type": "code",
   "execution_count": 8,
   "id": "ca9cc7cf",
   "metadata": {
    "execution": {
     "iopub.execute_input": "2021-10-22T12:09:36.759003Z",
     "iopub.status.busy": "2021-10-22T12:09:36.758048Z",
     "iopub.status.idle": "2021-10-22T12:09:36.761099Z",
     "shell.execute_reply": "2021-10-22T12:09:36.761594Z"
    },
    "jupyter": {
     "source_hidden": true
    },
    "papermill": {
     "duration": 0.056078,
     "end_time": "2021-10-22T12:09:36.761833",
     "exception": false,
     "start_time": "2021-10-22T12:09:36.705755",
     "status": "completed"
    },
    "tags": []
   },
   "outputs": [
    {
     "data": {
      "text/html": [
       "<div>\n",
       "<style scoped>\n",
       "    .dataframe tbody tr th:only-of-type {\n",
       "        vertical-align: middle;\n",
       "    }\n",
       "\n",
       "    .dataframe tbody tr th {\n",
       "        vertical-align: top;\n",
       "    }\n",
       "\n",
       "    .dataframe thead th {\n",
       "        text-align: right;\n",
       "    }\n",
       "</style>\n",
       "<table border=\"1\" class=\"dataframe\">\n",
       "  <thead>\n",
       "    <tr style=\"text-align: right;\">\n",
       "      <th></th>\n",
       "      <th>user_id</th>\n",
       "      <th>NH_survey_results__c</th>\n",
       "    </tr>\n",
       "  </thead>\n",
       "  <tbody>\n",
       "    <tr>\n",
       "      <th>0</th>\n",
       "      <td>170942</td>\n",
       "      <td>Test.</td>\n",
       "    </tr>\n",
       "    <tr>\n",
       "      <th>1</th>\n",
       "      <td>206944</td>\n",
       "      <td>NCN staff test.</td>\n",
       "    </tr>\n",
       "    <tr>\n",
       "      <th>2</th>\n",
       "      <td>3482</td>\n",
       "      <td>This is a test - Gerhard Klimeck, \\r\\nHenry Bu...</td>\n",
       "    </tr>\n",
       "    <tr>\n",
       "      <th>3</th>\n",
       "      <td>3482</td>\n",
       "      <td>Well, let's see what happens when I type anoth...</td>\n",
       "    </tr>\n",
       "    <tr>\n",
       "      <th>4</th>\n",
       "      <td>279076</td>\n",
       "      <td>We (the group of Prof. James Glazier at Indian...</td>\n",
       "    </tr>\n",
       "  </tbody>\n",
       "</table>\n",
       "</div>"
      ],
      "text/plain": [
       "   user_id                               NH_survey_results__c\n",
       "0   170942                                              Test.\n",
       "1   206944                                    NCN staff test.\n",
       "2     3482  This is a test - Gerhard Klimeck, \\r\\nHenry Bu...\n",
       "3     3482  Well, let's see what happens when I type anoth...\n",
       "4   279076  We (the group of Prof. James Glazier at Indian..."
      ]
     },
     "metadata": {},
     "output_type": "display_data"
    }
   ],
   "source": [
    "display(survey_df.head(5))"
   ]
  },
  {
   "cell_type": "code",
   "execution_count": 9,
   "id": "c2aae437",
   "metadata": {
    "execution": {
     "iopub.execute_input": "2021-10-22T12:09:36.868127Z",
     "iopub.status.busy": "2021-10-22T12:09:36.867298Z",
     "iopub.status.idle": "2021-10-22T12:09:36.870141Z",
     "shell.execute_reply": "2021-10-22T12:09:36.870520Z"
    },
    "jupyter": {
     "source_hidden": true
    },
    "papermill": {
     "duration": 0.059013,
     "end_time": "2021-10-22T12:09:36.870765",
     "exception": false,
     "start_time": "2021-10-22T12:09:36.811752",
     "status": "completed"
    },
    "tags": []
   },
   "outputs": [
    {
     "data": {
      "text/html": [
       "<div>\n",
       "<style scoped>\n",
       "    .dataframe tbody tr th:only-of-type {\n",
       "        vertical-align: middle;\n",
       "    }\n",
       "\n",
       "    .dataframe tbody tr th {\n",
       "        vertical-align: top;\n",
       "    }\n",
       "\n",
       "    .dataframe thead th {\n",
       "        text-align: right;\n",
       "    }\n",
       "</style>\n",
       "<table border=\"1\" class=\"dataframe\">\n",
       "  <thead>\n",
       "    <tr style=\"text-align: right;\">\n",
       "      <th></th>\n",
       "      <th>nanoHUB_user_ID__c</th>\n",
       "      <th>NH_survey_results__c</th>\n",
       "    </tr>\n",
       "  </thead>\n",
       "  <tbody>\n",
       "    <tr>\n",
       "      <th>0</th>\n",
       "      <td>170942</td>\n",
       "      <td>Test.</td>\n",
       "    </tr>\n",
       "    <tr>\n",
       "      <th>1</th>\n",
       "      <td>206944</td>\n",
       "      <td>NCN staff test.</td>\n",
       "    </tr>\n",
       "  </tbody>\n",
       "</table>\n",
       "</div>"
      ],
      "text/plain": [
       "   nanoHUB_user_ID__c NH_survey_results__c\n",
       "0              170942                Test.\n",
       "1              206944      NCN staff test."
      ]
     },
     "metadata": {},
     "output_type": "display_data"
    }
   ],
   "source": [
    "survey_df = survey_df.rename(columns={'user_id':'nanoHUB_user_ID__c'})\n",
    "display(survey_df.head(2))"
   ]
  },
  {
   "cell_type": "code",
   "execution_count": 10,
   "id": "04f79e40",
   "metadata": {
    "execution": {
     "iopub.execute_input": "2021-10-22T12:09:36.979147Z",
     "iopub.status.busy": "2021-10-22T12:09:36.978379Z",
     "iopub.status.idle": "2021-10-22T12:09:36.981087Z",
     "shell.execute_reply": "2021-10-22T12:09:36.981435Z"
    },
    "jupyter": {
     "source_hidden": true
    },
    "papermill": {
     "duration": 0.059954,
     "end_time": "2021-10-22T12:09:36.981600",
     "exception": false,
     "start_time": "2021-10-22T12:09:36.921646",
     "status": "completed"
    },
    "tags": []
   },
   "outputs": [
    {
     "data": {
      "text/html": [
       "<div>\n",
       "<style scoped>\n",
       "    .dataframe tbody tr th:only-of-type {\n",
       "        vertical-align: middle;\n",
       "    }\n",
       "\n",
       "    .dataframe tbody tr th {\n",
       "        vertical-align: top;\n",
       "    }\n",
       "\n",
       "    .dataframe thead th {\n",
       "        text-align: right;\n",
       "    }\n",
       "</style>\n",
       "<table border=\"1\" class=\"dataframe\">\n",
       "  <thead>\n",
       "    <tr style=\"text-align: right;\">\n",
       "      <th></th>\n",
       "      <th>nanoHUB_user_ID__c</th>\n",
       "      <th>NH_survey_results__c</th>\n",
       "    </tr>\n",
       "  </thead>\n",
       "  <tbody>\n",
       "    <tr>\n",
       "      <th>2</th>\n",
       "      <td>3482</td>\n",
       "      <td>This is a test - Gerhard Klimeck, \\r\\nHenry Bu...</td>\n",
       "    </tr>\n",
       "    <tr>\n",
       "      <th>3</th>\n",
       "      <td>3482</td>\n",
       "      <td>Well, let's see what happens when I type anoth...</td>\n",
       "    </tr>\n",
       "    <tr>\n",
       "      <th>49</th>\n",
       "      <td>164228</td>\n",
       "      <td>Wow- what a lot of questions!  I don\\u2019t k ...</td>\n",
       "    </tr>\n",
       "    <tr>\n",
       "      <th>50</th>\n",
       "      <td>164228</td>\n",
       "      <td>Wow- what a lot of questions!  I don\\u2019t k ...</td>\n",
       "    </tr>\n",
       "    <tr>\n",
       "      <th>51</th>\n",
       "      <td>164228</td>\n",
       "      <td>Did you preview this or get any feedback befor...</td>\n",
       "    </tr>\n",
       "    <tr>\n",
       "      <th>83</th>\n",
       "      <td>164228</td>\n",
       "      <td>This is Tanya on 5\\/6\\/2021 submitting somethi...</td>\n",
       "    </tr>\n",
       "    <tr>\n",
       "      <th>1</th>\n",
       "      <td>206944</td>\n",
       "      <td>NCN staff test.</td>\n",
       "    </tr>\n",
       "    <tr>\n",
       "      <th>6</th>\n",
       "      <td>206944</td>\n",
       "      <td>Test 4\\/23</td>\n",
       "    </tr>\n",
       "  </tbody>\n",
       "</table>\n",
       "</div>"
      ],
      "text/plain": [
       "    nanoHUB_user_ID__c                               NH_survey_results__c\n",
       "2                 3482  This is a test - Gerhard Klimeck, \\r\\nHenry Bu...\n",
       "3                 3482  Well, let's see what happens when I type anoth...\n",
       "49              164228  Wow- what a lot of questions!  I don\\u2019t k ...\n",
       "50              164228  Wow- what a lot of questions!  I don\\u2019t k ...\n",
       "51              164228  Did you preview this or get any feedback befor...\n",
       "83              164228  This is Tanya on 5\\/6\\/2021 submitting somethi...\n",
       "1               206944                                    NCN staff test.\n",
       "6               206944                                         Test 4\\/23"
      ]
     },
     "metadata": {},
     "output_type": "display_data"
    }
   ],
   "source": [
    "## check for duplicates, if they exist, then merge\n",
    "duplicates = pd.concat(g for _, g in survey_df.groupby(\"nanoHUB_user_ID__c\") if len(g) > 1)\n",
    "\n",
    "display(duplicates)"
   ]
  },
  {
   "cell_type": "code",
   "execution_count": 11,
   "id": "fb30be66",
   "metadata": {
    "execution": {
     "iopub.execute_input": "2021-10-22T12:09:37.093727Z",
     "iopub.status.busy": "2021-10-22T12:09:37.093179Z",
     "iopub.status.idle": "2021-10-22T12:09:37.095681Z",
     "shell.execute_reply": "2021-10-22T12:09:37.096183Z"
    },
    "jupyter": {
     "source_hidden": true
    },
    "papermill": {
     "duration": 0.060698,
     "end_time": "2021-10-22T12:09:37.096416",
     "exception": false,
     "start_time": "2021-10-22T12:09:37.035718",
     "status": "completed"
    },
    "tags": []
   },
   "outputs": [],
   "source": [
    "nh_ids = duplicates['nanoHUB_user_ID__c'].to_list()\n",
    "nh_results = duplicates['NH_survey_results__c'].to_list()"
   ]
  },
  {
   "cell_type": "code",
   "execution_count": 12,
   "id": "ed4ee27c",
   "metadata": {
    "execution": {
     "iopub.execute_input": "2021-10-22T12:09:37.207919Z",
     "iopub.status.busy": "2021-10-22T12:09:37.207364Z",
     "iopub.status.idle": "2021-10-22T12:09:37.209776Z",
     "shell.execute_reply": "2021-10-22T12:09:37.210203Z"
    },
    "jupyter": {
     "source_hidden": true
    },
    "papermill": {
     "duration": 0.060327,
     "end_time": "2021-10-22T12:09:37.210429",
     "exception": false,
     "start_time": "2021-10-22T12:09:37.150102",
     "status": "completed"
    },
    "tags": []
   },
   "outputs": [],
   "source": [
    "from collections import Counter"
   ]
  },
  {
   "cell_type": "code",
   "execution_count": 13,
   "id": "d79cbce3",
   "metadata": {
    "execution": {
     "iopub.execute_input": "2021-10-22T12:09:37.322233Z",
     "iopub.status.busy": "2021-10-22T12:09:37.321488Z",
     "iopub.status.idle": "2021-10-22T12:09:37.323657Z",
     "shell.execute_reply": "2021-10-22T12:09:37.324157Z"
    },
    "jupyter": {
     "source_hidden": true
    },
    "papermill": {
     "duration": 0.060783,
     "end_time": "2021-10-22T12:09:37.324421",
     "exception": false,
     "start_time": "2021-10-22T12:09:37.263638",
     "status": "completed"
    },
    "tags": []
   },
   "outputs": [],
   "source": [
    "# build new array\n",
    "dict_nh_ids = Counter(nh_ids)\n",
    "\n",
    "nh_uniques_ids = [i for i in dict_nh_ids.keys()]\n",
    "nh_uniques_freq = [i for i in dict_nh_ids.values()]"
   ]
  },
  {
   "cell_type": "code",
   "execution_count": 14,
   "id": "3925fcea",
   "metadata": {
    "execution": {
     "iopub.execute_input": "2021-10-22T12:09:37.436562Z",
     "iopub.status.busy": "2021-10-22T12:09:37.435937Z",
     "iopub.status.idle": "2021-10-22T12:09:37.438235Z",
     "shell.execute_reply": "2021-10-22T12:09:37.438656Z"
    },
    "jupyter": {
     "source_hidden": true
    },
    "papermill": {
     "duration": 0.060878,
     "end_time": "2021-10-22T12:09:37.438892",
     "exception": false,
     "start_time": "2021-10-22T12:09:37.378014",
     "status": "completed"
    },
    "tags": []
   },
   "outputs": [],
   "source": [
    "survey_res_uniques = []\n",
    "dups_list = duplicates['NH_survey_results__c'].to_list()\n",
    "\n",
    "counter = 0\n",
    "for i,j in enumerate(nh_uniques_freq):\n",
    "    temp_survey_res = []\n",
    "    for k in range(j):\n",
    "        temp_survey_res.append(dups_list[counter+k])\n",
    "        \n",
    "    survey_res_uniques.append('\\n '.join(temp_survey_res) )\n",
    "    \n",
    "    counter += j"
   ]
  },
  {
   "cell_type": "code",
   "execution_count": 15,
   "id": "9ec5679d",
   "metadata": {
    "execution": {
     "iopub.execute_input": "2021-10-22T12:09:37.556176Z",
     "iopub.status.busy": "2021-10-22T12:09:37.555159Z",
     "iopub.status.idle": "2021-10-22T12:09:37.558563Z",
     "shell.execute_reply": "2021-10-22T12:09:37.559093Z"
    },
    "jupyter": {
     "source_hidden": true
    },
    "papermill": {
     "duration": 0.06624,
     "end_time": "2021-10-22T12:09:37.559338",
     "exception": false,
     "start_time": "2021-10-22T12:09:37.493098",
     "status": "completed"
    },
    "tags": []
   },
   "outputs": [
    {
     "data": {
      "text/html": [
       "<div>\n",
       "<style scoped>\n",
       "    .dataframe tbody tr th:only-of-type {\n",
       "        vertical-align: middle;\n",
       "    }\n",
       "\n",
       "    .dataframe tbody tr th {\n",
       "        vertical-align: top;\n",
       "    }\n",
       "\n",
       "    .dataframe thead th {\n",
       "        text-align: right;\n",
       "    }\n",
       "</style>\n",
       "<table border=\"1\" class=\"dataframe\">\n",
       "  <thead>\n",
       "    <tr style=\"text-align: right;\">\n",
       "      <th></th>\n",
       "      <th>nanoHUB_user_ID__c</th>\n",
       "      <th>NH_survey_results__c</th>\n",
       "    </tr>\n",
       "  </thead>\n",
       "  <tbody>\n",
       "    <tr>\n",
       "      <th>0</th>\n",
       "      <td>3482</td>\n",
       "      <td>This is a test - Gerhard Klimeck, \\r\\nHenry Bu...</td>\n",
       "    </tr>\n",
       "    <tr>\n",
       "      <th>1</th>\n",
       "      <td>164228</td>\n",
       "      <td>Wow- what a lot of questions!  I don\\u2019t k ...</td>\n",
       "    </tr>\n",
       "    <tr>\n",
       "      <th>2</th>\n",
       "      <td>206944</td>\n",
       "      <td>NCN staff test.\\n Test 4\\/23</td>\n",
       "    </tr>\n",
       "  </tbody>\n",
       "</table>\n",
       "</div>"
      ],
      "text/plain": [
       "   nanoHUB_user_ID__c                               NH_survey_results__c\n",
       "0                3482  This is a test - Gerhard Klimeck, \\r\\nHenry Bu...\n",
       "1              164228  Wow- what a lot of questions!  I don\\u2019t k ...\n",
       "2              206944                       NCN staff test.\\n Test 4\\/23"
      ]
     },
     "metadata": {},
     "output_type": "display_data"
    }
   ],
   "source": [
    "dups_df = pd.DataFrame()\n",
    "dups_df['nanoHUB_user_ID__c'] = nh_uniques_ids\n",
    "dups_df['NH_survey_results__c'] = survey_res_uniques\n",
    "display(dups_df.head(5))"
   ]
  },
  {
   "cell_type": "code",
   "execution_count": 16,
   "id": "f4d1e730",
   "metadata": {
    "execution": {
     "iopub.execute_input": "2021-10-22T12:09:37.669157Z",
     "iopub.status.busy": "2021-10-22T12:09:37.668497Z",
     "iopub.status.idle": "2021-10-22T12:09:37.671147Z",
     "shell.execute_reply": "2021-10-22T12:09:37.671645Z"
    },
    "jupyter": {
     "source_hidden": true
    },
    "papermill": {
     "duration": 0.058071,
     "end_time": "2021-10-22T12:09:37.671867",
     "exception": false,
     "start_time": "2021-10-22T12:09:37.613796",
     "status": "completed"
    },
    "tags": []
   },
   "outputs": [],
   "source": [
    "## send both survey_df and dups_df; dups after survey "
   ]
  },
  {
   "cell_type": "markdown",
   "id": "9b4e6240",
   "metadata": {
    "papermill": {
     "duration": 0.048761,
     "end_time": "2021-10-22T12:09:37.774100",
     "exception": false,
     "start_time": "2021-10-22T12:09:37.725339",
     "status": "completed"
    },
    "tags": []
   },
   "source": [
    "## Send to SF"
   ]
  },
  {
   "cell_type": "code",
   "execution_count": null,
   "id": "85ad9349",
   "metadata": {
    "execution": {
     "iopub.execute_input": "2021-01-21T08:30:06.197020Z",
     "iopub.status.busy": "2021-01-21T08:30:06.196492Z",
     "iopub.status.idle": "2021-01-21T08:30:06.566904Z",
     "shell.execute_reply": "2021-01-21T08:30:06.567578Z"
    },
    "jupyter": {
     "source_hidden": true
    },
    "papermill": {
     "duration": 0.04997,
     "end_time": "2021-10-22T12:09:37.872149",
     "exception": false,
     "start_time": "2021-10-22T12:09:37.822179",
     "status": "completed"
    },
    "tags": []
   },
   "outputs": [],
   "source": []
  },
  {
   "cell_type": "code",
   "execution_count": 17,
   "id": "194dfbea",
   "metadata": {
    "execution": {
     "iopub.execute_input": "2021-10-22T12:09:37.976900Z",
     "iopub.status.busy": "2021-10-22T12:09:37.976273Z",
     "iopub.status.idle": "2021-10-22T12:09:39.312018Z",
     "shell.execute_reply": "2021-10-22T12:09:39.313009Z"
    },
    "jupyter": {
     "source_hidden": true
    },
    "papermill": {
     "duration": 1.390863,
     "end_time": "2021-10-22T12:09:39.313340",
     "exception": false,
     "start_time": "2021-10-22T12:09:37.922477",
     "status": "completed"
    },
    "tags": []
   },
   "outputs": [
    {
     "name": "stdout",
     "output_type": "stream",
     "text": [
      "[Success] Bulk job creation successful. Job ID = 7505w00000b1owUAAQ\n",
      "hello\n"
     ]
    },
    {
     "name": "stdout",
     "output_type": "stream",
     "text": [
      "[Success] CSV upload successful. Job ID = 7505w00000b1owUAAQ\n"
     ]
    },
    {
     "name": "stdout",
     "output_type": "stream",
     "text": [
      "[Success] Closing job successful. Job ID = 7505w00000b1owUAAQ\n"
     ]
    }
   ],
   "source": [
    "db_s.object_id = object_id\n",
    "db_s.external_id = external_id\n",
    "\n",
    "# send data to Salesforce\n",
    "db_s.send_data(survey_df)"
   ]
  },
  {
   "cell_type": "code",
   "execution_count": 18,
   "id": "ba8414a5",
   "metadata": {
    "execution": {
     "iopub.execute_input": "2021-10-22T12:09:39.436893Z",
     "iopub.status.busy": "2021-10-22T12:09:39.435977Z",
     "iopub.status.idle": "2021-10-22T12:09:39.869443Z",
     "shell.execute_reply": "2021-10-22T12:09:39.870278Z"
    },
    "jupyter": {
     "source_hidden": true
    },
    "papermill": {
     "duration": 0.490668,
     "end_time": "2021-10-22T12:09:39.870834",
     "exception": false,
     "start_time": "2021-10-22T12:09:39.380166",
     "status": "completed"
    },
    "tags": []
   },
   "outputs": [
    {
     "data": {
      "text/plain": [
       "{'id': '7505w00000b1owUAAQ',\n",
       " 'operation': 'upsert',\n",
       " 'object': 'Contact',\n",
       " 'createdById': '0055w00000DM5bOAAT',\n",
       " 'createdDate': '2021-10-22T12:09:38.000+0000',\n",
       " 'systemModstamp': '2021-10-22T12:09:39.000+0000',\n",
       " 'state': 'UploadComplete',\n",
       " 'externalIdFieldName': 'nanoHUB_user_ID__c',\n",
       " 'concurrencyMode': 'Parallel',\n",
       " 'contentType': 'CSV',\n",
       " 'apiVersion': 47.0,\n",
       " 'jobType': 'V2Ingest',\n",
       " 'lineEnding': 'LF',\n",
       " 'columnDelimiter': 'COMMA',\n",
       " 'numberRecordsProcessed': 0,\n",
       " 'numberRecordsFailed': 0,\n",
       " 'retries': 0,\n",
       " 'totalProcessingTime': 0,\n",
       " 'apiActiveProcessingTime': 0,\n",
       " 'apexProcessingTime': 0}"
      ]
     },
     "execution_count": 18,
     "metadata": {},
     "output_type": "execute_result"
    }
   ],
   "source": [
    "# check status\n",
    "db_s.check_bulk_status()"
   ]
  },
  {
   "cell_type": "code",
   "execution_count": 19,
   "id": "93ba7ca2",
   "metadata": {
    "execution": {
     "iopub.execute_input": "2021-10-22T12:09:39.995554Z",
     "iopub.status.busy": "2021-10-22T12:09:39.994502Z",
     "iopub.status.idle": "2021-10-22T12:09:40.205773Z",
     "shell.execute_reply": "2021-10-22T12:09:40.206761Z"
    },
    "jupyter": {
     "source_hidden": true
    },
    "papermill": {
     "duration": 0.270183,
     "end_time": "2021-10-22T12:09:40.207348",
     "exception": false,
     "start_time": "2021-10-22T12:09:39.937165",
     "status": "completed"
    },
    "tags": []
   },
   "outputs": [
    {
     "name": "stdout",
     "output_type": "stream",
     "text": [
      "''\n"
     ]
    }
   ],
   "source": [
    "# check status\n",
    "from pprint import pprint\n",
    "\n",
    "pprint(db_s.check_bulk_failed_results())"
   ]
  },
  {
   "cell_type": "code",
   "execution_count": 20,
   "id": "664d6e1a",
   "metadata": {
    "execution": {
     "iopub.execute_input": "2021-10-22T12:09:40.337380Z",
     "iopub.status.busy": "2021-10-22T12:09:40.336320Z",
     "iopub.status.idle": "2021-10-22T12:09:40.339299Z",
     "shell.execute_reply": "2021-10-22T12:09:40.339855Z"
    },
    "jupyter": {
     "source_hidden": true
    },
    "papermill": {
     "duration": 0.064341,
     "end_time": "2021-10-22T12:09:40.340046",
     "exception": false,
     "start_time": "2021-10-22T12:09:40.275705",
     "status": "completed"
    },
    "tags": []
   },
   "outputs": [],
   "source": [
    "## second send for dups_df"
   ]
  },
  {
   "cell_type": "code",
   "execution_count": 21,
   "id": "5ee18ed2",
   "metadata": {
    "execution": {
     "iopub.execute_input": "2021-10-22T12:09:40.457909Z",
     "iopub.status.busy": "2021-10-22T12:09:40.457229Z",
     "iopub.status.idle": "2021-10-22T12:09:40.459512Z",
     "shell.execute_reply": "2021-10-22T12:09:40.460011Z"
    },
    "jupyter": {
     "source_hidden": true
    },
    "papermill": {
     "duration": 0.061673,
     "end_time": "2021-10-22T12:09:40.460234",
     "exception": false,
     "start_time": "2021-10-22T12:09:40.398561",
     "status": "completed"
    },
    "tags": []
   },
   "outputs": [],
   "source": [
    "# create DB2 to Salesforce API object\n",
    "db_2 = salesforce"
   ]
  },
  {
   "cell_type": "code",
   "execution_count": 22,
   "id": "66476e3f",
   "metadata": {
    "execution": {
     "iopub.execute_input": "2021-10-22T12:09:40.584583Z",
     "iopub.status.busy": "2021-10-22T12:09:40.583822Z",
     "iopub.status.idle": "2021-10-22T12:09:42.250268Z",
     "shell.execute_reply": "2021-10-22T12:09:42.251219Z"
    },
    "jupyter": {
     "source_hidden": true
    },
    "papermill": {
     "duration": 1.731247,
     "end_time": "2021-10-22T12:09:42.251622",
     "exception": false,
     "start_time": "2021-10-22T12:09:40.520375",
     "status": "completed"
    },
    "tags": []
   },
   "outputs": [
    {
     "name": "stdout",
     "output_type": "stream",
     "text": [
      "[Success] Bulk job creation successful. Job ID = 7505w00000b1oweAAA\n",
      "hello\n"
     ]
    },
    {
     "name": "stdout",
     "output_type": "stream",
     "text": [
      "[Success] CSV upload successful. Job ID = 7505w00000b1oweAAA\n"
     ]
    },
    {
     "name": "stdout",
     "output_type": "stream",
     "text": [
      "[Success] Closing job successful. Job ID = 7505w00000b1oweAAA\n"
     ]
    }
   ],
   "source": [
    "db_2.object_id = object_id\n",
    "db_2.external_id = external_id\n",
    "\n",
    "# send data to Salesforce\n",
    "db_2.send_data(dups_df)"
   ]
  },
  {
   "cell_type": "code",
   "execution_count": 23,
   "id": "f804d9ab",
   "metadata": {
    "execution": {
     "iopub.execute_input": "2021-10-22T12:09:42.386829Z",
     "iopub.status.busy": "2021-10-22T12:09:42.386101Z",
     "iopub.status.idle": "2021-10-22T12:09:42.886975Z",
     "shell.execute_reply": "2021-10-22T12:09:42.887877Z"
    },
    "jupyter": {
     "source_hidden": true
    },
    "papermill": {
     "duration": 0.565728,
     "end_time": "2021-10-22T12:09:42.888441",
     "exception": false,
     "start_time": "2021-10-22T12:09:42.322713",
     "status": "completed"
    },
    "tags": []
   },
   "outputs": [
    {
     "data": {
      "text/plain": [
       "{'id': '7505w00000b1oweAAA',\n",
       " 'operation': 'upsert',\n",
       " 'object': 'Contact',\n",
       " 'createdById': '0055w00000DM5bOAAT',\n",
       " 'createdDate': '2021-10-22T12:09:41.000+0000',\n",
       " 'systemModstamp': '2021-10-22T12:09:42.000+0000',\n",
       " 'state': 'UploadComplete',\n",
       " 'externalIdFieldName': 'nanoHUB_user_ID__c',\n",
       " 'concurrencyMode': 'Parallel',\n",
       " 'contentType': 'CSV',\n",
       " 'apiVersion': 47.0,\n",
       " 'jobType': 'V2Ingest',\n",
       " 'lineEnding': 'LF',\n",
       " 'columnDelimiter': 'COMMA',\n",
       " 'numberRecordsProcessed': 0,\n",
       " 'numberRecordsFailed': 0,\n",
       " 'retries': 0,\n",
       " 'totalProcessingTime': 0,\n",
       " 'apiActiveProcessingTime': 0,\n",
       " 'apexProcessingTime': 0}"
      ]
     },
     "execution_count": 23,
     "metadata": {},
     "output_type": "execute_result"
    }
   ],
   "source": [
    "# check status\n",
    "db_2.check_bulk_status()"
   ]
  },
  {
   "cell_type": "code",
   "execution_count": 24,
   "id": "7e28ed5a",
   "metadata": {
    "execution": {
     "iopub.execute_input": "2021-10-22T12:09:43.023248Z",
     "iopub.status.busy": "2021-10-22T12:09:43.022358Z",
     "iopub.status.idle": "2021-10-22T12:09:43.251368Z",
     "shell.execute_reply": "2021-10-22T12:09:43.252317Z"
    },
    "jupyter": {
     "source_hidden": true
    },
    "papermill": {
     "duration": 0.293936,
     "end_time": "2021-10-22T12:09:43.252725",
     "exception": false,
     "start_time": "2021-10-22T12:09:42.958789",
     "status": "completed"
    },
    "tags": []
   },
   "outputs": [
    {
     "name": "stdout",
     "output_type": "stream",
     "text": [
      "''\n"
     ]
    }
   ],
   "source": [
    "# check status\n",
    "pprint(db_2.check_bulk_failed_results())"
   ]
  },
  {
   "cell_type": "code",
   "execution_count": null,
   "id": "dc8d289e",
   "metadata": {
    "jupyter": {
     "source_hidden": true
    },
    "papermill": {
     "duration": 0.059295,
     "end_time": "2021-10-22T12:09:43.384972",
     "exception": false,
     "start_time": "2021-10-22T12:09:43.325677",
     "status": "completed"
    },
    "tags": []
   },
   "outputs": [],
   "source": []
  }
 ],
 "metadata": {
  "kernelspec": {
   "display_name": "Python 3",
   "language": "python",
   "name": "python3"
  },
  "language_info": {
   "codemirror_mode": {
    "name": "ipython",
    "version": 3
   },
   "file_extension": ".py",
   "mimetype": "text/x-python",
   "name": "python",
   "nbconvert_exporter": "python",
   "pygments_lexer": "ipython3",
   "version": "3.9.7"
  },
  "papermill": {
   "duration": 11.849866,
   "end_time": "2021-10-22T12:09:43.766008",
   "environment_variables": {},
   "exception": null,
   "input_path": "/Users/saxenap/Documents/Dev/nanoHUB/nanoHUB/pipeline/salesforce/task_nh_usage_survey.ipynb",
   "output_path": "./.output/task_nh_usage_survey.ipynb",
   "parameters": {},
   "start_time": "2021-10-22T12:09:31.916142",
   "version": "2.1.1"
  }
 },
 "nbformat": 4,
 "nbformat_minor": 5
}