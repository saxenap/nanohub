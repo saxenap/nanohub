{
 "cells": [
  {
   "cell_type": "markdown",
   "id": "c06cea8c",
   "metadata": {
    "papermill": {
     "duration": 0.049246,
     "end_time": "2021-08-26T04:54:06.461134",
     "exception": false,
     "start_time": "2021-08-26T04:54:06.411888",
     "status": "completed"
    },
    "tags": []
   },
   "source": [
    "# DB2-Salesforce populate survey results obtain from DB2"
   ]
  },
  {
   "cell_type": "code",
   "execution_count": 1,
   "id": "4be32c28",
   "metadata": {
    "execution": {
     "iopub.execute_input": "2021-08-26T04:54:06.577645Z",
     "iopub.status.busy": "2021-08-26T04:54:06.575978Z",
     "iopub.status.idle": "2021-08-26T04:54:09.227508Z",
     "shell.execute_reply": "2021-08-26T04:54:09.228018Z"
    },
    "jupyter": {
     "source_hidden": true
    },
    "papermill": {
     "duration": 2.717967,
     "end_time": "2021-08-26T04:54:09.228306",
     "exception": false,
     "start_time": "2021-08-26T04:54:06.510339",
     "status": "completed"
    },
    "tags": []
   },
   "outputs": [
    {
     "name": "stdout",
     "output_type": "stream",
     "text": [
      "\u001b[1mnanoHUB - Serving Students, Researchers & Instructors\u001b[0m\n"
     ]
    },
    {
     "name": "stderr",
     "output_type": "stream",
     "text": [
      "2021-08-26 00:54:07,908| INFO    | 0 keys loaded from agent\n"
     ]
    },
    {
     "name": "stdout",
     "output_type": "stream",
     "text": [
      "2021-08-26 00:54:07,908 - [INFO] sshtunnel.SSHTunnelForwarder [sshtunnel.get_agent_keys:1060]: 0 keys loaded from agent\n"
     ]
    },
    {
     "name": "stderr",
     "output_type": "stream",
     "text": [
      "2021-08-26 00:54:07,911| INFO    | 0 key(s) loaded\n"
     ]
    },
    {
     "name": "stdout",
     "output_type": "stream",
     "text": [
      "2021-08-26 00:54:07,911 - [INFO] sshtunnel.SSHTunnelForwarder [sshtunnel.get_keys:1117]: 0 key(s) loaded\n"
     ]
    },
    {
     "name": "stderr",
     "output_type": "stream",
     "text": [
      "2021-08-26 00:54:07,914| INFO    | Connecting to gateway: db2.nanohub.org:22 as user 'saxenap'\n"
     ]
    },
    {
     "name": "stdout",
     "output_type": "stream",
     "text": [
      "2021-08-26 00:54:07,914 - [INFO] sshtunnel.SSHTunnelForwarder [sshtunnel.__init__:978]: Connecting to gateway: db2.nanohub.org:22 as user 'saxenap'\n"
     ]
    },
    {
     "name": "stdout",
     "output_type": "stream",
     "text": [
      "2021-08-26 00:54:07,917 - [\u001b[1mINFO\u001b[0m] \u001b[1mnanoHUB.containers.dataaccess\u001b[0m [connection.get_connection_for:101]: Started SSH Tunnel with db2.nanohub.org\n"
     ]
    },
    {
     "name": "stderr",
     "output_type": "stream",
     "text": [
      "2021-08-26 00:54:08,220| INFO    | Opening tunnel: 0.0.0.0:55089 <> 127.0.0.1:3306\n"
     ]
    },
    {
     "name": "stdout",
     "output_type": "stream",
     "text": [
      "2021-08-26 00:54:08,220 - [INFO] sshtunnel.SSHTunnelForwarder [sshtunnel._serve_forever_wrapper:1433]: Opening tunnel: 0.0.0.0:55089 <> 127.0.0.1:3306\n"
     ]
    },
    {
     "name": "stderr",
     "output_type": "stream",
     "text": [
      "2021-08-26 00:54:08,247| INFO    | 0 keys loaded from agent\n"
     ]
    },
    {
     "name": "stdout",
     "output_type": "stream",
     "text": [
      "2021-08-26 00:54:08,247 - [INFO] sshtunnel.SSHTunnelForwarder [sshtunnel.get_agent_keys:1060]: 0 keys loaded from agent\n"
     ]
    },
    {
     "name": "stderr",
     "output_type": "stream",
     "text": [
      "2021-08-26 00:54:08,250| INFO    | 0 key(s) loaded\n"
     ]
    },
    {
     "name": "stdout",
     "output_type": "stream",
     "text": [
      "2021-08-26 00:54:08,250 - [INFO] sshtunnel.SSHTunnelForwarder [sshtunnel.get_keys:1117]: 0 key(s) loaded\n"
     ]
    },
    {
     "name": "stderr",
     "output_type": "stream",
     "text": [
      "2021-08-26 00:54:08,252| INFO    | Connecting to gateway: db2.nanohub.org:22 as user 'saxenap'\n"
     ]
    },
    {
     "name": "stdout",
     "output_type": "stream",
     "text": [
      "2021-08-26 00:54:08,252 - [INFO] sshtunnel.SSHTunnelForwarder [sshtunnel.__init__:978]: Connecting to gateway: db2.nanohub.org:22 as user 'saxenap'\n"
     ]
    },
    {
     "name": "stdout",
     "output_type": "stream",
     "text": [
      "2021-08-26 00:54:08,254 - [\u001b[1mINFO\u001b[0m] \u001b[1mnanoHUB.containers.dataaccess\u001b[0m [connection.get_connection_for:101]: Started SSH Tunnel with db2.nanohub.org\n"
     ]
    },
    {
     "name": "stderr",
     "output_type": "stream",
     "text": [
      "2021-08-26 00:54:08,565| INFO    | Opening tunnel: 0.0.0.0:55091 <> 127.0.0.1:3306\n"
     ]
    },
    {
     "name": "stdout",
     "output_type": "stream",
     "text": [
      "2021-08-26 00:54:08,565 - [INFO] sshtunnel.SSHTunnelForwarder [sshtunnel._serve_forever_wrapper:1433]: Opening tunnel: 0.0.0.0:55091 <> 127.0.0.1:3306\n"
     ]
    },
    {
     "name": "stderr",
     "output_type": "stream",
     "text": [
      "2021-08-26 00:54:08,568| INFO    | 0 keys loaded from agent\n"
     ]
    },
    {
     "name": "stdout",
     "output_type": "stream",
     "text": [
      "2021-08-26 00:54:08,568 - [INFO] sshtunnel.SSHTunnelForwarder [sshtunnel.get_agent_keys:1060]: 0 keys loaded from agent\n"
     ]
    },
    {
     "name": "stderr",
     "output_type": "stream",
     "text": [
      "2021-08-26 00:54:08,572| INFO    | 0 key(s) loaded\n"
     ]
    },
    {
     "name": "stdout",
     "output_type": "stream",
     "text": [
      "2021-08-26 00:54:08,572 - [INFO] sshtunnel.SSHTunnelForwarder [sshtunnel.get_keys:1117]: 0 key(s) loaded\n"
     ]
    },
    {
     "name": "stderr",
     "output_type": "stream",
     "text": [
      "2021-08-26 00:54:08,574| INFO    | Connecting to gateway: db2.nanohub.org:22 as user 'saxenap'\n"
     ]
    },
    {
     "name": "stdout",
     "output_type": "stream",
     "text": [
      "2021-08-26 00:54:08,574 - [INFO] sshtunnel.SSHTunnelForwarder [sshtunnel.__init__:978]: Connecting to gateway: db2.nanohub.org:22 as user 'saxenap'\n"
     ]
    },
    {
     "name": "stdout",
     "output_type": "stream",
     "text": [
      "2021-08-26 00:54:08,576 - [\u001b[1mINFO\u001b[0m] \u001b[1mnanoHUB.containers.dataaccess\u001b[0m [connection.get_connection_for:101]: Started SSH Tunnel with db2.nanohub.org\n"
     ]
    },
    {
     "name": "stderr",
     "output_type": "stream",
     "text": [
      "2021-08-26 00:54:08,889| INFO    | Opening tunnel: 0.0.0.0:55093 <> 127.0.0.1:3306\n"
     ]
    },
    {
     "name": "stdout",
     "output_type": "stream",
     "text": [
      "2021-08-26 00:54:08,889 - [INFO] sshtunnel.SSHTunnelForwarder [sshtunnel._serve_forever_wrapper:1433]: Opening tunnel: 0.0.0.0:55093 <> 127.0.0.1:3306\n"
     ]
    },
    {
     "name": "stdout",
     "output_type": "stream",
     "text": [
      "Obtained Salesforce access token ...... True\n"
     ]
    }
   ],
   "source": [
    "# Parameters\n",
    "# API settings\n",
    "api_url = '/services/data/v43.0/sobjects'\n",
    "external_id = 'nanoHUB_user_ID__c'\n",
    "object_id = 'Contact'\n",
    "\n",
    "# login parameters to be handled by Papermill\n",
    "from nanoHUB.application import Application\n",
    "\n",
    "application = Application.get_instance()\n",
    "nanohub_db = application.new_db_engine('nanohub')\n",
    "nanohub_metrics_db = application.new_db_engine('nanohub_metrics')\n",
    "wang159_myrmekes_db = application.new_db_engine('wang159_myrmekes')\n",
    "\n",
    "\n",
    "salesforce = application.new_salesforce_engine()\n",
    "db_s = salesforce"
   ]
  },
  {
   "cell_type": "code",
   "execution_count": 2,
   "id": "ee8e2d4f",
   "metadata": {
    "execution": {
     "iopub.execute_input": "2021-08-26T04:54:09.390389Z",
     "iopub.status.busy": "2021-08-26T04:54:09.388971Z",
     "iopub.status.idle": "2021-08-26T04:54:09.391291Z",
     "shell.execute_reply": "2021-08-26T04:54:09.391816Z"
    },
    "jupyter": {
     "source_hidden": true
    },
    "papermill": {
     "duration": 0.083421,
     "end_time": "2021-08-26T04:54:09.392148",
     "exception": false,
     "start_time": "2021-08-26T04:54:09.308727",
     "status": "completed"
    },
    "tags": []
   },
   "outputs": [],
   "source": [
    "import pandas as pd\n",
    "import datetime"
   ]
  },
  {
   "cell_type": "markdown",
   "id": "96f42f0a",
   "metadata": {
    "papermill": {
     "duration": 0.069848,
     "end_time": "2021-08-26T04:54:09.532267",
     "exception": false,
     "start_time": "2021-08-26T04:54:09.462419",
     "status": "completed"
    },
    "tags": []
   },
   "source": [
    "## Get the URL code from DB2\n"
   ]
  },
  {
   "cell_type": "code",
   "execution_count": 3,
   "id": "cdf7b3ef",
   "metadata": {
    "execution": {
     "iopub.execute_input": "2021-08-26T04:54:09.683264Z",
     "iopub.status.busy": "2021-08-26T04:54:09.682040Z",
     "iopub.status.idle": "2021-08-26T04:54:10.086883Z",
     "shell.execute_reply": "2021-08-26T04:54:10.088136Z"
    },
    "jupyter": {
     "source_hidden": true
    },
    "papermill": {
     "duration": 0.484952,
     "end_time": "2021-08-26T04:54:10.088565",
     "exception": false,
     "start_time": "2021-08-26T04:54:09.603613",
     "status": "completed"
    },
    "tags": []
   },
   "outputs": [],
   "source": [
    "# page_id indicates the question\n",
    "survey_df = pd.read_sql_query(\"select user_id,input from jos_reply_replies;\",nanohub_db) #limit 5000"
   ]
  },
  {
   "cell_type": "code",
   "execution_count": 4,
   "id": "ac1da966",
   "metadata": {
    "execution": {
     "iopub.execute_input": "2021-08-26T04:54:10.246195Z",
     "iopub.status.busy": "2021-08-26T04:54:10.244806Z",
     "iopub.status.idle": "2021-08-26T04:54:10.255608Z",
     "shell.execute_reply": "2021-08-26T04:54:10.256101Z"
    },
    "jupyter": {
     "source_hidden": true
    },
    "papermill": {
     "duration": 0.089993,
     "end_time": "2021-08-26T04:54:10.256567",
     "exception": false,
     "start_time": "2021-08-26T04:54:10.166574",
     "status": "completed"
    },
    "tags": []
   },
   "outputs": [
    {
     "data": {
      "text/html": [
       "<div>\n",
       "<style scoped>\n",
       "    .dataframe tbody tr th:only-of-type {\n",
       "        vertical-align: middle;\n",
       "    }\n",
       "\n",
       "    .dataframe tbody tr th {\n",
       "        vertical-align: top;\n",
       "    }\n",
       "\n",
       "    .dataframe thead th {\n",
       "        text-align: right;\n",
       "    }\n",
       "</style>\n",
       "<table border=\"1\" class=\"dataframe\">\n",
       "  <thead>\n",
       "    <tr style=\"text-align: right;\">\n",
       "      <th></th>\n",
       "      <th>user_id</th>\n",
       "      <th>input</th>\n",
       "    </tr>\n",
       "  </thead>\n",
       "  <tbody>\n",
       "    <tr>\n",
       "      <th>0</th>\n",
       "      <td>170942</td>\n",
       "      <td>{\"text\":\"Test.\"}</td>\n",
       "    </tr>\n",
       "    <tr>\n",
       "      <th>1</th>\n",
       "      <td>206944</td>\n",
       "      <td>{\"text\":\"NCN staff test.\"}</td>\n",
       "    </tr>\n",
       "  </tbody>\n",
       "</table>\n",
       "</div>"
      ],
      "text/plain": [
       "   user_id                       input\n",
       "0   170942            {\"text\":\"Test.\"}\n",
       "1   206944  {\"text\":\"NCN staff test.\"}"
      ]
     },
     "metadata": {},
     "output_type": "display_data"
    }
   ],
   "source": [
    "display(survey_df.head(2))"
   ]
  },
  {
   "cell_type": "code",
   "execution_count": 5,
   "id": "aa9a6563",
   "metadata": {
    "execution": {
     "iopub.execute_input": "2021-08-26T04:54:10.431416Z",
     "iopub.status.busy": "2021-08-26T04:54:10.430023Z",
     "iopub.status.idle": "2021-08-26T04:54:10.434237Z",
     "shell.execute_reply": "2021-08-26T04:54:10.433309Z"
    },
    "jupyter": {
     "source_hidden": true
    },
    "papermill": {
     "duration": 0.099961,
     "end_time": "2021-08-26T04:54:10.434628",
     "exception": false,
     "start_time": "2021-08-26T04:54:10.334667",
     "status": "completed"
    },
    "tags": []
   },
   "outputs": [],
   "source": [
    "## some processing\n",
    "s_temp = [i.split('\":\"')[-1][:-2] for i in survey_df['input'].to_list()]\n",
    "\n",
    "survey_df['NH_survey_results__c'] = s_temp"
   ]
  },
  {
   "cell_type": "code",
   "execution_count": 6,
   "id": "12473db7",
   "metadata": {
    "execution": {
     "iopub.execute_input": "2021-08-26T04:54:10.628806Z",
     "iopub.status.busy": "2021-08-26T04:54:10.627695Z",
     "iopub.status.idle": "2021-08-26T04:54:10.639484Z",
     "shell.execute_reply": "2021-08-26T04:54:10.639896Z"
    },
    "jupyter": {
     "source_hidden": true
    },
    "papermill": {
     "duration": 0.108509,
     "end_time": "2021-08-26T04:54:10.640147",
     "exception": false,
     "start_time": "2021-08-26T04:54:10.531638",
     "status": "completed"
    },
    "tags": []
   },
   "outputs": [
    {
     "data": {
      "text/html": [
       "<div>\n",
       "<style scoped>\n",
       "    .dataframe tbody tr th:only-of-type {\n",
       "        vertical-align: middle;\n",
       "    }\n",
       "\n",
       "    .dataframe tbody tr th {\n",
       "        vertical-align: top;\n",
       "    }\n",
       "\n",
       "    .dataframe thead th {\n",
       "        text-align: right;\n",
       "    }\n",
       "</style>\n",
       "<table border=\"1\" class=\"dataframe\">\n",
       "  <thead>\n",
       "    <tr style=\"text-align: right;\">\n",
       "      <th></th>\n",
       "      <th>user_id</th>\n",
       "      <th>input</th>\n",
       "      <th>NH_survey_results__c</th>\n",
       "    </tr>\n",
       "  </thead>\n",
       "  <tbody>\n",
       "    <tr>\n",
       "      <th>0</th>\n",
       "      <td>170942</td>\n",
       "      <td>{\"text\":\"Test.\"}</td>\n",
       "      <td>Test.</td>\n",
       "    </tr>\n",
       "    <tr>\n",
       "      <th>1</th>\n",
       "      <td>206944</td>\n",
       "      <td>{\"text\":\"NCN staff test.\"}</td>\n",
       "      <td>NCN staff test.</td>\n",
       "    </tr>\n",
       "  </tbody>\n",
       "</table>\n",
       "</div>"
      ],
      "text/plain": [
       "   user_id                       input NH_survey_results__c\n",
       "0   170942            {\"text\":\"Test.\"}                Test.\n",
       "1   206944  {\"text\":\"NCN staff test.\"}      NCN staff test."
      ]
     },
     "metadata": {},
     "output_type": "display_data"
    },
    {
     "data": {
      "text/html": [
       "<div>\n",
       "<style scoped>\n",
       "    .dataframe tbody tr th:only-of-type {\n",
       "        vertical-align: middle;\n",
       "    }\n",
       "\n",
       "    .dataframe tbody tr th {\n",
       "        vertical-align: top;\n",
       "    }\n",
       "\n",
       "    .dataframe thead th {\n",
       "        text-align: right;\n",
       "    }\n",
       "</style>\n",
       "<table border=\"1\" class=\"dataframe\">\n",
       "  <thead>\n",
       "    <tr style=\"text-align: right;\">\n",
       "      <th></th>\n",
       "      <th>user_id</th>\n",
       "      <th>input</th>\n",
       "      <th>NH_survey_results__c</th>\n",
       "    </tr>\n",
       "  </thead>\n",
       "  <tbody>\n",
       "    <tr>\n",
       "      <th>85</th>\n",
       "      <td>183731</td>\n",
       "      <td>{\"text\":\"Dear NanoHub Developers, \\r\\n\\r\\n\\r\\n...</td>\n",
       "      <td>Dear NanoHub Developers, \\r\\n\\r\\n\\r\\nI teach C...</td>\n",
       "    </tr>\n",
       "    <tr>\n",
       "      <th>86</th>\n",
       "      <td>36138</td>\n",
       "      <td>{\"text\":\"using  for self interest\\r\\n\\r\\nif I ...</td>\n",
       "      <td>using  for self interest\\r\\n\\r\\nif I apply for...</td>\n",
       "    </tr>\n",
       "  </tbody>\n",
       "</table>\n",
       "</div>"
      ],
      "text/plain": [
       "    user_id                                              input  \\\n",
       "85   183731  {\"text\":\"Dear NanoHub Developers, \\r\\n\\r\\n\\r\\n...   \n",
       "86    36138  {\"text\":\"using  for self interest\\r\\n\\r\\nif I ...   \n",
       "\n",
       "                                 NH_survey_results__c  \n",
       "85  Dear NanoHub Developers, \\r\\n\\r\\n\\r\\nI teach C...  \n",
       "86  using  for self interest\\r\\n\\r\\nif I apply for...  "
      ]
     },
     "metadata": {},
     "output_type": "display_data"
    }
   ],
   "source": [
    "display(survey_df.head(2))\n",
    "display(survey_df.tail(2))"
   ]
  },
  {
   "cell_type": "code",
   "execution_count": 7,
   "id": "0076fde6",
   "metadata": {
    "execution": {
     "iopub.execute_input": "2021-08-26T04:54:10.820101Z",
     "iopub.status.busy": "2021-08-26T04:54:10.819093Z",
     "iopub.status.idle": "2021-08-26T04:54:10.822619Z",
     "shell.execute_reply": "2021-08-26T04:54:10.821745Z"
    },
    "jupyter": {
     "source_hidden": true
    },
    "papermill": {
     "duration": 0.103557,
     "end_time": "2021-08-26T04:54:10.822847",
     "exception": false,
     "start_time": "2021-08-26T04:54:10.719290",
     "status": "completed"
    },
    "tags": []
   },
   "outputs": [],
   "source": [
    "survey_df = survey_df.drop(columns=['input'])"
   ]
  },
  {
   "cell_type": "code",
   "execution_count": 8,
   "id": "ba1c408b",
   "metadata": {
    "execution": {
     "iopub.execute_input": "2021-08-26T04:54:10.980283Z",
     "iopub.status.busy": "2021-08-26T04:54:10.979416Z",
     "iopub.status.idle": "2021-08-26T04:54:10.983902Z",
     "shell.execute_reply": "2021-08-26T04:54:10.984413Z"
    },
    "jupyter": {
     "source_hidden": true
    },
    "papermill": {
     "duration": 0.086445,
     "end_time": "2021-08-26T04:54:10.984725",
     "exception": false,
     "start_time": "2021-08-26T04:54:10.898280",
     "status": "completed"
    },
    "tags": []
   },
   "outputs": [
    {
     "data": {
      "text/html": [
       "<div>\n",
       "<style scoped>\n",
       "    .dataframe tbody tr th:only-of-type {\n",
       "        vertical-align: middle;\n",
       "    }\n",
       "\n",
       "    .dataframe tbody tr th {\n",
       "        vertical-align: top;\n",
       "    }\n",
       "\n",
       "    .dataframe thead th {\n",
       "        text-align: right;\n",
       "    }\n",
       "</style>\n",
       "<table border=\"1\" class=\"dataframe\">\n",
       "  <thead>\n",
       "    <tr style=\"text-align: right;\">\n",
       "      <th></th>\n",
       "      <th>user_id</th>\n",
       "      <th>NH_survey_results__c</th>\n",
       "    </tr>\n",
       "  </thead>\n",
       "  <tbody>\n",
       "    <tr>\n",
       "      <th>0</th>\n",
       "      <td>170942</td>\n",
       "      <td>Test.</td>\n",
       "    </tr>\n",
       "    <tr>\n",
       "      <th>1</th>\n",
       "      <td>206944</td>\n",
       "      <td>NCN staff test.</td>\n",
       "    </tr>\n",
       "    <tr>\n",
       "      <th>2</th>\n",
       "      <td>3482</td>\n",
       "      <td>This is a test - Gerhard Klimeck, \\r\\nHenry Bu...</td>\n",
       "    </tr>\n",
       "    <tr>\n",
       "      <th>3</th>\n",
       "      <td>3482</td>\n",
       "      <td>Well, let's see what happens when I type anoth...</td>\n",
       "    </tr>\n",
       "    <tr>\n",
       "      <th>4</th>\n",
       "      <td>279076</td>\n",
       "      <td>We (the group of Prof. James Glazier at Indian...</td>\n",
       "    </tr>\n",
       "  </tbody>\n",
       "</table>\n",
       "</div>"
      ],
      "text/plain": [
       "   user_id                               NH_survey_results__c\n",
       "0   170942                                              Test.\n",
       "1   206944                                    NCN staff test.\n",
       "2     3482  This is a test - Gerhard Klimeck, \\r\\nHenry Bu...\n",
       "3     3482  Well, let's see what happens when I type anoth...\n",
       "4   279076  We (the group of Prof. James Glazier at Indian..."
      ]
     },
     "metadata": {},
     "output_type": "display_data"
    }
   ],
   "source": [
    "display(survey_df.head(5))"
   ]
  },
  {
   "cell_type": "code",
   "execution_count": 9,
   "id": "1e0c9efe",
   "metadata": {
    "execution": {
     "iopub.execute_input": "2021-08-26T04:54:11.153141Z",
     "iopub.status.busy": "2021-08-26T04:54:11.152376Z",
     "iopub.status.idle": "2021-08-26T04:54:11.155969Z",
     "shell.execute_reply": "2021-08-26T04:54:11.156382Z"
    },
    "jupyter": {
     "source_hidden": true
    },
    "papermill": {
     "duration": 0.090932,
     "end_time": "2021-08-26T04:54:11.156549",
     "exception": false,
     "start_time": "2021-08-26T04:54:11.065617",
     "status": "completed"
    },
    "tags": []
   },
   "outputs": [
    {
     "data": {
      "text/html": [
       "<div>\n",
       "<style scoped>\n",
       "    .dataframe tbody tr th:only-of-type {\n",
       "        vertical-align: middle;\n",
       "    }\n",
       "\n",
       "    .dataframe tbody tr th {\n",
       "        vertical-align: top;\n",
       "    }\n",
       "\n",
       "    .dataframe thead th {\n",
       "        text-align: right;\n",
       "    }\n",
       "</style>\n",
       "<table border=\"1\" class=\"dataframe\">\n",
       "  <thead>\n",
       "    <tr style=\"text-align: right;\">\n",
       "      <th></th>\n",
       "      <th>nanoHUB_user_ID__c</th>\n",
       "      <th>NH_survey_results__c</th>\n",
       "    </tr>\n",
       "  </thead>\n",
       "  <tbody>\n",
       "    <tr>\n",
       "      <th>0</th>\n",
       "      <td>170942</td>\n",
       "      <td>Test.</td>\n",
       "    </tr>\n",
       "    <tr>\n",
       "      <th>1</th>\n",
       "      <td>206944</td>\n",
       "      <td>NCN staff test.</td>\n",
       "    </tr>\n",
       "  </tbody>\n",
       "</table>\n",
       "</div>"
      ],
      "text/plain": [
       "   nanoHUB_user_ID__c NH_survey_results__c\n",
       "0              170942                Test.\n",
       "1              206944      NCN staff test."
      ]
     },
     "metadata": {},
     "output_type": "display_data"
    }
   ],
   "source": [
    "survey_df = survey_df.rename(columns={'user_id':'nanoHUB_user_ID__c'})\n",
    "display(survey_df.head(2))"
   ]
  },
  {
   "cell_type": "code",
   "execution_count": 10,
   "id": "2266b0e5",
   "metadata": {
    "execution": {
     "iopub.execute_input": "2021-08-26T04:54:11.310238Z",
     "iopub.status.busy": "2021-08-26T04:54:11.309124Z",
     "iopub.status.idle": "2021-08-26T04:54:11.313776Z",
     "shell.execute_reply": "2021-08-26T04:54:11.314290Z"
    },
    "jupyter": {
     "source_hidden": true
    },
    "papermill": {
     "duration": 0.085123,
     "end_time": "2021-08-26T04:54:11.314465",
     "exception": false,
     "start_time": "2021-08-26T04:54:11.229342",
     "status": "completed"
    },
    "tags": []
   },
   "outputs": [
    {
     "data": {
      "text/html": [
       "<div>\n",
       "<style scoped>\n",
       "    .dataframe tbody tr th:only-of-type {\n",
       "        vertical-align: middle;\n",
       "    }\n",
       "\n",
       "    .dataframe tbody tr th {\n",
       "        vertical-align: top;\n",
       "    }\n",
       "\n",
       "    .dataframe thead th {\n",
       "        text-align: right;\n",
       "    }\n",
       "</style>\n",
       "<table border=\"1\" class=\"dataframe\">\n",
       "  <thead>\n",
       "    <tr style=\"text-align: right;\">\n",
       "      <th></th>\n",
       "      <th>nanoHUB_user_ID__c</th>\n",
       "      <th>NH_survey_results__c</th>\n",
       "    </tr>\n",
       "  </thead>\n",
       "  <tbody>\n",
       "    <tr>\n",
       "      <th>2</th>\n",
       "      <td>3482</td>\n",
       "      <td>This is a test - Gerhard Klimeck, \\r\\nHenry Bu...</td>\n",
       "    </tr>\n",
       "    <tr>\n",
       "      <th>3</th>\n",
       "      <td>3482</td>\n",
       "      <td>Well, let's see what happens when I type anoth...</td>\n",
       "    </tr>\n",
       "    <tr>\n",
       "      <th>49</th>\n",
       "      <td>164228</td>\n",
       "      <td>Wow- what a lot of questions!  I don\\u2019t k ...</td>\n",
       "    </tr>\n",
       "    <tr>\n",
       "      <th>50</th>\n",
       "      <td>164228</td>\n",
       "      <td>Wow- what a lot of questions!  I don\\u2019t k ...</td>\n",
       "    </tr>\n",
       "    <tr>\n",
       "      <th>51</th>\n",
       "      <td>164228</td>\n",
       "      <td>Did you preview this or get any feedback befor...</td>\n",
       "    </tr>\n",
       "    <tr>\n",
       "      <th>83</th>\n",
       "      <td>164228</td>\n",
       "      <td>This is Tanya on 5\\/6\\/2021 submitting somethi...</td>\n",
       "    </tr>\n",
       "    <tr>\n",
       "      <th>1</th>\n",
       "      <td>206944</td>\n",
       "      <td>NCN staff test.</td>\n",
       "    </tr>\n",
       "    <tr>\n",
       "      <th>6</th>\n",
       "      <td>206944</td>\n",
       "      <td>Test 4\\/23</td>\n",
       "    </tr>\n",
       "  </tbody>\n",
       "</table>\n",
       "</div>"
      ],
      "text/plain": [
       "    nanoHUB_user_ID__c                               NH_survey_results__c\n",
       "2                 3482  This is a test - Gerhard Klimeck, \\r\\nHenry Bu...\n",
       "3                 3482  Well, let's see what happens when I type anoth...\n",
       "49              164228  Wow- what a lot of questions!  I don\\u2019t k ...\n",
       "50              164228  Wow- what a lot of questions!  I don\\u2019t k ...\n",
       "51              164228  Did you preview this or get any feedback befor...\n",
       "83              164228  This is Tanya on 5\\/6\\/2021 submitting somethi...\n",
       "1               206944                                    NCN staff test.\n",
       "6               206944                                         Test 4\\/23"
      ]
     },
     "metadata": {},
     "output_type": "display_data"
    }
   ],
   "source": [
    "## check for duplicates, if they exist, then merge\n",
    "duplicates = pd.concat(g for _, g in survey_df.groupby(\"nanoHUB_user_ID__c\") if len(g) > 1)\n",
    "\n",
    "display(duplicates)"
   ]
  },
  {
   "cell_type": "code",
   "execution_count": 11,
   "id": "f35b63ef",
   "metadata": {
    "execution": {
     "iopub.execute_input": "2021-08-26T04:54:11.462219Z",
     "iopub.status.busy": "2021-08-26T04:54:11.461063Z",
     "iopub.status.idle": "2021-08-26T04:54:11.464002Z",
     "shell.execute_reply": "2021-08-26T04:54:11.464446Z"
    },
    "jupyter": {
     "source_hidden": true
    },
    "papermill": {
     "duration": 0.079813,
     "end_time": "2021-08-26T04:54:11.464685",
     "exception": false,
     "start_time": "2021-08-26T04:54:11.384872",
     "status": "completed"
    },
    "tags": []
   },
   "outputs": [],
   "source": [
    "nh_ids = duplicates['nanoHUB_user_ID__c'].to_list()\n",
    "nh_results = duplicates['NH_survey_results__c'].to_list()"
   ]
  },
  {
   "cell_type": "code",
   "execution_count": 12,
   "id": "d3c6d82f",
   "metadata": {
    "execution": {
     "iopub.execute_input": "2021-08-26T04:54:11.614381Z",
     "iopub.status.busy": "2021-08-26T04:54:11.613483Z",
     "iopub.status.idle": "2021-08-26T04:54:11.615381Z",
     "shell.execute_reply": "2021-08-26T04:54:11.615901Z"
    },
    "jupyter": {
     "source_hidden": true
    },
    "papermill": {
     "duration": 0.080279,
     "end_time": "2021-08-26T04:54:11.616199",
     "exception": false,
     "start_time": "2021-08-26T04:54:11.535920",
     "status": "completed"
    },
    "tags": []
   },
   "outputs": [],
   "source": [
    "from collections import Counter"
   ]
  },
  {
   "cell_type": "code",
   "execution_count": 13,
   "id": "30d10fb2",
   "metadata": {
    "execution": {
     "iopub.execute_input": "2021-08-26T04:54:11.763433Z",
     "iopub.status.busy": "2021-08-26T04:54:11.762667Z",
     "iopub.status.idle": "2021-08-26T04:54:11.764725Z",
     "shell.execute_reply": "2021-08-26T04:54:11.765175Z"
    },
    "jupyter": {
     "source_hidden": true
    },
    "papermill": {
     "duration": 0.075384,
     "end_time": "2021-08-26T04:54:11.765344",
     "exception": false,
     "start_time": "2021-08-26T04:54:11.689960",
     "status": "completed"
    },
    "tags": []
   },
   "outputs": [],
   "source": [
    "# build new array\n",
    "dict_nh_ids = Counter(nh_ids)\n",
    "\n",
    "nh_uniques_ids = [i for i in dict_nh_ids.keys()]\n",
    "nh_uniques_freq = [i for i in dict_nh_ids.values()]"
   ]
  },
  {
   "cell_type": "code",
   "execution_count": 14,
   "id": "cd14d216",
   "metadata": {
    "execution": {
     "iopub.execute_input": "2021-08-26T04:54:11.920092Z",
     "iopub.status.busy": "2021-08-26T04:54:11.918981Z",
     "iopub.status.idle": "2021-08-26T04:54:11.921521Z",
     "shell.execute_reply": "2021-08-26T04:54:11.921907Z"
    },
    "jupyter": {
     "source_hidden": true
    },
    "papermill": {
     "duration": 0.077304,
     "end_time": "2021-08-26T04:54:11.922213",
     "exception": false,
     "start_time": "2021-08-26T04:54:11.844909",
     "status": "completed"
    },
    "tags": []
   },
   "outputs": [],
   "source": [
    "survey_res_uniques = []\n",
    "dups_list = duplicates['NH_survey_results__c'].to_list()\n",
    "\n",
    "counter = 0\n",
    "for i,j in enumerate(nh_uniques_freq):\n",
    "    temp_survey_res = []\n",
    "    for k in range(j):\n",
    "        temp_survey_res.append(dups_list[counter+k])\n",
    "        \n",
    "    survey_res_uniques.append('\\n '.join(temp_survey_res) )\n",
    "    \n",
    "    counter += j"
   ]
  },
  {
   "cell_type": "code",
   "execution_count": 15,
   "id": "52b678ea",
   "metadata": {
    "execution": {
     "iopub.execute_input": "2021-08-26T04:54:12.075411Z",
     "iopub.status.busy": "2021-08-26T04:54:12.074628Z",
     "iopub.status.idle": "2021-08-26T04:54:12.078820Z",
     "shell.execute_reply": "2021-08-26T04:54:12.079209Z"
    },
    "jupyter": {
     "source_hidden": true
    },
    "papermill": {
     "duration": 0.085719,
     "end_time": "2021-08-26T04:54:12.079375",
     "exception": false,
     "start_time": "2021-08-26T04:54:11.993656",
     "status": "completed"
    },
    "tags": []
   },
   "outputs": [
    {
     "data": {
      "text/html": [
       "<div>\n",
       "<style scoped>\n",
       "    .dataframe tbody tr th:only-of-type {\n",
       "        vertical-align: middle;\n",
       "    }\n",
       "\n",
       "    .dataframe tbody tr th {\n",
       "        vertical-align: top;\n",
       "    }\n",
       "\n",
       "    .dataframe thead th {\n",
       "        text-align: right;\n",
       "    }\n",
       "</style>\n",
       "<table border=\"1\" class=\"dataframe\">\n",
       "  <thead>\n",
       "    <tr style=\"text-align: right;\">\n",
       "      <th></th>\n",
       "      <th>nanoHUB_user_ID__c</th>\n",
       "      <th>NH_survey_results__c</th>\n",
       "    </tr>\n",
       "  </thead>\n",
       "  <tbody>\n",
       "    <tr>\n",
       "      <th>0</th>\n",
       "      <td>3482</td>\n",
       "      <td>This is a test - Gerhard Klimeck, \\r\\nHenry Bu...</td>\n",
       "    </tr>\n",
       "    <tr>\n",
       "      <th>1</th>\n",
       "      <td>164228</td>\n",
       "      <td>Wow- what a lot of questions!  I don\\u2019t k ...</td>\n",
       "    </tr>\n",
       "    <tr>\n",
       "      <th>2</th>\n",
       "      <td>206944</td>\n",
       "      <td>NCN staff test.\\n Test 4\\/23</td>\n",
       "    </tr>\n",
       "  </tbody>\n",
       "</table>\n",
       "</div>"
      ],
      "text/plain": [
       "   nanoHUB_user_ID__c                               NH_survey_results__c\n",
       "0                3482  This is a test - Gerhard Klimeck, \\r\\nHenry Bu...\n",
       "1              164228  Wow- what a lot of questions!  I don\\u2019t k ...\n",
       "2              206944                       NCN staff test.\\n Test 4\\/23"
      ]
     },
     "metadata": {},
     "output_type": "display_data"
    }
   ],
   "source": [
    "dups_df = pd.DataFrame()\n",
    "dups_df['nanoHUB_user_ID__c'] = nh_uniques_ids\n",
    "dups_df['NH_survey_results__c'] = survey_res_uniques\n",
    "display(dups_df.head(5))"
   ]
  },
  {
   "cell_type": "code",
   "execution_count": 16,
   "id": "6d12bc66",
   "metadata": {
    "execution": {
     "iopub.execute_input": "2021-08-26T04:54:12.229430Z",
     "iopub.status.busy": "2021-08-26T04:54:12.228487Z",
     "iopub.status.idle": "2021-08-26T04:54:12.230693Z",
     "shell.execute_reply": "2021-08-26T04:54:12.231256Z"
    },
    "jupyter": {
     "source_hidden": true
    },
    "papermill": {
     "duration": 0.077487,
     "end_time": "2021-08-26T04:54:12.231509",
     "exception": false,
     "start_time": "2021-08-26T04:54:12.154022",
     "status": "completed"
    },
    "tags": []
   },
   "outputs": [],
   "source": [
    "## send both survey_df and dups_df; dups after survey "
   ]
  },
  {
   "cell_type": "markdown",
   "id": "06083de5",
   "metadata": {
    "papermill": {
     "duration": 0.072598,
     "end_time": "2021-08-26T04:54:12.376961",
     "exception": false,
     "start_time": "2021-08-26T04:54:12.304363",
     "status": "completed"
    },
    "tags": []
   },
   "source": [
    "## Send to SF"
   ]
  },
  {
   "cell_type": "code",
   "execution_count": null,
   "id": "4ffe3b9d",
   "metadata": {
    "execution": {
     "iopub.execute_input": "2021-01-21T08:30:06.197020Z",
     "iopub.status.busy": "2021-01-21T08:30:06.196492Z",
     "iopub.status.idle": "2021-01-21T08:30:06.566904Z",
     "shell.execute_reply": "2021-01-21T08:30:06.567578Z"
    },
    "jupyter": {
     "source_hidden": true
    },
    "papermill": {
     "duration": 0.073857,
     "end_time": "2021-08-26T04:54:12.524845",
     "exception": false,
     "start_time": "2021-08-26T04:54:12.450988",
     "status": "completed"
    },
    "tags": []
   },
   "outputs": [],
   "source": []
  },
  {
   "cell_type": "code",
   "execution_count": 17,
   "id": "2d75e132",
   "metadata": {
    "execution": {
     "iopub.execute_input": "2021-08-26T04:54:12.679174Z",
     "iopub.status.busy": "2021-08-26T04:54:12.678526Z",
     "iopub.status.idle": "2021-08-26T04:54:13.911545Z",
     "shell.execute_reply": "2021-08-26T04:54:13.912117Z"
    },
    "jupyter": {
     "source_hidden": true
    },
    "papermill": {
     "duration": 1.313492,
     "end_time": "2021-08-26T04:54:13.912399",
     "exception": false,
     "start_time": "2021-08-26T04:54:12.598907",
     "status": "completed"
    },
    "tags": []
   },
   "outputs": [
    {
     "name": "stdout",
     "output_type": "stream",
     "text": [
      "[Success] Bulk job creation successful. Job ID = 7505w00000ZJLCLAA5\n",
      "hello\n"
     ]
    },
    {
     "name": "stdout",
     "output_type": "stream",
     "text": [
      "[Success] CSV upload successful. Job ID = 7505w00000ZJLCLAA5\n"
     ]
    },
    {
     "name": "stdout",
     "output_type": "stream",
     "text": [
      "[Success] Closing job successful. Job ID = 7505w00000ZJLCLAA5\n"
     ]
    }
   ],
   "source": [
    "db_s.object_id = object_id\n",
    "db_s.external_id = external_id\n",
    "\n",
    "# send data to Salesforce\n",
    "db_s.send_data(survey_df)"
   ]
  },
  {
   "cell_type": "code",
   "execution_count": 18,
   "id": "44d281e1",
   "metadata": {
    "execution": {
     "iopub.execute_input": "2021-08-26T04:54:14.074534Z",
     "iopub.status.busy": "2021-08-26T04:54:14.073477Z",
     "iopub.status.idle": "2021-08-26T04:54:14.437425Z",
     "shell.execute_reply": "2021-08-26T04:54:14.438503Z"
    },
    "jupyter": {
     "source_hidden": true
    },
    "papermill": {
     "duration": 0.444355,
     "end_time": "2021-08-26T04:54:14.438913",
     "exception": false,
     "start_time": "2021-08-26T04:54:13.994558",
     "status": "completed"
    },
    "tags": []
   },
   "outputs": [
    {
     "data": {
      "text/plain": [
       "{'id': '7505w00000ZJLCLAA5',\n",
       " 'operation': 'upsert',\n",
       " 'object': 'Contact',\n",
       " 'createdById': '0055w00000DM5bOAAT',\n",
       " 'createdDate': '2021-08-26T04:54:13.000+0000',\n",
       " 'systemModstamp': '2021-08-26T04:54:13.000+0000',\n",
       " 'state': 'UploadComplete',\n",
       " 'externalIdFieldName': 'nanoHUB_user_ID__c',\n",
       " 'concurrencyMode': 'Parallel',\n",
       " 'contentType': 'CSV',\n",
       " 'apiVersion': 47.0,\n",
       " 'jobType': 'V2Ingest',\n",
       " 'lineEnding': 'LF',\n",
       " 'columnDelimiter': 'COMMA',\n",
       " 'numberRecordsProcessed': 0,\n",
       " 'numberRecordsFailed': 0,\n",
       " 'retries': 0,\n",
       " 'totalProcessingTime': 0,\n",
       " 'apiActiveProcessingTime': 0,\n",
       " 'apexProcessingTime': 0}"
      ]
     },
     "execution_count": 18,
     "metadata": {},
     "output_type": "execute_result"
    }
   ],
   "source": [
    "# check status\n",
    "db_s.check_bulk_status()"
   ]
  },
  {
   "cell_type": "code",
   "execution_count": 19,
   "id": "26913bb3",
   "metadata": {
    "execution": {
     "iopub.execute_input": "2021-08-26T04:54:14.605056Z",
     "iopub.status.busy": "2021-08-26T04:54:14.604258Z",
     "iopub.status.idle": "2021-08-26T04:54:14.878848Z",
     "shell.execute_reply": "2021-08-26T04:54:14.879454Z"
    },
    "jupyter": {
     "source_hidden": true
    },
    "papermill": {
     "duration": 0.35688,
     "end_time": "2021-08-26T04:54:14.879687",
     "exception": false,
     "start_time": "2021-08-26T04:54:14.522807",
     "status": "completed"
    },
    "tags": []
   },
   "outputs": [
    {
     "name": "stdout",
     "output_type": "stream",
     "text": [
      "''\n"
     ]
    }
   ],
   "source": [
    "# check status\n",
    "from pprint import pprint\n",
    "\n",
    "pprint(db_s.check_bulk_failed_results())"
   ]
  },
  {
   "cell_type": "code",
   "execution_count": 20,
   "id": "b850b0b5",
   "metadata": {
    "execution": {
     "iopub.execute_input": "2021-08-26T04:54:15.045139Z",
     "iopub.status.busy": "2021-08-26T04:54:15.044489Z",
     "iopub.status.idle": "2021-08-26T04:54:15.046739Z",
     "shell.execute_reply": "2021-08-26T04:54:15.047119Z"
    },
    "jupyter": {
     "source_hidden": true
    },
    "papermill": {
     "duration": 0.082951,
     "end_time": "2021-08-26T04:54:15.047293",
     "exception": false,
     "start_time": "2021-08-26T04:54:14.964342",
     "status": "completed"
    },
    "tags": []
   },
   "outputs": [],
   "source": [
    "## second send for dups_df"
   ]
  },
  {
   "cell_type": "code",
   "execution_count": 21,
   "id": "2f3a02da",
   "metadata": {
    "execution": {
     "iopub.execute_input": "2021-08-26T04:54:15.218370Z",
     "iopub.status.busy": "2021-08-26T04:54:15.217169Z",
     "iopub.status.idle": "2021-08-26T04:54:15.220352Z",
     "shell.execute_reply": "2021-08-26T04:54:15.220797Z"
    },
    "jupyter": {
     "source_hidden": true
    },
    "papermill": {
     "duration": 0.086829,
     "end_time": "2021-08-26T04:54:15.221056",
     "exception": false,
     "start_time": "2021-08-26T04:54:15.134227",
     "status": "completed"
    },
    "tags": []
   },
   "outputs": [],
   "source": [
    "# create DB2 to Salesforce API object\n",
    "db_2 = salesforce"
   ]
  },
  {
   "cell_type": "code",
   "execution_count": 22,
   "id": "9f27ff50",
   "metadata": {
    "execution": {
     "iopub.execute_input": "2021-08-26T04:54:15.379676Z",
     "iopub.status.busy": "2021-08-26T04:54:15.378737Z",
     "iopub.status.idle": "2021-08-26T04:54:16.425192Z",
     "shell.execute_reply": "2021-08-26T04:54:16.425709Z"
    },
    "jupyter": {
     "source_hidden": true
    },
    "papermill": {
     "duration": 1.128514,
     "end_time": "2021-08-26T04:54:16.426188",
     "exception": false,
     "start_time": "2021-08-26T04:54:15.297674",
     "status": "completed"
    },
    "tags": []
   },
   "outputs": [
    {
     "name": "stdout",
     "output_type": "stream",
     "text": [
      "[Success] Bulk job creation successful. Job ID = 7505w00000ZJLCQAA5\n",
      "hello\n"
     ]
    },
    {
     "name": "stdout",
     "output_type": "stream",
     "text": [
      "[Success] CSV upload successful. Job ID = 7505w00000ZJLCQAA5\n"
     ]
    },
    {
     "name": "stdout",
     "output_type": "stream",
     "text": [
      "[Success] Closing job successful. Job ID = 7505w00000ZJLCQAA5\n"
     ]
    }
   ],
   "source": [
    "db_2.object_id = object_id\n",
    "db_2.external_id = external_id\n",
    "\n",
    "# send data to Salesforce\n",
    "db_2.send_data(dups_df)"
   ]
  },
  {
   "cell_type": "code",
   "execution_count": 23,
   "id": "c0ccfa55",
   "metadata": {
    "execution": {
     "iopub.execute_input": "2021-08-26T04:54:16.599385Z",
     "iopub.status.busy": "2021-08-26T04:54:16.598650Z",
     "iopub.status.idle": "2021-08-26T04:54:16.903067Z",
     "shell.execute_reply": "2021-08-26T04:54:16.903630Z"
    },
    "jupyter": {
     "source_hidden": true
    },
    "papermill": {
     "duration": 0.3962,
     "end_time": "2021-08-26T04:54:16.903897",
     "exception": false,
     "start_time": "2021-08-26T04:54:16.507697",
     "status": "completed"
    },
    "tags": []
   },
   "outputs": [
    {
     "data": {
      "text/plain": [
       "{'id': '7505w00000ZJLCQAA5',\n",
       " 'operation': 'upsert',\n",
       " 'object': 'Contact',\n",
       " 'createdById': '0055w00000DM5bOAAT',\n",
       " 'createdDate': '2021-08-26T04:54:15.000+0000',\n",
       " 'systemModstamp': '2021-08-26T04:54:16.000+0000',\n",
       " 'state': 'UploadComplete',\n",
       " 'externalIdFieldName': 'nanoHUB_user_ID__c',\n",
       " 'concurrencyMode': 'Parallel',\n",
       " 'contentType': 'CSV',\n",
       " 'apiVersion': 47.0,\n",
       " 'jobType': 'V2Ingest',\n",
       " 'lineEnding': 'LF',\n",
       " 'columnDelimiter': 'COMMA',\n",
       " 'numberRecordsProcessed': 0,\n",
       " 'numberRecordsFailed': 0,\n",
       " 'retries': 0,\n",
       " 'totalProcessingTime': 0,\n",
       " 'apiActiveProcessingTime': 0,\n",
       " 'apexProcessingTime': 0}"
      ]
     },
     "execution_count": 23,
     "metadata": {},
     "output_type": "execute_result"
    }
   ],
   "source": [
    "# check status\n",
    "db_2.check_bulk_status()"
   ]
  },
  {
   "cell_type": "code",
   "execution_count": 24,
   "id": "84d6b2fb",
   "metadata": {
    "execution": {
     "iopub.execute_input": "2021-08-26T04:54:17.071077Z",
     "iopub.status.busy": "2021-08-26T04:54:17.070084Z",
     "iopub.status.idle": "2021-08-26T04:54:17.288844Z",
     "shell.execute_reply": "2021-08-26T04:54:17.289733Z"
    },
    "jupyter": {
     "source_hidden": true
    },
    "papermill": {
     "duration": 0.302919,
     "end_time": "2021-08-26T04:54:17.290028",
     "exception": false,
     "start_time": "2021-08-26T04:54:16.987109",
     "status": "completed"
    },
    "tags": []
   },
   "outputs": [
    {
     "name": "stdout",
     "output_type": "stream",
     "text": [
      "''\n"
     ]
    }
   ],
   "source": [
    "# check status\n",
    "pprint(db_2.check_bulk_failed_results())"
   ]
  },
  {
   "cell_type": "code",
   "execution_count": null,
   "id": "d7a40bbe",
   "metadata": {
    "jupyter": {
     "source_hidden": true
    },
    "papermill": {
     "duration": 0.08242,
     "end_time": "2021-08-26T04:54:17.462817",
     "exception": false,
     "start_time": "2021-08-26T04:54:17.380397",
     "status": "completed"
    },
    "tags": []
   },
   "outputs": [],
   "source": []
  }
 ],
 "metadata": {
  "kernelspec": {
   "display_name": "Python 3",
   "language": "python",
   "name": "python3"
  },
  "language_info": {
   "codemirror_mode": {
    "name": "ipython",
    "version": 3
   },
   "file_extension": ".py",
   "mimetype": "text/x-python",
   "name": "python",
   "nbconvert_exporter": "python",
   "pygments_lexer": "ipython3",
   "version": "3.8.2"
  },
  "papermill": {
   "duration": 12.483867,
   "end_time": "2021-08-26T04:54:17.866583",
   "environment_variables": {},
   "exception": null,
   "input_path": "nanoHUB/pipeline/salesforce/task_nh_usage_survey.ipynb",
   "output_path": "./.output/task_nh_usage_survey.ipynb",
   "parameters": {},
   "start_time": "2021-08-26T04:54:05.382716",
   "version": "2.1.1"
  }
 },
 "nbformat": 4,
 "nbformat_minor": 5
}