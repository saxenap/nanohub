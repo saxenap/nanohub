{
 "cells": [
  {
   "cell_type": "markdown",
   "id": "17137f1e",
   "metadata": {
    "tags": [
     "papermill-error-cell-tag"
    ]
   },
   "source": [
    "<span style=\"color:red; font-family:Helvetica Neue, Helvetica, Arial, sans-serif; font-size:2em;\">An Exception was encountered at '<a href=\"#papermill-error-cell\">In [6]</a>'.</span>"
   ]
  },
  {
   "cell_type": "markdown",
   "id": "90a84344",
   "metadata": {
    "papermill": {
     "duration": 0.060885,
     "end_time": "2021-08-26T04:51:27.570807",
     "exception": false,
     "start_time": "2021-08-26T04:51:27.509922",
     "status": "completed"
    },
    "tags": []
   },
   "source": [
    "# Reclassify user/contact organizations"
   ]
  },
  {
   "cell_type": "raw",
   "id": "e7fc3c04",
   "metadata": {
    "papermill": {
     "duration": 0.071688,
     "end_time": "2021-08-26T04:51:27.713133",
     "exception": false,
     "start_time": "2021-08-26T04:51:27.641445",
     "status": "completed"
    },
    "tags": []
   },
   "source": [
    "## this notebook does\n",
    "1) fix the email domain classification errors (e.g. if gmail.com, then should have empty classification\n",
    "2) fix overall decision making\n",
    "3) if there is a non-commercial domain, then that domain conflicts with nanohub user self-described org, then turn on organizational conflict flag\n",
    "\n",
    "Since all of these goals rely on the Salesforce side, only need to import data from SF"
   ]
  },
  {
   "cell_type": "code",
   "execution_count": 1,
   "id": "140950d9",
   "metadata": {
    "execution": {
     "iopub.execute_input": "2021-08-26T04:51:27.860511Z",
     "iopub.status.busy": "2021-08-26T04:51:27.859116Z",
     "iopub.status.idle": "2021-08-26T04:51:30.520692Z",
     "shell.execute_reply": "2021-08-26T04:51:30.521334Z"
    },
    "jupyter": {
     "source_hidden": true
    },
    "papermill": {
     "duration": 2.736653,
     "end_time": "2021-08-26T04:51:30.521680",
     "exception": false,
     "start_time": "2021-08-26T04:51:27.785027",
     "status": "completed"
    },
    "tags": [
     "parameters"
    ]
   },
   "outputs": [
    {
     "name": "stdout",
     "output_type": "stream",
     "text": [
      "\u001b[1mnanoHUB - Serving Students, Researchers & Instructors\u001b[0m\n"
     ]
    },
    {
     "name": "stdout",
     "output_type": "stream",
     "text": [
      "Obtained Salesforce access token ...... True\n"
     ]
    }
   ],
   "source": [
    "# API settings\n",
    "api_url = '/services/data/v43.0/sobjects'\n",
    "object_id = 'Contact'\n",
    "external_id = 'nanoHUB_user_ID__c'\n",
    "\n",
    "# login parameters to be handled by Papermill\n",
    "from nanoHUB.application import Application\n",
    "\n",
    "application = Application.get_instance()\n",
    "\n",
    "\n",
    "salesforce = application.new_salesforce_engine()\n",
    "db_s = salesforce\n"
   ]
  },
  {
   "cell_type": "code",
   "execution_count": 2,
   "id": "3f3217d8",
   "metadata": {
    "execution": {
     "iopub.execute_input": "2021-08-26T04:51:30.646818Z",
     "iopub.status.busy": "2021-08-26T04:51:30.646219Z",
     "iopub.status.idle": "2021-08-26T04:51:30.647855Z",
     "shell.execute_reply": "2021-08-26T04:51:30.648335Z"
    },
    "jupyter": {
     "source_hidden": true
    },
    "papermill": {
     "duration": 0.062124,
     "end_time": "2021-08-26T04:51:30.648525",
     "exception": false,
     "start_time": "2021-08-26T04:51:30.586401",
     "status": "completed"
    },
    "tags": []
   },
   "outputs": [],
   "source": [
    "import pandas as pd\n",
    "import datetime"
   ]
  },
  {
   "cell_type": "markdown",
   "id": "1b14cf09",
   "metadata": {
    "papermill": {
     "duration": 0.0618,
     "end_time": "2021-08-26T04:51:30.769464",
     "exception": false,
     "start_time": "2021-08-26T04:51:30.707664",
     "status": "completed"
    },
    "tags": []
   },
   "source": [
    "## Obtain user org classifications from Salesforce"
   ]
  },
  {
   "cell_type": "code",
   "execution_count": 3,
   "id": "1c91d9a4",
   "metadata": {
    "execution": {
     "iopub.execute_input": "2021-08-26T04:51:30.885424Z",
     "iopub.status.busy": "2021-08-26T04:51:30.884770Z",
     "iopub.status.idle": "2021-08-26T04:52:03.742490Z",
     "shell.execute_reply": "2021-08-26T04:52:03.742914Z"
    },
    "jupyter": {
     "source_hidden": true
    },
    "papermill": {
     "duration": 32.916128,
     "end_time": "2021-08-26T04:52:03.743129",
     "exception": false,
     "start_time": "2021-08-26T04:51:30.827001",
     "status": "completed"
    },
    "tags": []
   },
   "outputs": [
    {
     "name": "stdout",
     "output_type": "stream",
     "text": [
      "[Success] Bulk job creation successful. Job ID = 7505w00000ZJLA6AAP\n"
     ]
    },
    {
     "name": "stdout",
     "output_type": "stream",
     "text": [
      "{\"id\":\"7505w00000ZJLA6AAP\",\"operation\":\"query\",\"object\":\"Contact\",\"createdById\":\"0055w00000DM5bOAAT\",\"createdDate\":\"2021-08-26T04:51:31.000+0000\",\"systemModstamp\":\"2021-08-26T04:51:31.000+0000\",\"state\":\"UploadComplete\",\"concurrencyMode\":\"Parallel\",\"contentType\":\"CSV\",\"apiVersion\":47.0,\"jobType\":\"V2Query\",\"lineEnding\":\"LF\",\"columnDelimiter\":\"COMMA\",\"retries\":0,\"totalProcessingTime\":0}\n"
     ]
    },
    {
     "name": "stdout",
     "output_type": "stream",
     "text": [
      "{\"id\":\"7505w00000ZJLA6AAP\",\"operation\":\"query\",\"object\":\"Contact\",\"createdById\":\"0055w00000DM5bOAAT\",\"createdDate\":\"2021-08-26T04:51:31.000+0000\",\"systemModstamp\":\"2021-08-26T04:51:39.000+0000\",\"state\":\"InProgress\",\"concurrencyMode\":\"Parallel\",\"contentType\":\"CSV\",\"apiVersion\":47.0,\"jobType\":\"V2Query\",\"lineEnding\":\"LF\",\"columnDelimiter\":\"COMMA\",\"numberRecordsProcessed\":0,\"retries\":0,\"totalProcessingTime\":0}\n"
     ]
    },
    {
     "name": "stdout",
     "output_type": "stream",
     "text": [
      "{\"id\":\"7505w00000ZJLA6AAP\",\"operation\":\"query\",\"object\":\"Contact\",\"createdById\":\"0055w00000DM5bOAAT\",\"createdDate\":\"2021-08-26T04:51:31.000+0000\",\"systemModstamp\":\"2021-08-26T04:51:39.000+0000\",\"state\":\"InProgress\",\"concurrencyMode\":\"Parallel\",\"contentType\":\"CSV\",\"apiVersion\":47.0,\"jobType\":\"V2Query\",\"lineEnding\":\"LF\",\"columnDelimiter\":\"COMMA\",\"numberRecordsProcessed\":0,\"retries\":0,\"totalProcessingTime\":0}\n"
     ]
    },
    {
     "name": "stdout",
     "output_type": "stream",
     "text": [
      "{\"id\":\"7505w00000ZJLA6AAP\",\"operation\":\"query\",\"object\":\"Contact\",\"createdById\":\"0055w00000DM5bOAAT\",\"createdDate\":\"2021-08-26T04:51:31.000+0000\",\"systemModstamp\":\"2021-08-26T04:51:55.000+0000\",\"state\":\"JobComplete\",\"concurrencyMode\":\"Parallel\",\"contentType\":\"CSV\",\"apiVersion\":47.0,\"jobType\":\"V2Query\",\"lineEnding\":\"LF\",\"columnDelimiter\":\"COMMA\",\"numberRecordsProcessed\":5000,\"retries\":0,\"totalProcessingTime\":3210}\n",
      "[Success] Bulk job completed successfully.\n"
     ]
    },
    {
     "data": {
      "text/html": [
       "<div>\n",
       "<style scoped>\n",
       "    .dataframe tbody tr th:only-of-type {\n",
       "        vertical-align: middle;\n",
       "    }\n",
       "\n",
       "    .dataframe tbody tr th {\n",
       "        vertical-align: top;\n",
       "    }\n",
       "\n",
       "    .dataframe thead th {\n",
       "        text-align: right;\n",
       "    }\n",
       "</style>\n",
       "<table border=\"1\" class=\"dataframe\">\n",
       "  <thead>\n",
       "    <tr style=\"text-align: right;\">\n",
       "      <th></th>\n",
       "      <th>Email</th>\n",
       "      <th>Id</th>\n",
       "      <th>Organization_Conflict__c</th>\n",
       "      <th>Organization__c</th>\n",
       "      <th>Organization_composite__c</th>\n",
       "      <th>Organization_email_derived__c</th>\n",
       "      <th>nanoHUB_user_ID__c</th>\n",
       "    </tr>\n",
       "  </thead>\n",
       "  <tbody>\n",
       "    <tr>\n",
       "      <th>0</th>\n",
       "      <td>lisagundy@arizona.edu</td>\n",
       "      <td>0035w00003EE0MoAAL</td>\n",
       "      <td>False</td>\n",
       "      <td>NaN</td>\n",
       "      <td>a0r5w00000V433WAAR</td>\n",
       "      <td>a0r5w00000V433WAAR</td>\n",
       "      <td>NaN</td>\n",
       "    </tr>\n",
       "    <tr>\n",
       "      <th>1</th>\n",
       "      <td>asdf1234@invalidaddress5.org</td>\n",
       "      <td>0035w00003DA2NpAAL</td>\n",
       "      <td>False</td>\n",
       "      <td>NaN</td>\n",
       "      <td>NaN</td>\n",
       "      <td>NaN</td>\n",
       "      <td>NaN</td>\n",
       "    </tr>\n",
       "    <tr>\n",
       "      <th>2</th>\n",
       "      <td>defnitelynotanemail7193@purdue.edu</td>\n",
       "      <td>0035w00003DA2MmAAL</td>\n",
       "      <td>False</td>\n",
       "      <td>NaN</td>\n",
       "      <td>a0r5w00000V42cCAAR</td>\n",
       "      <td>a0r5w00000V42cCAAR</td>\n",
       "      <td>NaN</td>\n",
       "    </tr>\n",
       "  </tbody>\n",
       "</table>\n",
       "</div>"
      ],
      "text/plain": [
       "                                Email                  Id  \\\n",
       "0               lisagundy@arizona.edu  0035w00003EE0MoAAL   \n",
       "1        asdf1234@invalidaddress5.org  0035w00003DA2NpAAL   \n",
       "2  defnitelynotanemail7193@purdue.edu  0035w00003DA2MmAAL   \n",
       "\n",
       "   Organization_Conflict__c Organization__c Organization_composite__c  \\\n",
       "0                     False             NaN        a0r5w00000V433WAAR   \n",
       "1                     False             NaN                       NaN   \n",
       "2                     False             NaN        a0r5w00000V42cCAAR   \n",
       "\n",
       "  Organization_email_derived__c  nanoHUB_user_ID__c  \n",
       "0            a0r5w00000V433WAAR                 NaN  \n",
       "1                           NaN                 NaN  \n",
       "2            a0r5w00000V42cCAAR                 NaN  "
      ]
     },
     "execution_count": 3,
     "metadata": {},
     "output_type": "execute_result"
    }
   ],
   "source": [
    "# get Salesforce ID for organizations\n",
    "contact_org_df = db_s.query_data('SELECT Id, nanoHUB_user_ID__c, Email, Organization_composite__c,\\\n",
    "Organization_email_derived__c, Organization_Conflict__c, \\\n",
    "Organization__c FROM Contact Order by nanoHUB_user_ID__c DESC limit 5000') # limit 5000\n",
    "\n",
    "#Organization_citation_derived__c\n",
    "\n",
    "# display\n",
    "contact_org_df.head(3)"
   ]
  },
  {
   "cell_type": "code",
   "execution_count": 4,
   "id": "b69b95e3",
   "metadata": {
    "execution": {
     "iopub.execute_input": "2021-08-26T04:52:03.899055Z",
     "iopub.status.busy": "2021-08-26T04:52:03.897975Z",
     "iopub.status.idle": "2021-08-26T04:52:28.802612Z",
     "shell.execute_reply": "2021-08-26T04:52:28.801939Z"
    },
    "jupyter": {
     "source_hidden": true
    },
    "papermill": {
     "duration": 24.992263,
     "end_time": "2021-08-26T04:52:28.802824",
     "exception": false,
     "start_time": "2021-08-26T04:52:03.810561",
     "status": "completed"
    },
    "tags": []
   },
   "outputs": [
    {
     "name": "stdout",
     "output_type": "stream",
     "text": [
      "[Success] Bulk job creation successful. Job ID = 7505w00000ZJLAVAA5\n"
     ]
    },
    {
     "name": "stdout",
     "output_type": "stream",
     "text": [
      "{\"id\":\"7505w00000ZJLAVAA5\",\"operation\":\"query\",\"object\":\"organization__c\",\"createdById\":\"0055w00000DM5bOAAT\",\"createdDate\":\"2021-08-26T04:52:04.000+0000\",\"systemModstamp\":\"2021-08-26T04:52:04.000+0000\",\"state\":\"UploadComplete\",\"concurrencyMode\":\"Parallel\",\"contentType\":\"CSV\",\"apiVersion\":47.0,\"jobType\":\"V2Query\",\"lineEnding\":\"LF\",\"columnDelimiter\":\"COMMA\",\"retries\":0,\"totalProcessingTime\":0}\n"
     ]
    },
    {
     "name": "stdout",
     "output_type": "stream",
     "text": [
      "{\"id\":\"7505w00000ZJLAVAA5\",\"operation\":\"query\",\"object\":\"organization__c\",\"createdById\":\"0055w00000DM5bOAAT\",\"createdDate\":\"2021-08-26T04:52:04.000+0000\",\"systemModstamp\":\"2021-08-26T04:52:13.000+0000\",\"state\":\"InProgress\",\"concurrencyMode\":\"Parallel\",\"contentType\":\"CSV\",\"apiVersion\":47.0,\"jobType\":\"V2Query\",\"lineEnding\":\"LF\",\"columnDelimiter\":\"COMMA\",\"numberRecordsProcessed\":0,\"retries\":0,\"totalProcessingTime\":0}\n"
     ]
    },
    {
     "name": "stdout",
     "output_type": "stream",
     "text": [
      "{\"id\":\"7505w00000ZJLAVAA5\",\"operation\":\"query\",\"object\":\"organization__c\",\"createdById\":\"0055w00000DM5bOAAT\",\"createdDate\":\"2021-08-26T04:52:04.000+0000\",\"systemModstamp\":\"2021-08-26T04:52:18.000+0000\",\"state\":\"JobComplete\",\"concurrencyMode\":\"Parallel\",\"contentType\":\"CSV\",\"apiVersion\":47.0,\"jobType\":\"V2Query\",\"lineEnding\":\"LF\",\"columnDelimiter\":\"COMMA\",\"numberRecordsProcessed\":6463,\"retries\":0,\"totalProcessingTime\":577}\n",
      "[Success] Bulk job completed successfully.\n"
     ]
    },
    {
     "data": {
      "text/html": [
       "<div>\n",
       "<style scoped>\n",
       "    .dataframe tbody tr th:only-of-type {\n",
       "        vertical-align: middle;\n",
       "    }\n",
       "\n",
       "    .dataframe tbody tr th {\n",
       "        vertical-align: top;\n",
       "    }\n",
       "\n",
       "    .dataframe thead th {\n",
       "        text-align: right;\n",
       "    }\n",
       "</style>\n",
       "<table border=\"1\" class=\"dataframe\">\n",
       "  <thead>\n",
       "    <tr style=\"text-align: right;\">\n",
       "      <th></th>\n",
       "      <th>Domain__c</th>\n",
       "      <th>Id</th>\n",
       "      <th>Name</th>\n",
       "    </tr>\n",
       "  </thead>\n",
       "  <tbody>\n",
       "    <tr>\n",
       "      <th>0</th>\n",
       "      <td>upenn.edu</td>\n",
       "      <td>a0r5w00000V42c0AAB</td>\n",
       "      <td>University of Pennsylvania</td>\n",
       "    </tr>\n",
       "    <tr>\n",
       "      <th>1</th>\n",
       "      <td>fer.hr</td>\n",
       "      <td>a0r5w00000V42c1AAB</td>\n",
       "      <td>fer</td>\n",
       "    </tr>\n",
       "  </tbody>\n",
       "</table>\n",
       "</div>"
      ],
      "text/plain": [
       "   Domain__c                  Id                        Name\n",
       "0  upenn.edu  a0r5w00000V42c0AAB  University of Pennsylvania\n",
       "1     fer.hr  a0r5w00000V42c1AAB                         fer"
      ]
     },
     "metadata": {},
     "output_type": "display_data"
    },
    {
     "name": "stdout",
     "output_type": "stream",
     "text": [
      "(6463, 3)\n"
     ]
    }
   ],
   "source": [
    "# pull all the organizations from SF to get their unique tokens\n",
    "all_org_df = db_s.query_data('SELECT Id, Name, Domain__c FROM Organization__c')\n",
    "\n",
    "display(all_org_df.head(2))\n",
    "print(all_org_df.shape)"
   ]
  },
  {
   "cell_type": "code",
   "execution_count": 5,
   "id": "ee3f78ba",
   "metadata": {
    "execution": {
     "iopub.execute_input": "2021-08-26T04:52:28.954830Z",
     "iopub.status.busy": "2021-08-26T04:52:28.951664Z",
     "iopub.status.idle": "2021-08-26T04:52:28.957804Z",
     "shell.execute_reply": "2021-08-26T04:52:28.958267Z"
    },
    "jupyter": {
     "source_hidden": true
    },
    "papermill": {
     "duration": 0.082826,
     "end_time": "2021-08-26T04:52:28.958478",
     "exception": false,
     "start_time": "2021-08-26T04:52:28.875652",
     "status": "completed"
    },
    "tags": []
   },
   "outputs": [
    {
     "data": {
      "text/plain": [
       "0            arizona.edu\n",
       "1    invalidaddress5.org\n",
       "Name: Email, dtype: object"
      ]
     },
     "metadata": {},
     "output_type": "display_data"
    }
   ],
   "source": [
    "## extract the domain from contact_org_df\n",
    "user_domains = contact_org_df['Email'].fillna(' ').apply(lambda x: x.split('@')[-1])\n",
    "display(user_domains.head(2))"
   ]
  },
  {
   "cell_type": "markdown",
   "id": "00b6d0aa",
   "metadata": {
    "tags": [
     "papermill-error-cell-tag"
    ]
   },
   "source": [
    "<span id=\"papermill-error-cell\" style=\"color:red; font-family:Helvetica Neue, Helvetica, Arial, sans-serif; font-size:2em;\">Execution using papermill encountered an exception here and stopped:</span>"
   ]
  },
  {
   "cell_type": "code",
   "execution_count": 6,
   "id": "8e727662",
   "metadata": {
    "execution": {
     "iopub.execute_input": "2021-08-26T04:52:29.111043Z",
     "iopub.status.busy": "2021-08-26T04:52:29.110275Z",
     "iopub.status.idle": "2021-08-26T04:52:29.394984Z",
     "shell.execute_reply": "2021-08-26T04:52:29.394254Z"
    },
    "jupyter": {
     "source_hidden": true
    },
    "papermill": {
     "duration": 0.361825,
     "end_time": "2021-08-26T04:52:29.395256",
     "exception": true,
     "start_time": "2021-08-26T04:52:29.033431",
     "status": "failed"
    },
    "tags": []
   },
   "outputs": [
    {
     "ename": "ModuleNotFoundError",
     "evalue": "No module named 'commercial_domains'",
     "output_type": "error",
     "traceback": [
      "\u001b[0;31m---------------------------------------------------------------------------\u001b[0m",
      "\u001b[0;31mModuleNotFoundError\u001b[0m                       Traceback (most recent call last)",
      "\u001b[0;32m/var/folders/64/2zrjfqsn7x3fxjzpq46kqcyr0000gp/T/ipykernel_13171/2890946390.py\u001b[0m in \u001b[0;36m<module>\u001b[0;34m\u001b[0m\n\u001b[1;32m      1\u001b[0m \u001b[0;31m## if contact domain is a commercial email domain, then find the index and empty out the entry\u001b[0m\u001b[0;34m\u001b[0m\u001b[0;34m\u001b[0m\u001b[0;34m\u001b[0m\u001b[0m\n\u001b[0;32m----> 2\u001b[0;31m \u001b[0;32mimport\u001b[0m \u001b[0mcommercial_domains\u001b[0m \u001b[0;32mas\u001b[0m \u001b[0mcdomains\u001b[0m\u001b[0;34m\u001b[0m\u001b[0;34m\u001b[0m\u001b[0m\n\u001b[0m\u001b[1;32m      3\u001b[0m \u001b[0muser_domains\u001b[0m \u001b[0;34m=\u001b[0m \u001b[0muser_domains\u001b[0m\u001b[0;34m.\u001b[0m\u001b[0mapply\u001b[0m\u001b[0;34m(\u001b[0m\u001b[0;32mlambda\u001b[0m \u001b[0mx\u001b[0m\u001b[0;34m:\u001b[0m \u001b[0;34m' '\u001b[0m \u001b[0;32mif\u001b[0m \u001b[0mx\u001b[0m \u001b[0;32min\u001b[0m \u001b[0mcdomains\u001b[0m\u001b[0;34m.\u001b[0m\u001b[0mdomains\u001b[0m \u001b[0;32melse\u001b[0m \u001b[0mx\u001b[0m\u001b[0;34m)\u001b[0m\u001b[0;34m\u001b[0m\u001b[0;34m\u001b[0m\u001b[0m\n\u001b[1;32m      4\u001b[0m \u001b[0mdisplay\u001b[0m\u001b[0;34m(\u001b[0m\u001b[0muser_domains\u001b[0m\u001b[0;34m.\u001b[0m\u001b[0mhead\u001b[0m\u001b[0;34m(\u001b[0m\u001b[0;36m2\u001b[0m\u001b[0;34m)\u001b[0m\u001b[0;34m)\u001b[0m\u001b[0;34m\u001b[0m\u001b[0;34m\u001b[0m\u001b[0m\n",
      "\u001b[0;31mModuleNotFoundError\u001b[0m: No module named 'commercial_domains'"
     ]
    }
   ],
   "source": [
    "## if contact domain is a commercial email domain, then find the index and empty out the entry \n",
    "import commercial_domains as cdomains\n",
    "user_domains = user_domains.apply(lambda x: ' ' if x in cdomains.domains else x)\n",
    "display(user_domains.head(2))"
   ]
  },
  {
   "cell_type": "code",
   "execution_count": null,
   "id": "cac31a39",
   "metadata": {
    "execution": {
     "iopub.execute_input": "2021-01-21T08:30:28.241614Z",
     "iopub.status.busy": "2021-01-21T08:30:28.241064Z",
     "iopub.status.idle": "2021-01-21T08:30:28.256756Z",
     "shell.execute_reply": "2021-01-21T08:30:28.256331Z"
    },
    "jupyter": {
     "source_hidden": true
    },
    "papermill": {
     "duration": null,
     "end_time": null,
     "exception": null,
     "start_time": null,
     "status": "pending"
    },
    "tags": []
   },
   "outputs": [],
   "source": [
    "## finding indexes in contact_org_df and zero out Organization_email_derived__c\n",
    "indices = [i for i, x in enumerate(user_domains.to_list()) if x == ' ']\n",
    "\n",
    "contact_org_df['Organization_email_derived__c'][indices] = ' '\n",
    "\n",
    "## list comprehension method\n",
    "display(contact_org_df.head(5))\n"
   ]
  },
  {
   "cell_type": "code",
   "execution_count": null,
   "id": "bebc782f",
   "metadata": {
    "execution": {
     "iopub.execute_input": "2021-01-21T08:30:28.307353Z",
     "iopub.status.busy": "2021-01-21T08:30:28.306750Z",
     "iopub.status.idle": "2021-01-21T08:30:28.313287Z",
     "shell.execute_reply": "2021-01-21T08:30:28.312762Z"
    },
    "jupyter": {
     "source_hidden": true
    },
    "papermill": {
     "duration": null,
     "end_time": null,
     "exception": null,
     "start_time": null,
     "status": "pending"
    },
    "tags": []
   },
   "outputs": [],
   "source": [
    "## match/find all_org_df ID values\n",
    "nh_orgs = contact_org_df['Organization__c'].fillna(' ').apply(lambda x: x.lower())\n",
    "sf_org_strings = all_org_df['Name'].fillna(' ').apply(lambda x: x.lower()).to_list()\n",
    "sf_org_ids = all_org_df['Id'].fillna(' ')"
   ]
  },
  {
   "cell_type": "code",
   "execution_count": null,
   "id": "d4ecb09e",
   "metadata": {
    "execution": {
     "iopub.execute_input": "2021-01-21T08:30:28.362689Z",
     "iopub.status.busy": "2021-01-21T08:30:28.361903Z",
     "iopub.status.idle": "2021-01-21T08:30:28.405671Z",
     "shell.execute_reply": "2021-01-21T08:30:28.406070Z"
    },
    "jupyter": {
     "source_hidden": true
    },
    "papermill": {
     "duration": null,
     "end_time": null,
     "exception": null,
     "start_time": null,
     "status": "pending"
    },
    "tags": []
   },
   "outputs": [],
   "source": [
    "# continued from above snippet\n",
    "indices = [i for i, x in enumerate(nh_orgs.to_list()) if x != ' ']\n",
    "\n",
    "#check if organization already has a SF entry\n",
    "for i in indices:\n",
    "    if nh_orgs[i] in sf_org_strings: #if exact match\n",
    "        t_index = sf_org_strings.index(nh_orgs[i]) #pull exact id\n",
    "        nh_orgs[i] = sf_org_ids[t_index]\n",
    "    else:\n",
    "        nh_orgs[i] = ' '\n",
    "        \n",
    "#    else:\n",
    "#        #calculate the damerau levenshtein distance\n",
    "#        min_dl_dist,org_index = dl_dist(nh_orgs[i],sf_org_strings)\n",
    "#        if min_dl_dist <= 4: #fit the org to the org_index \n",
    "#            t_index = org_index\n",
    "#            nh_orgs[i] = sf_org_ids[t_index]\n",
    "        ## create new entry is involved... create a new DF, populate with new org entries, send to SF\n",
    "        ## pull SF assigned new org ID back, then repopulate the contacts SF DF with new org ID only for those new orgs \n",
    "        #else: #create new entry\n",
    "        #    t_index = org_index"
   ]
  },
  {
   "cell_type": "code",
   "execution_count": null,
   "id": "7e67d0e8",
   "metadata": {
    "execution": {
     "iopub.execute_input": "2021-01-21T08:30:28.456657Z",
     "iopub.status.busy": "2021-01-21T08:30:28.456042Z",
     "iopub.status.idle": "2021-01-21T08:30:28.460205Z",
     "shell.execute_reply": "2021-01-21T08:30:28.460629Z"
    },
    "jupyter": {
     "source_hidden": true
    },
    "papermill": {
     "duration": null,
     "end_time": null,
     "exception": null,
     "start_time": null,
     "status": "pending"
    },
    "tags": []
   },
   "outputs": [],
   "source": [
    "display(nh_orgs.head(3))"
   ]
  },
  {
   "cell_type": "code",
   "execution_count": null,
   "id": "4ee39686",
   "metadata": {
    "execution": {
     "iopub.execute_input": "2021-01-21T08:30:28.511296Z",
     "iopub.status.busy": "2021-01-21T08:30:28.510708Z",
     "iopub.status.idle": "2021-01-21T08:30:28.513604Z",
     "shell.execute_reply": "2021-01-21T08:30:28.513100Z"
    },
    "jupyter": {
     "source_hidden": true
    },
    "papermill": {
     "duration": null,
     "end_time": null,
     "exception": null,
     "start_time": null,
     "status": "pending"
    },
    "tags": []
   },
   "outputs": [],
   "source": [
    "## Compare and readjust the organization_email_derived__c based on email domains\n",
    "email_orgs = contact_org_df['Organization_email_derived__c']\n",
    "emails = contact_org_df['Email'].fillna(' ').apply(lambda x: x.split('@')[-1])"
   ]
  },
  {
   "cell_type": "code",
   "execution_count": null,
   "id": "5c1e9464",
   "metadata": {
    "execution": {
     "iopub.execute_input": "2021-01-21T08:30:28.564376Z",
     "iopub.status.busy": "2021-01-21T08:30:28.563796Z",
     "iopub.status.idle": "2021-01-21T08:30:28.566447Z",
     "shell.execute_reply": "2021-01-21T08:30:28.565807Z"
    },
    "jupyter": {
     "source_hidden": true
    },
    "papermill": {
     "duration": null,
     "end_time": null,
     "exception": null,
     "start_time": null,
     "status": "pending"
    },
    "tags": []
   },
   "outputs": [],
   "source": [
    "## all sf domains\n",
    "sf_domains = all_org_df['Domain__c'].to_list()"
   ]
  },
  {
   "cell_type": "code",
   "execution_count": null,
   "id": "14384ceb",
   "metadata": {
    "execution": {
     "iopub.execute_input": "2021-01-21T08:30:28.623759Z",
     "iopub.status.busy": "2021-01-21T08:30:28.623098Z",
     "iopub.status.idle": "2021-01-21T08:30:28.635689Z",
     "shell.execute_reply": "2021-01-21T08:30:28.634899Z"
    },
    "jupyter": {
     "source_hidden": true
    },
    "papermill": {
     "duration": null,
     "end_time": null,
     "exception": null,
     "start_time": null,
     "status": "pending"
    },
    "tags": []
   },
   "outputs": [],
   "source": [
    "display(contact_org_df.head(2))\n",
    "display(contact_org_df.tail(2))"
   ]
  },
  {
   "cell_type": "code",
   "execution_count": null,
   "id": "1fd0466d",
   "metadata": {
    "execution": {
     "iopub.execute_input": "2021-01-21T08:30:29.128569Z",
     "iopub.status.busy": "2021-01-21T08:30:28.930278Z",
     "iopub.status.idle": "2021-01-21T08:30:29.246869Z",
     "shell.execute_reply": "2021-01-21T08:30:29.247290Z"
    },
    "jupyter": {
     "source_hidden": true
    },
    "papermill": {
     "duration": null,
     "end_time": null,
     "exception": null,
     "start_time": null,
     "status": "pending"
    },
    "tags": []
   },
   "outputs": [],
   "source": [
    "## verify that the email_org entry corresponds to the correct organizational domain\n",
    "for i,j in enumerate(emails.to_list()):\n",
    "    ## apply fixes for mail.usf.edu to usf.edu - i.e., use the simplest derivative of the domains    \n",
    "    j_test = j.split('.')\n",
    "    if len(j_test) >= 3:\n",
    "        j = '.'.join(j_test[-2:])\n",
    "    \n",
    "    if j in sf_domains:\n",
    "        # pull the corresponding org Id\n",
    "        j_org = all_org_df['Id'][sf_domains.index(j)]\n",
    "        contact_org_df['Organization_email_derived__c'][i] = j_org\n",
    "        \n",
    "display(contact_org_df.head(2))\n",
    "display(contact_org_df.tail(2))"
   ]
  },
  {
   "cell_type": "code",
   "execution_count": null,
   "id": "cf4b9f7d",
   "metadata": {
    "execution": {
     "iopub.execute_input": "2021-01-21T08:30:29.355235Z",
     "iopub.status.busy": "2021-01-21T08:30:29.354608Z",
     "iopub.status.idle": "2021-01-21T08:30:29.367537Z",
     "shell.execute_reply": "2021-01-21T08:30:29.366955Z"
    },
    "jupyter": {
     "source_hidden": true
    },
    "papermill": {
     "duration": null,
     "end_time": null,
     "exception": null,
     "start_time": null,
     "status": "pending"
    },
    "tags": []
   },
   "outputs": [],
   "source": [
    "## Compare the SF indexes of NH determined organization against that of Organization_email_derived__c\n",
    "email_orgs = contact_org_df['Organization_email_derived__c']\n",
    "\n",
    "for i,j in enumerate(nh_orgs.to_list()):\n",
    "    if j != ' ' and email_orgs[i] == ' ':\n",
    "        # nanohub org overwrites all other org flags\n",
    "        contact_org_df['Organization_composite__c'][i] = j\n",
    "    elif j != ' ' and j != email_orgs[i]:\n",
    "        contact_org_df['Organization_Conflict__c'][i] = True\n",
    "        contact_org_df['Organization_composite__c'][i] = j\n",
    "\n",
    "    elif j != ' ' and j == email_orgs[i]:\n",
    "        contact_org_df['Organization_Conflict__c'][i] = False\n",
    "        contact_org_df['Organization_composite__c'][i] = j\n",
    "\n",
    "        \n",
    "display(contact_org_df.head(4))\n",
    "display(contact_org_df.tail(4))"
   ]
  },
  {
   "cell_type": "code",
   "execution_count": null,
   "id": "dc70c31b",
   "metadata": {
    "execution": {
     "iopub.execute_input": "2021-01-21T08:30:29.423127Z",
     "iopub.status.busy": "2021-01-21T08:30:29.422579Z",
     "iopub.status.idle": "2021-01-21T08:30:29.425385Z",
     "shell.execute_reply": "2021-01-21T08:30:29.424779Z"
    },
    "jupyter": {
     "source_hidden": true
    },
    "papermill": {
     "duration": null,
     "end_time": null,
     "exception": null,
     "start_time": null,
     "status": "pending"
    },
    "tags": []
   },
   "outputs": [],
   "source": [
    "contact_org_df = contact_org_df.drop(columns='Id')"
   ]
  },
  {
   "cell_type": "code",
   "execution_count": null,
   "id": "dfc2f4d9",
   "metadata": {
    "execution": {
     "iopub.execute_input": "2021-01-21T08:30:29.485106Z",
     "iopub.status.busy": "2021-01-21T08:30:29.484549Z",
     "iopub.status.idle": "2021-01-21T08:30:29.487745Z",
     "shell.execute_reply": "2021-01-21T08:30:29.488340Z"
    },
    "jupyter": {
     "source_hidden": true
    },
    "papermill": {
     "duration": null,
     "end_time": null,
     "exception": null,
     "start_time": null,
     "status": "pending"
    },
    "tags": []
   },
   "outputs": [],
   "source": [
    "display(contact_org_df.head(2))"
   ]
  },
  {
   "cell_type": "code",
   "execution_count": null,
   "id": "3e4c733f",
   "metadata": {
    "execution": {
     "iopub.execute_input": "2021-01-21T08:30:29.545628Z",
     "iopub.status.busy": "2021-01-21T08:30:29.545080Z",
     "iopub.status.idle": "2021-01-21T08:30:29.548520Z",
     "shell.execute_reply": "2021-01-21T08:30:29.548919Z"
    },
    "jupyter": {
     "source_hidden": true
    },
    "papermill": {
     "duration": null,
     "end_time": null,
     "exception": null,
     "start_time": null,
     "status": "pending"
    },
    "tags": []
   },
   "outputs": [],
   "source": [
    "## fixing commercial email hosts - zero out both Organization_composite__c and Organization_email_derived__c  \n",
    "indices = [i for i, x in enumerate(user_domains.to_list()) if x == ' ']\n",
    "\n",
    "#contact_org_df['Organization_composite__c'][indices] = ' '\n",
    "contact_org_df['Organization_email_derived__c'][indices] = ' '\n"
   ]
  },
  {
   "cell_type": "code",
   "execution_count": null,
   "id": "30e11dbe",
   "metadata": {
    "execution": {
     "iopub.execute_input": "2021-01-21T08:30:29.619326Z",
     "iopub.status.busy": "2021-01-21T08:30:29.618713Z",
     "iopub.status.idle": "2021-01-21T08:30:29.620964Z",
     "shell.execute_reply": "2021-01-21T08:30:29.621390Z"
    },
    "jupyter": {
     "source_hidden": true
    },
    "papermill": {
     "duration": null,
     "end_time": null,
     "exception": null,
     "start_time": null,
     "status": "pending"
    },
    "tags": []
   },
   "outputs": [],
   "source": [
    "## all_org_df - find all commercial names that correspond to a commerical email domain\n",
    "nh_domains = all_org_df['Domain__c'].to_list()\n",
    "nh_cdi = [] #cdi = commercial domain indexes\n",
    "\n",
    "for i,j in enumerate(nh_domains):\n",
    "    if j in cdomains.domains:\n",
    "        nh_cdi.append(i)\n"
   ]
  },
  {
   "cell_type": "code",
   "execution_count": null,
   "id": "f0533640",
   "metadata": {
    "execution": {
     "iopub.execute_input": "2021-01-21T08:30:29.678444Z",
     "iopub.status.busy": "2021-01-21T08:30:29.677862Z",
     "iopub.status.idle": "2021-01-21T08:30:29.686087Z",
     "shell.execute_reply": "2021-01-21T08:30:29.686522Z"
    },
    "jupyter": {
     "source_hidden": true
    },
    "papermill": {
     "duration": null,
     "end_time": null,
     "exception": null,
     "start_time": null,
     "status": "pending"
    },
    "tags": []
   },
   "outputs": [],
   "source": [
    "nh_c_all = all_org_df.iloc[nh_cdi,:]\n",
    "\n",
    "display(nh_c_all.head(2))\n",
    "nh_c_all = nh_c_all['Id'].to_list()"
   ]
  },
  {
   "cell_type": "code",
   "execution_count": null,
   "id": "deac33bb",
   "metadata": {
    "execution": {
     "iopub.execute_input": "2021-01-21T08:30:29.745882Z",
     "iopub.status.busy": "2021-01-21T08:30:29.745329Z",
     "iopub.status.idle": "2021-01-21T08:30:29.778199Z",
     "shell.execute_reply": "2021-01-21T08:30:29.777562Z"
    },
    "jupyter": {
     "source_hidden": true
    },
    "papermill": {
     "duration": null,
     "end_time": null,
     "exception": null,
     "start_time": null,
     "status": "pending"
    },
    "tags": []
   },
   "outputs": [],
   "source": [
    "## go through every single composite organization, and ensure that they are all non-commercial\n",
    "composite_org_verify = contact_org_df['Organization_composite__c'][indices].to_list()\n",
    "\n",
    "for i,j in enumerate(composite_org_verify):\n",
    "    if j in nh_c_all:\n",
    "        contact_org_df.iloc[i,3] = ' '\n"
   ]
  },
  {
   "cell_type": "code",
   "execution_count": null,
   "id": "fe07db6e",
   "metadata": {
    "execution": {
     "iopub.execute_input": "2021-01-21T08:30:29.846918Z",
     "iopub.status.busy": "2021-01-21T08:30:29.835307Z",
     "iopub.status.idle": "2021-01-21T08:30:29.850849Z",
     "shell.execute_reply": "2021-01-21T08:30:29.850409Z"
    },
    "jupyter": {
     "source_hidden": true
    },
    "papermill": {
     "duration": null,
     "end_time": null,
     "exception": null,
     "start_time": null,
     "status": "pending"
    },
    "scrolled": false,
    "tags": []
   },
   "outputs": [],
   "source": [
    "display(contact_org_df.head(100))"
   ]
  },
  {
   "cell_type": "code",
   "execution_count": null,
   "id": "19340d23",
   "metadata": {
    "jupyter": {
     "source_hidden": true
    },
    "papermill": {
     "duration": null,
     "end_time": null,
     "exception": null,
     "start_time": null,
     "status": "pending"
    },
    "tags": []
   },
   "outputs": [],
   "source": []
  },
  {
   "cell_type": "markdown",
   "id": "6290173d",
   "metadata": {
    "papermill": {
     "duration": null,
     "end_time": null,
     "exception": null,
     "start_time": null,
     "status": "pending"
    },
    "tags": []
   },
   "source": [
    "## To Salesforce Sales Cloud CRM"
   ]
  },
  {
   "cell_type": "code",
   "execution_count": null,
   "id": "97385f32",
   "metadata": {
    "execution": {
     "iopub.execute_input": "2021-01-21T08:30:30.017241Z",
     "iopub.status.busy": "2021-01-21T08:30:30.016681Z",
     "iopub.status.idle": "2021-01-21T08:30:30.279576Z",
     "shell.execute_reply": "2021-01-21T08:30:30.279110Z"
    },
    "jupyter": {
     "source_hidden": true
    },
    "papermill": {
     "duration": null,
     "end_time": null,
     "exception": null,
     "start_time": null,
     "status": "pending"
    },
    "tags": []
   },
   "outputs": [],
   "source": [
    "\n",
    "# create DB2 to Salesforce API object\n",
    "db_s = salesforce\n",
    "\n",
    "# specify Salesforce object ID and external ID\n",
    "db_s.object_id = object_id\n",
    "db_s.external_id = external_id"
   ]
  },
  {
   "cell_type": "code",
   "execution_count": null,
   "id": "0723f24f",
   "metadata": {
    "execution": {
     "iopub.execute_input": "2021-01-21T08:30:30.340740Z",
     "iopub.status.busy": "2021-01-21T08:30:30.340163Z",
     "iopub.status.idle": "2021-01-21T08:30:31.475546Z",
     "shell.execute_reply": "2021-01-21T08:30:31.474834Z"
    },
    "jupyter": {
     "source_hidden": true
    },
    "papermill": {
     "duration": null,
     "end_time": null,
     "exception": null,
     "start_time": null,
     "status": "pending"
    },
    "tags": []
   },
   "outputs": [],
   "source": [
    "# send data to Salesforce\n",
    "db_s.send_data(contact_org_df)"
   ]
  },
  {
   "cell_type": "code",
   "execution_count": null,
   "id": "5cabbbc3",
   "metadata": {
    "execution": {
     "iopub.execute_input": "2021-01-21T08:30:31.536864Z",
     "iopub.status.busy": "2021-01-21T08:30:31.536337Z",
     "iopub.status.idle": "2021-01-21T08:30:31.886780Z",
     "shell.execute_reply": "2021-01-21T08:30:31.886206Z"
    },
    "jupyter": {
     "source_hidden": true
    },
    "papermill": {
     "duration": null,
     "end_time": null,
     "exception": null,
     "start_time": null,
     "status": "pending"
    },
    "tags": []
   },
   "outputs": [],
   "source": [
    "# check status\n",
    "db_s.check_bulk_status()"
   ]
  },
  {
   "cell_type": "code",
   "execution_count": null,
   "id": "ed8195b6",
   "metadata": {
    "execution": {
     "iopub.execute_input": "2021-01-21T08:30:31.949653Z",
     "iopub.status.busy": "2021-01-21T08:30:31.948807Z",
     "iopub.status.idle": "2021-01-21T08:30:32.088805Z",
     "shell.execute_reply": "2021-01-21T08:30:32.089282Z"
    },
    "jupyter": {
     "source_hidden": true
    },
    "papermill": {
     "duration": null,
     "end_time": null,
     "exception": null,
     "start_time": null,
     "status": "pending"
    },
    "scrolled": true,
    "tags": []
   },
   "outputs": [],
   "source": [
    "from pprint import pprint\n",
    "pprint(db_s.check_bulk_failed_results())"
   ]
  },
  {
   "cell_type": "code",
   "execution_count": null,
   "id": "c1a19dda",
   "metadata": {
    "jupyter": {
     "source_hidden": true
    },
    "papermill": {
     "duration": null,
     "end_time": null,
     "exception": null,
     "start_time": null,
     "status": "pending"
    },
    "tags": []
   },
   "outputs": [],
   "source": []
  },
  {
   "cell_type": "code",
   "execution_count": null,
   "id": "6be97153",
   "metadata": {
    "jupyter": {
     "source_hidden": true
    },
    "papermill": {
     "duration": null,
     "end_time": null,
     "exception": null,
     "start_time": null,
     "status": "pending"
    },
    "tags": []
   },
   "outputs": [],
   "source": []
  }
 ],
 "metadata": {
  "celltoolbar": "Tags",
  "kernelspec": {
   "display_name": "Python 3",
   "language": "python",
   "name": "python3"
  },
  "language_info": {
   "codemirror_mode": {
    "name": "ipython",
    "version": 3
   },
   "file_extension": ".py",
   "mimetype": "text/x-python",
   "name": "python",
   "nbconvert_exporter": "python",
   "pygments_lexer": "ipython3",
   "version": "3.8.2"
  },
  "papermill": {
   "duration": 64.484702,
   "end_time": "2021-08-26T04:52:29.779972",
   "environment_variables": {},
   "exception": true,
   "input_path": "nanoHUB/pipeline/salesforce/task_user_org_reclass.ipynb",
   "output_path": "./.output/task_user_org_reclass.ipynb",
   "parameters": {},
   "start_time": "2021-08-26T04:51:25.295270",
   "version": "2.1.1"
  }
 },
 "nbformat": 4,
 "nbformat_minor": 5
}