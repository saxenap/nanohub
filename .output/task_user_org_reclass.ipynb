{
 "cells": [
  {
   "cell_type": "markdown",
   "id": "56e9ffc1",
   "metadata": {
    "papermill": {
     "duration": 0.073944,
     "end_time": "2021-10-22T11:59:45.732507",
     "exception": false,
     "start_time": "2021-10-22T11:59:45.658563",
     "status": "completed"
    },
    "tags": []
   },
   "source": [
    "# Reclassify user/contact organizations"
   ]
  },
  {
   "cell_type": "raw",
   "id": "c640a209",
   "metadata": {
    "papermill": {
     "duration": 0.054383,
     "end_time": "2021-10-22T11:59:45.839620",
     "exception": false,
     "start_time": "2021-10-22T11:59:45.785237",
     "status": "completed"
    },
    "tags": []
   },
   "source": [
    "## this notebook does\n",
    "1) fix the email domain classification errors (e.g. if gmail.com, then should have empty classification\n",
    "2) fix overall decision making\n",
    "3) if there is a non-commercial domain, then that domain conflicts with nanohub user self-described org, then turn on organizational conflict flag\n",
    "\n",
    "Since all of these goals rely on the Salesforce side, only need to import data from SF"
   ]
  },
  {
   "cell_type": "code",
   "execution_count": 1,
   "id": "42a5e736",
   "metadata": {
    "execution": {
     "iopub.execute_input": "2021-10-22T11:59:45.955293Z",
     "iopub.status.busy": "2021-10-22T11:59:45.954470Z",
     "iopub.status.idle": "2021-10-22T11:59:47.178249Z",
     "shell.execute_reply": "2021-10-22T11:59:47.179070Z"
    },
    "jupyter": {
     "source_hidden": true
    },
    "papermill": {
     "duration": 1.286968,
     "end_time": "2021-10-22T11:59:47.179725",
     "exception": false,
     "start_time": "2021-10-22T11:59:45.892757",
     "status": "completed"
    },
    "tags": [
     "parameters"
    ]
   },
   "outputs": [
    {
     "name": "stdout",
     "output_type": "stream",
     "text": [
      "\u001b[1mnanoHUB - Serving Students, Researchers & Instructors\u001b[0m\n"
     ]
    },
    {
     "name": "stdout",
     "output_type": "stream",
     "text": [
      "Obtained Salesforce access token ...... True\n"
     ]
    }
   ],
   "source": [
    "# API settings\n",
    "api_url = '/services/data/v43.0/sobjects'\n",
    "object_id = 'Contact'\n",
    "external_id = 'nanoHUB_user_ID__c'\n",
    "\n",
    "# login parameters to be handled by Papermill\n",
    "from nanoHUB.application import Application\n",
    "\n",
    "application = Application.get_instance()\n",
    "\n",
    "\n",
    "salesforce = application.new_salesforce_engine()\n",
    "db_s = salesforce\n"
   ]
  },
  {
   "cell_type": "code",
   "execution_count": 2,
   "id": "4e1eb316",
   "metadata": {
    "execution": {
     "iopub.execute_input": "2021-10-22T11:59:47.297224Z",
     "iopub.status.busy": "2021-10-22T11:59:47.296672Z",
     "iopub.status.idle": "2021-10-22T11:59:47.299094Z",
     "shell.execute_reply": "2021-10-22T11:59:47.298684Z"
    },
    "jupyter": {
     "source_hidden": true
    },
    "papermill": {
     "duration": 0.058541,
     "end_time": "2021-10-22T11:59:47.299316",
     "exception": false,
     "start_time": "2021-10-22T11:59:47.240775",
     "status": "completed"
    },
    "tags": []
   },
   "outputs": [],
   "source": [
    "import pandas as pd\n",
    "import datetime"
   ]
  },
  {
   "cell_type": "markdown",
   "id": "9a613caf",
   "metadata": {
    "papermill": {
     "duration": 0.050272,
     "end_time": "2021-10-22T11:59:47.401260",
     "exception": false,
     "start_time": "2021-10-22T11:59:47.350988",
     "status": "completed"
    },
    "tags": []
   },
   "source": [
    "## Obtain user org classifications from Salesforce"
   ]
  },
  {
   "cell_type": "code",
   "execution_count": 3,
   "id": "ad98de25",
   "metadata": {
    "execution": {
     "iopub.execute_input": "2021-10-22T11:59:47.509712Z",
     "iopub.status.busy": "2021-10-22T11:59:47.509033Z",
     "iopub.status.idle": "2021-10-22T11:59:59.490889Z",
     "shell.execute_reply": "2021-10-22T11:59:59.490302Z"
    },
    "jupyter": {
     "source_hidden": true
    },
    "papermill": {
     "duration": 12.038972,
     "end_time": "2021-10-22T11:59:59.491121",
     "exception": false,
     "start_time": "2021-10-22T11:59:47.452149",
     "status": "completed"
    },
    "tags": []
   },
   "outputs": [
    {
     "name": "stdout",
     "output_type": "stream",
     "text": [
      "[Success] Bulk job creation successful. Job ID = 7505w00000b1op4AAA\n"
     ]
    },
    {
     "name": "stdout",
     "output_type": "stream",
     "text": [
      "{\"id\":\"7505w00000b1op4AAA\",\"operation\":\"query\",\"object\":\"Contact\",\"createdById\":\"0055w00000DM5bOAAT\",\"createdDate\":\"2021-10-22T11:59:48.000+0000\",\"systemModstamp\":\"2021-10-22T11:59:48.000+0000\",\"state\":\"InProgress\",\"concurrencyMode\":\"Parallel\",\"contentType\":\"CSV\",\"apiVersion\":47.0,\"jobType\":\"V2Query\",\"lineEnding\":\"LF\",\"columnDelimiter\":\"COMMA\",\"numberRecordsProcessed\":0,\"retries\":0,\"totalProcessingTime\":0}\n"
     ]
    },
    {
     "name": "stdout",
     "output_type": "stream",
     "text": [
      "{\"id\":\"7505w00000b1op4AAA\",\"operation\":\"query\",\"object\":\"Contact\",\"createdById\":\"0055w00000DM5bOAAT\",\"createdDate\":\"2021-10-22T11:59:48.000+0000\",\"systemModstamp\":\"2021-10-22T11:59:52.000+0000\",\"state\":\"JobComplete\",\"concurrencyMode\":\"Parallel\",\"contentType\":\"CSV\",\"apiVersion\":47.0,\"jobType\":\"V2Query\",\"lineEnding\":\"LF\",\"columnDelimiter\":\"COMMA\",\"numberRecordsProcessed\":5000,\"retries\":0,\"totalProcessingTime\":3329}\n",
      "[Success] Bulk job completed successfully.\n"
     ]
    },
    {
     "data": {
      "text/html": [
       "<div>\n",
       "<style scoped>\n",
       "    .dataframe tbody tr th:only-of-type {\n",
       "        vertical-align: middle;\n",
       "    }\n",
       "\n",
       "    .dataframe tbody tr th {\n",
       "        vertical-align: top;\n",
       "    }\n",
       "\n",
       "    .dataframe thead th {\n",
       "        text-align: right;\n",
       "    }\n",
       "</style>\n",
       "<table border=\"1\" class=\"dataframe\">\n",
       "  <thead>\n",
       "    <tr style=\"text-align: right;\">\n",
       "      <th></th>\n",
       "      <th>Email</th>\n",
       "      <th>Id</th>\n",
       "      <th>Organization_Conflict__c</th>\n",
       "      <th>Organization__c</th>\n",
       "      <th>Organization_composite__c</th>\n",
       "      <th>Organization_email_derived__c</th>\n",
       "      <th>nanoHUB_user_ID__c</th>\n",
       "    </tr>\n",
       "  </thead>\n",
       "  <tbody>\n",
       "    <tr>\n",
       "      <th>0</th>\n",
       "      <td>lisagundy@arizona.edu</td>\n",
       "      <td>0035w00003EE0MoAAL</td>\n",
       "      <td>False</td>\n",
       "      <td>NaN</td>\n",
       "      <td>a0r5w00000V433WAAR</td>\n",
       "      <td>a0r5w00000V433WAAR</td>\n",
       "      <td>NaN</td>\n",
       "    </tr>\n",
       "    <tr>\n",
       "      <th>1</th>\n",
       "      <td>asdf1234@invalidaddress5.org</td>\n",
       "      <td>0035w00003DA2NpAAL</td>\n",
       "      <td>False</td>\n",
       "      <td>NaN</td>\n",
       "      <td>NaN</td>\n",
       "      <td>NaN</td>\n",
       "      <td>NaN</td>\n",
       "    </tr>\n",
       "    <tr>\n",
       "      <th>2</th>\n",
       "      <td>defnitelynotanemail7193@purdue.edu</td>\n",
       "      <td>0035w00003DA2MmAAL</td>\n",
       "      <td>False</td>\n",
       "      <td>NaN</td>\n",
       "      <td>a0r5w00000V42cCAAR</td>\n",
       "      <td>a0r5w00000V42cCAAR</td>\n",
       "      <td>NaN</td>\n",
       "    </tr>\n",
       "  </tbody>\n",
       "</table>\n",
       "</div>"
      ],
      "text/plain": [
       "                                Email                  Id  \\\n",
       "0               lisagundy@arizona.edu  0035w00003EE0MoAAL   \n",
       "1        asdf1234@invalidaddress5.org  0035w00003DA2NpAAL   \n",
       "2  defnitelynotanemail7193@purdue.edu  0035w00003DA2MmAAL   \n",
       "\n",
       "   Organization_Conflict__c Organization__c Organization_composite__c  \\\n",
       "0                     False             NaN        a0r5w00000V433WAAR   \n",
       "1                     False             NaN                       NaN   \n",
       "2                     False             NaN        a0r5w00000V42cCAAR   \n",
       "\n",
       "  Organization_email_derived__c  nanoHUB_user_ID__c  \n",
       "0            a0r5w00000V433WAAR                 NaN  \n",
       "1                           NaN                 NaN  \n",
       "2            a0r5w00000V42cCAAR                 NaN  "
      ]
     },
     "execution_count": 3,
     "metadata": {},
     "output_type": "execute_result"
    }
   ],
   "source": [
    "# get Salesforce ID for organizations\n",
    "contact_org_df = db_s.query_data('SELECT Id, nanoHUB_user_ID__c, Email, Organization_composite__c,\\\n",
    "Organization_email_derived__c, Organization_Conflict__c, \\\n",
    "Organization__c FROM Contact Order by nanoHUB_user_ID__c DESC limit 5000') # limit 5000\n",
    "\n",
    "#Organization_citation_derived__c\n",
    "\n",
    "# display\n",
    "contact_org_df.head(3)"
   ]
  },
  {
   "cell_type": "code",
   "execution_count": 4,
   "id": "014754f4",
   "metadata": {
    "execution": {
     "iopub.execute_input": "2021-10-22T11:59:59.599915Z",
     "iopub.status.busy": "2021-10-22T11:59:59.599173Z",
     "iopub.status.idle": "2021-10-22T12:01:56.755248Z",
     "shell.execute_reply": "2021-10-22T12:01:56.754509Z"
    },
    "jupyter": {
     "source_hidden": true
    },
    "papermill": {
     "duration": 117.210819,
     "end_time": "2021-10-22T12:01:56.755449",
     "exception": false,
     "start_time": "2021-10-22T11:59:59.544630",
     "status": "completed"
    },
    "tags": []
   },
   "outputs": [
    {
     "name": "stdout",
     "output_type": "stream",
     "text": [
      "[Success] Bulk job creation successful. Job ID = 7505w00000b1op9AAA\n"
     ]
    },
    {
     "name": "stdout",
     "output_type": "stream",
     "text": [
      "{\"id\":\"7505w00000b1op9AAA\",\"operation\":\"query\",\"object\":\"organization__c\",\"createdById\":\"0055w00000DM5bOAAT\",\"createdDate\":\"2021-10-22T11:59:59.000+0000\",\"systemModstamp\":\"2021-10-22T11:59:59.000+0000\",\"state\":\"UploadComplete\",\"concurrencyMode\":\"Parallel\",\"contentType\":\"CSV\",\"apiVersion\":47.0,\"jobType\":\"V2Query\",\"lineEnding\":\"LF\",\"columnDelimiter\":\"COMMA\",\"retries\":0,\"totalProcessingTime\":0}\n"
     ]
    },
    {
     "name": "stdout",
     "output_type": "stream",
     "text": [
      "{\"id\":\"7505w00000b1op9AAA\",\"operation\":\"query\",\"object\":\"organization__c\",\"createdById\":\"0055w00000DM5bOAAT\",\"createdDate\":\"2021-10-22T11:59:59.000+0000\",\"systemModstamp\":\"2021-10-22T12:00:02.000+0000\",\"state\":\"InProgress\",\"concurrencyMode\":\"Parallel\",\"contentType\":\"CSV\",\"apiVersion\":47.0,\"jobType\":\"V2Query\",\"lineEnding\":\"LF\",\"columnDelimiter\":\"COMMA\",\"numberRecordsProcessed\":0,\"retries\":0,\"totalProcessingTime\":0}\n"
     ]
    },
    {
     "name": "stdout",
     "output_type": "stream",
     "text": [
      "{\"id\":\"7505w00000b1op9AAA\",\"operation\":\"query\",\"object\":\"organization__c\",\"createdById\":\"0055w00000DM5bOAAT\",\"createdDate\":\"2021-10-22T11:59:59.000+0000\",\"systemModstamp\":\"2021-10-22T12:00:02.000+0000\",\"state\":\"InProgress\",\"concurrencyMode\":\"Parallel\",\"contentType\":\"CSV\",\"apiVersion\":47.0,\"jobType\":\"V2Query\",\"lineEnding\":\"LF\",\"columnDelimiter\":\"COMMA\",\"numberRecordsProcessed\":0,\"retries\":0,\"totalProcessingTime\":0}\n"
     ]
    },
    {
     "name": "stdout",
     "output_type": "stream",
     "text": [
      "{\"id\":\"7505w00000b1op9AAA\",\"operation\":\"query\",\"object\":\"organization__c\",\"createdById\":\"0055w00000DM5bOAAT\",\"createdDate\":\"2021-10-22T11:59:59.000+0000\",\"systemModstamp\":\"2021-10-22T12:00:02.000+0000\",\"state\":\"InProgress\",\"concurrencyMode\":\"Parallel\",\"contentType\":\"CSV\",\"apiVersion\":47.0,\"jobType\":\"V2Query\",\"lineEnding\":\"LF\",\"columnDelimiter\":\"COMMA\",\"numberRecordsProcessed\":0,\"retries\":0,\"totalProcessingTime\":0}\n"
     ]
    },
    {
     "name": "stdout",
     "output_type": "stream",
     "text": [
      "{\"id\":\"7505w00000b1op9AAA\",\"operation\":\"query\",\"object\":\"organization__c\",\"createdById\":\"0055w00000DM5bOAAT\",\"createdDate\":\"2021-10-22T11:59:59.000+0000\",\"systemModstamp\":\"2021-10-22T12:00:02.000+0000\",\"state\":\"InProgress\",\"concurrencyMode\":\"Parallel\",\"contentType\":\"CSV\",\"apiVersion\":47.0,\"jobType\":\"V2Query\",\"lineEnding\":\"LF\",\"columnDelimiter\":\"COMMA\",\"numberRecordsProcessed\":0,\"retries\":0,\"totalProcessingTime\":0}\n"
     ]
    },
    {
     "name": "stdout",
     "output_type": "stream",
     "text": [
      "{\"id\":\"7505w00000b1op9AAA\",\"operation\":\"query\",\"object\":\"organization__c\",\"createdById\":\"0055w00000DM5bOAAT\",\"createdDate\":\"2021-10-22T11:59:59.000+0000\",\"systemModstamp\":\"2021-10-22T12:00:02.000+0000\",\"state\":\"InProgress\",\"concurrencyMode\":\"Parallel\",\"contentType\":\"CSV\",\"apiVersion\":47.0,\"jobType\":\"V2Query\",\"lineEnding\":\"LF\",\"columnDelimiter\":\"COMMA\",\"numberRecordsProcessed\":0,\"retries\":0,\"totalProcessingTime\":0}\n"
     ]
    },
    {
     "name": "stdout",
     "output_type": "stream",
     "text": [
      "{\"id\":\"7505w00000b1op9AAA\",\"operation\":\"query\",\"object\":\"organization__c\",\"createdById\":\"0055w00000DM5bOAAT\",\"createdDate\":\"2021-10-22T11:59:59.000+0000\",\"systemModstamp\":\"2021-10-22T12:00:02.000+0000\",\"state\":\"InProgress\",\"concurrencyMode\":\"Parallel\",\"contentType\":\"CSV\",\"apiVersion\":47.0,\"jobType\":\"V2Query\",\"lineEnding\":\"LF\",\"columnDelimiter\":\"COMMA\",\"numberRecordsProcessed\":0,\"retries\":0,\"totalProcessingTime\":0}\n"
     ]
    },
    {
     "name": "stdout",
     "output_type": "stream",
     "text": [
      "{\"id\":\"7505w00000b1op9AAA\",\"operation\":\"query\",\"object\":\"organization__c\",\"createdById\":\"0055w00000DM5bOAAT\",\"createdDate\":\"2021-10-22T11:59:59.000+0000\",\"systemModstamp\":\"2021-10-22T12:00:02.000+0000\",\"state\":\"InProgress\",\"concurrencyMode\":\"Parallel\",\"contentType\":\"CSV\",\"apiVersion\":47.0,\"jobType\":\"V2Query\",\"lineEnding\":\"LF\",\"columnDelimiter\":\"COMMA\",\"numberRecordsProcessed\":0,\"retries\":0,\"totalProcessingTime\":0}\n"
     ]
    },
    {
     "name": "stdout",
     "output_type": "stream",
     "text": [
      "{\"id\":\"7505w00000b1op9AAA\",\"operation\":\"query\",\"object\":\"organization__c\",\"createdById\":\"0055w00000DM5bOAAT\",\"createdDate\":\"2021-10-22T11:59:59.000+0000\",\"systemModstamp\":\"2021-10-22T12:00:02.000+0000\",\"state\":\"InProgress\",\"concurrencyMode\":\"Parallel\",\"contentType\":\"CSV\",\"apiVersion\":47.0,\"jobType\":\"V2Query\",\"lineEnding\":\"LF\",\"columnDelimiter\":\"COMMA\",\"numberRecordsProcessed\":0,\"retries\":0,\"totalProcessingTime\":0}\n"
     ]
    },
    {
     "name": "stdout",
     "output_type": "stream",
     "text": [
      "{\"id\":\"7505w00000b1op9AAA\",\"operation\":\"query\",\"object\":\"organization__c\",\"createdById\":\"0055w00000DM5bOAAT\",\"createdDate\":\"2021-10-22T11:59:59.000+0000\",\"systemModstamp\":\"2021-10-22T12:00:02.000+0000\",\"state\":\"InProgress\",\"concurrencyMode\":\"Parallel\",\"contentType\":\"CSV\",\"apiVersion\":47.0,\"jobType\":\"V2Query\",\"lineEnding\":\"LF\",\"columnDelimiter\":\"COMMA\",\"numberRecordsProcessed\":0,\"retries\":0,\"totalProcessingTime\":0}\n"
     ]
    },
    {
     "name": "stdout",
     "output_type": "stream",
     "text": [
      "{\"id\":\"7505w00000b1op9AAA\",\"operation\":\"query\",\"object\":\"organization__c\",\"createdById\":\"0055w00000DM5bOAAT\",\"createdDate\":\"2021-10-22T11:59:59.000+0000\",\"systemModstamp\":\"2021-10-22T12:00:02.000+0000\",\"state\":\"InProgress\",\"concurrencyMode\":\"Parallel\",\"contentType\":\"CSV\",\"apiVersion\":47.0,\"jobType\":\"V2Query\",\"lineEnding\":\"LF\",\"columnDelimiter\":\"COMMA\",\"numberRecordsProcessed\":0,\"retries\":0,\"totalProcessingTime\":0}\n"
     ]
    },
    {
     "name": "stdout",
     "output_type": "stream",
     "text": [
      "{\"id\":\"7505w00000b1op9AAA\",\"operation\":\"query\",\"object\":\"organization__c\",\"createdById\":\"0055w00000DM5bOAAT\",\"createdDate\":\"2021-10-22T11:59:59.000+0000\",\"systemModstamp\":\"2021-10-22T12:01:50.000+0000\",\"state\":\"JobComplete\",\"concurrencyMode\":\"Parallel\",\"contentType\":\"CSV\",\"apiVersion\":47.0,\"jobType\":\"V2Query\",\"lineEnding\":\"LF\",\"columnDelimiter\":\"COMMA\",\"numberRecordsProcessed\":6481,\"retries\":0,\"totalProcessingTime\":553}\n",
      "[Success] Bulk job completed successfully.\n"
     ]
    },
    {
     "data": {
      "text/html": [
       "<div>\n",
       "<style scoped>\n",
       "    .dataframe tbody tr th:only-of-type {\n",
       "        vertical-align: middle;\n",
       "    }\n",
       "\n",
       "    .dataframe tbody tr th {\n",
       "        vertical-align: top;\n",
       "    }\n",
       "\n",
       "    .dataframe thead th {\n",
       "        text-align: right;\n",
       "    }\n",
       "</style>\n",
       "<table border=\"1\" class=\"dataframe\">\n",
       "  <thead>\n",
       "    <tr style=\"text-align: right;\">\n",
       "      <th></th>\n",
       "      <th>Domain__c</th>\n",
       "      <th>Id</th>\n",
       "      <th>Name</th>\n",
       "    </tr>\n",
       "  </thead>\n",
       "  <tbody>\n",
       "    <tr>\n",
       "      <th>0</th>\n",
       "      <td>upenn.edu</td>\n",
       "      <td>a0r5w00000V42c0AAB</td>\n",
       "      <td>university of pennsylvania</td>\n",
       "    </tr>\n",
       "    <tr>\n",
       "      <th>1</th>\n",
       "      <td>fer.hr</td>\n",
       "      <td>a0r5w00000V42c1AAB</td>\n",
       "      <td>fer</td>\n",
       "    </tr>\n",
       "  </tbody>\n",
       "</table>\n",
       "</div>"
      ],
      "text/plain": [
       "   Domain__c                  Id                        Name\n",
       "0  upenn.edu  a0r5w00000V42c0AAB  university of pennsylvania\n",
       "1     fer.hr  a0r5w00000V42c1AAB                         fer"
      ]
     },
     "metadata": {},
     "output_type": "display_data"
    },
    {
     "name": "stdout",
     "output_type": "stream",
     "text": [
      "(6481, 3)\n"
     ]
    }
   ],
   "source": [
    "# pull all the organizations from SF to get their unique tokens\n",
    "all_org_df = db_s.query_data('SELECT Id, Name, Domain__c FROM Organization__c')\n",
    "\n",
    "display(all_org_df.head(2))\n",
    "print(all_org_df.shape)"
   ]
  },
  {
   "cell_type": "code",
   "execution_count": 5,
   "id": "370546cd",
   "metadata": {
    "execution": {
     "iopub.execute_input": "2021-10-22T12:01:56.896414Z",
     "iopub.status.busy": "2021-10-22T12:01:56.895558Z",
     "iopub.status.idle": "2021-10-22T12:01:56.898568Z",
     "shell.execute_reply": "2021-10-22T12:01:56.899072Z"
    },
    "jupyter": {
     "source_hidden": true
    },
    "papermill": {
     "duration": 0.076893,
     "end_time": "2021-10-22T12:01:56.899311",
     "exception": false,
     "start_time": "2021-10-22T12:01:56.822418",
     "status": "completed"
    },
    "tags": []
   },
   "outputs": [
    {
     "data": {
      "text/plain": [
       "0            arizona.edu\n",
       "1    invalidaddress5.org\n",
       "Name: Email, dtype: object"
      ]
     },
     "metadata": {},
     "output_type": "display_data"
    }
   ],
   "source": [
    "## extract the domain from contact_org_df\n",
    "user_domains = contact_org_df['Email'].fillna(' ').apply(lambda x: x.split('@')[-1])\n",
    "display(user_domains.head(2))"
   ]
  },
  {
   "cell_type": "code",
   "execution_count": 6,
   "id": "cdf727d9",
   "metadata": {
    "execution": {
     "iopub.execute_input": "2021-10-22T12:01:57.028414Z",
     "iopub.status.busy": "2021-10-22T12:01:57.027343Z",
     "iopub.status.idle": "2021-10-22T12:01:57.037281Z",
     "shell.execute_reply": "2021-10-22T12:01:57.037755Z"
    },
    "jupyter": {
     "source_hidden": true
    },
    "papermill": {
     "duration": 0.075403,
     "end_time": "2021-10-22T12:01:57.037958",
     "exception": false,
     "start_time": "2021-10-22T12:01:56.962555",
     "status": "completed"
    },
    "tags": []
   },
   "outputs": [
    {
     "data": {
      "text/plain": [
       "0            arizona.edu\n",
       "1    invalidaddress5.org\n",
       "Name: Email, dtype: object"
      ]
     },
     "metadata": {},
     "output_type": "display_data"
    }
   ],
   "source": [
    "## if contact domain is a commercial email domain, then find the index and empty out the entry \n",
    "import nanoHUB.pipeline.salesforce.commercial_domains as cdomains\n",
    "user_domains = user_domains.apply(lambda x: ' ' if x in cdomains.domains else x)\n",
    "display(user_domains.head(2))"
   ]
  },
  {
   "cell_type": "code",
   "execution_count": 7,
   "id": "78e8d414",
   "metadata": {
    "execution": {
     "iopub.execute_input": "2021-10-22T12:01:57.168561Z",
     "iopub.status.busy": "2021-10-22T12:01:57.167731Z",
     "iopub.status.idle": "2021-10-22T12:01:57.177665Z",
     "shell.execute_reply": "2021-10-22T12:01:57.178176Z"
    },
    "jupyter": {
     "source_hidden": true
    },
    "papermill": {
     "duration": 0.075487,
     "end_time": "2021-10-22T12:01:57.178416",
     "exception": false,
     "start_time": "2021-10-22T12:01:57.102929",
     "status": "completed"
    },
    "tags": []
   },
   "outputs": [
    {
     "name": "stderr",
     "output_type": "stream",
     "text": [
      "/var/folders/64/2zrjfqsn7x3fxjzpq46kqcyr0000gp/T/ipykernel_5932/4246232877.py:4: SettingWithCopyWarning: \n",
      "A value is trying to be set on a copy of a slice from a DataFrame\n",
      "\n",
      "See the caveats in the documentation: https://pandas.pydata.org/pandas-docs/stable/user_guide/indexing.html#returning-a-view-versus-a-copy\n",
      "  contact_org_df['Organization_email_derived__c'][indices] = ' '\n"
     ]
    },
    {
     "data": {
      "text/html": [
       "<div>\n",
       "<style scoped>\n",
       "    .dataframe tbody tr th:only-of-type {\n",
       "        vertical-align: middle;\n",
       "    }\n",
       "\n",
       "    .dataframe tbody tr th {\n",
       "        vertical-align: top;\n",
       "    }\n",
       "\n",
       "    .dataframe thead th {\n",
       "        text-align: right;\n",
       "    }\n",
       "</style>\n",
       "<table border=\"1\" class=\"dataframe\">\n",
       "  <thead>\n",
       "    <tr style=\"text-align: right;\">\n",
       "      <th></th>\n",
       "      <th>Email</th>\n",
       "      <th>Id</th>\n",
       "      <th>Organization_Conflict__c</th>\n",
       "      <th>Organization__c</th>\n",
       "      <th>Organization_composite__c</th>\n",
       "      <th>Organization_email_derived__c</th>\n",
       "      <th>nanoHUB_user_ID__c</th>\n",
       "    </tr>\n",
       "  </thead>\n",
       "  <tbody>\n",
       "    <tr>\n",
       "      <th>0</th>\n",
       "      <td>lisagundy@arizona.edu</td>\n",
       "      <td>0035w00003EE0MoAAL</td>\n",
       "      <td>False</td>\n",
       "      <td>NaN</td>\n",
       "      <td>a0r5w00000V433WAAR</td>\n",
       "      <td>a0r5w00000V433WAAR</td>\n",
       "      <td>NaN</td>\n",
       "    </tr>\n",
       "    <tr>\n",
       "      <th>1</th>\n",
       "      <td>asdf1234@invalidaddress5.org</td>\n",
       "      <td>0035w00003DA2NpAAL</td>\n",
       "      <td>False</td>\n",
       "      <td>NaN</td>\n",
       "      <td>NaN</td>\n",
       "      <td>NaN</td>\n",
       "      <td>NaN</td>\n",
       "    </tr>\n",
       "    <tr>\n",
       "      <th>2</th>\n",
       "      <td>defnitelynotanemail7193@purdue.edu</td>\n",
       "      <td>0035w00003DA2MmAAL</td>\n",
       "      <td>False</td>\n",
       "      <td>NaN</td>\n",
       "      <td>a0r5w00000V42cCAAR</td>\n",
       "      <td>a0r5w00000V42cCAAR</td>\n",
       "      <td>NaN</td>\n",
       "    </tr>\n",
       "    <tr>\n",
       "      <th>3</th>\n",
       "      <td>lbaker@kellpartners.com</td>\n",
       "      <td>0035w000034KEj2AAG</td>\n",
       "      <td>False</td>\n",
       "      <td>NaN</td>\n",
       "      <td>NaN</td>\n",
       "      <td>NaN</td>\n",
       "      <td>NaN</td>\n",
       "    </tr>\n",
       "    <tr>\n",
       "      <th>4</th>\n",
       "      <td>amy.morgan@northwestern.edu</td>\n",
       "      <td>0035w00003BSD5mAAH</td>\n",
       "      <td>False</td>\n",
       "      <td>NaN</td>\n",
       "      <td>a0r5w00000V42ikAAB</td>\n",
       "      <td>a0r5w00000V42ikAAB</td>\n",
       "      <td>NaN</td>\n",
       "    </tr>\n",
       "  </tbody>\n",
       "</table>\n",
       "</div>"
      ],
      "text/plain": [
       "                                Email                  Id  \\\n",
       "0               lisagundy@arizona.edu  0035w00003EE0MoAAL   \n",
       "1        asdf1234@invalidaddress5.org  0035w00003DA2NpAAL   \n",
       "2  defnitelynotanemail7193@purdue.edu  0035w00003DA2MmAAL   \n",
       "3             lbaker@kellpartners.com  0035w000034KEj2AAG   \n",
       "4         amy.morgan@northwestern.edu  0035w00003BSD5mAAH   \n",
       "\n",
       "   Organization_Conflict__c Organization__c Organization_composite__c  \\\n",
       "0                     False             NaN        a0r5w00000V433WAAR   \n",
       "1                     False             NaN                       NaN   \n",
       "2                     False             NaN        a0r5w00000V42cCAAR   \n",
       "3                     False             NaN                       NaN   \n",
       "4                     False             NaN        a0r5w00000V42ikAAB   \n",
       "\n",
       "  Organization_email_derived__c  nanoHUB_user_ID__c  \n",
       "0            a0r5w00000V433WAAR                 NaN  \n",
       "1                           NaN                 NaN  \n",
       "2            a0r5w00000V42cCAAR                 NaN  \n",
       "3                           NaN                 NaN  \n",
       "4            a0r5w00000V42ikAAB                 NaN  "
      ]
     },
     "metadata": {},
     "output_type": "display_data"
    }
   ],
   "source": [
    "## finding indexes in contact_org_df and zero out Organization_email_derived__c\n",
    "indices = [i for i, x in enumerate(user_domains.to_list()) if x == ' ']\n",
    "\n",
    "contact_org_df['Organization_email_derived__c'][indices] = ' '\n",
    "\n",
    "## list comprehension method\n",
    "display(contact_org_df.head(5))\n"
   ]
  },
  {
   "cell_type": "code",
   "execution_count": 8,
   "id": "d651e885",
   "metadata": {
    "execution": {
     "iopub.execute_input": "2021-10-22T12:01:57.320378Z",
     "iopub.status.busy": "2021-10-22T12:01:57.319371Z",
     "iopub.status.idle": "2021-10-22T12:01:57.321441Z",
     "shell.execute_reply": "2021-10-22T12:01:57.321870Z"
    },
    "jupyter": {
     "source_hidden": true
    },
    "papermill": {
     "duration": 0.079756,
     "end_time": "2021-10-22T12:01:57.322113",
     "exception": false,
     "start_time": "2021-10-22T12:01:57.242357",
     "status": "completed"
    },
    "tags": []
   },
   "outputs": [],
   "source": [
    "## match/find all_org_df ID values\n",
    "nh_orgs = contact_org_df['Organization__c'].fillna(' ').apply(lambda x: x.lower())\n",
    "sf_org_strings = all_org_df['Name'].fillna(' ').apply(lambda x: x.lower()).to_list()\n",
    "sf_org_ids = all_org_df['Id'].fillna(' ')"
   ]
  },
  {
   "cell_type": "code",
   "execution_count": 9,
   "id": "ff066998",
   "metadata": {
    "execution": {
     "iopub.execute_input": "2021-10-22T12:01:57.569180Z",
     "iopub.status.busy": "2021-10-22T12:01:57.519123Z",
     "iopub.status.idle": "2021-10-22T12:01:57.676934Z",
     "shell.execute_reply": "2021-10-22T12:01:57.677418Z"
    },
    "jupyter": {
     "source_hidden": true
    },
    "papermill": {
     "duration": 0.288547,
     "end_time": "2021-10-22T12:01:57.677649",
     "exception": false,
     "start_time": "2021-10-22T12:01:57.389102",
     "status": "completed"
    },
    "tags": []
   },
   "outputs": [],
   "source": [
    "# continued from above snippet\n",
    "indices = [i for i, x in enumerate(nh_orgs.to_list()) if x != ' ']\n",
    "\n",
    "#check if organization already has a SF entry\n",
    "for i in indices:\n",
    "    if nh_orgs[i] in sf_org_strings: #if exact match\n",
    "        t_index = sf_org_strings.index(nh_orgs[i]) #pull exact id\n",
    "        nh_orgs[i] = sf_org_ids[t_index]\n",
    "    else:\n",
    "        nh_orgs[i] = ' '\n",
    "        \n",
    "#    else:\n",
    "#        #calculate the damerau levenshtein distance\n",
    "#        min_dl_dist,org_index = dl_dist(nh_orgs[i],sf_org_strings)\n",
    "#        if min_dl_dist <= 4: #fit the org to the org_index \n",
    "#            t_index = org_index\n",
    "#            nh_orgs[i] = sf_org_ids[t_index]\n",
    "        ## create new entry is involved... create a new DF, populate with new org entries, send to SF\n",
    "        ## pull SF assigned new org ID back, then repopulate the contacts SF DF with new org ID only for those new orgs \n",
    "        #else: #create new entry\n",
    "        #    t_index = org_index"
   ]
  },
  {
   "cell_type": "code",
   "execution_count": 10,
   "id": "916337b8",
   "metadata": {
    "execution": {
     "iopub.execute_input": "2021-10-22T12:01:57.811771Z",
     "iopub.status.busy": "2021-10-22T12:01:57.811059Z",
     "iopub.status.idle": "2021-10-22T12:01:57.813803Z",
     "shell.execute_reply": "2021-10-22T12:01:57.814297Z"
    },
    "jupyter": {
     "source_hidden": true
    },
    "papermill": {
     "duration": 0.07159,
     "end_time": "2021-10-22T12:01:57.814531",
     "exception": false,
     "start_time": "2021-10-22T12:01:57.742941",
     "status": "completed"
    },
    "tags": []
   },
   "outputs": [
    {
     "data": {
      "text/plain": [
       "0     \n",
       "1     \n",
       "2     \n",
       "Name: Organization__c, dtype: object"
      ]
     },
     "metadata": {},
     "output_type": "display_data"
    }
   ],
   "source": [
    "display(nh_orgs.head(3))"
   ]
  },
  {
   "cell_type": "code",
   "execution_count": 11,
   "id": "1eebc452",
   "metadata": {
    "execution": {
     "iopub.execute_input": "2021-10-22T12:01:57.960850Z",
     "iopub.status.busy": "2021-10-22T12:01:57.960171Z",
     "iopub.status.idle": "2021-10-22T12:01:57.962036Z",
     "shell.execute_reply": "2021-10-22T12:01:57.962570Z"
    },
    "jupyter": {
     "source_hidden": true
    },
    "papermill": {
     "duration": 0.079387,
     "end_time": "2021-10-22T12:01:57.962811",
     "exception": false,
     "start_time": "2021-10-22T12:01:57.883424",
     "status": "completed"
    },
    "tags": []
   },
   "outputs": [],
   "source": [
    "## Compare and readjust the organization_email_derived__c based on email domains\n",
    "email_orgs = contact_org_df['Organization_email_derived__c']\n",
    "emails = contact_org_df['Email'].fillna(' ').apply(lambda x: x.split('@')[-1])"
   ]
  },
  {
   "cell_type": "code",
   "execution_count": 12,
   "id": "274beac5",
   "metadata": {
    "execution": {
     "iopub.execute_input": "2021-10-22T12:01:58.105383Z",
     "iopub.status.busy": "2021-10-22T12:01:58.104753Z",
     "iopub.status.idle": "2021-10-22T12:01:58.106922Z",
     "shell.execute_reply": "2021-10-22T12:01:58.106415Z"
    },
    "jupyter": {
     "source_hidden": true
    },
    "papermill": {
     "duration": 0.076735,
     "end_time": "2021-10-22T12:01:58.107138",
     "exception": false,
     "start_time": "2021-10-22T12:01:58.030403",
     "status": "completed"
    },
    "tags": []
   },
   "outputs": [],
   "source": [
    "## all sf domains\n",
    "sf_domains = all_org_df['Domain__c'].to_list()"
   ]
  },
  {
   "cell_type": "code",
   "execution_count": 13,
   "id": "ea61b71a",
   "metadata": {
    "execution": {
     "iopub.execute_input": "2021-10-22T12:01:58.252544Z",
     "iopub.status.busy": "2021-10-22T12:01:58.251750Z",
     "iopub.status.idle": "2021-10-22T12:01:58.260139Z",
     "shell.execute_reply": "2021-10-22T12:01:58.260580Z"
    },
    "jupyter": {
     "source_hidden": true
    },
    "papermill": {
     "duration": 0.084691,
     "end_time": "2021-10-22T12:01:58.260973",
     "exception": false,
     "start_time": "2021-10-22T12:01:58.176282",
     "status": "completed"
    },
    "tags": []
   },
   "outputs": [
    {
     "data": {
      "text/html": [
       "<div>\n",
       "<style scoped>\n",
       "    .dataframe tbody tr th:only-of-type {\n",
       "        vertical-align: middle;\n",
       "    }\n",
       "\n",
       "    .dataframe tbody tr th {\n",
       "        vertical-align: top;\n",
       "    }\n",
       "\n",
       "    .dataframe thead th {\n",
       "        text-align: right;\n",
       "    }\n",
       "</style>\n",
       "<table border=\"1\" class=\"dataframe\">\n",
       "  <thead>\n",
       "    <tr style=\"text-align: right;\">\n",
       "      <th></th>\n",
       "      <th>Email</th>\n",
       "      <th>Id</th>\n",
       "      <th>Organization_Conflict__c</th>\n",
       "      <th>Organization__c</th>\n",
       "      <th>Organization_composite__c</th>\n",
       "      <th>Organization_email_derived__c</th>\n",
       "      <th>nanoHUB_user_ID__c</th>\n",
       "    </tr>\n",
       "  </thead>\n",
       "  <tbody>\n",
       "    <tr>\n",
       "      <th>0</th>\n",
       "      <td>lisagundy@arizona.edu</td>\n",
       "      <td>0035w00003EE0MoAAL</td>\n",
       "      <td>False</td>\n",
       "      <td>NaN</td>\n",
       "      <td>a0r5w00000V433WAAR</td>\n",
       "      <td>a0r5w00000V433WAAR</td>\n",
       "      <td>NaN</td>\n",
       "    </tr>\n",
       "    <tr>\n",
       "      <th>1</th>\n",
       "      <td>asdf1234@invalidaddress5.org</td>\n",
       "      <td>0035w00003DA2NpAAL</td>\n",
       "      <td>False</td>\n",
       "      <td>NaN</td>\n",
       "      <td>NaN</td>\n",
       "      <td>NaN</td>\n",
       "      <td>NaN</td>\n",
       "    </tr>\n",
       "  </tbody>\n",
       "</table>\n",
       "</div>"
      ],
      "text/plain": [
       "                          Email                  Id  Organization_Conflict__c  \\\n",
       "0         lisagundy@arizona.edu  0035w00003EE0MoAAL                     False   \n",
       "1  asdf1234@invalidaddress5.org  0035w00003DA2NpAAL                     False   \n",
       "\n",
       "  Organization__c Organization_composite__c Organization_email_derived__c  \\\n",
       "0             NaN        a0r5w00000V433WAAR            a0r5w00000V433WAAR   \n",
       "1             NaN                       NaN                           NaN   \n",
       "\n",
       "   nanoHUB_user_ID__c  \n",
       "0                 NaN  \n",
       "1                 NaN  "
      ]
     },
     "metadata": {},
     "output_type": "display_data"
    },
    {
     "data": {
      "text/html": [
       "<div>\n",
       "<style scoped>\n",
       "    .dataframe tbody tr th:only-of-type {\n",
       "        vertical-align: middle;\n",
       "    }\n",
       "\n",
       "    .dataframe tbody tr th {\n",
       "        vertical-align: top;\n",
       "    }\n",
       "\n",
       "    .dataframe thead th {\n",
       "        text-align: right;\n",
       "    }\n",
       "</style>\n",
       "<table border=\"1\" class=\"dataframe\">\n",
       "  <thead>\n",
       "    <tr style=\"text-align: right;\">\n",
       "      <th></th>\n",
       "      <th>Email</th>\n",
       "      <th>Id</th>\n",
       "      <th>Organization_Conflict__c</th>\n",
       "      <th>Organization__c</th>\n",
       "      <th>Organization_composite__c</th>\n",
       "      <th>Organization_email_derived__c</th>\n",
       "      <th>nanoHUB_user_ID__c</th>\n",
       "    </tr>\n",
       "  </thead>\n",
       "  <tbody>\n",
       "    <tr>\n",
       "      <th>4998</th>\n",
       "      <td>bbrenton@purdue.edu</td>\n",
       "      <td>0035w00003VBwtDAAT</td>\n",
       "      <td>False</td>\n",
       "      <td>purdue university</td>\n",
       "      <td>a0r5w00000V42cCAAR</td>\n",
       "      <td>a0r5w00000V42cCAAR</td>\n",
       "      <td>336716.0</td>\n",
       "    </tr>\n",
       "    <tr>\n",
       "      <th>4999</th>\n",
       "      <td>patil77@purdue.edu</td>\n",
       "      <td>0035w00003VBwtCAAT</td>\n",
       "      <td>False</td>\n",
       "      <td>purdue university</td>\n",
       "      <td>a0r5w00000V42cCAAR</td>\n",
       "      <td>a0r5w00000V42cCAAR</td>\n",
       "      <td>336715.0</td>\n",
       "    </tr>\n",
       "  </tbody>\n",
       "</table>\n",
       "</div>"
      ],
      "text/plain": [
       "                    Email                  Id  Organization_Conflict__c  \\\n",
       "4998  bbrenton@purdue.edu  0035w00003VBwtDAAT                     False   \n",
       "4999   patil77@purdue.edu  0035w00003VBwtCAAT                     False   \n",
       "\n",
       "        Organization__c Organization_composite__c  \\\n",
       "4998  purdue university        a0r5w00000V42cCAAR   \n",
       "4999  purdue university        a0r5w00000V42cCAAR   \n",
       "\n",
       "     Organization_email_derived__c  nanoHUB_user_ID__c  \n",
       "4998            a0r5w00000V42cCAAR            336716.0  \n",
       "4999            a0r5w00000V42cCAAR            336715.0  "
      ]
     },
     "metadata": {},
     "output_type": "display_data"
    }
   ],
   "source": [
    "display(contact_org_df.head(2))\n",
    "display(contact_org_df.tail(2))"
   ]
  },
  {
   "cell_type": "code",
   "execution_count": 14,
   "id": "9394088a",
   "metadata": {
    "execution": {
     "iopub.execute_input": "2021-10-22T12:01:58.414187Z",
     "iopub.status.busy": "2021-10-22T12:01:58.413486Z",
     "iopub.status.idle": "2021-10-22T12:01:58.938764Z",
     "shell.execute_reply": "2021-10-22T12:01:58.938370Z"
    },
    "jupyter": {
     "source_hidden": true
    },
    "papermill": {
     "duration": 0.605749,
     "end_time": "2021-10-22T12:01:58.938983",
     "exception": false,
     "start_time": "2021-10-22T12:01:58.333234",
     "status": "completed"
    },
    "tags": []
   },
   "outputs": [
    {
     "name": "stderr",
     "output_type": "stream",
     "text": [
      "/var/folders/64/2zrjfqsn7x3fxjzpq46kqcyr0000gp/T/ipykernel_5932/544009736.py:11: SettingWithCopyWarning: \n",
      "A value is trying to be set on a copy of a slice from a DataFrame\n",
      "\n",
      "See the caveats in the documentation: https://pandas.pydata.org/pandas-docs/stable/user_guide/indexing.html#returning-a-view-versus-a-copy\n",
      "  contact_org_df['Organization_email_derived__c'][i] = j_org\n"
     ]
    },
    {
     "data": {
      "text/html": [
       "<div>\n",
       "<style scoped>\n",
       "    .dataframe tbody tr th:only-of-type {\n",
       "        vertical-align: middle;\n",
       "    }\n",
       "\n",
       "    .dataframe tbody tr th {\n",
       "        vertical-align: top;\n",
       "    }\n",
       "\n",
       "    .dataframe thead th {\n",
       "        text-align: right;\n",
       "    }\n",
       "</style>\n",
       "<table border=\"1\" class=\"dataframe\">\n",
       "  <thead>\n",
       "    <tr style=\"text-align: right;\">\n",
       "      <th></th>\n",
       "      <th>Email</th>\n",
       "      <th>Id</th>\n",
       "      <th>Organization_Conflict__c</th>\n",
       "      <th>Organization__c</th>\n",
       "      <th>Organization_composite__c</th>\n",
       "      <th>Organization_email_derived__c</th>\n",
       "      <th>nanoHUB_user_ID__c</th>\n",
       "    </tr>\n",
       "  </thead>\n",
       "  <tbody>\n",
       "    <tr>\n",
       "      <th>0</th>\n",
       "      <td>lisagundy@arizona.edu</td>\n",
       "      <td>0035w00003EE0MoAAL</td>\n",
       "      <td>False</td>\n",
       "      <td>NaN</td>\n",
       "      <td>a0r5w00000V433WAAR</td>\n",
       "      <td>a0r5w00000V433WAAR</td>\n",
       "      <td>NaN</td>\n",
       "    </tr>\n",
       "    <tr>\n",
       "      <th>1</th>\n",
       "      <td>asdf1234@invalidaddress5.org</td>\n",
       "      <td>0035w00003DA2NpAAL</td>\n",
       "      <td>False</td>\n",
       "      <td>NaN</td>\n",
       "      <td>NaN</td>\n",
       "      <td>NaN</td>\n",
       "      <td>NaN</td>\n",
       "    </tr>\n",
       "  </tbody>\n",
       "</table>\n",
       "</div>"
      ],
      "text/plain": [
       "                          Email                  Id  Organization_Conflict__c  \\\n",
       "0         lisagundy@arizona.edu  0035w00003EE0MoAAL                     False   \n",
       "1  asdf1234@invalidaddress5.org  0035w00003DA2NpAAL                     False   \n",
       "\n",
       "  Organization__c Organization_composite__c Organization_email_derived__c  \\\n",
       "0             NaN        a0r5w00000V433WAAR            a0r5w00000V433WAAR   \n",
       "1             NaN                       NaN                           NaN   \n",
       "\n",
       "   nanoHUB_user_ID__c  \n",
       "0                 NaN  \n",
       "1                 NaN  "
      ]
     },
     "metadata": {},
     "output_type": "display_data"
    },
    {
     "data": {
      "text/html": [
       "<div>\n",
       "<style scoped>\n",
       "    .dataframe tbody tr th:only-of-type {\n",
       "        vertical-align: middle;\n",
       "    }\n",
       "\n",
       "    .dataframe tbody tr th {\n",
       "        vertical-align: top;\n",
       "    }\n",
       "\n",
       "    .dataframe thead th {\n",
       "        text-align: right;\n",
       "    }\n",
       "</style>\n",
       "<table border=\"1\" class=\"dataframe\">\n",
       "  <thead>\n",
       "    <tr style=\"text-align: right;\">\n",
       "      <th></th>\n",
       "      <th>Email</th>\n",
       "      <th>Id</th>\n",
       "      <th>Organization_Conflict__c</th>\n",
       "      <th>Organization__c</th>\n",
       "      <th>Organization_composite__c</th>\n",
       "      <th>Organization_email_derived__c</th>\n",
       "      <th>nanoHUB_user_ID__c</th>\n",
       "    </tr>\n",
       "  </thead>\n",
       "  <tbody>\n",
       "    <tr>\n",
       "      <th>4998</th>\n",
       "      <td>bbrenton@purdue.edu</td>\n",
       "      <td>0035w00003VBwtDAAT</td>\n",
       "      <td>False</td>\n",
       "      <td>purdue university</td>\n",
       "      <td>a0r5w00000V42cCAAR</td>\n",
       "      <td>a0r5w00000V42cCAAR</td>\n",
       "      <td>336716.0</td>\n",
       "    </tr>\n",
       "    <tr>\n",
       "      <th>4999</th>\n",
       "      <td>patil77@purdue.edu</td>\n",
       "      <td>0035w00003VBwtCAAT</td>\n",
       "      <td>False</td>\n",
       "      <td>purdue university</td>\n",
       "      <td>a0r5w00000V42cCAAR</td>\n",
       "      <td>a0r5w00000V42cCAAR</td>\n",
       "      <td>336715.0</td>\n",
       "    </tr>\n",
       "  </tbody>\n",
       "</table>\n",
       "</div>"
      ],
      "text/plain": [
       "                    Email                  Id  Organization_Conflict__c  \\\n",
       "4998  bbrenton@purdue.edu  0035w00003VBwtDAAT                     False   \n",
       "4999   patil77@purdue.edu  0035w00003VBwtCAAT                     False   \n",
       "\n",
       "        Organization__c Organization_composite__c  \\\n",
       "4998  purdue university        a0r5w00000V42cCAAR   \n",
       "4999  purdue university        a0r5w00000V42cCAAR   \n",
       "\n",
       "     Organization_email_derived__c  nanoHUB_user_ID__c  \n",
       "4998            a0r5w00000V42cCAAR            336716.0  \n",
       "4999            a0r5w00000V42cCAAR            336715.0  "
      ]
     },
     "metadata": {},
     "output_type": "display_data"
    }
   ],
   "source": [
    "## verify that the email_org entry corresponds to the correct organizational domain\n",
    "for i,j in enumerate(emails.to_list()):\n",
    "    ## apply fixes for mail.usf.edu to usf.edu - i.e., use the simplest derivative of the domains    \n",
    "    j_test = j.split('.')\n",
    "    if len(j_test) >= 3:\n",
    "        j = '.'.join(j_test[-2:])\n",
    "    \n",
    "    if j in sf_domains:\n",
    "        # pull the corresponding org Id\n",
    "        j_org = all_org_df['Id'][sf_domains.index(j)]\n",
    "        contact_org_df['Organization_email_derived__c'][i] = j_org\n",
    "        \n",
    "display(contact_org_df.head(2))\n",
    "display(contact_org_df.tail(2))"
   ]
  },
  {
   "cell_type": "code",
   "execution_count": 15,
   "id": "797e137a",
   "metadata": {
    "execution": {
     "iopub.execute_input": "2021-10-22T12:01:59.596861Z",
     "iopub.status.busy": "2021-10-22T12:01:59.237544Z",
     "iopub.status.idle": "2021-10-22T12:01:59.605981Z",
     "shell.execute_reply": "2021-10-22T12:01:59.606494Z"
    },
    "jupyter": {
     "source_hidden": true
    },
    "papermill": {
     "duration": 0.591537,
     "end_time": "2021-10-22T12:01:59.606730",
     "exception": false,
     "start_time": "2021-10-22T12:01:59.015193",
     "status": "completed"
    },
    "tags": []
   },
   "outputs": [
    {
     "name": "stderr",
     "output_type": "stream",
     "text": [
      "/var/folders/64/2zrjfqsn7x3fxjzpq46kqcyr0000gp/T/ipykernel_5932/3887748819.py:7: SettingWithCopyWarning: \n",
      "A value is trying to be set on a copy of a slice from a DataFrame\n",
      "\n",
      "See the caveats in the documentation: https://pandas.pydata.org/pandas-docs/stable/user_guide/indexing.html#returning-a-view-versus-a-copy\n",
      "  contact_org_df['Organization_composite__c'][i] = j\n",
      "/var/folders/64/2zrjfqsn7x3fxjzpq46kqcyr0000gp/T/ipykernel_5932/3887748819.py:9: SettingWithCopyWarning: \n",
      "A value is trying to be set on a copy of a slice from a DataFrame\n",
      "\n",
      "See the caveats in the documentation: https://pandas.pydata.org/pandas-docs/stable/user_guide/indexing.html#returning-a-view-versus-a-copy\n",
      "  contact_org_df['Organization_Conflict__c'][i] = True\n",
      "/var/folders/64/2zrjfqsn7x3fxjzpq46kqcyr0000gp/T/ipykernel_5932/3887748819.py:10: SettingWithCopyWarning: \n",
      "A value is trying to be set on a copy of a slice from a DataFrame\n",
      "\n",
      "See the caveats in the documentation: https://pandas.pydata.org/pandas-docs/stable/user_guide/indexing.html#returning-a-view-versus-a-copy\n",
      "  contact_org_df['Organization_composite__c'][i] = j\n",
      "/var/folders/64/2zrjfqsn7x3fxjzpq46kqcyr0000gp/T/ipykernel_5932/3887748819.py:13: SettingWithCopyWarning: \n",
      "A value is trying to be set on a copy of a slice from a DataFrame\n",
      "\n",
      "See the caveats in the documentation: https://pandas.pydata.org/pandas-docs/stable/user_guide/indexing.html#returning-a-view-versus-a-copy\n",
      "  contact_org_df['Organization_Conflict__c'][i] = False\n",
      "/var/folders/64/2zrjfqsn7x3fxjzpq46kqcyr0000gp/T/ipykernel_5932/3887748819.py:14: SettingWithCopyWarning: \n",
      "A value is trying to be set on a copy of a slice from a DataFrame\n",
      "\n",
      "See the caveats in the documentation: https://pandas.pydata.org/pandas-docs/stable/user_guide/indexing.html#returning-a-view-versus-a-copy\n",
      "  contact_org_df['Organization_composite__c'][i] = j\n"
     ]
    },
    {
     "data": {
      "text/html": [
       "<div>\n",
       "<style scoped>\n",
       "    .dataframe tbody tr th:only-of-type {\n",
       "        vertical-align: middle;\n",
       "    }\n",
       "\n",
       "    .dataframe tbody tr th {\n",
       "        vertical-align: top;\n",
       "    }\n",
       "\n",
       "    .dataframe thead th {\n",
       "        text-align: right;\n",
       "    }\n",
       "</style>\n",
       "<table border=\"1\" class=\"dataframe\">\n",
       "  <thead>\n",
       "    <tr style=\"text-align: right;\">\n",
       "      <th></th>\n",
       "      <th>Email</th>\n",
       "      <th>Id</th>\n",
       "      <th>Organization_Conflict__c</th>\n",
       "      <th>Organization__c</th>\n",
       "      <th>Organization_composite__c</th>\n",
       "      <th>Organization_email_derived__c</th>\n",
       "      <th>nanoHUB_user_ID__c</th>\n",
       "    </tr>\n",
       "  </thead>\n",
       "  <tbody>\n",
       "    <tr>\n",
       "      <th>0</th>\n",
       "      <td>lisagundy@arizona.edu</td>\n",
       "      <td>0035w00003EE0MoAAL</td>\n",
       "      <td>False</td>\n",
       "      <td>NaN</td>\n",
       "      <td>a0r5w00000V433WAAR</td>\n",
       "      <td>a0r5w00000V433WAAR</td>\n",
       "      <td>NaN</td>\n",
       "    </tr>\n",
       "    <tr>\n",
       "      <th>1</th>\n",
       "      <td>asdf1234@invalidaddress5.org</td>\n",
       "      <td>0035w00003DA2NpAAL</td>\n",
       "      <td>False</td>\n",
       "      <td>NaN</td>\n",
       "      <td>NaN</td>\n",
       "      <td>NaN</td>\n",
       "      <td>NaN</td>\n",
       "    </tr>\n",
       "    <tr>\n",
       "      <th>2</th>\n",
       "      <td>defnitelynotanemail7193@purdue.edu</td>\n",
       "      <td>0035w00003DA2MmAAL</td>\n",
       "      <td>False</td>\n",
       "      <td>NaN</td>\n",
       "      <td>a0r5w00000V42cCAAR</td>\n",
       "      <td>a0r5w00000V42cCAAR</td>\n",
       "      <td>NaN</td>\n",
       "    </tr>\n",
       "    <tr>\n",
       "      <th>3</th>\n",
       "      <td>lbaker@kellpartners.com</td>\n",
       "      <td>0035w000034KEj2AAG</td>\n",
       "      <td>False</td>\n",
       "      <td>NaN</td>\n",
       "      <td>NaN</td>\n",
       "      <td>NaN</td>\n",
       "      <td>NaN</td>\n",
       "    </tr>\n",
       "  </tbody>\n",
       "</table>\n",
       "</div>"
      ],
      "text/plain": [
       "                                Email                  Id  \\\n",
       "0               lisagundy@arizona.edu  0035w00003EE0MoAAL   \n",
       "1        asdf1234@invalidaddress5.org  0035w00003DA2NpAAL   \n",
       "2  defnitelynotanemail7193@purdue.edu  0035w00003DA2MmAAL   \n",
       "3             lbaker@kellpartners.com  0035w000034KEj2AAG   \n",
       "\n",
       "   Organization_Conflict__c Organization__c Organization_composite__c  \\\n",
       "0                     False             NaN        a0r5w00000V433WAAR   \n",
       "1                     False             NaN                       NaN   \n",
       "2                     False             NaN        a0r5w00000V42cCAAR   \n",
       "3                     False             NaN                       NaN   \n",
       "\n",
       "  Organization_email_derived__c  nanoHUB_user_ID__c  \n",
       "0            a0r5w00000V433WAAR                 NaN  \n",
       "1                           NaN                 NaN  \n",
       "2            a0r5w00000V42cCAAR                 NaN  \n",
       "3                           NaN                 NaN  "
      ]
     },
     "metadata": {},
     "output_type": "display_data"
    },
    {
     "data": {
      "text/html": [
       "<div>\n",
       "<style scoped>\n",
       "    .dataframe tbody tr th:only-of-type {\n",
       "        vertical-align: middle;\n",
       "    }\n",
       "\n",
       "    .dataframe tbody tr th {\n",
       "        vertical-align: top;\n",
       "    }\n",
       "\n",
       "    .dataframe thead th {\n",
       "        text-align: right;\n",
       "    }\n",
       "</style>\n",
       "<table border=\"1\" class=\"dataframe\">\n",
       "  <thead>\n",
       "    <tr style=\"text-align: right;\">\n",
       "      <th></th>\n",
       "      <th>Email</th>\n",
       "      <th>Id</th>\n",
       "      <th>Organization_Conflict__c</th>\n",
       "      <th>Organization__c</th>\n",
       "      <th>Organization_composite__c</th>\n",
       "      <th>Organization_email_derived__c</th>\n",
       "      <th>nanoHUB_user_ID__c</th>\n",
       "    </tr>\n",
       "  </thead>\n",
       "  <tbody>\n",
       "    <tr>\n",
       "      <th>4996</th>\n",
       "      <td>bensur@purdue.edu</td>\n",
       "      <td>0035w00003VBwtFAAT</td>\n",
       "      <td>False</td>\n",
       "      <td>purdue university</td>\n",
       "      <td>a0r5w00000V42cCAAR</td>\n",
       "      <td>a0r5w00000V42cCAAR</td>\n",
       "      <td>336718.0</td>\n",
       "    </tr>\n",
       "    <tr>\n",
       "      <th>4997</th>\n",
       "      <td>NaN</td>\n",
       "      <td>0035w00003VBwtEAAT</td>\n",
       "      <td>False</td>\n",
       "      <td>NaN</td>\n",
       "      <td>NaN</td>\n",
       "      <td></td>\n",
       "      <td>336717.0</td>\n",
       "    </tr>\n",
       "    <tr>\n",
       "      <th>4998</th>\n",
       "      <td>bbrenton@purdue.edu</td>\n",
       "      <td>0035w00003VBwtDAAT</td>\n",
       "      <td>False</td>\n",
       "      <td>purdue university</td>\n",
       "      <td>a0r5w00000V42cCAAR</td>\n",
       "      <td>a0r5w00000V42cCAAR</td>\n",
       "      <td>336716.0</td>\n",
       "    </tr>\n",
       "    <tr>\n",
       "      <th>4999</th>\n",
       "      <td>patil77@purdue.edu</td>\n",
       "      <td>0035w00003VBwtCAAT</td>\n",
       "      <td>False</td>\n",
       "      <td>purdue university</td>\n",
       "      <td>a0r5w00000V42cCAAR</td>\n",
       "      <td>a0r5w00000V42cCAAR</td>\n",
       "      <td>336715.0</td>\n",
       "    </tr>\n",
       "  </tbody>\n",
       "</table>\n",
       "</div>"
      ],
      "text/plain": [
       "                    Email                  Id  Organization_Conflict__c  \\\n",
       "4996    bensur@purdue.edu  0035w00003VBwtFAAT                     False   \n",
       "4997                  NaN  0035w00003VBwtEAAT                     False   \n",
       "4998  bbrenton@purdue.edu  0035w00003VBwtDAAT                     False   \n",
       "4999   patil77@purdue.edu  0035w00003VBwtCAAT                     False   \n",
       "\n",
       "        Organization__c Organization_composite__c  \\\n",
       "4996  purdue university        a0r5w00000V42cCAAR   \n",
       "4997                NaN                       NaN   \n",
       "4998  purdue university        a0r5w00000V42cCAAR   \n",
       "4999  purdue university        a0r5w00000V42cCAAR   \n",
       "\n",
       "     Organization_email_derived__c  nanoHUB_user_ID__c  \n",
       "4996            a0r5w00000V42cCAAR            336718.0  \n",
       "4997                                          336717.0  \n",
       "4998            a0r5w00000V42cCAAR            336716.0  \n",
       "4999            a0r5w00000V42cCAAR            336715.0  "
      ]
     },
     "metadata": {},
     "output_type": "display_data"
    }
   ],
   "source": [
    "## Compare the SF indexes of NH determined organization against that of Organization_email_derived__c\n",
    "email_orgs = contact_org_df['Organization_email_derived__c']\n",
    "\n",
    "for i,j in enumerate(nh_orgs.to_list()):\n",
    "    if j != ' ' and email_orgs[i] == ' ':\n",
    "        # nanohub org overwrites all other org flags\n",
    "        contact_org_df['Organization_composite__c'][i] = j\n",
    "    elif j != ' ' and j != email_orgs[i]:\n",
    "        contact_org_df['Organization_Conflict__c'][i] = True\n",
    "        contact_org_df['Organization_composite__c'][i] = j\n",
    "\n",
    "    elif j != ' ' and j == email_orgs[i]:\n",
    "        contact_org_df['Organization_Conflict__c'][i] = False\n",
    "        contact_org_df['Organization_composite__c'][i] = j\n",
    "\n",
    "        \n",
    "display(contact_org_df.head(4))\n",
    "display(contact_org_df.tail(4))"
   ]
  },
  {
   "cell_type": "code",
   "execution_count": 16,
   "id": "3c3026a5",
   "metadata": {
    "execution": {
     "iopub.execute_input": "2021-10-22T12:01:59.761611Z",
     "iopub.status.busy": "2021-10-22T12:01:59.760956Z",
     "iopub.status.idle": "2021-10-22T12:01:59.762880Z",
     "shell.execute_reply": "2021-10-22T12:01:59.763414Z"
    },
    "jupyter": {
     "source_hidden": true
    },
    "papermill": {
     "duration": 0.083106,
     "end_time": "2021-10-22T12:01:59.763651",
     "exception": false,
     "start_time": "2021-10-22T12:01:59.680545",
     "status": "completed"
    },
    "tags": []
   },
   "outputs": [],
   "source": [
    "contact_org_df = contact_org_df.drop(columns='Id')"
   ]
  },
  {
   "cell_type": "code",
   "execution_count": 17,
   "id": "483d1564",
   "metadata": {
    "execution": {
     "iopub.execute_input": "2021-10-22T12:01:59.928679Z",
     "iopub.status.busy": "2021-10-22T12:01:59.927983Z",
     "iopub.status.idle": "2021-10-22T12:01:59.931090Z",
     "shell.execute_reply": "2021-10-22T12:01:59.931589Z"
    },
    "jupyter": {
     "source_hidden": true
    },
    "papermill": {
     "duration": 0.089394,
     "end_time": "2021-10-22T12:01:59.931838",
     "exception": false,
     "start_time": "2021-10-22T12:01:59.842444",
     "status": "completed"
    },
    "tags": []
   },
   "outputs": [
    {
     "data": {
      "text/html": [
       "<div>\n",
       "<style scoped>\n",
       "    .dataframe tbody tr th:only-of-type {\n",
       "        vertical-align: middle;\n",
       "    }\n",
       "\n",
       "    .dataframe tbody tr th {\n",
       "        vertical-align: top;\n",
       "    }\n",
       "\n",
       "    .dataframe thead th {\n",
       "        text-align: right;\n",
       "    }\n",
       "</style>\n",
       "<table border=\"1\" class=\"dataframe\">\n",
       "  <thead>\n",
       "    <tr style=\"text-align: right;\">\n",
       "      <th></th>\n",
       "      <th>Email</th>\n",
       "      <th>Organization_Conflict__c</th>\n",
       "      <th>Organization__c</th>\n",
       "      <th>Organization_composite__c</th>\n",
       "      <th>Organization_email_derived__c</th>\n",
       "      <th>nanoHUB_user_ID__c</th>\n",
       "    </tr>\n",
       "  </thead>\n",
       "  <tbody>\n",
       "    <tr>\n",
       "      <th>0</th>\n",
       "      <td>lisagundy@arizona.edu</td>\n",
       "      <td>False</td>\n",
       "      <td>NaN</td>\n",
       "      <td>a0r5w00000V433WAAR</td>\n",
       "      <td>a0r5w00000V433WAAR</td>\n",
       "      <td>NaN</td>\n",
       "    </tr>\n",
       "    <tr>\n",
       "      <th>1</th>\n",
       "      <td>asdf1234@invalidaddress5.org</td>\n",
       "      <td>False</td>\n",
       "      <td>NaN</td>\n",
       "      <td>NaN</td>\n",
       "      <td>NaN</td>\n",
       "      <td>NaN</td>\n",
       "    </tr>\n",
       "  </tbody>\n",
       "</table>\n",
       "</div>"
      ],
      "text/plain": [
       "                          Email  Organization_Conflict__c Organization__c  \\\n",
       "0         lisagundy@arizona.edu                     False             NaN   \n",
       "1  asdf1234@invalidaddress5.org                     False             NaN   \n",
       "\n",
       "  Organization_composite__c Organization_email_derived__c  nanoHUB_user_ID__c  \n",
       "0        a0r5w00000V433WAAR            a0r5w00000V433WAAR                 NaN  \n",
       "1                       NaN                           NaN                 NaN  "
      ]
     },
     "metadata": {},
     "output_type": "display_data"
    }
   ],
   "source": [
    "display(contact_org_df.head(2))"
   ]
  },
  {
   "cell_type": "code",
   "execution_count": 18,
   "id": "ac603fcb",
   "metadata": {
    "execution": {
     "iopub.execute_input": "2021-10-22T12:02:00.112344Z",
     "iopub.status.busy": "2021-10-22T12:02:00.111770Z",
     "iopub.status.idle": "2021-10-22T12:02:00.114030Z",
     "shell.execute_reply": "2021-10-22T12:02:00.114463Z"
    },
    "jupyter": {
     "source_hidden": true
    },
    "papermill": {
     "duration": 0.100764,
     "end_time": "2021-10-22T12:02:00.114714",
     "exception": false,
     "start_time": "2021-10-22T12:02:00.013950",
     "status": "completed"
    },
    "tags": []
   },
   "outputs": [
    {
     "name": "stderr",
     "output_type": "stream",
     "text": [
      "/var/folders/64/2zrjfqsn7x3fxjzpq46kqcyr0000gp/T/ipykernel_5932/599738535.py:5: SettingWithCopyWarning: \n",
      "A value is trying to be set on a copy of a slice from a DataFrame\n",
      "\n",
      "See the caveats in the documentation: https://pandas.pydata.org/pandas-docs/stable/user_guide/indexing.html#returning-a-view-versus-a-copy\n",
      "  contact_org_df['Organization_email_derived__c'][indices] = ' '\n"
     ]
    }
   ],
   "source": [
    "## fixing commercial email hosts - zero out both Organization_composite__c and Organization_email_derived__c  \n",
    "indices = [i for i, x in enumerate(user_domains.to_list()) if x == ' ']\n",
    "\n",
    "#contact_org_df['Organization_composite__c'][indices] = ' '\n",
    "contact_org_df['Organization_email_derived__c'][indices] = ' '\n"
   ]
  },
  {
   "cell_type": "code",
   "execution_count": 19,
   "id": "e737f687",
   "metadata": {
    "execution": {
     "iopub.execute_input": "2021-10-22T12:02:00.284981Z",
     "iopub.status.busy": "2021-10-22T12:02:00.284027Z",
     "iopub.status.idle": "2021-10-22T12:02:00.286588Z",
     "shell.execute_reply": "2021-10-22T12:02:00.286979Z"
    },
    "jupyter": {
     "source_hidden": true
    },
    "papermill": {
     "duration": 0.095057,
     "end_time": "2021-10-22T12:02:00.287223",
     "exception": false,
     "start_time": "2021-10-22T12:02:00.192166",
     "status": "completed"
    },
    "tags": []
   },
   "outputs": [],
   "source": [
    "## all_org_df - find all commercial names that correspond to a commerical email domain\n",
    "nh_domains = all_org_df['Domain__c'].to_list()\n",
    "nh_cdi = [] #cdi = commercial domain indexes\n",
    "\n",
    "for i,j in enumerate(nh_domains):\n",
    "    if j in cdomains.domains:\n",
    "        nh_cdi.append(i)\n"
   ]
  },
  {
   "cell_type": "code",
   "execution_count": 20,
   "id": "64726ac7",
   "metadata": {
    "execution": {
     "iopub.execute_input": "2021-10-22T12:02:00.447849Z",
     "iopub.status.busy": "2021-10-22T12:02:00.446840Z",
     "iopub.status.idle": "2021-10-22T12:02:00.449967Z",
     "shell.execute_reply": "2021-10-22T12:02:00.450470Z"
    },
    "jupyter": {
     "source_hidden": true
    },
    "papermill": {
     "duration": 0.088464,
     "end_time": "2021-10-22T12:02:00.450702",
     "exception": false,
     "start_time": "2021-10-22T12:02:00.362238",
     "status": "completed"
    },
    "tags": []
   },
   "outputs": [
    {
     "data": {
      "text/html": [
       "<div>\n",
       "<style scoped>\n",
       "    .dataframe tbody tr th:only-of-type {\n",
       "        vertical-align: middle;\n",
       "    }\n",
       "\n",
       "    .dataframe tbody tr th {\n",
       "        vertical-align: top;\n",
       "    }\n",
       "\n",
       "    .dataframe thead th {\n",
       "        text-align: right;\n",
       "    }\n",
       "</style>\n",
       "<table border=\"1\" class=\"dataframe\">\n",
       "  <thead>\n",
       "    <tr style=\"text-align: right;\">\n",
       "      <th></th>\n",
       "      <th>Domain__c</th>\n",
       "      <th>Id</th>\n",
       "      <th>Name</th>\n",
       "    </tr>\n",
       "  </thead>\n",
       "  <tbody>\n",
       "    <tr>\n",
       "      <th>13</th>\n",
       "      <td>yahoo.com</td>\n",
       "      <td>a0r5w00000V42iXAAR</td>\n",
       "      <td>yahoo</td>\n",
       "    </tr>\n",
       "    <tr>\n",
       "      <th>24</th>\n",
       "      <td>aol.com</td>\n",
       "      <td>a0r5w00000V42iiAAB</td>\n",
       "      <td>aol</td>\n",
       "    </tr>\n",
       "  </tbody>\n",
       "</table>\n",
       "</div>"
      ],
      "text/plain": [
       "    Domain__c                  Id   Name\n",
       "13  yahoo.com  a0r5w00000V42iXAAR  yahoo\n",
       "24    aol.com  a0r5w00000V42iiAAB    aol"
      ]
     },
     "metadata": {},
     "output_type": "display_data"
    }
   ],
   "source": [
    "nh_c_all = all_org_df.iloc[nh_cdi,:]\n",
    "\n",
    "display(nh_c_all.head(2))\n",
    "nh_c_all = nh_c_all['Id'].to_list()"
   ]
  },
  {
   "cell_type": "code",
   "execution_count": 21,
   "id": "a95818d7",
   "metadata": {
    "execution": {
     "iopub.execute_input": "2021-10-22T12:02:00.621248Z",
     "iopub.status.busy": "2021-10-22T12:02:00.620727Z",
     "iopub.status.idle": "2021-10-22T12:02:00.628038Z",
     "shell.execute_reply": "2021-10-22T12:02:00.628488Z"
    },
    "jupyter": {
     "source_hidden": true
    },
    "papermill": {
     "duration": 0.096819,
     "end_time": "2021-10-22T12:02:00.628733",
     "exception": false,
     "start_time": "2021-10-22T12:02:00.531914",
     "status": "completed"
    },
    "tags": []
   },
   "outputs": [],
   "source": [
    "## go through every single composite organization, and ensure that they are all non-commercial\n",
    "composite_org_verify = contact_org_df['Organization_composite__c'][indices].to_list()\n",
    "\n",
    "for i,j in enumerate(composite_org_verify):\n",
    "    if j in nh_c_all:\n",
    "        contact_org_df.iloc[i,3] = ' '\n"
   ]
  },
  {
   "cell_type": "code",
   "execution_count": 22,
   "id": "9a668751",
   "metadata": {
    "execution": {
     "iopub.execute_input": "2021-10-22T12:02:00.793307Z",
     "iopub.status.busy": "2021-10-22T12:02:00.792469Z",
     "iopub.status.idle": "2021-10-22T12:02:00.795281Z",
     "shell.execute_reply": "2021-10-22T12:02:00.795699Z"
    },
    "jupyter": {
     "source_hidden": true
    },
    "papermill": {
     "duration": 0.088619,
     "end_time": "2021-10-22T12:02:00.795930",
     "exception": false,
     "start_time": "2021-10-22T12:02:00.707311",
     "status": "completed"
    },
    "scrolled": false,
    "tags": []
   },
   "outputs": [
    {
     "data": {
      "text/html": [
       "<div>\n",
       "<style scoped>\n",
       "    .dataframe tbody tr th:only-of-type {\n",
       "        vertical-align: middle;\n",
       "    }\n",
       "\n",
       "    .dataframe tbody tr th {\n",
       "        vertical-align: top;\n",
       "    }\n",
       "\n",
       "    .dataframe thead th {\n",
       "        text-align: right;\n",
       "    }\n",
       "</style>\n",
       "<table border=\"1\" class=\"dataframe\">\n",
       "  <thead>\n",
       "    <tr style=\"text-align: right;\">\n",
       "      <th></th>\n",
       "      <th>Email</th>\n",
       "      <th>Organization_Conflict__c</th>\n",
       "      <th>Organization__c</th>\n",
       "      <th>Organization_composite__c</th>\n",
       "      <th>Organization_email_derived__c</th>\n",
       "      <th>nanoHUB_user_ID__c</th>\n",
       "    </tr>\n",
       "  </thead>\n",
       "  <tbody>\n",
       "    <tr>\n",
       "      <th>0</th>\n",
       "      <td>lisagundy@arizona.edu</td>\n",
       "      <td>False</td>\n",
       "      <td>NaN</td>\n",
       "      <td>a0r5w00000V433WAAR</td>\n",
       "      <td>a0r5w00000V433WAAR</td>\n",
       "      <td>NaN</td>\n",
       "    </tr>\n",
       "    <tr>\n",
       "      <th>1</th>\n",
       "      <td>asdf1234@invalidaddress5.org</td>\n",
       "      <td>False</td>\n",
       "      <td>NaN</td>\n",
       "      <td>NaN</td>\n",
       "      <td>NaN</td>\n",
       "      <td>NaN</td>\n",
       "    </tr>\n",
       "    <tr>\n",
       "      <th>2</th>\n",
       "      <td>defnitelynotanemail7193@purdue.edu</td>\n",
       "      <td>False</td>\n",
       "      <td>NaN</td>\n",
       "      <td>a0r5w00000V42cCAAR</td>\n",
       "      <td>a0r5w00000V42cCAAR</td>\n",
       "      <td>NaN</td>\n",
       "    </tr>\n",
       "    <tr>\n",
       "      <th>3</th>\n",
       "      <td>lbaker@kellpartners.com</td>\n",
       "      <td>False</td>\n",
       "      <td>NaN</td>\n",
       "      <td>NaN</td>\n",
       "      <td>NaN</td>\n",
       "      <td>NaN</td>\n",
       "    </tr>\n",
       "    <tr>\n",
       "      <th>4</th>\n",
       "      <td>amy.morgan@northwestern.edu</td>\n",
       "      <td>False</td>\n",
       "      <td>NaN</td>\n",
       "      <td>a0r5w00000V42ikAAB</td>\n",
       "      <td>a0r5w00000V42ikAAB</td>\n",
       "      <td>NaN</td>\n",
       "    </tr>\n",
       "    <tr>\n",
       "      <th>...</th>\n",
       "      <td>...</td>\n",
       "      <td>...</td>\n",
       "      <td>...</td>\n",
       "      <td>...</td>\n",
       "      <td>...</td>\n",
       "      <td>...</td>\n",
       "    </tr>\n",
       "    <tr>\n",
       "      <th>95</th>\n",
       "      <td>ritush456@gmail.com</td>\n",
       "      <td>False</td>\n",
       "      <td>harvard university</td>\n",
       "      <td>a0r5w00000V42kEAAR</td>\n",
       "      <td></td>\n",
       "      <td>342859.0</td>\n",
       "    </tr>\n",
       "    <tr>\n",
       "      <th>96</th>\n",
       "      <td>NaN</td>\n",
       "      <td>False</td>\n",
       "      <td>NaN</td>\n",
       "      <td>NaN</td>\n",
       "      <td></td>\n",
       "      <td>342858.0</td>\n",
       "    </tr>\n",
       "    <tr>\n",
       "      <th>97</th>\n",
       "      <td>NaN</td>\n",
       "      <td>False</td>\n",
       "      <td>NaN</td>\n",
       "      <td>NaN</td>\n",
       "      <td></td>\n",
       "      <td>342856.0</td>\n",
       "    </tr>\n",
       "    <tr>\n",
       "      <th>98</th>\n",
       "      <td>khanasfand082@gmail.com</td>\n",
       "      <td>False</td>\n",
       "      <td>ned university of engineering and technology</td>\n",
       "      <td>NaN</td>\n",
       "      <td></td>\n",
       "      <td>342855.0</td>\n",
       "    </tr>\n",
       "    <tr>\n",
       "      <th>99</th>\n",
       "      <td>NaN</td>\n",
       "      <td>False</td>\n",
       "      <td>NaN</td>\n",
       "      <td>NaN</td>\n",
       "      <td></td>\n",
       "      <td>342852.0</td>\n",
       "    </tr>\n",
       "  </tbody>\n",
       "</table>\n",
       "<p>100 rows × 6 columns</p>\n",
       "</div>"
      ],
      "text/plain": [
       "                                 Email  Organization_Conflict__c  \\\n",
       "0                lisagundy@arizona.edu                     False   \n",
       "1         asdf1234@invalidaddress5.org                     False   \n",
       "2   defnitelynotanemail7193@purdue.edu                     False   \n",
       "3              lbaker@kellpartners.com                     False   \n",
       "4          amy.morgan@northwestern.edu                     False   \n",
       "..                                 ...                       ...   \n",
       "95                 ritush456@gmail.com                     False   \n",
       "96                                 NaN                     False   \n",
       "97                                 NaN                     False   \n",
       "98             khanasfand082@gmail.com                     False   \n",
       "99                                 NaN                     False   \n",
       "\n",
       "                                 Organization__c Organization_composite__c  \\\n",
       "0                                            NaN        a0r5w00000V433WAAR   \n",
       "1                                            NaN                       NaN   \n",
       "2                                            NaN        a0r5w00000V42cCAAR   \n",
       "3                                            NaN                       NaN   \n",
       "4                                            NaN        a0r5w00000V42ikAAB   \n",
       "..                                           ...                       ...   \n",
       "95                            harvard university        a0r5w00000V42kEAAR   \n",
       "96                                           NaN                       NaN   \n",
       "97                                           NaN                       NaN   \n",
       "98  ned university of engineering and technology                       NaN   \n",
       "99                                           NaN                       NaN   \n",
       "\n",
       "   Organization_email_derived__c  nanoHUB_user_ID__c  \n",
       "0             a0r5w00000V433WAAR                 NaN  \n",
       "1                            NaN                 NaN  \n",
       "2             a0r5w00000V42cCAAR                 NaN  \n",
       "3                            NaN                 NaN  \n",
       "4             a0r5w00000V42ikAAB                 NaN  \n",
       "..                           ...                 ...  \n",
       "95                                          342859.0  \n",
       "96                                          342858.0  \n",
       "97                                          342856.0  \n",
       "98                                          342855.0  \n",
       "99                                          342852.0  \n",
       "\n",
       "[100 rows x 6 columns]"
      ]
     },
     "metadata": {},
     "output_type": "display_data"
    }
   ],
   "source": [
    "display(contact_org_df.head(100))"
   ]
  },
  {
   "cell_type": "code",
   "execution_count": null,
   "id": "5fdcc321",
   "metadata": {
    "jupyter": {
     "source_hidden": true
    },
    "papermill": {
     "duration": 0.07713,
     "end_time": "2021-10-22T12:02:00.953564",
     "exception": false,
     "start_time": "2021-10-22T12:02:00.876434",
     "status": "completed"
    },
    "tags": []
   },
   "outputs": [],
   "source": []
  },
  {
   "cell_type": "markdown",
   "id": "8b853ac1",
   "metadata": {
    "papermill": {
     "duration": 0.07966,
     "end_time": "2021-10-22T12:02:01.115071",
     "exception": false,
     "start_time": "2021-10-22T12:02:01.035411",
     "status": "completed"
    },
    "tags": []
   },
   "source": [
    "## To Salesforce Sales Cloud CRM"
   ]
  },
  {
   "cell_type": "code",
   "execution_count": 23,
   "id": "dcdd96e7",
   "metadata": {
    "execution": {
     "iopub.execute_input": "2021-10-22T12:02:01.278967Z",
     "iopub.status.busy": "2021-10-22T12:02:01.278351Z",
     "iopub.status.idle": "2021-10-22T12:02:01.280774Z",
     "shell.execute_reply": "2021-10-22T12:02:01.281272Z"
    },
    "jupyter": {
     "source_hidden": true
    },
    "papermill": {
     "duration": 0.08639,
     "end_time": "2021-10-22T12:02:01.281562",
     "exception": false,
     "start_time": "2021-10-22T12:02:01.195172",
     "status": "completed"
    },
    "tags": []
   },
   "outputs": [],
   "source": [
    "\n",
    "# create DB2 to Salesforce API object\n",
    "db_s = salesforce\n",
    "\n",
    "# specify Salesforce object ID and external ID\n",
    "db_s.object_id = object_id\n",
    "db_s.external_id = external_id"
   ]
  },
  {
   "cell_type": "code",
   "execution_count": 24,
   "id": "f839d1d2",
   "metadata": {
    "execution": {
     "iopub.execute_input": "2021-10-22T12:02:01.455612Z",
     "iopub.status.busy": "2021-10-22T12:02:01.454908Z",
     "iopub.status.idle": "2021-10-22T12:02:03.006001Z",
     "shell.execute_reply": "2021-10-22T12:02:03.005110Z"
    },
    "jupyter": {
     "source_hidden": true
    },
    "papermill": {
     "duration": 1.640244,
     "end_time": "2021-10-22T12:02:03.006302",
     "exception": false,
     "start_time": "2021-10-22T12:02:01.366058",
     "status": "completed"
    },
    "tags": []
   },
   "outputs": [
    {
     "name": "stdout",
     "output_type": "stream",
     "text": [
      "[Success] Bulk job creation successful. Job ID = 7505w00000b1onTAAQ\n",
      "hello\n"
     ]
    },
    {
     "name": "stdout",
     "output_type": "stream",
     "text": [
      "[Success] CSV upload successful. Job ID = 7505w00000b1onTAAQ\n"
     ]
    },
    {
     "name": "stdout",
     "output_type": "stream",
     "text": [
      "[Success] Closing job successful. Job ID = 7505w00000b1onTAAQ\n"
     ]
    }
   ],
   "source": [
    "# send data to Salesforce\n",
    "db_s.send_data(contact_org_df)"
   ]
  },
  {
   "cell_type": "code",
   "execution_count": 25,
   "id": "6f836fca",
   "metadata": {
    "execution": {
     "iopub.execute_input": "2021-10-22T12:02:03.192766Z",
     "iopub.status.busy": "2021-10-22T12:02:03.192054Z",
     "iopub.status.idle": "2021-10-22T12:02:03.581874Z",
     "shell.execute_reply": "2021-10-22T12:02:03.582546Z"
    },
    "jupyter": {
     "source_hidden": true
    },
    "papermill": {
     "duration": 0.479819,
     "end_time": "2021-10-22T12:02:03.582817",
     "exception": false,
     "start_time": "2021-10-22T12:02:03.102998",
     "status": "completed"
    },
    "tags": []
   },
   "outputs": [
    {
     "data": {
      "text/plain": [
       "{'id': '7505w00000b1onTAAQ',\n",
       " 'operation': 'upsert',\n",
       " 'object': 'Contact',\n",
       " 'createdById': '0055w00000DM5bOAAT',\n",
       " 'createdDate': '2021-10-22T12:02:01.000+0000',\n",
       " 'systemModstamp': '2021-10-22T12:02:02.000+0000',\n",
       " 'state': 'UploadComplete',\n",
       " 'externalIdFieldName': 'nanoHUB_user_ID__c',\n",
       " 'concurrencyMode': 'Parallel',\n",
       " 'contentType': 'CSV',\n",
       " 'apiVersion': 47.0,\n",
       " 'jobType': 'V2Ingest',\n",
       " 'lineEnding': 'LF',\n",
       " 'columnDelimiter': 'COMMA',\n",
       " 'numberRecordsProcessed': 0,\n",
       " 'numberRecordsFailed': 0,\n",
       " 'retries': 0,\n",
       " 'totalProcessingTime': 0,\n",
       " 'apiActiveProcessingTime': 0,\n",
       " 'apexProcessingTime': 0}"
      ]
     },
     "execution_count": 25,
     "metadata": {},
     "output_type": "execute_result"
    }
   ],
   "source": [
    "# check status\n",
    "db_s.check_bulk_status()"
   ]
  },
  {
   "cell_type": "code",
   "execution_count": 26,
   "id": "6173a148",
   "metadata": {
    "execution": {
     "iopub.execute_input": "2021-10-22T12:02:03.759425Z",
     "iopub.status.busy": "2021-10-22T12:02:03.758711Z",
     "iopub.status.idle": "2021-10-22T12:02:03.984715Z",
     "shell.execute_reply": "2021-10-22T12:02:03.985784Z"
    },
    "jupyter": {
     "source_hidden": true
    },
    "papermill": {
     "duration": 0.31464,
     "end_time": "2021-10-22T12:02:03.986196",
     "exception": false,
     "start_time": "2021-10-22T12:02:03.671556",
     "status": "completed"
    },
    "scrolled": true,
    "tags": []
   },
   "outputs": [
    {
     "name": "stdout",
     "output_type": "stream",
     "text": [
      "''\n"
     ]
    }
   ],
   "source": [
    "from pprint import pprint\n",
    "pprint(db_s.check_bulk_failed_results())"
   ]
  },
  {
   "cell_type": "code",
   "execution_count": null,
   "id": "69c0532d",
   "metadata": {
    "jupyter": {
     "source_hidden": true
    },
    "papermill": {
     "duration": 0.086079,
     "end_time": "2021-10-22T12:02:04.169043",
     "exception": false,
     "start_time": "2021-10-22T12:02:04.082964",
     "status": "completed"
    },
    "tags": []
   },
   "outputs": [],
   "source": []
  },
  {
   "cell_type": "code",
   "execution_count": null,
   "id": "d8da1f5a",
   "metadata": {
    "jupyter": {
     "source_hidden": true
    },
    "papermill": {
     "duration": 0.093233,
     "end_time": "2021-10-22T12:02:04.344339",
     "exception": false,
     "start_time": "2021-10-22T12:02:04.251106",
     "status": "completed"
    },
    "tags": []
   },
   "outputs": [],
   "source": []
  }
 ],
 "metadata": {
  "celltoolbar": "Tags",
  "kernelspec": {
   "display_name": "Python 3",
   "language": "python",
   "name": "python3"
  },
  "language_info": {
   "codemirror_mode": {
    "name": "ipython",
    "version": 3
   },
   "file_extension": ".py",
   "mimetype": "text/x-python",
   "name": "python",
   "nbconvert_exporter": "python",
   "pygments_lexer": "ipython3",
   "version": "3.9.7"
  },
  "papermill": {
   "duration": 140.054688,
   "end_time": "2021-10-22T12:02:04.763930",
   "environment_variables": {},
   "exception": null,
   "input_path": "/Users/saxenap/Documents/Dev/nanoHUB/nanoHUB/pipeline/salesforce/task_user_org_reclass.ipynb",
   "output_path": "./.output/task_user_org_reclass.ipynb",
   "parameters": {},
   "start_time": "2021-10-22T11:59:44.709242",
   "version": "2.1.1"
  }
 },
 "nbformat": 4,
 "nbformat_minor": 5
}