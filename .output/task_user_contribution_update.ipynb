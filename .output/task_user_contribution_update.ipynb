{
 "cells": [
  {
   "cell_type": "markdown",
   "id": "43ff5570",
   "metadata": {
    "tags": [
     "papermill-error-cell-tag"
    ]
   },
   "source": [
    "<span style=\"color:red; font-family:Helvetica Neue, Helvetica, Arial, sans-serif; font-size:2em;\">An Exception was encountered at '<a href=\"#papermill-error-cell\">In [27]</a>'.</span>"
   ]
  },
  {
   "cell_type": "markdown",
   "id": "12fc4abc",
   "metadata": {
    "papermill": {
     "duration": 0.091993,
     "end_time": "2021-08-26T04:56:29.976801",
     "exception": false,
     "start_time": "2021-08-26T04:56:29.884808",
     "status": "completed"
    },
    "tags": []
   },
   "source": [
    "## update user contributions\n"
   ]
  },
  {
   "cell_type": "code",
   "execution_count": 1,
   "id": "0141a91f",
   "metadata": {
    "execution": {
     "iopub.execute_input": "2021-08-26T04:56:30.135892Z",
     "iopub.status.busy": "2021-08-26T04:56:30.135057Z",
     "iopub.status.idle": "2021-08-26T04:56:30.138283Z",
     "shell.execute_reply": "2021-08-26T04:56:30.138773Z"
    },
    "jupyter": {
     "source_hidden": true
    },
    "papermill": {
     "duration": 0.084425,
     "end_time": "2021-08-26T04:56:30.139171",
     "exception": false,
     "start_time": "2021-08-26T04:56:30.054746",
     "status": "completed"
    },
    "tags": []
   },
   "outputs": [],
   "source": [
    "## should do this on a monthly basis because 1) this is will quickly use up BULK API's allotted quantity\n",
    "## and 2) db2 only updates some usage numbers on a yearly or monthly basis\n",
    "\n",
    "## currently this script takes over 25 minutes to upload to SF"
   ]
  },
  {
   "cell_type": "code",
   "execution_count": 2,
   "id": "e8ea7e9c",
   "metadata": {
    "execution": {
     "iopub.execute_input": "2021-08-26T04:56:30.306555Z",
     "iopub.status.busy": "2021-08-26T04:56:30.305860Z",
     "iopub.status.idle": "2021-08-26T04:56:32.833203Z",
     "shell.execute_reply": "2021-08-26T04:56:32.833903Z"
    },
    "jupyter": {
     "source_hidden": true
    },
    "papermill": {
     "duration": 2.619696,
     "end_time": "2021-08-26T04:56:32.834170",
     "exception": false,
     "start_time": "2021-08-26T04:56:30.214474",
     "status": "completed"
    },
    "tags": []
   },
   "outputs": [
    {
     "name": "stdout",
     "output_type": "stream",
     "text": [
      "\u001b[1mnanoHUB - Serving Students, Researchers & Instructors\u001b[0m\n"
     ]
    },
    {
     "name": "stderr",
     "output_type": "stream",
     "text": [
      "2021-08-26 00:56:31,482| INFO    | 0 keys loaded from agent\n"
     ]
    },
    {
     "name": "stdout",
     "output_type": "stream",
     "text": [
      "2021-08-26 00:56:31,482 - [INFO] sshtunnel.SSHTunnelForwarder [sshtunnel.get_agent_keys:1060]: 0 keys loaded from agent\n"
     ]
    },
    {
     "name": "stderr",
     "output_type": "stream",
     "text": [
      "2021-08-26 00:56:31,484| INFO    | 0 key(s) loaded\n"
     ]
    },
    {
     "name": "stdout",
     "output_type": "stream",
     "text": [
      "2021-08-26 00:56:31,484 - [INFO] sshtunnel.SSHTunnelForwarder [sshtunnel.get_keys:1117]: 0 key(s) loaded\n"
     ]
    },
    {
     "name": "stderr",
     "output_type": "stream",
     "text": [
      "2021-08-26 00:56:31,486| INFO    | Connecting to gateway: db2.nanohub.org:22 as user 'saxenap'\n"
     ]
    },
    {
     "name": "stdout",
     "output_type": "stream",
     "text": [
      "2021-08-26 00:56:31,486 - [INFO] sshtunnel.SSHTunnelForwarder [sshtunnel.__init__:978]: Connecting to gateway: db2.nanohub.org:22 as user 'saxenap'\n"
     ]
    },
    {
     "name": "stdout",
     "output_type": "stream",
     "text": [
      "2021-08-26 00:56:31,488 - [\u001b[1mINFO\u001b[0m] \u001b[1mnanoHUB.containers.dataaccess\u001b[0m [connection.get_connection_for:101]: Started SSH Tunnel with db2.nanohub.org\n"
     ]
    },
    {
     "name": "stderr",
     "output_type": "stream",
     "text": [
      "2021-08-26 00:56:31,798| INFO    | Opening tunnel: 0.0.0.0:55319 <> 127.0.0.1:3306\n"
     ]
    },
    {
     "name": "stdout",
     "output_type": "stream",
     "text": [
      "2021-08-26 00:56:31,798 - [INFO] sshtunnel.SSHTunnelForwarder [sshtunnel._serve_forever_wrapper:1433]: Opening tunnel: 0.0.0.0:55319 <> 127.0.0.1:3306\n"
     ]
    },
    {
     "name": "stderr",
     "output_type": "stream",
     "text": [
      "2021-08-26 00:56:31,829| INFO    | 0 keys loaded from agent\n"
     ]
    },
    {
     "name": "stdout",
     "output_type": "stream",
     "text": [
      "2021-08-26 00:56:31,829 - [INFO] sshtunnel.SSHTunnelForwarder [sshtunnel.get_agent_keys:1060]: 0 keys loaded from agent\n"
     ]
    },
    {
     "name": "stderr",
     "output_type": "stream",
     "text": [
      "2021-08-26 00:56:31,832| INFO    | 0 key(s) loaded\n"
     ]
    },
    {
     "name": "stdout",
     "output_type": "stream",
     "text": [
      "2021-08-26 00:56:31,832 - [INFO] sshtunnel.SSHTunnelForwarder [sshtunnel.get_keys:1117]: 0 key(s) loaded\n"
     ]
    },
    {
     "name": "stderr",
     "output_type": "stream",
     "text": [
      "2021-08-26 00:56:31,834| INFO    | Connecting to gateway: db2.nanohub.org:22 as user 'saxenap'\n"
     ]
    },
    {
     "name": "stdout",
     "output_type": "stream",
     "text": [
      "2021-08-26 00:56:31,834 - [INFO] sshtunnel.SSHTunnelForwarder [sshtunnel.__init__:978]: Connecting to gateway: db2.nanohub.org:22 as user 'saxenap'\n"
     ]
    },
    {
     "name": "stdout",
     "output_type": "stream",
     "text": [
      "2021-08-26 00:56:31,837 - [\u001b[1mINFO\u001b[0m] \u001b[1mnanoHUB.containers.dataaccess\u001b[0m [connection.get_connection_for:101]: Started SSH Tunnel with db2.nanohub.org\n"
     ]
    },
    {
     "name": "stderr",
     "output_type": "stream",
     "text": [
      "2021-08-26 00:56:32,141| INFO    | Opening tunnel: 0.0.0.0:55321 <> 127.0.0.1:3306\n"
     ]
    },
    {
     "name": "stdout",
     "output_type": "stream",
     "text": [
      "2021-08-26 00:56:32,141 - [INFO] sshtunnel.SSHTunnelForwarder [sshtunnel._serve_forever_wrapper:1433]: Opening tunnel: 0.0.0.0:55321 <> 127.0.0.1:3306\n"
     ]
    },
    {
     "name": "stderr",
     "output_type": "stream",
     "text": [
      "2021-08-26 00:56:32,146| INFO    | 0 keys loaded from agent\n"
     ]
    },
    {
     "name": "stdout",
     "output_type": "stream",
     "text": [
      "2021-08-26 00:56:32,146 - [INFO] sshtunnel.SSHTunnelForwarder [sshtunnel.get_agent_keys:1060]: 0 keys loaded from agent\n"
     ]
    },
    {
     "name": "stderr",
     "output_type": "stream",
     "text": [
      "2021-08-26 00:56:32,151| INFO    | 0 key(s) loaded\n"
     ]
    },
    {
     "name": "stdout",
     "output_type": "stream",
     "text": [
      "2021-08-26 00:56:32,151 - [INFO] sshtunnel.SSHTunnelForwarder [sshtunnel.get_keys:1117]: 0 key(s) loaded\n"
     ]
    },
    {
     "name": "stderr",
     "output_type": "stream",
     "text": [
      "2021-08-26 00:56:32,153| INFO    | Connecting to gateway: db2.nanohub.org:22 as user 'saxenap'\n"
     ]
    },
    {
     "name": "stdout",
     "output_type": "stream",
     "text": [
      "2021-08-26 00:56:32,153 - [INFO] sshtunnel.SSHTunnelForwarder [sshtunnel.__init__:978]: Connecting to gateway: db2.nanohub.org:22 as user 'saxenap'\n"
     ]
    },
    {
     "name": "stdout",
     "output_type": "stream",
     "text": [
      "2021-08-26 00:56:32,156 - [\u001b[1mINFO\u001b[0m] \u001b[1mnanoHUB.containers.dataaccess\u001b[0m [connection.get_connection_for:101]: Started SSH Tunnel with db2.nanohub.org\n"
     ]
    },
    {
     "name": "stderr",
     "output_type": "stream",
     "text": [
      "2021-08-26 00:56:32,462| INFO    | Opening tunnel: 0.0.0.0:55323 <> 127.0.0.1:3306\n"
     ]
    },
    {
     "name": "stdout",
     "output_type": "stream",
     "text": [
      "2021-08-26 00:56:32,462 - [INFO] sshtunnel.SSHTunnelForwarder [sshtunnel._serve_forever_wrapper:1433]: Opening tunnel: 0.0.0.0:55323 <> 127.0.0.1:3306\n"
     ]
    },
    {
     "name": "stdout",
     "output_type": "stream",
     "text": [
      "Obtained Salesforce access token ...... True\n"
     ]
    }
   ],
   "source": [
    "# API settings\n",
    "api_url = '/services/data/v43.0/sobjects'\n",
    "external_id = 'Name'\n",
    "#object_id = 'ContactToolAssociation__c'\n",
    "\n",
    "# login parameters to be handled by Papermill\n",
    "from nanoHUB.application import Application\n",
    "\n",
    "application = Application.get_instance()\n",
    "nanohub_db = application.new_db_engine('nanohub')\n",
    "nanohub_metrics_db = application.new_db_engine('nanohub_metrics')\n",
    "wang159_myrmekes_db = application.new_db_engine('wang159_myrmekes')\n",
    "\n",
    "\n",
    "salesforce = application.new_salesforce_engine()\n",
    "db_s = salesforce"
   ]
  },
  {
   "cell_type": "code",
   "execution_count": 3,
   "id": "16f1f0d0",
   "metadata": {
    "execution": {
     "iopub.execute_input": "2021-08-26T04:56:33.036721Z",
     "iopub.status.busy": "2021-08-26T04:56:33.035803Z",
     "iopub.status.idle": "2021-08-26T04:56:33.038175Z",
     "shell.execute_reply": "2021-08-26T04:56:33.038578Z"
    },
    "jupyter": {
     "source_hidden": true
    },
    "papermill": {
     "duration": 0.102266,
     "end_time": "2021-08-26T04:56:33.038812",
     "exception": false,
     "start_time": "2021-08-26T04:56:32.936546",
     "status": "completed"
    },
    "tags": []
   },
   "outputs": [],
   "source": [
    "import sys\n",
    "#sys.path.append('/home/users/wang2506/nanohub_salesforce_integ/salesforce')\n",
    "\n",
    "import pandas as pd\n",
    "import time\n",
    "import datetime\n",
    "\n",
    "# from DB2SalesforceAPI import DB2SalesforceAPI"
   ]
  },
  {
   "cell_type": "markdown",
   "id": "27bd5f98",
   "metadata": {
    "papermill": {
     "duration": 0.092749,
     "end_time": "2021-08-26T04:56:33.227504",
     "exception": false,
     "start_time": "2021-08-26T04:56:33.134755",
     "status": "completed"
    },
    "tags": []
   },
   "source": [
    "## Obtain information from DB2 "
   ]
  },
  {
   "cell_type": "code",
   "execution_count": 4,
   "id": "7496da76",
   "metadata": {
    "execution": {
     "iopub.execute_input": "2021-08-26T04:56:33.419827Z",
     "iopub.status.busy": "2021-08-26T04:56:33.418930Z",
     "iopub.status.idle": "2021-08-26T04:56:33.421254Z",
     "shell.execute_reply": "2021-08-26T04:56:33.421734Z"
    },
    "jupyter": {
     "source_hidden": true
    },
    "papermill": {
     "duration": 0.098723,
     "end_time": "2021-08-26T04:56:33.421968",
     "exception": false,
     "start_time": "2021-08-26T04:56:33.323245",
     "status": "completed"
    },
    "tags": []
   },
   "outputs": [],
   "source": [
    "#pre-filtering queries using datetime\n",
    "date_temp = datetime.datetime.today()\n",
    "year = date_temp.year\n",
    "month = date_temp.month\n",
    "period = 14\n",
    "if month < 10:\n",
    "    date_str0 = '\\''+ str(year)+'-0'+str(month)+'-00'+'\\''\n",
    "    date_str1 = '\\''+str(year)+'-0'+str(month)+'-01'+'\\''\n",
    "else:\n",
    "    date_str0 = '\\''+ str(year)+'-'+str(month)+'-00'+'\\''\n",
    "    date_str1 = '\\''+str(year)+'-'+str(month)+'-01'+'\\''"
   ]
  },
  {
   "cell_type": "code",
   "execution_count": 5,
   "id": "d6b70db6",
   "metadata": {
    "execution": {
     "iopub.execute_input": "2021-08-26T04:56:33.617661Z",
     "iopub.status.busy": "2021-08-26T04:56:33.616932Z",
     "iopub.status.idle": "2021-08-26T04:56:33.620096Z",
     "shell.execute_reply": "2021-08-26T04:56:33.620465Z"
    },
    "jupyter": {
     "source_hidden": true
    },
    "papermill": {
     "duration": 0.101916,
     "end_time": "2021-08-26T04:56:33.620625",
     "exception": false,
     "start_time": "2021-08-26T04:56:33.518709",
     "status": "completed"
    },
    "tags": []
   },
   "outputs": [
    {
     "name": "stdout",
     "output_type": "stream",
     "text": [
      "'2021-08-00'\n",
      "'2021-08-01'\n"
     ]
    }
   ],
   "source": [
    "print(date_str0)\n",
    "print(date_str1)"
   ]
  },
  {
   "cell_type": "code",
   "execution_count": null,
   "id": "ceee86f2",
   "metadata": {
    "jupyter": {
     "source_hidden": true
    },
    "papermill": {
     "duration": 0.093064,
     "end_time": "2021-08-26T04:56:33.808004",
     "exception": false,
     "start_time": "2021-08-26T04:56:33.714940",
     "status": "completed"
    },
    "tags": []
   },
   "outputs": [],
   "source": []
  },
  {
   "cell_type": "code",
   "execution_count": 6,
   "id": "7646557a",
   "metadata": {
    "execution": {
     "iopub.execute_input": "2021-08-26T04:56:34.005473Z",
     "iopub.status.busy": "2021-08-26T04:56:34.004288Z",
     "iopub.status.idle": "2021-08-26T04:56:34.394150Z",
     "shell.execute_reply": "2021-08-26T04:56:34.395147Z"
    },
    "jupyter": {
     "source_hidden": true
    },
    "papermill": {
     "duration": 0.493781,
     "end_time": "2021-08-26T04:56:34.395486",
     "exception": false,
     "start_time": "2021-08-26T04:56:33.901705",
     "status": "completed"
    },
    "tags": []
   },
   "outputs": [],
   "source": [
    "# extract the wiki contributions\n",
    "sql_query = \"select hits, created_by from jos_wiki_pages where state = '1' and scope = 'site';\"\n",
    "wiki_results_df = pd.read_sql_query(sql_query,nanohub_db)\n",
    "#corresponds to wiki_usage__c, wiki_contributions__c"
   ]
  },
  {
   "cell_type": "code",
   "execution_count": 7,
   "id": "e9423db7",
   "metadata": {
    "execution": {
     "iopub.execute_input": "2021-08-26T04:56:34.609423Z",
     "iopub.status.busy": "2021-08-26T04:56:34.608629Z",
     "iopub.status.idle": "2021-08-26T04:56:35.081340Z",
     "shell.execute_reply": "2021-08-26T04:56:35.081885Z"
    },
    "jupyter": {
     "source_hidden": true
    },
    "papermill": {
     "duration": 0.576125,
     "end_time": "2021-08-26T04:56:35.082171",
     "exception": false,
     "start_time": "2021-08-26T04:56:34.506046",
     "status": "completed"
    },
    "tags": []
   },
   "outputs": [],
   "source": [
    "# extract paper contributions; need investigate how to get the usage per paper\n",
    "sql_query = \"select authorid, hits from jos_resources left join jos_author_assoc \"\\\n",
    "            \"on jos_author_assoc.subid = jos_resources.id where type = '3' and access in ('0','3','1') \"\\\n",
    "            \"and standalone = '1' and published in ('1');\"\n",
    "papers_df = pd.read_sql_query(sql_query,nanohub_db)"
   ]
  },
  {
   "cell_type": "code",
   "execution_count": 8,
   "id": "5dc02588",
   "metadata": {
    "execution": {
     "iopub.execute_input": "2021-08-26T04:56:35.282451Z",
     "iopub.status.busy": "2021-08-26T04:56:35.281697Z",
     "iopub.status.idle": "2021-08-26T04:56:43.667309Z",
     "shell.execute_reply": "2021-08-26T04:56:43.667824Z"
    },
    "jupyter": {
     "source_hidden": true
    },
    "papermill": {
     "duration": 8.483637,
     "end_time": "2021-08-26T04:56:43.668071",
     "exception": false,
     "start_time": "2021-08-26T04:56:35.184434",
     "status": "completed"
    },
    "tags": []
   },
   "outputs": [],
   "source": [
    "# extract presentation contributions; need to see how to get usage per presentation\n",
    "sql_query = \"select authorid, hits from jos_resources left join jos_author_assoc \"\\\n",
    "            \"on jos_author_assoc.subid = jos_resources.id where type = '1' and access in ('0','3','1') \"\\\n",
    "            \"and standalone = '1' and published in ('1');\"\n",
    "presentation_df = pd.read_sql_query(sql_query,nanohub_db)"
   ]
  },
  {
   "cell_type": "code",
   "execution_count": 9,
   "id": "e66d2929",
   "metadata": {
    "execution": {
     "iopub.execute_input": "2021-08-26T04:56:43.860495Z",
     "iopub.status.busy": "2021-08-26T04:56:43.859479Z",
     "iopub.status.idle": "2021-08-26T04:56:45.582369Z",
     "shell.execute_reply": "2021-08-26T04:56:45.583547Z"
    },
    "jupyter": {
     "source_hidden": true
    },
    "papermill": {
     "duration": 1.822102,
     "end_time": "2021-08-26T04:56:45.583845",
     "exception": false,
     "start_time": "2021-08-26T04:56:43.761743",
     "status": "completed"
    },
    "tags": []
   },
   "outputs": [],
   "source": [
    "# extract presentation contributions; need to see how to get usage per presentation\n",
    "sql_query = \"select authorid, hits from jos_resources left join jos_author_assoc \"\\\n",
    "            \"on jos_author_assoc.subid = jos_resources.id where type = '7' and access in ('0','3','1') \"\\\n",
    "            \"and standalone = '1' and published in ('1');\"\n",
    "tools_df = pd.read_sql_query(sql_query,nanohub_db)"
   ]
  },
  {
   "cell_type": "code",
   "execution_count": 10,
   "id": "3d8ae826",
   "metadata": {
    "execution": {
     "iopub.execute_input": "2021-08-26T04:56:45.805569Z",
     "iopub.status.busy": "2021-08-26T04:56:45.804923Z",
     "iopub.status.idle": "2021-08-26T04:56:46.734022Z",
     "shell.execute_reply": "2021-08-26T04:56:46.734487Z"
    },
    "jupyter": {
     "source_hidden": true
    },
    "papermill": {
     "duration": 1.029512,
     "end_time": "2021-08-26T04:56:46.734749",
     "exception": false,
     "start_time": "2021-08-26T04:56:45.705237",
     "status": "completed"
    },
    "tags": []
   },
   "outputs": [],
   "source": [
    "# getting the users that used the contributions\n",
    "sql_query = \"select * from jos_author_stats WHERE datetime \" \\\n",
    "    \"between \" + date_str0 +\" and \" + date_str1 + \" and period = 14;\"\n",
    "\n",
    "result_users_df = pd.read_sql_query(sql_query, nanohub_db)"
   ]
  },
  {
   "cell_type": "raw",
   "id": "176939ae",
   "metadata": {
    "papermill": {
     "duration": 0.094664,
     "end_time": "2021-08-26T04:56:46.924239",
     "exception": false,
     "start_time": "2021-08-26T04:56:46.829575",
     "status": "completed"
    },
    "tags": []
   },
   "source": [
    "## deprecated - the table hasn't been updated in years\n",
    "# getting the total number of contributions\n",
    "sql_query = \"select * from jos_real_contributors;\" #this is not up-to-date\n",
    "\n",
    "num_contri_df = pd.read_sql_query(sql_query, engine)\n",
    "display(num_contri_df.head(2))"
   ]
  },
  {
   "cell_type": "code",
   "execution_count": 11,
   "id": "6b8a3729",
   "metadata": {
    "execution": {
     "iopub.execute_input": "2021-08-26T04:56:47.175643Z",
     "iopub.status.busy": "2021-08-26T04:56:47.175021Z",
     "iopub.status.idle": "2021-08-26T04:56:47.199234Z",
     "shell.execute_reply": "2021-08-26T04:56:47.198688Z"
    },
    "jupyter": {
     "source_hidden": true
    },
    "papermill": {
     "duration": 0.124922,
     "end_time": "2021-08-26T04:56:47.199397",
     "exception": false,
     "start_time": "2021-08-26T04:56:47.074475",
     "status": "completed"
    },
    "tags": []
   },
   "outputs": [
    {
     "data": {
      "text/html": [
       "<div>\n",
       "<style scoped>\n",
       "    .dataframe tbody tr th:only-of-type {\n",
       "        vertical-align: middle;\n",
       "    }\n",
       "\n",
       "    .dataframe tbody tr th {\n",
       "        vertical-align: top;\n",
       "    }\n",
       "\n",
       "    .dataframe thead th {\n",
       "        text-align: right;\n",
       "    }\n",
       "</style>\n",
       "<table border=\"1\" class=\"dataframe\">\n",
       "  <thead>\n",
       "    <tr style=\"text-align: right;\">\n",
       "      <th></th>\n",
       "      <th>hits</th>\n",
       "      <th>created_by</th>\n",
       "    </tr>\n",
       "  </thead>\n",
       "  <tbody>\n",
       "    <tr>\n",
       "      <th>0</th>\n",
       "      <td>6540</td>\n",
       "      <td>4843</td>\n",
       "    </tr>\n",
       "    <tr>\n",
       "      <th>1</th>\n",
       "      <td>44525</td>\n",
       "      <td>8780</td>\n",
       "    </tr>\n",
       "  </tbody>\n",
       "</table>\n",
       "</div>"
      ],
      "text/plain": [
       "    hits  created_by\n",
       "0   6540        4843\n",
       "1  44525        8780"
      ]
     },
     "metadata": {},
     "output_type": "display_data"
    },
    {
     "data": {
      "text/html": [
       "<div>\n",
       "<style scoped>\n",
       "    .dataframe tbody tr th:only-of-type {\n",
       "        vertical-align: middle;\n",
       "    }\n",
       "\n",
       "    .dataframe tbody tr th {\n",
       "        vertical-align: top;\n",
       "    }\n",
       "\n",
       "    .dataframe thead th {\n",
       "        text-align: right;\n",
       "    }\n",
       "</style>\n",
       "<table border=\"1\" class=\"dataframe\">\n",
       "  <thead>\n",
       "    <tr style=\"text-align: right;\">\n",
       "      <th></th>\n",
       "      <th>authorid</th>\n",
       "      <th>hits</th>\n",
       "    </tr>\n",
       "  </thead>\n",
       "  <tbody>\n",
       "    <tr>\n",
       "      <th>0</th>\n",
       "      <td>1871.0</td>\n",
       "      <td>13674</td>\n",
       "    </tr>\n",
       "    <tr>\n",
       "      <th>1</th>\n",
       "      <td>2862.0</td>\n",
       "      <td>24552</td>\n",
       "    </tr>\n",
       "  </tbody>\n",
       "</table>\n",
       "</div>"
      ],
      "text/plain": [
       "   authorid   hits\n",
       "0    1871.0  13674\n",
       "1    2862.0  24552"
      ]
     },
     "metadata": {},
     "output_type": "display_data"
    },
    {
     "data": {
      "text/html": [
       "<div>\n",
       "<style scoped>\n",
       "    .dataframe tbody tr th:only-of-type {\n",
       "        vertical-align: middle;\n",
       "    }\n",
       "\n",
       "    .dataframe tbody tr th {\n",
       "        vertical-align: top;\n",
       "    }\n",
       "\n",
       "    .dataframe thead th {\n",
       "        text-align: right;\n",
       "    }\n",
       "</style>\n",
       "<table border=\"1\" class=\"dataframe\">\n",
       "  <thead>\n",
       "    <tr style=\"text-align: right;\">\n",
       "      <th></th>\n",
       "      <th>authorid</th>\n",
       "      <th>hits</th>\n",
       "    </tr>\n",
       "  </thead>\n",
       "  <tbody>\n",
       "    <tr>\n",
       "      <th>0</th>\n",
       "      <td>-16.0</td>\n",
       "      <td>10468</td>\n",
       "    </tr>\n",
       "    <tr>\n",
       "      <th>1</th>\n",
       "      <td>3013.0</td>\n",
       "      <td>6991</td>\n",
       "    </tr>\n",
       "  </tbody>\n",
       "</table>\n",
       "</div>"
      ],
      "text/plain": [
       "   authorid   hits\n",
       "0     -16.0  10468\n",
       "1    3013.0   6991"
      ]
     },
     "metadata": {},
     "output_type": "display_data"
    },
    {
     "data": {
      "text/html": [
       "<div>\n",
       "<style scoped>\n",
       "    .dataframe tbody tr th:only-of-type {\n",
       "        vertical-align: middle;\n",
       "    }\n",
       "\n",
       "    .dataframe tbody tr th {\n",
       "        vertical-align: top;\n",
       "    }\n",
       "\n",
       "    .dataframe thead th {\n",
       "        text-align: right;\n",
       "    }\n",
       "</style>\n",
       "<table border=\"1\" class=\"dataframe\">\n",
       "  <thead>\n",
       "    <tr style=\"text-align: right;\">\n",
       "      <th></th>\n",
       "      <th>authorid</th>\n",
       "      <th>hits</th>\n",
       "    </tr>\n",
       "  </thead>\n",
       "  <tbody>\n",
       "    <tr>\n",
       "      <th>0</th>\n",
       "      <td>-5.0</td>\n",
       "      <td>251605</td>\n",
       "    </tr>\n",
       "    <tr>\n",
       "      <th>1</th>\n",
       "      <td>8629.0</td>\n",
       "      <td>50032</td>\n",
       "    </tr>\n",
       "  </tbody>\n",
       "</table>\n",
       "</div>"
      ],
      "text/plain": [
       "   authorid    hits\n",
       "0      -5.0  251605\n",
       "1    8629.0   50032"
      ]
     },
     "metadata": {},
     "output_type": "display_data"
    },
    {
     "data": {
      "text/html": [
       "<div>\n",
       "<style scoped>\n",
       "    .dataframe tbody tr th:only-of-type {\n",
       "        vertical-align: middle;\n",
       "    }\n",
       "\n",
       "    .dataframe tbody tr th {\n",
       "        vertical-align: top;\n",
       "    }\n",
       "\n",
       "    .dataframe thead th {\n",
       "        text-align: right;\n",
       "    }\n",
       "</style>\n",
       "<table border=\"1\" class=\"dataframe\">\n",
       "  <thead>\n",
       "    <tr style=\"text-align: right;\">\n",
       "      <th></th>\n",
       "      <th>id</th>\n",
       "      <th>authorid</th>\n",
       "      <th>tool_users</th>\n",
       "      <th>andmore_users</th>\n",
       "      <th>total_users</th>\n",
       "      <th>datetime</th>\n",
       "      <th>period</th>\n",
       "    </tr>\n",
       "  </thead>\n",
       "  <tbody>\n",
       "    <tr>\n",
       "      <th>0</th>\n",
       "      <td>1257581</td>\n",
       "      <td>4843</td>\n",
       "      <td>3490.0</td>\n",
       "      <td>917</td>\n",
       "      <td>4386</td>\n",
       "      <td>2021-08-00 00:00:00</td>\n",
       "      <td>14</td>\n",
       "    </tr>\n",
       "    <tr>\n",
       "      <th>1</th>\n",
       "      <td>1257584</td>\n",
       "      <td>28115</td>\n",
       "      <td>1988.0</td>\n",
       "      <td>0</td>\n",
       "      <td>1988</td>\n",
       "      <td>2021-08-00 00:00:00</td>\n",
       "      <td>14</td>\n",
       "    </tr>\n",
       "  </tbody>\n",
       "</table>\n",
       "</div>"
      ],
      "text/plain": [
       "        id  authorid  tool_users  andmore_users  total_users  \\\n",
       "0  1257581      4843      3490.0            917         4386   \n",
       "1  1257584     28115      1988.0              0         1988   \n",
       "\n",
       "              datetime  period  \n",
       "0  2021-08-00 00:00:00      14  \n",
       "1  2021-08-00 00:00:00      14  "
      ]
     },
     "metadata": {},
     "output_type": "display_data"
    },
    {
     "name": "stdout",
     "output_type": "stream",
     "text": [
      "(3368, 7)\n"
     ]
    }
   ],
   "source": [
    "display(wiki_results_df.head(2))\n",
    "display(papers_df.head(2))\n",
    "display(presentation_df.head(2))\n",
    "display(tools_df.head(2))\n",
    "display(result_users_df.head(2))\n",
    "print(result_users_df.shape)"
   ]
  },
  {
   "cell_type": "code",
   "execution_count": 12,
   "id": "9ee919d5",
   "metadata": {
    "execution": {
     "iopub.execute_input": "2021-08-26T04:56:47.411592Z",
     "iopub.status.busy": "2021-08-26T04:56:47.410974Z",
     "iopub.status.idle": "2021-08-26T04:56:47.412821Z",
     "shell.execute_reply": "2021-08-26T04:56:47.413190Z"
    },
    "jupyter": {
     "source_hidden": true
    },
    "papermill": {
     "duration": 0.108746,
     "end_time": "2021-08-26T04:56:47.413350",
     "exception": false,
     "start_time": "2021-08-26T04:56:47.304604",
     "status": "completed"
    },
    "tags": []
   },
   "outputs": [],
   "source": [
    "## get rid of all negative authorids from all of the dataframes\n",
    "wikidrops = []\n",
    "wikikeeps = []\n",
    "for ind,val in enumerate(wiki_results_df['created_by'].to_list()):\n",
    "    if val <= 0:\n",
    "        wikidrops.append(ind)\n",
    "    else:\n",
    "        wikikeeps.append(ind)\n",
    "wiki_results_df = wiki_results_df.iloc[wikikeeps,:]"
   ]
  },
  {
   "cell_type": "code",
   "execution_count": 13,
   "id": "3edad35f",
   "metadata": {
    "execution": {
     "iopub.execute_input": "2021-08-26T04:56:47.622872Z",
     "iopub.status.busy": "2021-08-26T04:56:47.622150Z",
     "iopub.status.idle": "2021-08-26T04:56:47.625519Z",
     "shell.execute_reply": "2021-08-26T04:56:47.626054Z"
    },
    "jupyter": {
     "source_hidden": true
    },
    "papermill": {
     "duration": 0.109685,
     "end_time": "2021-08-26T04:56:47.626227",
     "exception": false,
     "start_time": "2021-08-26T04:56:47.516542",
     "status": "completed"
    },
    "tags": []
   },
   "outputs": [
    {
     "data": {
      "text/html": [
       "<div>\n",
       "<style scoped>\n",
       "    .dataframe tbody tr th:only-of-type {\n",
       "        vertical-align: middle;\n",
       "    }\n",
       "\n",
       "    .dataframe tbody tr th {\n",
       "        vertical-align: top;\n",
       "    }\n",
       "\n",
       "    .dataframe thead th {\n",
       "        text-align: right;\n",
       "    }\n",
       "</style>\n",
       "<table border=\"1\" class=\"dataframe\">\n",
       "  <thead>\n",
       "    <tr style=\"text-align: right;\">\n",
       "      <th></th>\n",
       "      <th>hits</th>\n",
       "      <th>created_by</th>\n",
       "    </tr>\n",
       "  </thead>\n",
       "  <tbody>\n",
       "    <tr>\n",
       "      <th>0</th>\n",
       "      <td>6540</td>\n",
       "      <td>4843</td>\n",
       "    </tr>\n",
       "    <tr>\n",
       "      <th>1</th>\n",
       "      <td>44525</td>\n",
       "      <td>8780</td>\n",
       "    </tr>\n",
       "  </tbody>\n",
       "</table>\n",
       "</div>"
      ],
      "text/plain": [
       "    hits  created_by\n",
       "0   6540        4843\n",
       "1  44525        8780"
      ]
     },
     "metadata": {},
     "output_type": "display_data"
    }
   ],
   "source": [
    "display(wiki_results_df.head(2))"
   ]
  },
  {
   "cell_type": "code",
   "execution_count": 14,
   "id": "e3aae637",
   "metadata": {
    "execution": {
     "iopub.execute_input": "2021-08-26T04:56:47.837021Z",
     "iopub.status.busy": "2021-08-26T04:56:47.835805Z",
     "iopub.status.idle": "2021-08-26T04:56:47.837828Z",
     "shell.execute_reply": "2021-08-26T04:56:47.838294Z"
    },
    "jupyter": {
     "source_hidden": true
    },
    "papermill": {
     "duration": 0.109599,
     "end_time": "2021-08-26T04:56:47.838481",
     "exception": false,
     "start_time": "2021-08-26T04:56:47.728882",
     "status": "completed"
    },
    "tags": []
   },
   "outputs": [],
   "source": [
    "## papers df \n",
    "pdrops = []\n",
    "pkeeps = []\n",
    "for ind,val in enumerate(papers_df['authorid'].to_list()):\n",
    "    if val <= 0:\n",
    "        pdrops.append(ind)\n",
    "    else:\n",
    "        pkeeps.append(ind)\n",
    "papers_df = papers_df.iloc[pkeeps,:]"
   ]
  },
  {
   "cell_type": "code",
   "execution_count": 15,
   "id": "6961bce1",
   "metadata": {
    "execution": {
     "iopub.execute_input": "2021-08-26T04:56:48.051877Z",
     "iopub.status.busy": "2021-08-26T04:56:48.050851Z",
     "iopub.status.idle": "2021-08-26T04:56:48.054660Z",
     "shell.execute_reply": "2021-08-26T04:56:48.055025Z"
    },
    "jupyter": {
     "source_hidden": true
    },
    "papermill": {
     "duration": 0.112566,
     "end_time": "2021-08-26T04:56:48.055190",
     "exception": false,
     "start_time": "2021-08-26T04:56:47.942624",
     "status": "completed"
    },
    "tags": []
   },
   "outputs": [
    {
     "data": {
      "text/html": [
       "<div>\n",
       "<style scoped>\n",
       "    .dataframe tbody tr th:only-of-type {\n",
       "        vertical-align: middle;\n",
       "    }\n",
       "\n",
       "    .dataframe tbody tr th {\n",
       "        vertical-align: top;\n",
       "    }\n",
       "\n",
       "    .dataframe thead th {\n",
       "        text-align: right;\n",
       "    }\n",
       "</style>\n",
       "<table border=\"1\" class=\"dataframe\">\n",
       "  <thead>\n",
       "    <tr style=\"text-align: right;\">\n",
       "      <th></th>\n",
       "      <th>authorid</th>\n",
       "      <th>hits</th>\n",
       "    </tr>\n",
       "  </thead>\n",
       "  <tbody>\n",
       "    <tr>\n",
       "      <th>0</th>\n",
       "      <td>1871.0</td>\n",
       "      <td>13674</td>\n",
       "    </tr>\n",
       "    <tr>\n",
       "      <th>1</th>\n",
       "      <td>2862.0</td>\n",
       "      <td>24552</td>\n",
       "    </tr>\n",
       "  </tbody>\n",
       "</table>\n",
       "</div>"
      ],
      "text/plain": [
       "   authorid   hits\n",
       "0    1871.0  13674\n",
       "1    2862.0  24552"
      ]
     },
     "metadata": {},
     "output_type": "display_data"
    }
   ],
   "source": [
    "display(papers_df.head(2))"
   ]
  },
  {
   "cell_type": "code",
   "execution_count": 16,
   "id": "6831513d",
   "metadata": {
    "execution": {
     "iopub.execute_input": "2021-08-26T04:56:48.269008Z",
     "iopub.status.busy": "2021-08-26T04:56:48.268331Z",
     "iopub.status.idle": "2021-08-26T04:56:48.270866Z",
     "shell.execute_reply": "2021-08-26T04:56:48.271261Z"
    },
    "jupyter": {
     "source_hidden": true
    },
    "papermill": {
     "duration": 0.110849,
     "end_time": "2021-08-26T04:56:48.271550",
     "exception": false,
     "start_time": "2021-08-26T04:56:48.160701",
     "status": "completed"
    },
    "tags": []
   },
   "outputs": [],
   "source": [
    "## presentation_df\n",
    "prdrops = []\n",
    "prkeeps = []\n",
    "for ind,val in enumerate(presentation_df['authorid'].to_list()):\n",
    "    if val <= 0:\n",
    "        prdrops.append(ind)\n",
    "    else:\n",
    "        prkeeps.append(ind)\n",
    "presentation_df = presentation_df.iloc[prkeeps,:]"
   ]
  },
  {
   "cell_type": "code",
   "execution_count": 17,
   "id": "a3113c0a",
   "metadata": {
    "execution": {
     "iopub.execute_input": "2021-08-26T04:56:48.487900Z",
     "iopub.status.busy": "2021-08-26T04:56:48.487027Z",
     "iopub.status.idle": "2021-08-26T04:56:48.490734Z",
     "shell.execute_reply": "2021-08-26T04:56:48.491232Z"
    },
    "jupyter": {
     "source_hidden": true
    },
    "papermill": {
     "duration": 0.113401,
     "end_time": "2021-08-26T04:56:48.491460",
     "exception": false,
     "start_time": "2021-08-26T04:56:48.378059",
     "status": "completed"
    },
    "tags": []
   },
   "outputs": [
    {
     "data": {
      "text/html": [
       "<div>\n",
       "<style scoped>\n",
       "    .dataframe tbody tr th:only-of-type {\n",
       "        vertical-align: middle;\n",
       "    }\n",
       "\n",
       "    .dataframe tbody tr th {\n",
       "        vertical-align: top;\n",
       "    }\n",
       "\n",
       "    .dataframe thead th {\n",
       "        text-align: right;\n",
       "    }\n",
       "</style>\n",
       "<table border=\"1\" class=\"dataframe\">\n",
       "  <thead>\n",
       "    <tr style=\"text-align: right;\">\n",
       "      <th></th>\n",
       "      <th>authorid</th>\n",
       "      <th>hits</th>\n",
       "    </tr>\n",
       "  </thead>\n",
       "  <tbody>\n",
       "    <tr>\n",
       "      <th>1</th>\n",
       "      <td>3013.0</td>\n",
       "      <td>6991</td>\n",
       "    </tr>\n",
       "    <tr>\n",
       "      <th>2</th>\n",
       "      <td>2862.0</td>\n",
       "      <td>21358</td>\n",
       "    </tr>\n",
       "  </tbody>\n",
       "</table>\n",
       "</div>"
      ],
      "text/plain": [
       "   authorid   hits\n",
       "1    3013.0   6991\n",
       "2    2862.0  21358"
      ]
     },
     "metadata": {},
     "output_type": "display_data"
    }
   ],
   "source": [
    "display(presentation_df.head(2))"
   ]
  },
  {
   "cell_type": "markdown",
   "id": "abf0f24c",
   "metadata": {
    "papermill": {
     "duration": 0.098012,
     "end_time": "2021-08-26T04:56:48.688886",
     "exception": false,
     "start_time": "2021-08-26T04:56:48.590874",
     "status": "completed"
    },
    "tags": []
   },
   "source": [
    "## roll up information from wiki_results_df, papers_df, and presentation_df"
   ]
  },
  {
   "cell_type": "code",
   "execution_count": 18,
   "id": "ee2a0a59",
   "metadata": {
    "execution": {
     "iopub.execute_input": "2021-08-26T04:56:48.907192Z",
     "iopub.status.busy": "2021-08-26T04:56:48.906570Z",
     "iopub.status.idle": "2021-08-26T04:56:48.913371Z",
     "shell.execute_reply": "2021-08-26T04:56:48.913740Z"
    },
    "jupyter": {
     "source_hidden": true
    },
    "papermill": {
     "duration": 0.121078,
     "end_time": "2021-08-26T04:56:48.913904",
     "exception": false,
     "start_time": "2021-08-26T04:56:48.792826",
     "status": "completed"
    },
    "tags": []
   },
   "outputs": [
    {
     "data": {
      "text/html": [
       "<div>\n",
       "<style scoped>\n",
       "    .dataframe tbody tr th:only-of-type {\n",
       "        vertical-align: middle;\n",
       "    }\n",
       "\n",
       "    .dataframe tbody tr th {\n",
       "        vertical-align: top;\n",
       "    }\n",
       "\n",
       "    .dataframe thead th {\n",
       "        text-align: right;\n",
       "    }\n",
       "</style>\n",
       "<table border=\"1\" class=\"dataframe\">\n",
       "  <thead>\n",
       "    <tr style=\"text-align: right;\">\n",
       "      <th></th>\n",
       "      <th>nanoHUB_user_ID__c1</th>\n",
       "      <th>wiki_contributions__c</th>\n",
       "      <th>nanoHUB_user_ID__c2</th>\n",
       "      <th>wiki_usage__c</th>\n",
       "    </tr>\n",
       "  </thead>\n",
       "  <tbody>\n",
       "    <tr>\n",
       "      <th>0</th>\n",
       "      <td>1852</td>\n",
       "      <td>3</td>\n",
       "      <td>1852</td>\n",
       "      <td>27718</td>\n",
       "    </tr>\n",
       "    <tr>\n",
       "      <th>1</th>\n",
       "      <td>2862</td>\n",
       "      <td>1</td>\n",
       "      <td>2862</td>\n",
       "      <td>5280</td>\n",
       "    </tr>\n",
       "  </tbody>\n",
       "</table>\n",
       "</div>"
      ],
      "text/plain": [
       "   nanoHUB_user_ID__c1  wiki_contributions__c  nanoHUB_user_ID__c2  \\\n",
       "0                 1852                      3                 1852   \n",
       "1                 2862                      1                 2862   \n",
       "\n",
       "   wiki_usage__c  \n",
       "0          27718  \n",
       "1           5280  "
      ]
     },
     "metadata": {},
     "output_type": "display_data"
    }
   ],
   "source": [
    "# wiki_results_df\n",
    "\n",
    "## get the number of unique wiki contributions\n",
    "wikic = wiki_results_df.groupby(['created_by']).size().reset_index() #need reset_index to save the authorid/created_by field\n",
    "wikic.columns = ['nanoHUB_user_ID__c','wiki_contributions__c']\n",
    "wikic = pd.DataFrame(wikic)\n",
    "\n",
    "## rollup usage\n",
    "wikic2 = wiki_results_df.groupby(['created_by']).sum().reset_index()\n",
    "wikic2.columns = ['nanoHUB_user_ID__c','wiki_usage__c']\n",
    "wikic2 = pd.DataFrame(wikic2)\n",
    "\n",
    "wikic = wikic.join(wikic2,lsuffix='1', rsuffix='2')\n",
    "display(wikic.head(2))"
   ]
  },
  {
   "cell_type": "code",
   "execution_count": 19,
   "id": "25fcaaba",
   "metadata": {
    "execution": {
     "iopub.execute_input": "2021-08-26T04:56:49.128072Z",
     "iopub.status.busy": "2021-08-26T04:56:49.127120Z",
     "iopub.status.idle": "2021-08-26T04:56:49.131107Z",
     "shell.execute_reply": "2021-08-26T04:56:49.131512Z"
    },
    "jupyter": {
     "source_hidden": true
    },
    "papermill": {
     "duration": 0.115188,
     "end_time": "2021-08-26T04:56:49.131742",
     "exception": false,
     "start_time": "2021-08-26T04:56:49.016554",
     "status": "completed"
    },
    "tags": []
   },
   "outputs": [
    {
     "data": {
      "text/html": [
       "<div>\n",
       "<style scoped>\n",
       "    .dataframe tbody tr th:only-of-type {\n",
       "        vertical-align: middle;\n",
       "    }\n",
       "\n",
       "    .dataframe tbody tr th {\n",
       "        vertical-align: top;\n",
       "    }\n",
       "\n",
       "    .dataframe thead th {\n",
       "        text-align: right;\n",
       "    }\n",
       "</style>\n",
       "<table border=\"1\" class=\"dataframe\">\n",
       "  <thead>\n",
       "    <tr style=\"text-align: right;\">\n",
       "      <th></th>\n",
       "      <th>nanoHUB_user_ID__c</th>\n",
       "      <th>wiki_contributions__c</th>\n",
       "      <th>wiki_usage__c</th>\n",
       "    </tr>\n",
       "  </thead>\n",
       "  <tbody>\n",
       "    <tr>\n",
       "      <th>0</th>\n",
       "      <td>1852</td>\n",
       "      <td>3</td>\n",
       "      <td>27718</td>\n",
       "    </tr>\n",
       "    <tr>\n",
       "      <th>1</th>\n",
       "      <td>2862</td>\n",
       "      <td>1</td>\n",
       "      <td>5280</td>\n",
       "    </tr>\n",
       "  </tbody>\n",
       "</table>\n",
       "</div>"
      ],
      "text/plain": [
       "   nanoHUB_user_ID__c  wiki_contributions__c  wiki_usage__c\n",
       "0                1852                      3          27718\n",
       "1                2862                      1           5280"
      ]
     },
     "metadata": {},
     "output_type": "display_data"
    }
   ],
   "source": [
    "wikic = wikic.drop(columns=['nanoHUB_user_ID__c2'])\n",
    "wikic = wikic.rename(columns={\"nanoHUB_user_ID__c1\": \"nanoHUB_user_ID__c\"})\n",
    "display(wikic.head(2))"
   ]
  },
  {
   "cell_type": "code",
   "execution_count": 20,
   "id": "087510b7",
   "metadata": {
    "execution": {
     "iopub.execute_input": "2021-08-26T04:56:49.356103Z",
     "iopub.status.busy": "2021-08-26T04:56:49.355378Z",
     "iopub.status.idle": "2021-08-26T04:56:49.358879Z",
     "shell.execute_reply": "2021-08-26T04:56:49.359245Z"
    },
    "jupyter": {
     "source_hidden": true
    },
    "papermill": {
     "duration": 0.12093,
     "end_time": "2021-08-26T04:56:49.359407",
     "exception": false,
     "start_time": "2021-08-26T04:56:49.238477",
     "status": "completed"
    },
    "tags": []
   },
   "outputs": [
    {
     "data": {
      "text/html": [
       "<div>\n",
       "<style scoped>\n",
       "    .dataframe tbody tr th:only-of-type {\n",
       "        vertical-align: middle;\n",
       "    }\n",
       "\n",
       "    .dataframe tbody tr th {\n",
       "        vertical-align: top;\n",
       "    }\n",
       "\n",
       "    .dataframe thead th {\n",
       "        text-align: right;\n",
       "    }\n",
       "</style>\n",
       "<table border=\"1\" class=\"dataframe\">\n",
       "  <thead>\n",
       "    <tr style=\"text-align: right;\">\n",
       "      <th></th>\n",
       "      <th>nanoHUB_user_ID__c</th>\n",
       "      <th>paper_contributions__c</th>\n",
       "    </tr>\n",
       "  </thead>\n",
       "  <tbody>\n",
       "    <tr>\n",
       "      <th>0</th>\n",
       "      <td>1852.0</td>\n",
       "      <td>3</td>\n",
       "    </tr>\n",
       "    <tr>\n",
       "      <th>1</th>\n",
       "      <td>1871.0</td>\n",
       "      <td>1</td>\n",
       "    </tr>\n",
       "  </tbody>\n",
       "</table>\n",
       "</div>"
      ],
      "text/plain": [
       "   nanoHUB_user_ID__c  paper_contributions__c\n",
       "0              1852.0                       3\n",
       "1              1871.0                       1"
      ]
     },
     "metadata": {},
     "output_type": "display_data"
    }
   ],
   "source": [
    "# papers_df - just need the number of unique contributions\n",
    "\n",
    "## get the number of unique paper contributions\n",
    "papersc = papers_df.groupby(['authorid']).size().reset_index() #need reset_index to save the authorid/created_by field\n",
    "papersc.columns = ['nanoHUB_user_ID__c','paper_contributions__c']\n",
    "papersc = pd.DataFrame(papersc)\n",
    "\n",
    "## to add in the number of paper hits in the future ##TODO\n",
    "\n",
    "display(papersc.head(2))"
   ]
  },
  {
   "cell_type": "code",
   "execution_count": 21,
   "id": "f43f209d",
   "metadata": {
    "execution": {
     "iopub.execute_input": "2021-08-26T04:56:49.580176Z",
     "iopub.status.busy": "2021-08-26T04:56:49.579236Z",
     "iopub.status.idle": "2021-08-26T04:56:49.587214Z",
     "shell.execute_reply": "2021-08-26T04:56:49.587631Z"
    },
    "jupyter": {
     "source_hidden": true
    },
    "papermill": {
     "duration": 0.119218,
     "end_time": "2021-08-26T04:56:49.587798",
     "exception": false,
     "start_time": "2021-08-26T04:56:49.468580",
     "status": "completed"
    },
    "tags": []
   },
   "outputs": [
    {
     "data": {
      "text/html": [
       "<div>\n",
       "<style scoped>\n",
       "    .dataframe tbody tr th:only-of-type {\n",
       "        vertical-align: middle;\n",
       "    }\n",
       "\n",
       "    .dataframe tbody tr th {\n",
       "        vertical-align: top;\n",
       "    }\n",
       "\n",
       "    .dataframe thead th {\n",
       "        text-align: right;\n",
       "    }\n",
       "</style>\n",
       "<table border=\"1\" class=\"dataframe\">\n",
       "  <thead>\n",
       "    <tr style=\"text-align: right;\">\n",
       "      <th></th>\n",
       "      <th>nanoHUB_user_ID__c</th>\n",
       "      <th>presentations_contributions__c</th>\n",
       "    </tr>\n",
       "  </thead>\n",
       "  <tbody>\n",
       "    <tr>\n",
       "      <th>0</th>\n",
       "      <td>1742.0</td>\n",
       "      <td>2</td>\n",
       "    </tr>\n",
       "    <tr>\n",
       "      <th>1</th>\n",
       "      <td>1810.0</td>\n",
       "      <td>1</td>\n",
       "    </tr>\n",
       "  </tbody>\n",
       "</table>\n",
       "</div>"
      ],
      "text/plain": [
       "   nanoHUB_user_ID__c  presentations_contributions__c\n",
       "0              1742.0                               2\n",
       "1              1810.0                               1"
      ]
     },
     "metadata": {},
     "output_type": "display_data"
    }
   ],
   "source": [
    "# presentation_df - just need the number of unique contributions\n",
    "\n",
    "## get the number of unique presentation contributions\n",
    "pres_c = presentation_df.groupby(['authorid']).size().reset_index() #need reset_index to save the authorid/created_by field\n",
    "pres_c.columns = ['nanoHUB_user_ID__c','presentations_contributions__c']\n",
    "pres_c = pd.DataFrame(pres_c)\n",
    "\n",
    "## to add in the number of paper hits in the future ##TODO\n",
    "\n",
    "display(pres_c.head(2))"
   ]
  },
  {
   "cell_type": "markdown",
   "id": "4b0116dc",
   "metadata": {
    "papermill": {
     "duration": 0.105128,
     "end_time": "2021-08-26T04:56:49.800715",
     "exception": false,
     "start_time": "2021-08-26T04:56:49.695587",
     "status": "completed"
    },
    "tags": []
   },
   "source": [
    "## Big picture users dataframe development"
   ]
  },
  {
   "cell_type": "code",
   "execution_count": 22,
   "id": "2f8affa4",
   "metadata": {
    "execution": {
     "iopub.execute_input": "2021-08-26T04:56:50.021950Z",
     "iopub.status.busy": "2021-08-26T04:56:50.021309Z",
     "iopub.status.idle": "2021-08-26T04:56:50.023156Z",
     "shell.execute_reply": "2021-08-26T04:56:50.023522Z"
    },
    "jupyter": {
     "source_hidden": true
    },
    "papermill": {
     "duration": 0.111478,
     "end_time": "2021-08-26T04:56:50.023687",
     "exception": false,
     "start_time": "2021-08-26T04:56:49.912209",
     "status": "completed"
    },
    "tags": []
   },
   "outputs": [],
   "source": [
    "# rename the authorid in result_users_df, then join all of the dataframes\n",
    "ovr_df = result_users_df.rename(columns={\"authorid\": \"nanoHUB_user_ID__c\"})\n",
    "ovr_df['contributor__c'] = 0"
   ]
  },
  {
   "cell_type": "code",
   "execution_count": 23,
   "id": "d773d9b2",
   "metadata": {
    "execution": {
     "iopub.execute_input": "2021-08-26T04:56:50.249706Z",
     "iopub.status.busy": "2021-08-26T04:56:50.248835Z",
     "iopub.status.idle": "2021-08-26T04:56:50.257636Z",
     "shell.execute_reply": "2021-08-26T04:56:50.258150Z"
    },
    "jupyter": {
     "source_hidden": true
    },
    "papermill": {
     "duration": 0.129598,
     "end_time": "2021-08-26T04:56:50.258345",
     "exception": false,
     "start_time": "2021-08-26T04:56:50.128747",
     "status": "completed"
    },
    "tags": []
   },
   "outputs": [
    {
     "data": {
      "text/html": [
       "<div>\n",
       "<style scoped>\n",
       "    .dataframe tbody tr th:only-of-type {\n",
       "        vertical-align: middle;\n",
       "    }\n",
       "\n",
       "    .dataframe tbody tr th {\n",
       "        vertical-align: top;\n",
       "    }\n",
       "\n",
       "    .dataframe thead th {\n",
       "        text-align: right;\n",
       "    }\n",
       "</style>\n",
       "<table border=\"1\" class=\"dataframe\">\n",
       "  <thead>\n",
       "    <tr style=\"text-align: right;\">\n",
       "      <th></th>\n",
       "      <th>nanoHUB_user_ID__c</th>\n",
       "      <th>tool_users</th>\n",
       "      <th>andmore_users</th>\n",
       "      <th>total_users</th>\n",
       "      <th>contributor__c</th>\n",
       "    </tr>\n",
       "  </thead>\n",
       "  <tbody>\n",
       "    <tr>\n",
       "      <th>0</th>\n",
       "      <td>4843</td>\n",
       "      <td>3490.0</td>\n",
       "      <td>917</td>\n",
       "      <td>4386</td>\n",
       "      <td>0</td>\n",
       "    </tr>\n",
       "    <tr>\n",
       "      <th>1</th>\n",
       "      <td>28115</td>\n",
       "      <td>1988.0</td>\n",
       "      <td>0</td>\n",
       "      <td>1988</td>\n",
       "      <td>0</td>\n",
       "    </tr>\n",
       "  </tbody>\n",
       "</table>\n",
       "</div>"
      ],
      "text/plain": [
       "   nanoHUB_user_ID__c  tool_users  andmore_users  total_users  contributor__c\n",
       "0                4843      3490.0            917         4386               0\n",
       "1               28115      1988.0              0         1988               0"
      ]
     },
     "metadata": {},
     "output_type": "display_data"
    },
    {
     "data": {
      "text/html": [
       "<div>\n",
       "<style scoped>\n",
       "    .dataframe tbody tr th:only-of-type {\n",
       "        vertical-align: middle;\n",
       "    }\n",
       "\n",
       "    .dataframe tbody tr th {\n",
       "        vertical-align: top;\n",
       "    }\n",
       "\n",
       "    .dataframe thead th {\n",
       "        text-align: right;\n",
       "    }\n",
       "</style>\n",
       "<table border=\"1\" class=\"dataframe\">\n",
       "  <thead>\n",
       "    <tr style=\"text-align: right;\">\n",
       "      <th></th>\n",
       "      <th>nanoHUB_user_ID__c</th>\n",
       "      <th>tool_users</th>\n",
       "      <th>andmore_users</th>\n",
       "      <th>total_users</th>\n",
       "      <th>contributor__c</th>\n",
       "    </tr>\n",
       "  </thead>\n",
       "  <tbody>\n",
       "    <tr>\n",
       "      <th>3364</th>\n",
       "      <td>324729</td>\n",
       "      <td>4.0</td>\n",
       "      <td>0</td>\n",
       "      <td>4</td>\n",
       "      <td>0</td>\n",
       "    </tr>\n",
       "    <tr>\n",
       "      <th>3365</th>\n",
       "      <td>4762</td>\n",
       "      <td>NaN</td>\n",
       "      <td>63</td>\n",
       "      <td>63</td>\n",
       "      <td>0</td>\n",
       "    </tr>\n",
       "  </tbody>\n",
       "</table>\n",
       "</div>"
      ],
      "text/plain": [
       "      nanoHUB_user_ID__c  tool_users  andmore_users  total_users  \\\n",
       "3364              324729         4.0              0            4   \n",
       "3365                4762         NaN             63           63   \n",
       "\n",
       "      contributor__c  \n",
       "3364               0  \n",
       "3365               0  "
      ]
     },
     "metadata": {},
     "output_type": "display_data"
    }
   ],
   "source": [
    "## get rid of all negative nanohub ids\n",
    "drops = []\n",
    "keeps = []\n",
    "for ind,val in enumerate(ovr_df['nanoHUB_user_ID__c'].to_list()):\n",
    "    if val <= 0:\n",
    "        drops.append(ind)\n",
    "    else:\n",
    "        keeps.append(ind)\n",
    "ovr_df = ovr_df.iloc[keeps,:]\n",
    "\n",
    "ovr_df = ovr_df.drop(columns=['datetime','period','id'])\n",
    "\n",
    "display(ovr_df.head(2))\n",
    "display(ovr_df.tail(2))"
   ]
  },
  {
   "cell_type": "code",
   "execution_count": 24,
   "id": "20960ee3",
   "metadata": {
    "execution": {
     "iopub.execute_input": "2021-08-26T04:56:50.503602Z",
     "iopub.status.busy": "2021-08-26T04:56:50.502721Z",
     "iopub.status.idle": "2021-08-26T04:56:50.506733Z",
     "shell.execute_reply": "2021-08-26T04:56:50.507180Z"
    },
    "jupyter": {
     "source_hidden": true
    },
    "papermill": {
     "duration": 0.134925,
     "end_time": "2021-08-26T04:56:50.507420",
     "exception": false,
     "start_time": "2021-08-26T04:56:50.372495",
     "status": "completed"
    },
    "tags": []
   },
   "outputs": [
    {
     "data": {
      "text/html": [
       "<div>\n",
       "<style scoped>\n",
       "    .dataframe tbody tr th:only-of-type {\n",
       "        vertical-align: middle;\n",
       "    }\n",
       "\n",
       "    .dataframe tbody tr th {\n",
       "        vertical-align: top;\n",
       "    }\n",
       "\n",
       "    .dataframe thead th {\n",
       "        text-align: right;\n",
       "    }\n",
       "</style>\n",
       "<table border=\"1\" class=\"dataframe\">\n",
       "  <thead>\n",
       "    <tr style=\"text-align: right;\">\n",
       "      <th></th>\n",
       "      <th>tool_users</th>\n",
       "      <th>andmore_users</th>\n",
       "      <th>total_users</th>\n",
       "      <th>contributor__c</th>\n",
       "      <th>wiki_contributions__c</th>\n",
       "      <th>wiki_usage__c</th>\n",
       "      <th>paper_contributions__c</th>\n",
       "      <th>presentations_contributions__c</th>\n",
       "    </tr>\n",
       "    <tr>\n",
       "      <th>nanoHUB_user_ID__c</th>\n",
       "      <th></th>\n",
       "      <th></th>\n",
       "      <th></th>\n",
       "      <th></th>\n",
       "      <th></th>\n",
       "      <th></th>\n",
       "      <th></th>\n",
       "      <th></th>\n",
       "    </tr>\n",
       "  </thead>\n",
       "  <tbody>\n",
       "    <tr>\n",
       "      <th>4843</th>\n",
       "      <td>3490.0</td>\n",
       "      <td>917</td>\n",
       "      <td>4386</td>\n",
       "      <td>0</td>\n",
       "      <td>1.0</td>\n",
       "      <td>6540.0</td>\n",
       "      <td>NaN</td>\n",
       "      <td>NaN</td>\n",
       "    </tr>\n",
       "    <tr>\n",
       "      <th>28115</th>\n",
       "      <td>1988.0</td>\n",
       "      <td>0</td>\n",
       "      <td>1988</td>\n",
       "      <td>0</td>\n",
       "      <td>NaN</td>\n",
       "      <td>NaN</td>\n",
       "      <td>NaN</td>\n",
       "      <td>NaN</td>\n",
       "    </tr>\n",
       "    <tr>\n",
       "      <th>3482</th>\n",
       "      <td>80427.0</td>\n",
       "      <td>772474</td>\n",
       "      <td>817851</td>\n",
       "      <td>0</td>\n",
       "      <td>20.0</td>\n",
       "      <td>259089.0</td>\n",
       "      <td>9.0</td>\n",
       "      <td>132.0</td>\n",
       "    </tr>\n",
       "    <tr>\n",
       "      <th>9736</th>\n",
       "      <td>50185.0</td>\n",
       "      <td>898947</td>\n",
       "      <td>926878</td>\n",
       "      <td>0</td>\n",
       "      <td>6.0</td>\n",
       "      <td>40012.0</td>\n",
       "      <td>4.0</td>\n",
       "      <td>39.0</td>\n",
       "    </tr>\n",
       "    <tr>\n",
       "      <th>10617</th>\n",
       "      <td>8467.0</td>\n",
       "      <td>5508</td>\n",
       "      <td>13049</td>\n",
       "      <td>0</td>\n",
       "      <td>NaN</td>\n",
       "      <td>NaN</td>\n",
       "      <td>NaN</td>\n",
       "      <td>4.0</td>\n",
       "    </tr>\n",
       "    <tr>\n",
       "      <th>14002</th>\n",
       "      <td>50422.0</td>\n",
       "      <td>15508</td>\n",
       "      <td>63684</td>\n",
       "      <td>0</td>\n",
       "      <td>NaN</td>\n",
       "      <td>NaN</td>\n",
       "      <td>1.0</td>\n",
       "      <td>2.0</td>\n",
       "    </tr>\n",
       "    <tr>\n",
       "      <th>28836</th>\n",
       "      <td>9858.0</td>\n",
       "      <td>11022</td>\n",
       "      <td>20042</td>\n",
       "      <td>0</td>\n",
       "      <td>NaN</td>\n",
       "      <td>NaN</td>\n",
       "      <td>1.0</td>\n",
       "      <td>8.0</td>\n",
       "    </tr>\n",
       "    <tr>\n",
       "      <th>13570</th>\n",
       "      <td>3552.0</td>\n",
       "      <td>3949</td>\n",
       "      <td>7336</td>\n",
       "      <td>0</td>\n",
       "      <td>NaN</td>\n",
       "      <td>NaN</td>\n",
       "      <td>NaN</td>\n",
       "      <td>1.0</td>\n",
       "    </tr>\n",
       "    <tr>\n",
       "      <th>10676</th>\n",
       "      <td>18760.0</td>\n",
       "      <td>2995</td>\n",
       "      <td>21128</td>\n",
       "      <td>0</td>\n",
       "      <td>NaN</td>\n",
       "      <td>NaN</td>\n",
       "      <td>NaN</td>\n",
       "      <td>NaN</td>\n",
       "    </tr>\n",
       "    <tr>\n",
       "      <th>37033</th>\n",
       "      <td>12032.0</td>\n",
       "      <td>0</td>\n",
       "      <td>12032</td>\n",
       "      <td>0</td>\n",
       "      <td>NaN</td>\n",
       "      <td>NaN</td>\n",
       "      <td>NaN</td>\n",
       "      <td>NaN</td>\n",
       "    </tr>\n",
       "  </tbody>\n",
       "</table>\n",
       "</div>"
      ],
      "text/plain": [
       "                    tool_users  andmore_users  total_users  contributor__c  \\\n",
       "nanoHUB_user_ID__c                                                           \n",
       "4843                    3490.0            917         4386               0   \n",
       "28115                   1988.0              0         1988               0   \n",
       "3482                   80427.0         772474       817851               0   \n",
       "9736                   50185.0         898947       926878               0   \n",
       "10617                   8467.0           5508        13049               0   \n",
       "14002                  50422.0          15508        63684               0   \n",
       "28836                   9858.0          11022        20042               0   \n",
       "13570                   3552.0           3949         7336               0   \n",
       "10676                  18760.0           2995        21128               0   \n",
       "37033                  12032.0              0        12032               0   \n",
       "\n",
       "                    wiki_contributions__c  wiki_usage__c  \\\n",
       "nanoHUB_user_ID__c                                         \n",
       "4843                                  1.0         6540.0   \n",
       "28115                                 NaN            NaN   \n",
       "3482                                 20.0       259089.0   \n",
       "9736                                  6.0        40012.0   \n",
       "10617                                 NaN            NaN   \n",
       "14002                                 NaN            NaN   \n",
       "28836                                 NaN            NaN   \n",
       "13570                                 NaN            NaN   \n",
       "10676                                 NaN            NaN   \n",
       "37033                                 NaN            NaN   \n",
       "\n",
       "                    paper_contributions__c  presentations_contributions__c  \n",
       "nanoHUB_user_ID__c                                                          \n",
       "4843                                   NaN                             NaN  \n",
       "28115                                  NaN                             NaN  \n",
       "3482                                   9.0                           132.0  \n",
       "9736                                   4.0                            39.0  \n",
       "10617                                  NaN                             4.0  \n",
       "14002                                  1.0                             2.0  \n",
       "28836                                  1.0                             8.0  \n",
       "13570                                  NaN                             1.0  \n",
       "10676                                  NaN                             NaN  \n",
       "37033                                  NaN                             NaN  "
      ]
     },
     "metadata": {},
     "output_type": "display_data"
    }
   ],
   "source": [
    "ovr_df = ovr_df.set_index('nanoHUB_user_ID__c').join(wikic.set_index('nanoHUB_user_ID__c')) \n",
    "ovr_df = ovr_df.join(papersc.set_index('nanoHUB_user_ID__c')) \n",
    "ovr_df = ovr_df.join(pres_c.set_index('nanoHUB_user_ID__c')) \n",
    "\n",
    "display(ovr_df.head(10))\n",
    "#use .reset_index() to extract it later"
   ]
  },
  {
   "cell_type": "raw",
   "id": "6b331832",
   "metadata": {
    "papermill": {
     "duration": 0.105499,
     "end_time": "2021-08-26T04:56:50.725743",
     "exception": false,
     "start_time": "2021-08-26T04:56:50.620244",
     "status": "completed"
    },
    "tags": []
   },
   "source": [
    "ovr_df = ovr_df.reset_index()\n",
    "\n",
    "# calculate contributor flag\n",
    "for index,val in enumerate(ovr_df['contributor__c'].to_list()):\n",
    "    # if any of the entries are non zero/non-NaN, then contributor__c = 1\n",
    "    if ovr_df['total_users'][index] > 0:\n",
    "        ovr_df['contributor__c'][index] = 1\n",
    "    elif ovr_df['wiki_contributions__c'][index] > 0:\n",
    "        ovr_df['contributor__c'][index] = 1\n",
    "    elif ovr_df['paper_contributions__c'][index] > 0:\n",
    "        ovr_df['contributor__c'][index] = 1\n",
    "    elif ovr_df['presentations_contributions__c'][index] > 0:\n",
    "        ovr_df['contributor__c'][index] = 1\n",
    "    elif ovr_df['Total_tool_contributions__c'][index] > 0:\n",
    "        ovr_df['contributor__c'][index] = 1\n",
    "        \n",
    "display(ovr_df.head(10))"
   ]
  },
  {
   "cell_type": "code",
   "execution_count": null,
   "id": "99593f2e",
   "metadata": {
    "jupyter": {
     "source_hidden": true
    },
    "papermill": {
     "duration": 0.113274,
     "end_time": "2021-08-26T04:56:50.948447",
     "exception": false,
     "start_time": "2021-08-26T04:56:50.835173",
     "status": "completed"
    },
    "tags": []
   },
   "outputs": [],
   "source": []
  },
  {
   "cell_type": "code",
   "execution_count": null,
   "id": "bdf856f1",
   "metadata": {
    "jupyter": {
     "source_hidden": true
    },
    "papermill": {
     "duration": 0.111654,
     "end_time": "2021-08-26T04:56:51.173501",
     "exception": false,
     "start_time": "2021-08-26T04:56:51.061847",
     "status": "completed"
    },
    "tags": []
   },
   "outputs": [],
   "source": []
  },
  {
   "cell_type": "markdown",
   "id": "01f86d2e",
   "metadata": {
    "papermill": {
     "duration": 0.114476,
     "end_time": "2021-08-26T04:56:51.400991",
     "exception": false,
     "start_time": "2021-08-26T04:56:51.286515",
     "status": "completed"
    },
    "tags": []
   },
   "source": [
    "## Get the current nanohub user IDs and their tool counts from SF\n",
    "then begin the dataframe merge and post-processing"
   ]
  },
  {
   "cell_type": "code",
   "execution_count": 25,
   "id": "d8f55174",
   "metadata": {
    "execution": {
     "iopub.execute_input": "2021-08-26T04:56:51.630140Z",
     "iopub.status.busy": "2021-08-26T04:56:51.629490Z",
     "iopub.status.idle": "2021-08-26T04:56:51.632299Z",
     "shell.execute_reply": "2021-08-26T04:56:51.632740Z"
    },
    "jupyter": {
     "source_hidden": true
    },
    "papermill": {
     "duration": 0.116988,
     "end_time": "2021-08-26T04:56:51.633168",
     "exception": false,
     "start_time": "2021-08-26T04:56:51.516180",
     "status": "completed"
    },
    "tags": []
   },
   "outputs": [],
   "source": [
    "# create DB2 to Salesforce API object\n",
    "db_s = salesforce"
   ]
  },
  {
   "cell_type": "code",
   "execution_count": 26,
   "id": "e12c35ee",
   "metadata": {
    "execution": {
     "iopub.execute_input": "2021-08-26T04:56:51.871125Z",
     "iopub.status.busy": "2021-08-26T04:56:51.870207Z",
     "iopub.status.idle": "2021-08-26T04:57:26.614810Z",
     "shell.execute_reply": "2021-08-26T04:57:26.614214Z"
    },
    "jupyter": {
     "source_hidden": true
    },
    "papermill": {
     "duration": 34.862276,
     "end_time": "2021-08-26T04:57:26.615007",
     "exception": false,
     "start_time": "2021-08-26T04:56:51.752731",
     "status": "completed"
    },
    "tags": []
   },
   "outputs": [
    {
     "name": "stdout",
     "output_type": "stream",
     "text": [
      "[Success] Bulk job creation successful. Job ID = 7505w00000ZJLCuAAP\n"
     ]
    },
    {
     "name": "stdout",
     "output_type": "stream",
     "text": [
      "{\"id\":\"7505w00000ZJLCuAAP\",\"operation\":\"query\",\"object\":\"Contact\",\"createdById\":\"0055w00000DM5bOAAT\",\"createdDate\":\"2021-08-26T04:56:52.000+0000\",\"systemModstamp\":\"2021-08-26T04:56:52.000+0000\",\"state\":\"UploadComplete\",\"concurrencyMode\":\"Parallel\",\"contentType\":\"CSV\",\"apiVersion\":47.0,\"jobType\":\"V2Query\",\"lineEnding\":\"LF\",\"columnDelimiter\":\"COMMA\",\"retries\":0,\"totalProcessingTime\":0}\n"
     ]
    },
    {
     "name": "stdout",
     "output_type": "stream",
     "text": [
      "{\"id\":\"7505w00000ZJLCuAAP\",\"operation\":\"query\",\"object\":\"Contact\",\"createdById\":\"0055w00000DM5bOAAT\",\"createdDate\":\"2021-08-26T04:56:52.000+0000\",\"systemModstamp\":\"2021-08-26T04:56:59.000+0000\",\"state\":\"InProgress\",\"concurrencyMode\":\"Parallel\",\"contentType\":\"CSV\",\"apiVersion\":47.0,\"jobType\":\"V2Query\",\"lineEnding\":\"LF\",\"columnDelimiter\":\"COMMA\",\"numberRecordsProcessed\":1303,\"retries\":0,\"totalProcessingTime\":496}\n"
     ]
    },
    {
     "name": "stdout",
     "output_type": "stream",
     "text": [
      "{\"id\":\"7505w00000ZJLCuAAP\",\"operation\":\"query\",\"object\":\"Contact\",\"createdById\":\"0055w00000DM5bOAAT\",\"createdDate\":\"2021-08-26T04:56:52.000+0000\",\"systemModstamp\":\"2021-08-26T04:56:59.000+0000\",\"state\":\"InProgress\",\"concurrencyMode\":\"Parallel\",\"contentType\":\"CSV\",\"apiVersion\":47.0,\"jobType\":\"V2Query\",\"lineEnding\":\"LF\",\"columnDelimiter\":\"COMMA\",\"numberRecordsProcessed\":1303,\"retries\":0,\"totalProcessingTime\":496}\n"
     ]
    },
    {
     "name": "stdout",
     "output_type": "stream",
     "text": [
      "{\"id\":\"7505w00000ZJLCuAAP\",\"operation\":\"query\",\"object\":\"Contact\",\"createdById\":\"0055w00000DM5bOAAT\",\"createdDate\":\"2021-08-26T04:56:52.000+0000\",\"systemModstamp\":\"2021-08-26T04:57:16.000+0000\",\"state\":\"JobComplete\",\"concurrencyMode\":\"Parallel\",\"contentType\":\"CSV\",\"apiVersion\":47.0,\"jobType\":\"V2Query\",\"lineEnding\":\"LF\",\"columnDelimiter\":\"COMMA\",\"numberRecordsProcessed\":253574,\"retries\":0,\"totalProcessingTime\":11947}\n",
      "[Success] Bulk job completed successfully.\n"
     ]
    },
    {
     "data": {
      "text/html": [
       "<div>\n",
       "<style scoped>\n",
       "    .dataframe tbody tr th:only-of-type {\n",
       "        vertical-align: middle;\n",
       "    }\n",
       "\n",
       "    .dataframe tbody tr th {\n",
       "        vertical-align: top;\n",
       "    }\n",
       "\n",
       "    .dataframe thead th {\n",
       "        text-align: right;\n",
       "    }\n",
       "</style>\n",
       "<table border=\"1\" class=\"dataframe\">\n",
       "  <thead>\n",
       "    <tr style=\"text-align: right;\">\n",
       "      <th></th>\n",
       "      <th>Total_tool_contributions__c</th>\n",
       "      <th>nanoHUB_user_ID__c</th>\n",
       "    </tr>\n",
       "  </thead>\n",
       "  <tbody>\n",
       "    <tr>\n",
       "      <th>0</th>\n",
       "      <td>0.0</td>\n",
       "      <td>998.0</td>\n",
       "    </tr>\n",
       "    <tr>\n",
       "      <th>1</th>\n",
       "      <td>0.0</td>\n",
       "      <td>1683.0</td>\n",
       "    </tr>\n",
       "  </tbody>\n",
       "</table>\n",
       "</div>"
      ],
      "text/plain": [
       "   Total_tool_contributions__c  nanoHUB_user_ID__c\n",
       "0                          0.0               998.0\n",
       "1                          0.0              1683.0"
      ]
     },
     "metadata": {},
     "output_type": "display_data"
    },
    {
     "name": "stdout",
     "output_type": "stream",
     "text": [
      "(252271, 2)\n"
     ]
    }
   ],
   "source": [
    "# get nanohub ID for contacts to being matching and processing\n",
    "sf_username_df = db_s.query_data('SELECT nanoHUB_user_ID__c,Total_tool_contributions__c FROM Contact')\n",
    "\n",
    "# display\n",
    "display(sf_username_df.head(2))\n",
    "print(sf_username_df.shape)"
   ]
  },
  {
   "cell_type": "markdown",
   "id": "5d618e19",
   "metadata": {
    "tags": [
     "papermill-error-cell-tag"
    ]
   },
   "source": [
    "<span id=\"papermill-error-cell\" style=\"color:red; font-family:Helvetica Neue, Helvetica, Arial, sans-serif; font-size:2em;\">Execution using papermill encountered an exception here and stopped:</span>"
   ]
  },
  {
   "cell_type": "code",
   "execution_count": 27,
   "id": "4de1320c",
   "metadata": {
    "execution": {
     "iopub.execute_input": "2021-08-26T04:57:26.877743Z",
     "iopub.status.busy": "2021-08-26T04:57:26.876361Z",
     "iopub.status.idle": "2021-08-26T04:57:27.137020Z",
     "shell.execute_reply": "2021-08-26T04:57:27.136373Z"
    },
    "jupyter": {
     "source_hidden": true
    },
    "papermill": {
     "duration": 0.390679,
     "end_time": "2021-08-26T04:57:27.137324",
     "exception": true,
     "start_time": "2021-08-26T04:57:26.746645",
     "status": "failed"
    },
    "tags": []
   },
   "outputs": [
    {
     "ename": "KeyError",
     "evalue": "\"None of ['nanoHUB_user_ID__c'] are in the columns\"",
     "output_type": "error",
     "traceback": [
      "\u001b[0;31m---------------------------------------------------------------------------\u001b[0m",
      "\u001b[0;31mKeyError\u001b[0m                                  Traceback (most recent call last)",
      "\u001b[0;32m/var/folders/64/2zrjfqsn7x3fxjzpq46kqcyr0000gp/T/ipykernel_13323/1463687622.py\u001b[0m in \u001b[0;36m<module>\u001b[0;34m\u001b[0m\n\u001b[1;32m      1\u001b[0m \u001b[0;31m# join the two dataframes\u001b[0m\u001b[0;34m\u001b[0m\u001b[0;34m\u001b[0m\u001b[0;34m\u001b[0m\u001b[0m\n\u001b[0;32m----> 2\u001b[0;31m \u001b[0mnover_df\u001b[0m \u001b[0;34m=\u001b[0m \u001b[0msf_username_df\u001b[0m\u001b[0;34m.\u001b[0m\u001b[0mset_index\u001b[0m\u001b[0;34m(\u001b[0m\u001b[0;34m'nanoHUB_user_ID__c'\u001b[0m\u001b[0;34m)\u001b[0m\u001b[0;34m.\u001b[0m\u001b[0mjoin\u001b[0m\u001b[0;34m(\u001b[0m\u001b[0movr_df\u001b[0m\u001b[0;34m.\u001b[0m\u001b[0mset_index\u001b[0m\u001b[0;34m(\u001b[0m\u001b[0;34m'nanoHUB_user_ID__c'\u001b[0m\u001b[0;34m)\u001b[0m\u001b[0;34m)\u001b[0m\u001b[0;34m\u001b[0m\u001b[0;34m\u001b[0m\u001b[0m\n\u001b[0m",
      "\u001b[0;32m~/.virtualenvs/nanohub/lib/python3.8/site-packages/pandas/util/_decorators.py\u001b[0m in \u001b[0;36mwrapper\u001b[0;34m(*args, **kwargs)\u001b[0m\n\u001b[1;32m    309\u001b[0m                     \u001b[0mstacklevel\u001b[0m\u001b[0;34m=\u001b[0m\u001b[0mstacklevel\u001b[0m\u001b[0;34m,\u001b[0m\u001b[0;34m\u001b[0m\u001b[0;34m\u001b[0m\u001b[0m\n\u001b[1;32m    310\u001b[0m                 )\n\u001b[0;32m--> 311\u001b[0;31m             \u001b[0;32mreturn\u001b[0m \u001b[0mfunc\u001b[0m\u001b[0;34m(\u001b[0m\u001b[0;34m*\u001b[0m\u001b[0margs\u001b[0m\u001b[0;34m,\u001b[0m \u001b[0;34m**\u001b[0m\u001b[0mkwargs\u001b[0m\u001b[0;34m)\u001b[0m\u001b[0;34m\u001b[0m\u001b[0;34m\u001b[0m\u001b[0m\n\u001b[0m\u001b[1;32m    312\u001b[0m \u001b[0;34m\u001b[0m\u001b[0m\n\u001b[1;32m    313\u001b[0m         \u001b[0;32mreturn\u001b[0m \u001b[0mwrapper\u001b[0m\u001b[0;34m\u001b[0m\u001b[0;34m\u001b[0m\u001b[0m\n",
      "\u001b[0;32m~/.virtualenvs/nanohub/lib/python3.8/site-packages/pandas/core/frame.py\u001b[0m in \u001b[0;36mset_index\u001b[0;34m(self, keys, drop, append, inplace, verify_integrity)\u001b[0m\n\u001b[1;32m   5444\u001b[0m \u001b[0;34m\u001b[0m\u001b[0m\n\u001b[1;32m   5445\u001b[0m         \u001b[0;32mif\u001b[0m \u001b[0mmissing\u001b[0m\u001b[0;34m:\u001b[0m\u001b[0;34m\u001b[0m\u001b[0;34m\u001b[0m\u001b[0m\n\u001b[0;32m-> 5446\u001b[0;31m             \u001b[0;32mraise\u001b[0m \u001b[0mKeyError\u001b[0m\u001b[0;34m(\u001b[0m\u001b[0;34mf\"None of {missing} are in the columns\"\u001b[0m\u001b[0;34m)\u001b[0m\u001b[0;34m\u001b[0m\u001b[0;34m\u001b[0m\u001b[0m\n\u001b[0m\u001b[1;32m   5447\u001b[0m \u001b[0;34m\u001b[0m\u001b[0m\n\u001b[1;32m   5448\u001b[0m         \u001b[0;32mif\u001b[0m \u001b[0minplace\u001b[0m\u001b[0;34m:\u001b[0m\u001b[0;34m\u001b[0m\u001b[0;34m\u001b[0m\u001b[0m\n",
      "\u001b[0;31mKeyError\u001b[0m: \"None of ['nanoHUB_user_ID__c'] are in the columns\""
     ]
    }
   ],
   "source": [
    "# join the two dataframes\n",
    "nover_df = sf_username_df.set_index('nanoHUB_user_ID__c').join(ovr_df.set_index('nanoHUB_user_ID__c'))"
   ]
  },
  {
   "cell_type": "code",
   "execution_count": null,
   "id": "a74672ff",
   "metadata": {
    "jupyter": {
     "source_hidden": true
    },
    "papermill": {
     "duration": null,
     "end_time": null,
     "exception": null,
     "start_time": null,
     "status": "pending"
    },
    "tags": []
   },
   "outputs": [],
   "source": [
    "display(nover_df.head(2))"
   ]
  },
  {
   "cell_type": "code",
   "execution_count": null,
   "id": "e32c822f",
   "metadata": {
    "jupyter": {
     "source_hidden": true
    },
    "papermill": {
     "duration": null,
     "end_time": null,
     "exception": null,
     "start_time": null,
     "status": "pending"
    },
    "tags": []
   },
   "outputs": [],
   "source": [
    "## calculate the non tool contributions\n",
    "nover_df['And_More_Contributions__c'] = nover_df['wiki_contributions__c']+nover_df['paper_contributions__c']\\\n",
    "        +nover_df['presentations_contributions__c']"
   ]
  },
  {
   "cell_type": "code",
   "execution_count": null,
   "id": "1d806f1c",
   "metadata": {
    "jupyter": {
     "source_hidden": true
    },
    "papermill": {
     "duration": null,
     "end_time": null,
     "exception": null,
     "start_time": null,
     "status": "pending"
    },
    "tags": []
   },
   "outputs": [],
   "source": [
    "# recover nanohub ids \n",
    "nover_df = nover_df.reset_index()\n",
    "display(nover_df.head(2))"
   ]
  },
  {
   "cell_type": "code",
   "execution_count": null,
   "id": "b18d8d50",
   "metadata": {
    "jupyter": {
     "source_hidden": true
    },
    "papermill": {
     "duration": null,
     "end_time": null,
     "exception": null,
     "start_time": null,
     "status": "pending"
    },
    "tags": []
   },
   "outputs": [],
   "source": [
    "## remove NAN rows for index\n",
    "nover_df = nover_df.dropna(subset=['nanoHUB_user_ID__c'])\n",
    "nover_df.shape"
   ]
  },
  {
   "cell_type": "code",
   "execution_count": null,
   "id": "76753778",
   "metadata": {
    "jupyter": {
     "source_hidden": true
    },
    "papermill": {
     "duration": null,
     "end_time": null,
     "exception": null,
     "start_time": null,
     "status": "pending"
    },
    "tags": []
   },
   "outputs": [],
   "source": [
    "## then make the indexes integers\n",
    "import numpy as np\n",
    "nover_df['nanoHUB_user_ID__c'] = nover_df['nanoHUB_user_ID__c'].apply(lambda x: int(x))\n",
    "display(nover_df.head(2))"
   ]
  },
  {
   "cell_type": "code",
   "execution_count": null,
   "id": "6ea970e7",
   "metadata": {
    "jupyter": {
     "source_hidden": true
    },
    "papermill": {
     "duration": null,
     "end_time": null,
     "exception": null,
     "start_time": null,
     "status": "pending"
    },
    "tags": []
   },
   "outputs": [],
   "source": [
    "# calculate contributor flag\n",
    "for index,val in enumerate(nover_df['contributor__c'].to_list()):\n",
    "    # if any of the entries are non zero/non-NaN, then contributor__c = 1\n",
    "    if nover_df['total_users'][index] > 0:\n",
    "        nover_df['contributor__c'][index] = 1\n",
    "    elif nover_df['wiki_contributions__c'][index] > 0:\n",
    "        nover_df['contributor__c'][index] = 1\n",
    "    elif nover_df['paper_contributions__c'][index] > 0:\n",
    "        nover_df['contributor__c'][index] = 1\n",
    "    elif nover_df['presentations_contributions__c'][index] > 0:\n",
    "        nover_df['contributor__c'][index] = 1\n",
    "    elif nover_df['Total_tool_contributions__c'][index] > 0:\n",
    "        nover_df['contributor__c'][index] = 1\n",
    "        \n",
    "display(nover_df.head(10))"
   ]
  },
  {
   "cell_type": "code",
   "execution_count": null,
   "id": "fa23ed0c",
   "metadata": {
    "jupyter": {
     "source_hidden": true
    },
    "papermill": {
     "duration": null,
     "end_time": null,
     "exception": null,
     "start_time": null,
     "status": "pending"
    },
    "tags": []
   },
   "outputs": [],
   "source": []
  },
  {
   "cell_type": "markdown",
   "id": "839af552",
   "metadata": {
    "papermill": {
     "duration": null,
     "end_time": null,
     "exception": null,
     "start_time": null,
     "status": "pending"
    },
    "tags": []
   },
   "source": [
    "## Fitting data to SF format"
   ]
  },
  {
   "cell_type": "code",
   "execution_count": null,
   "id": "e51506a8",
   "metadata": {
    "jupyter": {
     "source_hidden": true
    },
    "papermill": {
     "duration": null,
     "end_time": null,
     "exception": null,
     "start_time": null,
     "status": "pending"
    },
    "tags": []
   },
   "outputs": [],
   "source": [
    "## creating and populating the sf dataframe\n",
    "df_sf = pd.DataFrame()\n",
    "temp_df = nover_df.fillna(0)\n",
    "\n",
    "# populating df_sf and make integers\n",
    "df_sf['nanoHUB_user_ID__c'] = temp_df['nanoHUB_user_ID__c'].apply(lambda x: int(x))\n",
    "df_sf['And_More_Contributions__c'] = temp_df['And_More_Contributions__c'].apply(lambda x: int(x))\n",
    "df_sf['contributed_tool_usage__c'] = temp_df['tool_users'].apply(lambda x: int(x))\n",
    "df_sf['contributed_andmore_usage__c'] = temp_df['andmore_users'].apply(lambda x: int(x))\n",
    "df_sf['contributor__c'] = temp_df['contributor__c']\n",
    "\n",
    "df_sf['wiki_contributions__c'] = temp_df['wiki_contributions__c']\n",
    "df_sf['wiki_usage__c'] = temp_df['wiki_usage__c']\n",
    "df_sf['paper_contributions__c'] = temp_df['paper_contributions__c']\n",
    "df_sf['presentations_contributions__c'] = temp_df['presentations_contributions__c']\n",
    "\n",
    "display(df_sf.head(2))"
   ]
  },
  {
   "cell_type": "markdown",
   "id": "36c5763a",
   "metadata": {
    "papermill": {
     "duration": null,
     "end_time": null,
     "exception": null,
     "start_time": null,
     "status": "pending"
    },
    "tags": []
   },
   "source": [
    "## send data to SF"
   ]
  },
  {
   "cell_type": "code",
   "execution_count": null,
   "id": "ad2e8826",
   "metadata": {
    "jupyter": {
     "source_hidden": true
    },
    "papermill": {
     "duration": null,
     "end_time": null,
     "exception": null,
     "start_time": null,
     "status": "pending"
    },
    "tags": []
   },
   "outputs": [],
   "source": [
    "# create DB2 to Salesforce API object\n",
    "db_s = salesforce\n",
    "\n",
    "# specify Salesforce object ID and external ID\n",
    "db_s.object_id = 'Contact'\n",
    "db_s.external_id = 'nanoHUB_user_ID__c'"
   ]
  },
  {
   "cell_type": "code",
   "execution_count": null,
   "id": "e0603020",
   "metadata": {
    "jupyter": {
     "source_hidden": true
    },
    "papermill": {
     "duration": null,
     "end_time": null,
     "exception": null,
     "start_time": null,
     "status": "pending"
    },
    "tags": []
   },
   "outputs": [],
   "source": [
    "# send data to Salesforce\n",
    "db_s.send_data(df_sf)"
   ]
  },
  {
   "cell_type": "code",
   "execution_count": null,
   "id": "0b8bae76",
   "metadata": {
    "jupyter": {
     "source_hidden": true
    },
    "papermill": {
     "duration": null,
     "end_time": null,
     "exception": null,
     "start_time": null,
     "status": "pending"
    },
    "scrolled": true,
    "tags": []
   },
   "outputs": [],
   "source": [
    "# check status\n",
    "from pprint import pprint\n",
    "\n",
    "pprint(db_s.check_bulk_status())"
   ]
  },
  {
   "cell_type": "code",
   "execution_count": null,
   "id": "01610d78",
   "metadata": {
    "jupyter": {
     "source_hidden": true
    },
    "papermill": {
     "duration": null,
     "end_time": null,
     "exception": null,
     "start_time": null,
     "status": "pending"
    },
    "tags": []
   },
   "outputs": [],
   "source": [
    "pprint(db_s.check_bulk_failed_results())"
   ]
  },
  {
   "cell_type": "code",
   "execution_count": null,
   "id": "c0495728",
   "metadata": {
    "jupyter": {
     "source_hidden": true
    },
    "papermill": {
     "duration": null,
     "end_time": null,
     "exception": null,
     "start_time": null,
     "status": "pending"
    },
    "tags": []
   },
   "outputs": [],
   "source": []
  }
 ],
 "metadata": {
  "kernelspec": {
   "display_name": "Python 3",
   "language": "python",
   "name": "python3"
  },
  "language_info": {
   "codemirror_mode": {
    "name": "ipython",
    "version": 3
   },
   "file_extension": ".py",
   "mimetype": "text/x-python",
   "name": "python",
   "nbconvert_exporter": "python",
   "pygments_lexer": "ipython3",
   "version": "3.8.2"
  },
  "papermill": {
   "default_parameters": {},
   "duration": 58.53606,
   "end_time": "2021-08-26T04:57:27.582981",
   "environment_variables": {},
   "exception": true,
   "input_path": "nanoHUB/pipeline/salesforce/task_user_contribution_update.ipynb",
   "output_path": "./.output/task_user_contribution_update.ipynb",
   "parameters": {},
   "start_time": "2021-08-26T04:56:29.046921",
   "version": "2.3.3"
  }
 },
 "nbformat": 4,
 "nbformat_minor": 5
}