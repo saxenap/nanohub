{
 "cells": [
  {
   "cell_type": "markdown",
   "id": "0e90cb4d",
   "metadata": {
    "tags": [
     "papermill-error-cell-tag"
    ]
   },
   "source": [
    "<span style=\"color:red; font-family:Helvetica Neue, Helvetica, Arial, sans-serif; font-size:2em;\">An Exception was encountered at '<a href=\"#papermill-error-cell\">In [27]</a>'.</span>"
   ]
  },
  {
   "cell_type": "markdown",
   "id": "bd114956",
   "metadata": {
    "papermill": {
     "duration": 0.092493,
     "end_time": "2021-10-27T18:19:54.512131",
     "exception": false,
     "start_time": "2021-10-27T18:19:54.419638",
     "status": "completed"
    },
    "tags": []
   },
   "source": [
    "## update user contributions\n"
   ]
  },
  {
   "cell_type": "code",
   "execution_count": 1,
   "id": "61faaf6e",
   "metadata": {
    "execution": {
     "iopub.execute_input": "2021-10-27T18:19:54.672533Z",
     "iopub.status.busy": "2021-10-27T18:19:54.671688Z",
     "iopub.status.idle": "2021-10-27T18:19:54.676138Z",
     "shell.execute_reply": "2021-10-27T18:19:54.676690Z"
    },
    "jupyter": {
     "source_hidden": true
    },
    "papermill": {
     "duration": 0.088372,
     "end_time": "2021-10-27T18:19:54.676946",
     "exception": false,
     "start_time": "2021-10-27T18:19:54.588574",
     "status": "completed"
    },
    "tags": []
   },
   "outputs": [],
   "source": [
    "## should do this on a monthly basis because 1) this is will quickly use up BULK API's allotted quantity\n",
    "## and 2) db2 only updates some usage numbers on a yearly or monthly basis\n",
    "\n",
    "## currently this script takes over 25 minutes to upload to SF"
   ]
  },
  {
   "cell_type": "code",
   "execution_count": 2,
   "id": "c1bf50c3",
   "metadata": {
    "execution": {
     "iopub.execute_input": "2021-10-27T18:19:54.842309Z",
     "iopub.status.busy": "2021-10-27T18:19:54.841490Z",
     "iopub.status.idle": "2021-10-27T18:19:56.692901Z",
     "shell.execute_reply": "2021-10-27T18:19:56.693553Z"
    },
    "jupyter": {
     "source_hidden": true
    },
    "papermill": {
     "duration": 1.938572,
     "end_time": "2021-10-27T18:19:56.693845",
     "exception": false,
     "start_time": "2021-10-27T18:19:54.755273",
     "status": "completed"
    },
    "tags": []
   },
   "outputs": [
    {
     "name": "stdout",
     "output_type": "stream",
     "text": [
      "\u001b[1mnanoHUB - Serving Students, Researchers & Instructors\u001b[0m\n"
     ]
    },
    {
     "name": "stdout",
     "output_type": "stream",
     "text": [
      "Obtained Salesforce access token ...... True\n"
     ]
    }
   ],
   "source": [
    "# API settings\n",
    "api_url = '/services/data/v43.0/sobjects'\n",
    "external_id = 'Name'\n",
    "#object_id = 'ContactToolAssociation__c'\n",
    "\n",
    "# login parameters to be handled by Papermill\n",
    "from nanoHUB.application import Application\n",
    "\n",
    "application = Application.get_instance()\n",
    "nanohub_db = application.new_db_engine('nanohub')\n",
    "nanohub_metrics_db = application.new_db_engine('nanohub_metrics')\n",
    "wang159_myrmekes_db = application.new_db_engine('wang159_myrmekes')\n",
    "\n",
    "\n",
    "salesforce = application.new_salesforce_engine()\n",
    "db_s = salesforce"
   ]
  },
  {
   "cell_type": "code",
   "execution_count": 3,
   "id": "13fe252b",
   "metadata": {
    "execution": {
     "iopub.execute_input": "2021-10-27T18:19:56.857838Z",
     "iopub.status.busy": "2021-10-27T18:19:56.857117Z",
     "iopub.status.idle": "2021-10-27T18:19:56.859121Z",
     "shell.execute_reply": "2021-10-27T18:19:56.859489Z"
    },
    "jupyter": {
     "source_hidden": true
    },
    "papermill": {
     "duration": 0.084696,
     "end_time": "2021-10-27T18:19:56.859852",
     "exception": false,
     "start_time": "2021-10-27T18:19:56.775156",
     "status": "completed"
    },
    "tags": []
   },
   "outputs": [],
   "source": [
    "import sys\n",
    "#sys.path.append('/home/users/wang2506/nanohub_salesforce_integ/salesforce')\n",
    "\n",
    "import pandas as pd\n",
    "import time\n",
    "import datetime\n",
    "\n",
    "# from DB2SalesforceAPI import DB2SalesforceAPI"
   ]
  },
  {
   "cell_type": "markdown",
   "id": "f6271918",
   "metadata": {
    "papermill": {
     "duration": 0.078226,
     "end_time": "2021-10-27T18:19:57.015174",
     "exception": false,
     "start_time": "2021-10-27T18:19:56.936948",
     "status": "completed"
    },
    "tags": []
   },
   "source": [
    "## Obtain information from DB2 "
   ]
  },
  {
   "cell_type": "code",
   "execution_count": 4,
   "id": "d01b88b5",
   "metadata": {
    "execution": {
     "iopub.execute_input": "2021-10-27T18:19:57.178716Z",
     "iopub.status.busy": "2021-10-27T18:19:57.177558Z",
     "iopub.status.idle": "2021-10-27T18:19:57.179770Z",
     "shell.execute_reply": "2021-10-27T18:19:57.180205Z"
    },
    "jupyter": {
     "source_hidden": true
    },
    "papermill": {
     "duration": 0.086111,
     "end_time": "2021-10-27T18:19:57.180436",
     "exception": false,
     "start_time": "2021-10-27T18:19:57.094325",
     "status": "completed"
    },
    "tags": []
   },
   "outputs": [],
   "source": [
    "#pre-filtering queries using datetime\n",
    "date_temp = datetime.datetime.today()\n",
    "year = date_temp.year\n",
    "month = date_temp.month\n",
    "period = 14\n",
    "if month < 10:\n",
    "    date_str0 = '\\''+ str(year)+'-0'+str(month)+'-00'+'\\''\n",
    "    date_str1 = '\\''+str(year)+'-0'+str(month)+'-01'+'\\''\n",
    "else:\n",
    "    date_str0 = '\\''+ str(year)+'-'+str(month)+'-00'+'\\''\n",
    "    date_str1 = '\\''+str(year)+'-'+str(month)+'-01'+'\\''"
   ]
  },
  {
   "cell_type": "code",
   "execution_count": 5,
   "id": "28065049",
   "metadata": {
    "execution": {
     "iopub.execute_input": "2021-10-27T18:19:57.344404Z",
     "iopub.status.busy": "2021-10-27T18:19:57.343458Z",
     "iopub.status.idle": "2021-10-27T18:19:57.346071Z",
     "shell.execute_reply": "2021-10-27T18:19:57.346566Z"
    },
    "jupyter": {
     "source_hidden": true
    },
    "papermill": {
     "duration": 0.085905,
     "end_time": "2021-10-27T18:19:57.346797",
     "exception": false,
     "start_time": "2021-10-27T18:19:57.260892",
     "status": "completed"
    },
    "tags": []
   },
   "outputs": [
    {
     "name": "stdout",
     "output_type": "stream",
     "text": [
      "'2021-10-00'\n",
      "'2021-10-01'\n"
     ]
    }
   ],
   "source": [
    "print(date_str0)\n",
    "print(date_str1)"
   ]
  },
  {
   "cell_type": "code",
   "execution_count": null,
   "id": "d7b6b0a2",
   "metadata": {
    "jupyter": {
     "source_hidden": true
    },
    "papermill": {
     "duration": 0.079846,
     "end_time": "2021-10-27T18:19:57.504931",
     "exception": false,
     "start_time": "2021-10-27T18:19:57.425085",
     "status": "completed"
    },
    "tags": []
   },
   "outputs": [],
   "source": []
  },
  {
   "cell_type": "code",
   "execution_count": 6,
   "id": "ce99eac8",
   "metadata": {
    "execution": {
     "iopub.execute_input": "2021-10-27T18:19:57.668068Z",
     "iopub.status.busy": "2021-10-27T18:19:57.667478Z",
     "iopub.status.idle": "2021-10-27T18:19:57.755337Z",
     "shell.execute_reply": "2021-10-27T18:19:57.755801Z"
    },
    "jupyter": {
     "source_hidden": true
    },
    "papermill": {
     "duration": 0.172134,
     "end_time": "2021-10-27T18:19:57.756065",
     "exception": false,
     "start_time": "2021-10-27T18:19:57.583931",
     "status": "completed"
    },
    "pycharm": {
     "name": "#%%\n"
    },
    "tags": []
   },
   "outputs": [],
   "source": [
    "# extract the wiki contributions\n",
    "sql_query = \"select hits, created_by from jos_wiki_pages where state = '1' and scope = 'site';\"\n",
    "wiki_results_df = pd.read_sql_query(sql_query,nanohub_db)\n",
    "#corresponds to wiki_usage__c, wiki_contributions__c"
   ]
  },
  {
   "cell_type": "code",
   "execution_count": 7,
   "id": "e2a614f2",
   "metadata": {
    "execution": {
     "iopub.execute_input": "2021-10-27T18:19:57.921444Z",
     "iopub.status.busy": "2021-10-27T18:19:57.920635Z",
     "iopub.status.idle": "2021-10-27T18:19:58.387599Z",
     "shell.execute_reply": "2021-10-27T18:19:58.388088Z"
    },
    "jupyter": {
     "source_hidden": true
    },
    "papermill": {
     "duration": 0.550099,
     "end_time": "2021-10-27T18:19:58.388358",
     "exception": false,
     "start_time": "2021-10-27T18:19:57.838259",
     "status": "completed"
    },
    "tags": []
   },
   "outputs": [],
   "source": [
    "# extract paper contributions; need investigate how to get the usage per paper\n",
    "sql_query = \"select authorid, hits from jos_resources left join jos_author_assoc \"\\\n",
    "            \"on jos_author_assoc.subid = jos_resources.id where type = '3' and access in ('0','3','1') \"\\\n",
    "            \"and standalone = '1' and published in ('1');\"\n",
    "papers_df = pd.read_sql_query(sql_query,nanohub_db)"
   ]
  },
  {
   "cell_type": "code",
   "execution_count": 8,
   "id": "127a9e46",
   "metadata": {
    "execution": {
     "iopub.execute_input": "2021-10-27T18:19:58.552715Z",
     "iopub.status.busy": "2021-10-27T18:19:58.552127Z",
     "iopub.status.idle": "2021-10-27T18:20:06.987965Z",
     "shell.execute_reply": "2021-10-27T18:20:06.988323Z"
    },
    "jupyter": {
     "source_hidden": true
    },
    "papermill": {
     "duration": 8.520487,
     "end_time": "2021-10-27T18:20:06.988595",
     "exception": false,
     "start_time": "2021-10-27T18:19:58.468108",
     "status": "completed"
    },
    "tags": []
   },
   "outputs": [],
   "source": [
    "# extract presentation contributions; need to see how to get usage per presentation\n",
    "sql_query = \"select authorid, hits from jos_resources left join jos_author_assoc \"\\\n",
    "            \"on jos_author_assoc.subid = jos_resources.id where type = '1' and access in ('0','3','1') \"\\\n",
    "            \"and standalone = '1' and published in ('1');\"\n",
    "presentation_df = pd.read_sql_query(sql_query,nanohub_db)"
   ]
  },
  {
   "cell_type": "code",
   "execution_count": 9,
   "id": "555d9649",
   "metadata": {
    "execution": {
     "iopub.execute_input": "2021-10-27T18:20:07.160128Z",
     "iopub.status.busy": "2021-10-27T18:20:07.159526Z",
     "iopub.status.idle": "2021-10-27T18:20:08.420393Z",
     "shell.execute_reply": "2021-10-27T18:20:08.421013Z"
    },
    "jupyter": {
     "source_hidden": true
    },
    "papermill": {
     "duration": 1.348148,
     "end_time": "2021-10-27T18:20:08.421236",
     "exception": false,
     "start_time": "2021-10-27T18:20:07.073088",
     "status": "completed"
    },
    "tags": []
   },
   "outputs": [],
   "source": [
    "# extract presentation contributions; need to see how to get usage per presentation\n",
    "sql_query = \"select authorid, hits from jos_resources left join jos_author_assoc \"\\\n",
    "            \"on jos_author_assoc.subid = jos_resources.id where type = '7' and access in ('0','3','1') \"\\\n",
    "            \"and standalone = '1' and published in ('1');\"\n",
    "tools_df = pd.read_sql_query(sql_query,nanohub_db)"
   ]
  },
  {
   "cell_type": "code",
   "execution_count": 10,
   "id": "9c1e155d",
   "metadata": {
    "execution": {
     "iopub.execute_input": "2021-10-27T18:20:08.608805Z",
     "iopub.status.busy": "2021-10-27T18:20:08.608102Z",
     "iopub.status.idle": "2021-10-27T18:20:08.900752Z",
     "shell.execute_reply": "2021-10-27T18:20:08.901258Z"
    },
    "jupyter": {
     "source_hidden": true
    },
    "papermill": {
     "duration": 0.382567,
     "end_time": "2021-10-27T18:20:08.901502",
     "exception": false,
     "start_time": "2021-10-27T18:20:08.518935",
     "status": "completed"
    },
    "tags": []
   },
   "outputs": [],
   "source": [
    "# getting the users that used the contributions\n",
    "sql_query = \"select * from jos_author_stats WHERE datetime \" \\\n",
    "    \"between \" + date_str0 +\" and \" + date_str1 + \" and period = 14;\"\n",
    "\n",
    "result_users_df = pd.read_sql_query(sql_query, nanohub_db)"
   ]
  },
  {
   "cell_type": "raw",
   "id": "5c00c960",
   "metadata": {
    "papermill": {
     "duration": 0.098025,
     "end_time": "2021-10-27T18:20:09.082234",
     "exception": false,
     "start_time": "2021-10-27T18:20:08.984209",
     "status": "completed"
    },
    "tags": []
   },
   "source": [
    "## deprecated - the table hasn't been updated in years\n",
    "# getting the total number of contributions\n",
    "sql_query = \"select * from jos_real_contributors;\" #this is not up-to-date\n",
    "\n",
    "num_contri_df = pd.read_sql_query(sql_query, engine)\n",
    "display(num_contri_df.head(2))"
   ]
  },
  {
   "cell_type": "code",
   "execution_count": 11,
   "id": "814a7ae4",
   "metadata": {
    "execution": {
     "iopub.execute_input": "2021-10-27T18:20:09.282481Z",
     "iopub.status.busy": "2021-10-27T18:20:09.281767Z",
     "iopub.status.idle": "2021-10-27T18:20:09.313058Z",
     "shell.execute_reply": "2021-10-27T18:20:09.312583Z"
    },
    "jupyter": {
     "source_hidden": true
    },
    "papermill": {
     "duration": 0.134341,
     "end_time": "2021-10-27T18:20:09.313283",
     "exception": false,
     "start_time": "2021-10-27T18:20:09.178942",
     "status": "completed"
    },
    "tags": []
   },
   "outputs": [
    {
     "data": {
      "text/html": [
       "<div>\n",
       "<style scoped>\n",
       "    .dataframe tbody tr th:only-of-type {\n",
       "        vertical-align: middle;\n",
       "    }\n",
       "\n",
       "    .dataframe tbody tr th {\n",
       "        vertical-align: top;\n",
       "    }\n",
       "\n",
       "    .dataframe thead th {\n",
       "        text-align: right;\n",
       "    }\n",
       "</style>\n",
       "<table border=\"1\" class=\"dataframe\">\n",
       "  <thead>\n",
       "    <tr style=\"text-align: right;\">\n",
       "      <th></th>\n",
       "      <th>hits</th>\n",
       "      <th>created_by</th>\n",
       "    </tr>\n",
       "  </thead>\n",
       "  <tbody>\n",
       "    <tr>\n",
       "      <th>0</th>\n",
       "      <td>6540</td>\n",
       "      <td>4843</td>\n",
       "    </tr>\n",
       "    <tr>\n",
       "      <th>1</th>\n",
       "      <td>44525</td>\n",
       "      <td>8780</td>\n",
       "    </tr>\n",
       "  </tbody>\n",
       "</table>\n",
       "</div>"
      ],
      "text/plain": [
       "    hits  created_by\n",
       "0   6540        4843\n",
       "1  44525        8780"
      ]
     },
     "metadata": {},
     "output_type": "display_data"
    },
    {
     "data": {
      "text/html": [
       "<div>\n",
       "<style scoped>\n",
       "    .dataframe tbody tr th:only-of-type {\n",
       "        vertical-align: middle;\n",
       "    }\n",
       "\n",
       "    .dataframe tbody tr th {\n",
       "        vertical-align: top;\n",
       "    }\n",
       "\n",
       "    .dataframe thead th {\n",
       "        text-align: right;\n",
       "    }\n",
       "</style>\n",
       "<table border=\"1\" class=\"dataframe\">\n",
       "  <thead>\n",
       "    <tr style=\"text-align: right;\">\n",
       "      <th></th>\n",
       "      <th>authorid</th>\n",
       "      <th>hits</th>\n",
       "    </tr>\n",
       "  </thead>\n",
       "  <tbody>\n",
       "    <tr>\n",
       "      <th>0</th>\n",
       "      <td>1871.0</td>\n",
       "      <td>13674</td>\n",
       "    </tr>\n",
       "    <tr>\n",
       "      <th>1</th>\n",
       "      <td>2862.0</td>\n",
       "      <td>24552</td>\n",
       "    </tr>\n",
       "  </tbody>\n",
       "</table>\n",
       "</div>"
      ],
      "text/plain": [
       "   authorid   hits\n",
       "0    1871.0  13674\n",
       "1    2862.0  24552"
      ]
     },
     "metadata": {},
     "output_type": "display_data"
    },
    {
     "data": {
      "text/html": [
       "<div>\n",
       "<style scoped>\n",
       "    .dataframe tbody tr th:only-of-type {\n",
       "        vertical-align: middle;\n",
       "    }\n",
       "\n",
       "    .dataframe tbody tr th {\n",
       "        vertical-align: top;\n",
       "    }\n",
       "\n",
       "    .dataframe thead th {\n",
       "        text-align: right;\n",
       "    }\n",
       "</style>\n",
       "<table border=\"1\" class=\"dataframe\">\n",
       "  <thead>\n",
       "    <tr style=\"text-align: right;\">\n",
       "      <th></th>\n",
       "      <th>authorid</th>\n",
       "      <th>hits</th>\n",
       "    </tr>\n",
       "  </thead>\n",
       "  <tbody>\n",
       "    <tr>\n",
       "      <th>0</th>\n",
       "      <td>-16.0</td>\n",
       "      <td>10468</td>\n",
       "    </tr>\n",
       "    <tr>\n",
       "      <th>1</th>\n",
       "      <td>3013.0</td>\n",
       "      <td>6991</td>\n",
       "    </tr>\n",
       "  </tbody>\n",
       "</table>\n",
       "</div>"
      ],
      "text/plain": [
       "   authorid   hits\n",
       "0     -16.0  10468\n",
       "1    3013.0   6991"
      ]
     },
     "metadata": {},
     "output_type": "display_data"
    },
    {
     "data": {
      "text/html": [
       "<div>\n",
       "<style scoped>\n",
       "    .dataframe tbody tr th:only-of-type {\n",
       "        vertical-align: middle;\n",
       "    }\n",
       "\n",
       "    .dataframe tbody tr th {\n",
       "        vertical-align: top;\n",
       "    }\n",
       "\n",
       "    .dataframe thead th {\n",
       "        text-align: right;\n",
       "    }\n",
       "</style>\n",
       "<table border=\"1\" class=\"dataframe\">\n",
       "  <thead>\n",
       "    <tr style=\"text-align: right;\">\n",
       "      <th></th>\n",
       "      <th>authorid</th>\n",
       "      <th>hits</th>\n",
       "    </tr>\n",
       "  </thead>\n",
       "  <tbody>\n",
       "    <tr>\n",
       "      <th>0</th>\n",
       "      <td>-5.0</td>\n",
       "      <td>251605</td>\n",
       "    </tr>\n",
       "    <tr>\n",
       "      <th>1</th>\n",
       "      <td>8629.0</td>\n",
       "      <td>50032</td>\n",
       "    </tr>\n",
       "  </tbody>\n",
       "</table>\n",
       "</div>"
      ],
      "text/plain": [
       "   authorid    hits\n",
       "0      -5.0  251605\n",
       "1    8629.0   50032"
      ]
     },
     "metadata": {},
     "output_type": "display_data"
    },
    {
     "data": {
      "text/html": [
       "<div>\n",
       "<style scoped>\n",
       "    .dataframe tbody tr th:only-of-type {\n",
       "        vertical-align: middle;\n",
       "    }\n",
       "\n",
       "    .dataframe tbody tr th {\n",
       "        vertical-align: top;\n",
       "    }\n",
       "\n",
       "    .dataframe thead th {\n",
       "        text-align: right;\n",
       "    }\n",
       "</style>\n",
       "<table border=\"1\" class=\"dataframe\">\n",
       "  <thead>\n",
       "    <tr style=\"text-align: right;\">\n",
       "      <th></th>\n",
       "      <th>id</th>\n",
       "      <th>authorid</th>\n",
       "      <th>tool_users</th>\n",
       "      <th>andmore_users</th>\n",
       "      <th>total_users</th>\n",
       "      <th>datetime</th>\n",
       "      <th>period</th>\n",
       "    </tr>\n",
       "  </thead>\n",
       "  <tbody>\n",
       "    <tr>\n",
       "      <th>0</th>\n",
       "      <td>1277810</td>\n",
       "      <td>4843</td>\n",
       "      <td>3514.0</td>\n",
       "      <td>923</td>\n",
       "      <td>4416</td>\n",
       "      <td>2021-10-00 00:00:00</td>\n",
       "      <td>14</td>\n",
       "    </tr>\n",
       "    <tr>\n",
       "      <th>1</th>\n",
       "      <td>1277813</td>\n",
       "      <td>28115</td>\n",
       "      <td>2008.0</td>\n",
       "      <td>0</td>\n",
       "      <td>2008</td>\n",
       "      <td>2021-10-00 00:00:00</td>\n",
       "      <td>14</td>\n",
       "    </tr>\n",
       "  </tbody>\n",
       "</table>\n",
       "</div>"
      ],
      "text/plain": [
       "        id  authorid  tool_users  andmore_users  total_users  \\\n",
       "0  1277810      4843      3514.0            923         4416   \n",
       "1  1277813     28115      2008.0              0         2008   \n",
       "\n",
       "              datetime  period  \n",
       "0  2021-10-00 00:00:00      14  \n",
       "1  2021-10-00 00:00:00      14  "
      ]
     },
     "metadata": {},
     "output_type": "display_data"
    },
    {
     "name": "stdout",
     "output_type": "stream",
     "text": [
      "(3385, 7)\n"
     ]
    }
   ],
   "source": [
    "display(wiki_results_df.head(2))\n",
    "display(papers_df.head(2))\n",
    "display(presentation_df.head(2))\n",
    "display(tools_df.head(2))\n",
    "display(result_users_df.head(2))\n",
    "print(result_users_df.shape)"
   ]
  },
  {
   "cell_type": "code",
   "execution_count": 12,
   "id": "9eb13524",
   "metadata": {
    "execution": {
     "iopub.execute_input": "2021-10-27T18:20:09.512885Z",
     "iopub.status.busy": "2021-10-27T18:20:09.511987Z",
     "iopub.status.idle": "2021-10-27T18:20:09.513769Z",
     "shell.execute_reply": "2021-10-27T18:20:09.514151Z"
    },
    "jupyter": {
     "source_hidden": true
    },
    "papermill": {
     "duration": 0.101898,
     "end_time": "2021-10-27T18:20:09.514389",
     "exception": false,
     "start_time": "2021-10-27T18:20:09.412491",
     "status": "completed"
    },
    "tags": []
   },
   "outputs": [],
   "source": [
    "## get rid of all negative authorids from all of the dataframes\n",
    "wikidrops = []\n",
    "wikikeeps = []\n",
    "for ind,val in enumerate(wiki_results_df['created_by'].to_list()):\n",
    "    if val <= 0:\n",
    "        wikidrops.append(ind)\n",
    "    else:\n",
    "        wikikeeps.append(ind)\n",
    "wiki_results_df = wiki_results_df.iloc[wikikeeps,:]"
   ]
  },
  {
   "cell_type": "code",
   "execution_count": 13,
   "id": "96ab997b",
   "metadata": {
    "execution": {
     "iopub.execute_input": "2021-10-27T18:20:09.701739Z",
     "iopub.status.busy": "2021-10-27T18:20:09.700899Z",
     "iopub.status.idle": "2021-10-27T18:20:09.703631Z",
     "shell.execute_reply": "2021-10-27T18:20:09.704237Z"
    },
    "jupyter": {
     "source_hidden": true
    },
    "papermill": {
     "duration": 0.09857,
     "end_time": "2021-10-27T18:20:09.704497",
     "exception": false,
     "start_time": "2021-10-27T18:20:09.605927",
     "status": "completed"
    },
    "tags": []
   },
   "outputs": [
    {
     "data": {
      "text/html": [
       "<div>\n",
       "<style scoped>\n",
       "    .dataframe tbody tr th:only-of-type {\n",
       "        vertical-align: middle;\n",
       "    }\n",
       "\n",
       "    .dataframe tbody tr th {\n",
       "        vertical-align: top;\n",
       "    }\n",
       "\n",
       "    .dataframe thead th {\n",
       "        text-align: right;\n",
       "    }\n",
       "</style>\n",
       "<table border=\"1\" class=\"dataframe\">\n",
       "  <thead>\n",
       "    <tr style=\"text-align: right;\">\n",
       "      <th></th>\n",
       "      <th>hits</th>\n",
       "      <th>created_by</th>\n",
       "    </tr>\n",
       "  </thead>\n",
       "  <tbody>\n",
       "    <tr>\n",
       "      <th>0</th>\n",
       "      <td>6540</td>\n",
       "      <td>4843</td>\n",
       "    </tr>\n",
       "    <tr>\n",
       "      <th>1</th>\n",
       "      <td>44525</td>\n",
       "      <td>8780</td>\n",
       "    </tr>\n",
       "  </tbody>\n",
       "</table>\n",
       "</div>"
      ],
      "text/plain": [
       "    hits  created_by\n",
       "0   6540        4843\n",
       "1  44525        8780"
      ]
     },
     "metadata": {},
     "output_type": "display_data"
    }
   ],
   "source": [
    "display(wiki_results_df.head(2))"
   ]
  },
  {
   "cell_type": "code",
   "execution_count": 14,
   "id": "f515d188",
   "metadata": {
    "execution": {
     "iopub.execute_input": "2021-10-27T18:20:09.884626Z",
     "iopub.status.busy": "2021-10-27T18:20:09.884047Z",
     "iopub.status.idle": "2021-10-27T18:20:09.886446Z",
     "shell.execute_reply": "2021-10-27T18:20:09.886978Z"
    },
    "jupyter": {
     "source_hidden": true
    },
    "papermill": {
     "duration": 0.095822,
     "end_time": "2021-10-27T18:20:09.887225",
     "exception": false,
     "start_time": "2021-10-27T18:20:09.791403",
     "status": "completed"
    },
    "tags": []
   },
   "outputs": [],
   "source": [
    "## papers df \n",
    "pdrops = []\n",
    "pkeeps = []\n",
    "for ind,val in enumerate(papers_df['authorid'].to_list()):\n",
    "    if val <= 0:\n",
    "        pdrops.append(ind)\n",
    "    else:\n",
    "        pkeeps.append(ind)\n",
    "papers_df = papers_df.iloc[pkeeps,:]"
   ]
  },
  {
   "cell_type": "code",
   "execution_count": 15,
   "id": "b80c9b58",
   "metadata": {
    "execution": {
     "iopub.execute_input": "2021-10-27T18:20:10.072662Z",
     "iopub.status.busy": "2021-10-27T18:20:10.071795Z",
     "iopub.status.idle": "2021-10-27T18:20:10.074549Z",
     "shell.execute_reply": "2021-10-27T18:20:10.074944Z"
    },
    "jupyter": {
     "source_hidden": true
    },
    "papermill": {
     "duration": 0.100001,
     "end_time": "2021-10-27T18:20:10.075176",
     "exception": false,
     "start_time": "2021-10-27T18:20:09.975175",
     "status": "completed"
    },
    "tags": []
   },
   "outputs": [
    {
     "data": {
      "text/html": [
       "<div>\n",
       "<style scoped>\n",
       "    .dataframe tbody tr th:only-of-type {\n",
       "        vertical-align: middle;\n",
       "    }\n",
       "\n",
       "    .dataframe tbody tr th {\n",
       "        vertical-align: top;\n",
       "    }\n",
       "\n",
       "    .dataframe thead th {\n",
       "        text-align: right;\n",
       "    }\n",
       "</style>\n",
       "<table border=\"1\" class=\"dataframe\">\n",
       "  <thead>\n",
       "    <tr style=\"text-align: right;\">\n",
       "      <th></th>\n",
       "      <th>authorid</th>\n",
       "      <th>hits</th>\n",
       "    </tr>\n",
       "  </thead>\n",
       "  <tbody>\n",
       "    <tr>\n",
       "      <th>0</th>\n",
       "      <td>1871.0</td>\n",
       "      <td>13674</td>\n",
       "    </tr>\n",
       "    <tr>\n",
       "      <th>1</th>\n",
       "      <td>2862.0</td>\n",
       "      <td>24552</td>\n",
       "    </tr>\n",
       "  </tbody>\n",
       "</table>\n",
       "</div>"
      ],
      "text/plain": [
       "   authorid   hits\n",
       "0    1871.0  13674\n",
       "1    2862.0  24552"
      ]
     },
     "metadata": {},
     "output_type": "display_data"
    }
   ],
   "source": [
    "display(papers_df.head(2))"
   ]
  },
  {
   "cell_type": "code",
   "execution_count": 16,
   "id": "42f2341b",
   "metadata": {
    "execution": {
     "iopub.execute_input": "2021-10-27T18:20:10.282112Z",
     "iopub.status.busy": "2021-10-27T18:20:10.280923Z",
     "iopub.status.idle": "2021-10-27T18:20:10.284212Z",
     "shell.execute_reply": "2021-10-27T18:20:10.284965Z"
    },
    "jupyter": {
     "source_hidden": true
    },
    "papermill": {
     "duration": 0.114389,
     "end_time": "2021-10-27T18:20:10.285191",
     "exception": false,
     "start_time": "2021-10-27T18:20:10.170802",
     "status": "completed"
    },
    "tags": []
   },
   "outputs": [],
   "source": [
    "## presentation_df\n",
    "prdrops = []\n",
    "prkeeps = []\n",
    "for ind,val in enumerate(presentation_df['authorid'].to_list()):\n",
    "    if val <= 0:\n",
    "        prdrops.append(ind)\n",
    "    else:\n",
    "        prkeeps.append(ind)\n",
    "presentation_df = presentation_df.iloc[prkeeps,:]"
   ]
  },
  {
   "cell_type": "code",
   "execution_count": 17,
   "id": "7f4c92d0",
   "metadata": {
    "execution": {
     "iopub.execute_input": "2021-10-27T18:20:10.485893Z",
     "iopub.status.busy": "2021-10-27T18:20:10.485076Z",
     "iopub.status.idle": "2021-10-27T18:20:10.488535Z",
     "shell.execute_reply": "2021-10-27T18:20:10.489166Z"
    },
    "jupyter": {
     "source_hidden": true
    },
    "papermill": {
     "duration": 0.104046,
     "end_time": "2021-10-27T18:20:10.489452",
     "exception": false,
     "start_time": "2021-10-27T18:20:10.385406",
     "status": "completed"
    },
    "tags": []
   },
   "outputs": [
    {
     "data": {
      "text/html": [
       "<div>\n",
       "<style scoped>\n",
       "    .dataframe tbody tr th:only-of-type {\n",
       "        vertical-align: middle;\n",
       "    }\n",
       "\n",
       "    .dataframe tbody tr th {\n",
       "        vertical-align: top;\n",
       "    }\n",
       "\n",
       "    .dataframe thead th {\n",
       "        text-align: right;\n",
       "    }\n",
       "</style>\n",
       "<table border=\"1\" class=\"dataframe\">\n",
       "  <thead>\n",
       "    <tr style=\"text-align: right;\">\n",
       "      <th></th>\n",
       "      <th>authorid</th>\n",
       "      <th>hits</th>\n",
       "    </tr>\n",
       "  </thead>\n",
       "  <tbody>\n",
       "    <tr>\n",
       "      <th>1</th>\n",
       "      <td>3013.0</td>\n",
       "      <td>6991</td>\n",
       "    </tr>\n",
       "    <tr>\n",
       "      <th>2</th>\n",
       "      <td>2862.0</td>\n",
       "      <td>21358</td>\n",
       "    </tr>\n",
       "  </tbody>\n",
       "</table>\n",
       "</div>"
      ],
      "text/plain": [
       "   authorid   hits\n",
       "1    3013.0   6991\n",
       "2    2862.0  21358"
      ]
     },
     "metadata": {},
     "output_type": "display_data"
    }
   ],
   "source": [
    "display(presentation_df.head(2))"
   ]
  },
  {
   "cell_type": "markdown",
   "id": "36744b81",
   "metadata": {
    "papermill": {
     "duration": 0.09856,
     "end_time": "2021-10-27T18:20:10.691699",
     "exception": false,
     "start_time": "2021-10-27T18:20:10.593139",
     "status": "completed"
    },
    "tags": []
   },
   "source": [
    "## roll up information from wiki_results_df, papers_df, and presentation_df"
   ]
  },
  {
   "cell_type": "code",
   "execution_count": 18,
   "id": "87359ae4",
   "metadata": {
    "execution": {
     "iopub.execute_input": "2021-10-27T18:20:10.899057Z",
     "iopub.status.busy": "2021-10-27T18:20:10.898141Z",
     "iopub.status.idle": "2021-10-27T18:20:10.901080Z",
     "shell.execute_reply": "2021-10-27T18:20:10.901499Z"
    },
    "jupyter": {
     "source_hidden": true
    },
    "papermill": {
     "duration": 0.111975,
     "end_time": "2021-10-27T18:20:10.901699",
     "exception": false,
     "start_time": "2021-10-27T18:20:10.789724",
     "status": "completed"
    },
    "tags": []
   },
   "outputs": [
    {
     "data": {
      "text/html": [
       "<div>\n",
       "<style scoped>\n",
       "    .dataframe tbody tr th:only-of-type {\n",
       "        vertical-align: middle;\n",
       "    }\n",
       "\n",
       "    .dataframe tbody tr th {\n",
       "        vertical-align: top;\n",
       "    }\n",
       "\n",
       "    .dataframe thead th {\n",
       "        text-align: right;\n",
       "    }\n",
       "</style>\n",
       "<table border=\"1\" class=\"dataframe\">\n",
       "  <thead>\n",
       "    <tr style=\"text-align: right;\">\n",
       "      <th></th>\n",
       "      <th>nanoHUB_user_ID__c1</th>\n",
       "      <th>wiki_contributions__c</th>\n",
       "      <th>nanoHUB_user_ID__c2</th>\n",
       "      <th>wiki_usage__c</th>\n",
       "    </tr>\n",
       "  </thead>\n",
       "  <tbody>\n",
       "    <tr>\n",
       "      <th>0</th>\n",
       "      <td>1852</td>\n",
       "      <td>3</td>\n",
       "      <td>1852</td>\n",
       "      <td>27718</td>\n",
       "    </tr>\n",
       "    <tr>\n",
       "      <th>1</th>\n",
       "      <td>2862</td>\n",
       "      <td>1</td>\n",
       "      <td>2862</td>\n",
       "      <td>5280</td>\n",
       "    </tr>\n",
       "  </tbody>\n",
       "</table>\n",
       "</div>"
      ],
      "text/plain": [
       "   nanoHUB_user_ID__c1  wiki_contributions__c  nanoHUB_user_ID__c2  \\\n",
       "0                 1852                      3                 1852   \n",
       "1                 2862                      1                 2862   \n",
       "\n",
       "   wiki_usage__c  \n",
       "0          27718  \n",
       "1           5280  "
      ]
     },
     "metadata": {},
     "output_type": "display_data"
    }
   ],
   "source": [
    "# wiki_results_df\n",
    "\n",
    "## get the number of unique wiki contributions\n",
    "wikic = wiki_results_df.groupby(['created_by']).size().reset_index() #need reset_index to save the authorid/created_by field\n",
    "wikic.columns = ['nanoHUB_user_ID__c','wiki_contributions__c']\n",
    "wikic = pd.DataFrame(wikic)\n",
    "\n",
    "## rollup usage\n",
    "wikic2 = wiki_results_df.groupby(['created_by']).sum().reset_index()\n",
    "wikic2.columns = ['nanoHUB_user_ID__c','wiki_usage__c']\n",
    "wikic2 = pd.DataFrame(wikic2)\n",
    "\n",
    "wikic = wikic.join(wikic2,lsuffix='1', rsuffix='2')\n",
    "display(wikic.head(2))"
   ]
  },
  {
   "cell_type": "code",
   "execution_count": 19,
   "id": "ebfb016f",
   "metadata": {
    "execution": {
     "iopub.execute_input": "2021-10-27T18:20:11.097665Z",
     "iopub.status.busy": "2021-10-27T18:20:11.096947Z",
     "iopub.status.idle": "2021-10-27T18:20:11.099946Z",
     "shell.execute_reply": "2021-10-27T18:20:11.100363Z"
    },
    "jupyter": {
     "source_hidden": true
    },
    "papermill": {
     "duration": 0.106607,
     "end_time": "2021-10-27T18:20:11.100648",
     "exception": false,
     "start_time": "2021-10-27T18:20:10.994041",
     "status": "completed"
    },
    "tags": []
   },
   "outputs": [
    {
     "data": {
      "text/html": [
       "<div>\n",
       "<style scoped>\n",
       "    .dataframe tbody tr th:only-of-type {\n",
       "        vertical-align: middle;\n",
       "    }\n",
       "\n",
       "    .dataframe tbody tr th {\n",
       "        vertical-align: top;\n",
       "    }\n",
       "\n",
       "    .dataframe thead th {\n",
       "        text-align: right;\n",
       "    }\n",
       "</style>\n",
       "<table border=\"1\" class=\"dataframe\">\n",
       "  <thead>\n",
       "    <tr style=\"text-align: right;\">\n",
       "      <th></th>\n",
       "      <th>nanoHUB_user_ID__c</th>\n",
       "      <th>wiki_contributions__c</th>\n",
       "      <th>wiki_usage__c</th>\n",
       "    </tr>\n",
       "  </thead>\n",
       "  <tbody>\n",
       "    <tr>\n",
       "      <th>0</th>\n",
       "      <td>1852</td>\n",
       "      <td>3</td>\n",
       "      <td>27718</td>\n",
       "    </tr>\n",
       "    <tr>\n",
       "      <th>1</th>\n",
       "      <td>2862</td>\n",
       "      <td>1</td>\n",
       "      <td>5280</td>\n",
       "    </tr>\n",
       "  </tbody>\n",
       "</table>\n",
       "</div>"
      ],
      "text/plain": [
       "   nanoHUB_user_ID__c  wiki_contributions__c  wiki_usage__c\n",
       "0                1852                      3          27718\n",
       "1                2862                      1           5280"
      ]
     },
     "metadata": {},
     "output_type": "display_data"
    }
   ],
   "source": [
    "wikic = wikic.drop(columns=['nanoHUB_user_ID__c2'])\n",
    "wikic = wikic.rename(columns={\"nanoHUB_user_ID__c1\": \"nanoHUB_user_ID__c\"})\n",
    "display(wikic.head(2))"
   ]
  },
  {
   "cell_type": "code",
   "execution_count": 20,
   "id": "56b784e7",
   "metadata": {
    "execution": {
     "iopub.execute_input": "2021-10-27T18:20:11.300864Z",
     "iopub.status.busy": "2021-10-27T18:20:11.300120Z",
     "iopub.status.idle": "2021-10-27T18:20:11.303380Z",
     "shell.execute_reply": "2021-10-27T18:20:11.303761Z"
    },
    "jupyter": {
     "source_hidden": true
    },
    "papermill": {
     "duration": 0.109778,
     "end_time": "2021-10-27T18:20:11.303930",
     "exception": false,
     "start_time": "2021-10-27T18:20:11.194152",
     "status": "completed"
    },
    "tags": []
   },
   "outputs": [
    {
     "data": {
      "text/html": [
       "<div>\n",
       "<style scoped>\n",
       "    .dataframe tbody tr th:only-of-type {\n",
       "        vertical-align: middle;\n",
       "    }\n",
       "\n",
       "    .dataframe tbody tr th {\n",
       "        vertical-align: top;\n",
       "    }\n",
       "\n",
       "    .dataframe thead th {\n",
       "        text-align: right;\n",
       "    }\n",
       "</style>\n",
       "<table border=\"1\" class=\"dataframe\">\n",
       "  <thead>\n",
       "    <tr style=\"text-align: right;\">\n",
       "      <th></th>\n",
       "      <th>nanoHUB_user_ID__c</th>\n",
       "      <th>paper_contributions__c</th>\n",
       "    </tr>\n",
       "  </thead>\n",
       "  <tbody>\n",
       "    <tr>\n",
       "      <th>0</th>\n",
       "      <td>1852.0</td>\n",
       "      <td>3</td>\n",
       "    </tr>\n",
       "    <tr>\n",
       "      <th>1</th>\n",
       "      <td>1871.0</td>\n",
       "      <td>1</td>\n",
       "    </tr>\n",
       "  </tbody>\n",
       "</table>\n",
       "</div>"
      ],
      "text/plain": [
       "   nanoHUB_user_ID__c  paper_contributions__c\n",
       "0              1852.0                       3\n",
       "1              1871.0                       1"
      ]
     },
     "metadata": {},
     "output_type": "display_data"
    }
   ],
   "source": [
    "# papers_df - just need the number of unique contributions\n",
    "\n",
    "## get the number of unique paper contributions\n",
    "papersc = papers_df.groupby(['authorid']).size().reset_index() #need reset_index to save the authorid/created_by field\n",
    "papersc.columns = ['nanoHUB_user_ID__c','paper_contributions__c']\n",
    "papersc = pd.DataFrame(papersc)\n",
    "\n",
    "## to add in the number of paper hits in the future ##TODO\n",
    "\n",
    "display(papersc.head(2))"
   ]
  },
  {
   "cell_type": "code",
   "execution_count": 21,
   "id": "539a393c",
   "metadata": {
    "execution": {
     "iopub.execute_input": "2021-10-27T18:20:11.504417Z",
     "iopub.status.busy": "2021-10-27T18:20:11.503578Z",
     "iopub.status.idle": "2021-10-27T18:20:11.510694Z",
     "shell.execute_reply": "2021-10-27T18:20:11.511167Z"
    },
    "jupyter": {
     "source_hidden": true
    },
    "papermill": {
     "duration": 0.110716,
     "end_time": "2021-10-27T18:20:11.511403",
     "exception": false,
     "start_time": "2021-10-27T18:20:11.400687",
     "status": "completed"
    },
    "tags": []
   },
   "outputs": [
    {
     "data": {
      "text/html": [
       "<div>\n",
       "<style scoped>\n",
       "    .dataframe tbody tr th:only-of-type {\n",
       "        vertical-align: middle;\n",
       "    }\n",
       "\n",
       "    .dataframe tbody tr th {\n",
       "        vertical-align: top;\n",
       "    }\n",
       "\n",
       "    .dataframe thead th {\n",
       "        text-align: right;\n",
       "    }\n",
       "</style>\n",
       "<table border=\"1\" class=\"dataframe\">\n",
       "  <thead>\n",
       "    <tr style=\"text-align: right;\">\n",
       "      <th></th>\n",
       "      <th>nanoHUB_user_ID__c</th>\n",
       "      <th>presentations_contributions__c</th>\n",
       "    </tr>\n",
       "  </thead>\n",
       "  <tbody>\n",
       "    <tr>\n",
       "      <th>0</th>\n",
       "      <td>1742.0</td>\n",
       "      <td>2</td>\n",
       "    </tr>\n",
       "    <tr>\n",
       "      <th>1</th>\n",
       "      <td>1810.0</td>\n",
       "      <td>1</td>\n",
       "    </tr>\n",
       "  </tbody>\n",
       "</table>\n",
       "</div>"
      ],
      "text/plain": [
       "   nanoHUB_user_ID__c  presentations_contributions__c\n",
       "0              1742.0                               2\n",
       "1              1810.0                               1"
      ]
     },
     "metadata": {},
     "output_type": "display_data"
    }
   ],
   "source": [
    "# presentation_df - just need the number of unique contributions\n",
    "\n",
    "## get the number of unique presentation contributions\n",
    "pres_c = presentation_df.groupby(['authorid']).size().reset_index() #need reset_index to save the authorid/created_by field\n",
    "pres_c.columns = ['nanoHUB_user_ID__c','presentations_contributions__c']\n",
    "pres_c = pd.DataFrame(pres_c)\n",
    "\n",
    "## to add in the number of paper hits in the future ##TODO\n",
    "\n",
    "display(pres_c.head(2))"
   ]
  },
  {
   "cell_type": "markdown",
   "id": "10979b8a",
   "metadata": {
    "papermill": {
     "duration": 0.096181,
     "end_time": "2021-10-27T18:20:11.705380",
     "exception": false,
     "start_time": "2021-10-27T18:20:11.609199",
     "status": "completed"
    },
    "tags": []
   },
   "source": [
    "## Big picture users dataframe development"
   ]
  },
  {
   "cell_type": "code",
   "execution_count": 22,
   "id": "5f6b3617",
   "metadata": {
    "execution": {
     "iopub.execute_input": "2021-10-27T18:20:11.902255Z",
     "iopub.status.busy": "2021-10-27T18:20:11.901443Z",
     "iopub.status.idle": "2021-10-27T18:20:11.903637Z",
     "shell.execute_reply": "2021-10-27T18:20:11.904141Z"
    },
    "jupyter": {
     "source_hidden": true
    },
    "papermill": {
     "duration": 0.103183,
     "end_time": "2021-10-27T18:20:11.904321",
     "exception": false,
     "start_time": "2021-10-27T18:20:11.801138",
     "status": "completed"
    },
    "tags": []
   },
   "outputs": [],
   "source": [
    "# rename the authorid in result_users_df, then join all of the dataframes\n",
    "ovr_df = result_users_df.rename(columns={\"authorid\": \"nanoHUB_user_ID__c\"})\n",
    "ovr_df['contributor__c'] = 0"
   ]
  },
  {
   "cell_type": "code",
   "execution_count": 23,
   "id": "df5ed5b5",
   "metadata": {
    "execution": {
     "iopub.execute_input": "2021-10-27T18:20:12.108652Z",
     "iopub.status.busy": "2021-10-27T18:20:12.103963Z",
     "iopub.status.idle": "2021-10-27T18:20:12.115662Z",
     "shell.execute_reply": "2021-10-27T18:20:12.116026Z"
    },
    "jupyter": {
     "source_hidden": true
    },
    "papermill": {
     "duration": 0.116695,
     "end_time": "2021-10-27T18:20:12.116202",
     "exception": false,
     "start_time": "2021-10-27T18:20:11.999507",
     "status": "completed"
    },
    "tags": []
   },
   "outputs": [
    {
     "data": {
      "text/html": [
       "<div>\n",
       "<style scoped>\n",
       "    .dataframe tbody tr th:only-of-type {\n",
       "        vertical-align: middle;\n",
       "    }\n",
       "\n",
       "    .dataframe tbody tr th {\n",
       "        vertical-align: top;\n",
       "    }\n",
       "\n",
       "    .dataframe thead th {\n",
       "        text-align: right;\n",
       "    }\n",
       "</style>\n",
       "<table border=\"1\" class=\"dataframe\">\n",
       "  <thead>\n",
       "    <tr style=\"text-align: right;\">\n",
       "      <th></th>\n",
       "      <th>nanoHUB_user_ID__c</th>\n",
       "      <th>tool_users</th>\n",
       "      <th>andmore_users</th>\n",
       "      <th>total_users</th>\n",
       "      <th>contributor__c</th>\n",
       "    </tr>\n",
       "  </thead>\n",
       "  <tbody>\n",
       "    <tr>\n",
       "      <th>0</th>\n",
       "      <td>4843</td>\n",
       "      <td>3514.0</td>\n",
       "      <td>923</td>\n",
       "      <td>4416</td>\n",
       "      <td>0</td>\n",
       "    </tr>\n",
       "    <tr>\n",
       "      <th>1</th>\n",
       "      <td>28115</td>\n",
       "      <td>2008.0</td>\n",
       "      <td>0</td>\n",
       "      <td>2008</td>\n",
       "      <td>0</td>\n",
       "    </tr>\n",
       "  </tbody>\n",
       "</table>\n",
       "</div>"
      ],
      "text/plain": [
       "   nanoHUB_user_ID__c  tool_users  andmore_users  total_users  contributor__c\n",
       "0                4843      3514.0            923         4416               0\n",
       "1               28115      2008.0              0         2008               0"
      ]
     },
     "metadata": {},
     "output_type": "display_data"
    },
    {
     "data": {
      "text/html": [
       "<div>\n",
       "<style scoped>\n",
       "    .dataframe tbody tr th:only-of-type {\n",
       "        vertical-align: middle;\n",
       "    }\n",
       "\n",
       "    .dataframe tbody tr th {\n",
       "        vertical-align: top;\n",
       "    }\n",
       "\n",
       "    .dataframe thead th {\n",
       "        text-align: right;\n",
       "    }\n",
       "</style>\n",
       "<table border=\"1\" class=\"dataframe\">\n",
       "  <thead>\n",
       "    <tr style=\"text-align: right;\">\n",
       "      <th></th>\n",
       "      <th>nanoHUB_user_ID__c</th>\n",
       "      <th>tool_users</th>\n",
       "      <th>andmore_users</th>\n",
       "      <th>total_users</th>\n",
       "      <th>contributor__c</th>\n",
       "    </tr>\n",
       "  </thead>\n",
       "  <tbody>\n",
       "    <tr>\n",
       "      <th>3383</th>\n",
       "      <td>338337</td>\n",
       "      <td>1.0</td>\n",
       "      <td>0</td>\n",
       "      <td>1</td>\n",
       "      <td>0</td>\n",
       "    </tr>\n",
       "    <tr>\n",
       "      <th>3384</th>\n",
       "      <td>16514</td>\n",
       "      <td>NaN</td>\n",
       "      <td>0</td>\n",
       "      <td>0</td>\n",
       "      <td>0</td>\n",
       "    </tr>\n",
       "  </tbody>\n",
       "</table>\n",
       "</div>"
      ],
      "text/plain": [
       "      nanoHUB_user_ID__c  tool_users  andmore_users  total_users  \\\n",
       "3383              338337         1.0              0            1   \n",
       "3384               16514         NaN              0            0   \n",
       "\n",
       "      contributor__c  \n",
       "3383               0  \n",
       "3384               0  "
      ]
     },
     "metadata": {},
     "output_type": "display_data"
    }
   ],
   "source": [
    "## get rid of all negative nanohub ids\n",
    "drops = []\n",
    "keeps = []\n",
    "for ind,val in enumerate(ovr_df['nanoHUB_user_ID__c'].to_list()):\n",
    "    if val <= 0:\n",
    "        drops.append(ind)\n",
    "    else:\n",
    "        keeps.append(ind)\n",
    "ovr_df = ovr_df.iloc[keeps,:]\n",
    "\n",
    "ovr_df = ovr_df.drop(columns=['datetime','period','id'])\n",
    "\n",
    "display(ovr_df.head(2))\n",
    "display(ovr_df.tail(2))"
   ]
  },
  {
   "cell_type": "code",
   "execution_count": 24,
   "id": "e28ed98f",
   "metadata": {
    "execution": {
     "iopub.execute_input": "2021-10-27T18:20:12.323690Z",
     "iopub.status.busy": "2021-10-27T18:20:12.322848Z",
     "iopub.status.idle": "2021-10-27T18:20:12.337200Z",
     "shell.execute_reply": "2021-10-27T18:20:12.337884Z"
    },
    "jupyter": {
     "source_hidden": true
    },
    "papermill": {
     "duration": 0.122489,
     "end_time": "2021-10-27T18:20:12.338092",
     "exception": false,
     "start_time": "2021-10-27T18:20:12.215603",
     "status": "completed"
    },
    "tags": []
   },
   "outputs": [
    {
     "data": {
      "text/html": [
       "<div>\n",
       "<style scoped>\n",
       "    .dataframe tbody tr th:only-of-type {\n",
       "        vertical-align: middle;\n",
       "    }\n",
       "\n",
       "    .dataframe tbody tr th {\n",
       "        vertical-align: top;\n",
       "    }\n",
       "\n",
       "    .dataframe thead th {\n",
       "        text-align: right;\n",
       "    }\n",
       "</style>\n",
       "<table border=\"1\" class=\"dataframe\">\n",
       "  <thead>\n",
       "    <tr style=\"text-align: right;\">\n",
       "      <th></th>\n",
       "      <th>tool_users</th>\n",
       "      <th>andmore_users</th>\n",
       "      <th>total_users</th>\n",
       "      <th>contributor__c</th>\n",
       "      <th>wiki_contributions__c</th>\n",
       "      <th>wiki_usage__c</th>\n",
       "      <th>paper_contributions__c</th>\n",
       "      <th>presentations_contributions__c</th>\n",
       "    </tr>\n",
       "    <tr>\n",
       "      <th>nanoHUB_user_ID__c</th>\n",
       "      <th></th>\n",
       "      <th></th>\n",
       "      <th></th>\n",
       "      <th></th>\n",
       "      <th></th>\n",
       "      <th></th>\n",
       "      <th></th>\n",
       "      <th></th>\n",
       "    </tr>\n",
       "  </thead>\n",
       "  <tbody>\n",
       "    <tr>\n",
       "      <th>4843</th>\n",
       "      <td>3514.0</td>\n",
       "      <td>923</td>\n",
       "      <td>4416</td>\n",
       "      <td>0</td>\n",
       "      <td>1.0</td>\n",
       "      <td>6540.0</td>\n",
       "      <td>NaN</td>\n",
       "      <td>NaN</td>\n",
       "    </tr>\n",
       "    <tr>\n",
       "      <th>28115</th>\n",
       "      <td>2008.0</td>\n",
       "      <td>0</td>\n",
       "      <td>2008</td>\n",
       "      <td>0</td>\n",
       "      <td>NaN</td>\n",
       "      <td>NaN</td>\n",
       "      <td>NaN</td>\n",
       "      <td>NaN</td>\n",
       "    </tr>\n",
       "    <tr>\n",
       "      <th>3482</th>\n",
       "      <td>82013.0</td>\n",
       "      <td>788473</td>\n",
       "      <td>834868</td>\n",
       "      <td>0</td>\n",
       "      <td>20.0</td>\n",
       "      <td>259089.0</td>\n",
       "      <td>9.0</td>\n",
       "      <td>133.0</td>\n",
       "    </tr>\n",
       "    <tr>\n",
       "      <th>9736</th>\n",
       "      <td>51234.0</td>\n",
       "      <td>917383</td>\n",
       "      <td>945985</td>\n",
       "      <td>0</td>\n",
       "      <td>6.0</td>\n",
       "      <td>40012.0</td>\n",
       "      <td>4.0</td>\n",
       "      <td>39.0</td>\n",
       "    </tr>\n",
       "    <tr>\n",
       "      <th>10617</th>\n",
       "      <td>8577.0</td>\n",
       "      <td>5608</td>\n",
       "      <td>13235</td>\n",
       "      <td>0</td>\n",
       "      <td>NaN</td>\n",
       "      <td>NaN</td>\n",
       "      <td>NaN</td>\n",
       "      <td>4.0</td>\n",
       "    </tr>\n",
       "    <tr>\n",
       "      <th>14002</th>\n",
       "      <td>51333.0</td>\n",
       "      <td>16057</td>\n",
       "      <td>65121</td>\n",
       "      <td>0</td>\n",
       "      <td>NaN</td>\n",
       "      <td>NaN</td>\n",
       "      <td>1.0</td>\n",
       "      <td>2.0</td>\n",
       "    </tr>\n",
       "    <tr>\n",
       "      <th>28836</th>\n",
       "      <td>9985.0</td>\n",
       "      <td>11154</td>\n",
       "      <td>20297</td>\n",
       "      <td>0</td>\n",
       "      <td>NaN</td>\n",
       "      <td>NaN</td>\n",
       "      <td>1.0</td>\n",
       "      <td>8.0</td>\n",
       "    </tr>\n",
       "    <tr>\n",
       "      <th>13570</th>\n",
       "      <td>3578.0</td>\n",
       "      <td>4009</td>\n",
       "      <td>7420</td>\n",
       "      <td>0</td>\n",
       "      <td>NaN</td>\n",
       "      <td>NaN</td>\n",
       "      <td>NaN</td>\n",
       "      <td>1.0</td>\n",
       "    </tr>\n",
       "    <tr>\n",
       "      <th>10676</th>\n",
       "      <td>19092.0</td>\n",
       "      <td>3038</td>\n",
       "      <td>21497</td>\n",
       "      <td>0</td>\n",
       "      <td>NaN</td>\n",
       "      <td>NaN</td>\n",
       "      <td>NaN</td>\n",
       "      <td>NaN</td>\n",
       "    </tr>\n",
       "    <tr>\n",
       "      <th>37033</th>\n",
       "      <td>12179.0</td>\n",
       "      <td>0</td>\n",
       "      <td>12179</td>\n",
       "      <td>0</td>\n",
       "      <td>NaN</td>\n",
       "      <td>NaN</td>\n",
       "      <td>NaN</td>\n",
       "      <td>NaN</td>\n",
       "    </tr>\n",
       "  </tbody>\n",
       "</table>\n",
       "</div>"
      ],
      "text/plain": [
       "                    tool_users  andmore_users  total_users  contributor__c  \\\n",
       "nanoHUB_user_ID__c                                                           \n",
       "4843                    3514.0            923         4416               0   \n",
       "28115                   2008.0              0         2008               0   \n",
       "3482                   82013.0         788473       834868               0   \n",
       "9736                   51234.0         917383       945985               0   \n",
       "10617                   8577.0           5608        13235               0   \n",
       "14002                  51333.0          16057        65121               0   \n",
       "28836                   9985.0          11154        20297               0   \n",
       "13570                   3578.0           4009         7420               0   \n",
       "10676                  19092.0           3038        21497               0   \n",
       "37033                  12179.0              0        12179               0   \n",
       "\n",
       "                    wiki_contributions__c  wiki_usage__c  \\\n",
       "nanoHUB_user_ID__c                                         \n",
       "4843                                  1.0         6540.0   \n",
       "28115                                 NaN            NaN   \n",
       "3482                                 20.0       259089.0   \n",
       "9736                                  6.0        40012.0   \n",
       "10617                                 NaN            NaN   \n",
       "14002                                 NaN            NaN   \n",
       "28836                                 NaN            NaN   \n",
       "13570                                 NaN            NaN   \n",
       "10676                                 NaN            NaN   \n",
       "37033                                 NaN            NaN   \n",
       "\n",
       "                    paper_contributions__c  presentations_contributions__c  \n",
       "nanoHUB_user_ID__c                                                          \n",
       "4843                                   NaN                             NaN  \n",
       "28115                                  NaN                             NaN  \n",
       "3482                                   9.0                           133.0  \n",
       "9736                                   4.0                            39.0  \n",
       "10617                                  NaN                             4.0  \n",
       "14002                                  1.0                             2.0  \n",
       "28836                                  1.0                             8.0  \n",
       "13570                                  NaN                             1.0  \n",
       "10676                                  NaN                             NaN  \n",
       "37033                                  NaN                             NaN  "
      ]
     },
     "metadata": {},
     "output_type": "display_data"
    }
   ],
   "source": [
    "ovr_df = ovr_df.set_index('nanoHUB_user_ID__c').join(wikic.set_index('nanoHUB_user_ID__c')) \n",
    "ovr_df = ovr_df.join(papersc.set_index('nanoHUB_user_ID__c')) \n",
    "ovr_df = ovr_df.join(pres_c.set_index('nanoHUB_user_ID__c')) \n",
    "\n",
    "display(ovr_df.head(10))\n",
    "#use .reset_index() to extract it later"
   ]
  },
  {
   "cell_type": "raw",
   "id": "cd2d2e02",
   "metadata": {
    "papermill": {
     "duration": 0.101322,
     "end_time": "2021-10-27T18:20:12.539675",
     "exception": false,
     "start_time": "2021-10-27T18:20:12.438353",
     "status": "completed"
    },
    "tags": []
   },
   "source": [
    "ovr_df = ovr_df.reset_index()\n",
    "\n",
    "# calculate contributor flag\n",
    "for index,val in enumerate(ovr_df['contributor__c'].to_list()):\n",
    "    # if any of the entries are non zero/non-NaN, then contributor__c = 1\n",
    "    if ovr_df['total_users'][index] > 0:\n",
    "        ovr_df['contributor__c'][index] = 1\n",
    "    elif ovr_df['wiki_contributions__c'][index] > 0:\n",
    "        ovr_df['contributor__c'][index] = 1\n",
    "    elif ovr_df['paper_contributions__c'][index] > 0:\n",
    "        ovr_df['contributor__c'][index] = 1\n",
    "    elif ovr_df['presentations_contributions__c'][index] > 0:\n",
    "        ovr_df['contributor__c'][index] = 1\n",
    "    elif ovr_df['Total_tool_contributions__c'][index] > 0:\n",
    "        ovr_df['contributor__c'][index] = 1\n",
    "        \n",
    "display(ovr_df.head(10))"
   ]
  },
  {
   "cell_type": "code",
   "execution_count": null,
   "id": "4fd725d6",
   "metadata": {
    "jupyter": {
     "source_hidden": true
    },
    "papermill": {
     "duration": 0.101806,
     "end_time": "2021-10-27T18:20:12.744319",
     "exception": false,
     "start_time": "2021-10-27T18:20:12.642513",
     "status": "completed"
    },
    "tags": []
   },
   "outputs": [],
   "source": []
  },
  {
   "cell_type": "code",
   "execution_count": null,
   "id": "c96c28fe",
   "metadata": {
    "jupyter": {
     "source_hidden": true
    },
    "papermill": {
     "duration": 0.099487,
     "end_time": "2021-10-27T18:20:12.943986",
     "exception": false,
     "start_time": "2021-10-27T18:20:12.844499",
     "status": "completed"
    },
    "tags": []
   },
   "outputs": [],
   "source": []
  },
  {
   "cell_type": "markdown",
   "id": "e3a55788",
   "metadata": {
    "papermill": {
     "duration": 0.100892,
     "end_time": "2021-10-27T18:20:13.145944",
     "exception": false,
     "start_time": "2021-10-27T18:20:13.045052",
     "status": "completed"
    },
    "tags": []
   },
   "source": [
    "## Get the current nanohub user IDs and their tool counts from SF\n",
    "then begin the dataframe merge and post-processing"
   ]
  },
  {
   "cell_type": "code",
   "execution_count": 25,
   "id": "687a96d9",
   "metadata": {
    "execution": {
     "iopub.execute_input": "2021-10-27T18:20:13.352016Z",
     "iopub.status.busy": "2021-10-27T18:20:13.351451Z",
     "iopub.status.idle": "2021-10-27T18:20:13.353478Z",
     "shell.execute_reply": "2021-10-27T18:20:13.353970Z"
    },
    "jupyter": {
     "source_hidden": true
    },
    "papermill": {
     "duration": 0.107012,
     "end_time": "2021-10-27T18:20:13.354171",
     "exception": false,
     "start_time": "2021-10-27T18:20:13.247159",
     "status": "completed"
    },
    "tags": []
   },
   "outputs": [],
   "source": [
    "# create DB2 to Salesforce API object\n",
    "db_s = salesforce"
   ]
  },
  {
   "cell_type": "code",
   "execution_count": 26,
   "id": "74c9923f",
   "metadata": {
    "execution": {
     "iopub.execute_input": "2021-10-27T18:20:13.559643Z",
     "iopub.status.busy": "2021-10-27T18:20:13.558763Z",
     "iopub.status.idle": "2021-10-27T18:20:38.274378Z",
     "shell.execute_reply": "2021-10-27T18:20:38.274729Z"
    },
    "jupyter": {
     "source_hidden": true
    },
    "papermill": {
     "duration": 24.821975,
     "end_time": "2021-10-27T18:20:38.274899",
     "exception": false,
     "start_time": "2021-10-27T18:20:13.452924",
     "status": "completed"
    },
    "tags": []
   },
   "outputs": [
    {
     "name": "stdout",
     "output_type": "stream",
     "text": [
      "[Success] Bulk job creation successful. Job ID = 7505w00000b2ZWGAA2\n"
     ]
    },
    {
     "name": "stdout",
     "output_type": "stream",
     "text": [
      "{\"id\":\"7505w00000b2ZWGAA2\",\"operation\":\"query\",\"object\":\"Contact\",\"createdById\":\"0055w00000DM5bOAAT\",\"createdDate\":\"2021-10-27T18:20:13.000+0000\",\"systemModstamp\":\"2021-10-27T18:20:14.000+0000\",\"state\":\"UploadComplete\",\"concurrencyMode\":\"Parallel\",\"contentType\":\"CSV\",\"apiVersion\":47.0,\"jobType\":\"V2Query\",\"lineEnding\":\"LF\",\"columnDelimiter\":\"COMMA\",\"retries\":0,\"totalProcessingTime\":0}\n"
     ]
    },
    {
     "name": "stdout",
     "output_type": "stream",
     "text": [
      "{\"id\":\"7505w00000b2ZWGAA2\",\"operation\":\"query\",\"object\":\"Contact\",\"createdById\":\"0055w00000DM5bOAAT\",\"createdDate\":\"2021-10-27T18:20:13.000+0000\",\"systemModstamp\":\"2021-10-27T18:20:14.000+0000\",\"state\":\"InProgress\",\"concurrencyMode\":\"Parallel\",\"contentType\":\"CSV\",\"apiVersion\":47.0,\"jobType\":\"V2Query\",\"lineEnding\":\"LF\",\"columnDelimiter\":\"COMMA\",\"numberRecordsProcessed\":14971,\"retries\":0,\"totalProcessingTime\":857}\n"
     ]
    },
    {
     "name": "stdout",
     "output_type": "stream",
     "text": [
      "{\"id\":\"7505w00000b2ZWGAA2\",\"operation\":\"query\",\"object\":\"Contact\",\"createdById\":\"0055w00000DM5bOAAT\",\"createdDate\":\"2021-10-27T18:20:13.000+0000\",\"systemModstamp\":\"2021-10-27T18:20:27.000+0000\",\"state\":\"JobComplete\",\"concurrencyMode\":\"Parallel\",\"contentType\":\"CSV\",\"apiVersion\":47.0,\"jobType\":\"V2Query\",\"lineEnding\":\"LF\",\"columnDelimiter\":\"COMMA\",\"numberRecordsProcessed\":262713,\"retries\":0,\"totalProcessingTime\":11968}\n",
      "[Success] Bulk job completed successfully.\n"
     ]
    },
    {
     "data": {
      "text/html": [
       "<div>\n",
       "<style scoped>\n",
       "    .dataframe tbody tr th:only-of-type {\n",
       "        vertical-align: middle;\n",
       "    }\n",
       "\n",
       "    .dataframe tbody tr th {\n",
       "        vertical-align: top;\n",
       "    }\n",
       "\n",
       "    .dataframe thead th {\n",
       "        text-align: right;\n",
       "    }\n",
       "</style>\n",
       "<table border=\"1\" class=\"dataframe\">\n",
       "  <thead>\n",
       "    <tr style=\"text-align: right;\">\n",
       "      <th></th>\n",
       "      <th>Total_tool_contributions__c</th>\n",
       "      <th>nanoHUB_user_ID__c</th>\n",
       "    </tr>\n",
       "  </thead>\n",
       "  <tbody>\n",
       "    <tr>\n",
       "      <th>0</th>\n",
       "      <td>0.0</td>\n",
       "      <td>998.0</td>\n",
       "    </tr>\n",
       "    <tr>\n",
       "      <th>1</th>\n",
       "      <td>0.0</td>\n",
       "      <td>1683.0</td>\n",
       "    </tr>\n",
       "  </tbody>\n",
       "</table>\n",
       "</div>"
      ],
      "text/plain": [
       "   Total_tool_contributions__c  nanoHUB_user_ID__c\n",
       "0                          0.0               998.0\n",
       "1                          0.0              1683.0"
      ]
     },
     "metadata": {},
     "output_type": "display_data"
    },
    {
     "name": "stdout",
     "output_type": "stream",
     "text": [
      "(247742, 2)\n"
     ]
    }
   ],
   "source": [
    "# get nanohub ID for contacts to being matching and processing\n",
    "sf_username_df = db_s.query_data('SELECT nanoHUB_user_ID__c,Total_tool_contributions__c FROM Contact')\n",
    "\n",
    "# display\n",
    "display(sf_username_df.head(2))\n",
    "print(sf_username_df.shape)"
   ]
  },
  {
   "cell_type": "markdown",
   "id": "a4ce151f",
   "metadata": {
    "tags": [
     "papermill-error-cell-tag"
    ]
   },
   "source": [
    "<span id=\"papermill-error-cell\" style=\"color:red; font-family:Helvetica Neue, Helvetica, Arial, sans-serif; font-size:2em;\">Execution using papermill encountered an exception here and stopped:</span>"
   ]
  },
  {
   "cell_type": "code",
   "execution_count": 27,
   "id": "f3361ca0",
   "metadata": {
    "execution": {
     "iopub.execute_input": "2021-10-27T18:20:38.518350Z",
     "iopub.status.busy": "2021-10-27T18:20:38.517655Z",
     "iopub.status.idle": "2021-10-27T18:20:38.750405Z",
     "shell.execute_reply": "2021-10-27T18:20:38.748854Z"
    },
    "jupyter": {
     "source_hidden": true
    },
    "papermill": {
     "duration": 0.361264,
     "end_time": "2021-10-27T18:20:38.750683",
     "exception": true,
     "start_time": "2021-10-27T18:20:38.389419",
     "status": "failed"
    },
    "tags": []
   },
   "outputs": [
    {
     "ename": "KeyError",
     "evalue": "\"None of ['nanoHUB_user_ID__c'] are in the columns\"",
     "output_type": "error",
     "traceback": [
      "\u001b[0;31m---------------------------------------------------------------------------\u001b[0m",
      "\u001b[0;31mKeyError\u001b[0m                                  Traceback (most recent call last)",
      "\u001b[0;32m/var/folders/64/2zrjfqsn7x3fxjzpq46kqcyr0000gp/T/ipykernel_3740/1463687622.py\u001b[0m in \u001b[0;36m<module>\u001b[0;34m\u001b[0m\n\u001b[1;32m      1\u001b[0m \u001b[0;31m# join the two dataframes\u001b[0m\u001b[0;34m\u001b[0m\u001b[0;34m\u001b[0m\u001b[0m\n\u001b[0;32m----> 2\u001b[0;31m \u001b[0mnover_df\u001b[0m \u001b[0;34m=\u001b[0m \u001b[0msf_username_df\u001b[0m\u001b[0;34m.\u001b[0m\u001b[0mset_index\u001b[0m\u001b[0;34m(\u001b[0m\u001b[0;34m'nanoHUB_user_ID__c'\u001b[0m\u001b[0;34m)\u001b[0m\u001b[0;34m.\u001b[0m\u001b[0mjoin\u001b[0m\u001b[0;34m(\u001b[0m\u001b[0movr_df\u001b[0m\u001b[0;34m.\u001b[0m\u001b[0mset_index\u001b[0m\u001b[0;34m(\u001b[0m\u001b[0;34m'nanoHUB_user_ID__c'\u001b[0m\u001b[0;34m)\u001b[0m\u001b[0;34m)\u001b[0m\u001b[0;34m\u001b[0m\u001b[0;34m\u001b[0m\u001b[0m\n\u001b[0m",
      "\u001b[0;32m~/.virtualenvs/nanoHUB/lib/python3.9/site-packages/pandas/util/_decorators.py\u001b[0m in \u001b[0;36mwrapper\u001b[0;34m(*args, **kwargs)\u001b[0m\n\u001b[1;32m    309\u001b[0m                     \u001b[0mstacklevel\u001b[0m\u001b[0;34m=\u001b[0m\u001b[0mstacklevel\u001b[0m\u001b[0;34m,\u001b[0m\u001b[0;34m\u001b[0m\u001b[0;34m\u001b[0m\u001b[0m\n\u001b[1;32m    310\u001b[0m                 )\n\u001b[0;32m--> 311\u001b[0;31m             \u001b[0;32mreturn\u001b[0m \u001b[0mfunc\u001b[0m\u001b[0;34m(\u001b[0m\u001b[0;34m*\u001b[0m\u001b[0margs\u001b[0m\u001b[0;34m,\u001b[0m \u001b[0;34m**\u001b[0m\u001b[0mkwargs\u001b[0m\u001b[0;34m)\u001b[0m\u001b[0;34m\u001b[0m\u001b[0;34m\u001b[0m\u001b[0m\n\u001b[0m\u001b[1;32m    312\u001b[0m \u001b[0;34m\u001b[0m\u001b[0m\n\u001b[1;32m    313\u001b[0m         \u001b[0;32mreturn\u001b[0m \u001b[0mwrapper\u001b[0m\u001b[0;34m\u001b[0m\u001b[0;34m\u001b[0m\u001b[0m\n",
      "\u001b[0;32m~/.virtualenvs/nanoHUB/lib/python3.9/site-packages/pandas/core/frame.py\u001b[0m in \u001b[0;36mset_index\u001b[0;34m(self, keys, drop, append, inplace, verify_integrity)\u001b[0m\n\u001b[1;32m   5449\u001b[0m \u001b[0;34m\u001b[0m\u001b[0m\n\u001b[1;32m   5450\u001b[0m         \u001b[0;32mif\u001b[0m \u001b[0mmissing\u001b[0m\u001b[0;34m:\u001b[0m\u001b[0;34m\u001b[0m\u001b[0;34m\u001b[0m\u001b[0m\n\u001b[0;32m-> 5451\u001b[0;31m             \u001b[0;32mraise\u001b[0m \u001b[0mKeyError\u001b[0m\u001b[0;34m(\u001b[0m\u001b[0;34mf\"None of {missing} are in the columns\"\u001b[0m\u001b[0;34m)\u001b[0m\u001b[0;34m\u001b[0m\u001b[0;34m\u001b[0m\u001b[0m\n\u001b[0m\u001b[1;32m   5452\u001b[0m \u001b[0;34m\u001b[0m\u001b[0m\n\u001b[1;32m   5453\u001b[0m         \u001b[0;32mif\u001b[0m \u001b[0minplace\u001b[0m\u001b[0;34m:\u001b[0m\u001b[0;34m\u001b[0m\u001b[0;34m\u001b[0m\u001b[0m\n",
      "\u001b[0;31mKeyError\u001b[0m: \"None of ['nanoHUB_user_ID__c'] are in the columns\""
     ]
    }
   ],
   "source": [
    "# join the two dataframes\n",
    "nover_df = sf_username_df.set_index('nanoHUB_user_ID__c').join(ovr_df.set_index('nanoHUB_user_ID__c'))"
   ]
  },
  {
   "cell_type": "code",
   "execution_count": null,
   "id": "f7b5d9a2",
   "metadata": {
    "jupyter": {
     "source_hidden": true
    },
    "papermill": {
     "duration": null,
     "end_time": null,
     "exception": null,
     "start_time": null,
     "status": "pending"
    },
    "tags": []
   },
   "outputs": [],
   "source": [
    "display(nover_df.head(2))"
   ]
  },
  {
   "cell_type": "code",
   "execution_count": null,
   "id": "03075f8a",
   "metadata": {
    "jupyter": {
     "source_hidden": true
    },
    "papermill": {
     "duration": null,
     "end_time": null,
     "exception": null,
     "start_time": null,
     "status": "pending"
    },
    "tags": []
   },
   "outputs": [],
   "source": [
    "## calculate the non tool contributions\n",
    "nover_df['And_More_Contributions__c'] = nover_df['wiki_contributions__c']+nover_df['paper_contributions__c']\\\n",
    "        +nover_df['presentations_contributions__c']"
   ]
  },
  {
   "cell_type": "code",
   "execution_count": null,
   "id": "1f68815b",
   "metadata": {
    "jupyter": {
     "source_hidden": true
    },
    "papermill": {
     "duration": null,
     "end_time": null,
     "exception": null,
     "start_time": null,
     "status": "pending"
    },
    "tags": []
   },
   "outputs": [],
   "source": [
    "# recover nanohub ids \n",
    "nover_df = nover_df.reset_index()\n",
    "display(nover_df.head(2))"
   ]
  },
  {
   "cell_type": "code",
   "execution_count": null,
   "id": "c5236adf",
   "metadata": {
    "jupyter": {
     "source_hidden": true
    },
    "papermill": {
     "duration": null,
     "end_time": null,
     "exception": null,
     "start_time": null,
     "status": "pending"
    },
    "tags": []
   },
   "outputs": [],
   "source": [
    "## remove NAN rows for index\n",
    "nover_df = nover_df.dropna(subset=['nanoHUB_user_ID__c'])\n",
    "nover_df.shape"
   ]
  },
  {
   "cell_type": "code",
   "execution_count": null,
   "id": "ed6f978c",
   "metadata": {
    "jupyter": {
     "source_hidden": true
    },
    "papermill": {
     "duration": null,
     "end_time": null,
     "exception": null,
     "start_time": null,
     "status": "pending"
    },
    "tags": []
   },
   "outputs": [],
   "source": [
    "## then make the indexes integers\n",
    "import numpy as np\n",
    "nover_df['nanoHUB_user_ID__c'] = nover_df['nanoHUB_user_ID__c'].apply(lambda x: int(x))\n",
    "display(nover_df.head(2))"
   ]
  },
  {
   "cell_type": "code",
   "execution_count": null,
   "id": "a182a790",
   "metadata": {
    "jupyter": {
     "source_hidden": true
    },
    "papermill": {
     "duration": null,
     "end_time": null,
     "exception": null,
     "start_time": null,
     "status": "pending"
    },
    "tags": []
   },
   "outputs": [],
   "source": [
    "# calculate contributor flag\n",
    "for index,val in enumerate(nover_df['contributor__c'].to_list()):\n",
    "    # if any of the entries are non zero/non-NaN, then contributor__c = 1\n",
    "    if nover_df['total_users'][index] > 0:\n",
    "        nover_df['contributor__c'][index] = 1\n",
    "    elif nover_df['wiki_contributions__c'][index] > 0:\n",
    "        nover_df['contributor__c'][index] = 1\n",
    "    elif nover_df['paper_contributions__c'][index] > 0:\n",
    "        nover_df['contributor__c'][index] = 1\n",
    "    elif nover_df['presentations_contributions__c'][index] > 0:\n",
    "        nover_df['contributor__c'][index] = 1\n",
    "    elif nover_df['Total_tool_contributions__c'][index] > 0:\n",
    "        nover_df['contributor__c'][index] = 1\n",
    "        \n",
    "display(nover_df.head(10))"
   ]
  },
  {
   "cell_type": "code",
   "execution_count": null,
   "id": "32940864",
   "metadata": {
    "jupyter": {
     "source_hidden": true
    },
    "papermill": {
     "duration": null,
     "end_time": null,
     "exception": null,
     "start_time": null,
     "status": "pending"
    },
    "tags": []
   },
   "outputs": [],
   "source": []
  },
  {
   "cell_type": "markdown",
   "id": "550c9269",
   "metadata": {
    "papermill": {
     "duration": null,
     "end_time": null,
     "exception": null,
     "start_time": null,
     "status": "pending"
    },
    "tags": []
   },
   "source": [
    "## Fitting data to SF format"
   ]
  },
  {
   "cell_type": "code",
   "execution_count": null,
   "id": "54c912c7",
   "metadata": {
    "jupyter": {
     "source_hidden": true
    },
    "papermill": {
     "duration": null,
     "end_time": null,
     "exception": null,
     "start_time": null,
     "status": "pending"
    },
    "tags": []
   },
   "outputs": [],
   "source": [
    "## creating and populating the sf dataframe\n",
    "df_sf = pd.DataFrame()\n",
    "temp_df = nover_df.fillna(0)\n",
    "\n",
    "# populating df_sf and make integers\n",
    "df_sf['nanoHUB_user_ID__c'] = temp_df['nanoHUB_user_ID__c'].apply(lambda x: int(x))\n",
    "df_sf['And_More_Contributions__c'] = temp_df['And_More_Contributions__c'].apply(lambda x: int(x))\n",
    "df_sf['contributed_tool_usage__c'] = temp_df['tool_users'].apply(lambda x: int(x))\n",
    "df_sf['contributed_andmore_usage__c'] = temp_df['andmore_users'].apply(lambda x: int(x))\n",
    "df_sf['contributor__c'] = temp_df['contributor__c']\n",
    "\n",
    "df_sf['wiki_contributions__c'] = temp_df['wiki_contributions__c']\n",
    "df_sf['wiki_usage__c'] = temp_df['wiki_usage__c']\n",
    "df_sf['paper_contributions__c'] = temp_df['paper_contributions__c']\n",
    "df_sf['presentations_contributions__c'] = temp_df['presentations_contributions__c']\n",
    "\n",
    "display(df_sf.head(2))"
   ]
  },
  {
   "cell_type": "markdown",
   "id": "61ee8318",
   "metadata": {
    "papermill": {
     "duration": null,
     "end_time": null,
     "exception": null,
     "start_time": null,
     "status": "pending"
    },
    "tags": []
   },
   "source": [
    "## send data to SF"
   ]
  },
  {
   "cell_type": "code",
   "execution_count": null,
   "id": "c2ba56a4",
   "metadata": {
    "jupyter": {
     "source_hidden": true
    },
    "papermill": {
     "duration": null,
     "end_time": null,
     "exception": null,
     "start_time": null,
     "status": "pending"
    },
    "tags": []
   },
   "outputs": [],
   "source": [
    "# create DB2 to Salesforce API object\n",
    "db_s = salesforce\n",
    "\n",
    "# specify Salesforce object ID and external ID\n",
    "db_s.object_id = 'Contact'\n",
    "db_s.external_id = 'nanoHUB_user_ID__c'"
   ]
  },
  {
   "cell_type": "code",
   "execution_count": null,
   "id": "34ee6747",
   "metadata": {
    "jupyter": {
     "source_hidden": true
    },
    "papermill": {
     "duration": null,
     "end_time": null,
     "exception": null,
     "start_time": null,
     "status": "pending"
    },
    "tags": []
   },
   "outputs": [],
   "source": [
    "# send data to Salesforce\n",
    "db_s.send_data(df_sf)"
   ]
  },
  {
   "cell_type": "code",
   "execution_count": null,
   "id": "40b0bc79",
   "metadata": {
    "jupyter": {
     "source_hidden": true
    },
    "papermill": {
     "duration": null,
     "end_time": null,
     "exception": null,
     "start_time": null,
     "status": "pending"
    },
    "scrolled": true,
    "tags": []
   },
   "outputs": [],
   "source": [
    "# check status\n",
    "from pprint import pprint\n",
    "\n",
    "pprint(db_s.check_bulk_status())"
   ]
  },
  {
   "cell_type": "code",
   "execution_count": null,
   "id": "83e22266",
   "metadata": {
    "jupyter": {
     "source_hidden": true
    },
    "papermill": {
     "duration": null,
     "end_time": null,
     "exception": null,
     "start_time": null,
     "status": "pending"
    },
    "tags": []
   },
   "outputs": [],
   "source": [
    "pprint(db_s.check_bulk_failed_results())"
   ]
  },
  {
   "cell_type": "code",
   "execution_count": null,
   "id": "4ba9ab73",
   "metadata": {
    "jupyter": {
     "source_hidden": true
    },
    "papermill": {
     "duration": null,
     "end_time": null,
     "exception": null,
     "start_time": null,
     "status": "pending"
    },
    "tags": []
   },
   "outputs": [],
   "source": []
  }
 ],
 "metadata": {
  "kernelspec": {
   "display_name": "Python 3",
   "language": "python",
   "name": "python3"
  },
  "language_info": {
   "codemirror_mode": {
    "name": "ipython",
    "version": 3
   },
   "file_extension": ".py",
   "mimetype": "text/x-python",
   "name": "python",
   "nbconvert_exporter": "python",
   "pygments_lexer": "ipython3",
   "version": "3.9.7"
  },
  "papermill": {
   "default_parameters": {},
   "duration": 46.196342,
   "end_time": "2021-10-27T18:20:39.295610",
   "environment_variables": {},
   "exception": true,
   "input_path": "/Users/saxenap/Documents/Dev/nanoHUB/nanoHUB/pipeline/salesforce/task_user_contribution_update.ipynb",
   "output_path": "./.output/task_user_contribution_update.ipynb",
   "parameters": {},
   "start_time": "2021-10-27T18:19:53.099268",
   "version": "2.3.3"
  }
 },
 "nbformat": 4,
 "nbformat_minor": 5
}