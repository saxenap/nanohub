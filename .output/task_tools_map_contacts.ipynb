{
 "cells": [
  {
   "cell_type": "markdown",
   "id": "0d940c8e",
   "metadata": {
    "papermill": {
     "duration": 0.103671,
     "end_time": "2021-08-26T04:20:41.856215",
     "exception": false,
     "start_time": "2021-08-26T04:20:41.752544",
     "status": "completed"
    },
    "tags": []
   },
   "source": [
    "# DB2-Salesforce connector: Tools mapping to users"
   ]
  },
  {
   "cell_type": "code",
   "execution_count": 1,
   "id": "09a3dca7",
   "metadata": {
    "execution": {
     "iopub.execute_input": "2021-08-26T04:20:42.102150Z",
     "iopub.status.busy": "2021-08-26T04:20:42.099667Z",
     "iopub.status.idle": "2021-08-26T04:20:45.015985Z",
     "shell.execute_reply": "2021-08-26T04:20:45.016522Z"
    },
    "jupyter": {
     "source_hidden": true
    },
    "papermill": {
     "duration": 3.063601,
     "end_time": "2021-08-26T04:20:45.016818",
     "exception": false,
     "start_time": "2021-08-26T04:20:41.953217",
     "status": "completed"
    },
    "tags": [
     "parameters"
    ]
   },
   "outputs": [
    {
     "name": "stdout",
     "output_type": "stream",
     "text": [
      "\u001b[1mnanoHUB - Serving Students, Researchers & Instructors\u001b[0m\n"
     ]
    },
    {
     "name": "stderr",
     "output_type": "stream",
     "text": [
      "2021-08-26 00:20:43,987| INFO    | 0 keys loaded from agent\n"
     ]
    },
    {
     "name": "stdout",
     "output_type": "stream",
     "text": [
      "2021-08-26 00:20:43,987 - [INFO] sshtunnel.SSHTunnelForwarder [sshtunnel.get_agent_keys:1060]: 0 keys loaded from agent\n"
     ]
    },
    {
     "name": "stderr",
     "output_type": "stream",
     "text": [
      "2021-08-26 00:20:43,990| INFO    | 0 key(s) loaded\n"
     ]
    },
    {
     "name": "stdout",
     "output_type": "stream",
     "text": [
      "2021-08-26 00:20:43,990 - [INFO] sshtunnel.SSHTunnelForwarder [sshtunnel.get_keys:1117]: 0 key(s) loaded\n"
     ]
    },
    {
     "name": "stderr",
     "output_type": "stream",
     "text": [
      "2021-08-26 00:20:43,993| INFO    | Connecting to gateway: db2.nanohub.org:22 as user 'saxenap'\n"
     ]
    },
    {
     "name": "stdout",
     "output_type": "stream",
     "text": [
      "2021-08-26 00:20:43,993 - [INFO] sshtunnel.SSHTunnelForwarder [sshtunnel.__init__:978]: Connecting to gateway: db2.nanohub.org:22 as user 'saxenap'\n"
     ]
    },
    {
     "name": "stdout",
     "output_type": "stream",
     "text": [
      "2021-08-26 00:20:43,995 - [\u001b[1mINFO\u001b[0m] \u001b[1mnanoHUB.containers.dataaccess\u001b[0m [connection.get_connection_for:101]: Started SSH Tunnel with db2.nanohub.org\n"
     ]
    },
    {
     "name": "stderr",
     "output_type": "stream",
     "text": [
      "2021-08-26 00:20:44,293| INFO    | Opening tunnel: 0.0.0.0:53499 <> 127.0.0.1:3306\n"
     ]
    },
    {
     "name": "stdout",
     "output_type": "stream",
     "text": [
      "2021-08-26 00:20:44,293 - [INFO] sshtunnel.SSHTunnelForwarder [sshtunnel._serve_forever_wrapper:1433]: Opening tunnel: 0.0.0.0:53499 <> 127.0.0.1:3306\n"
     ]
    },
    {
     "name": "stderr",
     "output_type": "stream",
     "text": [
      "2021-08-26 00:20:44,330| INFO    | 0 keys loaded from agent\n"
     ]
    },
    {
     "name": "stdout",
     "output_type": "stream",
     "text": [
      "2021-08-26 00:20:44,330 - [INFO] sshtunnel.SSHTunnelForwarder [sshtunnel.get_agent_keys:1060]: 0 keys loaded from agent\n"
     ]
    },
    {
     "name": "stderr",
     "output_type": "stream",
     "text": [
      "2021-08-26 00:20:44,333| INFO    | 0 key(s) loaded\n"
     ]
    },
    {
     "name": "stdout",
     "output_type": "stream",
     "text": [
      "2021-08-26 00:20:44,333 - [INFO] sshtunnel.SSHTunnelForwarder [sshtunnel.get_keys:1117]: 0 key(s) loaded\n"
     ]
    },
    {
     "name": "stderr",
     "output_type": "stream",
     "text": [
      "2021-08-26 00:20:44,337| INFO    | Connecting to gateway: db2.nanohub.org:22 as user 'saxenap'\n"
     ]
    },
    {
     "name": "stdout",
     "output_type": "stream",
     "text": [
      "2021-08-26 00:20:44,337 - [INFO] sshtunnel.SSHTunnelForwarder [sshtunnel.__init__:978]: Connecting to gateway: db2.nanohub.org:22 as user 'saxenap'\n"
     ]
    },
    {
     "name": "stdout",
     "output_type": "stream",
     "text": [
      "2021-08-26 00:20:44,340 - [\u001b[1mINFO\u001b[0m] \u001b[1mnanoHUB.containers.dataaccess\u001b[0m [connection.get_connection_for:101]: Started SSH Tunnel with db2.nanohub.org\n"
     ]
    },
    {
     "name": "stderr",
     "output_type": "stream",
     "text": [
      "2021-08-26 00:20:44,639| INFO    | Opening tunnel: 0.0.0.0:53502 <> 127.0.0.1:3306\n"
     ]
    },
    {
     "name": "stdout",
     "output_type": "stream",
     "text": [
      "2021-08-26 00:20:44,639 - [INFO] sshtunnel.SSHTunnelForwarder [sshtunnel._serve_forever_wrapper:1433]: Opening tunnel: 0.0.0.0:53502 <> 127.0.0.1:3306\n"
     ]
    },
    {
     "name": "stdout",
     "output_type": "stream",
     "text": [
      "Obtained Salesforce access token ...... True\n"
     ]
    }
   ],
   "source": [
    "# API settings\n",
    "api_url = '/services/data/v43.0/sobjects'\n",
    "external_id = 'Name'\n",
    "object_id = 'ContactToolAssociation__c'\n",
    "\n",
    "from nanoHUB.application import Application\n",
    "\n",
    "application = Application.get_instance()\n",
    "nanohub_db = application.new_db_engine('nanohub')\n",
    "nanohub_metrics_db = application.new_db_engine('nanohub_metrics')\n",
    "\n",
    "\n",
    "salesforce = application.new_salesforce_engine()\n",
    "db_s = salesforce"
   ]
  },
  {
   "cell_type": "code",
   "execution_count": 2,
   "id": "c7a525ed",
   "metadata": {
    "execution": {
     "iopub.execute_input": "2021-08-26T04:20:45.175528Z",
     "iopub.status.busy": "2021-08-26T04:20:45.174460Z",
     "iopub.status.idle": "2021-08-26T04:20:45.176771Z",
     "shell.execute_reply": "2021-08-26T04:20:45.177248Z"
    },
    "jupyter": {
     "source_hidden": true
    },
    "papermill": {
     "duration": 0.08505,
     "end_time": "2021-08-26T04:20:45.177455",
     "exception": false,
     "start_time": "2021-08-26T04:20:45.092405",
     "status": "completed"
    },
    "tags": []
   },
   "outputs": [],
   "source": [
    "import pandas as pd\n",
    "import time\n",
    "import datetime"
   ]
  },
  {
   "cell_type": "markdown",
   "id": "f8cd346a",
   "metadata": {
    "papermill": {
     "duration": 0.074825,
     "end_time": "2021-08-26T04:20:45.329242",
     "exception": false,
     "start_time": "2021-08-26T04:20:45.254417",
     "status": "completed"
    },
    "tags": []
   },
   "source": [
    "## Obtain tool information from DB2 "
   ]
  },
  {
   "cell_type": "code",
   "execution_count": 3,
   "id": "5ad7f903",
   "metadata": {
    "execution": {
     "iopub.execute_input": "2021-08-26T04:20:45.504315Z",
     "iopub.status.busy": "2021-08-26T04:20:45.503163Z",
     "iopub.status.idle": "2021-08-26T04:26:41.280889Z",
     "shell.execute_reply": "2021-08-26T04:26:41.291081Z"
    },
    "jupyter": {
     "source_hidden": true
    },
    "papermill": {
     "duration": 355.887987,
     "end_time": "2021-08-26T04:26:41.296792",
     "exception": false,
     "start_time": "2021-08-26T04:20:45.408805",
     "status": "completed"
    },
    "tags": []
   },
   "outputs": [],
   "source": [
    "# connect with DB2\n",
    "\n",
    "# toolstart\n",
    "sql_query = \"select user, tool as instance from nanohub_metrics.toolstart\"\n",
    "\n",
    "toolstart_df = pd.read_sql_query(sql_query, nanohub_metrics_db)\n",
    "\n",
    "# tool_version\n",
    "sql_query = \"select toolname, instance from nanohub.jos_tool_version\"\n",
    "\n",
    "tool_version_df = pd.read_sql_query(sql_query, nanohub_db)"
   ]
  },
  {
   "cell_type": "code",
   "execution_count": 4,
   "id": "aabc66ee",
   "metadata": {
    "execution": {
     "iopub.execute_input": "2021-08-26T04:26:41.481639Z",
     "iopub.status.busy": "2021-08-26T04:26:41.480901Z",
     "iopub.status.idle": "2021-08-26T04:26:49.275281Z",
     "shell.execute_reply": "2021-08-26T04:26:49.274626Z"
    },
    "jupyter": {
     "source_hidden": true
    },
    "papermill": {
     "duration": 7.865145,
     "end_time": "2021-08-26T04:26:49.275509",
     "exception": false,
     "start_time": "2021-08-26T04:26:41.410364",
     "status": "completed"
    },
    "tags": []
   },
   "outputs": [
    {
     "data": {
      "text/html": [
       "<div>\n",
       "<style scoped>\n",
       "    .dataframe tbody tr th:only-of-type {\n",
       "        vertical-align: middle;\n",
       "    }\n",
       "\n",
       "    .dataframe tbody tr th {\n",
       "        vertical-align: top;\n",
       "    }\n",
       "\n",
       "    .dataframe thead th {\n",
       "        text-align: right;\n",
       "    }\n",
       "</style>\n",
       "<table border=\"1\" class=\"dataframe\">\n",
       "  <thead>\n",
       "    <tr style=\"text-align: right;\">\n",
       "      <th></th>\n",
       "      <th>user</th>\n",
       "      <th>instance</th>\n",
       "    </tr>\n",
       "  </thead>\n",
       "  <tbody>\n",
       "    <tr>\n",
       "      <th>0</th>\n",
       "      <td>herre</td>\n",
       "      <td>cnt-iv</td>\n",
       "    </tr>\n",
       "    <tr>\n",
       "      <th>1</th>\n",
       "      <td>donovan</td>\n",
       "      <td>huckel-iv</td>\n",
       "    </tr>\n",
       "  </tbody>\n",
       "</table>\n",
       "</div>"
      ],
      "text/plain": [
       "      user   instance\n",
       "0    herre     cnt-iv\n",
       "1  donovan  huckel-iv"
      ]
     },
     "metadata": {},
     "output_type": "display_data"
    },
    {
     "data": {
      "text/html": [
       "<div>\n",
       "<style scoped>\n",
       "    .dataframe tbody tr th:only-of-type {\n",
       "        vertical-align: middle;\n",
       "    }\n",
       "\n",
       "    .dataframe tbody tr th {\n",
       "        vertical-align: top;\n",
       "    }\n",
       "\n",
       "    .dataframe thead th {\n",
       "        text-align: right;\n",
       "    }\n",
       "</style>\n",
       "<table border=\"1\" class=\"dataframe\">\n",
       "  <thead>\n",
       "    <tr style=\"text-align: right;\">\n",
       "      <th></th>\n",
       "      <th>toolname</th>\n",
       "      <th>instance</th>\n",
       "    </tr>\n",
       "  </thead>\n",
       "  <tbody>\n",
       "    <tr>\n",
       "      <th>0</th>\n",
       "      <td></td>\n",
       "      <td></td>\n",
       "    </tr>\n",
       "    <tr>\n",
       "      <th>1</th>\n",
       "      <td>112016a</td>\n",
       "      <td>112016a_dev</td>\n",
       "    </tr>\n",
       "  </tbody>\n",
       "</table>\n",
       "</div>"
      ],
      "text/plain": [
       "  toolname     instance\n",
       "0                      \n",
       "1  112016a  112016a_dev"
      ]
     },
     "metadata": {},
     "output_type": "display_data"
    }
   ],
   "source": [
    "# convert all to lower case\n",
    "toolstart_df['user'] = toolstart_df['user'].apply(str.lower)\n",
    "toolstart_df['instance'] = toolstart_df['instance'].apply(str.lower)\n",
    "\n",
    "tool_version_df['toolname'] = tool_version_df['toolname'].apply(str.lower)\n",
    "tool_version_df['instance'] = tool_version_df['instance'].apply(str.lower)\n",
    "\n",
    "# display\n",
    "\n",
    "display(toolstart_df.head(2))\n",
    "display(tool_version_df.head(2))"
   ]
  },
  {
   "cell_type": "code",
   "execution_count": 5,
   "id": "2bf6056c",
   "metadata": {
    "execution": {
     "iopub.execute_input": "2021-08-26T04:26:49.397120Z",
     "iopub.status.busy": "2021-08-26T04:26:49.390882Z",
     "iopub.status.idle": "2021-08-26T04:26:49.409071Z",
     "shell.execute_reply": "2021-08-26T04:26:49.409705Z"
    },
    "jupyter": {
     "source_hidden": true
    },
    "papermill": {
     "duration": 0.078042,
     "end_time": "2021-08-26T04:26:49.409903",
     "exception": false,
     "start_time": "2021-08-26T04:26:49.331861",
     "status": "completed"
    },
    "tags": []
   },
   "outputs": [
    {
     "data": {
      "text/html": [
       "<div>\n",
       "<style scoped>\n",
       "    .dataframe tbody tr th:only-of-type {\n",
       "        vertical-align: middle;\n",
       "    }\n",
       "\n",
       "    .dataframe tbody tr th {\n",
       "        vertical-align: top;\n",
       "    }\n",
       "\n",
       "    .dataframe thead th {\n",
       "        text-align: right;\n",
       "    }\n",
       "</style>\n",
       "<table border=\"1\" class=\"dataframe\">\n",
       "  <thead>\n",
       "    <tr style=\"text-align: right;\">\n",
       "      <th></th>\n",
       "      <th>toolname</th>\n",
       "      <th>instance</th>\n",
       "    </tr>\n",
       "  </thead>\n",
       "  <tbody>\n",
       "    <tr>\n",
       "      <th>0</th>\n",
       "      <td></td>\n",
       "      <td></td>\n",
       "    </tr>\n",
       "    <tr>\n",
       "      <th>1</th>\n",
       "      <td>112016a</td>\n",
       "      <td>112016a</td>\n",
       "    </tr>\n",
       "    <tr>\n",
       "      <th>2</th>\n",
       "      <td>1dbtetransient</td>\n",
       "      <td>1dbtetransient</td>\n",
       "    </tr>\n",
       "  </tbody>\n",
       "</table>\n",
       "</div>"
      ],
      "text/plain": [
       "         toolname        instance\n",
       "0                                \n",
       "1         112016a         112016a\n",
       "2  1dbtetransient  1dbtetransient"
      ]
     },
     "execution_count": 5,
     "metadata": {},
     "output_type": "execute_result"
    }
   ],
   "source": [
    "# insert the toolname into instance as well\n",
    "dummy = pd.DataFrame()\n",
    "dummy['toolname'] = tool_version_df['toolname'].drop_duplicates()\n",
    "dummy['instance'] = dummy['toolname']\n",
    "\n",
    "tool_version_df = pd.concat([dummy, tool_version_df], axis=0).drop_duplicates().reset_index(drop=True)\n",
    "\n",
    "# display\n",
    "tool_version_df.head(3)"
   ]
  },
  {
   "cell_type": "code",
   "execution_count": 6,
   "id": "aada3097",
   "metadata": {
    "execution": {
     "iopub.execute_input": "2021-08-26T04:26:51.496223Z",
     "iopub.status.busy": "2021-08-26T04:26:51.495207Z",
     "iopub.status.idle": "2021-08-26T04:26:57.627469Z",
     "shell.execute_reply": "2021-08-26T04:26:57.628271Z"
    },
    "jupyter": {
     "source_hidden": true
    },
    "papermill": {
     "duration": 8.160109,
     "end_time": "2021-08-26T04:26:57.628575",
     "exception": false,
     "start_time": "2021-08-26T04:26:49.468466",
     "status": "completed"
    },
    "tags": []
   },
   "outputs": [],
   "source": [
    "# merge toolname into toolstart\n",
    "df = pd.merge(toolstart_df, tool_version_df, how='left', left_on='instance', right_on='instance')[['user', 'toolname']]"
   ]
  },
  {
   "cell_type": "code",
   "execution_count": 7,
   "id": "794aa57b",
   "metadata": {
    "execution": {
     "iopub.execute_input": "2021-08-26T04:26:58.323724Z",
     "iopub.status.busy": "2021-08-26T04:26:58.321935Z",
     "iopub.status.idle": "2021-08-26T04:27:03.583769Z",
     "shell.execute_reply": "2021-08-26T04:27:03.584257Z"
    },
    "jupyter": {
     "source_hidden": true
    },
    "papermill": {
     "duration": 5.88704,
     "end_time": "2021-08-26T04:27:03.584577",
     "exception": false,
     "start_time": "2021-08-26T04:26:57.697537",
     "status": "completed"
    },
    "tags": []
   },
   "outputs": [],
   "source": [
    "# count number of tool runs by each user, each tool\n",
    "df = df.groupby(['user', 'toolname'])['toolname'].count().to_frame(name='cnt').reset_index()"
   ]
  },
  {
   "cell_type": "code",
   "execution_count": 8,
   "id": "37c1cb3f",
   "metadata": {
    "execution": {
     "iopub.execute_input": "2021-08-26T04:27:03.758157Z",
     "iopub.status.busy": "2021-08-26T04:27:03.757169Z",
     "iopub.status.idle": "2021-08-26T04:27:03.879303Z",
     "shell.execute_reply": "2021-08-26T04:27:03.879723Z"
    },
    "jupyter": {
     "source_hidden": true
    },
    "papermill": {
     "duration": 0.228342,
     "end_time": "2021-08-26T04:27:03.879893",
     "exception": false,
     "start_time": "2021-08-26T04:27:03.651551",
     "status": "completed"
    },
    "tags": []
   },
   "outputs": [
    {
     "data": {
      "text/html": [
       "<div>\n",
       "<style scoped>\n",
       "    .dataframe tbody tr th:only-of-type {\n",
       "        vertical-align: middle;\n",
       "    }\n",
       "\n",
       "    .dataframe tbody tr th {\n",
       "        vertical-align: top;\n",
       "    }\n",
       "\n",
       "    .dataframe thead th {\n",
       "        text-align: right;\n",
       "    }\n",
       "</style>\n",
       "<table border=\"1\" class=\"dataframe\">\n",
       "  <thead>\n",
       "    <tr style=\"text-align: right;\">\n",
       "      <th></th>\n",
       "      <th>user</th>\n",
       "      <th>toolname</th>\n",
       "      <th>cnt</th>\n",
       "    </tr>\n",
       "  </thead>\n",
       "  <tbody>\n",
       "    <tr>\n",
       "      <th>0</th>\n",
       "      <td></td>\n",
       "      <td></td>\n",
       "      <td>885</td>\n",
       "    </tr>\n",
       "    <tr>\n",
       "      <th>1</th>\n",
       "      <td>0.yao.yuan</td>\n",
       "      <td>mosfet</td>\n",
       "      <td>11</td>\n",
       "    </tr>\n",
       "    <tr>\n",
       "      <th>2</th>\n",
       "      <td>0.yao.yuan</td>\n",
       "      <td>mosfetsat</td>\n",
       "      <td>4</td>\n",
       "    </tr>\n",
       "  </tbody>\n",
       "</table>\n",
       "</div>"
      ],
      "text/plain": [
       "         user   toolname  cnt\n",
       "0                         885\n",
       "1  0.yao.yuan     mosfet   11\n",
       "2  0.yao.yuan  mosfetsat    4"
      ]
     },
     "execution_count": 8,
     "metadata": {},
     "output_type": "execute_result"
    }
   ],
   "source": [
    "# just in case some NaN values made through\n",
    "df = df[~df.user.isna()]\n",
    "df = df[~df.toolname.isna()]\n",
    "\n",
    "# display\n",
    "df.head(3)"
   ]
  },
  {
   "cell_type": "markdown",
   "id": "72965960",
   "metadata": {
    "papermill": {
     "duration": 0.068905,
     "end_time": "2021-08-26T04:27:04.009088",
     "exception": false,
     "start_time": "2021-08-26T04:27:03.940183",
     "status": "completed"
    },
    "tags": []
   },
   "source": [
    "## Obtain Salesforce IDs"
   ]
  },
  {
   "cell_type": "code",
   "execution_count": 9,
   "id": "61315a21",
   "metadata": {
    "execution": {
     "iopub.execute_input": "2021-08-26T04:27:04.129065Z",
     "iopub.status.busy": "2021-08-26T04:27:04.128305Z",
     "iopub.status.idle": "2021-08-26T04:27:04.130244Z",
     "shell.execute_reply": "2021-08-26T04:27:04.130774Z"
    },
    "jupyter": {
     "source_hidden": true
    },
    "papermill": {
     "duration": 0.064639,
     "end_time": "2021-08-26T04:27:04.131019",
     "exception": false,
     "start_time": "2021-08-26T04:27:04.066380",
     "status": "completed"
    },
    "tags": []
   },
   "outputs": [],
   "source": [
    "# create DB2 to Salesforce API object"
   ]
  },
  {
   "cell_type": "code",
   "execution_count": 10,
   "id": "af4def99",
   "metadata": {
    "execution": {
     "iopub.execute_input": "2021-08-26T04:27:04.249749Z",
     "iopub.status.busy": "2021-08-26T04:27:04.248578Z",
     "iopub.status.idle": "2021-08-26T04:28:25.993550Z",
     "shell.execute_reply": "2021-08-26T04:28:25.993970Z"
    },
    "jupyter": {
     "source_hidden": true
    },
    "papermill": {
     "duration": 81.808527,
     "end_time": "2021-08-26T04:28:25.994181",
     "exception": false,
     "start_time": "2021-08-26T04:27:04.185654",
     "status": "completed"
    },
    "tags": []
   },
   "outputs": [
    {
     "name": "stdout",
     "output_type": "stream",
     "text": [
      "[Success] Bulk job creation successful. Job ID = 7505w00000ZJL0UAAX\n"
     ]
    },
    {
     "name": "stdout",
     "output_type": "stream",
     "text": [
      "{\"id\":\"7505w00000ZJL0UAAX\",\"operation\":\"query\",\"object\":\"Contact\",\"createdById\":\"0055w00000DM5bOAAT\",\"createdDate\":\"2021-08-26T04:27:04.000+0000\",\"systemModstamp\":\"2021-08-26T04:27:04.000+0000\",\"state\":\"UploadComplete\",\"concurrencyMode\":\"Parallel\",\"contentType\":\"CSV\",\"apiVersion\":47.0,\"jobType\":\"V2Query\",\"lineEnding\":\"LF\",\"columnDelimiter\":\"COMMA\",\"retries\":0,\"totalProcessingTime\":0}\n"
     ]
    },
    {
     "name": "stdout",
     "output_type": "stream",
     "text": [
      "{\"id\":\"7505w00000ZJL0UAAX\",\"operation\":\"query\",\"object\":\"Contact\",\"createdById\":\"0055w00000DM5bOAAT\",\"createdDate\":\"2021-08-26T04:27:04.000+0000\",\"systemModstamp\":\"2021-08-26T04:27:08.000+0000\",\"state\":\"InProgress\",\"concurrencyMode\":\"Parallel\",\"contentType\":\"CSV\",\"apiVersion\":47.0,\"jobType\":\"V2Query\",\"lineEnding\":\"LF\",\"columnDelimiter\":\"COMMA\",\"numberRecordsProcessed\":0,\"retries\":0,\"totalProcessingTime\":0}\n"
     ]
    },
    {
     "name": "stdout",
     "output_type": "stream",
     "text": [
      "{\"id\":\"7505w00000ZJL0UAAX\",\"operation\":\"query\",\"object\":\"Contact\",\"createdById\":\"0055w00000DM5bOAAT\",\"createdDate\":\"2021-08-26T04:27:04.000+0000\",\"systemModstamp\":\"2021-08-26T04:27:08.000+0000\",\"state\":\"InProgress\",\"concurrencyMode\":\"Parallel\",\"contentType\":\"CSV\",\"apiVersion\":47.0,\"jobType\":\"V2Query\",\"lineEnding\":\"LF\",\"columnDelimiter\":\"COMMA\",\"numberRecordsProcessed\":1303,\"retries\":0,\"totalProcessingTime\":247}\n"
     ]
    },
    {
     "name": "stdout",
     "output_type": "stream",
     "text": [
      "{\"id\":\"7505w00000ZJL0UAAX\",\"operation\":\"query\",\"object\":\"Contact\",\"createdById\":\"0055w00000DM5bOAAT\",\"createdDate\":\"2021-08-26T04:27:04.000+0000\",\"systemModstamp\":\"2021-08-26T04:27:08.000+0000\",\"state\":\"InProgress\",\"concurrencyMode\":\"Parallel\",\"contentType\":\"CSV\",\"apiVersion\":47.0,\"jobType\":\"V2Query\",\"lineEnding\":\"LF\",\"columnDelimiter\":\"COMMA\",\"numberRecordsProcessed\":1303,\"retries\":0,\"totalProcessingTime\":247}\n"
     ]
    },
    {
     "name": "stdout",
     "output_type": "stream",
     "text": [
      "{\"id\":\"7505w00000ZJL0UAAX\",\"operation\":\"query\",\"object\":\"Contact\",\"createdById\":\"0055w00000DM5bOAAT\",\"createdDate\":\"2021-08-26T04:27:04.000+0000\",\"systemModstamp\":\"2021-08-26T04:27:08.000+0000\",\"state\":\"InProgress\",\"concurrencyMode\":\"Parallel\",\"contentType\":\"CSV\",\"apiVersion\":47.0,\"jobType\":\"V2Query\",\"lineEnding\":\"LF\",\"columnDelimiter\":\"COMMA\",\"numberRecordsProcessed\":1303,\"retries\":0,\"totalProcessingTime\":247}\n"
     ]
    },
    {
     "name": "stdout",
     "output_type": "stream",
     "text": [
      "{\"id\":\"7505w00000ZJL0UAAX\",\"operation\":\"query\",\"object\":\"Contact\",\"createdById\":\"0055w00000DM5bOAAT\",\"createdDate\":\"2021-08-26T04:27:04.000+0000\",\"systemModstamp\":\"2021-08-26T04:27:08.000+0000\",\"state\":\"InProgress\",\"concurrencyMode\":\"Parallel\",\"contentType\":\"CSV\",\"apiVersion\":47.0,\"jobType\":\"V2Query\",\"lineEnding\":\"LF\",\"columnDelimiter\":\"COMMA\",\"numberRecordsProcessed\":1303,\"retries\":0,\"totalProcessingTime\":247}\n"
     ]
    },
    {
     "name": "stdout",
     "output_type": "stream",
     "text": [
      "{\"id\":\"7505w00000ZJL0UAAX\",\"operation\":\"query\",\"object\":\"Contact\",\"createdById\":\"0055w00000DM5bOAAT\",\"createdDate\":\"2021-08-26T04:27:04.000+0000\",\"systemModstamp\":\"2021-08-26T04:27:08.000+0000\",\"state\":\"InProgress\",\"concurrencyMode\":\"Parallel\",\"contentType\":\"CSV\",\"apiVersion\":47.0,\"jobType\":\"V2Query\",\"lineEnding\":\"LF\",\"columnDelimiter\":\"COMMA\",\"numberRecordsProcessed\":1303,\"retries\":0,\"totalProcessingTime\":247}\n"
     ]
    },
    {
     "name": "stdout",
     "output_type": "stream",
     "text": [
      "{\"id\":\"7505w00000ZJL0UAAX\",\"operation\":\"query\",\"object\":\"Contact\",\"createdById\":\"0055w00000DM5bOAAT\",\"createdDate\":\"2021-08-26T04:27:04.000+0000\",\"systemModstamp\":\"2021-08-26T04:28:15.000+0000\",\"state\":\"JobComplete\",\"concurrencyMode\":\"Parallel\",\"contentType\":\"CSV\",\"apiVersion\":47.0,\"jobType\":\"V2Query\",\"lineEnding\":\"LF\",\"columnDelimiter\":\"COMMA\",\"numberRecordsProcessed\":246959,\"retries\":0,\"totalProcessingTime\":11242}\n",
      "[Success] Bulk job completed successfully.\n"
     ]
    },
    {
     "data": {
      "text/html": [
       "<div>\n",
       "<style scoped>\n",
       "    .dataframe tbody tr th:only-of-type {\n",
       "        vertical-align: middle;\n",
       "    }\n",
       "\n",
       "    .dataframe tbody tr th {\n",
       "        vertical-align: top;\n",
       "    }\n",
       "\n",
       "    .dataframe thead th {\n",
       "        text-align: right;\n",
       "    }\n",
       "</style>\n",
       "<table border=\"1\" class=\"dataframe\">\n",
       "  <thead>\n",
       "    <tr style=\"text-align: right;\">\n",
       "      <th></th>\n",
       "      <th>Id</th>\n",
       "      <th>nanoHUB_username__c</th>\n",
       "    </tr>\n",
       "  </thead>\n",
       "  <tbody>\n",
       "    <tr>\n",
       "      <th>0</th>\n",
       "      <td>0035w000031Vsp1AAC</td>\n",
       "      <td>hubrepo</td>\n",
       "    </tr>\n",
       "    <tr>\n",
       "      <th>1</th>\n",
       "      <td>0035w000031Vsp2AAC</td>\n",
       "      <td>support</td>\n",
       "    </tr>\n",
       "    <tr>\n",
       "      <th>2</th>\n",
       "      <td>0035w000031Vsp3AAC</td>\n",
       "      <td>gridstat</td>\n",
       "    </tr>\n",
       "  </tbody>\n",
       "</table>\n",
       "</div>"
      ],
      "text/plain": [
       "                   Id nanoHUB_username__c\n",
       "0  0035w000031Vsp1AAC             hubrepo\n",
       "1  0035w000031Vsp2AAC             support\n",
       "2  0035w000031Vsp3AAC            gridstat"
      ]
     },
     "execution_count": 10,
     "metadata": {},
     "output_type": "execute_result"
    }
   ],
   "source": [
    "# query the Salesforce IDs for contacts and citations. when updating junction objects, these IDs must be used\n",
    "\n",
    "# get Salesforce ID for contacts\n",
    "sf_username_df = db_s.query_data('SELECT Id, nanoHUB_username__c FROM Contact where nanoHUB_username__c != NULL')\n",
    "\n",
    "# display\n",
    "sf_username_df.head(3)"
   ]
  },
  {
   "cell_type": "code",
   "execution_count": 11,
   "id": "9ae41c34",
   "metadata": {
    "execution": {
     "iopub.execute_input": "2021-08-26T04:28:26.132013Z",
     "iopub.status.busy": "2021-08-26T04:28:26.131240Z",
     "iopub.status.idle": "2021-08-26T04:28:48.110926Z",
     "shell.execute_reply": "2021-08-26T04:28:48.111608Z"
    },
    "jupyter": {
     "source_hidden": true
    },
    "papermill": {
     "duration": 22.054378,
     "end_time": "2021-08-26T04:28:48.111896",
     "exception": false,
     "start_time": "2021-08-26T04:28:26.057518",
     "status": "completed"
    },
    "tags": []
   },
   "outputs": [
    {
     "name": "stdout",
     "output_type": "stream",
     "text": [
      "[Success] Bulk job creation successful. Job ID = 7505w00000ZJL0ZAAX\n"
     ]
    },
    {
     "name": "stdout",
     "output_type": "stream",
     "text": [
      "{\"id\":\"7505w00000ZJL0ZAAX\",\"operation\":\"query\",\"object\":\"nanoHUB_tools__c\",\"createdById\":\"0055w00000DM5bOAAT\",\"createdDate\":\"2021-08-26T04:28:26.000+0000\",\"systemModstamp\":\"2021-08-26T04:28:26.000+0000\",\"state\":\"UploadComplete\",\"concurrencyMode\":\"Parallel\",\"contentType\":\"CSV\",\"apiVersion\":47.0,\"jobType\":\"V2Query\",\"lineEnding\":\"LF\",\"columnDelimiter\":\"COMMA\",\"retries\":0,\"totalProcessingTime\":0}\n"
     ]
    },
    {
     "name": "stdout",
     "output_type": "stream",
     "text": [
      "{\"id\":\"7505w00000ZJL0ZAAX\",\"operation\":\"query\",\"object\":\"nanoHUB_tools__c\",\"createdById\":\"0055w00000DM5bOAAT\",\"createdDate\":\"2021-08-26T04:28:26.000+0000\",\"systemModstamp\":\"2021-08-26T04:28:35.000+0000\",\"state\":\"InProgress\",\"concurrencyMode\":\"Parallel\",\"contentType\":\"CSV\",\"apiVersion\":47.0,\"jobType\":\"V2Query\",\"lineEnding\":\"LF\",\"columnDelimiter\":\"COMMA\",\"numberRecordsProcessed\":0,\"retries\":0,\"totalProcessingTime\":0}\n"
     ]
    },
    {
     "name": "stdout",
     "output_type": "stream",
     "text": [
      "{\"id\":\"7505w00000ZJL0ZAAX\",\"operation\":\"query\",\"object\":\"nanoHUB_tools__c\",\"createdById\":\"0055w00000DM5bOAAT\",\"createdDate\":\"2021-08-26T04:28:26.000+0000\",\"systemModstamp\":\"2021-08-26T04:28:46.000+0000\",\"state\":\"JobComplete\",\"concurrencyMode\":\"Parallel\",\"contentType\":\"CSV\",\"apiVersion\":47.0,\"jobType\":\"V2Query\",\"lineEnding\":\"LF\",\"columnDelimiter\":\"COMMA\",\"numberRecordsProcessed\":1805,\"retries\":0,\"totalProcessingTime\":238}\n",
      "[Success] Bulk job completed successfully.\n"
     ]
    },
    {
     "data": {
      "text/html": [
       "<div>\n",
       "<style scoped>\n",
       "    .dataframe tbody tr th:only-of-type {\n",
       "        vertical-align: middle;\n",
       "    }\n",
       "\n",
       "    .dataframe tbody tr th {\n",
       "        vertical-align: top;\n",
       "    }\n",
       "\n",
       "    .dataframe thead th {\n",
       "        text-align: right;\n",
       "    }\n",
       "</style>\n",
       "<table border=\"1\" class=\"dataframe\">\n",
       "  <thead>\n",
       "    <tr style=\"text-align: right;\">\n",
       "      <th></th>\n",
       "      <th>Id</th>\n",
       "      <th>Tool_name__c</th>\n",
       "    </tr>\n",
       "  </thead>\n",
       "  <tbody>\n",
       "    <tr>\n",
       "      <th>0</th>\n",
       "      <td>a0s5w00000k5MOwAAM</td>\n",
       "      <td>ellipsom</td>\n",
       "    </tr>\n",
       "    <tr>\n",
       "      <th>1</th>\n",
       "      <td>a0s5w00000k5MOxAAM</td>\n",
       "      <td>hydrolab</td>\n",
       "    </tr>\n",
       "    <tr>\n",
       "      <th>2</th>\n",
       "      <td>a0s5w00000k5MOyAAM</td>\n",
       "      <td>huckel</td>\n",
       "    </tr>\n",
       "  </tbody>\n",
       "</table>\n",
       "</div>"
      ],
      "text/plain": [
       "                   Id Tool_name__c\n",
       "0  a0s5w00000k5MOwAAM     ellipsom\n",
       "1  a0s5w00000k5MOxAAM     hydrolab\n",
       "2  a0s5w00000k5MOyAAM       huckel"
      ]
     },
     "execution_count": 11,
     "metadata": {},
     "output_type": "execute_result"
    }
   ],
   "source": [
    "# get Salesforce ID for citations\n",
    "sf_tool_df = db_s.query_data('SELECT Id, Tool_name__c FROM nanoHUB_tools__c')\n",
    "\n",
    "# display\n",
    "sf_tool_df.head(3)"
   ]
  },
  {
   "cell_type": "markdown",
   "id": "202509ef",
   "metadata": {
    "papermill": {
     "duration": 0.067186,
     "end_time": "2021-08-26T04:28:48.246738",
     "exception": false,
     "start_time": "2021-08-26T04:28:48.179552",
     "status": "completed"
    },
    "tags": []
   },
   "source": [
    "## Match data with Salesforce format"
   ]
  },
  {
   "cell_type": "code",
   "execution_count": 12,
   "id": "80b62e08",
   "metadata": {
    "execution": {
     "iopub.execute_input": "2021-08-26T04:28:48.388520Z",
     "iopub.status.busy": "2021-08-26T04:28:48.387765Z",
     "iopub.status.idle": "2021-08-26T04:28:48.448146Z",
     "shell.execute_reply": "2021-08-26T04:28:48.447359Z"
    },
    "jupyter": {
     "source_hidden": true
    },
    "papermill": {
     "duration": 0.137742,
     "end_time": "2021-08-26T04:28:48.448391",
     "exception": false,
     "start_time": "2021-08-26T04:28:48.310649",
     "status": "completed"
    },
    "tags": []
   },
   "outputs": [],
   "source": [
    "# make sure all strings are lower cases\n",
    "\n",
    "sf_username_df['nanoHUB_username__c'] = sf_username_df['nanoHUB_username__c'].astype('str').apply(str.lower)\n",
    "\n",
    "sf_tool_df['Tool_name__c'] = sf_tool_df['Tool_name__c'].astype('str').apply(str.lower)"
   ]
  },
  {
   "cell_type": "code",
   "execution_count": 13,
   "id": "4fadfd19",
   "metadata": {
    "execution": {
     "iopub.execute_input": "2021-08-26T04:28:48.599808Z",
     "iopub.status.busy": "2021-08-26T04:28:48.598957Z",
     "iopub.status.idle": "2021-08-26T04:28:49.326260Z",
     "shell.execute_reply": "2021-08-26T04:28:49.326642Z"
    },
    "jupyter": {
     "source_hidden": true
    },
    "papermill": {
     "duration": 0.81369,
     "end_time": "2021-08-26T04:28:49.326814",
     "exception": false,
     "start_time": "2021-08-26T04:28:48.513124",
     "status": "completed"
    },
    "tags": []
   },
   "outputs": [
    {
     "data": {
      "text/html": [
       "<div>\n",
       "<style scoped>\n",
       "    .dataframe tbody tr th:only-of-type {\n",
       "        vertical-align: middle;\n",
       "    }\n",
       "\n",
       "    .dataframe tbody tr th {\n",
       "        vertical-align: top;\n",
       "    }\n",
       "\n",
       "    .dataframe thead th {\n",
       "        text-align: right;\n",
       "    }\n",
       "</style>\n",
       "<table border=\"1\" class=\"dataframe\">\n",
       "  <thead>\n",
       "    <tr style=\"text-align: right;\">\n",
       "      <th></th>\n",
       "      <th>user</th>\n",
       "      <th>toolname</th>\n",
       "      <th>cnt</th>\n",
       "      <th>SF_ID_tool</th>\n",
       "      <th>Tool_name__c</th>\n",
       "      <th>SF_ID_contact</th>\n",
       "      <th>nanoHUB_username__c</th>\n",
       "    </tr>\n",
       "  </thead>\n",
       "  <tbody>\n",
       "    <tr>\n",
       "      <th>0</th>\n",
       "      <td>0.yao.yuan</td>\n",
       "      <td>mosfet</td>\n",
       "      <td>11</td>\n",
       "      <td>a0s5w00000k5MPbAAM</td>\n",
       "      <td>mosfet</td>\n",
       "      <td>0035w000034IX15AAG</td>\n",
       "      <td>0.yao.yuan</td>\n",
       "    </tr>\n",
       "    <tr>\n",
       "      <th>1</th>\n",
       "      <td>0.yao.yuan</td>\n",
       "      <td>mosfetsat</td>\n",
       "      <td>4</td>\n",
       "      <td>a0s5w00000k5Mc5AAE</td>\n",
       "      <td>mosfetsat</td>\n",
       "      <td>0035w000034IX15AAG</td>\n",
       "      <td>0.yao.yuan</td>\n",
       "    </tr>\n",
       "  </tbody>\n",
       "</table>\n",
       "</div>"
      ],
      "text/plain": [
       "         user   toolname  cnt          SF_ID_tool Tool_name__c  \\\n",
       "0  0.yao.yuan     mosfet   11  a0s5w00000k5MPbAAM       mosfet   \n",
       "1  0.yao.yuan  mosfetsat    4  a0s5w00000k5Mc5AAE    mosfetsat   \n",
       "\n",
       "        SF_ID_contact nanoHUB_username__c  \n",
       "0  0035w000034IX15AAG          0.yao.yuan  \n",
       "1  0035w000034IX15AAG          0.yao.yuan  "
      ]
     },
     "execution_count": 13,
     "metadata": {},
     "output_type": "execute_result"
    }
   ],
   "source": [
    "# merge SF citation and contact IDs into user-citation DF\n",
    "ct_tolink_df = pd.merge(df, sf_tool_df, how='inner', left_on='toolname', right_on='Tool_name__c')\\\n",
    "                           .rename(columns={'Id':'SF_ID_tool'})\n",
    "                                            \n",
    "ct_tolink_df = pd.merge(ct_tolink_df, sf_username_df, how='inner', left_on='user', right_on='nanoHUB_username__c')\\\n",
    "                           .rename(columns={'Id':'SF_ID_contact'})\n",
    "\n",
    "# display\n",
    "ct_tolink_df.head(2)"
   ]
  },
  {
   "cell_type": "code",
   "execution_count": 14,
   "id": "1e567b59",
   "metadata": {
    "execution": {
     "iopub.execute_input": "2021-08-26T04:28:49.464869Z",
     "iopub.status.busy": "2021-08-26T04:28:49.464068Z",
     "iopub.status.idle": "2021-08-26T04:28:56.998491Z",
     "shell.execute_reply": "2021-08-26T04:28:56.998845Z"
    },
    "jupyter": {
     "source_hidden": true
    },
    "papermill": {
     "duration": 7.607678,
     "end_time": "2021-08-26T04:28:56.999015",
     "exception": false,
     "start_time": "2021-08-26T04:28:49.391337",
     "status": "completed"
    },
    "tags": []
   },
   "outputs": [],
   "source": [
    "# create a new column for object name\n",
    "ct_tolink_df['Name'] = ct_tolink_df.apply(lambda x: '%s_%s'%(x.nanoHUB_username__c, x.Tool_name__c), axis=1)"
   ]
  },
  {
   "cell_type": "code",
   "execution_count": 15,
   "id": "d6170b3d",
   "metadata": {
    "execution": {
     "iopub.execute_input": "2021-08-26T04:28:57.172956Z",
     "iopub.status.busy": "2021-08-26T04:28:57.171712Z",
     "iopub.status.idle": "2021-08-26T04:28:57.195220Z",
     "shell.execute_reply": "2021-08-26T04:28:57.195709Z"
    },
    "jupyter": {
     "source_hidden": true
    },
    "papermill": {
     "duration": 0.119382,
     "end_time": "2021-08-26T04:28:57.195886",
     "exception": false,
     "start_time": "2021-08-26T04:28:57.076504",
     "status": "completed"
    },
    "tags": []
   },
   "outputs": [
    {
     "data": {
      "text/html": [
       "<div>\n",
       "<style scoped>\n",
       "    .dataframe tbody tr th:only-of-type {\n",
       "        vertical-align: middle;\n",
       "    }\n",
       "\n",
       "    .dataframe tbody tr th {\n",
       "        vertical-align: top;\n",
       "    }\n",
       "\n",
       "    .dataframe thead th {\n",
       "        text-align: right;\n",
       "    }\n",
       "</style>\n",
       "<table border=\"1\" class=\"dataframe\">\n",
       "  <thead>\n",
       "    <tr style=\"text-align: right;\">\n",
       "      <th></th>\n",
       "      <th>0</th>\n",
       "      <th>1</th>\n",
       "    </tr>\n",
       "  </thead>\n",
       "  <tbody>\n",
       "    <tr>\n",
       "      <th>Name</th>\n",
       "      <td>0.yao.yuan_mosfet</td>\n",
       "      <td>0.yao.yuan_mosfetsat</td>\n",
       "    </tr>\n",
       "    <tr>\n",
       "      <th>Contact__c</th>\n",
       "      <td>0035w000034IX15AAG</td>\n",
       "      <td>0035w000034IX15AAG</td>\n",
       "    </tr>\n",
       "    <tr>\n",
       "      <th>Tool__c</th>\n",
       "      <td>a0s5w00000k5MPbAAM</td>\n",
       "      <td>a0s5w00000k5Mc5AAE</td>\n",
       "    </tr>\n",
       "    <tr>\n",
       "      <th>Total_Runs__c</th>\n",
       "      <td>11</td>\n",
       "      <td>4</td>\n",
       "    </tr>\n",
       "  </tbody>\n",
       "</table>\n",
       "</div>"
      ],
      "text/plain": [
       "                                0                     1\n",
       "Name            0.yao.yuan_mosfet  0.yao.yuan_mosfetsat\n",
       "Contact__c     0035w000034IX15AAG    0035w000034IX15AAG\n",
       "Tool__c        a0s5w00000k5MPbAAM    a0s5w00000k5Mc5AAE\n",
       "Total_Runs__c                  11                     4"
      ]
     },
     "execution_count": 15,
     "metadata": {},
     "output_type": "execute_result"
    }
   ],
   "source": [
    "df_sf = pd.DataFrame()\n",
    "\n",
    "# Make sure NaN and NaT values are taken care of here\n",
    "df_sf['Name']         = ct_tolink_df['Name']\n",
    "df_sf['Contact__c'] = ct_tolink_df['SF_ID_contact']\n",
    "df_sf['Tool__c']       = ct_tolink_df['SF_ID_tool']\n",
    "df_sf['Total_Runs__c'] = ct_tolink_df['cnt']\n",
    "sf_original_fields = df_sf.columns\n",
    "\n",
    "# display\n",
    "df_sf.head(2).T"
   ]
  },
  {
   "cell_type": "markdown",
   "id": "3043f52a",
   "metadata": {
    "papermill": {
     "duration": 0.064451,
     "end_time": "2021-08-26T04:28:57.331021",
     "exception": false,
     "start_time": "2021-08-26T04:28:57.266570",
     "status": "completed"
    },
    "tags": []
   },
   "source": [
    "## To Salesforce Sales Cloud CRM"
   ]
  },
  {
   "cell_type": "code",
   "execution_count": 16,
   "id": "5a84dfa7",
   "metadata": {
    "execution": {
     "iopub.execute_input": "2021-08-26T04:28:57.478398Z",
     "iopub.status.busy": "2021-08-26T04:28:57.477450Z",
     "iopub.status.idle": "2021-08-26T04:28:57.480254Z",
     "shell.execute_reply": "2021-08-26T04:28:57.480925Z"
    },
    "jupyter": {
     "source_hidden": true
    },
    "papermill": {
     "duration": 0.078892,
     "end_time": "2021-08-26T04:28:57.481122",
     "exception": false,
     "start_time": "2021-08-26T04:28:57.402230",
     "status": "completed"
    },
    "tags": []
   },
   "outputs": [],
   "source": [
    "# create DB2 to Salesforce API object\n",
    "\n",
    "# specify Salesforce object ID and external ID\n",
    "db_s.object_id = object_id\n",
    "db_s.external_id = external_id"
   ]
  },
  {
   "cell_type": "code",
   "execution_count": 17,
   "id": "7e29abcc",
   "metadata": {
    "execution": {
     "iopub.execute_input": "2021-08-26T04:28:57.640672Z",
     "iopub.status.busy": "2021-08-26T04:28:57.639762Z",
     "iopub.status.idle": "2021-08-26T04:29:35.831777Z",
     "shell.execute_reply": "2021-08-26T04:29:35.832208Z"
    },
    "jupyter": {
     "source_hidden": true
    },
    "papermill": {
     "duration": 38.27764,
     "end_time": "2021-08-26T04:29:35.832458",
     "exception": false,
     "start_time": "2021-08-26T04:28:57.554818",
     "status": "completed"
    },
    "tags": []
   },
   "outputs": [
    {
     "name": "stdout",
     "output_type": "stream",
     "text": [
      "[Success] Bulk job creation successful. Job ID = 7505w00000ZJL0eAAH\n",
      "hello\n"
     ]
    },
    {
     "name": "stdout",
     "output_type": "stream",
     "text": [
      "[Success] CSV upload successful. Job ID = 7505w00000ZJL0eAAH\n"
     ]
    },
    {
     "name": "stdout",
     "output_type": "stream",
     "text": [
      "[Success] Closing job successful. Job ID = 7505w00000ZJL0eAAH\n"
     ]
    }
   ],
   "source": [
    "# send data to Salesforce\n",
    "db_s.send_data(df_sf)"
   ]
  },
  {
   "cell_type": "code",
   "execution_count": 18,
   "id": "90b74018",
   "metadata": {
    "execution": {
     "iopub.execute_input": "2021-08-26T04:29:35.976663Z",
     "iopub.status.busy": "2021-08-26T04:29:35.975928Z",
     "iopub.status.idle": "2021-08-26T04:29:36.361706Z",
     "shell.execute_reply": "2021-08-26T04:29:36.362917Z"
    },
    "jupyter": {
     "source_hidden": true
    },
    "papermill": {
     "duration": 0.458572,
     "end_time": "2021-08-26T04:29:36.363310",
     "exception": false,
     "start_time": "2021-08-26T04:29:35.904738",
     "status": "completed"
    },
    "tags": []
   },
   "outputs": [
    {
     "name": "stdout",
     "output_type": "stream",
     "text": [
      "{'apexProcessingTime': 0,\n",
      " 'apiActiveProcessingTime': 0,\n",
      " 'apiVersion': 47.0,\n",
      " 'columnDelimiter': 'COMMA',\n",
      " 'concurrencyMode': 'Parallel',\n",
      " 'contentType': 'CSV',\n",
      " 'createdById': '0055w00000DM5bOAAT',\n",
      " 'createdDate': '2021-08-26T04:28:57.000+0000',\n",
      " 'externalIdFieldName': 'Name',\n",
      " 'id': '7505w00000ZJL0eAAH',\n",
      " 'jobType': 'V2Ingest',\n",
      " 'lineEnding': 'LF',\n",
      " 'numberRecordsFailed': 0,\n",
      " 'numberRecordsProcessed': 0,\n",
      " 'object': 'ContactToolAssociation__c',\n",
      " 'operation': 'upsert',\n",
      " 'retries': 0,\n",
      " 'state': 'UploadComplete',\n",
      " 'systemModstamp': '2021-08-26T04:29:35.000+0000',\n",
      " 'totalProcessingTime': 0}\n"
     ]
    }
   ],
   "source": [
    "# check status\n",
    "from pprint import pprint\n",
    "\n",
    "pprint(db_s.check_bulk_status())"
   ]
  },
  {
   "cell_type": "code",
   "execution_count": null,
   "id": "a7603509",
   "metadata": {
    "jupyter": {
     "source_hidden": true
    },
    "papermill": {
     "duration": 0.07354,
     "end_time": "2021-08-26T04:29:36.518767",
     "exception": false,
     "start_time": "2021-08-26T04:29:36.445227",
     "status": "completed"
    },
    "tags": []
   },
   "outputs": [],
   "source": []
  }
 ],
 "metadata": {
  "celltoolbar": "Tags",
  "kernelspec": {
   "display_name": "Python 3 (ipykernel)",
   "language": "python",
   "name": "python3"
  },
  "language_info": {
   "codemirror_mode": {
    "name": "ipython",
    "version": 3
   },
   "file_extension": ".py",
   "mimetype": "text/x-python",
   "name": "python",
   "nbconvert_exporter": "python",
   "pygments_lexer": "ipython3",
   "version": "3.8.2"
  },
  "papermill": {
   "duration": 537.994695,
   "end_time": "2021-08-26T04:29:38.676301",
   "environment_variables": {},
   "exception": null,
   "input_path": "nanoHUB/pipeline/salesforce/task_tools_map_contacts.ipynb",
   "output_path": "./.output/task_tools_map_contacts.ipynb",
   "parameters": {},
   "start_time": "2021-08-26T04:20:40.681606",
   "version": "2.1.1"
  }
 },
 "nbformat": 4,
 "nbformat_minor": 5
}