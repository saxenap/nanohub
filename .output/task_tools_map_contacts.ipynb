{
 "cells": [
  {
   "cell_type": "markdown",
   "id": "d925c155",
   "metadata": {
    "papermill": {
     "duration": 0.037685,
     "end_time": "2021-10-25T11:40:24.794297",
     "exception": false,
     "start_time": "2021-10-25T11:40:24.756612",
     "status": "completed"
    },
    "tags": []
   },
   "source": [
    "# DB2-Salesforce connector: Tools mapping to users"
   ]
  },
  {
   "cell_type": "code",
   "execution_count": 1,
   "id": "e91d4aea",
   "metadata": {
    "execution": {
     "iopub.execute_input": "2021-10-25T11:40:24.877822Z",
     "iopub.status.busy": "2021-10-25T11:40:24.877197Z",
     "iopub.status.idle": "2021-10-25T11:40:26.788823Z",
     "shell.execute_reply": "2021-10-25T11:40:26.789430Z"
    },
    "jupyter": {
     "source_hidden": true
    },
    "papermill": {
     "duration": 1.957675,
     "end_time": "2021-10-25T11:40:26.789777",
     "exception": false,
     "start_time": "2021-10-25T11:40:24.832102",
     "status": "completed"
    },
    "tags": [
     "parameters"
    ]
   },
   "outputs": [
    {
     "name": "stdout",
     "output_type": "stream",
     "text": [
      "\u001b[1mnanoHUB - Serving Students, Researchers & Instructors\u001b[0m\n"
     ]
    },
    {
     "name": "stdout",
     "output_type": "stream",
     "text": [
      "Obtained Salesforce access token ...... True\n"
     ]
    }
   ],
   "source": [
    "# API settings\n",
    "api_url = '/services/data/v43.0/sobjects'\n",
    "external_id = 'Name'\n",
    "object_id = 'ContactToolAssociation__c'\n",
    "\n",
    "from nanoHUB.application import Application\n",
    "\n",
    "application = Application.get_instance()\n",
    "nanohub_db = application.new_db_engine('nanohub')\n",
    "nanohub_metrics_db = application.new_db_engine('nanohub_metrics')\n",
    "\n",
    "\n",
    "salesforce = application.new_salesforce_engine()\n",
    "db_s = salesforce"
   ]
  },
  {
   "cell_type": "code",
   "execution_count": 2,
   "id": "05ebb360",
   "metadata": {
    "execution": {
     "iopub.execute_input": "2021-10-25T11:40:26.871612Z",
     "iopub.status.busy": "2021-10-25T11:40:26.871081Z",
     "iopub.status.idle": "2021-10-25T11:40:26.873354Z",
     "shell.execute_reply": "2021-10-25T11:40:26.873852Z"
    },
    "jupyter": {
     "source_hidden": true
    },
    "papermill": {
     "duration": 0.044884,
     "end_time": "2021-10-25T11:40:26.874086",
     "exception": false,
     "start_time": "2021-10-25T11:40:26.829202",
     "status": "completed"
    },
    "tags": []
   },
   "outputs": [],
   "source": [
    "import pandas as pd\n",
    "import time\n",
    "import datetime"
   ]
  },
  {
   "cell_type": "markdown",
   "id": "f3114831",
   "metadata": {
    "papermill": {
     "duration": 0.038469,
     "end_time": "2021-10-25T11:40:26.951474",
     "exception": false,
     "start_time": "2021-10-25T11:40:26.913005",
     "status": "completed"
    },
    "tags": []
   },
   "source": [
    "## Obtain tool information from DB2 "
   ]
  },
  {
   "cell_type": "code",
   "execution_count": 3,
   "id": "43052e09",
   "metadata": {
    "execution": {
     "iopub.execute_input": "2021-10-25T11:40:27.032422Z",
     "iopub.status.busy": "2021-10-25T11:40:27.031760Z",
     "iopub.status.idle": "2021-10-25T11:44:47.013541Z",
     "shell.execute_reply": "2021-10-25T11:44:47.013982Z"
    },
    "jupyter": {
     "source_hidden": true
    },
    "papermill": {
     "duration": 260.026418,
     "end_time": "2021-10-25T11:44:47.014240",
     "exception": false,
     "start_time": "2021-10-25T11:40:26.987822",
     "status": "completed"
    },
    "tags": []
   },
   "outputs": [],
   "source": [
    "# connect with DB2\n",
    "\n",
    "# toolstart\n",
    "sql_query = \"select user, tool as instance from nanohub_metrics.toolstart\"\n",
    "\n",
    "toolstart_df = pd.read_sql_query(sql_query, nanohub_metrics_db)\n",
    "\n",
    "# tool_version\n",
    "sql_query = \"select toolname, instance from nanohub.jos_tool_version\"\n",
    "\n",
    "tool_version_df = pd.read_sql_query(sql_query, nanohub_db)"
   ]
  },
  {
   "cell_type": "code",
   "execution_count": 4,
   "id": "76ca1f0a",
   "metadata": {
    "execution": {
     "iopub.execute_input": "2021-10-25T11:44:47.095285Z",
     "iopub.status.busy": "2021-10-25T11:44:47.094725Z",
     "iopub.status.idle": "2021-10-25T11:44:53.913291Z",
     "shell.execute_reply": "2021-10-25T11:44:53.913781Z"
    },
    "jupyter": {
     "source_hidden": true
    },
    "papermill": {
     "duration": 6.86159,
     "end_time": "2021-10-25T11:44:53.914013",
     "exception": false,
     "start_time": "2021-10-25T11:44:47.052423",
     "status": "completed"
    },
    "tags": []
   },
   "outputs": [
    {
     "data": {
      "text/html": [
       "<div>\n",
       "<style scoped>\n",
       "    .dataframe tbody tr th:only-of-type {\n",
       "        vertical-align: middle;\n",
       "    }\n",
       "\n",
       "    .dataframe tbody tr th {\n",
       "        vertical-align: top;\n",
       "    }\n",
       "\n",
       "    .dataframe thead th {\n",
       "        text-align: right;\n",
       "    }\n",
       "</style>\n",
       "<table border=\"1\" class=\"dataframe\">\n",
       "  <thead>\n",
       "    <tr style=\"text-align: right;\">\n",
       "      <th></th>\n",
       "      <th>user</th>\n",
       "      <th>instance</th>\n",
       "    </tr>\n",
       "  </thead>\n",
       "  <tbody>\n",
       "    <tr>\n",
       "      <th>0</th>\n",
       "      <td>herre</td>\n",
       "      <td>cnt-iv</td>\n",
       "    </tr>\n",
       "    <tr>\n",
       "      <th>1</th>\n",
       "      <td>donovan</td>\n",
       "      <td>huckel-iv</td>\n",
       "    </tr>\n",
       "  </tbody>\n",
       "</table>\n",
       "</div>"
      ],
      "text/plain": [
       "      user   instance\n",
       "0    herre     cnt-iv\n",
       "1  donovan  huckel-iv"
      ]
     },
     "metadata": {},
     "output_type": "display_data"
    },
    {
     "data": {
      "text/html": [
       "<div>\n",
       "<style scoped>\n",
       "    .dataframe tbody tr th:only-of-type {\n",
       "        vertical-align: middle;\n",
       "    }\n",
       "\n",
       "    .dataframe tbody tr th {\n",
       "        vertical-align: top;\n",
       "    }\n",
       "\n",
       "    .dataframe thead th {\n",
       "        text-align: right;\n",
       "    }\n",
       "</style>\n",
       "<table border=\"1\" class=\"dataframe\">\n",
       "  <thead>\n",
       "    <tr style=\"text-align: right;\">\n",
       "      <th></th>\n",
       "      <th>toolname</th>\n",
       "      <th>instance</th>\n",
       "    </tr>\n",
       "  </thead>\n",
       "  <tbody>\n",
       "    <tr>\n",
       "      <th>0</th>\n",
       "      <td></td>\n",
       "      <td></td>\n",
       "    </tr>\n",
       "    <tr>\n",
       "      <th>1</th>\n",
       "      <td>112016a</td>\n",
       "      <td>112016a_dev</td>\n",
       "    </tr>\n",
       "  </tbody>\n",
       "</table>\n",
       "</div>"
      ],
      "text/plain": [
       "  toolname     instance\n",
       "0                      \n",
       "1  112016a  112016a_dev"
      ]
     },
     "metadata": {},
     "output_type": "display_data"
    }
   ],
   "source": [
    "# convert all to lower case\n",
    "toolstart_df['user'] = toolstart_df['user'].apply(str.lower)\n",
    "toolstart_df['instance'] = toolstart_df['instance'].apply(str.lower)\n",
    "\n",
    "tool_version_df['toolname'] = tool_version_df['toolname'].apply(str.lower)\n",
    "tool_version_df['instance'] = tool_version_df['instance'].apply(str.lower)\n",
    "\n",
    "# display\n",
    "\n",
    "display(toolstart_df.head(2))\n",
    "display(tool_version_df.head(2))"
   ]
  },
  {
   "cell_type": "code",
   "execution_count": 5,
   "id": "d4d5bb4c",
   "metadata": {
    "execution": {
     "iopub.execute_input": "2021-10-25T11:44:54.004607Z",
     "iopub.status.busy": "2021-10-25T11:44:54.003833Z",
     "iopub.status.idle": "2021-10-25T11:44:54.014375Z",
     "shell.execute_reply": "2021-10-25T11:44:54.014876Z"
    },
    "jupyter": {
     "source_hidden": true
    },
    "papermill": {
     "duration": 0.06052,
     "end_time": "2021-10-25T11:44:54.015116",
     "exception": false,
     "start_time": "2021-10-25T11:44:53.954596",
     "status": "completed"
    },
    "tags": []
   },
   "outputs": [
    {
     "data": {
      "text/html": [
       "<div>\n",
       "<style scoped>\n",
       "    .dataframe tbody tr th:only-of-type {\n",
       "        vertical-align: middle;\n",
       "    }\n",
       "\n",
       "    .dataframe tbody tr th {\n",
       "        vertical-align: top;\n",
       "    }\n",
       "\n",
       "    .dataframe thead th {\n",
       "        text-align: right;\n",
       "    }\n",
       "</style>\n",
       "<table border=\"1\" class=\"dataframe\">\n",
       "  <thead>\n",
       "    <tr style=\"text-align: right;\">\n",
       "      <th></th>\n",
       "      <th>toolname</th>\n",
       "      <th>instance</th>\n",
       "    </tr>\n",
       "  </thead>\n",
       "  <tbody>\n",
       "    <tr>\n",
       "      <th>0</th>\n",
       "      <td></td>\n",
       "      <td></td>\n",
       "    </tr>\n",
       "    <tr>\n",
       "      <th>1</th>\n",
       "      <td>112016a</td>\n",
       "      <td>112016a</td>\n",
       "    </tr>\n",
       "    <tr>\n",
       "      <th>2</th>\n",
       "      <td>1dbtetransient</td>\n",
       "      <td>1dbtetransient</td>\n",
       "    </tr>\n",
       "  </tbody>\n",
       "</table>\n",
       "</div>"
      ],
      "text/plain": [
       "         toolname        instance\n",
       "0                                \n",
       "1         112016a         112016a\n",
       "2  1dbtetransient  1dbtetransient"
      ]
     },
     "execution_count": 5,
     "metadata": {},
     "output_type": "execute_result"
    }
   ],
   "source": [
    "# insert the toolname into instance as well\n",
    "dummy = pd.DataFrame()\n",
    "dummy['toolname'] = tool_version_df['toolname'].drop_duplicates()\n",
    "dummy['instance'] = dummy['toolname']\n",
    "\n",
    "tool_version_df = pd.concat([dummy, tool_version_df], axis=0).drop_duplicates().reset_index(drop=True)\n",
    "\n",
    "# display\n",
    "tool_version_df.head(3)"
   ]
  },
  {
   "cell_type": "code",
   "execution_count": 6,
   "id": "0985f582",
   "metadata": {
    "execution": {
     "iopub.execute_input": "2021-10-25T11:44:55.889882Z",
     "iopub.status.busy": "2021-10-25T11:44:55.889152Z",
     "iopub.status.idle": "2021-10-25T11:45:01.129382Z",
     "shell.execute_reply": "2021-10-25T11:45:01.129987Z"
    },
    "jupyter": {
     "source_hidden": true
    },
    "papermill": {
     "duration": 7.073147,
     "end_time": "2021-10-25T11:45:01.130247",
     "exception": false,
     "start_time": "2021-10-25T11:44:54.057100",
     "status": "completed"
    },
    "tags": []
   },
   "outputs": [],
   "source": [
    "# merge toolname into toolstart\n",
    "df = pd.merge(toolstart_df, tool_version_df, how='left', left_on='instance', right_on='instance')[['user', 'toolname']]"
   ]
  },
  {
   "cell_type": "code",
   "execution_count": 7,
   "id": "1075a6b2",
   "metadata": {
    "execution": {
     "iopub.execute_input": "2021-10-25T11:45:01.733205Z",
     "iopub.status.busy": "2021-10-25T11:45:01.732653Z",
     "iopub.status.idle": "2021-10-25T11:45:06.298065Z",
     "shell.execute_reply": "2021-10-25T11:45:06.298599Z"
    },
    "jupyter": {
     "source_hidden": true
    },
    "papermill": {
     "duration": 5.126002,
     "end_time": "2021-10-25T11:45:06.298860",
     "exception": false,
     "start_time": "2021-10-25T11:45:01.172858",
     "status": "completed"
    },
    "tags": []
   },
   "outputs": [],
   "source": [
    "# count number of tool runs by each user, each tool\n",
    "df = df.groupby(['user', 'toolname'])['toolname'].count().to_frame(name='cnt').reset_index()"
   ]
  },
  {
   "cell_type": "code",
   "execution_count": 8,
   "id": "2e7ce6b6",
   "metadata": {
    "execution": {
     "iopub.execute_input": "2021-10-25T11:45:06.437128Z",
     "iopub.status.busy": "2021-10-25T11:45:06.436508Z",
     "iopub.status.idle": "2021-10-25T11:45:06.532257Z",
     "shell.execute_reply": "2021-10-25T11:45:06.532779Z"
    },
    "jupyter": {
     "source_hidden": true
    },
    "papermill": {
     "duration": 0.192168,
     "end_time": "2021-10-25T11:45:06.532947",
     "exception": false,
     "start_time": "2021-10-25T11:45:06.340779",
     "status": "completed"
    },
    "tags": []
   },
   "outputs": [
    {
     "data": {
      "text/html": [
       "<div>\n",
       "<style scoped>\n",
       "    .dataframe tbody tr th:only-of-type {\n",
       "        vertical-align: middle;\n",
       "    }\n",
       "\n",
       "    .dataframe tbody tr th {\n",
       "        vertical-align: top;\n",
       "    }\n",
       "\n",
       "    .dataframe thead th {\n",
       "        text-align: right;\n",
       "    }\n",
       "</style>\n",
       "<table border=\"1\" class=\"dataframe\">\n",
       "  <thead>\n",
       "    <tr style=\"text-align: right;\">\n",
       "      <th></th>\n",
       "      <th>user</th>\n",
       "      <th>toolname</th>\n",
       "      <th>cnt</th>\n",
       "    </tr>\n",
       "  </thead>\n",
       "  <tbody>\n",
       "    <tr>\n",
       "      <th>0</th>\n",
       "      <td></td>\n",
       "      <td></td>\n",
       "      <td>885</td>\n",
       "    </tr>\n",
       "    <tr>\n",
       "      <th>1</th>\n",
       "      <td>0.yao.yuan</td>\n",
       "      <td>mosfet</td>\n",
       "      <td>11</td>\n",
       "    </tr>\n",
       "    <tr>\n",
       "      <th>2</th>\n",
       "      <td>0.yao.yuan</td>\n",
       "      <td>mosfetsat</td>\n",
       "      <td>4</td>\n",
       "    </tr>\n",
       "  </tbody>\n",
       "</table>\n",
       "</div>"
      ],
      "text/plain": [
       "         user   toolname  cnt\n",
       "0                         885\n",
       "1  0.yao.yuan     mosfet   11\n",
       "2  0.yao.yuan  mosfetsat    4"
      ]
     },
     "execution_count": 8,
     "metadata": {},
     "output_type": "execute_result"
    }
   ],
   "source": [
    "# just in case some NaN values made through\n",
    "df = df[~df.user.isna()]\n",
    "df = df[~df.toolname.isna()]\n",
    "\n",
    "# display\n",
    "df.head(3)"
   ]
  },
  {
   "cell_type": "markdown",
   "id": "0dc99d7a",
   "metadata": {
    "papermill": {
     "duration": 0.043251,
     "end_time": "2021-10-25T11:45:06.620686",
     "exception": false,
     "start_time": "2021-10-25T11:45:06.577435",
     "status": "completed"
    },
    "tags": []
   },
   "source": [
    "## Obtain Salesforce IDs"
   ]
  },
  {
   "cell_type": "code",
   "execution_count": 9,
   "id": "7001d5cd",
   "metadata": {
    "execution": {
     "iopub.execute_input": "2021-10-25T11:45:06.710954Z",
     "iopub.status.busy": "2021-10-25T11:45:06.710382Z",
     "iopub.status.idle": "2021-10-25T11:45:06.712349Z",
     "shell.execute_reply": "2021-10-25T11:45:06.712776Z"
    },
    "jupyter": {
     "source_hidden": true
    },
    "papermill": {
     "duration": 0.050145,
     "end_time": "2021-10-25T11:45:06.713022",
     "exception": false,
     "start_time": "2021-10-25T11:45:06.662877",
     "status": "completed"
    },
    "tags": []
   },
   "outputs": [],
   "source": [
    "# create DB2 to Salesforce API object"
   ]
  },
  {
   "cell_type": "code",
   "execution_count": 10,
   "id": "97ebba48",
   "metadata": {
    "execution": {
     "iopub.execute_input": "2021-10-25T11:45:06.804728Z",
     "iopub.status.busy": "2021-10-25T11:45:06.804028Z",
     "iopub.status.idle": "2021-10-25T11:45:22.258140Z",
     "shell.execute_reply": "2021-10-25T11:45:22.258620Z"
    },
    "jupyter": {
     "source_hidden": true
    },
    "papermill": {
     "duration": 15.502166,
     "end_time": "2021-10-25T11:45:22.258858",
     "exception": false,
     "start_time": "2021-10-25T11:45:06.756692",
     "status": "completed"
    },
    "tags": []
   },
   "outputs": [
    {
     "name": "stdout",
     "output_type": "stream",
     "text": [
      "[Success] Bulk job creation successful. Job ID = 7505w00000b2DBOAA2\n"
     ]
    },
    {
     "name": "stdout",
     "output_type": "stream",
     "text": [
      "{\"id\":\"7505w00000b2DBOAA2\",\"operation\":\"query\",\"object\":\"Contact\",\"createdById\":\"0055w00000DM5bOAAT\",\"createdDate\":\"2021-10-25T11:45:07.000+0000\",\"systemModstamp\":\"2021-10-25T11:45:07.000+0000\",\"state\":\"UploadComplete\",\"concurrencyMode\":\"Parallel\",\"contentType\":\"CSV\",\"apiVersion\":47.0,\"jobType\":\"V2Query\",\"lineEnding\":\"LF\",\"columnDelimiter\":\"COMMA\",\"retries\":0,\"totalProcessingTime\":0}\n"
     ]
    },
    {
     "name": "stdout",
     "output_type": "stream",
     "text": [
      "{\"id\":\"7505w00000b2DBOAA2\",\"operation\":\"query\",\"object\":\"Contact\",\"createdById\":\"0055w00000DM5bOAAT\",\"createdDate\":\"2021-10-25T11:45:07.000+0000\",\"systemModstamp\":\"2021-10-25T11:45:18.000+0000\",\"state\":\"JobComplete\",\"concurrencyMode\":\"Parallel\",\"contentType\":\"CSV\",\"apiVersion\":47.0,\"jobType\":\"V2Query\",\"lineEnding\":\"LF\",\"columnDelimiter\":\"COMMA\",\"numberRecordsProcessed\":262426,\"retries\":0,\"totalProcessingTime\":9620}\n",
      "[Success] Bulk job completed successfully.\n"
     ]
    },
    {
     "data": {
      "text/html": [
       "<div>\n",
       "<style scoped>\n",
       "    .dataframe tbody tr th:only-of-type {\n",
       "        vertical-align: middle;\n",
       "    }\n",
       "\n",
       "    .dataframe tbody tr th {\n",
       "        vertical-align: top;\n",
       "    }\n",
       "\n",
       "    .dataframe thead th {\n",
       "        text-align: right;\n",
       "    }\n",
       "</style>\n",
       "<table border=\"1\" class=\"dataframe\">\n",
       "  <thead>\n",
       "    <tr style=\"text-align: right;\">\n",
       "      <th></th>\n",
       "      <th>Id</th>\n",
       "      <th>nanoHUB_username__c</th>\n",
       "    </tr>\n",
       "  </thead>\n",
       "  <tbody>\n",
       "    <tr>\n",
       "      <th>0</th>\n",
       "      <td>0035w000031Vsp1AAC</td>\n",
       "      <td>hubrepo</td>\n",
       "    </tr>\n",
       "    <tr>\n",
       "      <th>1</th>\n",
       "      <td>0035w000031Vsp2AAC</td>\n",
       "      <td>support</td>\n",
       "    </tr>\n",
       "    <tr>\n",
       "      <th>2</th>\n",
       "      <td>0035w000031Vsp3AAC</td>\n",
       "      <td>gridstat</td>\n",
       "    </tr>\n",
       "  </tbody>\n",
       "</table>\n",
       "</div>"
      ],
      "text/plain": [
       "                   Id nanoHUB_username__c\n",
       "0  0035w000031Vsp1AAC             hubrepo\n",
       "1  0035w000031Vsp2AAC             support\n",
       "2  0035w000031Vsp3AAC            gridstat"
      ]
     },
     "execution_count": 10,
     "metadata": {},
     "output_type": "execute_result"
    }
   ],
   "source": [
    "# query the Salesforce IDs for contacts and citations. when updating junction objects, these IDs must be used\n",
    "\n",
    "# get Salesforce ID for contacts\n",
    "sf_username_df = db_s.query_data('SELECT Id, nanoHUB_username__c FROM Contact where nanoHUB_username__c != NULL')\n",
    "\n",
    "# display\n",
    "sf_username_df.head(3)"
   ]
  },
  {
   "cell_type": "code",
   "execution_count": 11,
   "id": "cdfc6be6",
   "metadata": {
    "execution": {
     "iopub.execute_input": "2021-10-25T11:45:22.356210Z",
     "iopub.status.busy": "2021-10-25T11:45:22.355456Z",
     "iopub.status.idle": "2021-10-25T11:45:34.061614Z",
     "shell.execute_reply": "2021-10-25T11:45:34.062168Z"
    },
    "jupyter": {
     "source_hidden": true
    },
    "papermill": {
     "duration": 11.75849,
     "end_time": "2021-10-25T11:45:34.062435",
     "exception": false,
     "start_time": "2021-10-25T11:45:22.303945",
     "status": "completed"
    },
    "tags": []
   },
   "outputs": [
    {
     "name": "stdout",
     "output_type": "stream",
     "text": [
      "[Success] Bulk job creation successful. Job ID = 7505w00000b2DBYAA2\n"
     ]
    },
    {
     "name": "stdout",
     "output_type": "stream",
     "text": [
      "{\"id\":\"7505w00000b2DBYAA2\",\"operation\":\"query\",\"object\":\"nanoHUB_tools__c\",\"createdById\":\"0055w00000DM5bOAAT\",\"createdDate\":\"2021-10-25T11:45:22.000+0000\",\"systemModstamp\":\"2021-10-25T11:45:22.000+0000\",\"state\":\"UploadComplete\",\"concurrencyMode\":\"Parallel\",\"contentType\":\"CSV\",\"apiVersion\":47.0,\"jobType\":\"V2Query\",\"lineEnding\":\"LF\",\"columnDelimiter\":\"COMMA\",\"retries\":0,\"totalProcessingTime\":0}\n"
     ]
    },
    {
     "name": "stdout",
     "output_type": "stream",
     "text": [
      "{\"id\":\"7505w00000b2DBYAA2\",\"operation\":\"query\",\"object\":\"nanoHUB_tools__c\",\"createdById\":\"0055w00000DM5bOAAT\",\"createdDate\":\"2021-10-25T11:45:22.000+0000\",\"systemModstamp\":\"2021-10-25T11:45:24.000+0000\",\"state\":\"JobComplete\",\"concurrencyMode\":\"Parallel\",\"contentType\":\"CSV\",\"apiVersion\":47.0,\"jobType\":\"V2Query\",\"lineEnding\":\"LF\",\"columnDelimiter\":\"COMMA\",\"numberRecordsProcessed\":1823,\"retries\":0,\"totalProcessingTime\":234}\n",
      "[Success] Bulk job completed successfully.\n"
     ]
    },
    {
     "data": {
      "text/html": [
       "<div>\n",
       "<style scoped>\n",
       "    .dataframe tbody tr th:only-of-type {\n",
       "        vertical-align: middle;\n",
       "    }\n",
       "\n",
       "    .dataframe tbody tr th {\n",
       "        vertical-align: top;\n",
       "    }\n",
       "\n",
       "    .dataframe thead th {\n",
       "        text-align: right;\n",
       "    }\n",
       "</style>\n",
       "<table border=\"1\" class=\"dataframe\">\n",
       "  <thead>\n",
       "    <tr style=\"text-align: right;\">\n",
       "      <th></th>\n",
       "      <th>Id</th>\n",
       "      <th>Tool_name__c</th>\n",
       "    </tr>\n",
       "  </thead>\n",
       "  <tbody>\n",
       "    <tr>\n",
       "      <th>0</th>\n",
       "      <td>a0s5w00000k5MOwAAM</td>\n",
       "      <td>ellipsom</td>\n",
       "    </tr>\n",
       "    <tr>\n",
       "      <th>1</th>\n",
       "      <td>a0s5w00000k5MOxAAM</td>\n",
       "      <td>hydrolab</td>\n",
       "    </tr>\n",
       "    <tr>\n",
       "      <th>2</th>\n",
       "      <td>a0s5w00000k5MOyAAM</td>\n",
       "      <td>huckel</td>\n",
       "    </tr>\n",
       "  </tbody>\n",
       "</table>\n",
       "</div>"
      ],
      "text/plain": [
       "                   Id Tool_name__c\n",
       "0  a0s5w00000k5MOwAAM     ellipsom\n",
       "1  a0s5w00000k5MOxAAM     hydrolab\n",
       "2  a0s5w00000k5MOyAAM       huckel"
      ]
     },
     "execution_count": 11,
     "metadata": {},
     "output_type": "execute_result"
    }
   ],
   "source": [
    "# get Salesforce ID for citations\n",
    "sf_tool_df = db_s.query_data('SELECT Id, Tool_name__c FROM nanoHUB_tools__c')\n",
    "\n",
    "# display\n",
    "sf_tool_df.head(3)"
   ]
  },
  {
   "cell_type": "markdown",
   "id": "9cf63c20",
   "metadata": {
    "papermill": {
     "duration": 0.056679,
     "end_time": "2021-10-25T11:45:34.169176",
     "exception": false,
     "start_time": "2021-10-25T11:45:34.112497",
     "status": "completed"
    },
    "tags": []
   },
   "source": [
    "## Match data with Salesforce format"
   ]
  },
  {
   "cell_type": "code",
   "execution_count": 12,
   "id": "0ba37ec4",
   "metadata": {
    "execution": {
     "iopub.execute_input": "2021-10-25T11:45:34.281470Z",
     "iopub.status.busy": "2021-10-25T11:45:34.273890Z",
     "iopub.status.idle": "2021-10-25T11:45:34.325337Z",
     "shell.execute_reply": "2021-10-25T11:45:34.326006Z"
    },
    "jupyter": {
     "source_hidden": true
    },
    "papermill": {
     "duration": 0.106424,
     "end_time": "2021-10-25T11:45:34.326311",
     "exception": false,
     "start_time": "2021-10-25T11:45:34.219887",
     "status": "completed"
    },
    "tags": []
   },
   "outputs": [],
   "source": [
    "# make sure all strings are lower cases\n",
    "\n",
    "sf_username_df['nanoHUB_username__c'] = sf_username_df['nanoHUB_username__c'].astype('str').apply(str.lower)\n",
    "\n",
    "sf_tool_df['Tool_name__c'] = sf_tool_df['Tool_name__c'].astype('str').apply(str.lower)"
   ]
  },
  {
   "cell_type": "code",
   "execution_count": 13,
   "id": "0000c91b",
   "metadata": {
    "execution": {
     "iopub.execute_input": "2021-10-25T11:45:34.444685Z",
     "iopub.status.busy": "2021-10-25T11:45:34.444127Z",
     "iopub.status.idle": "2021-10-25T11:45:34.970327Z",
     "shell.execute_reply": "2021-10-25T11:45:34.970745Z"
    },
    "jupyter": {
     "source_hidden": true
    },
    "papermill": {
     "duration": 0.595981,
     "end_time": "2021-10-25T11:45:34.970989",
     "exception": false,
     "start_time": "2021-10-25T11:45:34.375008",
     "status": "completed"
    },
    "tags": []
   },
   "outputs": [
    {
     "data": {
      "text/html": [
       "<div>\n",
       "<style scoped>\n",
       "    .dataframe tbody tr th:only-of-type {\n",
       "        vertical-align: middle;\n",
       "    }\n",
       "\n",
       "    .dataframe tbody tr th {\n",
       "        vertical-align: top;\n",
       "    }\n",
       "\n",
       "    .dataframe thead th {\n",
       "        text-align: right;\n",
       "    }\n",
       "</style>\n",
       "<table border=\"1\" class=\"dataframe\">\n",
       "  <thead>\n",
       "    <tr style=\"text-align: right;\">\n",
       "      <th></th>\n",
       "      <th>user</th>\n",
       "      <th>toolname</th>\n",
       "      <th>cnt</th>\n",
       "      <th>SF_ID_tool</th>\n",
       "      <th>Tool_name__c</th>\n",
       "      <th>SF_ID_contact</th>\n",
       "      <th>nanoHUB_username__c</th>\n",
       "    </tr>\n",
       "  </thead>\n",
       "  <tbody>\n",
       "    <tr>\n",
       "      <th>0</th>\n",
       "      <td>0.yao.yuan</td>\n",
       "      <td>mosfet</td>\n",
       "      <td>11</td>\n",
       "      <td>a0s5w00000k5MPbAAM</td>\n",
       "      <td>mosfet</td>\n",
       "      <td>0035w000034IX15AAG</td>\n",
       "      <td>0.yao.yuan</td>\n",
       "    </tr>\n",
       "    <tr>\n",
       "      <th>1</th>\n",
       "      <td>0.yao.yuan</td>\n",
       "      <td>mosfetsat</td>\n",
       "      <td>4</td>\n",
       "      <td>a0s5w00000k5Mc5AAE</td>\n",
       "      <td>mosfetsat</td>\n",
       "      <td>0035w000034IX15AAG</td>\n",
       "      <td>0.yao.yuan</td>\n",
       "    </tr>\n",
       "  </tbody>\n",
       "</table>\n",
       "</div>"
      ],
      "text/plain": [
       "         user   toolname  cnt          SF_ID_tool Tool_name__c  \\\n",
       "0  0.yao.yuan     mosfet   11  a0s5w00000k5MPbAAM       mosfet   \n",
       "1  0.yao.yuan  mosfetsat    4  a0s5w00000k5Mc5AAE    mosfetsat   \n",
       "\n",
       "        SF_ID_contact nanoHUB_username__c  \n",
       "0  0035w000034IX15AAG          0.yao.yuan  \n",
       "1  0035w000034IX15AAG          0.yao.yuan  "
      ]
     },
     "execution_count": 13,
     "metadata": {},
     "output_type": "execute_result"
    }
   ],
   "source": [
    "# merge SF citation and contact IDs into user-citation DF\n",
    "ct_tolink_df = pd.merge(df, sf_tool_df, how='inner', left_on='toolname', right_on='Tool_name__c')\\\n",
    "                           .rename(columns={'Id':'SF_ID_tool'})\n",
    "                                            \n",
    "ct_tolink_df = pd.merge(ct_tolink_df, sf_username_df, how='inner', left_on='user', right_on='nanoHUB_username__c')\\\n",
    "                           .rename(columns={'Id':'SF_ID_contact'})\n",
    "\n",
    "# display\n",
    "ct_tolink_df.head(2)"
   ]
  },
  {
   "cell_type": "code",
   "execution_count": 14,
   "id": "f4d21da1",
   "metadata": {
    "execution": {
     "iopub.execute_input": "2021-10-25T11:45:35.073153Z",
     "iopub.status.busy": "2021-10-25T11:45:35.072588Z",
     "iopub.status.idle": "2021-10-25T11:45:42.011004Z",
     "shell.execute_reply": "2021-10-25T11:45:42.011515Z"
    },
    "jupyter": {
     "source_hidden": true
    },
    "papermill": {
     "duration": 6.992277,
     "end_time": "2021-10-25T11:45:42.011763",
     "exception": false,
     "start_time": "2021-10-25T11:45:35.019486",
     "status": "completed"
    },
    "tags": []
   },
   "outputs": [],
   "source": [
    "# create a new column for object name\n",
    "ct_tolink_df['Name'] = ct_tolink_df.apply(lambda x: '%s_%s'%(x.nanoHUB_username__c, x.Tool_name__c), axis=1)"
   ]
  },
  {
   "cell_type": "code",
   "execution_count": 15,
   "id": "14d1a344",
   "metadata": {
    "execution": {
     "iopub.execute_input": "2021-10-25T11:45:42.135194Z",
     "iopub.status.busy": "2021-10-25T11:45:42.134608Z",
     "iopub.status.idle": "2021-10-25T11:45:42.152283Z",
     "shell.execute_reply": "2021-10-25T11:45:42.152789Z"
    },
    "jupyter": {
     "source_hidden": true
    },
    "papermill": {
     "duration": 0.092977,
     "end_time": "2021-10-25T11:45:42.152984",
     "exception": false,
     "start_time": "2021-10-25T11:45:42.060007",
     "status": "completed"
    },
    "tags": []
   },
   "outputs": [
    {
     "data": {
      "text/html": [
       "<div>\n",
       "<style scoped>\n",
       "    .dataframe tbody tr th:only-of-type {\n",
       "        vertical-align: middle;\n",
       "    }\n",
       "\n",
       "    .dataframe tbody tr th {\n",
       "        vertical-align: top;\n",
       "    }\n",
       "\n",
       "    .dataframe thead th {\n",
       "        text-align: right;\n",
       "    }\n",
       "</style>\n",
       "<table border=\"1\" class=\"dataframe\">\n",
       "  <thead>\n",
       "    <tr style=\"text-align: right;\">\n",
       "      <th></th>\n",
       "      <th>0</th>\n",
       "      <th>1</th>\n",
       "    </tr>\n",
       "  </thead>\n",
       "  <tbody>\n",
       "    <tr>\n",
       "      <th>Name</th>\n",
       "      <td>0.yao.yuan_mosfet</td>\n",
       "      <td>0.yao.yuan_mosfetsat</td>\n",
       "    </tr>\n",
       "    <tr>\n",
       "      <th>Contact__c</th>\n",
       "      <td>0035w000034IX15AAG</td>\n",
       "      <td>0035w000034IX15AAG</td>\n",
       "    </tr>\n",
       "    <tr>\n",
       "      <th>Tool__c</th>\n",
       "      <td>a0s5w00000k5MPbAAM</td>\n",
       "      <td>a0s5w00000k5Mc5AAE</td>\n",
       "    </tr>\n",
       "    <tr>\n",
       "      <th>Total_Runs__c</th>\n",
       "      <td>11</td>\n",
       "      <td>4</td>\n",
       "    </tr>\n",
       "  </tbody>\n",
       "</table>\n",
       "</div>"
      ],
      "text/plain": [
       "                                0                     1\n",
       "Name            0.yao.yuan_mosfet  0.yao.yuan_mosfetsat\n",
       "Contact__c     0035w000034IX15AAG    0035w000034IX15AAG\n",
       "Tool__c        a0s5w00000k5MPbAAM    a0s5w00000k5Mc5AAE\n",
       "Total_Runs__c                  11                     4"
      ]
     },
     "execution_count": 15,
     "metadata": {},
     "output_type": "execute_result"
    }
   ],
   "source": [
    "df_sf = pd.DataFrame()\n",
    "\n",
    "# Make sure NaN and NaT values are taken care of here\n",
    "df_sf['Name']         = ct_tolink_df['Name']\n",
    "df_sf['Contact__c'] = ct_tolink_df['SF_ID_contact']\n",
    "df_sf['Tool__c']       = ct_tolink_df['SF_ID_tool']\n",
    "df_sf['Total_Runs__c'] = ct_tolink_df['cnt']\n",
    "sf_original_fields = df_sf.columns\n",
    "\n",
    "# display\n",
    "df_sf.head(2).T"
   ]
  },
  {
   "cell_type": "markdown",
   "id": "fceeb6d9",
   "metadata": {
    "papermill": {
     "duration": 0.053174,
     "end_time": "2021-10-25T11:45:42.257299",
     "exception": false,
     "start_time": "2021-10-25T11:45:42.204125",
     "status": "completed"
    },
    "tags": []
   },
   "source": [
    "## To Salesforce Sales Cloud CRM"
   ]
  },
  {
   "cell_type": "code",
   "execution_count": 16,
   "id": "af6e6e2d",
   "metadata": {
    "execution": {
     "iopub.execute_input": "2021-10-25T11:45:42.361604Z",
     "iopub.status.busy": "2021-10-25T11:45:42.361054Z",
     "iopub.status.idle": "2021-10-25T11:45:42.363441Z",
     "shell.execute_reply": "2021-10-25T11:45:42.363950Z"
    },
    "jupyter": {
     "source_hidden": true
    },
    "papermill": {
     "duration": 0.056027,
     "end_time": "2021-10-25T11:45:42.364189",
     "exception": false,
     "start_time": "2021-10-25T11:45:42.308162",
     "status": "completed"
    },
    "tags": []
   },
   "outputs": [],
   "source": [
    "# create DB2 to Salesforce API object\n",
    "\n",
    "# specify Salesforce object ID and external ID\n",
    "db_s.object_id = object_id\n",
    "db_s.external_id = external_id"
   ]
  },
  {
   "cell_type": "code",
   "execution_count": 17,
   "id": "585b7d56",
   "metadata": {
    "execution": {
     "iopub.execute_input": "2021-10-25T11:45:42.470566Z",
     "iopub.status.busy": "2021-10-25T11:45:42.469891Z",
     "iopub.status.idle": "2021-10-25T11:46:20.344844Z",
     "shell.execute_reply": "2021-10-25T11:46:20.345426Z"
    },
    "jupyter": {
     "source_hidden": true
    },
    "papermill": {
     "duration": 37.931501,
     "end_time": "2021-10-25T11:46:20.345750",
     "exception": false,
     "start_time": "2021-10-25T11:45:42.414249",
     "status": "completed"
    },
    "tags": []
   },
   "outputs": [
    {
     "name": "stdout",
     "output_type": "stream",
     "text": [
      "[Success] Bulk job creation successful. Job ID = 7505w00000b2DBdAAM\n",
      "hello\n"
     ]
    },
    {
     "name": "stdout",
     "output_type": "stream",
     "text": [
      "[Success] CSV upload successful. Job ID = 7505w00000b2DBdAAM\n"
     ]
    },
    {
     "name": "stdout",
     "output_type": "stream",
     "text": [
      "[Success] Closing job successful. Job ID = 7505w00000b2DBdAAM\n"
     ]
    }
   ],
   "source": [
    "# send data to Salesforce\n",
    "db_s.send_data(df_sf)"
   ]
  },
  {
   "cell_type": "code",
   "execution_count": 18,
   "id": "1aea4c44",
   "metadata": {
    "execution": {
     "iopub.execute_input": "2021-10-25T11:46:20.457944Z",
     "iopub.status.busy": "2021-10-25T11:46:20.457356Z",
     "iopub.status.idle": "2021-10-25T11:46:20.837654Z",
     "shell.execute_reply": "2021-10-25T11:46:20.838307Z"
    },
    "jupyter": {
     "source_hidden": true
    },
    "papermill": {
     "duration": 0.438819,
     "end_time": "2021-10-25T11:46:20.838529",
     "exception": false,
     "start_time": "2021-10-25T11:46:20.399710",
     "status": "completed"
    },
    "tags": []
   },
   "outputs": [
    {
     "name": "stdout",
     "output_type": "stream",
     "text": [
      "{'apexProcessingTime': 0,\n",
      " 'apiActiveProcessingTime': 0,\n",
      " 'apiVersion': 47.0,\n",
      " 'columnDelimiter': 'COMMA',\n",
      " 'concurrencyMode': 'Parallel',\n",
      " 'contentType': 'CSV',\n",
      " 'createdById': '0055w00000DM5bOAAT',\n",
      " 'createdDate': '2021-10-25T11:45:42.000+0000',\n",
      " 'externalIdFieldName': 'Name',\n",
      " 'id': '7505w00000b2DBdAAM',\n",
      " 'jobType': 'V2Ingest',\n",
      " 'lineEnding': 'LF',\n",
      " 'numberRecordsFailed': 0,\n",
      " 'numberRecordsProcessed': 0,\n",
      " 'object': 'ContactToolAssociation__c',\n",
      " 'operation': 'upsert',\n",
      " 'retries': 0,\n",
      " 'state': 'UploadComplete',\n",
      " 'systemModstamp': '2021-10-25T11:46:20.000+0000',\n",
      " 'totalProcessingTime': 0}\n"
     ]
    }
   ],
   "source": [
    "# check status\n",
    "from pprint import pprint\n",
    "\n",
    "pprint(db_s.check_bulk_status())"
   ]
  },
  {
   "cell_type": "code",
   "execution_count": null,
   "id": "620b1f80",
   "metadata": {
    "jupyter": {
     "source_hidden": true
    },
    "papermill": {
     "duration": 0.051919,
     "end_time": "2021-10-25T11:46:20.944341",
     "exception": false,
     "start_time": "2021-10-25T11:46:20.892422",
     "status": "completed"
    },
    "tags": []
   },
   "outputs": [],
   "source": []
  }
 ],
 "metadata": {
  "celltoolbar": "Tags",
  "kernelspec": {
   "display_name": "Python 3 (ipykernel)",
   "language": "python",
   "name": "python3"
  },
  "language_info": {
   "codemirror_mode": {
    "name": "ipython",
    "version": 3
   },
   "file_extension": ".py",
   "mimetype": "text/x-python",
   "name": "python",
   "nbconvert_exporter": "python",
   "pygments_lexer": "ipython3",
   "version": "3.9.7"
  },
  "papermill": {
   "duration": 359.250956,
   "end_time": "2021-10-25T11:46:23.059259",
   "environment_variables": {},
   "exception": null,
   "input_path": "/Users/saxenap/Documents/Dev/nanoHUB/nanoHUB/pipeline/salesforce/task_tools_map_contacts.ipynb",
   "output_path": "./.output/task_tools_map_contacts.ipynb",
   "parameters": {},
   "start_time": "2021-10-25T11:40:23.808303",
   "version": "2.1.1"
  }
 },
 "nbformat": 4,
 "nbformat_minor": 5
}