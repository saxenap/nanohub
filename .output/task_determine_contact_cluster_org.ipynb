{
 "cells": [
  {
   "cell_type": "markdown",
   "id": "42fab83e",
   "metadata": {
    "papermill": {
     "duration": 0.097228,
     "end_time": "2021-08-26T03:58:35.841655",
     "exception": false,
     "start_time": "2021-08-26T03:58:35.744427",
     "status": "completed"
    },
    "tags": []
   },
   "source": [
    "# DB2-Salesforce connector: Determine cluster organization"
   ]
  },
  {
   "cell_type": "code",
   "execution_count": 1,
   "id": "8e2f782d",
   "metadata": {
    "execution": {
     "iopub.execute_input": "2021-08-26T03:58:36.062447Z",
     "iopub.status.busy": "2021-08-26T03:58:36.061737Z",
     "iopub.status.idle": "2021-08-26T03:58:39.239861Z",
     "shell.execute_reply": "2021-08-26T03:58:39.240319Z"
    },
    "jupyter": {
     "source_hidden": true
    },
    "papermill": {
     "duration": 3.288622,
     "end_time": "2021-08-26T03:58:39.240585",
     "exception": false,
     "start_time": "2021-08-26T03:58:35.951963",
     "status": "completed"
    },
    "tags": [
     "parameters"
    ]
   },
   "outputs": [
    {
     "name": "stdout",
     "output_type": "stream",
     "text": [
      "\u001b[1mnanoHUB - Serving Students, Researchers & Instructors\u001b[0m\n"
     ]
    },
    {
     "name": "stderr",
     "output_type": "stream",
     "text": [
      "2021-08-25 23:58:37,797| INFO    | 0 keys loaded from agent\n"
     ]
    },
    {
     "name": "stdout",
     "output_type": "stream",
     "text": [
      "2021-08-25 23:58:37,797 - [INFO] sshtunnel.SSHTunnelForwarder [sshtunnel.get_agent_keys:1060]: 0 keys loaded from agent\n"
     ]
    },
    {
     "name": "stderr",
     "output_type": "stream",
     "text": [
      "2021-08-25 23:58:37,800| INFO    | 0 key(s) loaded\n"
     ]
    },
    {
     "name": "stdout",
     "output_type": "stream",
     "text": [
      "2021-08-25 23:58:37,800 - [INFO] sshtunnel.SSHTunnelForwarder [sshtunnel.get_keys:1117]: 0 key(s) loaded\n"
     ]
    },
    {
     "name": "stderr",
     "output_type": "stream",
     "text": [
      "2021-08-25 23:58:37,802| INFO    | Connecting to gateway: db2.nanohub.org:22 as user 'saxenap'\n"
     ]
    },
    {
     "name": "stdout",
     "output_type": "stream",
     "text": [
      "2021-08-25 23:58:37,802 - [INFO] sshtunnel.SSHTunnelForwarder [sshtunnel.__init__:978]: Connecting to gateway: db2.nanohub.org:22 as user 'saxenap'\n"
     ]
    },
    {
     "name": "stdout",
     "output_type": "stream",
     "text": [
      "2021-08-25 23:58:37,804 - [\u001b[1mINFO\u001b[0m] \u001b[1mnanoHUB.containers.dataaccess\u001b[0m [connection.get_connection_for:101]: Started SSH Tunnel with db2.nanohub.org\n"
     ]
    },
    {
     "name": "stderr",
     "output_type": "stream",
     "text": [
      "2021-08-25 23:58:38,697| INFO    | Opening tunnel: 0.0.0.0:52369 <> 127.0.0.1:3306\n"
     ]
    },
    {
     "name": "stdout",
     "output_type": "stream",
     "text": [
      "2021-08-25 23:58:38,697 - [INFO] sshtunnel.SSHTunnelForwarder [sshtunnel._serve_forever_wrapper:1433]: Opening tunnel: 0.0.0.0:52369 <> 127.0.0.1:3306\n"
     ]
    },
    {
     "name": "stdout",
     "output_type": "stream",
     "text": [
      "Obtained Salesforce access token ...... True\n"
     ]
    }
   ],
   "source": [
    "# API settings\n",
    "api_url = '/services/data/v43.0/sobjects'\n",
    "external_id = 'nanoHUB_user_ID__c'\n",
    "object_id = 'Contact'\n",
    "\n",
    "from nanoHUB.application import Application\n",
    "\n",
    "application = Application.get_instance()\n",
    "nanohub_db = application.new_db_engine('nanohub')\n",
    "\n",
    "salesforce = application.new_salesforce_engine()\n",
    "db_s = salesforce"
   ]
  },
  {
   "cell_type": "code",
   "execution_count": 2,
   "id": "e26ce1af",
   "metadata": {
    "execution": {
     "iopub.execute_input": "2021-08-26T03:58:39.574690Z",
     "iopub.status.busy": "2021-08-26T03:58:39.571165Z",
     "iopub.status.idle": "2021-08-26T03:58:39.578275Z",
     "shell.execute_reply": "2021-08-26T03:58:39.579452Z"
    },
    "jupyter": {
     "source_hidden": true
    },
    "papermill": {
     "duration": 0.19755,
     "end_time": "2021-08-26T03:58:39.579820",
     "exception": false,
     "start_time": "2021-08-26T03:58:39.382270",
     "status": "completed"
    },
    "tags": []
   },
   "outputs": [],
   "source": [
    "import pandas as pd\n",
    "import datetime\n",
    "import numpy as np\n",
    "pd.options.mode.chained_assignment = None"
   ]
  },
  {
   "cell_type": "markdown",
   "id": "de5282f4",
   "metadata": {
    "papermill": {
     "duration": 0.155016,
     "end_time": "2021-08-26T03:58:39.957196",
     "exception": false,
     "start_time": "2021-08-26T03:58:39.802180",
     "status": "completed"
    },
    "tags": []
   },
   "source": [
    "## Obtain contacts from DB2 \n",
    "that have last visit date within range of interest specified by day_range"
   ]
  },
  {
   "cell_type": "raw",
   "id": "6bd83664",
   "metadata": {
    "papermill": {
     "duration": 0.165916,
     "end_time": "2021-08-26T03:58:40.292481",
     "exception": false,
     "start_time": "2021-08-26T03:58:40.126565",
     "status": "completed"
    },
    "tags": []
   },
   "source": [
    "MariaDB [nanohub]> select id, name, label from jos_user_profile_fields;\n",
    "+----+-----------------+-------------------------------------------------------+\n",
    "| id | name            | label                                                 |\n",
    "+----+-----------------+-------------------------------------------------------+\n",
    "|  1 | organization    | Organization                                          |\n",
    "|  2 | orgtype         | Organization / Position Type                          |\n",
    "|  3 | countryresident | Residency                                             |\n",
    "|  4 | countryorigin   | Citizenship                                           |\n",
    "|  5 | url             | Website                                               |\n",
    "|  6 | phone           | Telephone                                             |\n",
    "|  7 | orcid           | ORCID                                                 |\n",
    "|  8 | gender          | Gender                                                |\n",
    "|  9 | race            | Racial Background                                     |\n",
    "| 10 | disability      | Disability                                            |\n",
    "| 11 | reason          | Reason                                                |\n",
    "| 12 | tags            | Interests                                             |\n",
    "| 13 | address         | Address                                               |\n",
    "| 14 | hispanic        | Hispanic Heritage                                     |\n",
    "| 15 | bio             | Biography                                             |\n",
    "| 16 | howdidyouhear   | How did you first hear about nanoHUB?                 |\n",
    "| 17 | purposeofvisit  | What is the primary purpose of your visit to nanoHUB? |\n",
    "+----+-----------------+-------------------------------------------------------+\n",
    "\n",
    "\n",
    "\n",
    "MariaDB [nanohub]> explain  jos_user_profiles;\n",
    "+---------------+------------------+------+-----+---------+----------------+\n",
    "| Field         | Type             | Null | Key | Default | Extra          |\n",
    "+---------------+------------------+------+-----+---------+----------------+\n",
    "| id            | int(11) unsigned | NO   | PRI | NULL    | auto_increment |\n",
    "| user_id       | int(11)          | NO   | MUL | NULL    |                |\n",
    "| profile_key   | varchar(100)     | NO   |     | NULL    |                |\n",
    "| profile_value | text             | NO   |     | NULL    |                |\n",
    "| ordering      | int(11)          | NO   |     | 0       |                |\n",
    "| access        | int(10)          | NO   |     | 0       |                |\n",
    "+---------------+------------------+------+-----+---------+----------------+"
   ]
  },
  {
   "cell_type": "code",
   "execution_count": 3,
   "id": "4bad161b",
   "metadata": {
    "execution": {
     "iopub.execute_input": "2021-08-26T03:58:40.566996Z",
     "iopub.status.busy": "2021-08-26T03:58:40.565800Z",
     "iopub.status.idle": "2021-08-26T03:58:40.571173Z",
     "shell.execute_reply": "2021-08-26T03:58:40.572003Z"
    },
    "jupyter": {
     "source_hidden": true
    },
    "papermill": {
     "duration": 0.160815,
     "end_time": "2021-08-26T03:58:40.572262",
     "exception": false,
     "start_time": "2021-08-26T03:58:40.411447",
     "status": "completed"
    },
    "tags": []
   },
   "outputs": [
    {
     "name": "stdout",
     "output_type": "stream",
     "text": [
      "select id, name, username, block, email, sendEmail, registerDate, lastvisitDate                     from jos_users\n"
     ]
    }
   ],
   "source": [
    "# Depending on the task, use different query and cutoff\n",
    "\n",
    "sql_query = \"select id, name, username, block, email, sendEmail, registerDate, lastvisitDate \\\n",
    "                    from jos_users\"\n",
    "\n",
    "# display\n",
    "print(sql_query)"
   ]
  },
  {
   "cell_type": "code",
   "execution_count": 4,
   "id": "1d3ab890",
   "metadata": {
    "execution": {
     "iopub.execute_input": "2021-08-26T03:58:40.848014Z",
     "iopub.status.busy": "2021-08-26T03:58:40.846930Z",
     "iopub.status.idle": "2021-08-26T03:59:07.469616Z",
     "shell.execute_reply": "2021-08-26T03:59:07.470302Z"
    },
    "jupyter": {
     "source_hidden": true
    },
    "papermill": {
     "duration": 26.762827,
     "end_time": "2021-08-26T03:59:07.470629",
     "exception": false,
     "start_time": "2021-08-26T03:58:40.707802",
     "status": "completed"
    },
    "tags": []
   },
   "outputs": [],
   "source": [
    "# connect with DB2\n",
    "df = pd.read_sql_query(sql_query, nanohub_db)\n",
    "\n",
    "# get user profile details\n",
    "profile_df = pd.read_sql_query(\"select * from jos_user_profiles where profile_key in ('orgtype', 'organization', 'orcid')\", nanohub_db)"
   ]
  },
  {
   "cell_type": "code",
   "execution_count": 5,
   "id": "55ff143b",
   "metadata": {
    "execution": {
     "iopub.execute_input": "2021-08-26T03:59:07.694215Z",
     "iopub.status.busy": "2021-08-26T03:59:07.692699Z",
     "iopub.status.idle": "2021-08-26T03:59:07.715221Z",
     "shell.execute_reply": "2021-08-26T03:59:07.714438Z"
    },
    "jupyter": {
     "source_hidden": true
    },
    "papermill": {
     "duration": 0.13566,
     "end_time": "2021-08-26T03:59:07.715441",
     "exception": false,
     "start_time": "2021-08-26T03:59:07.579781",
     "status": "completed"
    },
    "tags": []
   },
   "outputs": [
    {
     "data": {
      "text/html": [
       "<div>\n",
       "<style scoped>\n",
       "    .dataframe tbody tr th:only-of-type {\n",
       "        vertical-align: middle;\n",
       "    }\n",
       "\n",
       "    .dataframe tbody tr th {\n",
       "        vertical-align: top;\n",
       "    }\n",
       "\n",
       "    .dataframe thead th {\n",
       "        text-align: right;\n",
       "    }\n",
       "</style>\n",
       "<table border=\"1\" class=\"dataframe\">\n",
       "  <thead>\n",
       "    <tr style=\"text-align: right;\">\n",
       "      <th></th>\n",
       "      <th>id</th>\n",
       "      <th>name</th>\n",
       "      <th>username</th>\n",
       "      <th>block</th>\n",
       "      <th>email</th>\n",
       "      <th>sendEmail</th>\n",
       "      <th>registerDate</th>\n",
       "      <th>lastvisitDate</th>\n",
       "    </tr>\n",
       "  </thead>\n",
       "  <tbody>\n",
       "    <tr>\n",
       "      <th>0</th>\n",
       "      <td>998</td>\n",
       "      <td>hubrepo hubrepo</td>\n",
       "      <td>hubrepo</td>\n",
       "      <td>0</td>\n",
       "      <td>nkissebe@gmail.com</td>\n",
       "      <td>0</td>\n",
       "      <td>2014-11-13 21:09:09</td>\n",
       "      <td>NaT</td>\n",
       "    </tr>\n",
       "  </tbody>\n",
       "</table>\n",
       "</div>"
      ],
      "text/plain": [
       "    id             name username  block               email  sendEmail  \\\n",
       "0  998  hubrepo hubrepo  hubrepo      0  nkissebe@gmail.com          0   \n",
       "\n",
       "         registerDate lastvisitDate  \n",
       "0 2014-11-13 21:09:09           NaT  "
      ]
     },
     "metadata": {},
     "output_type": "display_data"
    },
    {
     "data": {
      "text/html": [
       "<div>\n",
       "<style scoped>\n",
       "    .dataframe tbody tr th:only-of-type {\n",
       "        vertical-align: middle;\n",
       "    }\n",
       "\n",
       "    .dataframe tbody tr th {\n",
       "        vertical-align: top;\n",
       "    }\n",
       "\n",
       "    .dataframe thead th {\n",
       "        text-align: right;\n",
       "    }\n",
       "</style>\n",
       "<table border=\"1\" class=\"dataframe\">\n",
       "  <thead>\n",
       "    <tr style=\"text-align: right;\">\n",
       "      <th></th>\n",
       "      <th>id</th>\n",
       "      <th>user_id</th>\n",
       "      <th>profile_key</th>\n",
       "      <th>profile_value</th>\n",
       "      <th>ordering</th>\n",
       "      <th>access</th>\n",
       "    </tr>\n",
       "  </thead>\n",
       "  <tbody>\n",
       "    <tr>\n",
       "      <th>0</th>\n",
       "      <td>1</td>\n",
       "      <td>15623</td>\n",
       "      <td>orgtype</td>\n",
       "      <td>university</td>\n",
       "      <td>2</td>\n",
       "      <td>5</td>\n",
       "    </tr>\n",
       "  </tbody>\n",
       "</table>\n",
       "</div>"
      ],
      "text/plain": [
       "   id  user_id profile_key profile_value  ordering  access\n",
       "0   1    15623     orgtype    university         2       5"
      ]
     },
     "metadata": {},
     "output_type": "display_data"
    }
   ],
   "source": [
    "# display\n",
    "display(df.head(1))\n",
    "\n",
    "display(profile_df.head(1))"
   ]
  },
  {
   "cell_type": "code",
   "execution_count": 6,
   "id": "8f1b3842",
   "metadata": {
    "execution": {
     "iopub.execute_input": "2021-08-26T03:59:07.939360Z",
     "iopub.status.busy": "2021-08-26T03:59:07.938648Z",
     "iopub.status.idle": "2021-08-26T03:59:08.885956Z",
     "shell.execute_reply": "2021-08-26T03:59:08.886561Z"
    },
    "jupyter": {
     "source_hidden": true
    },
    "papermill": {
     "duration": 1.070219,
     "end_time": "2021-08-26T03:59:08.886788",
     "exception": false,
     "start_time": "2021-08-26T03:59:07.816569",
     "status": "completed"
    },
    "tags": []
   },
   "outputs": [
    {
     "data": {
      "text/html": [
       "<div>\n",
       "<style scoped>\n",
       "    .dataframe tbody tr th:only-of-type {\n",
       "        vertical-align: middle;\n",
       "    }\n",
       "\n",
       "    .dataframe tbody tr th {\n",
       "        vertical-align: top;\n",
       "    }\n",
       "\n",
       "    .dataframe thead th {\n",
       "        text-align: right;\n",
       "    }\n",
       "</style>\n",
       "<table border=\"1\" class=\"dataframe\">\n",
       "  <thead>\n",
       "    <tr style=\"text-align: right;\">\n",
       "      <th></th>\n",
       "      <th>id</th>\n",
       "      <th>name</th>\n",
       "      <th>username</th>\n",
       "      <th>block</th>\n",
       "      <th>email</th>\n",
       "      <th>sendEmail</th>\n",
       "      <th>registerDate</th>\n",
       "      <th>lastvisitDate</th>\n",
       "      <th>orgtype</th>\n",
       "      <th>organization</th>\n",
       "      <th>orcid</th>\n",
       "    </tr>\n",
       "  </thead>\n",
       "  <tbody>\n",
       "    <tr>\n",
       "      <th>0</th>\n",
       "      <td>998</td>\n",
       "      <td>hubrepo hubrepo</td>\n",
       "      <td>hubrepo</td>\n",
       "      <td>0</td>\n",
       "      <td>nkissebe@gmail.com</td>\n",
       "      <td>0</td>\n",
       "      <td>2014-11-13 21:09:09</td>\n",
       "      <td>NaT</td>\n",
       "      <td>NaN</td>\n",
       "      <td>NaN</td>\n",
       "      <td>NaN</td>\n",
       "    </tr>\n",
       "  </tbody>\n",
       "</table>\n",
       "</div>"
      ],
      "text/plain": [
       "    id             name username  block               email  sendEmail  \\\n",
       "0  998  hubrepo hubrepo  hubrepo      0  nkissebe@gmail.com          0   \n",
       "\n",
       "         registerDate lastvisitDate orgtype organization orcid  \n",
       "0 2014-11-13 21:09:09           NaT     NaN          NaN   NaN  "
      ]
     },
     "metadata": {},
     "output_type": "display_data"
    }
   ],
   "source": [
    "df = pd.merge(df, profile_df[profile_df['profile_key'] == 'orgtype'][['user_id', 'profile_value']],\\\n",
    "                         how='left', left_on='id', right_on='user_id')\\\n",
    "    .drop(columns=['user_id']).rename(columns={'profile_value':'orgtype'})\n",
    "\n",
    "df = pd.merge(df, profile_df[profile_df['profile_key'] == 'organization'][['user_id', 'profile_value']],\\\n",
    "                         how='left', left_on='id', right_on='user_id')\\\n",
    "    .drop(columns=['user_id']).rename(columns={'profile_value':'organization'})\n",
    "\n",
    "df = pd.merge(df, profile_df[profile_df['profile_key'] == 'orcid'][['user_id', 'profile_value']],\\\n",
    "                         how='left', left_on='id', right_on='user_id')\\\n",
    "    .drop(columns=['user_id']).rename(columns={'profile_value':'orcid'})\n",
    "\n",
    "# display\n",
    "display(df.head(1))"
   ]
  },
  {
   "cell_type": "code",
   "execution_count": 7,
   "id": "3cf1e491",
   "metadata": {
    "execution": {
     "iopub.execute_input": "2021-08-26T03:59:09.116985Z",
     "iopub.status.busy": "2021-08-26T03:59:09.116188Z",
     "iopub.status.idle": "2021-08-26T04:02:28.148062Z",
     "shell.execute_reply": "2021-08-26T04:02:28.148735Z"
    },
    "jupyter": {
     "source_hidden": true
    },
    "papermill": {
     "duration": 199.145035,
     "end_time": "2021-08-26T04:02:28.149352",
     "exception": false,
     "start_time": "2021-08-26T03:59:09.004317",
     "status": "completed"
    },
    "tags": []
   },
   "outputs": [
    {
     "name": "stderr",
     "output_type": "stream",
     "text": [
      "2021-08-25 23:59:09,115| INFO    | 0 keys loaded from agent\n"
     ]
    },
    {
     "name": "stdout",
     "output_type": "stream",
     "text": [
      "2021-08-25 23:59:09,115 - [INFO] sshtunnel.SSHTunnelForwarder [sshtunnel.get_agent_keys:1060]: 0 keys loaded from agent\n"
     ]
    },
    {
     "name": "stderr",
     "output_type": "stream",
     "text": [
      "2021-08-25 23:59:09,117| INFO    | 0 key(s) loaded\n"
     ]
    },
    {
     "name": "stdout",
     "output_type": "stream",
     "text": [
      "2021-08-25 23:59:09,117 - [INFO] sshtunnel.SSHTunnelForwarder [sshtunnel.get_keys:1117]: 0 key(s) loaded\n"
     ]
    },
    {
     "name": "stderr",
     "output_type": "stream",
     "text": [
      "2021-08-25 23:59:09,119| INFO    | Connecting to gateway: db2.nanohub.org:22 as user 'saxenap'\n"
     ]
    },
    {
     "name": "stdout",
     "output_type": "stream",
     "text": [
      "2021-08-25 23:59:09,119 - [INFO] sshtunnel.SSHTunnelForwarder [sshtunnel.__init__:978]: Connecting to gateway: db2.nanohub.org:22 as user 'saxenap'\n"
     ]
    },
    {
     "name": "stdout",
     "output_type": "stream",
     "text": [
      "2021-08-25 23:59:09,120 - [\u001b[1mINFO\u001b[0m] \u001b[1mnanoHUB.containers.dataaccess\u001b[0m [connection.get_connection_for:101]: Started SSH Tunnel with db2.nanohub.org\n"
     ]
    },
    {
     "name": "stderr",
     "output_type": "stream",
     "text": [
      "2021-08-25 23:59:09,436| INFO    | Opening tunnel: 0.0.0.0:52394 <> 127.0.0.1:3306\n"
     ]
    },
    {
     "name": "stdout",
     "output_type": "stream",
     "text": [
      "2021-08-25 23:59:09,436 - [INFO] sshtunnel.SSHTunnelForwarder [sshtunnel._serve_forever_wrapper:1433]: Opening tunnel: 0.0.0.0:52394 <> 127.0.0.1:3306\n"
     ]
    }
   ],
   "source": [
    "# Obtain company domain information from DB2\n",
    "wang159_myrmekes_db = application.new_db_engine('wang159_myrmekes')\n",
    "domain_df = pd.read_sql_query(\"select name as domain_name, domain, industry, `size range` as size, country \\\n",
    "from wang159_myrmekes.companies_email_domain\", wang159_myrmekes_db)"
   ]
  },
  {
   "cell_type": "code",
   "execution_count": 8,
   "id": "55df7576",
   "metadata": {
    "execution": {
     "iopub.execute_input": "2021-08-26T04:02:34.776594Z",
     "iopub.status.busy": "2021-08-26T04:02:28.942826Z",
     "iopub.status.idle": "2021-08-26T04:02:39.970781Z",
     "shell.execute_reply": "2021-08-26T04:02:39.971621Z"
    },
    "jupyter": {
     "source_hidden": true
    },
    "papermill": {
     "duration": 11.599983,
     "end_time": "2021-08-26T04:02:39.971924",
     "exception": false,
     "start_time": "2021-08-26T04:02:28.371941",
     "status": "completed"
    },
    "tags": []
   },
   "outputs": [],
   "source": [
    "# make sure domain is unique and drop NaN\n",
    "domain_df = domain_df.drop_duplicates(subset='domain', keep='first').dropna()"
   ]
  },
  {
   "cell_type": "code",
   "execution_count": 9,
   "id": "7a184615",
   "metadata": {
    "execution": {
     "iopub.execute_input": "2021-08-26T04:02:40.369904Z",
     "iopub.status.busy": "2021-08-26T04:02:40.357521Z",
     "iopub.status.idle": "2021-08-26T04:02:40.606546Z",
     "shell.execute_reply": "2021-08-26T04:02:40.607292Z"
    },
    "jupyter": {
     "source_hidden": true
    },
    "papermill": {
     "duration": 0.442433,
     "end_time": "2021-08-26T04:02:40.607535",
     "exception": false,
     "start_time": "2021-08-26T04:02:40.165102",
     "status": "completed"
    },
    "tags": []
   },
   "outputs": [],
   "source": [
    "# get email domain of nanoHUB users\n",
    "def get_domain(this_email):\n",
    "    seg_list = this_email.split('@')\n",
    "    \n",
    "    if len(seg_list) == 2:\n",
    "        return seg_list[1].lower()\n",
    "    else:\n",
    "        return None\n",
    "    \n",
    "df['email_domain'] = df['email'].apply(get_domain)"
   ]
  },
  {
   "cell_type": "code",
   "execution_count": 10,
   "id": "8f253c33",
   "metadata": {
    "execution": {
     "iopub.execute_input": "2021-08-26T04:02:42.056890Z",
     "iopub.status.busy": "2021-08-26T04:02:42.055474Z",
     "iopub.status.idle": "2021-08-26T04:02:42.384884Z",
     "shell.execute_reply": "2021-08-26T04:02:42.386017Z"
    },
    "jupyter": {
     "source_hidden": true
    },
    "papermill": {
     "duration": 1.58099,
     "end_time": "2021-08-26T04:02:42.386249",
     "exception": false,
     "start_time": "2021-08-26T04:02:40.805259",
     "status": "completed"
    },
    "tags": []
   },
   "outputs": [
    {
     "data": {
      "text/html": [
       "<div>\n",
       "<style scoped>\n",
       "    .dataframe tbody tr th:only-of-type {\n",
       "        vertical-align: middle;\n",
       "    }\n",
       "\n",
       "    .dataframe tbody tr th {\n",
       "        vertical-align: top;\n",
       "    }\n",
       "\n",
       "    .dataframe thead th {\n",
       "        text-align: right;\n",
       "    }\n",
       "</style>\n",
       "<table border=\"1\" class=\"dataframe\">\n",
       "  <thead>\n",
       "    <tr style=\"text-align: right;\">\n",
       "      <th></th>\n",
       "      <th>id</th>\n",
       "      <th>name</th>\n",
       "      <th>username</th>\n",
       "      <th>block</th>\n",
       "      <th>email</th>\n",
       "      <th>sendEmail</th>\n",
       "      <th>registerDate</th>\n",
       "      <th>lastvisitDate</th>\n",
       "      <th>orgtype</th>\n",
       "      <th>organization</th>\n",
       "      <th>orcid</th>\n",
       "      <th>email_domain</th>\n",
       "      <th>domain_name</th>\n",
       "      <th>domain</th>\n",
       "      <th>industry</th>\n",
       "      <th>size</th>\n",
       "      <th>country</th>\n",
       "    </tr>\n",
       "  </thead>\n",
       "  <tbody>\n",
       "    <tr>\n",
       "      <th>0</th>\n",
       "      <td>998</td>\n",
       "      <td>hubrepo hubrepo</td>\n",
       "      <td>hubrepo</td>\n",
       "      <td>0</td>\n",
       "      <td>nkissebe@gmail.com</td>\n",
       "      <td>0</td>\n",
       "      <td>2014-11-13 21:09:09</td>\n",
       "      <td>NaT</td>\n",
       "      <td>NaN</td>\n",
       "      <td>NaN</td>\n",
       "      <td>NaN</td>\n",
       "      <td>gmail.com</td>\n",
       "      <td>NaN</td>\n",
       "      <td>NaN</td>\n",
       "      <td>NaN</td>\n",
       "      <td>NaN</td>\n",
       "      <td>NaN</td>\n",
       "    </tr>\n",
       "    <tr>\n",
       "      <th>1</th>\n",
       "      <td>1000</td>\n",
       "      <td>CMS Admin Manager</td>\n",
       "      <td>admin</td>\n",
       "      <td>0</td>\n",
       "      <td>support@nanohub.org</td>\n",
       "      <td>0</td>\n",
       "      <td>NaT</td>\n",
       "      <td>NaT</td>\n",
       "      <td>NaN</td>\n",
       "      <td>NaN</td>\n",
       "      <td>NaN</td>\n",
       "      <td>nanohub.org</td>\n",
       "      <td>NaN</td>\n",
       "      <td>NaN</td>\n",
       "      <td>NaN</td>\n",
       "      <td>NaN</td>\n",
       "      <td>NaN</td>\n",
       "    </tr>\n",
       "  </tbody>\n",
       "</table>\n",
       "</div>"
      ],
      "text/plain": [
       "     id               name username  block                email  sendEmail  \\\n",
       "0   998    hubrepo hubrepo  hubrepo      0   nkissebe@gmail.com          0   \n",
       "1  1000  CMS Admin Manager    admin      0  support@nanohub.org          0   \n",
       "\n",
       "         registerDate lastvisitDate orgtype organization orcid email_domain  \\\n",
       "0 2014-11-13 21:09:09           NaT     NaN          NaN   NaN    gmail.com   \n",
       "1                 NaT           NaT     NaN          NaN   NaN  nanohub.org   \n",
       "\n",
       "  domain_name domain industry size country  \n",
       "0         NaN    NaN      NaN  NaN     NaN  \n",
       "1         NaN    NaN      NaN  NaN     NaN  "
      ]
     },
     "metadata": {},
     "output_type": "display_data"
    }
   ],
   "source": [
    "df = pd.merge(df, domain_df[domain_df.domain.isin(df['email_domain'].unique()) & ~domain_df.domain.isna()],\\\n",
    "         how='left', left_on='email_domain', right_on='domain')\n",
    "\n",
    "# display\n",
    "display(df.head(2))"
   ]
  },
  {
   "cell_type": "markdown",
   "id": "ef352a14",
   "metadata": {
    "papermill": {
     "duration": 0.164471,
     "end_time": "2021-08-26T04:02:42.734087",
     "exception": false,
     "start_time": "2021-08-26T04:02:42.569616",
     "status": "completed"
    },
    "tags": []
   },
   "source": [
    "## Obtain newly updated organization IDs from Salesforce"
   ]
  },
  {
   "cell_type": "code",
   "execution_count": 11,
   "id": "f6d13ae1",
   "metadata": {
    "execution": {
     "iopub.execute_input": "2021-08-26T04:02:43.125200Z",
     "iopub.status.busy": "2021-08-26T04:02:43.122530Z",
     "iopub.status.idle": "2021-08-26T04:03:17.753868Z",
     "shell.execute_reply": "2021-08-26T04:03:17.754603Z"
    },
    "jupyter": {
     "source_hidden": true
    },
    "papermill": {
     "duration": 34.84146,
     "end_time": "2021-08-26T04:03:17.754891",
     "exception": false,
     "start_time": "2021-08-26T04:02:42.913431",
     "status": "completed"
    },
    "tags": []
   },
   "outputs": [
    {
     "name": "stdout",
     "output_type": "stream",
     "text": [
      "[Success] Bulk job creation successful. Job ID = 7505w00000ZJKfgAAH\n"
     ]
    },
    {
     "name": "stdout",
     "output_type": "stream",
     "text": [
      "{\"id\":\"7505w00000ZJKfgAAH\",\"operation\":\"query\",\"object\":\"ContactToolClusterAssociation__c\",\"createdById\":\"0055w00000DM5bOAAT\",\"createdDate\":\"2021-08-26T04:02:43.000+0000\",\"systemModstamp\":\"2021-08-26T04:02:43.000+0000\",\"state\":\"UploadComplete\",\"concurrencyMode\":\"Parallel\",\"contentType\":\"CSV\",\"apiVersion\":47.0,\"jobType\":\"V2Query\",\"lineEnding\":\"LF\",\"columnDelimiter\":\"COMMA\",\"retries\":0,\"totalProcessingTime\":0}\n"
     ]
    },
    {
     "name": "stdout",
     "output_type": "stream",
     "text": [
      "{\"id\":\"7505w00000ZJKfgAAH\",\"operation\":\"query\",\"object\":\"ContactToolClusterAssociation__c\",\"createdById\":\"0055w00000DM5bOAAT\",\"createdDate\":\"2021-08-26T04:02:43.000+0000\",\"systemModstamp\":\"2021-08-26T04:02:46.000+0000\",\"state\":\"InProgress\",\"concurrencyMode\":\"Parallel\",\"contentType\":\"CSV\",\"apiVersion\":47.0,\"jobType\":\"V2Query\",\"lineEnding\":\"LF\",\"columnDelimiter\":\"COMMA\",\"numberRecordsProcessed\":0,\"retries\":0,\"totalProcessingTime\":0}\n"
     ]
    },
    {
     "name": "stdout",
     "output_type": "stream",
     "text": [
      "{\"id\":\"7505w00000ZJKfgAAH\",\"operation\":\"query\",\"object\":\"ContactToolClusterAssociation__c\",\"createdById\":\"0055w00000DM5bOAAT\",\"createdDate\":\"2021-08-26T04:02:43.000+0000\",\"systemModstamp\":\"2021-08-26T04:02:46.000+0000\",\"state\":\"InProgress\",\"concurrencyMode\":\"Parallel\",\"contentType\":\"CSV\",\"apiVersion\":47.0,\"jobType\":\"V2Query\",\"lineEnding\":\"LF\",\"columnDelimiter\":\"COMMA\",\"numberRecordsProcessed\":0,\"retries\":0,\"totalProcessingTime\":0}\n"
     ]
    },
    {
     "name": "stdout",
     "output_type": "stream",
     "text": [
      "{\"id\":\"7505w00000ZJKfgAAH\",\"operation\":\"query\",\"object\":\"ContactToolClusterAssociation__c\",\"createdById\":\"0055w00000DM5bOAAT\",\"createdDate\":\"2021-08-26T04:02:43.000+0000\",\"systemModstamp\":\"2021-08-26T04:03:06.000+0000\",\"state\":\"JobComplete\",\"concurrencyMode\":\"Parallel\",\"contentType\":\"CSV\",\"apiVersion\":47.0,\"jobType\":\"V2Query\",\"lineEnding\":\"LF\",\"columnDelimiter\":\"COMMA\",\"numberRecordsProcessed\":98079,\"retries\":0,\"totalProcessingTime\":17376}\n",
      "[Success] Bulk job completed successfully.\n"
     ]
    },
    {
     "data": {
      "text/html": [
       "<div>\n",
       "<style scoped>\n",
       "    .dataframe tbody tr th:only-of-type {\n",
       "        vertical-align: middle;\n",
       "    }\n",
       "\n",
       "    .dataframe tbody tr th {\n",
       "        vertical-align: top;\n",
       "    }\n",
       "\n",
       "    .dataframe thead th {\n",
       "        text-align: right;\n",
       "    }\n",
       "</style>\n",
       "<table border=\"1\" class=\"dataframe\">\n",
       "  <thead>\n",
       "    <tr style=\"text-align: right;\">\n",
       "      <th></th>\n",
       "      <th>Contact__c</th>\n",
       "      <th>Id</th>\n",
       "      <th>Tool_Usage_Cluster__c</th>\n",
       "    </tr>\n",
       "  </thead>\n",
       "  <tbody>\n",
       "    <tr>\n",
       "      <th>0</th>\n",
       "      <td>0035w00003NeIaTAAV</td>\n",
       "      <td>a0x5w00000cRtKRAA0</td>\n",
       "      <td>a0w5w00000AXc7TAAT</td>\n",
       "    </tr>\n",
       "    <tr>\n",
       "      <th>1</th>\n",
       "      <td>0035w00003NeIaFAAV</td>\n",
       "      <td>a0x5w00000cRtU8AAK</td>\n",
       "      <td>a0w5w00000AXc7TAAT</td>\n",
       "    </tr>\n",
       "    <tr>\n",
       "      <th>2</th>\n",
       "      <td>0035w00003NeIaXAAV</td>\n",
       "      <td>a0x5w00000cRtU9AAK</td>\n",
       "      <td>a0w5w00000AXc7TAAT</td>\n",
       "    </tr>\n",
       "  </tbody>\n",
       "</table>\n",
       "</div>"
      ],
      "text/plain": [
       "           Contact__c                  Id Tool_Usage_Cluster__c\n",
       "0  0035w00003NeIaTAAV  a0x5w00000cRtKRAA0    a0w5w00000AXc7TAAT\n",
       "1  0035w00003NeIaFAAV  a0x5w00000cRtU8AAK    a0w5w00000AXc7TAAT\n",
       "2  0035w00003NeIaXAAV  a0x5w00000cRtU9AAK    a0w5w00000AXc7TAAT"
      ]
     },
     "execution_count": 11,
     "metadata": {},
     "output_type": "execute_result"
    }
   ],
   "source": [
    "# get Salesforce ID for organizations\n",
    "lim_val = 5*10**6\n",
    "sf_cluster_df = db_s.query_data('SELECT Id, Contact__c, Tool_Usage_Cluster__c FROM ContactToolClusterAssociation__c limit '\\\n",
    "                +str(lim_val))\n",
    "\n",
    "# display\n",
    "sf_cluster_df.head(3)"
   ]
  },
  {
   "cell_type": "code",
   "execution_count": 12,
   "id": "2f51cd3f",
   "metadata": {
    "execution": {
     "iopub.execute_input": "2021-08-26T04:03:18.062441Z",
     "iopub.status.busy": "2021-08-26T04:03:18.061528Z",
     "iopub.status.idle": "2021-08-26T04:03:18.065728Z",
     "shell.execute_reply": "2021-08-26T04:03:18.066448Z"
    },
    "jupyter": {
     "source_hidden": true
    },
    "papermill": {
     "duration": 0.15941,
     "end_time": "2021-08-26T04:03:18.066638",
     "exception": false,
     "start_time": "2021-08-26T04:03:17.907228",
     "status": "completed"
    },
    "tags": []
   },
   "outputs": [
    {
     "name": "stdout",
     "output_type": "stream",
     "text": [
      "(98079, 3)\n"
     ]
    }
   ],
   "source": [
    "print(sf_cluster_df.shape)"
   ]
  },
  {
   "cell_type": "code",
   "execution_count": 13,
   "id": "146d0059",
   "metadata": {
    "execution": {
     "iopub.execute_input": "2021-08-26T04:03:18.373762Z",
     "iopub.status.busy": "2021-08-26T04:03:18.372830Z",
     "iopub.status.idle": "2021-08-26T04:03:57.195853Z",
     "shell.execute_reply": "2021-08-26T04:03:57.197413Z"
    },
    "jupyter": {
     "source_hidden": true
    },
    "papermill": {
     "duration": 38.979347,
     "end_time": "2021-08-26T04:03:57.197889",
     "exception": false,
     "start_time": "2021-08-26T04:03:18.218542",
     "status": "completed"
    },
    "tags": []
   },
   "outputs": [
    {
     "name": "stdout",
     "output_type": "stream",
     "text": [
      "[Success] Bulk job creation successful. Job ID = 7505w00000ZJKfqAAH\n"
     ]
    },
    {
     "name": "stdout",
     "output_type": "stream",
     "text": [
      "{\"id\":\"7505w00000ZJKfqAAH\",\"operation\":\"query\",\"object\":\"Contact\",\"createdById\":\"0055w00000DM5bOAAT\",\"createdDate\":\"2021-08-26T04:03:18.000+0000\",\"systemModstamp\":\"2021-08-26T04:03:18.000+0000\",\"state\":\"UploadComplete\",\"concurrencyMode\":\"Parallel\",\"contentType\":\"CSV\",\"apiVersion\":47.0,\"jobType\":\"V2Query\",\"lineEnding\":\"LF\",\"columnDelimiter\":\"COMMA\",\"retries\":0,\"totalProcessingTime\":0}\n"
     ]
    },
    {
     "name": "stdout",
     "output_type": "stream",
     "text": [
      "{\"id\":\"7505w00000ZJKfqAAH\",\"operation\":\"query\",\"object\":\"Contact\",\"createdById\":\"0055w00000DM5bOAAT\",\"createdDate\":\"2021-08-26T04:03:18.000+0000\",\"systemModstamp\":\"2021-08-26T04:03:25.000+0000\",\"state\":\"InProgress\",\"concurrencyMode\":\"Parallel\",\"contentType\":\"CSV\",\"apiVersion\":47.0,\"jobType\":\"V2Query\",\"lineEnding\":\"LF\",\"columnDelimiter\":\"COMMA\",\"numberRecordsProcessed\":1303,\"retries\":0,\"totalProcessingTime\":401}\n"
     ]
    },
    {
     "name": "stdout",
     "output_type": "stream",
     "text": [
      "{\"id\":\"7505w00000ZJKfqAAH\",\"operation\":\"query\",\"object\":\"Contact\",\"createdById\":\"0055w00000DM5bOAAT\",\"createdDate\":\"2021-08-26T04:03:18.000+0000\",\"systemModstamp\":\"2021-08-26T04:03:25.000+0000\",\"state\":\"InProgress\",\"concurrencyMode\":\"Parallel\",\"contentType\":\"CSV\",\"apiVersion\":47.0,\"jobType\":\"V2Query\",\"lineEnding\":\"LF\",\"columnDelimiter\":\"COMMA\",\"numberRecordsProcessed\":1303,\"retries\":0,\"totalProcessingTime\":401}\n"
     ]
    },
    {
     "name": "stdout",
     "output_type": "stream",
     "text": [
      "{\"id\":\"7505w00000ZJKfqAAH\",\"operation\":\"query\",\"object\":\"Contact\",\"createdById\":\"0055w00000DM5bOAAT\",\"createdDate\":\"2021-08-26T04:03:18.000+0000\",\"systemModstamp\":\"2021-08-26T04:03:43.000+0000\",\"state\":\"JobComplete\",\"concurrencyMode\":\"Parallel\",\"contentType\":\"CSV\",\"apiVersion\":47.0,\"jobType\":\"V2Query\",\"lineEnding\":\"LF\",\"columnDelimiter\":\"COMMA\",\"numberRecordsProcessed\":253574,\"retries\":0,\"totalProcessingTime\":17383}\n",
      "[Success] Bulk job completed successfully.\n"
     ]
    },
    {
     "data": {
      "text/html": [
       "<div>\n",
       "<style scoped>\n",
       "    .dataframe tbody tr th:only-of-type {\n",
       "        vertical-align: middle;\n",
       "    }\n",
       "\n",
       "    .dataframe tbody tr th {\n",
       "        vertical-align: top;\n",
       "    }\n",
       "\n",
       "    .dataframe thead th {\n",
       "        text-align: right;\n",
       "    }\n",
       "</style>\n",
       "<table border=\"1\" class=\"dataframe\">\n",
       "  <thead>\n",
       "    <tr style=\"text-align: right;\">\n",
       "      <th></th>\n",
       "      <th>Id</th>\n",
       "      <th>Name</th>\n",
       "      <th>Organization_Overwrite__c</th>\n",
       "      <th>Organization__c</th>\n",
       "      <th>Organization_composite__c</th>\n",
       "      <th>Organization_email_derived__c</th>\n",
       "    </tr>\n",
       "  </thead>\n",
       "  <tbody>\n",
       "    <tr>\n",
       "      <th>0</th>\n",
       "      <td>0035w000031Vsp1AAC</td>\n",
       "      <td>hubrepo hubrepo</td>\n",
       "      <td>NaN</td>\n",
       "      <td>NaN</td>\n",
       "      <td>NaN</td>\n",
       "      <td>NaN</td>\n",
       "    </tr>\n",
       "    <tr>\n",
       "      <th>1</th>\n",
       "      <td>0035w000031Vsp2AAC</td>\n",
       "      <td>nanoHUB support</td>\n",
       "      <td>NaN</td>\n",
       "      <td>purdue university</td>\n",
       "      <td>a0r5w00000V42cCAAR</td>\n",
       "      <td>a0r5w00000V42cCAAR</td>\n",
       "    </tr>\n",
       "    <tr>\n",
       "      <th>2</th>\n",
       "      <td>0035w000031Vsp3AAC</td>\n",
       "      <td>Grid Statistics</td>\n",
       "      <td>NaN</td>\n",
       "      <td>purdue university</td>\n",
       "      <td>a0r5w00000V42cCAAR</td>\n",
       "      <td>a0r5w00000V42cCAAR</td>\n",
       "    </tr>\n",
       "  </tbody>\n",
       "</table>\n",
       "</div>"
      ],
      "text/plain": [
       "                   Id             Name Organization_Overwrite__c  \\\n",
       "0  0035w000031Vsp1AAC  hubrepo hubrepo                       NaN   \n",
       "1  0035w000031Vsp2AAC  nanoHUB support                       NaN   \n",
       "2  0035w000031Vsp3AAC  Grid Statistics                       NaN   \n",
       "\n",
       "     Organization__c Organization_composite__c Organization_email_derived__c  \n",
       "0                NaN                       NaN                           NaN  \n",
       "1  purdue university        a0r5w00000V42cCAAR            a0r5w00000V42cCAAR  \n",
       "2  purdue university        a0r5w00000V42cCAAR            a0r5w00000V42cCAAR  "
      ]
     },
     "execution_count": 13,
     "metadata": {},
     "output_type": "execute_result"
    }
   ],
   "source": [
    "# get Contacts from Salesforce\n",
    "sf_contact_df = db_s.query_data('SELECT Id, Name, Organization__c, Organization_composite__c, \\\n",
    "Organization_email_derived__c, Organization_\\\n",
    "Overwrite__c FROM Contact')\n",
    "#db_s.query_data('SELECT Id, Organization__c, Organization_email_derived__c, Organization_Overwrite__c FROM Contact')\n",
    "\n",
    "# display\n",
    "sf_contact_df.head(3)"
   ]
  },
  {
   "cell_type": "code",
   "execution_count": 14,
   "id": "1335fc3a",
   "metadata": {
    "execution": {
     "iopub.execute_input": "2021-08-26T04:03:57.698491Z",
     "iopub.status.busy": "2021-08-26T04:03:57.696423Z",
     "iopub.status.idle": "2021-08-26T04:04:52.592717Z",
     "shell.execute_reply": "2021-08-26T04:04:52.593189Z"
    },
    "jupyter": {
     "source_hidden": true
    },
    "papermill": {
     "duration": 55.14745,
     "end_time": "2021-08-26T04:04:52.593508",
     "exception": false,
     "start_time": "2021-08-26T04:03:57.446058",
     "status": "completed"
    },
    "tags": []
   },
   "outputs": [
    {
     "name": "stdout",
     "output_type": "stream",
     "text": [
      "[Success] Bulk job creation successful. Job ID = 7505w00000ZJKg0AAH\n"
     ]
    },
    {
     "name": "stdout",
     "output_type": "stream",
     "text": [
      "{\"id\":\"7505w00000ZJKg0AAH\",\"operation\":\"query\",\"object\":\"organization__c\",\"createdById\":\"0055w00000DM5bOAAT\",\"createdDate\":\"2021-08-26T04:03:58.000+0000\",\"systemModstamp\":\"2021-08-26T04:03:58.000+0000\",\"state\":\"UploadComplete\",\"concurrencyMode\":\"Parallel\",\"contentType\":\"CSV\",\"apiVersion\":47.0,\"jobType\":\"V2Query\",\"lineEnding\":\"LF\",\"columnDelimiter\":\"COMMA\",\"retries\":0,\"totalProcessingTime\":0}\n"
     ]
    },
    {
     "name": "stdout",
     "output_type": "stream",
     "text": [
      "{\"id\":\"7505w00000ZJKg0AAH\",\"operation\":\"query\",\"object\":\"organization__c\",\"createdById\":\"0055w00000DM5bOAAT\",\"createdDate\":\"2021-08-26T04:03:58.000+0000\",\"systemModstamp\":\"2021-08-26T04:03:59.000+0000\",\"state\":\"InProgress\",\"concurrencyMode\":\"Parallel\",\"contentType\":\"CSV\",\"apiVersion\":47.0,\"jobType\":\"V2Query\",\"lineEnding\":\"LF\",\"columnDelimiter\":\"COMMA\",\"numberRecordsProcessed\":0,\"retries\":0,\"totalProcessingTime\":0}\n"
     ]
    },
    {
     "name": "stdout",
     "output_type": "stream",
     "text": [
      "{\"id\":\"7505w00000ZJKg0AAH\",\"operation\":\"query\",\"object\":\"organization__c\",\"createdById\":\"0055w00000DM5bOAAT\",\"createdDate\":\"2021-08-26T04:03:58.000+0000\",\"systemModstamp\":\"2021-08-26T04:03:59.000+0000\",\"state\":\"InProgress\",\"concurrencyMode\":\"Parallel\",\"contentType\":\"CSV\",\"apiVersion\":47.0,\"jobType\":\"V2Query\",\"lineEnding\":\"LF\",\"columnDelimiter\":\"COMMA\",\"numberRecordsProcessed\":0,\"retries\":0,\"totalProcessingTime\":0}\n"
     ]
    },
    {
     "name": "stdout",
     "output_type": "stream",
     "text": [
      "{\"id\":\"7505w00000ZJKg0AAH\",\"operation\":\"query\",\"object\":\"organization__c\",\"createdById\":\"0055w00000DM5bOAAT\",\"createdDate\":\"2021-08-26T04:03:58.000+0000\",\"systemModstamp\":\"2021-08-26T04:03:59.000+0000\",\"state\":\"InProgress\",\"concurrencyMode\":\"Parallel\",\"contentType\":\"CSV\",\"apiVersion\":47.0,\"jobType\":\"V2Query\",\"lineEnding\":\"LF\",\"columnDelimiter\":\"COMMA\",\"numberRecordsProcessed\":0,\"retries\":0,\"totalProcessingTime\":0}\n"
     ]
    },
    {
     "name": "stdout",
     "output_type": "stream",
     "text": [
      "{\"id\":\"7505w00000ZJKg0AAH\",\"operation\":\"query\",\"object\":\"organization__c\",\"createdById\":\"0055w00000DM5bOAAT\",\"createdDate\":\"2021-08-26T04:03:58.000+0000\",\"systemModstamp\":\"2021-08-26T04:03:59.000+0000\",\"state\":\"InProgress\",\"concurrencyMode\":\"Parallel\",\"contentType\":\"CSV\",\"apiVersion\":47.0,\"jobType\":\"V2Query\",\"lineEnding\":\"LF\",\"columnDelimiter\":\"COMMA\",\"numberRecordsProcessed\":0,\"retries\":0,\"totalProcessingTime\":0}\n"
     ]
    },
    {
     "name": "stdout",
     "output_type": "stream",
     "text": [
      "{\"id\":\"7505w00000ZJKg0AAH\",\"operation\":\"query\",\"object\":\"organization__c\",\"createdById\":\"0055w00000DM5bOAAT\",\"createdDate\":\"2021-08-26T04:03:58.000+0000\",\"systemModstamp\":\"2021-08-26T04:04:43.000+0000\",\"state\":\"JobComplete\",\"concurrencyMode\":\"Parallel\",\"contentType\":\"CSV\",\"apiVersion\":47.0,\"jobType\":\"V2Query\",\"lineEnding\":\"LF\",\"columnDelimiter\":\"COMMA\",\"numberRecordsProcessed\":6463,\"retries\":0,\"totalProcessingTime\":603}\n",
      "[Success] Bulk job completed successfully.\n"
     ]
    },
    {
     "data": {
      "text/html": [
       "<div>\n",
       "<style scoped>\n",
       "    .dataframe tbody tr th:only-of-type {\n",
       "        vertical-align: middle;\n",
       "    }\n",
       "\n",
       "    .dataframe tbody tr th {\n",
       "        vertical-align: top;\n",
       "    }\n",
       "\n",
       "    .dataframe thead th {\n",
       "        text-align: right;\n",
       "    }\n",
       "</style>\n",
       "<table border=\"1\" class=\"dataframe\">\n",
       "  <thead>\n",
       "    <tr style=\"text-align: right;\">\n",
       "      <th></th>\n",
       "      <th>Domain__c</th>\n",
       "      <th>Id</th>\n",
       "      <th>Name</th>\n",
       "    </tr>\n",
       "  </thead>\n",
       "  <tbody>\n",
       "    <tr>\n",
       "      <th>0</th>\n",
       "      <td>upenn.edu</td>\n",
       "      <td>a0r5w00000V42c0AAB</td>\n",
       "      <td>University of Pennsylvania</td>\n",
       "    </tr>\n",
       "    <tr>\n",
       "      <th>1</th>\n",
       "      <td>fer.hr</td>\n",
       "      <td>a0r5w00000V42c1AAB</td>\n",
       "      <td>fer</td>\n",
       "    </tr>\n",
       "    <tr>\n",
       "      <th>2</th>\n",
       "      <td>wheatoncollege.edu</td>\n",
       "      <td>a0r5w00000V42c2AAB</td>\n",
       "      <td>Wheaton College</td>\n",
       "    </tr>\n",
       "  </tbody>\n",
       "</table>\n",
       "</div>"
      ],
      "text/plain": [
       "            Domain__c                  Id                        Name\n",
       "0           upenn.edu  a0r5w00000V42c0AAB  University of Pennsylvania\n",
       "1              fer.hr  a0r5w00000V42c1AAB                         fer\n",
       "2  wheatoncollege.edu  a0r5w00000V42c2AAB             Wheaton College"
      ]
     },
     "execution_count": 14,
     "metadata": {},
     "output_type": "execute_result"
    }
   ],
   "source": [
    "# get organization from Salesforce\n",
    "sf_org_df = db_s.query_data('SELECT Id, Name, Domain__c FROM organization__c')\n",
    "\n",
    "# display\n",
    "sf_org_df.head(3)"
   ]
  },
  {
   "cell_type": "code",
   "execution_count": 15,
   "id": "88211718",
   "metadata": {
    "execution": {
     "iopub.execute_input": "2021-08-26T04:04:52.914208Z",
     "iopub.status.busy": "2021-08-26T04:04:52.913116Z",
     "iopub.status.idle": "2021-08-26T04:05:04.563892Z",
     "shell.execute_reply": "2021-08-26T04:05:04.564272Z"
    },
    "jupyter": {
     "source_hidden": true
    },
    "papermill": {
     "duration": 11.806262,
     "end_time": "2021-08-26T04:05:04.564442",
     "exception": false,
     "start_time": "2021-08-26T04:04:52.758180",
     "status": "completed"
    },
    "tags": []
   },
   "outputs": [
    {
     "name": "stdout",
     "output_type": "stream",
     "text": [
      "[Success] Bulk job creation successful. Job ID = 7505w00000ZJKgPAAX\n"
     ]
    },
    {
     "name": "stdout",
     "output_type": "stream",
     "text": [
      "{\"id\":\"7505w00000ZJKgPAAX\",\"operation\":\"query\",\"object\":\"contact_citation_asso__c\",\"createdById\":\"0055w00000DM5bOAAT\",\"createdDate\":\"2021-08-26T04:04:53.000+0000\",\"systemModstamp\":\"2021-08-26T04:04:53.000+0000\",\"state\":\"UploadComplete\",\"concurrencyMode\":\"Parallel\",\"contentType\":\"CSV\",\"apiVersion\":47.0,\"jobType\":\"V2Query\",\"lineEnding\":\"LF\",\"columnDelimiter\":\"COMMA\",\"retries\":0,\"totalProcessingTime\":0}\n"
     ]
    },
    {
     "name": "stdout",
     "output_type": "stream",
     "text": [
      "{\"id\":\"7505w00000ZJKgPAAX\",\"operation\":\"query\",\"object\":\"contact_citation_asso__c\",\"createdById\":\"0055w00000DM5bOAAT\",\"createdDate\":\"2021-08-26T04:04:53.000+0000\",\"systemModstamp\":\"2021-08-26T04:04:56.000+0000\",\"state\":\"JobComplete\",\"concurrencyMode\":\"Parallel\",\"contentType\":\"CSV\",\"apiVersion\":47.0,\"jobType\":\"V2Query\",\"lineEnding\":\"LF\",\"columnDelimiter\":\"COMMA\",\"numberRecordsProcessed\":4944,\"retries\":0,\"totalProcessingTime\":452}\n",
      "[Success] Bulk job completed successfully.\n"
     ]
    },
    {
     "data": {
      "text/html": [
       "<div>\n",
       "<style scoped>\n",
       "    .dataframe tbody tr th:only-of-type {\n",
       "        vertical-align: middle;\n",
       "    }\n",
       "\n",
       "    .dataframe tbody tr th {\n",
       "        vertical-align: top;\n",
       "    }\n",
       "\n",
       "    .dataframe thead th {\n",
       "        text-align: right;\n",
       "    }\n",
       "</style>\n",
       "<table border=\"1\" class=\"dataframe\">\n",
       "  <thead>\n",
       "    <tr style=\"text-align: right;\">\n",
       "      <th></th>\n",
       "      <th>Contact__c</th>\n",
       "      <th>Id</th>\n",
       "      <th>Organization__c</th>\n",
       "    </tr>\n",
       "  </thead>\n",
       "  <tbody>\n",
       "    <tr>\n",
       "      <th>0</th>\n",
       "      <td>0035w000034JLpOAAW</td>\n",
       "      <td>a0u5w00000RhVhTAAV</td>\n",
       "      <td>a0r5w00000V42cCAAR</td>\n",
       "    </tr>\n",
       "    <tr>\n",
       "      <th>1</th>\n",
       "      <td>0035w000034JLpOAAW</td>\n",
       "      <td>a0u5w00000RhVhUAAV</td>\n",
       "      <td>a0r5w00000V42cCAAR</td>\n",
       "    </tr>\n",
       "    <tr>\n",
       "      <th>2</th>\n",
       "      <td>0035w000034JLpOAAW</td>\n",
       "      <td>a0u5w00000RhVhVAAV</td>\n",
       "      <td>a0r5w00000V42cCAAR</td>\n",
       "    </tr>\n",
       "  </tbody>\n",
       "</table>\n",
       "</div>"
      ],
      "text/plain": [
       "           Contact__c                  Id     Organization__c\n",
       "0  0035w000034JLpOAAW  a0u5w00000RhVhTAAV  a0r5w00000V42cCAAR\n",
       "1  0035w000034JLpOAAW  a0u5w00000RhVhUAAV  a0r5w00000V42cCAAR\n",
       "2  0035w000034JLpOAAW  a0u5w00000RhVhVAAV  a0r5w00000V42cCAAR"
      ]
     },
     "execution_count": 15,
     "metadata": {},
     "output_type": "execute_result"
    }
   ],
   "source": [
    "# get organization according to citation from Salesforce\n",
    "sf_cit_org_df = db_s.query_data('SELECT Id, Contact__c, Organization__c FROM contact_citation_asso__c')\n",
    "\n",
    "# display\n",
    "sf_cit_org_df.head(3)"
   ]
  },
  {
   "cell_type": "code",
   "execution_count": 16,
   "id": "e0caf1f8",
   "metadata": {
    "execution": {
     "iopub.execute_input": "2021-08-26T04:05:04.815226Z",
     "iopub.status.busy": "2021-08-26T04:05:04.814400Z",
     "iopub.status.idle": "2021-08-26T04:05:04.816273Z",
     "shell.execute_reply": "2021-08-26T04:05:04.816692Z"
    },
    "jupyter": {
     "source_hidden": true
    },
    "papermill": {
     "duration": 0.127568,
     "end_time": "2021-08-26T04:05:04.816913",
     "exception": false,
     "start_time": "2021-08-26T04:05:04.689345",
     "status": "completed"
    },
    "tags": []
   },
   "outputs": [],
   "source": [
    "# rename Id of each Salesforce DF to avoid collision\n",
    "sf_cluster_df.rename(columns={'Id':'cluster_Id'}, inplace=True)\n",
    "sf_org_df.rename(columns={'Id':'org_Id'}, inplace=True)\n",
    "sf_contact_df.rename(columns={'Id':'contact_Id'}, inplace=True)\n",
    "sf_cit_org_df.rename(columns={'Id':'cit_org_Id'}, inplace=True)"
   ]
  },
  {
   "cell_type": "markdown",
   "id": "e60c83ae",
   "metadata": {
    "papermill": {
     "duration": 0.130965,
     "end_time": "2021-08-26T04:05:05.076989",
     "exception": false,
     "start_time": "2021-08-26T04:05:04.946024",
     "status": "completed"
    },
    "tags": []
   },
   "source": [
    "## Determine the most likely organization of each cluster"
   ]
  },
  {
   "cell_type": "code",
   "execution_count": null,
   "id": "c7b02c67",
   "metadata": {
    "jupyter": {
     "source_hidden": true
    },
    "papermill": {
     "duration": 0.118695,
     "end_time": "2021-08-26T04:05:05.318636",
     "exception": false,
     "start_time": "2021-08-26T04:05:05.199941",
     "status": "completed"
    },
    "tags": []
   },
   "outputs": [],
   "source": []
  },
  {
   "cell_type": "code",
   "execution_count": 17,
   "id": "e4d71aba",
   "metadata": {
    "execution": {
     "iopub.execute_input": "2021-08-26T04:05:05.569926Z",
     "iopub.status.busy": "2021-08-26T04:05:05.569093Z",
     "iopub.status.idle": "2021-08-26T04:05:05.594895Z",
     "shell.execute_reply": "2021-08-26T04:05:05.595524Z"
    },
    "jupyter": {
     "source_hidden": true
    },
    "papermill": {
     "duration": 0.156199,
     "end_time": "2021-08-26T04:05:05.595937",
     "exception": false,
     "start_time": "2021-08-26T04:05:05.439738",
     "status": "completed"
    },
    "tags": []
   },
   "outputs": [
    {
     "data": {
      "text/plain": [
       "'sf_cluster_df'"
      ]
     },
     "metadata": {},
     "output_type": "display_data"
    },
    {
     "data": {
      "text/html": [
       "<div>\n",
       "<style scoped>\n",
       "    .dataframe tbody tr th:only-of-type {\n",
       "        vertical-align: middle;\n",
       "    }\n",
       "\n",
       "    .dataframe tbody tr th {\n",
       "        vertical-align: top;\n",
       "    }\n",
       "\n",
       "    .dataframe thead th {\n",
       "        text-align: right;\n",
       "    }\n",
       "</style>\n",
       "<table border=\"1\" class=\"dataframe\">\n",
       "  <thead>\n",
       "    <tr style=\"text-align: right;\">\n",
       "      <th></th>\n",
       "      <th>Contact__c</th>\n",
       "      <th>cluster_Id</th>\n",
       "      <th>Tool_Usage_Cluster__c</th>\n",
       "    </tr>\n",
       "  </thead>\n",
       "  <tbody>\n",
       "    <tr>\n",
       "      <th>0</th>\n",
       "      <td>0035w00003NeIaTAAV</td>\n",
       "      <td>a0x5w00000cRtKRAA0</td>\n",
       "      <td>a0w5w00000AXc7TAAT</td>\n",
       "    </tr>\n",
       "  </tbody>\n",
       "</table>\n",
       "</div>"
      ],
      "text/plain": [
       "           Contact__c          cluster_Id Tool_Usage_Cluster__c\n",
       "0  0035w00003NeIaTAAV  a0x5w00000cRtKRAA0    a0w5w00000AXc7TAAT"
      ]
     },
     "metadata": {},
     "output_type": "display_data"
    },
    {
     "data": {
      "text/plain": [
       "'sf_org_df'"
      ]
     },
     "metadata": {},
     "output_type": "display_data"
    },
    {
     "data": {
      "text/html": [
       "<div>\n",
       "<style scoped>\n",
       "    .dataframe tbody tr th:only-of-type {\n",
       "        vertical-align: middle;\n",
       "    }\n",
       "\n",
       "    .dataframe tbody tr th {\n",
       "        vertical-align: top;\n",
       "    }\n",
       "\n",
       "    .dataframe thead th {\n",
       "        text-align: right;\n",
       "    }\n",
       "</style>\n",
       "<table border=\"1\" class=\"dataframe\">\n",
       "  <thead>\n",
       "    <tr style=\"text-align: right;\">\n",
       "      <th></th>\n",
       "      <th>Domain__c</th>\n",
       "      <th>org_Id</th>\n",
       "      <th>Name</th>\n",
       "    </tr>\n",
       "  </thead>\n",
       "  <tbody>\n",
       "    <tr>\n",
       "      <th>0</th>\n",
       "      <td>upenn.edu</td>\n",
       "      <td>a0r5w00000V42c0AAB</td>\n",
       "      <td>University of Pennsylvania</td>\n",
       "    </tr>\n",
       "  </tbody>\n",
       "</table>\n",
       "</div>"
      ],
      "text/plain": [
       "   Domain__c              org_Id                        Name\n",
       "0  upenn.edu  a0r5w00000V42c0AAB  University of Pennsylvania"
      ]
     },
     "metadata": {},
     "output_type": "display_data"
    },
    {
     "data": {
      "text/plain": [
       "'sf_contact_df'"
      ]
     },
     "metadata": {},
     "output_type": "display_data"
    },
    {
     "data": {
      "text/html": [
       "<div>\n",
       "<style scoped>\n",
       "    .dataframe tbody tr th:only-of-type {\n",
       "        vertical-align: middle;\n",
       "    }\n",
       "\n",
       "    .dataframe tbody tr th {\n",
       "        vertical-align: top;\n",
       "    }\n",
       "\n",
       "    .dataframe thead th {\n",
       "        text-align: right;\n",
       "    }\n",
       "</style>\n",
       "<table border=\"1\" class=\"dataframe\">\n",
       "  <thead>\n",
       "    <tr style=\"text-align: right;\">\n",
       "      <th></th>\n",
       "      <th>contact_Id</th>\n",
       "      <th>Name</th>\n",
       "      <th>Organization_Overwrite__c</th>\n",
       "      <th>Organization__c</th>\n",
       "      <th>Organization_composite__c</th>\n",
       "      <th>Organization_email_derived__c</th>\n",
       "    </tr>\n",
       "  </thead>\n",
       "  <tbody>\n",
       "    <tr>\n",
       "      <th>0</th>\n",
       "      <td>0035w000031Vsp1AAC</td>\n",
       "      <td>hubrepo hubrepo</td>\n",
       "      <td>NaN</td>\n",
       "      <td>NaN</td>\n",
       "      <td>NaN</td>\n",
       "      <td>NaN</td>\n",
       "    </tr>\n",
       "  </tbody>\n",
       "</table>\n",
       "</div>"
      ],
      "text/plain": [
       "           contact_Id             Name Organization_Overwrite__c  \\\n",
       "0  0035w000031Vsp1AAC  hubrepo hubrepo                       NaN   \n",
       "\n",
       "  Organization__c Organization_composite__c Organization_email_derived__c  \n",
       "0             NaN                       NaN                           NaN  "
      ]
     },
     "metadata": {},
     "output_type": "display_data"
    },
    {
     "data": {
      "text/plain": [
       "'sf_cit_org_df'"
      ]
     },
     "metadata": {},
     "output_type": "display_data"
    },
    {
     "data": {
      "text/html": [
       "<div>\n",
       "<style scoped>\n",
       "    .dataframe tbody tr th:only-of-type {\n",
       "        vertical-align: middle;\n",
       "    }\n",
       "\n",
       "    .dataframe tbody tr th {\n",
       "        vertical-align: top;\n",
       "    }\n",
       "\n",
       "    .dataframe thead th {\n",
       "        text-align: right;\n",
       "    }\n",
       "</style>\n",
       "<table border=\"1\" class=\"dataframe\">\n",
       "  <thead>\n",
       "    <tr style=\"text-align: right;\">\n",
       "      <th></th>\n",
       "      <th>Contact__c</th>\n",
       "      <th>cit_org_Id</th>\n",
       "      <th>Organization__c</th>\n",
       "    </tr>\n",
       "  </thead>\n",
       "  <tbody>\n",
       "    <tr>\n",
       "      <th>0</th>\n",
       "      <td>0035w000034JLpOAAW</td>\n",
       "      <td>a0u5w00000RhVhTAAV</td>\n",
       "      <td>a0r5w00000V42cCAAR</td>\n",
       "    </tr>\n",
       "  </tbody>\n",
       "</table>\n",
       "</div>"
      ],
      "text/plain": [
       "           Contact__c          cit_org_Id     Organization__c\n",
       "0  0035w000034JLpOAAW  a0u5w00000RhVhTAAV  a0r5w00000V42cCAAR"
      ]
     },
     "metadata": {},
     "output_type": "display_data"
    }
   ],
   "source": [
    "# data given\n",
    "display('sf_cluster_df'); display(sf_cluster_df.head(1))\n",
    "display('sf_org_df'); display(sf_org_df.head(1))\n",
    "display('sf_contact_df'); display(sf_contact_df.head(1))\n",
    "display('sf_cit_org_df'); display(sf_cit_org_df.head(1))"
   ]
  },
  {
   "cell_type": "code",
   "execution_count": 18,
   "id": "de78aea2",
   "metadata": {
    "execution": {
     "iopub.execute_input": "2021-08-26T04:05:05.953530Z",
     "iopub.status.busy": "2021-08-26T04:05:05.881940Z",
     "iopub.status.idle": "2021-08-26T04:05:06.003845Z",
     "shell.execute_reply": "2021-08-26T04:05:06.004251Z"
    },
    "jupyter": {
     "source_hidden": true
    },
    "papermill": {
     "duration": 0.273165,
     "end_time": "2021-08-26T04:05:06.004478",
     "exception": false,
     "start_time": "2021-08-26T04:05:05.731313",
     "status": "completed"
    },
    "tags": []
   },
   "outputs": [
    {
     "data": {
      "text/html": [
       "<div>\n",
       "<style scoped>\n",
       "    .dataframe tbody tr th:only-of-type {\n",
       "        vertical-align: middle;\n",
       "    }\n",
       "\n",
       "    .dataframe tbody tr th {\n",
       "        vertical-align: top;\n",
       "    }\n",
       "\n",
       "    .dataframe thead th {\n",
       "        text-align: right;\n",
       "    }\n",
       "</style>\n",
       "<table border=\"1\" class=\"dataframe\">\n",
       "  <thead>\n",
       "    <tr style=\"text-align: right;\">\n",
       "      <th></th>\n",
       "      <th>Contact__c</th>\n",
       "      <th>cluster_Id</th>\n",
       "      <th>Tool_Usage_Cluster__c</th>\n",
       "      <th>contact_Id</th>\n",
       "      <th>Name</th>\n",
       "      <th>Organization_Overwrite__c</th>\n",
       "      <th>Organization__c</th>\n",
       "      <th>Organization_composite__c</th>\n",
       "      <th>Organization_email_derived__c</th>\n",
       "    </tr>\n",
       "  </thead>\n",
       "  <tbody>\n",
       "    <tr>\n",
       "      <th>0</th>\n",
       "      <td>0035w00003NeIaTAAV</td>\n",
       "      <td>a0x5w00000cRtKRAA0</td>\n",
       "      <td>a0w5w00000AXc7TAAT</td>\n",
       "      <td>0035w00003NeIaTAAV</td>\n",
       "      <td>Noelia Moreno</td>\n",
       "      <td>NaN</td>\n",
       "      <td>harvard university</td>\n",
       "      <td>a0r5w00000V42kEAAR</td>\n",
       "      <td>NaN</td>\n",
       "    </tr>\n",
       "    <tr>\n",
       "      <th>1</th>\n",
       "      <td>0035w00003NeIaFAAV</td>\n",
       "      <td>a0x5w00000cRtU8AAK</td>\n",
       "      <td>a0w5w00000AXc7TAAT</td>\n",
       "      <td>0035w00003NeIaFAAV</td>\n",
       "      <td>InÃ©s Ojeda</td>\n",
       "      <td>NaN</td>\n",
       "      <td>universidad de sevilla</td>\n",
       "      <td>NaN</td>\n",
       "      <td>NaN</td>\n",
       "    </tr>\n",
       "    <tr>\n",
       "      <th>2</th>\n",
       "      <td>0035w00003NeIaXAAV</td>\n",
       "      <td>a0x5w00000cRtU9AAK</td>\n",
       "      <td>a0w5w00000AXc7TAAT</td>\n",
       "      <td>0035w00003NeIaXAAV</td>\n",
       "      <td>Isabel JimÃ©nez</td>\n",
       "      <td>NaN</td>\n",
       "      <td>universidad de sevilla</td>\n",
       "      <td>NaN</td>\n",
       "      <td>NaN</td>\n",
       "    </tr>\n",
       "  </tbody>\n",
       "</table>\n",
       "</div>"
      ],
      "text/plain": [
       "           Contact__c          cluster_Id Tool_Usage_Cluster__c  \\\n",
       "0  0035w00003NeIaTAAV  a0x5w00000cRtKRAA0    a0w5w00000AXc7TAAT   \n",
       "1  0035w00003NeIaFAAV  a0x5w00000cRtU8AAK    a0w5w00000AXc7TAAT   \n",
       "2  0035w00003NeIaXAAV  a0x5w00000cRtU9AAK    a0w5w00000AXc7TAAT   \n",
       "\n",
       "           contact_Id             Name Organization_Overwrite__c  \\\n",
       "0  0035w00003NeIaTAAV    Noelia Moreno                       NaN   \n",
       "1  0035w00003NeIaFAAV      InÃ©s Ojeda                       NaN   \n",
       "2  0035w00003NeIaXAAV  Isabel JimÃ©nez                       NaN   \n",
       "\n",
       "          Organization__c Organization_composite__c  \\\n",
       "0      harvard university        a0r5w00000V42kEAAR   \n",
       "1  universidad de sevilla                       NaN   \n",
       "2  universidad de sevilla                       NaN   \n",
       "\n",
       "  Organization_email_derived__c  \n",
       "0                           NaN  \n",
       "1                           NaN  \n",
       "2                           NaN  "
      ]
     },
     "metadata": {},
     "output_type": "display_data"
    }
   ],
   "source": [
    "# merge cluster with contact info\n",
    "cc_df = pd.merge(sf_cluster_df, sf_contact_df, how='left', left_on='Contact__c', right_on='contact_Id')\n",
    "\n",
    "# display\n",
    "display(cc_df.head(3))"
   ]
  },
  {
   "cell_type": "code",
   "execution_count": 19,
   "id": "72aa674b",
   "metadata": {
    "execution": {
     "iopub.execute_input": "2021-08-26T04:05:06.281027Z",
     "iopub.status.busy": "2021-08-26T04:05:06.280200Z",
     "iopub.status.idle": "2021-08-26T04:05:07.404956Z",
     "shell.execute_reply": "2021-08-26T04:05:07.405350Z"
    },
    "jupyter": {
     "source_hidden": true
    },
    "papermill": {
     "duration": 1.268274,
     "end_time": "2021-08-26T04:05:07.405519",
     "exception": false,
     "start_time": "2021-08-26T04:05:06.137245",
     "status": "completed"
    },
    "tags": []
   },
   "outputs": [],
   "source": [
    "# apply overwrite\n",
    "#cc_df['org_final'] = cc_df.fillna('').apply(lambda x: \\\n",
    "#                    x['Organization_email_derived__c'] if x['Organization_Overwrite__c']=='' else x['Organization_Overwrite__c'],\\\n",
    "#                                 axis=1)\n",
    "\n",
    "cc_df['org_final'] = cc_df.fillna(' ').apply(lambda x: \\\n",
    "                    x['Organization_composite__c'] if x['Organization_Overwrite__c']==' ' else x['Organization_Overwrite__c'],\\\n",
    "                    axis=1)\n"
   ]
  },
  {
   "cell_type": "code",
   "execution_count": 20,
   "id": "817af012",
   "metadata": {
    "execution": {
     "iopub.execute_input": "2021-08-26T04:05:07.683869Z",
     "iopub.status.busy": "2021-08-26T04:05:07.683194Z",
     "iopub.status.idle": "2021-08-26T04:05:07.687187Z",
     "shell.execute_reply": "2021-08-26T04:05:07.687577Z"
    },
    "jupyter": {
     "source_hidden": true
    },
    "papermill": {
     "duration": 0.148899,
     "end_time": "2021-08-26T04:05:07.687747",
     "exception": false,
     "start_time": "2021-08-26T04:05:07.538848",
     "status": "completed"
    },
    "tags": []
   },
   "outputs": [
    {
     "data": {
      "text/html": [
       "<div>\n",
       "<style scoped>\n",
       "    .dataframe tbody tr th:only-of-type {\n",
       "        vertical-align: middle;\n",
       "    }\n",
       "\n",
       "    .dataframe tbody tr th {\n",
       "        vertical-align: top;\n",
       "    }\n",
       "\n",
       "    .dataframe thead th {\n",
       "        text-align: right;\n",
       "    }\n",
       "</style>\n",
       "<table border=\"1\" class=\"dataframe\">\n",
       "  <thead>\n",
       "    <tr style=\"text-align: right;\">\n",
       "      <th></th>\n",
       "      <th>Contact__c</th>\n",
       "      <th>cluster_Id</th>\n",
       "      <th>Tool_Usage_Cluster__c</th>\n",
       "      <th>contact_Id</th>\n",
       "      <th>Name</th>\n",
       "      <th>Organization_Overwrite__c</th>\n",
       "      <th>Organization__c</th>\n",
       "      <th>Organization_composite__c</th>\n",
       "      <th>Organization_email_derived__c</th>\n",
       "      <th>org_final</th>\n",
       "    </tr>\n",
       "  </thead>\n",
       "  <tbody>\n",
       "    <tr>\n",
       "      <th>0</th>\n",
       "      <td>0035w00003NeIaTAAV</td>\n",
       "      <td>a0x5w00000cRtKRAA0</td>\n",
       "      <td>a0w5w00000AXc7TAAT</td>\n",
       "      <td>0035w00003NeIaTAAV</td>\n",
       "      <td>Noelia Moreno</td>\n",
       "      <td>NaN</td>\n",
       "      <td>harvard university</td>\n",
       "      <td>a0r5w00000V42kEAAR</td>\n",
       "      <td>NaN</td>\n",
       "      <td>a0r5w00000V42kEAAR</td>\n",
       "    </tr>\n",
       "    <tr>\n",
       "      <th>1</th>\n",
       "      <td>0035w00003NeIaFAAV</td>\n",
       "      <td>a0x5w00000cRtU8AAK</td>\n",
       "      <td>a0w5w00000AXc7TAAT</td>\n",
       "      <td>0035w00003NeIaFAAV</td>\n",
       "      <td>InÃ©s Ojeda</td>\n",
       "      <td>NaN</td>\n",
       "      <td>universidad de sevilla</td>\n",
       "      <td>NaN</td>\n",
       "      <td>NaN</td>\n",
       "      <td></td>\n",
       "    </tr>\n",
       "  </tbody>\n",
       "</table>\n",
       "</div>"
      ],
      "text/plain": [
       "           Contact__c          cluster_Id Tool_Usage_Cluster__c  \\\n",
       "0  0035w00003NeIaTAAV  a0x5w00000cRtKRAA0    a0w5w00000AXc7TAAT   \n",
       "1  0035w00003NeIaFAAV  a0x5w00000cRtU8AAK    a0w5w00000AXc7TAAT   \n",
       "\n",
       "           contact_Id           Name Organization_Overwrite__c  \\\n",
       "0  0035w00003NeIaTAAV  Noelia Moreno                       NaN   \n",
       "1  0035w00003NeIaFAAV    InÃ©s Ojeda                       NaN   \n",
       "\n",
       "          Organization__c Organization_composite__c  \\\n",
       "0      harvard university        a0r5w00000V42kEAAR   \n",
       "1  universidad de sevilla                       NaN   \n",
       "\n",
       "  Organization_email_derived__c           org_final  \n",
       "0                           NaN  a0r5w00000V42kEAAR  \n",
       "1                           NaN                      "
      ]
     },
     "metadata": {},
     "output_type": "display_data"
    }
   ],
   "source": [
    "display(cc_df.head(2))"
   ]
  },
  {
   "cell_type": "code",
   "execution_count": 21,
   "id": "07d239b1",
   "metadata": {
    "execution": {
     "iopub.execute_input": "2021-08-26T04:05:07.966273Z",
     "iopub.status.busy": "2021-08-26T04:05:07.965071Z",
     "iopub.status.idle": "2021-08-26T04:05:09.730186Z",
     "shell.execute_reply": "2021-08-26T04:05:09.730662Z"
    },
    "jupyter": {
     "source_hidden": true
    },
    "papermill": {
     "duration": 1.909913,
     "end_time": "2021-08-26T04:05:09.730869",
     "exception": false,
     "start_time": "2021-08-26T04:05:07.820956",
     "status": "completed"
    },
    "tags": []
   },
   "outputs": [
    {
     "data": {
      "text/html": [
       "<div>\n",
       "<style scoped>\n",
       "    .dataframe tbody tr th:only-of-type {\n",
       "        vertical-align: middle;\n",
       "    }\n",
       "\n",
       "    .dataframe tbody tr th {\n",
       "        vertical-align: top;\n",
       "    }\n",
       "\n",
       "    .dataframe thead th {\n",
       "        text-align: right;\n",
       "    }\n",
       "</style>\n",
       "<table border=\"1\" class=\"dataframe\">\n",
       "  <thead>\n",
       "    <tr style=\"text-align: right;\">\n",
       "      <th></th>\n",
       "      <th>Tool_Usage_Cluster__c</th>\n",
       "      <th>Organization_composite__c</th>\n",
       "    </tr>\n",
       "  </thead>\n",
       "  <tbody>\n",
       "    <tr>\n",
       "      <th>0</th>\n",
       "      <td>a0w5w000009Q7CuAAK</td>\n",
       "      <td></td>\n",
       "    </tr>\n",
       "    <tr>\n",
       "      <th>1</th>\n",
       "      <td>a0w5w000009Q7CvAAK</td>\n",
       "      <td>a0r5w00000V42iyAAB</td>\n",
       "    </tr>\n",
       "    <tr>\n",
       "      <th>2</th>\n",
       "      <td>a0w5w000009Q7CwAAK</td>\n",
       "      <td>a0r5w00000V42iyAAB</td>\n",
       "    </tr>\n",
       "  </tbody>\n",
       "</table>\n",
       "</div>"
      ],
      "text/plain": [
       "  Tool_Usage_Cluster__c Organization_composite__c\n",
       "0    a0w5w000009Q7CuAAK                          \n",
       "1    a0w5w000009Q7CvAAK        a0r5w00000V42iyAAB\n",
       "2    a0w5w000009Q7CwAAK        a0r5w00000V42iyAAB"
      ]
     },
     "execution_count": 21,
     "metadata": {},
     "output_type": "execute_result"
    }
   ],
   "source": [
    "# find the most likely org within each cluster\n",
    "def get_likely_org(this_cluster_df):\n",
    "    non_empty_df = this_cluster_df[this_cluster_df.org_final != ' ']\n",
    "    \n",
    "    if non_empty_df.shape[0] > 0:\n",
    "        # there are non-empty organization information\n",
    "        return non_empty_df.org_final.mode().iloc[0]\n",
    "    else:\n",
    "        return ' '\n",
    "\n",
    "        \n",
    "cluster_org_df = cc_df[['Tool_Usage_Cluster__c', 'org_final']].groupby('Tool_Usage_Cluster__c')\\\n",
    "                            .apply(get_likely_org).reset_index(name='Organization_composite__c')#'Organization_email_derived__c')\n",
    "\n",
    "# display\n",
    "cluster_org_df.head(3)"
   ]
  },
  {
   "cell_type": "code",
   "execution_count": 22,
   "id": "cd30d307",
   "metadata": {
    "execution": {
     "iopub.execute_input": "2021-08-26T04:05:10.000355Z",
     "iopub.status.busy": "2021-08-26T04:05:09.997102Z",
     "iopub.status.idle": "2021-08-26T04:05:10.003515Z",
     "shell.execute_reply": "2021-08-26T04:05:10.003898Z"
    },
    "jupyter": {
     "source_hidden": true
    },
    "papermill": {
     "duration": 0.13979,
     "end_time": "2021-08-26T04:05:10.004064",
     "exception": false,
     "start_time": "2021-08-26T04:05:09.864274",
     "status": "completed"
    },
    "tags": []
   },
   "outputs": [
    {
     "data": {
      "text/html": [
       "<div>\n",
       "<style scoped>\n",
       "    .dataframe tbody tr th:only-of-type {\n",
       "        vertical-align: middle;\n",
       "    }\n",
       "\n",
       "    .dataframe tbody tr th {\n",
       "        vertical-align: top;\n",
       "    }\n",
       "\n",
       "    .dataframe thead th {\n",
       "        text-align: right;\n",
       "    }\n",
       "</style>\n",
       "<table border=\"1\" class=\"dataframe\">\n",
       "  <thead>\n",
       "    <tr style=\"text-align: right;\">\n",
       "      <th></th>\n",
       "      <th>Tool_Usage_Cluster__c</th>\n",
       "      <th>Organization__c</th>\n",
       "    </tr>\n",
       "  </thead>\n",
       "  <tbody>\n",
       "    <tr>\n",
       "      <th>0</th>\n",
       "      <td>a0w5w000009Q7CuAAK</td>\n",
       "      <td></td>\n",
       "    </tr>\n",
       "    <tr>\n",
       "      <th>1</th>\n",
       "      <td>a0w5w000009Q7CvAAK</td>\n",
       "      <td>a0r5w00000V42iyAAB</td>\n",
       "    </tr>\n",
       "  </tbody>\n",
       "</table>\n",
       "</div>"
      ],
      "text/plain": [
       "  Tool_Usage_Cluster__c     Organization__c\n",
       "0    a0w5w000009Q7CuAAK                    \n",
       "1    a0w5w000009Q7CvAAK  a0r5w00000V42iyAAB"
      ]
     },
     "execution_count": 22,
     "metadata": {},
     "output_type": "execute_result"
    }
   ],
   "source": [
    "cluster_org_df = cluster_org_df.rename(columns={\"Organization_composite__c\": \"Organization__c\"})\n",
    "cluster_org_df.head(2)"
   ]
  },
  {
   "cell_type": "markdown",
   "id": "71d0fd82",
   "metadata": {
    "papermill": {
     "duration": 0.130259,
     "end_time": "2021-08-26T04:05:10.264483",
     "exception": false,
     "start_time": "2021-08-26T04:05:10.134224",
     "status": "completed"
    },
    "tags": []
   },
   "source": [
    "## Write to Salesforce"
   ]
  },
  {
   "cell_type": "code",
   "execution_count": 23,
   "id": "02054c54",
   "metadata": {
    "execution": {
     "iopub.execute_input": "2021-08-26T04:05:10.539659Z",
     "iopub.status.busy": "2021-08-26T04:05:10.539057Z",
     "iopub.status.idle": "2021-08-26T04:05:10.542532Z",
     "shell.execute_reply": "2021-08-26T04:05:10.542910Z"
    },
    "jupyter": {
     "source_hidden": true
    },
    "papermill": {
     "duration": 0.1448,
     "end_time": "2021-08-26T04:05:10.543077",
     "exception": false,
     "start_time": "2021-08-26T04:05:10.398277",
     "status": "completed"
    },
    "tags": []
   },
   "outputs": [
    {
     "data": {
      "text/html": [
       "<div>\n",
       "<style scoped>\n",
       "    .dataframe tbody tr th:only-of-type {\n",
       "        vertical-align: middle;\n",
       "    }\n",
       "\n",
       "    .dataframe tbody tr th {\n",
       "        vertical-align: top;\n",
       "    }\n",
       "\n",
       "    .dataframe thead th {\n",
       "        text-align: right;\n",
       "    }\n",
       "</style>\n",
       "<table border=\"1\" class=\"dataframe\">\n",
       "  <thead>\n",
       "    <tr style=\"text-align: right;\">\n",
       "      <th></th>\n",
       "      <th>0</th>\n",
       "      <th>1</th>\n",
       "    </tr>\n",
       "  </thead>\n",
       "  <tbody>\n",
       "    <tr>\n",
       "      <th>Id</th>\n",
       "      <td>a0w5w000009Q7CuAAK</td>\n",
       "      <td>a0w5w000009Q7CvAAK</td>\n",
       "    </tr>\n",
       "    <tr>\n",
       "      <th>Organization__c</th>\n",
       "      <td></td>\n",
       "      <td>a0r5w00000V42iyAAB</td>\n",
       "    </tr>\n",
       "  </tbody>\n",
       "</table>\n",
       "</div>"
      ],
      "text/plain": [
       "                                  0                   1\n",
       "Id               a0w5w000009Q7CuAAK  a0w5w000009Q7CvAAK\n",
       "Organization__c                      a0r5w00000V42iyAAB"
      ]
     },
     "execution_count": 23,
     "metadata": {},
     "output_type": "execute_result"
    }
   ],
   "source": [
    "df_sf = pd.DataFrame()\n",
    "\n",
    "# Make sure NaN and NaT values are taken care of here\n",
    "df_sf['Id'] = cluster_org_df['Tool_Usage_Cluster__c']\n",
    "\n",
    "# derived information\n",
    "df_sf['Organization__c'] = cluster_org_df['Organization__c']#['Organization_email_derived__c']\n",
    "\n",
    "sf_original_fields = df_sf.columns\n",
    "\n",
    "# display\n",
    "df_sf.head(2).T"
   ]
  },
  {
   "cell_type": "code",
   "execution_count": 24,
   "id": "3ae3e911",
   "metadata": {
    "execution": {
     "iopub.execute_input": "2021-08-26T04:05:10.811819Z",
     "iopub.status.busy": "2021-08-26T04:05:10.810992Z",
     "iopub.status.idle": "2021-08-26T04:05:10.814716Z",
     "shell.execute_reply": "2021-08-26T04:05:10.815205Z"
    },
    "jupyter": {
     "source_hidden": true
    },
    "papermill": {
     "duration": 0.136927,
     "end_time": "2021-08-26T04:05:10.815410",
     "exception": false,
     "start_time": "2021-08-26T04:05:10.678483",
     "status": "completed"
    },
    "tags": []
   },
   "outputs": [
    {
     "data": {
      "text/plain": [
       "(4270, 2)"
      ]
     },
     "execution_count": 24,
     "metadata": {},
     "output_type": "execute_result"
    }
   ],
   "source": [
    "df_sf.shape"
   ]
  },
  {
   "cell_type": "code",
   "execution_count": 25,
   "id": "80337946",
   "metadata": {
    "execution": {
     "iopub.execute_input": "2021-08-26T04:05:11.091227Z",
     "iopub.status.busy": "2021-08-26T04:05:11.090481Z",
     "iopub.status.idle": "2021-08-26T04:05:11.092253Z",
     "shell.execute_reply": "2021-08-26T04:05:11.092622Z"
    },
    "jupyter": {
     "source_hidden": true
    },
    "papermill": {
     "duration": 0.143338,
     "end_time": "2021-08-26T04:05:11.092786",
     "exception": false,
     "start_time": "2021-08-26T04:05:10.949448",
     "status": "completed"
    },
    "tags": []
   },
   "outputs": [],
   "source": [
    "\n",
    "# create DB2 to Salesforce API object\n",
    "db_s = salesforce\n",
    "\n",
    "db_s.object_id = 'tool_usage_cluster__c'\n",
    "db_s.external_id = 'Id'"
   ]
  },
  {
   "cell_type": "code",
   "execution_count": 26,
   "id": "3d249e8d",
   "metadata": {
    "execution": {
     "iopub.execute_input": "2021-08-26T04:05:11.365820Z",
     "iopub.status.busy": "2021-08-26T04:05:11.365030Z",
     "iopub.status.idle": "2021-08-26T04:05:12.380342Z",
     "shell.execute_reply": "2021-08-26T04:05:12.380727Z"
    },
    "jupyter": {
     "source_hidden": true
    },
    "papermill": {
     "duration": 1.151638,
     "end_time": "2021-08-26T04:05:12.380897",
     "exception": false,
     "start_time": "2021-08-26T04:05:11.229259",
     "status": "completed"
    },
    "tags": []
   },
   "outputs": [
    {
     "name": "stdout",
     "output_type": "stream",
     "text": [
      "[Success] Bulk job creation successful. Job ID = 7505w00000ZJKgoAAH\n",
      "hello\n"
     ]
    },
    {
     "name": "stdout",
     "output_type": "stream",
     "text": [
      "[Success] CSV upload successful. Job ID = 7505w00000ZJKgoAAH\n"
     ]
    },
    {
     "name": "stdout",
     "output_type": "stream",
     "text": [
      "[Success] Closing job successful. Job ID = 7505w00000ZJKgoAAH\n"
     ]
    }
   ],
   "source": [
    "# send data to Salesforce\n",
    "db_s.send_data(df_sf)"
   ]
  },
  {
   "cell_type": "code",
   "execution_count": 27,
   "id": "bd461ada",
   "metadata": {
    "execution": {
     "iopub.execute_input": "2021-08-26T04:05:12.655775Z",
     "iopub.status.busy": "2021-08-26T04:05:12.655061Z",
     "iopub.status.idle": "2021-08-26T04:05:13.088119Z",
     "shell.execute_reply": "2021-08-26T04:05:13.088495Z"
    },
    "jupyter": {
     "source_hidden": true
    },
    "papermill": {
     "duration": 0.571893,
     "end_time": "2021-08-26T04:05:13.088661",
     "exception": false,
     "start_time": "2021-08-26T04:05:12.516768",
     "status": "completed"
    },
    "tags": []
   },
   "outputs": [
    {
     "data": {
      "text/plain": [
       "{'id': '7505w00000ZJKgoAAH',\n",
       " 'operation': 'upsert',\n",
       " 'object': 'tool_usage_cluster__c',\n",
       " 'createdById': '0055w00000DM5bOAAT',\n",
       " 'createdDate': '2021-08-26T04:05:11.000+0000',\n",
       " 'systemModstamp': '2021-08-26T04:05:12.000+0000',\n",
       " 'state': 'UploadComplete',\n",
       " 'externalIdFieldName': 'Id',\n",
       " 'concurrencyMode': 'Parallel',\n",
       " 'contentType': 'CSV',\n",
       " 'apiVersion': 47.0,\n",
       " 'jobType': 'V2Ingest',\n",
       " 'lineEnding': 'LF',\n",
       " 'columnDelimiter': 'COMMA',\n",
       " 'numberRecordsProcessed': 0,\n",
       " 'numberRecordsFailed': 0,\n",
       " 'retries': 0,\n",
       " 'totalProcessingTime': 0,\n",
       " 'apiActiveProcessingTime': 0,\n",
       " 'apexProcessingTime': 0}"
      ]
     },
     "execution_count": 27,
     "metadata": {},
     "output_type": "execute_result"
    }
   ],
   "source": [
    "# check status\n",
    "db_s.check_bulk_status()"
   ]
  },
  {
   "cell_type": "code",
   "execution_count": null,
   "id": "ba0f4cbf",
   "metadata": {
    "jupyter": {
     "source_hidden": true
    },
    "papermill": {
     "duration": 0.137571,
     "end_time": "2021-08-26T04:05:13.365444",
     "exception": false,
     "start_time": "2021-08-26T04:05:13.227873",
     "status": "completed"
    },
    "tags": []
   },
   "outputs": [],
   "source": []
  },
  {
   "cell_type": "code",
   "execution_count": null,
   "id": "12943c0f",
   "metadata": {
    "jupyter": {
     "source_hidden": true
    },
    "papermill": {
     "duration": 0.158144,
     "end_time": "2021-08-26T04:05:13.664317",
     "exception": false,
     "start_time": "2021-08-26T04:05:13.506173",
     "status": "completed"
    },
    "tags": []
   },
   "outputs": [],
   "source": []
  },
  {
   "cell_type": "code",
   "execution_count": null,
   "id": "00e0dc5c",
   "metadata": {
    "jupyter": {
     "source_hidden": true
    },
    "papermill": {
     "duration": 0.138523,
     "end_time": "2021-08-26T04:05:13.965506",
     "exception": false,
     "start_time": "2021-08-26T04:05:13.826983",
     "status": "completed"
    },
    "tags": []
   },
   "outputs": [],
   "source": []
  },
  {
   "cell_type": "markdown",
   "id": "84ca1aac",
   "metadata": {
    "papermill": {
     "duration": 0.136559,
     "end_time": "2021-08-26T04:05:14.241349",
     "exception": false,
     "start_time": "2021-08-26T04:05:14.104790",
     "status": "completed"
    },
    "tags": []
   },
   "source": [
    "# Graveyard\n",
    "## Determine the most likely organization of each contact"
   ]
  },
  {
   "cell_type": "markdown",
   "id": "1cd41144",
   "metadata": {
    "papermill": {
     "duration": 0.134475,
     "end_time": "2021-08-26T04:05:14.518450",
     "exception": false,
     "start_time": "2021-08-26T04:05:14.383975",
     "status": "completed"
    },
    "tags": []
   },
   "source": [
    "### Rules\n",
    "\n",
    "In the following order:\n",
    "\n",
    "- If overwrite set, use overwrite\n",
    "- If nanohub profile exists, use profile [NEW ADDITION]\n",
    "- If citation exists, use citation\n",
    "- If email exists, use email - stop here\n",
    "- If cluster exists, use cluster\n",
    "- If none above, none"
   ]
  },
  {
   "cell_type": "raw",
   "id": "10d1f707",
   "metadata": {
    "papermill": {
     "duration": 0.136475,
     "end_time": "2021-08-26T04:05:14.793443",
     "exception": false,
     "start_time": "2021-08-26T04:05:14.656968",
     "status": "completed"
    },
    "tags": []
   },
   "source": [
    "# data given\n",
    "display('sf_cluster_df'); display(sf_cluster_df.head(1))\n",
    "display('sf_org_df'); display(sf_org_df.head(1))\n",
    "display('sf_contact_df'); display(sf_contact_df.head(1))\n",
    "display('sf_cit_org_df'); display(sf_cit_org_df.head(1))\n",
    "display('cluster_org_df'); display(cluster_org_df.head(1))"
   ]
  },
  {
   "cell_type": "raw",
   "id": "57a0cb5f",
   "metadata": {
    "papermill": {
     "duration": 0.135572,
     "end_time": "2021-08-26T04:05:15.065396",
     "exception": false,
     "start_time": "2021-08-26T04:05:14.929824",
     "status": "completed"
    },
    "tags": []
   },
   "source": [
    "# build domain, org cluster ID as salesforce cluster\n",
    "sf_org_ID_df = pd.DataFrame()\n",
    "sf_org_ID_df['Domain__c'] = sf_org_df.iloc[:,0]\n",
    "sf_org_ID_df['Salesforce_ID'] = sf_org_df.iloc[:,1]\n",
    "display(sf_org_ID_df.head(2))\n",
    "display(df.head(2))"
   ]
  },
  {
   "cell_type": "raw",
   "id": "5f6010ef",
   "metadata": {
    "papermill": {
     "duration": 0.134442,
     "end_time": "2021-08-26T04:05:15.337651",
     "exception": false,
     "start_time": "2021-08-26T04:05:15.203209",
     "status": "completed"
    },
    "tags": []
   },
   "source": [
    "# join salesforce ID back to contact DF\n",
    "df = pd.merge(sf_org_ID_df, df, how='right', left_on='Domain__c', right_on='domain').drop('Domain__c', axis=1)\\\n",
    "            .rename(columns={'Id':'Salesforce_ID'})\n",
    "display(df.head(2))"
   ]
  },
  {
   "cell_type": "raw",
   "id": "60f5304d",
   "metadata": {
    "papermill": {
     "duration": 0.137133,
     "end_time": "2021-08-26T04:05:15.616507",
     "exception": false,
     "start_time": "2021-08-26T04:05:15.479374",
     "status": "completed"
    },
    "tags": []
   },
   "source": [
    "## Correct organizations for citations\n",
    "sf_cit_ovr = sf_cit_org_df.drop_duplicates(subset='Contact__c',keep='first')\n",
    "temp = sf_cit_ovr.loc[:,'Contact__c']\n",
    "t_names = sf_contact_df.loc[:,'Id'].tolist()\n",
    "\n",
    "# iterate over all\n",
    "names = []\n",
    "for i in temp:\n",
    "    names.append(t_names.index(i))"
   ]
  },
  {
   "cell_type": "raw",
   "id": "42ea716a",
   "metadata": {
    "papermill": {
     "duration": 0.14727,
     "end_time": "2021-08-26T04:05:15.907465",
     "exception": false,
     "start_time": "2021-08-26T04:05:15.760195",
     "status": "completed"
    },
    "tags": []
   },
   "source": [
    "# populate df.Salesforce_ID\n",
    "use_names = sf_contact_df.loc[names,'Name'].tolist()\n",
    "citation_orgs = sf_cit_ovr.loc[:,'Organization__c'].tolist()\n",
    "\n",
    "t0 = df.name.tolist()\n",
    "for index,val in enumerate(use_names):\n",
    "    try:\n",
    "        name_index = t0.index(val)\n",
    "        df.Salesforce_ID[name_index] = citation_orgs[index]\n",
    "    except:\n",
    "        t = 1"
   ]
  },
  {
   "cell_type": "raw",
   "id": "67f3f1ce",
   "metadata": {
    "papermill": {
     "duration": 0.13487,
     "end_time": "2021-08-26T04:05:16.178913",
     "exception": false,
     "start_time": "2021-08-26T04:05:16.044043",
     "status": "completed"
    },
    "tags": []
   },
   "source": [
    "## Correct organizations for nanohub profile\n",
    "# extract Organization__c\n",
    "nano_orgs = (sf_contact_df.Organization__c[sf_contact_df.Organization__c.notnull()]).to_numpy()\n",
    "\n",
    "# nanohub organizations aren't necessarily ine ntlk database...\n",
    "# manual trial-and-error corrections\n",
    "nano_orgs[np.argwhere(nano_orgs == 'purdue university')] = 'Purdue University-Main Campus'\n",
    "nano_orgs[np.argwhere(nano_orgs == 'centerfor solar energy studies')] = 'University of Central Florida'\n",
    "nano_orgs[np.argwhere(nano_orgs == 'jpl')] = 'nasa'\n",
    "nano_orgs[np.argwhere(nano_orgs == 'bechtel bettis, inc.')] = 'bechtel corporation'\n",
    "nano_orgs[np.argwhere(nano_orgs == 'cadence')] = 'cadence design systems'\n",
    "\n",
    "nano_orgs[np.argwhere(nano_orgs == 'university of illinois at urbana-champaign')] = 'University of Illinois at Urbana-Champaign'\n",
    "nano_orgs[np.argwhere(nano_orgs == 'university of texas at austin')] = 'The University of Texas at Austin'\n",
    "nano_orgs[np.argwhere(nano_orgs == 'university of texas at el paso')] = 'The University of Texas at El Paso'\n",
    "\n",
    "#comment out later\n",
    "#nano_orgs[np.argwhere(nano_orgs == 'universidad de buenos aires')] = 'universidad del valle'\n",
    "#nano_orgs[np.argwhere(nano_orgs == 'federal university of rio grande do sul (ufrgs)')] = 'universidad del valle'\n",
    "\n",
    "# get orgnization ids\n",
    "orgs_list = sf_org_df.Name.tolist()\n",
    "orgs_index = [] #orgs_index used to find salesforce org ID\n",
    "for i in nano_orgs:\n",
    "    try:\n",
    "        orgs_index.append(orgs_list.index(i))\n",
    "    except:\n",
    "        t = 1"
   ]
  },
  {
   "cell_type": "raw",
   "id": "295bd8e5",
   "metadata": {
    "papermill": {
     "duration": 0.13974,
     "end_time": "2021-08-26T04:05:16.464428",
     "exception": false,
     "start_time": "2021-08-26T04:05:16.324688",
     "status": "completed"
    },
    "tags": []
   },
   "source": [
    "# populate df.Salesforce\n",
    "#names of people who've have a nanohub organization filled out\n",
    "nano_names = sf_contact_df.Name[sf_contact_df.Organization__c.notnull()]\n",
    "\n",
    "# both orgs_index + nano_names are sequential (first come first served)\n",
    "t0 = df.name.tolist()\n",
    "for index,val in enumerate(nano_names):\n",
    "    try:\n",
    "        name_index = t0.index(val)\n",
    "        df.Salesforce_ID[name_index] = orgs_index[index]\n",
    "    except:\n",
    "        t = 1 "
   ]
  },
  {
   "cell_type": "raw",
   "id": "89041d8a",
   "metadata": {
    "papermill": {
     "duration": 0.136987,
     "end_time": "2021-08-26T04:05:16.741253",
     "exception": false,
     "start_time": "2021-08-26T04:05:16.604266",
     "status": "completed"
    },
    "tags": []
   },
   "source": [
    "## correct for overwrites (Organization_Overwrite__c from contact is the nanohubProfile)\n",
    "# find all indexes where Organization_Overwrite__c is not NaN\n",
    "df_replace = sf_contact_df.loc[:,'Name'][sf_contact_df['Organization_Overwrite__c'].notnull()]\n",
    "display(df_replace.head(2))"
   ]
  },
  {
   "cell_type": "code",
   "execution_count": null,
   "id": "70136f13",
   "metadata": {
    "jupyter": {
     "source_hidden": true
    },
    "papermill": {
     "duration": 0.143063,
     "end_time": "2021-08-26T04:05:17.026012",
     "exception": false,
     "start_time": "2021-08-26T04:05:16.882949",
     "status": "completed"
    },
    "tags": []
   },
   "outputs": [],
   "source": []
  },
  {
   "cell_type": "markdown",
   "id": "cf267bb9",
   "metadata": {
    "papermill": {
     "duration": 0.137426,
     "end_time": "2021-08-26T04:05:17.308583",
     "exception": false,
     "start_time": "2021-08-26T04:05:17.171157",
     "status": "completed"
    },
    "tags": []
   },
   "source": [
    "## Match data with Salesforce format"
   ]
  },
  {
   "cell_type": "raw",
   "id": "7cd2d27e",
   "metadata": {
    "papermill": {
     "duration": 0.14207,
     "end_time": "2021-08-26T04:05:17.596630",
     "exception": false,
     "start_time": "2021-08-26T04:05:17.454560",
     "status": "completed"
    },
    "tags": []
   },
   "source": [
    "# split full name into first, middle, and last names\n",
    "def split_full_name(this_name):\n",
    "    this_name_list = list(filter(None, this_name.split(' ')))\n",
    "    \n",
    "    if len(this_name_list) == 1:\n",
    "        # single word name\n",
    "        return pd.Series([this_name_list[0],None, this_name_list[0]])\n",
    "    \n",
    "    elif len(this_name_list) > 1:\n",
    "        # multi word name\n",
    "        return pd.Series([this_name_list[0],' '.join(this_name_list[1:-1]),this_name_list[-1]])"
   ]
  },
  {
   "cell_type": "raw",
   "id": "725c8601",
   "metadata": {
    "papermill": {
     "duration": 0.144937,
     "end_time": "2021-08-26T04:05:17.885399",
     "exception": false,
     "start_time": "2021-08-26T04:05:17.740462",
     "status": "completed"
    },
    "tags": []
   },
   "source": [
    "df_sf = pd.DataFrame()\n",
    "\n",
    "# Make sure NaN and NaT values are taken care of here\n",
    "df_sf[['firstname', 'Middle_name__c', 'lastname']] = df['name'].apply(split_full_name)\n",
    "\n",
    "df_sf['nanoHUB_user_ID__c']            = df['id']\n",
    "df_sf['nanoHUB_username__c']           = df['username']\n",
    "df_sf['Email']                         = df['email'].fillna('').apply(lambda x: '' if '@invalid' in x else x)\n",
    "\n",
    "# for sendEmail: 0 = opt-out, 1 = receive email. For salesforce HasOptedOutOfEmail, it's exact opposite\n",
    "df_sf['HasOptedOutOfEmail']            = df['sendEmail'].apply(lambda x: 0 if x==1 else 1)\n",
    "df_sf['nanoHUB_account_BLOCKED__c']    = df['block'].fillna(0)\n",
    "\n",
    "# solidify time-related columns from datetime to string - DUPLICATED IN TASK_USER_UPDATE_PROFILES\n",
    "#df_sf['nanoHUB_registration_date__c']  = df['registerDate'].dt.date.fillna('').astype('str')\n",
    "#df_sf['nanoHUB_last_active_date__c']   = df['lastvisitDate'].dt.date.fillna('').astype('str')\n",
    "\n",
    "# Tableau detailed view\n",
    "df_sf['Detailed_user_timeline_to_Tableau__c'] = df_sf['Email'].apply(lambda x: 'https://tableauqa.itap.purdue.edu/views/profile/ProfileTimeline?Id%20Email='+x+'\\\n",
    "&:iframeSizedToWindow=true&:embed=y&:showAppBanner=false\\\n",
    "&:display_count=no&:showVizHome=no#6' if x != '' else '')\n",
    "\n",
    "# nanoHUB user profile\n",
    "df_sf['nanoHUB_user_page__c'] = df_sf['nanoHUB_user_ID__c'].apply(lambda x: 'https://nanohub.org/members/%d'%x if x != '' else '')\n",
    "\n",
    "df_sf['ORCID__c'] = df['orcid'].fillna('')\n",
    "df_sf['Organization__c'] = df['organization'].fillna('')\n",
    "df_sf['Organization_Type__c'] = df['orgtype'].fillna('')\n",
    "\n",
    "# derived information\n",
    "df_sf['Organization_email_derived__c'] = df['Salesforce_ID']\n",
    "\n",
    "sf_original_fields = df_sf.columns\n",
    "\n",
    "# display\n",
    "df_sf.head(2).T"
   ]
  },
  {
   "cell_type": "raw",
   "id": "16c38b37",
   "metadata": {
    "papermill": {
     "duration": 0.148429,
     "end_time": "2021-08-26T04:05:18.178540",
     "exception": false,
     "start_time": "2021-08-26T04:05:18.030111",
     "status": "completed"
    },
    "tags": []
   },
   "source": [
    "## organization composite population\n",
    "# check overwrites - organization_overwrite__c\n",
    "df_sf['Organization_composite__c'] = sf_contact_df['Organization_Overwrite__c']\n",
    "\n",
    "# find remaining indexes that are NaN\n",
    "nan_index = df_sf['Organization_composite__c'].isna()\n",
    "nan_index = [i for i,flag in enumerate(nan_index) if flag==True]\n",
    "\n",
    "from copy import deepcopy\n",
    "# look at nanohub profile\n",
    "pd.options.mode.chained_assignment = None\n",
    "df_sf['Organization_composite__c'][nan_index] = deepcopy(df_sf['Organization__c'][nan_index])\n",
    "\n",
    "empty_index = df_sf['Organization_composite__c']==''\n",
    "empty_index = [i for i,flag in enumerate(empty_index) if flag==True]\n",
    "\n",
    "# look at emails\n",
    "df_sf['Organization_composite__c'][empty_index] = deepcopy(df_sf['Organization_email_derived__c'][empty_index])"
   ]
  },
  {
   "cell_type": "raw",
   "id": "635ccbca",
   "metadata": {
    "papermill": {
     "duration": 0.147302,
     "end_time": "2021-08-26T04:05:18.477773",
     "exception": false,
     "start_time": "2021-08-26T04:05:18.330471",
     "status": "completed"
    },
    "tags": []
   },
   "source": [
    "print(df_sf['nanoHUB_user_ID__c'].index[df_sf['nanoHUB_user_ID__c']==3379])\n",
    "print(df_sf['Organization_composite__c'][67870])\n",
    "df_sf['Organization_email_derived__c'][67870] = 'University of Florida'"
   ]
  },
  {
   "cell_type": "markdown",
   "id": "2bdb65c5",
   "metadata": {
    "papermill": {
     "duration": 0.142581,
     "end_time": "2021-08-26T04:05:18.770617",
     "exception": false,
     "start_time": "2021-08-26T04:05:18.628036",
     "status": "completed"
    },
    "tags": []
   },
   "source": [
    "## To Salesforce Sales Cloud CRM"
   ]
  },
  {
   "cell_type": "raw",
   "id": "22b71c2b",
   "metadata": {
    "papermill": {
     "duration": 0.144122,
     "end_time": "2021-08-26T04:05:19.059615",
     "exception": false,
     "start_time": "2021-08-26T04:05:18.915493",
     "status": "completed"
    },
    "tags": []
   },
   "source": [
    "\n",
    "\n",
    "# create DB2 to Salesforce API object\n",
    "db_s = salesforce\n",
    "\n",
    "db_s.object_id = object_id\n",
    "db_s.external_id = external_id"
   ]
  },
  {
   "cell_type": "raw",
   "id": "a6cc9a1c",
   "metadata": {
    "papermill": {
     "duration": 0.14533,
     "end_time": "2021-08-26T04:05:19.347865",
     "exception": false,
     "start_time": "2021-08-26T04:05:19.202535",
     "status": "completed"
    },
    "tags": []
   },
   "source": [
    "# send data to Salesforce\n",
    "db_s.send_data(df_sf)"
   ]
  },
  {
   "cell_type": "raw",
   "id": "711df6a1",
   "metadata": {
    "papermill": {
     "duration": 0.141632,
     "end_time": "2021-08-26T04:05:19.634757",
     "exception": false,
     "start_time": "2021-08-26T04:05:19.493125",
     "status": "completed"
    },
    "tags": []
   },
   "source": [
    "# check status\n",
    "db_s.check_bulk_status()"
   ]
  },
  {
   "cell_type": "raw",
   "id": "0b8a1d05",
   "metadata": {
    "papermill": {
     "duration": 0.137796,
     "end_time": "2021-08-26T04:05:19.914683",
     "exception": false,
     "start_time": "2021-08-26T04:05:19.776887",
     "status": "completed"
    },
    "tags": []
   },
   "source": [
    "# check status\n",
    "from pprint import pprint\n",
    "\n",
    "pprint(db_s.check_bulk_failed_results())"
   ]
  },
  {
   "cell_type": "code",
   "execution_count": null,
   "id": "14afd378",
   "metadata": {
    "jupyter": {
     "source_hidden": true
    },
    "papermill": {
     "duration": 0.14389,
     "end_time": "2021-08-26T04:05:20.198787",
     "exception": false,
     "start_time": "2021-08-26T04:05:20.054897",
     "status": "completed"
    },
    "tags": []
   },
   "outputs": [],
   "source": []
  }
 ],
 "metadata": {
  "celltoolbar": "Tags",
  "kernelspec": {
   "display_name": "Python 3",
   "language": "python",
   "name": "python3"
  },
  "language_info": {
   "codemirror_mode": {
    "name": "ipython",
    "version": 3
   },
   "file_extension": ".py",
   "mimetype": "text/x-python",
   "name": "python",
   "nbconvert_exporter": "python",
   "pygments_lexer": "ipython3",
   "version": "3.8.2"
  },
  "papermill": {
   "duration": 407.109539,
   "end_time": "2021-08-26T04:05:21.802599",
   "environment_variables": {},
   "exception": null,
   "input_path": "nanoHUB/pipeline/salesforce/task_determine_contact_cluster_org.ipynb",
   "output_path": "./.output/task_determine_contact_cluster_org.ipynb",
   "parameters": {},
   "start_time": "2021-08-26T03:58:34.693060",
   "version": "2.1.1"
  }
 },
 "nbformat": 4,
 "nbformat_minor": 5
}