{
 "cells": [
  {
   "cell_type": "markdown",
   "id": "ece9199b",
   "metadata": {
    "papermill": {
     "duration": 0.084092,
     "end_time": "2021-10-25T11:11:12.832780",
     "exception": false,
     "start_time": "2021-10-25T11:11:12.748688",
     "status": "completed"
    },
    "tags": []
   },
   "source": [
    "# DB2-Salesforce connector: Determine cluster organization"
   ]
  },
  {
   "cell_type": "code",
   "execution_count": 1,
   "id": "ef9286d0",
   "metadata": {
    "execution": {
     "iopub.execute_input": "2021-10-25T11:11:13.004301Z",
     "iopub.status.busy": "2021-10-25T11:11:13.003217Z",
     "iopub.status.idle": "2021-10-25T11:11:14.646096Z",
     "shell.execute_reply": "2021-10-25T11:11:14.646490Z"
    },
    "jupyter": {
     "source_hidden": true
    },
    "papermill": {
     "duration": 1.729798,
     "end_time": "2021-10-25T11:11:14.646721",
     "exception": false,
     "start_time": "2021-10-25T11:11:12.916923",
     "status": "completed"
    },
    "tags": [
     "parameters"
    ]
   },
   "outputs": [
    {
     "name": "stdout",
     "output_type": "stream",
     "text": [
      "\u001b[1mnanoHUB - Serving Students, Researchers & Instructors\u001b[0m\n"
     ]
    },
    {
     "name": "stdout",
     "output_type": "stream",
     "text": [
      "Obtained Salesforce access token ...... True\n"
     ]
    }
   ],
   "source": [
    "# API settings\n",
    "api_url = '/services/data/v43.0/sobjects'\n",
    "external_id = 'nanoHUB_user_ID__c'\n",
    "object_id = 'Contact'\n",
    "\n",
    "from nanoHUB.application import Application\n",
    "\n",
    "application = Application.get_instance()\n",
    "nanohub_db = application.new_db_engine('nanohub')\n",
    "\n",
    "salesforce = application.new_salesforce_engine()\n",
    "db_s = salesforce"
   ]
  },
  {
   "cell_type": "code",
   "execution_count": 2,
   "id": "5cd8d873",
   "metadata": {
    "execution": {
     "iopub.execute_input": "2021-10-25T11:11:14.825130Z",
     "iopub.status.busy": "2021-10-25T11:11:14.824473Z",
     "iopub.status.idle": "2021-10-25T11:11:14.826867Z",
     "shell.execute_reply": "2021-10-25T11:11:14.827385Z"
    },
    "jupyter": {
     "source_hidden": true
    },
    "papermill": {
     "duration": 0.092503,
     "end_time": "2021-10-25T11:11:14.827635",
     "exception": false,
     "start_time": "2021-10-25T11:11:14.735132",
     "status": "completed"
    },
    "tags": []
   },
   "outputs": [],
   "source": [
    "import pandas as pd\n",
    "import datetime\n",
    "import numpy as np\n",
    "pd.options.mode.chained_assignment = None"
   ]
  },
  {
   "cell_type": "markdown",
   "id": "a5fe61a7",
   "metadata": {
    "papermill": {
     "duration": 0.07869,
     "end_time": "2021-10-25T11:11:14.986845",
     "exception": false,
     "start_time": "2021-10-25T11:11:14.908155",
     "status": "completed"
    },
    "tags": []
   },
   "source": [
    "## Obtain contacts from DB2 \n",
    "that have last visit date within range of interest specified by day_range"
   ]
  },
  {
   "cell_type": "raw",
   "id": "86ca4bef",
   "metadata": {
    "papermill": {
     "duration": 0.078303,
     "end_time": "2021-10-25T11:11:15.143061",
     "exception": false,
     "start_time": "2021-10-25T11:11:15.064758",
     "status": "completed"
    },
    "tags": []
   },
   "source": [
    "MariaDB [nanohub]> select id, name, label from jos_user_profile_fields;\n",
    "+----+-----------------+-------------------------------------------------------+\n",
    "| id | name            | label                                                 |\n",
    "+----+-----------------+-------------------------------------------------------+\n",
    "|  1 | organization    | Organization                                          |\n",
    "|  2 | orgtype         | Organization / Position Type                          |\n",
    "|  3 | countryresident | Residency                                             |\n",
    "|  4 | countryorigin   | Citizenship                                           |\n",
    "|  5 | url             | Website                                               |\n",
    "|  6 | phone           | Telephone                                             |\n",
    "|  7 | orcid           | ORCID                                                 |\n",
    "|  8 | gender          | Gender                                                |\n",
    "|  9 | race            | Racial Background                                     |\n",
    "| 10 | disability      | Disability                                            |\n",
    "| 11 | reason          | Reason                                                |\n",
    "| 12 | tags            | Interests                                             |\n",
    "| 13 | address         | Address                                               |\n",
    "| 14 | hispanic        | Hispanic Heritage                                     |\n",
    "| 15 | bio             | Biography                                             |\n",
    "| 16 | howdidyouhear   | How did you first hear about nanoHUB?                 |\n",
    "| 17 | purposeofvisit  | What is the primary purpose of your visit to nanoHUB? |\n",
    "+----+-----------------+-------------------------------------------------------+\n",
    "\n",
    "\n",
    "\n",
    "MariaDB [nanohub]> explain  jos_user_profiles;\n",
    "+---------------+------------------+------+-----+---------+----------------+\n",
    "| Field         | Type             | Null | Key | Default | Extra          |\n",
    "+---------------+------------------+------+-----+---------+----------------+\n",
    "| id            | int(11) unsigned | NO   | PRI | NULL    | auto_increment |\n",
    "| user_id       | int(11)          | NO   | MUL | NULL    |                |\n",
    "| profile_key   | varchar(100)     | NO   |     | NULL    |                |\n",
    "| profile_value | text             | NO   |     | NULL    |                |\n",
    "| ordering      | int(11)          | NO   |     | 0       |                |\n",
    "| access        | int(10)          | NO   |     | 0       |                |\n",
    "+---------------+------------------+------+-----+---------+----------------+"
   ]
  },
  {
   "cell_type": "code",
   "execution_count": 3,
   "id": "99abbb31",
   "metadata": {
    "execution": {
     "iopub.execute_input": "2021-10-25T11:11:15.307289Z",
     "iopub.status.busy": "2021-10-25T11:11:15.306561Z",
     "iopub.status.idle": "2021-10-25T11:11:15.309341Z",
     "shell.execute_reply": "2021-10-25T11:11:15.309871Z"
    },
    "jupyter": {
     "source_hidden": true
    },
    "papermill": {
     "duration": 0.088775,
     "end_time": "2021-10-25T11:11:15.310104",
     "exception": false,
     "start_time": "2021-10-25T11:11:15.221329",
     "status": "completed"
    },
    "tags": []
   },
   "outputs": [
    {
     "name": "stdout",
     "output_type": "stream",
     "text": [
      "select id, name, username, block, email, sendEmail, registerDate, lastvisitDate                     from jos_users\n"
     ]
    }
   ],
   "source": [
    "# Depending on the task, use different query and cutoff\n",
    "\n",
    "sql_query = \"select id, name, username, block, email, sendEmail, registerDate, lastvisitDate \\\n",
    "                    from jos_users\"\n",
    "\n",
    "# display\n",
    "print(sql_query)"
   ]
  },
  {
   "cell_type": "code",
   "execution_count": 4,
   "id": "061834f3",
   "metadata": {
    "execution": {
     "iopub.execute_input": "2021-10-25T11:11:15.474294Z",
     "iopub.status.busy": "2021-10-25T11:11:15.473683Z",
     "iopub.status.idle": "2021-10-25T11:11:30.098552Z",
     "shell.execute_reply": "2021-10-25T11:11:30.098984Z"
    },
    "jupyter": {
     "source_hidden": true
    },
    "papermill": {
     "duration": 14.709855,
     "end_time": "2021-10-25T11:11:30.099229",
     "exception": false,
     "start_time": "2021-10-25T11:11:15.389374",
     "status": "completed"
    },
    "tags": []
   },
   "outputs": [],
   "source": [
    "# connect with DB2\n",
    "df = pd.read_sql_query(sql_query, nanohub_db)\n",
    "\n",
    "# get user profile details\n",
    "profile_df = pd.read_sql_query(\"select * from jos_user_profiles where profile_key in ('orgtype', 'organization', 'orcid')\", nanohub_db)"
   ]
  },
  {
   "cell_type": "code",
   "execution_count": 5,
   "id": "d2d23109",
   "metadata": {
    "execution": {
     "iopub.execute_input": "2021-10-25T11:11:30.267165Z",
     "iopub.status.busy": "2021-10-25T11:11:30.266491Z",
     "iopub.status.idle": "2021-10-25T11:11:30.280086Z",
     "shell.execute_reply": "2021-10-25T11:11:30.280644Z"
    },
    "jupyter": {
     "source_hidden": true
    },
    "papermill": {
     "duration": 0.102967,
     "end_time": "2021-10-25T11:11:30.280841",
     "exception": false,
     "start_time": "2021-10-25T11:11:30.177874",
     "status": "completed"
    },
    "tags": []
   },
   "outputs": [
    {
     "data": {
      "text/html": [
       "<div>\n",
       "<style scoped>\n",
       "    .dataframe tbody tr th:only-of-type {\n",
       "        vertical-align: middle;\n",
       "    }\n",
       "\n",
       "    .dataframe tbody tr th {\n",
       "        vertical-align: top;\n",
       "    }\n",
       "\n",
       "    .dataframe thead th {\n",
       "        text-align: right;\n",
       "    }\n",
       "</style>\n",
       "<table border=\"1\" class=\"dataframe\">\n",
       "  <thead>\n",
       "    <tr style=\"text-align: right;\">\n",
       "      <th></th>\n",
       "      <th>id</th>\n",
       "      <th>name</th>\n",
       "      <th>username</th>\n",
       "      <th>block</th>\n",
       "      <th>email</th>\n",
       "      <th>sendEmail</th>\n",
       "      <th>registerDate</th>\n",
       "      <th>lastvisitDate</th>\n",
       "    </tr>\n",
       "  </thead>\n",
       "  <tbody>\n",
       "    <tr>\n",
       "      <th>0</th>\n",
       "      <td>998</td>\n",
       "      <td>hubrepo hubrepo</td>\n",
       "      <td>hubrepo</td>\n",
       "      <td>0</td>\n",
       "      <td>nkissebe@gmail.com</td>\n",
       "      <td>0</td>\n",
       "      <td>2014-11-13 21:09:09</td>\n",
       "      <td>NaT</td>\n",
       "    </tr>\n",
       "  </tbody>\n",
       "</table>\n",
       "</div>"
      ],
      "text/plain": [
       "    id             name username  block               email  sendEmail  \\\n",
       "0  998  hubrepo hubrepo  hubrepo      0  nkissebe@gmail.com          0   \n",
       "\n",
       "         registerDate lastvisitDate  \n",
       "0 2014-11-13 21:09:09           NaT  "
      ]
     },
     "metadata": {},
     "output_type": "display_data"
    },
    {
     "data": {
      "text/html": [
       "<div>\n",
       "<style scoped>\n",
       "    .dataframe tbody tr th:only-of-type {\n",
       "        vertical-align: middle;\n",
       "    }\n",
       "\n",
       "    .dataframe tbody tr th {\n",
       "        vertical-align: top;\n",
       "    }\n",
       "\n",
       "    .dataframe thead th {\n",
       "        text-align: right;\n",
       "    }\n",
       "</style>\n",
       "<table border=\"1\" class=\"dataframe\">\n",
       "  <thead>\n",
       "    <tr style=\"text-align: right;\">\n",
       "      <th></th>\n",
       "      <th>id</th>\n",
       "      <th>user_id</th>\n",
       "      <th>profile_key</th>\n",
       "      <th>profile_value</th>\n",
       "      <th>ordering</th>\n",
       "      <th>access</th>\n",
       "    </tr>\n",
       "  </thead>\n",
       "  <tbody>\n",
       "    <tr>\n",
       "      <th>0</th>\n",
       "      <td>1</td>\n",
       "      <td>15623</td>\n",
       "      <td>orgtype</td>\n",
       "      <td>university</td>\n",
       "      <td>2</td>\n",
       "      <td>5</td>\n",
       "    </tr>\n",
       "  </tbody>\n",
       "</table>\n",
       "</div>"
      ],
      "text/plain": [
       "   id  user_id profile_key profile_value  ordering  access\n",
       "0   1    15623     orgtype    university         2       5"
      ]
     },
     "metadata": {},
     "output_type": "display_data"
    }
   ],
   "source": [
    "# display\n",
    "display(df.head(1))\n",
    "\n",
    "display(profile_df.head(1))"
   ]
  },
  {
   "cell_type": "code",
   "execution_count": 6,
   "id": "b5cc9cb7",
   "metadata": {
    "execution": {
     "iopub.execute_input": "2021-10-25T11:11:30.465372Z",
     "iopub.status.busy": "2021-10-25T11:11:30.464770Z",
     "iopub.status.idle": "2021-10-25T11:11:31.131169Z",
     "shell.execute_reply": "2021-10-25T11:11:31.131678Z"
    },
    "jupyter": {
     "source_hidden": true
    },
    "papermill": {
     "duration": 0.770269,
     "end_time": "2021-10-25T11:11:31.131918",
     "exception": false,
     "start_time": "2021-10-25T11:11:30.361649",
     "status": "completed"
    },
    "tags": []
   },
   "outputs": [
    {
     "data": {
      "text/html": [
       "<div>\n",
       "<style scoped>\n",
       "    .dataframe tbody tr th:only-of-type {\n",
       "        vertical-align: middle;\n",
       "    }\n",
       "\n",
       "    .dataframe tbody tr th {\n",
       "        vertical-align: top;\n",
       "    }\n",
       "\n",
       "    .dataframe thead th {\n",
       "        text-align: right;\n",
       "    }\n",
       "</style>\n",
       "<table border=\"1\" class=\"dataframe\">\n",
       "  <thead>\n",
       "    <tr style=\"text-align: right;\">\n",
       "      <th></th>\n",
       "      <th>id</th>\n",
       "      <th>name</th>\n",
       "      <th>username</th>\n",
       "      <th>block</th>\n",
       "      <th>email</th>\n",
       "      <th>sendEmail</th>\n",
       "      <th>registerDate</th>\n",
       "      <th>lastvisitDate</th>\n",
       "      <th>orgtype</th>\n",
       "      <th>organization</th>\n",
       "      <th>orcid</th>\n",
       "    </tr>\n",
       "  </thead>\n",
       "  <tbody>\n",
       "    <tr>\n",
       "      <th>0</th>\n",
       "      <td>998</td>\n",
       "      <td>hubrepo hubrepo</td>\n",
       "      <td>hubrepo</td>\n",
       "      <td>0</td>\n",
       "      <td>nkissebe@gmail.com</td>\n",
       "      <td>0</td>\n",
       "      <td>2014-11-13 21:09:09</td>\n",
       "      <td>NaT</td>\n",
       "      <td>NaN</td>\n",
       "      <td>NaN</td>\n",
       "      <td>NaN</td>\n",
       "    </tr>\n",
       "  </tbody>\n",
       "</table>\n",
       "</div>"
      ],
      "text/plain": [
       "    id             name username  block               email  sendEmail  \\\n",
       "0  998  hubrepo hubrepo  hubrepo      0  nkissebe@gmail.com          0   \n",
       "\n",
       "         registerDate lastvisitDate orgtype organization orcid  \n",
       "0 2014-11-13 21:09:09           NaT     NaN          NaN   NaN  "
      ]
     },
     "metadata": {},
     "output_type": "display_data"
    }
   ],
   "source": [
    "df = pd.merge(df, profile_df[profile_df['profile_key'] == 'orgtype'][['user_id', 'profile_value']],\\\n",
    "                         how='left', left_on='id', right_on='user_id')\\\n",
    "    .drop(columns=['user_id']).rename(columns={'profile_value':'orgtype'})\n",
    "\n",
    "df = pd.merge(df, profile_df[profile_df['profile_key'] == 'organization'][['user_id', 'profile_value']],\\\n",
    "                         how='left', left_on='id', right_on='user_id')\\\n",
    "    .drop(columns=['user_id']).rename(columns={'profile_value':'organization'})\n",
    "\n",
    "df = pd.merge(df, profile_df[profile_df['profile_key'] == 'orcid'][['user_id', 'profile_value']],\\\n",
    "                         how='left', left_on='id', right_on='user_id')\\\n",
    "    .drop(columns=['user_id']).rename(columns={'profile_value':'orcid'})\n",
    "\n",
    "# display\n",
    "display(df.head(1))"
   ]
  },
  {
   "cell_type": "code",
   "execution_count": 7,
   "id": "e89aaa46",
   "metadata": {
    "execution": {
     "iopub.execute_input": "2021-10-25T11:11:31.307088Z",
     "iopub.status.busy": "2021-10-25T11:11:31.305802Z",
     "iopub.status.idle": "2021-10-25T11:13:43.457495Z",
     "shell.execute_reply": "2021-10-25T11:13:43.457921Z"
    },
    "jupyter": {
     "source_hidden": true
    },
    "papermill": {
     "duration": 132.242653,
     "end_time": "2021-10-25T11:13:43.458173",
     "exception": false,
     "start_time": "2021-10-25T11:11:31.215520",
     "status": "completed"
    },
    "tags": []
   },
   "outputs": [],
   "source": [
    "# Obtain company domain information from DB2\n",
    "wang159_myrmekes_db = application.new_db_engine('wang159_myrmekes')\n",
    "domain_df = pd.read_sql_query(\"select name as domain_name, domain, industry, `size range` as size, country \\\n",
    "from wang159_myrmekes.companies_email_domain\", wang159_myrmekes_db)"
   ]
  },
  {
   "cell_type": "code",
   "execution_count": 8,
   "id": "8a41051a",
   "metadata": {
    "execution": {
     "iopub.execute_input": "2021-10-25T11:13:47.170567Z",
     "iopub.status.busy": "2021-10-25T11:13:47.162617Z",
     "iopub.status.idle": "2021-10-25T11:13:50.786295Z",
     "shell.execute_reply": "2021-10-25T11:13:50.786799Z"
    },
    "jupyter": {
     "source_hidden": true
    },
    "papermill": {
     "duration": 7.246713,
     "end_time": "2021-10-25T11:13:50.787046",
     "exception": false,
     "start_time": "2021-10-25T11:13:43.540333",
     "status": "completed"
    },
    "tags": []
   },
   "outputs": [],
   "source": [
    "# make sure domain is unique and drop NaN\n",
    "domain_df = domain_df.drop_duplicates(subset='domain', keep='first').dropna()"
   ]
  },
  {
   "cell_type": "code",
   "execution_count": 9,
   "id": "b9cffd59",
   "metadata": {
    "execution": {
     "iopub.execute_input": "2021-10-25T11:13:50.995365Z",
     "iopub.status.busy": "2021-10-25T11:13:50.994823Z",
     "iopub.status.idle": "2021-10-25T11:13:51.095062Z",
     "shell.execute_reply": "2021-10-25T11:13:51.095576Z"
    },
    "jupyter": {
     "source_hidden": true
    },
    "papermill": {
     "duration": 0.226374,
     "end_time": "2021-10-25T11:13:51.095823",
     "exception": false,
     "start_time": "2021-10-25T11:13:50.869449",
     "status": "completed"
    },
    "tags": []
   },
   "outputs": [],
   "source": [
    "# get email domain of nanoHUB users\n",
    "def get_domain(this_email):\n",
    "    seg_list = this_email.split('@')\n",
    "    \n",
    "    if len(seg_list) == 2:\n",
    "        return seg_list[1].lower()\n",
    "    else:\n",
    "        return None\n",
    "    \n",
    "df['email_domain'] = df['email'].apply(get_domain)"
   ]
  },
  {
   "cell_type": "code",
   "execution_count": 10,
   "id": "d0c206b2",
   "metadata": {
    "execution": {
     "iopub.execute_input": "2021-10-25T11:13:51.307821Z",
     "iopub.status.busy": "2021-10-25T11:13:51.307218Z",
     "iopub.status.idle": "2021-10-25T11:13:52.205130Z",
     "shell.execute_reply": "2021-10-25T11:13:52.205744Z"
    },
    "jupyter": {
     "source_hidden": true
    },
    "papermill": {
     "duration": 1.026224,
     "end_time": "2021-10-25T11:13:52.206277",
     "exception": false,
     "start_time": "2021-10-25T11:13:51.180053",
     "status": "completed"
    },
    "tags": []
   },
   "outputs": [
    {
     "data": {
      "text/html": [
       "<div>\n",
       "<style scoped>\n",
       "    .dataframe tbody tr th:only-of-type {\n",
       "        vertical-align: middle;\n",
       "    }\n",
       "\n",
       "    .dataframe tbody tr th {\n",
       "        vertical-align: top;\n",
       "    }\n",
       "\n",
       "    .dataframe thead th {\n",
       "        text-align: right;\n",
       "    }\n",
       "</style>\n",
       "<table border=\"1\" class=\"dataframe\">\n",
       "  <thead>\n",
       "    <tr style=\"text-align: right;\">\n",
       "      <th></th>\n",
       "      <th>id</th>\n",
       "      <th>name</th>\n",
       "      <th>username</th>\n",
       "      <th>block</th>\n",
       "      <th>email</th>\n",
       "      <th>sendEmail</th>\n",
       "      <th>registerDate</th>\n",
       "      <th>lastvisitDate</th>\n",
       "      <th>orgtype</th>\n",
       "      <th>organization</th>\n",
       "      <th>orcid</th>\n",
       "      <th>email_domain</th>\n",
       "      <th>domain_name</th>\n",
       "      <th>domain</th>\n",
       "      <th>industry</th>\n",
       "      <th>size</th>\n",
       "      <th>country</th>\n",
       "    </tr>\n",
       "  </thead>\n",
       "  <tbody>\n",
       "    <tr>\n",
       "      <th>0</th>\n",
       "      <td>998</td>\n",
       "      <td>hubrepo hubrepo</td>\n",
       "      <td>hubrepo</td>\n",
       "      <td>0</td>\n",
       "      <td>nkissebe@gmail.com</td>\n",
       "      <td>0</td>\n",
       "      <td>2014-11-13 21:09:09</td>\n",
       "      <td>NaT</td>\n",
       "      <td>NaN</td>\n",
       "      <td>NaN</td>\n",
       "      <td>NaN</td>\n",
       "      <td>gmail.com</td>\n",
       "      <td>NaN</td>\n",
       "      <td>NaN</td>\n",
       "      <td>NaN</td>\n",
       "      <td>NaN</td>\n",
       "      <td>NaN</td>\n",
       "    </tr>\n",
       "    <tr>\n",
       "      <th>1</th>\n",
       "      <td>1000</td>\n",
       "      <td>CMS Admin Manager</td>\n",
       "      <td>admin</td>\n",
       "      <td>0</td>\n",
       "      <td>support@nanohub.org</td>\n",
       "      <td>0</td>\n",
       "      <td>NaT</td>\n",
       "      <td>NaT</td>\n",
       "      <td>NaN</td>\n",
       "      <td>NaN</td>\n",
       "      <td>NaN</td>\n",
       "      <td>nanohub.org</td>\n",
       "      <td>NaN</td>\n",
       "      <td>NaN</td>\n",
       "      <td>NaN</td>\n",
       "      <td>NaN</td>\n",
       "      <td>NaN</td>\n",
       "    </tr>\n",
       "  </tbody>\n",
       "</table>\n",
       "</div>"
      ],
      "text/plain": [
       "     id               name username  block                email  sendEmail  \\\n",
       "0   998    hubrepo hubrepo  hubrepo      0   nkissebe@gmail.com          0   \n",
       "1  1000  CMS Admin Manager    admin      0  support@nanohub.org          0   \n",
       "\n",
       "         registerDate lastvisitDate orgtype organization orcid email_domain  \\\n",
       "0 2014-11-13 21:09:09           NaT     NaN          NaN   NaN    gmail.com   \n",
       "1                 NaT           NaT     NaN          NaN   NaN  nanohub.org   \n",
       "\n",
       "  domain_name domain industry size country  \n",
       "0         NaN    NaN      NaN  NaN     NaN  \n",
       "1         NaN    NaN      NaN  NaN     NaN  "
      ]
     },
     "metadata": {},
     "output_type": "display_data"
    }
   ],
   "source": [
    "df = pd.merge(df, domain_df[domain_df.domain.isin(df['email_domain'].unique()) & ~domain_df.domain.isna()],\\\n",
    "         how='left', left_on='email_domain', right_on='domain')\n",
    "\n",
    "# display\n",
    "display(df.head(2))"
   ]
  },
  {
   "cell_type": "markdown",
   "id": "f2ba99a3",
   "metadata": {
    "papermill": {
     "duration": 0.084955,
     "end_time": "2021-10-25T11:13:52.382816",
     "exception": false,
     "start_time": "2021-10-25T11:13:52.297861",
     "status": "completed"
    },
    "tags": []
   },
   "source": [
    "## Obtain newly updated organization IDs from Salesforce"
   ]
  },
  {
   "cell_type": "code",
   "execution_count": 11,
   "id": "67ee5a89",
   "metadata": {
    "execution": {
     "iopub.execute_input": "2021-10-25T11:13:52.557563Z",
     "iopub.status.busy": "2021-10-25T11:13:52.556985Z",
     "iopub.status.idle": "2021-10-25T11:14:22.133773Z",
     "shell.execute_reply": "2021-10-25T11:14:22.134290Z"
    },
    "jupyter": {
     "source_hidden": true
    },
    "papermill": {
     "duration": 29.667461,
     "end_time": "2021-10-25T11:14:22.134470",
     "exception": false,
     "start_time": "2021-10-25T11:13:52.467009",
     "status": "completed"
    },
    "tags": []
   },
   "outputs": [
    {
     "name": "stdout",
     "output_type": "stream",
     "text": [
      "[Success] Bulk job creation successful. Job ID = 7505w00000b2D1VAAU\n"
     ]
    },
    {
     "name": "stdout",
     "output_type": "stream",
     "text": [
      "{\"id\":\"7505w00000b2D1VAAU\",\"operation\":\"query\",\"object\":\"ContactToolClusterAssociation__c\",\"createdById\":\"0055w00000DM5bOAAT\",\"createdDate\":\"2021-10-25T11:13:52.000+0000\",\"systemModstamp\":\"2021-10-25T11:13:52.000+0000\",\"state\":\"UploadComplete\",\"concurrencyMode\":\"Parallel\",\"contentType\":\"CSV\",\"apiVersion\":47.0,\"jobType\":\"V2Query\",\"lineEnding\":\"LF\",\"columnDelimiter\":\"COMMA\",\"retries\":0,\"totalProcessingTime\":0}\n"
     ]
    },
    {
     "name": "stdout",
     "output_type": "stream",
     "text": [
      "{\"id\":\"7505w00000b2D1VAAU\",\"operation\":\"query\",\"object\":\"ContactToolClusterAssociation__c\",\"createdById\":\"0055w00000DM5bOAAT\",\"createdDate\":\"2021-10-25T11:13:52.000+0000\",\"systemModstamp\":\"2021-10-25T11:13:54.000+0000\",\"state\":\"InProgress\",\"concurrencyMode\":\"Parallel\",\"contentType\":\"CSV\",\"apiVersion\":47.0,\"jobType\":\"V2Query\",\"lineEnding\":\"LF\",\"columnDelimiter\":\"COMMA\",\"numberRecordsProcessed\":0,\"retries\":0,\"totalProcessingTime\":0}\n"
     ]
    },
    {
     "name": "stdout",
     "output_type": "stream",
     "text": [
      "{\"id\":\"7505w00000b2D1VAAU\",\"operation\":\"query\",\"object\":\"ContactToolClusterAssociation__c\",\"createdById\":\"0055w00000DM5bOAAT\",\"createdDate\":\"2021-10-25T11:13:52.000+0000\",\"systemModstamp\":\"2021-10-25T11:14:09.000+0000\",\"state\":\"JobComplete\",\"concurrencyMode\":\"Parallel\",\"contentType\":\"CSV\",\"apiVersion\":47.0,\"jobType\":\"V2Query\",\"lineEnding\":\"LF\",\"columnDelimiter\":\"COMMA\",\"numberRecordsProcessed\":98069,\"retries\":0,\"totalProcessingTime\":14851}\n",
      "[Success] Bulk job completed successfully.\n"
     ]
    },
    {
     "data": {
      "text/html": [
       "<div>\n",
       "<style scoped>\n",
       "    .dataframe tbody tr th:only-of-type {\n",
       "        vertical-align: middle;\n",
       "    }\n",
       "\n",
       "    .dataframe tbody tr th {\n",
       "        vertical-align: top;\n",
       "    }\n",
       "\n",
       "    .dataframe thead th {\n",
       "        text-align: right;\n",
       "    }\n",
       "</style>\n",
       "<table border=\"1\" class=\"dataframe\">\n",
       "  <thead>\n",
       "    <tr style=\"text-align: right;\">\n",
       "      <th></th>\n",
       "      <th>Contact__c</th>\n",
       "      <th>Id</th>\n",
       "      <th>Tool_Usage_Cluster__c</th>\n",
       "    </tr>\n",
       "  </thead>\n",
       "  <tbody>\n",
       "    <tr>\n",
       "      <th>0</th>\n",
       "      <td>0035w00003NeIaTAAV</td>\n",
       "      <td>a0x5w00000cRtKRAA0</td>\n",
       "      <td>a0w5w00000AXc7TAAT</td>\n",
       "    </tr>\n",
       "    <tr>\n",
       "      <th>1</th>\n",
       "      <td>0035w00003NeIaFAAV</td>\n",
       "      <td>a0x5w00000cRtU8AAK</td>\n",
       "      <td>a0w5w00000AXc7TAAT</td>\n",
       "    </tr>\n",
       "    <tr>\n",
       "      <th>2</th>\n",
       "      <td>0035w00003NeIaXAAV</td>\n",
       "      <td>a0x5w00000cRtU9AAK</td>\n",
       "      <td>a0w5w00000AXc7TAAT</td>\n",
       "    </tr>\n",
       "  </tbody>\n",
       "</table>\n",
       "</div>"
      ],
      "text/plain": [
       "           Contact__c                  Id Tool_Usage_Cluster__c\n",
       "0  0035w00003NeIaTAAV  a0x5w00000cRtKRAA0    a0w5w00000AXc7TAAT\n",
       "1  0035w00003NeIaFAAV  a0x5w00000cRtU8AAK    a0w5w00000AXc7TAAT\n",
       "2  0035w00003NeIaXAAV  a0x5w00000cRtU9AAK    a0w5w00000AXc7TAAT"
      ]
     },
     "execution_count": 11,
     "metadata": {},
     "output_type": "execute_result"
    }
   ],
   "source": [
    "# get Salesforce ID for organizations\n",
    "lim_val = 5*10**6\n",
    "sf_cluster_df = db_s.query_data('SELECT Id, Contact__c, Tool_Usage_Cluster__c FROM ContactToolClusterAssociation__c limit '\\\n",
    "                +str(lim_val))\n",
    "\n",
    "# display\n",
    "sf_cluster_df.head(3)"
   ]
  },
  {
   "cell_type": "code",
   "execution_count": 12,
   "id": "68231ac5",
   "metadata": {
    "execution": {
     "iopub.execute_input": "2021-10-25T11:14:22.317914Z",
     "iopub.status.busy": "2021-10-25T11:14:22.317119Z",
     "iopub.status.idle": "2021-10-25T11:14:22.319584Z",
     "shell.execute_reply": "2021-10-25T11:14:22.320082Z"
    },
    "jupyter": {
     "source_hidden": true
    },
    "papermill": {
     "duration": 0.095781,
     "end_time": "2021-10-25T11:14:22.320317",
     "exception": false,
     "start_time": "2021-10-25T11:14:22.224536",
     "status": "completed"
    },
    "tags": []
   },
   "outputs": [
    {
     "name": "stdout",
     "output_type": "stream",
     "text": [
      "(98069, 3)\n"
     ]
    }
   ],
   "source": [
    "print(sf_cluster_df.shape)"
   ]
  },
  {
   "cell_type": "code",
   "execution_count": 13,
   "id": "181186a1",
   "metadata": {
    "execution": {
     "iopub.execute_input": "2021-10-25T11:14:22.501797Z",
     "iopub.status.busy": "2021-10-25T11:14:22.501132Z",
     "iopub.status.idle": "2021-10-25T11:14:50.492676Z",
     "shell.execute_reply": "2021-10-25T11:14:50.493096Z"
    },
    "jupyter": {
     "source_hidden": true
    },
    "papermill": {
     "duration": 28.085789,
     "end_time": "2021-10-25T11:14:50.493336",
     "exception": false,
     "start_time": "2021-10-25T11:14:22.407547",
     "status": "completed"
    },
    "tags": []
   },
   "outputs": [
    {
     "name": "stdout",
     "output_type": "stream",
     "text": [
      "[Success] Bulk job creation successful. Job ID = 7505w00000b2D43AAE\n"
     ]
    },
    {
     "name": "stdout",
     "output_type": "stream",
     "text": [
      "{\"id\":\"7505w00000b2D43AAE\",\"operation\":\"query\",\"object\":\"Contact\",\"createdById\":\"0055w00000DM5bOAAT\",\"createdDate\":\"2021-10-25T11:14:22.000+0000\",\"systemModstamp\":\"2021-10-25T11:14:23.000+0000\",\"state\":\"UploadComplete\",\"concurrencyMode\":\"Parallel\",\"contentType\":\"CSV\",\"apiVersion\":47.0,\"jobType\":\"V2Query\",\"lineEnding\":\"LF\",\"columnDelimiter\":\"COMMA\",\"retries\":0,\"totalProcessingTime\":0}\n"
     ]
    },
    {
     "name": "stdout",
     "output_type": "stream",
     "text": [
      "{\"id\":\"7505w00000b2D43AAE\",\"operation\":\"query\",\"object\":\"Contact\",\"createdById\":\"0055w00000DM5bOAAT\",\"createdDate\":\"2021-10-25T11:14:22.000+0000\",\"systemModstamp\":\"2021-10-25T11:14:23.000+0000\",\"state\":\"InProgress\",\"concurrencyMode\":\"Parallel\",\"contentType\":\"CSV\",\"apiVersion\":47.0,\"jobType\":\"V2Query\",\"lineEnding\":\"LF\",\"columnDelimiter\":\"COMMA\",\"numberRecordsProcessed\":14757,\"retries\":0,\"totalProcessingTime\":1511}\n"
     ]
    },
    {
     "name": "stdout",
     "output_type": "stream",
     "text": [
      "{\"id\":\"7505w00000b2D43AAE\",\"operation\":\"query\",\"object\":\"Contact\",\"createdById\":\"0055w00000DM5bOAAT\",\"createdDate\":\"2021-10-25T11:14:22.000+0000\",\"systemModstamp\":\"2021-10-25T11:14:40.000+0000\",\"state\":\"JobComplete\",\"concurrencyMode\":\"Parallel\",\"contentType\":\"CSV\",\"apiVersion\":47.0,\"jobType\":\"V2Query\",\"lineEnding\":\"LF\",\"columnDelimiter\":\"COMMA\",\"numberRecordsProcessed\":262499,\"retries\":0,\"totalProcessingTime\":17424}\n",
      "[Success] Bulk job completed successfully.\n"
     ]
    },
    {
     "data": {
      "text/html": [
       "<div>\n",
       "<style scoped>\n",
       "    .dataframe tbody tr th:only-of-type {\n",
       "        vertical-align: middle;\n",
       "    }\n",
       "\n",
       "    .dataframe tbody tr th {\n",
       "        vertical-align: top;\n",
       "    }\n",
       "\n",
       "    .dataframe thead th {\n",
       "        text-align: right;\n",
       "    }\n",
       "</style>\n",
       "<table border=\"1\" class=\"dataframe\">\n",
       "  <thead>\n",
       "    <tr style=\"text-align: right;\">\n",
       "      <th></th>\n",
       "      <th>Id</th>\n",
       "      <th>Name</th>\n",
       "      <th>Organization_Overwrite__c</th>\n",
       "      <th>Organization__c</th>\n",
       "      <th>Organization_composite__c</th>\n",
       "      <th>Organization_email_derived__c</th>\n",
       "    </tr>\n",
       "  </thead>\n",
       "  <tbody>\n",
       "    <tr>\n",
       "      <th>0</th>\n",
       "      <td>0035w000031Vsp1AAC</td>\n",
       "      <td>hubrepo hubrepo</td>\n",
       "      <td>NaN</td>\n",
       "      <td>NaN</td>\n",
       "      <td>NaN</td>\n",
       "      <td>NaN</td>\n",
       "    </tr>\n",
       "    <tr>\n",
       "      <th>1</th>\n",
       "      <td>0035w000031Vsp2AAC</td>\n",
       "      <td>nanoHUB support</td>\n",
       "      <td>NaN</td>\n",
       "      <td>purdue university</td>\n",
       "      <td>a0r5w00000V42cCAAR</td>\n",
       "      <td>a0r5w00000V42cCAAR</td>\n",
       "    </tr>\n",
       "    <tr>\n",
       "      <th>2</th>\n",
       "      <td>0035w000031Vsp3AAC</td>\n",
       "      <td>Grid Statistics</td>\n",
       "      <td>NaN</td>\n",
       "      <td>purdue university</td>\n",
       "      <td>a0r5w00000V42cCAAR</td>\n",
       "      <td>a0r5w00000V42cCAAR</td>\n",
       "    </tr>\n",
       "  </tbody>\n",
       "</table>\n",
       "</div>"
      ],
      "text/plain": [
       "                   Id             Name Organization_Overwrite__c  \\\n",
       "0  0035w000031Vsp1AAC  hubrepo hubrepo                       NaN   \n",
       "1  0035w000031Vsp2AAC  nanoHUB support                       NaN   \n",
       "2  0035w000031Vsp3AAC  Grid Statistics                       NaN   \n",
       "\n",
       "     Organization__c Organization_composite__c Organization_email_derived__c  \n",
       "0                NaN                       NaN                           NaN  \n",
       "1  purdue university        a0r5w00000V42cCAAR            a0r5w00000V42cCAAR  \n",
       "2  purdue university        a0r5w00000V42cCAAR            a0r5w00000V42cCAAR  "
      ]
     },
     "execution_count": 13,
     "metadata": {},
     "output_type": "execute_result"
    }
   ],
   "source": [
    "# get Contacts from Salesforce\n",
    "sf_contact_df = db_s.query_data('SELECT Id, Name, Organization__c, Organization_composite__c, \\\n",
    "Organization_email_derived__c, Organization_\\\n",
    "Overwrite__c FROM Contact')\n",
    "#db_s.query_data('SELECT Id, Organization__c, Organization_email_derived__c, Organization_Overwrite__c FROM Contact')\n",
    "\n",
    "# display\n",
    "sf_contact_df.head(3)"
   ]
  },
  {
   "cell_type": "code",
   "execution_count": 14,
   "id": "768af16a",
   "metadata": {
    "execution": {
     "iopub.execute_input": "2021-10-25T11:14:50.680485Z",
     "iopub.status.busy": "2021-10-25T11:14:50.679884Z",
     "iopub.status.idle": "2021-10-25T11:15:02.616400Z",
     "shell.execute_reply": "2021-10-25T11:15:02.615951Z"
    },
    "jupyter": {
     "source_hidden": true
    },
    "papermill": {
     "duration": 12.032212,
     "end_time": "2021-10-25T11:15:02.616631",
     "exception": false,
     "start_time": "2021-10-25T11:14:50.584419",
     "status": "completed"
    },
    "tags": []
   },
   "outputs": [
    {
     "name": "stdout",
     "output_type": "stream",
     "text": [
      "[Success] Bulk job creation successful. Job ID = 7505w00000b2D48AAE\n"
     ]
    },
    {
     "name": "stdout",
     "output_type": "stream",
     "text": [
      "{\"id\":\"7505w00000b2D48AAE\",\"operation\":\"query\",\"object\":\"organization__c\",\"createdById\":\"0055w00000DM5bOAAT\",\"createdDate\":\"2021-10-25T11:14:50.000+0000\",\"systemModstamp\":\"2021-10-25T11:14:51.000+0000\",\"state\":\"UploadComplete\",\"concurrencyMode\":\"Parallel\",\"contentType\":\"CSV\",\"apiVersion\":47.0,\"jobType\":\"V2Query\",\"lineEnding\":\"LF\",\"columnDelimiter\":\"COMMA\",\"retries\":0,\"totalProcessingTime\":0}\n"
     ]
    },
    {
     "name": "stdout",
     "output_type": "stream",
     "text": [
      "{\"id\":\"7505w00000b2D48AAE\",\"operation\":\"query\",\"object\":\"organization__c\",\"createdById\":\"0055w00000DM5bOAAT\",\"createdDate\":\"2021-10-25T11:14:50.000+0000\",\"systemModstamp\":\"2021-10-25T11:14:53.000+0000\",\"state\":\"JobComplete\",\"concurrencyMode\":\"Parallel\",\"contentType\":\"CSV\",\"apiVersion\":47.0,\"jobType\":\"V2Query\",\"lineEnding\":\"LF\",\"columnDelimiter\":\"COMMA\",\"numberRecordsProcessed\":6481,\"retries\":0,\"totalProcessingTime\":521}\n",
      "[Success] Bulk job completed successfully.\n"
     ]
    },
    {
     "data": {
      "text/html": [
       "<div>\n",
       "<style scoped>\n",
       "    .dataframe tbody tr th:only-of-type {\n",
       "        vertical-align: middle;\n",
       "    }\n",
       "\n",
       "    .dataframe tbody tr th {\n",
       "        vertical-align: top;\n",
       "    }\n",
       "\n",
       "    .dataframe thead th {\n",
       "        text-align: right;\n",
       "    }\n",
       "</style>\n",
       "<table border=\"1\" class=\"dataframe\">\n",
       "  <thead>\n",
       "    <tr style=\"text-align: right;\">\n",
       "      <th></th>\n",
       "      <th>Domain__c</th>\n",
       "      <th>Id</th>\n",
       "      <th>Name</th>\n",
       "    </tr>\n",
       "  </thead>\n",
       "  <tbody>\n",
       "    <tr>\n",
       "      <th>0</th>\n",
       "      <td>upenn.edu</td>\n",
       "      <td>a0r5w00000V42c0AAB</td>\n",
       "      <td>university of pennsylvania</td>\n",
       "    </tr>\n",
       "    <tr>\n",
       "      <th>1</th>\n",
       "      <td>fer.hr</td>\n",
       "      <td>a0r5w00000V42c1AAB</td>\n",
       "      <td>fer</td>\n",
       "    </tr>\n",
       "    <tr>\n",
       "      <th>2</th>\n",
       "      <td>wheatoncollege.edu</td>\n",
       "      <td>a0r5w00000V42c2AAB</td>\n",
       "      <td>wheaton college (ma)</td>\n",
       "    </tr>\n",
       "  </tbody>\n",
       "</table>\n",
       "</div>"
      ],
      "text/plain": [
       "            Domain__c                  Id                        Name\n",
       "0           upenn.edu  a0r5w00000V42c0AAB  university of pennsylvania\n",
       "1              fer.hr  a0r5w00000V42c1AAB                         fer\n",
       "2  wheatoncollege.edu  a0r5w00000V42c2AAB        wheaton college (ma)"
      ]
     },
     "execution_count": 14,
     "metadata": {},
     "output_type": "execute_result"
    }
   ],
   "source": [
    "# get organization from Salesforce\n",
    "sf_org_df = db_s.query_data('SELECT Id, Name, Domain__c FROM organization__c')\n",
    "\n",
    "# display\n",
    "sf_org_df.head(3)"
   ]
  },
  {
   "cell_type": "code",
   "execution_count": 15,
   "id": "16297025",
   "metadata": {
    "execution": {
     "iopub.execute_input": "2021-10-25T11:15:02.819914Z",
     "iopub.status.busy": "2021-10-25T11:15:02.819278Z",
     "iopub.status.idle": "2021-10-25T11:15:15.257037Z",
     "shell.execute_reply": "2021-10-25T11:15:15.257692Z"
    },
    "jupyter": {
     "source_hidden": true
    },
    "papermill": {
     "duration": 12.546579,
     "end_time": "2021-10-25T11:15:15.257947",
     "exception": false,
     "start_time": "2021-10-25T11:15:02.711368",
     "status": "completed"
    },
    "tags": []
   },
   "outputs": [
    {
     "name": "stdout",
     "output_type": "stream",
     "text": [
      "[Success] Bulk job creation successful. Job ID = 7505w00000b2D4IAAU\n"
     ]
    },
    {
     "name": "stdout",
     "output_type": "stream",
     "text": [
      "{\"id\":\"7505w00000b2D4IAAU\",\"operation\":\"query\",\"object\":\"contact_citation_asso__c\",\"createdById\":\"0055w00000DM5bOAAT\",\"createdDate\":\"2021-10-25T11:15:03.000+0000\",\"systemModstamp\":\"2021-10-25T11:15:03.000+0000\",\"state\":\"InProgress\",\"concurrencyMode\":\"Parallel\",\"contentType\":\"CSV\",\"apiVersion\":47.0,\"jobType\":\"V2Query\",\"lineEnding\":\"LF\",\"columnDelimiter\":\"COMMA\",\"numberRecordsProcessed\":0,\"retries\":0,\"totalProcessingTime\":0}\n"
     ]
    },
    {
     "name": "stdout",
     "output_type": "stream",
     "text": [
      "{\"id\":\"7505w00000b2D4IAAU\",\"operation\":\"query\",\"object\":\"contact_citation_asso__c\",\"createdById\":\"0055w00000DM5bOAAT\",\"createdDate\":\"2021-10-25T11:15:03.000+0000\",\"systemModstamp\":\"2021-10-25T11:15:04.000+0000\",\"state\":\"JobComplete\",\"concurrencyMode\":\"Parallel\",\"contentType\":\"CSV\",\"apiVersion\":47.0,\"jobType\":\"V2Query\",\"lineEnding\":\"LF\",\"columnDelimiter\":\"COMMA\",\"numberRecordsProcessed\":4944,\"retries\":0,\"totalProcessingTime\":700}\n",
      "[Success] Bulk job completed successfully.\n"
     ]
    },
    {
     "data": {
      "text/html": [
       "<div>\n",
       "<style scoped>\n",
       "    .dataframe tbody tr th:only-of-type {\n",
       "        vertical-align: middle;\n",
       "    }\n",
       "\n",
       "    .dataframe tbody tr th {\n",
       "        vertical-align: top;\n",
       "    }\n",
       "\n",
       "    .dataframe thead th {\n",
       "        text-align: right;\n",
       "    }\n",
       "</style>\n",
       "<table border=\"1\" class=\"dataframe\">\n",
       "  <thead>\n",
       "    <tr style=\"text-align: right;\">\n",
       "      <th></th>\n",
       "      <th>Contact__c</th>\n",
       "      <th>Id</th>\n",
       "      <th>Organization__c</th>\n",
       "    </tr>\n",
       "  </thead>\n",
       "  <tbody>\n",
       "    <tr>\n",
       "      <th>0</th>\n",
       "      <td>0035w000034JLpOAAW</td>\n",
       "      <td>a0u5w00000RhVhTAAV</td>\n",
       "      <td>a0r5w00000V42cCAAR</td>\n",
       "    </tr>\n",
       "    <tr>\n",
       "      <th>1</th>\n",
       "      <td>0035w000034JLpOAAW</td>\n",
       "      <td>a0u5w00000RhVhUAAV</td>\n",
       "      <td>a0r5w00000V42cCAAR</td>\n",
       "    </tr>\n",
       "    <tr>\n",
       "      <th>2</th>\n",
       "      <td>0035w000034JLpOAAW</td>\n",
       "      <td>a0u5w00000RhVhVAAV</td>\n",
       "      <td>a0r5w00000V42cCAAR</td>\n",
       "    </tr>\n",
       "  </tbody>\n",
       "</table>\n",
       "</div>"
      ],
      "text/plain": [
       "           Contact__c                  Id     Organization__c\n",
       "0  0035w000034JLpOAAW  a0u5w00000RhVhTAAV  a0r5w00000V42cCAAR\n",
       "1  0035w000034JLpOAAW  a0u5w00000RhVhUAAV  a0r5w00000V42cCAAR\n",
       "2  0035w000034JLpOAAW  a0u5w00000RhVhVAAV  a0r5w00000V42cCAAR"
      ]
     },
     "execution_count": 15,
     "metadata": {},
     "output_type": "execute_result"
    }
   ],
   "source": [
    "# get organization according to citation from Salesforce\n",
    "sf_cit_org_df = db_s.query_data('SELECT Id, Contact__c, Organization__c FROM contact_citation_asso__c')\n",
    "\n",
    "# display\n",
    "sf_cit_org_df.head(3)"
   ]
  },
  {
   "cell_type": "code",
   "execution_count": 16,
   "id": "12a3516f",
   "metadata": {
    "execution": {
     "iopub.execute_input": "2021-10-25T11:15:15.471192Z",
     "iopub.status.busy": "2021-10-25T11:15:15.470539Z",
     "iopub.status.idle": "2021-10-25T11:15:15.472567Z",
     "shell.execute_reply": "2021-10-25T11:15:15.472957Z"
    },
    "jupyter": {
     "source_hidden": true
    },
    "papermill": {
     "duration": 0.1133,
     "end_time": "2021-10-25T11:15:15.473199",
     "exception": false,
     "start_time": "2021-10-25T11:15:15.359899",
     "status": "completed"
    },
    "tags": []
   },
   "outputs": [],
   "source": [
    "# rename Id of each Salesforce DF to avoid collision\n",
    "sf_cluster_df.rename(columns={'Id':'cluster_Id'}, inplace=True)\n",
    "sf_org_df.rename(columns={'Id':'org_Id'}, inplace=True)\n",
    "sf_contact_df.rename(columns={'Id':'contact_Id'}, inplace=True)\n",
    "sf_cit_org_df.rename(columns={'Id':'cit_org_Id'}, inplace=True)"
   ]
  },
  {
   "cell_type": "markdown",
   "id": "81725ae8",
   "metadata": {
    "papermill": {
     "duration": 0.106699,
     "end_time": "2021-10-25T11:15:15.692809",
     "exception": false,
     "start_time": "2021-10-25T11:15:15.586110",
     "status": "completed"
    },
    "tags": []
   },
   "source": [
    "## Determine the most likely organization of each cluster"
   ]
  },
  {
   "cell_type": "code",
   "execution_count": null,
   "id": "298d6d34",
   "metadata": {
    "jupyter": {
     "source_hidden": true
    },
    "papermill": {
     "duration": 0.104037,
     "end_time": "2021-10-25T11:15:15.903492",
     "exception": false,
     "start_time": "2021-10-25T11:15:15.799455",
     "status": "completed"
    },
    "tags": []
   },
   "outputs": [],
   "source": []
  },
  {
   "cell_type": "code",
   "execution_count": 17,
   "id": "d66cf7a2",
   "metadata": {
    "execution": {
     "iopub.execute_input": "2021-10-25T11:15:16.116177Z",
     "iopub.status.busy": "2021-10-25T11:15:16.115619Z",
     "iopub.status.idle": "2021-10-25T11:15:16.135765Z",
     "shell.execute_reply": "2021-10-25T11:15:16.136138Z"
    },
    "jupyter": {
     "source_hidden": true
    },
    "papermill": {
     "duration": 0.130221,
     "end_time": "2021-10-25T11:15:16.136308",
     "exception": false,
     "start_time": "2021-10-25T11:15:16.006087",
     "status": "completed"
    },
    "tags": []
   },
   "outputs": [
    {
     "data": {
      "text/plain": [
       "'sf_cluster_df'"
      ]
     },
     "metadata": {},
     "output_type": "display_data"
    },
    {
     "data": {
      "text/html": [
       "<div>\n",
       "<style scoped>\n",
       "    .dataframe tbody tr th:only-of-type {\n",
       "        vertical-align: middle;\n",
       "    }\n",
       "\n",
       "    .dataframe tbody tr th {\n",
       "        vertical-align: top;\n",
       "    }\n",
       "\n",
       "    .dataframe thead th {\n",
       "        text-align: right;\n",
       "    }\n",
       "</style>\n",
       "<table border=\"1\" class=\"dataframe\">\n",
       "  <thead>\n",
       "    <tr style=\"text-align: right;\">\n",
       "      <th></th>\n",
       "      <th>Contact__c</th>\n",
       "      <th>cluster_Id</th>\n",
       "      <th>Tool_Usage_Cluster__c</th>\n",
       "    </tr>\n",
       "  </thead>\n",
       "  <tbody>\n",
       "    <tr>\n",
       "      <th>0</th>\n",
       "      <td>0035w00003NeIaTAAV</td>\n",
       "      <td>a0x5w00000cRtKRAA0</td>\n",
       "      <td>a0w5w00000AXc7TAAT</td>\n",
       "    </tr>\n",
       "  </tbody>\n",
       "</table>\n",
       "</div>"
      ],
      "text/plain": [
       "           Contact__c          cluster_Id Tool_Usage_Cluster__c\n",
       "0  0035w00003NeIaTAAV  a0x5w00000cRtKRAA0    a0w5w00000AXc7TAAT"
      ]
     },
     "metadata": {},
     "output_type": "display_data"
    },
    {
     "data": {
      "text/plain": [
       "'sf_org_df'"
      ]
     },
     "metadata": {},
     "output_type": "display_data"
    },
    {
     "data": {
      "text/html": [
       "<div>\n",
       "<style scoped>\n",
       "    .dataframe tbody tr th:only-of-type {\n",
       "        vertical-align: middle;\n",
       "    }\n",
       "\n",
       "    .dataframe tbody tr th {\n",
       "        vertical-align: top;\n",
       "    }\n",
       "\n",
       "    .dataframe thead th {\n",
       "        text-align: right;\n",
       "    }\n",
       "</style>\n",
       "<table border=\"1\" class=\"dataframe\">\n",
       "  <thead>\n",
       "    <tr style=\"text-align: right;\">\n",
       "      <th></th>\n",
       "      <th>Domain__c</th>\n",
       "      <th>org_Id</th>\n",
       "      <th>Name</th>\n",
       "    </tr>\n",
       "  </thead>\n",
       "  <tbody>\n",
       "    <tr>\n",
       "      <th>0</th>\n",
       "      <td>upenn.edu</td>\n",
       "      <td>a0r5w00000V42c0AAB</td>\n",
       "      <td>university of pennsylvania</td>\n",
       "    </tr>\n",
       "  </tbody>\n",
       "</table>\n",
       "</div>"
      ],
      "text/plain": [
       "   Domain__c              org_Id                        Name\n",
       "0  upenn.edu  a0r5w00000V42c0AAB  university of pennsylvania"
      ]
     },
     "metadata": {},
     "output_type": "display_data"
    },
    {
     "data": {
      "text/plain": [
       "'sf_contact_df'"
      ]
     },
     "metadata": {},
     "output_type": "display_data"
    },
    {
     "data": {
      "text/html": [
       "<div>\n",
       "<style scoped>\n",
       "    .dataframe tbody tr th:only-of-type {\n",
       "        vertical-align: middle;\n",
       "    }\n",
       "\n",
       "    .dataframe tbody tr th {\n",
       "        vertical-align: top;\n",
       "    }\n",
       "\n",
       "    .dataframe thead th {\n",
       "        text-align: right;\n",
       "    }\n",
       "</style>\n",
       "<table border=\"1\" class=\"dataframe\">\n",
       "  <thead>\n",
       "    <tr style=\"text-align: right;\">\n",
       "      <th></th>\n",
       "      <th>contact_Id</th>\n",
       "      <th>Name</th>\n",
       "      <th>Organization_Overwrite__c</th>\n",
       "      <th>Organization__c</th>\n",
       "      <th>Organization_composite__c</th>\n",
       "      <th>Organization_email_derived__c</th>\n",
       "    </tr>\n",
       "  </thead>\n",
       "  <tbody>\n",
       "    <tr>\n",
       "      <th>0</th>\n",
       "      <td>0035w000031Vsp1AAC</td>\n",
       "      <td>hubrepo hubrepo</td>\n",
       "      <td>NaN</td>\n",
       "      <td>NaN</td>\n",
       "      <td>NaN</td>\n",
       "      <td>NaN</td>\n",
       "    </tr>\n",
       "  </tbody>\n",
       "</table>\n",
       "</div>"
      ],
      "text/plain": [
       "           contact_Id             Name Organization_Overwrite__c  \\\n",
       "0  0035w000031Vsp1AAC  hubrepo hubrepo                       NaN   \n",
       "\n",
       "  Organization__c Organization_composite__c Organization_email_derived__c  \n",
       "0             NaN                       NaN                           NaN  "
      ]
     },
     "metadata": {},
     "output_type": "display_data"
    },
    {
     "data": {
      "text/plain": [
       "'sf_cit_org_df'"
      ]
     },
     "metadata": {},
     "output_type": "display_data"
    },
    {
     "data": {
      "text/html": [
       "<div>\n",
       "<style scoped>\n",
       "    .dataframe tbody tr th:only-of-type {\n",
       "        vertical-align: middle;\n",
       "    }\n",
       "\n",
       "    .dataframe tbody tr th {\n",
       "        vertical-align: top;\n",
       "    }\n",
       "\n",
       "    .dataframe thead th {\n",
       "        text-align: right;\n",
       "    }\n",
       "</style>\n",
       "<table border=\"1\" class=\"dataframe\">\n",
       "  <thead>\n",
       "    <tr style=\"text-align: right;\">\n",
       "      <th></th>\n",
       "      <th>Contact__c</th>\n",
       "      <th>cit_org_Id</th>\n",
       "      <th>Organization__c</th>\n",
       "    </tr>\n",
       "  </thead>\n",
       "  <tbody>\n",
       "    <tr>\n",
       "      <th>0</th>\n",
       "      <td>0035w000034JLpOAAW</td>\n",
       "      <td>a0u5w00000RhVhTAAV</td>\n",
       "      <td>a0r5w00000V42cCAAR</td>\n",
       "    </tr>\n",
       "  </tbody>\n",
       "</table>\n",
       "</div>"
      ],
      "text/plain": [
       "           Contact__c          cit_org_Id     Organization__c\n",
       "0  0035w000034JLpOAAW  a0u5w00000RhVhTAAV  a0r5w00000V42cCAAR"
      ]
     },
     "metadata": {},
     "output_type": "display_data"
    }
   ],
   "source": [
    "# data given\n",
    "display('sf_cluster_df'); display(sf_cluster_df.head(1))\n",
    "display('sf_org_df'); display(sf_org_df.head(1))\n",
    "display('sf_contact_df'); display(sf_contact_df.head(1))\n",
    "display('sf_cit_org_df'); display(sf_cit_org_df.head(1))"
   ]
  },
  {
   "cell_type": "code",
   "execution_count": 18,
   "id": "e44ff2a8",
   "metadata": {
    "execution": {
     "iopub.execute_input": "2021-10-25T11:15:16.418724Z",
     "iopub.status.busy": "2021-10-25T11:15:16.418151Z",
     "iopub.status.idle": "2021-10-25T11:15:16.451260Z",
     "shell.execute_reply": "2021-10-25T11:15:16.451761Z"
    },
    "jupyter": {
     "source_hidden": true
    },
    "papermill": {
     "duration": 0.211457,
     "end_time": "2021-10-25T11:15:16.452008",
     "exception": false,
     "start_time": "2021-10-25T11:15:16.240551",
     "status": "completed"
    },
    "tags": []
   },
   "outputs": [
    {
     "data": {
      "text/html": [
       "<div>\n",
       "<style scoped>\n",
       "    .dataframe tbody tr th:only-of-type {\n",
       "        vertical-align: middle;\n",
       "    }\n",
       "\n",
       "    .dataframe tbody tr th {\n",
       "        vertical-align: top;\n",
       "    }\n",
       "\n",
       "    .dataframe thead th {\n",
       "        text-align: right;\n",
       "    }\n",
       "</style>\n",
       "<table border=\"1\" class=\"dataframe\">\n",
       "  <thead>\n",
       "    <tr style=\"text-align: right;\">\n",
       "      <th></th>\n",
       "      <th>Contact__c</th>\n",
       "      <th>cluster_Id</th>\n",
       "      <th>Tool_Usage_Cluster__c</th>\n",
       "      <th>contact_Id</th>\n",
       "      <th>Name</th>\n",
       "      <th>Organization_Overwrite__c</th>\n",
       "      <th>Organization__c</th>\n",
       "      <th>Organization_composite__c</th>\n",
       "      <th>Organization_email_derived__c</th>\n",
       "    </tr>\n",
       "  </thead>\n",
       "  <tbody>\n",
       "    <tr>\n",
       "      <th>0</th>\n",
       "      <td>0035w00003NeIaTAAV</td>\n",
       "      <td>a0x5w00000cRtKRAA0</td>\n",
       "      <td>a0w5w00000AXc7TAAT</td>\n",
       "      <td>0035w00003NeIaTAAV</td>\n",
       "      <td>Noelia Moreno</td>\n",
       "      <td>NaN</td>\n",
       "      <td>harvard university</td>\n",
       "      <td>a0r5w00000V42kEAAR</td>\n",
       "      <td>a0r5w00000V42kEAAR</td>\n",
       "    </tr>\n",
       "    <tr>\n",
       "      <th>1</th>\n",
       "      <td>0035w00003NeIaFAAV</td>\n",
       "      <td>a0x5w00000cRtU8AAK</td>\n",
       "      <td>a0w5w00000AXc7TAAT</td>\n",
       "      <td>0035w00003NeIaFAAV</td>\n",
       "      <td>InÃ©s Ojeda</td>\n",
       "      <td>NaN</td>\n",
       "      <td>universidad de sevilla</td>\n",
       "      <td>NaN</td>\n",
       "      <td>NaN</td>\n",
       "    </tr>\n",
       "    <tr>\n",
       "      <th>2</th>\n",
       "      <td>0035w00003NeIaXAAV</td>\n",
       "      <td>a0x5w00000cRtU9AAK</td>\n",
       "      <td>a0w5w00000AXc7TAAT</td>\n",
       "      <td>0035w00003NeIaXAAV</td>\n",
       "      <td>Isabel JimÃ©nez</td>\n",
       "      <td>NaN</td>\n",
       "      <td>universidad de sevilla</td>\n",
       "      <td>NaN</td>\n",
       "      <td>NaN</td>\n",
       "    </tr>\n",
       "  </tbody>\n",
       "</table>\n",
       "</div>"
      ],
      "text/plain": [
       "           Contact__c          cluster_Id Tool_Usage_Cluster__c  \\\n",
       "0  0035w00003NeIaTAAV  a0x5w00000cRtKRAA0    a0w5w00000AXc7TAAT   \n",
       "1  0035w00003NeIaFAAV  a0x5w00000cRtU8AAK    a0w5w00000AXc7TAAT   \n",
       "2  0035w00003NeIaXAAV  a0x5w00000cRtU9AAK    a0w5w00000AXc7TAAT   \n",
       "\n",
       "           contact_Id             Name Organization_Overwrite__c  \\\n",
       "0  0035w00003NeIaTAAV    Noelia Moreno                       NaN   \n",
       "1  0035w00003NeIaFAAV      InÃ©s Ojeda                       NaN   \n",
       "2  0035w00003NeIaXAAV  Isabel JimÃ©nez                       NaN   \n",
       "\n",
       "          Organization__c Organization_composite__c  \\\n",
       "0      harvard university        a0r5w00000V42kEAAR   \n",
       "1  universidad de sevilla                       NaN   \n",
       "2  universidad de sevilla                       NaN   \n",
       "\n",
       "  Organization_email_derived__c  \n",
       "0            a0r5w00000V42kEAAR  \n",
       "1                           NaN  \n",
       "2                           NaN  "
      ]
     },
     "metadata": {},
     "output_type": "display_data"
    }
   ],
   "source": [
    "# merge cluster with contact info\n",
    "cc_df = pd.merge(sf_cluster_df, sf_contact_df, how='left', left_on='Contact__c', right_on='contact_Id')\n",
    "\n",
    "# display\n",
    "display(cc_df.head(3))"
   ]
  },
  {
   "cell_type": "code",
   "execution_count": 19,
   "id": "41d12a67",
   "metadata": {
    "execution": {
     "iopub.execute_input": "2021-10-25T11:15:16.674566Z",
     "iopub.status.busy": "2021-10-25T11:15:16.673916Z",
     "iopub.status.idle": "2021-10-25T11:15:17.680121Z",
     "shell.execute_reply": "2021-10-25T11:15:17.680638Z"
    },
    "jupyter": {
     "source_hidden": true
    },
    "papermill": {
     "duration": 1.120595,
     "end_time": "2021-10-25T11:15:17.681059",
     "exception": false,
     "start_time": "2021-10-25T11:15:16.560464",
     "status": "completed"
    },
    "tags": []
   },
   "outputs": [],
   "source": [
    "# apply overwrite\n",
    "#cc_df['org_final'] = cc_df.fillna('').apply(lambda x: \\\n",
    "#                    x['Organization_email_derived__c'] if x['Organization_Overwrite__c']=='' else x['Organization_Overwrite__c'],\\\n",
    "#                                 axis=1)\n",
    "\n",
    "cc_df['org_final'] = cc_df.fillna(' ').apply(lambda x: \\\n",
    "                    x['Organization_composite__c'] if x['Organization_Overwrite__c']==' ' else x['Organization_Overwrite__c'],\\\n",
    "                    axis=1)\n"
   ]
  },
  {
   "cell_type": "code",
   "execution_count": 20,
   "id": "9fff45ae",
   "metadata": {
    "execution": {
     "iopub.execute_input": "2021-10-25T11:15:17.912142Z",
     "iopub.status.busy": "2021-10-25T11:15:17.911334Z",
     "iopub.status.idle": "2021-10-25T11:15:17.913955Z",
     "shell.execute_reply": "2021-10-25T11:15:17.914303Z"
    },
    "jupyter": {
     "source_hidden": true
    },
    "papermill": {
     "duration": 0.124411,
     "end_time": "2021-10-25T11:15:17.914549",
     "exception": false,
     "start_time": "2021-10-25T11:15:17.790138",
     "status": "completed"
    },
    "tags": []
   },
   "outputs": [
    {
     "data": {
      "text/html": [
       "<div>\n",
       "<style scoped>\n",
       "    .dataframe tbody tr th:only-of-type {\n",
       "        vertical-align: middle;\n",
       "    }\n",
       "\n",
       "    .dataframe tbody tr th {\n",
       "        vertical-align: top;\n",
       "    }\n",
       "\n",
       "    .dataframe thead th {\n",
       "        text-align: right;\n",
       "    }\n",
       "</style>\n",
       "<table border=\"1\" class=\"dataframe\">\n",
       "  <thead>\n",
       "    <tr style=\"text-align: right;\">\n",
       "      <th></th>\n",
       "      <th>Contact__c</th>\n",
       "      <th>cluster_Id</th>\n",
       "      <th>Tool_Usage_Cluster__c</th>\n",
       "      <th>contact_Id</th>\n",
       "      <th>Name</th>\n",
       "      <th>Organization_Overwrite__c</th>\n",
       "      <th>Organization__c</th>\n",
       "      <th>Organization_composite__c</th>\n",
       "      <th>Organization_email_derived__c</th>\n",
       "      <th>org_final</th>\n",
       "    </tr>\n",
       "  </thead>\n",
       "  <tbody>\n",
       "    <tr>\n",
       "      <th>0</th>\n",
       "      <td>0035w00003NeIaTAAV</td>\n",
       "      <td>a0x5w00000cRtKRAA0</td>\n",
       "      <td>a0w5w00000AXc7TAAT</td>\n",
       "      <td>0035w00003NeIaTAAV</td>\n",
       "      <td>Noelia Moreno</td>\n",
       "      <td>NaN</td>\n",
       "      <td>harvard university</td>\n",
       "      <td>a0r5w00000V42kEAAR</td>\n",
       "      <td>a0r5w00000V42kEAAR</td>\n",
       "      <td>a0r5w00000V42kEAAR</td>\n",
       "    </tr>\n",
       "    <tr>\n",
       "      <th>1</th>\n",
       "      <td>0035w00003NeIaFAAV</td>\n",
       "      <td>a0x5w00000cRtU8AAK</td>\n",
       "      <td>a0w5w00000AXc7TAAT</td>\n",
       "      <td>0035w00003NeIaFAAV</td>\n",
       "      <td>InÃ©s Ojeda</td>\n",
       "      <td>NaN</td>\n",
       "      <td>universidad de sevilla</td>\n",
       "      <td>NaN</td>\n",
       "      <td>NaN</td>\n",
       "      <td></td>\n",
       "    </tr>\n",
       "  </tbody>\n",
       "</table>\n",
       "</div>"
      ],
      "text/plain": [
       "           Contact__c          cluster_Id Tool_Usage_Cluster__c  \\\n",
       "0  0035w00003NeIaTAAV  a0x5w00000cRtKRAA0    a0w5w00000AXc7TAAT   \n",
       "1  0035w00003NeIaFAAV  a0x5w00000cRtU8AAK    a0w5w00000AXc7TAAT   \n",
       "\n",
       "           contact_Id           Name Organization_Overwrite__c  \\\n",
       "0  0035w00003NeIaTAAV  Noelia Moreno                       NaN   \n",
       "1  0035w00003NeIaFAAV    InÃ©s Ojeda                       NaN   \n",
       "\n",
       "          Organization__c Organization_composite__c  \\\n",
       "0      harvard university        a0r5w00000V42kEAAR   \n",
       "1  universidad de sevilla                       NaN   \n",
       "\n",
       "  Organization_email_derived__c           org_final  \n",
       "0            a0r5w00000V42kEAAR  a0r5w00000V42kEAAR  \n",
       "1                           NaN                      "
      ]
     },
     "metadata": {},
     "output_type": "display_data"
    }
   ],
   "source": [
    "display(cc_df.head(2))"
   ]
  },
  {
   "cell_type": "code",
   "execution_count": 21,
   "id": "1cdeef30",
   "metadata": {
    "execution": {
     "iopub.execute_input": "2021-10-25T11:15:18.134150Z",
     "iopub.status.busy": "2021-10-25T11:15:18.133540Z",
     "iopub.status.idle": "2021-10-25T11:15:19.794709Z",
     "shell.execute_reply": "2021-10-25T11:15:19.794112Z"
    },
    "jupyter": {
     "source_hidden": true
    },
    "papermill": {
     "duration": 1.774233,
     "end_time": "2021-10-25T11:15:19.794933",
     "exception": false,
     "start_time": "2021-10-25T11:15:18.020700",
     "status": "completed"
    },
    "tags": []
   },
   "outputs": [
    {
     "data": {
      "text/html": [
       "<div>\n",
       "<style scoped>\n",
       "    .dataframe tbody tr th:only-of-type {\n",
       "        vertical-align: middle;\n",
       "    }\n",
       "\n",
       "    .dataframe tbody tr th {\n",
       "        vertical-align: top;\n",
       "    }\n",
       "\n",
       "    .dataframe thead th {\n",
       "        text-align: right;\n",
       "    }\n",
       "</style>\n",
       "<table border=\"1\" class=\"dataframe\">\n",
       "  <thead>\n",
       "    <tr style=\"text-align: right;\">\n",
       "      <th></th>\n",
       "      <th>Tool_Usage_Cluster__c</th>\n",
       "      <th>Organization_composite__c</th>\n",
       "    </tr>\n",
       "  </thead>\n",
       "  <tbody>\n",
       "    <tr>\n",
       "      <th>0</th>\n",
       "      <td>a0w5w000009Q7CuAAK</td>\n",
       "      <td></td>\n",
       "    </tr>\n",
       "    <tr>\n",
       "      <th>1</th>\n",
       "      <td>a0w5w000009Q7CvAAK</td>\n",
       "      <td>a0r5w00000V42iyAAB</td>\n",
       "    </tr>\n",
       "    <tr>\n",
       "      <th>2</th>\n",
       "      <td>a0w5w000009Q7CwAAK</td>\n",
       "      <td>a0r5w00000V42iyAAB</td>\n",
       "    </tr>\n",
       "  </tbody>\n",
       "</table>\n",
       "</div>"
      ],
      "text/plain": [
       "  Tool_Usage_Cluster__c Organization_composite__c\n",
       "0    a0w5w000009Q7CuAAK                          \n",
       "1    a0w5w000009Q7CvAAK        a0r5w00000V42iyAAB\n",
       "2    a0w5w000009Q7CwAAK        a0r5w00000V42iyAAB"
      ]
     },
     "execution_count": 21,
     "metadata": {},
     "output_type": "execute_result"
    }
   ],
   "source": [
    "# find the most likely org within each cluster\n",
    "def get_likely_org(this_cluster_df):\n",
    "    non_empty_df = this_cluster_df[this_cluster_df.org_final != ' ']\n",
    "    \n",
    "    if non_empty_df.shape[0] > 0:\n",
    "        # there are non-empty organization information\n",
    "        return non_empty_df.org_final.mode().iloc[0]\n",
    "    else:\n",
    "        return ' '\n",
    "\n",
    "        \n",
    "cluster_org_df = cc_df[['Tool_Usage_Cluster__c', 'org_final']].groupby('Tool_Usage_Cluster__c')\\\n",
    "                            .apply(get_likely_org).reset_index(name='Organization_composite__c')#'Organization_email_derived__c')\n",
    "\n",
    "# display\n",
    "cluster_org_df.head(3)"
   ]
  },
  {
   "cell_type": "code",
   "execution_count": 22,
   "id": "0e245bb7",
   "metadata": {
    "execution": {
     "iopub.execute_input": "2021-10-25T11:15:20.023580Z",
     "iopub.status.busy": "2021-10-25T11:15:20.022788Z",
     "iopub.status.idle": "2021-10-25T11:15:20.025950Z",
     "shell.execute_reply": "2021-10-25T11:15:20.026439Z"
    },
    "jupyter": {
     "source_hidden": true
    },
    "papermill": {
     "duration": 0.122911,
     "end_time": "2021-10-25T11:15:20.026693",
     "exception": false,
     "start_time": "2021-10-25T11:15:19.903782",
     "status": "completed"
    },
    "tags": []
   },
   "outputs": [
    {
     "data": {
      "text/html": [
       "<div>\n",
       "<style scoped>\n",
       "    .dataframe tbody tr th:only-of-type {\n",
       "        vertical-align: middle;\n",
       "    }\n",
       "\n",
       "    .dataframe tbody tr th {\n",
       "        vertical-align: top;\n",
       "    }\n",
       "\n",
       "    .dataframe thead th {\n",
       "        text-align: right;\n",
       "    }\n",
       "</style>\n",
       "<table border=\"1\" class=\"dataframe\">\n",
       "  <thead>\n",
       "    <tr style=\"text-align: right;\">\n",
       "      <th></th>\n",
       "      <th>Tool_Usage_Cluster__c</th>\n",
       "      <th>Organization__c</th>\n",
       "    </tr>\n",
       "  </thead>\n",
       "  <tbody>\n",
       "    <tr>\n",
       "      <th>0</th>\n",
       "      <td>a0w5w000009Q7CuAAK</td>\n",
       "      <td></td>\n",
       "    </tr>\n",
       "    <tr>\n",
       "      <th>1</th>\n",
       "      <td>a0w5w000009Q7CvAAK</td>\n",
       "      <td>a0r5w00000V42iyAAB</td>\n",
       "    </tr>\n",
       "  </tbody>\n",
       "</table>\n",
       "</div>"
      ],
      "text/plain": [
       "  Tool_Usage_Cluster__c     Organization__c\n",
       "0    a0w5w000009Q7CuAAK                    \n",
       "1    a0w5w000009Q7CvAAK  a0r5w00000V42iyAAB"
      ]
     },
     "execution_count": 22,
     "metadata": {},
     "output_type": "execute_result"
    }
   ],
   "source": [
    "cluster_org_df = cluster_org_df.rename(columns={\"Organization_composite__c\": \"Organization__c\"})\n",
    "cluster_org_df.head(2)"
   ]
  },
  {
   "cell_type": "markdown",
   "id": "4bc7f5e0",
   "metadata": {
    "papermill": {
     "duration": 0.113152,
     "end_time": "2021-10-25T11:15:20.252010",
     "exception": false,
     "start_time": "2021-10-25T11:15:20.138858",
     "status": "completed"
    },
    "tags": []
   },
   "source": [
    "## Write to Salesforce"
   ]
  },
  {
   "cell_type": "code",
   "execution_count": 23,
   "id": "0462877a",
   "metadata": {
    "execution": {
     "iopub.execute_input": "2021-10-25T11:15:20.482735Z",
     "iopub.status.busy": "2021-10-25T11:15:20.481994Z",
     "iopub.status.idle": "2021-10-25T11:15:20.485011Z",
     "shell.execute_reply": "2021-10-25T11:15:20.485533Z"
    },
    "jupyter": {
     "source_hidden": true
    },
    "papermill": {
     "duration": 0.123564,
     "end_time": "2021-10-25T11:15:20.485781",
     "exception": false,
     "start_time": "2021-10-25T11:15:20.362217",
     "status": "completed"
    },
    "tags": []
   },
   "outputs": [
    {
     "data": {
      "text/html": [
       "<div>\n",
       "<style scoped>\n",
       "    .dataframe tbody tr th:only-of-type {\n",
       "        vertical-align: middle;\n",
       "    }\n",
       "\n",
       "    .dataframe tbody tr th {\n",
       "        vertical-align: top;\n",
       "    }\n",
       "\n",
       "    .dataframe thead th {\n",
       "        text-align: right;\n",
       "    }\n",
       "</style>\n",
       "<table border=\"1\" class=\"dataframe\">\n",
       "  <thead>\n",
       "    <tr style=\"text-align: right;\">\n",
       "      <th></th>\n",
       "      <th>0</th>\n",
       "      <th>1</th>\n",
       "    </tr>\n",
       "  </thead>\n",
       "  <tbody>\n",
       "    <tr>\n",
       "      <th>Id</th>\n",
       "      <td>a0w5w000009Q7CuAAK</td>\n",
       "      <td>a0w5w000009Q7CvAAK</td>\n",
       "    </tr>\n",
       "    <tr>\n",
       "      <th>Organization__c</th>\n",
       "      <td></td>\n",
       "      <td>a0r5w00000V42iyAAB</td>\n",
       "    </tr>\n",
       "  </tbody>\n",
       "</table>\n",
       "</div>"
      ],
      "text/plain": [
       "                                  0                   1\n",
       "Id               a0w5w000009Q7CuAAK  a0w5w000009Q7CvAAK\n",
       "Organization__c                      a0r5w00000V42iyAAB"
      ]
     },
     "execution_count": 23,
     "metadata": {},
     "output_type": "execute_result"
    }
   ],
   "source": [
    "df_sf = pd.DataFrame()\n",
    "\n",
    "# Make sure NaN and NaT values are taken care of here\n",
    "df_sf['Id'] = cluster_org_df['Tool_Usage_Cluster__c']\n",
    "\n",
    "# derived information\n",
    "df_sf['Organization__c'] = cluster_org_df['Organization__c']#['Organization_email_derived__c']\n",
    "\n",
    "sf_original_fields = df_sf.columns\n",
    "\n",
    "# display\n",
    "df_sf.head(2).T"
   ]
  },
  {
   "cell_type": "code",
   "execution_count": 24,
   "id": "d8e2f491",
   "metadata": {
    "execution": {
     "iopub.execute_input": "2021-10-25T11:15:20.710216Z",
     "iopub.status.busy": "2021-10-25T11:15:20.709517Z",
     "iopub.status.idle": "2021-10-25T11:15:20.712573Z",
     "shell.execute_reply": "2021-10-25T11:15:20.712072Z"
    },
    "jupyter": {
     "source_hidden": true
    },
    "papermill": {
     "duration": 0.11787,
     "end_time": "2021-10-25T11:15:20.712738",
     "exception": false,
     "start_time": "2021-10-25T11:15:20.594868",
     "status": "completed"
    },
    "tags": []
   },
   "outputs": [
    {
     "data": {
      "text/plain": [
       "(4270, 2)"
      ]
     },
     "execution_count": 24,
     "metadata": {},
     "output_type": "execute_result"
    }
   ],
   "source": [
    "df_sf.shape"
   ]
  },
  {
   "cell_type": "code",
   "execution_count": 25,
   "id": "1e8b868c",
   "metadata": {
    "execution": {
     "iopub.execute_input": "2021-10-25T11:15:20.937736Z",
     "iopub.status.busy": "2021-10-25T11:15:20.936822Z",
     "iopub.status.idle": "2021-10-25T11:15:20.939110Z",
     "shell.execute_reply": "2021-10-25T11:15:20.939483Z"
    },
    "jupyter": {
     "source_hidden": true
    },
    "papermill": {
     "duration": 0.11525,
     "end_time": "2021-10-25T11:15:20.939731",
     "exception": false,
     "start_time": "2021-10-25T11:15:20.824481",
     "status": "completed"
    },
    "tags": []
   },
   "outputs": [],
   "source": [
    "\n",
    "# create DB2 to Salesforce API object\n",
    "db_s = salesforce\n",
    "\n",
    "db_s.object_id = 'tool_usage_cluster__c'\n",
    "db_s.external_id = 'Id'"
   ]
  },
  {
   "cell_type": "code",
   "execution_count": 26,
   "id": "0d62f3c0",
   "metadata": {
    "execution": {
     "iopub.execute_input": "2021-10-25T11:15:21.169466Z",
     "iopub.status.busy": "2021-10-25T11:15:21.168734Z",
     "iopub.status.idle": "2021-10-25T11:15:22.105847Z",
     "shell.execute_reply": "2021-10-25T11:15:22.106375Z"
    },
    "jupyter": {
     "source_hidden": true
    },
    "papermill": {
     "duration": 1.053865,
     "end_time": "2021-10-25T11:15:22.106639",
     "exception": false,
     "start_time": "2021-10-25T11:15:21.052774",
     "status": "completed"
    },
    "tags": []
   },
   "outputs": [
    {
     "name": "stdout",
     "output_type": "stream",
     "text": [
      "[Success] Bulk job creation successful. Job ID = 7505w00000b2D4SAAU\n",
      "hello\n"
     ]
    },
    {
     "name": "stdout",
     "output_type": "stream",
     "text": [
      "[Success] CSV upload successful. Job ID = 7505w00000b2D4SAAU\n"
     ]
    },
    {
     "name": "stdout",
     "output_type": "stream",
     "text": [
      "[Success] Closing job successful. Job ID = 7505w00000b2D4SAAU\n"
     ]
    }
   ],
   "source": [
    "# send data to Salesforce\n",
    "db_s.send_data(df_sf)"
   ]
  },
  {
   "cell_type": "code",
   "execution_count": 27,
   "id": "e48bb197",
   "metadata": {
    "execution": {
     "iopub.execute_input": "2021-10-25T11:15:22.346553Z",
     "iopub.status.busy": "2021-10-25T11:15:22.345976Z",
     "iopub.status.idle": "2021-10-25T11:15:22.702791Z",
     "shell.execute_reply": "2021-10-25T11:15:22.703305Z"
    },
    "jupyter": {
     "source_hidden": true
    },
    "papermill": {
     "duration": 0.476793,
     "end_time": "2021-10-25T11:15:22.703614",
     "exception": false,
     "start_time": "2021-10-25T11:15:22.226821",
     "status": "completed"
    },
    "tags": []
   },
   "outputs": [
    {
     "data": {
      "text/plain": [
       "{'id': '7505w00000b2D4SAAU',\n",
       " 'operation': 'upsert',\n",
       " 'object': 'tool_usage_cluster__c',\n",
       " 'createdById': '0055w00000DM5bOAAT',\n",
       " 'createdDate': '2021-10-25T11:15:21.000+0000',\n",
       " 'systemModstamp': '2021-10-25T11:15:22.000+0000',\n",
       " 'state': 'InProgress',\n",
       " 'externalIdFieldName': 'Id',\n",
       " 'concurrencyMode': 'Parallel',\n",
       " 'contentType': 'CSV',\n",
       " 'apiVersion': 47.0,\n",
       " 'jobType': 'V2Ingest',\n",
       " 'lineEnding': 'LF',\n",
       " 'columnDelimiter': 'COMMA',\n",
       " 'numberRecordsProcessed': 0,\n",
       " 'numberRecordsFailed': 0,\n",
       " 'retries': 0,\n",
       " 'totalProcessingTime': 0,\n",
       " 'apiActiveProcessingTime': 0,\n",
       " 'apexProcessingTime': 0}"
      ]
     },
     "execution_count": 27,
     "metadata": {},
     "output_type": "execute_result"
    }
   ],
   "source": [
    "# check status\n",
    "db_s.check_bulk_status()"
   ]
  },
  {
   "cell_type": "code",
   "execution_count": null,
   "id": "cc11e755",
   "metadata": {
    "jupyter": {
     "source_hidden": true
    },
    "papermill": {
     "duration": 0.126373,
     "end_time": "2021-10-25T11:15:22.967017",
     "exception": false,
     "start_time": "2021-10-25T11:15:22.840644",
     "status": "completed"
    },
    "tags": []
   },
   "outputs": [],
   "source": []
  },
  {
   "cell_type": "code",
   "execution_count": null,
   "id": "60473ed6",
   "metadata": {
    "jupyter": {
     "source_hidden": true
    },
    "papermill": {
     "duration": 0.143079,
     "end_time": "2021-10-25T11:15:23.240144",
     "exception": false,
     "start_time": "2021-10-25T11:15:23.097065",
     "status": "completed"
    },
    "tags": []
   },
   "outputs": [],
   "source": []
  },
  {
   "cell_type": "code",
   "execution_count": null,
   "id": "c045759e",
   "metadata": {
    "jupyter": {
     "source_hidden": true
    },
    "papermill": {
     "duration": 0.122946,
     "end_time": "2021-10-25T11:15:23.492098",
     "exception": false,
     "start_time": "2021-10-25T11:15:23.369152",
     "status": "completed"
    },
    "tags": []
   },
   "outputs": [],
   "source": []
  },
  {
   "cell_type": "markdown",
   "id": "65fce9f4",
   "metadata": {
    "papermill": {
     "duration": 0.117909,
     "end_time": "2021-10-25T11:15:23.731094",
     "exception": false,
     "start_time": "2021-10-25T11:15:23.613185",
     "status": "completed"
    },
    "tags": []
   },
   "source": [
    "# Graveyard\n",
    "## Determine the most likely organization of each contact"
   ]
  },
  {
   "cell_type": "markdown",
   "id": "284d0d22",
   "metadata": {
    "papermill": {
     "duration": 0.118463,
     "end_time": "2021-10-25T11:15:23.968240",
     "exception": false,
     "start_time": "2021-10-25T11:15:23.849777",
     "status": "completed"
    },
    "tags": []
   },
   "source": [
    "### Rules\n",
    "\n",
    "In the following order:\n",
    "\n",
    "- If overwrite set, use overwrite\n",
    "- If nanohub profile exists, use profile [NEW ADDITION]\n",
    "- If citation exists, use citation\n",
    "- If email exists, use email - stop here\n",
    "- If cluster exists, use cluster\n",
    "- If none above, none"
   ]
  },
  {
   "cell_type": "raw",
   "id": "eb97d604",
   "metadata": {
    "papermill": {
     "duration": 0.120366,
     "end_time": "2021-10-25T11:15:24.204085",
     "exception": false,
     "start_time": "2021-10-25T11:15:24.083719",
     "status": "completed"
    },
    "tags": []
   },
   "source": [
    "# data given\n",
    "display('sf_cluster_df'); display(sf_cluster_df.head(1))\n",
    "display('sf_org_df'); display(sf_org_df.head(1))\n",
    "display('sf_contact_df'); display(sf_contact_df.head(1))\n",
    "display('sf_cit_org_df'); display(sf_cit_org_df.head(1))\n",
    "display('cluster_org_df'); display(cluster_org_df.head(1))"
   ]
  },
  {
   "cell_type": "raw",
   "id": "63421c4e",
   "metadata": {
    "papermill": {
     "duration": 0.123355,
     "end_time": "2021-10-25T11:15:24.443790",
     "exception": false,
     "start_time": "2021-10-25T11:15:24.320435",
     "status": "completed"
    },
    "tags": []
   },
   "source": [
    "# build domain, org cluster ID as salesforce cluster\n",
    "sf_org_ID_df = pd.DataFrame()\n",
    "sf_org_ID_df['Domain__c'] = sf_org_df.iloc[:,0]\n",
    "sf_org_ID_df['Salesforce_ID'] = sf_org_df.iloc[:,1]\n",
    "display(sf_org_ID_df.head(2))\n",
    "display(df.head(2))"
   ]
  },
  {
   "cell_type": "raw",
   "id": "477a8e93",
   "metadata": {
    "papermill": {
     "duration": 0.116178,
     "end_time": "2021-10-25T11:15:24.677558",
     "exception": false,
     "start_time": "2021-10-25T11:15:24.561380",
     "status": "completed"
    },
    "tags": []
   },
   "source": [
    "# join salesforce ID back to contact DF\n",
    "df = pd.merge(sf_org_ID_df, df, how='right', left_on='Domain__c', right_on='domain').drop('Domain__c', axis=1)\\\n",
    "            .rename(columns={'Id':'Salesforce_ID'})\n",
    "display(df.head(2))"
   ]
  },
  {
   "cell_type": "raw",
   "id": "f28970c0",
   "metadata": {
    "papermill": {
     "duration": 0.11437,
     "end_time": "2021-10-25T11:15:24.907249",
     "exception": false,
     "start_time": "2021-10-25T11:15:24.792879",
     "status": "completed"
    },
    "tags": []
   },
   "source": [
    "## Correct organizations for citations\n",
    "sf_cit_ovr = sf_cit_org_df.drop_duplicates(subset='Contact__c',keep='first')\n",
    "temp = sf_cit_ovr.loc[:,'Contact__c']\n",
    "t_names = sf_contact_df.loc[:,'Id'].tolist()\n",
    "\n",
    "# iterate over all\n",
    "names = []\n",
    "for i in temp:\n",
    "    names.append(t_names.index(i))"
   ]
  },
  {
   "cell_type": "raw",
   "id": "8440dd72",
   "metadata": {
    "papermill": {
     "duration": 0.114456,
     "end_time": "2021-10-25T11:15:25.137562",
     "exception": false,
     "start_time": "2021-10-25T11:15:25.023106",
     "status": "completed"
    },
    "tags": []
   },
   "source": [
    "# populate df.Salesforce_ID\n",
    "use_names = sf_contact_df.loc[names,'Name'].tolist()\n",
    "citation_orgs = sf_cit_ovr.loc[:,'Organization__c'].tolist()\n",
    "\n",
    "t0 = df.name.tolist()\n",
    "for index,val in enumerate(use_names):\n",
    "    try:\n",
    "        name_index = t0.index(val)\n",
    "        df.Salesforce_ID[name_index] = citation_orgs[index]\n",
    "    except:\n",
    "        t = 1"
   ]
  },
  {
   "cell_type": "raw",
   "id": "bfb33d45",
   "metadata": {
    "papermill": {
     "duration": 0.11513,
     "end_time": "2021-10-25T11:15:25.368675",
     "exception": false,
     "start_time": "2021-10-25T11:15:25.253545",
     "status": "completed"
    },
    "tags": []
   },
   "source": [
    "## Correct organizations for nanohub profile\n",
    "# extract Organization__c\n",
    "nano_orgs = (sf_contact_df.Organization__c[sf_contact_df.Organization__c.notnull()]).to_numpy()\n",
    "\n",
    "# nanohub organizations aren't necessarily ine ntlk database...\n",
    "# manual trial-and-error corrections\n",
    "nano_orgs[np.argwhere(nano_orgs == 'purdue university')] = 'Purdue University-Main Campus'\n",
    "nano_orgs[np.argwhere(nano_orgs == 'centerfor solar energy studies')] = 'University of Central Florida'\n",
    "nano_orgs[np.argwhere(nano_orgs == 'jpl')] = 'nasa'\n",
    "nano_orgs[np.argwhere(nano_orgs == 'bechtel bettis, inc.')] = 'bechtel corporation'\n",
    "nano_orgs[np.argwhere(nano_orgs == 'cadence')] = 'cadence design systems'\n",
    "\n",
    "nano_orgs[np.argwhere(nano_orgs == 'university of illinois at urbana-champaign')] = 'University of Illinois at Urbana-Champaign'\n",
    "nano_orgs[np.argwhere(nano_orgs == 'university of texas at austin')] = 'The University of Texas at Austin'\n",
    "nano_orgs[np.argwhere(nano_orgs == 'university of texas at el paso')] = 'The University of Texas at El Paso'\n",
    "\n",
    "#comment out later\n",
    "#nano_orgs[np.argwhere(nano_orgs == 'universidad de buenos aires')] = 'universidad del valle'\n",
    "#nano_orgs[np.argwhere(nano_orgs == 'federal university of rio grande do sul (ufrgs)')] = 'universidad del valle'\n",
    "\n",
    "# get orgnization ids\n",
    "orgs_list = sf_org_df.Name.tolist()\n",
    "orgs_index = [] #orgs_index used to find salesforce org ID\n",
    "for i in nano_orgs:\n",
    "    try:\n",
    "        orgs_index.append(orgs_list.index(i))\n",
    "    except:\n",
    "        t = 1"
   ]
  },
  {
   "cell_type": "raw",
   "id": "9dd9b0c2",
   "metadata": {
    "papermill": {
     "duration": 0.114686,
     "end_time": "2021-10-25T11:15:25.613933",
     "exception": false,
     "start_time": "2021-10-25T11:15:25.499247",
     "status": "completed"
    },
    "tags": []
   },
   "source": [
    "# populate df.Salesforce\n",
    "#names of people who've have a nanohub organization filled out\n",
    "nano_names = sf_contact_df.Name[sf_contact_df.Organization__c.notnull()]\n",
    "\n",
    "# both orgs_index + nano_names are sequential (first come first served)\n",
    "t0 = df.name.tolist()\n",
    "for index,val in enumerate(nano_names):\n",
    "    try:\n",
    "        name_index = t0.index(val)\n",
    "        df.Salesforce_ID[name_index] = orgs_index[index]\n",
    "    except:\n",
    "        t = 1 "
   ]
  },
  {
   "cell_type": "raw",
   "id": "01cd0653",
   "metadata": {
    "papermill": {
     "duration": 0.11398,
     "end_time": "2021-10-25T11:15:25.840461",
     "exception": false,
     "start_time": "2021-10-25T11:15:25.726481",
     "status": "completed"
    },
    "tags": []
   },
   "source": [
    "## correct for overwrites (Organization_Overwrite__c from contact is the nanohubProfile)\n",
    "# find all indexes where Organization_Overwrite__c is not NaN\n",
    "df_replace = sf_contact_df.loc[:,'Name'][sf_contact_df['Organization_Overwrite__c'].notnull()]\n",
    "display(df_replace.head(2))"
   ]
  },
  {
   "cell_type": "code",
   "execution_count": null,
   "id": "7cb2f41b",
   "metadata": {
    "jupyter": {
     "source_hidden": true
    },
    "papermill": {
     "duration": 0.110806,
     "end_time": "2021-10-25T11:15:26.063949",
     "exception": false,
     "start_time": "2021-10-25T11:15:25.953143",
     "status": "completed"
    },
    "tags": []
   },
   "outputs": [],
   "source": []
  },
  {
   "cell_type": "markdown",
   "id": "bdc1eb1e",
   "metadata": {
    "papermill": {
     "duration": 0.115658,
     "end_time": "2021-10-25T11:15:26.306362",
     "exception": false,
     "start_time": "2021-10-25T11:15:26.190704",
     "status": "completed"
    },
    "tags": []
   },
   "source": [
    "## Match data with Salesforce format"
   ]
  },
  {
   "cell_type": "raw",
   "id": "e737b6b2",
   "metadata": {
    "papermill": {
     "duration": 0.116325,
     "end_time": "2021-10-25T11:15:26.537250",
     "exception": false,
     "start_time": "2021-10-25T11:15:26.420925",
     "status": "completed"
    },
    "tags": []
   },
   "source": [
    "# split full name into first, middle, and last names\n",
    "def split_full_name(this_name):\n",
    "    this_name_list = list(filter(None, this_name.split(' ')))\n",
    "    \n",
    "    if len(this_name_list) == 1:\n",
    "        # single word name\n",
    "        return pd.Series([this_name_list[0],None, this_name_list[0]])\n",
    "    \n",
    "    elif len(this_name_list) > 1:\n",
    "        # multi word name\n",
    "        return pd.Series([this_name_list[0],' '.join(this_name_list[1:-1]),this_name_list[-1]])"
   ]
  },
  {
   "cell_type": "raw",
   "id": "e0813720",
   "metadata": {
    "papermill": {
     "duration": 0.114752,
     "end_time": "2021-10-25T11:15:26.767177",
     "exception": false,
     "start_time": "2021-10-25T11:15:26.652425",
     "status": "completed"
    },
    "tags": []
   },
   "source": [
    "df_sf = pd.DataFrame()\n",
    "\n",
    "# Make sure NaN and NaT values are taken care of here\n",
    "df_sf[['firstname', 'Middle_name__c', 'lastname']] = df['name'].apply(split_full_name)\n",
    "\n",
    "df_sf['nanoHUB_user_ID__c']            = df['id']\n",
    "df_sf['nanoHUB_username__c']           = df['username']\n",
    "df_sf['Email']                         = df['email'].fillna('').apply(lambda x: '' if '@invalid' in x else x)\n",
    "\n",
    "# for sendEmail: 0 = opt-out, 1 = receive email. For salesforce HasOptedOutOfEmail, it's exact opposite\n",
    "df_sf['HasOptedOutOfEmail']            = df['sendEmail'].apply(lambda x: 0 if x==1 else 1)\n",
    "df_sf['nanoHUB_account_BLOCKED__c']    = df['block'].fillna(0)\n",
    "\n",
    "# solidify time-related columns from datetime to string - DUPLICATED IN TASK_USER_UPDATE_PROFILES\n",
    "#df_sf['nanoHUB_registration_date__c']  = df['registerDate'].dt.date.fillna('').astype('str')\n",
    "#df_sf['nanoHUB_last_active_date__c']   = df['lastvisitDate'].dt.date.fillna('').astype('str')\n",
    "\n",
    "# Tableau detailed view\n",
    "df_sf['Detailed_user_timeline_to_Tableau__c'] = df_sf['Email'].apply(lambda x: 'https://tableauqa.itap.purdue.edu/views/profile/ProfileTimeline?Id%20Email='+x+'\\\n",
    "&:iframeSizedToWindow=true&:embed=y&:showAppBanner=false\\\n",
    "&:display_count=no&:showVizHome=no#6' if x != '' else '')\n",
    "\n",
    "# nanoHUB user profile\n",
    "df_sf['nanoHUB_user_page__c'] = df_sf['nanoHUB_user_ID__c'].apply(lambda x: 'https://nanohub.org/members/%d'%x if x != '' else '')\n",
    "\n",
    "df_sf['ORCID__c'] = df['orcid'].fillna('')\n",
    "df_sf['Organization__c'] = df['organization'].fillna('')\n",
    "df_sf['Organization_Type__c'] = df['orgtype'].fillna('')\n",
    "\n",
    "# derived information\n",
    "df_sf['Organization_email_derived__c'] = df['Salesforce_ID']\n",
    "\n",
    "sf_original_fields = df_sf.columns\n",
    "\n",
    "# display\n",
    "df_sf.head(2).T"
   ]
  },
  {
   "cell_type": "raw",
   "id": "178c046f",
   "metadata": {
    "papermill": {
     "duration": 0.113825,
     "end_time": "2021-10-25T11:15:26.994382",
     "exception": false,
     "start_time": "2021-10-25T11:15:26.880557",
     "status": "completed"
    },
    "tags": []
   },
   "source": [
    "## organization composite population\n",
    "# check overwrites - organization_overwrite__c\n",
    "df_sf['Organization_composite__c'] = sf_contact_df['Organization_Overwrite__c']\n",
    "\n",
    "# find remaining indexes that are NaN\n",
    "nan_index = df_sf['Organization_composite__c'].isna()\n",
    "nan_index = [i for i,flag in enumerate(nan_index) if flag==True]\n",
    "\n",
    "from copy import deepcopy\n",
    "# look at nanohub profile\n",
    "pd.options.mode.chained_assignment = None\n",
    "df_sf['Organization_composite__c'][nan_index] = deepcopy(df_sf['Organization__c'][nan_index])\n",
    "\n",
    "empty_index = df_sf['Organization_composite__c']==''\n",
    "empty_index = [i for i,flag in enumerate(empty_index) if flag==True]\n",
    "\n",
    "# look at emails\n",
    "df_sf['Organization_composite__c'][empty_index] = deepcopy(df_sf['Organization_email_derived__c'][empty_index])"
   ]
  },
  {
   "cell_type": "raw",
   "id": "492bca31",
   "metadata": {
    "papermill": {
     "duration": 0.111775,
     "end_time": "2021-10-25T11:15:27.220276",
     "exception": false,
     "start_time": "2021-10-25T11:15:27.108501",
     "status": "completed"
    },
    "tags": []
   },
   "source": [
    "print(df_sf['nanoHUB_user_ID__c'].index[df_sf['nanoHUB_user_ID__c']==3379])\n",
    "print(df_sf['Organization_composite__c'][67870])\n",
    "df_sf['Organization_email_derived__c'][67870] = 'University of Florida'"
   ]
  },
  {
   "cell_type": "markdown",
   "id": "0b0f7f8b",
   "metadata": {
    "papermill": {
     "duration": 0.114033,
     "end_time": "2021-10-25T11:15:27.450213",
     "exception": false,
     "start_time": "2021-10-25T11:15:27.336180",
     "status": "completed"
    },
    "tags": []
   },
   "source": [
    "## To Salesforce Sales Cloud CRM"
   ]
  },
  {
   "cell_type": "raw",
   "id": "e65ff84a",
   "metadata": {
    "papermill": {
     "duration": 0.115338,
     "end_time": "2021-10-25T11:15:27.681952",
     "exception": false,
     "start_time": "2021-10-25T11:15:27.566614",
     "status": "completed"
    },
    "tags": []
   },
   "source": [
    "\n",
    "\n",
    "# create DB2 to Salesforce API object\n",
    "db_s = salesforce\n",
    "\n",
    "db_s.object_id = object_id\n",
    "db_s.external_id = external_id"
   ]
  },
  {
   "cell_type": "raw",
   "id": "eacc4183",
   "metadata": {
    "papermill": {
     "duration": 0.117421,
     "end_time": "2021-10-25T11:15:27.913987",
     "exception": false,
     "start_time": "2021-10-25T11:15:27.796566",
     "status": "completed"
    },
    "tags": []
   },
   "source": [
    "# send data to Salesforce\n",
    "db_s.send_data(df_sf)"
   ]
  },
  {
   "cell_type": "raw",
   "id": "3a268595",
   "metadata": {
    "papermill": {
     "duration": 0.114848,
     "end_time": "2021-10-25T11:15:28.143343",
     "exception": false,
     "start_time": "2021-10-25T11:15:28.028495",
     "status": "completed"
    },
    "tags": []
   },
   "source": [
    "# check status\n",
    "db_s.check_bulk_status()"
   ]
  },
  {
   "cell_type": "raw",
   "id": "4edf4915",
   "metadata": {
    "papermill": {
     "duration": 0.114923,
     "end_time": "2021-10-25T11:15:28.373874",
     "exception": false,
     "start_time": "2021-10-25T11:15:28.258951",
     "status": "completed"
    },
    "tags": []
   },
   "source": [
    "# check status\n",
    "from pprint import pprint\n",
    "\n",
    "pprint(db_s.check_bulk_failed_results())"
   ]
  },
  {
   "cell_type": "code",
   "execution_count": null,
   "id": "64dce129",
   "metadata": {
    "jupyter": {
     "source_hidden": true
    },
    "papermill": {
     "duration": 0.113496,
     "end_time": "2021-10-25T11:15:28.601355",
     "exception": false,
     "start_time": "2021-10-25T11:15:28.487859",
     "status": "completed"
    },
    "tags": []
   },
   "outputs": [],
   "source": []
  }
 ],
 "metadata": {
  "celltoolbar": "Tags",
  "kernelspec": {
   "display_name": "Python 3",
   "language": "python",
   "name": "python3"
  },
  "language_info": {
   "codemirror_mode": {
    "name": "ipython",
    "version": 3
   },
   "file_extension": ".py",
   "mimetype": "text/x-python",
   "name": "python",
   "nbconvert_exporter": "python",
   "pygments_lexer": "ipython3",
   "version": "3.9.7"
  },
  "papermill": {
   "duration": 258.319204,
   "end_time": "2021-10-25T11:15:29.902174",
   "environment_variables": {},
   "exception": null,
   "input_path": "/Users/saxenap/Documents/Dev/nanoHUB/nanoHUB/pipeline/salesforce/task_determine_contact_cluster_org.ipynb",
   "output_path": "./.output/task_determine_contact_cluster_org.ipynb",
   "parameters": {},
   "start_time": "2021-10-25T11:11:11.582970",
   "version": "2.1.1"
  }
 },
 "nbformat": 4,
 "nbformat_minor": 5
}