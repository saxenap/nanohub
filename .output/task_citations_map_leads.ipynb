{
 "cells": [
  {
   "cell_type": "markdown",
   "id": "c665c579",
   "metadata": {
    "papermill": {
     "duration": 0.052934,
     "end_time": "2021-10-25T11:05:26.248970",
     "exception": false,
     "start_time": "2021-10-25T11:05:26.196036",
     "status": "completed"
    },
    "tags": []
   },
   "source": [
    "# DB2-Salesforce connector: Citation mapping to leads"
   ]
  },
  {
   "cell_type": "code",
   "execution_count": 1,
   "id": "3183778b",
   "metadata": {
    "execution": {
     "iopub.execute_input": "2021-10-25T11:05:26.369449Z",
     "iopub.status.busy": "2021-10-25T11:05:26.368491Z",
     "iopub.status.idle": "2021-10-25T11:05:28.630206Z",
     "shell.execute_reply": "2021-10-25T11:05:28.630946Z"
    },
    "jupyter": {
     "source_hidden": true
    },
    "papermill": {
     "duration": 2.328509,
     "end_time": "2021-10-25T11:05:28.631378",
     "exception": false,
     "start_time": "2021-10-25T11:05:26.302869",
     "status": "completed"
    },
    "tags": [
     "parameters"
    ]
   },
   "outputs": [
    {
     "name": "stdout",
     "output_type": "stream",
     "text": [
      "\u001b[1mnanoHUB - Serving Students, Researchers & Instructors\u001b[0m\n"
     ]
    },
    {
     "name": "stdout",
     "output_type": "stream",
     "text": [
      "Obtained Salesforce access token ...... True\n"
     ]
    }
   ],
   "source": [
    "# API settings\n",
    "api_url = '/services/data/v43.0/sobjects'\n",
    "external_id = 'nanoHUB_source_ID__c'\n",
    "object_id = 'Lead'\n",
    "\n",
    "from nanoHUB.application import Application\n",
    "\n",
    "application = Application.get_instance()\n",
    "nanohub_db = application.new_db_engine('nanohub')\n",
    "\n",
    "salesforce = application.new_salesforce_engine()\n",
    "db_s = salesforce"
   ]
  },
  {
   "cell_type": "code",
   "execution_count": 2,
   "id": "b88d7a37",
   "metadata": {
    "execution": {
     "iopub.execute_input": "2021-10-25T11:05:28.768346Z",
     "iopub.status.busy": "2021-10-25T11:05:28.767178Z",
     "iopub.status.idle": "2021-10-25T11:05:28.769493Z",
     "shell.execute_reply": "2021-10-25T11:05:28.770152Z"
    },
    "jupyter": {
     "source_hidden": true
    },
    "papermill": {
     "duration": 0.074323,
     "end_time": "2021-10-25T11:05:28.770514",
     "exception": false,
     "start_time": "2021-10-25T11:05:28.696191",
     "status": "completed"
    },
    "tags": []
   },
   "outputs": [],
   "source": [
    "    \n",
    "import pandas as pd\n",
    "import time\n",
    "import datetime"
   ]
  },
  {
   "cell_type": "markdown",
   "id": "569031e1",
   "metadata": {
    "papermill": {
     "duration": 0.055234,
     "end_time": "2021-10-25T11:05:28.887170",
     "exception": false,
     "start_time": "2021-10-25T11:05:28.831936",
     "status": "completed"
    },
    "tags": []
   },
   "source": [
    "## Obtain tool information from DB2 "
   ]
  },
  {
   "cell_type": "code",
   "execution_count": 3,
   "id": "f64bcb69",
   "metadata": {
    "execution": {
     "iopub.execute_input": "2021-10-25T11:05:29.010363Z",
     "iopub.status.busy": "2021-10-25T11:05:29.009376Z",
     "iopub.status.idle": "2021-10-25T11:05:33.268970Z",
     "shell.execute_reply": "2021-10-25T11:05:33.270181Z"
    },
    "jupyter": {
     "source_hidden": true
    },
    "papermill": {
     "duration": 4.324454,
     "end_time": "2021-10-25T11:05:33.270458",
     "exception": false,
     "start_time": "2021-10-25T11:05:28.946004",
     "status": "completed"
    },
    "tags": []
   },
   "outputs": [],
   "source": [
    "# Citations\n",
    "sql_query = \"select * from jos_citations\"\n",
    "\n",
    "citations_df = pd.read_sql_query(sql_query, nanohub_db)\n",
    "\n",
    "# Citation authors\n",
    "sql_query = \"select * from jos_citations_authors;\"\n",
    "\n",
    "authors_df = pd.read_sql_query(sql_query, nanohub_db)"
   ]
  },
  {
   "cell_type": "code",
   "execution_count": 4,
   "id": "55865ac5",
   "metadata": {
    "execution": {
     "iopub.execute_input": "2021-10-25T11:05:33.400614Z",
     "iopub.status.busy": "2021-10-25T11:05:33.399055Z",
     "iopub.status.idle": "2021-10-25T11:05:33.450053Z",
     "shell.execute_reply": "2021-10-25T11:05:33.450755Z"
    },
    "jupyter": {
     "source_hidden": true
    },
    "papermill": {
     "duration": 0.123924,
     "end_time": "2021-10-25T11:05:33.451030",
     "exception": false,
     "start_time": "2021-10-25T11:05:33.327106",
     "status": "completed"
    },
    "tags": []
   },
   "outputs": [
    {
     "data": {
      "text/html": [
       "<div>\n",
       "<style scoped>\n",
       "    .dataframe tbody tr th:only-of-type {\n",
       "        vertical-align: middle;\n",
       "    }\n",
       "\n",
       "    .dataframe tbody tr th {\n",
       "        vertical-align: top;\n",
       "    }\n",
       "\n",
       "    .dataframe thead th {\n",
       "        text-align: right;\n",
       "    }\n",
       "</style>\n",
       "<table border=\"1\" class=\"dataframe\">\n",
       "  <thead>\n",
       "    <tr style=\"text-align: right;\">\n",
       "      <th></th>\n",
       "      <th>url</th>\n",
       "      <th>author_c</th>\n",
       "      <th>journal</th>\n",
       "      <th>year</th>\n",
       "      <th>title</th>\n",
       "      <th>citation_ID</th>\n",
       "      <th>nanohub_user_id</th>\n",
       "      <th>author_id</th>\n",
       "      <th>author_a</th>\n",
       "      <th>email</th>\n",
       "      <th>organization</th>\n",
       "    </tr>\n",
       "  </thead>\n",
       "  <tbody>\n",
       "    <tr>\n",
       "      <th>0</th>\n",
       "      <td></td>\n",
       "      <td>Sebastian Steiger;Michael Povolotskyi;Hong-Hyu...</td>\n",
       "      <td>IEEE Transactions on Nanotechnology</td>\n",
       "      <td>2011</td>\n",
       "      <td>NEMO5: A Parallel Multiscale Nanoelectronics M...</td>\n",
       "      <td>10000003</td>\n",
       "      <td>10676</td>\n",
       "      <td>4613</td>\n",
       "      <td>Sebastian Steiger</td>\n",
       "      <td></td>\n",
       "      <td>Purdue University</td>\n",
       "    </tr>\n",
       "    <tr>\n",
       "      <th>1</th>\n",
       "      <td></td>\n",
       "      <td>Sebastian Steiger;Michael Povolotskyi;Hong-Hyu...</td>\n",
       "      <td>IEEE Transactions on Nanotechnology</td>\n",
       "      <td>2011</td>\n",
       "      <td>NEMO5: A Parallel Multiscale Nanoelectronics M...</td>\n",
       "      <td>10000003</td>\n",
       "      <td>0</td>\n",
       "      <td>4614</td>\n",
       "      <td>Michael Povolotskyi</td>\n",
       "      <td></td>\n",
       "      <td>Purdue University</td>\n",
       "    </tr>\n",
       "    <tr>\n",
       "      <th>2</th>\n",
       "      <td></td>\n",
       "      <td>Sebastian Steiger;Michael Povolotskyi;Hong-Hyu...</td>\n",
       "      <td>IEEE Transactions on Nanotechnology</td>\n",
       "      <td>2011</td>\n",
       "      <td>NEMO5: A Parallel Multiscale Nanoelectronics M...</td>\n",
       "      <td>10000003</td>\n",
       "      <td>37033</td>\n",
       "      <td>4615</td>\n",
       "      <td>Hong-Hyun Park</td>\n",
       "      <td></td>\n",
       "      <td>Purdue University</td>\n",
       "    </tr>\n",
       "  </tbody>\n",
       "</table>\n",
       "</div>"
      ],
      "text/plain": [
       "  url                                           author_c  \\\n",
       "0      Sebastian Steiger;Michael Povolotskyi;Hong-Hyu...   \n",
       "1      Sebastian Steiger;Michael Povolotskyi;Hong-Hyu...   \n",
       "2      Sebastian Steiger;Michael Povolotskyi;Hong-Hyu...   \n",
       "\n",
       "                               journal  year  \\\n",
       "0  IEEE Transactions on Nanotechnology  2011   \n",
       "1  IEEE Transactions on Nanotechnology  2011   \n",
       "2  IEEE Transactions on Nanotechnology  2011   \n",
       "\n",
       "                                               title  citation_ID  \\\n",
       "0  NEMO5: A Parallel Multiscale Nanoelectronics M...     10000003   \n",
       "1  NEMO5: A Parallel Multiscale Nanoelectronics M...     10000003   \n",
       "2  NEMO5: A Parallel Multiscale Nanoelectronics M...     10000003   \n",
       "\n",
       "   nanohub_user_id  author_id             author_a email       organization  \n",
       "0            10676       4613    Sebastian Steiger        Purdue University  \n",
       "1                0       4614  Michael Povolotskyi        Purdue University  \n",
       "2            37033       4615       Hong-Hyun Park        Purdue University  "
      ]
     },
     "execution_count": 4,
     "metadata": {},
     "output_type": "execute_result"
    }
   ],
   "source": [
    "# combining authors and citations\n",
    "ac_df = pd.merge(citations_df[['id', 'url', 'author', 'journal', 'year', 'title']],\\\n",
    "                 authors_df[['cid', 'uidNumber','id', 'author', 'email', 'organization']], \\\n",
    "                 how='inner',\\\n",
    "                 left_on='id', right_on='cid', suffixes=['_c', '_a'])\\\n",
    "                .drop(columns='id_c')\n",
    "\n",
    "ac_df.rename(columns={'cid':'citation_ID', 'uidNumber':'nanohub_user_id', 'id_a':'author_id'}, inplace=True)\n",
    "\n",
    "# display\n",
    "ac_df.head(3)"
   ]
  },
  {
   "cell_type": "code",
   "execution_count": 5,
   "id": "92e819f8",
   "metadata": {
    "execution": {
     "iopub.execute_input": "2021-10-25T11:05:33.648601Z",
     "iopub.status.busy": "2021-10-25T11:05:33.611960Z",
     "iopub.status.idle": "2021-10-25T11:05:33.659252Z",
     "shell.execute_reply": "2021-10-25T11:05:33.660028Z"
    },
    "jupyter": {
     "source_hidden": true
    },
    "papermill": {
     "duration": 0.137904,
     "end_time": "2021-10-25T11:05:33.660379",
     "exception": false,
     "start_time": "2021-10-25T11:05:33.522475",
     "status": "completed"
    },
    "tags": []
   },
   "outputs": [],
   "source": [
    "# Captialize author names\n",
    "ac_df['author'] = ac_df.author_a.apply(lambda x: ' '.join(list(filter(None, [z.capitalize() for z in x.strip().split(' ')]))))\n",
    "\n",
    "# remove empty author name entries\n",
    "ac_df = ac_df[ac_df['author']!= '']"
   ]
  },
  {
   "cell_type": "code",
   "execution_count": 6,
   "id": "be22a56e",
   "metadata": {
    "execution": {
     "iopub.execute_input": "2021-10-25T11:05:33.812647Z",
     "iopub.status.busy": "2021-10-25T11:05:33.811712Z",
     "iopub.status.idle": "2021-10-25T11:05:51.117777Z",
     "shell.execute_reply": "2021-10-25T11:05:51.118579Z"
    },
    "jupyter": {
     "source_hidden": true
    },
    "papermill": {
     "duration": 17.392224,
     "end_time": "2021-10-25T11:05:51.118986",
     "exception": false,
     "start_time": "2021-10-25T11:05:33.726762",
     "status": "completed"
    },
    "tags": []
   },
   "outputs": [
    {
     "data": {
      "text/html": [
       "<div>\n",
       "<style scoped>\n",
       "    .dataframe tbody tr th:only-of-type {\n",
       "        vertical-align: middle;\n",
       "    }\n",
       "\n",
       "    .dataframe tbody tr th {\n",
       "        vertical-align: top;\n",
       "    }\n",
       "\n",
       "    .dataframe thead th {\n",
       "        text-align: right;\n",
       "    }\n",
       "</style>\n",
       "<table border=\"1\" class=\"dataframe\">\n",
       "  <thead>\n",
       "    <tr style=\"text-align: right;\">\n",
       "      <th></th>\n",
       "      <th>author</th>\n",
       "      <th>keep</th>\n",
       "      <th>email</th>\n",
       "      <th>org</th>\n",
       "      <th>source</th>\n",
       "    </tr>\n",
       "  </thead>\n",
       "  <tbody>\n",
       "    <tr>\n",
       "      <th>1</th>\n",
       "      <td>A Alhenawy</td>\n",
       "      <td>True</td>\n",
       "      <td>a.hennawy@hotmail.com</td>\n",
       "      <td>Ain Shams University</td>\n",
       "      <td>&lt;p&gt;&lt;span style=\"color: #ff0000;\"&gt;&lt;strong&gt;[Auto...</td>\n",
       "    </tr>\n",
       "    <tr>\n",
       "      <th>2</th>\n",
       "      <td>A Alma'aitah</td>\n",
       "      <td>True</td>\n",
       "      <td>aalmaait@uwo.ca</td>\n",
       "      <td>University Of Western Ontario</td>\n",
       "      <td>&lt;p&gt;&lt;span style=\"color: #ff0000;\"&gt;&lt;strong&gt;[Auto...</td>\n",
       "    </tr>\n",
       "    <tr>\n",
       "      <th>6</th>\n",
       "      <td>A Dorda</td>\n",
       "      <td>True</td>\n",
       "      <td>None</td>\n",
       "      <td>Graz University of Technology</td>\n",
       "      <td>&lt;p&gt;&lt;span style=\"color: #ff0000;\"&gt;&lt;strong&gt;[Auto...</td>\n",
       "    </tr>\n",
       "  </tbody>\n",
       "</table>\n",
       "</div>"
      ],
      "text/plain": [
       "         author  keep                  email                            org  \\\n",
       "1    A Alhenawy  True  a.hennawy@hotmail.com           Ain Shams University   \n",
       "2  A Alma'aitah  True        aalmaait@uwo.ca  University Of Western Ontario   \n",
       "6       A Dorda  True                   None  Graz University of Technology   \n",
       "\n",
       "                                              source  \n",
       "1  <p><span style=\"color: #ff0000;\"><strong>[Auto...  \n",
       "2  <p><span style=\"color: #ff0000;\"><strong>[Auto...  \n",
       "6  <p><span style=\"color: #ff0000;\"><strong>[Auto...  "
      ]
     },
     "execution_count": 6,
     "metadata": {},
     "output_type": "execute_result"
    }
   ],
   "source": [
    "# author with no nanoHUB account -> leads\n",
    "def determine_lead(this_df):\n",
    "    # determine if this author is a lead\n",
    "    \n",
    "    if ((this_df.nanohub_user_id!=0).sum() > 0):\n",
    "        # this author name has nanoHUB ID\n",
    "        return pd.Series([False, None, None, None], index=['keep', 'email', 'org', 'source'])\n",
    "    \n",
    "    # affiliation\n",
    "    this_org = this_df[this_df['organization'] != '']['organization'].mode()\n",
    "    if this_org.shape[0] > 0:\n",
    "        this_org = this_org[0]\n",
    "    else:\n",
    "        this_org = None\n",
    "    \n",
    "    # email\n",
    "    this_email = this_df[this_df['email'] != '']['email'].mode()\n",
    "    if this_email.shape[0] > 0:\n",
    "        this_email = this_email[0]\n",
    "    else:\n",
    "        this_email = None\n",
    "    \n",
    "    # list of citations\n",
    "    this_cite_list = this_df.apply(lambda x: '%s, %s (%d)' %(x.title,x.journal,x.year), axis=1)\\\n",
    "                                      .drop_duplicates().to_list()\n",
    "    \n",
    "    if len(this_cite_list) > 0:\n",
    "        # remove empty strings\n",
    "        this_cite_list = list(filter(None, this_cite_list))\n",
    "    \n",
    "    # list of URLs\n",
    "    this_url_list = this_df['url'].drop_duplicates().to_list()\n",
    "    \n",
    "    if len(this_url_list) > 0:\n",
    "        # remove empty strings\n",
    "        this_url_list = list(filter(None, this_url_list))   \n",
    "        \n",
    "    # generate nanoHUB_source\n",
    "    this_nanoHUB_source = '<p><span style=\"color: #ff0000;\"><strong>[Automatically generated]</strong></span> from the following publications citing nanoHUB resources.</p>'\n",
    "    \n",
    "    for x in this_cite_list:\n",
    "        this_nanoHUB_source += x+'<br />'\n",
    "        \n",
    "    this_nanoHUB_source += '<p></p><p>Links:</p>'\n",
    "    \n",
    "    for x in this_url_list:\n",
    "        this_nanoHUB_source += x+'<br />' \n",
    "    \n",
    "    return pd.Series([True, this_email, this_org, this_nanoHUB_source], index=['keep', 'email', 'org', 'source'])\n",
    "\n",
    "\n",
    "# group by author name. Each lead has unique author name\n",
    "lead_df = ac_df.groupby('author').apply(determine_lead).reset_index()\n",
    "\n",
    "lead_df = lead_df[lead_df.keep]\n",
    "                \n",
    "# display\n",
    "lead_df.head(3)"
   ]
  },
  {
   "cell_type": "markdown",
   "id": "eb464464",
   "metadata": {
    "papermill": {
     "duration": 0.057619,
     "end_time": "2021-10-25T11:05:51.234405",
     "exception": false,
     "start_time": "2021-10-25T11:05:51.176786",
     "status": "completed"
    },
    "tags": []
   },
   "source": [
    "## Match data with Salesforce format"
   ]
  },
  {
   "cell_type": "code",
   "execution_count": 7,
   "id": "89a1fc85",
   "metadata": {
    "execution": {
     "iopub.execute_input": "2021-10-25T11:05:51.358931Z",
     "iopub.status.busy": "2021-10-25T11:05:51.358027Z",
     "iopub.status.idle": "2021-10-25T11:05:51.360863Z",
     "shell.execute_reply": "2021-10-25T11:05:51.361734Z"
    },
    "jupyter": {
     "source_hidden": true
    },
    "papermill": {
     "duration": 0.067984,
     "end_time": "2021-10-25T11:05:51.362031",
     "exception": false,
     "start_time": "2021-10-25T11:05:51.294047",
     "status": "completed"
    },
    "tags": []
   },
   "outputs": [],
   "source": [
    "# split full name into first, middle, and last names\n",
    "def split_full_name(this_name):\n",
    "    this_name_list = list(filter(None, this_name.split(' ')))\n",
    "    \n",
    "    if len(this_name_list) == 1:\n",
    "        # single word name\n",
    "        return pd.Series([this_name_list[0], this_name_list[0]])\n",
    "    \n",
    "    elif len(this_name_list) > 1:\n",
    "        # multi word name\n",
    "        return pd.Series([this_name_list[0],this_name_list[-1]])"
   ]
  },
  {
   "cell_type": "code",
   "execution_count": 8,
   "id": "6b083473",
   "metadata": {
    "execution": {
     "iopub.execute_input": "2021-10-25T11:05:51.552917Z",
     "iopub.status.busy": "2021-10-25T11:05:51.523058Z",
     "iopub.status.idle": "2021-10-25T11:05:52.790438Z",
     "shell.execute_reply": "2021-10-25T11:05:52.791402Z"
    },
    "jupyter": {
     "source_hidden": true
    },
    "papermill": {
     "duration": 1.371924,
     "end_time": "2021-10-25T11:05:52.791953",
     "exception": false,
     "start_time": "2021-10-25T11:05:51.420029",
     "status": "completed"
    },
    "tags": []
   },
   "outputs": [
    {
     "data": {
      "text/html": [
       "<div>\n",
       "<style scoped>\n",
       "    .dataframe tbody tr th:only-of-type {\n",
       "        vertical-align: middle;\n",
       "    }\n",
       "\n",
       "    .dataframe tbody tr th {\n",
       "        vertical-align: top;\n",
       "    }\n",
       "\n",
       "    .dataframe thead th {\n",
       "        text-align: right;\n",
       "    }\n",
       "</style>\n",
       "<table border=\"1\" class=\"dataframe\">\n",
       "  <thead>\n",
       "    <tr style=\"text-align: right;\">\n",
       "      <th></th>\n",
       "      <th>1</th>\n",
       "      <th>2</th>\n",
       "    </tr>\n",
       "  </thead>\n",
       "  <tbody>\n",
       "    <tr>\n",
       "      <th>nanoHUB_source_ID__c</th>\n",
       "      <td>lead_citation#A_Alhenawy</td>\n",
       "      <td>lead_citation#A_Alma'aitah</td>\n",
       "    </tr>\n",
       "    <tr>\n",
       "      <th>firstname</th>\n",
       "      <td>A</td>\n",
       "      <td>A</td>\n",
       "    </tr>\n",
       "    <tr>\n",
       "      <th>lastname</th>\n",
       "      <td>Alhenawy</td>\n",
       "      <td>Alma'aitah</td>\n",
       "    </tr>\n",
       "    <tr>\n",
       "      <th>Email</th>\n",
       "      <td>a.hennawy@hotmail.com</td>\n",
       "      <td>aalmaait@uwo.ca</td>\n",
       "    </tr>\n",
       "    <tr>\n",
       "      <th>Company</th>\n",
       "      <td>Ain Shams University</td>\n",
       "      <td>University Of Western Ontario</td>\n",
       "    </tr>\n",
       "    <tr>\n",
       "      <th>nanoHUB_source__c</th>\n",
       "      <td>&lt;p&gt;&lt;span style=\"color: #ff0000;\"&gt;&lt;strong&gt;[Auto...</td>\n",
       "      <td>&lt;p&gt;&lt;span style=\"color: #ff0000;\"&gt;&lt;strong&gt;[Auto...</td>\n",
       "    </tr>\n",
       "  </tbody>\n",
       "</table>\n",
       "</div>"
      ],
      "text/plain": [
       "                                                                      1  \\\n",
       "nanoHUB_source_ID__c                           lead_citation#A_Alhenawy   \n",
       "firstname                                                             A   \n",
       "lastname                                                       Alhenawy   \n",
       "Email                                             a.hennawy@hotmail.com   \n",
       "Company                                            Ain Shams University   \n",
       "nanoHUB_source__c     <p><span style=\"color: #ff0000;\"><strong>[Auto...   \n",
       "\n",
       "                                                                      2  \n",
       "nanoHUB_source_ID__c                         lead_citation#A_Alma'aitah  \n",
       "firstname                                                             A  \n",
       "lastname                                                     Alma'aitah  \n",
       "Email                                                   aalmaait@uwo.ca  \n",
       "Company                                   University Of Western Ontario  \n",
       "nanoHUB_source__c     <p><span style=\"color: #ff0000;\"><strong>[Auto...  "
      ]
     },
     "execution_count": 8,
     "metadata": {},
     "output_type": "execute_result"
    }
   ],
   "source": [
    "df_sf = pd.DataFrame()\n",
    "\n",
    "# create a new column for object name\n",
    "df_sf['nanoHUB_source_ID__c'] = lead_df.apply(lambda x: 'lead_citation#%s'%('_'.join(x.author.split(' '))), axis=1)\n",
    "df_sf[['firstname', 'lastname']] = lead_df['author'].apply(split_full_name)\n",
    "df_sf['Email'] = lead_df['email']\n",
    "df_sf['Company'] = lead_df['org']\n",
    "df_sf['nanoHUB_source__c'] = lead_df['source']\n",
    "\n",
    "# Company cannot be empty\n",
    "df_sf['Company'] = df_sf['Company'].fillna('-')\n",
    "df_sf['Company'] = df_sf['Company'].apply(lambda x: x if len(x.strip())>0 else '-')\n",
    "\n",
    "sf_original_fields = df_sf.columns\n",
    "\n",
    "# display\n",
    "df_sf.head(2).T"
   ]
  },
  {
   "cell_type": "markdown",
   "id": "6c56beee",
   "metadata": {
    "papermill": {
     "duration": 0.060571,
     "end_time": "2021-10-25T11:05:52.913256",
     "exception": false,
     "start_time": "2021-10-25T11:05:52.852685",
     "status": "completed"
    },
    "tags": []
   },
   "source": [
    "## To Salesforce Sales Cloud CRM"
   ]
  },
  {
   "cell_type": "code",
   "execution_count": 9,
   "id": "9fc57c44",
   "metadata": {
    "execution": {
     "iopub.execute_input": "2021-10-25T11:05:53.038960Z",
     "iopub.status.busy": "2021-10-25T11:05:53.038086Z",
     "iopub.status.idle": "2021-10-25T11:05:53.040680Z",
     "shell.execute_reply": "2021-10-25T11:05:53.041310Z"
    },
    "jupyter": {
     "source_hidden": true
    },
    "papermill": {
     "duration": 0.067885,
     "end_time": "2021-10-25T11:05:53.041804",
     "exception": false,
     "start_time": "2021-10-25T11:05:52.973919",
     "status": "completed"
    },
    "tags": []
   },
   "outputs": [],
   "source": [
    "# create DB2 to Salesforce API object\n",
    "\n",
    "# specify Salesforce object ID and external ID\n",
    "db_s.object_id = object_id \n",
    "db_s.external_id = external_id"
   ]
  },
  {
   "cell_type": "code",
   "execution_count": 10,
   "id": "2297d043",
   "metadata": {
    "execution": {
     "iopub.execute_input": "2021-10-25T11:05:53.176300Z",
     "iopub.status.busy": "2021-10-25T11:05:53.175314Z",
     "iopub.status.idle": "2021-10-25T11:05:58.620282Z",
     "shell.execute_reply": "2021-10-25T11:05:58.621076Z"
    },
    "jupyter": {
     "source_hidden": true
    },
    "papermill": {
     "duration": 5.511772,
     "end_time": "2021-10-25T11:05:58.621344",
     "exception": false,
     "start_time": "2021-10-25T11:05:53.109572",
     "status": "completed"
    },
    "tags": []
   },
   "outputs": [
    {
     "name": "stdout",
     "output_type": "stream",
     "text": [
      "[Success] Bulk job creation successful. Job ID = 7505w00000b2CzcAAE\n",
      "hello\n"
     ]
    },
    {
     "name": "stdout",
     "output_type": "stream",
     "text": [
      "[Success] CSV upload successful. Job ID = 7505w00000b2CzcAAE\n"
     ]
    },
    {
     "name": "stdout",
     "output_type": "stream",
     "text": [
      "[Success] Closing job successful. Job ID = 7505w00000b2CzcAAE\n"
     ]
    }
   ],
   "source": [
    "# send data to Salesforce\n",
    "db_s.send_data(df_sf)"
   ]
  },
  {
   "cell_type": "code",
   "execution_count": 11,
   "id": "eca5495b",
   "metadata": {
    "execution": {
     "iopub.execute_input": "2021-10-25T11:05:58.757094Z",
     "iopub.status.busy": "2021-10-25T11:05:58.756200Z",
     "iopub.status.idle": "2021-10-25T11:05:59.116387Z",
     "shell.execute_reply": "2021-10-25T11:05:59.117088Z"
    },
    "jupyter": {
     "source_hidden": true
    },
    "papermill": {
     "duration": 0.433335,
     "end_time": "2021-10-25T11:05:59.117361",
     "exception": false,
     "start_time": "2021-10-25T11:05:58.684026",
     "status": "completed"
    },
    "tags": []
   },
   "outputs": [
    {
     "name": "stdout",
     "output_type": "stream",
     "text": [
      "{'apexProcessingTime': 0,\n",
      " 'apiActiveProcessingTime': 0,\n",
      " 'apiVersion': 47.0,\n",
      " 'columnDelimiter': 'COMMA',\n",
      " 'concurrencyMode': 'Parallel',\n",
      " 'contentType': 'CSV',\n",
      " 'createdById': '0055w00000DM5bOAAT',\n",
      " 'createdDate': '2021-10-25T11:05:53.000+0000',\n",
      " 'externalIdFieldName': 'nanoHUB_source_ID__c',\n",
      " 'id': '7505w00000b2CzcAAE',\n",
      " 'jobType': 'V2Ingest',\n",
      " 'lineEnding': 'LF',\n",
      " 'numberRecordsFailed': 0,\n",
      " 'numberRecordsProcessed': 0,\n",
      " 'object': 'Lead',\n",
      " 'operation': 'upsert',\n",
      " 'retries': 0,\n",
      " 'state': 'InProgress',\n",
      " 'systemModstamp': '2021-10-25T11:05:58.000+0000',\n",
      " 'totalProcessingTime': 0}\n"
     ]
    }
   ],
   "source": [
    "# check status\n",
    "from pprint import pprint\n",
    "\n",
    "pprint(db_s.check_bulk_status())"
   ]
  },
  {
   "cell_type": "code",
   "execution_count": 12,
   "id": "b013e1b4",
   "metadata": {
    "execution": {
     "iopub.execute_input": "2021-10-25T11:05:59.258273Z",
     "iopub.status.busy": "2021-10-25T11:05:59.257381Z",
     "iopub.status.idle": "2021-10-25T11:05:59.456984Z",
     "shell.execute_reply": "2021-10-25T11:05:59.457775Z"
    },
    "jupyter": {
     "source_hidden": true
    },
    "papermill": {
     "duration": 0.273758,
     "end_time": "2021-10-25T11:05:59.458345",
     "exception": false,
     "start_time": "2021-10-25T11:05:59.184587",
     "status": "completed"
    },
    "tags": []
   },
   "outputs": [
    {
     "name": "stdout",
     "output_type": "stream",
     "text": [
      "''\n"
     ]
    }
   ],
   "source": [
    "pprint(db_s.check_bulk_failed_results())"
   ]
  },
  {
   "cell_type": "code",
   "execution_count": null,
   "id": "1193f6ad",
   "metadata": {
    "jupyter": {
     "source_hidden": true
    },
    "papermill": {
     "duration": 0.065004,
     "end_time": "2021-10-25T11:05:59.588774",
     "exception": false,
     "start_time": "2021-10-25T11:05:59.523770",
     "status": "completed"
    },
    "tags": []
   },
   "outputs": [],
   "source": []
  },
  {
   "cell_type": "code",
   "execution_count": null,
   "id": "2878b5d6",
   "metadata": {
    "jupyter": {
     "source_hidden": true
    },
    "papermill": {
     "duration": 0.065628,
     "end_time": "2021-10-25T11:05:59.720709",
     "exception": false,
     "start_time": "2021-10-25T11:05:59.655081",
     "status": "completed"
    },
    "tags": []
   },
   "outputs": [],
   "source": []
  }
 ],
 "metadata": {
  "celltoolbar": "Tags",
  "kernelspec": {
   "display_name": "Python 3",
   "language": "python",
   "name": "python3"
  },
  "language_info": {
   "codemirror_mode": {
    "name": "ipython",
    "version": 3
   },
   "file_extension": ".py",
   "mimetype": "text/x-python",
   "name": "python",
   "nbconvert_exporter": "python",
   "pygments_lexer": "ipython3",
   "version": "3.9.7"
  },
  "papermill": {
   "duration": 35.673238,
   "end_time": "2021-10-25T11:06:00.211742",
   "environment_variables": {},
   "exception": null,
   "input_path": "/Users/saxenap/Documents/Dev/nanoHUB/nanoHUB/pipeline/salesforce/task_citations_map_leads.ipynb",
   "output_path": "./.output/task_citations_map_leads.ipynb",
   "parameters": {},
   "start_time": "2021-10-25T11:05:24.538504",
   "version": "2.1.1"
  }
 },
 "nbformat": 4,
 "nbformat_minor": 5
}