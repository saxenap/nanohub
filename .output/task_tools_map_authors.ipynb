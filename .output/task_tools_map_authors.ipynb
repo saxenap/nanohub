{
 "cells": [
  {
   "cell_type": "markdown",
   "id": "adb851b7",
   "metadata": {
    "papermill": {
     "duration": 0.081371,
     "end_time": "2021-08-26T04:19:38.935073",
     "exception": false,
     "start_time": "2021-08-26T04:19:38.853702",
     "status": "completed"
    },
    "tags": []
   },
   "source": [
    "# DB2-Salesforce connector: Tools mapping to authors"
   ]
  },
  {
   "cell_type": "code",
   "execution_count": 1,
   "id": "fff28f68",
   "metadata": {
    "execution": {
     "iopub.execute_input": "2021-08-26T04:19:39.150298Z",
     "iopub.status.busy": "2021-08-26T04:19:39.148091Z",
     "iopub.status.idle": "2021-08-26T04:19:42.745383Z",
     "shell.execute_reply": "2021-08-26T04:19:42.746155Z"
    },
    "jupyter": {
     "source_hidden": true
    },
    "papermill": {
     "duration": 3.724619,
     "end_time": "2021-08-26T04:19:42.746550",
     "exception": false,
     "start_time": "2021-08-26T04:19:39.021931",
     "status": "completed"
    },
    "tags": [
     "parameters"
    ]
   },
   "outputs": [
    {
     "name": "stdout",
     "output_type": "stream",
     "text": [
      "\u001b[1mnanoHUB - Serving Students, Researchers & Instructors\u001b[0m\n"
     ]
    },
    {
     "name": "stderr",
     "output_type": "stream",
     "text": [
      "2021-08-26 00:19:42,024| INFO    | 0 keys loaded from agent\n"
     ]
    },
    {
     "name": "stdout",
     "output_type": "stream",
     "text": [
      "2021-08-26 00:19:42,024 - [INFO] sshtunnel.SSHTunnelForwarder [sshtunnel.get_agent_keys:1060]: 0 keys loaded from agent\n"
     ]
    },
    {
     "name": "stderr",
     "output_type": "stream",
     "text": [
      "2021-08-26 00:19:42,033| INFO    | 0 key(s) loaded\n"
     ]
    },
    {
     "name": "stdout",
     "output_type": "stream",
     "text": [
      "2021-08-26 00:19:42,033 - [INFO] sshtunnel.SSHTunnelForwarder [sshtunnel.get_keys:1117]: 0 key(s) loaded\n"
     ]
    },
    {
     "name": "stderr",
     "output_type": "stream",
     "text": [
      "2021-08-26 00:19:42,043| INFO    | Connecting to gateway: db2.nanohub.org:22 as user 'saxenap'\n"
     ]
    },
    {
     "name": "stdout",
     "output_type": "stream",
     "text": [
      "2021-08-26 00:19:42,043 - [INFO] sshtunnel.SSHTunnelForwarder [sshtunnel.__init__:978]: Connecting to gateway: db2.nanohub.org:22 as user 'saxenap'\n"
     ]
    },
    {
     "name": "stdout",
     "output_type": "stream",
     "text": [
      "2021-08-26 00:19:42,050 - [\u001b[1mINFO\u001b[0m] \u001b[1mnanoHUB.containers.dataaccess\u001b[0m [connection.get_connection_for:101]: Started SSH Tunnel with db2.nanohub.org\n"
     ]
    },
    {
     "name": "stderr",
     "output_type": "stream",
     "text": [
      "2021-08-26 00:19:42,372| INFO    | Opening tunnel: 0.0.0.0:53375 <> 127.0.0.1:3306\n"
     ]
    },
    {
     "name": "stdout",
     "output_type": "stream",
     "text": [
      "2021-08-26 00:19:42,372 - [INFO] sshtunnel.SSHTunnelForwarder [sshtunnel._serve_forever_wrapper:1433]: Opening tunnel: 0.0.0.0:53375 <> 127.0.0.1:3306\n"
     ]
    },
    {
     "name": "stdout",
     "output_type": "stream",
     "text": [
      "Obtained Salesforce access token ...... True\n"
     ]
    }
   ],
   "source": [
    "# API settings\n",
    "api_url = '/services/data/v43.0/sobjects'\n",
    "external_id = 'Name'\n",
    "object_id = 'AuthorToolAssociation__c'\n",
    "\n",
    "from nanoHUB.application import Application\n",
    "\n",
    "application = Application.get_instance()\n",
    "nanohub_db = application.new_db_engine('nanohub')\n",
    "\n",
    "\n",
    "salesforce = application.new_salesforce_engine()\n",
    "db_s = salesforce"
   ]
  },
  {
   "cell_type": "code",
   "execution_count": 2,
   "id": "5167dc44",
   "metadata": {
    "execution": {
     "iopub.execute_input": "2021-08-26T04:19:42.948226Z",
     "iopub.status.busy": "2021-08-26T04:19:42.946820Z",
     "iopub.status.idle": "2021-08-26T04:19:42.949450Z",
     "shell.execute_reply": "2021-08-26T04:19:42.950155Z"
    },
    "jupyter": {
     "source_hidden": true
    },
    "papermill": {
     "duration": 0.096751,
     "end_time": "2021-08-26T04:19:42.950461",
     "exception": false,
     "start_time": "2021-08-26T04:19:42.853710",
     "status": "completed"
    },
    "tags": []
   },
   "outputs": [],
   "source": [
    "import pandas as pd\n",
    "import time\n",
    "import datetime\n"
   ]
  },
  {
   "cell_type": "markdown",
   "id": "e3ae147f",
   "metadata": {
    "papermill": {
     "duration": 0.080719,
     "end_time": "2021-08-26T04:19:43.095378",
     "exception": false,
     "start_time": "2021-08-26T04:19:43.014659",
     "status": "completed"
    },
    "tags": []
   },
   "source": [
    "## Obtain tool information from DB2 "
   ]
  },
  {
   "cell_type": "code",
   "execution_count": 3,
   "id": "be31dd5e",
   "metadata": {
    "execution": {
     "iopub.execute_input": "2021-08-26T04:19:43.298996Z",
     "iopub.status.busy": "2021-08-26T04:19:43.295758Z",
     "iopub.status.idle": "2021-08-26T04:19:44.662722Z",
     "shell.execute_reply": "2021-08-26T04:19:44.663226Z"
    },
    "jupyter": {
     "source_hidden": true
    },
    "papermill": {
     "duration": 1.46203,
     "end_time": "2021-08-26T04:19:44.663488",
     "exception": false,
     "start_time": "2021-08-26T04:19:43.201458",
     "status": "completed"
    },
    "tags": []
   },
   "outputs": [
    {
     "data": {
      "text/html": [
       "<div>\n",
       "<style scoped>\n",
       "    .dataframe tbody tr th:only-of-type {\n",
       "        vertical-align: middle;\n",
       "    }\n",
       "\n",
       "    .dataframe tbody tr th {\n",
       "        vertical-align: top;\n",
       "    }\n",
       "\n",
       "    .dataframe thead th {\n",
       "        text-align: right;\n",
       "    }\n",
       "</style>\n",
       "<table border=\"1\" class=\"dataframe\">\n",
       "  <thead>\n",
       "    <tr style=\"text-align: right;\">\n",
       "      <th></th>\n",
       "      <th>toolname</th>\n",
       "      <th>revision</th>\n",
       "      <th>uid</th>\n",
       "      <th>ordering</th>\n",
       "      <th>version_id</th>\n",
       "      <th>name</th>\n",
       "      <th>organization</th>\n",
       "    </tr>\n",
       "  </thead>\n",
       "  <tbody>\n",
       "    <tr>\n",
       "      <th>0</th>\n",
       "      <td>adept</td>\n",
       "      <td>16</td>\n",
       "      <td>4645</td>\n",
       "      <td>1</td>\n",
       "      <td>2</td>\n",
       "      <td>None</td>\n",
       "      <td>None</td>\n",
       "    </tr>\n",
       "    <tr>\n",
       "      <th>1</th>\n",
       "      <td>adept</td>\n",
       "      <td>16</td>\n",
       "      <td>3013</td>\n",
       "      <td>2</td>\n",
       "      <td>2</td>\n",
       "      <td>None</td>\n",
       "      <td>None</td>\n",
       "    </tr>\n",
       "  </tbody>\n",
       "</table>\n",
       "</div>"
      ],
      "text/plain": [
       "  toolname  revision   uid  ordering  version_id  name organization\n",
       "0    adept        16  4645         1           2  None         None\n",
       "1    adept        16  3013         2           2  None         None"
      ]
     },
     "execution_count": 3,
     "metadata": {},
     "output_type": "execute_result"
    }
   ],
   "source": [
    "# connect with DB2\n",
    "\n",
    "# tool_authors\n",
    "sql_query = \"select * from jos_tool_authors\"\n",
    "\n",
    "toolauthors_df = pd.read_sql_query(sql_query, nanohub_db)\n",
    "\n",
    "# display\n",
    "toolauthors_df.head(2)"
   ]
  },
  {
   "cell_type": "code",
   "execution_count": 4,
   "id": "6d885750",
   "metadata": {
    "execution": {
     "iopub.execute_input": "2021-08-26T04:19:44.801021Z",
     "iopub.status.busy": "2021-08-26T04:19:44.799607Z",
     "iopub.status.idle": "2021-08-26T04:19:44.805610Z",
     "shell.execute_reply": "2021-08-26T04:19:44.806171Z"
    },
    "jupyter": {
     "source_hidden": true
    },
    "papermill": {
     "duration": 0.073507,
     "end_time": "2021-08-26T04:19:44.806359",
     "exception": false,
     "start_time": "2021-08-26T04:19:44.732852",
     "status": "completed"
    },
    "tags": []
   },
   "outputs": [],
   "source": [
    "ta_df = toolauthors_df[['toolname', 'uid']].drop_duplicates()"
   ]
  },
  {
   "cell_type": "markdown",
   "id": "62053086",
   "metadata": {
    "papermill": {
     "duration": 0.058627,
     "end_time": "2021-08-26T04:19:44.927377",
     "exception": false,
     "start_time": "2021-08-26T04:19:44.868750",
     "status": "completed"
    },
    "tags": []
   },
   "source": [
    "## Obtain Salesforce IDs"
   ]
  },
  {
   "cell_type": "code",
   "execution_count": 5,
   "id": "f19aeb1c",
   "metadata": {
    "execution": {
     "iopub.execute_input": "2021-08-26T04:19:45.056389Z",
     "iopub.status.busy": "2021-08-26T04:19:45.055170Z",
     "iopub.status.idle": "2021-08-26T04:19:45.058228Z",
     "shell.execute_reply": "2021-08-26T04:19:45.058883Z"
    },
    "jupyter": {
     "source_hidden": true
    },
    "papermill": {
     "duration": 0.069438,
     "end_time": "2021-08-26T04:19:45.059077",
     "exception": false,
     "start_time": "2021-08-26T04:19:44.989639",
     "status": "completed"
    },
    "tags": []
   },
   "outputs": [],
   "source": [
    "# create DB2 to Salesforce API object"
   ]
  },
  {
   "cell_type": "code",
   "execution_count": 6,
   "id": "25911211",
   "metadata": {
    "execution": {
     "iopub.execute_input": "2021-08-26T04:19:45.200710Z",
     "iopub.status.busy": "2021-08-26T04:19:45.199368Z",
     "iopub.status.idle": "2021-08-26T04:20:20.146003Z",
     "shell.execute_reply": "2021-08-26T04:20:20.147166Z"
    },
    "jupyter": {
     "source_hidden": true
    },
    "papermill": {
     "duration": 35.019384,
     "end_time": "2021-08-26T04:20:20.147494",
     "exception": false,
     "start_time": "2021-08-26T04:19:45.128110",
     "status": "completed"
    },
    "tags": []
   },
   "outputs": [
    {
     "name": "stdout",
     "output_type": "stream",
     "text": [
      "[Success] Bulk job creation successful. Job ID = 7505w00000ZJKy9AAH\n"
     ]
    },
    {
     "name": "stdout",
     "output_type": "stream",
     "text": [
      "{\"id\":\"7505w00000ZJKy9AAH\",\"operation\":\"query\",\"object\":\"Contact\",\"createdById\":\"0055w00000DM5bOAAT\",\"createdDate\":\"2021-08-26T04:19:45.000+0000\",\"systemModstamp\":\"2021-08-26T04:19:45.000+0000\",\"state\":\"UploadComplete\",\"concurrencyMode\":\"Parallel\",\"contentType\":\"CSV\",\"apiVersion\":47.0,\"jobType\":\"V2Query\",\"lineEnding\":\"LF\",\"columnDelimiter\":\"COMMA\",\"retries\":0,\"totalProcessingTime\":0}\n"
     ]
    },
    {
     "name": "stdout",
     "output_type": "stream",
     "text": [
      "{\"id\":\"7505w00000ZJKy9AAH\",\"operation\":\"query\",\"object\":\"Contact\",\"createdById\":\"0055w00000DM5bOAAT\",\"createdDate\":\"2021-08-26T04:19:45.000+0000\",\"systemModstamp\":\"2021-08-26T04:19:45.000+0000\",\"state\":\"UploadComplete\",\"concurrencyMode\":\"Parallel\",\"contentType\":\"CSV\",\"apiVersion\":47.0,\"jobType\":\"V2Query\",\"lineEnding\":\"LF\",\"columnDelimiter\":\"COMMA\",\"retries\":0,\"totalProcessingTime\":0}\n"
     ]
    },
    {
     "name": "stdout",
     "output_type": "stream",
     "text": [
      "{\"id\":\"7505w00000ZJKy9AAH\",\"operation\":\"query\",\"object\":\"Contact\",\"createdById\":\"0055w00000DM5bOAAT\",\"createdDate\":\"2021-08-26T04:19:45.000+0000\",\"systemModstamp\":\"2021-08-26T04:19:59.000+0000\",\"state\":\"InProgress\",\"concurrencyMode\":\"Parallel\",\"contentType\":\"CSV\",\"apiVersion\":47.0,\"jobType\":\"V2Query\",\"lineEnding\":\"LF\",\"columnDelimiter\":\"COMMA\",\"numberRecordsProcessed\":1303,\"retries\":0,\"totalProcessingTime\":229}\n"
     ]
    },
    {
     "name": "stdout",
     "output_type": "stream",
     "text": [
      "{\"id\":\"7505w00000ZJKy9AAH\",\"operation\":\"query\",\"object\":\"Contact\",\"createdById\":\"0055w00000DM5bOAAT\",\"createdDate\":\"2021-08-26T04:19:45.000+0000\",\"systemModstamp\":\"2021-08-26T04:20:13.000+0000\",\"state\":\"JobComplete\",\"concurrencyMode\":\"Parallel\",\"contentType\":\"CSV\",\"apiVersion\":47.0,\"jobType\":\"V2Query\",\"lineEnding\":\"LF\",\"columnDelimiter\":\"COMMA\",\"numberRecordsProcessed\":253556,\"retries\":0,\"totalProcessingTime\":10532}\n",
      "[Success] Bulk job completed successfully.\n"
     ]
    },
    {
     "data": {
      "text/html": [
       "<div>\n",
       "<style scoped>\n",
       "    .dataframe tbody tr th:only-of-type {\n",
       "        vertical-align: middle;\n",
       "    }\n",
       "\n",
       "    .dataframe tbody tr th {\n",
       "        vertical-align: top;\n",
       "    }\n",
       "\n",
       "    .dataframe thead th {\n",
       "        text-align: right;\n",
       "    }\n",
       "</style>\n",
       "<table border=\"1\" class=\"dataframe\">\n",
       "  <thead>\n",
       "    <tr style=\"text-align: right;\">\n",
       "      <th></th>\n",
       "      <th>Id</th>\n",
       "      <th>nanoHUB_user_ID__c</th>\n",
       "    </tr>\n",
       "  </thead>\n",
       "  <tbody>\n",
       "    <tr>\n",
       "      <th>0</th>\n",
       "      <td>0035w000031Vsp1AAC</td>\n",
       "      <td>998</td>\n",
       "    </tr>\n",
       "    <tr>\n",
       "      <th>1</th>\n",
       "      <td>0035w000031Vsp2AAC</td>\n",
       "      <td>1683</td>\n",
       "    </tr>\n",
       "    <tr>\n",
       "      <th>2</th>\n",
       "      <td>0035w000031Vsp3AAC</td>\n",
       "      <td>1684</td>\n",
       "    </tr>\n",
       "  </tbody>\n",
       "</table>\n",
       "</div>"
      ],
      "text/plain": [
       "                   Id  nanoHUB_user_ID__c\n",
       "0  0035w000031Vsp1AAC                 998\n",
       "1  0035w000031Vsp2AAC                1683\n",
       "2  0035w000031Vsp3AAC                1684"
      ]
     },
     "execution_count": 6,
     "metadata": {},
     "output_type": "execute_result"
    }
   ],
   "source": [
    "# query the Salesforce IDs for contacts and citations. when updating junction objects, these IDs must be used\n",
    "\n",
    "# get Salesforce ID for contacts\n",
    "sf_user_ID_df = db_s.query_data('SELECT Id, nanoHUB_user_ID__c FROM Contact where nanoHUB_user_ID__c != NULL')\n",
    "\n",
    "sf_user_ID_df['nanoHUB_user_ID__c'] = sf_user_ID_df['nanoHUB_user_ID__c'].astype('int')\n",
    "\n",
    "# display\n",
    "sf_user_ID_df.head(3)"
   ]
  },
  {
   "cell_type": "code",
   "execution_count": 7,
   "id": "f44debd0",
   "metadata": {
    "execution": {
     "iopub.execute_input": "2021-08-26T04:20:20.305483Z",
     "iopub.status.busy": "2021-08-26T04:20:20.304176Z",
     "iopub.status.idle": "2021-08-26T04:20:32.557704Z",
     "shell.execute_reply": "2021-08-26T04:20:32.558504Z"
    },
    "jupyter": {
     "source_hidden": true
    },
    "papermill": {
     "duration": 12.336685,
     "end_time": "2021-08-26T04:20:32.558736",
     "exception": false,
     "start_time": "2021-08-26T04:20:20.222051",
     "status": "completed"
    },
    "tags": []
   },
   "outputs": [
    {
     "name": "stdout",
     "output_type": "stream",
     "text": [
      "[Success] Bulk job creation successful. Job ID = 7505w00000ZJKyTAAX\n"
     ]
    },
    {
     "name": "stdout",
     "output_type": "stream",
     "text": [
      "{\"id\":\"7505w00000ZJKyTAAX\",\"operation\":\"query\",\"object\":\"nanoHUB_tools__c\",\"createdById\":\"0055w00000DM5bOAAT\",\"createdDate\":\"2021-08-26T04:20:20.000+0000\",\"systemModstamp\":\"2021-08-26T04:20:20.000+0000\",\"state\":\"UploadComplete\",\"concurrencyMode\":\"Parallel\",\"contentType\":\"CSV\",\"apiVersion\":47.0,\"jobType\":\"V2Query\",\"lineEnding\":\"LF\",\"columnDelimiter\":\"COMMA\",\"retries\":0,\"totalProcessingTime\":0}\n"
     ]
    },
    {
     "name": "stdout",
     "output_type": "stream",
     "text": [
      "{\"id\":\"7505w00000ZJKyTAAX\",\"operation\":\"query\",\"object\":\"nanoHUB_tools__c\",\"createdById\":\"0055w00000DM5bOAAT\",\"createdDate\":\"2021-08-26T04:20:20.000+0000\",\"systemModstamp\":\"2021-08-26T04:20:23.000+0000\",\"state\":\"JobComplete\",\"concurrencyMode\":\"Parallel\",\"contentType\":\"CSV\",\"apiVersion\":47.0,\"jobType\":\"V2Query\",\"lineEnding\":\"LF\",\"columnDelimiter\":\"COMMA\",\"numberRecordsProcessed\":1805,\"retries\":0,\"totalProcessingTime\":237}\n",
      "[Success] Bulk job completed successfully.\n"
     ]
    },
    {
     "data": {
      "text/html": [
       "<div>\n",
       "<style scoped>\n",
       "    .dataframe tbody tr th:only-of-type {\n",
       "        vertical-align: middle;\n",
       "    }\n",
       "\n",
       "    .dataframe tbody tr th {\n",
       "        vertical-align: top;\n",
       "    }\n",
       "\n",
       "    .dataframe thead th {\n",
       "        text-align: right;\n",
       "    }\n",
       "</style>\n",
       "<table border=\"1\" class=\"dataframe\">\n",
       "  <thead>\n",
       "    <tr style=\"text-align: right;\">\n",
       "      <th></th>\n",
       "      <th>Id</th>\n",
       "      <th>Tool_name__c</th>\n",
       "    </tr>\n",
       "  </thead>\n",
       "  <tbody>\n",
       "    <tr>\n",
       "      <th>0</th>\n",
       "      <td>a0s5w00000k5MOwAAM</td>\n",
       "      <td>ellipsom</td>\n",
       "    </tr>\n",
       "    <tr>\n",
       "      <th>1</th>\n",
       "      <td>a0s5w00000k5MOxAAM</td>\n",
       "      <td>hydrolab</td>\n",
       "    </tr>\n",
       "    <tr>\n",
       "      <th>2</th>\n",
       "      <td>a0s5w00000k5MOyAAM</td>\n",
       "      <td>huckel</td>\n",
       "    </tr>\n",
       "  </tbody>\n",
       "</table>\n",
       "</div>"
      ],
      "text/plain": [
       "                   Id Tool_name__c\n",
       "0  a0s5w00000k5MOwAAM     ellipsom\n",
       "1  a0s5w00000k5MOxAAM     hydrolab\n",
       "2  a0s5w00000k5MOyAAM       huckel"
      ]
     },
     "execution_count": 7,
     "metadata": {},
     "output_type": "execute_result"
    }
   ],
   "source": [
    "# get Salesforce ID for citations\n",
    "sf_tool_df = db_s.query_data('SELECT Id, Tool_name__c FROM nanoHUB_tools__c')\n",
    "\n",
    "# display\n",
    "sf_tool_df.head(3)"
   ]
  },
  {
   "cell_type": "markdown",
   "id": "69bdb266",
   "metadata": {
    "papermill": {
     "duration": 0.094108,
     "end_time": "2021-08-26T04:20:32.721964",
     "exception": false,
     "start_time": "2021-08-26T04:20:32.627856",
     "status": "completed"
    },
    "tags": []
   },
   "source": [
    "## Match data with Salesforce format"
   ]
  },
  {
   "cell_type": "code",
   "execution_count": 8,
   "id": "02ee60b4",
   "metadata": {
    "execution": {
     "iopub.execute_input": "2021-08-26T04:20:32.911040Z",
     "iopub.status.busy": "2021-08-26T04:20:32.909995Z",
     "iopub.status.idle": "2021-08-26T04:20:32.913135Z",
     "shell.execute_reply": "2021-08-26T04:20:32.913880Z"
    },
    "jupyter": {
     "source_hidden": true
    },
    "papermill": {
     "duration": 0.09622,
     "end_time": "2021-08-26T04:20:32.914285",
     "exception": false,
     "start_time": "2021-08-26T04:20:32.818065",
     "status": "completed"
    },
    "tags": []
   },
   "outputs": [],
   "source": [
    "# make sure all strings are lower cases\n",
    "sf_tool_df['Tool_name__c'] = sf_tool_df['Tool_name__c'].astype('str').apply(str.lower)"
   ]
  },
  {
   "cell_type": "code",
   "execution_count": 9,
   "id": "a2c382d1",
   "metadata": {
    "execution": {
     "iopub.execute_input": "2021-08-26T04:20:33.090553Z",
     "iopub.status.busy": "2021-08-26T04:20:33.088935Z",
     "iopub.status.idle": "2021-08-26T04:20:33.142693Z",
     "shell.execute_reply": "2021-08-26T04:20:33.143815Z"
    },
    "jupyter": {
     "source_hidden": true
    },
    "papermill": {
     "duration": 0.144879,
     "end_time": "2021-08-26T04:20:33.144366",
     "exception": false,
     "start_time": "2021-08-26T04:20:32.999487",
     "status": "completed"
    },
    "tags": []
   },
   "outputs": [
    {
     "data": {
      "text/html": [
       "<div>\n",
       "<style scoped>\n",
       "    .dataframe tbody tr th:only-of-type {\n",
       "        vertical-align: middle;\n",
       "    }\n",
       "\n",
       "    .dataframe tbody tr th {\n",
       "        vertical-align: top;\n",
       "    }\n",
       "\n",
       "    .dataframe thead th {\n",
       "        text-align: right;\n",
       "    }\n",
       "</style>\n",
       "<table border=\"1\" class=\"dataframe\">\n",
       "  <thead>\n",
       "    <tr style=\"text-align: right;\">\n",
       "      <th></th>\n",
       "      <th>toolname</th>\n",
       "      <th>uid</th>\n",
       "      <th>SF_ID_tool</th>\n",
       "      <th>Tool_name__c</th>\n",
       "      <th>SF_ID_contact</th>\n",
       "      <th>nanoHUB_user_ID__c</th>\n",
       "    </tr>\n",
       "  </thead>\n",
       "  <tbody>\n",
       "    <tr>\n",
       "      <th>0</th>\n",
       "      <td>adept</td>\n",
       "      <td>4645</td>\n",
       "      <td>a0s5w00000k5MP7AAM</td>\n",
       "      <td>adept</td>\n",
       "      <td>0035w000034JHCCAA4</td>\n",
       "      <td>4645</td>\n",
       "    </tr>\n",
       "    <tr>\n",
       "      <th>1</th>\n",
       "      <td>adeptnpt</td>\n",
       "      <td>4645</td>\n",
       "      <td>a0s5w00000k5MWdAAM</td>\n",
       "      <td>adeptnpt</td>\n",
       "      <td>0035w000034JHCCAA4</td>\n",
       "      <td>4645</td>\n",
       "    </tr>\n",
       "  </tbody>\n",
       "</table>\n",
       "</div>"
      ],
      "text/plain": [
       "   toolname   uid          SF_ID_tool Tool_name__c       SF_ID_contact  \\\n",
       "0     adept  4645  a0s5w00000k5MP7AAM        adept  0035w000034JHCCAA4   \n",
       "1  adeptnpt  4645  a0s5w00000k5MWdAAM     adeptnpt  0035w000034JHCCAA4   \n",
       "\n",
       "   nanoHUB_user_ID__c  \n",
       "0                4645  \n",
       "1                4645  "
      ]
     },
     "execution_count": 9,
     "metadata": {},
     "output_type": "execute_result"
    }
   ],
   "source": [
    "# merge SF citation and contact IDs into user-citation DF\n",
    "ct_tolink_df = pd.merge(ta_df, sf_tool_df, how='inner', left_on='toolname', right_on='Tool_name__c')\\\n",
    "                           .rename(columns={'Id':'SF_ID_tool'})\n",
    "                                            \n",
    "ct_tolink_df = pd.merge(ct_tolink_df, sf_user_ID_df, how='inner', left_on='uid', right_on='nanoHUB_user_ID__c')\\\n",
    "                           .rename(columns={'Id':'SF_ID_contact'})\n",
    "\n",
    "# display\n",
    "ct_tolink_df.head(2)"
   ]
  },
  {
   "cell_type": "code",
   "execution_count": 10,
   "id": "dc9e3fb7",
   "metadata": {
    "execution": {
     "iopub.execute_input": "2021-08-26T04:20:33.364387Z",
     "iopub.status.busy": "2021-08-26T04:20:33.331255Z",
     "iopub.status.idle": "2021-08-26T04:20:33.368241Z",
     "shell.execute_reply": "2021-08-26T04:20:33.368762Z"
    },
    "jupyter": {
     "source_hidden": true
    },
    "papermill": {
     "duration": 0.132035,
     "end_time": "2021-08-26T04:20:33.368946",
     "exception": false,
     "start_time": "2021-08-26T04:20:33.236911",
     "status": "completed"
    },
    "tags": []
   },
   "outputs": [],
   "source": [
    "# create a new column for object name\n",
    "ct_tolink_df['Name'] = ct_tolink_df.apply(lambda x: '%s_%s'%(x.nanoHUB_user_ID__c, x.Tool_name__c), axis=1)"
   ]
  },
  {
   "cell_type": "code",
   "execution_count": 11,
   "id": "14806474",
   "metadata": {
    "execution": {
     "iopub.execute_input": "2021-08-26T04:20:33.549792Z",
     "iopub.status.busy": "2021-08-26T04:20:33.547542Z",
     "iopub.status.idle": "2021-08-26T04:20:33.555689Z",
     "shell.execute_reply": "2021-08-26T04:20:33.554802Z"
    },
    "jupyter": {
     "source_hidden": true
    },
    "papermill": {
     "duration": 0.107329,
     "end_time": "2021-08-26T04:20:33.556111",
     "exception": false,
     "start_time": "2021-08-26T04:20:33.448782",
     "status": "completed"
    },
    "tags": []
   },
   "outputs": [
    {
     "data": {
      "text/html": [
       "<div>\n",
       "<style scoped>\n",
       "    .dataframe tbody tr th:only-of-type {\n",
       "        vertical-align: middle;\n",
       "    }\n",
       "\n",
       "    .dataframe tbody tr th {\n",
       "        vertical-align: top;\n",
       "    }\n",
       "\n",
       "    .dataframe thead th {\n",
       "        text-align: right;\n",
       "    }\n",
       "</style>\n",
       "<table border=\"1\" class=\"dataframe\">\n",
       "  <thead>\n",
       "    <tr style=\"text-align: right;\">\n",
       "      <th></th>\n",
       "      <th>0</th>\n",
       "      <th>1</th>\n",
       "    </tr>\n",
       "  </thead>\n",
       "  <tbody>\n",
       "    <tr>\n",
       "      <th>Name</th>\n",
       "      <td>4645_adept</td>\n",
       "      <td>4645_adeptnpt</td>\n",
       "    </tr>\n",
       "    <tr>\n",
       "      <th>Contact__c</th>\n",
       "      <td>0035w000034JHCCAA4</td>\n",
       "      <td>0035w000034JHCCAA4</td>\n",
       "    </tr>\n",
       "    <tr>\n",
       "      <th>Tool__c</th>\n",
       "      <td>a0s5w00000k5MP7AAM</td>\n",
       "      <td>a0s5w00000k5MWdAAM</td>\n",
       "    </tr>\n",
       "  </tbody>\n",
       "</table>\n",
       "</div>"
      ],
      "text/plain": [
       "                             0                   1\n",
       "Name                4645_adept       4645_adeptnpt\n",
       "Contact__c  0035w000034JHCCAA4  0035w000034JHCCAA4\n",
       "Tool__c     a0s5w00000k5MP7AAM  a0s5w00000k5MWdAAM"
      ]
     },
     "execution_count": 11,
     "metadata": {},
     "output_type": "execute_result"
    }
   ],
   "source": [
    "df_sf = pd.DataFrame()\n",
    "\n",
    "# Make sure NaN and NaT values are taken care of here\n",
    "df_sf['Name']         = ct_tolink_df['Name']\n",
    "df_sf['Contact__c'] = ct_tolink_df['SF_ID_contact']\n",
    "df_sf['Tool__c']       = ct_tolink_df['SF_ID_tool']\n",
    "sf_original_fields = df_sf.columns\n",
    "\n",
    "# display\n",
    "df_sf.head(2).T"
   ]
  },
  {
   "cell_type": "markdown",
   "id": "ae299bcd",
   "metadata": {
    "papermill": {
     "duration": 0.076445,
     "end_time": "2021-08-26T04:20:33.718352",
     "exception": false,
     "start_time": "2021-08-26T04:20:33.641907",
     "status": "completed"
    },
    "tags": []
   },
   "source": [
    "## To Salesforce Sales Cloud CRM"
   ]
  },
  {
   "cell_type": "code",
   "execution_count": 12,
   "id": "bfc175bb",
   "metadata": {
    "execution": {
     "iopub.execute_input": "2021-08-26T04:20:33.908797Z",
     "iopub.status.busy": "2021-08-26T04:20:33.906960Z",
     "iopub.status.idle": "2021-08-26T04:20:33.909895Z",
     "shell.execute_reply": "2021-08-26T04:20:33.910562Z"
    },
    "jupyter": {
     "source_hidden": true
    },
    "papermill": {
     "duration": 0.108006,
     "end_time": "2021-08-26T04:20:33.910763",
     "exception": false,
     "start_time": "2021-08-26T04:20:33.802757",
     "status": "completed"
    },
    "tags": []
   },
   "outputs": [],
   "source": [
    "# create DB2 to Salesforce API object\n",
    "db_s = salesforce\n",
    "# specify Salesforce object ID and external ID\n",
    "db_s.object_id = object_id\n",
    "db_s.external_id = external_id"
   ]
  },
  {
   "cell_type": "code",
   "execution_count": 13,
   "id": "7f1aa88b",
   "metadata": {
    "execution": {
     "iopub.execute_input": "2021-08-26T04:20:34.085126Z",
     "iopub.status.busy": "2021-08-26T04:20:34.083962Z",
     "iopub.status.idle": "2021-08-26T04:20:35.832610Z",
     "shell.execute_reply": "2021-08-26T04:20:35.831701Z"
    },
    "jupyter": {
     "source_hidden": true
    },
    "papermill": {
     "duration": 1.827726,
     "end_time": "2021-08-26T04:20:35.832872",
     "exception": false,
     "start_time": "2021-08-26T04:20:34.005146",
     "status": "completed"
    },
    "tags": []
   },
   "outputs": [
    {
     "name": "stdout",
     "output_type": "stream",
     "text": [
      "[Success] Bulk job creation successful. Job ID = 7505w00000ZJKysAAH\n",
      "hello\n"
     ]
    },
    {
     "name": "stdout",
     "output_type": "stream",
     "text": [
      "[Success] CSV upload successful. Job ID = 7505w00000ZJKysAAH\n"
     ]
    },
    {
     "name": "stdout",
     "output_type": "stream",
     "text": [
      "[Success] Closing job successful. Job ID = 7505w00000ZJKysAAH\n"
     ]
    }
   ],
   "source": [
    "# send data to Salesforce\n",
    "db_s.send_data(df_sf)"
   ]
  },
  {
   "cell_type": "code",
   "execution_count": 14,
   "id": "0daf0256",
   "metadata": {
    "execution": {
     "iopub.execute_input": "2021-08-26T04:20:36.028715Z",
     "iopub.status.busy": "2021-08-26T04:20:36.027315Z",
     "iopub.status.idle": "2021-08-26T04:20:36.322586Z",
     "shell.execute_reply": "2021-08-26T04:20:36.323178Z"
    },
    "jupyter": {
     "source_hidden": true
    },
    "papermill": {
     "duration": 0.40285,
     "end_time": "2021-08-26T04:20:36.323411",
     "exception": false,
     "start_time": "2021-08-26T04:20:35.920561",
     "status": "completed"
    },
    "tags": []
   },
   "outputs": [
    {
     "name": "stdout",
     "output_type": "stream",
     "text": [
      "{'apexProcessingTime': 0,\n",
      " 'apiActiveProcessingTime': 0,\n",
      " 'apiVersion': 47.0,\n",
      " 'columnDelimiter': 'COMMA',\n",
      " 'concurrencyMode': 'Parallel',\n",
      " 'contentType': 'CSV',\n",
      " 'createdById': '0055w00000DM5bOAAT',\n",
      " 'createdDate': '2021-08-26T04:20:34.000+0000',\n",
      " 'externalIdFieldName': 'Name',\n",
      " 'id': '7505w00000ZJKysAAH',\n",
      " 'jobType': 'V2Ingest',\n",
      " 'lineEnding': 'LF',\n",
      " 'numberRecordsFailed': 0,\n",
      " 'numberRecordsProcessed': 0,\n",
      " 'object': 'AuthorToolAssociation__c',\n",
      " 'operation': 'upsert',\n",
      " 'retries': 0,\n",
      " 'state': 'UploadComplete',\n",
      " 'systemModstamp': '2021-08-26T04:20:35.000+0000',\n",
      " 'totalProcessingTime': 0}\n"
     ]
    }
   ],
   "source": [
    "# check status\n",
    "from pprint import pprint\n",
    "\n",
    "pprint(db_s.check_bulk_status())"
   ]
  },
  {
   "cell_type": "code",
   "execution_count": null,
   "id": "de45c6ec",
   "metadata": {
    "jupyter": {
     "source_hidden": true
    },
    "papermill": {
     "duration": 0.087757,
     "end_time": "2021-08-26T04:20:36.501295",
     "exception": false,
     "start_time": "2021-08-26T04:20:36.413538",
     "status": "completed"
    },
    "tags": []
   },
   "outputs": [],
   "source": []
  }
 ],
 "metadata": {
  "celltoolbar": "Tags",
  "kernelspec": {
   "display_name": "Python 3",
   "language": "python",
   "name": "python3"
  },
  "language_info": {
   "codemirror_mode": {
    "name": "ipython",
    "version": 3
   },
   "file_extension": ".py",
   "mimetype": "text/x-python",
   "name": "python",
   "nbconvert_exporter": "python",
   "pygments_lexer": "ipython3",
   "version": "3.8.2"
  },
  "papermill": {
   "duration": 59.173078,
   "end_time": "2021-08-26T04:20:37.008370",
   "environment_variables": {},
   "exception": null,
   "input_path": "nanoHUB/pipeline/salesforce/task_tools_map_authors.ipynb",
   "output_path": "./.output/task_tools_map_authors.ipynb",
   "parameters": {},
   "start_time": "2021-08-26T04:19:37.835292",
   "version": "2.1.1"
  }
 },
 "nbformat": 4,
 "nbformat_minor": 5
}