{
 "cells": [
  {
   "cell_type": "markdown",
   "id": "3e1a767e",
   "metadata": {
    "papermill": {
     "duration": 0.035237,
     "end_time": "2021-10-25T11:33:29.395612",
     "exception": false,
     "start_time": "2021-10-25T11:33:29.360375",
     "status": "completed"
    },
    "tags": []
   },
   "source": [
    "# DB2-Salesforce connector: Tools mapping to authors"
   ]
  },
  {
   "cell_type": "code",
   "execution_count": 1,
   "id": "4c50df61",
   "metadata": {
    "execution": {
     "iopub.execute_input": "2021-10-25T11:33:29.466957Z",
     "iopub.status.busy": "2021-10-25T11:33:29.466361Z",
     "iopub.status.idle": "2021-10-25T11:33:31.198173Z",
     "shell.execute_reply": "2021-10-25T11:33:31.198764Z"
    },
    "jupyter": {
     "source_hidden": true
    },
    "papermill": {
     "duration": 1.771993,
     "end_time": "2021-10-25T11:33:31.199103",
     "exception": false,
     "start_time": "2021-10-25T11:33:29.427110",
     "status": "completed"
    },
    "tags": [
     "parameters"
    ]
   },
   "outputs": [
    {
     "name": "stdout",
     "output_type": "stream",
     "text": [
      "\u001b[1mnanoHUB - Serving Students, Researchers & Instructors\u001b[0m\n"
     ]
    },
    {
     "name": "stdout",
     "output_type": "stream",
     "text": [
      "Obtained Salesforce access token ...... True\n"
     ]
    }
   ],
   "source": [
    "# API settings\n",
    "api_url = '/services/data/v43.0/sobjects'\n",
    "external_id = 'Name'\n",
    "object_id = 'AuthorToolAssociation__c'\n",
    "\n",
    "from nanoHUB.application import Application\n",
    "\n",
    "application = Application.get_instance()\n",
    "nanohub_db = application.new_db_engine('nanohub')\n",
    "\n",
    "\n",
    "salesforce = application.new_salesforce_engine()\n",
    "db_s = salesforce"
   ]
  },
  {
   "cell_type": "code",
   "execution_count": 2,
   "id": "331117c2",
   "metadata": {
    "execution": {
     "iopub.execute_input": "2021-10-25T11:33:31.267800Z",
     "iopub.status.busy": "2021-10-25T11:33:31.267207Z",
     "iopub.status.idle": "2021-10-25T11:33:31.269363Z",
     "shell.execute_reply": "2021-10-25T11:33:31.269781Z"
    },
    "jupyter": {
     "source_hidden": true
    },
    "papermill": {
     "duration": 0.038145,
     "end_time": "2021-10-25T11:33:31.270076",
     "exception": false,
     "start_time": "2021-10-25T11:33:31.231931",
     "status": "completed"
    },
    "tags": []
   },
   "outputs": [],
   "source": [
    "import pandas as pd\n",
    "import time\n",
    "import datetime\n"
   ]
  },
  {
   "cell_type": "markdown",
   "id": "69d6bd1d",
   "metadata": {
    "papermill": {
     "duration": 0.034041,
     "end_time": "2021-10-25T11:33:31.336738",
     "exception": false,
     "start_time": "2021-10-25T11:33:31.302697",
     "status": "completed"
    },
    "tags": []
   },
   "source": [
    "## Obtain tool information from DB2 "
   ]
  },
  {
   "cell_type": "code",
   "execution_count": 3,
   "id": "fc696d1c",
   "metadata": {
    "execution": {
     "iopub.execute_input": "2021-10-25T11:33:31.406520Z",
     "iopub.status.busy": "2021-10-25T11:33:31.405757Z",
     "iopub.status.idle": "2021-10-25T11:33:32.341443Z",
     "shell.execute_reply": "2021-10-25T11:33:32.341863Z"
    },
    "jupyter": {
     "source_hidden": true
    },
    "papermill": {
     "duration": 0.973204,
     "end_time": "2021-10-25T11:33:32.342106",
     "exception": false,
     "start_time": "2021-10-25T11:33:31.368902",
     "status": "completed"
    },
    "tags": []
   },
   "outputs": [
    {
     "data": {
      "text/html": [
       "<div>\n",
       "<style scoped>\n",
       "    .dataframe tbody tr th:only-of-type {\n",
       "        vertical-align: middle;\n",
       "    }\n",
       "\n",
       "    .dataframe tbody tr th {\n",
       "        vertical-align: top;\n",
       "    }\n",
       "\n",
       "    .dataframe thead th {\n",
       "        text-align: right;\n",
       "    }\n",
       "</style>\n",
       "<table border=\"1\" class=\"dataframe\">\n",
       "  <thead>\n",
       "    <tr style=\"text-align: right;\">\n",
       "      <th></th>\n",
       "      <th>toolname</th>\n",
       "      <th>revision</th>\n",
       "      <th>uid</th>\n",
       "      <th>ordering</th>\n",
       "      <th>version_id</th>\n",
       "      <th>name</th>\n",
       "      <th>organization</th>\n",
       "    </tr>\n",
       "  </thead>\n",
       "  <tbody>\n",
       "    <tr>\n",
       "      <th>0</th>\n",
       "      <td>adept</td>\n",
       "      <td>16</td>\n",
       "      <td>4645</td>\n",
       "      <td>1</td>\n",
       "      <td>2</td>\n",
       "      <td>None</td>\n",
       "      <td>None</td>\n",
       "    </tr>\n",
       "    <tr>\n",
       "      <th>1</th>\n",
       "      <td>adept</td>\n",
       "      <td>16</td>\n",
       "      <td>3013</td>\n",
       "      <td>2</td>\n",
       "      <td>2</td>\n",
       "      <td>None</td>\n",
       "      <td>None</td>\n",
       "    </tr>\n",
       "  </tbody>\n",
       "</table>\n",
       "</div>"
      ],
      "text/plain": [
       "  toolname  revision   uid  ordering  version_id  name organization\n",
       "0    adept        16  4645         1           2  None         None\n",
       "1    adept        16  3013         2           2  None         None"
      ]
     },
     "execution_count": 3,
     "metadata": {},
     "output_type": "execute_result"
    }
   ],
   "source": [
    "# connect with DB2\n",
    "\n",
    "# tool_authors\n",
    "sql_query = \"select * from jos_tool_authors\"\n",
    "\n",
    "toolauthors_df = pd.read_sql_query(sql_query, nanohub_db)\n",
    "\n",
    "# display\n",
    "toolauthors_df.head(2)"
   ]
  },
  {
   "cell_type": "code",
   "execution_count": 4,
   "id": "1edcacba",
   "metadata": {
    "execution": {
     "iopub.execute_input": "2021-10-25T11:33:32.416059Z",
     "iopub.status.busy": "2021-10-25T11:33:32.415506Z",
     "iopub.status.idle": "2021-10-25T11:33:32.419642Z",
     "shell.execute_reply": "2021-10-25T11:33:32.420233Z"
    },
    "jupyter": {
     "source_hidden": true
    },
    "papermill": {
     "duration": 0.044773,
     "end_time": "2021-10-25T11:33:32.420480",
     "exception": false,
     "start_time": "2021-10-25T11:33:32.375707",
     "status": "completed"
    },
    "tags": []
   },
   "outputs": [],
   "source": [
    "ta_df = toolauthors_df[['toolname', 'uid']].drop_duplicates()"
   ]
  },
  {
   "cell_type": "markdown",
   "id": "fde073a9",
   "metadata": {
    "papermill": {
     "duration": 0.034077,
     "end_time": "2021-10-25T11:33:32.487266",
     "exception": false,
     "start_time": "2021-10-25T11:33:32.453189",
     "status": "completed"
    },
    "tags": []
   },
   "source": [
    "## Obtain Salesforce IDs"
   ]
  },
  {
   "cell_type": "code",
   "execution_count": 5,
   "id": "fdf9e200",
   "metadata": {
    "execution": {
     "iopub.execute_input": "2021-10-25T11:33:32.557229Z",
     "iopub.status.busy": "2021-10-25T11:33:32.556522Z",
     "iopub.status.idle": "2021-10-25T11:33:32.558577Z",
     "shell.execute_reply": "2021-10-25T11:33:32.559086Z"
    },
    "jupyter": {
     "source_hidden": true
    },
    "papermill": {
     "duration": 0.03914,
     "end_time": "2021-10-25T11:33:32.559290",
     "exception": false,
     "start_time": "2021-10-25T11:33:32.520150",
     "status": "completed"
    },
    "tags": []
   },
   "outputs": [],
   "source": [
    "# create DB2 to Salesforce API object"
   ]
  },
  {
   "cell_type": "code",
   "execution_count": 6,
   "id": "d91233f6",
   "metadata": {
    "execution": {
     "iopub.execute_input": "2021-10-25T11:33:32.631634Z",
     "iopub.status.busy": "2021-10-25T11:33:32.630558Z",
     "iopub.status.idle": "2021-10-25T11:33:46.619859Z",
     "shell.execute_reply": "2021-10-25T11:33:46.620347Z"
    },
    "jupyter": {
     "source_hidden": true
    },
    "papermill": {
     "duration": 14.028575,
     "end_time": "2021-10-25T11:33:46.620586",
     "exception": false,
     "start_time": "2021-10-25T11:33:32.592011",
     "status": "completed"
    },
    "tags": []
   },
   "outputs": [
    {
     "name": "stdout",
     "output_type": "stream",
     "text": [
      "[Success] Bulk job creation successful. Job ID = 7505w00000b2D0lAAE\n"
     ]
    },
    {
     "name": "stdout",
     "output_type": "stream",
     "text": [
      "{\"id\":\"7505w00000b2D0lAAE\",\"operation\":\"query\",\"object\":\"Contact\",\"createdById\":\"0055w00000DM5bOAAT\",\"createdDate\":\"2021-10-25T11:33:32.000+0000\",\"systemModstamp\":\"2021-10-25T11:33:33.000+0000\",\"state\":\"UploadComplete\",\"concurrencyMode\":\"Parallel\",\"contentType\":\"CSV\",\"apiVersion\":47.0,\"jobType\":\"V2Query\",\"lineEnding\":\"LF\",\"columnDelimiter\":\"COMMA\",\"retries\":0,\"totalProcessingTime\":0}\n"
     ]
    },
    {
     "name": "stdout",
     "output_type": "stream",
     "text": [
      "{\"id\":\"7505w00000b2D0lAAE\",\"operation\":\"query\",\"object\":\"Contact\",\"createdById\":\"0055w00000DM5bOAAT\",\"createdDate\":\"2021-10-25T11:33:32.000+0000\",\"systemModstamp\":\"2021-10-25T11:33:43.000+0000\",\"state\":\"JobComplete\",\"concurrencyMode\":\"Parallel\",\"contentType\":\"CSV\",\"apiVersion\":47.0,\"jobType\":\"V2Query\",\"lineEnding\":\"LF\",\"columnDelimiter\":\"COMMA\",\"numberRecordsProcessed\":262481,\"retries\":0,\"totalProcessingTime\":10011}\n",
      "[Success] Bulk job completed successfully.\n"
     ]
    },
    {
     "data": {
      "text/html": [
       "<div>\n",
       "<style scoped>\n",
       "    .dataframe tbody tr th:only-of-type {\n",
       "        vertical-align: middle;\n",
       "    }\n",
       "\n",
       "    .dataframe tbody tr th {\n",
       "        vertical-align: top;\n",
       "    }\n",
       "\n",
       "    .dataframe thead th {\n",
       "        text-align: right;\n",
       "    }\n",
       "</style>\n",
       "<table border=\"1\" class=\"dataframe\">\n",
       "  <thead>\n",
       "    <tr style=\"text-align: right;\">\n",
       "      <th></th>\n",
       "      <th>Id</th>\n",
       "      <th>nanoHUB_user_ID__c</th>\n",
       "    </tr>\n",
       "  </thead>\n",
       "  <tbody>\n",
       "    <tr>\n",
       "      <th>0</th>\n",
       "      <td>0035w000031Vsp1AAC</td>\n",
       "      <td>998</td>\n",
       "    </tr>\n",
       "    <tr>\n",
       "      <th>1</th>\n",
       "      <td>0035w000031Vsp2AAC</td>\n",
       "      <td>1683</td>\n",
       "    </tr>\n",
       "    <tr>\n",
       "      <th>2</th>\n",
       "      <td>0035w000031Vsp3AAC</td>\n",
       "      <td>1684</td>\n",
       "    </tr>\n",
       "  </tbody>\n",
       "</table>\n",
       "</div>"
      ],
      "text/plain": [
       "                   Id  nanoHUB_user_ID__c\n",
       "0  0035w000031Vsp1AAC                 998\n",
       "1  0035w000031Vsp2AAC                1683\n",
       "2  0035w000031Vsp3AAC                1684"
      ]
     },
     "execution_count": 6,
     "metadata": {},
     "output_type": "execute_result"
    }
   ],
   "source": [
    "# query the Salesforce IDs for contacts and citations. when updating junction objects, these IDs must be used\n",
    "\n",
    "# get Salesforce ID for contacts\n",
    "sf_user_ID_df = db_s.query_data('SELECT Id, nanoHUB_user_ID__c FROM Contact where nanoHUB_user_ID__c != NULL')\n",
    "\n",
    "sf_user_ID_df['nanoHUB_user_ID__c'] = sf_user_ID_df['nanoHUB_user_ID__c'].astype('int')\n",
    "\n",
    "# display\n",
    "sf_user_ID_df.head(3)"
   ]
  },
  {
   "cell_type": "code",
   "execution_count": 7,
   "id": "596ec94b",
   "metadata": {
    "execution": {
     "iopub.execute_input": "2021-10-25T11:33:46.698039Z",
     "iopub.status.busy": "2021-10-25T11:33:46.697392Z",
     "iopub.status.idle": "2021-10-25T11:33:59.140584Z",
     "shell.execute_reply": "2021-10-25T11:33:59.141154Z"
    },
    "jupyter": {
     "source_hidden": true
    },
    "papermill": {
     "duration": 12.484844,
     "end_time": "2021-10-25T11:33:59.141405",
     "exception": false,
     "start_time": "2021-10-25T11:33:46.656561",
     "status": "completed"
    },
    "tags": []
   },
   "outputs": [
    {
     "name": "stdout",
     "output_type": "stream",
     "text": [
      "[Success] Bulk job creation successful. Job ID = 7505w00000b2D8KAAU\n"
     ]
    },
    {
     "name": "stdout",
     "output_type": "stream",
     "text": [
      "{\"id\":\"7505w00000b2D8KAAU\",\"operation\":\"query\",\"object\":\"nanoHUB_tools__c\",\"createdById\":\"0055w00000DM5bOAAT\",\"createdDate\":\"2021-10-25T11:33:46.000+0000\",\"systemModstamp\":\"2021-10-25T11:33:47.000+0000\",\"state\":\"UploadComplete\",\"concurrencyMode\":\"Parallel\",\"contentType\":\"CSV\",\"apiVersion\":47.0,\"jobType\":\"V2Query\",\"lineEnding\":\"LF\",\"columnDelimiter\":\"COMMA\",\"retries\":0,\"totalProcessingTime\":0}\n"
     ]
    },
    {
     "name": "stdout",
     "output_type": "stream",
     "text": [
      "{\"id\":\"7505w00000b2D8KAAU\",\"operation\":\"query\",\"object\":\"nanoHUB_tools__c\",\"createdById\":\"0055w00000DM5bOAAT\",\"createdDate\":\"2021-10-25T11:33:46.000+0000\",\"systemModstamp\":\"2021-10-25T11:33:49.000+0000\",\"state\":\"JobComplete\",\"concurrencyMode\":\"Parallel\",\"contentType\":\"CSV\",\"apiVersion\":47.0,\"jobType\":\"V2Query\",\"lineEnding\":\"LF\",\"columnDelimiter\":\"COMMA\",\"numberRecordsProcessed\":1823,\"retries\":0,\"totalProcessingTime\":250}\n",
      "[Success] Bulk job completed successfully.\n"
     ]
    },
    {
     "data": {
      "text/html": [
       "<div>\n",
       "<style scoped>\n",
       "    .dataframe tbody tr th:only-of-type {\n",
       "        vertical-align: middle;\n",
       "    }\n",
       "\n",
       "    .dataframe tbody tr th {\n",
       "        vertical-align: top;\n",
       "    }\n",
       "\n",
       "    .dataframe thead th {\n",
       "        text-align: right;\n",
       "    }\n",
       "</style>\n",
       "<table border=\"1\" class=\"dataframe\">\n",
       "  <thead>\n",
       "    <tr style=\"text-align: right;\">\n",
       "      <th></th>\n",
       "      <th>Id</th>\n",
       "      <th>Tool_name__c</th>\n",
       "    </tr>\n",
       "  </thead>\n",
       "  <tbody>\n",
       "    <tr>\n",
       "      <th>0</th>\n",
       "      <td>a0s5w00000k5MOwAAM</td>\n",
       "      <td>ellipsom</td>\n",
       "    </tr>\n",
       "    <tr>\n",
       "      <th>1</th>\n",
       "      <td>a0s5w00000k5MOxAAM</td>\n",
       "      <td>hydrolab</td>\n",
       "    </tr>\n",
       "    <tr>\n",
       "      <th>2</th>\n",
       "      <td>a0s5w00000k5MOyAAM</td>\n",
       "      <td>huckel</td>\n",
       "    </tr>\n",
       "  </tbody>\n",
       "</table>\n",
       "</div>"
      ],
      "text/plain": [
       "                   Id Tool_name__c\n",
       "0  a0s5w00000k5MOwAAM     ellipsom\n",
       "1  a0s5w00000k5MOxAAM     hydrolab\n",
       "2  a0s5w00000k5MOyAAM       huckel"
      ]
     },
     "execution_count": 7,
     "metadata": {},
     "output_type": "execute_result"
    }
   ],
   "source": [
    "# get Salesforce ID for citations\n",
    "sf_tool_df = db_s.query_data('SELECT Id, Tool_name__c FROM nanoHUB_tools__c')\n",
    "\n",
    "# display\n",
    "sf_tool_df.head(3)"
   ]
  },
  {
   "cell_type": "markdown",
   "id": "68cb19d3",
   "metadata": {
    "papermill": {
     "duration": 0.038439,
     "end_time": "2021-10-25T11:33:59.220465",
     "exception": false,
     "start_time": "2021-10-25T11:33:59.182026",
     "status": "completed"
    },
    "tags": []
   },
   "source": [
    "## Match data with Salesforce format"
   ]
  },
  {
   "cell_type": "code",
   "execution_count": 8,
   "id": "c0f2c43c",
   "metadata": {
    "execution": {
     "iopub.execute_input": "2021-10-25T11:33:59.309506Z",
     "iopub.status.busy": "2021-10-25T11:33:59.308808Z",
     "iopub.status.idle": "2021-10-25T11:33:59.310577Z",
     "shell.execute_reply": "2021-10-25T11:33:59.311091Z"
    },
    "jupyter": {
     "source_hidden": true
    },
    "papermill": {
     "duration": 0.048451,
     "end_time": "2021-10-25T11:33:59.311326",
     "exception": false,
     "start_time": "2021-10-25T11:33:59.262875",
     "status": "completed"
    },
    "tags": []
   },
   "outputs": [],
   "source": [
    "# make sure all strings are lower cases\n",
    "sf_tool_df['Tool_name__c'] = sf_tool_df['Tool_name__c'].astype('str').apply(str.lower)"
   ]
  },
  {
   "cell_type": "code",
   "execution_count": 9,
   "id": "6953abcb",
   "metadata": {
    "execution": {
     "iopub.execute_input": "2021-10-25T11:33:59.397891Z",
     "iopub.status.busy": "2021-10-25T11:33:59.397333Z",
     "iopub.status.idle": "2021-10-25T11:33:59.423963Z",
     "shell.execute_reply": "2021-10-25T11:33:59.424395Z"
    },
    "jupyter": {
     "source_hidden": true
    },
    "papermill": {
     "duration": 0.074062,
     "end_time": "2021-10-25T11:33:59.424643",
     "exception": false,
     "start_time": "2021-10-25T11:33:59.350581",
     "status": "completed"
    },
    "tags": []
   },
   "outputs": [
    {
     "data": {
      "text/html": [
       "<div>\n",
       "<style scoped>\n",
       "    .dataframe tbody tr th:only-of-type {\n",
       "        vertical-align: middle;\n",
       "    }\n",
       "\n",
       "    .dataframe tbody tr th {\n",
       "        vertical-align: top;\n",
       "    }\n",
       "\n",
       "    .dataframe thead th {\n",
       "        text-align: right;\n",
       "    }\n",
       "</style>\n",
       "<table border=\"1\" class=\"dataframe\">\n",
       "  <thead>\n",
       "    <tr style=\"text-align: right;\">\n",
       "      <th></th>\n",
       "      <th>toolname</th>\n",
       "      <th>uid</th>\n",
       "      <th>SF_ID_tool</th>\n",
       "      <th>Tool_name__c</th>\n",
       "      <th>SF_ID_contact</th>\n",
       "      <th>nanoHUB_user_ID__c</th>\n",
       "    </tr>\n",
       "  </thead>\n",
       "  <tbody>\n",
       "    <tr>\n",
       "      <th>0</th>\n",
       "      <td>adept</td>\n",
       "      <td>4645</td>\n",
       "      <td>a0s5w00000k5MP7AAM</td>\n",
       "      <td>adept</td>\n",
       "      <td>0035w000034JHCCAA4</td>\n",
       "      <td>4645</td>\n",
       "    </tr>\n",
       "    <tr>\n",
       "      <th>1</th>\n",
       "      <td>adeptnpt</td>\n",
       "      <td>4645</td>\n",
       "      <td>a0s5w00000k5MWdAAM</td>\n",
       "      <td>adeptnpt</td>\n",
       "      <td>0035w000034JHCCAA4</td>\n",
       "      <td>4645</td>\n",
       "    </tr>\n",
       "  </tbody>\n",
       "</table>\n",
       "</div>"
      ],
      "text/plain": [
       "   toolname   uid          SF_ID_tool Tool_name__c       SF_ID_contact  \\\n",
       "0     adept  4645  a0s5w00000k5MP7AAM        adept  0035w000034JHCCAA4   \n",
       "1  adeptnpt  4645  a0s5w00000k5MWdAAM     adeptnpt  0035w000034JHCCAA4   \n",
       "\n",
       "   nanoHUB_user_ID__c  \n",
       "0                4645  \n",
       "1                4645  "
      ]
     },
     "execution_count": 9,
     "metadata": {},
     "output_type": "execute_result"
    }
   ],
   "source": [
    "# merge SF citation and contact IDs into user-citation DF\n",
    "ct_tolink_df = pd.merge(ta_df, sf_tool_df, how='inner', left_on='toolname', right_on='Tool_name__c')\\\n",
    "                           .rename(columns={'Id':'SF_ID_tool'})\n",
    "                                            \n",
    "ct_tolink_df = pd.merge(ct_tolink_df, sf_user_ID_df, how='inner', left_on='uid', right_on='nanoHUB_user_ID__c')\\\n",
    "                           .rename(columns={'Id':'SF_ID_contact'})\n",
    "\n",
    "# display\n",
    "ct_tolink_df.head(2)"
   ]
  },
  {
   "cell_type": "code",
   "execution_count": 10,
   "id": "744f4cb4",
   "metadata": {
    "execution": {
     "iopub.execute_input": "2021-10-25T11:33:59.547209Z",
     "iopub.status.busy": "2021-10-25T11:33:59.546433Z",
     "iopub.status.idle": "2021-10-25T11:33:59.548680Z",
     "shell.execute_reply": "2021-10-25T11:33:59.549165Z"
    },
    "jupyter": {
     "source_hidden": true
    },
    "papermill": {
     "duration": 0.086033,
     "end_time": "2021-10-25T11:33:59.549408",
     "exception": false,
     "start_time": "2021-10-25T11:33:59.463375",
     "status": "completed"
    },
    "tags": []
   },
   "outputs": [],
   "source": [
    "# create a new column for object name\n",
    "ct_tolink_df['Name'] = ct_tolink_df.apply(lambda x: '%s_%s'%(x.nanoHUB_user_ID__c, x.Tool_name__c), axis=1)"
   ]
  },
  {
   "cell_type": "code",
   "execution_count": 11,
   "id": "727e3b94",
   "metadata": {
    "execution": {
     "iopub.execute_input": "2021-10-25T11:33:59.639471Z",
     "iopub.status.busy": "2021-10-25T11:33:59.638806Z",
     "iopub.status.idle": "2021-10-25T11:33:59.641462Z",
     "shell.execute_reply": "2021-10-25T11:33:59.641966Z"
    },
    "jupyter": {
     "source_hidden": true
    },
    "papermill": {
     "duration": 0.053516,
     "end_time": "2021-10-25T11:33:59.642199",
     "exception": false,
     "start_time": "2021-10-25T11:33:59.588683",
     "status": "completed"
    },
    "tags": []
   },
   "outputs": [
    {
     "data": {
      "text/html": [
       "<div>\n",
       "<style scoped>\n",
       "    .dataframe tbody tr th:only-of-type {\n",
       "        vertical-align: middle;\n",
       "    }\n",
       "\n",
       "    .dataframe tbody tr th {\n",
       "        vertical-align: top;\n",
       "    }\n",
       "\n",
       "    .dataframe thead th {\n",
       "        text-align: right;\n",
       "    }\n",
       "</style>\n",
       "<table border=\"1\" class=\"dataframe\">\n",
       "  <thead>\n",
       "    <tr style=\"text-align: right;\">\n",
       "      <th></th>\n",
       "      <th>0</th>\n",
       "      <th>1</th>\n",
       "    </tr>\n",
       "  </thead>\n",
       "  <tbody>\n",
       "    <tr>\n",
       "      <th>Name</th>\n",
       "      <td>4645_adept</td>\n",
       "      <td>4645_adeptnpt</td>\n",
       "    </tr>\n",
       "    <tr>\n",
       "      <th>Contact__c</th>\n",
       "      <td>0035w000034JHCCAA4</td>\n",
       "      <td>0035w000034JHCCAA4</td>\n",
       "    </tr>\n",
       "    <tr>\n",
       "      <th>Tool__c</th>\n",
       "      <td>a0s5w00000k5MP7AAM</td>\n",
       "      <td>a0s5w00000k5MWdAAM</td>\n",
       "    </tr>\n",
       "  </tbody>\n",
       "</table>\n",
       "</div>"
      ],
      "text/plain": [
       "                             0                   1\n",
       "Name                4645_adept       4645_adeptnpt\n",
       "Contact__c  0035w000034JHCCAA4  0035w000034JHCCAA4\n",
       "Tool__c     a0s5w00000k5MP7AAM  a0s5w00000k5MWdAAM"
      ]
     },
     "execution_count": 11,
     "metadata": {},
     "output_type": "execute_result"
    }
   ],
   "source": [
    "df_sf = pd.DataFrame()\n",
    "\n",
    "# Make sure NaN and NaT values are taken care of here\n",
    "df_sf['Name']         = ct_tolink_df['Name']\n",
    "df_sf['Contact__c'] = ct_tolink_df['SF_ID_contact']\n",
    "df_sf['Tool__c']       = ct_tolink_df['SF_ID_tool']\n",
    "sf_original_fields = df_sf.columns\n",
    "\n",
    "# display\n",
    "df_sf.head(2).T"
   ]
  },
  {
   "cell_type": "markdown",
   "id": "8ae4747e",
   "metadata": {
    "papermill": {
     "duration": 0.039615,
     "end_time": "2021-10-25T11:33:59.723578",
     "exception": false,
     "start_time": "2021-10-25T11:33:59.683963",
     "status": "completed"
    },
    "tags": []
   },
   "source": [
    "## To Salesforce Sales Cloud CRM"
   ]
  },
  {
   "cell_type": "code",
   "execution_count": 12,
   "id": "24a6e3a0",
   "metadata": {
    "execution": {
     "iopub.execute_input": "2021-10-25T11:33:59.810549Z",
     "iopub.status.busy": "2021-10-25T11:33:59.809918Z",
     "iopub.status.idle": "2021-10-25T11:33:59.812198Z",
     "shell.execute_reply": "2021-10-25T11:33:59.812608Z"
    },
    "jupyter": {
     "source_hidden": true
    },
    "papermill": {
     "duration": 0.047038,
     "end_time": "2021-10-25T11:33:59.812843",
     "exception": false,
     "start_time": "2021-10-25T11:33:59.765805",
     "status": "completed"
    },
    "tags": []
   },
   "outputs": [],
   "source": [
    "# create DB2 to Salesforce API object\n",
    "db_s = salesforce\n",
    "# specify Salesforce object ID and external ID\n",
    "db_s.object_id = object_id\n",
    "db_s.external_id = external_id"
   ]
  },
  {
   "cell_type": "code",
   "execution_count": 13,
   "id": "7385dc48",
   "metadata": {
    "execution": {
     "iopub.execute_input": "2021-10-25T11:33:59.906104Z",
     "iopub.status.busy": "2021-10-25T11:33:59.905496Z",
     "iopub.status.idle": "2021-10-25T11:34:01.987633Z",
     "shell.execute_reply": "2021-10-25T11:34:01.988401Z"
    },
    "jupyter": {
     "source_hidden": true
    },
    "papermill": {
     "duration": 2.132059,
     "end_time": "2021-10-25T11:34:01.988750",
     "exception": false,
     "start_time": "2021-10-25T11:33:59.856691",
     "status": "completed"
    },
    "tags": []
   },
   "outputs": [
    {
     "name": "stdout",
     "output_type": "stream",
     "text": [
      "[Success] Bulk job creation successful. Job ID = 7505w00000b2D8PAAU\n",
      "hello\n"
     ]
    },
    {
     "name": "stdout",
     "output_type": "stream",
     "text": [
      "[Success] CSV upload successful. Job ID = 7505w00000b2D8PAAU\n"
     ]
    },
    {
     "name": "stdout",
     "output_type": "stream",
     "text": [
      "[Success] Closing job successful. Job ID = 7505w00000b2D8PAAU\n"
     ]
    }
   ],
   "source": [
    "# send data to Salesforce\n",
    "db_s.send_data(df_sf)"
   ]
  },
  {
   "cell_type": "code",
   "execution_count": 14,
   "id": "8d031f0f",
   "metadata": {
    "execution": {
     "iopub.execute_input": "2021-10-25T11:34:02.080045Z",
     "iopub.status.busy": "2021-10-25T11:34:02.079268Z",
     "iopub.status.idle": "2021-10-25T11:34:02.454307Z",
     "shell.execute_reply": "2021-10-25T11:34:02.454748Z"
    },
    "jupyter": {
     "source_hidden": true
    },
    "papermill": {
     "duration": 0.422712,
     "end_time": "2021-10-25T11:34:02.454982",
     "exception": false,
     "start_time": "2021-10-25T11:34:02.032270",
     "status": "completed"
    },
    "tags": []
   },
   "outputs": [
    {
     "name": "stdout",
     "output_type": "stream",
     "text": [
      "{'apexProcessingTime': 0,\n",
      " 'apiActiveProcessingTime': 0,\n",
      " 'apiVersion': 47.0,\n",
      " 'columnDelimiter': 'COMMA',\n",
      " 'concurrencyMode': 'Parallel',\n",
      " 'contentType': 'CSV',\n",
      " 'createdById': '0055w00000DM5bOAAT',\n",
      " 'createdDate': '2021-10-25T11:34:00.000+0000',\n",
      " 'externalIdFieldName': 'Name',\n",
      " 'id': '7505w00000b2D8PAAU',\n",
      " 'jobType': 'V2Ingest',\n",
      " 'lineEnding': 'LF',\n",
      " 'numberRecordsFailed': 0,\n",
      " 'numberRecordsProcessed': 0,\n",
      " 'object': 'AuthorToolAssociation__c',\n",
      " 'operation': 'upsert',\n",
      " 'retries': 0,\n",
      " 'state': 'InProgress',\n",
      " 'systemModstamp': '2021-10-25T11:34:02.000+0000',\n",
      " 'totalProcessingTime': 0}\n"
     ]
    }
   ],
   "source": [
    "# check status\n",
    "from pprint import pprint\n",
    "\n",
    "pprint(db_s.check_bulk_status())"
   ]
  },
  {
   "cell_type": "code",
   "execution_count": null,
   "id": "52170304",
   "metadata": {
    "jupyter": {
     "source_hidden": true
    },
    "papermill": {
     "duration": 0.042584,
     "end_time": "2021-10-25T11:34:02.541471",
     "exception": false,
     "start_time": "2021-10-25T11:34:02.498887",
     "status": "completed"
    },
    "tags": []
   },
   "outputs": [],
   "source": []
  }
 ],
 "metadata": {
  "celltoolbar": "Tags",
  "kernelspec": {
   "display_name": "Python 3",
   "language": "python",
   "name": "python3"
  },
  "language_info": {
   "codemirror_mode": {
    "name": "ipython",
    "version": 3
   },
   "file_extension": ".py",
   "mimetype": "text/x-python",
   "name": "python",
   "nbconvert_exporter": "python",
   "pygments_lexer": "ipython3",
   "version": "3.9.7"
  },
  "papermill": {
   "duration": 34.688955,
   "end_time": "2021-10-25T11:34:02.919958",
   "environment_variables": {},
   "exception": null,
   "input_path": "/Users/saxenap/Documents/Dev/nanoHUB/nanoHUB/pipeline/salesforce/task_tools_map_authors.ipynb",
   "output_path": "./.output/task_tools_map_authors.ipynb",
   "parameters": {},
   "start_time": "2021-10-25T11:33:28.231003",
   "version": "2.1.1"
  }
 },
 "nbformat": 4,
 "nbformat_minor": 5
}