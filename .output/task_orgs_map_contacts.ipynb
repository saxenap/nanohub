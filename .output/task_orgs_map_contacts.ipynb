{
 "cells": [
  {
   "cell_type": "markdown",
   "id": "674dd6d4",
   "metadata": {
    "papermill": {
     "duration": 0.096838,
     "end_time": "2021-08-26T04:06:16.539148",
     "exception": false,
     "start_time": "2021-08-26T04:06:16.442310",
     "status": "completed"
    },
    "tags": []
   },
   "source": [
    "# DB2-Salesforce connector: determine organization of each contact based on aggregated cluster and citation information.\n"
   ]
  },
  {
   "cell_type": "code",
   "execution_count": 1,
   "id": "8613d47f",
   "metadata": {
    "execution": {
     "iopub.execute_input": "2021-08-26T04:06:16.721024Z",
     "iopub.status.busy": "2021-08-26T04:06:16.719578Z",
     "iopub.status.idle": "2021-08-26T04:06:20.016197Z",
     "shell.execute_reply": "2021-08-26T04:06:20.017179Z"
    },
    "jupyter": {
     "source_hidden": true
    },
    "papermill": {
     "duration": 3.39956,
     "end_time": "2021-08-26T04:06:20.017669",
     "exception": false,
     "start_time": "2021-08-26T04:06:16.618109",
     "status": "completed"
    },
    "tags": [
     "parameters"
    ]
   },
   "outputs": [
    {
     "name": "stdout",
     "output_type": "stream",
     "text": [
      "\u001b[1mnanoHUB - Serving Students, Researchers & Instructors\u001b[0m\n"
     ]
    },
    {
     "name": "stderr",
     "output_type": "stream",
     "text": [
      "2021-08-26 00:06:18,298| INFO    | 0 keys loaded from agent\n"
     ]
    },
    {
     "name": "stdout",
     "output_type": "stream",
     "text": [
      "2021-08-26 00:06:18,298 - [INFO] sshtunnel.SSHTunnelForwarder [sshtunnel.get_agent_keys:1060]: 0 keys loaded from agent\n"
     ]
    },
    {
     "name": "stderr",
     "output_type": "stream",
     "text": [
      "2021-08-26 00:06:18,301| INFO    | 0 key(s) loaded\n"
     ]
    },
    {
     "name": "stdout",
     "output_type": "stream",
     "text": [
      "2021-08-26 00:06:18,301 - [INFO] sshtunnel.SSHTunnelForwarder [sshtunnel.get_keys:1117]: 0 key(s) loaded\n"
     ]
    },
    {
     "name": "stderr",
     "output_type": "stream",
     "text": [
      "2021-08-26 00:06:18,303| INFO    | Connecting to gateway: db2.nanohub.org:22 as user 'saxenap'\n"
     ]
    },
    {
     "name": "stdout",
     "output_type": "stream",
     "text": [
      "2021-08-26 00:06:18,303 - [INFO] sshtunnel.SSHTunnelForwarder [sshtunnel.__init__:978]: Connecting to gateway: db2.nanohub.org:22 as user 'saxenap'\n"
     ]
    },
    {
     "name": "stdout",
     "output_type": "stream",
     "text": [
      "2021-08-26 00:06:18,305 - [\u001b[1mINFO\u001b[0m] \u001b[1mnanoHUB.containers.dataaccess\u001b[0m [connection.get_connection_for:101]: Started SSH Tunnel with db2.nanohub.org\n"
     ]
    },
    {
     "name": "stderr",
     "output_type": "stream",
     "text": [
      "2021-08-26 00:06:18,950| INFO    | Opening tunnel: 0.0.0.0:52881 <> 127.0.0.1:3306\n"
     ]
    },
    {
     "name": "stdout",
     "output_type": "stream",
     "text": [
      "2021-08-26 00:06:18,950 - [INFO] sshtunnel.SSHTunnelForwarder [sshtunnel._serve_forever_wrapper:1433]: Opening tunnel: 0.0.0.0:52881 <> 127.0.0.1:3306\n"
     ]
    },
    {
     "name": "stderr",
     "output_type": "stream",
     "text": [
      "2021-08-26 00:06:18,968| INFO    | 0 keys loaded from agent\n"
     ]
    },
    {
     "name": "stdout",
     "output_type": "stream",
     "text": [
      "2021-08-26 00:06:18,968 - [INFO] sshtunnel.SSHTunnelForwarder [sshtunnel.get_agent_keys:1060]: 0 keys loaded from agent\n"
     ]
    },
    {
     "name": "stderr",
     "output_type": "stream",
     "text": [
      "2021-08-26 00:06:18,971| INFO    | 0 key(s) loaded\n"
     ]
    },
    {
     "name": "stdout",
     "output_type": "stream",
     "text": [
      "2021-08-26 00:06:18,971 - [INFO] sshtunnel.SSHTunnelForwarder [sshtunnel.get_keys:1117]: 0 key(s) loaded\n"
     ]
    },
    {
     "name": "stderr",
     "output_type": "stream",
     "text": [
      "2021-08-26 00:06:18,973| INFO    | Connecting to gateway: db2.nanohub.org:22 as user 'saxenap'\n"
     ]
    },
    {
     "name": "stdout",
     "output_type": "stream",
     "text": [
      "2021-08-26 00:06:18,973 - [INFO] sshtunnel.SSHTunnelForwarder [sshtunnel.__init__:978]: Connecting to gateway: db2.nanohub.org:22 as user 'saxenap'\n"
     ]
    },
    {
     "name": "stdout",
     "output_type": "stream",
     "text": [
      "2021-08-26 00:06:18,975 - [\u001b[1mINFO\u001b[0m] \u001b[1mnanoHUB.containers.dataaccess\u001b[0m [connection.get_connection_for:101]: Started SSH Tunnel with db2.nanohub.org\n"
     ]
    },
    {
     "name": "stderr",
     "output_type": "stream",
     "text": [
      "2021-08-26 00:06:19,545| INFO    | Opening tunnel: 0.0.0.0:52883 <> 127.0.0.1:3306\n"
     ]
    },
    {
     "name": "stdout",
     "output_type": "stream",
     "text": [
      "2021-08-26 00:06:19,545 - [INFO] sshtunnel.SSHTunnelForwarder [sshtunnel._serve_forever_wrapper:1433]: Opening tunnel: 0.0.0.0:52883 <> 127.0.0.1:3306\n"
     ]
    },
    {
     "name": "stdout",
     "output_type": "stream",
     "text": [
      "Obtained Salesforce access token ...... True\n"
     ]
    }
   ],
   "source": [
    "# API settings\n",
    "api_url = '/services/data/v43.0/sobjects'\n",
    "external_id = 'Name'\n",
    "object_id = 'contact_citation_asso__c'\n",
    "\n",
    "from nanoHUB.application import Application\n",
    "\n",
    "application = Application.get_instance()\n",
    "nanohub_db = application.new_db_engine('nanohub')\n",
    "wang159_myrmekes_db = application.new_db_engine('wang159_myrmekes')\n",
    "\n",
    "salesforce = application.new_salesforce_engine()\n",
    "db_s = salesforce\n"
   ]
  },
  {
   "cell_type": "code",
   "execution_count": 2,
   "id": "3b37a33c",
   "metadata": {
    "execution": {
     "iopub.execute_input": "2021-08-26T04:06:20.388849Z",
     "iopub.status.busy": "2021-08-26T04:06:20.386543Z",
     "iopub.status.idle": "2021-08-26T04:06:20.390452Z",
     "shell.execute_reply": "2021-08-26T04:06:20.391386Z"
    },
    "jupyter": {
     "source_hidden": true
    },
    "papermill": {
     "duration": 0.180062,
     "end_time": "2021-08-26T04:06:20.391707",
     "exception": false,
     "start_time": "2021-08-26T04:06:20.211645",
     "status": "completed"
    },
    "tags": []
   },
   "outputs": [],
   "source": [
    "    \n",
    "import pandas as pd\n",
    "import time\n",
    "import datetime"
   ]
  },
  {
   "cell_type": "markdown",
   "id": "ee9c3d51",
   "metadata": {
    "papermill": {
     "duration": 0.116691,
     "end_time": "2021-08-26T04:06:20.647371",
     "exception": false,
     "start_time": "2021-08-26T04:06:20.530680",
     "status": "completed"
    },
    "tags": []
   },
   "source": [
    "## Obtain tool information from DB2 "
   ]
  },
  {
   "cell_type": "markdown",
   "id": "89f12dc5",
   "metadata": {
    "papermill": {
     "duration": 0.120815,
     "end_time": "2021-08-26T04:06:20.890779",
     "exception": false,
     "start_time": "2021-08-26T04:06:20.769964",
     "status": "completed"
    },
    "tags": []
   },
   "source": [
    "## Obtain Salesforce IDs\n"
   ]
  },
  {
   "cell_type": "code",
   "execution_count": 3,
   "id": "47482f9b",
   "metadata": {
    "execution": {
     "iopub.execute_input": "2021-08-26T04:06:21.152828Z",
     "iopub.status.busy": "2021-08-26T04:06:21.151602Z",
     "iopub.status.idle": "2021-08-26T04:06:58.250112Z",
     "shell.execute_reply": "2021-08-26T04:06:58.249642Z"
    },
    "jupyter": {
     "source_hidden": true
    },
    "papermill": {
     "duration": 37.238605,
     "end_time": "2021-08-26T04:06:58.250348",
     "exception": false,
     "start_time": "2021-08-26T04:06:21.011743",
     "status": "completed"
    },
    "tags": []
   },
   "outputs": [
    {
     "name": "stdout",
     "output_type": "stream",
     "text": [
      "[Success] Bulk job creation successful. Job ID = 7505w00000ZJKhcAAH\n"
     ]
    },
    {
     "name": "stdout",
     "output_type": "stream",
     "text": [
      "{\"id\":\"7505w00000ZJKhcAAH\",\"operation\":\"query\",\"object\":\"contact_citation_asso__c\",\"createdById\":\"0055w00000DM5bOAAT\",\"createdDate\":\"2021-08-26T04:06:21.000+0000\",\"systemModstamp\":\"2021-08-26T04:06:21.000+0000\",\"state\":\"UploadComplete\",\"concurrencyMode\":\"Parallel\",\"contentType\":\"CSV\",\"apiVersion\":47.0,\"jobType\":\"V2Query\",\"lineEnding\":\"LF\",\"columnDelimiter\":\"COMMA\",\"retries\":0,\"totalProcessingTime\":0}\n"
     ]
    },
    {
     "name": "stdout",
     "output_type": "stream",
     "text": [
      "{\"id\":\"7505w00000ZJKhcAAH\",\"operation\":\"query\",\"object\":\"contact_citation_asso__c\",\"createdById\":\"0055w00000DM5bOAAT\",\"createdDate\":\"2021-08-26T04:06:21.000+0000\",\"systemModstamp\":\"2021-08-26T04:06:30.000+0000\",\"state\":\"InProgress\",\"concurrencyMode\":\"Parallel\",\"contentType\":\"CSV\",\"apiVersion\":47.0,\"jobType\":\"V2Query\",\"lineEnding\":\"LF\",\"columnDelimiter\":\"COMMA\",\"numberRecordsProcessed\":0,\"retries\":0,\"totalProcessingTime\":0}\n"
     ]
    },
    {
     "name": "stdout",
     "output_type": "stream",
     "text": [
      "{\"id\":\"7505w00000ZJKhcAAH\",\"operation\":\"query\",\"object\":\"contact_citation_asso__c\",\"createdById\":\"0055w00000DM5bOAAT\",\"createdDate\":\"2021-08-26T04:06:21.000+0000\",\"systemModstamp\":\"2021-08-26T04:06:30.000+0000\",\"state\":\"InProgress\",\"concurrencyMode\":\"Parallel\",\"contentType\":\"CSV\",\"apiVersion\":47.0,\"jobType\":\"V2Query\",\"lineEnding\":\"LF\",\"columnDelimiter\":\"COMMA\",\"numberRecordsProcessed\":0,\"retries\":0,\"totalProcessingTime\":0}\n"
     ]
    },
    {
     "name": "stdout",
     "output_type": "stream",
     "text": [
      "{\"id\":\"7505w00000ZJKhcAAH\",\"operation\":\"query\",\"object\":\"contact_citation_asso__c\",\"createdById\":\"0055w00000DM5bOAAT\",\"createdDate\":\"2021-08-26T04:06:21.000+0000\",\"systemModstamp\":\"2021-08-26T04:06:49.000+0000\",\"state\":\"JobComplete\",\"concurrencyMode\":\"Parallel\",\"contentType\":\"CSV\",\"apiVersion\":47.0,\"jobType\":\"V2Query\",\"lineEnding\":\"LF\",\"columnDelimiter\":\"COMMA\",\"numberRecordsProcessed\":4944,\"retries\":0,\"totalProcessingTime\":488}\n",
      "[Success] Bulk job completed successfully.\n"
     ]
    }
   ],
   "source": [
    "# get Salesforce ID for contact-citation associations\n",
    "sf_citation_asso_df = db_s.query_data('SELECT Id, Organization__c, Contact__c, Citation__c FROM contact_citation_asso__c')"
   ]
  },
  {
   "cell_type": "code",
   "execution_count": 4,
   "id": "bb70594e",
   "metadata": {
    "execution": {
     "iopub.execute_input": "2021-08-26T04:06:58.443579Z",
     "iopub.status.busy": "2021-08-26T04:06:58.442678Z",
     "iopub.status.idle": "2021-08-26T04:08:26.147370Z",
     "shell.execute_reply": "2021-08-26T04:08:26.147755Z"
    },
    "jupyter": {
     "source_hidden": true
    },
    "papermill": {
     "duration": 87.802071,
     "end_time": "2021-08-26T04:08:26.147976",
     "exception": false,
     "start_time": "2021-08-26T04:06:58.345905",
     "status": "completed"
    },
    "scrolled": true,
    "tags": []
   },
   "outputs": [
    {
     "name": "stdout",
     "output_type": "stream",
     "text": [
      "[Success] Bulk job creation successful. Job ID = 7505w00000ZJKiBAAX\n"
     ]
    },
    {
     "name": "stdout",
     "output_type": "stream",
     "text": [
      "{\"id\":\"7505w00000ZJKiBAAX\",\"operation\":\"query\",\"object\":\"ContactToolClusterAssociation__c\",\"createdById\":\"0055w00000DM5bOAAT\",\"createdDate\":\"2021-08-26T04:06:58.000+0000\",\"systemModstamp\":\"2021-08-26T04:06:58.000+0000\",\"state\":\"UploadComplete\",\"concurrencyMode\":\"Parallel\",\"contentType\":\"CSV\",\"apiVersion\":47.0,\"jobType\":\"V2Query\",\"lineEnding\":\"LF\",\"columnDelimiter\":\"COMMA\",\"retries\":0,\"totalProcessingTime\":0}\n"
     ]
    },
    {
     "name": "stdout",
     "output_type": "stream",
     "text": [
      "{\"id\":\"7505w00000ZJKiBAAX\",\"operation\":\"query\",\"object\":\"ContactToolClusterAssociation__c\",\"createdById\":\"0055w00000DM5bOAAT\",\"createdDate\":\"2021-08-26T04:06:58.000+0000\",\"systemModstamp\":\"2021-08-26T04:07:02.000+0000\",\"state\":\"InProgress\",\"concurrencyMode\":\"Parallel\",\"contentType\":\"CSV\",\"apiVersion\":47.0,\"jobType\":\"V2Query\",\"lineEnding\":\"LF\",\"columnDelimiter\":\"COMMA\",\"numberRecordsProcessed\":0,\"retries\":0,\"totalProcessingTime\":0}\n"
     ]
    },
    {
     "name": "stdout",
     "output_type": "stream",
     "text": [
      "{\"id\":\"7505w00000ZJKiBAAX\",\"operation\":\"query\",\"object\":\"ContactToolClusterAssociation__c\",\"createdById\":\"0055w00000DM5bOAAT\",\"createdDate\":\"2021-08-26T04:06:58.000+0000\",\"systemModstamp\":\"2021-08-26T04:07:02.000+0000\",\"state\":\"InProgress\",\"concurrencyMode\":\"Parallel\",\"contentType\":\"CSV\",\"apiVersion\":47.0,\"jobType\":\"V2Query\",\"lineEnding\":\"LF\",\"columnDelimiter\":\"COMMA\",\"numberRecordsProcessed\":0,\"retries\":0,\"totalProcessingTime\":0}\n"
     ]
    },
    {
     "name": "stdout",
     "output_type": "stream",
     "text": [
      "{\"id\":\"7505w00000ZJKiBAAX\",\"operation\":\"query\",\"object\":\"ContactToolClusterAssociation__c\",\"createdById\":\"0055w00000DM5bOAAT\",\"createdDate\":\"2021-08-26T04:06:58.000+0000\",\"systemModstamp\":\"2021-08-26T04:07:02.000+0000\",\"state\":\"InProgress\",\"concurrencyMode\":\"Parallel\",\"contentType\":\"CSV\",\"apiVersion\":47.0,\"jobType\":\"V2Query\",\"lineEnding\":\"LF\",\"columnDelimiter\":\"COMMA\",\"numberRecordsProcessed\":0,\"retries\":0,\"totalProcessingTime\":0}\n"
     ]
    },
    {
     "name": "stdout",
     "output_type": "stream",
     "text": [
      "{\"id\":\"7505w00000ZJKiBAAX\",\"operation\":\"query\",\"object\":\"ContactToolClusterAssociation__c\",\"createdById\":\"0055w00000DM5bOAAT\",\"createdDate\":\"2021-08-26T04:06:58.000+0000\",\"systemModstamp\":\"2021-08-26T04:07:02.000+0000\",\"state\":\"InProgress\",\"concurrencyMode\":\"Parallel\",\"contentType\":\"CSV\",\"apiVersion\":47.0,\"jobType\":\"V2Query\",\"lineEnding\":\"LF\",\"columnDelimiter\":\"COMMA\",\"numberRecordsProcessed\":0,\"retries\":0,\"totalProcessingTime\":0}\n"
     ]
    },
    {
     "name": "stdout",
     "output_type": "stream",
     "text": [
      "{\"id\":\"7505w00000ZJKiBAAX\",\"operation\":\"query\",\"object\":\"ContactToolClusterAssociation__c\",\"createdById\":\"0055w00000DM5bOAAT\",\"createdDate\":\"2021-08-26T04:06:58.000+0000\",\"systemModstamp\":\"2021-08-26T04:07:02.000+0000\",\"state\":\"InProgress\",\"concurrencyMode\":\"Parallel\",\"contentType\":\"CSV\",\"apiVersion\":47.0,\"jobType\":\"V2Query\",\"lineEnding\":\"LF\",\"columnDelimiter\":\"COMMA\",\"numberRecordsProcessed\":0,\"retries\":0,\"totalProcessingTime\":0}\n"
     ]
    },
    {
     "name": "stdout",
     "output_type": "stream",
     "text": [
      "{\"id\":\"7505w00000ZJKiBAAX\",\"operation\":\"query\",\"object\":\"ContactToolClusterAssociation__c\",\"createdById\":\"0055w00000DM5bOAAT\",\"createdDate\":\"2021-08-26T04:06:58.000+0000\",\"systemModstamp\":\"2021-08-26T04:07:02.000+0000\",\"state\":\"InProgress\",\"concurrencyMode\":\"Parallel\",\"contentType\":\"CSV\",\"apiVersion\":47.0,\"jobType\":\"V2Query\",\"lineEnding\":\"LF\",\"columnDelimiter\":\"COMMA\",\"numberRecordsProcessed\":0,\"retries\":0,\"totalProcessingTime\":0}\n"
     ]
    },
    {
     "name": "stdout",
     "output_type": "stream",
     "text": [
      "{\"id\":\"7505w00000ZJKiBAAX\",\"operation\":\"query\",\"object\":\"ContactToolClusterAssociation__c\",\"createdById\":\"0055w00000DM5bOAAT\",\"createdDate\":\"2021-08-26T04:06:58.000+0000\",\"systemModstamp\":\"2021-08-26T04:07:02.000+0000\",\"state\":\"InProgress\",\"concurrencyMode\":\"Parallel\",\"contentType\":\"CSV\",\"apiVersion\":47.0,\"jobType\":\"V2Query\",\"lineEnding\":\"LF\",\"columnDelimiter\":\"COMMA\",\"numberRecordsProcessed\":0,\"retries\":0,\"totalProcessingTime\":0}\n"
     ]
    },
    {
     "name": "stdout",
     "output_type": "stream",
     "text": [
      "{\"id\":\"7505w00000ZJKiBAAX\",\"operation\":\"query\",\"object\":\"ContactToolClusterAssociation__c\",\"createdById\":\"0055w00000DM5bOAAT\",\"createdDate\":\"2021-08-26T04:06:58.000+0000\",\"systemModstamp\":\"2021-08-26T04:08:14.000+0000\",\"state\":\"JobComplete\",\"concurrencyMode\":\"Parallel\",\"contentType\":\"CSV\",\"apiVersion\":47.0,\"jobType\":\"V2Query\",\"lineEnding\":\"LF\",\"columnDelimiter\":\"COMMA\",\"numberRecordsProcessed\":98079,\"retries\":0,\"totalProcessingTime\":4599}\n",
      "[Success] Bulk job completed successfully.\n"
     ]
    }
   ],
   "source": [
    "# get Salesforce ID for contact-cluster associations\n",
    "sf_cluster_asso_df = db_s.query_data('SELECT Id, Contact__c, Tool_Usage_Cluster__c FROM ContactToolClusterAssociation__c')"
   ]
  },
  {
   "cell_type": "code",
   "execution_count": 5,
   "id": "f75122f4",
   "metadata": {
    "execution": {
     "iopub.execute_input": "2021-08-26T04:08:26.342781Z",
     "iopub.status.busy": "2021-08-26T04:08:26.341977Z",
     "iopub.status.idle": "2021-08-26T04:08:50.938221Z",
     "shell.execute_reply": "2021-08-26T04:08:50.938718Z"
    },
    "jupyter": {
     "source_hidden": true
    },
    "papermill": {
     "duration": 24.693382,
     "end_time": "2021-08-26T04:08:50.938933",
     "exception": false,
     "start_time": "2021-08-26T04:08:26.245551",
     "status": "completed"
    },
    "tags": []
   },
   "outputs": [
    {
     "name": "stdout",
     "output_type": "stream",
     "text": [
      "[Success] Bulk job creation successful. Job ID = 7505w00000ZJKiaAAH\n"
     ]
    },
    {
     "name": "stdout",
     "output_type": "stream",
     "text": [
      "{\"id\":\"7505w00000ZJKiaAAH\",\"operation\":\"query\",\"object\":\"Contact\",\"createdById\":\"0055w00000DM5bOAAT\",\"createdDate\":\"2021-08-26T04:08:26.000+0000\",\"systemModstamp\":\"2021-08-26T04:08:26.000+0000\",\"state\":\"UploadComplete\",\"concurrencyMode\":\"Parallel\",\"contentType\":\"CSV\",\"apiVersion\":47.0,\"jobType\":\"V2Query\",\"lineEnding\":\"LF\",\"columnDelimiter\":\"COMMA\",\"retries\":0,\"totalProcessingTime\":0}\n"
     ]
    },
    {
     "name": "stdout",
     "output_type": "stream",
     "text": [
      "{\"id\":\"7505w00000ZJKiaAAH\",\"operation\":\"query\",\"object\":\"Contact\",\"createdById\":\"0055w00000DM5bOAAT\",\"createdDate\":\"2021-08-26T04:08:26.000+0000\",\"systemModstamp\":\"2021-08-26T04:08:27.000+0000\",\"state\":\"InProgress\",\"concurrencyMode\":\"Parallel\",\"contentType\":\"CSV\",\"apiVersion\":47.0,\"jobType\":\"V2Query\",\"lineEnding\":\"LF\",\"columnDelimiter\":\"COMMA\",\"numberRecordsProcessed\":0,\"retries\":0,\"totalProcessingTime\":0}\n"
     ]
    },
    {
     "name": "stdout",
     "output_type": "stream",
     "text": [
      "{\"id\":\"7505w00000ZJKiaAAH\",\"operation\":\"query\",\"object\":\"Contact\",\"createdById\":\"0055w00000DM5bOAAT\",\"createdDate\":\"2021-08-26T04:08:26.000+0000\",\"systemModstamp\":\"2021-08-26T04:08:47.000+0000\",\"state\":\"JobComplete\",\"concurrencyMode\":\"Parallel\",\"contentType\":\"CSV\",\"apiVersion\":47.0,\"jobType\":\"V2Query\",\"lineEnding\":\"LF\",\"columnDelimiter\":\"COMMA\",\"numberRecordsProcessed\":253574,\"retries\":0,\"totalProcessingTime\":11540}\n",
      "[Success] Bulk job completed successfully.\n"
     ]
    }
   ],
   "source": [
    "# get Salesforce ID for contacts\n",
    "sf_contact_df = db_s.query_data('SELECT Id, Organization_Overwrite__c, Organization_email_derived__c FROM Contact')"
   ]
  },
  {
   "cell_type": "code",
   "execution_count": 6,
   "id": "201b6e31",
   "metadata": {
    "execution": {
     "iopub.execute_input": "2021-08-26T04:08:51.149150Z",
     "iopub.status.busy": "2021-08-26T04:08:51.148259Z",
     "iopub.status.idle": "2021-08-26T04:09:44.827175Z",
     "shell.execute_reply": "2021-08-26T04:09:44.827893Z"
    },
    "jupyter": {
     "source_hidden": true
    },
    "papermill": {
     "duration": 53.78637,
     "end_time": "2021-08-26T04:09:44.828296",
     "exception": false,
     "start_time": "2021-08-26T04:08:51.041926",
     "status": "completed"
    },
    "tags": []
   },
   "outputs": [
    {
     "name": "stdout",
     "output_type": "stream",
     "text": [
      "[Success] Bulk job creation successful. Job ID = 7505w00000ZJKifAAH\n"
     ]
    },
    {
     "name": "stdout",
     "output_type": "stream",
     "text": [
      "{\"id\":\"7505w00000ZJKifAAH\",\"operation\":\"query\",\"object\":\"nanoHUB_citations__c\",\"createdById\":\"0055w00000DM5bOAAT\",\"createdDate\":\"2021-08-26T04:08:51.000+0000\",\"systemModstamp\":\"2021-08-26T04:08:52.000+0000\",\"state\":\"UploadComplete\",\"concurrencyMode\":\"Parallel\",\"contentType\":\"CSV\",\"apiVersion\":47.0,\"jobType\":\"V2Query\",\"lineEnding\":\"LF\",\"columnDelimiter\":\"COMMA\",\"retries\":0,\"totalProcessingTime\":0}\n"
     ]
    },
    {
     "name": "stdout",
     "output_type": "stream",
     "text": [
      "{\"id\":\"7505w00000ZJKifAAH\",\"operation\":\"query\",\"object\":\"nanoHUB_citations__c\",\"createdById\":\"0055w00000DM5bOAAT\",\"createdDate\":\"2021-08-26T04:08:51.000+0000\",\"systemModstamp\":\"2021-08-26T04:08:52.000+0000\",\"state\":\"UploadComplete\",\"concurrencyMode\":\"Parallel\",\"contentType\":\"CSV\",\"apiVersion\":47.0,\"jobType\":\"V2Query\",\"lineEnding\":\"LF\",\"columnDelimiter\":\"COMMA\",\"retries\":0,\"totalProcessingTime\":0}\n"
     ]
    },
    {
     "name": "stdout",
     "output_type": "stream",
     "text": [
      "{\"id\":\"7505w00000ZJKifAAH\",\"operation\":\"query\",\"object\":\"nanoHUB_citations__c\",\"createdById\":\"0055w00000DM5bOAAT\",\"createdDate\":\"2021-08-26T04:08:51.000+0000\",\"systemModstamp\":\"2021-08-26T04:08:52.000+0000\",\"state\":\"UploadComplete\",\"concurrencyMode\":\"Parallel\",\"contentType\":\"CSV\",\"apiVersion\":47.0,\"jobType\":\"V2Query\",\"lineEnding\":\"LF\",\"columnDelimiter\":\"COMMA\",\"retries\":0,\"totalProcessingTime\":0}\n"
     ]
    },
    {
     "name": "stdout",
     "output_type": "stream",
     "text": [
      "{\"id\":\"7505w00000ZJKifAAH\",\"operation\":\"query\",\"object\":\"nanoHUB_citations__c\",\"createdById\":\"0055w00000DM5bOAAT\",\"createdDate\":\"2021-08-26T04:08:51.000+0000\",\"systemModstamp\":\"2021-08-26T04:09:13.000+0000\",\"state\":\"InProgress\",\"concurrencyMode\":\"Parallel\",\"contentType\":\"CSV\",\"apiVersion\":47.0,\"jobType\":\"V2Query\",\"lineEnding\":\"LF\",\"columnDelimiter\":\"COMMA\",\"numberRecordsProcessed\":0,\"retries\":0,\"totalProcessingTime\":0}\n"
     ]
    },
    {
     "name": "stdout",
     "output_type": "stream",
     "text": [
      "{\"id\":\"7505w00000ZJKifAAH\",\"operation\":\"query\",\"object\":\"nanoHUB_citations__c\",\"createdById\":\"0055w00000DM5bOAAT\",\"createdDate\":\"2021-08-26T04:08:51.000+0000\",\"systemModstamp\":\"2021-08-26T04:09:13.000+0000\",\"state\":\"InProgress\",\"concurrencyMode\":\"Parallel\",\"contentType\":\"CSV\",\"apiVersion\":47.0,\"jobType\":\"V2Query\",\"lineEnding\":\"LF\",\"columnDelimiter\":\"COMMA\",\"numberRecordsProcessed\":0,\"retries\":0,\"totalProcessingTime\":0}\n"
     ]
    },
    {
     "name": "stdout",
     "output_type": "stream",
     "text": [
      "{\"id\":\"7505w00000ZJKifAAH\",\"operation\":\"query\",\"object\":\"nanoHUB_citations__c\",\"createdById\":\"0055w00000DM5bOAAT\",\"createdDate\":\"2021-08-26T04:08:51.000+0000\",\"systemModstamp\":\"2021-08-26T04:09:37.000+0000\",\"state\":\"JobComplete\",\"concurrencyMode\":\"Parallel\",\"contentType\":\"CSV\",\"apiVersion\":47.0,\"jobType\":\"V2Query\",\"lineEnding\":\"LF\",\"columnDelimiter\":\"COMMA\",\"numberRecordsProcessed\":2517,\"retries\":0,\"totalProcessingTime\":467}\n",
      "[Success] Bulk job completed successfully.\n"
     ]
    }
   ],
   "source": [
    "# get Salesforce ID for citations\n",
    "sf_citation_df = db_s.query_data('SELECT Id, Year__c FROM nanoHUB_citations__c')"
   ]
  },
  {
   "cell_type": "code",
   "execution_count": 7,
   "id": "196ef7da",
   "metadata": {
    "execution": {
     "iopub.execute_input": "2021-08-26T04:09:45.034828Z",
     "iopub.status.busy": "2021-08-26T04:09:45.034012Z",
     "iopub.status.idle": "2021-08-26T04:10:07.319427Z",
     "shell.execute_reply": "2021-08-26T04:10:07.320249Z"
    },
    "jupyter": {
     "source_hidden": true
    },
    "papermill": {
     "duration": 22.388396,
     "end_time": "2021-08-26T04:10:07.320531",
     "exception": false,
     "start_time": "2021-08-26T04:09:44.932135",
     "status": "completed"
    },
    "tags": []
   },
   "outputs": [
    {
     "name": "stdout",
     "output_type": "stream",
     "text": [
      "[Success] Bulk job creation successful. Job ID = 7505w00000ZJKjOAAX\n"
     ]
    },
    {
     "name": "stdout",
     "output_type": "stream",
     "text": [
      "{\"id\":\"7505w00000ZJKjOAAX\",\"operation\":\"query\",\"object\":\"tool_usage_cluster__c\",\"createdById\":\"0055w00000DM5bOAAT\",\"createdDate\":\"2021-08-26T04:09:45.000+0000\",\"systemModstamp\":\"2021-08-26T04:09:45.000+0000\",\"state\":\"UploadComplete\",\"concurrencyMode\":\"Parallel\",\"contentType\":\"CSV\",\"apiVersion\":47.0,\"jobType\":\"V2Query\",\"lineEnding\":\"LF\",\"columnDelimiter\":\"COMMA\",\"retries\":0,\"totalProcessingTime\":0}\n"
     ]
    },
    {
     "name": "stdout",
     "output_type": "stream",
     "text": [
      "{\"id\":\"7505w00000ZJKjOAAX\",\"operation\":\"query\",\"object\":\"tool_usage_cluster__c\",\"createdById\":\"0055w00000DM5bOAAT\",\"createdDate\":\"2021-08-26T04:09:45.000+0000\",\"systemModstamp\":\"2021-08-26T04:09:45.000+0000\",\"state\":\"UploadComplete\",\"concurrencyMode\":\"Parallel\",\"contentType\":\"CSV\",\"apiVersion\":47.0,\"jobType\":\"V2Query\",\"lineEnding\":\"LF\",\"columnDelimiter\":\"COMMA\",\"retries\":0,\"totalProcessingTime\":0}\n"
     ]
    },
    {
     "name": "stdout",
     "output_type": "stream",
     "text": [
      "{\"id\":\"7505w00000ZJKjOAAX\",\"operation\":\"query\",\"object\":\"tool_usage_cluster__c\",\"createdById\":\"0055w00000DM5bOAAT\",\"createdDate\":\"2021-08-26T04:09:45.000+0000\",\"systemModstamp\":\"2021-08-26T04:10:05.000+0000\",\"state\":\"JobComplete\",\"concurrencyMode\":\"Parallel\",\"contentType\":\"CSV\",\"apiVersion\":47.0,\"jobType\":\"V2Query\",\"lineEnding\":\"LF\",\"columnDelimiter\":\"COMMA\",\"numberRecordsProcessed\":4290,\"retries\":0,\"totalProcessingTime\":394}\n",
      "[Success] Bulk job completed successfully.\n"
     ]
    }
   ],
   "source": [
    "# get Salesforce ID for clusters\n",
    "sf_cluster_df = db_s.query_data('SELECT Id, Starting_Date__c FROM tool_usage_cluster__c')"
   ]
  },
  {
   "cell_type": "markdown",
   "id": "0f618850",
   "metadata": {
    "papermill": {
     "duration": 0.11291,
     "end_time": "2021-08-26T04:10:07.535420",
     "exception": false,
     "start_time": "2021-08-26T04:10:07.422510",
     "status": "completed"
    },
    "tags": []
   },
   "source": [
    "## Determine domain by citation by latest citation"
   ]
  },
  {
   "cell_type": "code",
   "execution_count": 8,
   "id": "d614b80b",
   "metadata": {
    "execution": {
     "iopub.execute_input": "2021-08-26T04:10:07.774999Z",
     "iopub.status.busy": "2021-08-26T04:10:07.774348Z",
     "iopub.status.idle": "2021-08-26T04:10:07.793439Z",
     "shell.execute_reply": "2021-08-26T04:10:07.792770Z"
    },
    "jupyter": {
     "source_hidden": true
    },
    "papermill": {
     "duration": 0.128251,
     "end_time": "2021-08-26T04:10:07.796797",
     "exception": false,
     "start_time": "2021-08-26T04:10:07.668546",
     "status": "completed"
    },
    "scrolled": true,
    "tags": []
   },
   "outputs": [
    {
     "data": {
      "text/html": [
       "<div>\n",
       "<style scoped>\n",
       "    .dataframe tbody tr th:only-of-type {\n",
       "        vertical-align: middle;\n",
       "    }\n",
       "\n",
       "    .dataframe tbody tr th {\n",
       "        vertical-align: top;\n",
       "    }\n",
       "\n",
       "    .dataframe thead th {\n",
       "        text-align: right;\n",
       "    }\n",
       "</style>\n",
       "<table border=\"1\" class=\"dataframe\">\n",
       "  <thead>\n",
       "    <tr style=\"text-align: right;\">\n",
       "      <th></th>\n",
       "      <th>Id</th>\n",
       "      <th>Year__c</th>\n",
       "    </tr>\n",
       "  </thead>\n",
       "  <tbody>\n",
       "    <tr>\n",
       "      <th>0</th>\n",
       "      <td>a0t5w000008p7pSAAQ</td>\n",
       "      <td>2012.0</td>\n",
       "    </tr>\n",
       "    <tr>\n",
       "      <th>1</th>\n",
       "      <td>a0t5w000008p7pTAAQ</td>\n",
       "      <td>2013.0</td>\n",
       "    </tr>\n",
       "  </tbody>\n",
       "</table>\n",
       "</div>"
      ],
      "text/plain": [
       "                   Id  Year__c\n",
       "0  a0t5w000008p7pSAAQ   2012.0\n",
       "1  a0t5w000008p7pTAAQ   2013.0"
      ]
     },
     "metadata": {},
     "output_type": "display_data"
    },
    {
     "data": {
      "text/html": [
       "<div>\n",
       "<style scoped>\n",
       "    .dataframe tbody tr th:only-of-type {\n",
       "        vertical-align: middle;\n",
       "    }\n",
       "\n",
       "    .dataframe tbody tr th {\n",
       "        vertical-align: top;\n",
       "    }\n",
       "\n",
       "    .dataframe thead th {\n",
       "        text-align: right;\n",
       "    }\n",
       "</style>\n",
       "<table border=\"1\" class=\"dataframe\">\n",
       "  <thead>\n",
       "    <tr style=\"text-align: right;\">\n",
       "      <th></th>\n",
       "      <th>Citation__c</th>\n",
       "      <th>Contact__c</th>\n",
       "      <th>Id</th>\n",
       "      <th>Organization__c</th>\n",
       "    </tr>\n",
       "  </thead>\n",
       "  <tbody>\n",
       "    <tr>\n",
       "      <th>0</th>\n",
       "      <td>a0t5w000008p7pSAAQ</td>\n",
       "      <td>0035w000034JLpOAAW</td>\n",
       "      <td>a0u5w00000RhVhTAAV</td>\n",
       "      <td>a0r5w00000V42cCAAR</td>\n",
       "    </tr>\n",
       "    <tr>\n",
       "      <th>1</th>\n",
       "      <td>a0t5w000008p7q1AAA</td>\n",
       "      <td>0035w000034JLpOAAW</td>\n",
       "      <td>a0u5w00000RhVhUAAV</td>\n",
       "      <td>a0r5w00000V42cCAAR</td>\n",
       "    </tr>\n",
       "  </tbody>\n",
       "</table>\n",
       "</div>"
      ],
      "text/plain": [
       "          Citation__c          Contact__c                  Id  \\\n",
       "0  a0t5w000008p7pSAAQ  0035w000034JLpOAAW  a0u5w00000RhVhTAAV   \n",
       "1  a0t5w000008p7q1AAA  0035w000034JLpOAAW  a0u5w00000RhVhUAAV   \n",
       "\n",
       "      Organization__c  \n",
       "0  a0r5w00000V42cCAAR  \n",
       "1  a0r5w00000V42cCAAR  "
      ]
     },
     "metadata": {},
     "output_type": "display_data"
    }
   ],
   "source": [
    "# display data used in this section\n",
    "display(sf_citation_df.head(2))\n",
    "display(sf_citation_asso_df.head(2))"
   ]
  },
  {
   "cell_type": "code",
   "execution_count": 9,
   "id": "184d7822",
   "metadata": {
    "execution": {
     "iopub.execute_input": "2021-08-26T04:10:08.036083Z",
     "iopub.status.busy": "2021-08-26T04:10:08.035129Z",
     "iopub.status.idle": "2021-08-26T04:10:08.047002Z",
     "shell.execute_reply": "2021-08-26T04:10:08.047413Z"
    },
    "jupyter": {
     "source_hidden": true
    },
    "papermill": {
     "duration": 0.127529,
     "end_time": "2021-08-26T04:10:08.047628",
     "exception": false,
     "start_time": "2021-08-26T04:10:07.920099",
     "status": "completed"
    },
    "tags": []
   },
   "outputs": [
    {
     "data": {
      "text/html": [
       "<div>\n",
       "<style scoped>\n",
       "    .dataframe tbody tr th:only-of-type {\n",
       "        vertical-align: middle;\n",
       "    }\n",
       "\n",
       "    .dataframe tbody tr th {\n",
       "        vertical-align: top;\n",
       "    }\n",
       "\n",
       "    .dataframe thead th {\n",
       "        text-align: right;\n",
       "    }\n",
       "</style>\n",
       "<table border=\"1\" class=\"dataframe\">\n",
       "  <thead>\n",
       "    <tr style=\"text-align: right;\">\n",
       "      <th></th>\n",
       "      <th>Id</th>\n",
       "      <th>Year__c</th>\n",
       "      <th>Citation__c</th>\n",
       "      <th>Contact__c</th>\n",
       "      <th>Id_citation_asso</th>\n",
       "      <th>Organization__c</th>\n",
       "    </tr>\n",
       "  </thead>\n",
       "  <tbody>\n",
       "    <tr>\n",
       "      <th>0</th>\n",
       "      <td>a0t5w000008p7pSAAQ</td>\n",
       "      <td>2012.0</td>\n",
       "      <td>a0t5w000008p7pSAAQ</td>\n",
       "      <td>0035w000034JLpOAAW</td>\n",
       "      <td>a0u5w00000RhVhTAAV</td>\n",
       "      <td>a0r5w00000V42cCAAR</td>\n",
       "    </tr>\n",
       "    <tr>\n",
       "      <th>1</th>\n",
       "      <td>a0t5w000008p7pSAAQ</td>\n",
       "      <td>2012.0</td>\n",
       "      <td>a0t5w000008p7pSAAQ</td>\n",
       "      <td>0035w000034JLfwAAG</td>\n",
       "      <td>a0u5w00000RhVi2AAF</td>\n",
       "      <td>a0r5w00000V42cCAAR</td>\n",
       "    </tr>\n",
       "  </tbody>\n",
       "</table>\n",
       "</div>"
      ],
      "text/plain": [
       "                   Id  Year__c         Citation__c          Contact__c  \\\n",
       "0  a0t5w000008p7pSAAQ   2012.0  a0t5w000008p7pSAAQ  0035w000034JLpOAAW   \n",
       "1  a0t5w000008p7pSAAQ   2012.0  a0t5w000008p7pSAAQ  0035w000034JLfwAAG   \n",
       "\n",
       "     Id_citation_asso     Organization__c  \n",
       "0  a0u5w00000RhVhTAAV  a0r5w00000V42cCAAR  \n",
       "1  a0u5w00000RhVi2AAF  a0r5w00000V42cCAAR  "
      ]
     },
     "execution_count": 9,
     "metadata": {},
     "output_type": "execute_result"
    }
   ],
   "source": [
    "overall_df = pd.merge(sf_citation_df, sf_citation_asso_df, \\\n",
    "                      how='inner', left_on='Id', right_on='Citation__c', suffixes=['', '_citation_asso'])\n",
    "\n",
    "# display\n",
    "overall_df.head(2)"
   ]
  },
  {
   "cell_type": "code",
   "execution_count": 10,
   "id": "e85ebe3b",
   "metadata": {
    "execution": {
     "iopub.execute_input": "2021-08-26T04:10:08.312209Z",
     "iopub.status.busy": "2021-08-26T04:10:08.310195Z",
     "iopub.status.idle": "2021-08-26T04:10:08.757408Z",
     "shell.execute_reply": "2021-08-26T04:10:08.757918Z"
    },
    "jupyter": {
     "source_hidden": true
    },
    "papermill": {
     "duration": 0.583099,
     "end_time": "2021-08-26T04:10:08.758103",
     "exception": false,
     "start_time": "2021-08-26T04:10:08.175004",
     "status": "completed"
    },
    "scrolled": true,
    "tags": []
   },
   "outputs": [
    {
     "data": {
      "text/html": [
       "<div>\n",
       "<style scoped>\n",
       "    .dataframe tbody tr th:only-of-type {\n",
       "        vertical-align: middle;\n",
       "    }\n",
       "\n",
       "    .dataframe tbody tr th {\n",
       "        vertical-align: top;\n",
       "    }\n",
       "\n",
       "    .dataframe thead th {\n",
       "        text-align: right;\n",
       "    }\n",
       "</style>\n",
       "<table border=\"1\" class=\"dataframe\">\n",
       "  <thead>\n",
       "    <tr style=\"text-align: right;\">\n",
       "      <th></th>\n",
       "      <th>Contact__c</th>\n",
       "      <th>Organization_citation_derived__c</th>\n",
       "    </tr>\n",
       "  </thead>\n",
       "  <tbody>\n",
       "    <tr>\n",
       "      <th>0</th>\n",
       "      <td>0035w000031Vt92AAC</td>\n",
       "      <td>a0r5w00000V42pJAAR</td>\n",
       "    </tr>\n",
       "    <tr>\n",
       "      <th>1</th>\n",
       "      <td>0035w000031Vt9kAAC</td>\n",
       "      <td>a0r5w00000V42nyAAB</td>\n",
       "    </tr>\n",
       "  </tbody>\n",
       "</table>\n",
       "</div>"
      ],
      "text/plain": [
       "           Contact__c Organization_citation_derived__c\n",
       "0  0035w000031Vt92AAC               a0r5w00000V42pJAAR\n",
       "1  0035w000031Vt9kAAC               a0r5w00000V42nyAAB"
      ]
     },
     "execution_count": 10,
     "metadata": {},
     "output_type": "execute_result"
    }
   ],
   "source": [
    "# infer contact's organziation by using latest citation organization\n",
    "org_from_citation_df = overall_df.groupby('Contact__c').apply(lambda x: \\\n",
    "                                                   x.sort_values(by=['Year__c'], ascending=False).head(1).Organization__c.iloc[0])\\\n",
    "                                            .dropna().reset_index(name='Organization_citation_derived__c')\n",
    "\n",
    "# display\n",
    "org_from_citation_df.head(2)"
   ]
  },
  {
   "cell_type": "code",
   "execution_count": 11,
   "id": "ebb4337d",
   "metadata": {
    "execution": {
     "iopub.execute_input": "2021-08-26T04:10:08.985216Z",
     "iopub.status.busy": "2021-08-26T04:10:08.984576Z",
     "iopub.status.idle": "2021-08-26T04:10:08.987891Z",
     "shell.execute_reply": "2021-08-26T04:10:08.988285Z"
    },
    "jupyter": {
     "source_hidden": true
    },
    "papermill": {
     "duration": 0.121108,
     "end_time": "2021-08-26T04:10:08.988535",
     "exception": false,
     "start_time": "2021-08-26T04:10:08.867427",
     "status": "completed"
    },
    "tags": []
   },
   "outputs": [
    {
     "data": {
      "text/html": [
       "<div>\n",
       "<style scoped>\n",
       "    .dataframe tbody tr th:only-of-type {\n",
       "        vertical-align: middle;\n",
       "    }\n",
       "\n",
       "    .dataframe tbody tr th {\n",
       "        vertical-align: top;\n",
       "    }\n",
       "\n",
       "    .dataframe thead th {\n",
       "        text-align: right;\n",
       "    }\n",
       "</style>\n",
       "<table border=\"1\" class=\"dataframe\">\n",
       "  <thead>\n",
       "    <tr style=\"text-align: right;\">\n",
       "      <th></th>\n",
       "      <th>0</th>\n",
       "      <th>1</th>\n",
       "    </tr>\n",
       "  </thead>\n",
       "  <tbody>\n",
       "    <tr>\n",
       "      <th>Id</th>\n",
       "      <td>0035w000031Vt92AAC</td>\n",
       "      <td>0035w000031Vt9kAAC</td>\n",
       "    </tr>\n",
       "    <tr>\n",
       "      <th>Organization_citation_derived__c</th>\n",
       "      <td>a0r5w00000V42pJAAR</td>\n",
       "      <td>a0r5w00000V42nyAAB</td>\n",
       "    </tr>\n",
       "  </tbody>\n",
       "</table>\n",
       "</div>"
      ],
      "text/plain": [
       "                                                   0                   1\n",
       "Id                                0035w000031Vt92AAC  0035w000031Vt9kAAC\n",
       "Organization_citation_derived__c  a0r5w00000V42pJAAR  a0r5w00000V42nyAAB"
      ]
     },
     "execution_count": 11,
     "metadata": {},
     "output_type": "execute_result"
    }
   ],
   "source": [
    "# Send data to Salesforce\n",
    "\n",
    "df_sf = pd.DataFrame()\n",
    "\n",
    "# Make sure NaN and NaT values are taken care of here\n",
    "df_sf['Id']         = org_from_citation_df['Contact__c']\n",
    "df_sf['Organization_citation_derived__c'] = org_from_citation_df['Organization_citation_derived__c']\n",
    "\n",
    "sf_original_fields = df_sf.columns\n",
    "\n",
    "# display\n",
    "df_sf.head(2).T"
   ]
  },
  {
   "cell_type": "code",
   "execution_count": 12,
   "id": "17c58915",
   "metadata": {
    "execution": {
     "iopub.execute_input": "2021-08-26T04:10:09.233900Z",
     "iopub.status.busy": "2021-08-26T04:10:09.233123Z",
     "iopub.status.idle": "2021-08-26T04:10:09.235408Z",
     "shell.execute_reply": "2021-08-26T04:10:09.235830Z"
    },
    "jupyter": {
     "source_hidden": true
    },
    "papermill": {
     "duration": 0.128239,
     "end_time": "2021-08-26T04:10:09.236239",
     "exception": false,
     "start_time": "2021-08-26T04:10:09.108000",
     "status": "completed"
    },
    "tags": []
   },
   "outputs": [],
   "source": [
    "db_s = salesforce\n",
    "\n",
    "# specify Salesforce object ID and external ID\n",
    "db_s.object_id = 'Contact'\n",
    "db_s.external_id = 'Id'"
   ]
  },
  {
   "cell_type": "code",
   "execution_count": 13,
   "id": "92e4192c",
   "metadata": {
    "execution": {
     "iopub.execute_input": "2021-08-26T04:10:09.460498Z",
     "iopub.status.busy": "2021-08-26T04:10:09.459519Z",
     "iopub.status.idle": "2021-08-26T04:10:10.793488Z",
     "shell.execute_reply": "2021-08-26T04:10:10.793865Z"
    },
    "jupyter": {
     "source_hidden": true
    },
    "papermill": {
     "duration": 1.447923,
     "end_time": "2021-08-26T04:10:10.794029",
     "exception": false,
     "start_time": "2021-08-26T04:10:09.346106",
     "status": "completed"
    },
    "tags": []
   },
   "outputs": [
    {
     "name": "stdout",
     "output_type": "stream",
     "text": [
      "[Success] Bulk job creation successful. Job ID = 7505w00000ZJKkMAAX\n",
      "hello\n"
     ]
    },
    {
     "name": "stdout",
     "output_type": "stream",
     "text": [
      "[Success] CSV upload successful. Job ID = 7505w00000ZJKkMAAX\n"
     ]
    },
    {
     "name": "stdout",
     "output_type": "stream",
     "text": [
      "[Success] Closing job successful. Job ID = 7505w00000ZJKkMAAX\n"
     ]
    }
   ],
   "source": [
    "# send data to Salesforce\n",
    "db_s.send_data(df_sf)"
   ]
  },
  {
   "cell_type": "code",
   "execution_count": 14,
   "id": "10ee912e",
   "metadata": {
    "execution": {
     "iopub.execute_input": "2021-08-26T04:10:11.032755Z",
     "iopub.status.busy": "2021-08-26T04:10:11.032030Z",
     "iopub.status.idle": "2021-08-26T04:10:11.331617Z",
     "shell.execute_reply": "2021-08-26T04:10:11.331997Z"
    },
    "jupyter": {
     "source_hidden": true
    },
    "papermill": {
     "duration": 0.411925,
     "end_time": "2021-08-26T04:10:11.332168",
     "exception": false,
     "start_time": "2021-08-26T04:10:10.920243",
     "status": "completed"
    },
    "tags": []
   },
   "outputs": [
    {
     "name": "stdout",
     "output_type": "stream",
     "text": [
      "{'apexProcessingTime': 0,\n",
      " 'apiActiveProcessingTime': 0,\n",
      " 'apiVersion': 47.0,\n",
      " 'columnDelimiter': 'COMMA',\n",
      " 'concurrencyMode': 'Parallel',\n",
      " 'contentType': 'CSV',\n",
      " 'createdById': '0055w00000DM5bOAAT',\n",
      " 'createdDate': '2021-08-26T04:10:09.000+0000',\n",
      " 'externalIdFieldName': 'Id',\n",
      " 'id': '7505w00000ZJKkMAAX',\n",
      " 'jobType': 'V2Ingest',\n",
      " 'lineEnding': 'LF',\n",
      " 'numberRecordsFailed': 0,\n",
      " 'numberRecordsProcessed': 0,\n",
      " 'object': 'Contact',\n",
      " 'operation': 'upsert',\n",
      " 'retries': 0,\n",
      " 'state': 'UploadComplete',\n",
      " 'systemModstamp': '2021-08-26T04:10:10.000+0000',\n",
      " 'totalProcessingTime': 0}\n"
     ]
    }
   ],
   "source": [
    "# check status\n",
    "from pprint import pprint\n",
    "\n",
    "pprint(db_s.check_bulk_status())"
   ]
  },
  {
   "cell_type": "markdown",
   "id": "5d6168fd",
   "metadata": {
    "papermill": {
     "duration": 0.105149,
     "end_time": "2021-08-26T04:10:11.553897",
     "exception": false,
     "start_time": "2021-08-26T04:10:11.448748",
     "status": "completed"
    },
    "tags": []
   },
   "source": [
    "## Determine cluster's domain by contact information"
   ]
  },
  {
   "cell_type": "code",
   "execution_count": 15,
   "id": "6d62b4fc",
   "metadata": {
    "execution": {
     "iopub.execute_input": "2021-08-26T04:10:11.776274Z",
     "iopub.status.busy": "2021-08-26T04:10:11.775483Z",
     "iopub.status.idle": "2021-08-26T04:10:11.782764Z",
     "shell.execute_reply": "2021-08-26T04:10:11.783135Z"
    },
    "jupyter": {
     "source_hidden": true
    },
    "papermill": {
     "duration": 0.121556,
     "end_time": "2021-08-26T04:10:11.783369",
     "exception": false,
     "start_time": "2021-08-26T04:10:11.661813",
     "status": "completed"
    },
    "tags": []
   },
   "outputs": [
    {
     "data": {
      "text/html": [
       "<div>\n",
       "<style scoped>\n",
       "    .dataframe tbody tr th:only-of-type {\n",
       "        vertical-align: middle;\n",
       "    }\n",
       "\n",
       "    .dataframe tbody tr th {\n",
       "        vertical-align: top;\n",
       "    }\n",
       "\n",
       "    .dataframe thead th {\n",
       "        text-align: right;\n",
       "    }\n",
       "</style>\n",
       "<table border=\"1\" class=\"dataframe\">\n",
       "  <thead>\n",
       "    <tr style=\"text-align: right;\">\n",
       "      <th></th>\n",
       "      <th>Contact__c</th>\n",
       "      <th>Id</th>\n",
       "      <th>Tool_Usage_Cluster__c</th>\n",
       "    </tr>\n",
       "  </thead>\n",
       "  <tbody>\n",
       "    <tr>\n",
       "      <th>0</th>\n",
       "      <td>0035w000034JG1EAAW</td>\n",
       "      <td>a0x5w00000cMzV5AAK</td>\n",
       "      <td>a0w5w000009Q7m3AAC</td>\n",
       "    </tr>\n",
       "    <tr>\n",
       "      <th>1</th>\n",
       "      <td>0035w000034I5sjAAC</td>\n",
       "      <td>a0x5w00000cMzVAAA0</td>\n",
       "      <td>a0w5w000009Q7m3AAC</td>\n",
       "    </tr>\n",
       "  </tbody>\n",
       "</table>\n",
       "</div>"
      ],
      "text/plain": [
       "           Contact__c                  Id Tool_Usage_Cluster__c\n",
       "0  0035w000034JG1EAAW  a0x5w00000cMzV5AAK    a0w5w000009Q7m3AAC\n",
       "1  0035w000034I5sjAAC  a0x5w00000cMzVAAA0    a0w5w000009Q7m3AAC"
      ]
     },
     "metadata": {},
     "output_type": "display_data"
    },
    {
     "data": {
      "text/html": [
       "<div>\n",
       "<style scoped>\n",
       "    .dataframe tbody tr th:only-of-type {\n",
       "        vertical-align: middle;\n",
       "    }\n",
       "\n",
       "    .dataframe tbody tr th {\n",
       "        vertical-align: top;\n",
       "    }\n",
       "\n",
       "    .dataframe thead th {\n",
       "        text-align: right;\n",
       "    }\n",
       "</style>\n",
       "<table border=\"1\" class=\"dataframe\">\n",
       "  <thead>\n",
       "    <tr style=\"text-align: right;\">\n",
       "      <th></th>\n",
       "      <th>Id</th>\n",
       "      <th>Organization_Overwrite__c</th>\n",
       "      <th>Organization_email_derived__c</th>\n",
       "    </tr>\n",
       "  </thead>\n",
       "  <tbody>\n",
       "    <tr>\n",
       "      <th>0</th>\n",
       "      <td>0035w000031Vsp1AAC</td>\n",
       "      <td>NaN</td>\n",
       "      <td>NaN</td>\n",
       "    </tr>\n",
       "    <tr>\n",
       "      <th>1</th>\n",
       "      <td>0035w000031Vsp2AAC</td>\n",
       "      <td>NaN</td>\n",
       "      <td>a0r5w00000V42cCAAR</td>\n",
       "    </tr>\n",
       "  </tbody>\n",
       "</table>\n",
       "</div>"
      ],
      "text/plain": [
       "                   Id Organization_Overwrite__c Organization_email_derived__c\n",
       "0  0035w000031Vsp1AAC                       NaN                           NaN\n",
       "1  0035w000031Vsp2AAC                       NaN            a0r5w00000V42cCAAR"
      ]
     },
     "metadata": {},
     "output_type": "display_data"
    }
   ],
   "source": [
    "# display data used in this section\n",
    "display(sf_cluster_asso_df.head(2))\n",
    "display(sf_contact_df.head(2))"
   ]
  },
  {
   "cell_type": "code",
   "execution_count": 16,
   "id": "7a49c4c1",
   "metadata": {
    "execution": {
     "iopub.execute_input": "2021-08-26T04:10:12.018520Z",
     "iopub.status.busy": "2021-08-26T04:10:12.017513Z",
     "iopub.status.idle": "2021-08-26T04:10:12.019891Z",
     "shell.execute_reply": "2021-08-26T04:10:12.020323Z"
    },
    "jupyter": {
     "source_hidden": true
    },
    "papermill": {
     "duration": 0.124555,
     "end_time": "2021-08-26T04:10:12.020499",
     "exception": false,
     "start_time": "2021-08-26T04:10:11.895944",
     "status": "completed"
    },
    "tags": []
   },
   "outputs": [],
   "source": [
    "# Convert time to datetime in Pandas\n",
    "sf_cluster_df['Starting_Date__c'] = pd.to_datetime(sf_cluster_df.Starting_Date__c)"
   ]
  },
  {
   "cell_type": "code",
   "execution_count": 17,
   "id": "9b446d26",
   "metadata": {
    "execution": {
     "iopub.execute_input": "2021-08-26T04:10:12.325079Z",
     "iopub.status.busy": "2021-08-26T04:10:12.323520Z",
     "iopub.status.idle": "2021-08-26T04:10:12.408369Z",
     "shell.execute_reply": "2021-08-26T04:10:12.408766Z"
    },
    "jupyter": {
     "source_hidden": true
    },
    "papermill": {
     "duration": 0.274562,
     "end_time": "2021-08-26T04:10:12.409088",
     "exception": false,
     "start_time": "2021-08-26T04:10:12.134526",
     "status": "completed"
    },
    "tags": []
   },
   "outputs": [
    {
     "data": {
      "text/html": [
       "<div>\n",
       "<style scoped>\n",
       "    .dataframe tbody tr th:only-of-type {\n",
       "        vertical-align: middle;\n",
       "    }\n",
       "\n",
       "    .dataframe tbody tr th {\n",
       "        vertical-align: top;\n",
       "    }\n",
       "\n",
       "    .dataframe thead th {\n",
       "        text-align: right;\n",
       "    }\n",
       "</style>\n",
       "<table border=\"1\" class=\"dataframe\">\n",
       "  <thead>\n",
       "    <tr style=\"text-align: right;\">\n",
       "      <th></th>\n",
       "      <th>Tool_Usage_Cluster__c</th>\n",
       "      <th>Organization_Overwrite__c</th>\n",
       "      <th>Organization_email_derived__c</th>\n",
       "    </tr>\n",
       "  </thead>\n",
       "  <tbody>\n",
       "    <tr>\n",
       "      <th>0</th>\n",
       "      <td>a0w5w000009Q7m3AAC</td>\n",
       "      <td>NaN</td>\n",
       "      <td>a0r5w00000V42cCAAR</td>\n",
       "    </tr>\n",
       "    <tr>\n",
       "      <th>1</th>\n",
       "      <td>a0w5w000009Q7lsAAC</td>\n",
       "      <td>NaN</td>\n",
       "      <td>a0r5w00000V42cCAAR</td>\n",
       "    </tr>\n",
       "  </tbody>\n",
       "</table>\n",
       "</div>"
      ],
      "text/plain": [
       "  Tool_Usage_Cluster__c Organization_Overwrite__c  \\\n",
       "0    a0w5w000009Q7m3AAC                       NaN   \n",
       "1    a0w5w000009Q7lsAAC                       NaN   \n",
       "\n",
       "  Organization_email_derived__c  \n",
       "0            a0r5w00000V42cCAAR  \n",
       "1            a0r5w00000V42cCAAR  "
      ]
     },
     "execution_count": 17,
     "metadata": {},
     "output_type": "execute_result"
    }
   ],
   "source": [
    "overall_df = pd.merge(sf_cluster_asso_df[['Contact__c', 'Tool_Usage_Cluster__c']], sf_contact_df, \\\n",
    "                                     how ='inner', left_on='Contact__c', right_on='Id' )\n",
    "\n",
    "overall_df.drop(columns=['Id', 'Contact__c'], inplace=True)\n",
    "\n",
    "# display\n",
    "overall_df.head(2)"
   ]
  },
  {
   "cell_type": "code",
   "execution_count": 18,
   "id": "0ce42a6a",
   "metadata": {
    "execution": {
     "iopub.execute_input": "2021-08-26T04:10:12.670803Z",
     "iopub.status.busy": "2021-08-26T04:10:12.670104Z",
     "iopub.status.idle": "2021-08-26T04:10:14.289450Z",
     "shell.execute_reply": "2021-08-26T04:10:14.289980Z"
    },
    "jupyter": {
     "source_hidden": true
    },
    "papermill": {
     "duration": 1.745999,
     "end_time": "2021-08-26T04:10:14.290227",
     "exception": false,
     "start_time": "2021-08-26T04:10:12.544228",
     "status": "completed"
    },
    "tags": []
   },
   "outputs": [
    {
     "data": {
      "text/html": [
       "<div>\n",
       "<style scoped>\n",
       "    .dataframe tbody tr th:only-of-type {\n",
       "        vertical-align: middle;\n",
       "    }\n",
       "\n",
       "    .dataframe tbody tr th {\n",
       "        vertical-align: top;\n",
       "    }\n",
       "\n",
       "    .dataframe thead th {\n",
       "        text-align: right;\n",
       "    }\n",
       "</style>\n",
       "<table border=\"1\" class=\"dataframe\">\n",
       "  <thead>\n",
       "    <tr style=\"text-align: right;\">\n",
       "      <th></th>\n",
       "      <th>Tool_Usage_Cluster__c</th>\n",
       "      <th>Organization_Overwrite__c</th>\n",
       "      <th>Organization_email_derived__c</th>\n",
       "      <th>final_org</th>\n",
       "    </tr>\n",
       "  </thead>\n",
       "  <tbody>\n",
       "    <tr>\n",
       "      <th>0</th>\n",
       "      <td>a0w5w000009Q7m3AAC</td>\n",
       "      <td>NaN</td>\n",
       "      <td>a0r5w00000V42cCAAR</td>\n",
       "      <td>a0r5w00000V42cCAAR</td>\n",
       "    </tr>\n",
       "    <tr>\n",
       "      <th>1</th>\n",
       "      <td>a0w5w000009Q7lsAAC</td>\n",
       "      <td>NaN</td>\n",
       "      <td>a0r5w00000V42cCAAR</td>\n",
       "      <td>a0r5w00000V42cCAAR</td>\n",
       "    </tr>\n",
       "  </tbody>\n",
       "</table>\n",
       "</div>"
      ],
      "text/plain": [
       "  Tool_Usage_Cluster__c Organization_Overwrite__c  \\\n",
       "0    a0w5w000009Q7m3AAC                       NaN   \n",
       "1    a0w5w000009Q7lsAAC                       NaN   \n",
       "\n",
       "  Organization_email_derived__c           final_org  \n",
       "0            a0r5w00000V42cCAAR  a0r5w00000V42cCAAR  \n",
       "1            a0r5w00000V42cCAAR  a0r5w00000V42cCAAR  "
      ]
     },
     "execution_count": 18,
     "metadata": {},
     "output_type": "execute_result"
    }
   ],
   "source": [
    "# apply overwrite\n",
    "overall_df['final_org'] = overall_df.fillna('').apply(lambda x: \\\n",
    "                                    x.Organization_Overwrite__c if x.Organization_Overwrite__c!='' \\\n",
    "                                    else x.Organization_email_derived__c, axis=1)\n",
    "\n",
    "# display\n",
    "overall_df.head(2)"
   ]
  },
  {
   "cell_type": "code",
   "execution_count": 19,
   "id": "ee4b9bf8",
   "metadata": {
    "execution": {
     "iopub.execute_input": "2021-08-26T04:10:14.543370Z",
     "iopub.status.busy": "2021-08-26T04:10:14.542745Z",
     "iopub.status.idle": "2021-08-26T04:10:15.391299Z",
     "shell.execute_reply": "2021-08-26T04:10:15.392235Z"
    },
    "jupyter": {
     "source_hidden": true
    },
    "papermill": {
     "duration": 0.984479,
     "end_time": "2021-08-26T04:10:15.392534",
     "exception": false,
     "start_time": "2021-08-26T04:10:14.408055",
     "status": "completed"
    },
    "tags": []
   },
   "outputs": [
    {
     "data": {
      "text/html": [
       "<div>\n",
       "<style scoped>\n",
       "    .dataframe tbody tr th:only-of-type {\n",
       "        vertical-align: middle;\n",
       "    }\n",
       "\n",
       "    .dataframe tbody tr th {\n",
       "        vertical-align: top;\n",
       "    }\n",
       "\n",
       "    .dataframe thead th {\n",
       "        text-align: right;\n",
       "    }\n",
       "</style>\n",
       "<table border=\"1\" class=\"dataframe\">\n",
       "  <thead>\n",
       "    <tr style=\"text-align: right;\">\n",
       "      <th></th>\n",
       "      <th>Tool_Usage_Cluster__c</th>\n",
       "      <th>Organization__c</th>\n",
       "    </tr>\n",
       "  </thead>\n",
       "  <tbody>\n",
       "    <tr>\n",
       "      <th>0</th>\n",
       "      <td>a0w5w000009Q7CuAAK</td>\n",
       "      <td></td>\n",
       "    </tr>\n",
       "    <tr>\n",
       "      <th>1</th>\n",
       "      <td>a0w5w000009Q7CvAAK</td>\n",
       "      <td>a0r5w00000V42iyAAB</td>\n",
       "    </tr>\n",
       "  </tbody>\n",
       "</table>\n",
       "</div>"
      ],
      "text/plain": [
       "  Tool_Usage_Cluster__c     Organization__c\n",
       "0    a0w5w000009Q7CuAAK                    \n",
       "1    a0w5w000009Q7CvAAK  a0r5w00000V42iyAAB"
      ]
     },
     "execution_count": 19,
     "metadata": {},
     "output_type": "execute_result"
    }
   ],
   "source": [
    "# infer the organization of this cluster through majority vote\n",
    "org_from_cluster_df = overall_df.groupby('Tool_Usage_Cluster__c').final_org.apply(lambda x: \\\n",
    "                                                   x.mode().iloc[0])\\\n",
    "                                            .dropna().reset_index(name='Organization__c')\n",
    "\n",
    "# display\n",
    "org_from_cluster_df.head(2)"
   ]
  },
  {
   "cell_type": "code",
   "execution_count": 20,
   "id": "3f63d064",
   "metadata": {
    "execution": {
     "iopub.execute_input": "2021-08-26T04:10:15.682423Z",
     "iopub.status.busy": "2021-08-26T04:10:15.681703Z",
     "iopub.status.idle": "2021-08-26T04:10:15.685264Z",
     "shell.execute_reply": "2021-08-26T04:10:15.685664Z"
    },
    "jupyter": {
     "source_hidden": true
    },
    "papermill": {
     "duration": 0.147329,
     "end_time": "2021-08-26T04:10:15.685903",
     "exception": false,
     "start_time": "2021-08-26T04:10:15.538574",
     "status": "completed"
    },
    "tags": []
   },
   "outputs": [
    {
     "data": {
      "text/html": [
       "<div>\n",
       "<style scoped>\n",
       "    .dataframe tbody tr th:only-of-type {\n",
       "        vertical-align: middle;\n",
       "    }\n",
       "\n",
       "    .dataframe tbody tr th {\n",
       "        vertical-align: top;\n",
       "    }\n",
       "\n",
       "    .dataframe thead th {\n",
       "        text-align: right;\n",
       "    }\n",
       "</style>\n",
       "<table border=\"1\" class=\"dataframe\">\n",
       "  <thead>\n",
       "    <tr style=\"text-align: right;\">\n",
       "      <th></th>\n",
       "      <th>0</th>\n",
       "      <th>1</th>\n",
       "    </tr>\n",
       "  </thead>\n",
       "  <tbody>\n",
       "    <tr>\n",
       "      <th>Id</th>\n",
       "      <td>a0w5w000009Q7CuAAK</td>\n",
       "      <td>a0w5w000009Q7CvAAK</td>\n",
       "    </tr>\n",
       "    <tr>\n",
       "      <th>Organization__c</th>\n",
       "      <td></td>\n",
       "      <td>a0r5w00000V42iyAAB</td>\n",
       "    </tr>\n",
       "  </tbody>\n",
       "</table>\n",
       "</div>"
      ],
      "text/plain": [
       "                                  0                   1\n",
       "Id               a0w5w000009Q7CuAAK  a0w5w000009Q7CvAAK\n",
       "Organization__c                      a0r5w00000V42iyAAB"
      ]
     },
     "execution_count": 20,
     "metadata": {},
     "output_type": "execute_result"
    }
   ],
   "source": [
    "# Send data to Salesforce\n",
    "\n",
    "df_sf = pd.DataFrame()\n",
    "\n",
    "# Make sure NaN and NaT values are taken care of here\n",
    "df_sf['Id']         = org_from_cluster_df['Tool_Usage_Cluster__c']\n",
    "df_sf['Organization__c'] = org_from_cluster_df['Organization__c']\n",
    "\n",
    "sf_original_fields = df_sf.columns\n",
    "\n",
    "# display\n",
    "df_sf.head(2).T"
   ]
  },
  {
   "cell_type": "code",
   "execution_count": 21,
   "id": "ff61a612",
   "metadata": {
    "execution": {
     "iopub.execute_input": "2021-08-26T04:10:15.957002Z",
     "iopub.status.busy": "2021-08-26T04:10:15.956233Z",
     "iopub.status.idle": "2021-08-26T04:10:15.958158Z",
     "shell.execute_reply": "2021-08-26T04:10:15.958546Z"
    },
    "jupyter": {
     "source_hidden": true
    },
    "papermill": {
     "duration": 0.140788,
     "end_time": "2021-08-26T04:10:15.958754",
     "exception": false,
     "start_time": "2021-08-26T04:10:15.817966",
     "status": "completed"
    },
    "tags": []
   },
   "outputs": [],
   "source": [
    "# create DB2 to Salesforce API object\n",
    "db_s = salesforce\n",
    "\n",
    "# specify Salesforce object ID and external ID\n",
    "db_s.object_id = 'tool_usage_cluster__c'\n",
    "db_s.external_id = 'Id'"
   ]
  },
  {
   "cell_type": "code",
   "execution_count": 22,
   "id": "6bc15e90",
   "metadata": {
    "execution": {
     "iopub.execute_input": "2021-08-26T04:10:16.213213Z",
     "iopub.status.busy": "2021-08-26T04:10:16.212287Z",
     "iopub.status.idle": "2021-08-26T04:10:17.102147Z",
     "shell.execute_reply": "2021-08-26T04:10:17.102550Z"
    },
    "jupyter": {
     "source_hidden": true
    },
    "papermill": {
     "duration": 1.019204,
     "end_time": "2021-08-26T04:10:17.102717",
     "exception": false,
     "start_time": "2021-08-26T04:10:16.083513",
     "status": "completed"
    },
    "tags": []
   },
   "outputs": [
    {
     "name": "stdout",
     "output_type": "stream",
     "text": [
      "[Success] Bulk job creation successful. Job ID = 7505w00000ZJKl0AAH\n",
      "hello\n"
     ]
    },
    {
     "name": "stdout",
     "output_type": "stream",
     "text": [
      "[Success] CSV upload successful. Job ID = 7505w00000ZJKl0AAH\n"
     ]
    },
    {
     "name": "stdout",
     "output_type": "stream",
     "text": [
      "[Success] Closing job successful. Job ID = 7505w00000ZJKl0AAH\n"
     ]
    }
   ],
   "source": [
    "# send data to Salesforce\n",
    "db_s.send_data(df_sf)"
   ]
  },
  {
   "cell_type": "code",
   "execution_count": 23,
   "id": "a72a83c6",
   "metadata": {
    "execution": {
     "iopub.execute_input": "2021-08-26T04:10:17.363070Z",
     "iopub.status.busy": "2021-08-26T04:10:17.362424Z",
     "iopub.status.idle": "2021-08-26T04:10:17.736493Z",
     "shell.execute_reply": "2021-08-26T04:10:17.736980Z"
    },
    "jupyter": {
     "source_hidden": true
    },
    "papermill": {
     "duration": 0.500741,
     "end_time": "2021-08-26T04:10:17.737223",
     "exception": false,
     "start_time": "2021-08-26T04:10:17.236482",
     "status": "completed"
    },
    "tags": []
   },
   "outputs": [
    {
     "name": "stdout",
     "output_type": "stream",
     "text": [
      "{'apexProcessingTime': 0,\n",
      " 'apiActiveProcessingTime': 0,\n",
      " 'apiVersion': 47.0,\n",
      " 'columnDelimiter': 'COMMA',\n",
      " 'concurrencyMode': 'Parallel',\n",
      " 'contentType': 'CSV',\n",
      " 'createdById': '0055w00000DM5bOAAT',\n",
      " 'createdDate': '2021-08-26T04:10:16.000+0000',\n",
      " 'externalIdFieldName': 'Id',\n",
      " 'id': '7505w00000ZJKl0AAH',\n",
      " 'jobType': 'V2Ingest',\n",
      " 'lineEnding': 'LF',\n",
      " 'numberRecordsFailed': 0,\n",
      " 'numberRecordsProcessed': 0,\n",
      " 'object': 'tool_usage_cluster__c',\n",
      " 'operation': 'upsert',\n",
      " 'retries': 0,\n",
      " 'state': 'UploadComplete',\n",
      " 'systemModstamp': '2021-08-26T04:10:17.000+0000',\n",
      " 'totalProcessingTime': 0}\n"
     ]
    }
   ],
   "source": [
    "# check status\n",
    "from pprint import pprint\n",
    "\n",
    "pprint(db_s.check_bulk_status())"
   ]
  },
  {
   "cell_type": "markdown",
   "id": "b477a40e",
   "metadata": {
    "papermill": {
     "duration": 0.119774,
     "end_time": "2021-08-26T04:10:17.979618",
     "exception": false,
     "start_time": "2021-08-26T04:10:17.859844",
     "status": "completed"
    },
    "tags": []
   },
   "source": [
    "## Determine domain by cluster by latest cluster"
   ]
  },
  {
   "cell_type": "code",
   "execution_count": 24,
   "id": "61308e30",
   "metadata": {
    "execution": {
     "iopub.execute_input": "2021-08-26T04:10:18.226154Z",
     "iopub.status.busy": "2021-08-26T04:10:18.225211Z",
     "iopub.status.idle": "2021-08-26T04:10:18.239123Z",
     "shell.execute_reply": "2021-08-26T04:10:18.239503Z"
    },
    "jupyter": {
     "source_hidden": true
    },
    "papermill": {
     "duration": 0.139221,
     "end_time": "2021-08-26T04:10:18.239735",
     "exception": false,
     "start_time": "2021-08-26T04:10:18.100514",
     "status": "completed"
    },
    "tags": []
   },
   "outputs": [
    {
     "data": {
      "text/html": [
       "<div>\n",
       "<style scoped>\n",
       "    .dataframe tbody tr th:only-of-type {\n",
       "        vertical-align: middle;\n",
       "    }\n",
       "\n",
       "    .dataframe tbody tr th {\n",
       "        vertical-align: top;\n",
       "    }\n",
       "\n",
       "    .dataframe thead th {\n",
       "        text-align: right;\n",
       "    }\n",
       "</style>\n",
       "<table border=\"1\" class=\"dataframe\">\n",
       "  <thead>\n",
       "    <tr style=\"text-align: right;\">\n",
       "      <th></th>\n",
       "      <th>Id</th>\n",
       "      <th>Starting_Date__c</th>\n",
       "    </tr>\n",
       "  </thead>\n",
       "  <tbody>\n",
       "    <tr>\n",
       "      <th>0</th>\n",
       "      <td>a0w5w000009Q7CuAAK</td>\n",
       "      <td>2010-09-05</td>\n",
       "    </tr>\n",
       "    <tr>\n",
       "      <th>1</th>\n",
       "      <td>a0w5w000009Q7CvAAK</td>\n",
       "      <td>2018-11-29</td>\n",
       "    </tr>\n",
       "  </tbody>\n",
       "</table>\n",
       "</div>"
      ],
      "text/plain": [
       "                   Id Starting_Date__c\n",
       "0  a0w5w000009Q7CuAAK       2010-09-05\n",
       "1  a0w5w000009Q7CvAAK       2018-11-29"
      ]
     },
     "metadata": {},
     "output_type": "display_data"
    },
    {
     "data": {
      "text/html": [
       "<div>\n",
       "<style scoped>\n",
       "    .dataframe tbody tr th:only-of-type {\n",
       "        vertical-align: middle;\n",
       "    }\n",
       "\n",
       "    .dataframe tbody tr th {\n",
       "        vertical-align: top;\n",
       "    }\n",
       "\n",
       "    .dataframe thead th {\n",
       "        text-align: right;\n",
       "    }\n",
       "</style>\n",
       "<table border=\"1\" class=\"dataframe\">\n",
       "  <thead>\n",
       "    <tr style=\"text-align: right;\">\n",
       "      <th></th>\n",
       "      <th>Contact__c</th>\n",
       "      <th>Id</th>\n",
       "      <th>Tool_Usage_Cluster__c</th>\n",
       "    </tr>\n",
       "  </thead>\n",
       "  <tbody>\n",
       "    <tr>\n",
       "      <th>0</th>\n",
       "      <td>0035w000034JG1EAAW</td>\n",
       "      <td>a0x5w00000cMzV5AAK</td>\n",
       "      <td>a0w5w000009Q7m3AAC</td>\n",
       "    </tr>\n",
       "    <tr>\n",
       "      <th>1</th>\n",
       "      <td>0035w000034I5sjAAC</td>\n",
       "      <td>a0x5w00000cMzVAAA0</td>\n",
       "      <td>a0w5w000009Q7m3AAC</td>\n",
       "    </tr>\n",
       "  </tbody>\n",
       "</table>\n",
       "</div>"
      ],
      "text/plain": [
       "           Contact__c                  Id Tool_Usage_Cluster__c\n",
       "0  0035w000034JG1EAAW  a0x5w00000cMzV5AAK    a0w5w000009Q7m3AAC\n",
       "1  0035w000034I5sjAAC  a0x5w00000cMzVAAA0    a0w5w000009Q7m3AAC"
      ]
     },
     "metadata": {},
     "output_type": "display_data"
    },
    {
     "data": {
      "text/html": [
       "<div>\n",
       "<style scoped>\n",
       "    .dataframe tbody tr th:only-of-type {\n",
       "        vertical-align: middle;\n",
       "    }\n",
       "\n",
       "    .dataframe tbody tr th {\n",
       "        vertical-align: top;\n",
       "    }\n",
       "\n",
       "    .dataframe thead th {\n",
       "        text-align: right;\n",
       "    }\n",
       "</style>\n",
       "<table border=\"1\" class=\"dataframe\">\n",
       "  <thead>\n",
       "    <tr style=\"text-align: right;\">\n",
       "      <th></th>\n",
       "      <th>Tool_Usage_Cluster__c</th>\n",
       "      <th>Organization__c</th>\n",
       "    </tr>\n",
       "  </thead>\n",
       "  <tbody>\n",
       "    <tr>\n",
       "      <th>0</th>\n",
       "      <td>a0w5w000009Q7CuAAK</td>\n",
       "      <td></td>\n",
       "    </tr>\n",
       "    <tr>\n",
       "      <th>1</th>\n",
       "      <td>a0w5w000009Q7CvAAK</td>\n",
       "      <td>a0r5w00000V42iyAAB</td>\n",
       "    </tr>\n",
       "  </tbody>\n",
       "</table>\n",
       "</div>"
      ],
      "text/plain": [
       "  Tool_Usage_Cluster__c     Organization__c\n",
       "0    a0w5w000009Q7CuAAK                    \n",
       "1    a0w5w000009Q7CvAAK  a0r5w00000V42iyAAB"
      ]
     },
     "metadata": {},
     "output_type": "display_data"
    },
    {
     "data": {
      "text/html": [
       "<div>\n",
       "<style scoped>\n",
       "    .dataframe tbody tr th:only-of-type {\n",
       "        vertical-align: middle;\n",
       "    }\n",
       "\n",
       "    .dataframe tbody tr th {\n",
       "        vertical-align: top;\n",
       "    }\n",
       "\n",
       "    .dataframe thead th {\n",
       "        text-align: right;\n",
       "    }\n",
       "</style>\n",
       "<table border=\"1\" class=\"dataframe\">\n",
       "  <thead>\n",
       "    <tr style=\"text-align: right;\">\n",
       "      <th></th>\n",
       "      <th>Id</th>\n",
       "      <th>Organization_Overwrite__c</th>\n",
       "      <th>Organization_email_derived__c</th>\n",
       "    </tr>\n",
       "  </thead>\n",
       "  <tbody>\n",
       "    <tr>\n",
       "      <th>0</th>\n",
       "      <td>0035w000031Vsp1AAC</td>\n",
       "      <td>NaN</td>\n",
       "      <td>NaN</td>\n",
       "    </tr>\n",
       "    <tr>\n",
       "      <th>1</th>\n",
       "      <td>0035w000031Vsp2AAC</td>\n",
       "      <td>NaN</td>\n",
       "      <td>a0r5w00000V42cCAAR</td>\n",
       "    </tr>\n",
       "  </tbody>\n",
       "</table>\n",
       "</div>"
      ],
      "text/plain": [
       "                   Id Organization_Overwrite__c Organization_email_derived__c\n",
       "0  0035w000031Vsp1AAC                       NaN                           NaN\n",
       "1  0035w000031Vsp2AAC                       NaN            a0r5w00000V42cCAAR"
      ]
     },
     "metadata": {},
     "output_type": "display_data"
    }
   ],
   "source": [
    "# display data used in this section\n",
    "display(sf_cluster_df.head(2))\n",
    "display(sf_cluster_asso_df.head(2))\n",
    "display(org_from_cluster_df.head(2))\n",
    "display(sf_contact_df.head(2))"
   ]
  },
  {
   "cell_type": "code",
   "execution_count": 25,
   "id": "31dc1c1d",
   "metadata": {
    "execution": {
     "iopub.execute_input": "2021-08-26T04:10:18.508016Z",
     "iopub.status.busy": "2021-08-26T04:10:18.503612Z",
     "iopub.status.idle": "2021-08-26T04:10:18.565668Z",
     "shell.execute_reply": "2021-08-26T04:10:18.566182Z"
    },
    "jupyter": {
     "source_hidden": true
    },
    "papermill": {
     "duration": 0.198179,
     "end_time": "2021-08-26T04:10:18.566462",
     "exception": false,
     "start_time": "2021-08-26T04:10:18.368283",
     "status": "completed"
    },
    "tags": []
   },
   "outputs": [
    {
     "data": {
      "text/html": [
       "<div>\n",
       "<style scoped>\n",
       "    .dataframe tbody tr th:only-of-type {\n",
       "        vertical-align: middle;\n",
       "    }\n",
       "\n",
       "    .dataframe tbody tr th {\n",
       "        vertical-align: top;\n",
       "    }\n",
       "\n",
       "    .dataframe thead th {\n",
       "        text-align: right;\n",
       "    }\n",
       "</style>\n",
       "<table border=\"1\" class=\"dataframe\">\n",
       "  <thead>\n",
       "    <tr style=\"text-align: right;\">\n",
       "      <th></th>\n",
       "      <th>Contact__c</th>\n",
       "      <th>Tool_Usage_Cluster__c</th>\n",
       "      <th>Organization__c</th>\n",
       "      <th>Starting_Date__c</th>\n",
       "    </tr>\n",
       "  </thead>\n",
       "  <tbody>\n",
       "    <tr>\n",
       "      <th>0</th>\n",
       "      <td>0035w000034JG1EAAW</td>\n",
       "      <td>a0w5w000009Q7m3AAC</td>\n",
       "      <td>a0r5w00000V42cCAAR</td>\n",
       "      <td>2019-01-05</td>\n",
       "    </tr>\n",
       "    <tr>\n",
       "      <th>1</th>\n",
       "      <td>0035w000034I5sjAAC</td>\n",
       "      <td>a0w5w000009Q7m3AAC</td>\n",
       "      <td>a0r5w00000V42cCAAR</td>\n",
       "      <td>2019-01-05</td>\n",
       "    </tr>\n",
       "  </tbody>\n",
       "</table>\n",
       "</div>"
      ],
      "text/plain": [
       "           Contact__c Tool_Usage_Cluster__c     Organization__c  \\\n",
       "0  0035w000034JG1EAAW    a0w5w000009Q7m3AAC  a0r5w00000V42cCAAR   \n",
       "1  0035w000034I5sjAAC    a0w5w000009Q7m3AAC  a0r5w00000V42cCAAR   \n",
       "\n",
       "  Starting_Date__c  \n",
       "0       2019-01-05  \n",
       "1       2019-01-05  "
      ]
     },
     "execution_count": 25,
     "metadata": {},
     "output_type": "execute_result"
    }
   ],
   "source": [
    "overall_df = pd.merge(sf_cluster_asso_df, org_from_cluster_df,\\\n",
    "                      how='inner', left_on='Tool_Usage_Cluster__c', right_on='Tool_Usage_Cluster__c')\n",
    "overall_df.drop(columns='Id', inplace=True)\n",
    "\n",
    "# join cluster date\n",
    "overall_df = pd.merge(overall_df, sf_cluster_df, \\\n",
    "                     how='inner', left_on='Tool_Usage_Cluster__c', right_on='Id')\n",
    "overall_df.drop(columns='Id', inplace=True)\n",
    "\n",
    "# display\n",
    "overall_df.head(2)"
   ]
  },
  {
   "cell_type": "code",
   "execution_count": 26,
   "id": "7c71fb07",
   "metadata": {
    "execution": {
     "iopub.execute_input": "2021-08-26T04:10:18.814427Z",
     "iopub.status.busy": "2021-08-26T04:10:18.813817Z",
     "iopub.status.idle": "2021-08-26T04:10:42.436987Z",
     "shell.execute_reply": "2021-08-26T04:10:42.437386Z"
    },
    "jupyter": {
     "source_hidden": true
    },
    "papermill": {
     "duration": 23.75049,
     "end_time": "2021-08-26T04:10:42.437635",
     "exception": false,
     "start_time": "2021-08-26T04:10:18.687145",
     "status": "completed"
    },
    "tags": []
   },
   "outputs": [
    {
     "data": {
      "text/html": [
       "<div>\n",
       "<style scoped>\n",
       "    .dataframe tbody tr th:only-of-type {\n",
       "        vertical-align: middle;\n",
       "    }\n",
       "\n",
       "    .dataframe tbody tr th {\n",
       "        vertical-align: top;\n",
       "    }\n",
       "\n",
       "    .dataframe thead th {\n",
       "        text-align: right;\n",
       "    }\n",
       "</style>\n",
       "<table border=\"1\" class=\"dataframe\">\n",
       "  <thead>\n",
       "    <tr style=\"text-align: right;\">\n",
       "      <th></th>\n",
       "      <th>Contact__c</th>\n",
       "      <th>Organization_cluster_derived__c</th>\n",
       "    </tr>\n",
       "  </thead>\n",
       "  <tbody>\n",
       "    <tr>\n",
       "      <th>0</th>\n",
       "      <td>0035w000031Vsp8AAC</td>\n",
       "      <td>a0r5w00000V42cCAAR</td>\n",
       "    </tr>\n",
       "    <tr>\n",
       "      <th>1</th>\n",
       "      <td>0035w000031VspAAAS</td>\n",
       "      <td>a0r5w00000V42cCAAR</td>\n",
       "    </tr>\n",
       "  </tbody>\n",
       "</table>\n",
       "</div>"
      ],
      "text/plain": [
       "           Contact__c Organization_cluster_derived__c\n",
       "0  0035w000031Vsp8AAC              a0r5w00000V42cCAAR\n",
       "1  0035w000031VspAAAS              a0r5w00000V42cCAAR"
      ]
     },
     "execution_count": 26,
     "metadata": {},
     "output_type": "execute_result"
    }
   ],
   "source": [
    "# infer the organization of this cluster through majority vote\n",
    "contact_org_from_cluster_df = overall_df.groupby('Contact__c').apply(lambda x: \\\n",
    "                                                   x.sort_values(by=['Starting_Date__c'], ascending=False).head(1).Organization__c.iloc[0])\\\n",
    "                                            .dropna().reset_index(name='Organization_cluster_derived__c')\n",
    "\n",
    "# display\n",
    "contact_org_from_cluster_df.head(2)"
   ]
  },
  {
   "cell_type": "code",
   "execution_count": 27,
   "id": "020d5c77",
   "metadata": {
    "execution": {
     "iopub.execute_input": "2021-08-26T04:10:42.689286Z",
     "iopub.status.busy": "2021-08-26T04:10:42.688227Z",
     "iopub.status.idle": "2021-08-26T04:10:42.694544Z",
     "shell.execute_reply": "2021-08-26T04:10:42.694970Z"
    },
    "jupyter": {
     "source_hidden": true
    },
    "papermill": {
     "duration": 0.134004,
     "end_time": "2021-08-26T04:10:42.695216",
     "exception": false,
     "start_time": "2021-08-26T04:10:42.561212",
     "status": "completed"
    },
    "tags": []
   },
   "outputs": [],
   "source": [
    "contact_org_from_cluster_df = contact_org_from_cluster_df[contact_org_from_cluster_df.Organization_cluster_derived__c!='']"
   ]
  },
  {
   "cell_type": "code",
   "execution_count": 28,
   "id": "6b10e53b",
   "metadata": {
    "execution": {
     "iopub.execute_input": "2021-08-26T04:10:42.948888Z",
     "iopub.status.busy": "2021-08-26T04:10:42.944167Z",
     "iopub.status.idle": "2021-08-26T04:10:42.951594Z",
     "shell.execute_reply": "2021-08-26T04:10:42.951960Z"
    },
    "jupyter": {
     "source_hidden": true
    },
    "papermill": {
     "duration": 0.135057,
     "end_time": "2021-08-26T04:10:42.952201",
     "exception": false,
     "start_time": "2021-08-26T04:10:42.817144",
     "status": "completed"
    },
    "tags": []
   },
   "outputs": [
    {
     "data": {
      "text/html": [
       "<div>\n",
       "<style scoped>\n",
       "    .dataframe tbody tr th:only-of-type {\n",
       "        vertical-align: middle;\n",
       "    }\n",
       "\n",
       "    .dataframe tbody tr th {\n",
       "        vertical-align: top;\n",
       "    }\n",
       "\n",
       "    .dataframe thead th {\n",
       "        text-align: right;\n",
       "    }\n",
       "</style>\n",
       "<table border=\"1\" class=\"dataframe\">\n",
       "  <thead>\n",
       "    <tr style=\"text-align: right;\">\n",
       "      <th></th>\n",
       "      <th>0</th>\n",
       "      <th>1</th>\n",
       "    </tr>\n",
       "  </thead>\n",
       "  <tbody>\n",
       "    <tr>\n",
       "      <th>Id</th>\n",
       "      <td>0035w000031Vsp8AAC</td>\n",
       "      <td>0035w000031VspAAAS</td>\n",
       "    </tr>\n",
       "    <tr>\n",
       "      <th>Organization_cluster_derived__c</th>\n",
       "      <td>a0r5w00000V42cCAAR</td>\n",
       "      <td>a0r5w00000V42cCAAR</td>\n",
       "    </tr>\n",
       "  </tbody>\n",
       "</table>\n",
       "</div>"
      ],
      "text/plain": [
       "                                                  0                   1\n",
       "Id                               0035w000031Vsp8AAC  0035w000031VspAAAS\n",
       "Organization_cluster_derived__c  a0r5w00000V42cCAAR  a0r5w00000V42cCAAR"
      ]
     },
     "execution_count": 28,
     "metadata": {},
     "output_type": "execute_result"
    }
   ],
   "source": [
    "# Send data to Salesforce\n",
    "\n",
    "df_sf = pd.DataFrame()\n",
    "\n",
    "# Make sure NaN and NaT values are taken care of here\n",
    "df_sf['Id']         = contact_org_from_cluster_df['Contact__c']\n",
    "df_sf['Organization_cluster_derived__c'] = contact_org_from_cluster_df['Organization_cluster_derived__c']\n",
    "\n",
    "sf_original_fields = df_sf.columns\n",
    "\n",
    "# display\n",
    "df_sf.head(2).T"
   ]
  },
  {
   "cell_type": "code",
   "execution_count": 29,
   "id": "0fc0154b",
   "metadata": {
    "execution": {
     "iopub.execute_input": "2021-08-26T04:10:43.197584Z",
     "iopub.status.busy": "2021-08-26T04:10:43.196831Z",
     "iopub.status.idle": "2021-08-26T04:10:43.199101Z",
     "shell.execute_reply": "2021-08-26T04:10:43.199552Z"
    },
    "jupyter": {
     "source_hidden": true
    },
    "papermill": {
     "duration": 0.126717,
     "end_time": "2021-08-26T04:10:43.199790",
     "exception": false,
     "start_time": "2021-08-26T04:10:43.073073",
     "status": "completed"
    },
    "tags": []
   },
   "outputs": [],
   "source": [
    "db_s = salesforce\n",
    "\n",
    "# specify Salesforce object ID and external ID\n",
    "db_s.object_id = 'Contact'\n",
    "db_s.external_id = 'Id'"
   ]
  },
  {
   "cell_type": "code",
   "execution_count": 30,
   "id": "9c9352b7",
   "metadata": {
    "execution": {
     "iopub.execute_input": "2021-08-26T04:10:43.446945Z",
     "iopub.status.busy": "2021-08-26T04:10:43.445993Z",
     "iopub.status.idle": "2021-08-26T04:10:46.028910Z",
     "shell.execute_reply": "2021-08-26T04:10:46.029653Z"
    },
    "jupyter": {
     "source_hidden": true
    },
    "papermill": {
     "duration": 2.709812,
     "end_time": "2021-08-26T04:10:46.029960",
     "exception": false,
     "start_time": "2021-08-26T04:10:43.320148",
     "status": "completed"
    },
    "tags": []
   },
   "outputs": [
    {
     "name": "stdout",
     "output_type": "stream",
     "text": [
      "[Success] Bulk job creation successful. Job ID = 7505w00000ZJKhEAAX\n",
      "hello\n"
     ]
    },
    {
     "name": "stdout",
     "output_type": "stream",
     "text": [
      "[Success] CSV upload successful. Job ID = 7505w00000ZJKhEAAX\n"
     ]
    },
    {
     "name": "stdout",
     "output_type": "stream",
     "text": [
      "[Success] Closing job successful. Job ID = 7505w00000ZJKhEAAX\n"
     ]
    }
   ],
   "source": [
    "# send data to Salesforce\n",
    "db_s.send_data(df_sf)"
   ]
  },
  {
   "cell_type": "code",
   "execution_count": 31,
   "id": "b40d3c3c",
   "metadata": {
    "execution": {
     "iopub.execute_input": "2021-08-26T04:10:46.310036Z",
     "iopub.status.busy": "2021-08-26T04:10:46.309155Z",
     "iopub.status.idle": "2021-08-26T04:10:46.906769Z",
     "shell.execute_reply": "2021-08-26T04:10:46.907325Z"
    },
    "jupyter": {
     "source_hidden": true
    },
    "papermill": {
     "duration": 0.740167,
     "end_time": "2021-08-26T04:10:46.907571",
     "exception": false,
     "start_time": "2021-08-26T04:10:46.167404",
     "status": "completed"
    },
    "tags": []
   },
   "outputs": [
    {
     "name": "stdout",
     "output_type": "stream",
     "text": [
      "{'apexProcessingTime': 0,\n",
      " 'apiActiveProcessingTime': 0,\n",
      " 'apiVersion': 47.0,\n",
      " 'columnDelimiter': 'COMMA',\n",
      " 'concurrencyMode': 'Parallel',\n",
      " 'contentType': 'CSV',\n",
      " 'createdById': '0055w00000DM5bOAAT',\n",
      " 'createdDate': '2021-08-26T04:10:43.000+0000',\n",
      " 'externalIdFieldName': 'Id',\n",
      " 'id': '7505w00000ZJKhEAAX',\n",
      " 'jobType': 'V2Ingest',\n",
      " 'lineEnding': 'LF',\n",
      " 'numberRecordsFailed': 0,\n",
      " 'numberRecordsProcessed': 0,\n",
      " 'object': 'Contact',\n",
      " 'operation': 'upsert',\n",
      " 'retries': 0,\n",
      " 'state': 'UploadComplete',\n",
      " 'systemModstamp': '2021-08-26T04:10:45.000+0000',\n",
      " 'totalProcessingTime': 0}\n"
     ]
    }
   ],
   "source": [
    "# check status\n",
    "from pprint import pprint\n",
    "\n",
    "pprint(db_s.check_bulk_status())"
   ]
  },
  {
   "cell_type": "code",
   "execution_count": null,
   "id": "2b66e4d9",
   "metadata": {
    "jupyter": {
     "source_hidden": true
    },
    "papermill": {
     "duration": 0.133061,
     "end_time": "2021-08-26T04:10:47.177324",
     "exception": false,
     "start_time": "2021-08-26T04:10:47.044263",
     "status": "completed"
    },
    "tags": []
   },
   "outputs": [],
   "source": []
  },
  {
   "cell_type": "markdown",
   "id": "6d49f759",
   "metadata": {
    "papermill": {
     "duration": 0.121929,
     "end_time": "2021-08-26T04:10:47.428296",
     "exception": false,
     "start_time": "2021-08-26T04:10:47.306367",
     "status": "completed"
    },
    "tags": []
   },
   "source": [
    "## Determine domain by cluster by latest cluster"
   ]
  },
  {
   "cell_type": "raw",
   "id": "e9f29724",
   "metadata": {
    "papermill": {
     "duration": 0.127234,
     "end_time": "2021-08-26T04:10:47.680424",
     "exception": false,
     "start_time": "2021-08-26T04:10:47.553190",
     "status": "completed"
    },
    "tags": []
   },
   "source": [
    "# get Salesforce ID for contact-cluster associations\n",
    "sf_contact_domain_df = db_s.query_data('SELECT Id, Organization_citation_derived__c,\\\n",
    "Organization_cluster_derived__c, Organization_email_derived__c, Organization_Overwrite__c FROM Contact')"
   ]
  },
  {
   "cell_type": "raw",
   "id": "d58ac371",
   "metadata": {
    "papermill": {
     "duration": 0.129151,
     "end_time": "2021-08-26T04:10:47.945121",
     "exception": false,
     "start_time": "2021-08-26T04:10:47.815970",
     "status": "completed"
    },
    "tags": []
   },
   "source": [
    "# display\n",
    "display(sf_contact_domain_df.head(2).T)"
   ]
  },
  {
   "cell_type": "raw",
   "id": "b5e45cbd",
   "metadata": {
    "papermill": {
     "duration": 0.138239,
     "end_time": "2021-08-26T04:10:48.212600",
     "exception": false,
     "start_time": "2021-08-26T04:10:48.074361",
     "status": "completed"
    },
    "tags": []
   },
   "source": [
    "def calc_final_domain(this_row):\n",
    "    \n",
    "    # if overwrite exists\n",
    "    if this_row.Organization_Overwrite__c != '':\n",
    "        return this_row.Organization_Overwrite__c\n",
    "    \n",
    "    # if citation exists\n",
    "    if this_row.Organization_citation_derived__c != '':\n",
    "        return this_row.Organization_citation_derived__c\n",
    "    \n",
    "    # if email exists\n",
    "    if this_row.Organization_email_derived__c != '':\n",
    "        return this_row.Organization_email_derived__c\n",
    "    \n",
    "    # if cluster exists\n",
    "    if this_row.Organization_cluster_derived__c != '':\n",
    "        return this_row.Organization_cluster_derived__c\n",
    "    \n",
    "    return None\n",
    "\n",
    "\n",
    "sf_contact_domain_df['Organization_composite__c'] = sf_contact_domain_df.fillna('').apply(calc_final_domain, axis=1)\n",
    "\n",
    "sf_contact_domain_df = sf_contact_domain_df[sf_contact_domain_df['Organization_composite__c'].notnull()]\n",
    "\n",
    "# display\n",
    "sf_contact_domain_df.head(4).T"
   ]
  },
  {
   "cell_type": "raw",
   "id": "3f557b4f",
   "metadata": {
    "papermill": {
     "duration": 0.125375,
     "end_time": "2021-08-26T04:10:48.471473",
     "exception": false,
     "start_time": "2021-08-26T04:10:48.346098",
     "status": "completed"
    },
    "tags": []
   },
   "source": [
    "# Send data to Salesforce\n",
    "\n",
    "df_sf = pd.DataFrame()\n",
    "\n",
    "# Make sure NaN and NaT values are taken care of here\n",
    "df_sf['Id']         = sf_contact_domain_df['Id']\n",
    "df_sf['Organization_composite__c'] = sf_contact_domain_df['Organization_composite__c']\n",
    "\n",
    "sf_original_fields = df_sf.columns\n",
    "\n",
    "# display\n",
    "df_sf.head(2).T"
   ]
  },
  {
   "cell_type": "raw",
   "id": "8bc9a46c",
   "metadata": {
    "papermill": {
     "duration": 0.125173,
     "end_time": "2021-08-26T04:10:48.728771",
     "exception": false,
     "start_time": "2021-08-26T04:10:48.603598",
     "status": "completed"
    },
    "tags": []
   },
   "source": [
    "# create DB2 to Salesforce API object\n",
    "db_s = DB2SalesforceAPI(sf_login_params)\n",
    "\n",
    "# specify Salesforce object ID and external ID\n",
    "db_s.object_id = 'Contact'\n",
    "db_s.external_id = 'Id'"
   ]
  },
  {
   "cell_type": "raw",
   "id": "85da7099",
   "metadata": {
    "papermill": {
     "duration": 0.124116,
     "end_time": "2021-08-26T04:10:48.979425",
     "exception": false,
     "start_time": "2021-08-26T04:10:48.855309",
     "status": "completed"
    },
    "tags": []
   },
   "source": [
    "# send data to Salesforce\n",
    "db_s.send_data(df_sf)"
   ]
  },
  {
   "cell_type": "raw",
   "id": "0d775ae7",
   "metadata": {
    "papermill": {
     "duration": 0.12674,
     "end_time": "2021-08-26T04:10:49.233835",
     "exception": false,
     "start_time": "2021-08-26T04:10:49.107095",
     "status": "completed"
    },
    "tags": []
   },
   "source": [
    "# check status\n",
    "from pprint import pprint\n",
    "\n",
    "pprint(db_s.check_bulk_status())"
   ]
  },
  {
   "cell_type": "code",
   "execution_count": null,
   "id": "d8ff8cf2",
   "metadata": {
    "jupyter": {
     "source_hidden": true
    },
    "papermill": {
     "duration": 0.123626,
     "end_time": "2021-08-26T04:10:49.484195",
     "exception": false,
     "start_time": "2021-08-26T04:10:49.360569",
     "status": "completed"
    },
    "tags": []
   },
   "outputs": [],
   "source": []
  }
 ],
 "metadata": {
  "celltoolbar": "Tags",
  "kernelspec": {
   "display_name": "Python 3",
   "language": "python",
   "name": "python3"
  },
  "language_info": {
   "codemirror_mode": {
    "name": "ipython",
    "version": 3
   },
   "file_extension": ".py",
   "mimetype": "text/x-python",
   "name": "python",
   "nbconvert_exporter": "python",
   "pygments_lexer": "ipython3",
   "version": "3.8.2"
  },
  "papermill": {
   "duration": 274.554669,
   "end_time": "2021-08-26T04:10:49.944496",
   "environment_variables": {},
   "exception": null,
   "input_path": "nanoHUB/pipeline/salesforce/task_orgs_map_contacts.ipynb",
   "output_path": "./.output/task_orgs_map_contacts.ipynb",
   "parameters": {},
   "start_time": "2021-08-26T04:06:15.389827",
   "version": "2.1.1"
  }
 },
 "nbformat": 4,
 "nbformat_minor": 5
}