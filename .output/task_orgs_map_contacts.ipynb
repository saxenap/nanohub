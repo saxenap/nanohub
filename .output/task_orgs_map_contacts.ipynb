{
 "cells": [
  {
   "cell_type": "markdown",
   "id": "da8575a8",
   "metadata": {
    "papermill": {
     "duration": 0.070683,
     "end_time": "2021-10-25T11:18:25.101424",
     "exception": false,
     "start_time": "2021-10-25T11:18:25.030741",
     "status": "completed"
    },
    "tags": []
   },
   "source": [
    "# DB2-Salesforce connector: determine organization of each contact based on aggregated cluster and citation information.\n"
   ]
  },
  {
   "cell_type": "code",
   "execution_count": 1,
   "id": "c944c133",
   "metadata": {
    "execution": {
     "iopub.execute_input": "2021-10-25T11:18:25.248496Z",
     "iopub.status.busy": "2021-10-25T11:18:25.247751Z",
     "iopub.status.idle": "2021-10-25T11:18:27.162302Z",
     "shell.execute_reply": "2021-10-25T11:18:27.162885Z"
    },
    "jupyter": {
     "source_hidden": true
    },
    "papermill": {
     "duration": 1.991795,
     "end_time": "2021-10-25T11:18:27.163302",
     "exception": false,
     "start_time": "2021-10-25T11:18:25.171507",
     "status": "completed"
    },
    "tags": [
     "parameters"
    ]
   },
   "outputs": [
    {
     "name": "stdout",
     "output_type": "stream",
     "text": [
      "\u001b[1mnanoHUB - Serving Students, Researchers & Instructors\u001b[0m\n"
     ]
    },
    {
     "name": "stdout",
     "output_type": "stream",
     "text": [
      "Obtained Salesforce access token ...... True\n"
     ]
    }
   ],
   "source": [
    "# API settings\n",
    "api_url = '/services/data/v43.0/sobjects'\n",
    "external_id = 'Name'\n",
    "object_id = 'contact_citation_asso__c'\n",
    "\n",
    "from nanoHUB.application import Application\n",
    "\n",
    "application = Application.get_instance()\n",
    "nanohub_db = application.new_db_engine('nanohub')\n",
    "wang159_myrmekes_db = application.new_db_engine('wang159_myrmekes')\n",
    "\n",
    "salesforce = application.new_salesforce_engine()\n",
    "db_s = salesforce\n"
   ]
  },
  {
   "cell_type": "code",
   "execution_count": 2,
   "id": "156bab19",
   "metadata": {
    "execution": {
     "iopub.execute_input": "2021-10-25T11:18:27.309257Z",
     "iopub.status.busy": "2021-10-25T11:18:27.308628Z",
     "iopub.status.idle": "2021-10-25T11:18:27.310410Z",
     "shell.execute_reply": "2021-10-25T11:18:27.310937Z"
    },
    "jupyter": {
     "source_hidden": true
    },
    "papermill": {
     "duration": 0.076324,
     "end_time": "2021-10-25T11:18:27.311162",
     "exception": false,
     "start_time": "2021-10-25T11:18:27.234838",
     "status": "completed"
    },
    "tags": []
   },
   "outputs": [],
   "source": [
    "    \n",
    "import pandas as pd\n",
    "import time\n",
    "import datetime"
   ]
  },
  {
   "cell_type": "markdown",
   "id": "64aedbd8",
   "metadata": {
    "papermill": {
     "duration": 0.070404,
     "end_time": "2021-10-25T11:18:27.451031",
     "exception": false,
     "start_time": "2021-10-25T11:18:27.380627",
     "status": "completed"
    },
    "tags": []
   },
   "source": [
    "## Obtain tool information from DB2 "
   ]
  },
  {
   "cell_type": "markdown",
   "id": "3dfbb9b8",
   "metadata": {
    "papermill": {
     "duration": 0.073758,
     "end_time": "2021-10-25T11:18:27.595165",
     "exception": false,
     "start_time": "2021-10-25T11:18:27.521407",
     "status": "completed"
    },
    "tags": []
   },
   "source": [
    "## Obtain Salesforce IDs\n"
   ]
  },
  {
   "cell_type": "code",
   "execution_count": 3,
   "id": "a47fef60",
   "metadata": {
    "execution": {
     "iopub.execute_input": "2021-10-25T11:18:27.738280Z",
     "iopub.status.busy": "2021-10-25T11:18:27.737621Z",
     "iopub.status.idle": "2021-10-25T11:18:41.967746Z",
     "shell.execute_reply": "2021-10-25T11:18:41.968317Z"
    },
    "jupyter": {
     "source_hidden": true
    },
    "papermill": {
     "duration": 14.304509,
     "end_time": "2021-10-25T11:18:41.968661",
     "exception": false,
     "start_time": "2021-10-25T11:18:27.664152",
     "status": "completed"
    },
    "tags": []
   },
   "outputs": [
    {
     "name": "stdout",
     "output_type": "stream",
     "text": [
      "[Success] Bulk job creation successful. Job ID = 7505w00000b2CyLAAU\n"
     ]
    },
    {
     "name": "stdout",
     "output_type": "stream",
     "text": [
      "{\"id\":\"7505w00000b2CyLAAU\",\"operation\":\"query\",\"object\":\"contact_citation_asso__c\",\"createdById\":\"0055w00000DM5bOAAT\",\"createdDate\":\"2021-10-25T11:18:27.000+0000\",\"systemModstamp\":\"2021-10-25T11:18:27.000+0000\",\"state\":\"UploadComplete\",\"concurrencyMode\":\"Parallel\",\"contentType\":\"CSV\",\"apiVersion\":47.0,\"jobType\":\"V2Query\",\"lineEnding\":\"LF\",\"columnDelimiter\":\"COMMA\",\"retries\":0,\"totalProcessingTime\":0}\n"
     ]
    },
    {
     "name": "stdout",
     "output_type": "stream",
     "text": [
      "{\"id\":\"7505w00000b2CyLAAU\",\"operation\":\"query\",\"object\":\"contact_citation_asso__c\",\"createdById\":\"0055w00000DM5bOAAT\",\"createdDate\":\"2021-10-25T11:18:27.000+0000\",\"systemModstamp\":\"2021-10-25T11:18:32.000+0000\",\"state\":\"JobComplete\",\"concurrencyMode\":\"Parallel\",\"contentType\":\"CSV\",\"apiVersion\":47.0,\"jobType\":\"V2Query\",\"lineEnding\":\"LF\",\"columnDelimiter\":\"COMMA\",\"numberRecordsProcessed\":4944,\"retries\":0,\"totalProcessingTime\":536}\n",
      "[Success] Bulk job completed successfully.\n"
     ]
    }
   ],
   "source": [
    "# get Salesforce ID for contact-citation associations\n",
    "sf_citation_asso_df = db_s.query_data('SELECT Id, Organization__c, Contact__c, Citation__c FROM contact_citation_asso__c')"
   ]
  },
  {
   "cell_type": "code",
   "execution_count": 4,
   "id": "3496eccc",
   "metadata": {
    "execution": {
     "iopub.execute_input": "2021-10-25T11:18:42.114713Z",
     "iopub.status.busy": "2021-10-25T11:18:42.113975Z",
     "iopub.status.idle": "2021-10-25T11:18:55.447885Z",
     "shell.execute_reply": "2021-10-25T11:18:55.448399Z"
    },
    "jupyter": {
     "source_hidden": true
    },
    "papermill": {
     "duration": 13.408811,
     "end_time": "2021-10-25T11:18:55.448644",
     "exception": false,
     "start_time": "2021-10-25T11:18:42.039833",
     "status": "completed"
    },
    "scrolled": true,
    "tags": []
   },
   "outputs": [
    {
     "name": "stdout",
     "output_type": "stream",
     "text": [
      "[Success] Bulk job creation successful. Job ID = 7505w00000b2D5QAAU\n"
     ]
    },
    {
     "name": "stdout",
     "output_type": "stream",
     "text": [
      "{\"id\":\"7505w00000b2D5QAAU\",\"operation\":\"query\",\"object\":\"ContactToolClusterAssociation__c\",\"createdById\":\"0055w00000DM5bOAAT\",\"createdDate\":\"2021-10-25T11:18:42.000+0000\",\"systemModstamp\":\"2021-10-25T11:18:42.000+0000\",\"state\":\"InProgress\",\"concurrencyMode\":\"Parallel\",\"contentType\":\"CSV\",\"apiVersion\":47.0,\"jobType\":\"V2Query\",\"lineEnding\":\"LF\",\"columnDelimiter\":\"COMMA\",\"numberRecordsProcessed\":0,\"retries\":0,\"totalProcessingTime\":0}\n"
     ]
    },
    {
     "name": "stdout",
     "output_type": "stream",
     "text": [
      "{\"id\":\"7505w00000b2D5QAAU\",\"operation\":\"query\",\"object\":\"ContactToolClusterAssociation__c\",\"createdById\":\"0055w00000DM5bOAAT\",\"createdDate\":\"2021-10-25T11:18:42.000+0000\",\"systemModstamp\":\"2021-10-25T11:18:47.000+0000\",\"state\":\"JobComplete\",\"concurrencyMode\":\"Parallel\",\"contentType\":\"CSV\",\"apiVersion\":47.0,\"jobType\":\"V2Query\",\"lineEnding\":\"LF\",\"columnDelimiter\":\"COMMA\",\"numberRecordsProcessed\":98069,\"retries\":0,\"totalProcessingTime\":4672}\n",
      "[Success] Bulk job completed successfully.\n"
     ]
    }
   ],
   "source": [
    "# get Salesforce ID for contact-cluster associations\n",
    "sf_cluster_asso_df = db_s.query_data('SELECT Id, Contact__c, Tool_Usage_Cluster__c FROM ContactToolClusterAssociation__c')"
   ]
  },
  {
   "cell_type": "code",
   "execution_count": 5,
   "id": "37cfcccc",
   "metadata": {
    "execution": {
     "iopub.execute_input": "2021-10-25T11:18:55.610012Z",
     "iopub.status.busy": "2021-10-25T11:18:55.609470Z",
     "iopub.status.idle": "2021-10-25T11:19:21.681397Z",
     "shell.execute_reply": "2021-10-25T11:19:21.681907Z"
    },
    "jupyter": {
     "source_hidden": true
    },
    "papermill": {
     "duration": 26.1663,
     "end_time": "2021-10-25T11:19:21.682141",
     "exception": false,
     "start_time": "2021-10-25T11:18:55.515841",
     "status": "completed"
    },
    "tags": []
   },
   "outputs": [
    {
     "name": "stdout",
     "output_type": "stream",
     "text": [
      "[Success] Bulk job creation successful. Job ID = 7505w00000b2D1eAAE\n"
     ]
    },
    {
     "name": "stdout",
     "output_type": "stream",
     "text": [
      "{\"id\":\"7505w00000b2D1eAAE\",\"operation\":\"query\",\"object\":\"Contact\",\"createdById\":\"0055w00000DM5bOAAT\",\"createdDate\":\"2021-10-25T11:18:55.000+0000\",\"systemModstamp\":\"2021-10-25T11:18:55.000+0000\",\"state\":\"UploadComplete\",\"concurrencyMode\":\"Parallel\",\"contentType\":\"CSV\",\"apiVersion\":47.0,\"jobType\":\"V2Query\",\"lineEnding\":\"LF\",\"columnDelimiter\":\"COMMA\",\"retries\":0,\"totalProcessingTime\":0}\n"
     ]
    },
    {
     "name": "stdout",
     "output_type": "stream",
     "text": [
      "{\"id\":\"7505w00000b2D1eAAE\",\"operation\":\"query\",\"object\":\"Contact\",\"createdById\":\"0055w00000DM5bOAAT\",\"createdDate\":\"2021-10-25T11:18:55.000+0000\",\"systemModstamp\":\"2021-10-25T11:18:56.000+0000\",\"state\":\"InProgress\",\"concurrencyMode\":\"Parallel\",\"contentType\":\"CSV\",\"apiVersion\":47.0,\"jobType\":\"V2Query\",\"lineEnding\":\"LF\",\"columnDelimiter\":\"COMMA\",\"numberRecordsProcessed\":14757,\"retries\":0,\"totalProcessingTime\":828}\n"
     ]
    },
    {
     "name": "stdout",
     "output_type": "stream",
     "text": [
      "{\"id\":\"7505w00000b2D1eAAE\",\"operation\":\"query\",\"object\":\"Contact\",\"createdById\":\"0055w00000DM5bOAAT\",\"createdDate\":\"2021-10-25T11:18:55.000+0000\",\"systemModstamp\":\"2021-10-25T11:19:07.000+0000\",\"state\":\"JobComplete\",\"concurrencyMode\":\"Parallel\",\"contentType\":\"CSV\",\"apiVersion\":47.0,\"jobType\":\"V2Query\",\"lineEnding\":\"LF\",\"columnDelimiter\":\"COMMA\",\"numberRecordsProcessed\":262499,\"retries\":0,\"totalProcessingTime\":11654}\n",
      "[Success] Bulk job completed successfully.\n"
     ]
    }
   ],
   "source": [
    "# get Salesforce ID for contacts\n",
    "sf_contact_df = db_s.query_data('SELECT Id, Organization_Overwrite__c, Organization_email_derived__c FROM Contact')"
   ]
  },
  {
   "cell_type": "code",
   "execution_count": 6,
   "id": "1b05251c",
   "metadata": {
    "execution": {
     "iopub.execute_input": "2021-10-25T11:19:21.837316Z",
     "iopub.status.busy": "2021-10-25T11:19:21.836575Z",
     "iopub.status.idle": "2021-10-25T11:19:33.443617Z",
     "shell.execute_reply": "2021-10-25T11:19:33.444095Z"
    },
    "jupyter": {
     "source_hidden": true
    },
    "papermill": {
     "duration": 11.687407,
     "end_time": "2021-10-25T11:19:33.444368",
     "exception": false,
     "start_time": "2021-10-25T11:19:21.756961",
     "status": "completed"
    },
    "tags": []
   },
   "outputs": [
    {
     "name": "stdout",
     "output_type": "stream",
     "text": [
      "[Success] Bulk job creation successful. Job ID = 7505w00000b2D5VAAU\n"
     ]
    },
    {
     "name": "stdout",
     "output_type": "stream",
     "text": [
      "{\"id\":\"7505w00000b2D5VAAU\",\"operation\":\"query\",\"object\":\"nanoHUB_citations__c\",\"createdById\":\"0055w00000DM5bOAAT\",\"createdDate\":\"2021-10-25T11:19:22.000+0000\",\"systemModstamp\":\"2021-10-25T11:19:22.000+0000\",\"state\":\"UploadComplete\",\"concurrencyMode\":\"Parallel\",\"contentType\":\"CSV\",\"apiVersion\":47.0,\"jobType\":\"V2Query\",\"lineEnding\":\"LF\",\"columnDelimiter\":\"COMMA\",\"retries\":0,\"totalProcessingTime\":0}\n"
     ]
    },
    {
     "name": "stdout",
     "output_type": "stream",
     "text": [
      "{\"id\":\"7505w00000b2D5VAAU\",\"operation\":\"query\",\"object\":\"nanoHUB_citations__c\",\"createdById\":\"0055w00000DM5bOAAT\",\"createdDate\":\"2021-10-25T11:19:22.000+0000\",\"systemModstamp\":\"2021-10-25T11:19:23.000+0000\",\"state\":\"JobComplete\",\"concurrencyMode\":\"Parallel\",\"contentType\":\"CSV\",\"apiVersion\":47.0,\"jobType\":\"V2Query\",\"lineEnding\":\"LF\",\"columnDelimiter\":\"COMMA\",\"numberRecordsProcessed\":2517,\"retries\":0,\"totalProcessingTime\":495}\n",
      "[Success] Bulk job completed successfully.\n"
     ]
    }
   ],
   "source": [
    "# get Salesforce ID for citations\n",
    "sf_citation_df = db_s.query_data('SELECT Id, Year__c FROM nanoHUB_citations__c')"
   ]
  },
  {
   "cell_type": "code",
   "execution_count": 7,
   "id": "dcbcb735",
   "metadata": {
    "execution": {
     "iopub.execute_input": "2021-10-25T11:19:33.615355Z",
     "iopub.status.busy": "2021-10-25T11:19:33.614710Z",
     "iopub.status.idle": "2021-10-25T11:19:45.121176Z",
     "shell.execute_reply": "2021-10-25T11:19:45.121749Z"
    },
    "jupyter": {
     "source_hidden": true
    },
    "papermill": {
     "duration": 11.600645,
     "end_time": "2021-10-25T11:19:45.122017",
     "exception": false,
     "start_time": "2021-10-25T11:19:33.521372",
     "status": "completed"
    },
    "tags": []
   },
   "outputs": [
    {
     "name": "stdout",
     "output_type": "stream",
     "text": [
      "[Success] Bulk job creation successful. Job ID = 7505w00000b2D5aAAE\n"
     ]
    },
    {
     "name": "stdout",
     "output_type": "stream",
     "text": [
      "{\"id\":\"7505w00000b2D5aAAE\",\"operation\":\"query\",\"object\":\"tool_usage_cluster__c\",\"createdById\":\"0055w00000DM5bOAAT\",\"createdDate\":\"2021-10-25T11:19:33.000+0000\",\"systemModstamp\":\"2021-10-25T11:19:33.000+0000\",\"state\":\"UploadComplete\",\"concurrencyMode\":\"Parallel\",\"contentType\":\"CSV\",\"apiVersion\":47.0,\"jobType\":\"V2Query\",\"lineEnding\":\"LF\",\"columnDelimiter\":\"COMMA\",\"retries\":0,\"totalProcessingTime\":0}\n"
     ]
    },
    {
     "name": "stdout",
     "output_type": "stream",
     "text": [
      "{\"id\":\"7505w00000b2D5aAAE\",\"operation\":\"query\",\"object\":\"tool_usage_cluster__c\",\"createdById\":\"0055w00000DM5bOAAT\",\"createdDate\":\"2021-10-25T11:19:33.000+0000\",\"systemModstamp\":\"2021-10-25T11:19:36.000+0000\",\"state\":\"JobComplete\",\"concurrencyMode\":\"Parallel\",\"contentType\":\"CSV\",\"apiVersion\":47.0,\"jobType\":\"V2Query\",\"lineEnding\":\"LF\",\"columnDelimiter\":\"COMMA\",\"numberRecordsProcessed\":4290,\"retries\":0,\"totalProcessingTime\":436}\n",
      "[Success] Bulk job completed successfully.\n"
     ]
    }
   ],
   "source": [
    "# get Salesforce ID for clusters\n",
    "sf_cluster_df = db_s.query_data('SELECT Id, Starting_Date__c FROM tool_usage_cluster__c')"
   ]
  },
  {
   "cell_type": "markdown",
   "id": "dcb9808b",
   "metadata": {
    "papermill": {
     "duration": 0.079927,
     "end_time": "2021-10-25T11:19:45.281228",
     "exception": false,
     "start_time": "2021-10-25T11:19:45.201301",
     "status": "completed"
    },
    "tags": []
   },
   "source": [
    "## Determine domain by citation by latest citation"
   ]
  },
  {
   "cell_type": "code",
   "execution_count": 8,
   "id": "e4230ae7",
   "metadata": {
    "execution": {
     "iopub.execute_input": "2021-10-25T11:19:45.443844Z",
     "iopub.status.busy": "2021-10-25T11:19:45.443284Z",
     "iopub.status.idle": "2021-10-25T11:19:45.454618Z",
     "shell.execute_reply": "2021-10-25T11:19:45.455132Z"
    },
    "jupyter": {
     "source_hidden": true
    },
    "papermill": {
     "duration": 0.097364,
     "end_time": "2021-10-25T11:19:45.455381",
     "exception": false,
     "start_time": "2021-10-25T11:19:45.358017",
     "status": "completed"
    },
    "scrolled": true,
    "tags": []
   },
   "outputs": [
    {
     "data": {
      "text/html": [
       "<div>\n",
       "<style scoped>\n",
       "    .dataframe tbody tr th:only-of-type {\n",
       "        vertical-align: middle;\n",
       "    }\n",
       "\n",
       "    .dataframe tbody tr th {\n",
       "        vertical-align: top;\n",
       "    }\n",
       "\n",
       "    .dataframe thead th {\n",
       "        text-align: right;\n",
       "    }\n",
       "</style>\n",
       "<table border=\"1\" class=\"dataframe\">\n",
       "  <thead>\n",
       "    <tr style=\"text-align: right;\">\n",
       "      <th></th>\n",
       "      <th>Id</th>\n",
       "      <th>Year__c</th>\n",
       "    </tr>\n",
       "  </thead>\n",
       "  <tbody>\n",
       "    <tr>\n",
       "      <th>0</th>\n",
       "      <td>a0t5w000008p7pSAAQ</td>\n",
       "      <td>2012.0</td>\n",
       "    </tr>\n",
       "    <tr>\n",
       "      <th>1</th>\n",
       "      <td>a0t5w000008p7pTAAQ</td>\n",
       "      <td>2013.0</td>\n",
       "    </tr>\n",
       "  </tbody>\n",
       "</table>\n",
       "</div>"
      ],
      "text/plain": [
       "                   Id  Year__c\n",
       "0  a0t5w000008p7pSAAQ   2012.0\n",
       "1  a0t5w000008p7pTAAQ   2013.0"
      ]
     },
     "metadata": {},
     "output_type": "display_data"
    },
    {
     "data": {
      "text/html": [
       "<div>\n",
       "<style scoped>\n",
       "    .dataframe tbody tr th:only-of-type {\n",
       "        vertical-align: middle;\n",
       "    }\n",
       "\n",
       "    .dataframe tbody tr th {\n",
       "        vertical-align: top;\n",
       "    }\n",
       "\n",
       "    .dataframe thead th {\n",
       "        text-align: right;\n",
       "    }\n",
       "</style>\n",
       "<table border=\"1\" class=\"dataframe\">\n",
       "  <thead>\n",
       "    <tr style=\"text-align: right;\">\n",
       "      <th></th>\n",
       "      <th>Citation__c</th>\n",
       "      <th>Contact__c</th>\n",
       "      <th>Id</th>\n",
       "      <th>Organization__c</th>\n",
       "    </tr>\n",
       "  </thead>\n",
       "  <tbody>\n",
       "    <tr>\n",
       "      <th>0</th>\n",
       "      <td>a0t5w000008p7pSAAQ</td>\n",
       "      <td>0035w000034JLpOAAW</td>\n",
       "      <td>a0u5w00000RhVhTAAV</td>\n",
       "      <td>a0r5w00000V42cCAAR</td>\n",
       "    </tr>\n",
       "    <tr>\n",
       "      <th>1</th>\n",
       "      <td>a0t5w000008p7q1AAA</td>\n",
       "      <td>0035w000034JLpOAAW</td>\n",
       "      <td>a0u5w00000RhVhUAAV</td>\n",
       "      <td>a0r5w00000V42cCAAR</td>\n",
       "    </tr>\n",
       "  </tbody>\n",
       "</table>\n",
       "</div>"
      ],
      "text/plain": [
       "          Citation__c          Contact__c                  Id  \\\n",
       "0  a0t5w000008p7pSAAQ  0035w000034JLpOAAW  a0u5w00000RhVhTAAV   \n",
       "1  a0t5w000008p7q1AAA  0035w000034JLpOAAW  a0u5w00000RhVhUAAV   \n",
       "\n",
       "      Organization__c  \n",
       "0  a0r5w00000V42cCAAR  \n",
       "1  a0r5w00000V42cCAAR  "
      ]
     },
     "metadata": {},
     "output_type": "display_data"
    }
   ],
   "source": [
    "# display data used in this section\n",
    "display(sf_citation_df.head(2))\n",
    "display(sf_citation_asso_df.head(2))"
   ]
  },
  {
   "cell_type": "code",
   "execution_count": 9,
   "id": "642d0f4d",
   "metadata": {
    "execution": {
     "iopub.execute_input": "2021-10-25T11:19:45.620818Z",
     "iopub.status.busy": "2021-10-25T11:19:45.620288Z",
     "iopub.status.idle": "2021-10-25T11:19:45.629493Z",
     "shell.execute_reply": "2021-10-25T11:19:45.629991Z"
    },
    "jupyter": {
     "source_hidden": true
    },
    "papermill": {
     "duration": 0.096364,
     "end_time": "2021-10-25T11:19:45.630250",
     "exception": false,
     "start_time": "2021-10-25T11:19:45.533886",
     "status": "completed"
    },
    "tags": []
   },
   "outputs": [
    {
     "data": {
      "text/html": [
       "<div>\n",
       "<style scoped>\n",
       "    .dataframe tbody tr th:only-of-type {\n",
       "        vertical-align: middle;\n",
       "    }\n",
       "\n",
       "    .dataframe tbody tr th {\n",
       "        vertical-align: top;\n",
       "    }\n",
       "\n",
       "    .dataframe thead th {\n",
       "        text-align: right;\n",
       "    }\n",
       "</style>\n",
       "<table border=\"1\" class=\"dataframe\">\n",
       "  <thead>\n",
       "    <tr style=\"text-align: right;\">\n",
       "      <th></th>\n",
       "      <th>Id</th>\n",
       "      <th>Year__c</th>\n",
       "      <th>Citation__c</th>\n",
       "      <th>Contact__c</th>\n",
       "      <th>Id_citation_asso</th>\n",
       "      <th>Organization__c</th>\n",
       "    </tr>\n",
       "  </thead>\n",
       "  <tbody>\n",
       "    <tr>\n",
       "      <th>0</th>\n",
       "      <td>a0t5w000008p7pSAAQ</td>\n",
       "      <td>2012.0</td>\n",
       "      <td>a0t5w000008p7pSAAQ</td>\n",
       "      <td>0035w000034JLpOAAW</td>\n",
       "      <td>a0u5w00000RhVhTAAV</td>\n",
       "      <td>a0r5w00000V42cCAAR</td>\n",
       "    </tr>\n",
       "    <tr>\n",
       "      <th>1</th>\n",
       "      <td>a0t5w000008p7pSAAQ</td>\n",
       "      <td>2012.0</td>\n",
       "      <td>a0t5w000008p7pSAAQ</td>\n",
       "      <td>0035w000034JLfwAAG</td>\n",
       "      <td>a0u5w00000RhVi2AAF</td>\n",
       "      <td>a0r5w00000V42cCAAR</td>\n",
       "    </tr>\n",
       "  </tbody>\n",
       "</table>\n",
       "</div>"
      ],
      "text/plain": [
       "                   Id  Year__c         Citation__c          Contact__c  \\\n",
       "0  a0t5w000008p7pSAAQ   2012.0  a0t5w000008p7pSAAQ  0035w000034JLpOAAW   \n",
       "1  a0t5w000008p7pSAAQ   2012.0  a0t5w000008p7pSAAQ  0035w000034JLfwAAG   \n",
       "\n",
       "     Id_citation_asso     Organization__c  \n",
       "0  a0u5w00000RhVhTAAV  a0r5w00000V42cCAAR  \n",
       "1  a0u5w00000RhVi2AAF  a0r5w00000V42cCAAR  "
      ]
     },
     "execution_count": 9,
     "metadata": {},
     "output_type": "execute_result"
    }
   ],
   "source": [
    "overall_df = pd.merge(sf_citation_df, sf_citation_asso_df, \\\n",
    "                      how='inner', left_on='Id', right_on='Citation__c', suffixes=['', '_citation_asso'])\n",
    "\n",
    "# display\n",
    "overall_df.head(2)"
   ]
  },
  {
   "cell_type": "code",
   "execution_count": 10,
   "id": "9c049ce3",
   "metadata": {
    "execution": {
     "iopub.execute_input": "2021-10-25T11:19:45.890397Z",
     "iopub.status.busy": "2021-10-25T11:19:45.796863Z",
     "iopub.status.idle": "2021-10-25T11:19:46.213323Z",
     "shell.execute_reply": "2021-10-25T11:19:46.213772Z"
    },
    "jupyter": {
     "source_hidden": true
    },
    "papermill": {
     "duration": 0.503516,
     "end_time": "2021-10-25T11:19:46.213946",
     "exception": false,
     "start_time": "2021-10-25T11:19:45.710430",
     "status": "completed"
    },
    "scrolled": true,
    "tags": []
   },
   "outputs": [
    {
     "data": {
      "text/html": [
       "<div>\n",
       "<style scoped>\n",
       "    .dataframe tbody tr th:only-of-type {\n",
       "        vertical-align: middle;\n",
       "    }\n",
       "\n",
       "    .dataframe tbody tr th {\n",
       "        vertical-align: top;\n",
       "    }\n",
       "\n",
       "    .dataframe thead th {\n",
       "        text-align: right;\n",
       "    }\n",
       "</style>\n",
       "<table border=\"1\" class=\"dataframe\">\n",
       "  <thead>\n",
       "    <tr style=\"text-align: right;\">\n",
       "      <th></th>\n",
       "      <th>Contact__c</th>\n",
       "      <th>Organization_citation_derived__c</th>\n",
       "    </tr>\n",
       "  </thead>\n",
       "  <tbody>\n",
       "    <tr>\n",
       "      <th>0</th>\n",
       "      <td>0035w000031Vt92AAC</td>\n",
       "      <td>a0r5w00000V42pJAAR</td>\n",
       "    </tr>\n",
       "    <tr>\n",
       "      <th>1</th>\n",
       "      <td>0035w000031Vt9kAAC</td>\n",
       "      <td>a0r5w00000V42nyAAB</td>\n",
       "    </tr>\n",
       "  </tbody>\n",
       "</table>\n",
       "</div>"
      ],
      "text/plain": [
       "           Contact__c Organization_citation_derived__c\n",
       "0  0035w000031Vt92AAC               a0r5w00000V42pJAAR\n",
       "1  0035w000031Vt9kAAC               a0r5w00000V42nyAAB"
      ]
     },
     "execution_count": 10,
     "metadata": {},
     "output_type": "execute_result"
    }
   ],
   "source": [
    "# infer contact's organziation by using latest citation organization\n",
    "org_from_citation_df = overall_df.groupby('Contact__c').apply(lambda x: \\\n",
    "                                                   x.sort_values(by=['Year__c'], ascending=False).head(1).Organization__c.iloc[0])\\\n",
    "                                            .dropna().reset_index(name='Organization_citation_derived__c')\n",
    "\n",
    "# display\n",
    "org_from_citation_df.head(2)"
   ]
  },
  {
   "cell_type": "code",
   "execution_count": 11,
   "id": "2ea74381",
   "metadata": {
    "execution": {
     "iopub.execute_input": "2021-10-25T11:19:46.386460Z",
     "iopub.status.busy": "2021-10-25T11:19:46.385827Z",
     "iopub.status.idle": "2021-10-25T11:19:46.388343Z",
     "shell.execute_reply": "2021-10-25T11:19:46.388836Z"
    },
    "jupyter": {
     "source_hidden": true
    },
    "papermill": {
     "duration": 0.092782,
     "end_time": "2021-10-25T11:19:46.389067",
     "exception": false,
     "start_time": "2021-10-25T11:19:46.296285",
     "status": "completed"
    },
    "tags": []
   },
   "outputs": [
    {
     "data": {
      "text/html": [
       "<div>\n",
       "<style scoped>\n",
       "    .dataframe tbody tr th:only-of-type {\n",
       "        vertical-align: middle;\n",
       "    }\n",
       "\n",
       "    .dataframe tbody tr th {\n",
       "        vertical-align: top;\n",
       "    }\n",
       "\n",
       "    .dataframe thead th {\n",
       "        text-align: right;\n",
       "    }\n",
       "</style>\n",
       "<table border=\"1\" class=\"dataframe\">\n",
       "  <thead>\n",
       "    <tr style=\"text-align: right;\">\n",
       "      <th></th>\n",
       "      <th>0</th>\n",
       "      <th>1</th>\n",
       "    </tr>\n",
       "  </thead>\n",
       "  <tbody>\n",
       "    <tr>\n",
       "      <th>Id</th>\n",
       "      <td>0035w000031Vt92AAC</td>\n",
       "      <td>0035w000031Vt9kAAC</td>\n",
       "    </tr>\n",
       "    <tr>\n",
       "      <th>Organization_citation_derived__c</th>\n",
       "      <td>a0r5w00000V42pJAAR</td>\n",
       "      <td>a0r5w00000V42nyAAB</td>\n",
       "    </tr>\n",
       "  </tbody>\n",
       "</table>\n",
       "</div>"
      ],
      "text/plain": [
       "                                                   0                   1\n",
       "Id                                0035w000031Vt92AAC  0035w000031Vt9kAAC\n",
       "Organization_citation_derived__c  a0r5w00000V42pJAAR  a0r5w00000V42nyAAB"
      ]
     },
     "execution_count": 11,
     "metadata": {},
     "output_type": "execute_result"
    }
   ],
   "source": [
    "# Send data to Salesforce\n",
    "\n",
    "df_sf = pd.DataFrame()\n",
    "\n",
    "# Make sure NaN and NaT values are taken care of here\n",
    "df_sf['Id']         = org_from_citation_df['Contact__c']\n",
    "df_sf['Organization_citation_derived__c'] = org_from_citation_df['Organization_citation_derived__c']\n",
    "\n",
    "sf_original_fields = df_sf.columns\n",
    "\n",
    "# display\n",
    "df_sf.head(2).T"
   ]
  },
  {
   "cell_type": "code",
   "execution_count": 12,
   "id": "ab30f865",
   "metadata": {
    "execution": {
     "iopub.execute_input": "2021-10-25T11:19:46.552905Z",
     "iopub.status.busy": "2021-10-25T11:19:46.552383Z",
     "iopub.status.idle": "2021-10-25T11:19:46.554837Z",
     "shell.execute_reply": "2021-10-25T11:19:46.555336Z"
    },
    "jupyter": {
     "source_hidden": true
    },
    "papermill": {
     "duration": 0.083983,
     "end_time": "2021-10-25T11:19:46.555572",
     "exception": false,
     "start_time": "2021-10-25T11:19:46.471589",
     "status": "completed"
    },
    "tags": []
   },
   "outputs": [],
   "source": [
    "db_s = salesforce\n",
    "\n",
    "# specify Salesforce object ID and external ID\n",
    "db_s.object_id = 'Contact'\n",
    "db_s.external_id = 'Id'"
   ]
  },
  {
   "cell_type": "code",
   "execution_count": 13,
   "id": "8349e9e3",
   "metadata": {
    "execution": {
     "iopub.execute_input": "2021-10-25T11:19:46.723972Z",
     "iopub.status.busy": "2021-10-25T11:19:46.723290Z",
     "iopub.status.idle": "2021-10-25T11:19:47.996360Z",
     "shell.execute_reply": "2021-10-25T11:19:47.996920Z"
    },
    "jupyter": {
     "source_hidden": true
    },
    "papermill": {
     "duration": 1.359196,
     "end_time": "2021-10-25T11:19:47.997171",
     "exception": false,
     "start_time": "2021-10-25T11:19:46.637975",
     "status": "completed"
    },
    "tags": []
   },
   "outputs": [
    {
     "name": "stdout",
     "output_type": "stream",
     "text": [
      "[Success] Bulk job creation successful. Job ID = 7505w00000b2CznAAE\n",
      "hello\n"
     ]
    },
    {
     "name": "stdout",
     "output_type": "stream",
     "text": [
      "[Success] CSV upload successful. Job ID = 7505w00000b2CznAAE\n"
     ]
    },
    {
     "name": "stdout",
     "output_type": "stream",
     "text": [
      "[Success] Closing job successful. Job ID = 7505w00000b2CznAAE\n"
     ]
    }
   ],
   "source": [
    "# send data to Salesforce\n",
    "db_s.send_data(df_sf)"
   ]
  },
  {
   "cell_type": "code",
   "execution_count": 14,
   "id": "1a4ef9ef",
   "metadata": {
    "execution": {
     "iopub.execute_input": "2021-10-25T11:19:48.163412Z",
     "iopub.status.busy": "2021-10-25T11:19:48.162788Z",
     "iopub.status.idle": "2021-10-25T11:19:48.462066Z",
     "shell.execute_reply": "2021-10-25T11:19:48.462490Z"
    },
    "jupyter": {
     "source_hidden": true
    },
    "papermill": {
     "duration": 0.38147,
     "end_time": "2021-10-25T11:19:48.462674",
     "exception": false,
     "start_time": "2021-10-25T11:19:48.081204",
     "status": "completed"
    },
    "tags": []
   },
   "outputs": [
    {
     "name": "stdout",
     "output_type": "stream",
     "text": [
      "{'apexProcessingTime': 0,\n",
      " 'apiActiveProcessingTime': 0,\n",
      " 'apiVersion': 47.0,\n",
      " 'columnDelimiter': 'COMMA',\n",
      " 'concurrencyMode': 'Parallel',\n",
      " 'contentType': 'CSV',\n",
      " 'createdById': '0055w00000DM5bOAAT',\n",
      " 'createdDate': '2021-10-25T11:19:47.000+0000',\n",
      " 'externalIdFieldName': 'Id',\n",
      " 'id': '7505w00000b2CznAAE',\n",
      " 'jobType': 'V2Ingest',\n",
      " 'lineEnding': 'LF',\n",
      " 'numberRecordsFailed': 0,\n",
      " 'numberRecordsProcessed': 0,\n",
      " 'object': 'Contact',\n",
      " 'operation': 'upsert',\n",
      " 'retries': 0,\n",
      " 'state': 'InProgress',\n",
      " 'systemModstamp': '2021-10-25T11:19:48.000+0000',\n",
      " 'totalProcessingTime': 0}\n"
     ]
    }
   ],
   "source": [
    "# check status\n",
    "from pprint import pprint\n",
    "\n",
    "pprint(db_s.check_bulk_status())"
   ]
  },
  {
   "cell_type": "markdown",
   "id": "42ec68e4",
   "metadata": {
    "papermill": {
     "duration": 0.083489,
     "end_time": "2021-10-25T11:19:48.631379",
     "exception": false,
     "start_time": "2021-10-25T11:19:48.547890",
     "status": "completed"
    },
    "tags": []
   },
   "source": [
    "## Determine cluster's domain by contact information"
   ]
  },
  {
   "cell_type": "code",
   "execution_count": 15,
   "id": "889d24fb",
   "metadata": {
    "execution": {
     "iopub.execute_input": "2021-10-25T11:19:48.806650Z",
     "iopub.status.busy": "2021-10-25T11:19:48.806001Z",
     "iopub.status.idle": "2021-10-25T11:19:48.812754Z",
     "shell.execute_reply": "2021-10-25T11:19:48.813178Z"
    },
    "jupyter": {
     "source_hidden": true
    },
    "papermill": {
     "duration": 0.096539,
     "end_time": "2021-10-25T11:19:48.813425",
     "exception": false,
     "start_time": "2021-10-25T11:19:48.716886",
     "status": "completed"
    },
    "tags": []
   },
   "outputs": [
    {
     "data": {
      "text/html": [
       "<div>\n",
       "<style scoped>\n",
       "    .dataframe tbody tr th:only-of-type {\n",
       "        vertical-align: middle;\n",
       "    }\n",
       "\n",
       "    .dataframe tbody tr th {\n",
       "        vertical-align: top;\n",
       "    }\n",
       "\n",
       "    .dataframe thead th {\n",
       "        text-align: right;\n",
       "    }\n",
       "</style>\n",
       "<table border=\"1\" class=\"dataframe\">\n",
       "  <thead>\n",
       "    <tr style=\"text-align: right;\">\n",
       "      <th></th>\n",
       "      <th>Contact__c</th>\n",
       "      <th>Id</th>\n",
       "      <th>Tool_Usage_Cluster__c</th>\n",
       "    </tr>\n",
       "  </thead>\n",
       "  <tbody>\n",
       "    <tr>\n",
       "      <th>0</th>\n",
       "      <td>0035w000034JG1EAAW</td>\n",
       "      <td>a0x5w00000cMzV5AAK</td>\n",
       "      <td>a0w5w000009Q7m3AAC</td>\n",
       "    </tr>\n",
       "    <tr>\n",
       "      <th>1</th>\n",
       "      <td>0035w000034I5sjAAC</td>\n",
       "      <td>a0x5w00000cMzVAAA0</td>\n",
       "      <td>a0w5w000009Q7m3AAC</td>\n",
       "    </tr>\n",
       "  </tbody>\n",
       "</table>\n",
       "</div>"
      ],
      "text/plain": [
       "           Contact__c                  Id Tool_Usage_Cluster__c\n",
       "0  0035w000034JG1EAAW  a0x5w00000cMzV5AAK    a0w5w000009Q7m3AAC\n",
       "1  0035w000034I5sjAAC  a0x5w00000cMzVAAA0    a0w5w000009Q7m3AAC"
      ]
     },
     "metadata": {},
     "output_type": "display_data"
    },
    {
     "data": {
      "text/html": [
       "<div>\n",
       "<style scoped>\n",
       "    .dataframe tbody tr th:only-of-type {\n",
       "        vertical-align: middle;\n",
       "    }\n",
       "\n",
       "    .dataframe tbody tr th {\n",
       "        vertical-align: top;\n",
       "    }\n",
       "\n",
       "    .dataframe thead th {\n",
       "        text-align: right;\n",
       "    }\n",
       "</style>\n",
       "<table border=\"1\" class=\"dataframe\">\n",
       "  <thead>\n",
       "    <tr style=\"text-align: right;\">\n",
       "      <th></th>\n",
       "      <th>Id</th>\n",
       "      <th>Organization_Overwrite__c</th>\n",
       "      <th>Organization_email_derived__c</th>\n",
       "    </tr>\n",
       "  </thead>\n",
       "  <tbody>\n",
       "    <tr>\n",
       "      <th>0</th>\n",
       "      <td>0035w000031Vsp1AAC</td>\n",
       "      <td>NaN</td>\n",
       "      <td>NaN</td>\n",
       "    </tr>\n",
       "    <tr>\n",
       "      <th>1</th>\n",
       "      <td>0035w000031Vsp2AAC</td>\n",
       "      <td>NaN</td>\n",
       "      <td>a0r5w00000V42cCAAR</td>\n",
       "    </tr>\n",
       "  </tbody>\n",
       "</table>\n",
       "</div>"
      ],
      "text/plain": [
       "                   Id Organization_Overwrite__c Organization_email_derived__c\n",
       "0  0035w000031Vsp1AAC                       NaN                           NaN\n",
       "1  0035w000031Vsp2AAC                       NaN            a0r5w00000V42cCAAR"
      ]
     },
     "metadata": {},
     "output_type": "display_data"
    }
   ],
   "source": [
    "# display data used in this section\n",
    "display(sf_cluster_asso_df.head(2))\n",
    "display(sf_contact_df.head(2))"
   ]
  },
  {
   "cell_type": "code",
   "execution_count": 16,
   "id": "64f7f9a4",
   "metadata": {
    "execution": {
     "iopub.execute_input": "2021-10-25T11:19:48.993548Z",
     "iopub.status.busy": "2021-10-25T11:19:48.993034Z",
     "iopub.status.idle": "2021-10-25T11:19:48.995584Z",
     "shell.execute_reply": "2021-10-25T11:19:48.996099Z"
    },
    "jupyter": {
     "source_hidden": true
    },
    "papermill": {
     "duration": 0.094623,
     "end_time": "2021-10-25T11:19:48.996352",
     "exception": false,
     "start_time": "2021-10-25T11:19:48.901729",
     "status": "completed"
    },
    "tags": []
   },
   "outputs": [],
   "source": [
    "# Convert time to datetime in Pandas\n",
    "sf_cluster_df['Starting_Date__c'] = pd.to_datetime(sf_cluster_df.Starting_Date__c)"
   ]
  },
  {
   "cell_type": "code",
   "execution_count": 17,
   "id": "54ba3dd5",
   "metadata": {
    "execution": {
     "iopub.execute_input": "2021-10-25T11:19:49.231949Z",
     "iopub.status.busy": "2021-10-25T11:19:49.231358Z",
     "iopub.status.idle": "2021-10-25T11:19:49.278272Z",
     "shell.execute_reply": "2021-10-25T11:19:49.278689Z"
    },
    "jupyter": {
     "source_hidden": true
    },
    "papermill": {
     "duration": 0.19566,
     "end_time": "2021-10-25T11:19:49.278930",
     "exception": false,
     "start_time": "2021-10-25T11:19:49.083270",
     "status": "completed"
    },
    "tags": []
   },
   "outputs": [
    {
     "data": {
      "text/html": [
       "<div>\n",
       "<style scoped>\n",
       "    .dataframe tbody tr th:only-of-type {\n",
       "        vertical-align: middle;\n",
       "    }\n",
       "\n",
       "    .dataframe tbody tr th {\n",
       "        vertical-align: top;\n",
       "    }\n",
       "\n",
       "    .dataframe thead th {\n",
       "        text-align: right;\n",
       "    }\n",
       "</style>\n",
       "<table border=\"1\" class=\"dataframe\">\n",
       "  <thead>\n",
       "    <tr style=\"text-align: right;\">\n",
       "      <th></th>\n",
       "      <th>Tool_Usage_Cluster__c</th>\n",
       "      <th>Organization_Overwrite__c</th>\n",
       "      <th>Organization_email_derived__c</th>\n",
       "    </tr>\n",
       "  </thead>\n",
       "  <tbody>\n",
       "    <tr>\n",
       "      <th>0</th>\n",
       "      <td>a0w5w000009Q7m3AAC</td>\n",
       "      <td>NaN</td>\n",
       "      <td>a0r5w00000V42cCAAR</td>\n",
       "    </tr>\n",
       "    <tr>\n",
       "      <th>1</th>\n",
       "      <td>a0w5w000009Q7lsAAC</td>\n",
       "      <td>NaN</td>\n",
       "      <td>a0r5w00000V42cCAAR</td>\n",
       "    </tr>\n",
       "  </tbody>\n",
       "</table>\n",
       "</div>"
      ],
      "text/plain": [
       "  Tool_Usage_Cluster__c Organization_Overwrite__c  \\\n",
       "0    a0w5w000009Q7m3AAC                       NaN   \n",
       "1    a0w5w000009Q7lsAAC                       NaN   \n",
       "\n",
       "  Organization_email_derived__c  \n",
       "0            a0r5w00000V42cCAAR  \n",
       "1            a0r5w00000V42cCAAR  "
      ]
     },
     "execution_count": 17,
     "metadata": {},
     "output_type": "execute_result"
    }
   ],
   "source": [
    "overall_df = pd.merge(sf_cluster_asso_df[['Contact__c', 'Tool_Usage_Cluster__c']], sf_contact_df, \\\n",
    "                                     how ='inner', left_on='Contact__c', right_on='Id' )\n",
    "\n",
    "overall_df.drop(columns=['Id', 'Contact__c'], inplace=True)\n",
    "\n",
    "# display\n",
    "overall_df.head(2)"
   ]
  },
  {
   "cell_type": "code",
   "execution_count": 18,
   "id": "bf5c216a",
   "metadata": {
    "execution": {
     "iopub.execute_input": "2021-10-25T11:19:49.472401Z",
     "iopub.status.busy": "2021-10-25T11:19:49.471821Z",
     "iopub.status.idle": "2021-10-25T11:19:50.873360Z",
     "shell.execute_reply": "2021-10-25T11:19:50.873828Z"
    },
    "jupyter": {
     "source_hidden": true
    },
    "papermill": {
     "duration": 1.508751,
     "end_time": "2021-10-25T11:19:50.874065",
     "exception": false,
     "start_time": "2021-10-25T11:19:49.365314",
     "status": "completed"
    },
    "tags": []
   },
   "outputs": [
    {
     "data": {
      "text/html": [
       "<div>\n",
       "<style scoped>\n",
       "    .dataframe tbody tr th:only-of-type {\n",
       "        vertical-align: middle;\n",
       "    }\n",
       "\n",
       "    .dataframe tbody tr th {\n",
       "        vertical-align: top;\n",
       "    }\n",
       "\n",
       "    .dataframe thead th {\n",
       "        text-align: right;\n",
       "    }\n",
       "</style>\n",
       "<table border=\"1\" class=\"dataframe\">\n",
       "  <thead>\n",
       "    <tr style=\"text-align: right;\">\n",
       "      <th></th>\n",
       "      <th>Tool_Usage_Cluster__c</th>\n",
       "      <th>Organization_Overwrite__c</th>\n",
       "      <th>Organization_email_derived__c</th>\n",
       "      <th>final_org</th>\n",
       "    </tr>\n",
       "  </thead>\n",
       "  <tbody>\n",
       "    <tr>\n",
       "      <th>0</th>\n",
       "      <td>a0w5w000009Q7m3AAC</td>\n",
       "      <td>NaN</td>\n",
       "      <td>a0r5w00000V42cCAAR</td>\n",
       "      <td>a0r5w00000V42cCAAR</td>\n",
       "    </tr>\n",
       "    <tr>\n",
       "      <th>1</th>\n",
       "      <td>a0w5w000009Q7lsAAC</td>\n",
       "      <td>NaN</td>\n",
       "      <td>a0r5w00000V42cCAAR</td>\n",
       "      <td>a0r5w00000V42cCAAR</td>\n",
       "    </tr>\n",
       "  </tbody>\n",
       "</table>\n",
       "</div>"
      ],
      "text/plain": [
       "  Tool_Usage_Cluster__c Organization_Overwrite__c  \\\n",
       "0    a0w5w000009Q7m3AAC                       NaN   \n",
       "1    a0w5w000009Q7lsAAC                       NaN   \n",
       "\n",
       "  Organization_email_derived__c           final_org  \n",
       "0            a0r5w00000V42cCAAR  a0r5w00000V42cCAAR  \n",
       "1            a0r5w00000V42cCAAR  a0r5w00000V42cCAAR  "
      ]
     },
     "execution_count": 18,
     "metadata": {},
     "output_type": "execute_result"
    }
   ],
   "source": [
    "# apply overwrite\n",
    "overall_df['final_org'] = overall_df.fillna('').apply(lambda x: \\\n",
    "                                    x.Organization_Overwrite__c if x.Organization_Overwrite__c!='' \\\n",
    "                                    else x.Organization_email_derived__c, axis=1)\n",
    "\n",
    "# display\n",
    "overall_df.head(2)"
   ]
  },
  {
   "cell_type": "code",
   "execution_count": 19,
   "id": "9b638202",
   "metadata": {
    "execution": {
     "iopub.execute_input": "2021-10-25T11:19:51.054731Z",
     "iopub.status.busy": "2021-10-25T11:19:51.054223Z",
     "iopub.status.idle": "2021-10-25T11:19:51.595919Z",
     "shell.execute_reply": "2021-10-25T11:19:51.596786Z"
    },
    "jupyter": {
     "source_hidden": true
    },
    "papermill": {
     "duration": 0.637717,
     "end_time": "2021-10-25T11:19:51.597121",
     "exception": false,
     "start_time": "2021-10-25T11:19:50.959404",
     "status": "completed"
    },
    "tags": []
   },
   "outputs": [
    {
     "data": {
      "text/html": [
       "<div>\n",
       "<style scoped>\n",
       "    .dataframe tbody tr th:only-of-type {\n",
       "        vertical-align: middle;\n",
       "    }\n",
       "\n",
       "    .dataframe tbody tr th {\n",
       "        vertical-align: top;\n",
       "    }\n",
       "\n",
       "    .dataframe thead th {\n",
       "        text-align: right;\n",
       "    }\n",
       "</style>\n",
       "<table border=\"1\" class=\"dataframe\">\n",
       "  <thead>\n",
       "    <tr style=\"text-align: right;\">\n",
       "      <th></th>\n",
       "      <th>Tool_Usage_Cluster__c</th>\n",
       "      <th>Organization__c</th>\n",
       "    </tr>\n",
       "  </thead>\n",
       "  <tbody>\n",
       "    <tr>\n",
       "      <th>0</th>\n",
       "      <td>a0w5w000009Q7CuAAK</td>\n",
       "      <td></td>\n",
       "    </tr>\n",
       "    <tr>\n",
       "      <th>1</th>\n",
       "      <td>a0w5w000009Q7CvAAK</td>\n",
       "      <td></td>\n",
       "    </tr>\n",
       "  </tbody>\n",
       "</table>\n",
       "</div>"
      ],
      "text/plain": [
       "  Tool_Usage_Cluster__c Organization__c\n",
       "0    a0w5w000009Q7CuAAK                \n",
       "1    a0w5w000009Q7CvAAK                "
      ]
     },
     "execution_count": 19,
     "metadata": {},
     "output_type": "execute_result"
    }
   ],
   "source": [
    "# infer the organization of this cluster through majority vote\n",
    "org_from_cluster_df = overall_df.groupby('Tool_Usage_Cluster__c').final_org.apply(lambda x: \\\n",
    "                                                   x.mode().iloc[0])\\\n",
    "                                            .dropna().reset_index(name='Organization__c')\n",
    "\n",
    "# display\n",
    "org_from_cluster_df.head(2)"
   ]
  },
  {
   "cell_type": "code",
   "execution_count": 20,
   "id": "d3fcc7af",
   "metadata": {
    "execution": {
     "iopub.execute_input": "2021-10-25T11:19:51.798608Z",
     "iopub.status.busy": "2021-10-25T11:19:51.797919Z",
     "iopub.status.idle": "2021-10-25T11:19:51.800355Z",
     "shell.execute_reply": "2021-10-25T11:19:51.800846Z"
    },
    "jupyter": {
     "source_hidden": true
    },
    "papermill": {
     "duration": 0.105719,
     "end_time": "2021-10-25T11:19:51.801083",
     "exception": false,
     "start_time": "2021-10-25T11:19:51.695364",
     "status": "completed"
    },
    "tags": []
   },
   "outputs": [
    {
     "data": {
      "text/html": [
       "<div>\n",
       "<style scoped>\n",
       "    .dataframe tbody tr th:only-of-type {\n",
       "        vertical-align: middle;\n",
       "    }\n",
       "\n",
       "    .dataframe tbody tr th {\n",
       "        vertical-align: top;\n",
       "    }\n",
       "\n",
       "    .dataframe thead th {\n",
       "        text-align: right;\n",
       "    }\n",
       "</style>\n",
       "<table border=\"1\" class=\"dataframe\">\n",
       "  <thead>\n",
       "    <tr style=\"text-align: right;\">\n",
       "      <th></th>\n",
       "      <th>0</th>\n",
       "      <th>1</th>\n",
       "    </tr>\n",
       "  </thead>\n",
       "  <tbody>\n",
       "    <tr>\n",
       "      <th>Id</th>\n",
       "      <td>a0w5w000009Q7CuAAK</td>\n",
       "      <td>a0w5w000009Q7CvAAK</td>\n",
       "    </tr>\n",
       "    <tr>\n",
       "      <th>Organization__c</th>\n",
       "      <td></td>\n",
       "      <td></td>\n",
       "    </tr>\n",
       "  </tbody>\n",
       "</table>\n",
       "</div>"
      ],
      "text/plain": [
       "                                  0                   1\n",
       "Id               a0w5w000009Q7CuAAK  a0w5w000009Q7CvAAK\n",
       "Organization__c                                        "
      ]
     },
     "execution_count": 20,
     "metadata": {},
     "output_type": "execute_result"
    }
   ],
   "source": [
    "# Send data to Salesforce\n",
    "\n",
    "df_sf = pd.DataFrame()\n",
    "\n",
    "# Make sure NaN and NaT values are taken care of here\n",
    "df_sf['Id']         = org_from_cluster_df['Tool_Usage_Cluster__c']\n",
    "df_sf['Organization__c'] = org_from_cluster_df['Organization__c']\n",
    "\n",
    "sf_original_fields = df_sf.columns\n",
    "\n",
    "# display\n",
    "df_sf.head(2).T"
   ]
  },
  {
   "cell_type": "code",
   "execution_count": 21,
   "id": "d06ecb7f",
   "metadata": {
    "execution": {
     "iopub.execute_input": "2021-10-25T11:19:51.988279Z",
     "iopub.status.busy": "2021-10-25T11:19:51.987642Z",
     "iopub.status.idle": "2021-10-25T11:19:51.990169Z",
     "shell.execute_reply": "2021-10-25T11:19:51.990632Z"
    },
    "jupyter": {
     "source_hidden": true
    },
    "papermill": {
     "duration": 0.097643,
     "end_time": "2021-10-25T11:19:51.990877",
     "exception": false,
     "start_time": "2021-10-25T11:19:51.893234",
     "status": "completed"
    },
    "tags": []
   },
   "outputs": [],
   "source": [
    "# create DB2 to Salesforce API object\n",
    "db_s = salesforce\n",
    "\n",
    "# specify Salesforce object ID and external ID\n",
    "db_s.object_id = 'tool_usage_cluster__c'\n",
    "db_s.external_id = 'Id'"
   ]
  },
  {
   "cell_type": "code",
   "execution_count": 22,
   "id": "50ea94e7",
   "metadata": {
    "execution": {
     "iopub.execute_input": "2021-10-25T11:19:52.175745Z",
     "iopub.status.busy": "2021-10-25T11:19:52.175025Z",
     "iopub.status.idle": "2021-10-25T11:19:53.141668Z",
     "shell.execute_reply": "2021-10-25T11:19:53.142573Z"
    },
    "jupyter": {
     "source_hidden": true
    },
    "papermill": {
     "duration": 1.060874,
     "end_time": "2021-10-25T11:19:53.142823",
     "exception": false,
     "start_time": "2021-10-25T11:19:52.081949",
     "status": "completed"
    },
    "tags": []
   },
   "outputs": [
    {
     "name": "stdout",
     "output_type": "stream",
     "text": [
      "[Success] Bulk job creation successful. Job ID = 7505w00000b2CzeAAE\n",
      "hello\n"
     ]
    },
    {
     "name": "stdout",
     "output_type": "stream",
     "text": [
      "[Success] CSV upload successful. Job ID = 7505w00000b2CzeAAE\n"
     ]
    },
    {
     "name": "stdout",
     "output_type": "stream",
     "text": [
      "[Success] Closing job successful. Job ID = 7505w00000b2CzeAAE\n"
     ]
    }
   ],
   "source": [
    "# send data to Salesforce\n",
    "db_s.send_data(df_sf)"
   ]
  },
  {
   "cell_type": "code",
   "execution_count": 23,
   "id": "07010f4a",
   "metadata": {
    "execution": {
     "iopub.execute_input": "2021-10-25T11:19:53.341876Z",
     "iopub.status.busy": "2021-10-25T11:19:53.341293Z",
     "iopub.status.idle": "2021-10-25T11:19:53.705027Z",
     "shell.execute_reply": "2021-10-25T11:19:53.705383Z"
    },
    "jupyter": {
     "source_hidden": true
    },
    "papermill": {
     "duration": 0.462758,
     "end_time": "2021-10-25T11:19:53.705549",
     "exception": false,
     "start_time": "2021-10-25T11:19:53.242791",
     "status": "completed"
    },
    "tags": []
   },
   "outputs": [
    {
     "name": "stdout",
     "output_type": "stream",
     "text": [
      "{'apexProcessingTime': 0,\n",
      " 'apiActiveProcessingTime': 0,\n",
      " 'apiVersion': 47.0,\n",
      " 'columnDelimiter': 'COMMA',\n",
      " 'concurrencyMode': 'Parallel',\n",
      " 'contentType': 'CSV',\n",
      " 'createdById': '0055w00000DM5bOAAT',\n",
      " 'createdDate': '2021-10-25T11:19:52.000+0000',\n",
      " 'externalIdFieldName': 'Id',\n",
      " 'id': '7505w00000b2CzeAAE',\n",
      " 'jobType': 'V2Ingest',\n",
      " 'lineEnding': 'LF',\n",
      " 'numberRecordsFailed': 0,\n",
      " 'numberRecordsProcessed': 0,\n",
      " 'object': 'tool_usage_cluster__c',\n",
      " 'operation': 'upsert',\n",
      " 'retries': 0,\n",
      " 'state': 'InProgress',\n",
      " 'systemModstamp': '2021-10-25T11:19:53.000+0000',\n",
      " 'totalProcessingTime': 0}\n"
     ]
    }
   ],
   "source": [
    "# check status\n",
    "from pprint import pprint\n",
    "\n",
    "pprint(db_s.check_bulk_status())"
   ]
  },
  {
   "cell_type": "markdown",
   "id": "e38c4de7",
   "metadata": {
    "papermill": {
     "duration": 0.092613,
     "end_time": "2021-10-25T11:19:53.894157",
     "exception": false,
     "start_time": "2021-10-25T11:19:53.801544",
     "status": "completed"
    },
    "tags": []
   },
   "source": [
    "## Determine domain by cluster by latest cluster"
   ]
  },
  {
   "cell_type": "code",
   "execution_count": 24,
   "id": "39fc5739",
   "metadata": {
    "execution": {
     "iopub.execute_input": "2021-10-25T11:19:54.093741Z",
     "iopub.status.busy": "2021-10-25T11:19:54.093067Z",
     "iopub.status.idle": "2021-10-25T11:19:54.105081Z",
     "shell.execute_reply": "2021-10-25T11:19:54.105606Z"
    },
    "jupyter": {
     "source_hidden": true
    },
    "papermill": {
     "duration": 0.115963,
     "end_time": "2021-10-25T11:19:54.105782",
     "exception": false,
     "start_time": "2021-10-25T11:19:53.989819",
     "status": "completed"
    },
    "tags": []
   },
   "outputs": [
    {
     "data": {
      "text/html": [
       "<div>\n",
       "<style scoped>\n",
       "    .dataframe tbody tr th:only-of-type {\n",
       "        vertical-align: middle;\n",
       "    }\n",
       "\n",
       "    .dataframe tbody tr th {\n",
       "        vertical-align: top;\n",
       "    }\n",
       "\n",
       "    .dataframe thead th {\n",
       "        text-align: right;\n",
       "    }\n",
       "</style>\n",
       "<table border=\"1\" class=\"dataframe\">\n",
       "  <thead>\n",
       "    <tr style=\"text-align: right;\">\n",
       "      <th></th>\n",
       "      <th>Id</th>\n",
       "      <th>Starting_Date__c</th>\n",
       "    </tr>\n",
       "  </thead>\n",
       "  <tbody>\n",
       "    <tr>\n",
       "      <th>0</th>\n",
       "      <td>a0w5w000009Q7CuAAK</td>\n",
       "      <td>2010-09-05</td>\n",
       "    </tr>\n",
       "    <tr>\n",
       "      <th>1</th>\n",
       "      <td>a0w5w000009Q7CvAAK</td>\n",
       "      <td>2018-11-29</td>\n",
       "    </tr>\n",
       "  </tbody>\n",
       "</table>\n",
       "</div>"
      ],
      "text/plain": [
       "                   Id Starting_Date__c\n",
       "0  a0w5w000009Q7CuAAK       2010-09-05\n",
       "1  a0w5w000009Q7CvAAK       2018-11-29"
      ]
     },
     "metadata": {},
     "output_type": "display_data"
    },
    {
     "data": {
      "text/html": [
       "<div>\n",
       "<style scoped>\n",
       "    .dataframe tbody tr th:only-of-type {\n",
       "        vertical-align: middle;\n",
       "    }\n",
       "\n",
       "    .dataframe tbody tr th {\n",
       "        vertical-align: top;\n",
       "    }\n",
       "\n",
       "    .dataframe thead th {\n",
       "        text-align: right;\n",
       "    }\n",
       "</style>\n",
       "<table border=\"1\" class=\"dataframe\">\n",
       "  <thead>\n",
       "    <tr style=\"text-align: right;\">\n",
       "      <th></th>\n",
       "      <th>Contact__c</th>\n",
       "      <th>Id</th>\n",
       "      <th>Tool_Usage_Cluster__c</th>\n",
       "    </tr>\n",
       "  </thead>\n",
       "  <tbody>\n",
       "    <tr>\n",
       "      <th>0</th>\n",
       "      <td>0035w000034JG1EAAW</td>\n",
       "      <td>a0x5w00000cMzV5AAK</td>\n",
       "      <td>a0w5w000009Q7m3AAC</td>\n",
       "    </tr>\n",
       "    <tr>\n",
       "      <th>1</th>\n",
       "      <td>0035w000034I5sjAAC</td>\n",
       "      <td>a0x5w00000cMzVAAA0</td>\n",
       "      <td>a0w5w000009Q7m3AAC</td>\n",
       "    </tr>\n",
       "  </tbody>\n",
       "</table>\n",
       "</div>"
      ],
      "text/plain": [
       "           Contact__c                  Id Tool_Usage_Cluster__c\n",
       "0  0035w000034JG1EAAW  a0x5w00000cMzV5AAK    a0w5w000009Q7m3AAC\n",
       "1  0035w000034I5sjAAC  a0x5w00000cMzVAAA0    a0w5w000009Q7m3AAC"
      ]
     },
     "metadata": {},
     "output_type": "display_data"
    },
    {
     "data": {
      "text/html": [
       "<div>\n",
       "<style scoped>\n",
       "    .dataframe tbody tr th:only-of-type {\n",
       "        vertical-align: middle;\n",
       "    }\n",
       "\n",
       "    .dataframe tbody tr th {\n",
       "        vertical-align: top;\n",
       "    }\n",
       "\n",
       "    .dataframe thead th {\n",
       "        text-align: right;\n",
       "    }\n",
       "</style>\n",
       "<table border=\"1\" class=\"dataframe\">\n",
       "  <thead>\n",
       "    <tr style=\"text-align: right;\">\n",
       "      <th></th>\n",
       "      <th>Tool_Usage_Cluster__c</th>\n",
       "      <th>Organization__c</th>\n",
       "    </tr>\n",
       "  </thead>\n",
       "  <tbody>\n",
       "    <tr>\n",
       "      <th>0</th>\n",
       "      <td>a0w5w000009Q7CuAAK</td>\n",
       "      <td></td>\n",
       "    </tr>\n",
       "    <tr>\n",
       "      <th>1</th>\n",
       "      <td>a0w5w000009Q7CvAAK</td>\n",
       "      <td></td>\n",
       "    </tr>\n",
       "  </tbody>\n",
       "</table>\n",
       "</div>"
      ],
      "text/plain": [
       "  Tool_Usage_Cluster__c Organization__c\n",
       "0    a0w5w000009Q7CuAAK                \n",
       "1    a0w5w000009Q7CvAAK                "
      ]
     },
     "metadata": {},
     "output_type": "display_data"
    },
    {
     "data": {
      "text/html": [
       "<div>\n",
       "<style scoped>\n",
       "    .dataframe tbody tr th:only-of-type {\n",
       "        vertical-align: middle;\n",
       "    }\n",
       "\n",
       "    .dataframe tbody tr th {\n",
       "        vertical-align: top;\n",
       "    }\n",
       "\n",
       "    .dataframe thead th {\n",
       "        text-align: right;\n",
       "    }\n",
       "</style>\n",
       "<table border=\"1\" class=\"dataframe\">\n",
       "  <thead>\n",
       "    <tr style=\"text-align: right;\">\n",
       "      <th></th>\n",
       "      <th>Id</th>\n",
       "      <th>Organization_Overwrite__c</th>\n",
       "      <th>Organization_email_derived__c</th>\n",
       "    </tr>\n",
       "  </thead>\n",
       "  <tbody>\n",
       "    <tr>\n",
       "      <th>0</th>\n",
       "      <td>0035w000031Vsp1AAC</td>\n",
       "      <td>NaN</td>\n",
       "      <td>NaN</td>\n",
       "    </tr>\n",
       "    <tr>\n",
       "      <th>1</th>\n",
       "      <td>0035w000031Vsp2AAC</td>\n",
       "      <td>NaN</td>\n",
       "      <td>a0r5w00000V42cCAAR</td>\n",
       "    </tr>\n",
       "  </tbody>\n",
       "</table>\n",
       "</div>"
      ],
      "text/plain": [
       "                   Id Organization_Overwrite__c Organization_email_derived__c\n",
       "0  0035w000031Vsp1AAC                       NaN                           NaN\n",
       "1  0035w000031Vsp2AAC                       NaN            a0r5w00000V42cCAAR"
      ]
     },
     "metadata": {},
     "output_type": "display_data"
    }
   ],
   "source": [
    "# display data used in this section\n",
    "display(sf_cluster_df.head(2))\n",
    "display(sf_cluster_asso_df.head(2))\n",
    "display(org_from_cluster_df.head(2))\n",
    "display(sf_contact_df.head(2))"
   ]
  },
  {
   "cell_type": "code",
   "execution_count": 25,
   "id": "1d8203fe",
   "metadata": {
    "execution": {
     "iopub.execute_input": "2021-10-25T11:19:54.311703Z",
     "iopub.status.busy": "2021-10-25T11:19:54.311148Z",
     "iopub.status.idle": "2021-10-25T11:19:54.354104Z",
     "shell.execute_reply": "2021-10-25T11:19:54.354603Z"
    },
    "jupyter": {
     "source_hidden": true
    },
    "papermill": {
     "duration": 0.151318,
     "end_time": "2021-10-25T11:19:54.354846",
     "exception": false,
     "start_time": "2021-10-25T11:19:54.203528",
     "status": "completed"
    },
    "tags": []
   },
   "outputs": [
    {
     "data": {
      "text/html": [
       "<div>\n",
       "<style scoped>\n",
       "    .dataframe tbody tr th:only-of-type {\n",
       "        vertical-align: middle;\n",
       "    }\n",
       "\n",
       "    .dataframe tbody tr th {\n",
       "        vertical-align: top;\n",
       "    }\n",
       "\n",
       "    .dataframe thead th {\n",
       "        text-align: right;\n",
       "    }\n",
       "</style>\n",
       "<table border=\"1\" class=\"dataframe\">\n",
       "  <thead>\n",
       "    <tr style=\"text-align: right;\">\n",
       "      <th></th>\n",
       "      <th>Contact__c</th>\n",
       "      <th>Tool_Usage_Cluster__c</th>\n",
       "      <th>Organization__c</th>\n",
       "      <th>Starting_Date__c</th>\n",
       "    </tr>\n",
       "  </thead>\n",
       "  <tbody>\n",
       "    <tr>\n",
       "      <th>0</th>\n",
       "      <td>0035w000034JG1EAAW</td>\n",
       "      <td>a0w5w000009Q7m3AAC</td>\n",
       "      <td>a0r5w00000V42cCAAR</td>\n",
       "      <td>2019-01-05</td>\n",
       "    </tr>\n",
       "    <tr>\n",
       "      <th>1</th>\n",
       "      <td>0035w000034I5sjAAC</td>\n",
       "      <td>a0w5w000009Q7m3AAC</td>\n",
       "      <td>a0r5w00000V42cCAAR</td>\n",
       "      <td>2019-01-05</td>\n",
       "    </tr>\n",
       "  </tbody>\n",
       "</table>\n",
       "</div>"
      ],
      "text/plain": [
       "           Contact__c Tool_Usage_Cluster__c     Organization__c  \\\n",
       "0  0035w000034JG1EAAW    a0w5w000009Q7m3AAC  a0r5w00000V42cCAAR   \n",
       "1  0035w000034I5sjAAC    a0w5w000009Q7m3AAC  a0r5w00000V42cCAAR   \n",
       "\n",
       "  Starting_Date__c  \n",
       "0       2019-01-05  \n",
       "1       2019-01-05  "
      ]
     },
     "execution_count": 25,
     "metadata": {},
     "output_type": "execute_result"
    }
   ],
   "source": [
    "overall_df = pd.merge(sf_cluster_asso_df, org_from_cluster_df,\\\n",
    "                      how='inner', left_on='Tool_Usage_Cluster__c', right_on='Tool_Usage_Cluster__c')\n",
    "overall_df.drop(columns='Id', inplace=True)\n",
    "\n",
    "# join cluster date\n",
    "overall_df = pd.merge(overall_df, sf_cluster_df, \\\n",
    "                     how='inner', left_on='Tool_Usage_Cluster__c', right_on='Id')\n",
    "overall_df.drop(columns='Id', inplace=True)\n",
    "\n",
    "# display\n",
    "overall_df.head(2)"
   ]
  },
  {
   "cell_type": "code",
   "execution_count": 26,
   "id": "2cfdab65",
   "metadata": {
    "execution": {
     "iopub.execute_input": "2021-10-25T11:19:54.556434Z",
     "iopub.status.busy": "2021-10-25T11:19:54.555607Z",
     "iopub.status.idle": "2021-10-25T11:20:16.190353Z",
     "shell.execute_reply": "2021-10-25T11:20:16.190836Z"
    },
    "jupyter": {
     "source_hidden": true
    },
    "papermill": {
     "duration": 21.738913,
     "end_time": "2021-10-25T11:20:16.191079",
     "exception": false,
     "start_time": "2021-10-25T11:19:54.452166",
     "status": "completed"
    },
    "tags": []
   },
   "outputs": [
    {
     "data": {
      "text/html": [
       "<div>\n",
       "<style scoped>\n",
       "    .dataframe tbody tr th:only-of-type {\n",
       "        vertical-align: middle;\n",
       "    }\n",
       "\n",
       "    .dataframe tbody tr th {\n",
       "        vertical-align: top;\n",
       "    }\n",
       "\n",
       "    .dataframe thead th {\n",
       "        text-align: right;\n",
       "    }\n",
       "</style>\n",
       "<table border=\"1\" class=\"dataframe\">\n",
       "  <thead>\n",
       "    <tr style=\"text-align: right;\">\n",
       "      <th></th>\n",
       "      <th>Contact__c</th>\n",
       "      <th>Organization_cluster_derived__c</th>\n",
       "    </tr>\n",
       "  </thead>\n",
       "  <tbody>\n",
       "    <tr>\n",
       "      <th>0</th>\n",
       "      <td>0035w000031Vsp8AAC</td>\n",
       "      <td>a0r5w00000V42cCAAR</td>\n",
       "    </tr>\n",
       "    <tr>\n",
       "      <th>1</th>\n",
       "      <td>0035w000031VspAAAS</td>\n",
       "      <td>a0r5w00000V42cCAAR</td>\n",
       "    </tr>\n",
       "  </tbody>\n",
       "</table>\n",
       "</div>"
      ],
      "text/plain": [
       "           Contact__c Organization_cluster_derived__c\n",
       "0  0035w000031Vsp8AAC              a0r5w00000V42cCAAR\n",
       "1  0035w000031VspAAAS              a0r5w00000V42cCAAR"
      ]
     },
     "execution_count": 26,
     "metadata": {},
     "output_type": "execute_result"
    }
   ],
   "source": [
    "# infer the organization of this cluster through majority vote\n",
    "contact_org_from_cluster_df = overall_df.groupby('Contact__c').apply(lambda x: \\\n",
    "                                                   x.sort_values(by=['Starting_Date__c'], ascending=False).head(1).Organization__c.iloc[0])\\\n",
    "                                            .dropna().reset_index(name='Organization_cluster_derived__c')\n",
    "\n",
    "# display\n",
    "contact_org_from_cluster_df.head(2)"
   ]
  },
  {
   "cell_type": "code",
   "execution_count": 27,
   "id": "d4e10dfd",
   "metadata": {
    "execution": {
     "iopub.execute_input": "2021-10-25T11:20:16.400191Z",
     "iopub.status.busy": "2021-10-25T11:20:16.398245Z",
     "iopub.status.idle": "2021-10-25T11:20:16.405293Z",
     "shell.execute_reply": "2021-10-25T11:20:16.405713Z"
    },
    "jupyter": {
     "source_hidden": true
    },
    "papermill": {
     "duration": 0.113516,
     "end_time": "2021-10-25T11:20:16.405950",
     "exception": false,
     "start_time": "2021-10-25T11:20:16.292434",
     "status": "completed"
    },
    "tags": []
   },
   "outputs": [],
   "source": [
    "contact_org_from_cluster_df = contact_org_from_cluster_df[contact_org_from_cluster_df.Organization_cluster_derived__c!='']"
   ]
  },
  {
   "cell_type": "code",
   "execution_count": 28,
   "id": "be2a152d",
   "metadata": {
    "execution": {
     "iopub.execute_input": "2021-10-25T11:20:16.611153Z",
     "iopub.status.busy": "2021-10-25T11:20:16.610377Z",
     "iopub.status.idle": "2021-10-25T11:20:16.613020Z",
     "shell.execute_reply": "2021-10-25T11:20:16.613529Z"
    },
    "jupyter": {
     "source_hidden": true
    },
    "papermill": {
     "duration": 0.110136,
     "end_time": "2021-10-25T11:20:16.613819",
     "exception": false,
     "start_time": "2021-10-25T11:20:16.503683",
     "status": "completed"
    },
    "tags": []
   },
   "outputs": [
    {
     "data": {
      "text/html": [
       "<div>\n",
       "<style scoped>\n",
       "    .dataframe tbody tr th:only-of-type {\n",
       "        vertical-align: middle;\n",
       "    }\n",
       "\n",
       "    .dataframe tbody tr th {\n",
       "        vertical-align: top;\n",
       "    }\n",
       "\n",
       "    .dataframe thead th {\n",
       "        text-align: right;\n",
       "    }\n",
       "</style>\n",
       "<table border=\"1\" class=\"dataframe\">\n",
       "  <thead>\n",
       "    <tr style=\"text-align: right;\">\n",
       "      <th></th>\n",
       "      <th>0</th>\n",
       "      <th>1</th>\n",
       "    </tr>\n",
       "  </thead>\n",
       "  <tbody>\n",
       "    <tr>\n",
       "      <th>Id</th>\n",
       "      <td>0035w000031Vsp8AAC</td>\n",
       "      <td>0035w000031VspAAAS</td>\n",
       "    </tr>\n",
       "    <tr>\n",
       "      <th>Organization_cluster_derived__c</th>\n",
       "      <td>a0r5w00000V42cCAAR</td>\n",
       "      <td>a0r5w00000V42cCAAR</td>\n",
       "    </tr>\n",
       "  </tbody>\n",
       "</table>\n",
       "</div>"
      ],
      "text/plain": [
       "                                                  0                   1\n",
       "Id                               0035w000031Vsp8AAC  0035w000031VspAAAS\n",
       "Organization_cluster_derived__c  a0r5w00000V42cCAAR  a0r5w00000V42cCAAR"
      ]
     },
     "execution_count": 28,
     "metadata": {},
     "output_type": "execute_result"
    }
   ],
   "source": [
    "# Send data to Salesforce\n",
    "\n",
    "df_sf = pd.DataFrame()\n",
    "\n",
    "# Make sure NaN and NaT values are taken care of here\n",
    "df_sf['Id']         = contact_org_from_cluster_df['Contact__c']\n",
    "df_sf['Organization_cluster_derived__c'] = contact_org_from_cluster_df['Organization_cluster_derived__c']\n",
    "\n",
    "sf_original_fields = df_sf.columns\n",
    "\n",
    "# display\n",
    "df_sf.head(2).T"
   ]
  },
  {
   "cell_type": "code",
   "execution_count": 29,
   "id": "3f9ee365",
   "metadata": {
    "execution": {
     "iopub.execute_input": "2021-10-25T11:20:16.817330Z",
     "iopub.status.busy": "2021-10-25T11:20:16.816542Z",
     "iopub.status.idle": "2021-10-25T11:20:16.818384Z",
     "shell.execute_reply": "2021-10-25T11:20:16.818733Z"
    },
    "jupyter": {
     "source_hidden": true
    },
    "papermill": {
     "duration": 0.108021,
     "end_time": "2021-10-25T11:20:16.818960",
     "exception": false,
     "start_time": "2021-10-25T11:20:16.710939",
     "status": "completed"
    },
    "tags": []
   },
   "outputs": [],
   "source": [
    "db_s = salesforce\n",
    "\n",
    "# specify Salesforce object ID and external ID\n",
    "db_s.object_id = 'Contact'\n",
    "db_s.external_id = 'Id'"
   ]
  },
  {
   "cell_type": "code",
   "execution_count": 30,
   "id": "dc540e10",
   "metadata": {
    "execution": {
     "iopub.execute_input": "2021-10-25T11:20:17.028056Z",
     "iopub.status.busy": "2021-10-25T11:20:17.027468Z",
     "iopub.status.idle": "2021-10-25T11:20:20.949838Z",
     "shell.execute_reply": "2021-10-25T11:20:20.950563Z"
    },
    "jupyter": {
     "source_hidden": true
    },
    "papermill": {
     "duration": 4.030086,
     "end_time": "2021-10-25T11:20:20.950836",
     "exception": false,
     "start_time": "2021-10-25T11:20:16.920750",
     "status": "completed"
    },
    "tags": []
   },
   "outputs": [
    {
     "name": "stdout",
     "output_type": "stream",
     "text": [
      "[Success] Bulk job creation successful. Job ID = 7505w00000b2D4TAAU\n",
      "hello\n"
     ]
    },
    {
     "name": "stdout",
     "output_type": "stream",
     "text": [
      "[Success] CSV upload successful. Job ID = 7505w00000b2D4TAAU\n"
     ]
    },
    {
     "name": "stdout",
     "output_type": "stream",
     "text": [
      "[Success] Closing job successful. Job ID = 7505w00000b2D4TAAU\n"
     ]
    }
   ],
   "source": [
    "# send data to Salesforce\n",
    "db_s.send_data(df_sf)"
   ]
  },
  {
   "cell_type": "code",
   "execution_count": 31,
   "id": "4f99975a",
   "metadata": {
    "execution": {
     "iopub.execute_input": "2021-10-25T11:20:21.177754Z",
     "iopub.status.busy": "2021-10-25T11:20:21.177173Z",
     "iopub.status.idle": "2021-10-25T11:20:21.484176Z",
     "shell.execute_reply": "2021-10-25T11:20:21.484728Z"
    },
    "jupyter": {
     "source_hidden": true
    },
    "papermill": {
     "duration": 0.423532,
     "end_time": "2021-10-25T11:20:21.484921",
     "exception": false,
     "start_time": "2021-10-25T11:20:21.061389",
     "status": "completed"
    },
    "tags": []
   },
   "outputs": [
    {
     "name": "stdout",
     "output_type": "stream",
     "text": [
      "{'apexProcessingTime': 0,\n",
      " 'apiActiveProcessingTime': 0,\n",
      " 'apiVersion': 47.0,\n",
      " 'columnDelimiter': 'COMMA',\n",
      " 'concurrencyMode': 'Parallel',\n",
      " 'contentType': 'CSV',\n",
      " 'createdById': '0055w00000DM5bOAAT',\n",
      " 'createdDate': '2021-10-25T11:20:18.000+0000',\n",
      " 'externalIdFieldName': 'Id',\n",
      " 'id': '7505w00000b2D4TAAU',\n",
      " 'jobType': 'V2Ingest',\n",
      " 'lineEnding': 'LF',\n",
      " 'numberRecordsFailed': 0,\n",
      " 'numberRecordsProcessed': 0,\n",
      " 'object': 'Contact',\n",
      " 'operation': 'upsert',\n",
      " 'retries': 0,\n",
      " 'state': 'InProgress',\n",
      " 'systemModstamp': '2021-10-25T11:20:20.000+0000',\n",
      " 'totalProcessingTime': 0}\n"
     ]
    }
   ],
   "source": [
    "# check status\n",
    "from pprint import pprint\n",
    "\n",
    "pprint(db_s.check_bulk_status())"
   ]
  },
  {
   "cell_type": "code",
   "execution_count": null,
   "id": "4212f4be",
   "metadata": {
    "jupyter": {
     "source_hidden": true
    },
    "papermill": {
     "duration": 0.111951,
     "end_time": "2021-10-25T11:20:21.710655",
     "exception": false,
     "start_time": "2021-10-25T11:20:21.598704",
     "status": "completed"
    },
    "tags": []
   },
   "outputs": [],
   "source": []
  },
  {
   "cell_type": "markdown",
   "id": "3926851d",
   "metadata": {
    "papermill": {
     "duration": 0.110241,
     "end_time": "2021-10-25T11:20:21.931058",
     "exception": false,
     "start_time": "2021-10-25T11:20:21.820817",
     "status": "completed"
    },
    "tags": []
   },
   "source": [
    "## Determine domain by cluster by latest cluster"
   ]
  },
  {
   "cell_type": "raw",
   "id": "02e2fa5c",
   "metadata": {
    "papermill": {
     "duration": 0.105655,
     "end_time": "2021-10-25T11:20:22.144424",
     "exception": false,
     "start_time": "2021-10-25T11:20:22.038769",
     "status": "completed"
    },
    "tags": []
   },
   "source": [
    "# get Salesforce ID for contact-cluster associations\n",
    "sf_contact_domain_df = db_s.query_data('SELECT Id, Organization_citation_derived__c,\\\n",
    "Organization_cluster_derived__c, Organization_email_derived__c, Organization_Overwrite__c FROM Contact')"
   ]
  },
  {
   "cell_type": "raw",
   "id": "b45ba60f",
   "metadata": {
    "papermill": {
     "duration": 0.104014,
     "end_time": "2021-10-25T11:20:22.361547",
     "exception": false,
     "start_time": "2021-10-25T11:20:22.257533",
     "status": "completed"
    },
    "tags": []
   },
   "source": [
    "# display\n",
    "display(sf_contact_domain_df.head(2).T)"
   ]
  },
  {
   "cell_type": "raw",
   "id": "b321eb72",
   "metadata": {
    "papermill": {
     "duration": 0.100907,
     "end_time": "2021-10-25T11:20:22.562410",
     "exception": false,
     "start_time": "2021-10-25T11:20:22.461503",
     "status": "completed"
    },
    "tags": []
   },
   "source": [
    "def calc_final_domain(this_row):\n",
    "    \n",
    "    # if overwrite exists\n",
    "    if this_row.Organization_Overwrite__c != '':\n",
    "        return this_row.Organization_Overwrite__c\n",
    "    \n",
    "    # if citation exists\n",
    "    if this_row.Organization_citation_derived__c != '':\n",
    "        return this_row.Organization_citation_derived__c\n",
    "    \n",
    "    # if email exists\n",
    "    if this_row.Organization_email_derived__c != '':\n",
    "        return this_row.Organization_email_derived__c\n",
    "    \n",
    "    # if cluster exists\n",
    "    if this_row.Organization_cluster_derived__c != '':\n",
    "        return this_row.Organization_cluster_derived__c\n",
    "    \n",
    "    return None\n",
    "\n",
    "\n",
    "sf_contact_domain_df['Organization_composite__c'] = sf_contact_domain_df.fillna('').apply(calc_final_domain, axis=1)\n",
    "\n",
    "sf_contact_domain_df = sf_contact_domain_df[sf_contact_domain_df['Organization_composite__c'].notnull()]\n",
    "\n",
    "# display\n",
    "sf_contact_domain_df.head(4).T"
   ]
  },
  {
   "cell_type": "raw",
   "id": "bf3ab56b",
   "metadata": {
    "papermill": {
     "duration": 0.105619,
     "end_time": "2021-10-25T11:20:22.774385",
     "exception": false,
     "start_time": "2021-10-25T11:20:22.668766",
     "status": "completed"
    },
    "tags": []
   },
   "source": [
    "# Send data to Salesforce\n",
    "\n",
    "df_sf = pd.DataFrame()\n",
    "\n",
    "# Make sure NaN and NaT values are taken care of here\n",
    "df_sf['Id']         = sf_contact_domain_df['Id']\n",
    "df_sf['Organization_composite__c'] = sf_contact_domain_df['Organization_composite__c']\n",
    "\n",
    "sf_original_fields = df_sf.columns\n",
    "\n",
    "# display\n",
    "df_sf.head(2).T"
   ]
  },
  {
   "cell_type": "raw",
   "id": "349b5d12",
   "metadata": {
    "papermill": {
     "duration": 0.103138,
     "end_time": "2021-10-25T11:20:22.982076",
     "exception": false,
     "start_time": "2021-10-25T11:20:22.878938",
     "status": "completed"
    },
    "tags": []
   },
   "source": [
    "# create DB2 to Salesforce API object\n",
    "db_s = DB2SalesforceAPI(sf_login_params)\n",
    "\n",
    "# specify Salesforce object ID and external ID\n",
    "db_s.object_id = 'Contact'\n",
    "db_s.external_id = 'Id'"
   ]
  },
  {
   "cell_type": "raw",
   "id": "6d6fecfa",
   "metadata": {
    "papermill": {
     "duration": 0.115707,
     "end_time": "2021-10-25T11:20:23.210433",
     "exception": false,
     "start_time": "2021-10-25T11:20:23.094726",
     "status": "completed"
    },
    "tags": []
   },
   "source": [
    "# send data to Salesforce\n",
    "db_s.send_data(df_sf)"
   ]
  },
  {
   "cell_type": "raw",
   "id": "42e5b336",
   "metadata": {
    "papermill": {
     "duration": 0.108055,
     "end_time": "2021-10-25T11:20:23.428536",
     "exception": false,
     "start_time": "2021-10-25T11:20:23.320481",
     "status": "completed"
    },
    "tags": []
   },
   "source": [
    "# check status\n",
    "from pprint import pprint\n",
    "\n",
    "pprint(db_s.check_bulk_status())"
   ]
  },
  {
   "cell_type": "code",
   "execution_count": null,
   "id": "eaeab641",
   "metadata": {
    "jupyter": {
     "source_hidden": true
    },
    "papermill": {
     "duration": 0.104502,
     "end_time": "2021-10-25T11:20:23.639170",
     "exception": false,
     "start_time": "2021-10-25T11:20:23.534668",
     "status": "completed"
    },
    "tags": []
   },
   "outputs": [],
   "source": []
  }
 ],
 "metadata": {
  "celltoolbar": "Tags",
  "kernelspec": {
   "display_name": "Python 3",
   "language": "python",
   "name": "python3"
  },
  "language_info": {
   "codemirror_mode": {
    "name": "ipython",
    "version": 3
   },
   "file_extension": ".py",
   "mimetype": "text/x-python",
   "name": "python",
   "nbconvert_exporter": "python",
   "pygments_lexer": "ipython3",
   "version": "3.9.7"
  },
  "papermill": {
   "duration": 120.035736,
   "end_time": "2021-10-25T11:20:24.077208",
   "environment_variables": {},
   "exception": null,
   "input_path": "/Users/saxenap/Documents/Dev/nanoHUB/nanoHUB/pipeline/salesforce/task_orgs_map_contacts.ipynb",
   "output_path": "./.output/task_orgs_map_contacts.ipynb",
   "parameters": {},
   "start_time": "2021-10-25T11:18:24.041472",
   "version": "2.1.1"
  }
 },
 "nbformat": 4,
 "nbformat_minor": 5
}