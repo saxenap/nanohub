{
 "cells": [
  {
   "cell_type": "markdown",
   "id": "7736b604",
   "metadata": {
    "papermill": {
     "duration": 0.120325,
     "end_time": "2021-08-26T04:05:43.197628",
     "exception": false,
     "start_time": "2021-08-26T04:05:43.077303",
     "status": "completed"
    },
    "tags": []
   },
   "source": [
    "# DB2-Salesforce connector: Organization information updates"
   ]
  },
  {
   "cell_type": "code",
   "execution_count": 1,
   "id": "baed8d41",
   "metadata": {
    "execution": {
     "iopub.execute_input": "2021-08-26T04:05:43.529433Z",
     "iopub.status.busy": "2021-08-26T04:05:43.527784Z",
     "iopub.status.idle": "2021-08-26T04:05:46.821697Z",
     "shell.execute_reply": "2021-08-26T04:05:46.825018Z"
    },
    "jupyter": {
     "source_hidden": true
    },
    "papermill": {
     "duration": 3.472557,
     "end_time": "2021-08-26T04:05:46.826120",
     "exception": false,
     "start_time": "2021-08-26T04:05:43.353563",
     "status": "completed"
    },
    "tags": [
     "parameters"
    ]
   },
   "outputs": [
    {
     "name": "stdout",
     "output_type": "stream",
     "text": [
      "\u001b[1mnanoHUB - Serving Students, Researchers & Instructors\u001b[0m\n"
     ]
    },
    {
     "name": "stderr",
     "output_type": "stream",
     "text": [
      "2021-08-26 00:05:45,742| INFO    | 0 keys loaded from agent\n"
     ]
    },
    {
     "name": "stdout",
     "output_type": "stream",
     "text": [
      "2021-08-26 00:05:45,742 - [INFO] sshtunnel.SSHTunnelForwarder [sshtunnel.get_agent_keys:1060]: 0 keys loaded from agent\n"
     ]
    },
    {
     "name": "stderr",
     "output_type": "stream",
     "text": [
      "2021-08-26 00:05:45,746| INFO    | 0 key(s) loaded\n"
     ]
    },
    {
     "name": "stdout",
     "output_type": "stream",
     "text": [
      "2021-08-26 00:05:45,746 - [INFO] sshtunnel.SSHTunnelForwarder [sshtunnel.get_keys:1117]: 0 key(s) loaded\n"
     ]
    },
    {
     "name": "stderr",
     "output_type": "stream",
     "text": [
      "2021-08-26 00:05:45,750| INFO    | Connecting to gateway: db2.nanohub.org:22 as user 'saxenap'\n"
     ]
    },
    {
     "name": "stdout",
     "output_type": "stream",
     "text": [
      "2021-08-26 00:05:45,750 - [INFO] sshtunnel.SSHTunnelForwarder [sshtunnel.__init__:978]: Connecting to gateway: db2.nanohub.org:22 as user 'saxenap'\n"
     ]
    },
    {
     "name": "stdout",
     "output_type": "stream",
     "text": [
      "2021-08-26 00:05:45,754 - [\u001b[1mINFO\u001b[0m] \u001b[1mnanoHUB.containers.dataaccess\u001b[0m [connection.get_connection_for:101]: Started SSH Tunnel with db2.nanohub.org\n"
     ]
    },
    {
     "name": "stderr",
     "output_type": "stream",
     "text": [
      "2021-08-26 00:05:46,064| INFO    | Opening tunnel: 0.0.0.0:52799 <> 127.0.0.1:3306\n"
     ]
    },
    {
     "name": "stdout",
     "output_type": "stream",
     "text": [
      "2021-08-26 00:05:46,064 - [INFO] sshtunnel.SSHTunnelForwarder [sshtunnel._serve_forever_wrapper:1433]: Opening tunnel: 0.0.0.0:52799 <> 127.0.0.1:3306\n"
     ]
    },
    {
     "name": "stderr",
     "output_type": "stream",
     "text": [
      "2021-08-26 00:05:46,100| INFO    | 0 keys loaded from agent\n"
     ]
    },
    {
     "name": "stdout",
     "output_type": "stream",
     "text": [
      "2021-08-26 00:05:46,100 - [INFO] sshtunnel.SSHTunnelForwarder [sshtunnel.get_agent_keys:1060]: 0 keys loaded from agent\n"
     ]
    },
    {
     "name": "stderr",
     "output_type": "stream",
     "text": [
      "2021-08-26 00:05:46,105| INFO    | 0 key(s) loaded\n"
     ]
    },
    {
     "name": "stdout",
     "output_type": "stream",
     "text": [
      "2021-08-26 00:05:46,105 - [INFO] sshtunnel.SSHTunnelForwarder [sshtunnel.get_keys:1117]: 0 key(s) loaded\n"
     ]
    },
    {
     "name": "stderr",
     "output_type": "stream",
     "text": [
      "2021-08-26 00:05:46,108| INFO    | Connecting to gateway: db2.nanohub.org:22 as user 'saxenap'\n"
     ]
    },
    {
     "name": "stdout",
     "output_type": "stream",
     "text": [
      "2021-08-26 00:05:46,108 - [INFO] sshtunnel.SSHTunnelForwarder [sshtunnel.__init__:978]: Connecting to gateway: db2.nanohub.org:22 as user 'saxenap'\n"
     ]
    },
    {
     "name": "stdout",
     "output_type": "stream",
     "text": [
      "2021-08-26 00:05:46,111 - [\u001b[1mINFO\u001b[0m] \u001b[1mnanoHUB.containers.dataaccess\u001b[0m [connection.get_connection_for:101]: Started SSH Tunnel with db2.nanohub.org\n"
     ]
    },
    {
     "name": "stderr",
     "output_type": "stream",
     "text": [
      "2021-08-26 00:05:46,421| INFO    | Opening tunnel: 0.0.0.0:52801 <> 127.0.0.1:3306\n"
     ]
    },
    {
     "name": "stdout",
     "output_type": "stream",
     "text": [
      "2021-08-26 00:05:46,421 - [INFO] sshtunnel.SSHTunnelForwarder [sshtunnel._serve_forever_wrapper:1433]: Opening tunnel: 0.0.0.0:52801 <> 127.0.0.1:3306\n"
     ]
    },
    {
     "name": "stdout",
     "output_type": "stream",
     "text": [
      "Obtained Salesforce access token ...... True\n"
     ]
    }
   ],
   "source": [
    "# API settings\n",
    "api_url = '/services/data/v43.0/sobjects'\n",
    "object_id = 'organization__c'\n",
    "external_id = 'Domain__c'\n",
    "\n",
    "from nanoHUB.application import Application\n",
    "\n",
    "application = Application.get_instance()\n",
    "nanohub_db = application.new_db_engine('nanohub')\n",
    "wang159_myrmekes_db = application.new_db_engine('wang159_myrmekes')\n",
    "\n",
    "salesforce = application.new_salesforce_engine()\n",
    "db_s = salesforce\n",
    "\n"
   ]
  },
  {
   "cell_type": "code",
   "execution_count": 2,
   "id": "3d399cdb",
   "metadata": {
    "execution": {
     "iopub.execute_input": "2021-08-26T04:05:47.416516Z",
     "iopub.status.busy": "2021-08-26T04:05:47.413996Z",
     "iopub.status.idle": "2021-08-26T04:05:47.419423Z",
     "shell.execute_reply": "2021-08-26T04:05:47.420871Z"
    },
    "jupyter": {
     "source_hidden": true
    },
    "papermill": {
     "duration": 0.293232,
     "end_time": "2021-08-26T04:05:47.421451",
     "exception": false,
     "start_time": "2021-08-26T04:05:47.128219",
     "status": "completed"
    },
    "tags": []
   },
   "outputs": [],
   "source": [
    "import sys\n",
    "#sys.path.append('/home/users/wang2506/nanohub_salesforce_integ/salesforce')\n",
    "\n",
    "import pandas as pd\n",
    "import datetime"
   ]
  },
  {
   "cell_type": "markdown",
   "id": "a9dea670",
   "metadata": {
    "papermill": {
     "duration": 0.211209,
     "end_time": "2021-08-26T04:05:47.917522",
     "exception": false,
     "start_time": "2021-08-26T04:05:47.706313",
     "status": "completed"
    },
    "tags": []
   },
   "source": [
    "## Obtain organization information from DB2 "
   ]
  },
  {
   "cell_type": "code",
   "execution_count": 3,
   "id": "50d893f6",
   "metadata": {
    "execution": {
     "iopub.execute_input": "2021-08-26T04:05:48.310218Z",
     "iopub.status.busy": "2021-08-26T04:05:48.308816Z",
     "iopub.status.idle": "2021-08-26T04:05:54.594935Z",
     "shell.execute_reply": "2021-08-26T04:05:54.595470Z"
    },
    "jupyter": {
     "source_hidden": true
    },
    "papermill": {
     "duration": 6.444149,
     "end_time": "2021-08-26T04:05:54.595665",
     "exception": false,
     "start_time": "2021-08-26T04:05:48.151516",
     "status": "completed"
    },
    "tags": []
   },
   "outputs": [],
   "source": [
    "# isolate data\n",
    "i_char_df = pd.read_sql_query('select * from institution_characteristics', wang159_myrmekes_db)\n",
    "i_msi_df = pd.read_sql_query('select * from MSI_status',wang159_myrmekes_db)\n",
    "i_cls_df = pd.read_sql_query('select * from institution_classification', wang159_myrmekes_db)\n",
    "i_cls_label_df = pd.read_sql_query('select * from institution_classification_labels', wang159_myrmekes_db)\n",
    "i_cls_var_df = pd.read_sql_query('select * from institution_variable_labels', wang159_myrmekes_db)\n",
    "usn_ranks_df = pd.read_sql_query('select * from us_news_rankings',wang159_myrmekes_db)"
   ]
  },
  {
   "cell_type": "raw",
   "id": "44d01d65",
   "metadata": {
    "papermill": {
     "duration": 0.106237,
     "end_time": "2021-08-26T04:05:54.818888",
     "exception": false,
     "start_time": "2021-08-26T04:05:54.712651",
     "status": "completed"
    },
    "tags": []
   },
   "source": [
    "## descriptions of what we want from each dataframe\n",
    "i_char_df -> institution, alias, addr, city, STABBR (State), ZIP, WEBADDR, UNITID, LONGITUD, LATITUDE \n",
    "i_msi_df -> 2019 List of Minority Serving Institutions (MSIs), Unnamed: 1\n",
    "i_cls_df -> UNITID, NAME, CITY, STABBR, BASIC2018 (if latest) FALLENR17 (for multiple campuses)\n",
    "i_cls_label_df -> carnegie classification labels - keep all, Variable, Value, Label\n",
    "i_cls_var_df -> abbreviations with the carnegie classification system\n",
    "usn-ranks_df -> us news and world report USA category/subject based rankings\n"
   ]
  },
  {
   "cell_type": "code",
   "execution_count": null,
   "id": "ca5e8e4d",
   "metadata": {
    "jupyter": {
     "source_hidden": true
    },
    "papermill": {
     "duration": 0.100537,
     "end_time": "2021-08-26T04:05:55.038413",
     "exception": false,
     "start_time": "2021-08-26T04:05:54.937876",
     "status": "completed"
    },
    "tags": []
   },
   "outputs": [],
   "source": []
  },
  {
   "cell_type": "markdown",
   "id": "1febad90",
   "metadata": {
    "papermill": {
     "duration": 0.097407,
     "end_time": "2021-08-26T04:05:55.239168",
     "exception": false,
     "start_time": "2021-08-26T04:05:55.141761",
     "status": "completed"
    },
    "tags": []
   },
   "source": [
    "## Getting institution domain information"
   ]
  },
  {
   "cell_type": "code",
   "execution_count": 4,
   "id": "38a7436a",
   "metadata": {
    "execution": {
     "iopub.execute_input": "2021-08-26T04:05:55.533039Z",
     "iopub.status.busy": "2021-08-26T04:05:55.497906Z",
     "iopub.status.idle": "2021-08-26T04:05:55.538863Z",
     "shell.execute_reply": "2021-08-26T04:05:55.539758Z"
    },
    "jupyter": {
     "source_hidden": true
    },
    "papermill": {
     "duration": 0.179612,
     "end_time": "2021-08-26T04:05:55.540173",
     "exception": false,
     "start_time": "2021-08-26T04:05:55.360561",
     "status": "completed"
    },
    "tags": []
   },
   "outputs": [],
   "source": [
    "# get domain address from URL\n",
    "import re\n",
    "\n",
    "def get_domain(this_domain_name):\n",
    "\n",
    "    # Replace all non-alphanumeric characters with space\n",
    "    this_domain_name = re.sub(\"[^0-9a-zA-Z-]+\", \".\", this_domain_name.lower())\n",
    "    name_list = this_domain_name.split('.')\n",
    "\n",
    "    # index of 'edu'\n",
    "    try:\n",
    "        edu_index = name_list.index('edu')\n",
    "    except:\n",
    "        return None\n",
    "    \n",
    "    if edu_index > 0:\n",
    "        return name_list[edu_index-1]+'.edu'\n",
    "    else:\n",
    "        return None\n",
    "\n",
    "\n",
    "unitid_url_df = i_char_df[['WEBADDR', 'UNITID']].copy()\n",
    "\n",
    "unitid_url_df.loc[:, 'domain'] = unitid_url_df.WEBADDR.apply(get_domain)\n",
    "\n",
    "# drop NaN rows\n",
    "unitid_url_df.dropna(inplace=True)"
   ]
  },
  {
   "cell_type": "code",
   "execution_count": 5,
   "id": "66c9a374",
   "metadata": {
    "execution": {
     "iopub.execute_input": "2021-08-26T04:05:55.776349Z",
     "iopub.status.busy": "2021-08-26T04:05:55.775364Z",
     "iopub.status.idle": "2021-08-26T04:05:55.811164Z",
     "shell.execute_reply": "2021-08-26T04:05:55.810146Z"
    },
    "jupyter": {
     "source_hidden": true
    },
    "papermill": {
     "duration": 0.153128,
     "end_time": "2021-08-26T04:05:55.811601",
     "exception": false,
     "start_time": "2021-08-26T04:05:55.658473",
     "status": "completed"
    },
    "tags": []
   },
   "outputs": [
    {
     "data": {
      "text/html": [
       "<div>\n",
       "<style scoped>\n",
       "    .dataframe tbody tr th:only-of-type {\n",
       "        vertical-align: middle;\n",
       "    }\n",
       "\n",
       "    .dataframe tbody tr th {\n",
       "        vertical-align: top;\n",
       "    }\n",
       "\n",
       "    .dataframe thead th {\n",
       "        text-align: right;\n",
       "    }\n",
       "</style>\n",
       "<table border=\"1\" class=\"dataframe\">\n",
       "  <thead>\n",
       "    <tr style=\"text-align: right;\">\n",
       "      <th></th>\n",
       "      <th>WEBADDR</th>\n",
       "      <th>UNITID</th>\n",
       "      <th>domain</th>\n",
       "    </tr>\n",
       "  </thead>\n",
       "  <tbody>\n",
       "    <tr>\n",
       "      <th>0</th>\n",
       "      <td>www.aamu.edu/</td>\n",
       "      <td>100654</td>\n",
       "      <td>aamu.edu</td>\n",
       "    </tr>\n",
       "  </tbody>\n",
       "</table>\n",
       "</div>"
      ],
      "text/plain": [
       "         WEBADDR  UNITID    domain\n",
       "0  www.aamu.edu/  100654  aamu.edu"
      ]
     },
     "metadata": {},
     "output_type": "display_data"
    },
    {
     "data": {
      "text/html": [
       "<div>\n",
       "<style scoped>\n",
       "    .dataframe tbody tr th:only-of-type {\n",
       "        vertical-align: middle;\n",
       "    }\n",
       "\n",
       "    .dataframe tbody tr th {\n",
       "        vertical-align: top;\n",
       "    }\n",
       "\n",
       "    .dataframe thead th {\n",
       "        text-align: right;\n",
       "    }\n",
       "</style>\n",
       "<table border=\"1\" class=\"dataframe\">\n",
       "  <thead>\n",
       "    <tr style=\"text-align: right;\">\n",
       "      <th></th>\n",
       "      <th>index</th>\n",
       "      <th>UNITID</th>\n",
       "      <th>INSTNM</th>\n",
       "      <th>WEBADDR</th>\n",
       "      <th>usn_gr_ae</th>\n",
       "      <th>usn_gr_EE</th>\n",
       "      <th>chem_gr_anal</th>\n",
       "      <th>chem_gr_inorg</th>\n",
       "      <th>chem_gr_phy</th>\n",
       "      <th>chem_gr_bio</th>\n",
       "      <th>...</th>\n",
       "      <th>usn_gr_me</th>\n",
       "      <th>usn_gr_ce</th>\n",
       "      <th>usn_ug_eng_w_doct</th>\n",
       "      <th>usn_ug_EE_no_doct</th>\n",
       "      <th>usn_ug_EE_w_doct</th>\n",
       "      <th>phys_gr_con</th>\n",
       "      <th>usn_gr_eng</th>\n",
       "      <th>usn_natl_publ</th>\n",
       "      <th>usn_natl</th>\n",
       "      <th>Unnamed: 33</th>\n",
       "    </tr>\n",
       "  </thead>\n",
       "  <tbody>\n",
       "    <tr>\n",
       "      <th>0</th>\n",
       "      <td>0</td>\n",
       "      <td>186131</td>\n",
       "      <td>Princeton University</td>\n",
       "      <td>www.princeton.edu</td>\n",
       "      <td>9.0</td>\n",
       "      <td>9.0</td>\n",
       "      <td>NaN</td>\n",
       "      <td>13.0</td>\n",
       "      <td>11.0</td>\n",
       "      <td>None</td>\n",
       "      <td>...</td>\n",
       "      <td>9.0</td>\n",
       "      <td>8.0</td>\n",
       "      <td>12.0</td>\n",
       "      <td>NaN</td>\n",
       "      <td>13.0</td>\n",
       "      <td>8.0</td>\n",
       "      <td>21</td>\n",
       "      <td>NaN</td>\n",
       "      <td>1</td>\n",
       "      <td>None</td>\n",
       "    </tr>\n",
       "  </tbody>\n",
       "</table>\n",
       "<p>1 rows × 35 columns</p>\n",
       "</div>"
      ],
      "text/plain": [
       "   index  UNITID                INSTNM            WEBADDR  usn_gr_ae  \\\n",
       "0      0  186131  Princeton University  www.princeton.edu        9.0   \n",
       "\n",
       "   usn_gr_EE  chem_gr_anal  chem_gr_inorg  chem_gr_phy chem_gr_bio  ...  \\\n",
       "0        9.0           NaN           13.0         11.0        None  ...   \n",
       "\n",
       "  usn_gr_me  usn_gr_ce  usn_ug_eng_w_doct  usn_ug_EE_no_doct  \\\n",
       "0       9.0        8.0               12.0                NaN   \n",
       "\n",
       "   usn_ug_EE_w_doct  phys_gr_con  usn_gr_eng  usn_natl_publ  usn_natl  \\\n",
       "0              13.0          8.0          21            NaN         1   \n",
       "\n",
       "   Unnamed: 33  \n",
       "0         None  \n",
       "\n",
       "[1 rows x 35 columns]"
      ]
     },
     "metadata": {},
     "output_type": "display_data"
    }
   ],
   "source": [
    "display(unitid_url_df.head(1))\n",
    "display(usn_ranks_df.head(1))"
   ]
  },
  {
   "cell_type": "code",
   "execution_count": 6,
   "id": "2a8c9509",
   "metadata": {
    "execution": {
     "iopub.execute_input": "2021-08-26T04:05:56.057550Z",
     "iopub.status.busy": "2021-08-26T04:05:56.056172Z",
     "iopub.status.idle": "2021-08-26T04:05:56.059150Z",
     "shell.execute_reply": "2021-08-26T04:05:56.059905Z"
    },
    "jupyter": {
     "source_hidden": true
    },
    "papermill": {
     "duration": 0.12817,
     "end_time": "2021-08-26T04:05:56.060177",
     "exception": false,
     "start_time": "2021-08-26T04:05:55.932007",
     "status": "completed"
    },
    "tags": []
   },
   "outputs": [],
   "source": [
    "## filtering institutional classification dataframe for \n",
    "## i_cls_df -> keep all because i_cls_labels_df may need them\n",
    "\n",
    "usn_ranks_df = usn_ranks_df.drop(columns=['INSTNM','WEBADDR'])"
   ]
  },
  {
   "cell_type": "code",
   "execution_count": 7,
   "id": "55009341",
   "metadata": {
    "execution": {
     "iopub.execute_input": "2021-08-26T04:05:56.297091Z",
     "iopub.status.busy": "2021-08-26T04:05:56.295772Z",
     "iopub.status.idle": "2021-08-26T04:05:56.330965Z",
     "shell.execute_reply": "2021-08-26T04:05:56.331424Z"
    },
    "jupyter": {
     "source_hidden": true
    },
    "papermill": {
     "duration": 0.163145,
     "end_time": "2021-08-26T04:05:56.331614",
     "exception": false,
     "start_time": "2021-08-26T04:05:56.168469",
     "status": "completed"
    },
    "tags": []
   },
   "outputs": [
    {
     "data": {
      "text/html": [
       "<div>\n",
       "<style scoped>\n",
       "    .dataframe tbody tr th:only-of-type {\n",
       "        vertical-align: middle;\n",
       "    }\n",
       "\n",
       "    .dataframe tbody tr th {\n",
       "        vertical-align: top;\n",
       "    }\n",
       "\n",
       "    .dataframe thead th {\n",
       "        text-align: right;\n",
       "    }\n",
       "</style>\n",
       "<table border=\"1\" class=\"dataframe\">\n",
       "  <thead>\n",
       "    <tr style=\"text-align: right;\">\n",
       "      <th></th>\n",
       "      <th>index</th>\n",
       "      <th>UNITID</th>\n",
       "      <th>NAME</th>\n",
       "      <th>CITY</th>\n",
       "      <th>STABBR</th>\n",
       "      <th>CC2000</th>\n",
       "      <th>BASIC2005</th>\n",
       "      <th>BASIC2010</th>\n",
       "      <th>BASIC2015</th>\n",
       "      <th>BASIC2018</th>\n",
       "      <th>...</th>\n",
       "      <th>SATV25</th>\n",
       "      <th>SATM25</th>\n",
       "      <th>SATCMB25</th>\n",
       "      <th>SATACTEQ25</th>\n",
       "      <th>ACTCMP25</th>\n",
       "      <th>ACTFINAL</th>\n",
       "      <th>Unnamed95</th>\n",
       "      <th>Unnamed96</th>\n",
       "      <th>WEBADDR</th>\n",
       "      <th>domain</th>\n",
       "    </tr>\n",
       "  </thead>\n",
       "  <tbody>\n",
       "    <tr>\n",
       "      <th>0</th>\n",
       "      <td>0</td>\n",
       "      <td>177834</td>\n",
       "      <td>A T Still University of Health Sciences</td>\n",
       "      <td>Kirksville</td>\n",
       "      <td>MO</td>\n",
       "      <td>52</td>\n",
       "      <td>25</td>\n",
       "      <td>25</td>\n",
       "      <td>25</td>\n",
       "      <td>25</td>\n",
       "      <td>...</td>\n",
       "      <td>0.0</td>\n",
       "      <td>0.0</td>\n",
       "      <td>0.0</td>\n",
       "      <td>0.0</td>\n",
       "      <td>0.0</td>\n",
       "      <td>0.0</td>\n",
       "      <td>None</td>\n",
       "      <td>NaN</td>\n",
       "      <td>WWW.ATSU.EDU</td>\n",
       "      <td>atsu.edu</td>\n",
       "    </tr>\n",
       "  </tbody>\n",
       "</table>\n",
       "<p>1 rows × 100 columns</p>\n",
       "</div>"
      ],
      "text/plain": [
       "   index  UNITID                                     NAME        CITY STABBR  \\\n",
       "0      0  177834  A T Still University of Health Sciences  Kirksville     MO   \n",
       "\n",
       "   CC2000  BASIC2005  BASIC2010  BASIC2015  BASIC2018  ...  SATV25  SATM25  \\\n",
       "0      52         25         25         25         25  ...     0.0     0.0   \n",
       "\n",
       "   SATCMB25  SATACTEQ25  ACTCMP25  ACTFINAL  Unnamed95  Unnamed96  \\\n",
       "0       0.0         0.0       0.0       0.0       None        NaN   \n",
       "\n",
       "        WEBADDR    domain  \n",
       "0  WWW.ATSU.EDU  atsu.edu  \n",
       "\n",
       "[1 rows x 100 columns]"
      ]
     },
     "execution_count": 7,
     "metadata": {},
     "output_type": "execute_result"
    }
   ],
   "source": [
    "# join domain into institution classification table by unitid\n",
    "df = pd.merge(i_cls_df, unitid_url_df, how='inner', left_on='UNITID', right_on='UNITID')\n",
    "\n",
    "# display\n",
    "df.head(1)"
   ]
  },
  {
   "cell_type": "code",
   "execution_count": 8,
   "id": "879d357b",
   "metadata": {
    "execution": {
     "iopub.execute_input": "2021-08-26T04:05:56.593288Z",
     "iopub.status.busy": "2021-08-26T04:05:56.591618Z",
     "iopub.status.idle": "2021-08-26T04:05:56.637892Z",
     "shell.execute_reply": "2021-08-26T04:05:56.638592Z"
    },
    "jupyter": {
     "source_hidden": true
    },
    "papermill": {
     "duration": 0.192292,
     "end_time": "2021-08-26T04:05:56.638901",
     "exception": false,
     "start_time": "2021-08-26T04:05:56.446609",
     "status": "completed"
    },
    "tags": []
   },
   "outputs": [
    {
     "data": {
      "text/html": [
       "<div>\n",
       "<style scoped>\n",
       "    .dataframe tbody tr th:only-of-type {\n",
       "        vertical-align: middle;\n",
       "    }\n",
       "\n",
       "    .dataframe tbody tr th {\n",
       "        vertical-align: top;\n",
       "    }\n",
       "\n",
       "    .dataframe thead th {\n",
       "        text-align: right;\n",
       "    }\n",
       "</style>\n",
       "<table border=\"1\" class=\"dataframe\">\n",
       "  <thead>\n",
       "    <tr style=\"text-align: right;\">\n",
       "      <th></th>\n",
       "      <th>index_x</th>\n",
       "      <th>UNITID</th>\n",
       "      <th>NAME</th>\n",
       "      <th>CITY</th>\n",
       "      <th>STABBR</th>\n",
       "      <th>CC2000</th>\n",
       "      <th>BASIC2005</th>\n",
       "      <th>BASIC2010</th>\n",
       "      <th>BASIC2015</th>\n",
       "      <th>BASIC2018</th>\n",
       "      <th>...</th>\n",
       "      <th>usn_gr_me</th>\n",
       "      <th>usn_gr_ce</th>\n",
       "      <th>usn_ug_eng_w_doct</th>\n",
       "      <th>usn_ug_EE_no_doct</th>\n",
       "      <th>usn_ug_EE_w_doct</th>\n",
       "      <th>phys_gr_con</th>\n",
       "      <th>usn_gr_eng</th>\n",
       "      <th>usn_natl_publ</th>\n",
       "      <th>usn_natl</th>\n",
       "      <th>Unnamed: 33</th>\n",
       "    </tr>\n",
       "  </thead>\n",
       "  <tbody>\n",
       "    <tr>\n",
       "      <th>0</th>\n",
       "      <td>0</td>\n",
       "      <td>177834</td>\n",
       "      <td>A T Still University of Health Sciences</td>\n",
       "      <td>Kirksville</td>\n",
       "      <td>MO</td>\n",
       "      <td>52</td>\n",
       "      <td>25</td>\n",
       "      <td>25</td>\n",
       "      <td>25</td>\n",
       "      <td>25</td>\n",
       "      <td>...</td>\n",
       "      <td>NaN</td>\n",
       "      <td>NaN</td>\n",
       "      <td>NaN</td>\n",
       "      <td>NaN</td>\n",
       "      <td>NaN</td>\n",
       "      <td>NaN</td>\n",
       "      <td>None</td>\n",
       "      <td>NaN</td>\n",
       "      <td>None</td>\n",
       "      <td>None</td>\n",
       "    </tr>\n",
       "  </tbody>\n",
       "</table>\n",
       "<p>1 rows × 132 columns</p>\n",
       "</div>"
      ],
      "text/plain": [
       "   index_x  UNITID                                     NAME        CITY  \\\n",
       "0        0  177834  A T Still University of Health Sciences  Kirksville   \n",
       "\n",
       "  STABBR  CC2000  BASIC2005  BASIC2010  BASIC2015  BASIC2018  ...  usn_gr_me  \\\n",
       "0     MO      52         25         25         25         25  ...        NaN   \n",
       "\n",
       "   usn_gr_ce  usn_ug_eng_w_doct  usn_ug_EE_no_doct  usn_ug_EE_w_doct  \\\n",
       "0        NaN                NaN                NaN               NaN   \n",
       "\n",
       "   phys_gr_con  usn_gr_eng  usn_natl_publ  usn_natl  Unnamed: 33  \n",
       "0          NaN        None            NaN      None         None  \n",
       "\n",
       "[1 rows x 132 columns]"
      ]
     },
     "metadata": {},
     "output_type": "display_data"
    }
   ],
   "source": [
    "## factoring in information from us news and world report\n",
    "#cols_to_use = ['UNITID','NAME','CITY','STABBR','BASIC2018','domain'] t_df = t_df.drop(columns=['index'])\n",
    "t_df = pd.merge(df,usn_ranks_df,left_on='UNITID',right_on='UNITID') \n",
    "\n",
    "display(t_df.head(1))"
   ]
  },
  {
   "cell_type": "code",
   "execution_count": 9,
   "id": "6e09001c",
   "metadata": {
    "execution": {
     "iopub.execute_input": "2021-08-26T04:05:56.922970Z",
     "iopub.status.busy": "2021-08-26T04:05:56.921470Z",
     "iopub.status.idle": "2021-08-26T04:05:56.935904Z",
     "shell.execute_reply": "2021-08-26T04:05:56.936624Z"
    },
    "jupyter": {
     "source_hidden": true
    },
    "papermill": {
     "duration": 0.163986,
     "end_time": "2021-08-26T04:05:56.936966",
     "exception": false,
     "start_time": "2021-08-26T04:05:56.772980",
     "status": "completed"
    },
    "tags": []
   },
   "outputs": [
    {
     "data": {
      "text/html": [
       "<div>\n",
       "<style scoped>\n",
       "    .dataframe tbody tr th:only-of-type {\n",
       "        vertical-align: middle;\n",
       "    }\n",
       "\n",
       "    .dataframe tbody tr th {\n",
       "        vertical-align: top;\n",
       "    }\n",
       "\n",
       "    .dataframe thead th {\n",
       "        text-align: right;\n",
       "    }\n",
       "</style>\n",
       "<table border=\"1\" class=\"dataframe\">\n",
       "  <thead>\n",
       "    <tr style=\"text-align: right;\">\n",
       "      <th></th>\n",
       "      <th>index</th>\n",
       "      <th>Variable</th>\n",
       "      <th>Value</th>\n",
       "      <th>Label</th>\n",
       "    </tr>\n",
       "  </thead>\n",
       "  <tbody>\n",
       "    <tr>\n",
       "      <th>0</th>\n",
       "      <td>0</td>\n",
       "      <td>CC2000</td>\n",
       "      <td>-3.0</td>\n",
       "      <td>Not classified, not in classification universe</td>\n",
       "    </tr>\n",
       "  </tbody>\n",
       "</table>\n",
       "</div>"
      ],
      "text/plain": [
       "   index Variable  Value                                           Label\n",
       "0      0   CC2000   -3.0  Not classified, not in classification universe"
      ]
     },
     "metadata": {},
     "output_type": "display_data"
    },
    {
     "data": {
      "text/plain": [
       "<pandas.core.groupby.generic.DataFrameGroupBy object at 0x13bfa0490>"
      ]
     },
     "metadata": {},
     "output_type": "display_data"
    },
    {
     "data": {
      "text/plain": [
       "0          CC2000\n",
       "1          CC2000\n",
       "2          CC2000\n",
       "3          CC2000\n",
       "4          CC2000\n",
       "          ...    \n",
       "265    DOCRESFLAG\n",
       "266    DOCRESFLAG\n",
       "267        ACTCAT\n",
       "268        ACTCAT\n",
       "269        ACTCAT\n",
       "Name: Variable, Length: 270, dtype: object"
      ]
     },
     "metadata": {},
     "output_type": "display_data"
    }
   ],
   "source": [
    "display(i_cls_label_df.head(1))\n",
    "display(i_cls_label_df.groupby(by=['Variable']))\n",
    "display(i_cls_label_df['Variable'].head(600))"
   ]
  },
  {
   "cell_type": "code",
   "execution_count": 10,
   "id": "b71f9698",
   "metadata": {
    "execution": {
     "iopub.execute_input": "2021-08-26T04:05:57.228578Z",
     "iopub.status.busy": "2021-08-26T04:05:57.226944Z",
     "iopub.status.idle": "2021-08-26T04:05:57.492322Z",
     "shell.execute_reply": "2021-08-26T04:05:57.492806Z"
    },
    "jupyter": {
     "source_hidden": true
    },
    "papermill": {
     "duration": 0.430533,
     "end_time": "2021-08-26T04:05:57.493040",
     "exception": false,
     "start_time": "2021-08-26T04:05:57.062507",
     "status": "completed"
    },
    "tags": []
   },
   "outputs": [
    {
     "data": {
      "text/html": [
       "<div>\n",
       "<style scoped>\n",
       "    .dataframe tbody tr th:only-of-type {\n",
       "        vertical-align: middle;\n",
       "    }\n",
       "\n",
       "    .dataframe tbody tr th {\n",
       "        vertical-align: top;\n",
       "    }\n",
       "\n",
       "    .dataframe thead th {\n",
       "        text-align: right;\n",
       "    }\n",
       "</style>\n",
       "<table border=\"1\" class=\"dataframe\">\n",
       "  <thead>\n",
       "    <tr style=\"text-align: right;\">\n",
       "      <th></th>\n",
       "    </tr>\n",
       "  </thead>\n",
       "  <tbody>\n",
       "  </tbody>\n",
       "</table>\n",
       "</div>"
      ],
      "text/plain": [
       "Empty DataFrame\n",
       "Columns: []\n",
       "Index: []"
      ]
     },
     "execution_count": 10,
     "metadata": {},
     "output_type": "execute_result"
    }
   ],
   "source": [
    "def replace_with_label(this_df, c_df):\n",
    "    #print(this_df.head(2))\n",
    "    #print(c_df.head(2))\n",
    "    \n",
    "    #this_df = this_df['Variable'].to_frame()\n",
    "    #print(this_df.head(2))\n",
    "    \n",
    "    this_var = this_df.Variable.iloc[0].strip()\n",
    "    #this_var = this_df.iloc[0].strip()\n",
    "    this_v_l = this_df[['Value', 'Label']]\n",
    "    \n",
    "    this_label = pd.merge(c_df[[this_var]], this_v_l, how='left', left_on=this_var, right_on='Value')\n",
    "    c_df.loc[:, this_var] = this_label['Label']\n",
    "    \n",
    "    \n",
    "i_cls_label_df.groupby(by=['Variable']).apply(lambda x: replace_with_label(x, t_df))"
   ]
  },
  {
   "cell_type": "code",
   "execution_count": 11,
   "id": "b3e3dd3f",
   "metadata": {
    "execution": {
     "iopub.execute_input": "2021-08-26T04:05:57.745934Z",
     "iopub.status.busy": "2021-08-26T04:05:57.745064Z",
     "iopub.status.idle": "2021-08-26T04:05:57.749587Z",
     "shell.execute_reply": "2021-08-26T04:05:57.750031Z"
    },
    "jupyter": {
     "source_hidden": true
    },
    "papermill": {
     "duration": 0.130477,
     "end_time": "2021-08-26T04:05:57.750215",
     "exception": false,
     "start_time": "2021-08-26T04:05:57.619738",
     "status": "completed"
    },
    "tags": []
   },
   "outputs": [
    {
     "data": {
      "text/html": [
       "<div>\n",
       "<style scoped>\n",
       "    .dataframe tbody tr th:only-of-type {\n",
       "        vertical-align: middle;\n",
       "    }\n",
       "\n",
       "    .dataframe tbody tr th {\n",
       "        vertical-align: top;\n",
       "    }\n",
       "\n",
       "    .dataframe thead th {\n",
       "        text-align: right;\n",
       "    }\n",
       "</style>\n",
       "<table border=\"1\" class=\"dataframe\">\n",
       "  <thead>\n",
       "    <tr style=\"text-align: right;\">\n",
       "      <th></th>\n",
       "      <th>index</th>\n",
       "      <th>Variable</th>\n",
       "      <th>Value</th>\n",
       "      <th>Label</th>\n",
       "    </tr>\n",
       "  </thead>\n",
       "  <tbody>\n",
       "    <tr>\n",
       "      <th>0</th>\n",
       "      <td>0</td>\n",
       "      <td>CC2000</td>\n",
       "      <td>-3.0</td>\n",
       "      <td>Not classified, not in classification universe</td>\n",
       "    </tr>\n",
       "    <tr>\n",
       "      <th>1</th>\n",
       "      <td>1</td>\n",
       "      <td>CC2000</td>\n",
       "      <td>15.0</td>\n",
       "      <td>Doctoral/Research Universities—Extensive</td>\n",
       "    </tr>\n",
       "  </tbody>\n",
       "</table>\n",
       "</div>"
      ],
      "text/plain": [
       "   index Variable  Value                                           Label\n",
       "0      0   CC2000   -3.0  Not classified, not in classification universe\n",
       "1      1   CC2000   15.0        Doctoral/Research Universities—Extensive"
      ]
     },
     "execution_count": 11,
     "metadata": {},
     "output_type": "execute_result"
    }
   ],
   "source": [
    "# display\n",
    "i_cls_label_df.head(2)"
   ]
  },
  {
   "cell_type": "code",
   "execution_count": 12,
   "id": "8ceaa8e0",
   "metadata": {
    "execution": {
     "iopub.execute_input": "2021-08-26T04:05:57.993552Z",
     "iopub.status.busy": "2021-08-26T04:05:57.991956Z",
     "iopub.status.idle": "2021-08-26T04:05:58.008896Z",
     "shell.execute_reply": "2021-08-26T04:05:58.009500Z"
    },
    "jupyter": {
     "source_hidden": true
    },
    "papermill": {
     "duration": 0.144864,
     "end_time": "2021-08-26T04:05:58.009697",
     "exception": false,
     "start_time": "2021-08-26T04:05:57.864833",
     "status": "completed"
    },
    "tags": []
   },
   "outputs": [],
   "source": [
    "# On Salesforce side, domain is unique indentifier of each organization.\n",
    "# For multiple institutions with same domain (univ. with satellite campuses), use entry with highest total enrollment (FALLENR17)\n",
    "\n",
    "unique_domain_df = t_df.sort_values(by='FALLENR17', ascending=False).groupby('domain').head(1)"
   ]
  },
  {
   "cell_type": "code",
   "execution_count": 13,
   "id": "06ef3363",
   "metadata": {
    "execution": {
     "iopub.execute_input": "2021-08-26T04:05:58.345596Z",
     "iopub.status.busy": "2021-08-26T04:05:58.344295Z",
     "iopub.status.idle": "2021-08-26T04:05:58.355798Z",
     "shell.execute_reply": "2021-08-26T04:05:58.354782Z"
    },
    "jupyter": {
     "source_hidden": true
    },
    "papermill": {
     "duration": 0.198626,
     "end_time": "2021-08-26T04:05:58.356074",
     "exception": false,
     "start_time": "2021-08-26T04:05:58.157448",
     "status": "completed"
    },
    "tags": []
   },
   "outputs": [
    {
     "data": {
      "text/html": [
       "<div>\n",
       "<style scoped>\n",
       "    .dataframe tbody tr th:only-of-type {\n",
       "        vertical-align: middle;\n",
       "    }\n",
       "\n",
       "    .dataframe tbody tr th {\n",
       "        vertical-align: top;\n",
       "    }\n",
       "\n",
       "    .dataframe thead th {\n",
       "        text-align: right;\n",
       "    }\n",
       "</style>\n",
       "<table border=\"1\" class=\"dataframe\">\n",
       "  <thead>\n",
       "    <tr style=\"text-align: right;\">\n",
       "      <th></th>\n",
       "      <th>index_x</th>\n",
       "      <th>UNITID</th>\n",
       "      <th>NAME</th>\n",
       "      <th>CITY</th>\n",
       "      <th>STABBR</th>\n",
       "      <th>CC2000</th>\n",
       "      <th>BASIC2005</th>\n",
       "      <th>BASIC2010</th>\n",
       "      <th>BASIC2015</th>\n",
       "      <th>BASIC2018</th>\n",
       "      <th>...</th>\n",
       "      <th>usn_gr_me</th>\n",
       "      <th>usn_gr_ce</th>\n",
       "      <th>usn_ug_eng_w_doct</th>\n",
       "      <th>usn_ug_EE_no_doct</th>\n",
       "      <th>usn_ug_EE_w_doct</th>\n",
       "      <th>phys_gr_con</th>\n",
       "      <th>usn_gr_eng</th>\n",
       "      <th>usn_natl_publ</th>\n",
       "      <th>usn_natl</th>\n",
       "      <th>Unnamed: 33</th>\n",
       "    </tr>\n",
       "  </thead>\n",
       "  <tbody>\n",
       "    <tr>\n",
       "      <th>3687</th>\n",
       "      <td>3849</td>\n",
       "      <td>484613</td>\n",
       "      <td>University of Phoenix-Arizona</td>\n",
       "      <td>Tempe</td>\n",
       "      <td>AZ</td>\n",
       "      <td>Not classified, not in classification universe</td>\n",
       "      <td>Not classified, not in classification universe</td>\n",
       "      <td>NaN</td>\n",
       "      <td>Doctoral Universities: Moderate Research Activity</td>\n",
       "      <td>Doctoral/Professional Universities</td>\n",
       "      <td>...</td>\n",
       "      <td>NaN</td>\n",
       "      <td>NaN</td>\n",
       "      <td>NaN</td>\n",
       "      <td>NaN</td>\n",
       "      <td>NaN</td>\n",
       "      <td>NaN</td>\n",
       "      <td>None</td>\n",
       "      <td>NaN</td>\n",
       "      <td>None</td>\n",
       "      <td>None</td>\n",
       "    </tr>\n",
       "    <tr>\n",
       "      <th>3996</th>\n",
       "      <td>4171</td>\n",
       "      <td>433387</td>\n",
       "      <td>Western Governors University</td>\n",
       "      <td>Salt Lake City</td>\n",
       "      <td>UT</td>\n",
       "      <td>Not classified, not in classification universe</td>\n",
       "      <td>NaN</td>\n",
       "      <td>Master's L: Master's Colleges and Universities...</td>\n",
       "      <td>Master's Colleges &amp; Universities: Larger Programs</td>\n",
       "      <td>Master's Colleges &amp; Universities: Larger Programs</td>\n",
       "      <td>...</td>\n",
       "      <td>NaN</td>\n",
       "      <td>NaN</td>\n",
       "      <td>NaN</td>\n",
       "      <td>NaN</td>\n",
       "      <td>NaN</td>\n",
       "      <td>NaN</td>\n",
       "      <td>None</td>\n",
       "      <td>NaN</td>\n",
       "      <td>None</td>\n",
       "      <td>None</td>\n",
       "    </tr>\n",
       "  </tbody>\n",
       "</table>\n",
       "<p>2 rows × 132 columns</p>\n",
       "</div>"
      ],
      "text/plain": [
       "      index_x  UNITID                           NAME            CITY STABBR  \\\n",
       "3687     3849  484613  University of Phoenix-Arizona           Tempe     AZ   \n",
       "3996     4171  433387   Western Governors University  Salt Lake City     UT   \n",
       "\n",
       "                                              CC2000  \\\n",
       "3687  Not classified, not in classification universe   \n",
       "3996  Not classified, not in classification universe   \n",
       "\n",
       "                                           BASIC2005  \\\n",
       "3687  Not classified, not in classification universe   \n",
       "3996                                             NaN   \n",
       "\n",
       "                                              BASIC2010  \\\n",
       "3687                                                NaN   \n",
       "3996  Master's L: Master's Colleges and Universities...   \n",
       "\n",
       "                                              BASIC2015  \\\n",
       "3687  Doctoral Universities: Moderate Research Activity   \n",
       "3996  Master's Colleges & Universities: Larger Programs   \n",
       "\n",
       "                                              BASIC2018  ... usn_gr_me  \\\n",
       "3687                 Doctoral/Professional Universities  ...       NaN   \n",
       "3996  Master's Colleges & Universities: Larger Programs  ...       NaN   \n",
       "\n",
       "     usn_gr_ce usn_ug_eng_w_doct usn_ug_EE_no_doct usn_ug_EE_w_doct  \\\n",
       "3687       NaN               NaN               NaN              NaN   \n",
       "3996       NaN               NaN               NaN              NaN   \n",
       "\n",
       "     phys_gr_con usn_gr_eng usn_natl_publ usn_natl Unnamed: 33  \n",
       "3687         NaN       None           NaN     None        None  \n",
       "3996         NaN       None           NaN     None        None  \n",
       "\n",
       "[2 rows x 132 columns]"
      ]
     },
     "metadata": {},
     "output_type": "display_data"
    },
    {
     "name": "stdout",
     "output_type": "stream",
     "text": [
      "3687                        University of Phoenix-Arizona\n",
      "3996                         Western Governors University\n",
      "3095                    Southern New Hampshire University\n",
      "1399                              Grand Canyon University\n",
      "1653                           Ivy Tech Community College\n",
      "                              ...                        \n",
      "501                          California Christian College\n",
      "2160    Monteclaro Escuela de Hoteleria y Artes Culina...\n",
      "1881                Los Angeles Academy of Figurative Art\n",
      "3411    Theological Seminary of the Reformed Episcopal...\n",
      "1451                         Harrington College of Design\n",
      "Name: NAME, Length: 3342, dtype: object\n"
     ]
    }
   ],
   "source": [
    "display(unique_domain_df.head(2))\n",
    "print(unique_domain_df.loc[:,'NAME'])"
   ]
  },
  {
   "cell_type": "code",
   "execution_count": 14,
   "id": "177840c9",
   "metadata": {
    "execution": {
     "iopub.execute_input": "2021-08-26T04:05:58.707905Z",
     "iopub.status.busy": "2021-08-26T04:05:58.694329Z",
     "iopub.status.idle": "2021-08-26T04:05:58.713714Z",
     "shell.execute_reply": "2021-08-26T04:05:58.714749Z"
    },
    "jupyter": {
     "source_hidden": true
    },
    "papermill": {
     "duration": 0.201138,
     "end_time": "2021-08-26T04:05:58.715272",
     "exception": false,
     "start_time": "2021-08-26T04:05:58.514134",
     "status": "completed"
    },
    "tags": []
   },
   "outputs": [
    {
     "data": {
      "text/html": [
       "<div>\n",
       "<style scoped>\n",
       "    .dataframe tbody tr th:only-of-type {\n",
       "        vertical-align: middle;\n",
       "    }\n",
       "\n",
       "    .dataframe tbody tr th {\n",
       "        vertical-align: top;\n",
       "    }\n",
       "\n",
       "    .dataframe thead th {\n",
       "        text-align: right;\n",
       "    }\n",
       "</style>\n",
       "<table border=\"1\" class=\"dataframe\">\n",
       "  <thead>\n",
       "    <tr style=\"text-align: right;\">\n",
       "      <th></th>\n",
       "      <th>MSI</th>\n",
       "      <th>TCU</th>\n",
       "      <th>AANAPISI</th>\n",
       "      <th>HBCU</th>\n",
       "      <th>ANNH</th>\n",
       "      <th>NASNTI</th>\n",
       "      <th>PBI</th>\n",
       "      <th>HSI</th>\n",
       "      <th>MSI2</th>\n",
       "      <th>Name</th>\n",
       "    </tr>\n",
       "  </thead>\n",
       "  <tbody>\n",
       "    <tr>\n",
       "      <th>1</th>\n",
       "      <td>Yes</td>\n",
       "      <td>No</td>\n",
       "      <td>No</td>\n",
       "      <td>No</td>\n",
       "      <td>No</td>\n",
       "      <td>No</td>\n",
       "      <td>No</td>\n",
       "      <td>No</td>\n",
       "      <td>TCU</td>\n",
       "      <td>Aaniiih Nakoda College</td>\n",
       "    </tr>\n",
       "  </tbody>\n",
       "</table>\n",
       "</div>"
      ],
      "text/plain": [
       "   MSI TCU AANAPISI HBCU ANNH NASNTI PBI HSI MSI2                    Name\n",
       "1  Yes  No       No   No   No     No  No  No  TCU  Aaniiih Nakoda College"
      ]
     },
     "metadata": {},
     "output_type": "display_data"
    }
   ],
   "source": [
    "## adding the MSI breakdown information\n",
    "i_msi_df = i_msi_df.iloc[1:,1:3]\n",
    "\n",
    "# split i_msi into columns with Yes or No indicators\n",
    "# have MSI, HSI, HCBU, PBI, TCU, NASNTI, ANNH, AANAPISI\n",
    "i_msi_df['MSI'] = 'Yes'\n",
    "i_msi_df['TCU'] = 'No'\n",
    "i_msi_df['AANAPISI'] = 'No'\n",
    "i_msi_df['HBCU'] = 'No'\n",
    "i_msi_df['ANNH'] = 'No'\n",
    "i_msi_df['NASNTI'] = 'No'\n",
    "i_msi_df['PBI'] = 'No'\n",
    "i_msi_df['HSI'] = 'No'\n",
    "\n",
    "i_msi_df['MSI2'] = i_msi_df['2019 List of Minority Serving Institutions (MSIs)']\n",
    "i_msi_df = i_msi_df.drop(columns=['2019 List of Minority Serving Institutions (MSIs)'])\n",
    "\n",
    "i_msi_df['Name'] = i_msi_df['Unnamed: 1']\n",
    "i_msi_df = i_msi_df.drop(columns=['Unnamed: 1'])\n",
    "\n",
    "\n",
    "display(i_msi_df.head(1))\n"
   ]
  },
  {
   "cell_type": "code",
   "execution_count": 15,
   "id": "100f10b1",
   "metadata": {
    "execution": {
     "iopub.execute_input": "2021-08-26T04:05:59.001189Z",
     "iopub.status.busy": "2021-08-26T04:05:59.000336Z",
     "iopub.status.idle": "2021-08-26T04:05:59.004104Z",
     "shell.execute_reply": "2021-08-26T04:05:59.004656Z"
    },
    "jupyter": {
     "source_hidden": true
    },
    "papermill": {
     "duration": 0.147843,
     "end_time": "2021-08-26T04:05:59.004842",
     "exception": false,
     "start_time": "2021-08-26T04:05:58.856999",
     "status": "completed"
    },
    "tags": []
   },
   "outputs": [
    {
     "name": "stdout",
     "output_type": "stream",
     "text": [
      "MSI                                      Yes\n",
      "TCU                                       No\n",
      "AANAPISI                                  No\n",
      "HBCU                                      No\n",
      "ANNH                                      No\n",
      "NASNTI                                    No\n",
      "PBI                                       No\n",
      "HSI                                       No\n",
      "MSI2                          AANAPISI & HSI\n",
      "Name        University of California, Merced\n",
      "Name: 683, dtype: object\n",
      "MSI                            Yes\n",
      "TCU                             No\n",
      "AANAPISI                        No\n",
      "HBCU                            No\n",
      "ANNH                            No\n",
      "NASNTI                          No\n",
      "PBI                             No\n",
      "HSI                             No\n",
      "MSI2                           TCU\n",
      "Name        Aaniiih Nakoda College\n",
      "Name: 1, dtype: object\n"
     ]
    }
   ],
   "source": [
    "print(i_msi_df.iloc[682,:]) #685\n",
    "print(i_msi_df.iloc[0,:]) #3"
   ]
  },
  {
   "cell_type": "code",
   "execution_count": 16,
   "id": "9e44d4ea",
   "metadata": {
    "execution": {
     "iopub.execute_input": "2021-08-26T04:05:59.309370Z",
     "iopub.status.busy": "2021-08-26T04:05:59.258369Z",
     "iopub.status.idle": "2021-08-26T04:05:59.315086Z",
     "shell.execute_reply": "2021-08-26T04:05:59.315552Z"
    },
    "jupyter": {
     "source_hidden": true
    },
    "papermill": {
     "duration": 0.191949,
     "end_time": "2021-08-26T04:05:59.315737",
     "exception": false,
     "start_time": "2021-08-26T04:05:59.123788",
     "status": "completed"
    },
    "tags": []
   },
   "outputs": [],
   "source": [
    "## extract msi subcategories\n",
    "msi_cats = i_msi_df['MSI2'].apply(lambda x: x.split()).apply(lambda x: [i for i in x if i != '&'])\n",
    "\n",
    "for index,vals in enumerate(msi_cats):\n",
    "    for item in vals:\n",
    "        i_msi_df.loc[index+1,item] = 'Yes'"
   ]
  },
  {
   "cell_type": "code",
   "execution_count": 17,
   "id": "f9f48d15",
   "metadata": {
    "execution": {
     "iopub.execute_input": "2021-08-26T04:05:59.559265Z",
     "iopub.status.busy": "2021-08-26T04:05:59.558318Z",
     "iopub.status.idle": "2021-08-26T04:05:59.562603Z",
     "shell.execute_reply": "2021-08-26T04:05:59.563058Z"
    },
    "jupyter": {
     "source_hidden": true
    },
    "papermill": {
     "duration": 0.130346,
     "end_time": "2021-08-26T04:05:59.563248",
     "exception": false,
     "start_time": "2021-08-26T04:05:59.432902",
     "status": "completed"
    },
    "scrolled": false,
    "tags": []
   },
   "outputs": [
    {
     "data": {
      "text/html": [
       "<div>\n",
       "<style scoped>\n",
       "    .dataframe tbody tr th:only-of-type {\n",
       "        vertical-align: middle;\n",
       "    }\n",
       "\n",
       "    .dataframe tbody tr th {\n",
       "        vertical-align: top;\n",
       "    }\n",
       "\n",
       "    .dataframe thead th {\n",
       "        text-align: right;\n",
       "    }\n",
       "</style>\n",
       "<table border=\"1\" class=\"dataframe\">\n",
       "  <thead>\n",
       "    <tr style=\"text-align: right;\">\n",
       "      <th></th>\n",
       "      <th>MSI</th>\n",
       "      <th>TCU</th>\n",
       "      <th>AANAPISI</th>\n",
       "      <th>HBCU</th>\n",
       "      <th>ANNH</th>\n",
       "      <th>NASNTI</th>\n",
       "      <th>PBI</th>\n",
       "      <th>HSI</th>\n",
       "      <th>Name</th>\n",
       "    </tr>\n",
       "  </thead>\n",
       "  <tbody>\n",
       "    <tr>\n",
       "      <th>773</th>\n",
       "      <td>Yes</td>\n",
       "      <td>No</td>\n",
       "      <td>No</td>\n",
       "      <td>No</td>\n",
       "      <td>No</td>\n",
       "      <td>No</td>\n",
       "      <td>No</td>\n",
       "      <td>Yes</td>\n",
       "      <td>Yakima Valley College</td>\n",
       "    </tr>\n",
       "    <tr>\n",
       "      <th>774</th>\n",
       "      <td>Yes</td>\n",
       "      <td>No</td>\n",
       "      <td>Yes</td>\n",
       "      <td>No</td>\n",
       "      <td>No</td>\n",
       "      <td>No</td>\n",
       "      <td>No</td>\n",
       "      <td>Yes</td>\n",
       "      <td>Yuba College</td>\n",
       "    </tr>\n",
       "  </tbody>\n",
       "</table>\n",
       "</div>"
      ],
      "text/plain": [
       "     MSI TCU AANAPISI HBCU ANNH NASNTI PBI  HSI                   Name\n",
       "773  Yes  No       No   No   No     No  No  Yes  Yakima Valley College\n",
       "774  Yes  No      Yes   No   No     No  No  Yes           Yuba College"
      ]
     },
     "metadata": {},
     "output_type": "display_data"
    }
   ],
   "source": [
    "msi_df = i_msi_df.drop(columns=['MSI2'])\n",
    "display(msi_df.tail(2))"
   ]
  },
  {
   "cell_type": "code",
   "execution_count": 18,
   "id": "114fde08",
   "metadata": {
    "execution": {
     "iopub.execute_input": "2021-08-26T04:05:59.867476Z",
     "iopub.status.busy": "2021-08-26T04:05:59.844599Z",
     "iopub.status.idle": "2021-08-26T04:06:00.865126Z",
     "shell.execute_reply": "2021-08-26T04:06:00.865688Z"
    },
    "jupyter": {
     "source_hidden": true
    },
    "papermill": {
     "duration": 1.176749,
     "end_time": "2021-08-26T04:06:00.865944",
     "exception": false,
     "start_time": "2021-08-26T04:05:59.689195",
     "status": "completed"
    },
    "tags": []
   },
   "outputs": [
    {
     "name": "stderr",
     "output_type": "stream",
     "text": [
      "2021-08-26 00:05:59,865| WARNING | /var/folders/64/2zrjfqsn7x3fxjzpq46kqcyr0000gp/T/ipykernel_12487/1687093435.py:12: SettingWithCopyWarning: \n",
      "A value is trying to be set on a copy of a slice from a DataFrame\n",
      "\n",
      "See the caveats in the documentation: https://pandas.pydata.org/pandas-docs/stable/user_guide/indexing.html#returning-a-view-versus-a-copy\n",
      "  unique_domain_df['NAME'][item] = ' '.join(pattern.findall(unique_domain_df['NAME'][item]))\n",
      "\n"
     ]
    },
    {
     "name": "stderr",
     "output_type": "stream",
     "text": [
      "2021-08-26 00:05:59,865| WARNING | /var/folders/64/2zrjfqsn7x3fxjzpq46kqcyr0000gp/T/ipykernel_12487/1687093435.py:12: SettingWithCopyWarning: \n",
      "A value is trying to be set on a copy of a slice from a DataFrame\n",
      "\n",
      "See the caveats in the documentation: https://pandas.pydata.org/pandas-docs/stable/user_guide/indexing.html#returning-a-view-versus-a-copy\n",
      "  unique_domain_df['NAME'][item] = ' '.join(pattern.findall(unique_domain_df['NAME'][item]))\n",
      "\n"
     ]
    },
    {
     "name": "stderr",
     "output_type": "stream",
     "text": [
      "2021-08-26 00:05:59,865| WARNING | /var/folders/64/2zrjfqsn7x3fxjzpq46kqcyr0000gp/T/ipykernel_12487/1687093435.py:12: SettingWithCopyWarning: \n",
      "A value is trying to be set on a copy of a slice from a DataFrame\n",
      "\n",
      "See the caveats in the documentation: https://pandas.pydata.org/pandas-docs/stable/user_guide/indexing.html#returning-a-view-versus-a-copy\n",
      "  unique_domain_df['NAME'][item] = ' '.join(pattern.findall(unique_domain_df['NAME'][item]))\n",
      "\n"
     ]
    },
    {
     "name": "stderr",
     "output_type": "stream",
     "text": [
      "2021-08-26 00:05:59,865| WARNING | /var/folders/64/2zrjfqsn7x3fxjzpq46kqcyr0000gp/T/ipykernel_12487/1687093435.py:12: SettingWithCopyWarning: \n",
      "A value is trying to be set on a copy of a slice from a DataFrame\n",
      "\n",
      "See the caveats in the documentation: https://pandas.pydata.org/pandas-docs/stable/user_guide/indexing.html#returning-a-view-versus-a-copy\n",
      "  unique_domain_df['NAME'][item] = ' '.join(pattern.findall(unique_domain_df['NAME'][item]))\n",
      "\n"
     ]
    },
    {
     "name": "stdout",
     "output_type": "stream",
     "text": [
      "2021-08-26 00:05:59,865 - [WARNING] py.warnings [warnings._showwarnmsg:109]: /var/folders/64/2zrjfqsn7x3fxjzpq46kqcyr0000gp/T/ipykernel_12487/1687093435.py:12: SettingWithCopyWarning: \n",
      "A value is trying to be set on a copy of a slice from a DataFrame\n",
      "\n",
      "See the caveats in the documentation: https://pandas.pydata.org/pandas-docs/stable/user_guide/indexing.html#returning-a-view-versus-a-copy\n",
      "  unique_domain_df['NAME'][item] = ' '.join(pattern.findall(unique_domain_df['NAME'][item]))\n",
      "\n"
     ]
    }
   ],
   "source": [
    "# regex determination of institutional names\n",
    "## re-arrange names for both unique_domain_df and msi_df\n",
    "import re\n",
    "pattern = re.compile(r'\\w+')\n",
    "\n",
    "## msi_df\n",
    "for index,item in enumerate(msi_df['Name']):\n",
    "    msi_df['Name'][index+1] = ' '.join(pattern.findall(item))\n",
    "\n",
    "## unique domain df\n",
    "for item in unique_domain_df.index.values.tolist():\n",
    "    unique_domain_df['NAME'][item] = ' '.join(pattern.findall(unique_domain_df['NAME'][item]))\n",
    "\n",
    "    "
   ]
  },
  {
   "cell_type": "code",
   "execution_count": 19,
   "id": "4f49cda0",
   "metadata": {
    "execution": {
     "iopub.execute_input": "2021-08-26T04:06:01.129758Z",
     "iopub.status.busy": "2021-08-26T04:06:01.128730Z",
     "iopub.status.idle": "2021-08-26T04:06:01.133348Z",
     "shell.execute_reply": "2021-08-26T04:06:01.133785Z"
    },
    "jupyter": {
     "source_hidden": true
    },
    "papermill": {
     "duration": 0.144921,
     "end_time": "2021-08-26T04:06:01.133967",
     "exception": false,
     "start_time": "2021-08-26T04:06:00.989046",
     "status": "completed"
    },
    "tags": []
   },
   "outputs": [
    {
     "data": {
      "text/html": [
       "<div>\n",
       "<style scoped>\n",
       "    .dataframe tbody tr th:only-of-type {\n",
       "        vertical-align: middle;\n",
       "    }\n",
       "\n",
       "    .dataframe tbody tr th {\n",
       "        vertical-align: top;\n",
       "    }\n",
       "\n",
       "    .dataframe thead th {\n",
       "        text-align: right;\n",
       "    }\n",
       "</style>\n",
       "<table border=\"1\" class=\"dataframe\">\n",
       "  <thead>\n",
       "    <tr style=\"text-align: right;\">\n",
       "      <th></th>\n",
       "      <th>index_x</th>\n",
       "      <th>UNITID</th>\n",
       "      <th>NAME</th>\n",
       "      <th>CITY</th>\n",
       "      <th>STABBR</th>\n",
       "      <th>CC2000</th>\n",
       "      <th>BASIC2005</th>\n",
       "      <th>BASIC2010</th>\n",
       "      <th>BASIC2015</th>\n",
       "      <th>BASIC2018</th>\n",
       "      <th>...</th>\n",
       "      <th>usn_gr_me</th>\n",
       "      <th>usn_gr_ce</th>\n",
       "      <th>usn_ug_eng_w_doct</th>\n",
       "      <th>usn_ug_EE_no_doct</th>\n",
       "      <th>usn_ug_EE_w_doct</th>\n",
       "      <th>phys_gr_con</th>\n",
       "      <th>usn_gr_eng</th>\n",
       "      <th>usn_natl_publ</th>\n",
       "      <th>usn_natl</th>\n",
       "      <th>Unnamed: 33</th>\n",
       "    </tr>\n",
       "  </thead>\n",
       "  <tbody>\n",
       "    <tr>\n",
       "      <th>3687</th>\n",
       "      <td>3849</td>\n",
       "      <td>484613</td>\n",
       "      <td>University of Phoenix Arizona</td>\n",
       "      <td>Tempe</td>\n",
       "      <td>AZ</td>\n",
       "      <td>Not classified, not in classification universe</td>\n",
       "      <td>Not classified, not in classification universe</td>\n",
       "      <td>NaN</td>\n",
       "      <td>Doctoral Universities: Moderate Research Activity</td>\n",
       "      <td>Doctoral/Professional Universities</td>\n",
       "      <td>...</td>\n",
       "      <td>NaN</td>\n",
       "      <td>NaN</td>\n",
       "      <td>NaN</td>\n",
       "      <td>NaN</td>\n",
       "      <td>NaN</td>\n",
       "      <td>NaN</td>\n",
       "      <td>None</td>\n",
       "      <td>NaN</td>\n",
       "      <td>None</td>\n",
       "      <td>None</td>\n",
       "    </tr>\n",
       "    <tr>\n",
       "      <th>3996</th>\n",
       "      <td>4171</td>\n",
       "      <td>433387</td>\n",
       "      <td>Western Governors University</td>\n",
       "      <td>Salt Lake City</td>\n",
       "      <td>UT</td>\n",
       "      <td>Not classified, not in classification universe</td>\n",
       "      <td>NaN</td>\n",
       "      <td>Master's L: Master's Colleges and Universities...</td>\n",
       "      <td>Master's Colleges &amp; Universities: Larger Programs</td>\n",
       "      <td>Master's Colleges &amp; Universities: Larger Programs</td>\n",
       "      <td>...</td>\n",
       "      <td>NaN</td>\n",
       "      <td>NaN</td>\n",
       "      <td>NaN</td>\n",
       "      <td>NaN</td>\n",
       "      <td>NaN</td>\n",
       "      <td>NaN</td>\n",
       "      <td>None</td>\n",
       "      <td>NaN</td>\n",
       "      <td>None</td>\n",
       "      <td>None</td>\n",
       "    </tr>\n",
       "  </tbody>\n",
       "</table>\n",
       "<p>2 rows × 132 columns</p>\n",
       "</div>"
      ],
      "text/plain": [
       "      index_x  UNITID                           NAME            CITY STABBR  \\\n",
       "3687     3849  484613  University of Phoenix Arizona           Tempe     AZ   \n",
       "3996     4171  433387   Western Governors University  Salt Lake City     UT   \n",
       "\n",
       "                                              CC2000  \\\n",
       "3687  Not classified, not in classification universe   \n",
       "3996  Not classified, not in classification universe   \n",
       "\n",
       "                                           BASIC2005  \\\n",
       "3687  Not classified, not in classification universe   \n",
       "3996                                             NaN   \n",
       "\n",
       "                                              BASIC2010  \\\n",
       "3687                                                NaN   \n",
       "3996  Master's L: Master's Colleges and Universities...   \n",
       "\n",
       "                                              BASIC2015  \\\n",
       "3687  Doctoral Universities: Moderate Research Activity   \n",
       "3996  Master's Colleges & Universities: Larger Programs   \n",
       "\n",
       "                                              BASIC2018  ... usn_gr_me  \\\n",
       "3687                 Doctoral/Professional Universities  ...       NaN   \n",
       "3996  Master's Colleges & Universities: Larger Programs  ...       NaN   \n",
       "\n",
       "     usn_gr_ce usn_ug_eng_w_doct usn_ug_EE_no_doct usn_ug_EE_w_doct  \\\n",
       "3687       NaN               NaN               NaN              NaN   \n",
       "3996       NaN               NaN               NaN              NaN   \n",
       "\n",
       "     phys_gr_con usn_gr_eng usn_natl_publ usn_natl Unnamed: 33  \n",
       "3687         NaN       None           NaN     None        None  \n",
       "3996         NaN       None           NaN     None        None  \n",
       "\n",
       "[2 rows x 132 columns]"
      ]
     },
     "execution_count": 19,
     "metadata": {},
     "output_type": "execute_result"
    }
   ],
   "source": [
    "unique_domain_df.head(2)"
   ]
  },
  {
   "cell_type": "code",
   "execution_count": 20,
   "id": "6b75bd55",
   "metadata": {
    "execution": {
     "iopub.execute_input": "2021-08-26T04:06:01.373941Z",
     "iopub.status.busy": "2021-08-26T04:06:01.372985Z",
     "iopub.status.idle": "2021-08-26T04:06:01.377321Z",
     "shell.execute_reply": "2021-08-26T04:06:01.377977Z"
    },
    "jupyter": {
     "source_hidden": true
    },
    "papermill": {
     "duration": 0.123228,
     "end_time": "2021-08-26T04:06:01.378212",
     "exception": false,
     "start_time": "2021-08-26T04:06:01.254984",
     "status": "completed"
    },
    "tags": []
   },
   "outputs": [
    {
     "name": "stdout",
     "output_type": "stream",
     "text": [
      "MSI                                                Yes\n",
      "TCU                                                 No\n",
      "AANAPISI                                            No\n",
      "HBCU                                               Yes\n",
      "ANNH                                                No\n",
      "NASNTI                                              No\n",
      "PBI                                                 No\n",
      "HSI                                                 No\n",
      "Name        Florida Agricultural Mechanical University\n",
      "Name: 258, dtype: object\n",
      "MSI                                     Yes\n",
      "TCU                                      No\n",
      "AANAPISI                                Yes\n",
      "HBCU                                     No\n",
      "ANNH                                     No\n",
      "NASNTI                                   No\n",
      "PBI                                      No\n",
      "HSI                                     Yes\n",
      "Name        University of California Merced\n",
      "Name: 683, dtype: object\n"
     ]
    }
   ],
   "source": [
    "print(msi_df.iloc[257,:])\n",
    "print(msi_df.iloc[682,:])"
   ]
  },
  {
   "cell_type": "code",
   "execution_count": 21,
   "id": "a81ba3a0",
   "metadata": {
    "execution": {
     "iopub.execute_input": "2021-08-26T04:06:01.631311Z",
     "iopub.status.busy": "2021-08-26T04:06:01.630329Z",
     "iopub.status.idle": "2021-08-26T04:06:01.681984Z",
     "shell.execute_reply": "2021-08-26T04:06:01.682565Z"
    },
    "jupyter": {
     "source_hidden": true
    },
    "papermill": {
     "duration": 0.185667,
     "end_time": "2021-08-26T04:06:01.682798",
     "exception": false,
     "start_time": "2021-08-26T04:06:01.497131",
     "status": "completed"
    },
    "tags": []
   },
   "outputs": [
    {
     "data": {
      "text/html": [
       "<div>\n",
       "<style scoped>\n",
       "    .dataframe tbody tr th:only-of-type {\n",
       "        vertical-align: middle;\n",
       "    }\n",
       "\n",
       "    .dataframe tbody tr th {\n",
       "        vertical-align: top;\n",
       "    }\n",
       "\n",
       "    .dataframe thead th {\n",
       "        text-align: right;\n",
       "    }\n",
       "</style>\n",
       "<table border=\"1\" class=\"dataframe\">\n",
       "  <thead>\n",
       "    <tr style=\"text-align: right;\">\n",
       "      <th></th>\n",
       "      <th>index_x</th>\n",
       "      <th>UNITID</th>\n",
       "      <th>CITY</th>\n",
       "      <th>STABBR</th>\n",
       "      <th>CC2000</th>\n",
       "      <th>BASIC2005</th>\n",
       "      <th>BASIC2010</th>\n",
       "      <th>BASIC2015</th>\n",
       "      <th>BASIC2018</th>\n",
       "      <th>IPUG2018</th>\n",
       "      <th>...</th>\n",
       "      <th>Unnamed: 33</th>\n",
       "      <th>MSI</th>\n",
       "      <th>TCU</th>\n",
       "      <th>AANAPISI</th>\n",
       "      <th>HBCU</th>\n",
       "      <th>ANNH</th>\n",
       "      <th>NASNTI</th>\n",
       "      <th>PBI</th>\n",
       "      <th>HSI</th>\n",
       "      <th>NAME</th>\n",
       "    </tr>\n",
       "  </thead>\n",
       "  <tbody>\n",
       "    <tr>\n",
       "      <th>A T Still University of Health Sciences</th>\n",
       "      <td>0</td>\n",
       "      <td>177834</td>\n",
       "      <td>Kirksville</td>\n",
       "      <td>MO</td>\n",
       "      <td>Specialized Institutions—Medical schools and m...</td>\n",
       "      <td>NaN</td>\n",
       "      <td>Spec/Med: Special Focus Institutions--Medical ...</td>\n",
       "      <td>Special Focus Four-Year: Medical Schools &amp; Cen...</td>\n",
       "      <td>Special Focus Four-Year: Medical Schools &amp; Cen...</td>\n",
       "      <td>Not Classified (Exclusively Graduate Programs)</td>\n",
       "      <td>...</td>\n",
       "      <td>None</td>\n",
       "      <td>NaN</td>\n",
       "      <td>NaN</td>\n",
       "      <td>NaN</td>\n",
       "      <td>NaN</td>\n",
       "      <td>NaN</td>\n",
       "      <td>NaN</td>\n",
       "      <td>NaN</td>\n",
       "      <td>NaN</td>\n",
       "      <td>A T Still University of Health Sciences</td>\n",
       "    </tr>\n",
       "    <tr>\n",
       "      <th>AOMA Graduate School of Integrative Medicine</th>\n",
       "      <td>152</td>\n",
       "      <td>429094</td>\n",
       "      <td>Austin</td>\n",
       "      <td>TX</td>\n",
       "      <td>Specialized Institutions—Other separate health...</td>\n",
       "      <td>NaN</td>\n",
       "      <td>Spec/Health: Special Focus Institutions--Other...</td>\n",
       "      <td>Special Focus Four-Year: Other Health Professi...</td>\n",
       "      <td>Special Focus Four-Year: Other Health Professi...</td>\n",
       "      <td>Not Classified (Exclusively Graduate Programs)</td>\n",
       "      <td>...</td>\n",
       "      <td>None</td>\n",
       "      <td>NaN</td>\n",
       "      <td>NaN</td>\n",
       "      <td>NaN</td>\n",
       "      <td>NaN</td>\n",
       "      <td>NaN</td>\n",
       "      <td>NaN</td>\n",
       "      <td>NaN</td>\n",
       "      <td>NaN</td>\n",
       "      <td>AOMA Graduate School of Integrative Medicine</td>\n",
       "    </tr>\n",
       "  </tbody>\n",
       "</table>\n",
       "<p>2 rows × 137 columns</p>\n",
       "</div>"
      ],
      "text/plain": [
       "                                              index_x  UNITID        CITY  \\\n",
       "A T Still University of Health Sciences             0  177834  Kirksville   \n",
       "AOMA Graduate School of Integrative Medicine      152  429094      Austin   \n",
       "\n",
       "                                             STABBR  \\\n",
       "A T Still University of Health Sciences          MO   \n",
       "AOMA Graduate School of Integrative Medicine     TX   \n",
       "\n",
       "                                                                                         CC2000  \\\n",
       "A T Still University of Health Sciences       Specialized Institutions—Medical schools and m...   \n",
       "AOMA Graduate School of Integrative Medicine  Specialized Institutions—Other separate health...   \n",
       "\n",
       "                                             BASIC2005  \\\n",
       "A T Still University of Health Sciences            NaN   \n",
       "AOMA Graduate School of Integrative Medicine       NaN   \n",
       "\n",
       "                                                                                      BASIC2010  \\\n",
       "A T Still University of Health Sciences       Spec/Med: Special Focus Institutions--Medical ...   \n",
       "AOMA Graduate School of Integrative Medicine  Spec/Health: Special Focus Institutions--Other...   \n",
       "\n",
       "                                                                                      BASIC2015  \\\n",
       "A T Still University of Health Sciences       Special Focus Four-Year: Medical Schools & Cen...   \n",
       "AOMA Graduate School of Integrative Medicine  Special Focus Four-Year: Other Health Professi...   \n",
       "\n",
       "                                                                                      BASIC2018  \\\n",
       "A T Still University of Health Sciences       Special Focus Four-Year: Medical Schools & Cen...   \n",
       "AOMA Graduate School of Integrative Medicine  Special Focus Four-Year: Other Health Professi...   \n",
       "\n",
       "                                                                                    IPUG2018  \\\n",
       "A T Still University of Health Sciences       Not Classified (Exclusively Graduate Programs)   \n",
       "AOMA Graduate School of Integrative Medicine  Not Classified (Exclusively Graduate Programs)   \n",
       "\n",
       "                                              ... Unnamed: 33  MSI  TCU  \\\n",
       "A T Still University of Health Sciences       ...        None  NaN  NaN   \n",
       "AOMA Graduate School of Integrative Medicine  ...        None  NaN  NaN   \n",
       "\n",
       "                                             AANAPISI HBCU ANNH NASNTI  PBI  \\\n",
       "A T Still University of Health Sciences           NaN  NaN  NaN    NaN  NaN   \n",
       "AOMA Graduate School of Integrative Medicine      NaN  NaN  NaN    NaN  NaN   \n",
       "\n",
       "                                              HSI  \\\n",
       "A T Still University of Health Sciences       NaN   \n",
       "AOMA Graduate School of Integrative Medicine  NaN   \n",
       "\n",
       "                                                                                      NAME  \n",
       "A T Still University of Health Sciences            A T Still University of Health Sciences  \n",
       "AOMA Graduate School of Integrative Medicine  AOMA Graduate School of Integrative Medicine  \n",
       "\n",
       "[2 rows x 137 columns]"
      ]
     },
     "metadata": {},
     "output_type": "display_data"
    }
   ],
   "source": [
    "# add msi information onto the unique_domain_df\n",
    "unique_domain_df = unique_domain_df.drop(columns=['HBCU','MSI','HSI'])\n",
    "\n",
    "unique_domain_df = unique_domain_df.set_index('NAME').join(msi_df.set_index('Name'))\n",
    "### merge behaves weirdly, used join instead\n",
    "#unique_domain_df = unique_domain_df.merge(msi_df,left_on='NAME',right_on='Name')\n",
    "\n",
    "unique_domain_df['NAME'] = unique_domain_df.index.values\n",
    "display(unique_domain_df.head(2))"
   ]
  },
  {
   "cell_type": "code",
   "execution_count": 22,
   "id": "1e08fb38",
   "metadata": {
    "execution": {
     "iopub.execute_input": "2021-08-26T04:06:01.963551Z",
     "iopub.status.busy": "2021-08-26T04:06:01.962814Z",
     "iopub.status.idle": "2021-08-26T04:06:01.973050Z",
     "shell.execute_reply": "2021-08-26T04:06:01.973602Z"
    },
    "jupyter": {
     "source_hidden": true
    },
    "papermill": {
     "duration": 0.160543,
     "end_time": "2021-08-26T04:06:01.973823",
     "exception": false,
     "start_time": "2021-08-26T04:06:01.813280",
     "status": "completed"
    },
    "tags": []
   },
   "outputs": [
    {
     "data": {
      "text/plain": [
       "index_x                                              3714\n",
       "UNITID                                             445188\n",
       "CITY                                               Merced\n",
       "STABBR                                                 CA\n",
       "CC2000     Not classified, not in classification universe\n",
       "                                ...                      \n",
       "ANNH                                                   No\n",
       "NASNTI                                                 No\n",
       "PBI                                                    No\n",
       "HSI                                                   Yes\n",
       "NAME                      University of California Merced\n",
       "Name: University of California Merced, Length: 137, dtype: object"
      ]
     },
     "execution_count": 22,
     "metadata": {},
     "output_type": "execute_result"
    }
   ],
   "source": [
    "unique_domain_df.loc['University of California Merced',:]"
   ]
  },
  {
   "cell_type": "markdown",
   "id": "9b65dafd",
   "metadata": {
    "papermill": {
     "duration": 0.122916,
     "end_time": "2021-08-26T04:06:02.215715",
     "exception": false,
     "start_time": "2021-08-26T04:06:02.092799",
     "status": "completed"
    },
    "tags": []
   },
   "source": [
    "## Obtain organization metadata from Salesforce"
   ]
  },
  {
   "cell_type": "code",
   "execution_count": 23,
   "id": "af0c41e9",
   "metadata": {
    "execution": {
     "iopub.execute_input": "2021-08-26T04:06:02.474225Z",
     "iopub.status.busy": "2021-08-26T04:06:02.472659Z",
     "iopub.status.idle": "2021-08-26T04:06:02.775945Z",
     "shell.execute_reply": "2021-08-26T04:06:02.776837Z"
    },
    "jupyter": {
     "source_hidden": true
    },
    "papermill": {
     "duration": 0.439022,
     "end_time": "2021-08-26T04:06:02.777124",
     "exception": false,
     "start_time": "2021-08-26T04:06:02.338102",
     "status": "completed"
    },
    "tags": []
   },
   "outputs": [],
   "source": [
    "\n",
    "# specify Salesforce object ID and external ID\n",
    "org_metadata = db_s.get_obj_metadata('Organization__c')"
   ]
  },
  {
   "cell_type": "code",
   "execution_count": 24,
   "id": "0465c2c9",
   "metadata": {
    "execution": {
     "iopub.execute_input": "2021-08-26T04:06:03.033871Z",
     "iopub.status.busy": "2021-08-26T04:06:03.032991Z",
     "iopub.status.idle": "2021-08-26T04:06:03.037766Z",
     "shell.execute_reply": "2021-08-26T04:06:03.038370Z"
    },
    "jupyter": {
     "source_hidden": true
    },
    "papermill": {
     "duration": 0.132322,
     "end_time": "2021-08-26T04:06:03.038558",
     "exception": false,
     "start_time": "2021-08-26T04:06:02.906236",
     "status": "completed"
    },
    "tags": []
   },
   "outputs": [
    {
     "data": {
      "text/plain": [
       "['Domain',\n",
       " 'Country',\n",
       " 'Industry',\n",
       " 'Size_Range',\n",
       " 'MSI',\n",
       " 'is_US_institution',\n",
       " 'HBCU',\n",
       " 'TCU',\n",
       " 'BASIC2018',\n",
       " 'usn_gr_eng',\n",
       " 'usn_gr_EE',\n",
       " 'usn_gr_mse',\n",
       " 'usn_gr_ce',\n",
       " 'usn_gr_me',\n",
       " 'usn_gr_ae',\n",
       " 'usn_gr_IE',\n",
       " 'chem_gr_anal',\n",
       " 'chem_gr_inorg',\n",
       " 'chem_gr_phy',\n",
       " 'chem_gr_bio',\n",
       " 'chem_gr_org',\n",
       " 'chem_gr_theo',\n",
       " 'phys_gr_atom',\n",
       " 'phys_gr_con',\n",
       " 'phys_gr_quan',\n",
       " 'usn_ug_eng_w_doct',\n",
       " 'usn_ug_eng_no_doctorate',\n",
       " 'usn_ug_EE_w_doct',\n",
       " 'usn_ug_EE_no_doct',\n",
       " 'usn_ug_CE_w_doct',\n",
       " 'usn_ug_CE_no_doct',\n",
       " 'usn_ug_ME_w_doct',\n",
       " 'usn_ug_ME_no_doct',\n",
       " 'usn_ug_ChE_w_doct',\n",
       " 'usn_ug_ChE_no_doct',\n",
       " 'usn_ug_IE_w_doct',\n",
       " 'usn_ug_IE_no_doct',\n",
       " 'usn_ug_MSE_w_doct',\n",
       " 'usn_natl',\n",
       " 'usn_natl_publ',\n",
       " 'usn_ug_MSE_no_doct',\n",
       " 'ANNH',\n",
       " 'AANAPISI',\n",
       " 'PBI',\n",
       " 'HSI',\n",
       " 'NASNTI',\n",
       " 'Max_Cluster_Size',\n",
       " 'Median_Cluster_Size',\n",
       " 'Avg_Cluster_Size',\n",
       " 'Avg_Class_Length',\n",
       " 'Median_Class_Length',\n",
       " 'Total_Clustered_Users',\n",
       " 'Avg_Week_Classes',\n",
       " 'Max_Week_Classes',\n",
       " 'Avg_Week_Users',\n",
       " 'Max_Week_Users',\n",
       " 'Avg_Sem_Classes',\n",
       " 'Max_Sem_Classes',\n",
       " 'Avg_Sem_Users',\n",
       " 'Max_Sem_Users',\n",
       " 'Weekly_YoY',\n",
       " 'Monthly_YoY',\n",
       " 'Total_Clusters',\n",
       " 'YearofF',\n",
       " 'Clusters_Yr2020',\n",
       " 'Clusters_Yr2019',\n",
       " 'ClusteredUsers_2020',\n",
       " 'ClusteredUsers_2019']"
      ]
     },
     "metadata": {},
     "output_type": "display_data"
    }
   ],
   "source": [
    "import json\n",
    "\n",
    "# get all fields\n",
    "field_list = json.loads(org_metadata)['fields']\n",
    "\n",
    "# list of available field API names\n",
    "available_fields = list()\n",
    "\n",
    "for this_field in field_list:\n",
    "    this_name = this_field['name']\n",
    "    \n",
    "    if len(this_name) > 3:\n",
    "        if this_name[-3:] == '__c':\n",
    "            # this is a custom-made field\n",
    "            available_fields.append(this_name[:-3])\n",
    "\n",
    "# display\n",
    "display(available_fields)"
   ]
  },
  {
   "cell_type": "markdown",
   "id": "f6dc008d",
   "metadata": {
    "papermill": {
     "duration": 0.111335,
     "end_time": "2021-08-26T04:06:03.269555",
     "exception": false,
     "start_time": "2021-08-26T04:06:03.158220",
     "status": "completed"
    },
    "tags": []
   },
   "source": [
    "## Match data with Salesforce format"
   ]
  },
  {
   "cell_type": "code",
   "execution_count": 25,
   "id": "eb0dde21",
   "metadata": {
    "execution": {
     "iopub.execute_input": "2021-08-26T04:06:03.501179Z",
     "iopub.status.busy": "2021-08-26T04:06:03.500272Z",
     "iopub.status.idle": "2021-08-26T04:06:03.504334Z",
     "shell.execute_reply": "2021-08-26T04:06:03.504752Z"
    },
    "jupyter": {
     "source_hidden": true
    },
    "papermill": {
     "duration": 0.121789,
     "end_time": "2021-08-26T04:06:03.504951",
     "exception": false,
     "start_time": "2021-08-26T04:06:03.383162",
     "status": "completed"
    },
    "tags": []
   },
   "outputs": [
    {
     "data": {
      "text/plain": [
       "{'AANAPISI',\n",
       " 'ANNH',\n",
       " 'BASIC2018',\n",
       " 'HBCU',\n",
       " 'HSI',\n",
       " 'MSI',\n",
       " 'NASNTI',\n",
       " 'PBI',\n",
       " 'TCU',\n",
       " 'chem_gr_anal',\n",
       " 'chem_gr_bio',\n",
       " 'chem_gr_inorg',\n",
       " 'chem_gr_org',\n",
       " 'chem_gr_phy',\n",
       " 'chem_gr_theo',\n",
       " 'phys_gr_atom',\n",
       " 'phys_gr_con',\n",
       " 'phys_gr_quan',\n",
       " 'usn_gr_EE',\n",
       " 'usn_gr_IE',\n",
       " 'usn_gr_ae',\n",
       " 'usn_gr_ce',\n",
       " 'usn_gr_eng',\n",
       " 'usn_gr_me',\n",
       " 'usn_gr_mse',\n",
       " 'usn_natl',\n",
       " 'usn_natl_publ',\n",
       " 'usn_ug_CE_w_doct',\n",
       " 'usn_ug_ChE_no_doct',\n",
       " 'usn_ug_ChE_w_doct',\n",
       " 'usn_ug_EE_no_doct',\n",
       " 'usn_ug_EE_w_doct',\n",
       " 'usn_ug_IE_no_doct',\n",
       " 'usn_ug_IE_w_doct',\n",
       " 'usn_ug_ME_no_doct',\n",
       " 'usn_ug_ME_w_doct',\n",
       " 'usn_ug_MSE_w_doct',\n",
       " 'usn_ug_eng_no_doctorate',\n",
       " 'usn_ug_eng_w_doct'}"
      ]
     },
     "metadata": {},
     "output_type": "display_data"
    }
   ],
   "source": [
    "# find columns that have matched fields in Salesforce\n",
    "matched_columns = set(unique_domain_df.columns).intersection(set(available_fields))\n",
    "\n",
    "# display\n",
    "display(matched_columns)"
   ]
  },
  {
   "cell_type": "code",
   "execution_count": 26,
   "id": "dcc71466",
   "metadata": {
    "execution": {
     "iopub.execute_input": "2021-08-26T04:06:03.747290Z",
     "iopub.status.busy": "2021-08-26T04:06:03.745962Z",
     "iopub.status.idle": "2021-08-26T04:06:03.783310Z",
     "shell.execute_reply": "2021-08-26T04:06:03.784456Z"
    },
    "jupyter": {
     "source_hidden": true
    },
    "papermill": {
     "duration": 0.167065,
     "end_time": "2021-08-26T04:06:03.784822",
     "exception": false,
     "start_time": "2021-08-26T04:06:03.617757",
     "status": "completed"
    },
    "tags": []
   },
   "outputs": [
    {
     "data": {
      "text/html": [
       "<div>\n",
       "<style scoped>\n",
       "    .dataframe tbody tr th:only-of-type {\n",
       "        vertical-align: middle;\n",
       "    }\n",
       "\n",
       "    .dataframe tbody tr th {\n",
       "        vertical-align: top;\n",
       "    }\n",
       "\n",
       "    .dataframe thead th {\n",
       "        text-align: right;\n",
       "    }\n",
       "</style>\n",
       "<table border=\"1\" class=\"dataframe\">\n",
       "  <thead>\n",
       "    <tr style=\"text-align: right;\">\n",
       "      <th></th>\n",
       "      <th>A T Still University of Health Sciences</th>\n",
       "      <th>AOMA Graduate School of Integrative Medicine</th>\n",
       "    </tr>\n",
       "  </thead>\n",
       "  <tbody>\n",
       "    <tr>\n",
       "      <th>Domain__c</th>\n",
       "      <td>atsu.edu</td>\n",
       "      <td>aoma.edu</td>\n",
       "    </tr>\n",
       "    <tr>\n",
       "      <th>is_US_institution__c</th>\n",
       "      <td>True</td>\n",
       "      <td>True</td>\n",
       "    </tr>\n",
       "    <tr>\n",
       "      <th>Name</th>\n",
       "      <td>A T Still University of Health Sciences</td>\n",
       "      <td>AOMA Graduate School of Integrative Medicine</td>\n",
       "    </tr>\n",
       "    <tr>\n",
       "      <th>usn_ug_ChE_w_doct__c</th>\n",
       "      <td>NaN</td>\n",
       "      <td>NaN</td>\n",
       "    </tr>\n",
       "    <tr>\n",
       "      <th>TCU__c</th>\n",
       "      <td>NaN</td>\n",
       "      <td>NaN</td>\n",
       "    </tr>\n",
       "    <tr>\n",
       "      <th>chem_gr_inorg__c</th>\n",
       "      <td>NaN</td>\n",
       "      <td>NaN</td>\n",
       "    </tr>\n",
       "    <tr>\n",
       "      <th>usn_ug_eng_no_doctorate__c</th>\n",
       "      <td>NaN</td>\n",
       "      <td>NaN</td>\n",
       "    </tr>\n",
       "    <tr>\n",
       "      <th>chem_gr_anal__c</th>\n",
       "      <td>NaN</td>\n",
       "      <td>NaN</td>\n",
       "    </tr>\n",
       "    <tr>\n",
       "      <th>usn_gr_EE__c</th>\n",
       "      <td>NaN</td>\n",
       "      <td>NaN</td>\n",
       "    </tr>\n",
       "    <tr>\n",
       "      <th>HSI__c</th>\n",
       "      <td>NaN</td>\n",
       "      <td>NaN</td>\n",
       "    </tr>\n",
       "    <tr>\n",
       "      <th>usn_ug_MSE_w_doct__c</th>\n",
       "      <td>NaN</td>\n",
       "      <td>NaN</td>\n",
       "    </tr>\n",
       "    <tr>\n",
       "      <th>chem_gr_org__c</th>\n",
       "      <td>None</td>\n",
       "      <td>None</td>\n",
       "    </tr>\n",
       "    <tr>\n",
       "      <th>ANNH__c</th>\n",
       "      <td>NaN</td>\n",
       "      <td>NaN</td>\n",
       "    </tr>\n",
       "    <tr>\n",
       "      <th>usn_ug_ME_no_doct__c</th>\n",
       "      <td>NaN</td>\n",
       "      <td>NaN</td>\n",
       "    </tr>\n",
       "    <tr>\n",
       "      <th>chem_gr_theo__c</th>\n",
       "      <td>NaN</td>\n",
       "      <td>NaN</td>\n",
       "    </tr>\n",
       "    <tr>\n",
       "      <th>usn_natl__c</th>\n",
       "      <td>None</td>\n",
       "      <td>None</td>\n",
       "    </tr>\n",
       "    <tr>\n",
       "      <th>usn_ug_IE_w_doct__c</th>\n",
       "      <td>NaN</td>\n",
       "      <td>NaN</td>\n",
       "    </tr>\n",
       "    <tr>\n",
       "      <th>MSI__c</th>\n",
       "      <td>NaN</td>\n",
       "      <td>NaN</td>\n",
       "    </tr>\n",
       "    <tr>\n",
       "      <th>NASNTI__c</th>\n",
       "      <td>NaN</td>\n",
       "      <td>NaN</td>\n",
       "    </tr>\n",
       "    <tr>\n",
       "      <th>usn_gr_ce__c</th>\n",
       "      <td>NaN</td>\n",
       "      <td>NaN</td>\n",
       "    </tr>\n",
       "    <tr>\n",
       "      <th>phys_gr_quan__c</th>\n",
       "      <td>NaN</td>\n",
       "      <td>NaN</td>\n",
       "    </tr>\n",
       "    <tr>\n",
       "      <th>usn_natl_publ__c</th>\n",
       "      <td>NaN</td>\n",
       "      <td>NaN</td>\n",
       "    </tr>\n",
       "    <tr>\n",
       "      <th>usn_gr_mse__c</th>\n",
       "      <td>NaN</td>\n",
       "      <td>NaN</td>\n",
       "    </tr>\n",
       "    <tr>\n",
       "      <th>usn_ug_EE_w_doct__c</th>\n",
       "      <td>NaN</td>\n",
       "      <td>NaN</td>\n",
       "    </tr>\n",
       "    <tr>\n",
       "      <th>usn_ug_IE_no_doct__c</th>\n",
       "      <td>NaN</td>\n",
       "      <td>NaN</td>\n",
       "    </tr>\n",
       "    <tr>\n",
       "      <th>usn_ug_ChE_no_doct__c</th>\n",
       "      <td>NaN</td>\n",
       "      <td>NaN</td>\n",
       "    </tr>\n",
       "    <tr>\n",
       "      <th>usn_gr_eng__c</th>\n",
       "      <td>None</td>\n",
       "      <td>None</td>\n",
       "    </tr>\n",
       "    <tr>\n",
       "      <th>phys_gr_atom__c</th>\n",
       "      <td>NaN</td>\n",
       "      <td>NaN</td>\n",
       "    </tr>\n",
       "    <tr>\n",
       "      <th>chem_gr_phy__c</th>\n",
       "      <td>NaN</td>\n",
       "      <td>NaN</td>\n",
       "    </tr>\n",
       "    <tr>\n",
       "      <th>phys_gr_con__c</th>\n",
       "      <td>NaN</td>\n",
       "      <td>NaN</td>\n",
       "    </tr>\n",
       "    <tr>\n",
       "      <th>usn_gr_me__c</th>\n",
       "      <td>NaN</td>\n",
       "      <td>NaN</td>\n",
       "    </tr>\n",
       "    <tr>\n",
       "      <th>AANAPISI__c</th>\n",
       "      <td>NaN</td>\n",
       "      <td>NaN</td>\n",
       "    </tr>\n",
       "    <tr>\n",
       "      <th>usn_ug_EE_no_doct__c</th>\n",
       "      <td>NaN</td>\n",
       "      <td>NaN</td>\n",
       "    </tr>\n",
       "    <tr>\n",
       "      <th>usn_ug_CE_w_doct__c</th>\n",
       "      <td>NaN</td>\n",
       "      <td>NaN</td>\n",
       "    </tr>\n",
       "    <tr>\n",
       "      <th>PBI__c</th>\n",
       "      <td>NaN</td>\n",
       "      <td>NaN</td>\n",
       "    </tr>\n",
       "    <tr>\n",
       "      <th>HBCU__c</th>\n",
       "      <td>NaN</td>\n",
       "      <td>NaN</td>\n",
       "    </tr>\n",
       "    <tr>\n",
       "      <th>usn_ug_ME_w_doct__c</th>\n",
       "      <td>NaN</td>\n",
       "      <td>NaN</td>\n",
       "    </tr>\n",
       "    <tr>\n",
       "      <th>usn_gr_ae__c</th>\n",
       "      <td>NaN</td>\n",
       "      <td>NaN</td>\n",
       "    </tr>\n",
       "    <tr>\n",
       "      <th>usn_gr_IE__c</th>\n",
       "      <td>NaN</td>\n",
       "      <td>NaN</td>\n",
       "    </tr>\n",
       "    <tr>\n",
       "      <th>chem_gr_bio__c</th>\n",
       "      <td>None</td>\n",
       "      <td>None</td>\n",
       "    </tr>\n",
       "    <tr>\n",
       "      <th>usn_ug_eng_w_doct__c</th>\n",
       "      <td>NaN</td>\n",
       "      <td>NaN</td>\n",
       "    </tr>\n",
       "    <tr>\n",
       "      <th>BASIC2018__c</th>\n",
       "      <td>Special Focus Four-Year: Medical Schools &amp; Cen...</td>\n",
       "      <td>Special Focus Four-Year: Other Health Professi...</td>\n",
       "    </tr>\n",
       "  </tbody>\n",
       "</table>\n",
       "</div>"
      ],
      "text/plain": [
       "                                      A T Still University of Health Sciences  \\\n",
       "Domain__c                                                            atsu.edu   \n",
       "is_US_institution__c                                                     True   \n",
       "Name                                  A T Still University of Health Sciences   \n",
       "usn_ug_ChE_w_doct__c                                                      NaN   \n",
       "TCU__c                                                                    NaN   \n",
       "chem_gr_inorg__c                                                          NaN   \n",
       "usn_ug_eng_no_doctorate__c                                                NaN   \n",
       "chem_gr_anal__c                                                           NaN   \n",
       "usn_gr_EE__c                                                              NaN   \n",
       "HSI__c                                                                    NaN   \n",
       "usn_ug_MSE_w_doct__c                                                      NaN   \n",
       "chem_gr_org__c                                                           None   \n",
       "ANNH__c                                                                   NaN   \n",
       "usn_ug_ME_no_doct__c                                                      NaN   \n",
       "chem_gr_theo__c                                                           NaN   \n",
       "usn_natl__c                                                              None   \n",
       "usn_ug_IE_w_doct__c                                                       NaN   \n",
       "MSI__c                                                                    NaN   \n",
       "NASNTI__c                                                                 NaN   \n",
       "usn_gr_ce__c                                                              NaN   \n",
       "phys_gr_quan__c                                                           NaN   \n",
       "usn_natl_publ__c                                                          NaN   \n",
       "usn_gr_mse__c                                                             NaN   \n",
       "usn_ug_EE_w_doct__c                                                       NaN   \n",
       "usn_ug_IE_no_doct__c                                                      NaN   \n",
       "usn_ug_ChE_no_doct__c                                                     NaN   \n",
       "usn_gr_eng__c                                                            None   \n",
       "phys_gr_atom__c                                                           NaN   \n",
       "chem_gr_phy__c                                                            NaN   \n",
       "phys_gr_con__c                                                            NaN   \n",
       "usn_gr_me__c                                                              NaN   \n",
       "AANAPISI__c                                                               NaN   \n",
       "usn_ug_EE_no_doct__c                                                      NaN   \n",
       "usn_ug_CE_w_doct__c                                                       NaN   \n",
       "PBI__c                                                                    NaN   \n",
       "HBCU__c                                                                   NaN   \n",
       "usn_ug_ME_w_doct__c                                                       NaN   \n",
       "usn_gr_ae__c                                                              NaN   \n",
       "usn_gr_IE__c                                                              NaN   \n",
       "chem_gr_bio__c                                                           None   \n",
       "usn_ug_eng_w_doct__c                                                      NaN   \n",
       "BASIC2018__c                Special Focus Four-Year: Medical Schools & Cen...   \n",
       "\n",
       "                                 AOMA Graduate School of Integrative Medicine  \n",
       "Domain__c                                                            aoma.edu  \n",
       "is_US_institution__c                                                     True  \n",
       "Name                             AOMA Graduate School of Integrative Medicine  \n",
       "usn_ug_ChE_w_doct__c                                                      NaN  \n",
       "TCU__c                                                                    NaN  \n",
       "chem_gr_inorg__c                                                          NaN  \n",
       "usn_ug_eng_no_doctorate__c                                                NaN  \n",
       "chem_gr_anal__c                                                           NaN  \n",
       "usn_gr_EE__c                                                              NaN  \n",
       "HSI__c                                                                    NaN  \n",
       "usn_ug_MSE_w_doct__c                                                      NaN  \n",
       "chem_gr_org__c                                                           None  \n",
       "ANNH__c                                                                   NaN  \n",
       "usn_ug_ME_no_doct__c                                                      NaN  \n",
       "chem_gr_theo__c                                                           NaN  \n",
       "usn_natl__c                                                              None  \n",
       "usn_ug_IE_w_doct__c                                                       NaN  \n",
       "MSI__c                                                                    NaN  \n",
       "NASNTI__c                                                                 NaN  \n",
       "usn_gr_ce__c                                                              NaN  \n",
       "phys_gr_quan__c                                                           NaN  \n",
       "usn_natl_publ__c                                                          NaN  \n",
       "usn_gr_mse__c                                                             NaN  \n",
       "usn_ug_EE_w_doct__c                                                       NaN  \n",
       "usn_ug_IE_no_doct__c                                                      NaN  \n",
       "usn_ug_ChE_no_doct__c                                                     NaN  \n",
       "usn_gr_eng__c                                                            None  \n",
       "phys_gr_atom__c                                                           NaN  \n",
       "chem_gr_phy__c                                                            NaN  \n",
       "phys_gr_con__c                                                            NaN  \n",
       "usn_gr_me__c                                                              NaN  \n",
       "AANAPISI__c                                                               NaN  \n",
       "usn_ug_EE_no_doct__c                                                      NaN  \n",
       "usn_ug_CE_w_doct__c                                                       NaN  \n",
       "PBI__c                                                                    NaN  \n",
       "HBCU__c                                                                   NaN  \n",
       "usn_ug_ME_w_doct__c                                                       NaN  \n",
       "usn_gr_ae__c                                                              NaN  \n",
       "usn_gr_IE__c                                                              NaN  \n",
       "chem_gr_bio__c                                                           None  \n",
       "usn_ug_eng_w_doct__c                                                      NaN  \n",
       "BASIC2018__c                Special Focus Four-Year: Other Health Professi...  "
      ]
     },
     "execution_count": 26,
     "metadata": {},
     "output_type": "execute_result"
    }
   ],
   "source": [
    "df_sf = pd.DataFrame()\n",
    "\n",
    "# Make sure NaN and NaT values are taken care of here\n",
    "\n",
    "df_sf['Domain__c'] = unique_domain_df['domain']\n",
    "\n",
    "df_sf['is_US_institution__c'] = True\n",
    "df_sf['Name'] = unique_domain_df['NAME']\n",
    "\n",
    "# Transfer all matched columns to df_sf\n",
    "for this_col in matched_columns:\n",
    "    df_sf[this_col+'__c'] = unique_domain_df[this_col]\n",
    "\n",
    "sf_original_fields = df_sf.columns\n",
    "\n",
    "# display\n",
    "df_sf.head(2).T"
   ]
  },
  {
   "cell_type": "markdown",
   "id": "e1103f68",
   "metadata": {
    "papermill": {
     "duration": 0.125145,
     "end_time": "2021-08-26T04:06:04.040384",
     "exception": false,
     "start_time": "2021-08-26T04:06:03.915239",
     "status": "completed"
    },
    "tags": []
   },
   "source": [
    "## To Salesforce Sales Cloud CRM"
   ]
  },
  {
   "cell_type": "code",
   "execution_count": 27,
   "id": "a9e69acb",
   "metadata": {
    "execution": {
     "iopub.execute_input": "2021-08-26T04:06:04.282386Z",
     "iopub.status.busy": "2021-08-26T04:06:04.281287Z",
     "iopub.status.idle": "2021-08-26T04:06:04.283524Z",
     "shell.execute_reply": "2021-08-26T04:06:04.284076Z"
    },
    "jupyter": {
     "source_hidden": true
    },
    "papermill": {
     "duration": 0.12452,
     "end_time": "2021-08-26T04:06:04.284261",
     "exception": false,
     "start_time": "2021-08-26T04:06:04.159741",
     "status": "completed"
    },
    "tags": []
   },
   "outputs": [],
   "source": [
    "db_s = salesforce\n",
    "\n",
    "# specify Salesforce object ID and external ID\n",
    "db_s.object_id = object_id\n",
    "db_s.external_id = external_id"
   ]
  },
  {
   "cell_type": "code",
   "execution_count": 28,
   "id": "ab5bb64f",
   "metadata": {
    "execution": {
     "iopub.execute_input": "2021-08-26T04:06:04.538989Z",
     "iopub.status.busy": "2021-08-26T04:06:04.529496Z",
     "iopub.status.idle": "2021-08-26T04:06:04.548890Z",
     "shell.execute_reply": "2021-08-26T04:06:04.549382Z"
    },
    "jupyter": {
     "source_hidden": true
    },
    "papermill": {
     "duration": 0.146606,
     "end_time": "2021-08-26T04:06:04.549629",
     "exception": false,
     "start_time": "2021-08-26T04:06:04.403023",
     "status": "completed"
    },
    "tags": []
   },
   "outputs": [
    {
     "data": {
      "text/html": [
       "<div>\n",
       "<style scoped>\n",
       "    .dataframe tbody tr th:only-of-type {\n",
       "        vertical-align: middle;\n",
       "    }\n",
       "\n",
       "    .dataframe tbody tr th {\n",
       "        vertical-align: top;\n",
       "    }\n",
       "\n",
       "    .dataframe thead th {\n",
       "        text-align: right;\n",
       "    }\n",
       "</style>\n",
       "<table border=\"1\" class=\"dataframe\">\n",
       "  <thead>\n",
       "    <tr style=\"text-align: right;\">\n",
       "      <th></th>\n",
       "      <th>Domain__c</th>\n",
       "      <th>is_US_institution__c</th>\n",
       "      <th>Name</th>\n",
       "      <th>usn_ug_ChE_w_doct__c</th>\n",
       "      <th>TCU__c</th>\n",
       "      <th>chem_gr_inorg__c</th>\n",
       "      <th>usn_ug_eng_no_doctorate__c</th>\n",
       "      <th>chem_gr_anal__c</th>\n",
       "      <th>usn_gr_EE__c</th>\n",
       "      <th>HSI__c</th>\n",
       "      <th>...</th>\n",
       "      <th>usn_ug_EE_no_doct__c</th>\n",
       "      <th>usn_ug_CE_w_doct__c</th>\n",
       "      <th>PBI__c</th>\n",
       "      <th>HBCU__c</th>\n",
       "      <th>usn_ug_ME_w_doct__c</th>\n",
       "      <th>usn_gr_ae__c</th>\n",
       "      <th>usn_gr_IE__c</th>\n",
       "      <th>chem_gr_bio__c</th>\n",
       "      <th>usn_ug_eng_w_doct__c</th>\n",
       "      <th>BASIC2018__c</th>\n",
       "    </tr>\n",
       "  </thead>\n",
       "  <tbody>\n",
       "    <tr>\n",
       "      <th>A T Still University of Health Sciences</th>\n",
       "      <td>atsu.edu</td>\n",
       "      <td>True</td>\n",
       "      <td>A T Still University of Health Sciences</td>\n",
       "      <td>NaN</td>\n",
       "      <td>NaN</td>\n",
       "      <td>NaN</td>\n",
       "      <td>NaN</td>\n",
       "      <td>NaN</td>\n",
       "      <td>NaN</td>\n",
       "      <td>NaN</td>\n",
       "      <td>...</td>\n",
       "      <td>NaN</td>\n",
       "      <td>NaN</td>\n",
       "      <td>NaN</td>\n",
       "      <td>NaN</td>\n",
       "      <td>NaN</td>\n",
       "      <td>NaN</td>\n",
       "      <td>NaN</td>\n",
       "      <td>None</td>\n",
       "      <td>NaN</td>\n",
       "      <td>Special Focus Four-Year: Medical Schools &amp; Cen...</td>\n",
       "    </tr>\n",
       "    <tr>\n",
       "      <th>AOMA Graduate School of Integrative Medicine</th>\n",
       "      <td>aoma.edu</td>\n",
       "      <td>True</td>\n",
       "      <td>AOMA Graduate School of Integrative Medicine</td>\n",
       "      <td>NaN</td>\n",
       "      <td>NaN</td>\n",
       "      <td>NaN</td>\n",
       "      <td>NaN</td>\n",
       "      <td>NaN</td>\n",
       "      <td>NaN</td>\n",
       "      <td>NaN</td>\n",
       "      <td>...</td>\n",
       "      <td>NaN</td>\n",
       "      <td>NaN</td>\n",
       "      <td>NaN</td>\n",
       "      <td>NaN</td>\n",
       "      <td>NaN</td>\n",
       "      <td>NaN</td>\n",
       "      <td>NaN</td>\n",
       "      <td>None</td>\n",
       "      <td>NaN</td>\n",
       "      <td>Special Focus Four-Year: Other Health Professi...</td>\n",
       "    </tr>\n",
       "  </tbody>\n",
       "</table>\n",
       "<p>2 rows × 42 columns</p>\n",
       "</div>"
      ],
      "text/plain": [
       "                                             Domain__c  is_US_institution__c  \\\n",
       "A T Still University of Health Sciences       atsu.edu                  True   \n",
       "AOMA Graduate School of Integrative Medicine  aoma.edu                  True   \n",
       "\n",
       "                                                                                      Name  \\\n",
       "A T Still University of Health Sciences            A T Still University of Health Sciences   \n",
       "AOMA Graduate School of Integrative Medicine  AOMA Graduate School of Integrative Medicine   \n",
       "\n",
       "                                              usn_ug_ChE_w_doct__c TCU__c  \\\n",
       "A T Still University of Health Sciences                        NaN    NaN   \n",
       "AOMA Graduate School of Integrative Medicine                   NaN    NaN   \n",
       "\n",
       "                                              chem_gr_inorg__c  \\\n",
       "A T Still University of Health Sciences                    NaN   \n",
       "AOMA Graduate School of Integrative Medicine               NaN   \n",
       "\n",
       "                                              usn_ug_eng_no_doctorate__c  \\\n",
       "A T Still University of Health Sciences                              NaN   \n",
       "AOMA Graduate School of Integrative Medicine                         NaN   \n",
       "\n",
       "                                              chem_gr_anal__c  usn_gr_EE__c  \\\n",
       "A T Still University of Health Sciences                   NaN           NaN   \n",
       "AOMA Graduate School of Integrative Medicine              NaN           NaN   \n",
       "\n",
       "                                             HSI__c  ...  \\\n",
       "A T Still University of Health Sciences         NaN  ...   \n",
       "AOMA Graduate School of Integrative Medicine    NaN  ...   \n",
       "\n",
       "                                              usn_ug_EE_no_doct__c  \\\n",
       "A T Still University of Health Sciences                        NaN   \n",
       "AOMA Graduate School of Integrative Medicine                   NaN   \n",
       "\n",
       "                                             usn_ug_CE_w_doct__c PBI__c  \\\n",
       "A T Still University of Health Sciences                      NaN    NaN   \n",
       "AOMA Graduate School of Integrative Medicine                 NaN    NaN   \n",
       "\n",
       "                                              HBCU__c  usn_ug_ME_w_doct__c  \\\n",
       "A T Still University of Health Sciences           NaN                  NaN   \n",
       "AOMA Graduate School of Integrative Medicine      NaN                  NaN   \n",
       "\n",
       "                                             usn_gr_ae__c  usn_gr_IE__c  \\\n",
       "A T Still University of Health Sciences               NaN           NaN   \n",
       "AOMA Graduate School of Integrative Medicine          NaN           NaN   \n",
       "\n",
       "                                             chem_gr_bio__c  \\\n",
       "A T Still University of Health Sciences                None   \n",
       "AOMA Graduate School of Integrative Medicine           None   \n",
       "\n",
       "                                             usn_ug_eng_w_doct__c  \\\n",
       "A T Still University of Health Sciences                       NaN   \n",
       "AOMA Graduate School of Integrative Medicine                  NaN   \n",
       "\n",
       "                                                                                   BASIC2018__c  \n",
       "A T Still University of Health Sciences       Special Focus Four-Year: Medical Schools & Cen...  \n",
       "AOMA Graduate School of Integrative Medicine  Special Focus Four-Year: Other Health Professi...  \n",
       "\n",
       "[2 rows x 42 columns]"
      ]
     },
     "metadata": {},
     "output_type": "display_data"
    }
   ],
   "source": [
    "display(df_sf.head(2))"
   ]
  },
  {
   "cell_type": "code",
   "execution_count": 29,
   "id": "530418af",
   "metadata": {
    "execution": {
     "iopub.execute_input": "2021-08-26T04:06:04.794972Z",
     "iopub.status.busy": "2021-08-26T04:06:04.794197Z",
     "iopub.status.idle": "2021-08-26T04:06:10.137834Z",
     "shell.execute_reply": "2021-08-26T04:06:10.138508Z"
    },
    "jupyter": {
     "source_hidden": true
    },
    "papermill": {
     "duration": 5.468552,
     "end_time": "2021-08-26T04:06:10.138764",
     "exception": false,
     "start_time": "2021-08-26T04:06:04.670212",
     "status": "completed"
    },
    "tags": []
   },
   "outputs": [
    {
     "name": "stdout",
     "output_type": "stream",
     "text": [
      "[Success] Bulk job creation successful. Job ID = 7505w00000ZJKh8AAH\n",
      "hello\n"
     ]
    },
    {
     "name": "stdout",
     "output_type": "stream",
     "text": [
      "[Success] CSV upload successful. Job ID = 7505w00000ZJKh8AAH\n"
     ]
    },
    {
     "name": "stdout",
     "output_type": "stream",
     "text": [
      "[Success] Closing job successful. Job ID = 7505w00000ZJKh8AAH\n"
     ]
    }
   ],
   "source": [
    "# send data to Salesforce\n",
    "db_s.send_data(df_sf)"
   ]
  },
  {
   "cell_type": "code",
   "execution_count": 30,
   "id": "102dce30",
   "metadata": {
    "execution": {
     "iopub.execute_input": "2021-08-26T04:06:10.424581Z",
     "iopub.status.busy": "2021-08-26T04:06:10.423200Z",
     "iopub.status.idle": "2021-08-26T04:06:10.992286Z",
     "shell.execute_reply": "2021-08-26T04:06:10.992964Z"
    },
    "jupyter": {
     "source_hidden": true
    },
    "papermill": {
     "duration": 0.717248,
     "end_time": "2021-08-26T04:06:10.993205",
     "exception": false,
     "start_time": "2021-08-26T04:06:10.275957",
     "status": "completed"
    },
    "tags": []
   },
   "outputs": [
    {
     "data": {
      "text/plain": [
       "{'id': '7505w00000ZJKh8AAH',\n",
       " 'operation': 'upsert',\n",
       " 'object': 'organization__c',\n",
       " 'createdById': '0055w00000DM5bOAAT',\n",
       " 'createdDate': '2021-08-26T04:06:05.000+0000',\n",
       " 'systemModstamp': '2021-08-26T04:06:10.000+0000',\n",
       " 'state': 'UploadComplete',\n",
       " 'externalIdFieldName': 'Domain__c',\n",
       " 'concurrencyMode': 'Parallel',\n",
       " 'contentType': 'CSV',\n",
       " 'apiVersion': 47.0,\n",
       " 'jobType': 'V2Ingest',\n",
       " 'lineEnding': 'LF',\n",
       " 'columnDelimiter': 'COMMA',\n",
       " 'numberRecordsProcessed': 0,\n",
       " 'numberRecordsFailed': 0,\n",
       " 'retries': 0,\n",
       " 'totalProcessingTime': 0,\n",
       " 'apiActiveProcessingTime': 0,\n",
       " 'apexProcessingTime': 0}"
      ]
     },
     "execution_count": 30,
     "metadata": {},
     "output_type": "execute_result"
    }
   ],
   "source": [
    "# check status\n",
    "db_s.check_bulk_status()"
   ]
  },
  {
   "cell_type": "code",
   "execution_count": 31,
   "id": "b0ce2134",
   "metadata": {
    "execution": {
     "iopub.execute_input": "2021-08-26T04:06:11.247417Z",
     "iopub.status.busy": "2021-08-26T04:06:11.246316Z",
     "iopub.status.idle": "2021-08-26T04:06:11.528197Z",
     "shell.execute_reply": "2021-08-26T04:06:11.528576Z"
    },
    "jupyter": {
     "source_hidden": true
    },
    "papermill": {
     "duration": 0.403134,
     "end_time": "2021-08-26T04:06:11.528822",
     "exception": false,
     "start_time": "2021-08-26T04:06:11.125688",
     "status": "completed"
    },
    "scrolled": true,
    "tags": []
   },
   "outputs": [
    {
     "name": "stdout",
     "output_type": "stream",
     "text": [
      "''\n"
     ]
    }
   ],
   "source": [
    "from pprint import pprint\n",
    "pprint(db_s.check_bulk_failed_results())"
   ]
  },
  {
   "cell_type": "code",
   "execution_count": null,
   "id": "ebdcff42",
   "metadata": {
    "jupyter": {
     "source_hidden": true
    },
    "papermill": {
     "duration": 0.11242,
     "end_time": "2021-08-26T04:06:11.759448",
     "exception": false,
     "start_time": "2021-08-26T04:06:11.647028",
     "status": "completed"
    },
    "tags": []
   },
   "outputs": [],
   "source": []
  }
 ],
 "metadata": {
  "celltoolbar": "Tags",
  "kernelspec": {
   "display_name": "Python 3",
   "language": "python",
   "name": "python3"
  },
  "language_info": {
   "codemirror_mode": {
    "name": "ipython",
    "version": 3
   },
   "file_extension": ".py",
   "mimetype": "text/x-python",
   "name": "python",
   "nbconvert_exporter": "python",
   "pygments_lexer": "ipython3",
   "version": "3.8.2"
  },
  "papermill": {
   "duration": 30.877465,
   "end_time": "2021-08-26T04:06:12.304783",
   "environment_variables": {},
   "exception": null,
   "input_path": "nanoHUB/pipeline/salesforce/task_organization.ipynb",
   "output_path": "./.output/task_organization.ipynb",
   "parameters": {},
   "start_time": "2021-08-26T04:05:41.427318",
   "version": "2.1.1"
  }
 },
 "nbformat": 4,
 "nbformat_minor": 5
}