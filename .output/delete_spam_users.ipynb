{
 "cells": [
  {
   "cell_type": "markdown",
   "id": "937fef57",
   "metadata": {
    "papermill": {
     "duration": 0.041359,
     "end_time": "2021-10-22T11:53:38.613916",
     "exception": false,
     "start_time": "2021-10-22T11:53:38.572557",
     "status": "completed"
    },
    "tags": []
   },
   "source": [
    "## Finding all users that have spam flags and deleting them from within salesforce"
   ]
  },
  {
   "cell_type": "code",
   "execution_count": 1,
   "id": "91fea669",
   "metadata": {
    "execution": {
     "iopub.execute_input": "2021-10-22T11:53:38.664408Z",
     "iopub.status.busy": "2021-10-22T11:53:38.663795Z",
     "iopub.status.idle": "2021-10-22T11:53:40.840423Z",
     "shell.execute_reply": "2021-10-22T11:53:40.840800Z"
    },
    "jupyter": {
     "source_hidden": true
    },
    "papermill": {
     "duration": 2.2057,
     "end_time": "2021-10-22T11:53:40.841025",
     "exception": false,
     "start_time": "2021-10-22T11:53:38.635325",
     "status": "completed"
    },
    "tags": []
   },
   "outputs": [
    {
     "name": "stdout",
     "output_type": "stream",
     "text": [
      "\u001b[1mnanoHUB - Serving Students, Researchers & Instructors\u001b[0m\n"
     ]
    },
    {
     "name": "stdout",
     "output_type": "stream",
     "text": [
      "Obtained Salesforce access token ...... True\n"
     ]
    }
   ],
   "source": [
    "## Parameters\n",
    "#hours_range = 24*365*1 # number of hours to look back\n",
    "\n",
    "# API settings\n",
    "api_url = '/services/data/v43.0/sobjects'\n",
    "external_id = 'nanoHUB_user_ID__c'\n",
    "object_id = 'Contact'\n",
    "\n",
    "from nanoHUB.application import Application\n",
    "\n",
    "application = Application.get_instance()\n",
    "nanohub_db = application.new_db_engine('nanohub')\n",
    "nanohub_metrics_db = application.new_db_engine('nanohub_metrics')\n",
    "wang159_myrmekes_db = application.new_db_engine('wang159_myrmekes')\n",
    "\n",
    "\n",
    "salesforce = application.new_salesforce_engine()\n",
    "db_s = salesforce"
   ]
  },
  {
   "cell_type": "code",
   "execution_count": 2,
   "id": "f71ecddd",
   "metadata": {
    "execution": {
     "iopub.execute_input": "2021-10-22T11:53:40.904030Z",
     "iopub.status.busy": "2021-10-22T11:53:40.903355Z",
     "iopub.status.idle": "2021-10-22T11:53:40.905929Z",
     "shell.execute_reply": "2021-10-22T11:53:40.905436Z"
    },
    "jupyter": {
     "source_hidden": true
    },
    "papermill": {
     "duration": 0.036057,
     "end_time": "2021-10-22T11:53:40.906085",
     "exception": false,
     "start_time": "2021-10-22T11:53:40.870028",
     "status": "completed"
    },
    "tags": []
   },
   "outputs": [],
   "source": [
    "import sys\n",
    "#sys.path.append('/home/users/wang2506/nanohub_salesforce_integ/salesforce')\n",
    "\n",
    "import pandas as pd\n",
    "import datetime"
   ]
  },
  {
   "cell_type": "markdown",
   "id": "16b166ca",
   "metadata": {
    "papermill": {
     "duration": 0.024285,
     "end_time": "2021-10-22T11:53:40.956140",
     "exception": false,
     "start_time": "2021-10-22T11:53:40.931855",
     "status": "completed"
    },
    "tags": []
   },
   "source": [
    "## Find all users that have block tags from salesforce\n",
    "\n"
   ]
  },
  {
   "cell_type": "code",
   "execution_count": 3,
   "id": "cd6cd824",
   "metadata": {
    "execution": {
     "iopub.execute_input": "2021-10-22T11:53:41.008818Z",
     "iopub.status.busy": "2021-10-22T11:53:41.008058Z",
     "iopub.status.idle": "2021-10-22T11:54:19.675846Z",
     "shell.execute_reply": "2021-10-22T11:54:19.676272Z"
    },
    "jupyter": {
     "source_hidden": true
    },
    "papermill": {
     "duration": 38.696819,
     "end_time": "2021-10-22T11:54:19.676514",
     "exception": false,
     "start_time": "2021-10-22T11:53:40.979695",
     "status": "completed"
    },
    "tags": []
   },
   "outputs": [
    {
     "name": "stdout",
     "output_type": "stream",
     "text": [
      "[Success] Bulk job creation successful. Job ID = 7505w00000b1oiAAAQ\n"
     ]
    },
    {
     "name": "stdout",
     "output_type": "stream",
     "text": [
      "{\"id\":\"7505w00000b1oiAAAQ\",\"operation\":\"query\",\"object\":\"Contact\",\"createdById\":\"0055w00000DM5bOAAT\",\"createdDate\":\"2021-10-22T11:53:41.000+0000\",\"systemModstamp\":\"2021-10-22T11:53:41.000+0000\",\"state\":\"UploadComplete\",\"concurrencyMode\":\"Parallel\",\"contentType\":\"CSV\",\"apiVersion\":47.0,\"jobType\":\"V2Query\",\"lineEnding\":\"LF\",\"columnDelimiter\":\"COMMA\",\"retries\":0,\"totalProcessingTime\":0}\n"
     ]
    },
    {
     "name": "stdout",
     "output_type": "stream",
     "text": [
      "{\"id\":\"7505w00000b1oiAAAQ\",\"operation\":\"query\",\"object\":\"Contact\",\"createdById\":\"0055w00000DM5bOAAT\",\"createdDate\":\"2021-10-22T11:53:41.000+0000\",\"systemModstamp\":\"2021-10-22T11:53:51.000+0000\",\"state\":\"InProgress\",\"concurrencyMode\":\"Parallel\",\"contentType\":\"CSV\",\"apiVersion\":47.0,\"jobType\":\"V2Query\",\"lineEnding\":\"LF\",\"columnDelimiter\":\"COMMA\",\"numberRecordsProcessed\":0,\"retries\":0,\"totalProcessingTime\":0}\n"
     ]
    },
    {
     "name": "stdout",
     "output_type": "stream",
     "text": [
      "{\"id\":\"7505w00000b1oiAAAQ\",\"operation\":\"query\",\"object\":\"Contact\",\"createdById\":\"0055w00000DM5bOAAT\",\"createdDate\":\"2021-10-22T11:53:41.000+0000\",\"systemModstamp\":\"2021-10-22T11:53:51.000+0000\",\"state\":\"InProgress\",\"concurrencyMode\":\"Parallel\",\"contentType\":\"CSV\",\"apiVersion\":47.0,\"jobType\":\"V2Query\",\"lineEnding\":\"LF\",\"columnDelimiter\":\"COMMA\",\"numberRecordsProcessed\":14550,\"retries\":0,\"totalProcessingTime\":2206}\n"
     ]
    },
    {
     "name": "stdout",
     "output_type": "stream",
     "text": [
      "{\"id\":\"7505w00000b1oiAAAQ\",\"operation\":\"query\",\"object\":\"Contact\",\"createdById\":\"0055w00000DM5bOAAT\",\"createdDate\":\"2021-10-22T11:53:41.000+0000\",\"systemModstamp\":\"2021-10-22T11:54:10.000+0000\",\"state\":\"JobComplete\",\"concurrencyMode\":\"Parallel\",\"contentType\":\"CSV\",\"apiVersion\":47.0,\"jobType\":\"V2Query\",\"lineEnding\":\"LF\",\"columnDelimiter\":\"COMMA\",\"numberRecordsProcessed\":262294,\"retries\":0,\"totalProcessingTime\":16891}\n",
      "[Success] Bulk job completed successfully.\n"
     ]
    },
    {
     "data": {
      "text/html": [
       "<div>\n",
       "<style scoped>\n",
       "    .dataframe tbody tr th:only-of-type {\n",
       "        vertical-align: middle;\n",
       "    }\n",
       "\n",
       "    .dataframe tbody tr th {\n",
       "        vertical-align: top;\n",
       "    }\n",
       "\n",
       "    .dataframe thead th {\n",
       "        text-align: right;\n",
       "    }\n",
       "</style>\n",
       "<table border=\"1\" class=\"dataframe\">\n",
       "  <thead>\n",
       "    <tr style=\"text-align: right;\">\n",
       "      <th></th>\n",
       "      <th>FirstName</th>\n",
       "      <th>Id</th>\n",
       "      <th>LastName</th>\n",
       "      <th>nanoHUB_account_BLOCKED__c</th>\n",
       "      <th>nanoHUB_user_ID__c</th>\n",
       "    </tr>\n",
       "  </thead>\n",
       "  <tbody>\n",
       "    <tr>\n",
       "      <th>0</th>\n",
       "      <td>hubrepo</td>\n",
       "      <td>0035w000031Vsp1AAC</td>\n",
       "      <td>hubrepo</td>\n",
       "      <td>False</td>\n",
       "      <td>998.0</td>\n",
       "    </tr>\n",
       "    <tr>\n",
       "      <th>1</th>\n",
       "      <td>nanoHUB</td>\n",
       "      <td>0035w000031Vsp2AAC</td>\n",
       "      <td>support</td>\n",
       "      <td>False</td>\n",
       "      <td>1683.0</td>\n",
       "    </tr>\n",
       "    <tr>\n",
       "      <th>2</th>\n",
       "      <td>Grid</td>\n",
       "      <td>0035w000031Vsp3AAC</td>\n",
       "      <td>Statistics</td>\n",
       "      <td>False</td>\n",
       "      <td>1684.0</td>\n",
       "    </tr>\n",
       "  </tbody>\n",
       "</table>\n",
       "</div>"
      ],
      "text/plain": [
       "  FirstName                  Id    LastName  nanoHUB_account_BLOCKED__c  \\\n",
       "0   hubrepo  0035w000031Vsp1AAC     hubrepo                       False   \n",
       "1   nanoHUB  0035w000031Vsp2AAC     support                       False   \n",
       "2      Grid  0035w000031Vsp3AAC  Statistics                       False   \n",
       "\n",
       "   nanoHUB_user_ID__c  \n",
       "0               998.0  \n",
       "1              1683.0  \n",
       "2              1684.0  "
      ]
     },
     "execution_count": 3,
     "metadata": {},
     "output_type": "execute_result"
    }
   ],
   "source": [
    "# get Salesforce ID for organizations\n",
    "sf_contact_df = db_s.query_data('SELECT Id, firstname, lastname, nanoHUB_user_ID__c,nanoHUB_account_BLOCKED__c FROM Contact')\n",
    "\n",
    "# display\n",
    "sf_contact_df.head(3)"
   ]
  },
  {
   "cell_type": "code",
   "execution_count": 4,
   "id": "5cc6b7a3",
   "metadata": {
    "execution": {
     "iopub.execute_input": "2021-10-22T11:54:19.741352Z",
     "iopub.status.busy": "2021-10-22T11:54:19.740266Z",
     "iopub.status.idle": "2021-10-22T11:54:19.743597Z",
     "shell.execute_reply": "2021-10-22T11:54:19.744239Z"
    },
    "jupyter": {
     "source_hidden": true
    },
    "papermill": {
     "duration": 0.040026,
     "end_time": "2021-10-22T11:54:19.744447",
     "exception": false,
     "start_time": "2021-10-22T11:54:19.704421",
     "status": "completed"
    },
    "tags": []
   },
   "outputs": [
    {
     "data": {
      "text/html": [
       "<div>\n",
       "<style scoped>\n",
       "    .dataframe tbody tr th:only-of-type {\n",
       "        vertical-align: middle;\n",
       "    }\n",
       "\n",
       "    .dataframe tbody tr th {\n",
       "        vertical-align: top;\n",
       "    }\n",
       "\n",
       "    .dataframe thead th {\n",
       "        text-align: right;\n",
       "    }\n",
       "</style>\n",
       "<table border=\"1\" class=\"dataframe\">\n",
       "  <thead>\n",
       "    <tr style=\"text-align: right;\">\n",
       "      <th></th>\n",
       "      <th>FirstName</th>\n",
       "      <th>Id</th>\n",
       "      <th>LastName</th>\n",
       "      <th>nanoHUB_account_BLOCKED__c</th>\n",
       "      <th>nanoHUB_user_ID__c</th>\n",
       "    </tr>\n",
       "  </thead>\n",
       "  <tbody>\n",
       "    <tr>\n",
       "      <th>247741</th>\n",
       "      <td>Benjamin</td>\n",
       "      <td>0035w00003WNVllAAH</td>\n",
       "      <td>Star</td>\n",
       "      <td>False</td>\n",
       "      <td>1819.0</td>\n",
       "    </tr>\n",
       "    <tr>\n",
       "      <th>247742</th>\n",
       "      <td>Harold</td>\n",
       "      <td>0035w00003WNVlmAAH</td>\n",
       "      <td>Clayton,Sr.</td>\n",
       "      <td>False</td>\n",
       "      <td>8106.0</td>\n",
       "    </tr>\n",
       "    <tr>\n",
       "      <th>247743</th>\n",
       "      <td>Sergey</td>\n",
       "      <td>0035w00003WNW5TAAX</td>\n",
       "      <td>Sozykin</td>\n",
       "      <td>False</td>\n",
       "      <td>40187.0</td>\n",
       "    </tr>\n",
       "  </tbody>\n",
       "</table>\n",
       "</div>"
      ],
      "text/plain": [
       "       FirstName                  Id     LastName  nanoHUB_account_BLOCKED__c  \\\n",
       "247741  Benjamin  0035w00003WNVllAAH         Star                       False   \n",
       "247742    Harold  0035w00003WNVlmAAH  Clayton,Sr.                       False   \n",
       "247743    Sergey  0035w00003WNW5TAAX      Sozykin                       False   \n",
       "\n",
       "        nanoHUB_user_ID__c  \n",
       "247741              1819.0  \n",
       "247742              8106.0  \n",
       "247743             40187.0  "
      ]
     },
     "metadata": {},
     "output_type": "display_data"
    }
   ],
   "source": [
    "display(sf_contact_df.tail(3))"
   ]
  },
  {
   "cell_type": "code",
   "execution_count": 5,
   "id": "94829b66",
   "metadata": {
    "execution": {
     "iopub.execute_input": "2021-10-22T11:54:19.808968Z",
     "iopub.status.busy": "2021-10-22T11:54:19.808438Z",
     "iopub.status.idle": "2021-10-22T11:54:20.202766Z",
     "shell.execute_reply": "2021-10-22T11:54:20.203267Z"
    },
    "jupyter": {
     "source_hidden": true
    },
    "papermill": {
     "duration": 0.430454,
     "end_time": "2021-10-22T11:54:20.203508",
     "exception": false,
     "start_time": "2021-10-22T11:54:19.773054",
     "status": "completed"
    },
    "tags": []
   },
   "outputs": [
    {
     "data": {
      "text/html": [
       "<div>\n",
       "<style scoped>\n",
       "    .dataframe tbody tr th:only-of-type {\n",
       "        vertical-align: middle;\n",
       "    }\n",
       "\n",
       "    .dataframe tbody tr th {\n",
       "        vertical-align: top;\n",
       "    }\n",
       "\n",
       "    .dataframe thead th {\n",
       "        text-align: right;\n",
       "    }\n",
       "</style>\n",
       "<table border=\"1\" class=\"dataframe\">\n",
       "  <thead>\n",
       "    <tr style=\"text-align: right;\">\n",
       "      <th></th>\n",
       "      <th>FirstName</th>\n",
       "      <th>Id</th>\n",
       "      <th>LastName</th>\n",
       "      <th>nanoHUB_account_BLOCKED__c</th>\n",
       "      <th>nanoHUB_user_ID__c</th>\n",
       "    </tr>\n",
       "  </thead>\n",
       "  <tbody>\n",
       "  </tbody>\n",
       "</table>\n",
       "</div>"
      ],
      "text/plain": [
       "Empty DataFrame\n",
       "Columns: [FirstName, Id, LastName, nanoHUB_account_BLOCKED__c, nanoHUB_user_ID__c]\n",
       "Index: []"
      ]
     },
     "metadata": {},
     "output_type": "display_data"
    },
    {
     "data": {
      "text/html": [
       "<div>\n",
       "<style scoped>\n",
       "    .dataframe tbody tr th:only-of-type {\n",
       "        vertical-align: middle;\n",
       "    }\n",
       "\n",
       "    .dataframe tbody tr th {\n",
       "        vertical-align: top;\n",
       "    }\n",
       "\n",
       "    .dataframe thead th {\n",
       "        text-align: right;\n",
       "    }\n",
       "</style>\n",
       "<table border=\"1\" class=\"dataframe\">\n",
       "  <thead>\n",
       "    <tr style=\"text-align: right;\">\n",
       "      <th></th>\n",
       "      <th>FirstName</th>\n",
       "      <th>Id</th>\n",
       "      <th>LastName</th>\n",
       "      <th>nanoHUB_account_BLOCKED__c</th>\n",
       "      <th>nanoHUB_user_ID__c</th>\n",
       "    </tr>\n",
       "  </thead>\n",
       "  <tbody>\n",
       "    <tr>\n",
       "      <th>247742</th>\n",
       "      <td>Harold</td>\n",
       "      <td>0035w00003WNVlmAAH</td>\n",
       "      <td>Clayton,Sr.</td>\n",
       "      <td>False</td>\n",
       "      <td>8106.0</td>\n",
       "    </tr>\n",
       "    <tr>\n",
       "      <th>247743</th>\n",
       "      <td>Sergey</td>\n",
       "      <td>0035w00003WNW5TAAX</td>\n",
       "      <td>Sozykin</td>\n",
       "      <td>False</td>\n",
       "      <td>40187.0</td>\n",
       "    </tr>\n",
       "  </tbody>\n",
       "</table>\n",
       "</div>"
      ],
      "text/plain": [
       "       FirstName                  Id     LastName  nanoHUB_account_BLOCKED__c  \\\n",
       "247742    Harold  0035w00003WNVlmAAH  Clayton,Sr.                       False   \n",
       "247743    Sergey  0035w00003WNW5TAAX      Sozykin                       False   \n",
       "\n",
       "        nanoHUB_user_ID__c  \n",
       "247742              8106.0  \n",
       "247743             40187.0  "
      ]
     },
     "metadata": {},
     "output_type": "display_data"
    }
   ],
   "source": [
    "## finding the spam IDs and non-spam IDs\n",
    "spam_rows = sf_contact_df[sf_contact_df['nanoHUB_account_BLOCKED__c'].astype(str).str.contains(\"True\")]\n",
    "good_rows = sf_contact_df[~sf_contact_df['nanoHUB_account_BLOCKED__c'].astype(str).str.contains('True')]\n",
    "display(spam_rows.head(2))\n",
    "display(good_rows.tail(2))"
   ]
  },
  {
   "cell_type": "markdown",
   "id": "84f98a30",
   "metadata": {
    "papermill": {
     "duration": 0.031759,
     "end_time": "2021-10-22T11:54:20.266647",
     "exception": false,
     "start_time": "2021-10-22T11:54:20.234888",
     "status": "completed"
    },
    "tags": []
   },
   "source": [
    "## delete the spam contacts"
   ]
  },
  {
   "cell_type": "code",
   "execution_count": 6,
   "id": "25c1cb0e",
   "metadata": {
    "execution": {
     "iopub.execute_input": "2021-10-22T11:54:20.336977Z",
     "iopub.status.busy": "2021-10-22T11:54:20.336274Z",
     "iopub.status.idle": "2021-10-22T11:54:20.361351Z",
     "shell.execute_reply": "2021-10-22T11:54:20.361708Z"
    },
    "jupyter": {
     "source_hidden": true
    },
    "papermill": {
     "duration": 0.063035,
     "end_time": "2021-10-22T11:54:20.361953",
     "exception": false,
     "start_time": "2021-10-22T11:54:20.298918",
     "status": "completed"
    },
    "tags": []
   },
   "outputs": [],
   "source": [
    "%load_ext autoreload\n",
    "%autoreload 2\n",
    "# create DB2 to Salesforce API object\n",
    "db_s = salesforce\n",
    "\n",
    "db_s.object_id = 'Contact'\n",
    "#db_s.external_id = 'Id'"
   ]
  },
  {
   "cell_type": "code",
   "execution_count": 7,
   "id": "30a646a8",
   "metadata": {
    "execution": {
     "iopub.execute_input": "2021-10-22T11:54:20.430463Z",
     "iopub.status.busy": "2021-10-22T11:54:20.429963Z",
     "iopub.status.idle": "2021-10-22T11:54:20.455933Z",
     "shell.execute_reply": "2021-10-22T11:54:20.456326Z"
    },
    "jupyter": {
     "source_hidden": true
    },
    "papermill": {
     "duration": 0.062342,
     "end_time": "2021-10-22T11:54:20.456581",
     "exception": false,
     "start_time": "2021-10-22T11:54:20.394239",
     "status": "completed"
    },
    "tags": []
   },
   "outputs": [
    {
     "data": {
      "text/html": [
       "<div>\n",
       "<style scoped>\n",
       "    .dataframe tbody tr th:only-of-type {\n",
       "        vertical-align: middle;\n",
       "    }\n",
       "\n",
       "    .dataframe tbody tr th {\n",
       "        vertical-align: top;\n",
       "    }\n",
       "\n",
       "    .dataframe thead th {\n",
       "        text-align: right;\n",
       "    }\n",
       "</style>\n",
       "<table border=\"1\" class=\"dataframe\">\n",
       "  <thead>\n",
       "    <tr style=\"text-align: right;\">\n",
       "      <th></th>\n",
       "      <th>Id</th>\n",
       "    </tr>\n",
       "  </thead>\n",
       "  <tbody>\n",
       "  </tbody>\n",
       "</table>\n",
       "</div>"
      ],
      "text/plain": [
       "Empty DataFrame\n",
       "Columns: [Id]\n",
       "Index: []"
      ]
     },
     "metadata": {},
     "output_type": "display_data"
    },
    {
     "name": "stdout",
     "output_type": "stream",
     "text": [
      "<class 'pandas.core.frame.DataFrame'>\n"
     ]
    }
   ],
   "source": [
    "# extract only the ids from spam_rows\n",
    "spam_ids = spam_rows['Id'].to_frame().reset_index().iloc[:,1].to_frame()\n",
    "\n",
    "display(spam_ids.head(2))\n",
    "print(type(spam_ids))"
   ]
  },
  {
   "cell_type": "code",
   "execution_count": 8,
   "id": "7d534170",
   "metadata": {
    "execution": {
     "iopub.execute_input": "2021-10-22T11:54:20.533487Z",
     "iopub.status.busy": "2021-10-22T11:54:20.532383Z",
     "iopub.status.idle": "2021-10-22T11:54:20.560169Z",
     "shell.execute_reply": "2021-10-22T11:54:20.560774Z"
    },
    "jupyter": {
     "source_hidden": true
    },
    "papermill": {
     "duration": 0.071264,
     "end_time": "2021-10-22T11:54:20.561162",
     "exception": false,
     "start_time": "2021-10-22T11:54:20.489898",
     "status": "completed"
    },
    "tags": []
   },
   "outputs": [
    {
     "data": {
      "text/html": [
       "<div>\n",
       "<style scoped>\n",
       "    .dataframe tbody tr th:only-of-type {\n",
       "        vertical-align: middle;\n",
       "    }\n",
       "\n",
       "    .dataframe tbody tr th {\n",
       "        vertical-align: top;\n",
       "    }\n",
       "\n",
       "    .dataframe thead th {\n",
       "        text-align: right;\n",
       "    }\n",
       "</style>\n",
       "<table border=\"1\" class=\"dataframe\">\n",
       "  <thead>\n",
       "    <tr style=\"text-align: right;\">\n",
       "      <th></th>\n",
       "      <th>Id</th>\n",
       "    </tr>\n",
       "  </thead>\n",
       "  <tbody>\n",
       "  </tbody>\n",
       "</table>\n",
       "</div>"
      ],
      "text/plain": [
       "Empty DataFrame\n",
       "Columns: [Id]\n",
       "Index: []"
      ]
     },
     "execution_count": 8,
     "metadata": {},
     "output_type": "execute_result"
    }
   ],
   "source": [
    "#spam_ids.to_csv('test.csv',index=False,line_terminator='\\n',header=False)\n",
    "spam_ids.iloc[:1]"
   ]
  },
  {
   "cell_type": "code",
   "execution_count": 9,
   "id": "ffc450f6",
   "metadata": {
    "execution": {
     "iopub.execute_input": "2021-10-22T11:54:20.635504Z",
     "iopub.status.busy": "2021-10-22T11:54:20.634964Z",
     "iopub.status.idle": "2021-10-22T11:54:22.245291Z",
     "shell.execute_reply": "2021-10-22T11:54:22.246265Z"
    },
    "jupyter": {
     "source_hidden": true
    },
    "papermill": {
     "duration": 1.650673,
     "end_time": "2021-10-22T11:54:22.246875",
     "exception": false,
     "start_time": "2021-10-22T11:54:20.596202",
     "status": "completed"
    },
    "tags": []
   },
   "outputs": [
    {
     "name": "stdout",
     "output_type": "stream",
     "text": [
      "[Success] Bulk job creation successful. Job ID = 7505w00000b1on8AAA\n",
      "hello\n"
     ]
    },
    {
     "name": "stdout",
     "output_type": "stream",
     "text": [
      "[Success] CSV upload successful. Job ID = 7505w00000b1on8AAA\n"
     ]
    },
    {
     "name": "stdout",
     "output_type": "stream",
     "text": [
      "[Success] Closing job successful. Job ID = 7505w00000b1on8AAA\n"
     ]
    }
   ],
   "source": [
    "# send data to Salesforce\n",
    "db_s.delete_data(spam_ids)"
   ]
  },
  {
   "cell_type": "code",
   "execution_count": 10,
   "id": "d6a76b24",
   "metadata": {
    "execution": {
     "iopub.execute_input": "2021-10-22T11:54:22.337627Z",
     "iopub.status.busy": "2021-10-22T11:54:22.337064Z",
     "iopub.status.idle": "2021-10-22T11:54:22.670961Z",
     "shell.execute_reply": "2021-10-22T11:54:22.671986Z"
    },
    "jupyter": {
     "source_hidden": true
    },
    "papermill": {
     "duration": 0.377543,
     "end_time": "2021-10-22T11:54:22.672419",
     "exception": false,
     "start_time": "2021-10-22T11:54:22.294876",
     "status": "completed"
    },
    "tags": []
   },
   "outputs": [
    {
     "data": {
      "text/plain": [
       "{'id': '7505w00000b1on8AAA',\n",
       " 'operation': 'delete',\n",
       " 'object': 'Contact',\n",
       " 'createdById': '0055w00000DM5bOAAT',\n",
       " 'createdDate': '2021-10-22T11:54:21.000+0000',\n",
       " 'systemModstamp': '2021-10-22T11:54:22.000+0000',\n",
       " 'state': 'UploadComplete',\n",
       " 'concurrencyMode': 'Parallel',\n",
       " 'contentType': 'CSV',\n",
       " 'apiVersion': 47.0,\n",
       " 'jobType': 'V2Ingest',\n",
       " 'lineEnding': 'LF',\n",
       " 'columnDelimiter': 'COMMA',\n",
       " 'numberRecordsProcessed': 0,\n",
       " 'numberRecordsFailed': 0,\n",
       " 'retries': 0,\n",
       " 'totalProcessingTime': 0,\n",
       " 'apiActiveProcessingTime': 0,\n",
       " 'apexProcessingTime': 0}"
      ]
     },
     "execution_count": 10,
     "metadata": {},
     "output_type": "execute_result"
    }
   ],
   "source": [
    "# check status\n",
    "db_s.check_bulk_status()"
   ]
  },
  {
   "cell_type": "code",
   "execution_count": 11,
   "id": "625dde4f",
   "metadata": {
    "execution": {
     "iopub.execute_input": "2021-10-22T11:54:22.762329Z",
     "iopub.status.busy": "2021-10-22T11:54:22.761800Z",
     "iopub.status.idle": "2021-10-22T11:54:23.003656Z",
     "shell.execute_reply": "2021-10-22T11:54:23.005094Z"
    },
    "jupyter": {
     "source_hidden": true
    },
    "papermill": {
     "duration": 0.285982,
     "end_time": "2021-10-22T11:54:23.005774",
     "exception": false,
     "start_time": "2021-10-22T11:54:22.719792",
     "status": "completed"
    },
    "tags": []
   },
   "outputs": [
    {
     "data": {
      "text/plain": [
       "''"
      ]
     },
     "execution_count": 11,
     "metadata": {},
     "output_type": "execute_result"
    }
   ],
   "source": [
    "db_s.check_bulk_failed_results()"
   ]
  },
  {
   "cell_type": "code",
   "execution_count": null,
   "id": "1cf285b8",
   "metadata": {
    "jupyter": {
     "source_hidden": true
    },
    "papermill": {
     "duration": 0.038906,
     "end_time": "2021-10-22T11:54:23.097941",
     "exception": false,
     "start_time": "2021-10-22T11:54:23.059035",
     "status": "completed"
    },
    "tags": []
   },
   "outputs": [],
   "source": []
  }
 ],
 "metadata": {
  "kernelspec": {
   "display_name": "Python 3",
   "language": "python",
   "name": "python3"
  },
  "language_info": {
   "codemirror_mode": {
    "name": "ipython",
    "version": 3
   },
   "file_extension": ".py",
   "mimetype": "text/x-python",
   "name": "python",
   "nbconvert_exporter": "python",
   "pygments_lexer": "ipython3",
   "version": "3.9.7"
  },
  "papermill": {
   "default_parameters": {},
   "duration": 46.022733,
   "end_time": "2021-10-22T11:54:23.467854",
   "environment_variables": {},
   "exception": null,
   "input_path": "/Users/saxenap/Documents/Dev/nanoHUB/nanoHUB/pipeline/salesforce/delete_spam_users.ipynb",
   "output_path": "./.output/delete_spam_users.ipynb",
   "parameters": {},
   "start_time": "2021-10-22T11:53:37.445121",
   "version": "2.3.3"
  }
 },
 "nbformat": 4,
 "nbformat_minor": 5
}