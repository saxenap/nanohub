{
 "cells": [
  {
   "cell_type": "markdown",
   "id": "e67c02a0",
   "metadata": {
    "papermill": {
     "duration": 0.03196,
     "end_time": "2021-08-26T04:39:17.931977",
     "exception": false,
     "start_time": "2021-08-26T04:39:17.900017",
     "status": "completed"
    },
    "tags": []
   },
   "source": [
    "## Finding all users that have spam flags and deleting them from within salesforce"
   ]
  },
  {
   "cell_type": "code",
   "execution_count": 1,
   "id": "d4aa0af8",
   "metadata": {
    "execution": {
     "iopub.execute_input": "2021-08-26T04:39:18.018225Z",
     "iopub.status.busy": "2021-08-26T04:39:18.017225Z",
     "iopub.status.idle": "2021-08-26T04:39:20.831564Z",
     "shell.execute_reply": "2021-08-26T04:39:20.831998Z"
    },
    "jupyter": {
     "source_hidden": true
    },
    "papermill": {
     "duration": 2.855796,
     "end_time": "2021-08-26T04:39:20.832274",
     "exception": false,
     "start_time": "2021-08-26T04:39:17.976478",
     "status": "completed"
    },
    "tags": []
   },
   "outputs": [
    {
     "name": "stdout",
     "output_type": "stream",
     "text": [
      "\u001b[1mnanoHUB - Serving Students, Researchers & Instructors\u001b[0m\n"
     ]
    },
    {
     "name": "stderr",
     "output_type": "stream",
     "text": [
      "2021-08-26 00:39:19,419| INFO    | 0 keys loaded from agent\n"
     ]
    },
    {
     "name": "stdout",
     "output_type": "stream",
     "text": [
      "2021-08-26 00:39:19,419 - [INFO] sshtunnel.SSHTunnelForwarder [sshtunnel.get_agent_keys:1060]: 0 keys loaded from agent\n"
     ]
    },
    {
     "name": "stderr",
     "output_type": "stream",
     "text": [
      "2021-08-26 00:39:19,422| INFO    | 0 key(s) loaded\n"
     ]
    },
    {
     "name": "stdout",
     "output_type": "stream",
     "text": [
      "2021-08-26 00:39:19,422 - [INFO] sshtunnel.SSHTunnelForwarder [sshtunnel.get_keys:1117]: 0 key(s) loaded\n"
     ]
    },
    {
     "name": "stderr",
     "output_type": "stream",
     "text": [
      "2021-08-26 00:39:19,424| INFO    | Connecting to gateway: db2.nanohub.org:22 as user 'saxenap'\n"
     ]
    },
    {
     "name": "stdout",
     "output_type": "stream",
     "text": [
      "2021-08-26 00:39:19,424 - [INFO] sshtunnel.SSHTunnelForwarder [sshtunnel.__init__:978]: Connecting to gateway: db2.nanohub.org:22 as user 'saxenap'\n"
     ]
    },
    {
     "name": "stdout",
     "output_type": "stream",
     "text": [
      "2021-08-26 00:39:19,426 - [\u001b[1mINFO\u001b[0m] \u001b[1mnanoHUB.containers.dataaccess\u001b[0m [connection.get_connection_for:101]: Started SSH Tunnel with db2.nanohub.org\n"
     ]
    },
    {
     "name": "stderr",
     "output_type": "stream",
     "text": [
      "2021-08-26 00:39:19,722| INFO    | Opening tunnel: 0.0.0.0:54185 <> 127.0.0.1:3306\n"
     ]
    },
    {
     "name": "stdout",
     "output_type": "stream",
     "text": [
      "2021-08-26 00:39:19,722 - [INFO] sshtunnel.SSHTunnelForwarder [sshtunnel._serve_forever_wrapper:1433]: Opening tunnel: 0.0.0.0:54185 <> 127.0.0.1:3306\n"
     ]
    },
    {
     "name": "stderr",
     "output_type": "stream",
     "text": [
      "2021-08-26 00:39:19,754| INFO    | 0 keys loaded from agent\n"
     ]
    },
    {
     "name": "stdout",
     "output_type": "stream",
     "text": [
      "2021-08-26 00:39:19,754 - [INFO] sshtunnel.SSHTunnelForwarder [sshtunnel.get_agent_keys:1060]: 0 keys loaded from agent\n"
     ]
    },
    {
     "name": "stderr",
     "output_type": "stream",
     "text": [
      "2021-08-26 00:39:19,757| INFO    | 0 key(s) loaded\n"
     ]
    },
    {
     "name": "stdout",
     "output_type": "stream",
     "text": [
      "2021-08-26 00:39:19,757 - [INFO] sshtunnel.SSHTunnelForwarder [sshtunnel.get_keys:1117]: 0 key(s) loaded\n"
     ]
    },
    {
     "name": "stderr",
     "output_type": "stream",
     "text": [
      "2021-08-26 00:39:19,759| INFO    | Connecting to gateway: db2.nanohub.org:22 as user 'saxenap'\n"
     ]
    },
    {
     "name": "stdout",
     "output_type": "stream",
     "text": [
      "2021-08-26 00:39:19,759 - [INFO] sshtunnel.SSHTunnelForwarder [sshtunnel.__init__:978]: Connecting to gateway: db2.nanohub.org:22 as user 'saxenap'\n"
     ]
    },
    {
     "name": "stdout",
     "output_type": "stream",
     "text": [
      "2021-08-26 00:39:19,760 - [\u001b[1mINFO\u001b[0m] \u001b[1mnanoHUB.containers.dataaccess\u001b[0m [connection.get_connection_for:101]: Started SSH Tunnel with db2.nanohub.org\n"
     ]
    },
    {
     "name": "stderr",
     "output_type": "stream",
     "text": [
      "2021-08-26 00:39:20,062| INFO    | Opening tunnel: 0.0.0.0:54187 <> 127.0.0.1:3306\n"
     ]
    },
    {
     "name": "stdout",
     "output_type": "stream",
     "text": [
      "2021-08-26 00:39:20,062 - [INFO] sshtunnel.SSHTunnelForwarder [sshtunnel._serve_forever_wrapper:1433]: Opening tunnel: 0.0.0.0:54187 <> 127.0.0.1:3306\n"
     ]
    },
    {
     "name": "stderr",
     "output_type": "stream",
     "text": [
      "2021-08-26 00:39:20,065| INFO    | 0 keys loaded from agent\n"
     ]
    },
    {
     "name": "stdout",
     "output_type": "stream",
     "text": [
      "2021-08-26 00:39:20,065 - [INFO] sshtunnel.SSHTunnelForwarder [sshtunnel.get_agent_keys:1060]: 0 keys loaded from agent\n"
     ]
    },
    {
     "name": "stderr",
     "output_type": "stream",
     "text": [
      "2021-08-26 00:39:20,069| INFO    | 0 key(s) loaded\n"
     ]
    },
    {
     "name": "stdout",
     "output_type": "stream",
     "text": [
      "2021-08-26 00:39:20,069 - [INFO] sshtunnel.SSHTunnelForwarder [sshtunnel.get_keys:1117]: 0 key(s) loaded\n"
     ]
    },
    {
     "name": "stderr",
     "output_type": "stream",
     "text": [
      "2021-08-26 00:39:20,071| INFO    | Connecting to gateway: db2.nanohub.org:22 as user 'saxenap'\n"
     ]
    },
    {
     "name": "stdout",
     "output_type": "stream",
     "text": [
      "2021-08-26 00:39:20,071 - [INFO] sshtunnel.SSHTunnelForwarder [sshtunnel.__init__:978]: Connecting to gateway: db2.nanohub.org:22 as user 'saxenap'\n"
     ]
    },
    {
     "name": "stdout",
     "output_type": "stream",
     "text": [
      "2021-08-26 00:39:20,073 - [\u001b[1mINFO\u001b[0m] \u001b[1mnanoHUB.containers.dataaccess\u001b[0m [connection.get_connection_for:101]: Started SSH Tunnel with db2.nanohub.org\n"
     ]
    },
    {
     "name": "stderr",
     "output_type": "stream",
     "text": [
      "2021-08-26 00:39:20,370| INFO    | Opening tunnel: 0.0.0.0:54189 <> 127.0.0.1:3306\n"
     ]
    },
    {
     "name": "stdout",
     "output_type": "stream",
     "text": [
      "2021-08-26 00:39:20,370 - [INFO] sshtunnel.SSHTunnelForwarder [sshtunnel._serve_forever_wrapper:1433]: Opening tunnel: 0.0.0.0:54189 <> 127.0.0.1:3306\n"
     ]
    },
    {
     "name": "stdout",
     "output_type": "stream",
     "text": [
      "Obtained Salesforce access token ...... True\n"
     ]
    }
   ],
   "source": [
    "## Parameters\n",
    "#hours_range = 24*365*1 # number of hours to look back\n",
    "\n",
    "# API settings\n",
    "api_url = '/services/data/v43.0/sobjects'\n",
    "external_id = 'nanoHUB_user_ID__c'\n",
    "object_id = 'Contact'\n",
    "\n",
    "from nanoHUB.application import Application\n",
    "\n",
    "application = Application.get_instance()\n",
    "nanohub_db = application.new_db_engine('nanohub')\n",
    "nanohub_metrics_db = application.new_db_engine('nanohub_metrics')\n",
    "wang159_myrmekes_db = application.new_db_engine('wang159_myrmekes')\n",
    "\n",
    "\n",
    "salesforce = application.new_salesforce_engine()\n",
    "db_s = salesforce"
   ]
  },
  {
   "cell_type": "code",
   "execution_count": 2,
   "id": "7f1cedcd",
   "metadata": {
    "execution": {
     "iopub.execute_input": "2021-08-26T04:39:20.947140Z",
     "iopub.status.busy": "2021-08-26T04:39:20.945737Z",
     "iopub.status.idle": "2021-08-26T04:39:20.948787Z",
     "shell.execute_reply": "2021-08-26T04:39:20.948211Z"
    },
    "jupyter": {
     "source_hidden": true
    },
    "papermill": {
     "duration": 0.062264,
     "end_time": "2021-08-26T04:39:20.949449",
     "exception": false,
     "start_time": "2021-08-26T04:39:20.887185",
     "status": "completed"
    },
    "tags": []
   },
   "outputs": [],
   "source": [
    "import sys\n",
    "#sys.path.append('/home/users/wang2506/nanohub_salesforce_integ/salesforce')\n",
    "\n",
    "import pandas as pd\n",
    "import datetime"
   ]
  },
  {
   "cell_type": "markdown",
   "id": "d42e848a",
   "metadata": {
    "papermill": {
     "duration": 0.042145,
     "end_time": "2021-08-26T04:39:21.042736",
     "exception": false,
     "start_time": "2021-08-26T04:39:21.000591",
     "status": "completed"
    },
    "tags": []
   },
   "source": [
    "## Find all users that have block tags from salesforce\n",
    "\n"
   ]
  },
  {
   "cell_type": "code",
   "execution_count": 3,
   "id": "891bf832",
   "metadata": {
    "execution": {
     "iopub.execute_input": "2021-08-26T04:39:21.133432Z",
     "iopub.status.busy": "2021-08-26T04:39:21.132339Z",
     "iopub.status.idle": "2021-08-26T04:40:10.132727Z",
     "shell.execute_reply": "2021-08-26T04:40:10.133145Z"
    },
    "jupyter": {
     "source_hidden": true
    },
    "papermill": {
     "duration": 49.048654,
     "end_time": "2021-08-26T04:40:10.133322",
     "exception": false,
     "start_time": "2021-08-26T04:39:21.084668",
     "status": "completed"
    },
    "tags": []
   },
   "outputs": [
    {
     "name": "stdout",
     "output_type": "stream",
     "text": [
      "[Success] Bulk job creation successful. Job ID = 7505w00000ZJL5PAAX\n"
     ]
    },
    {
     "name": "stdout",
     "output_type": "stream",
     "text": [
      "{\"id\":\"7505w00000ZJL5PAAX\",\"operation\":\"query\",\"object\":\"Contact\",\"createdById\":\"0055w00000DM5bOAAT\",\"createdDate\":\"2021-08-26T04:39:21.000+0000\",\"systemModstamp\":\"2021-08-26T04:39:21.000+0000\",\"state\":\"UploadComplete\",\"concurrencyMode\":\"Parallel\",\"contentType\":\"CSV\",\"apiVersion\":47.0,\"jobType\":\"V2Query\",\"lineEnding\":\"LF\",\"columnDelimiter\":\"COMMA\",\"retries\":0,\"totalProcessingTime\":0}\n"
     ]
    },
    {
     "name": "stdout",
     "output_type": "stream",
     "text": [
      "{\"id\":\"7505w00000ZJL5PAAX\",\"operation\":\"query\",\"object\":\"Contact\",\"createdById\":\"0055w00000DM5bOAAT\",\"createdDate\":\"2021-08-26T04:39:21.000+0000\",\"systemModstamp\":\"2021-08-26T04:39:28.000+0000\",\"state\":\"InProgress\",\"concurrencyMode\":\"Parallel\",\"contentType\":\"CSV\",\"apiVersion\":47.0,\"jobType\":\"V2Query\",\"lineEnding\":\"LF\",\"columnDelimiter\":\"COMMA\",\"numberRecordsProcessed\":0,\"retries\":0,\"totalProcessingTime\":0}\n"
     ]
    },
    {
     "name": "stdout",
     "output_type": "stream",
     "text": [
      "{\"id\":\"7505w00000ZJL5PAAX\",\"operation\":\"query\",\"object\":\"Contact\",\"createdById\":\"0055w00000DM5bOAAT\",\"createdDate\":\"2021-08-26T04:39:21.000+0000\",\"systemModstamp\":\"2021-08-26T04:39:28.000+0000\",\"state\":\"InProgress\",\"concurrencyMode\":\"Parallel\",\"contentType\":\"CSV\",\"apiVersion\":47.0,\"jobType\":\"V2Query\",\"lineEnding\":\"LF\",\"columnDelimiter\":\"COMMA\",\"numberRecordsProcessed\":1303,\"retries\":0,\"totalProcessingTime\":237}\n"
     ]
    },
    {
     "name": "stdout",
     "output_type": "stream",
     "text": [
      "{\"id\":\"7505w00000ZJL5PAAX\",\"operation\":\"query\",\"object\":\"Contact\",\"createdById\":\"0055w00000DM5bOAAT\",\"createdDate\":\"2021-08-26T04:39:21.000+0000\",\"systemModstamp\":\"2021-08-26T04:39:28.000+0000\",\"state\":\"InProgress\",\"concurrencyMode\":\"Parallel\",\"contentType\":\"CSV\",\"apiVersion\":47.0,\"jobType\":\"V2Query\",\"lineEnding\":\"LF\",\"columnDelimiter\":\"COMMA\",\"numberRecordsProcessed\":1303,\"retries\":0,\"totalProcessingTime\":237}\n"
     ]
    },
    {
     "name": "stdout",
     "output_type": "stream",
     "text": [
      "{\"id\":\"7505w00000ZJL5PAAX\",\"operation\":\"query\",\"object\":\"Contact\",\"createdById\":\"0055w00000DM5bOAAT\",\"createdDate\":\"2021-08-26T04:39:21.000+0000\",\"systemModstamp\":\"2021-08-26T04:40:02.000+0000\",\"state\":\"JobComplete\",\"concurrencyMode\":\"Parallel\",\"contentType\":\"CSV\",\"apiVersion\":47.0,\"jobType\":\"V2Query\",\"lineEnding\":\"LF\",\"columnDelimiter\":\"COMMA\",\"numberRecordsProcessed\":253574,\"retries\":0,\"totalProcessingTime\":15967}\n",
      "[Success] Bulk job completed successfully.\n"
     ]
    },
    {
     "data": {
      "text/html": [
       "<div>\n",
       "<style scoped>\n",
       "    .dataframe tbody tr th:only-of-type {\n",
       "        vertical-align: middle;\n",
       "    }\n",
       "\n",
       "    .dataframe tbody tr th {\n",
       "        vertical-align: top;\n",
       "    }\n",
       "\n",
       "    .dataframe thead th {\n",
       "        text-align: right;\n",
       "    }\n",
       "</style>\n",
       "<table border=\"1\" class=\"dataframe\">\n",
       "  <thead>\n",
       "    <tr style=\"text-align: right;\">\n",
       "      <th></th>\n",
       "      <th>FirstName</th>\n",
       "      <th>Id</th>\n",
       "      <th>LastName</th>\n",
       "      <th>nanoHUB_account_BLOCKED__c</th>\n",
       "      <th>nanoHUB_user_ID__c</th>\n",
       "    </tr>\n",
       "  </thead>\n",
       "  <tbody>\n",
       "    <tr>\n",
       "      <th>0</th>\n",
       "      <td>hubrepo</td>\n",
       "      <td>0035w000031Vsp1AAC</td>\n",
       "      <td>hubrepo</td>\n",
       "      <td>False</td>\n",
       "      <td>998.0</td>\n",
       "    </tr>\n",
       "    <tr>\n",
       "      <th>1</th>\n",
       "      <td>nanoHUB</td>\n",
       "      <td>0035w000031Vsp2AAC</td>\n",
       "      <td>support</td>\n",
       "      <td>False</td>\n",
       "      <td>1683.0</td>\n",
       "    </tr>\n",
       "    <tr>\n",
       "      <th>2</th>\n",
       "      <td>Grid</td>\n",
       "      <td>0035w000031Vsp3AAC</td>\n",
       "      <td>Statistics</td>\n",
       "      <td>False</td>\n",
       "      <td>1684.0</td>\n",
       "    </tr>\n",
       "  </tbody>\n",
       "</table>\n",
       "</div>"
      ],
      "text/plain": [
       "  FirstName                  Id    LastName  nanoHUB_account_BLOCKED__c  \\\n",
       "0   hubrepo  0035w000031Vsp1AAC     hubrepo                       False   \n",
       "1   nanoHUB  0035w000031Vsp2AAC     support                       False   \n",
       "2      Grid  0035w000031Vsp3AAC  Statistics                       False   \n",
       "\n",
       "   nanoHUB_user_ID__c  \n",
       "0               998.0  \n",
       "1              1683.0  \n",
       "2              1684.0  "
      ]
     },
     "execution_count": 3,
     "metadata": {},
     "output_type": "execute_result"
    }
   ],
   "source": [
    "# get Salesforce ID for organizations\n",
    "sf_contact_df = db_s.query_data('SELECT Id, firstname, lastname, nanoHUB_user_ID__c,nanoHUB_account_BLOCKED__c FROM Contact')\n",
    "\n",
    "# display\n",
    "sf_contact_df.head(3)"
   ]
  },
  {
   "cell_type": "code",
   "execution_count": 4,
   "id": "88a6c0ed",
   "metadata": {
    "execution": {
     "iopub.execute_input": "2021-08-26T04:40:10.285989Z",
     "iopub.status.busy": "2021-08-26T04:40:10.284936Z",
     "iopub.status.idle": "2021-08-26T04:40:10.290658Z",
     "shell.execute_reply": "2021-08-26T04:40:10.291250Z"
    },
    "jupyter": {
     "source_hidden": true
    },
    "papermill": {
     "duration": 0.105843,
     "end_time": "2021-08-26T04:40:10.291592",
     "exception": false,
     "start_time": "2021-08-26T04:40:10.185749",
     "status": "completed"
    },
    "tags": []
   },
   "outputs": [
    {
     "data": {
      "text/html": [
       "<div>\n",
       "<style scoped>\n",
       "    .dataframe tbody tr th:only-of-type {\n",
       "        vertical-align: middle;\n",
       "    }\n",
       "\n",
       "    .dataframe tbody tr th {\n",
       "        vertical-align: top;\n",
       "    }\n",
       "\n",
       "    .dataframe thead th {\n",
       "        text-align: right;\n",
       "    }\n",
       "</style>\n",
       "<table border=\"1\" class=\"dataframe\">\n",
       "  <thead>\n",
       "    <tr style=\"text-align: right;\">\n",
       "      <th></th>\n",
       "      <th>FirstName</th>\n",
       "      <th>Id</th>\n",
       "      <th>LastName</th>\n",
       "      <th>nanoHUB_account_BLOCKED__c</th>\n",
       "      <th>nanoHUB_user_ID__c</th>\n",
       "    </tr>\n",
       "  </thead>\n",
       "  <tbody>\n",
       "    <tr>\n",
       "      <th>252268</th>\n",
       "      <td>amir</td>\n",
       "      <td>0035w00003U1Zw4AAF</td>\n",
       "      <td>zahedi</td>\n",
       "      <td>False</td>\n",
       "      <td>334016.0</td>\n",
       "    </tr>\n",
       "    <tr>\n",
       "      <th>252269</th>\n",
       "      <td>Awais</td>\n",
       "      <td>0035w00003U1Zw5AAF</td>\n",
       "      <td>khan</td>\n",
       "      <td>False</td>\n",
       "      <td>334020.0</td>\n",
       "    </tr>\n",
       "    <tr>\n",
       "      <th>252270</th>\n",
       "      <td>20PN03</td>\n",
       "      <td>0035w00003U1Zw6AAF</td>\n",
       "      <td>S</td>\n",
       "      <td>False</td>\n",
       "      <td>334021.0</td>\n",
       "    </tr>\n",
       "  </tbody>\n",
       "</table>\n",
       "</div>"
      ],
      "text/plain": [
       "       FirstName                  Id LastName  nanoHUB_account_BLOCKED__c  \\\n",
       "252268      amir  0035w00003U1Zw4AAF   zahedi                       False   \n",
       "252269     Awais  0035w00003U1Zw5AAF     khan                       False   \n",
       "252270    20PN03  0035w00003U1Zw6AAF        S                       False   \n",
       "\n",
       "        nanoHUB_user_ID__c  \n",
       "252268            334016.0  \n",
       "252269            334020.0  \n",
       "252270            334021.0  "
      ]
     },
     "metadata": {},
     "output_type": "display_data"
    }
   ],
   "source": [
    "display(sf_contact_df.tail(3))"
   ]
  },
  {
   "cell_type": "code",
   "execution_count": 5,
   "id": "8cd2c9cf",
   "metadata": {
    "execution": {
     "iopub.execute_input": "2021-08-26T04:40:10.598191Z",
     "iopub.status.busy": "2021-08-26T04:40:10.597137Z",
     "iopub.status.idle": "2021-08-26T04:40:10.984461Z",
     "shell.execute_reply": "2021-08-26T04:40:10.985442Z"
    },
    "jupyter": {
     "source_hidden": true
    },
    "papermill": {
     "duration": 0.617172,
     "end_time": "2021-08-26T04:40:10.985685",
     "exception": false,
     "start_time": "2021-08-26T04:40:10.368513",
     "status": "completed"
    },
    "tags": []
   },
   "outputs": [
    {
     "data": {
      "text/html": [
       "<div>\n",
       "<style scoped>\n",
       "    .dataframe tbody tr th:only-of-type {\n",
       "        vertical-align: middle;\n",
       "    }\n",
       "\n",
       "    .dataframe tbody tr th {\n",
       "        vertical-align: top;\n",
       "    }\n",
       "\n",
       "    .dataframe thead th {\n",
       "        text-align: right;\n",
       "    }\n",
       "</style>\n",
       "<table border=\"1\" class=\"dataframe\">\n",
       "  <thead>\n",
       "    <tr style=\"text-align: right;\">\n",
       "      <th></th>\n",
       "      <th>FirstName</th>\n",
       "      <th>Id</th>\n",
       "      <th>LastName</th>\n",
       "      <th>nanoHUB_account_BLOCKED__c</th>\n",
       "      <th>nanoHUB_user_ID__c</th>\n",
       "    </tr>\n",
       "  </thead>\n",
       "  <tbody>\n",
       "  </tbody>\n",
       "</table>\n",
       "</div>"
      ],
      "text/plain": [
       "Empty DataFrame\n",
       "Columns: [FirstName, Id, LastName, nanoHUB_account_BLOCKED__c, nanoHUB_user_ID__c]\n",
       "Index: []"
      ]
     },
     "metadata": {},
     "output_type": "display_data"
    },
    {
     "data": {
      "text/html": [
       "<div>\n",
       "<style scoped>\n",
       "    .dataframe tbody tr th:only-of-type {\n",
       "        vertical-align: middle;\n",
       "    }\n",
       "\n",
       "    .dataframe tbody tr th {\n",
       "        vertical-align: top;\n",
       "    }\n",
       "\n",
       "    .dataframe thead th {\n",
       "        text-align: right;\n",
       "    }\n",
       "</style>\n",
       "<table border=\"1\" class=\"dataframe\">\n",
       "  <thead>\n",
       "    <tr style=\"text-align: right;\">\n",
       "      <th></th>\n",
       "      <th>FirstName</th>\n",
       "      <th>Id</th>\n",
       "      <th>LastName</th>\n",
       "      <th>nanoHUB_account_BLOCKED__c</th>\n",
       "      <th>nanoHUB_user_ID__c</th>\n",
       "    </tr>\n",
       "  </thead>\n",
       "  <tbody>\n",
       "    <tr>\n",
       "      <th>252269</th>\n",
       "      <td>Awais</td>\n",
       "      <td>0035w00003U1Zw5AAF</td>\n",
       "      <td>khan</td>\n",
       "      <td>False</td>\n",
       "      <td>334020.0</td>\n",
       "    </tr>\n",
       "    <tr>\n",
       "      <th>252270</th>\n",
       "      <td>20PN03</td>\n",
       "      <td>0035w00003U1Zw6AAF</td>\n",
       "      <td>S</td>\n",
       "      <td>False</td>\n",
       "      <td>334021.0</td>\n",
       "    </tr>\n",
       "  </tbody>\n",
       "</table>\n",
       "</div>"
      ],
      "text/plain": [
       "       FirstName                  Id LastName  nanoHUB_account_BLOCKED__c  \\\n",
       "252269     Awais  0035w00003U1Zw5AAF     khan                       False   \n",
       "252270    20PN03  0035w00003U1Zw6AAF        S                       False   \n",
       "\n",
       "        nanoHUB_user_ID__c  \n",
       "252269            334020.0  \n",
       "252270            334021.0  "
      ]
     },
     "metadata": {},
     "output_type": "display_data"
    }
   ],
   "source": [
    "## finding the spam IDs and non-spam IDs\n",
    "spam_rows = sf_contact_df[sf_contact_df['nanoHUB_account_BLOCKED__c'].astype(str).str.contains(\"True\")]\n",
    "good_rows = sf_contact_df[~sf_contact_df['nanoHUB_account_BLOCKED__c'].astype(str).str.contains('True')]\n",
    "display(spam_rows.head(2))\n",
    "display(good_rows.tail(2))"
   ]
  },
  {
   "cell_type": "markdown",
   "id": "30098e6a",
   "metadata": {
    "papermill": {
     "duration": 0.056967,
     "end_time": "2021-08-26T04:40:11.114716",
     "exception": false,
     "start_time": "2021-08-26T04:40:11.057749",
     "status": "completed"
    },
    "tags": []
   },
   "source": [
    "## delete the spam contacts"
   ]
  },
  {
   "cell_type": "code",
   "execution_count": 6,
   "id": "0b4f157a",
   "metadata": {
    "execution": {
     "iopub.execute_input": "2021-08-26T04:40:11.233147Z",
     "iopub.status.busy": "2021-08-26T04:40:11.232274Z",
     "iopub.status.idle": "2021-08-26T04:40:11.275226Z",
     "shell.execute_reply": "2021-08-26T04:40:11.276026Z"
    },
    "jupyter": {
     "source_hidden": true
    },
    "papermill": {
     "duration": 0.106833,
     "end_time": "2021-08-26T04:40:11.276388",
     "exception": false,
     "start_time": "2021-08-26T04:40:11.169555",
     "status": "completed"
    },
    "tags": []
   },
   "outputs": [],
   "source": [
    "%load_ext autoreload\n",
    "%autoreload 2\n",
    "# create DB2 to Salesforce API object\n",
    "db_s = salesforce\n",
    "\n",
    "db_s.object_id = 'Contact'\n",
    "#db_s.external_id = 'Id'"
   ]
  },
  {
   "cell_type": "code",
   "execution_count": 7,
   "id": "8568e26b",
   "metadata": {
    "execution": {
     "iopub.execute_input": "2021-08-26T04:40:11.466427Z",
     "iopub.status.busy": "2021-08-26T04:40:11.465236Z",
     "iopub.status.idle": "2021-08-26T04:40:11.516931Z",
     "shell.execute_reply": "2021-08-26T04:40:11.516365Z"
    },
    "jupyter": {
     "source_hidden": true
    },
    "papermill": {
     "duration": 0.14856,
     "end_time": "2021-08-26T04:40:11.517101",
     "exception": false,
     "start_time": "2021-08-26T04:40:11.368541",
     "status": "completed"
    },
    "tags": []
   },
   "outputs": [
    {
     "data": {
      "text/html": [
       "<div>\n",
       "<style scoped>\n",
       "    .dataframe tbody tr th:only-of-type {\n",
       "        vertical-align: middle;\n",
       "    }\n",
       "\n",
       "    .dataframe tbody tr th {\n",
       "        vertical-align: top;\n",
       "    }\n",
       "\n",
       "    .dataframe thead th {\n",
       "        text-align: right;\n",
       "    }\n",
       "</style>\n",
       "<table border=\"1\" class=\"dataframe\">\n",
       "  <thead>\n",
       "    <tr style=\"text-align: right;\">\n",
       "      <th></th>\n",
       "      <th>Id</th>\n",
       "    </tr>\n",
       "  </thead>\n",
       "  <tbody>\n",
       "  </tbody>\n",
       "</table>\n",
       "</div>"
      ],
      "text/plain": [
       "Empty DataFrame\n",
       "Columns: [Id]\n",
       "Index: []"
      ]
     },
     "metadata": {},
     "output_type": "display_data"
    },
    {
     "name": "stdout",
     "output_type": "stream",
     "text": [
      "<class 'pandas.core.frame.DataFrame'>\n"
     ]
    }
   ],
   "source": [
    "# extract only the ids from spam_rows\n",
    "spam_ids = spam_rows['Id'].to_frame().reset_index().iloc[:,1].to_frame()\n",
    "\n",
    "display(spam_ids.head(2))\n",
    "print(type(spam_ids))"
   ]
  },
  {
   "cell_type": "code",
   "execution_count": 8,
   "id": "d366b361",
   "metadata": {
    "execution": {
     "iopub.execute_input": "2021-08-26T04:40:11.641999Z",
     "iopub.status.busy": "2021-08-26T04:40:11.641298Z",
     "iopub.status.idle": "2021-08-26T04:40:11.680319Z",
     "shell.execute_reply": "2021-08-26T04:40:11.680756Z"
    },
    "jupyter": {
     "source_hidden": true
    },
    "papermill": {
     "duration": 0.104224,
     "end_time": "2021-08-26T04:40:11.680948",
     "exception": false,
     "start_time": "2021-08-26T04:40:11.576724",
     "status": "completed"
    },
    "tags": []
   },
   "outputs": [
    {
     "data": {
      "text/html": [
       "<div>\n",
       "<style scoped>\n",
       "    .dataframe tbody tr th:only-of-type {\n",
       "        vertical-align: middle;\n",
       "    }\n",
       "\n",
       "    .dataframe tbody tr th {\n",
       "        vertical-align: top;\n",
       "    }\n",
       "\n",
       "    .dataframe thead th {\n",
       "        text-align: right;\n",
       "    }\n",
       "</style>\n",
       "<table border=\"1\" class=\"dataframe\">\n",
       "  <thead>\n",
       "    <tr style=\"text-align: right;\">\n",
       "      <th></th>\n",
       "      <th>Id</th>\n",
       "    </tr>\n",
       "  </thead>\n",
       "  <tbody>\n",
       "  </tbody>\n",
       "</table>\n",
       "</div>"
      ],
      "text/plain": [
       "Empty DataFrame\n",
       "Columns: [Id]\n",
       "Index: []"
      ]
     },
     "execution_count": 8,
     "metadata": {},
     "output_type": "execute_result"
    }
   ],
   "source": [
    "#spam_ids.to_csv('test.csv',index=False,line_terminator='\\n',header=False)\n",
    "spam_ids.iloc[:1]"
   ]
  },
  {
   "cell_type": "code",
   "execution_count": 9,
   "id": "fe611204",
   "metadata": {
    "execution": {
     "iopub.execute_input": "2021-08-26T04:40:11.865065Z",
     "iopub.status.busy": "2021-08-26T04:40:11.863335Z",
     "iopub.status.idle": "2021-08-26T04:40:13.244984Z",
     "shell.execute_reply": "2021-08-26T04:40:13.245621Z"
    },
    "jupyter": {
     "source_hidden": true
    },
    "papermill": {
     "duration": 1.478668,
     "end_time": "2021-08-26T04:40:13.246063",
     "exception": false,
     "start_time": "2021-08-26T04:40:11.767395",
     "status": "completed"
    },
    "tags": []
   },
   "outputs": [
    {
     "name": "stdout",
     "output_type": "stream",
     "text": [
      "[Success] Bulk job creation successful. Job ID = 7505w00000ZJL35AAH\n",
      "hello\n"
     ]
    },
    {
     "name": "stdout",
     "output_type": "stream",
     "text": [
      "[Success] CSV upload successful. Job ID = 7505w00000ZJL35AAH\n"
     ]
    },
    {
     "name": "stdout",
     "output_type": "stream",
     "text": [
      "[Success] Closing job successful. Job ID = 7505w00000ZJL35AAH\n"
     ]
    }
   ],
   "source": [
    "# send data to Salesforce\n",
    "db_s.delete_data(spam_ids)"
   ]
  },
  {
   "cell_type": "code",
   "execution_count": 10,
   "id": "b92d94cf",
   "metadata": {
    "execution": {
     "iopub.execute_input": "2021-08-26T04:40:13.377739Z",
     "iopub.status.busy": "2021-08-26T04:40:13.377069Z",
     "iopub.status.idle": "2021-08-26T04:40:13.771466Z",
     "shell.execute_reply": "2021-08-26T04:40:13.772010Z"
    },
    "jupyter": {
     "source_hidden": true
    },
    "papermill": {
     "duration": 0.462247,
     "end_time": "2021-08-26T04:40:13.772224",
     "exception": false,
     "start_time": "2021-08-26T04:40:13.309977",
     "status": "completed"
    },
    "tags": []
   },
   "outputs": [
    {
     "data": {
      "text/plain": [
       "{'id': '7505w00000ZJL35AAH',\n",
       " 'operation': 'delete',\n",
       " 'object': 'Contact',\n",
       " 'createdById': '0055w00000DM5bOAAT',\n",
       " 'createdDate': '2021-08-26T04:40:12.000+0000',\n",
       " 'systemModstamp': '2021-08-26T04:40:13.000+0000',\n",
       " 'state': 'UploadComplete',\n",
       " 'concurrencyMode': 'Parallel',\n",
       " 'contentType': 'CSV',\n",
       " 'apiVersion': 47.0,\n",
       " 'jobType': 'V2Ingest',\n",
       " 'lineEnding': 'LF',\n",
       " 'columnDelimiter': 'COMMA',\n",
       " 'numberRecordsProcessed': 0,\n",
       " 'numberRecordsFailed': 0,\n",
       " 'retries': 0,\n",
       " 'totalProcessingTime': 0,\n",
       " 'apiActiveProcessingTime': 0,\n",
       " 'apexProcessingTime': 0}"
      ]
     },
     "execution_count": 10,
     "metadata": {},
     "output_type": "execute_result"
    }
   ],
   "source": [
    "# check status\n",
    "db_s.check_bulk_status()"
   ]
  },
  {
   "cell_type": "code",
   "execution_count": 11,
   "id": "84e96e91",
   "metadata": {
    "execution": {
     "iopub.execute_input": "2021-08-26T04:40:13.893631Z",
     "iopub.status.busy": "2021-08-26T04:40:13.892994Z",
     "iopub.status.idle": "2021-08-26T04:40:14.141469Z",
     "shell.execute_reply": "2021-08-26T04:40:14.142128Z"
    },
    "jupyter": {
     "source_hidden": true
    },
    "papermill": {
     "duration": 0.311476,
     "end_time": "2021-08-26T04:40:14.142509",
     "exception": false,
     "start_time": "2021-08-26T04:40:13.831033",
     "status": "completed"
    },
    "tags": []
   },
   "outputs": [
    {
     "data": {
      "text/plain": [
       "''"
      ]
     },
     "execution_count": 11,
     "metadata": {},
     "output_type": "execute_result"
    }
   ],
   "source": [
    "db_s.check_bulk_failed_results()"
   ]
  },
  {
   "cell_type": "code",
   "execution_count": null,
   "id": "9f99e6f2",
   "metadata": {
    "jupyter": {
     "source_hidden": true
    },
    "papermill": {
     "duration": 0.064569,
     "end_time": "2021-08-26T04:40:14.274618",
     "exception": false,
     "start_time": "2021-08-26T04:40:14.210049",
     "status": "completed"
    },
    "tags": []
   },
   "outputs": [],
   "source": []
  }
 ],
 "metadata": {
  "kernelspec": {
   "display_name": "Python 3",
   "language": "python",
   "name": "python3"
  },
  "language_info": {
   "codemirror_mode": {
    "name": "ipython",
    "version": 3
   },
   "file_extension": ".py",
   "mimetype": "text/x-python",
   "name": "python",
   "nbconvert_exporter": "python",
   "pygments_lexer": "ipython3",
   "version": "3.8.2"
  },
  "papermill": {
   "default_parameters": {},
   "duration": 57.963543,
   "end_time": "2021-08-26T04:40:14.652712",
   "environment_variables": {},
   "exception": null,
   "input_path": "nanoHUB/pipeline/salesforce/delete_spam_users.ipynb",
   "output_path": "./.output/delete_spam_users.ipynb",
   "parameters": {},
   "start_time": "2021-08-26T04:39:16.689169",
   "version": "2.3.3"
  }
 },
 "nbformat": 4,
 "nbformat_minor": 5
}