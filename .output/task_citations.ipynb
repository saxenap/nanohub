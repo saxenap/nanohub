{
 "cells": [
  {
   "cell_type": "markdown",
   "id": "6a47c74f",
   "metadata": {
    "papermill": {
     "duration": 0.039286,
     "end_time": "2021-08-26T03:48:33.248385",
     "exception": false,
     "start_time": "2021-08-26T03:48:33.209099",
     "status": "completed"
    },
    "tags": []
   },
   "source": [
    "# DB2-Salesforce connector: Citation information updates"
   ]
  },
  {
   "cell_type": "code",
   "execution_count": 1,
   "id": "8e0a2e89",
   "metadata": {
    "execution": {
     "iopub.execute_input": "2021-08-26T03:48:33.324342Z",
     "iopub.status.busy": "2021-08-26T03:48:33.323381Z",
     "iopub.status.idle": "2021-08-26T03:48:33.326574Z",
     "shell.execute_reply": "2021-08-26T03:48:33.327009Z"
    },
    "jupyter": {
     "source_hidden": true
    },
    "papermill": {
     "duration": 0.044653,
     "end_time": "2021-08-26T03:48:33.327342",
     "exception": false,
     "start_time": "2021-08-26T03:48:33.282689",
     "status": "completed"
    },
    "tags": [
     "parameters"
    ]
   },
   "outputs": [],
   "source": [
    "# API settings\n",
    "api_url = '/services/data/v43.0/sobjects'\n",
    "external_id = 'Record_ID__c'\n",
    "object_id = 'nanoHUB_citations__c'"
   ]
  },
  {
   "cell_type": "code",
   "execution_count": 2,
   "id": "86b2feb8",
   "metadata": {
    "execution": {
     "iopub.execute_input": "2021-08-26T03:48:33.393890Z",
     "iopub.status.busy": "2021-08-26T03:48:33.392998Z",
     "iopub.status.idle": "2021-08-26T03:48:33.811467Z",
     "shell.execute_reply": "2021-08-26T03:48:33.811985Z"
    },
    "jupyter": {
     "source_hidden": true
    },
    "papermill": {
     "duration": 0.450051,
     "end_time": "2021-08-26T03:48:33.812184",
     "exception": false,
     "start_time": "2021-08-26T03:48:33.362133",
     "status": "completed"
    },
    "tags": []
   },
   "outputs": [],
   "source": [
    "import sys\n",
    "import os\n",
    "sys.path.append('/home/users/wang2506/nanohub_salesforce_integ/salesforce')\n",
    "    \n",
    "import pandas as pd\n",
    "import datetime"
   ]
  },
  {
   "cell_type": "markdown",
   "id": "085796bb",
   "metadata": {
    "papermill": {
     "duration": 0.033877,
     "end_time": "2021-08-26T03:48:33.879123",
     "exception": false,
     "start_time": "2021-08-26T03:48:33.845246",
     "status": "completed"
    },
    "tags": []
   },
   "source": [
    "## Obtain tool information from DB2 "
   ]
  },
  {
   "cell_type": "code",
   "execution_count": 3,
   "id": "4dcf571b",
   "metadata": {
    "execution": {
     "iopub.execute_input": "2021-08-26T03:48:33.946894Z",
     "iopub.status.busy": "2021-08-26T03:48:33.946170Z",
     "iopub.status.idle": "2021-08-26T03:48:33.950488Z",
     "shell.execute_reply": "2021-08-26T03:48:33.951135Z"
    },
    "jupyter": {
     "source_hidden": true
    },
    "papermill": {
     "duration": 0.036378,
     "end_time": "2021-08-26T03:48:33.951382",
     "exception": false,
     "start_time": "2021-08-26T03:48:33.915004",
     "status": "completed"
    },
    "scrolled": true,
    "tags": []
   },
   "outputs": [
    {
     "name": "stdout",
     "output_type": "stream",
     "text": [
      "select *, c.id as c_id from jos_citations as c             left join jos_citations_types as t             on c.type = t.id             where uid=2143\n"
     ]
    }
   ],
   "source": [
    "# Basic tool information\n",
    "sql_query = \"select *, c.id as c_id from jos_citations as c \\\n",
    "            left join jos_citations_types as t \\\n",
    "            on c.type = t.id \\\n",
    "            where uid=2143\"\n",
    "\n",
    "# display\n",
    "print(sql_query)"
   ]
  },
  {
   "cell_type": "code",
   "execution_count": 4,
   "id": "f80e1c7f",
   "metadata": {
    "execution": {
     "iopub.execute_input": "2021-08-26T03:48:34.031983Z",
     "iopub.status.busy": "2021-08-26T03:48:34.030745Z",
     "iopub.status.idle": "2021-08-26T03:48:36.999616Z",
     "shell.execute_reply": "2021-08-26T03:48:36.999021Z"
    },
    "jupyter": {
     "source_hidden": true
    },
    "papermill": {
     "duration": 3.012334,
     "end_time": "2021-08-26T03:48:36.999841",
     "exception": false,
     "start_time": "2021-08-26T03:48:33.987507",
     "status": "completed"
    },
    "tags": []
   },
   "outputs": [
    {
     "name": "stdout",
     "output_type": "stream",
     "text": [
      "\u001b[1mnanoHUB - Serving Students, Researchers & Instructors\u001b[0m\n"
     ]
    },
    {
     "name": "stderr",
     "output_type": "stream",
     "text": [
      "2021-08-25 23:48:35,517| INFO    | 0 keys loaded from agent\n"
     ]
    },
    {
     "name": "stdout",
     "output_type": "stream",
     "text": [
      "2021-08-25 23:48:35,517 - [INFO] sshtunnel.SSHTunnelForwarder [sshtunnel.get_agent_keys:1060]: 0 keys loaded from agent\n"
     ]
    },
    {
     "name": "stderr",
     "output_type": "stream",
     "text": [
      "2021-08-25 23:48:35,521| INFO    | 0 key(s) loaded\n"
     ]
    },
    {
     "name": "stdout",
     "output_type": "stream",
     "text": [
      "2021-08-25 23:48:35,521 - [INFO] sshtunnel.SSHTunnelForwarder [sshtunnel.get_keys:1117]: 0 key(s) loaded\n"
     ]
    },
    {
     "name": "stderr",
     "output_type": "stream",
     "text": [
      "2021-08-25 23:48:35,524| INFO    | Connecting to gateway: db2.nanohub.org:22 as user 'saxenap'\n"
     ]
    },
    {
     "name": "stdout",
     "output_type": "stream",
     "text": [
      "2021-08-25 23:48:35,524 - [INFO] sshtunnel.SSHTunnelForwarder [sshtunnel.__init__:978]: Connecting to gateway: db2.nanohub.org:22 as user 'saxenap'\n"
     ]
    },
    {
     "name": "stdout",
     "output_type": "stream",
     "text": [
      "2021-08-25 23:48:35,527 - [\u001b[1mINFO\u001b[0m] \u001b[1mnanoHUB.containers.dataaccess\u001b[0m [connection.get_connection_for:101]: Started SSH Tunnel with db2.nanohub.org\n"
     ]
    },
    {
     "name": "stderr",
     "output_type": "stream",
     "text": [
      "2021-08-25 23:48:35,837| INFO    | Opening tunnel: 0.0.0.0:51819 <> 127.0.0.1:3306\n"
     ]
    },
    {
     "name": "stdout",
     "output_type": "stream",
     "text": [
      "2021-08-25 23:48:35,837 - [INFO] sshtunnel.SSHTunnelForwarder [sshtunnel._serve_forever_wrapper:1433]: Opening tunnel: 0.0.0.0:51819 <> 127.0.0.1:3306\n"
     ]
    },
    {
     "name": "stdout",
     "output_type": "stream",
     "text": [
      "Obtained Salesforce access token ...... True\n"
     ]
    }
   ],
   "source": [
    "from nanoHUB.application import Application\n",
    "\n",
    "application = Application.get_instance()\n",
    "nanohub_db = application.new_db_engine('nanohub')\n",
    "\n",
    "salesforce = application.new_salesforce_engine()\n",
    "db_s = salesforce\n",
    "\n",
    "df = pd.read_sql_query(sql_query, nanohub_db)"
   ]
  },
  {
   "cell_type": "code",
   "execution_count": 5,
   "id": "9dde921f",
   "metadata": {
    "execution": {
     "iopub.execute_input": "2021-08-26T03:48:37.112910Z",
     "iopub.status.busy": "2021-08-26T03:48:37.108334Z",
     "iopub.status.idle": "2021-08-26T03:48:37.128084Z",
     "shell.execute_reply": "2021-08-26T03:48:37.128599Z"
    },
    "jupyter": {
     "source_hidden": true
    },
    "papermill": {
     "duration": 0.092051,
     "end_time": "2021-08-26T03:48:37.128830",
     "exception": false,
     "start_time": "2021-08-26T03:48:37.036779",
     "status": "completed"
    },
    "tags": []
   },
   "outputs": [],
   "source": [
    "# convert and clean some columns, so we can, for example, sort values\n",
    "df['date_publish'] = pd.to_datetime(df['date_publish'], errors='coerce') \n",
    "df['created'] = pd.to_datetime(df['created'], errors='coerce') \n",
    "df['date_submit'] = pd.to_datetime(df['date_submit'], errors='coerce') \n",
    "df['date_accept'] = pd.to_datetime(df['date_accept'], errors='coerce') "
   ]
  },
  {
   "cell_type": "code",
   "execution_count": 6,
   "id": "939a8e1f",
   "metadata": {
    "execution": {
     "iopub.execute_input": "2021-08-26T03:48:37.212786Z",
     "iopub.status.busy": "2021-08-26T03:48:37.211956Z",
     "iopub.status.idle": "2021-08-26T03:48:37.230195Z",
     "shell.execute_reply": "2021-08-26T03:48:37.229547Z"
    },
    "jupyter": {
     "source_hidden": true
    },
    "papermill": {
     "duration": 0.065085,
     "end_time": "2021-08-26T03:48:37.230345",
     "exception": false,
     "start_time": "2021-08-26T03:48:37.165260",
     "status": "completed"
    },
    "tags": []
   },
   "outputs": [
    {
     "data": {
      "text/html": [
       "<div>\n",
       "<style scoped>\n",
       "    .dataframe tbody tr th:only-of-type {\n",
       "        vertical-align: middle;\n",
       "    }\n",
       "\n",
       "    .dataframe tbody tr th {\n",
       "        vertical-align: top;\n",
       "    }\n",
       "\n",
       "    .dataframe thead th {\n",
       "        text-align: right;\n",
       "    }\n",
       "</style>\n",
       "<table border=\"1\" class=\"dataframe\">\n",
       "  <thead>\n",
       "    <tr style=\"text-align: right;\">\n",
       "      <th></th>\n",
       "      <th>id</th>\n",
       "      <th>uid</th>\n",
       "      <th>affiliated</th>\n",
       "      <th>fundedby</th>\n",
       "      <th>created</th>\n",
       "      <th>address</th>\n",
       "      <th>author</th>\n",
       "      <th>booktitle</th>\n",
       "      <th>chapter</th>\n",
       "      <th>cite</th>\n",
       "      <th>...</th>\n",
       "      <th>custom2</th>\n",
       "      <th>custom3</th>\n",
       "      <th>custom4</th>\n",
       "      <th>pdf_url</th>\n",
       "      <th>id</th>\n",
       "      <th>type</th>\n",
       "      <th>type_title</th>\n",
       "      <th>type_desc</th>\n",
       "      <th>type_export</th>\n",
       "      <th>c_id</th>\n",
       "    </tr>\n",
       "  </thead>\n",
       "  <tbody>\n",
       "    <tr>\n",
       "      <th>0</th>\n",
       "      <td>2240</td>\n",
       "      <td>2143</td>\n",
       "      <td>1</td>\n",
       "      <td>-1</td>\n",
       "      <td>NaT</td>\n",
       "      <td></td>\n",
       "      <td>Piyush Dak{{50986}};Aida Ebrahimi{{57810}};Vik...</td>\n",
       "      <td></td>\n",
       "      <td></td>\n",
       "      <td></td>\n",
       "      <td>...</td>\n",
       "      <td>None</td>\n",
       "      <td>None</td>\n",
       "      <td>None</td>\n",
       "      <td>https://nanohub.org/nanoHUBCitations/citmanage...</td>\n",
       "      <td>2</td>\n",
       "      <td>journal</td>\n",
       "      <td>Journal</td>\n",
       "      <td>None</td>\n",
       "      <td>None</td>\n",
       "      <td>2240</td>\n",
       "    </tr>\n",
       "  </tbody>\n",
       "</table>\n",
       "<p>1 rows × 68 columns</p>\n",
       "</div>"
      ],
      "text/plain": [
       "     id   uid  affiliated  fundedby created address  \\\n",
       "0  2240  2143           1        -1     NaT           \n",
       "\n",
       "                                              author booktitle chapter cite  \\\n",
       "0  Piyush Dak{{50986}};Aida Ebrahimi{{57810}};Vik...                          \n",
       "\n",
       "   ... custom2 custom3 custom4  \\\n",
       "0  ...    None    None    None   \n",
       "\n",
       "                                             pdf_url id     type type_title  \\\n",
       "0  https://nanohub.org/nanoHUBCitations/citmanage...  2  journal    Journal   \n",
       "\n",
       "  type_desc type_export  c_id  \n",
       "0      None        None  2240  \n",
       "\n",
       "[1 rows x 68 columns]"
      ]
     },
     "metadata": {},
     "output_type": "display_data"
    },
    {
     "data": {
      "text/plain": [
       "'size=(2517, 68)'"
      ]
     },
     "metadata": {},
     "output_type": "display_data"
    }
   ],
   "source": [
    "# display\n",
    "display(df.head(1))\n",
    "display('size='+str(df.shape))"
   ]
  },
  {
   "cell_type": "markdown",
   "id": "1d0a3488",
   "metadata": {
    "papermill": {
     "duration": 0.036905,
     "end_time": "2021-08-26T03:48:37.304833",
     "exception": false,
     "start_time": "2021-08-26T03:48:37.267928",
     "status": "completed"
    },
    "tags": []
   },
   "source": [
    "## Match data with Salesforce format"
   ]
  },
  {
   "cell_type": "code",
   "execution_count": 7,
   "id": "e1bc7a15",
   "metadata": {
    "execution": {
     "iopub.execute_input": "2021-08-26T03:48:37.390670Z",
     "iopub.status.busy": "2021-08-26T03:48:37.389995Z",
     "iopub.status.idle": "2021-08-26T03:48:37.408901Z",
     "shell.execute_reply": "2021-08-26T03:48:37.409333Z"
    },
    "jupyter": {
     "source_hidden": true
    },
    "papermill": {
     "duration": 0.064985,
     "end_time": "2021-08-26T03:48:37.409562",
     "exception": false,
     "start_time": "2021-08-26T03:48:37.344577",
     "status": "completed"
    },
    "tags": []
   },
   "outputs": [
    {
     "data": {
      "text/html": [
       "<div>\n",
       "<style scoped>\n",
       "    .dataframe tbody tr th:only-of-type {\n",
       "        vertical-align: middle;\n",
       "    }\n",
       "\n",
       "    .dataframe tbody tr th {\n",
       "        vertical-align: top;\n",
       "    }\n",
       "\n",
       "    .dataframe thead th {\n",
       "        text-align: right;\n",
       "    }\n",
       "</style>\n",
       "<table border=\"1\" class=\"dataframe\">\n",
       "  <thead>\n",
       "    <tr style=\"text-align: right;\">\n",
       "      <th></th>\n",
       "      <th>0</th>\n",
       "      <th>1</th>\n",
       "    </tr>\n",
       "  </thead>\n",
       "  <tbody>\n",
       "    <tr>\n",
       "      <th>Record_ID__c</th>\n",
       "      <td>2240</td>\n",
       "      <td>1474</td>\n",
       "    </tr>\n",
       "    <tr>\n",
       "      <th>URL__c</th>\n",
       "      <td>http://scholar.google.com/scholar?hl=en&amp;q=Drop...</td>\n",
       "      <td>http://scholar.google.com/scholar?hl=en&amp;q=http...</td>\n",
       "    </tr>\n",
       "    <tr>\n",
       "      <th>NCN_Affiliated__c</th>\n",
       "      <td>1</td>\n",
       "      <td>0</td>\n",
       "    </tr>\n",
       "    <tr>\n",
       "      <th>Author_List__c</th>\n",
       "      <td>Piyush Dak{{50986}};Aida Ebrahimi{{57810}};Vik...</td>\n",
       "      <td>V.C. Stodden</td>\n",
       "    </tr>\n",
       "    <tr>\n",
       "      <th>Journal__c</th>\n",
       "      <td>Biosensors</td>\n",
       "      <td>Columbia University Academic Commons</td>\n",
       "    </tr>\n",
       "    <tr>\n",
       "      <th>Year__c</th>\n",
       "      <td>2016</td>\n",
       "      <td>2013</td>\n",
       "    </tr>\n",
       "    <tr>\n",
       "      <th>Type__c</th>\n",
       "      <td>R</td>\n",
       "      <td>E</td>\n",
       "    </tr>\n",
       "    <tr>\n",
       "      <th>Notes__c</th>\n",
       "      <td></td>\n",
       "      <td>Conference: Open Repositories 2013; \\r\\nPrince...</td>\n",
       "    </tr>\n",
       "    <tr>\n",
       "      <th>Name</th>\n",
       "      <td>Droplet-based Biosensing For Lab-on-a-Chip, Op...</td>\n",
       "      <td>Re-use And Reproducibility: Opportunities And ...</td>\n",
       "    </tr>\n",
       "    <tr>\n",
       "      <th>Full_title__c</th>\n",
       "      <td>Droplet-based Biosensing For Lab-on-a-Chip, Op...</td>\n",
       "      <td>Re-use And Reproducibility: Opportunities And ...</td>\n",
       "    </tr>\n",
       "    <tr>\n",
       "      <th>Format__c</th>\n",
       "      <td>Journal</td>\n",
       "      <td>Conference</td>\n",
       "    </tr>\n",
       "  </tbody>\n",
       "</table>\n",
       "</div>"
      ],
      "text/plain": [
       "                                                                   0  \\\n",
       "Record_ID__c                                                    2240   \n",
       "URL__c             http://scholar.google.com/scholar?hl=en&q=Drop...   \n",
       "NCN_Affiliated__c                                                  1   \n",
       "Author_List__c     Piyush Dak{{50986}};Aida Ebrahimi{{57810}};Vik...   \n",
       "Journal__c                                                Biosensors   \n",
       "Year__c                                                         2016   \n",
       "Type__c                                                            R   \n",
       "Notes__c                                                               \n",
       "Name               Droplet-based Biosensing For Lab-on-a-Chip, Op...   \n",
       "Full_title__c      Droplet-based Biosensing For Lab-on-a-Chip, Op...   \n",
       "Format__c                                                    Journal   \n",
       "\n",
       "                                                                   1  \n",
       "Record_ID__c                                                    1474  \n",
       "URL__c             http://scholar.google.com/scholar?hl=en&q=http...  \n",
       "NCN_Affiliated__c                                                  0  \n",
       "Author_List__c                                          V.C. Stodden  \n",
       "Journal__c                      Columbia University Academic Commons  \n",
       "Year__c                                                         2013  \n",
       "Type__c                                                            E  \n",
       "Notes__c           Conference: Open Repositories 2013; \\r\\nPrince...  \n",
       "Name               Re-use And Reproducibility: Opportunities And ...  \n",
       "Full_title__c      Re-use And Reproducibility: Opportunities And ...  \n",
       "Format__c                                                 Conference  "
      ]
     },
     "execution_count": 7,
     "metadata": {},
     "output_type": "execute_result"
    }
   ],
   "source": [
    "df_sf = pd.DataFrame()\n",
    "\n",
    "# Make sure NaN and NaT values are taken care of here\n",
    "\n",
    "df_sf['Record_ID__c']      = df['c_id']\n",
    "df_sf['URL__c']            = df['url']\n",
    "df_sf['NCN_Affiliated__c'] = df['affiliated'].apply(lambda x: 1 if x==1 else 0)\n",
    "df_sf['Author_List__c']    = df['author']\n",
    "df_sf['Journal__c']        = df['journal']\n",
    "df_sf['Year__c']           = df['year']\n",
    "df_sf['Type__c']           = df['ref_type']\n",
    "df_sf['Notes__c']          = df['notes']\n",
    "df_sf['Name']              = df['title'].apply(lambda x: x[:70])\n",
    "df_sf['Full_title__c']     = df['title']\n",
    "df_sf['Format__c']         = df['type_title']\n",
    "\n",
    "sf_original_fields = df_sf.columns\n",
    "\n",
    "# display\n",
    "df_sf.head(2).T"
   ]
  },
  {
   "cell_type": "markdown",
   "id": "38a46684",
   "metadata": {
    "papermill": {
     "duration": 0.038584,
     "end_time": "2021-08-26T03:48:37.487346",
     "exception": false,
     "start_time": "2021-08-26T03:48:37.448762",
     "status": "completed"
    },
    "tags": []
   },
   "source": [
    "## To Salesforce Sales Cloud CRM"
   ]
  },
  {
   "cell_type": "code",
   "execution_count": 8,
   "id": "1a13f86b",
   "metadata": {
    "execution": {
     "iopub.execute_input": "2021-08-26T03:48:37.573421Z",
     "iopub.status.busy": "2021-08-26T03:48:37.572786Z",
     "iopub.status.idle": "2021-08-26T03:48:37.574159Z",
     "shell.execute_reply": "2021-08-26T03:48:37.574652Z"
    },
    "jupyter": {
     "source_hidden": true
    },
    "papermill": {
     "duration": 0.046191,
     "end_time": "2021-08-26T03:48:37.574887",
     "exception": false,
     "start_time": "2021-08-26T03:48:37.528696",
     "status": "completed"
    },
    "tags": []
   },
   "outputs": [],
   "source": [
    "# specify Salesforce object ID and external ID\n",
    "db_s.object_id = object_id\n",
    "db_s.external_id = external_id"
   ]
  },
  {
   "cell_type": "code",
   "execution_count": 9,
   "id": "bf655b03",
   "metadata": {
    "execution": {
     "iopub.execute_input": "2021-08-26T03:48:37.657777Z",
     "iopub.status.busy": "2021-08-26T03:48:37.656454Z",
     "iopub.status.idle": "2021-08-26T03:48:41.024509Z",
     "shell.execute_reply": "2021-08-26T03:48:41.025103Z"
    },
    "jupyter": {
     "source_hidden": true
    },
    "papermill": {
     "duration": 3.412156,
     "end_time": "2021-08-26T03:48:41.025370",
     "exception": false,
     "start_time": "2021-08-26T03:48:37.613214",
     "status": "completed"
    },
    "tags": []
   },
   "outputs": [
    {
     "name": "stdout",
     "output_type": "stream",
     "text": [
      "[Success] Bulk job creation successful. Job ID = 7505w00000ZJKRgAAP\n",
      "hello\n"
     ]
    },
    {
     "name": "stdout",
     "output_type": "stream",
     "text": [
      "[Success] CSV upload successful. Job ID = 7505w00000ZJKRgAAP\n"
     ]
    },
    {
     "name": "stdout",
     "output_type": "stream",
     "text": [
      "[Success] Closing job successful. Job ID = 7505w00000ZJKRgAAP\n"
     ]
    }
   ],
   "source": [
    "# send data to Salesforce\n",
    "db_s.send_data(df_sf)"
   ]
  },
  {
   "cell_type": "code",
   "execution_count": 10,
   "id": "d36815b6",
   "metadata": {
    "execution": {
     "iopub.execute_input": "2021-08-26T03:48:41.116359Z",
     "iopub.status.busy": "2021-08-26T03:48:41.115553Z",
     "iopub.status.idle": "2021-08-26T03:48:41.476628Z",
     "shell.execute_reply": "2021-08-26T03:48:41.477123Z"
    },
    "jupyter": {
     "source_hidden": true
    },
    "papermill": {
     "duration": 0.409668,
     "end_time": "2021-08-26T03:48:41.477388",
     "exception": false,
     "start_time": "2021-08-26T03:48:41.067720",
     "status": "completed"
    },
    "tags": []
   },
   "outputs": [
    {
     "data": {
      "text/plain": [
       "{'id': '7505w00000ZJKRgAAP',\n",
       " 'operation': 'upsert',\n",
       " 'object': 'nanoHUB_citations__c',\n",
       " 'createdById': '0055w00000DM5bOAAT',\n",
       " 'createdDate': '2021-08-26T03:48:38.000+0000',\n",
       " 'systemModstamp': '2021-08-26T03:48:41.000+0000',\n",
       " 'state': 'UploadComplete',\n",
       " 'externalIdFieldName': 'Record_ID__c',\n",
       " 'concurrencyMode': 'Parallel',\n",
       " 'contentType': 'CSV',\n",
       " 'apiVersion': 47.0,\n",
       " 'jobType': 'V2Ingest',\n",
       " 'lineEnding': 'LF',\n",
       " 'columnDelimiter': 'COMMA',\n",
       " 'numberRecordsProcessed': 0,\n",
       " 'numberRecordsFailed': 0,\n",
       " 'retries': 0,\n",
       " 'totalProcessingTime': 0,\n",
       " 'apiActiveProcessingTime': 0,\n",
       " 'apexProcessingTime': 0}"
      ]
     },
     "execution_count": 10,
     "metadata": {},
     "output_type": "execute_result"
    }
   ],
   "source": [
    "# check status\n",
    "db_s.check_bulk_status()"
   ]
  },
  {
   "cell_type": "code",
   "execution_count": 11,
   "id": "86164f67",
   "metadata": {
    "execution": {
     "iopub.execute_input": "2021-08-26T03:48:41.566662Z",
     "iopub.status.busy": "2021-08-26T03:48:41.565806Z",
     "iopub.status.idle": "2021-08-26T03:48:41.826156Z",
     "shell.execute_reply": "2021-08-26T03:48:41.827458Z"
    },
    "jupyter": {
     "source_hidden": true
    },
    "papermill": {
     "duration": 0.307833,
     "end_time": "2021-08-26T03:48:41.828152",
     "exception": false,
     "start_time": "2021-08-26T03:48:41.520319",
     "status": "completed"
    },
    "tags": []
   },
   "outputs": [
    {
     "name": "stdout",
     "output_type": "stream",
     "text": [
      "''\n"
     ]
    }
   ],
   "source": [
    "from pprint import pprint\n",
    "pprint(db_s.check_bulk_failed_results())"
   ]
  },
  {
   "cell_type": "code",
   "execution_count": null,
   "id": "8460ca1a",
   "metadata": {
    "jupyter": {
     "source_hidden": true
    },
    "papermill": {
     "duration": 0.042079,
     "end_time": "2021-08-26T03:48:41.919168",
     "exception": false,
     "start_time": "2021-08-26T03:48:41.877089",
     "status": "completed"
    },
    "tags": []
   },
   "outputs": [],
   "source": [
    "\n"
   ]
  }
 ],
 "metadata": {
  "celltoolbar": "Tags",
  "kernelspec": {
   "display_name": "Python 3 (ipykernel)",
   "language": "python",
   "name": "python3"
  },
  "language_info": {
   "codemirror_mode": {
    "name": "ipython",
    "version": 3
   },
   "file_extension": ".py",
   "mimetype": "text/x-python",
   "name": "python",
   "nbconvert_exporter": "python",
   "pygments_lexer": "ipython3",
   "version": "3.8.2"
  },
  "papermill": {
   "duration": 10.043802,
   "end_time": "2021-08-26T03:48:42.281076",
   "environment_variables": {},
   "exception": null,
   "input_path": "nanoHUB/pipeline/salesforce/task_citations.ipynb",
   "output_path": "./.output/task_citations.ipynb",
   "parameters": {},
   "start_time": "2021-08-26T03:48:32.237274",
   "version": "2.1.1"
  }
 },
 "nbformat": 4,
 "nbformat_minor": 5
}