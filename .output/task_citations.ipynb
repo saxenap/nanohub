{
 "cells": [
  {
   "cell_type": "markdown",
   "id": "a146a08e",
   "metadata": {
    "papermill": {
     "duration": 0.048716,
     "end_time": "2021-10-25T11:04:29.777796",
     "exception": false,
     "start_time": "2021-10-25T11:04:29.729080",
     "status": "completed"
    },
    "tags": []
   },
   "source": [
    "# DB2-Salesforce connector: Citation information updates"
   ]
  },
  {
   "cell_type": "code",
   "execution_count": 1,
   "id": "fa314ca7",
   "metadata": {
    "execution": {
     "iopub.execute_input": "2021-10-25T11:04:29.893154Z",
     "iopub.status.busy": "2021-10-25T11:04:29.891936Z",
     "iopub.status.idle": "2021-10-25T11:04:29.896142Z",
     "shell.execute_reply": "2021-10-25T11:04:29.896935Z"
    },
    "jupyter": {
     "source_hidden": true
    },
    "papermill": {
     "duration": 0.069223,
     "end_time": "2021-10-25T11:04:29.897571",
     "exception": false,
     "start_time": "2021-10-25T11:04:29.828348",
     "status": "completed"
    },
    "tags": [
     "parameters"
    ]
   },
   "outputs": [],
   "source": [
    "# API settings\n",
    "api_url = '/services/data/v43.0/sobjects'\n",
    "external_id = 'Record_ID__c'\n",
    "object_id = 'nanoHUB_citations__c'"
   ]
  },
  {
   "cell_type": "code",
   "execution_count": 2,
   "id": "a21e44e7",
   "metadata": {
    "execution": {
     "iopub.execute_input": "2021-10-25T11:04:29.998429Z",
     "iopub.status.busy": "2021-10-25T11:04:29.997370Z",
     "iopub.status.idle": "2021-10-25T11:04:30.685488Z",
     "shell.execute_reply": "2021-10-25T11:04:30.686161Z"
    },
    "jupyter": {
     "source_hidden": true
    },
    "papermill": {
     "duration": 0.742173,
     "end_time": "2021-10-25T11:04:30.686511",
     "exception": false,
     "start_time": "2021-10-25T11:04:29.944338",
     "status": "completed"
    },
    "tags": []
   },
   "outputs": [],
   "source": [
    "import sys\n",
    "import os\n",
    "sys.path.append('/home/users/wang2506/nanohub_salesforce_integ/salesforce')\n",
    "    \n",
    "import pandas as pd\n",
    "import datetime"
   ]
  },
  {
   "cell_type": "markdown",
   "id": "2275d3dc",
   "metadata": {
    "papermill": {
     "duration": 0.046501,
     "end_time": "2021-10-25T11:04:30.780912",
     "exception": false,
     "start_time": "2021-10-25T11:04:30.734411",
     "status": "completed"
    },
    "tags": []
   },
   "source": [
    "## Obtain tool information from DB2 "
   ]
  },
  {
   "cell_type": "code",
   "execution_count": 3,
   "id": "876a3fba",
   "metadata": {
    "execution": {
     "iopub.execute_input": "2021-10-25T11:04:30.880273Z",
     "iopub.status.busy": "2021-10-25T11:04:30.878989Z",
     "iopub.status.idle": "2021-10-25T11:04:30.883113Z",
     "shell.execute_reply": "2021-10-25T11:04:30.883768Z"
    },
    "jupyter": {
     "source_hidden": true
    },
    "papermill": {
     "duration": 0.057389,
     "end_time": "2021-10-25T11:04:30.884121",
     "exception": false,
     "start_time": "2021-10-25T11:04:30.826732",
     "status": "completed"
    },
    "scrolled": true,
    "tags": []
   },
   "outputs": [
    {
     "name": "stdout",
     "output_type": "stream",
     "text": [
      "select *, c.id as c_id from jos_citations as c             left join jos_citations_types as t             on c.type = t.id             where uid=2143\n"
     ]
    }
   ],
   "source": [
    "# Basic tool information\n",
    "sql_query = \"select *, c.id as c_id from jos_citations as c \\\n",
    "            left join jos_citations_types as t \\\n",
    "            on c.type = t.id \\\n",
    "            where uid=2143\"\n",
    "\n",
    "# display\n",
    "print(sql_query)"
   ]
  },
  {
   "cell_type": "code",
   "execution_count": 4,
   "id": "ff0244af",
   "metadata": {
    "execution": {
     "iopub.execute_input": "2021-10-25T11:04:30.988379Z",
     "iopub.status.busy": "2021-10-25T11:04:30.987385Z",
     "iopub.status.idle": "2021-10-25T11:04:34.010590Z",
     "shell.execute_reply": "2021-10-25T11:04:34.011498Z"
    },
    "jupyter": {
     "source_hidden": true
    },
    "papermill": {
     "duration": 3.077644,
     "end_time": "2021-10-25T11:04:34.011789",
     "exception": false,
     "start_time": "2021-10-25T11:04:30.934145",
     "status": "completed"
    },
    "tags": []
   },
   "outputs": [
    {
     "name": "stdout",
     "output_type": "stream",
     "text": [
      "\u001b[1mnanoHUB - Serving Students, Researchers & Instructors\u001b[0m\n"
     ]
    },
    {
     "name": "stdout",
     "output_type": "stream",
     "text": [
      "Obtained Salesforce access token ...... True\n"
     ]
    }
   ],
   "source": [
    "from nanoHUB.application import Application\n",
    "\n",
    "application = Application.get_instance()\n",
    "nanohub_db = application.new_db_engine('nanohub')\n",
    "\n",
    "salesforce = application.new_salesforce_engine()\n",
    "db_s = salesforce\n",
    "\n",
    "df = pd.read_sql_query(sql_query, nanohub_db)"
   ]
  },
  {
   "cell_type": "code",
   "execution_count": 5,
   "id": "3b40987c",
   "metadata": {
    "execution": {
     "iopub.execute_input": "2021-10-25T11:04:34.190141Z",
     "iopub.status.busy": "2021-10-25T11:04:34.168632Z",
     "iopub.status.idle": "2021-10-25T11:04:34.218725Z",
     "shell.execute_reply": "2021-10-25T11:04:34.219390Z"
    },
    "jupyter": {
     "source_hidden": true
    },
    "papermill": {
     "duration": 0.146551,
     "end_time": "2021-10-25T11:04:34.219712",
     "exception": false,
     "start_time": "2021-10-25T11:04:34.073161",
     "status": "completed"
    },
    "tags": []
   },
   "outputs": [],
   "source": [
    "# convert and clean some columns, so we can, for example, sort values\n",
    "df['date_publish'] = pd.to_datetime(df['date_publish'], errors='coerce') \n",
    "df['created'] = pd.to_datetime(df['created'], errors='coerce') \n",
    "df['date_submit'] = pd.to_datetime(df['date_submit'], errors='coerce') \n",
    "df['date_accept'] = pd.to_datetime(df['date_accept'], errors='coerce') "
   ]
  },
  {
   "cell_type": "code",
   "execution_count": 6,
   "id": "57619c6d",
   "metadata": {
    "execution": {
     "iopub.execute_input": "2021-10-25T11:04:34.339821Z",
     "iopub.status.busy": "2021-10-25T11:04:34.338919Z",
     "iopub.status.idle": "2021-10-25T11:04:34.368880Z",
     "shell.execute_reply": "2021-10-25T11:04:34.369568Z"
    },
    "jupyter": {
     "source_hidden": true
    },
    "papermill": {
     "duration": 0.100206,
     "end_time": "2021-10-25T11:04:34.369862",
     "exception": false,
     "start_time": "2021-10-25T11:04:34.269656",
     "status": "completed"
    },
    "tags": []
   },
   "outputs": [
    {
     "data": {
      "text/html": [
       "<div>\n",
       "<style scoped>\n",
       "    .dataframe tbody tr th:only-of-type {\n",
       "        vertical-align: middle;\n",
       "    }\n",
       "\n",
       "    .dataframe tbody tr th {\n",
       "        vertical-align: top;\n",
       "    }\n",
       "\n",
       "    .dataframe thead th {\n",
       "        text-align: right;\n",
       "    }\n",
       "</style>\n",
       "<table border=\"1\" class=\"dataframe\">\n",
       "  <thead>\n",
       "    <tr style=\"text-align: right;\">\n",
       "      <th></th>\n",
       "      <th>id</th>\n",
       "      <th>uid</th>\n",
       "      <th>affiliated</th>\n",
       "      <th>fundedby</th>\n",
       "      <th>created</th>\n",
       "      <th>address</th>\n",
       "      <th>author</th>\n",
       "      <th>booktitle</th>\n",
       "      <th>chapter</th>\n",
       "      <th>cite</th>\n",
       "      <th>...</th>\n",
       "      <th>custom2</th>\n",
       "      <th>custom3</th>\n",
       "      <th>custom4</th>\n",
       "      <th>pdf_url</th>\n",
       "      <th>id</th>\n",
       "      <th>type</th>\n",
       "      <th>type_title</th>\n",
       "      <th>type_desc</th>\n",
       "      <th>type_export</th>\n",
       "      <th>c_id</th>\n",
       "    </tr>\n",
       "  </thead>\n",
       "  <tbody>\n",
       "    <tr>\n",
       "      <th>0</th>\n",
       "      <td>767</td>\n",
       "      <td>2143</td>\n",
       "      <td>1</td>\n",
       "      <td>0</td>\n",
       "      <td>2011-01-24</td>\n",
       "      <td></td>\n",
       "      <td>Hoon Ryu{{14414}};Sunhee Lee{{13570}};B. Weber...</td>\n",
       "      <td>2010 Silicon Nanoelectronics Workshop</td>\n",
       "      <td></td>\n",
       "      <td></td>\n",
       "      <td>...</td>\n",
       "      <td>None</td>\n",
       "      <td>None</td>\n",
       "      <td>None</td>\n",
       "      <td>https://nanohub.org/nanoHUBCitations/citmanage...</td>\n",
       "      <td>7</td>\n",
       "      <td>conference</td>\n",
       "      <td>Conference</td>\n",
       "      <td>None</td>\n",
       "      <td>None</td>\n",
       "      <td>767</td>\n",
       "    </tr>\n",
       "  </tbody>\n",
       "</table>\n",
       "<p>1 rows × 68 columns</p>\n",
       "</div>"
      ],
      "text/plain": [
       "    id   uid  affiliated  fundedby    created address  \\\n",
       "0  767  2143           1         0 2011-01-24           \n",
       "\n",
       "                                              author  \\\n",
       "0  Hoon Ryu{{14414}};Sunhee Lee{{13570}};B. Weber...   \n",
       "\n",
       "                               booktitle chapter cite  ... custom2 custom3  \\\n",
       "0  2010 Silicon Nanoelectronics Workshop               ...    None    None   \n",
       "\n",
       "  custom4                                            pdf_url id        type  \\\n",
       "0    None  https://nanohub.org/nanoHUBCitations/citmanage...  7  conference   \n",
       "\n",
       "   type_title type_desc type_export c_id  \n",
       "0  Conference      None        None  767  \n",
       "\n",
       "[1 rows x 68 columns]"
      ]
     },
     "metadata": {},
     "output_type": "display_data"
    },
    {
     "data": {
      "text/plain": [
       "'size=(2517, 68)'"
      ]
     },
     "metadata": {},
     "output_type": "display_data"
    }
   ],
   "source": [
    "# display\n",
    "display(df.head(1))\n",
    "display('size='+str(df.shape))"
   ]
  },
  {
   "cell_type": "markdown",
   "id": "85bcaae1",
   "metadata": {
    "papermill": {
     "duration": 0.060451,
     "end_time": "2021-10-25T11:04:34.491171",
     "exception": false,
     "start_time": "2021-10-25T11:04:34.430720",
     "status": "completed"
    },
    "tags": []
   },
   "source": [
    "## Match data with Salesforce format"
   ]
  },
  {
   "cell_type": "code",
   "execution_count": 7,
   "id": "202129e7",
   "metadata": {
    "execution": {
     "iopub.execute_input": "2021-10-25T11:04:34.638241Z",
     "iopub.status.busy": "2021-10-25T11:04:34.624109Z",
     "iopub.status.idle": "2021-10-25T11:04:34.642164Z",
     "shell.execute_reply": "2021-10-25T11:04:34.642840Z"
    },
    "jupyter": {
     "source_hidden": true
    },
    "papermill": {
     "duration": 0.097471,
     "end_time": "2021-10-25T11:04:34.643199",
     "exception": false,
     "start_time": "2021-10-25T11:04:34.545728",
     "status": "completed"
    },
    "tags": []
   },
   "outputs": [
    {
     "data": {
      "text/html": [
       "<div>\n",
       "<style scoped>\n",
       "    .dataframe tbody tr th:only-of-type {\n",
       "        vertical-align: middle;\n",
       "    }\n",
       "\n",
       "    .dataframe tbody tr th {\n",
       "        vertical-align: top;\n",
       "    }\n",
       "\n",
       "    .dataframe thead th {\n",
       "        text-align: right;\n",
       "    }\n",
       "</style>\n",
       "<table border=\"1\" class=\"dataframe\">\n",
       "  <thead>\n",
       "    <tr style=\"text-align: right;\">\n",
       "      <th></th>\n",
       "      <th>0</th>\n",
       "      <th>1</th>\n",
       "    </tr>\n",
       "  </thead>\n",
       "  <tbody>\n",
       "    <tr>\n",
       "      <th>Record_ID__c</th>\n",
       "      <td>767</td>\n",
       "      <td>1279</td>\n",
       "    </tr>\n",
       "    <tr>\n",
       "      <th>URL__c</th>\n",
       "      <td>http://ieeexplore.ieee.org/stamp/stamp.jsp?tp=...</td>\n",
       "      <td>http://prb.aps.org/abstract/PRB/v86/i20/e205405</td>\n",
       "    </tr>\n",
       "    <tr>\n",
       "      <th>NCN_Affiliated__c</th>\n",
       "      <td>1</td>\n",
       "      <td>1</td>\n",
       "    </tr>\n",
       "    <tr>\n",
       "      <th>Author_List__c</th>\n",
       "      <td>Hoon Ryu{{14414}};Sunhee Lee{{13570}};B. Weber...</td>\n",
       "      <td>Daniel Kiracofe{{30551}};Arvind Raman{{10597}}</td>\n",
       "    </tr>\n",
       "    <tr>\n",
       "      <th>Journal__c</th>\n",
       "      <td>2010 Silicon Nanoelectronics Workshop</td>\n",
       "      <td>Physical Review B</td>\n",
       "    </tr>\n",
       "    <tr>\n",
       "      <th>Year__c</th>\n",
       "      <td>2010</td>\n",
       "      <td>2012</td>\n",
       "    </tr>\n",
       "    <tr>\n",
       "      <th>Type__c</th>\n",
       "      <td>R,N</td>\n",
       "      <td>R,N</td>\n",
       "    </tr>\n",
       "    <tr>\n",
       "      <th>Notes__c</th>\n",
       "      <td>{{IEEE}}\\r\\nLKZ - NCN acknowledged for extensi...</td>\n",
       "      <td>{{APS}}\\r\\n</td>\n",
       "    </tr>\n",
       "    <tr>\n",
       "      <th>Name</th>\n",
       "      <td>Quantum transport in ultra-scaled phosphorous-...</td>\n",
       "      <td>Nonlinear Dynamics Of The Atomic Force Microsc...</td>\n",
       "    </tr>\n",
       "    <tr>\n",
       "      <th>Full_title__c</th>\n",
       "      <td>Quantum transport in ultra-scaled phosphorous-...</td>\n",
       "      <td>Nonlinear Dynamics Of The Atomic Force Microsc...</td>\n",
       "    </tr>\n",
       "    <tr>\n",
       "      <th>Format__c</th>\n",
       "      <td>Conference</td>\n",
       "      <td>Journal</td>\n",
       "    </tr>\n",
       "  </tbody>\n",
       "</table>\n",
       "</div>"
      ],
      "text/plain": [
       "                                                                   0  \\\n",
       "Record_ID__c                                                     767   \n",
       "URL__c             http://ieeexplore.ieee.org/stamp/stamp.jsp?tp=...   \n",
       "NCN_Affiliated__c                                                  1   \n",
       "Author_List__c     Hoon Ryu{{14414}};Sunhee Lee{{13570}};B. Weber...   \n",
       "Journal__c                     2010 Silicon Nanoelectronics Workshop   \n",
       "Year__c                                                         2010   \n",
       "Type__c                                                          R,N   \n",
       "Notes__c           {{IEEE}}\\r\\nLKZ - NCN acknowledged for extensi...   \n",
       "Name               Quantum transport in ultra-scaled phosphorous-...   \n",
       "Full_title__c      Quantum transport in ultra-scaled phosphorous-...   \n",
       "Format__c                                                 Conference   \n",
       "\n",
       "                                                                   1  \n",
       "Record_ID__c                                                    1279  \n",
       "URL__c               http://prb.aps.org/abstract/PRB/v86/i20/e205405  \n",
       "NCN_Affiliated__c                                                  1  \n",
       "Author_List__c        Daniel Kiracofe{{30551}};Arvind Raman{{10597}}  \n",
       "Journal__c                                         Physical Review B  \n",
       "Year__c                                                         2012  \n",
       "Type__c                                                          R,N  \n",
       "Notes__c                                                 {{APS}}\\r\\n  \n",
       "Name               Nonlinear Dynamics Of The Atomic Force Microsc...  \n",
       "Full_title__c      Nonlinear Dynamics Of The Atomic Force Microsc...  \n",
       "Format__c                                                    Journal  "
      ]
     },
     "execution_count": 7,
     "metadata": {},
     "output_type": "execute_result"
    }
   ],
   "source": [
    "df_sf = pd.DataFrame()\n",
    "\n",
    "# Make sure NaN and NaT values are taken care of here\n",
    "\n",
    "df_sf['Record_ID__c']      = df['c_id']\n",
    "df_sf['URL__c']            = df['url']\n",
    "df_sf['NCN_Affiliated__c'] = df['affiliated'].apply(lambda x: 1 if x==1 else 0)\n",
    "df_sf['Author_List__c']    = df['author']\n",
    "df_sf['Journal__c']        = df['journal']\n",
    "df_sf['Year__c']           = df['year']\n",
    "df_sf['Type__c']           = df['ref_type']\n",
    "df_sf['Notes__c']          = df['notes']\n",
    "df_sf['Name']              = df['title'].apply(lambda x: x[:70])\n",
    "df_sf['Full_title__c']     = df['title']\n",
    "df_sf['Format__c']         = df['type_title']\n",
    "\n",
    "sf_original_fields = df_sf.columns\n",
    "\n",
    "# display\n",
    "df_sf.head(2).T"
   ]
  },
  {
   "cell_type": "markdown",
   "id": "0befc5db",
   "metadata": {
    "papermill": {
     "duration": 0.056821,
     "end_time": "2021-10-25T11:04:34.757898",
     "exception": false,
     "start_time": "2021-10-25T11:04:34.701077",
     "status": "completed"
    },
    "tags": []
   },
   "source": [
    "## To Salesforce Sales Cloud CRM"
   ]
  },
  {
   "cell_type": "code",
   "execution_count": 8,
   "id": "c6ed1cbb",
   "metadata": {
    "execution": {
     "iopub.execute_input": "2021-10-25T11:04:34.878080Z",
     "iopub.status.busy": "2021-10-25T11:04:34.877084Z",
     "iopub.status.idle": "2021-10-25T11:04:34.879975Z",
     "shell.execute_reply": "2021-10-25T11:04:34.880635Z"
    },
    "jupyter": {
     "source_hidden": true
    },
    "papermill": {
     "duration": 0.067188,
     "end_time": "2021-10-25T11:04:34.881173",
     "exception": false,
     "start_time": "2021-10-25T11:04:34.813985",
     "status": "completed"
    },
    "tags": []
   },
   "outputs": [],
   "source": [
    "# specify Salesforce object ID and external ID\n",
    "db_s.object_id = object_id\n",
    "db_s.external_id = external_id"
   ]
  },
  {
   "cell_type": "code",
   "execution_count": 9,
   "id": "3dc739d8",
   "metadata": {
    "execution": {
     "iopub.execute_input": "2021-10-25T11:04:35.002452Z",
     "iopub.status.busy": "2021-10-25T11:04:35.001555Z",
     "iopub.status.idle": "2021-10-25T11:04:37.433623Z",
     "shell.execute_reply": "2021-10-25T11:04:37.435890Z"
    },
    "jupyter": {
     "source_hidden": true
    },
    "papermill": {
     "duration": 2.498922,
     "end_time": "2021-10-25T11:04:37.436388",
     "exception": false,
     "start_time": "2021-10-25T11:04:34.937466",
     "status": "completed"
    },
    "tags": []
   },
   "outputs": [
    {
     "name": "stdout",
     "output_type": "stream",
     "text": [
      "[Success] Bulk job creation successful. Job ID = 7505w00000b2CyUAAU\n",
      "hello\n"
     ]
    },
    {
     "name": "stdout",
     "output_type": "stream",
     "text": [
      "[Success] CSV upload successful. Job ID = 7505w00000b2CyUAAU\n"
     ]
    },
    {
     "name": "stdout",
     "output_type": "stream",
     "text": [
      "[Success] Closing job successful. Job ID = 7505w00000b2CyUAAU\n"
     ]
    }
   ],
   "source": [
    "# send data to Salesforce\n",
    "db_s.send_data(df_sf)"
   ]
  },
  {
   "cell_type": "code",
   "execution_count": 10,
   "id": "b3dc054d",
   "metadata": {
    "execution": {
     "iopub.execute_input": "2021-10-25T11:04:37.908144Z",
     "iopub.status.busy": "2021-10-25T11:04:37.904363Z",
     "iopub.status.idle": "2021-10-25T11:04:38.328224Z",
     "shell.execute_reply": "2021-10-25T11:04:38.330172Z"
    },
    "jupyter": {
     "source_hidden": true
    },
    "papermill": {
     "duration": 0.7393,
     "end_time": "2021-10-25T11:04:38.330899",
     "exception": false,
     "start_time": "2021-10-25T11:04:37.591599",
     "status": "completed"
    },
    "tags": []
   },
   "outputs": [
    {
     "data": {
      "text/plain": [
       "{'id': '7505w00000b2CyUAAU',\n",
       " 'operation': 'upsert',\n",
       " 'object': 'nanoHUB_citations__c',\n",
       " 'createdById': '0055w00000DM5bOAAT',\n",
       " 'createdDate': '2021-10-25T11:04:35.000+0000',\n",
       " 'systemModstamp': '2021-10-25T11:04:37.000+0000',\n",
       " 'state': 'InProgress',\n",
       " 'externalIdFieldName': 'Record_ID__c',\n",
       " 'concurrencyMode': 'Parallel',\n",
       " 'contentType': 'CSV',\n",
       " 'apiVersion': 47.0,\n",
       " 'jobType': 'V2Ingest',\n",
       " 'lineEnding': 'LF',\n",
       " 'columnDelimiter': 'COMMA',\n",
       " 'numberRecordsProcessed': 0,\n",
       " 'numberRecordsFailed': 0,\n",
       " 'retries': 0,\n",
       " 'totalProcessingTime': 0,\n",
       " 'apiActiveProcessingTime': 0,\n",
       " 'apexProcessingTime': 0}"
      ]
     },
     "execution_count": 10,
     "metadata": {},
     "output_type": "execute_result"
    }
   ],
   "source": [
    "# check status\n",
    "db_s.check_bulk_status()"
   ]
  },
  {
   "cell_type": "code",
   "execution_count": 11,
   "id": "4f31f7e4",
   "metadata": {
    "execution": {
     "iopub.execute_input": "2021-10-25T11:04:38.688501Z",
     "iopub.status.busy": "2021-10-25T11:04:38.685296Z",
     "iopub.status.idle": "2021-10-25T11:04:38.914277Z",
     "shell.execute_reply": "2021-10-25T11:04:38.915602Z"
    },
    "jupyter": {
     "source_hidden": true
    },
    "papermill": {
     "duration": 0.426111,
     "end_time": "2021-10-25T11:04:38.916226",
     "exception": false,
     "start_time": "2021-10-25T11:04:38.490115",
     "status": "completed"
    },
    "tags": []
   },
   "outputs": [
    {
     "name": "stdout",
     "output_type": "stream",
     "text": [
      "''\n"
     ]
    }
   ],
   "source": [
    "from pprint import pprint\n",
    "pprint(db_s.check_bulk_failed_results())"
   ]
  },
  {
   "cell_type": "code",
   "execution_count": null,
   "id": "83533220",
   "metadata": {
    "jupyter": {
     "source_hidden": true
    },
    "papermill": {
     "duration": 0.17388,
     "end_time": "2021-10-25T11:04:39.255806",
     "exception": false,
     "start_time": "2021-10-25T11:04:39.081926",
     "status": "completed"
    },
    "tags": []
   },
   "outputs": [],
   "source": [
    "\n"
   ]
  }
 ],
 "metadata": {
  "celltoolbar": "Tags",
  "kernelspec": {
   "display_name": "Python 3 (ipykernel)",
   "language": "python",
   "name": "python3"
  },
  "language_info": {
   "codemirror_mode": {
    "name": "ipython",
    "version": 3
   },
   "file_extension": ".py",
   "mimetype": "text/x-python",
   "name": "python",
   "nbconvert_exporter": "python",
   "pygments_lexer": "ipython3",
   "version": "3.9.7"
  },
  "papermill": {
   "duration": 12.136897,
   "end_time": "2021-10-25T11:04:40.330159",
   "environment_variables": {},
   "exception": null,
   "input_path": "/Users/saxenap/Documents/Dev/nanoHUB/nanoHUB/pipeline/salesforce/task_citations.ipynb",
   "output_path": "./.output/task_citations.ipynb",
   "parameters": {},
   "start_time": "2021-10-25T11:04:28.193262",
   "version": "2.1.1"
  }
 },
 "nbformat": 4,
 "nbformat_minor": 5
}