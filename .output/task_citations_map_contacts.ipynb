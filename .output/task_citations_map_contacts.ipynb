{
 "cells": [
  {
   "cell_type": "markdown",
   "id": "b79a9554",
   "metadata": {
    "papermill": {
     "duration": 0.104948,
     "end_time": "2021-10-18T12:51:47.631070",
     "exception": false,
     "start_time": "2021-10-18T12:51:47.526122",
     "status": "completed"
    },
    "tags": []
   },
   "source": [
    "# DB2-Salesforce connector: Citation mapping to users"
   ]
  },
  {
   "cell_type": "code",
   "execution_count": 1,
   "id": "12a89ade",
   "metadata": {
    "execution": {
     "iopub.execute_input": "2021-10-18T12:51:47.832248Z",
     "iopub.status.busy": "2021-10-18T12:51:47.830953Z",
     "iopub.status.idle": "2021-10-18T12:51:50.905930Z",
     "shell.execute_reply": "2021-10-18T12:51:50.906832Z"
    },
    "jupyter": {
     "source_hidden": true
    },
    "papermill": {
     "duration": 3.184446,
     "end_time": "2021-10-18T12:51:50.907379",
     "exception": false,
     "start_time": "2021-10-18T12:51:47.722933",
     "status": "completed"
    },
    "tags": [
     "parameters"
    ]
   },
   "outputs": [
    {
     "name": "stdout",
     "output_type": "stream",
     "text": [
      "\u001b[1mnanoHUB - Serving Students, Researchers & Instructors\u001b[0m\n"
     ]
    },
    {
     "name": "stdout",
     "output_type": "stream",
     "text": [
      "Obtained Salesforce access token ...... True\n"
     ]
    }
   ],
   "source": [
    "# API settings\n",
    "api_url = '/services/data/v43.0/sobjects'\n",
    "external_id = 'Name'\n",
    "object_id = 'contact_citation_asso__c'\n",
    "\n",
    "from nanoHUB.application import Application\n",
    "\n",
    "application = Application.get_instance()\n",
    "nanohub_db = application.new_db_engine('nanohub')\n",
    "wang159_myrmekes_db = application.new_db_engine('wang159_myrmekes')\n",
    "\n",
    "salesforce = application.new_salesforce_engine()\n",
    "db_s = salesforce"
   ]
  },
  {
   "cell_type": "code",
   "execution_count": 2,
   "id": "dfc79efd",
   "metadata": {
    "execution": {
     "iopub.execute_input": "2021-10-18T12:51:51.144845Z",
     "iopub.status.busy": "2021-10-18T12:51:51.143685Z",
     "iopub.status.idle": "2021-10-18T12:51:51.145991Z",
     "shell.execute_reply": "2021-10-18T12:51:51.146444Z"
    },
    "jupyter": {
     "source_hidden": true
    },
    "papermill": {
     "duration": 0.131979,
     "end_time": "2021-10-18T12:51:51.146640",
     "exception": false,
     "start_time": "2021-10-18T12:51:51.014661",
     "status": "completed"
    },
    "tags": []
   },
   "outputs": [],
   "source": [
    "import sys\n",
    "sys.path.append('/home/users/wang2506/nanohub_salesforce_integ/salesforce')\n",
    "    \n",
    "import pandas as pd\n",
    "import time\n",
    "import datetime\n",
    "\n"
   ]
  },
  {
   "cell_type": "markdown",
   "id": "8639fffb",
   "metadata": {
    "papermill": {
     "duration": 0.097093,
     "end_time": "2021-10-18T12:51:51.322755",
     "exception": false,
     "start_time": "2021-10-18T12:51:51.225662",
     "status": "completed"
    },
    "pycharm": {
     "name": "#%% md\n"
    },
    "tags": []
   },
   "source": [
    "## Obtain tool information from DB2 "
   ]
  },
  {
   "cell_type": "code",
   "execution_count": 3,
   "id": "b6f4865c",
   "metadata": {
    "execution": {
     "iopub.execute_input": "2021-10-18T12:51:51.504213Z",
     "iopub.status.busy": "2021-10-18T12:51:51.502959Z",
     "iopub.status.idle": "2021-10-18T12:51:54.206353Z",
     "shell.execute_reply": "2021-10-18T12:51:54.205870Z"
    },
    "jupyter": {
     "source_hidden": true
    },
    "papermill": {
     "duration": 2.798622,
     "end_time": "2021-10-18T12:51:54.206573",
     "exception": false,
     "start_time": "2021-10-18T12:51:51.407951",
     "status": "completed"
    },
    "tags": []
   },
   "outputs": [],
   "source": [
    "\n",
    "\n",
    "# Citations\n",
    "sql_query = \"select * from jos_citations\"\n",
    "\n",
    "citations_df = pd.read_sql_query(sql_query, nanohub_db)\n",
    "\n",
    "# Citation authors\n",
    "sql_query = \"select * from jos_citations_authors;\"\n",
    "\n",
    "authors_df = pd.read_sql_query(sql_query, nanohub_db)"
   ]
  },
  {
   "cell_type": "code",
   "execution_count": 4,
   "id": "b91f4d7b",
   "metadata": {
    "execution": {
     "iopub.execute_input": "2021-10-18T12:51:54.402483Z",
     "iopub.status.busy": "2021-10-18T12:51:54.401529Z",
     "iopub.status.idle": "2021-10-18T12:51:54.404586Z",
     "shell.execute_reply": "2021-10-18T12:51:54.403988Z"
    },
    "jupyter": {
     "source_hidden": true
    },
    "papermill": {
     "duration": 0.099623,
     "end_time": "2021-10-18T12:51:54.405094",
     "exception": false,
     "start_time": "2021-10-18T12:51:54.305471",
     "status": "completed"
    },
    "tags": []
   },
   "outputs": [],
   "source": [
    "# replace N/A and empty values with None\n",
    "authors_df.organization.replace('N/A', '', inplace=True)"
   ]
  },
  {
   "cell_type": "code",
   "execution_count": 5,
   "id": "2a95fb66",
   "metadata": {
    "execution": {
     "iopub.execute_input": "2021-10-18T12:51:54.598898Z",
     "iopub.status.busy": "2021-10-18T12:51:54.597959Z",
     "iopub.status.idle": "2021-10-18T12:51:54.602081Z",
     "shell.execute_reply": "2021-10-18T12:51:54.602501Z"
    },
    "jupyter": {
     "source_hidden": true
    },
    "papermill": {
     "duration": 0.114023,
     "end_time": "2021-10-18T12:51:54.602751",
     "exception": false,
     "start_time": "2021-10-18T12:51:54.488728",
     "status": "completed"
    },
    "tags": []
   },
   "outputs": [
    {
     "data": {
      "text/plain": [
       "Index(['id', 'cid', 'author', 'authorid', 'uidNumber', 'ordering', 'givenName',\n",
       "       'middleName', 'surname', 'organization', 'org_dept', 'orgtype',\n",
       "       'countryresident', 'email', 'ip', 'host', 'countrySHORT', 'countryLONG',\n",
       "       'ipREGION', 'ipCITY', 'ipLATITUDE', 'ipLONGITUDE', 'in_network',\n",
       "       'orcid', 'research_id', 'gscholar_id', 'scopus_id', 'researchgate_id',\n",
       "       'notes'],\n",
       "      dtype='object')"
      ]
     },
     "execution_count": 5,
     "metadata": {},
     "output_type": "execute_result"
    }
   ],
   "source": [
    "authors_df.columns"
   ]
  },
  {
   "cell_type": "code",
   "execution_count": 6,
   "id": "29b1109d",
   "metadata": {
    "execution": {
     "iopub.execute_input": "2021-10-18T12:51:54.768819Z",
     "iopub.status.busy": "2021-10-18T12:51:54.768119Z",
     "iopub.status.idle": "2021-10-18T12:51:54.797106Z",
     "shell.execute_reply": "2021-10-18T12:51:54.798144Z"
    },
    "jupyter": {
     "source_hidden": true
    },
    "papermill": {
     "duration": 0.11553,
     "end_time": "2021-10-18T12:51:54.798431",
     "exception": false,
     "start_time": "2021-10-18T12:51:54.682901",
     "status": "completed"
    },
    "tags": []
   },
   "outputs": [
    {
     "data": {
      "text/html": [
       "<div>\n",
       "<style scoped>\n",
       "    .dataframe tbody tr th:only-of-type {\n",
       "        vertical-align: middle;\n",
       "    }\n",
       "\n",
       "    .dataframe tbody tr th {\n",
       "        vertical-align: top;\n",
       "    }\n",
       "\n",
       "    .dataframe thead th {\n",
       "        text-align: right;\n",
       "    }\n",
       "</style>\n",
       "<table border=\"1\" class=\"dataframe\">\n",
       "  <thead>\n",
       "    <tr style=\"text-align: right;\">\n",
       "      <th></th>\n",
       "      <th>citation_ID</th>\n",
       "      <th>nanohub_user_id</th>\n",
       "      <th>author_id</th>\n",
       "      <th>organization</th>\n",
       "      <th>orcid</th>\n",
       "      <th>research_id</th>\n",
       "      <th>gscholar_id</th>\n",
       "    </tr>\n",
       "  </thead>\n",
       "  <tbody>\n",
       "    <tr>\n",
       "      <th>0</th>\n",
       "      <td>10000003</td>\n",
       "      <td>10676</td>\n",
       "      <td>4613</td>\n",
       "      <td>Purdue University</td>\n",
       "      <td>None</td>\n",
       "      <td>None</td>\n",
       "      <td>None</td>\n",
       "    </tr>\n",
       "    <tr>\n",
       "      <th>1</th>\n",
       "      <td>10000003</td>\n",
       "      <td>0</td>\n",
       "      <td>4614</td>\n",
       "      <td>Purdue University</td>\n",
       "      <td>None</td>\n",
       "      <td>None</td>\n",
       "      <td>None</td>\n",
       "    </tr>\n",
       "    <tr>\n",
       "      <th>2</th>\n",
       "      <td>10000003</td>\n",
       "      <td>37033</td>\n",
       "      <td>4615</td>\n",
       "      <td>Purdue University</td>\n",
       "      <td>None</td>\n",
       "      <td>None</td>\n",
       "      <td>None</td>\n",
       "    </tr>\n",
       "  </tbody>\n",
       "</table>\n",
       "</div>"
      ],
      "text/plain": [
       "   citation_ID  nanohub_user_id  author_id       organization orcid  \\\n",
       "0     10000003            10676       4613  Purdue University  None   \n",
       "1     10000003                0       4614  Purdue University  None   \n",
       "2     10000003            37033       4615  Purdue University  None   \n",
       "\n",
       "  research_id gscholar_id  \n",
       "0        None        None  \n",
       "1        None        None  \n",
       "2        None        None  "
      ]
     },
     "execution_count": 6,
     "metadata": {},
     "output_type": "execute_result"
    }
   ],
   "source": [
    "# combining authors and citations\n",
    "ac_df = pd.merge(citations_df[['id']], authors_df[['cid', 'uidNumber','id','organization','orcid','research_id','gscholar_id']], how='inner',\\\n",
    "                 left_on='id', right_on='cid', suffixes=['_c', '_a'])\\\n",
    "                .drop(columns='id_c')\n",
    "\n",
    "ac_df.rename(columns={'cid':'citation_ID', 'uidNumber':'nanohub_user_id', 'id_a':'author_id'}, inplace=True)\n",
    "\n",
    "# display\n",
    "ac_df.head(3)"
   ]
  },
  {
   "cell_type": "code",
   "execution_count": 7,
   "id": "9d58aebd",
   "metadata": {
    "execution": {
     "iopub.execute_input": "2021-10-18T12:51:54.947576Z",
     "iopub.status.busy": "2021-10-18T12:51:54.946865Z",
     "iopub.status.idle": "2021-10-18T12:54:41.506687Z",
     "shell.execute_reply": "2021-10-18T12:54:41.507187Z"
    },
    "jupyter": {
     "source_hidden": true
    },
    "papermill": {
     "duration": 166.634549,
     "end_time": "2021-10-18T12:54:41.507551",
     "exception": false,
     "start_time": "2021-10-18T12:51:54.873002",
     "status": "completed"
    },
    "tags": []
   },
   "outputs": [],
   "source": [
    "# Obtain company domain information from DB2\n",
    "domain_df = pd.read_sql_query(\"select name as domain_name, domain, industry, `size range` as size, country \\\n",
    "from wang159_myrmekes.companies_email_domain\", wang159_myrmekes_db)\n",
    "\n",
    "# make sure domain is unique and drop NaN\n",
    "domain_df = domain_df.drop_duplicates(subset='domain', keep='first')"
   ]
  },
  {
   "cell_type": "code",
   "execution_count": 8,
   "id": "af055604",
   "metadata": {
    "execution": {
     "iopub.execute_input": "2021-10-18T12:54:41.640079Z",
     "iopub.status.busy": "2021-10-18T12:54:41.639370Z",
     "iopub.status.idle": "2021-10-18T12:54:42.997023Z",
     "shell.execute_reply": "2021-10-18T12:54:42.997712Z"
    },
    "jupyter": {
     "source_hidden": true
    },
    "papermill": {
     "duration": 1.429875,
     "end_time": "2021-10-18T12:54:42.997984",
     "exception": false,
     "start_time": "2021-10-18T12:54:41.568109",
     "status": "completed"
    },
    "tags": []
   },
   "outputs": [],
   "source": [
    "import nltk\n",
    "#nltk.download('stopwords')\n",
    "\n",
    "from nltk.corpus import stopwords\n",
    "s_words = stopwords.words('english')"
   ]
  },
  {
   "cell_type": "code",
   "execution_count": 9,
   "id": "9c4192a3",
   "metadata": {
    "execution": {
     "iopub.execute_input": "2021-10-18T12:54:43.135799Z",
     "iopub.status.busy": "2021-10-18T12:54:43.134642Z",
     "iopub.status.idle": "2021-10-18T12:54:43.137230Z",
     "shell.execute_reply": "2021-10-18T12:54:43.137682Z"
    },
    "jupyter": {
     "source_hidden": true
    },
    "papermill": {
     "duration": 0.074588,
     "end_time": "2021-10-18T12:54:43.137880",
     "exception": false,
     "start_time": "2021-10-18T12:54:43.063292",
     "status": "completed"
    },
    "tags": []
   },
   "outputs": [],
   "source": [
    "import re\n",
    "\n",
    "def clean_domain(this_domain_name):\n",
    "    \n",
    "    if not this_domain_name:\n",
    "        return None\n",
    "    \n",
    "    # Replace all non-alphanumeric characters with space\n",
    "    this_domain_name = re.sub(\"[^0-9a-zA-Z]+\", \" \", this_domain_name.lower())\n",
    "    name_list = this_domain_name.split(' ')\n",
    "        \n",
    "    # remove all stop words\n",
    "    name_list = ['' if x in s_words else x for x in name_list]\n",
    "    \n",
    "    return set(filter(None, name_list))"
   ]
  },
  {
   "cell_type": "code",
   "execution_count": 10,
   "id": "76428150",
   "metadata": {
    "execution": {
     "iopub.execute_input": "2021-10-18T12:54:43.265569Z",
     "iopub.status.busy": "2021-10-18T12:54:43.264960Z",
     "iopub.status.idle": "2021-10-18T12:55:48.159850Z",
     "shell.execute_reply": "2021-10-18T12:55:48.160268Z"
    },
    "jupyter": {
     "source_hidden": true
    },
    "papermill": {
     "duration": 64.960935,
     "end_time": "2021-10-18T12:55:48.160450",
     "exception": false,
     "start_time": "2021-10-18T12:54:43.199515",
     "status": "completed"
    },
    "tags": []
   },
   "outputs": [],
   "source": [
    "# clean domain name\n",
    "domain_df['domain_cleaned_set'] = domain_df.domain_name.apply(clean_domain)\n",
    "\n",
    "# hash cleaned domain name\n",
    "domain_df['domain_cleaned_hash'] = domain_df['domain_cleaned_set'].apply(lambda x: '-'.join(sorted(list(x))) if x else None)"
   ]
  },
  {
   "cell_type": "code",
   "execution_count": 11,
   "id": "54066a5c",
   "metadata": {
    "execution": {
     "iopub.execute_input": "2021-10-18T12:55:48.328435Z",
     "iopub.status.busy": "2021-10-18T12:55:48.309245Z",
     "iopub.status.idle": "2021-10-18T12:55:48.445970Z",
     "shell.execute_reply": "2021-10-18T12:55:48.446408Z"
    },
    "jupyter": {
     "source_hidden": true
    },
    "papermill": {
     "duration": 0.221349,
     "end_time": "2021-10-18T12:55:48.446769",
     "exception": false,
     "start_time": "2021-10-18T12:55:48.225420",
     "status": "completed"
    },
    "tags": []
   },
   "outputs": [],
   "source": [
    "# clean domain name\n",
    "ac_df['domain_cleaned_set'] = ac_df.organization.apply(clean_domain)\n",
    "\n",
    "# hash cleaned domain name\n",
    "ac_df['domain_cleaned_hash'] = ac_df['domain_cleaned_set'].apply(lambda x: '-'.join(sorted(list(x))) if x else None)"
   ]
  },
  {
   "cell_type": "code",
   "execution_count": 12,
   "id": "f0b75617",
   "metadata": {
    "execution": {
     "iopub.execute_input": "2021-10-18T12:55:49.074771Z",
     "iopub.status.busy": "2021-10-18T12:55:49.074099Z",
     "iopub.status.idle": "2021-10-18T12:55:50.626657Z",
     "shell.execute_reply": "2021-10-18T12:55:50.627136Z"
    },
    "jupyter": {
     "source_hidden": true
    },
    "papermill": {
     "duration": 2.118964,
     "end_time": "2021-10-18T12:55:50.627460",
     "exception": false,
     "start_time": "2021-10-18T12:55:48.508496",
     "status": "completed"
    },
    "tags": []
   },
   "outputs": [],
   "source": [
    "# get domain subset that contains domain_cleaned_hash in authors_df\n",
    "domain_subset_df = domain_df[domain_df.domain_cleaned_hash.isin(ac_df.domain_cleaned_hash.unique())]\\\n",
    "                                        [['domain', 'domain_cleaned_hash']]\n",
    "domain_subset_df = domain_subset_df[domain_subset_df.domain.notnull()&domain_subset_df.domain_cleaned_hash.notnull()]\n",
    "\n",
    "domain_subset_all_df = domain_subset_df.rename(columns={'domain_cleaned_hash':'domain_hash'}).drop_duplicates()"
   ]
  },
  {
   "cell_type": "code",
   "execution_count": 13,
   "id": "4dbbb152",
   "metadata": {
    "execution": {
     "iopub.execute_input": "2021-10-18T12:55:50.772037Z",
     "iopub.status.busy": "2021-10-18T12:55:50.771487Z",
     "iopub.status.idle": "2021-10-18T12:55:50.795797Z",
     "shell.execute_reply": "2021-10-18T12:55:50.796409Z"
    },
    "jupyter": {
     "source_hidden": true
    },
    "papermill": {
     "duration": 0.104818,
     "end_time": "2021-10-18T12:55:50.796663",
     "exception": false,
     "start_time": "2021-10-18T12:55:50.691845",
     "status": "completed"
    },
    "tags": []
   },
   "outputs": [
    {
     "data": {
      "text/html": [
       "<div>\n",
       "<style scoped>\n",
       "    .dataframe tbody tr th:only-of-type {\n",
       "        vertical-align: middle;\n",
       "    }\n",
       "\n",
       "    .dataframe tbody tr th {\n",
       "        vertical-align: top;\n",
       "    }\n",
       "\n",
       "    .dataframe thead th {\n",
       "        text-align: right;\n",
       "    }\n",
       "</style>\n",
       "<table border=\"1\" class=\"dataframe\">\n",
       "  <thead>\n",
       "    <tr style=\"text-align: right;\">\n",
       "      <th></th>\n",
       "      <th>12737</th>\n",
       "      <th>15688</th>\n",
       "      <th>4496</th>\n",
       "      <th>10425</th>\n",
       "      <th>41</th>\n",
       "    </tr>\n",
       "  </thead>\n",
       "  <tbody>\n",
       "    <tr>\n",
       "      <th>citation_ID</th>\n",
       "      <td>881</td>\n",
       "      <td>2602</td>\n",
       "      <td>10001124</td>\n",
       "      <td>1445</td>\n",
       "      <td>10000010</td>\n",
       "    </tr>\n",
       "    <tr>\n",
       "      <th>nanohub_user_id</th>\n",
       "      <td>0</td>\n",
       "      <td>0</td>\n",
       "      <td>2862</td>\n",
       "      <td>0</td>\n",
       "      <td>3482</td>\n",
       "    </tr>\n",
       "    <tr>\n",
       "      <th>author_id</th>\n",
       "      <td>16844391</td>\n",
       "      <td>16841621</td>\n",
       "      <td>9054</td>\n",
       "      <td>16846453</td>\n",
       "      <td>4652</td>\n",
       "    </tr>\n",
       "    <tr>\n",
       "      <th>organization</th>\n",
       "      <td>Universite of Lille</td>\n",
       "      <td>Thermo Fisher Scientific Inc.</td>\n",
       "      <td>Purdue University</td>\n",
       "      <td>Univ. of Texas, Austin</td>\n",
       "      <td>Purdue University</td>\n",
       "    </tr>\n",
       "    <tr>\n",
       "      <th>orcid</th>\n",
       "      <td></td>\n",
       "      <td></td>\n",
       "      <td>None</td>\n",
       "      <td></td>\n",
       "      <td>None</td>\n",
       "    </tr>\n",
       "    <tr>\n",
       "      <th>research_id</th>\n",
       "      <td></td>\n",
       "      <td></td>\n",
       "      <td>None</td>\n",
       "      <td></td>\n",
       "      <td>None</td>\n",
       "    </tr>\n",
       "    <tr>\n",
       "      <th>gscholar_id</th>\n",
       "      <td></td>\n",
       "      <td></td>\n",
       "      <td>None</td>\n",
       "      <td></td>\n",
       "      <td>None</td>\n",
       "    </tr>\n",
       "    <tr>\n",
       "      <th>domain_cleaned_set</th>\n",
       "      <td>{lille, universite}</td>\n",
       "      <td>{thermo, inc, scientific, fisher}</td>\n",
       "      <td>{purdue, university}</td>\n",
       "      <td>{texas, univ, austin}</td>\n",
       "      <td>{purdue, university}</td>\n",
       "    </tr>\n",
       "    <tr>\n",
       "      <th>domain_cleaned_hash</th>\n",
       "      <td>lille-universite</td>\n",
       "      <td>fisher-inc-scientific-thermo</td>\n",
       "      <td>purdue-university</td>\n",
       "      <td>austin-texas-univ</td>\n",
       "      <td>purdue-university</td>\n",
       "    </tr>\n",
       "    <tr>\n",
       "      <th>domain_by_citation</th>\n",
       "      <td>NaN</td>\n",
       "      <td>NaN</td>\n",
       "      <td>purdue.edu</td>\n",
       "      <td>NaN</td>\n",
       "      <td>purdue.edu</td>\n",
       "    </tr>\n",
       "  </tbody>\n",
       "</table>\n",
       "</div>"
      ],
      "text/plain": [
       "                                   12737                              15688  \\\n",
       "citation_ID                          881                               2602   \n",
       "nanohub_user_id                        0                                  0   \n",
       "author_id                       16844391                           16841621   \n",
       "organization         Universite of Lille      Thermo Fisher Scientific Inc.   \n",
       "orcid                                                                         \n",
       "research_id                                                                   \n",
       "gscholar_id                                                                   \n",
       "domain_cleaned_set   {lille, universite}  {thermo, inc, scientific, fisher}   \n",
       "domain_cleaned_hash     lille-universite       fisher-inc-scientific-thermo   \n",
       "domain_by_citation                   NaN                                NaN   \n",
       "\n",
       "                                    4496                    10425  \\\n",
       "citation_ID                      10001124                    1445   \n",
       "nanohub_user_id                      2862                       0   \n",
       "author_id                            9054                16846453   \n",
       "organization            Purdue University  Univ. of Texas, Austin   \n",
       "orcid                                None                           \n",
       "research_id                          None                           \n",
       "gscholar_id                          None                           \n",
       "domain_cleaned_set   {purdue, university}   {texas, univ, austin}   \n",
       "domain_cleaned_hash     purdue-university       austin-texas-univ   \n",
       "domain_by_citation             purdue.edu                     NaN   \n",
       "\n",
       "                                    41     \n",
       "citation_ID                      10000010  \n",
       "nanohub_user_id                      3482  \n",
       "author_id                            4652  \n",
       "organization            Purdue University  \n",
       "orcid                                None  \n",
       "research_id                          None  \n",
       "gscholar_id                          None  \n",
       "domain_cleaned_set   {purdue, university}  \n",
       "domain_cleaned_hash     purdue-university  \n",
       "domain_by_citation             purdue.edu  "
      ]
     },
     "execution_count": 13,
     "metadata": {},
     "output_type": "execute_result"
    }
   ],
   "source": [
    "# attempt direct join by hash\n",
    "derived_authors_df = pd.merge(ac_df, domain_subset_all_df\\\n",
    "                              ,how='left', left_on='domain_cleaned_hash', right_on='domain_hash')\\\n",
    "                              .drop('domain_hash', axis=1)\\\n",
    "                              .rename(columns={'domain':'domain_by_citation'})\n",
    "\n",
    "# display\n",
    "derived_authors_df.sample(5).T"
   ]
  },
  {
   "cell_type": "code",
   "execution_count": 14,
   "id": "e5ecc04a",
   "metadata": {
    "execution": {
     "iopub.execute_input": "2021-10-18T12:55:50.976863Z",
     "iopub.status.busy": "2021-10-18T12:55:50.931522Z",
     "iopub.status.idle": "2021-10-18T12:55:51.276741Z",
     "shell.execute_reply": "2021-10-18T12:55:51.277228Z"
    },
    "jupyter": {
     "source_hidden": true
    },
    "papermill": {
     "duration": 0.414306,
     "end_time": "2021-10-18T12:55:51.277618",
     "exception": false,
     "start_time": "2021-10-18T12:55:50.863312",
     "status": "completed"
    },
    "tags": []
   },
   "outputs": [
    {
     "ename": "TypeError",
     "evalue": "unhashable type: 'set'",
     "output_type": "error",
     "traceback": [
      "\u001b[0;31m---------------------------------------------------------------------------\u001b[0m",
      "\u001b[0;31mTypeError\u001b[0m                                 Traceback (most recent call last)",
      "\u001b[0;32mpandas/_libs/hashtable_class_helper.pxi\u001b[0m in \u001b[0;36mpandas._libs.hashtable.PyObjectHashTable.map_locations\u001b[0;34m()\u001b[0m\n",
      "\u001b[0;31mTypeError\u001b[0m: unhashable type: 'set'"
     ]
    },
    {
     "name": "stderr",
     "output_type": "stream",
     "text": [
      "Exception ignored in: 'pandas._libs.index.IndexEngine._call_map_locations'\n",
      "Traceback (most recent call last):\n",
      "  File \"pandas/_libs/hashtable_class_helper.pxi\", line 5231, in pandas._libs.hashtable.PyObjectHashTable.map_locations\n",
      "TypeError: unhashable type: 'set'\n"
     ]
    },
    {
     "data": {
      "text/plain": [
       "{south, new, university, wales}                                           263\n",
       "{institute, technology, california}                                       229\n",
       "{technology, delft, university}                                           153\n",
       "{systems, raytheon}                                                       103\n",
       "{state, pennsylvania, university}                                          96\n",
       "                                                                         ... \n",
       "{dhirubhai, technology, information, institute, communication, ambani}      1\n",
       "{technical, college, forsyth}                                               1\n",
       "{institute, science, technology, nano}                                      1\n",
       "{inc, facebook}                                                             1\n",
       "{republic, academy, institute, physics, sciences, czech}                    1\n",
       "Name: domain_cleaned_set, Length: 965, dtype: int64"
      ]
     },
     "execution_count": 14,
     "metadata": {},
     "output_type": "execute_result"
    }
   ],
   "source": [
    "# rank the nanoHUB profile institutions that cannot be directly matched by occurance\n",
    "\n",
    "derived_authors_subset_df = derived_authors_df[(derived_authors_df.domain_cleaned_hash.notnull() \\\n",
    "                                                                & derived_authors_df.domain_by_citation.isna())]\n",
    "\n",
    "most_common_sets = derived_authors_subset_df.domain_cleaned_set.value_counts()\n",
    "\n",
    "# display\n",
    "most_common_sets.sort_values(ascending=False)"
   ]
  },
  {
   "cell_type": "code",
   "execution_count": 15,
   "id": "a6c15408",
   "metadata": {
    "execution": {
     "iopub.execute_input": "2021-10-18T12:55:51.721050Z",
     "iopub.status.busy": "2021-10-18T12:55:51.720506Z",
     "iopub.status.idle": "2021-10-18T12:55:55.693247Z",
     "shell.execute_reply": "2021-10-18T12:55:55.693671Z"
    },
    "jupyter": {
     "source_hidden": true
    },
    "papermill": {
     "duration": 4.289243,
     "end_time": "2021-10-18T12:55:55.693928",
     "exception": false,
     "start_time": "2021-10-18T12:55:51.404685",
     "status": "completed"
    },
    "tags": []
   },
   "outputs": [],
   "source": [
    "# attempt to reduce domain_df size to speedup Jaccard calculation\n",
    "from itertools import chain\n",
    "\n",
    "all_word_set = set(chain.from_iterable(derived_authors_subset_df.domain_cleaned_set.values))\n",
    "\n",
    "# select the domain_df entry with words from all_word_set\n",
    "domain_subset_df = domain_df[domain_df.domain_cleaned_set.notnull()]\n",
    "domain_subset_df = domain_subset_df[domain_subset_df.domain_cleaned_set\\\n",
    "                             .apply(lambda x: True if len(x.intersection(all_word_set)) > 0 else False)]\n",
    "\n",
    "domain_subset_df = domain_subset_df[['domain_cleaned_set', 'domain']]"
   ]
  },
  {
   "cell_type": "code",
   "execution_count": 16,
   "id": "17cb0b90",
   "metadata": {
    "execution": {
     "iopub.execute_input": "2021-10-18T12:55:55.836998Z",
     "iopub.status.busy": "2021-10-18T12:55:55.836091Z"
    },
    "jupyter": {
     "source_hidden": true
    },
    "papermill": {
     "duration": 2012.429972,
     "end_time": "2021-10-18T13:29:28.192235",
     "exception": false,
     "start_time": "2021-10-18T12:55:55.762263",
     "status": "completed"
    },
    "tags": []
   },
   "outputs": [],
   "source": [
    "# Time consuming part: calculating Jaccard similarity score\n",
    "def get_jaccard_score(a,b):\n",
    "    \n",
    "    if (not a) & (not b):\n",
    "        return 0\n",
    "    \n",
    "    score = len(a.intersection(b))/len(a.union(b))\n",
    "    \n",
    "    return score\n",
    "\n",
    "\n",
    "for this_set in most_common_sets.index:\n",
    "    # calculate the Jaccard similarity\n",
    "    max_index = domain_subset_df.domain_cleaned_set.apply(lambda x: get_jaccard_score(x, this_set)).idxmax()\n",
    "\n",
    "    derived_authors_df.loc[derived_authors_df.domain_cleaned_set == this_set, 'domain_by_citation'] \\\n",
    "                = domain_subset_df.loc[max_index, 'domain']"
   ]
  },
  {
   "cell_type": "code",
   "execution_count": null,
   "id": "86c1c6c5",
   "metadata": {
    "jupyter": {
     "source_hidden": true
    },
    "papermill": {
     "duration": null,
     "end_time": null,
     "exception": null,
     "start_time": null,
     "status": "pending"
    },
    "tags": []
   },
   "outputs": [],
   "source": [
    "# display\n",
    "derived_authors_df.sample(5).T"
   ]
  },
  {
   "cell_type": "markdown",
   "id": "577672de",
   "metadata": {
    "papermill": {
     "duration": null,
     "end_time": null,
     "exception": null,
     "start_time": null,
     "status": "pending"
    },
    "tags": []
   },
   "source": [
    "## Obtain Salesforce IDs"
   ]
  },
  {
   "cell_type": "code",
   "execution_count": null,
   "id": "0754ac08",
   "metadata": {
    "collapsed": false,
    "jupyter": {
     "source_hidden": true
    },
    "papermill": {
     "duration": null,
     "end_time": null,
     "exception": null,
     "start_time": null,
     "status": "pending"
    },
    "pycharm": {
     "name": "#%%\n"
    },
    "tags": []
   },
   "outputs": [],
   "source": [
    "# create DB2 to Salesforce API object\n",
    "db_s = salesforce"
   ]
  },
  {
   "cell_type": "code",
   "execution_count": null,
   "id": "4fabf271",
   "metadata": {
    "jupyter": {
     "source_hidden": true
    },
    "papermill": {
     "duration": null,
     "end_time": null,
     "exception": null,
     "start_time": null,
     "status": "pending"
    },
    "tags": []
   },
   "outputs": [],
   "source": [
    "# query the Salesforce IDs for contacts and citations. when updating junction objects, these IDs must be used\n",
    "\n",
    "# get Salesforce ID for contacts\n",
    "sf_userID_df = db_s.query_data('SELECT Id, nanoHUB_user_ID__c FROM Contact where nanoHUB_user_ID__c != NULL')\n",
    "\n",
    "sf_userID_df['nanoHUB_user_ID__c'] = sf_userID_df['nanoHUB_user_ID__c'].astype('int')"
   ]
  },
  {
   "cell_type": "code",
   "execution_count": null,
   "id": "84c7215d",
   "metadata": {
    "jupyter": {
     "source_hidden": true
    },
    "papermill": {
     "duration": null,
     "end_time": null,
     "exception": null,
     "start_time": null,
     "status": "pending"
    },
    "scrolled": true,
    "tags": []
   },
   "outputs": [],
   "source": [
    "# get Salesforce ID for citations\n",
    "sf_citationID_df = db_s.query_data('SELECT Id, Record_ID__c FROM nanoHUB_citations__c')\n",
    "\n",
    "sf_citationID_df['Record_ID__c'] = sf_citationID_df['Record_ID__c'].astype('int')"
   ]
  },
  {
   "cell_type": "code",
   "execution_count": null,
   "id": "34149be1",
   "metadata": {
    "jupyter": {
     "source_hidden": true
    },
    "papermill": {
     "duration": null,
     "end_time": null,
     "exception": null,
     "start_time": null,
     "status": "pending"
    },
    "tags": []
   },
   "outputs": [],
   "source": [
    "# get Salesforce ID for organizations\n",
    "sf_orgID_df = db_s.query_data('SELECT Id, Domain__c FROM organization__c')"
   ]
  },
  {
   "cell_type": "markdown",
   "id": "d0cc37b3",
   "metadata": {
    "papermill": {
     "duration": null,
     "end_time": null,
     "exception": null,
     "start_time": null,
     "status": "pending"
    },
    "tags": []
   },
   "source": [
    "## Match data with Salesforce format"
   ]
  },
  {
   "cell_type": "code",
   "execution_count": null,
   "id": "632c3e15",
   "metadata": {
    "jupyter": {
     "source_hidden": true
    },
    "papermill": {
     "duration": null,
     "end_time": null,
     "exception": null,
     "start_time": null,
     "status": "pending"
    },
    "tags": []
   },
   "outputs": [],
   "source": [
    "# valid citation - nanohub user links\n",
    "ac_tolink_df = derived_authors_df[derived_authors_df.nanohub_user_id != 0]\n",
    "\n",
    "display(ac_tolink_df.head(2))\n",
    "display(sf_citationID_df.head(2))\n",
    "display(sf_userID_df.head(2))\n",
    "display(sf_orgID_df.head(2))"
   ]
  },
  {
   "cell_type": "code",
   "execution_count": null,
   "id": "56c2aee8",
   "metadata": {
    "jupyter": {
     "source_hidden": true
    },
    "papermill": {
     "duration": null,
     "end_time": null,
     "exception": null,
     "start_time": null,
     "status": "pending"
    },
    "tags": []
   },
   "outputs": [],
   "source": [
    "# merge SF citation and contact IDs into user-citation DF\n",
    "ac_tolink_df = pd.merge(ac_tolink_df, sf_citationID_df, how='inner', left_on='citation_ID', right_on='Record_ID__c')\\\n",
    "                           .rename(columns={'Id':'SF_ID_citation'})\n",
    "                                            \n",
    "ac_tolink_df = pd.merge(ac_tolink_df, sf_userID_df, how='inner', left_on='nanohub_user_id', right_on='nanoHUB_user_ID__c')\\\n",
    "                           .rename(columns={'Id':'SF_ID_contact'})\n",
    "\n",
    "ac_tolink_df = pd.merge(ac_tolink_df, sf_orgID_df, how='left', left_on='domain_by_citation', right_on='Domain__c')\\\n",
    "                           .rename(columns={'Id':'SF_ID_organization'})\n",
    "\n",
    "# display\n",
    "ac_tolink_df.head(2)"
   ]
  },
  {
   "cell_type": "code",
   "execution_count": null,
   "id": "a3c41067",
   "metadata": {
    "jupyter": {
     "source_hidden": true
    },
    "papermill": {
     "duration": null,
     "end_time": null,
     "exception": null,
     "start_time": null,
     "status": "pending"
    },
    "tags": []
   },
   "outputs": [],
   "source": [
    "# create a new column for object name\n",
    "ac_tolink_df['Name'] = ac_tolink_df.apply(lambda x: '%d_%d'%(x.nanoHUB_user_ID__c, x.Record_ID__c), axis=1)"
   ]
  },
  {
   "cell_type": "code",
   "execution_count": null,
   "id": "3046feaa",
   "metadata": {
    "jupyter": {
     "source_hidden": true
    },
    "papermill": {
     "duration": null,
     "end_time": null,
     "exception": null,
     "start_time": null,
     "status": "pending"
    },
    "tags": []
   },
   "outputs": [],
   "source": [
    "df_sf = pd.DataFrame()\n",
    "\n",
    "# Make sure NaN and NaT values are taken care of here\n",
    "df_sf['Name']         = ac_tolink_df['Name']\n",
    "df_sf['Contact__c'] = ac_tolink_df['SF_ID_contact']\n",
    "df_sf['Citation__c'] = ac_tolink_df['SF_ID_citation']\n",
    "\n",
    "df_sf['gscholar_id__c'] = ac_tolink_df['gscholar_id'].fillna('')\n",
    "df_sf['ORCID__c'] = ac_tolink_df['orcid'].fillna('')\n",
    "df_sf['Organization__c'] = ac_tolink_df['SF_ID_organization']\n",
    "df_sf['Organization_nanohub__c'] = ac_tolink_df['organization'].fillna('')\n",
    "df_sf['research_id__c'] = ac_tolink_df['research_id'].fillna('')\n",
    "\n",
    "sf_original_fields = df_sf.columns\n",
    "\n",
    "# display\n",
    "df_sf.head(2).T"
   ]
  },
  {
   "cell_type": "markdown",
   "id": "0691cbd5",
   "metadata": {
    "papermill": {
     "duration": null,
     "end_time": null,
     "exception": null,
     "start_time": null,
     "status": "pending"
    },
    "tags": []
   },
   "source": [
    "## To Salesforce Sales Cloud CRM"
   ]
  },
  {
   "cell_type": "code",
   "execution_count": null,
   "id": "b9876018",
   "metadata": {
    "jupyter": {
     "source_hidden": true
    },
    "papermill": {
     "duration": null,
     "end_time": null,
     "exception": null,
     "start_time": null,
     "status": "pending"
    },
    "tags": []
   },
   "outputs": [],
   "source": [
    "# create DB2 to Salesforce API object\n",
    "db_s = salesforce\n",
    "\n",
    "# specify Salesforce object ID and external ID\n",
    "db_s.object_id = 'contact_citation_asso__c'\n",
    "db_s.external_id = 'Name'"
   ]
  },
  {
   "cell_type": "code",
   "execution_count": null,
   "id": "0724a131",
   "metadata": {
    "jupyter": {
     "source_hidden": true
    },
    "papermill": {
     "duration": null,
     "end_time": null,
     "exception": null,
     "start_time": null,
     "status": "pending"
    },
    "tags": []
   },
   "outputs": [],
   "source": [
    "# send data to Salesforce\n",
    "db_s.send_data(df_sf)"
   ]
  },
  {
   "cell_type": "code",
   "execution_count": null,
   "id": "03e4dce1",
   "metadata": {
    "jupyter": {
     "source_hidden": true
    },
    "papermill": {
     "duration": null,
     "end_time": null,
     "exception": null,
     "start_time": null,
     "status": "pending"
    },
    "tags": []
   },
   "outputs": [],
   "source": [
    "# check status\n",
    "from pprint import pprint\n",
    "\n",
    "pprint(db_s.check_bulk_status())"
   ]
  },
  {
   "cell_type": "code",
   "execution_count": null,
   "id": "a97b01d6",
   "metadata": {
    "jupyter": {
     "source_hidden": true
    },
    "papermill": {
     "duration": null,
     "end_time": null,
     "exception": null,
     "start_time": null,
     "status": "pending"
    },
    "tags": []
   },
   "outputs": [],
   "source": [
    "# check status\n",
    "from pprint import pprint\n",
    "\n",
    "pprint(db_s.check_bulk_failed_results())"
   ]
  },
  {
   "cell_type": "code",
   "execution_count": null,
   "id": "5f2e95ae",
   "metadata": {
    "jupyter": {
     "source_hidden": true
    },
    "papermill": {
     "duration": null,
     "end_time": null,
     "exception": null,
     "start_time": null,
     "status": "pending"
    },
    "tags": []
   },
   "outputs": [],
   "source": []
  },
  {
   "cell_type": "code",
   "execution_count": null,
   "id": "d94bee78",
   "metadata": {
    "jupyter": {
     "source_hidden": true
    },
    "papermill": {
     "duration": null,
     "end_time": null,
     "exception": null,
     "start_time": null,
     "status": "pending"
    },
    "tags": []
   },
   "outputs": [],
   "source": []
  }
 ],
 "metadata": {
  "celltoolbar": "Tags",
  "kernelspec": {
   "display_name": "Python 3",
   "language": "python",
   "name": "python3"
  },
  "language_info": {
   "codemirror_mode": {
    "name": "ipython",
    "version": 3
   },
   "file_extension": ".py",
   "mimetype": "text/x-python",
   "name": "python",
   "nbconvert_exporter": "python",
   "pygments_lexer": "ipython3",
   "version": "3.9.2"
  },
  "papermill": {
   "duration": null,
   "end_time": null,
   "environment_variables": {},
   "exception": null,
   "input_path": "/Users/saxenap/Documents/Dev/nanoHUB/nanoHUB/pipeline/salesforce/task_citations_map_contacts.ipynb",
   "output_path": "./.output/task_citations_map_contacts.ipynb",
   "parameters": {},
   "start_time": "2021-10-18T12:51:45.845482",
   "version": "2.1.1"
  }
 },
 "nbformat": 4,
 "nbformat_minor": 5
}