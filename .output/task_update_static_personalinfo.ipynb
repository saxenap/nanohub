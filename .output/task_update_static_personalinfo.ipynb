{
 "cells": [
  {
   "cell_type": "markdown",
   "id": "674e4e17",
   "metadata": {
    "papermill": {
     "duration": 0.040807,
     "end_time": "2021-08-26T04:52:34.669555",
     "exception": false,
     "start_time": "2021-08-26T04:52:34.628748",
     "status": "completed"
    },
    "tags": []
   },
   "source": [
    "# DB2-Salesforce connector: updates all of the personalized questions from jos_user_profiles"
   ]
  },
  {
   "cell_type": "code",
   "execution_count": 1,
   "id": "62c32c7d",
   "metadata": {
    "execution": {
     "iopub.execute_input": "2021-08-26T04:52:34.771985Z",
     "iopub.status.busy": "2021-08-26T04:52:34.770630Z",
     "iopub.status.idle": "2021-08-26T04:52:36.972515Z",
     "shell.execute_reply": "2021-08-26T04:52:36.973297Z"
    },
    "jupyter": {
     "source_hidden": true
    },
    "papermill": {
     "duration": 2.257725,
     "end_time": "2021-08-26T04:52:36.973636",
     "exception": false,
     "start_time": "2021-08-26T04:52:34.715911",
     "status": "completed"
    },
    "tags": []
   },
   "outputs": [
    {
     "name": "stdout",
     "output_type": "stream",
     "text": [
      "\u001b[1mnanoHUB - Serving Students, Researchers & Instructors\u001b[0m\n"
     ]
    },
    {
     "name": "stderr",
     "output_type": "stream",
     "text": [
      "2021-08-26 00:52:36,246| INFO    | 0 keys loaded from agent\n"
     ]
    },
    {
     "name": "stdout",
     "output_type": "stream",
     "text": [
      "2021-08-26 00:52:36,246 - [INFO] sshtunnel.SSHTunnelForwarder [sshtunnel.get_agent_keys:1060]: 0 keys loaded from agent\n"
     ]
    },
    {
     "name": "stderr",
     "output_type": "stream",
     "text": [
      "2021-08-26 00:52:36,250| INFO    | 0 key(s) loaded\n"
     ]
    },
    {
     "name": "stdout",
     "output_type": "stream",
     "text": [
      "2021-08-26 00:52:36,250 - [INFO] sshtunnel.SSHTunnelForwarder [sshtunnel.get_keys:1117]: 0 key(s) loaded\n"
     ]
    },
    {
     "name": "stderr",
     "output_type": "stream",
     "text": [
      "2021-08-26 00:52:36,252| INFO    | Connecting to gateway: db2.nanohub.org:22 as user 'saxenap'\n"
     ]
    },
    {
     "name": "stdout",
     "output_type": "stream",
     "text": [
      "2021-08-26 00:52:36,252 - [INFO] sshtunnel.SSHTunnelForwarder [sshtunnel.__init__:978]: Connecting to gateway: db2.nanohub.org:22 as user 'saxenap'\n"
     ]
    },
    {
     "name": "stdout",
     "output_type": "stream",
     "text": [
      "2021-08-26 00:52:36,254 - [\u001b[1mINFO\u001b[0m] \u001b[1mnanoHUB.containers.dataaccess\u001b[0m [connection.get_connection_for:101]: Started SSH Tunnel with db2.nanohub.org\n"
     ]
    },
    {
     "name": "stderr",
     "output_type": "stream",
     "text": [
      "2021-08-26 00:52:36,567| INFO    | Opening tunnel: 0.0.0.0:54923 <> 127.0.0.1:3306\n"
     ]
    },
    {
     "name": "stdout",
     "output_type": "stream",
     "text": [
      "2021-08-26 00:52:36,567 - [INFO] sshtunnel.SSHTunnelForwarder [sshtunnel._serve_forever_wrapper:1433]: Opening tunnel: 0.0.0.0:54923 <> 127.0.0.1:3306\n"
     ]
    },
    {
     "name": "stdout",
     "output_type": "stream",
     "text": [
      "Obtained Salesforce access token ...... True\n"
     ]
    }
   ],
   "source": [
    "# Parameters\n",
    "# API settings\n",
    "api_url = '/services/data/v43.0/sobjects'\n",
    "external_id = 'nanoHUB_user_ID__c'\n",
    "object_id = 'Contact'\n",
    "\n",
    "# login parameters to be handled by Papermill\n",
    "from nanoHUB.application import Application\n",
    "\n",
    "application = Application.get_instance()\n",
    "nanohub_db = application.new_db_engine('nanohub')\n",
    "\n",
    "salesforce = application.new_salesforce_engine()\n",
    "db_s = salesforce"
   ]
  },
  {
   "cell_type": "code",
   "execution_count": 2,
   "id": "578c901d",
   "metadata": {
    "collapsed": false,
    "execution": {
     "iopub.execute_input": "2021-08-26T04:52:37.105244Z",
     "iopub.status.busy": "2021-08-26T04:52:37.104371Z",
     "iopub.status.idle": "2021-08-26T04:52:37.106865Z",
     "shell.execute_reply": "2021-08-26T04:52:37.107534Z"
    },
    "jupyter": {
     "source_hidden": true
    },
    "papermill": {
     "duration": 0.063666,
     "end_time": "2021-08-26T04:52:37.107718",
     "exception": false,
     "start_time": "2021-08-26T04:52:37.044052",
     "status": "completed"
    },
    "pycharm": {
     "name": "#%%\n"
    },
    "tags": []
   },
   "outputs": [],
   "source": [
    "import pandas as pd\n",
    "import datetime"
   ]
  },
  {
   "cell_type": "markdown",
   "id": "e6159357",
   "metadata": {
    "papermill": {
     "duration": 0.053544,
     "end_time": "2021-08-26T04:52:37.215731",
     "exception": false,
     "start_time": "2021-08-26T04:52:37.162187",
     "status": "completed"
    },
    "tags": []
   },
   "source": [
    "## Get the latest email opt in/out data from DB2\n"
   ]
  },
  {
   "cell_type": "code",
   "execution_count": 3,
   "id": "32fef0a4",
   "metadata": {
    "execution": {
     "iopub.execute_input": "2021-08-26T04:52:37.329972Z",
     "iopub.status.busy": "2021-08-26T04:52:37.328575Z",
     "iopub.status.idle": "2021-08-26T04:52:37.331321Z",
     "shell.execute_reply": "2021-08-26T04:52:37.330873Z"
    },
    "jupyter": {
     "source_hidden": true
    },
    "papermill": {
     "duration": 0.057557,
     "end_time": "2021-08-26T04:52:37.331495",
     "exception": false,
     "start_time": "2021-08-26T04:52:37.273938",
     "status": "completed"
    },
    "tags": []
   },
   "outputs": [],
   "source": [
    "# connect with DB2"
   ]
  },
  {
   "cell_type": "code",
   "execution_count": 4,
   "id": "97a172ca",
   "metadata": {
    "execution": {
     "iopub.execute_input": "2021-08-26T04:52:37.447726Z",
     "iopub.status.busy": "2021-08-26T04:52:37.446630Z",
     "iopub.status.idle": "2021-08-26T04:52:50.393355Z",
     "shell.execute_reply": "2021-08-26T04:52:50.392841Z"
    },
    "jupyter": {
     "source_hidden": true
    },
    "papermill": {
     "duration": 13.005028,
     "end_time": "2021-08-26T04:52:50.393535",
     "exception": false,
     "start_time": "2021-08-26T04:52:37.388507",
     "status": "completed"
    },
    "tags": []
   },
   "outputs": [],
   "source": [
    "# get user motivations to join NH\n",
    "reasons = pd.read_sql_query(\"select id, user_id, profile_key, profile_value from jos_user_profiles \\\n",
    "where profile_key in ('reason') order by user_id desc;\",nanohub_db) #limit 5000 per night in the future\n",
    "\n",
    "how_hear = pd.read_sql_query(\"select id, user_id, profile_key, profile_value from jos_user_profiles \\\n",
    "where profile_key in ('howdidyouhear') order by user_id desc;\",nanohub_db)\n",
    "\n",
    "purpose = pd.read_sql_query(\"select id, user_id, profile_key, profile_value from jos_user_profiles \\\n",
    "where profile_key in ('purposeofvisit') order by user_id desc;\",nanohub_db)\n",
    "\n",
    "gender = pd.read_sql_query(\"select id, user_id, profile_key, profile_value from jos_user_profiles \\\n",
    "where profile_key in ('gender') order by user_id desc;\",nanohub_db)\n",
    "\n",
    "native =  pd.read_sql_query(\"select id, user_id, profile_key, profile_value from jos_user_profiles \\\n",
    "where profile_key in ('nativeTribe') order by user_id desc;\",nanohub_db)\n",
    "\n",
    "hispanic =  pd.read_sql_query(\"select id, user_id, profile_key, profile_value from jos_user_profiles \\\n",
    "where profile_key in ('hispanic') order by user_id desc;\",nanohub_db)\n",
    "\n",
    "disability =  pd.read_sql_query(\"select id, user_id, profile_key, profile_value from jos_user_profiles \\\n",
    "where profile_key in ('disability') order by user_id desc;\",nanohub_db)\n",
    "\n",
    "race =  pd.read_sql_query(\"select id, user_id, profile_key, profile_value from jos_user_profiles \\\n",
    "where profile_key in ('race') order by user_id desc;\",nanohub_db)"
   ]
  },
  {
   "cell_type": "code",
   "execution_count": 5,
   "id": "22456772",
   "metadata": {
    "execution": {
     "iopub.execute_input": "2021-08-26T04:52:50.489755Z",
     "iopub.status.busy": "2021-08-26T04:52:50.488880Z",
     "iopub.status.idle": "2021-08-26T04:52:50.492626Z",
     "shell.execute_reply": "2021-08-26T04:52:50.493014Z"
    },
    "jupyter": {
     "source_hidden": true
    },
    "papermill": {
     "duration": 0.054006,
     "end_time": "2021-08-26T04:52:50.493214",
     "exception": false,
     "start_time": "2021-08-26T04:52:50.439208",
     "status": "completed"
    },
    "tags": []
   },
   "outputs": [
    {
     "name": "stdout",
     "output_type": "stream",
     "text": [
      "(54027, 4)\n",
      "(69530, 4)\n",
      "(69550, 4)\n",
      "(78523, 4)\n",
      "(373, 4)\n",
      "(58762, 4)\n",
      "(64404, 4)\n",
      "(34203, 4)\n"
     ]
    }
   ],
   "source": [
    "print(reasons.shape)\n",
    "print(how_hear.shape)\n",
    "print(purpose.shape)\n",
    "print(gender.shape)\n",
    "print(native.shape)\n",
    "print(hispanic.shape)\n",
    "print(disability.shape)\n",
    "print(race.shape)"
   ]
  },
  {
   "cell_type": "code",
   "execution_count": 6,
   "id": "33919b62",
   "metadata": {
    "execution": {
     "iopub.execute_input": "2021-08-26T04:52:50.593714Z",
     "iopub.status.busy": "2021-08-26T04:52:50.593068Z",
     "iopub.status.idle": "2021-08-26T04:52:50.632365Z",
     "shell.execute_reply": "2021-08-26T04:52:50.632848Z"
    },
    "jupyter": {
     "source_hidden": true
    },
    "papermill": {
     "duration": 0.093821,
     "end_time": "2021-08-26T04:52:50.633097",
     "exception": false,
     "start_time": "2021-08-26T04:52:50.539276",
     "status": "completed"
    },
    "tags": []
   },
   "outputs": [
    {
     "data": {
      "text/html": [
       "<div>\n",
       "<style scoped>\n",
       "    .dataframe tbody tr th:only-of-type {\n",
       "        vertical-align: middle;\n",
       "    }\n",
       "\n",
       "    .dataframe tbody tr th {\n",
       "        vertical-align: top;\n",
       "    }\n",
       "\n",
       "    .dataframe thead th {\n",
       "        text-align: right;\n",
       "    }\n",
       "</style>\n",
       "<table border=\"1\" class=\"dataframe\">\n",
       "  <thead>\n",
       "    <tr style=\"text-align: right;\">\n",
       "      <th></th>\n",
       "      <th>id</th>\n",
       "      <th>user_id</th>\n",
       "      <th>profile_key</th>\n",
       "      <th>profile_value</th>\n",
       "    </tr>\n",
       "  </thead>\n",
       "  <tbody>\n",
       "    <tr>\n",
       "      <th>0</th>\n",
       "      <td>2173221</td>\n",
       "      <td>336248</td>\n",
       "      <td>reason</td>\n",
       "      <td>Using simulation tools for research</td>\n",
       "    </tr>\n",
       "    <tr>\n",
       "      <th>1</th>\n",
       "      <td>2173222</td>\n",
       "      <td>336236</td>\n",
       "      <td>reason</td>\n",
       "      <td>Required for class</td>\n",
       "    </tr>\n",
       "  </tbody>\n",
       "</table>\n",
       "</div>"
      ],
      "text/plain": [
       "        id  user_id profile_key                        profile_value\n",
       "0  2173221   336248      reason  Using simulation tools for research\n",
       "1  2173222   336236      reason                   Required for class"
      ]
     },
     "metadata": {},
     "output_type": "display_data"
    },
    {
     "data": {
      "text/html": [
       "<div>\n",
       "<style scoped>\n",
       "    .dataframe tbody tr th:only-of-type {\n",
       "        vertical-align: middle;\n",
       "    }\n",
       "\n",
       "    .dataframe tbody tr th {\n",
       "        vertical-align: top;\n",
       "    }\n",
       "\n",
       "    .dataframe thead th {\n",
       "        text-align: right;\n",
       "    }\n",
       "</style>\n",
       "<table border=\"1\" class=\"dataframe\">\n",
       "  <thead>\n",
       "    <tr style=\"text-align: right;\">\n",
       "      <th></th>\n",
       "      <th>id</th>\n",
       "      <th>user_id</th>\n",
       "      <th>profile_key</th>\n",
       "      <th>profile_value</th>\n",
       "    </tr>\n",
       "  </thead>\n",
       "  <tbody>\n",
       "    <tr>\n",
       "      <th>0</th>\n",
       "      <td>2173268</td>\n",
       "      <td>336335</td>\n",
       "      <td>howdidyouhear</td>\n",
       "      <td>From an instructor</td>\n",
       "    </tr>\n",
       "    <tr>\n",
       "      <th>1</th>\n",
       "      <td>2173254</td>\n",
       "      <td>336333</td>\n",
       "      <td>howdidyouhear</td>\n",
       "      <td>From another website</td>\n",
       "    </tr>\n",
       "  </tbody>\n",
       "</table>\n",
       "</div>"
      ],
      "text/plain": [
       "        id  user_id    profile_key         profile_value\n",
       "0  2173268   336335  howdidyouhear    From an instructor\n",
       "1  2173254   336333  howdidyouhear  From another website"
      ]
     },
     "metadata": {},
     "output_type": "display_data"
    },
    {
     "data": {
      "text/html": [
       "<div>\n",
       "<style scoped>\n",
       "    .dataframe tbody tr th:only-of-type {\n",
       "        vertical-align: middle;\n",
       "    }\n",
       "\n",
       "    .dataframe tbody tr th {\n",
       "        vertical-align: top;\n",
       "    }\n",
       "\n",
       "    .dataframe thead th {\n",
       "        text-align: right;\n",
       "    }\n",
       "</style>\n",
       "<table border=\"1\" class=\"dataframe\">\n",
       "  <thead>\n",
       "    <tr style=\"text-align: right;\">\n",
       "      <th></th>\n",
       "      <th>id</th>\n",
       "      <th>user_id</th>\n",
       "      <th>profile_key</th>\n",
       "      <th>profile_value</th>\n",
       "    </tr>\n",
       "  </thead>\n",
       "  <tbody>\n",
       "    <tr>\n",
       "      <th>0</th>\n",
       "      <td>2173269</td>\n",
       "      <td>336335</td>\n",
       "      <td>purposeofvisit</td>\n",
       "      <td>Other</td>\n",
       "    </tr>\n",
       "    <tr>\n",
       "      <th>1</th>\n",
       "      <td>2173255</td>\n",
       "      <td>336333</td>\n",
       "      <td>purposeofvisit</td>\n",
       "      <td>Run a simulation</td>\n",
       "    </tr>\n",
       "  </tbody>\n",
       "</table>\n",
       "</div>"
      ],
      "text/plain": [
       "        id  user_id     profile_key     profile_value\n",
       "0  2173269   336335  purposeofvisit             Other\n",
       "1  2173255   336333  purposeofvisit  Run a simulation"
      ]
     },
     "metadata": {},
     "output_type": "display_data"
    },
    {
     "data": {
      "text/html": [
       "<div>\n",
       "<style scoped>\n",
       "    .dataframe tbody tr th:only-of-type {\n",
       "        vertical-align: middle;\n",
       "    }\n",
       "\n",
       "    .dataframe tbody tr th {\n",
       "        vertical-align: top;\n",
       "    }\n",
       "\n",
       "    .dataframe thead th {\n",
       "        text-align: right;\n",
       "    }\n",
       "</style>\n",
       "<table border=\"1\" class=\"dataframe\">\n",
       "  <thead>\n",
       "    <tr style=\"text-align: right;\">\n",
       "      <th></th>\n",
       "      <th>id</th>\n",
       "      <th>user_id</th>\n",
       "      <th>profile_key</th>\n",
       "      <th>profile_value</th>\n",
       "    </tr>\n",
       "  </thead>\n",
       "  <tbody>\n",
       "    <tr>\n",
       "      <th>0</th>\n",
       "      <td>2172669</td>\n",
       "      <td>336196</td>\n",
       "      <td>gender</td>\n",
       "      <td>male</td>\n",
       "    </tr>\n",
       "    <tr>\n",
       "      <th>1</th>\n",
       "      <td>2172493</td>\n",
       "      <td>336162</td>\n",
       "      <td>gender</td>\n",
       "      <td>female</td>\n",
       "    </tr>\n",
       "  </tbody>\n",
       "</table>\n",
       "</div>"
      ],
      "text/plain": [
       "        id  user_id profile_key profile_value\n",
       "0  2172669   336196      gender          male\n",
       "1  2172493   336162      gender        female"
      ]
     },
     "metadata": {},
     "output_type": "display_data"
    },
    {
     "data": {
      "text/html": [
       "<div>\n",
       "<style scoped>\n",
       "    .dataframe tbody tr th:only-of-type {\n",
       "        vertical-align: middle;\n",
       "    }\n",
       "\n",
       "    .dataframe tbody tr th {\n",
       "        vertical-align: top;\n",
       "    }\n",
       "\n",
       "    .dataframe thead th {\n",
       "        text-align: right;\n",
       "    }\n",
       "</style>\n",
       "<table border=\"1\" class=\"dataframe\">\n",
       "  <thead>\n",
       "    <tr style=\"text-align: right;\">\n",
       "      <th></th>\n",
       "      <th>id</th>\n",
       "      <th>user_id</th>\n",
       "      <th>profile_key</th>\n",
       "      <th>profile_value</th>\n",
       "    </tr>\n",
       "  </thead>\n",
       "  <tbody>\n",
       "    <tr>\n",
       "      <th>0</th>\n",
       "      <td>532845</td>\n",
       "      <td>144140</td>\n",
       "      <td>nativeTribe</td>\n",
       "      <td>Human</td>\n",
       "    </tr>\n",
       "    <tr>\n",
       "      <th>1</th>\n",
       "      <td>532844</td>\n",
       "      <td>140369</td>\n",
       "      <td>nativeTribe</td>\n",
       "      <td>Aniyuwiya</td>\n",
       "    </tr>\n",
       "  </tbody>\n",
       "</table>\n",
       "</div>"
      ],
      "text/plain": [
       "       id  user_id  profile_key profile_value\n",
       "0  532845   144140  nativeTribe         Human\n",
       "1  532844   140369  nativeTribe     Aniyuwiya"
      ]
     },
     "metadata": {},
     "output_type": "display_data"
    },
    {
     "data": {
      "text/html": [
       "<div>\n",
       "<style scoped>\n",
       "    .dataframe tbody tr th:only-of-type {\n",
       "        vertical-align: middle;\n",
       "    }\n",
       "\n",
       "    .dataframe tbody tr th {\n",
       "        vertical-align: top;\n",
       "    }\n",
       "\n",
       "    .dataframe thead th {\n",
       "        text-align: right;\n",
       "    }\n",
       "</style>\n",
       "<table border=\"1\" class=\"dataframe\">\n",
       "  <thead>\n",
       "    <tr style=\"text-align: right;\">\n",
       "      <th></th>\n",
       "      <th>id</th>\n",
       "      <th>user_id</th>\n",
       "      <th>profile_key</th>\n",
       "      <th>profile_value</th>\n",
       "    </tr>\n",
       "  </thead>\n",
       "  <tbody>\n",
       "    <tr>\n",
       "      <th>0</th>\n",
       "      <td>2172670</td>\n",
       "      <td>336196</td>\n",
       "      <td>hispanic</td>\n",
       "      <td>refused</td>\n",
       "    </tr>\n",
       "    <tr>\n",
       "      <th>1</th>\n",
       "      <td>2171580</td>\n",
       "      <td>335986</td>\n",
       "      <td>hispanic</td>\n",
       "      <td>puertorican</td>\n",
       "    </tr>\n",
       "  </tbody>\n",
       "</table>\n",
       "</div>"
      ],
      "text/plain": [
       "        id  user_id profile_key profile_value\n",
       "0  2172670   336196    hispanic       refused\n",
       "1  2171580   335986    hispanic   puertorican"
      ]
     },
     "metadata": {},
     "output_type": "display_data"
    },
    {
     "data": {
      "text/html": [
       "<div>\n",
       "<style scoped>\n",
       "    .dataframe tbody tr th:only-of-type {\n",
       "        vertical-align: middle;\n",
       "    }\n",
       "\n",
       "    .dataframe tbody tr th {\n",
       "        vertical-align: top;\n",
       "    }\n",
       "\n",
       "    .dataframe thead th {\n",
       "        text-align: right;\n",
       "    }\n",
       "</style>\n",
       "<table border=\"1\" class=\"dataframe\">\n",
       "  <thead>\n",
       "    <tr style=\"text-align: right;\">\n",
       "      <th></th>\n",
       "      <th>id</th>\n",
       "      <th>user_id</th>\n",
       "      <th>profile_key</th>\n",
       "      <th>profile_value</th>\n",
       "    </tr>\n",
       "  </thead>\n",
       "  <tbody>\n",
       "    <tr>\n",
       "      <th>0</th>\n",
       "      <td>2172674</td>\n",
       "      <td>336196</td>\n",
       "      <td>disability</td>\n",
       "      <td>no</td>\n",
       "    </tr>\n",
       "    <tr>\n",
       "      <th>1</th>\n",
       "      <td>2170731</td>\n",
       "      <td>335819</td>\n",
       "      <td>disability</td>\n",
       "      <td>no</td>\n",
       "    </tr>\n",
       "  </tbody>\n",
       "</table>\n",
       "</div>"
      ],
      "text/plain": [
       "        id  user_id profile_key profile_value\n",
       "0  2172674   336196  disability            no\n",
       "1  2170731   335819  disability            no"
      ]
     },
     "metadata": {},
     "output_type": "display_data"
    },
    {
     "data": {
      "text/html": [
       "<div>\n",
       "<style scoped>\n",
       "    .dataframe tbody tr th:only-of-type {\n",
       "        vertical-align: middle;\n",
       "    }\n",
       "\n",
       "    .dataframe tbody tr th {\n",
       "        vertical-align: top;\n",
       "    }\n",
       "\n",
       "    .dataframe thead th {\n",
       "        text-align: right;\n",
       "    }\n",
       "</style>\n",
       "<table border=\"1\" class=\"dataframe\">\n",
       "  <thead>\n",
       "    <tr style=\"text-align: right;\">\n",
       "      <th></th>\n",
       "      <th>id</th>\n",
       "      <th>user_id</th>\n",
       "      <th>profile_key</th>\n",
       "      <th>profile_value</th>\n",
       "    </tr>\n",
       "  </thead>\n",
       "  <tbody>\n",
       "    <tr>\n",
       "      <th>0</th>\n",
       "      <td>2172398</td>\n",
       "      <td>334740</td>\n",
       "      <td>race</td>\n",
       "      <td>asian</td>\n",
       "    </tr>\n",
       "    <tr>\n",
       "      <th>1</th>\n",
       "      <td>2170332</td>\n",
       "      <td>334476</td>\n",
       "      <td>race</td>\n",
       "      <td>asian</td>\n",
       "    </tr>\n",
       "  </tbody>\n",
       "</table>\n",
       "</div>"
      ],
      "text/plain": [
       "        id  user_id profile_key profile_value\n",
       "0  2172398   334740        race         asian\n",
       "1  2170332   334476        race         asian"
      ]
     },
     "metadata": {},
     "output_type": "display_data"
    }
   ],
   "source": [
    "display(reasons.head(2))\n",
    "display(how_hear.head(2))\n",
    "display(purpose.head(2))\n",
    "display(gender.head(2))\n",
    "display(native.head(2))\n",
    "display(hispanic.head(2))\n",
    "display(disability.head(2))\n",
    "display(race.head(2))"
   ]
  },
  {
   "cell_type": "code",
   "execution_count": 7,
   "id": "5a6110cd",
   "metadata": {
    "execution": {
     "iopub.execute_input": "2021-08-26T04:52:50.767343Z",
     "iopub.status.busy": "2021-08-26T04:52:50.749811Z",
     "iopub.status.idle": "2021-08-26T04:52:50.781707Z",
     "shell.execute_reply": "2021-08-26T04:52:50.782080Z"
    },
    "jupyter": {
     "source_hidden": true
    },
    "papermill": {
     "duration": 0.093065,
     "end_time": "2021-08-26T04:52:50.782319",
     "exception": false,
     "start_time": "2021-08-26T04:52:50.689254",
     "status": "completed"
    },
    "tags": []
   },
   "outputs": [
    {
     "data": {
      "text/html": [
       "<div>\n",
       "<style scoped>\n",
       "    .dataframe tbody tr th:only-of-type {\n",
       "        vertical-align: middle;\n",
       "    }\n",
       "\n",
       "    .dataframe tbody tr th {\n",
       "        vertical-align: top;\n",
       "    }\n",
       "\n",
       "    .dataframe thead th {\n",
       "        text-align: right;\n",
       "    }\n",
       "</style>\n",
       "<table border=\"1\" class=\"dataframe\">\n",
       "  <thead>\n",
       "    <tr style=\"text-align: right;\">\n",
       "      <th></th>\n",
       "      <th>id</th>\n",
       "      <th>user_id</th>\n",
       "      <th>profile_key</th>\n",
       "      <th>profile_value</th>\n",
       "    </tr>\n",
       "  </thead>\n",
       "  <tbody>\n",
       "    <tr>\n",
       "      <th>0</th>\n",
       "      <td>2172669</td>\n",
       "      <td>336196</td>\n",
       "      <td>gender</td>\n",
       "      <td>Male</td>\n",
       "    </tr>\n",
       "    <tr>\n",
       "      <th>1</th>\n",
       "      <td>2172493</td>\n",
       "      <td>336162</td>\n",
       "      <td>gender</td>\n",
       "      <td>Female</td>\n",
       "    </tr>\n",
       "  </tbody>\n",
       "</table>\n",
       "</div>"
      ],
      "text/plain": [
       "        id  user_id profile_key profile_value\n",
       "0  2172669   336196      gender          Male\n",
       "1  2172493   336162      gender        Female"
      ]
     },
     "metadata": {},
     "output_type": "display_data"
    }
   ],
   "source": [
    "#gender, hispanic, disability, race\n",
    "gender['profile_value'] = gender['profile_value'].apply(lambda x: x.capitalize())\n",
    "display(gender.head(2))\n"
   ]
  },
  {
   "cell_type": "code",
   "execution_count": 8,
   "id": "8017f4f9",
   "metadata": {
    "execution": {
     "iopub.execute_input": "2021-08-26T04:52:50.924103Z",
     "iopub.status.busy": "2021-08-26T04:52:50.916413Z",
     "iopub.status.idle": "2021-08-26T04:52:50.927543Z",
     "shell.execute_reply": "2021-08-26T04:52:50.928008Z"
    },
    "jupyter": {
     "source_hidden": true
    },
    "papermill": {
     "duration": 0.088457,
     "end_time": "2021-08-26T04:52:50.928180",
     "exception": false,
     "start_time": "2021-08-26T04:52:50.839723",
     "status": "completed"
    },
    "tags": []
   },
   "outputs": [
    {
     "data": {
      "text/html": [
       "<div>\n",
       "<style scoped>\n",
       "    .dataframe tbody tr th:only-of-type {\n",
       "        vertical-align: middle;\n",
       "    }\n",
       "\n",
       "    .dataframe tbody tr th {\n",
       "        vertical-align: top;\n",
       "    }\n",
       "\n",
       "    .dataframe thead th {\n",
       "        text-align: right;\n",
       "    }\n",
       "</style>\n",
       "<table border=\"1\" class=\"dataframe\">\n",
       "  <thead>\n",
       "    <tr style=\"text-align: right;\">\n",
       "      <th></th>\n",
       "      <th>id</th>\n",
       "      <th>user_id</th>\n",
       "      <th>profile_key</th>\n",
       "      <th>profile_value</th>\n",
       "    </tr>\n",
       "  </thead>\n",
       "  <tbody>\n",
       "    <tr>\n",
       "      <th>0</th>\n",
       "      <td>2172670</td>\n",
       "      <td>336196</td>\n",
       "      <td>hispanic</td>\n",
       "      <td>Do not wish to reveal</td>\n",
       "    </tr>\n",
       "    <tr>\n",
       "      <th>1</th>\n",
       "      <td>2171580</td>\n",
       "      <td>335986</td>\n",
       "      <td>hispanic</td>\n",
       "      <td>puertorican</td>\n",
       "    </tr>\n",
       "  </tbody>\n",
       "</table>\n",
       "</div>"
      ],
      "text/plain": [
       "        id  user_id profile_key          profile_value\n",
       "0  2172670   336196    hispanic  Do not wish to reveal\n",
       "1  2171580   335986    hispanic            puertorican"
      ]
     },
     "metadata": {},
     "output_type": "display_data"
    }
   ],
   "source": [
    "h_list = hispanic['profile_value'].to_list()\n",
    "\n",
    "for ind,val in enumerate(h_list):\n",
    "    if val == 'Puertorico' or val == 'Puertorican':\n",
    "        h_list[ind] = 'Puerto Rican'\n",
    "    elif val == 'Mexican':\n",
    "        h_list[ind] = 'Mexican American or Chicano'\n",
    "    elif val == 'no':\n",
    "        h_list[ind] = 'No (not Hispanic or Latino)'\n",
    "    elif val == 'refused':\n",
    "        h_list[ind] = 'Do not wish to reveal'\n",
    "\n",
    "hispanic['profile_value'] = h_list\n",
    "display(hispanic.head(2))"
   ]
  },
  {
   "cell_type": "code",
   "execution_count": 9,
   "id": "6bd3ab57",
   "metadata": {
    "execution": {
     "iopub.execute_input": "2021-08-26T04:52:51.110989Z",
     "iopub.status.busy": "2021-08-26T04:52:51.110219Z",
     "iopub.status.idle": "2021-08-26T04:52:51.120746Z",
     "shell.execute_reply": "2021-08-26T04:52:51.121202Z"
    },
    "jupyter": {
     "source_hidden": true
    },
    "papermill": {
     "duration": 0.112143,
     "end_time": "2021-08-26T04:52:51.121421",
     "exception": false,
     "start_time": "2021-08-26T04:52:51.009278",
     "status": "completed"
    },
    "tags": []
   },
   "outputs": [
    {
     "data": {
      "text/html": [
       "<div>\n",
       "<style scoped>\n",
       "    .dataframe tbody tr th:only-of-type {\n",
       "        vertical-align: middle;\n",
       "    }\n",
       "\n",
       "    .dataframe tbody tr th {\n",
       "        vertical-align: top;\n",
       "    }\n",
       "\n",
       "    .dataframe thead th {\n",
       "        text-align: right;\n",
       "    }\n",
       "</style>\n",
       "<table border=\"1\" class=\"dataframe\">\n",
       "  <thead>\n",
       "    <tr style=\"text-align: right;\">\n",
       "      <th></th>\n",
       "      <th>id</th>\n",
       "      <th>user_id</th>\n",
       "      <th>profile_key</th>\n",
       "      <th>profile_value</th>\n",
       "    </tr>\n",
       "  </thead>\n",
       "  <tbody>\n",
       "    <tr>\n",
       "      <th>0</th>\n",
       "      <td>2172674</td>\n",
       "      <td>336196</td>\n",
       "      <td>disability</td>\n",
       "      <td>No (none)</td>\n",
       "    </tr>\n",
       "    <tr>\n",
       "      <th>1</th>\n",
       "      <td>2170731</td>\n",
       "      <td>335819</td>\n",
       "      <td>disability</td>\n",
       "      <td>No (none)</td>\n",
       "    </tr>\n",
       "  </tbody>\n",
       "</table>\n",
       "</div>"
      ],
      "text/plain": [
       "        id  user_id profile_key profile_value\n",
       "0  2172674   336196  disability     No (none)\n",
       "1  2170731   335819  disability     No (none)"
      ]
     },
     "metadata": {},
     "output_type": "display_data"
    }
   ],
   "source": [
    "d_list = disability['profile_value'].to_list()\n",
    "\n",
    "for ind,val in enumerate(d_list):\n",
    "    if val == 'blind':\n",
    "        d_list[ind] = 'Blind/Visually Impaired'\n",
    "    elif val == 'deaf':\n",
    "        d_list[ind] = 'Deaf/Hard of Hearing'\n",
    "    elif val == 'physical':\n",
    "        d_list[ind] = 'Physical/Orthopedic Disability'\n",
    "    elif val == 'learning':\n",
    "        d_list[ind] = 'Learning/Cognitive Disability'\n",
    "    elif val == 'vocal':\n",
    "        d_list[ind] = 'Vocal/Speech Disability'\n",
    "    elif val == 'no':\n",
    "        d_list[ind] = 'No (none)'\n",
    "    elif val == 'refused':\n",
    "        d_list[ind] = 'Do not wish to reveal'\n",
    "\n",
    "disability['profile_value'] = d_list\n",
    "display(disability.head(2))"
   ]
  },
  {
   "cell_type": "code",
   "execution_count": 10,
   "id": "4af36992",
   "metadata": {
    "execution": {
     "iopub.execute_input": "2021-08-26T04:52:51.284121Z",
     "iopub.status.busy": "2021-08-26T04:52:51.283167Z",
     "iopub.status.idle": "2021-08-26T04:52:51.287848Z",
     "shell.execute_reply": "2021-08-26T04:52:51.288380Z"
    },
    "jupyter": {
     "source_hidden": true
    },
    "papermill": {
     "duration": 0.088016,
     "end_time": "2021-08-26T04:52:51.288639",
     "exception": false,
     "start_time": "2021-08-26T04:52:51.200623",
     "status": "completed"
    },
    "tags": []
   },
   "outputs": [
    {
     "data": {
      "text/html": [
       "<div>\n",
       "<style scoped>\n",
       "    .dataframe tbody tr th:only-of-type {\n",
       "        vertical-align: middle;\n",
       "    }\n",
       "\n",
       "    .dataframe tbody tr th {\n",
       "        vertical-align: top;\n",
       "    }\n",
       "\n",
       "    .dataframe thead th {\n",
       "        text-align: right;\n",
       "    }\n",
       "</style>\n",
       "<table border=\"1\" class=\"dataframe\">\n",
       "  <thead>\n",
       "    <tr style=\"text-align: right;\">\n",
       "      <th></th>\n",
       "      <th>id</th>\n",
       "      <th>user_id</th>\n",
       "      <th>profile_key</th>\n",
       "      <th>profile_value</th>\n",
       "    </tr>\n",
       "  </thead>\n",
       "  <tbody>\n",
       "    <tr>\n",
       "      <th>0</th>\n",
       "      <td>2172398</td>\n",
       "      <td>334740</td>\n",
       "      <td>race</td>\n",
       "      <td>Asian</td>\n",
       "    </tr>\n",
       "    <tr>\n",
       "      <th>1</th>\n",
       "      <td>2170332</td>\n",
       "      <td>334476</td>\n",
       "      <td>race</td>\n",
       "      <td>Asian</td>\n",
       "    </tr>\n",
       "  </tbody>\n",
       "</table>\n",
       "</div>"
      ],
      "text/plain": [
       "        id  user_id profile_key profile_value\n",
       "0  2172398   334740        race         Asian\n",
       "1  2170332   334476        race         Asian"
      ]
     },
     "metadata": {},
     "output_type": "display_data"
    }
   ],
   "source": [
    "r_list = race['profile_value'].to_list()\n",
    "\n",
    "for ind,val in enumerate(r_list):\n",
    "    if val == 'nativeamerican':\n",
    "        r_list[ind] = 'American Indian or Alaska Native'\n",
    "    elif val == 'asian':\n",
    "        r_list[ind] = 'Asian'\n",
    "    elif val == 'black':\n",
    "        r_list[ind] = 'Black or African American'\n",
    "    elif val == 'white':\n",
    "        r_list[ind] = 'White'\n",
    "    elif val == 'hispanic':\n",
    "        r_list[ind] = 'Hispanic or Latino'\n",
    "    elif val == 'hawaiian':\n",
    "        r_list[ind] = 'Native Hawaiian or Other Pacific Islander'\n",
    "    elif val == 'refused':\n",
    "        r_list[ind] = 'Do not wish to reveal'\n",
    "    else:\n",
    "        r_list[ind] = 'Do not wish to reveal'\n",
    "        \n",
    "race['profile_value'] = r_list\n",
    "display(race.head(2))"
   ]
  },
  {
   "cell_type": "code",
   "execution_count": 11,
   "id": "15521b9f",
   "metadata": {
    "execution": {
     "iopub.execute_input": "2021-08-26T04:52:51.431929Z",
     "iopub.status.busy": "2021-08-26T04:52:51.430786Z",
     "iopub.status.idle": "2021-08-26T04:52:51.510583Z",
     "shell.execute_reply": "2021-08-26T04:52:51.510977Z"
    },
    "jupyter": {
     "source_hidden": true
    },
    "papermill": {
     "duration": 0.157546,
     "end_time": "2021-08-26T04:52:51.511148",
     "exception": false,
     "start_time": "2021-08-26T04:52:51.353602",
     "status": "completed"
    },
    "tags": []
   },
   "outputs": [
    {
     "data": {
      "text/html": [
       "<div>\n",
       "<style scoped>\n",
       "    .dataframe tbody tr th:only-of-type {\n",
       "        vertical-align: middle;\n",
       "    }\n",
       "\n",
       "    .dataframe tbody tr th {\n",
       "        vertical-align: top;\n",
       "    }\n",
       "\n",
       "    .dataframe thead th {\n",
       "        text-align: right;\n",
       "    }\n",
       "</style>\n",
       "<table border=\"1\" class=\"dataframe\">\n",
       "  <thead>\n",
       "    <tr style=\"text-align: right;\">\n",
       "      <th></th>\n",
       "      <th>reason</th>\n",
       "      <th>howdidyouhear</th>\n",
       "    </tr>\n",
       "    <tr>\n",
       "      <th>user_id</th>\n",
       "      <th></th>\n",
       "      <th></th>\n",
       "    </tr>\n",
       "  </thead>\n",
       "  <tbody>\n",
       "    <tr>\n",
       "      <th>336236</th>\n",
       "      <td>Required for class</td>\n",
       "      <td>From an instructor</td>\n",
       "    </tr>\n",
       "    <tr>\n",
       "      <th>336248</th>\n",
       "      <td>Using simulation tools for research</td>\n",
       "      <td>From an instructor</td>\n",
       "    </tr>\n",
       "  </tbody>\n",
       "</table>\n",
       "</div>"
      ],
      "text/plain": [
       "                                      reason       howdidyouhear\n",
       "user_id                                                         \n",
       "336236                    Required for class  From an instructor\n",
       "336248   Using simulation tools for research  From an instructor"
      ]
     },
     "metadata": {},
     "output_type": "display_data"
    }
   ],
   "source": [
    "# joining all of the dataframes together\n",
    "def join_dfs(df1,df2):\n",
    "    # extract the value of profile keys\n",
    "    try:\n",
    "        pk1 = df1['profile_key'][0]\n",
    "        pk2 = df2['profile_key'][0]\n",
    "        \n",
    "        # perform the join\n",
    "        df_joined = df1.set_index('user_id').join(df2.set_index('user_id'),rsuffix='1')\n",
    "        df_joined = df_joined.drop(columns=['id','id1','profile_key','profile_key1'])\n",
    "        df_joined = df_joined.rename(columns={'profile_value':pk1,'profile_value1':pk2})   \n",
    "    except:\n",
    "        pk2 = df2['profile_key'][0]\n",
    "        \n",
    "        #perform one sided join\n",
    "        df1 = df1.reset_index()\n",
    "        df_joined = df1.set_index('user_id').join(df2.set_index('user_id'),rsuffix='1')\n",
    "        df_joined = df_joined.drop(columns=['id','profile_key'])\n",
    "        df_joined = df_joined.rename(columns={'profile_value':pk2})   \n",
    "    \n",
    "    return df_joined\n",
    "\n",
    "# test to ensure it works\n",
    "temp = join_dfs(reasons,how_hear)\n",
    "display(temp.tail(2))"
   ]
  },
  {
   "cell_type": "code",
   "execution_count": 12,
   "id": "d22dce3b",
   "metadata": {
    "execution": {
     "iopub.execute_input": "2021-08-26T04:52:51.668965Z",
     "iopub.status.busy": "2021-08-26T04:52:51.668129Z",
     "iopub.status.idle": "2021-08-26T04:52:52.036367Z",
     "shell.execute_reply": "2021-08-26T04:52:52.036777Z"
    },
    "jupyter": {
     "source_hidden": true
    },
    "papermill": {
     "duration": 0.456134,
     "end_time": "2021-08-26T04:52:52.036947",
     "exception": false,
     "start_time": "2021-08-26T04:52:51.580813",
     "status": "completed"
    },
    "tags": []
   },
   "outputs": [
    {
     "data": {
      "text/html": [
       "<div>\n",
       "<style scoped>\n",
       "    .dataframe tbody tr th:only-of-type {\n",
       "        vertical-align: middle;\n",
       "    }\n",
       "\n",
       "    .dataframe tbody tr th {\n",
       "        vertical-align: top;\n",
       "    }\n",
       "\n",
       "    .dataframe thead th {\n",
       "        text-align: right;\n",
       "    }\n",
       "</style>\n",
       "<table border=\"1\" class=\"dataframe\">\n",
       "  <thead>\n",
       "    <tr style=\"text-align: right;\">\n",
       "      <th></th>\n",
       "      <th>reason</th>\n",
       "      <th>howdidyouhear</th>\n",
       "      <th>purposeofvisit</th>\n",
       "      <th>gender</th>\n",
       "      <th>hispanic</th>\n",
       "      <th>disability</th>\n",
       "      <th>race</th>\n",
       "    </tr>\n",
       "    <tr>\n",
       "      <th>user_id</th>\n",
       "      <th></th>\n",
       "      <th></th>\n",
       "      <th></th>\n",
       "      <th></th>\n",
       "      <th></th>\n",
       "      <th></th>\n",
       "      <th></th>\n",
       "    </tr>\n",
       "  </thead>\n",
       "  <tbody>\n",
       "    <tr>\n",
       "      <th>336236</th>\n",
       "      <td>Required for class</td>\n",
       "      <td>From an instructor</td>\n",
       "      <td>Run a simulation</td>\n",
       "      <td>NaN</td>\n",
       "      <td>NaN</td>\n",
       "      <td>NaN</td>\n",
       "      <td>NaN</td>\n",
       "    </tr>\n",
       "    <tr>\n",
       "      <th>336248</th>\n",
       "      <td>Using simulation tools for research</td>\n",
       "      <td>From an instructor</td>\n",
       "      <td>Run a simulation</td>\n",
       "      <td>NaN</td>\n",
       "      <td>NaN</td>\n",
       "      <td>NaN</td>\n",
       "      <td>NaN</td>\n",
       "    </tr>\n",
       "  </tbody>\n",
       "</table>\n",
       "</div>"
      ],
      "text/plain": [
       "                                      reason       howdidyouhear  \\\n",
       "user_id                                                            \n",
       "336236                    Required for class  From an instructor   \n",
       "336248   Using simulation tools for research  From an instructor   \n",
       "\n",
       "           purposeofvisit gender hispanic disability race  \n",
       "user_id                                                    \n",
       "336236   Run a simulation    NaN      NaN        NaN  NaN  \n",
       "336248   Run a simulation    NaN      NaN        NaN  NaN  "
      ]
     },
     "metadata": {},
     "output_type": "display_data"
    }
   ],
   "source": [
    "# join all of the dataframes\n",
    "dfs = [purpose,gender,hispanic,disability,race] #native\n",
    "\n",
    "for df_instance in dfs:\n",
    "    temp = join_dfs(temp,df_instance)\n",
    "\n",
    "display(temp.tail(2))"
   ]
  },
  {
   "cell_type": "code",
   "execution_count": 13,
   "id": "4d834a8f",
   "metadata": {
    "execution": {
     "iopub.execute_input": "2021-08-26T04:52:52.201528Z",
     "iopub.status.busy": "2021-08-26T04:52:52.200756Z",
     "iopub.status.idle": "2021-08-26T04:52:52.205234Z",
     "shell.execute_reply": "2021-08-26T04:52:52.205667Z"
    },
    "jupyter": {
     "source_hidden": true
    },
    "papermill": {
     "duration": 0.095071,
     "end_time": "2021-08-26T04:52:52.205911",
     "exception": false,
     "start_time": "2021-08-26T04:52:52.110840",
     "status": "completed"
    },
    "tags": []
   },
   "outputs": [
    {
     "data": {
      "text/html": [
       "<div>\n",
       "<style scoped>\n",
       "    .dataframe tbody tr th:only-of-type {\n",
       "        vertical-align: middle;\n",
       "    }\n",
       "\n",
       "    .dataframe tbody tr th {\n",
       "        vertical-align: top;\n",
       "    }\n",
       "\n",
       "    .dataframe thead th {\n",
       "        text-align: right;\n",
       "    }\n",
       "</style>\n",
       "<table border=\"1\" class=\"dataframe\">\n",
       "  <thead>\n",
       "    <tr style=\"text-align: right;\">\n",
       "      <th></th>\n",
       "      <th>Reason__c</th>\n",
       "      <th>howdidyouhear__c</th>\n",
       "      <th>Purpose__c</th>\n",
       "      <th>hed__Gender__c</th>\n",
       "      <th>Hispanic__c</th>\n",
       "      <th>Disability__c</th>\n",
       "      <th>hed__Race__c</th>\n",
       "    </tr>\n",
       "    <tr>\n",
       "      <th>user_id</th>\n",
       "      <th></th>\n",
       "      <th></th>\n",
       "      <th></th>\n",
       "      <th></th>\n",
       "      <th></th>\n",
       "      <th></th>\n",
       "      <th></th>\n",
       "    </tr>\n",
       "  </thead>\n",
       "  <tbody>\n",
       "    <tr>\n",
       "      <th>336236</th>\n",
       "      <td>Required for class</td>\n",
       "      <td>From an instructor</td>\n",
       "      <td>Run a simulation</td>\n",
       "      <td>NaN</td>\n",
       "      <td>NaN</td>\n",
       "      <td>NaN</td>\n",
       "      <td>NaN</td>\n",
       "    </tr>\n",
       "    <tr>\n",
       "      <th>336248</th>\n",
       "      <td>Using simulation tools for research</td>\n",
       "      <td>From an instructor</td>\n",
       "      <td>Run a simulation</td>\n",
       "      <td>NaN</td>\n",
       "      <td>NaN</td>\n",
       "      <td>NaN</td>\n",
       "      <td>NaN</td>\n",
       "    </tr>\n",
       "  </tbody>\n",
       "</table>\n",
       "</div>"
      ],
      "text/plain": [
       "                                   Reason__c    howdidyouhear__c  \\\n",
       "user_id                                                            \n",
       "336236                    Required for class  From an instructor   \n",
       "336248   Using simulation tools for research  From an instructor   \n",
       "\n",
       "               Purpose__c hed__Gender__c Hispanic__c Disability__c  \\\n",
       "user_id                                                              \n",
       "336236   Run a simulation            NaN         NaN           NaN   \n",
       "336248   Run a simulation            NaN         NaN           NaN   \n",
       "\n",
       "        hed__Race__c  \n",
       "user_id               \n",
       "336236           NaN  \n",
       "336248           NaN  "
      ]
     },
     "metadata": {},
     "output_type": "display_data"
    }
   ],
   "source": [
    "temp = temp.rename(columns={'reason':'Reason__c','howdidyouhear':'howdidyouhear__c','purposeofvisit':'Purpose__c',\\\n",
    "                           'gender':'hed__Gender__c','nativeTribe':'Native_Tribe__c','hispanic':'Hispanic__c',\\\n",
    "                           'disability':'Disability__c','race':'hed__Race__c'})\n",
    "display(temp.tail(2))"
   ]
  },
  {
   "cell_type": "code",
   "execution_count": 14,
   "id": "fd94cfa0",
   "metadata": {
    "execution": {
     "iopub.execute_input": "2021-08-26T04:52:52.355934Z",
     "iopub.status.busy": "2021-08-26T04:52:52.355206Z",
     "iopub.status.idle": "2021-08-26T04:52:52.368372Z",
     "shell.execute_reply": "2021-08-26T04:52:52.368782Z"
    },
    "jupyter": {
     "source_hidden": true
    },
    "papermill": {
     "duration": 0.087796,
     "end_time": "2021-08-26T04:52:52.369016",
     "exception": false,
     "start_time": "2021-08-26T04:52:52.281220",
     "status": "completed"
    },
    "tags": []
   },
   "outputs": [
    {
     "data": {
      "text/html": [
       "<div>\n",
       "<style scoped>\n",
       "    .dataframe tbody tr th:only-of-type {\n",
       "        vertical-align: middle;\n",
       "    }\n",
       "\n",
       "    .dataframe tbody tr th {\n",
       "        vertical-align: top;\n",
       "    }\n",
       "\n",
       "    .dataframe thead th {\n",
       "        text-align: right;\n",
       "    }\n",
       "</style>\n",
       "<table border=\"1\" class=\"dataframe\">\n",
       "  <thead>\n",
       "    <tr style=\"text-align: right;\">\n",
       "      <th></th>\n",
       "      <th>Reason__c</th>\n",
       "      <th>howdidyouhear__c</th>\n",
       "      <th>Purpose__c</th>\n",
       "      <th>hed__Gender__c</th>\n",
       "      <th>Hispanic__c</th>\n",
       "      <th>Disability__c</th>\n",
       "      <th>hed__Race__c</th>\n",
       "    </tr>\n",
       "    <tr>\n",
       "      <th>user_id</th>\n",
       "      <th></th>\n",
       "      <th></th>\n",
       "      <th></th>\n",
       "      <th></th>\n",
       "      <th></th>\n",
       "      <th></th>\n",
       "      <th></th>\n",
       "    </tr>\n",
       "  </thead>\n",
       "  <tbody>\n",
       "    <tr>\n",
       "      <th>37255</th>\n",
       "      <td>Required for class</td>\n",
       "      <td>NaN</td>\n",
       "      <td>NaN</td>\n",
       "      <td>Male</td>\n",
       "      <td>puertorican</td>\n",
       "      <td>Blind/Visually Impaired</td>\n",
       "      <td>NaN</td>\n",
       "    </tr>\n",
       "    <tr>\n",
       "      <th>37255</th>\n",
       "      <td>Required for class</td>\n",
       "      <td>NaN</td>\n",
       "      <td>NaN</td>\n",
       "      <td>Male</td>\n",
       "      <td>puertorican</td>\n",
       "      <td>Deaf/Hard of Hearing</td>\n",
       "      <td>NaN</td>\n",
       "    </tr>\n",
       "    <tr>\n",
       "      <th>37255</th>\n",
       "      <td>Required for class</td>\n",
       "      <td>NaN</td>\n",
       "      <td>NaN</td>\n",
       "      <td>Male</td>\n",
       "      <td>puertorican</td>\n",
       "      <td>Learning/Cognitive Disability</td>\n",
       "      <td>NaN</td>\n",
       "    </tr>\n",
       "    <tr>\n",
       "      <th>37255</th>\n",
       "      <td>Required for class</td>\n",
       "      <td>NaN</td>\n",
       "      <td>NaN</td>\n",
       "      <td>Male</td>\n",
       "      <td>puertorican</td>\n",
       "      <td>Physical/Orthopedic Disability</td>\n",
       "      <td>NaN</td>\n",
       "    </tr>\n",
       "    <tr>\n",
       "      <th>37255</th>\n",
       "      <td>Required for class</td>\n",
       "      <td>NaN</td>\n",
       "      <td>NaN</td>\n",
       "      <td>Male</td>\n",
       "      <td>puertorican</td>\n",
       "      <td>Vocal/Speech Disability</td>\n",
       "      <td>NaN</td>\n",
       "    </tr>\n",
       "    <tr>\n",
       "      <th>37255</th>\n",
       "      <td>Required for class</td>\n",
       "      <td>NaN</td>\n",
       "      <td>NaN</td>\n",
       "      <td>Male</td>\n",
       "      <td>cuban</td>\n",
       "      <td>Blind/Visually Impaired</td>\n",
       "      <td>NaN</td>\n",
       "    </tr>\n",
       "    <tr>\n",
       "      <th>37255</th>\n",
       "      <td>Required for class</td>\n",
       "      <td>NaN</td>\n",
       "      <td>NaN</td>\n",
       "      <td>Male</td>\n",
       "      <td>cuban</td>\n",
       "      <td>Deaf/Hard of Hearing</td>\n",
       "      <td>NaN</td>\n",
       "    </tr>\n",
       "    <tr>\n",
       "      <th>37255</th>\n",
       "      <td>Required for class</td>\n",
       "      <td>NaN</td>\n",
       "      <td>NaN</td>\n",
       "      <td>Male</td>\n",
       "      <td>cuban</td>\n",
       "      <td>Learning/Cognitive Disability</td>\n",
       "      <td>NaN</td>\n",
       "    </tr>\n",
       "    <tr>\n",
       "      <th>37255</th>\n",
       "      <td>Required for class</td>\n",
       "      <td>NaN</td>\n",
       "      <td>NaN</td>\n",
       "      <td>Male</td>\n",
       "      <td>cuban</td>\n",
       "      <td>Physical/Orthopedic Disability</td>\n",
       "      <td>NaN</td>\n",
       "    </tr>\n",
       "    <tr>\n",
       "      <th>37255</th>\n",
       "      <td>Required for class</td>\n",
       "      <td>NaN</td>\n",
       "      <td>NaN</td>\n",
       "      <td>Male</td>\n",
       "      <td>cuban</td>\n",
       "      <td>Vocal/Speech Disability</td>\n",
       "      <td>NaN</td>\n",
       "    </tr>\n",
       "    <tr>\n",
       "      <th>37255</th>\n",
       "      <td>Required for class</td>\n",
       "      <td>NaN</td>\n",
       "      <td>NaN</td>\n",
       "      <td>Male</td>\n",
       "      <td>mexican</td>\n",
       "      <td>Blind/Visually Impaired</td>\n",
       "      <td>NaN</td>\n",
       "    </tr>\n",
       "    <tr>\n",
       "      <th>37255</th>\n",
       "      <td>Required for class</td>\n",
       "      <td>NaN</td>\n",
       "      <td>NaN</td>\n",
       "      <td>Male</td>\n",
       "      <td>mexican</td>\n",
       "      <td>Deaf/Hard of Hearing</td>\n",
       "      <td>NaN</td>\n",
       "    </tr>\n",
       "    <tr>\n",
       "      <th>37255</th>\n",
       "      <td>Required for class</td>\n",
       "      <td>NaN</td>\n",
       "      <td>NaN</td>\n",
       "      <td>Male</td>\n",
       "      <td>mexican</td>\n",
       "      <td>Learning/Cognitive Disability</td>\n",
       "      <td>NaN</td>\n",
       "    </tr>\n",
       "    <tr>\n",
       "      <th>37255</th>\n",
       "      <td>Required for class</td>\n",
       "      <td>NaN</td>\n",
       "      <td>NaN</td>\n",
       "      <td>Male</td>\n",
       "      <td>mexican</td>\n",
       "      <td>Physical/Orthopedic Disability</td>\n",
       "      <td>NaN</td>\n",
       "    </tr>\n",
       "    <tr>\n",
       "      <th>37255</th>\n",
       "      <td>Required for class</td>\n",
       "      <td>NaN</td>\n",
       "      <td>NaN</td>\n",
       "      <td>Male</td>\n",
       "      <td>mexican</td>\n",
       "      <td>Vocal/Speech Disability</td>\n",
       "      <td>NaN</td>\n",
       "    </tr>\n",
       "  </tbody>\n",
       "</table>\n",
       "</div>"
      ],
      "text/plain": [
       "                  Reason__c howdidyouhear__c Purpose__c hed__Gender__c  \\\n",
       "user_id                                                                  \n",
       "37255    Required for class              NaN        NaN           Male   \n",
       "37255    Required for class              NaN        NaN           Male   \n",
       "37255    Required for class              NaN        NaN           Male   \n",
       "37255    Required for class              NaN        NaN           Male   \n",
       "37255    Required for class              NaN        NaN           Male   \n",
       "37255    Required for class              NaN        NaN           Male   \n",
       "37255    Required for class              NaN        NaN           Male   \n",
       "37255    Required for class              NaN        NaN           Male   \n",
       "37255    Required for class              NaN        NaN           Male   \n",
       "37255    Required for class              NaN        NaN           Male   \n",
       "37255    Required for class              NaN        NaN           Male   \n",
       "37255    Required for class              NaN        NaN           Male   \n",
       "37255    Required for class              NaN        NaN           Male   \n",
       "37255    Required for class              NaN        NaN           Male   \n",
       "37255    Required for class              NaN        NaN           Male   \n",
       "\n",
       "         Hispanic__c                   Disability__c hed__Race__c  \n",
       "user_id                                                            \n",
       "37255    puertorican         Blind/Visually Impaired          NaN  \n",
       "37255    puertorican            Deaf/Hard of Hearing          NaN  \n",
       "37255    puertorican   Learning/Cognitive Disability          NaN  \n",
       "37255    puertorican  Physical/Orthopedic Disability          NaN  \n",
       "37255    puertorican         Vocal/Speech Disability          NaN  \n",
       "37255          cuban         Blind/Visually Impaired          NaN  \n",
       "37255          cuban            Deaf/Hard of Hearing          NaN  \n",
       "37255          cuban   Learning/Cognitive Disability          NaN  \n",
       "37255          cuban  Physical/Orthopedic Disability          NaN  \n",
       "37255          cuban         Vocal/Speech Disability          NaN  \n",
       "37255        mexican         Blind/Visually Impaired          NaN  \n",
       "37255        mexican            Deaf/Hard of Hearing          NaN  \n",
       "37255        mexican   Learning/Cognitive Disability          NaN  \n",
       "37255        mexican  Physical/Orthopedic Disability          NaN  \n",
       "37255        mexican         Vocal/Speech Disability          NaN  "
      ]
     },
     "execution_count": 14,
     "metadata": {},
     "output_type": "execute_result"
    }
   ],
   "source": [
    "temp.loc[37255,:]"
   ]
  },
  {
   "cell_type": "code",
   "execution_count": 15,
   "id": "c1e4a2fa",
   "metadata": {
    "execution": {
     "iopub.execute_input": "2021-08-26T04:52:52.538365Z",
     "iopub.status.busy": "2021-08-26T04:52:52.537108Z",
     "iopub.status.idle": "2021-08-26T04:52:52.554999Z",
     "shell.execute_reply": "2021-08-26T04:52:52.555427Z"
    },
    "jupyter": {
     "source_hidden": true
    },
    "papermill": {
     "duration": 0.097355,
     "end_time": "2021-08-26T04:52:52.555598",
     "exception": false,
     "start_time": "2021-08-26T04:52:52.458243",
     "status": "completed"
    },
    "tags": []
   },
   "outputs": [
    {
     "data": {
      "text/html": [
       "<div>\n",
       "<style scoped>\n",
       "    .dataframe tbody tr th:only-of-type {\n",
       "        vertical-align: middle;\n",
       "    }\n",
       "\n",
       "    .dataframe tbody tr th {\n",
       "        vertical-align: top;\n",
       "    }\n",
       "\n",
       "    .dataframe thead th {\n",
       "        text-align: right;\n",
       "    }\n",
       "</style>\n",
       "<table border=\"1\" class=\"dataframe\">\n",
       "  <thead>\n",
       "    <tr style=\"text-align: right;\">\n",
       "      <th></th>\n",
       "      <th>nanoHUB_user_ID__c</th>\n",
       "      <th>Reason__c</th>\n",
       "      <th>howdidyouhear__c</th>\n",
       "      <th>Purpose__c</th>\n",
       "      <th>hed__Gender__c</th>\n",
       "      <th>Hispanic__c</th>\n",
       "      <th>Disability__c</th>\n",
       "      <th>hed__Race__c</th>\n",
       "    </tr>\n",
       "  </thead>\n",
       "  <tbody>\n",
       "    <tr>\n",
       "      <th>71923</th>\n",
       "      <td>336236</td>\n",
       "      <td>Required for class</td>\n",
       "      <td>From an instructor</td>\n",
       "      <td>Run a simulation</td>\n",
       "      <td>NaN</td>\n",
       "      <td>NaN</td>\n",
       "      <td>NaN</td>\n",
       "      <td>NaN</td>\n",
       "    </tr>\n",
       "    <tr>\n",
       "      <th>71924</th>\n",
       "      <td>336248</td>\n",
       "      <td>Using simulation tools for research</td>\n",
       "      <td>From an instructor</td>\n",
       "      <td>Run a simulation</td>\n",
       "      <td>NaN</td>\n",
       "      <td>NaN</td>\n",
       "      <td>NaN</td>\n",
       "      <td>NaN</td>\n",
       "    </tr>\n",
       "  </tbody>\n",
       "</table>\n",
       "</div>"
      ],
      "text/plain": [
       "       nanoHUB_user_ID__c                            Reason__c  \\\n",
       "71923              336236                   Required for class   \n",
       "71924              336248  Using simulation tools for research   \n",
       "\n",
       "         howdidyouhear__c        Purpose__c hed__Gender__c Hispanic__c  \\\n",
       "71923  From an instructor  Run a simulation            NaN         NaN   \n",
       "71924  From an instructor  Run a simulation            NaN         NaN   \n",
       "\n",
       "      Disability__c hed__Race__c  \n",
       "71923           NaN          NaN  \n",
       "71924           NaN          NaN  "
      ]
     },
     "metadata": {},
     "output_type": "display_data"
    }
   ],
   "source": [
    "sf_df = temp.reset_index()\n",
    "sf_df = sf_df.rename(columns={'user_id':'nanoHUB_user_ID__c'})\n",
    "display(sf_df.tail(2))"
   ]
  },
  {
   "cell_type": "markdown",
   "id": "133e5647",
   "metadata": {
    "papermill": {
     "duration": 0.070059,
     "end_time": "2021-08-26T04:52:52.698739",
     "exception": false,
     "start_time": "2021-08-26T04:52:52.628680",
     "status": "completed"
    },
    "tags": []
   },
   "source": [
    "## Send to SF"
   ]
  },
  {
   "cell_type": "code",
   "execution_count": null,
   "id": "8424fb68",
   "metadata": {
    "jupyter": {
     "source_hidden": true
    },
    "papermill": {
     "duration": 0.076031,
     "end_time": "2021-08-26T04:52:52.849720",
     "exception": false,
     "start_time": "2021-08-26T04:52:52.773689",
     "status": "completed"
    },
    "tags": []
   },
   "outputs": [],
   "source": []
  },
  {
   "cell_type": "code",
   "execution_count": 16,
   "id": "f9245f2d",
   "metadata": {
    "execution": {
     "iopub.execute_input": "2021-08-26T04:52:53.006791Z",
     "iopub.status.busy": "2021-08-26T04:52:53.005956Z",
     "iopub.status.idle": "2021-08-26T04:53:02.219127Z",
     "shell.execute_reply": "2021-08-26T04:53:02.219834Z"
    },
    "jupyter": {
     "source_hidden": true
    },
    "papermill": {
     "duration": 9.292352,
     "end_time": "2021-08-26T04:53:02.220207",
     "exception": false,
     "start_time": "2021-08-26T04:52:52.927855",
     "status": "completed"
    },
    "tags": []
   },
   "outputs": [
    {
     "name": "stdout",
     "output_type": "stream",
     "text": [
      "[Success] Bulk job creation successful. Job ID = 7505w00000ZJLC6AAP\n",
      "hello\n"
     ]
    },
    {
     "name": "stdout",
     "output_type": "stream",
     "text": [
      "[Success] CSV upload successful. Job ID = 7505w00000ZJLC6AAP\n"
     ]
    },
    {
     "name": "stdout",
     "output_type": "stream",
     "text": [
      "[Success] Closing job successful. Job ID = 7505w00000ZJLC6AAP\n"
     ]
    }
   ],
   "source": [
    "db_s.object_id = object_id\n",
    "db_s.external_id = external_id\n",
    "\n",
    "# send data to Salesforce\n",
    "db_s.send_data(sf_df)"
   ]
  },
  {
   "cell_type": "code",
   "execution_count": 17,
   "id": "3745c0a6",
   "metadata": {
    "execution": {
     "iopub.execute_input": "2021-08-26T04:53:02.395820Z",
     "iopub.status.busy": "2021-08-26T04:53:02.395113Z",
     "iopub.status.idle": "2021-08-26T04:53:02.722955Z",
     "shell.execute_reply": "2021-08-26T04:53:02.723767Z"
    },
    "jupyter": {
     "source_hidden": true
    },
    "papermill": {
     "duration": 0.416482,
     "end_time": "2021-08-26T04:53:02.723994",
     "exception": false,
     "start_time": "2021-08-26T04:53:02.307512",
     "status": "completed"
    },
    "tags": []
   },
   "outputs": [
    {
     "data": {
      "text/plain": [
       "{'id': '7505w00000ZJLC6AAP',\n",
       " 'operation': 'upsert',\n",
       " 'object': 'Contact',\n",
       " 'createdById': '0055w00000DM5bOAAT',\n",
       " 'createdDate': '2021-08-26T04:52:53.000+0000',\n",
       " 'systemModstamp': '2021-08-26T04:53:02.000+0000',\n",
       " 'state': 'UploadComplete',\n",
       " 'externalIdFieldName': 'nanoHUB_user_ID__c',\n",
       " 'concurrencyMode': 'Parallel',\n",
       " 'contentType': 'CSV',\n",
       " 'apiVersion': 47.0,\n",
       " 'jobType': 'V2Ingest',\n",
       " 'lineEnding': 'LF',\n",
       " 'columnDelimiter': 'COMMA',\n",
       " 'numberRecordsProcessed': 0,\n",
       " 'numberRecordsFailed': 0,\n",
       " 'retries': 0,\n",
       " 'totalProcessingTime': 0,\n",
       " 'apiActiveProcessingTime': 0,\n",
       " 'apexProcessingTime': 0}"
      ]
     },
     "execution_count": 17,
     "metadata": {},
     "output_type": "execute_result"
    }
   ],
   "source": [
    "# check status\n",
    "db_s.check_bulk_status()"
   ]
  },
  {
   "cell_type": "code",
   "execution_count": 18,
   "id": "89e66dd7",
   "metadata": {
    "execution": {
     "iopub.execute_input": "2021-08-26T04:53:02.876129Z",
     "iopub.status.busy": "2021-08-26T04:53:02.875386Z",
     "iopub.status.idle": "2021-08-26T04:53:03.103948Z",
     "shell.execute_reply": "2021-08-26T04:53:03.104767Z"
    },
    "jupyter": {
     "source_hidden": true
    },
    "papermill": {
     "duration": 0.306317,
     "end_time": "2021-08-26T04:53:03.105038",
     "exception": false,
     "start_time": "2021-08-26T04:53:02.798721",
     "status": "completed"
    },
    "tags": []
   },
   "outputs": [
    {
     "name": "stdout",
     "output_type": "stream",
     "text": [
      "''\n"
     ]
    }
   ],
   "source": [
    "# check status\n",
    "from pprint import pprint\n",
    "\n",
    "pprint(db_s.check_bulk_failed_results())"
   ]
  },
  {
   "cell_type": "code",
   "execution_count": null,
   "id": "704627a3",
   "metadata": {
    "jupyter": {
     "source_hidden": true
    },
    "papermill": {
     "duration": 0.069919,
     "end_time": "2021-08-26T04:53:03.259054",
     "exception": false,
     "start_time": "2021-08-26T04:53:03.189135",
     "status": "completed"
    },
    "tags": []
   },
   "outputs": [],
   "source": []
  },
  {
   "cell_type": "code",
   "execution_count": null,
   "id": "e50ce03d",
   "metadata": {
    "jupyter": {
     "source_hidden": true
    },
    "papermill": {
     "duration": 0.070731,
     "end_time": "2021-08-26T04:53:03.406508",
     "exception": false,
     "start_time": "2021-08-26T04:53:03.335777",
     "status": "completed"
    },
    "tags": []
   },
   "outputs": [],
   "source": []
  }
 ],
 "metadata": {
  "kernelspec": {
   "display_name": "Python 3",
   "language": "python",
   "name": "python3"
  },
  "language_info": {
   "codemirror_mode": {
    "name": "ipython",
    "version": 3
   },
   "file_extension": ".py",
   "mimetype": "text/x-python",
   "name": "python",
   "nbconvert_exporter": "python",
   "pygments_lexer": "ipython3",
   "version": "3.8.2"
  },
  "papermill": {
   "default_parameters": {},
   "duration": 30.174807,
   "end_time": "2021-08-26T04:53:03.798079",
   "environment_variables": {},
   "exception": null,
   "input_path": "nanoHUB/pipeline/salesforce/task_update_static_personalinfo.ipynb",
   "output_path": "./.output/task_update_static_personalinfo.ipynb",
   "parameters": {},
   "start_time": "2021-08-26T04:52:33.623272",
   "version": "2.3.3"
  }
 },
 "nbformat": 4,
 "nbformat_minor": 5
}