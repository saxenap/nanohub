{
 "cells": [
  {
   "cell_type": "markdown",
   "id": "c1f6ee55",
   "metadata": {
    "papermill": {
     "duration": 0.056916,
     "end_time": "2021-10-22T12:02:35.157864",
     "exception": false,
     "start_time": "2021-10-22T12:02:35.100948",
     "status": "completed"
    },
    "tags": []
   },
   "source": [
    "# DB2-Salesforce connector: updates all of the personalized questions from jos_user_profiles"
   ]
  },
  {
   "cell_type": "code",
   "execution_count": 1,
   "id": "c3684579",
   "metadata": {
    "execution": {
     "iopub.execute_input": "2021-10-22T12:02:35.242716Z",
     "iopub.status.busy": "2021-10-22T12:02:35.242051Z",
     "iopub.status.idle": "2021-10-22T12:02:36.870586Z",
     "shell.execute_reply": "2021-10-22T12:02:36.871552Z"
    },
    "jupyter": {
     "source_hidden": true
    },
    "papermill": {
     "duration": 1.67566,
     "end_time": "2021-10-22T12:02:36.872126",
     "exception": false,
     "start_time": "2021-10-22T12:02:35.196466",
     "status": "completed"
    },
    "tags": []
   },
   "outputs": [
    {
     "name": "stdout",
     "output_type": "stream",
     "text": [
      "\u001b[1mnanoHUB - Serving Students, Researchers & Instructors\u001b[0m\n"
     ]
    },
    {
     "name": "stdout",
     "output_type": "stream",
     "text": [
      "Obtained Salesforce access token ...... True\n"
     ]
    }
   ],
   "source": [
    "# Parameters\n",
    "# API settings\n",
    "api_url = '/services/data/v43.0/sobjects'\n",
    "external_id = 'nanoHUB_user_ID__c'\n",
    "object_id = 'Contact'\n",
    "\n",
    "# login parameters to be handled by Papermill\n",
    "from nanoHUB.application import Application\n",
    "\n",
    "application = Application.get_instance()\n",
    "nanohub_db = application.new_db_engine('nanohub')\n",
    "\n",
    "salesforce = application.new_salesforce_engine()\n",
    "db_s = salesforce"
   ]
  },
  {
   "cell_type": "code",
   "execution_count": 2,
   "id": "46c52e9a",
   "metadata": {
    "collapsed": false,
    "execution": {
     "iopub.execute_input": "2021-10-22T12:02:36.964701Z",
     "iopub.status.busy": "2021-10-22T12:02:36.963932Z",
     "iopub.status.idle": "2021-10-22T12:02:36.965908Z",
     "shell.execute_reply": "2021-10-22T12:02:36.966684Z"
    },
    "jupyter": {
     "source_hidden": true
    },
    "papermill": {
     "duration": 0.045265,
     "end_time": "2021-10-22T12:02:36.966851",
     "exception": false,
     "start_time": "2021-10-22T12:02:36.921586",
     "status": "completed"
    },
    "pycharm": {
     "name": "#%%\n"
    },
    "tags": []
   },
   "outputs": [],
   "source": [
    "import pandas as pd\n",
    "import datetime"
   ]
  },
  {
   "cell_type": "markdown",
   "id": "f54ce7cf",
   "metadata": {
    "papermill": {
     "duration": 0.037183,
     "end_time": "2021-10-22T12:02:37.041597",
     "exception": false,
     "start_time": "2021-10-22T12:02:37.004414",
     "status": "completed"
    },
    "tags": []
   },
   "source": [
    "## Get the latest email opt in/out data from DB2\n"
   ]
  },
  {
   "cell_type": "code",
   "execution_count": 3,
   "id": "71d8badb",
   "metadata": {
    "execution": {
     "iopub.execute_input": "2021-10-22T12:02:37.121993Z",
     "iopub.status.busy": "2021-10-22T12:02:37.121137Z",
     "iopub.status.idle": "2021-10-22T12:02:37.123894Z",
     "shell.execute_reply": "2021-10-22T12:02:37.124655Z"
    },
    "jupyter": {
     "source_hidden": true
    },
    "papermill": {
     "duration": 0.046007,
     "end_time": "2021-10-22T12:02:37.125157",
     "exception": false,
     "start_time": "2021-10-22T12:02:37.079150",
     "status": "completed"
    },
    "tags": []
   },
   "outputs": [],
   "source": [
    "# connect with DB2"
   ]
  },
  {
   "cell_type": "code",
   "execution_count": 4,
   "id": "3d6b32e0",
   "metadata": {
    "execution": {
     "iopub.execute_input": "2021-10-22T12:02:37.213160Z",
     "iopub.status.busy": "2021-10-22T12:02:37.212530Z",
     "iopub.status.idle": "2021-10-22T12:02:47.825532Z",
     "shell.execute_reply": "2021-10-22T12:02:47.826048Z"
    },
    "jupyter": {
     "source_hidden": true
    },
    "papermill": {
     "duration": 10.662913,
     "end_time": "2021-10-22T12:02:47.826322",
     "exception": false,
     "start_time": "2021-10-22T12:02:37.163409",
     "status": "completed"
    },
    "tags": []
   },
   "outputs": [],
   "source": [
    "# get user motivations to join NH\n",
    "reasons = pd.read_sql_query(\"select id, user_id, profile_key, profile_value from jos_user_profiles \\\n",
    "where profile_key in ('reason') order by user_id desc;\",nanohub_db) #limit 5000 per night in the future\n",
    "\n",
    "how_hear = pd.read_sql_query(\"select id, user_id, profile_key, profile_value from jos_user_profiles \\\n",
    "where profile_key in ('howdidyouhear') order by user_id desc;\",nanohub_db)\n",
    "\n",
    "purpose = pd.read_sql_query(\"select id, user_id, profile_key, profile_value from jos_user_profiles \\\n",
    "where profile_key in ('purposeofvisit') order by user_id desc;\",nanohub_db)\n",
    "\n",
    "gender = pd.read_sql_query(\"select id, user_id, profile_key, profile_value from jos_user_profiles \\\n",
    "where profile_key in ('gender') order by user_id desc;\",nanohub_db)\n",
    "\n",
    "native =  pd.read_sql_query(\"select id, user_id, profile_key, profile_value from jos_user_profiles \\\n",
    "where profile_key in ('nativeTribe') order by user_id desc;\",nanohub_db)\n",
    "\n",
    "hispanic =  pd.read_sql_query(\"select id, user_id, profile_key, profile_value from jos_user_profiles \\\n",
    "where profile_key in ('hispanic') order by user_id desc;\",nanohub_db)\n",
    "\n",
    "disability =  pd.read_sql_query(\"select id, user_id, profile_key, profile_value from jos_user_profiles \\\n",
    "where profile_key in ('disability') order by user_id desc;\",nanohub_db)\n",
    "\n",
    "race =  pd.read_sql_query(\"select id, user_id, profile_key, profile_value from jos_user_profiles \\\n",
    "where profile_key in ('race') order by user_id desc;\",nanohub_db)"
   ]
  },
  {
   "cell_type": "code",
   "execution_count": 5,
   "id": "474e2593",
   "metadata": {
    "execution": {
     "iopub.execute_input": "2021-10-22T12:02:47.907177Z",
     "iopub.status.busy": "2021-10-22T12:02:47.906590Z",
     "iopub.status.idle": "2021-10-22T12:02:47.909089Z",
     "shell.execute_reply": "2021-10-22T12:02:47.909506Z"
    },
    "jupyter": {
     "source_hidden": true
    },
    "papermill": {
     "duration": 0.045903,
     "end_time": "2021-10-22T12:02:47.909732",
     "exception": false,
     "start_time": "2021-10-22T12:02:47.863829",
     "status": "completed"
    },
    "tags": []
   },
   "outputs": [
    {
     "name": "stdout",
     "output_type": "stream",
     "text": [
      "(55302, 4)\n",
      "(73966, 4)\n",
      "(73987, 4)\n",
      "(79291, 4)\n",
      "(373, 4)\n",
      "(58770, 4)\n",
      "(64421, 4)\n",
      "(34943, 4)\n"
     ]
    }
   ],
   "source": [
    "print(reasons.shape)\n",
    "print(how_hear.shape)\n",
    "print(purpose.shape)\n",
    "print(gender.shape)\n",
    "print(native.shape)\n",
    "print(hispanic.shape)\n",
    "print(disability.shape)\n",
    "print(race.shape)"
   ]
  },
  {
   "cell_type": "code",
   "execution_count": 6,
   "id": "f3395204",
   "metadata": {
    "execution": {
     "iopub.execute_input": "2021-10-22T12:02:48.001604Z",
     "iopub.status.busy": "2021-10-22T12:02:48.000833Z",
     "iopub.status.idle": "2021-10-22T12:02:48.037047Z",
     "shell.execute_reply": "2021-10-22T12:02:48.037769Z"
    },
    "jupyter": {
     "source_hidden": true
    },
    "papermill": {
     "duration": 0.090059,
     "end_time": "2021-10-22T12:02:48.038135",
     "exception": false,
     "start_time": "2021-10-22T12:02:47.948076",
     "status": "completed"
    },
    "tags": []
   },
   "outputs": [
    {
     "data": {
      "text/html": [
       "<div>\n",
       "<style scoped>\n",
       "    .dataframe tbody tr th:only-of-type {\n",
       "        vertical-align: middle;\n",
       "    }\n",
       "\n",
       "    .dataframe tbody tr th {\n",
       "        vertical-align: top;\n",
       "    }\n",
       "\n",
       "    .dataframe thead th {\n",
       "        text-align: right;\n",
       "    }\n",
       "</style>\n",
       "<table border=\"1\" class=\"dataframe\">\n",
       "  <thead>\n",
       "    <tr style=\"text-align: right;\">\n",
       "      <th></th>\n",
       "      <th>id</th>\n",
       "      <th>user_id</th>\n",
       "      <th>profile_key</th>\n",
       "      <th>profile_value</th>\n",
       "    </tr>\n",
       "  </thead>\n",
       "  <tbody>\n",
       "    <tr>\n",
       "      <th>0</th>\n",
       "      <td>2206120</td>\n",
       "      <td>342929</td>\n",
       "      <td>reason</td>\n",
       "      <td>Developing a new course</td>\n",
       "    </tr>\n",
       "    <tr>\n",
       "      <th>1</th>\n",
       "      <td>2205727</td>\n",
       "      <td>342841</td>\n",
       "      <td>reason</td>\n",
       "      <td>Learning about subject matter</td>\n",
       "    </tr>\n",
       "  </tbody>\n",
       "</table>\n",
       "</div>"
      ],
      "text/plain": [
       "        id  user_id profile_key                  profile_value\n",
       "0  2206120   342929      reason        Developing a new course\n",
       "1  2205727   342841      reason  Learning about subject matter"
      ]
     },
     "metadata": {},
     "output_type": "display_data"
    },
    {
     "data": {
      "text/html": [
       "<div>\n",
       "<style scoped>\n",
       "    .dataframe tbody tr th:only-of-type {\n",
       "        vertical-align: middle;\n",
       "    }\n",
       "\n",
       "    .dataframe tbody tr th {\n",
       "        vertical-align: top;\n",
       "    }\n",
       "\n",
       "    .dataframe thead th {\n",
       "        text-align: right;\n",
       "    }\n",
       "</style>\n",
       "<table border=\"1\" class=\"dataframe\">\n",
       "  <thead>\n",
       "    <tr style=\"text-align: right;\">\n",
       "      <th></th>\n",
       "      <th>id</th>\n",
       "      <th>user_id</th>\n",
       "      <th>profile_key</th>\n",
       "      <th>profile_value</th>\n",
       "    </tr>\n",
       "  </thead>\n",
       "  <tbody>\n",
       "    <tr>\n",
       "      <th>0</th>\n",
       "      <td>2206254</td>\n",
       "      <td>342958</td>\n",
       "      <td>howdidyouhear</td>\n",
       "      <td>From a colleague</td>\n",
       "    </tr>\n",
       "    <tr>\n",
       "      <th>1</th>\n",
       "      <td>2206248</td>\n",
       "      <td>342957</td>\n",
       "      <td>howdidyouhear</td>\n",
       "      <td>Web search</td>\n",
       "    </tr>\n",
       "  </tbody>\n",
       "</table>\n",
       "</div>"
      ],
      "text/plain": [
       "        id  user_id    profile_key     profile_value\n",
       "0  2206254   342958  howdidyouhear  From a colleague\n",
       "1  2206248   342957  howdidyouhear        Web search"
      ]
     },
     "metadata": {},
     "output_type": "display_data"
    },
    {
     "data": {
      "text/html": [
       "<div>\n",
       "<style scoped>\n",
       "    .dataframe tbody tr th:only-of-type {\n",
       "        vertical-align: middle;\n",
       "    }\n",
       "\n",
       "    .dataframe tbody tr th {\n",
       "        vertical-align: top;\n",
       "    }\n",
       "\n",
       "    .dataframe thead th {\n",
       "        text-align: right;\n",
       "    }\n",
       "</style>\n",
       "<table border=\"1\" class=\"dataframe\">\n",
       "  <thead>\n",
       "    <tr style=\"text-align: right;\">\n",
       "      <th></th>\n",
       "      <th>id</th>\n",
       "      <th>user_id</th>\n",
       "      <th>profile_key</th>\n",
       "      <th>profile_value</th>\n",
       "    </tr>\n",
       "  </thead>\n",
       "  <tbody>\n",
       "    <tr>\n",
       "      <th>0</th>\n",
       "      <td>2206255</td>\n",
       "      <td>342958</td>\n",
       "      <td>purposeofvisit</td>\n",
       "      <td>Explore content</td>\n",
       "    </tr>\n",
       "    <tr>\n",
       "      <th>1</th>\n",
       "      <td>2206249</td>\n",
       "      <td>342957</td>\n",
       "      <td>purposeofvisit</td>\n",
       "      <td>Other</td>\n",
       "    </tr>\n",
       "  </tbody>\n",
       "</table>\n",
       "</div>"
      ],
      "text/plain": [
       "        id  user_id     profile_key    profile_value\n",
       "0  2206255   342958  purposeofvisit  Explore content\n",
       "1  2206249   342957  purposeofvisit            Other"
      ]
     },
     "metadata": {},
     "output_type": "display_data"
    },
    {
     "data": {
      "text/html": [
       "<div>\n",
       "<style scoped>\n",
       "    .dataframe tbody tr th:only-of-type {\n",
       "        vertical-align: middle;\n",
       "    }\n",
       "\n",
       "    .dataframe tbody tr th {\n",
       "        vertical-align: top;\n",
       "    }\n",
       "\n",
       "    .dataframe thead th {\n",
       "        text-align: right;\n",
       "    }\n",
       "</style>\n",
       "<table border=\"1\" class=\"dataframe\">\n",
       "  <thead>\n",
       "    <tr style=\"text-align: right;\">\n",
       "      <th></th>\n",
       "      <th>id</th>\n",
       "      <th>user_id</th>\n",
       "      <th>profile_key</th>\n",
       "      <th>profile_value</th>\n",
       "    </tr>\n",
       "  </thead>\n",
       "  <tbody>\n",
       "    <tr>\n",
       "      <th>0</th>\n",
       "      <td>2205824</td>\n",
       "      <td>342862</td>\n",
       "      <td>gender</td>\n",
       "      <td>male</td>\n",
       "    </tr>\n",
       "    <tr>\n",
       "      <th>1</th>\n",
       "      <td>2205781</td>\n",
       "      <td>342851</td>\n",
       "      <td>gender</td>\n",
       "      <td>male</td>\n",
       "    </tr>\n",
       "  </tbody>\n",
       "</table>\n",
       "</div>"
      ],
      "text/plain": [
       "        id  user_id profile_key profile_value\n",
       "0  2205824   342862      gender          male\n",
       "1  2205781   342851      gender          male"
      ]
     },
     "metadata": {},
     "output_type": "display_data"
    },
    {
     "data": {
      "text/html": [
       "<div>\n",
       "<style scoped>\n",
       "    .dataframe tbody tr th:only-of-type {\n",
       "        vertical-align: middle;\n",
       "    }\n",
       "\n",
       "    .dataframe tbody tr th {\n",
       "        vertical-align: top;\n",
       "    }\n",
       "\n",
       "    .dataframe thead th {\n",
       "        text-align: right;\n",
       "    }\n",
       "</style>\n",
       "<table border=\"1\" class=\"dataframe\">\n",
       "  <thead>\n",
       "    <tr style=\"text-align: right;\">\n",
       "      <th></th>\n",
       "      <th>id</th>\n",
       "      <th>user_id</th>\n",
       "      <th>profile_key</th>\n",
       "      <th>profile_value</th>\n",
       "    </tr>\n",
       "  </thead>\n",
       "  <tbody>\n",
       "    <tr>\n",
       "      <th>0</th>\n",
       "      <td>532845</td>\n",
       "      <td>144140</td>\n",
       "      <td>nativeTribe</td>\n",
       "      <td>Human</td>\n",
       "    </tr>\n",
       "    <tr>\n",
       "      <th>1</th>\n",
       "      <td>532844</td>\n",
       "      <td>140369</td>\n",
       "      <td>nativeTribe</td>\n",
       "      <td>Aniyuwiya</td>\n",
       "    </tr>\n",
       "  </tbody>\n",
       "</table>\n",
       "</div>"
      ],
      "text/plain": [
       "       id  user_id  profile_key profile_value\n",
       "0  532845   144140  nativeTribe         Human\n",
       "1  532844   140369  nativeTribe     Aniyuwiya"
      ]
     },
     "metadata": {},
     "output_type": "display_data"
    },
    {
     "data": {
      "text/html": [
       "<div>\n",
       "<style scoped>\n",
       "    .dataframe tbody tr th:only-of-type {\n",
       "        vertical-align: middle;\n",
       "    }\n",
       "\n",
       "    .dataframe tbody tr th {\n",
       "        vertical-align: top;\n",
       "    }\n",
       "\n",
       "    .dataframe thead th {\n",
       "        text-align: right;\n",
       "    }\n",
       "</style>\n",
       "<table border=\"1\" class=\"dataframe\">\n",
       "  <thead>\n",
       "    <tr style=\"text-align: right;\">\n",
       "      <th></th>\n",
       "      <th>id</th>\n",
       "      <th>user_id</th>\n",
       "      <th>profile_key</th>\n",
       "      <th>profile_value</th>\n",
       "    </tr>\n",
       "  </thead>\n",
       "  <tbody>\n",
       "    <tr>\n",
       "      <th>0</th>\n",
       "      <td>2200087</td>\n",
       "      <td>341731</td>\n",
       "      <td>hispanic</td>\n",
       "      <td>no</td>\n",
       "    </tr>\n",
       "    <tr>\n",
       "      <th>1</th>\n",
       "      <td>2201718</td>\n",
       "      <td>339240</td>\n",
       "      <td>hispanic</td>\n",
       "      <td>no</td>\n",
       "    </tr>\n",
       "  </tbody>\n",
       "</table>\n",
       "</div>"
      ],
      "text/plain": [
       "        id  user_id profile_key profile_value\n",
       "0  2200087   341731    hispanic            no\n",
       "1  2201718   339240    hispanic            no"
      ]
     },
     "metadata": {},
     "output_type": "display_data"
    },
    {
     "data": {
      "text/html": [
       "<div>\n",
       "<style scoped>\n",
       "    .dataframe tbody tr th:only-of-type {\n",
       "        vertical-align: middle;\n",
       "    }\n",
       "\n",
       "    .dataframe tbody tr th {\n",
       "        vertical-align: top;\n",
       "    }\n",
       "\n",
       "    .dataframe thead th {\n",
       "        text-align: right;\n",
       "    }\n",
       "</style>\n",
       "<table border=\"1\" class=\"dataframe\">\n",
       "  <thead>\n",
       "    <tr style=\"text-align: right;\">\n",
       "      <th></th>\n",
       "      <th>id</th>\n",
       "      <th>user_id</th>\n",
       "      <th>profile_key</th>\n",
       "      <th>profile_value</th>\n",
       "    </tr>\n",
       "  </thead>\n",
       "  <tbody>\n",
       "    <tr>\n",
       "      <th>0</th>\n",
       "      <td>2204567</td>\n",
       "      <td>342600</td>\n",
       "      <td>disability</td>\n",
       "      <td>no</td>\n",
       "    </tr>\n",
       "    <tr>\n",
       "      <th>1</th>\n",
       "      <td>2200090</td>\n",
       "      <td>341731</td>\n",
       "      <td>disability</td>\n",
       "      <td>no</td>\n",
       "    </tr>\n",
       "  </tbody>\n",
       "</table>\n",
       "</div>"
      ],
      "text/plain": [
       "        id  user_id profile_key profile_value\n",
       "0  2204567   342600  disability            no\n",
       "1  2200090   341731  disability            no"
      ]
     },
     "metadata": {},
     "output_type": "display_data"
    },
    {
     "data": {
      "text/html": [
       "<div>\n",
       "<style scoped>\n",
       "    .dataframe tbody tr th:only-of-type {\n",
       "        vertical-align: middle;\n",
       "    }\n",
       "\n",
       "    .dataframe tbody tr th {\n",
       "        vertical-align: top;\n",
       "    }\n",
       "\n",
       "    .dataframe thead th {\n",
       "        text-align: right;\n",
       "    }\n",
       "</style>\n",
       "<table border=\"1\" class=\"dataframe\">\n",
       "  <thead>\n",
       "    <tr style=\"text-align: right;\">\n",
       "      <th></th>\n",
       "      <th>id</th>\n",
       "      <th>user_id</th>\n",
       "      <th>profile_key</th>\n",
       "      <th>profile_value</th>\n",
       "    </tr>\n",
       "  </thead>\n",
       "  <tbody>\n",
       "    <tr>\n",
       "      <th>0</th>\n",
       "      <td>2205280</td>\n",
       "      <td>341027</td>\n",
       "      <td>race</td>\n",
       "      <td>refused</td>\n",
       "    </tr>\n",
       "    <tr>\n",
       "      <th>1</th>\n",
       "      <td>2204896</td>\n",
       "      <td>341008</td>\n",
       "      <td>race</td>\n",
       "      <td>white</td>\n",
       "    </tr>\n",
       "  </tbody>\n",
       "</table>\n",
       "</div>"
      ],
      "text/plain": [
       "        id  user_id profile_key profile_value\n",
       "0  2205280   341027        race       refused\n",
       "1  2204896   341008        race         white"
      ]
     },
     "metadata": {},
     "output_type": "display_data"
    }
   ],
   "source": [
    "display(reasons.head(2))\n",
    "display(how_hear.head(2))\n",
    "display(purpose.head(2))\n",
    "display(gender.head(2))\n",
    "display(native.head(2))\n",
    "display(hispanic.head(2))\n",
    "display(disability.head(2))\n",
    "display(race.head(2))"
   ]
  },
  {
   "cell_type": "code",
   "execution_count": 7,
   "id": "3b101a4e",
   "metadata": {
    "execution": {
     "iopub.execute_input": "2021-10-22T12:02:48.143890Z",
     "iopub.status.busy": "2021-10-22T12:02:48.143353Z",
     "iopub.status.idle": "2021-10-22T12:02:48.169146Z",
     "shell.execute_reply": "2021-10-22T12:02:48.169713Z"
    },
    "jupyter": {
     "source_hidden": true
    },
    "papermill": {
     "duration": 0.080536,
     "end_time": "2021-10-22T12:02:48.170013",
     "exception": false,
     "start_time": "2021-10-22T12:02:48.089477",
     "status": "completed"
    },
    "tags": []
   },
   "outputs": [
    {
     "data": {
      "text/html": [
       "<div>\n",
       "<style scoped>\n",
       "    .dataframe tbody tr th:only-of-type {\n",
       "        vertical-align: middle;\n",
       "    }\n",
       "\n",
       "    .dataframe tbody tr th {\n",
       "        vertical-align: top;\n",
       "    }\n",
       "\n",
       "    .dataframe thead th {\n",
       "        text-align: right;\n",
       "    }\n",
       "</style>\n",
       "<table border=\"1\" class=\"dataframe\">\n",
       "  <thead>\n",
       "    <tr style=\"text-align: right;\">\n",
       "      <th></th>\n",
       "      <th>id</th>\n",
       "      <th>user_id</th>\n",
       "      <th>profile_key</th>\n",
       "      <th>profile_value</th>\n",
       "    </tr>\n",
       "  </thead>\n",
       "  <tbody>\n",
       "    <tr>\n",
       "      <th>0</th>\n",
       "      <td>2205824</td>\n",
       "      <td>342862</td>\n",
       "      <td>gender</td>\n",
       "      <td>Male</td>\n",
       "    </tr>\n",
       "    <tr>\n",
       "      <th>1</th>\n",
       "      <td>2205781</td>\n",
       "      <td>342851</td>\n",
       "      <td>gender</td>\n",
       "      <td>Male</td>\n",
       "    </tr>\n",
       "  </tbody>\n",
       "</table>\n",
       "</div>"
      ],
      "text/plain": [
       "        id  user_id profile_key profile_value\n",
       "0  2205824   342862      gender          Male\n",
       "1  2205781   342851      gender          Male"
      ]
     },
     "metadata": {},
     "output_type": "display_data"
    }
   ],
   "source": [
    "#gender, hispanic, disability, race\n",
    "gender['profile_value'] = gender['profile_value'].apply(lambda x: x.capitalize())\n",
    "display(gender.head(2))\n"
   ]
  },
  {
   "cell_type": "code",
   "execution_count": 8,
   "id": "598482da",
   "metadata": {
    "execution": {
     "iopub.execute_input": "2021-10-22T12:02:48.305193Z",
     "iopub.status.busy": "2021-10-22T12:02:48.288581Z",
     "iopub.status.idle": "2021-10-22T12:02:48.308537Z",
     "shell.execute_reply": "2021-10-22T12:02:48.309025Z"
    },
    "jupyter": {
     "source_hidden": true
    },
    "papermill": {
     "duration": 0.084568,
     "end_time": "2021-10-22T12:02:48.309376",
     "exception": false,
     "start_time": "2021-10-22T12:02:48.224808",
     "status": "completed"
    },
    "tags": []
   },
   "outputs": [
    {
     "data": {
      "text/html": [
       "<div>\n",
       "<style scoped>\n",
       "    .dataframe tbody tr th:only-of-type {\n",
       "        vertical-align: middle;\n",
       "    }\n",
       "\n",
       "    .dataframe tbody tr th {\n",
       "        vertical-align: top;\n",
       "    }\n",
       "\n",
       "    .dataframe thead th {\n",
       "        text-align: right;\n",
       "    }\n",
       "</style>\n",
       "<table border=\"1\" class=\"dataframe\">\n",
       "  <thead>\n",
       "    <tr style=\"text-align: right;\">\n",
       "      <th></th>\n",
       "      <th>id</th>\n",
       "      <th>user_id</th>\n",
       "      <th>profile_key</th>\n",
       "      <th>profile_value</th>\n",
       "    </tr>\n",
       "  </thead>\n",
       "  <tbody>\n",
       "    <tr>\n",
       "      <th>0</th>\n",
       "      <td>2200087</td>\n",
       "      <td>341731</td>\n",
       "      <td>hispanic</td>\n",
       "      <td>No (not Hispanic or Latino)</td>\n",
       "    </tr>\n",
       "    <tr>\n",
       "      <th>1</th>\n",
       "      <td>2201718</td>\n",
       "      <td>339240</td>\n",
       "      <td>hispanic</td>\n",
       "      <td>No (not Hispanic or Latino)</td>\n",
       "    </tr>\n",
       "  </tbody>\n",
       "</table>\n",
       "</div>"
      ],
      "text/plain": [
       "        id  user_id profile_key                profile_value\n",
       "0  2200087   341731    hispanic  No (not Hispanic or Latino)\n",
       "1  2201718   339240    hispanic  No (not Hispanic or Latino)"
      ]
     },
     "metadata": {},
     "output_type": "display_data"
    }
   ],
   "source": [
    "h_list = hispanic['profile_value'].to_list()\n",
    "\n",
    "for ind,val in enumerate(h_list):\n",
    "    if val == 'Puertorico' or val == 'Puertorican':\n",
    "        h_list[ind] = 'Puerto Rican'\n",
    "    elif val == 'Mexican':\n",
    "        h_list[ind] = 'Mexican American or Chicano'\n",
    "    elif val == 'no':\n",
    "        h_list[ind] = 'No (not Hispanic or Latino)'\n",
    "    elif val == 'refused':\n",
    "        h_list[ind] = 'Do not wish to reveal'\n",
    "\n",
    "hispanic['profile_value'] = h_list\n",
    "display(hispanic.head(2))"
   ]
  },
  {
   "cell_type": "code",
   "execution_count": 9,
   "id": "b68dbd4a",
   "metadata": {
    "execution": {
     "iopub.execute_input": "2021-10-22T12:02:48.492441Z",
     "iopub.status.busy": "2021-10-22T12:02:48.491513Z",
     "iopub.status.idle": "2021-10-22T12:02:48.494900Z",
     "shell.execute_reply": "2021-10-22T12:02:48.495326Z"
    },
    "jupyter": {
     "source_hidden": true
    },
    "papermill": {
     "duration": 0.131326,
     "end_time": "2021-10-22T12:02:48.495632",
     "exception": false,
     "start_time": "2021-10-22T12:02:48.364306",
     "status": "completed"
    },
    "tags": []
   },
   "outputs": [
    {
     "data": {
      "text/html": [
       "<div>\n",
       "<style scoped>\n",
       "    .dataframe tbody tr th:only-of-type {\n",
       "        vertical-align: middle;\n",
       "    }\n",
       "\n",
       "    .dataframe tbody tr th {\n",
       "        vertical-align: top;\n",
       "    }\n",
       "\n",
       "    .dataframe thead th {\n",
       "        text-align: right;\n",
       "    }\n",
       "</style>\n",
       "<table border=\"1\" class=\"dataframe\">\n",
       "  <thead>\n",
       "    <tr style=\"text-align: right;\">\n",
       "      <th></th>\n",
       "      <th>id</th>\n",
       "      <th>user_id</th>\n",
       "      <th>profile_key</th>\n",
       "      <th>profile_value</th>\n",
       "    </tr>\n",
       "  </thead>\n",
       "  <tbody>\n",
       "    <tr>\n",
       "      <th>0</th>\n",
       "      <td>2204567</td>\n",
       "      <td>342600</td>\n",
       "      <td>disability</td>\n",
       "      <td>No (none)</td>\n",
       "    </tr>\n",
       "    <tr>\n",
       "      <th>1</th>\n",
       "      <td>2200090</td>\n",
       "      <td>341731</td>\n",
       "      <td>disability</td>\n",
       "      <td>No (none)</td>\n",
       "    </tr>\n",
       "  </tbody>\n",
       "</table>\n",
       "</div>"
      ],
      "text/plain": [
       "        id  user_id profile_key profile_value\n",
       "0  2204567   342600  disability     No (none)\n",
       "1  2200090   341731  disability     No (none)"
      ]
     },
     "metadata": {},
     "output_type": "display_data"
    }
   ],
   "source": [
    "d_list = disability['profile_value'].to_list()\n",
    "\n",
    "for ind,val in enumerate(d_list):\n",
    "    if val == 'blind':\n",
    "        d_list[ind] = 'Blind/Visually Impaired'\n",
    "    elif val == 'deaf':\n",
    "        d_list[ind] = 'Deaf/Hard of Hearing'\n",
    "    elif val == 'physical':\n",
    "        d_list[ind] = 'Physical/Orthopedic Disability'\n",
    "    elif val == 'learning':\n",
    "        d_list[ind] = 'Learning/Cognitive Disability'\n",
    "    elif val == 'vocal':\n",
    "        d_list[ind] = 'Vocal/Speech Disability'\n",
    "    elif val == 'no':\n",
    "        d_list[ind] = 'No (none)'\n",
    "    elif val == 'refused':\n",
    "        d_list[ind] = 'Do not wish to reveal'\n",
    "\n",
    "disability['profile_value'] = d_list\n",
    "display(disability.head(2))"
   ]
  },
  {
   "cell_type": "code",
   "execution_count": 10,
   "id": "5aca0f6d",
   "metadata": {
    "execution": {
     "iopub.execute_input": "2021-10-22T12:02:48.629582Z",
     "iopub.status.busy": "2021-10-22T12:02:48.624467Z",
     "iopub.status.idle": "2021-10-22T12:02:48.633627Z",
     "shell.execute_reply": "2021-10-22T12:02:48.632984Z"
    },
    "jupyter": {
     "source_hidden": true
    },
    "papermill": {
     "duration": 0.080381,
     "end_time": "2021-10-22T12:02:48.634168",
     "exception": false,
     "start_time": "2021-10-22T12:02:48.553787",
     "status": "completed"
    },
    "tags": []
   },
   "outputs": [
    {
     "data": {
      "text/html": [
       "<div>\n",
       "<style scoped>\n",
       "    .dataframe tbody tr th:only-of-type {\n",
       "        vertical-align: middle;\n",
       "    }\n",
       "\n",
       "    .dataframe tbody tr th {\n",
       "        vertical-align: top;\n",
       "    }\n",
       "\n",
       "    .dataframe thead th {\n",
       "        text-align: right;\n",
       "    }\n",
       "</style>\n",
       "<table border=\"1\" class=\"dataframe\">\n",
       "  <thead>\n",
       "    <tr style=\"text-align: right;\">\n",
       "      <th></th>\n",
       "      <th>id</th>\n",
       "      <th>user_id</th>\n",
       "      <th>profile_key</th>\n",
       "      <th>profile_value</th>\n",
       "    </tr>\n",
       "  </thead>\n",
       "  <tbody>\n",
       "    <tr>\n",
       "      <th>0</th>\n",
       "      <td>2205280</td>\n",
       "      <td>341027</td>\n",
       "      <td>race</td>\n",
       "      <td>Do not wish to reveal</td>\n",
       "    </tr>\n",
       "    <tr>\n",
       "      <th>1</th>\n",
       "      <td>2204896</td>\n",
       "      <td>341008</td>\n",
       "      <td>race</td>\n",
       "      <td>White</td>\n",
       "    </tr>\n",
       "  </tbody>\n",
       "</table>\n",
       "</div>"
      ],
      "text/plain": [
       "        id  user_id profile_key          profile_value\n",
       "0  2205280   341027        race  Do not wish to reveal\n",
       "1  2204896   341008        race                  White"
      ]
     },
     "metadata": {},
     "output_type": "display_data"
    }
   ],
   "source": [
    "r_list = race['profile_value'].to_list()\n",
    "\n",
    "for ind,val in enumerate(r_list):\n",
    "    if val == 'nativeamerican':\n",
    "        r_list[ind] = 'American Indian or Alaska Native'\n",
    "    elif val == 'asian':\n",
    "        r_list[ind] = 'Asian'\n",
    "    elif val == 'black':\n",
    "        r_list[ind] = 'Black or African American'\n",
    "    elif val == 'white':\n",
    "        r_list[ind] = 'White'\n",
    "    elif val == 'hispanic':\n",
    "        r_list[ind] = 'Hispanic or Latino'\n",
    "    elif val == 'hawaiian':\n",
    "        r_list[ind] = 'Native Hawaiian or Other Pacific Islander'\n",
    "    elif val == 'refused':\n",
    "        r_list[ind] = 'Do not wish to reveal'\n",
    "    else:\n",
    "        r_list[ind] = 'Do not wish to reveal'\n",
    "        \n",
    "race['profile_value'] = r_list\n",
    "display(race.head(2))"
   ]
  },
  {
   "cell_type": "code",
   "execution_count": 11,
   "id": "8b2bbbf3",
   "metadata": {
    "execution": {
     "iopub.execute_input": "2021-10-22T12:02:48.756532Z",
     "iopub.status.busy": "2021-10-22T12:02:48.755939Z",
     "iopub.status.idle": "2021-10-22T12:02:48.814196Z",
     "shell.execute_reply": "2021-10-22T12:02:48.814536Z"
    },
    "jupyter": {
     "source_hidden": true
    },
    "papermill": {
     "duration": 0.124555,
     "end_time": "2021-10-22T12:02:48.814706",
     "exception": false,
     "start_time": "2021-10-22T12:02:48.690151",
     "status": "completed"
    },
    "tags": []
   },
   "outputs": [
    {
     "data": {
      "text/html": [
       "<div>\n",
       "<style scoped>\n",
       "    .dataframe tbody tr th:only-of-type {\n",
       "        vertical-align: middle;\n",
       "    }\n",
       "\n",
       "    .dataframe tbody tr th {\n",
       "        vertical-align: top;\n",
       "    }\n",
       "\n",
       "    .dataframe thead th {\n",
       "        text-align: right;\n",
       "    }\n",
       "</style>\n",
       "<table border=\"1\" class=\"dataframe\">\n",
       "  <thead>\n",
       "    <tr style=\"text-align: right;\">\n",
       "      <th></th>\n",
       "      <th>reason</th>\n",
       "      <th>howdidyouhear</th>\n",
       "    </tr>\n",
       "    <tr>\n",
       "      <th>user_id</th>\n",
       "      <th></th>\n",
       "      <th></th>\n",
       "    </tr>\n",
       "  </thead>\n",
       "  <tbody>\n",
       "    <tr>\n",
       "      <th>342841</th>\n",
       "      <td>Learning about subject matter</td>\n",
       "      <td>Social media - Facebook</td>\n",
       "    </tr>\n",
       "    <tr>\n",
       "      <th>342929</th>\n",
       "      <td>Developing a new course</td>\n",
       "      <td>From a colleague</td>\n",
       "    </tr>\n",
       "  </tbody>\n",
       "</table>\n",
       "</div>"
      ],
      "text/plain": [
       "                                reason            howdidyouhear\n",
       "user_id                                                        \n",
       "342841   Learning about subject matter  Social media - Facebook\n",
       "342929         Developing a new course         From a colleague"
      ]
     },
     "metadata": {},
     "output_type": "display_data"
    }
   ],
   "source": [
    "# joining all of the dataframes together\n",
    "def join_dfs(df1,df2):\n",
    "    # extract the value of profile keys\n",
    "    try:\n",
    "        pk1 = df1['profile_key'][0]\n",
    "        pk2 = df2['profile_key'][0]\n",
    "        \n",
    "        # perform the join\n",
    "        df_joined = df1.set_index('user_id').join(df2.set_index('user_id'),rsuffix='1')\n",
    "        df_joined = df_joined.drop(columns=['id','id1','profile_key','profile_key1'])\n",
    "        df_joined = df_joined.rename(columns={'profile_value':pk1,'profile_value1':pk2})   \n",
    "    except:\n",
    "        pk2 = df2['profile_key'][0]\n",
    "        \n",
    "        #perform one sided join\n",
    "        df1 = df1.reset_index()\n",
    "        df_joined = df1.set_index('user_id').join(df2.set_index('user_id'),rsuffix='1')\n",
    "        df_joined = df_joined.drop(columns=['id','profile_key'])\n",
    "        df_joined = df_joined.rename(columns={'profile_value':pk2})   \n",
    "    \n",
    "    return df_joined\n",
    "\n",
    "# test to ensure it works\n",
    "temp = join_dfs(reasons,how_hear)\n",
    "display(temp.tail(2))"
   ]
  },
  {
   "cell_type": "code",
   "execution_count": 12,
   "id": "59a95bca",
   "metadata": {
    "execution": {
     "iopub.execute_input": "2021-10-22T12:02:48.940657Z",
     "iopub.status.busy": "2021-10-22T12:02:48.940031Z",
     "iopub.status.idle": "2021-10-22T12:02:49.233488Z",
     "shell.execute_reply": "2021-10-22T12:02:49.234023Z"
    },
    "jupyter": {
     "source_hidden": true
    },
    "papermill": {
     "duration": 0.361471,
     "end_time": "2021-10-22T12:02:49.234277",
     "exception": false,
     "start_time": "2021-10-22T12:02:48.872806",
     "status": "completed"
    },
    "tags": []
   },
   "outputs": [
    {
     "data": {
      "text/html": [
       "<div>\n",
       "<style scoped>\n",
       "    .dataframe tbody tr th:only-of-type {\n",
       "        vertical-align: middle;\n",
       "    }\n",
       "\n",
       "    .dataframe tbody tr th {\n",
       "        vertical-align: top;\n",
       "    }\n",
       "\n",
       "    .dataframe thead th {\n",
       "        text-align: right;\n",
       "    }\n",
       "</style>\n",
       "<table border=\"1\" class=\"dataframe\">\n",
       "  <thead>\n",
       "    <tr style=\"text-align: right;\">\n",
       "      <th></th>\n",
       "      <th>reason</th>\n",
       "      <th>howdidyouhear</th>\n",
       "      <th>purposeofvisit</th>\n",
       "      <th>gender</th>\n",
       "      <th>hispanic</th>\n",
       "      <th>disability</th>\n",
       "      <th>race</th>\n",
       "    </tr>\n",
       "    <tr>\n",
       "      <th>user_id</th>\n",
       "      <th></th>\n",
       "      <th></th>\n",
       "      <th></th>\n",
       "      <th></th>\n",
       "      <th></th>\n",
       "      <th></th>\n",
       "      <th></th>\n",
       "    </tr>\n",
       "  </thead>\n",
       "  <tbody>\n",
       "    <tr>\n",
       "      <th>342841</th>\n",
       "      <td>Learning about subject matter</td>\n",
       "      <td>Social media - Facebook</td>\n",
       "      <td>Other</td>\n",
       "      <td>Male</td>\n",
       "      <td>NaN</td>\n",
       "      <td>NaN</td>\n",
       "      <td>NaN</td>\n",
       "    </tr>\n",
       "    <tr>\n",
       "      <th>342929</th>\n",
       "      <td>Developing a new course</td>\n",
       "      <td>From a colleague</td>\n",
       "      <td>Explore content</td>\n",
       "      <td>NaN</td>\n",
       "      <td>NaN</td>\n",
       "      <td>NaN</td>\n",
       "      <td>NaN</td>\n",
       "    </tr>\n",
       "  </tbody>\n",
       "</table>\n",
       "</div>"
      ],
      "text/plain": [
       "                                reason            howdidyouhear  \\\n",
       "user_id                                                           \n",
       "342841   Learning about subject matter  Social media - Facebook   \n",
       "342929         Developing a new course         From a colleague   \n",
       "\n",
       "          purposeofvisit gender hispanic disability race  \n",
       "user_id                                                   \n",
       "342841             Other   Male      NaN        NaN  NaN  \n",
       "342929   Explore content    NaN      NaN        NaN  NaN  "
      ]
     },
     "metadata": {},
     "output_type": "display_data"
    }
   ],
   "source": [
    "# join all of the dataframes\n",
    "dfs = [purpose,gender,hispanic,disability,race] #native\n",
    "\n",
    "for df_instance in dfs:\n",
    "    temp = join_dfs(temp,df_instance)\n",
    "\n",
    "display(temp.tail(2))"
   ]
  },
  {
   "cell_type": "code",
   "execution_count": 13,
   "id": "7b2e2b2e",
   "metadata": {
    "execution": {
     "iopub.execute_input": "2021-10-22T12:02:49.356236Z",
     "iopub.status.busy": "2021-10-22T12:02:49.355462Z",
     "iopub.status.idle": "2021-10-22T12:02:49.368629Z",
     "shell.execute_reply": "2021-10-22T12:02:49.369248Z"
    },
    "jupyter": {
     "source_hidden": true
    },
    "papermill": {
     "duration": 0.077401,
     "end_time": "2021-10-22T12:02:49.369484",
     "exception": false,
     "start_time": "2021-10-22T12:02:49.292083",
     "status": "completed"
    },
    "tags": []
   },
   "outputs": [
    {
     "data": {
      "text/html": [
       "<div>\n",
       "<style scoped>\n",
       "    .dataframe tbody tr th:only-of-type {\n",
       "        vertical-align: middle;\n",
       "    }\n",
       "\n",
       "    .dataframe tbody tr th {\n",
       "        vertical-align: top;\n",
       "    }\n",
       "\n",
       "    .dataframe thead th {\n",
       "        text-align: right;\n",
       "    }\n",
       "</style>\n",
       "<table border=\"1\" class=\"dataframe\">\n",
       "  <thead>\n",
       "    <tr style=\"text-align: right;\">\n",
       "      <th></th>\n",
       "      <th>Reason__c</th>\n",
       "      <th>howdidyouhear__c</th>\n",
       "      <th>Purpose__c</th>\n",
       "      <th>hed__Gender__c</th>\n",
       "      <th>Hispanic__c</th>\n",
       "      <th>Disability__c</th>\n",
       "      <th>hed__Race__c</th>\n",
       "    </tr>\n",
       "    <tr>\n",
       "      <th>user_id</th>\n",
       "      <th></th>\n",
       "      <th></th>\n",
       "      <th></th>\n",
       "      <th></th>\n",
       "      <th></th>\n",
       "      <th></th>\n",
       "      <th></th>\n",
       "    </tr>\n",
       "  </thead>\n",
       "  <tbody>\n",
       "    <tr>\n",
       "      <th>342841</th>\n",
       "      <td>Learning about subject matter</td>\n",
       "      <td>Social media - Facebook</td>\n",
       "      <td>Other</td>\n",
       "      <td>Male</td>\n",
       "      <td>NaN</td>\n",
       "      <td>NaN</td>\n",
       "      <td>NaN</td>\n",
       "    </tr>\n",
       "    <tr>\n",
       "      <th>342929</th>\n",
       "      <td>Developing a new course</td>\n",
       "      <td>From a colleague</td>\n",
       "      <td>Explore content</td>\n",
       "      <td>NaN</td>\n",
       "      <td>NaN</td>\n",
       "      <td>NaN</td>\n",
       "      <td>NaN</td>\n",
       "    </tr>\n",
       "  </tbody>\n",
       "</table>\n",
       "</div>"
      ],
      "text/plain": [
       "                             Reason__c         howdidyouhear__c  \\\n",
       "user_id                                                           \n",
       "342841   Learning about subject matter  Social media - Facebook   \n",
       "342929         Developing a new course         From a colleague   \n",
       "\n",
       "              Purpose__c hed__Gender__c Hispanic__c Disability__c hed__Race__c  \n",
       "user_id                                                                         \n",
       "342841             Other           Male         NaN           NaN          NaN  \n",
       "342929   Explore content            NaN         NaN           NaN          NaN  "
      ]
     },
     "metadata": {},
     "output_type": "display_data"
    }
   ],
   "source": [
    "temp = temp.rename(columns={'reason':'Reason__c','howdidyouhear':'howdidyouhear__c','purposeofvisit':'Purpose__c',\\\n",
    "                           'gender':'hed__Gender__c','nativeTribe':'Native_Tribe__c','hispanic':'Hispanic__c',\\\n",
    "                           'disability':'Disability__c','race':'hed__Race__c'})\n",
    "display(temp.tail(2))"
   ]
  },
  {
   "cell_type": "code",
   "execution_count": 14,
   "id": "ddbd8f76",
   "metadata": {
    "execution": {
     "iopub.execute_input": "2021-10-22T12:02:49.491371Z",
     "iopub.status.busy": "2021-10-22T12:02:49.490594Z",
     "iopub.status.idle": "2021-10-22T12:02:49.500852Z",
     "shell.execute_reply": "2021-10-22T12:02:49.501256Z"
    },
    "jupyter": {
     "source_hidden": true
    },
    "papermill": {
     "duration": 0.073495,
     "end_time": "2021-10-22T12:02:49.501593",
     "exception": false,
     "start_time": "2021-10-22T12:02:49.428098",
     "status": "completed"
    },
    "tags": []
   },
   "outputs": [
    {
     "data": {
      "text/html": [
       "<div>\n",
       "<style scoped>\n",
       "    .dataframe tbody tr th:only-of-type {\n",
       "        vertical-align: middle;\n",
       "    }\n",
       "\n",
       "    .dataframe tbody tr th {\n",
       "        vertical-align: top;\n",
       "    }\n",
       "\n",
       "    .dataframe thead th {\n",
       "        text-align: right;\n",
       "    }\n",
       "</style>\n",
       "<table border=\"1\" class=\"dataframe\">\n",
       "  <thead>\n",
       "    <tr style=\"text-align: right;\">\n",
       "      <th></th>\n",
       "      <th>Reason__c</th>\n",
       "      <th>howdidyouhear__c</th>\n",
       "      <th>Purpose__c</th>\n",
       "      <th>hed__Gender__c</th>\n",
       "      <th>Hispanic__c</th>\n",
       "      <th>Disability__c</th>\n",
       "      <th>hed__Race__c</th>\n",
       "    </tr>\n",
       "    <tr>\n",
       "      <th>user_id</th>\n",
       "      <th></th>\n",
       "      <th></th>\n",
       "      <th></th>\n",
       "      <th></th>\n",
       "      <th></th>\n",
       "      <th></th>\n",
       "      <th></th>\n",
       "    </tr>\n",
       "  </thead>\n",
       "  <tbody>\n",
       "    <tr>\n",
       "      <th>37255</th>\n",
       "      <td>Required for class</td>\n",
       "      <td>NaN</td>\n",
       "      <td>NaN</td>\n",
       "      <td>Male</td>\n",
       "      <td>puertorican</td>\n",
       "      <td>Blind/Visually Impaired</td>\n",
       "      <td>NaN</td>\n",
       "    </tr>\n",
       "    <tr>\n",
       "      <th>37255</th>\n",
       "      <td>Required for class</td>\n",
       "      <td>NaN</td>\n",
       "      <td>NaN</td>\n",
       "      <td>Male</td>\n",
       "      <td>puertorican</td>\n",
       "      <td>Deaf/Hard of Hearing</td>\n",
       "      <td>NaN</td>\n",
       "    </tr>\n",
       "    <tr>\n",
       "      <th>37255</th>\n",
       "      <td>Required for class</td>\n",
       "      <td>NaN</td>\n",
       "      <td>NaN</td>\n",
       "      <td>Male</td>\n",
       "      <td>puertorican</td>\n",
       "      <td>Learning/Cognitive Disability</td>\n",
       "      <td>NaN</td>\n",
       "    </tr>\n",
       "    <tr>\n",
       "      <th>37255</th>\n",
       "      <td>Required for class</td>\n",
       "      <td>NaN</td>\n",
       "      <td>NaN</td>\n",
       "      <td>Male</td>\n",
       "      <td>puertorican</td>\n",
       "      <td>Physical/Orthopedic Disability</td>\n",
       "      <td>NaN</td>\n",
       "    </tr>\n",
       "    <tr>\n",
       "      <th>37255</th>\n",
       "      <td>Required for class</td>\n",
       "      <td>NaN</td>\n",
       "      <td>NaN</td>\n",
       "      <td>Male</td>\n",
       "      <td>puertorican</td>\n",
       "      <td>Vocal/Speech Disability</td>\n",
       "      <td>NaN</td>\n",
       "    </tr>\n",
       "    <tr>\n",
       "      <th>37255</th>\n",
       "      <td>Required for class</td>\n",
       "      <td>NaN</td>\n",
       "      <td>NaN</td>\n",
       "      <td>Male</td>\n",
       "      <td>cuban</td>\n",
       "      <td>Blind/Visually Impaired</td>\n",
       "      <td>NaN</td>\n",
       "    </tr>\n",
       "    <tr>\n",
       "      <th>37255</th>\n",
       "      <td>Required for class</td>\n",
       "      <td>NaN</td>\n",
       "      <td>NaN</td>\n",
       "      <td>Male</td>\n",
       "      <td>cuban</td>\n",
       "      <td>Deaf/Hard of Hearing</td>\n",
       "      <td>NaN</td>\n",
       "    </tr>\n",
       "    <tr>\n",
       "      <th>37255</th>\n",
       "      <td>Required for class</td>\n",
       "      <td>NaN</td>\n",
       "      <td>NaN</td>\n",
       "      <td>Male</td>\n",
       "      <td>cuban</td>\n",
       "      <td>Learning/Cognitive Disability</td>\n",
       "      <td>NaN</td>\n",
       "    </tr>\n",
       "    <tr>\n",
       "      <th>37255</th>\n",
       "      <td>Required for class</td>\n",
       "      <td>NaN</td>\n",
       "      <td>NaN</td>\n",
       "      <td>Male</td>\n",
       "      <td>cuban</td>\n",
       "      <td>Physical/Orthopedic Disability</td>\n",
       "      <td>NaN</td>\n",
       "    </tr>\n",
       "    <tr>\n",
       "      <th>37255</th>\n",
       "      <td>Required for class</td>\n",
       "      <td>NaN</td>\n",
       "      <td>NaN</td>\n",
       "      <td>Male</td>\n",
       "      <td>cuban</td>\n",
       "      <td>Vocal/Speech Disability</td>\n",
       "      <td>NaN</td>\n",
       "    </tr>\n",
       "    <tr>\n",
       "      <th>37255</th>\n",
       "      <td>Required for class</td>\n",
       "      <td>NaN</td>\n",
       "      <td>NaN</td>\n",
       "      <td>Male</td>\n",
       "      <td>mexican</td>\n",
       "      <td>Blind/Visually Impaired</td>\n",
       "      <td>NaN</td>\n",
       "    </tr>\n",
       "    <tr>\n",
       "      <th>37255</th>\n",
       "      <td>Required for class</td>\n",
       "      <td>NaN</td>\n",
       "      <td>NaN</td>\n",
       "      <td>Male</td>\n",
       "      <td>mexican</td>\n",
       "      <td>Deaf/Hard of Hearing</td>\n",
       "      <td>NaN</td>\n",
       "    </tr>\n",
       "    <tr>\n",
       "      <th>37255</th>\n",
       "      <td>Required for class</td>\n",
       "      <td>NaN</td>\n",
       "      <td>NaN</td>\n",
       "      <td>Male</td>\n",
       "      <td>mexican</td>\n",
       "      <td>Learning/Cognitive Disability</td>\n",
       "      <td>NaN</td>\n",
       "    </tr>\n",
       "    <tr>\n",
       "      <th>37255</th>\n",
       "      <td>Required for class</td>\n",
       "      <td>NaN</td>\n",
       "      <td>NaN</td>\n",
       "      <td>Male</td>\n",
       "      <td>mexican</td>\n",
       "      <td>Physical/Orthopedic Disability</td>\n",
       "      <td>NaN</td>\n",
       "    </tr>\n",
       "    <tr>\n",
       "      <th>37255</th>\n",
       "      <td>Required for class</td>\n",
       "      <td>NaN</td>\n",
       "      <td>NaN</td>\n",
       "      <td>Male</td>\n",
       "      <td>mexican</td>\n",
       "      <td>Vocal/Speech Disability</td>\n",
       "      <td>NaN</td>\n",
       "    </tr>\n",
       "  </tbody>\n",
       "</table>\n",
       "</div>"
      ],
      "text/plain": [
       "                  Reason__c howdidyouhear__c Purpose__c hed__Gender__c  \\\n",
       "user_id                                                                  \n",
       "37255    Required for class              NaN        NaN           Male   \n",
       "37255    Required for class              NaN        NaN           Male   \n",
       "37255    Required for class              NaN        NaN           Male   \n",
       "37255    Required for class              NaN        NaN           Male   \n",
       "37255    Required for class              NaN        NaN           Male   \n",
       "37255    Required for class              NaN        NaN           Male   \n",
       "37255    Required for class              NaN        NaN           Male   \n",
       "37255    Required for class              NaN        NaN           Male   \n",
       "37255    Required for class              NaN        NaN           Male   \n",
       "37255    Required for class              NaN        NaN           Male   \n",
       "37255    Required for class              NaN        NaN           Male   \n",
       "37255    Required for class              NaN        NaN           Male   \n",
       "37255    Required for class              NaN        NaN           Male   \n",
       "37255    Required for class              NaN        NaN           Male   \n",
       "37255    Required for class              NaN        NaN           Male   \n",
       "\n",
       "         Hispanic__c                   Disability__c hed__Race__c  \n",
       "user_id                                                            \n",
       "37255    puertorican         Blind/Visually Impaired          NaN  \n",
       "37255    puertorican            Deaf/Hard of Hearing          NaN  \n",
       "37255    puertorican   Learning/Cognitive Disability          NaN  \n",
       "37255    puertorican  Physical/Orthopedic Disability          NaN  \n",
       "37255    puertorican         Vocal/Speech Disability          NaN  \n",
       "37255          cuban         Blind/Visually Impaired          NaN  \n",
       "37255          cuban            Deaf/Hard of Hearing          NaN  \n",
       "37255          cuban   Learning/Cognitive Disability          NaN  \n",
       "37255          cuban  Physical/Orthopedic Disability          NaN  \n",
       "37255          cuban         Vocal/Speech Disability          NaN  \n",
       "37255        mexican         Blind/Visually Impaired          NaN  \n",
       "37255        mexican            Deaf/Hard of Hearing          NaN  \n",
       "37255        mexican   Learning/Cognitive Disability          NaN  \n",
       "37255        mexican  Physical/Orthopedic Disability          NaN  \n",
       "37255        mexican         Vocal/Speech Disability          NaN  "
      ]
     },
     "execution_count": 14,
     "metadata": {},
     "output_type": "execute_result"
    }
   ],
   "source": [
    "temp.loc[37255,:]"
   ]
  },
  {
   "cell_type": "code",
   "execution_count": 15,
   "id": "5a938264",
   "metadata": {
    "execution": {
     "iopub.execute_input": "2021-10-22T12:02:49.629804Z",
     "iopub.status.busy": "2021-10-22T12:02:49.629221Z",
     "iopub.status.idle": "2021-10-22T12:02:49.641897Z",
     "shell.execute_reply": "2021-10-22T12:02:49.642372Z"
    },
    "jupyter": {
     "source_hidden": true
    },
    "papermill": {
     "duration": 0.080132,
     "end_time": "2021-10-22T12:02:49.642539",
     "exception": false,
     "start_time": "2021-10-22T12:02:49.562407",
     "status": "completed"
    },
    "tags": []
   },
   "outputs": [
    {
     "data": {
      "text/html": [
       "<div>\n",
       "<style scoped>\n",
       "    .dataframe tbody tr th:only-of-type {\n",
       "        vertical-align: middle;\n",
       "    }\n",
       "\n",
       "    .dataframe tbody tr th {\n",
       "        vertical-align: top;\n",
       "    }\n",
       "\n",
       "    .dataframe thead th {\n",
       "        text-align: right;\n",
       "    }\n",
       "</style>\n",
       "<table border=\"1\" class=\"dataframe\">\n",
       "  <thead>\n",
       "    <tr style=\"text-align: right;\">\n",
       "      <th></th>\n",
       "      <th>nanoHUB_user_ID__c</th>\n",
       "      <th>Reason__c</th>\n",
       "      <th>howdidyouhear__c</th>\n",
       "      <th>Purpose__c</th>\n",
       "      <th>hed__Gender__c</th>\n",
       "      <th>Hispanic__c</th>\n",
       "      <th>Disability__c</th>\n",
       "      <th>hed__Race__c</th>\n",
       "    </tr>\n",
       "  </thead>\n",
       "  <tbody>\n",
       "    <tr>\n",
       "      <th>73264</th>\n",
       "      <td>342841</td>\n",
       "      <td>Learning about subject matter</td>\n",
       "      <td>Social media - Facebook</td>\n",
       "      <td>Other</td>\n",
       "      <td>Male</td>\n",
       "      <td>NaN</td>\n",
       "      <td>NaN</td>\n",
       "      <td>NaN</td>\n",
       "    </tr>\n",
       "    <tr>\n",
       "      <th>73265</th>\n",
       "      <td>342929</td>\n",
       "      <td>Developing a new course</td>\n",
       "      <td>From a colleague</td>\n",
       "      <td>Explore content</td>\n",
       "      <td>NaN</td>\n",
       "      <td>NaN</td>\n",
       "      <td>NaN</td>\n",
       "      <td>NaN</td>\n",
       "    </tr>\n",
       "  </tbody>\n",
       "</table>\n",
       "</div>"
      ],
      "text/plain": [
       "       nanoHUB_user_ID__c                      Reason__c  \\\n",
       "73264              342841  Learning about subject matter   \n",
       "73265              342929        Developing a new course   \n",
       "\n",
       "              howdidyouhear__c       Purpose__c hed__Gender__c Hispanic__c  \\\n",
       "73264  Social media - Facebook            Other           Male         NaN   \n",
       "73265         From a colleague  Explore content            NaN         NaN   \n",
       "\n",
       "      Disability__c hed__Race__c  \n",
       "73264           NaN          NaN  \n",
       "73265           NaN          NaN  "
      ]
     },
     "metadata": {},
     "output_type": "display_data"
    }
   ],
   "source": [
    "sf_df = temp.reset_index()\n",
    "sf_df = sf_df.rename(columns={'user_id':'nanoHUB_user_ID__c'})\n",
    "display(sf_df.tail(2))"
   ]
  },
  {
   "cell_type": "markdown",
   "id": "bfee6c13",
   "metadata": {
    "papermill": {
     "duration": 0.060697,
     "end_time": "2021-10-22T12:02:49.763858",
     "exception": false,
     "start_time": "2021-10-22T12:02:49.703161",
     "status": "completed"
    },
    "tags": []
   },
   "source": [
    "## Send to SF"
   ]
  },
  {
   "cell_type": "code",
   "execution_count": null,
   "id": "0687aa9b",
   "metadata": {
    "jupyter": {
     "source_hidden": true
    },
    "papermill": {
     "duration": 0.060047,
     "end_time": "2021-10-22T12:02:49.884732",
     "exception": false,
     "start_time": "2021-10-22T12:02:49.824685",
     "status": "completed"
    },
    "tags": []
   },
   "outputs": [],
   "source": []
  },
  {
   "cell_type": "code",
   "execution_count": 16,
   "id": "de181b72",
   "metadata": {
    "execution": {
     "iopub.execute_input": "2021-10-22T12:02:50.017247Z",
     "iopub.status.busy": "2021-10-22T12:02:50.016488Z",
     "iopub.status.idle": "2021-10-22T12:03:00.272080Z",
     "shell.execute_reply": "2021-10-22T12:03:00.273105Z"
    },
    "jupyter": {
     "source_hidden": true
    },
    "papermill": {
     "duration": 10.325919,
     "end_time": "2021-10-22T12:03:00.273467",
     "exception": false,
     "start_time": "2021-10-22T12:02:49.947548",
     "status": "completed"
    },
    "tags": []
   },
   "outputs": [
    {
     "name": "stdout",
     "output_type": "stream",
     "text": [
      "[Success] Bulk job creation successful. Job ID = 7505w00000b1osrAAA\n",
      "hello\n"
     ]
    },
    {
     "name": "stdout",
     "output_type": "stream",
     "text": [
      "[Success] CSV upload successful. Job ID = 7505w00000b1osrAAA\n"
     ]
    },
    {
     "name": "stdout",
     "output_type": "stream",
     "text": [
      "[Success] Closing job successful. Job ID = 7505w00000b1osrAAA\n"
     ]
    }
   ],
   "source": [
    "db_s.object_id = object_id\n",
    "db_s.external_id = external_id\n",
    "\n",
    "# send data to Salesforce\n",
    "db_s.send_data(sf_df)"
   ]
  },
  {
   "cell_type": "code",
   "execution_count": 17,
   "id": "795a4d2b",
   "metadata": {
    "execution": {
     "iopub.execute_input": "2021-10-22T12:03:00.419383Z",
     "iopub.status.busy": "2021-10-22T12:03:00.418719Z",
     "iopub.status.idle": "2021-10-22T12:03:00.863769Z",
     "shell.execute_reply": "2021-10-22T12:03:00.864558Z"
    },
    "jupyter": {
     "source_hidden": true
    },
    "papermill": {
     "duration": 0.517217,
     "end_time": "2021-10-22T12:03:00.865214",
     "exception": false,
     "start_time": "2021-10-22T12:03:00.347997",
     "status": "completed"
    },
    "tags": []
   },
   "outputs": [
    {
     "data": {
      "text/plain": [
       "{'id': '7505w00000b1osrAAA',\n",
       " 'operation': 'upsert',\n",
       " 'object': 'Contact',\n",
       " 'createdById': '0055w00000DM5bOAAT',\n",
       " 'createdDate': '2021-10-22T12:02:50.000+0000',\n",
       " 'systemModstamp': '2021-10-22T12:03:00.000+0000',\n",
       " 'state': 'UploadComplete',\n",
       " 'externalIdFieldName': 'nanoHUB_user_ID__c',\n",
       " 'concurrencyMode': 'Parallel',\n",
       " 'contentType': 'CSV',\n",
       " 'apiVersion': 47.0,\n",
       " 'jobType': 'V2Ingest',\n",
       " 'lineEnding': 'LF',\n",
       " 'columnDelimiter': 'COMMA',\n",
       " 'numberRecordsProcessed': 0,\n",
       " 'numberRecordsFailed': 0,\n",
       " 'retries': 0,\n",
       " 'totalProcessingTime': 0,\n",
       " 'apiActiveProcessingTime': 0,\n",
       " 'apexProcessingTime': 0}"
      ]
     },
     "execution_count": 17,
     "metadata": {},
     "output_type": "execute_result"
    }
   ],
   "source": [
    "# check status\n",
    "db_s.check_bulk_status()"
   ]
  },
  {
   "cell_type": "code",
   "execution_count": 18,
   "id": "afa73892",
   "metadata": {
    "execution": {
     "iopub.execute_input": "2021-10-22T12:03:01.013116Z",
     "iopub.status.busy": "2021-10-22T12:03:01.012502Z",
     "iopub.status.idle": "2021-10-22T12:03:01.230340Z",
     "shell.execute_reply": "2021-10-22T12:03:01.231324Z"
    },
    "jupyter": {
     "source_hidden": true
    },
    "papermill": {
     "duration": 0.290748,
     "end_time": "2021-10-22T12:03:01.231868",
     "exception": false,
     "start_time": "2021-10-22T12:03:00.941120",
     "status": "completed"
    },
    "tags": []
   },
   "outputs": [
    {
     "name": "stdout",
     "output_type": "stream",
     "text": [
      "''\n"
     ]
    }
   ],
   "source": [
    "# check status\n",
    "from pprint import pprint\n",
    "\n",
    "pprint(db_s.check_bulk_failed_results())"
   ]
  },
  {
   "cell_type": "code",
   "execution_count": null,
   "id": "5cc019bd",
   "metadata": {
    "jupyter": {
     "source_hidden": true
    },
    "papermill": {
     "duration": 0.063635,
     "end_time": "2021-10-22T12:03:01.369870",
     "exception": false,
     "start_time": "2021-10-22T12:03:01.306235",
     "status": "completed"
    },
    "tags": []
   },
   "outputs": [],
   "source": []
  },
  {
   "cell_type": "code",
   "execution_count": null,
   "id": "6364baab",
   "metadata": {
    "jupyter": {
     "source_hidden": true
    },
    "papermill": {
     "duration": 0.064916,
     "end_time": "2021-10-22T12:03:01.501874",
     "exception": false,
     "start_time": "2021-10-22T12:03:01.436958",
     "status": "completed"
    },
    "tags": []
   },
   "outputs": [],
   "source": []
  }
 ],
 "metadata": {
  "kernelspec": {
   "display_name": "Python 3",
   "language": "python",
   "name": "python3"
  },
  "language_info": {
   "codemirror_mode": {
    "name": "ipython",
    "version": 3
   },
   "file_extension": ".py",
   "mimetype": "text/x-python",
   "name": "python",
   "nbconvert_exporter": "python",
   "pygments_lexer": "ipython3",
   "version": "3.9.7"
  },
  "papermill": {
   "default_parameters": {},
   "duration": 27.819784,
   "end_time": "2021-10-22T12:03:01.909722",
   "environment_variables": {},
   "exception": null,
   "input_path": "/Users/saxenap/Documents/Dev/nanoHUB/nanoHUB/pipeline/salesforce/task_update_static_personalinfo.ipynb",
   "output_path": "./.output/task_update_static_personalinfo.ipynb",
   "parameters": {},
   "start_time": "2021-10-22T12:02:34.089938",
   "version": "2.3.3"
  }
 },
 "nbformat": 4,
 "nbformat_minor": 5
}