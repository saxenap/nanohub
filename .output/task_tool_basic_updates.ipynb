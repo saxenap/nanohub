{
 "cells": [
  {
   "cell_type": "markdown",
   "id": "7ca98b2d",
   "metadata": {
    "papermill": {
     "duration": 0.073992,
     "end_time": "2021-10-25T11:26:38.968800",
     "exception": false,
     "start_time": "2021-10-25T11:26:38.894808",
     "status": "completed"
    },
    "tags": []
   },
   "source": [
    "# DB2-Salesforce connector: Basic tool information updates"
   ]
  },
  {
   "cell_type": "code",
   "execution_count": 1,
   "id": "faacc29a",
   "metadata": {
    "execution": {
     "iopub.execute_input": "2021-10-25T11:26:39.120067Z",
     "iopub.status.busy": "2021-10-25T11:26:39.119163Z",
     "iopub.status.idle": "2021-10-25T11:26:41.063657Z",
     "shell.execute_reply": "2021-10-25T11:26:41.064144Z"
    },
    "jupyter": {
     "source_hidden": true
    },
    "papermill": {
     "duration": 2.024275,
     "end_time": "2021-10-25T11:26:41.064474",
     "exception": false,
     "start_time": "2021-10-25T11:26:39.040199",
     "status": "completed"
    },
    "tags": [
     "parameters"
    ]
   },
   "outputs": [
    {
     "name": "stdout",
     "output_type": "stream",
     "text": [
      "\u001b[1mnanoHUB - Serving Students, Researchers & Instructors\u001b[0m\n"
     ]
    },
    {
     "name": "stdout",
     "output_type": "stream",
     "text": [
      "Obtained Salesforce access token ...... True\n"
     ]
    }
   ],
   "source": [
    "# Parameters\n",
    "api_url = '/services/data/v43.0/sobjects'\n",
    "external_id = 'Tool_name__c'\n",
    "object_id = 'nanoHUB_tools__c'\n",
    "\n",
    "from nanoHUB.application import Application\n",
    "\n",
    "application = Application.get_instance()\n",
    "nanohub_db = application.new_db_engine('nanohub')\n",
    "nanohub_metrics_db = application.new_db_engine('nanohub_metrics')\n",
    "\n",
    "salesforce = application.new_salesforce_engine()\n",
    "db_s = salesforce"
   ]
  },
  {
   "cell_type": "code",
   "execution_count": 2,
   "id": "a4512738",
   "metadata": {
    "execution": {
     "iopub.execute_input": "2021-10-25T11:26:41.217507Z",
     "iopub.status.busy": "2021-10-25T11:26:41.216828Z",
     "iopub.status.idle": "2021-10-25T11:26:41.218807Z",
     "shell.execute_reply": "2021-10-25T11:26:41.219349Z"
    },
    "jupyter": {
     "source_hidden": true
    },
    "papermill": {
     "duration": 0.081085,
     "end_time": "2021-10-25T11:26:41.219575",
     "exception": false,
     "start_time": "2021-10-25T11:26:41.138490",
     "status": "completed"
    },
    "tags": []
   },
   "outputs": [],
   "source": [
    "import pandas as pd\n",
    "import datetime"
   ]
  },
  {
   "cell_type": "markdown",
   "id": "d054b5f3",
   "metadata": {
    "papermill": {
     "duration": 0.06785,
     "end_time": "2021-10-25T11:26:41.358694",
     "exception": false,
     "start_time": "2021-10-25T11:26:41.290844",
     "status": "completed"
    },
    "tags": []
   },
   "source": [
    "## Obtain tool information from DB2 "
   ]
  },
  {
   "cell_type": "code",
   "execution_count": 3,
   "id": "98e92d50",
   "metadata": {
    "execution": {
     "iopub.execute_input": "2021-10-25T11:26:41.500934Z",
     "iopub.status.busy": "2021-10-25T11:26:41.500059Z",
     "iopub.status.idle": "2021-10-25T11:26:41.502679Z",
     "shell.execute_reply": "2021-10-25T11:26:41.503161Z"
    },
    "jupyter": {
     "source_hidden": true
    },
    "papermill": {
     "duration": 0.077176,
     "end_time": "2021-10-25T11:26:41.503405",
     "exception": false,
     "start_time": "2021-10-25T11:26:41.426229",
     "status": "completed"
    },
    "tags": []
   },
   "outputs": [
    {
     "name": "stdout",
     "output_type": "stream",
     "text": [
      "select toolname, title, published, registered from jos_tool\n"
     ]
    }
   ],
   "source": [
    "# Basic tool information\n",
    "sql_query = \"select toolname, title, published, registered from jos_tool\"\n",
    "\n",
    "# display\n",
    "print(sql_query)"
   ]
  },
  {
   "cell_type": "code",
   "execution_count": 4,
   "id": "41a01881",
   "metadata": {
    "execution": {
     "iopub.execute_input": "2021-10-25T11:26:41.652290Z",
     "iopub.status.busy": "2021-10-25T11:26:41.651480Z",
     "iopub.status.idle": "2021-10-25T11:26:42.142688Z",
     "shell.execute_reply": "2021-10-25T11:26:42.143169Z"
    },
    "jupyter": {
     "source_hidden": true
    },
    "papermill": {
     "duration": 0.567234,
     "end_time": "2021-10-25T11:26:42.143407",
     "exception": false,
     "start_time": "2021-10-25T11:26:41.576173",
     "status": "completed"
    },
    "tags": []
   },
   "outputs": [
    {
     "data": {
      "text/html": [
       "<div>\n",
       "<style scoped>\n",
       "    .dataframe tbody tr th:only-of-type {\n",
       "        vertical-align: middle;\n",
       "    }\n",
       "\n",
       "    .dataframe tbody tr th {\n",
       "        vertical-align: top;\n",
       "    }\n",
       "\n",
       "    .dataframe thead th {\n",
       "        text-align: right;\n",
       "    }\n",
       "</style>\n",
       "<table border=\"1\" class=\"dataframe\">\n",
       "  <thead>\n",
       "    <tr style=\"text-align: right;\">\n",
       "      <th></th>\n",
       "      <th>toolname</th>\n",
       "      <th>title</th>\n",
       "      <th>published</th>\n",
       "      <th>registered</th>\n",
       "    </tr>\n",
       "  </thead>\n",
       "  <tbody>\n",
       "    <tr>\n",
       "      <th>0</th>\n",
       "      <td>ellipsom</td>\n",
       "      <td>title-ellipsom</td>\n",
       "      <td>0</td>\n",
       "      <td>2005-03-05 03:02:47</td>\n",
       "    </tr>\n",
       "    <tr>\n",
       "      <th>1</th>\n",
       "      <td>hydrolab</td>\n",
       "      <td>Hydrophobicity Lab</td>\n",
       "      <td>1</td>\n",
       "      <td>2006-02-24 03:38:23</td>\n",
       "    </tr>\n",
       "  </tbody>\n",
       "</table>\n",
       "</div>"
      ],
      "text/plain": [
       "   toolname               title  published          registered\n",
       "0  ellipsom      title-ellipsom          0 2005-03-05 03:02:47\n",
       "1  hydrolab  Hydrophobicity Lab          1 2006-02-24 03:38:23"
      ]
     },
     "execution_count": 4,
     "metadata": {},
     "output_type": "execute_result"
    }
   ],
   "source": [
    "# connect with DB2\n",
    "# import sqlalchemy as sql\n",
    "\n",
    "df = pd.read_sql_query(sql_query, nanohub_db, parse_dates=['registered'])\n",
    "# display\n",
    "df.head(2)"
   ]
  },
  {
   "cell_type": "code",
   "execution_count": 5,
   "id": "eae3882b",
   "metadata": {
    "execution": {
     "iopub.execute_input": "2021-10-25T11:26:42.301637Z",
     "iopub.status.busy": "2021-10-25T11:26:42.301031Z",
     "iopub.status.idle": "2021-10-25T11:26:42.312986Z",
     "shell.execute_reply": "2021-10-25T11:26:42.312504Z"
    },
    "jupyter": {
     "source_hidden": true
    },
    "papermill": {
     "duration": 0.096432,
     "end_time": "2021-10-25T11:26:42.313199",
     "exception": false,
     "start_time": "2021-10-25T11:26:42.216767",
     "status": "completed"
    },
    "tags": []
   },
   "outputs": [
    {
     "data": {
      "text/html": [
       "<div>\n",
       "<style scoped>\n",
       "    .dataframe tbody tr th:only-of-type {\n",
       "        vertical-align: middle;\n",
       "    }\n",
       "\n",
       "    .dataframe tbody tr th {\n",
       "        vertical-align: top;\n",
       "    }\n",
       "\n",
       "    .dataframe thead th {\n",
       "        text-align: right;\n",
       "    }\n",
       "</style>\n",
       "<table border=\"1\" class=\"dataframe\">\n",
       "  <thead>\n",
       "    <tr style=\"text-align: right;\">\n",
       "      <th></th>\n",
       "      <th>toolname</th>\n",
       "      <th>title</th>\n",
       "      <th>published</th>\n",
       "      <th>registered</th>\n",
       "    </tr>\n",
       "  </thead>\n",
       "  <tbody>\n",
       "    <tr>\n",
       "      <th>348</th>\n",
       "      <td>matlab</td>\n",
       "      <td>Matlab</td>\n",
       "      <td>0</td>\n",
       "      <td>2000-10-02 02:34:37</td>\n",
       "    </tr>\n",
       "    <tr>\n",
       "      <th>350</th>\n",
       "      <td>octave</td>\n",
       "      <td>Octave</td>\n",
       "      <td>0</td>\n",
       "      <td>2001-04-04 19:03:01</td>\n",
       "    </tr>\n",
       "    <tr>\n",
       "      <th>347</th>\n",
       "      <td>gamess</td>\n",
       "      <td>GAMESS</td>\n",
       "      <td>0</td>\n",
       "      <td>2003-01-15 15:41:22</td>\n",
       "    </tr>\n",
       "    <tr>\n",
       "      <th>352</th>\n",
       "      <td>rebo</td>\n",
       "      <td>REBO-1</td>\n",
       "      <td>0</td>\n",
       "      <td>2003-05-08 00:41:33</td>\n",
       "    </tr>\n",
       "    <tr>\n",
       "      <th>0</th>\n",
       "      <td>ellipsom</td>\n",
       "      <td>title-ellipsom</td>\n",
       "      <td>0</td>\n",
       "      <td>2005-03-05 03:02:47</td>\n",
       "    </tr>\n",
       "  </tbody>\n",
       "</table>\n",
       "</div>"
      ],
      "text/plain": [
       "     toolname           title  published          registered\n",
       "348    matlab          Matlab          0 2000-10-02 02:34:37\n",
       "350    octave          Octave          0 2001-04-04 19:03:01\n",
       "347    gamess          GAMESS          0 2003-01-15 15:41:22\n",
       "352      rebo          REBO-1          0 2003-05-08 00:41:33\n",
       "0    ellipsom  title-ellipsom          0 2005-03-05 03:02:47"
      ]
     },
     "metadata": {},
     "output_type": "display_data"
    },
    {
     "data": {
      "text/html": [
       "<div>\n",
       "<style scoped>\n",
       "    .dataframe tbody tr th:only-of-type {\n",
       "        vertical-align: middle;\n",
       "    }\n",
       "\n",
       "    .dataframe tbody tr th {\n",
       "        vertical-align: top;\n",
       "    }\n",
       "\n",
       "    .dataframe thead th {\n",
       "        text-align: right;\n",
       "    }\n",
       "</style>\n",
       "<table border=\"1\" class=\"dataframe\">\n",
       "  <thead>\n",
       "    <tr style=\"text-align: right;\">\n",
       "      <th></th>\n",
       "      <th>toolname</th>\n",
       "      <th>title</th>\n",
       "      <th>published</th>\n",
       "      <th>registered</th>\n",
       "    </tr>\n",
       "  </thead>\n",
       "  <tbody>\n",
       "    <tr>\n",
       "      <th>1835</th>\n",
       "      <td>anngenerator</td>\n",
       "      <td>ANN Model Generator</td>\n",
       "      <td>0</td>\n",
       "      <td>2021-09-27 14:11:30</td>\n",
       "    </tr>\n",
       "    <tr>\n",
       "      <th>1836</th>\n",
       "      <td>nngenerator</td>\n",
       "      <td>NN Model Generator</td>\n",
       "      <td>0</td>\n",
       "      <td>2021-09-27 14:39:29</td>\n",
       "    </tr>\n",
       "    <tr>\n",
       "      <th>1837</th>\n",
       "      <td>ccipher</td>\n",
       "      <td>Caesar Encrypter</td>\n",
       "      <td>0</td>\n",
       "      <td>2021-10-01 05:13:28</td>\n",
       "    </tr>\n",
       "    <tr>\n",
       "      <th>1838</th>\n",
       "      <td>caecipher</td>\n",
       "      <td>Caesar Cipher</td>\n",
       "      <td>1</td>\n",
       "      <td>2021-10-01 06:02:51</td>\n",
       "    </tr>\n",
       "    <tr>\n",
       "      <th>1839</th>\n",
       "      <td>mthemes</td>\n",
       "      <td>Mesoscale Thermomechanical Materials Simulator</td>\n",
       "      <td>0</td>\n",
       "      <td>2021-10-05 14:01:32</td>\n",
       "    </tr>\n",
       "    <tr>\n",
       "      <th>1840</th>\n",
       "      <td>nnffformolecule</td>\n",
       "      <td>Neural Net Force Field for molecules</td>\n",
       "      <td>0</td>\n",
       "      <td>2021-10-07 17:40:10</td>\n",
       "    </tr>\n",
       "    <tr>\n",
       "      <th>1841</th>\n",
       "      <td>st4nanowire</td>\n",
       "      <td>Nanowire Simtool</td>\n",
       "      <td>0</td>\n",
       "      <td>2021-10-12 14:35:13</td>\n",
       "    </tr>\n",
       "    <tr>\n",
       "      <th>1842</th>\n",
       "      <td>andie</td>\n",
       "      <td>Autonomous Neutron Diffraction Explorer</td>\n",
       "      <td>0</td>\n",
       "      <td>2021-10-12 18:08:36</td>\n",
       "    </tr>\n",
       "    <tr>\n",
       "      <th>1843</th>\n",
       "      <td>polyga</td>\n",
       "      <td>Polymer Genetic Algorithm</td>\n",
       "      <td>0</td>\n",
       "      <td>2021-10-14 17:28:28</td>\n",
       "    </tr>\n",
       "    <tr>\n",
       "      <th>1844</th>\n",
       "      <td>heafabrication</td>\n",
       "      <td>High Entropy Alloys Experimental Fabrication</td>\n",
       "      <td>0</td>\n",
       "      <td>2021-10-19 13:23:20</td>\n",
       "    </tr>\n",
       "    <tr>\n",
       "      <th>1845</th>\n",
       "      <td>ccaoptimizer</td>\n",
       "      <td>Feature Selection for CCA Strength Models</td>\n",
       "      <td>0</td>\n",
       "      <td>2021-10-22 14:09:49</td>\n",
       "    </tr>\n",
       "    <tr>\n",
       "      <th>1846</th>\n",
       "      <td>myemailverifier</td>\n",
       "      <td>Bulk Email Verifier Online Tool</td>\n",
       "      <td>0</td>\n",
       "      <td>2021-10-23 11:48:46</td>\n",
       "    </tr>\n",
       "    <tr>\n",
       "      <th>345</th>\n",
       "      <td>cnt-iv</td>\n",
       "      <td>CNT-IV</td>\n",
       "      <td>0</td>\n",
       "      <td>NaT</td>\n",
       "    </tr>\n",
       "    <tr>\n",
       "      <th>346</th>\n",
       "      <td>dmgr</td>\n",
       "      <td>Design Manager</td>\n",
       "      <td>0</td>\n",
       "      <td>NaT</td>\n",
       "    </tr>\n",
       "    <tr>\n",
       "      <th>353</th>\n",
       "      <td>sequal</td>\n",
       "      <td>Sequal</td>\n",
       "      <td>0</td>\n",
       "      <td>NaT</td>\n",
       "    </tr>\n",
       "    <tr>\n",
       "      <th>355</th>\n",
       "      <td>staroffice</td>\n",
       "      <td>StarOffice</td>\n",
       "      <td>1</td>\n",
       "      <td>NaT</td>\n",
       "    </tr>\n",
       "    <tr>\n",
       "      <th>356</th>\n",
       "      <td>spicesoi</td>\n",
       "      <td>UFSOI/Spice3</td>\n",
       "      <td>0</td>\n",
       "      <td>NaT</td>\n",
       "    </tr>\n",
       "    <tr>\n",
       "      <th>358</th>\n",
       "      <td>devtesttool</td>\n",
       "      <td>Dev Test Tool</td>\n",
       "      <td>0</td>\n",
       "      <td>NaT</td>\n",
       "    </tr>\n",
       "    <tr>\n",
       "      <th>359</th>\n",
       "      <td>ncntesttool</td>\n",
       "      <td>NCN test tool</td>\n",
       "      <td>0</td>\n",
       "      <td>NaT</td>\n",
       "    </tr>\n",
       "    <tr>\n",
       "      <th>360</th>\n",
       "      <td>WTND</td>\n",
       "      <td>WTND Tool Title</td>\n",
       "      <td>0</td>\n",
       "      <td>NaT</td>\n",
       "    </tr>\n",
       "    <tr>\n",
       "      <th>361</th>\n",
       "      <td>wtest</td>\n",
       "      <td>My WTest Tool Test</td>\n",
       "      <td>0</td>\n",
       "      <td>NaT</td>\n",
       "    </tr>\n",
       "    <tr>\n",
       "      <th>362</th>\n",
       "      <td>Mynewtool</td>\n",
       "      <td>My New Tool</td>\n",
       "      <td>0</td>\n",
       "      <td>NaT</td>\n",
       "    </tr>\n",
       "    <tr>\n",
       "      <th>363</th>\n",
       "      <td>nanohub</td>\n",
       "      <td>nanoHUB</td>\n",
       "      <td>0</td>\n",
       "      <td>NaT</td>\n",
       "    </tr>\n",
       "    <tr>\n",
       "      <th>364</th>\n",
       "      <td>nanohub-for-kids</td>\n",
       "      <td>nanohub-for-kids</td>\n",
       "      <td>0</td>\n",
       "      <td>NaT</td>\n",
       "    </tr>\n",
       "    <tr>\n",
       "      <th>365</th>\n",
       "      <td>sysman</td>\n",
       "      <td>sysman</td>\n",
       "      <td>0</td>\n",
       "      <td>NaT</td>\n",
       "    </tr>\n",
       "    <tr>\n",
       "      <th>366</th>\n",
       "      <td>nanohub-support</td>\n",
       "      <td>nanohub-support</td>\n",
       "      <td>0</td>\n",
       "      <td>NaT</td>\n",
       "    </tr>\n",
       "    <tr>\n",
       "      <th>367</th>\n",
       "      <td>rkspack</td>\n",
       "      <td>rkspack</td>\n",
       "      <td>0</td>\n",
       "      <td>NaT</td>\n",
       "    </tr>\n",
       "    <tr>\n",
       "      <th>368</th>\n",
       "      <td>lib-gangli</td>\n",
       "      <td>Gang Li's Library of Useful Stuff</td>\n",
       "      <td>0</td>\n",
       "      <td>NaT</td>\n",
       "    </tr>\n",
       "    <tr>\n",
       "      <th>369</th>\n",
       "      <td>rappture-runtime</td>\n",
       "      <td>rappture-runtime</td>\n",
       "      <td>0</td>\n",
       "      <td>NaT</td>\n",
       "    </tr>\n",
       "    <tr>\n",
       "      <th>370</th>\n",
       "      <td>hubzero</td>\n",
       "      <td>hubzero</td>\n",
       "      <td>0</td>\n",
       "      <td>NaT</td>\n",
       "    </tr>\n",
       "    <tr>\n",
       "      <th>371</th>\n",
       "      <td>rappture</td>\n",
       "      <td>rappture</td>\n",
       "      <td>0</td>\n",
       "      <td>NaT</td>\n",
       "    </tr>\n",
       "    <tr>\n",
       "      <th>372</th>\n",
       "      <td>mw</td>\n",
       "      <td>mw</td>\n",
       "      <td>0</td>\n",
       "      <td>NaT</td>\n",
       "    </tr>\n",
       "    <tr>\n",
       "      <th>373</th>\n",
       "      <td>ncn_students</td>\n",
       "      <td>ncn_students</td>\n",
       "      <td>0</td>\n",
       "      <td>NaT</td>\n",
       "    </tr>\n",
       "    <tr>\n",
       "      <th>374</th>\n",
       "      <td>pharmengine</td>\n",
       "      <td>pharmengine</td>\n",
       "      <td>0</td>\n",
       "      <td>NaT</td>\n",
       "    </tr>\n",
       "    <tr>\n",
       "      <th>375</th>\n",
       "      <td>xhub</td>\n",
       "      <td>xhub</td>\n",
       "      <td>0</td>\n",
       "      <td>NaT</td>\n",
       "    </tr>\n",
       "    <tr>\n",
       "      <th>376</th>\n",
       "      <td>breeze-admin</td>\n",
       "      <td>breeze-admin</td>\n",
       "      <td>0</td>\n",
       "      <td>NaT</td>\n",
       "    </tr>\n",
       "    <tr>\n",
       "      <th>377</th>\n",
       "      <td>ncn</td>\n",
       "      <td>ncn</td>\n",
       "      <td>0</td>\n",
       "      <td>NaT</td>\n",
       "    </tr>\n",
       "    <tr>\n",
       "      <th>378</th>\n",
       "      <td>nanowhim</td>\n",
       "      <td>nanowhim</td>\n",
       "      <td>0</td>\n",
       "      <td>NaT</td>\n",
       "    </tr>\n",
       "    <tr>\n",
       "      <th>379</th>\n",
       "      <td>mimi</td>\n",
       "      <td>Mimi</td>\n",
       "      <td>0</td>\n",
       "      <td>NaT</td>\n",
       "    </tr>\n",
       "    <tr>\n",
       "      <th>380</th>\n",
       "      <td>rappture-bat</td>\n",
       "      <td>rappture-bat</td>\n",
       "      <td>0</td>\n",
       "      <td>NaT</td>\n",
       "    </tr>\n",
       "    <tr>\n",
       "      <th>408</th>\n",
       "      <td>reliabilityhub</td>\n",
       "      <td></td>\n",
       "      <td>0</td>\n",
       "      <td>NaT</td>\n",
       "    </tr>\n",
       "    <tr>\n",
       "      <th>418</th>\n",
       "      <td>nmi</td>\n",
       "      <td>nmi</td>\n",
       "      <td>0</td>\n",
       "      <td>NaT</td>\n",
       "    </tr>\n",
       "    <tr>\n",
       "      <th>419</th>\n",
       "      <td>rp2</td>\n",
       "      <td>rp2</td>\n",
       "      <td>0</td>\n",
       "      <td>NaT</td>\n",
       "    </tr>\n",
       "    <tr>\n",
       "      <th>1471</th>\n",
       "      <td>maccalibrate</td>\n",
       "      <td></td>\n",
       "      <td>0</td>\n",
       "      <td>NaT</td>\n",
       "    </tr>\n",
       "    <tr>\n",
       "      <th>1472</th>\n",
       "      <td>maccalibrator</td>\n",
       "      <td>Calibrate the NASA MAC Rappture tool</td>\n",
       "      <td>0</td>\n",
       "      <td>NaT</td>\n",
       "    </tr>\n",
       "    <tr>\n",
       "      <th>1473</th>\n",
       "      <td>calibratemac</td>\n",
       "      <td></td>\n",
       "      <td>0</td>\n",
       "      <td>NaT</td>\n",
       "    </tr>\n",
       "    <tr>\n",
       "      <th>1474</th>\n",
       "      <td>microfsi</td>\n",
       "      <td></td>\n",
       "      <td>0</td>\n",
       "      <td>NaT</td>\n",
       "    </tr>\n",
       "    <tr>\n",
       "      <th>1475</th>\n",
       "      <td>deformchan</td>\n",
       "      <td></td>\n",
       "      <td>0</td>\n",
       "      <td>NaT</td>\n",
       "    </tr>\n",
       "    <tr>\n",
       "      <th>1476</th>\n",
       "      <td>dakotamac</td>\n",
       "      <td></td>\n",
       "      <td>0</td>\n",
       "      <td>NaT</td>\n",
       "    </tr>\n",
       "    <tr>\n",
       "      <th>1477</th>\n",
       "      <td>nasamaccalib</td>\n",
       "      <td></td>\n",
       "      <td>0</td>\n",
       "      <td>NaT</td>\n",
       "    </tr>\n",
       "  </tbody>\n",
       "</table>\n",
       "</div>"
      ],
      "text/plain": [
       "              toolname                                           title  \\\n",
       "1835      anngenerator                             ANN Model Generator   \n",
       "1836       nngenerator                              NN Model Generator   \n",
       "1837           ccipher                                Caesar Encrypter   \n",
       "1838         caecipher                                   Caesar Cipher   \n",
       "1839           mthemes  Mesoscale Thermomechanical Materials Simulator   \n",
       "1840   nnffformolecule            Neural Net Force Field for molecules   \n",
       "1841       st4nanowire                                Nanowire Simtool   \n",
       "1842             andie         Autonomous Neutron Diffraction Explorer   \n",
       "1843            polyga                       Polymer Genetic Algorithm   \n",
       "1844    heafabrication    High Entropy Alloys Experimental Fabrication   \n",
       "1845      ccaoptimizer       Feature Selection for CCA Strength Models   \n",
       "1846   myemailverifier                 Bulk Email Verifier Online Tool   \n",
       "345             cnt-iv                                          CNT-IV   \n",
       "346               dmgr                                  Design Manager   \n",
       "353             sequal                                          Sequal   \n",
       "355         staroffice                                      StarOffice   \n",
       "356           spicesoi                                    UFSOI/Spice3   \n",
       "358        devtesttool                                   Dev Test Tool   \n",
       "359        ncntesttool                                   NCN test tool   \n",
       "360               WTND                                 WTND Tool Title   \n",
       "361              wtest                              My WTest Tool Test   \n",
       "362          Mynewtool                                     My New Tool   \n",
       "363            nanohub                                         nanoHUB   \n",
       "364   nanohub-for-kids                                nanohub-for-kids   \n",
       "365             sysman                                          sysman   \n",
       "366    nanohub-support                                 nanohub-support   \n",
       "367            rkspack                                         rkspack   \n",
       "368         lib-gangli               Gang Li's Library of Useful Stuff   \n",
       "369   rappture-runtime                                rappture-runtime   \n",
       "370            hubzero                                         hubzero   \n",
       "371           rappture                                        rappture   \n",
       "372                 mw                                              mw   \n",
       "373       ncn_students                                    ncn_students   \n",
       "374        pharmengine                                     pharmengine   \n",
       "375               xhub                                            xhub   \n",
       "376       breeze-admin                                    breeze-admin   \n",
       "377                ncn                                             ncn   \n",
       "378           nanowhim                                        nanowhim   \n",
       "379               mimi                                            Mimi   \n",
       "380       rappture-bat                                    rappture-bat   \n",
       "408     reliabilityhub                                                   \n",
       "418                nmi                                             nmi   \n",
       "419                rp2                                             rp2   \n",
       "1471      maccalibrate                                                   \n",
       "1472     maccalibrator            Calibrate the NASA MAC Rappture tool   \n",
       "1473      calibratemac                                                   \n",
       "1474          microfsi                                                   \n",
       "1475        deformchan                                                   \n",
       "1476         dakotamac                                                   \n",
       "1477      nasamaccalib                                                   \n",
       "\n",
       "      published          registered  \n",
       "1835          0 2021-09-27 14:11:30  \n",
       "1836          0 2021-09-27 14:39:29  \n",
       "1837          0 2021-10-01 05:13:28  \n",
       "1838          1 2021-10-01 06:02:51  \n",
       "1839          0 2021-10-05 14:01:32  \n",
       "1840          0 2021-10-07 17:40:10  \n",
       "1841          0 2021-10-12 14:35:13  \n",
       "1842          0 2021-10-12 18:08:36  \n",
       "1843          0 2021-10-14 17:28:28  \n",
       "1844          0 2021-10-19 13:23:20  \n",
       "1845          0 2021-10-22 14:09:49  \n",
       "1846          0 2021-10-23 11:48:46  \n",
       "345           0                 NaT  \n",
       "346           0                 NaT  \n",
       "353           0                 NaT  \n",
       "355           1                 NaT  \n",
       "356           0                 NaT  \n",
       "358           0                 NaT  \n",
       "359           0                 NaT  \n",
       "360           0                 NaT  \n",
       "361           0                 NaT  \n",
       "362           0                 NaT  \n",
       "363           0                 NaT  \n",
       "364           0                 NaT  \n",
       "365           0                 NaT  \n",
       "366           0                 NaT  \n",
       "367           0                 NaT  \n",
       "368           0                 NaT  \n",
       "369           0                 NaT  \n",
       "370           0                 NaT  \n",
       "371           0                 NaT  \n",
       "372           0                 NaT  \n",
       "373           0                 NaT  \n",
       "374           0                 NaT  \n",
       "375           0                 NaT  \n",
       "376           0                 NaT  \n",
       "377           0                 NaT  \n",
       "378           0                 NaT  \n",
       "379           0                 NaT  \n",
       "380           0                 NaT  \n",
       "408           0                 NaT  \n",
       "418           0                 NaT  \n",
       "419           0                 NaT  \n",
       "1471          0                 NaT  \n",
       "1472          0                 NaT  \n",
       "1473          0                 NaT  \n",
       "1474          0                 NaT  \n",
       "1475          0                 NaT  \n",
       "1476          0                 NaT  \n",
       "1477          0                 NaT  "
      ]
     },
     "metadata": {},
     "output_type": "display_data"
    },
    {
     "name": "stdout",
     "output_type": "stream",
     "text": [
      "(1847, 4)\n"
     ]
    }
   ],
   "source": [
    "df = df.sort_values(by='registered')\n",
    "display(df.head(5))\n",
    "display(df.tail(50))\n",
    "print(df.shape)"
   ]
  },
  {
   "cell_type": "code",
   "execution_count": 6,
   "id": "0fafeb6c",
   "metadata": {
    "execution": {
     "iopub.execute_input": "2021-10-25T11:26:42.473709Z",
     "iopub.status.busy": "2021-10-25T11:26:42.472517Z",
     "iopub.status.idle": "2021-10-25T11:26:42.475685Z",
     "shell.execute_reply": "2021-10-25T11:26:42.476185Z"
    },
    "jupyter": {
     "source_hidden": true
    },
    "papermill": {
     "duration": 0.086114,
     "end_time": "2021-10-25T11:26:42.476420",
     "exception": false,
     "start_time": "2021-10-25T11:26:42.390306",
     "status": "completed"
    },
    "tags": []
   },
   "outputs": [
    {
     "name": "stdout",
     "output_type": "stream",
     "text": [
      "1578\n",
      "toolname                                citrinednn\n",
      "title         Hands-on Deep Learning for Materials\n",
      "published                                        1\n",
      "registered                     2020-05-27 14:49:06\n",
      "Name: 1617, dtype: object\n"
     ]
    }
   ],
   "source": [
    "# debugging\n",
    "print(df['toolname'].to_list().index('citrinednn'))\n",
    "print(df.iloc[df['toolname'].to_list().index('citrinednn'),:])"
   ]
  },
  {
   "cell_type": "code",
   "execution_count": 7,
   "id": "9e898e55",
   "metadata": {
    "execution": {
     "iopub.execute_input": "2021-10-25T11:26:42.631925Z",
     "iopub.status.busy": "2021-10-25T11:26:42.631317Z",
     "iopub.status.idle": "2021-10-25T11:26:42.633984Z",
     "shell.execute_reply": "2021-10-25T11:26:42.634397Z"
    },
    "jupyter": {
     "source_hidden": true
    },
    "papermill": {
     "duration": 0.082246,
     "end_time": "2021-10-25T11:26:42.634638",
     "exception": false,
     "start_time": "2021-10-25T11:26:42.552392",
     "status": "completed"
    },
    "tags": []
   },
   "outputs": [
    {
     "data": {
      "text/plain": [
       "True"
      ]
     },
     "execution_count": 7,
     "metadata": {},
     "output_type": "execute_result"
    }
   ],
   "source": [
    "'mldefect' in df['toolname'].to_list()"
   ]
  },
  {
   "cell_type": "raw",
   "id": "5e150be9",
   "metadata": {
    "papermill": {
     "duration": 0.075095,
     "end_time": "2021-10-25T11:26:42.787553",
     "exception": false,
     "start_time": "2021-10-25T11:26:42.712458",
     "status": "completed"
    },
    "tags": []
   },
   "source": [
    "+-------------------+----------+\n",
    "| user              | cnt      |\n",
    "+-------------------+----------+\n",
    "| instanton         | 12192882 |\n",
    "| gridstat          |  8001390 |\n",
    "| enassakr          |   363553 |\n",
    "| luisetepor        |   340823 |\n",
    "| falkke87          |   282754 |\n",
    "| jovenpaoloangeles |   264310 |\n",
    "| hamu8278          |   210741 |\n",
    "| denphi            |   167766 |\n",
    "| iago              |   164634 |\n",
    "| clarksm           |   147987 |\n",
    "+-------------------+----------+"
   ]
  },
  {
   "cell_type": "code",
   "execution_count": 8,
   "id": "719d4d79",
   "metadata": {
    "execution": {
     "iopub.execute_input": "2021-10-25T11:26:42.946261Z",
     "iopub.status.busy": "2021-10-25T11:26:42.945658Z",
     "iopub.status.idle": "2021-10-25T11:26:43.020312Z",
     "shell.execute_reply": "2021-10-25T11:26:43.020908Z"
    },
    "jupyter": {
     "source_hidden": true
    },
    "papermill": {
     "duration": 0.15693,
     "end_time": "2021-10-25T11:26:43.021176",
     "exception": false,
     "start_time": "2021-10-25T11:26:42.864246",
     "status": "completed"
    },
    "tags": []
   },
   "outputs": [
    {
     "data": {
      "text/html": [
       "<div>\n",
       "<style scoped>\n",
       "    .dataframe tbody tr th:only-of-type {\n",
       "        vertical-align: middle;\n",
       "    }\n",
       "\n",
       "    .dataframe tbody tr th {\n",
       "        vertical-align: top;\n",
       "    }\n",
       "\n",
       "    .dataframe thead th {\n",
       "        text-align: right;\n",
       "    }\n",
       "</style>\n",
       "<table border=\"1\" class=\"dataframe\">\n",
       "  <thead>\n",
       "    <tr style=\"text-align: right;\">\n",
       "      <th></th>\n",
       "      <th>tool_version_id</th>\n",
       "      <th>alias</th>\n",
       "    </tr>\n",
       "  </thead>\n",
       "  <tbody>\n",
       "    <tr>\n",
       "      <th>0</th>\n",
       "      <td>977</td>\n",
       "      <td>2ds</td>\n",
       "    </tr>\n",
       "    <tr>\n",
       "      <th>1</th>\n",
       "      <td>978</td>\n",
       "      <td>abinit</td>\n",
       "    </tr>\n",
       "  </tbody>\n",
       "</table>\n",
       "</div>"
      ],
      "text/plain": [
       "   tool_version_id   alias\n",
       "0              977     2ds\n",
       "1              978  abinit"
      ]
     },
     "execution_count": 8,
     "metadata": {},
     "output_type": "execute_result"
    }
   ],
   "source": [
    "# Basic tool information\n",
    "sql_query = \"select * from jos_tool_version_alias\"\n",
    "\n",
    "df_jtva = pd.read_sql_query(sql_query, nanohub_db)\n",
    "\n",
    "# display\n",
    "df_jtva.head(2)"
   ]
  },
  {
   "cell_type": "code",
   "execution_count": 9,
   "id": "45609159",
   "metadata": {
    "execution": {
     "iopub.execute_input": "2021-10-25T11:26:43.184723Z",
     "iopub.status.busy": "2021-10-25T11:26:43.183944Z",
     "iopub.status.idle": "2021-10-25T11:26:43.186627Z",
     "shell.execute_reply": "2021-10-25T11:26:43.186980Z"
    },
    "jupyter": {
     "source_hidden": true
    },
    "papermill": {
     "duration": 0.08679,
     "end_time": "2021-10-25T11:26:43.187144",
     "exception": false,
     "start_time": "2021-10-25T11:26:43.100354",
     "status": "completed"
    },
    "tags": []
   },
   "outputs": [
    {
     "data": {
      "text/plain": [
       "False"
      ]
     },
     "execution_count": 9,
     "metadata": {},
     "output_type": "execute_result"
    }
   ],
   "source": [
    "'mldefect' in df_jtva['alias'].to_list()"
   ]
  },
  {
   "cell_type": "code",
   "execution_count": null,
   "id": "b8935e8f",
   "metadata": {
    "jupyter": {
     "source_hidden": true
    },
    "papermill": {
     "duration": 0.081188,
     "end_time": "2021-10-25T11:26:43.349701",
     "exception": false,
     "start_time": "2021-10-25T11:26:43.268513",
     "status": "completed"
    },
    "tags": []
   },
   "outputs": [],
   "source": []
  },
  {
   "cell_type": "markdown",
   "id": "4002fa57",
   "metadata": {
    "papermill": {
     "duration": 0.080054,
     "end_time": "2021-10-25T11:26:43.516417",
     "exception": false,
     "start_time": "2021-10-25T11:26:43.436363",
     "status": "completed"
    },
    "tags": []
   },
   "source": [
    "## Building new SQL queries that roll up instances"
   ]
  },
  {
   "cell_type": "code",
   "execution_count": 10,
   "id": "8871eaa0",
   "metadata": {
    "execution": {
     "iopub.execute_input": "2021-10-25T11:26:43.677426Z",
     "iopub.status.busy": "2021-10-25T11:26:43.676844Z",
     "iopub.status.idle": "2021-10-25T11:26:43.889544Z",
     "shell.execute_reply": "2021-10-25T11:26:43.889922Z"
    },
    "jupyter": {
     "source_hidden": true
    },
    "papermill": {
     "duration": 0.294558,
     "end_time": "2021-10-25T11:26:43.890168",
     "exception": false,
     "start_time": "2021-10-25T11:26:43.595610",
     "status": "completed"
    },
    "tags": []
   },
   "outputs": [
    {
     "data": {
      "text/html": [
       "<div>\n",
       "<style scoped>\n",
       "    .dataframe tbody tr th:only-of-type {\n",
       "        vertical-align: middle;\n",
       "    }\n",
       "\n",
       "    .dataframe tbody tr th {\n",
       "        vertical-align: top;\n",
       "    }\n",
       "\n",
       "    .dataframe thead th {\n",
       "        text-align: right;\n",
       "    }\n",
       "</style>\n",
       "<table border=\"1\" class=\"dataframe\">\n",
       "  <thead>\n",
       "    <tr style=\"text-align: right;\">\n",
       "      <th></th>\n",
       "      <th>toolname</th>\n",
       "      <th>instance</th>\n",
       "    </tr>\n",
       "  </thead>\n",
       "  <tbody>\n",
       "    <tr>\n",
       "      <th>0</th>\n",
       "      <td></td>\n",
       "      <td></td>\n",
       "    </tr>\n",
       "    <tr>\n",
       "      <th>1</th>\n",
       "      <td>112016a</td>\n",
       "      <td>112016a_dev</td>\n",
       "    </tr>\n",
       "    <tr>\n",
       "      <th>2</th>\n",
       "      <td>1dbtetransient</td>\n",
       "      <td>1dbtetransient_dev</td>\n",
       "    </tr>\n",
       "    <tr>\n",
       "      <th>3</th>\n",
       "      <td>1dchainmd</td>\n",
       "      <td>1dchainmd_dev</td>\n",
       "    </tr>\n",
       "    <tr>\n",
       "      <th>4</th>\n",
       "      <td>1dchainmd</td>\n",
       "      <td>1dchainmd_r13</td>\n",
       "    </tr>\n",
       "  </tbody>\n",
       "</table>\n",
       "</div>"
      ],
      "text/plain": [
       "         toolname            instance\n",
       "0                                    \n",
       "1         112016a         112016a_dev\n",
       "2  1dbtetransient  1dbtetransient_dev\n",
       "3       1dchainmd       1dchainmd_dev\n",
       "4       1dchainmd       1dchainmd_r13"
      ]
     },
     "metadata": {},
     "output_type": "display_data"
    },
    {
     "name": "stdout",
     "output_type": "stream",
     "text": [
      "(5198, 2)\n"
     ]
    }
   ],
   "source": [
    "# pull all tools in DB2\n",
    "sql_tools = 'select toolname, instance from nanohub.jos_tool_version;'\n",
    "tools_df = pd.read_sql_query(sql_tools,nanohub_db)\n",
    "display(tools_df.head(5))\n",
    "print(tools_df.shape)"
   ]
  },
  {
   "cell_type": "code",
   "execution_count": 11,
   "id": "4db319fb",
   "metadata": {
    "execution": {
     "iopub.execute_input": "2021-10-25T11:26:44.058628Z",
     "iopub.status.busy": "2021-10-25T11:26:44.058002Z",
     "iopub.status.idle": "2021-10-25T11:26:44.060938Z",
     "shell.execute_reply": "2021-10-25T11:26:44.061454Z"
    },
    "jupyter": {
     "source_hidden": true
    },
    "papermill": {
     "duration": 0.08954,
     "end_time": "2021-10-25T11:26:44.061698",
     "exception": false,
     "start_time": "2021-10-25T11:26:43.972158",
     "status": "completed"
    },
    "tags": []
   },
   "outputs": [
    {
     "data": {
      "text/plain": [
       "True"
      ]
     },
     "execution_count": 11,
     "metadata": {},
     "output_type": "execute_result"
    }
   ],
   "source": [
    "'mldefect' in tools_df['toolname'].to_list()"
   ]
  },
  {
   "cell_type": "code",
   "execution_count": 12,
   "id": "028b7c9f",
   "metadata": {
    "execution": {
     "iopub.execute_input": "2021-10-25T11:26:44.230788Z",
     "iopub.status.busy": "2021-10-25T11:26:44.230178Z",
     "iopub.status.idle": "2021-10-25T11:26:45.063749Z",
     "shell.execute_reply": "2021-10-25T11:26:45.064335Z"
    },
    "jupyter": {
     "source_hidden": true
    },
    "papermill": {
     "duration": 0.920481,
     "end_time": "2021-10-25T11:26:45.064574",
     "exception": false,
     "start_time": "2021-10-25T11:26:44.144093",
     "status": "completed"
    },
    "tags": []
   },
   "outputs": [
    {
     "data": {
      "text/plain": [
       "False"
      ]
     },
     "execution_count": 12,
     "metadata": {},
     "output_type": "execute_result"
    }
   ],
   "source": [
    "## debugging for Tanya\n",
    "# jos_resource_stats_clusters\n",
    "ql = 'select toolname from jos_resource_stats_clusters;'\n",
    "df_ql = pd.read_sql_query(ql,nanohub_db)\n",
    "'mldefect' in df_ql['toolname'].to_list()\n"
   ]
  },
  {
   "cell_type": "code",
   "execution_count": 13,
   "id": "e04a807d",
   "metadata": {
    "execution": {
     "iopub.execute_input": "2021-10-25T11:26:45.239890Z",
     "iopub.status.busy": "2021-10-25T11:26:45.239025Z",
     "iopub.status.idle": "2021-10-25T11:26:45.242220Z",
     "shell.execute_reply": "2021-10-25T11:26:45.242710Z"
    },
    "jupyter": {
     "source_hidden": true
    },
    "papermill": {
     "duration": 0.094923,
     "end_time": "2021-10-25T11:26:45.243035",
     "exception": false,
     "start_time": "2021-10-25T11:26:45.148112",
     "status": "completed"
    },
    "tags": []
   },
   "outputs": [
    {
     "data": {
      "text/html": [
       "<div>\n",
       "<style scoped>\n",
       "    .dataframe tbody tr th:only-of-type {\n",
       "        vertical-align: middle;\n",
       "    }\n",
       "\n",
       "    .dataframe tbody tr th {\n",
       "        vertical-align: top;\n",
       "    }\n",
       "\n",
       "    .dataframe thead th {\n",
       "        text-align: right;\n",
       "    }\n",
       "</style>\n",
       "<table border=\"1\" class=\"dataframe\">\n",
       "  <thead>\n",
       "    <tr style=\"text-align: right;\">\n",
       "      <th></th>\n",
       "      <th>toolname</th>\n",
       "    </tr>\n",
       "  </thead>\n",
       "  <tbody>\n",
       "    <tr>\n",
       "      <th>0</th>\n",
       "      <td>1dchainmd</td>\n",
       "    </tr>\n",
       "    <tr>\n",
       "      <th>1</th>\n",
       "      <td>1dchainmd</td>\n",
       "    </tr>\n",
       "    <tr>\n",
       "      <th>2</th>\n",
       "      <td>1dchainmd</td>\n",
       "    </tr>\n",
       "    <tr>\n",
       "      <th>3</th>\n",
       "      <td>1dchainmd</td>\n",
       "    </tr>\n",
       "    <tr>\n",
       "      <th>4</th>\n",
       "      <td>1dchainmd</td>\n",
       "    </tr>\n",
       "  </tbody>\n",
       "</table>\n",
       "</div>"
      ],
      "text/plain": [
       "    toolname\n",
       "0  1dchainmd\n",
       "1  1dchainmd\n",
       "2  1dchainmd\n",
       "3  1dchainmd\n",
       "4  1dchainmd"
      ]
     },
     "execution_count": 13,
     "metadata": {},
     "output_type": "execute_result"
    }
   ],
   "source": [
    "df_ql.head(5)"
   ]
  },
  {
   "cell_type": "code",
   "execution_count": 14,
   "id": "e3dc26f7",
   "metadata": {
    "execution": {
     "iopub.execute_input": "2021-10-25T11:26:45.413704Z",
     "iopub.status.busy": "2021-10-25T11:26:45.413210Z",
     "iopub.status.idle": "2021-10-25T11:26:45.605197Z",
     "shell.execute_reply": "2021-10-25T11:26:45.605926Z"
    },
    "jupyter": {
     "source_hidden": true
    },
    "papermill": {
     "duration": 0.279516,
     "end_time": "2021-10-25T11:26:45.606170",
     "exception": false,
     "start_time": "2021-10-25T11:26:45.326654",
     "status": "completed"
    },
    "tags": []
   },
   "outputs": [
    {
     "data": {
      "text/plain": [
       "True"
      ]
     },
     "execution_count": 14,
     "metadata": {},
     "output_type": "execute_result"
    }
   ],
   "source": [
    "# jos_tool_authors\n",
    "ql = 'select toolname from jos_tool_authors;'\n",
    "df_ql = pd.read_sql_query(ql,nanohub_db)\n",
    "'mldefect' in df_ql['toolname'].to_list()\n",
    "\n"
   ]
  },
  {
   "cell_type": "code",
   "execution_count": 15,
   "id": "5ac748c0",
   "metadata": {
    "execution": {
     "iopub.execute_input": "2021-10-25T11:26:45.788102Z",
     "iopub.status.busy": "2021-10-25T11:26:45.787504Z",
     "iopub.status.idle": "2021-10-25T11:26:45.790564Z",
     "shell.execute_reply": "2021-10-25T11:26:45.790147Z"
    },
    "jupyter": {
     "source_hidden": true
    },
    "papermill": {
     "duration": 0.093642,
     "end_time": "2021-10-25T11:26:45.790782",
     "exception": false,
     "start_time": "2021-10-25T11:26:45.697140",
     "status": "completed"
    },
    "tags": []
   },
   "outputs": [
    {
     "data": {
      "text/html": [
       "<div>\n",
       "<style scoped>\n",
       "    .dataframe tbody tr th:only-of-type {\n",
       "        vertical-align: middle;\n",
       "    }\n",
       "\n",
       "    .dataframe tbody tr th {\n",
       "        vertical-align: top;\n",
       "    }\n",
       "\n",
       "    .dataframe thead th {\n",
       "        text-align: right;\n",
       "    }\n",
       "</style>\n",
       "<table border=\"1\" class=\"dataframe\">\n",
       "  <thead>\n",
       "    <tr style=\"text-align: right;\">\n",
       "      <th></th>\n",
       "      <th>toolname</th>\n",
       "    </tr>\n",
       "  </thead>\n",
       "  <tbody>\n",
       "    <tr>\n",
       "      <th>0</th>\n",
       "      <td>1dchainmd</td>\n",
       "    </tr>\n",
       "    <tr>\n",
       "      <th>1</th>\n",
       "      <td>1dchainmd</td>\n",
       "    </tr>\n",
       "    <tr>\n",
       "      <th>2</th>\n",
       "      <td>1dchainmd</td>\n",
       "    </tr>\n",
       "    <tr>\n",
       "      <th>3</th>\n",
       "      <td>1dchainmd</td>\n",
       "    </tr>\n",
       "    <tr>\n",
       "      <th>4</th>\n",
       "      <td>1dfdmht</td>\n",
       "    </tr>\n",
       "  </tbody>\n",
       "</table>\n",
       "</div>"
      ],
      "text/plain": [
       "    toolname\n",
       "0  1dchainmd\n",
       "1  1dchainmd\n",
       "2  1dchainmd\n",
       "3  1dchainmd\n",
       "4    1dfdmht"
      ]
     },
     "execution_count": 15,
     "metadata": {},
     "output_type": "execute_result"
    }
   ],
   "source": [
    "df_ql.head(5)"
   ]
  },
  {
   "cell_type": "code",
   "execution_count": 16,
   "id": "15dda87c",
   "metadata": {
    "execution": {
     "iopub.execute_input": "2021-10-25T11:26:45.960597Z",
     "iopub.status.busy": "2021-10-25T11:26:45.960031Z",
     "iopub.status.idle": "2021-10-25T11:26:46.340143Z",
     "shell.execute_reply": "2021-10-25T11:26:46.340647Z"
    },
    "jupyter": {
     "source_hidden": true
    },
    "papermill": {
     "duration": 0.465478,
     "end_time": "2021-10-25T11:26:46.340871",
     "exception": false,
     "start_time": "2021-10-25T11:26:45.875393",
     "status": "completed"
    },
    "tags": []
   },
   "outputs": [
    {
     "data": {
      "text/plain": [
       "False"
      ]
     },
     "execution_count": 16,
     "metadata": {},
     "output_type": "execute_result"
    }
   ],
   "source": [
    "## nanohub_metrics trials\n",
    "# metrics_tool_version\n",
    "ql_metrics = 'select toolname from nanohub_metrics.metrics_tool_version;'\n",
    "mdf = pd.read_sql_query(ql_metrics,nanohub_metrics_db)\n",
    "\n",
    "'mldefect' in mdf['toolname'].to_list()"
   ]
  },
  {
   "cell_type": "code",
   "execution_count": 17,
   "id": "29f37137",
   "metadata": {
    "execution": {
     "iopub.execute_input": "2021-10-25T11:26:46.529495Z",
     "iopub.status.busy": "2021-10-25T11:26:46.528816Z",
     "iopub.status.idle": "2021-10-25T11:26:46.534822Z",
     "shell.execute_reply": "2021-10-25T11:26:46.535167Z"
    },
    "jupyter": {
     "source_hidden": true
    },
    "papermill": {
     "duration": 0.106644,
     "end_time": "2021-10-25T11:26:46.535337",
     "exception": false,
     "start_time": "2021-10-25T11:26:46.428693",
     "status": "completed"
    },
    "tags": []
   },
   "outputs": [
    {
     "data": {
      "text/html": [
       "<div>\n",
       "<style scoped>\n",
       "    .dataframe tbody tr th:only-of-type {\n",
       "        vertical-align: middle;\n",
       "    }\n",
       "\n",
       "    .dataframe tbody tr th {\n",
       "        vertical-align: top;\n",
       "    }\n",
       "\n",
       "    .dataframe thead th {\n",
       "        text-align: right;\n",
       "    }\n",
       "</style>\n",
       "<table border=\"1\" class=\"dataframe\">\n",
       "  <thead>\n",
       "    <tr style=\"text-align: right;\">\n",
       "      <th></th>\n",
       "      <th>toolname</th>\n",
       "    </tr>\n",
       "  </thead>\n",
       "  <tbody>\n",
       "    <tr>\n",
       "      <th>0</th>\n",
       "      <td>1dchainmd</td>\n",
       "    </tr>\n",
       "    <tr>\n",
       "      <th>1</th>\n",
       "      <td>1dchainmd</td>\n",
       "    </tr>\n",
       "    <tr>\n",
       "      <th>2</th>\n",
       "      <td>1dfdmht</td>\n",
       "    </tr>\n",
       "    <tr>\n",
       "      <th>3</th>\n",
       "      <td>1dfs</td>\n",
       "    </tr>\n",
       "    <tr>\n",
       "      <th>4</th>\n",
       "      <td>1dhetero</td>\n",
       "    </tr>\n",
       "  </tbody>\n",
       "</table>\n",
       "</div>"
      ],
      "text/plain": [
       "    toolname\n",
       "0  1dchainmd\n",
       "1  1dchainmd\n",
       "2    1dfdmht\n",
       "3       1dfs\n",
       "4   1dhetero"
      ]
     },
     "metadata": {},
     "output_type": "display_data"
    },
    {
     "data": {
      "text/html": [
       "<div>\n",
       "<style scoped>\n",
       "    .dataframe tbody tr th:only-of-type {\n",
       "        vertical-align: middle;\n",
       "    }\n",
       "\n",
       "    .dataframe tbody tr th {\n",
       "        vertical-align: top;\n",
       "    }\n",
       "\n",
       "    .dataframe thead th {\n",
       "        text-align: right;\n",
       "    }\n",
       "</style>\n",
       "<table border=\"1\" class=\"dataframe\">\n",
       "  <thead>\n",
       "    <tr style=\"text-align: right;\">\n",
       "      <th></th>\n",
       "      <th>toolname</th>\n",
       "    </tr>\n",
       "  </thead>\n",
       "  <tbody>\n",
       "    <tr>\n",
       "      <th>1867</th>\n",
       "      <td>xfig</td>\n",
       "    </tr>\n",
       "    <tr>\n",
       "      <th>1868</th>\n",
       "      <td>xhub</td>\n",
       "    </tr>\n",
       "    <tr>\n",
       "      <th>1869</th>\n",
       "      <td>xterm</td>\n",
       "    </tr>\n",
       "    <tr>\n",
       "      <th>1870</th>\n",
       "      <td>xterm</td>\n",
       "    </tr>\n",
       "    <tr>\n",
       "      <th>1871</th>\n",
       "      <td>yambo</td>\n",
       "    </tr>\n",
       "  </tbody>\n",
       "</table>\n",
       "</div>"
      ],
      "text/plain": [
       "     toolname\n",
       "1867     xfig\n",
       "1868     xhub\n",
       "1869    xterm\n",
       "1870    xterm\n",
       "1871    yambo"
      ]
     },
     "metadata": {},
     "output_type": "display_data"
    },
    {
     "name": "stdout",
     "output_type": "stream",
     "text": [
      "(1872, 1)\n"
     ]
    }
   ],
   "source": [
    "display(mdf.head(5))\n",
    "display(mdf.tail(5))\n",
    "print(mdf.shape)"
   ]
  },
  {
   "cell_type": "code",
   "execution_count": 18,
   "id": "bb038e35",
   "metadata": {
    "execution": {
     "iopub.execute_input": "2021-10-25T11:26:46.732141Z",
     "iopub.status.busy": "2021-10-25T11:26:46.731301Z",
     "iopub.status.idle": "2021-10-25T11:26:46.734237Z",
     "shell.execute_reply": "2021-10-25T11:26:46.734734Z"
    },
    "jupyter": {
     "source_hidden": true
    },
    "papermill": {
     "duration": 0.101643,
     "end_time": "2021-10-25T11:26:46.734972",
     "exception": false,
     "start_time": "2021-10-25T11:26:46.633329",
     "status": "completed"
    },
    "tags": []
   },
   "outputs": [
    {
     "data": {
      "text/plain": [
       "['mimi',\n",
       " 'minimol',\n",
       " 'minimol',\n",
       " 'minimol',\n",
       " 'minimol',\n",
       " 'minimol',\n",
       " 'minimos',\n",
       " 'minimos',\n",
       " 'minimos',\n",
       " 'mmfl',\n",
       " 'mmst',\n",
       " 'mmst',\n",
       " 'mmst',\n",
       " 'mmst',\n",
       " 'mmst',\n",
       " 'mmsttf',\n",
       " 'mmsttf',\n",
       " 'mmsttf',\n",
       " 'mmsttf',\n",
       " 'moca']"
      ]
     },
     "execution_count": 18,
     "metadata": {},
     "output_type": "execute_result"
    }
   ],
   "source": [
    "mdf['toolname'].to_list()[730:750]"
   ]
  },
  {
   "cell_type": "code",
   "execution_count": null,
   "id": "5e1fdb5f",
   "metadata": {
    "jupyter": {
     "source_hidden": true
    },
    "papermill": {
     "duration": 0.086913,
     "end_time": "2021-10-25T11:26:46.911189",
     "exception": false,
     "start_time": "2021-10-25T11:26:46.824276",
     "status": "completed"
    },
    "tags": []
   },
   "outputs": [],
   "source": []
  },
  {
   "cell_type": "code",
   "execution_count": null,
   "id": "3ea08eab",
   "metadata": {
    "jupyter": {
     "source_hidden": true
    },
    "papermill": {
     "duration": 0.093958,
     "end_time": "2021-10-25T11:26:47.092615",
     "exception": false,
     "start_time": "2021-10-25T11:26:46.998657",
     "status": "completed"
    },
    "tags": []
   },
   "outputs": [],
   "source": []
  },
  {
   "cell_type": "code",
   "execution_count": null,
   "id": "65219270",
   "metadata": {
    "jupyter": {
     "source_hidden": true
    },
    "papermill": {
     "duration": 0.091493,
     "end_time": "2021-10-25T11:26:47.273963",
     "exception": false,
     "start_time": "2021-10-25T11:26:47.182470",
     "status": "completed"
    },
    "tags": []
   },
   "outputs": [],
   "source": []
  },
  {
   "cell_type": "code",
   "execution_count": null,
   "id": "62d389c4",
   "metadata": {
    "jupyter": {
     "source_hidden": true
    },
    "papermill": {
     "duration": 0.089069,
     "end_time": "2021-10-25T11:26:47.453131",
     "exception": false,
     "start_time": "2021-10-25T11:26:47.364062",
     "status": "completed"
    },
    "tags": []
   },
   "outputs": [],
   "source": []
  },
  {
   "cell_type": "code",
   "execution_count": null,
   "id": "aabb2766",
   "metadata": {
    "jupyter": {
     "source_hidden": true
    },
    "papermill": {
     "duration": 0.087458,
     "end_time": "2021-10-25T11:26:47.627163",
     "exception": false,
     "start_time": "2021-10-25T11:26:47.539705",
     "status": "completed"
    },
    "tags": []
   },
   "outputs": [],
   "source": []
  },
  {
   "cell_type": "code",
   "execution_count": 19,
   "id": "44095aa7",
   "metadata": {
    "execution": {
     "iopub.execute_input": "2021-10-25T11:26:47.845081Z",
     "iopub.status.busy": "2021-10-25T11:26:47.822860Z",
     "iopub.status.idle": "2021-10-25T11:26:47.846883Z",
     "shell.execute_reply": "2021-10-25T11:26:47.847409Z"
    },
    "jupyter": {
     "source_hidden": true
    },
    "papermill": {
     "duration": 0.129588,
     "end_time": "2021-10-25T11:26:47.847788",
     "exception": false,
     "start_time": "2021-10-25T11:26:47.718200",
     "status": "completed"
    },
    "tags": []
   },
   "outputs": [],
   "source": [
    "# create a dict strictly of toolnames and their instances\n",
    "grouped_tools = tools_df.groupby(['toolname']).groups #this is a dict already; need to change the value pairs\n",
    "import numpy as np\n",
    "tn_instances = tools_df['instance'].to_numpy()\n",
    "for i,j in grouped_tools.items():\n",
    "    grouped_tools[i] = tuple(tn_instances[j])"
   ]
  },
  {
   "cell_type": "code",
   "execution_count": 20,
   "id": "e793a228",
   "metadata": {
    "execution": {
     "iopub.execute_input": "2021-10-25T11:26:48.032550Z",
     "iopub.status.busy": "2021-10-25T11:26:48.031762Z",
     "iopub.status.idle": "2021-10-25T11:26:48.034501Z",
     "shell.execute_reply": "2021-10-25T11:26:48.034915Z"
    },
    "jupyter": {
     "source_hidden": true
    },
    "papermill": {
     "duration": 0.102068,
     "end_time": "2021-10-25T11:26:48.035156",
     "exception": false,
     "start_time": "2021-10-25T11:26:47.933088",
     "status": "completed"
    },
    "tags": []
   },
   "outputs": [
    {
     "name": "stdout",
     "output_type": "stream",
     "text": [
      "{'': ('',), '112016a': ('112016a_dev',), '1dbtetransient': ('1dbtetransient_dev',), '1dchainmd': ('1dchainmd_dev', '1dchainmd_r13', '1dchainmd_r15'), '1dfdmht': ('1dfdmht_dev', '1dfdmht_r24', '1dfdmht_r26', '1dfdmht_r28'), '1dfs': ('1dfs_dev',), '1dhetero': ('1dhetero_dev', '1dhetero_r10', '1dhetero_r13', '1dhetero_r14', '1dhetero_r298', '1dhetero_r299', '1dhetero_r30', '1dhetero_r301', '1dhetero_r303', '1dhetero_r309', '1dhetero_r531', '1dhetero_r532', '1dhetero_r540', '1dhetero_r600', '1dhetero_r689', '1dhetero_r694', '1dhetero_r733', '1dhetero_r739', '1dhetero_r740', '1dhetero_r742'), '1dmd': ('1dmd_dev',), '1dnegf': ('1dnegf_dev',), '1doscillationla': ('1doscillationla_dev',), '1dphononbte': ('1dphononbte_dev', '1dphononbte_r5', '1dphononbte_r9'), '1sl': ('1sl_dev',), '2daiperc': ('2daiperc_dev',), '2degpot': ('2degpot_dev',), '2dfet': ('2dfet_dev',), '2dfets': ('2dfets_dev', '2dfets_r10', '2dfets_r8'), '2dmatstacks': ('2dmatstacks_dev', '2dmatstacks_r33', '2dmatstacks_r36'), '2dreflect': ('2dreflect_dev', '2dreflect_r29', '2dreflect_r44'), '2ds': ('2ds', '2ds_dev'), '2wth': ('2wth_dev',), '3datomsmodel': ('3datomsmodel_dev',), '3dmatopt': ('3dmatopt_dev', '3dmatopt_r27'), '3drftsv': ('3drftsv_dev',), 'Mynewtool': ('Mynewtool_dev',), 'WTND': ('WTND_dev',), 'abacus': ('abacus_dev', 'abacus_r11', 'abacus_r14', 'abacus_r15', 'abacus_r22', 'abacus_r23', 'abacus_r25', 'abacus_r28', 'abacus_r31', 'abacus_r36', 'abacus_r8'), 'abase': ('abase_dev', 'abase_r6', 'abase_r8', 'abase_r9'), 'abdullah': ('abdullah_dev',), 'abinit': ('abinit', 'abinit_dev', 'abinit_r100', 'abinit_r103', 'abinit_r104', 'abinit_r105', 'abinit_r108', 'abinit_r109', 'abinit_r110', 'abinit_r111', 'abinit_r112', 'abinit_r114', 'abinit_r116', 'abinit_r118', 'abinit_r120', 'abinit_r121', 'abinit_r127', 'abinit_r130', 'abinit_r134', 'abinit_r135', 'abinit_r136', 'abinit_r137', 'abinit_r140', 'abinit_r147', 'abinit_r151', 'abinit_r152', 'abinit_r153', 'abinit_r154', 'abinit_r158', 'abinit_r159', 'abinit_r98'), 'abrm': ('abrm_dev',), 'aci': ('aci_dev',), 'acmenpds': ('acmenpds_dev', 'acmenpds_r41', 'acmenpds_r43', 'acmenpds_r44', 'acmenpds_r46', 'acmenpds_r49', 'acmenpds_r51'), 'acsa': ('acsa_dev',), 'acteomdb': ('acteomdb_dev', 'acteomdb_r5'), 'activelearning': ('activelearning_dev', 'activelearning_r4'), 'activemeltheas': ('activemeltheas_dev', 'activemeltheas_r23'), 'acute': ('acute_dev', 'acute_r5', 'acute_r9'), 'adac': ('adac_dev', 'adac_r1016', 'adac_r1027', 'adac_r103', 'adac_r1067', 'adac_r1072', 'adac_r1107', 'adac_r1119', 'adac_r117', 'adac_r296', 'adac_r303', 'adac_r328', 'adac_r481', 'adac_r514', 'adac_r519', 'adac_r524', 'adac_r551', 'adac_r596', 'adac_r600', 'adac_r607', 'adac_r653', 'adac_r682', 'adac_r723', 'adac_r726', 'adac_r737', 'adac_r738', 'adac_r774', 'adac_r794', 'adac_r799', 'adac_r823', 'adac_r906', 'adac_r912', 'adac_r921', 'adac_r951', 'adac_r994'), 'adept': ('adept', 'adept_dev', 'adept_r16', 'adept_r32'), 'adeptnpt': ('adeptnpt_dev', 'adeptnpt_r134', 'adeptnpt_r138', 'adeptnpt_r151', 'adeptnpt_r18', 'adeptnpt_r20', 'adeptnpt_r22', 'adeptnpt_r24', 'adeptnpt_r25', 'adeptnpt_r27', 'adeptnpt_r30', 'adeptnpt_r65', 'adeptnpt_r67', 'adeptnpt_r96', 'adeptnpt_r98'), 'adriene': ('adriene_dev',), 'adrienne': ('adrienne_dev',), 'ads2009': ('ads2009_dev',), 'adsorbit': ('adsorbit_dev',), 'adspr': ('adspr_dev',), 'advmemristor': ('advmemristor_dev',), 'advqdlab': ('advqdlab_dev',), 'advte': ('advte_dev', 'advte_r15'), 'aeneas': ('aeneas_dev',), 'afm': ('afm_dev', 'afm_r12', 'afm_r7'), 'afmfcanalysis': ('afmfcanalysis_dev',), 'aforce': ('aforce_dev',), 'aftestname': ('aftestname_dev',), 'agingmodel': ('agingmodel_dev',), 'agpvsim': ('agpvsim_dev', 'agpvsim_r37', 'agpvsim_r38', 'agpvsim_r41'), 'agropvsim': ('agropvsim_dev',), 'ahpull': ('ahpull_dev', 'ahpull_r25', 'ahpull_r27'), 'aiperc': ('aiperc_dev',), 'alissatesttool': ('alissatesttool_dev',), 'alphakconvnet': ('alphakconvnet_dev',), 'alphaknet': ('alphaknet_dev',), 'amidespec': ('amidespec_dev', 'amidespec_r6'), 'amobt': ('amobt_dev', 'amobt_r29', 'amobt_r31', 'amobt_r32', 'amobt_r33', 'amobt_r35', 'amobt_r37', 'amobt_r38', 'amobt_r39', 'amobt_r42', 'amobt_r46', 'amobt_r48', 'amobt_r49', 'amobt_r51'), 'anaconda': ('anaconda_dev',), 'anashousbane': ('anashousbane_dev',), 'andie': ('andie_dev',), 'angel': ('angel_dev', 'angel_r41', 'angel_r50'), 'angiogencc3d': ('angiogencc3d_dev', 'angiogencc3d_r11', 'angiogencc3d_r12', 'angiogencc3d_r5', 'angiogencc3d_r8'), 'anngenerator': ('anngenerator_dev',), 'anngraph': ('anngraph_dev', 'anngraph_r36'), 'annihilate': ('annihilate_dev', 'annihilate_r24', 'annihilate_r27', 'annihilate_r28'), 'annviz': ('annviz_dev',), 'ansys': ('ansys', 'ansys_dev'), 'antibacterial': ('antibacterial_dev', 'antibacterial_r5', 'antibacterial_r7'), 'antiresist': ('antiresist_dev',), 'antsy': ('antsy_dev', 'antsy_r11', 'antsy_r13', 'antsy_r15', 'antsy_r7', 'antsy_r9'), 'appapi': ('appapi_dev',), 'apu': ('apu_dev',), 'aqme': ('aqme_dev', 'aqme_r11', 'aqme_r14', 'aqme_r6', 'aqme_r8', 'aqme_r9'), 'arbd': ('arbd_dev', 'arbd_r13'), 'archimedes': ('archimedes_dev', 'archimedes_r17', 'archimedes_r22', 'archimedes_r47', 'archimedes_r61', 'archimedes_r68', 'archimedes_r71'), 'arraypmod': ('arraypmod_dev',), 'aru': ('aru_dev',), 'asdasdasdasdasd': ('asdasdasdasdasd_dev',), 'ase': ('ase_dev',), 'asegui': ('asegui_dev',), 'asetool': ('asetool_dev',), 'asilicon': ('asilicon_dev', 'asilicon_r15', 'asilicon_r22', 'asilicon_r24'), 'astarspin': ('astarspin_dev',), 'asts': ('asts_dev', 'asts_r3', 'asts_r8'), 'asynchup': ('asynchup_dev', 'asynchup_r10', 'asynchup_r12', 'asynchup_r7'), 'atcadlab': ('atcadlab_dev', 'atcadlab_r11', 'atcadlab_r13', 'atcadlab_r15', 'atcadlab_r9'), 'atomicstructure': ('atomicstructure_dev',), 'aurora': ('aurora_dev',), 'autonomousrobot': ('autonomousrobot_dev',), 'avalanche': ('avalanche_dev', 'avalanche_r13'), 'avasctum': ('avasctum_dev',), 'avoidlearn': ('avoidlearn_dev', 'avoidlearn_r11', 'avoidlearn_r14', 'avoidlearn_r16', 'avoidlearn_r17'), 'avoidlearncall': ('avoidlearncall_dev', 'avoidlearncall_r3', 'avoidlearncall_r6', 'avoidlearncall_r8', 'avoidlearncall_r9'), 'backproptrain': ('backproptrain_dev',), ...}\n"
     ]
    }
   ],
   "source": [
    "print(grouped_tools)"
   ]
  },
  {
   "cell_type": "code",
   "execution_count": 21,
   "id": "73776b12",
   "metadata": {
    "execution": {
     "iopub.execute_input": "2021-10-25T11:26:48.224345Z",
     "iopub.status.busy": "2021-10-25T11:26:48.223775Z",
     "iopub.status.idle": "2021-10-25T11:26:48.225943Z",
     "shell.execute_reply": "2021-10-25T11:26:48.226443Z"
    },
    "jupyter": {
     "source_hidden": true
    },
    "papermill": {
     "duration": 0.099872,
     "end_time": "2021-10-25T11:26:48.226738",
     "exception": false,
     "start_time": "2021-10-25T11:26:48.126866",
     "status": "completed"
    },
    "tags": []
   },
   "outputs": [
    {
     "name": "stdout",
     "output_type": "stream",
     "text": [
      "1dbtetransient\n",
      "('1dbtetransient_dev',)\n"
     ]
    }
   ],
   "source": [
    "print(list(grouped_tools.keys())[2])\n",
    "print(grouped_tools[list(grouped_tools.keys())[2]])"
   ]
  },
  {
   "cell_type": "code",
   "execution_count": 22,
   "id": "307d0e7f",
   "metadata": {
    "execution": {
     "iopub.execute_input": "2021-10-25T11:26:48.412436Z",
     "iopub.status.busy": "2021-10-25T11:26:48.411862Z",
     "iopub.status.idle": "2021-10-25T11:26:48.648921Z",
     "shell.execute_reply": "2021-10-25T11:26:48.649514Z"
    },
    "jupyter": {
     "source_hidden": true
    },
    "papermill": {
     "duration": 0.332896,
     "end_time": "2021-10-25T11:26:48.649726",
     "exception": false,
     "start_time": "2021-10-25T11:26:48.316830",
     "status": "completed"
    },
    "tags": []
   },
   "outputs": [
    {
     "name": "stdout",
     "output_type": "stream",
     "text": [
      "112016a\n",
      "('112016a_dev',)\n"
     ]
    },
    {
     "data": {
      "text/html": [
       "<div>\n",
       "<style scoped>\n",
       "    .dataframe tbody tr th:only-of-type {\n",
       "        vertical-align: middle;\n",
       "    }\n",
       "\n",
       "    .dataframe tbody tr th {\n",
       "        vertical-align: top;\n",
       "    }\n",
       "\n",
       "    .dataframe thead th {\n",
       "        text-align: right;\n",
       "    }\n",
       "</style>\n",
       "<table border=\"1\" class=\"dataframe\">\n",
       "  <thead>\n",
       "    <tr style=\"text-align: right;\">\n",
       "      <th></th>\n",
       "      <th>count(user)</th>\n",
       "    </tr>\n",
       "  </thead>\n",
       "  <tbody>\n",
       "    <tr>\n",
       "      <th>0</th>\n",
       "      <td>1843</td>\n",
       "    </tr>\n",
       "  </tbody>\n",
       "</table>\n",
       "</div>"
      ],
      "text/plain": [
       "   count(user)\n",
       "0         1843"
      ]
     },
     "metadata": {},
     "output_type": "display_data"
    }
   ],
   "source": [
    "## Run a separate query for each grouped tool\n",
    "for key in list(grouped_tools.keys())[1:2]:\n",
    "    print(key)\n",
    "    print(grouped_tools[key])\n",
    "    t_sql_tspec = \"select count(user) from nanohub_metrics.toolstart where tool in \" +\"('1dphononbte_dev', '1dphononbte_r5', '1dphononbte_r9')\"+\";\" #temp sql tool specific\n",
    "    t_r_df = pd.read_sql_query(t_sql_tspec,nanohub_metrics_db)\n",
    "    display(t_r_df.head(5))"
   ]
  },
  {
   "cell_type": "code",
   "execution_count": 23,
   "id": "b8e93de7",
   "metadata": {
    "execution": {
     "iopub.execute_input": "2021-10-25T11:26:48.841473Z",
     "iopub.status.busy": "2021-10-25T11:26:48.840726Z",
     "iopub.status.idle": "2021-10-25T11:26:48.843422Z",
     "shell.execute_reply": "2021-10-25T11:26:48.843952Z"
    },
    "jupyter": {
     "source_hidden": true
    },
    "papermill": {
     "duration": 0.100238,
     "end_time": "2021-10-25T11:26:48.844195",
     "exception": false,
     "start_time": "2021-10-25T11:26:48.743957",
     "status": "completed"
    },
    "tags": []
   },
   "outputs": [
    {
     "data": {
      "text/plain": [
       "(1, 1)"
      ]
     },
     "execution_count": 23,
     "metadata": {},
     "output_type": "execute_result"
    }
   ],
   "source": [
    "t_r_df.shape"
   ]
  },
  {
   "cell_type": "code",
   "execution_count": null,
   "id": "dcb40398",
   "metadata": {
    "jupyter": {
     "source_hidden": true
    },
    "papermill": {
     "duration": 0.093241,
     "end_time": "2021-10-25T11:26:49.039534",
     "exception": false,
     "start_time": "2021-10-25T11:26:48.946293",
     "status": "completed"
    },
    "tags": []
   },
   "outputs": [],
   "source": []
  },
  {
   "cell_type": "code",
   "execution_count": null,
   "id": "9f436446",
   "metadata": {
    "jupyter": {
     "source_hidden": true
    },
    "papermill": {
     "duration": 0.0945,
     "end_time": "2021-10-25T11:26:49.226779",
     "exception": false,
     "start_time": "2021-10-25T11:26:49.132279",
     "status": "completed"
    },
    "tags": []
   },
   "outputs": [],
   "source": []
  },
  {
   "cell_type": "code",
   "execution_count": null,
   "id": "ae09c3a1",
   "metadata": {
    "jupyter": {
     "source_hidden": true
    },
    "papermill": {
     "duration": 0.09075,
     "end_time": "2021-10-25T11:26:49.410446",
     "exception": false,
     "start_time": "2021-10-25T11:26:49.319696",
     "status": "completed"
    },
    "tags": []
   },
   "outputs": [],
   "source": []
  },
  {
   "cell_type": "code",
   "execution_count": 24,
   "id": "73a25ce0",
   "metadata": {
    "execution": {
     "iopub.execute_input": "2021-10-25T11:26:49.603004Z",
     "iopub.status.busy": "2021-10-25T11:26:49.602417Z",
     "iopub.status.idle": "2021-10-25T11:32:38.762960Z",
     "shell.execute_reply": "2021-10-25T11:32:38.763614Z"
    },
    "jupyter": {
     "source_hidden": true
    },
    "papermill": {
     "duration": 349.259409,
     "end_time": "2021-10-25T11:32:38.763826",
     "exception": false,
     "start_time": "2021-10-25T11:26:49.504417",
     "status": "completed"
    },
    "tags": []
   },
   "outputs": [],
   "source": [
    "# Lifetime usage count\n",
    "sql_query = \"select v.toolname, count(*) as total, count(distinct t.user) as user_total from nanohub_metrics.toolstart as t \\\n",
    "inner join nanohub.jos_tool_version as v \\\n",
    "on v.instance = t.tool \\\n",
    "where t.user not in ('instanton', 'gridstat')\\\n",
    "group by v.toolname\"\n",
    "\n",
    "toolstart_lifetime_df = pd.read_sql_query(sql_query, nanohub_metrics_db)\n",
    "\n",
    "# last year usage count\n",
    "sql_query = \"select v.toolname, count(*) as total, count(distinct t.user) as user_total from nanohub_metrics.toolstart as t \\\n",
    "inner join nanohub.jos_tool_version as v \\\n",
    "on v.instance = t.tool \\\n",
    "where t.user not in ('instanton', 'gridstat') and t.datetime >= '%s'\\\n",
    "group by v.toolname\" % (datetime.datetime.now()-datetime.timedelta(days=365)).strftime('%Y-%m-%d')\n",
    "\n",
    "toolstart_last_year_df = pd.read_sql_query(sql_query, nanohub_metrics_db)\n",
    "\n",
    "# last 3-month usage count\n",
    "sql_query = \"select v.toolname, count(*) as total, count(distinct t.user) as user_total from nanohub_metrics.toolstart as t \\\n",
    "inner join nanohub.jos_tool_version as v \\\n",
    "on v.instance = t.tool \\\n",
    "where t.user not in ('instanton', 'gridstat') and t.datetime >= '%s'\\\n",
    "group by v.toolname\" % (datetime.datetime.now()-datetime.timedelta(days=90)).strftime('%Y-%m-%d')\n",
    "\n",
    "toolstart_last_3_month_df = pd.read_sql_query(sql_query, nanohub_metrics_db)\n",
    "\n",
    "# last month usage count\n",
    "sql_query = \"select v.toolname, count(*) as total, count(distinct t.user) as user_total from nanohub_metrics.toolstart as t \\\n",
    "inner join nanohub.jos_tool_version as v \\\n",
    "on v.instance = t.tool \\\n",
    "where t.user not in ('instanton', 'gridstat') and t.datetime >= '%s'\\\n",
    "group by v.toolname\" % (datetime.datetime.now()-datetime.timedelta(days=30)).strftime('%Y-%m-%d')\n",
    "\n",
    "toolstart_last_month_df = pd.read_sql_query(sql_query, nanohub_metrics_db)\n",
    "\n",
    "# last week usage count\n",
    "sql_query = \"select v.toolname, count(*) as total, count(distinct t.user) as user_total from nanohub_metrics.toolstart as t \\\n",
    "inner join nanohub.jos_tool_version as v \\\n",
    "on v.instance = t.tool \\\n",
    "where t.user not in ('instanton', 'gridstat') and t.datetime >= '%s'\\\n",
    "group by v.toolname\" % (datetime.datetime.now()-datetime.timedelta(days=7)).strftime('%Y-%m-%d')\n",
    "\n",
    "toolstart_last_week_df = pd.read_sql_query(sql_query, nanohub_metrics_db)\n",
    "\n",
    "# last 24 hours usage count\n",
    "sql_query = \"select v.toolname, count(*) as total, count(distinct t.user) as user_total from nanohub_metrics.toolstart as t \\\n",
    "inner join nanohub.jos_tool_version as v \\\n",
    "on v.instance = t.tool \\\n",
    "where t.user not in ('instanton', 'gridstat') and t.datetime >= '%s'\\\n",
    "group by v.toolname\" % (datetime.datetime.now()-datetime.timedelta(days=1)).strftime('%Y-%m-%d')\n",
    "\n",
    "toolstart_last_24_hours_df = pd.read_sql_query(sql_query, nanohub_metrics_db)"
   ]
  },
  {
   "cell_type": "code",
   "execution_count": 25,
   "id": "d97c72ae",
   "metadata": {
    "execution": {
     "iopub.execute_input": "2021-10-25T11:32:38.957545Z",
     "iopub.status.busy": "2021-10-25T11:32:38.956638Z",
     "iopub.status.idle": "2021-10-25T11:32:38.959827Z",
     "shell.execute_reply": "2021-10-25T11:32:38.960250Z"
    },
    "jupyter": {
     "source_hidden": true
    },
    "papermill": {
     "duration": 0.099997,
     "end_time": "2021-10-25T11:32:38.960508",
     "exception": false,
     "start_time": "2021-10-25T11:32:38.860511",
     "status": "completed"
    },
    "tags": []
   },
   "outputs": [
    {
     "data": {
      "text/html": [
       "<div>\n",
       "<style scoped>\n",
       "    .dataframe tbody tr th:only-of-type {\n",
       "        vertical-align: middle;\n",
       "    }\n",
       "\n",
       "    .dataframe tbody tr th {\n",
       "        vertical-align: top;\n",
       "    }\n",
       "\n",
       "    .dataframe thead th {\n",
       "        text-align: right;\n",
       "    }\n",
       "</style>\n",
       "<table border=\"1\" class=\"dataframe\">\n",
       "  <thead>\n",
       "    <tr style=\"text-align: right;\">\n",
       "      <th></th>\n",
       "      <th>toolname</th>\n",
       "      <th>total</th>\n",
       "      <th>user_total</th>\n",
       "    </tr>\n",
       "  </thead>\n",
       "  <tbody>\n",
       "    <tr>\n",
       "      <th>0</th>\n",
       "      <td>1dchainmd</td>\n",
       "      <td>151</td>\n",
       "      <td>62</td>\n",
       "    </tr>\n",
       "    <tr>\n",
       "      <th>1</th>\n",
       "      <td>1dfdmht</td>\n",
       "      <td>406</td>\n",
       "      <td>90</td>\n",
       "    </tr>\n",
       "  </tbody>\n",
       "</table>\n",
       "</div>"
      ],
      "text/plain": [
       "    toolname  total  user_total\n",
       "0  1dchainmd    151          62\n",
       "1    1dfdmht    406          90"
      ]
     },
     "execution_count": 25,
     "metadata": {},
     "output_type": "execute_result"
    }
   ],
   "source": [
    "# display\n",
    "toolstart_last_year_df.head(2)"
   ]
  },
  {
   "cell_type": "code",
   "execution_count": 26,
   "id": "edd7c92a",
   "metadata": {
    "execution": {
     "iopub.execute_input": "2021-10-25T11:32:39.164555Z",
     "iopub.status.busy": "2021-10-25T11:32:39.163878Z",
     "iopub.status.idle": "2021-10-25T11:32:39.187747Z",
     "shell.execute_reply": "2021-10-25T11:32:39.188186Z"
    },
    "jupyter": {
     "source_hidden": true
    },
    "papermill": {
     "duration": 0.129932,
     "end_time": "2021-10-25T11:32:39.188430",
     "exception": false,
     "start_time": "2021-10-25T11:32:39.058498",
     "status": "completed"
    },
    "tags": []
   },
   "outputs": [
    {
     "data": {
      "text/html": [
       "<div>\n",
       "<style scoped>\n",
       "    .dataframe tbody tr th:only-of-type {\n",
       "        vertical-align: middle;\n",
       "    }\n",
       "\n",
       "    .dataframe tbody tr th {\n",
       "        vertical-align: top;\n",
       "    }\n",
       "\n",
       "    .dataframe thead th {\n",
       "        text-align: right;\n",
       "    }\n",
       "</style>\n",
       "<table border=\"1\" class=\"dataframe\">\n",
       "  <thead>\n",
       "    <tr style=\"text-align: right;\">\n",
       "      <th></th>\n",
       "      <th>0</th>\n",
       "      <th>1</th>\n",
       "      <th>2</th>\n",
       "      <th>3</th>\n",
       "      <th>4</th>\n",
       "    </tr>\n",
       "  </thead>\n",
       "  <tbody>\n",
       "    <tr>\n",
       "      <th>toolname</th>\n",
       "      <td>matlab</td>\n",
       "      <td>octave</td>\n",
       "      <td>gamess</td>\n",
       "      <td>rebo</td>\n",
       "      <td>ellipsom</td>\n",
       "    </tr>\n",
       "    <tr>\n",
       "      <th>title</th>\n",
       "      <td>Matlab</td>\n",
       "      <td>Octave</td>\n",
       "      <td>GAMESS</td>\n",
       "      <td>REBO-1</td>\n",
       "      <td>title-ellipsom</td>\n",
       "    </tr>\n",
       "    <tr>\n",
       "      <th>published</th>\n",
       "      <td>0</td>\n",
       "      <td>0</td>\n",
       "      <td>0</td>\n",
       "      <td>0</td>\n",
       "      <td>0</td>\n",
       "    </tr>\n",
       "    <tr>\n",
       "      <th>registered</th>\n",
       "      <td>2000-10-02 02:34:37</td>\n",
       "      <td>2001-04-04 19:03:01</td>\n",
       "      <td>2003-01-15 15:41:22</td>\n",
       "      <td>2003-05-08 00:41:33</td>\n",
       "      <td>2005-03-05 03:02:47</td>\n",
       "    </tr>\n",
       "    <tr>\n",
       "      <th>Total_runs_over_lifetime</th>\n",
       "      <td>3470.0</td>\n",
       "      <td>59.0</td>\n",
       "      <td>2415.0</td>\n",
       "      <td>291.0</td>\n",
       "      <td>NaN</td>\n",
       "    </tr>\n",
       "    <tr>\n",
       "      <th>Total_users_over_lifetime</th>\n",
       "      <td>162.0</td>\n",
       "      <td>30.0</td>\n",
       "      <td>101.0</td>\n",
       "      <td>42.0</td>\n",
       "      <td>NaN</td>\n",
       "    </tr>\n",
       "    <tr>\n",
       "      <th>Total_runs_last_year</th>\n",
       "      <td>NaN</td>\n",
       "      <td>NaN</td>\n",
       "      <td>NaN</td>\n",
       "      <td>NaN</td>\n",
       "      <td>NaN</td>\n",
       "    </tr>\n",
       "    <tr>\n",
       "      <th>Total_users_last_year</th>\n",
       "      <td>NaN</td>\n",
       "      <td>NaN</td>\n",
       "      <td>NaN</td>\n",
       "      <td>NaN</td>\n",
       "      <td>NaN</td>\n",
       "    </tr>\n",
       "    <tr>\n",
       "      <th>Total_runs_last_3_month</th>\n",
       "      <td>NaN</td>\n",
       "      <td>NaN</td>\n",
       "      <td>NaN</td>\n",
       "      <td>NaN</td>\n",
       "      <td>NaN</td>\n",
       "    </tr>\n",
       "    <tr>\n",
       "      <th>Total_users_last_3_month</th>\n",
       "      <td>NaN</td>\n",
       "      <td>NaN</td>\n",
       "      <td>NaN</td>\n",
       "      <td>NaN</td>\n",
       "      <td>NaN</td>\n",
       "    </tr>\n",
       "    <tr>\n",
       "      <th>Total_runs_last_month</th>\n",
       "      <td>NaN</td>\n",
       "      <td>NaN</td>\n",
       "      <td>NaN</td>\n",
       "      <td>NaN</td>\n",
       "      <td>NaN</td>\n",
       "    </tr>\n",
       "    <tr>\n",
       "      <th>Total_users_last_month</th>\n",
       "      <td>NaN</td>\n",
       "      <td>NaN</td>\n",
       "      <td>NaN</td>\n",
       "      <td>NaN</td>\n",
       "      <td>NaN</td>\n",
       "    </tr>\n",
       "    <tr>\n",
       "      <th>Total_runs_last_week</th>\n",
       "      <td>NaN</td>\n",
       "      <td>NaN</td>\n",
       "      <td>NaN</td>\n",
       "      <td>NaN</td>\n",
       "      <td>NaN</td>\n",
       "    </tr>\n",
       "    <tr>\n",
       "      <th>Total_users_last_week</th>\n",
       "      <td>NaN</td>\n",
       "      <td>NaN</td>\n",
       "      <td>NaN</td>\n",
       "      <td>NaN</td>\n",
       "      <td>NaN</td>\n",
       "    </tr>\n",
       "    <tr>\n",
       "      <th>Total_runs_last_24_hours</th>\n",
       "      <td>NaN</td>\n",
       "      <td>NaN</td>\n",
       "      <td>NaN</td>\n",
       "      <td>NaN</td>\n",
       "      <td>NaN</td>\n",
       "    </tr>\n",
       "    <tr>\n",
       "      <th>Total_users_last_24_hours</th>\n",
       "      <td>NaN</td>\n",
       "      <td>NaN</td>\n",
       "      <td>NaN</td>\n",
       "      <td>NaN</td>\n",
       "      <td>NaN</td>\n",
       "    </tr>\n",
       "  </tbody>\n",
       "</table>\n",
       "</div>"
      ],
      "text/plain": [
       "                                             0                    1  \\\n",
       "toolname                                matlab               octave   \n",
       "title                                   Matlab               Octave   \n",
       "published                                    0                    0   \n",
       "registered                 2000-10-02 02:34:37  2001-04-04 19:03:01   \n",
       "Total_runs_over_lifetime                3470.0                 59.0   \n",
       "Total_users_over_lifetime                162.0                 30.0   \n",
       "Total_runs_last_year                       NaN                  NaN   \n",
       "Total_users_last_year                      NaN                  NaN   \n",
       "Total_runs_last_3_month                    NaN                  NaN   \n",
       "Total_users_last_3_month                   NaN                  NaN   \n",
       "Total_runs_last_month                      NaN                  NaN   \n",
       "Total_users_last_month                     NaN                  NaN   \n",
       "Total_runs_last_week                       NaN                  NaN   \n",
       "Total_users_last_week                      NaN                  NaN   \n",
       "Total_runs_last_24_hours                   NaN                  NaN   \n",
       "Total_users_last_24_hours                  NaN                  NaN   \n",
       "\n",
       "                                             2                    3  \\\n",
       "toolname                                gamess                 rebo   \n",
       "title                                   GAMESS               REBO-1   \n",
       "published                                    0                    0   \n",
       "registered                 2003-01-15 15:41:22  2003-05-08 00:41:33   \n",
       "Total_runs_over_lifetime                2415.0                291.0   \n",
       "Total_users_over_lifetime                101.0                 42.0   \n",
       "Total_runs_last_year                       NaN                  NaN   \n",
       "Total_users_last_year                      NaN                  NaN   \n",
       "Total_runs_last_3_month                    NaN                  NaN   \n",
       "Total_users_last_3_month                   NaN                  NaN   \n",
       "Total_runs_last_month                      NaN                  NaN   \n",
       "Total_users_last_month                     NaN                  NaN   \n",
       "Total_runs_last_week                       NaN                  NaN   \n",
       "Total_users_last_week                      NaN                  NaN   \n",
       "Total_runs_last_24_hours                   NaN                  NaN   \n",
       "Total_users_last_24_hours                  NaN                  NaN   \n",
       "\n",
       "                                             4  \n",
       "toolname                              ellipsom  \n",
       "title                           title-ellipsom  \n",
       "published                                    0  \n",
       "registered                 2005-03-05 03:02:47  \n",
       "Total_runs_over_lifetime                   NaN  \n",
       "Total_users_over_lifetime                  NaN  \n",
       "Total_runs_last_year                       NaN  \n",
       "Total_users_last_year                      NaN  \n",
       "Total_runs_last_3_month                    NaN  \n",
       "Total_users_last_3_month                   NaN  \n",
       "Total_runs_last_month                      NaN  \n",
       "Total_users_last_month                     NaN  \n",
       "Total_runs_last_week                       NaN  \n",
       "Total_users_last_week                      NaN  \n",
       "Total_runs_last_24_hours                   NaN  \n",
       "Total_users_last_24_hours                  NaN  "
      ]
     },
     "execution_count": 26,
     "metadata": {},
     "output_type": "execute_result"
    }
   ],
   "source": [
    "# insert user and run stats into df\n",
    "all_df = df.copy()\n",
    "\n",
    "all_df = pd.merge(all_df, toolstart_lifetime_df.rename(columns={\\\n",
    "                                                                'total':        'Total_runs_over_lifetime',\n",
    "                                                                'user_total':'Total_users_over_lifetime'}\\\n",
    "                                                      ), how='left', left_on='toolname', right_on='toolname')\n",
    "all_df = pd.merge(all_df, toolstart_last_year_df.rename(columns={\\\n",
    "                                                                'total':        'Total_runs_last_year',\n",
    "                                                                'user_total':'Total_users_last_year'}\\\n",
    "                                                      ), how='left', left_on='toolname', right_on='toolname')\n",
    "all_df = pd.merge(all_df, toolstart_last_3_month_df.rename(columns={\\\n",
    "                                                                'total':        'Total_runs_last_3_month',\n",
    "                                                                'user_total':'Total_users_last_3_month'}\\\n",
    "                                                      ), how='left', left_on='toolname', right_on='toolname')\n",
    "all_df = pd.merge(all_df, toolstart_last_month_df.rename(columns={\\\n",
    "                                                                'total':        'Total_runs_last_month',\n",
    "                                                                'user_total':'Total_users_last_month'}\\\n",
    "                                                      ), how='left', left_on='toolname', right_on='toolname')\n",
    "all_df = pd.merge(all_df, toolstart_last_week_df.rename(columns={\\\n",
    "                                                                'total':        'Total_runs_last_week',\n",
    "                                                                'user_total':'Total_users_last_week'}\\\n",
    "                                                      ), how='left', left_on='toolname', right_on='toolname')\n",
    "all_df = pd.merge(all_df, toolstart_last_24_hours_df.rename(columns={\\\n",
    "                                                                'total':        'Total_runs_last_24_hours',\n",
    "                                                                'user_total':'Total_users_last_24_hours'}\\\n",
    "                                                      ), how='left', left_on='toolname', right_on='toolname')\n",
    "\n",
    "# display\n",
    "all_df.head(5).T"
   ]
  },
  {
   "cell_type": "markdown",
   "id": "3333aa61",
   "metadata": {
    "papermill": {
     "duration": 0.09433,
     "end_time": "2021-10-25T11:32:39.376127",
     "exception": false,
     "start_time": "2021-10-25T11:32:39.281797",
     "status": "completed"
    },
    "tags": []
   },
   "source": [
    "## Match data with Salesforce format"
   ]
  },
  {
   "cell_type": "code",
   "execution_count": 27,
   "id": "399be0c8",
   "metadata": {
    "execution": {
     "iopub.execute_input": "2021-10-25T11:32:39.611882Z",
     "iopub.status.busy": "2021-10-25T11:32:39.611335Z",
     "iopub.status.idle": "2021-10-25T11:32:39.620566Z",
     "shell.execute_reply": "2021-10-25T11:32:39.620008Z"
    },
    "jupyter": {
     "source_hidden": true
    },
    "papermill": {
     "duration": 0.12789,
     "end_time": "2021-10-25T11:32:39.620786",
     "exception": false,
     "start_time": "2021-10-25T11:32:39.492896",
     "status": "completed"
    },
    "tags": []
   },
   "outputs": [
    {
     "data": {
      "text/html": [
       "<div>\n",
       "<style scoped>\n",
       "    .dataframe tbody tr th:only-of-type {\n",
       "        vertical-align: middle;\n",
       "    }\n",
       "\n",
       "    .dataframe tbody tr th {\n",
       "        vertical-align: top;\n",
       "    }\n",
       "\n",
       "    .dataframe thead th {\n",
       "        text-align: right;\n",
       "    }\n",
       "</style>\n",
       "<table border=\"1\" class=\"dataframe\">\n",
       "  <thead>\n",
       "    <tr style=\"text-align: right;\">\n",
       "      <th></th>\n",
       "      <th>0</th>\n",
       "      <th>1</th>\n",
       "    </tr>\n",
       "  </thead>\n",
       "  <tbody>\n",
       "    <tr>\n",
       "      <th>Name</th>\n",
       "      <td>Matlab</td>\n",
       "      <td>Octave</td>\n",
       "    </tr>\n",
       "    <tr>\n",
       "      <th>Tool_name__c</th>\n",
       "      <td>matlab</td>\n",
       "      <td>octave</td>\n",
       "    </tr>\n",
       "    <tr>\n",
       "      <th>Tool_URL__c</th>\n",
       "      <td>https://nanohub.org/tools/matlab</td>\n",
       "      <td>https://nanohub.org/tools/octave</td>\n",
       "    </tr>\n",
       "    <tr>\n",
       "      <th>Published__c</th>\n",
       "      <td>0</td>\n",
       "      <td>0</td>\n",
       "    </tr>\n",
       "    <tr>\n",
       "      <th>Total_runs_over_lifetime__c</th>\n",
       "      <td>3470.0</td>\n",
       "      <td>59.0</td>\n",
       "    </tr>\n",
       "    <tr>\n",
       "      <th>Total_runs_last_year__c</th>\n",
       "      <td>0.0</td>\n",
       "      <td>0.0</td>\n",
       "    </tr>\n",
       "    <tr>\n",
       "      <th>Total_runs_last_3_month__c</th>\n",
       "      <td>0.0</td>\n",
       "      <td>0.0</td>\n",
       "    </tr>\n",
       "    <tr>\n",
       "      <th>Total_runs_last_month__c</th>\n",
       "      <td>0.0</td>\n",
       "      <td>0.0</td>\n",
       "    </tr>\n",
       "    <tr>\n",
       "      <th>Total_runs_last_week__c</th>\n",
       "      <td>0.0</td>\n",
       "      <td>0.0</td>\n",
       "    </tr>\n",
       "    <tr>\n",
       "      <th>Total_runs_last_24_hours__c</th>\n",
       "      <td>0.0</td>\n",
       "      <td>0.0</td>\n",
       "    </tr>\n",
       "    <tr>\n",
       "      <th>Total_users_over_lifetime__c</th>\n",
       "      <td>162.0</td>\n",
       "      <td>30.0</td>\n",
       "    </tr>\n",
       "    <tr>\n",
       "      <th>Total_users_last_year__c</th>\n",
       "      <td>0.0</td>\n",
       "      <td>0.0</td>\n",
       "    </tr>\n",
       "    <tr>\n",
       "      <th>Total_users_last_3_month__c</th>\n",
       "      <td>0.0</td>\n",
       "      <td>0.0</td>\n",
       "    </tr>\n",
       "    <tr>\n",
       "      <th>Total_users_last_month__c</th>\n",
       "      <td>0.0</td>\n",
       "      <td>0.0</td>\n",
       "    </tr>\n",
       "    <tr>\n",
       "      <th>Total_users_last_week__c</th>\n",
       "      <td>0.0</td>\n",
       "      <td>0.0</td>\n",
       "    </tr>\n",
       "    <tr>\n",
       "      <th>Total_users_last_24_hours__c</th>\n",
       "      <td>0.0</td>\n",
       "      <td>0.0</td>\n",
       "    </tr>\n",
       "    <tr>\n",
       "      <th>Creation_date__c</th>\n",
       "      <td>2000-10-02</td>\n",
       "      <td>2001-04-04</td>\n",
       "    </tr>\n",
       "  </tbody>\n",
       "</table>\n",
       "</div>"
      ],
      "text/plain": [
       "                                                             0  \\\n",
       "Name                                                    Matlab   \n",
       "Tool_name__c                                            matlab   \n",
       "Tool_URL__c                   https://nanohub.org/tools/matlab   \n",
       "Published__c                                                 0   \n",
       "Total_runs_over_lifetime__c                             3470.0   \n",
       "Total_runs_last_year__c                                    0.0   \n",
       "Total_runs_last_3_month__c                                 0.0   \n",
       "Total_runs_last_month__c                                   0.0   \n",
       "Total_runs_last_week__c                                    0.0   \n",
       "Total_runs_last_24_hours__c                                0.0   \n",
       "Total_users_over_lifetime__c                             162.0   \n",
       "Total_users_last_year__c                                   0.0   \n",
       "Total_users_last_3_month__c                                0.0   \n",
       "Total_users_last_month__c                                  0.0   \n",
       "Total_users_last_week__c                                   0.0   \n",
       "Total_users_last_24_hours__c                               0.0   \n",
       "Creation_date__c                                    2000-10-02   \n",
       "\n",
       "                                                             1  \n",
       "Name                                                    Octave  \n",
       "Tool_name__c                                            octave  \n",
       "Tool_URL__c                   https://nanohub.org/tools/octave  \n",
       "Published__c                                                 0  \n",
       "Total_runs_over_lifetime__c                               59.0  \n",
       "Total_runs_last_year__c                                    0.0  \n",
       "Total_runs_last_3_month__c                                 0.0  \n",
       "Total_runs_last_month__c                                   0.0  \n",
       "Total_runs_last_week__c                                    0.0  \n",
       "Total_runs_last_24_hours__c                                0.0  \n",
       "Total_users_over_lifetime__c                              30.0  \n",
       "Total_users_last_year__c                                   0.0  \n",
       "Total_users_last_3_month__c                                0.0  \n",
       "Total_users_last_month__c                                  0.0  \n",
       "Total_users_last_week__c                                   0.0  \n",
       "Total_users_last_24_hours__c                               0.0  \n",
       "Creation_date__c                                    2001-04-04  "
      ]
     },
     "execution_count": 27,
     "metadata": {},
     "output_type": "execute_result"
    }
   ],
   "source": [
    "df_sf = pd.DataFrame()\n",
    "\n",
    "# Make sure NaN and NaT values are taken care of here\n",
    "\n",
    "df_sf['Name']              = all_df['title']\n",
    "df_sf['Tool_name__c']  = all_df['toolname']\n",
    "df_sf['Tool_URL__c']     = all_df['toolname'].apply(lambda x: 'https://nanohub.org/tools/'+x)\n",
    "df_sf['Published__c']    = all_df['published']\n",
    "\n",
    "# stats\n",
    "df_sf['Total_runs_over_lifetime__c']  = all_df['Total_runs_over_lifetime']\n",
    "df_sf['Total_runs_last_year__c']        = all_df['Total_runs_last_year']\n",
    "df_sf['Total_runs_last_3_month__c'] = all_df['Total_runs_last_3_month']\n",
    "df_sf['Total_runs_last_month__c']     = all_df['Total_runs_last_month']\n",
    "df_sf['Total_runs_last_week__c']       = all_df['Total_runs_last_week']\n",
    "df_sf['Total_runs_last_24_hours__c'] = all_df['Total_runs_last_24_hours']\n",
    "\n",
    "df_sf['Total_users_over_lifetime__c']  = all_df['Total_users_over_lifetime']\n",
    "df_sf['Total_users_last_year__c']        = all_df['Total_users_last_year']\n",
    "df_sf['Total_users_last_3_month__c'] = all_df['Total_users_last_3_month']\n",
    "df_sf['Total_users_last_month__c']     = all_df['Total_users_last_month']\n",
    "df_sf['Total_users_last_week__c']       = all_df['Total_users_last_week']\n",
    "df_sf['Total_users_last_24_hours__c'] = all_df['Total_users_last_24_hours']\n",
    "\n",
    "# solidify time-related columns from datetime to string\n",
    "df_sf['Creation_date__c']  = all_df['registered'].dt.date.fillna('').astype('str')\n",
    "\n",
    "df_sf.fillna(0, inplace=True)\n",
    "\n",
    "sf_original_fields = df_sf.columns\n",
    "\n",
    "# display\n",
    "df_sf.head(2).T"
   ]
  },
  {
   "cell_type": "markdown",
   "id": "b17914f5",
   "metadata": {
    "papermill": {
     "duration": 0.099012,
     "end_time": "2021-10-25T11:32:39.816790",
     "exception": false,
     "start_time": "2021-10-25T11:32:39.717778",
     "status": "completed"
    },
    "tags": []
   },
   "source": [
    "## To Salesforce Sales Cloud CRM"
   ]
  },
  {
   "cell_type": "code",
   "execution_count": 28,
   "id": "0957846f",
   "metadata": {
    "execution": {
     "iopub.execute_input": "2021-10-25T11:32:40.023845Z",
     "iopub.status.busy": "2021-10-25T11:32:40.022983Z",
     "iopub.status.idle": "2021-10-25T11:32:40.025002Z",
     "shell.execute_reply": "2021-10-25T11:32:40.025520Z"
    },
    "jupyter": {
     "source_hidden": true
    },
    "papermill": {
     "duration": 0.10304,
     "end_time": "2021-10-25T11:32:40.025763",
     "exception": false,
     "start_time": "2021-10-25T11:32:39.922723",
     "status": "completed"
    },
    "tags": []
   },
   "outputs": [],
   "source": [
    "db_s.object_id = object_id\n",
    "db_s.external_id = external_id"
   ]
  },
  {
   "cell_type": "code",
   "execution_count": 29,
   "id": "2916af36",
   "metadata": {
    "execution": {
     "iopub.execute_input": "2021-10-25T11:32:40.222578Z",
     "iopub.status.busy": "2021-10-25T11:32:40.221985Z",
     "iopub.status.idle": "2021-10-25T11:32:41.422613Z",
     "shell.execute_reply": "2021-10-25T11:32:41.423351Z"
    },
    "jupyter": {
     "source_hidden": true
    },
    "papermill": {
     "duration": 1.304395,
     "end_time": "2021-10-25T11:32:41.423640",
     "exception": false,
     "start_time": "2021-10-25T11:32:40.119245",
     "status": "completed"
    },
    "tags": []
   },
   "outputs": [
    {
     "name": "stdout",
     "output_type": "stream",
     "text": [
      "[Success] Bulk job creation successful. Job ID = 7505w00000b2D7vAAE\n",
      "hello\n"
     ]
    },
    {
     "name": "stdout",
     "output_type": "stream",
     "text": [
      "[Success] CSV upload successful. Job ID = 7505w00000b2D7vAAE\n"
     ]
    },
    {
     "name": "stdout",
     "output_type": "stream",
     "text": [
      "[Success] Closing job successful. Job ID = 7505w00000b2D7vAAE\n"
     ]
    }
   ],
   "source": [
    "# send data to Salesforce\n",
    "db_s.send_data(df_sf)"
   ]
  },
  {
   "cell_type": "code",
   "execution_count": 30,
   "id": "f69bc08a",
   "metadata": {
    "execution": {
     "iopub.execute_input": "2021-10-25T11:32:41.621226Z",
     "iopub.status.busy": "2021-10-25T11:32:41.620636Z",
     "iopub.status.idle": "2021-10-25T11:32:42.491045Z",
     "shell.execute_reply": "2021-10-25T11:32:42.491551Z"
    },
    "jupyter": {
     "source_hidden": true
    },
    "papermill": {
     "duration": 0.970337,
     "end_time": "2021-10-25T11:32:42.491784",
     "exception": false,
     "start_time": "2021-10-25T11:32:41.521447",
     "status": "completed"
    },
    "tags": []
   },
   "outputs": [
    {
     "data": {
      "text/plain": [
       "{'id': '7505w00000b2D7vAAE',\n",
       " 'operation': 'upsert',\n",
       " 'object': 'nanoHUB_tools__c',\n",
       " 'createdById': '0055w00000DM5bOAAT',\n",
       " 'createdDate': '2021-10-25T11:32:40.000+0000',\n",
       " 'systemModstamp': '2021-10-25T11:32:41.000+0000',\n",
       " 'state': 'InProgress',\n",
       " 'externalIdFieldName': 'Tool_name__c',\n",
       " 'concurrencyMode': 'Parallel',\n",
       " 'contentType': 'CSV',\n",
       " 'apiVersion': 47.0,\n",
       " 'jobType': 'V2Ingest',\n",
       " 'lineEnding': 'LF',\n",
       " 'columnDelimiter': 'COMMA',\n",
       " 'numberRecordsProcessed': 0,\n",
       " 'numberRecordsFailed': 0,\n",
       " 'retries': 0,\n",
       " 'totalProcessingTime': 0,\n",
       " 'apiActiveProcessingTime': 0,\n",
       " 'apexProcessingTime': 0}"
      ]
     },
     "execution_count": 30,
     "metadata": {},
     "output_type": "execute_result"
    }
   ],
   "source": [
    "# check status\n",
    "db_s.check_bulk_status()"
   ]
  },
  {
   "cell_type": "code",
   "execution_count": null,
   "id": "651e707b",
   "metadata": {
    "jupyter": {
     "source_hidden": true
    },
    "papermill": {
     "duration": 0.09952,
     "end_time": "2021-10-25T11:32:42.687966",
     "exception": false,
     "start_time": "2021-10-25T11:32:42.588446",
     "status": "completed"
    },
    "tags": []
   },
   "outputs": [],
   "source": []
  }
 ],
 "metadata": {
  "celltoolbar": "Tags",
  "kernelspec": {
   "display_name": "Python 3",
   "language": "python",
   "name": "python3"
  },
  "language_info": {
   "codemirror_mode": {
    "name": "ipython",
    "version": 3
   },
   "file_extension": ".py",
   "mimetype": "text/x-python",
   "name": "python",
   "nbconvert_exporter": "python",
   "pygments_lexer": "ipython3",
   "version": "3.9.7"
  },
  "papermill": {
   "duration": 365.427416,
   "end_time": "2021-10-25T11:32:43.121901",
   "environment_variables": {},
   "exception": null,
   "input_path": "/Users/saxenap/Documents/Dev/nanoHUB/nanoHUB/pipeline/salesforce/task_tool_basic_updates.ipynb",
   "output_path": "./.output/task_tool_basic_updates.ipynb",
   "parameters": {},
   "start_time": "2021-10-25T11:26:37.694485",
   "version": "2.1.1"
  }
 },
 "nbformat": 4,
 "nbformat_minor": 5
}