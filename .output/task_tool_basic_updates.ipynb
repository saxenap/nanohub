{
 "cells": [
  {
   "cell_type": "markdown",
   "id": "2d4d2d9c",
   "metadata": {
    "papermill": {
     "duration": 0.079454,
     "end_time": "2021-08-26T04:10:53.878711",
     "exception": false,
     "start_time": "2021-08-26T04:10:53.799257",
     "status": "completed"
    },
    "tags": []
   },
   "source": [
    "# DB2-Salesforce connector: Basic tool information updates"
   ]
  },
  {
   "cell_type": "code",
   "execution_count": 1,
   "id": "98813d7a",
   "metadata": {
    "execution": {
     "iopub.execute_input": "2021-08-26T04:10:54.041420Z",
     "iopub.status.busy": "2021-08-26T04:10:54.040732Z",
     "iopub.status.idle": "2021-08-26T04:10:56.460922Z",
     "shell.execute_reply": "2021-08-26T04:10:56.461559Z"
    },
    "jupyter": {
     "source_hidden": true
    },
    "papermill": {
     "duration": 2.503954,
     "end_time": "2021-08-26T04:10:56.461893",
     "exception": false,
     "start_time": "2021-08-26T04:10:53.957939",
     "status": "completed"
    },
    "tags": [
     "parameters"
    ]
   },
   "outputs": [
    {
     "name": "stdout",
     "output_type": "stream",
     "text": [
      "\u001b[1mnanoHUB - Serving Students, Researchers & Instructors\u001b[0m\n"
     ]
    },
    {
     "name": "stderr",
     "output_type": "stream",
     "text": [
      "2021-08-26 00:10:55,272| INFO    | 0 keys loaded from agent\n"
     ]
    },
    {
     "name": "stdout",
     "output_type": "stream",
     "text": [
      "2021-08-26 00:10:55,272 - [INFO] sshtunnel.SSHTunnelForwarder [sshtunnel.get_agent_keys:1060]: 0 keys loaded from agent\n"
     ]
    },
    {
     "name": "stderr",
     "output_type": "stream",
     "text": [
      "2021-08-26 00:10:55,275| INFO    | 0 key(s) loaded\n"
     ]
    },
    {
     "name": "stdout",
     "output_type": "stream",
     "text": [
      "2021-08-26 00:10:55,275 - [INFO] sshtunnel.SSHTunnelForwarder [sshtunnel.get_keys:1117]: 0 key(s) loaded\n"
     ]
    },
    {
     "name": "stderr",
     "output_type": "stream",
     "text": [
      "2021-08-26 00:10:55,277| INFO    | Connecting to gateway: db2.nanohub.org:22 as user 'saxenap'\n"
     ]
    },
    {
     "name": "stdout",
     "output_type": "stream",
     "text": [
      "2021-08-26 00:10:55,277 - [INFO] sshtunnel.SSHTunnelForwarder [sshtunnel.__init__:978]: Connecting to gateway: db2.nanohub.org:22 as user 'saxenap'\n"
     ]
    },
    {
     "name": "stdout",
     "output_type": "stream",
     "text": [
      "2021-08-26 00:10:55,279 - [\u001b[1mINFO\u001b[0m] \u001b[1mnanoHUB.containers.dataaccess\u001b[0m [connection.get_connection_for:101]: Started SSH Tunnel with db2.nanohub.org\n"
     ]
    },
    {
     "name": "stderr",
     "output_type": "stream",
     "text": [
      "2021-08-26 00:10:55,597| INFO    | Opening tunnel: 0.0.0.0:53073 <> 127.0.0.1:3306\n"
     ]
    },
    {
     "name": "stdout",
     "output_type": "stream",
     "text": [
      "2021-08-26 00:10:55,597 - [INFO] sshtunnel.SSHTunnelForwarder [sshtunnel._serve_forever_wrapper:1433]: Opening tunnel: 0.0.0.0:53073 <> 127.0.0.1:3306\n"
     ]
    },
    {
     "name": "stderr",
     "output_type": "stream",
     "text": [
      "2021-08-26 00:10:55,613| INFO    | 0 keys loaded from agent\n"
     ]
    },
    {
     "name": "stdout",
     "output_type": "stream",
     "text": [
      "2021-08-26 00:10:55,613 - [INFO] sshtunnel.SSHTunnelForwarder [sshtunnel.get_agent_keys:1060]: 0 keys loaded from agent\n"
     ]
    },
    {
     "name": "stderr",
     "output_type": "stream",
     "text": [
      "2021-08-26 00:10:55,615| INFO    | 0 key(s) loaded\n"
     ]
    },
    {
     "name": "stdout",
     "output_type": "stream",
     "text": [
      "2021-08-26 00:10:55,615 - [INFO] sshtunnel.SSHTunnelForwarder [sshtunnel.get_keys:1117]: 0 key(s) loaded\n"
     ]
    },
    {
     "name": "stderr",
     "output_type": "stream",
     "text": [
      "2021-08-26 00:10:55,617| INFO    | Connecting to gateway: db2.nanohub.org:22 as user 'saxenap'\n"
     ]
    },
    {
     "name": "stdout",
     "output_type": "stream",
     "text": [
      "2021-08-26 00:10:55,617 - [INFO] sshtunnel.SSHTunnelForwarder [sshtunnel.__init__:978]: Connecting to gateway: db2.nanohub.org:22 as user 'saxenap'\n"
     ]
    },
    {
     "name": "stdout",
     "output_type": "stream",
     "text": [
      "2021-08-26 00:10:55,618 - [\u001b[1mINFO\u001b[0m] \u001b[1mnanoHUB.containers.dataaccess\u001b[0m [connection.get_connection_for:101]: Started SSH Tunnel with db2.nanohub.org\n"
     ]
    },
    {
     "name": "stderr",
     "output_type": "stream",
     "text": [
      "2021-08-26 00:10:55,922| INFO    | Opening tunnel: 0.0.0.0:53075 <> 127.0.0.1:3306\n"
     ]
    },
    {
     "name": "stdout",
     "output_type": "stream",
     "text": [
      "2021-08-26 00:10:55,922 - [INFO] sshtunnel.SSHTunnelForwarder [sshtunnel._serve_forever_wrapper:1433]: Opening tunnel: 0.0.0.0:53075 <> 127.0.0.1:3306\n"
     ]
    },
    {
     "name": "stdout",
     "output_type": "stream",
     "text": [
      "Obtained Salesforce access token ...... True\n"
     ]
    }
   ],
   "source": [
    "# Parameters\n",
    "api_url = '/services/data/v43.0/sobjects'\n",
    "external_id = 'Tool_name__c'\n",
    "object_id = 'nanoHUB_tools__c'\n",
    "\n",
    "from nanoHUB.application import Application\n",
    "\n",
    "application = Application.get_instance()\n",
    "nanohub_db = application.new_db_engine('nanohub')\n",
    "nanohub_metrics_db = application.new_db_engine('nanohub_metrics')\n",
    "\n",
    "salesforce = application.new_salesforce_engine()\n",
    "db_s = salesforce"
   ]
  },
  {
   "cell_type": "code",
   "execution_count": 2,
   "id": "6bf517c2",
   "metadata": {
    "execution": {
     "iopub.execute_input": "2021-08-26T04:10:56.653467Z",
     "iopub.status.busy": "2021-08-26T04:10:56.652765Z",
     "iopub.status.idle": "2021-08-26T04:10:56.654997Z",
     "shell.execute_reply": "2021-08-26T04:10:56.655390Z"
    },
    "jupyter": {
     "source_hidden": true
    },
    "papermill": {
     "duration": 0.09731,
     "end_time": "2021-08-26T04:10:56.655645",
     "exception": false,
     "start_time": "2021-08-26T04:10:56.558335",
     "status": "completed"
    },
    "tags": []
   },
   "outputs": [],
   "source": [
    "import pandas as pd\n",
    "import datetime"
   ]
  },
  {
   "cell_type": "markdown",
   "id": "18a01626",
   "metadata": {
    "papermill": {
     "duration": 0.089322,
     "end_time": "2021-08-26T04:10:56.834127",
     "exception": false,
     "start_time": "2021-08-26T04:10:56.744805",
     "status": "completed"
    },
    "tags": []
   },
   "source": [
    "## Obtain tool information from DB2 "
   ]
  },
  {
   "cell_type": "code",
   "execution_count": 3,
   "id": "d009da21",
   "metadata": {
    "execution": {
     "iopub.execute_input": "2021-08-26T04:10:57.012905Z",
     "iopub.status.busy": "2021-08-26T04:10:57.012229Z",
     "iopub.status.idle": "2021-08-26T04:10:57.015395Z",
     "shell.execute_reply": "2021-08-26T04:10:57.015764Z"
    },
    "jupyter": {
     "source_hidden": true
    },
    "papermill": {
     "duration": 0.095137,
     "end_time": "2021-08-26T04:10:57.015928",
     "exception": false,
     "start_time": "2021-08-26T04:10:56.920791",
     "status": "completed"
    },
    "tags": []
   },
   "outputs": [
    {
     "name": "stdout",
     "output_type": "stream",
     "text": [
      "select toolname, title, published, registered from jos_tool\n"
     ]
    }
   ],
   "source": [
    "# Basic tool information\n",
    "sql_query = \"select toolname, title, published, registered from jos_tool\"\n",
    "\n",
    "# display\n",
    "print(sql_query)"
   ]
  },
  {
   "cell_type": "code",
   "execution_count": 4,
   "id": "7670c171",
   "metadata": {
    "execution": {
     "iopub.execute_input": "2021-08-26T04:10:57.205081Z",
     "iopub.status.busy": "2021-08-26T04:10:57.204372Z",
     "iopub.status.idle": "2021-08-26T04:10:57.659646Z",
     "shell.execute_reply": "2021-08-26T04:10:57.660053Z"
    },
    "jupyter": {
     "source_hidden": true
    },
    "papermill": {
     "duration": 0.552873,
     "end_time": "2021-08-26T04:10:57.660291",
     "exception": false,
     "start_time": "2021-08-26T04:10:57.107418",
     "status": "completed"
    },
    "tags": []
   },
   "outputs": [
    {
     "data": {
      "text/html": [
       "<div>\n",
       "<style scoped>\n",
       "    .dataframe tbody tr th:only-of-type {\n",
       "        vertical-align: middle;\n",
       "    }\n",
       "\n",
       "    .dataframe tbody tr th {\n",
       "        vertical-align: top;\n",
       "    }\n",
       "\n",
       "    .dataframe thead th {\n",
       "        text-align: right;\n",
       "    }\n",
       "</style>\n",
       "<table border=\"1\" class=\"dataframe\">\n",
       "  <thead>\n",
       "    <tr style=\"text-align: right;\">\n",
       "      <th></th>\n",
       "      <th>toolname</th>\n",
       "      <th>title</th>\n",
       "      <th>published</th>\n",
       "      <th>registered</th>\n",
       "    </tr>\n",
       "  </thead>\n",
       "  <tbody>\n",
       "    <tr>\n",
       "      <th>0</th>\n",
       "      <td>ellipsom</td>\n",
       "      <td>title-ellipsom</td>\n",
       "      <td>0</td>\n",
       "      <td>2005-03-05 03:02:47</td>\n",
       "    </tr>\n",
       "    <tr>\n",
       "      <th>1</th>\n",
       "      <td>hydrolab</td>\n",
       "      <td>Hydrophobicity Lab</td>\n",
       "      <td>1</td>\n",
       "      <td>2006-02-24 03:38:23</td>\n",
       "    </tr>\n",
       "  </tbody>\n",
       "</table>\n",
       "</div>"
      ],
      "text/plain": [
       "   toolname               title  published          registered\n",
       "0  ellipsom      title-ellipsom          0 2005-03-05 03:02:47\n",
       "1  hydrolab  Hydrophobicity Lab          1 2006-02-24 03:38:23"
      ]
     },
     "execution_count": 4,
     "metadata": {},
     "output_type": "execute_result"
    }
   ],
   "source": [
    "# connect with DB2\n",
    "# import sqlalchemy as sql\n",
    "\n",
    "df = pd.read_sql_query(sql_query, nanohub_db, parse_dates=['registered'])\n",
    "# display\n",
    "df.head(2)"
   ]
  },
  {
   "cell_type": "code",
   "execution_count": 5,
   "id": "3b2171c6",
   "metadata": {
    "execution": {
     "iopub.execute_input": "2021-08-26T04:10:57.842108Z",
     "iopub.status.busy": "2021-08-26T04:10:57.839317Z",
     "iopub.status.idle": "2021-08-26T04:10:57.862932Z",
     "shell.execute_reply": "2021-08-26T04:10:57.862292Z"
    },
    "jupyter": {
     "source_hidden": true
    },
    "papermill": {
     "duration": 0.113914,
     "end_time": "2021-08-26T04:10:57.863221",
     "exception": false,
     "start_time": "2021-08-26T04:10:57.749307",
     "status": "completed"
    },
    "tags": []
   },
   "outputs": [
    {
     "data": {
      "text/html": [
       "<div>\n",
       "<style scoped>\n",
       "    .dataframe tbody tr th:only-of-type {\n",
       "        vertical-align: middle;\n",
       "    }\n",
       "\n",
       "    .dataframe tbody tr th {\n",
       "        vertical-align: top;\n",
       "    }\n",
       "\n",
       "    .dataframe thead th {\n",
       "        text-align: right;\n",
       "    }\n",
       "</style>\n",
       "<table border=\"1\" class=\"dataframe\">\n",
       "  <thead>\n",
       "    <tr style=\"text-align: right;\">\n",
       "      <th></th>\n",
       "      <th>toolname</th>\n",
       "      <th>title</th>\n",
       "      <th>published</th>\n",
       "      <th>registered</th>\n",
       "    </tr>\n",
       "  </thead>\n",
       "  <tbody>\n",
       "    <tr>\n",
       "      <th>348</th>\n",
       "      <td>matlab</td>\n",
       "      <td>Matlab</td>\n",
       "      <td>0</td>\n",
       "      <td>2000-10-02 02:34:37</td>\n",
       "    </tr>\n",
       "    <tr>\n",
       "      <th>350</th>\n",
       "      <td>octave</td>\n",
       "      <td>Octave</td>\n",
       "      <td>0</td>\n",
       "      <td>2001-04-04 19:03:01</td>\n",
       "    </tr>\n",
       "    <tr>\n",
       "      <th>347</th>\n",
       "      <td>gamess</td>\n",
       "      <td>GAMESS</td>\n",
       "      <td>0</td>\n",
       "      <td>2003-01-15 15:41:22</td>\n",
       "    </tr>\n",
       "    <tr>\n",
       "      <th>352</th>\n",
       "      <td>rebo</td>\n",
       "      <td>REBO-1</td>\n",
       "      <td>0</td>\n",
       "      <td>2003-05-08 00:41:33</td>\n",
       "    </tr>\n",
       "    <tr>\n",
       "      <th>0</th>\n",
       "      <td>ellipsom</td>\n",
       "      <td>title-ellipsom</td>\n",
       "      <td>0</td>\n",
       "      <td>2005-03-05 03:02:47</td>\n",
       "    </tr>\n",
       "  </tbody>\n",
       "</table>\n",
       "</div>"
      ],
      "text/plain": [
       "     toolname           title  published          registered\n",
       "348    matlab          Matlab          0 2000-10-02 02:34:37\n",
       "350    octave          Octave          0 2001-04-04 19:03:01\n",
       "347    gamess          GAMESS          0 2003-01-15 15:41:22\n",
       "352      rebo          REBO-1          0 2003-05-08 00:41:33\n",
       "0    ellipsom  title-ellipsom          0 2005-03-05 03:02:47"
      ]
     },
     "metadata": {},
     "output_type": "display_data"
    },
    {
     "data": {
      "text/html": [
       "<div>\n",
       "<style scoped>\n",
       "    .dataframe tbody tr th:only-of-type {\n",
       "        vertical-align: middle;\n",
       "    }\n",
       "\n",
       "    .dataframe tbody tr th {\n",
       "        vertical-align: top;\n",
       "    }\n",
       "\n",
       "    .dataframe thead th {\n",
       "        text-align: right;\n",
       "    }\n",
       "</style>\n",
       "<table border=\"1\" class=\"dataframe\">\n",
       "  <thead>\n",
       "    <tr style=\"text-align: right;\">\n",
       "      <th></th>\n",
       "      <th>toolname</th>\n",
       "      <th>title</th>\n",
       "      <th>published</th>\n",
       "      <th>registered</th>\n",
       "    </tr>\n",
       "  </thead>\n",
       "  <tbody>\n",
       "    <tr>\n",
       "      <th>1817</th>\n",
       "      <td>inabstool</td>\n",
       "      <td>SimTool for Indirect Optical Absorption Using ...</td>\n",
       "      <td>0</td>\n",
       "      <td>2021-07-26 19:39:06</td>\n",
       "    </tr>\n",
       "    <tr>\n",
       "      <th>1818</th>\n",
       "      <td>pc4ws21team42</td>\n",
       "      <td>PhysiCell 3-types model</td>\n",
       "      <td>0</td>\n",
       "      <td>2021-07-27 13:49:37</td>\n",
       "    </tr>\n",
       "    <tr>\n",
       "      <th>1819</th>\n",
       "      <td>dftqeexplorer</td>\n",
       "      <td>DFTQE Results Explorer</td>\n",
       "      <td>0</td>\n",
       "      <td>2021-07-27 19:28:28</td>\n",
       "    </tr>\n",
       "    <tr>\n",
       "      <th>1820</th>\n",
       "      <td>netdebugger</td>\n",
       "      <td>Debugging Neural Networks</td>\n",
       "      <td>1</td>\n",
       "      <td>2021-07-27 22:24:08</td>\n",
       "    </tr>\n",
       "    <tr>\n",
       "      <th>1821</th>\n",
       "      <td>eam</td>\n",
       "      <td>Embedded Atom model potential</td>\n",
       "      <td>0</td>\n",
       "      <td>2021-08-02 14:44:52</td>\n",
       "    </tr>\n",
       "    <tr>\n",
       "      <th>1822</th>\n",
       "      <td>nanomatexplorer</td>\n",
       "      <td>Nanomaterial Mechanics Results Explorer</td>\n",
       "      <td>0</td>\n",
       "      <td>2021-08-02 21:01:08</td>\n",
       "    </tr>\n",
       "    <tr>\n",
       "      <th>1823</th>\n",
       "      <td>blockchain</td>\n",
       "      <td>Proof of work example for blockchain</td>\n",
       "      <td>0</td>\n",
       "      <td>2021-08-05 20:39:36</td>\n",
       "    </tr>\n",
       "    <tr>\n",
       "      <th>1824</th>\n",
       "      <td>avasctum</td>\n",
       "      <td>CompuCell3D - Avascular Tumor Growth and Mutation</td>\n",
       "      <td>0</td>\n",
       "      <td>2021-08-07 19:45:25</td>\n",
       "    </tr>\n",
       "    <tr>\n",
       "      <th>1825</th>\n",
       "      <td>matlabmicroelec</td>\n",
       "      <td>Learning MATLAB in the context of microelectro...</td>\n",
       "      <td>0</td>\n",
       "      <td>2021-08-11 16:35:58</td>\n",
       "    </tr>\n",
       "    <tr>\n",
       "      <th>1826</th>\n",
       "      <td>chm37301</td>\n",
       "      <td>Purdue Physical Chemistry Lab CHM37301</td>\n",
       "      <td>1</td>\n",
       "      <td>2021-08-13 19:24:12</td>\n",
       "    </tr>\n",
       "    <tr>\n",
       "      <th>1827</th>\n",
       "      <td>fdm4tp</td>\n",
       "      <td>Finite Difference Methods for Transport Phenomena</td>\n",
       "      <td>0</td>\n",
       "      <td>2021-08-20 23:20:48</td>\n",
       "    </tr>\n",
       "    <tr>\n",
       "      <th>1828</th>\n",
       "      <td>learngit</td>\n",
       "      <td>Learn Git in nanoHUB</td>\n",
       "      <td>0</td>\n",
       "      <td>2021-08-22 14:47:21</td>\n",
       "    </tr>\n",
       "    <tr>\n",
       "      <th>345</th>\n",
       "      <td>cnt-iv</td>\n",
       "      <td>CNT-IV</td>\n",
       "      <td>0</td>\n",
       "      <td>NaT</td>\n",
       "    </tr>\n",
       "    <tr>\n",
       "      <th>346</th>\n",
       "      <td>dmgr</td>\n",
       "      <td>Design Manager</td>\n",
       "      <td>0</td>\n",
       "      <td>NaT</td>\n",
       "    </tr>\n",
       "    <tr>\n",
       "      <th>353</th>\n",
       "      <td>sequal</td>\n",
       "      <td>Sequal</td>\n",
       "      <td>0</td>\n",
       "      <td>NaT</td>\n",
       "    </tr>\n",
       "    <tr>\n",
       "      <th>355</th>\n",
       "      <td>staroffice</td>\n",
       "      <td>StarOffice</td>\n",
       "      <td>1</td>\n",
       "      <td>NaT</td>\n",
       "    </tr>\n",
       "    <tr>\n",
       "      <th>356</th>\n",
       "      <td>spicesoi</td>\n",
       "      <td>UFSOI/Spice3</td>\n",
       "      <td>0</td>\n",
       "      <td>NaT</td>\n",
       "    </tr>\n",
       "    <tr>\n",
       "      <th>358</th>\n",
       "      <td>devtesttool</td>\n",
       "      <td>Dev Test Tool</td>\n",
       "      <td>0</td>\n",
       "      <td>NaT</td>\n",
       "    </tr>\n",
       "    <tr>\n",
       "      <th>359</th>\n",
       "      <td>ncntesttool</td>\n",
       "      <td>NCN test tool</td>\n",
       "      <td>0</td>\n",
       "      <td>NaT</td>\n",
       "    </tr>\n",
       "    <tr>\n",
       "      <th>360</th>\n",
       "      <td>WTND</td>\n",
       "      <td>WTND Tool Title</td>\n",
       "      <td>0</td>\n",
       "      <td>NaT</td>\n",
       "    </tr>\n",
       "    <tr>\n",
       "      <th>361</th>\n",
       "      <td>wtest</td>\n",
       "      <td>My WTest Tool Test</td>\n",
       "      <td>0</td>\n",
       "      <td>NaT</td>\n",
       "    </tr>\n",
       "    <tr>\n",
       "      <th>362</th>\n",
       "      <td>Mynewtool</td>\n",
       "      <td>My New Tool</td>\n",
       "      <td>0</td>\n",
       "      <td>NaT</td>\n",
       "    </tr>\n",
       "    <tr>\n",
       "      <th>363</th>\n",
       "      <td>nanohub</td>\n",
       "      <td>nanoHUB</td>\n",
       "      <td>0</td>\n",
       "      <td>NaT</td>\n",
       "    </tr>\n",
       "    <tr>\n",
       "      <th>364</th>\n",
       "      <td>nanohub-for-kids</td>\n",
       "      <td>nanohub-for-kids</td>\n",
       "      <td>0</td>\n",
       "      <td>NaT</td>\n",
       "    </tr>\n",
       "    <tr>\n",
       "      <th>365</th>\n",
       "      <td>sysman</td>\n",
       "      <td>sysman</td>\n",
       "      <td>0</td>\n",
       "      <td>NaT</td>\n",
       "    </tr>\n",
       "    <tr>\n",
       "      <th>366</th>\n",
       "      <td>nanohub-support</td>\n",
       "      <td>nanohub-support</td>\n",
       "      <td>0</td>\n",
       "      <td>NaT</td>\n",
       "    </tr>\n",
       "    <tr>\n",
       "      <th>367</th>\n",
       "      <td>rkspack</td>\n",
       "      <td>rkspack</td>\n",
       "      <td>0</td>\n",
       "      <td>NaT</td>\n",
       "    </tr>\n",
       "    <tr>\n",
       "      <th>368</th>\n",
       "      <td>lib-gangli</td>\n",
       "      <td>Gang Li's Library of Useful Stuff</td>\n",
       "      <td>0</td>\n",
       "      <td>NaT</td>\n",
       "    </tr>\n",
       "    <tr>\n",
       "      <th>369</th>\n",
       "      <td>rappture-runtime</td>\n",
       "      <td>rappture-runtime</td>\n",
       "      <td>0</td>\n",
       "      <td>NaT</td>\n",
       "    </tr>\n",
       "    <tr>\n",
       "      <th>370</th>\n",
       "      <td>hubzero</td>\n",
       "      <td>hubzero</td>\n",
       "      <td>0</td>\n",
       "      <td>NaT</td>\n",
       "    </tr>\n",
       "    <tr>\n",
       "      <th>371</th>\n",
       "      <td>rappture</td>\n",
       "      <td>rappture</td>\n",
       "      <td>0</td>\n",
       "      <td>NaT</td>\n",
       "    </tr>\n",
       "    <tr>\n",
       "      <th>372</th>\n",
       "      <td>mw</td>\n",
       "      <td>mw</td>\n",
       "      <td>0</td>\n",
       "      <td>NaT</td>\n",
       "    </tr>\n",
       "    <tr>\n",
       "      <th>373</th>\n",
       "      <td>ncn_students</td>\n",
       "      <td>ncn_students</td>\n",
       "      <td>0</td>\n",
       "      <td>NaT</td>\n",
       "    </tr>\n",
       "    <tr>\n",
       "      <th>374</th>\n",
       "      <td>pharmengine</td>\n",
       "      <td>pharmengine</td>\n",
       "      <td>0</td>\n",
       "      <td>NaT</td>\n",
       "    </tr>\n",
       "    <tr>\n",
       "      <th>375</th>\n",
       "      <td>xhub</td>\n",
       "      <td>xhub</td>\n",
       "      <td>0</td>\n",
       "      <td>NaT</td>\n",
       "    </tr>\n",
       "    <tr>\n",
       "      <th>376</th>\n",
       "      <td>breeze-admin</td>\n",
       "      <td>breeze-admin</td>\n",
       "      <td>0</td>\n",
       "      <td>NaT</td>\n",
       "    </tr>\n",
       "    <tr>\n",
       "      <th>377</th>\n",
       "      <td>ncn</td>\n",
       "      <td>ncn</td>\n",
       "      <td>0</td>\n",
       "      <td>NaT</td>\n",
       "    </tr>\n",
       "    <tr>\n",
       "      <th>378</th>\n",
       "      <td>nanowhim</td>\n",
       "      <td>nanowhim</td>\n",
       "      <td>0</td>\n",
       "      <td>NaT</td>\n",
       "    </tr>\n",
       "    <tr>\n",
       "      <th>379</th>\n",
       "      <td>mimi</td>\n",
       "      <td>Mimi</td>\n",
       "      <td>0</td>\n",
       "      <td>NaT</td>\n",
       "    </tr>\n",
       "    <tr>\n",
       "      <th>380</th>\n",
       "      <td>rappture-bat</td>\n",
       "      <td>rappture-bat</td>\n",
       "      <td>0</td>\n",
       "      <td>NaT</td>\n",
       "    </tr>\n",
       "    <tr>\n",
       "      <th>408</th>\n",
       "      <td>reliabilityhub</td>\n",
       "      <td></td>\n",
       "      <td>0</td>\n",
       "      <td>NaT</td>\n",
       "    </tr>\n",
       "    <tr>\n",
       "      <th>418</th>\n",
       "      <td>nmi</td>\n",
       "      <td>nmi</td>\n",
       "      <td>0</td>\n",
       "      <td>NaT</td>\n",
       "    </tr>\n",
       "    <tr>\n",
       "      <th>419</th>\n",
       "      <td>rp2</td>\n",
       "      <td>rp2</td>\n",
       "      <td>0</td>\n",
       "      <td>NaT</td>\n",
       "    </tr>\n",
       "    <tr>\n",
       "      <th>1471</th>\n",
       "      <td>maccalibrate</td>\n",
       "      <td></td>\n",
       "      <td>0</td>\n",
       "      <td>NaT</td>\n",
       "    </tr>\n",
       "    <tr>\n",
       "      <th>1472</th>\n",
       "      <td>maccalibrator</td>\n",
       "      <td>Calibrate the NASA MAC Rappture tool</td>\n",
       "      <td>0</td>\n",
       "      <td>NaT</td>\n",
       "    </tr>\n",
       "    <tr>\n",
       "      <th>1473</th>\n",
       "      <td>calibratemac</td>\n",
       "      <td></td>\n",
       "      <td>0</td>\n",
       "      <td>NaT</td>\n",
       "    </tr>\n",
       "    <tr>\n",
       "      <th>1474</th>\n",
       "      <td>microfsi</td>\n",
       "      <td></td>\n",
       "      <td>0</td>\n",
       "      <td>NaT</td>\n",
       "    </tr>\n",
       "    <tr>\n",
       "      <th>1475</th>\n",
       "      <td>deformchan</td>\n",
       "      <td></td>\n",
       "      <td>0</td>\n",
       "      <td>NaT</td>\n",
       "    </tr>\n",
       "    <tr>\n",
       "      <th>1476</th>\n",
       "      <td>dakotamac</td>\n",
       "      <td></td>\n",
       "      <td>0</td>\n",
       "      <td>NaT</td>\n",
       "    </tr>\n",
       "    <tr>\n",
       "      <th>1477</th>\n",
       "      <td>nasamaccalib</td>\n",
       "      <td></td>\n",
       "      <td>0</td>\n",
       "      <td>NaT</td>\n",
       "    </tr>\n",
       "  </tbody>\n",
       "</table>\n",
       "</div>"
      ],
      "text/plain": [
       "              toolname                                              title  \\\n",
       "1817         inabstool  SimTool for Indirect Optical Absorption Using ...   \n",
       "1818     pc4ws21team42                            PhysiCell 3-types model   \n",
       "1819     dftqeexplorer                             DFTQE Results Explorer   \n",
       "1820       netdebugger                          Debugging Neural Networks   \n",
       "1821               eam                      Embedded Atom model potential   \n",
       "1822   nanomatexplorer            Nanomaterial Mechanics Results Explorer   \n",
       "1823        blockchain               Proof of work example for blockchain   \n",
       "1824          avasctum  CompuCell3D - Avascular Tumor Growth and Mutation   \n",
       "1825   matlabmicroelec  Learning MATLAB in the context of microelectro...   \n",
       "1826          chm37301             Purdue Physical Chemistry Lab CHM37301   \n",
       "1827            fdm4tp  Finite Difference Methods for Transport Phenomena   \n",
       "1828          learngit                               Learn Git in nanoHUB   \n",
       "345             cnt-iv                                             CNT-IV   \n",
       "346               dmgr                                     Design Manager   \n",
       "353             sequal                                             Sequal   \n",
       "355         staroffice                                         StarOffice   \n",
       "356           spicesoi                                       UFSOI/Spice3   \n",
       "358        devtesttool                                      Dev Test Tool   \n",
       "359        ncntesttool                                      NCN test tool   \n",
       "360               WTND                                    WTND Tool Title   \n",
       "361              wtest                                 My WTest Tool Test   \n",
       "362          Mynewtool                                        My New Tool   \n",
       "363            nanohub                                            nanoHUB   \n",
       "364   nanohub-for-kids                                   nanohub-for-kids   \n",
       "365             sysman                                             sysman   \n",
       "366    nanohub-support                                    nanohub-support   \n",
       "367            rkspack                                            rkspack   \n",
       "368         lib-gangli                  Gang Li's Library of Useful Stuff   \n",
       "369   rappture-runtime                                   rappture-runtime   \n",
       "370            hubzero                                            hubzero   \n",
       "371           rappture                                           rappture   \n",
       "372                 mw                                                 mw   \n",
       "373       ncn_students                                       ncn_students   \n",
       "374        pharmengine                                        pharmengine   \n",
       "375               xhub                                               xhub   \n",
       "376       breeze-admin                                       breeze-admin   \n",
       "377                ncn                                                ncn   \n",
       "378           nanowhim                                           nanowhim   \n",
       "379               mimi                                               Mimi   \n",
       "380       rappture-bat                                       rappture-bat   \n",
       "408     reliabilityhub                                                      \n",
       "418                nmi                                                nmi   \n",
       "419                rp2                                                rp2   \n",
       "1471      maccalibrate                                                      \n",
       "1472     maccalibrator               Calibrate the NASA MAC Rappture tool   \n",
       "1473      calibratemac                                                      \n",
       "1474          microfsi                                                      \n",
       "1475        deformchan                                                      \n",
       "1476         dakotamac                                                      \n",
       "1477      nasamaccalib                                                      \n",
       "\n",
       "      published          registered  \n",
       "1817          0 2021-07-26 19:39:06  \n",
       "1818          0 2021-07-27 13:49:37  \n",
       "1819          0 2021-07-27 19:28:28  \n",
       "1820          1 2021-07-27 22:24:08  \n",
       "1821          0 2021-08-02 14:44:52  \n",
       "1822          0 2021-08-02 21:01:08  \n",
       "1823          0 2021-08-05 20:39:36  \n",
       "1824          0 2021-08-07 19:45:25  \n",
       "1825          0 2021-08-11 16:35:58  \n",
       "1826          1 2021-08-13 19:24:12  \n",
       "1827          0 2021-08-20 23:20:48  \n",
       "1828          0 2021-08-22 14:47:21  \n",
       "345           0                 NaT  \n",
       "346           0                 NaT  \n",
       "353           0                 NaT  \n",
       "355           1                 NaT  \n",
       "356           0                 NaT  \n",
       "358           0                 NaT  \n",
       "359           0                 NaT  \n",
       "360           0                 NaT  \n",
       "361           0                 NaT  \n",
       "362           0                 NaT  \n",
       "363           0                 NaT  \n",
       "364           0                 NaT  \n",
       "365           0                 NaT  \n",
       "366           0                 NaT  \n",
       "367           0                 NaT  \n",
       "368           0                 NaT  \n",
       "369           0                 NaT  \n",
       "370           0                 NaT  \n",
       "371           0                 NaT  \n",
       "372           0                 NaT  \n",
       "373           0                 NaT  \n",
       "374           0                 NaT  \n",
       "375           0                 NaT  \n",
       "376           0                 NaT  \n",
       "377           0                 NaT  \n",
       "378           0                 NaT  \n",
       "379           0                 NaT  \n",
       "380           0                 NaT  \n",
       "408           0                 NaT  \n",
       "418           0                 NaT  \n",
       "419           0                 NaT  \n",
       "1471          0                 NaT  \n",
       "1472          0                 NaT  \n",
       "1473          0                 NaT  \n",
       "1474          0                 NaT  \n",
       "1475          0                 NaT  \n",
       "1476          0                 NaT  \n",
       "1477          0                 NaT  "
      ]
     },
     "metadata": {},
     "output_type": "display_data"
    },
    {
     "name": "stdout",
     "output_type": "stream",
     "text": [
      "(1829, 4)\n"
     ]
    }
   ],
   "source": [
    "df = df.sort_values(by='registered')\n",
    "display(df.head(5))\n",
    "display(df.tail(50))\n",
    "print(df.shape)"
   ]
  },
  {
   "cell_type": "code",
   "execution_count": 6,
   "id": "52f115af",
   "metadata": {
    "execution": {
     "iopub.execute_input": "2021-08-26T04:10:58.052073Z",
     "iopub.status.busy": "2021-08-26T04:10:58.051195Z",
     "iopub.status.idle": "2021-08-26T04:10:58.055446Z",
     "shell.execute_reply": "2021-08-26T04:10:58.056029Z"
    },
    "jupyter": {
     "source_hidden": true
    },
    "papermill": {
     "duration": 0.101466,
     "end_time": "2021-08-26T04:10:58.056217",
     "exception": false,
     "start_time": "2021-08-26T04:10:57.954751",
     "status": "completed"
    },
    "tags": []
   },
   "outputs": [
    {
     "name": "stdout",
     "output_type": "stream",
     "text": [
      "1578\n",
      "toolname                                citrinednn\n",
      "title         Hands-on Deep Learning for Materials\n",
      "published                                        1\n",
      "registered                     2020-05-27 14:49:06\n",
      "Name: 1617, dtype: object\n"
     ]
    }
   ],
   "source": [
    "# debugging\n",
    "print(df['toolname'].to_list().index('citrinednn'))\n",
    "print(df.iloc[df['toolname'].to_list().index('citrinednn'),:])"
   ]
  },
  {
   "cell_type": "code",
   "execution_count": 7,
   "id": "6af107f9",
   "metadata": {
    "execution": {
     "iopub.execute_input": "2021-08-26T04:10:58.246000Z",
     "iopub.status.busy": "2021-08-26T04:10:58.245090Z",
     "iopub.status.idle": "2021-08-26T04:10:58.249341Z",
     "shell.execute_reply": "2021-08-26T04:10:58.249875Z"
    },
    "jupyter": {
     "source_hidden": true
    },
    "papermill": {
     "duration": 0.100479,
     "end_time": "2021-08-26T04:10:58.250102",
     "exception": false,
     "start_time": "2021-08-26T04:10:58.149623",
     "status": "completed"
    },
    "tags": []
   },
   "outputs": [
    {
     "data": {
      "text/plain": [
       "True"
      ]
     },
     "execution_count": 7,
     "metadata": {},
     "output_type": "execute_result"
    }
   ],
   "source": [
    "'mldefect' in df['toolname'].to_list()"
   ]
  },
  {
   "cell_type": "raw",
   "id": "f3ca903f",
   "metadata": {
    "papermill": {
     "duration": 0.092111,
     "end_time": "2021-08-26T04:10:58.437654",
     "exception": false,
     "start_time": "2021-08-26T04:10:58.345543",
     "status": "completed"
    },
    "tags": []
   },
   "source": [
    "+-------------------+----------+\n",
    "| user              | cnt      |\n",
    "+-------------------+----------+\n",
    "| instanton         | 12192882 |\n",
    "| gridstat          |  8001390 |\n",
    "| enassakr          |   363553 |\n",
    "| luisetepor        |   340823 |\n",
    "| falkke87          |   282754 |\n",
    "| jovenpaoloangeles |   264310 |\n",
    "| hamu8278          |   210741 |\n",
    "| denphi            |   167766 |\n",
    "| iago              |   164634 |\n",
    "| clarksm           |   147987 |\n",
    "+-------------------+----------+"
   ]
  },
  {
   "cell_type": "code",
   "execution_count": 8,
   "id": "9cf3f4ad",
   "metadata": {
    "execution": {
     "iopub.execute_input": "2021-08-26T04:10:58.628345Z",
     "iopub.status.busy": "2021-08-26T04:10:58.627589Z",
     "iopub.status.idle": "2021-08-26T04:10:58.697870Z",
     "shell.execute_reply": "2021-08-26T04:10:58.698460Z"
    },
    "jupyter": {
     "source_hidden": true
    },
    "papermill": {
     "duration": 0.167897,
     "end_time": "2021-08-26T04:10:58.698736",
     "exception": false,
     "start_time": "2021-08-26T04:10:58.530839",
     "status": "completed"
    },
    "tags": []
   },
   "outputs": [
    {
     "data": {
      "text/html": [
       "<div>\n",
       "<style scoped>\n",
       "    .dataframe tbody tr th:only-of-type {\n",
       "        vertical-align: middle;\n",
       "    }\n",
       "\n",
       "    .dataframe tbody tr th {\n",
       "        vertical-align: top;\n",
       "    }\n",
       "\n",
       "    .dataframe thead th {\n",
       "        text-align: right;\n",
       "    }\n",
       "</style>\n",
       "<table border=\"1\" class=\"dataframe\">\n",
       "  <thead>\n",
       "    <tr style=\"text-align: right;\">\n",
       "      <th></th>\n",
       "      <th>tool_version_id</th>\n",
       "      <th>alias</th>\n",
       "    </tr>\n",
       "  </thead>\n",
       "  <tbody>\n",
       "    <tr>\n",
       "      <th>0</th>\n",
       "      <td>977</td>\n",
       "      <td>2ds</td>\n",
       "    </tr>\n",
       "    <tr>\n",
       "      <th>1</th>\n",
       "      <td>978</td>\n",
       "      <td>abinit</td>\n",
       "    </tr>\n",
       "  </tbody>\n",
       "</table>\n",
       "</div>"
      ],
      "text/plain": [
       "   tool_version_id   alias\n",
       "0              977     2ds\n",
       "1              978  abinit"
      ]
     },
     "execution_count": 8,
     "metadata": {},
     "output_type": "execute_result"
    }
   ],
   "source": [
    "# Basic tool information\n",
    "sql_query = \"select * from jos_tool_version_alias\"\n",
    "\n",
    "df_jtva = pd.read_sql_query(sql_query, nanohub_db)\n",
    "\n",
    "# display\n",
    "df_jtva.head(2)"
   ]
  },
  {
   "cell_type": "code",
   "execution_count": 9,
   "id": "fc2fb688",
   "metadata": {
    "execution": {
     "iopub.execute_input": "2021-08-26T04:10:58.890442Z",
     "iopub.status.busy": "2021-08-26T04:10:58.889669Z",
     "iopub.status.idle": "2021-08-26T04:10:58.893139Z",
     "shell.execute_reply": "2021-08-26T04:10:58.893697Z"
    },
    "jupyter": {
     "source_hidden": true
    },
    "papermill": {
     "duration": 0.100145,
     "end_time": "2021-08-26T04:10:58.893892",
     "exception": false,
     "start_time": "2021-08-26T04:10:58.793747",
     "status": "completed"
    },
    "tags": []
   },
   "outputs": [
    {
     "data": {
      "text/plain": [
       "False"
      ]
     },
     "execution_count": 9,
     "metadata": {},
     "output_type": "execute_result"
    }
   ],
   "source": [
    "'mldefect' in df_jtva['alias'].to_list()"
   ]
  },
  {
   "cell_type": "code",
   "execution_count": null,
   "id": "7a3a5421",
   "metadata": {
    "jupyter": {
     "source_hidden": true
    },
    "papermill": {
     "duration": 0.093401,
     "end_time": "2021-08-26T04:10:59.080989",
     "exception": false,
     "start_time": "2021-08-26T04:10:58.987588",
     "status": "completed"
    },
    "tags": []
   },
   "outputs": [],
   "source": []
  },
  {
   "cell_type": "markdown",
   "id": "10e5fa04",
   "metadata": {
    "papermill": {
     "duration": 0.092421,
     "end_time": "2021-08-26T04:10:59.268827",
     "exception": false,
     "start_time": "2021-08-26T04:10:59.176406",
     "status": "completed"
    },
    "tags": []
   },
   "source": [
    "## Building new SQL queries that roll up instances"
   ]
  },
  {
   "cell_type": "code",
   "execution_count": 10,
   "id": "bb5b5c7d",
   "metadata": {
    "execution": {
     "iopub.execute_input": "2021-08-26T04:10:59.477333Z",
     "iopub.status.busy": "2021-08-26T04:10:59.476546Z",
     "iopub.status.idle": "2021-08-26T04:10:59.705797Z",
     "shell.execute_reply": "2021-08-26T04:10:59.705058Z"
    },
    "jupyter": {
     "source_hidden": true
    },
    "papermill": {
     "duration": 0.332821,
     "end_time": "2021-08-26T04:10:59.705973",
     "exception": false,
     "start_time": "2021-08-26T04:10:59.373152",
     "status": "completed"
    },
    "tags": []
   },
   "outputs": [
    {
     "data": {
      "text/html": [
       "<div>\n",
       "<style scoped>\n",
       "    .dataframe tbody tr th:only-of-type {\n",
       "        vertical-align: middle;\n",
       "    }\n",
       "\n",
       "    .dataframe tbody tr th {\n",
       "        vertical-align: top;\n",
       "    }\n",
       "\n",
       "    .dataframe thead th {\n",
       "        text-align: right;\n",
       "    }\n",
       "</style>\n",
       "<table border=\"1\" class=\"dataframe\">\n",
       "  <thead>\n",
       "    <tr style=\"text-align: right;\">\n",
       "      <th></th>\n",
       "      <th>toolname</th>\n",
       "      <th>instance</th>\n",
       "    </tr>\n",
       "  </thead>\n",
       "  <tbody>\n",
       "    <tr>\n",
       "      <th>0</th>\n",
       "      <td></td>\n",
       "      <td></td>\n",
       "    </tr>\n",
       "    <tr>\n",
       "      <th>1</th>\n",
       "      <td>112016a</td>\n",
       "      <td>112016a_dev</td>\n",
       "    </tr>\n",
       "    <tr>\n",
       "      <th>2</th>\n",
       "      <td>1dbtetransient</td>\n",
       "      <td>1dbtetransient_dev</td>\n",
       "    </tr>\n",
       "    <tr>\n",
       "      <th>3</th>\n",
       "      <td>1dchainmd</td>\n",
       "      <td>1dchainmd_dev</td>\n",
       "    </tr>\n",
       "    <tr>\n",
       "      <th>4</th>\n",
       "      <td>1dchainmd</td>\n",
       "      <td>1dchainmd_r13</td>\n",
       "    </tr>\n",
       "  </tbody>\n",
       "</table>\n",
       "</div>"
      ],
      "text/plain": [
       "         toolname            instance\n",
       "0                                    \n",
       "1         112016a         112016a_dev\n",
       "2  1dbtetransient  1dbtetransient_dev\n",
       "3       1dchainmd       1dchainmd_dev\n",
       "4       1dchainmd       1dchainmd_r13"
      ]
     },
     "metadata": {},
     "output_type": "display_data"
    },
    {
     "name": "stdout",
     "output_type": "stream",
     "text": [
      "(5149, 2)\n"
     ]
    }
   ],
   "source": [
    "# pull all tools in DB2\n",
    "sql_tools = 'select toolname, instance from nanohub.jos_tool_version;'\n",
    "tools_df = pd.read_sql_query(sql_tools,nanohub_db)\n",
    "display(tools_df.head(5))\n",
    "print(tools_df.shape)"
   ]
  },
  {
   "cell_type": "code",
   "execution_count": 11,
   "id": "4006e52e",
   "metadata": {
    "execution": {
     "iopub.execute_input": "2021-08-26T04:10:59.900060Z",
     "iopub.status.busy": "2021-08-26T04:10:59.899357Z",
     "iopub.status.idle": "2021-08-26T04:10:59.902973Z",
     "shell.execute_reply": "2021-08-26T04:10:59.903428Z"
    },
    "jupyter": {
     "source_hidden": true
    },
    "papermill": {
     "duration": 0.102681,
     "end_time": "2021-08-26T04:10:59.903609",
     "exception": false,
     "start_time": "2021-08-26T04:10:59.800928",
     "status": "completed"
    },
    "tags": []
   },
   "outputs": [
    {
     "data": {
      "text/plain": [
       "True"
      ]
     },
     "execution_count": 11,
     "metadata": {},
     "output_type": "execute_result"
    }
   ],
   "source": [
    "'mldefect' in tools_df['toolname'].to_list()"
   ]
  },
  {
   "cell_type": "code",
   "execution_count": 12,
   "id": "c8f23b80",
   "metadata": {
    "execution": {
     "iopub.execute_input": "2021-08-26T04:11:00.106015Z",
     "iopub.status.busy": "2021-08-26T04:11:00.105199Z",
     "iopub.status.idle": "2021-08-26T04:11:01.108417Z",
     "shell.execute_reply": "2021-08-26T04:11:01.109115Z"
    },
    "jupyter": {
     "source_hidden": true
    },
    "papermill": {
     "duration": 1.110315,
     "end_time": "2021-08-26T04:11:01.109323",
     "exception": false,
     "start_time": "2021-08-26T04:10:59.999008",
     "status": "completed"
    },
    "tags": []
   },
   "outputs": [
    {
     "data": {
      "text/plain": [
       "False"
      ]
     },
     "execution_count": 12,
     "metadata": {},
     "output_type": "execute_result"
    }
   ],
   "source": [
    "## debugging for Tanya\n",
    "# jos_resource_stats_clusters\n",
    "ql = 'select toolname from jos_resource_stats_clusters;'\n",
    "df_ql = pd.read_sql_query(ql,nanohub_db)\n",
    "'mldefect' in df_ql['toolname'].to_list()\n"
   ]
  },
  {
   "cell_type": "code",
   "execution_count": 13,
   "id": "8b9ea999",
   "metadata": {
    "execution": {
     "iopub.execute_input": "2021-08-26T04:11:01.321175Z",
     "iopub.status.busy": "2021-08-26T04:11:01.320326Z",
     "iopub.status.idle": "2021-08-26T04:11:01.323831Z",
     "shell.execute_reply": "2021-08-26T04:11:01.324199Z"
    },
    "jupyter": {
     "source_hidden": true
    },
    "papermill": {
     "duration": 0.110209,
     "end_time": "2021-08-26T04:11:01.324360",
     "exception": false,
     "start_time": "2021-08-26T04:11:01.214151",
     "status": "completed"
    },
    "tags": []
   },
   "outputs": [
    {
     "data": {
      "text/html": [
       "<div>\n",
       "<style scoped>\n",
       "    .dataframe tbody tr th:only-of-type {\n",
       "        vertical-align: middle;\n",
       "    }\n",
       "\n",
       "    .dataframe tbody tr th {\n",
       "        vertical-align: top;\n",
       "    }\n",
       "\n",
       "    .dataframe thead th {\n",
       "        text-align: right;\n",
       "    }\n",
       "</style>\n",
       "<table border=\"1\" class=\"dataframe\">\n",
       "  <thead>\n",
       "    <tr style=\"text-align: right;\">\n",
       "      <th></th>\n",
       "      <th>toolname</th>\n",
       "    </tr>\n",
       "  </thead>\n",
       "  <tbody>\n",
       "    <tr>\n",
       "      <th>0</th>\n",
       "      <td>1dchainmd</td>\n",
       "    </tr>\n",
       "    <tr>\n",
       "      <th>1</th>\n",
       "      <td>1dchainmd</td>\n",
       "    </tr>\n",
       "    <tr>\n",
       "      <th>2</th>\n",
       "      <td>1dchainmd</td>\n",
       "    </tr>\n",
       "    <tr>\n",
       "      <th>3</th>\n",
       "      <td>1dchainmd</td>\n",
       "    </tr>\n",
       "    <tr>\n",
       "      <th>4</th>\n",
       "      <td>1dchainmd</td>\n",
       "    </tr>\n",
       "  </tbody>\n",
       "</table>\n",
       "</div>"
      ],
      "text/plain": [
       "    toolname\n",
       "0  1dchainmd\n",
       "1  1dchainmd\n",
       "2  1dchainmd\n",
       "3  1dchainmd\n",
       "4  1dchainmd"
      ]
     },
     "execution_count": 13,
     "metadata": {},
     "output_type": "execute_result"
    }
   ],
   "source": [
    "df_ql.head(5)"
   ]
  },
  {
   "cell_type": "code",
   "execution_count": 14,
   "id": "9ecb62f9",
   "metadata": {
    "execution": {
     "iopub.execute_input": "2021-08-26T04:11:01.521437Z",
     "iopub.status.busy": "2021-08-26T04:11:01.520856Z",
     "iopub.status.idle": "2021-08-26T04:11:01.776200Z",
     "shell.execute_reply": "2021-08-26T04:11:01.776749Z"
    },
    "jupyter": {
     "source_hidden": true
    },
    "papermill": {
     "duration": 0.355646,
     "end_time": "2021-08-26T04:11:01.776947",
     "exception": false,
     "start_time": "2021-08-26T04:11:01.421301",
     "status": "completed"
    },
    "tags": []
   },
   "outputs": [
    {
     "data": {
      "text/plain": [
       "True"
      ]
     },
     "execution_count": 14,
     "metadata": {},
     "output_type": "execute_result"
    }
   ],
   "source": [
    "# jos_tool_authors\n",
    "ql = 'select toolname from jos_tool_authors;'\n",
    "df_ql = pd.read_sql_query(ql,nanohub_db)\n",
    "'mldefect' in df_ql['toolname'].to_list()\n",
    "\n"
   ]
  },
  {
   "cell_type": "code",
   "execution_count": 15,
   "id": "9f37cedf",
   "metadata": {
    "execution": {
     "iopub.execute_input": "2021-08-26T04:11:01.990138Z",
     "iopub.status.busy": "2021-08-26T04:11:01.989449Z",
     "iopub.status.idle": "2021-08-26T04:11:01.993103Z",
     "shell.execute_reply": "2021-08-26T04:11:01.993479Z"
    },
    "jupyter": {
     "source_hidden": true
    },
    "papermill": {
     "duration": 0.113763,
     "end_time": "2021-08-26T04:11:01.993719",
     "exception": false,
     "start_time": "2021-08-26T04:11:01.879956",
     "status": "completed"
    },
    "tags": []
   },
   "outputs": [
    {
     "data": {
      "text/html": [
       "<div>\n",
       "<style scoped>\n",
       "    .dataframe tbody tr th:only-of-type {\n",
       "        vertical-align: middle;\n",
       "    }\n",
       "\n",
       "    .dataframe tbody tr th {\n",
       "        vertical-align: top;\n",
       "    }\n",
       "\n",
       "    .dataframe thead th {\n",
       "        text-align: right;\n",
       "    }\n",
       "</style>\n",
       "<table border=\"1\" class=\"dataframe\">\n",
       "  <thead>\n",
       "    <tr style=\"text-align: right;\">\n",
       "      <th></th>\n",
       "      <th>toolname</th>\n",
       "    </tr>\n",
       "  </thead>\n",
       "  <tbody>\n",
       "    <tr>\n",
       "      <th>0</th>\n",
       "      <td>1dchainmd</td>\n",
       "    </tr>\n",
       "    <tr>\n",
       "      <th>1</th>\n",
       "      <td>1dchainmd</td>\n",
       "    </tr>\n",
       "    <tr>\n",
       "      <th>2</th>\n",
       "      <td>1dchainmd</td>\n",
       "    </tr>\n",
       "    <tr>\n",
       "      <th>3</th>\n",
       "      <td>1dchainmd</td>\n",
       "    </tr>\n",
       "    <tr>\n",
       "      <th>4</th>\n",
       "      <td>1dfdmht</td>\n",
       "    </tr>\n",
       "  </tbody>\n",
       "</table>\n",
       "</div>"
      ],
      "text/plain": [
       "    toolname\n",
       "0  1dchainmd\n",
       "1  1dchainmd\n",
       "2  1dchainmd\n",
       "3  1dchainmd\n",
       "4    1dfdmht"
      ]
     },
     "execution_count": 15,
     "metadata": {},
     "output_type": "execute_result"
    }
   ],
   "source": [
    "df_ql.head(5)"
   ]
  },
  {
   "cell_type": "code",
   "execution_count": 16,
   "id": "c2f5caca",
   "metadata": {
    "execution": {
     "iopub.execute_input": "2021-08-26T04:11:02.200472Z",
     "iopub.status.busy": "2021-08-26T04:11:02.199597Z",
     "iopub.status.idle": "2021-08-26T04:11:02.601448Z",
     "shell.execute_reply": "2021-08-26T04:11:02.601895Z"
    },
    "jupyter": {
     "source_hidden": true
    },
    "papermill": {
     "duration": 0.508553,
     "end_time": "2021-08-26T04:11:02.602075",
     "exception": false,
     "start_time": "2021-08-26T04:11:02.093522",
     "status": "completed"
    },
    "tags": []
   },
   "outputs": [
    {
     "data": {
      "text/plain": [
       "False"
      ]
     },
     "execution_count": 16,
     "metadata": {},
     "output_type": "execute_result"
    }
   ],
   "source": [
    "## nanohub_metrics trials\n",
    "# metrics_tool_version\n",
    "ql_metrics = 'select toolname from nanohub_metrics.metrics_tool_version;'\n",
    "mdf = pd.read_sql_query(ql_metrics,nanohub_metrics_db)\n",
    "\n",
    "'mldefect' in mdf['toolname'].to_list()"
   ]
  },
  {
   "cell_type": "code",
   "execution_count": 17,
   "id": "19125e6e",
   "metadata": {
    "execution": {
     "iopub.execute_input": "2021-08-26T04:11:02.818539Z",
     "iopub.status.busy": "2021-08-26T04:11:02.817854Z",
     "iopub.status.idle": "2021-08-26T04:11:02.825663Z",
     "shell.execute_reply": "2021-08-26T04:11:02.825095Z"
    },
    "jupyter": {
     "source_hidden": true
    },
    "papermill": {
     "duration": 0.115314,
     "end_time": "2021-08-26T04:11:02.825905",
     "exception": false,
     "start_time": "2021-08-26T04:11:02.710591",
     "status": "completed"
    },
    "tags": []
   },
   "outputs": [
    {
     "data": {
      "text/html": [
       "<div>\n",
       "<style scoped>\n",
       "    .dataframe tbody tr th:only-of-type {\n",
       "        vertical-align: middle;\n",
       "    }\n",
       "\n",
       "    .dataframe tbody tr th {\n",
       "        vertical-align: top;\n",
       "    }\n",
       "\n",
       "    .dataframe thead th {\n",
       "        text-align: right;\n",
       "    }\n",
       "</style>\n",
       "<table border=\"1\" class=\"dataframe\">\n",
       "  <thead>\n",
       "    <tr style=\"text-align: right;\">\n",
       "      <th></th>\n",
       "      <th>toolname</th>\n",
       "    </tr>\n",
       "  </thead>\n",
       "  <tbody>\n",
       "    <tr>\n",
       "      <th>0</th>\n",
       "      <td>1dchainmd</td>\n",
       "    </tr>\n",
       "    <tr>\n",
       "      <th>1</th>\n",
       "      <td>1dchainmd</td>\n",
       "    </tr>\n",
       "    <tr>\n",
       "      <th>2</th>\n",
       "      <td>1dfdmht</td>\n",
       "    </tr>\n",
       "    <tr>\n",
       "      <th>3</th>\n",
       "      <td>1dfs</td>\n",
       "    </tr>\n",
       "    <tr>\n",
       "      <th>4</th>\n",
       "      <td>1dhetero</td>\n",
       "    </tr>\n",
       "  </tbody>\n",
       "</table>\n",
       "</div>"
      ],
      "text/plain": [
       "    toolname\n",
       "0  1dchainmd\n",
       "1  1dchainmd\n",
       "2    1dfdmht\n",
       "3       1dfs\n",
       "4   1dhetero"
      ]
     },
     "metadata": {},
     "output_type": "display_data"
    },
    {
     "data": {
      "text/html": [
       "<div>\n",
       "<style scoped>\n",
       "    .dataframe tbody tr th:only-of-type {\n",
       "        vertical-align: middle;\n",
       "    }\n",
       "\n",
       "    .dataframe tbody tr th {\n",
       "        vertical-align: top;\n",
       "    }\n",
       "\n",
       "    .dataframe thead th {\n",
       "        text-align: right;\n",
       "    }\n",
       "</style>\n",
       "<table border=\"1\" class=\"dataframe\">\n",
       "  <thead>\n",
       "    <tr style=\"text-align: right;\">\n",
       "      <th></th>\n",
       "      <th>toolname</th>\n",
       "    </tr>\n",
       "  </thead>\n",
       "  <tbody>\n",
       "    <tr>\n",
       "      <th>1867</th>\n",
       "      <td>xfig</td>\n",
       "    </tr>\n",
       "    <tr>\n",
       "      <th>1868</th>\n",
       "      <td>xhub</td>\n",
       "    </tr>\n",
       "    <tr>\n",
       "      <th>1869</th>\n",
       "      <td>xterm</td>\n",
       "    </tr>\n",
       "    <tr>\n",
       "      <th>1870</th>\n",
       "      <td>xterm</td>\n",
       "    </tr>\n",
       "    <tr>\n",
       "      <th>1871</th>\n",
       "      <td>yambo</td>\n",
       "    </tr>\n",
       "  </tbody>\n",
       "</table>\n",
       "</div>"
      ],
      "text/plain": [
       "     toolname\n",
       "1867     xfig\n",
       "1868     xhub\n",
       "1869    xterm\n",
       "1870    xterm\n",
       "1871    yambo"
      ]
     },
     "metadata": {},
     "output_type": "display_data"
    },
    {
     "name": "stdout",
     "output_type": "stream",
     "text": [
      "(1872, 1)\n"
     ]
    }
   ],
   "source": [
    "display(mdf.head(5))\n",
    "display(mdf.tail(5))\n",
    "print(mdf.shape)"
   ]
  },
  {
   "cell_type": "code",
   "execution_count": 18,
   "id": "7768ae76",
   "metadata": {
    "execution": {
     "iopub.execute_input": "2021-08-26T04:11:03.039407Z",
     "iopub.status.busy": "2021-08-26T04:11:03.038555Z",
     "iopub.status.idle": "2021-08-26T04:11:03.042157Z",
     "shell.execute_reply": "2021-08-26T04:11:03.042580Z"
    },
    "jupyter": {
     "source_hidden": true
    },
    "papermill": {
     "duration": 0.112005,
     "end_time": "2021-08-26T04:11:03.042790",
     "exception": false,
     "start_time": "2021-08-26T04:11:02.930785",
     "status": "completed"
    },
    "tags": []
   },
   "outputs": [
    {
     "data": {
      "text/plain": [
       "['mimi',\n",
       " 'minimol',\n",
       " 'minimol',\n",
       " 'minimol',\n",
       " 'minimol',\n",
       " 'minimol',\n",
       " 'minimos',\n",
       " 'minimos',\n",
       " 'minimos',\n",
       " 'mmfl',\n",
       " 'mmst',\n",
       " 'mmst',\n",
       " 'mmst',\n",
       " 'mmst',\n",
       " 'mmst',\n",
       " 'mmsttf',\n",
       " 'mmsttf',\n",
       " 'mmsttf',\n",
       " 'mmsttf',\n",
       " 'moca']"
      ]
     },
     "execution_count": 18,
     "metadata": {},
     "output_type": "execute_result"
    }
   ],
   "source": [
    "mdf['toolname'].to_list()[730:750]"
   ]
  },
  {
   "cell_type": "code",
   "execution_count": null,
   "id": "44aaf544",
   "metadata": {
    "jupyter": {
     "source_hidden": true
    },
    "papermill": {
     "duration": 0.10783,
     "end_time": "2021-08-26T04:11:03.256858",
     "exception": false,
     "start_time": "2021-08-26T04:11:03.149028",
     "status": "completed"
    },
    "tags": []
   },
   "outputs": [],
   "source": []
  },
  {
   "cell_type": "code",
   "execution_count": null,
   "id": "8ef6ff96",
   "metadata": {
    "jupyter": {
     "source_hidden": true
    },
    "papermill": {
     "duration": 0.107808,
     "end_time": "2021-08-26T04:11:03.489507",
     "exception": false,
     "start_time": "2021-08-26T04:11:03.381699",
     "status": "completed"
    },
    "tags": []
   },
   "outputs": [],
   "source": []
  },
  {
   "cell_type": "code",
   "execution_count": null,
   "id": "6cceaafa",
   "metadata": {
    "jupyter": {
     "source_hidden": true
    },
    "papermill": {
     "duration": 0.101934,
     "end_time": "2021-08-26T04:11:03.698631",
     "exception": false,
     "start_time": "2021-08-26T04:11:03.596697",
     "status": "completed"
    },
    "tags": []
   },
   "outputs": [],
   "source": []
  },
  {
   "cell_type": "code",
   "execution_count": null,
   "id": "0df90800",
   "metadata": {
    "jupyter": {
     "source_hidden": true
    },
    "papermill": {
     "duration": 0.102665,
     "end_time": "2021-08-26T04:11:03.906717",
     "exception": false,
     "start_time": "2021-08-26T04:11:03.804052",
     "status": "completed"
    },
    "tags": []
   },
   "outputs": [],
   "source": []
  },
  {
   "cell_type": "code",
   "execution_count": null,
   "id": "c0345c1f",
   "metadata": {
    "jupyter": {
     "source_hidden": true
    },
    "papermill": {
     "duration": 0.101873,
     "end_time": "2021-08-26T04:11:04.114056",
     "exception": false,
     "start_time": "2021-08-26T04:11:04.012183",
     "status": "completed"
    },
    "tags": []
   },
   "outputs": [],
   "source": []
  },
  {
   "cell_type": "code",
   "execution_count": 19,
   "id": "67751fea",
   "metadata": {
    "execution": {
     "iopub.execute_input": "2021-08-26T04:11:04.326651Z",
     "iopub.status.busy": "2021-08-26T04:11:04.325998Z",
     "iopub.status.idle": "2021-08-26T04:11:04.355863Z",
     "shell.execute_reply": "2021-08-26T04:11:04.356382Z"
    },
    "jupyter": {
     "source_hidden": true
    },
    "papermill": {
     "duration": 0.139279,
     "end_time": "2021-08-26T04:11:04.356621",
     "exception": false,
     "start_time": "2021-08-26T04:11:04.217342",
     "status": "completed"
    },
    "tags": []
   },
   "outputs": [],
   "source": [
    "# create a dict strictly of toolnames and their instances\n",
    "grouped_tools = tools_df.groupby(['toolname']).groups #this is a dict already; need to change the value pairs\n",
    "import numpy as np\n",
    "tn_instances = tools_df['instance'].to_numpy()\n",
    "for i,j in grouped_tools.items():\n",
    "    grouped_tools[i] = tuple(tn_instances[j])"
   ]
  },
  {
   "cell_type": "code",
   "execution_count": 20,
   "id": "ab3ac555",
   "metadata": {
    "execution": {
     "iopub.execute_input": "2021-08-26T04:11:04.595536Z",
     "iopub.status.busy": "2021-08-26T04:11:04.594757Z",
     "iopub.status.idle": "2021-08-26T04:11:04.601094Z",
     "shell.execute_reply": "2021-08-26T04:11:04.601903Z"
    },
    "jupyter": {
     "source_hidden": true
    },
    "papermill": {
     "duration": 0.138626,
     "end_time": "2021-08-26T04:11:04.602141",
     "exception": false,
     "start_time": "2021-08-26T04:11:04.463515",
     "status": "completed"
    },
    "tags": []
   },
   "outputs": [
    {
     "name": "stdout",
     "output_type": "stream",
     "text": [
      "{'': ('',), '112016a': ('112016a_dev',), '1dbtetransient': ('1dbtetransient_dev',), '1dchainmd': ('1dchainmd_dev', '1dchainmd_r13', '1dchainmd_r15'), '1dfdmht': ('1dfdmht_dev', '1dfdmht_r24', '1dfdmht_r26', '1dfdmht_r28'), '1dfs': ('1dfs_dev',), '1dhetero': ('1dhetero_dev', '1dhetero_r10', '1dhetero_r13', '1dhetero_r14', '1dhetero_r298', '1dhetero_r299', '1dhetero_r30', '1dhetero_r301', '1dhetero_r303', '1dhetero_r309', '1dhetero_r531', '1dhetero_r532', '1dhetero_r540', '1dhetero_r600', '1dhetero_r689', '1dhetero_r694', '1dhetero_r733', '1dhetero_r739', '1dhetero_r740', '1dhetero_r742'), '1dmd': ('1dmd_dev',), '1dnegf': ('1dnegf_dev',), '1doscillationla': ('1doscillationla_dev',), '1dphononbte': ('1dphononbte_dev', '1dphononbte_r5', '1dphononbte_r9'), '1sl': ('1sl_dev',), '2daiperc': ('2daiperc_dev',), '2degpot': ('2degpot_dev',), '2dfet': ('2dfet_dev',), '2dfets': ('2dfets_dev', '2dfets_r10', '2dfets_r8'), '2dmatstacks': ('2dmatstacks_dev', '2dmatstacks_r33', '2dmatstacks_r36'), '2dreflect': ('2dreflect_dev', '2dreflect_r29', '2dreflect_r44'), '2ds': ('2ds', '2ds_dev'), '2wth': ('2wth_dev',), '3datomsmodel': ('3datomsmodel_dev',), '3dmatopt': ('3dmatopt_dev', '3dmatopt_r27'), '3drftsv': ('3drftsv_dev',), 'Mynewtool': ('Mynewtool_dev',), 'WTND': ('WTND_dev',), 'abacus': ('abacus_dev', 'abacus_r11', 'abacus_r14', 'abacus_r15', 'abacus_r22', 'abacus_r23', 'abacus_r25', 'abacus_r28', 'abacus_r31', 'abacus_r36', 'abacus_r8'), 'abase': ('abase_dev', 'abase_r6', 'abase_r8', 'abase_r9'), 'abdullah': ('abdullah_dev',), 'abinit': ('abinit', 'abinit_dev', 'abinit_r100', 'abinit_r103', 'abinit_r104', 'abinit_r105', 'abinit_r108', 'abinit_r109', 'abinit_r110', 'abinit_r111', 'abinit_r112', 'abinit_r114', 'abinit_r116', 'abinit_r118', 'abinit_r120', 'abinit_r121', 'abinit_r127', 'abinit_r130', 'abinit_r134', 'abinit_r135', 'abinit_r136', 'abinit_r137', 'abinit_r140', 'abinit_r147', 'abinit_r151', 'abinit_r152', 'abinit_r153', 'abinit_r154', 'abinit_r158', 'abinit_r159', 'abinit_r98'), 'abrm': ('abrm_dev',), 'aci': ('aci_dev',), 'acmenpds': ('acmenpds_dev', 'acmenpds_r41', 'acmenpds_r43', 'acmenpds_r44', 'acmenpds_r46', 'acmenpds_r49', 'acmenpds_r51'), 'acsa': ('acsa_dev',), 'acteomdb': ('acteomdb_dev', 'acteomdb_r5'), 'activelearning': ('activelearning_dev', 'activelearning_r4'), 'activemeltheas': ('activemeltheas_dev',), 'acute': ('acute_dev', 'acute_r5', 'acute_r9'), 'adac': ('adac_dev', 'adac_r1016', 'adac_r1027', 'adac_r103', 'adac_r1067', 'adac_r1072', 'adac_r1107', 'adac_r1119', 'adac_r117', 'adac_r296', 'adac_r303', 'adac_r328', 'adac_r481', 'adac_r514', 'adac_r519', 'adac_r524', 'adac_r551', 'adac_r596', 'adac_r600', 'adac_r607', 'adac_r653', 'adac_r682', 'adac_r723', 'adac_r726', 'adac_r737', 'adac_r738', 'adac_r774', 'adac_r794', 'adac_r799', 'adac_r823', 'adac_r906', 'adac_r912', 'adac_r921', 'adac_r951', 'adac_r994'), 'adept': ('adept', 'adept_dev', 'adept_r16', 'adept_r32'), 'adeptnpt': ('adeptnpt_dev', 'adeptnpt_r134', 'adeptnpt_r138', 'adeptnpt_r151', 'adeptnpt_r18', 'adeptnpt_r20', 'adeptnpt_r22', 'adeptnpt_r24', 'adeptnpt_r25', 'adeptnpt_r27', 'adeptnpt_r30', 'adeptnpt_r65', 'adeptnpt_r67', 'adeptnpt_r96', 'adeptnpt_r98'), 'adriene': ('adriene_dev',), 'adrienne': ('adrienne_dev',), 'ads2009': ('ads2009_dev',), 'adsorbit': ('adsorbit_dev',), 'adspr': ('adspr_dev',), 'advmemristor': ('advmemristor_dev',), 'advqdlab': ('advqdlab_dev',), 'advte': ('advte_dev', 'advte_r15'), 'aeneas': ('aeneas_dev',), 'afm': ('afm_dev', 'afm_r12', 'afm_r7'), 'afmfcanalysis': ('afmfcanalysis_dev',), 'aforce': ('aforce_dev',), 'aftestname': ('aftestname_dev',), 'agingmodel': ('agingmodel_dev',), 'agpvsim': ('agpvsim_dev', 'agpvsim_r37', 'agpvsim_r38', 'agpvsim_r41'), 'agropvsim': ('agropvsim_dev',), 'ahpull': ('ahpull_dev', 'ahpull_r25', 'ahpull_r27'), 'aiperc': ('aiperc_dev',), 'alissatesttool': ('alissatesttool_dev',), 'alphakconvnet': ('alphakconvnet_dev',), 'alphaknet': ('alphaknet_dev',), 'amidespec': ('amidespec_dev', 'amidespec_r6'), 'amobt': ('amobt_dev', 'amobt_r29', 'amobt_r31', 'amobt_r32', 'amobt_r33', 'amobt_r35', 'amobt_r37', 'amobt_r38', 'amobt_r39', 'amobt_r42', 'amobt_r46', 'amobt_r48', 'amobt_r49', 'amobt_r51'), 'anaconda': ('anaconda_dev',), 'anashousbane': ('anashousbane_dev',), 'angel': ('angel_dev', 'angel_r41', 'angel_r50'), 'angiogencc3d': ('angiogencc3d_dev', 'angiogencc3d_r11', 'angiogencc3d_r12', 'angiogencc3d_r5', 'angiogencc3d_r8'), 'anngraph': ('anngraph_dev', 'anngraph_r36'), 'annihilate': ('annihilate_dev', 'annihilate_r24', 'annihilate_r27', 'annihilate_r28'), 'annviz': ('annviz_dev',), 'ansys': ('ansys', 'ansys_dev'), 'antibacterial': ('antibacterial_dev', 'antibacterial_r5', 'antibacterial_r7'), 'antiresist': ('antiresist_dev',), 'antsy': ('antsy_dev', 'antsy_r11', 'antsy_r13', 'antsy_r15', 'antsy_r7', 'antsy_r9'), 'appapi': ('appapi_dev',), 'apu': ('apu_dev',), 'aqme': ('aqme_dev', 'aqme_r11', 'aqme_r14', 'aqme_r6', 'aqme_r8', 'aqme_r9'), 'arbd': ('arbd_dev', 'arbd_r13'), 'archimedes': ('archimedes_dev', 'archimedes_r17', 'archimedes_r22', 'archimedes_r47', 'archimedes_r61', 'archimedes_r68', 'archimedes_r71'), 'arraypmod': ('arraypmod_dev',), 'aru': ('aru_dev',), 'asdasdasdasdasd': ('asdasdasdasdasd_dev',), 'ase': ('ase_dev',), 'asegui': ('asegui_dev',), 'asetool': ('asetool_dev',), 'asilicon': ('asilicon_dev', 'asilicon_r15', 'asilicon_r22', 'asilicon_r24'), 'astarspin': ('astarspin_dev',), 'asts': ('asts_dev', 'asts_r3', 'asts_r8'), 'asynchup': ('asynchup_dev', 'asynchup_r10', 'asynchup_r12', 'asynchup_r7'), 'atcadlab': ('atcadlab_dev', 'atcadlab_r11', 'atcadlab_r13', 'atcadlab_r15', 'atcadlab_r9'), 'atomicstructure': ('atomicstructure_dev',), 'aurora': ('aurora_dev',), 'autonomousrobot': ('autonomousrobot_dev',), 'avalanche': ('avalanche_dev', 'avalanche_r13'), 'avasctum': ('avasctum_dev',), 'avoidlearn': ('avoidlearn_dev', 'avoidlearn_r11', 'avoidlearn_r14', 'avoidlearn_r16', 'avoidlearn_r17'), 'avoidlearncall': ('avoidlearncall_dev', 'avoidlearncall_r3', 'avoidlearncall_r6', 'avoidlearncall_r8', 'avoidlearncall_r9'), 'backproptrain': ('backproptrain_dev',), 'bacmacrocc3d4': ('bacmacrocc3d4_dev', 'bacmacrocc3d4_r4', 'bacmacrocc3d4_r5', 'bacmacrocc3d4_r6', 'bacmacrocc3d4_r9'), 'banddiagcalcul8': ('banddiagcalcul8_dev',), ...}\n"
     ]
    }
   ],
   "source": [
    "print(grouped_tools)"
   ]
  },
  {
   "cell_type": "code",
   "execution_count": 21,
   "id": "20fea4da",
   "metadata": {
    "execution": {
     "iopub.execute_input": "2021-08-26T04:11:04.831632Z",
     "iopub.status.busy": "2021-08-26T04:11:04.830626Z",
     "iopub.status.idle": "2021-08-26T04:11:04.834223Z",
     "shell.execute_reply": "2021-08-26T04:11:04.834757Z"
    },
    "jupyter": {
     "source_hidden": true
    },
    "papermill": {
     "duration": 0.119464,
     "end_time": "2021-08-26T04:11:04.834973",
     "exception": false,
     "start_time": "2021-08-26T04:11:04.715509",
     "status": "completed"
    },
    "tags": []
   },
   "outputs": [
    {
     "name": "stdout",
     "output_type": "stream",
     "text": [
      "1dbtetransient\n",
      "('1dbtetransient_dev',)\n"
     ]
    }
   ],
   "source": [
    "print(list(grouped_tools.keys())[2])\n",
    "print(grouped_tools[list(grouped_tools.keys())[2]])"
   ]
  },
  {
   "cell_type": "code",
   "execution_count": 22,
   "id": "d5ef8e1d",
   "metadata": {
    "execution": {
     "iopub.execute_input": "2021-08-26T04:11:05.048603Z",
     "iopub.status.busy": "2021-08-26T04:11:05.047964Z",
     "iopub.status.idle": "2021-08-26T04:11:12.177670Z",
     "shell.execute_reply": "2021-08-26T04:11:12.178260Z"
    },
    "jupyter": {
     "source_hidden": true
    },
    "papermill": {
     "duration": 7.238227,
     "end_time": "2021-08-26T04:11:12.178470",
     "exception": false,
     "start_time": "2021-08-26T04:11:04.940243",
     "status": "completed"
    },
    "tags": []
   },
   "outputs": [
    {
     "name": "stdout",
     "output_type": "stream",
     "text": [
      "112016a\n",
      "('112016a_dev',)\n"
     ]
    },
    {
     "data": {
      "text/html": [
       "<div>\n",
       "<style scoped>\n",
       "    .dataframe tbody tr th:only-of-type {\n",
       "        vertical-align: middle;\n",
       "    }\n",
       "\n",
       "    .dataframe tbody tr th {\n",
       "        vertical-align: top;\n",
       "    }\n",
       "\n",
       "    .dataframe thead th {\n",
       "        text-align: right;\n",
       "    }\n",
       "</style>\n",
       "<table border=\"1\" class=\"dataframe\">\n",
       "  <thead>\n",
       "    <tr style=\"text-align: right;\">\n",
       "      <th></th>\n",
       "      <th>count(user)</th>\n",
       "    </tr>\n",
       "  </thead>\n",
       "  <tbody>\n",
       "    <tr>\n",
       "      <th>0</th>\n",
       "      <td>1831</td>\n",
       "    </tr>\n",
       "  </tbody>\n",
       "</table>\n",
       "</div>"
      ],
      "text/plain": [
       "   count(user)\n",
       "0         1831"
      ]
     },
     "metadata": {},
     "output_type": "display_data"
    }
   ],
   "source": [
    "## Run a separate query for each grouped tool\n",
    "for key in list(grouped_tools.keys())[1:2]:\n",
    "    print(key)\n",
    "    print(grouped_tools[key])\n",
    "    t_sql_tspec = \"select count(user) from nanohub_metrics.toolstart where tool in \" +\"('1dphononbte_dev', '1dphononbte_r5', '1dphononbte_r9')\"+\";\" #temp sql tool specific\n",
    "    t_r_df = pd.read_sql_query(t_sql_tspec,nanohub_metrics_db)\n",
    "    display(t_r_df.head(5))"
   ]
  },
  {
   "cell_type": "code",
   "execution_count": 23,
   "id": "f7f01d52",
   "metadata": {
    "execution": {
     "iopub.execute_input": "2021-08-26T04:11:12.417268Z",
     "iopub.status.busy": "2021-08-26T04:11:12.416655Z",
     "iopub.status.idle": "2021-08-26T04:11:12.419760Z",
     "shell.execute_reply": "2021-08-26T04:11:12.420284Z"
    },
    "jupyter": {
     "source_hidden": true
    },
    "papermill": {
     "duration": 0.128553,
     "end_time": "2021-08-26T04:11:12.420465",
     "exception": false,
     "start_time": "2021-08-26T04:11:12.291912",
     "status": "completed"
    },
    "tags": []
   },
   "outputs": [
    {
     "data": {
      "text/plain": [
       "(1, 1)"
      ]
     },
     "execution_count": 23,
     "metadata": {},
     "output_type": "execute_result"
    }
   ],
   "source": [
    "t_r_df.shape"
   ]
  },
  {
   "cell_type": "code",
   "execution_count": null,
   "id": "2784429d",
   "metadata": {
    "jupyter": {
     "source_hidden": true
    },
    "papermill": {
     "duration": 0.116586,
     "end_time": "2021-08-26T04:11:12.656238",
     "exception": false,
     "start_time": "2021-08-26T04:11:12.539652",
     "status": "completed"
    },
    "tags": []
   },
   "outputs": [],
   "source": []
  },
  {
   "cell_type": "code",
   "execution_count": null,
   "id": "7e91b7b6",
   "metadata": {
    "jupyter": {
     "source_hidden": true
    },
    "papermill": {
     "duration": 0.117078,
     "end_time": "2021-08-26T04:11:12.885715",
     "exception": false,
     "start_time": "2021-08-26T04:11:12.768637",
     "status": "completed"
    },
    "tags": []
   },
   "outputs": [],
   "source": []
  },
  {
   "cell_type": "code",
   "execution_count": null,
   "id": "f6a7502a",
   "metadata": {
    "jupyter": {
     "source_hidden": true
    },
    "papermill": {
     "duration": 0.110593,
     "end_time": "2021-08-26T04:11:13.114102",
     "exception": false,
     "start_time": "2021-08-26T04:11:13.003509",
     "status": "completed"
    },
    "tags": []
   },
   "outputs": [],
   "source": []
  },
  {
   "cell_type": "code",
   "execution_count": 24,
   "id": "c27d0872",
   "metadata": {
    "execution": {
     "iopub.execute_input": "2021-08-26T04:11:13.361675Z",
     "iopub.status.busy": "2021-08-26T04:11:13.360965Z",
     "iopub.status.idle": "2021-08-26T04:19:27.028425Z",
     "shell.execute_reply": "2021-08-26T04:19:27.028889Z"
    },
    "jupyter": {
     "source_hidden": true
    },
    "papermill": {
     "duration": 493.790276,
     "end_time": "2021-08-26T04:19:27.029114",
     "exception": false,
     "start_time": "2021-08-26T04:11:13.238838",
     "status": "completed"
    },
    "tags": []
   },
   "outputs": [],
   "source": [
    "# Lifetime usage count\n",
    "sql_query = \"select v.toolname, count(*) as total, count(distinct t.user) as user_total from nanohub_metrics.toolstart as t \\\n",
    "inner join nanohub.jos_tool_version as v \\\n",
    "on v.instance = t.tool \\\n",
    "where t.user not in ('instanton', 'gridstat')\\\n",
    "group by v.toolname\"\n",
    "\n",
    "toolstart_lifetime_df = pd.read_sql_query(sql_query, nanohub_metrics_db)\n",
    "\n",
    "# last year usage count\n",
    "sql_query = \"select v.toolname, count(*) as total, count(distinct t.user) as user_total from nanohub_metrics.toolstart as t \\\n",
    "inner join nanohub.jos_tool_version as v \\\n",
    "on v.instance = t.tool \\\n",
    "where t.user not in ('instanton', 'gridstat') and t.datetime >= '%s'\\\n",
    "group by v.toolname\" % (datetime.datetime.now()-datetime.timedelta(days=365)).strftime('%Y-%m-%d')\n",
    "\n",
    "toolstart_last_year_df = pd.read_sql_query(sql_query, nanohub_metrics_db)\n",
    "\n",
    "# last 3-month usage count\n",
    "sql_query = \"select v.toolname, count(*) as total, count(distinct t.user) as user_total from nanohub_metrics.toolstart as t \\\n",
    "inner join nanohub.jos_tool_version as v \\\n",
    "on v.instance = t.tool \\\n",
    "where t.user not in ('instanton', 'gridstat') and t.datetime >= '%s'\\\n",
    "group by v.toolname\" % (datetime.datetime.now()-datetime.timedelta(days=90)).strftime('%Y-%m-%d')\n",
    "\n",
    "toolstart_last_3_month_df = pd.read_sql_query(sql_query, nanohub_metrics_db)\n",
    "\n",
    "# last month usage count\n",
    "sql_query = \"select v.toolname, count(*) as total, count(distinct t.user) as user_total from nanohub_metrics.toolstart as t \\\n",
    "inner join nanohub.jos_tool_version as v \\\n",
    "on v.instance = t.tool \\\n",
    "where t.user not in ('instanton', 'gridstat') and t.datetime >= '%s'\\\n",
    "group by v.toolname\" % (datetime.datetime.now()-datetime.timedelta(days=30)).strftime('%Y-%m-%d')\n",
    "\n",
    "toolstart_last_month_df = pd.read_sql_query(sql_query, nanohub_metrics_db)\n",
    "\n",
    "# last week usage count\n",
    "sql_query = \"select v.toolname, count(*) as total, count(distinct t.user) as user_total from nanohub_metrics.toolstart as t \\\n",
    "inner join nanohub.jos_tool_version as v \\\n",
    "on v.instance = t.tool \\\n",
    "where t.user not in ('instanton', 'gridstat') and t.datetime >= '%s'\\\n",
    "group by v.toolname\" % (datetime.datetime.now()-datetime.timedelta(days=7)).strftime('%Y-%m-%d')\n",
    "\n",
    "toolstart_last_week_df = pd.read_sql_query(sql_query, nanohub_metrics_db)\n",
    "\n",
    "# last 24 hours usage count\n",
    "sql_query = \"select v.toolname, count(*) as total, count(distinct t.user) as user_total from nanohub_metrics.toolstart as t \\\n",
    "inner join nanohub.jos_tool_version as v \\\n",
    "on v.instance = t.tool \\\n",
    "where t.user not in ('instanton', 'gridstat') and t.datetime >= '%s'\\\n",
    "group by v.toolname\" % (datetime.datetime.now()-datetime.timedelta(days=1)).strftime('%Y-%m-%d')\n",
    "\n",
    "toolstart_last_24_hours_df = pd.read_sql_query(sql_query, nanohub_metrics_db)"
   ]
  },
  {
   "cell_type": "code",
   "execution_count": 25,
   "id": "8512a7f2",
   "metadata": {
    "execution": {
     "iopub.execute_input": "2021-08-26T04:19:27.382852Z",
     "iopub.status.busy": "2021-08-26T04:19:27.381338Z",
     "iopub.status.idle": "2021-08-26T04:19:27.387090Z",
     "shell.execute_reply": "2021-08-26T04:19:27.387865Z"
    },
    "jupyter": {
     "source_hidden": true
    },
    "papermill": {
     "duration": 0.175968,
     "end_time": "2021-08-26T04:19:27.388077",
     "exception": false,
     "start_time": "2021-08-26T04:19:27.212109",
     "status": "completed"
    },
    "tags": []
   },
   "outputs": [
    {
     "data": {
      "text/html": [
       "<div>\n",
       "<style scoped>\n",
       "    .dataframe tbody tr th:only-of-type {\n",
       "        vertical-align: middle;\n",
       "    }\n",
       "\n",
       "    .dataframe tbody tr th {\n",
       "        vertical-align: top;\n",
       "    }\n",
       "\n",
       "    .dataframe thead th {\n",
       "        text-align: right;\n",
       "    }\n",
       "</style>\n",
       "<table border=\"1\" class=\"dataframe\">\n",
       "  <thead>\n",
       "    <tr style=\"text-align: right;\">\n",
       "      <th></th>\n",
       "      <th>toolname</th>\n",
       "      <th>total</th>\n",
       "      <th>user_total</th>\n",
       "    </tr>\n",
       "  </thead>\n",
       "  <tbody>\n",
       "    <tr>\n",
       "      <th>0</th>\n",
       "      <td>1dchainmd</td>\n",
       "      <td>175</td>\n",
       "      <td>65</td>\n",
       "    </tr>\n",
       "    <tr>\n",
       "      <th>1</th>\n",
       "      <td>1dfdmht</td>\n",
       "      <td>407</td>\n",
       "      <td>93</td>\n",
       "    </tr>\n",
       "  </tbody>\n",
       "</table>\n",
       "</div>"
      ],
      "text/plain": [
       "    toolname  total  user_total\n",
       "0  1dchainmd    175          65\n",
       "1    1dfdmht    407          93"
      ]
     },
     "execution_count": 25,
     "metadata": {},
     "output_type": "execute_result"
    }
   ],
   "source": [
    "# display\n",
    "toolstart_last_year_df.head(2)"
   ]
  },
  {
   "cell_type": "code",
   "execution_count": 26,
   "id": "aab95146",
   "metadata": {
    "execution": {
     "iopub.execute_input": "2021-08-26T04:19:27.848520Z",
     "iopub.status.busy": "2021-08-26T04:19:27.846875Z",
     "iopub.status.idle": "2021-08-26T04:19:27.892307Z",
     "shell.execute_reply": "2021-08-26T04:19:27.892914Z"
    },
    "jupyter": {
     "source_hidden": true
    },
    "papermill": {
     "duration": 0.284392,
     "end_time": "2021-08-26T04:19:27.893280",
     "exception": false,
     "start_time": "2021-08-26T04:19:27.608888",
     "status": "completed"
    },
    "tags": []
   },
   "outputs": [
    {
     "data": {
      "text/html": [
       "<div>\n",
       "<style scoped>\n",
       "    .dataframe tbody tr th:only-of-type {\n",
       "        vertical-align: middle;\n",
       "    }\n",
       "\n",
       "    .dataframe tbody tr th {\n",
       "        vertical-align: top;\n",
       "    }\n",
       "\n",
       "    .dataframe thead th {\n",
       "        text-align: right;\n",
       "    }\n",
       "</style>\n",
       "<table border=\"1\" class=\"dataframe\">\n",
       "  <thead>\n",
       "    <tr style=\"text-align: right;\">\n",
       "      <th></th>\n",
       "      <th>0</th>\n",
       "      <th>1</th>\n",
       "      <th>2</th>\n",
       "      <th>3</th>\n",
       "      <th>4</th>\n",
       "    </tr>\n",
       "  </thead>\n",
       "  <tbody>\n",
       "    <tr>\n",
       "      <th>toolname</th>\n",
       "      <td>matlab</td>\n",
       "      <td>octave</td>\n",
       "      <td>gamess</td>\n",
       "      <td>rebo</td>\n",
       "      <td>ellipsom</td>\n",
       "    </tr>\n",
       "    <tr>\n",
       "      <th>title</th>\n",
       "      <td>Matlab</td>\n",
       "      <td>Octave</td>\n",
       "      <td>GAMESS</td>\n",
       "      <td>REBO-1</td>\n",
       "      <td>title-ellipsom</td>\n",
       "    </tr>\n",
       "    <tr>\n",
       "      <th>published</th>\n",
       "      <td>0</td>\n",
       "      <td>0</td>\n",
       "      <td>0</td>\n",
       "      <td>0</td>\n",
       "      <td>0</td>\n",
       "    </tr>\n",
       "    <tr>\n",
       "      <th>registered</th>\n",
       "      <td>2000-10-02 02:34:37</td>\n",
       "      <td>2001-04-04 19:03:01</td>\n",
       "      <td>2003-01-15 15:41:22</td>\n",
       "      <td>2003-05-08 00:41:33</td>\n",
       "      <td>2005-03-05 03:02:47</td>\n",
       "    </tr>\n",
       "    <tr>\n",
       "      <th>Total_runs_over_lifetime</th>\n",
       "      <td>3470.0</td>\n",
       "      <td>59.0</td>\n",
       "      <td>2415.0</td>\n",
       "      <td>291.0</td>\n",
       "      <td>NaN</td>\n",
       "    </tr>\n",
       "    <tr>\n",
       "      <th>Total_users_over_lifetime</th>\n",
       "      <td>162.0</td>\n",
       "      <td>30.0</td>\n",
       "      <td>101.0</td>\n",
       "      <td>42.0</td>\n",
       "      <td>NaN</td>\n",
       "    </tr>\n",
       "    <tr>\n",
       "      <th>Total_runs_last_year</th>\n",
       "      <td>NaN</td>\n",
       "      <td>NaN</td>\n",
       "      <td>NaN</td>\n",
       "      <td>NaN</td>\n",
       "      <td>NaN</td>\n",
       "    </tr>\n",
       "    <tr>\n",
       "      <th>Total_users_last_year</th>\n",
       "      <td>NaN</td>\n",
       "      <td>NaN</td>\n",
       "      <td>NaN</td>\n",
       "      <td>NaN</td>\n",
       "      <td>NaN</td>\n",
       "    </tr>\n",
       "    <tr>\n",
       "      <th>Total_runs_last_3_month</th>\n",
       "      <td>NaN</td>\n",
       "      <td>NaN</td>\n",
       "      <td>NaN</td>\n",
       "      <td>NaN</td>\n",
       "      <td>NaN</td>\n",
       "    </tr>\n",
       "    <tr>\n",
       "      <th>Total_users_last_3_month</th>\n",
       "      <td>NaN</td>\n",
       "      <td>NaN</td>\n",
       "      <td>NaN</td>\n",
       "      <td>NaN</td>\n",
       "      <td>NaN</td>\n",
       "    </tr>\n",
       "    <tr>\n",
       "      <th>Total_runs_last_month</th>\n",
       "      <td>NaN</td>\n",
       "      <td>NaN</td>\n",
       "      <td>NaN</td>\n",
       "      <td>NaN</td>\n",
       "      <td>NaN</td>\n",
       "    </tr>\n",
       "    <tr>\n",
       "      <th>Total_users_last_month</th>\n",
       "      <td>NaN</td>\n",
       "      <td>NaN</td>\n",
       "      <td>NaN</td>\n",
       "      <td>NaN</td>\n",
       "      <td>NaN</td>\n",
       "    </tr>\n",
       "    <tr>\n",
       "      <th>Total_runs_last_week</th>\n",
       "      <td>NaN</td>\n",
       "      <td>NaN</td>\n",
       "      <td>NaN</td>\n",
       "      <td>NaN</td>\n",
       "      <td>NaN</td>\n",
       "    </tr>\n",
       "    <tr>\n",
       "      <th>Total_users_last_week</th>\n",
       "      <td>NaN</td>\n",
       "      <td>NaN</td>\n",
       "      <td>NaN</td>\n",
       "      <td>NaN</td>\n",
       "      <td>NaN</td>\n",
       "    </tr>\n",
       "    <tr>\n",
       "      <th>Total_runs_last_24_hours</th>\n",
       "      <td>NaN</td>\n",
       "      <td>NaN</td>\n",
       "      <td>NaN</td>\n",
       "      <td>NaN</td>\n",
       "      <td>NaN</td>\n",
       "    </tr>\n",
       "    <tr>\n",
       "      <th>Total_users_last_24_hours</th>\n",
       "      <td>NaN</td>\n",
       "      <td>NaN</td>\n",
       "      <td>NaN</td>\n",
       "      <td>NaN</td>\n",
       "      <td>NaN</td>\n",
       "    </tr>\n",
       "  </tbody>\n",
       "</table>\n",
       "</div>"
      ],
      "text/plain": [
       "                                             0                    1  \\\n",
       "toolname                                matlab               octave   \n",
       "title                                   Matlab               Octave   \n",
       "published                                    0                    0   \n",
       "registered                 2000-10-02 02:34:37  2001-04-04 19:03:01   \n",
       "Total_runs_over_lifetime                3470.0                 59.0   \n",
       "Total_users_over_lifetime                162.0                 30.0   \n",
       "Total_runs_last_year                       NaN                  NaN   \n",
       "Total_users_last_year                      NaN                  NaN   \n",
       "Total_runs_last_3_month                    NaN                  NaN   \n",
       "Total_users_last_3_month                   NaN                  NaN   \n",
       "Total_runs_last_month                      NaN                  NaN   \n",
       "Total_users_last_month                     NaN                  NaN   \n",
       "Total_runs_last_week                       NaN                  NaN   \n",
       "Total_users_last_week                      NaN                  NaN   \n",
       "Total_runs_last_24_hours                   NaN                  NaN   \n",
       "Total_users_last_24_hours                  NaN                  NaN   \n",
       "\n",
       "                                             2                    3  \\\n",
       "toolname                                gamess                 rebo   \n",
       "title                                   GAMESS               REBO-1   \n",
       "published                                    0                    0   \n",
       "registered                 2003-01-15 15:41:22  2003-05-08 00:41:33   \n",
       "Total_runs_over_lifetime                2415.0                291.0   \n",
       "Total_users_over_lifetime                101.0                 42.0   \n",
       "Total_runs_last_year                       NaN                  NaN   \n",
       "Total_users_last_year                      NaN                  NaN   \n",
       "Total_runs_last_3_month                    NaN                  NaN   \n",
       "Total_users_last_3_month                   NaN                  NaN   \n",
       "Total_runs_last_month                      NaN                  NaN   \n",
       "Total_users_last_month                     NaN                  NaN   \n",
       "Total_runs_last_week                       NaN                  NaN   \n",
       "Total_users_last_week                      NaN                  NaN   \n",
       "Total_runs_last_24_hours                   NaN                  NaN   \n",
       "Total_users_last_24_hours                  NaN                  NaN   \n",
       "\n",
       "                                             4  \n",
       "toolname                              ellipsom  \n",
       "title                           title-ellipsom  \n",
       "published                                    0  \n",
       "registered                 2005-03-05 03:02:47  \n",
       "Total_runs_over_lifetime                   NaN  \n",
       "Total_users_over_lifetime                  NaN  \n",
       "Total_runs_last_year                       NaN  \n",
       "Total_users_last_year                      NaN  \n",
       "Total_runs_last_3_month                    NaN  \n",
       "Total_users_last_3_month                   NaN  \n",
       "Total_runs_last_month                      NaN  \n",
       "Total_users_last_month                     NaN  \n",
       "Total_runs_last_week                       NaN  \n",
       "Total_users_last_week                      NaN  \n",
       "Total_runs_last_24_hours                   NaN  \n",
       "Total_users_last_24_hours                  NaN  "
      ]
     },
     "execution_count": 26,
     "metadata": {},
     "output_type": "execute_result"
    }
   ],
   "source": [
    "# insert user and run stats into df\n",
    "all_df = df.copy()\n",
    "\n",
    "all_df = pd.merge(all_df, toolstart_lifetime_df.rename(columns={\\\n",
    "                                                                'total':        'Total_runs_over_lifetime',\n",
    "                                                                'user_total':'Total_users_over_lifetime'}\\\n",
    "                                                      ), how='left', left_on='toolname', right_on='toolname')\n",
    "all_df = pd.merge(all_df, toolstart_last_year_df.rename(columns={\\\n",
    "                                                                'total':        'Total_runs_last_year',\n",
    "                                                                'user_total':'Total_users_last_year'}\\\n",
    "                                                      ), how='left', left_on='toolname', right_on='toolname')\n",
    "all_df = pd.merge(all_df, toolstart_last_3_month_df.rename(columns={\\\n",
    "                                                                'total':        'Total_runs_last_3_month',\n",
    "                                                                'user_total':'Total_users_last_3_month'}\\\n",
    "                                                      ), how='left', left_on='toolname', right_on='toolname')\n",
    "all_df = pd.merge(all_df, toolstart_last_month_df.rename(columns={\\\n",
    "                                                                'total':        'Total_runs_last_month',\n",
    "                                                                'user_total':'Total_users_last_month'}\\\n",
    "                                                      ), how='left', left_on='toolname', right_on='toolname')\n",
    "all_df = pd.merge(all_df, toolstart_last_week_df.rename(columns={\\\n",
    "                                                                'total':        'Total_runs_last_week',\n",
    "                                                                'user_total':'Total_users_last_week'}\\\n",
    "                                                      ), how='left', left_on='toolname', right_on='toolname')\n",
    "all_df = pd.merge(all_df, toolstart_last_24_hours_df.rename(columns={\\\n",
    "                                                                'total':        'Total_runs_last_24_hours',\n",
    "                                                                'user_total':'Total_users_last_24_hours'}\\\n",
    "                                                      ), how='left', left_on='toolname', right_on='toolname')\n",
    "\n",
    "# display\n",
    "all_df.head(5).T"
   ]
  },
  {
   "cell_type": "markdown",
   "id": "32cc2dff",
   "metadata": {
    "papermill": {
     "duration": 0.185258,
     "end_time": "2021-08-26T04:19:28.272018",
     "exception": false,
     "start_time": "2021-08-26T04:19:28.086760",
     "status": "completed"
    },
    "tags": []
   },
   "source": [
    "## Match data with Salesforce format"
   ]
  },
  {
   "cell_type": "code",
   "execution_count": 27,
   "id": "8b536a42",
   "metadata": {
    "execution": {
     "iopub.execute_input": "2021-08-26T04:19:28.630694Z",
     "iopub.status.busy": "2021-08-26T04:19:28.619542Z",
     "iopub.status.idle": "2021-08-26T04:19:28.649658Z",
     "shell.execute_reply": "2021-08-26T04:19:28.650071Z"
    },
    "jupyter": {
     "source_hidden": true
    },
    "papermill": {
     "duration": 0.197847,
     "end_time": "2021-08-26T04:19:28.650243",
     "exception": false,
     "start_time": "2021-08-26T04:19:28.452396",
     "status": "completed"
    },
    "tags": []
   },
   "outputs": [
    {
     "data": {
      "text/html": [
       "<div>\n",
       "<style scoped>\n",
       "    .dataframe tbody tr th:only-of-type {\n",
       "        vertical-align: middle;\n",
       "    }\n",
       "\n",
       "    .dataframe tbody tr th {\n",
       "        vertical-align: top;\n",
       "    }\n",
       "\n",
       "    .dataframe thead th {\n",
       "        text-align: right;\n",
       "    }\n",
       "</style>\n",
       "<table border=\"1\" class=\"dataframe\">\n",
       "  <thead>\n",
       "    <tr style=\"text-align: right;\">\n",
       "      <th></th>\n",
       "      <th>0</th>\n",
       "      <th>1</th>\n",
       "    </tr>\n",
       "  </thead>\n",
       "  <tbody>\n",
       "    <tr>\n",
       "      <th>Name</th>\n",
       "      <td>Matlab</td>\n",
       "      <td>Octave</td>\n",
       "    </tr>\n",
       "    <tr>\n",
       "      <th>Tool_name__c</th>\n",
       "      <td>matlab</td>\n",
       "      <td>octave</td>\n",
       "    </tr>\n",
       "    <tr>\n",
       "      <th>Tool_URL__c</th>\n",
       "      <td>https://nanohub.org/tools/matlab</td>\n",
       "      <td>https://nanohub.org/tools/octave</td>\n",
       "    </tr>\n",
       "    <tr>\n",
       "      <th>Published__c</th>\n",
       "      <td>0</td>\n",
       "      <td>0</td>\n",
       "    </tr>\n",
       "    <tr>\n",
       "      <th>Total_runs_over_lifetime__c</th>\n",
       "      <td>3470.0</td>\n",
       "      <td>59.0</td>\n",
       "    </tr>\n",
       "    <tr>\n",
       "      <th>Total_runs_last_year__c</th>\n",
       "      <td>0.0</td>\n",
       "      <td>0.0</td>\n",
       "    </tr>\n",
       "    <tr>\n",
       "      <th>Total_runs_last_3_month__c</th>\n",
       "      <td>0.0</td>\n",
       "      <td>0.0</td>\n",
       "    </tr>\n",
       "    <tr>\n",
       "      <th>Total_runs_last_month__c</th>\n",
       "      <td>0.0</td>\n",
       "      <td>0.0</td>\n",
       "    </tr>\n",
       "    <tr>\n",
       "      <th>Total_runs_last_week__c</th>\n",
       "      <td>0.0</td>\n",
       "      <td>0.0</td>\n",
       "    </tr>\n",
       "    <tr>\n",
       "      <th>Total_runs_last_24_hours__c</th>\n",
       "      <td>0.0</td>\n",
       "      <td>0.0</td>\n",
       "    </tr>\n",
       "    <tr>\n",
       "      <th>Total_users_over_lifetime__c</th>\n",
       "      <td>162.0</td>\n",
       "      <td>30.0</td>\n",
       "    </tr>\n",
       "    <tr>\n",
       "      <th>Total_users_last_year__c</th>\n",
       "      <td>0.0</td>\n",
       "      <td>0.0</td>\n",
       "    </tr>\n",
       "    <tr>\n",
       "      <th>Total_users_last_3_month__c</th>\n",
       "      <td>0.0</td>\n",
       "      <td>0.0</td>\n",
       "    </tr>\n",
       "    <tr>\n",
       "      <th>Total_users_last_month__c</th>\n",
       "      <td>0.0</td>\n",
       "      <td>0.0</td>\n",
       "    </tr>\n",
       "    <tr>\n",
       "      <th>Total_users_last_week__c</th>\n",
       "      <td>0.0</td>\n",
       "      <td>0.0</td>\n",
       "    </tr>\n",
       "    <tr>\n",
       "      <th>Total_users_last_24_hours__c</th>\n",
       "      <td>0.0</td>\n",
       "      <td>0.0</td>\n",
       "    </tr>\n",
       "    <tr>\n",
       "      <th>Creation_date__c</th>\n",
       "      <td>2000-10-02</td>\n",
       "      <td>2001-04-04</td>\n",
       "    </tr>\n",
       "  </tbody>\n",
       "</table>\n",
       "</div>"
      ],
      "text/plain": [
       "                                                             0  \\\n",
       "Name                                                    Matlab   \n",
       "Tool_name__c                                            matlab   \n",
       "Tool_URL__c                   https://nanohub.org/tools/matlab   \n",
       "Published__c                                                 0   \n",
       "Total_runs_over_lifetime__c                             3470.0   \n",
       "Total_runs_last_year__c                                    0.0   \n",
       "Total_runs_last_3_month__c                                 0.0   \n",
       "Total_runs_last_month__c                                   0.0   \n",
       "Total_runs_last_week__c                                    0.0   \n",
       "Total_runs_last_24_hours__c                                0.0   \n",
       "Total_users_over_lifetime__c                             162.0   \n",
       "Total_users_last_year__c                                   0.0   \n",
       "Total_users_last_3_month__c                                0.0   \n",
       "Total_users_last_month__c                                  0.0   \n",
       "Total_users_last_week__c                                   0.0   \n",
       "Total_users_last_24_hours__c                               0.0   \n",
       "Creation_date__c                                    2000-10-02   \n",
       "\n",
       "                                                             1  \n",
       "Name                                                    Octave  \n",
       "Tool_name__c                                            octave  \n",
       "Tool_URL__c                   https://nanohub.org/tools/octave  \n",
       "Published__c                                                 0  \n",
       "Total_runs_over_lifetime__c                               59.0  \n",
       "Total_runs_last_year__c                                    0.0  \n",
       "Total_runs_last_3_month__c                                 0.0  \n",
       "Total_runs_last_month__c                                   0.0  \n",
       "Total_runs_last_week__c                                    0.0  \n",
       "Total_runs_last_24_hours__c                                0.0  \n",
       "Total_users_over_lifetime__c                              30.0  \n",
       "Total_users_last_year__c                                   0.0  \n",
       "Total_users_last_3_month__c                                0.0  \n",
       "Total_users_last_month__c                                  0.0  \n",
       "Total_users_last_week__c                                   0.0  \n",
       "Total_users_last_24_hours__c                               0.0  \n",
       "Creation_date__c                                    2001-04-04  "
      ]
     },
     "execution_count": 27,
     "metadata": {},
     "output_type": "execute_result"
    }
   ],
   "source": [
    "df_sf = pd.DataFrame()\n",
    "\n",
    "# Make sure NaN and NaT values are taken care of here\n",
    "\n",
    "df_sf['Name']              = all_df['title']\n",
    "df_sf['Tool_name__c']  = all_df['toolname']\n",
    "df_sf['Tool_URL__c']     = all_df['toolname'].apply(lambda x: 'https://nanohub.org/tools/'+x)\n",
    "df_sf['Published__c']    = all_df['published']\n",
    "\n",
    "# stats\n",
    "df_sf['Total_runs_over_lifetime__c']  = all_df['Total_runs_over_lifetime']\n",
    "df_sf['Total_runs_last_year__c']        = all_df['Total_runs_last_year']\n",
    "df_sf['Total_runs_last_3_month__c'] = all_df['Total_runs_last_3_month']\n",
    "df_sf['Total_runs_last_month__c']     = all_df['Total_runs_last_month']\n",
    "df_sf['Total_runs_last_week__c']       = all_df['Total_runs_last_week']\n",
    "df_sf['Total_runs_last_24_hours__c'] = all_df['Total_runs_last_24_hours']\n",
    "\n",
    "df_sf['Total_users_over_lifetime__c']  = all_df['Total_users_over_lifetime']\n",
    "df_sf['Total_users_last_year__c']        = all_df['Total_users_last_year']\n",
    "df_sf['Total_users_last_3_month__c'] = all_df['Total_users_last_3_month']\n",
    "df_sf['Total_users_last_month__c']     = all_df['Total_users_last_month']\n",
    "df_sf['Total_users_last_week__c']       = all_df['Total_users_last_week']\n",
    "df_sf['Total_users_last_24_hours__c'] = all_df['Total_users_last_24_hours']\n",
    "\n",
    "# solidify time-related columns from datetime to string\n",
    "df_sf['Creation_date__c']  = all_df['registered'].dt.date.fillna('').astype('str')\n",
    "\n",
    "df_sf.fillna(0, inplace=True)\n",
    "\n",
    "sf_original_fields = df_sf.columns\n",
    "\n",
    "# display\n",
    "df_sf.head(2).T"
   ]
  },
  {
   "cell_type": "markdown",
   "id": "0e909f93",
   "metadata": {
    "papermill": {
     "duration": 0.177371,
     "end_time": "2021-08-26T04:19:28.973593",
     "exception": false,
     "start_time": "2021-08-26T04:19:28.796222",
     "status": "completed"
    },
    "tags": []
   },
   "source": [
    "## To Salesforce Sales Cloud CRM"
   ]
  },
  {
   "cell_type": "code",
   "execution_count": 28,
   "id": "5f1b7773",
   "metadata": {
    "execution": {
     "iopub.execute_input": "2021-08-26T04:19:29.295997Z",
     "iopub.status.busy": "2021-08-26T04:19:29.294617Z",
     "iopub.status.idle": "2021-08-26T04:19:29.297685Z",
     "shell.execute_reply": "2021-08-26T04:19:29.298114Z"
    },
    "jupyter": {
     "source_hidden": true
    },
    "papermill": {
     "duration": 0.162182,
     "end_time": "2021-08-26T04:19:29.298320",
     "exception": false,
     "start_time": "2021-08-26T04:19:29.136138",
     "status": "completed"
    },
    "tags": []
   },
   "outputs": [],
   "source": [
    "db_s.object_id = object_id\n",
    "db_s.external_id = external_id"
   ]
  },
  {
   "cell_type": "code",
   "execution_count": 29,
   "id": "7fc90152",
   "metadata": {
    "execution": {
     "iopub.execute_input": "2021-08-26T04:19:29.635240Z",
     "iopub.status.busy": "2021-08-26T04:19:29.634316Z",
     "iopub.status.idle": "2021-08-26T04:19:30.723995Z",
     "shell.execute_reply": "2021-08-26T04:19:30.724760Z"
    },
    "jupyter": {
     "source_hidden": true
    },
    "papermill": {
     "duration": 1.27171,
     "end_time": "2021-08-26T04:19:30.725014",
     "exception": false,
     "start_time": "2021-08-26T04:19:29.453304",
     "status": "completed"
    },
    "tags": []
   },
   "outputs": [
    {
     "name": "stdout",
     "output_type": "stream",
     "text": [
      "[Success] Bulk job creation successful. Job ID = 7505w00000ZJKxzAAH\n",
      "hello\n"
     ]
    },
    {
     "name": "stdout",
     "output_type": "stream",
     "text": [
      "[Success] CSV upload successful. Job ID = 7505w00000ZJKxzAAH\n"
     ]
    },
    {
     "name": "stdout",
     "output_type": "stream",
     "text": [
      "[Success] Closing job successful. Job ID = 7505w00000ZJKxzAAH\n"
     ]
    }
   ],
   "source": [
    "# send data to Salesforce\n",
    "db_s.send_data(df_sf)"
   ]
  },
  {
   "cell_type": "code",
   "execution_count": 30,
   "id": "bdd64153",
   "metadata": {
    "execution": {
     "iopub.execute_input": "2021-08-26T04:19:31.051831Z",
     "iopub.status.busy": "2021-08-26T04:19:31.050730Z",
     "iopub.status.idle": "2021-08-26T04:19:31.655929Z",
     "shell.execute_reply": "2021-08-26T04:19:31.656985Z"
    },
    "jupyter": {
     "source_hidden": true
    },
    "papermill": {
     "duration": 0.770004,
     "end_time": "2021-08-26T04:19:31.657416",
     "exception": false,
     "start_time": "2021-08-26T04:19:30.887412",
     "status": "completed"
    },
    "tags": []
   },
   "outputs": [
    {
     "data": {
      "text/plain": [
       "{'id': '7505w00000ZJKxzAAH',\n",
       " 'operation': 'upsert',\n",
       " 'object': 'nanoHUB_tools__c',\n",
       " 'createdById': '0055w00000DM5bOAAT',\n",
       " 'createdDate': '2021-08-26T04:19:29.000+0000',\n",
       " 'systemModstamp': '2021-08-26T04:19:30.000+0000',\n",
       " 'state': 'UploadComplete',\n",
       " 'externalIdFieldName': 'Tool_name__c',\n",
       " 'concurrencyMode': 'Parallel',\n",
       " 'contentType': 'CSV',\n",
       " 'apiVersion': 47.0,\n",
       " 'jobType': 'V2Ingest',\n",
       " 'lineEnding': 'LF',\n",
       " 'columnDelimiter': 'COMMA',\n",
       " 'numberRecordsProcessed': 0,\n",
       " 'numberRecordsFailed': 0,\n",
       " 'retries': 0,\n",
       " 'totalProcessingTime': 0,\n",
       " 'apiActiveProcessingTime': 0,\n",
       " 'apexProcessingTime': 0}"
      ]
     },
     "execution_count": 30,
     "metadata": {},
     "output_type": "execute_result"
    }
   ],
   "source": [
    "# check status\n",
    "db_s.check_bulk_status()"
   ]
  },
  {
   "cell_type": "code",
   "execution_count": null,
   "id": "50c435a6",
   "metadata": {
    "jupyter": {
     "source_hidden": true
    },
    "papermill": {
     "duration": 0.204896,
     "end_time": "2021-08-26T04:19:32.068624",
     "exception": false,
     "start_time": "2021-08-26T04:19:31.863728",
     "status": "completed"
    },
    "tags": []
   },
   "outputs": [],
   "source": []
  }
 ],
 "metadata": {
  "celltoolbar": "Tags",
  "kernelspec": {
   "display_name": "Python 3",
   "language": "python",
   "name": "python3"
  },
  "language_info": {
   "codemirror_mode": {
    "name": "ipython",
    "version": 3
   },
   "file_extension": ".py",
   "mimetype": "text/x-python",
   "name": "python",
   "nbconvert_exporter": "python",
   "pygments_lexer": "ipython3",
   "version": "3.8.2"
  },
  "papermill": {
   "duration": 519.593487,
   "end_time": "2021-08-26T04:19:32.545282",
   "environment_variables": {},
   "exception": null,
   "input_path": "nanoHUB/pipeline/salesforce/task_tool_basic_updates.ipynb",
   "output_path": "./.output/task_tool_basic_updates.ipynb",
   "parameters": {},
   "start_time": "2021-08-26T04:10:52.951795",
   "version": "2.1.1"
  }
 },
 "nbformat": 4,
 "nbformat_minor": 5
}