{
 "cells": [
  {
   "cell_type": "markdown",
   "id": "ae17bfb6",
   "metadata": {
    "papermill": {
     "duration": 0.146628,
     "end_time": "2021-09-08T02:47:10.649537",
     "exception": false,
     "start_time": "2021-09-08T02:47:10.502909",
     "status": "completed"
    },
    "tags": []
   },
   "source": [
    "# DB2-Salesforce connector: Basic user information updates"
   ]
  },
  {
   "cell_type": "markdown",
   "id": "7b17ea67",
   "metadata": {
    "papermill": {
     "duration": 0.142647,
     "end_time": "2021-09-08T02:47:10.971843",
     "exception": false,
     "start_time": "2021-09-08T02:47:10.829196",
     "status": "completed"
    },
    "tags": []
   },
   "source": [
    "%load_ext autoreload\n",
    "%autoreload 2"
   ]
  },
  {
   "cell_type": "code",
   "execution_count": 1,
   "id": "b702fbc0",
   "metadata": {
    "execution": {
     "iopub.execute_input": "2021-09-08T02:47:11.253468Z",
     "iopub.status.busy": "2021-09-08T02:47:11.252610Z",
     "iopub.status.idle": "2021-09-08T02:47:13.624934Z",
     "shell.execute_reply": "2021-09-08T02:47:13.625672Z"
    },
    "jupyter": {
     "source_hidden": true
    },
    "papermill": {
     "duration": 2.52218,
     "end_time": "2021-09-08T02:47:13.626004",
     "exception": false,
     "start_time": "2021-09-08T02:47:11.103824",
     "status": "completed"
    },
    "tags": [
     "parameters"
    ]
   },
   "outputs": [
    {
     "name": "stdout",
     "output_type": "stream",
     "text": [
      "\u001B[1mnanoHUB - Serving Students, Researchers & Instructors\u001B[0m\n"
     ]
    },
    {
     "name": "stderr",
     "output_type": "stream",
     "text": [
      "2021-09-07 22:47:12,508| INFO    | 0 keys loaded from agent\n"
     ]
    },
    {
     "name": "stdout",
     "output_type": "stream",
     "text": [
      "2021-09-07 22:47:12,508 - [INFO] sshtunnel.SSHTunnelForwarder [sshtunnel.get_agent_keys:1060]: 0 keys loaded from agent\n"
     ]
    },
    {
     "name": "stderr",
     "output_type": "stream",
     "text": [
      "2021-09-07 22:47:12,511| INFO    | 0 key(s) loaded\n"
     ]
    },
    {
     "name": "stdout",
     "output_type": "stream",
     "text": [
      "2021-09-07 22:47:12,511 - [INFO] sshtunnel.SSHTunnelForwarder [sshtunnel.get_keys:1117]: 0 key(s) loaded\n"
     ]
    },
    {
     "name": "stderr",
     "output_type": "stream",
     "text": [
      "2021-09-07 22:47:12,513| INFO    | Connecting to gateway: db2.nanohub.org:22 as user 'saxenap'\n"
     ]
    },
    {
     "name": "stdout",
     "output_type": "stream",
     "text": [
      "2021-09-07 22:47:12,513 - [INFO] sshtunnel.SSHTunnelForwarder [sshtunnel.__init__:978]: Connecting to gateway: db2.nanohub.org:22 as user 'saxenap'\n"
     ]
    },
    {
     "name": "stdout",
     "output_type": "stream",
     "text": [
      "2021-09-07 22:47:12,515 - [INFO] nanoHUB.containers.dataaccess [connection.get_connection_for:101]: Started SSH Tunnel with db2.nanohub.org\n"
     ]
    },
    {
     "name": "stderr",
     "output_type": "stream",
     "text": [
      "2021-09-07 22:47:12,818| INFO    | Opening tunnel: 0.0.0.0:57786 <> 127.0.0.1:3306\n"
     ]
    },
    {
     "name": "stdout",
     "output_type": "stream",
     "text": [
      "2021-09-07 22:47:12,818 - [INFO] sshtunnel.SSHTunnelForwarder [sshtunnel._serve_forever_wrapper:1433]: Opening tunnel: 0.0.0.0:57786 <> 127.0.0.1:3306\n"
     ]
    },
    {
     "name": "stderr",
     "output_type": "stream",
     "text": [
      "2021-09-07 22:47:12,845| INFO    | 0 keys loaded from agent\n"
     ]
    },
    {
     "name": "stdout",
     "output_type": "stream",
     "text": [
      "2021-09-07 22:47:12,845 - [INFO] sshtunnel.SSHTunnelForwarder [sshtunnel.get_agent_keys:1060]: 0 keys loaded from agent\n"
     ]
    },
    {
     "name": "stderr",
     "output_type": "stream",
     "text": [
      "2021-09-07 22:47:12,849| INFO    | 0 key(s) loaded\n"
     ]
    },
    {
     "name": "stdout",
     "output_type": "stream",
     "text": [
      "2021-09-07 22:47:12,849 - [INFO] sshtunnel.SSHTunnelForwarder [sshtunnel.get_keys:1117]: 0 key(s) loaded\n"
     ]
    },
    {
     "name": "stderr",
     "output_type": "stream",
     "text": [
      "2021-09-07 22:47:12,851| INFO    | Connecting to gateway: db2.nanohub.org:22 as user 'saxenap'\n"
     ]
    },
    {
     "name": "stdout",
     "output_type": "stream",
     "text": [
      "2021-09-07 22:47:12,851 - [INFO] sshtunnel.SSHTunnelForwarder [sshtunnel.__init__:978]: Connecting to gateway: db2.nanohub.org:22 as user 'saxenap'\n"
     ]
    },
    {
     "name": "stdout",
     "output_type": "stream",
     "text": [
      "2021-09-07 22:47:12,854 - [INFO] nanoHUB.containers.dataaccess [connection.get_connection_for:101]: Started SSH Tunnel with db2.nanohub.org\n"
     ]
    },
    {
     "name": "stderr",
     "output_type": "stream",
     "text": [
      "2021-09-07 22:47:13,149| INFO    | Opening tunnel: 0.0.0.0:57788 <> 127.0.0.1:3306\n"
     ]
    },
    {
     "name": "stdout",
     "output_type": "stream",
     "text": [
      "2021-09-07 22:47:13,149 - [INFO] sshtunnel.SSHTunnelForwarder [sshtunnel._serve_forever_wrapper:1433]: Opening tunnel: 0.0.0.0:57788 <> 127.0.0.1:3306\n"
     ]
    },
    {
     "name": "stdout",
     "output_type": "stream",
     "text": [
      "Obtained Salesforce access token ...... True\n"
     ]
    }
   ],
   "source": [
    "# Parameters\n",
    "hours_range = 24*365*1 # number of hours to look back\n",
    "#change this back to one year, once you're done\n",
    "\n",
    "# API settings\n",
    "api_url = '/services/data/v43.0/sobjects'\n",
    "external_id = 'nanoHUB_user_ID__c'\n",
    "object_id = 'Contact'\n",
    "\n",
    "from nanoHUB.application import Application\n",
    "\n",
    "application = Application.get_instance()\n",
    "nanohub_db = application.new_db_engine('nanohub')\n",
    "wang159_myrmekes_db = application.new_db_engine('wang159_myrmekes')\n",
    "\n",
    "\n",
    "salesforce = application.new_salesforce_engine()\n",
    "db_s = salesforce"
   ]
  },
  {
   "cell_type": "code",
   "execution_count": 2,
   "id": "0b9df8a3",
   "metadata": {
    "execution": {
     "iopub.execute_input": "2021-09-08T02:47:13.993189Z",
     "iopub.status.busy": "2021-09-08T02:47:13.991801Z",
     "iopub.status.idle": "2021-09-08T02:47:13.994075Z",
     "shell.execute_reply": "2021-09-08T02:47:13.994517Z"
    },
    "jupyter": {
     "source_hidden": true
    },
    "papermill": {
     "duration": 0.188988,
     "end_time": "2021-09-08T02:47:13.994757",
     "exception": false,
     "start_time": "2021-09-08T02:47:13.805769",
     "status": "completed"
    },
    "tags": []
   },
   "outputs": [],
   "source": [
    "\n",
    "import pandas as pd\n",
    "import datetime"
   ]
  },
  {
   "cell_type": "markdown",
   "id": "fb9623a8",
   "metadata": {
    "papermill": {
     "duration": 0.155041,
     "end_time": "2021-09-08T02:47:14.312549",
     "exception": false,
     "start_time": "2021-09-08T02:47:14.157508",
     "status": "completed"
    },
    "tags": []
   },
   "source": [
    "## Obtain contacts from DB2 \n",
    "that have last visit date within range of interest specified by day_range"
   ]
  },
  {
   "cell_type": "raw",
   "id": "7bfd67aa",
   "metadata": {
    "papermill": {
     "duration": 0.159454,
     "end_time": "2021-09-08T02:47:14.654318",
     "exception": false,
     "start_time": "2021-09-08T02:47:14.494864",
     "status": "completed"
    },
    "tags": []
   },
   "source": [
    "MariaDB [nanohub]> select id, name, label from jos_user_profile_fields;\n",
    "+----+-----------------+-------------------------------------------------------+\n",
    "| id | name            | label                                                 |\n",
    "+----+-----------------+-------------------------------------------------------+\n",
    "|  1 | organization    | Organization                                          |\n",
    "|  2 | orgtype         | Organization / Position Type                          |\n",
    "|  3 | countryresident | Residency                                             |\n",
    "|  4 | countryorigin   | Citizenship                                           |\n",
    "|  5 | url             | Website                                               |\n",
    "|  6 | phone           | Telephone                                             |\n",
    "|  7 | orcid           | ORCID                                                 |\n",
    "|  8 | gender          | Gender                                                |\n",
    "|  9 | race            | Racial Background                                     |\n",
    "| 10 | disability      | Disability                                            |\n",
    "| 11 | reason          | Reason                                                |\n",
    "| 12 | tags            | Interests                                             |\n",
    "| 13 | address         | Address                                               |\n",
    "| 14 | hispanic        | Hispanic Heritage                                     |\n",
    "| 15 | bio             | Biography                                             |\n",
    "| 16 | howdidyouhear   | How did you first hear about nanoHUB?                 |\n",
    "| 17 | purposeofvisit  | What is the primary purpose of your visit to nanoHUB? |\n",
    "+----+-----------------+-------------------------------------------------------+\n",
    "\n",
    "\n",
    "\n",
    "MariaDB [nanohub]> explain  jos_user_profiles;\n",
    "+---------------+------------------+------+-----+---------+----------------+\n",
    "| Field         | Type             | Null | Key | Default | Extra          |\n",
    "+---------------+------------------+------+-----+---------+----------------+\n",
    "| id            | int(11) unsigned | NO   | PRI | NULL    | auto_increment |\n",
    "| user_id       | int(11)          | NO   | MUL | NULL    |                |\n",
    "| profile_key   | varchar(100)     | NO   |     | NULL    |                |\n",
    "| profile_value | text             | NO   |     | NULL    |                |\n",
    "| ordering      | int(11)          | NO   |     | 0       |                |\n",
    "| access        | int(10)          | NO   |     | 0       |                |\n",
    "+---------------+------------------+------+-----+---------+----------------+"
   ]
  },
  {
   "cell_type": "code",
   "execution_count": 3,
   "id": "be6d05f1",
   "metadata": {
    "execution": {
     "iopub.execute_input": "2021-09-08T02:47:15.084018Z",
     "iopub.status.busy": "2021-09-08T02:47:15.083298Z",
     "iopub.status.idle": "2021-09-08T02:47:15.088906Z",
     "shell.execute_reply": "2021-09-08T02:47:15.089570Z"
    },
    "jupyter": {
     "source_hidden": true
    },
    "papermill": {
     "duration": 0.229068,
     "end_time": "2021-09-08T02:47:15.089802",
     "exception": false,
     "start_time": "2021-09-08T02:47:14.860734",
     "status": "completed"
    },
    "scrolled": true,
    "tags": []
   },
   "outputs": [
    {
     "name": "stdout",
     "output_type": "stream",
     "text": [
      "select id, name, username, block, email, sendEmail, registerDate, lastvisitDate                     from jos_users where registerDate >= '2020-09-07'\n"
     ]
    }
   ],
   "source": [
    "# Depending on the task, use different query and cutoff\n",
    "\n",
    "# Hourly update for new registrations\n",
    "date_cutoff = (datetime.datetime.today().date() - datetime.timedelta(hours=hours_range))\\\n",
    "                    .strftime('%Y-%m-%d')\n",
    "lvd_cutoff = (datetime.datetime.today().date() - datetime.timedelta(hours=24*5))\\\n",
    "                    .strftime('%Y-%m-%d')\n",
    "sql_query = \"select id, name, username, block, email, sendEmail, registerDate, lastvisitDate \\\n",
    "                    from jos_users where registerDate >= '%s'\" % date_cutoff\n",
    "\n",
    "# display\n",
    "print(sql_query)"
   ]
  },
  {
   "cell_type": "code",
   "execution_count": 4,
   "id": "61c712f0",
   "metadata": {
    "execution": {
     "iopub.execute_input": "2021-09-08T02:47:15.434142Z",
     "iopub.status.busy": "2021-09-08T02:47:15.433228Z",
     "iopub.status.idle": "2021-09-08T02:47:23.334973Z",
     "shell.execute_reply": "2021-09-08T02:47:23.335335Z"
    },
    "jupyter": {
     "source_hidden": true
    },
    "papermill": {
     "duration": 8.08219,
     "end_time": "2021-09-08T02:47:23.335558",
     "exception": false,
     "start_time": "2021-09-08T02:47:15.253368",
     "status": "completed"
    },
    "tags": []
   },
   "outputs": [],
   "source": [
    "df = pd.read_sql_query(sql_query, nanohub_db)\n",
    "#\n",
    "# df['registerDate'] = pd.to_datetime(df.registerDate, format='%Y-%m-%d %H:%M:%S')\n",
    "# df['lastvisitDate'] = pd.to_datetime(df.lastvisitDate, format='%Y-%m-%d %H:%M:%S')\n",
    "# get user profile details\n",
    "profile_df = pd.read_sql_query(\"select * from jos_user_profiles where profile_key \\\n",
    "in ('orgtype', 'organization', 'orcid')\", nanohub_db)"
   ]
  },
  {
   "cell_type": "code",
   "execution_count": 5,
   "id": "0022195e",
   "metadata": {
    "execution": {
     "iopub.execute_input": "2021-09-08T02:47:23.654977Z",
     "iopub.status.busy": "2021-09-08T02:47:23.654300Z",
     "iopub.status.idle": "2021-09-08T02:47:23.680587Z",
     "shell.execute_reply": "2021-09-08T02:47:23.679853Z"
    },
    "jupyter": {
     "source_hidden": true
    },
    "papermill": {
     "duration": 0.199354,
     "end_time": "2021-09-08T02:47:23.680763",
     "exception": false,
     "start_time": "2021-09-08T02:47:23.481409",
     "status": "completed"
    },
    "tags": []
   },
   "outputs": [
    {
     "data": {
      "text/html": [
       "<div>\n",
       "<style scoped>\n",
       "    .dataframe tbody tr th:only-of-type {\n",
       "        vertical-align: middle;\n",
       "    }\n",
       "\n",
       "    .dataframe tbody tr th {\n",
       "        vertical-align: top;\n",
       "    }\n",
       "\n",
       "    .dataframe thead th {\n",
       "        text-align: right;\n",
       "    }\n",
       "</style>\n",
       "<table border=\"1\" class=\"dataframe\">\n",
       "  <thead>\n",
       "    <tr style=\"text-align: right;\">\n",
       "      <th></th>\n",
       "      <th>id</th>\n",
       "      <th>name</th>\n",
       "      <th>username</th>\n",
       "      <th>block</th>\n",
       "      <th>email</th>\n",
       "      <th>sendEmail</th>\n",
       "      <th>registerDate</th>\n",
       "      <th>lastvisitDate</th>\n",
       "    </tr>\n",
       "  </thead>\n",
       "  <tbody>\n",
       "    <tr>\n",
       "      <th>0</th>\n",
       "      <td>298948</td>\n",
       "      <td>aman altaf</td>\n",
       "      <td>amanaltaf.exe</td>\n",
       "      <td>0</td>\n",
       "      <td>amanaltaf.exe@gmail.com</td>\n",
       "      <td>0</td>\n",
       "      <td>2020-09-07 00:07:51</td>\n",
       "      <td>2021-02-13 15:50:19</td>\n",
       "    </tr>\n",
       "    <tr>\n",
       "      <th>1</th>\n",
       "      <td>298949</td>\n",
       "      <td>Krista Biggs</td>\n",
       "      <td>kristaelainebiggs</td>\n",
       "      <td>0</td>\n",
       "      <td>kristaelainebiggs@gmail.com</td>\n",
       "      <td>0</td>\n",
       "      <td>2020-09-07 00:29:13</td>\n",
       "      <td>2020-09-07 00:29:14</td>\n",
       "    </tr>\n",
       "  </tbody>\n",
       "</table>\n",
       "</div>"
      ],
      "text/plain": [
       "       id          name           username  block  \\\n",
       "0  298948    aman altaf      amanaltaf.exe      0   \n",
       "1  298949  Krista Biggs  kristaelainebiggs      0   \n",
       "\n",
       "                         email  sendEmail        registerDate  \\\n",
       "0      amanaltaf.exe@gmail.com          0 2020-09-07 00:07:51   \n",
       "1  kristaelainebiggs@gmail.com          0 2020-09-07 00:29:13   \n",
       "\n",
       "        lastvisitDate  \n",
       "0 2021-02-13 15:50:19  \n",
       "1 2020-09-07 00:29:14  "
      ]
     },
     "metadata": {},
     "output_type": "display_data"
    },
    {
     "data": {
      "text/html": [
       "<div>\n",
       "<style scoped>\n",
       "    .dataframe tbody tr th:only-of-type {\n",
       "        vertical-align: middle;\n",
       "    }\n",
       "\n",
       "    .dataframe tbody tr th {\n",
       "        vertical-align: top;\n",
       "    }\n",
       "\n",
       "    .dataframe thead th {\n",
       "        text-align: right;\n",
       "    }\n",
       "</style>\n",
       "<table border=\"1\" class=\"dataframe\">\n",
       "  <thead>\n",
       "    <tr style=\"text-align: right;\">\n",
       "      <th></th>\n",
       "      <th>id</th>\n",
       "      <th>user_id</th>\n",
       "      <th>profile_key</th>\n",
       "      <th>profile_value</th>\n",
       "      <th>ordering</th>\n",
       "      <th>access</th>\n",
       "    </tr>\n",
       "  </thead>\n",
       "  <tbody>\n",
       "    <tr>\n",
       "      <th>0</th>\n",
       "      <td>1</td>\n",
       "      <td>15623</td>\n",
       "      <td>orgtype</td>\n",
       "      <td>university</td>\n",
       "      <td>2</td>\n",
       "      <td>5</td>\n",
       "    </tr>\n",
       "    <tr>\n",
       "      <th>1</th>\n",
       "      <td>2</td>\n",
       "      <td>10060</td>\n",
       "      <td>orgtype</td>\n",
       "      <td>university</td>\n",
       "      <td>2</td>\n",
       "      <td>5</td>\n",
       "    </tr>\n",
       "  </tbody>\n",
       "</table>\n",
       "</div>"
      ],
      "text/plain": [
       "   id  user_id profile_key profile_value  ordering  access\n",
       "0   1    15623     orgtype    university         2       5\n",
       "1   2    10060     orgtype    university         2       5"
      ]
     },
     "metadata": {},
     "output_type": "display_data"
    }
   ],
   "source": [
    "# display\n",
    "display(df.head(2))\n",
    "\n",
    "display(profile_df.head(2))"
   ]
  },
  {
   "cell_type": "code",
   "execution_count": 6,
   "id": "010d449b",
   "metadata": {
    "execution": {
     "iopub.execute_input": "2021-09-08T02:47:24.052328Z",
     "iopub.status.busy": "2021-09-08T02:47:24.033814Z",
     "iopub.status.idle": "2021-09-08T02:47:24.056389Z",
     "shell.execute_reply": "2021-09-08T02:47:24.056823Z"
    },
    "jupyter": {
     "source_hidden": true
    },
    "papermill": {
     "duration": 0.210948,
     "end_time": "2021-09-08T02:47:24.057006",
     "exception": false,
     "start_time": "2021-09-08T02:47:23.846058",
     "status": "completed"
    },
    "tags": []
   },
   "outputs": [
    {
     "data": {
      "text/plain": [
       "[Timestamp('2021-09-08 02:35:20'),\n",
       " Timestamp('2021-09-08 02:42:18'),\n",
       " NaT,\n",
       " Timestamp('2021-09-08 00:19:31'),\n",
       " Timestamp('2021-09-08 02:47:15')]"
      ]
     },
     "metadata": {},
     "output_type": "display_data"
    }
   ],
   "source": [
    "display(sorted(df['lastvisitDate'].to_list())[-5:])"
   ]
  },
  {
   "cell_type": "code",
   "execution_count": 7,
   "id": "a6660f40",
   "metadata": {
    "execution": {
     "iopub.execute_input": "2021-09-08T02:47:24.399045Z",
     "iopub.status.busy": "2021-09-08T02:47:24.398023Z",
     "iopub.status.idle": "2021-09-08T02:47:24.633570Z",
     "shell.execute_reply": "2021-09-08T02:47:24.634515Z"
    },
    "jupyter": {
     "source_hidden": true
    },
    "papermill": {
     "duration": 0.426093,
     "end_time": "2021-09-08T02:47:24.635157",
     "exception": false,
     "start_time": "2021-09-08T02:47:24.209064",
     "status": "completed"
    },
    "tags": []
   },
   "outputs": [
    {
     "data": {
      "text/html": [
       "<div>\n",
       "<style scoped>\n",
       "    .dataframe tbody tr th:only-of-type {\n",
       "        vertical-align: middle;\n",
       "    }\n",
       "\n",
       "    .dataframe tbody tr th {\n",
       "        vertical-align: top;\n",
       "    }\n",
       "\n",
       "    .dataframe thead th {\n",
       "        text-align: right;\n",
       "    }\n",
       "</style>\n",
       "<table border=\"1\" class=\"dataframe\">\n",
       "  <thead>\n",
       "    <tr style=\"text-align: right;\">\n",
       "      <th></th>\n",
       "      <th>id</th>\n",
       "      <th>name</th>\n",
       "      <th>username</th>\n",
       "      <th>block</th>\n",
       "      <th>email</th>\n",
       "      <th>sendEmail</th>\n",
       "      <th>registerDate</th>\n",
       "      <th>lastvisitDate</th>\n",
       "      <th>orgtype</th>\n",
       "      <th>organization</th>\n",
       "    </tr>\n",
       "  </thead>\n",
       "  <tbody>\n",
       "    <tr>\n",
       "      <th>0</th>\n",
       "      <td>298948</td>\n",
       "      <td>aman altaf</td>\n",
       "      <td>amanaltaf.exe</td>\n",
       "      <td>0</td>\n",
       "      <td>amanaltaf.exe@gmail.com</td>\n",
       "      <td>0</td>\n",
       "      <td>2020-09-07 00:07:51</td>\n",
       "      <td>2021-02-13 15:50:19</td>\n",
       "      <td>universityundergraduate</td>\n",
       "      <td>NaN</td>\n",
       "    </tr>\n",
       "  </tbody>\n",
       "</table>\n",
       "</div>"
      ],
      "text/plain": [
       "       id        name       username  block                    email  \\\n",
       "0  298948  aman altaf  amanaltaf.exe      0  amanaltaf.exe@gmail.com   \n",
       "\n",
       "   sendEmail        registerDate       lastvisitDate                  orgtype  \\\n",
       "0          0 2020-09-07 00:07:51 2021-02-13 15:50:19  universityundergraduate   \n",
       "\n",
       "  organization  \n",
       "0          NaN  "
      ]
     },
     "metadata": {},
     "output_type": "display_data"
    },
    {
     "data": {
      "text/html": [
       "<div>\n",
       "<style scoped>\n",
       "    .dataframe tbody tr th:only-of-type {\n",
       "        vertical-align: middle;\n",
       "    }\n",
       "\n",
       "    .dataframe tbody tr th {\n",
       "        vertical-align: top;\n",
       "    }\n",
       "\n",
       "    .dataframe thead th {\n",
       "        text-align: right;\n",
       "    }\n",
       "</style>\n",
       "<table border=\"1\" class=\"dataframe\">\n",
       "  <thead>\n",
       "    <tr style=\"text-align: right;\">\n",
       "      <th></th>\n",
       "      <th>id</th>\n",
       "      <th>name</th>\n",
       "      <th>username</th>\n",
       "      <th>block</th>\n",
       "      <th>email</th>\n",
       "      <th>sendEmail</th>\n",
       "      <th>registerDate</th>\n",
       "      <th>lastvisitDate</th>\n",
       "      <th>orgtype</th>\n",
       "      <th>organization</th>\n",
       "      <th>orcid</th>\n",
       "    </tr>\n",
       "  </thead>\n",
       "  <tbody>\n",
       "    <tr>\n",
       "      <th>0</th>\n",
       "      <td>298948</td>\n",
       "      <td>aman altaf</td>\n",
       "      <td>amanaltaf.exe</td>\n",
       "      <td>0</td>\n",
       "      <td>amanaltaf.exe@gmail.com</td>\n",
       "      <td>0</td>\n",
       "      <td>2020-09-07 00:07:51</td>\n",
       "      <td>2021-02-13 15:50:19</td>\n",
       "      <td>universityundergraduate</td>\n",
       "      <td>NaN</td>\n",
       "      <td>NaN</td>\n",
       "    </tr>\n",
       "  </tbody>\n",
       "</table>\n",
       "</div>"
      ],
      "text/plain": [
       "       id        name       username  block                    email  \\\n",
       "0  298948  aman altaf  amanaltaf.exe      0  amanaltaf.exe@gmail.com   \n",
       "\n",
       "   sendEmail        registerDate       lastvisitDate                  orgtype  \\\n",
       "0          0 2020-09-07 00:07:51 2021-02-13 15:50:19  universityundergraduate   \n",
       "\n",
       "  organization orcid  \n",
       "0          NaN   NaN  "
      ]
     },
     "metadata": {},
     "output_type": "display_data"
    }
   ],
   "source": [
    "df = pd.merge(df, profile_df[profile_df['profile_key'] == 'orgtype'][['user_id', 'profile_value']],\\\n",
    "                         how='left', left_on='id', right_on='user_id')\\\n",
    "    .drop(columns=['user_id']).rename(columns={'profile_value':'orgtype'})\n",
    "\n",
    "df = pd.merge(df, profile_df[profile_df['profile_key'] == 'organization'][['user_id', 'profile_value']],\\\n",
    "                         how='left', left_on='id', right_on='user_id')\\\n",
    "    .drop(columns=['user_id']).rename(columns={'profile_value':'organization'})\n",
    "display(df.head(1))\n",
    "\n",
    "df = pd.merge(df, profile_df[profile_df['profile_key'] == 'orcid'][['user_id', 'profile_value']],\\\n",
    "                         how='left', left_on='id', right_on='user_id')\\\n",
    "    .drop(columns=['user_id']).rename(columns={'profile_value':'orcid'})\n",
    "\n",
    "# display\n",
    "display(df.head(1))"
   ]
  },
  {
   "cell_type": "code",
   "execution_count": 8,
   "id": "d0444edf",
   "metadata": {
    "execution": {
     "iopub.execute_input": "2021-09-08T02:47:25.048029Z",
     "iopub.status.busy": "2021-09-08T02:47:25.047254Z",
     "iopub.status.idle": "2021-09-08T02:50:48.334570Z",
     "shell.execute_reply": "2021-09-08T02:50:48.335621Z"
    },
    "jupyter": {
     "source_hidden": true
    },
    "papermill": {
     "duration": 203.481697,
     "end_time": "2021-09-08T02:50:48.336343",
     "exception": false,
     "start_time": "2021-09-08T02:47:24.854646",
     "status": "completed"
    },
    "tags": []
   },
   "outputs": [],
   "source": [
    "# Obtain company domain information from DB2\n",
    "domain_df = pd.read_sql_query(\"select name as domain_name, domain, industry, `size range` as size, country \\\n",
    "from wang159_myrmekes.companies_email_domain\", wang159_myrmekes_db)"
   ]
  },
  {
   "cell_type": "code",
   "execution_count": 9,
   "id": "84c3eba1",
   "metadata": {
    "execution": {
     "iopub.execute_input": "2021-09-08T02:50:53.141327Z",
     "iopub.status.busy": "2021-09-08T02:50:53.140110Z",
     "iopub.status.idle": "2021-09-08T02:50:58.241918Z",
     "shell.execute_reply": "2021-09-08T02:50:58.242919Z"
    },
    "jupyter": {
     "source_hidden": true
    },
    "papermill": {
     "duration": 9.726724,
     "end_time": "2021-09-08T02:50:58.243151",
     "exception": false,
     "start_time": "2021-09-08T02:50:48.516427",
     "status": "completed"
    },
    "tags": []
   },
   "outputs": [],
   "source": [
    "# make sure domain is unique and drop NaN\n",
    "domain_df = domain_df.drop_duplicates(subset='domain', keep='first').dropna()"
   ]
  },
  {
   "cell_type": "code",
   "execution_count": 10,
   "id": "f3f0becf",
   "metadata": {
    "execution": {
     "iopub.execute_input": "2021-09-08T02:50:58.719195Z",
     "iopub.status.busy": "2021-09-08T02:50:58.717916Z",
     "iopub.status.idle": "2021-09-08T02:50:58.721221Z",
     "shell.execute_reply": "2021-09-08T02:50:58.720257Z"
    },
    "jupyter": {
     "source_hidden": true
    },
    "papermill": {
     "duration": 0.274231,
     "end_time": "2021-09-08T02:50:58.721535",
     "exception": false,
     "start_time": "2021-09-08T02:50:58.447304",
     "status": "completed"
    },
    "tags": []
   },
   "outputs": [],
   "source": [
    "# get email domain of nanoHUB users\n",
    "def get_domain(this_email):\n",
    "    seg_list = this_email.split('@')\n",
    "    \n",
    "    if len(seg_list) == 2:\n",
    "        return seg_list[1].lower()\n",
    "    else:\n",
    "        return None\n",
    "    \n",
    "df['email_host'] = df['email'].apply(get_domain)"
   ]
  },
  {
   "cell_type": "raw",
   "id": "31b57d06",
   "metadata": {
    "papermill": {
     "duration": 0.159134,
     "end_time": "2021-09-08T02:50:59.044961",
     "exception": false,
     "start_time": "2021-09-08T02:50:58.885827",
     "status": "completed"
    },
    "tags": []
   },
   "source": [
    "df = pd.merge(df, domain_df[domain_df.domain.isin(df['email_domain'].unique()) & ~domain_df.domain.isna()],\\\n",
    "         how='left', left_on='email_domain', right_on='domain')\n",
    "\n",
    "# display\n",
    "display(df.head(2))"
   ]
  },
  {
   "cell_type": "code",
   "execution_count": 11,
   "id": "58c6e09c",
   "metadata": {
    "execution": {
     "iopub.execute_input": "2021-09-08T02:50:59.362290Z",
     "iopub.status.busy": "2021-09-08T02:50:59.361033Z",
     "iopub.status.idle": "2021-09-08T02:50:59.425713Z",
     "shell.execute_reply": "2021-09-08T02:50:59.426154Z"
    },
    "jupyter": {
     "source_hidden": true
    },
    "papermill": {
     "duration": 0.222763,
     "end_time": "2021-09-08T02:50:59.426367",
     "exception": false,
     "start_time": "2021-09-08T02:50:59.203604",
     "status": "completed"
    },
    "tags": []
   },
   "outputs": [],
   "source": [
    "# save a constuct for debugging\n",
    "from copy import deepcopy\n",
    "temp = deepcopy(df)"
   ]
  },
  {
   "cell_type": "code",
   "execution_count": 12,
   "id": "6a5e7461",
   "metadata": {
    "execution": {
     "iopub.execute_input": "2021-09-08T02:50:59.767962Z",
     "iopub.status.busy": "2021-09-08T02:50:59.750749Z",
     "iopub.status.idle": "2021-09-08T02:51:00.264969Z",
     "shell.execute_reply": "2021-09-08T02:51:00.264158Z"
    },
    "jupyter": {
     "source_hidden": true
    },
    "papermill": {
     "duration": 0.686242,
     "end_time": "2021-09-08T02:51:00.265393",
     "exception": false,
     "start_time": "2021-09-08T02:50:59.579151",
     "status": "completed"
    },
    "tags": []
   },
   "outputs": [
    {
     "data": {
      "text/html": [
       "<div>\n",
       "<style scoped>\n",
       "    .dataframe tbody tr th:only-of-type {\n",
       "        vertical-align: middle;\n",
       "    }\n",
       "\n",
       "    .dataframe tbody tr th {\n",
       "        vertical-align: top;\n",
       "    }\n",
       "\n",
       "    .dataframe thead th {\n",
       "        text-align: right;\n",
       "    }\n",
       "</style>\n",
       "<table border=\"1\" class=\"dataframe\">\n",
       "  <thead>\n",
       "    <tr style=\"text-align: right;\">\n",
       "      <th></th>\n",
       "      <th>id</th>\n",
       "      <th>name</th>\n",
       "      <th>username</th>\n",
       "      <th>block</th>\n",
       "      <th>email</th>\n",
       "      <th>sendEmail</th>\n",
       "      <th>registerDate</th>\n",
       "      <th>lastvisitDate</th>\n",
       "      <th>orgtype</th>\n",
       "      <th>organization</th>\n",
       "      <th>orcid</th>\n",
       "      <th>email_host</th>\n",
       "    </tr>\n",
       "  </thead>\n",
       "  <tbody>\n",
       "    <tr>\n",
       "      <th>0</th>\n",
       "      <td>298948</td>\n",
       "      <td>aman altaf</td>\n",
       "      <td>amanaltaf.exe</td>\n",
       "      <td>0</td>\n",
       "      <td>amanaltaf.exe@gmail.com</td>\n",
       "      <td>0</td>\n",
       "      <td>2020-09-07 00:07:51</td>\n",
       "      <td>2021-02-13 15:50:19</td>\n",
       "      <td>universityundergraduate</td>\n",
       "      <td>NaN</td>\n",
       "      <td>NaN</td>\n",
       "      <td>gmail.com</td>\n",
       "    </tr>\n",
       "    <tr>\n",
       "      <th>1</th>\n",
       "      <td>298949</td>\n",
       "      <td>Krista Biggs</td>\n",
       "      <td>kristaelainebiggs</td>\n",
       "      <td>0</td>\n",
       "      <td>kristaelainebiggs@gmail.com</td>\n",
       "      <td>0</td>\n",
       "      <td>2020-09-07 00:29:13</td>\n",
       "      <td>2020-09-07 00:29:14</td>\n",
       "      <td>universitygraduate</td>\n",
       "      <td>NaN</td>\n",
       "      <td>NaN</td>\n",
       "      <td>gmail.com</td>\n",
       "    </tr>\n",
       "  </tbody>\n",
       "</table>\n",
       "</div>"
      ],
      "text/plain": [
       "       id          name           username  block  \\\n",
       "0  298948    aman altaf      amanaltaf.exe      0   \n",
       "1  298949  Krista Biggs  kristaelainebiggs      0   \n",
       "\n",
       "                         email  sendEmail        registerDate  \\\n",
       "0      amanaltaf.exe@gmail.com          0 2020-09-07 00:07:51   \n",
       "1  kristaelainebiggs@gmail.com          0 2020-09-07 00:29:13   \n",
       "\n",
       "        lastvisitDate                  orgtype organization orcid email_host  \n",
       "0 2021-02-13 15:50:19  universityundergraduate          NaN   NaN  gmail.com  \n",
       "1 2020-09-07 00:29:14       universitygraduate          NaN   NaN  gmail.com  "
      ]
     },
     "metadata": {},
     "output_type": "display_data"
    }
   ],
   "source": [
    "# get domain by nanoHUB organization field\n",
    "df = deepcopy(temp)\n",
    "display(df.head(2))\n",
    "df['organization'] = df['organization'].str.lower()\n",
    "df = df.fillna('   ')\n",
    "\n",
    "df.loc[(df['organization']=='nan'),'organization'] = None\n",
    "df.loc[(df['organization']=='NaN'),'organization'] = None"
   ]
  },
  {
   "cell_type": "markdown",
   "id": "e4991d23",
   "metadata": {
    "papermill": {
     "duration": 0.19097,
     "end_time": "2021-09-08T02:51:00.664299",
     "exception": false,
     "start_time": "2021-09-08T02:51:00.473329",
     "status": "completed"
    },
    "tags": []
   },
   "source": [
    "display(df.tail())"
   ]
  },
  {
   "cell_type": "code",
   "execution_count": 13,
   "id": "ce6f4a03",
   "metadata": {
    "execution": {
     "iopub.execute_input": "2021-09-08T02:51:01.091841Z",
     "iopub.status.busy": "2021-09-08T02:51:01.091188Z",
     "iopub.status.idle": "2021-09-08T02:51:02.460995Z",
     "shell.execute_reply": "2021-09-08T02:51:02.461383Z"
    },
    "jupyter": {
     "source_hidden": true
    },
    "papermill": {
     "duration": 1.557645,
     "end_time": "2021-09-08T02:51:02.461547",
     "exception": false,
     "start_time": "2021-09-08T02:51:00.903902",
     "status": "completed"
    },
    "tags": []
   },
   "outputs": [],
   "source": [
    "import nltk\n",
    "#nltk.download('stopwords')\n",
    "\n",
    "from nltk.corpus import stopwords\n",
    "s_words = stopwords.words('english')"
   ]
  },
  {
   "cell_type": "code",
   "execution_count": 14,
   "id": "43128e47",
   "metadata": {
    "execution": {
     "iopub.execute_input": "2021-09-08T02:51:02.807419Z",
     "iopub.status.busy": "2021-09-08T02:51:02.806696Z",
     "iopub.status.idle": "2021-09-08T02:51:02.808919Z",
     "shell.execute_reply": "2021-09-08T02:51:02.808331Z"
    },
    "jupyter": {
     "source_hidden": true
    },
    "papermill": {
     "duration": 0.161434,
     "end_time": "2021-09-08T02:51:02.809064",
     "exception": false,
     "start_time": "2021-09-08T02:51:02.647630",
     "status": "completed"
    },
    "tags": []
   },
   "outputs": [],
   "source": [
    "import re\n",
    "\n",
    "def clean_domain(this_domain_name):\n",
    "    \n",
    "    if not this_domain_name:\n",
    "        return None\n",
    "    \n",
    "    # Replace all non-alphanumeric characters with space\n",
    "    this_domain_name = re.sub(\"[^0-9a-zA-Z]+\", \" \", this_domain_name.lower())\n",
    "    name_list = this_domain_name.split(' ')\n",
    "        \n",
    "    # remove all stop words\n",
    "    name_list = ['' if x in s_words else x for x in name_list]\n",
    "    \n",
    "    return set(filter(None, name_list))"
   ]
  },
  {
   "cell_type": "code",
   "execution_count": 15,
   "id": "54817dc4",
   "metadata": {
    "execution": {
     "iopub.execute_input": "2021-09-08T02:51:03.139011Z",
     "iopub.status.busy": "2021-09-08T02:51:03.137774Z",
     "iopub.status.idle": "2021-09-08T02:51:03.143193Z",
     "shell.execute_reply": "2021-09-08T02:51:03.149604Z"
    },
    "jupyter": {
     "source_hidden": true
    },
    "papermill": {
     "duration": 0.194914,
     "end_time": "2021-09-08T02:51:03.154798",
     "exception": false,
     "start_time": "2021-09-08T02:51:02.959884",
     "status": "completed"
    },
    "tags": []
   },
   "outputs": [
    {
     "data": {
      "text/html": [
       "<div>\n",
       "<style scoped>\n",
       "    .dataframe tbody tr th:only-of-type {\n",
       "        vertical-align: middle;\n",
       "    }\n",
       "\n",
       "    .dataframe tbody tr th {\n",
       "        vertical-align: top;\n",
       "    }\n",
       "\n",
       "    .dataframe thead th {\n",
       "        text-align: right;\n",
       "    }\n",
       "</style>\n",
       "<table border=\"1\" class=\"dataframe\">\n",
       "  <thead>\n",
       "    <tr style=\"text-align: right;\">\n",
       "      <th></th>\n",
       "      <th>domain_name</th>\n",
       "      <th>domain</th>\n",
       "      <th>industry</th>\n",
       "      <th>size</th>\n",
       "      <th>country</th>\n",
       "    </tr>\n",
       "  </thead>\n",
       "  <tbody>\n",
       "    <tr>\n",
       "      <th>0</th>\n",
       "      <td>strategic interns</td>\n",
       "      <td>strategicinterns.com</td>\n",
       "      <td>education management</td>\n",
       "      <td>1-10</td>\n",
       "      <td>india</td>\n",
       "    </tr>\n",
       "    <tr>\n",
       "      <th>1</th>\n",
       "      <td>bosque y comunidad</td>\n",
       "      <td>bosqueycomunidad.org</td>\n",
       "      <td>non-profit organization management</td>\n",
       "      <td>1-10</td>\n",
       "      <td>spain</td>\n",
       "    </tr>\n",
       "  </tbody>\n",
       "</table>\n",
       "</div>"
      ],
      "text/plain": [
       "          domain_name                domain  \\\n",
       "0   strategic interns  strategicinterns.com   \n",
       "1  bosque y comunidad  bosqueycomunidad.org   \n",
       "\n",
       "                             industry  size country  \n",
       "0                education management  1-10   india  \n",
       "1  non-profit organization management  1-10   spain  "
      ]
     },
     "metadata": {},
     "output_type": "display_data"
    }
   ],
   "source": [
    "display(domain_df.head(2))"
   ]
  },
  {
   "cell_type": "code",
   "execution_count": 16,
   "id": "b6ee2940",
   "metadata": {
    "execution": {
     "iopub.execute_input": "2021-09-08T02:51:03.544938Z",
     "iopub.status.busy": "2021-09-08T02:51:03.543890Z",
     "iopub.status.idle": "2021-09-08T02:51:53.116838Z",
     "shell.execute_reply": "2021-09-08T02:51:53.117319Z"
    },
    "jupyter": {
     "source_hidden": true
    },
    "papermill": {
     "duration": 49.77624,
     "end_time": "2021-09-08T02:51:53.117511",
     "exception": false,
     "start_time": "2021-09-08T02:51:03.341271",
     "status": "completed"
    },
    "tags": []
   },
   "outputs": [
    {
     "data": {
      "text/html": [
       "<div>\n",
       "<style scoped>\n",
       "    .dataframe tbody tr th:only-of-type {\n",
       "        vertical-align: middle;\n",
       "    }\n",
       "\n",
       "    .dataframe tbody tr th {\n",
       "        vertical-align: top;\n",
       "    }\n",
       "\n",
       "    .dataframe thead th {\n",
       "        text-align: right;\n",
       "    }\n",
       "</style>\n",
       "<table border=\"1\" class=\"dataframe\">\n",
       "  <thead>\n",
       "    <tr style=\"text-align: right;\">\n",
       "      <th></th>\n",
       "      <th>domain_name</th>\n",
       "      <th>domain</th>\n",
       "      <th>industry</th>\n",
       "      <th>size</th>\n",
       "      <th>country</th>\n",
       "      <th>domain_cleaned_set</th>\n",
       "    </tr>\n",
       "  </thead>\n",
       "  <tbody>\n",
       "    <tr>\n",
       "      <th>0</th>\n",
       "      <td>strategic interns</td>\n",
       "      <td>strategicinterns.com</td>\n",
       "      <td>education management</td>\n",
       "      <td>1-10</td>\n",
       "      <td>india</td>\n",
       "      <td>{interns, strategic}</td>\n",
       "    </tr>\n",
       "  </tbody>\n",
       "</table>\n",
       "</div>"
      ],
      "text/plain": [
       "         domain_name                domain              industry  size  \\\n",
       "0  strategic interns  strategicinterns.com  education management  1-10   \n",
       "\n",
       "  country    domain_cleaned_set  \n",
       "0   india  {interns, strategic}  "
      ]
     },
     "metadata": {},
     "output_type": "display_data"
    },
    {
     "data": {
      "text/html": [
       "<div>\n",
       "<style scoped>\n",
       "    .dataframe tbody tr th:only-of-type {\n",
       "        vertical-align: middle;\n",
       "    }\n",
       "\n",
       "    .dataframe tbody tr th {\n",
       "        vertical-align: top;\n",
       "    }\n",
       "\n",
       "    .dataframe thead th {\n",
       "        text-align: right;\n",
       "    }\n",
       "</style>\n",
       "<table border=\"1\" class=\"dataframe\">\n",
       "  <thead>\n",
       "    <tr style=\"text-align: right;\">\n",
       "      <th></th>\n",
       "      <th>id</th>\n",
       "      <th>name</th>\n",
       "      <th>username</th>\n",
       "      <th>block</th>\n",
       "      <th>email</th>\n",
       "      <th>sendEmail</th>\n",
       "      <th>registerDate</th>\n",
       "      <th>lastvisitDate</th>\n",
       "      <th>orgtype</th>\n",
       "      <th>organization</th>\n",
       "      <th>orcid</th>\n",
       "      <th>email_host</th>\n",
       "      <th>org_cleaned_set</th>\n",
       "    </tr>\n",
       "  </thead>\n",
       "  <tbody>\n",
       "    <tr>\n",
       "      <th>0</th>\n",
       "      <td>298948</td>\n",
       "      <td>aman altaf</td>\n",
       "      <td>amanaltaf.exe</td>\n",
       "      <td>0</td>\n",
       "      <td>amanaltaf.exe@gmail.com</td>\n",
       "      <td>0</td>\n",
       "      <td>2020-09-07 00:07:51</td>\n",
       "      <td>2021-02-13 15:50:19</td>\n",
       "      <td>universityundergraduate</td>\n",
       "      <td></td>\n",
       "      <td></td>\n",
       "      <td>gmail.com</td>\n",
       "      <td>{}</td>\n",
       "    </tr>\n",
       "  </tbody>\n",
       "</table>\n",
       "</div>"
      ],
      "text/plain": [
       "       id        name       username  block                    email  \\\n",
       "0  298948  aman altaf  amanaltaf.exe      0  amanaltaf.exe@gmail.com   \n",
       "\n",
       "   sendEmail        registerDate        lastvisitDate  \\\n",
       "0          0 2020-09-07 00:07:51  2021-02-13 15:50:19   \n",
       "\n",
       "                   orgtype organization orcid email_host org_cleaned_set  \n",
       "0  universityundergraduate                     gmail.com              {}  "
      ]
     },
     "metadata": {},
     "output_type": "display_data"
    }
   ],
   "source": [
    "# clean domain name\n",
    "domain_df['domain_cleaned_set'] = domain_df.domain_name.apply(clean_domain)\n",
    "display(domain_df.head(1))\n",
    "# clean nanohub org name\n",
    "df['org_cleaned_set'] = df.organization.apply(clean_domain)\n",
    "display(df.head(1))"
   ]
  },
  {
   "cell_type": "code",
   "execution_count": 17,
   "id": "4290c871",
   "metadata": {
    "execution": {
     "iopub.execute_input": "2021-09-08T02:51:53.439866Z",
     "iopub.status.busy": "2021-09-08T02:51:53.438668Z",
     "iopub.status.idle": "2021-09-08T02:51:56.897041Z",
     "shell.execute_reply": "2021-09-08T02:51:56.898091Z"
    },
    "jupyter": {
     "source_hidden": true
    },
    "papermill": {
     "duration": 3.62103,
     "end_time": "2021-09-08T02:51:56.898436",
     "exception": false,
     "start_time": "2021-09-08T02:51:53.277406",
     "status": "completed"
    },
    "tags": []
   },
   "outputs": [],
   "source": [
    "# hash cleaned domain name\n",
    "domain_df['domain_cleaned_hash'] = domain_df['domain_cleaned_set'].apply(lambda x: '-'.join(sorted(list(x))) if x else None)\n",
    "\n",
    "# hash cleaned clean nanohub org name\n",
    "df['org_cleaned_hash'] = df['org_cleaned_set'].apply(lambda x: '-'.join(sorted(list(x))) if x else None)"
   ]
  },
  {
   "cell_type": "code",
   "execution_count": 18,
   "id": "978fa173",
   "metadata": {
    "execution": {
     "iopub.execute_input": "2021-09-08T02:51:57.298825Z",
     "iopub.status.busy": "2021-09-08T02:51:57.296423Z",
     "iopub.status.idle": "2021-09-08T02:51:57.315327Z",
     "shell.execute_reply": "2021-09-08T02:51:57.315914Z"
    },
    "jupyter": {
     "source_hidden": true
    },
    "papermill": {
     "duration": 0.196773,
     "end_time": "2021-09-08T02:51:57.316192",
     "exception": false,
     "start_time": "2021-09-08T02:51:57.119419",
     "status": "completed"
    },
    "tags": []
   },
   "outputs": [
    {
     "data": {
      "text/html": [
       "<div>\n",
       "<style scoped>\n",
       "    .dataframe tbody tr th:only-of-type {\n",
       "        vertical-align: middle;\n",
       "    }\n",
       "\n",
       "    .dataframe tbody tr th {\n",
       "        vertical-align: top;\n",
       "    }\n",
       "\n",
       "    .dataframe thead th {\n",
       "        text-align: right;\n",
       "    }\n",
       "</style>\n",
       "<table border=\"1\" class=\"dataframe\">\n",
       "  <thead>\n",
       "    <tr style=\"text-align: right;\">\n",
       "      <th></th>\n",
       "      <th>domain_name</th>\n",
       "      <th>domain</th>\n",
       "      <th>industry</th>\n",
       "      <th>size</th>\n",
       "      <th>country</th>\n",
       "      <th>domain_cleaned_set</th>\n",
       "      <th>domain_cleaned_hash</th>\n",
       "    </tr>\n",
       "  </thead>\n",
       "  <tbody>\n",
       "    <tr>\n",
       "      <th>0</th>\n",
       "      <td>strategic interns</td>\n",
       "      <td>strategicinterns.com</td>\n",
       "      <td>education management</td>\n",
       "      <td>1-10</td>\n",
       "      <td>india</td>\n",
       "      <td>{interns, strategic}</td>\n",
       "      <td>interns-strategic</td>\n",
       "    </tr>\n",
       "  </tbody>\n",
       "</table>\n",
       "</div>"
      ],
      "text/plain": [
       "         domain_name                domain              industry  size  \\\n",
       "0  strategic interns  strategicinterns.com  education management  1-10   \n",
       "\n",
       "  country    domain_cleaned_set domain_cleaned_hash  \n",
       "0   india  {interns, strategic}   interns-strategic  "
      ]
     },
     "metadata": {},
     "output_type": "display_data"
    },
    {
     "data": {
      "text/html": [
       "<div>\n",
       "<style scoped>\n",
       "    .dataframe tbody tr th:only-of-type {\n",
       "        vertical-align: middle;\n",
       "    }\n",
       "\n",
       "    .dataframe tbody tr th {\n",
       "        vertical-align: top;\n",
       "    }\n",
       "\n",
       "    .dataframe thead th {\n",
       "        text-align: right;\n",
       "    }\n",
       "</style>\n",
       "<table border=\"1\" class=\"dataframe\">\n",
       "  <thead>\n",
       "    <tr style=\"text-align: right;\">\n",
       "      <th></th>\n",
       "      <th>id</th>\n",
       "      <th>name</th>\n",
       "      <th>username</th>\n",
       "      <th>block</th>\n",
       "      <th>email</th>\n",
       "      <th>sendEmail</th>\n",
       "      <th>registerDate</th>\n",
       "      <th>lastvisitDate</th>\n",
       "      <th>orgtype</th>\n",
       "      <th>organization</th>\n",
       "      <th>orcid</th>\n",
       "      <th>email_host</th>\n",
       "      <th>org_cleaned_set</th>\n",
       "      <th>org_cleaned_hash</th>\n",
       "    </tr>\n",
       "  </thead>\n",
       "  <tbody>\n",
       "    <tr>\n",
       "      <th>0</th>\n",
       "      <td>298948</td>\n",
       "      <td>aman altaf</td>\n",
       "      <td>amanaltaf.exe</td>\n",
       "      <td>0</td>\n",
       "      <td>amanaltaf.exe@gmail.com</td>\n",
       "      <td>0</td>\n",
       "      <td>2020-09-07 00:07:51</td>\n",
       "      <td>2021-02-13 15:50:19</td>\n",
       "      <td>universityundergraduate</td>\n",
       "      <td></td>\n",
       "      <td></td>\n",
       "      <td>gmail.com</td>\n",
       "      <td>{}</td>\n",
       "      <td>None</td>\n",
       "    </tr>\n",
       "  </tbody>\n",
       "</table>\n",
       "</div>"
      ],
      "text/plain": [
       "       id        name       username  block                    email  \\\n",
       "0  298948  aman altaf  amanaltaf.exe      0  amanaltaf.exe@gmail.com   \n",
       "\n",
       "   sendEmail        registerDate        lastvisitDate  \\\n",
       "0          0 2020-09-07 00:07:51  2021-02-13 15:50:19   \n",
       "\n",
       "                   orgtype organization orcid email_host org_cleaned_set  \\\n",
       "0  universityundergraduate                     gmail.com              {}   \n",
       "\n",
       "  org_cleaned_hash  \n",
       "0             None  "
      ]
     },
     "metadata": {},
     "output_type": "display_data"
    }
   ],
   "source": [
    "display(domain_df.head(1))\n",
    "display(df.head(1))"
   ]
  },
  {
   "cell_type": "markdown",
   "id": "bec8b8a1",
   "metadata": {
    "papermill": {
     "duration": 0.161056,
     "end_time": "2021-09-08T02:51:57.642738",
     "exception": false,
     "start_time": "2021-09-08T02:51:57.481682",
     "status": "completed"
    },
    "tags": []
   },
   "source": [
    "## Collaborative filtering for commerical email hosts"
   ]
  },
  {
   "cell_type": "code",
   "execution_count": 19,
   "id": "4da5672c",
   "metadata": {
    "execution": {
     "iopub.execute_input": "2021-09-08T02:51:57.971257Z",
     "iopub.status.busy": "2021-09-08T02:51:57.970620Z",
     "iopub.status.idle": "2021-09-08T02:51:58.883647Z",
     "shell.execute_reply": "2021-09-08T02:51:58.884201Z"
    },
    "jupyter": {
     "source_hidden": true
    },
    "papermill": {
     "duration": 1.079864,
     "end_time": "2021-09-08T02:51:58.884372",
     "exception": false,
     "start_time": "2021-09-08T02:51:57.804508",
     "status": "completed"
    },
    "tags": []
   },
   "outputs": [],
   "source": [
    "def predict_if_commerical(this_email_host_df):\n",
    "    # predict if this email host is commerical\n",
    "    top_cnt = this_email_host_df['org_cleaned_hash'].value_counts() #returns uniques in descending order\n",
    "    \n",
    "    if top_cnt.shape[0] > 0:\n",
    "        if (top_cnt.iloc[0]/top_cnt.sum()) < 0.2:\n",
    "            return True\n",
    "        else:\n",
    "            return False\n",
    "    \n",
    "    else:\n",
    "        return False\n",
    "    \n",
    "    \n",
    "is_email_commercial = df[['email_host', 'org_cleaned_hash']].groupby('email_host').apply(predict_if_commerical)"
   ]
  },
  {
   "cell_type": "code",
   "execution_count": 20,
   "id": "d584c2e1",
   "metadata": {
    "execution": {
     "iopub.execute_input": "2021-09-08T02:51:59.199263Z",
     "iopub.status.busy": "2021-09-08T02:51:59.198257Z",
     "iopub.status.idle": "2021-09-08T02:51:59.207398Z",
     "shell.execute_reply": "2021-09-08T02:51:59.208067Z"
    },
    "jupyter": {
     "source_hidden": true
    },
    "papermill": {
     "duration": 0.170984,
     "end_time": "2021-09-08T02:51:59.208412",
     "exception": false,
     "start_time": "2021-09-08T02:51:59.037428",
     "status": "completed"
    },
    "tags": []
   },
   "outputs": [],
   "source": [
    "temp2 = deepcopy(df)"
   ]
  },
  {
   "cell_type": "code",
   "execution_count": 21,
   "id": "c7031871",
   "metadata": {
    "execution": {
     "iopub.execute_input": "2021-09-08T02:51:59.535550Z",
     "iopub.status.busy": "2021-09-08T02:51:59.534955Z",
     "iopub.status.idle": "2021-09-08T02:51:59.545745Z",
     "shell.execute_reply": "2021-09-08T02:51:59.545132Z"
    },
    "jupyter": {
     "source_hidden": true
    },
    "papermill": {
     "duration": 0.175853,
     "end_time": "2021-09-08T02:51:59.546040",
     "exception": false,
     "start_time": "2021-09-08T02:51:59.370187",
     "status": "completed"
    },
    "tags": []
   },
   "outputs": [],
   "source": [
    "df = deepcopy(temp2)"
   ]
  },
  {
   "cell_type": "code",
   "execution_count": 22,
   "id": "d9da0c84",
   "metadata": {
    "execution": {
     "iopub.execute_input": "2021-09-08T02:51:59.887912Z",
     "iopub.status.busy": "2021-09-08T02:51:59.887147Z",
     "iopub.status.idle": "2021-09-08T02:51:59.933351Z",
     "shell.execute_reply": "2021-09-08T02:51:59.934099Z"
    },
    "jupyter": {
     "source_hidden": true
    },
    "papermill": {
     "duration": 0.232092,
     "end_time": "2021-09-08T02:51:59.934367",
     "exception": false,
     "start_time": "2021-09-08T02:51:59.702275",
     "status": "completed"
    },
    "tags": []
   },
   "outputs": [],
   "source": [
    "# mark commerical email addresses\n",
    "df = pd.merge(df, is_email_commercial.reset_index(name='is_email_commercial'),\\\n",
    "         how='left', left_on='email_host', right_on='email_host' ,)"
   ]
  },
  {
   "cell_type": "code",
   "execution_count": 23,
   "id": "8b88b078",
   "metadata": {
    "execution": {
     "iopub.execute_input": "2021-09-08T02:52:00.277503Z",
     "iopub.status.busy": "2021-09-08T02:52:00.276636Z",
     "iopub.status.idle": "2021-09-08T02:52:00.282156Z",
     "shell.execute_reply": "2021-09-08T02:52:00.282793Z"
    },
    "jupyter": {
     "source_hidden": true
    },
    "papermill": {
     "duration": 0.181758,
     "end_time": "2021-09-08T02:52:00.282999",
     "exception": false,
     "start_time": "2021-09-08T02:52:00.101241",
     "status": "completed"
    },
    "tags": []
   },
   "outputs": [
    {
     "data": {
      "text/html": [
       "<div>\n",
       "<style scoped>\n",
       "    .dataframe tbody tr th:only-of-type {\n",
       "        vertical-align: middle;\n",
       "    }\n",
       "\n",
       "    .dataframe tbody tr th {\n",
       "        vertical-align: top;\n",
       "    }\n",
       "\n",
       "    .dataframe thead th {\n",
       "        text-align: right;\n",
       "    }\n",
       "</style>\n",
       "<table border=\"1\" class=\"dataframe\">\n",
       "  <thead>\n",
       "    <tr style=\"text-align: right;\">\n",
       "      <th></th>\n",
       "      <th>id</th>\n",
       "      <th>name</th>\n",
       "      <th>username</th>\n",
       "      <th>block</th>\n",
       "      <th>email</th>\n",
       "      <th>sendEmail</th>\n",
       "      <th>registerDate</th>\n",
       "      <th>lastvisitDate</th>\n",
       "      <th>orgtype</th>\n",
       "      <th>organization</th>\n",
       "      <th>orcid</th>\n",
       "      <th>email_host</th>\n",
       "      <th>org_cleaned_set</th>\n",
       "      <th>org_cleaned_hash</th>\n",
       "      <th>is_email_commercial</th>\n",
       "    </tr>\n",
       "  </thead>\n",
       "  <tbody>\n",
       "    <tr>\n",
       "      <th>41780</th>\n",
       "      <td>337877</td>\n",
       "      <td>Matthew Lanum</td>\n",
       "      <td>ren0225</td>\n",
       "      <td>0</td>\n",
       "      <td>mattlanum@gmail.com</td>\n",
       "      <td>0</td>\n",
       "      <td>2021-09-08 02:45:02</td>\n",
       "      <td>2021-09-08 02:47:15</td>\n",
       "      <td>universityundergraduate</td>\n",
       "      <td>kennesaw state university</td>\n",
       "      <td></td>\n",
       "      <td>gmail.com</td>\n",
       "      <td>{state, university, kennesaw}</td>\n",
       "      <td>kennesaw-state-university</td>\n",
       "      <td>True</td>\n",
       "    </tr>\n",
       "  </tbody>\n",
       "</table>\n",
       "</div>"
      ],
      "text/plain": [
       "           id           name username  block                email  sendEmail  \\\n",
       "41780  337877  Matthew Lanum  ren0225      0  mattlanum@gmail.com          0   \n",
       "\n",
       "             registerDate        lastvisitDate                  orgtype  \\\n",
       "41780 2021-09-08 02:45:02  2021-09-08 02:47:15  universityundergraduate   \n",
       "\n",
       "                    organization orcid email_host  \\\n",
       "41780  kennesaw state university        gmail.com   \n",
       "\n",
       "                     org_cleaned_set           org_cleaned_hash  \\\n",
       "41780  {state, university, kennesaw}  kennesaw-state-university   \n",
       "\n",
       "       is_email_commercial  \n",
       "41780                 True  "
      ]
     },
     "metadata": {},
     "output_type": "display_data"
    }
   ],
   "source": [
    "display(df.tail(1))"
   ]
  },
  {
   "cell_type": "code",
   "execution_count": 24,
   "id": "15f0cbfa",
   "metadata": {
    "execution": {
     "iopub.execute_input": "2021-09-08T02:52:00.933644Z",
     "iopub.status.busy": "2021-09-08T02:52:00.932839Z",
     "iopub.status.idle": "2021-09-08T02:52:07.699323Z",
     "shell.execute_reply": "2021-09-08T02:52:07.699774Z"
    },
    "jupyter": {
     "source_hidden": true
    },
    "papermill": {
     "duration": 7.231777,
     "end_time": "2021-09-08T02:52:07.699989",
     "exception": false,
     "start_time": "2021-09-08T02:52:00.468212",
     "status": "completed"
    },
    "tags": []
   },
   "outputs": [
    {
     "data": {
      "text/html": [
       "<div>\n",
       "<style scoped>\n",
       "    .dataframe tbody tr th:only-of-type {\n",
       "        vertical-align: middle;\n",
       "    }\n",
       "\n",
       "    .dataframe tbody tr th {\n",
       "        vertical-align: top;\n",
       "    }\n",
       "\n",
       "    .dataframe thead th {\n",
       "        text-align: right;\n",
       "    }\n",
       "</style>\n",
       "<table border=\"1\" class=\"dataframe\">\n",
       "  <thead>\n",
       "    <tr style=\"text-align: right;\">\n",
       "      <th></th>\n",
       "      <th>0</th>\n",
       "      <th>1</th>\n",
       "    </tr>\n",
       "  </thead>\n",
       "  <tbody>\n",
       "    <tr>\n",
       "      <th>id</th>\n",
       "      <td>298948</td>\n",
       "      <td>298949</td>\n",
       "    </tr>\n",
       "    <tr>\n",
       "      <th>name</th>\n",
       "      <td>aman altaf</td>\n",
       "      <td>Krista Biggs</td>\n",
       "    </tr>\n",
       "    <tr>\n",
       "      <th>username</th>\n",
       "      <td>amanaltaf.exe</td>\n",
       "      <td>kristaelainebiggs</td>\n",
       "    </tr>\n",
       "    <tr>\n",
       "      <th>block</th>\n",
       "      <td>0</td>\n",
       "      <td>0</td>\n",
       "    </tr>\n",
       "    <tr>\n",
       "      <th>email</th>\n",
       "      <td>amanaltaf.exe@gmail.com</td>\n",
       "      <td>kristaelainebiggs@gmail.com</td>\n",
       "    </tr>\n",
       "    <tr>\n",
       "      <th>sendEmail</th>\n",
       "      <td>0</td>\n",
       "      <td>0</td>\n",
       "    </tr>\n",
       "    <tr>\n",
       "      <th>registerDate</th>\n",
       "      <td>2020-09-07 00:07:51</td>\n",
       "      <td>2020-09-07 00:29:13</td>\n",
       "    </tr>\n",
       "    <tr>\n",
       "      <th>lastvisitDate</th>\n",
       "      <td>2021-02-13 15:50:19</td>\n",
       "      <td>2020-09-07 00:29:14</td>\n",
       "    </tr>\n",
       "    <tr>\n",
       "      <th>orgtype</th>\n",
       "      <td>universityundergraduate</td>\n",
       "      <td>universitygraduate</td>\n",
       "    </tr>\n",
       "    <tr>\n",
       "      <th>organization</th>\n",
       "      <td></td>\n",
       "      <td></td>\n",
       "    </tr>\n",
       "    <tr>\n",
       "      <th>orcid</th>\n",
       "      <td></td>\n",
       "      <td></td>\n",
       "    </tr>\n",
       "    <tr>\n",
       "      <th>email_host</th>\n",
       "      <td>gmail.com</td>\n",
       "      <td>gmail.com</td>\n",
       "    </tr>\n",
       "    <tr>\n",
       "      <th>org_cleaned_set</th>\n",
       "      <td>{}</td>\n",
       "      <td>{}</td>\n",
       "    </tr>\n",
       "    <tr>\n",
       "      <th>org_cleaned_hash</th>\n",
       "      <td>None</td>\n",
       "      <td>None</td>\n",
       "    </tr>\n",
       "    <tr>\n",
       "      <th>is_email_commercial</th>\n",
       "      <td>True</td>\n",
       "      <td>True</td>\n",
       "    </tr>\n",
       "    <tr>\n",
       "      <th>domain_by_email</th>\n",
       "      <td>NaN</td>\n",
       "      <td>NaN</td>\n",
       "    </tr>\n",
       "  </tbody>\n",
       "</table>\n",
       "</div>"
      ],
      "text/plain": [
       "                                           0                            1\n",
       "id                                    298948                       298949\n",
       "name                              aman altaf                 Krista Biggs\n",
       "username                       amanaltaf.exe            kristaelainebiggs\n",
       "block                                      0                            0\n",
       "email                amanaltaf.exe@gmail.com  kristaelainebiggs@gmail.com\n",
       "sendEmail                                  0                            0\n",
       "registerDate             2020-09-07 00:07:51          2020-09-07 00:29:13\n",
       "lastvisitDate            2021-02-13 15:50:19          2020-09-07 00:29:14\n",
       "orgtype              universityundergraduate           universitygraduate\n",
       "organization                                                             \n",
       "orcid                                                                    \n",
       "email_host                         gmail.com                    gmail.com\n",
       "org_cleaned_set                           {}                           {}\n",
       "org_cleaned_hash                        None                         None\n",
       "is_email_commercial                     True                         True\n",
       "domain_by_email                          NaN                          NaN"
      ]
     },
     "metadata": {},
     "output_type": "display_data"
    }
   ],
   "source": [
    "# obtain domain estimation from email addresses\n",
    "df = pd.merge(df, domain_df[~domain_df.domain.isin(is_email_commercial[is_email_commercial].index)]['domain'],\\\n",
    "         how='left', left_on='email_host', right_on='domain').rename(columns={'domain':'domain_by_email'})\n",
    "\n",
    "# display\n",
    "display(df.head(2).T)"
   ]
  },
  {
   "cell_type": "markdown",
   "id": "200f8d0a",
   "metadata": {
    "papermill": {
     "duration": 0.172759,
     "end_time": "2021-09-08T02:52:08.054840",
     "exception": false,
     "start_time": "2021-09-08T02:52:07.882081",
     "status": "completed"
    },
    "tags": []
   },
   "source": [
    "## Fuzzy derive organization from nanoHUB profiles"
   ]
  },
  {
   "cell_type": "code",
   "execution_count": 25,
   "id": "19915951",
   "metadata": {
    "execution": {
     "iopub.execute_input": "2021-09-08T02:52:08.437034Z",
     "iopub.status.busy": "2021-09-08T02:52:08.435557Z",
     "iopub.status.idle": "2021-09-08T02:52:08.989655Z",
     "shell.execute_reply": "2021-09-08T02:52:08.990250Z"
    },
    "jupyter": {
     "source_hidden": true
    },
    "papermill": {
     "duration": 0.759149,
     "end_time": "2021-09-08T02:52:08.990614",
     "exception": false,
     "start_time": "2021-09-08T02:52:08.231465",
     "status": "completed"
    },
    "tags": []
   },
   "outputs": [
    {
     "data": {
      "text/html": [
       "<div>\n",
       "<style scoped>\n",
       "    .dataframe tbody tr th:only-of-type {\n",
       "        vertical-align: middle;\n",
       "    }\n",
       "\n",
       "    .dataframe tbody tr th {\n",
       "        vertical-align: top;\n",
       "    }\n",
       "\n",
       "    .dataframe thead th {\n",
       "        text-align: right;\n",
       "    }\n",
       "</style>\n",
       "<table border=\"1\" class=\"dataframe\">\n",
       "  <thead>\n",
       "    <tr style=\"text-align: right;\">\n",
       "      <th></th>\n",
       "      <th>10643</th>\n",
       "      <th>30159</th>\n",
       "      <th>21422</th>\n",
       "      <th>23552</th>\n",
       "      <th>20072</th>\n",
       "    </tr>\n",
       "  </thead>\n",
       "  <tbody>\n",
       "    <tr>\n",
       "      <th>id</th>\n",
       "      <td>311971</td>\n",
       "      <td>328235</td>\n",
       "      <td>324821</td>\n",
       "      <td>327140</td>\n",
       "      <td>323247</td>\n",
       "    </tr>\n",
       "    <tr>\n",
       "      <th>name</th>\n",
       "      <td>robert stephen</td>\n",
       "      <td>이동엽/신소재공학전공 이동엽/신소재공학전공</td>\n",
       "      <td>Britt Topliff</td>\n",
       "      <td>Sk Mohammad Yasin</td>\n",
       "      <td>Kepala Bergetar Bergetar</td>\n",
       "    </tr>\n",
       "    <tr>\n",
       "      <th>username</th>\n",
       "      <td>robertstephen</td>\n",
       "      <td>dlehdduq9999</td>\n",
       "      <td>brittney.topliff</td>\n",
       "      <td>-169802</td>\n",
       "      <td>kepalabergetarbergetar</td>\n",
       "    </tr>\n",
       "    <tr>\n",
       "      <th>block</th>\n",
       "      <td>1</td>\n",
       "      <td>0</td>\n",
       "      <td>0</td>\n",
       "      <td>0</td>\n",
       "      <td>1</td>\n",
       "    </tr>\n",
       "    <tr>\n",
       "      <th>email</th>\n",
       "      <td>robertstephen015@gmail.com</td>\n",
       "      <td>dlehdduq9999@g.hongik.ac.kr</td>\n",
       "      <td>brittney.topliff@gmail.com</td>\n",
       "      <td>-169802@invalid</td>\n",
       "      <td>kepalabergetarbergetar@gmail.com</td>\n",
       "    </tr>\n",
       "    <tr>\n",
       "      <th>sendEmail</th>\n",
       "      <td>0</td>\n",
       "      <td>0</td>\n",
       "      <td>0</td>\n",
       "      <td>-1</td>\n",
       "      <td>0</td>\n",
       "    </tr>\n",
       "    <tr>\n",
       "      <th>registerDate</th>\n",
       "      <td>2021-01-06 07:09:26</td>\n",
       "      <td>2021-05-25 11:10:33</td>\n",
       "      <td>2021-04-26 19:39:29</td>\n",
       "      <td>2021-05-16 10:08:21</td>\n",
       "      <td>2021-04-13 10:55:39</td>\n",
       "    </tr>\n",
       "    <tr>\n",
       "      <th>lastvisitDate</th>\n",
       "      <td>2021-01-06 07:09:27</td>\n",
       "      <td>2021-05-25 11:59:55</td>\n",
       "      <td>2021-04-26 19:39:31</td>\n",
       "      <td>2021-05-16 11:06:11</td>\n",
       "      <td>2021-04-13 10:55:39</td>\n",
       "    </tr>\n",
       "    <tr>\n",
       "      <th>orgtype</th>\n",
       "      <td>other</td>\n",
       "      <td>universityfaculty</td>\n",
       "      <td>universityundergraduate</td>\n",
       "      <td></td>\n",
       "      <td>other</td>\n",
       "    </tr>\n",
       "    <tr>\n",
       "      <th>organization</th>\n",
       "      <td></td>\n",
       "      <td>hongik university</td>\n",
       "      <td>st. cloud state university</td>\n",
       "      <td></td>\n",
       "      <td>sdfg</td>\n",
       "    </tr>\n",
       "    <tr>\n",
       "      <th>orcid</th>\n",
       "      <td></td>\n",
       "      <td></td>\n",
       "      <td></td>\n",
       "      <td></td>\n",
       "      <td></td>\n",
       "    </tr>\n",
       "    <tr>\n",
       "      <th>email_host</th>\n",
       "      <td>gmail.com</td>\n",
       "      <td>g.hongik.ac.kr</td>\n",
       "      <td>gmail.com</td>\n",
       "      <td>invalid</td>\n",
       "      <td>gmail.com</td>\n",
       "    </tr>\n",
       "    <tr>\n",
       "      <th>org_cleaned_set</th>\n",
       "      <td>{}</td>\n",
       "      <td>{hongik, university}</td>\n",
       "      <td>{state, cloud, st, university}</td>\n",
       "      <td>{}</td>\n",
       "      <td>{sdfg}</td>\n",
       "    </tr>\n",
       "    <tr>\n",
       "      <th>org_cleaned_hash</th>\n",
       "      <td>None</td>\n",
       "      <td>hongik-university</td>\n",
       "      <td>cloud-st-state-university</td>\n",
       "      <td>None</td>\n",
       "      <td>sdfg</td>\n",
       "    </tr>\n",
       "    <tr>\n",
       "      <th>is_email_commercial</th>\n",
       "      <td>True</td>\n",
       "      <td>False</td>\n",
       "      <td>True</td>\n",
       "      <td>True</td>\n",
       "      <td>True</td>\n",
       "    </tr>\n",
       "    <tr>\n",
       "      <th>domain_by_email</th>\n",
       "      <td>NaN</td>\n",
       "      <td>NaN</td>\n",
       "      <td>NaN</td>\n",
       "      <td>NaN</td>\n",
       "      <td>NaN</td>\n",
       "    </tr>\n",
       "    <tr>\n",
       "      <th>domain_by_profile</th>\n",
       "      <td>NaN</td>\n",
       "      <td>NaN</td>\n",
       "      <td>stcloudstate.edu</td>\n",
       "      <td>NaN</td>\n",
       "      <td>NaN</td>\n",
       "    </tr>\n",
       "  </tbody>\n",
       "</table>\n",
       "</div>"
      ],
      "text/plain": [
       "                                          10643                        30159  \\\n",
       "id                                       311971                       328235   \n",
       "name                             robert stephen      이동엽/신소재공학전공 이동엽/신소재공학전공   \n",
       "username                          robertstephen                 dlehdduq9999   \n",
       "block                                         1                            0   \n",
       "email                robertstephen015@gmail.com  dlehdduq9999@g.hongik.ac.kr   \n",
       "sendEmail                                     0                            0   \n",
       "registerDate                2021-01-06 07:09:26          2021-05-25 11:10:33   \n",
       "lastvisitDate               2021-01-06 07:09:27          2021-05-25 11:59:55   \n",
       "orgtype                                   other            universityfaculty   \n",
       "organization                                               hongik university   \n",
       "orcid                                                                          \n",
       "email_host                            gmail.com               g.hongik.ac.kr   \n",
       "org_cleaned_set                              {}         {hongik, university}   \n",
       "org_cleaned_hash                           None            hongik-university   \n",
       "is_email_commercial                        True                        False   \n",
       "domain_by_email                             NaN                          NaN   \n",
       "domain_by_profile                           NaN                          NaN   \n",
       "\n",
       "                                              21422                23552  \\\n",
       "id                                           324821               327140   \n",
       "name                                  Britt Topliff    Sk Mohammad Yasin   \n",
       "username                           brittney.topliff              -169802   \n",
       "block                                             0                    0   \n",
       "email                    brittney.topliff@gmail.com      -169802@invalid   \n",
       "sendEmail                                         0                   -1   \n",
       "registerDate                    2021-04-26 19:39:29  2021-05-16 10:08:21   \n",
       "lastvisitDate                   2021-04-26 19:39:31  2021-05-16 11:06:11   \n",
       "orgtype                     universityundergraduate                        \n",
       "organization             st. cloud state university                        \n",
       "orcid                                                                      \n",
       "email_host                                gmail.com              invalid   \n",
       "org_cleaned_set      {state, cloud, st, university}                   {}   \n",
       "org_cleaned_hash          cloud-st-state-university                 None   \n",
       "is_email_commercial                            True                 True   \n",
       "domain_by_email                                 NaN                  NaN   \n",
       "domain_by_profile                  stcloudstate.edu                  NaN   \n",
       "\n",
       "                                                20072  \n",
       "id                                             323247  \n",
       "name                         Kepala Bergetar Bergetar  \n",
       "username                       kepalabergetarbergetar  \n",
       "block                                               1  \n",
       "email                kepalabergetarbergetar@gmail.com  \n",
       "sendEmail                                           0  \n",
       "registerDate                      2021-04-13 10:55:39  \n",
       "lastvisitDate                     2021-04-13 10:55:39  \n",
       "orgtype                                         other  \n",
       "organization                                     sdfg  \n",
       "orcid                                                  \n",
       "email_host                                  gmail.com  \n",
       "org_cleaned_set                                {sdfg}  \n",
       "org_cleaned_hash                                 sdfg  \n",
       "is_email_commercial                              True  \n",
       "domain_by_email                                   NaN  \n",
       "domain_by_profile                                 NaN  "
      ]
     },
     "execution_count": 25,
     "metadata": {},
     "output_type": "execute_result"
    }
   ],
   "source": [
    "# attempt direct join by hash\n",
    "domain_subset_df = domain_df[domain_df.domain.isin(df.email_host.unique())][['domain', 'domain_cleaned_hash']]\n",
    "# only take values that exist\n",
    "domain_subset_df = domain_subset_df[~domain_subset_df.domain.isna()&~domain_subset_df.domain_cleaned_hash.isna()]\n",
    "\n",
    "derived_df = pd.merge(df, domain_subset_df.rename(columns={'domain':'domain_by_profile'}),\\\n",
    "         how='left', left_on='org_cleaned_hash', right_on='domain_cleaned_hash')\\\n",
    "        .drop('domain_cleaned_hash', axis=1)\n",
    "\n",
    "# display\n",
    "derived_df.sample(5).T"
   ]
  },
  {
   "cell_type": "code",
   "execution_count": 26,
   "id": "b460d517",
   "metadata": {
    "execution": {
     "iopub.execute_input": "2021-09-08T02:52:09.424308Z",
     "iopub.status.busy": "2021-09-08T02:52:09.422784Z",
     "iopub.status.idle": "2021-09-08T02:52:12.919860Z",
     "shell.execute_reply": "2021-09-08T02:52:12.920523Z"
    },
    "jupyter": {
     "source_hidden": true
    },
    "papermill": {
     "duration": 3.747009,
     "end_time": "2021-09-08T02:52:12.920790",
     "exception": false,
     "start_time": "2021-09-08T02:52:09.173781",
     "status": "completed"
    },
    "tags": []
   },
   "outputs": [],
   "source": [
    "# attempt to reduce domain_df size to speedup Jaccard calculation\n",
    "from itertools import chain\n",
    "\n",
    "all_word_set = set(chain.from_iterable(derived_df[(derived_df['domain_by_profile'].isna() & (~derived_df['organization'].isna()))]\\\n",
    "                    .org_cleaned_set.values))\n",
    "\n",
    "# select the domain_df entry with words from all_word_set\n",
    "domain_subset_df = domain_df[domain_df.domain_cleaned_set.notnull()]\n",
    "domain_subset_df = domain_subset_df[domain_subset_df.domain_cleaned_set\\\n",
    "                             .apply(lambda x: True if len(x.intersection(all_word_set)) > 0 else False)]"
   ]
  },
  {
   "cell_type": "code",
   "execution_count": 27,
   "id": "976943c9",
   "metadata": {
    "execution": {
     "iopub.execute_input": "2021-09-08T02:52:13.248377Z",
     "iopub.status.busy": "2021-09-08T02:52:13.247404Z",
     "iopub.status.idle": "2021-09-08T02:52:13.252954Z",
     "shell.execute_reply": "2021-09-08T02:52:13.253542Z"
    },
    "jupyter": {
     "source_hidden": true
    },
    "papermill": {
     "duration": 0.176335,
     "end_time": "2021-09-08T02:52:13.253737",
     "exception": false,
     "start_time": "2021-09-08T02:52:13.077402",
     "status": "completed"
    },
    "tags": []
   },
   "outputs": [
    {
     "data": {
      "text/html": [
       "<div>\n",
       "<style scoped>\n",
       "    .dataframe tbody tr th:only-of-type {\n",
       "        vertical-align: middle;\n",
       "    }\n",
       "\n",
       "    .dataframe tbody tr th {\n",
       "        vertical-align: top;\n",
       "    }\n",
       "\n",
       "    .dataframe thead th {\n",
       "        text-align: right;\n",
       "    }\n",
       "</style>\n",
       "<table border=\"1\" class=\"dataframe\">\n",
       "  <thead>\n",
       "    <tr style=\"text-align: right;\">\n",
       "      <th></th>\n",
       "      <th>domain_name</th>\n",
       "      <th>domain</th>\n",
       "      <th>industry</th>\n",
       "      <th>size</th>\n",
       "      <th>country</th>\n",
       "      <th>domain_cleaned_set</th>\n",
       "      <th>domain_cleaned_hash</th>\n",
       "    </tr>\n",
       "  </thead>\n",
       "  <tbody>\n",
       "    <tr>\n",
       "      <th>1</th>\n",
       "      <td>bosque y comunidad</td>\n",
       "      <td>bosqueycomunidad.org</td>\n",
       "      <td>non-profit organization management</td>\n",
       "      <td>1-10</td>\n",
       "      <td>spain</td>\n",
       "      <td>{comunidad, bosque}</td>\n",
       "      <td>bosque-comunidad</td>\n",
       "    </tr>\n",
       "    <tr>\n",
       "      <th>4</th>\n",
       "      <td>cardinal strategies, llc</td>\n",
       "      <td>cardinal-strategies.com</td>\n",
       "      <td>civil engineering</td>\n",
       "      <td>11-50</td>\n",
       "      <td>united states</td>\n",
       "      <td>{llc, strategies, cardinal}</td>\n",
       "      <td>cardinal-llc-strategies</td>\n",
       "    </tr>\n",
       "  </tbody>\n",
       "</table>\n",
       "</div>"
      ],
      "text/plain": [
       "                domain_name                   domain  \\\n",
       "1        bosque y comunidad     bosqueycomunidad.org   \n",
       "4  cardinal strategies, llc  cardinal-strategies.com   \n",
       "\n",
       "                             industry   size        country  \\\n",
       "1  non-profit organization management   1-10          spain   \n",
       "4                   civil engineering  11-50  united states   \n",
       "\n",
       "            domain_cleaned_set      domain_cleaned_hash  \n",
       "1          {comunidad, bosque}         bosque-comunidad  \n",
       "4  {llc, strategies, cardinal}  cardinal-llc-strategies  "
      ]
     },
     "metadata": {},
     "output_type": "display_data"
    }
   ],
   "source": [
    "display(domain_subset_df.head(2))"
   ]
  },
  {
   "cell_type": "code",
   "execution_count": 28,
   "id": "bcbe1911",
   "metadata": {
    "execution": {
     "iopub.execute_input": "2021-09-08T02:52:13.596030Z",
     "iopub.status.busy": "2021-09-08T02:52:13.595214Z",
     "iopub.status.idle": "2021-09-08T02:52:15.728288Z",
     "shell.execute_reply": "2021-09-08T02:52:15.728689Z"
    },
    "jupyter": {
     "source_hidden": true
    },
    "papermill": {
     "duration": 2.298112,
     "end_time": "2021-09-08T02:52:15.728937",
     "exception": false,
     "start_time": "2021-09-08T02:52:13.430825",
     "status": "completed"
    },
    "tags": []
   },
   "outputs": [],
   "source": [
    "def get_org(this_df):\n",
    "    # look at the cohort with this label, do they have a commonly agreed domain_by_email? If so, use it\n",
    "    this_dbe_count = this_df.domain_by_email.value_counts()\n",
    "\n",
    "    if this_dbe_count.shape[0] < 1:\n",
    "        return None\n",
    "\n",
    "    this_top_dbe_perc = this_dbe_count.iloc[0]/this_dbe_count.sum()\n",
    "\n",
    "    # if top choice occupies majority of cases, then this cohort can be implied to this domain_by_email address\n",
    "    if this_top_dbe_perc > 0.5:\n",
    "        return this_dbe_count.index[0] \n",
    "\n",
    "\n",
    "derived_hash = derived_df.groupby('org_cleaned_hash').apply(get_org)"
   ]
  },
  {
   "cell_type": "code",
   "execution_count": 29,
   "id": "f1157e49",
   "metadata": {
    "execution": {
     "iopub.execute_input": "2021-09-08T02:52:16.329518Z",
     "iopub.status.busy": "2021-09-08T02:52:16.324783Z",
     "iopub.status.idle": "2021-09-08T02:52:16.389203Z",
     "shell.execute_reply": "2021-09-08T02:52:16.389892Z"
    },
    "jupyter": {
     "source_hidden": true
    },
    "papermill": {
     "duration": 0.253524,
     "end_time": "2021-09-08T02:52:16.390099",
     "exception": false,
     "start_time": "2021-09-08T02:52:16.136575",
     "status": "completed"
    },
    "tags": []
   },
   "outputs": [],
   "source": [
    "derived_df = pd.merge(derived_df, derived_hash.reset_index(name='domain_by_profile_infer')\\\n",
    "                      , how='left', left_on='org_cleaned_hash', right_on='org_cleaned_hash')"
   ]
  },
  {
   "cell_type": "code",
   "execution_count": 30,
   "id": "9ecf86ae",
   "metadata": {
    "execution": {
     "iopub.execute_input": "2021-09-08T02:52:16.715722Z",
     "iopub.status.busy": "2021-09-08T02:52:16.714998Z",
     "iopub.status.idle": "2021-09-08T02:52:17.646915Z",
     "shell.execute_reply": "2021-09-08T02:52:17.647511Z"
    },
    "jupyter": {
     "source_hidden": true
    },
    "papermill": {
     "duration": 1.100125,
     "end_time": "2021-09-08T02:52:17.647751",
     "exception": false,
     "start_time": "2021-09-08T02:52:16.547626",
     "status": "completed"
    },
    "tags": []
   },
   "outputs": [],
   "source": [
    "# calculate a composite domain based on domain_by_email, domain_by_profile, and domain_by_profile_infer\n",
    "def get_composite_domain(this_df):\n",
    "\n",
    "    # if domain found via profile with direct match, use it\n",
    "    if this_df.domain_by_profile != '':\n",
    "        return this_df.domain_by_profile\n",
    "    \n",
    "    # if domain found via email, use it\n",
    "    if this_df.domain_by_email != '':\n",
    "        return this_df.domain_by_email    \n",
    "    \n",
    "    # if domain found via profile but not with a direct match, use it\n",
    "    if this_df.domain_by_profile_infer != '':\n",
    "        return this_df.domain_by_profile_infer\n",
    "    \n",
    "    # else, no organization can be concluded, return none\n",
    "    return None\n",
    "\n",
    "    \n",
    "derived_df['domain_final'] = derived_df[['domain_by_email', 'domain_by_profile', 'domain_by_profile_infer']].fillna('')\\\n",
    "                                                        .apply(get_composite_domain, axis=1)"
   ]
  },
  {
   "cell_type": "code",
   "execution_count": 31,
   "id": "eb7b2454",
   "metadata": {
    "execution": {
     "iopub.execute_input": "2021-09-08T02:52:18.061977Z",
     "iopub.status.busy": "2021-09-08T02:52:18.061105Z",
     "iopub.status.idle": "2021-09-08T02:52:18.067168Z",
     "shell.execute_reply": "2021-09-08T02:52:18.067586Z"
    },
    "jupyter": {
     "source_hidden": true
    },
    "papermill": {
     "duration": 0.197884,
     "end_time": "2021-09-08T02:52:18.067762",
     "exception": false,
     "start_time": "2021-09-08T02:52:17.869878",
     "status": "completed"
    },
    "tags": []
   },
   "outputs": [
    {
     "data": {
      "text/html": [
       "<div>\n",
       "<style scoped>\n",
       "    .dataframe tbody tr th:only-of-type {\n",
       "        vertical-align: middle;\n",
       "    }\n",
       "\n",
       "    .dataframe tbody tr th {\n",
       "        vertical-align: top;\n",
       "    }\n",
       "\n",
       "    .dataframe thead th {\n",
       "        text-align: right;\n",
       "    }\n",
       "</style>\n",
       "<table border=\"1\" class=\"dataframe\">\n",
       "  <thead>\n",
       "    <tr style=\"text-align: right;\">\n",
       "      <th></th>\n",
       "      <th>id</th>\n",
       "      <th>name</th>\n",
       "      <th>username</th>\n",
       "      <th>block</th>\n",
       "      <th>email</th>\n",
       "      <th>sendEmail</th>\n",
       "      <th>registerDate</th>\n",
       "      <th>lastvisitDate</th>\n",
       "      <th>orgtype</th>\n",
       "      <th>organization</th>\n",
       "      <th>orcid</th>\n",
       "      <th>email_host</th>\n",
       "      <th>org_cleaned_set</th>\n",
       "      <th>org_cleaned_hash</th>\n",
       "      <th>is_email_commercial</th>\n",
       "      <th>domain_by_email</th>\n",
       "      <th>domain_by_profile</th>\n",
       "      <th>domain_by_profile_infer</th>\n",
       "      <th>domain_final</th>\n",
       "    </tr>\n",
       "  </thead>\n",
       "  <tbody>\n",
       "    <tr>\n",
       "      <th>0</th>\n",
       "      <td>298948</td>\n",
       "      <td>aman altaf</td>\n",
       "      <td>amanaltaf.exe</td>\n",
       "      <td>0</td>\n",
       "      <td>amanaltaf.exe@gmail.com</td>\n",
       "      <td>0</td>\n",
       "      <td>2020-09-07 00:07:51</td>\n",
       "      <td>2021-02-13 15:50:19</td>\n",
       "      <td>universityundergraduate</td>\n",
       "      <td></td>\n",
       "      <td></td>\n",
       "      <td>gmail.com</td>\n",
       "      <td>{}</td>\n",
       "      <td>None</td>\n",
       "      <td>True</td>\n",
       "      <td>NaN</td>\n",
       "      <td>NaN</td>\n",
       "      <td>NaN</td>\n",
       "      <td>None</td>\n",
       "    </tr>\n",
       "    <tr>\n",
       "      <th>1</th>\n",
       "      <td>298949</td>\n",
       "      <td>Krista Biggs</td>\n",
       "      <td>kristaelainebiggs</td>\n",
       "      <td>0</td>\n",
       "      <td>kristaelainebiggs@gmail.com</td>\n",
       "      <td>0</td>\n",
       "      <td>2020-09-07 00:29:13</td>\n",
       "      <td>2020-09-07 00:29:14</td>\n",
       "      <td>universitygraduate</td>\n",
       "      <td></td>\n",
       "      <td></td>\n",
       "      <td>gmail.com</td>\n",
       "      <td>{}</td>\n",
       "      <td>None</td>\n",
       "      <td>True</td>\n",
       "      <td>NaN</td>\n",
       "      <td>NaN</td>\n",
       "      <td>NaN</td>\n",
       "      <td>None</td>\n",
       "    </tr>\n",
       "  </tbody>\n",
       "</table>\n",
       "</div>"
      ],
      "text/plain": [
       "       id          name           username  block  \\\n",
       "0  298948    aman altaf      amanaltaf.exe      0   \n",
       "1  298949  Krista Biggs  kristaelainebiggs      0   \n",
       "\n",
       "                         email  sendEmail        registerDate  \\\n",
       "0      amanaltaf.exe@gmail.com          0 2020-09-07 00:07:51   \n",
       "1  kristaelainebiggs@gmail.com          0 2020-09-07 00:29:13   \n",
       "\n",
       "         lastvisitDate                  orgtype organization orcid email_host  \\\n",
       "0  2021-02-13 15:50:19  universityundergraduate                     gmail.com   \n",
       "1  2020-09-07 00:29:14       universitygraduate                     gmail.com   \n",
       "\n",
       "  org_cleaned_set org_cleaned_hash  is_email_commercial domain_by_email  \\\n",
       "0              {}             None                 True             NaN   \n",
       "1              {}             None                 True             NaN   \n",
       "\n",
       "  domain_by_profile domain_by_profile_infer domain_final  \n",
       "0               NaN                     NaN         None  \n",
       "1               NaN                     NaN         None  "
      ]
     },
     "metadata": {},
     "output_type": "display_data"
    }
   ],
   "source": [
    "display(derived_df.head(2))"
   ]
  },
  {
   "cell_type": "code",
   "execution_count": null,
   "id": "61522092",
   "metadata": {
    "jupyter": {
     "source_hidden": true
    },
    "papermill": {
     "duration": 0.154627,
     "end_time": "2021-09-08T02:52:18.385782",
     "exception": false,
     "start_time": "2021-09-08T02:52:18.231155",
     "status": "completed"
    },
    "tags": []
   },
   "outputs": [],
   "source": []
  },
  {
   "cell_type": "markdown",
   "id": "68489829",
   "metadata": {
    "papermill": {
     "duration": 0.157137,
     "end_time": "2021-09-08T02:52:18.694995",
     "exception": false,
     "start_time": "2021-09-08T02:52:18.537858",
     "status": "completed"
    },
    "tags": []
   },
   "source": [
    "## Update Salesforce institution "
   ]
  },
  {
   "cell_type": "code",
   "execution_count": 32,
   "id": "98d081a9",
   "metadata": {
    "execution": {
     "iopub.execute_input": "2021-09-08T02:52:19.039945Z",
     "iopub.status.busy": "2021-09-08T02:52:19.039334Z",
     "iopub.status.idle": "2021-09-08T02:52:23.283535Z",
     "shell.execute_reply": "2021-09-08T02:52:23.283961Z"
    },
    "jupyter": {
     "source_hidden": true
    },
    "papermill": {
     "duration": 4.420283,
     "end_time": "2021-09-08T02:52:23.284265",
     "exception": false,
     "start_time": "2021-09-08T02:52:18.863982",
     "status": "completed"
    },
    "tags": []
   },
   "outputs": [
    {
     "data": {
      "text/html": [
       "<div>\n",
       "<style scoped>\n",
       "    .dataframe tbody tr th:only-of-type {\n",
       "        vertical-align: middle;\n",
       "    }\n",
       "\n",
       "    .dataframe tbody tr th {\n",
       "        vertical-align: top;\n",
       "    }\n",
       "\n",
       "    .dataframe thead th {\n",
       "        text-align: right;\n",
       "    }\n",
       "</style>\n",
       "<table border=\"1\" class=\"dataframe\">\n",
       "  <thead>\n",
       "    <tr style=\"text-align: right;\">\n",
       "      <th></th>\n",
       "      <th>domain_name</th>\n",
       "      <th>domain</th>\n",
       "      <th>industry</th>\n",
       "      <th>size</th>\n",
       "      <th>country</th>\n",
       "    </tr>\n",
       "  </thead>\n",
       "  <tbody>\n",
       "    <tr>\n",
       "      <th>0</th>\n",
       "      <td>texas a&amp;m university</td>\n",
       "      <td>tamu.edu</td>\n",
       "      <td>higher education</td>\n",
       "      <td>10001+</td>\n",
       "      <td>united states</td>\n",
       "    </tr>\n",
       "    <tr>\n",
       "      <th>1</th>\n",
       "      <td>university of wyoming</td>\n",
       "      <td>uwyo.edu</td>\n",
       "      <td>higher education</td>\n",
       "      <td>1001-5000</td>\n",
       "      <td>united states</td>\n",
       "    </tr>\n",
       "  </tbody>\n",
       "</table>\n",
       "</div>"
      ],
      "text/plain": [
       "             domain_name    domain          industry       size        country\n",
       "0   texas a&m university  tamu.edu  higher education     10001+  united states\n",
       "1  university of wyoming  uwyo.edu  higher education  1001-5000  united states"
      ]
     },
     "metadata": {},
     "output_type": "display_data"
    }
   ],
   "source": [
    "# get a unique list of organizations that appears in contact\n",
    "#org_df = derived_df[['domain_name', 'domain', 'industry', 'size', 'country']].drop_duplicates().dropna()\n",
    "org_df = pd.merge(derived_df[['domain_final']].drop_duplicates().dropna(), domain_df, how='inner', left_on='domain_final', right_on='domain') \n",
    "org_df = org_df[['domain_name', 'domain', 'industry', 'size', 'country']]\n",
    "\n",
    "# display\n",
    "display(org_df.head(2))"
   ]
  },
  {
   "cell_type": "code",
   "execution_count": 33,
   "id": "805e9167",
   "metadata": {
    "execution": {
     "iopub.execute_input": "2021-09-08T02:52:23.616710Z",
     "iopub.status.busy": "2021-09-08T02:52:23.615620Z",
     "iopub.status.idle": "2021-09-08T02:52:23.623829Z",
     "shell.execute_reply": "2021-09-08T02:52:23.624211Z"
    },
    "jupyter": {
     "source_hidden": true
    },
    "papermill": {
     "duration": 0.178084,
     "end_time": "2021-09-08T02:52:23.624381",
     "exception": false,
     "start_time": "2021-09-08T02:52:23.446297",
     "status": "completed"
    },
    "tags": []
   },
   "outputs": [
    {
     "data": {
      "text/html": [
       "<div>\n",
       "<style scoped>\n",
       "    .dataframe tbody tr th:only-of-type {\n",
       "        vertical-align: middle;\n",
       "    }\n",
       "\n",
       "    .dataframe tbody tr th {\n",
       "        vertical-align: top;\n",
       "    }\n",
       "\n",
       "    .dataframe thead th {\n",
       "        text-align: right;\n",
       "    }\n",
       "</style>\n",
       "<table border=\"1\" class=\"dataframe\">\n",
       "  <thead>\n",
       "    <tr style=\"text-align: right;\">\n",
       "      <th></th>\n",
       "      <th>0</th>\n",
       "      <th>1</th>\n",
       "    </tr>\n",
       "  </thead>\n",
       "  <tbody>\n",
       "    <tr>\n",
       "      <th>Name</th>\n",
       "      <td>texas a&amp;m university</td>\n",
       "      <td>university of wyoming</td>\n",
       "    </tr>\n",
       "    <tr>\n",
       "      <th>Size_Range__c</th>\n",
       "      <td>10001+</td>\n",
       "      <td>1001-5000</td>\n",
       "    </tr>\n",
       "    <tr>\n",
       "      <th>Country__c</th>\n",
       "      <td>united states</td>\n",
       "      <td>united states</td>\n",
       "    </tr>\n",
       "    <tr>\n",
       "      <th>Domain__c</th>\n",
       "      <td>tamu.edu</td>\n",
       "      <td>uwyo.edu</td>\n",
       "    </tr>\n",
       "    <tr>\n",
       "      <th>Industry__c</th>\n",
       "      <td>higher education</td>\n",
       "      <td>higher education</td>\n",
       "    </tr>\n",
       "  </tbody>\n",
       "</table>\n",
       "</div>"
      ],
      "text/plain": [
       "                                  0                      1\n",
       "Name           texas a&m university  university of wyoming\n",
       "Size_Range__c                10001+              1001-5000\n",
       "Country__c            united states          united states\n",
       "Domain__c                  tamu.edu               uwyo.edu\n",
       "Industry__c        higher education       higher education"
      ]
     },
     "execution_count": 33,
     "metadata": {},
     "output_type": "execute_result"
    }
   ],
   "source": [
    "df_sf = pd.DataFrame()\n",
    "\n",
    "# Make sure NaN and NaT values are taken care of here\n",
    "df_sf['Name'] = org_df['domain_name']\n",
    "\n",
    "df_sf['Size_Range__c'] = org_df['size'].fillna('Unknown')\n",
    "df_sf['Country__c'] = org_df['country']\n",
    "df_sf['Domain__c'] = org_df['domain']\n",
    "df_sf['Industry__c'] = org_df['industry']\n",
    "\n",
    "sf_original_fields = df_sf.columns\n",
    "\n",
    "# display\n",
    "df_sf.head(2).T"
   ]
  },
  {
   "cell_type": "code",
   "execution_count": 34,
   "id": "443353b6",
   "metadata": {
    "execution": {
     "iopub.execute_input": "2021-09-08T02:52:23.936971Z",
     "iopub.status.busy": "2021-09-08T02:52:23.936331Z",
     "iopub.status.idle": "2021-09-08T02:52:23.937974Z",
     "shell.execute_reply": "2021-09-08T02:52:23.938334Z"
    },
    "jupyter": {
     "source_hidden": true
    },
    "papermill": {
     "duration": 0.16095,
     "end_time": "2021-09-08T02:52:23.938498",
     "exception": false,
     "start_time": "2021-09-08T02:52:23.777548",
     "status": "completed"
    },
    "tags": []
   },
   "outputs": [],
   "source": [
    "\n",
    "\n",
    "db_s.object_id = 'organization__c'\n",
    "db_s.external_id = 'Domain__c'"
   ]
  },
  {
   "cell_type": "code",
   "execution_count": 35,
   "id": "5de84c9d",
   "metadata": {
    "execution": {
     "iopub.execute_input": "2021-09-08T02:52:24.253683Z",
     "iopub.status.busy": "2021-09-08T02:52:24.252925Z",
     "iopub.status.idle": "2021-09-08T02:52:24.264212Z",
     "shell.execute_reply": "2021-09-08T02:52:24.263754Z"
    },
    "jupyter": {
     "source_hidden": true
    },
    "papermill": {
     "duration": 0.174416,
     "end_time": "2021-09-08T02:52:24.264363",
     "exception": false,
     "start_time": "2021-09-08T02:52:24.089947",
     "status": "completed"
    },
    "tags": []
   },
   "outputs": [
    {
     "data": {
      "text/html": [
       "<div>\n",
       "<style scoped>\n",
       "    .dataframe tbody tr th:only-of-type {\n",
       "        vertical-align: middle;\n",
       "    }\n",
       "\n",
       "    .dataframe tbody tr th {\n",
       "        vertical-align: top;\n",
       "    }\n",
       "\n",
       "    .dataframe thead th {\n",
       "        text-align: right;\n",
       "    }\n",
       "</style>\n",
       "<table border=\"1\" class=\"dataframe\">\n",
       "  <thead>\n",
       "    <tr style=\"text-align: right;\">\n",
       "      <th></th>\n",
       "      <th>Name</th>\n",
       "      <th>Size_Range__c</th>\n",
       "      <th>Country__c</th>\n",
       "      <th>Domain__c</th>\n",
       "      <th>Industry__c</th>\n",
       "    </tr>\n",
       "  </thead>\n",
       "  <tbody>\n",
       "    <tr>\n",
       "      <th>0</th>\n",
       "      <td>texas a&amp;m university</td>\n",
       "      <td>10001+</td>\n",
       "      <td>united states</td>\n",
       "      <td>tamu.edu</td>\n",
       "      <td>higher education</td>\n",
       "    </tr>\n",
       "    <tr>\n",
       "      <th>1</th>\n",
       "      <td>university of wyoming</td>\n",
       "      <td>1001-5000</td>\n",
       "      <td>united states</td>\n",
       "      <td>uwyo.edu</td>\n",
       "      <td>higher education</td>\n",
       "    </tr>\n",
       "  </tbody>\n",
       "</table>\n",
       "</div>"
      ],
      "text/plain": [
       "                    Name Size_Range__c     Country__c Domain__c  \\\n",
       "0   texas a&m university        10001+  united states  tamu.edu   \n",
       "1  university of wyoming     1001-5000  united states  uwyo.edu   \n",
       "\n",
       "        Industry__c  \n",
       "0  higher education  \n",
       "1  higher education  "
      ]
     },
     "metadata": {},
     "output_type": "display_data"
    },
    {
     "data": {
      "text/html": [
       "<div>\n",
       "<style scoped>\n",
       "    .dataframe tbody tr th:only-of-type {\n",
       "        vertical-align: middle;\n",
       "    }\n",
       "\n",
       "    .dataframe tbody tr th {\n",
       "        vertical-align: top;\n",
       "    }\n",
       "\n",
       "    .dataframe thead th {\n",
       "        text-align: right;\n",
       "    }\n",
       "</style>\n",
       "<table border=\"1\" class=\"dataframe\">\n",
       "  <thead>\n",
       "    <tr style=\"text-align: right;\">\n",
       "      <th></th>\n",
       "      <th>Name</th>\n",
       "      <th>Size_Range__c</th>\n",
       "      <th>Country__c</th>\n",
       "      <th>Domain__c</th>\n",
       "      <th>Industry__c</th>\n",
       "    </tr>\n",
       "  </thead>\n",
       "  <tbody>\n",
       "    <tr>\n",
       "      <th>784</th>\n",
       "      <td>sri guru granth sahib world university</td>\n",
       "      <td>11-50</td>\n",
       "      <td>india</td>\n",
       "      <td>sggswu.org</td>\n",
       "      <td>higher education</td>\n",
       "    </tr>\n",
       "    <tr>\n",
       "      <th>785</th>\n",
       "      <td>purdue research foundation</td>\n",
       "      <td>201-500</td>\n",
       "      <td>united states</td>\n",
       "      <td>prf.org</td>\n",
       "      <td>non-profit organization management</td>\n",
       "    </tr>\n",
       "  </tbody>\n",
       "</table>\n",
       "</div>"
      ],
      "text/plain": [
       "                                       Name Size_Range__c     Country__c  \\\n",
       "784  sri guru granth sahib world university         11-50          india   \n",
       "785              purdue research foundation       201-500  united states   \n",
       "\n",
       "      Domain__c                         Industry__c  \n",
       "784  sggswu.org                    higher education  \n",
       "785     prf.org  non-profit organization management  "
      ]
     },
     "metadata": {},
     "output_type": "display_data"
    }
   ],
   "source": [
    "display(df_sf.head(2))\n",
    "display(df_sf.tail(2))\n"
   ]
  },
  {
   "cell_type": "code",
   "execution_count": 36,
   "id": "c7796d6b",
   "metadata": {
    "execution": {
     "iopub.execute_input": "2021-09-08T02:52:24.589209Z",
     "iopub.status.busy": "2021-09-08T02:52:24.588451Z",
     "iopub.status.idle": "2021-09-08T02:52:24.590387Z",
     "shell.execute_reply": "2021-09-08T02:52:24.590946Z"
    },
    "jupyter": {
     "source_hidden": true
    },
    "papermill": {
     "duration": 0.16451,
     "end_time": "2021-09-08T02:52:24.591125",
     "exception": false,
     "start_time": "2021-09-08T02:52:24.426615",
     "status": "completed"
    },
    "tags": []
   },
   "outputs": [],
   "source": [
    "## correcting name overflows\n",
    "names = df_sf['Name'].str.len()\n",
    "\n",
    "sf_char_limit = 80\n",
    "name_indexes = names.index[names >= sf_char_limit].tolist()\n",
    "for index in name_indexes:\n",
    "    df_sf['Name'][index] =  df_sf['Name'][index][0:sf_char_limit]"
   ]
  },
  {
   "cell_type": "code",
   "execution_count": 37,
   "id": "5bf77e97",
   "metadata": {
    "execution": {
     "iopub.execute_input": "2021-09-08T02:52:24.921885Z",
     "iopub.status.busy": "2021-09-08T02:52:24.920464Z",
     "iopub.status.idle": "2021-09-08T02:52:24.925093Z",
     "shell.execute_reply": "2021-09-08T02:52:24.925536Z"
    },
    "jupyter": {
     "source_hidden": true
    },
    "papermill": {
     "duration": 0.170104,
     "end_time": "2021-09-08T02:52:24.925710",
     "exception": false,
     "start_time": "2021-09-08T02:52:24.755606",
     "status": "completed"
    },
    "tags": []
   },
   "outputs": [
    {
     "data": {
      "text/html": [
       "<div>\n",
       "<style scoped>\n",
       "    .dataframe tbody tr th:only-of-type {\n",
       "        vertical-align: middle;\n",
       "    }\n",
       "\n",
       "    .dataframe tbody tr th {\n",
       "        vertical-align: top;\n",
       "    }\n",
       "\n",
       "    .dataframe thead th {\n",
       "        text-align: right;\n",
       "    }\n",
       "</style>\n",
       "<table border=\"1\" class=\"dataframe\">\n",
       "  <thead>\n",
       "    <tr style=\"text-align: right;\">\n",
       "      <th></th>\n",
       "      <th>Name</th>\n",
       "      <th>Size_Range__c</th>\n",
       "      <th>Country__c</th>\n",
       "      <th>Domain__c</th>\n",
       "      <th>Industry__c</th>\n",
       "    </tr>\n",
       "  </thead>\n",
       "  <tbody>\n",
       "    <tr>\n",
       "      <th>0</th>\n",
       "      <td>texas a&amp;m university</td>\n",
       "      <td>10001+</td>\n",
       "      <td>united states</td>\n",
       "      <td>tamu.edu</td>\n",
       "      <td>higher education</td>\n",
       "    </tr>\n",
       "    <tr>\n",
       "      <th>1</th>\n",
       "      <td>university of wyoming</td>\n",
       "      <td>1001-5000</td>\n",
       "      <td>united states</td>\n",
       "      <td>uwyo.edu</td>\n",
       "      <td>higher education</td>\n",
       "    </tr>\n",
       "  </tbody>\n",
       "</table>\n",
       "</div>"
      ],
      "text/plain": [
       "                    Name Size_Range__c     Country__c Domain__c  \\\n",
       "0   texas a&m university        10001+  united states  tamu.edu   \n",
       "1  university of wyoming     1001-5000  united states  uwyo.edu   \n",
       "\n",
       "        Industry__c  \n",
       "0  higher education  \n",
       "1  higher education  "
      ]
     },
     "metadata": {},
     "output_type": "display_data"
    }
   ],
   "source": [
    "display(df_sf.head(2))"
   ]
  },
  {
   "cell_type": "code",
   "execution_count": 38,
   "id": "16076bf5",
   "metadata": {
    "execution": {
     "iopub.execute_input": "2021-09-08T02:52:25.247505Z",
     "iopub.status.busy": "2021-09-08T02:52:25.246145Z",
     "iopub.status.idle": "2021-09-08T02:52:26.441861Z",
     "shell.execute_reply": "2021-09-08T02:52:26.442244Z"
    },
    "jupyter": {
     "source_hidden": true
    },
    "papermill": {
     "duration": 1.360243,
     "end_time": "2021-09-08T02:52:26.442447",
     "exception": false,
     "start_time": "2021-09-08T02:52:25.082204",
     "status": "completed"
    },
    "tags": []
   },
   "outputs": [
    {
     "name": "stdout",
     "output_type": "stream",
     "text": [
      "[Success] Bulk job creation successful. Job ID = 7505w00000ZQfsqAAD\n",
      "hello\n"
     ]
    },
    {
     "name": "stdout",
     "output_type": "stream",
     "text": [
      "[Success] CSV upload successful. Job ID = 7505w00000ZQfsqAAD\n"
     ]
    },
    {
     "name": "stdout",
     "output_type": "stream",
     "text": [
      "[Success] Closing job successful. Job ID = 7505w00000ZQfsqAAD\n"
     ]
    }
   ],
   "source": [
    "# send data to Salesforce\n",
    "db_s.send_data(df_sf)"
   ]
  },
  {
   "cell_type": "code",
   "execution_count": 39,
   "id": "bf4b0b58",
   "metadata": {
    "execution": {
     "iopub.execute_input": "2021-09-08T02:52:26.762987Z",
     "iopub.status.busy": "2021-09-08T02:52:26.762194Z",
     "iopub.status.idle": "2021-09-08T02:52:27.223305Z",
     "shell.execute_reply": "2021-09-08T02:52:27.223702Z"
    },
    "jupyter": {
     "source_hidden": true
    },
    "papermill": {
     "duration": 0.623336,
     "end_time": "2021-09-08T02:52:27.223873",
     "exception": false,
     "start_time": "2021-09-08T02:52:26.600537",
     "status": "completed"
    },
    "tags": []
   },
   "outputs": [
    {
     "data": {
      "text/plain": [
       "{'id': '7505w00000ZQfsqAAD',\n",
       " 'operation': 'upsert',\n",
       " 'object': 'organization__c',\n",
       " 'createdById': '0055w00000DM5bOAAT',\n",
       " 'createdDate': '2021-09-08T02:52:25.000+0000',\n",
       " 'systemModstamp': '2021-09-08T02:52:26.000+0000',\n",
       " 'state': 'UploadComplete',\n",
       " 'externalIdFieldName': 'Domain__c',\n",
       " 'concurrencyMode': 'Parallel',\n",
       " 'contentType': 'CSV',\n",
       " 'apiVersion': 47.0,\n",
       " 'jobType': 'V2Ingest',\n",
       " 'lineEnding': 'LF',\n",
       " 'columnDelimiter': 'COMMA',\n",
       " 'numberRecordsProcessed': 0,\n",
       " 'numberRecordsFailed': 0,\n",
       " 'retries': 0,\n",
       " 'totalProcessingTime': 0,\n",
       " 'apiActiveProcessingTime': 0,\n",
       " 'apexProcessingTime': 0}"
      ]
     },
     "execution_count": 39,
     "metadata": {},
     "output_type": "execute_result"
    }
   ],
   "source": [
    "# check status\n",
    "db_s.check_bulk_status()"
   ]
  },
  {
   "cell_type": "code",
   "execution_count": 40,
   "id": "a1e540e7",
   "metadata": {
    "execution": {
     "iopub.execute_input": "2021-09-08T02:52:27.574259Z",
     "iopub.status.busy": "2021-09-08T02:52:27.573590Z",
     "iopub.status.idle": "2021-09-08T02:52:27.795342Z",
     "shell.execute_reply": "2021-09-08T02:52:27.796064Z"
    },
    "jupyter": {
     "source_hidden": true
    },
    "papermill": {
     "duration": 0.388634,
     "end_time": "2021-09-08T02:52:27.796348",
     "exception": false,
     "start_time": "2021-09-08T02:52:27.407714",
     "status": "completed"
    },
    "tags": []
   },
   "outputs": [
    {
     "name": "stdout",
     "output_type": "stream",
     "text": [
      "''\n"
     ]
    }
   ],
   "source": [
    "# check status\n",
    "from pprint import pprint\n",
    "\n",
    "pprint(db_s.check_bulk_failed_results())"
   ]
  },
  {
   "cell_type": "markdown",
   "id": "fac06660",
   "metadata": {
    "papermill": {
     "duration": 0.169814,
     "end_time": "2021-09-08T02:52:28.130135",
     "exception": false,
     "start_time": "2021-09-08T02:52:27.960321",
     "status": "completed"
    },
    "tags": []
   },
   "source": [
    "## Obtain newly updated organization IDs from Salesforce"
   ]
  },
  {
   "cell_type": "code",
   "execution_count": 41,
   "id": "b5256014",
   "metadata": {
    "execution": {
     "iopub.execute_input": "2021-09-08T02:52:28.461009Z",
     "iopub.status.busy": "2021-09-08T02:52:28.460259Z",
     "iopub.status.idle": "2021-09-08T02:52:28.462597Z",
     "shell.execute_reply": "2021-09-08T02:52:28.463108Z"
    },
    "jupyter": {
     "source_hidden": true
    },
    "papermill": {
     "duration": 0.168151,
     "end_time": "2021-09-08T02:52:28.463356",
     "exception": false,
     "start_time": "2021-09-08T02:52:28.295205",
     "status": "completed"
    },
    "tags": []
   },
   "outputs": [],
   "source": [
    "# create DB2 to Salesforce API object\n",
    "db_s = salesforce"
   ]
  },
  {
   "cell_type": "code",
   "execution_count": 42,
   "id": "c4a6ae84",
   "metadata": {
    "execution": {
     "iopub.execute_input": "2021-09-08T02:52:28.784938Z",
     "iopub.status.busy": "2021-09-08T02:52:28.783857Z",
     "iopub.status.idle": "2021-09-08T02:52:40.902615Z",
     "shell.execute_reply": "2021-09-08T02:52:40.903070Z"
    },
    "jupyter": {
     "source_hidden": true
    },
    "papermill": {
     "duration": 12.280841,
     "end_time": "2021-09-08T02:52:40.903236",
     "exception": false,
     "start_time": "2021-09-08T02:52:28.622395",
     "status": "completed"
    },
    "tags": []
   },
   "outputs": [
    {
     "name": "stdout",
     "output_type": "stream",
     "text": [
      "[Success] Bulk job creation successful. Job ID = 7505w00000ZQfsvAAD\n"
     ]
    },
    {
     "name": "stdout",
     "output_type": "stream",
     "text": [
      "{\"id\":\"7505w00000ZQfsvAAD\",\"operation\":\"query\",\"object\":\"organization__c\",\"createdById\":\"0055w00000DM5bOAAT\",\"createdDate\":\"2021-09-08T02:52:29.000+0000\",\"systemModstamp\":\"2021-09-08T02:52:29.000+0000\",\"state\":\"InProgress\",\"concurrencyMode\":\"Parallel\",\"contentType\":\"CSV\",\"apiVersion\":47.0,\"jobType\":\"V2Query\",\"lineEnding\":\"LF\",\"columnDelimiter\":\"COMMA\",\"numberRecordsProcessed\":0,\"retries\":0,\"totalProcessingTime\":0}\n"
     ]
    },
    {
     "name": "stdout",
     "output_type": "stream",
     "text": [
      "{\"id\":\"7505w00000ZQfsvAAD\",\"operation\":\"query\",\"object\":\"organization__c\",\"createdById\":\"0055w00000DM5bOAAT\",\"createdDate\":\"2021-09-08T02:52:29.000+0000\",\"systemModstamp\":\"2021-09-08T02:52:30.000+0000\",\"state\":\"JobComplete\",\"concurrencyMode\":\"Parallel\",\"contentType\":\"CSV\",\"apiVersion\":47.0,\"jobType\":\"V2Query\",\"lineEnding\":\"LF\",\"columnDelimiter\":\"COMMA\",\"numberRecordsProcessed\":6466,\"retries\":0,\"totalProcessingTime\":451}\n",
      "[Success] Bulk job completed successfully.\n"
     ]
    },
    {
     "data": {
      "text/html": [
       "<div>\n",
       "<style scoped>\n",
       "    .dataframe tbody tr th:only-of-type {\n",
       "        vertical-align: middle;\n",
       "    }\n",
       "\n",
       "    .dataframe tbody tr th {\n",
       "        vertical-align: top;\n",
       "    }\n",
       "\n",
       "    .dataframe thead th {\n",
       "        text-align: right;\n",
       "    }\n",
       "</style>\n",
       "<table border=\"1\" class=\"dataframe\">\n",
       "  <thead>\n",
       "    <tr style=\"text-align: right;\">\n",
       "      <th></th>\n",
       "      <th>Domain__c</th>\n",
       "      <th>Id</th>\n",
       "    </tr>\n",
       "  </thead>\n",
       "  <tbody>\n",
       "    <tr>\n",
       "      <th>0</th>\n",
       "      <td>upenn.edu</td>\n",
       "      <td>a0r5w00000V42c0AAB</td>\n",
       "    </tr>\n",
       "    <tr>\n",
       "      <th>1</th>\n",
       "      <td>fer.hr</td>\n",
       "      <td>a0r5w00000V42c1AAB</td>\n",
       "    </tr>\n",
       "    <tr>\n",
       "      <th>2</th>\n",
       "      <td>wheatoncollege.edu</td>\n",
       "      <td>a0r5w00000V42c2AAB</td>\n",
       "    </tr>\n",
       "  </tbody>\n",
       "</table>\n",
       "</div>"
      ],
      "text/plain": [
       "            Domain__c                  Id\n",
       "0           upenn.edu  a0r5w00000V42c0AAB\n",
       "1              fer.hr  a0r5w00000V42c1AAB\n",
       "2  wheatoncollege.edu  a0r5w00000V42c2AAB"
      ]
     },
     "execution_count": 42,
     "metadata": {},
     "output_type": "execute_result"
    }
   ],
   "source": [
    "# get Salesforce ID for organizations\n",
    "sf_org_ID_df = db_s.query_data('SELECT Id, Domain__c FROM organization__c')\n",
    "\n",
    "# display\n",
    "sf_org_ID_df.head(3)"
   ]
  },
  {
   "cell_type": "code",
   "execution_count": 43,
   "id": "39ddd923",
   "metadata": {
    "execution": {
     "iopub.execute_input": "2021-09-08T02:52:41.251329Z",
     "iopub.status.busy": "2021-09-08T02:52:41.250276Z",
     "iopub.status.idle": "2021-09-08T02:52:41.356539Z",
     "shell.execute_reply": "2021-09-08T02:52:41.356888Z"
    },
    "jupyter": {
     "source_hidden": true
    },
    "papermill": {
     "duration": 0.28352,
     "end_time": "2021-09-08T02:52:41.357054",
     "exception": false,
     "start_time": "2021-09-08T02:52:41.073534",
     "status": "completed"
    },
    "tags": []
   },
   "outputs": [],
   "source": [
    "# join salesforce ID back to contact DF\n",
    "df = pd.merge(sf_org_ID_df, derived_df, how='right', left_on='Domain__c', right_on='domain_final')\\\n",
    "            .drop('Domain__c', axis=1)\\\n",
    "            .rename(columns={'Id':'Salesforce_org_ID'})"
   ]
  },
  {
   "cell_type": "code",
   "execution_count": 44,
   "id": "b9b50683",
   "metadata": {
    "execution": {
     "iopub.execute_input": "2021-09-08T02:52:41.732986Z",
     "iopub.status.busy": "2021-09-08T02:52:41.731967Z",
     "iopub.status.idle": "2021-09-08T02:52:41.737193Z",
     "shell.execute_reply": "2021-09-08T02:52:41.737675Z"
    },
    "jupyter": {
     "source_hidden": true
    },
    "papermill": {
     "duration": 0.190868,
     "end_time": "2021-09-08T02:52:41.737855",
     "exception": false,
     "start_time": "2021-09-08T02:52:41.546987",
     "status": "completed"
    },
    "tags": []
   },
   "outputs": [
    {
     "data": {
      "text/html": [
       "<div>\n",
       "<style scoped>\n",
       "    .dataframe tbody tr th:only-of-type {\n",
       "        vertical-align: middle;\n",
       "    }\n",
       "\n",
       "    .dataframe tbody tr th {\n",
       "        vertical-align: top;\n",
       "    }\n",
       "\n",
       "    .dataframe thead th {\n",
       "        text-align: right;\n",
       "    }\n",
       "</style>\n",
       "<table border=\"1\" class=\"dataframe\">\n",
       "  <thead>\n",
       "    <tr style=\"text-align: right;\">\n",
       "      <th></th>\n",
       "      <th>Salesforce_org_ID</th>\n",
       "      <th>id</th>\n",
       "      <th>name</th>\n",
       "      <th>username</th>\n",
       "      <th>block</th>\n",
       "      <th>email</th>\n",
       "      <th>sendEmail</th>\n",
       "      <th>registerDate</th>\n",
       "      <th>lastvisitDate</th>\n",
       "      <th>orgtype</th>\n",
       "      <th>organization</th>\n",
       "      <th>orcid</th>\n",
       "      <th>email_host</th>\n",
       "      <th>org_cleaned_set</th>\n",
       "      <th>org_cleaned_hash</th>\n",
       "      <th>is_email_commercial</th>\n",
       "      <th>domain_by_email</th>\n",
       "      <th>domain_by_profile</th>\n",
       "      <th>domain_by_profile_infer</th>\n",
       "      <th>domain_final</th>\n",
       "    </tr>\n",
       "  </thead>\n",
       "  <tbody>\n",
       "    <tr>\n",
       "      <th>0</th>\n",
       "      <td>NaN</td>\n",
       "      <td>298948</td>\n",
       "      <td>aman altaf</td>\n",
       "      <td>amanaltaf.exe</td>\n",
       "      <td>0</td>\n",
       "      <td>amanaltaf.exe@gmail.com</td>\n",
       "      <td>0</td>\n",
       "      <td>2020-09-07 00:07:51</td>\n",
       "      <td>2021-02-13 15:50:19</td>\n",
       "      <td>universityundergraduate</td>\n",
       "      <td></td>\n",
       "      <td></td>\n",
       "      <td>gmail.com</td>\n",
       "      <td>{}</td>\n",
       "      <td>None</td>\n",
       "      <td>True</td>\n",
       "      <td>NaN</td>\n",
       "      <td>NaN</td>\n",
       "      <td>NaN</td>\n",
       "      <td>None</td>\n",
       "    </tr>\n",
       "    <tr>\n",
       "      <th>1</th>\n",
       "      <td>NaN</td>\n",
       "      <td>298949</td>\n",
       "      <td>Krista Biggs</td>\n",
       "      <td>kristaelainebiggs</td>\n",
       "      <td>0</td>\n",
       "      <td>kristaelainebiggs@gmail.com</td>\n",
       "      <td>0</td>\n",
       "      <td>2020-09-07 00:29:13</td>\n",
       "      <td>2020-09-07 00:29:14</td>\n",
       "      <td>universitygraduate</td>\n",
       "      <td></td>\n",
       "      <td></td>\n",
       "      <td>gmail.com</td>\n",
       "      <td>{}</td>\n",
       "      <td>None</td>\n",
       "      <td>True</td>\n",
       "      <td>NaN</td>\n",
       "      <td>NaN</td>\n",
       "      <td>NaN</td>\n",
       "      <td>None</td>\n",
       "    </tr>\n",
       "  </tbody>\n",
       "</table>\n",
       "</div>"
      ],
      "text/plain": [
       "  Salesforce_org_ID      id          name           username  block  \\\n",
       "0               NaN  298948    aman altaf      amanaltaf.exe      0   \n",
       "1               NaN  298949  Krista Biggs  kristaelainebiggs      0   \n",
       "\n",
       "                         email  sendEmail        registerDate  \\\n",
       "0      amanaltaf.exe@gmail.com          0 2020-09-07 00:07:51   \n",
       "1  kristaelainebiggs@gmail.com          0 2020-09-07 00:29:13   \n",
       "\n",
       "         lastvisitDate                  orgtype organization orcid email_host  \\\n",
       "0  2021-02-13 15:50:19  universityundergraduate                     gmail.com   \n",
       "1  2020-09-07 00:29:14       universitygraduate                     gmail.com   \n",
       "\n",
       "  org_cleaned_set org_cleaned_hash  is_email_commercial domain_by_email  \\\n",
       "0              {}             None                 True             NaN   \n",
       "1              {}             None                 True             NaN   \n",
       "\n",
       "  domain_by_profile domain_by_profile_infer domain_final  \n",
       "0               NaN                     NaN         None  \n",
       "1               NaN                     NaN         None  "
      ]
     },
     "metadata": {},
     "output_type": "display_data"
    }
   ],
   "source": [
    "# display\n",
    "display(df.head(2))"
   ]
  },
  {
   "cell_type": "markdown",
   "id": "b5a43835",
   "metadata": {
    "papermill": {
     "duration": 0.171761,
     "end_time": "2021-09-08T02:52:42.078213",
     "exception": false,
     "start_time": "2021-09-08T02:52:41.906452",
     "status": "completed"
    },
    "tags": []
   },
   "source": [
    "## Match data with Salesforce format"
   ]
  },
  {
   "cell_type": "code",
   "execution_count": 45,
   "id": "93887111",
   "metadata": {
    "execution": {
     "iopub.execute_input": "2021-09-08T02:52:42.417008Z",
     "iopub.status.busy": "2021-09-08T02:52:42.416395Z",
     "iopub.status.idle": "2021-09-08T02:52:42.417965Z",
     "shell.execute_reply": "2021-09-08T02:52:42.418319Z"
    },
    "jupyter": {
     "source_hidden": true
    },
    "papermill": {
     "duration": 0.170272,
     "end_time": "2021-09-08T02:52:42.418478",
     "exception": false,
     "start_time": "2021-09-08T02:52:42.248206",
     "status": "completed"
    },
    "tags": []
   },
   "outputs": [],
   "source": [
    "# split full name into first, middle, and last names\n",
    "def split_full_name(this_name):\n",
    "    this_name_list = list(filter(None, this_name.split(' ')))\n",
    "    \n",
    "    if len(this_name_list) == 1:\n",
    "        # single word name\n",
    "        return pd.Series([this_name_list[0],None, this_name_list[0]])\n",
    "    \n",
    "    elif len(this_name_list) > 1:\n",
    "        # multi word name\n",
    "        return pd.Series([this_name_list[0],' '.join(this_name_list[1:-1]),this_name_list[-1]])"
   ]
  },
  {
   "cell_type": "code",
   "execution_count": 46,
   "id": "a907990a",
   "metadata": {
    "execution": {
     "iopub.execute_input": "2021-09-08T02:52:42.771556Z",
     "iopub.status.busy": "2021-09-08T02:52:42.770828Z",
     "iopub.status.idle": "2021-09-08T02:52:42.775670Z",
     "shell.execute_reply": "2021-09-08T02:52:42.776118Z"
    },
    "jupyter": {
     "source_hidden": true
    },
    "papermill": {
     "duration": 0.187883,
     "end_time": "2021-09-08T02:52:42.776329",
     "exception": false,
     "start_time": "2021-09-08T02:52:42.588446",
     "status": "completed"
    },
    "tags": []
   },
   "outputs": [
    {
     "data": {
      "text/html": [
       "<div>\n",
       "<style scoped>\n",
       "    .dataframe tbody tr th:only-of-type {\n",
       "        vertical-align: middle;\n",
       "    }\n",
       "\n",
       "    .dataframe tbody tr th {\n",
       "        vertical-align: top;\n",
       "    }\n",
       "\n",
       "    .dataframe thead th {\n",
       "        text-align: right;\n",
       "    }\n",
       "</style>\n",
       "<table border=\"1\" class=\"dataframe\">\n",
       "  <thead>\n",
       "    <tr style=\"text-align: right;\">\n",
       "      <th></th>\n",
       "      <th>Salesforce_org_ID</th>\n",
       "      <th>id</th>\n",
       "      <th>name</th>\n",
       "      <th>username</th>\n",
       "      <th>block</th>\n",
       "      <th>email</th>\n",
       "      <th>sendEmail</th>\n",
       "      <th>registerDate</th>\n",
       "      <th>lastvisitDate</th>\n",
       "      <th>orgtype</th>\n",
       "      <th>organization</th>\n",
       "      <th>orcid</th>\n",
       "      <th>email_host</th>\n",
       "      <th>org_cleaned_set</th>\n",
       "      <th>org_cleaned_hash</th>\n",
       "      <th>is_email_commercial</th>\n",
       "      <th>domain_by_email</th>\n",
       "      <th>domain_by_profile</th>\n",
       "      <th>domain_by_profile_infer</th>\n",
       "      <th>domain_final</th>\n",
       "    </tr>\n",
       "  </thead>\n",
       "  <tbody>\n",
       "    <tr>\n",
       "      <th>0</th>\n",
       "      <td>NaN</td>\n",
       "      <td>298948</td>\n",
       "      <td>aman altaf</td>\n",
       "      <td>amanaltaf.exe</td>\n",
       "      <td>0</td>\n",
       "      <td>amanaltaf.exe@gmail.com</td>\n",
       "      <td>0</td>\n",
       "      <td>2020-09-07 00:07:51</td>\n",
       "      <td>2021-02-13 15:50:19</td>\n",
       "      <td>universityundergraduate</td>\n",
       "      <td></td>\n",
       "      <td></td>\n",
       "      <td>gmail.com</td>\n",
       "      <td>{}</td>\n",
       "      <td>None</td>\n",
       "      <td>True</td>\n",
       "      <td>NaN</td>\n",
       "      <td>NaN</td>\n",
       "      <td>NaN</td>\n",
       "      <td>None</td>\n",
       "    </tr>\n",
       "  </tbody>\n",
       "</table>\n",
       "</div>"
      ],
      "text/plain": [
       "  Salesforce_org_ID      id        name       username  block  \\\n",
       "0               NaN  298948  aman altaf  amanaltaf.exe      0   \n",
       "\n",
       "                     email  sendEmail        registerDate  \\\n",
       "0  amanaltaf.exe@gmail.com          0 2020-09-07 00:07:51   \n",
       "\n",
       "         lastvisitDate                  orgtype organization orcid email_host  \\\n",
       "0  2021-02-13 15:50:19  universityundergraduate                     gmail.com   \n",
       "\n",
       "  org_cleaned_set org_cleaned_hash  is_email_commercial domain_by_email  \\\n",
       "0              {}             None                 True             NaN   \n",
       "\n",
       "  domain_by_profile domain_by_profile_infer domain_final  \n",
       "0               NaN                     NaN         None  "
      ]
     },
     "metadata": {},
     "output_type": "display_data"
    }
   ],
   "source": [
    "## stop here\n",
    "display(df.head(1))"
   ]
  },
  {
   "cell_type": "code",
   "execution_count": 47,
   "id": "90405202",
   "metadata": {
    "execution": {
     "iopub.execute_input": "2021-09-08T02:52:43.134175Z",
     "iopub.status.busy": "2021-09-08T02:52:43.125236Z",
     "iopub.status.idle": "2021-09-08T02:52:45.346528Z",
     "shell.execute_reply": "2021-09-08T02:52:45.346979Z"
    },
    "jupyter": {
     "source_hidden": true
    },
    "papermill": {
     "duration": 2.405255,
     "end_time": "2021-09-08T02:52:45.347222",
     "exception": false,
     "start_time": "2021-09-08T02:52:42.941967",
     "status": "completed"
    },
    "tags": []
   },
   "outputs": [
    {
     "data": {
      "text/html": [
       "<div>\n",
       "<style scoped>\n",
       "    .dataframe tbody tr th:only-of-type {\n",
       "        vertical-align: middle;\n",
       "    }\n",
       "\n",
       "    .dataframe tbody tr th {\n",
       "        vertical-align: top;\n",
       "    }\n",
       "\n",
       "    .dataframe thead th {\n",
       "        text-align: right;\n",
       "    }\n",
       "</style>\n",
       "<table border=\"1\" class=\"dataframe\">\n",
       "  <thead>\n",
       "    <tr style=\"text-align: right;\">\n",
       "      <th></th>\n",
       "      <th>Salesforce_org_ID</th>\n",
       "      <th>id</th>\n",
       "      <th>name</th>\n",
       "      <th>username</th>\n",
       "      <th>block</th>\n",
       "      <th>email</th>\n",
       "      <th>sendEmail</th>\n",
       "      <th>registerDate</th>\n",
       "      <th>lastvisitDate</th>\n",
       "      <th>orgtype</th>\n",
       "      <th>organization</th>\n",
       "      <th>orcid</th>\n",
       "      <th>email_host</th>\n",
       "      <th>org_cleaned_set</th>\n",
       "      <th>org_cleaned_hash</th>\n",
       "      <th>is_email_commercial</th>\n",
       "      <th>domain_by_email</th>\n",
       "      <th>domain_by_profile</th>\n",
       "      <th>domain_by_profile_infer</th>\n",
       "      <th>domain_final</th>\n",
       "    </tr>\n",
       "  </thead>\n",
       "  <tbody>\n",
       "    <tr>\n",
       "      <th>0</th>\n",
       "      <td>NaN</td>\n",
       "      <td>298948</td>\n",
       "      <td>aman altaf</td>\n",
       "      <td>amanaltaf.exe</td>\n",
       "      <td>0</td>\n",
       "      <td>amanaltaf.exe@gmail.com</td>\n",
       "      <td>0</td>\n",
       "      <td>2020-09-07 00:07:51</td>\n",
       "      <td>2021-02-13 15:50:19</td>\n",
       "      <td>universityundergraduate</td>\n",
       "      <td></td>\n",
       "      <td></td>\n",
       "      <td>gmail.com</td>\n",
       "      <td>{}</td>\n",
       "      <td>None</td>\n",
       "      <td>True</td>\n",
       "      <td>NaN</td>\n",
       "      <td>NaN</td>\n",
       "      <td>NaN</td>\n",
       "      <td>None</td>\n",
       "    </tr>\n",
       "    <tr>\n",
       "      <th>1</th>\n",
       "      <td>NaN</td>\n",
       "      <td>298949</td>\n",
       "      <td>Krista Biggs</td>\n",
       "      <td>kristaelainebiggs</td>\n",
       "      <td>0</td>\n",
       "      <td>kristaelainebiggs@gmail.com</td>\n",
       "      <td>0</td>\n",
       "      <td>2020-09-07 00:29:13</td>\n",
       "      <td>2020-09-07 00:29:14</td>\n",
       "      <td>universitygraduate</td>\n",
       "      <td></td>\n",
       "      <td></td>\n",
       "      <td>gmail.com</td>\n",
       "      <td>{}</td>\n",
       "      <td>None</td>\n",
       "      <td>True</td>\n",
       "      <td>NaN</td>\n",
       "      <td>NaN</td>\n",
       "      <td>NaN</td>\n",
       "      <td>None</td>\n",
       "    </tr>\n",
       "  </tbody>\n",
       "</table>\n",
       "</div>"
      ],
      "text/plain": [
       "  Salesforce_org_ID      id          name           username  block  \\\n",
       "0               NaN  298948    aman altaf      amanaltaf.exe      0   \n",
       "1               NaN  298949  Krista Biggs  kristaelainebiggs      0   \n",
       "\n",
       "                         email  sendEmail        registerDate  \\\n",
       "0      amanaltaf.exe@gmail.com          0 2020-09-07 00:07:51   \n",
       "1  kristaelainebiggs@gmail.com          0 2020-09-07 00:29:13   \n",
       "\n",
       "         lastvisitDate                  orgtype organization orcid email_host  \\\n",
       "0  2021-02-13 15:50:19  universityundergraduate                     gmail.com   \n",
       "1  2020-09-07 00:29:14       universitygraduate                     gmail.com   \n",
       "\n",
       "  org_cleaned_set org_cleaned_hash  is_email_commercial domain_by_email  \\\n",
       "0              {}             None                 True             NaN   \n",
       "1              {}             None                 True             NaN   \n",
       "\n",
       "  domain_by_profile domain_by_profile_infer domain_final  \n",
       "0               NaN                     NaN         None  \n",
       "1               NaN                     NaN         None  "
      ]
     },
     "metadata": {},
     "output_type": "display_data"
    }
   ],
   "source": [
    "## if last visit date is empty - set it equal to the register date\n",
    "lvd = df.lastvisitDate.index[df.lastvisitDate == '   '].tolist()\n",
    "\n",
    "for i in lvd:\n",
    "    df.iloc[i,8] = df.iloc[i,7]\n",
    "\n",
    "display(df.head(2))"
   ]
  },
  {
   "cell_type": "code",
   "execution_count": 48,
   "id": "d3171f85",
   "metadata": {
    "execution": {
     "iopub.execute_input": "2021-09-08T02:52:45.757709Z",
     "iopub.status.busy": "2021-09-08T02:52:45.718142Z",
     "iopub.status.idle": "2021-09-08T02:52:54.384460Z",
     "shell.execute_reply": "2021-09-08T02:52:54.384987Z"
    },
    "jupyter": {
     "source_hidden": true
    },
    "papermill": {
     "duration": 8.869452,
     "end_time": "2021-09-08T02:52:54.385258",
     "exception": false,
     "start_time": "2021-09-08T02:52:45.515806",
     "status": "completed"
    },
    "tags": []
   },
   "outputs": [
    {
     "data": {
      "text/html": [
       "<div>\n",
       "<style scoped>\n",
       "    .dataframe tbody tr th:only-of-type {\n",
       "        vertical-align: middle;\n",
       "    }\n",
       "\n",
       "    .dataframe tbody tr th {\n",
       "        vertical-align: top;\n",
       "    }\n",
       "\n",
       "    .dataframe thead th {\n",
       "        text-align: right;\n",
       "    }\n",
       "</style>\n",
       "<table border=\"1\" class=\"dataframe\">\n",
       "  <thead>\n",
       "    <tr style=\"text-align: right;\">\n",
       "      <th></th>\n",
       "      <th>0</th>\n",
       "      <th>1</th>\n",
       "    </tr>\n",
       "  </thead>\n",
       "  <tbody>\n",
       "    <tr>\n",
       "      <th>firstname</th>\n",
       "      <td>aman</td>\n",
       "      <td>Krista</td>\n",
       "    </tr>\n",
       "    <tr>\n",
       "      <th>Middle_name__c</th>\n",
       "      <td></td>\n",
       "      <td></td>\n",
       "    </tr>\n",
       "    <tr>\n",
       "      <th>lastname</th>\n",
       "      <td>altaf</td>\n",
       "      <td>Biggs</td>\n",
       "    </tr>\n",
       "    <tr>\n",
       "      <th>nanoHUB_user_ID__c</th>\n",
       "      <td>298948</td>\n",
       "      <td>298949</td>\n",
       "    </tr>\n",
       "    <tr>\n",
       "      <th>nanoHUB_username__c</th>\n",
       "      <td>amanaltaf.exe</td>\n",
       "      <td>kristaelainebiggs</td>\n",
       "    </tr>\n",
       "    <tr>\n",
       "      <th>Email</th>\n",
       "      <td>amanaltaf.exe@gmail.com</td>\n",
       "      <td>kristaelainebiggs@gmail.com</td>\n",
       "    </tr>\n",
       "    <tr>\n",
       "      <th>HasOptedOutOfEmail</th>\n",
       "      <td>1</td>\n",
       "      <td>1</td>\n",
       "    </tr>\n",
       "    <tr>\n",
       "      <th>nanoHUB_account_BLOCKED__c</th>\n",
       "      <td>0</td>\n",
       "      <td>0</td>\n",
       "    </tr>\n",
       "    <tr>\n",
       "      <th>nanoHUB_registration_date__c</th>\n",
       "      <td>2020-09-07 00:07:51</td>\n",
       "      <td>2020-09-07 00:29:13</td>\n",
       "    </tr>\n",
       "    <tr>\n",
       "      <th>nanoHUB_last_active_date__c</th>\n",
       "      <td>2021-02-13 15:50:19</td>\n",
       "      <td>2020-09-07 00:29:14</td>\n",
       "    </tr>\n",
       "    <tr>\n",
       "      <th>Detailed_user_timeline_to_Tableau__c</th>\n",
       "      <td>https://tableauqa.itap.purdue.edu/views/profil...</td>\n",
       "      <td>https://tableauqa.itap.purdue.edu/views/profil...</td>\n",
       "    </tr>\n",
       "    <tr>\n",
       "      <th>nanoHUB_user_page__c</th>\n",
       "      <td>https://nanohub.org/members/298948</td>\n",
       "      <td>https://nanohub.org/members/298949</td>\n",
       "    </tr>\n",
       "    <tr>\n",
       "      <th>ORCID__c</th>\n",
       "      <td></td>\n",
       "      <td></td>\n",
       "    </tr>\n",
       "    <tr>\n",
       "      <th>Organization__c</th>\n",
       "      <td></td>\n",
       "      <td></td>\n",
       "    </tr>\n",
       "    <tr>\n",
       "      <th>Organization_email_derived__c</th>\n",
       "      <td>NaN</td>\n",
       "      <td>NaN</td>\n",
       "    </tr>\n",
       "    <tr>\n",
       "      <th>Organization_composite__c</th>\n",
       "      <td>NaN</td>\n",
       "      <td>NaN</td>\n",
       "    </tr>\n",
       "  </tbody>\n",
       "</table>\n",
       "</div>"
      ],
      "text/plain": [
       "                                                                                      0  \\\n",
       "firstname                                                                          aman   \n",
       "Middle_name__c                                                                            \n",
       "lastname                                                                          altaf   \n",
       "nanoHUB_user_ID__c                                                               298948   \n",
       "nanoHUB_username__c                                                       amanaltaf.exe   \n",
       "Email                                                           amanaltaf.exe@gmail.com   \n",
       "HasOptedOutOfEmail                                                                    1   \n",
       "nanoHUB_account_BLOCKED__c                                                            0   \n",
       "nanoHUB_registration_date__c                                        2020-09-07 00:07:51   \n",
       "nanoHUB_last_active_date__c                                         2021-02-13 15:50:19   \n",
       "Detailed_user_timeline_to_Tableau__c  https://tableauqa.itap.purdue.edu/views/profil...   \n",
       "nanoHUB_user_page__c                                 https://nanohub.org/members/298948   \n",
       "ORCID__c                                                                                  \n",
       "Organization__c                                                                           \n",
       "Organization_email_derived__c                                                       NaN   \n",
       "Organization_composite__c                                                           NaN   \n",
       "\n",
       "                                                                                      1  \n",
       "firstname                                                                        Krista  \n",
       "Middle_name__c                                                                           \n",
       "lastname                                                                          Biggs  \n",
       "nanoHUB_user_ID__c                                                               298949  \n",
       "nanoHUB_username__c                                                   kristaelainebiggs  \n",
       "Email                                                       kristaelainebiggs@gmail.com  \n",
       "HasOptedOutOfEmail                                                                    1  \n",
       "nanoHUB_account_BLOCKED__c                                                            0  \n",
       "nanoHUB_registration_date__c                                        2020-09-07 00:29:13  \n",
       "nanoHUB_last_active_date__c                                         2020-09-07 00:29:14  \n",
       "Detailed_user_timeline_to_Tableau__c  https://tableauqa.itap.purdue.edu/views/profil...  \n",
       "nanoHUB_user_page__c                                 https://nanohub.org/members/298949  \n",
       "ORCID__c                                                                                 \n",
       "Organization__c                                                                          \n",
       "Organization_email_derived__c                                                       NaN  \n",
       "Organization_composite__c                                                           NaN  "
      ]
     },
     "execution_count": 48,
     "metadata": {},
     "output_type": "execute_result"
    }
   ],
   "source": [
    "df_sf = pd.DataFrame()\n",
    "\n",
    "# Make sure NaN and NaT values are taken care of here\n",
    "df_sf[['firstname', 'Middle_name__c', 'lastname']] = df['name'].apply(split_full_name)\n",
    "\n",
    "df_sf['nanoHUB_user_ID__c']            = df['id']\n",
    "df_sf['nanoHUB_username__c']           = df['username']\n",
    "df_sf['Email']                         = df['email'].fillna('').apply(lambda x: '' if '@invalid' in x else x)\n",
    "\n",
    "# for sendEmail: 0 = opt-out, 1 = receive email. For salesforce HasOptedOutOfEmail, it's exact opposite\n",
    "df_sf['HasOptedOutOfEmail']            = df['sendEmail'].apply(lambda x: 0 if x==1 else 1)\n",
    "df_sf['nanoHUB_account_BLOCKED__c']    = df['block'].fillna(0)\n",
    "\n",
    "# solidify time-related columns from datetime to string\n",
    "df['registerDate'].apply(lambda x: x.strftime('%Y-%m-%d %H:%M:%S') if pd.notnull(x) else '')\n",
    "df_sf['nanoHUB_registration_date__c']  = df['registerDate']\n",
    "\n",
    "df['lastvisitDate'].apply(lambda x: x.strftime('%Y-%m-%d %H:%M:%S') if pd.notnull(x) else '')\n",
    "df_sf['nanoHUB_last_active_date__c']   = df['lastvisitDate']\n",
    "\n",
    "# df_sf['nanoHUB_registration_date__c']  = df['registerDate'].dt.date.fillna('').astype('str')\n",
    "# df_sf['nanoHUB_last_active_date__c']   = df['lastvisitDate'].dt.date.fillna('').astype('str')\n",
    "\n",
    "# Tableau detailed view\n",
    "df_sf['Detailed_user_timeline_to_Tableau__c'] = df_sf['Email'].apply(lambda x: 'https://tableauqa.itap.purdue.edu/views/profile/ProfileTimeline?Id%20Email='+x+'\\\n",
    "&:iframeSizedToWindow=true&:embed=y&:showAppBanner=false\\\n",
    "&:display_count=no&:showVizHome=no#6' if x != '' else '')\n",
    "\n",
    "# nanoHUB user profile\n",
    "df_sf['nanoHUB_user_page__c'] = df_sf['nanoHUB_user_ID__c'].apply(lambda x: 'https://nanohub.org/members/%d'%x if x != '' else '')\n",
    "\n",
    "df_sf['ORCID__c'] = df['orcid'].fillna('')\n",
    "df_sf['Organization__c'] = df['organization'].fillna('')\n",
    "\n",
    "# derived information\n",
    "df_sf['Organization_email_derived__c'] = df['Salesforce_org_ID']\n",
    "df_sf['Organization_composite__c'] = df['Salesforce_org_ID']\n",
    "\n",
    "sf_original_fields = df_sf.columns\n",
    "\n",
    "# display\n",
    "df_sf.head(2).T"
   ]
  },
  {
   "cell_type": "code",
   "execution_count": 49,
   "id": "1dda54b9",
   "metadata": {
    "execution": {
     "iopub.execute_input": "2021-09-08T02:52:54.800418Z",
     "iopub.status.busy": "2021-09-08T02:52:54.799477Z",
     "iopub.status.idle": "2021-09-08T02:52:54.878766Z",
     "shell.execute_reply": "2021-09-08T02:52:54.879498Z"
    },
    "jupyter": {
     "source_hidden": true
    },
    "papermill": {
     "duration": 0.31751,
     "end_time": "2021-09-08T02:52:54.879872",
     "exception": false,
     "start_time": "2021-09-08T02:52:54.562362",
     "status": "completed"
    },
    "tags": []
   },
   "outputs": [],
   "source": [
    "## filtering out accounts that have positive block attributes\n",
    "spam_rows = df_sf[df_sf['nanoHUB_account_BLOCKED__c'].astype(str).str.contains(\"1\")]\n",
    "good_rows = df_sf[~df_sf['nanoHUB_account_BLOCKED__c'].astype(str).str.contains('1')]"
   ]
  },
  {
   "cell_type": "markdown",
   "id": "552931e7",
   "metadata": {
    "papermill": {
     "duration": 0.180824,
     "end_time": "2021-09-08T02:52:55.251187",
     "exception": false,
     "start_time": "2021-09-08T02:52:55.070363",
     "status": "completed"
    },
    "tags": []
   },
   "source": [
    "## To Salesforce Sales Cloud CRM"
   ]
  },
  {
   "cell_type": "code",
   "execution_count": 50,
   "id": "86a462db",
   "metadata": {
    "execution": {
     "iopub.execute_input": "2021-09-08T02:52:55.625014Z",
     "iopub.status.busy": "2021-09-08T02:52:55.624121Z",
     "iopub.status.idle": "2021-09-08T02:52:55.627327Z",
     "shell.execute_reply": "2021-09-08T02:52:55.626721Z"
    },
    "jupyter": {
     "source_hidden": true
    },
    "papermill": {
     "duration": 0.200522,
     "end_time": "2021-09-08T02:52:55.627528",
     "exception": false,
     "start_time": "2021-09-08T02:52:55.427006",
     "status": "completed"
    },
    "tags": []
   },
   "outputs": [],
   "source": [
    "\n",
    "# create DB2 to Salesforce API object\n",
    "db_s = salesforce\n",
    "\n",
    "db_s.object_id = object_id\n",
    "db_s.external_id = external_id"
   ]
  },
  {
   "cell_type": "code",
   "execution_count": 51,
   "id": "4a957aa3",
   "metadata": {
    "execution": {
     "iopub.execute_input": "2021-09-08T02:52:56.005030Z",
     "iopub.status.busy": "2021-09-08T02:52:56.004205Z",
     "iopub.status.idle": "2021-09-08T02:52:56.019621Z",
     "shell.execute_reply": "2021-09-08T02:52:56.020232Z"
    },
    "jupyter": {
     "source_hidden": true
    },
    "papermill": {
     "duration": 0.204696,
     "end_time": "2021-09-08T02:52:56.020482",
     "exception": false,
     "start_time": "2021-09-08T02:52:55.815786",
     "status": "completed"
    },
    "tags": []
   },
   "outputs": [
    {
     "data": {
      "text/html": [
       "<div>\n",
       "<style scoped>\n",
       "    .dataframe tbody tr th:only-of-type {\n",
       "        vertical-align: middle;\n",
       "    }\n",
       "\n",
       "    .dataframe tbody tr th {\n",
       "        vertical-align: top;\n",
       "    }\n",
       "\n",
       "    .dataframe thead th {\n",
       "        text-align: right;\n",
       "    }\n",
       "</style>\n",
       "<table border=\"1\" class=\"dataframe\">\n",
       "  <thead>\n",
       "    <tr style=\"text-align: right;\">\n",
       "      <th></th>\n",
       "      <th>firstname</th>\n",
       "      <th>Middle_name__c</th>\n",
       "      <th>lastname</th>\n",
       "      <th>nanoHUB_user_ID__c</th>\n",
       "      <th>nanoHUB_username__c</th>\n",
       "      <th>Email</th>\n",
       "      <th>HasOptedOutOfEmail</th>\n",
       "      <th>nanoHUB_account_BLOCKED__c</th>\n",
       "      <th>nanoHUB_registration_date__c</th>\n",
       "      <th>nanoHUB_last_active_date__c</th>\n",
       "      <th>Detailed_user_timeline_to_Tableau__c</th>\n",
       "      <th>nanoHUB_user_page__c</th>\n",
       "      <th>ORCID__c</th>\n",
       "      <th>Organization__c</th>\n",
       "      <th>Organization_email_derived__c</th>\n",
       "      <th>Organization_composite__c</th>\n",
       "    </tr>\n",
       "  </thead>\n",
       "  <tbody>\n",
       "    <tr>\n",
       "      <th>7</th>\n",
       "      <td>Evelyn</td>\n",
       "      <td></td>\n",
       "      <td>Walker</td>\n",
       "      <td>298956</td>\n",
       "      <td>evelynwalker</td>\n",
       "      <td>dianna_yoon@yahoo.com</td>\n",
       "      <td>1</td>\n",
       "      <td>1</td>\n",
       "      <td>2020-09-07 04:05:13</td>\n",
       "      <td>2020-09-07 04:06:28</td>\n",
       "      <td>https://tableauqa.itap.purdue.edu/views/profil...</td>\n",
       "      <td>https://nanohub.org/members/298956</td>\n",
       "      <td></td>\n",
       "      <td></td>\n",
       "      <td>NaN</td>\n",
       "      <td>NaN</td>\n",
       "    </tr>\n",
       "    <tr>\n",
       "      <th>9</th>\n",
       "      <td>Online</td>\n",
       "      <td>Websites Full</td>\n",
       "      <td>HD</td>\n",
       "      <td>298958</td>\n",
       "      <td>onlinewebsitesfullhd</td>\n",
       "      <td>umarbinjanseni@gmail.com</td>\n",
       "      <td>1</td>\n",
       "      <td>1</td>\n",
       "      <td>2020-09-07 04:33:26</td>\n",
       "      <td>2020-09-07 04:42:15</td>\n",
       "      <td>https://tableauqa.itap.purdue.edu/views/profil...</td>\n",
       "      <td>https://nanohub.org/members/298958</td>\n",
       "      <td></td>\n",
       "      <td></td>\n",
       "      <td>NaN</td>\n",
       "      <td>NaN</td>\n",
       "    </tr>\n",
       "  </tbody>\n",
       "</table>\n",
       "</div>"
      ],
      "text/plain": [
       "  firstname Middle_name__c lastname  nanoHUB_user_ID__c   nanoHUB_username__c  \\\n",
       "7    Evelyn                  Walker              298956          evelynwalker   \n",
       "9    Online  Websites Full       HD              298958  onlinewebsitesfullhd   \n",
       "\n",
       "                      Email  HasOptedOutOfEmail  nanoHUB_account_BLOCKED__c  \\\n",
       "7     dianna_yoon@yahoo.com                   1                           1   \n",
       "9  umarbinjanseni@gmail.com                   1                           1   \n",
       "\n",
       "  nanoHUB_registration_date__c nanoHUB_last_active_date__c  \\\n",
       "7          2020-09-07 04:05:13         2020-09-07 04:06:28   \n",
       "9          2020-09-07 04:33:26         2020-09-07 04:42:15   \n",
       "\n",
       "                Detailed_user_timeline_to_Tableau__c  \\\n",
       "7  https://tableauqa.itap.purdue.edu/views/profil...   \n",
       "9  https://tableauqa.itap.purdue.edu/views/profil...   \n",
       "\n",
       "                 nanoHUB_user_page__c ORCID__c Organization__c  \\\n",
       "7  https://nanohub.org/members/298956                            \n",
       "9  https://nanohub.org/members/298958                            \n",
       "\n",
       "  Organization_email_derived__c Organization_composite__c  \n",
       "7                           NaN                       NaN  \n",
       "9                           NaN                       NaN  "
      ]
     },
     "metadata": {},
     "output_type": "display_data"
    },
    {
     "data": {
      "text/html": [
       "<div>\n",
       "<style scoped>\n",
       "    .dataframe tbody tr th:only-of-type {\n",
       "        vertical-align: middle;\n",
       "    }\n",
       "\n",
       "    .dataframe tbody tr th {\n",
       "        vertical-align: top;\n",
       "    }\n",
       "\n",
       "    .dataframe thead th {\n",
       "        text-align: right;\n",
       "    }\n",
       "</style>\n",
       "<table border=\"1\" class=\"dataframe\">\n",
       "  <thead>\n",
       "    <tr style=\"text-align: right;\">\n",
       "      <th></th>\n",
       "      <th>firstname</th>\n",
       "      <th>Middle_name__c</th>\n",
       "      <th>lastname</th>\n",
       "      <th>nanoHUB_user_ID__c</th>\n",
       "      <th>nanoHUB_username__c</th>\n",
       "      <th>Email</th>\n",
       "      <th>HasOptedOutOfEmail</th>\n",
       "      <th>nanoHUB_account_BLOCKED__c</th>\n",
       "      <th>nanoHUB_registration_date__c</th>\n",
       "      <th>nanoHUB_last_active_date__c</th>\n",
       "      <th>Detailed_user_timeline_to_Tableau__c</th>\n",
       "      <th>nanoHUB_user_page__c</th>\n",
       "      <th>ORCID__c</th>\n",
       "      <th>Organization__c</th>\n",
       "      <th>Organization_email_derived__c</th>\n",
       "      <th>Organization_composite__c</th>\n",
       "    </tr>\n",
       "  </thead>\n",
       "  <tbody>\n",
       "    <tr>\n",
       "      <th>42150</th>\n",
       "      <td>Bill</td>\n",
       "      <td></td>\n",
       "      <td>Li</td>\n",
       "      <td>337876</td>\n",
       "      <td>bingcan.li2017</td>\n",
       "      <td>bingcan.li2017@gmail.com</td>\n",
       "      <td>1</td>\n",
       "      <td>0</td>\n",
       "      <td>2021-09-08 02:35:19</td>\n",
       "      <td>2021-09-08 02:35:20</td>\n",
       "      <td>https://tableauqa.itap.purdue.edu/views/profil...</td>\n",
       "      <td>https://nanohub.org/members/337876</td>\n",
       "      <td></td>\n",
       "      <td>arizona state university</td>\n",
       "      <td>a0r5w00000V42jDAAR</td>\n",
       "      <td>a0r5w00000V42jDAAR</td>\n",
       "    </tr>\n",
       "    <tr>\n",
       "      <th>42151</th>\n",
       "      <td>Matthew</td>\n",
       "      <td></td>\n",
       "      <td>Lanum</td>\n",
       "      <td>337877</td>\n",
       "      <td>ren0225</td>\n",
       "      <td>mattlanum@gmail.com</td>\n",
       "      <td>1</td>\n",
       "      <td>0</td>\n",
       "      <td>2021-09-08 02:45:02</td>\n",
       "      <td>2021-09-08 02:47:15</td>\n",
       "      <td>https://tableauqa.itap.purdue.edu/views/profil...</td>\n",
       "      <td>https://nanohub.org/members/337877</td>\n",
       "      <td></td>\n",
       "      <td>kennesaw state university</td>\n",
       "      <td>a0r5w00000Wf9KvAAJ</td>\n",
       "      <td>a0r5w00000Wf9KvAAJ</td>\n",
       "    </tr>\n",
       "  </tbody>\n",
       "</table>\n",
       "</div>"
      ],
      "text/plain": [
       "      firstname Middle_name__c lastname  nanoHUB_user_ID__c  \\\n",
       "42150      Bill                      Li              337876   \n",
       "42151   Matthew                   Lanum              337877   \n",
       "\n",
       "      nanoHUB_username__c                     Email  HasOptedOutOfEmail  \\\n",
       "42150      bingcan.li2017  bingcan.li2017@gmail.com                   1   \n",
       "42151             ren0225       mattlanum@gmail.com                   1   \n",
       "\n",
       "       nanoHUB_account_BLOCKED__c nanoHUB_registration_date__c  \\\n",
       "42150                           0          2021-09-08 02:35:19   \n",
       "42151                           0          2021-09-08 02:45:02   \n",
       "\n",
       "      nanoHUB_last_active_date__c  \\\n",
       "42150         2021-09-08 02:35:20   \n",
       "42151         2021-09-08 02:47:15   \n",
       "\n",
       "                    Detailed_user_timeline_to_Tableau__c  \\\n",
       "42150  https://tableauqa.itap.purdue.edu/views/profil...   \n",
       "42151  https://tableauqa.itap.purdue.edu/views/profil...   \n",
       "\n",
       "                     nanoHUB_user_page__c ORCID__c            Organization__c  \\\n",
       "42150  https://nanohub.org/members/337876            arizona state university   \n",
       "42151  https://nanohub.org/members/337877           kennesaw state university   \n",
       "\n",
       "      Organization_email_derived__c Organization_composite__c  \n",
       "42150            a0r5w00000V42jDAAR        a0r5w00000V42jDAAR  \n",
       "42151            a0r5w00000Wf9KvAAJ        a0r5w00000Wf9KvAAJ  "
      ]
     },
     "metadata": {},
     "output_type": "display_data"
    }
   ],
   "source": [
    "display(spam_rows.head(2))\n",
    "display(good_rows.tail(2))"
   ]
  },
  {
   "cell_type": "code",
   "execution_count": 52,
   "id": "c79293c0",
   "metadata": {
    "execution": {
     "iopub.execute_input": "2021-09-08T02:52:56.384462Z",
     "iopub.status.busy": "2021-09-08T02:52:56.383362Z",
     "iopub.status.idle": "2021-09-08T02:53:23.441602Z",
     "shell.execute_reply": "2021-09-08T02:53:23.442001Z"
    },
    "jupyter": {
     "source_hidden": true
    },
    "papermill": {
     "duration": 27.250113,
     "end_time": "2021-09-08T02:53:23.442257",
     "exception": false,
     "start_time": "2021-09-08T02:52:56.192144",
     "status": "completed"
    },
    "tags": []
   },
   "outputs": [
    {
     "name": "stdout",
     "output_type": "stream",
     "text": [
      "[Success] Bulk job creation successful. Job ID = 7505w00000ZQftAAAT\n",
      "hello\n"
     ]
    },
    {
     "name": "stdout",
     "output_type": "stream",
     "text": [
      "[Success] CSV upload successful. Job ID = 7505w00000ZQftAAAT\n"
     ]
    },
    {
     "name": "stdout",
     "output_type": "stream",
     "text": [
      "[Success] Closing job successful. Job ID = 7505w00000ZQftAAAT\n"
     ]
    }
   ],
   "source": [
    "# send data to Salesforce\n",
    "db_s.send_data(good_rows)"
   ]
  },
  {
   "cell_type": "code",
   "execution_count": 53,
   "id": "00ecd5cc",
   "metadata": {
    "execution": {
     "iopub.execute_input": "2021-09-08T02:53:23.827622Z",
     "iopub.status.busy": "2021-09-08T02:53:23.826923Z",
     "iopub.status.idle": "2021-09-08T02:53:24.273381Z",
     "shell.execute_reply": "2021-09-08T02:53:24.274320Z"
    },
    "jupyter": {
     "source_hidden": true
    },
    "papermill": {
     "duration": 0.6495,
     "end_time": "2021-09-08T02:53:24.274828",
     "exception": false,
     "start_time": "2021-09-08T02:53:23.625328",
     "status": "completed"
    },
    "tags": []
   },
   "outputs": [
    {
     "data": {
      "text/plain": [
       "{'id': '7505w00000ZQftAAAT',\n",
       " 'operation': 'upsert',\n",
       " 'object': 'Contact',\n",
       " 'createdById': '0055w00000DM5bOAAT',\n",
       " 'createdDate': '2021-09-08T02:52:56.000+0000',\n",
       " 'systemModstamp': '2021-09-08T02:53:23.000+0000',\n",
       " 'state': 'UploadComplete',\n",
       " 'externalIdFieldName': 'nanoHUB_user_ID__c',\n",
       " 'concurrencyMode': 'Parallel',\n",
       " 'contentType': 'CSV',\n",
       " 'apiVersion': 47.0,\n",
       " 'jobType': 'V2Ingest',\n",
       " 'lineEnding': 'LF',\n",
       " 'columnDelimiter': 'COMMA',\n",
       " 'numberRecordsProcessed': 0,\n",
       " 'numberRecordsFailed': 0,\n",
       " 'retries': 0,\n",
       " 'totalProcessingTime': 0,\n",
       " 'apiActiveProcessingTime': 0,\n",
       " 'apexProcessingTime': 0}"
      ]
     },
     "execution_count": 53,
     "metadata": {},
     "output_type": "execute_result"
    }
   ],
   "source": [
    "# check status\n",
    "db_s.check_bulk_status()"
   ]
  },
  {
   "cell_type": "code",
   "execution_count": 54,
   "id": "6334f4db",
   "metadata": {
    "execution": {
     "iopub.execute_input": "2021-09-08T02:53:24.630114Z",
     "iopub.status.busy": "2021-09-08T02:53:24.629401Z",
     "iopub.status.idle": "2021-09-08T02:53:24.858430Z",
     "shell.execute_reply": "2021-09-08T02:53:24.858892Z"
    },
    "jupyter": {
     "source_hidden": true
    },
    "papermill": {
     "duration": 0.408384,
     "end_time": "2021-09-08T02:53:24.859073",
     "exception": false,
     "start_time": "2021-09-08T02:53:24.450689",
     "status": "completed"
    },
    "tags": []
   },
   "outputs": [
    {
     "name": "stdout",
     "output_type": "stream",
     "text": [
      "''\n"
     ]
    }
   ],
   "source": [
    "# check status\n",
    "from pprint import pprint\n",
    "\n",
    "pprint(db_s.check_bulk_failed_results())"
   ]
  },
  {
   "cell_type": "code",
   "execution_count": 55,
   "id": "3c9107a5",
   "metadata": {
    "execution": {
     "iopub.execute_input": "2021-09-08T02:53:25.229743Z",
     "iopub.status.busy": "2021-09-08T02:53:25.224993Z",
     "iopub.status.idle": "2021-09-08T02:53:25.235774Z",
     "shell.execute_reply": "2021-09-08T02:53:25.235288Z"
    },
    "jupyter": {
     "source_hidden": true
    },
    "papermill": {
     "duration": 0.189997,
     "end_time": "2021-09-08T02:53:25.235925",
     "exception": false,
     "start_time": "2021-09-08T02:53:25.045928",
     "status": "completed"
    },
    "tags": []
   },
   "outputs": [
    {
     "data": {
      "text/html": [
       "<div>\n",
       "<style scoped>\n",
       "    .dataframe tbody tr th:only-of-type {\n",
       "        vertical-align: middle;\n",
       "    }\n",
       "\n",
       "    .dataframe tbody tr th {\n",
       "        vertical-align: top;\n",
       "    }\n",
       "\n",
       "    .dataframe thead th {\n",
       "        text-align: right;\n",
       "    }\n",
       "</style>\n",
       "<table border=\"1\" class=\"dataframe\">\n",
       "  <thead>\n",
       "    <tr style=\"text-align: right;\">\n",
       "      <th></th>\n",
       "      <th>firstname</th>\n",
       "      <th>Middle_name__c</th>\n",
       "      <th>lastname</th>\n",
       "      <th>nanoHUB_user_ID__c</th>\n",
       "      <th>nanoHUB_username__c</th>\n",
       "      <th>Email</th>\n",
       "      <th>HasOptedOutOfEmail</th>\n",
       "      <th>nanoHUB_account_BLOCKED__c</th>\n",
       "      <th>nanoHUB_registration_date__c</th>\n",
       "      <th>nanoHUB_last_active_date__c</th>\n",
       "      <th>Detailed_user_timeline_to_Tableau__c</th>\n",
       "      <th>nanoHUB_user_page__c</th>\n",
       "      <th>ORCID__c</th>\n",
       "      <th>Organization__c</th>\n",
       "      <th>Organization_email_derived__c</th>\n",
       "      <th>Organization_composite__c</th>\n",
       "    </tr>\n",
       "  </thead>\n",
       "  <tbody>\n",
       "    <tr>\n",
       "      <th>42150</th>\n",
       "      <td>Bill</td>\n",
       "      <td></td>\n",
       "      <td>Li</td>\n",
       "      <td>337876</td>\n",
       "      <td>bingcan.li2017</td>\n",
       "      <td>bingcan.li2017@gmail.com</td>\n",
       "      <td>1</td>\n",
       "      <td>0</td>\n",
       "      <td>2021-09-08 02:35:19</td>\n",
       "      <td>2021-09-08 02:35:20</td>\n",
       "      <td>https://tableauqa.itap.purdue.edu/views/profil...</td>\n",
       "      <td>https://nanohub.org/members/337876</td>\n",
       "      <td></td>\n",
       "      <td>arizona state university</td>\n",
       "      <td>a0r5w00000V42jDAAR</td>\n",
       "      <td>a0r5w00000V42jDAAR</td>\n",
       "    </tr>\n",
       "    <tr>\n",
       "      <th>42151</th>\n",
       "      <td>Matthew</td>\n",
       "      <td></td>\n",
       "      <td>Lanum</td>\n",
       "      <td>337877</td>\n",
       "      <td>ren0225</td>\n",
       "      <td>mattlanum@gmail.com</td>\n",
       "      <td>1</td>\n",
       "      <td>0</td>\n",
       "      <td>2021-09-08 02:45:02</td>\n",
       "      <td>2021-09-08 02:47:15</td>\n",
       "      <td>https://tableauqa.itap.purdue.edu/views/profil...</td>\n",
       "      <td>https://nanohub.org/members/337877</td>\n",
       "      <td></td>\n",
       "      <td>kennesaw state university</td>\n",
       "      <td>a0r5w00000Wf9KvAAJ</td>\n",
       "      <td>a0r5w00000Wf9KvAAJ</td>\n",
       "    </tr>\n",
       "  </tbody>\n",
       "</table>\n",
       "</div>"
      ],
      "text/plain": [
       "      firstname Middle_name__c lastname  nanoHUB_user_ID__c  \\\n",
       "42150      Bill                      Li              337876   \n",
       "42151   Matthew                   Lanum              337877   \n",
       "\n",
       "      nanoHUB_username__c                     Email  HasOptedOutOfEmail  \\\n",
       "42150      bingcan.li2017  bingcan.li2017@gmail.com                   1   \n",
       "42151             ren0225       mattlanum@gmail.com                   1   \n",
       "\n",
       "       nanoHUB_account_BLOCKED__c nanoHUB_registration_date__c  \\\n",
       "42150                           0          2021-09-08 02:35:19   \n",
       "42151                           0          2021-09-08 02:45:02   \n",
       "\n",
       "      nanoHUB_last_active_date__c  \\\n",
       "42150         2021-09-08 02:35:20   \n",
       "42151         2021-09-08 02:47:15   \n",
       "\n",
       "                    Detailed_user_timeline_to_Tableau__c  \\\n",
       "42150  https://tableauqa.itap.purdue.edu/views/profil...   \n",
       "42151  https://tableauqa.itap.purdue.edu/views/profil...   \n",
       "\n",
       "                     nanoHUB_user_page__c ORCID__c            Organization__c  \\\n",
       "42150  https://nanohub.org/members/337876            arizona state university   \n",
       "42151  https://nanohub.org/members/337877           kennesaw state university   \n",
       "\n",
       "      Organization_email_derived__c Organization_composite__c  \n",
       "42150            a0r5w00000V42jDAAR        a0r5w00000V42jDAAR  \n",
       "42151            a0r5w00000Wf9KvAAJ        a0r5w00000Wf9KvAAJ  "
      ]
     },
     "metadata": {},
     "output_type": "display_data"
    },
    {
     "name": "stdout",
     "output_type": "stream",
     "text": [
      "(39062, 16)\n"
     ]
    }
   ],
   "source": [
    "display(good_rows.tail(2))\n",
    "print(good_rows.shape)"
   ]
  },
  {
   "cell_type": "markdown",
   "id": "99dafe45",
   "metadata": {
    "papermill": {
     "duration": 0.177413,
     "end_time": "2021-09-08T02:53:25.593602",
     "exception": false,
     "start_time": "2021-09-08T02:53:25.416189",
     "status": "completed"
    },
    "tags": []
   },
   "source": [
    "## Verification\n",
    "Checking to see if salesforce has updated contacts with the new users\n",
    "\n",
    "request name and nanohub_user_id"
   ]
  },
  {
   "cell_type": "raw",
   "id": "620df6ba",
   "metadata": {
    "papermill": {
     "duration": 0.176408,
     "end_time": "2021-09-08T02:53:25.948629",
     "exception": false,
     "start_time": "2021-09-08T02:53:25.772221",
     "status": "completed"
    },
    "tags": []
   },
   "source": [
    "# create DB2 to Salesforce API object\n",
    "db_s = DB2SalesforceAPI(sf_login_params)"
   ]
  },
  {
   "cell_type": "raw",
   "id": "d77e336c",
   "metadata": {
    "papermill": {
     "duration": 0.176387,
     "end_time": "2021-09-08T02:53:26.302359",
     "exception": false,
     "start_time": "2021-09-08T02:53:26.125972",
     "status": "completed"
    },
    "tags": []
   },
   "source": [
    "# get Salesforce ID for organizations\n",
    "sf_org_ID_df = db_s.query_data('SELECT Id, firstname, lastname, nanoHUB_user_ID__c FROM Contact')\n",
    "\n",
    "# display\n",
    "sf_org_ID_df.head(3)"
   ]
  },
  {
   "cell_type": "raw",
   "id": "af9dff7c",
   "metadata": {
    "papermill": {
     "duration": 0.176469,
     "end_time": "2021-09-08T02:53:26.657010",
     "exception": false,
     "start_time": "2021-09-08T02:53:26.480541",
     "status": "completed"
    },
    "tags": []
   },
   "source": [
    "display(sf_org_ID_df.tail(5))"
   ]
  },
  {
   "cell_type": "code",
   "execution_count": null,
   "id": "b8ac2b86",
   "metadata": {
    "jupyter": {
     "source_hidden": true
    },
    "papermill": {
     "duration": 0.198056,
     "end_time": "2021-09-08T02:53:27.031214",
     "exception": false,
     "start_time": "2021-09-08T02:53:26.833158",
     "status": "completed"
    },
    "tags": []
   },
   "outputs": [],
   "source": []
  },
  {
   "cell_type": "code",
   "execution_count": null,
   "id": "3fccfeac",
   "metadata": {
    "jupyter": {
     "source_hidden": true
    },
    "papermill": {
     "duration": 0.175333,
     "end_time": "2021-09-08T02:53:27.387332",
     "exception": false,
     "start_time": "2021-09-08T02:53:27.211999",
     "status": "completed"
    },
    "tags": []
   },
   "outputs": [],
   "source": []
  },
  {
   "cell_type": "code",
   "execution_count": null,
   "id": "c16b0b09",
   "metadata": {
    "jupyter": {
     "source_hidden": true
    },
    "papermill": {
     "duration": 0.176053,
     "end_time": "2021-09-08T02:53:27.739712",
     "exception": false,
     "start_time": "2021-09-08T02:53:27.563659",
     "status": "completed"
    },
    "tags": []
   },
   "outputs": [],
   "source": []
  },
  {
   "cell_type": "code",
   "execution_count": null,
   "id": "f76dfab2",
   "metadata": {
    "jupyter": {
     "source_hidden": true
    },
    "papermill": {
     "duration": 0.179042,
     "end_time": "2021-09-08T02:53:28.096569",
     "exception": false,
     "start_time": "2021-09-08T02:53:27.917527",
     "status": "completed"
    },
    "tags": []
   },
   "outputs": [],
   "source": []
  }
 ],
 "metadata": {
  "celltoolbar": "Tags",
  "kernelspec": {
   "display_name": "Python 3",
   "language": "python",
   "name": "python3"
  },
  "language_info": {
   "codemirror_mode": {
    "name": "ipython",
    "version": 3
   },
   "file_extension": ".py",
   "mimetype": "text/x-python",
   "name": "python",
   "nbconvert_exporter": "python",
   "pygments_lexer": "ipython3",
   "version": "3.9.7"
  },
  "papermill": {
   "duration": 382.483842,
   "end_time": "2021-09-08T02:53:31.305773",
   "environment_variables": {},
   "exception": null,
   "input_path": "nanoHUB/pipeline/salesforce/task_user_basic_updates.ipynb",
   "output_path": "./.output/task_user_basic_updates.ipynb",
   "parameters": {},
   "start_time": "2021-09-08T02:47:08.821931",
   "version": "2.1.1"
  }
 },
 "nbformat": 4,
 "nbformat_minor": 5
}