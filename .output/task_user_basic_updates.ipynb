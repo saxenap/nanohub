{
 "cells": [
  {
   "cell_type": "markdown",
   "id": "e3ea8478",
   "metadata": {
    "collapsed": false,
    "papermill": {
     "duration": 0.091006,
     "end_time": "2021-10-25T11:54:00.248099",
     "exception": false,
     "start_time": "2021-10-25T11:54:00.157093",
     "status": "completed"
    },
    "tags": []
   },
   "source": [
    "# DB2-Salesforce connector: Basic user information updates"
   ]
  },
  {
   "cell_type": "code",
   "execution_count": 1,
   "id": "b93ef7be",
   "metadata": {
    "collapsed": false,
    "execution": {
     "iopub.execute_input": "2021-10-25T11:54:00.411393Z",
     "iopub.status.busy": "2021-10-25T11:54:00.410434Z",
     "iopub.status.idle": "2021-10-25T11:54:00.415347Z",
     "shell.execute_reply": "2021-10-25T11:54:00.415855Z"
    },
    "jupyter": {
     "source_hidden": true
    },
    "papermill": {
     "duration": 0.089936,
     "end_time": "2021-10-25T11:54:00.416143",
     "exception": false,
     "start_time": "2021-10-25T11:54:00.326207",
     "status": "completed"
    },
    "pycharm": {
     "name": "#%%\n"
    },
    "tags": []
   },
   "outputs": [],
   "source": [
    "# Parameters\n",
    "hours_range = 24*365*30 # number of hours to look back\n",
    "\n",
    "# API settings\n",
    "api_url = '/services/data/v43.0/sobjects'\n",
    "external_id = 'nanoHUB_user_ID__c'\n",
    "object_id = 'Contact'\n",
    "\n",
    "# login parameters to be handled by Papermill\n",
    "sf_login_params = None\n",
    "sql_login_params = None\n",
    "\n",
    "lib_dir = ''"
   ]
  },
  {
   "cell_type": "code",
   "execution_count": 2,
   "id": "9d2712e3",
   "metadata": {
    "collapsed": false,
    "execution": {
     "iopub.execute_input": "2021-10-25T11:54:00.574437Z",
     "iopub.status.busy": "2021-10-25T11:54:00.573816Z",
     "iopub.status.idle": "2021-10-25T11:54:03.098203Z",
     "shell.execute_reply": "2021-10-25T11:54:03.099016Z"
    },
    "jupyter": {
     "source_hidden": true
    },
    "papermill": {
     "duration": 2.606202,
     "end_time": "2021-10-25T11:54:03.099519",
     "exception": false,
     "start_time": "2021-10-25T11:54:00.493317",
     "status": "completed"
    },
    "pycharm": {
     "name": "#%%\n"
    },
    "tags": []
   },
   "outputs": [
    {
     "name": "stdout",
     "output_type": "stream",
     "text": [
      "\u001b[1mnanoHUB - Serving Students, Researchers & Instructors\u001b[0m\n"
     ]
    },
    {
     "name": "stdout",
     "output_type": "stream",
     "text": [
      "Obtained Salesforce access token ...... True\n"
     ]
    }
   ],
   "source": [
    "# Parameters\n",
    "from nanoHUB.application import Application\n",
    "\n",
    "application = Application.get_instance()\n",
    "nanohub_db = application.new_db_engine('nanohub')\n",
    "wang159_myrmekes_db = application.new_db_engine('wang159_myrmekes')\n",
    "\n",
    "\n",
    "salesforce = application.new_salesforce_engine()\n",
    "db_s = salesforce\n"
   ]
  },
  {
   "cell_type": "code",
   "execution_count": 3,
   "id": "e9220f9f",
   "metadata": {
    "collapsed": false,
    "execution": {
     "iopub.execute_input": "2021-10-25T11:54:03.268128Z",
     "iopub.status.busy": "2021-10-25T11:54:03.267469Z",
     "iopub.status.idle": "2021-10-25T11:54:03.269724Z",
     "shell.execute_reply": "2021-10-25T11:54:03.270213Z"
    },
    "jupyter": {
     "source_hidden": true
    },
    "papermill": {
     "duration": 0.085743,
     "end_time": "2021-10-25T11:54:03.270439",
     "exception": false,
     "start_time": "2021-10-25T11:54:03.184696",
     "status": "completed"
    },
    "pycharm": {
     "name": "#%%\n"
    },
    "tags": []
   },
   "outputs": [],
   "source": [
    "import sys\n",
    "sys.path.append(lib_dir)\n",
    "\n",
    "import pandas as pd\n",
    "import datetime"
   ]
  },
  {
   "cell_type": "markdown",
   "id": "a9ccc508",
   "metadata": {
    "collapsed": false,
    "papermill": {
     "duration": 0.079067,
     "end_time": "2021-10-25T11:54:03.429574",
     "exception": false,
     "start_time": "2021-10-25T11:54:03.350507",
     "status": "completed"
    },
    "tags": []
   },
   "source": [
    "## Obtain contacts from DB2\n",
    "that have last visit date within range of interest specified by day_range"
   ]
  },
  {
   "cell_type": "raw",
   "id": "df10ff44",
   "metadata": {
    "collapsed": false,
    "papermill": {
     "duration": 0.080288,
     "end_time": "2021-10-25T11:54:03.588801",
     "exception": false,
     "start_time": "2021-10-25T11:54:03.508513",
     "status": "completed"
    },
    "tags": []
   },
   "source": [
    "MariaDB [nanohub]> select id, name, label from jos_user_profile_fields;\n",
    "+----+-----------------+-------------------------------------------------------+\n",
    "| id | name            | label                                                 |\n",
    "+----+-----------------+-------------------------------------------------------+\n",
    "|  1 | organization    | Organization                                          |\n",
    "|  2 | orgtype         | Organization / Position Type                          |\n",
    "|  3 | countryresident | Residency                                             |\n",
    "|  4 | countryorigin   | Citizenship                                           |\n",
    "|  5 | url             | Website                                               |\n",
    "|  6 | phone           | Telephone                                             |\n",
    "|  7 | orcid           | ORCID                                                 |\n",
    "|  8 | gender          | Gender                                                |\n",
    "|  9 | race            | Racial Background                                     |\n",
    "| 10 | disability      | Disability                                            |\n",
    "| 11 | reason          | Reason                                                |\n",
    "| 12 | tags            | Interests                                             |\n",
    "| 13 | address         | Address                                               |\n",
    "| 14 | hispanic        | Hispanic Heritage                                     |\n",
    "| 15 | bio             | Biography                                             |\n",
    "| 16 | howdidyouhear   | How did you first hear about nanoHUB?                 |\n",
    "| 17 | purposeofvisit  | What is the primary purpose of your visit to nanoHUB? |\n",
    "+----+-----------------+-------------------------------------------------------+\n",
    "\n",
    "\n",
    "\n",
    "MariaDB [nanohub]> explain  jos_user_profiles;\n",
    "+---------------+------------------+------+-----+---------+----------------+\n",
    "| Field         | Type             | Null | Key | Default | Extra          |\n",
    "+---------------+------------------+------+-----+---------+----------------+\n",
    "| id            | int(11) unsigned | NO   | PRI | NULL    | auto_increment |\n",
    "| user_id       | int(11)          | NO   | MUL | NULL    |                |\n",
    "| profile_key   | varchar(100)     | NO   |     | NULL    |                |\n",
    "| profile_value | text             | NO   |     | NULL    |                |\n",
    "| ordering      | int(11)          | NO   |     | 0       |                |\n",
    "| access        | int(10)          | NO   |     | 0       |                |\n",
    "+---------------+------------------+------+-----+---------+----------------+"
   ]
  },
  {
   "cell_type": "code",
   "execution_count": 4,
   "id": "917abfe5",
   "metadata": {
    "collapsed": false,
    "execution": {
     "iopub.execute_input": "2021-10-25T11:54:03.750447Z",
     "iopub.status.busy": "2021-10-25T11:54:03.749911Z",
     "iopub.status.idle": "2021-10-25T11:54:03.752615Z",
     "shell.execute_reply": "2021-10-25T11:54:03.753121Z"
    },
    "jupyter": {
     "source_hidden": true
    },
    "papermill": {
     "duration": 0.085975,
     "end_time": "2021-10-25T11:54:03.753359",
     "exception": false,
     "start_time": "2021-10-25T11:54:03.667384",
     "status": "completed"
    },
    "pycharm": {
     "name": "#%%\n"
    },
    "tags": []
   },
   "outputs": [
    {
     "name": "stdout",
     "output_type": "stream",
     "text": [
      "select id, name, username, block, email, sendEmail, registerDate, lastvisitDate                     from jos_users where registerDate >= '1991-11-02'\n"
     ]
    }
   ],
   "source": [
    "# Depending on the task, use different query and cutoff\n",
    "\n",
    "# Hourly update for new registrations\n",
    "date_cutoff = (datetime.datetime.today().date() - datetime.timedelta(hours=hours_range)).strftime('%Y-%m-%d')\n",
    "sql_query = \"select id, name, username, block, email, sendEmail, registerDate, lastvisitDate \\\n",
    "                    from jos_users where registerDate >= '%s'\" % date_cutoff\n",
    "\n",
    "# display\n",
    "print(sql_query)"
   ]
  },
  {
   "cell_type": "code",
   "execution_count": 5,
   "id": "9b2a3f37",
   "metadata": {
    "collapsed": false,
    "execution": {
     "iopub.execute_input": "2021-10-25T11:54:03.915356Z",
     "iopub.status.busy": "2021-10-25T11:54:03.914756Z",
     "iopub.status.idle": "2021-10-25T11:54:17.576452Z",
     "shell.execute_reply": "2021-10-25T11:54:17.576005Z"
    },
    "jupyter": {
     "source_hidden": true
    },
    "papermill": {
     "duration": 13.744019,
     "end_time": "2021-10-25T11:54:17.576672",
     "exception": false,
     "start_time": "2021-10-25T11:54:03.832653",
     "status": "completed"
    },
    "pycharm": {
     "name": "#%%\n"
    },
    "tags": []
   },
   "outputs": [],
   "source": [
    "# connect with DB2\n",
    "import sqlalchemy as sql\n",
    "\n",
    "df = pd.read_sql_query(sql_query, nanohub_db)\n",
    "\n",
    "# get user profile details\n",
    "profile_df = pd.read_sql_query(\"select * from jos_user_profiles where profile_key in ('orgtype', 'organization', 'orcid')\", nanohub_db)"
   ]
  },
  {
   "cell_type": "code",
   "execution_count": 6,
   "id": "fdf0caf3",
   "metadata": {
    "collapsed": false,
    "execution": {
     "iopub.execute_input": "2021-10-25T11:54:17.745258Z",
     "iopub.status.busy": "2021-10-25T11:54:17.744688Z",
     "iopub.status.idle": "2021-10-25T11:54:17.760552Z",
     "shell.execute_reply": "2021-10-25T11:54:17.761092Z"
    },
    "jupyter": {
     "source_hidden": true
    },
    "papermill": {
     "duration": 0.106845,
     "end_time": "2021-10-25T11:54:17.761319",
     "exception": false,
     "start_time": "2021-10-25T11:54:17.654474",
     "status": "completed"
    },
    "pycharm": {
     "name": "#%%\n"
    },
    "tags": []
   },
   "outputs": [
    {
     "data": {
      "text/html": [
       "<div>\n",
       "<style scoped>\n",
       "    .dataframe tbody tr th:only-of-type {\n",
       "        vertical-align: middle;\n",
       "    }\n",
       "\n",
       "    .dataframe tbody tr th {\n",
       "        vertical-align: top;\n",
       "    }\n",
       "\n",
       "    .dataframe thead th {\n",
       "        text-align: right;\n",
       "    }\n",
       "</style>\n",
       "<table border=\"1\" class=\"dataframe\">\n",
       "  <thead>\n",
       "    <tr style=\"text-align: right;\">\n",
       "      <th></th>\n",
       "      <th>id</th>\n",
       "      <th>name</th>\n",
       "      <th>username</th>\n",
       "      <th>block</th>\n",
       "      <th>email</th>\n",
       "      <th>sendEmail</th>\n",
       "      <th>registerDate</th>\n",
       "      <th>lastvisitDate</th>\n",
       "    </tr>\n",
       "  </thead>\n",
       "  <tbody>\n",
       "    <tr>\n",
       "      <th>0</th>\n",
       "      <td>998</td>\n",
       "      <td>hubrepo hubrepo</td>\n",
       "      <td>hubrepo</td>\n",
       "      <td>0</td>\n",
       "      <td>nkissebe@gmail.com</td>\n",
       "      <td>0</td>\n",
       "      <td>2014-11-13 21:09:09</td>\n",
       "      <td>NaT</td>\n",
       "    </tr>\n",
       "  </tbody>\n",
       "</table>\n",
       "</div>"
      ],
      "text/plain": [
       "    id             name username  block               email  sendEmail  \\\n",
       "0  998  hubrepo hubrepo  hubrepo      0  nkissebe@gmail.com          0   \n",
       "\n",
       "         registerDate lastvisitDate  \n",
       "0 2014-11-13 21:09:09           NaT  "
      ]
     },
     "metadata": {},
     "output_type": "display_data"
    },
    {
     "data": {
      "text/html": [
       "<div>\n",
       "<style scoped>\n",
       "    .dataframe tbody tr th:only-of-type {\n",
       "        vertical-align: middle;\n",
       "    }\n",
       "\n",
       "    .dataframe tbody tr th {\n",
       "        vertical-align: top;\n",
       "    }\n",
       "\n",
       "    .dataframe thead th {\n",
       "        text-align: right;\n",
       "    }\n",
       "</style>\n",
       "<table border=\"1\" class=\"dataframe\">\n",
       "  <thead>\n",
       "    <tr style=\"text-align: right;\">\n",
       "      <th></th>\n",
       "      <th>id</th>\n",
       "      <th>user_id</th>\n",
       "      <th>profile_key</th>\n",
       "      <th>profile_value</th>\n",
       "      <th>ordering</th>\n",
       "      <th>access</th>\n",
       "    </tr>\n",
       "  </thead>\n",
       "  <tbody>\n",
       "    <tr>\n",
       "      <th>0</th>\n",
       "      <td>1</td>\n",
       "      <td>15623</td>\n",
       "      <td>orgtype</td>\n",
       "      <td>university</td>\n",
       "      <td>2</td>\n",
       "      <td>5</td>\n",
       "    </tr>\n",
       "  </tbody>\n",
       "</table>\n",
       "</div>"
      ],
      "text/plain": [
       "   id  user_id profile_key profile_value  ordering  access\n",
       "0   1    15623     orgtype    university         2       5"
      ]
     },
     "metadata": {},
     "output_type": "display_data"
    }
   ],
   "source": [
    "# display\n",
    "display(df.head(1))\n",
    "\n",
    "display(profile_df.head(1))"
   ]
  },
  {
   "cell_type": "code",
   "execution_count": 7,
   "id": "f4f05d77",
   "metadata": {
    "collapsed": false,
    "execution": {
     "iopub.execute_input": "2021-10-25T11:54:17.956249Z",
     "iopub.status.busy": "2021-10-25T11:54:17.955664Z",
     "iopub.status.idle": "2021-10-25T11:54:18.624137Z",
     "shell.execute_reply": "2021-10-25T11:54:18.624655Z"
    },
    "jupyter": {
     "source_hidden": true
    },
    "papermill": {
     "duration": 0.773942,
     "end_time": "2021-10-25T11:54:18.624888",
     "exception": false,
     "start_time": "2021-10-25T11:54:17.850946",
     "status": "completed"
    },
    "pycharm": {
     "name": "#%%\n"
    },
    "tags": []
   },
   "outputs": [
    {
     "data": {
      "text/html": [
       "<div>\n",
       "<style scoped>\n",
       "    .dataframe tbody tr th:only-of-type {\n",
       "        vertical-align: middle;\n",
       "    }\n",
       "\n",
       "    .dataframe tbody tr th {\n",
       "        vertical-align: top;\n",
       "    }\n",
       "\n",
       "    .dataframe thead th {\n",
       "        text-align: right;\n",
       "    }\n",
       "</style>\n",
       "<table border=\"1\" class=\"dataframe\">\n",
       "  <thead>\n",
       "    <tr style=\"text-align: right;\">\n",
       "      <th></th>\n",
       "      <th>id</th>\n",
       "      <th>name</th>\n",
       "      <th>username</th>\n",
       "      <th>block</th>\n",
       "      <th>email</th>\n",
       "      <th>sendEmail</th>\n",
       "      <th>registerDate</th>\n",
       "      <th>lastvisitDate</th>\n",
       "      <th>orgtype</th>\n",
       "      <th>organization</th>\n",
       "      <th>orcid</th>\n",
       "    </tr>\n",
       "  </thead>\n",
       "  <tbody>\n",
       "    <tr>\n",
       "      <th>0</th>\n",
       "      <td>998</td>\n",
       "      <td>hubrepo hubrepo</td>\n",
       "      <td>hubrepo</td>\n",
       "      <td>0</td>\n",
       "      <td>nkissebe@gmail.com</td>\n",
       "      <td>0</td>\n",
       "      <td>2014-11-13 21:09:09</td>\n",
       "      <td>NaT</td>\n",
       "      <td>NaN</td>\n",
       "      <td>NaN</td>\n",
       "      <td>NaN</td>\n",
       "    </tr>\n",
       "  </tbody>\n",
       "</table>\n",
       "</div>"
      ],
      "text/plain": [
       "    id             name username  block               email  sendEmail  \\\n",
       "0  998  hubrepo hubrepo  hubrepo      0  nkissebe@gmail.com          0   \n",
       "\n",
       "         registerDate lastvisitDate orgtype organization orcid  \n",
       "0 2014-11-13 21:09:09           NaT     NaN          NaN   NaN  "
      ]
     },
     "metadata": {},
     "output_type": "display_data"
    }
   ],
   "source": [
    "df = pd.merge(df, profile_df[profile_df['profile_key'] == 'orgtype'][['user_id', 'profile_value']],how='left', left_on='id', right_on='user_id').drop(columns=['user_id']).rename(columns={'profile_value':'orgtype'})\n",
    "\n",
    "df = pd.merge(df, profile_df[profile_df['profile_key'] == 'organization'][['user_id', 'profile_value']],how='left', left_on='id', right_on='user_id').drop(columns=['user_id']).rename(columns={'profile_value':'organization'})\n",
    "\n",
    "df = pd.merge(df, profile_df[profile_df['profile_key'] == 'orcid'][['user_id', 'profile_value']],how='left', left_on='id', right_on='user_id').drop(columns=['user_id']).rename(columns={'profile_value':'orcid'})\n",
    "\n",
    "# display\n",
    "display(df.head(1))"
   ]
  },
  {
   "cell_type": "code",
   "execution_count": 8,
   "id": "93fbbf91",
   "metadata": {
    "collapsed": false,
    "execution": {
     "iopub.execute_input": "2021-10-25T11:54:18.800087Z",
     "iopub.status.busy": "2021-10-25T11:54:18.799517Z",
     "iopub.status.idle": "2021-10-25T11:56:34.735475Z",
     "shell.execute_reply": "2021-10-25T11:56:34.735873Z"
    },
    "jupyter": {
     "source_hidden": true
    },
    "papermill": {
     "duration": 136.026795,
     "end_time": "2021-10-25T11:56:34.736121",
     "exception": false,
     "start_time": "2021-10-25T11:54:18.709326",
     "status": "completed"
    },
    "pycharm": {
     "name": "#%%\n"
    },
    "tags": []
   },
   "outputs": [],
   "source": [
    "# Obtain company domain information from DB2\n",
    "domain_df = pd.read_sql_query(\"select name as domain_name, domain, industry, `size range` as size, country from wang159_myrmekes.companies_email_domain\", wang159_myrmekes_db)"
   ]
  },
  {
   "cell_type": "code",
   "execution_count": 9,
   "id": "43474787",
   "metadata": {
    "collapsed": false,
    "execution": {
     "iopub.execute_input": "2021-10-25T11:56:38.390238Z",
     "iopub.status.busy": "2021-10-25T11:56:38.389691Z",
     "iopub.status.idle": "2021-10-25T11:56:41.905641Z",
     "shell.execute_reply": "2021-10-25T11:56:41.906156Z"
    },
    "jupyter": {
     "source_hidden": true
    },
    "papermill": {
     "duration": 7.085799,
     "end_time": "2021-10-25T11:56:41.906331",
     "exception": false,
     "start_time": "2021-10-25T11:56:34.820532",
     "status": "completed"
    },
    "pycharm": {
     "name": "#%%\n"
    },
    "tags": []
   },
   "outputs": [],
   "source": [
    "# make sure domain is unique and drop NaN\n",
    "domain_df = domain_df.drop_duplicates(subset='domain', keep='first').dropna()"
   ]
  },
  {
   "cell_type": "code",
   "execution_count": 10,
   "id": "bb735b4b",
   "metadata": {
    "collapsed": false,
    "execution": {
     "iopub.execute_input": "2021-10-25T11:56:42.167173Z",
     "iopub.status.busy": "2021-10-25T11:56:42.113229Z",
     "iopub.status.idle": "2021-10-25T11:56:42.208877Z",
     "shell.execute_reply": "2021-10-25T11:56:42.208098Z"
    },
    "jupyter": {
     "source_hidden": true
    },
    "papermill": {
     "duration": 0.218693,
     "end_time": "2021-10-25T11:56:42.209061",
     "exception": false,
     "start_time": "2021-10-25T11:56:41.990368",
     "status": "completed"
    },
    "pycharm": {
     "name": "#%%\n"
    },
    "tags": []
   },
   "outputs": [],
   "source": [
    "# get email domain of nanoHUB users\n",
    "def get_domain(this_email):\n",
    "    seg_list = this_email.split('@')\n",
    "\n",
    "    if len(seg_list) == 2:\n",
    "        return seg_list[1].lower()\n",
    "    else:\n",
    "        return None\n",
    "\n",
    "df['email_host'] = df['email'].apply(get_domain)"
   ]
  },
  {
   "cell_type": "raw",
   "id": "76042802",
   "metadata": {
    "collapsed": false,
    "papermill": {
     "duration": 0.082517,
     "end_time": "2021-10-25T11:56:42.373885",
     "exception": false,
     "start_time": "2021-10-25T11:56:42.291368",
     "status": "completed"
    },
    "tags": []
   },
   "source": [
    "df = pd.merge(df, domain_df[domain_df.domain.isin(df['email_domain'].unique()) & ~domain_df.domain.isna()], how='left', left_on='email_domain', right_on='domain')\n",
    "\n",
    "# display\n",
    "display(df.head(2))"
   ]
  },
  {
   "cell_type": "code",
   "execution_count": 11,
   "id": "91e01fb2",
   "metadata": {
    "collapsed": false,
    "execution": {
     "iopub.execute_input": "2021-10-25T11:56:42.643939Z",
     "iopub.status.busy": "2021-10-25T11:56:42.595076Z",
     "iopub.status.idle": "2021-10-25T11:56:42.700243Z",
     "shell.execute_reply": "2021-10-25T11:56:42.700752Z"
    },
    "jupyter": {
     "source_hidden": true
    },
    "papermill": {
     "duration": 0.24715,
     "end_time": "2021-10-25T11:56:42.700989",
     "exception": false,
     "start_time": "2021-10-25T11:56:42.453839",
     "status": "completed"
    },
    "pycharm": {
     "name": "#%%\n"
    },
    "tags": []
   },
   "outputs": [],
   "source": [
    "# get domain by nanoHUB organization field\n",
    "df['organization'] = df.organization.astype('str').apply(str.lower)\n",
    "\n",
    "df.loc[(df['organization']=='nan'),'organization'] = None"
   ]
  },
  {
   "cell_type": "code",
   "execution_count": 12,
   "id": "14a21118",
   "metadata": {
    "collapsed": false,
    "execution": {
     "iopub.execute_input": "2021-10-25T11:56:42.873849Z",
     "iopub.status.busy": "2021-10-25T11:56:42.873262Z",
     "iopub.status.idle": "2021-10-25T11:56:43.367183Z",
     "shell.execute_reply": "2021-10-25T11:56:43.365902Z"
    },
    "jupyter": {
     "source_hidden": true
    },
    "papermill": {
     "duration": 0.582777,
     "end_time": "2021-10-25T11:56:43.367568",
     "exception": false,
     "start_time": "2021-10-25T11:56:42.784791",
     "status": "completed"
    },
    "pycharm": {
     "name": "#%%\n"
    },
    "tags": []
   },
   "outputs": [
    {
     "name": "stderr",
     "output_type": "stream",
     "text": [
      "[nltk_data] Error loading stopwords: <urlopen error [SSL:\n",
      "[nltk_data]     CERTIFICATE_VERIFY_FAILED] certificate verify failed:\n",
      "[nltk_data]     unable to get local issuer certificate (_ssl.c:1129)>\n"
     ]
    }
   ],
   "source": [
    "import nltk\n",
    "nltk.download('stopwords')\n",
    "\n",
    "from nltk.corpus import stopwords\n",
    "s_words = stopwords.words('english')"
   ]
  },
  {
   "cell_type": "code",
   "execution_count": 13,
   "id": "cf0ba307",
   "metadata": {
    "collapsed": false,
    "execution": {
     "iopub.execute_input": "2021-10-25T11:56:43.557060Z",
     "iopub.status.busy": "2021-10-25T11:56:43.556281Z",
     "iopub.status.idle": "2021-10-25T11:56:43.559555Z",
     "shell.execute_reply": "2021-10-25T11:56:43.560059Z"
    },
    "jupyter": {
     "source_hidden": true
    },
    "papermill": {
     "duration": 0.095958,
     "end_time": "2021-10-25T11:56:43.560312",
     "exception": false,
     "start_time": "2021-10-25T11:56:43.464354",
     "status": "completed"
    },
    "pycharm": {
     "name": "#%%\n"
    },
    "tags": []
   },
   "outputs": [],
   "source": [
    "import re\n",
    "\n",
    "def clean_domain(this_domain_name):\n",
    "\n",
    "    if not this_domain_name:\n",
    "        return None\n",
    "\n",
    "    # Replace all non-alphanumeric characters with space\n",
    "    this_domain_name = re.sub(\"[^0-9a-zA-Z]+\", \" \", this_domain_name.lower())\n",
    "    name_list = this_domain_name.split(' ')\n",
    "\n",
    "    # remove all stop words\n",
    "    name_list = ['' if x in s_words else x for x in name_list]\n",
    "\n",
    "    return set(filter(None, name_list))"
   ]
  },
  {
   "cell_type": "code",
   "execution_count": 14,
   "id": "7c70cff5",
   "metadata": {
    "collapsed": false,
    "execution": {
     "iopub.execute_input": "2021-10-25T11:56:43.734539Z",
     "iopub.status.busy": "2021-10-25T11:56:43.733992Z",
     "iopub.status.idle": "2021-10-25T11:57:23.046108Z",
     "shell.execute_reply": "2021-10-25T11:57:23.045563Z"
    },
    "jupyter": {
     "source_hidden": true
    },
    "papermill": {
     "duration": 39.400981,
     "end_time": "2021-10-25T11:57:23.046333",
     "exception": false,
     "start_time": "2021-10-25T11:56:43.645352",
     "status": "completed"
    },
    "pycharm": {
     "name": "#%%\n"
    },
    "tags": []
   },
   "outputs": [],
   "source": [
    "# clean domain name\n",
    "domain_df['domain_cleaned_set'] = domain_df.domain_name.apply(clean_domain)\n",
    "\n",
    "# clean nanohub org name\n",
    "df['org_cleaned_set'] = df.organization.apply(clean_domain)"
   ]
  },
  {
   "cell_type": "code",
   "execution_count": 15,
   "id": "09157d4e",
   "metadata": {
    "collapsed": false,
    "execution": {
     "iopub.execute_input": "2021-10-25T11:57:23.224124Z",
     "iopub.status.busy": "2021-10-25T11:57:23.223596Z",
     "iopub.status.idle": "2021-10-25T11:57:25.815594Z",
     "shell.execute_reply": "2021-10-25T11:57:25.815954Z"
    },
    "jupyter": {
     "source_hidden": true
    },
    "papermill": {
     "duration": 2.681613,
     "end_time": "2021-10-25T11:57:25.816194",
     "exception": false,
     "start_time": "2021-10-25T11:57:23.134581",
     "status": "completed"
    },
    "pycharm": {
     "name": "#%%\n"
    },
    "tags": []
   },
   "outputs": [],
   "source": [
    "# hash cleaned domain name\n",
    "domain_df['domain_cleaned_hash'] = domain_df['domain_cleaned_set'].apply(lambda x: '-'.join(sorted(list(x))) if x else None)\n",
    "\n",
    "# hash cleaned clean nanohub org name\n",
    "df['org_cleaned_hash'] = df['org_cleaned_set'].apply(lambda x: '-'.join(sorted(list(x))) if x else None)"
   ]
  },
  {
   "cell_type": "markdown",
   "id": "aa062315",
   "metadata": {
    "collapsed": false,
    "papermill": {
     "duration": 0.082742,
     "end_time": "2021-10-25T11:57:25.978805",
     "exception": false,
     "start_time": "2021-10-25T11:57:25.896063",
     "status": "completed"
    },
    "tags": []
   },
   "source": [
    "## Collaborative filtering for commerical email hosts"
   ]
  },
  {
   "cell_type": "code",
   "execution_count": 16,
   "id": "da188025",
   "metadata": {
    "collapsed": false,
    "execution": {
     "iopub.execute_input": "2021-10-25T11:57:26.147180Z",
     "iopub.status.busy": "2021-10-25T11:57:26.146663Z",
     "iopub.status.idle": "2021-10-25T11:57:29.934452Z",
     "shell.execute_reply": "2021-10-25T11:57:29.934948Z"
    },
    "jupyter": {
     "source_hidden": true
    },
    "papermill": {
     "duration": 3.877153,
     "end_time": "2021-10-25T11:57:29.935200",
     "exception": false,
     "start_time": "2021-10-25T11:57:26.058047",
     "status": "completed"
    },
    "pycharm": {
     "name": "#%%\n"
    },
    "tags": []
   },
   "outputs": [],
   "source": [
    "def predict_if_commerical(this_email_host_df):\n",
    "    # predict if this email host is commerical\n",
    "    top_cnt = this_email_host_df['org_cleaned_hash'].value_counts()\n",
    "\n",
    "    if top_cnt.shape[0] > 0:\n",
    "        if (top_cnt.iloc[0]/top_cnt.sum()) < 0.2:\n",
    "            return True\n",
    "        else:\n",
    "            return False\n",
    "\n",
    "    else:\n",
    "        return False\n",
    "\n",
    "is_email_commerical = df[['email_host', 'org_cleaned_hash']].groupby('email_host').apply(predict_if_commerical)"
   ]
  },
  {
   "cell_type": "code",
   "execution_count": 17,
   "id": "e02f937c",
   "metadata": {
    "collapsed": false,
    "execution": {
     "iopub.execute_input": "2021-10-25T11:57:30.132235Z",
     "iopub.status.busy": "2021-10-25T11:57:30.131524Z",
     "iopub.status.idle": "2021-10-25T11:57:30.316249Z",
     "shell.execute_reply": "2021-10-25T11:57:30.316721Z"
    },
    "jupyter": {
     "source_hidden": true
    },
    "papermill": {
     "duration": 0.301004,
     "end_time": "2021-10-25T11:57:30.316961",
     "exception": false,
     "start_time": "2021-10-25T11:57:30.015957",
     "status": "completed"
    },
    "pycharm": {
     "name": "#%%\n"
    },
    "tags": []
   },
   "outputs": [],
   "source": [
    "# mark commerical email addresses\n",
    "df = pd.merge(df, is_email_commerical.reset_index(name='is_email_commerical'), how='left', left_on='email_host', right_on='email_host' ,)"
   ]
  },
  {
   "cell_type": "code",
   "execution_count": 18,
   "id": "53866c06",
   "metadata": {
    "collapsed": false,
    "execution": {
     "iopub.execute_input": "2021-10-25T11:57:30.711378Z",
     "iopub.status.busy": "2021-10-25T11:57:30.710828Z",
     "iopub.status.idle": "2021-10-25T11:57:35.200377Z",
     "shell.execute_reply": "2021-10-25T11:57:35.200901Z"
    },
    "jupyter": {
     "source_hidden": true
    },
    "papermill": {
     "duration": 4.802711,
     "end_time": "2021-10-25T11:57:35.201140",
     "exception": false,
     "start_time": "2021-10-25T11:57:30.398429",
     "status": "completed"
    },
    "pycharm": {
     "name": "#%%\n"
    },
    "tags": []
   },
   "outputs": [
    {
     "data": {
      "text/html": [
       "<div>\n",
       "<style scoped>\n",
       "    .dataframe tbody tr th:only-of-type {\n",
       "        vertical-align: middle;\n",
       "    }\n",
       "\n",
       "    .dataframe tbody tr th {\n",
       "        vertical-align: top;\n",
       "    }\n",
       "\n",
       "    .dataframe thead th {\n",
       "        text-align: right;\n",
       "    }\n",
       "</style>\n",
       "<table border=\"1\" class=\"dataframe\">\n",
       "  <thead>\n",
       "    <tr style=\"text-align: right;\">\n",
       "      <th></th>\n",
       "      <th>0</th>\n",
       "      <th>1</th>\n",
       "    </tr>\n",
       "  </thead>\n",
       "  <tbody>\n",
       "    <tr>\n",
       "      <th>id</th>\n",
       "      <td>998</td>\n",
       "      <td>1683</td>\n",
       "    </tr>\n",
       "    <tr>\n",
       "      <th>name</th>\n",
       "      <td>hubrepo hubrepo</td>\n",
       "      <td>nanoHUB support</td>\n",
       "    </tr>\n",
       "    <tr>\n",
       "      <th>username</th>\n",
       "      <td>hubrepo</td>\n",
       "      <td>support</td>\n",
       "    </tr>\n",
       "    <tr>\n",
       "      <th>block</th>\n",
       "      <td>0</td>\n",
       "      <td>0</td>\n",
       "    </tr>\n",
       "    <tr>\n",
       "      <th>email</th>\n",
       "      <td>nkissebe@gmail.com</td>\n",
       "      <td>support@nanohub.org</td>\n",
       "    </tr>\n",
       "    <tr>\n",
       "      <th>sendEmail</th>\n",
       "      <td>0</td>\n",
       "      <td>0</td>\n",
       "    </tr>\n",
       "    <tr>\n",
       "      <th>registerDate</th>\n",
       "      <td>2014-11-13 21:09:09</td>\n",
       "      <td>2008-11-19 22:51:04</td>\n",
       "    </tr>\n",
       "    <tr>\n",
       "      <th>lastvisitDate</th>\n",
       "      <td>NaT</td>\n",
       "      <td>2008-11-19 23:55:30</td>\n",
       "    </tr>\n",
       "    <tr>\n",
       "      <th>orgtype</th>\n",
       "      <td>NaN</td>\n",
       "      <td>university</td>\n",
       "    </tr>\n",
       "    <tr>\n",
       "      <th>organization</th>\n",
       "      <td>None</td>\n",
       "      <td>purdue university</td>\n",
       "    </tr>\n",
       "    <tr>\n",
       "      <th>orcid</th>\n",
       "      <td>NaN</td>\n",
       "      <td>NaN</td>\n",
       "    </tr>\n",
       "    <tr>\n",
       "      <th>email_host</th>\n",
       "      <td>gmail.com</td>\n",
       "      <td>nanohub.org</td>\n",
       "    </tr>\n",
       "    <tr>\n",
       "      <th>org_cleaned_set</th>\n",
       "      <td>None</td>\n",
       "      <td>{university, purdue}</td>\n",
       "    </tr>\n",
       "    <tr>\n",
       "      <th>org_cleaned_hash</th>\n",
       "      <td>None</td>\n",
       "      <td>purdue-university</td>\n",
       "    </tr>\n",
       "    <tr>\n",
       "      <th>is_email_commerical</th>\n",
       "      <td>True</td>\n",
       "      <td>False</td>\n",
       "    </tr>\n",
       "    <tr>\n",
       "      <th>domain_by_email</th>\n",
       "      <td>NaN</td>\n",
       "      <td>NaN</td>\n",
       "    </tr>\n",
       "  </tbody>\n",
       "</table>\n",
       "</div>"
      ],
      "text/plain": [
       "                                       0                     1\n",
       "id                                   998                  1683\n",
       "name                     hubrepo hubrepo       nanoHUB support\n",
       "username                         hubrepo               support\n",
       "block                                  0                     0\n",
       "email                 nkissebe@gmail.com   support@nanohub.org\n",
       "sendEmail                              0                     0\n",
       "registerDate         2014-11-13 21:09:09   2008-11-19 22:51:04\n",
       "lastvisitDate                        NaT   2008-11-19 23:55:30\n",
       "orgtype                              NaN            university\n",
       "organization                        None     purdue university\n",
       "orcid                                NaN                   NaN\n",
       "email_host                     gmail.com           nanohub.org\n",
       "org_cleaned_set                     None  {university, purdue}\n",
       "org_cleaned_hash                    None     purdue-university\n",
       "is_email_commerical                 True                 False\n",
       "domain_by_email                      NaN                   NaN"
      ]
     },
     "metadata": {},
     "output_type": "display_data"
    }
   ],
   "source": [
    "# obtain domain estimation from email addresses\n",
    "df = pd.merge(df, domain_df[~domain_df.domain.isin(is_email_commerical[is_email_commerical].index)]['domain'], how='left', left_on='email_host', right_on='domain').rename(columns={'domain':'domain_by_email'})\n",
    "\n",
    "# display\n",
    "display(df.head(2).T)"
   ]
  },
  {
   "cell_type": "markdown",
   "id": "023a446e",
   "metadata": {
    "collapsed": false,
    "papermill": {
     "duration": 0.083321,
     "end_time": "2021-10-25T11:57:35.376082",
     "exception": false,
     "start_time": "2021-10-25T11:57:35.292761",
     "status": "completed"
    },
    "tags": []
   },
   "source": [
    "## Fuzzy derive organization from nanoHUB profiles"
   ]
  },
  {
   "cell_type": "code",
   "execution_count": 19,
   "id": "b0a6d068",
   "metadata": {
    "collapsed": false,
    "execution": {
     "iopub.execute_input": "2021-10-25T11:57:35.916950Z",
     "iopub.status.busy": "2021-10-25T11:57:35.916402Z",
     "iopub.status.idle": "2021-10-25T11:57:36.272340Z",
     "shell.execute_reply": "2021-10-25T11:57:36.272821Z"
    },
    "jupyter": {
     "source_hidden": true
    },
    "papermill": {
     "duration": 0.816802,
     "end_time": "2021-10-25T11:57:36.273058",
     "exception": false,
     "start_time": "2021-10-25T11:57:35.456256",
     "status": "completed"
    },
    "pycharm": {
     "name": "#%%\n"
    },
    "tags": []
   },
   "outputs": [
    {
     "data": {
      "text/html": [
       "<div>\n",
       "<style scoped>\n",
       "    .dataframe tbody tr th:only-of-type {\n",
       "        vertical-align: middle;\n",
       "    }\n",
       "\n",
       "    .dataframe tbody tr th {\n",
       "        vertical-align: top;\n",
       "    }\n",
       "\n",
       "    .dataframe thead th {\n",
       "        text-align: right;\n",
       "    }\n",
       "</style>\n",
       "<table border=\"1\" class=\"dataframe\">\n",
       "  <thead>\n",
       "    <tr style=\"text-align: right;\">\n",
       "      <th></th>\n",
       "      <th>258156</th>\n",
       "      <th>39930</th>\n",
       "      <th>174995</th>\n",
       "      <th>82192</th>\n",
       "      <th>190827</th>\n",
       "    </tr>\n",
       "  </thead>\n",
       "  <tbody>\n",
       "    <tr>\n",
       "      <th>id</th>\n",
       "      <td>328629</td>\n",
       "      <td>43301</td>\n",
       "      <td>208526</td>\n",
       "      <td>87989</td>\n",
       "      <td>228123</td>\n",
       "    </tr>\n",
       "    <tr>\n",
       "      <th>name</th>\n",
       "      <td>Maasoumah Ashkanani</td>\n",
       "      <td>Donovan Scott Miller</td>\n",
       "      <td>Hmlwires Hmlwires</td>\n",
       "      <td>Abbas Rahmani</td>\n",
       "      <td>Faith K McCrary</td>\n",
       "    </tr>\n",
       "    <tr>\n",
       "      <th>username</th>\n",
       "      <td>maasoumah</td>\n",
       "      <td>chijin_urufu</td>\n",
       "      <td>hmlwires</td>\n",
       "      <td>abbas.rahmany</td>\n",
       "      <td>faithmcc2</td>\n",
       "    </tr>\n",
       "    <tr>\n",
       "      <th>block</th>\n",
       "      <td>0</td>\n",
       "      <td>0</td>\n",
       "      <td>1</td>\n",
       "      <td>0</td>\n",
       "      <td>0</td>\n",
       "    </tr>\n",
       "    <tr>\n",
       "      <th>email</th>\n",
       "      <td>maasoumah@outlook.com</td>\n",
       "      <td>puppymasterdonovan@gmail.com</td>\n",
       "      <td>DISABLED_SPAM_hmlwireschina@gmail.com</td>\n",
       "      <td>abbas.rahmany@gmail.com</td>\n",
       "      <td>faithmcc2@gmail.com</td>\n",
       "    </tr>\n",
       "    <tr>\n",
       "      <th>sendEmail</th>\n",
       "      <td>0</td>\n",
       "      <td>0</td>\n",
       "      <td>-1</td>\n",
       "      <td>1</td>\n",
       "      <td>-1</td>\n",
       "    </tr>\n",
       "    <tr>\n",
       "      <th>registerDate</th>\n",
       "      <td>2021-05-27 20:01:16</td>\n",
       "      <td>2010-03-25 16:05:17</td>\n",
       "      <td>2018-09-18 13:25:07</td>\n",
       "      <td>2013-09-18 14:59:24</td>\n",
       "      <td>2019-04-24 23:08:54</td>\n",
       "    </tr>\n",
       "    <tr>\n",
       "      <th>lastvisitDate</th>\n",
       "      <td>2021-05-28 11:13:03</td>\n",
       "      <td>2010-03-25 16:07:07</td>\n",
       "      <td>2018-09-18 14:08:42</td>\n",
       "      <td>2014-11-23 17:25:09</td>\n",
       "      <td>2019-04-26 00:14:22</td>\n",
       "    </tr>\n",
       "    <tr>\n",
       "      <th>orgtype</th>\n",
       "      <td>other</td>\n",
       "      <td>precollegestudent</td>\n",
       "      <td>industry</td>\n",
       "      <td>universitygraduate</td>\n",
       "      <td>universityundergraduate</td>\n",
       "    </tr>\n",
       "    <tr>\n",
       "      <th>organization</th>\n",
       "      <td>american university of the middle east</td>\n",
       "      <td>None</td>\n",
       "      <td>arizona state university</td>\n",
       "      <td>islamic azad university, science and research ...</td>\n",
       "      <td>None</td>\n",
       "    </tr>\n",
       "    <tr>\n",
       "      <th>orcid</th>\n",
       "      <td>NaN</td>\n",
       "      <td>NaN</td>\n",
       "      <td>NaN</td>\n",
       "      <td>NaN</td>\n",
       "      <td>NaN</td>\n",
       "    </tr>\n",
       "    <tr>\n",
       "      <th>email_host</th>\n",
       "      <td>outlook.com</td>\n",
       "      <td>gmail.com</td>\n",
       "      <td>gmail.com</td>\n",
       "      <td>gmail.com</td>\n",
       "      <td>gmail.com</td>\n",
       "    </tr>\n",
       "    <tr>\n",
       "      <th>org_cleaned_set</th>\n",
       "      <td>{university, american, middle, east}</td>\n",
       "      <td>None</td>\n",
       "      <td>{university, state, arizona}</td>\n",
       "      <td>{branch, university, guilan, science, azad, re...</td>\n",
       "      <td>None</td>\n",
       "    </tr>\n",
       "    <tr>\n",
       "      <th>org_cleaned_hash</th>\n",
       "      <td>american-east-middle-university</td>\n",
       "      <td>None</td>\n",
       "      <td>arizona-state-university</td>\n",
       "      <td>azad-branch-guilan-islamic-research-science-un...</td>\n",
       "      <td>None</td>\n",
       "    </tr>\n",
       "    <tr>\n",
       "      <th>is_email_commerical</th>\n",
       "      <td>False</td>\n",
       "      <td>True</td>\n",
       "      <td>True</td>\n",
       "      <td>True</td>\n",
       "      <td>True</td>\n",
       "    </tr>\n",
       "    <tr>\n",
       "      <th>domain_by_email</th>\n",
       "      <td>NaN</td>\n",
       "      <td>NaN</td>\n",
       "      <td>NaN</td>\n",
       "      <td>NaN</td>\n",
       "      <td>NaN</td>\n",
       "    </tr>\n",
       "    <tr>\n",
       "      <th>domain_by_profile</th>\n",
       "      <td>NaN</td>\n",
       "      <td>NaN</td>\n",
       "      <td>asu.edu</td>\n",
       "      <td>NaN</td>\n",
       "      <td>NaN</td>\n",
       "    </tr>\n",
       "  </tbody>\n",
       "</table>\n",
       "</div>"
      ],
      "text/plain": [
       "                                                     258156  \\\n",
       "id                                                   328629   \n",
       "name                                    Maasoumah Ashkanani   \n",
       "username                                          maasoumah   \n",
       "block                                                     0   \n",
       "email                                 maasoumah@outlook.com   \n",
       "sendEmail                                                 0   \n",
       "registerDate                            2021-05-27 20:01:16   \n",
       "lastvisitDate                           2021-05-28 11:13:03   \n",
       "orgtype                                               other   \n",
       "organization         american university of the middle east   \n",
       "orcid                                                   NaN   \n",
       "email_host                                      outlook.com   \n",
       "org_cleaned_set        {university, american, middle, east}   \n",
       "org_cleaned_hash            american-east-middle-university   \n",
       "is_email_commerical                                   False   \n",
       "domain_by_email                                         NaN   \n",
       "domain_by_profile                                       NaN   \n",
       "\n",
       "                                           39930   \\\n",
       "id                                          43301   \n",
       "name                         Donovan Scott Miller   \n",
       "username                             chijin_urufu   \n",
       "block                                           0   \n",
       "email                puppymasterdonovan@gmail.com   \n",
       "sendEmail                                       0   \n",
       "registerDate                  2010-03-25 16:05:17   \n",
       "lastvisitDate                 2010-03-25 16:07:07   \n",
       "orgtype                         precollegestudent   \n",
       "organization                                 None   \n",
       "orcid                                         NaN   \n",
       "email_host                              gmail.com   \n",
       "org_cleaned_set                              None   \n",
       "org_cleaned_hash                             None   \n",
       "is_email_commerical                          True   \n",
       "domain_by_email                               NaN   \n",
       "domain_by_profile                             NaN   \n",
       "\n",
       "                                                    174995  \\\n",
       "id                                                  208526   \n",
       "name                                     Hmlwires Hmlwires   \n",
       "username                                          hmlwires   \n",
       "block                                                    1   \n",
       "email                DISABLED_SPAM_hmlwireschina@gmail.com   \n",
       "sendEmail                                               -1   \n",
       "registerDate                           2018-09-18 13:25:07   \n",
       "lastvisitDate                          2018-09-18 14:08:42   \n",
       "orgtype                                           industry   \n",
       "organization                      arizona state university   \n",
       "orcid                                                  NaN   \n",
       "email_host                                       gmail.com   \n",
       "org_cleaned_set               {university, state, arizona}   \n",
       "org_cleaned_hash                  arizona-state-university   \n",
       "is_email_commerical                                   True   \n",
       "domain_by_email                                        NaN   \n",
       "domain_by_profile                                  asu.edu   \n",
       "\n",
       "                                                                82192   \\\n",
       "id                                                               87989   \n",
       "name                                                     Abbas Rahmani   \n",
       "username                                                 abbas.rahmany   \n",
       "block                                                                0   \n",
       "email                                          abbas.rahmany@gmail.com   \n",
       "sendEmail                                                            1   \n",
       "registerDate                                       2013-09-18 14:59:24   \n",
       "lastvisitDate                                      2014-11-23 17:25:09   \n",
       "orgtype                                             universitygraduate   \n",
       "organization         islamic azad university, science and research ...   \n",
       "orcid                                                              NaN   \n",
       "email_host                                                   gmail.com   \n",
       "org_cleaned_set      {branch, university, guilan, science, azad, re...   \n",
       "org_cleaned_hash     azad-branch-guilan-islamic-research-science-un...   \n",
       "is_email_commerical                                               True   \n",
       "domain_by_email                                                    NaN   \n",
       "domain_by_profile                                                  NaN   \n",
       "\n",
       "                                      190827  \n",
       "id                                    228123  \n",
       "name                         Faith K McCrary  \n",
       "username                           faithmcc2  \n",
       "block                                      0  \n",
       "email                    faithmcc2@gmail.com  \n",
       "sendEmail                                 -1  \n",
       "registerDate             2019-04-24 23:08:54  \n",
       "lastvisitDate            2019-04-26 00:14:22  \n",
       "orgtype              universityundergraduate  \n",
       "organization                            None  \n",
       "orcid                                    NaN  \n",
       "email_host                         gmail.com  \n",
       "org_cleaned_set                         None  \n",
       "org_cleaned_hash                        None  \n",
       "is_email_commerical                     True  \n",
       "domain_by_email                          NaN  \n",
       "domain_by_profile                        NaN  "
      ]
     },
     "execution_count": 19,
     "metadata": {},
     "output_type": "execute_result"
    }
   ],
   "source": [
    "# attempt direct join by hash\n",
    "domain_subset_df = domain_df[domain_df.domain.isin(df.email_host.unique())][['domain', 'domain_cleaned_hash']]\n",
    "domain_subset_df = domain_subset_df[~domain_subset_df.domain.isna()&~domain_subset_df.domain_cleaned_hash.isna()]\n",
    "\n",
    "derived_df = pd.merge(df, domain_subset_df.rename(columns={'domain':'domain_by_profile'}),how='left', left_on='org_cleaned_hash', right_on='domain_cleaned_hash').drop('domain_cleaned_hash', axis=1)\n",
    "\n",
    "# display\n",
    "derived_df.sample(5).T"
   ]
  },
  {
   "cell_type": "code",
   "execution_count": 20,
   "id": "1643f85b",
   "metadata": {
    "collapsed": false,
    "execution": {
     "iopub.execute_input": "2021-10-25T11:57:36.461492Z",
     "iopub.status.busy": "2021-10-25T11:57:36.460886Z",
     "iopub.status.idle": "2021-10-25T11:57:39.340193Z",
     "shell.execute_reply": "2021-10-25T11:57:39.340679Z"
    },
    "jupyter": {
     "source_hidden": true
    },
    "papermill": {
     "duration": 2.984158,
     "end_time": "2021-10-25T11:57:39.340916",
     "exception": false,
     "start_time": "2021-10-25T11:57:36.356758",
     "status": "completed"
    },
    "pycharm": {
     "name": "#%%\n"
    },
    "tags": []
   },
   "outputs": [],
   "source": [
    "# attempt to reduce domain_df size to speedup Jaccard calculation\n",
    "from itertools import chain\n",
    "\n",
    "all_word_set = set(chain.from_iterable(derived_df[(derived_df['domain_by_profile'].isna() & (~derived_df['organization'].isna()))].org_cleaned_set.values))\n",
    "\n",
    "# select the domain_df entry with words from all_word_set\n",
    "domain_subset_df = domain_df[domain_df.domain_cleaned_set.notnull()]\n",
    "domain_subset_df = domain_subset_df[domain_subset_df.domain_cleaned_set.apply(lambda x: True if len(x.intersection(all_word_set)) > 0 else False)]"
   ]
  },
  {
   "cell_type": "code",
   "execution_count": 21,
   "id": "3828f178",
   "metadata": {
    "collapsed": false,
    "execution": {
     "iopub.execute_input": "2021-10-25T11:57:39.535779Z",
     "iopub.status.busy": "2021-10-25T11:57:39.535224Z",
     "iopub.status.idle": "2021-10-25T11:57:44.148726Z",
     "shell.execute_reply": "2021-10-25T11:57:44.148238Z"
    },
    "jupyter": {
     "source_hidden": true
    },
    "papermill": {
     "duration": 4.728822,
     "end_time": "2021-10-25T11:57:44.148950",
     "exception": false,
     "start_time": "2021-10-25T11:57:39.420128",
     "status": "completed"
    },
    "pycharm": {
     "name": "#%%\n"
    },
    "tags": []
   },
   "outputs": [],
   "source": [
    "def get_org(this_df):\n",
    "    # look at the cohort with this label, do they have a commonly agreed domain_by_email? If so, use it\n",
    "    this_dbe_count = this_df.domain_by_email.value_counts()\n",
    "\n",
    "    if this_dbe_count.shape[0] < 1:\n",
    "        return None\n",
    "\n",
    "    this_top_dbe_perc = this_dbe_count.iloc[0]/this_dbe_count.sum()\n",
    "\n",
    "    # if top choice occupies majority of cases, then this cohort can be implied to this domain_by_email address\n",
    "    if this_top_dbe_perc > 0.5:\n",
    "        return this_dbe_count.index[0]\n",
    "\n",
    "\n",
    "derived_hash = derived_df.groupby('org_cleaned_hash').apply(get_org)"
   ]
  },
  {
   "cell_type": "code",
   "execution_count": 22,
   "id": "1616e501",
   "metadata": {
    "collapsed": false,
    "execution": {
     "iopub.execute_input": "2021-10-25T11:57:44.332249Z",
     "iopub.status.busy": "2021-10-25T11:57:44.331701Z",
     "iopub.status.idle": "2021-10-25T11:57:44.548218Z",
     "shell.execute_reply": "2021-10-25T11:57:44.548710Z"
    },
    "jupyter": {
     "source_hidden": true
    },
    "papermill": {
     "duration": 0.317997,
     "end_time": "2021-10-25T11:57:44.548963",
     "exception": false,
     "start_time": "2021-10-25T11:57:44.230966",
     "status": "completed"
    },
    "pycharm": {
     "name": "#%%\n"
    },
    "tags": []
   },
   "outputs": [],
   "source": [
    "derived_df = pd.merge(derived_df, derived_hash.reset_index(name='domain_by_profile_infer'), how='left', left_on='org_cleaned_hash', right_on='org_cleaned_hash')"
   ]
  },
  {
   "cell_type": "code",
   "execution_count": 23,
   "id": "9533ae2b",
   "metadata": {
    "collapsed": false,
    "execution": {
     "iopub.execute_input": "2021-10-25T11:57:44.721588Z",
     "iopub.status.busy": "2021-10-25T11:57:44.720852Z",
     "iopub.status.idle": "2021-10-25T11:57:50.037075Z",
     "shell.execute_reply": "2021-10-25T11:57:50.037585Z"
    },
    "jupyter": {
     "source_hidden": true
    },
    "papermill": {
     "duration": 5.400713,
     "end_time": "2021-10-25T11:57:50.037832",
     "exception": false,
     "start_time": "2021-10-25T11:57:44.637119",
     "status": "completed"
    },
    "pycharm": {
     "name": "#%%\n"
    },
    "tags": []
   },
   "outputs": [],
   "source": [
    "# calculate a composite domain based on domain_by_email, domain_by_profile, and domain_by_profile_infer\n",
    "def get_composite_domain(this_df):\n",
    "\n",
    "    # if domain found via profile with direct match, use it\n",
    "    if this_df.domain_by_profile != '':\n",
    "        return this_df.domain_by_profile\n",
    "\n",
    "    # if domain found via email, use it\n",
    "    if this_df.domain_by_email != '':\n",
    "        return this_df.domain_by_email\n",
    "\n",
    "        # if domain found via profile but not with a direct match, use it\n",
    "    if this_df.domain_by_profile_infer != '':\n",
    "        return this_df.domain_by_profile_infer\n",
    "\n",
    "    # else, no organization can be concluded, return none\n",
    "    return None\n",
    "\n",
    "\n",
    "derived_df['domain_final'] = derived_df[['domain_by_email', 'domain_by_profile', 'domain_by_profile_infer']].fillna('').apply(get_composite_domain, axis=1)"
   ]
  },
  {
   "cell_type": "code",
   "execution_count": 24,
   "id": "bc3c00fd",
   "metadata": {
    "collapsed": false,
    "execution": {
     "iopub.execute_input": "2021-10-25T11:57:50.262105Z",
     "iopub.status.busy": "2021-10-25T11:57:50.261120Z",
     "iopub.status.idle": "2021-10-25T11:57:50.353821Z",
     "shell.execute_reply": "2021-10-25T11:57:50.354408Z"
    },
    "jupyter": {
     "source_hidden": true
    },
    "papermill": {
     "duration": 0.222548,
     "end_time": "2021-10-25T11:57:50.354903",
     "exception": false,
     "start_time": "2021-10-25T11:57:50.132355",
     "status": "completed"
    },
    "pycharm": {
     "name": "#%%\n"
    },
    "tags": []
   },
   "outputs": [
    {
     "data": {
      "text/html": [
       "<div>\n",
       "<style scoped>\n",
       "    .dataframe tbody tr th:only-of-type {\n",
       "        vertical-align: middle;\n",
       "    }\n",
       "\n",
       "    .dataframe tbody tr th {\n",
       "        vertical-align: top;\n",
       "    }\n",
       "\n",
       "    .dataframe thead th {\n",
       "        text-align: right;\n",
       "    }\n",
       "</style>\n",
       "<table border=\"1\" class=\"dataframe\">\n",
       "  <thead>\n",
       "    <tr style=\"text-align: right;\">\n",
       "      <th></th>\n",
       "      <th>domain_final</th>\n",
       "      <th>domain_by_email</th>\n",
       "    </tr>\n",
       "  </thead>\n",
       "  <tbody>\n",
       "    <tr>\n",
       "      <th>8</th>\n",
       "      <td>None</td>\n",
       "      <td>None</td>\n",
       "    </tr>\n",
       "    <tr>\n",
       "      <th>17</th>\n",
       "      <td>None</td>\n",
       "      <td>None</td>\n",
       "    </tr>\n",
       "    <tr>\n",
       "      <th>42</th>\n",
       "      <td>None</td>\n",
       "      <td>None</td>\n",
       "    </tr>\n",
       "    <tr>\n",
       "      <th>52</th>\n",
       "      <td>None</td>\n",
       "      <td>None</td>\n",
       "    </tr>\n",
       "    <tr>\n",
       "      <th>76</th>\n",
       "      <td>None</td>\n",
       "      <td>None</td>\n",
       "    </tr>\n",
       "    <tr>\n",
       "      <th>...</th>\n",
       "      <td>...</td>\n",
       "      <td>...</td>\n",
       "    </tr>\n",
       "    <tr>\n",
       "      <th>273703</th>\n",
       "      <td>cornell.edu</td>\n",
       "      <td>NaN</td>\n",
       "    </tr>\n",
       "    <tr>\n",
       "      <th>273719</th>\n",
       "      <td>njit.edu</td>\n",
       "      <td>NaN</td>\n",
       "    </tr>\n",
       "    <tr>\n",
       "      <th>273744</th>\n",
       "      <td>None</td>\n",
       "      <td>NaN</td>\n",
       "    </tr>\n",
       "    <tr>\n",
       "      <th>273791</th>\n",
       "      <td>None</td>\n",
       "      <td>NaN</td>\n",
       "    </tr>\n",
       "    <tr>\n",
       "      <th>273905</th>\n",
       "      <td>None</td>\n",
       "      <td>NaN</td>\n",
       "    </tr>\n",
       "  </tbody>\n",
       "</table>\n",
       "<p>12957 rows × 2 columns</p>\n",
       "</div>"
      ],
      "text/plain": [
       "       domain_final domain_by_email\n",
       "8              None            None\n",
       "17             None            None\n",
       "42             None            None\n",
       "52             None            None\n",
       "76             None            None\n",
       "...             ...             ...\n",
       "273703  cornell.edu             NaN\n",
       "273719     njit.edu             NaN\n",
       "273744         None             NaN\n",
       "273791         None             NaN\n",
       "273905         None             NaN\n",
       "\n",
       "[12957 rows x 2 columns]"
      ]
     },
     "execution_count": 24,
     "metadata": {},
     "output_type": "execute_result"
    }
   ],
   "source": [
    "derived_df[derived_df.email_host == 'yahoo.com'][['domain_final', 'domain_by_email']]"
   ]
  },
  {
   "cell_type": "markdown",
   "id": "7bea4923",
   "metadata": {
    "collapsed": false,
    "papermill": {
     "duration": 0.098465,
     "end_time": "2021-10-25T11:57:50.557719",
     "exception": false,
     "start_time": "2021-10-25T11:57:50.459254",
     "status": "completed"
    },
    "tags": []
   },
   "source": [
    "## Update Salesforce institution"
   ]
  },
  {
   "cell_type": "code",
   "execution_count": 25,
   "id": "9c053968",
   "metadata": {
    "collapsed": false,
    "execution": {
     "iopub.execute_input": "2021-10-25T11:57:50.765464Z",
     "iopub.status.busy": "2021-10-25T11:57:50.764764Z"
    },
    "jupyter": {
     "source_hidden": true
    },
    "papermill": {
     "duration": 2.289122,
     "end_time": "2021-10-25T11:57:52.940122",
     "exception": false,
     "start_time": "2021-10-25T11:57:50.651000",
     "status": "completed"
    },
    "pycharm": {
     "name": "#%%\n"
    },
    "tags": []
   },
   "outputs": [],
   "source": [
    "# get a unique list of organizations that appears in contact\n",
    "#org_df = derived_df[['domain_name', 'domain', 'industry', 'size', 'country']].drop_duplicates().dropna()\n",
    "org_df = pd.merge(derived_df[['domain_final']].drop_duplicates().dropna(), domain_df, how='inner', left_on='domain_final', right_on='domain')\n",
    "org_df = org_df[['domain_name', 'domain', 'industry', 'size', 'country']]\n",
    "\n",
    "# display\n",
    "display(org_df.head(2))"
   ]
  },
  {
   "cell_type": "code",
   "execution_count": null,
   "id": "f63b3f8a",
   "metadata": {
    "collapsed": false,
    "jupyter": {
     "source_hidden": true
    },
    "papermill": {
     "duration": null,
     "end_time": null,
     "exception": null,
     "start_time": null,
     "status": "pending"
    },
    "pycharm": {
     "name": "#%%\n"
    },
    "tags": []
   },
   "outputs": [],
   "source": [
    "df_sf = pd.DataFrame()\n",
    "\n",
    "# Make sure NaN and NaT values are taken care of here\n",
    "df_sf['Name'] = org_df['domain_name']\n",
    "\n",
    "df_sf['Size_Range__c'] = org_df['size'].fillna('Unknown')\n",
    "df_sf['Country__c'] = org_df['country']\n",
    "df_sf['Domain__c'] = org_df['domain']\n",
    "df_sf['Industry__c'] = org_df['industry']\n",
    "\n",
    "sf_original_fields = df_sf.columns\n",
    "\n",
    "# display\n",
    "df_sf.head(2).T"
   ]
  },
  {
   "cell_type": "code",
   "execution_count": null,
   "id": "74794fd0",
   "metadata": {
    "collapsed": false,
    "jupyter": {
     "source_hidden": true
    },
    "papermill": {
     "duration": null,
     "end_time": null,
     "exception": null,
     "start_time": null,
     "status": "pending"
    },
    "pycharm": {
     "name": "#%%\n"
    },
    "tags": []
   },
   "outputs": [],
   "source": [
    "\n",
    "\n",
    "db_s.object_id = 'organization__c'\n",
    "db_s.external_id = 'Domain__c'"
   ]
  },
  {
   "cell_type": "code",
   "execution_count": null,
   "id": "180eff04",
   "metadata": {
    "collapsed": false,
    "jupyter": {
     "source_hidden": true
    },
    "papermill": {
     "duration": null,
     "end_time": null,
     "exception": null,
     "start_time": null,
     "status": "pending"
    },
    "pycharm": {
     "name": "#%%\n"
    },
    "tags": []
   },
   "outputs": [],
   "source": [
    "# send data to Salesforce\n",
    "db_s.send_data(df_sf)"
   ]
  },
  {
   "cell_type": "code",
   "execution_count": null,
   "id": "e40fbd8d",
   "metadata": {
    "collapsed": false,
    "jupyter": {
     "source_hidden": true
    },
    "papermill": {
     "duration": null,
     "end_time": null,
     "exception": null,
     "start_time": null,
     "status": "pending"
    },
    "pycharm": {
     "name": "#%%\n"
    },
    "tags": []
   },
   "outputs": [],
   "source": [
    "# check status\n",
    "db_s.check_bulk_status()"
   ]
  },
  {
   "cell_type": "code",
   "execution_count": null,
   "id": "d0b33ada",
   "metadata": {
    "collapsed": false,
    "jupyter": {
     "source_hidden": true
    },
    "papermill": {
     "duration": null,
     "end_time": null,
     "exception": null,
     "start_time": null,
     "status": "pending"
    },
    "pycharm": {
     "name": "#%%\n"
    },
    "tags": []
   },
   "outputs": [],
   "source": [
    "# check status\n",
    "from pprint import pprint\n",
    "\n",
    "pprint(db_s.check_bulk_failed_results())"
   ]
  },
  {
   "cell_type": "markdown",
   "id": "c5a5a9fa",
   "metadata": {
    "collapsed": false,
    "papermill": {
     "duration": null,
     "end_time": null,
     "exception": null,
     "start_time": null,
     "status": "pending"
    },
    "tags": []
   },
   "source": [
    "## Obtain newly updated organization IDs from Salesforce"
   ]
  },
  {
   "cell_type": "code",
   "execution_count": null,
   "id": "46390847",
   "metadata": {
    "collapsed": false,
    "jupyter": {
     "source_hidden": true
    },
    "papermill": {
     "duration": null,
     "end_time": null,
     "exception": null,
     "start_time": null,
     "status": "pending"
    },
    "pycharm": {
     "name": "#%%\n"
    },
    "tags": []
   },
   "outputs": [],
   "source": [
    "# create DB2 to Salesforce API object\n"
   ]
  },
  {
   "cell_type": "code",
   "execution_count": null,
   "id": "d26d8b83",
   "metadata": {
    "collapsed": false,
    "jupyter": {
     "source_hidden": true
    },
    "papermill": {
     "duration": null,
     "end_time": null,
     "exception": null,
     "start_time": null,
     "status": "pending"
    },
    "pycharm": {
     "name": "#%%\n"
    },
    "tags": []
   },
   "outputs": [],
   "source": [
    "# get Salesforce ID for organizations\n",
    "sf_org_ID_df = db_s.query_data('SELECT Id, Domain__c FROM organization__c')\n",
    "\n",
    "# display\n",
    "sf_org_ID_df.head(3)"
   ]
  },
  {
   "cell_type": "code",
   "execution_count": null,
   "id": "5c7f6099",
   "metadata": {
    "collapsed": false,
    "jupyter": {
     "source_hidden": true
    },
    "papermill": {
     "duration": null,
     "end_time": null,
     "exception": null,
     "start_time": null,
     "status": "pending"
    },
    "pycharm": {
     "name": "#%%\n"
    },
    "tags": []
   },
   "outputs": [],
   "source": [
    "# join salesforce ID back to contact DF\n",
    "df = pd.merge(sf_org_ID_df, derived_df, how='right', left_on='Domain__c', right_on='domain_final').drop('Domain__c', axis=1).rename(columns={'Id':'Salesforce_org_ID'})"
   ]
  },
  {
   "cell_type": "code",
   "execution_count": null,
   "id": "37b1361a",
   "metadata": {
    "collapsed": false,
    "jupyter": {
     "source_hidden": true
    },
    "papermill": {
     "duration": null,
     "end_time": null,
     "exception": null,
     "start_time": null,
     "status": "pending"
    },
    "pycharm": {
     "name": "#%%\n"
    },
    "tags": []
   },
   "outputs": [],
   "source": [
    "# display\n",
    "display(df.head(2))"
   ]
  },
  {
   "cell_type": "markdown",
   "id": "897b5212",
   "metadata": {
    "collapsed": false,
    "papermill": {
     "duration": null,
     "end_time": null,
     "exception": null,
     "start_time": null,
     "status": "pending"
    },
    "tags": []
   },
   "source": [
    "## Match data with Salesforce format"
   ]
  },
  {
   "cell_type": "code",
   "execution_count": null,
   "id": "d3ab646c",
   "metadata": {
    "collapsed": false,
    "jupyter": {
     "source_hidden": true
    },
    "papermill": {
     "duration": null,
     "end_time": null,
     "exception": null,
     "start_time": null,
     "status": "pending"
    },
    "pycharm": {
     "name": "#%%\n"
    },
    "tags": []
   },
   "outputs": [],
   "source": [
    "# split full name into first, middle, and last names\n",
    "def split_full_name(this_name):\n",
    "    this_name_list = list(filter(None, this_name.split(' ')))\n",
    "\n",
    "    if len(this_name_list) == 1:\n",
    "        # single word name\n",
    "        return pd.Series([this_name_list[0],None, this_name_list[0]])\n",
    "\n",
    "    elif len(this_name_list) > 1:\n",
    "        # multi word name\n",
    "        return pd.Series([this_name_list[0],' '.join(this_name_list[1:-1]),this_name_list[-1]])"
   ]
  },
  {
   "cell_type": "code",
   "execution_count": null,
   "id": "99461ac8",
   "metadata": {
    "collapsed": false,
    "jupyter": {
     "source_hidden": true
    },
    "papermill": {
     "duration": null,
     "end_time": null,
     "exception": null,
     "start_time": null,
     "status": "pending"
    },
    "pycharm": {
     "name": "#%%\n"
    },
    "tags": []
   },
   "outputs": [],
   "source": [
    "df_sf = pd.DataFrame()\n",
    "\n",
    "# Make sure NaN and NaT values are taken care of here\n",
    "df_sf[['firstname', 'Middle_name__c', 'lastname']] = df['name'].apply(split_full_name)\n",
    "\n",
    "df_sf['nanoHUB_user_ID__c']            = df['id']\n",
    "df_sf['nanoHUB_username__c']           = df['username']\n",
    "df_sf['Email']                         = df['email'].fillna('').apply(lambda x: '' if '@invalid' in x else x).apply(lambda x: '' if '@' not in x else x)\n",
    "\n",
    "# for sendEmail: 0 = opt-out, 1 = receive email. For salesforce HasOptedOutOfEmail, it's exact opposite\n",
    "df_sf['HasOptedOutOfEmail']            = df['sendEmail'].apply(lambda x: 0 if x==1 else 1)\n",
    "df_sf['nanoHUB_account_BLOCKED__c']    = df['block'].fillna(0)\n",
    "\n",
    "# solidify time-related columns from datetime to string\n",
    "df_sf['nanoHUB_registration_date__c']  = df['registerDate'].dt.date.fillna('').astype('str')\n",
    "df_sf['nanoHUB_last_active_date__c']   = df['lastvisitDate'].dt.date.fillna('').astype('str')\n",
    "\n",
    "# Tableau detailed view\n",
    "df_sf['Detailed_user_timeline_to_Tableau__c'] = df_sf['Email'].apply(lambda x: 'https://tableauqa.itap.purdue.edu/views/profile/ProfileTimeline?Id%20Email='+x+'\\\n",
    "&:iframeSizedToWindow=true&:embed=y&:showAppBanner=false\\\n",
    "&:display_count=no&:showVizHome=no#6' if x != '' else '')\n",
    "\n",
    "# nanoHUB user profile\n",
    "df_sf['nanoHUB_user_page__c'] = df_sf['nanoHUB_user_ID__c'].apply(lambda x: 'https://nanohub.org/members/%d'%x if x != '' else '')\n",
    "df_sf['Organization__c'] = df['organization'].fillna('')\n",
    "\n",
    "df_sf['ORCID__c'] = df['orcid'].fillna('')\n",
    "\n",
    "# derived information\n",
    "df_sf['Organization_email_derived__c'] = df['Salesforce_org_ID'].fillna(' ')\n",
    "\n",
    "sf_original_fields = df_sf.columns\n",
    "\n",
    "# display\n",
    "df_sf.head(2).T"
   ]
  },
  {
   "cell_type": "markdown",
   "id": "48db41cb",
   "metadata": {
    "collapsed": false,
    "papermill": {
     "duration": null,
     "end_time": null,
     "exception": null,
     "start_time": null,
     "status": "pending"
    },
    "tags": []
   },
   "source": [
    "## To Salesforce Sales Cloud CRM"
   ]
  },
  {
   "cell_type": "code",
   "execution_count": null,
   "id": "6c2000bc",
   "metadata": {
    "collapsed": false,
    "jupyter": {
     "source_hidden": true
    },
    "papermill": {
     "duration": null,
     "end_time": null,
     "exception": null,
     "start_time": null,
     "status": "pending"
    },
    "pycharm": {
     "name": "#%%\n"
    },
    "tags": []
   },
   "outputs": [],
   "source": [
    "\n",
    "db_s.object_id = object_id\n",
    "db_s.external_id = external_id"
   ]
  },
  {
   "cell_type": "code",
   "execution_count": null,
   "id": "f7a3982f",
   "metadata": {
    "collapsed": false,
    "jupyter": {
     "source_hidden": true
    },
    "papermill": {
     "duration": null,
     "end_time": null,
     "exception": null,
     "start_time": null,
     "status": "pending"
    },
    "pycharm": {
     "name": "#%%\n"
    },
    "tags": []
   },
   "outputs": [],
   "source": [
    "# send data to Salesforce\n",
    "db_s.send_data(df_sf)"
   ]
  },
  {
   "cell_type": "code",
   "execution_count": null,
   "id": "3101984c",
   "metadata": {
    "collapsed": false,
    "jupyter": {
     "source_hidden": true
    },
    "papermill": {
     "duration": null,
     "end_time": null,
     "exception": null,
     "start_time": null,
     "status": "pending"
    },
    "pycharm": {
     "name": "#%%\n"
    },
    "tags": []
   },
   "outputs": [],
   "source": [
    "# check status\n",
    "db_s.check_bulk_status()"
   ]
  },
  {
   "cell_type": "code",
   "execution_count": null,
   "id": "f4bd4f0b",
   "metadata": {
    "collapsed": false,
    "jupyter": {
     "source_hidden": true
    },
    "papermill": {
     "duration": null,
     "end_time": null,
     "exception": null,
     "start_time": null,
     "status": "pending"
    },
    "pycharm": {
     "name": "#%%\n"
    },
    "tags": []
   },
   "outputs": [],
   "source": [
    "# check status\n",
    "from pprint import pprint\n",
    "\n",
    "pprint(db_s.check_bulk_failed_results())"
   ]
  },
  {
   "cell_type": "code",
   "execution_count": null,
   "id": "363ecdad",
   "metadata": {
    "collapsed": false,
    "jupyter": {
     "source_hidden": true
    },
    "papermill": {
     "duration": null,
     "end_time": null,
     "exception": null,
     "start_time": null,
     "status": "pending"
    },
    "pycharm": {
     "name": "#%%\n"
    },
    "tags": []
   },
   "outputs": [],
   "source": []
  },
  {
   "cell_type": "code",
   "execution_count": null,
   "id": "5cfa3a75",
   "metadata": {
    "collapsed": false,
    "jupyter": {
     "source_hidden": true
    },
    "papermill": {
     "duration": null,
     "end_time": null,
     "exception": null,
     "start_time": null,
     "status": "pending"
    },
    "pycharm": {
     "name": "#%%\n"
    },
    "tags": []
   },
   "outputs": [],
   "source": []
  },
  {
   "cell_type": "code",
   "execution_count": null,
   "id": "e10e57b1",
   "metadata": {
    "collapsed": false,
    "jupyter": {
     "source_hidden": true
    },
    "papermill": {
     "duration": null,
     "end_time": null,
     "exception": null,
     "start_time": null,
     "status": "pending"
    },
    "pycharm": {
     "name": "#%%\n"
    },
    "tags": []
   },
   "outputs": [],
   "source": []
  }
 ],
 "metadata": {
  "celltoolbar": "Tags",
  "kernelspec": {
   "display_name": "Python 3",
   "language": "python",
   "name": "python3"
  },
  "language_info": {
   "codemirror_mode": {
    "name": "ipython",
    "version": 3
   },
   "file_extension": ".py",
   "mimetype": "text/x-python",
   "name": "python",
   "nbconvert_exporter": "python",
   "pygments_lexer": "ipython3",
   "version": "3.8.10"
  },
  "papermill": {
   "duration": null,
   "end_time": null,
   "environment_variables": {},
   "exception": null,
   "input_path": "/Users/saxenap/Documents/Dev/nanoHUB/nanoHUB/pipeline/salesforce/task_user_basic_updates.ipynb",
   "output_path": "./.output/task_user_basic_updates.ipynb",
   "parameters": {},
   "start_time": "2021-10-25T11:53:59.214190",
   "version": "2.1.1"
  }
 },
 "nbformat": 4,
 "nbformat_minor": 5
}