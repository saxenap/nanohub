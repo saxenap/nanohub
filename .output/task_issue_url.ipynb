{
 "cells": [
  {
   "cell_type": "markdown",
   "id": "bc10346f",
   "metadata": {
    "papermill": {
     "duration": 0.026866,
     "end_time": "2021-10-25T11:15:41.053328",
     "exception": false,
     "start_time": "2021-10-25T11:15:41.026462",
     "status": "completed"
    },
    "tags": []
   },
   "source": [
    "# DB2-Salesforce connector: URL issues"
   ]
  },
  {
   "cell_type": "code",
   "execution_count": 1,
   "id": "81dd6fcc",
   "metadata": {
    "execution": {
     "iopub.execute_input": "2021-10-25T11:15:41.119928Z",
     "iopub.status.busy": "2021-10-25T11:15:41.118681Z",
     "iopub.status.idle": "2021-10-25T11:15:42.745479Z",
     "shell.execute_reply": "2021-10-25T11:15:42.746221Z"
    },
    "jupyter": {
     "source_hidden": true
    },
    "papermill": {
     "duration": 1.66655,
     "end_time": "2021-10-25T11:15:42.746558",
     "exception": false,
     "start_time": "2021-10-25T11:15:41.080008",
     "status": "completed"
    },
    "tags": [
     "parameters"
    ]
   },
   "outputs": [
    {
     "name": "stdout",
     "output_type": "stream",
     "text": [
      "\u001b[1mnanoHUB - Serving Students, Researchers & Instructors\u001b[0m\n"
     ]
    },
    {
     "name": "stdout",
     "output_type": "stream",
     "text": [
      "Obtained Salesforce access token ...... True\n"
     ]
    }
   ],
   "source": [
    "# API settings\n",
    "api_url = '/services/data/v43.0/sobjects'\n",
    "object_id = 'nanoHUB_issue__c'\n",
    "external_id = 'Issue_ID__c'\n",
    "\n",
    "from nanoHUB.application import Application\n",
    "\n",
    "application = Application.get_instance()\n",
    "nanohub_db = application.new_db_engine('nanohub')\n",
    "\n",
    "salesforce = application.new_salesforce_engine()\n",
    "db_s = salesforce"
   ]
  },
  {
   "cell_type": "code",
   "execution_count": 2,
   "id": "854277fb",
   "metadata": {
    "execution": {
     "iopub.execute_input": "2021-10-25T11:15:42.805935Z",
     "iopub.status.busy": "2021-10-25T11:15:42.805376Z",
     "iopub.status.idle": "2021-10-25T11:15:42.807236Z",
     "shell.execute_reply": "2021-10-25T11:15:42.807594Z"
    },
    "jupyter": {
     "source_hidden": true
    },
    "papermill": {
     "duration": 0.03205,
     "end_time": "2021-10-25T11:15:42.807762",
     "exception": false,
     "start_time": "2021-10-25T11:15:42.775712",
     "status": "completed"
    },
    "tags": []
   },
   "outputs": [],
   "source": [
    "\n",
    "import pandas as pd\n",
    "import datetime"
   ]
  },
  {
   "cell_type": "markdown",
   "id": "4cd3dfed",
   "metadata": {
    "papermill": {
     "duration": 0.026163,
     "end_time": "2021-10-25T11:15:42.859845",
     "exception": false,
     "start_time": "2021-10-25T11:15:42.833682",
     "status": "completed"
    },
    "tags": []
   },
   "source": [
    "## Obtain tool information from DB2 "
   ]
  },
  {
   "cell_type": "code",
   "execution_count": 3,
   "id": "3ee73a70",
   "metadata": {
    "execution": {
     "iopub.execute_input": "2021-10-25T11:15:42.917320Z",
     "iopub.status.busy": "2021-10-25T11:15:42.916721Z",
     "iopub.status.idle": "2021-10-25T11:15:42.918833Z",
     "shell.execute_reply": "2021-10-25T11:15:42.919178Z"
    },
    "jupyter": {
     "source_hidden": true
    },
    "papermill": {
     "duration": 0.032943,
     "end_time": "2021-10-25T11:15:42.919342",
     "exception": false,
     "start_time": "2021-10-25T11:15:42.886399",
     "status": "completed"
    },
    "scrolled": true,
    "tags": []
   },
   "outputs": [
    {
     "name": "stdout",
     "output_type": "stream",
     "text": [
      "select * from issue_invalid_urls\n"
     ]
    }
   ],
   "source": [
    "# Basic tool information\n",
    "sql_query = \"select * from issue_invalid_urls\"\n",
    "\n",
    "# display\n",
    "print(sql_query)"
   ]
  },
  {
   "cell_type": "code",
   "execution_count": 4,
   "id": "2d679dde",
   "metadata": {
    "execution": {
     "iopub.execute_input": "2021-10-25T11:15:42.981402Z",
     "iopub.status.busy": "2021-10-25T11:15:42.980576Z",
     "iopub.status.idle": "2021-10-25T11:15:43.735570Z",
     "shell.execute_reply": "2021-10-25T11:15:43.734946Z"
    },
    "jupyter": {
     "source_hidden": true
    },
    "papermill": {
     "duration": 0.789989,
     "end_time": "2021-10-25T11:15:43.735735",
     "exception": false,
     "start_time": "2021-10-25T11:15:42.945746",
     "status": "completed"
    },
    "tags": []
   },
   "outputs": [],
   "source": [
    "wang159_myrmekes_db = application.new_db_engine('wang159_myrmekes')\n",
    "df = pd.read_sql_query(sql_query, wang159_myrmekes_db)"
   ]
  },
  {
   "cell_type": "code",
   "execution_count": 5,
   "id": "d7767d4c",
   "metadata": {
    "execution": {
     "iopub.execute_input": "2021-10-25T11:15:43.798438Z",
     "iopub.status.busy": "2021-10-25T11:15:43.797797Z",
     "iopub.status.idle": "2021-10-25T11:15:43.805513Z",
     "shell.execute_reply": "2021-10-25T11:15:43.806023Z"
    },
    "jupyter": {
     "source_hidden": true
    },
    "papermill": {
     "duration": 0.043291,
     "end_time": "2021-10-25T11:15:43.806277",
     "exception": false,
     "start_time": "2021-10-25T11:15:43.762986",
     "status": "completed"
    },
    "tags": []
   },
   "outputs": [
    {
     "data": {
      "text/html": [
       "<div>\n",
       "<style scoped>\n",
       "    .dataframe tbody tr th:only-of-type {\n",
       "        vertical-align: middle;\n",
       "    }\n",
       "\n",
       "    .dataframe tbody tr th {\n",
       "        vertical-align: top;\n",
       "    }\n",
       "\n",
       "    .dataframe thead th {\n",
       "        text-align: right;\n",
       "    }\n",
       "</style>\n",
       "<table border=\"1\" class=\"dataframe\">\n",
       "  <thead>\n",
       "    <tr style=\"text-align: right;\">\n",
       "      <th></th>\n",
       "      <th>index</th>\n",
       "      <th>resource_ID</th>\n",
       "      <th>href</th>\n",
       "      <th>href_text</th>\n",
       "      <th>status</th>\n",
       "    </tr>\n",
       "  </thead>\n",
       "  <tbody>\n",
       "    <tr>\n",
       "      <th>0</th>\n",
       "      <td>0</td>\n",
       "      <td>90</td>\n",
       "      <td>http://epics.ecn.purdue.edu/lspm</td>\n",
       "      <td>Lego Scanning Probe Microscope</td>\n",
       "      <td>404</td>\n",
       "    </tr>\n",
       "    <tr>\n",
       "      <th>1</th>\n",
       "      <td>1</td>\n",
       "      <td>90</td>\n",
       "      <td>http://www.inac.purdue.edu/education/lspm/exhi...</td>\n",
       "      <td>Lego SPM website</td>\n",
       "      <td>Connection error.</td>\n",
       "    </tr>\n",
       "  </tbody>\n",
       "</table>\n",
       "</div>"
      ],
      "text/plain": [
       "   index resource_ID                                               href  \\\n",
       "0      0          90                   http://epics.ecn.purdue.edu/lspm   \n",
       "1      1          90  http://www.inac.purdue.edu/education/lspm/exhi...   \n",
       "\n",
       "                        href_text             status  \n",
       "0  Lego Scanning Probe Microscope                404  \n",
       "1                Lego SPM website  Connection error.  "
      ]
     },
     "execution_count": 5,
     "metadata": {},
     "output_type": "execute_result"
    }
   ],
   "source": [
    "# display\n",
    "df.head(2)"
   ]
  },
  {
   "cell_type": "code",
   "execution_count": 6,
   "id": "4c52c55d",
   "metadata": {
    "execution": {
     "iopub.execute_input": "2021-10-25T11:15:43.870525Z",
     "iopub.status.busy": "2021-10-25T11:15:43.869975Z",
     "iopub.status.idle": "2021-10-25T11:15:44.141621Z",
     "shell.execute_reply": "2021-10-25T11:15:44.142045Z"
    },
    "jupyter": {
     "source_hidden": true
    },
    "papermill": {
     "duration": 0.308889,
     "end_time": "2021-10-25T11:15:44.142290",
     "exception": false,
     "start_time": "2021-10-25T11:15:43.833401",
     "status": "completed"
    },
    "tags": []
   },
   "outputs": [],
   "source": [
    "df_export = pd.DataFrame()\n",
    "\n",
    "# Make sure NaN and NaT values are taken care of here\n",
    "\n",
    "# construct a consistent ID for this issue\n",
    "df_export[external_id]      =  'Resource_URL::::'+df.resource_ID+'::::'+df.href+'::::'+df.href_text\n",
    "\n",
    "df_export['Resource ID'] = df['resource_ID']\n",
    "df_export['Resource URL'] = 'https://nanohub.org/resources/'+df['resource_ID']\n",
    "df_export['Reason']           = 'Invalid URL'\n",
    "\n",
    "df_export['Invalid URL label'] = df['href_text']\n",
    "df_export['Invalid URL'] = df['href']\n",
    "\n",
    "# display\n",
    "df_export.to_excel('./invalid_URL_export.xlsx', engine='xlsxwriter')"
   ]
  },
  {
   "cell_type": "markdown",
   "id": "4cac177b",
   "metadata": {
    "papermill": {
     "duration": 0.027861,
     "end_time": "2021-10-25T11:15:44.197322",
     "exception": false,
     "start_time": "2021-10-25T11:15:44.169461",
     "status": "completed"
    },
    "tags": []
   },
   "source": [
    "## Match data with Salesforce format"
   ]
  },
  {
   "cell_type": "code",
   "execution_count": 7,
   "id": "5bd524b2",
   "metadata": {
    "execution": {
     "iopub.execute_input": "2021-10-25T11:15:44.295011Z",
     "iopub.status.busy": "2021-10-25T11:15:44.263555Z",
     "iopub.status.idle": "2021-10-25T11:15:44.297270Z",
     "shell.execute_reply": "2021-10-25T11:15:44.297617Z"
    },
    "jupyter": {
     "source_hidden": true
    },
    "papermill": {
     "duration": 0.072484,
     "end_time": "2021-10-25T11:15:44.297781",
     "exception": false,
     "start_time": "2021-10-25T11:15:44.225297",
     "status": "completed"
    },
    "tags": []
   },
   "outputs": [
    {
     "data": {
      "text/html": [
       "<div>\n",
       "<style scoped>\n",
       "    .dataframe tbody tr th:only-of-type {\n",
       "        vertical-align: middle;\n",
       "    }\n",
       "\n",
       "    .dataframe tbody tr th {\n",
       "        vertical-align: top;\n",
       "    }\n",
       "\n",
       "    .dataframe thead th {\n",
       "        text-align: right;\n",
       "    }\n",
       "</style>\n",
       "<table border=\"1\" class=\"dataframe\">\n",
       "  <thead>\n",
       "    <tr style=\"text-align: right;\">\n",
       "      <th></th>\n",
       "      <th>0</th>\n",
       "      <th>1</th>\n",
       "    </tr>\n",
       "  </thead>\n",
       "  <tbody>\n",
       "    <tr>\n",
       "      <th>Issue_ID__c</th>\n",
       "      <td>Resource_URL::::90::::http://epics.ecn.purdue....</td>\n",
       "      <td>Resource_URL::::90::::http://www.inac.purdue.e...</td>\n",
       "    </tr>\n",
       "    <tr>\n",
       "      <th>nanoHUB_resource_ID__c</th>\n",
       "      <td>90</td>\n",
       "      <td>90</td>\n",
       "    </tr>\n",
       "    <tr>\n",
       "      <th>Origin_URL__c</th>\n",
       "      <td>https://nanohub.org/resources/90</td>\n",
       "      <td>https://nanohub.org/resources/90</td>\n",
       "    </tr>\n",
       "    <tr>\n",
       "      <th>Type__c</th>\n",
       "      <td>Invalid URL</td>\n",
       "      <td>Invalid URL</td>\n",
       "    </tr>\n",
       "    <tr>\n",
       "      <th>Issue_message__c</th>\n",
       "      <td>Invalid URL found on page.&lt;br&gt;&lt;br&gt;         Lin...</td>\n",
       "      <td>Invalid URL found on page.&lt;br&gt;&lt;br&gt;         Lin...</td>\n",
       "    </tr>\n",
       "  </tbody>\n",
       "</table>\n",
       "</div>"
      ],
      "text/plain": [
       "                                                                        0  \\\n",
       "Issue_ID__c             Resource_URL::::90::::http://epics.ecn.purdue....   \n",
       "nanoHUB_resource_ID__c                                                 90   \n",
       "Origin_URL__c                            https://nanohub.org/resources/90   \n",
       "Type__c                                                       Invalid URL   \n",
       "Issue_message__c        Invalid URL found on page.<br><br>         Lin...   \n",
       "\n",
       "                                                                        1  \n",
       "Issue_ID__c             Resource_URL::::90::::http://www.inac.purdue.e...  \n",
       "nanoHUB_resource_ID__c                                                 90  \n",
       "Origin_URL__c                            https://nanohub.org/resources/90  \n",
       "Type__c                                                       Invalid URL  \n",
       "Issue_message__c        Invalid URL found on page.<br><br>         Lin...  "
      ]
     },
     "execution_count": 7,
     "metadata": {},
     "output_type": "execute_result"
    }
   ],
   "source": [
    "df_sf = pd.DataFrame()\n",
    "\n",
    "# Make sure NaN and NaT values are taken care of here\n",
    "\n",
    "# construct a consistent ID for this issue\n",
    "df_sf[external_id]      =  'Resource_URL::::'+df.resource_ID+'::::'+df.href+'::::'+df.href_text\n",
    "\n",
    "df_sf['nanoHUB_resource_ID__c'] = df['resource_ID']\n",
    "df_sf['Origin_URL__c'] = 'https://nanohub.org/resources/'+df['resource_ID']\n",
    "df_sf['Type__c']           = 'Invalid URL'\n",
    "\n",
    "df_sf['Issue_message__c'] = df.apply(lambda x: \\\n",
    "         'Invalid URL found on page.<br><br>\\\n",
    "         Link label: <p style=\"color:Tomato;\">%s</p><br>\\\n",
    "         Link: <p style=\"color:Tomato;\">%s</p>'%(x.href_text, x.href), axis=1)\n",
    "\n",
    "sf_original_fields = df_sf.columns\n",
    "\n",
    "# display\n",
    "df_sf.head(2).T"
   ]
  },
  {
   "cell_type": "markdown",
   "id": "a02b2cab",
   "metadata": {
    "papermill": {
     "duration": 0.029478,
     "end_time": "2021-10-25T11:15:44.358279",
     "exception": false,
     "start_time": "2021-10-25T11:15:44.328801",
     "status": "completed"
    },
    "tags": []
   },
   "source": [
    "## To Salesforce Sales Cloud CRM"
   ]
  },
  {
   "cell_type": "code",
   "execution_count": 8,
   "id": "2927fc23",
   "metadata": {
    "execution": {
     "iopub.execute_input": "2021-10-25T11:15:44.419902Z",
     "iopub.status.busy": "2021-10-25T11:15:44.419338Z",
     "iopub.status.idle": "2021-10-25T11:15:44.421809Z",
     "shell.execute_reply": "2021-10-25T11:15:44.422212Z"
    },
    "jupyter": {
     "source_hidden": true
    },
    "papermill": {
     "duration": 0.035171,
     "end_time": "2021-10-25T11:15:44.422395",
     "exception": false,
     "start_time": "2021-10-25T11:15:44.387224",
     "status": "completed"
    },
    "tags": []
   },
   "outputs": [],
   "source": [
    "# specify Salesforce object ID and external ID\n",
    "db_s.object_id = object_id\n",
    "db_s.external_id = external_id"
   ]
  },
  {
   "cell_type": "code",
   "execution_count": 9,
   "id": "12efb7fd",
   "metadata": {
    "execution": {
     "iopub.execute_input": "2021-10-25T11:15:44.485980Z",
     "iopub.status.busy": "2021-10-25T11:15:44.485389Z",
     "iopub.status.idle": "2021-10-25T11:15:46.265793Z",
     "shell.execute_reply": "2021-10-25T11:15:46.266366Z"
    },
    "jupyter": {
     "source_hidden": true
    },
    "papermill": {
     "duration": 1.815318,
     "end_time": "2021-10-25T11:15:46.266640",
     "exception": false,
     "start_time": "2021-10-25T11:15:44.451322",
     "status": "completed"
    },
    "tags": []
   },
   "outputs": [
    {
     "name": "stdout",
     "output_type": "stream",
     "text": [
      "[Success] Bulk job creation successful. Job ID = 7505w00000b2D3bAAE\n",
      "hello\n"
     ]
    },
    {
     "name": "stdout",
     "output_type": "stream",
     "text": [
      "[Success] CSV upload successful. Job ID = 7505w00000b2D3bAAE\n"
     ]
    },
    {
     "name": "stdout",
     "output_type": "stream",
     "text": [
      "[Success] Closing job successful. Job ID = 7505w00000b2D3bAAE\n"
     ]
    }
   ],
   "source": [
    "# send data to Salesforce\n",
    "db_s.send_data(df_sf)"
   ]
  },
  {
   "cell_type": "code",
   "execution_count": 10,
   "id": "07d23e5f",
   "metadata": {
    "execution": {
     "iopub.execute_input": "2021-10-25T11:15:46.337155Z",
     "iopub.status.busy": "2021-10-25T11:15:46.336489Z",
     "iopub.status.idle": "2021-10-25T11:15:46.743975Z",
     "shell.execute_reply": "2021-10-25T11:15:46.744570Z"
    },
    "jupyter": {
     "source_hidden": true
    },
    "papermill": {
     "duration": 0.446519,
     "end_time": "2021-10-25T11:15:46.744850",
     "exception": false,
     "start_time": "2021-10-25T11:15:46.298331",
     "status": "completed"
    },
    "tags": []
   },
   "outputs": [
    {
     "data": {
      "text/plain": [
       "{'id': '7505w00000b2D3bAAE',\n",
       " 'operation': 'upsert',\n",
       " 'object': 'nanoHUB_issue__c',\n",
       " 'createdById': '0055w00000DM5bOAAT',\n",
       " 'createdDate': '2021-10-25T11:15:44.000+0000',\n",
       " 'systemModstamp': '2021-10-25T11:15:46.000+0000',\n",
       " 'state': 'UploadComplete',\n",
       " 'externalIdFieldName': 'Issue_ID__c',\n",
       " 'concurrencyMode': 'Parallel',\n",
       " 'contentType': 'CSV',\n",
       " 'apiVersion': 47.0,\n",
       " 'jobType': 'V2Ingest',\n",
       " 'lineEnding': 'LF',\n",
       " 'columnDelimiter': 'COMMA',\n",
       " 'numberRecordsProcessed': 0,\n",
       " 'numberRecordsFailed': 0,\n",
       " 'retries': 0,\n",
       " 'totalProcessingTime': 0,\n",
       " 'apiActiveProcessingTime': 0,\n",
       " 'apexProcessingTime': 0}"
      ]
     },
     "execution_count": 10,
     "metadata": {},
     "output_type": "execute_result"
    }
   ],
   "source": [
    "# check status\n",
    "db_s.check_bulk_status()"
   ]
  },
  {
   "cell_type": "code",
   "execution_count": 11,
   "id": "d26c3a2c",
   "metadata": {
    "execution": {
     "iopub.execute_input": "2021-10-25T11:15:46.818808Z",
     "iopub.status.busy": "2021-10-25T11:15:46.818116Z",
     "iopub.status.idle": "2021-10-25T11:15:47.013044Z",
     "shell.execute_reply": "2021-10-25T11:15:47.013782Z"
    },
    "jupyter": {
     "source_hidden": true
    },
    "papermill": {
     "duration": 0.235146,
     "end_time": "2021-10-25T11:15:47.014099",
     "exception": false,
     "start_time": "2021-10-25T11:15:46.778953",
     "status": "completed"
    },
    "tags": []
   },
   "outputs": [
    {
     "name": "stdout",
     "output_type": "stream",
     "text": [
      "''\n"
     ]
    }
   ],
   "source": [
    "from pprint import pprint\n",
    "pprint(db_s.check_bulk_failed_results())"
   ]
  },
  {
   "cell_type": "code",
   "execution_count": null,
   "id": "95a45554",
   "metadata": {
    "jupyter": {
     "source_hidden": true
    },
    "papermill": {
     "duration": 0.031805,
     "end_time": "2021-10-25T11:15:47.083950",
     "exception": false,
     "start_time": "2021-10-25T11:15:47.052145",
     "status": "completed"
    },
    "tags": []
   },
   "outputs": [],
   "source": []
  }
 ],
 "metadata": {
  "celltoolbar": "Tags",
  "kernelspec": {
   "display_name": "Python 3",
   "language": "python",
   "name": "python3"
  },
  "language_info": {
   "codemirror_mode": {
    "name": "ipython",
    "version": 3
   },
   "file_extension": ".py",
   "mimetype": "text/x-python",
   "name": "python",
   "nbconvert_exporter": "python",
   "pygments_lexer": "ipython3",
   "version": "3.9.7"
  },
  "papermill": {
   "duration": 7.594061,
   "end_time": "2021-10-25T11:15:47.451039",
   "environment_variables": {},
   "exception": null,
   "input_path": "/Users/saxenap/Documents/Dev/nanoHUB/nanoHUB/pipeline/salesforce/task_issue_url.ipynb",
   "output_path": "./.output/task_issue_url.ipynb",
   "parameters": {},
   "start_time": "2021-10-25T11:15:39.856978",
   "version": "2.1.1"
  }
 },
 "nbformat": 4,
 "nbformat_minor": 5
}