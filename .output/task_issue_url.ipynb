{
 "cells": [
  {
   "cell_type": "markdown",
   "id": "7220ffca",
   "metadata": {
    "papermill": {
     "duration": 0.032792,
     "end_time": "2021-08-26T04:05:27.113912",
     "exception": false,
     "start_time": "2021-08-26T04:05:27.081120",
     "status": "completed"
    },
    "tags": []
   },
   "source": [
    "# DB2-Salesforce connector: URL issues"
   ]
  },
  {
   "cell_type": "code",
   "execution_count": 1,
   "id": "91386f74",
   "metadata": {
    "execution": {
     "iopub.execute_input": "2021-08-26T04:05:27.190237Z",
     "iopub.status.busy": "2021-08-26T04:05:27.189287Z",
     "iopub.status.idle": "2021-08-26T04:05:29.498135Z",
     "shell.execute_reply": "2021-08-26T04:05:29.498742Z"
    },
    "jupyter": {
     "source_hidden": true
    },
    "papermill": {
     "duration": 2.350205,
     "end_time": "2021-08-26T04:05:29.499202",
     "exception": false,
     "start_time": "2021-08-26T04:05:27.148997",
     "status": "completed"
    },
    "tags": [
     "parameters"
    ]
   },
   "outputs": [
    {
     "name": "stdout",
     "output_type": "stream",
     "text": [
      "\u001b[1mnanoHUB - Serving Students, Researchers & Instructors\u001b[0m\n"
     ]
    },
    {
     "name": "stderr",
     "output_type": "stream",
     "text": [
      "2021-08-26 00:05:28,585| INFO    | 0 keys loaded from agent\n"
     ]
    },
    {
     "name": "stdout",
     "output_type": "stream",
     "text": [
      "2021-08-26 00:05:28,585 - [INFO] sshtunnel.SSHTunnelForwarder [sshtunnel.get_agent_keys:1060]: 0 keys loaded from agent\n"
     ]
    },
    {
     "name": "stderr",
     "output_type": "stream",
     "text": [
      "2021-08-26 00:05:28,588| INFO    | 0 key(s) loaded\n"
     ]
    },
    {
     "name": "stdout",
     "output_type": "stream",
     "text": [
      "2021-08-26 00:05:28,588 - [INFO] sshtunnel.SSHTunnelForwarder [sshtunnel.get_keys:1117]: 0 key(s) loaded\n"
     ]
    },
    {
     "name": "stderr",
     "output_type": "stream",
     "text": [
      "2021-08-26 00:05:28,591| INFO    | Connecting to gateway: db2.nanohub.org:22 as user 'saxenap'\n"
     ]
    },
    {
     "name": "stdout",
     "output_type": "stream",
     "text": [
      "2021-08-26 00:05:28,591 - [INFO] sshtunnel.SSHTunnelForwarder [sshtunnel.__init__:978]: Connecting to gateway: db2.nanohub.org:22 as user 'saxenap'\n"
     ]
    },
    {
     "name": "stdout",
     "output_type": "stream",
     "text": [
      "2021-08-26 00:05:28,596 - [\u001b[1mINFO\u001b[0m] \u001b[1mnanoHUB.containers.dataaccess\u001b[0m [connection.get_connection_for:101]: Started SSH Tunnel with db2.nanohub.org\n"
     ]
    },
    {
     "name": "stderr",
     "output_type": "stream",
     "text": [
      "2021-08-26 00:05:28,918| INFO    | Opening tunnel: 0.0.0.0:52704 <> 127.0.0.1:3306\n"
     ]
    },
    {
     "name": "stdout",
     "output_type": "stream",
     "text": [
      "2021-08-26 00:05:28,918 - [INFO] sshtunnel.SSHTunnelForwarder [sshtunnel._serve_forever_wrapper:1433]: Opening tunnel: 0.0.0.0:52704 <> 127.0.0.1:3306\n"
     ]
    },
    {
     "name": "stdout",
     "output_type": "stream",
     "text": [
      "Obtained Salesforce access token ...... True\n"
     ]
    }
   ],
   "source": [
    "# API settings\n",
    "api_url = '/services/data/v43.0/sobjects'\n",
    "object_id = 'nanoHUB_issue__c'\n",
    "external_id = 'Issue_ID__c'\n",
    "\n",
    "from nanoHUB.application import Application\n",
    "\n",
    "application = Application.get_instance()\n",
    "nanohub_db = application.new_db_engine('nanohub')\n",
    "\n",
    "salesforce = application.new_salesforce_engine()\n",
    "db_s = salesforce"
   ]
  },
  {
   "cell_type": "code",
   "execution_count": 2,
   "id": "702cd5b8",
   "metadata": {
    "execution": {
     "iopub.execute_input": "2021-08-26T04:05:29.606357Z",
     "iopub.status.busy": "2021-08-26T04:05:29.605291Z",
     "iopub.status.idle": "2021-08-26T04:05:29.608086Z",
     "shell.execute_reply": "2021-08-26T04:05:29.608864Z"
    },
    "jupyter": {
     "source_hidden": true
    },
    "papermill": {
     "duration": 0.058039,
     "end_time": "2021-08-26T04:05:29.609123",
     "exception": false,
     "start_time": "2021-08-26T04:05:29.551084",
     "status": "completed"
    },
    "tags": []
   },
   "outputs": [],
   "source": [
    "\n",
    "import pandas as pd\n",
    "import datetime"
   ]
  },
  {
   "cell_type": "markdown",
   "id": "b35a8142",
   "metadata": {
    "papermill": {
     "duration": 0.050395,
     "end_time": "2021-08-26T04:05:29.719657",
     "exception": false,
     "start_time": "2021-08-26T04:05:29.669262",
     "status": "completed"
    },
    "tags": []
   },
   "source": [
    "## Obtain tool information from DB2 "
   ]
  },
  {
   "cell_type": "code",
   "execution_count": 3,
   "id": "079aad7e",
   "metadata": {
    "execution": {
     "iopub.execute_input": "2021-08-26T04:05:29.822336Z",
     "iopub.status.busy": "2021-08-26T04:05:29.821184Z",
     "iopub.status.idle": "2021-08-26T04:05:29.825981Z",
     "shell.execute_reply": "2021-08-26T04:05:29.826512Z"
    },
    "jupyter": {
     "source_hidden": true
    },
    "papermill": {
     "duration": 0.054775,
     "end_time": "2021-08-26T04:05:29.826810",
     "exception": false,
     "start_time": "2021-08-26T04:05:29.772035",
     "status": "completed"
    },
    "scrolled": true,
    "tags": []
   },
   "outputs": [
    {
     "name": "stdout",
     "output_type": "stream",
     "text": [
      "select * from issue_invalid_urls\n"
     ]
    }
   ],
   "source": [
    "# Basic tool information\n",
    "sql_query = \"select * from issue_invalid_urls\"\n",
    "\n",
    "# display\n",
    "print(sql_query)"
   ]
  },
  {
   "cell_type": "code",
   "execution_count": 4,
   "id": "c3925b87",
   "metadata": {
    "execution": {
     "iopub.execute_input": "2021-08-26T04:05:29.933535Z",
     "iopub.status.busy": "2021-08-26T04:05:29.932234Z",
     "iopub.status.idle": "2021-08-26T04:05:30.692010Z",
     "shell.execute_reply": "2021-08-26T04:05:30.692416Z"
    },
    "jupyter": {
     "source_hidden": true
    },
    "papermill": {
     "duration": 0.81421,
     "end_time": "2021-08-26T04:05:30.692674",
     "exception": false,
     "start_time": "2021-08-26T04:05:29.878464",
     "status": "completed"
    },
    "tags": []
   },
   "outputs": [
    {
     "name": "stderr",
     "output_type": "stream",
     "text": [
      "2021-08-26 00:05:29,932| INFO    | 0 keys loaded from agent\n"
     ]
    },
    {
     "name": "stdout",
     "output_type": "stream",
     "text": [
      "2021-08-26 00:05:29,932 - [INFO] sshtunnel.SSHTunnelForwarder [sshtunnel.get_agent_keys:1060]: 0 keys loaded from agent\n"
     ]
    },
    {
     "name": "stderr",
     "output_type": "stream",
     "text": [
      "2021-08-26 00:05:29,935| INFO    | 0 key(s) loaded\n"
     ]
    },
    {
     "name": "stdout",
     "output_type": "stream",
     "text": [
      "2021-08-26 00:05:29,935 - [INFO] sshtunnel.SSHTunnelForwarder [sshtunnel.get_keys:1117]: 0 key(s) loaded\n"
     ]
    },
    {
     "name": "stderr",
     "output_type": "stream",
     "text": [
      "2021-08-26 00:05:29,937| INFO    | Connecting to gateway: db2.nanohub.org:22 as user 'saxenap'\n"
     ]
    },
    {
     "name": "stdout",
     "output_type": "stream",
     "text": [
      "2021-08-26 00:05:29,937 - [INFO] sshtunnel.SSHTunnelForwarder [sshtunnel.__init__:978]: Connecting to gateway: db2.nanohub.org:22 as user 'saxenap'\n"
     ]
    },
    {
     "name": "stdout",
     "output_type": "stream",
     "text": [
      "2021-08-26 00:05:29,940 - [\u001b[1mINFO\u001b[0m] \u001b[1mnanoHUB.containers.dataaccess\u001b[0m [connection.get_connection_for:101]: Started SSH Tunnel with db2.nanohub.org\n"
     ]
    },
    {
     "name": "stderr",
     "output_type": "stream",
     "text": [
      "2021-08-26 00:05:30,247| INFO    | Opening tunnel: 0.0.0.0:52709 <> 127.0.0.1:3306\n"
     ]
    },
    {
     "name": "stdout",
     "output_type": "stream",
     "text": [
      "2021-08-26 00:05:30,247 - [INFO] sshtunnel.SSHTunnelForwarder [sshtunnel._serve_forever_wrapper:1433]: Opening tunnel: 0.0.0.0:52709 <> 127.0.0.1:3306\n"
     ]
    }
   ],
   "source": [
    "wang159_myrmekes_db = application.new_db_engine('wang159_myrmekes')\n",
    "df = pd.read_sql_query(sql_query, wang159_myrmekes_db)"
   ]
  },
  {
   "cell_type": "code",
   "execution_count": 5,
   "id": "c7400333",
   "metadata": {
    "execution": {
     "iopub.execute_input": "2021-08-26T04:05:30.817872Z",
     "iopub.status.busy": "2021-08-26T04:05:30.816874Z",
     "iopub.status.idle": "2021-08-26T04:05:30.828858Z",
     "shell.execute_reply": "2021-08-26T04:05:30.829355Z"
    },
    "jupyter": {
     "source_hidden": true
    },
    "papermill": {
     "duration": 0.079311,
     "end_time": "2021-08-26T04:05:30.829605",
     "exception": false,
     "start_time": "2021-08-26T04:05:30.750294",
     "status": "completed"
    },
    "tags": []
   },
   "outputs": [
    {
     "data": {
      "text/html": [
       "<div>\n",
       "<style scoped>\n",
       "    .dataframe tbody tr th:only-of-type {\n",
       "        vertical-align: middle;\n",
       "    }\n",
       "\n",
       "    .dataframe tbody tr th {\n",
       "        vertical-align: top;\n",
       "    }\n",
       "\n",
       "    .dataframe thead th {\n",
       "        text-align: right;\n",
       "    }\n",
       "</style>\n",
       "<table border=\"1\" class=\"dataframe\">\n",
       "  <thead>\n",
       "    <tr style=\"text-align: right;\">\n",
       "      <th></th>\n",
       "      <th>index</th>\n",
       "      <th>resource_ID</th>\n",
       "      <th>href</th>\n",
       "      <th>href_text</th>\n",
       "      <th>status</th>\n",
       "    </tr>\n",
       "  </thead>\n",
       "  <tbody>\n",
       "    <tr>\n",
       "      <th>0</th>\n",
       "      <td>0</td>\n",
       "      <td>90</td>\n",
       "      <td>http://epics.ecn.purdue.edu/lspm</td>\n",
       "      <td>Lego Scanning Probe Microscope</td>\n",
       "      <td>404</td>\n",
       "    </tr>\n",
       "    <tr>\n",
       "      <th>1</th>\n",
       "      <td>1</td>\n",
       "      <td>90</td>\n",
       "      <td>http://www.inac.purdue.edu/education/lspm/exhi...</td>\n",
       "      <td>Lego SPM website</td>\n",
       "      <td>Connection error.</td>\n",
       "    </tr>\n",
       "  </tbody>\n",
       "</table>\n",
       "</div>"
      ],
      "text/plain": [
       "   index resource_ID                                               href  \\\n",
       "0      0          90                   http://epics.ecn.purdue.edu/lspm   \n",
       "1      1          90  http://www.inac.purdue.edu/education/lspm/exhi...   \n",
       "\n",
       "                        href_text             status  \n",
       "0  Lego Scanning Probe Microscope                404  \n",
       "1                Lego SPM website  Connection error.  "
      ]
     },
     "execution_count": 5,
     "metadata": {},
     "output_type": "execute_result"
    }
   ],
   "source": [
    "# display\n",
    "df.head(2)"
   ]
  },
  {
   "cell_type": "code",
   "execution_count": 6,
   "id": "b8cabfc7",
   "metadata": {
    "execution": {
     "iopub.execute_input": "2021-08-26T04:05:30.970379Z",
     "iopub.status.busy": "2021-08-26T04:05:30.969365Z",
     "iopub.status.idle": "2021-08-26T04:05:31.318739Z",
     "shell.execute_reply": "2021-08-26T04:05:31.319549Z"
    },
    "jupyter": {
     "source_hidden": true
    },
    "papermill": {
     "duration": 0.424915,
     "end_time": "2021-08-26T04:05:31.319797",
     "exception": false,
     "start_time": "2021-08-26T04:05:30.894882",
     "status": "completed"
    },
    "tags": []
   },
   "outputs": [],
   "source": [
    "df_export = pd.DataFrame()\n",
    "\n",
    "# Make sure NaN and NaT values are taken care of here\n",
    "\n",
    "# construct a consistent ID for this issue\n",
    "df_export[external_id]      =  'Resource_URL::::'+df.resource_ID+'::::'+df.href+'::::'+df.href_text\n",
    "\n",
    "df_export['Resource ID'] = df['resource_ID']\n",
    "df_export['Resource URL'] = 'https://nanohub.org/resources/'+df['resource_ID']\n",
    "df_export['Reason']           = 'Invalid URL'\n",
    "\n",
    "df_export['Invalid URL label'] = df['href_text']\n",
    "df_export['Invalid URL'] = df['href']\n",
    "\n",
    "# display\n",
    "df_export.to_excel('./invalid_URL_export.xlsx', engine='xlsxwriter')"
   ]
  },
  {
   "cell_type": "markdown",
   "id": "41bdac19",
   "metadata": {
    "papermill": {
     "duration": 0.067271,
     "end_time": "2021-08-26T04:05:31.461314",
     "exception": false,
     "start_time": "2021-08-26T04:05:31.394043",
     "status": "completed"
    },
    "tags": []
   },
   "source": [
    "## Match data with Salesforce format"
   ]
  },
  {
   "cell_type": "code",
   "execution_count": 7,
   "id": "997335bd",
   "metadata": {
    "execution": {
     "iopub.execute_input": "2021-08-26T04:05:31.602335Z",
     "iopub.status.busy": "2021-08-26T04:05:31.601240Z",
     "iopub.status.idle": "2021-08-26T04:05:31.650695Z",
     "shell.execute_reply": "2021-08-26T04:05:31.651409Z"
    },
    "jupyter": {
     "source_hidden": true
    },
    "papermill": {
     "duration": 0.127196,
     "end_time": "2021-08-26T04:05:31.651751",
     "exception": false,
     "start_time": "2021-08-26T04:05:31.524555",
     "status": "completed"
    },
    "tags": []
   },
   "outputs": [
    {
     "data": {
      "text/html": [
       "<div>\n",
       "<style scoped>\n",
       "    .dataframe tbody tr th:only-of-type {\n",
       "        vertical-align: middle;\n",
       "    }\n",
       "\n",
       "    .dataframe tbody tr th {\n",
       "        vertical-align: top;\n",
       "    }\n",
       "\n",
       "    .dataframe thead th {\n",
       "        text-align: right;\n",
       "    }\n",
       "</style>\n",
       "<table border=\"1\" class=\"dataframe\">\n",
       "  <thead>\n",
       "    <tr style=\"text-align: right;\">\n",
       "      <th></th>\n",
       "      <th>0</th>\n",
       "      <th>1</th>\n",
       "    </tr>\n",
       "  </thead>\n",
       "  <tbody>\n",
       "    <tr>\n",
       "      <th>Issue_ID__c</th>\n",
       "      <td>Resource_URL::::90::::http://epics.ecn.purdue....</td>\n",
       "      <td>Resource_URL::::90::::http://www.inac.purdue.e...</td>\n",
       "    </tr>\n",
       "    <tr>\n",
       "      <th>nanoHUB_resource_ID__c</th>\n",
       "      <td>90</td>\n",
       "      <td>90</td>\n",
       "    </tr>\n",
       "    <tr>\n",
       "      <th>Origin_URL__c</th>\n",
       "      <td>https://nanohub.org/resources/90</td>\n",
       "      <td>https://nanohub.org/resources/90</td>\n",
       "    </tr>\n",
       "    <tr>\n",
       "      <th>Type__c</th>\n",
       "      <td>Invalid URL</td>\n",
       "      <td>Invalid URL</td>\n",
       "    </tr>\n",
       "    <tr>\n",
       "      <th>Issue_message__c</th>\n",
       "      <td>Invalid URL found on page.&lt;br&gt;&lt;br&gt;         Lin...</td>\n",
       "      <td>Invalid URL found on page.&lt;br&gt;&lt;br&gt;         Lin...</td>\n",
       "    </tr>\n",
       "  </tbody>\n",
       "</table>\n",
       "</div>"
      ],
      "text/plain": [
       "                                                                        0  \\\n",
       "Issue_ID__c             Resource_URL::::90::::http://epics.ecn.purdue....   \n",
       "nanoHUB_resource_ID__c                                                 90   \n",
       "Origin_URL__c                            https://nanohub.org/resources/90   \n",
       "Type__c                                                       Invalid URL   \n",
       "Issue_message__c        Invalid URL found on page.<br><br>         Lin...   \n",
       "\n",
       "                                                                        1  \n",
       "Issue_ID__c             Resource_URL::::90::::http://www.inac.purdue.e...  \n",
       "nanoHUB_resource_ID__c                                                 90  \n",
       "Origin_URL__c                            https://nanohub.org/resources/90  \n",
       "Type__c                                                       Invalid URL  \n",
       "Issue_message__c        Invalid URL found on page.<br><br>         Lin...  "
      ]
     },
     "execution_count": 7,
     "metadata": {},
     "output_type": "execute_result"
    }
   ],
   "source": [
    "df_sf = pd.DataFrame()\n",
    "\n",
    "# Make sure NaN and NaT values are taken care of here\n",
    "\n",
    "# construct a consistent ID for this issue\n",
    "df_sf[external_id]      =  'Resource_URL::::'+df.resource_ID+'::::'+df.href+'::::'+df.href_text\n",
    "\n",
    "df_sf['nanoHUB_resource_ID__c'] = df['resource_ID']\n",
    "df_sf['Origin_URL__c'] = 'https://nanohub.org/resources/'+df['resource_ID']\n",
    "df_sf['Type__c']           = 'Invalid URL'\n",
    "\n",
    "df_sf['Issue_message__c'] = df.apply(lambda x: \\\n",
    "         'Invalid URL found on page.<br><br>\\\n",
    "         Link label: <p style=\"color:Tomato;\">%s</p><br>\\\n",
    "         Link: <p style=\"color:Tomato;\">%s</p>'%(x.href_text, x.href), axis=1)\n",
    "\n",
    "sf_original_fields = df_sf.columns\n",
    "\n",
    "# display\n",
    "df_sf.head(2).T"
   ]
  },
  {
   "cell_type": "markdown",
   "id": "ed6d7217",
   "metadata": {
    "papermill": {
     "duration": 0.073746,
     "end_time": "2021-08-26T04:05:31.789968",
     "exception": false,
     "start_time": "2021-08-26T04:05:31.716222",
     "status": "completed"
    },
    "tags": []
   },
   "source": [
    "## To Salesforce Sales Cloud CRM"
   ]
  },
  {
   "cell_type": "code",
   "execution_count": 8,
   "id": "19da21ec",
   "metadata": {
    "execution": {
     "iopub.execute_input": "2021-08-26T04:05:31.951571Z",
     "iopub.status.busy": "2021-08-26T04:05:31.950448Z",
     "iopub.status.idle": "2021-08-26T04:05:31.953177Z",
     "shell.execute_reply": "2021-08-26T04:05:31.953912Z"
    },
    "jupyter": {
     "source_hidden": true
    },
    "papermill": {
     "duration": 0.08395,
     "end_time": "2021-08-26T04:05:31.954194",
     "exception": false,
     "start_time": "2021-08-26T04:05:31.870244",
     "status": "completed"
    },
    "tags": []
   },
   "outputs": [],
   "source": [
    "# specify Salesforce object ID and external ID\n",
    "db_s.object_id = object_id\n",
    "db_s.external_id = external_id"
   ]
  },
  {
   "cell_type": "code",
   "execution_count": 9,
   "id": "2891c098",
   "metadata": {
    "execution": {
     "iopub.execute_input": "2021-08-26T04:05:32.115373Z",
     "iopub.status.busy": "2021-08-26T04:05:32.114264Z",
     "iopub.status.idle": "2021-08-26T04:05:34.661065Z",
     "shell.execute_reply": "2021-08-26T04:05:34.661568Z"
    },
    "jupyter": {
     "source_hidden": true
    },
    "papermill": {
     "duration": 2.627151,
     "end_time": "2021-08-26T04:05:34.661863",
     "exception": false,
     "start_time": "2021-08-26T04:05:32.034712",
     "status": "completed"
    },
    "tags": []
   },
   "outputs": [
    {
     "name": "stdout",
     "output_type": "stream",
     "text": [
      "[Success] Bulk job creation successful. Job ID = 7505w00000ZJKgyAAH\n",
      "hello\n"
     ]
    },
    {
     "name": "stdout",
     "output_type": "stream",
     "text": [
      "[Success] CSV upload successful. Job ID = 7505w00000ZJKgyAAH\n"
     ]
    },
    {
     "name": "stdout",
     "output_type": "stream",
     "text": [
      "[Success] Closing job successful. Job ID = 7505w00000ZJKgyAAH\n"
     ]
    }
   ],
   "source": [
    "# send data to Salesforce\n",
    "db_s.send_data(df_sf)"
   ]
  },
  {
   "cell_type": "code",
   "execution_count": 10,
   "id": "ec469fdb",
   "metadata": {
    "execution": {
     "iopub.execute_input": "2021-08-26T04:05:34.813310Z",
     "iopub.status.busy": "2021-08-26T04:05:34.812413Z",
     "iopub.status.idle": "2021-08-26T04:05:35.191039Z",
     "shell.execute_reply": "2021-08-26T04:05:35.192301Z"
    },
    "jupyter": {
     "source_hidden": true
    },
    "papermill": {
     "duration": 0.452514,
     "end_time": "2021-08-26T04:05:35.192778",
     "exception": false,
     "start_time": "2021-08-26T04:05:34.740264",
     "status": "completed"
    },
    "tags": []
   },
   "outputs": [
    {
     "data": {
      "text/plain": [
       "{'id': '7505w00000ZJKgyAAH',\n",
       " 'operation': 'upsert',\n",
       " 'object': 'nanoHUB_issue__c',\n",
       " 'createdById': '0055w00000DM5bOAAT',\n",
       " 'createdDate': '2021-08-26T04:05:32.000+0000',\n",
       " 'systemModstamp': '2021-08-26T04:05:34.000+0000',\n",
       " 'state': 'UploadComplete',\n",
       " 'externalIdFieldName': 'Issue_ID__c',\n",
       " 'concurrencyMode': 'Parallel',\n",
       " 'contentType': 'CSV',\n",
       " 'apiVersion': 47.0,\n",
       " 'jobType': 'V2Ingest',\n",
       " 'lineEnding': 'LF',\n",
       " 'columnDelimiter': 'COMMA',\n",
       " 'numberRecordsProcessed': 0,\n",
       " 'numberRecordsFailed': 0,\n",
       " 'retries': 0,\n",
       " 'totalProcessingTime': 0,\n",
       " 'apiActiveProcessingTime': 0,\n",
       " 'apexProcessingTime': 0}"
      ]
     },
     "execution_count": 10,
     "metadata": {},
     "output_type": "execute_result"
    }
   ],
   "source": [
    "# check status\n",
    "db_s.check_bulk_status()"
   ]
  },
  {
   "cell_type": "code",
   "execution_count": 11,
   "id": "950d3e33",
   "metadata": {
    "execution": {
     "iopub.execute_input": "2021-08-26T04:05:35.415035Z",
     "iopub.status.busy": "2021-08-26T04:05:35.413209Z",
     "iopub.status.idle": "2021-08-26T04:05:35.639151Z",
     "shell.execute_reply": "2021-08-26T04:05:35.640049Z"
    },
    "jupyter": {
     "source_hidden": true
    },
    "papermill": {
     "duration": 0.332065,
     "end_time": "2021-08-26T04:05:35.640426",
     "exception": false,
     "start_time": "2021-08-26T04:05:35.308361",
     "status": "completed"
    },
    "tags": []
   },
   "outputs": [
    {
     "name": "stdout",
     "output_type": "stream",
     "text": [
      "''\n"
     ]
    }
   ],
   "source": [
    "from pprint import pprint\n",
    "pprint(db_s.check_bulk_failed_results())"
   ]
  },
  {
   "cell_type": "code",
   "execution_count": null,
   "id": "abc3bc25",
   "metadata": {
    "jupyter": {
     "source_hidden": true
    },
    "papermill": {
     "duration": 0.094854,
     "end_time": "2021-08-26T04:05:35.845948",
     "exception": false,
     "start_time": "2021-08-26T04:05:35.751094",
     "status": "completed"
    },
    "tags": []
   },
   "outputs": [],
   "source": []
  }
 ],
 "metadata": {
  "celltoolbar": "Tags",
  "kernelspec": {
   "display_name": "Python 3",
   "language": "python",
   "name": "python3"
  },
  "language_info": {
   "codemirror_mode": {
    "name": "ipython",
    "version": 3
   },
   "file_extension": ".py",
   "mimetype": "text/x-python",
   "name": "python",
   "nbconvert_exporter": "python",
   "pygments_lexer": "ipython3",
   "version": "3.8.2"
  },
  "papermill": {
   "duration": 10.265043,
   "end_time": "2021-08-26T04:05:36.355825",
   "environment_variables": {},
   "exception": null,
   "input_path": "nanoHUB/pipeline/salesforce/task_issue_url.ipynb",
   "output_path": "./.output/task_issue_url.ipynb",
   "parameters": {},
   "start_time": "2021-08-26T04:05:26.090782",
   "version": "2.1.1"
  }
 },
 "nbformat": 4,
 "nbformat_minor": 5
}