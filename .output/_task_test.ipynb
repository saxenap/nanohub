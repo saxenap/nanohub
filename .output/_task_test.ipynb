{
 "cells": [
  {
   "cell_type": "markdown",
   "id": "12455feb",
   "metadata": {
    "papermill": {
     "duration": 0.020771,
     "end_time": "2021-09-09T16:28:35.761606",
     "exception": false,
     "start_time": "2021-09-09T16:28:35.740835",
     "status": "completed"
    },
    "tags": []
   },
   "source": [
    "# DB2-Salesforce Test"
   ]
  },
  {
   "cell_type": "code",
   "execution_count": 1,
   "id": "0f32fe69",
   "metadata": {
    "execution": {
     "iopub.execute_input": "2021-09-09T16:28:35.796287Z",
     "iopub.status.busy": "2021-09-09T16:28:35.794812Z",
     "iopub.status.idle": "2021-09-09T16:28:37.465253Z",
     "shell.execute_reply": "2021-09-09T16:28:37.466228Z"
    },
    "jupyter": {
     "source_hidden": true
    },
    "papermill": {
     "duration": 1.691913,
     "end_time": "2021-09-09T16:28:37.466690",
     "exception": false,
     "start_time": "2021-09-09T16:28:35.774777",
     "status": "completed"
    },
    "pycharm": {
     "name": "#%%\n"
    },
    "tags": []
   },
   "outputs": [
    {
     "name": "stdout",
     "output_type": "stream",
     "text": [
      "\u001b[1mnanoHUB - Serving Students, Researchers & Instructors\u001b[0m\n"
     ]
    },
    {
     "name": "stdout",
     "output_type": "stream",
     "text": [
      "[INFO] [connection - nanoHUB.containers.dataaccess]: Started SSH Tunnel with db2.nanohub.org [connection.get_connection_for:109]\n"
     ]
    },
    {
     "name": "stdout",
     "output_type": "stream",
     "text": [
      "Obtained Salesforce access token ...... True\n"
     ]
    }
   ],
   "source": [
    "import pandas as pd\n",
    "from pprint import pprint\n",
    "from nanoHUB.application import Application\n",
    "\n",
    "\n",
    "# logger.debug('Testing')\n",
    "application = Application.get_instance()\n",
    "nanohub_db = application.new_db_engine('nanohub')\n",
    "\n",
    "salesforce = application.new_salesforce_engine()\n",
    "# print(salesforce)"
   ]
  },
  {
   "cell_type": "code",
   "execution_count": 2,
   "id": "6ab0b5e5",
   "metadata": {
    "execution": {
     "iopub.execute_input": "2021-09-09T16:28:37.503393Z",
     "iopub.status.busy": "2021-09-09T16:28:37.502533Z",
     "iopub.status.idle": "2021-09-09T16:28:38.627818Z",
     "shell.execute_reply": "2021-09-09T16:28:38.628288Z"
    },
    "jupyter": {
     "source_hidden": true
    },
    "papermill": {
     "duration": 1.143692,
     "end_time": "2021-09-09T16:28:38.628523",
     "exception": false,
     "start_time": "2021-09-09T16:28:37.484831",
     "status": "completed"
    },
    "pycharm": {
     "name": "#%%\n"
    },
    "tags": []
   },
   "outputs": [
    {
     "name": "stdout",
     "output_type": "stream",
     "text": [
      "            id   uid  affiliated  fundedby              created address  \\\n",
      "0     10000001  5568         NaN       NaN  2015-11-20 21:26:04    None   \n",
      "1     10000002  5568         NaN       NaN  2015-11-20 21:29:40    None   \n",
      "2     10000003  None         NaN       0.0                 None           \n",
      "3     10000004  None         NaN       0.0                 None           \n",
      "4     10000005  None         NaN       0.0                 None           \n",
      "...        ...   ...         ...       ...                  ...     ...   \n",
      "4159       316  2143         1.0       1.0  2010-04-22 00:00:00           \n",
      "4160      1804  2143         0.0      -1.0  0000-00-00 00:00:00           \n",
      "4161      1046  2143         1.0      -1.0  0000-00-00 00:00:00           \n",
      "4162      1614  2143         0.0      -1.0  0000-00-00 00:00:00           \n",
      "4163      3329  2143         0.0      -1.0  0000-00-00 00:00:00           \n",
      "\n",
      "                                                 author booktitle chapter  \\\n",
      "0     Weber, Bent; Mahapatra, Suddhasatta; Ryu, Hoon...      None    None   \n",
      "1     Andrawis, Robert; Bermeo, Jose; Charles, James...      None    None   \n",
      "2     Sebastian Steiger;Michael Povolotskyi;Hong-Hyu...                     \n",
      "3     Muhammad Usman;Yui-Hong Matthias Tan;Hoon Ryu;...                     \n",
      "4       Neophytos Neophytou;Gerhard Klimeck;Hans Kosina                     \n",
      "...                                                 ...       ...     ...   \n",
      "4159  S. Li{{8687}};Shaikh Ahmed{{9293}};E. Darve{{4...                     \n",
      "4160           Nahid Hossain;Md Hossain;Masud Chowdhury                     \n",
      "4161  T.J. Hacker{{25261}};R. Eigenmann{{13448}};S. ...                     \n",
      "4162  Sasi Sundaresan{{30937}};Vamsi Gaddipati{{2628...                     \n",
      "4163  L.D. Silva;C.A. Batista;I.R.R. Gonzalez;A.M.S....                     \n",
      "\n",
      "                       cite  ... published format formatted  scope scope_id  \\\n",
      "0             1165weber2012  ...         2   None      None  group    20184   \n",
      "1          1564andrawis2015  ...         2   None      None  group    20184   \n",
      "2              1steiger2011  ...         1             None  group    20184   \n",
      "3                2usman2011  ...         1             None  group    20184   \n",
      "4            3neophytou2011  ...         1             None  group    20184   \n",
      "...                     ...  ...       ...    ...       ...    ...      ...   \n",
      "4159                         ...         1   None      None    hub        0   \n",
      "4160                         ...         1   None      None    hub        0   \n",
      "4161      hacker2011neeshub  ...         1   None      None    hub        0   \n",
      "4162  sundaresan2014effects  ...         1   None      None    hub        0   \n",
      "4163         da2019discrete  ...         1   None      None    hub        0   \n",
      "\n",
      "     custom1 custom2 custom3    custom4  \\\n",
      "0       None    None    None       None   \n",
      "1       None    None    None       None   \n",
      "2                  1    J162  J_2011_24   \n",
      "3                  2    J156  J_2011_16   \n",
      "4                  3    J155  J_2011_15   \n",
      "...      ...     ...     ...        ...   \n",
      "4159    None    None    None       None   \n",
      "4160    None    None    None       None   \n",
      "4161    None    None    None       None   \n",
      "4162    None    None    None       None   \n",
      "4163    None    None    None       None   \n",
      "\n",
      "                                                pdf_url  \n",
      "0                                                  None  \n",
      "1                                                  None  \n",
      "2                                                  None  \n",
      "3                                                  None  \n",
      "4                                                  None  \n",
      "...                                                 ...  \n",
      "4159  https://nanohub.org/nanoHUBCitations/citmanage...  \n",
      "4160  https://nanohub.org/nanoHUBCitations/citmanage...  \n",
      "4161  https://nanohub.org/nanoHUBCitations/citmanage...  \n",
      "4162  https://nanohub.org/nanoHUBCitations/citmanage...  \n",
      "4163  https://nanohub.org/nanoHUBCitations/citmanage...  \n",
      "\n",
      "[4164 rows x 62 columns]\n"
     ]
    }
   ],
   "source": [
    "sql_query = \"select * from jos_citations\"\n",
    "citations_df = pd.read_sql_query(sql_query, nanohub_db)\n",
    "pprint(citations_df)\n",
    "\n",
    "\n",
    "# sql_query = \"select * from jos_users\"\n",
    "# users = pd.read_sql_query(sql_query, nanohub_db)\n",
    "# pprint(users)"
   ]
  },
  {
   "cell_type": "code",
   "execution_count": 3,
   "id": "ed2ea2af",
   "metadata": {
    "collapsed": false,
    "execution": {
     "iopub.execute_input": "2021-09-09T16:28:38.652948Z",
     "iopub.status.busy": "2021-09-09T16:28:38.652342Z",
     "iopub.status.idle": "2021-09-09T16:28:38.655761Z",
     "shell.execute_reply": "2021-09-09T16:28:38.656159Z"
    },
    "jupyter": {
     "source_hidden": true
    },
    "papermill": {
     "duration": 0.017581,
     "end_time": "2021-09-09T16:28:38.656332",
     "exception": false,
     "start_time": "2021-09-09T16:28:38.638751",
     "status": "completed"
    },
    "pycharm": {
     "name": "#%%\n"
    },
    "tags": []
   },
   "outputs": [],
   "source": [
    "# sql_query = \"select * from jos_citations_authors;\"\n",
    "# authors_df = pd.read_sql_query(sql_query, nanohub_db)\n",
    "# pprint(authors_df)\n",
    "#\n",
    "# nanohub_db.close()"
   ]
  },
  {
   "cell_type": "code",
   "execution_count": null,
   "id": "fb4e7255",
   "metadata": {
    "collapsed": false,
    "jupyter": {
     "source_hidden": true
    },
    "papermill": {
     "duration": 0.010762,
     "end_time": "2021-09-09T16:28:38.678886",
     "exception": false,
     "start_time": "2021-09-09T16:28:38.668124",
     "status": "completed"
    },
    "pycharm": {
     "name": "#%%\n"
    },
    "tags": []
   },
   "outputs": [],
   "source": []
  }
 ],
 "metadata": {
  "celltoolbar": "Tags",
  "kernelspec": {
   "display_name": "Python 3 (ipykernel)",
   "language": "python",
   "name": "python3"
  },
  "language_info": {
   "codemirror_mode": {
    "name": "ipython",
    "version": 3
   },
   "file_extension": ".py",
   "mimetype": "text/x-python",
   "name": "python",
   "nbconvert_exporter": "python",
   "pygments_lexer": "ipython3",
   "version": "3.9.7"
  },
  "papermill": {
   "duration": 4.369909,
   "end_time": "2021-09-09T16:28:39.015823",
   "environment_variables": {},
   "exception": null,
   "input_path": "/Users/saxenap/Documents/Dev/nanoHUB/nanoHUB/pipeline/salesforce/_task_test.ipynb",
   "output_path": "./.output/_task_test.ipynb",
   "parameters": {},
   "start_time": "2021-09-09T16:28:34.645914",
   "version": "2.1.1"
  }
 },
 "nbformat": 4,
 "nbformat_minor": 5
}