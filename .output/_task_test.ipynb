{
 "cells": [
  {
   "cell_type": "markdown",
   "id": "c7b7caa3",
   "metadata": {
    "papermill": {
     "duration": 0.018633,
     "end_time": "2021-09-08T13:46:51.136772",
     "exception": false,
     "start_time": "2021-09-08T13:46:51.118139",
     "status": "completed"
    },
    "tags": []
   },
   "source": [
    "# DB2-Salesforce Test"
   ]
  },
  {
   "cell_type": "code",
   "execution_count": 1,
   "id": "01eb53cf",
   "metadata": {
    "execution": {
     "iopub.execute_input": "2021-09-08T13:46:51.183540Z",
     "iopub.status.busy": "2021-09-08T13:46:51.182398Z",
     "iopub.status.idle": "2021-09-08T13:46:54.153626Z",
     "shell.execute_reply": "2021-09-08T13:46:54.154450Z"
    },
    "jupyter": {
     "source_hidden": true
    },
    "papermill": {
     "duration": 3.001489,
     "end_time": "2021-09-08T13:46:54.154907",
     "exception": false,
     "start_time": "2021-09-08T13:46:51.153418",
     "status": "completed"
    },
    "pycharm": {
     "name": "#%%\n"
    },
    "tags": []
   },
   "outputs": [
    {
     "name": "stdout",
     "output_type": "stream",
     "text": [
      "\u001b[1mnanoHUB - Serving Students, Researchers & Instructors\u001b[0m\n"
     ]
    },
    {
     "name": "stderr",
     "output_type": "stream",
     "text": [
      "2021-09-08 09:46:52,822| INFO    | 0 keys loaded from agent\n"
     ]
    },
    {
     "name": "stdout",
     "output_type": "stream",
     "text": [
      "2021-09-08 09:46:52,822 - [sshtunnel - sshtunnel.SSHTunnelForwarder] [INFO] [sshtunnel.get_agent_keys:1060]: 0 keys loaded from agent\n"
     ]
    },
    {
     "name": "stderr",
     "output_type": "stream",
     "text": [
      "2021-09-08 09:46:52,828| INFO    | 0 key(s) loaded\n"
     ]
    },
    {
     "name": "stdout",
     "output_type": "stream",
     "text": [
      "2021-09-08 09:46:52,828 - [sshtunnel - sshtunnel.SSHTunnelForwarder] [INFO] [sshtunnel.get_keys:1117]: 0 key(s) loaded\n"
     ]
    },
    {
     "name": "stderr",
     "output_type": "stream",
     "text": [
      "2021-09-08 09:46:52,831| INFO    | Connecting to gateway: db2.nanohub.org:22 as user 'saxenap'\n"
     ]
    },
    {
     "name": "stdout",
     "output_type": "stream",
     "text": [
      "2021-09-08 09:46:52,831 - [sshtunnel - sshtunnel.SSHTunnelForwarder] [INFO] [sshtunnel.__init__:978]: Connecting to gateway: db2.nanohub.org:22 as user 'saxenap'\n"
     ]
    },
    {
     "name": "stdout",
     "output_type": "stream",
     "text": [
      "2021-09-08 09:46:52,834 - [connection - nanoHUB.containers.dataaccess] [INFO] [connection.get_connection_for:101]: Started SSH Tunnel with db2.nanohub.org\n"
     ]
    },
    {
     "name": "stderr",
     "output_type": "stream",
     "text": [
      "2021-09-08 09:46:53,488| INFO    | Opening tunnel: 0.0.0.0:53447 <> 127.0.0.1:3306\n"
     ]
    },
    {
     "name": "stdout",
     "output_type": "stream",
     "text": [
      "2021-09-08 09:46:53,488 - [sshtunnel - sshtunnel.SSHTunnelForwarder] [INFO] [sshtunnel._serve_forever_wrapper:1433]: Opening tunnel: 0.0.0.0:53447 <> 127.0.0.1:3306\n"
     ]
    },
    {
     "name": "stdout",
     "output_type": "stream",
     "text": [
      "Obtained Salesforce access token ...... True\n"
     ]
    }
   ],
   "source": [
    "import pandas as pd\n",
    "from pprint import pprint\n",
    "from nanoHUB.application import Application\n",
    "\n",
    "\n",
    "# logger.debug('Testing')\n",
    "application = Application.get_instance()\n",
    "nanohub_db = application.new_db_engine('nanohub')\n",
    "\n",
    "salesforce = application.new_salesforce_engine()\n",
    "# print(salesforce)"
   ]
  },
  {
   "cell_type": "code",
   "execution_count": 2,
   "id": "3c587efb",
   "metadata": {
    "execution": {
     "iopub.execute_input": "2021-09-08T13:46:54.222881Z",
     "iopub.status.busy": "2021-09-08T13:46:54.221819Z",
     "iopub.status.idle": "2021-09-08T13:46:55.833524Z",
     "shell.execute_reply": "2021-09-08T13:46:55.834343Z"
    },
    "jupyter": {
     "source_hidden": true
    },
    "papermill": {
     "duration": 1.650572,
     "end_time": "2021-09-08T13:46:55.834892",
     "exception": false,
     "start_time": "2021-09-08T13:46:54.184320",
     "status": "completed"
    },
    "pycharm": {
     "name": "#%%\n"
    },
    "tags": []
   },
   "outputs": [
    {
     "name": "stdout",
     "output_type": "stream",
     "text": [
      "            id   uid  affiliated  fundedby              created address  \\\n",
      "0     10000001  5568         NaN       NaN  2015-11-20 21:26:04    None   \n",
      "1     10000002  5568         NaN       NaN  2015-11-20 21:29:40    None   \n",
      "2     10000003  None         NaN       0.0                 None           \n",
      "3     10000004  None         NaN       0.0                 None           \n",
      "4     10000005  None         NaN       0.0                 None           \n",
      "...        ...   ...         ...       ...                  ...     ...   \n",
      "4159      2048  2143         0.0      -1.0  0000-00-00 00:00:00           \n",
      "4160      1792  2143         0.0      -1.0  0000-00-00 00:00:00           \n",
      "4161       256  2143         0.0       0.0  2010-04-22 00:00:00           \n",
      "4162      1024  2143         0.0      -1.0  0000-00-00 00:00:00           \n",
      "4163      1280  2143         1.0      -1.0  0000-00-00 00:00:00           \n",
      "\n",
      "                                                 author  \\\n",
      "0     Weber, Bent; Mahapatra, Suddhasatta; Ryu, Hoon...   \n",
      "1     Andrawis, Robert; Bermeo, Jose; Charles, James...   \n",
      "2     Sebastian Steiger;Michael Povolotskyi;Hong-Hyu...   \n",
      "3     Muhammad Usman;Yui-Hong Matthias Tan;Hoon Ryu;...   \n",
      "4       Neophytos Neophytou;Gerhard Klimeck;Hans Kosina   \n",
      "...                                                 ...   \n",
      "4159     Jung-Lok Yu{{53507}};Hee-Jung Byun;Du-Seok Jin   \n",
      "4160  M Krahlisch;U Wulf;H Richter;J. Kucera;J. Hont...   \n",
      "4161                   Zhiwei Xu;Lijuan Xiao;Xingwu Liu   \n",
      "4162                                          J. Ramani   \n",
      "4163  Yaohua Tan{{30369}};Michael Povolotskyi{{37771...   \n",
      "\n",
      "                           booktitle chapter                     cite  ...  \\\n",
      "0                               None    None            1165weber2012  ...   \n",
      "1                               None    None         1564andrawis2015  ...   \n",
      "2                                                        1steiger2011  ...   \n",
      "3                                                          2usman2011  ...   \n",
      "4                                                      3neophytou2011  ...   \n",
      "...                              ...     ...                      ...  ...   \n",
      "4159                                                                   ...   \n",
      "4160                                          krahlisch2014analytical  ...   \n",
      "4161  Network and Parallel Computing                                   ...   \n",
      "4162                                            ramani2011development  ...   \n",
      "4163                                                 tan2012empirical  ...   \n",
      "\n",
      "     published format formatted  scope scope_id custom1 custom2 custom3  \\\n",
      "0            2   None      None  group    20184    None    None    None   \n",
      "1            2   None      None  group    20184    None    None    None   \n",
      "2            1             None  group    20184               1    J162   \n",
      "3            1             None  group    20184               2    J156   \n",
      "4            1             None  group    20184               3    J155   \n",
      "...        ...    ...       ...    ...      ...     ...     ...     ...   \n",
      "4159         1   None      None    hub        0    None    None    None   \n",
      "4160         1   None      None    hub        0    None    None    None   \n",
      "4161         1   None      None    hub        0    None    None    None   \n",
      "4162         1   None      None    hub        0    None    None    None   \n",
      "4163         1   None      None    hub        0    None    None    None   \n",
      "\n",
      "        custom4                                            pdf_url  \n",
      "0          None                                               None  \n",
      "1          None                                               None  \n",
      "2     J_2011_24                                               None  \n",
      "3     J_2011_16                                               None  \n",
      "4     J_2011_15                                               None  \n",
      "...         ...                                                ...  \n",
      "4159       None  https://nanohub.org/nanoHUBCitations/citmanage...  \n",
      "4160       None  https://nanohub.org/nanoHUBCitations/citmanage...  \n",
      "4161       None  https://nanohub.org/nanoHUBCitations/citmanage...  \n",
      "4162       None  https://nanohub.org/nanoHUBCitations/citmanage...  \n",
      "4163       None  https://nanohub.org/nanoHUBCitations/citmanage...  \n",
      "\n",
      "[4164 rows x 62 columns]\n"
     ]
    }
   ],
   "source": [
    "sql_query = \"select * from jos_citations\"\n",
    "citations_df = pd.read_sql_query(sql_query, nanohub_db)\n",
    "pprint(citations_df)\n",
    "\n",
    "\n",
    "# sql_query = \"select * from jos_users\"\n",
    "# users = pd.read_sql_query(sql_query, nanohub_db)\n",
    "# pprint(users)"
   ]
  },
  {
   "cell_type": "code",
   "execution_count": 3,
   "id": "1ecef6a4",
   "metadata": {
    "collapsed": false,
    "execution": {
     "iopub.execute_input": "2021-09-08T13:46:55.911631Z",
     "iopub.status.busy": "2021-09-08T13:46:55.910714Z",
     "iopub.status.idle": "2021-09-08T13:46:55.915136Z",
     "shell.execute_reply": "2021-09-08T13:46:55.913993Z"
    },
    "jupyter": {
     "source_hidden": true
    },
    "papermill": {
     "duration": 0.049346,
     "end_time": "2021-09-08T13:46:55.915599",
     "exception": false,
     "start_time": "2021-09-08T13:46:55.866253",
     "status": "completed"
    },
    "pycharm": {
     "name": "#%%\n"
    },
    "tags": []
   },
   "outputs": [],
   "source": [
    "# sql_query = \"select * from jos_citations_authors;\"\n",
    "# authors_df = pd.read_sql_query(sql_query, nanohub_db)\n",
    "# pprint(authors_df)\n",
    "#\n",
    "# nanohub_db.close()"
   ]
  },
  {
   "cell_type": "code",
   "execution_count": null,
   "id": "20072785",
   "metadata": {
    "collapsed": false,
    "jupyter": {
     "source_hidden": true
    },
    "papermill": {
     "duration": 0.02921,
     "end_time": "2021-09-08T13:46:55.978845",
     "exception": false,
     "start_time": "2021-09-08T13:46:55.949635",
     "status": "completed"
    },
    "pycharm": {
     "name": "#%%\n"
    },
    "tags": []
   },
   "outputs": [],
   "source": []
  }
 ],
 "metadata": {
  "celltoolbar": "Tags",
  "kernelspec": {
   "display_name": "Python 3 (ipykernel)",
   "language": "python",
   "name": "python3"
  },
  "language_info": {
   "codemirror_mode": {
    "name": "ipython",
    "version": 3
   },
   "file_extension": ".py",
   "mimetype": "text/x-python",
   "name": "python",
   "nbconvert_exporter": "python",
   "pygments_lexer": "ipython3",
   "version": "3.9.7"
  },
  "papermill": {
   "duration": 6.843378,
   "end_time": "2021-09-08T13:46:56.428610",
   "environment_variables": {},
   "exception": null,
   "input_path": "nanoHUB/pipeline/salesforce/_task_test.ipynb",
   "output_path": "./.output/_task_test.ipynb",
   "parameters": {},
   "start_time": "2021-09-08T13:46:49.585232",
   "version": "2.1.1"
  }
 },
 "nbformat": 4,
 "nbformat_minor": 5
}