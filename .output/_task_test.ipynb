{
 "cells": [
  {
   "cell_type": "markdown",
   "id": "15e54e91",
   "metadata": {
    "papermill": {
     "duration": 0.015021,
     "end_time": "2021-10-27T18:18:08.253770",
     "exception": false,
     "start_time": "2021-10-27T18:18:08.238749",
     "status": "completed"
    },
    "tags": []
   },
   "source": [
    "# DB2-Salesforce Test"
   ]
  },
  {
   "cell_type": "code",
   "execution_count": 1,
   "id": "4d39c818",
   "metadata": {
    "execution": {
     "iopub.execute_input": "2021-10-27T18:18:08.286208Z",
     "iopub.status.busy": "2021-10-27T18:18:08.284918Z",
     "iopub.status.idle": "2021-10-27T18:18:09.911832Z",
     "shell.execute_reply": "2021-10-27T18:18:09.912657Z"
    },
    "jupyter": {
     "source_hidden": true
    },
    "papermill": {
     "duration": 1.649648,
     "end_time": "2021-10-27T18:18:09.913131",
     "exception": false,
     "start_time": "2021-10-27T18:18:08.263483",
     "status": "completed"
    },
    "pycharm": {
     "name": "#%%\n"
    },
    "tags": []
   },
   "outputs": [
    {
     "name": "stdout",
     "output_type": "stream",
     "text": [
      "\u001b[1mnanoHUB - Serving Students, Researchers & Instructors\u001b[0m\n"
     ]
    },
    {
     "name": "stdout",
     "output_type": "stream",
     "text": [
      "Obtained Salesforce access token ...... True\n"
     ]
    }
   ],
   "source": [
    "import pandas as pd\n",
    "from pprint import pprint\n",
    "from nanoHUB.application import Application\n",
    "\n",
    "\n",
    "# logger.debug('Testing')\n",
    "application = Application.get_instance()\n",
    "nanohub_db = application.new_db_engine('nanohub')\n",
    "\n",
    "salesforce = application.new_salesforce_engine()\n",
    "# print(salesforce)"
   ]
  },
  {
   "cell_type": "code",
   "execution_count": 2,
   "id": "9f64ffb7",
   "metadata": {
    "execution": {
     "iopub.execute_input": "2021-10-27T18:18:09.949854Z",
     "iopub.status.busy": "2021-10-27T18:18:09.949223Z",
     "iopub.status.idle": "2021-10-27T18:18:10.628181Z",
     "shell.execute_reply": "2021-10-27T18:18:10.628677Z"
    },
    "jupyter": {
     "source_hidden": true
    },
    "papermill": {
     "duration": 0.698791,
     "end_time": "2021-10-27T18:18:10.628918",
     "exception": false,
     "start_time": "2021-10-27T18:18:09.930127",
     "status": "completed"
    },
    "pycharm": {
     "name": "#%%\n"
    },
    "tags": []
   },
   "outputs": [
    {
     "name": "stdout",
     "output_type": "stream",
     "text": [
      "            id   uid  affiliated  fundedby              created address  \\\n",
      "0     10000001  5568         NaN       NaN  2015-11-20 21:26:04    None   \n",
      "1     10000002  5568         NaN       NaN  2015-11-20 21:29:40    None   \n",
      "2     10000003  None         NaN       0.0                 None           \n",
      "3     10000004  None         NaN       0.0                 None           \n",
      "4     10000005  None         NaN       0.0                 None           \n",
      "...        ...   ...         ...       ...                  ...     ...   \n",
      "4159      2890  2143         1.0      -1.0  0000-00-00 00:00:00           \n",
      "4160      2172  2143         0.0      -1.0  0000-00-00 00:00:00           \n",
      "4161       316  2143         1.0       1.0  2010-04-22 00:00:00           \n",
      "4162      2686  2143         0.0      -1.0  0000-00-00 00:00:00           \n",
      "4163      1046  2143         1.0      -1.0  0000-00-00 00:00:00           \n",
      "\n",
      "                                                 author booktitle chapter  \\\n",
      "0     Weber, Bent; Mahapatra, Suddhasatta; Ryu, Hoon...      None    None   \n",
      "1     Andrawis, Robert; Bermeo, Jose; Charles, James...      None    None   \n",
      "2     Sebastian Steiger;Michael Povolotskyi;Hong-Hyu...                     \n",
      "3     Muhammad Usman;Yui-Hong Matthias Tan;Hoon Ryu;...                     \n",
      "4       Neophytos Neophytou;Gerhard Klimeck;Hans Kosina                     \n",
      "...                                                 ...       ...     ...   \n",
      "4159  Prasad Sarangapani{{72949}};Cory Weber{{43431}...                     \n",
      "4160                         Jinseung Yu;Jae-Cheol Ryou                     \n",
      "4161  S. Li{{8687}};Shaikh Ahmed{{9293}};E. Darve{{4...                     \n",
      "4162                                    Anca Arma?s?elu                     \n",
      "4163  T.J. Hacker{{25261}};R. Eigenmann{{13448}};S. ...                     \n",
      "\n",
      "                          cite  ... published format formatted  scope  \\\n",
      "0                1165weber2012  ...         2   None      None  group   \n",
      "1             1564andrawis2015  ...         2   None      None  group   \n",
      "2                 1steiger2011  ...         1             None  group   \n",
      "3                   2usman2011  ...         1             None  group   \n",
      "4               3neophytou2011  ...         1             None  group   \n",
      "...                        ...  ...       ...    ...       ...    ...   \n",
      "4159  sarangapani2018atomistic  ...         1   None      None    hub   \n",
      "4160                            ...         1   None      None    hub   \n",
      "4161                            ...         1   None      None    hub   \n",
      "4162                            ...         1   None      None    hub   \n",
      "4163         hacker2011neeshub  ...         1   None      None    hub   \n",
      "\n",
      "     scope_id custom1 custom2 custom3    custom4  \\\n",
      "0       20184    None    None    None       None   \n",
      "1       20184    None    None    None       None   \n",
      "2       20184               1    J162  J_2011_24   \n",
      "3       20184               2    J156  J_2011_16   \n",
      "4       20184               3    J155  J_2011_15   \n",
      "...       ...     ...     ...     ...        ...   \n",
      "4159        0    None    None    None       None   \n",
      "4160        0    None    None    None       None   \n",
      "4161        0    None    None    None       None   \n",
      "4162        0    None    None    None       None   \n",
      "4163        0    None    None    None       None   \n",
      "\n",
      "                                                pdf_url  \n",
      "0                                                  None  \n",
      "1                                                  None  \n",
      "2                                                  None  \n",
      "3                                                  None  \n",
      "4                                                  None  \n",
      "...                                                 ...  \n",
      "4159  https://nanohub.org/nanoHUBCitations/citmanage...  \n",
      "4160  https://nanohub.org/nanoHUBCitations/citmanage...  \n",
      "4161  https://nanohub.org/nanoHUBCitations/citmanage...  \n",
      "4162  https://nanohub.org/nanoHUBCitations/citmanage...  \n",
      "4163  https://nanohub.org/nanoHUBCitations/citmanage...  \n",
      "\n",
      "[4164 rows x 62 columns]\n"
     ]
    }
   ],
   "source": [
    "sql_query = \"select * from jos_citations\"\n",
    "citations_df = pd.read_sql_query(sql_query, nanohub_db)\n",
    "pprint(citations_df)\n",
    "\n",
    "\n",
    "# sql_query = \"select * from jos_users\"\n",
    "# users = pd.read_sql_query(sql_query, nanohub_db)\n",
    "# pprint(users)"
   ]
  },
  {
   "cell_type": "code",
   "execution_count": 3,
   "id": "8bbaf4e1",
   "metadata": {
    "collapsed": false,
    "execution": {
     "iopub.execute_input": "2021-10-27T18:18:10.654181Z",
     "iopub.status.busy": "2021-10-27T18:18:10.653492Z",
     "iopub.status.idle": "2021-10-27T18:18:10.655485Z",
     "shell.execute_reply": "2021-10-27T18:18:10.655849Z"
    },
    "jupyter": {
     "source_hidden": true
    },
    "papermill": {
     "duration": 0.016639,
     "end_time": "2021-10-27T18:18:10.656023",
     "exception": false,
     "start_time": "2021-10-27T18:18:10.639384",
     "status": "completed"
    },
    "pycharm": {
     "name": "#%%\n"
    },
    "tags": []
   },
   "outputs": [],
   "source": [
    "# sql_query = \"select * from jos_citations_authors;\"\n",
    "# authors_df = pd.read_sql_query(sql_query, nanohub_db)\n",
    "# pprint(authors_df)\n",
    "#\n",
    "# nanohub_db.close()"
   ]
  },
  {
   "cell_type": "code",
   "execution_count": null,
   "id": "7786602b",
   "metadata": {
    "collapsed": false,
    "jupyter": {
     "source_hidden": true
    },
    "papermill": {
     "duration": 0.011342,
     "end_time": "2021-10-27T18:18:10.677777",
     "exception": false,
     "start_time": "2021-10-27T18:18:10.666435",
     "status": "completed"
    },
    "pycharm": {
     "name": "#%%\n"
    },
    "tags": []
   },
   "outputs": [],
   "source": []
  }
 ],
 "metadata": {
  "celltoolbar": "Tags",
  "kernelspec": {
   "display_name": "Python 3 (ipykernel)",
   "language": "python",
   "name": "python3"
  },
  "language_info": {
   "codemirror_mode": {
    "name": "ipython",
    "version": 3
   },
   "file_extension": ".py",
   "mimetype": "text/x-python",
   "name": "python",
   "nbconvert_exporter": "python",
   "pygments_lexer": "ipython3",
   "version": "3.9.7"
  },
  "papermill": {
   "duration": 4.064347,
   "end_time": "2021-10-27T18:18:11.011023",
   "environment_variables": {},
   "exception": null,
   "input_path": "/Users/saxenap/Documents/Dev/nanoHUB/nanoHUB/pipeline/salesforce/_task_test.ipynb",
   "output_path": "./.output/_task_test.ipynb",
   "parameters": {},
   "start_time": "2021-10-27T18:18:06.946676",
   "version": "2.1.1"
  }
 },
 "nbformat": 4,
 "nbformat_minor": 5
}