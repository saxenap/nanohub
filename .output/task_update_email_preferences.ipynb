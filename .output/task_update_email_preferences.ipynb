{
 "cells": [
  {
   "cell_type": "markdown",
   "id": "492f5cde",
   "metadata": {
    "papermill": {
     "duration": 0.031777,
     "end_time": "2021-08-26T04:40:18.245191",
     "exception": false,
     "start_time": "2021-08-26T04:40:18.213414",
     "status": "completed"
    },
    "tags": []
   },
   "source": [
    "# DB2-Salesforce connector: pull in new email flags from DB2"
   ]
  },
  {
   "cell_type": "code",
   "execution_count": 1,
   "id": "35f3de70",
   "metadata": {
    "execution": {
     "iopub.execute_input": "2021-08-26T04:40:18.321278Z",
     "iopub.status.busy": "2021-08-26T04:40:18.320250Z",
     "iopub.status.idle": "2021-08-26T04:40:20.261788Z",
     "shell.execute_reply": "2021-08-26T04:40:20.262647Z"
    },
    "jupyter": {
     "source_hidden": true
    },
    "papermill": {
     "duration": 1.984301,
     "end_time": "2021-08-26T04:40:20.263058",
     "exception": false,
     "start_time": "2021-08-26T04:40:18.278757",
     "status": "completed"
    },
    "tags": []
   },
   "outputs": [
    {
     "name": "stdout",
     "output_type": "stream",
     "text": [
      "\u001b[1mnanoHUB - Serving Students, Researchers & Instructors\u001b[0m\n"
     ]
    },
    {
     "name": "stderr",
     "output_type": "stream",
     "text": [
      "2021-08-26 00:40:19,558| INFO    | 0 keys loaded from agent\n"
     ]
    },
    {
     "name": "stdout",
     "output_type": "stream",
     "text": [
      "2021-08-26 00:40:19,558 - [INFO] sshtunnel.SSHTunnelForwarder [sshtunnel.get_agent_keys:1060]: 0 keys loaded from agent\n"
     ]
    },
    {
     "name": "stderr",
     "output_type": "stream",
     "text": [
      "2021-08-26 00:40:19,561| INFO    | 0 key(s) loaded\n"
     ]
    },
    {
     "name": "stdout",
     "output_type": "stream",
     "text": [
      "2021-08-26 00:40:19,561 - [INFO] sshtunnel.SSHTunnelForwarder [sshtunnel.get_keys:1117]: 0 key(s) loaded\n"
     ]
    },
    {
     "name": "stderr",
     "output_type": "stream",
     "text": [
      "2021-08-26 00:40:19,562| INFO    | Connecting to gateway: db2.nanohub.org:22 as user 'saxenap'\n"
     ]
    },
    {
     "name": "stdout",
     "output_type": "stream",
     "text": [
      "2021-08-26 00:40:19,562 - [INFO] sshtunnel.SSHTunnelForwarder [sshtunnel.__init__:978]: Connecting to gateway: db2.nanohub.org:22 as user 'saxenap'\n"
     ]
    },
    {
     "name": "stdout",
     "output_type": "stream",
     "text": [
      "2021-08-26 00:40:19,564 - [\u001b[1mINFO\u001b[0m] \u001b[1mnanoHUB.containers.dataaccess\u001b[0m [connection.get_connection_for:101]: Started SSH Tunnel with db2.nanohub.org\n"
     ]
    },
    {
     "name": "stderr",
     "output_type": "stream",
     "text": [
      "2021-08-26 00:40:19,880| INFO    | Opening tunnel: 0.0.0.0:54269 <> 127.0.0.1:3306\n"
     ]
    },
    {
     "name": "stdout",
     "output_type": "stream",
     "text": [
      "2021-08-26 00:40:19,880 - [INFO] sshtunnel.SSHTunnelForwarder [sshtunnel._serve_forever_wrapper:1433]: Opening tunnel: 0.0.0.0:54269 <> 127.0.0.1:3306\n"
     ]
    },
    {
     "name": "stdout",
     "output_type": "stream",
     "text": [
      "Obtained Salesforce access token ...... True\n"
     ]
    }
   ],
   "source": [
    "# Parameters\n",
    "# API settings\n",
    "api_url = '/services/data/v43.0/sobjects'\n",
    "external_id = 'nanoHUB_user_ID__c'\n",
    "object_id = 'Contact'\n",
    "\n",
    "# login parameters to be handled by Papermill\n",
    "from nanoHUB.application import Application\n",
    "\n",
    "application = Application.get_instance()\n",
    "nanohub_db = application.new_db_engine('nanohub')\n",
    "\n",
    "salesforce = application.new_salesforce_engine()\n",
    "db_s = salesforce"
   ]
  },
  {
   "cell_type": "code",
   "execution_count": 2,
   "id": "76972983",
   "metadata": {
    "execution": {
     "iopub.execute_input": "2021-08-26T04:40:20.356603Z",
     "iopub.status.busy": "2021-08-26T04:40:20.355826Z",
     "iopub.status.idle": "2021-08-26T04:40:20.357848Z",
     "shell.execute_reply": "2021-08-26T04:40:20.358399Z"
    },
    "jupyter": {
     "source_hidden": true
    },
    "papermill": {
     "duration": 0.044382,
     "end_time": "2021-08-26T04:40:20.358639",
     "exception": false,
     "start_time": "2021-08-26T04:40:20.314257",
     "status": "completed"
    },
    "tags": []
   },
   "outputs": [],
   "source": [
    "import pandas as pd\n",
    "import datetime"
   ]
  },
  {
   "cell_type": "markdown",
   "id": "2a49a7e8",
   "metadata": {
    "papermill": {
     "duration": 0.036916,
     "end_time": "2021-08-26T04:40:20.432902",
     "exception": false,
     "start_time": "2021-08-26T04:40:20.395986",
     "status": "completed"
    },
    "tags": []
   },
   "source": [
    "## Get the latest email opt in/out data from DB2\n"
   ]
  },
  {
   "cell_type": "code",
   "execution_count": 3,
   "id": "33add51a",
   "metadata": {
    "execution": {
     "iopub.execute_input": "2021-08-26T04:40:20.515188Z",
     "iopub.status.busy": "2021-08-26T04:40:20.514529Z",
     "iopub.status.idle": "2021-08-26T04:40:33.950711Z",
     "shell.execute_reply": "2021-08-26T04:40:33.951238Z"
    },
    "jupyter": {
     "source_hidden": true
    },
    "papermill": {
     "duration": 13.480143,
     "end_time": "2021-08-26T04:40:33.951477",
     "exception": false,
     "start_time": "2021-08-26T04:40:20.471334",
     "status": "completed"
    },
    "tags": []
   },
   "outputs": [],
   "source": [
    "# get new preferences for users\n",
    "pcomms = pd.read_sql_query(\"select id, user_id, profile_key, profile_value from jos_user_profiles \\\n",
    "where profile_key in ('personalizedcommunication');\",nanohub_db)#order by rand() limit 50000;\",engine) #and modifiedDate >= '2019-08-08'\n",
    "\n",
    "up_news = pd.read_sql_query(\"select id, user_id, profile_key, profile_value from jos_user_profiles \\\n",
    "where profile_key in ('updates_news');\",nanohub_db) #order by rand() limit 50000;\",engine)"
   ]
  },
  {
   "cell_type": "code",
   "execution_count": 4,
   "id": "b1eb04c1",
   "metadata": {
    "execution": {
     "iopub.execute_input": "2021-08-26T04:40:34.046696Z",
     "iopub.status.busy": "2021-08-26T04:40:34.045503Z",
     "iopub.status.idle": "2021-08-26T04:40:34.070868Z",
     "shell.execute_reply": "2021-08-26T04:40:34.071319Z"
    },
    "jupyter": {
     "source_hidden": true
    },
    "papermill": {
     "duration": 0.080851,
     "end_time": "2021-08-26T04:40:34.071482",
     "exception": false,
     "start_time": "2021-08-26T04:40:33.990631",
     "status": "completed"
    },
    "tags": []
   },
   "outputs": [
    {
     "data": {
      "text/html": [
       "<div>\n",
       "<style scoped>\n",
       "    .dataframe tbody tr th:only-of-type {\n",
       "        vertical-align: middle;\n",
       "    }\n",
       "\n",
       "    .dataframe tbody tr th {\n",
       "        vertical-align: top;\n",
       "    }\n",
       "\n",
       "    .dataframe thead th {\n",
       "        text-align: right;\n",
       "    }\n",
       "</style>\n",
       "<table border=\"1\" class=\"dataframe\">\n",
       "  <thead>\n",
       "    <tr style=\"text-align: right;\">\n",
       "      <th></th>\n",
       "      <th>id</th>\n",
       "      <th>user_id</th>\n",
       "      <th>profile_key</th>\n",
       "      <th>profile_value</th>\n",
       "    </tr>\n",
       "  </thead>\n",
       "  <tbody>\n",
       "    <tr>\n",
       "      <th>0</th>\n",
       "      <td>1524493</td>\n",
       "      <td>998</td>\n",
       "      <td>personalizedcommunication</td>\n",
       "      <td>Yes, I would like to receive personalized comm...</td>\n",
       "    </tr>\n",
       "    <tr>\n",
       "      <th>1</th>\n",
       "      <td>1524495</td>\n",
       "      <td>1000</td>\n",
       "      <td>personalizedcommunication</td>\n",
       "      <td>Yes, I would like to receive personalized comm...</td>\n",
       "    </tr>\n",
       "  </tbody>\n",
       "</table>\n",
       "</div>"
      ],
      "text/plain": [
       "        id  user_id                profile_key  \\\n",
       "0  1524493      998  personalizedcommunication   \n",
       "1  1524495     1000  personalizedcommunication   \n",
       "\n",
       "                                       profile_value  \n",
       "0  Yes, I would like to receive personalized comm...  \n",
       "1  Yes, I would like to receive personalized comm...  "
      ]
     },
     "metadata": {},
     "output_type": "display_data"
    },
    {
     "data": {
      "text/html": [
       "<div>\n",
       "<style scoped>\n",
       "    .dataframe tbody tr th:only-of-type {\n",
       "        vertical-align: middle;\n",
       "    }\n",
       "\n",
       "    .dataframe tbody tr th {\n",
       "        vertical-align: top;\n",
       "    }\n",
       "\n",
       "    .dataframe thead th {\n",
       "        text-align: right;\n",
       "    }\n",
       "</style>\n",
       "<table border=\"1\" class=\"dataframe\">\n",
       "  <thead>\n",
       "    <tr style=\"text-align: right;\">\n",
       "      <th></th>\n",
       "      <th>id</th>\n",
       "      <th>user_id</th>\n",
       "      <th>profile_key</th>\n",
       "      <th>profile_value</th>\n",
       "    </tr>\n",
       "  </thead>\n",
       "  <tbody>\n",
       "    <tr>\n",
       "      <th>244530</th>\n",
       "      <td>2173256</td>\n",
       "      <td>336333</td>\n",
       "      <td>personalizedcommunication</td>\n",
       "      <td>No, I do not want to receive personalized comm...</td>\n",
       "    </tr>\n",
       "    <tr>\n",
       "      <th>244531</th>\n",
       "      <td>2173263</td>\n",
       "      <td>335734</td>\n",
       "      <td>personalizedcommunication</td>\n",
       "      <td>Yes, I would like to receive personalized comm...</td>\n",
       "    </tr>\n",
       "  </tbody>\n",
       "</table>\n",
       "</div>"
      ],
      "text/plain": [
       "             id  user_id                profile_key  \\\n",
       "244530  2173256   336333  personalizedcommunication   \n",
       "244531  2173263   335734  personalizedcommunication   \n",
       "\n",
       "                                            profile_value  \n",
       "244530  No, I do not want to receive personalized comm...  \n",
       "244531  Yes, I would like to receive personalized comm...  "
      ]
     },
     "metadata": {},
     "output_type": "display_data"
    },
    {
     "data": {
      "text/html": [
       "<div>\n",
       "<style scoped>\n",
       "    .dataframe tbody tr th:only-of-type {\n",
       "        vertical-align: middle;\n",
       "    }\n",
       "\n",
       "    .dataframe tbody tr th {\n",
       "        vertical-align: top;\n",
       "    }\n",
       "\n",
       "    .dataframe thead th {\n",
       "        text-align: right;\n",
       "    }\n",
       "</style>\n",
       "<table border=\"1\" class=\"dataframe\">\n",
       "  <thead>\n",
       "    <tr style=\"text-align: right;\">\n",
       "      <th></th>\n",
       "      <th>id</th>\n",
       "      <th>user_id</th>\n",
       "      <th>profile_key</th>\n",
       "      <th>profile_value</th>\n",
       "    </tr>\n",
       "  </thead>\n",
       "  <tbody>\n",
       "    <tr>\n",
       "      <th>0</th>\n",
       "      <td>1524494</td>\n",
       "      <td>998</td>\n",
       "      <td>updates_news</td>\n",
       "      <td>No, I do not want to receive updates and news</td>\n",
       "    </tr>\n",
       "    <tr>\n",
       "      <th>1</th>\n",
       "      <td>1524496</td>\n",
       "      <td>1000</td>\n",
       "      <td>updates_news</td>\n",
       "      <td>No, I do not want to receive updates and news</td>\n",
       "    </tr>\n",
       "  </tbody>\n",
       "</table>\n",
       "</div>"
      ],
      "text/plain": [
       "        id  user_id   profile_key  \\\n",
       "0  1524494      998  updates_news   \n",
       "1  1524496     1000  updates_news   \n",
       "\n",
       "                                   profile_value  \n",
       "0  No, I do not want to receive updates and news  \n",
       "1  No, I do not want to receive updates and news  "
      ]
     },
     "metadata": {},
     "output_type": "display_data"
    },
    {
     "data": {
      "text/html": [
       "<div>\n",
       "<style scoped>\n",
       "    .dataframe tbody tr th:only-of-type {\n",
       "        vertical-align: middle;\n",
       "    }\n",
       "\n",
       "    .dataframe tbody tr th {\n",
       "        vertical-align: top;\n",
       "    }\n",
       "\n",
       "    .dataframe thead th {\n",
       "        text-align: right;\n",
       "    }\n",
       "</style>\n",
       "<table border=\"1\" class=\"dataframe\">\n",
       "  <thead>\n",
       "    <tr style=\"text-align: right;\">\n",
       "      <th></th>\n",
       "      <th>id</th>\n",
       "      <th>user_id</th>\n",
       "      <th>profile_key</th>\n",
       "      <th>profile_value</th>\n",
       "    </tr>\n",
       "  </thead>\n",
       "  <tbody>\n",
       "    <tr>\n",
       "      <th>244486</th>\n",
       "      <td>2173257</td>\n",
       "      <td>336333</td>\n",
       "      <td>updates_news</td>\n",
       "      <td>No, I do not want to receive updates and news</td>\n",
       "    </tr>\n",
       "    <tr>\n",
       "      <th>244487</th>\n",
       "      <td>2173264</td>\n",
       "      <td>335734</td>\n",
       "      <td>updates_news</td>\n",
       "      <td>Yes, I would like to receive updates and news</td>\n",
       "    </tr>\n",
       "  </tbody>\n",
       "</table>\n",
       "</div>"
      ],
      "text/plain": [
       "             id  user_id   profile_key  \\\n",
       "244486  2173257   336333  updates_news   \n",
       "244487  2173264   335734  updates_news   \n",
       "\n",
       "                                        profile_value  \n",
       "244486  No, I do not want to receive updates and news  \n",
       "244487  Yes, I would like to receive updates and news  "
      ]
     },
     "metadata": {},
     "output_type": "display_data"
    }
   ],
   "source": [
    "display(pcomms.head(2))\n",
    "display(pcomms.tail(2))\n",
    "display(up_news.head(2))\n",
    "display(up_news.tail(2))"
   ]
  },
  {
   "cell_type": "code",
   "execution_count": 5,
   "id": "975b64df",
   "metadata": {
    "execution": {
     "iopub.execute_input": "2021-08-26T04:40:34.161524Z",
     "iopub.status.busy": "2021-08-26T04:40:34.160845Z",
     "iopub.status.idle": "2021-08-26T04:40:34.163895Z",
     "shell.execute_reply": "2021-08-26T04:40:34.164340Z"
    },
    "jupyter": {
     "source_hidden": true
    },
    "papermill": {
     "duration": 0.050064,
     "end_time": "2021-08-26T04:40:34.164606",
     "exception": false,
     "start_time": "2021-08-26T04:40:34.114542",
     "status": "completed"
    },
    "tags": []
   },
   "outputs": [
    {
     "name": "stdout",
     "output_type": "stream",
     "text": [
      "(244532, 4)\n",
      "(244488, 4)\n"
     ]
    }
   ],
   "source": [
    "print(pcomms.shape)\n",
    "print(up_news.shape)"
   ]
  },
  {
   "cell_type": "code",
   "execution_count": 6,
   "id": "18008259",
   "metadata": {
    "execution": {
     "iopub.execute_input": "2021-08-26T04:40:34.267636Z",
     "iopub.status.busy": "2021-08-26T04:40:34.266798Z",
     "iopub.status.idle": "2021-08-26T04:40:34.274325Z",
     "shell.execute_reply": "2021-08-26T04:40:34.274740Z"
    },
    "jupyter": {
     "source_hidden": true
    },
    "papermill": {
     "duration": 0.065606,
     "end_time": "2021-08-26T04:40:34.274976",
     "exception": false,
     "start_time": "2021-08-26T04:40:34.209370",
     "status": "completed"
    },
    "tags": []
   },
   "outputs": [
    {
     "data": {
      "text/html": [
       "<div>\n",
       "<style scoped>\n",
       "    .dataframe tbody tr th:only-of-type {\n",
       "        vertical-align: middle;\n",
       "    }\n",
       "\n",
       "    .dataframe tbody tr th {\n",
       "        vertical-align: top;\n",
       "    }\n",
       "\n",
       "    .dataframe thead th {\n",
       "        text-align: right;\n",
       "    }\n",
       "</style>\n",
       "<table border=\"1\" class=\"dataframe\">\n",
       "  <thead>\n",
       "    <tr style=\"text-align: right;\">\n",
       "      <th></th>\n",
       "      <th>user_id</th>\n",
       "      <th>profile_value</th>\n",
       "    </tr>\n",
       "  </thead>\n",
       "  <tbody>\n",
       "    <tr>\n",
       "      <th>0</th>\n",
       "      <td>998</td>\n",
       "      <td>Yes, I would like to receive personalized comm...</td>\n",
       "    </tr>\n",
       "    <tr>\n",
       "      <th>1</th>\n",
       "      <td>1000</td>\n",
       "      <td>Yes, I would like to receive personalized comm...</td>\n",
       "    </tr>\n",
       "  </tbody>\n",
       "</table>\n",
       "</div>"
      ],
      "text/plain": [
       "   user_id                                      profile_value\n",
       "0      998  Yes, I would like to receive personalized comm...\n",
       "1     1000  Yes, I would like to receive personalized comm..."
      ]
     },
     "metadata": {},
     "output_type": "display_data"
    },
    {
     "data": {
      "text/html": [
       "<div>\n",
       "<style scoped>\n",
       "    .dataframe tbody tr th:only-of-type {\n",
       "        vertical-align: middle;\n",
       "    }\n",
       "\n",
       "    .dataframe tbody tr th {\n",
       "        vertical-align: top;\n",
       "    }\n",
       "\n",
       "    .dataframe thead th {\n",
       "        text-align: right;\n",
       "    }\n",
       "</style>\n",
       "<table border=\"1\" class=\"dataframe\">\n",
       "  <thead>\n",
       "    <tr style=\"text-align: right;\">\n",
       "      <th></th>\n",
       "      <th>user_id</th>\n",
       "      <th>profile_value</th>\n",
       "    </tr>\n",
       "  </thead>\n",
       "  <tbody>\n",
       "    <tr>\n",
       "      <th>0</th>\n",
       "      <td>998</td>\n",
       "      <td>No, I do not want to receive updates and news</td>\n",
       "    </tr>\n",
       "    <tr>\n",
       "      <th>1</th>\n",
       "      <td>1000</td>\n",
       "      <td>No, I do not want to receive updates and news</td>\n",
       "    </tr>\n",
       "  </tbody>\n",
       "</table>\n",
       "</div>"
      ],
      "text/plain": [
       "   user_id                                  profile_value\n",
       "0      998  No, I do not want to receive updates and news\n",
       "1     1000  No, I do not want to receive updates and news"
      ]
     },
     "metadata": {},
     "output_type": "display_data"
    }
   ],
   "source": [
    "## adjusting new_email dataframe for the new email optin values \n",
    "# 0 or 1\n",
    "pcomms_t = pcomms[['user_id','profile_value']]\n",
    "up_news_t = up_news[['user_id','profile_value']]\n",
    "\n",
    "display(pcomms_t.head(2))\n",
    "display(up_news_t.head(2))"
   ]
  },
  {
   "cell_type": "code",
   "execution_count": 7,
   "id": "ba726c70",
   "metadata": {
    "execution": {
     "iopub.execute_input": "2021-08-26T04:40:34.475285Z",
     "iopub.status.busy": "2021-08-26T04:40:34.421467Z",
     "iopub.status.idle": "2021-08-26T04:40:34.537584Z",
     "shell.execute_reply": "2021-08-26T04:40:34.537123Z"
    },
    "jupyter": {
     "source_hidden": true
    },
    "papermill": {
     "duration": 0.217176,
     "end_time": "2021-08-26T04:40:34.537762",
     "exception": false,
     "start_time": "2021-08-26T04:40:34.320586",
     "status": "completed"
    },
    "tags": []
   },
   "outputs": [
    {
     "name": "stderr",
     "output_type": "stream",
     "text": [
      "2021-08-26 00:40:34,528| WARNING | /Users/saxenap/.virtualenvs/nanohub/lib/python3.8/site-packages/pandas/core/indexing.py:1773: SettingWithCopyWarning: \n",
      "A value is trying to be set on a copy of a slice from a DataFrame.\n",
      "Try using .loc[row_indexer,col_indexer] = value instead\n",
      "\n",
      "See the caveats in the documentation: https://pandas.pydata.org/pandas-docs/stable/user_guide/indexing.html#returning-a-view-versus-a-copy\n",
      "  self._setitem_single_column(ilocs[0], value, pi)\n",
      "\n"
     ]
    },
    {
     "name": "stderr",
     "output_type": "stream",
     "text": [
      "2021-08-26 00:40:34,528| WARNING | /Users/saxenap/.virtualenvs/nanohub/lib/python3.8/site-packages/pandas/core/indexing.py:1773: SettingWithCopyWarning: \n",
      "A value is trying to be set on a copy of a slice from a DataFrame.\n",
      "Try using .loc[row_indexer,col_indexer] = value instead\n",
      "\n",
      "See the caveats in the documentation: https://pandas.pydata.org/pandas-docs/stable/user_guide/indexing.html#returning-a-view-versus-a-copy\n",
      "  self._setitem_single_column(ilocs[0], value, pi)\n",
      "\n"
     ]
    },
    {
     "name": "stdout",
     "output_type": "stream",
     "text": [
      "2021-08-26 00:40:34,528 - [WARNING] py.warnings [warnings._showwarnmsg:109]: /Users/saxenap/.virtualenvs/nanohub/lib/python3.8/site-packages/pandas/core/indexing.py:1773: SettingWithCopyWarning: \n",
      "A value is trying to be set on a copy of a slice from a DataFrame.\n",
      "Try using .loc[row_indexer,col_indexer] = value instead\n",
      "\n",
      "See the caveats in the documentation: https://pandas.pydata.org/pandas-docs/stable/user_guide/indexing.html#returning-a-view-versus-a-copy\n",
      "  self._setitem_single_column(ilocs[0], value, pi)\n",
      "\n"
     ]
    }
   ],
   "source": [
    "## filtering pcomms_t with 0 or 1\n",
    "ptt = pcomms_t['profile_value'].to_list()\n",
    "\n",
    "for index, val in enumerate(ptt):\n",
    "    val = val.split(',')[0]\n",
    "    if val == 'Yes':\n",
    "        ptt[index] = 1 # 1 indicates opt-in\n",
    "    else:\n",
    "        ptt[index] = 0 # 1 indicates opt-out\n",
    "\n",
    "pcomms_t.loc[:,'profile_value'] = ptt\n"
   ]
  },
  {
   "cell_type": "code",
   "execution_count": 8,
   "id": "7bff7967",
   "metadata": {
    "execution": {
     "iopub.execute_input": "2021-08-26T04:40:34.651426Z",
     "iopub.status.busy": "2021-08-26T04:40:34.650838Z",
     "iopub.status.idle": "2021-08-26T04:40:34.784889Z",
     "shell.execute_reply": "2021-08-26T04:40:34.785409Z"
    },
    "jupyter": {
     "source_hidden": true
    },
    "papermill": {
     "duration": 0.199246,
     "end_time": "2021-08-26T04:40:34.785718",
     "exception": false,
     "start_time": "2021-08-26T04:40:34.586472",
     "status": "completed"
    },
    "tags": []
   },
   "outputs": [],
   "source": [
    "## filtering up news t with 0 or 1\n",
    "untt = up_news_t['profile_value'].to_list()\n",
    "\n",
    "for index, val in enumerate(untt):\n",
    "    val = val.split(',')[0]\n",
    "    if val == 'Yes':\n",
    "        untt[index] = 1 # 1 indicates opt-in\n",
    "    else:\n",
    "        untt[index] = 0 # 1 indicates opt-out\n",
    "\n",
    "up_news_t.loc[:,'profile_value'] = untt\n"
   ]
  },
  {
   "cell_type": "code",
   "execution_count": 9,
   "id": "bb33ab21",
   "metadata": {
    "execution": {
     "iopub.execute_input": "2021-08-26T04:40:34.889566Z",
     "iopub.status.busy": "2021-08-26T04:40:34.888869Z",
     "iopub.status.idle": "2021-08-26T04:40:34.902932Z",
     "shell.execute_reply": "2021-08-26T04:40:34.903450Z"
    },
    "jupyter": {
     "source_hidden": true
    },
    "papermill": {
     "duration": 0.068699,
     "end_time": "2021-08-26T04:40:34.903696",
     "exception": false,
     "start_time": "2021-08-26T04:40:34.834997",
     "status": "completed"
    },
    "tags": []
   },
   "outputs": [
    {
     "data": {
      "text/html": [
       "<div>\n",
       "<style scoped>\n",
       "    .dataframe tbody tr th:only-of-type {\n",
       "        vertical-align: middle;\n",
       "    }\n",
       "\n",
       "    .dataframe tbody tr th {\n",
       "        vertical-align: top;\n",
       "    }\n",
       "\n",
       "    .dataframe thead th {\n",
       "        text-align: right;\n",
       "    }\n",
       "</style>\n",
       "<table border=\"1\" class=\"dataframe\">\n",
       "  <thead>\n",
       "    <tr style=\"text-align: right;\">\n",
       "      <th></th>\n",
       "      <th>user_id</th>\n",
       "      <th>profile_value</th>\n",
       "    </tr>\n",
       "  </thead>\n",
       "  <tbody>\n",
       "    <tr>\n",
       "      <th>0</th>\n",
       "      <td>998</td>\n",
       "      <td>1</td>\n",
       "    </tr>\n",
       "    <tr>\n",
       "      <th>1</th>\n",
       "      <td>1000</td>\n",
       "      <td>1</td>\n",
       "    </tr>\n",
       "  </tbody>\n",
       "</table>\n",
       "</div>"
      ],
      "text/plain": [
       "   user_id  profile_value\n",
       "0      998              1\n",
       "1     1000              1"
      ]
     },
     "metadata": {},
     "output_type": "display_data"
    },
    {
     "data": {
      "text/html": [
       "<div>\n",
       "<style scoped>\n",
       "    .dataframe tbody tr th:only-of-type {\n",
       "        vertical-align: middle;\n",
       "    }\n",
       "\n",
       "    .dataframe tbody tr th {\n",
       "        vertical-align: top;\n",
       "    }\n",
       "\n",
       "    .dataframe thead th {\n",
       "        text-align: right;\n",
       "    }\n",
       "</style>\n",
       "<table border=\"1\" class=\"dataframe\">\n",
       "  <thead>\n",
       "    <tr style=\"text-align: right;\">\n",
       "      <th></th>\n",
       "      <th>user_id</th>\n",
       "      <th>profile_value</th>\n",
       "    </tr>\n",
       "  </thead>\n",
       "  <tbody>\n",
       "    <tr>\n",
       "      <th>244530</th>\n",
       "      <td>336333</td>\n",
       "      <td>0</td>\n",
       "    </tr>\n",
       "    <tr>\n",
       "      <th>244531</th>\n",
       "      <td>335734</td>\n",
       "      <td>1</td>\n",
       "    </tr>\n",
       "  </tbody>\n",
       "</table>\n",
       "</div>"
      ],
      "text/plain": [
       "        user_id  profile_value\n",
       "244530   336333              0\n",
       "244531   335734              1"
      ]
     },
     "metadata": {},
     "output_type": "display_data"
    },
    {
     "data": {
      "text/html": [
       "<div>\n",
       "<style scoped>\n",
       "    .dataframe tbody tr th:only-of-type {\n",
       "        vertical-align: middle;\n",
       "    }\n",
       "\n",
       "    .dataframe tbody tr th {\n",
       "        vertical-align: top;\n",
       "    }\n",
       "\n",
       "    .dataframe thead th {\n",
       "        text-align: right;\n",
       "    }\n",
       "</style>\n",
       "<table border=\"1\" class=\"dataframe\">\n",
       "  <thead>\n",
       "    <tr style=\"text-align: right;\">\n",
       "      <th></th>\n",
       "      <th>user_id</th>\n",
       "      <th>profile_value</th>\n",
       "    </tr>\n",
       "  </thead>\n",
       "  <tbody>\n",
       "    <tr>\n",
       "      <th>0</th>\n",
       "      <td>998</td>\n",
       "      <td>0</td>\n",
       "    </tr>\n",
       "    <tr>\n",
       "      <th>1</th>\n",
       "      <td>1000</td>\n",
       "      <td>0</td>\n",
       "    </tr>\n",
       "  </tbody>\n",
       "</table>\n",
       "</div>"
      ],
      "text/plain": [
       "   user_id  profile_value\n",
       "0      998              0\n",
       "1     1000              0"
      ]
     },
     "metadata": {},
     "output_type": "display_data"
    },
    {
     "data": {
      "text/html": [
       "<div>\n",
       "<style scoped>\n",
       "    .dataframe tbody tr th:only-of-type {\n",
       "        vertical-align: middle;\n",
       "    }\n",
       "\n",
       "    .dataframe tbody tr th {\n",
       "        vertical-align: top;\n",
       "    }\n",
       "\n",
       "    .dataframe thead th {\n",
       "        text-align: right;\n",
       "    }\n",
       "</style>\n",
       "<table border=\"1\" class=\"dataframe\">\n",
       "  <thead>\n",
       "    <tr style=\"text-align: right;\">\n",
       "      <th></th>\n",
       "      <th>user_id</th>\n",
       "      <th>profile_value</th>\n",
       "    </tr>\n",
       "  </thead>\n",
       "  <tbody>\n",
       "    <tr>\n",
       "      <th>244486</th>\n",
       "      <td>336333</td>\n",
       "      <td>0</td>\n",
       "    </tr>\n",
       "    <tr>\n",
       "      <th>244487</th>\n",
       "      <td>335734</td>\n",
       "      <td>1</td>\n",
       "    </tr>\n",
       "  </tbody>\n",
       "</table>\n",
       "</div>"
      ],
      "text/plain": [
       "        user_id  profile_value\n",
       "244486   336333              0\n",
       "244487   335734              1"
      ]
     },
     "metadata": {},
     "output_type": "display_data"
    }
   ],
   "source": [
    "## display\n",
    "display(pcomms_t.head(2))\n",
    "display(pcomms_t.tail(2))\n",
    "display(up_news_t.head(2))\n",
    "display(up_news_t.tail(2))"
   ]
  },
  {
   "cell_type": "code",
   "execution_count": 10,
   "id": "bc015b6d",
   "metadata": {
    "execution": {
     "iopub.execute_input": "2021-08-26T04:40:35.021038Z",
     "iopub.status.busy": "2021-08-26T04:40:35.014543Z",
     "iopub.status.idle": "2021-08-26T04:40:35.036805Z",
     "shell.execute_reply": "2021-08-26T04:40:35.036209Z"
    },
    "jupyter": {
     "source_hidden": true
    },
    "papermill": {
     "duration": 0.080986,
     "end_time": "2021-08-26T04:40:35.037224",
     "exception": false,
     "start_time": "2021-08-26T04:40:34.956238",
     "status": "completed"
    },
    "tags": []
   },
   "outputs": [],
   "source": [
    "## create new dataframe\n",
    "new_opts = pd.DataFrame()\n",
    "\n",
    "new_opts['nanoHUB_user_ID__c'] = pcomms_t['user_id']\n",
    "new_opts['personalizedcommunication__c'] = pcomms_t['profile_value']\n",
    "new_opts['updatesnews__c'] = up_news_t['profile_value']\n"
   ]
  },
  {
   "cell_type": "code",
   "execution_count": 11,
   "id": "c3af1719",
   "metadata": {
    "execution": {
     "iopub.execute_input": "2021-08-26T04:40:35.151419Z",
     "iopub.status.busy": "2021-08-26T04:40:35.150618Z",
     "iopub.status.idle": "2021-08-26T04:40:35.157782Z",
     "shell.execute_reply": "2021-08-26T04:40:35.157293Z"
    },
    "jupyter": {
     "source_hidden": true
    },
    "papermill": {
     "duration": 0.066795,
     "end_time": "2021-08-26T04:40:35.158036",
     "exception": false,
     "start_time": "2021-08-26T04:40:35.091241",
     "status": "completed"
    },
    "tags": []
   },
   "outputs": [
    {
     "data": {
      "text/html": [
       "<div>\n",
       "<style scoped>\n",
       "    .dataframe tbody tr th:only-of-type {\n",
       "        vertical-align: middle;\n",
       "    }\n",
       "\n",
       "    .dataframe tbody tr th {\n",
       "        vertical-align: top;\n",
       "    }\n",
       "\n",
       "    .dataframe thead th {\n",
       "        text-align: right;\n",
       "    }\n",
       "</style>\n",
       "<table border=\"1\" class=\"dataframe\">\n",
       "  <thead>\n",
       "    <tr style=\"text-align: right;\">\n",
       "      <th></th>\n",
       "      <th>nanoHUB_user_ID__c</th>\n",
       "      <th>personalizedcommunication__c</th>\n",
       "      <th>updatesnews__c</th>\n",
       "    </tr>\n",
       "  </thead>\n",
       "  <tbody>\n",
       "    <tr>\n",
       "      <th>0</th>\n",
       "      <td>998</td>\n",
       "      <td>1</td>\n",
       "      <td>0.0</td>\n",
       "    </tr>\n",
       "    <tr>\n",
       "      <th>1</th>\n",
       "      <td>1000</td>\n",
       "      <td>1</td>\n",
       "      <td>0.0</td>\n",
       "    </tr>\n",
       "  </tbody>\n",
       "</table>\n",
       "</div>"
      ],
      "text/plain": [
       "   nanoHUB_user_ID__c  personalizedcommunication__c  updatesnews__c\n",
       "0                 998                             1             0.0\n",
       "1                1000                             1             0.0"
      ]
     },
     "metadata": {},
     "output_type": "display_data"
    },
    {
     "name": "stdout",
     "output_type": "stream",
     "text": [
      "<class 'pandas.core.frame.DataFrame'>\n"
     ]
    }
   ],
   "source": [
    "display(new_opts.head(2))\n",
    "print(type(new_opts))"
   ]
  },
  {
   "cell_type": "markdown",
   "id": "8929742c",
   "metadata": {
    "papermill": {
     "duration": 0.053902,
     "end_time": "2021-08-26T04:40:35.266383",
     "exception": false,
     "start_time": "2021-08-26T04:40:35.212481",
     "status": "completed"
    },
    "tags": []
   },
   "source": [
    "## Send to SF"
   ]
  },
  {
   "cell_type": "code",
   "execution_count": null,
   "id": "769adb9b",
   "metadata": {
    "execution": {
     "iopub.execute_input": "2021-01-21T08:30:15.328818Z",
     "iopub.status.busy": "2021-01-21T08:30:15.328272Z",
     "iopub.status.idle": "2021-01-21T08:30:15.648178Z",
     "shell.execute_reply": "2021-01-21T08:30:15.647746Z"
    },
    "jupyter": {
     "source_hidden": true
    },
    "papermill": {
     "duration": 0.053263,
     "end_time": "2021-08-26T04:40:35.377450",
     "exception": false,
     "start_time": "2021-08-26T04:40:35.324187",
     "status": "completed"
    },
    "tags": []
   },
   "outputs": [],
   "source": []
  },
  {
   "cell_type": "code",
   "execution_count": 12,
   "id": "1def16e5",
   "metadata": {
    "execution": {
     "iopub.execute_input": "2021-08-26T04:40:35.503026Z",
     "iopub.status.busy": "2021-08-26T04:40:35.502090Z",
     "iopub.status.idle": "2021-08-26T04:40:41.723928Z",
     "shell.execute_reply": "2021-08-26T04:40:41.724324Z"
    },
    "jupyter": {
     "source_hidden": true
    },
    "papermill": {
     "duration": 6.284958,
     "end_time": "2021-08-26T04:40:41.724493",
     "exception": false,
     "start_time": "2021-08-26T04:40:35.439535",
     "status": "completed"
    },
    "tags": []
   },
   "outputs": [
    {
     "name": "stdout",
     "output_type": "stream",
     "text": [
      "[Success] Bulk job creation successful. Job ID = 7505w00000ZJL5tAAH\n",
      "hello\n"
     ]
    },
    {
     "name": "stdout",
     "output_type": "stream",
     "text": [
      "[Success] CSV upload successful. Job ID = 7505w00000ZJL5tAAH\n"
     ]
    },
    {
     "name": "stdout",
     "output_type": "stream",
     "text": [
      "[Success] Closing job successful. Job ID = 7505w00000ZJL5tAAH\n"
     ]
    }
   ],
   "source": [
    "db_s.object_id = object_id\n",
    "db_s.external_id = external_id\n",
    "\n",
    "# send data to Salesforce\n",
    "db_s.send_data(new_opts)\n"
   ]
  },
  {
   "cell_type": "code",
   "execution_count": 13,
   "id": "0c9078b0",
   "metadata": {
    "execution": {
     "iopub.execute_input": "2021-08-26T04:40:41.883451Z",
     "iopub.status.busy": "2021-08-26T04:40:41.882469Z",
     "iopub.status.idle": "2021-08-26T04:40:42.192435Z",
     "shell.execute_reply": "2021-08-26T04:40:42.193214Z"
    },
    "jupyter": {
     "source_hidden": true
    },
    "papermill": {
     "duration": 0.393689,
     "end_time": "2021-08-26T04:40:42.193532",
     "exception": false,
     "start_time": "2021-08-26T04:40:41.799843",
     "status": "completed"
    },
    "tags": []
   },
   "outputs": [
    {
     "data": {
      "text/plain": [
       "{'id': '7505w00000ZJL5tAAH',\n",
       " 'operation': 'upsert',\n",
       " 'object': 'Contact',\n",
       " 'createdById': '0055w00000DM5bOAAT',\n",
       " 'createdDate': '2021-08-26T04:40:35.000+0000',\n",
       " 'systemModstamp': '2021-08-26T04:40:41.000+0000',\n",
       " 'state': 'UploadComplete',\n",
       " 'externalIdFieldName': 'nanoHUB_user_ID__c',\n",
       " 'concurrencyMode': 'Parallel',\n",
       " 'contentType': 'CSV',\n",
       " 'apiVersion': 47.0,\n",
       " 'jobType': 'V2Ingest',\n",
       " 'lineEnding': 'LF',\n",
       " 'columnDelimiter': 'COMMA',\n",
       " 'numberRecordsProcessed': 0,\n",
       " 'numberRecordsFailed': 0,\n",
       " 'retries': 0,\n",
       " 'totalProcessingTime': 0,\n",
       " 'apiActiveProcessingTime': 0,\n",
       " 'apexProcessingTime': 0}"
      ]
     },
     "execution_count": 13,
     "metadata": {},
     "output_type": "execute_result"
    }
   ],
   "source": [
    "# check status\n",
    "db_s.check_bulk_status()"
   ]
  },
  {
   "cell_type": "code",
   "execution_count": 14,
   "id": "c285995f",
   "metadata": {
    "execution": {
     "iopub.execute_input": "2021-08-26T04:40:42.316279Z",
     "iopub.status.busy": "2021-08-26T04:40:42.315582Z",
     "iopub.status.idle": "2021-08-26T04:40:42.526522Z",
     "shell.execute_reply": "2021-08-26T04:40:42.527015Z"
    },
    "jupyter": {
     "source_hidden": true
    },
    "papermill": {
     "duration": 0.273151,
     "end_time": "2021-08-26T04:40:42.527216",
     "exception": false,
     "start_time": "2021-08-26T04:40:42.254065",
     "status": "completed"
    },
    "tags": []
   },
   "outputs": [
    {
     "name": "stdout",
     "output_type": "stream",
     "text": [
      "''\n"
     ]
    }
   ],
   "source": [
    "# check status\n",
    "from pprint import pprint\n",
    "\n",
    "pprint(db_s.check_bulk_failed_results())"
   ]
  },
  {
   "cell_type": "code",
   "execution_count": null,
   "id": "fd2e9063",
   "metadata": {
    "jupyter": {
     "source_hidden": true
    },
    "papermill": {
     "duration": 0.071659,
     "end_time": "2021-08-26T04:40:42.663721",
     "exception": false,
     "start_time": "2021-08-26T04:40:42.592062",
     "status": "completed"
    },
    "tags": []
   },
   "outputs": [],
   "source": []
  }
 ],
 "metadata": {
  "kernelspec": {
   "display_name": "Python 3",
   "language": "python",
   "name": "python3"
  },
  "language_info": {
   "codemirror_mode": {
    "name": "ipython",
    "version": 3
   },
   "file_extension": ".py",
   "mimetype": "text/x-python",
   "name": "python",
   "nbconvert_exporter": "python",
   "pygments_lexer": "ipython3",
   "version": "3.8.2"
  },
  "papermill": {
   "duration": 25.841861,
   "end_time": "2021-08-26T04:40:43.056389",
   "environment_variables": {},
   "exception": null,
   "input_path": "nanoHUB/pipeline/salesforce/task_update_email_preferences.ipynb",
   "output_path": "./.output/task_update_email_preferences.ipynb",
   "parameters": {},
   "start_time": "2021-08-26T04:40:17.214528",
   "version": "2.1.1"
  }
 },
 "nbformat": 4,
 "nbformat_minor": 5
}