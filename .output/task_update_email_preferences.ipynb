{
 "cells": [
  {
   "cell_type": "markdown",
   "id": "3199c5e7",
   "metadata": {
    "papermill": {
     "duration": 0.036636,
     "end_time": "2021-10-22T11:54:51.496073",
     "exception": false,
     "start_time": "2021-10-22T11:54:51.459437",
     "status": "completed"
    },
    "tags": []
   },
   "source": [
    "# DB2-Salesforce connector: pull in new email flags from DB2"
   ]
  },
  {
   "cell_type": "code",
   "execution_count": 1,
   "id": "ef38185d",
   "metadata": {
    "execution": {
     "iopub.execute_input": "2021-10-22T11:54:51.571514Z",
     "iopub.status.busy": "2021-10-22T11:54:51.570931Z",
     "iopub.status.idle": "2021-10-22T11:54:53.294234Z",
     "shell.execute_reply": "2021-10-22T11:54:53.295403Z"
    },
    "jupyter": {
     "source_hidden": true
    },
    "papermill": {
     "duration": 1.767183,
     "end_time": "2021-10-22T11:54:53.295959",
     "exception": false,
     "start_time": "2021-10-22T11:54:51.528776",
     "status": "completed"
    },
    "tags": []
   },
   "outputs": [
    {
     "name": "stdout",
     "output_type": "stream",
     "text": [
      "\u001b[1mnanoHUB - Serving Students, Researchers & Instructors\u001b[0m\n"
     ]
    },
    {
     "name": "stdout",
     "output_type": "stream",
     "text": [
      "Obtained Salesforce access token ...... True\n"
     ]
    }
   ],
   "source": [
    "# Parameters\n",
    "# API settings\n",
    "api_url = '/services/data/v43.0/sobjects'\n",
    "external_id = 'nanoHUB_user_ID__c'\n",
    "object_id = 'Contact'\n",
    "\n",
    "# login parameters to be handled by Papermill\n",
    "from nanoHUB.application import Application\n",
    "\n",
    "application = Application.get_instance()\n",
    "nanohub_db = application.new_db_engine('nanohub')\n",
    "\n",
    "salesforce = application.new_salesforce_engine()\n",
    "db_s = salesforce"
   ]
  },
  {
   "cell_type": "code",
   "execution_count": 2,
   "id": "029ef99a",
   "metadata": {
    "execution": {
     "iopub.execute_input": "2021-10-22T11:54:53.376680Z",
     "iopub.status.busy": "2021-10-22T11:54:53.375599Z",
     "iopub.status.idle": "2021-10-22T11:54:53.377502Z",
     "shell.execute_reply": "2021-10-22T11:54:53.378029Z"
    },
    "jupyter": {
     "source_hidden": true
    },
    "papermill": {
     "duration": 0.037993,
     "end_time": "2021-10-22T11:54:53.378261",
     "exception": false,
     "start_time": "2021-10-22T11:54:53.340268",
     "status": "completed"
    },
    "tags": []
   },
   "outputs": [],
   "source": [
    "import pandas as pd\n",
    "import datetime"
   ]
  },
  {
   "cell_type": "markdown",
   "id": "be60cc0d",
   "metadata": {
    "papermill": {
     "duration": 0.031135,
     "end_time": "2021-10-22T11:54:53.440731",
     "exception": false,
     "start_time": "2021-10-22T11:54:53.409596",
     "status": "completed"
    },
    "tags": []
   },
   "source": [
    "## Get the latest email opt in/out data from DB2\n"
   ]
  },
  {
   "cell_type": "code",
   "execution_count": 3,
   "id": "915837be",
   "metadata": {
    "execution": {
     "iopub.execute_input": "2021-10-22T11:54:53.510613Z",
     "iopub.status.busy": "2021-10-22T11:54:53.509924Z",
     "iopub.status.idle": "2021-10-22T11:55:05.147971Z",
     "shell.execute_reply": "2021-10-22T11:55:05.148362Z"
    },
    "jupyter": {
     "source_hidden": true
    },
    "papermill": {
     "duration": 11.677031,
     "end_time": "2021-10-22T11:55:05.148632",
     "exception": false,
     "start_time": "2021-10-22T11:54:53.471601",
     "status": "completed"
    },
    "tags": []
   },
   "outputs": [],
   "source": [
    "# get new preferences for users\n",
    "pcomms = pd.read_sql_query(\"select id, user_id, profile_key, profile_value from jos_user_profiles \\\n",
    "where profile_key in ('personalizedcommunication');\",nanohub_db)#order by rand() limit 50000;\",engine) #and modifiedDate >= '2019-08-08'\n",
    "\n",
    "up_news = pd.read_sql_query(\"select id, user_id, profile_key, profile_value from jos_user_profiles \\\n",
    "where profile_key in ('updates_news');\",nanohub_db) #order by rand() limit 50000;\",engine)"
   ]
  },
  {
   "cell_type": "code",
   "execution_count": 4,
   "id": "7728be59",
   "metadata": {
    "execution": {
     "iopub.execute_input": "2021-10-22T11:55:05.221153Z",
     "iopub.status.busy": "2021-10-22T11:55:05.220595Z",
     "iopub.status.idle": "2021-10-22T11:55:05.236366Z",
     "shell.execute_reply": "2021-10-22T11:55:05.236861Z"
    },
    "jupyter": {
     "source_hidden": true
    },
    "papermill": {
     "duration": 0.060523,
     "end_time": "2021-10-22T11:55:05.237110",
     "exception": false,
     "start_time": "2021-10-22T11:55:05.176587",
     "status": "completed"
    },
    "tags": []
   },
   "outputs": [
    {
     "data": {
      "text/html": [
       "<div>\n",
       "<style scoped>\n",
       "    .dataframe tbody tr th:only-of-type {\n",
       "        vertical-align: middle;\n",
       "    }\n",
       "\n",
       "    .dataframe tbody tr th {\n",
       "        vertical-align: top;\n",
       "    }\n",
       "\n",
       "    .dataframe thead th {\n",
       "        text-align: right;\n",
       "    }\n",
       "</style>\n",
       "<table border=\"1\" class=\"dataframe\">\n",
       "  <thead>\n",
       "    <tr style=\"text-align: right;\">\n",
       "      <th></th>\n",
       "      <th>id</th>\n",
       "      <th>user_id</th>\n",
       "      <th>profile_key</th>\n",
       "      <th>profile_value</th>\n",
       "    </tr>\n",
       "  </thead>\n",
       "  <tbody>\n",
       "    <tr>\n",
       "      <th>0</th>\n",
       "      <td>1524493</td>\n",
       "      <td>998</td>\n",
       "      <td>personalizedcommunication</td>\n",
       "      <td>Yes, I would like to receive personalized comm...</td>\n",
       "    </tr>\n",
       "    <tr>\n",
       "      <th>1</th>\n",
       "      <td>1524495</td>\n",
       "      <td>1000</td>\n",
       "      <td>personalizedcommunication</td>\n",
       "      <td>Yes, I would like to receive personalized comm...</td>\n",
       "    </tr>\n",
       "  </tbody>\n",
       "</table>\n",
       "</div>"
      ],
      "text/plain": [
       "        id  user_id                profile_key  \\\n",
       "0  1524493      998  personalizedcommunication   \n",
       "1  1524495     1000  personalizedcommunication   \n",
       "\n",
       "                                       profile_value  \n",
       "0  Yes, I would like to receive personalized comm...  \n",
       "1  Yes, I would like to receive personalized comm...  "
      ]
     },
     "metadata": {},
     "output_type": "display_data"
    },
    {
     "data": {
      "text/html": [
       "<div>\n",
       "<style scoped>\n",
       "    .dataframe tbody tr th:only-of-type {\n",
       "        vertical-align: middle;\n",
       "    }\n",
       "\n",
       "    .dataframe tbody tr th {\n",
       "        vertical-align: top;\n",
       "    }\n",
       "\n",
       "    .dataframe thead th {\n",
       "        text-align: right;\n",
       "    }\n",
       "</style>\n",
       "<table border=\"1\" class=\"dataframe\">\n",
       "  <thead>\n",
       "    <tr style=\"text-align: right;\">\n",
       "      <th></th>\n",
       "      <th>id</th>\n",
       "      <th>user_id</th>\n",
       "      <th>profile_key</th>\n",
       "      <th>profile_value</th>\n",
       "    </tr>\n",
       "  </thead>\n",
       "  <tbody>\n",
       "    <tr>\n",
       "      <th>248960</th>\n",
       "      <td>2206250</td>\n",
       "      <td>342957</td>\n",
       "      <td>personalizedcommunication</td>\n",
       "      <td>Yes, I would like to receive personalized comm...</td>\n",
       "    </tr>\n",
       "    <tr>\n",
       "      <th>248961</th>\n",
       "      <td>2206256</td>\n",
       "      <td>342958</td>\n",
       "      <td>personalizedcommunication</td>\n",
       "      <td>Yes, I would like to receive personalized comm...</td>\n",
       "    </tr>\n",
       "  </tbody>\n",
       "</table>\n",
       "</div>"
      ],
      "text/plain": [
       "             id  user_id                profile_key  \\\n",
       "248960  2206250   342957  personalizedcommunication   \n",
       "248961  2206256   342958  personalizedcommunication   \n",
       "\n",
       "                                            profile_value  \n",
       "248960  Yes, I would like to receive personalized comm...  \n",
       "248961  Yes, I would like to receive personalized comm...  "
      ]
     },
     "metadata": {},
     "output_type": "display_data"
    },
    {
     "data": {
      "text/html": [
       "<div>\n",
       "<style scoped>\n",
       "    .dataframe tbody tr th:only-of-type {\n",
       "        vertical-align: middle;\n",
       "    }\n",
       "\n",
       "    .dataframe tbody tr th {\n",
       "        vertical-align: top;\n",
       "    }\n",
       "\n",
       "    .dataframe thead th {\n",
       "        text-align: right;\n",
       "    }\n",
       "</style>\n",
       "<table border=\"1\" class=\"dataframe\">\n",
       "  <thead>\n",
       "    <tr style=\"text-align: right;\">\n",
       "      <th></th>\n",
       "      <th>id</th>\n",
       "      <th>user_id</th>\n",
       "      <th>profile_key</th>\n",
       "      <th>profile_value</th>\n",
       "    </tr>\n",
       "  </thead>\n",
       "  <tbody>\n",
       "    <tr>\n",
       "      <th>0</th>\n",
       "      <td>1524494</td>\n",
       "      <td>998</td>\n",
       "      <td>updates_news</td>\n",
       "      <td>No, I do not want to receive updates and news</td>\n",
       "    </tr>\n",
       "    <tr>\n",
       "      <th>1</th>\n",
       "      <td>1524496</td>\n",
       "      <td>1000</td>\n",
       "      <td>updates_news</td>\n",
       "      <td>No, I do not want to receive updates and news</td>\n",
       "    </tr>\n",
       "  </tbody>\n",
       "</table>\n",
       "</div>"
      ],
      "text/plain": [
       "        id  user_id   profile_key  \\\n",
       "0  1524494      998  updates_news   \n",
       "1  1524496     1000  updates_news   \n",
       "\n",
       "                                   profile_value  \n",
       "0  No, I do not want to receive updates and news  \n",
       "1  No, I do not want to receive updates and news  "
      ]
     },
     "metadata": {},
     "output_type": "display_data"
    },
    {
     "data": {
      "text/html": [
       "<div>\n",
       "<style scoped>\n",
       "    .dataframe tbody tr th:only-of-type {\n",
       "        vertical-align: middle;\n",
       "    }\n",
       "\n",
       "    .dataframe tbody tr th {\n",
       "        vertical-align: top;\n",
       "    }\n",
       "\n",
       "    .dataframe thead th {\n",
       "        text-align: right;\n",
       "    }\n",
       "</style>\n",
       "<table border=\"1\" class=\"dataframe\">\n",
       "  <thead>\n",
       "    <tr style=\"text-align: right;\">\n",
       "      <th></th>\n",
       "      <th>id</th>\n",
       "      <th>user_id</th>\n",
       "      <th>profile_key</th>\n",
       "      <th>profile_value</th>\n",
       "    </tr>\n",
       "  </thead>\n",
       "  <tbody>\n",
       "    <tr>\n",
       "      <th>248916</th>\n",
       "      <td>2206251</td>\n",
       "      <td>342957</td>\n",
       "      <td>updates_news</td>\n",
       "      <td>Yes, I would like to receive updates and news</td>\n",
       "    </tr>\n",
       "    <tr>\n",
       "      <th>248917</th>\n",
       "      <td>2206257</td>\n",
       "      <td>342958</td>\n",
       "      <td>updates_news</td>\n",
       "      <td>Yes, I would like to receive updates and news</td>\n",
       "    </tr>\n",
       "  </tbody>\n",
       "</table>\n",
       "</div>"
      ],
      "text/plain": [
       "             id  user_id   profile_key  \\\n",
       "248916  2206251   342957  updates_news   \n",
       "248917  2206257   342958  updates_news   \n",
       "\n",
       "                                        profile_value  \n",
       "248916  Yes, I would like to receive updates and news  \n",
       "248917  Yes, I would like to receive updates and news  "
      ]
     },
     "metadata": {},
     "output_type": "display_data"
    }
   ],
   "source": [
    "display(pcomms.head(2))\n",
    "display(pcomms.tail(2))\n",
    "display(up_news.head(2))\n",
    "display(up_news.tail(2))"
   ]
  },
  {
   "cell_type": "code",
   "execution_count": 5,
   "id": "e47963cc",
   "metadata": {
    "execution": {
     "iopub.execute_input": "2021-10-22T11:55:05.313474Z",
     "iopub.status.busy": "2021-10-22T11:55:05.312535Z",
     "iopub.status.idle": "2021-10-22T11:55:05.315150Z",
     "shell.execute_reply": "2021-10-22T11:55:05.315636Z"
    },
    "jupyter": {
     "source_hidden": true
    },
    "papermill": {
     "duration": 0.043315,
     "end_time": "2021-10-22T11:55:05.315942",
     "exception": false,
     "start_time": "2021-10-22T11:55:05.272627",
     "status": "completed"
    },
    "tags": []
   },
   "outputs": [
    {
     "name": "stdout",
     "output_type": "stream",
     "text": [
      "(248962, 4)\n",
      "(248918, 4)\n"
     ]
    }
   ],
   "source": [
    "print(pcomms.shape)\n",
    "print(up_news.shape)"
   ]
  },
  {
   "cell_type": "code",
   "execution_count": 6,
   "id": "815f536a",
   "metadata": {
    "execution": {
     "iopub.execute_input": "2021-10-22T11:55:05.405553Z",
     "iopub.status.busy": "2021-10-22T11:55:05.404917Z",
     "iopub.status.idle": "2021-10-22T11:55:05.411172Z",
     "shell.execute_reply": "2021-10-22T11:55:05.411658Z"
    },
    "jupyter": {
     "source_hidden": true
    },
    "papermill": {
     "duration": 0.058227,
     "end_time": "2021-10-22T11:55:05.411896",
     "exception": false,
     "start_time": "2021-10-22T11:55:05.353669",
     "status": "completed"
    },
    "tags": []
   },
   "outputs": [
    {
     "data": {
      "text/html": [
       "<div>\n",
       "<style scoped>\n",
       "    .dataframe tbody tr th:only-of-type {\n",
       "        vertical-align: middle;\n",
       "    }\n",
       "\n",
       "    .dataframe tbody tr th {\n",
       "        vertical-align: top;\n",
       "    }\n",
       "\n",
       "    .dataframe thead th {\n",
       "        text-align: right;\n",
       "    }\n",
       "</style>\n",
       "<table border=\"1\" class=\"dataframe\">\n",
       "  <thead>\n",
       "    <tr style=\"text-align: right;\">\n",
       "      <th></th>\n",
       "      <th>user_id</th>\n",
       "      <th>profile_value</th>\n",
       "    </tr>\n",
       "  </thead>\n",
       "  <tbody>\n",
       "    <tr>\n",
       "      <th>0</th>\n",
       "      <td>998</td>\n",
       "      <td>Yes, I would like to receive personalized comm...</td>\n",
       "    </tr>\n",
       "    <tr>\n",
       "      <th>1</th>\n",
       "      <td>1000</td>\n",
       "      <td>Yes, I would like to receive personalized comm...</td>\n",
       "    </tr>\n",
       "  </tbody>\n",
       "</table>\n",
       "</div>"
      ],
      "text/plain": [
       "   user_id                                      profile_value\n",
       "0      998  Yes, I would like to receive personalized comm...\n",
       "1     1000  Yes, I would like to receive personalized comm..."
      ]
     },
     "metadata": {},
     "output_type": "display_data"
    },
    {
     "data": {
      "text/html": [
       "<div>\n",
       "<style scoped>\n",
       "    .dataframe tbody tr th:only-of-type {\n",
       "        vertical-align: middle;\n",
       "    }\n",
       "\n",
       "    .dataframe tbody tr th {\n",
       "        vertical-align: top;\n",
       "    }\n",
       "\n",
       "    .dataframe thead th {\n",
       "        text-align: right;\n",
       "    }\n",
       "</style>\n",
       "<table border=\"1\" class=\"dataframe\">\n",
       "  <thead>\n",
       "    <tr style=\"text-align: right;\">\n",
       "      <th></th>\n",
       "      <th>user_id</th>\n",
       "      <th>profile_value</th>\n",
       "    </tr>\n",
       "  </thead>\n",
       "  <tbody>\n",
       "    <tr>\n",
       "      <th>0</th>\n",
       "      <td>998</td>\n",
       "      <td>No, I do not want to receive updates and news</td>\n",
       "    </tr>\n",
       "    <tr>\n",
       "      <th>1</th>\n",
       "      <td>1000</td>\n",
       "      <td>No, I do not want to receive updates and news</td>\n",
       "    </tr>\n",
       "  </tbody>\n",
       "</table>\n",
       "</div>"
      ],
      "text/plain": [
       "   user_id                                  profile_value\n",
       "0      998  No, I do not want to receive updates and news\n",
       "1     1000  No, I do not want to receive updates and news"
      ]
     },
     "metadata": {},
     "output_type": "display_data"
    }
   ],
   "source": [
    "## adjusting new_email dataframe for the new email optin values \n",
    "# 0 or 1\n",
    "pcomms_t = pcomms[['user_id','profile_value']]\n",
    "up_news_t = up_news[['user_id','profile_value']]\n",
    "\n",
    "display(pcomms_t.head(2))\n",
    "display(up_news_t.head(2))"
   ]
  },
  {
   "cell_type": "code",
   "execution_count": 7,
   "id": "f895a832",
   "metadata": {
    "execution": {
     "iopub.execute_input": "2021-10-22T11:55:05.579630Z",
     "iopub.status.busy": "2021-10-22T11:55:05.532107Z",
     "iopub.status.idle": "2021-10-22T11:55:05.651116Z",
     "shell.execute_reply": "2021-10-22T11:55:05.651545Z"
    },
    "jupyter": {
     "source_hidden": true
    },
    "papermill": {
     "duration": 0.200843,
     "end_time": "2021-10-22T11:55:05.651892",
     "exception": false,
     "start_time": "2021-10-22T11:55:05.451049",
     "status": "completed"
    },
    "tags": []
   },
   "outputs": [
    {
     "name": "stdout",
     "output_type": "stream",
     "text": [
      "[WARNING] [warnings - py.warnings]: /Users/saxenap/.virtualenvs/nanoHUB/lib/python3.9/site-packages/pandas/core/indexing.py:1773: SettingWithCopyWarning: \n",
      "A value is trying to be set on a copy of a slice from a DataFrame.\n",
      "Try using .loc[row_indexer,col_indexer] = value instead\n",
      "\n",
      "See the caveats in the documentation: https://pandas.pydata.org/pandas-docs/stable/user_guide/indexing.html#returning-a-view-versus-a-copy\n",
      "  self._setitem_single_column(ilocs[0], value, pi)\n",
      " [warnings._showwarnmsg:109]\n"
     ]
    }
   ],
   "source": [
    "## filtering pcomms_t with 0 or 1\n",
    "ptt = pcomms_t['profile_value'].to_list()\n",
    "\n",
    "for index, val in enumerate(ptt):\n",
    "    val = val.split(',')[0]\n",
    "    if val == 'Yes':\n",
    "        ptt[index] = 1 # 1 indicates opt-in\n",
    "    else:\n",
    "        ptt[index] = 0 # 1 indicates opt-out\n",
    "\n",
    "pcomms_t.loc[:,'profile_value'] = ptt\n"
   ]
  },
  {
   "cell_type": "code",
   "execution_count": 8,
   "id": "0cd39e48",
   "metadata": {
    "execution": {
     "iopub.execute_input": "2021-10-22T11:55:05.891996Z",
     "iopub.status.busy": "2021-10-22T11:55:05.800363Z",
     "iopub.status.idle": "2021-10-22T11:55:05.894737Z",
     "shell.execute_reply": "2021-10-22T11:55:05.895245Z"
    },
    "jupyter": {
     "source_hidden": true
    },
    "papermill": {
     "duration": 0.204388,
     "end_time": "2021-10-22T11:55:05.895475",
     "exception": false,
     "start_time": "2021-10-22T11:55:05.691087",
     "status": "completed"
    },
    "tags": []
   },
   "outputs": [],
   "source": [
    "## filtering up news t with 0 or 1\n",
    "untt = up_news_t['profile_value'].to_list()\n",
    "\n",
    "for index, val in enumerate(untt):\n",
    "    val = val.split(',')[0]\n",
    "    if val == 'Yes':\n",
    "        untt[index] = 1 # 1 indicates opt-in\n",
    "    else:\n",
    "        untt[index] = 0 # 1 indicates opt-out\n",
    "\n",
    "up_news_t.loc[:,'profile_value'] = untt\n"
   ]
  },
  {
   "cell_type": "code",
   "execution_count": 9,
   "id": "1f4a53af",
   "metadata": {
    "execution": {
     "iopub.execute_input": "2021-10-22T11:55:05.981114Z",
     "iopub.status.busy": "2021-10-22T11:55:05.980401Z",
     "iopub.status.idle": "2021-10-22T11:55:05.994344Z",
     "shell.execute_reply": "2021-10-22T11:55:05.994766Z"
    },
    "jupyter": {
     "source_hidden": true
    },
    "papermill": {
     "duration": 0.059771,
     "end_time": "2021-10-22T11:55:05.994967",
     "exception": false,
     "start_time": "2021-10-22T11:55:05.935196",
     "status": "completed"
    },
    "tags": []
   },
   "outputs": [
    {
     "data": {
      "text/html": [
       "<div>\n",
       "<style scoped>\n",
       "    .dataframe tbody tr th:only-of-type {\n",
       "        vertical-align: middle;\n",
       "    }\n",
       "\n",
       "    .dataframe tbody tr th {\n",
       "        vertical-align: top;\n",
       "    }\n",
       "\n",
       "    .dataframe thead th {\n",
       "        text-align: right;\n",
       "    }\n",
       "</style>\n",
       "<table border=\"1\" class=\"dataframe\">\n",
       "  <thead>\n",
       "    <tr style=\"text-align: right;\">\n",
       "      <th></th>\n",
       "      <th>user_id</th>\n",
       "      <th>profile_value</th>\n",
       "    </tr>\n",
       "  </thead>\n",
       "  <tbody>\n",
       "    <tr>\n",
       "      <th>0</th>\n",
       "      <td>998</td>\n",
       "      <td>1</td>\n",
       "    </tr>\n",
       "    <tr>\n",
       "      <th>1</th>\n",
       "      <td>1000</td>\n",
       "      <td>1</td>\n",
       "    </tr>\n",
       "  </tbody>\n",
       "</table>\n",
       "</div>"
      ],
      "text/plain": [
       "   user_id  profile_value\n",
       "0      998              1\n",
       "1     1000              1"
      ]
     },
     "metadata": {},
     "output_type": "display_data"
    },
    {
     "data": {
      "text/html": [
       "<div>\n",
       "<style scoped>\n",
       "    .dataframe tbody tr th:only-of-type {\n",
       "        vertical-align: middle;\n",
       "    }\n",
       "\n",
       "    .dataframe tbody tr th {\n",
       "        vertical-align: top;\n",
       "    }\n",
       "\n",
       "    .dataframe thead th {\n",
       "        text-align: right;\n",
       "    }\n",
       "</style>\n",
       "<table border=\"1\" class=\"dataframe\">\n",
       "  <thead>\n",
       "    <tr style=\"text-align: right;\">\n",
       "      <th></th>\n",
       "      <th>user_id</th>\n",
       "      <th>profile_value</th>\n",
       "    </tr>\n",
       "  </thead>\n",
       "  <tbody>\n",
       "    <tr>\n",
       "      <th>248960</th>\n",
       "      <td>342957</td>\n",
       "      <td>1</td>\n",
       "    </tr>\n",
       "    <tr>\n",
       "      <th>248961</th>\n",
       "      <td>342958</td>\n",
       "      <td>1</td>\n",
       "    </tr>\n",
       "  </tbody>\n",
       "</table>\n",
       "</div>"
      ],
      "text/plain": [
       "        user_id  profile_value\n",
       "248960   342957              1\n",
       "248961   342958              1"
      ]
     },
     "metadata": {},
     "output_type": "display_data"
    },
    {
     "data": {
      "text/html": [
       "<div>\n",
       "<style scoped>\n",
       "    .dataframe tbody tr th:only-of-type {\n",
       "        vertical-align: middle;\n",
       "    }\n",
       "\n",
       "    .dataframe tbody tr th {\n",
       "        vertical-align: top;\n",
       "    }\n",
       "\n",
       "    .dataframe thead th {\n",
       "        text-align: right;\n",
       "    }\n",
       "</style>\n",
       "<table border=\"1\" class=\"dataframe\">\n",
       "  <thead>\n",
       "    <tr style=\"text-align: right;\">\n",
       "      <th></th>\n",
       "      <th>user_id</th>\n",
       "      <th>profile_value</th>\n",
       "    </tr>\n",
       "  </thead>\n",
       "  <tbody>\n",
       "    <tr>\n",
       "      <th>0</th>\n",
       "      <td>998</td>\n",
       "      <td>0</td>\n",
       "    </tr>\n",
       "    <tr>\n",
       "      <th>1</th>\n",
       "      <td>1000</td>\n",
       "      <td>0</td>\n",
       "    </tr>\n",
       "  </tbody>\n",
       "</table>\n",
       "</div>"
      ],
      "text/plain": [
       "   user_id  profile_value\n",
       "0      998              0\n",
       "1     1000              0"
      ]
     },
     "metadata": {},
     "output_type": "display_data"
    },
    {
     "data": {
      "text/html": [
       "<div>\n",
       "<style scoped>\n",
       "    .dataframe tbody tr th:only-of-type {\n",
       "        vertical-align: middle;\n",
       "    }\n",
       "\n",
       "    .dataframe tbody tr th {\n",
       "        vertical-align: top;\n",
       "    }\n",
       "\n",
       "    .dataframe thead th {\n",
       "        text-align: right;\n",
       "    }\n",
       "</style>\n",
       "<table border=\"1\" class=\"dataframe\">\n",
       "  <thead>\n",
       "    <tr style=\"text-align: right;\">\n",
       "      <th></th>\n",
       "      <th>user_id</th>\n",
       "      <th>profile_value</th>\n",
       "    </tr>\n",
       "  </thead>\n",
       "  <tbody>\n",
       "    <tr>\n",
       "      <th>248916</th>\n",
       "      <td>342957</td>\n",
       "      <td>1</td>\n",
       "    </tr>\n",
       "    <tr>\n",
       "      <th>248917</th>\n",
       "      <td>342958</td>\n",
       "      <td>1</td>\n",
       "    </tr>\n",
       "  </tbody>\n",
       "</table>\n",
       "</div>"
      ],
      "text/plain": [
       "        user_id  profile_value\n",
       "248916   342957              1\n",
       "248917   342958              1"
      ]
     },
     "metadata": {},
     "output_type": "display_data"
    }
   ],
   "source": [
    "## display\n",
    "display(pcomms_t.head(2))\n",
    "display(pcomms_t.tail(2))\n",
    "display(up_news_t.head(2))\n",
    "display(up_news_t.tail(2))"
   ]
  },
  {
   "cell_type": "code",
   "execution_count": 10,
   "id": "499c9f08",
   "metadata": {
    "execution": {
     "iopub.execute_input": "2021-10-22T11:55:06.097502Z",
     "iopub.status.busy": "2021-10-22T11:55:06.086078Z",
     "iopub.status.idle": "2021-10-22T11:55:06.106451Z",
     "shell.execute_reply": "2021-10-22T11:55:06.105923Z"
    },
    "jupyter": {
     "source_hidden": true
    },
    "papermill": {
     "duration": 0.06777,
     "end_time": "2021-10-22T11:55:06.106683",
     "exception": false,
     "start_time": "2021-10-22T11:55:06.038913",
     "status": "completed"
    },
    "tags": []
   },
   "outputs": [],
   "source": [
    "## create new dataframe\n",
    "new_opts = pd.DataFrame()\n",
    "\n",
    "new_opts['nanoHUB_user_ID__c'] = pcomms_t['user_id']\n",
    "new_opts['personalizedcommunication__c'] = pcomms_t['profile_value']\n",
    "new_opts['updatesnews__c'] = up_news_t['profile_value']\n"
   ]
  },
  {
   "cell_type": "code",
   "execution_count": 11,
   "id": "278fa6e1",
   "metadata": {
    "execution": {
     "iopub.execute_input": "2021-10-22T11:55:06.211747Z",
     "iopub.status.busy": "2021-10-22T11:55:06.210993Z",
     "iopub.status.idle": "2021-10-22T11:55:06.215700Z",
     "shell.execute_reply": "2021-10-22T11:55:06.215250Z"
    },
    "jupyter": {
     "source_hidden": true
    },
    "papermill": {
     "duration": 0.06295,
     "end_time": "2021-10-22T11:55:06.215913",
     "exception": false,
     "start_time": "2021-10-22T11:55:06.152963",
     "status": "completed"
    },
    "tags": []
   },
   "outputs": [
    {
     "data": {
      "text/html": [
       "<div>\n",
       "<style scoped>\n",
       "    .dataframe tbody tr th:only-of-type {\n",
       "        vertical-align: middle;\n",
       "    }\n",
       "\n",
       "    .dataframe tbody tr th {\n",
       "        vertical-align: top;\n",
       "    }\n",
       "\n",
       "    .dataframe thead th {\n",
       "        text-align: right;\n",
       "    }\n",
       "</style>\n",
       "<table border=\"1\" class=\"dataframe\">\n",
       "  <thead>\n",
       "    <tr style=\"text-align: right;\">\n",
       "      <th></th>\n",
       "      <th>nanoHUB_user_ID__c</th>\n",
       "      <th>personalizedcommunication__c</th>\n",
       "      <th>updatesnews__c</th>\n",
       "    </tr>\n",
       "  </thead>\n",
       "  <tbody>\n",
       "    <tr>\n",
       "      <th>0</th>\n",
       "      <td>998</td>\n",
       "      <td>1</td>\n",
       "      <td>0.0</td>\n",
       "    </tr>\n",
       "    <tr>\n",
       "      <th>1</th>\n",
       "      <td>1000</td>\n",
       "      <td>1</td>\n",
       "      <td>0.0</td>\n",
       "    </tr>\n",
       "  </tbody>\n",
       "</table>\n",
       "</div>"
      ],
      "text/plain": [
       "   nanoHUB_user_ID__c  personalizedcommunication__c  updatesnews__c\n",
       "0                 998                             1             0.0\n",
       "1                1000                             1             0.0"
      ]
     },
     "metadata": {},
     "output_type": "display_data"
    },
    {
     "name": "stdout",
     "output_type": "stream",
     "text": [
      "<class 'pandas.core.frame.DataFrame'>\n"
     ]
    }
   ],
   "source": [
    "display(new_opts.head(2))\n",
    "print(type(new_opts))"
   ]
  },
  {
   "cell_type": "markdown",
   "id": "fd8a3acc",
   "metadata": {
    "papermill": {
     "duration": 0.046772,
     "end_time": "2021-10-22T11:55:06.309085",
     "exception": false,
     "start_time": "2021-10-22T11:55:06.262313",
     "status": "completed"
    },
    "tags": []
   },
   "source": [
    "## Send to SF"
   ]
  },
  {
   "cell_type": "code",
   "execution_count": null,
   "id": "c73c9bfd",
   "metadata": {
    "execution": {
     "iopub.execute_input": "2021-01-21T08:30:15.328818Z",
     "iopub.status.busy": "2021-01-21T08:30:15.328272Z",
     "iopub.status.idle": "2021-01-21T08:30:15.648178Z",
     "shell.execute_reply": "2021-01-21T08:30:15.647746Z"
    },
    "jupyter": {
     "source_hidden": true
    },
    "papermill": {
     "duration": 0.042306,
     "end_time": "2021-10-22T11:55:06.396181",
     "exception": false,
     "start_time": "2021-10-22T11:55:06.353875",
     "status": "completed"
    },
    "tags": []
   },
   "outputs": [],
   "source": []
  },
  {
   "cell_type": "code",
   "execution_count": 12,
   "id": "3cfe725e",
   "metadata": {
    "execution": {
     "iopub.execute_input": "2021-10-22T11:55:06.487954Z",
     "iopub.status.busy": "2021-10-22T11:55:06.487036Z",
     "iopub.status.idle": "2021-10-22T11:55:12.307328Z",
     "shell.execute_reply": "2021-10-22T11:55:12.307789Z"
    },
    "jupyter": {
     "source_hidden": true
    },
    "papermill": {
     "duration": 5.87074,
     "end_time": "2021-10-22T11:55:12.307980",
     "exception": false,
     "start_time": "2021-10-22T11:55:06.437240",
     "status": "completed"
    },
    "tags": []
   },
   "outputs": [
    {
     "name": "stdout",
     "output_type": "stream",
     "text": [
      "[Success] Bulk job creation successful. Job ID = 7505w00000b1onIAAQ\n",
      "hello\n"
     ]
    },
    {
     "name": "stdout",
     "output_type": "stream",
     "text": [
      "[Success] CSV upload successful. Job ID = 7505w00000b1onIAAQ\n"
     ]
    },
    {
     "name": "stdout",
     "output_type": "stream",
     "text": [
      "[Success] Closing job successful. Job ID = 7505w00000b1onIAAQ\n"
     ]
    }
   ],
   "source": [
    "db_s.object_id = object_id\n",
    "db_s.external_id = external_id\n",
    "\n",
    "# send data to Salesforce\n",
    "db_s.send_data(new_opts)\n"
   ]
  },
  {
   "cell_type": "code",
   "execution_count": 13,
   "id": "209ba988",
   "metadata": {
    "execution": {
     "iopub.execute_input": "2021-10-22T11:55:12.418155Z",
     "iopub.status.busy": "2021-10-22T11:55:12.417581Z",
     "iopub.status.idle": "2021-10-22T11:55:12.935711Z",
     "shell.execute_reply": "2021-10-22T11:55:12.936548Z"
    },
    "jupyter": {
     "source_hidden": true
    },
    "papermill": {
     "duration": 0.578315,
     "end_time": "2021-10-22T11:55:12.936975",
     "exception": false,
     "start_time": "2021-10-22T11:55:12.358660",
     "status": "completed"
    },
    "tags": []
   },
   "outputs": [
    {
     "data": {
      "text/plain": [
       "{'id': '7505w00000b1onIAAQ',\n",
       " 'operation': 'upsert',\n",
       " 'object': 'Contact',\n",
       " 'createdById': '0055w00000DM5bOAAT',\n",
       " 'createdDate': '2021-10-22T11:55:06.000+0000',\n",
       " 'systemModstamp': '2021-10-22T11:55:12.000+0000',\n",
       " 'state': 'InProgress',\n",
       " 'externalIdFieldName': 'nanoHUB_user_ID__c',\n",
       " 'concurrencyMode': 'Parallel',\n",
       " 'contentType': 'CSV',\n",
       " 'apiVersion': 47.0,\n",
       " 'jobType': 'V2Ingest',\n",
       " 'lineEnding': 'LF',\n",
       " 'columnDelimiter': 'COMMA',\n",
       " 'numberRecordsProcessed': 0,\n",
       " 'numberRecordsFailed': 0,\n",
       " 'retries': 0,\n",
       " 'totalProcessingTime': 0,\n",
       " 'apiActiveProcessingTime': 0,\n",
       " 'apexProcessingTime': 0}"
      ]
     },
     "execution_count": 13,
     "metadata": {},
     "output_type": "execute_result"
    }
   ],
   "source": [
    "# check status\n",
    "db_s.check_bulk_status()"
   ]
  },
  {
   "cell_type": "code",
   "execution_count": 14,
   "id": "8181d498",
   "metadata": {
    "execution": {
     "iopub.execute_input": "2021-10-22T11:55:13.050407Z",
     "iopub.status.busy": "2021-10-22T11:55:13.049615Z",
     "iopub.status.idle": "2021-10-22T11:55:13.514045Z",
     "shell.execute_reply": "2021-10-22T11:55:13.514847Z"
    },
    "jupyter": {
     "source_hidden": true
    },
    "papermill": {
     "duration": 0.519593,
     "end_time": "2021-10-22T11:55:13.515151",
     "exception": false,
     "start_time": "2021-10-22T11:55:12.995558",
     "status": "completed"
    },
    "tags": []
   },
   "outputs": [
    {
     "name": "stdout",
     "output_type": "stream",
     "text": [
      "''\n"
     ]
    }
   ],
   "source": [
    "# check status\n",
    "from pprint import pprint\n",
    "\n",
    "pprint(db_s.check_bulk_failed_results())"
   ]
  },
  {
   "cell_type": "code",
   "execution_count": null,
   "id": "af4c34b6",
   "metadata": {
    "jupyter": {
     "source_hidden": true
    },
    "papermill": {
     "duration": 0.050217,
     "end_time": "2021-10-22T11:55:13.627552",
     "exception": false,
     "start_time": "2021-10-22T11:55:13.577335",
     "status": "completed"
    },
    "tags": []
   },
   "outputs": [],
   "source": []
  }
 ],
 "metadata": {
  "kernelspec": {
   "display_name": "Python 3",
   "language": "python",
   "name": "python3"
  },
  "language_info": {
   "codemirror_mode": {
    "name": "ipython",
    "version": 3
   },
   "file_extension": ".py",
   "mimetype": "text/x-python",
   "name": "python",
   "nbconvert_exporter": "python",
   "pygments_lexer": "ipython3",
   "version": "3.9.7"
  },
  "papermill": {
   "duration": 23.704658,
   "end_time": "2021-10-22T11:55:14.012226",
   "environment_variables": {},
   "exception": null,
   "input_path": "/Users/saxenap/Documents/Dev/nanoHUB/nanoHUB/pipeline/salesforce/task_update_email_preferences.ipynb",
   "output_path": "./.output/task_update_email_preferences.ipynb",
   "parameters": {},
   "start_time": "2021-10-22T11:54:50.307568",
   "version": "2.1.1"
  }
 },
 "nbformat": 4,
 "nbformat_minor": 5
}