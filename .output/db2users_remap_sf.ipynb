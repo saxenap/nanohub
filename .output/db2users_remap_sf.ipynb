{
 "cells": [
  {
   "cell_type": "markdown",
   "id": "6cacefd6",
   "metadata": {
    "papermill": {
     "duration": 0.076445,
     "end_time": "2021-08-26T04:53:09.068122",
     "exception": false,
     "start_time": "2021-08-26T04:53:08.991677",
     "status": "completed"
    },
    "tags": []
   },
   "source": [
    "## Finding NH DB2 deleted users by doing a back scrawl search"
   ]
  },
  {
   "cell_type": "code",
   "execution_count": 1,
   "id": "a16069b5",
   "metadata": {
    "execution": {
     "iopub.execute_input": "2021-08-26T04:53:09.197446Z",
     "iopub.status.busy": "2021-08-26T04:53:09.196658Z",
     "iopub.status.idle": "2021-08-26T04:53:11.188990Z",
     "shell.execute_reply": "2021-08-26T04:53:11.189552Z"
    },
    "jupyter": {
     "source_hidden": true
    },
    "papermill": {
     "duration": 2.059569,
     "end_time": "2021-08-26T04:53:11.190046",
     "exception": false,
     "start_time": "2021-08-26T04:53:09.130477",
     "status": "completed"
    },
    "tags": []
   },
   "outputs": [
    {
     "name": "stdout",
     "output_type": "stream",
     "text": [
      "\u001b[1mnanoHUB - Serving Students, Researchers & Instructors\u001b[0m\n"
     ]
    },
    {
     "name": "stderr",
     "output_type": "stream",
     "text": [
      "2021-08-26 00:53:10,488| INFO    | 0 keys loaded from agent\n"
     ]
    },
    {
     "name": "stdout",
     "output_type": "stream",
     "text": [
      "2021-08-26 00:53:10,488 - [INFO] sshtunnel.SSHTunnelForwarder [sshtunnel.get_agent_keys:1060]: 0 keys loaded from agent\n"
     ]
    },
    {
     "name": "stderr",
     "output_type": "stream",
     "text": [
      "2021-08-26 00:53:10,493| INFO    | 0 key(s) loaded\n"
     ]
    },
    {
     "name": "stdout",
     "output_type": "stream",
     "text": [
      "2021-08-26 00:53:10,493 - [INFO] sshtunnel.SSHTunnelForwarder [sshtunnel.get_keys:1117]: 0 key(s) loaded\n"
     ]
    },
    {
     "name": "stderr",
     "output_type": "stream",
     "text": [
      "2021-08-26 00:53:10,495| INFO    | Connecting to gateway: db2.nanohub.org:22 as user 'saxenap'\n"
     ]
    },
    {
     "name": "stdout",
     "output_type": "stream",
     "text": [
      "2021-08-26 00:53:10,495 - [INFO] sshtunnel.SSHTunnelForwarder [sshtunnel.__init__:978]: Connecting to gateway: db2.nanohub.org:22 as user 'saxenap'\n"
     ]
    },
    {
     "name": "stdout",
     "output_type": "stream",
     "text": [
      "2021-08-26 00:53:10,498 - [\u001b[1mINFO\u001b[0m] \u001b[1mnanoHUB.containers.dataaccess\u001b[0m [connection.get_connection_for:101]: Started SSH Tunnel with db2.nanohub.org\n"
     ]
    },
    {
     "name": "stderr",
     "output_type": "stream",
     "text": [
      "2021-08-26 00:53:10,807| INFO    | Opening tunnel: 0.0.0.0:54988 <> 127.0.0.1:3306\n"
     ]
    },
    {
     "name": "stdout",
     "output_type": "stream",
     "text": [
      "2021-08-26 00:53:10,807 - [INFO] sshtunnel.SSHTunnelForwarder [sshtunnel._serve_forever_wrapper:1433]: Opening tunnel: 0.0.0.0:54988 <> 127.0.0.1:3306\n"
     ]
    },
    {
     "name": "stdout",
     "output_type": "stream",
     "text": [
      "Obtained Salesforce access token ...... True\n"
     ]
    }
   ],
   "source": [
    "# API settings\n",
    "api_url = '/services/data/v43.0/sobjects'\n",
    "external_id = 'Name'\n",
    "object_id = 'ContactToolAssociation__c'\n",
    "\n",
    "# login parameters to be handled by Papermill\n",
    "from nanoHUB.application import Application\n",
    "\n",
    "application = Application.get_instance()\n",
    "nanohub_db = application.new_db_engine('nanohub')\n",
    "\n",
    "salesforce = application.new_salesforce_engine()\n",
    "db_s = salesforce"
   ]
  },
  {
   "cell_type": "code",
   "execution_count": 2,
   "id": "beba1e8a",
   "metadata": {
    "execution": {
     "iopub.execute_input": "2021-08-26T04:53:11.337945Z",
     "iopub.status.busy": "2021-08-26T04:53:11.336868Z",
     "iopub.status.idle": "2021-08-26T04:53:11.339483Z",
     "shell.execute_reply": "2021-08-26T04:53:11.340035Z"
    },
    "jupyter": {
     "source_hidden": true
    },
    "papermill": {
     "duration": 0.074393,
     "end_time": "2021-08-26T04:53:11.340300",
     "exception": false,
     "start_time": "2021-08-26T04:53:11.265907",
     "status": "completed"
    },
    "tags": []
   },
   "outputs": [],
   "source": [
    "import sys\n",
    "# sys.path.append('/home/users/wang2506/nanohub_salesforce_integ/salesforce')\n",
    "\n",
    "import pandas as pd\n",
    "import time\n",
    "import datetime\n",
    "\n",
    "# from DB2SalesforceAPI import DB2SalesforceAPI"
   ]
  },
  {
   "cell_type": "markdown",
   "id": "afd9c38a",
   "metadata": {
    "papermill": {
     "duration": 0.080496,
     "end_time": "2021-08-26T04:53:11.486735",
     "exception": false,
     "start_time": "2021-08-26T04:53:11.406239",
     "status": "completed"
    },
    "tags": []
   },
   "source": [
    "## Pull data from SF"
   ]
  },
  {
   "cell_type": "code",
   "execution_count": 3,
   "id": "14e2acfa",
   "metadata": {
    "execution": {
     "iopub.execute_input": "2021-08-26T04:53:11.623785Z",
     "iopub.status.busy": "2021-08-26T04:53:11.622906Z",
     "iopub.status.idle": "2021-08-26T04:53:11.625199Z",
     "shell.execute_reply": "2021-08-26T04:53:11.625705Z"
    },
    "jupyter": {
     "source_hidden": true
    },
    "papermill": {
     "duration": 0.069701,
     "end_time": "2021-08-26T04:53:11.625879",
     "exception": false,
     "start_time": "2021-08-26T04:53:11.556178",
     "status": "completed"
    },
    "tags": []
   },
   "outputs": [],
   "source": [
    "db_1 = salesforce"
   ]
  },
  {
   "cell_type": "code",
   "execution_count": 4,
   "id": "d8412b6a",
   "metadata": {
    "execution": {
     "iopub.execute_input": "2021-08-26T04:53:11.758652Z",
     "iopub.status.busy": "2021-08-26T04:53:11.758002Z",
     "iopub.status.idle": "2021-08-26T04:53:49.330473Z",
     "shell.execute_reply": "2021-08-26T04:53:49.330948Z"
    },
    "jupyter": {
     "source_hidden": true
    },
    "papermill": {
     "duration": 37.638495,
     "end_time": "2021-08-26T04:53:49.331140",
     "exception": false,
     "start_time": "2021-08-26T04:53:11.692645",
     "status": "completed"
    },
    "tags": []
   },
   "outputs": [
    {
     "name": "stdout",
     "output_type": "stream",
     "text": [
      "[Success] Bulk job creation successful. Job ID = 7505w00000ZJLCBAA5\n"
     ]
    },
    {
     "name": "stdout",
     "output_type": "stream",
     "text": [
      "{\"id\":\"7505w00000ZJLCBAA5\",\"operation\":\"query\",\"object\":\"Contact\",\"createdById\":\"0055w00000DM5bOAAT\",\"createdDate\":\"2021-08-26T04:53:12.000+0000\",\"systemModstamp\":\"2021-08-26T04:53:12.000+0000\",\"state\":\"UploadComplete\",\"concurrencyMode\":\"Parallel\",\"contentType\":\"CSV\",\"apiVersion\":47.0,\"jobType\":\"V2Query\",\"lineEnding\":\"LF\",\"columnDelimiter\":\"COMMA\",\"retries\":0,\"totalProcessingTime\":0}\n"
     ]
    },
    {
     "name": "stdout",
     "output_type": "stream",
     "text": [
      "{\"id\":\"7505w00000ZJLCBAA5\",\"operation\":\"query\",\"object\":\"Contact\",\"createdById\":\"0055w00000DM5bOAAT\",\"createdDate\":\"2021-08-26T04:53:12.000+0000\",\"systemModstamp\":\"2021-08-26T04:53:17.000+0000\",\"state\":\"InProgress\",\"concurrencyMode\":\"Parallel\",\"contentType\":\"CSV\",\"apiVersion\":47.0,\"jobType\":\"V2Query\",\"lineEnding\":\"LF\",\"columnDelimiter\":\"COMMA\",\"numberRecordsProcessed\":1303,\"retries\":0,\"totalProcessingTime\":270}\n"
     ]
    },
    {
     "name": "stdout",
     "output_type": "stream",
     "text": [
      "{\"id\":\"7505w00000ZJLCBAA5\",\"operation\":\"query\",\"object\":\"Contact\",\"createdById\":\"0055w00000DM5bOAAT\",\"createdDate\":\"2021-08-26T04:53:12.000+0000\",\"systemModstamp\":\"2021-08-26T04:53:17.000+0000\",\"state\":\"InProgress\",\"concurrencyMode\":\"Parallel\",\"contentType\":\"CSV\",\"apiVersion\":47.0,\"jobType\":\"V2Query\",\"lineEnding\":\"LF\",\"columnDelimiter\":\"COMMA\",\"numberRecordsProcessed\":1303,\"retries\":0,\"totalProcessingTime\":270}\n"
     ]
    },
    {
     "name": "stdout",
     "output_type": "stream",
     "text": [
      "{\"id\":\"7505w00000ZJLCBAA5\",\"operation\":\"query\",\"object\":\"Contact\",\"createdById\":\"0055w00000DM5bOAAT\",\"createdDate\":\"2021-08-26T04:53:12.000+0000\",\"systemModstamp\":\"2021-08-26T04:53:38.000+0000\",\"state\":\"JobComplete\",\"concurrencyMode\":\"Parallel\",\"contentType\":\"CSV\",\"apiVersion\":47.0,\"jobType\":\"V2Query\",\"lineEnding\":\"LF\",\"columnDelimiter\":\"COMMA\",\"numberRecordsProcessed\":253574,\"retries\":0,\"totalProcessingTime\":12477}\n",
      "[Success] Bulk job completed successfully.\n"
     ]
    }
   ],
   "source": [
    "NH_ids_sf = db_1.query_data('Select ID, nanoHUB_user_ID__c, Name, Email from Contact')"
   ]
  },
  {
   "cell_type": "code",
   "execution_count": 5,
   "id": "e05563d1",
   "metadata": {
    "execution": {
     "iopub.execute_input": "2021-08-26T04:53:49.500418Z",
     "iopub.status.busy": "2021-08-26T04:53:49.499019Z",
     "iopub.status.idle": "2021-08-26T04:53:49.521952Z",
     "shell.execute_reply": "2021-08-26T04:53:49.520921Z"
    },
    "jupyter": {
     "source_hidden": true
    },
    "papermill": {
     "duration": 0.122941,
     "end_time": "2021-08-26T04:53:49.522645",
     "exception": false,
     "start_time": "2021-08-26T04:53:49.399704",
     "status": "completed"
    },
    "tags": []
   },
   "outputs": [
    {
     "data": {
      "text/html": [
       "<div>\n",
       "<style scoped>\n",
       "    .dataframe tbody tr th:only-of-type {\n",
       "        vertical-align: middle;\n",
       "    }\n",
       "\n",
       "    .dataframe tbody tr th {\n",
       "        vertical-align: top;\n",
       "    }\n",
       "\n",
       "    .dataframe thead th {\n",
       "        text-align: right;\n",
       "    }\n",
       "</style>\n",
       "<table border=\"1\" class=\"dataframe\">\n",
       "  <thead>\n",
       "    <tr style=\"text-align: right;\">\n",
       "      <th></th>\n",
       "      <th>Email</th>\n",
       "      <th>Id</th>\n",
       "      <th>Name</th>\n",
       "      <th>nanoHUB_user_ID__c</th>\n",
       "    </tr>\n",
       "  </thead>\n",
       "  <tbody>\n",
       "    <tr>\n",
       "      <th>0</th>\n",
       "      <td>nkissebe@gmail.com</td>\n",
       "      <td>0035w000031Vsp1AAC</td>\n",
       "      <td>hubrepo hubrepo</td>\n",
       "      <td>998.0</td>\n",
       "    </tr>\n",
       "    <tr>\n",
       "      <th>1</th>\n",
       "      <td>support@nanohub.org</td>\n",
       "      <td>0035w000031Vsp2AAC</td>\n",
       "      <td>nanoHUB support</td>\n",
       "      <td>1683.0</td>\n",
       "    </tr>\n",
       "    <tr>\n",
       "      <th>2</th>\n",
       "      <td>gridstat@nanohub.org</td>\n",
       "      <td>0035w000031Vsp3AAC</td>\n",
       "      <td>Grid Statistics</td>\n",
       "      <td>1684.0</td>\n",
       "    </tr>\n",
       "    <tr>\n",
       "      <th>3</th>\n",
       "      <td>ncn@nanohub.org</td>\n",
       "      <td>0035w000031Vsp4AAC</td>\n",
       "      <td>NCN NCN</td>\n",
       "      <td>1685.0</td>\n",
       "    </tr>\n",
       "    <tr>\n",
       "      <th>4</th>\n",
       "      <td>apps@nanohub.org</td>\n",
       "      <td>0035w000031Vsp5AAC</td>\n",
       "      <td>nanoHUB nanoHUB</td>\n",
       "      <td>1686.0</td>\n",
       "    </tr>\n",
       "  </tbody>\n",
       "</table>\n",
       "</div>"
      ],
      "text/plain": [
       "                  Email                  Id             Name  \\\n",
       "0    nkissebe@gmail.com  0035w000031Vsp1AAC  hubrepo hubrepo   \n",
       "1   support@nanohub.org  0035w000031Vsp2AAC  nanoHUB support   \n",
       "2  gridstat@nanohub.org  0035w000031Vsp3AAC  Grid Statistics   \n",
       "3       ncn@nanohub.org  0035w000031Vsp4AAC          NCN NCN   \n",
       "4      apps@nanohub.org  0035w000031Vsp5AAC  nanoHUB nanoHUB   \n",
       "\n",
       "   nanoHUB_user_ID__c  \n",
       "0               998.0  \n",
       "1              1683.0  \n",
       "2              1684.0  \n",
       "3              1685.0  \n",
       "4              1686.0  "
      ]
     },
     "metadata": {},
     "output_type": "display_data"
    },
    {
     "name": "stdout",
     "output_type": "stream",
     "text": [
      "(252271, 4)\n"
     ]
    }
   ],
   "source": [
    "display(NH_ids_sf.head(5))\n",
    "print(NH_ids_sf.shape)"
   ]
  },
  {
   "cell_type": "markdown",
   "id": "f5f30228",
   "metadata": {
    "papermill": {
     "duration": 0.072826,
     "end_time": "2021-08-26T04:53:49.671050",
     "exception": false,
     "start_time": "2021-08-26T04:53:49.598224",
     "status": "completed"
    },
    "tags": []
   },
   "source": [
    "## Pull data from DB2"
   ]
  },
  {
   "cell_type": "code",
   "execution_count": 6,
   "id": "10f07ac9",
   "metadata": {
    "execution": {
     "iopub.execute_input": "2021-08-26T04:53:49.813511Z",
     "iopub.status.busy": "2021-08-26T04:53:49.812416Z",
     "iopub.status.idle": "2021-08-26T04:53:49.817088Z",
     "shell.execute_reply": "2021-08-26T04:53:49.817670Z"
    },
    "jupyter": {
     "source_hidden": true
    },
    "papermill": {
     "duration": 0.082287,
     "end_time": "2021-08-26T04:53:49.817885",
     "exception": false,
     "start_time": "2021-08-26T04:53:49.735598",
     "status": "completed"
    },
    "tags": []
   },
   "outputs": [
    {
     "name": "stdout",
     "output_type": "stream",
     "text": [
      "select id, name, username, email from jos_users\n"
     ]
    }
   ],
   "source": [
    "sql_query = \"select id, name, username, email from jos_users\" ## this id is the NH user id\n",
    "\n",
    "# display\n",
    "print(sql_query)"
   ]
  },
  {
   "cell_type": "code",
   "execution_count": 7,
   "id": "252d4fbb",
   "metadata": {
    "execution": {
     "iopub.execute_input": "2021-08-26T04:53:50.046206Z",
     "iopub.status.busy": "2021-08-26T04:53:50.045029Z",
     "iopub.status.idle": "2021-08-26T04:53:56.037099Z",
     "shell.execute_reply": "2021-08-26T04:53:56.037603Z"
    },
    "jupyter": {
     "source_hidden": true
    },
    "papermill": {
     "duration": 6.115637,
     "end_time": "2021-08-26T04:53:56.037850",
     "exception": false,
     "start_time": "2021-08-26T04:53:49.922213",
     "status": "completed"
    },
    "tags": []
   },
   "outputs": [],
   "source": [
    "df = pd.read_sql_query(sql_query, nanohub_db)"
   ]
  },
  {
   "cell_type": "code",
   "execution_count": 8,
   "id": "3eb4727f",
   "metadata": {
    "execution": {
     "iopub.execute_input": "2021-08-26T04:53:56.189503Z",
     "iopub.status.busy": "2021-08-26T04:53:56.188554Z",
     "iopub.status.idle": "2021-08-26T04:53:56.194693Z",
     "shell.execute_reply": "2021-08-26T04:53:56.194169Z"
    },
    "jupyter": {
     "source_hidden": true
    },
    "papermill": {
     "duration": 0.080064,
     "end_time": "2021-08-26T04:53:56.194865",
     "exception": false,
     "start_time": "2021-08-26T04:53:56.114801",
     "status": "completed"
    },
    "tags": []
   },
   "outputs": [
    {
     "data": {
      "text/html": [
       "<div>\n",
       "<style scoped>\n",
       "    .dataframe tbody tr th:only-of-type {\n",
       "        vertical-align: middle;\n",
       "    }\n",
       "\n",
       "    .dataframe tbody tr th {\n",
       "        vertical-align: top;\n",
       "    }\n",
       "\n",
       "    .dataframe thead th {\n",
       "        text-align: right;\n",
       "    }\n",
       "</style>\n",
       "<table border=\"1\" class=\"dataframe\">\n",
       "  <thead>\n",
       "    <tr style=\"text-align: right;\">\n",
       "      <th></th>\n",
       "      <th>id</th>\n",
       "      <th>name</th>\n",
       "      <th>username</th>\n",
       "      <th>email</th>\n",
       "    </tr>\n",
       "  </thead>\n",
       "  <tbody>\n",
       "    <tr>\n",
       "      <th>0</th>\n",
       "      <td>998</td>\n",
       "      <td>hubrepo hubrepo</td>\n",
       "      <td>hubrepo</td>\n",
       "      <td>nkissebe@gmail.com</td>\n",
       "    </tr>\n",
       "    <tr>\n",
       "      <th>1</th>\n",
       "      <td>1000</td>\n",
       "      <td>CMS Admin Manager</td>\n",
       "      <td>admin</td>\n",
       "      <td>support@nanohub.org</td>\n",
       "    </tr>\n",
       "    <tr>\n",
       "      <th>2</th>\n",
       "      <td>1683</td>\n",
       "      <td>nanoHUB support</td>\n",
       "      <td>support</td>\n",
       "      <td>support@nanohub.org</td>\n",
       "    </tr>\n",
       "    <tr>\n",
       "      <th>3</th>\n",
       "      <td>1684</td>\n",
       "      <td>Grid Statistics</td>\n",
       "      <td>gridstat</td>\n",
       "      <td>gridstat@nanohub.org</td>\n",
       "    </tr>\n",
       "    <tr>\n",
       "      <th>4</th>\n",
       "      <td>1685</td>\n",
       "      <td>NCN NCN</td>\n",
       "      <td>ncn</td>\n",
       "      <td>ncn@nanohub.org</td>\n",
       "    </tr>\n",
       "  </tbody>\n",
       "</table>\n",
       "</div>"
      ],
      "text/plain": [
       "     id               name  username                 email\n",
       "0   998    hubrepo hubrepo   hubrepo    nkissebe@gmail.com\n",
       "1  1000  CMS Admin Manager     admin   support@nanohub.org\n",
       "2  1683    nanoHUB support   support   support@nanohub.org\n",
       "3  1684    Grid Statistics  gridstat  gridstat@nanohub.org\n",
       "4  1685            NCN NCN       ncn       ncn@nanohub.org"
      ]
     },
     "metadata": {},
     "output_type": "display_data"
    },
    {
     "name": "stdout",
     "output_type": "stream",
     "text": [
      "(256371, 4)\n"
     ]
    }
   ],
   "source": [
    "display(df.head(5))\n",
    "print(df.shape)"
   ]
  },
  {
   "cell_type": "markdown",
   "id": "e32ccfd5",
   "metadata": {
    "papermill": {
     "duration": 0.066543,
     "end_time": "2021-08-26T04:53:56.328929",
     "exception": false,
     "start_time": "2021-08-26T04:53:56.262386",
     "status": "completed"
    },
    "tags": []
   },
   "source": [
    "## Find deleted DB2 folks via NH id "
   ]
  },
  {
   "cell_type": "code",
   "execution_count": 9,
   "id": "54821aa5",
   "metadata": {
    "execution": {
     "iopub.execute_input": "2021-08-26T04:53:56.496537Z",
     "iopub.status.busy": "2021-08-26T04:53:56.474637Z",
     "iopub.status.idle": "2021-08-26T04:53:56.522451Z",
     "shell.execute_reply": "2021-08-26T04:53:56.522918Z"
    },
    "jupyter": {
     "source_hidden": true
    },
    "papermill": {
     "duration": 0.120205,
     "end_time": "2021-08-26T04:53:56.523152",
     "exception": false,
     "start_time": "2021-08-26T04:53:56.402947",
     "status": "completed"
    },
    "tags": []
   },
   "outputs": [
    {
     "name": "stdout",
     "output_type": "stream",
     "text": [
      "(238465, 4)\n"
     ]
    }
   ],
   "source": [
    "NH_ids_sf = NH_ids_sf.dropna()\n",
    "print(NH_ids_sf.shape)"
   ]
  },
  {
   "cell_type": "code",
   "execution_count": 10,
   "id": "ac9f6508",
   "metadata": {
    "execution": {
     "iopub.execute_input": "2021-08-26T04:53:56.667718Z",
     "iopub.status.busy": "2021-08-26T04:53:56.666831Z",
     "iopub.status.idle": "2021-08-26T04:53:56.755220Z",
     "shell.execute_reply": "2021-08-26T04:53:56.755749Z"
    },
    "jupyter": {
     "source_hidden": true
    },
    "papermill": {
     "duration": 0.163237,
     "end_time": "2021-08-26T04:53:56.755993",
     "exception": false,
     "start_time": "2021-08-26T04:53:56.592756",
     "status": "completed"
    },
    "tags": []
   },
   "outputs": [],
   "source": [
    "# crossref nh ids and sf nh id\n",
    "# reformat the SF nh ids as integers rather than floats\n",
    "nh_uids = NH_ids_sf['nanoHUB_user_ID__c'].apply(lambda x: int(x))\n",
    "nh_uids = nh_uids.tolist()"
   ]
  },
  {
   "cell_type": "code",
   "execution_count": 11,
   "id": "5222bdf2",
   "metadata": {
    "execution": {
     "iopub.execute_input": "2021-08-26T04:53:56.907743Z",
     "iopub.status.busy": "2021-08-26T04:53:56.907052Z",
     "iopub.status.idle": "2021-08-26T04:53:56.909076Z",
     "shell.execute_reply": "2021-08-26T04:53:56.909858Z"
    },
    "jupyter": {
     "source_hidden": true
    },
    "papermill": {
     "duration": 0.086873,
     "end_time": "2021-08-26T04:53:56.910122",
     "exception": false,
     "start_time": "2021-08-26T04:53:56.823249",
     "status": "completed"
    },
    "tags": []
   },
   "outputs": [],
   "source": [
    "db2_uids = df['id'].tolist()"
   ]
  },
  {
   "cell_type": "code",
   "execution_count": 12,
   "id": "aa1a84d7",
   "metadata": {
    "execution": {
     "iopub.execute_input": "2021-08-26T04:53:57.111263Z",
     "iopub.status.busy": "2021-08-26T04:53:57.110025Z",
     "iopub.status.idle": "2021-08-26T04:53:57.112836Z",
     "shell.execute_reply": "2021-08-26T04:53:57.113473Z"
    },
    "jupyter": {
     "source_hidden": true
    },
    "papermill": {
     "duration": 0.135934,
     "end_time": "2021-08-26T04:53:57.113782",
     "exception": false,
     "start_time": "2021-08-26T04:53:56.977848",
     "status": "completed"
    },
    "tags": []
   },
   "outputs": [],
   "source": [
    "## find all SF NH_ids that are not in db2_uids\n",
    "temp = set(nh_uids).intersection(db2_uids) #set(db2_uids).intersection(nh_uids)\n",
    "temp_diff = set(nh_uids).difference(db2_uids) #set(db2_uids).difference(nh_uids)"
   ]
  },
  {
   "cell_type": "code",
   "execution_count": 13,
   "id": "8a1160b4",
   "metadata": {
    "execution": {
     "iopub.execute_input": "2021-08-26T04:53:57.270227Z",
     "iopub.status.busy": "2021-08-26T04:53:57.269548Z",
     "iopub.status.idle": "2021-08-26T04:53:57.273684Z",
     "shell.execute_reply": "2021-08-26T04:53:57.274123Z"
    },
    "jupyter": {
     "source_hidden": true
    },
    "papermill": {
     "duration": 0.080897,
     "end_time": "2021-08-26T04:53:57.274316",
     "exception": false,
     "start_time": "2021-08-26T04:53:57.193419",
     "status": "completed"
    },
    "tags": []
   },
   "outputs": [
    {
     "name": "stdout",
     "output_type": "stream",
     "text": [
      "238252\n",
      "213\n"
     ]
    }
   ],
   "source": [
    "print(len(temp))\n",
    "print(len(temp_diff))"
   ]
  },
  {
   "cell_type": "code",
   "execution_count": 14,
   "id": "93a3b530",
   "metadata": {
    "execution": {
     "iopub.execute_input": "2021-08-26T04:53:57.417200Z",
     "iopub.status.busy": "2021-08-26T04:53:57.416515Z",
     "iopub.status.idle": "2021-08-26T04:53:57.418740Z",
     "shell.execute_reply": "2021-08-26T04:53:57.419264Z"
    },
    "jupyter": {
     "source_hidden": true
    },
    "papermill": {
     "duration": 0.076265,
     "end_time": "2021-08-26T04:53:57.419484",
     "exception": false,
     "start_time": "2021-08-26T04:53:57.343219",
     "status": "completed"
    },
    "tags": []
   },
   "outputs": [],
   "source": [
    "temp_diff = sorted(list(temp_diff))"
   ]
  },
  {
   "cell_type": "code",
   "execution_count": 15,
   "id": "2e0e3b28",
   "metadata": {
    "execution": {
     "iopub.execute_input": "2021-08-26T04:53:57.561474Z",
     "iopub.status.busy": "2021-08-26T04:53:57.560729Z",
     "iopub.status.idle": "2021-08-26T04:53:57.562602Z",
     "shell.execute_reply": "2021-08-26T04:53:57.563123Z"
    },
    "jupyter": {
     "source_hidden": true
    },
    "papermill": {
     "duration": 0.074043,
     "end_time": "2021-08-26T04:53:57.563447",
     "exception": false,
     "start_time": "2021-08-26T04:53:57.489404",
     "status": "completed"
    },
    "tags": []
   },
   "outputs": [],
   "source": [
    "## map nh_id_val to corresponding NH_ids_sf dataframe's x row index"
   ]
  },
  {
   "cell_type": "code",
   "execution_count": 16,
   "id": "458bcbe9",
   "metadata": {
    "execution": {
     "iopub.execute_input": "2021-08-26T04:53:57.711530Z",
     "iopub.status.busy": "2021-08-26T04:53:57.710784Z",
     "iopub.status.idle": "2021-08-26T04:53:57.714429Z",
     "shell.execute_reply": "2021-08-26T04:53:57.714815Z"
    },
    "jupyter": {
     "source_hidden": true
    },
    "papermill": {
     "duration": 0.077882,
     "end_time": "2021-08-26T04:53:57.715016",
     "exception": false,
     "start_time": "2021-08-26T04:53:57.637134",
     "status": "completed"
    },
    "tags": []
   },
   "outputs": [
    {
     "name": "stdout",
     "output_type": "stream",
     "text": [
      "[8628, 10086, 10287, 10424, 10533, 10832, 12070, 12314, 20780, 20938, 23192, 24064, 28538, 28626, 31179, 32694, 35202, 35782, 41960, 44341]\n"
     ]
    }
   ],
   "source": [
    "print(temp_diff[:20])"
   ]
  },
  {
   "cell_type": "code",
   "execution_count": 17,
   "id": "da402c91",
   "metadata": {
    "execution": {
     "iopub.execute_input": "2021-08-26T04:53:57.957290Z",
     "iopub.status.busy": "2021-08-26T04:53:57.905945Z",
     "iopub.status.idle": "2021-08-26T04:53:58.169060Z",
     "shell.execute_reply": "2021-08-26T04:53:58.168592Z"
    },
    "jupyter": {
     "source_hidden": true
    },
    "papermill": {
     "duration": 0.384431,
     "end_time": "2021-08-26T04:53:58.169214",
     "exception": false,
     "start_time": "2021-08-26T04:53:57.784783",
     "status": "completed"
    },
    "tags": []
   },
   "outputs": [],
   "source": [
    "x_inds = []\n",
    "\n",
    "for i in temp_diff:\n",
    "    try:\n",
    "        x_inds.append(nh_uids.index(i))\n",
    "    except:\n",
    "        # duplicate emails so that index not there\n",
    "        tt_temp = 1"
   ]
  },
  {
   "cell_type": "code",
   "execution_count": 18,
   "id": "55c1a723",
   "metadata": {
    "execution": {
     "iopub.execute_input": "2021-08-26T04:53:58.333490Z",
     "iopub.status.busy": "2021-08-26T04:53:58.332280Z",
     "iopub.status.idle": "2021-08-26T04:53:58.337364Z",
     "shell.execute_reply": "2021-08-26T04:53:58.337911Z"
    },
    "jupyter": {
     "source_hidden": true
    },
    "papermill": {
     "duration": 0.094086,
     "end_time": "2021-08-26T04:53:58.338154",
     "exception": false,
     "start_time": "2021-08-26T04:53:58.244068",
     "status": "completed"
    },
    "tags": []
   },
   "outputs": [
    {
     "name": "stdout",
     "output_type": "stream",
     "text": [
      "213\n"
     ]
    }
   ],
   "source": [
    "print(len(x_inds))"
   ]
  },
  {
   "cell_type": "code",
   "execution_count": 19,
   "id": "95658644",
   "metadata": {
    "execution": {
     "iopub.execute_input": "2021-08-26T04:53:58.536808Z",
     "iopub.status.busy": "2021-08-26T04:53:58.535641Z",
     "iopub.status.idle": "2021-08-26T04:53:58.540657Z",
     "shell.execute_reply": "2021-08-26T04:53:58.541404Z"
    },
    "jupyter": {
     "source_hidden": true
    },
    "papermill": {
     "duration": 0.106747,
     "end_time": "2021-08-26T04:53:58.541756",
     "exception": false,
     "start_time": "2021-08-26T04:53:58.435009",
     "status": "completed"
    },
    "tags": []
   },
   "outputs": [
    {
     "data": {
      "text/html": [
       "<div>\n",
       "<style scoped>\n",
       "    .dataframe tbody tr th:only-of-type {\n",
       "        vertical-align: middle;\n",
       "    }\n",
       "\n",
       "    .dataframe tbody tr th {\n",
       "        vertical-align: top;\n",
       "    }\n",
       "\n",
       "    .dataframe thead th {\n",
       "        text-align: right;\n",
       "    }\n",
       "</style>\n",
       "<table border=\"1\" class=\"dataframe\">\n",
       "  <thead>\n",
       "    <tr style=\"text-align: right;\">\n",
       "      <th></th>\n",
       "      <th>index</th>\n",
       "      <th>Email</th>\n",
       "      <th>Id</th>\n",
       "      <th>Name</th>\n",
       "      <th>nanoHUB_user_ID__c</th>\n",
       "    </tr>\n",
       "  </thead>\n",
       "  <tbody>\n",
       "    <tr>\n",
       "      <th>0</th>\n",
       "      <td>101575</td>\n",
       "      <td>dwsievers@gmail.com</td>\n",
       "      <td>0035w000034JJcfAAG</td>\n",
       "      <td>D Sievers</td>\n",
       "      <td>8628.0</td>\n",
       "    </tr>\n",
       "    <tr>\n",
       "      <th>1</th>\n",
       "      <td>107389</td>\n",
       "      <td>anoshraj@gmail.com</td>\n",
       "      <td>0035w000034JL8XAAW</td>\n",
       "      <td>anosh raj</td>\n",
       "      <td>10086.0</td>\n",
       "    </tr>\n",
       "    <tr>\n",
       "      <th>2</th>\n",
       "      <td>107981</td>\n",
       "      <td>dlr@ee.wustl.edu</td>\n",
       "      <td>0035w000034JLI6AAO</td>\n",
       "      <td>dan rode</td>\n",
       "      <td>10287.0</td>\n",
       "    </tr>\n",
       "    <tr>\n",
       "      <th>3</th>\n",
       "      <td>108686</td>\n",
       "      <td>willsd@appstate.edu</td>\n",
       "      <td>0035w000034JLTTAA4</td>\n",
       "      <td>steve williams</td>\n",
       "      <td>10424.0</td>\n",
       "    </tr>\n",
       "    <tr>\n",
       "      <th>4</th>\n",
       "      <td>108795</td>\n",
       "      <td>hmadanian@gmail.com</td>\n",
       "      <td>0035w000034JLVEAA4</td>\n",
       "      <td>Jam gord</td>\n",
       "      <td>10533.0</td>\n",
       "    </tr>\n",
       "  </tbody>\n",
       "</table>\n",
       "</div>"
      ],
      "text/plain": [
       "    index                Email                  Id            Name  \\\n",
       "0  101575  dwsievers@gmail.com  0035w000034JJcfAAG       D Sievers   \n",
       "1  107389   anoshraj@gmail.com  0035w000034JL8XAAW       anosh raj   \n",
       "2  107981     dlr@ee.wustl.edu  0035w000034JLI6AAO        dan rode   \n",
       "3  108686  willsd@appstate.edu  0035w000034JLTTAA4  steve williams   \n",
       "4  108795  hmadanian@gmail.com  0035w000034JLVEAA4        Jam gord   \n",
       "\n",
       "   nanoHUB_user_ID__c  \n",
       "0              8628.0  \n",
       "1             10086.0  \n",
       "2             10287.0  \n",
       "3             10424.0  \n",
       "4             10533.0  "
      ]
     },
     "metadata": {},
     "output_type": "display_data"
    }
   ],
   "source": [
    "nh_dels_df = NH_ids_sf.iloc[x_inds,:].reset_index()\n",
    "display(nh_dels_df.head(5))"
   ]
  },
  {
   "cell_type": "code",
   "execution_count": 20,
   "id": "f901142e",
   "metadata": {
    "execution": {
     "iopub.execute_input": "2021-08-26T04:53:58.723382Z",
     "iopub.status.busy": "2021-08-26T04:53:58.722295Z",
     "iopub.status.idle": "2021-08-26T04:53:58.727539Z",
     "shell.execute_reply": "2021-08-26T04:53:58.728116Z"
    },
    "jupyter": {
     "source_hidden": true
    },
    "papermill": {
     "duration": 0.093819,
     "end_time": "2021-08-26T04:53:58.728456",
     "exception": false,
     "start_time": "2021-08-26T04:53:58.634637",
     "status": "completed"
    },
    "tags": []
   },
   "outputs": [
    {
     "data": {
      "text/html": [
       "<div>\n",
       "<style scoped>\n",
       "    .dataframe tbody tr th:only-of-type {\n",
       "        vertical-align: middle;\n",
       "    }\n",
       "\n",
       "    .dataframe tbody tr th {\n",
       "        vertical-align: top;\n",
       "    }\n",
       "\n",
       "    .dataframe thead th {\n",
       "        text-align: right;\n",
       "    }\n",
       "</style>\n",
       "<table border=\"1\" class=\"dataframe\">\n",
       "  <thead>\n",
       "    <tr style=\"text-align: right;\">\n",
       "      <th></th>\n",
       "      <th>Email</th>\n",
       "      <th>Id</th>\n",
       "      <th>Name</th>\n",
       "      <th>nanoHUB_user_ID__c</th>\n",
       "    </tr>\n",
       "  </thead>\n",
       "  <tbody>\n",
       "    <tr>\n",
       "      <th>0</th>\n",
       "      <td>dwsievers@gmail.com</td>\n",
       "      <td>0035w000034JJcfAAG</td>\n",
       "      <td>D Sievers</td>\n",
       "      <td>8628.0</td>\n",
       "    </tr>\n",
       "    <tr>\n",
       "      <th>1</th>\n",
       "      <td>anoshraj@gmail.com</td>\n",
       "      <td>0035w000034JL8XAAW</td>\n",
       "      <td>anosh raj</td>\n",
       "      <td>10086.0</td>\n",
       "    </tr>\n",
       "    <tr>\n",
       "      <th>2</th>\n",
       "      <td>dlr@ee.wustl.edu</td>\n",
       "      <td>0035w000034JLI6AAO</td>\n",
       "      <td>dan rode</td>\n",
       "      <td>10287.0</td>\n",
       "    </tr>\n",
       "    <tr>\n",
       "      <th>3</th>\n",
       "      <td>willsd@appstate.edu</td>\n",
       "      <td>0035w000034JLTTAA4</td>\n",
       "      <td>steve williams</td>\n",
       "      <td>10424.0</td>\n",
       "    </tr>\n",
       "    <tr>\n",
       "      <th>4</th>\n",
       "      <td>hmadanian@gmail.com</td>\n",
       "      <td>0035w000034JLVEAA4</td>\n",
       "      <td>Jam gord</td>\n",
       "      <td>10533.0</td>\n",
       "    </tr>\n",
       "  </tbody>\n",
       "</table>\n",
       "</div>"
      ],
      "text/plain": [
       "                 Email                  Id            Name  nanoHUB_user_ID__c\n",
       "0  dwsievers@gmail.com  0035w000034JJcfAAG       D Sievers              8628.0\n",
       "1   anoshraj@gmail.com  0035w000034JL8XAAW       anosh raj             10086.0\n",
       "2     dlr@ee.wustl.edu  0035w000034JLI6AAO        dan rode             10287.0\n",
       "3  willsd@appstate.edu  0035w000034JLTTAA4  steve williams             10424.0\n",
       "4  hmadanian@gmail.com  0035w000034JLVEAA4        Jam gord             10533.0"
      ]
     },
     "metadata": {},
     "output_type": "display_data"
    }
   ],
   "source": [
    "nh_dels_df = nh_dels_df.drop(columns=['index'])\n",
    "display(nh_dels_df.head(5))"
   ]
  },
  {
   "cell_type": "code",
   "execution_count": 21,
   "id": "0ed0af23",
   "metadata": {
    "execution": {
     "iopub.execute_input": "2021-08-26T04:53:58.898740Z",
     "iopub.status.busy": "2021-08-26T04:53:58.898055Z",
     "iopub.status.idle": "2021-08-26T04:53:58.900461Z",
     "shell.execute_reply": "2021-08-26T04:53:58.900859Z"
    },
    "jupyter": {
     "source_hidden": true
    },
    "papermill": {
     "duration": 0.090171,
     "end_time": "2021-08-26T04:53:58.901085",
     "exception": false,
     "start_time": "2021-08-26T04:53:58.810914",
     "status": "completed"
    },
    "tags": []
   },
   "outputs": [],
   "source": [
    "dels_emails = ['deleted_'+i for i in nh_dels_df['Email'].tolist()]\n",
    "# dels_names = ['deleted_'+i for i in nh_dels_df['Name'].tolist()]\n",
    "dels_nhids = nh_dels_df['nanoHUB_user_ID__c'].apply(lambda x: int(x))"
   ]
  },
  {
   "cell_type": "code",
   "execution_count": 22,
   "id": "8510bdbf",
   "metadata": {
    "execution": {
     "iopub.execute_input": "2021-08-26T04:53:59.059481Z",
     "iopub.status.busy": "2021-08-26T04:53:59.058356Z",
     "iopub.status.idle": "2021-08-26T04:53:59.061051Z",
     "shell.execute_reply": "2021-08-26T04:53:59.061624Z"
    },
    "jupyter": {
     "source_hidden": true
    },
    "papermill": {
     "duration": 0.081053,
     "end_time": "2021-08-26T04:53:59.061806",
     "exception": false,
     "start_time": "2021-08-26T04:53:58.980753",
     "status": "completed"
    },
    "tags": []
   },
   "outputs": [],
   "source": [
    "nh_dels_df['Email'] = dels_emails\n",
    "# nh_dels_df['Name'] = dels_names\n",
    "nh_dels_df['nanoHUB_user_ID__c'] = dels_nhids"
   ]
  },
  {
   "cell_type": "code",
   "execution_count": 23,
   "id": "bf7b30c6",
   "metadata": {
    "execution": {
     "iopub.execute_input": "2021-08-26T04:53:59.216964Z",
     "iopub.status.busy": "2021-08-26T04:53:59.216202Z",
     "iopub.status.idle": "2021-08-26T04:53:59.218010Z",
     "shell.execute_reply": "2021-08-26T04:53:59.218425Z"
    },
    "jupyter": {
     "source_hidden": true
    },
    "papermill": {
     "duration": 0.078528,
     "end_time": "2021-08-26T04:53:59.218590",
     "exception": false,
     "start_time": "2021-08-26T04:53:59.140062",
     "status": "completed"
    },
    "tags": []
   },
   "outputs": [],
   "source": [
    "nh_dels_df = nh_dels_df.drop(columns=['Id','Name'])\n",
    "nh_dels_df['DB2_deleted__c'] = True"
   ]
  },
  {
   "cell_type": "code",
   "execution_count": 24,
   "id": "16278485",
   "metadata": {
    "execution": {
     "iopub.execute_input": "2021-08-26T04:53:59.375456Z",
     "iopub.status.busy": "2021-08-26T04:53:59.373771Z",
     "iopub.status.idle": "2021-08-26T04:53:59.379134Z",
     "shell.execute_reply": "2021-08-26T04:53:59.379553Z"
    },
    "jupyter": {
     "source_hidden": true
    },
    "papermill": {
     "duration": 0.08759,
     "end_time": "2021-08-26T04:53:59.379730",
     "exception": false,
     "start_time": "2021-08-26T04:53:59.292140",
     "status": "completed"
    },
    "tags": []
   },
   "outputs": [
    {
     "data": {
      "text/html": [
       "<div>\n",
       "<style scoped>\n",
       "    .dataframe tbody tr th:only-of-type {\n",
       "        vertical-align: middle;\n",
       "    }\n",
       "\n",
       "    .dataframe tbody tr th {\n",
       "        vertical-align: top;\n",
       "    }\n",
       "\n",
       "    .dataframe thead th {\n",
       "        text-align: right;\n",
       "    }\n",
       "</style>\n",
       "<table border=\"1\" class=\"dataframe\">\n",
       "  <thead>\n",
       "    <tr style=\"text-align: right;\">\n",
       "      <th></th>\n",
       "      <th>Email</th>\n",
       "      <th>nanoHUB_user_ID__c</th>\n",
       "      <th>DB2_deleted__c</th>\n",
       "    </tr>\n",
       "  </thead>\n",
       "  <tbody>\n",
       "    <tr>\n",
       "      <th>0</th>\n",
       "      <td>deleted_dwsievers@gmail.com</td>\n",
       "      <td>8628</td>\n",
       "      <td>True</td>\n",
       "    </tr>\n",
       "    <tr>\n",
       "      <th>1</th>\n",
       "      <td>deleted_anoshraj@gmail.com</td>\n",
       "      <td>10086</td>\n",
       "      <td>True</td>\n",
       "    </tr>\n",
       "    <tr>\n",
       "      <th>2</th>\n",
       "      <td>deleted_dlr@ee.wustl.edu</td>\n",
       "      <td>10287</td>\n",
       "      <td>True</td>\n",
       "    </tr>\n",
       "    <tr>\n",
       "      <th>3</th>\n",
       "      <td>deleted_willsd@appstate.edu</td>\n",
       "      <td>10424</td>\n",
       "      <td>True</td>\n",
       "    </tr>\n",
       "    <tr>\n",
       "      <th>4</th>\n",
       "      <td>deleted_hmadanian@gmail.com</td>\n",
       "      <td>10533</td>\n",
       "      <td>True</td>\n",
       "    </tr>\n",
       "  </tbody>\n",
       "</table>\n",
       "</div>"
      ],
      "text/plain": [
       "                         Email  nanoHUB_user_ID__c  DB2_deleted__c\n",
       "0  deleted_dwsievers@gmail.com                8628            True\n",
       "1   deleted_anoshraj@gmail.com               10086            True\n",
       "2     deleted_dlr@ee.wustl.edu               10287            True\n",
       "3  deleted_willsd@appstate.edu               10424            True\n",
       "4  deleted_hmadanian@gmail.com               10533            True"
      ]
     },
     "metadata": {},
     "output_type": "display_data"
    }
   ],
   "source": [
    "display(nh_dels_df.head(5))"
   ]
  },
  {
   "cell_type": "markdown",
   "id": "5829f4f2",
   "metadata": {
    "papermill": {
     "duration": 0.073364,
     "end_time": "2021-08-26T04:53:59.531472",
     "exception": false,
     "start_time": "2021-08-26T04:53:59.458108",
     "status": "completed"
    },
    "tags": []
   },
   "source": [
    "## push results to SF"
   ]
  },
  {
   "cell_type": "code",
   "execution_count": 25,
   "id": "4c0cfb3c",
   "metadata": {
    "execution": {
     "iopub.execute_input": "2021-08-26T04:53:59.689357Z",
     "iopub.status.busy": "2021-08-26T04:53:59.688162Z",
     "iopub.status.idle": "2021-08-26T04:53:59.691065Z",
     "shell.execute_reply": "2021-08-26T04:53:59.691995Z"
    },
    "jupyter": {
     "source_hidden": true
    },
    "papermill": {
     "duration": 0.08345,
     "end_time": "2021-08-26T04:53:59.692486",
     "exception": false,
     "start_time": "2021-08-26T04:53:59.609036",
     "status": "completed"
    },
    "tags": []
   },
   "outputs": [],
   "source": [
    "db_2 = salesforce"
   ]
  },
  {
   "cell_type": "code",
   "execution_count": 26,
   "id": "45de0878",
   "metadata": {
    "execution": {
     "iopub.execute_input": "2021-08-26T04:53:59.846414Z",
     "iopub.status.busy": "2021-08-26T04:53:59.845797Z",
     "iopub.status.idle": "2021-08-26T04:53:59.847393Z",
     "shell.execute_reply": "2021-08-26T04:53:59.847961Z"
    },
    "jupyter": {
     "source_hidden": true
    },
    "papermill": {
     "duration": 0.079593,
     "end_time": "2021-08-26T04:53:59.848130",
     "exception": false,
     "start_time": "2021-08-26T04:53:59.768537",
     "status": "completed"
    },
    "tags": []
   },
   "outputs": [],
   "source": [
    "db_2.object_id = 'Contact'\n",
    "db_2.external_id = 'nanoHUB_user_ID__c'"
   ]
  },
  {
   "cell_type": "code",
   "execution_count": 27,
   "id": "75cfceda",
   "metadata": {
    "execution": {
     "iopub.execute_input": "2021-08-26T04:54:00.017264Z",
     "iopub.status.busy": "2021-08-26T04:54:00.016018Z",
     "iopub.status.idle": "2021-08-26T04:54:01.196715Z",
     "shell.execute_reply": "2021-08-26T04:54:01.197479Z"
    },
    "jupyter": {
     "source_hidden": true
    },
    "papermill": {
     "duration": 1.266417,
     "end_time": "2021-08-26T04:54:01.198063",
     "exception": false,
     "start_time": "2021-08-26T04:53:59.931646",
     "status": "completed"
    },
    "tags": []
   },
   "outputs": [
    {
     "name": "stdout",
     "output_type": "stream",
     "text": [
      "[Success] Bulk job creation successful. Job ID = 7505w00000ZJLCGAA5\n",
      "hello\n"
     ]
    },
    {
     "name": "stdout",
     "output_type": "stream",
     "text": [
      "[Success] CSV upload successful. Job ID = 7505w00000ZJLCGAA5\n"
     ]
    },
    {
     "name": "stdout",
     "output_type": "stream",
     "text": [
      "[Success] Closing job successful. Job ID = 7505w00000ZJLCGAA5\n"
     ]
    }
   ],
   "source": [
    "db_2.send_data(nh_dels_df)"
   ]
  },
  {
   "cell_type": "code",
   "execution_count": 28,
   "id": "922b9d67",
   "metadata": {
    "execution": {
     "iopub.execute_input": "2021-08-26T04:54:01.352832Z",
     "iopub.status.busy": "2021-08-26T04:54:01.352014Z",
     "iopub.status.idle": "2021-08-26T04:54:01.849395Z",
     "shell.execute_reply": "2021-08-26T04:54:01.850232Z"
    },
    "jupyter": {
     "source_hidden": true
    },
    "papermill": {
     "duration": 0.574278,
     "end_time": "2021-08-26T04:54:01.850790",
     "exception": false,
     "start_time": "2021-08-26T04:54:01.276512",
     "status": "completed"
    },
    "tags": []
   },
   "outputs": [
    {
     "data": {
      "text/plain": [
       "{'id': '7505w00000ZJLCGAA5',\n",
       " 'operation': 'upsert',\n",
       " 'object': 'Contact',\n",
       " 'createdById': '0055w00000DM5bOAAT',\n",
       " 'createdDate': '2021-08-26T04:54:00.000+0000',\n",
       " 'systemModstamp': '2021-08-26T04:54:01.000+0000',\n",
       " 'state': 'UploadComplete',\n",
       " 'externalIdFieldName': 'nanoHUB_user_ID__c',\n",
       " 'concurrencyMode': 'Parallel',\n",
       " 'contentType': 'CSV',\n",
       " 'apiVersion': 47.0,\n",
       " 'jobType': 'V2Ingest',\n",
       " 'lineEnding': 'LF',\n",
       " 'columnDelimiter': 'COMMA',\n",
       " 'numberRecordsProcessed': 0,\n",
       " 'numberRecordsFailed': 0,\n",
       " 'retries': 0,\n",
       " 'totalProcessingTime': 0,\n",
       " 'apiActiveProcessingTime': 0,\n",
       " 'apexProcessingTime': 0}"
      ]
     },
     "execution_count": 28,
     "metadata": {},
     "output_type": "execute_result"
    }
   ],
   "source": [
    "# check status\n",
    "db_2.check_bulk_status()"
   ]
  },
  {
   "cell_type": "code",
   "execution_count": 29,
   "id": "1789b4f1",
   "metadata": {
    "execution": {
     "iopub.execute_input": "2021-08-26T04:54:02.010927Z",
     "iopub.status.busy": "2021-08-26T04:54:02.010077Z",
     "iopub.status.idle": "2021-08-26T04:54:02.229561Z",
     "shell.execute_reply": "2021-08-26T04:54:02.230768Z"
    },
    "jupyter": {
     "source_hidden": true
    },
    "papermill": {
     "duration": 0.297283,
     "end_time": "2021-08-26T04:54:02.231256",
     "exception": false,
     "start_time": "2021-08-26T04:54:01.933973",
     "status": "completed"
    },
    "tags": []
   },
   "outputs": [
    {
     "name": "stdout",
     "output_type": "stream",
     "text": [
      "''\n"
     ]
    }
   ],
   "source": [
    "# check status\n",
    "from pprint import pprint\n",
    "\n",
    "pprint(db_2.check_bulk_failed_results())"
   ]
  },
  {
   "cell_type": "code",
   "execution_count": null,
   "id": "1d098a2e",
   "metadata": {
    "jupyter": {
     "source_hidden": true
    },
    "papermill": {
     "duration": 0.080732,
     "end_time": "2021-08-26T04:54:02.403015",
     "exception": false,
     "start_time": "2021-08-26T04:54:02.322283",
     "status": "completed"
    },
    "tags": []
   },
   "outputs": [],
   "source": []
  }
 ],
 "metadata": {
  "kernelspec": {
   "display_name": "Python 3",
   "language": "python",
   "name": "python3"
  },
  "language_info": {
   "codemirror_mode": {
    "name": "ipython",
    "version": 3
   },
   "file_extension": ".py",
   "mimetype": "text/x-python",
   "name": "python",
   "nbconvert_exporter": "python",
   "pygments_lexer": "ipython3",
   "version": "3.8.2"
  },
  "papermill": {
   "default_parameters": {},
   "duration": 54.925684,
   "end_time": "2021-08-26T04:54:02.893818",
   "environment_variables": {},
   "exception": null,
   "input_path": "nanoHUB/pipeline/salesforce/db2users_remap_sf.ipynb",
   "output_path": "./.output/db2users_remap_sf.ipynb",
   "parameters": {},
   "start_time": "2021-08-26T04:53:07.968134",
   "version": "2.3.3"
  }
 },
 "nbformat": 4,
 "nbformat_minor": 5
}