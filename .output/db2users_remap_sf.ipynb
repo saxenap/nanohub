{
 "cells": [
  {
   "cell_type": "markdown",
   "id": "b260b904",
   "metadata": {
    "papermill": {
     "duration": 0.072473,
     "end_time": "2021-10-22T12:08:25.337745",
     "exception": false,
     "start_time": "2021-10-22T12:08:25.265272",
     "status": "completed"
    },
    "tags": []
   },
   "source": [
    "## Finding NH DB2 deleted users by doing a back scrawl search"
   ]
  },
  {
   "cell_type": "code",
   "execution_count": 1,
   "id": "c99a8d4a",
   "metadata": {
    "execution": {
     "iopub.execute_input": "2021-10-22T12:08:25.452306Z",
     "iopub.status.busy": "2021-10-22T12:08:25.451625Z",
     "iopub.status.idle": "2021-10-22T12:08:27.145451Z",
     "shell.execute_reply": "2021-10-22T12:08:27.146446Z"
    },
    "jupyter": {
     "source_hidden": true
    },
    "papermill": {
     "duration": 1.754855,
     "end_time": "2021-10-22T12:08:27.147082",
     "exception": false,
     "start_time": "2021-10-22T12:08:25.392227",
     "status": "completed"
    },
    "tags": []
   },
   "outputs": [
    {
     "name": "stdout",
     "output_type": "stream",
     "text": [
      "\u001b[1mnanoHUB - Serving Students, Researchers & Instructors\u001b[0m\n"
     ]
    },
    {
     "name": "stdout",
     "output_type": "stream",
     "text": [
      "Obtained Salesforce access token ...... True\n"
     ]
    }
   ],
   "source": [
    "# API settings\n",
    "api_url = '/services/data/v43.0/sobjects'\n",
    "external_id = 'Name'\n",
    "object_id = 'ContactToolAssociation__c'\n",
    "\n",
    "# login parameters to be handled by Papermill\n",
    "from nanoHUB.application import Application\n",
    "\n",
    "application = Application.get_instance()\n",
    "nanohub_db = application.new_db_engine('nanohub')\n",
    "\n",
    "salesforce = application.new_salesforce_engine()\n",
    "db_s = salesforce"
   ]
  },
  {
   "cell_type": "code",
   "execution_count": 2,
   "id": "e5c75936",
   "metadata": {
    "execution": {
     "iopub.execute_input": "2021-10-22T12:08:27.269158Z",
     "iopub.status.busy": "2021-10-22T12:08:27.268197Z",
     "iopub.status.idle": "2021-10-22T12:08:27.270415Z",
     "shell.execute_reply": "2021-10-22T12:08:27.270834Z"
    },
    "jupyter": {
     "source_hidden": true
    },
    "papermill": {
     "duration": 0.059988,
     "end_time": "2021-10-22T12:08:27.271069",
     "exception": false,
     "start_time": "2021-10-22T12:08:27.211081",
     "status": "completed"
    },
    "tags": []
   },
   "outputs": [],
   "source": [
    "import sys\n",
    "# sys.path.append('/home/users/wang2506/nanohub_salesforce_integ/salesforce')\n",
    "\n",
    "import pandas as pd\n",
    "import time\n",
    "import datetime\n",
    "\n",
    "# from DB2SalesforceAPI import DB2SalesforceAPI"
   ]
  },
  {
   "cell_type": "markdown",
   "id": "defffecd",
   "metadata": {
    "papermill": {
     "duration": 0.046612,
     "end_time": "2021-10-22T12:08:27.369143",
     "exception": false,
     "start_time": "2021-10-22T12:08:27.322531",
     "status": "completed"
    },
    "tags": []
   },
   "source": [
    "## Pull data from SF"
   ]
  },
  {
   "cell_type": "code",
   "execution_count": 3,
   "id": "e482f866",
   "metadata": {
    "execution": {
     "iopub.execute_input": "2021-10-22T12:08:27.469570Z",
     "iopub.status.busy": "2021-10-22T12:08:27.469050Z",
     "iopub.status.idle": "2021-10-22T12:08:27.472502Z",
     "shell.execute_reply": "2021-10-22T12:08:27.471973Z"
    },
    "jupyter": {
     "source_hidden": true
    },
    "papermill": {
     "duration": 0.054767,
     "end_time": "2021-10-22T12:08:27.472721",
     "exception": false,
     "start_time": "2021-10-22T12:08:27.417954",
     "status": "completed"
    },
    "tags": []
   },
   "outputs": [],
   "source": [
    "db_1 = salesforce"
   ]
  },
  {
   "cell_type": "code",
   "execution_count": 4,
   "id": "0bca184d",
   "metadata": {
    "execution": {
     "iopub.execute_input": "2021-10-22T12:08:27.584136Z",
     "iopub.status.busy": "2021-10-22T12:08:27.583412Z",
     "iopub.status.idle": "2021-10-22T12:09:05.709058Z",
     "shell.execute_reply": "2021-10-22T12:09:05.709617Z"
    },
    "jupyter": {
     "source_hidden": true
    },
    "papermill": {
     "duration": 38.183194,
     "end_time": "2021-10-22T12:09:05.709862",
     "exception": false,
     "start_time": "2021-10-22T12:08:27.526668",
     "status": "completed"
    },
    "tags": []
   },
   "outputs": [
    {
     "name": "stdout",
     "output_type": "stream",
     "text": [
      "[Success] Bulk job creation successful. Job ID = 7505w00000b1ovgAAA\n"
     ]
    },
    {
     "name": "stdout",
     "output_type": "stream",
     "text": [
      "{\"id\":\"7505w00000b1ovgAAA\",\"operation\":\"query\",\"object\":\"Contact\",\"createdById\":\"0055w00000DM5bOAAT\",\"createdDate\":\"2021-10-22T12:08:28.000+0000\",\"systemModstamp\":\"2021-10-22T12:08:28.000+0000\",\"state\":\"UploadComplete\",\"concurrencyMode\":\"Parallel\",\"contentType\":\"CSV\",\"apiVersion\":47.0,\"jobType\":\"V2Query\",\"lineEnding\":\"LF\",\"columnDelimiter\":\"COMMA\",\"retries\":0,\"totalProcessingTime\":0}\n"
     ]
    },
    {
     "name": "stdout",
     "output_type": "stream",
     "text": [
      "{\"id\":\"7505w00000b1ovgAAA\",\"operation\":\"query\",\"object\":\"Contact\",\"createdById\":\"0055w00000DM5bOAAT\",\"createdDate\":\"2021-10-22T12:08:28.000+0000\",\"systemModstamp\":\"2021-10-22T12:08:34.000+0000\",\"state\":\"InProgress\",\"concurrencyMode\":\"Parallel\",\"contentType\":\"CSV\",\"apiVersion\":47.0,\"jobType\":\"V2Query\",\"lineEnding\":\"LF\",\"columnDelimiter\":\"COMMA\",\"numberRecordsProcessed\":0,\"retries\":0,\"totalProcessingTime\":0}\n"
     ]
    },
    {
     "name": "stdout",
     "output_type": "stream",
     "text": [
      "{\"id\":\"7505w00000b1ovgAAA\",\"operation\":\"query\",\"object\":\"Contact\",\"createdById\":\"0055w00000DM5bOAAT\",\"createdDate\":\"2021-10-22T12:08:28.000+0000\",\"systemModstamp\":\"2021-10-22T12:08:34.000+0000\",\"state\":\"InProgress\",\"concurrencyMode\":\"Parallel\",\"contentType\":\"CSV\",\"apiVersion\":47.0,\"jobType\":\"V2Query\",\"lineEnding\":\"LF\",\"columnDelimiter\":\"COMMA\",\"numberRecordsProcessed\":14560,\"retries\":0,\"totalProcessingTime\":1012}\n"
     ]
    },
    {
     "name": "stdout",
     "output_type": "stream",
     "text": [
      "{\"id\":\"7505w00000b1ovgAAA\",\"operation\":\"query\",\"object\":\"Contact\",\"createdById\":\"0055w00000DM5bOAAT\",\"createdDate\":\"2021-10-22T12:08:28.000+0000\",\"systemModstamp\":\"2021-10-22T12:08:53.000+0000\",\"state\":\"JobComplete\",\"concurrencyMode\":\"Parallel\",\"contentType\":\"CSV\",\"apiVersion\":47.0,\"jobType\":\"V2Query\",\"lineEnding\":\"LF\",\"columnDelimiter\":\"COMMA\",\"numberRecordsProcessed\":262304,\"retries\":0,\"totalProcessingTime\":14051}\n",
      "[Success] Bulk job completed successfully.\n"
     ]
    }
   ],
   "source": [
    "NH_ids_sf = db_1.query_data('Select ID, nanoHUB_user_ID__c, Name, Email from Contact')"
   ]
  },
  {
   "cell_type": "code",
   "execution_count": 5,
   "id": "863d8afe",
   "metadata": {
    "execution": {
     "iopub.execute_input": "2021-10-22T12:09:05.838831Z",
     "iopub.status.busy": "2021-10-22T12:09:05.838041Z",
     "iopub.status.idle": "2021-10-22T12:09:05.848746Z",
     "shell.execute_reply": "2021-10-22T12:09:05.849176Z"
    },
    "jupyter": {
     "source_hidden": true
    },
    "papermill": {
     "duration": 0.080689,
     "end_time": "2021-10-22T12:09:05.849419",
     "exception": false,
     "start_time": "2021-10-22T12:09:05.768730",
     "status": "completed"
    },
    "tags": []
   },
   "outputs": [
    {
     "data": {
      "text/html": [
       "<div>\n",
       "<style scoped>\n",
       "    .dataframe tbody tr th:only-of-type {\n",
       "        vertical-align: middle;\n",
       "    }\n",
       "\n",
       "    .dataframe tbody tr th {\n",
       "        vertical-align: top;\n",
       "    }\n",
       "\n",
       "    .dataframe thead th {\n",
       "        text-align: right;\n",
       "    }\n",
       "</style>\n",
       "<table border=\"1\" class=\"dataframe\">\n",
       "  <thead>\n",
       "    <tr style=\"text-align: right;\">\n",
       "      <th></th>\n",
       "      <th>Email</th>\n",
       "      <th>Id</th>\n",
       "      <th>Name</th>\n",
       "      <th>nanoHUB_user_ID__c</th>\n",
       "    </tr>\n",
       "  </thead>\n",
       "  <tbody>\n",
       "    <tr>\n",
       "      <th>0</th>\n",
       "      <td>nkissebe@gmail.com</td>\n",
       "      <td>0035w000031Vsp1AAC</td>\n",
       "      <td>hubrepo hubrepo</td>\n",
       "      <td>998.0</td>\n",
       "    </tr>\n",
       "    <tr>\n",
       "      <th>1</th>\n",
       "      <td>support@nanohub.org</td>\n",
       "      <td>0035w000031Vsp2AAC</td>\n",
       "      <td>nanoHUB support</td>\n",
       "      <td>1683.0</td>\n",
       "    </tr>\n",
       "    <tr>\n",
       "      <th>2</th>\n",
       "      <td>gridstat@nanohub.org</td>\n",
       "      <td>0035w000031Vsp3AAC</td>\n",
       "      <td>Grid Statistics</td>\n",
       "      <td>1684.0</td>\n",
       "    </tr>\n",
       "    <tr>\n",
       "      <th>3</th>\n",
       "      <td>ncn@nanohub.org</td>\n",
       "      <td>0035w000031Vsp4AAC</td>\n",
       "      <td>NCN NCN</td>\n",
       "      <td>1685.0</td>\n",
       "    </tr>\n",
       "    <tr>\n",
       "      <th>4</th>\n",
       "      <td>apps@nanohub.org</td>\n",
       "      <td>0035w000031Vsp5AAC</td>\n",
       "      <td>nanoHUB nanoHUB</td>\n",
       "      <td>1686.0</td>\n",
       "    </tr>\n",
       "  </tbody>\n",
       "</table>\n",
       "</div>"
      ],
      "text/plain": [
       "                  Email                  Id             Name  \\\n",
       "0    nkissebe@gmail.com  0035w000031Vsp1AAC  hubrepo hubrepo   \n",
       "1   support@nanohub.org  0035w000031Vsp2AAC  nanoHUB support   \n",
       "2  gridstat@nanohub.org  0035w000031Vsp3AAC  Grid Statistics   \n",
       "3       ncn@nanohub.org  0035w000031Vsp4AAC          NCN NCN   \n",
       "4      apps@nanohub.org  0035w000031Vsp5AAC  nanoHUB nanoHUB   \n",
       "\n",
       "   nanoHUB_user_ID__c  \n",
       "0               998.0  \n",
       "1              1683.0  \n",
       "2              1684.0  \n",
       "3              1685.0  \n",
       "4              1686.0  "
      ]
     },
     "metadata": {},
     "output_type": "display_data"
    },
    {
     "name": "stdout",
     "output_type": "stream",
     "text": [
      "(247744, 4)\n"
     ]
    }
   ],
   "source": [
    "display(NH_ids_sf.head(5))\n",
    "print(NH_ids_sf.shape)"
   ]
  },
  {
   "cell_type": "markdown",
   "id": "29a668c3",
   "metadata": {
    "papermill": {
     "duration": 0.061233,
     "end_time": "2021-10-22T12:09:05.970889",
     "exception": false,
     "start_time": "2021-10-22T12:09:05.909656",
     "status": "completed"
    },
    "tags": []
   },
   "source": [
    "## Pull data from DB2"
   ]
  },
  {
   "cell_type": "code",
   "execution_count": 6,
   "id": "614275c5",
   "metadata": {
    "execution": {
     "iopub.execute_input": "2021-10-22T12:09:06.091649Z",
     "iopub.status.busy": "2021-10-22T12:09:06.091123Z",
     "iopub.status.idle": "2021-10-22T12:09:06.093611Z",
     "shell.execute_reply": "2021-10-22T12:09:06.094117Z"
    },
    "jupyter": {
     "source_hidden": true
    },
    "papermill": {
     "duration": 0.065494,
     "end_time": "2021-10-22T12:09:06.094416",
     "exception": false,
     "start_time": "2021-10-22T12:09:06.028922",
     "status": "completed"
    },
    "tags": []
   },
   "outputs": [
    {
     "name": "stdout",
     "output_type": "stream",
     "text": [
      "select id, name, username, email from jos_users\n"
     ]
    }
   ],
   "source": [
    "sql_query = \"select id, name, username, email from jos_users\" ## this id is the NH user id\n",
    "\n",
    "# display\n",
    "print(sql_query)"
   ]
  },
  {
   "cell_type": "code",
   "execution_count": 7,
   "id": "ad50ed0c",
   "metadata": {
    "execution": {
     "iopub.execute_input": "2021-10-22T12:09:06.220533Z",
     "iopub.status.busy": "2021-10-22T12:09:06.219970Z",
     "iopub.status.idle": "2021-10-22T12:09:11.168052Z",
     "shell.execute_reply": "2021-10-22T12:09:11.168587Z"
    },
    "jupyter": {
     "source_hidden": true
    },
    "papermill": {
     "duration": 5.013628,
     "end_time": "2021-10-22T12:09:11.168834",
     "exception": false,
     "start_time": "2021-10-22T12:09:06.155206",
     "status": "completed"
    },
    "tags": []
   },
   "outputs": [],
   "source": [
    "df = pd.read_sql_query(sql_query, nanohub_db)"
   ]
  },
  {
   "cell_type": "code",
   "execution_count": 8,
   "id": "8d997d57",
   "metadata": {
    "execution": {
     "iopub.execute_input": "2021-10-22T12:09:11.302726Z",
     "iopub.status.busy": "2021-10-22T12:09:11.301974Z",
     "iopub.status.idle": "2021-10-22T12:09:11.305581Z",
     "shell.execute_reply": "2021-10-22T12:09:11.306064Z"
    },
    "jupyter": {
     "source_hidden": true
    },
    "papermill": {
     "duration": 0.073954,
     "end_time": "2021-10-22T12:09:11.306309",
     "exception": false,
     "start_time": "2021-10-22T12:09:11.232355",
     "status": "completed"
    },
    "tags": []
   },
   "outputs": [
    {
     "data": {
      "text/html": [
       "<div>\n",
       "<style scoped>\n",
       "    .dataframe tbody tr th:only-of-type {\n",
       "        vertical-align: middle;\n",
       "    }\n",
       "\n",
       "    .dataframe tbody tr th {\n",
       "        vertical-align: top;\n",
       "    }\n",
       "\n",
       "    .dataframe thead th {\n",
       "        text-align: right;\n",
       "    }\n",
       "</style>\n",
       "<table border=\"1\" class=\"dataframe\">\n",
       "  <thead>\n",
       "    <tr style=\"text-align: right;\">\n",
       "      <th></th>\n",
       "      <th>id</th>\n",
       "      <th>name</th>\n",
       "      <th>username</th>\n",
       "      <th>email</th>\n",
       "    </tr>\n",
       "  </thead>\n",
       "  <tbody>\n",
       "    <tr>\n",
       "      <th>0</th>\n",
       "      <td>998</td>\n",
       "      <td>hubrepo hubrepo</td>\n",
       "      <td>hubrepo</td>\n",
       "      <td>nkissebe@gmail.com</td>\n",
       "    </tr>\n",
       "    <tr>\n",
       "      <th>1</th>\n",
       "      <td>1000</td>\n",
       "      <td>CMS Admin Manager</td>\n",
       "      <td>admin</td>\n",
       "      <td>support@nanohub.org</td>\n",
       "    </tr>\n",
       "    <tr>\n",
       "      <th>2</th>\n",
       "      <td>1683</td>\n",
       "      <td>nanoHUB support</td>\n",
       "      <td>support</td>\n",
       "      <td>support@nanohub.org</td>\n",
       "    </tr>\n",
       "    <tr>\n",
       "      <th>3</th>\n",
       "      <td>1684</td>\n",
       "      <td>Grid Statistics</td>\n",
       "      <td>gridstat</td>\n",
       "      <td>gridstat@nanohub.org</td>\n",
       "    </tr>\n",
       "    <tr>\n",
       "      <th>4</th>\n",
       "      <td>1685</td>\n",
       "      <td>NCN NCN</td>\n",
       "      <td>ncn</td>\n",
       "      <td>ncn@nanohub.org</td>\n",
       "    </tr>\n",
       "  </tbody>\n",
       "</table>\n",
       "</div>"
      ],
      "text/plain": [
       "     id               name  username                 email\n",
       "0   998    hubrepo hubrepo   hubrepo    nkissebe@gmail.com\n",
       "1  1000  CMS Admin Manager     admin   support@nanohub.org\n",
       "2  1683    nanoHUB support   support   support@nanohub.org\n",
       "3  1684    Grid Statistics  gridstat  gridstat@nanohub.org\n",
       "4  1685            NCN NCN       ncn       ncn@nanohub.org"
      ]
     },
     "metadata": {},
     "output_type": "display_data"
    },
    {
     "name": "stdout",
     "output_type": "stream",
     "text": [
      "(261661, 4)\n"
     ]
    }
   ],
   "source": [
    "display(df.head(5))\n",
    "print(df.shape)"
   ]
  },
  {
   "cell_type": "markdown",
   "id": "5e12ad7a",
   "metadata": {
    "papermill": {
     "duration": 0.0566,
     "end_time": "2021-10-22T12:09:11.424027",
     "exception": false,
     "start_time": "2021-10-22T12:09:11.367427",
     "status": "completed"
    },
    "tags": []
   },
   "source": [
    "## Find deleted DB2 folks via NH id "
   ]
  },
  {
   "cell_type": "code",
   "execution_count": 9,
   "id": "3e460a4a",
   "metadata": {
    "execution": {
     "iopub.execute_input": "2021-10-22T12:09:11.578697Z",
     "iopub.status.busy": "2021-10-22T12:09:11.578101Z",
     "iopub.status.idle": "2021-10-22T12:09:11.597090Z",
     "shell.execute_reply": "2021-10-22T12:09:11.597560Z"
    },
    "jupyter": {
     "source_hidden": true
    },
    "papermill": {
     "duration": 0.112205,
     "end_time": "2021-10-22T12:09:11.597764",
     "exception": false,
     "start_time": "2021-10-22T12:09:11.485559",
     "status": "completed"
    },
    "tags": []
   },
   "outputs": [
    {
     "name": "stdout",
     "output_type": "stream",
     "text": [
      "(233222, 4)\n"
     ]
    }
   ],
   "source": [
    "NH_ids_sf = NH_ids_sf.dropna()\n",
    "print(NH_ids_sf.shape)"
   ]
  },
  {
   "cell_type": "code",
   "execution_count": 10,
   "id": "57936f2f",
   "metadata": {
    "execution": {
     "iopub.execute_input": "2021-10-22T12:09:11.807879Z",
     "iopub.status.busy": "2021-10-22T12:09:11.807143Z",
     "iopub.status.idle": "2021-10-22T12:09:11.816329Z",
     "shell.execute_reply": "2021-10-22T12:09:11.816906Z"
    },
    "jupyter": {
     "source_hidden": true
    },
    "papermill": {
     "duration": 0.155309,
     "end_time": "2021-10-22T12:09:11.817160",
     "exception": false,
     "start_time": "2021-10-22T12:09:11.661851",
     "status": "completed"
    },
    "tags": []
   },
   "outputs": [],
   "source": [
    "# crossref nh ids and sf nh id\n",
    "# reformat the SF nh ids as integers rather than floats\n",
    "nh_uids = NH_ids_sf['nanoHUB_user_ID__c'].apply(lambda x: int(x))\n",
    "nh_uids = nh_uids.tolist()"
   ]
  },
  {
   "cell_type": "code",
   "execution_count": 11,
   "id": "a080a957",
   "metadata": {
    "execution": {
     "iopub.execute_input": "2021-10-22T12:09:11.954720Z",
     "iopub.status.busy": "2021-10-22T12:09:11.953885Z",
     "iopub.status.idle": "2021-10-22T12:09:11.955913Z",
     "shell.execute_reply": "2021-10-22T12:09:11.956417Z"
    },
    "jupyter": {
     "source_hidden": true
    },
    "papermill": {
     "duration": 0.075564,
     "end_time": "2021-10-22T12:09:11.956953",
     "exception": false,
     "start_time": "2021-10-22T12:09:11.881389",
     "status": "completed"
    },
    "tags": []
   },
   "outputs": [],
   "source": [
    "db2_uids = df['id'].tolist()"
   ]
  },
  {
   "cell_type": "code",
   "execution_count": 12,
   "id": "23067af6",
   "metadata": {
    "execution": {
     "iopub.execute_input": "2021-10-22T12:09:12.141826Z",
     "iopub.status.busy": "2021-10-22T12:09:12.129716Z",
     "iopub.status.idle": "2021-10-22T12:09:12.144418Z",
     "shell.execute_reply": "2021-10-22T12:09:12.144928Z"
    },
    "jupyter": {
     "source_hidden": true
    },
    "papermill": {
     "duration": 0.120269,
     "end_time": "2021-10-22T12:09:12.145117",
     "exception": false,
     "start_time": "2021-10-22T12:09:12.024848",
     "status": "completed"
    },
    "tags": []
   },
   "outputs": [],
   "source": [
    "## find all SF NH_ids that are not in db2_uids\n",
    "temp = set(nh_uids).intersection(db2_uids) #set(db2_uids).intersection(nh_uids)\n",
    "temp_diff = set(nh_uids).difference(db2_uids) #set(db2_uids).difference(nh_uids)"
   ]
  },
  {
   "cell_type": "code",
   "execution_count": 13,
   "id": "840b4d70",
   "metadata": {
    "execution": {
     "iopub.execute_input": "2021-10-22T12:09:12.284715Z",
     "iopub.status.busy": "2021-10-22T12:09:12.283991Z",
     "iopub.status.idle": "2021-10-22T12:09:12.286563Z",
     "shell.execute_reply": "2021-10-22T12:09:12.287026Z"
    },
    "jupyter": {
     "source_hidden": true
    },
    "papermill": {
     "duration": 0.073716,
     "end_time": "2021-10-22T12:09:12.287240",
     "exception": false,
     "start_time": "2021-10-22T12:09:12.213524",
     "status": "completed"
    },
    "tags": []
   },
   "outputs": [
    {
     "name": "stdout",
     "output_type": "stream",
     "text": [
      "232994\n",
      "228\n"
     ]
    }
   ],
   "source": [
    "print(len(temp))\n",
    "print(len(temp_diff))"
   ]
  },
  {
   "cell_type": "code",
   "execution_count": 14,
   "id": "ff800741",
   "metadata": {
    "execution": {
     "iopub.execute_input": "2021-10-22T12:09:12.420337Z",
     "iopub.status.busy": "2021-10-22T12:09:12.419801Z",
     "iopub.status.idle": "2021-10-22T12:09:12.422058Z",
     "shell.execute_reply": "2021-10-22T12:09:12.422524Z"
    },
    "jupyter": {
     "source_hidden": true
    },
    "papermill": {
     "duration": 0.069872,
     "end_time": "2021-10-22T12:09:12.422770",
     "exception": false,
     "start_time": "2021-10-22T12:09:12.352898",
     "status": "completed"
    },
    "tags": []
   },
   "outputs": [],
   "source": [
    "temp_diff = sorted(list(temp_diff))"
   ]
  },
  {
   "cell_type": "code",
   "execution_count": 15,
   "id": "a53360a4",
   "metadata": {
    "execution": {
     "iopub.execute_input": "2021-10-22T12:09:12.548910Z",
     "iopub.status.busy": "2021-10-22T12:09:12.548279Z",
     "iopub.status.idle": "2021-10-22T12:09:12.551078Z",
     "shell.execute_reply": "2021-10-22T12:09:12.551535Z"
    },
    "jupyter": {
     "source_hidden": true
    },
    "papermill": {
     "duration": 0.06663,
     "end_time": "2021-10-22T12:09:12.551936",
     "exception": false,
     "start_time": "2021-10-22T12:09:12.485306",
     "status": "completed"
    },
    "tags": []
   },
   "outputs": [],
   "source": [
    "## map nh_id_val to corresponding NH_ids_sf dataframe's x row index"
   ]
  },
  {
   "cell_type": "code",
   "execution_count": 16,
   "id": "41141927",
   "metadata": {
    "execution": {
     "iopub.execute_input": "2021-10-22T12:09:12.674672Z",
     "iopub.status.busy": "2021-10-22T12:09:12.674142Z",
     "iopub.status.idle": "2021-10-22T12:09:12.676323Z",
     "shell.execute_reply": "2021-10-22T12:09:12.676840Z"
    },
    "jupyter": {
     "source_hidden": true
    },
    "papermill": {
     "duration": 0.06486,
     "end_time": "2021-10-22T12:09:12.677079",
     "exception": false,
     "start_time": "2021-10-22T12:09:12.612219",
     "status": "completed"
    },
    "tags": []
   },
   "outputs": [
    {
     "name": "stdout",
     "output_type": "stream",
     "text": [
      "[8628, 10086, 10287, 10424, 10533, 10832, 12070, 12314, 19198, 20780, 20938, 23192, 24064, 28538, 28626, 31179, 32694, 35202, 35782, 41960]\n"
     ]
    }
   ],
   "source": [
    "print(temp_diff[:20])"
   ]
  },
  {
   "cell_type": "code",
   "execution_count": 17,
   "id": "cc0056ba",
   "metadata": {
    "execution": {
     "iopub.execute_input": "2021-10-22T12:09:12.899580Z",
     "iopub.status.busy": "2021-10-22T12:09:12.841989Z",
     "iopub.status.idle": "2021-10-22T12:09:13.101392Z",
     "shell.execute_reply": "2021-10-22T12:09:13.101891Z"
    },
    "jupyter": {
     "source_hidden": true
    },
    "papermill": {
     "duration": 0.360096,
     "end_time": "2021-10-22T12:09:13.102126",
     "exception": false,
     "start_time": "2021-10-22T12:09:12.742030",
     "status": "completed"
    },
    "tags": []
   },
   "outputs": [],
   "source": [
    "x_inds = []\n",
    "\n",
    "for i in temp_diff:\n",
    "    try:\n",
    "        x_inds.append(nh_uids.index(i))\n",
    "    except:\n",
    "        # duplicate emails so that index not there\n",
    "        tt_temp = 1"
   ]
  },
  {
   "cell_type": "code",
   "execution_count": 18,
   "id": "5f2e804b",
   "metadata": {
    "execution": {
     "iopub.execute_input": "2021-10-22T12:09:13.232932Z",
     "iopub.status.busy": "2021-10-22T12:09:13.232404Z",
     "iopub.status.idle": "2021-10-22T12:09:13.234667Z",
     "shell.execute_reply": "2021-10-22T12:09:13.235155Z"
    },
    "jupyter": {
     "source_hidden": true
    },
    "papermill": {
     "duration": 0.071231,
     "end_time": "2021-10-22T12:09:13.235384",
     "exception": false,
     "start_time": "2021-10-22T12:09:13.164153",
     "status": "completed"
    },
    "tags": []
   },
   "outputs": [
    {
     "name": "stdout",
     "output_type": "stream",
     "text": [
      "228\n"
     ]
    }
   ],
   "source": [
    "print(len(x_inds))"
   ]
  },
  {
   "cell_type": "code",
   "execution_count": 19,
   "id": "dcbd065a",
   "metadata": {
    "execution": {
     "iopub.execute_input": "2021-10-22T12:09:13.377679Z",
     "iopub.status.busy": "2021-10-22T12:09:13.377057Z",
     "iopub.status.idle": "2021-10-22T12:09:13.379552Z",
     "shell.execute_reply": "2021-10-22T12:09:13.380057Z"
    },
    "jupyter": {
     "source_hidden": true
    },
    "papermill": {
     "duration": 0.077912,
     "end_time": "2021-10-22T12:09:13.380287",
     "exception": false,
     "start_time": "2021-10-22T12:09:13.302375",
     "status": "completed"
    },
    "tags": []
   },
   "outputs": [
    {
     "data": {
      "text/html": [
       "<div>\n",
       "<style scoped>\n",
       "    .dataframe tbody tr th:only-of-type {\n",
       "        vertical-align: middle;\n",
       "    }\n",
       "\n",
       "    .dataframe tbody tr th {\n",
       "        vertical-align: top;\n",
       "    }\n",
       "\n",
       "    .dataframe thead th {\n",
       "        text-align: right;\n",
       "    }\n",
       "</style>\n",
       "<table border=\"1\" class=\"dataframe\">\n",
       "  <thead>\n",
       "    <tr style=\"text-align: right;\">\n",
       "      <th></th>\n",
       "      <th>index</th>\n",
       "      <th>Email</th>\n",
       "      <th>Id</th>\n",
       "      <th>Name</th>\n",
       "      <th>nanoHUB_user_ID__c</th>\n",
       "    </tr>\n",
       "  </thead>\n",
       "  <tbody>\n",
       "    <tr>\n",
       "      <th>0</th>\n",
       "      <td>101493</td>\n",
       "      <td>dwsievers@gmail.com</td>\n",
       "      <td>0035w000034JJcfAAG</td>\n",
       "      <td>D Sievers</td>\n",
       "      <td>8628.0</td>\n",
       "    </tr>\n",
       "    <tr>\n",
       "      <th>1</th>\n",
       "      <td>107305</td>\n",
       "      <td>anoshraj@gmail.com</td>\n",
       "      <td>0035w000034JL8XAAW</td>\n",
       "      <td>anosh raj</td>\n",
       "      <td>10086.0</td>\n",
       "    </tr>\n",
       "    <tr>\n",
       "      <th>2</th>\n",
       "      <td>107895</td>\n",
       "      <td>dlr@ee.wustl.edu</td>\n",
       "      <td>0035w000034JLI6AAO</td>\n",
       "      <td>dan rode</td>\n",
       "      <td>10287.0</td>\n",
       "    </tr>\n",
       "    <tr>\n",
       "      <th>3</th>\n",
       "      <td>108600</td>\n",
       "      <td>willsd@appstate.edu</td>\n",
       "      <td>0035w000034JLTTAA4</td>\n",
       "      <td>steve williams</td>\n",
       "      <td>10424.0</td>\n",
       "    </tr>\n",
       "    <tr>\n",
       "      <th>4</th>\n",
       "      <td>108709</td>\n",
       "      <td>hmadanian@gmail.com</td>\n",
       "      <td>0035w000034JLVEAA4</td>\n",
       "      <td>Jam gord</td>\n",
       "      <td>10533.0</td>\n",
       "    </tr>\n",
       "  </tbody>\n",
       "</table>\n",
       "</div>"
      ],
      "text/plain": [
       "    index                Email                  Id            Name  \\\n",
       "0  101493  dwsievers@gmail.com  0035w000034JJcfAAG       D Sievers   \n",
       "1  107305   anoshraj@gmail.com  0035w000034JL8XAAW       anosh raj   \n",
       "2  107895     dlr@ee.wustl.edu  0035w000034JLI6AAO        dan rode   \n",
       "3  108600  willsd@appstate.edu  0035w000034JLTTAA4  steve williams   \n",
       "4  108709  hmadanian@gmail.com  0035w000034JLVEAA4        Jam gord   \n",
       "\n",
       "   nanoHUB_user_ID__c  \n",
       "0              8628.0  \n",
       "1             10086.0  \n",
       "2             10287.0  \n",
       "3             10424.0  \n",
       "4             10533.0  "
      ]
     },
     "metadata": {},
     "output_type": "display_data"
    }
   ],
   "source": [
    "nh_dels_df = NH_ids_sf.iloc[x_inds,:].reset_index()\n",
    "display(nh_dels_df.head(5))"
   ]
  },
  {
   "cell_type": "code",
   "execution_count": 20,
   "id": "2897109e",
   "metadata": {
    "execution": {
     "iopub.execute_input": "2021-10-22T12:09:13.536314Z",
     "iopub.status.busy": "2021-10-22T12:09:13.535003Z",
     "iopub.status.idle": "2021-10-22T12:09:13.538532Z",
     "shell.execute_reply": "2021-10-22T12:09:13.539037Z"
    },
    "jupyter": {
     "source_hidden": true
    },
    "papermill": {
     "duration": 0.087835,
     "end_time": "2021-10-22T12:09:13.539310",
     "exception": false,
     "start_time": "2021-10-22T12:09:13.451475",
     "status": "completed"
    },
    "tags": []
   },
   "outputs": [
    {
     "data": {
      "text/html": [
       "<div>\n",
       "<style scoped>\n",
       "    .dataframe tbody tr th:only-of-type {\n",
       "        vertical-align: middle;\n",
       "    }\n",
       "\n",
       "    .dataframe tbody tr th {\n",
       "        vertical-align: top;\n",
       "    }\n",
       "\n",
       "    .dataframe thead th {\n",
       "        text-align: right;\n",
       "    }\n",
       "</style>\n",
       "<table border=\"1\" class=\"dataframe\">\n",
       "  <thead>\n",
       "    <tr style=\"text-align: right;\">\n",
       "      <th></th>\n",
       "      <th>Email</th>\n",
       "      <th>Id</th>\n",
       "      <th>Name</th>\n",
       "      <th>nanoHUB_user_ID__c</th>\n",
       "    </tr>\n",
       "  </thead>\n",
       "  <tbody>\n",
       "    <tr>\n",
       "      <th>0</th>\n",
       "      <td>dwsievers@gmail.com</td>\n",
       "      <td>0035w000034JJcfAAG</td>\n",
       "      <td>D Sievers</td>\n",
       "      <td>8628.0</td>\n",
       "    </tr>\n",
       "    <tr>\n",
       "      <th>1</th>\n",
       "      <td>anoshraj@gmail.com</td>\n",
       "      <td>0035w000034JL8XAAW</td>\n",
       "      <td>anosh raj</td>\n",
       "      <td>10086.0</td>\n",
       "    </tr>\n",
       "    <tr>\n",
       "      <th>2</th>\n",
       "      <td>dlr@ee.wustl.edu</td>\n",
       "      <td>0035w000034JLI6AAO</td>\n",
       "      <td>dan rode</td>\n",
       "      <td>10287.0</td>\n",
       "    </tr>\n",
       "    <tr>\n",
       "      <th>3</th>\n",
       "      <td>willsd@appstate.edu</td>\n",
       "      <td>0035w000034JLTTAA4</td>\n",
       "      <td>steve williams</td>\n",
       "      <td>10424.0</td>\n",
       "    </tr>\n",
       "    <tr>\n",
       "      <th>4</th>\n",
       "      <td>hmadanian@gmail.com</td>\n",
       "      <td>0035w000034JLVEAA4</td>\n",
       "      <td>Jam gord</td>\n",
       "      <td>10533.0</td>\n",
       "    </tr>\n",
       "  </tbody>\n",
       "</table>\n",
       "</div>"
      ],
      "text/plain": [
       "                 Email                  Id            Name  nanoHUB_user_ID__c\n",
       "0  dwsievers@gmail.com  0035w000034JJcfAAG       D Sievers              8628.0\n",
       "1   anoshraj@gmail.com  0035w000034JL8XAAW       anosh raj             10086.0\n",
       "2     dlr@ee.wustl.edu  0035w000034JLI6AAO        dan rode             10287.0\n",
       "3  willsd@appstate.edu  0035w000034JLTTAA4  steve williams             10424.0\n",
       "4  hmadanian@gmail.com  0035w000034JLVEAA4        Jam gord             10533.0"
      ]
     },
     "metadata": {},
     "output_type": "display_data"
    }
   ],
   "source": [
    "nh_dels_df = nh_dels_df.drop(columns=['index'])\n",
    "display(nh_dels_df.head(5))"
   ]
  },
  {
   "cell_type": "code",
   "execution_count": 21,
   "id": "096593b0",
   "metadata": {
    "execution": {
     "iopub.execute_input": "2021-10-22T12:09:13.680556Z",
     "iopub.status.busy": "2021-10-22T12:09:13.679954Z",
     "iopub.status.idle": "2021-10-22T12:09:13.682051Z",
     "shell.execute_reply": "2021-10-22T12:09:13.682478Z"
    },
    "jupyter": {
     "source_hidden": true
    },
    "papermill": {
     "duration": 0.075803,
     "end_time": "2021-10-22T12:09:13.682723",
     "exception": false,
     "start_time": "2021-10-22T12:09:13.606920",
     "status": "completed"
    },
    "tags": []
   },
   "outputs": [],
   "source": [
    "dels_emails = ['deleted_'+i for i in nh_dels_df['Email'].tolist()]\n",
    "# dels_names = ['deleted_'+i for i in nh_dels_df['Name'].tolist()]\n",
    "dels_nhids = nh_dels_df['nanoHUB_user_ID__c'].apply(lambda x: int(x))"
   ]
  },
  {
   "cell_type": "code",
   "execution_count": 22,
   "id": "eed87f5c",
   "metadata": {
    "execution": {
     "iopub.execute_input": "2021-10-22T12:09:13.829458Z",
     "iopub.status.busy": "2021-10-22T12:09:13.828824Z",
     "iopub.status.idle": "2021-10-22T12:09:13.830984Z",
     "shell.execute_reply": "2021-10-22T12:09:13.831488Z"
    },
    "jupyter": {
     "source_hidden": true
    },
    "papermill": {
     "duration": 0.078876,
     "end_time": "2021-10-22T12:09:13.831725",
     "exception": false,
     "start_time": "2021-10-22T12:09:13.752849",
     "status": "completed"
    },
    "tags": []
   },
   "outputs": [],
   "source": [
    "nh_dels_df['Email'] = dels_emails\n",
    "# nh_dels_df['Name'] = dels_names\n",
    "nh_dels_df['nanoHUB_user_ID__c'] = dels_nhids"
   ]
  },
  {
   "cell_type": "code",
   "execution_count": 23,
   "id": "ca7478c4",
   "metadata": {
    "execution": {
     "iopub.execute_input": "2021-10-22T12:09:13.974853Z",
     "iopub.status.busy": "2021-10-22T12:09:13.974215Z",
     "iopub.status.idle": "2021-10-22T12:09:13.976431Z",
     "shell.execute_reply": "2021-10-22T12:09:13.976950Z"
    },
    "jupyter": {
     "source_hidden": true
    },
    "papermill": {
     "duration": 0.076985,
     "end_time": "2021-10-22T12:09:13.977198",
     "exception": false,
     "start_time": "2021-10-22T12:09:13.900213",
     "status": "completed"
    },
    "tags": []
   },
   "outputs": [],
   "source": [
    "nh_dels_df = nh_dels_df.drop(columns=['Id','Name'])\n",
    "nh_dels_df['DB2_deleted__c'] = True"
   ]
  },
  {
   "cell_type": "code",
   "execution_count": 24,
   "id": "2c25482b",
   "metadata": {
    "execution": {
     "iopub.execute_input": "2021-10-22T12:09:14.120771Z",
     "iopub.status.busy": "2021-10-22T12:09:14.120026Z",
     "iopub.status.idle": "2021-10-22T12:09:14.122985Z",
     "shell.execute_reply": "2021-10-22T12:09:14.123449Z"
    },
    "jupyter": {
     "source_hidden": true
    },
    "papermill": {
     "duration": 0.078584,
     "end_time": "2021-10-22T12:09:14.123701",
     "exception": false,
     "start_time": "2021-10-22T12:09:14.045117",
     "status": "completed"
    },
    "tags": []
   },
   "outputs": [
    {
     "data": {
      "text/html": [
       "<div>\n",
       "<style scoped>\n",
       "    .dataframe tbody tr th:only-of-type {\n",
       "        vertical-align: middle;\n",
       "    }\n",
       "\n",
       "    .dataframe tbody tr th {\n",
       "        vertical-align: top;\n",
       "    }\n",
       "\n",
       "    .dataframe thead th {\n",
       "        text-align: right;\n",
       "    }\n",
       "</style>\n",
       "<table border=\"1\" class=\"dataframe\">\n",
       "  <thead>\n",
       "    <tr style=\"text-align: right;\">\n",
       "      <th></th>\n",
       "      <th>Email</th>\n",
       "      <th>nanoHUB_user_ID__c</th>\n",
       "      <th>DB2_deleted__c</th>\n",
       "    </tr>\n",
       "  </thead>\n",
       "  <tbody>\n",
       "    <tr>\n",
       "      <th>0</th>\n",
       "      <td>deleted_dwsievers@gmail.com</td>\n",
       "      <td>8628</td>\n",
       "      <td>True</td>\n",
       "    </tr>\n",
       "    <tr>\n",
       "      <th>1</th>\n",
       "      <td>deleted_anoshraj@gmail.com</td>\n",
       "      <td>10086</td>\n",
       "      <td>True</td>\n",
       "    </tr>\n",
       "    <tr>\n",
       "      <th>2</th>\n",
       "      <td>deleted_dlr@ee.wustl.edu</td>\n",
       "      <td>10287</td>\n",
       "      <td>True</td>\n",
       "    </tr>\n",
       "    <tr>\n",
       "      <th>3</th>\n",
       "      <td>deleted_willsd@appstate.edu</td>\n",
       "      <td>10424</td>\n",
       "      <td>True</td>\n",
       "    </tr>\n",
       "    <tr>\n",
       "      <th>4</th>\n",
       "      <td>deleted_hmadanian@gmail.com</td>\n",
       "      <td>10533</td>\n",
       "      <td>True</td>\n",
       "    </tr>\n",
       "  </tbody>\n",
       "</table>\n",
       "</div>"
      ],
      "text/plain": [
       "                         Email  nanoHUB_user_ID__c  DB2_deleted__c\n",
       "0  deleted_dwsievers@gmail.com                8628            True\n",
       "1   deleted_anoshraj@gmail.com               10086            True\n",
       "2     deleted_dlr@ee.wustl.edu               10287            True\n",
       "3  deleted_willsd@appstate.edu               10424            True\n",
       "4  deleted_hmadanian@gmail.com               10533            True"
      ]
     },
     "metadata": {},
     "output_type": "display_data"
    }
   ],
   "source": [
    "display(nh_dels_df.head(5))"
   ]
  },
  {
   "cell_type": "markdown",
   "id": "0be59891",
   "metadata": {
    "papermill": {
     "duration": 0.075958,
     "end_time": "2021-10-22T12:09:14.269443",
     "exception": false,
     "start_time": "2021-10-22T12:09:14.193485",
     "status": "completed"
    },
    "tags": []
   },
   "source": [
    "## push results to SF"
   ]
  },
  {
   "cell_type": "code",
   "execution_count": 25,
   "id": "9d430289",
   "metadata": {
    "execution": {
     "iopub.execute_input": "2021-10-22T12:09:14.414307Z",
     "iopub.status.busy": "2021-10-22T12:09:14.413465Z",
     "iopub.status.idle": "2021-10-22T12:09:14.415349Z",
     "shell.execute_reply": "2021-10-22T12:09:14.415812Z"
    },
    "jupyter": {
     "source_hidden": true
    },
    "papermill": {
     "duration": 0.074973,
     "end_time": "2021-10-22T12:09:14.416019",
     "exception": false,
     "start_time": "2021-10-22T12:09:14.341046",
     "status": "completed"
    },
    "tags": []
   },
   "outputs": [],
   "source": [
    "db_2 = salesforce"
   ]
  },
  {
   "cell_type": "code",
   "execution_count": 26,
   "id": "83a05966",
   "metadata": {
    "execution": {
     "iopub.execute_input": "2021-10-22T12:09:14.562103Z",
     "iopub.status.busy": "2021-10-22T12:09:14.561399Z",
     "iopub.status.idle": "2021-10-22T12:09:14.563346Z",
     "shell.execute_reply": "2021-10-22T12:09:14.563850Z"
    },
    "jupyter": {
     "source_hidden": true
    },
    "papermill": {
     "duration": 0.077889,
     "end_time": "2021-10-22T12:09:14.564183",
     "exception": false,
     "start_time": "2021-10-22T12:09:14.486294",
     "status": "completed"
    },
    "tags": []
   },
   "outputs": [],
   "source": [
    "db_2.object_id = 'Contact'\n",
    "db_2.external_id = 'nanoHUB_user_ID__c'"
   ]
  },
  {
   "cell_type": "code",
   "execution_count": 27,
   "id": "74b3bced",
   "metadata": {
    "execution": {
     "iopub.execute_input": "2021-10-22T12:09:14.709840Z",
     "iopub.status.busy": "2021-10-22T12:09:14.708933Z",
     "iopub.status.idle": "2021-10-22T12:09:16.742378Z",
     "shell.execute_reply": "2021-10-22T12:09:16.743363Z"
    },
    "jupyter": {
     "source_hidden": true
    },
    "papermill": {
     "duration": 2.11015,
     "end_time": "2021-10-22T12:09:16.743756",
     "exception": false,
     "start_time": "2021-10-22T12:09:14.633606",
     "status": "completed"
    },
    "tags": []
   },
   "outputs": [
    {
     "name": "stdout",
     "output_type": "stream",
     "text": [
      "[Success] Bulk job creation successful. Job ID = 7505w00000b1ow5AAA\n",
      "hello\n"
     ]
    },
    {
     "name": "stdout",
     "output_type": "stream",
     "text": [
      "[Success] CSV upload successful. Job ID = 7505w00000b1ow5AAA\n"
     ]
    },
    {
     "name": "stdout",
     "output_type": "stream",
     "text": [
      "[Success] Closing job successful. Job ID = 7505w00000b1ow5AAA\n"
     ]
    }
   ],
   "source": [
    "db_2.send_data(nh_dels_df)"
   ]
  },
  {
   "cell_type": "code",
   "execution_count": 28,
   "id": "6946c287",
   "metadata": {
    "execution": {
     "iopub.execute_input": "2021-10-22T12:09:16.909148Z",
     "iopub.status.busy": "2021-10-22T12:09:16.908485Z",
     "iopub.status.idle": "2021-10-22T12:09:17.210073Z",
     "shell.execute_reply": "2021-10-22T12:09:17.210774Z"
    },
    "jupyter": {
     "source_hidden": true
    },
    "papermill": {
     "duration": 0.381338,
     "end_time": "2021-10-22T12:09:17.211100",
     "exception": false,
     "start_time": "2021-10-22T12:09:16.829762",
     "status": "completed"
    },
    "tags": []
   },
   "outputs": [
    {
     "data": {
      "text/plain": [
       "{'id': '7505w00000b1ow5AAA',\n",
       " 'operation': 'upsert',\n",
       " 'object': 'Contact',\n",
       " 'createdById': '0055w00000DM5bOAAT',\n",
       " 'createdDate': '2021-10-22T12:09:15.000+0000',\n",
       " 'systemModstamp': '2021-10-22T12:09:16.000+0000',\n",
       " 'state': 'UploadComplete',\n",
       " 'externalIdFieldName': 'nanoHUB_user_ID__c',\n",
       " 'concurrencyMode': 'Parallel',\n",
       " 'contentType': 'CSV',\n",
       " 'apiVersion': 47.0,\n",
       " 'jobType': 'V2Ingest',\n",
       " 'lineEnding': 'LF',\n",
       " 'columnDelimiter': 'COMMA',\n",
       " 'numberRecordsProcessed': 0,\n",
       " 'numberRecordsFailed': 0,\n",
       " 'retries': 0,\n",
       " 'totalProcessingTime': 0,\n",
       " 'apiActiveProcessingTime': 0,\n",
       " 'apexProcessingTime': 0}"
      ]
     },
     "execution_count": 28,
     "metadata": {},
     "output_type": "execute_result"
    }
   ],
   "source": [
    "# check status\n",
    "db_2.check_bulk_status()"
   ]
  },
  {
   "cell_type": "code",
   "execution_count": 29,
   "id": "c2997858",
   "metadata": {
    "execution": {
     "iopub.execute_input": "2021-10-22T12:09:17.379097Z",
     "iopub.status.busy": "2021-10-22T12:09:17.378353Z",
     "iopub.status.idle": "2021-10-22T12:09:17.591723Z",
     "shell.execute_reply": "2021-10-22T12:09:17.590859Z"
    },
    "jupyter": {
     "source_hidden": true
    },
    "papermill": {
     "duration": 0.294751,
     "end_time": "2021-10-22T12:09:17.592300",
     "exception": false,
     "start_time": "2021-10-22T12:09:17.297549",
     "status": "completed"
    },
    "tags": []
   },
   "outputs": [
    {
     "name": "stdout",
     "output_type": "stream",
     "text": [
      "''\n"
     ]
    }
   ],
   "source": [
    "# check status\n",
    "from pprint import pprint\n",
    "\n",
    "pprint(db_2.check_bulk_failed_results())"
   ]
  },
  {
   "cell_type": "code",
   "execution_count": null,
   "id": "34f128c3",
   "metadata": {
    "jupyter": {
     "source_hidden": true
    },
    "papermill": {
     "duration": 0.067977,
     "end_time": "2021-10-22T12:09:17.743312",
     "exception": false,
     "start_time": "2021-10-22T12:09:17.675335",
     "status": "completed"
    },
    "tags": []
   },
   "outputs": [],
   "source": []
  }
 ],
 "metadata": {
  "kernelspec": {
   "display_name": "Python 3",
   "language": "python",
   "name": "python3"
  },
  "language_info": {
   "codemirror_mode": {
    "name": "ipython",
    "version": 3
   },
   "file_extension": ".py",
   "mimetype": "text/x-python",
   "name": "python",
   "nbconvert_exporter": "python",
   "pygments_lexer": "ipython3",
   "version": "3.9.7"
  },
  "papermill": {
   "default_parameters": {},
   "duration": 53.996764,
   "end_time": "2021-10-22T12:09:18.256583",
   "environment_variables": {},
   "exception": null,
   "input_path": "/Users/saxenap/Documents/Dev/nanoHUB/nanoHUB/pipeline/salesforce/db2users_remap_sf.ipynb",
   "output_path": "./.output/db2users_remap_sf.ipynb",
   "parameters": {},
   "start_time": "2021-10-22T12:08:24.259819",
   "version": "2.3.3"
  }
 },
 "nbformat": 4,
 "nbformat_minor": 5
}