{
 "cells": [
  {
   "cell_type": "markdown",
   "id": "38743b9a",
   "metadata": {
    "papermill": {
     "duration": 0.036229,
     "end_time": "2021-08-26T04:40:46.699824",
     "exception": false,
     "start_time": "2021-08-26T04:40:46.663595",
     "status": "completed"
    },
    "tags": []
   },
   "source": [
    "# DB2-Salesforce populate survey URLs obtain from DB2"
   ]
  },
  {
   "cell_type": "code",
   "execution_count": 1,
   "id": "062b8517",
   "metadata": {
    "execution": {
     "iopub.execute_input": "2021-08-26T04:40:46.772601Z",
     "iopub.status.busy": "2021-08-26T04:40:46.771470Z",
     "iopub.status.idle": "2021-08-26T04:40:48.761160Z",
     "shell.execute_reply": "2021-08-26T04:40:48.761729Z"
    },
    "jupyter": {
     "source_hidden": true
    },
    "papermill": {
     "duration": 2.029304,
     "end_time": "2021-08-26T04:40:48.762129",
     "exception": false,
     "start_time": "2021-08-26T04:40:46.732825",
     "status": "completed"
    },
    "tags": []
   },
   "outputs": [
    {
     "name": "stdout",
     "output_type": "stream",
     "text": [
      "\u001b[1mnanoHUB - Serving Students, Researchers & Instructors\u001b[0m\n"
     ]
    },
    {
     "name": "stderr",
     "output_type": "stream",
     "text": [
      "2021-08-26 00:40:48,088| INFO    | 0 keys loaded from agent\n"
     ]
    },
    {
     "name": "stdout",
     "output_type": "stream",
     "text": [
      "2021-08-26 00:40:48,088 - [INFO] sshtunnel.SSHTunnelForwarder [sshtunnel.get_agent_keys:1060]: 0 keys loaded from agent\n"
     ]
    },
    {
     "name": "stderr",
     "output_type": "stream",
     "text": [
      "2021-08-26 00:40:48,091| INFO    | 0 key(s) loaded\n"
     ]
    },
    {
     "name": "stdout",
     "output_type": "stream",
     "text": [
      "2021-08-26 00:40:48,091 - [INFO] sshtunnel.SSHTunnelForwarder [sshtunnel.get_keys:1117]: 0 key(s) loaded\n"
     ]
    },
    {
     "name": "stderr",
     "output_type": "stream",
     "text": [
      "2021-08-26 00:40:48,093| INFO    | Connecting to gateway: db2.nanohub.org:22 as user 'saxenap'\n"
     ]
    },
    {
     "name": "stdout",
     "output_type": "stream",
     "text": [
      "2021-08-26 00:40:48,093 - [INFO] sshtunnel.SSHTunnelForwarder [sshtunnel.__init__:978]: Connecting to gateway: db2.nanohub.org:22 as user 'saxenap'\n"
     ]
    },
    {
     "name": "stdout",
     "output_type": "stream",
     "text": [
      "2021-08-26 00:40:48,094 - [\u001b[1mINFO\u001b[0m] \u001b[1mnanoHUB.containers.dataaccess\u001b[0m [connection.get_connection_for:101]: Started SSH Tunnel with db2.nanohub.org\n"
     ]
    },
    {
     "name": "stderr",
     "output_type": "stream",
     "text": [
      "2021-08-26 00:40:48,389| INFO    | Opening tunnel: 0.0.0.0:54331 <> 127.0.0.1:3306\n"
     ]
    },
    {
     "name": "stdout",
     "output_type": "stream",
     "text": [
      "2021-08-26 00:40:48,389 - [INFO] sshtunnel.SSHTunnelForwarder [sshtunnel._serve_forever_wrapper:1433]: Opening tunnel: 0.0.0.0:54331 <> 127.0.0.1:3306\n"
     ]
    },
    {
     "name": "stdout",
     "output_type": "stream",
     "text": [
      "Obtained Salesforce access token ...... True\n"
     ]
    }
   ],
   "source": [
    "# Parameters\n",
    "# API settings\n",
    "api_url = '/services/data/v43.0/sobjects'\n",
    "external_id = 'nanoHUB_user_ID__c'\n",
    "object_id = 'Contact'\n",
    "\n",
    "# login parameters to be handled by Papermill\n",
    "from nanoHUB.application import Application\n",
    "\n",
    "application = Application.get_instance()\n",
    "nanohub_db = application.new_db_engine('nanohub')\n",
    "\n",
    "salesforce = application.new_salesforce_engine()\n",
    "db_s = salesforce"
   ]
  },
  {
   "cell_type": "code",
   "execution_count": 2,
   "id": "542c627a",
   "metadata": {
    "execution": {
     "iopub.execute_input": "2021-08-26T04:40:48.858602Z",
     "iopub.status.busy": "2021-08-26T04:40:48.857119Z",
     "iopub.status.idle": "2021-08-26T04:40:48.860119Z",
     "shell.execute_reply": "2021-08-26T04:40:48.860925Z"
    },
    "jupyter": {
     "source_hidden": true
    },
    "papermill": {
     "duration": 0.051387,
     "end_time": "2021-08-26T04:40:48.861516",
     "exception": false,
     "start_time": "2021-08-26T04:40:48.810129",
     "status": "completed"
    },
    "tags": []
   },
   "outputs": [],
   "source": [
    "import pandas as pd\n",
    "import datetime"
   ]
  },
  {
   "cell_type": "markdown",
   "id": "79c1fae2",
   "metadata": {
    "papermill": {
     "duration": 0.063002,
     "end_time": "2021-08-26T04:40:48.967226",
     "exception": false,
     "start_time": "2021-08-26T04:40:48.904224",
     "status": "completed"
    },
    "tags": []
   },
   "source": [
    "## Get the URL code from DB2\n"
   ]
  },
  {
   "cell_type": "code",
   "execution_count": 3,
   "id": "b71cc8a3",
   "metadata": {
    "execution": {
     "iopub.execute_input": "2021-08-26T04:40:49.078121Z",
     "iopub.status.busy": "2021-08-26T04:40:49.077327Z",
     "iopub.status.idle": "2021-08-26T04:41:06.386811Z",
     "shell.execute_reply": "2021-08-26T04:41:06.387478Z"
    },
    "jupyter": {
     "source_hidden": true
    },
    "papermill": {
     "duration": 17.366649,
     "end_time": "2021-08-26T04:41:06.387733",
     "exception": false,
     "start_time": "2021-08-26T04:40:49.021084",
     "status": "completed"
    },
    "tags": []
   },
   "outputs": [],
   "source": [
    "# page_id indicates the question\n",
    "url_code_df = pd.read_sql_query(\"select user_id, code, expiration from jos_reply_access_codes \\\n",
    "where page_id = 2 order by user_id desc;\",nanohub_db) #limit 5000\n",
    "\n",
    "new_pref_code_df = pd.read_sql_query(\"select user_id, code, expiration from jos_reply_access_codes \\\n",
    "where page_id = 1 order by user_id desc;\",nanohub_db) # limit 5000"
   ]
  },
  {
   "cell_type": "code",
   "execution_count": 4,
   "id": "a8ee2699",
   "metadata": {
    "execution": {
     "iopub.execute_input": "2021-08-26T04:41:06.487836Z",
     "iopub.status.busy": "2021-08-26T04:41:06.486964Z",
     "iopub.status.idle": "2021-08-26T04:41:06.497777Z",
     "shell.execute_reply": "2021-08-26T04:41:06.498179Z"
    },
    "jupyter": {
     "source_hidden": true
    },
    "papermill": {
     "duration": 0.067744,
     "end_time": "2021-08-26T04:41:06.498596",
     "exception": false,
     "start_time": "2021-08-26T04:41:06.430852",
     "status": "completed"
    },
    "tags": []
   },
   "outputs": [
    {
     "data": {
      "text/html": [
       "<div>\n",
       "<style scoped>\n",
       "    .dataframe tbody tr th:only-of-type {\n",
       "        vertical-align: middle;\n",
       "    }\n",
       "\n",
       "    .dataframe tbody tr th {\n",
       "        vertical-align: top;\n",
       "    }\n",
       "\n",
       "    .dataframe thead th {\n",
       "        text-align: right;\n",
       "    }\n",
       "</style>\n",
       "<table border=\"1\" class=\"dataframe\">\n",
       "  <thead>\n",
       "    <tr style=\"text-align: right;\">\n",
       "      <th></th>\n",
       "      <th>user_id</th>\n",
       "      <th>code</th>\n",
       "      <th>expiration</th>\n",
       "    </tr>\n",
       "  </thead>\n",
       "  <tbody>\n",
       "    <tr>\n",
       "      <th>0</th>\n",
       "      <td>336317</td>\n",
       "      <td>843e37a2e875d13b6cb727b14fb6c99c431708b3129a07...</td>\n",
       "      <td>2021-09-12</td>\n",
       "    </tr>\n",
       "    <tr>\n",
       "      <th>1</th>\n",
       "      <td>336315</td>\n",
       "      <td>63b581d90ad85323a5b8478e494ace7561a2dc4cc73051...</td>\n",
       "      <td>2021-09-12</td>\n",
       "    </tr>\n",
       "  </tbody>\n",
       "</table>\n",
       "</div>"
      ],
      "text/plain": [
       "   user_id                                               code expiration\n",
       "0   336317  843e37a2e875d13b6cb727b14fb6c99c431708b3129a07... 2021-09-12\n",
       "1   336315  63b581d90ad85323a5b8478e494ace7561a2dc4cc73051... 2021-09-12"
      ]
     },
     "metadata": {},
     "output_type": "display_data"
    }
   ],
   "source": [
    "display(url_code_df.head(2))"
   ]
  },
  {
   "cell_type": "code",
   "execution_count": 5,
   "id": "3d725d98",
   "metadata": {
    "execution": {
     "iopub.execute_input": "2021-08-26T04:41:06.587198Z",
     "iopub.status.busy": "2021-08-26T04:41:06.586426Z",
     "iopub.status.idle": "2021-08-26T04:41:06.638417Z",
     "shell.execute_reply": "2021-08-26T04:41:06.638944Z"
    },
    "jupyter": {
     "source_hidden": true
    },
    "papermill": {
     "duration": 0.09882,
     "end_time": "2021-08-26T04:41:06.639108",
     "exception": false,
     "start_time": "2021-08-26T04:41:06.540288",
     "status": "completed"
    },
    "tags": []
   },
   "outputs": [
    {
     "name": "stdout",
     "output_type": "stream",
     "text": [
      "https://nanohub.org/reply/pages/2?code=843e37a2e875d13b6cb727b14fb6c99c431708b3129a079b8847f8e2fc878aac\n"
     ]
    }
   ],
   "source": [
    "## populating full url codes\n",
    "url_base = \"https://nanohub.org/reply/pages/2?code=\"\n",
    "\n",
    "from copy import deepcopy\n",
    "codes = deepcopy(url_code_df['code'])\n",
    "\n",
    "#import time\n",
    "#st = time.time()\n",
    "codes = codes.apply(lambda x: url_base+x)\n",
    "#tt = st-time.time()\n",
    "#print(tt)\n",
    "print(codes[0])\n"
   ]
  },
  {
   "cell_type": "code",
   "execution_count": 6,
   "id": "1b9005b7",
   "metadata": {
    "execution": {
     "iopub.execute_input": "2021-08-26T04:41:06.738345Z",
     "iopub.status.busy": "2021-08-26T04:41:06.737691Z",
     "iopub.status.idle": "2021-08-26T04:41:06.751135Z",
     "shell.execute_reply": "2021-08-26T04:41:06.751864Z"
    },
    "jupyter": {
     "source_hidden": true
    },
    "papermill": {
     "duration": 0.069719,
     "end_time": "2021-08-26T04:41:06.752101",
     "exception": false,
     "start_time": "2021-08-26T04:41:06.682382",
     "status": "completed"
    },
    "tags": []
   },
   "outputs": [
    {
     "data": {
      "text/html": [
       "<div>\n",
       "<style scoped>\n",
       "    .dataframe tbody tr th:only-of-type {\n",
       "        vertical-align: middle;\n",
       "    }\n",
       "\n",
       "    .dataframe tbody tr th {\n",
       "        vertical-align: top;\n",
       "    }\n",
       "\n",
       "    .dataframe thead th {\n",
       "        text-align: right;\n",
       "    }\n",
       "</style>\n",
       "<table border=\"1\" class=\"dataframe\">\n",
       "  <thead>\n",
       "    <tr style=\"text-align: right;\">\n",
       "      <th></th>\n",
       "      <th>nanoHUB_user_ID__c</th>\n",
       "      <th>nh_use_survey_link__c</th>\n",
       "      <th>expiration</th>\n",
       "    </tr>\n",
       "  </thead>\n",
       "  <tbody>\n",
       "    <tr>\n",
       "      <th>0</th>\n",
       "      <td>336317</td>\n",
       "      <td>https://nanohub.org/reply/pages/2?code=843e37a...</td>\n",
       "      <td>2021-09-12</td>\n",
       "    </tr>\n",
       "    <tr>\n",
       "      <th>1</th>\n",
       "      <td>336315</td>\n",
       "      <td>https://nanohub.org/reply/pages/2?code=63b581d...</td>\n",
       "      <td>2021-09-12</td>\n",
       "    </tr>\n",
       "  </tbody>\n",
       "</table>\n",
       "</div>"
      ],
      "text/plain": [
       "   nanoHUB_user_ID__c                              nh_use_survey_link__c  \\\n",
       "0              336317  https://nanohub.org/reply/pages/2?code=843e37a...   \n",
       "1              336315  https://nanohub.org/reply/pages/2?code=63b581d...   \n",
       "\n",
       "  expiration  \n",
       "0 2021-09-12  \n",
       "1 2021-09-12  "
      ]
     },
     "metadata": {},
     "output_type": "display_data"
    }
   ],
   "source": [
    "## add the new code to the dataframe\n",
    "url_code_df['code'] = codes\n",
    "url_code_df = url_code_df.rename(columns={\"user_id\": \"nanoHUB_user_ID__c\", \"code\":\"nh_use_survey_link__c\"})\n",
    "display(url_code_df.head(2))"
   ]
  },
  {
   "cell_type": "code",
   "execution_count": 7,
   "id": "096c8b07",
   "metadata": {
    "execution": {
     "iopub.execute_input": "2021-08-26T04:41:06.844427Z",
     "iopub.status.busy": "2021-08-26T04:41:06.843794Z",
     "iopub.status.idle": "2021-08-26T04:41:06.916855Z",
     "shell.execute_reply": "2021-08-26T04:41:06.917299Z"
    },
    "jupyter": {
     "source_hidden": true
    },
    "papermill": {
     "duration": 0.120301,
     "end_time": "2021-08-26T04:41:06.917567",
     "exception": false,
     "start_time": "2021-08-26T04:41:06.797266",
     "status": "completed"
    },
    "tags": []
   },
   "outputs": [
    {
     "name": "stdout",
     "output_type": "stream",
     "text": [
      "https://nanohub.org/reply/email-subscriptions?code=79ae5a59f40e190368579cab54b2a0ffae22462387f7df3b29593b11576b4ab5\n"
     ]
    }
   ],
   "source": [
    "## determining the new url survey links\n",
    "url_base1 = 'https://nanohub.org/reply/email-subscriptions?code='\n",
    "\n",
    "codes = deepcopy(new_pref_code_df['code'])\n",
    "\n",
    "codes = codes.apply(lambda x: url_base1+x)\n",
    "\n",
    "print(codes[0])\n",
    "new_pref_code_df['code'] = codes"
   ]
  },
  {
   "cell_type": "code",
   "execution_count": 8,
   "id": "3360c923",
   "metadata": {
    "execution": {
     "iopub.execute_input": "2021-08-26T04:41:07.015370Z",
     "iopub.status.busy": "2021-08-26T04:41:07.014734Z",
     "iopub.status.idle": "2021-08-26T04:41:07.018335Z",
     "shell.execute_reply": "2021-08-26T04:41:07.018702Z"
    },
    "jupyter": {
     "source_hidden": true
    },
    "papermill": {
     "duration": 0.056203,
     "end_time": "2021-08-26T04:41:07.018864",
     "exception": false,
     "start_time": "2021-08-26T04:41:06.962661",
     "status": "completed"
    },
    "tags": []
   },
   "outputs": [
    {
     "data": {
      "text/html": [
       "<div>\n",
       "<style scoped>\n",
       "    .dataframe tbody tr th:only-of-type {\n",
       "        vertical-align: middle;\n",
       "    }\n",
       "\n",
       "    .dataframe tbody tr th {\n",
       "        vertical-align: top;\n",
       "    }\n",
       "\n",
       "    .dataframe thead th {\n",
       "        text-align: right;\n",
       "    }\n",
       "</style>\n",
       "<table border=\"1\" class=\"dataframe\">\n",
       "  <thead>\n",
       "    <tr style=\"text-align: right;\">\n",
       "      <th></th>\n",
       "      <th>user_id</th>\n",
       "      <th>code</th>\n",
       "      <th>expiration</th>\n",
       "    </tr>\n",
       "  </thead>\n",
       "  <tbody>\n",
       "    <tr>\n",
       "      <th>0</th>\n",
       "      <td>336317</td>\n",
       "      <td>https://nanohub.org/reply/email-subscriptions?...</td>\n",
       "      <td>2021-09-12</td>\n",
       "    </tr>\n",
       "    <tr>\n",
       "      <th>1</th>\n",
       "      <td>336315</td>\n",
       "      <td>https://nanohub.org/reply/email-subscriptions?...</td>\n",
       "      <td>2021-09-12</td>\n",
       "    </tr>\n",
       "    <tr>\n",
       "      <th>2</th>\n",
       "      <td>336314</td>\n",
       "      <td>https://nanohub.org/reply/email-subscriptions?...</td>\n",
       "      <td>2021-09-12</td>\n",
       "    </tr>\n",
       "    <tr>\n",
       "      <th>3</th>\n",
       "      <td>336313</td>\n",
       "      <td>https://nanohub.org/reply/email-subscriptions?...</td>\n",
       "      <td>2021-09-12</td>\n",
       "    </tr>\n",
       "    <tr>\n",
       "      <th>4</th>\n",
       "      <td>336312</td>\n",
       "      <td>https://nanohub.org/reply/email-subscriptions?...</td>\n",
       "      <td>2021-09-12</td>\n",
       "    </tr>\n",
       "  </tbody>\n",
       "</table>\n",
       "</div>"
      ],
      "text/plain": [
       "   user_id                                               code expiration\n",
       "0   336317  https://nanohub.org/reply/email-subscriptions?... 2021-09-12\n",
       "1   336315  https://nanohub.org/reply/email-subscriptions?... 2021-09-12\n",
       "2   336314  https://nanohub.org/reply/email-subscriptions?... 2021-09-12\n",
       "3   336313  https://nanohub.org/reply/email-subscriptions?... 2021-09-12\n",
       "4   336312  https://nanohub.org/reply/email-subscriptions?... 2021-09-12"
      ]
     },
     "metadata": {},
     "output_type": "display_data"
    }
   ],
   "source": [
    "display(new_pref_code_df.head(5))"
   ]
  },
  {
   "cell_type": "code",
   "execution_count": 9,
   "id": "cfd17b44",
   "metadata": {
    "execution": {
     "iopub.execute_input": "2021-08-26T04:41:07.107873Z",
     "iopub.status.busy": "2021-08-26T04:41:07.107159Z",
     "iopub.status.idle": "2021-08-26T04:41:07.191895Z",
     "shell.execute_reply": "2021-08-26T04:41:07.191365Z"
    },
    "jupyter": {
     "source_hidden": true
    },
    "papermill": {
     "duration": 0.130637,
     "end_time": "2021-08-26T04:41:07.192065",
     "exception": false,
     "start_time": "2021-08-26T04:41:07.061428",
     "status": "completed"
    },
    "tags": []
   },
   "outputs": [
    {
     "data": {
      "text/html": [
       "<div>\n",
       "<style scoped>\n",
       "    .dataframe tbody tr th:only-of-type {\n",
       "        vertical-align: middle;\n",
       "    }\n",
       "\n",
       "    .dataframe tbody tr th {\n",
       "        vertical-align: top;\n",
       "    }\n",
       "\n",
       "    .dataframe thead th {\n",
       "        text-align: right;\n",
       "    }\n",
       "</style>\n",
       "<table border=\"1\" class=\"dataframe\">\n",
       "  <thead>\n",
       "    <tr style=\"text-align: right;\">\n",
       "      <th></th>\n",
       "      <th>nanoHUB_user_ID__c</th>\n",
       "      <th>nh_use_survey_link__c</th>\n",
       "      <th>expiration_x</th>\n",
       "      <th>user_id</th>\n",
       "      <th>code</th>\n",
       "      <th>expiration_y</th>\n",
       "    </tr>\n",
       "  </thead>\n",
       "  <tbody>\n",
       "    <tr>\n",
       "      <th>0</th>\n",
       "      <td>336317</td>\n",
       "      <td>https://nanohub.org/reply/pages/2?code=843e37a...</td>\n",
       "      <td>2021-09-12</td>\n",
       "      <td>336317</td>\n",
       "      <td>https://nanohub.org/reply/email-subscriptions?...</td>\n",
       "      <td>2021-09-12</td>\n",
       "    </tr>\n",
       "    <tr>\n",
       "      <th>1</th>\n",
       "      <td>336315</td>\n",
       "      <td>https://nanohub.org/reply/pages/2?code=63b581d...</td>\n",
       "      <td>2021-09-12</td>\n",
       "      <td>336315</td>\n",
       "      <td>https://nanohub.org/reply/email-subscriptions?...</td>\n",
       "      <td>2021-09-12</td>\n",
       "    </tr>\n",
       "  </tbody>\n",
       "</table>\n",
       "</div>"
      ],
      "text/plain": [
       "   nanoHUB_user_ID__c                              nh_use_survey_link__c  \\\n",
       "0              336317  https://nanohub.org/reply/pages/2?code=843e37a...   \n",
       "1              336315  https://nanohub.org/reply/pages/2?code=63b581d...   \n",
       "\n",
       "  expiration_x  user_id                                               code  \\\n",
       "0   2021-09-12   336317  https://nanohub.org/reply/email-subscriptions?...   \n",
       "1   2021-09-12   336315  https://nanohub.org/reply/email-subscriptions?...   \n",
       "\n",
       "  expiration_y  \n",
       "0   2021-09-12  \n",
       "1   2021-09-12  "
      ]
     },
     "metadata": {},
     "output_type": "display_data"
    },
    {
     "data": {
      "text/html": [
       "<div>\n",
       "<style scoped>\n",
       "    .dataframe tbody tr th:only-of-type {\n",
       "        vertical-align: middle;\n",
       "    }\n",
       "\n",
       "    .dataframe tbody tr th {\n",
       "        vertical-align: top;\n",
       "    }\n",
       "\n",
       "    .dataframe thead th {\n",
       "        text-align: right;\n",
       "    }\n",
       "</style>\n",
       "<table border=\"1\" class=\"dataframe\">\n",
       "  <thead>\n",
       "    <tr style=\"text-align: right;\">\n",
       "      <th></th>\n",
       "      <th>nanoHUB_user_ID__c</th>\n",
       "      <th>nh_use_survey_link__c</th>\n",
       "      <th>expiration_x</th>\n",
       "      <th>user_id</th>\n",
       "      <th>code</th>\n",
       "      <th>expiration_y</th>\n",
       "    </tr>\n",
       "  </thead>\n",
       "  <tbody>\n",
       "    <tr>\n",
       "      <th>248866</th>\n",
       "      <td>1000</td>\n",
       "      <td>https://nanohub.org/reply/pages/2?code=ejjJycB...</td>\n",
       "      <td>2021-09-12 02:59:59</td>\n",
       "      <td>1000</td>\n",
       "      <td>https://nanohub.org/reply/email-subscriptions?...</td>\n",
       "      <td>2021-08-18 14:31:42</td>\n",
       "    </tr>\n",
       "    <tr>\n",
       "      <th>248867</th>\n",
       "      <td>998</td>\n",
       "      <td>https://nanohub.org/reply/pages/2?code=rWB03ln...</td>\n",
       "      <td>2021-09-12 02:59:59</td>\n",
       "      <td>998</td>\n",
       "      <td>https://nanohub.org/reply/email-subscriptions?...</td>\n",
       "      <td>2021-08-18 14:31:42</td>\n",
       "    </tr>\n",
       "  </tbody>\n",
       "</table>\n",
       "</div>"
      ],
      "text/plain": [
       "        nanoHUB_user_ID__c                              nh_use_survey_link__c  \\\n",
       "248866                1000  https://nanohub.org/reply/pages/2?code=ejjJycB...   \n",
       "248867                 998  https://nanohub.org/reply/pages/2?code=rWB03ln...   \n",
       "\n",
       "              expiration_x  user_id  \\\n",
       "248866 2021-09-12 02:59:59     1000   \n",
       "248867 2021-09-12 02:59:59      998   \n",
       "\n",
       "                                                     code        expiration_y  \n",
       "248866  https://nanohub.org/reply/email-subscriptions?... 2021-08-18 14:31:42  \n",
       "248867  https://nanohub.org/reply/email-subscriptions?... 2021-08-18 14:31:42  "
      ]
     },
     "metadata": {},
     "output_type": "display_data"
    }
   ],
   "source": [
    "# expiration dates can be different, so do a left join instead of \"url_code_df['new_preferences_survey_url__c'] = codes\"\n",
    "unif_df = pd.merge(url_code_df,new_pref_code_df,how='left',right_on='user_id',left_on='nanoHUB_user_ID__c')\n",
    "\n",
    "display(unif_df.head(2))\n",
    "display(unif_df.tail(2))"
   ]
  },
  {
   "cell_type": "code",
   "execution_count": 10,
   "id": "3489cb96",
   "metadata": {
    "execution": {
     "iopub.execute_input": "2021-08-26T04:41:07.301159Z",
     "iopub.status.busy": "2021-08-26T04:41:07.299806Z",
     "iopub.status.idle": "2021-08-26T04:41:07.372690Z",
     "shell.execute_reply": "2021-08-26T04:41:07.373085Z"
    },
    "jupyter": {
     "source_hidden": true
    },
    "papermill": {
     "duration": 0.131098,
     "end_time": "2021-08-26T04:41:07.373319",
     "exception": false,
     "start_time": "2021-08-26T04:41:07.242221",
     "status": "completed"
    },
    "tags": []
   },
   "outputs": [],
   "source": [
    "# some formatting for SF\n",
    "unif_df = unif_df.rename(columns={'expiration_x':'nh_use_expire__c',\\\n",
    "                'code':'new_preferences_survey_url__c','expiration_y':'new_prefs_expire__c'})\n",
    "unif_df = unif_df.drop(columns=['user_id']) #unified_dataframe"
   ]
  },
  {
   "cell_type": "code",
   "execution_count": 11,
   "id": "2e884674",
   "metadata": {
    "execution": {
     "iopub.execute_input": "2021-08-26T04:41:07.474746Z",
     "iopub.status.busy": "2021-08-26T04:41:07.474105Z",
     "iopub.status.idle": "2021-08-26T04:41:07.483333Z",
     "shell.execute_reply": "2021-08-26T04:41:07.483753Z"
    },
    "jupyter": {
     "source_hidden": true
    },
    "papermill": {
     "duration": 0.06409,
     "end_time": "2021-08-26T04:41:07.484003",
     "exception": false,
     "start_time": "2021-08-26T04:41:07.419913",
     "status": "completed"
    },
    "tags": []
   },
   "outputs": [
    {
     "data": {
      "text/html": [
       "<div>\n",
       "<style scoped>\n",
       "    .dataframe tbody tr th:only-of-type {\n",
       "        vertical-align: middle;\n",
       "    }\n",
       "\n",
       "    .dataframe tbody tr th {\n",
       "        vertical-align: top;\n",
       "    }\n",
       "\n",
       "    .dataframe thead th {\n",
       "        text-align: right;\n",
       "    }\n",
       "</style>\n",
       "<table border=\"1\" class=\"dataframe\">\n",
       "  <thead>\n",
       "    <tr style=\"text-align: right;\">\n",
       "      <th></th>\n",
       "      <th>nanoHUB_user_ID__c</th>\n",
       "      <th>nh_use_survey_link__c</th>\n",
       "      <th>nh_use_expire__c</th>\n",
       "      <th>new_preferences_survey_url__c</th>\n",
       "      <th>new_prefs_expire__c</th>\n",
       "    </tr>\n",
       "  </thead>\n",
       "  <tbody>\n",
       "    <tr>\n",
       "      <th>0</th>\n",
       "      <td>336317</td>\n",
       "      <td>https://nanohub.org/reply/pages/2?code=843e37a...</td>\n",
       "      <td>2021-09-12</td>\n",
       "      <td>https://nanohub.org/reply/email-subscriptions?...</td>\n",
       "      <td>2021-09-12</td>\n",
       "    </tr>\n",
       "    <tr>\n",
       "      <th>1</th>\n",
       "      <td>336315</td>\n",
       "      <td>https://nanohub.org/reply/pages/2?code=63b581d...</td>\n",
       "      <td>2021-09-12</td>\n",
       "      <td>https://nanohub.org/reply/email-subscriptions?...</td>\n",
       "      <td>2021-09-12</td>\n",
       "    </tr>\n",
       "  </tbody>\n",
       "</table>\n",
       "</div>"
      ],
      "text/plain": [
       "   nanoHUB_user_ID__c                              nh_use_survey_link__c  \\\n",
       "0              336317  https://nanohub.org/reply/pages/2?code=843e37a...   \n",
       "1              336315  https://nanohub.org/reply/pages/2?code=63b581d...   \n",
       "\n",
       "  nh_use_expire__c                      new_preferences_survey_url__c  \\\n",
       "0       2021-09-12  https://nanohub.org/reply/email-subscriptions?...   \n",
       "1       2021-09-12  https://nanohub.org/reply/email-subscriptions?...   \n",
       "\n",
       "  new_prefs_expire__c  \n",
       "0          2021-09-12  \n",
       "1          2021-09-12  "
      ]
     },
     "metadata": {},
     "output_type": "display_data"
    },
    {
     "data": {
      "text/html": [
       "<div>\n",
       "<style scoped>\n",
       "    .dataframe tbody tr th:only-of-type {\n",
       "        vertical-align: middle;\n",
       "    }\n",
       "\n",
       "    .dataframe tbody tr th {\n",
       "        vertical-align: top;\n",
       "    }\n",
       "\n",
       "    .dataframe thead th {\n",
       "        text-align: right;\n",
       "    }\n",
       "</style>\n",
       "<table border=\"1\" class=\"dataframe\">\n",
       "  <thead>\n",
       "    <tr style=\"text-align: right;\">\n",
       "      <th></th>\n",
       "      <th>nanoHUB_user_ID__c</th>\n",
       "      <th>nh_use_survey_link__c</th>\n",
       "      <th>nh_use_expire__c</th>\n",
       "      <th>new_preferences_survey_url__c</th>\n",
       "      <th>new_prefs_expire__c</th>\n",
       "    </tr>\n",
       "  </thead>\n",
       "  <tbody>\n",
       "    <tr>\n",
       "      <th>248866</th>\n",
       "      <td>1000</td>\n",
       "      <td>https://nanohub.org/reply/pages/2?code=ejjJycB...</td>\n",
       "      <td>2021-09-12 02:59:59</td>\n",
       "      <td>https://nanohub.org/reply/email-subscriptions?...</td>\n",
       "      <td>2021-08-18 14:31:42</td>\n",
       "    </tr>\n",
       "    <tr>\n",
       "      <th>248867</th>\n",
       "      <td>998</td>\n",
       "      <td>https://nanohub.org/reply/pages/2?code=rWB03ln...</td>\n",
       "      <td>2021-09-12 02:59:59</td>\n",
       "      <td>https://nanohub.org/reply/email-subscriptions?...</td>\n",
       "      <td>2021-08-18 14:31:42</td>\n",
       "    </tr>\n",
       "  </tbody>\n",
       "</table>\n",
       "</div>"
      ],
      "text/plain": [
       "        nanoHUB_user_ID__c                              nh_use_survey_link__c  \\\n",
       "248866                1000  https://nanohub.org/reply/pages/2?code=ejjJycB...   \n",
       "248867                 998  https://nanohub.org/reply/pages/2?code=rWB03ln...   \n",
       "\n",
       "          nh_use_expire__c                      new_preferences_survey_url__c  \\\n",
       "248866 2021-09-12 02:59:59  https://nanohub.org/reply/email-subscriptions?...   \n",
       "248867 2021-09-12 02:59:59  https://nanohub.org/reply/email-subscriptions?...   \n",
       "\n",
       "       new_prefs_expire__c  \n",
       "248866 2021-08-18 14:31:42  \n",
       "248867 2021-08-18 14:31:42  "
      ]
     },
     "metadata": {},
     "output_type": "display_data"
    }
   ],
   "source": [
    "display(unif_df.head(2))\n",
    "display(unif_df.tail(2))"
   ]
  },
  {
   "cell_type": "markdown",
   "id": "68d5bee1",
   "metadata": {
    "papermill": {
     "duration": 0.052476,
     "end_time": "2021-08-26T04:41:07.584907",
     "exception": false,
     "start_time": "2021-08-26T04:41:07.532431",
     "status": "completed"
    },
    "tags": []
   },
   "source": [
    "## Send to SF"
   ]
  },
  {
   "cell_type": "code",
   "execution_count": null,
   "id": "8e0188df",
   "metadata": {
    "execution": {
     "iopub.execute_input": "2021-01-21T08:30:06.197020Z",
     "iopub.status.busy": "2021-01-21T08:30:06.196492Z",
     "iopub.status.idle": "2021-01-21T08:30:06.566904Z",
     "shell.execute_reply": "2021-01-21T08:30:06.567578Z"
    },
    "jupyter": {
     "source_hidden": true
    },
    "papermill": {
     "duration": 0.051631,
     "end_time": "2021-08-26T04:41:07.688164",
     "exception": false,
     "start_time": "2021-08-26T04:41:07.636533",
     "status": "completed"
    },
    "tags": []
   },
   "outputs": [],
   "source": []
  },
  {
   "cell_type": "code",
   "execution_count": 12,
   "id": "60b458cc",
   "metadata": {
    "execution": {
     "iopub.execute_input": "2021-08-26T04:41:07.807149Z",
     "iopub.status.busy": "2021-08-26T04:41:07.805674Z",
     "iopub.status.idle": "2021-08-26T04:42:43.139060Z",
     "shell.execute_reply": "2021-08-26T04:42:43.139822Z"
    },
    "jupyter": {
     "source_hidden": true
    },
    "papermill": {
     "duration": 95.393909,
     "end_time": "2021-08-26T04:42:43.140134",
     "exception": false,
     "start_time": "2021-08-26T04:41:07.746225",
     "status": "completed"
    },
    "tags": []
   },
   "outputs": [
    {
     "name": "stdout",
     "output_type": "stream",
     "text": [
      "[Success] Bulk job creation successful. Job ID = 7505w00000ZJL5yAAH\n",
      "hello\n"
     ]
    },
    {
     "name": "stdout",
     "output_type": "stream",
     "text": [
      "[Success] CSV upload successful. Job ID = 7505w00000ZJL5yAAH\n"
     ]
    },
    {
     "name": "stdout",
     "output_type": "stream",
     "text": [
      "[Success] Closing job successful. Job ID = 7505w00000ZJL5yAAH\n"
     ]
    }
   ],
   "source": [
    "db_s.object_id = object_id\n",
    "db_s.external_id = external_id\n",
    "\n",
    "# send data to Salesforce\n",
    "db_s.send_data(unif_df)"
   ]
  },
  {
   "cell_type": "code",
   "execution_count": 13,
   "id": "1241cd9b",
   "metadata": {
    "execution": {
     "iopub.execute_input": "2021-08-26T04:42:43.248039Z",
     "iopub.status.busy": "2021-08-26T04:42:43.247116Z",
     "iopub.status.idle": "2021-08-26T04:42:43.580270Z",
     "shell.execute_reply": "2021-08-26T04:42:43.580949Z"
    },
    "jupyter": {
     "source_hidden": true
    },
    "papermill": {
     "duration": 0.386275,
     "end_time": "2021-08-26T04:42:43.581236",
     "exception": false,
     "start_time": "2021-08-26T04:42:43.194961",
     "status": "completed"
    },
    "tags": []
   },
   "outputs": [
    {
     "data": {
      "text/plain": [
       "{'id': '7505w00000ZJL5yAAH',\n",
       " 'operation': 'upsert',\n",
       " 'object': 'Contact',\n",
       " 'createdById': '0055w00000DM5bOAAT',\n",
       " 'createdDate': '2021-08-26T04:41:08.000+0000',\n",
       " 'systemModstamp': '2021-08-26T04:42:43.000+0000',\n",
       " 'state': 'UploadComplete',\n",
       " 'externalIdFieldName': 'nanoHUB_user_ID__c',\n",
       " 'concurrencyMode': 'Parallel',\n",
       " 'contentType': 'CSV',\n",
       " 'apiVersion': 47.0,\n",
       " 'jobType': 'V2Ingest',\n",
       " 'lineEnding': 'LF',\n",
       " 'columnDelimiter': 'COMMA',\n",
       " 'numberRecordsProcessed': 0,\n",
       " 'numberRecordsFailed': 0,\n",
       " 'retries': 0,\n",
       " 'totalProcessingTime': 0,\n",
       " 'apiActiveProcessingTime': 0,\n",
       " 'apexProcessingTime': 0}"
      ]
     },
     "execution_count": 13,
     "metadata": {},
     "output_type": "execute_result"
    }
   ],
   "source": [
    "# check status\n",
    "db_s.check_bulk_status()"
   ]
  },
  {
   "cell_type": "code",
   "execution_count": 14,
   "id": "881d64df",
   "metadata": {
    "execution": {
     "iopub.execute_input": "2021-08-26T04:42:43.688695Z",
     "iopub.status.busy": "2021-08-26T04:42:43.687905Z",
     "iopub.status.idle": "2021-08-26T04:42:43.901891Z",
     "shell.execute_reply": "2021-08-26T04:42:43.902746Z"
    },
    "jupyter": {
     "source_hidden": true
    },
    "papermill": {
     "duration": 0.268339,
     "end_time": "2021-08-26T04:42:43.903012",
     "exception": false,
     "start_time": "2021-08-26T04:42:43.634673",
     "status": "completed"
    },
    "tags": []
   },
   "outputs": [
    {
     "name": "stdout",
     "output_type": "stream",
     "text": [
      "''\n"
     ]
    }
   ],
   "source": [
    "# check status\n",
    "from pprint import pprint\n",
    "\n",
    "pprint(db_s.check_bulk_failed_results())"
   ]
  },
  {
   "cell_type": "code",
   "execution_count": null,
   "id": "badee212",
   "metadata": {
    "jupyter": {
     "source_hidden": true
    },
    "papermill": {
     "duration": 0.050678,
     "end_time": "2021-08-26T04:42:44.013709",
     "exception": false,
     "start_time": "2021-08-26T04:42:43.963031",
     "status": "completed"
    },
    "tags": []
   },
   "outputs": [],
   "source": []
  }
 ],
 "metadata": {
  "kernelspec": {
   "display_name": "Python 3",
   "language": "python",
   "name": "python3"
  },
  "language_info": {
   "codemirror_mode": {
    "name": "ipython",
    "version": 3
   },
   "file_extension": ".py",
   "mimetype": "text/x-python",
   "name": "python",
   "nbconvert_exporter": "python",
   "pygments_lexer": "ipython3",
   "version": "3.8.2"
  },
  "papermill": {
   "duration": 118.830545,
   "end_time": "2021-08-26T04:42:44.482675",
   "environment_variables": {},
   "exception": null,
   "input_path": "nanoHUB/pipeline/salesforce/task_nh_survey_urls.ipynb",
   "output_path": "./.output/task_nh_survey_urls.ipynb",
   "parameters": {},
   "start_time": "2021-08-26T04:40:45.652130",
   "version": "2.1.1"
  }
 },
 "nbformat": 4,
 "nbformat_minor": 5
}