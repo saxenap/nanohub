{
 "cells": [
  {
   "cell_type": "markdown",
   "id": "c5708256",
   "metadata": {
    "papermill": {
     "duration": 0.049546,
     "end_time": "2021-10-22T11:57:13.165998",
     "exception": false,
     "start_time": "2021-10-22T11:57:13.116452",
     "status": "completed"
    },
    "tags": []
   },
   "source": [
    "# DB2-Salesforce populate survey URLs obtain from DB2"
   ]
  },
  {
   "cell_type": "code",
   "execution_count": 1,
   "id": "a902faa2",
   "metadata": {
    "execution": {
     "iopub.execute_input": "2021-10-22T11:57:13.234897Z",
     "iopub.status.busy": "2021-10-22T11:57:13.234105Z",
     "iopub.status.idle": "2021-10-22T11:57:14.751183Z",
     "shell.execute_reply": "2021-10-22T11:57:14.752123Z"
    },
    "jupyter": {
     "source_hidden": true
    },
    "papermill": {
     "duration": 1.556617,
     "end_time": "2021-10-22T11:57:14.752815",
     "exception": false,
     "start_time": "2021-10-22T11:57:13.196198",
     "status": "completed"
    },
    "tags": []
   },
   "outputs": [
    {
     "name": "stdout",
     "output_type": "stream",
     "text": [
      "\u001b[1mnanoHUB - Serving Students, Researchers & Instructors\u001b[0m\n"
     ]
    },
    {
     "name": "stdout",
     "output_type": "stream",
     "text": [
      "Obtained Salesforce access token ...... True\n"
     ]
    }
   ],
   "source": [
    "# Parameters\n",
    "# API settings\n",
    "api_url = '/services/data/v43.0/sobjects'\n",
    "external_id = 'nanoHUB_user_ID__c'\n",
    "object_id = 'Contact'\n",
    "\n",
    "# login parameters to be handled by Papermill\n",
    "from nanoHUB.application import Application\n",
    "\n",
    "application = Application.get_instance()\n",
    "nanohub_db = application.new_db_engine('nanohub')\n",
    "\n",
    "salesforce = application.new_salesforce_engine()\n",
    "db_s = salesforce"
   ]
  },
  {
   "cell_type": "code",
   "execution_count": 2,
   "id": "df1b8f15",
   "metadata": {
    "execution": {
     "iopub.execute_input": "2021-10-22T11:57:14.828433Z",
     "iopub.status.busy": "2021-10-22T11:57:14.827890Z",
     "iopub.status.idle": "2021-10-22T11:57:14.830295Z",
     "shell.execute_reply": "2021-10-22T11:57:14.830791Z"
    },
    "jupyter": {
     "source_hidden": true
    },
    "papermill": {
     "duration": 0.037466,
     "end_time": "2021-10-22T11:57:14.831026",
     "exception": false,
     "start_time": "2021-10-22T11:57:14.793560",
     "status": "completed"
    },
    "tags": []
   },
   "outputs": [],
   "source": [
    "import pandas as pd\n",
    "import datetime"
   ]
  },
  {
   "cell_type": "markdown",
   "id": "58940bbb",
   "metadata": {
    "papermill": {
     "duration": 0.030927,
     "end_time": "2021-10-22T11:57:14.892423",
     "exception": false,
     "start_time": "2021-10-22T11:57:14.861496",
     "status": "completed"
    },
    "tags": []
   },
   "source": [
    "## Get the URL code from DB2\n"
   ]
  },
  {
   "cell_type": "code",
   "execution_count": 3,
   "id": "c547579f",
   "metadata": {
    "execution": {
     "iopub.execute_input": "2021-10-22T11:57:14.956564Z",
     "iopub.status.busy": "2021-10-22T11:57:14.956014Z",
     "iopub.status.idle": "2021-10-22T11:57:30.011977Z",
     "shell.execute_reply": "2021-10-22T11:57:30.012336Z"
    },
    "jupyter": {
     "source_hidden": true
    },
    "papermill": {
     "duration": 15.090924,
     "end_time": "2021-10-22T11:57:30.012660",
     "exception": false,
     "start_time": "2021-10-22T11:57:14.921736",
     "status": "completed"
    },
    "tags": []
   },
   "outputs": [],
   "source": [
    "# page_id indicates the question\n",
    "url_code_df = pd.read_sql_query(\"select user_id, code, expiration from jos_reply_access_codes \\\n",
    "where page_id = 2 order by user_id desc;\",nanohub_db) #limit 5000\n",
    "\n",
    "new_pref_code_df = pd.read_sql_query(\"select user_id, code, expiration from jos_reply_access_codes \\\n",
    "where page_id = 1 order by user_id desc;\",nanohub_db) # limit 5000"
   ]
  },
  {
   "cell_type": "code",
   "execution_count": 4,
   "id": "b5e0aa80",
   "metadata": {
    "execution": {
     "iopub.execute_input": "2021-10-22T11:57:30.087647Z",
     "iopub.status.busy": "2021-10-22T11:57:30.086981Z",
     "iopub.status.idle": "2021-10-22T11:57:30.095390Z",
     "shell.execute_reply": "2021-10-22T11:57:30.095879Z"
    },
    "jupyter": {
     "source_hidden": true
    },
    "papermill": {
     "duration": 0.053399,
     "end_time": "2021-10-22T11:57:30.096126",
     "exception": false,
     "start_time": "2021-10-22T11:57:30.042727",
     "status": "completed"
    },
    "tags": []
   },
   "outputs": [
    {
     "data": {
      "text/html": [
       "<div>\n",
       "<style scoped>\n",
       "    .dataframe tbody tr th:only-of-type {\n",
       "        vertical-align: middle;\n",
       "    }\n",
       "\n",
       "    .dataframe tbody tr th {\n",
       "        vertical-align: top;\n",
       "    }\n",
       "\n",
       "    .dataframe thead th {\n",
       "        text-align: right;\n",
       "    }\n",
       "</style>\n",
       "<table border=\"1\" class=\"dataframe\">\n",
       "  <thead>\n",
       "    <tr style=\"text-align: right;\">\n",
       "      <th></th>\n",
       "      <th>user_id</th>\n",
       "      <th>code</th>\n",
       "      <th>expiration</th>\n",
       "    </tr>\n",
       "  </thead>\n",
       "  <tbody>\n",
       "    <tr>\n",
       "      <th>0</th>\n",
       "      <td>342930</td>\n",
       "      <td>bdc145cf177a99d7321679524e1cad79fabe7441e08b7e...</td>\n",
       "      <td>2021-12-31 23:59:59</td>\n",
       "    </tr>\n",
       "    <tr>\n",
       "      <th>1</th>\n",
       "      <td>342929</td>\n",
       "      <td>7ef8bcd7eb8c68c7d7917ce3f236f553c6d17fc7e44c4c...</td>\n",
       "      <td>2021-12-31 23:59:59</td>\n",
       "    </tr>\n",
       "  </tbody>\n",
       "</table>\n",
       "</div>"
      ],
      "text/plain": [
       "   user_id                                               code  \\\n",
       "0   342930  bdc145cf177a99d7321679524e1cad79fabe7441e08b7e...   \n",
       "1   342929  7ef8bcd7eb8c68c7d7917ce3f236f553c6d17fc7e44c4c...   \n",
       "\n",
       "           expiration  \n",
       "0 2021-12-31 23:59:59  \n",
       "1 2021-12-31 23:59:59  "
      ]
     },
     "metadata": {},
     "output_type": "display_data"
    }
   ],
   "source": [
    "display(url_code_df.head(2))"
   ]
  },
  {
   "cell_type": "code",
   "execution_count": 5,
   "id": "f83946f9",
   "metadata": {
    "execution": {
     "iopub.execute_input": "2021-10-22T11:57:30.168509Z",
     "iopub.status.busy": "2021-10-22T11:57:30.167861Z",
     "iopub.status.idle": "2021-10-22T11:57:30.209111Z",
     "shell.execute_reply": "2021-10-22T11:57:30.209612Z"
    },
    "jupyter": {
     "source_hidden": true
    },
    "papermill": {
     "duration": 0.082028,
     "end_time": "2021-10-22T11:57:30.209860",
     "exception": false,
     "start_time": "2021-10-22T11:57:30.127832",
     "status": "completed"
    },
    "tags": []
   },
   "outputs": [
    {
     "name": "stdout",
     "output_type": "stream",
     "text": [
      "https://nanohub.org/reply/pages/2?code=bdc145cf177a99d7321679524e1cad79fabe7441e08b7e40734a229c0fa44ada\n"
     ]
    }
   ],
   "source": [
    "## populating full url codes\n",
    "url_base = \"https://nanohub.org/reply/pages/2?code=\"\n",
    "\n",
    "from copy import deepcopy\n",
    "codes = deepcopy(url_code_df['code'])\n",
    "\n",
    "#import time\n",
    "#st = time.time()\n",
    "codes = codes.apply(lambda x: url_base+x)\n",
    "#tt = st-time.time()\n",
    "#print(tt)\n",
    "print(codes[0])\n"
   ]
  },
  {
   "cell_type": "code",
   "execution_count": 6,
   "id": "e0bc0ddb",
   "metadata": {
    "execution": {
     "iopub.execute_input": "2021-10-22T11:57:30.289632Z",
     "iopub.status.busy": "2021-10-22T11:57:30.288776Z",
     "iopub.status.idle": "2021-10-22T11:57:30.302659Z",
     "shell.execute_reply": "2021-10-22T11:57:30.303079Z"
    },
    "jupyter": {
     "source_hidden": true
    },
    "papermill": {
     "duration": 0.061186,
     "end_time": "2021-10-22T11:57:30.303321",
     "exception": false,
     "start_time": "2021-10-22T11:57:30.242135",
     "status": "completed"
    },
    "tags": []
   },
   "outputs": [
    {
     "data": {
      "text/html": [
       "<div>\n",
       "<style scoped>\n",
       "    .dataframe tbody tr th:only-of-type {\n",
       "        vertical-align: middle;\n",
       "    }\n",
       "\n",
       "    .dataframe tbody tr th {\n",
       "        vertical-align: top;\n",
       "    }\n",
       "\n",
       "    .dataframe thead th {\n",
       "        text-align: right;\n",
       "    }\n",
       "</style>\n",
       "<table border=\"1\" class=\"dataframe\">\n",
       "  <thead>\n",
       "    <tr style=\"text-align: right;\">\n",
       "      <th></th>\n",
       "      <th>nanoHUB_user_ID__c</th>\n",
       "      <th>nh_use_survey_link__c</th>\n",
       "      <th>expiration</th>\n",
       "    </tr>\n",
       "  </thead>\n",
       "  <tbody>\n",
       "    <tr>\n",
       "      <th>0</th>\n",
       "      <td>342930</td>\n",
       "      <td>https://nanohub.org/reply/pages/2?code=bdc145c...</td>\n",
       "      <td>2021-12-31 23:59:59</td>\n",
       "    </tr>\n",
       "    <tr>\n",
       "      <th>1</th>\n",
       "      <td>342929</td>\n",
       "      <td>https://nanohub.org/reply/pages/2?code=7ef8bcd...</td>\n",
       "      <td>2021-12-31 23:59:59</td>\n",
       "    </tr>\n",
       "  </tbody>\n",
       "</table>\n",
       "</div>"
      ],
      "text/plain": [
       "   nanoHUB_user_ID__c                              nh_use_survey_link__c  \\\n",
       "0              342930  https://nanohub.org/reply/pages/2?code=bdc145c...   \n",
       "1              342929  https://nanohub.org/reply/pages/2?code=7ef8bcd...   \n",
       "\n",
       "           expiration  \n",
       "0 2021-12-31 23:59:59  \n",
       "1 2021-12-31 23:59:59  "
      ]
     },
     "metadata": {},
     "output_type": "display_data"
    }
   ],
   "source": [
    "## add the new code to the dataframe\n",
    "url_code_df['code'] = codes\n",
    "url_code_df = url_code_df.rename(columns={\"user_id\": \"nanoHUB_user_ID__c\", \"code\":\"nh_use_survey_link__c\"})\n",
    "display(url_code_df.head(2))"
   ]
  },
  {
   "cell_type": "code",
   "execution_count": 7,
   "id": "c5ed08f5",
   "metadata": {
    "execution": {
     "iopub.execute_input": "2021-10-22T11:57:30.381722Z",
     "iopub.status.busy": "2021-10-22T11:57:30.381044Z",
     "iopub.status.idle": "2021-10-22T11:57:30.432288Z",
     "shell.execute_reply": "2021-10-22T11:57:30.432799Z"
    },
    "jupyter": {
     "source_hidden": true
    },
    "papermill": {
     "duration": 0.096117,
     "end_time": "2021-10-22T11:57:30.433029",
     "exception": false,
     "start_time": "2021-10-22T11:57:30.336912",
     "status": "completed"
    },
    "tags": []
   },
   "outputs": [
    {
     "name": "stdout",
     "output_type": "stream",
     "text": [
      "https://nanohub.org/reply/email-subscriptions?code=433cc1b94e56b73c3df84280b9316d7471a91f6970891312641ab768173a37ec\n"
     ]
    }
   ],
   "source": [
    "## determining the new url survey links\n",
    "url_base1 = 'https://nanohub.org/reply/email-subscriptions?code='\n",
    "\n",
    "codes = deepcopy(new_pref_code_df['code'])\n",
    "\n",
    "codes = codes.apply(lambda x: url_base1+x)\n",
    "\n",
    "print(codes[0])\n",
    "new_pref_code_df['code'] = codes"
   ]
  },
  {
   "cell_type": "code",
   "execution_count": 8,
   "id": "85f5a581",
   "metadata": {
    "execution": {
     "iopub.execute_input": "2021-10-22T11:57:30.509415Z",
     "iopub.status.busy": "2021-10-22T11:57:30.508558Z",
     "iopub.status.idle": "2021-10-22T11:57:30.511815Z",
     "shell.execute_reply": "2021-10-22T11:57:30.512240Z"
    },
    "jupyter": {
     "source_hidden": true
    },
    "papermill": {
     "duration": 0.045503,
     "end_time": "2021-10-22T11:57:30.512478",
     "exception": false,
     "start_time": "2021-10-22T11:57:30.466975",
     "status": "completed"
    },
    "tags": []
   },
   "outputs": [
    {
     "data": {
      "text/html": [
       "<div>\n",
       "<style scoped>\n",
       "    .dataframe tbody tr th:only-of-type {\n",
       "        vertical-align: middle;\n",
       "    }\n",
       "\n",
       "    .dataframe tbody tr th {\n",
       "        vertical-align: top;\n",
       "    }\n",
       "\n",
       "    .dataframe thead th {\n",
       "        text-align: right;\n",
       "    }\n",
       "</style>\n",
       "<table border=\"1\" class=\"dataframe\">\n",
       "  <thead>\n",
       "    <tr style=\"text-align: right;\">\n",
       "      <th></th>\n",
       "      <th>user_id</th>\n",
       "      <th>code</th>\n",
       "      <th>expiration</th>\n",
       "    </tr>\n",
       "  </thead>\n",
       "  <tbody>\n",
       "    <tr>\n",
       "      <th>0</th>\n",
       "      <td>342930</td>\n",
       "      <td>https://nanohub.org/reply/email-subscriptions?...</td>\n",
       "      <td>2021-12-31 23:59:59</td>\n",
       "    </tr>\n",
       "    <tr>\n",
       "      <th>1</th>\n",
       "      <td>342929</td>\n",
       "      <td>https://nanohub.org/reply/email-subscriptions?...</td>\n",
       "      <td>2021-12-31 23:59:59</td>\n",
       "    </tr>\n",
       "    <tr>\n",
       "      <th>2</th>\n",
       "      <td>342928</td>\n",
       "      <td>https://nanohub.org/reply/email-subscriptions?...</td>\n",
       "      <td>2021-12-31 23:59:59</td>\n",
       "    </tr>\n",
       "    <tr>\n",
       "      <th>3</th>\n",
       "      <td>342927</td>\n",
       "      <td>https://nanohub.org/reply/email-subscriptions?...</td>\n",
       "      <td>2021-12-31 23:59:59</td>\n",
       "    </tr>\n",
       "    <tr>\n",
       "      <th>4</th>\n",
       "      <td>342926</td>\n",
       "      <td>https://nanohub.org/reply/email-subscriptions?...</td>\n",
       "      <td>2021-12-31 23:59:59</td>\n",
       "    </tr>\n",
       "  </tbody>\n",
       "</table>\n",
       "</div>"
      ],
      "text/plain": [
       "   user_id                                               code  \\\n",
       "0   342930  https://nanohub.org/reply/email-subscriptions?...   \n",
       "1   342929  https://nanohub.org/reply/email-subscriptions?...   \n",
       "2   342928  https://nanohub.org/reply/email-subscriptions?...   \n",
       "3   342927  https://nanohub.org/reply/email-subscriptions?...   \n",
       "4   342926  https://nanohub.org/reply/email-subscriptions?...   \n",
       "\n",
       "           expiration  \n",
       "0 2021-12-31 23:59:59  \n",
       "1 2021-12-31 23:59:59  \n",
       "2 2021-12-31 23:59:59  \n",
       "3 2021-12-31 23:59:59  \n",
       "4 2021-12-31 23:59:59  "
      ]
     },
     "metadata": {},
     "output_type": "display_data"
    }
   ],
   "source": [
    "display(new_pref_code_df.head(5))"
   ]
  },
  {
   "cell_type": "code",
   "execution_count": 9,
   "id": "022120dc",
   "metadata": {
    "execution": {
     "iopub.execute_input": "2021-10-22T11:57:30.587953Z",
     "iopub.status.busy": "2021-10-22T11:57:30.587366Z",
     "iopub.status.idle": "2021-10-22T11:57:30.651353Z",
     "shell.execute_reply": "2021-10-22T11:57:30.651848Z"
    },
    "jupyter": {
     "source_hidden": true
    },
    "papermill": {
     "duration": 0.106233,
     "end_time": "2021-10-22T11:57:30.652087",
     "exception": false,
     "start_time": "2021-10-22T11:57:30.545854",
     "status": "completed"
    },
    "tags": []
   },
   "outputs": [
    {
     "data": {
      "text/html": [
       "<div>\n",
       "<style scoped>\n",
       "    .dataframe tbody tr th:only-of-type {\n",
       "        vertical-align: middle;\n",
       "    }\n",
       "\n",
       "    .dataframe tbody tr th {\n",
       "        vertical-align: top;\n",
       "    }\n",
       "\n",
       "    .dataframe thead th {\n",
       "        text-align: right;\n",
       "    }\n",
       "</style>\n",
       "<table border=\"1\" class=\"dataframe\">\n",
       "  <thead>\n",
       "    <tr style=\"text-align: right;\">\n",
       "      <th></th>\n",
       "      <th>nanoHUB_user_ID__c</th>\n",
       "      <th>nh_use_survey_link__c</th>\n",
       "      <th>expiration_x</th>\n",
       "      <th>user_id</th>\n",
       "      <th>code</th>\n",
       "      <th>expiration_y</th>\n",
       "    </tr>\n",
       "  </thead>\n",
       "  <tbody>\n",
       "    <tr>\n",
       "      <th>0</th>\n",
       "      <td>342930</td>\n",
       "      <td>https://nanohub.org/reply/pages/2?code=bdc145c...</td>\n",
       "      <td>2021-12-31 23:59:59</td>\n",
       "      <td>342930</td>\n",
       "      <td>https://nanohub.org/reply/email-subscriptions?...</td>\n",
       "      <td>2021-12-31 23:59:59</td>\n",
       "    </tr>\n",
       "    <tr>\n",
       "      <th>1</th>\n",
       "      <td>342929</td>\n",
       "      <td>https://nanohub.org/reply/pages/2?code=7ef8bcd...</td>\n",
       "      <td>2021-12-31 23:59:59</td>\n",
       "      <td>342929</td>\n",
       "      <td>https://nanohub.org/reply/email-subscriptions?...</td>\n",
       "      <td>2021-12-31 23:59:59</td>\n",
       "    </tr>\n",
       "  </tbody>\n",
       "</table>\n",
       "</div>"
      ],
      "text/plain": [
       "   nanoHUB_user_ID__c                              nh_use_survey_link__c  \\\n",
       "0              342930  https://nanohub.org/reply/pages/2?code=bdc145c...   \n",
       "1              342929  https://nanohub.org/reply/pages/2?code=7ef8bcd...   \n",
       "\n",
       "         expiration_x  user_id  \\\n",
       "0 2021-12-31 23:59:59   342930   \n",
       "1 2021-12-31 23:59:59   342929   \n",
       "\n",
       "                                                code        expiration_y  \n",
       "0  https://nanohub.org/reply/email-subscriptions?... 2021-12-31 23:59:59  \n",
       "1  https://nanohub.org/reply/email-subscriptions?... 2021-12-31 23:59:59  "
      ]
     },
     "metadata": {},
     "output_type": "display_data"
    },
    {
     "data": {
      "text/html": [
       "<div>\n",
       "<style scoped>\n",
       "    .dataframe tbody tr th:only-of-type {\n",
       "        vertical-align: middle;\n",
       "    }\n",
       "\n",
       "    .dataframe tbody tr th {\n",
       "        vertical-align: top;\n",
       "    }\n",
       "\n",
       "    .dataframe thead th {\n",
       "        text-align: right;\n",
       "    }\n",
       "</style>\n",
       "<table border=\"1\" class=\"dataframe\">\n",
       "  <thead>\n",
       "    <tr style=\"text-align: right;\">\n",
       "      <th></th>\n",
       "      <th>nanoHUB_user_ID__c</th>\n",
       "      <th>nh_use_survey_link__c</th>\n",
       "      <th>expiration_x</th>\n",
       "      <th>user_id</th>\n",
       "      <th>code</th>\n",
       "      <th>expiration_y</th>\n",
       "    </tr>\n",
       "  </thead>\n",
       "  <tbody>\n",
       "    <tr>\n",
       "      <th>254206</th>\n",
       "      <td>1000</td>\n",
       "      <td>https://nanohub.org/reply/pages/2?code=ejjJycB...</td>\n",
       "      <td>2021-12-31 23:59:59</td>\n",
       "      <td>1000</td>\n",
       "      <td>https://nanohub.org/reply/email-subscriptions?...</td>\n",
       "      <td>2021-12-31 23:59:59</td>\n",
       "    </tr>\n",
       "    <tr>\n",
       "      <th>254207</th>\n",
       "      <td>998</td>\n",
       "      <td>https://nanohub.org/reply/pages/2?code=rWB03ln...</td>\n",
       "      <td>2021-12-31 23:59:59</td>\n",
       "      <td>998</td>\n",
       "      <td>https://nanohub.org/reply/email-subscriptions?...</td>\n",
       "      <td>2021-12-31 23:59:59</td>\n",
       "    </tr>\n",
       "  </tbody>\n",
       "</table>\n",
       "</div>"
      ],
      "text/plain": [
       "        nanoHUB_user_ID__c                              nh_use_survey_link__c  \\\n",
       "254206                1000  https://nanohub.org/reply/pages/2?code=ejjJycB...   \n",
       "254207                 998  https://nanohub.org/reply/pages/2?code=rWB03ln...   \n",
       "\n",
       "              expiration_x  user_id  \\\n",
       "254206 2021-12-31 23:59:59     1000   \n",
       "254207 2021-12-31 23:59:59      998   \n",
       "\n",
       "                                                     code        expiration_y  \n",
       "254206  https://nanohub.org/reply/email-subscriptions?... 2021-12-31 23:59:59  \n",
       "254207  https://nanohub.org/reply/email-subscriptions?... 2021-12-31 23:59:59  "
      ]
     },
     "metadata": {},
     "output_type": "display_data"
    }
   ],
   "source": [
    "# expiration dates can be different, so do a left join instead of \"url_code_df['new_preferences_survey_url__c'] = codes\"\n",
    "unif_df = pd.merge(url_code_df,new_pref_code_df,how='left',right_on='user_id',left_on='nanoHUB_user_ID__c')\n",
    "\n",
    "display(unif_df.head(2))\n",
    "display(unif_df.tail(2))"
   ]
  },
  {
   "cell_type": "code",
   "execution_count": 10,
   "id": "fe25b502",
   "metadata": {
    "execution": {
     "iopub.execute_input": "2021-10-22T11:57:30.737152Z",
     "iopub.status.busy": "2021-10-22T11:57:30.734634Z",
     "iopub.status.idle": "2021-10-22T11:57:30.775512Z",
     "shell.execute_reply": "2021-10-22T11:57:30.775916Z"
    },
    "jupyter": {
     "source_hidden": true
    },
    "papermill": {
     "duration": 0.084232,
     "end_time": "2021-10-22T11:57:30.776251",
     "exception": false,
     "start_time": "2021-10-22T11:57:30.692019",
     "status": "completed"
    },
    "tags": []
   },
   "outputs": [],
   "source": [
    "# some formatting for SF\n",
    "unif_df = unif_df.rename(columns={'expiration_x':'nh_use_expire__c',\\\n",
    "                'code':'new_preferences_survey_url__c','expiration_y':'new_prefs_expire__c'})\n",
    "unif_df = unif_df.drop(columns=['user_id']) #unified_dataframe"
   ]
  },
  {
   "cell_type": "code",
   "execution_count": 11,
   "id": "96096e6b",
   "metadata": {
    "execution": {
     "iopub.execute_input": "2021-10-22T11:57:30.861643Z",
     "iopub.status.busy": "2021-10-22T11:57:30.861083Z",
     "iopub.status.idle": "2021-10-22T11:57:30.868526Z",
     "shell.execute_reply": "2021-10-22T11:57:30.869053Z"
    },
    "jupyter": {
     "source_hidden": true
    },
    "papermill": {
     "duration": 0.054384,
     "end_time": "2021-10-22T11:57:30.869309",
     "exception": false,
     "start_time": "2021-10-22T11:57:30.814925",
     "status": "completed"
    },
    "tags": []
   },
   "outputs": [
    {
     "data": {
      "text/html": [
       "<div>\n",
       "<style scoped>\n",
       "    .dataframe tbody tr th:only-of-type {\n",
       "        vertical-align: middle;\n",
       "    }\n",
       "\n",
       "    .dataframe tbody tr th {\n",
       "        vertical-align: top;\n",
       "    }\n",
       "\n",
       "    .dataframe thead th {\n",
       "        text-align: right;\n",
       "    }\n",
       "</style>\n",
       "<table border=\"1\" class=\"dataframe\">\n",
       "  <thead>\n",
       "    <tr style=\"text-align: right;\">\n",
       "      <th></th>\n",
       "      <th>nanoHUB_user_ID__c</th>\n",
       "      <th>nh_use_survey_link__c</th>\n",
       "      <th>nh_use_expire__c</th>\n",
       "      <th>new_preferences_survey_url__c</th>\n",
       "      <th>new_prefs_expire__c</th>\n",
       "    </tr>\n",
       "  </thead>\n",
       "  <tbody>\n",
       "    <tr>\n",
       "      <th>0</th>\n",
       "      <td>342930</td>\n",
       "      <td>https://nanohub.org/reply/pages/2?code=bdc145c...</td>\n",
       "      <td>2021-12-31 23:59:59</td>\n",
       "      <td>https://nanohub.org/reply/email-subscriptions?...</td>\n",
       "      <td>2021-12-31 23:59:59</td>\n",
       "    </tr>\n",
       "    <tr>\n",
       "      <th>1</th>\n",
       "      <td>342929</td>\n",
       "      <td>https://nanohub.org/reply/pages/2?code=7ef8bcd...</td>\n",
       "      <td>2021-12-31 23:59:59</td>\n",
       "      <td>https://nanohub.org/reply/email-subscriptions?...</td>\n",
       "      <td>2021-12-31 23:59:59</td>\n",
       "    </tr>\n",
       "  </tbody>\n",
       "</table>\n",
       "</div>"
      ],
      "text/plain": [
       "   nanoHUB_user_ID__c                              nh_use_survey_link__c  \\\n",
       "0              342930  https://nanohub.org/reply/pages/2?code=bdc145c...   \n",
       "1              342929  https://nanohub.org/reply/pages/2?code=7ef8bcd...   \n",
       "\n",
       "     nh_use_expire__c                      new_preferences_survey_url__c  \\\n",
       "0 2021-12-31 23:59:59  https://nanohub.org/reply/email-subscriptions?...   \n",
       "1 2021-12-31 23:59:59  https://nanohub.org/reply/email-subscriptions?...   \n",
       "\n",
       "  new_prefs_expire__c  \n",
       "0 2021-12-31 23:59:59  \n",
       "1 2021-12-31 23:59:59  "
      ]
     },
     "metadata": {},
     "output_type": "display_data"
    },
    {
     "data": {
      "text/html": [
       "<div>\n",
       "<style scoped>\n",
       "    .dataframe tbody tr th:only-of-type {\n",
       "        vertical-align: middle;\n",
       "    }\n",
       "\n",
       "    .dataframe tbody tr th {\n",
       "        vertical-align: top;\n",
       "    }\n",
       "\n",
       "    .dataframe thead th {\n",
       "        text-align: right;\n",
       "    }\n",
       "</style>\n",
       "<table border=\"1\" class=\"dataframe\">\n",
       "  <thead>\n",
       "    <tr style=\"text-align: right;\">\n",
       "      <th></th>\n",
       "      <th>nanoHUB_user_ID__c</th>\n",
       "      <th>nh_use_survey_link__c</th>\n",
       "      <th>nh_use_expire__c</th>\n",
       "      <th>new_preferences_survey_url__c</th>\n",
       "      <th>new_prefs_expire__c</th>\n",
       "    </tr>\n",
       "  </thead>\n",
       "  <tbody>\n",
       "    <tr>\n",
       "      <th>254206</th>\n",
       "      <td>1000</td>\n",
       "      <td>https://nanohub.org/reply/pages/2?code=ejjJycB...</td>\n",
       "      <td>2021-12-31 23:59:59</td>\n",
       "      <td>https://nanohub.org/reply/email-subscriptions?...</td>\n",
       "      <td>2021-12-31 23:59:59</td>\n",
       "    </tr>\n",
       "    <tr>\n",
       "      <th>254207</th>\n",
       "      <td>998</td>\n",
       "      <td>https://nanohub.org/reply/pages/2?code=rWB03ln...</td>\n",
       "      <td>2021-12-31 23:59:59</td>\n",
       "      <td>https://nanohub.org/reply/email-subscriptions?...</td>\n",
       "      <td>2021-12-31 23:59:59</td>\n",
       "    </tr>\n",
       "  </tbody>\n",
       "</table>\n",
       "</div>"
      ],
      "text/plain": [
       "        nanoHUB_user_ID__c                              nh_use_survey_link__c  \\\n",
       "254206                1000  https://nanohub.org/reply/pages/2?code=ejjJycB...   \n",
       "254207                 998  https://nanohub.org/reply/pages/2?code=rWB03ln...   \n",
       "\n",
       "          nh_use_expire__c                      new_preferences_survey_url__c  \\\n",
       "254206 2021-12-31 23:59:59  https://nanohub.org/reply/email-subscriptions?...   \n",
       "254207 2021-12-31 23:59:59  https://nanohub.org/reply/email-subscriptions?...   \n",
       "\n",
       "       new_prefs_expire__c  \n",
       "254206 2021-12-31 23:59:59  \n",
       "254207 2021-12-31 23:59:59  "
      ]
     },
     "metadata": {},
     "output_type": "display_data"
    }
   ],
   "source": [
    "display(unif_df.head(2))\n",
    "display(unif_df.tail(2))"
   ]
  },
  {
   "cell_type": "markdown",
   "id": "1d044f99",
   "metadata": {
    "papermill": {
     "duration": 0.039751,
     "end_time": "2021-10-22T11:57:30.949278",
     "exception": false,
     "start_time": "2021-10-22T11:57:30.909527",
     "status": "completed"
    },
    "tags": []
   },
   "source": [
    "## Send to SF"
   ]
  },
  {
   "cell_type": "code",
   "execution_count": null,
   "id": "666f7797",
   "metadata": {
    "execution": {
     "iopub.execute_input": "2021-01-21T08:30:06.197020Z",
     "iopub.status.busy": "2021-01-21T08:30:06.196492Z",
     "iopub.status.idle": "2021-01-21T08:30:06.566904Z",
     "shell.execute_reply": "2021-01-21T08:30:06.567578Z"
    },
    "jupyter": {
     "source_hidden": true
    },
    "papermill": {
     "duration": 0.037377,
     "end_time": "2021-10-22T11:57:31.023806",
     "exception": false,
     "start_time": "2021-10-22T11:57:30.986429",
     "status": "completed"
    },
    "tags": []
   },
   "outputs": [],
   "source": []
  },
  {
   "cell_type": "code",
   "execution_count": 12,
   "id": "8acf5549",
   "metadata": {
    "execution": {
     "iopub.execute_input": "2021-10-22T11:57:31.103129Z",
     "iopub.status.busy": "2021-10-22T11:57:31.102239Z",
     "iopub.status.idle": "2021-10-22T11:59:06.266802Z",
     "shell.execute_reply": "2021-10-22T11:59:06.267613Z"
    },
    "jupyter": {
     "source_hidden": true
    },
    "papermill": {
     "duration": 95.20803,
     "end_time": "2021-10-22T11:59:06.267952",
     "exception": false,
     "start_time": "2021-10-22T11:57:31.059922",
     "status": "completed"
    },
    "tags": []
   },
   "outputs": [
    {
     "name": "stdout",
     "output_type": "stream",
     "text": [
      "[Success] Bulk job creation successful. Job ID = 7505w00000b1ooVAAQ\n",
      "hello\n"
     ]
    },
    {
     "name": "stdout",
     "output_type": "stream",
     "text": [
      "[Success] CSV upload successful. Job ID = 7505w00000b1ooVAAQ\n"
     ]
    },
    {
     "name": "stdout",
     "output_type": "stream",
     "text": [
      "[Success] Closing job successful. Job ID = 7505w00000b1ooVAAQ\n"
     ]
    }
   ],
   "source": [
    "db_s.object_id = object_id\n",
    "db_s.external_id = external_id\n",
    "\n",
    "# send data to Salesforce\n",
    "db_s.send_data(unif_df)"
   ]
  },
  {
   "cell_type": "code",
   "execution_count": 13,
   "id": "c7489690",
   "metadata": {
    "execution": {
     "iopub.execute_input": "2021-10-22T11:59:06.368678Z",
     "iopub.status.busy": "2021-10-22T11:59:06.368076Z",
     "iopub.status.idle": "2021-10-22T11:59:06.698165Z",
     "shell.execute_reply": "2021-10-22T11:59:06.697315Z"
    },
    "jupyter": {
     "source_hidden": true
    },
    "papermill": {
     "duration": 0.379512,
     "end_time": "2021-10-22T11:59:06.698687",
     "exception": false,
     "start_time": "2021-10-22T11:59:06.319175",
     "status": "completed"
    },
    "tags": []
   },
   "outputs": [
    {
     "data": {
      "text/plain": [
       "{'id': '7505w00000b1ooVAAQ',\n",
       " 'operation': 'upsert',\n",
       " 'object': 'Contact',\n",
       " 'createdById': '0055w00000DM5bOAAT',\n",
       " 'createdDate': '2021-10-22T11:57:31.000+0000',\n",
       " 'systemModstamp': '2021-10-22T11:59:06.000+0000',\n",
       " 'state': 'UploadComplete',\n",
       " 'externalIdFieldName': 'nanoHUB_user_ID__c',\n",
       " 'concurrencyMode': 'Parallel',\n",
       " 'contentType': 'CSV',\n",
       " 'apiVersion': 47.0,\n",
       " 'jobType': 'V2Ingest',\n",
       " 'lineEnding': 'LF',\n",
       " 'columnDelimiter': 'COMMA',\n",
       " 'numberRecordsProcessed': 0,\n",
       " 'numberRecordsFailed': 0,\n",
       " 'retries': 0,\n",
       " 'totalProcessingTime': 0,\n",
       " 'apiActiveProcessingTime': 0,\n",
       " 'apexProcessingTime': 0}"
      ]
     },
     "execution_count": 13,
     "metadata": {},
     "output_type": "execute_result"
    }
   ],
   "source": [
    "# check status\n",
    "db_s.check_bulk_status()"
   ]
  },
  {
   "cell_type": "code",
   "execution_count": 14,
   "id": "5cd9781d",
   "metadata": {
    "execution": {
     "iopub.execute_input": "2021-10-22T11:59:06.799307Z",
     "iopub.status.busy": "2021-10-22T11:59:06.798524Z",
     "iopub.status.idle": "2021-10-22T11:59:07.492047Z",
     "shell.execute_reply": "2021-10-22T11:59:07.492898Z"
    },
    "jupyter": {
     "source_hidden": true
    },
    "papermill": {
     "duration": 0.743181,
     "end_time": "2021-10-22T11:59:07.493500",
     "exception": false,
     "start_time": "2021-10-22T11:59:06.750319",
     "status": "completed"
    },
    "tags": []
   },
   "outputs": [
    {
     "name": "stdout",
     "output_type": "stream",
     "text": [
      "''\n"
     ]
    }
   ],
   "source": [
    "# check status\n",
    "from pprint import pprint\n",
    "\n",
    "pprint(db_s.check_bulk_failed_results())"
   ]
  },
  {
   "cell_type": "code",
   "execution_count": null,
   "id": "70f19c71",
   "metadata": {
    "jupyter": {
     "source_hidden": true
    },
    "papermill": {
     "duration": 0.047513,
     "end_time": "2021-10-22T11:59:07.595755",
     "exception": false,
     "start_time": "2021-10-22T11:59:07.548242",
     "status": "completed"
    },
    "tags": []
   },
   "outputs": [],
   "source": []
  }
 ],
 "metadata": {
  "kernelspec": {
   "display_name": "Python 3",
   "language": "python",
   "name": "python3"
  },
  "language_info": {
   "codemirror_mode": {
    "name": "ipython",
    "version": 3
   },
   "file_extension": ".py",
   "mimetype": "text/x-python",
   "name": "python",
   "nbconvert_exporter": "python",
   "pygments_lexer": "ipython3",
   "version": "3.9.7"
  },
  "papermill": {
   "duration": 115.733596,
   "end_time": "2021-10-22T11:59:07.973763",
   "environment_variables": {},
   "exception": null,
   "input_path": "/Users/saxenap/Documents/Dev/nanoHUB/nanoHUB/pipeline/salesforce/task_nh_survey_urls.ipynb",
   "output_path": "./.output/task_nh_survey_urls.ipynb",
   "parameters": {},
   "start_time": "2021-10-22T11:57:12.240167",
   "version": "2.1.1"
  }
 },
 "nbformat": 4,
 "nbformat_minor": 5
}